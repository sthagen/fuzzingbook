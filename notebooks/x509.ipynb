{
 "cells": [
  {
   "cell_type": "markdown",
   "id": "efda53c4-6b13-41c4-b984-f00fc7f8e700",
   "metadata": {},
   "source": [
    "# Fuzzing Certificates"
   ]
  },
  {
   "cell_type": "markdown",
   "id": "27bfa451-6b4a-4924-89ea-d1240ea4b1ec",
   "metadata": {},
   "source": [
    "In this notebook, I will try to decipher and fuzz digital certificates, also known as x.509 certificates."
   ]
  },
  {
   "cell_type": "code",
   "execution_count": null,
   "id": "c4ed1bb4-cc7a-4d0f-964a-5fbb22723ec0",
   "metadata": {},
   "outputs": [],
   "source": [
    "import bookutils"
   ]
  },
  {
   "cell_type": "markdown",
   "id": "6bfacea2-ceb8-41aa-aac8-72f77f0d225f",
   "metadata": {},
   "source": [
    "We'll start by _parsing_ certificates."
   ]
  },
  {
   "cell_type": "markdown",
   "id": "2efb7edc-a749-4c01-b5cc-314ac05f658d",
   "metadata": {},
   "source": [
    "## Human-Readable Certificates"
   ]
  },
  {
   "cell_type": "markdown",
   "id": "e8cecda4-2ccd-46c2-94f9-72e384f1df7e",
   "metadata": {},
   "source": [
    "This is my certificate, coming in PEM format."
   ]
  },
  {
   "cell_type": "code",
   "execution_count": null,
   "id": "a164a8b4-b4a9-4e04-b0e3-43bf4c09db9c",
   "metadata": {},
   "outputs": [],
   "source": [
    "CERT_PEM = '''\n",
    "-----BEGIN CERTIFICATE-----\n",
    "MIIGGDCCBQCgAwIBAgIMJGWlX/uTZaODs3uIMA0GCSqGSIb3DQEBCwUAMIGNMQsw\n",
    "CQYDVQQGEwJERTFFMEMGA1UECgw8VmVyZWluIHp1ciBGb2VyZGVydW5nIGVpbmVz\n",
    "IERldXRzY2hlbiBGb3JzY2h1bmdzbmV0emVzIGUuIFYuMRAwDgYDVQQLDAdERk4t\n",
    "UEtJMSUwIwYDVQQDDBxERk4tVmVyZWluIEdsb2JhbCBJc3N1aW5nIENBMB4XDTIx\n",
    "MDMwODEzMzQwOVoXDTI0MDMwNzEzMzQwOVowgbkxCzAJBgNVBAYTAkRFMREwDwYD\n",
    "VQQIDAhTYWFybGFuZDEVMBMGA1UEBwwMU2FhcmJydWVja2VuMUQwQgYDVQQKDDtD\n",
    "SVNQQSAtIEhlbG1ob2x0ei1aZW50cnVtIGZ1ZXIgSW5mb3JtYXRpb25zc2ljaGVy\n",
    "aGVpdCBnR21iSDEQMA4GA1UEBAwHQW5kcmVhczEPMA0GA1UEKgwGWmVsbGVyMRcw\n",
    "FQYDVQQDDA5aZWxsZXIgQW5kcmVhczCCASIwDQYJKoZIhvcNAQEBBQADggEPADCC\n",
    "AQoCggEBALo6h1hJw92V8MnN38ry/Spc2G6v+YTTWsWODY2/7pPBizYIefCjDXCL\n",
    "mkxu7oDUwm7Mbeg+gASeI1wJYpiKc8FknPkMDEAHYmZFpLbyfWJsCRTsu1WEO5So\n",
    "2nOvedPTjpy7IwHHG7p7H9l5LCzWcA0XBqaGNj0yHwpOD67CA8jcbZ5I41dG3xUW\n",
    "ApM51M+UqOAzhh0SlRkEgBnRE06jUj+zTVIKlLb9Ho9Bw3CEPdKRpBs6yjouKxwf\n",
    "apwpaBru/NnEW7gwAwKNIoRlZmiKQniHoE4uMM7e5zWPxaV/co+cn3u8SwnqJjG0\n",
    "jR07EF+l9Fb3cWGwSQrhp0lFjudp0aUCAwEAAaOCAkgwggJEMD4GA1UdIAQ3MDUw\n",
    "DwYNKwYBBAGBrSGCLAEBBDAQBg4rBgEEAYGtIYIsAQEECDAQBg4rBgEEAYGtIYIs\n",
    "AgEECDAJBgNVHRMEAjAAMA4GA1UdDwEB/wQEAwIF4DAdBgNVHSUEFjAUBggrBgEF\n",
    "BQcDAgYIKwYBBQUHAwQwHQYDVR0OBBYEFJlDyZ5yzYQjHgDxf31rCqDITfLkMB8G\n",
    "A1UdIwQYMBaAFGs6mIv58lOJ2uCtsjIeCR/oqjt0MBoGA1UdEQQTMBGBD3plbGxl\n",
    "ckBjaXNwYS5kZTCBjQYDVR0fBIGFMIGCMD+gPaA7hjlodHRwOi8vY2RwMS5wY2Eu\n",
    "ZGZuLmRlL2Rmbi1jYS1nbG9iYWwtZzIvcHViL2NybC9jYWNybC5jcmwwP6A9oDuG\n",
    "OWh0dHA6Ly9jZHAyLnBjYS5kZm4uZGUvZGZuLWNhLWdsb2JhbC1nMi9wdWIvY3Js\n",
    "L2NhY3JsLmNybDCB2wYIKwYBBQUHAQEEgc4wgcswMwYIKwYBBQUHMAGGJ2h0dHA6\n",
    "Ly9vY3NwLnBjYS5kZm4uZGUvT0NTUC1TZXJ2ZXIvT0NTUDBJBggrBgEFBQcwAoY9\n",
    "aHR0cDovL2NkcDEucGNhLmRmbi5kZS9kZm4tY2EtZ2xvYmFsLWcyL3B1Yi9jYWNl\n",
    "cnQvY2FjZXJ0LmNydDBJBggrBgEFBQcwAoY9aHR0cDovL2NkcDIucGNhLmRmbi5k\n",
    "ZS9kZm4tY2EtZ2xvYmFsLWcyL3B1Yi9jYWNlcnQvY2FjZXJ0LmNydDANBgkqhkiG\n",
    "9w0BAQsFAAOCAQEAS7Ok9N8qAVgG6t5fa6rMEY4xU2DYIh1Xx8rXgHUa25ULktde\n",
    "z+hEL2/3GRpA9fiQBccjJ3YVTuE0HuZ0hixbZie4L2aetQMrAO2wTzak42PGww5l\n",
    "ERbtacNuW7t64s/LmLROKsWeeLDYChyJW1Ql5Wl7kkI9NV1BRPcGgtHqqhQ3CN/J\n",
    "V4wK0JWPpD1lIQo/IaN/4RXq6unMZ/u1ZbXosXc8NlphAee1W2ZHI4ObWbpvpdBR\n",
    "sj6PGMKESyLzODcuRMjib+qryiTp1e3PGmunmqS+kjNDsd3iohGQlej/Dsxx9gHT\n",
    "UbbHFCEoTsnxEte5FcC1djFLrpQxklinOh/xnA==\n",
    "-----END CERTIFICATE-----\n",
    "'''"
   ]
  },
  {
   "cell_type": "markdown",
   "id": "1c748682-0180-405b-980b-397c1a8d613d",
   "metadata": {},
   "source": [
    "We can view the contents of this certificate using `openssl`:"
   ]
  },
  {
   "cell_type": "code",
   "execution_count": null,
   "id": "64492128-0250-4097-ab05-d7428856b232",
   "metadata": {
    "tags": []
   },
   "outputs": [],
   "source": [
    "CERT_PEM_FILE = 'certificate.pem'"
   ]
  },
  {
   "cell_type": "code",
   "execution_count": null,
   "id": "e1ee4cc2-63ca-4659-926b-5d4a8b17a39f",
   "metadata": {},
   "outputs": [],
   "source": [
    "with open(CERT_PEM_FILE, 'w') as fp:\n",
    "    fp.write(CERT_PEM)"
   ]
  },
  {
   "cell_type": "code",
   "execution_count": null,
   "id": "aa8784f0-f5fa-423d-acb7-bf937093dda9",
   "metadata": {},
   "outputs": [],
   "source": [
    "!openssl x509 -in {CERT_PEM_FILE} -text -noout "
   ]
  },
  {
   "cell_type": "markdown",
   "id": "11093fc9-18b3-4684-82a1-9fd9343dc8f9",
   "metadata": {},
   "source": [
    "## Analyzing Binary Certificates"
   ]
  },
  {
   "cell_type": "markdown",
   "id": "6ded4892-7b74-490a-8c8b-c785384247a0",
   "metadata": {},
   "source": [
    "Let us convert this certificate into DER (binary) form. This is what we will work with."
   ]
  },
  {
   "cell_type": "code",
   "execution_count": null,
   "id": "bfac8b1f-ca49-4b8c-aa75-fcb6e39facdc",
   "metadata": {
    "tags": []
   },
   "outputs": [],
   "source": [
    "CERT_DER_FILE = 'certificate.der'"
   ]
  },
  {
   "cell_type": "code",
   "execution_count": null,
   "id": "38cb5671-6865-4c73-aca8-4d177fd9adff",
   "metadata": {},
   "outputs": [],
   "source": [
    "!openssl x509 -outform der -in {CERT_PEM_FILE} -out {CERT_DER_FILE}"
   ]
  },
  {
   "cell_type": "markdown",
   "id": "5051c50a-3931-4072-bbd0-192b252cd65e",
   "metadata": {},
   "source": [
    "We can analyze file contents again using `openssl`:"
   ]
  },
  {
   "cell_type": "code",
   "execution_count": null,
   "id": "74f59e3a-6b23-4933-9782-0ee3d2ddbdc8",
   "metadata": {},
   "outputs": [],
   "source": [
    "!openssl asn1parse -i -in {CERT_DER_FILE} -inform DER"
   ]
  },
  {
   "cell_type": "markdown",
   "id": "0cb52803-4366-4b3c-baeb-84fb8784926e",
   "metadata": {},
   "source": [
    "To decode ASN.1, we make use of the [Python ASN.1 module](https://github.com/andrivet/python-asn1) (Here's the [documentation](https://python-asn1.readthedocs.io/en/latest/)).\n",
    "We find that our DER file consists of a sequence (0x10 = 16): "
   ]
  },
  {
   "cell_type": "code",
   "execution_count": null,
   "id": "f9c4adcc-8277-4e1b-bebd-182ba4bd71e6",
   "metadata": {},
   "outputs": [],
   "source": [
    "import asn1"
   ]
  },
  {
   "cell_type": "code",
   "execution_count": null,
   "id": "836df302-b64f-4dd4-b33e-08421d9dfefe",
   "metadata": {},
   "outputs": [],
   "source": [
    "CERT_DER = open(CERT_DER_FILE, 'br').read()\n",
    "CERT_DER[:10]"
   ]
  },
  {
   "cell_type": "code",
   "execution_count": null,
   "id": "aa57a1b3-32bc-4819-84e1-351f2f8ab3c1",
   "metadata": {},
   "outputs": [],
   "source": [
    "decoder_1 = asn1.Decoder()\n",
    "decoder_1.start(CERT_DER)"
   ]
  },
  {
   "cell_type": "code",
   "execution_count": null,
   "id": "2cbb82e7-5b0a-4623-8d30-f07f1a4850a5",
   "metadata": {},
   "outputs": [],
   "source": [
    "tag_1, value_1 = decoder_1.read()"
   ]
  },
  {
   "cell_type": "code",
   "execution_count": null,
   "id": "cb6d4047-668f-41ba-9d80-fc339b6ab7ca",
   "metadata": {},
   "outputs": [],
   "source": [
    "tag_1"
   ]
  },
  {
   "cell_type": "code",
   "execution_count": null,
   "id": "2e64b0d8-70f1-4a26-9717-284eef1da480",
   "metadata": {},
   "outputs": [],
   "source": [
    "assert tag_1.nr == asn1.Numbers.Sequence\n",
    "assert tag_1.typ == asn1.Types.Constructed"
   ]
  },
  {
   "cell_type": "code",
   "execution_count": null,
   "id": "d4fb2814-bdbf-498f-927d-2befb48281b1",
   "metadata": {},
   "outputs": [],
   "source": [
    "value_1[:10]"
   ]
  },
  {
   "cell_type": "markdown",
   "id": "dc7ea77d-8e82-4819-b8dd-d5f7d9da23c8",
   "metadata": {},
   "source": [
    "This starts with another sequence:"
   ]
  },
  {
   "cell_type": "code",
   "execution_count": null,
   "id": "706a7316-c505-419f-ad92-6fc5087c3bec",
   "metadata": {},
   "outputs": [],
   "source": [
    "decoder_2 = asn1.Decoder()\n",
    "decoder_2.start(value_1)"
   ]
  },
  {
   "cell_type": "code",
   "execution_count": null,
   "id": "8ad8ab0a-e438-4aab-8494-f9fb85ddd541",
   "metadata": {},
   "outputs": [],
   "source": [
    "tag_2, value_2 = decoder_2.read()"
   ]
  },
  {
   "cell_type": "code",
   "execution_count": null,
   "id": "55177ff4-1d37-44f2-b24f-5bbb04d65c0d",
   "metadata": {},
   "outputs": [],
   "source": [
    "tag_2"
   ]
  },
  {
   "cell_type": "code",
   "execution_count": null,
   "id": "20996e3f-9aa9-4a0d-b311-c35955558825",
   "metadata": {},
   "outputs": [],
   "source": [
    "assert tag_2.nr == asn1.Numbers.Sequence\n",
    "assert tag_1.typ == asn1.Types.Constructed"
   ]
  },
  {
   "cell_type": "code",
   "execution_count": null,
   "id": "cf138c5e-937a-4f04-beb5-d56aaaa42605",
   "metadata": {},
   "outputs": [],
   "source": [
    "value_2[:10]"
   ]
  },
  {
   "cell_type": "markdown",
   "id": "a13c353d-6129-4dd0-9c8f-637b711851f0",
   "metadata": {},
   "source": [
    "This starts with another sequence:"
   ]
  },
  {
   "cell_type": "code",
   "execution_count": null,
   "id": "c0d76c4c-26ec-4113-ab84-3e29248c6534",
   "metadata": {},
   "outputs": [],
   "source": [
    "decoder_3 = asn1.Decoder()\n",
    "decoder_3.start(value_2)"
   ]
  },
  {
   "cell_type": "code",
   "execution_count": null,
   "id": "ec78ff7a-92e9-4e25-b478-151d07e54a48",
   "metadata": {},
   "outputs": [],
   "source": [
    "tag_3, value_3 = decoder_3.read()"
   ]
  },
  {
   "cell_type": "code",
   "execution_count": null,
   "id": "e35721cc-edad-48d5-977f-5b32221e0586",
   "metadata": {},
   "outputs": [],
   "source": [
    "tag_3"
   ]
  },
  {
   "cell_type": "code",
   "execution_count": null,
   "id": "40450338-4a9c-4ff0-b4fa-58d89151f4f3",
   "metadata": {},
   "outputs": [],
   "source": [
    "assert tag_3.typ == asn1.Types.Constructed\n",
    "assert tag_3.cls == asn1.Classes.Context"
   ]
  },
  {
   "cell_type": "code",
   "execution_count": null,
   "id": "0aa6e617-f3c8-4402-8f53-bd324fa0a6cb",
   "metadata": {},
   "outputs": [],
   "source": [
    "value_3"
   ]
  },
  {
   "cell_type": "markdown",
   "id": "614bb98e-8abb-42f0-999a-311f82f964d6",
   "metadata": {},
   "source": [
    "This is an encoding for an integer 2:"
   ]
  },
  {
   "cell_type": "code",
   "execution_count": null,
   "id": "e330bab0-74db-4f6f-9523-b1d67abc6714",
   "metadata": {},
   "outputs": [],
   "source": [
    "decoder_4 = asn1.Decoder()\n",
    "decoder_4.start(value_3)"
   ]
  },
  {
   "cell_type": "code",
   "execution_count": null,
   "id": "669047f6-65f6-477b-9a7f-c3cde4f6a3b9",
   "metadata": {},
   "outputs": [],
   "source": [
    "tag_4, value_4 = decoder_4.read()"
   ]
  },
  {
   "cell_type": "code",
   "execution_count": null,
   "id": "53073d11-21ad-4383-a8d5-6cbdef91fe69",
   "metadata": {},
   "outputs": [],
   "source": [
    "tag_4"
   ]
  },
  {
   "cell_type": "code",
   "execution_count": null,
   "id": "5774ae8b-766c-45a3-964d-aa64cd5c3d10",
   "metadata": {},
   "outputs": [],
   "source": [
    "value_4"
   ]
  },
  {
   "cell_type": "code",
   "execution_count": null,
   "id": "57098db3-77d2-4902-8ca3-ac29ab169187",
   "metadata": {
    "tags": []
   },
   "outputs": [],
   "source": [
    "assert tag_4.nr == asn1.Numbers.Integer\n",
    "assert tag_4.typ == asn1.Types.Primitive"
   ]
  },
  {
   "cell_type": "markdown",
   "id": "aa3d4f46-4058-492d-aced-24777f7a4acd",
   "metadata": {},
   "source": [
    "## A Class for ASN1 Parsing and Producing\n",
    "\n",
    "We introduce a class `ASN1Parser` which we will use for parsing."
   ]
  },
  {
   "cell_type": "markdown",
   "id": "8dc4ed35-38bd-4b1e-8124-f590e056dcc4",
   "metadata": {},
   "source": [
    "See [A Layman's Guide to a Subset of ASN.1, BER, and DER](http://luca.ntop.org/Teaching/Appunti/asn1.html) for details on the ASN1 format."
   ]
  },
  {
   "cell_type": "code",
   "execution_count": null,
   "id": "84558c7e-c928-4eba-8c65-9554e6ec3a56",
   "metadata": {
    "tags": []
   },
   "outputs": [],
   "source": [
    "from Grammars import Grammar, crange, is_valid_grammar, convert_ebnf_grammar\n",
    "from GrammarFuzzer import display_tree"
   ]
  },
  {
   "cell_type": "code",
   "execution_count": null,
   "id": "93e5787b-5e72-406c-9302-11ff12f2c118",
   "metadata": {
    "tags": []
   },
   "outputs": [],
   "source": [
    "from isla.solver import ISLaSolver, DerivationTree"
   ]
  },
  {
   "cell_type": "code",
   "execution_count": null,
   "id": "4409dbaa-a571-4972-ad3c-7fb87639a94d",
   "metadata": {},
   "outputs": [],
   "source": [
    "class ASN1Parser:\n",
    "    def __init__(self, log=False):\n",
    "        self.log = log\n",
    "        pass"
   ]
  },
  {
   "cell_type": "markdown",
   "id": "89655924-a28f-488a-a6b6-e819ad06cec6",
   "metadata": {},
   "source": [
    "For each tag, we define length and value expansions."
   ]
  },
  {
   "cell_type": "code",
   "execution_count": null,
   "id": "cf19b484-d4c1-43fd-a4e7-c0a2f333a612",
   "metadata": {},
   "outputs": [],
   "source": [
    "from pprint import pprint"
   ]
  },
  {
   "cell_type": "code",
   "execution_count": null,
   "id": "7ddb4945-a215-4268-a5f0-522e33afeb40",
   "metadata": {},
   "outputs": [],
   "source": [
    "class ASN1Parser(ASN1Parser):\n",
    "    TAG_ID_TO_STRING_MAP = {\n",
    "        asn1.Numbers.Boolean: \"BOOLEAN\",\n",
    "        asn1.Numbers.Integer: \"INTEGER\",\n",
    "        asn1.Numbers.BitString: \"BIT STRING\",\n",
    "        asn1.Numbers.OctetString: \"OCTET STRING\",\n",
    "        asn1.Numbers.Null: \"NULL\",\n",
    "        asn1.Numbers.ObjectIdentifier: \"OBJECT\",\n",
    "        asn1.Numbers.PrintableString: \"PRINTABLESTRING\",\n",
    "        asn1.Numbers.IA5String: \"IA5STRING\",\n",
    "        asn1.Numbers.UTF8String: \"UTF8STRING\",\n",
    "        asn1.Numbers.UnicodeString: \"UNICODESTRING\",\n",
    "        asn1.Numbers.UTCTime: \"UTCTIME\",\n",
    "        asn1.Numbers.GeneralizedTime: \"GENERALIZED TIME\",\n",
    "        asn1.Numbers.Enumerated: \"ENUMERATED\",\n",
    "        asn1.Numbers.Sequence: \"SEQUENCE\",\n",
    "        asn1.Numbers.Set: \"SET\"\n",
    "    }\n",
    "\n",
    "    def tag_to_name(self, tag):\n",
    "        if tag in self.TAG_ID_TO_STRING_MAP:\n",
    "            name = self.TAG_ID_TO_STRING_MAP[tag].lower()\n",
    "        else:\n",
    "            name = \"other\"\n",
    "        return name.replace(' ', '-')\n",
    "\n",
    "    def tag_to_symbol(self, tag):\n",
    "        return f'<{self.tag_to_name(tag)}>'"
   ]
  },
  {
   "cell_type": "markdown",
   "id": "35451b2a-bcce-47d1-a36e-1b6cbfa855ea",
   "metadata": {},
   "source": [
    "## Parsing ASN1"
   ]
  },
  {
   "cell_type": "markdown",
   "id": "40b9f031-67a7-42a5-b70d-fba76dbd766b",
   "metadata": {},
   "source": [
    "For parsing certificates, we'll use the Python `asn1` parser, and convert its result into a derivation tree. This is way more efficient than having the FuzzingBook `EarleyParser` first determine all alternatives and then have ISLa sort out those alternatives whose lengths match the constraints."
   ]
  },
  {
   "cell_type": "code",
   "execution_count": null,
   "id": "a7854022-e823-4a5e-aeb0-e59df4e59cf0",
   "metadata": {},
   "outputs": [],
   "source": [
    "class ASN1Parser(ASN1Parser):\n",
    "    def parse(self, inp, skip_check=True):\n",
    "        trees = self.decode(inp)\n",
    "        return trees\n",
    "\n",
    "    def new_tree(self, tag, value, children=None):\n",
    "        name = self.tag_to_name(tag.nr)\n",
    "        length = len(value)\n",
    "\n",
    "        if not children:\n",
    "            children = [DerivationTree(value)]\n",
    "\n",
    "        tag_byte = tag.nr | tag.typ | tag.cls\n",
    "        tag_tree = DerivationTree(f'<{name}-tag>',\n",
    "                                  [DerivationTree(chr(tag_byte))])\n",
    "        length_tree = DerivationTree(f'<{name}-length>',\n",
    "                                    [self.new_length_tree(length)])\n",
    "        value_tree = DerivationTree(f'<{name}-value>', children)\n",
    "\n",
    "        tree = DerivationTree(f'<{name}>',\n",
    "                              [tag_tree, length_tree, value_tree])\n",
    "        return tree\n",
    "\n",
    "    def decode(self, inp):\n",
    "        trees = []\n",
    "        decoder = asn1.Decoder()\n",
    "        if isinstance(inp, str):\n",
    "            inp = bytes(inp, 'latin-1')\n",
    "        decoder.start(inp)\n",
    "\n",
    "        while not decoder.eof():\n",
    "            tag = decoder._read_tag()\n",
    "            length = decoder._read_length()\n",
    "            value = str(decoder._read_bytes(length), 'latin1')\n",
    "            assert len(value) == length\n",
    "\n",
    "            if tag.typ == asn1.Types.Primitive:\n",
    "                # FIXME: This must be properly set for all primitive types\n",
    "                tree = self.new_tree(tag, value)\n",
    "            elif tag.typ == asn1.Types.Constructed:\n",
    "                children = self.decode(value)\n",
    "                tree = self.new_tree(tag, value, children)\n",
    "\n",
    "            trees.append(tree)\n",
    "\n",
    "        return trees"
   ]
  },
  {
   "cell_type": "markdown",
   "id": "43933520-931c-4199-80c8-772b47d141f5",
   "metadata": {},
   "source": [
    "Encoding lengths in ASN1 is somewhat complex."
   ]
  },
  {
   "cell_type": "code",
   "execution_count": null,
   "id": "ef1c555d-37d5-42c1-a69b-84556dbe9b79",
   "metadata": {},
   "outputs": [],
   "source": [
    "class ASN1Parser(ASN1Parser):\n",
    "    def new_length_tree(self, length):\n",
    "        if length < 128:\n",
    "            return DerivationTree('<length>',\n",
    "                       [DerivationTree('<short-length>',\n",
    "                            [DerivationTree('<byte0-127>',\n",
    "                                 [DerivationTree(chr(length))])])])\n",
    "        values = []\n",
    "        while length:\n",
    "            values.append(length & 0xff)\n",
    "            length >>= 8\n",
    "        values.reverse()\n",
    "        assert len(values) < 127\n",
    "\n",
    "        children = [DerivationTree('<byte128-255>',\n",
    "                        [DerivationTree(chr(0x80 | len(values)))])]\n",
    "\n",
    "        for val in values:\n",
    "            children += [DerivationTree('<byte>',\n",
    "                             [DerivationTree(chr(val))])]\n",
    "\n",
    "        return DerivationTree('<length>',\n",
    "                   [DerivationTree('<long-length>', children)])"
   ]
  },
  {
   "cell_type": "code",
   "execution_count": null,
   "id": "bd65a187-a0f7-423a-a50f-93c756916dd3",
   "metadata": {},
   "outputs": [],
   "source": [
    "parser = ASN1Parser(log=False)"
   ]
  },
  {
   "cell_type": "code",
   "execution_count": null,
   "id": "db6416cf-3f4d-4b23-ac81-b549c5721035",
   "metadata": {},
   "outputs": [],
   "source": [
    "tree = parser.parse(CERT_DER)[0]"
   ]
  },
  {
   "cell_type": "code",
   "execution_count": null,
   "id": "3a2eb102-70d9-4a51-a6a6-970a5500c045",
   "metadata": {},
   "outputs": [],
   "source": [
    "display_tree(tree)"
   ]
  },
  {
   "cell_type": "code",
   "execution_count": null,
   "id": "eb86fe13-32ef-4dce-b8e6-77c5b2c995ef",
   "metadata": {},
   "outputs": [],
   "source": [
    "assert str(tree) == str(CERT_DER, 'latin1')"
   ]
  },
  {
   "cell_type": "markdown",
   "id": "4ee59365-8b57-4f92-9dc7-559981d9d493",
   "metadata": {
    "tags": []
   },
   "source": [
    "## Producing ASN1\n",
    "\n",
    "To _produce_ ASN1, we introduce a class `ASN1Solver` that builds on the parser introduced above as well as the `ISLaSolver` class.\n",
    "\n",
    "First, we need to construct the grammar, refining `create_grammar()`."
   ]
  },
  {
   "cell_type": "code",
   "execution_count": null,
   "id": "5402c964-191f-44dd-92db-0308e31d62be",
   "metadata": {},
   "outputs": [],
   "source": [
    "class ASN1Solver(ASN1Parser, ISLaSolver):\n",
    "    def __init__(self, formula='true', *args, log=False, **kwargs):\n",
    "        ASN1Parser.__init__(self, log)\n",
    "\n",
    "        self._grammar: Grammar = {\n",
    "            '<start>': ['<value>'],\n",
    "            '<value>': [],  # will be updated later\n",
    "            }\n",
    "\n",
    "        self._formula = formula\n",
    "        self._constraints = {}\n",
    "        self._used_tags = set()\n",
    "\n",
    "        self.create_grammar()\n",
    "\n",
    "        grammar = self.bnf_grammar()\n",
    "        constraints = self.constraints()\n",
    "\n",
    "        if self.log > 1:\n",
    "            print(\"Grammar:\", grammar)\n",
    "            print(\"Constraints:\", constraints)\n",
    "\n",
    "        ISLaSolver.__init__(self, grammar,\n",
    "                            constraints,\n",
    "                             *args, **kwargs)\n",
    "\n",
    "    def bnf_grammar(self):\n",
    "        bnf_grammar = convert_ebnf_grammar(self._grammar)\n",
    "        return bnf_grammar\n",
    "\n",
    "    def constraints(self):\n",
    "        constraints = self._formula\n",
    "        for c in self._constraints.values():\n",
    "            if c:\n",
    "                if constraints:\n",
    "                    constraints += '\\nand\\n'\n",
    "                constraints += c\n",
    "\n",
    "        return constraints\n",
    "\n",
    "    def create_grammar(self):\n",
    "        ..."
   ]
  },
  {
   "cell_type": "markdown",
   "id": "abd35f7e-339c-4f8e-9e1b-67281f4872c5",
   "metadata": {},
   "source": [
    "We start with simple values."
   ]
  },
  {
   "cell_type": "markdown",
   "id": "c927c1c2-6227-45a6-8acf-f1161d5a4d3e",
   "metadata": {},
   "source": [
    "### Simple Types"
   ]
  },
  {
   "cell_type": "markdown",
   "id": "5a777cf6-3910-48ad-b60d-604c87323efd",
   "metadata": {},
   "source": [
    "Every tag identifier can have bits 4-7 set, identifying types and classes. For efficient parsing, we enumerate the variations explicitly in the grammar (rather than identifying via constraints)."
   ]
  },
  {
   "cell_type": "code",
   "execution_count": null,
   "id": "61b8a582-ff14-4c98-99bc-03a98b987fa7",
   "metadata": {},
   "outputs": [],
   "source": [
    "class ASN1Solver(ASN1Solver):\n",
    "    def tag_variations(self, tag, types=None):\n",
    "        variations = []\n",
    "        for typ_tag, typ in [\n",
    "                ('<constructed>', asn1.Types.Constructed),   # 0x20\n",
    "                ('<primitive>', asn1.Types.Primitive)        # 0x00\n",
    "        ]:\n",
    "            if types is not None and typ not in types:\n",
    "                continue\n",
    "\n",
    "            for cls_tag, cls in [\n",
    "                ('<universal>', asn1.Classes.Universal),     # 0x00\n",
    "                ('<application>', asn1.Classes.Application), # 0x40\n",
    "                ('<context>', asn1.Classes.Context),         # 0x80\n",
    "                ('<private>', asn1.Classes.Private)          # 0xc0\n",
    "            ]:\n",
    "                variations += [chr(tag | typ | cls) +\n",
    "                               typ_tag + cls_tag]\n",
    "\n",
    "        return variations\n",
    "\n",
    "    def create_grammar(self):\n",
    "        super().create_grammar()\n",
    "        self._grammar.update({\n",
    "          '<constructed>': [''],\n",
    "          '<primitive>': [''],\n",
    "\n",
    "          '<universal>': [''],\n",
    "          '<application>': [''],\n",
    "          '<context>': [''],\n",
    "          '<private>': [''],\n",
    "        })"
   ]
  },
  {
   "cell_type": "code",
   "execution_count": null,
   "id": "c1183c97-df95-4807-9bd8-1b0f901e237c",
   "metadata": {},
   "outputs": [],
   "source": [
    "class ASN1Solver(ASN1Solver):\n",
    "    def add_tag(self, tag, name=None, expansions=None, length=None, types=None,\n",
    "                parent_symbol='<value>', check_grammar=True):\n",
    "        if name is None:\n",
    "            name = self.tag_to_name(tag)\n",
    "\n",
    "        if expansions is None:\n",
    "            expansions = ['<any-value>']\n",
    "            self._grammar.update({\n",
    "                '<any-value>': ['<byte>*'],\n",
    "            })\n",
    "\n",
    "        if length is None:\n",
    "            length = ['<length>']\n",
    "            self.add_length()\n",
    "\n",
    "        self.add_defaults()\n",
    "\n",
    "        assert f'<{name}>' not in self._grammar\n",
    "        if parent_symbol:\n",
    "            assert f'<{name}>' not in self._grammar[parent_symbol]\n",
    "\n",
    "        new_rules = {\n",
    "            f'<{name}>': [\n",
    "                f'<{name}-tag><{name}-length><{name}-value>'\n",
    "            ],\n",
    "            f'<{name}-tag>': self.tag_variations(tag, types),\n",
    "            f'<{name}-length>': length,\n",
    "            f'<{name}-value>': expansions,\n",
    "        }\n",
    "        new_constraints = self.length_constraint(name)\n",
    "\n",
    "        if parent_symbol:\n",
    "            self._grammar[parent_symbol].append(f'<{name}>')\n",
    "\n",
    "        self._grammar.update(new_rules)\n",
    "        self._constraints[f'<{name}>'] = new_constraints\n",
    "        self._used_tags.add(chr(tag))\n",
    "\n",
    "        if self.log:\n",
    "            print(f\"New tag: <{name}> ({tag})\")\n",
    "            print(\"New rules:\")\n",
    "            pprint(new_rules)\n",
    "            print(\"\\nNew constraints:\")\n",
    "            print(new_constraints)\n",
    "\n",
    "        assert f'<{name}>' in self._grammar\n",
    "        if parent_symbol:\n",
    "            assert f'<{name}>' in self._grammar[parent_symbol]\n",
    "\n",
    "        if check_grammar:\n",
    "            grammar = self._grammar.copy()\n",
    "            for elem in unreachable_nonterminals(grammar):\n",
    "                del grammar[elem]\n",
    "\n",
    "            assert is_valid_grammar(grammar)\n",
    "\n",
    "    # This is a tad too long\n",
    "    # def length_constraint(self, name):\n",
    "    #     return f'''forall <{name}>:\n",
    "    # str.to_code(<{name}>.<{name}-length>) =\n",
    "    #     str.len(<{name}>.<{name}-value>)'''\n",
    "\n",
    "    # This should work, but does not (FIXME)\n",
    "    def length_constraint(self, name):\n",
    "        return f'str.to_code(<{name}>.<{name}-length>) = str.len(<{name}>.<{name}-value>)'\n",
    "\n",
    "    def add_defaults(self):\n",
    "        self._grammar.update({\n",
    "            '<byte>': crange('\\x00', '\\xff'),\n",
    "        })"
   ]
  },
  {
   "cell_type": "code",
   "execution_count": null,
   "id": "0be29fd6-4cad-4652-adf0-53b705040ca2",
   "metadata": {},
   "outputs": [],
   "source": [
    "class ASN1Solver(ASN1Solver):\n",
    "    EMIT_LONG_LENGTHS = False\n",
    "\n",
    "    def add_length(self):\n",
    "        self._grammar.update({\n",
    "            '<byte0-127>': crange('\\x00', '\\x7f'),\n",
    "        })\n",
    "\n",
    "        if self.EMIT_LONG_LENGTHS:\n",
    "            self._grammar.update({\n",
    "                '<length>': ['<short-length>', '<long-length>'],\n",
    "                '<short-length>': ['<byte0-127>'],\n",
    "                '<long-length>': ['<byte128-255><byte>+'],\n",
    "                '<byte128-255>': crange('\\x80', '\\xff'),\n",
    "            })\n",
    "        else:\n",
    "            self._grammar.update({\n",
    "                '<length>': ['<short-length>'],\n",
    "                '<short-length>': ['<byte0-127>']\n",
    "            })"
   ]
  },
  {
   "cell_type": "markdown",
   "id": "2f074227-18d8-46b2-aeaa-c6d6c46c9217",
   "metadata": {},
   "source": [
    "ISLa has trouble fulfilling all the length constraints. Here's a workaround:"
   ]
  },
  {
   "cell_type": "code",
   "execution_count": null,
   "id": "7b9d2d85-b63c-4198-ab02-f5540b5e9537",
   "metadata": {},
   "outputs": [],
   "source": [
    "class ASN1Solver(ASN1Solver):\n",
    "    FIX_LENGTHS = True\n",
    "\n",
    "    def length_constraint(self, name):\n",
    "        if self.FIX_LENGTHS:\n",
    "            return ''  # Let fix_lengths() handle this\n",
    "        return super().length_constraint(name)\n",
    "\n",
    "    def fix_lengths(self, tree):\n",
    "        if not self.FIX_LENGTHS:\n",
    "            return tree\n",
    "\n",
    "        if not tree.children:\n",
    "            return tree\n",
    "\n",
    "        # Apply recursively\n",
    "        new_children = []\n",
    "        for c in tree.children:\n",
    "            new_children.append(self.fix_lengths(c))\n",
    "\n",
    "        if (len(new_children) == 3 and\n",
    "            new_children[0].value.endswith('-tag>') and\n",
    "            new_children[1].value.endswith('-length>') and\n",
    "            new_children[2].value.endswith('-value>')):\n",
    "                correct_length = len(str(new_children[2]))\n",
    "                new_length_tree = self.new_length_tree(correct_length)\n",
    "                new_children[1] = DerivationTree(new_children[1].value,\n",
    "                                                 [new_length_tree])\n",
    "\n",
    "        tree = DerivationTree(tree.value, new_children)\n",
    "\n",
    "        return tree"
   ]
  },
  {
   "cell_type": "markdown",
   "id": "81774fae-b4d9-457f-85cc-f8052a512432",
   "metadata": {},
   "source": [
    "### Tests"
   ]
  },
  {
   "cell_type": "code",
   "execution_count": null,
   "id": "b1076718-bbe3-4415-a635-b04476bfd677",
   "metadata": {},
   "outputs": [],
   "source": [
    "from Grammars import unreachable_nonterminals"
   ]
  },
  {
   "cell_type": "code",
   "execution_count": null,
   "id": "24742476-8f3a-479b-a0d1-f6aa68056562",
   "metadata": {},
   "outputs": [],
   "source": [
    "from ExpectError import ExpectError"
   ]
  },
  {
   "cell_type": "code",
   "execution_count": null,
   "id": "a10f74f7-8616-43c5-b424-991036b98063",
   "metadata": {},
   "outputs": [],
   "source": [
    "class ASN1Solver(ASN1Solver):\n",
    "    def solve_start_symbol(self, start_symbol, *args, **kwargs):\n",
    "        orig_grammar = self._grammar\n",
    "        orig_constraints = self._constraints\n",
    "\n",
    "        grammar = self._grammar.copy()\n",
    "        constraints = self._constraints.copy()\n",
    "\n",
    "        grammar['<start>'] = [start_symbol]\n",
    "        for elem in unreachable_nonterminals(grammar):\n",
    "            del grammar[elem]\n",
    "            if elem in constraints:\n",
    "                del constraints[elem]\n",
    "\n",
    "        self._grammar = grammar\n",
    "        self._constraints = constraints\n",
    "\n",
    "        grammar = self.bnf_grammar()\n",
    "        constraints = self.constraints()\n",
    "\n",
    "        solver = ISLaSolver(grammar, constraints, *args, **kwargs)\n",
    "\n",
    "        self._grammar = orig_grammar\n",
    "        self._constraints = orig_constraints\n",
    "\n",
    "        tree = solver.solve()\n",
    "        tree = self.fix_lengths(tree)\n",
    "        return tree\n",
    "\n",
    "    def test(self, tag=None, start_symbol=None, *args, **kwargs):\n",
    "        if tag and start_symbol is None:\n",
    "            start_symbol = self.tag_to_symbol(tag)\n",
    "\n",
    "        print(f\"Test solving {start_symbol}:\")\n",
    "        tree = self.solve_start_symbol(start_symbol, *args, **kwargs)\n",
    "        print(f\"Solution: {repr(str(tree))} {len(str(tree))}\")\n",
    "\n",
    "        parsed_tag = None\n",
    "        parsed_value = None\n",
    "\n",
    "        with ExpectError():\n",
    "            print(f\"\\nTest decoding {start_symbol}:\")\n",
    "            decoder = asn1.Decoder()\n",
    "            decoder.start(bytes(str(tree), 'latin1'))\n",
    "            parsed_tag, parsed_value = decoder.read()\n",
    "            print(\"Decoding successful\")\n",
    "\n",
    "        if parsed_tag is not None and parsed_value is not None:\n",
    "            print(f\"Found {parsed_tag}, {parsed_value}\", end=\"\")\n",
    "            if tag and parsed_tag.nr == tag:\n",
    "                print(\"(expected)\")\n",
    "            if tag:\n",
    "                assert parsed_tag.nr == tag\n",
    "\n",
    "        return tree"
   ]
  },
  {
   "cell_type": "markdown",
   "id": "95263ff3-5d91-44d5-b8ab-a06fa4828406",
   "metadata": {},
   "source": [
    "#### Booleans"
   ]
  },
  {
   "cell_type": "markdown",
   "id": "1e2c2551-fce9-443a-93e2-ddb661692dce",
   "metadata": {},
   "source": [
    "Booleans are simply `0x00` (False) or `0xff` (True)"
   ]
  },
  {
   "cell_type": "code",
   "execution_count": null,
   "id": "ca96bfd8-1cd5-41ef-939e-eaaa7767b09e",
   "metadata": {},
   "outputs": [],
   "source": [
    "class ASN1Solver(ASN1Solver):\n",
    "    def create_grammar(self):\n",
    "        super().create_grammar()\n",
    "        return self.add_boolean()\n",
    "\n",
    "    def add_boolean(self):\n",
    "        self.add_tag(\n",
    "            tag=asn1.Numbers.Boolean,\n",
    "            length=['\\x01'],\n",
    "            expansions=['\\x00', '\\xff'],\n",
    "        )"
   ]
  },
  {
   "cell_type": "code",
   "execution_count": null,
   "id": "61767b77-1696-4bda-9681-8b55873477a2",
   "metadata": {
    "tags": []
   },
   "outputs": [],
   "source": [
    "solver = ASN1Solver(log=2)\n",
    "tree = solver.test(asn1.Numbers.Boolean)\n",
    "# display_tree(tree)"
   ]
  },
  {
   "cell_type": "markdown",
   "id": "93e9e2e6-8871-4b4d-884d-ca13b00d91dc",
   "metadata": {},
   "source": [
    "#### Constructed Types"
   ]
  },
  {
   "cell_type": "code",
   "execution_count": null,
   "id": "e701c3c3-b6bb-4069-b6a2-81dabf2fd0df",
   "metadata": {},
   "outputs": [],
   "source": [
    "class ASN1Solver(ASN1Solver):\n",
    "    def create_grammar(self):\n",
    "        super().create_grammar()\n",
    "        return self.add_sequence()\n",
    "\n",
    "    def add_sequence(self):\n",
    "        self.add_tag(\n",
    "            tag=asn1.Numbers.Sequence,\n",
    "            expansions=['<value>+'],\n",
    "            types=[asn1.Types.Constructed],\n",
    "        )"
   ]
  },
  {
   "cell_type": "code",
   "execution_count": null,
   "id": "6f1af821-f7cc-4e30-8bc6-6a4998ed61f1",
   "metadata": {},
   "outputs": [],
   "source": [
    "solver = ASN1Solver(log=True)\n",
    "tree = solver.test(asn1.Numbers.Sequence)\n",
    "# display_tree(tree)"
   ]
  },
  {
   "cell_type": "code",
   "execution_count": null,
   "id": "49ac1d0a-38d6-4e6b-84ca-1a701ecf2f92",
   "metadata": {},
   "outputs": [],
   "source": [
    "class ASN1Solver(ASN1Solver):\n",
    "    def create_grammar(self):\n",
    "        super().create_grammar()\n",
    "        return self.add_set()\n",
    "\n",
    "    def add_set(self):\n",
    "        self.add_tag(\n",
    "            tag=asn1.Numbers.Set,\n",
    "            expansions=['<value>+'],\n",
    "            types=[asn1.Types.Constructed],\n",
    "        )"
   ]
  },
  {
   "cell_type": "code",
   "execution_count": null,
   "id": "025dc309-91af-429f-a2e9-0e8d458dda59",
   "metadata": {},
   "outputs": [],
   "source": [
    "solver = ASN1Solver(log=False)\n",
    "tree = solver.test(asn1.Numbers.Set)\n",
    "# display_tree(tree)"
   ]
  },
  {
   "cell_type": "markdown",
   "id": "eaf5d927-9c74-44a8-ac66-292d97eb1dd7",
   "metadata": {},
   "source": [
    "#### Integers"
   ]
  },
  {
   "cell_type": "code",
   "execution_count": null,
   "id": "df30dcd7-1778-424e-9d87-695369faaf82",
   "metadata": {},
   "outputs": [],
   "source": [
    "class ASN1Solver(ASN1Solver):\n",
    "    def create_grammar(self):\n",
    "        super().create_grammar()\n",
    "        return self.add_integer()\n",
    "\n",
    "    def add_integer(self):\n",
    "        self.add_tag(\n",
    "            tag=asn1.Numbers.Integer,\n",
    "            length=['\\x01', '\\x02'],\n",
    "            expansions=['<byte>+'],\n",
    "        )"
   ]
  },
  {
   "cell_type": "code",
   "execution_count": null,
   "id": "04f6b23e-9136-4e5a-b32e-e07401313521",
   "metadata": {},
   "outputs": [],
   "source": [
    "solver = ASN1Solver(log=False)\n",
    "tree = solver.test(asn1.Numbers.Integer)\n",
    "# display_tree(tree)"
   ]
  },
  {
   "cell_type": "markdown",
   "id": "39ad117d-d961-472b-883b-98a4bf420a60",
   "metadata": {},
   "source": [
    "FIXME: Add constraints re: integers"
   ]
  },
  {
   "cell_type": "markdown",
   "id": "0e3a93d6-d605-4013-8b76-cdba9fe07370",
   "metadata": {},
   "source": [
    "#### Null"
   ]
  },
  {
   "cell_type": "code",
   "execution_count": null,
   "id": "457b9d59-3c4b-4f8d-a32e-50c65f200b12",
   "metadata": {},
   "outputs": [],
   "source": [
    "class ASN1Solver(ASN1Solver):\n",
    "    def create_grammar(self):\n",
    "        super().create_grammar()\n",
    "        return self.add_null()\n",
    "\n",
    "    def add_null(self):\n",
    "        self.add_tag(\n",
    "            name='null',\n",
    "            tag=asn1.Numbers.Null,\n",
    "            length=['\\x00'],\n",
    "            expansions=['']\n",
    "        )"
   ]
  },
  {
   "cell_type": "code",
   "execution_count": null,
   "id": "ff119e97-1372-4559-873a-98e3a062776d",
   "metadata": {},
   "outputs": [],
   "source": [
    "solver = ASN1Solver(log=False)\n",
    "tree = solver.test(asn1.Numbers.Null)\n",
    "# display_tree(tree)"
   ]
  },
  {
   "cell_type": "markdown",
   "id": "5193d9e8-b28e-49e3-a7b2-38d7f6f9d57c",
   "metadata": {},
   "source": [
    "#### Unstructured Types"
   ]
  },
  {
   "cell_type": "code",
   "execution_count": null,
   "id": "9ce9d1d3-0637-4fda-b8be-7784c85b7ac5",
   "metadata": {},
   "outputs": [],
   "source": [
    "class ASN1Solver(ASN1Solver):\n",
    "    def create_grammar(self):\n",
    "        super().create_grammar()\n",
    "        return self.add_bit_string()\n",
    "\n",
    "    def add_bit_string(self):\n",
    "        self.add_tag(\n",
    "            tag=asn1.Numbers.BitString,\n",
    "        )"
   ]
  },
  {
   "cell_type": "code",
   "execution_count": null,
   "id": "eb641b9f-6c78-473d-925e-8f5fc2b8b163",
   "metadata": {},
   "outputs": [],
   "source": [
    "solver = ASN1Solver(log=False)\n",
    "tree = solver.test(asn1.Numbers.BitString)\n",
    "# display_tree(tree)"
   ]
  },
  {
   "cell_type": "code",
   "execution_count": null,
   "id": "719cb06f-b1ba-4f6e-b6db-57d435748c99",
   "metadata": {},
   "outputs": [],
   "source": [
    "class ASN1Solver(ASN1Solver):\n",
    "    def create_grammar(self):\n",
    "        super().create_grammar()\n",
    "        return self.add_octet_string()\n",
    "\n",
    "    def add_octet_string(self):\n",
    "        self.add_tag(\n",
    "            tag=asn1.Numbers.OctetString,\n",
    "        )"
   ]
  },
  {
   "cell_type": "code",
   "execution_count": null,
   "id": "fa7aee7a-5c3c-4961-86e5-163376534bf1",
   "metadata": {},
   "outputs": [],
   "source": [
    "solver = ASN1Solver(log=False)\n",
    "tree = solver.test(asn1.Numbers.OctetString)\n",
    "# display_tree(tree)"
   ]
  },
  {
   "cell_type": "markdown",
   "id": "37a5e0b8-e084-4ce6-9b88-2f8187e8ae7b",
   "metadata": {},
   "source": [
    "#### Object Identifiers"
   ]
  },
  {
   "cell_type": "code",
   "execution_count": null,
   "id": "a98afa3c-2388-4193-9bd8-6f2961a5be97",
   "metadata": {},
   "outputs": [],
   "source": [
    "class ASN1Solver(ASN1Solver):\n",
    "    def create_grammar(self):\n",
    "        super().create_grammar()\n",
    "        return self.add_object_identifier()\n",
    "\n",
    "    def add_object_identifier(self):\n",
    "        self.add_tag(\n",
    "            tag=asn1.Numbers.ObjectIdentifier,\n",
    "        )"
   ]
  },
  {
   "cell_type": "code",
   "execution_count": null,
   "id": "0ad50ad2-7e25-492b-b8a1-aa06777d3c18",
   "metadata": {},
   "outputs": [],
   "source": [
    "solver = ASN1Solver(log=False)\n",
    "tree = solver.test(asn1.Numbers.ObjectIdentifier)\n",
    "# display_tree(tree)"
   ]
  },
  {
   "cell_type": "markdown",
   "id": "bb1ef3d1-b89f-4b74-9067-b2dbae67b921",
   "metadata": {},
   "source": [
    "#### Enumerations"
   ]
  },
  {
   "cell_type": "code",
   "execution_count": null,
   "id": "f0f20278-cbd4-4296-8ba0-663bfb801aa7",
   "metadata": {},
   "outputs": [],
   "source": [
    "class ASN1Solver(ASN1Solver):\n",
    "    def create_grammar(self):\n",
    "        super().create_grammar()\n",
    "        return self.add_enumerated()\n",
    "\n",
    "    def add_enumerated(self):\n",
    "        self.add_tag(\n",
    "            tag=asn1.Numbers.Enumerated,\n",
    "        )"
   ]
  },
  {
   "cell_type": "code",
   "execution_count": null,
   "id": "3f006946-df41-4234-85d5-2eedce518ee2",
   "metadata": {},
   "outputs": [],
   "source": [
    "solver = ASN1Solver(log=False)\n",
    "tree = solver.test(asn1.Numbers.Enumerated)\n",
    "# display_tree(tree)"
   ]
  },
  {
   "cell_type": "markdown",
   "id": "937017b3-9bc0-4c40-8e62-572c35b0fe2b",
   "metadata": {},
   "source": [
    "#### Strings"
   ]
  },
  {
   "cell_type": "code",
   "execution_count": null,
   "id": "23299606-f8fb-4978-8a1e-bf1ee98bc3c3",
   "metadata": {},
   "outputs": [],
   "source": [
    "class ASN1Solver(ASN1Solver):\n",
    "    def create_grammar(self):\n",
    "        super().create_grammar()\n",
    "        return self.add_utf8_string()\n",
    "\n",
    "    def add_utf8_string(self):\n",
    "        self.add_tag(\n",
    "            tag=asn1.Numbers.UTF8String,\n",
    "        )"
   ]
  },
  {
   "cell_type": "code",
   "execution_count": null,
   "id": "78ed7844-bb24-4b13-a0aa-335ce6582732",
   "metadata": {},
   "outputs": [],
   "source": [
    "solver = ASN1Solver(log=False)\n",
    "tree = solver.test(asn1.Numbers.UTF8String)\n",
    "# display_tree(tree)"
   ]
  },
  {
   "cell_type": "code",
   "execution_count": null,
   "id": "ddca31ee-c801-4fee-9708-788471fc3d1c",
   "metadata": {},
   "outputs": [],
   "source": [
    "class ASN1Solver(ASN1Solver):\n",
    "    def create_grammar(self):\n",
    "        super().create_grammar()\n",
    "        return self.add_printable_string()\n",
    "\n",
    "    def add_printable_string(self):\n",
    "        self.add_tag(\n",
    "            tag=asn1.Numbers.PrintableString,\n",
    "        )"
   ]
  },
  {
   "cell_type": "code",
   "execution_count": null,
   "id": "66ecfdcc-97e1-4c4d-b9c4-4f4ecf3e3357",
   "metadata": {},
   "outputs": [],
   "source": [
    "solver = ASN1Solver(log=False)\n",
    "tree = solver.test(asn1.Numbers.PrintableString)\n",
    "# display_tree(tree)"
   ]
  },
  {
   "cell_type": "code",
   "execution_count": null,
   "id": "8857ffb7-12a9-4a3d-81f0-010693b2ada9",
   "metadata": {},
   "outputs": [],
   "source": [
    "class ASN1Solver(ASN1Solver):\n",
    "    def create_grammar(self):\n",
    "        super().create_grammar()\n",
    "        return self.add_ia5_string()\n",
    "\n",
    "    def add_ia5_string(self):\n",
    "        self.add_tag(\n",
    "            tag=asn1.Numbers.IA5String,\n",
    "        )"
   ]
  },
  {
   "cell_type": "code",
   "execution_count": null,
   "id": "135f5afd-4f01-4183-a8c1-02250f8a30e3",
   "metadata": {},
   "outputs": [],
   "source": [
    "solver = ASN1Solver(log=False)\n",
    "tree = solver.test(asn1.Numbers.IA5String)\n",
    "# display_tree(tree)"
   ]
  },
  {
   "cell_type": "code",
   "execution_count": null,
   "id": "5794dd6e-3496-437a-9f05-fc17e6199c2d",
   "metadata": {},
   "outputs": [],
   "source": [
    "class ASN1Solver(ASN1Solver):\n",
    "    def create_grammar(self):\n",
    "        super().create_grammar()\n",
    "        return self.add_unicode_string()\n",
    "\n",
    "    def add_unicode_string(self):\n",
    "        self.add_tag(\n",
    "            tag=asn1.Numbers.UnicodeString,\n",
    "        )"
   ]
  },
  {
   "cell_type": "code",
   "execution_count": null,
   "id": "e8839057-81a0-4280-9666-d41146d3060a",
   "metadata": {},
   "outputs": [],
   "source": [
    "solver = ASN1Solver(log=False)\n",
    "tree = solver.test(asn1.Numbers.UnicodeString)\n",
    "# display_tree(tree)"
   ]
  },
  {
   "cell_type": "markdown",
   "id": "975399de-0267-462d-b4f7-5b479d05966b",
   "metadata": {},
   "source": [
    "#### Time"
   ]
  },
  {
   "cell_type": "code",
   "execution_count": null,
   "id": "fe28b7b0-6b0e-4284-87fc-01bbb28519c1",
   "metadata": {},
   "outputs": [],
   "source": [
    "class ASN1Solver(ASN1Solver):\n",
    "    def create_grammar(self):\n",
    "        super().create_grammar()\n",
    "        return self.add_utc_time()\n",
    "\n",
    "    def add_utc_time(self):\n",
    "        self._grammar.update({\n",
    "            '<time>': ['<year><month-day><hour><minute><second>Z'],\n",
    "            '<year>': ['<digit><digit>', '<digit><digit><digit><digit>'],\n",
    "            '<month-day>': ['<month31><day1-31>',  # FIXME: Add days\n",
    "                            '<month30><day1-30>',\n",
    "                            '<month29><day1-29>'],\n",
    "            '<month31>': ['01', '03', '05', '07', '08', '10', '12'],\n",
    "            '<month30>': ['04', '06', '09', '11'],\n",
    "            '<month29>': ['02'],\n",
    "            '<hour>': ['<digit0-1><digit>' '20', '21', '22', '23'],\n",
    "            '<minute>': ['<digit0-5><digit>'],\n",
    "            '<second>': ['<digit0-5><digit>'],  # no leap seconds (60)\n",
    "            '<digit0-1>': ['0', '1'],\n",
    "            '<digit0-5>': ['0', '1', '2', '3', '4', '5'],\n",
    "        })\n",
    "\n",
    "        self.add_tag(\n",
    "            tag=asn1.Numbers.UTCTime,\n",
    "            expansions=['<time>']\n",
    "        )"
   ]
  },
  {
   "cell_type": "code",
   "execution_count": null,
   "id": "4f103ab1-5a41-4341-ae1b-3713012220c1",
   "metadata": {},
   "outputs": [],
   "source": [
    "solver = ASN1Solver(log=False)\n",
    "tree = solver.test(asn1.Numbers.UTCTime)\n",
    "# display_tree(tree)"
   ]
  },
  {
   "cell_type": "code",
   "execution_count": null,
   "id": "3acd10ed-86a5-41a2-8f9d-4595166bb7f5",
   "metadata": {
    "tags": []
   },
   "outputs": [],
   "source": [
    "class ASN1Solver(ASN1Solver):\n",
    "    def create_grammar(self):\n",
    "        super().create_grammar()\n",
    "        return self.add_generalized_time()\n",
    "\n",
    "    def add_generalized_time(self):\n",
    "        self.add_tag(\n",
    "            tag=asn1.Numbers.GeneralizedTime,\n",
    "        )"
   ]
  },
  {
   "cell_type": "code",
   "execution_count": null,
   "id": "48c8294d-70bc-4d80-941d-222c4f213409",
   "metadata": {},
   "outputs": [],
   "source": [
    "solver = ASN1Solver(log=False)\n",
    "tree = solver.test(asn1.Numbers.GeneralizedTime)\n",
    "# display_tree(tree)"
   ]
  },
  {
   "cell_type": "markdown",
   "id": "9802b446-74c0-4fcf-b35f-c3fd0948967c",
   "metadata": {
    "tags": []
   },
   "source": [
    "### Other Types"
   ]
  },
  {
   "cell_type": "markdown",
   "id": "386bed7b-cd85-4d69-a9f7-123a4f3f68cd",
   "metadata": {},
   "source": [
    "We define a generic means to read in values whose tags we haven't seen before"
   ]
  },
  {
   "cell_type": "code",
   "execution_count": null,
   "id": "d338fbde-7e0d-46e3-8a21-7f97963d594a",
   "metadata": {},
   "outputs": [],
   "source": [
    "class ASN1Solver(ASN1Solver):\n",
    "    def create_grammar(self):\n",
    "        super().create_grammar()\n",
    "        return self.add_other()\n",
    "\n",
    "    def unused_tags(self):\n",
    "        unused_tags = set()\n",
    "        for tag in range(0, 0x1f):\n",
    "            if chr(tag) not in self._used_tags:\n",
    "                unused_tags.add(chr(tag))\n",
    "        return unused_tags\n",
    "\n",
    "    def add_other(self):\n",
    "        self._grammar.update({\n",
    "            '<other>': ['<other-tag><other-length><other-value>'],\n",
    "            '<other-tag>': \n",
    "                ['<other-low-tag>', \n",
    "                 '<other-high-tag>'],\n",
    "            '<other-low-tag>': list(self.unused_tags()),\n",
    "            '<other-high-tag>': ['<high-tag><byte>+'],\n",
    "            '<high-tag>': self.tag_variations(0x1f),\n",
    "\n",
    "            '<other-length>': ['<length>'],\n",
    "            '<other-value>': ['<byte>*'],\n",
    "            })\n",
    "        self._grammar['<value>'].append('<other>')"
   ]
  },
  {
   "cell_type": "code",
   "execution_count": null,
   "id": "0a61f26d-fa72-4445-a680-356b6863aaf4",
   "metadata": {},
   "outputs": [],
   "source": [
    "solver = ASN1Solver(log=False)\n",
    "tree = solver.test(start_symbol='<other>')\n",
    "# display_tree(tree)"
   ]
  },
  {
   "cell_type": "markdown",
   "id": "d5f16866-0918-4291-8f48-d389c2df14c2",
   "metadata": {
    "tags": []
   },
   "source": [
    "## Producing"
   ]
  },
  {
   "cell_type": "code",
   "execution_count": null,
   "id": "0c76cbe6-4351-438c-9d88-8829c4feb4a6",
   "metadata": {},
   "outputs": [],
   "source": [
    "solver = ASN1Solver(log=False)"
   ]
  },
  {
   "cell_type": "code",
   "execution_count": null,
   "id": "a66f32b7-f9cb-462d-b532-ba66c4784a7c",
   "metadata": {},
   "outputs": [],
   "source": [
    "solver.grammar"
   ]
  },
  {
   "cell_type": "code",
   "execution_count": null,
   "id": "b6088ec6-c16c-460a-8e50-e3898bcdfb3b",
   "metadata": {},
   "outputs": [],
   "source": [
    "tree = solver.solve()"
   ]
  },
  {
   "cell_type": "code",
   "execution_count": null,
   "id": "42544efc-a0cb-4efd-9ace-2800578f33c2",
   "metadata": {},
   "outputs": [],
   "source": [
    "display_tree(tree)"
   ]
  },
  {
   "cell_type": "markdown",
   "id": "533d85f2-be82-474a-a4c4-9c864c2adae4",
   "metadata": {},
   "source": [
    "## Producing X.509 Certificates\n",
    "\n",
    "[Official X.509 standard](https://www.itu.int/rec/dologin_pub.asp?lang=e&id=T-REC-X.509-200811-S!!PDF-E&type=items)\n",
    "\n",
    "[Intro to X509 fields](https://learn.microsoft.com/en-us/azure/iot-hub/tutorial-x509-certificates)"
   ]
  },
  {
   "cell_type": "markdown",
   "id": "c017cda1-ebc0-4257-a6e6-b37a9a7b273d",
   "metadata": {},
   "source": [
    "FIXME: include and support object identifiers [reference]([https://learn.microsoft.com/en-us/windows/win32/seccertenroll/about-object-identifier?redirectedfrom=MSDN)"
   ]
  },
  {
   "cell_type": "code",
   "execution_count": null,
   "id": "c6f6c4f9-3e78-43b8-9d31-e3a5419b28e2",
   "metadata": {},
   "outputs": [],
   "source": [
    "class X509Solver(ASN1Solver):\n",
    "    def create_grammar(self):\n",
    "        # First, create the grammar for ASN1 fields\n",
    "        super().create_grammar()\n",
    "\n",
    "        # Now adjust for X509\n",
    "        self._grammar.update({\n",
    "            '<start>': ['<certificate>'],\n",
    "\n",
    "            '<certificate>': ['<sequence-tag>'\n",
    "                              '<sequence-length>'\n",
    "                              '<certificate-value>'],\n",
    "        })\n",
    "\n",
    "        self._grammar.update({\n",
    "            '<certificate-value>': ['<version>'\n",
    "                                    '<serialNumber>'\n",
    "                                    '<signature>'\n",
    "                                    '<issuer>'\n",
    "                                    '<validity>'\n",
    "                                    '<subject>'\n",
    "                                    '<subjectPublicKeyInfo>'\n",
    "                                    '<issuerUniqueIdentifier>?'  # in v2 or v3\n",
    "                                    '<subjectUniqueIdentifier>?'  # in v2 or v3\n",
    "                                    '<extension>*'  # in v3\n",
    "                                   ],\n",
    "\n",
    "            '<version>': ['<integer>'],  # 0 is v1, 1 is v2, 2 is v3\n",
    "            '<serialNumber>': ['<integer>'],\n",
    "            '<signature>': ['<value>'],\n",
    "            '<issuer>': ['<value>'],\n",
    "\n",
    "            '<validity>': ['<sequence-tag><sequence-length><validity-value>'],\n",
    "            '<validity-value>': ['<notBefore>'\n",
    "                                 '<notAfter>'],\n",
    "            '<notBefore>': ['<time>'],\n",
    "            '<notAfter>': ['<time>'],\n",
    "            '<time>': ['<utctime>', '<generalized-time>'],\n",
    "\n",
    "            '<subject>': ['<string>'],\n",
    "            '<string>': ['<utf8string>', '<printablestring>'],\n",
    "\n",
    "            '<subjectPublicKeyInfo>': ['<value>'],\n",
    "\n",
    "            '<issuerUniqueIdentifier>': ['<value>'],\n",
    "            '<subjectUniqueIdentifier>': ['<value>'],\n",
    "            '<extension>': ['<value>'],\n",
    "        })"
   ]
  },
  {
   "cell_type": "code",
   "execution_count": null,
   "id": "8a88ed29-95ff-4757-ad5f-0cf1cd9b8dbd",
   "metadata": {},
   "outputs": [],
   "source": [
    "solver = X509Solver(log=False)"
   ]
  },
  {
   "cell_type": "code",
   "execution_count": null,
   "id": "7926a0b5-a02c-4dd1-b5c2-a031ff91d9db",
   "metadata": {},
   "outputs": [],
   "source": [
    "tree = solver.solve()"
   ]
  },
  {
   "cell_type": "code",
   "execution_count": null,
   "id": "9b1fc18b-530d-4afb-87fb-0de6a4ff2b82",
   "metadata": {},
   "outputs": [],
   "source": [
    "display_tree(tree)"
   ]
  },
  {
   "cell_type": "code",
   "execution_count": null,
   "id": "68df84c7-6560-4874-b378-5379678ca5a7",
   "metadata": {},
   "outputs": [],
   "source": []
  }
 ],
 "metadata": {
  "kernelspec": {
   "display_name": "Python 3 (ipykernel)",
   "language": "python",
   "name": "python3"
  },
  "language_info": {
   "codemirror_mode": {
    "name": "ipython",
    "version": 3
   },
   "file_extension": ".py",
   "mimetype": "text/x-python",
   "name": "python",
   "nbconvert_exporter": "python",
   "pygments_lexer": "ipython3",
   "version": "3.10.2"
  }
 },
 "nbformat": 4,
 "nbformat_minor": 5
}
