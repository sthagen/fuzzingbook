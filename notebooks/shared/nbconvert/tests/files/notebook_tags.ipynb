{
 "cells": [
  {
   "cell_type": "code",
   "execution_count": null,
   "metadata": {
    "tags": [
     "mycelltag",
     "mysecondcelltag"
    ]
   },
   "outputs": [],
   "source": [
    "print(\"this cell should have tags in html output\")"
   ]
  },
  {
   "cell_type": "code",
   "execution_count": null,
   "metadata": {},
   "outputs": [],
   "source": [
    "print(\"this cell should NOT have tags in html output\")"
   ]
  },
  {
   "cell_type": "markdown",
   "metadata": {
    "tags": [
     "mymarkdowncelltag"
    ]
   },
   "source": [
    "This markdown cell should have tags in the html output"
   ]
  },
  {
   "cell_type": "markdown",
   "metadata": {},
   "source": [
    "This markdown cell should **not** have tags in the html output"
   ]
  }
 ],
 "metadata": {
  "kernelspec": {
   "display_name": "Python 3",
   "language": "python",
   "name": "python3"
  },
  "language_info": {
   "codemirror_mode": {
    "name": "ipython",
    "version": 3
   },
   "file_extension": ".py",
   "mimetype": "text/x-python",
   "name": "python",
   "nbconvert_exporter": "python",
   "pygments_lexer": "ipython3",
   "version": "3.7.3"
  }
 },
 "nbformat": 4,
 "nbformat_minor": 4
}
