{
 "cells": [
  {
   "cell_type": "markdown",
   "metadata": {
    "button": false,
    "new_sheet": false,
    "run_control": {
     "read_only": false
    },
    "slideshow": {
     "slide_type": "slide"
    },
    "tags": []
   },
   "source": [
    "# Reducing Failure-Inducing Inputs\n",
    "\n",
    "By construction, fuzzers create inputs that may be hard to read.  This causes issues during _debugging_, when a human has to analyze the exact cause of the failure.  In this chapter, we present techniques that _automatically reduce and simplify failure-inducing inputs to a minimum_ in order to ease debugging."
   ]
  },
  {
   "cell_type": "code",
   "execution_count": 1,
   "metadata": {
    "execution": {
     "iopub.execute_input": "2022-11-29T13:49:52.767891Z",
     "iopub.status.busy": "2022-11-29T13:49:52.767545Z",
     "iopub.status.idle": "2022-11-29T13:49:52.828578Z",
     "shell.execute_reply": "2022-11-29T13:49:52.828771Z"
    },
    "slideshow": {
     "slide_type": "skip"
    }
   },
   "outputs": [
    {
     "data": {
      "text/html": [
       "\n",
       "        <iframe\n",
       "            width=\"640\"\n",
       "            height=\"360\"\n",
       "            src=\"https://www.youtube-nocookie.com/embed/JOv1xGVdXAU\"\n",
       "            frameborder=\"0\"\n",
       "            allowfullscreen\n",
       "        ></iframe>\n",
       "        "
      ],
      "text/plain": [
       "<IPython.lib.display.IFrame at 0x105b3f3d0>"
      ]
     },
     "execution_count": 1,
     "metadata": {},
     "output_type": "execute_result"
    }
   ],
   "source": [
    "from bookutils import YouTubeVideo\n",
    "YouTubeVideo('JOv1xGVdXAU')"
   ]
  },
  {
   "cell_type": "markdown",
   "metadata": {
    "button": false,
    "new_sheet": false,
    "run_control": {
     "read_only": false
    },
    "slideshow": {
     "slide_type": "subslide"
    }
   },
   "source": [
    "**Prerequisites**\n",
    "\n",
    "* The simple \"delta debugging\" technique for reduction has no specific prerequisites.\n",
    "* As reduction is typically used together with fuzzing, reading the [chapter on basic fuzzing](Fuzzer.ipynb) is a good idea.\n",
    "* The later grammar-based techniques require knowledge on [derivation trees](GrammarFuzzer.ipynb) and [parsing](Parser.ipynb)."
   ]
  },
  {
   "cell_type": "markdown",
   "metadata": {
    "slideshow": {
     "slide_type": "skip"
    }
   },
   "source": [
    "## Synopsis\n",
    "<!-- Automatically generated. Do not edit. -->\n",
    "\n",
    "To [use the code provided in this chapter](Importing.ipynb), write\n",
    "\n",
    "```python\n",
    ">>> from fuzzingbook.Reducer import <identifier>\n",
    "```\n",
    "\n",
    "and then make use of the following features.\n",
    "\n",
    "\n",
    "A _reducer_ takes a failure-inducing input and reduces it to the minimum that still reproduces the failure.  This chapter provides `Reducer` classes that implement such reducers.\n",
    "\n",
    "Here is a simple example: An arithmetic expression causes an error in the Python interpreter:\n",
    "\n",
    "```python\n",
    ">>> !python -c 'x = 1 + 2 * 3 / 0'\n",
    "Traceback (most recent call last):\r\n",
    "  File \"<string>\", line 1, in <module>\r\n",
    "ZeroDivisionError: division by zero\r\n",
    "\n",
    "```\n",
    "Can we reduce this input to a minimum?  To use a `Reducer`, one first has to build a `Runner` whose outcome is `FAIL` if the precise error occurs.  We therefore build a `ZeroDivisionRunner` whose `run()` method will specifically return a `FAIL` outcome if a `ZeroDivisionError` occurs.\n",
    "\n",
    "```python\n",
    ">>> from Fuzzer import ProgramRunner\n",
    ">>> import subprocess\n",
    ">>> class ZeroDivisionRunner(ProgramRunner):\n",
    ">>>     \"\"\"Make outcome 'FAIL' if ZeroDivisionError occurs\"\"\"\n",
    ">>> \n",
    ">>>     def run(self, inp: str = \"\") -> Tuple[subprocess.CompletedProcess, Outcome]:\n",
    ">>>         process, outcome = super().run(inp)\n",
    ">>>         if process.stderr.find('ZeroDivisionError') >= 0:\n",
    ">>>             outcome = 'FAIL'\n",
    ">>>         return process, outcome\n",
    "```\n",
    "If we feed this expression into a `ZeroDivisionRunner`, it will produce an outcome of `FAIL` as designed.\n",
    "\n",
    "```python\n",
    ">>> python_input = \"x = 1 + 2 * 3 / 0\"\n",
    ">>> python_runner = ZeroDivisionRunner(\"python\")\n",
    ">>> process, outcome = python_runner.run(python_input)\n",
    ">>> outcome\n",
    "'FAIL'\n",
    "```\n",
    "Delta Debugging is a simple and robust reduction algorithm.  We can tie a `DeltaDebuggingReducer` to this runner, and have it determine the substring that causes the `python` program to fail:\n",
    "\n",
    "```python\n",
    ">>> dd = DeltaDebuggingReducer(python_runner)\n",
    ">>> dd.reduce(python_input)\n",
    "'3/0'\n",
    "```\n",
    "The input is reduced to the minimum: We get the essence of the division by zero.\n",
    "\n",
    "![](PICS/Reducer-synopsis-1.svg)\n",
    "\n"
   ]
  },
  {
   "cell_type": "markdown",
   "metadata": {
    "button": false,
    "new_sheet": true,
    "run_control": {
     "read_only": false
    },
    "slideshow": {
     "slide_type": "slide"
    }
   },
   "source": [
    "## Why Reducing?\n",
    "\n",
    "At this point, we have seen a number of test generation techniques that all in some form produce inputs in order to trigger failures.  If they are successful – that is, the program actually fails – we must find out why the failure occurred and how to fix it."
   ]
  },
  {
   "cell_type": "markdown",
   "metadata": {
    "button": false,
    "new_sheet": true,
    "run_control": {
     "read_only": false
    },
    "slideshow": {
     "slide_type": "fragment"
    }
   },
   "source": [
    "Here's an example of such a situation.  We have a class `MysteryRunner` with a `run()` method that – given its code – can occasionally fail.  But under which circumstances does this actually happen?  We have deliberately obscured the exact condition in order to make this non-obvious."
   ]
  },
  {
   "cell_type": "code",
   "execution_count": 2,
   "metadata": {
    "button": false,
    "execution": {
     "iopub.execute_input": "2022-11-29T13:49:52.831199Z",
     "iopub.status.busy": "2022-11-29T13:49:52.830878Z",
     "iopub.status.idle": "2022-11-29T13:49:52.832004Z",
     "shell.execute_reply": "2022-11-29T13:49:52.832236Z"
    },
    "new_sheet": false,
    "run_control": {
     "read_only": false
    },
    "slideshow": {
     "slide_type": "skip"
    }
   },
   "outputs": [],
   "source": [
    "import bookutils"
   ]
  },
  {
   "cell_type": "code",
   "execution_count": 3,
   "metadata": {
    "execution": {
     "iopub.execute_input": "2022-11-29T13:49:52.833887Z",
     "iopub.status.busy": "2022-11-29T13:49:52.833618Z",
     "iopub.status.idle": "2022-11-29T13:49:52.835025Z",
     "shell.execute_reply": "2022-11-29T13:49:52.834794Z"
    },
    "slideshow": {
     "slide_type": "skip"
    }
   },
   "outputs": [],
   "source": [
    "from bookutils import quiz"
   ]
  },
  {
   "cell_type": "code",
   "execution_count": 4,
   "metadata": {
    "execution": {
     "iopub.execute_input": "2022-11-29T13:49:52.836754Z",
     "iopub.status.busy": "2022-11-29T13:49:52.836486Z",
     "iopub.status.idle": "2022-11-29T13:49:52.837616Z",
     "shell.execute_reply": "2022-11-29T13:49:52.837807Z"
    },
    "slideshow": {
     "slide_type": "skip"
    }
   },
   "outputs": [],
   "source": [
    "from typing import Tuple, List, Sequence, Any, Optional"
   ]
  },
  {
   "cell_type": "code",
   "execution_count": 5,
   "metadata": {
    "execution": {
     "iopub.execute_input": "2022-11-29T13:49:52.839555Z",
     "iopub.status.busy": "2022-11-29T13:49:52.839245Z",
     "iopub.status.idle": "2022-11-29T13:49:52.865363Z",
     "shell.execute_reply": "2022-11-29T13:49:52.865562Z"
    },
    "slideshow": {
     "slide_type": "skip"
    }
   },
   "outputs": [],
   "source": [
    "from ExpectError import ExpectError"
   ]
  },
  {
   "cell_type": "code",
   "execution_count": 6,
   "metadata": {
    "execution": {
     "iopub.execute_input": "2022-11-29T13:49:52.867326Z",
     "iopub.status.busy": "2022-11-29T13:49:52.867057Z",
     "iopub.status.idle": "2022-11-29T13:49:52.919976Z",
     "shell.execute_reply": "2022-11-29T13:49:52.920165Z"
    },
    "slideshow": {
     "slide_type": "skip"
    },
    "tags": []
   },
   "outputs": [],
   "source": [
    "from Fuzzer import RandomFuzzer, Runner, Outcome"
   ]
  },
  {
   "cell_type": "code",
   "execution_count": 7,
   "metadata": {
    "execution": {
     "iopub.execute_input": "2022-11-29T13:49:52.921958Z",
     "iopub.status.busy": "2022-11-29T13:49:52.921668Z",
     "iopub.status.idle": "2022-11-29T13:49:52.922823Z",
     "shell.execute_reply": "2022-11-29T13:49:52.923001Z"
    },
    "slideshow": {
     "slide_type": "skip"
    }
   },
   "outputs": [],
   "source": [
    "import re"
   ]
  },
  {
   "cell_type": "code",
   "execution_count": 8,
   "metadata": {
    "execution": {
     "iopub.execute_input": "2022-11-29T13:49:52.925203Z",
     "iopub.status.busy": "2022-11-29T13:49:52.924931Z",
     "iopub.status.idle": "2022-11-29T13:49:52.926238Z",
     "shell.execute_reply": "2022-11-29T13:49:52.926412Z"
    },
    "slideshow": {
     "slide_type": "subslide"
    }
   },
   "outputs": [],
   "source": [
    "class MysteryRunner(Runner):\n",
    "    def run(self, inp: str) -> Tuple[str, Outcome]:\n",
    "        x = inp.find(chr(0o17 + 0o31))\n",
    "        y = inp.find(chr(0o27 + 0o22))\n",
    "        if x >= 0 and y >= 0 and x < y:\n",
    "            return (inp, Runner.FAIL)\n",
    "        else:\n",
    "            return (inp, Runner.PASS)"
   ]
  },
  {
   "cell_type": "markdown",
   "metadata": {
    "slideshow": {
     "slide_type": "fragment"
    }
   },
   "source": [
    "Let us fuzz the function until we find a failing input."
   ]
  },
  {
   "cell_type": "code",
   "execution_count": 9,
   "metadata": {
    "execution": {
     "iopub.execute_input": "2022-11-29T13:49:52.928395Z",
     "iopub.status.busy": "2022-11-29T13:49:52.928115Z",
     "iopub.status.idle": "2022-11-29T13:49:52.929461Z",
     "shell.execute_reply": "2022-11-29T13:49:52.929613Z"
    },
    "slideshow": {
     "slide_type": "subslide"
    }
   },
   "outputs": [],
   "source": [
    "mystery = MysteryRunner()\n",
    "random_fuzzer = RandomFuzzer()\n",
    "while True:\n",
    "    inp = random_fuzzer.fuzz()\n",
    "    result, outcome = mystery.run(inp)\n",
    "    if outcome == mystery.FAIL:\n",
    "        break"
   ]
  },
  {
   "cell_type": "code",
   "execution_count": 10,
   "metadata": {
    "execution": {
     "iopub.execute_input": "2022-11-29T13:49:52.931412Z",
     "iopub.status.busy": "2022-11-29T13:49:52.931098Z",
     "iopub.status.idle": "2022-11-29T13:49:52.932566Z",
     "shell.execute_reply": "2022-11-29T13:49:52.932751Z"
    },
    "slideshow": {
     "slide_type": "fragment"
    }
   },
   "outputs": [
    {
     "data": {
      "text/plain": [
       "' 7:,>((/$$-/->.;.=;(.%!:50#7*8=$&&=$9!%6(4=&69\\':\\'<3+0-3.24#7=!&60)2/+\";+<7+1<2!4$>92+$1<(3%&5\\'\\'>#'"
      ]
     },
     "execution_count": 10,
     "metadata": {},
     "output_type": "execute_result"
    }
   ],
   "source": [
    "failing_input = result\n",
    "failing_input"
   ]
  },
  {
   "cell_type": "markdown",
   "metadata": {
    "slideshow": {
     "slide_type": "fragment"
    }
   },
   "source": [
    "Something in this input causes `MysteryRunner` to fail.  But what is it?"
   ]
  },
  {
   "cell_type": "markdown",
   "metadata": {
    "button": false,
    "new_sheet": true,
    "run_control": {
     "read_only": false
    },
    "slideshow": {
     "slide_type": "slide"
    }
   },
   "source": [
    "## Manual Input Reduction\n",
    "\n",
    "One important step in the debugging process is _reduction_ – that is, to identify those circumstances of a failure that are relevant for the failure to occur, and to _omit_ (if possible) those parts that are not.  As Kernighan and Pike \\cite{Kernighan1999} put it:\n",
    "\n",
    "> For every circumstance of the problem, check whether it is relevant for the problem to occur.  If it is not, remove it from the problem report or the test case in question."
   ]
  },
  {
   "cell_type": "markdown",
   "metadata": {
    "slideshow": {
     "slide_type": "subslide"
    }
   },
   "source": [
    "Specifically for inputs, they suggest a _divide and conquer_ process:\n",
    "\n",
    "> Proceed by binary search.  Throw away half the input and see if the output is still wrong; if not, go back to the previous state and discard the other half of the input.\n",
    "\n",
    "This is something we can easily try out, using our last generated input:"
   ]
  },
  {
   "cell_type": "code",
   "execution_count": 11,
   "metadata": {
    "execution": {
     "iopub.execute_input": "2022-11-29T13:49:52.934487Z",
     "iopub.status.busy": "2022-11-29T13:49:52.934170Z",
     "iopub.status.idle": "2022-11-29T13:49:52.935732Z",
     "shell.execute_reply": "2022-11-29T13:49:52.935880Z"
    },
    "slideshow": {
     "slide_type": "fragment"
    }
   },
   "outputs": [
    {
     "data": {
      "text/plain": [
       "' 7:,>((/$$-/->.;.=;(.%!:50#7*8=$&&=$9!%6(4=&69\\':\\'<3+0-3.24#7=!&60)2/+\";+<7+1<2!4$>92+$1<(3%&5\\'\\'>#'"
      ]
     },
     "execution_count": 11,
     "metadata": {},
     "output_type": "execute_result"
    }
   ],
   "source": [
    "failing_input"
   ]
  },
  {
   "cell_type": "markdown",
   "metadata": {
    "slideshow": {
     "slide_type": "fragment"
    }
   },
   "source": [
    "For instance, we can see whether the error still occurs if we only feed in the first half:"
   ]
  },
  {
   "cell_type": "code",
   "execution_count": 12,
   "metadata": {
    "execution": {
     "iopub.execute_input": "2022-11-29T13:49:52.937984Z",
     "iopub.status.busy": "2022-11-29T13:49:52.937656Z",
     "iopub.status.idle": "2022-11-29T13:49:52.939346Z",
     "shell.execute_reply": "2022-11-29T13:49:52.939556Z"
    },
    "slideshow": {
     "slide_type": "subslide"
    }
   },
   "outputs": [
    {
     "data": {
      "text/plain": [
       "(\" 7:,>((/$$-/->.;.=;(.%!:50#7*8=$&&=$9!%6(4=&69':\", 'PASS')"
      ]
     },
     "execution_count": 12,
     "metadata": {},
     "output_type": "execute_result"
    }
   ],
   "source": [
    "half_length = len(failing_input) // 2   # // is integer division\n",
    "first_half = failing_input[:half_length]\n",
    "mystery.run(first_half)"
   ]
  },
  {
   "cell_type": "markdown",
   "metadata": {
    "slideshow": {
     "slide_type": "fragment"
    }
   },
   "source": [
    "Nope – the first half alone does not suffice.  Maybe the second half?"
   ]
  },
  {
   "cell_type": "code",
   "execution_count": 13,
   "metadata": {
    "execution": {
     "iopub.execute_input": "2022-11-29T13:49:52.941123Z",
     "iopub.status.busy": "2022-11-29T13:49:52.940843Z",
     "iopub.status.idle": "2022-11-29T13:49:52.943118Z",
     "shell.execute_reply": "2022-11-29T13:49:52.943299Z"
    },
    "slideshow": {
     "slide_type": "fragment"
    }
   },
   "outputs": [
    {
     "data": {
      "text/plain": [
       "('\\'<3+0-3.24#7=!&60)2/+\";+<7+1<2!4$>92+$1<(3%&5\\'\\'>#', 'PASS')"
      ]
     },
     "execution_count": 13,
     "metadata": {},
     "output_type": "execute_result"
    }
   ],
   "source": [
    "second_half = failing_input[half_length:]\n",
    "mystery.run(second_half)"
   ]
  },
  {
   "cell_type": "markdown",
   "metadata": {
    "slideshow": {
     "slide_type": "fragment"
    }
   },
   "source": [
    "This did not go so well either.  We may still proceed by cutting away _smaller chunks_ – say, one character after another.  If our test is deterministic and easily repeated, it is clear that this process eventually will yield a reduced input.  But still, it is a rather inefficient process, especially for long inputs.  What we need is a _strategy_ that effectively minimizes a failure-inducing input – a strategy that can be automated."
   ]
  },
  {
   "cell_type": "markdown",
   "metadata": {
    "slideshow": {
     "slide_type": "slide"
    }
   },
   "source": [
    "## Delta Debugging"
   ]
  },
  {
   "cell_type": "markdown",
   "metadata": {
    "slideshow": {
     "slide_type": "fragment"
    }
   },
   "source": [
    "One strategy to effectively reduce failure-inducing inputs is _delta debugging_ \\cite{Zeller2002}.  Delta Debugging implements the \"binary search\" strategy, as listed above, but with a twist: If neither half fails (also as above), it keeps on cutting away smaller and smaller chunks from the input, until it eliminates individual characters.  Thus, after cutting away the first half, we cut away\n",
    "the first quarter, the second quarter, and so on."
   ]
  },
  {
   "cell_type": "markdown",
   "metadata": {
    "slideshow": {
     "slide_type": "fragment"
    }
   },
   "source": [
    "Let us illustrate this on our example, and see what happens if we cut away the first quarter."
   ]
  },
  {
   "cell_type": "code",
   "execution_count": 14,
   "metadata": {
    "execution": {
     "iopub.execute_input": "2022-11-29T13:49:52.945831Z",
     "iopub.status.busy": "2022-11-29T13:49:52.945413Z",
     "iopub.status.idle": "2022-11-29T13:49:52.946748Z",
     "shell.execute_reply": "2022-11-29T13:49:52.946929Z"
    },
    "slideshow": {
     "slide_type": "subslide"
    }
   },
   "outputs": [
    {
     "data": {
      "text/plain": [
       "('50#7*8=$&&=$9!%6(4=&69\\':\\'<3+0-3.24#7=!&60)2/+\";+<7+1<2!4$>92+$1<(3%&5\\'\\'>#',\n",
       " 'FAIL')"
      ]
     },
     "execution_count": 14,
     "metadata": {},
     "output_type": "execute_result"
    }
   ],
   "source": [
    "quarter_length = len(failing_input) // 4\n",
    "input_without_first_quarter = failing_input[quarter_length:]\n",
    "mystery.run(input_without_first_quarter)"
   ]
  },
  {
   "cell_type": "markdown",
   "metadata": {
    "slideshow": {
     "slide_type": "fragment"
    }
   },
   "source": [
    "Ah! This has failed, and reduced our failing input by 25%.  Let's remove another quarter."
   ]
  },
  {
   "cell_type": "code",
   "execution_count": 15,
   "metadata": {
    "execution": {
     "iopub.execute_input": "2022-11-29T13:49:52.949126Z",
     "iopub.status.busy": "2022-11-29T13:49:52.948830Z",
     "iopub.status.idle": "2022-11-29T13:49:52.950251Z",
     "shell.execute_reply": "2022-11-29T13:49:52.950486Z"
    },
    "slideshow": {
     "slide_type": "fragment"
    }
   },
   "outputs": [
    {
     "data": {
      "text/plain": [
       "('\\'<3+0-3.24#7=!&60)2/+\";+<7+1<2!4$>92+$1<(3%&5\\'\\'>#', 'PASS')"
      ]
     },
     "execution_count": 15,
     "metadata": {},
     "output_type": "execute_result"
    }
   ],
   "source": [
    "input_without_first_and_second_quarter = failing_input[quarter_length * 2:]\n",
    "mystery.run(input_without_first_and_second_quarter)"
   ]
  },
  {
   "cell_type": "markdown",
   "metadata": {
    "slideshow": {
     "slide_type": "fragment"
    }
   },
   "source": [
    "This is not too surprising, as we had that one before:"
   ]
  },
  {
   "cell_type": "code",
   "execution_count": 16,
   "metadata": {
    "execution": {
     "iopub.execute_input": "2022-11-29T13:49:52.952586Z",
     "iopub.status.busy": "2022-11-29T13:49:52.952265Z",
     "iopub.status.idle": "2022-11-29T13:49:52.953852Z",
     "shell.execute_reply": "2022-11-29T13:49:52.954050Z"
    },
    "slideshow": {
     "slide_type": "fragment"
    }
   },
   "outputs": [
    {
     "data": {
      "text/plain": [
       "'\\'<3+0-3.24#7=!&60)2/+\";+<7+1<2!4$>92+$1<(3%&5\\'\\'>#'"
      ]
     },
     "execution_count": 16,
     "metadata": {},
     "output_type": "execute_result"
    }
   ],
   "source": [
    "second_half"
   ]
  },
  {
   "cell_type": "code",
   "execution_count": 17,
   "metadata": {
    "execution": {
     "iopub.execute_input": "2022-11-29T13:49:52.956022Z",
     "iopub.status.busy": "2022-11-29T13:49:52.955685Z",
     "iopub.status.idle": "2022-11-29T13:49:52.957046Z",
     "shell.execute_reply": "2022-11-29T13:49:52.957242Z"
    },
    "slideshow": {
     "slide_type": "fragment"
    }
   },
   "outputs": [
    {
     "data": {
      "text/plain": [
       "'\\'<3+0-3.24#7=!&60)2/+\";+<7+1<2!4$>92+$1<(3%&5\\'\\'>#'"
      ]
     },
     "execution_count": 17,
     "metadata": {},
     "output_type": "execute_result"
    }
   ],
   "source": [
    "input_without_first_and_second_quarter"
   ]
  },
  {
   "cell_type": "markdown",
   "metadata": {
    "slideshow": {
     "slide_type": "subslide"
    }
   },
   "source": [
    "How about removing the third quarter, then?"
   ]
  },
  {
   "cell_type": "code",
   "execution_count": 18,
   "metadata": {
    "execution": {
     "iopub.execute_input": "2022-11-29T13:49:52.958702Z",
     "iopub.status.busy": "2022-11-29T13:49:52.958423Z",
     "iopub.status.idle": "2022-11-29T13:49:52.960828Z",
     "shell.execute_reply": "2022-11-29T13:49:52.961023Z"
    },
    "slideshow": {
     "slide_type": "fragment"
    }
   },
   "outputs": [
    {
     "data": {
      "text/plain": [
       "(\"50#7*8=$&&=$9!%6(4=&69':<7+1<2!4$>92+$1<(3%&5''>#\", 'PASS')"
      ]
     },
     "execution_count": 18,
     "metadata": {},
     "output_type": "execute_result"
    }
   ],
   "source": [
    "input_without_first_and_third_quarter = failing_input[quarter_length:\n",
    "                                                      quarter_length * 2] + failing_input[quarter_length * 3:]\n",
    "mystery.run(input_without_first_and_third_quarter)"
   ]
  },
  {
   "cell_type": "markdown",
   "metadata": {
    "slideshow": {
     "slide_type": "fragment"
    }
   },
   "source": [
    "Ok.  Let us remove the fourth quarter."
   ]
  },
  {
   "cell_type": "code",
   "execution_count": 19,
   "metadata": {
    "execution": {
     "iopub.execute_input": "2022-11-29T13:49:52.963266Z",
     "iopub.status.busy": "2022-11-29T13:49:52.962940Z",
     "iopub.status.idle": "2022-11-29T13:49:52.964355Z",
     "shell.execute_reply": "2022-11-29T13:49:52.964547Z"
    },
    "slideshow": {
     "slide_type": "fragment"
    }
   },
   "outputs": [
    {
     "data": {
      "text/plain": [
       "('50#7*8=$&&=$9!%6(4=&69\\':\\'<3+0-3.24#7=!&60)2/+\";+', 'FAIL')"
      ]
     },
     "execution_count": 19,
     "metadata": {},
     "output_type": "execute_result"
    }
   ],
   "source": [
    "input_without_first_and_fourth_quarter = failing_input[quarter_length:quarter_length * 3]\n",
    "mystery.run(input_without_first_and_fourth_quarter)"
   ]
  },
  {
   "cell_type": "markdown",
   "metadata": {
    "slideshow": {
     "slide_type": "fragment"
    }
   },
   "source": [
    "Yes!  This has succeeded.  Our input is now 50% smaller."
   ]
  },
  {
   "cell_type": "markdown",
   "metadata": {
    "slideshow": {
     "slide_type": "fragment"
    }
   },
   "source": [
    "We have now tried to remove pieces that make up $\\frac{1}{2}$ and $\\frac{1}{4}$ of the original failing string.  In the next iteration, we would go and remove even smaller pieces – $\\frac{1}{8}$, $\\frac{1}{16}$ and so on.  We continue until we are down to $\\frac{1}{97}$ – that is, individual characters."
   ]
  },
  {
   "cell_type": "markdown",
   "metadata": {
    "slideshow": {
     "slide_type": "subslide"
    }
   },
   "source": [
    "However, this is something we happily let a computer do for us.  We first introduce a `Reducer` class as an abstract superclass for all kinds of reducers.  The `test()` method runs a single test (with logging, if wanted); the `reduce()` method will eventually reduce an input to the minimum."
   ]
  },
  {
   "cell_type": "code",
   "execution_count": 20,
   "metadata": {
    "execution": {
     "iopub.execute_input": "2022-11-29T13:49:52.967943Z",
     "iopub.status.busy": "2022-11-29T13:49:52.967630Z",
     "iopub.status.idle": "2022-11-29T13:49:52.968660Z",
     "shell.execute_reply": "2022-11-29T13:49:52.968960Z"
    },
    "slideshow": {
     "slide_type": "subslide"
    }
   },
   "outputs": [],
   "source": [
    "class Reducer:\n",
    "    \"\"\"Base class for reducers.\"\"\"\n",
    "\n",
    "    def __init__(self, runner: Runner, log_test: bool = False) -> None:\n",
    "        \"\"\"Attach reducer to the given `runner`\"\"\"\n",
    "        self.runner = runner\n",
    "        self.log_test = log_test\n",
    "        self.reset()\n",
    "\n",
    "    def reset(self) -> None:\n",
    "        \"\"\"Reset the test counter to zero. To be extended in subclasses.\"\"\"\n",
    "        self.tests = 0\n",
    "\n",
    "    def test(self, inp: str) -> Outcome:\n",
    "        \"\"\"Test with input `inp`. Return outcome.\n",
    "        To be extended in subclasses.\"\"\"\n",
    "\n",
    "        result, outcome = self.runner.run(inp)\n",
    "        self.tests += 1\n",
    "        if self.log_test:\n",
    "            print(\"Test #%d\" % self.tests, repr(inp), repr(len(inp)), outcome)\n",
    "        return outcome\n",
    "\n",
    "    def reduce(self, inp: str) -> str:\n",
    "        \"\"\"Reduce input `inp`. Return reduced input.\n",
    "        To be defined in subclasses.\"\"\"\n",
    "\n",
    "        self.reset()\n",
    "        # Default: Don't reduce\n",
    "        return inp"
   ]
  },
  {
   "cell_type": "markdown",
   "metadata": {
    "slideshow": {
     "slide_type": "subslide"
    }
   },
   "source": [
    "The `CachingReducer` variant saves test results, such that we don't have to run the same tests again and again:"
   ]
  },
  {
   "cell_type": "code",
   "execution_count": 21,
   "metadata": {
    "execution": {
     "iopub.execute_input": "2022-11-29T13:49:52.971559Z",
     "iopub.status.busy": "2022-11-29T13:49:52.971265Z",
     "iopub.status.idle": "2022-11-29T13:49:52.972444Z",
     "shell.execute_reply": "2022-11-29T13:49:52.972631Z"
    },
    "slideshow": {
     "slide_type": "subslide"
    }
   },
   "outputs": [],
   "source": [
    "class CachingReducer(Reducer):\n",
    "    \"\"\"A reducer that also caches test outcomes\"\"\"\n",
    "\n",
    "    def reset(self):\n",
    "        super().reset()\n",
    "        self.cache = {}\n",
    "\n",
    "    def test(self, inp):\n",
    "        if inp in self.cache:\n",
    "            return self.cache[inp]\n",
    "\n",
    "        outcome = super().test(inp)\n",
    "        self.cache[inp] = outcome\n",
    "        return outcome"
   ]
  },
  {
   "cell_type": "markdown",
   "metadata": {
    "slideshow": {
     "slide_type": "subslide"
    }
   },
   "source": [
    "Here comes the _Delta Debugging_ reducer.  Delta Debugging implements the strategy sketched above: It first removes larger chunks of size $\\frac{1}{2}$; if this does not fail, then we proceed to chunks of size $\\frac{1}{4}$, then $\\frac{1}{8}$ and so on."
   ]
  },
  {
   "cell_type": "markdown",
   "metadata": {
    "slideshow": {
     "slide_type": "fragment"
    }
   },
   "source": [
    "Our implementation uses almost the same Python code as Zeller in \\cite{Zeller2002}; the only difference is that it has been adapted to work on Python 3 and our `Runner` framework.    The variable `n` (initially 2) indicates the granularity – in each step, chunks of size $\\frac{1}{n}$ are cut away.  If none of the test fails (`some_complement_is_failing` is False), then `n` is doubled – until it reaches the length of the input."
   ]
  },
  {
   "cell_type": "code",
   "execution_count": 22,
   "metadata": {
    "execution": {
     "iopub.execute_input": "2022-11-29T13:49:52.975932Z",
     "iopub.status.busy": "2022-11-29T13:49:52.975639Z",
     "iopub.status.idle": "2022-11-29T13:49:52.976826Z",
     "shell.execute_reply": "2022-11-29T13:49:52.977140Z"
    },
    "slideshow": {
     "slide_type": "subslide"
    }
   },
   "outputs": [],
   "source": [
    "class DeltaDebuggingReducer(CachingReducer):\n",
    "    \"\"\"Reduce inputs using delta debugging.\"\"\"\n",
    "\n",
    "    def reduce(self, inp: str) -> str:\n",
    "        \"\"\"Reduce input `inp` using delta debugging. Return reduced input.\"\"\"\n",
    "\n",
    "        self.reset()\n",
    "        assert self.test(inp) != Runner.PASS\n",
    "\n",
    "        n = 2     # Initial granularity\n",
    "        while len(inp) >= 2:\n",
    "            start = 0.0\n",
    "            subset_length = len(inp) / n\n",
    "            some_complement_is_failing = False\n",
    "\n",
    "            while start < len(inp):\n",
    "                complement = inp[:int(start)] + \\\n",
    "                    inp[int(start + subset_length):]\n",
    "\n",
    "                if self.test(complement) == Runner.FAIL:\n",
    "                    inp = complement\n",
    "                    n = max(n - 1, 2)\n",
    "                    some_complement_is_failing = True\n",
    "                    break\n",
    "\n",
    "                start += subset_length\n",
    "\n",
    "            if not some_complement_is_failing:\n",
    "                if n == len(inp):\n",
    "                    break\n",
    "                n = min(n * 2, len(inp))\n",
    "\n",
    "        return inp"
   ]
  },
  {
   "cell_type": "markdown",
   "metadata": {
    "slideshow": {
     "slide_type": "subslide"
    }
   },
   "source": [
    "To see how the `DeltaDebuggingReducer` works, let us run it on our failing input.  With each step, we see how the remaining input gets smaller and smaller, until only two characters remain:"
   ]
  },
  {
   "cell_type": "code",
   "execution_count": 23,
   "metadata": {
    "execution": {
     "iopub.execute_input": "2022-11-29T13:49:52.979267Z",
     "iopub.status.busy": "2022-11-29T13:49:52.978942Z",
     "iopub.status.idle": "2022-11-29T13:49:52.981841Z",
     "shell.execute_reply": "2022-11-29T13:49:52.982125Z"
    },
    "slideshow": {
     "slide_type": "subslide"
    }
   },
   "outputs": [
    {
     "name": "stdout",
     "output_type": "stream",
     "text": [
      "Test #1 ' 7:,>((/$$-/->.;.=;(.%!:50#7*8=$&&=$9!%6(4=&69\\':\\'<3+0-3.24#7=!&60)2/+\";+<7+1<2!4$>92+$1<(3%&5\\'\\'>#' 97 FAIL\n",
      "Test #2 '\\'<3+0-3.24#7=!&60)2/+\";+<7+1<2!4$>92+$1<(3%&5\\'\\'>#' 49 PASS\n",
      "Test #3 \" 7:,>((/$$-/->.;.=;(.%!:50#7*8=$&&=$9!%6(4=&69':\" 48 PASS\n",
      "Test #4 '50#7*8=$&&=$9!%6(4=&69\\':\\'<3+0-3.24#7=!&60)2/+\";+<7+1<2!4$>92+$1<(3%&5\\'\\'>#' 73 FAIL\n",
      "Test #5 \"50#7*8=$&&=$9!%6(4=&69':<7+1<2!4$>92+$1<(3%&5''>#\" 49 PASS\n",
      "Test #6 '50#7*8=$&&=$9!%6(4=&69\\':\\'<3+0-3.24#7=!&60)2/+\";+' 48 FAIL\n",
      "Test #7 '\\'<3+0-3.24#7=!&60)2/+\";+' 24 PASS\n",
      "Test #8 \"50#7*8=$&&=$9!%6(4=&69':\" 24 PASS\n",
      "Test #9 '9!%6(4=&69\\':\\'<3+0-3.24#7=!&60)2/+\";+' 36 FAIL\n",
      "Test #10 '9!%6(4=&69\\':=!&60)2/+\";+' 24 FAIL\n",
      "Test #11 '=!&60)2/+\";+' 12 PASS\n",
      "Test #12 \"9!%6(4=&69':\" 12 PASS\n",
      "Test #13 '=&69\\':=!&60)2/+\";+' 18 PASS\n",
      "Test #14 '9!%6(4=!&60)2/+\";+' 18 FAIL\n",
      "Test #15 '9!%6(42/+\";+' 12 PASS\n",
      "Test #16 '9!%6(4=!&60)' 12 FAIL\n",
      "Test #17 '=!&60)' 6 PASS\n",
      "Test #18 '9!%6(4' 6 PASS\n",
      "Test #19 '6(4=!&60)' 9 FAIL\n",
      "Test #20 '6(460)' 6 FAIL\n",
      "Test #21 '60)' 3 PASS\n",
      "Test #22 '6(4' 3 PASS\n",
      "Test #23 '(460)' 5 FAIL\n",
      "Test #24 '460)' 4 PASS\n",
      "Test #25 '(0)' 3 FAIL\n",
      "Test #26 '0)' 2 PASS\n",
      "Test #27 '(' 1 PASS\n",
      "Test #28 '()' 2 FAIL\n",
      "Test #29 ')' 1 PASS\n"
     ]
    },
    {
     "data": {
      "text/plain": [
       "'()'"
      ]
     },
     "execution_count": 23,
     "metadata": {},
     "output_type": "execute_result"
    }
   ],
   "source": [
    "dd_reducer = DeltaDebuggingReducer(mystery, log_test=True)\n",
    "dd_reducer.reduce(failing_input)"
   ]
  },
  {
   "cell_type": "markdown",
   "metadata": {
    "slideshow": {
     "slide_type": "subslide"
    }
   },
   "source": [
    "Now we know why `MysteryRunner` fails – it suffices that the input contains two matching parentheses.  Delta Debugging determines this in 29 steps.  Its result is _1-minimal_, meaning that every character contained is required to produce the error; removing any (as seen in tests `#27` and `#29`, above) no longer makes the test fail.  This property is guaranteed by the delta debugging algorithm, which in its last stage always tries to delete characters one by one."
   ]
  },
  {
   "cell_type": "markdown",
   "metadata": {
    "button": false,
    "new_sheet": true,
    "run_control": {
     "read_only": false
    },
    "slideshow": {
     "slide_type": "subslide"
    }
   },
   "source": [
    "A reduced test case such as the one above has many advantages:\n",
    "\n",
    "* A reduced test case __reduces the _cognitive load_ of the programmer__.  The test case is shorter and focused, and thus does not burden the programmer with irrelevant details.  A reduced input typically leads to shorter executions and smaller program states, both of which reduce the search space as it comes to understanding the bug.  In our case, we have eliminated lots of irrelevant input – only the two characters the reduced input contains are relevant.\n",
    "\n",
    "* A reduced test case __is easier to communicate__.  All one needs here is the summary: `MysteryRunner fails on \"()\"`, which is much better than `MysteryRunner fails on a 4100-character input (attached)`.\n",
    "\n",
    "* A reduced test case helps in __identifying duplicates__.  If similar bugs have been reported already, and all of them have been reduced to the same cause (namely that the input contains matching parentheses), then it becomes obvious that all these bugs are different symptoms of the same underlying cause – and would all be resolved at once with one code fix."
   ]
  },
  {
   "cell_type": "markdown",
   "metadata": {
    "slideshow": {
     "slide_type": "subslide"
    }
   },
   "source": [
    "How effective is delta debugging?  In the best case (when the left half or the right half fails), the number of tests is logarithmic proportional to the length $n$ of an input (i.e., $O(\\log_2 n)$); this is the same complexity as binary search.  In the worst case, though, delta debugging can require a number of tests proportional to $n^2$  (i.e., $O(n^2)$) – this happens in the case when we are down to character granularity, and we have to repeatedly tried to delete all characters, only to find that deleting the last character results in a failure \\cite{Zeller2002}.  (This is a pretty pathological situation, though.)"
   ]
  },
  {
   "cell_type": "markdown",
   "metadata": {
    "slideshow": {
     "slide_type": "fragment"
    }
   },
   "source": [
    "In general, delta debugging is a robust algorithm that is easy to implement, easy to deploy, and easy to use – provided that the underlying test case is deterministic and runs quickly enough to warrant a number of experiments.  As these are the same prerequisites that make fuzzing effective, delta debugging makes an excellent companion to fuzzing."
   ]
  },
  {
   "cell_type": "code",
   "execution_count": 24,
   "metadata": {
    "execution": {
     "iopub.execute_input": "2022-11-29T13:49:52.987155Z",
     "iopub.status.busy": "2022-11-29T13:49:52.986779Z",
     "iopub.status.idle": "2022-11-29T13:49:52.988465Z",
     "shell.execute_reply": "2022-11-29T13:49:52.988710Z"
    },
    "slideshow": {
     "slide_type": "subslide"
    }
   },
   "outputs": [
    {
     "data": {
      "text/html": [
       "\n",
       "    \n",
       "    <script>\n",
       "    var bad_answers = new Map();\n",
       "\n",
       "    function answer(quiz_id) {\n",
       "        ans = 0;\n",
       "        for (i = 1;; i++) {\n",
       "            checkbox = document.getElementById(quiz_id + \"-\" + i.toString());\n",
       "            if (!checkbox)\n",
       "                break;\n",
       "            if (checkbox.checked)\n",
       "                ans |= (1 << i);\n",
       "        }\n",
       "        return ans;\n",
       "    }\n",
       "    function check_selection(quiz_id, correct_answer, multiple_choice, hint) {\n",
       "        given_answer = answer(quiz_id);\n",
       "        if (given_answer == correct_answer)\n",
       "        {\n",
       "            document.getElementById(quiz_id + \"-submit\").value = \"Correct!\";\n",
       "            document.getElementById(quiz_id + \"-hint\").innerHTML = \"\";\n",
       "\n",
       "            for (i = 1;; i++) {\n",
       "                checkbox = document.getElementById(quiz_id + \"-\" + i.toString());\n",
       "                label = document.getElementById(quiz_id + \"-\" + i.toString() + \"-label\")\n",
       "                if (!checkbox)\n",
       "                    break;\n",
       "    \n",
       "                if (checkbox.checked) {\n",
       "                    label.style.fontWeight = \"bold\";\n",
       "                }\n",
       "                else {\n",
       "                    label.style.textDecoration = \"line-through\";\n",
       "                }\n",
       "            }\n",
       "        }\n",
       "        else \n",
       "        {\n",
       "            document.getElementById(quiz_id + \"-submit\").value = \"Try again\";\n",
       "            \n",
       "            if (!bad_answers.has(quiz_id)) {\n",
       "                bad_answers.set(quiz_id, 1);\n",
       "            }\n",
       "            else {\n",
       "                bad_answers.set(quiz_id, bad_answers.get(quiz_id) + 1);\n",
       "            }\n",
       "\n",
       "            if (bad_answers.get(quiz_id) >= 2 && hint.length > 0) {\n",
       "                document.getElementById(quiz_id + \"-hint\").innerHTML = \n",
       "                    \"&nbsp;&nbsp;(Hint: <code>\" + hint + \"</code>)\";\n",
       "            }\n",
       "\n",
       "            if (!multiple_choice) {\n",
       "                for (i = 1;; i++) {\n",
       "                    checkbox = document.getElementById(quiz_id + \"-\" + i.toString());\n",
       "                    label = document.getElementById(quiz_id + \"-\" + i.toString() + \"-label\")\n",
       "\n",
       "                    if (!checkbox)\n",
       "                        break;\n",
       "                    if (checkbox.checked) {\n",
       "                        label.style.textDecoration = \"line-through\";\n",
       "                    }\n",
       "                }\n",
       "            }\n",
       "        }\n",
       "    }\n",
       "    function clear_selection(quiz_id) {\n",
       "        document.getElementById(quiz_id + \"-submit\").value = \"Submit\";\n",
       "        document.getElementById(quiz_id + \"-hint\").innerHTML = \"\";\n",
       "    }\n",
       "    </script>\n",
       "    \n",
       "    <div class=\"quiz\">\n",
       "    <h3 class=\"quiz_title\">Quiz</h3>\n",
       "    <p>\n",
       "    <div class=\"quiz_question\">What happens if the function under test does not fail?</div>\n",
       "    </p>\n",
       "    <p>\n",
       "    <div class=\"quiz_options\" title=\"Pick a choice.\">\n",
       "    \n",
       "        <input type=\"radio\" name=\"b3525d6a-6fec-11ed-8b6e-6298cf1a578e\" id=\"b3525d6a-6fec-11ed-8b6e-6298cf1a578e-1\" onclick=\"clear_selection('b3525d6a-6fec-11ed-8b6e-6298cf1a578e')\">\n",
       "        <label id=\"b3525d6a-6fec-11ed-8b6e-6298cf1a578e-1-label\" for=\"b3525d6a-6fec-11ed-8b6e-6298cf1a578e-1\">Delta debugging searches for the minimal input that produces the same result</label><br>\n",
       "    \n",
       "        <input type=\"radio\" name=\"b3525d6a-6fec-11ed-8b6e-6298cf1a578e\" id=\"b3525d6a-6fec-11ed-8b6e-6298cf1a578e-2\" onclick=\"clear_selection('b3525d6a-6fec-11ed-8b6e-6298cf1a578e')\">\n",
       "        <label id=\"b3525d6a-6fec-11ed-8b6e-6298cf1a578e-2-label\" for=\"b3525d6a-6fec-11ed-8b6e-6298cf1a578e-2\">Delta debugging starts a fuzzer to find a failure</label><br>\n",
       "    \n",
       "        <input type=\"radio\" name=\"b3525d6a-6fec-11ed-8b6e-6298cf1a578e\" id=\"b3525d6a-6fec-11ed-8b6e-6298cf1a578e-3\" onclick=\"clear_selection('b3525d6a-6fec-11ed-8b6e-6298cf1a578e')\">\n",
       "        <label id=\"b3525d6a-6fec-11ed-8b6e-6298cf1a578e-3-label\" for=\"b3525d6a-6fec-11ed-8b6e-6298cf1a578e-3\">Delta debugging raises an AssertionError</label><br>\n",
       "    \n",
       "        <input type=\"radio\" name=\"b3525d6a-6fec-11ed-8b6e-6298cf1a578e\" id=\"b3525d6a-6fec-11ed-8b6e-6298cf1a578e-4\" onclick=\"clear_selection('b3525d6a-6fec-11ed-8b6e-6298cf1a578e')\">\n",
       "        <label id=\"b3525d6a-6fec-11ed-8b6e-6298cf1a578e-4-label\" for=\"b3525d6a-6fec-11ed-8b6e-6298cf1a578e-4\">Delta debugging runs forever in a loop</label><br>\n",
       "    \n",
       "    </div>\n",
       "    </p>\n",
       "    <input id=\"b3525d6a-6fec-11ed-8b6e-6298cf1a578e-submit\" type=\"submit\" value=\"Submit\" onclick=\"check_selection('b3525d6a-6fec-11ed-8b6e-6298cf1a578e', 8, 0, '0 ** 0 + 1 ** 0 + 0 ** 1 + 1 ** 1')\">\n",
       "    <span class=\"quiz_hint\" id=\"b3525d6a-6fec-11ed-8b6e-6298cf1a578e-hint\"></span>\n",
       "    </div>\n",
       "    "
      ],
      "text/plain": [
       "<IPython.core.display.HTML object>"
      ]
     },
     "execution_count": 24,
     "metadata": {},
     "output_type": "execute_result"
    }
   ],
   "source": [
    "quiz(\"What happens if the function under test does not fail?\",\n",
    "    [\n",
    "        \"Delta debugging searches for the minimal input\"\n",
    "        \" that produces the same result\",\n",
    "        \"Delta debugging starts a fuzzer to find a failure\",\n",
    "        \"Delta debugging raises an AssertionError\",\n",
    "        \"Delta debugging runs forever in a loop\",\n",
    "    ], '0 ** 0 + 1 ** 0 + 0 ** 1 + 1 ** 1')"
   ]
  },
  {
   "cell_type": "markdown",
   "metadata": {
    "slideshow": {
     "slide_type": "fragment"
    }
   },
   "source": [
    "Indeed, `DeltaDebugger` checks if its assumptions hold. If not, an assertion fails."
   ]
  },
  {
   "cell_type": "code",
   "execution_count": 25,
   "metadata": {
    "execution": {
     "iopub.execute_input": "2022-11-29T13:49:52.990870Z",
     "iopub.status.busy": "2022-11-29T13:49:52.990557Z",
     "iopub.status.idle": "2022-11-29T13:49:52.992077Z",
     "shell.execute_reply": "2022-11-29T13:49:52.992256Z"
    },
    "slideshow": {
     "slide_type": "subslide"
    }
   },
   "outputs": [
    {
     "name": "stdout",
     "output_type": "stream",
     "text": [
      "Test #1 'I am a passing input' 20 PASS\n"
     ]
    },
    {
     "name": "stderr",
     "output_type": "stream",
     "text": [
      "Traceback (most recent call last):\n",
      "  File \"/var/folders/n2/xd9445p97rb3xh7m1dfx8_4h0006ts/T/ipykernel_52977/3080932113.py\", line 2, in <module>\n",
      "    dd_reducer.reduce(\"I am a passing input\")\n",
      "  File \"/var/folders/n2/xd9445p97rb3xh7m1dfx8_4h0006ts/T/ipykernel_52977/2870451724.py\", line 8, in reduce\n",
      "    assert self.test(inp) != Runner.PASS\n",
      "AssertionError (expected)\n"
     ]
    }
   ],
   "source": [
    "with ExpectError():\n",
    "    dd_reducer.reduce(\"I am a passing input\")"
   ]
  },
  {
   "cell_type": "markdown",
   "metadata": {
    "button": false,
    "new_sheet": false,
    "run_control": {
     "read_only": false
    },
    "slideshow": {
     "slide_type": "subslide"
    },
    "toc-hr-collapsed": false
   },
   "source": [
    "## Grammar-Based Input Reduction\n",
    "\n",
    "If the input language is syntactically complex, delta debugging may take several attempts at reduction, and may not be able to reduce inputs at all.  In the second half of this chapter, we thus introduce an algorithm named _Grammar-Based Reduction_ (or GRABR for short) that makes use of _grammars_ to reduce syntactically complex inputs."
   ]
  },
  {
   "cell_type": "markdown",
   "metadata": {
    "slideshow": {
     "slide_type": "subslide"
    }
   },
   "source": [
    "### Lexical Reduction vs. Syntactic Rules\n",
    "\n",
    "Despite its general robustness, there are situations in which delta debugging might be inefficient or outright fail.  As an example, consider some _expression input_ such as `1 + (2 * 3)`.  Delta debugging requires a number of tests to simplify the failure-inducing input, but it eventually returns a minimal input"
   ]
  },
  {
   "cell_type": "code",
   "execution_count": 26,
   "metadata": {
    "execution": {
     "iopub.execute_input": "2022-11-29T13:49:52.994879Z",
     "iopub.status.busy": "2022-11-29T13:49:52.994479Z",
     "iopub.status.idle": "2022-11-29T13:49:52.996278Z",
     "shell.execute_reply": "2022-11-29T13:49:52.996528Z"
    },
    "slideshow": {
     "slide_type": "subslide"
    }
   },
   "outputs": [
    {
     "name": "stdout",
     "output_type": "stream",
     "text": [
      "Test #1 '1 + (2 * 3)' 11 FAIL\n",
      "Test #2 '2 * 3)' 6 PASS\n",
      "Test #3 '1 + (' 5 PASS\n",
      "Test #4 '+ (2 * 3)' 9 FAIL\n",
      "Test #5 '+ ( 3)' 6 FAIL\n",
      "Test #6 ' 3)' 3 PASS\n",
      "Test #7 '+ (' 3 PASS\n",
      "Test #8 ' ( 3)' 5 FAIL\n",
      "Test #9 '( 3)' 4 FAIL\n",
      "Test #10 '3)' 2 PASS\n",
      "Test #11 '( ' 2 PASS\n",
      "Test #12 '(3)' 3 FAIL\n",
      "Test #13 '()' 2 FAIL\n",
      "Test #14 ')' 1 PASS\n",
      "Test #15 '(' 1 PASS\n"
     ]
    },
    {
     "data": {
      "text/plain": [
       "'()'"
      ]
     },
     "execution_count": 26,
     "metadata": {},
     "output_type": "execute_result"
    }
   ],
   "source": [
    "expr_input = \"1 + (2 * 3)\"\n",
    "dd_reducer = DeltaDebuggingReducer(mystery, log_test=True)\n",
    "dd_reducer.reduce(expr_input)"
   ]
  },
  {
   "cell_type": "markdown",
   "metadata": {
    "slideshow": {
     "slide_type": "subslide"
    }
   },
   "source": [
    "Looking at the tests, above, though, only few of them actually represent syntactically valid arithmetic expressions.  In a practical setting, we may want to test a program which actually _parses_ such expressions, and which would _reject_ all invalid inputs.  We define a class `EvalMysteryRunner` which first _parses_ the given input (according to the rules of our expression grammar), and _only_ if it fits would it be passed to our original `MysteryRunner`.  This simulates a setting in which we test an expression interpreter, and in which only valid inputs can trigger the bug."
   ]
  },
  {
   "cell_type": "code",
   "execution_count": 27,
   "metadata": {
    "execution": {
     "iopub.execute_input": "2022-11-29T13:49:52.998427Z",
     "iopub.status.busy": "2022-11-29T13:49:52.997860Z",
     "iopub.status.idle": "2022-11-29T13:49:53.645264Z",
     "shell.execute_reply": "2022-11-29T13:49:53.645462Z"
    },
    "slideshow": {
     "slide_type": "skip"
    }
   },
   "outputs": [],
   "source": [
    "from Grammars import EXPR_GRAMMAR"
   ]
  },
  {
   "cell_type": "code",
   "execution_count": 28,
   "metadata": {
    "execution": {
     "iopub.execute_input": "2022-11-29T13:49:53.647544Z",
     "iopub.status.busy": "2022-11-29T13:49:53.647243Z",
     "iopub.status.idle": "2022-11-29T13:49:53.731642Z",
     "shell.execute_reply": "2022-11-29T13:49:53.731842Z"
    },
    "slideshow": {
     "slide_type": "skip"
    }
   },
   "outputs": [],
   "source": [
    "from Parser import EarleyParser, Parser  # minor dependency"
   ]
  },
  {
   "cell_type": "code",
   "execution_count": 29,
   "metadata": {
    "execution": {
     "iopub.execute_input": "2022-11-29T13:49:53.734421Z",
     "iopub.status.busy": "2022-11-29T13:49:53.734120Z",
     "iopub.status.idle": "2022-11-29T13:49:53.735421Z",
     "shell.execute_reply": "2022-11-29T13:49:53.735609Z"
    },
    "slideshow": {
     "slide_type": "subslide"
    }
   },
   "outputs": [],
   "source": [
    "class EvalMysteryRunner(MysteryRunner):\n",
    "    def __init__(self) -> None:\n",
    "        self.parser = EarleyParser(EXPR_GRAMMAR)\n",
    "\n",
    "    def run(self, inp: str) -> Tuple[str, Outcome]:\n",
    "        try:\n",
    "            tree, *_ = self.parser.parse(inp)\n",
    "        except SyntaxError:\n",
    "            return (inp, Runner.UNRESOLVED)\n",
    "\n",
    "        return super().run(inp)"
   ]
  },
  {
   "cell_type": "code",
   "execution_count": 30,
   "metadata": {
    "execution": {
     "iopub.execute_input": "2022-11-29T13:49:53.737391Z",
     "iopub.status.busy": "2022-11-29T13:49:53.737114Z",
     "iopub.status.idle": "2022-11-29T13:49:53.738345Z",
     "shell.execute_reply": "2022-11-29T13:49:53.738578Z"
    },
    "slideshow": {
     "slide_type": "fragment"
    }
   },
   "outputs": [],
   "source": [
    "eval_mystery = EvalMysteryRunner()"
   ]
  },
  {
   "cell_type": "markdown",
   "metadata": {
    "slideshow": {
     "slide_type": "fragment"
    }
   },
   "source": [
    "Under these circumstances, it turns out that delta debugging utterly fails.  None of the reductions it applies yield a syntactically valid input, so the input as a whole remains as complex as it was before."
   ]
  },
  {
   "cell_type": "code",
   "execution_count": 31,
   "metadata": {
    "execution": {
     "iopub.execute_input": "2022-11-29T13:49:53.749452Z",
     "iopub.status.busy": "2022-11-29T13:49:53.749108Z",
     "iopub.status.idle": "2022-11-29T13:49:53.750741Z",
     "shell.execute_reply": "2022-11-29T13:49:53.750920Z"
    },
    "slideshow": {
     "slide_type": "subslide"
    }
   },
   "outputs": [
    {
     "name": "stdout",
     "output_type": "stream",
     "text": [
      "Test #1 '1 + (2 * 3)' 11 FAIL\n",
      "Test #2 '2 * 3)' 6 UNRESOLVED\n",
      "Test #3 '1 + (' 5 UNRESOLVED\n",
      "Test #4 '+ (2 * 3)' 9 UNRESOLVED\n",
      "Test #5 '1 2 * 3)' 8 UNRESOLVED\n",
      "Test #6 '1 + ( 3)' 8 UNRESOLVED\n",
      "Test #7 '1 + (2 *' 8 UNRESOLVED\n",
      "Test #8 ' + (2 * 3)' 10 UNRESOLVED\n",
      "Test #9 '1+ (2 * 3)' 10 UNRESOLVED\n",
      "Test #10 '1 (2 * 3)' 9 UNRESOLVED\n",
      "Test #11 '1 + 2 * 3)' 10 UNRESOLVED\n",
      "Test #12 '1 + ( * 3)' 10 UNRESOLVED\n",
      "Test #13 '1 + (2 3)' 9 UNRESOLVED\n",
      "Test #14 '1 + (2 *3)' 10 UNRESOLVED\n",
      "Test #15 '1 + (2 * ' 9 UNRESOLVED\n",
      "Test #16 '1  (2 * 3)' 10 UNRESOLVED\n",
      "Test #17 '1 +(2 * 3)' 10 UNRESOLVED\n",
      "Test #18 '1 + (2* 3)' 10 UNRESOLVED\n",
      "Test #19 '1 + (2  3)' 10 UNRESOLVED\n",
      "Test #20 '1 + (2 * )' 10 UNRESOLVED\n",
      "Test #21 '1 + (2 * 3' 10 UNRESOLVED\n"
     ]
    },
    {
     "data": {
      "text/plain": [
       "'1 + (2 * 3)'"
      ]
     },
     "execution_count": 31,
     "metadata": {},
     "output_type": "execute_result"
    }
   ],
   "source": [
    "dd_reducer = DeltaDebuggingReducer(eval_mystery, log_test=True)\n",
    "dd_reducer.reduce(expr_input)"
   ]
  },
  {
   "cell_type": "markdown",
   "metadata": {
    "slideshow": {
     "slide_type": "subslide"
    }
   },
   "source": [
    "This behavior is possible if the program under test has several constraints regarding input validity.  Delta debugging is not aware of these constraints (nor of the input structure in general), so it might violate these constraints again and again."
   ]
  },
  {
   "cell_type": "markdown",
   "metadata": {
    "button": false,
    "new_sheet": false,
    "run_control": {
     "read_only": false
    },
    "slideshow": {
     "slide_type": "subslide"
    }
   },
   "source": [
    "### A Grammmar-Based Reduction Approach\n",
    "\n",
    "To reduce inputs with high syntactical complexity, we use another approach: Rather than reducing the input string, we reduce the _tree_ representing its structure.  The general idea is to start with a _derivation tree_ coming from parsing the input, and then _substitute subtrees by smaller subtrees of the same type_.  These alternate subtrees can either come\n",
    "\n",
    "1. From the tree itself, or\n",
    "2. By applying an alternate grammar expansion using elements from the tree."
   ]
  },
  {
   "cell_type": "markdown",
   "metadata": {
    "button": false,
    "new_sheet": false,
    "run_control": {
     "read_only": false
    },
    "slideshow": {
     "slide_type": "subslide"
    }
   },
   "source": [
    "Let us show these two strategies using an example.  We start with a derivation tree from an arithmetic expression:"
   ]
  },
  {
   "cell_type": "code",
   "execution_count": 32,
   "metadata": {
    "execution": {
     "iopub.execute_input": "2022-11-29T13:49:53.753179Z",
     "iopub.status.busy": "2022-11-29T13:49:53.752850Z",
     "iopub.status.idle": "2022-11-29T13:49:53.754126Z",
     "shell.execute_reply": "2022-11-29T13:49:53.754367Z"
    },
    "slideshow": {
     "slide_type": "skip"
    }
   },
   "outputs": [],
   "source": [
    "from Grammars import Grammar\n",
    "from GrammarFuzzer import all_terminals, expansion_to_children, display_tree"
   ]
  },
  {
   "cell_type": "code",
   "execution_count": 33,
   "metadata": {
    "execution": {
     "iopub.execute_input": "2022-11-29T13:49:53.761152Z",
     "iopub.status.busy": "2022-11-29T13:49:53.760784Z",
     "iopub.status.idle": "2022-11-29T13:49:54.050922Z",
     "shell.execute_reply": "2022-11-29T13:49:54.051224Z"
    },
    "slideshow": {
     "slide_type": "subslide"
    }
   },
   "outputs": [
    {
     "data": {
      "image/svg+xml": [
       "<?xml version=\"1.0\" encoding=\"UTF-8\" standalone=\"no\"?>\n",
       "<!DOCTYPE svg PUBLIC \"-//W3C//DTD SVG 1.1//EN\"\n",
       " \"http://www.w3.org/Graphics/SVG/1.1/DTD/svg11.dtd\">\n",
       "<!-- Generated by graphviz version 5.0.0 (20220707.1540)\n",
       " -->\n",
       "<!-- Pages: 1 -->\n",
       "<svg width=\"205pt\" height=\"584pt\"\n",
       " viewBox=\"0.00 0.00 205.00 584.00\" xmlns=\"http://www.w3.org/2000/svg\" xmlns:xlink=\"http://www.w3.org/1999/xlink\">\n",
       "<g id=\"graph0\" class=\"graph\" transform=\"scale(1 1) rotate(0) translate(4 580)\">\n",
       "<polygon fill=\"white\" stroke=\"transparent\" points=\"-4,4 -4,-580 201,-580 201,4 -4,4\"/>\n",
       "<!-- 0 -->\n",
       "<g id=\"node1\" class=\"node\">\n",
       "<title>0</title>\n",
       "<text text-anchor=\"middle\" x=\"75.5\" y=\"-564.8\" font-family=\"Times,serif\" font-size=\"14.00\">&lt;start&gt;</text>\n",
       "</g>\n",
       "<!-- 1 -->\n",
       "<g id=\"node2\" class=\"node\">\n",
       "<title>1</title>\n",
       "<text text-anchor=\"middle\" x=\"75.5\" y=\"-513.8\" font-family=\"Times,serif\" font-size=\"14.00\">&lt;expr&gt;</text>\n",
       "</g>\n",
       "<!-- 0&#45;&gt;1 -->\n",
       "<g id=\"edge1\" class=\"edge\">\n",
       "<title>0&#45;&gt;1</title>\n",
       "<path fill=\"none\" stroke=\"black\" d=\"M75.5,-560.69C75.5,-554.18 75.5,-544.1 75.5,-535.43\"/>\n",
       "<polygon fill=\"black\" stroke=\"black\" points=\"79,-535.26 75.5,-525.26 72,-535.26 79,-535.26\"/>\n",
       "</g>\n",
       "<!-- 2 -->\n",
       "<g id=\"node3\" class=\"node\">\n",
       "<title>2</title>\n",
       "<text text-anchor=\"middle\" x=\"27.5\" y=\"-462.8\" font-family=\"Times,serif\" font-size=\"14.00\">&lt;term&gt;</text>\n",
       "</g>\n",
       "<!-- 1&#45;&gt;2 -->\n",
       "<g id=\"edge2\" class=\"edge\">\n",
       "<title>1&#45;&gt;2</title>\n",
       "<path fill=\"none\" stroke=\"black\" d=\"M68.83,-509.69C61.73,-502.45 50.32,-490.79 41.28,-481.57\"/>\n",
       "<polygon fill=\"black\" stroke=\"black\" points=\"43.62,-478.95 34.12,-474.26 38.62,-483.85 43.62,-478.95\"/>\n",
       "</g>\n",
       "<!-- 7 -->\n",
       "<g id=\"node8\" class=\"node\">\n",
       "<title>7</title>\n",
       "<text text-anchor=\"middle\" x=\"75.5\" y=\"-462.8\" font-family=\"Times,serif\" font-size=\"14.00\"> + </text>\n",
       "</g>\n",
       "<!-- 1&#45;&gt;7 -->\n",
       "<g id=\"edge7\" class=\"edge\">\n",
       "<title>1&#45;&gt;7</title>\n",
       "<path fill=\"none\" stroke=\"black\" d=\"M75.5,-509.69C75.5,-503.18 75.5,-493.1 75.5,-484.43\"/>\n",
       "<polygon fill=\"black\" stroke=\"black\" points=\"79,-484.26 75.5,-474.26 72,-484.26 79,-484.26\"/>\n",
       "</g>\n",
       "<!-- 8 -->\n",
       "<g id=\"node9\" class=\"node\">\n",
       "<title>8</title>\n",
       "<text text-anchor=\"middle\" x=\"122.5\" y=\"-462.8\" font-family=\"Times,serif\" font-size=\"14.00\">&lt;expr&gt;</text>\n",
       "</g>\n",
       "<!-- 1&#45;&gt;8 -->\n",
       "<g id=\"edge8\" class=\"edge\">\n",
       "<title>1&#45;&gt;8</title>\n",
       "<path fill=\"none\" stroke=\"black\" d=\"M82.04,-509.69C88.98,-502.45 100.16,-490.79 109.01,-481.57\"/>\n",
       "<polygon fill=\"black\" stroke=\"black\" points=\"111.62,-483.9 116.02,-474.26 106.57,-479.05 111.62,-483.9\"/>\n",
       "</g>\n",
       "<!-- 3 -->\n",
       "<g id=\"node4\" class=\"node\">\n",
       "<title>3</title>\n",
       "<text text-anchor=\"middle\" x=\"27.5\" y=\"-411.8\" font-family=\"Times,serif\" font-size=\"14.00\">&lt;factor&gt;</text>\n",
       "</g>\n",
       "<!-- 2&#45;&gt;3 -->\n",
       "<g id=\"edge3\" class=\"edge\">\n",
       "<title>2&#45;&gt;3</title>\n",
       "<path fill=\"none\" stroke=\"black\" d=\"M27.5,-458.69C27.5,-452.18 27.5,-442.1 27.5,-433.43\"/>\n",
       "<polygon fill=\"black\" stroke=\"black\" points=\"31,-433.26 27.5,-423.26 24,-433.26 31,-433.26\"/>\n",
       "</g>\n",
       "<!-- 4 -->\n",
       "<g id=\"node5\" class=\"node\">\n",
       "<title>4</title>\n",
       "<text text-anchor=\"middle\" x=\"27.5\" y=\"-360.8\" font-family=\"Times,serif\" font-size=\"14.00\">&lt;integer&gt;</text>\n",
       "</g>\n",
       "<!-- 3&#45;&gt;4 -->\n",
       "<g id=\"edge4\" class=\"edge\">\n",
       "<title>3&#45;&gt;4</title>\n",
       "<path fill=\"none\" stroke=\"black\" d=\"M27.5,-407.69C27.5,-401.18 27.5,-391.1 27.5,-382.43\"/>\n",
       "<polygon fill=\"black\" stroke=\"black\" points=\"31,-382.26 27.5,-372.26 24,-382.26 31,-382.26\"/>\n",
       "</g>\n",
       "<!-- 5 -->\n",
       "<g id=\"node6\" class=\"node\">\n",
       "<title>5</title>\n",
       "<text text-anchor=\"middle\" x=\"27.5\" y=\"-309.8\" font-family=\"Times,serif\" font-size=\"14.00\">&lt;digit&gt;</text>\n",
       "</g>\n",
       "<!-- 4&#45;&gt;5 -->\n",
       "<g id=\"edge5\" class=\"edge\">\n",
       "<title>4&#45;&gt;5</title>\n",
       "<path fill=\"none\" stroke=\"black\" d=\"M27.5,-356.69C27.5,-350.18 27.5,-340.1 27.5,-331.43\"/>\n",
       "<polygon fill=\"black\" stroke=\"black\" points=\"31,-331.26 27.5,-321.26 24,-331.26 31,-331.26\"/>\n",
       "</g>\n",
       "<!-- 6 -->\n",
       "<g id=\"node7\" class=\"node\">\n",
       "<title>6</title>\n",
       "<text text-anchor=\"middle\" x=\"27.5\" y=\"-258.8\" font-family=\"Times,serif\" font-size=\"14.00\">1</text>\n",
       "</g>\n",
       "<!-- 5&#45;&gt;6 -->\n",
       "<g id=\"edge6\" class=\"edge\">\n",
       "<title>5&#45;&gt;6</title>\n",
       "<path fill=\"none\" stroke=\"black\" d=\"M27.5,-305.69C27.5,-299.18 27.5,-289.1 27.5,-280.43\"/>\n",
       "<polygon fill=\"black\" stroke=\"black\" points=\"31,-280.26 27.5,-270.26 24,-280.26 31,-280.26\"/>\n",
       "</g>\n",
       "<!-- 9 -->\n",
       "<g id=\"node10\" class=\"node\">\n",
       "<title>9</title>\n",
       "<text text-anchor=\"middle\" x=\"122.5\" y=\"-411.8\" font-family=\"Times,serif\" font-size=\"14.00\">&lt;term&gt;</text>\n",
       "</g>\n",
       "<!-- 8&#45;&gt;9 -->\n",
       "<g id=\"edge9\" class=\"edge\">\n",
       "<title>8&#45;&gt;9</title>\n",
       "<path fill=\"none\" stroke=\"black\" d=\"M122.5,-458.69C122.5,-452.18 122.5,-442.1 122.5,-433.43\"/>\n",
       "<polygon fill=\"black\" stroke=\"black\" points=\"126,-433.26 122.5,-423.26 119,-433.26 126,-433.26\"/>\n",
       "</g>\n",
       "<!-- 10 -->\n",
       "<g id=\"node11\" class=\"node\">\n",
       "<title>10</title>\n",
       "<text text-anchor=\"middle\" x=\"122.5\" y=\"-360.8\" font-family=\"Times,serif\" font-size=\"14.00\">&lt;factor&gt;</text>\n",
       "</g>\n",
       "<!-- 9&#45;&gt;10 -->\n",
       "<g id=\"edge10\" class=\"edge\">\n",
       "<title>9&#45;&gt;10</title>\n",
       "<path fill=\"none\" stroke=\"black\" d=\"M122.5,-407.69C122.5,-401.18 122.5,-391.1 122.5,-382.43\"/>\n",
       "<polygon fill=\"black\" stroke=\"black\" points=\"126,-382.26 122.5,-372.26 119,-382.26 126,-382.26\"/>\n",
       "</g>\n",
       "<!-- 11 -->\n",
       "<g id=\"node12\" class=\"node\">\n",
       "<title>11</title>\n",
       "<text text-anchor=\"middle\" x=\"81.5\" y=\"-309.8\" font-family=\"Times,serif\" font-size=\"14.00\">(</text>\n",
       "</g>\n",
       "<!-- 10&#45;&gt;11 -->\n",
       "<g id=\"edge11\" class=\"edge\">\n",
       "<title>10&#45;&gt;11</title>\n",
       "<path fill=\"none\" stroke=\"black\" d=\"M116.8,-356.69C110.07,-348.64 98.77,-335.14 90.77,-325.58\"/>\n",
       "<polygon fill=\"black\" stroke=\"black\" points=\"93.27,-323.11 84.17,-317.69 87.9,-327.6 93.27,-323.11\"/>\n",
       "</g>\n",
       "<!-- 12 -->\n",
       "<g id=\"node13\" class=\"node\">\n",
       "<title>12</title>\n",
       "<text text-anchor=\"middle\" x=\"122.5\" y=\"-309.8\" font-family=\"Times,serif\" font-size=\"14.00\">&lt;expr&gt;</text>\n",
       "</g>\n",
       "<!-- 10&#45;&gt;12 -->\n",
       "<g id=\"edge12\" class=\"edge\">\n",
       "<title>10&#45;&gt;12</title>\n",
       "<path fill=\"none\" stroke=\"black\" d=\"M122.5,-356.69C122.5,-350.18 122.5,-340.1 122.5,-331.43\"/>\n",
       "<polygon fill=\"black\" stroke=\"black\" points=\"126,-331.26 122.5,-321.26 119,-331.26 126,-331.26\"/>\n",
       "</g>\n",
       "<!-- 24 -->\n",
       "<g id=\"node25\" class=\"node\">\n",
       "<title>24</title>\n",
       "<text text-anchor=\"middle\" x=\"163.5\" y=\"-309.8\" font-family=\"Times,serif\" font-size=\"14.00\">)</text>\n",
       "</g>\n",
       "<!-- 10&#45;&gt;24 -->\n",
       "<g id=\"edge24\" class=\"edge\">\n",
       "<title>10&#45;&gt;24</title>\n",
       "<path fill=\"none\" stroke=\"black\" d=\"M128.2,-356.69C134.93,-348.64 146.23,-335.14 154.23,-325.58\"/>\n",
       "<polygon fill=\"black\" stroke=\"black\" points=\"157.1,-327.6 160.83,-317.69 151.73,-323.11 157.1,-327.6\"/>\n",
       "</g>\n",
       "<!-- 13 -->\n",
       "<g id=\"node14\" class=\"node\">\n",
       "<title>13</title>\n",
       "<text text-anchor=\"middle\" x=\"122.5\" y=\"-258.8\" font-family=\"Times,serif\" font-size=\"14.00\">&lt;term&gt;</text>\n",
       "</g>\n",
       "<!-- 12&#45;&gt;13 -->\n",
       "<g id=\"edge13\" class=\"edge\">\n",
       "<title>12&#45;&gt;13</title>\n",
       "<path fill=\"none\" stroke=\"black\" d=\"M122.5,-305.69C122.5,-299.18 122.5,-289.1 122.5,-280.43\"/>\n",
       "<polygon fill=\"black\" stroke=\"black\" points=\"126,-280.26 122.5,-270.26 119,-280.26 126,-280.26\"/>\n",
       "</g>\n",
       "<!-- 14 -->\n",
       "<g id=\"node15\" class=\"node\">\n",
       "<title>14</title>\n",
       "<text text-anchor=\"middle\" x=\"72.5\" y=\"-207.8\" font-family=\"Times,serif\" font-size=\"14.00\">&lt;factor&gt;</text>\n",
       "</g>\n",
       "<!-- 13&#45;&gt;14 -->\n",
       "<g id=\"edge14\" class=\"edge\">\n",
       "<title>13&#45;&gt;14</title>\n",
       "<path fill=\"none\" stroke=\"black\" d=\"M115.55,-254.69C108.08,-247.37 96.03,-235.56 86.57,-226.29\"/>\n",
       "<polygon fill=\"black\" stroke=\"black\" points=\"88.99,-223.75 79.39,-219.26 84.09,-228.75 88.99,-223.75\"/>\n",
       "</g>\n",
       "<!-- 18 -->\n",
       "<g id=\"node19\" class=\"node\">\n",
       "<title>18</title>\n",
       "<text text-anchor=\"middle\" x=\"122.5\" y=\"-207.8\" font-family=\"Times,serif\" font-size=\"14.00\"> * </text>\n",
       "</g>\n",
       "<!-- 13&#45;&gt;18 -->\n",
       "<g id=\"edge18\" class=\"edge\">\n",
       "<title>13&#45;&gt;18</title>\n",
       "<path fill=\"none\" stroke=\"black\" d=\"M122.5,-254.69C122.5,-248.18 122.5,-238.1 122.5,-229.43\"/>\n",
       "<polygon fill=\"black\" stroke=\"black\" points=\"126,-229.26 122.5,-219.26 119,-229.26 126,-229.26\"/>\n",
       "</g>\n",
       "<!-- 19 -->\n",
       "<g id=\"node20\" class=\"node\">\n",
       "<title>19</title>\n",
       "<text text-anchor=\"middle\" x=\"169.5\" y=\"-207.8\" font-family=\"Times,serif\" font-size=\"14.00\">&lt;term&gt;</text>\n",
       "</g>\n",
       "<!-- 13&#45;&gt;19 -->\n",
       "<g id=\"edge19\" class=\"edge\">\n",
       "<title>13&#45;&gt;19</title>\n",
       "<path fill=\"none\" stroke=\"black\" d=\"M129.04,-254.69C135.98,-247.45 147.16,-235.79 156.01,-226.57\"/>\n",
       "<polygon fill=\"black\" stroke=\"black\" points=\"158.62,-228.9 163.02,-219.26 153.57,-224.05 158.62,-228.9\"/>\n",
       "</g>\n",
       "<!-- 15 -->\n",
       "<g id=\"node16\" class=\"node\">\n",
       "<title>15</title>\n",
       "<text text-anchor=\"middle\" x=\"72.5\" y=\"-156.8\" font-family=\"Times,serif\" font-size=\"14.00\">&lt;integer&gt;</text>\n",
       "</g>\n",
       "<!-- 14&#45;&gt;15 -->\n",
       "<g id=\"edge15\" class=\"edge\">\n",
       "<title>14&#45;&gt;15</title>\n",
       "<path fill=\"none\" stroke=\"black\" d=\"M72.5,-203.69C72.5,-197.18 72.5,-187.1 72.5,-178.43\"/>\n",
       "<polygon fill=\"black\" stroke=\"black\" points=\"76,-178.26 72.5,-168.26 69,-178.26 76,-178.26\"/>\n",
       "</g>\n",
       "<!-- 16 -->\n",
       "<g id=\"node17\" class=\"node\">\n",
       "<title>16</title>\n",
       "<text text-anchor=\"middle\" x=\"72.5\" y=\"-105.8\" font-family=\"Times,serif\" font-size=\"14.00\">&lt;digit&gt;</text>\n",
       "</g>\n",
       "<!-- 15&#45;&gt;16 -->\n",
       "<g id=\"edge16\" class=\"edge\">\n",
       "<title>15&#45;&gt;16</title>\n",
       "<path fill=\"none\" stroke=\"black\" d=\"M72.5,-152.69C72.5,-146.18 72.5,-136.1 72.5,-127.43\"/>\n",
       "<polygon fill=\"black\" stroke=\"black\" points=\"76,-127.26 72.5,-117.26 69,-127.26 76,-127.26\"/>\n",
       "</g>\n",
       "<!-- 17 -->\n",
       "<g id=\"node18\" class=\"node\">\n",
       "<title>17</title>\n",
       "<text text-anchor=\"middle\" x=\"72.5\" y=\"-54.8\" font-family=\"Times,serif\" font-size=\"14.00\">2</text>\n",
       "</g>\n",
       "<!-- 16&#45;&gt;17 -->\n",
       "<g id=\"edge17\" class=\"edge\">\n",
       "<title>16&#45;&gt;17</title>\n",
       "<path fill=\"none\" stroke=\"black\" d=\"M72.5,-101.69C72.5,-95.18 72.5,-85.1 72.5,-76.43\"/>\n",
       "<polygon fill=\"black\" stroke=\"black\" points=\"76,-76.26 72.5,-66.26 69,-76.26 76,-76.26\"/>\n",
       "</g>\n",
       "<!-- 20 -->\n",
       "<g id=\"node21\" class=\"node\">\n",
       "<title>20</title>\n",
       "<text text-anchor=\"middle\" x=\"169.5\" y=\"-156.8\" font-family=\"Times,serif\" font-size=\"14.00\">&lt;factor&gt;</text>\n",
       "</g>\n",
       "<!-- 19&#45;&gt;20 -->\n",
       "<g id=\"edge20\" class=\"edge\">\n",
       "<title>19&#45;&gt;20</title>\n",
       "<path fill=\"none\" stroke=\"black\" d=\"M169.5,-203.69C169.5,-197.18 169.5,-187.1 169.5,-178.43\"/>\n",
       "<polygon fill=\"black\" stroke=\"black\" points=\"173,-178.26 169.5,-168.26 166,-178.26 173,-178.26\"/>\n",
       "</g>\n",
       "<!-- 21 -->\n",
       "<g id=\"node22\" class=\"node\">\n",
       "<title>21</title>\n",
       "<text text-anchor=\"middle\" x=\"169.5\" y=\"-105.8\" font-family=\"Times,serif\" font-size=\"14.00\">&lt;integer&gt;</text>\n",
       "</g>\n",
       "<!-- 20&#45;&gt;21 -->\n",
       "<g id=\"edge21\" class=\"edge\">\n",
       "<title>20&#45;&gt;21</title>\n",
       "<path fill=\"none\" stroke=\"black\" d=\"M169.5,-152.69C169.5,-146.18 169.5,-136.1 169.5,-127.43\"/>\n",
       "<polygon fill=\"black\" stroke=\"black\" points=\"173,-127.26 169.5,-117.26 166,-127.26 173,-127.26\"/>\n",
       "</g>\n",
       "<!-- 22 -->\n",
       "<g id=\"node23\" class=\"node\">\n",
       "<title>22</title>\n",
       "<text text-anchor=\"middle\" x=\"169.5\" y=\"-54.8\" font-family=\"Times,serif\" font-size=\"14.00\">&lt;digit&gt;</text>\n",
       "</g>\n",
       "<!-- 21&#45;&gt;22 -->\n",
       "<g id=\"edge22\" class=\"edge\">\n",
       "<title>21&#45;&gt;22</title>\n",
       "<path fill=\"none\" stroke=\"black\" d=\"M169.5,-101.69C169.5,-95.18 169.5,-85.1 169.5,-76.43\"/>\n",
       "<polygon fill=\"black\" stroke=\"black\" points=\"173,-76.26 169.5,-66.26 166,-76.26 173,-76.26\"/>\n",
       "</g>\n",
       "<!-- 23 -->\n",
       "<g id=\"node24\" class=\"node\">\n",
       "<title>23</title>\n",
       "<text text-anchor=\"middle\" x=\"169.5\" y=\"-3.8\" font-family=\"Times,serif\" font-size=\"14.00\">3</text>\n",
       "</g>\n",
       "<!-- 22&#45;&gt;23 -->\n",
       "<g id=\"edge23\" class=\"edge\">\n",
       "<title>22&#45;&gt;23</title>\n",
       "<path fill=\"none\" stroke=\"black\" d=\"M169.5,-50.69C169.5,-44.18 169.5,-34.1 169.5,-25.43\"/>\n",
       "<polygon fill=\"black\" stroke=\"black\" points=\"173,-25.26 169.5,-15.26 166,-25.26 173,-25.26\"/>\n",
       "</g>\n",
       "</g>\n",
       "</svg>\n"
      ],
      "text/plain": [
       "<graphviz.graphs.Digraph at 0x105f9ebf0>"
      ]
     },
     "execution_count": 33,
     "metadata": {},
     "output_type": "execute_result"
    }
   ],
   "source": [
    "derivation_tree, *_ = EarleyParser(EXPR_GRAMMAR).parse(expr_input)\n",
    "display_tree(derivation_tree)"
   ]
  },
  {
   "cell_type": "markdown",
   "metadata": {
    "slideshow": {
     "slide_type": "subslide"
    }
   },
   "source": [
    "### Simplifying by Replacing Subtrees"
   ]
  },
  {
   "cell_type": "markdown",
   "metadata": {
    "slideshow": {
     "slide_type": "fragment"
    }
   },
   "source": [
    "To simplify this tree, we could replace any `<expr>` symbol up in the tree with some `<expr>` subtree down in the tree.  For instance, we could replace the uppermost `<expr>` with its right `<expr>` subtree, yielding the string `(2 + 3)`:"
   ]
  },
  {
   "cell_type": "code",
   "execution_count": 34,
   "metadata": {
    "execution": {
     "iopub.execute_input": "2022-11-29T13:49:54.053470Z",
     "iopub.status.busy": "2022-11-29T13:49:54.053181Z",
     "iopub.status.idle": "2022-11-29T13:49:54.054497Z",
     "shell.execute_reply": "2022-11-29T13:49:54.054702Z"
    },
    "slideshow": {
     "slide_type": "skip"
    }
   },
   "outputs": [],
   "source": [
    "import copy"
   ]
  },
  {
   "cell_type": "code",
   "execution_count": 35,
   "metadata": {
    "execution": {
     "iopub.execute_input": "2022-11-29T13:49:54.059553Z",
     "iopub.status.busy": "2022-11-29T13:49:54.057292Z",
     "iopub.status.idle": "2022-11-29T13:49:54.303272Z",
     "shell.execute_reply": "2022-11-29T13:49:54.303524Z"
    },
    "slideshow": {
     "slide_type": "fragment"
    }
   },
   "outputs": [
    {
     "data": {
      "image/svg+xml": [
       "<?xml version=\"1.0\" encoding=\"UTF-8\" standalone=\"no\"?>\n",
       "<!DOCTYPE svg PUBLIC \"-//W3C//DTD SVG 1.1//EN\"\n",
       " \"http://www.w3.org/Graphics/SVG/1.1/DTD/svg11.dtd\">\n",
       "<!-- Generated by graphviz version 5.0.0 (20220707.1540)\n",
       " -->\n",
       "<!-- Pages: 1 -->\n",
       "<svg width=\"160pt\" height=\"482pt\"\n",
       " viewBox=\"0.00 0.00 160.00 482.00\" xmlns=\"http://www.w3.org/2000/svg\" xmlns:xlink=\"http://www.w3.org/1999/xlink\">\n",
       "<g id=\"graph0\" class=\"graph\" transform=\"scale(1 1) rotate(0) translate(4 478)\">\n",
       "<polygon fill=\"white\" stroke=\"transparent\" points=\"-4,4 -4,-478 156,-478 156,4 -4,4\"/>\n",
       "<!-- 0 -->\n",
       "<g id=\"node1\" class=\"node\">\n",
       "<title>0</title>\n",
       "<text text-anchor=\"middle\" x=\"77.5\" y=\"-462.8\" font-family=\"Times,serif\" font-size=\"14.00\">&lt;expr&gt;</text>\n",
       "</g>\n",
       "<!-- 1 -->\n",
       "<g id=\"node2\" class=\"node\">\n",
       "<title>1</title>\n",
       "<text text-anchor=\"middle\" x=\"77.5\" y=\"-411.8\" font-family=\"Times,serif\" font-size=\"14.00\">&lt;term&gt;</text>\n",
       "</g>\n",
       "<!-- 0&#45;&gt;1 -->\n",
       "<g id=\"edge1\" class=\"edge\">\n",
       "<title>0&#45;&gt;1</title>\n",
       "<path fill=\"none\" stroke=\"black\" d=\"M77.5,-458.69C77.5,-452.18 77.5,-442.1 77.5,-433.43\"/>\n",
       "<polygon fill=\"black\" stroke=\"black\" points=\"81,-433.26 77.5,-423.26 74,-433.26 81,-433.26\"/>\n",
       "</g>\n",
       "<!-- 2 -->\n",
       "<g id=\"node3\" class=\"node\">\n",
       "<title>2</title>\n",
       "<text text-anchor=\"middle\" x=\"77.5\" y=\"-360.8\" font-family=\"Times,serif\" font-size=\"14.00\">&lt;factor&gt;</text>\n",
       "</g>\n",
       "<!-- 1&#45;&gt;2 -->\n",
       "<g id=\"edge2\" class=\"edge\">\n",
       "<title>1&#45;&gt;2</title>\n",
       "<path fill=\"none\" stroke=\"black\" d=\"M77.5,-407.69C77.5,-401.18 77.5,-391.1 77.5,-382.43\"/>\n",
       "<polygon fill=\"black\" stroke=\"black\" points=\"81,-382.26 77.5,-372.26 74,-382.26 81,-382.26\"/>\n",
       "</g>\n",
       "<!-- 3 -->\n",
       "<g id=\"node4\" class=\"node\">\n",
       "<title>3</title>\n",
       "<text text-anchor=\"middle\" x=\"36.5\" y=\"-309.8\" font-family=\"Times,serif\" font-size=\"14.00\">(</text>\n",
       "</g>\n",
       "<!-- 2&#45;&gt;3 -->\n",
       "<g id=\"edge3\" class=\"edge\">\n",
       "<title>2&#45;&gt;3</title>\n",
       "<path fill=\"none\" stroke=\"black\" d=\"M71.8,-356.69C65.07,-348.64 53.77,-335.14 45.77,-325.58\"/>\n",
       "<polygon fill=\"black\" stroke=\"black\" points=\"48.27,-323.11 39.17,-317.69 42.9,-327.6 48.27,-323.11\"/>\n",
       "</g>\n",
       "<!-- 4 -->\n",
       "<g id=\"node5\" class=\"node\">\n",
       "<title>4</title>\n",
       "<text text-anchor=\"middle\" x=\"77.5\" y=\"-309.8\" font-family=\"Times,serif\" font-size=\"14.00\">&lt;expr&gt;</text>\n",
       "</g>\n",
       "<!-- 2&#45;&gt;4 -->\n",
       "<g id=\"edge4\" class=\"edge\">\n",
       "<title>2&#45;&gt;4</title>\n",
       "<path fill=\"none\" stroke=\"black\" d=\"M77.5,-356.69C77.5,-350.18 77.5,-340.1 77.5,-331.43\"/>\n",
       "<polygon fill=\"black\" stroke=\"black\" points=\"81,-331.26 77.5,-321.26 74,-331.26 81,-331.26\"/>\n",
       "</g>\n",
       "<!-- 16 -->\n",
       "<g id=\"node17\" class=\"node\">\n",
       "<title>16</title>\n",
       "<text text-anchor=\"middle\" x=\"118.5\" y=\"-309.8\" font-family=\"Times,serif\" font-size=\"14.00\">)</text>\n",
       "</g>\n",
       "<!-- 2&#45;&gt;16 -->\n",
       "<g id=\"edge16\" class=\"edge\">\n",
       "<title>2&#45;&gt;16</title>\n",
       "<path fill=\"none\" stroke=\"black\" d=\"M83.2,-356.69C89.93,-348.64 101.23,-335.14 109.23,-325.58\"/>\n",
       "<polygon fill=\"black\" stroke=\"black\" points=\"112.1,-327.6 115.83,-317.69 106.73,-323.11 112.1,-327.6\"/>\n",
       "</g>\n",
       "<!-- 5 -->\n",
       "<g id=\"node6\" class=\"node\">\n",
       "<title>5</title>\n",
       "<text text-anchor=\"middle\" x=\"77.5\" y=\"-258.8\" font-family=\"Times,serif\" font-size=\"14.00\">&lt;term&gt;</text>\n",
       "</g>\n",
       "<!-- 4&#45;&gt;5 -->\n",
       "<g id=\"edge5\" class=\"edge\">\n",
       "<title>4&#45;&gt;5</title>\n",
       "<path fill=\"none\" stroke=\"black\" d=\"M77.5,-305.69C77.5,-299.18 77.5,-289.1 77.5,-280.43\"/>\n",
       "<polygon fill=\"black\" stroke=\"black\" points=\"81,-280.26 77.5,-270.26 74,-280.26 81,-280.26\"/>\n",
       "</g>\n",
       "<!-- 6 -->\n",
       "<g id=\"node7\" class=\"node\">\n",
       "<title>6</title>\n",
       "<text text-anchor=\"middle\" x=\"27.5\" y=\"-207.8\" font-family=\"Times,serif\" font-size=\"14.00\">&lt;factor&gt;</text>\n",
       "</g>\n",
       "<!-- 5&#45;&gt;6 -->\n",
       "<g id=\"edge6\" class=\"edge\">\n",
       "<title>5&#45;&gt;6</title>\n",
       "<path fill=\"none\" stroke=\"black\" d=\"M70.55,-254.69C63.08,-247.37 51.03,-235.56 41.57,-226.29\"/>\n",
       "<polygon fill=\"black\" stroke=\"black\" points=\"43.99,-223.75 34.39,-219.26 39.09,-228.75 43.99,-223.75\"/>\n",
       "</g>\n",
       "<!-- 10 -->\n",
       "<g id=\"node11\" class=\"node\">\n",
       "<title>10</title>\n",
       "<text text-anchor=\"middle\" x=\"77.5\" y=\"-207.8\" font-family=\"Times,serif\" font-size=\"14.00\"> * </text>\n",
       "</g>\n",
       "<!-- 5&#45;&gt;10 -->\n",
       "<g id=\"edge10\" class=\"edge\">\n",
       "<title>5&#45;&gt;10</title>\n",
       "<path fill=\"none\" stroke=\"black\" d=\"M77.5,-254.69C77.5,-248.18 77.5,-238.1 77.5,-229.43\"/>\n",
       "<polygon fill=\"black\" stroke=\"black\" points=\"81,-229.26 77.5,-219.26 74,-229.26 81,-229.26\"/>\n",
       "</g>\n",
       "<!-- 11 -->\n",
       "<g id=\"node12\" class=\"node\">\n",
       "<title>11</title>\n",
       "<text text-anchor=\"middle\" x=\"124.5\" y=\"-207.8\" font-family=\"Times,serif\" font-size=\"14.00\">&lt;term&gt;</text>\n",
       "</g>\n",
       "<!-- 5&#45;&gt;11 -->\n",
       "<g id=\"edge11\" class=\"edge\">\n",
       "<title>5&#45;&gt;11</title>\n",
       "<path fill=\"none\" stroke=\"black\" d=\"M84.04,-254.69C90.98,-247.45 102.16,-235.79 111.01,-226.57\"/>\n",
       "<polygon fill=\"black\" stroke=\"black\" points=\"113.62,-228.9 118.02,-219.26 108.57,-224.05 113.62,-228.9\"/>\n",
       "</g>\n",
       "<!-- 7 -->\n",
       "<g id=\"node8\" class=\"node\">\n",
       "<title>7</title>\n",
       "<text text-anchor=\"middle\" x=\"27.5\" y=\"-156.8\" font-family=\"Times,serif\" font-size=\"14.00\">&lt;integer&gt;</text>\n",
       "</g>\n",
       "<!-- 6&#45;&gt;7 -->\n",
       "<g id=\"edge7\" class=\"edge\">\n",
       "<title>6&#45;&gt;7</title>\n",
       "<path fill=\"none\" stroke=\"black\" d=\"M27.5,-203.69C27.5,-197.18 27.5,-187.1 27.5,-178.43\"/>\n",
       "<polygon fill=\"black\" stroke=\"black\" points=\"31,-178.26 27.5,-168.26 24,-178.26 31,-178.26\"/>\n",
       "</g>\n",
       "<!-- 8 -->\n",
       "<g id=\"node9\" class=\"node\">\n",
       "<title>8</title>\n",
       "<text text-anchor=\"middle\" x=\"27.5\" y=\"-105.8\" font-family=\"Times,serif\" font-size=\"14.00\">&lt;digit&gt;</text>\n",
       "</g>\n",
       "<!-- 7&#45;&gt;8 -->\n",
       "<g id=\"edge8\" class=\"edge\">\n",
       "<title>7&#45;&gt;8</title>\n",
       "<path fill=\"none\" stroke=\"black\" d=\"M27.5,-152.69C27.5,-146.18 27.5,-136.1 27.5,-127.43\"/>\n",
       "<polygon fill=\"black\" stroke=\"black\" points=\"31,-127.26 27.5,-117.26 24,-127.26 31,-127.26\"/>\n",
       "</g>\n",
       "<!-- 9 -->\n",
       "<g id=\"node10\" class=\"node\">\n",
       "<title>9</title>\n",
       "<text text-anchor=\"middle\" x=\"27.5\" y=\"-54.8\" font-family=\"Times,serif\" font-size=\"14.00\">2</text>\n",
       "</g>\n",
       "<!-- 8&#45;&gt;9 -->\n",
       "<g id=\"edge9\" class=\"edge\">\n",
       "<title>8&#45;&gt;9</title>\n",
       "<path fill=\"none\" stroke=\"black\" d=\"M27.5,-101.69C27.5,-95.18 27.5,-85.1 27.5,-76.43\"/>\n",
       "<polygon fill=\"black\" stroke=\"black\" points=\"31,-76.26 27.5,-66.26 24,-76.26 31,-76.26\"/>\n",
       "</g>\n",
       "<!-- 12 -->\n",
       "<g id=\"node13\" class=\"node\">\n",
       "<title>12</title>\n",
       "<text text-anchor=\"middle\" x=\"124.5\" y=\"-156.8\" font-family=\"Times,serif\" font-size=\"14.00\">&lt;factor&gt;</text>\n",
       "</g>\n",
       "<!-- 11&#45;&gt;12 -->\n",
       "<g id=\"edge12\" class=\"edge\">\n",
       "<title>11&#45;&gt;12</title>\n",
       "<path fill=\"none\" stroke=\"black\" d=\"M124.5,-203.69C124.5,-197.18 124.5,-187.1 124.5,-178.43\"/>\n",
       "<polygon fill=\"black\" stroke=\"black\" points=\"128,-178.26 124.5,-168.26 121,-178.26 128,-178.26\"/>\n",
       "</g>\n",
       "<!-- 13 -->\n",
       "<g id=\"node14\" class=\"node\">\n",
       "<title>13</title>\n",
       "<text text-anchor=\"middle\" x=\"124.5\" y=\"-105.8\" font-family=\"Times,serif\" font-size=\"14.00\">&lt;integer&gt;</text>\n",
       "</g>\n",
       "<!-- 12&#45;&gt;13 -->\n",
       "<g id=\"edge13\" class=\"edge\">\n",
       "<title>12&#45;&gt;13</title>\n",
       "<path fill=\"none\" stroke=\"black\" d=\"M124.5,-152.69C124.5,-146.18 124.5,-136.1 124.5,-127.43\"/>\n",
       "<polygon fill=\"black\" stroke=\"black\" points=\"128,-127.26 124.5,-117.26 121,-127.26 128,-127.26\"/>\n",
       "</g>\n",
       "<!-- 14 -->\n",
       "<g id=\"node15\" class=\"node\">\n",
       "<title>14</title>\n",
       "<text text-anchor=\"middle\" x=\"124.5\" y=\"-54.8\" font-family=\"Times,serif\" font-size=\"14.00\">&lt;digit&gt;</text>\n",
       "</g>\n",
       "<!-- 13&#45;&gt;14 -->\n",
       "<g id=\"edge14\" class=\"edge\">\n",
       "<title>13&#45;&gt;14</title>\n",
       "<path fill=\"none\" stroke=\"black\" d=\"M124.5,-101.69C124.5,-95.18 124.5,-85.1 124.5,-76.43\"/>\n",
       "<polygon fill=\"black\" stroke=\"black\" points=\"128,-76.26 124.5,-66.26 121,-76.26 128,-76.26\"/>\n",
       "</g>\n",
       "<!-- 15 -->\n",
       "<g id=\"node16\" class=\"node\">\n",
       "<title>15</title>\n",
       "<text text-anchor=\"middle\" x=\"124.5\" y=\"-3.8\" font-family=\"Times,serif\" font-size=\"14.00\">3</text>\n",
       "</g>\n",
       "<!-- 14&#45;&gt;15 -->\n",
       "<g id=\"edge15\" class=\"edge\">\n",
       "<title>14&#45;&gt;15</title>\n",
       "<path fill=\"none\" stroke=\"black\" d=\"M124.5,-50.69C124.5,-44.18 124.5,-34.1 124.5,-25.43\"/>\n",
       "<polygon fill=\"black\" stroke=\"black\" points=\"128,-25.26 124.5,-15.26 121,-25.26 128,-25.26\"/>\n",
       "</g>\n",
       "</g>\n",
       "</svg>\n"
      ],
      "text/plain": [
       "<graphviz.graphs.Digraph at 0x105f9ee60>"
      ]
     },
     "execution_count": 35,
     "metadata": {},
     "output_type": "execute_result"
    }
   ],
   "source": [
    "new_derivation_tree = copy.deepcopy(derivation_tree)\n",
    "# We really should have some query language\n",
    "sub_expr_tree = new_derivation_tree[1][0][1][2]\n",
    "display_tree(sub_expr_tree)"
   ]
  },
  {
   "cell_type": "code",
   "execution_count": 36,
   "metadata": {
    "execution": {
     "iopub.execute_input": "2022-11-29T13:49:54.308492Z",
     "iopub.status.busy": "2022-11-29T13:49:54.308189Z",
     "iopub.status.idle": "2022-11-29T13:49:54.549397Z",
     "shell.execute_reply": "2022-11-29T13:49:54.549681Z"
    },
    "slideshow": {
     "slide_type": "fragment"
    }
   },
   "outputs": [
    {
     "data": {
      "image/svg+xml": [
       "<?xml version=\"1.0\" encoding=\"UTF-8\" standalone=\"no\"?>\n",
       "<!DOCTYPE svg PUBLIC \"-//W3C//DTD SVG 1.1//EN\"\n",
       " \"http://www.w3.org/Graphics/SVG/1.1/DTD/svg11.dtd\">\n",
       "<!-- Generated by graphviz version 5.0.0 (20220707.1540)\n",
       " -->\n",
       "<!-- Pages: 1 -->\n",
       "<svg width=\"160pt\" height=\"533pt\"\n",
       " viewBox=\"0.00 0.00 160.00 533.00\" xmlns=\"http://www.w3.org/2000/svg\" xmlns:xlink=\"http://www.w3.org/1999/xlink\">\n",
       "<g id=\"graph0\" class=\"graph\" transform=\"scale(1 1) rotate(0) translate(4 529)\">\n",
       "<polygon fill=\"white\" stroke=\"transparent\" points=\"-4,4 -4,-529 156,-529 156,4 -4,4\"/>\n",
       "<!-- 0 -->\n",
       "<g id=\"node1\" class=\"node\">\n",
       "<title>0</title>\n",
       "<text text-anchor=\"middle\" x=\"77.5\" y=\"-513.8\" font-family=\"Times,serif\" font-size=\"14.00\">&lt;start&gt;</text>\n",
       "</g>\n",
       "<!-- 1 -->\n",
       "<g id=\"node2\" class=\"node\">\n",
       "<title>1</title>\n",
       "<text text-anchor=\"middle\" x=\"77.5\" y=\"-462.8\" font-family=\"Times,serif\" font-size=\"14.00\">&lt;expr&gt;</text>\n",
       "</g>\n",
       "<!-- 0&#45;&gt;1 -->\n",
       "<g id=\"edge1\" class=\"edge\">\n",
       "<title>0&#45;&gt;1</title>\n",
       "<path fill=\"none\" stroke=\"black\" d=\"M77.5,-509.69C77.5,-503.18 77.5,-493.1 77.5,-484.43\"/>\n",
       "<polygon fill=\"black\" stroke=\"black\" points=\"81,-484.26 77.5,-474.26 74,-484.26 81,-484.26\"/>\n",
       "</g>\n",
       "<!-- 2 -->\n",
       "<g id=\"node3\" class=\"node\">\n",
       "<title>2</title>\n",
       "<text text-anchor=\"middle\" x=\"77.5\" y=\"-411.8\" font-family=\"Times,serif\" font-size=\"14.00\">&lt;term&gt;</text>\n",
       "</g>\n",
       "<!-- 1&#45;&gt;2 -->\n",
       "<g id=\"edge2\" class=\"edge\">\n",
       "<title>1&#45;&gt;2</title>\n",
       "<path fill=\"none\" stroke=\"black\" d=\"M77.5,-458.69C77.5,-452.18 77.5,-442.1 77.5,-433.43\"/>\n",
       "<polygon fill=\"black\" stroke=\"black\" points=\"81,-433.26 77.5,-423.26 74,-433.26 81,-433.26\"/>\n",
       "</g>\n",
       "<!-- 3 -->\n",
       "<g id=\"node4\" class=\"node\">\n",
       "<title>3</title>\n",
       "<text text-anchor=\"middle\" x=\"77.5\" y=\"-360.8\" font-family=\"Times,serif\" font-size=\"14.00\">&lt;factor&gt;</text>\n",
       "</g>\n",
       "<!-- 2&#45;&gt;3 -->\n",
       "<g id=\"edge3\" class=\"edge\">\n",
       "<title>2&#45;&gt;3</title>\n",
       "<path fill=\"none\" stroke=\"black\" d=\"M77.5,-407.69C77.5,-401.18 77.5,-391.1 77.5,-382.43\"/>\n",
       "<polygon fill=\"black\" stroke=\"black\" points=\"81,-382.26 77.5,-372.26 74,-382.26 81,-382.26\"/>\n",
       "</g>\n",
       "<!-- 4 -->\n",
       "<g id=\"node5\" class=\"node\">\n",
       "<title>4</title>\n",
       "<text text-anchor=\"middle\" x=\"36.5\" y=\"-309.8\" font-family=\"Times,serif\" font-size=\"14.00\">(</text>\n",
       "</g>\n",
       "<!-- 3&#45;&gt;4 -->\n",
       "<g id=\"edge4\" class=\"edge\">\n",
       "<title>3&#45;&gt;4</title>\n",
       "<path fill=\"none\" stroke=\"black\" d=\"M71.8,-356.69C65.07,-348.64 53.77,-335.14 45.77,-325.58\"/>\n",
       "<polygon fill=\"black\" stroke=\"black\" points=\"48.27,-323.11 39.17,-317.69 42.9,-327.6 48.27,-323.11\"/>\n",
       "</g>\n",
       "<!-- 5 -->\n",
       "<g id=\"node6\" class=\"node\">\n",
       "<title>5</title>\n",
       "<text text-anchor=\"middle\" x=\"77.5\" y=\"-309.8\" font-family=\"Times,serif\" font-size=\"14.00\">&lt;expr&gt;</text>\n",
       "</g>\n",
       "<!-- 3&#45;&gt;5 -->\n",
       "<g id=\"edge5\" class=\"edge\">\n",
       "<title>3&#45;&gt;5</title>\n",
       "<path fill=\"none\" stroke=\"black\" d=\"M77.5,-356.69C77.5,-350.18 77.5,-340.1 77.5,-331.43\"/>\n",
       "<polygon fill=\"black\" stroke=\"black\" points=\"81,-331.26 77.5,-321.26 74,-331.26 81,-331.26\"/>\n",
       "</g>\n",
       "<!-- 17 -->\n",
       "<g id=\"node18\" class=\"node\">\n",
       "<title>17</title>\n",
       "<text text-anchor=\"middle\" x=\"118.5\" y=\"-309.8\" font-family=\"Times,serif\" font-size=\"14.00\">)</text>\n",
       "</g>\n",
       "<!-- 3&#45;&gt;17 -->\n",
       "<g id=\"edge17\" class=\"edge\">\n",
       "<title>3&#45;&gt;17</title>\n",
       "<path fill=\"none\" stroke=\"black\" d=\"M83.2,-356.69C89.93,-348.64 101.23,-335.14 109.23,-325.58\"/>\n",
       "<polygon fill=\"black\" stroke=\"black\" points=\"112.1,-327.6 115.83,-317.69 106.73,-323.11 112.1,-327.6\"/>\n",
       "</g>\n",
       "<!-- 6 -->\n",
       "<g id=\"node7\" class=\"node\">\n",
       "<title>6</title>\n",
       "<text text-anchor=\"middle\" x=\"77.5\" y=\"-258.8\" font-family=\"Times,serif\" font-size=\"14.00\">&lt;term&gt;</text>\n",
       "</g>\n",
       "<!-- 5&#45;&gt;6 -->\n",
       "<g id=\"edge6\" class=\"edge\">\n",
       "<title>5&#45;&gt;6</title>\n",
       "<path fill=\"none\" stroke=\"black\" d=\"M77.5,-305.69C77.5,-299.18 77.5,-289.1 77.5,-280.43\"/>\n",
       "<polygon fill=\"black\" stroke=\"black\" points=\"81,-280.26 77.5,-270.26 74,-280.26 81,-280.26\"/>\n",
       "</g>\n",
       "<!-- 7 -->\n",
       "<g id=\"node8\" class=\"node\">\n",
       "<title>7</title>\n",
       "<text text-anchor=\"middle\" x=\"27.5\" y=\"-207.8\" font-family=\"Times,serif\" font-size=\"14.00\">&lt;factor&gt;</text>\n",
       "</g>\n",
       "<!-- 6&#45;&gt;7 -->\n",
       "<g id=\"edge7\" class=\"edge\">\n",
       "<title>6&#45;&gt;7</title>\n",
       "<path fill=\"none\" stroke=\"black\" d=\"M70.55,-254.69C63.08,-247.37 51.03,-235.56 41.57,-226.29\"/>\n",
       "<polygon fill=\"black\" stroke=\"black\" points=\"43.99,-223.75 34.39,-219.26 39.09,-228.75 43.99,-223.75\"/>\n",
       "</g>\n",
       "<!-- 11 -->\n",
       "<g id=\"node12\" class=\"node\">\n",
       "<title>11</title>\n",
       "<text text-anchor=\"middle\" x=\"77.5\" y=\"-207.8\" font-family=\"Times,serif\" font-size=\"14.00\"> * </text>\n",
       "</g>\n",
       "<!-- 6&#45;&gt;11 -->\n",
       "<g id=\"edge11\" class=\"edge\">\n",
       "<title>6&#45;&gt;11</title>\n",
       "<path fill=\"none\" stroke=\"black\" d=\"M77.5,-254.69C77.5,-248.18 77.5,-238.1 77.5,-229.43\"/>\n",
       "<polygon fill=\"black\" stroke=\"black\" points=\"81,-229.26 77.5,-219.26 74,-229.26 81,-229.26\"/>\n",
       "</g>\n",
       "<!-- 12 -->\n",
       "<g id=\"node13\" class=\"node\">\n",
       "<title>12</title>\n",
       "<text text-anchor=\"middle\" x=\"124.5\" y=\"-207.8\" font-family=\"Times,serif\" font-size=\"14.00\">&lt;term&gt;</text>\n",
       "</g>\n",
       "<!-- 6&#45;&gt;12 -->\n",
       "<g id=\"edge12\" class=\"edge\">\n",
       "<title>6&#45;&gt;12</title>\n",
       "<path fill=\"none\" stroke=\"black\" d=\"M84.04,-254.69C90.98,-247.45 102.16,-235.79 111.01,-226.57\"/>\n",
       "<polygon fill=\"black\" stroke=\"black\" points=\"113.62,-228.9 118.02,-219.26 108.57,-224.05 113.62,-228.9\"/>\n",
       "</g>\n",
       "<!-- 8 -->\n",
       "<g id=\"node9\" class=\"node\">\n",
       "<title>8</title>\n",
       "<text text-anchor=\"middle\" x=\"27.5\" y=\"-156.8\" font-family=\"Times,serif\" font-size=\"14.00\">&lt;integer&gt;</text>\n",
       "</g>\n",
       "<!-- 7&#45;&gt;8 -->\n",
       "<g id=\"edge8\" class=\"edge\">\n",
       "<title>7&#45;&gt;8</title>\n",
       "<path fill=\"none\" stroke=\"black\" d=\"M27.5,-203.69C27.5,-197.18 27.5,-187.1 27.5,-178.43\"/>\n",
       "<polygon fill=\"black\" stroke=\"black\" points=\"31,-178.26 27.5,-168.26 24,-178.26 31,-178.26\"/>\n",
       "</g>\n",
       "<!-- 9 -->\n",
       "<g id=\"node10\" class=\"node\">\n",
       "<title>9</title>\n",
       "<text text-anchor=\"middle\" x=\"27.5\" y=\"-105.8\" font-family=\"Times,serif\" font-size=\"14.00\">&lt;digit&gt;</text>\n",
       "</g>\n",
       "<!-- 8&#45;&gt;9 -->\n",
       "<g id=\"edge9\" class=\"edge\">\n",
       "<title>8&#45;&gt;9</title>\n",
       "<path fill=\"none\" stroke=\"black\" d=\"M27.5,-152.69C27.5,-146.18 27.5,-136.1 27.5,-127.43\"/>\n",
       "<polygon fill=\"black\" stroke=\"black\" points=\"31,-127.26 27.5,-117.26 24,-127.26 31,-127.26\"/>\n",
       "</g>\n",
       "<!-- 10 -->\n",
       "<g id=\"node11\" class=\"node\">\n",
       "<title>10</title>\n",
       "<text text-anchor=\"middle\" x=\"27.5\" y=\"-54.8\" font-family=\"Times,serif\" font-size=\"14.00\">2</text>\n",
       "</g>\n",
       "<!-- 9&#45;&gt;10 -->\n",
       "<g id=\"edge10\" class=\"edge\">\n",
       "<title>9&#45;&gt;10</title>\n",
       "<path fill=\"none\" stroke=\"black\" d=\"M27.5,-101.69C27.5,-95.18 27.5,-85.1 27.5,-76.43\"/>\n",
       "<polygon fill=\"black\" stroke=\"black\" points=\"31,-76.26 27.5,-66.26 24,-76.26 31,-76.26\"/>\n",
       "</g>\n",
       "<!-- 13 -->\n",
       "<g id=\"node14\" class=\"node\">\n",
       "<title>13</title>\n",
       "<text text-anchor=\"middle\" x=\"124.5\" y=\"-156.8\" font-family=\"Times,serif\" font-size=\"14.00\">&lt;factor&gt;</text>\n",
       "</g>\n",
       "<!-- 12&#45;&gt;13 -->\n",
       "<g id=\"edge13\" class=\"edge\">\n",
       "<title>12&#45;&gt;13</title>\n",
       "<path fill=\"none\" stroke=\"black\" d=\"M124.5,-203.69C124.5,-197.18 124.5,-187.1 124.5,-178.43\"/>\n",
       "<polygon fill=\"black\" stroke=\"black\" points=\"128,-178.26 124.5,-168.26 121,-178.26 128,-178.26\"/>\n",
       "</g>\n",
       "<!-- 14 -->\n",
       "<g id=\"node15\" class=\"node\">\n",
       "<title>14</title>\n",
       "<text text-anchor=\"middle\" x=\"124.5\" y=\"-105.8\" font-family=\"Times,serif\" font-size=\"14.00\">&lt;integer&gt;</text>\n",
       "</g>\n",
       "<!-- 13&#45;&gt;14 -->\n",
       "<g id=\"edge14\" class=\"edge\">\n",
       "<title>13&#45;&gt;14</title>\n",
       "<path fill=\"none\" stroke=\"black\" d=\"M124.5,-152.69C124.5,-146.18 124.5,-136.1 124.5,-127.43\"/>\n",
       "<polygon fill=\"black\" stroke=\"black\" points=\"128,-127.26 124.5,-117.26 121,-127.26 128,-127.26\"/>\n",
       "</g>\n",
       "<!-- 15 -->\n",
       "<g id=\"node16\" class=\"node\">\n",
       "<title>15</title>\n",
       "<text text-anchor=\"middle\" x=\"124.5\" y=\"-54.8\" font-family=\"Times,serif\" font-size=\"14.00\">&lt;digit&gt;</text>\n",
       "</g>\n",
       "<!-- 14&#45;&gt;15 -->\n",
       "<g id=\"edge15\" class=\"edge\">\n",
       "<title>14&#45;&gt;15</title>\n",
       "<path fill=\"none\" stroke=\"black\" d=\"M124.5,-101.69C124.5,-95.18 124.5,-85.1 124.5,-76.43\"/>\n",
       "<polygon fill=\"black\" stroke=\"black\" points=\"128,-76.26 124.5,-66.26 121,-76.26 128,-76.26\"/>\n",
       "</g>\n",
       "<!-- 16 -->\n",
       "<g id=\"node17\" class=\"node\">\n",
       "<title>16</title>\n",
       "<text text-anchor=\"middle\" x=\"124.5\" y=\"-3.8\" font-family=\"Times,serif\" font-size=\"14.00\">3</text>\n",
       "</g>\n",
       "<!-- 15&#45;&gt;16 -->\n",
       "<g id=\"edge16\" class=\"edge\">\n",
       "<title>15&#45;&gt;16</title>\n",
       "<path fill=\"none\" stroke=\"black\" d=\"M124.5,-50.69C124.5,-44.18 124.5,-34.1 124.5,-25.43\"/>\n",
       "<polygon fill=\"black\" stroke=\"black\" points=\"128,-25.26 124.5,-15.26 121,-25.26 128,-25.26\"/>\n",
       "</g>\n",
       "</g>\n",
       "</svg>\n"
      ],
      "text/plain": [
       "<graphviz.graphs.Digraph at 0x105f9f370>"
      ]
     },
     "execution_count": 36,
     "metadata": {},
     "output_type": "execute_result"
    }
   ],
   "source": [
    "new_derivation_tree[1][0] = sub_expr_tree\n",
    "display_tree(new_derivation_tree)"
   ]
  },
  {
   "cell_type": "code",
   "execution_count": 37,
   "metadata": {
    "execution": {
     "iopub.execute_input": "2022-11-29T13:49:54.552093Z",
     "iopub.status.busy": "2022-11-29T13:49:54.551767Z",
     "iopub.status.idle": "2022-11-29T13:49:54.553385Z",
     "shell.execute_reply": "2022-11-29T13:49:54.553628Z"
    },
    "slideshow": {
     "slide_type": "fragment"
    }
   },
   "outputs": [
    {
     "data": {
      "text/plain": [
       "'(2 * 3)'"
      ]
     },
     "execution_count": 37,
     "metadata": {},
     "output_type": "execute_result"
    }
   ],
   "source": [
    "all_terminals(new_derivation_tree)"
   ]
  },
  {
   "cell_type": "markdown",
   "metadata": {
    "slideshow": {
     "slide_type": "subslide"
    }
   },
   "source": [
    "Replacing one subtree by another only works as long as individual elements such as `<expr>` occur multiple times in our tree.  In the reduced `new_derivation_tree`, above, we could replace further `<expr>` trees only once more."
   ]
  },
  {
   "cell_type": "markdown",
   "metadata": {
    "slideshow": {
     "slide_type": "subslide"
    }
   },
   "source": [
    "### Simplifying by Alternative Expansions"
   ]
  },
  {
   "cell_type": "markdown",
   "metadata": {
    "slideshow": {
     "slide_type": "fragment"
    }
   },
   "source": [
    "A second means to simplify this tree is to apply _alternative expansions_.  That is, for a symbol, we check whether there is an alternative expansion with a smaller number of children.  Then, we replace the symbol with the alternative expansion, filling in needed symbols from the tree."
   ]
  },
  {
   "cell_type": "markdown",
   "metadata": {
    "slideshow": {
     "slide_type": "subslide"
    }
   },
   "source": [
    "As an example, consider the `new_derivation_tree` above.  The applied expansion for `<term>` has been\n",
    "\n",
    "    <term> ::= <term> * <factor>\n",
    "    \n",
    "Let us replace this with the alternative expansion:\n",
    "\n",
    "    <term> ::= <factor>"
   ]
  },
  {
   "cell_type": "code",
   "execution_count": 38,
   "metadata": {
    "execution": {
     "iopub.execute_input": "2022-11-29T13:49:54.559161Z",
     "iopub.status.busy": "2022-11-29T13:49:54.558607Z",
     "iopub.status.idle": "2022-11-29T13:49:54.791263Z",
     "shell.execute_reply": "2022-11-29T13:49:54.791459Z"
    },
    "slideshow": {
     "slide_type": "fragment"
    }
   },
   "outputs": [
    {
     "data": {
      "image/svg+xml": [
       "<?xml version=\"1.0\" encoding=\"UTF-8\" standalone=\"no\"?>\n",
       "<!DOCTYPE svg PUBLIC \"-//W3C//DTD SVG 1.1//EN\"\n",
       " \"http://www.w3.org/Graphics/SVG/1.1/DTD/svg11.dtd\">\n",
       "<!-- Generated by graphviz version 5.0.0 (20220707.1540)\n",
       " -->\n",
       "<!-- Pages: 1 -->\n",
       "<svg width=\"160pt\" height=\"278pt\"\n",
       " viewBox=\"0.00 0.00 160.00 278.00\" xmlns=\"http://www.w3.org/2000/svg\" xmlns:xlink=\"http://www.w3.org/1999/xlink\">\n",
       "<g id=\"graph0\" class=\"graph\" transform=\"scale(1 1) rotate(0) translate(4 274)\">\n",
       "<polygon fill=\"white\" stroke=\"transparent\" points=\"-4,4 -4,-274 156,-274 156,4 -4,4\"/>\n",
       "<!-- 0 -->\n",
       "<g id=\"node1\" class=\"node\">\n",
       "<title>0</title>\n",
       "<text text-anchor=\"middle\" x=\"77.5\" y=\"-258.8\" font-family=\"Times,serif\" font-size=\"14.00\">&lt;term&gt;</text>\n",
       "</g>\n",
       "<!-- 1 -->\n",
       "<g id=\"node2\" class=\"node\">\n",
       "<title>1</title>\n",
       "<text text-anchor=\"middle\" x=\"27.5\" y=\"-207.8\" font-family=\"Times,serif\" font-size=\"14.00\">&lt;factor&gt;</text>\n",
       "</g>\n",
       "<!-- 0&#45;&gt;1 -->\n",
       "<g id=\"edge1\" class=\"edge\">\n",
       "<title>0&#45;&gt;1</title>\n",
       "<path fill=\"none\" stroke=\"black\" d=\"M70.55,-254.69C63.08,-247.37 51.03,-235.56 41.57,-226.29\"/>\n",
       "<polygon fill=\"black\" stroke=\"black\" points=\"43.99,-223.75 34.39,-219.26 39.09,-228.75 43.99,-223.75\"/>\n",
       "</g>\n",
       "<!-- 5 -->\n",
       "<g id=\"node6\" class=\"node\">\n",
       "<title>5</title>\n",
       "<text text-anchor=\"middle\" x=\"77.5\" y=\"-207.8\" font-family=\"Times,serif\" font-size=\"14.00\"> * </text>\n",
       "</g>\n",
       "<!-- 0&#45;&gt;5 -->\n",
       "<g id=\"edge5\" class=\"edge\">\n",
       "<title>0&#45;&gt;5</title>\n",
       "<path fill=\"none\" stroke=\"black\" d=\"M77.5,-254.69C77.5,-248.18 77.5,-238.1 77.5,-229.43\"/>\n",
       "<polygon fill=\"black\" stroke=\"black\" points=\"81,-229.26 77.5,-219.26 74,-229.26 81,-229.26\"/>\n",
       "</g>\n",
       "<!-- 6 -->\n",
       "<g id=\"node7\" class=\"node\">\n",
       "<title>6</title>\n",
       "<text text-anchor=\"middle\" x=\"124.5\" y=\"-207.8\" font-family=\"Times,serif\" font-size=\"14.00\">&lt;term&gt;</text>\n",
       "</g>\n",
       "<!-- 0&#45;&gt;6 -->\n",
       "<g id=\"edge6\" class=\"edge\">\n",
       "<title>0&#45;&gt;6</title>\n",
       "<path fill=\"none\" stroke=\"black\" d=\"M84.04,-254.69C90.98,-247.45 102.16,-235.79 111.01,-226.57\"/>\n",
       "<polygon fill=\"black\" stroke=\"black\" points=\"113.62,-228.9 118.02,-219.26 108.57,-224.05 113.62,-228.9\"/>\n",
       "</g>\n",
       "<!-- 2 -->\n",
       "<g id=\"node3\" class=\"node\">\n",
       "<title>2</title>\n",
       "<text text-anchor=\"middle\" x=\"27.5\" y=\"-156.8\" font-family=\"Times,serif\" font-size=\"14.00\">&lt;integer&gt;</text>\n",
       "</g>\n",
       "<!-- 1&#45;&gt;2 -->\n",
       "<g id=\"edge2\" class=\"edge\">\n",
       "<title>1&#45;&gt;2</title>\n",
       "<path fill=\"none\" stroke=\"black\" d=\"M27.5,-203.69C27.5,-197.18 27.5,-187.1 27.5,-178.43\"/>\n",
       "<polygon fill=\"black\" stroke=\"black\" points=\"31,-178.26 27.5,-168.26 24,-178.26 31,-178.26\"/>\n",
       "</g>\n",
       "<!-- 3 -->\n",
       "<g id=\"node4\" class=\"node\">\n",
       "<title>3</title>\n",
       "<text text-anchor=\"middle\" x=\"27.5\" y=\"-105.8\" font-family=\"Times,serif\" font-size=\"14.00\">&lt;digit&gt;</text>\n",
       "</g>\n",
       "<!-- 2&#45;&gt;3 -->\n",
       "<g id=\"edge3\" class=\"edge\">\n",
       "<title>2&#45;&gt;3</title>\n",
       "<path fill=\"none\" stroke=\"black\" d=\"M27.5,-152.69C27.5,-146.18 27.5,-136.1 27.5,-127.43\"/>\n",
       "<polygon fill=\"black\" stroke=\"black\" points=\"31,-127.26 27.5,-117.26 24,-127.26 31,-127.26\"/>\n",
       "</g>\n",
       "<!-- 4 -->\n",
       "<g id=\"node5\" class=\"node\">\n",
       "<title>4</title>\n",
       "<text text-anchor=\"middle\" x=\"27.5\" y=\"-54.8\" font-family=\"Times,serif\" font-size=\"14.00\">2</text>\n",
       "</g>\n",
       "<!-- 3&#45;&gt;4 -->\n",
       "<g id=\"edge4\" class=\"edge\">\n",
       "<title>3&#45;&gt;4</title>\n",
       "<path fill=\"none\" stroke=\"black\" d=\"M27.5,-101.69C27.5,-95.18 27.5,-85.1 27.5,-76.43\"/>\n",
       "<polygon fill=\"black\" stroke=\"black\" points=\"31,-76.26 27.5,-66.26 24,-76.26 31,-76.26\"/>\n",
       "</g>\n",
       "<!-- 7 -->\n",
       "<g id=\"node8\" class=\"node\">\n",
       "<title>7</title>\n",
       "<text text-anchor=\"middle\" x=\"124.5\" y=\"-156.8\" font-family=\"Times,serif\" font-size=\"14.00\">&lt;factor&gt;</text>\n",
       "</g>\n",
       "<!-- 6&#45;&gt;7 -->\n",
       "<g id=\"edge7\" class=\"edge\">\n",
       "<title>6&#45;&gt;7</title>\n",
       "<path fill=\"none\" stroke=\"black\" d=\"M124.5,-203.69C124.5,-197.18 124.5,-187.1 124.5,-178.43\"/>\n",
       "<polygon fill=\"black\" stroke=\"black\" points=\"128,-178.26 124.5,-168.26 121,-178.26 128,-178.26\"/>\n",
       "</g>\n",
       "<!-- 8 -->\n",
       "<g id=\"node9\" class=\"node\">\n",
       "<title>8</title>\n",
       "<text text-anchor=\"middle\" x=\"124.5\" y=\"-105.8\" font-family=\"Times,serif\" font-size=\"14.00\">&lt;integer&gt;</text>\n",
       "</g>\n",
       "<!-- 7&#45;&gt;8 -->\n",
       "<g id=\"edge8\" class=\"edge\">\n",
       "<title>7&#45;&gt;8</title>\n",
       "<path fill=\"none\" stroke=\"black\" d=\"M124.5,-152.69C124.5,-146.18 124.5,-136.1 124.5,-127.43\"/>\n",
       "<polygon fill=\"black\" stroke=\"black\" points=\"128,-127.26 124.5,-117.26 121,-127.26 128,-127.26\"/>\n",
       "</g>\n",
       "<!-- 9 -->\n",
       "<g id=\"node10\" class=\"node\">\n",
       "<title>9</title>\n",
       "<text text-anchor=\"middle\" x=\"124.5\" y=\"-54.8\" font-family=\"Times,serif\" font-size=\"14.00\">&lt;digit&gt;</text>\n",
       "</g>\n",
       "<!-- 8&#45;&gt;9 -->\n",
       "<g id=\"edge9\" class=\"edge\">\n",
       "<title>8&#45;&gt;9</title>\n",
       "<path fill=\"none\" stroke=\"black\" d=\"M124.5,-101.69C124.5,-95.18 124.5,-85.1 124.5,-76.43\"/>\n",
       "<polygon fill=\"black\" stroke=\"black\" points=\"128,-76.26 124.5,-66.26 121,-76.26 128,-76.26\"/>\n",
       "</g>\n",
       "<!-- 10 -->\n",
       "<g id=\"node11\" class=\"node\">\n",
       "<title>10</title>\n",
       "<text text-anchor=\"middle\" x=\"124.5\" y=\"-3.8\" font-family=\"Times,serif\" font-size=\"14.00\">3</text>\n",
       "</g>\n",
       "<!-- 9&#45;&gt;10 -->\n",
       "<g id=\"edge10\" class=\"edge\">\n",
       "<title>9&#45;&gt;10</title>\n",
       "<path fill=\"none\" stroke=\"black\" d=\"M124.5,-50.69C124.5,-44.18 124.5,-34.1 124.5,-25.43\"/>\n",
       "<polygon fill=\"black\" stroke=\"black\" points=\"128,-25.26 124.5,-15.26 121,-25.26 128,-25.26\"/>\n",
       "</g>\n",
       "</g>\n",
       "</svg>\n"
      ],
      "text/plain": [
       "<graphviz.graphs.Digraph at 0x105f9f7f0>"
      ]
     },
     "execution_count": 38,
     "metadata": {},
     "output_type": "execute_result"
    }
   ],
   "source": [
    "term_tree = new_derivation_tree[1][0][1][0][1][0][1][1][1][0]\n",
    "display_tree(term_tree)"
   ]
  },
  {
   "cell_type": "code",
   "execution_count": 39,
   "metadata": {
    "execution": {
     "iopub.execute_input": "2022-11-29T13:49:54.796519Z",
     "iopub.status.busy": "2022-11-29T13:49:54.796211Z",
     "iopub.status.idle": "2022-11-29T13:49:55.038030Z",
     "shell.execute_reply": "2022-11-29T13:49:55.038280Z"
    },
    "slideshow": {
     "slide_type": "subslide"
    }
   },
   "outputs": [
    {
     "data": {
      "image/svg+xml": [
       "<?xml version=\"1.0\" encoding=\"UTF-8\" standalone=\"no\"?>\n",
       "<!DOCTYPE svg PUBLIC \"-//W3C//DTD SVG 1.1//EN\"\n",
       " \"http://www.w3.org/Graphics/SVG/1.1/DTD/svg11.dtd\">\n",
       "<!-- Generated by graphviz version 5.0.0 (20220707.1540)\n",
       " -->\n",
       "<!-- Pages: 1 -->\n",
       "<svg width=\"63pt\" height=\"227pt\"\n",
       " viewBox=\"0.00 0.00 63.00 227.00\" xmlns=\"http://www.w3.org/2000/svg\" xmlns:xlink=\"http://www.w3.org/1999/xlink\">\n",
       "<g id=\"graph0\" class=\"graph\" transform=\"scale(1 1) rotate(0) translate(4 223)\">\n",
       "<polygon fill=\"white\" stroke=\"transparent\" points=\"-4,4 -4,-223 59,-223 59,4 -4,4\"/>\n",
       "<!-- 0 -->\n",
       "<g id=\"node1\" class=\"node\">\n",
       "<title>0</title>\n",
       "<text text-anchor=\"middle\" x=\"27.5\" y=\"-207.8\" font-family=\"Times,serif\" font-size=\"14.00\">&lt;term&gt;</text>\n",
       "</g>\n",
       "<!-- 1 -->\n",
       "<g id=\"node2\" class=\"node\">\n",
       "<title>1</title>\n",
       "<text text-anchor=\"middle\" x=\"27.5\" y=\"-156.8\" font-family=\"Times,serif\" font-size=\"14.00\">&lt;factor&gt;</text>\n",
       "</g>\n",
       "<!-- 0&#45;&gt;1 -->\n",
       "<g id=\"edge1\" class=\"edge\">\n",
       "<title>0&#45;&gt;1</title>\n",
       "<path fill=\"none\" stroke=\"black\" d=\"M27.5,-203.69C27.5,-197.18 27.5,-187.1 27.5,-178.43\"/>\n",
       "<polygon fill=\"black\" stroke=\"black\" points=\"31,-178.26 27.5,-168.26 24,-178.26 31,-178.26\"/>\n",
       "</g>\n",
       "<!-- 2 -->\n",
       "<g id=\"node3\" class=\"node\">\n",
       "<title>2</title>\n",
       "<text text-anchor=\"middle\" x=\"27.5\" y=\"-105.8\" font-family=\"Times,serif\" font-size=\"14.00\">&lt;integer&gt;</text>\n",
       "</g>\n",
       "<!-- 1&#45;&gt;2 -->\n",
       "<g id=\"edge2\" class=\"edge\">\n",
       "<title>1&#45;&gt;2</title>\n",
       "<path fill=\"none\" stroke=\"black\" d=\"M27.5,-152.69C27.5,-146.18 27.5,-136.1 27.5,-127.43\"/>\n",
       "<polygon fill=\"black\" stroke=\"black\" points=\"31,-127.26 27.5,-117.26 24,-127.26 31,-127.26\"/>\n",
       "</g>\n",
       "<!-- 3 -->\n",
       "<g id=\"node4\" class=\"node\">\n",
       "<title>3</title>\n",
       "<text text-anchor=\"middle\" x=\"27.5\" y=\"-54.8\" font-family=\"Times,serif\" font-size=\"14.00\">&lt;digit&gt;</text>\n",
       "</g>\n",
       "<!-- 2&#45;&gt;3 -->\n",
       "<g id=\"edge3\" class=\"edge\">\n",
       "<title>2&#45;&gt;3</title>\n",
       "<path fill=\"none\" stroke=\"black\" d=\"M27.5,-101.69C27.5,-95.18 27.5,-85.1 27.5,-76.43\"/>\n",
       "<polygon fill=\"black\" stroke=\"black\" points=\"31,-76.26 27.5,-66.26 24,-76.26 31,-76.26\"/>\n",
       "</g>\n",
       "<!-- 4 -->\n",
       "<g id=\"node5\" class=\"node\">\n",
       "<title>4</title>\n",
       "<text text-anchor=\"middle\" x=\"27.5\" y=\"-3.8\" font-family=\"Times,serif\" font-size=\"14.00\">3</text>\n",
       "</g>\n",
       "<!-- 3&#45;&gt;4 -->\n",
       "<g id=\"edge4\" class=\"edge\">\n",
       "<title>3&#45;&gt;4</title>\n",
       "<path fill=\"none\" stroke=\"black\" d=\"M27.5,-50.69C27.5,-44.18 27.5,-34.1 27.5,-25.43\"/>\n",
       "<polygon fill=\"black\" stroke=\"black\" points=\"31,-25.26 27.5,-15.26 24,-25.26 31,-25.26\"/>\n",
       "</g>\n",
       "</g>\n",
       "</svg>\n"
      ],
      "text/plain": [
       "<graphviz.graphs.Digraph at 0x105f9fc40>"
      ]
     },
     "execution_count": 39,
     "metadata": {},
     "output_type": "execute_result"
    }
   ],
   "source": [
    "shorter_term_tree = term_tree[1][2]\n",
    "display_tree(shorter_term_tree)"
   ]
  },
  {
   "cell_type": "code",
   "execution_count": 40,
   "metadata": {
    "execution": {
     "iopub.execute_input": "2022-11-29T13:49:55.043428Z",
     "iopub.status.busy": "2022-11-29T13:49:55.043091Z",
     "iopub.status.idle": "2022-11-29T13:49:55.286095Z",
     "shell.execute_reply": "2022-11-29T13:49:55.286446Z"
    },
    "slideshow": {
     "slide_type": "fragment"
    }
   },
   "outputs": [
    {
     "data": {
      "image/svg+xml": [
       "<?xml version=\"1.0\" encoding=\"UTF-8\" standalone=\"no\"?>\n",
       "<!DOCTYPE svg PUBLIC \"-//W3C//DTD SVG 1.1//EN\"\n",
       " \"http://www.w3.org/Graphics/SVG/1.1/DTD/svg11.dtd\">\n",
       "<!-- Generated by graphviz version 5.0.0 (20220707.1540)\n",
       " -->\n",
       "<!-- Pages: 1 -->\n",
       "<svg width=\"95pt\" height=\"482pt\"\n",
       " viewBox=\"0.00 0.00 95.00 482.00\" xmlns=\"http://www.w3.org/2000/svg\" xmlns:xlink=\"http://www.w3.org/1999/xlink\">\n",
       "<g id=\"graph0\" class=\"graph\" transform=\"scale(1 1) rotate(0) translate(4 478)\">\n",
       "<polygon fill=\"white\" stroke=\"transparent\" points=\"-4,4 -4,-478 91,-478 91,4 -4,4\"/>\n",
       "<!-- 0 -->\n",
       "<g id=\"node1\" class=\"node\">\n",
       "<title>0</title>\n",
       "<text text-anchor=\"middle\" x=\"43.5\" y=\"-462.8\" font-family=\"Times,serif\" font-size=\"14.00\">&lt;start&gt;</text>\n",
       "</g>\n",
       "<!-- 1 -->\n",
       "<g id=\"node2\" class=\"node\">\n",
       "<title>1</title>\n",
       "<text text-anchor=\"middle\" x=\"43.5\" y=\"-411.8\" font-family=\"Times,serif\" font-size=\"14.00\">&lt;expr&gt;</text>\n",
       "</g>\n",
       "<!-- 0&#45;&gt;1 -->\n",
       "<g id=\"edge1\" class=\"edge\">\n",
       "<title>0&#45;&gt;1</title>\n",
       "<path fill=\"none\" stroke=\"black\" d=\"M43.5,-458.69C43.5,-452.18 43.5,-442.1 43.5,-433.43\"/>\n",
       "<polygon fill=\"black\" stroke=\"black\" points=\"47,-433.26 43.5,-423.26 40,-433.26 47,-433.26\"/>\n",
       "</g>\n",
       "<!-- 2 -->\n",
       "<g id=\"node3\" class=\"node\">\n",
       "<title>2</title>\n",
       "<text text-anchor=\"middle\" x=\"43.5\" y=\"-360.8\" font-family=\"Times,serif\" font-size=\"14.00\">&lt;term&gt;</text>\n",
       "</g>\n",
       "<!-- 1&#45;&gt;2 -->\n",
       "<g id=\"edge2\" class=\"edge\">\n",
       "<title>1&#45;&gt;2</title>\n",
       "<path fill=\"none\" stroke=\"black\" d=\"M43.5,-407.69C43.5,-401.18 43.5,-391.1 43.5,-382.43\"/>\n",
       "<polygon fill=\"black\" stroke=\"black\" points=\"47,-382.26 43.5,-372.26 40,-382.26 47,-382.26\"/>\n",
       "</g>\n",
       "<!-- 3 -->\n",
       "<g id=\"node4\" class=\"node\">\n",
       "<title>3</title>\n",
       "<text text-anchor=\"middle\" x=\"43.5\" y=\"-309.8\" font-family=\"Times,serif\" font-size=\"14.00\">&lt;factor&gt;</text>\n",
       "</g>\n",
       "<!-- 2&#45;&gt;3 -->\n",
       "<g id=\"edge3\" class=\"edge\">\n",
       "<title>2&#45;&gt;3</title>\n",
       "<path fill=\"none\" stroke=\"black\" d=\"M43.5,-356.69C43.5,-350.18 43.5,-340.1 43.5,-331.43\"/>\n",
       "<polygon fill=\"black\" stroke=\"black\" points=\"47,-331.26 43.5,-321.26 40,-331.26 47,-331.26\"/>\n",
       "</g>\n",
       "<!-- 4 -->\n",
       "<g id=\"node5\" class=\"node\">\n",
       "<title>4</title>\n",
       "<text text-anchor=\"middle\" x=\"2.5\" y=\"-258.8\" font-family=\"Times,serif\" font-size=\"14.00\">(</text>\n",
       "</g>\n",
       "<!-- 3&#45;&gt;4 -->\n",
       "<g id=\"edge4\" class=\"edge\">\n",
       "<title>3&#45;&gt;4</title>\n",
       "<path fill=\"none\" stroke=\"black\" d=\"M37.8,-305.69C31.07,-297.64 19.77,-284.14 11.77,-274.58\"/>\n",
       "<polygon fill=\"black\" stroke=\"black\" points=\"14.27,-272.11 5.17,-266.69 8.9,-276.6 14.27,-272.11\"/>\n",
       "</g>\n",
       "<!-- 5 -->\n",
       "<g id=\"node6\" class=\"node\">\n",
       "<title>5</title>\n",
       "<text text-anchor=\"middle\" x=\"43.5\" y=\"-258.8\" font-family=\"Times,serif\" font-size=\"14.00\">&lt;expr&gt;</text>\n",
       "</g>\n",
       "<!-- 3&#45;&gt;5 -->\n",
       "<g id=\"edge5\" class=\"edge\">\n",
       "<title>3&#45;&gt;5</title>\n",
       "<path fill=\"none\" stroke=\"black\" d=\"M43.5,-305.69C43.5,-299.18 43.5,-289.1 43.5,-280.43\"/>\n",
       "<polygon fill=\"black\" stroke=\"black\" points=\"47,-280.26 43.5,-270.26 40,-280.26 47,-280.26\"/>\n",
       "</g>\n",
       "<!-- 11 -->\n",
       "<g id=\"node12\" class=\"node\">\n",
       "<title>11</title>\n",
       "<text text-anchor=\"middle\" x=\"84.5\" y=\"-258.8\" font-family=\"Times,serif\" font-size=\"14.00\">)</text>\n",
       "</g>\n",
       "<!-- 3&#45;&gt;11 -->\n",
       "<g id=\"edge11\" class=\"edge\">\n",
       "<title>3&#45;&gt;11</title>\n",
       "<path fill=\"none\" stroke=\"black\" d=\"M49.2,-305.69C55.93,-297.64 67.23,-284.14 75.23,-274.58\"/>\n",
       "<polygon fill=\"black\" stroke=\"black\" points=\"78.1,-276.6 81.83,-266.69 72.73,-272.11 78.1,-276.6\"/>\n",
       "</g>\n",
       "<!-- 6 -->\n",
       "<g id=\"node7\" class=\"node\">\n",
       "<title>6</title>\n",
       "<text text-anchor=\"middle\" x=\"43.5\" y=\"-207.8\" font-family=\"Times,serif\" font-size=\"14.00\">&lt;term&gt;</text>\n",
       "</g>\n",
       "<!-- 5&#45;&gt;6 -->\n",
       "<g id=\"edge6\" class=\"edge\">\n",
       "<title>5&#45;&gt;6</title>\n",
       "<path fill=\"none\" stroke=\"black\" d=\"M43.5,-254.69C43.5,-248.18 43.5,-238.1 43.5,-229.43\"/>\n",
       "<polygon fill=\"black\" stroke=\"black\" points=\"47,-229.26 43.5,-219.26 40,-229.26 47,-229.26\"/>\n",
       "</g>\n",
       "<!-- 7 -->\n",
       "<g id=\"node8\" class=\"node\">\n",
       "<title>7</title>\n",
       "<text text-anchor=\"middle\" x=\"43.5\" y=\"-156.8\" font-family=\"Times,serif\" font-size=\"14.00\">&lt;factor&gt;</text>\n",
       "</g>\n",
       "<!-- 6&#45;&gt;7 -->\n",
       "<g id=\"edge7\" class=\"edge\">\n",
       "<title>6&#45;&gt;7</title>\n",
       "<path fill=\"none\" stroke=\"black\" d=\"M43.5,-203.69C43.5,-197.18 43.5,-187.1 43.5,-178.43\"/>\n",
       "<polygon fill=\"black\" stroke=\"black\" points=\"47,-178.26 43.5,-168.26 40,-178.26 47,-178.26\"/>\n",
       "</g>\n",
       "<!-- 8 -->\n",
       "<g id=\"node9\" class=\"node\">\n",
       "<title>8</title>\n",
       "<text text-anchor=\"middle\" x=\"43.5\" y=\"-105.8\" font-family=\"Times,serif\" font-size=\"14.00\">&lt;integer&gt;</text>\n",
       "</g>\n",
       "<!-- 7&#45;&gt;8 -->\n",
       "<g id=\"edge8\" class=\"edge\">\n",
       "<title>7&#45;&gt;8</title>\n",
       "<path fill=\"none\" stroke=\"black\" d=\"M43.5,-152.69C43.5,-146.18 43.5,-136.1 43.5,-127.43\"/>\n",
       "<polygon fill=\"black\" stroke=\"black\" points=\"47,-127.26 43.5,-117.26 40,-127.26 47,-127.26\"/>\n",
       "</g>\n",
       "<!-- 9 -->\n",
       "<g id=\"node10\" class=\"node\">\n",
       "<title>9</title>\n",
       "<text text-anchor=\"middle\" x=\"43.5\" y=\"-54.8\" font-family=\"Times,serif\" font-size=\"14.00\">&lt;digit&gt;</text>\n",
       "</g>\n",
       "<!-- 8&#45;&gt;9 -->\n",
       "<g id=\"edge9\" class=\"edge\">\n",
       "<title>8&#45;&gt;9</title>\n",
       "<path fill=\"none\" stroke=\"black\" d=\"M43.5,-101.69C43.5,-95.18 43.5,-85.1 43.5,-76.43\"/>\n",
       "<polygon fill=\"black\" stroke=\"black\" points=\"47,-76.26 43.5,-66.26 40,-76.26 47,-76.26\"/>\n",
       "</g>\n",
       "<!-- 10 -->\n",
       "<g id=\"node11\" class=\"node\">\n",
       "<title>10</title>\n",
       "<text text-anchor=\"middle\" x=\"43.5\" y=\"-3.8\" font-family=\"Times,serif\" font-size=\"14.00\">3</text>\n",
       "</g>\n",
       "<!-- 9&#45;&gt;10 -->\n",
       "<g id=\"edge10\" class=\"edge\">\n",
       "<title>9&#45;&gt;10</title>\n",
       "<path fill=\"none\" stroke=\"black\" d=\"M43.5,-50.69C43.5,-44.18 43.5,-34.1 43.5,-25.43\"/>\n",
       "<polygon fill=\"black\" stroke=\"black\" points=\"47,-25.26 43.5,-15.26 40,-25.26 47,-25.26\"/>\n",
       "</g>\n",
       "</g>\n",
       "</svg>\n"
      ],
      "text/plain": [
       "<graphviz.graphs.Digraph at 0x105f9fbb0>"
      ]
     },
     "execution_count": 40,
     "metadata": {},
     "output_type": "execute_result"
    }
   ],
   "source": [
    "new_derivation_tree[1][0][1][0][1][0][1][1][1][0] = shorter_term_tree\n",
    "display_tree(new_derivation_tree)"
   ]
  },
  {
   "cell_type": "code",
   "execution_count": 41,
   "metadata": {
    "execution": {
     "iopub.execute_input": "2022-11-29T13:49:55.288955Z",
     "iopub.status.busy": "2022-11-29T13:49:55.288584Z",
     "iopub.status.idle": "2022-11-29T13:49:55.290071Z",
     "shell.execute_reply": "2022-11-29T13:49:55.290245Z"
    },
    "slideshow": {
     "slide_type": "fragment"
    }
   },
   "outputs": [
    {
     "data": {
      "text/plain": [
       "'(3)'"
      ]
     },
     "execution_count": 41,
     "metadata": {},
     "output_type": "execute_result"
    }
   ],
   "source": [
    "all_terminals(new_derivation_tree)"
   ]
  },
  {
   "cell_type": "markdown",
   "metadata": {
    "slideshow": {
     "slide_type": "fragment"
    }
   },
   "source": [
    "If we replace derivation subtrees by (smaller) subtrees, and if we search for alternate expansions that again yield smaller subtrees, we can systematically simplify the input.  This could be much faster than delta debugging, as our inputs would always be syntactically valid.  However, we need a strategy for when to apply which simplification rule. This is what we develop in the remainder of this section."
   ]
  },
  {
   "cell_type": "markdown",
   "metadata": {
    "slideshow": {
     "slide_type": "subslide"
    }
   },
   "source": [
    "### Excursion: A Class for Reducing with Grammars"
   ]
  },
  {
   "cell_type": "markdown",
   "metadata": {
    "slideshow": {
     "slide_type": "fragment"
    }
   },
   "source": [
    "We introduce the `GrammarReducer` class, which is again a `Reducer`. Note that we derive from `CachingReducer`, as the strategy will produce several duplicates."
   ]
  },
  {
   "cell_type": "code",
   "execution_count": 42,
   "metadata": {
    "execution": {
     "iopub.execute_input": "2022-11-29T13:49:55.293316Z",
     "iopub.status.busy": "2022-11-29T13:49:55.292903Z",
     "iopub.status.idle": "2022-11-29T13:49:55.294440Z",
     "shell.execute_reply": "2022-11-29T13:49:55.294652Z"
    },
    "slideshow": {
     "slide_type": "subslide"
    }
   },
   "outputs": [],
   "source": [
    "class GrammarReducer(CachingReducer):\n",
    "    \"\"\"Reduce inputs using grammars\"\"\"\n",
    "\n",
    "    def __init__(self, runner: Runner, parser: Parser, *,\n",
    "                 log_test: bool = False, log_reduce: bool = False):\n",
    "        \"\"\"Constructor.\n",
    "        `runner` is the runner to be used.\n",
    "        `parser` is the parser to be used.\n",
    "        `log_test` - if set, show tests and results.\n",
    "        `log_reduce` - if set, show reduction steps.\n",
    "        \"\"\"\n",
    "\n",
    "        super().__init__(runner, log_test=log_test)\n",
    "        self.parser = parser\n",
    "        self.grammar = parser.grammar()\n",
    "        self.start_symbol = parser.start_symbol()\n",
    "        self.log_reduce = log_reduce\n",
    "        self.try_all_combinations = False"
   ]
  },
  {
   "cell_type": "markdown",
   "metadata": {
    "slideshow": {
     "slide_type": "subslide"
    }
   },
   "source": [
    "#### A Few Helpers\n",
    "\n",
    "We define a number of helper functions, which we will need for our strategy.  `tree_list_to_string()` does what the name suggest, creating a string from a list of derivation trees:"
   ]
  },
  {
   "cell_type": "code",
   "execution_count": 43,
   "metadata": {
    "execution": {
     "iopub.execute_input": "2022-11-29T13:49:55.296668Z",
     "iopub.status.busy": "2022-11-29T13:49:55.296347Z",
     "iopub.status.idle": "2022-11-29T13:49:55.297545Z",
     "shell.execute_reply": "2022-11-29T13:49:55.297747Z"
    },
    "slideshow": {
     "slide_type": "skip"
    }
   },
   "outputs": [],
   "source": [
    "from GrammarFuzzer import DerivationTree"
   ]
  },
  {
   "cell_type": "code",
   "execution_count": 44,
   "metadata": {
    "execution": {
     "iopub.execute_input": "2022-11-29T13:49:55.299767Z",
     "iopub.status.busy": "2022-11-29T13:49:55.299474Z",
     "iopub.status.idle": "2022-11-29T13:49:55.300890Z",
     "shell.execute_reply": "2022-11-29T13:49:55.301095Z"
    },
    "slideshow": {
     "slide_type": "fragment"
    }
   },
   "outputs": [],
   "source": [
    "def tree_list_to_string(q: List[DerivationTree]) -> str:\n",
    "    return \"[\" + \", \".join([all_terminals(tree) for tree in q]) + \"]\""
   ]
  },
  {
   "cell_type": "code",
   "execution_count": 45,
   "metadata": {
    "execution": {
     "iopub.execute_input": "2022-11-29T13:49:55.303251Z",
     "iopub.status.busy": "2022-11-29T13:49:55.302916Z",
     "iopub.status.idle": "2022-11-29T13:49:55.304544Z",
     "shell.execute_reply": "2022-11-29T13:49:55.304782Z"
    },
    "slideshow": {
     "slide_type": "fragment"
    }
   },
   "outputs": [
    {
     "data": {
      "text/plain": [
       "'[1 + (2 * 3), 1 + (2 * 3)]'"
      ]
     },
     "execution_count": 45,
     "metadata": {},
     "output_type": "execute_result"
    }
   ],
   "source": [
    "tree_list_to_string([derivation_tree, derivation_tree])"
   ]
  },
  {
   "cell_type": "markdown",
   "metadata": {
    "slideshow": {
     "slide_type": "fragment"
    }
   },
   "source": [
    "The function `possible_combinations()` takes a list of lists $[[x_1, x_2], [y_1, y_2], \\dots]$ and creates a list of combinations $[[x_1, y_1], [x_1, y_2], [x_2, y_1], [x_2, y_2], \\dots]$."
   ]
  },
  {
   "cell_type": "code",
   "execution_count": 46,
   "metadata": {
    "execution": {
     "iopub.execute_input": "2022-11-29T13:49:55.307534Z",
     "iopub.status.busy": "2022-11-29T13:49:55.307237Z",
     "iopub.status.idle": "2022-11-29T13:49:55.308352Z",
     "shell.execute_reply": "2022-11-29T13:49:55.308583Z"
    },
    "slideshow": {
     "slide_type": "subslide"
    }
   },
   "outputs": [],
   "source": [
    "def possible_combinations(list_of_lists: List[List[Any]]) -> List[List[Any]]:\n",
    "    if len(list_of_lists) == 0:\n",
    "        return []\n",
    "\n",
    "    ret = []\n",
    "    for e in list_of_lists[0]:\n",
    "        if len(list_of_lists) == 1:\n",
    "            ret.append([e])\n",
    "        else:\n",
    "            for c in possible_combinations(list_of_lists[1:]):\n",
    "                new_combo = [e] + c\n",
    "                ret.append(new_combo)\n",
    "\n",
    "    return ret"
   ]
  },
  {
   "cell_type": "code",
   "execution_count": 47,
   "metadata": {
    "execution": {
     "iopub.execute_input": "2022-11-29T13:49:55.310863Z",
     "iopub.status.busy": "2022-11-29T13:49:55.310513Z",
     "iopub.status.idle": "2022-11-29T13:49:55.312071Z",
     "shell.execute_reply": "2022-11-29T13:49:55.312279Z"
    },
    "slideshow": {
     "slide_type": "subslide"
    }
   },
   "outputs": [
    {
     "data": {
      "text/plain": [
       "[[1, 'a'], [1, 'b'], [2, 'a'], [2, 'b']]"
      ]
     },
     "execution_count": 47,
     "metadata": {},
     "output_type": "execute_result"
    }
   ],
   "source": [
    "possible_combinations([[1, 2], ['a', 'b']])"
   ]
  },
  {
   "cell_type": "markdown",
   "metadata": {
    "slideshow": {
     "slide_type": "fragment"
    }
   },
   "source": [
    "The functions `number_of_nodes()` and `max_height()` return the number of nodes and the maximum height of the given tree, respectively."
   ]
  },
  {
   "cell_type": "code",
   "execution_count": 48,
   "metadata": {
    "execution": {
     "iopub.execute_input": "2022-11-29T13:49:55.314547Z",
     "iopub.status.busy": "2022-11-29T13:49:55.314244Z",
     "iopub.status.idle": "2022-11-29T13:49:55.315397Z",
     "shell.execute_reply": "2022-11-29T13:49:55.315769Z"
    },
    "slideshow": {
     "slide_type": "fragment"
    }
   },
   "outputs": [],
   "source": [
    "def number_of_nodes(tree: DerivationTree) -> int:\n",
    "    (symbol, children) = tree\n",
    "    if children is None:\n",
    "        return 1\n",
    "\n",
    "    return 1 + sum([number_of_nodes(c) for c in children])"
   ]
  },
  {
   "cell_type": "code",
   "execution_count": 49,
   "metadata": {
    "execution": {
     "iopub.execute_input": "2022-11-29T13:49:55.318016Z",
     "iopub.status.busy": "2022-11-29T13:49:55.317662Z",
     "iopub.status.idle": "2022-11-29T13:49:55.319048Z",
     "shell.execute_reply": "2022-11-29T13:49:55.319245Z"
    },
    "slideshow": {
     "slide_type": "fragment"
    }
   },
   "outputs": [
    {
     "data": {
      "text/plain": [
       "25"
      ]
     },
     "execution_count": 49,
     "metadata": {},
     "output_type": "execute_result"
    }
   ],
   "source": [
    "number_of_nodes(derivation_tree)"
   ]
  },
  {
   "cell_type": "code",
   "execution_count": 50,
   "metadata": {
    "execution": {
     "iopub.execute_input": "2022-11-29T13:49:55.323041Z",
     "iopub.status.busy": "2022-11-29T13:49:55.322688Z",
     "iopub.status.idle": "2022-11-29T13:49:55.324047Z",
     "shell.execute_reply": "2022-11-29T13:49:55.324233Z"
    },
    "slideshow": {
     "slide_type": "subslide"
    }
   },
   "outputs": [],
   "source": [
    "def max_height(tree: DerivationTree) -> int:\n",
    "    (symbol, children) = tree\n",
    "    if children is None or len(children) == 0:\n",
    "        return 1\n",
    "\n",
    "    return 1 + max([max_height(c) for c in children])"
   ]
  },
  {
   "cell_type": "code",
   "execution_count": 51,
   "metadata": {
    "execution": {
     "iopub.execute_input": "2022-11-29T13:49:55.326663Z",
     "iopub.status.busy": "2022-11-29T13:49:55.326292Z",
     "iopub.status.idle": "2022-11-29T13:49:55.328099Z",
     "shell.execute_reply": "2022-11-29T13:49:55.328288Z"
    },
    "slideshow": {
     "slide_type": "fragment"
    }
   },
   "outputs": [
    {
     "data": {
      "text/plain": [
       "12"
      ]
     },
     "execution_count": 51,
     "metadata": {},
     "output_type": "execute_result"
    }
   ],
   "source": [
    "max_height(derivation_tree)"
   ]
  },
  {
   "cell_type": "markdown",
   "metadata": {
    "slideshow": {
     "slide_type": "subslide"
    },
    "toc-hr-collapsed": false
   },
   "source": [
    "#### Simplification Strategies\n",
    "\n",
    "Let us now implement our two simplification strategies – replacing subtrees and alternate expansions."
   ]
  },
  {
   "cell_type": "markdown",
   "metadata": {
    "slideshow": {
     "slide_type": "subslide"
    }
   },
   "source": [
    "##### Finding Subtrees\n",
    "\n",
    "The method `subtrees_with_symbol()` returns all subtrees in the given tree which's root is equal to the given symbol.  If `ignore_root` is set (default), then the root node of `tree` is not compared against.  (The `depth` parameter will be discussed below.)"
   ]
  },
  {
   "cell_type": "code",
   "execution_count": 52,
   "metadata": {
    "execution": {
     "iopub.execute_input": "2022-11-29T13:49:55.331721Z",
     "iopub.status.busy": "2022-11-29T13:49:55.331298Z",
     "iopub.status.idle": "2022-11-29T13:49:55.332688Z",
     "shell.execute_reply": "2022-11-29T13:49:55.332928Z"
    },
    "slideshow": {
     "slide_type": "subslide"
    }
   },
   "outputs": [],
   "source": [
    "class GrammarReducer(GrammarReducer):\n",
    "    def subtrees_with_symbol(self, tree: DerivationTree,\n",
    "                             symbol: str, depth: int = -1,\n",
    "                             ignore_root: bool = True) -> List[DerivationTree]:\n",
    "        \"\"\"Find all subtrees in `tree` whose root is `symbol`.\n",
    "        If `ignore_root` is true, ignore the root note of `tree`.\"\"\"\n",
    "\n",
    "        ret = []\n",
    "        (child_symbol, children) = tree\n",
    "        if depth <= 0 and not ignore_root and child_symbol == symbol:\n",
    "            ret.append(tree)\n",
    "\n",
    "        # Search across all children\n",
    "        if depth != 0 and children is not None:\n",
    "            for c in children:\n",
    "                ret += self.subtrees_with_symbol(c,\n",
    "                                                 symbol,\n",
    "                                                 depth=depth - 1,\n",
    "                                                 ignore_root=False)\n",
    "\n",
    "        return ret"
   ]
  },
  {
   "cell_type": "markdown",
   "metadata": {
    "slideshow": {
     "slide_type": "subslide"
    }
   },
   "source": [
    "Here's an example: These are all subtrees with `<term>` in our derivation tree `derivation_tree`."
   ]
  },
  {
   "cell_type": "code",
   "execution_count": 53,
   "metadata": {
    "execution": {
     "iopub.execute_input": "2022-11-29T13:49:55.335185Z",
     "iopub.status.busy": "2022-11-29T13:49:55.334897Z",
     "iopub.status.idle": "2022-11-29T13:49:55.336099Z",
     "shell.execute_reply": "2022-11-29T13:49:55.336287Z"
    },
    "slideshow": {
     "slide_type": "fragment"
    }
   },
   "outputs": [],
   "source": [
    "grammar_reducer = GrammarReducer(\n",
    "    mystery,\n",
    "    EarleyParser(EXPR_GRAMMAR),\n",
    "    log_reduce=True)"
   ]
  },
  {
   "cell_type": "code",
   "execution_count": 54,
   "metadata": {
    "execution": {
     "iopub.execute_input": "2022-11-29T13:49:55.338798Z",
     "iopub.status.busy": "2022-11-29T13:49:55.338259Z",
     "iopub.status.idle": "2022-11-29T13:49:55.340157Z",
     "shell.execute_reply": "2022-11-29T13:49:55.340363Z"
    },
    "slideshow": {
     "slide_type": "fragment"
    }
   },
   "outputs": [
    {
     "data": {
      "text/plain": [
       "'1 + (2 * 3)'"
      ]
     },
     "execution_count": 54,
     "metadata": {},
     "output_type": "execute_result"
    }
   ],
   "source": [
    "all_terminals(derivation_tree)"
   ]
  },
  {
   "cell_type": "code",
   "execution_count": 55,
   "metadata": {
    "execution": {
     "iopub.execute_input": "2022-11-29T13:49:55.342763Z",
     "iopub.status.busy": "2022-11-29T13:49:55.342420Z",
     "iopub.status.idle": "2022-11-29T13:49:55.343839Z",
     "shell.execute_reply": "2022-11-29T13:49:55.344070Z"
    },
    "slideshow": {
     "slide_type": "fragment"
    }
   },
   "outputs": [
    {
     "data": {
      "text/plain": [
       "['1', '(2 * 3)', '2 * 3', '3']"
      ]
     },
     "execution_count": 55,
     "metadata": {},
     "output_type": "execute_result"
    }
   ],
   "source": [
    "[all_terminals(t) for t in grammar_reducer.subtrees_with_symbol(\n",
    "    derivation_tree, \"<term>\")]"
   ]
  },
  {
   "cell_type": "markdown",
   "metadata": {
    "slideshow": {
     "slide_type": "fragment"
    }
   },
   "source": [
    "If we want to replace `<term>` subtrees to simplify the tree, these are the subtrees we could replace them with."
   ]
  },
  {
   "cell_type": "markdown",
   "metadata": {
    "slideshow": {
     "slide_type": "subslide"
    }
   },
   "source": [
    "##### Alternate Expansions"
   ]
  },
  {
   "cell_type": "markdown",
   "metadata": {
    "slideshow": {
     "slide_type": "fragment"
    }
   },
   "source": [
    "Our second strategy, simplifying by alternate expansions, is a bit more complex.  We first fetch the possible expansions for the given symbol (starting with the ones with the fewest children).  For each expansion, we fill in values for the symbols from the subtree (using `subtrees_with_symbols()`, above).  We then pick the first possible combination (or _all_ combinations, if the attribute `try_all_combinations` is set)."
   ]
  },
  {
   "cell_type": "code",
   "execution_count": 56,
   "metadata": {
    "execution": {
     "iopub.execute_input": "2022-11-29T13:49:55.347893Z",
     "iopub.status.busy": "2022-11-29T13:49:55.347591Z",
     "iopub.status.idle": "2022-11-29T13:49:55.348741Z",
     "shell.execute_reply": "2022-11-29T13:49:55.348918Z"
    },
    "slideshow": {
     "slide_type": "subslide"
    }
   },
   "outputs": [],
   "source": [
    "class GrammarReducer(GrammarReducer):\n",
    "    def alternate_reductions(self, tree: DerivationTree, symbol: str, \n",
    "                             depth: int = -1):\n",
    "        reductions = []\n",
    "\n",
    "        expansions = self.grammar.get(symbol, [])\n",
    "        expansions.sort(\n",
    "            key=lambda expansion: len(\n",
    "                expansion_to_children(expansion)))\n",
    "\n",
    "        for expansion in expansions:\n",
    "            expansion_children = expansion_to_children(expansion)\n",
    "\n",
    "            match = True\n",
    "            new_children_reductions = []\n",
    "            for (alt_symbol, _) in expansion_children:\n",
    "                child_reductions = self.subtrees_with_symbol(\n",
    "                    tree, alt_symbol, depth=depth)\n",
    "                if len(child_reductions) == 0:\n",
    "                    match = False   # Child not found; cannot apply rule\n",
    "                    break\n",
    "\n",
    "                new_children_reductions.append(child_reductions)\n",
    "\n",
    "            if not match:\n",
    "                continue  # Try next alternative\n",
    "\n",
    "            # Use the first suitable combination\n",
    "            for new_children in possible_combinations(new_children_reductions):\n",
    "                new_tree = (symbol, new_children)\n",
    "                if number_of_nodes(new_tree) < number_of_nodes(tree):\n",
    "                    reductions.append(new_tree)\n",
    "                    if not self.try_all_combinations:\n",
    "                        break\n",
    "\n",
    "        # Sort by number of nodes\n",
    "        reductions.sort(key=number_of_nodes)\n",
    "\n",
    "        return reductions"
   ]
  },
  {
   "cell_type": "code",
   "execution_count": 57,
   "metadata": {
    "execution": {
     "iopub.execute_input": "2022-11-29T13:49:55.351036Z",
     "iopub.status.busy": "2022-11-29T13:49:55.350682Z",
     "iopub.status.idle": "2022-11-29T13:49:55.351910Z",
     "shell.execute_reply": "2022-11-29T13:49:55.352192Z"
    },
    "slideshow": {
     "slide_type": "subslide"
    }
   },
   "outputs": [],
   "source": [
    "grammar_reducer = GrammarReducer(\n",
    "    mystery,\n",
    "    EarleyParser(EXPR_GRAMMAR),\n",
    "    log_reduce=True)"
   ]
  },
  {
   "cell_type": "code",
   "execution_count": 58,
   "metadata": {
    "execution": {
     "iopub.execute_input": "2022-11-29T13:49:55.354264Z",
     "iopub.status.busy": "2022-11-29T13:49:55.353915Z",
     "iopub.status.idle": "2022-11-29T13:49:55.355478Z",
     "shell.execute_reply": "2022-11-29T13:49:55.355760Z"
    },
    "slideshow": {
     "slide_type": "fragment"
    }
   },
   "outputs": [
    {
     "data": {
      "text/plain": [
       "'1 + (2 * 3)'"
      ]
     },
     "execution_count": 58,
     "metadata": {},
     "output_type": "execute_result"
    }
   ],
   "source": [
    "all_terminals(derivation_tree)"
   ]
  },
  {
   "cell_type": "markdown",
   "metadata": {
    "slideshow": {
     "slide_type": "fragment"
    }
   },
   "source": [
    "Here are _all_ combinations for `<term>`:"
   ]
  },
  {
   "cell_type": "code",
   "execution_count": 59,
   "metadata": {
    "execution": {
     "iopub.execute_input": "2022-11-29T13:49:55.358497Z",
     "iopub.status.busy": "2022-11-29T13:49:55.358126Z",
     "iopub.status.idle": "2022-11-29T13:49:55.359490Z",
     "shell.execute_reply": "2022-11-29T13:49:55.359668Z"
    },
    "slideshow": {
     "slide_type": "fragment"
    }
   },
   "outputs": [
    {
     "name": "stdout",
     "output_type": "stream",
     "text": [
      "['1', '2', '3', '1 * 1', '1 * 3', '2 * 1', '2 * 3', '3 * 1', '3 * 3', '(2 * 3)', '1 * 2 * 3', '2 * 2 * 3', '3 * 2 * 3', '1 * (2 * 3)', '(2 * 3) * 1', '(2 * 3) * 3', '2 * (2 * 3)', '3 * (2 * 3)']\n"
     ]
    }
   ],
   "source": [
    "grammar_reducer.try_all_combinations = True\n",
    "print([all_terminals(t)\n",
    "       for t in grammar_reducer.alternate_reductions(derivation_tree, \"<term>\")])"
   ]
  },
  {
   "cell_type": "markdown",
   "metadata": {
    "slideshow": {
     "slide_type": "fragment"
    }
   },
   "source": [
    "The default, though, is simply to return the first of these:"
   ]
  },
  {
   "cell_type": "code",
   "execution_count": 60,
   "metadata": {
    "execution": {
     "iopub.execute_input": "2022-11-29T13:49:55.361906Z",
     "iopub.status.busy": "2022-11-29T13:49:55.361536Z",
     "iopub.status.idle": "2022-11-29T13:49:55.363058Z",
     "shell.execute_reply": "2022-11-29T13:49:55.363247Z"
    },
    "slideshow": {
     "slide_type": "subslide"
    }
   },
   "outputs": [
    {
     "data": {
      "text/plain": [
       "['1', '1 * 1']"
      ]
     },
     "execution_count": 60,
     "metadata": {},
     "output_type": "execute_result"
    }
   ],
   "source": [
    "grammar_reducer.try_all_combinations = False\n",
    "[all_terminals(t) for t in grammar_reducer.alternate_reductions(\n",
    "    derivation_tree, \"<term>\")]"
   ]
  },
  {
   "cell_type": "markdown",
   "metadata": {
    "slideshow": {
     "slide_type": "subslide"
    }
   },
   "source": [
    "##### Both Strategies Together"
   ]
  },
  {
   "cell_type": "markdown",
   "metadata": {
    "slideshow": {
     "slide_type": "fragment"
    }
   },
   "source": [
    "Let us now merge both strategies.  To replace a subtree with a given symbol, we first search for already existing subtrees (using `subtrees_with_symbol()`); then we go for alternate expansions (using `alternate_expansions()`)."
   ]
  },
  {
   "cell_type": "code",
   "execution_count": 61,
   "metadata": {
    "execution": {
     "iopub.execute_input": "2022-11-29T13:49:55.365921Z",
     "iopub.status.busy": "2022-11-29T13:49:55.365561Z",
     "iopub.status.idle": "2022-11-29T13:49:55.366874Z",
     "shell.execute_reply": "2022-11-29T13:49:55.367303Z"
    },
    "slideshow": {
     "slide_type": "subslide"
    }
   },
   "outputs": [],
   "source": [
    "class GrammarReducer(GrammarReducer):\n",
    "    def symbol_reductions(self, tree: DerivationTree, symbol: str, \n",
    "                          depth: int = -1):\n",
    "        \"\"\"Find all expansion alternatives for the given symbol\"\"\"\n",
    "        reductions = (self.subtrees_with_symbol(tree, symbol, depth=depth)\n",
    "                      + self.alternate_reductions(tree, symbol, depth=depth))\n",
    "\n",
    "        # Filter duplicates\n",
    "        unique_reductions = []\n",
    "        for r in reductions:\n",
    "            if r not in unique_reductions:\n",
    "                unique_reductions.append(r)\n",
    "\n",
    "        return unique_reductions"
   ]
  },
  {
   "cell_type": "code",
   "execution_count": 62,
   "metadata": {
    "execution": {
     "iopub.execute_input": "2022-11-29T13:49:55.369248Z",
     "iopub.status.busy": "2022-11-29T13:49:55.368958Z",
     "iopub.status.idle": "2022-11-29T13:49:55.370264Z",
     "shell.execute_reply": "2022-11-29T13:49:55.370500Z"
    },
    "slideshow": {
     "slide_type": "subslide"
    }
   },
   "outputs": [],
   "source": [
    "grammar_reducer = GrammarReducer(\n",
    "    mystery,\n",
    "    EarleyParser(EXPR_GRAMMAR),\n",
    "    log_reduce=True)"
   ]
  },
  {
   "cell_type": "code",
   "execution_count": 63,
   "metadata": {
    "execution": {
     "iopub.execute_input": "2022-11-29T13:49:55.372555Z",
     "iopub.status.busy": "2022-11-29T13:49:55.372159Z",
     "iopub.status.idle": "2022-11-29T13:49:55.373716Z",
     "shell.execute_reply": "2022-11-29T13:49:55.373945Z"
    },
    "slideshow": {
     "slide_type": "fragment"
    }
   },
   "outputs": [
    {
     "data": {
      "text/plain": [
       "'1 + (2 * 3)'"
      ]
     },
     "execution_count": 63,
     "metadata": {},
     "output_type": "execute_result"
    }
   ],
   "source": [
    "all_terminals(derivation_tree)"
   ]
  },
  {
   "cell_type": "markdown",
   "metadata": {
    "slideshow": {
     "slide_type": "fragment"
    }
   },
   "source": [
    "These are the possible reductions for `<expr>` nodes.  Note how we first return subtrees (`1 + (2 * 3)`, `(2 * 3)`, `2 * 3`) before going for alternate expansions of `<expr>` (`1`)."
   ]
  },
  {
   "cell_type": "code",
   "execution_count": 64,
   "metadata": {
    "execution": {
     "iopub.execute_input": "2022-11-29T13:49:55.376318Z",
     "iopub.status.busy": "2022-11-29T13:49:55.376001Z",
     "iopub.status.idle": "2022-11-29T13:49:55.377556Z",
     "shell.execute_reply": "2022-11-29T13:49:55.377747Z"
    },
    "slideshow": {
     "slide_type": "fragment"
    }
   },
   "outputs": [
    {
     "data": {
      "text/plain": [
       "'[1 + (2 * 3), (2 * 3), 2 * 3, 1]'"
      ]
     },
     "execution_count": 64,
     "metadata": {},
     "output_type": "execute_result"
    }
   ],
   "source": [
    "reductions = grammar_reducer.symbol_reductions(derivation_tree, \"<expr>\")\n",
    "tree_list_to_string([r for r in reductions])"
   ]
  },
  {
   "cell_type": "markdown",
   "metadata": {
    "slideshow": {
     "slide_type": "fragment"
    }
   },
   "source": [
    "These are the possible reductions for `<term>` nodes.  Again, we first have subtrees of the derivation tree, followed by the alternate expansion `1 * 1`."
   ]
  },
  {
   "cell_type": "code",
   "execution_count": 65,
   "metadata": {
    "execution": {
     "iopub.execute_input": "2022-11-29T13:49:55.380049Z",
     "iopub.status.busy": "2022-11-29T13:49:55.379679Z",
     "iopub.status.idle": "2022-11-29T13:49:55.381173Z",
     "shell.execute_reply": "2022-11-29T13:49:55.381417Z"
    },
    "slideshow": {
     "slide_type": "subslide"
    }
   },
   "outputs": [
    {
     "data": {
      "text/plain": [
       "'[1, (2 * 3), 2 * 3, 3, 1 * 1]'"
      ]
     },
     "execution_count": 65,
     "metadata": {},
     "output_type": "execute_result"
    }
   ],
   "source": [
    "reductions = grammar_reducer.symbol_reductions(derivation_tree, \"<term>\")\n",
    "tree_list_to_string([r for r in reductions])"
   ]
  },
  {
   "cell_type": "markdown",
   "metadata": {
    "slideshow": {
     "slide_type": "subslide"
    }
   },
   "source": [
    "#### The Reduction Strategy\n",
    "\n",
    "We are now able to return a number of alternatives for each symbol in the tree.  This is what we apply in the core function of our reduction strategy, `reduce_subtree()`.  Starting with `subtree`, for every child, we find possible reductions.  For every reduction, we replace the child with the reduction and test the resulting (full) tree.  If it fails, our reduction was successful; otherwise, we put the child back into place and try out the next reduction.  Eventually, we apply `reduce_subtree()` on all children, reducing these as well."
   ]
  },
  {
   "cell_type": "code",
   "execution_count": 66,
   "metadata": {
    "execution": {
     "iopub.execute_input": "2022-11-29T13:49:55.386009Z",
     "iopub.status.busy": "2022-11-29T13:49:55.385648Z",
     "iopub.status.idle": "2022-11-29T13:49:55.386851Z",
     "shell.execute_reply": "2022-11-29T13:49:55.387058Z"
    },
    "slideshow": {
     "slide_type": "subslide"
    }
   },
   "outputs": [],
   "source": [
    "class GrammarReducer(GrammarReducer):\n",
    "    def reduce_subtree(self, tree: DerivationTree,\n",
    "                       subtree: DerivationTree, depth: int = -1):\n",
    "        symbol, children = subtree\n",
    "        if children is None or len(children) == 0:\n",
    "            return False\n",
    "\n",
    "        if self.log_reduce:\n",
    "            print(\"Reducing\", all_terminals(subtree), \"with depth\", depth)\n",
    "\n",
    "        reduced = False\n",
    "        while True:\n",
    "            reduced_child = False\n",
    "            for i, child in enumerate(children):\n",
    "                if child is None:\n",
    "                    continue\n",
    "\n",
    "                (child_symbol, _) = child\n",
    "                for reduction in self.symbol_reductions(\n",
    "                        child, child_symbol, depth):\n",
    "                    if number_of_nodes(reduction) >= number_of_nodes(child):\n",
    "                        continue\n",
    "\n",
    "                    # Try this reduction\n",
    "                    if self.log_reduce:\n",
    "                        print(\n",
    "                            \"Replacing\",\n",
    "                            all_terminals(\n",
    "                                children[i]),\n",
    "                            \"by\",\n",
    "                            all_terminals(reduction))\n",
    "                    children[i] = reduction\n",
    "                    if self.test(all_terminals(tree)) == Runner.FAIL:\n",
    "                        # Success\n",
    "                        if self.log_reduce:\n",
    "                            print(\"New tree:\", all_terminals(tree))\n",
    "                        reduced = reduced_child = True\n",
    "                        break\n",
    "                    else:\n",
    "                        # Didn't work out - restore\n",
    "                        children[i] = child\n",
    "\n",
    "            if not reduced_child:\n",
    "                if self.log_reduce:\n",
    "                    print(\"Tried all alternatives for\", all_terminals(subtree))\n",
    "                break\n",
    "\n",
    "        # Run recursively\n",
    "        for c in children:\n",
    "            if self.reduce_subtree(tree, c, depth):\n",
    "                reduced = True\n",
    "\n",
    "        return reduced"
   ]
  },
  {
   "cell_type": "markdown",
   "metadata": {
    "slideshow": {
     "slide_type": "subslide"
    }
   },
   "source": [
    "All we now need is a few drivers.  The method `reduce_tree()` is the main entry point into `reduce_subtree()`:"
   ]
  },
  {
   "cell_type": "code",
   "execution_count": 67,
   "metadata": {
    "execution": {
     "iopub.execute_input": "2022-11-29T13:49:55.388967Z",
     "iopub.status.busy": "2022-11-29T13:49:55.388686Z",
     "iopub.status.idle": "2022-11-29T13:49:55.389960Z",
     "shell.execute_reply": "2022-11-29T13:49:55.390143Z"
    },
    "slideshow": {
     "slide_type": "fragment"
    }
   },
   "outputs": [],
   "source": [
    "class GrammarReducer(GrammarReducer):\n",
    "    def reduce_tree(self, tree):\n",
    "        return self.reduce_subtree(tree, tree)"
   ]
  },
  {
   "cell_type": "markdown",
   "metadata": {
    "slideshow": {
     "slide_type": "fragment"
    }
   },
   "source": [
    "The custom method `parse()` turns a given input into a derivation tree:"
   ]
  },
  {
   "cell_type": "code",
   "execution_count": 68,
   "metadata": {
    "execution": {
     "iopub.execute_input": "2022-11-29T13:49:55.392488Z",
     "iopub.status.busy": "2022-11-29T13:49:55.392078Z",
     "iopub.status.idle": "2022-11-29T13:49:55.393526Z",
     "shell.execute_reply": "2022-11-29T13:49:55.393705Z"
    },
    "slideshow": {
     "slide_type": "fragment"
    }
   },
   "outputs": [],
   "source": [
    "class GrammarReducer(GrammarReducer):\n",
    "    def parse(self, inp):\n",
    "        tree, *_ = self.parser.parse(inp)\n",
    "        if self.log_reduce:\n",
    "            print(all_terminals(tree))\n",
    "        return tree"
   ]
  },
  {
   "cell_type": "markdown",
   "metadata": {
    "slideshow": {
     "slide_type": "fragment"
    }
   },
   "source": [
    "The method `reduce()` is the one single entry point, parsing the input and then reducing it."
   ]
  },
  {
   "cell_type": "code",
   "execution_count": 69,
   "metadata": {
    "execution": {
     "iopub.execute_input": "2022-11-29T13:49:55.395831Z",
     "iopub.status.busy": "2022-11-29T13:49:55.395531Z",
     "iopub.status.idle": "2022-11-29T13:49:55.396757Z",
     "shell.execute_reply": "2022-11-29T13:49:55.397017Z"
    },
    "slideshow": {
     "slide_type": "subslide"
    }
   },
   "outputs": [],
   "source": [
    "class GrammarReducer(GrammarReducer):\n",
    "    def reduce(self, inp):\n",
    "        tree = self.parse(inp)\n",
    "        self.reduce_tree(tree)\n",
    "        return all_terminals(tree)"
   ]
  },
  {
   "cell_type": "markdown",
   "metadata": {
    "slideshow": {
     "slide_type": "subslide"
    }
   },
   "source": [
    "### End of Excursion"
   ]
  },
  {
   "cell_type": "markdown",
   "metadata": {
    "slideshow": {
     "slide_type": "fragment"
    }
   },
   "source": [
    "Let us try out our `GrammarReducer` class in practice on our input `expr_input` and the `mystery()` function.  How quickly can we reduce it?"
   ]
  },
  {
   "cell_type": "code",
   "execution_count": 70,
   "metadata": {
    "execution": {
     "iopub.execute_input": "2022-11-29T13:49:55.398986Z",
     "iopub.status.busy": "2022-11-29T13:49:55.398611Z",
     "iopub.status.idle": "2022-11-29T13:49:55.400225Z",
     "shell.execute_reply": "2022-11-29T13:49:55.400463Z"
    },
    "slideshow": {
     "slide_type": "fragment"
    }
   },
   "outputs": [
    {
     "data": {
      "text/plain": [
       "'1 + (2 * 3)'"
      ]
     },
     "execution_count": 70,
     "metadata": {},
     "output_type": "execute_result"
    }
   ],
   "source": [
    "expr_input"
   ]
  },
  {
   "cell_type": "code",
   "execution_count": 71,
   "metadata": {
    "execution": {
     "iopub.execute_input": "2022-11-29T13:49:55.404972Z",
     "iopub.status.busy": "2022-11-29T13:49:55.404659Z",
     "iopub.status.idle": "2022-11-29T13:49:55.407681Z",
     "shell.execute_reply": "2022-11-29T13:49:55.407859Z"
    },
    "slideshow": {
     "slide_type": "subslide"
    }
   },
   "outputs": [
    {
     "name": "stdout",
     "output_type": "stream",
     "text": [
      "Test #1 '(2 * 3)' 7 FAIL\n",
      "Test #2 '2 * 3' 5 PASS\n",
      "Test #3 '3' 1 PASS\n",
      "Test #4 '2' 1 PASS\n",
      "Test #5 '(3)' 3 FAIL\n"
     ]
    },
    {
     "data": {
      "text/plain": [
       "'(3)'"
      ]
     },
     "execution_count": 71,
     "metadata": {},
     "output_type": "execute_result"
    }
   ],
   "source": [
    "grammar_reducer = GrammarReducer(\n",
    "    eval_mystery,\n",
    "    EarleyParser(EXPR_GRAMMAR),\n",
    "    log_test=True)\n",
    "grammar_reducer.reduce(expr_input)"
   ]
  },
  {
   "cell_type": "markdown",
   "metadata": {
    "slideshow": {
     "slide_type": "subslide"
    }
   },
   "source": [
    "Success!  In only five steps, our `GrammarReducer` reduces the input to the minimum that causes the failure.  Note how all tests are syntactically valid by construction, avoiding the `UNRESOLVED` outcomes that cause delta debugging to stall."
   ]
  },
  {
   "cell_type": "markdown",
   "metadata": {
    "slideshow": {
     "slide_type": "subslide"
    }
   },
   "source": [
    "### A Depth-Oriented Strategy"
   ]
  },
  {
   "cell_type": "markdown",
   "metadata": {
    "slideshow": {
     "slide_type": "fragment"
    }
   },
   "source": [
    "Even if five steps are already good, we can still do better.  If we look at the log above, we see that after test `#2`, where the input (tree) is reduced to `2 * 3`, our `GrammarReducer` first tries to replace the tree with `2` and `3`, which are the alternate `<term>` subtrees.  This may work, of course; but if there are many possible subtrees, our strategy will spend quite some time trying one after the other."
   ]
  },
  {
   "cell_type": "markdown",
   "metadata": {
    "slideshow": {
     "slide_type": "subslide"
    }
   },
   "source": [
    "Delta debugging, as introduced above, follows the idea of trying to cut inputs approximately in half, and thus quickly proceeds towards a minimal input.  By replacing a tree with much smaller subtrees, we _could_ possibly reduce a tree significantly, but may need several attempts to do so.  A better strategy is to only consider _large_ subtrees first – both for the subtree replacement as well as for alternate expansions.  To find such _large_ subtrees, we limit the _depth_ by which we search for possible replacements in the subtree – first, by looking at the direct descendants, later at lower descendants."
   ]
  },
  {
   "cell_type": "markdown",
   "metadata": {
    "slideshow": {
     "slide_type": "fragment"
    }
   },
   "source": [
    "This is the role of the `depth` parameter used in `subtrees_with_symbol()` and passed through the invoking functions.  If set, _only_ symbols at the given depth are returned.  Here's an example, starting again with our derivation tree `derivation_tree`:"
   ]
  },
  {
   "cell_type": "code",
   "execution_count": 72,
   "metadata": {
    "execution": {
     "iopub.execute_input": "2022-11-29T13:49:55.410115Z",
     "iopub.status.busy": "2022-11-29T13:49:55.409779Z",
     "iopub.status.idle": "2022-11-29T13:49:55.410954Z",
     "shell.execute_reply": "2022-11-29T13:49:55.411194Z"
    },
    "slideshow": {
     "slide_type": "subslide"
    }
   },
   "outputs": [],
   "source": [
    "grammar_reducer = GrammarReducer(\n",
    "    mystery,\n",
    "    EarleyParser(EXPR_GRAMMAR),\n",
    "    log_reduce=True)"
   ]
  },
  {
   "cell_type": "code",
   "execution_count": 73,
   "metadata": {
    "execution": {
     "iopub.execute_input": "2022-11-29T13:49:55.413234Z",
     "iopub.status.busy": "2022-11-29T13:49:55.412842Z",
     "iopub.status.idle": "2022-11-29T13:49:55.414431Z",
     "shell.execute_reply": "2022-11-29T13:49:55.414613Z"
    },
    "slideshow": {
     "slide_type": "fragment"
    }
   },
   "outputs": [
    {
     "data": {
      "text/plain": [
       "'1 + (2 * 3)'"
      ]
     },
     "execution_count": 73,
     "metadata": {},
     "output_type": "execute_result"
    }
   ],
   "source": [
    "all_terminals(derivation_tree)"
   ]
  },
  {
   "cell_type": "code",
   "execution_count": 74,
   "metadata": {
    "execution": {
     "iopub.execute_input": "2022-11-29T13:49:55.416911Z",
     "iopub.status.busy": "2022-11-29T13:49:55.416621Z",
     "iopub.status.idle": "2022-11-29T13:49:55.647501Z",
     "shell.execute_reply": "2022-11-29T13:49:55.647702Z"
    },
    "slideshow": {
     "slide_type": "fragment"
    }
   },
   "outputs": [
    {
     "data": {
      "image/svg+xml": [
       "<?xml version=\"1.0\" encoding=\"UTF-8\" standalone=\"no\"?>\n",
       "<!DOCTYPE svg PUBLIC \"-//W3C//DTD SVG 1.1//EN\"\n",
       " \"http://www.w3.org/Graphics/SVG/1.1/DTD/svg11.dtd\">\n",
       "<!-- Generated by graphviz version 5.0.0 (20220707.1540)\n",
       " -->\n",
       "<!-- Pages: 1 -->\n",
       "<svg width=\"205pt\" height=\"584pt\"\n",
       " viewBox=\"0.00 0.00 205.00 584.00\" xmlns=\"http://www.w3.org/2000/svg\" xmlns:xlink=\"http://www.w3.org/1999/xlink\">\n",
       "<g id=\"graph0\" class=\"graph\" transform=\"scale(1 1) rotate(0) translate(4 580)\">\n",
       "<polygon fill=\"white\" stroke=\"transparent\" points=\"-4,4 -4,-580 201,-580 201,4 -4,4\"/>\n",
       "<!-- 0 -->\n",
       "<g id=\"node1\" class=\"node\">\n",
       "<title>0</title>\n",
       "<text text-anchor=\"middle\" x=\"75.5\" y=\"-564.8\" font-family=\"Times,serif\" font-size=\"14.00\">&lt;start&gt;</text>\n",
       "</g>\n",
       "<!-- 1 -->\n",
       "<g id=\"node2\" class=\"node\">\n",
       "<title>1</title>\n",
       "<text text-anchor=\"middle\" x=\"75.5\" y=\"-513.8\" font-family=\"Times,serif\" font-size=\"14.00\">&lt;expr&gt;</text>\n",
       "</g>\n",
       "<!-- 0&#45;&gt;1 -->\n",
       "<g id=\"edge1\" class=\"edge\">\n",
       "<title>0&#45;&gt;1</title>\n",
       "<path fill=\"none\" stroke=\"black\" d=\"M75.5,-560.69C75.5,-554.18 75.5,-544.1 75.5,-535.43\"/>\n",
       "<polygon fill=\"black\" stroke=\"black\" points=\"79,-535.26 75.5,-525.26 72,-535.26 79,-535.26\"/>\n",
       "</g>\n",
       "<!-- 2 -->\n",
       "<g id=\"node3\" class=\"node\">\n",
       "<title>2</title>\n",
       "<text text-anchor=\"middle\" x=\"27.5\" y=\"-462.8\" font-family=\"Times,serif\" font-size=\"14.00\">&lt;term&gt;</text>\n",
       "</g>\n",
       "<!-- 1&#45;&gt;2 -->\n",
       "<g id=\"edge2\" class=\"edge\">\n",
       "<title>1&#45;&gt;2</title>\n",
       "<path fill=\"none\" stroke=\"black\" d=\"M68.83,-509.69C61.73,-502.45 50.32,-490.79 41.28,-481.57\"/>\n",
       "<polygon fill=\"black\" stroke=\"black\" points=\"43.62,-478.95 34.12,-474.26 38.62,-483.85 43.62,-478.95\"/>\n",
       "</g>\n",
       "<!-- 7 -->\n",
       "<g id=\"node8\" class=\"node\">\n",
       "<title>7</title>\n",
       "<text text-anchor=\"middle\" x=\"75.5\" y=\"-462.8\" font-family=\"Times,serif\" font-size=\"14.00\"> + </text>\n",
       "</g>\n",
       "<!-- 1&#45;&gt;7 -->\n",
       "<g id=\"edge7\" class=\"edge\">\n",
       "<title>1&#45;&gt;7</title>\n",
       "<path fill=\"none\" stroke=\"black\" d=\"M75.5,-509.69C75.5,-503.18 75.5,-493.1 75.5,-484.43\"/>\n",
       "<polygon fill=\"black\" stroke=\"black\" points=\"79,-484.26 75.5,-474.26 72,-484.26 79,-484.26\"/>\n",
       "</g>\n",
       "<!-- 8 -->\n",
       "<g id=\"node9\" class=\"node\">\n",
       "<title>8</title>\n",
       "<text text-anchor=\"middle\" x=\"122.5\" y=\"-462.8\" font-family=\"Times,serif\" font-size=\"14.00\">&lt;expr&gt;</text>\n",
       "</g>\n",
       "<!-- 1&#45;&gt;8 -->\n",
       "<g id=\"edge8\" class=\"edge\">\n",
       "<title>1&#45;&gt;8</title>\n",
       "<path fill=\"none\" stroke=\"black\" d=\"M82.04,-509.69C88.98,-502.45 100.16,-490.79 109.01,-481.57\"/>\n",
       "<polygon fill=\"black\" stroke=\"black\" points=\"111.62,-483.9 116.02,-474.26 106.57,-479.05 111.62,-483.9\"/>\n",
       "</g>\n",
       "<!-- 3 -->\n",
       "<g id=\"node4\" class=\"node\">\n",
       "<title>3</title>\n",
       "<text text-anchor=\"middle\" x=\"27.5\" y=\"-411.8\" font-family=\"Times,serif\" font-size=\"14.00\">&lt;factor&gt;</text>\n",
       "</g>\n",
       "<!-- 2&#45;&gt;3 -->\n",
       "<g id=\"edge3\" class=\"edge\">\n",
       "<title>2&#45;&gt;3</title>\n",
       "<path fill=\"none\" stroke=\"black\" d=\"M27.5,-458.69C27.5,-452.18 27.5,-442.1 27.5,-433.43\"/>\n",
       "<polygon fill=\"black\" stroke=\"black\" points=\"31,-433.26 27.5,-423.26 24,-433.26 31,-433.26\"/>\n",
       "</g>\n",
       "<!-- 4 -->\n",
       "<g id=\"node5\" class=\"node\">\n",
       "<title>4</title>\n",
       "<text text-anchor=\"middle\" x=\"27.5\" y=\"-360.8\" font-family=\"Times,serif\" font-size=\"14.00\">&lt;integer&gt;</text>\n",
       "</g>\n",
       "<!-- 3&#45;&gt;4 -->\n",
       "<g id=\"edge4\" class=\"edge\">\n",
       "<title>3&#45;&gt;4</title>\n",
       "<path fill=\"none\" stroke=\"black\" d=\"M27.5,-407.69C27.5,-401.18 27.5,-391.1 27.5,-382.43\"/>\n",
       "<polygon fill=\"black\" stroke=\"black\" points=\"31,-382.26 27.5,-372.26 24,-382.26 31,-382.26\"/>\n",
       "</g>\n",
       "<!-- 5 -->\n",
       "<g id=\"node6\" class=\"node\">\n",
       "<title>5</title>\n",
       "<text text-anchor=\"middle\" x=\"27.5\" y=\"-309.8\" font-family=\"Times,serif\" font-size=\"14.00\">&lt;digit&gt;</text>\n",
       "</g>\n",
       "<!-- 4&#45;&gt;5 -->\n",
       "<g id=\"edge5\" class=\"edge\">\n",
       "<title>4&#45;&gt;5</title>\n",
       "<path fill=\"none\" stroke=\"black\" d=\"M27.5,-356.69C27.5,-350.18 27.5,-340.1 27.5,-331.43\"/>\n",
       "<polygon fill=\"black\" stroke=\"black\" points=\"31,-331.26 27.5,-321.26 24,-331.26 31,-331.26\"/>\n",
       "</g>\n",
       "<!-- 6 -->\n",
       "<g id=\"node7\" class=\"node\">\n",
       "<title>6</title>\n",
       "<text text-anchor=\"middle\" x=\"27.5\" y=\"-258.8\" font-family=\"Times,serif\" font-size=\"14.00\">1</text>\n",
       "</g>\n",
       "<!-- 5&#45;&gt;6 -->\n",
       "<g id=\"edge6\" class=\"edge\">\n",
       "<title>5&#45;&gt;6</title>\n",
       "<path fill=\"none\" stroke=\"black\" d=\"M27.5,-305.69C27.5,-299.18 27.5,-289.1 27.5,-280.43\"/>\n",
       "<polygon fill=\"black\" stroke=\"black\" points=\"31,-280.26 27.5,-270.26 24,-280.26 31,-280.26\"/>\n",
       "</g>\n",
       "<!-- 9 -->\n",
       "<g id=\"node10\" class=\"node\">\n",
       "<title>9</title>\n",
       "<text text-anchor=\"middle\" x=\"122.5\" y=\"-411.8\" font-family=\"Times,serif\" font-size=\"14.00\">&lt;term&gt;</text>\n",
       "</g>\n",
       "<!-- 8&#45;&gt;9 -->\n",
       "<g id=\"edge9\" class=\"edge\">\n",
       "<title>8&#45;&gt;9</title>\n",
       "<path fill=\"none\" stroke=\"black\" d=\"M122.5,-458.69C122.5,-452.18 122.5,-442.1 122.5,-433.43\"/>\n",
       "<polygon fill=\"black\" stroke=\"black\" points=\"126,-433.26 122.5,-423.26 119,-433.26 126,-433.26\"/>\n",
       "</g>\n",
       "<!-- 10 -->\n",
       "<g id=\"node11\" class=\"node\">\n",
       "<title>10</title>\n",
       "<text text-anchor=\"middle\" x=\"122.5\" y=\"-360.8\" font-family=\"Times,serif\" font-size=\"14.00\">&lt;factor&gt;</text>\n",
       "</g>\n",
       "<!-- 9&#45;&gt;10 -->\n",
       "<g id=\"edge10\" class=\"edge\">\n",
       "<title>9&#45;&gt;10</title>\n",
       "<path fill=\"none\" stroke=\"black\" d=\"M122.5,-407.69C122.5,-401.18 122.5,-391.1 122.5,-382.43\"/>\n",
       "<polygon fill=\"black\" stroke=\"black\" points=\"126,-382.26 122.5,-372.26 119,-382.26 126,-382.26\"/>\n",
       "</g>\n",
       "<!-- 11 -->\n",
       "<g id=\"node12\" class=\"node\">\n",
       "<title>11</title>\n",
       "<text text-anchor=\"middle\" x=\"81.5\" y=\"-309.8\" font-family=\"Times,serif\" font-size=\"14.00\">(</text>\n",
       "</g>\n",
       "<!-- 10&#45;&gt;11 -->\n",
       "<g id=\"edge11\" class=\"edge\">\n",
       "<title>10&#45;&gt;11</title>\n",
       "<path fill=\"none\" stroke=\"black\" d=\"M116.8,-356.69C110.07,-348.64 98.77,-335.14 90.77,-325.58\"/>\n",
       "<polygon fill=\"black\" stroke=\"black\" points=\"93.27,-323.11 84.17,-317.69 87.9,-327.6 93.27,-323.11\"/>\n",
       "</g>\n",
       "<!-- 12 -->\n",
       "<g id=\"node13\" class=\"node\">\n",
       "<title>12</title>\n",
       "<text text-anchor=\"middle\" x=\"122.5\" y=\"-309.8\" font-family=\"Times,serif\" font-size=\"14.00\">&lt;expr&gt;</text>\n",
       "</g>\n",
       "<!-- 10&#45;&gt;12 -->\n",
       "<g id=\"edge12\" class=\"edge\">\n",
       "<title>10&#45;&gt;12</title>\n",
       "<path fill=\"none\" stroke=\"black\" d=\"M122.5,-356.69C122.5,-350.18 122.5,-340.1 122.5,-331.43\"/>\n",
       "<polygon fill=\"black\" stroke=\"black\" points=\"126,-331.26 122.5,-321.26 119,-331.26 126,-331.26\"/>\n",
       "</g>\n",
       "<!-- 24 -->\n",
       "<g id=\"node25\" class=\"node\">\n",
       "<title>24</title>\n",
       "<text text-anchor=\"middle\" x=\"163.5\" y=\"-309.8\" font-family=\"Times,serif\" font-size=\"14.00\">)</text>\n",
       "</g>\n",
       "<!-- 10&#45;&gt;24 -->\n",
       "<g id=\"edge24\" class=\"edge\">\n",
       "<title>10&#45;&gt;24</title>\n",
       "<path fill=\"none\" stroke=\"black\" d=\"M128.2,-356.69C134.93,-348.64 146.23,-335.14 154.23,-325.58\"/>\n",
       "<polygon fill=\"black\" stroke=\"black\" points=\"157.1,-327.6 160.83,-317.69 151.73,-323.11 157.1,-327.6\"/>\n",
       "</g>\n",
       "<!-- 13 -->\n",
       "<g id=\"node14\" class=\"node\">\n",
       "<title>13</title>\n",
       "<text text-anchor=\"middle\" x=\"122.5\" y=\"-258.8\" font-family=\"Times,serif\" font-size=\"14.00\">&lt;term&gt;</text>\n",
       "</g>\n",
       "<!-- 12&#45;&gt;13 -->\n",
       "<g id=\"edge13\" class=\"edge\">\n",
       "<title>12&#45;&gt;13</title>\n",
       "<path fill=\"none\" stroke=\"black\" d=\"M122.5,-305.69C122.5,-299.18 122.5,-289.1 122.5,-280.43\"/>\n",
       "<polygon fill=\"black\" stroke=\"black\" points=\"126,-280.26 122.5,-270.26 119,-280.26 126,-280.26\"/>\n",
       "</g>\n",
       "<!-- 14 -->\n",
       "<g id=\"node15\" class=\"node\">\n",
       "<title>14</title>\n",
       "<text text-anchor=\"middle\" x=\"72.5\" y=\"-207.8\" font-family=\"Times,serif\" font-size=\"14.00\">&lt;factor&gt;</text>\n",
       "</g>\n",
       "<!-- 13&#45;&gt;14 -->\n",
       "<g id=\"edge14\" class=\"edge\">\n",
       "<title>13&#45;&gt;14</title>\n",
       "<path fill=\"none\" stroke=\"black\" d=\"M115.55,-254.69C108.08,-247.37 96.03,-235.56 86.57,-226.29\"/>\n",
       "<polygon fill=\"black\" stroke=\"black\" points=\"88.99,-223.75 79.39,-219.26 84.09,-228.75 88.99,-223.75\"/>\n",
       "</g>\n",
       "<!-- 18 -->\n",
       "<g id=\"node19\" class=\"node\">\n",
       "<title>18</title>\n",
       "<text text-anchor=\"middle\" x=\"122.5\" y=\"-207.8\" font-family=\"Times,serif\" font-size=\"14.00\"> * </text>\n",
       "</g>\n",
       "<!-- 13&#45;&gt;18 -->\n",
       "<g id=\"edge18\" class=\"edge\">\n",
       "<title>13&#45;&gt;18</title>\n",
       "<path fill=\"none\" stroke=\"black\" d=\"M122.5,-254.69C122.5,-248.18 122.5,-238.1 122.5,-229.43\"/>\n",
       "<polygon fill=\"black\" stroke=\"black\" points=\"126,-229.26 122.5,-219.26 119,-229.26 126,-229.26\"/>\n",
       "</g>\n",
       "<!-- 19 -->\n",
       "<g id=\"node20\" class=\"node\">\n",
       "<title>19</title>\n",
       "<text text-anchor=\"middle\" x=\"169.5\" y=\"-207.8\" font-family=\"Times,serif\" font-size=\"14.00\">&lt;term&gt;</text>\n",
       "</g>\n",
       "<!-- 13&#45;&gt;19 -->\n",
       "<g id=\"edge19\" class=\"edge\">\n",
       "<title>13&#45;&gt;19</title>\n",
       "<path fill=\"none\" stroke=\"black\" d=\"M129.04,-254.69C135.98,-247.45 147.16,-235.79 156.01,-226.57\"/>\n",
       "<polygon fill=\"black\" stroke=\"black\" points=\"158.62,-228.9 163.02,-219.26 153.57,-224.05 158.62,-228.9\"/>\n",
       "</g>\n",
       "<!-- 15 -->\n",
       "<g id=\"node16\" class=\"node\">\n",
       "<title>15</title>\n",
       "<text text-anchor=\"middle\" x=\"72.5\" y=\"-156.8\" font-family=\"Times,serif\" font-size=\"14.00\">&lt;integer&gt;</text>\n",
       "</g>\n",
       "<!-- 14&#45;&gt;15 -->\n",
       "<g id=\"edge15\" class=\"edge\">\n",
       "<title>14&#45;&gt;15</title>\n",
       "<path fill=\"none\" stroke=\"black\" d=\"M72.5,-203.69C72.5,-197.18 72.5,-187.1 72.5,-178.43\"/>\n",
       "<polygon fill=\"black\" stroke=\"black\" points=\"76,-178.26 72.5,-168.26 69,-178.26 76,-178.26\"/>\n",
       "</g>\n",
       "<!-- 16 -->\n",
       "<g id=\"node17\" class=\"node\">\n",
       "<title>16</title>\n",
       "<text text-anchor=\"middle\" x=\"72.5\" y=\"-105.8\" font-family=\"Times,serif\" font-size=\"14.00\">&lt;digit&gt;</text>\n",
       "</g>\n",
       "<!-- 15&#45;&gt;16 -->\n",
       "<g id=\"edge16\" class=\"edge\">\n",
       "<title>15&#45;&gt;16</title>\n",
       "<path fill=\"none\" stroke=\"black\" d=\"M72.5,-152.69C72.5,-146.18 72.5,-136.1 72.5,-127.43\"/>\n",
       "<polygon fill=\"black\" stroke=\"black\" points=\"76,-127.26 72.5,-117.26 69,-127.26 76,-127.26\"/>\n",
       "</g>\n",
       "<!-- 17 -->\n",
       "<g id=\"node18\" class=\"node\">\n",
       "<title>17</title>\n",
       "<text text-anchor=\"middle\" x=\"72.5\" y=\"-54.8\" font-family=\"Times,serif\" font-size=\"14.00\">2</text>\n",
       "</g>\n",
       "<!-- 16&#45;&gt;17 -->\n",
       "<g id=\"edge17\" class=\"edge\">\n",
       "<title>16&#45;&gt;17</title>\n",
       "<path fill=\"none\" stroke=\"black\" d=\"M72.5,-101.69C72.5,-95.18 72.5,-85.1 72.5,-76.43\"/>\n",
       "<polygon fill=\"black\" stroke=\"black\" points=\"76,-76.26 72.5,-66.26 69,-76.26 76,-76.26\"/>\n",
       "</g>\n",
       "<!-- 20 -->\n",
       "<g id=\"node21\" class=\"node\">\n",
       "<title>20</title>\n",
       "<text text-anchor=\"middle\" x=\"169.5\" y=\"-156.8\" font-family=\"Times,serif\" font-size=\"14.00\">&lt;factor&gt;</text>\n",
       "</g>\n",
       "<!-- 19&#45;&gt;20 -->\n",
       "<g id=\"edge20\" class=\"edge\">\n",
       "<title>19&#45;&gt;20</title>\n",
       "<path fill=\"none\" stroke=\"black\" d=\"M169.5,-203.69C169.5,-197.18 169.5,-187.1 169.5,-178.43\"/>\n",
       "<polygon fill=\"black\" stroke=\"black\" points=\"173,-178.26 169.5,-168.26 166,-178.26 173,-178.26\"/>\n",
       "</g>\n",
       "<!-- 21 -->\n",
       "<g id=\"node22\" class=\"node\">\n",
       "<title>21</title>\n",
       "<text text-anchor=\"middle\" x=\"169.5\" y=\"-105.8\" font-family=\"Times,serif\" font-size=\"14.00\">&lt;integer&gt;</text>\n",
       "</g>\n",
       "<!-- 20&#45;&gt;21 -->\n",
       "<g id=\"edge21\" class=\"edge\">\n",
       "<title>20&#45;&gt;21</title>\n",
       "<path fill=\"none\" stroke=\"black\" d=\"M169.5,-152.69C169.5,-146.18 169.5,-136.1 169.5,-127.43\"/>\n",
       "<polygon fill=\"black\" stroke=\"black\" points=\"173,-127.26 169.5,-117.26 166,-127.26 173,-127.26\"/>\n",
       "</g>\n",
       "<!-- 22 -->\n",
       "<g id=\"node23\" class=\"node\">\n",
       "<title>22</title>\n",
       "<text text-anchor=\"middle\" x=\"169.5\" y=\"-54.8\" font-family=\"Times,serif\" font-size=\"14.00\">&lt;digit&gt;</text>\n",
       "</g>\n",
       "<!-- 21&#45;&gt;22 -->\n",
       "<g id=\"edge22\" class=\"edge\">\n",
       "<title>21&#45;&gt;22</title>\n",
       "<path fill=\"none\" stroke=\"black\" d=\"M169.5,-101.69C169.5,-95.18 169.5,-85.1 169.5,-76.43\"/>\n",
       "<polygon fill=\"black\" stroke=\"black\" points=\"173,-76.26 169.5,-66.26 166,-76.26 173,-76.26\"/>\n",
       "</g>\n",
       "<!-- 23 -->\n",
       "<g id=\"node24\" class=\"node\">\n",
       "<title>23</title>\n",
       "<text text-anchor=\"middle\" x=\"169.5\" y=\"-3.8\" font-family=\"Times,serif\" font-size=\"14.00\">3</text>\n",
       "</g>\n",
       "<!-- 22&#45;&gt;23 -->\n",
       "<g id=\"edge23\" class=\"edge\">\n",
       "<title>22&#45;&gt;23</title>\n",
       "<path fill=\"none\" stroke=\"black\" d=\"M169.5,-50.69C169.5,-44.18 169.5,-34.1 169.5,-25.43\"/>\n",
       "<polygon fill=\"black\" stroke=\"black\" points=\"173,-25.26 169.5,-15.26 166,-25.26 173,-25.26\"/>\n",
       "</g>\n",
       "</g>\n",
       "</svg>\n"
      ],
      "text/plain": [
       "<graphviz.graphs.Digraph at 0x105f9fdc0>"
      ]
     },
     "execution_count": 74,
     "metadata": {},
     "output_type": "execute_result"
    }
   ],
   "source": [
    "display_tree(derivation_tree)"
   ]
  },
  {
   "cell_type": "markdown",
   "metadata": {
    "slideshow": {
     "slide_type": "fragment"
    }
   },
   "source": [
    "At a depth of 1, there is no `<term>` symbol:"
   ]
  },
  {
   "cell_type": "code",
   "execution_count": 75,
   "metadata": {
    "execution": {
     "iopub.execute_input": "2022-11-29T13:49:55.650077Z",
     "iopub.status.busy": "2022-11-29T13:49:55.648995Z",
     "iopub.status.idle": "2022-11-29T13:49:55.651518Z",
     "shell.execute_reply": "2022-11-29T13:49:55.651754Z"
    },
    "slideshow": {
     "slide_type": "fragment"
    }
   },
   "outputs": [
    {
     "data": {
      "text/plain": [
       "[]"
      ]
     },
     "execution_count": 75,
     "metadata": {},
     "output_type": "execute_result"
    }
   ],
   "source": [
    "[all_terminals(t) for t in grammar_reducer.subtrees_with_symbol(\n",
    "    derivation_tree, \"<term>\", depth=1)]"
   ]
  },
  {
   "cell_type": "markdown",
   "metadata": {
    "slideshow": {
     "slide_type": "fragment"
    }
   },
   "source": [
    "At a depth of 2, we have the `<term>` subtree on the left hand side:"
   ]
  },
  {
   "cell_type": "code",
   "execution_count": 76,
   "metadata": {
    "execution": {
     "iopub.execute_input": "2022-11-29T13:49:55.653993Z",
     "iopub.status.busy": "2022-11-29T13:49:55.653684Z",
     "iopub.status.idle": "2022-11-29T13:49:55.655071Z",
     "shell.execute_reply": "2022-11-29T13:49:55.655308Z"
    },
    "slideshow": {
     "slide_type": "subslide"
    }
   },
   "outputs": [
    {
     "data": {
      "text/plain": [
       "['1']"
      ]
     },
     "execution_count": 76,
     "metadata": {},
     "output_type": "execute_result"
    }
   ],
   "source": [
    "[all_terminals(t) for t in grammar_reducer.subtrees_with_symbol(\n",
    "    derivation_tree, \"<term>\", depth=2)]"
   ]
  },
  {
   "cell_type": "markdown",
   "metadata": {
    "slideshow": {
     "slide_type": "fragment"
    }
   },
   "source": [
    "At a depth of 3, we have the `<term>` subtree on the right hand side:"
   ]
  },
  {
   "cell_type": "code",
   "execution_count": 77,
   "metadata": {
    "execution": {
     "iopub.execute_input": "2022-11-29T13:49:55.657451Z",
     "iopub.status.busy": "2022-11-29T13:49:55.657119Z",
     "iopub.status.idle": "2022-11-29T13:49:55.658628Z",
     "shell.execute_reply": "2022-11-29T13:49:55.658813Z"
    },
    "slideshow": {
     "slide_type": "fragment"
    }
   },
   "outputs": [
    {
     "data": {
      "text/plain": [
       "['(2 * 3)']"
      ]
     },
     "execution_count": 77,
     "metadata": {},
     "output_type": "execute_result"
    }
   ],
   "source": [
    "[all_terminals(t) for t in grammar_reducer.subtrees_with_symbol(\n",
    "    derivation_tree, \"<term>\", depth=3)]"
   ]
  },
  {
   "cell_type": "markdown",
   "metadata": {
    "slideshow": {
     "slide_type": "fragment"
    }
   },
   "source": [
    "The idea is now to start with a depth of 0, subsequently increasing it as we proceed:"
   ]
  },
  {
   "cell_type": "code",
   "execution_count": 78,
   "metadata": {
    "execution": {
     "iopub.execute_input": "2022-11-29T13:49:55.661056Z",
     "iopub.status.busy": "2022-11-29T13:49:55.660752Z",
     "iopub.status.idle": "2022-11-29T13:49:55.661913Z",
     "shell.execute_reply": "2022-11-29T13:49:55.662093Z"
    },
    "slideshow": {
     "slide_type": "subslide"
    }
   },
   "outputs": [],
   "source": [
    "class GrammarReducer(GrammarReducer):\n",
    "    def reduce_tree(self, tree):\n",
    "        depth = 0\n",
    "        while depth < max_height(tree):\n",
    "            reduced = self.reduce_subtree(tree, tree, depth)\n",
    "            if reduced:\n",
    "                depth = 0    # Start with new tree\n",
    "            else:\n",
    "                depth += 1   # Extend search for subtrees\n",
    "        return tree        "
   ]
  },
  {
   "cell_type": "code",
   "execution_count": 79,
   "metadata": {
    "execution": {
     "iopub.execute_input": "2022-11-29T13:49:55.667796Z",
     "iopub.status.busy": "2022-11-29T13:49:55.667457Z",
     "iopub.status.idle": "2022-11-29T13:49:55.669065Z",
     "shell.execute_reply": "2022-11-29T13:49:55.669248Z"
    },
    "slideshow": {
     "slide_type": "subslide"
    }
   },
   "outputs": [
    {
     "name": "stdout",
     "output_type": "stream",
     "text": [
      "Test #1 '(2 * 3)' 7 FAIL\n",
      "Test #2 '(3)' 3 FAIL\n",
      "Test #3 '3' 1 PASS\n"
     ]
    },
    {
     "data": {
      "text/plain": [
       "'(3)'"
      ]
     },
     "execution_count": 79,
     "metadata": {},
     "output_type": "execute_result"
    }
   ],
   "source": [
    "grammar_reducer = GrammarReducer(\n",
    "    mystery,\n",
    "    EarleyParser(EXPR_GRAMMAR),\n",
    "    log_test=True)\n",
    "grammar_reducer.reduce(expr_input)"
   ]
  },
  {
   "cell_type": "markdown",
   "metadata": {
    "slideshow": {
     "slide_type": "fragment"
    }
   },
   "source": [
    "We see that a depth-oriented strategy needs even fewer steps in our setting."
   ]
  },
  {
   "cell_type": "markdown",
   "metadata": {
    "slideshow": {
     "slide_type": "subslide"
    }
   },
   "source": [
    "### Comparing Strategies\n",
    "\n",
    "We close by demonstrating the difference between text-based delta debugging and our grammar-based reduction.  We build a very long expression:"
   ]
  },
  {
   "cell_type": "code",
   "execution_count": 80,
   "metadata": {
    "execution": {
     "iopub.execute_input": "2022-11-29T13:49:55.670847Z",
     "iopub.status.busy": "2022-11-29T13:49:55.670270Z",
     "iopub.status.idle": "2022-11-29T13:49:55.671946Z",
     "shell.execute_reply": "2022-11-29T13:49:55.672123Z"
    },
    "slideshow": {
     "slide_type": "skip"
    }
   },
   "outputs": [],
   "source": [
    "from GrammarFuzzer import GrammarFuzzer"
   ]
  },
  {
   "cell_type": "code",
   "execution_count": 81,
   "metadata": {
    "execution": {
     "iopub.execute_input": "2022-11-29T13:49:55.767238Z",
     "iopub.status.busy": "2022-11-29T13:49:55.723226Z",
     "iopub.status.idle": "2022-11-29T13:49:55.795181Z",
     "shell.execute_reply": "2022-11-29T13:49:55.795374Z"
    },
    "slideshow": {
     "slide_type": "fragment"
    }
   },
   "outputs": [
    {
     "data": {
      "text/plain": [
       "'++---((-2 / 3 / 3 - -+1 / 5 - 2) * ++6 / +8 * 4 / 9 / 2 * 8 + ++(5) * 3 / 8 * 0 + 3 * 3 + 4 / 0 / 6 + 9) * ++++(+--9 * -3 * 7 / 4 + --(4) / 3 - 0 / 3 + 5 + 0) * (1 * 6 - 1 / 9 * 5 - 9 / 0 + 7) * ++(8 - 1) * +1 * 7 * 0 + ((1 + 4) / 4 * 8 * 9 * 4 + 4 / (4) * 1 - (4) * 8 * 5 + 1 + 4) / (+(2 - 1 - 9) * 5 + 3 + 6 - 2) * +3 * (3 - 7 + 8) / 4 - -(9 * 4 - 1 * 0 + 5) / (5 / 9 * 5 + 2) * 7 + ((7 - 5 + 3) / 1 * 8 - 8 - 9) * --+1 * 4 / 4 - 4 / 7 * 4 - 3 / 6 * 1 - 2 - 7 - 8'"
      ]
     },
     "execution_count": 81,
     "metadata": {},
     "output_type": "execute_result"
    }
   ],
   "source": [
    "long_expr_input = GrammarFuzzer(EXPR_GRAMMAR, min_nonterminals=100).fuzz()\n",
    "long_expr_input"
   ]
  },
  {
   "cell_type": "markdown",
   "metadata": {
    "slideshow": {
     "slide_type": "fragment"
    }
   },
   "source": [
    "With grammars, we need only a handful of tests to find the failure-inducing input:"
   ]
  },
  {
   "cell_type": "code",
   "execution_count": 82,
   "metadata": {
    "execution": {
     "iopub.execute_input": "2022-11-29T13:49:55.797297Z",
     "iopub.status.busy": "2022-11-29T13:49:55.796983Z",
     "iopub.status.idle": "2022-11-29T13:49:55.798229Z",
     "shell.execute_reply": "2022-11-29T13:49:55.798426Z"
    },
    "slideshow": {
     "slide_type": "skip"
    }
   },
   "outputs": [],
   "source": [
    "from Timer import Timer"
   ]
  },
  {
   "cell_type": "code",
   "execution_count": 83,
   "metadata": {
    "execution": {
     "iopub.execute_input": "2022-11-29T13:49:55.901235Z",
     "iopub.status.busy": "2022-11-29T13:49:55.849063Z",
     "iopub.status.idle": "2022-11-29T13:49:55.902719Z",
     "shell.execute_reply": "2022-11-29T13:49:55.902915Z"
    },
    "slideshow": {
     "slide_type": "fragment"
    }
   },
   "outputs": [
    {
     "name": "stdout",
     "output_type": "stream",
     "text": [
      "(9)\n"
     ]
    }
   ],
   "source": [
    "grammar_reducer = GrammarReducer(eval_mystery, EarleyParser(EXPR_GRAMMAR))\n",
    "with Timer() as grammar_time:\n",
    "    print(grammar_reducer.reduce(long_expr_input))"
   ]
  },
  {
   "cell_type": "code",
   "execution_count": 84,
   "metadata": {
    "execution": {
     "iopub.execute_input": "2022-11-29T13:49:55.905098Z",
     "iopub.status.busy": "2022-11-29T13:49:55.904629Z",
     "iopub.status.idle": "2022-11-29T13:49:55.906609Z",
     "shell.execute_reply": "2022-11-29T13:49:55.906833Z"
    },
    "slideshow": {
     "slide_type": "subslide"
    }
   },
   "outputs": [
    {
     "data": {
      "text/plain": [
       "10"
      ]
     },
     "execution_count": 84,
     "metadata": {},
     "output_type": "execute_result"
    }
   ],
   "source": [
    "grammar_reducer.tests"
   ]
  },
  {
   "cell_type": "code",
   "execution_count": 85,
   "metadata": {
    "execution": {
     "iopub.execute_input": "2022-11-29T13:49:55.908947Z",
     "iopub.status.busy": "2022-11-29T13:49:55.908573Z",
     "iopub.status.idle": "2022-11-29T13:49:55.910201Z",
     "shell.execute_reply": "2022-11-29T13:49:55.910451Z"
    },
    "slideshow": {
     "slide_type": "fragment"
    }
   },
   "outputs": [
    {
     "data": {
      "text/plain": [
       "0.10111312500521308"
      ]
     },
     "execution_count": 85,
     "metadata": {},
     "output_type": "execute_result"
    }
   ],
   "source": [
    "grammar_time.elapsed_time()"
   ]
  },
  {
   "cell_type": "markdown",
   "metadata": {
    "slideshow": {
     "slide_type": "fragment"
    }
   },
   "source": [
    "Delta debugging, in contrast, requires orders of magnitude more tests (and consequently, time).  Again, the reduction is not closely as perfect as it is with the grammar-based reducer."
   ]
  },
  {
   "cell_type": "code",
   "execution_count": 86,
   "metadata": {
    "execution": {
     "iopub.execute_input": "2022-11-29T13:49:55.998672Z",
     "iopub.status.busy": "2022-11-29T13:49:55.954942Z",
     "iopub.status.idle": "2022-11-29T13:49:58.496420Z",
     "shell.execute_reply": "2022-11-29T13:49:58.496729Z"
    },
    "slideshow": {
     "slide_type": "fragment"
    }
   },
   "outputs": [
    {
     "name": "stdout",
     "output_type": "stream",
     "text": [
      "((2 - 1 - 2) * 8 + (5) - (4)) / ((2) * 3) * (9) / 3 / 1 - 8\n"
     ]
    }
   ],
   "source": [
    "dd_reducer = DeltaDebuggingReducer(eval_mystery)\n",
    "with Timer() as dd_time:\n",
    "    print(dd_reducer.reduce(long_expr_input))"
   ]
  },
  {
   "cell_type": "code",
   "execution_count": 87,
   "metadata": {
    "execution": {
     "iopub.execute_input": "2022-11-29T13:49:58.498821Z",
     "iopub.status.busy": "2022-11-29T13:49:58.498437Z",
     "iopub.status.idle": "2022-11-29T13:49:58.500045Z",
     "shell.execute_reply": "2022-11-29T13:49:58.500284Z"
    },
    "slideshow": {
     "slide_type": "fragment"
    }
   },
   "outputs": [
    {
     "data": {
      "text/plain": [
       "900"
      ]
     },
     "execution_count": 87,
     "metadata": {},
     "output_type": "execute_result"
    }
   ],
   "source": [
    "dd_reducer.tests"
   ]
  },
  {
   "cell_type": "code",
   "execution_count": 88,
   "metadata": {
    "execution": {
     "iopub.execute_input": "2022-11-29T13:49:58.502053Z",
     "iopub.status.busy": "2022-11-29T13:49:58.501738Z",
     "iopub.status.idle": "2022-11-29T13:49:58.503290Z",
     "shell.execute_reply": "2022-11-29T13:49:58.503460Z"
    },
    "slideshow": {
     "slide_type": "subslide"
    }
   },
   "outputs": [
    {
     "data": {
      "text/plain": [
       "2.5828306659968803"
      ]
     },
     "execution_count": 88,
     "metadata": {},
     "output_type": "execute_result"
    }
   ],
   "source": [
    "dd_time.elapsed_time()"
   ]
  },
  {
   "cell_type": "markdown",
   "metadata": {
    "slideshow": {
     "slide_type": "fragment"
    }
   },
   "source": [
    "We see that if an input is syntactically complex, using a grammar to reduce inputs is the best way to go."
   ]
  },
  {
   "cell_type": "markdown",
   "metadata": {
    "slideshow": {
     "slide_type": "slide"
    }
   },
   "source": [
    "## Synopsis\n",
    "\n",
    "A _reducer_ takes a failure-inducing input and reduces it to the minimum that still reproduces the failure.  This chapter provides `Reducer` classes that implement such reducers."
   ]
  },
  {
   "cell_type": "markdown",
   "metadata": {
    "slideshow": {
     "slide_type": "fragment"
    }
   },
   "source": [
    "Here is a simple example: An arithmetic expression causes an error in the Python interpreter:"
   ]
  },
  {
   "cell_type": "code",
   "execution_count": 89,
   "metadata": {
    "execution": {
     "iopub.execute_input": "2022-11-29T13:49:58.505458Z",
     "iopub.status.busy": "2022-11-29T13:49:58.505176Z",
     "iopub.status.idle": "2022-11-29T13:49:58.639314Z",
     "shell.execute_reply": "2022-11-29T13:49:58.639524Z"
    },
    "slideshow": {
     "slide_type": "fragment"
    }
   },
   "outputs": [
    {
     "name": "stdout",
     "output_type": "stream",
     "text": [
      "Traceback (most recent call last):\r\n",
      "  File \"<string>\", line 1, in <module>\r\n",
      "ZeroDivisionError: division by zero\r\n"
     ]
    }
   ],
   "source": [
    "!python -c 'x = 1 + 2 * 3 / 0'"
   ]
  },
  {
   "cell_type": "markdown",
   "metadata": {
    "slideshow": {
     "slide_type": "subslide"
    }
   },
   "source": [
    "Can we reduce this input to a minimum?  To use a `Reducer`, one first has to build a `Runner` whose outcome is `FAIL` if the precise error occurs.  We therefore build a `ZeroDivisionRunner` whose `run()` method will specifically return a `FAIL` outcome if a `ZeroDivisionError` occurs."
   ]
  },
  {
   "cell_type": "code",
   "execution_count": 90,
   "metadata": {
    "execution": {
     "iopub.execute_input": "2022-11-29T13:49:58.642078Z",
     "iopub.status.busy": "2022-11-29T13:49:58.641695Z",
     "iopub.status.idle": "2022-11-29T13:49:58.642886Z",
     "shell.execute_reply": "2022-11-29T13:49:58.643071Z"
    },
    "slideshow": {
     "slide_type": "skip"
    }
   },
   "outputs": [],
   "source": [
    "from Fuzzer import ProgramRunner\n",
    "import subprocess"
   ]
  },
  {
   "cell_type": "code",
   "execution_count": 91,
   "metadata": {
    "execution": {
     "iopub.execute_input": "2022-11-29T13:49:58.645547Z",
     "iopub.status.busy": "2022-11-29T13:49:58.645206Z",
     "iopub.status.idle": "2022-11-29T13:49:58.646510Z",
     "shell.execute_reply": "2022-11-29T13:49:58.646742Z"
    },
    "slideshow": {
     "slide_type": "fragment"
    }
   },
   "outputs": [],
   "source": [
    "class ZeroDivisionRunner(ProgramRunner):\n",
    "    \"\"\"Make outcome 'FAIL' if ZeroDivisionError occurs\"\"\"\n",
    "\n",
    "    def run(self, inp: str = \"\") -> Tuple[subprocess.CompletedProcess, Outcome]:\n",
    "        process, outcome = super().run(inp)\n",
    "        if process.stderr.find('ZeroDivisionError') >= 0:\n",
    "            outcome = 'FAIL'\n",
    "        return process, outcome"
   ]
  },
  {
   "cell_type": "markdown",
   "metadata": {
    "slideshow": {
     "slide_type": "fragment"
    }
   },
   "source": [
    "If we feed this expression into a `ZeroDivisionRunner`, it will produce an outcome of `FAIL` as designed."
   ]
  },
  {
   "cell_type": "code",
   "execution_count": 92,
   "metadata": {
    "execution": {
     "iopub.execute_input": "2022-11-29T13:49:58.651873Z",
     "iopub.status.busy": "2022-11-29T13:49:58.651569Z",
     "iopub.status.idle": "2022-11-29T13:49:58.668187Z",
     "shell.execute_reply": "2022-11-29T13:49:58.668458Z"
    },
    "slideshow": {
     "slide_type": "subslide"
    }
   },
   "outputs": [
    {
     "data": {
      "text/plain": [
       "'FAIL'"
      ]
     },
     "execution_count": 92,
     "metadata": {},
     "output_type": "execute_result"
    }
   ],
   "source": [
    "python_input = \"x = 1 + 2 * 3 / 0\"\n",
    "python_runner = ZeroDivisionRunner(\"python\")\n",
    "process, outcome = python_runner.run(python_input)\n",
    "outcome"
   ]
  },
  {
   "cell_type": "markdown",
   "metadata": {
    "slideshow": {
     "slide_type": "fragment"
    }
   },
   "source": [
    "Delta Debugging is a simple and robust reduction algorithm.  We can tie a `DeltaDebuggingReducer` to this runner, and have it determine the substring that causes the `python` program to fail:"
   ]
  },
  {
   "cell_type": "code",
   "execution_count": 93,
   "metadata": {
    "execution": {
     "iopub.execute_input": "2022-11-29T13:49:58.672552Z",
     "iopub.status.busy": "2022-11-29T13:49:58.672142Z",
     "iopub.status.idle": "2022-11-29T13:49:58.868200Z",
     "shell.execute_reply": "2022-11-29T13:49:58.868439Z"
    },
    "slideshow": {
     "slide_type": "fragment"
    }
   },
   "outputs": [
    {
     "data": {
      "text/plain": [
       "'3/0'"
      ]
     },
     "execution_count": 93,
     "metadata": {},
     "output_type": "execute_result"
    }
   ],
   "source": [
    "dd = DeltaDebuggingReducer(python_runner)\n",
    "dd.reduce(python_input)"
   ]
  },
  {
   "cell_type": "markdown",
   "metadata": {
    "slideshow": {
     "slide_type": "fragment"
    }
   },
   "source": [
    "The input is reduced to the minimum: We get the essence of the division by zero."
   ]
  },
  {
   "cell_type": "code",
   "execution_count": 94,
   "metadata": {
    "execution": {
     "iopub.execute_input": "2022-11-29T13:49:58.870626Z",
     "iopub.status.busy": "2022-11-29T13:49:58.870331Z",
     "iopub.status.idle": "2022-11-29T13:49:58.871446Z",
     "shell.execute_reply": "2022-11-29T13:49:58.871671Z"
    },
    "slideshow": {
     "slide_type": "fragment"
    }
   },
   "outputs": [],
   "source": [
    "# ignore\n",
    "from ClassDiagram import display_class_hierarchy"
   ]
  },
  {
   "cell_type": "code",
   "execution_count": 95,
   "metadata": {
    "execution": {
     "iopub.execute_input": "2022-11-29T13:49:58.882740Z",
     "iopub.status.busy": "2022-11-29T13:49:58.882352Z",
     "iopub.status.idle": "2022-11-29T13:49:59.180425Z",
     "shell.execute_reply": "2022-11-29T13:49:59.180662Z"
    },
    "slideshow": {
     "slide_type": "subslide"
    }
   },
   "outputs": [
    {
     "data": {
      "image/svg+xml": [
       "<?xml version=\"1.0\" encoding=\"UTF-8\" standalone=\"no\"?>\n",
       "<!DOCTYPE svg PUBLIC \"-//W3C//DTD SVG 1.1//EN\"\n",
       " \"http://www.w3.org/Graphics/SVG/1.1/DTD/svg11.dtd\">\n",
       "<!-- Generated by graphviz version 5.0.0 (20220707.1540)\n",
       " -->\n",
       "<!-- Pages: 1 -->\n",
       "<svg width=\"478pt\" height=\"330pt\"\n",
       " viewBox=\"0.00 0.00 478.00 330.00\" xmlns=\"http://www.w3.org/2000/svg\" xmlns:xlink=\"http://www.w3.org/1999/xlink\">\n",
       "<g id=\"graph0\" class=\"graph\" transform=\"scale(1 1) rotate(0) translate(4 326)\">\n",
       "<g id=\"a_graph0\"><a xlink:title=\"DeltaDebuggingReducer class hierarchy\">\n",
       "<polygon fill=\"white\" stroke=\"transparent\" points=\"-4,4 -4,-326 474,-326 474,4 -4,4\"/>\n",
       "</a>\n",
       "</g>\n",
       "<!-- DeltaDebuggingReducer -->\n",
       "<g id=\"node1\" class=\"node\">\n",
       "<title>DeltaDebuggingReducer</title>\n",
       "<g id=\"a_node1\"><a xlink:href=\"#\" xlink:title=\"class DeltaDebuggingReducer:&#10;Reduce inputs using delta debugging.\">\n",
       "<polygon fill=\"none\" stroke=\"black\" points=\"0,-39 0,-81 164,-81 164,-39 0,-39\"/>\n",
       "<text text-anchor=\"start\" x=\"8\" y=\"-66.8\" font-family=\"Patua One, Helvetica, sans-serif\" font-weight=\"bold\" font-size=\"14.00\" fill=\"#b03a2e\">DeltaDebuggingReducer</text>\n",
       "<polyline fill=\"none\" stroke=\"black\" points=\"0,-58 164,-58 \"/>\n",
       "<g id=\"a_node1_0\"><a xlink:href=\"#\" xlink:title=\"DeltaDebuggingReducer\">\n",
       "<g id=\"a_node1_1\"><a xlink:href=\"#\" xlink:title=\"reduce(self, inp: str) &#45;&gt; str:&#10;Reduce input `inp` using delta debugging. Return reduced input.\">\n",
       "<text text-anchor=\"start\" x=\"58\" y=\"-46.5\" font-family=\"'Fira Mono', 'Source Code Pro', 'Courier', monospace\" font-weight=\"bold\" font-style=\"italic\" font-size=\"10.00\">reduce()</text>\n",
       "</a>\n",
       "</g>\n",
       "</a>\n",
       "</g>\n",
       "</a>\n",
       "</g>\n",
       "</g>\n",
       "<!-- CachingReducer -->\n",
       "<g id=\"node2\" class=\"node\">\n",
       "<title>CachingReducer</title>\n",
       "<g id=\"a_node2\"><a xlink:href=\"#\" xlink:title=\"class CachingReducer:&#10;A reducer that also caches test outcomes\">\n",
       "<polygon fill=\"none\" stroke=\"black\" points=\"111,-156.5 111,-209.5 227,-209.5 227,-156.5 111,-156.5\"/>\n",
       "<text text-anchor=\"start\" x=\"119\" y=\"-195.3\" font-family=\"Patua One, Helvetica, sans-serif\" font-weight=\"bold\" font-size=\"14.00\" fill=\"#b03a2e\">CachingReducer</text>\n",
       "<polyline fill=\"none\" stroke=\"black\" points=\"111,-186.5 227,-186.5 \"/>\n",
       "<g id=\"a_node2_2\"><a xlink:href=\"#\" xlink:title=\"CachingReducer\">\n",
       "<g id=\"a_node2_3\"><a xlink:href=\"#\" xlink:title=\"reset(self):&#10;Reset the test counter to zero. To be extended in subclasses.\">\n",
       "<text text-anchor=\"start\" x=\"148\" y=\"-175.5\" font-family=\"'Fira Mono', 'Source Code Pro', 'Courier', monospace\" font-style=\"italic\" font-size=\"10.00\">reset()</text>\n",
       "</a>\n",
       "</g>\n",
       "<g id=\"a_node2_4\"><a xlink:href=\"#\" xlink:title=\"test(self, inp):&#10;Test with input `inp`. Return outcome.&#10;To be extended in subclasses.\">\n",
       "<text text-anchor=\"start\" x=\"148\" y=\"-164.5\" font-family=\"'Fira Mono', 'Source Code Pro', 'Courier', monospace\" font-style=\"italic\" font-size=\"10.00\">test()</text>\n",
       "</a>\n",
       "</g>\n",
       "</a>\n",
       "</g>\n",
       "</a>\n",
       "</g>\n",
       "</g>\n",
       "<!-- DeltaDebuggingReducer&#45;&gt;CachingReducer -->\n",
       "<g id=\"edge1\" class=\"edge\">\n",
       "<title>DeltaDebuggingReducer&#45;&gt;CachingReducer</title>\n",
       "<path fill=\"none\" stroke=\"black\" d=\"M96.56,-81.25C109.63,-99.43 129.07,-126.47 144.53,-147.96\"/>\n",
       "<polygon fill=\"none\" stroke=\"black\" points=\"141.77,-150.12 150.45,-156.19 147.45,-146.03 141.77,-150.12\"/>\n",
       "</g>\n",
       "<!-- Reducer -->\n",
       "<g id=\"node3\" class=\"node\">\n",
       "<title>Reducer</title>\n",
       "<g id=\"a_node3\"><a xlink:href=\"#\" xlink:title=\"class Reducer:&#10;Base class for reducers.\">\n",
       "<polygon fill=\"none\" stroke=\"black\" points=\"130.5,-246.5 130.5,-321.5 207.5,-321.5 207.5,-246.5 130.5,-246.5\"/>\n",
       "<text text-anchor=\"start\" x=\"144\" y=\"-307.3\" font-family=\"Patua One, Helvetica, sans-serif\" font-weight=\"bold\" font-size=\"14.00\" fill=\"#b03a2e\">Reducer</text>\n",
       "<polyline fill=\"none\" stroke=\"black\" points=\"130.5,-298.5 207.5,-298.5 \"/>\n",
       "<g id=\"a_node3_5\"><a xlink:href=\"#\" xlink:title=\"Reducer\">\n",
       "<g id=\"a_node3_6\"><a xlink:href=\"#\" xlink:title=\"__init__(self, runner: Fuzzer.Runner, log_test: bool = False) &#45;&gt; None:&#10;Attach reducer to the given `runner`\">\n",
       "<text text-anchor=\"start\" x=\"139\" y=\"-287.5\" font-family=\"'Fira Mono', 'Source Code Pro', 'Courier', monospace\" font-weight=\"bold\" font-size=\"10.00\">__init__()</text>\n",
       "</a>\n",
       "</g>\n",
       "<g id=\"a_node3_7\"><a xlink:href=\"#\" xlink:title=\"reduce(self, inp: str) &#45;&gt; str:&#10;Reduce input `inp`. Return reduced input.&#10;To be defined in subclasses.\">\n",
       "<text text-anchor=\"start\" x=\"139\" y=\"-276.5\" font-family=\"'Fira Mono', 'Source Code Pro', 'Courier', monospace\" font-weight=\"bold\" font-style=\"italic\" font-size=\"10.00\">reduce()</text>\n",
       "</a>\n",
       "</g>\n",
       "<g id=\"a_node3_8\"><a xlink:href=\"#\" xlink:title=\"reset(self) &#45;&gt; None:&#10;Reset the test counter to zero. To be extended in subclasses.\">\n",
       "<text text-anchor=\"start\" x=\"139\" y=\"-265.5\" font-family=\"'Fira Mono', 'Source Code Pro', 'Courier', monospace\" font-weight=\"bold\" font-style=\"italic\" font-size=\"10.00\">reset()</text>\n",
       "</a>\n",
       "</g>\n",
       "<g id=\"a_node3_9\"><a xlink:href=\"#\" xlink:title=\"test(self, inp: str) &#45;&gt; str:&#10;Test with input `inp`. Return outcome.&#10;To be extended in subclasses.\">\n",
       "<text text-anchor=\"start\" x=\"139\" y=\"-254.5\" font-family=\"'Fira Mono', 'Source Code Pro', 'Courier', monospace\" font-style=\"italic\" font-size=\"10.00\">test()</text>\n",
       "</a>\n",
       "</g>\n",
       "</a>\n",
       "</g>\n",
       "</a>\n",
       "</g>\n",
       "</g>\n",
       "<!-- CachingReducer&#45;&gt;Reducer -->\n",
       "<g id=\"edge2\" class=\"edge\">\n",
       "<title>CachingReducer&#45;&gt;Reducer</title>\n",
       "<path fill=\"none\" stroke=\"black\" d=\"M169,-209.75C169,-217.83 169,-227.01 169,-236.07\"/>\n",
       "<polygon fill=\"none\" stroke=\"black\" points=\"165.5,-236.19 169,-246.19 172.5,-236.19 165.5,-236.19\"/>\n",
       "</g>\n",
       "<!-- GrammarReducer -->\n",
       "<g id=\"node4\" class=\"node\">\n",
       "<title>GrammarReducer</title>\n",
       "<g id=\"a_node4\"><a xlink:href=\"#\" xlink:title=\"class GrammarReducer:&#10;Reduce inputs using grammars\">\n",
       "<polygon fill=\"none\" stroke=\"black\" points=\"182.5,-0.5 182.5,-119.5 331.5,-119.5 331.5,-0.5 182.5,-0.5\"/>\n",
       "<text text-anchor=\"start\" x=\"202.5\" y=\"-105.3\" font-family=\"Patua One, Helvetica, sans-serif\" font-weight=\"bold\" font-size=\"14.00\" fill=\"#b03a2e\">GrammarReducer</text>\n",
       "<polyline fill=\"none\" stroke=\"black\" points=\"182.5,-96.5 331.5,-96.5 \"/>\n",
       "<g id=\"a_node4_10\"><a xlink:href=\"#\" xlink:title=\"GrammarReducer\">\n",
       "<g id=\"a_node4_11\"><a xlink:href=\"#\" xlink:title=\"__init__(self, runner: Fuzzer.Runner, parser: Parser.Parser, *, log_test: bool = False, log_reduce: bool = False):&#10;Constructor.&#10;`runner` is the runner to be used.&#10;`parser` is the parser to be used.&#10;`log_test` &#45; if set, show tests and results.&#10;`log_reduce` &#45; if set, show reduction steps.\">\n",
       "<text text-anchor=\"start\" x=\"191\" y=\"-85.5\" font-family=\"'Fira Mono', 'Source Code Pro', 'Courier', monospace\" font-weight=\"bold\" font-style=\"italic\" font-size=\"10.00\">__init__()</text>\n",
       "</a>\n",
       "</g>\n",
       "<g id=\"a_node4_12\"><a xlink:href=\"#\" xlink:title=\"reduce(self, inp):&#10;Reduce input `inp`. Return reduced input.&#10;To be defined in subclasses.\">\n",
       "<text text-anchor=\"start\" x=\"191\" y=\"-74.5\" font-family=\"'Fira Mono', 'Source Code Pro', 'Courier', monospace\" font-weight=\"bold\" font-style=\"italic\" font-size=\"10.00\">reduce()</text>\n",
       "</a>\n",
       "</g>\n",
       "<g id=\"a_node4_13\"><a xlink:href=\"#\" xlink:title=\"alternate_reductions(self, tree: DerivationTree, symbol: str, depth: int = &#45;1)\">\n",
       "<text text-anchor=\"start\" x=\"191\" y=\"-62.5\" font-family=\"'Fira Mono', 'Source Code Pro', 'Courier', monospace\" font-size=\"10.00\">alternate_reductions()</text>\n",
       "</a>\n",
       "</g>\n",
       "<g id=\"a_node4_14\"><a xlink:href=\"#\" xlink:title=\"parse(self, inp)\">\n",
       "<text text-anchor=\"start\" x=\"191\" y=\"-51.5\" font-family=\"'Fira Mono', 'Source Code Pro', 'Courier', monospace\" font-size=\"10.00\">parse()</text>\n",
       "</a>\n",
       "</g>\n",
       "<g id=\"a_node4_15\"><a xlink:href=\"#\" xlink:title=\"reduce_subtree(self, tree: DerivationTree, subtree: DerivationTree, depth: int = &#45;1)\">\n",
       "<text text-anchor=\"start\" x=\"191\" y=\"-40.5\" font-family=\"'Fira Mono', 'Source Code Pro', 'Courier', monospace\" font-size=\"10.00\">reduce_subtree()</text>\n",
       "</a>\n",
       "</g>\n",
       "<g id=\"a_node4_16\"><a xlink:href=\"#\" xlink:title=\"reduce_tree(self, tree)\">\n",
       "<text text-anchor=\"start\" x=\"191\" y=\"-29.5\" font-family=\"'Fira Mono', 'Source Code Pro', 'Courier', monospace\" font-size=\"10.00\">reduce_tree()</text>\n",
       "</a>\n",
       "</g>\n",
       "<g id=\"a_node4_17\"><a xlink:href=\"#\" xlink:title=\"subtrees_with_symbol(self, tree: DerivationTree, symbol: str, depth: int = &#45;1, ignore_root: bool = True) &#45;&gt; List[DerivationTree]:&#10;Find all subtrees in `tree` whose root is `symbol`.&#10;If `ignore_root` is true, ignore the root note of `tree`.\">\n",
       "<text text-anchor=\"start\" x=\"191\" y=\"-18.5\" font-family=\"'Fira Mono', 'Source Code Pro', 'Courier', monospace\" font-size=\"10.00\">subtrees_with_symbol()</text>\n",
       "</a>\n",
       "</g>\n",
       "<g id=\"a_node4_18\"><a xlink:href=\"#\" xlink:title=\"symbol_reductions(self, tree: DerivationTree, symbol: str, depth: int = &#45;1):&#10;Find all expansion alternatives for the given symbol\">\n",
       "<text text-anchor=\"start\" x=\"191\" y=\"-7.5\" font-family=\"'Fira Mono', 'Source Code Pro', 'Courier', monospace\" font-size=\"10.00\">symbol_reductions()</text>\n",
       "</a>\n",
       "</g>\n",
       "</a>\n",
       "</g>\n",
       "</a>\n",
       "</g>\n",
       "</g>\n",
       "<!-- GrammarReducer&#45;&gt;CachingReducer -->\n",
       "<g id=\"edge3\" class=\"edge\">\n",
       "<title>GrammarReducer&#45;&gt;CachingReducer</title>\n",
       "<path fill=\"none\" stroke=\"black\" d=\"M214.29,-119.73C207.19,-129.49 200.04,-139.32 193.59,-148.19\"/>\n",
       "<polygon fill=\"none\" stroke=\"black\" points=\"190.69,-146.22 187.64,-156.37 196.36,-150.34 190.69,-146.22\"/>\n",
       "</g>\n",
       "<!-- Legend -->\n",
       "<g id=\"node5\" class=\"node\">\n",
       "<title>Legend</title>\n",
       "<text text-anchor=\"start\" x=\"350\" y=\"-77.5\" font-family=\"Patua One, Helvetica, sans-serif\" font-weight=\"bold\" font-size=\"10.00\" fill=\"#b03a2e\">Legend</text>\n",
       "<text text-anchor=\"start\" x=\"350\" y=\"-67.5\" font-family=\"Patua One, Helvetica, sans-serif\" font-size=\"10.00\">• </text>\n",
       "<text text-anchor=\"start\" x=\"357\" y=\"-67.5\" font-family=\"'Fira Mono', 'Source Code Pro', 'Courier', monospace\" font-weight=\"bold\" font-size=\"8.00\">public_method()</text>\n",
       "<text text-anchor=\"start\" x=\"350\" y=\"-57.5\" font-family=\"Patua One, Helvetica, sans-serif\" font-size=\"10.00\">• </text>\n",
       "<text text-anchor=\"start\" x=\"357\" y=\"-57.5\" font-family=\"'Fira Mono', 'Source Code Pro', 'Courier', monospace\" font-size=\"8.00\">private_method()</text>\n",
       "<text text-anchor=\"start\" x=\"350\" y=\"-47.5\" font-family=\"Patua One, Helvetica, sans-serif\" font-size=\"10.00\">• </text>\n",
       "<text text-anchor=\"start\" x=\"357\" y=\"-47.5\" font-family=\"'Fira Mono', 'Source Code Pro', 'Courier', monospace\" font-style=\"italic\" font-size=\"8.00\">overloaded_method()</text>\n",
       "<text text-anchor=\"start\" x=\"350\" y=\"-38.3\" font-family=\"Helvetica,sans-Serif\" font-size=\"9.00\">Hover over names to see doc</text>\n",
       "</g>\n",
       "</g>\n",
       "</svg>\n"
      ],
      "text/plain": [
       "<graphviz.graphs.Digraph at 0x1167f9b70>"
      ]
     },
     "execution_count": 95,
     "metadata": {},
     "output_type": "execute_result"
    }
   ],
   "source": [
    "# ignore\n",
    "display_class_hierarchy([DeltaDebuggingReducer, GrammarReducer],\n",
    "                        public_methods=[\n",
    "                            Reducer.__init__,\n",
    "                            Reducer.reset,\n",
    "                            Reducer.reduce,\n",
    "                            DeltaDebuggingReducer.reduce,\n",
    "                            GrammarReducer.__init__,\n",
    "                            GrammarReducer.reduce,\n",
    "                        ],\n",
    "                        types={\n",
    "                            'DerivationTree': DerivationTree,\n",
    "                            'Grammar': Grammar,\n",
    "                            'Outcome': Outcome,\n",
    "                        },\n",
    "                        project='fuzzingbook')"
   ]
  },
  {
   "cell_type": "markdown",
   "metadata": {
    "button": false,
    "new_sheet": true,
    "run_control": {
     "read_only": false
    },
    "slideshow": {
     "slide_type": "slide"
    }
   },
   "source": [
    "## Lessons Learned\n",
    "\n",
    "* Reducing failure-inducing inputs to a minimum is helpful for testing and debugging.\n",
    "* _Delta debugging_ is a simple and robust algorithm to easily reduce test cases.\n",
    "* For syntactically complex inputs, _grammar-based reduction_ is much faster and yields better results."
   ]
  },
  {
   "cell_type": "markdown",
   "metadata": {
    "button": false,
    "new_sheet": false,
    "run_control": {
     "read_only": false
    },
    "slideshow": {
     "slide_type": "slide"
    }
   },
   "source": [
    "## Next Steps\n",
    "\n",
    "Our next chapter focuses on [Web GUI Fuzzing](WebFuzzer.ipynb), another domain where generating and reducing test cases is central."
   ]
  },
  {
   "cell_type": "markdown",
   "metadata": {
    "slideshow": {
     "slide_type": "slide"
    }
   },
   "source": [
    "## Background\n",
    "\n",
    "The \"lexical\" delta debugging algorithm discussed here stems from \\cite{Zeller2002}; actually, this is the exact Python implementation as used by Zeller in 2002.  The idea of systematically reducing inputs has been discovered a number of times, although not as  automatic and generic as delta debugging. \\cite{Slutz1998}, for instance, discusses systematic reduction of SQL statements for SQL databases; the general process as manual work is well described by \\cite{Kernighan1999}."
   ]
  },
  {
   "cell_type": "markdown",
   "metadata": {
    "slideshow": {
     "slide_type": "subslide"
    }
   },
   "source": [
    "The deficits of delta debugging as it comes to syntactically complex inputs were first discussed in *compiler testing*, and _reducing tree inputs_ rather than string inputs was quickly discovered as an alternative.  *Hierarchical Delta Debugging* (*HDD*) \\cite{Misherghi2006} applies delta debugging on subtrees of a parse tree, systematically reducing a parse tree to a minimum.  _Generalized Tree Reduction_ \\cite{Herfert2017} generalizes this idea to apply arbitrary _patterns_ such as replacing a term by a compatible term in a subtree, as `subtrees_with_symbol()` does.  Using _grammars_ to reduce inputs was first implemented in the _Perses_ tool \\cite{Sun2018}; our algorithm implements very similar strategies.  Searching for alternate expansions (as `alternate_reductions()`) is a contribution of the present chapter."
   ]
  },
  {
   "cell_type": "markdown",
   "metadata": {
    "slideshow": {
     "slide_type": "subslide"
    }
   },
   "source": [
    "While applying delta debugging to code lines does a decent job, _syntactic_ and especially _language-specific_ approaches can do a much better job for the programming language at hand:\n",
    "\n",
    "* *C-Reduce* \\cite{Regehr2012} is a reducer specifically targeting the reduction of programming languages.  Besides reductions in the style of delta debugging or tree transformations, C-Reduce comes with more than 30 source-to-source transformations that replace aggregates by scalars, remove function parameters at a definition and all call sites, change functions to return `void` and deleting all `return` statements, and many more.  While specifically instantiated for the C language (and used for testing C compilers), these principles extend to arbitrary programming languages following an ALGOL-like syntax.\n",
    "\n",
    "* Kalhauge and Palsberg \\cite{Kalhauge2019} introduce *binary reduction of dependency graphs*, a general solution for reducing arbitrary inputs with dependencies. Their *J-Reduce* tool specifically targets Java programs, and again is much faster than delta debugging and achieves a higher reduction rate."
   ]
  },
  {
   "cell_type": "markdown",
   "metadata": {
    "slideshow": {
     "slide_type": "subslide"
    }
   },
   "source": [
    "Reducing inputs also works well in the context of _property-based testing_; that is, generating data structures for individual functions, which can then be reduced (\"shrunk\") upon failure. The [Hypothesis](https://hypothesis.works) fuzzer has a number of type-specific shrinking strategies; this [blog article](https://hypothesis.works/articles/integrated-shrinking/) discusses some of its features."
   ]
  },
  {
   "cell_type": "markdown",
   "metadata": {
    "slideshow": {
     "slide_type": "subslide"
    }
   },
   "source": [
    "The chapter on [\"Reducing Failure-Inducing Inputs\" in the Debugging Book](https://www.debuggingbook.org/html/DeltaDebugger.html) has an alternate implementation `DeltaDebugger` of delta debugging that is even easier to deploy; here, one simply writes\n",
    "\n",
    "```python\n",
    "with DeltaDebugger() as dd:\n",
    "    fun(args...)\n",
    "dd\n",
    "```\n",
    "\n",
    "to reduce the input in `args` for a failing (exception-throwing) function `fun()`. The chapter also  discusses further usage examples, including reducing _code_ to a minimum."
   ]
  },
  {
   "cell_type": "markdown",
   "metadata": {
    "slideshow": {
     "slide_type": "subslide"
    }
   },
   "source": [
    "This [blog post](https://www.drmaciver.com/2019/01/notes-on-test-case-reduction/) by David McIver contains lots of insights on how to apply reduction in practice, in particular multiple runs with different abstraction levels."
   ]
  },
  {
   "cell_type": "markdown",
   "metadata": {
    "button": false,
    "new_sheet": true,
    "run_control": {
     "read_only": false
    },
    "slideshow": {
     "slide_type": "slide"
    }
   },
   "source": [
    "## Exercises\n",
    "\n",
    "How to best reduce inputs is still an underdeveloped field of research, with lots of opportunities."
   ]
  },
  {
   "cell_type": "markdown",
   "metadata": {
    "button": false,
    "new_sheet": false,
    "run_control": {
     "read_only": false
    },
    "slideshow": {
     "slide_type": "subslide"
    },
    "solution2": "hidden",
    "solution2_first": true
   },
   "source": [
    "### Exercise 1: Mutation-Based Fuzzing with Reduction\n",
    "\n",
    "When fuzzing with a population, it can be useful to occasionally _reduce_ the length of each element, such that future descendants are shorter, too, which typically speeds up their testing.\n",
    "\n",
    "Consider the `MutationFuzzer` class from [the chapter on mutation-based fuzzing](MutationFuzzer.ipynb). \n",
    "Extend it such that whenever a new input is added to the population, it is first reduced using delta debugging."
   ]
  },
  {
   "cell_type": "markdown",
   "metadata": {
    "slideshow": {
     "slide_type": "skip"
    },
    "solution2": "hidden"
   },
   "source": [
    "**Solution.** Left to the reader."
   ]
  },
  {
   "cell_type": "markdown",
   "metadata": {
    "button": false,
    "new_sheet": false,
    "run_control": {
     "read_only": false
    },
    "slideshow": {
     "slide_type": "subslide"
    },
    "solution": "hidden",
    "solution2": "hidden",
    "solution2_first": true,
    "solution_first": true
   },
   "source": [
    "### Exercise 2: Reduction by Production\n",
    "\n",
    "Grammar-based input reduction, as sketched above, might be a good algorithm, but is by no means the only alternative.  One interesting question is whether \"reduction\" should only be limited to elements already present, or whether one would be allowed to also create _new_ elements.  These would not be present in the original input, yet still allow to produce a much smaller input that would still reproduce the original failure."
   ]
  },
  {
   "cell_type": "markdown",
   "metadata": {
    "button": false,
    "new_sheet": false,
    "run_control": {
     "read_only": false
    },
    "slideshow": {
     "slide_type": "subslide"
    },
    "solution": "hidden",
    "solution2": "hidden",
    "solution2_first": true,
    "solution_first": true
   },
   "source": [
    "As an example, consider the following grammar:\n",
    "\n",
    "```\n",
    "<number> ::= <float> | <integer> | <not-a-number>\n",
    "<float> ::= <digits>.<digits>\n",
    "<integer> ::= <digits>\n",
    "<not-a-number> ::= NaN\n",
    "<digits> ::= [0-9]+\n",
    "```\n",
    "\n",
    "Assume the input `100.99` fails.  We might be able to reduce it to a minimum of, say, `1.9`.  However, we cannot reduce it to an `<integer>` or to `<not-a-number>`, as these symbols do not occur in the original input.  By allowing to _create_ alternatives for these symbols, we could also tests inputs such as `1` or `NaN` and further generalize the class of inputs for which the program fails."
   ]
  },
  {
   "cell_type": "markdown",
   "metadata": {
    "button": false,
    "new_sheet": false,
    "run_control": {
     "read_only": false
    },
    "slideshow": {
     "slide_type": "subslide"
    },
    "solution": "hidden",
    "solution2": "hidden",
    "solution2_first": true,
    "solution_first": true
   },
   "source": [
    "Create a class `GenerativeGrammarReducer` as subclass of `GrammarReducer`; extend the method `reduce_subtree()` accordingly."
   ]
  },
  {
   "cell_type": "markdown",
   "metadata": {
    "button": false,
    "new_sheet": false,
    "run_control": {
     "read_only": false
    },
    "slideshow": {
     "slide_type": "skip"
    },
    "solution": "hidden",
    "solution2": "hidden"
   },
   "source": [
    "**Solution.** Left to the reader."
   ]
  },
  {
   "cell_type": "markdown",
   "metadata": {
    "button": false,
    "new_sheet": false,
    "run_control": {
     "read_only": false
    },
    "slideshow": {
     "slide_type": "subslide"
    },
    "solution": "hidden",
    "solution2": "hidden",
    "solution2_first": true,
    "solution_first": true
   },
   "source": [
    "### Exercise 3: The Big Reduction Shoot-Out\n",
    "\n",
    "Create a _benchmark_ for the grammars already defined earlier, consisting of:\n",
    "\n",
    "1. A set of _inputs_, produced from these very grammars using `GrammarFuzzer` and derivatives;\n",
    "2. A set of _tests_ which check for the occurrence of individual symbols as well as pairs and triples of these symbols:\n",
    "    * Tests should be _unresolved_ if the input is not syntactically valid;\n",
    "    * Tests should _fail_ if the symbols (or pairs or triples thereof) occur;\n",
    "    * Tests should _pass_ in all other cases.\n",
    "    \n",
    "Compare delta debugging and grammar-based debugging on the benchmark.  Implement HDD \\cite{Misherghi2006} and _Generalized Tree Reduction_ \\cite{Herfert2017} and add them to your comparison.  Which approach performs best, and under which circumstances?"
   ]
  },
  {
   "cell_type": "markdown",
   "metadata": {
    "button": false,
    "new_sheet": false,
    "run_control": {
     "read_only": false
    },
    "slideshow": {
     "slide_type": "skip"
    },
    "solution": "hidden",
    "solution2": "hidden"
   },
   "source": [
    "**Solution.** Left to the reader."
   ]
  }
 ],
 "metadata": {
  "ipub": {
   "bibliography": "fuzzingbook.bib",
   "toc": true
  },
  "kernelspec": {
   "display_name": "Python 3 (ipykernel)",
   "language": "python",
   "name": "python3"
  },
  "language_info": {
   "codemirror_mode": {
    "name": "ipython",
    "version": 3
   },
   "file_extension": ".py",
   "mimetype": "text/x-python",
   "name": "python",
   "nbconvert_exporter": "python",
   "pygments_lexer": "ipython3",
   "version": "3.10.2"
  },
  "toc": {
   "base_numbering": 1,
   "nav_menu": {},
   "number_sections": true,
   "sideBar": true,
   "skip_h1_title": true,
   "title_cell": "",
   "title_sidebar": "Contents",
   "toc_cell": false,
   "toc_position": {},
   "toc_section_display": true,
   "toc_window_display": true
  },
  "toc-autonumbering": false,
  "varInspector": {
   "cols": {
    "lenName": 16,
    "lenType": 16,
    "lenVar": 40
   },
   "kernels_config": {
    "python": {
     "delete_cmd_postfix": "",
     "delete_cmd_prefix": "del ",
     "library": "var_list.py",
     "varRefreshCmd": "print(var_dic_list())"
    },
    "r": {
     "delete_cmd_postfix": ") ",
     "delete_cmd_prefix": "rm(",
     "library": "var_list.r",
     "varRefreshCmd": "cat(var_dic_list()) "
    }
   },
   "types_to_exclude": [
    "module",
    "function",
    "builtin_function_or_method",
    "instance",
    "_Feature"
   ],
   "window_display": false
  }
 },
 "nbformat": 4,
 "nbformat_minor": 4
}