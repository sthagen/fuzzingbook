{
 "cells": [
  {
   "cell_type": "markdown",
   "metadata": {
    "button": false,
    "new_sheet": true,
    "run_control": {
     "read_only": false
    },
    "slideshow": {
     "slide_type": "slide"
    }
   },
   "source": [
    "# Efficient Grammar Fuzzing\n",
    "\n",
    "In the [chapter on grammars](Grammars.ipynb), we have seen how to use _grammars_ for very effective and efficient testing.  In this chapter, we refine the previous _string-based_ algorithm into a _tree-based_ algorithm, which is much faster and allows for much more control over the production of fuzz inputs."
   ]
  },
  {
   "cell_type": "markdown",
   "metadata": {
    "button": false,
    "new_sheet": true,
    "run_control": {
     "read_only": false
    },
    "slideshow": {
     "slide_type": "skip"
    }
   },
   "source": [
    "The algorithm in this chapter serves as a foundation for several more techniques; this chapter thus is a \"hub\" in the book."
   ]
  },
  {
   "cell_type": "code",
   "execution_count": 1,
   "metadata": {
    "execution": {
     "iopub.execute_input": "2024-06-29T16:13:01.339997Z",
     "iopub.status.busy": "2024-06-29T16:13:01.339886Z",
     "iopub.status.idle": "2024-06-29T16:13:01.379259Z",
     "shell.execute_reply": "2024-06-29T16:13:01.378951Z"
    },
    "slideshow": {
     "slide_type": "skip"
    }
   },
   "outputs": [
    {
     "data": {
      "text/html": [
       "\n",
       "        <iframe\n",
       "            width=\"640\"\n",
       "            height=\"360\"\n",
       "            src=\"https://www.youtube-nocookie.com/embed/Ohl8TLcLl3A\"\n",
       "            frameborder=\"0\"\n",
       "            allowfullscreen\n",
       "            \n",
       "        ></iframe>\n",
       "        "
      ],
      "text/plain": [
       "<IPython.lib.display.IFrame at 0x1202fb700>"
      ]
     },
     "execution_count": 1,
     "metadata": {},
     "output_type": "execute_result"
    }
   ],
   "source": [
    "from bookutils import YouTubeVideo\n",
    "YouTubeVideo('Ohl8TLcLl3A')"
   ]
  },
  {
   "cell_type": "markdown",
   "metadata": {
    "button": false,
    "new_sheet": false,
    "run_control": {
     "read_only": false
    },
    "slideshow": {
     "slide_type": "skip"
    }
   },
   "source": [
    "**Prerequisites**\n",
    "\n",
    "* You should know how grammar-based fuzzing works, e.g. from the [chapter on grammars](Grammars.ipynb)."
   ]
  },
  {
   "cell_type": "markdown",
   "metadata": {
    "slideshow": {
     "slide_type": "skip"
    }
   },
   "source": [
    "## Synopsis\n",
    "<!-- Automatically generated. Do not edit. -->\n",
    "\n",
    "To [use the code provided in this chapter](Importing.ipynb), write\n",
    "\n",
    "```python\n",
    ">>> from fuzzingbook.GrammarFuzzer import <identifier>\n",
    "```\n",
    "\n",
    "and then make use of the following features.\n",
    "\n",
    "\n",
    "### Efficient Grammar Fuzzing\n",
    "\n",
    "This chapter introduces `GrammarFuzzer`, an efficient grammar fuzzer that takes a grammar to produce syntactically valid input strings.  Here's a typical usage:\n",
    "\n",
    "```python\n",
    ">>> from Grammars import US_PHONE_GRAMMAR\n",
    ">>> phone_fuzzer = GrammarFuzzer(US_PHONE_GRAMMAR)\n",
    ">>> phone_fuzzer.fuzz()\n",
    "'(883)897-2120'\n",
    "```\n",
    "The `GrammarFuzzer` constructor takes a number of keyword arguments to control its behavior.  `start_symbol`, for instance, allows setting the symbol that expansion starts with (instead of `<start>`):\n",
    "\n",
    "```python\n",
    ">>> area_fuzzer = GrammarFuzzer(US_PHONE_GRAMMAR, start_symbol='<area>')\n",
    ">>> area_fuzzer.fuzz()\n",
    "'809'\n",
    "```\n",
    "Here's how to parameterize the `GrammarFuzzer` constructor:\n",
    "\n",
    "```python\n",
    "Produce strings from `grammar`, starting with `start_symbol`.\n",
    "If `min_nonterminals` or `max_nonterminals` is given, use them as limits \n",
    "for the number of nonterminals produced.  \n",
    "If `disp` is set, display the intermediate derivation trees.\n",
    "If `log` is set, show intermediate steps as text on standard output.\n",
    "\n",
    "```\n",
    "![](PICS/GrammarFuzzer-synopsis-1.svg)\n",
    "\n",
    "### Derivation Trees\n",
    "\n",
    "Internally, `GrammarFuzzer` makes use of [derivation trees](#Derivation-Trees), which it expands step by step.  After producing a string, the tree produced can be accessed in the `derivation_tree` attribute.\n",
    "\n",
    "```python\n",
    ">>> display_tree(phone_fuzzer.derivation_tree)\n",
    "```\n",
    "![](PICS/GrammarFuzzer-synopsis-2.svg)\n",
    "\n",
    "In the internal representation of a derivation tree, a _node_ is a pair (`symbol`, `children`).  For nonterminals, `symbol` is the symbol that is being expanded, and `children` is a list of further nodes.  For terminals, `symbol` is the terminal string, and `children` is empty.\n",
    "\n",
    "```python\n",
    ">>> phone_fuzzer.derivation_tree\n",
    "('<start>',\n",
    " [('<phone-number>',\n",
    "   [('(', []),\n",
    "    ('<area>',\n",
    "     [('<lead-digit>', [('8', [])]),\n",
    "      ('<digit>', [('8', [])]),\n",
    "      ('<digit>', [('3', [])])]),\n",
    "    (')', []),\n",
    "    ('<exchange>',\n",
    "     [('<lead-digit>', [('8', [])]),\n",
    "      ('<digit>', [('9', [])]),\n",
    "      ('<digit>', [('7', [])])]),\n",
    "    ('-', []),\n",
    "    ('<line>',\n",
    "     [('<digit>', [('2', [])]),\n",
    "      ('<digit>', [('1', [])]),\n",
    "      ('<digit>', [('2', [])]),\n",
    "      ('<digit>', [('0', [])])])])])\n",
    "```\n",
    "The chapter contains various helpers to work with derivation trees, including visualization tools – notably, `display_tree()`, above.\n",
    "\n"
   ]
  },
  {
   "cell_type": "markdown",
   "metadata": {
    "slideshow": {
     "slide_type": "slide"
    }
   },
   "source": [
    "## An Insufficient Algorithm\n",
    "\n",
    "In the [previous chapter](Grammars.ipynb), we have introduced the `simple_grammar_fuzzer()` function which takes a grammar and automatically produces a syntactically valid string from it.  However, `simple_grammar_fuzzer()` is just what its name suggests – simple.  To illustrate the problem, let us get back to the `expr_grammar` we created from `EXPR_GRAMMAR_BNF` in the [chapter on grammars](Grammars.ipynb):"
   ]
  },
  {
   "cell_type": "code",
   "execution_count": 2,
   "metadata": {
    "execution": {
     "iopub.execute_input": "2024-06-29T16:13:01.419518Z",
     "iopub.status.busy": "2024-06-29T16:13:01.419345Z",
     "iopub.status.idle": "2024-06-29T16:13:01.421536Z",
     "shell.execute_reply": "2024-06-29T16:13:01.421276Z"
    },
    "slideshow": {
     "slide_type": "skip"
    }
   },
   "outputs": [],
   "source": [
    "import bookutils.setup"
   ]
  },
  {
   "cell_type": "code",
   "execution_count": 3,
   "metadata": {
    "execution": {
     "iopub.execute_input": "2024-06-29T16:13:01.423431Z",
     "iopub.status.busy": "2024-06-29T16:13:01.423300Z",
     "iopub.status.idle": "2024-06-29T16:13:01.425179Z",
     "shell.execute_reply": "2024-06-29T16:13:01.424806Z"
    },
    "slideshow": {
     "slide_type": "skip"
    }
   },
   "outputs": [],
   "source": [
    "from bookutils import quiz"
   ]
  },
  {
   "cell_type": "code",
   "execution_count": 4,
   "metadata": {
    "execution": {
     "iopub.execute_input": "2024-06-29T16:13:01.426668Z",
     "iopub.status.busy": "2024-06-29T16:13:01.426557Z",
     "iopub.status.idle": "2024-06-29T16:13:01.428235Z",
     "shell.execute_reply": "2024-06-29T16:13:01.427981Z"
    },
    "slideshow": {
     "slide_type": "skip"
    }
   },
   "outputs": [],
   "source": [
    "from typing import Tuple, List, Optional, Any, Union, Set, Callable, Dict"
   ]
  },
  {
   "cell_type": "code",
   "execution_count": 5,
   "metadata": {
    "execution": {
     "iopub.execute_input": "2024-06-29T16:13:01.429701Z",
     "iopub.status.busy": "2024-06-29T16:13:01.429600Z",
     "iopub.status.idle": "2024-06-29T16:13:01.431496Z",
     "shell.execute_reply": "2024-06-29T16:13:01.431221Z"
    },
    "slideshow": {
     "slide_type": "skip"
    }
   },
   "outputs": [],
   "source": [
    "from bookutils import unicode_escape"
   ]
  },
  {
   "cell_type": "code",
   "execution_count": 6,
   "metadata": {
    "execution": {
     "iopub.execute_input": "2024-06-29T16:13:01.433083Z",
     "iopub.status.busy": "2024-06-29T16:13:01.432971Z",
     "iopub.status.idle": "2024-06-29T16:13:01.873973Z",
     "shell.execute_reply": "2024-06-29T16:13:01.873627Z"
    },
    "slideshow": {
     "slide_type": "skip"
    }
   },
   "outputs": [],
   "source": [
    "from Grammars import EXPR_EBNF_GRAMMAR, convert_ebnf_grammar, Grammar, Expansion\n",
    "from Grammars import simple_grammar_fuzzer, is_valid_grammar, exp_string"
   ]
  },
  {
   "cell_type": "code",
   "execution_count": 7,
   "metadata": {
    "execution": {
     "iopub.execute_input": "2024-06-29T16:13:01.875832Z",
     "iopub.status.busy": "2024-06-29T16:13:01.875671Z",
     "iopub.status.idle": "2024-06-29T16:13:01.878383Z",
     "shell.execute_reply": "2024-06-29T16:13:01.878087Z"
    },
    "slideshow": {
     "slide_type": "subslide"
    }
   },
   "outputs": [
    {
     "data": {
      "text/plain": [
       "{'<start>': ['<expr>'],\n",
       " '<expr>': ['<term> + <expr>', '<term> - <expr>', '<term>'],\n",
       " '<term>': ['<factor> * <term>', '<factor> / <term>', '<factor>'],\n",
       " '<factor>': ['<sign-1><factor>', '(<expr>)', '<integer><symbol-1>'],\n",
       " '<sign>': ['+', '-'],\n",
       " '<integer>': ['<digit-1>'],\n",
       " '<digit>': ['0', '1', '2', '3', '4', '5', '6', '7', '8', '9'],\n",
       " '<symbol>': ['.<integer>'],\n",
       " '<sign-1>': ['', '<sign>'],\n",
       " '<symbol-1>': ['', '<symbol>'],\n",
       " '<digit-1>': ['<digit>', '<digit><digit-1>']}"
      ]
     },
     "execution_count": 7,
     "metadata": {},
     "output_type": "execute_result"
    }
   ],
   "source": [
    "expr_grammar = convert_ebnf_grammar(EXPR_EBNF_GRAMMAR)\n",
    "expr_grammar"
   ]
  },
  {
   "cell_type": "markdown",
   "metadata": {
    "slideshow": {
     "slide_type": "subslide"
    }
   },
   "source": [
    "`expr_grammar` has an interesting property.  If we feed it into `simple_grammar_fuzzer()`, the function gets stuck:"
   ]
  },
  {
   "cell_type": "code",
   "execution_count": 8,
   "metadata": {
    "execution": {
     "iopub.execute_input": "2024-06-29T16:13:01.879989Z",
     "iopub.status.busy": "2024-06-29T16:13:01.879881Z",
     "iopub.status.idle": "2024-06-29T16:13:01.881568Z",
     "shell.execute_reply": "2024-06-29T16:13:01.881273Z"
    },
    "slideshow": {
     "slide_type": "skip"
    }
   },
   "outputs": [],
   "source": [
    "from ExpectError import ExpectTimeout"
   ]
  },
  {
   "cell_type": "code",
   "execution_count": 9,
   "metadata": {
    "execution": {
     "iopub.execute_input": "2024-06-29T16:13:01.883096Z",
     "iopub.status.busy": "2024-06-29T16:13:01.882982Z",
     "iopub.status.idle": "2024-06-29T16:13:02.888677Z",
     "shell.execute_reply": "2024-06-29T16:13:02.888395Z"
    },
    "slideshow": {
     "slide_type": "fragment"
    }
   },
   "outputs": [
    {
     "name": "stderr",
     "output_type": "stream",
     "text": [
      "Traceback (most recent call last):\n",
      "  File \"/var/folders/n2/xd9445p97rb3xh7m1dfx8_4h0006ts/T/ipykernel_92000/3259437052.py\", line 2, in <cell line: 1>\n",
      "    simple_grammar_fuzzer(grammar=expr_grammar, max_nonterminals=3)\n",
      "  File \"/Users/zeller/Projects/fuzzingbook/notebooks/Grammars.ipynb\", line 86, in simple_grammar_fuzzer\n",
      "    while len(nonterminals(term)) > 0:\n",
      "  File \"/Users/zeller/Projects/fuzzingbook/notebooks/Grammars.ipynb\", line 61, in nonterminals\n",
      "    return RE_NONTERMINAL.findall(expansion)\n",
      "  File \"/Users/zeller/Projects/fuzzingbook/notebooks/Timeout.ipynb\", line 43, in timeout_handler\n",
      "    raise TimeoutError()\n",
      "TimeoutError (expected)\n"
     ]
    }
   ],
   "source": [
    "with ExpectTimeout(1):\n",
    "    simple_grammar_fuzzer(grammar=expr_grammar, max_nonterminals=3)"
   ]
  },
  {
   "cell_type": "markdown",
   "metadata": {
    "slideshow": {
     "slide_type": "subslide"
    }
   },
   "source": [
    "Why is that so?  Have a look at the grammar; remember what you know about `simple_grammar_fuzzer()`; and run `simple_grammar_fuzzer()` with `log=true` argument to see the expansions."
   ]
  },
  {
   "cell_type": "code",
   "execution_count": 10,
   "metadata": {
    "execution": {
     "iopub.execute_input": "2024-06-29T16:13:02.890329Z",
     "iopub.status.busy": "2024-06-29T16:13:02.890202Z",
     "iopub.status.idle": "2024-06-29T16:13:02.894926Z",
     "shell.execute_reply": "2024-06-29T16:13:02.894636Z"
    },
    "slideshow": {
     "slide_type": "fragment"
    }
   },
   "outputs": [
    {
     "data": {
      "text/html": [
       "\n",
       "    \n",
       "    <script>\n",
       "    var bad_answers = new Map();\n",
       "\n",
       "    function answer(quiz_id) {\n",
       "        ans = 0;\n",
       "        for (i = 1;; i++) {\n",
       "            checkbox = document.getElementById(quiz_id + \"-\" + i.toString());\n",
       "            if (!checkbox)\n",
       "                break;\n",
       "            if (checkbox.checked)\n",
       "                ans |= (1 << i);\n",
       "        }\n",
       "        return ans;\n",
       "    }\n",
       "    function check_selection(quiz_id, correct_answer, multiple_choice, hint) {\n",
       "        given_answer = answer(quiz_id);\n",
       "        if (given_answer == correct_answer)\n",
       "        {\n",
       "            document.getElementById(quiz_id + \"-submit\").value = \"Correct!\";\n",
       "            document.getElementById(quiz_id + \"-hint\").innerHTML = \"\";\n",
       "\n",
       "            for (i = 1;; i++) {\n",
       "                checkbox = document.getElementById(quiz_id + \"-\" + i.toString());\n",
       "                label = document.getElementById(quiz_id + \"-\" + i.toString() + \"-label\")\n",
       "                if (!checkbox)\n",
       "                    break;\n",
       "    \n",
       "                if (checkbox.checked) {\n",
       "                    label.style.fontWeight = \"bold\";\n",
       "                }\n",
       "                else {\n",
       "                    label.style.textDecoration = \"line-through\";\n",
       "                }\n",
       "            }\n",
       "        }\n",
       "        else \n",
       "        {\n",
       "            document.getElementById(quiz_id + \"-submit\").value = \"Try again\";\n",
       "            \n",
       "            if (!bad_answers.has(quiz_id)) {\n",
       "                bad_answers.set(quiz_id, 1);\n",
       "            }\n",
       "            else {\n",
       "                bad_answers.set(quiz_id, bad_answers.get(quiz_id) + 1);\n",
       "            }\n",
       "\n",
       "            if (bad_answers.get(quiz_id) >= 2 && hint.length > 0) {\n",
       "                document.getElementById(quiz_id + \"-hint\").innerHTML = \n",
       "                    \"&nbsp;&nbsp;(Hint: <code>\" + hint + \"</code>)\";\n",
       "            }\n",
       "\n",
       "            if (!multiple_choice) {\n",
       "                for (i = 1;; i++) {\n",
       "                    checkbox = document.getElementById(quiz_id + \"-\" + i.toString());\n",
       "                    label = document.getElementById(quiz_id + \"-\" + i.toString() + \"-label\")\n",
       "\n",
       "                    if (!checkbox)\n",
       "                        break;\n",
       "                    if (checkbox.checked) {\n",
       "                        label.style.textDecoration = \"line-through\";\n",
       "                    }\n",
       "                }\n",
       "            }\n",
       "        }\n",
       "    }\n",
       "    function clear_selection(quiz_id) {\n",
       "        document.getElementById(quiz_id + \"-submit\").value = \"Submit\";\n",
       "        document.getElementById(quiz_id + \"-hint\").innerHTML = \"\";\n",
       "    }\n",
       "    </script>\n",
       "    \n",
       "    <div class=\"quiz\">\n",
       "    <h3 class=\"quiz_title\">Quiz</h3>\n",
       "    <p>\n",
       "    <div class=\"quiz_question\">Why does <code>simple_grammar_fuzzer()</code> hang?</div>\n",
       "    </p>\n",
       "    <p>\n",
       "    <div class=\"quiz_options\" title=\"Pick a choice.\">\n",
       "    \n",
       "        <input type=\"radio\" name=\"7611a9de-3632-11ef-8884-6298cf1a578f\" id=\"7611a9de-3632-11ef-8884-6298cf1a578f-1\" onclick=\"clear_selection('7611a9de-3632-11ef-8884-6298cf1a578f')\">\n",
       "        <label id=\"7611a9de-3632-11ef-8884-6298cf1a578f-1-label\" for=\"7611a9de-3632-11ef-8884-6298cf1a578f-1\">It produces an infinite number of additions</label><br>\n",
       "    \n",
       "        <input type=\"radio\" name=\"7611a9de-3632-11ef-8884-6298cf1a578f\" id=\"7611a9de-3632-11ef-8884-6298cf1a578f-2\" onclick=\"clear_selection('7611a9de-3632-11ef-8884-6298cf1a578f')\">\n",
       "        <label id=\"7611a9de-3632-11ef-8884-6298cf1a578f-2-label\" for=\"7611a9de-3632-11ef-8884-6298cf1a578f-2\">It produces an infinite number of digits</label><br>\n",
       "    \n",
       "        <input type=\"radio\" name=\"7611a9de-3632-11ef-8884-6298cf1a578f\" id=\"7611a9de-3632-11ef-8884-6298cf1a578f-3\" onclick=\"clear_selection('7611a9de-3632-11ef-8884-6298cf1a578f')\">\n",
       "        <label id=\"7611a9de-3632-11ef-8884-6298cf1a578f-3-label\" for=\"7611a9de-3632-11ef-8884-6298cf1a578f-3\">It produces an infinite number of parentheses</label><br>\n",
       "    \n",
       "        <input type=\"radio\" name=\"7611a9de-3632-11ef-8884-6298cf1a578f\" id=\"7611a9de-3632-11ef-8884-6298cf1a578f-4\" onclick=\"clear_selection('7611a9de-3632-11ef-8884-6298cf1a578f')\">\n",
       "        <label id=\"7611a9de-3632-11ef-8884-6298cf1a578f-4-label\" for=\"7611a9de-3632-11ef-8884-6298cf1a578f-4\">It produces an infinite number of signs</label><br>\n",
       "    \n",
       "    </div>\n",
       "    </p>\n",
       "    <input id=\"7611a9de-3632-11ef-8884-6298cf1a578f-submit\" type=\"submit\" value=\"Submit\" onclick=\"check_selection('7611a9de-3632-11ef-8884-6298cf1a578f', 8, 0, '(3 * 3 * 3) ** (3 / (3 * 3))')\">\n",
       "    <span class=\"quiz_hint\" id=\"7611a9de-3632-11ef-8884-6298cf1a578f-hint\"></span>\n",
       "    </div>\n",
       "    "
      ],
      "text/plain": [
       "<IPython.core.display.HTML object>"
      ]
     },
     "execution_count": 10,
     "metadata": {},
     "output_type": "execute_result"
    }
   ],
   "source": [
    "quiz(\"Why does `simple_grammar_fuzzer()` hang?\",\n",
    "     [\n",
    "         \"It produces an infinite number of additions\",\n",
    "         \"It produces an infinite number of digits\",\n",
    "         \"It produces an infinite number of parentheses\",\n",
    "         \"It produces an infinite number of signs\",\n",
    "     ], '(3 * 3 * 3) ** (3 / (3 * 3))')"
   ]
  },
  {
   "cell_type": "markdown",
   "metadata": {
    "slideshow": {
     "slide_type": "subslide"
    }
   },
   "source": [
    "Indeed! The problem is in this rule:"
   ]
  },
  {
   "cell_type": "code",
   "execution_count": 11,
   "metadata": {
    "execution": {
     "iopub.execute_input": "2024-06-29T16:13:02.896499Z",
     "iopub.status.busy": "2024-06-29T16:13:02.896401Z",
     "iopub.status.idle": "2024-06-29T16:13:02.898674Z",
     "shell.execute_reply": "2024-06-29T16:13:02.898403Z"
    },
    "slideshow": {
     "slide_type": "fragment"
    }
   },
   "outputs": [
    {
     "data": {
      "text/plain": [
       "['<sign-1><factor>', '(<expr>)', '<integer><symbol-1>']"
      ]
     },
     "execution_count": 11,
     "metadata": {},
     "output_type": "execute_result"
    }
   ],
   "source": [
    "expr_grammar['<factor>']"
   ]
  },
  {
   "cell_type": "markdown",
   "metadata": {
    "slideshow": {
     "slide_type": "fragment"
    }
   },
   "source": [
    "Here, any choice except for `(expr)` increases the number of symbols, even if only temporary.  Since we place a hard limit on the number of symbols to expand, the only choice left for expanding `<factor>` is `(<expr>)`, which leads to an _infinite addition of parentheses._"
   ]
  },
  {
   "cell_type": "markdown",
   "metadata": {
    "button": false,
    "new_sheet": false,
    "run_control": {
     "read_only": false
    },
    "slideshow": {
     "slide_type": "subslide"
    }
   },
   "source": [
    "The problem of potentially infinite expansion is only one of the problems with `simple_grammar_fuzzer()`.  More problems include:\n",
    "\n",
    "1. *It is inefficient*.  With each iteration, this fuzzer would go search the string produced so far for symbols to expand.  This becomes inefficient as the production string grows.\n",
    "\n",
    "2. *It is hard to control.*  Even while limiting the number of symbols, it is still possible to obtain very long strings – and even infinitely long ones, as discussed above.\n",
    "\n",
    "Let us illustrate both problems by plotting the time required for strings of different lengths."
   ]
  },
  {
   "cell_type": "code",
   "execution_count": 12,
   "metadata": {
    "button": false,
    "execution": {
     "iopub.execute_input": "2024-06-29T16:13:02.900313Z",
     "iopub.status.busy": "2024-06-29T16:13:02.900200Z",
     "iopub.status.idle": "2024-06-29T16:13:02.901812Z",
     "shell.execute_reply": "2024-06-29T16:13:02.901560Z"
    },
    "new_sheet": false,
    "run_control": {
     "read_only": false
    },
    "slideshow": {
     "slide_type": "skip"
    }
   },
   "outputs": [],
   "source": [
    "from Grammars import simple_grammar_fuzzer"
   ]
  },
  {
   "cell_type": "code",
   "execution_count": 13,
   "metadata": {
    "button": false,
    "execution": {
     "iopub.execute_input": "2024-06-29T16:13:02.903247Z",
     "iopub.status.busy": "2024-06-29T16:13:02.903165Z",
     "iopub.status.idle": "2024-06-29T16:13:02.904895Z",
     "shell.execute_reply": "2024-06-29T16:13:02.904644Z"
    },
    "new_sheet": false,
    "run_control": {
     "read_only": false
    },
    "slideshow": {
     "slide_type": "skip"
    }
   },
   "outputs": [],
   "source": [
    "from Grammars import START_SYMBOL, EXPR_GRAMMAR, URL_GRAMMAR, CGI_GRAMMAR"
   ]
  },
  {
   "cell_type": "code",
   "execution_count": 14,
   "metadata": {
    "button": false,
    "execution": {
     "iopub.execute_input": "2024-06-29T16:13:02.906628Z",
     "iopub.status.busy": "2024-06-29T16:13:02.906336Z",
     "iopub.status.idle": "2024-06-29T16:13:02.908162Z",
     "shell.execute_reply": "2024-06-29T16:13:02.907922Z"
    },
    "new_sheet": false,
    "run_control": {
     "read_only": false
    },
    "slideshow": {
     "slide_type": "skip"
    }
   },
   "outputs": [],
   "source": [
    "from Grammars import RE_NONTERMINAL, nonterminals, is_nonterminal"
   ]
  },
  {
   "cell_type": "code",
   "execution_count": 15,
   "metadata": {
    "button": false,
    "execution": {
     "iopub.execute_input": "2024-06-29T16:13:02.909663Z",
     "iopub.status.busy": "2024-06-29T16:13:02.909559Z",
     "iopub.status.idle": "2024-06-29T16:13:02.911125Z",
     "shell.execute_reply": "2024-06-29T16:13:02.910877Z"
    },
    "new_sheet": false,
    "run_control": {
     "read_only": false
    },
    "slideshow": {
     "slide_type": "skip"
    }
   },
   "outputs": [],
   "source": [
    "from Timer import Timer"
   ]
  },
  {
   "cell_type": "code",
   "execution_count": 16,
   "metadata": {
    "button": false,
    "execution": {
     "iopub.execute_input": "2024-06-29T16:13:02.912542Z",
     "iopub.status.busy": "2024-06-29T16:13:02.912447Z",
     "iopub.status.idle": "2024-06-29T16:13:11.985987Z",
     "shell.execute_reply": "2024-06-29T16:13:11.985617Z"
    },
    "new_sheet": false,
    "run_control": {
     "read_only": false
    },
    "slideshow": {
     "slide_type": "subslide"
    }
   },
   "outputs": [
    {
     "name": "stdout",
     "output_type": "stream",
     "text": [
      "0 1 2 3 4 5 6 7 8 9 10 11 12 13 14 15 16 17 18 19 20 21 22 23 24 25 26 27 28 29 30 31 32 33 34 35 36 37 38 39 40 41 42 43 44 45 46 47 48 49 \n"
     ]
    }
   ],
   "source": [
    "trials = 50\n",
    "xs = []\n",
    "ys = []\n",
    "for i in range(trials):\n",
    "    with Timer() as t:\n",
    "        s = simple_grammar_fuzzer(EXPR_GRAMMAR, max_nonterminals=15)\n",
    "    xs.append(len(s))\n",
    "    ys.append(t.elapsed_time())\n",
    "    print(i, end=\" \")\n",
    "print()"
   ]
  },
  {
   "cell_type": "code",
   "execution_count": 17,
   "metadata": {
    "button": false,
    "execution": {
     "iopub.execute_input": "2024-06-29T16:13:11.988108Z",
     "iopub.status.busy": "2024-06-29T16:13:11.987781Z",
     "iopub.status.idle": "2024-06-29T16:13:11.990152Z",
     "shell.execute_reply": "2024-06-29T16:13:11.989858Z"
    },
    "new_sheet": false,
    "run_control": {
     "read_only": false
    },
    "slideshow": {
     "slide_type": "subslide"
    }
   },
   "outputs": [
    {
     "name": "stdout",
     "output_type": "stream",
     "text": [
      "Average time: 0.18132523506017606\n"
     ]
    }
   ],
   "source": [
    "average_time = sum(ys) / trials\n",
    "print(\"Average time:\", average_time)"
   ]
  },
  {
   "cell_type": "code",
   "execution_count": 18,
   "metadata": {
    "button": false,
    "execution": {
     "iopub.execute_input": "2024-06-29T16:13:11.991642Z",
     "iopub.status.busy": "2024-06-29T16:13:11.991527Z",
     "iopub.status.idle": "2024-06-29T16:13:12.098948Z",
     "shell.execute_reply": "2024-06-29T16:13:12.098641Z"
    },
    "new_sheet": false,
    "run_control": {
     "read_only": false
    },
    "slideshow": {
     "slide_type": "fragment"
    }
   },
   "outputs": [
    {
     "data": {
      "image/png": "[encoded data removed]",
      "text/plain": [
       "<Figure size 640x480 with 1 Axes>"
      ]
     },
     "metadata": {},
     "output_type": "display_data"
    }
   ],
   "source": [
    "%matplotlib inline\n",
    "\n",
    "import matplotlib.pyplot as plt\n",
    "plt.scatter(xs, ys)\n",
    "plt.title('Time required for generating an output');"
   ]
  },
  {
   "attachments": {},
   "cell_type": "markdown",
   "metadata": {
    "button": false,
    "new_sheet": false,
    "run_control": {
     "read_only": false
    },
    "slideshow": {
     "slide_type": "fragment"
    }
   },
   "source": [
    "We see that (1) the time needed to generate an output increases quadratically with the length of that output, and that (2) a large portion of the produced outputs are tens of thousands of characters long."
   ]
  },
  {
   "cell_type": "markdown",
   "metadata": {
    "slideshow": {
     "slide_type": "subslide"
    }
   },
   "source": [
    "To address these problems, we need a _smarter algorithm_ – one that is more efficient, that gets us better control over expansions, and that is able to foresee in `expr_grammar` that the `(expr)` alternative yields a potentially infinite expansion, in contrast to the other two."
   ]
  },
  {
   "cell_type": "markdown",
   "metadata": {
    "button": false,
    "new_sheet": false,
    "run_control": {
     "read_only": false
    },
    "slideshow": {
     "slide_type": "slide"
    }
   },
   "source": [
    "## Derivation Trees\n",
    "\n",
    "To both obtain a more efficient algorithm _and_ exercise better control over expansions, we will use a special representation for the strings that our grammar produces.  The general idea is to use a *tree* structure that will be subsequently expanded – a so-called *derivation tree*.  This representation allows us to always keep track of our expansion status – answering questions such as which elements have been expanded into which others, and which symbols still need to be expanded.  Furthermore, adding new elements to a tree is far more efficient than replacing strings again and again."
   ]
  },
  {
   "cell_type": "markdown",
   "metadata": {
    "button": false,
    "new_sheet": false,
    "run_control": {
     "read_only": false
    },
    "slideshow": {
     "slide_type": "fragment"
    }
   },
   "source": [
    "Like other trees used in programming, a derivation tree (also known as *parse tree* or *concrete syntax tree*) consists of *nodes* which have other nodes (called *child nodes*) as their *children*.  The tree starts with one node that has no parent; this is called the *root node*; a node without children is called a *leaf*."
   ]
  },
  {
   "cell_type": "markdown",
   "metadata": {
    "button": false,
    "new_sheet": false,
    "run_control": {
     "read_only": false
    },
    "slideshow": {
     "slide_type": "subslide"
    }
   },
   "source": [
    "The grammar expansion process with derivation trees is illustrated in the following steps, using the arithmetic grammar [from\n",
    "the chapter on grammars](Grammars.ipynb).  We start with a single node as root of the tree, representing the *start symbol* – in our case `<start>`."
   ]
  },
  {
   "cell_type": "code",
   "execution_count": 19,
   "metadata": {
    "button": false,
    "execution": {
     "iopub.execute_input": "2024-06-29T16:13:12.100833Z",
     "iopub.status.busy": "2024-06-29T16:13:12.100715Z",
     "iopub.status.idle": "2024-06-29T16:13:12.107862Z",
     "shell.execute_reply": "2024-06-29T16:13:12.107589Z"
    },
    "ipub": {
     "ignore": true
    },
    "new_sheet": false,
    "run_control": {
     "read_only": false
    },
    "slideshow": {
     "slide_type": "skip"
    }
   },
   "outputs": [],
   "source": [
    "# ignore\n",
    "from graphviz import Digraph"
   ]
  },
  {
   "cell_type": "code",
   "execution_count": 20,
   "metadata": {
    "button": false,
    "execution": {
     "iopub.execute_input": "2024-06-29T16:13:12.109533Z",
     "iopub.status.busy": "2024-06-29T16:13:12.109439Z",
     "iopub.status.idle": "2024-06-29T16:13:12.111761Z",
     "shell.execute_reply": "2024-06-29T16:13:12.111446Z"
    },
    "ipub": {
     "ignore": true
    },
    "new_sheet": false,
    "run_control": {
     "read_only": false
    },
    "slideshow": {
     "slide_type": "skip"
    }
   },
   "outputs": [],
   "source": [
    "# ignore\n",
    "tree = Digraph(\"root\")\n",
    "tree.attr('node', shape='plain')\n",
    "tree.node(r\"\\<start\\>\")"
   ]
  },
  {
   "cell_type": "code",
   "execution_count": 21,
   "metadata": {
    "button": false,
    "execution": {
     "iopub.execute_input": "2024-06-29T16:13:12.113513Z",
     "iopub.status.busy": "2024-06-29T16:13:12.113356Z",
     "iopub.status.idle": "2024-06-29T16:13:12.513499Z",
     "shell.execute_reply": "2024-06-29T16:13:12.513093Z"
    },
    "new_sheet": false,
    "run_control": {
     "read_only": false
    },
    "slideshow": {
     "slide_type": "fragment"
    }
   },
   "outputs": [
    {
     "data": {
      "image/svg+xml": [
       "<?xml version=\"1.0\" encoding=\"UTF-8\" standalone=\"no\"?>\n",
       "<!DOCTYPE svg PUBLIC \"-//W3C//DTD SVG 1.1//EN\"\n",
       " \"http://www.w3.org/Graphics/SVG/1.1/DTD/svg11.dtd\">\n",
       "<!-- Generated by graphviz version 11.0.0 (20240428.1522)\n",
       " -->\n",
       "<!-- Title: root Pages: 1 -->\n",
       "<svg width=\"48pt\" height=\"22pt\"\n",
       " viewBox=\"0.00 0.00 47.75 22.25\" xmlns=\"http://www.w3.org/2000/svg\" xmlns:xlink=\"http://www.w3.org/1999/xlink\">\n",
       "<g id=\"graph0\" class=\"graph\" transform=\"scale(1 1) rotate(0) translate(4 18.25)\">\n",
       "<title>root</title>\n",
       "<polygon fill=\"white\" stroke=\"none\" points=\"-4,4 -4,-18.25 43.75,-18.25 43.75,4 -4,4\"/>\n",
       "<!-- \\&lt;start\\&gt; -->\n",
       "<g id=\"node1\" class=\"node\">\n",
       "<title>\\&lt;start\\&gt;</title>\n",
       "<text text-anchor=\"middle\" x=\"19.88\" y=\"-0.95\" font-family=\"Times,serif\" font-size=\"14.00\">&lt;start&gt;</text>\n",
       "</g>\n",
       "</g>\n",
       "</svg>\n"
      ],
      "text/plain": [
       "<graphviz.graphs.Digraph at 0x15d56c1c0>"
      ]
     },
     "execution_count": 21,
     "metadata": {},
     "output_type": "execute_result"
    }
   ],
   "source": [
    "# ignore\n",
    "tree"
   ]
  },
  {
   "cell_type": "markdown",
   "metadata": {
    "button": false,
    "new_sheet": false,
    "run_control": {
     "read_only": false
    },
    "slideshow": {
     "slide_type": "subslide"
    }
   },
   "source": [
    "To expand the tree, we traverse it, searching for a nonterminal symbol $S$ without children.  $S$ thus is a symbol that still has to be expanded.  We then chose an expansion for $S$ from the grammar.  Then, we add the expansion as a new child of $S$.  For our start symbol `<start>`, the only expansion is `<expr>`, so we add it as a child."
   ]
  },
  {
   "cell_type": "code",
   "execution_count": 22,
   "metadata": {
    "button": false,
    "execution": {
     "iopub.execute_input": "2024-06-29T16:13:12.515308Z",
     "iopub.status.busy": "2024-06-29T16:13:12.515170Z",
     "iopub.status.idle": "2024-06-29T16:13:12.517044Z",
     "shell.execute_reply": "2024-06-29T16:13:12.516780Z"
    },
    "ipub": {
     "ignore": true
    },
    "new_sheet": false,
    "run_control": {
     "read_only": false
    },
    "slideshow": {
     "slide_type": "skip"
    }
   },
   "outputs": [],
   "source": [
    "# ignore\n",
    "tree.edge(r\"\\<start\\>\", r\"\\<expr\\>\")"
   ]
  },
  {
   "cell_type": "code",
   "execution_count": 23,
   "metadata": {
    "button": false,
    "execution": {
     "iopub.execute_input": "2024-06-29T16:13:12.518777Z",
     "iopub.status.busy": "2024-06-29T16:13:12.518640Z",
     "iopub.status.idle": "2024-06-29T16:13:12.908580Z",
     "shell.execute_reply": "2024-06-29T16:13:12.908214Z"
    },
    "new_sheet": false,
    "run_control": {
     "read_only": false
    },
    "slideshow": {
     "slide_type": "fragment"
    }
   },
   "outputs": [
    {
     "data": {
      "image/svg+xml": [
       "<?xml version=\"1.0\" encoding=\"UTF-8\" standalone=\"no\"?>\n",
       "<!DOCTYPE svg PUBLIC \"-//W3C//DTD SVG 1.1//EN\"\n",
       " \"http://www.w3.org/Graphics/SVG/1.1/DTD/svg11.dtd\">\n",
       "<!-- Generated by graphviz version 11.0.0 (20240428.1522)\n",
       " -->\n",
       "<!-- Title: root Pages: 1 -->\n",
       "<svg width=\"49pt\" height=\"73pt\"\n",
       " viewBox=\"0.00 0.00 48.50 72.50\" xmlns=\"http://www.w3.org/2000/svg\" xmlns:xlink=\"http://www.w3.org/1999/xlink\">\n",
       "<g id=\"graph0\" class=\"graph\" transform=\"scale(1 1) rotate(0) translate(4 68.5)\">\n",
       "<title>root</title>\n",
       "<polygon fill=\"white\" stroke=\"none\" points=\"-4,4 -4,-68.5 44.5,-68.5 44.5,4 -4,4\"/>\n",
       "<!-- \\&lt;start\\&gt; -->\n",
       "<g id=\"node1\" class=\"node\">\n",
       "<title>\\&lt;start\\&gt;</title>\n",
       "<text text-anchor=\"middle\" x=\"20.25\" y=\"-51.2\" font-family=\"Times,serif\" font-size=\"14.00\">&lt;start&gt;</text>\n",
       "</g>\n",
       "<!-- \\&lt;expr\\&gt; -->\n",
       "<g id=\"node2\" class=\"node\">\n",
       "<title>\\&lt;expr\\&gt;</title>\n",
       "<text text-anchor=\"middle\" x=\"20.25\" y=\"-0.95\" font-family=\"Times,serif\" font-size=\"14.00\">&lt;expr&gt;</text>\n",
       "</g>\n",
       "<!-- \\&lt;start\\&gt;&#45;&gt;\\&lt;expr\\&gt; -->\n",
       "<g id=\"edge1\" class=\"edge\">\n",
       "<title>\\&lt;start\\&gt;&#45;&gt;\\&lt;expr\\&gt;</title>\n",
       "<path fill=\"none\" stroke=\"black\" d=\"M20.25,-50.46C20.25,-44.24 20.25,-34.15 20.25,-25.39\"/>\n",
       "<polygon fill=\"black\" stroke=\"black\" points=\"23.75,-25.6 20.25,-15.6 16.75,-25.6 23.75,-25.6\"/>\n",
       "</g>\n",
       "</g>\n",
       "</svg>\n"
      ],
      "text/plain": [
       "<graphviz.graphs.Digraph at 0x15d56c1c0>"
      ]
     },
     "execution_count": 23,
     "metadata": {},
     "output_type": "execute_result"
    }
   ],
   "source": [
    "# ignore\n",
    "tree"
   ]
  },
  {
   "cell_type": "markdown",
   "metadata": {
    "button": false,
    "new_sheet": false,
    "run_control": {
     "read_only": false
    },
    "slideshow": {
     "slide_type": "subslide"
    }
   },
   "source": [
    "To construct the produced string from a derivation tree, we traverse the tree in order and collect the symbols at the leaves of the tree.  In the case above, we obtain the string `\"<expr>\"`.\n",
    "\n",
    "To further expand the tree, we choose another symbol to expand, and add its expansion as new children.  This would get us the `<expr>` symbol, which gets expanded into `<expr> + <term>`, adding three children."
   ]
  },
  {
   "cell_type": "code",
   "execution_count": 24,
   "metadata": {
    "button": false,
    "execution": {
     "iopub.execute_input": "2024-06-29T16:13:12.910385Z",
     "iopub.status.busy": "2024-06-29T16:13:12.910128Z",
     "iopub.status.idle": "2024-06-29T16:13:12.912269Z",
     "shell.execute_reply": "2024-06-29T16:13:12.911974Z"
    },
    "ipub": {
     "ignore": true
    },
    "new_sheet": false,
    "run_control": {
     "read_only": false
    },
    "slideshow": {
     "slide_type": "skip"
    }
   },
   "outputs": [],
   "source": [
    "# ignore\n",
    "tree.edge(r\"\\<expr\\>\", r\"\\<expr\\> \")\n",
    "tree.edge(r\"\\<expr\\>\", r\"+\")\n",
    "tree.edge(r\"\\<expr\\>\", r\"\\<term\\>\")"
   ]
  },
  {
   "cell_type": "code",
   "execution_count": 25,
   "metadata": {
    "button": false,
    "execution": {
     "iopub.execute_input": "2024-06-29T16:13:12.914024Z",
     "iopub.status.busy": "2024-06-29T16:13:12.913885Z",
     "iopub.status.idle": "2024-06-29T16:13:13.309737Z",
     "shell.execute_reply": "2024-06-29T16:13:13.309246Z"
    },
    "new_sheet": false,
    "run_control": {
     "read_only": false
    },
    "slideshow": {
     "slide_type": "fragment"
    }
   },
   "outputs": [
    {
     "data": {
      "image/svg+xml": [
       "<?xml version=\"1.0\" encoding=\"UTF-8\" standalone=\"no\"?>\n",
       "<!DOCTYPE svg PUBLIC \"-//W3C//DTD SVG 1.1//EN\"\n",
       " \"http://www.w3.org/Graphics/SVG/1.1/DTD/svg11.dtd\">\n",
       "<!-- Generated by graphviz version 11.0.0 (20240428.1522)\n",
       " -->\n",
       "<!-- Title: root Pages: 1 -->\n",
       "<svg width=\"138pt\" height=\"123pt\"\n",
       " viewBox=\"0.00 0.00 138.12 122.75\" xmlns=\"http://www.w3.org/2000/svg\" xmlns:xlink=\"http://www.w3.org/1999/xlink\">\n",
       "<g id=\"graph0\" class=\"graph\" transform=\"scale(1 1) rotate(0) translate(4 118.75)\">\n",
       "<title>root</title>\n",
       "<polygon fill=\"white\" stroke=\"none\" points=\"-4,4 -4,-118.75 134.12,-118.75 134.12,4 -4,4\"/>\n",
       "<!-- \\&lt;start\\&gt; -->\n",
       "<g id=\"node1\" class=\"node\">\n",
       "<title>\\&lt;start\\&gt;</title>\n",
       "<text text-anchor=\"middle\" x=\"66.12\" y=\"-101.45\" font-family=\"Times,serif\" font-size=\"14.00\">&lt;start&gt;</text>\n",
       "</g>\n",
       "<!-- \\&lt;expr\\&gt; -->\n",
       "<g id=\"node2\" class=\"node\">\n",
       "<title>\\&lt;expr\\&gt;</title>\n",
       "<text text-anchor=\"middle\" x=\"66.12\" y=\"-51.2\" font-family=\"Times,serif\" font-size=\"14.00\">&lt;expr&gt;</text>\n",
       "</g>\n",
       "<!-- \\&lt;start\\&gt;&#45;&gt;\\&lt;expr\\&gt; -->\n",
       "<g id=\"edge1\" class=\"edge\">\n",
       "<title>\\&lt;start\\&gt;&#45;&gt;\\&lt;expr\\&gt;</title>\n",
       "<path fill=\"none\" stroke=\"black\" d=\"M66.12,-100.71C66.12,-94.49 66.12,-84.4 66.12,-75.64\"/>\n",
       "<polygon fill=\"black\" stroke=\"black\" points=\"69.63,-75.85 66.13,-65.85 62.63,-75.85 69.63,-75.85\"/>\n",
       "</g>\n",
       "<!-- \\&lt;expr\\&gt;  -->\n",
       "<g id=\"node3\" class=\"node\">\n",
       "<title>\\&lt;expr\\&gt; </title>\n",
       "<text text-anchor=\"middle\" x=\"22.12\" y=\"-0.95\" font-family=\"Times,serif\" font-size=\"14.00\">&lt;expr&gt; </text>\n",
       "</g>\n",
       "<!-- \\&lt;expr\\&gt;&#45;&gt;\\&lt;expr\\&gt;  -->\n",
       "<g id=\"edge2\" class=\"edge\">\n",
       "<title>\\&lt;expr\\&gt;&#45;&gt;\\&lt;expr\\&gt; </title>\n",
       "<path fill=\"none\" stroke=\"black\" d=\"M60.73,-50.46C54.4,-43.51 43.67,-31.75 35.13,-22.39\"/>\n",
       "<polygon fill=\"black\" stroke=\"black\" points=\"37.91,-20.24 28.58,-15.21 32.74,-24.96 37.91,-20.24\"/>\n",
       "</g>\n",
       "<!-- + -->\n",
       "<g id=\"node4\" class=\"node\">\n",
       "<title>+</title>\n",
       "<text text-anchor=\"middle\" x=\"66.12\" y=\"-0.95\" font-family=\"Times,serif\" font-size=\"14.00\">+</text>\n",
       "</g>\n",
       "<!-- \\&lt;expr\\&gt;&#45;&gt;+ -->\n",
       "<g id=\"edge3\" class=\"edge\">\n",
       "<title>\\&lt;expr\\&gt;&#45;&gt;+</title>\n",
       "<path fill=\"none\" stroke=\"black\" d=\"M66.12,-50.46C66.12,-44.24 66.12,-34.15 66.12,-25.39\"/>\n",
       "<polygon fill=\"black\" stroke=\"black\" points=\"69.63,-25.6 66.13,-15.6 62.63,-25.6 69.63,-25.6\"/>\n",
       "</g>\n",
       "<!-- \\&lt;term\\&gt; -->\n",
       "<g id=\"node5\" class=\"node\">\n",
       "<title>\\&lt;term\\&gt;</title>\n",
       "<text text-anchor=\"middle\" x=\"109.12\" y=\"-0.95\" font-family=\"Times,serif\" font-size=\"14.00\">&lt;term&gt;</text>\n",
       "</g>\n",
       "<!-- \\&lt;expr\\&gt;&#45;&gt;\\&lt;term\\&gt; -->\n",
       "<g id=\"edge4\" class=\"edge\">\n",
       "<title>\\&lt;expr\\&gt;&#45;&gt;\\&lt;term\\&gt;</title>\n",
       "<path fill=\"none\" stroke=\"black\" d=\"M71.4,-50.46C77.52,-43.59 87.85,-32 96.15,-22.68\"/>\n",
       "<polygon fill=\"black\" stroke=\"black\" points=\"98.76,-25.01 102.8,-15.22 93.54,-20.36 98.76,-25.01\"/>\n",
       "</g>\n",
       "</g>\n",
       "</svg>\n"
      ],
      "text/plain": [
       "<graphviz.graphs.Digraph at 0x15d56c1c0>"
      ]
     },
     "execution_count": 25,
     "metadata": {},
     "output_type": "execute_result"
    }
   ],
   "source": [
    "# ignore\n",
    "tree"
   ]
  },
  {
   "cell_type": "markdown",
   "metadata": {
    "button": false,
    "new_sheet": false,
    "run_control": {
     "read_only": false
    },
    "slideshow": {
     "slide_type": "subslide"
    }
   },
   "source": [
    "We repeat the expansion until there are no symbols left to expand:"
   ]
  },
  {
   "cell_type": "code",
   "execution_count": 26,
   "metadata": {
    "button": false,
    "execution": {
     "iopub.execute_input": "2024-06-29T16:13:13.311812Z",
     "iopub.status.busy": "2024-06-29T16:13:13.311665Z",
     "iopub.status.idle": "2024-06-29T16:13:13.314811Z",
     "shell.execute_reply": "2024-06-29T16:13:13.314349Z"
    },
    "ipub": {
     "ignore": true
    },
    "new_sheet": false,
    "run_control": {
     "read_only": false
    },
    "slideshow": {
     "slide_type": "skip"
    }
   },
   "outputs": [],
   "source": [
    "# ignore\n",
    "tree.edge(r\"\\<expr\\> \", r\"\\<term\\> \")\n",
    "tree.edge(r\"\\<term\\> \", r\"\\<factor\\> \")\n",
    "tree.edge(r\"\\<factor\\> \", r\"\\<integer\\> \")\n",
    "tree.edge(r\"\\<integer\\> \", r\"\\<digit\\> \")\n",
    "tree.edge(r\"\\<digit\\> \", r\"2 \")\n",
    "\n",
    "tree.edge(r\"\\<term\\>\", r\"\\<factor\\>\")\n",
    "tree.edge(r\"\\<factor\\>\", r\"\\<integer\\>\")\n",
    "tree.edge(r\"\\<integer\\>\", r\"\\<digit\\>\")\n",
    "tree.edge(r\"\\<digit\\>\", r\"2\")"
   ]
  },
  {
   "cell_type": "code",
   "execution_count": 27,
   "metadata": {
    "button": false,
    "execution": {
     "iopub.execute_input": "2024-06-29T16:13:13.316658Z",
     "iopub.status.busy": "2024-06-29T16:13:13.316548Z",
     "iopub.status.idle": "2024-06-29T16:13:13.704437Z",
     "shell.execute_reply": "2024-06-29T16:13:13.704053Z"
    },
    "new_sheet": false,
    "run_control": {
     "read_only": false
    },
    "slideshow": {
     "slide_type": "fragment"
    }
   },
   "outputs": [
    {
     "data": {
      "image/svg+xml": [
       "<?xml version=\"1.0\" encoding=\"UTF-8\" standalone=\"no\"?>\n",
       "<!DOCTYPE svg PUBLIC \"-//W3C//DTD SVG 1.1//EN\"\n",
       " \"http://www.w3.org/Graphics/SVG/1.1/DTD/svg11.dtd\">\n",
       "<!-- Generated by graphviz version 11.0.0 (20240428.1522)\n",
       " -->\n",
       "<!-- Title: root Pages: 1 -->\n",
       "<svg width=\"151pt\" height=\"374pt\"\n",
       " viewBox=\"0.00 0.00 150.88 374.00\" xmlns=\"http://www.w3.org/2000/svg\" xmlns:xlink=\"http://www.w3.org/1999/xlink\">\n",
       "<g id=\"graph0\" class=\"graph\" transform=\"scale(1 1) rotate(0) translate(4 370)\">\n",
       "<title>root</title>\n",
       "<polygon fill=\"white\" stroke=\"none\" points=\"-4,4 -4,-370 146.88,-370 146.88,4 -4,4\"/>\n",
       "<!-- \\&lt;start\\&gt; -->\n",
       "<g id=\"node1\" class=\"node\">\n",
       "<title>\\&lt;start\\&gt;</title>\n",
       "<text text-anchor=\"middle\" x=\"72.88\" y=\"-352.7\" font-family=\"Times,serif\" font-size=\"14.00\">&lt;start&gt;</text>\n",
       "</g>\n",
       "<!-- \\&lt;expr\\&gt; -->\n",
       "<g id=\"node2\" class=\"node\">\n",
       "<title>\\&lt;expr\\&gt;</title>\n",
       "<text text-anchor=\"middle\" x=\"72.88\" y=\"-302.45\" font-family=\"Times,serif\" font-size=\"14.00\">&lt;expr&gt;</text>\n",
       "</g>\n",
       "<!-- \\&lt;start\\&gt;&#45;&gt;\\&lt;expr\\&gt; -->\n",
       "<g id=\"edge1\" class=\"edge\">\n",
       "<title>\\&lt;start\\&gt;&#45;&gt;\\&lt;expr\\&gt;</title>\n",
       "<path fill=\"none\" stroke=\"black\" d=\"M72.88,-351.96C72.88,-345.74 72.88,-335.65 72.88,-326.89\"/>\n",
       "<polygon fill=\"black\" stroke=\"black\" points=\"76.38,-327.1 72.88,-317.1 69.38,-327.1 76.38,-327.1\"/>\n",
       "</g>\n",
       "<!-- \\&lt;expr\\&gt;  -->\n",
       "<g id=\"node3\" class=\"node\">\n",
       "<title>\\&lt;expr\\&gt; </title>\n",
       "<text text-anchor=\"middle\" x=\"28.88\" y=\"-252.2\" font-family=\"Times,serif\" font-size=\"14.00\">&lt;expr&gt; </text>\n",
       "</g>\n",
       "<!-- \\&lt;expr\\&gt;&#45;&gt;\\&lt;expr\\&gt;  -->\n",
       "<g id=\"edge2\" class=\"edge\">\n",
       "<title>\\&lt;expr\\&gt;&#45;&gt;\\&lt;expr\\&gt; </title>\n",
       "<path fill=\"none\" stroke=\"black\" d=\"M67.48,-301.71C61.15,-294.76 50.42,-283 41.88,-273.64\"/>\n",
       "<polygon fill=\"black\" stroke=\"black\" points=\"44.66,-271.49 35.33,-266.46 39.49,-276.21 44.66,-271.49\"/>\n",
       "</g>\n",
       "<!-- + -->\n",
       "<g id=\"node4\" class=\"node\">\n",
       "<title>+</title>\n",
       "<text text-anchor=\"middle\" x=\"72.88\" y=\"-252.2\" font-family=\"Times,serif\" font-size=\"14.00\">+</text>\n",
       "</g>\n",
       "<!-- \\&lt;expr\\&gt;&#45;&gt;+ -->\n",
       "<g id=\"edge3\" class=\"edge\">\n",
       "<title>\\&lt;expr\\&gt;&#45;&gt;+</title>\n",
       "<path fill=\"none\" stroke=\"black\" d=\"M72.88,-301.71C72.88,-295.49 72.88,-285.4 72.88,-276.64\"/>\n",
       "<polygon fill=\"black\" stroke=\"black\" points=\"76.38,-276.85 72.88,-266.85 69.38,-276.85 76.38,-276.85\"/>\n",
       "</g>\n",
       "<!-- \\&lt;term\\&gt; -->\n",
       "<g id=\"node5\" class=\"node\">\n",
       "<title>\\&lt;term\\&gt;</title>\n",
       "<text text-anchor=\"middle\" x=\"115.88\" y=\"-252.2\" font-family=\"Times,serif\" font-size=\"14.00\">&lt;term&gt;</text>\n",
       "</g>\n",
       "<!-- \\&lt;expr\\&gt;&#45;&gt;\\&lt;term\\&gt; -->\n",
       "<g id=\"edge4\" class=\"edge\">\n",
       "<title>\\&lt;expr\\&gt;&#45;&gt;\\&lt;term\\&gt;</title>\n",
       "<path fill=\"none\" stroke=\"black\" d=\"M78.15,-301.71C84.27,-294.84 94.6,-283.25 102.9,-273.93\"/>\n",
       "<polygon fill=\"black\" stroke=\"black\" points=\"105.51,-276.26 109.55,-266.47 100.29,-271.61 105.51,-276.26\"/>\n",
       "</g>\n",
       "<!-- \\&lt;term\\&gt;  -->\n",
       "<g id=\"node6\" class=\"node\">\n",
       "<title>\\&lt;term\\&gt; </title>\n",
       "<text text-anchor=\"middle\" x=\"28.88\" y=\"-201.95\" font-family=\"Times,serif\" font-size=\"14.00\">&lt;term&gt; </text>\n",
       "</g>\n",
       "<!-- \\&lt;expr\\&gt; &#45;&gt;\\&lt;term\\&gt;  -->\n",
       "<g id=\"edge5\" class=\"edge\">\n",
       "<title>\\&lt;expr\\&gt; &#45;&gt;\\&lt;term\\&gt; </title>\n",
       "<path fill=\"none\" stroke=\"black\" d=\"M28.88,-251.46C28.88,-245.24 28.88,-235.15 28.88,-226.39\"/>\n",
       "<polygon fill=\"black\" stroke=\"black\" points=\"32.38,-226.6 28.88,-216.6 25.38,-226.6 32.38,-226.6\"/>\n",
       "</g>\n",
       "<!-- \\&lt;factor\\&gt; -->\n",
       "<g id=\"node11\" class=\"node\">\n",
       "<title>\\&lt;factor\\&gt;</title>\n",
       "<text text-anchor=\"middle\" x=\"115.88\" y=\"-201.95\" font-family=\"Times,serif\" font-size=\"14.00\">&lt;factor&gt;</text>\n",
       "</g>\n",
       "<!-- \\&lt;term\\&gt;&#45;&gt;\\&lt;factor\\&gt; -->\n",
       "<g id=\"edge10\" class=\"edge\">\n",
       "<title>\\&lt;term\\&gt;&#45;&gt;\\&lt;factor\\&gt;</title>\n",
       "<path fill=\"none\" stroke=\"black\" d=\"M115.88,-251.46C115.88,-245.24 115.88,-235.15 115.88,-226.39\"/>\n",
       "<polygon fill=\"black\" stroke=\"black\" points=\"119.38,-226.6 115.88,-216.6 112.38,-226.6 119.38,-226.6\"/>\n",
       "</g>\n",
       "<!-- \\&lt;factor\\&gt;  -->\n",
       "<g id=\"node7\" class=\"node\">\n",
       "<title>\\&lt;factor\\&gt; </title>\n",
       "<text text-anchor=\"middle\" x=\"28.88\" y=\"-151.7\" font-family=\"Times,serif\" font-size=\"14.00\">&lt;factor&gt; </text>\n",
       "</g>\n",
       "<!-- \\&lt;term\\&gt; &#45;&gt;\\&lt;factor\\&gt;  -->\n",
       "<g id=\"edge6\" class=\"edge\">\n",
       "<title>\\&lt;term\\&gt; &#45;&gt;\\&lt;factor\\&gt; </title>\n",
       "<path fill=\"none\" stroke=\"black\" d=\"M28.88,-201.21C28.88,-194.99 28.88,-184.9 28.88,-176.14\"/>\n",
       "<polygon fill=\"black\" stroke=\"black\" points=\"32.38,-176.35 28.88,-166.35 25.38,-176.35 32.38,-176.35\"/>\n",
       "</g>\n",
       "<!-- \\&lt;integer\\&gt;  -->\n",
       "<g id=\"node8\" class=\"node\">\n",
       "<title>\\&lt;integer\\&gt; </title>\n",
       "<text text-anchor=\"middle\" x=\"28.88\" y=\"-101.45\" font-family=\"Times,serif\" font-size=\"14.00\">&lt;integer&gt; </text>\n",
       "</g>\n",
       "<!-- \\&lt;factor\\&gt; &#45;&gt;\\&lt;integer\\&gt;  -->\n",
       "<g id=\"edge7\" class=\"edge\">\n",
       "<title>\\&lt;factor\\&gt; &#45;&gt;\\&lt;integer\\&gt; </title>\n",
       "<path fill=\"none\" stroke=\"black\" d=\"M28.88,-150.96C28.88,-144.74 28.88,-134.65 28.88,-125.89\"/>\n",
       "<polygon fill=\"black\" stroke=\"black\" points=\"32.38,-126.1 28.88,-116.1 25.38,-126.1 32.38,-126.1\"/>\n",
       "</g>\n",
       "<!-- \\&lt;digit\\&gt;  -->\n",
       "<g id=\"node9\" class=\"node\">\n",
       "<title>\\&lt;digit\\&gt; </title>\n",
       "<text text-anchor=\"middle\" x=\"28.88\" y=\"-51.2\" font-family=\"Times,serif\" font-size=\"14.00\">&lt;digit&gt; </text>\n",
       "</g>\n",
       "<!-- \\&lt;integer\\&gt; &#45;&gt;\\&lt;digit\\&gt;  -->\n",
       "<g id=\"edge8\" class=\"edge\">\n",
       "<title>\\&lt;integer\\&gt; &#45;&gt;\\&lt;digit\\&gt; </title>\n",
       "<path fill=\"none\" stroke=\"black\" d=\"M28.88,-100.71C28.88,-94.49 28.88,-84.4 28.88,-75.64\"/>\n",
       "<polygon fill=\"black\" stroke=\"black\" points=\"32.38,-75.85 28.88,-65.85 25.38,-75.85 32.38,-75.85\"/>\n",
       "</g>\n",
       "<!-- 2  -->\n",
       "<g id=\"node10\" class=\"node\">\n",
       "<title>2 </title>\n",
       "<text text-anchor=\"middle\" x=\"28.88\" y=\"-0.95\" font-family=\"Times,serif\" font-size=\"14.00\">2 </text>\n",
       "</g>\n",
       "<!-- \\&lt;digit\\&gt; &#45;&gt;2  -->\n",
       "<g id=\"edge9\" class=\"edge\">\n",
       "<title>\\&lt;digit\\&gt; &#45;&gt;2 </title>\n",
       "<path fill=\"none\" stroke=\"black\" d=\"M28.88,-50.46C28.88,-44.24 28.88,-34.15 28.88,-25.39\"/>\n",
       "<polygon fill=\"black\" stroke=\"black\" points=\"32.38,-25.6 28.88,-15.6 25.38,-25.6 32.38,-25.6\"/>\n",
       "</g>\n",
       "<!-- \\&lt;integer\\&gt; -->\n",
       "<g id=\"node12\" class=\"node\">\n",
       "<title>\\&lt;integer\\&gt;</title>\n",
       "<text text-anchor=\"middle\" x=\"115.88\" y=\"-151.7\" font-family=\"Times,serif\" font-size=\"14.00\">&lt;integer&gt;</text>\n",
       "</g>\n",
       "<!-- \\&lt;factor\\&gt;&#45;&gt;\\&lt;integer\\&gt; -->\n",
       "<g id=\"edge11\" class=\"edge\">\n",
       "<title>\\&lt;factor\\&gt;&#45;&gt;\\&lt;integer\\&gt;</title>\n",
       "<path fill=\"none\" stroke=\"black\" d=\"M115.88,-201.21C115.88,-194.99 115.88,-184.9 115.88,-176.14\"/>\n",
       "<polygon fill=\"black\" stroke=\"black\" points=\"119.38,-176.35 115.88,-166.35 112.38,-176.35 119.38,-176.35\"/>\n",
       "</g>\n",
       "<!-- \\&lt;digit\\&gt; -->\n",
       "<g id=\"node13\" class=\"node\">\n",
       "<title>\\&lt;digit\\&gt;</title>\n",
       "<text text-anchor=\"middle\" x=\"115.88\" y=\"-101.45\" font-family=\"Times,serif\" font-size=\"14.00\">&lt;digit&gt;</text>\n",
       "</g>\n",
       "<!-- \\&lt;integer\\&gt;&#45;&gt;\\&lt;digit\\&gt; -->\n",
       "<g id=\"edge12\" class=\"edge\">\n",
       "<title>\\&lt;integer\\&gt;&#45;&gt;\\&lt;digit\\&gt;</title>\n",
       "<path fill=\"none\" stroke=\"black\" d=\"M115.88,-150.96C115.88,-144.74 115.88,-134.65 115.88,-125.89\"/>\n",
       "<polygon fill=\"black\" stroke=\"black\" points=\"119.38,-126.1 115.88,-116.1 112.38,-126.1 119.38,-126.1\"/>\n",
       "</g>\n",
       "<!-- 2 -->\n",
       "<g id=\"node14\" class=\"node\">\n",
       "<title>2</title>\n",
       "<text text-anchor=\"middle\" x=\"115.88\" y=\"-51.2\" font-family=\"Times,serif\" font-size=\"14.00\">2</text>\n",
       "</g>\n",
       "<!-- \\&lt;digit\\&gt;&#45;&gt;2 -->\n",
       "<g id=\"edge13\" class=\"edge\">\n",
       "<title>\\&lt;digit\\&gt;&#45;&gt;2</title>\n",
       "<path fill=\"none\" stroke=\"black\" d=\"M115.88,-100.71C115.88,-94.49 115.88,-84.4 115.88,-75.64\"/>\n",
       "<polygon fill=\"black\" stroke=\"black\" points=\"119.38,-75.85 115.88,-65.85 112.38,-75.85 119.38,-75.85\"/>\n",
       "</g>\n",
       "</g>\n",
       "</svg>\n"
      ],
      "text/plain": [
       "<graphviz.graphs.Digraph at 0x15d56c1c0>"
      ]
     },
     "execution_count": 27,
     "metadata": {},
     "output_type": "execute_result"
    }
   ],
   "source": [
    "# ignore\n",
    "tree"
   ]
  },
  {
   "cell_type": "markdown",
   "metadata": {
    "button": false,
    "new_sheet": false,
    "run_control": {
     "read_only": false
    },
    "slideshow": {
     "slide_type": "fragment"
    }
   },
   "source": [
    "We now have a representation for the string `2 + 2`.  In contrast to the string alone, though, the derivation tree records _the entire structure_ (and production history, or _derivation_ history) of the produced string.  It also allows for simple comparison and manipulation – say, replacing one subtree (substructure) against another."
   ]
  },
  {
   "cell_type": "markdown",
   "metadata": {
    "button": false,
    "new_sheet": false,
    "run_control": {
     "read_only": false
    },
    "slideshow": {
     "slide_type": "slide"
    }
   },
   "source": [
    "## Representing Derivation Trees\n",
    "\n",
    "To represent a derivation tree in Python, we use the following format.  A node is a pair\n",
    "\n",
    "```python\n",
    "(SYMBOL_NAME, CHILDREN)\n",
    "```\n",
    "\n",
    "where `SYMBOL_NAME` is a string representing the node (i.e. `\"<start>\"` or `\"+\"`) and `CHILDREN` is a list of children nodes.\n",
    "\n",
    "`CHILDREN` can take some special values:\n",
    "\n",
    "1. `None` as a placeholder for future expansion.  This means that the node is a *nonterminal symbol* that should be expanded further.\n",
    "2. `[]` (i.e., the empty list) to indicate _no_ children.  This means that the node is a *terminal symbol* that can no longer be expanded."
   ]
  },
  {
   "cell_type": "markdown",
   "metadata": {
    "slideshow": {
     "slide_type": "subslide"
    }
   },
   "source": [
    "The type `DerivationTree` captures this very structure. (`Any` should actually read `DerivationTree`, but the Python static type checker cannot handle recursive types well.)"
   ]
  },
  {
   "cell_type": "code",
   "execution_count": 28,
   "metadata": {
    "execution": {
     "iopub.execute_input": "2024-06-29T16:13:13.706316Z",
     "iopub.status.busy": "2024-06-29T16:13:13.706199Z",
     "iopub.status.idle": "2024-06-29T16:13:13.708206Z",
     "shell.execute_reply": "2024-06-29T16:13:13.707968Z"
    },
    "slideshow": {
     "slide_type": "fragment"
    }
   },
   "outputs": [],
   "source": [
    "DerivationTree = Tuple[str, Optional[List[Any]]]"
   ]
  },
  {
   "cell_type": "markdown",
   "metadata": {
    "button": false,
    "new_sheet": false,
    "run_control": {
     "read_only": false
    },
    "slideshow": {
     "slide_type": "subslide"
    }
   },
   "source": [
    "Let us take a very simple derivation tree, representing the intermediate step `<expr> + <term>`, above."
   ]
  },
  {
   "cell_type": "code",
   "execution_count": 29,
   "metadata": {
    "button": false,
    "execution": {
     "iopub.execute_input": "2024-06-29T16:13:13.709828Z",
     "iopub.status.busy": "2024-06-29T16:13:13.709711Z",
     "iopub.status.idle": "2024-06-29T16:13:13.711560Z",
     "shell.execute_reply": "2024-06-29T16:13:13.711279Z"
    },
    "new_sheet": false,
    "run_control": {
     "read_only": false
    },
    "slideshow": {
     "slide_type": "fragment"
    }
   },
   "outputs": [],
   "source": [
    "derivation_tree: DerivationTree = (\"<start>\",\n",
    "                   [(\"<expr>\",\n",
    "                     [(\"<expr>\", None),\n",
    "                      (\" + \", []),\n",
    "                         (\"<term>\", None)]\n",
    "                     )])"
   ]
  },
  {
   "cell_type": "markdown",
   "metadata": {
    "button": false,
    "new_sheet": false,
    "run_control": {
     "read_only": false
    },
    "slideshow": {
     "slide_type": "subslide"
    }
   },
   "source": [
    "To better understand the structure of this tree, let us introduce a function `display_tree()` that visualizes this tree."
   ]
  },
  {
   "cell_type": "markdown",
   "metadata": {
    "slideshow": {
     "slide_type": "subslide"
    }
   },
   "source": [
    "#### Excursion: Implementing `display_tree()`"
   ]
  },
  {
   "cell_type": "markdown",
   "metadata": {
    "button": false,
    "new_sheet": false,
    "run_control": {
     "read_only": false
    },
    "slideshow": {
     "slide_type": "subslide"
    }
   },
   "source": [
    "We use the `dot` drawing program from the `graphviz` package algorithmically, traversing the above structure.  (Unless you're deeply interested in tree visualization, you can directly skip to the example below.)"
   ]
  },
  {
   "cell_type": "code",
   "execution_count": 30,
   "metadata": {
    "button": false,
    "execution": {
     "iopub.execute_input": "2024-06-29T16:13:13.713018Z",
     "iopub.status.busy": "2024-06-29T16:13:13.712909Z",
     "iopub.status.idle": "2024-06-29T16:13:13.714553Z",
     "shell.execute_reply": "2024-06-29T16:13:13.714300Z"
    },
    "new_sheet": false,
    "run_control": {
     "read_only": false
    },
    "slideshow": {
     "slide_type": "skip"
    }
   },
   "outputs": [],
   "source": [
    "from graphviz import Digraph"
   ]
  },
  {
   "cell_type": "code",
   "execution_count": 31,
   "metadata": {
    "button": false,
    "execution": {
     "iopub.execute_input": "2024-06-29T16:13:13.715965Z",
     "iopub.status.busy": "2024-06-29T16:13:13.715857Z",
     "iopub.status.idle": "2024-06-29T16:13:13.717593Z",
     "shell.execute_reply": "2024-06-29T16:13:13.717298Z"
    },
    "new_sheet": false,
    "run_control": {
     "read_only": false
    },
    "slideshow": {
     "slide_type": "skip"
    }
   },
   "outputs": [],
   "source": [
    "from IPython.display import display"
   ]
  },
  {
   "cell_type": "code",
   "execution_count": 32,
   "metadata": {
    "button": false,
    "execution": {
     "iopub.execute_input": "2024-06-29T16:13:13.718973Z",
     "iopub.status.busy": "2024-06-29T16:13:13.718881Z",
     "iopub.status.idle": "2024-06-29T16:13:13.720515Z",
     "shell.execute_reply": "2024-06-29T16:13:13.720253Z"
    },
    "new_sheet": false,
    "run_control": {
     "read_only": false
    },
    "slideshow": {
     "slide_type": "skip"
    }
   },
   "outputs": [],
   "source": [
    "import re\n",
    "import string"
   ]
  },
  {
   "cell_type": "code",
   "execution_count": 33,
   "metadata": {
    "button": false,
    "execution": {
     "iopub.execute_input": "2024-06-29T16:13:13.721910Z",
     "iopub.status.busy": "2024-06-29T16:13:13.721823Z",
     "iopub.status.idle": "2024-06-29T16:13:13.724496Z",
     "shell.execute_reply": "2024-06-29T16:13:13.724265Z"
    },
    "new_sheet": false,
    "run_control": {
     "read_only": false
    },
    "slideshow": {
     "slide_type": "skip"
    }
   },
   "outputs": [],
   "source": [
    "def dot_escape(s: str, show_ascii=None) -> str:\n",
    "    \"\"\"Return s in a form suitable for dot.\n",
    "    If `show_ascii` is True or length of `s` is 1, also append ascii value.\"\"\"\n",
    "    escaped_s = ''\n",
    "    if show_ascii is None:\n",
    "        show_ascii = (len(s) == 1)  # Default: Single chars only\n",
    "\n",
    "    if show_ascii and s == '\\n':\n",
    "        return '\\\\\\\\n (10)'\n",
    "\n",
    "    s = s.replace('\\n', '\\\\n')\n",
    "    for c in s:\n",
    "        if re.match('[,<>\\\\\\\\\"]', c):\n",
    "            escaped_s += '\\\\' + c\n",
    "        elif c in string.printable and 31 < ord(c) < 127:\n",
    "            escaped_s += c\n",
    "        else:\n",
    "            escaped_s += '\\\\\\\\x' + format(ord(c), '02x')\n",
    "\n",
    "        if show_ascii:\n",
    "            escaped_s += f' ({ord(c)})'\n",
    "\n",
    "    return escaped_s"
   ]
  },
  {
   "cell_type": "code",
   "execution_count": 34,
   "metadata": {
    "button": false,
    "execution": {
     "iopub.execute_input": "2024-06-29T16:13:13.726047Z",
     "iopub.status.busy": "2024-06-29T16:13:13.725955Z",
     "iopub.status.idle": "2024-06-29T16:13:13.727834Z",
     "shell.execute_reply": "2024-06-29T16:13:13.727577Z"
    },
    "new_sheet": false,
    "run_control": {
     "read_only": false
    },
    "slideshow": {
     "slide_type": "skip"
    }
   },
   "outputs": [],
   "source": [
    "assert dot_escape(\"hello\") == \"hello\""
   ]
  },
  {
   "cell_type": "code",
   "execution_count": 35,
   "metadata": {
    "button": false,
    "execution": {
     "iopub.execute_input": "2024-06-29T16:13:13.729313Z",
     "iopub.status.busy": "2024-06-29T16:13:13.729228Z",
     "iopub.status.idle": "2024-06-29T16:13:13.730978Z",
     "shell.execute_reply": "2024-06-29T16:13:13.730707Z"
    },
    "new_sheet": false,
    "run_control": {
     "read_only": false
    },
    "slideshow": {
     "slide_type": "skip"
    }
   },
   "outputs": [],
   "source": [
    "assert dot_escape(\"<hello>, world\") == \"\\\\<hello\\\\>\\\\, world\""
   ]
  },
  {
   "cell_type": "code",
   "execution_count": 36,
   "metadata": {
    "button": false,
    "execution": {
     "iopub.execute_input": "2024-06-29T16:13:13.732577Z",
     "iopub.status.busy": "2024-06-29T16:13:13.732475Z",
     "iopub.status.idle": "2024-06-29T16:13:13.734494Z",
     "shell.execute_reply": "2024-06-29T16:13:13.734214Z"
    },
    "new_sheet": false,
    "run_control": {
     "read_only": false
    },
    "slideshow": {
     "slide_type": "skip"
    }
   },
   "outputs": [],
   "source": [
    "assert dot_escape(\"\\\\n\") == \"\\\\\\\\n\""
   ]
  },
  {
   "cell_type": "code",
   "execution_count": 37,
   "metadata": {
    "button": false,
    "execution": {
     "iopub.execute_input": "2024-06-29T16:13:13.736033Z",
     "iopub.status.busy": "2024-06-29T16:13:13.735925Z",
     "iopub.status.idle": "2024-06-29T16:13:13.737581Z",
     "shell.execute_reply": "2024-06-29T16:13:13.737333Z"
    },
    "new_sheet": false,
    "run_control": {
     "read_only": false
    },
    "slideshow": {
     "slide_type": "skip"
    }
   },
   "outputs": [],
   "source": [
    "assert dot_escape(\"\\n\", show_ascii=False) == \"\\\\\\\\n\""
   ]
  },
  {
   "cell_type": "code",
   "execution_count": 38,
   "metadata": {
    "button": false,
    "execution": {
     "iopub.execute_input": "2024-06-29T16:13:13.739047Z",
     "iopub.status.busy": "2024-06-29T16:13:13.738929Z",
     "iopub.status.idle": "2024-06-29T16:13:13.740625Z",
     "shell.execute_reply": "2024-06-29T16:13:13.740373Z"
    },
    "new_sheet": false,
    "run_control": {
     "read_only": false
    },
    "slideshow": {
     "slide_type": "skip"
    }
   },
   "outputs": [],
   "source": [
    "assert dot_escape(\"\\n\", show_ascii=True) == \"\\\\\\\\n (10)\""
   ]
  },
  {
   "cell_type": "code",
   "execution_count": 39,
   "metadata": {
    "button": false,
    "execution": {
     "iopub.execute_input": "2024-06-29T16:13:13.741969Z",
     "iopub.status.busy": "2024-06-29T16:13:13.741889Z",
     "iopub.status.idle": "2024-06-29T16:13:13.743576Z",
     "shell.execute_reply": "2024-06-29T16:13:13.743329Z"
    },
    "new_sheet": false,
    "run_control": {
     "read_only": false
    },
    "slideshow": {
     "slide_type": "skip"
    }
   },
   "outputs": [],
   "source": [
    "assert dot_escape(\"\\n\", show_ascii=True) == \"\\\\\\\\n (10)\""
   ]
  },
  {
   "cell_type": "code",
   "execution_count": 40,
   "metadata": {
    "execution": {
     "iopub.execute_input": "2024-06-29T16:13:13.744889Z",
     "iopub.status.busy": "2024-06-29T16:13:13.744805Z",
     "iopub.status.idle": "2024-06-29T16:13:13.746581Z",
     "shell.execute_reply": "2024-06-29T16:13:13.746326Z"
    },
    "slideshow": {
     "slide_type": "fragment"
    },
    "tags": []
   },
   "outputs": [],
   "source": [
    "assert dot_escape('\\x01', show_ascii=False) == \"\\\\\\\\x01\""
   ]
  },
  {
   "cell_type": "code",
   "execution_count": 41,
   "metadata": {
    "execution": {
     "iopub.execute_input": "2024-06-29T16:13:13.748019Z",
     "iopub.status.busy": "2024-06-29T16:13:13.747932Z",
     "iopub.status.idle": "2024-06-29T16:13:13.749679Z",
     "shell.execute_reply": "2024-06-29T16:13:13.749420Z"
    },
    "slideshow": {
     "slide_type": "fragment"
    },
    "tags": []
   },
   "outputs": [],
   "source": [
    "assert dot_escape('\\x01') == \"\\\\\\\\x01 (1)\""
   ]
  },
  {
   "cell_type": "markdown",
   "metadata": {
    "button": false,
    "new_sheet": false,
    "run_control": {
     "read_only": false
    },
    "slideshow": {
     "slide_type": "fragment"
    }
   },
   "source": [
    "While we are interested at present in visualizing a `derivation_tree`, it is in our interest to generalize the visualization procedure. In particular, it would be helpful if our method `display_tree()` can display *any* tree    like data structure. To enable this, we define a helper method `extract_node()` that extract the current symbol and  children from a given data structure. The default implementation simply extracts the symbol, children, and           annotation from any `derivation_tree` node."
   ]
  },
  {
   "cell_type": "code",
   "execution_count": 42,
   "metadata": {
    "button": false,
    "execution": {
     "iopub.execute_input": "2024-06-29T16:13:13.751137Z",
     "iopub.status.busy": "2024-06-29T16:13:13.751038Z",
     "iopub.status.idle": "2024-06-29T16:13:13.753227Z",
     "shell.execute_reply": "2024-06-29T16:13:13.752977Z"
    },
    "new_sheet": false,
    "run_control": {
     "read_only": false
    },
    "slideshow": {
     "slide_type": "fragment"
    }
   },
   "outputs": [],
   "source": [
    "def extract_node(node, id):\n",
    "    symbol, children, *annotation = node\n",
    "    return symbol, children, ''.join(str(a) for a in annotation)"
   ]
  },
  {
   "cell_type": "markdown",
   "metadata": {
    "button": false,
    "new_sheet": false,
    "run_control": {
     "read_only": false
    },
    "slideshow": {
     "slide_type": "subslide"
    }
   },
   "source": [
    "While visualizing a tree, it is often useful to display certain nodes differently. For example, it is sometimes useful to distinguish between non-processed nodes and processed nodes. We define a helper procedure `default_node_attr()` that provides the basic display, which can be customized by the user."
   ]
  },
  {
   "cell_type": "code",
   "execution_count": 43,
   "metadata": {
    "execution": {
     "iopub.execute_input": "2024-06-29T16:13:13.754671Z",
     "iopub.status.busy": "2024-06-29T16:13:13.754577Z",
     "iopub.status.idle": "2024-06-29T16:13:13.756369Z",
     "shell.execute_reply": "2024-06-29T16:13:13.756108Z"
    },
    "slideshow": {
     "slide_type": "fragment"
    }
   },
   "outputs": [],
   "source": [
    "def default_node_attr(dot, nid, symbol, ann):\n",
    "    dot.node(repr(nid), dot_escape(symbol))"
   ]
  },
  {
   "cell_type": "markdown",
   "metadata": {
    "slideshow": {
     "slide_type": "fragment"
    }
   },
   "source": [
    "Similar to nodes, the edges may also require modifications. We define `default_edge_attr()` as a helper        procedure that can be customized by the user."
   ]
  },
  {
   "cell_type": "code",
   "execution_count": 44,
   "metadata": {
    "execution": {
     "iopub.execute_input": "2024-06-29T16:13:13.757876Z",
     "iopub.status.busy": "2024-06-29T16:13:13.757784Z",
     "iopub.status.idle": "2024-06-29T16:13:13.759588Z",
     "shell.execute_reply": "2024-06-29T16:13:13.759346Z"
    },
    "slideshow": {
     "slide_type": "fragment"
    }
   },
   "outputs": [],
   "source": [
    "def default_edge_attr(dot, start_node, stop_node):\n",
    "    dot.edge(repr(start_node), repr(stop_node))"
   ]
  },
  {
   "cell_type": "markdown",
   "metadata": {
    "slideshow": {
     "slide_type": "subslide"
    }
   },
   "source": [
    "While visualizing a tree, one may sometimes wish to change the appearance of the tree. For example, it is      sometimes easier to view the tree if it was laid out left to right rather than top to bottom. We define another      helper procedure `default_graph_attr()` for that."
   ]
  },
  {
   "cell_type": "code",
   "execution_count": 45,
   "metadata": {
    "execution": {
     "iopub.execute_input": "2024-06-29T16:13:13.761063Z",
     "iopub.status.busy": "2024-06-29T16:13:13.760968Z",
     "iopub.status.idle": "2024-06-29T16:13:13.762966Z",
     "shell.execute_reply": "2024-06-29T16:13:13.762711Z"
    },
    "slideshow": {
     "slide_type": "fragment"
    }
   },
   "outputs": [],
   "source": [
    "def default_graph_attr(dot):\n",
    "    dot.attr('node', shape='plain')"
   ]
  },
  {
   "cell_type": "markdown",
   "metadata": {
    "slideshow": {
     "slide_type": "fragment"
    }
   },
   "source": [
    "Finally, we define a method `display_tree()` that accepts these four functions `extract_node()`,               `default_edge_attr()`, `default_node_attr()` and `default_graph_attr()` and uses them to display the tree."
   ]
  },
  {
   "cell_type": "code",
   "execution_count": 46,
   "metadata": {
    "execution": {
     "iopub.execute_input": "2024-06-29T16:13:13.764434Z",
     "iopub.status.busy": "2024-06-29T16:13:13.764347Z",
     "iopub.status.idle": "2024-06-29T16:13:13.767287Z",
     "shell.execute_reply": "2024-06-29T16:13:13.767017Z"
    },
    "slideshow": {
     "slide_type": "subslide"
    }
   },
   "outputs": [],
   "source": [
    "def display_tree(derivation_tree: DerivationTree,\n",
    "                 log: bool = False,\n",
    "                 extract_node: Callable = extract_node,\n",
    "                 node_attr: Callable = default_node_attr,\n",
    "                 edge_attr: Callable = default_edge_attr,\n",
    "                 graph_attr: Callable = default_graph_attr) -> Any:\n",
    "\n",
    "    # If we import display_tree, we also have to import its functions\n",
    "    from graphviz import Digraph\n",
    "\n",
    "    counter = 0\n",
    "\n",
    "    def traverse_tree(dot, tree, id=0):\n",
    "        (symbol, children, annotation) = extract_node(tree, id)\n",
    "        node_attr(dot, id, symbol, annotation)\n",
    "\n",
    "        if children:\n",
    "            for child in children:\n",
    "                nonlocal counter\n",
    "                counter += 1\n",
    "                child_id = counter\n",
    "                edge_attr(dot, id, child_id)\n",
    "                traverse_tree(dot, child, child_id)\n",
    "\n",
    "    dot = Digraph(comment=\"Derivation Tree\")\n",
    "    graph_attr(dot)\n",
    "    traverse_tree(dot, derivation_tree)\n",
    "    if log:\n",
    "        print(dot)\n",
    "    return dot"
   ]
  },
  {
   "cell_type": "markdown",
   "metadata": {
    "slideshow": {
     "slide_type": "subslide"
    }
   },
   "source": [
    "#### End of Excursion"
   ]
  },
  {
   "cell_type": "markdown",
   "metadata": {
    "slideshow": {
     "slide_type": "fragment"
    }
   },
   "source": [
    "This is what our tree visualizes into:"
   ]
  },
  {
   "cell_type": "code",
   "execution_count": 47,
   "metadata": {
    "execution": {
     "iopub.execute_input": "2024-06-29T16:13:13.768810Z",
     "iopub.status.busy": "2024-06-29T16:13:13.768702Z",
     "iopub.status.idle": "2024-06-29T16:13:14.168013Z",
     "shell.execute_reply": "2024-06-29T16:13:14.167625Z"
    },
    "slideshow": {
     "slide_type": "fragment"
    }
   },
   "outputs": [
    {
     "data": {
      "image/svg+xml": [
       "<?xml version=\"1.0\" encoding=\"UTF-8\" standalone=\"no\"?>\n",
       "<!DOCTYPE svg PUBLIC \"-//W3C//DTD SVG 1.1//EN\"\n",
       " \"http://www.w3.org/Graphics/SVG/1.1/DTD/svg11.dtd\">\n",
       "<!-- Generated by graphviz version 11.0.0 (20240428.1522)\n",
       " -->\n",
       "<!-- Pages: 1 -->\n",
       "<svg width=\"142pt\" height=\"123pt\"\n",
       " viewBox=\"0.00 0.00 142.25 122.75\" xmlns=\"http://www.w3.org/2000/svg\" xmlns:xlink=\"http://www.w3.org/1999/xlink\">\n",
       "<g id=\"graph0\" class=\"graph\" transform=\"scale(1 1) rotate(0) translate(4 118.75)\">\n",
       "<polygon fill=\"white\" stroke=\"none\" points=\"-4,4 -4,-118.75 138.25,-118.75 138.25,4 -4,4\"/>\n",
       "<!-- 0 -->\n",
       "<g id=\"node1\" class=\"node\">\n",
       "<title>0</title>\n",
       "<text text-anchor=\"middle\" x=\"66.25\" y=\"-101.45\" font-family=\"Times,serif\" font-size=\"14.00\">&lt;start&gt;</text>\n",
       "</g>\n",
       "<!-- 1 -->\n",
       "<g id=\"node2\" class=\"node\">\n",
       "<title>1</title>\n",
       "<text text-anchor=\"middle\" x=\"66.25\" y=\"-51.2\" font-family=\"Times,serif\" font-size=\"14.00\">&lt;expr&gt;</text>\n",
       "</g>\n",
       "<!-- 0&#45;&gt;1 -->\n",
       "<g id=\"edge1\" class=\"edge\">\n",
       "<title>0&#45;&gt;1</title>\n",
       "<path fill=\"none\" stroke=\"black\" d=\"M66.25,-100.71C66.25,-94.49 66.25,-84.4 66.25,-75.64\"/>\n",
       "<polygon fill=\"black\" stroke=\"black\" points=\"69.75,-75.85 66.25,-65.85 62.75,-75.85 69.75,-75.85\"/>\n",
       "</g>\n",
       "<!-- 2 -->\n",
       "<g id=\"node3\" class=\"node\">\n",
       "<title>2</title>\n",
       "<text text-anchor=\"middle\" x=\"20.25\" y=\"-0.95\" font-family=\"Times,serif\" font-size=\"14.00\">&lt;expr&gt;</text>\n",
       "</g>\n",
       "<!-- 1&#45;&gt;2 -->\n",
       "<g id=\"edge2\" class=\"edge\">\n",
       "<title>1&#45;&gt;2</title>\n",
       "<path fill=\"none\" stroke=\"black\" d=\"M60.61,-50.46C53.99,-43.51 42.78,-31.75 33.85,-22.39\"/>\n",
       "<polygon fill=\"black\" stroke=\"black\" points=\"36.41,-20.01 26.98,-15.19 31.35,-24.84 36.41,-20.01\"/>\n",
       "</g>\n",
       "<!-- 3 -->\n",
       "<g id=\"node4\" class=\"node\">\n",
       "<title>3</title>\n",
       "<text text-anchor=\"middle\" x=\"66.25\" y=\"-0.95\" font-family=\"Times,serif\" font-size=\"14.00\"> + </text>\n",
       "</g>\n",
       "<!-- 1&#45;&gt;3 -->\n",
       "<g id=\"edge3\" class=\"edge\">\n",
       "<title>1&#45;&gt;3</title>\n",
       "<path fill=\"none\" stroke=\"black\" d=\"M66.25,-50.46C66.25,-44.24 66.25,-34.15 66.25,-25.39\"/>\n",
       "<polygon fill=\"black\" stroke=\"black\" points=\"69.75,-25.6 66.25,-15.6 62.75,-25.6 69.75,-25.6\"/>\n",
       "</g>\n",
       "<!-- 4 -->\n",
       "<g id=\"node5\" class=\"node\">\n",
       "<title>4</title>\n",
       "<text text-anchor=\"middle\" x=\"113.25\" y=\"-0.95\" font-family=\"Times,serif\" font-size=\"14.00\">&lt;term&gt;</text>\n",
       "</g>\n",
       "<!-- 1&#45;&gt;4 -->\n",
       "<g id=\"edge4\" class=\"edge\">\n",
       "<title>1&#45;&gt;4</title>\n",
       "<path fill=\"none\" stroke=\"black\" d=\"M72.01,-50.46C78.85,-43.44 90.47,-31.51 99.64,-22.1\"/>\n",
       "<polygon fill=\"black\" stroke=\"black\" points=\"101.91,-24.78 106.38,-15.17 96.9,-19.9 101.91,-24.78\"/>\n",
       "</g>\n",
       "</g>\n",
       "</svg>\n"
      ],
      "text/plain": [
       "<graphviz.graphs.Digraph at 0x15d56fac0>"
      ]
     },
     "execution_count": 47,
     "metadata": {},
     "output_type": "execute_result"
    }
   ],
   "source": [
    "display_tree(derivation_tree)"
   ]
  },
  {
   "cell_type": "code",
   "execution_count": 48,
   "metadata": {
    "execution": {
     "iopub.execute_input": "2024-06-29T16:13:14.169797Z",
     "iopub.status.busy": "2024-06-29T16:13:14.169677Z",
     "iopub.status.idle": "2024-06-29T16:13:14.174305Z",
     "shell.execute_reply": "2024-06-29T16:13:14.174017Z"
    },
    "slideshow": {
     "slide_type": "fragment"
    }
   },
   "outputs": [
    {
     "data": {
      "text/html": [
       "\n",
       "    \n",
       "    <script>\n",
       "    var bad_answers = new Map();\n",
       "\n",
       "    function answer(quiz_id) {\n",
       "        ans = 0;\n",
       "        for (i = 1;; i++) {\n",
       "            checkbox = document.getElementById(quiz_id + \"-\" + i.toString());\n",
       "            if (!checkbox)\n",
       "                break;\n",
       "            if (checkbox.checked)\n",
       "                ans |= (1 << i);\n",
       "        }\n",
       "        return ans;\n",
       "    }\n",
       "    function check_selection(quiz_id, correct_answer, multiple_choice, hint) {\n",
       "        given_answer = answer(quiz_id);\n",
       "        if (given_answer == correct_answer)\n",
       "        {\n",
       "            document.getElementById(quiz_id + \"-submit\").value = \"Correct!\";\n",
       "            document.getElementById(quiz_id + \"-hint\").innerHTML = \"\";\n",
       "\n",
       "            for (i = 1;; i++) {\n",
       "                checkbox = document.getElementById(quiz_id + \"-\" + i.toString());\n",
       "                label = document.getElementById(quiz_id + \"-\" + i.toString() + \"-label\")\n",
       "                if (!checkbox)\n",
       "                    break;\n",
       "    \n",
       "                if (checkbox.checked) {\n",
       "                    label.style.fontWeight = \"bold\";\n",
       "                }\n",
       "                else {\n",
       "                    label.style.textDecoration = \"line-through\";\n",
       "                }\n",
       "            }\n",
       "        }\n",
       "        else \n",
       "        {\n",
       "            document.getElementById(quiz_id + \"-submit\").value = \"Try again\";\n",
       "            \n",
       "            if (!bad_answers.has(quiz_id)) {\n",
       "                bad_answers.set(quiz_id, 1);\n",
       "            }\n",
       "            else {\n",
       "                bad_answers.set(quiz_id, bad_answers.get(quiz_id) + 1);\n",
       "            }\n",
       "\n",
       "            if (bad_answers.get(quiz_id) >= 2 && hint.length > 0) {\n",
       "                document.getElementById(quiz_id + \"-hint\").innerHTML = \n",
       "                    \"&nbsp;&nbsp;(Hint: <code>\" + hint + \"</code>)\";\n",
       "            }\n",
       "\n",
       "            if (!multiple_choice) {\n",
       "                for (i = 1;; i++) {\n",
       "                    checkbox = document.getElementById(quiz_id + \"-\" + i.toString());\n",
       "                    label = document.getElementById(quiz_id + \"-\" + i.toString() + \"-label\")\n",
       "\n",
       "                    if (!checkbox)\n",
       "                        break;\n",
       "                    if (checkbox.checked) {\n",
       "                        label.style.textDecoration = \"line-through\";\n",
       "                    }\n",
       "                }\n",
       "            }\n",
       "        }\n",
       "    }\n",
       "    function clear_selection(quiz_id) {\n",
       "        document.getElementById(quiz_id + \"-submit\").value = \"Submit\";\n",
       "        document.getElementById(quiz_id + \"-hint\").innerHTML = \"\";\n",
       "    }\n",
       "    </script>\n",
       "    \n",
       "    <div class=\"quiz\">\n",
       "    <h3 class=\"quiz_title\">Quiz</h3>\n",
       "    <p>\n",
       "    <div class=\"quiz_question\">And which of these is the internal representation of <code>derivation_tree</code>?</div>\n",
       "    </p>\n",
       "    <p>\n",
       "    <div class=\"quiz_options\" title=\"Pick a choice.\">\n",
       "    \n",
       "        <input type=\"radio\" name=\"7ccace54-3632-11ef-8884-6298cf1a578f\" id=\"7ccace54-3632-11ef-8884-6298cf1a578f-1\" onclick=\"clear_selection('7ccace54-3632-11ef-8884-6298cf1a578f')\">\n",
       "        <label id=\"7ccace54-3632-11ef-8884-6298cf1a578f-1-label\" for=\"7ccace54-3632-11ef-8884-6298cf1a578f-1\"><code>('&lt;start&gt;', [('&lt;expr&gt;', (['&lt;expr&gt; + &lt;term&gt;']))])</code></label><br>\n",
       "    \n",
       "        <input type=\"radio\" name=\"7ccace54-3632-11ef-8884-6298cf1a578f\" id=\"7ccace54-3632-11ef-8884-6298cf1a578f-2\" onclick=\"clear_selection('7ccace54-3632-11ef-8884-6298cf1a578f')\">\n",
       "        <label id=\"7ccace54-3632-11ef-8884-6298cf1a578f-2-label\" for=\"7ccace54-3632-11ef-8884-6298cf1a578f-2\"><code>('&lt;start&gt;', [('&lt;expr&gt;', (['&lt;expr&gt;', ' + ', &lt;term&gt;']))])</code></label><br>\n",
       "    \n",
       "        <input type=\"radio\" name=\"7ccace54-3632-11ef-8884-6298cf1a578f\" id=\"7ccace54-3632-11ef-8884-6298cf1a578f-3\" onclick=\"clear_selection('7ccace54-3632-11ef-8884-6298cf1a578f')\">\n",
       "        <label id=\"7ccace54-3632-11ef-8884-6298cf1a578f-3-label\" for=\"7ccace54-3632-11ef-8884-6298cf1a578f-3\"><code>('&lt;start&gt;', [('&lt;expr&gt;', [('&lt;expr&gt;', None), (' + ', []), ('&lt;term&gt;', None)])])</code></label><br>\n",
       "    \n",
       "        <input type=\"radio\" name=\"7ccace54-3632-11ef-8884-6298cf1a578f\" id=\"7ccace54-3632-11ef-8884-6298cf1a578f-4\" onclick=\"clear_selection('7ccace54-3632-11ef-8884-6298cf1a578f')\">\n",
       "        <label id=\"7ccace54-3632-11ef-8884-6298cf1a578f-4-label\" for=\"7ccace54-3632-11ef-8884-6298cf1a578f-4\"><code>(('&lt;start&gt;', [('&lt;expr&gt;', [('&lt;expr&gt;', None), (' + ', []), ('&lt;term&gt;', None)])]), None)</code></label><br>\n",
       "    \n",
       "    </div>\n",
       "    </p>\n",
       "    <input id=\"7ccace54-3632-11ef-8884-6298cf1a578f-submit\" type=\"submit\" value=\"Submit\" onclick=\"check_selection('7ccace54-3632-11ef-8884-6298cf1a578f', 8, 0, '')\">\n",
       "    <span class=\"quiz_hint\" id=\"7ccace54-3632-11ef-8884-6298cf1a578f-hint\"></span>\n",
       "    </div>\n",
       "    "
      ],
      "text/plain": [
       "<IPython.core.display.HTML object>"
      ]
     },
     "execution_count": 48,
     "metadata": {},
     "output_type": "execute_result"
    }
   ],
   "source": [
    "quiz(\"And which of these is the internal representation of `derivation_tree`?\",\n",
    "    [\n",
    "        \"`('<start>', [('<expr>', (['<expr> + <term>']))])`\",\n",
    "        \"`('<start>', [('<expr>', (['<expr>', ' + ', <term>']))])`\",\n",
    "        \"`\" + repr(derivation_tree) + \"`\",\n",
    "        \"`(\" + repr(derivation_tree) + \", None)`\"\n",
    "    ], len(\"eleven\") - len(\"one\"))"
   ]
  },
  {
   "cell_type": "markdown",
   "metadata": {
    "slideshow": {
     "slide_type": "fragment"
    }
   },
   "source": [
    "You can check it out yourself:"
   ]
  },
  {
   "cell_type": "code",
   "execution_count": 49,
   "metadata": {
    "execution": {
     "iopub.execute_input": "2024-06-29T16:13:14.176069Z",
     "iopub.status.busy": "2024-06-29T16:13:14.175953Z",
     "iopub.status.idle": "2024-06-29T16:13:14.178292Z",
     "shell.execute_reply": "2024-06-29T16:13:14.178013Z"
    },
    "slideshow": {
     "slide_type": "fragment"
    }
   },
   "outputs": [
    {
     "data": {
      "text/plain": [
       "('<start>', [('<expr>', [('<expr>', None), (' + ', []), ('<term>', None)])])"
      ]
     },
     "execution_count": 49,
     "metadata": {},
     "output_type": "execute_result"
    }
   ],
   "source": [
    "derivation_tree"
   ]
  },
  {
   "cell_type": "markdown",
   "metadata": {
    "slideshow": {
     "slide_type": "subslide"
    }
   },
   "source": [
    "Within this book, we also occasionally use a function `display_annotated_tree()` which allows adding annotations to individual nodes."
   ]
  },
  {
   "cell_type": "markdown",
   "metadata": {
    "slideshow": {
     "slide_type": "subslide"
    }
   },
   "source": [
    "#### Excursion: Source code and example for `display_annotated_tree()`"
   ]
  },
  {
   "cell_type": "markdown",
   "metadata": {
    "slideshow": {
     "slide_type": "fragment"
    }
   },
   "source": [
    "`display_annotated_tree()` displays an annotated tree structure, and lays out the graph left to right."
   ]
  },
  {
   "cell_type": "code",
   "execution_count": 50,
   "metadata": {
    "execution": {
     "iopub.execute_input": "2024-06-29T16:13:14.180028Z",
     "iopub.status.busy": "2024-06-29T16:13:14.179907Z",
     "iopub.status.idle": "2024-06-29T16:13:14.183301Z",
     "shell.execute_reply": "2024-06-29T16:13:14.183019Z"
    },
    "slideshow": {
     "slide_type": "subslide"
    }
   },
   "outputs": [],
   "source": [
    "def display_annotated_tree(tree: DerivationTree,\n",
    "                           a_nodes: Dict[int, str],\n",
    "                           a_edges: Dict[Tuple[int, int], str],\n",
    "                           log: bool = False):\n",
    "    def graph_attr(dot):\n",
    "        dot.attr('node', shape='plain')\n",
    "        dot.graph_attr['rankdir'] = 'LR'\n",
    "\n",
    "    def annotate_node(dot, nid, symbol, ann):\n",
    "        if nid in a_nodes:\n",
    "            dot.node(repr(nid), \n",
    "                     \"%s (%s)\" % (dot_escape(unicode_escape(symbol)),\n",
    "                                  a_nodes[nid]))\n",
    "        else:\n",
    "            dot.node(repr(nid), dot_escape(unicode_escape(symbol)))\n",
    "\n",
    "    def annotate_edge(dot, start_node, stop_node):\n",
    "        if (start_node, stop_node) in a_edges:\n",
    "            dot.edge(repr(start_node), repr(stop_node),\n",
    "                     a_edges[(start_node, stop_node)])\n",
    "        else:\n",
    "            dot.edge(repr(start_node), repr(stop_node))\n",
    "\n",
    "    return display_tree(tree, log=log,\n",
    "                        node_attr=annotate_node,\n",
    "                        edge_attr=annotate_edge,\n",
    "                        graph_attr=graph_attr)"
   ]
  },
  {
   "cell_type": "code",
   "execution_count": 51,
   "metadata": {
    "execution": {
     "iopub.execute_input": "2024-06-29T16:13:14.184834Z",
     "iopub.status.busy": "2024-06-29T16:13:14.184741Z",
     "iopub.status.idle": "2024-06-29T16:13:14.586293Z",
     "shell.execute_reply": "2024-06-29T16:13:14.585853Z"
    },
    "slideshow": {
     "slide_type": "subslide"
    }
   },
   "outputs": [
    {
     "data": {
      "image/svg+xml": [
       "<?xml version=\"1.0\" encoding=\"UTF-8\" standalone=\"no\"?>\n",
       "<!DOCTYPE svg PUBLIC \"-//W3C//DTD SVG 1.1//EN\"\n",
       " \"http://www.w3.org/Graphics/SVG/1.1/DTD/svg11.dtd\">\n",
       "<!-- Generated by graphviz version 11.0.0 (20240428.1522)\n",
       " -->\n",
       "<!-- Pages: 1 -->\n",
       "<svg width=\"225pt\" height=\"91pt\"\n",
       " viewBox=\"0.00 0.00 224.75 91.25\" xmlns=\"http://www.w3.org/2000/svg\" xmlns:xlink=\"http://www.w3.org/1999/xlink\">\n",
       "<g id=\"graph0\" class=\"graph\" transform=\"scale(1 1) rotate(0) translate(4 87.25)\">\n",
       "<polygon fill=\"white\" stroke=\"none\" points=\"-4,4 -4,-87.25 220.75,-87.25 220.75,4 -4,4\"/>\n",
       "<!-- 0 -->\n",
       "<g id=\"node1\" class=\"node\">\n",
       "<title>0</title>\n",
       "<text text-anchor=\"middle\" x=\"19.88\" y=\"-32.95\" font-family=\"Times,serif\" font-size=\"14.00\">&lt;start&gt;</text>\n",
       "</g>\n",
       "<!-- 1 -->\n",
       "<g id=\"node2\" class=\"node\">\n",
       "<title>1</title>\n",
       "<text text-anchor=\"middle\" x=\"96\" y=\"-32.95\" font-family=\"Times,serif\" font-size=\"14.00\">&lt;expr&gt;</text>\n",
       "</g>\n",
       "<!-- 0&#45;&gt;1 -->\n",
       "<g id=\"edge1\" class=\"edge\">\n",
       "<title>0&#45;&gt;1</title>\n",
       "<path fill=\"none\" stroke=\"black\" d=\"M39.58,-39.12C47.1,-39.12 55.97,-39.12 64.38,-39.12\"/>\n",
       "<polygon fill=\"black\" stroke=\"black\" points=\"64.27,-42.63 74.27,-39.13 64.27,-35.63 64.27,-42.63\"/>\n",
       "</g>\n",
       "<!-- 2 -->\n",
       "<g id=\"node3\" class=\"node\">\n",
       "<title>2</title>\n",
       "<text text-anchor=\"middle\" x=\"191.25\" y=\"-69.95\" font-family=\"Times,serif\" font-size=\"14.00\">&lt;expr&gt;</text>\n",
       "</g>\n",
       "<!-- 1&#45;&gt;2 -->\n",
       "<g id=\"edge2\" class=\"edge\">\n",
       "<title>1&#45;&gt;2</title>\n",
       "<path fill=\"none\" stroke=\"black\" d=\"M114.42,-46.18C120.67,-48.7 127.77,-51.55 134.25,-54.12 143.12,-57.65 152.8,-61.47 161.57,-64.91\"/>\n",
       "<polygon fill=\"black\" stroke=\"black\" points=\"160.08,-68.09 170.67,-68.48 162.63,-61.57 160.08,-68.09\"/>\n",
       "</g>\n",
       "<!-- 3 -->\n",
       "<g id=\"node4\" class=\"node\">\n",
       "<title>3</title>\n",
       "<text text-anchor=\"middle\" x=\"191.25\" y=\"-32.95\" font-family=\"Times,serif\" font-size=\"14.00\"> + &#160;(plus)</text>\n",
       "</g>\n",
       "<!-- 1&#45;&gt;3 -->\n",
       "<g id=\"edge3\" class=\"edge\">\n",
       "<title>1&#45;&gt;3</title>\n",
       "<path fill=\"none\" stroke=\"black\" d=\"M115.87,-39.12C127.07,-39.12 141.62,-39.12 154.88,-39.12\"/>\n",
       "<polygon fill=\"black\" stroke=\"black\" points=\"154.57,-42.63 164.57,-39.13 154.57,-35.63 154.57,-42.63\"/>\n",
       "<text text-anchor=\"middle\" x=\"141\" y=\"-40.08\" font-family=\"Times,serif\" font-size=\"14.00\">op</text>\n",
       "</g>\n",
       "<!-- 4 -->\n",
       "<g id=\"node5\" class=\"node\">\n",
       "<title>4</title>\n",
       "<text text-anchor=\"middle\" x=\"191.25\" y=\"-0.95\" font-family=\"Times,serif\" font-size=\"14.00\">&lt;term&gt;</text>\n",
       "</g>\n",
       "<!-- 1&#45;&gt;4 -->\n",
       "<g id=\"edge4\" class=\"edge\">\n",
       "<title>1&#45;&gt;4</title>\n",
       "<path fill=\"none\" stroke=\"black\" d=\"M115.87,-32.65C128.51,-28.31 145.42,-22.51 159.93,-17.53\"/>\n",
       "<polygon fill=\"black\" stroke=\"black\" points=\"160.69,-20.97 169.01,-14.41 158.42,-14.35 160.69,-20.97\"/>\n",
       "</g>\n",
       "</g>\n",
       "</svg>\n"
      ],
      "text/plain": [
       "<graphviz.graphs.Digraph at 0x15d56ce80>"
      ]
     },
     "execution_count": 51,
     "metadata": {},
     "output_type": "execute_result"
    }
   ],
   "source": [
    "display_annotated_tree(derivation_tree, {3: 'plus'}, {(1, 3): 'op'}, log=False)"
   ]
  },
  {
   "cell_type": "markdown",
   "metadata": {
    "slideshow": {
     "slide_type": "subslide"
    }
   },
   "source": [
    "#### End of Excursion"
   ]
  },
  {
   "cell_type": "markdown",
   "metadata": {
    "slideshow": {
     "slide_type": "fragment"
    }
   },
   "source": [
    "If we want to see all the leaf nodes in a tree as a string, the following `all_terminals()` function comes in handy:"
   ]
  },
  {
   "cell_type": "code",
   "execution_count": 52,
   "metadata": {
    "button": false,
    "execution": {
     "iopub.execute_input": "2024-06-29T16:13:14.588226Z",
     "iopub.status.busy": "2024-06-29T16:13:14.588108Z",
     "iopub.status.idle": "2024-06-29T16:13:14.590397Z",
     "shell.execute_reply": "2024-06-29T16:13:14.590137Z"
    },
    "new_sheet": false,
    "run_control": {
     "read_only": false
    },
    "slideshow": {
     "slide_type": "fragment"
    }
   },
   "outputs": [],
   "source": [
    "def all_terminals(tree: DerivationTree) -> str:\n",
    "    (symbol, children) = tree\n",
    "    if children is None:\n",
    "        # This is a nonterminal symbol not expanded yet\n",
    "        return symbol\n",
    "\n",
    "    if len(children) == 0:\n",
    "        # This is a terminal symbol\n",
    "        return symbol\n",
    "\n",
    "    # This is an expanded symbol:\n",
    "    # Concatenate all terminal symbols from all children\n",
    "    return ''.join([all_terminals(c) for c in children])"
   ]
  },
  {
   "cell_type": "code",
   "execution_count": 53,
   "metadata": {
    "button": false,
    "execution": {
     "iopub.execute_input": "2024-06-29T16:13:14.591914Z",
     "iopub.status.busy": "2024-06-29T16:13:14.591813Z",
     "iopub.status.idle": "2024-06-29T16:13:14.593817Z",
     "shell.execute_reply": "2024-06-29T16:13:14.593560Z"
    },
    "new_sheet": false,
    "run_control": {
     "read_only": false
    },
    "slideshow": {
     "slide_type": "fragment"
    }
   },
   "outputs": [
    {
     "data": {
      "text/plain": [
       "'<expr> + <term>'"
      ]
     },
     "execution_count": 53,
     "metadata": {},
     "output_type": "execute_result"
    }
   ],
   "source": [
    "all_terminals(derivation_tree)"
   ]
  },
  {
   "cell_type": "markdown",
   "metadata": {
    "slideshow": {
     "slide_type": "subslide"
    }
   },
   "source": [
    "The alternative `tree_to_string()` function also converts the tree to a string; however, it replaces nonterminal symbols by empty strings."
   ]
  },
  {
   "cell_type": "code",
   "execution_count": 54,
   "metadata": {
    "execution": {
     "iopub.execute_input": "2024-06-29T16:13:14.595292Z",
     "iopub.status.busy": "2024-06-29T16:13:14.595178Z",
     "iopub.status.idle": "2024-06-29T16:13:14.597116Z",
     "shell.execute_reply": "2024-06-29T16:13:14.596861Z"
    },
    "slideshow": {
     "slide_type": "fragment"
    }
   },
   "outputs": [],
   "source": [
    "def tree_to_string(tree: DerivationTree) -> str:\n",
    "    symbol, children, *_ = tree\n",
    "    if children:\n",
    "        return ''.join(tree_to_string(c) for c in children)\n",
    "    else:\n",
    "        return '' if is_nonterminal(symbol) else symbol"
   ]
  },
  {
   "cell_type": "code",
   "execution_count": 55,
   "metadata": {
    "execution": {
     "iopub.execute_input": "2024-06-29T16:13:14.598516Z",
     "iopub.status.busy": "2024-06-29T16:13:14.598414Z",
     "iopub.status.idle": "2024-06-29T16:13:14.600458Z",
     "shell.execute_reply": "2024-06-29T16:13:14.600188Z"
    },
    "slideshow": {
     "slide_type": "fragment"
    }
   },
   "outputs": [
    {
     "data": {
      "text/plain": [
       "' + '"
      ]
     },
     "execution_count": 55,
     "metadata": {},
     "output_type": "execute_result"
    }
   ],
   "source": [
    "tree_to_string(derivation_tree)"
   ]
  },
  {
   "cell_type": "markdown",
   "metadata": {
    "button": false,
    "new_sheet": false,
    "run_control": {
     "read_only": false
    },
    "slideshow": {
     "slide_type": "slide"
    }
   },
   "source": [
    "## Expanding a Node"
   ]
  },
  {
   "attachments": {},
   "cell_type": "markdown",
   "metadata": {
    "button": false,
    "new_sheet": false,
    "run_control": {
     "read_only": false
    },
    "slideshow": {
     "slide_type": "fragment"
    }
   },
   "source": [
    "Let us now develop an algorithm that takes a tree with non-expanded symbols (say, `derivation_tree`, above), and expands all these symbols one after the other.  As with earlier fuzzers, we create a special subclass of `Fuzzer` – in this case, `GrammarFuzzer`.  A `GrammarFuzzer` gets a grammar and a start symbol; the other parameters will be used later to further control creation and to support debugging."
   ]
  },
  {
   "cell_type": "code",
   "execution_count": 56,
   "metadata": {
    "execution": {
     "iopub.execute_input": "2024-06-29T16:13:14.602065Z",
     "iopub.status.busy": "2024-06-29T16:13:14.601942Z",
     "iopub.status.idle": "2024-06-29T16:13:14.603679Z",
     "shell.execute_reply": "2024-06-29T16:13:14.603405Z"
    },
    "slideshow": {
     "slide_type": "skip"
    }
   },
   "outputs": [],
   "source": [
    "from Fuzzer import Fuzzer"
   ]
  },
  {
   "cell_type": "code",
   "execution_count": 57,
   "metadata": {
    "button": false,
    "execution": {
     "iopub.execute_input": "2024-06-29T16:13:14.605140Z",
     "iopub.status.busy": "2024-06-29T16:13:14.605025Z",
     "iopub.status.idle": "2024-06-29T16:13:14.607783Z",
     "shell.execute_reply": "2024-06-29T16:13:14.607445Z"
    },
    "new_sheet": false,
    "run_control": {
     "read_only": false
    },
    "slideshow": {
     "slide_type": "subslide"
    }
   },
   "outputs": [],
   "source": [
    "class GrammarFuzzer(Fuzzer):\n",
    "    \"\"\"Produce strings from grammars efficiently, using derivation trees.\"\"\"\n",
    "\n",
    "    def __init__(self,\n",
    "                 grammar: Grammar,\n",
    "                 start_symbol: str = START_SYMBOL,\n",
    "                 min_nonterminals: int = 0,\n",
    "                 max_nonterminals: int = 10,\n",
    "                 disp: bool = False,\n",
    "                 log: Union[bool, int] = False) -> None:\n",
    "        \"\"\"Produce strings from `grammar`, starting with `start_symbol`.\n",
    "        If `min_nonterminals` or `max_nonterminals` is given, use them as limits \n",
    "        for the number of nonterminals produced.  \n",
    "        If `disp` is set, display the intermediate derivation trees.\n",
    "        If `log` is set, show intermediate steps as text on standard output.\"\"\"\n",
    "\n",
    "        self.grammar = grammar\n",
    "        self.start_symbol = start_symbol\n",
    "        self.min_nonterminals = min_nonterminals\n",
    "        self.max_nonterminals = max_nonterminals\n",
    "        self.disp = disp\n",
    "        self.log = log\n",
    "        self.check_grammar()  # Invokes is_valid_grammar()"
   ]
  },
  {
   "cell_type": "markdown",
   "metadata": {
    "slideshow": {
     "slide_type": "subslide"
    }
   },
   "source": [
    "To add further methods to `GrammarFuzzer`, we use the hack already introduced for [the `MutationFuzzer` class](MutationFuzzer.ipynb).  The construct\n",
    "\n",
    "```python\n",
    "class GrammarFuzzer(GrammarFuzzer):\n",
    "    def new_method(self, args):\n",
    "        pass\n",
    "```\n",
    "\n",
    "allows us to add a new method `new_method()` to the `GrammarFuzzer` class. (Actually, we get a new `GrammarFuzzer` class that extends the old one, but for all our purposes, this does not matter.)"
   ]
  },
  {
   "cell_type": "markdown",
   "metadata": {
    "slideshow": {
     "slide_type": "subslide"
    }
   },
   "source": [
    "#### Excursion: `check_grammar()` implementation"
   ]
  },
  {
   "cell_type": "markdown",
   "metadata": {
    "slideshow": {
     "slide_type": "fragment"
    }
   },
   "source": [
    "We can use the above hack to define the helper method `check_grammar()`, which checks the given grammar for consistency:"
   ]
  },
  {
   "cell_type": "code",
   "execution_count": 58,
   "metadata": {
    "execution": {
     "iopub.execute_input": "2024-06-29T16:13:14.609654Z",
     "iopub.status.busy": "2024-06-29T16:13:14.609497Z",
     "iopub.status.idle": "2024-06-29T16:13:14.611900Z",
     "shell.execute_reply": "2024-06-29T16:13:14.611635Z"
    },
    "slideshow": {
     "slide_type": "fragment"
    }
   },
   "outputs": [],
   "source": [
    "class GrammarFuzzer(GrammarFuzzer):\n",
    "    def check_grammar(self) -> None:\n",
    "        \"\"\"Check the grammar passed\"\"\"\n",
    "        assert self.start_symbol in self.grammar\n",
    "        assert is_valid_grammar(\n",
    "            self.grammar,\n",
    "            start_symbol=self.start_symbol,\n",
    "            supported_opts=self.supported_opts())\n",
    "\n",
    "    def supported_opts(self) -> Set[str]:\n",
    "        \"\"\"Set of supported options. To be overloaded in subclasses.\"\"\"\n",
    "        return set()  # We don't support specific options"
   ]
  },
  {
   "cell_type": "markdown",
   "metadata": {
    "slideshow": {
     "slide_type": "subslide"
    }
   },
   "source": [
    "#### End of Excursion"
   ]
  },
  {
   "cell_type": "markdown",
   "metadata": {
    "button": false,
    "new_sheet": false,
    "run_control": {
     "read_only": false
    },
    "slideshow": {
     "slide_type": "subslide"
    }
   },
   "source": [
    "Let us now define a helper method `init_tree()` that constructs a tree with just the start symbol:"
   ]
  },
  {
   "cell_type": "code",
   "execution_count": 59,
   "metadata": {
    "button": false,
    "execution": {
     "iopub.execute_input": "2024-06-29T16:13:14.613726Z",
     "iopub.status.busy": "2024-06-29T16:13:14.613582Z",
     "iopub.status.idle": "2024-06-29T16:13:14.615428Z",
     "shell.execute_reply": "2024-06-29T16:13:14.615149Z"
    },
    "new_sheet": false,
    "run_control": {
     "read_only": false
    },
    "slideshow": {
     "slide_type": "fragment"
    }
   },
   "outputs": [],
   "source": [
    "class GrammarFuzzer(GrammarFuzzer):\n",
    "    def init_tree(self) -> DerivationTree:\n",
    "        return (self.start_symbol, None)"
   ]
  },
  {
   "cell_type": "code",
   "execution_count": 60,
   "metadata": {
    "button": false,
    "execution": {
     "iopub.execute_input": "2024-06-29T16:13:14.616942Z",
     "iopub.status.busy": "2024-06-29T16:13:14.616826Z",
     "iopub.status.idle": "2024-06-29T16:13:15.014321Z",
     "shell.execute_reply": "2024-06-29T16:13:15.013891Z"
    },
    "new_sheet": false,
    "run_control": {
     "read_only": false
    },
    "slideshow": {
     "slide_type": "fragment"
    }
   },
   "outputs": [
    {
     "data": {
      "image/svg+xml": [
       "<?xml version=\"1.0\" encoding=\"UTF-8\" standalone=\"no\"?>\n",
       "<!DOCTYPE svg PUBLIC \"-//W3C//DTD SVG 1.1//EN\"\n",
       " \"http://www.w3.org/Graphics/SVG/1.1/DTD/svg11.dtd\">\n",
       "<!-- Generated by graphviz version 11.0.0 (20240428.1522)\n",
       " -->\n",
       "<!-- Pages: 1 -->\n",
       "<svg width=\"48pt\" height=\"22pt\"\n",
       " viewBox=\"0.00 0.00 47.75 22.25\" xmlns=\"http://www.w3.org/2000/svg\" xmlns:xlink=\"http://www.w3.org/1999/xlink\">\n",
       "<g id=\"graph0\" class=\"graph\" transform=\"scale(1 1) rotate(0) translate(4 18.25)\">\n",
       "<polygon fill=\"white\" stroke=\"none\" points=\"-4,4 -4,-18.25 43.75,-18.25 43.75,4 -4,4\"/>\n",
       "<!-- 0 -->\n",
       "<g id=\"node1\" class=\"node\">\n",
       "<title>0</title>\n",
       "<text text-anchor=\"middle\" x=\"19.88\" y=\"-0.95\" font-family=\"Times,serif\" font-size=\"14.00\">&lt;start&gt;</text>\n",
       "</g>\n",
       "</g>\n",
       "</svg>\n"
      ],
      "text/plain": [
       "<graphviz.graphs.Digraph at 0x15d56f820>"
      ]
     },
     "execution_count": 60,
     "metadata": {},
     "output_type": "execute_result"
    }
   ],
   "source": [
    "f = GrammarFuzzer(EXPR_GRAMMAR)\n",
    "display_tree(f.init_tree())"
   ]
  },
  {
   "cell_type": "markdown",
   "metadata": {
    "slideshow": {
     "slide_type": "fragment"
    }
   },
   "source": [
    "This is the tree we want to expand."
   ]
  },
  {
   "cell_type": "markdown",
   "metadata": {
    "slideshow": {
     "slide_type": "subslide"
    }
   },
   "source": [
    "### Picking a Children Alternative to be Expanded"
   ]
  },
  {
   "attachments": {},
   "cell_type": "markdown",
   "metadata": {
    "slideshow": {
     "slide_type": "fragment"
    }
   },
   "source": [
    "One of the central methods in `GrammarFuzzer` is `choose_node_expansion()`. This method gets a node (say, the `<start>` node) and a list of possible lists of children to be expanded (one for every possible expansion from the grammar), chooses one of them, and returns its index in the possible children list."
   ]
  },
  {
   "cell_type": "markdown",
   "metadata": {
    "slideshow": {
     "slide_type": "fragment"
    }
   },
   "source": [
    "By overloading this method (notably in later chapters), we can implement different strategies – for now, it simply randomly picks one of the given lists of children (which in turn are lists of derivation trees)."
   ]
  },
  {
   "cell_type": "code",
   "execution_count": 61,
   "metadata": {
    "execution": {
     "iopub.execute_input": "2024-06-29T16:13:15.016233Z",
     "iopub.status.busy": "2024-06-29T16:13:15.016092Z",
     "iopub.status.idle": "2024-06-29T16:13:15.018508Z",
     "shell.execute_reply": "2024-06-29T16:13:15.018222Z"
    },
    "slideshow": {
     "slide_type": "subslide"
    },
    "tags": []
   },
   "outputs": [],
   "source": [
    "class GrammarFuzzer(GrammarFuzzer):\n",
    "    def choose_node_expansion(self, node: DerivationTree,\n",
    "                              children_alternatives: List[List[DerivationTree]]) -> int:\n",
    "        \"\"\"Return index of expansion in `children_alternatives` to be selected.\n",
    "           'children_alternatives`: a list of possible children for `node`.\n",
    "           Defaults to random. To be overloaded in subclasses.\"\"\"\n",
    "        return random.randrange(0, len(children_alternatives))"
   ]
  },
  {
   "cell_type": "markdown",
   "metadata": {
    "slideshow": {
     "slide_type": "subslide"
    }
   },
   "source": [
    "### Getting a List of Possible Expansions"
   ]
  },
  {
   "cell_type": "markdown",
   "metadata": {
    "button": false,
    "new_sheet": false,
    "run_control": {
     "read_only": false
    },
    "slideshow": {
     "slide_type": "subslide"
    }
   },
   "source": [
    "To actually obtain the list of possible children, we will need a helper function `expansion_to_children()` that takes an expansion string and decomposes it into a list of derivation trees – one for each symbol (terminal or nonterminal) in the string."
   ]
  },
  {
   "cell_type": "markdown",
   "metadata": {
    "slideshow": {
     "slide_type": "subslide"
    }
   },
   "source": [
    "#### Excursion: Implementing `expansion_to_children()`"
   ]
  },
  {
   "cell_type": "markdown",
   "metadata": {
    "button": false,
    "new_sheet": false,
    "run_control": {
     "read_only": false
    },
    "slideshow": {
     "slide_type": "subslide"
    }
   },
   "source": [
    "The function `expansion_to_children()` uses the `re.split()` method to split an expansion string into a list of children nodes:"
   ]
  },
  {
   "cell_type": "code",
   "execution_count": 62,
   "metadata": {
    "button": false,
    "execution": {
     "iopub.execute_input": "2024-06-29T16:13:15.020090Z",
     "iopub.status.busy": "2024-06-29T16:13:15.019980Z",
     "iopub.status.idle": "2024-06-29T16:13:15.022210Z",
     "shell.execute_reply": "2024-06-29T16:13:15.021979Z"
    },
    "new_sheet": false,
    "run_control": {
     "read_only": false
    },
    "slideshow": {
     "slide_type": "subslide"
    }
   },
   "outputs": [],
   "source": [
    "def expansion_to_children(expansion: Expansion) -> List[DerivationTree]:\n",
    "    # print(\"Converting \" + repr(expansion))\n",
    "    # strings contains all substrings -- both terminals and nonterminals such\n",
    "    # that ''.join(strings) == expansion\n",
    "\n",
    "    expansion = exp_string(expansion)\n",
    "    assert isinstance(expansion, str)\n",
    "\n",
    "    if expansion == \"\":  # Special case: epsilon expansion\n",
    "        return [(\"\", [])]\n",
    "\n",
    "    strings = re.split(RE_NONTERMINAL, expansion)\n",
    "    return [(s, None) if is_nonterminal(s) else (s, [])\n",
    "            for s in strings if len(s) > 0]"
   ]
  },
  {
   "cell_type": "markdown",
   "metadata": {
    "slideshow": {
     "slide_type": "subslide"
    }
   },
   "source": [
    "#### End of Excursion"
   ]
  },
  {
   "cell_type": "code",
   "execution_count": 63,
   "metadata": {
    "button": false,
    "execution": {
     "iopub.execute_input": "2024-06-29T16:13:15.023634Z",
     "iopub.status.busy": "2024-06-29T16:13:15.023526Z",
     "iopub.status.idle": "2024-06-29T16:13:15.025895Z",
     "shell.execute_reply": "2024-06-29T16:13:15.025605Z"
    },
    "new_sheet": false,
    "run_control": {
     "read_only": false
    },
    "slideshow": {
     "slide_type": "subslide"
    }
   },
   "outputs": [
    {
     "data": {
      "text/plain": [
       "[('<term>', None), (' + ', []), ('<expr>', None)]"
      ]
     },
     "execution_count": 63,
     "metadata": {},
     "output_type": "execute_result"
    }
   ],
   "source": [
    "expansion_to_children(\"<term> + <expr>\")"
   ]
  },
  {
   "cell_type": "markdown",
   "metadata": {
    "button": false,
    "new_sheet": false,
    "run_control": {
     "read_only": false
    },
    "slideshow": {
     "slide_type": "fragment"
    }
   },
   "source": [
    "The case of an *epsilon expansion*, i.e. expanding into an empty string as in `<symbol> ::=` needs special treatment:"
   ]
  },
  {
   "cell_type": "code",
   "execution_count": 64,
   "metadata": {
    "button": false,
    "execution": {
     "iopub.execute_input": "2024-06-29T16:13:15.027318Z",
     "iopub.status.busy": "2024-06-29T16:13:15.027210Z",
     "iopub.status.idle": "2024-06-29T16:13:15.029265Z",
     "shell.execute_reply": "2024-06-29T16:13:15.029005Z"
    },
    "new_sheet": false,
    "run_control": {
     "read_only": false
    },
    "slideshow": {
     "slide_type": "fragment"
    }
   },
   "outputs": [
    {
     "data": {
      "text/plain": [
       "[('', [])]"
      ]
     },
     "execution_count": 64,
     "metadata": {},
     "output_type": "execute_result"
    }
   ],
   "source": [
    "expansion_to_children(\"\")"
   ]
  },
  {
   "cell_type": "markdown",
   "metadata": {
    "slideshow": {
     "slide_type": "subslide"
    }
   },
   "source": [
    "Just like `nonterminals()` in the [chapter on Grammars](Grammars.ipynb), we provide for future extensions, allowing the expansion to be a tuple with extra data (which will be ignored)."
   ]
  },
  {
   "cell_type": "code",
   "execution_count": 65,
   "metadata": {
    "button": false,
    "execution": {
     "iopub.execute_input": "2024-06-29T16:13:15.030611Z",
     "iopub.status.busy": "2024-06-29T16:13:15.030510Z",
     "iopub.status.idle": "2024-06-29T16:13:15.032700Z",
     "shell.execute_reply": "2024-06-29T16:13:15.032447Z"
    },
    "new_sheet": false,
    "run_control": {
     "read_only": false
    },
    "slideshow": {
     "slide_type": "fragment"
    }
   },
   "outputs": [
    {
     "data": {
      "text/plain": [
       "[('+', []), ('<term>', None)]"
      ]
     },
     "execution_count": 65,
     "metadata": {},
     "output_type": "execute_result"
    }
   ],
   "source": [
    "expansion_to_children((\"+<term>\", {\"extra_data\": 1234}))"
   ]
  },
  {
   "cell_type": "markdown",
   "metadata": {
    "slideshow": {
     "slide_type": "fragment"
    }
   },
   "source": [
    "We realize this helper as a method in `GrammarFuzzer` such that it can be overloaded by subclasses:"
   ]
  },
  {
   "cell_type": "code",
   "execution_count": 66,
   "metadata": {
    "execution": {
     "iopub.execute_input": "2024-06-29T16:13:15.034158Z",
     "iopub.status.busy": "2024-06-29T16:13:15.034053Z",
     "iopub.status.idle": "2024-06-29T16:13:15.035794Z",
     "shell.execute_reply": "2024-06-29T16:13:15.035543Z"
    },
    "slideshow": {
     "slide_type": "subslide"
    }
   },
   "outputs": [],
   "source": [
    "class GrammarFuzzer(GrammarFuzzer):\n",
    "    def expansion_to_children(self, expansion: Expansion) -> List[DerivationTree]:\n",
    "        return expansion_to_children(expansion)"
   ]
  },
  {
   "cell_type": "markdown",
   "metadata": {
    "slideshow": {
     "slide_type": "subslide"
    }
   },
   "source": [
    "### Putting Things Together"
   ]
  },
  {
   "attachments": {},
   "cell_type": "markdown",
   "metadata": {
    "button": false,
    "new_sheet": false,
    "run_control": {
     "read_only": false
    },
    "slideshow": {
     "slide_type": "subslide"
    }
   },
   "source": [
    "With this, we can now take\n",
    "\n",
    "1. some non-expanded node in the tree, \n",
    "2. choose a random expansion, and\n",
    "3. return the new tree."
   ]
  },
  {
   "cell_type": "markdown",
   "metadata": {
    "button": false,
    "new_sheet": false,
    "run_control": {
     "read_only": false
    },
    "slideshow": {
     "slide_type": "subslide"
    }
   },
   "source": [
    "This is what the method `expand_node_randomly()` does."
   ]
  },
  {
   "cell_type": "markdown",
   "metadata": {
    "slideshow": {
     "slide_type": "subslide"
    }
   },
   "source": [
    "#### Excursion: `expand_node_randomly()` implementation"
   ]
  },
  {
   "cell_type": "markdown",
   "metadata": {
    "button": false,
    "new_sheet": false,
    "run_control": {
     "read_only": false
    },
    "slideshow": {
     "slide_type": "subslide"
    }
   },
   "source": [
    "The function `expand_node_randomly()` uses a helper function `choose_node_expansion()` to randomly pick an index from an array of possible children.  (`choose_node_expansion()` can be overloaded in subclasses.)"
   ]
  },
  {
   "cell_type": "code",
   "execution_count": 67,
   "metadata": {
    "execution": {
     "iopub.execute_input": "2024-06-29T16:13:15.037450Z",
     "iopub.status.busy": "2024-06-29T16:13:15.037331Z",
     "iopub.status.idle": "2024-06-29T16:13:15.038934Z",
     "shell.execute_reply": "2024-06-29T16:13:15.038674Z"
    },
    "slideshow": {
     "slide_type": "skip"
    }
   },
   "outputs": [],
   "source": [
    "import random"
   ]
  },
  {
   "cell_type": "code",
   "execution_count": 68,
   "metadata": {
    "button": false,
    "execution": {
     "iopub.execute_input": "2024-06-29T16:13:15.040334Z",
     "iopub.status.busy": "2024-06-29T16:13:15.040237Z",
     "iopub.status.idle": "2024-06-29T16:13:15.043886Z",
     "shell.execute_reply": "2024-06-29T16:13:15.043632Z"
    },
    "new_sheet": false,
    "run_control": {
     "read_only": false
    },
    "slideshow": {
     "slide_type": "subslide"
    }
   },
   "outputs": [],
   "source": [
    "class GrammarFuzzer(GrammarFuzzer):\n",
    "    def expand_node_randomly(self, node: DerivationTree) -> DerivationTree:\n",
    "        \"\"\"Choose a random expansion for `node` and return it\"\"\"\n",
    "        (symbol, children) = node\n",
    "        assert children is None\n",
    "\n",
    "        if self.log:\n",
    "            print(\"Expanding\", all_terminals(node), \"randomly\")\n",
    "\n",
    "        # Fetch the possible expansions from grammar...\n",
    "        expansions = self.grammar[symbol]\n",
    "        children_alternatives: List[List[DerivationTree]] = [\n",
    "            self.expansion_to_children(expansion) for expansion in expansions\n",
    "        ]\n",
    "\n",
    "        # ... and select a random expansion\n",
    "        index = self.choose_node_expansion(node, children_alternatives)\n",
    "        chosen_children = children_alternatives[index]\n",
    "\n",
    "        # Process children (for subclasses)\n",
    "        chosen_children = self.process_chosen_children(chosen_children,\n",
    "                                                       expansions[index])\n",
    "\n",
    "        # Return with new children\n",
    "        return (symbol, chosen_children)"
   ]
  },
  {
   "cell_type": "markdown",
   "metadata": {
    "slideshow": {
     "slide_type": "subslide"
    }
   },
   "source": [
    "The generic `expand_node()` method can later be used to select different expansion strategies; as of now, it only uses `expand_node_randomly()`."
   ]
  },
  {
   "cell_type": "code",
   "execution_count": 69,
   "metadata": {
    "execution": {
     "iopub.execute_input": "2024-06-29T16:13:15.045501Z",
     "iopub.status.busy": "2024-06-29T16:13:15.045405Z",
     "iopub.status.idle": "2024-06-29T16:13:15.047430Z",
     "shell.execute_reply": "2024-06-29T16:13:15.047138Z"
    },
    "slideshow": {
     "slide_type": "fragment"
    }
   },
   "outputs": [],
   "source": [
    "class GrammarFuzzer(GrammarFuzzer):\n",
    "    def expand_node(self, node: DerivationTree) -> DerivationTree:\n",
    "        return self.expand_node_randomly(node)"
   ]
  },
  {
   "cell_type": "markdown",
   "metadata": {
    "slideshow": {
     "slide_type": "fragment"
    }
   },
   "source": [
    "The helper function `process_chosen_children()` does nothing; it can be overloaded by subclasses to process the children once chosen."
   ]
  },
  {
   "cell_type": "code",
   "execution_count": 70,
   "metadata": {
    "execution": {
     "iopub.execute_input": "2024-06-29T16:13:15.049121Z",
     "iopub.status.busy": "2024-06-29T16:13:15.049005Z",
     "iopub.status.idle": "2024-06-29T16:13:15.050929Z",
     "shell.execute_reply": "2024-06-29T16:13:15.050689Z"
    },
    "slideshow": {
     "slide_type": "fragment"
    }
   },
   "outputs": [],
   "source": [
    "class GrammarFuzzer(GrammarFuzzer):\n",
    "    def process_chosen_children(self,\n",
    "                                chosen_children: List[DerivationTree],\n",
    "                                expansion: Expansion) -> List[DerivationTree]:\n",
    "        \"\"\"Process children after selection.  By default, does nothing.\"\"\"\n",
    "        return chosen_children"
   ]
  },
  {
   "cell_type": "markdown",
   "metadata": {
    "slideshow": {
     "slide_type": "subslide"
    }
   },
   "source": [
    "#### End of Excursion"
   ]
  },
  {
   "cell_type": "markdown",
   "metadata": {
    "slideshow": {
     "slide_type": "subslide"
    }
   },
   "source": [
    "This is how `expand_node_randomly()` works:"
   ]
  },
  {
   "cell_type": "code",
   "execution_count": 71,
   "metadata": {
    "button": false,
    "execution": {
     "iopub.execute_input": "2024-06-29T16:13:15.052496Z",
     "iopub.status.busy": "2024-06-29T16:13:15.052382Z",
     "iopub.status.idle": "2024-06-29T16:13:15.448099Z",
     "shell.execute_reply": "2024-06-29T16:13:15.447685Z"
    },
    "new_sheet": false,
    "run_control": {
     "read_only": false
    },
    "slideshow": {
     "slide_type": "fragment"
    }
   },
   "outputs": [
    {
     "name": "stdout",
     "output_type": "stream",
     "text": [
      "Before expand_node_randomly():\n"
     ]
    },
    {
     "data": {
      "image/svg+xml": [
       "<?xml version=\"1.0\" encoding=\"UTF-8\" standalone=\"no\"?>\n",
       "<!DOCTYPE svg PUBLIC \"-//W3C//DTD SVG 1.1//EN\"\n",
       " \"http://www.w3.org/Graphics/SVG/1.1/DTD/svg11.dtd\">\n",
       "<!-- Generated by graphviz version 11.0.0 (20240428.1522)\n",
       " -->\n",
       "<!-- Pages: 1 -->\n",
       "<svg width=\"62pt\" height=\"22pt\"\n",
       " viewBox=\"0.00 0.00 62.00 22.25\" xmlns=\"http://www.w3.org/2000/svg\" xmlns:xlink=\"http://www.w3.org/1999/xlink\">\n",
       "<g id=\"graph0\" class=\"graph\" transform=\"scale(1 1) rotate(0) translate(4 18.25)\">\n",
       "<polygon fill=\"white\" stroke=\"none\" points=\"-4,4 -4,-18.25 58,-18.25 58,4 -4,4\"/>\n",
       "<!-- 0 -->\n",
       "<g id=\"node1\" class=\"node\">\n",
       "<title>0</title>\n",
       "<text text-anchor=\"middle\" x=\"27\" y=\"-0.95\" font-family=\"Times,serif\" font-size=\"14.00\">&lt;integer&gt;</text>\n",
       "</g>\n",
       "</g>\n",
       "</svg>\n"
      ],
      "text/plain": [
       "<graphviz.graphs.Digraph at 0x15d56c9d0>"
      ]
     },
     "execution_count": 71,
     "metadata": {},
     "output_type": "execute_result"
    }
   ],
   "source": [
    "f = GrammarFuzzer(EXPR_GRAMMAR, log=True)\n",
    "\n",
    "print(\"Before expand_node_randomly():\")\n",
    "expr_tree = (\"<integer>\", None)\n",
    "display_tree(expr_tree)"
   ]
  },
  {
   "cell_type": "code",
   "execution_count": 72,
   "metadata": {
    "button": false,
    "execution": {
     "iopub.execute_input": "2024-06-29T16:13:15.449932Z",
     "iopub.status.busy": "2024-06-29T16:13:15.449795Z",
     "iopub.status.idle": "2024-06-29T16:13:15.841407Z",
     "shell.execute_reply": "2024-06-29T16:13:15.840983Z"
    },
    "new_sheet": false,
    "run_control": {
     "read_only": false
    },
    "slideshow": {
     "slide_type": "fragment"
    }
   },
   "outputs": [
    {
     "name": "stdout",
     "output_type": "stream",
     "text": [
      "After expand_node_randomly():\n",
      "Expanding <integer> randomly\n"
     ]
    },
    {
     "data": {
      "image/svg+xml": [
       "<?xml version=\"1.0\" encoding=\"UTF-8\" standalone=\"no\"?>\n",
       "<!DOCTYPE svg PUBLIC \"-//W3C//DTD SVG 1.1//EN\"\n",
       " \"http://www.w3.org/Graphics/SVG/1.1/DTD/svg11.dtd\">\n",
       "<!-- Generated by graphviz version 11.0.0 (20240428.1522)\n",
       " -->\n",
       "<!-- Pages: 1 -->\n",
       "<svg width=\"62pt\" height=\"73pt\"\n",
       " viewBox=\"0.00 0.00 62.00 72.50\" xmlns=\"http://www.w3.org/2000/svg\" xmlns:xlink=\"http://www.w3.org/1999/xlink\">\n",
       "<g id=\"graph0\" class=\"graph\" transform=\"scale(1 1) rotate(0) translate(4 68.5)\">\n",
       "<polygon fill=\"white\" stroke=\"none\" points=\"-4,4 -4,-68.5 58,-68.5 58,4 -4,4\"/>\n",
       "<!-- 0 -->\n",
       "<g id=\"node1\" class=\"node\">\n",
       "<title>0</title>\n",
       "<text text-anchor=\"middle\" x=\"27\" y=\"-51.2\" font-family=\"Times,serif\" font-size=\"14.00\">&lt;integer&gt;</text>\n",
       "</g>\n",
       "<!-- 1 -->\n",
       "<g id=\"node2\" class=\"node\">\n",
       "<title>1</title>\n",
       "<text text-anchor=\"middle\" x=\"27\" y=\"-0.95\" font-family=\"Times,serif\" font-size=\"14.00\">&lt;digit&gt;</text>\n",
       "</g>\n",
       "<!-- 0&#45;&gt;1 -->\n",
       "<g id=\"edge1\" class=\"edge\">\n",
       "<title>0&#45;&gt;1</title>\n",
       "<path fill=\"none\" stroke=\"black\" d=\"M27,-50.46C27,-44.24 27,-34.15 27,-25.39\"/>\n",
       "<polygon fill=\"black\" stroke=\"black\" points=\"30.5,-25.6 27,-15.6 23.5,-25.6 30.5,-25.6\"/>\n",
       "</g>\n",
       "</g>\n",
       "</svg>\n"
      ],
      "text/plain": [
       "<graphviz.graphs.Digraph at 0x15d56ce20>"
      ]
     },
     "execution_count": 72,
     "metadata": {},
     "output_type": "execute_result"
    }
   ],
   "source": [
    "print(\"After expand_node_randomly():\")\n",
    "expr_tree = f.expand_node_randomly(expr_tree)\n",
    "display_tree(expr_tree)"
   ]
  },
  {
   "cell_type": "code",
   "execution_count": 73,
   "metadata": {
    "execution": {
     "iopub.execute_input": "2024-06-29T16:13:15.843176Z",
     "iopub.status.busy": "2024-06-29T16:13:15.843052Z",
     "iopub.status.idle": "2024-06-29T16:13:15.844933Z",
     "shell.execute_reply": "2024-06-29T16:13:15.844655Z"
    },
    "slideshow": {
     "slide_type": "fragment"
    }
   },
   "outputs": [],
   "source": [
    "# docassert\n",
    "assert expr_tree[1][0][0] == '<digit>'"
   ]
  },
  {
   "cell_type": "code",
   "execution_count": 74,
   "metadata": {
    "execution": {
     "iopub.execute_input": "2024-06-29T16:13:15.846561Z",
     "iopub.status.busy": "2024-06-29T16:13:15.846431Z",
     "iopub.status.idle": "2024-06-29T16:13:15.850768Z",
     "shell.execute_reply": "2024-06-29T16:13:15.850404Z"
    },
    "slideshow": {
     "slide_type": "subslide"
    }
   },
   "outputs": [
    {
     "data": {
      "text/html": [
       "\n",
       "    \n",
       "    <script>\n",
       "    var bad_answers = new Map();\n",
       "\n",
       "    function answer(quiz_id) {\n",
       "        ans = 0;\n",
       "        for (i = 1;; i++) {\n",
       "            checkbox = document.getElementById(quiz_id + \"-\" + i.toString());\n",
       "            if (!checkbox)\n",
       "                break;\n",
       "            if (checkbox.checked)\n",
       "                ans |= (1 << i);\n",
       "        }\n",
       "        return ans;\n",
       "    }\n",
       "    function check_selection(quiz_id, correct_answer, multiple_choice, hint) {\n",
       "        given_answer = answer(quiz_id);\n",
       "        if (given_answer == correct_answer)\n",
       "        {\n",
       "            document.getElementById(quiz_id + \"-submit\").value = \"Correct!\";\n",
       "            document.getElementById(quiz_id + \"-hint\").innerHTML = \"\";\n",
       "\n",
       "            for (i = 1;; i++) {\n",
       "                checkbox = document.getElementById(quiz_id + \"-\" + i.toString());\n",
       "                label = document.getElementById(quiz_id + \"-\" + i.toString() + \"-label\")\n",
       "                if (!checkbox)\n",
       "                    break;\n",
       "    \n",
       "                if (checkbox.checked) {\n",
       "                    label.style.fontWeight = \"bold\";\n",
       "                }\n",
       "                else {\n",
       "                    label.style.textDecoration = \"line-through\";\n",
       "                }\n",
       "            }\n",
       "        }\n",
       "        else \n",
       "        {\n",
       "            document.getElementById(quiz_id + \"-submit\").value = \"Try again\";\n",
       "            \n",
       "            if (!bad_answers.has(quiz_id)) {\n",
       "                bad_answers.set(quiz_id, 1);\n",
       "            }\n",
       "            else {\n",
       "                bad_answers.set(quiz_id, bad_answers.get(quiz_id) + 1);\n",
       "            }\n",
       "\n",
       "            if (bad_answers.get(quiz_id) >= 2 && hint.length > 0) {\n",
       "                document.getElementById(quiz_id + \"-hint\").innerHTML = \n",
       "                    \"&nbsp;&nbsp;(Hint: <code>\" + hint + \"</code>)\";\n",
       "            }\n",
       "\n",
       "            if (!multiple_choice) {\n",
       "                for (i = 1;; i++) {\n",
       "                    checkbox = document.getElementById(quiz_id + \"-\" + i.toString());\n",
       "                    label = document.getElementById(quiz_id + \"-\" + i.toString() + \"-label\")\n",
       "\n",
       "                    if (!checkbox)\n",
       "                        break;\n",
       "                    if (checkbox.checked) {\n",
       "                        label.style.textDecoration = \"line-through\";\n",
       "                    }\n",
       "                }\n",
       "            }\n",
       "        }\n",
       "    }\n",
       "    function clear_selection(quiz_id) {\n",
       "        document.getElementById(quiz_id + \"-submit\").value = \"Submit\";\n",
       "        document.getElementById(quiz_id + \"-hint\").innerHTML = \"\";\n",
       "    }\n",
       "    </script>\n",
       "    \n",
       "    <div class=\"quiz\">\n",
       "    <h3 class=\"quiz_title\">Quiz</h3>\n",
       "    <p>\n",
       "    <div class=\"quiz_question\">What tree do we get if we expand the <code>&lt;digit&gt;</code> subtree?</div>\n",
       "    </p>\n",
       "    <p>\n",
       "    <div class=\"quiz_options\" title=\"Pick a choice.\">\n",
       "    \n",
       "        <input type=\"radio\" name=\"7dca9f64-3632-11ef-8884-6298cf1a578f\" id=\"7dca9f64-3632-11ef-8884-6298cf1a578f-1\" onclick=\"clear_selection('7dca9f64-3632-11ef-8884-6298cf1a578f')\">\n",
       "        <label id=\"7dca9f64-3632-11ef-8884-6298cf1a578f-1-label\" for=\"7dca9f64-3632-11ef-8884-6298cf1a578f-1\">We get another <code>&lt;digit&gt;</code> as new child of <code>&lt;digit&gt;</code></label><br>\n",
       "    \n",
       "        <input type=\"radio\" name=\"7dca9f64-3632-11ef-8884-6298cf1a578f\" id=\"7dca9f64-3632-11ef-8884-6298cf1a578f-2\" onclick=\"clear_selection('7dca9f64-3632-11ef-8884-6298cf1a578f')\">\n",
       "        <label id=\"7dca9f64-3632-11ef-8884-6298cf1a578f-2-label\" for=\"7dca9f64-3632-11ef-8884-6298cf1a578f-2\">We get some digit as child of <code>&lt;digit&gt;</code></label><br>\n",
       "    \n",
       "        <input type=\"radio\" name=\"7dca9f64-3632-11ef-8884-6298cf1a578f\" id=\"7dca9f64-3632-11ef-8884-6298cf1a578f-3\" onclick=\"clear_selection('7dca9f64-3632-11ef-8884-6298cf1a578f')\">\n",
       "        <label id=\"7dca9f64-3632-11ef-8884-6298cf1a578f-3-label\" for=\"7dca9f64-3632-11ef-8884-6298cf1a578f-3\">We get another <code>&lt;digit&gt;</code> as second child of <code>&lt;integer&gt;</code></label><br>\n",
       "    \n",
       "        <input type=\"radio\" name=\"7dca9f64-3632-11ef-8884-6298cf1a578f\" id=\"7dca9f64-3632-11ef-8884-6298cf1a578f-4\" onclick=\"clear_selection('7dca9f64-3632-11ef-8884-6298cf1a578f')\">\n",
       "        <label id=\"7dca9f64-3632-11ef-8884-6298cf1a578f-4-label\" for=\"7dca9f64-3632-11ef-8884-6298cf1a578f-4\">The entire tree becomes a single node with a digit</label><br>\n",
       "    \n",
       "    </div>\n",
       "    </p>\n",
       "    <input id=\"7dca9f64-3632-11ef-8884-6298cf1a578f-submit\" type=\"submit\" value=\"Submit\" onclick=\"check_selection('7dca9f64-3632-11ef-8884-6298cf1a578f', 4, 0, 'len(&quot;2&quot;) + len(&quot;2&quot;)')\">\n",
       "    <span class=\"quiz_hint\" id=\"7dca9f64-3632-11ef-8884-6298cf1a578f-hint\"></span>\n",
       "    </div>\n",
       "    "
      ],
      "text/plain": [
       "<IPython.core.display.HTML object>"
      ]
     },
     "execution_count": 74,
     "metadata": {},
     "output_type": "execute_result"
    }
   ],
   "source": [
    "quiz(\"What tree do we get if we expand the `<digit>` subtree?\",\n",
    "     [\n",
    "         \"We get another `<digit>` as new child of `<digit>`\",\n",
    "         \"We get some digit as child of `<digit>`\",\n",
    "         \"We get another `<digit>` as second child of `<integer>`\",\n",
    "         \"The entire tree becomes a single node with a digit\"\n",
    "     ], 'len(\"2\") + len(\"2\")')"
   ]
  },
  {
   "cell_type": "markdown",
   "metadata": {
    "slideshow": {
     "slide_type": "fragment"
    }
   },
   "source": [
    "We can surely put this to the test, right? Here we go:"
   ]
  },
  {
   "cell_type": "code",
   "execution_count": 75,
   "metadata": {
    "execution": {
     "iopub.execute_input": "2024-06-29T16:13:15.852425Z",
     "iopub.status.busy": "2024-06-29T16:13:15.852297Z",
     "iopub.status.idle": "2024-06-29T16:13:16.241918Z",
     "shell.execute_reply": "2024-06-29T16:13:16.241380Z"
    },
    "slideshow": {
     "slide_type": "fragment"
    }
   },
   "outputs": [
    {
     "data": {
      "image/svg+xml": [
       "<?xml version=\"1.0\" encoding=\"UTF-8\" standalone=\"no\"?>\n",
       "<!DOCTYPE svg PUBLIC \"-//W3C//DTD SVG 1.1//EN\"\n",
       " \"http://www.w3.org/Graphics/SVG/1.1/DTD/svg11.dtd\">\n",
       "<!-- Generated by graphviz version 11.0.0 (20240428.1522)\n",
       " -->\n",
       "<!-- Pages: 1 -->\n",
       "<svg width=\"49pt\" height=\"22pt\"\n",
       " viewBox=\"0.00 0.00 49.25 22.25\" xmlns=\"http://www.w3.org/2000/svg\" xmlns:xlink=\"http://www.w3.org/1999/xlink\">\n",
       "<g id=\"graph0\" class=\"graph\" transform=\"scale(1 1) rotate(0) translate(4 18.25)\">\n",
       "<polygon fill=\"white\" stroke=\"none\" points=\"-4,4 -4,-18.25 45.25,-18.25 45.25,4 -4,4\"/>\n",
       "<!-- 0 -->\n",
       "<g id=\"node1\" class=\"node\">\n",
       "<title>0</title>\n",
       "<text text-anchor=\"middle\" x=\"20.62\" y=\"-0.95\" font-family=\"Times,serif\" font-size=\"14.00\">&lt;digit&gt;</text>\n",
       "</g>\n",
       "</g>\n",
       "</svg>\n"
      ],
      "text/plain": [
       "<graphviz.graphs.Digraph at 0x15d56e8f0>"
      ]
     },
     "execution_count": 75,
     "metadata": {},
     "output_type": "execute_result"
    }
   ],
   "source": [
    "digit_subtree = expr_tree[1][0]  # type: ignore\n",
    "display_tree(digit_subtree)"
   ]
  },
  {
   "cell_type": "code",
   "execution_count": 76,
   "metadata": {
    "button": false,
    "execution": {
     "iopub.execute_input": "2024-06-29T16:13:16.243823Z",
     "iopub.status.busy": "2024-06-29T16:13:16.243684Z",
     "iopub.status.idle": "2024-06-29T16:13:16.665064Z",
     "shell.execute_reply": "2024-06-29T16:13:16.664625Z"
    },
    "new_sheet": false,
    "run_control": {
     "read_only": false
    },
    "slideshow": {
     "slide_type": "fragment"
    }
   },
   "outputs": [
    {
     "name": "stdout",
     "output_type": "stream",
     "text": [
      "After expanding the <digit> subtree:\n",
      "Expanding <digit> randomly\n"
     ]
    },
    {
     "data": {
      "image/svg+xml": [
       "<?xml version=\"1.0\" encoding=\"UTF-8\" standalone=\"no\"?>\n",
       "<!DOCTYPE svg PUBLIC \"-//W3C//DTD SVG 1.1//EN\"\n",
       " \"http://www.w3.org/Graphics/SVG/1.1/DTD/svg11.dtd\">\n",
       "<!-- Generated by graphviz version 11.0.0 (20240428.1522)\n",
       " -->\n",
       "<!-- Pages: 1 -->\n",
       "<svg width=\"49pt\" height=\"73pt\"\n",
       " viewBox=\"0.00 0.00 49.25 72.50\" xmlns=\"http://www.w3.org/2000/svg\" xmlns:xlink=\"http://www.w3.org/1999/xlink\">\n",
       "<g id=\"graph0\" class=\"graph\" transform=\"scale(1 1) rotate(0) translate(4 68.5)\">\n",
       "<polygon fill=\"white\" stroke=\"none\" points=\"-4,4 -4,-68.5 45.25,-68.5 45.25,4 -4,4\"/>\n",
       "<!-- 0 -->\n",
       "<g id=\"node1\" class=\"node\">\n",
       "<title>0</title>\n",
       "<text text-anchor=\"middle\" x=\"20.62\" y=\"-51.2\" font-family=\"Times,serif\" font-size=\"14.00\">&lt;digit&gt;</text>\n",
       "</g>\n",
       "<!-- 1 -->\n",
       "<g id=\"node2\" class=\"node\">\n",
       "<title>1</title>\n",
       "<text text-anchor=\"middle\" x=\"20.62\" y=\"-0.95\" font-family=\"Times,serif\" font-size=\"14.00\">2 (50)</text>\n",
       "</g>\n",
       "<!-- 0&#45;&gt;1 -->\n",
       "<g id=\"edge1\" class=\"edge\">\n",
       "<title>0&#45;&gt;1</title>\n",
       "<path fill=\"none\" stroke=\"black\" d=\"M20.62,-50.46C20.62,-44.24 20.62,-34.15 20.62,-25.39\"/>\n",
       "<polygon fill=\"black\" stroke=\"black\" points=\"24.13,-25.6 20.63,-15.6 17.13,-25.6 24.13,-25.6\"/>\n",
       "</g>\n",
       "</g>\n",
       "</svg>\n"
      ],
      "text/plain": [
       "<graphviz.graphs.Digraph at 0x15d56d660>"
      ]
     },
     "execution_count": 76,
     "metadata": {},
     "output_type": "execute_result"
    }
   ],
   "source": [
    "print(\"After expanding the <digit> subtree:\")\n",
    "digit_subtree = f.expand_node_randomly(digit_subtree)\n",
    "display_tree(digit_subtree)"
   ]
  },
  {
   "cell_type": "markdown",
   "metadata": {
    "slideshow": {
     "slide_type": "fragment"
    }
   },
   "source": [
    "We see that `<digit>` gets expanded again according to the grammar rules – namely, into a single digit."
   ]
  },
  {
   "cell_type": "code",
   "execution_count": 77,
   "metadata": {
    "execution": {
     "iopub.execute_input": "2024-06-29T16:13:16.667492Z",
     "iopub.status.busy": "2024-06-29T16:13:16.667289Z",
     "iopub.status.idle": "2024-06-29T16:13:16.671390Z",
     "shell.execute_reply": "2024-06-29T16:13:16.671051Z"
    },
    "slideshow": {
     "slide_type": "fragment"
    }
   },
   "outputs": [
    {
     "data": {
      "text/html": [
       "\n",
       "    \n",
       "    <script>\n",
       "    var bad_answers = new Map();\n",
       "\n",
       "    function answer(quiz_id) {\n",
       "        ans = 0;\n",
       "        for (i = 1;; i++) {\n",
       "            checkbox = document.getElementById(quiz_id + \"-\" + i.toString());\n",
       "            if (!checkbox)\n",
       "                break;\n",
       "            if (checkbox.checked)\n",
       "                ans |= (1 << i);\n",
       "        }\n",
       "        return ans;\n",
       "    }\n",
       "    function check_selection(quiz_id, correct_answer, multiple_choice, hint) {\n",
       "        given_answer = answer(quiz_id);\n",
       "        if (given_answer == correct_answer)\n",
       "        {\n",
       "            document.getElementById(quiz_id + \"-submit\").value = \"Correct!\";\n",
       "            document.getElementById(quiz_id + \"-hint\").innerHTML = \"\";\n",
       "\n",
       "            for (i = 1;; i++) {\n",
       "                checkbox = document.getElementById(quiz_id + \"-\" + i.toString());\n",
       "                label = document.getElementById(quiz_id + \"-\" + i.toString() + \"-label\")\n",
       "                if (!checkbox)\n",
       "                    break;\n",
       "    \n",
       "                if (checkbox.checked) {\n",
       "                    label.style.fontWeight = \"bold\";\n",
       "                }\n",
       "                else {\n",
       "                    label.style.textDecoration = \"line-through\";\n",
       "                }\n",
       "            }\n",
       "        }\n",
       "        else \n",
       "        {\n",
       "            document.getElementById(quiz_id + \"-submit\").value = \"Try again\";\n",
       "            \n",
       "            if (!bad_answers.has(quiz_id)) {\n",
       "                bad_answers.set(quiz_id, 1);\n",
       "            }\n",
       "            else {\n",
       "                bad_answers.set(quiz_id, bad_answers.get(quiz_id) + 1);\n",
       "            }\n",
       "\n",
       "            if (bad_answers.get(quiz_id) >= 2 && hint.length > 0) {\n",
       "                document.getElementById(quiz_id + \"-hint\").innerHTML = \n",
       "                    \"&nbsp;&nbsp;(Hint: <code>\" + hint + \"</code>)\";\n",
       "            }\n",
       "\n",
       "            if (!multiple_choice) {\n",
       "                for (i = 1;; i++) {\n",
       "                    checkbox = document.getElementById(quiz_id + \"-\" + i.toString());\n",
       "                    label = document.getElementById(quiz_id + \"-\" + i.toString() + \"-label\")\n",
       "\n",
       "                    if (!checkbox)\n",
       "                        break;\n",
       "                    if (checkbox.checked) {\n",
       "                        label.style.textDecoration = \"line-through\";\n",
       "                    }\n",
       "                }\n",
       "            }\n",
       "        }\n",
       "    }\n",
       "    function clear_selection(quiz_id) {\n",
       "        document.getElementById(quiz_id + \"-submit\").value = \"Submit\";\n",
       "        document.getElementById(quiz_id + \"-hint\").innerHTML = \"\";\n",
       "    }\n",
       "    </script>\n",
       "    \n",
       "    <div class=\"quiz\">\n",
       "    <h3 class=\"quiz_title\">Quiz</h3>\n",
       "    <p>\n",
       "    <div class=\"quiz_question\">Is the original <code>expr_tree</code> affected by this change?</div>\n",
       "    </p>\n",
       "    <p>\n",
       "    <div class=\"quiz_options\" title=\"Pick a choice.\">\n",
       "    \n",
       "        <input type=\"radio\" name=\"7e47e8ac-3632-11ef-8884-6298cf1a578f\" id=\"7e47e8ac-3632-11ef-8884-6298cf1a578f-1\" onclick=\"clear_selection('7e47e8ac-3632-11ef-8884-6298cf1a578f')\">\n",
       "        <label id=\"7e47e8ac-3632-11ef-8884-6298cf1a578f-1-label\" for=\"7e47e8ac-3632-11ef-8884-6298cf1a578f-1\">No, it is unchanged</label><br>\n",
       "    \n",
       "        <input type=\"radio\" name=\"7e47e8ac-3632-11ef-8884-6298cf1a578f\" id=\"7e47e8ac-3632-11ef-8884-6298cf1a578f-2\" onclick=\"clear_selection('7e47e8ac-3632-11ef-8884-6298cf1a578f')\">\n",
       "        <label id=\"7e47e8ac-3632-11ef-8884-6298cf1a578f-2-label\" for=\"7e47e8ac-3632-11ef-8884-6298cf1a578f-2\">Yes, it has also gained a new child</label><br>\n",
       "    \n",
       "    </div>\n",
       "    </p>\n",
       "    <input id=\"7e47e8ac-3632-11ef-8884-6298cf1a578f-submit\" type=\"submit\" value=\"Submit\" onclick=\"check_selection('7e47e8ac-3632-11ef-8884-6298cf1a578f', 2, 0, '1 ** (1 - 1)')\">\n",
       "    <span class=\"quiz_hint\" id=\"7e47e8ac-3632-11ef-8884-6298cf1a578f-hint\"></span>\n",
       "    </div>\n",
       "    "
      ],
      "text/plain": [
       "<IPython.core.display.HTML object>"
      ]
     },
     "execution_count": 77,
     "metadata": {},
     "output_type": "execute_result"
    }
   ],
   "source": [
    "quiz(\"Is the original `expr_tree` affected by this change?\",\n",
    "     [\n",
    "         \"No, it is unchanged\",\n",
    "         \"Yes, it has also gained a new child\"\n",
    "     ], \"1 ** (1 - 1)\")"
   ]
  },
  {
   "cell_type": "markdown",
   "metadata": {
    "slideshow": {
     "slide_type": "subslide"
    }
   },
   "source": [
    "Although we have changed one of the subtrees, the original `expr_tree` is unaffected:"
   ]
  },
  {
   "cell_type": "code",
   "execution_count": 78,
   "metadata": {
    "execution": {
     "iopub.execute_input": "2024-06-29T16:13:16.673169Z",
     "iopub.status.busy": "2024-06-29T16:13:16.673067Z",
     "iopub.status.idle": "2024-06-29T16:13:17.076443Z",
     "shell.execute_reply": "2024-06-29T16:13:17.076031Z"
    },
    "slideshow": {
     "slide_type": "fragment"
    }
   },
   "outputs": [
    {
     "data": {
      "image/svg+xml": [
       "<?xml version=\"1.0\" encoding=\"UTF-8\" standalone=\"no\"?>\n",
       "<!DOCTYPE svg PUBLIC \"-//W3C//DTD SVG 1.1//EN\"\n",
       " \"http://www.w3.org/Graphics/SVG/1.1/DTD/svg11.dtd\">\n",
       "<!-- Generated by graphviz version 11.0.0 (20240428.1522)\n",
       " -->\n",
       "<!-- Pages: 1 -->\n",
       "<svg width=\"62pt\" height=\"73pt\"\n",
       " viewBox=\"0.00 0.00 62.00 72.50\" xmlns=\"http://www.w3.org/2000/svg\" xmlns:xlink=\"http://www.w3.org/1999/xlink\">\n",
       "<g id=\"graph0\" class=\"graph\" transform=\"scale(1 1) rotate(0) translate(4 68.5)\">\n",
       "<polygon fill=\"white\" stroke=\"none\" points=\"-4,4 -4,-68.5 58,-68.5 58,4 -4,4\"/>\n",
       "<!-- 0 -->\n",
       "<g id=\"node1\" class=\"node\">\n",
       "<title>0</title>\n",
       "<text text-anchor=\"middle\" x=\"27\" y=\"-51.2\" font-family=\"Times,serif\" font-size=\"14.00\">&lt;integer&gt;</text>\n",
       "</g>\n",
       "<!-- 1 -->\n",
       "<g id=\"node2\" class=\"node\">\n",
       "<title>1</title>\n",
       "<text text-anchor=\"middle\" x=\"27\" y=\"-0.95\" font-family=\"Times,serif\" font-size=\"14.00\">&lt;digit&gt;</text>\n",
       "</g>\n",
       "<!-- 0&#45;&gt;1 -->\n",
       "<g id=\"edge1\" class=\"edge\">\n",
       "<title>0&#45;&gt;1</title>\n",
       "<path fill=\"none\" stroke=\"black\" d=\"M27,-50.46C27,-44.24 27,-34.15 27,-25.39\"/>\n",
       "<polygon fill=\"black\" stroke=\"black\" points=\"30.5,-25.6 27,-15.6 23.5,-25.6 30.5,-25.6\"/>\n",
       "</g>\n",
       "</g>\n",
       "</svg>\n"
      ],
      "text/plain": [
       "<graphviz.graphs.Digraph at 0x15d56d480>"
      ]
     },
     "execution_count": 78,
     "metadata": {},
     "output_type": "execute_result"
    }
   ],
   "source": [
    "display_tree(expr_tree)"
   ]
  },
  {
   "cell_type": "markdown",
   "metadata": {
    "slideshow": {
     "slide_type": "fragment"
    }
   },
   "source": [
    "That is because `expand_node_randomly()` returns a new (expanded) tree and does not change the tree passed as argument."
   ]
  },
  {
   "attachments": {},
   "cell_type": "markdown",
   "metadata": {
    "button": false,
    "new_sheet": false,
    "run_control": {
     "read_only": false
    },
    "slideshow": {
     "slide_type": "slide"
    }
   },
   "source": [
    "## Expanding a Tree\n",
    "\n",
    "Let us now apply our functions for expanding a single node to some node in the tree.  To this end, we first need to _search the tree for non-expanded nodes_.  `possible_expansions()` counts how many unexpanded symbols there are in a tree:"
   ]
  },
  {
   "cell_type": "code",
   "execution_count": 79,
   "metadata": {
    "button": false,
    "execution": {
     "iopub.execute_input": "2024-06-29T16:13:17.078146Z",
     "iopub.status.busy": "2024-06-29T16:13:17.078019Z",
     "iopub.status.idle": "2024-06-29T16:13:17.080228Z",
     "shell.execute_reply": "2024-06-29T16:13:17.079971Z"
    },
    "new_sheet": false,
    "run_control": {
     "read_only": false
    },
    "slideshow": {
     "slide_type": "fragment"
    }
   },
   "outputs": [],
   "source": [
    "class GrammarFuzzer(GrammarFuzzer):\n",
    "    def possible_expansions(self, node: DerivationTree) -> int:\n",
    "        (symbol, children) = node\n",
    "        if children is None:\n",
    "            return 1\n",
    "\n",
    "        return sum(self.possible_expansions(c) for c in children)"
   ]
  },
  {
   "cell_type": "code",
   "execution_count": 80,
   "metadata": {
    "button": false,
    "execution": {
     "iopub.execute_input": "2024-06-29T16:13:17.081836Z",
     "iopub.status.busy": "2024-06-29T16:13:17.081725Z",
     "iopub.status.idle": "2024-06-29T16:13:17.083829Z",
     "shell.execute_reply": "2024-06-29T16:13:17.083373Z"
    },
    "new_sheet": false,
    "run_control": {
     "read_only": false
    },
    "slideshow": {
     "slide_type": "fragment"
    }
   },
   "outputs": [
    {
     "name": "stdout",
     "output_type": "stream",
     "text": [
      "2\n"
     ]
    }
   ],
   "source": [
    "f = GrammarFuzzer(EXPR_GRAMMAR)\n",
    "print(f.possible_expansions(derivation_tree))"
   ]
  },
  {
   "attachments": {},
   "cell_type": "markdown",
   "metadata": {
    "button": false,
    "new_sheet": false,
    "run_control": {
     "read_only": false
    },
    "slideshow": {
     "slide_type": "subslide"
    }
   },
   "source": [
    "The method `any_possible_expansions()` returns True if the tree has any non-expanded nodes."
   ]
  },
  {
   "cell_type": "code",
   "execution_count": 81,
   "metadata": {
    "button": false,
    "execution": {
     "iopub.execute_input": "2024-06-29T16:13:17.085520Z",
     "iopub.status.busy": "2024-06-29T16:13:17.085359Z",
     "iopub.status.idle": "2024-06-29T16:13:17.087487Z",
     "shell.execute_reply": "2024-06-29T16:13:17.087226Z"
    },
    "new_sheet": false,
    "run_control": {
     "read_only": false
    },
    "slideshow": {
     "slide_type": "fragment"
    }
   },
   "outputs": [],
   "source": [
    "class GrammarFuzzer(GrammarFuzzer):\n",
    "    def any_possible_expansions(self, node: DerivationTree) -> bool:\n",
    "        (symbol, children) = node\n",
    "        if children is None:\n",
    "            return True\n",
    "\n",
    "        return any(self.any_possible_expansions(c) for c in children)"
   ]
  },
  {
   "cell_type": "code",
   "execution_count": 82,
   "metadata": {
    "button": false,
    "execution": {
     "iopub.execute_input": "2024-06-29T16:13:17.089039Z",
     "iopub.status.busy": "2024-06-29T16:13:17.088912Z",
     "iopub.status.idle": "2024-06-29T16:13:17.091254Z",
     "shell.execute_reply": "2024-06-29T16:13:17.090989Z"
    },
    "new_sheet": false,
    "run_control": {
     "read_only": false
    },
    "slideshow": {
     "slide_type": "fragment"
    }
   },
   "outputs": [
    {
     "data": {
      "text/plain": [
       "True"
      ]
     },
     "execution_count": 82,
     "metadata": {},
     "output_type": "execute_result"
    }
   ],
   "source": [
    "f = GrammarFuzzer(EXPR_GRAMMAR)\n",
    "f.any_possible_expansions(derivation_tree)"
   ]
  },
  {
   "cell_type": "markdown",
   "metadata": {
    "button": false,
    "new_sheet": false,
    "run_control": {
     "read_only": false
    },
    "slideshow": {
     "slide_type": "subslide"
    }
   },
   "source": [
    "Here comes `expand_tree_once()`, the core method of our tree expansion algorithm.  It first checks whether it is currently being applied on a nonterminal symbol without expansion; if so, it invokes `expand_node()` on it, as discussed above.  "
   ]
  },
  {
   "attachments": {},
   "cell_type": "markdown",
   "metadata": {
    "button": false,
    "new_sheet": false,
    "run_control": {
     "read_only": false
    },
    "slideshow": {
     "slide_type": "subslide"
    }
   },
   "source": [
    "If the node is already expanded (i.e. has children), it checks the subset of children which still have non-expanded symbols, randomly selects one of them, and applies itself recursively on that child."
   ]
  },
  {
   "cell_type": "markdown",
   "metadata": {
    "slideshow": {
     "slide_type": "subslide"
    }
   },
   "source": [
    "#### Excursion: `expand_tree_once()` implementation"
   ]
  },
  {
   "cell_type": "markdown",
   "metadata": {
    "button": false,
    "new_sheet": false,
    "run_control": {
     "read_only": false
    },
    "slideshow": {
     "slide_type": "subslide"
    }
   },
   "source": [
    "The `expand_tree_once()` method replaces the child _in place_, meaning that it actually mutates the tree being passed as an argument rather than returning a new tree.  This in-place mutation is what makes this function particularly efficient.  Again, we use a helper method (`choose_tree_expansion()`) to return the chosen index from a list of children that can be expanded."
   ]
  },
  {
   "cell_type": "code",
   "execution_count": 83,
   "metadata": {
    "button": false,
    "execution": {
     "iopub.execute_input": "2024-06-29T16:13:17.093063Z",
     "iopub.status.busy": "2024-06-29T16:13:17.092934Z",
     "iopub.status.idle": "2024-06-29T16:13:17.096015Z",
     "shell.execute_reply": "2024-06-29T16:13:17.095693Z"
    },
    "new_sheet": false,
    "run_control": {
     "read_only": false
    },
    "slideshow": {
     "slide_type": "subslide"
    }
   },
   "outputs": [],
   "source": [
    "class GrammarFuzzer(GrammarFuzzer):\n",
    "    def choose_tree_expansion(self,\n",
    "                              tree: DerivationTree,\n",
    "                              children: List[DerivationTree]) -> int:\n",
    "        \"\"\"Return index of subtree in `children` to be selected for expansion.\n",
    "           Defaults to random.\"\"\"\n",
    "        return random.randrange(0, len(children))\n",
    "\n",
    "    def expand_tree_once(self, tree: DerivationTree) -> DerivationTree:\n",
    "        \"\"\"Choose an unexpanded symbol in tree; expand it.\n",
    "           Can be overloaded in subclasses.\"\"\"\n",
    "        (symbol, children) = tree\n",
    "        if children is None:\n",
    "            # Expand this node\n",
    "            return self.expand_node(tree)\n",
    "\n",
    "        # Find all children with possible expansions\n",
    "        expandable_children = [\n",
    "            c for c in children if self.any_possible_expansions(c)]\n",
    "\n",
    "        # `index_map` translates an index in `expandable_children`\n",
    "        # back into the original index in `children`\n",
    "        index_map = [i for (i, c) in enumerate(children)\n",
    "                     if c in expandable_children]\n",
    "\n",
    "        # Select a random child\n",
    "        child_to_be_expanded = \\\n",
    "            self.choose_tree_expansion(tree, expandable_children)\n",
    "\n",
    "        # Expand in place\n",
    "        children[index_map[child_to_be_expanded]] = \\\n",
    "            self.expand_tree_once(expandable_children[child_to_be_expanded])\n",
    "\n",
    "        return tree"
   ]
  },
  {
   "cell_type": "markdown",
   "metadata": {
    "slideshow": {
     "slide_type": "subslide"
    }
   },
   "source": [
    "#### End of Excursion"
   ]
  },
  {
   "cell_type": "markdown",
   "metadata": {
    "button": false,
    "new_sheet": false,
    "run_control": {
     "read_only": false
    },
    "slideshow": {
     "slide_type": "subslide"
    }
   },
   "source": [
    "Let us illustrate how `expand_tree_once()` works. We start with our derivation tree from above..."
   ]
  },
  {
   "cell_type": "code",
   "execution_count": 84,
   "metadata": {
    "button": false,
    "execution": {
     "iopub.execute_input": "2024-06-29T16:13:17.097544Z",
     "iopub.status.busy": "2024-06-29T16:13:17.097453Z",
     "iopub.status.idle": "2024-06-29T16:13:17.497817Z",
     "shell.execute_reply": "2024-06-29T16:13:17.497390Z"
    },
    "new_sheet": false,
    "run_control": {
     "read_only": false
    },
    "slideshow": {
     "slide_type": "fragment"
    }
   },
   "outputs": [
    {
     "data": {
      "image/svg+xml": [
       "<?xml version=\"1.0\" encoding=\"UTF-8\" standalone=\"no\"?>\n",
       "<!DOCTYPE svg PUBLIC \"-//W3C//DTD SVG 1.1//EN\"\n",
       " \"http://www.w3.org/Graphics/SVG/1.1/DTD/svg11.dtd\">\n",
       "<!-- Generated by graphviz version 11.0.0 (20240428.1522)\n",
       " -->\n",
       "<!-- Pages: 1 -->\n",
       "<svg width=\"142pt\" height=\"123pt\"\n",
       " viewBox=\"0.00 0.00 142.25 122.75\" xmlns=\"http://www.w3.org/2000/svg\" xmlns:xlink=\"http://www.w3.org/1999/xlink\">\n",
       "<g id=\"graph0\" class=\"graph\" transform=\"scale(1 1) rotate(0) translate(4 118.75)\">\n",
       "<polygon fill=\"white\" stroke=\"none\" points=\"-4,4 -4,-118.75 138.25,-118.75 138.25,4 -4,4\"/>\n",
       "<!-- 0 -->\n",
       "<g id=\"node1\" class=\"node\">\n",
       "<title>0</title>\n",
       "<text text-anchor=\"middle\" x=\"66.25\" y=\"-101.45\" font-family=\"Times,serif\" font-size=\"14.00\">&lt;start&gt;</text>\n",
       "</g>\n",
       "<!-- 1 -->\n",
       "<g id=\"node2\" class=\"node\">\n",
       "<title>1</title>\n",
       "<text text-anchor=\"middle\" x=\"66.25\" y=\"-51.2\" font-family=\"Times,serif\" font-size=\"14.00\">&lt;expr&gt;</text>\n",
       "</g>\n",
       "<!-- 0&#45;&gt;1 -->\n",
       "<g id=\"edge1\" class=\"edge\">\n",
       "<title>0&#45;&gt;1</title>\n",
       "<path fill=\"none\" stroke=\"black\" d=\"M66.25,-100.71C66.25,-94.49 66.25,-84.4 66.25,-75.64\"/>\n",
       "<polygon fill=\"black\" stroke=\"black\" points=\"69.75,-75.85 66.25,-65.85 62.75,-75.85 69.75,-75.85\"/>\n",
       "</g>\n",
       "<!-- 2 -->\n",
       "<g id=\"node3\" class=\"node\">\n",
       "<title>2</title>\n",
       "<text text-anchor=\"middle\" x=\"20.25\" y=\"-0.95\" font-family=\"Times,serif\" font-size=\"14.00\">&lt;expr&gt;</text>\n",
       "</g>\n",
       "<!-- 1&#45;&gt;2 -->\n",
       "<g id=\"edge2\" class=\"edge\">\n",
       "<title>1&#45;&gt;2</title>\n",
       "<path fill=\"none\" stroke=\"black\" d=\"M60.61,-50.46C53.99,-43.51 42.78,-31.75 33.85,-22.39\"/>\n",
       "<polygon fill=\"black\" stroke=\"black\" points=\"36.41,-20.01 26.98,-15.19 31.35,-24.84 36.41,-20.01\"/>\n",
       "</g>\n",
       "<!-- 3 -->\n",
       "<g id=\"node4\" class=\"node\">\n",
       "<title>3</title>\n",
       "<text text-anchor=\"middle\" x=\"66.25\" y=\"-0.95\" font-family=\"Times,serif\" font-size=\"14.00\"> + </text>\n",
       "</g>\n",
       "<!-- 1&#45;&gt;3 -->\n",
       "<g id=\"edge3\" class=\"edge\">\n",
       "<title>1&#45;&gt;3</title>\n",
       "<path fill=\"none\" stroke=\"black\" d=\"M66.25,-50.46C66.25,-44.24 66.25,-34.15 66.25,-25.39\"/>\n",
       "<polygon fill=\"black\" stroke=\"black\" points=\"69.75,-25.6 66.25,-15.6 62.75,-25.6 69.75,-25.6\"/>\n",
       "</g>\n",
       "<!-- 4 -->\n",
       "<g id=\"node5\" class=\"node\">\n",
       "<title>4</title>\n",
       "<text text-anchor=\"middle\" x=\"113.25\" y=\"-0.95\" font-family=\"Times,serif\" font-size=\"14.00\">&lt;term&gt;</text>\n",
       "</g>\n",
       "<!-- 1&#45;&gt;4 -->\n",
       "<g id=\"edge4\" class=\"edge\">\n",
       "<title>1&#45;&gt;4</title>\n",
       "<path fill=\"none\" stroke=\"black\" d=\"M72.01,-50.46C78.85,-43.44 90.47,-31.51 99.64,-22.1\"/>\n",
       "<polygon fill=\"black\" stroke=\"black\" points=\"101.91,-24.78 106.38,-15.17 96.9,-19.9 101.91,-24.78\"/>\n",
       "</g>\n",
       "</g>\n",
       "</svg>\n"
      ],
      "text/plain": [
       "<graphviz.graphs.Digraph at 0x15d56f1c0>"
      ]
     },
     "execution_count": 84,
     "metadata": {},
     "output_type": "execute_result"
    }
   ],
   "source": [
    "derivation_tree = (\"<start>\",\n",
    "                   [(\"<expr>\",\n",
    "                     [(\"<expr>\", None),\n",
    "                      (\" + \", []),\n",
    "                         (\"<term>\", None)]\n",
    "                     )])\n",
    "display_tree(derivation_tree)"
   ]
  },
  {
   "cell_type": "markdown",
   "metadata": {
    "slideshow": {
     "slide_type": "fragment"
    }
   },
   "source": [
    "... and now expand it twice:"
   ]
  },
  {
   "cell_type": "code",
   "execution_count": 85,
   "metadata": {
    "button": false,
    "execution": {
     "iopub.execute_input": "2024-06-29T16:13:17.499705Z",
     "iopub.status.busy": "2024-06-29T16:13:17.499562Z",
     "iopub.status.idle": "2024-06-29T16:13:17.906501Z",
     "shell.execute_reply": "2024-06-29T16:13:17.906167Z"
    },
    "new_sheet": false,
    "run_control": {
     "read_only": false
    },
    "slideshow": {
     "slide_type": "subslide"
    }
   },
   "outputs": [
    {
     "name": "stdout",
     "output_type": "stream",
     "text": [
      "Expanding <expr> randomly\n"
     ]
    },
    {
     "data": {
      "image/svg+xml": [
       "<?xml version=\"1.0\" encoding=\"UTF-8\" standalone=\"no\"?>\n",
       "<!DOCTYPE svg PUBLIC \"-//W3C//DTD SVG 1.1//EN\"\n",
       " \"http://www.w3.org/Graphics/SVG/1.1/DTD/svg11.dtd\">\n",
       "<!-- Generated by graphviz version 11.0.0 (20240428.1522)\n",
       " -->\n",
       "<!-- Pages: 1 -->\n",
       "<svg width=\"188pt\" height=\"173pt\"\n",
       " viewBox=\"0.00 0.00 188.00 173.00\" xmlns=\"http://www.w3.org/2000/svg\" xmlns:xlink=\"http://www.w3.org/1999/xlink\">\n",
       "<g id=\"graph0\" class=\"graph\" transform=\"scale(1 1) rotate(0) translate(4 169)\">\n",
       "<polygon fill=\"white\" stroke=\"none\" points=\"-4,4 -4,-169 184,-169 184,4 -4,4\"/>\n",
       "<!-- 0 -->\n",
       "<g id=\"node1\" class=\"node\">\n",
       "<title>0</title>\n",
       "<text text-anchor=\"middle\" x=\"112\" y=\"-151.7\" font-family=\"Times,serif\" font-size=\"14.00\">&lt;start&gt;</text>\n",
       "</g>\n",
       "<!-- 1 -->\n",
       "<g id=\"node2\" class=\"node\">\n",
       "<title>1</title>\n",
       "<text text-anchor=\"middle\" x=\"112\" y=\"-101.45\" font-family=\"Times,serif\" font-size=\"14.00\">&lt;expr&gt;</text>\n",
       "</g>\n",
       "<!-- 0&#45;&gt;1 -->\n",
       "<g id=\"edge1\" class=\"edge\">\n",
       "<title>0&#45;&gt;1</title>\n",
       "<path fill=\"none\" stroke=\"black\" d=\"M112,-150.96C112,-144.74 112,-134.65 112,-125.89\"/>\n",
       "<polygon fill=\"black\" stroke=\"black\" points=\"115.5,-126.1 112,-116.1 108.5,-126.1 115.5,-126.1\"/>\n",
       "</g>\n",
       "<!-- 2 -->\n",
       "<g id=\"node3\" class=\"node\">\n",
       "<title>2</title>\n",
       "<text text-anchor=\"middle\" x=\"66\" y=\"-51.2\" font-family=\"Times,serif\" font-size=\"14.00\">&lt;expr&gt;</text>\n",
       "</g>\n",
       "<!-- 1&#45;&gt;2 -->\n",
       "<g id=\"edge2\" class=\"edge\">\n",
       "<title>1&#45;&gt;2</title>\n",
       "<path fill=\"none\" stroke=\"black\" d=\"M106.36,-100.71C99.74,-93.76 88.53,-82 79.6,-72.64\"/>\n",
       "<polygon fill=\"black\" stroke=\"black\" points=\"82.16,-70.26 72.73,-65.44 77.1,-75.09 82.16,-70.26\"/>\n",
       "</g>\n",
       "<!-- 6 -->\n",
       "<g id=\"node7\" class=\"node\">\n",
       "<title>6</title>\n",
       "<text text-anchor=\"middle\" x=\"112\" y=\"-51.2\" font-family=\"Times,serif\" font-size=\"14.00\"> + </text>\n",
       "</g>\n",
       "<!-- 1&#45;&gt;6 -->\n",
       "<g id=\"edge6\" class=\"edge\">\n",
       "<title>1&#45;&gt;6</title>\n",
       "<path fill=\"none\" stroke=\"black\" d=\"M112,-100.71C112,-94.49 112,-84.4 112,-75.64\"/>\n",
       "<polygon fill=\"black\" stroke=\"black\" points=\"115.5,-75.85 112,-65.85 108.5,-75.85 115.5,-75.85\"/>\n",
       "</g>\n",
       "<!-- 7 -->\n",
       "<g id=\"node8\" class=\"node\">\n",
       "<title>7</title>\n",
       "<text text-anchor=\"middle\" x=\"159\" y=\"-51.2\" font-family=\"Times,serif\" font-size=\"14.00\">&lt;term&gt;</text>\n",
       "</g>\n",
       "<!-- 1&#45;&gt;7 -->\n",
       "<g id=\"edge7\" class=\"edge\">\n",
       "<title>1&#45;&gt;7</title>\n",
       "<path fill=\"none\" stroke=\"black\" d=\"M117.76,-100.71C124.6,-93.69 136.22,-81.76 145.39,-72.35\"/>\n",
       "<polygon fill=\"black\" stroke=\"black\" points=\"147.66,-75.03 152.13,-65.42 142.65,-70.15 147.66,-75.03\"/>\n",
       "</g>\n",
       "<!-- 3 -->\n",
       "<g id=\"node4\" class=\"node\">\n",
       "<title>3</title>\n",
       "<text text-anchor=\"middle\" x=\"21\" y=\"-0.95\" font-family=\"Times,serif\" font-size=\"14.00\">&lt;term&gt;</text>\n",
       "</g>\n",
       "<!-- 2&#45;&gt;3 -->\n",
       "<g id=\"edge3\" class=\"edge\">\n",
       "<title>2&#45;&gt;3</title>\n",
       "<path fill=\"none\" stroke=\"black\" d=\"M60.48,-50.46C54,-43.51 43.04,-31.75 34.3,-22.39\"/>\n",
       "<polygon fill=\"black\" stroke=\"black\" points=\"36.98,-20.12 27.6,-15.2 31.86,-24.9 36.98,-20.12\"/>\n",
       "</g>\n",
       "<!-- 4 -->\n",
       "<g id=\"node5\" class=\"node\">\n",
       "<title>4</title>\n",
       "<text text-anchor=\"middle\" x=\"66\" y=\"-0.95\" font-family=\"Times,serif\" font-size=\"14.00\"> &#45; </text>\n",
       "</g>\n",
       "<!-- 2&#45;&gt;4 -->\n",
       "<g id=\"edge4\" class=\"edge\">\n",
       "<title>2&#45;&gt;4</title>\n",
       "<path fill=\"none\" stroke=\"black\" d=\"M66,-50.46C66,-44.24 66,-34.15 66,-25.39\"/>\n",
       "<polygon fill=\"black\" stroke=\"black\" points=\"69.5,-25.6 66,-15.6 62.5,-25.6 69.5,-25.6\"/>\n",
       "</g>\n",
       "<!-- 5 -->\n",
       "<g id=\"node6\" class=\"node\">\n",
       "<title>5</title>\n",
       "<text text-anchor=\"middle\" x=\"110\" y=\"-0.95\" font-family=\"Times,serif\" font-size=\"14.00\">&lt;expr&gt;</text>\n",
       "</g>\n",
       "<!-- 2&#45;&gt;5 -->\n",
       "<g id=\"edge5\" class=\"edge\">\n",
       "<title>2&#45;&gt;5</title>\n",
       "<path fill=\"none\" stroke=\"black\" d=\"M71.4,-50.46C77.73,-43.51 88.45,-31.75 96.99,-22.39\"/>\n",
       "<polygon fill=\"black\" stroke=\"black\" points=\"99.39,-24.96 103.54,-15.21 94.22,-20.24 99.39,-24.96\"/>\n",
       "</g>\n",
       "</g>\n",
       "</svg>\n"
      ],
      "text/plain": [
       "<graphviz.graphs.Digraph at 0x15d58f3d0>"
      ]
     },
     "execution_count": 85,
     "metadata": {},
     "output_type": "execute_result"
    }
   ],
   "source": [
    "f = GrammarFuzzer(EXPR_GRAMMAR, log=True)\n",
    "derivation_tree = f.expand_tree_once(derivation_tree)\n",
    "display_tree(derivation_tree)"
   ]
  },
  {
   "cell_type": "code",
   "execution_count": 86,
   "metadata": {
    "button": false,
    "execution": {
     "iopub.execute_input": "2024-06-29T16:13:17.908678Z",
     "iopub.status.busy": "2024-06-29T16:13:17.908446Z",
     "iopub.status.idle": "2024-06-29T16:13:18.298530Z",
     "shell.execute_reply": "2024-06-29T16:13:18.298126Z"
    },
    "new_sheet": false,
    "run_control": {
     "read_only": false
    },
    "slideshow": {
     "slide_type": "subslide"
    }
   },
   "outputs": [
    {
     "name": "stdout",
     "output_type": "stream",
     "text": [
      "Expanding <term> randomly\n"
     ]
    },
    {
     "data": {
      "image/svg+xml": [
       "<?xml version=\"1.0\" encoding=\"UTF-8\" standalone=\"no\"?>\n",
       "<!DOCTYPE svg PUBLIC \"-//W3C//DTD SVG 1.1//EN\"\n",
       " \"http://www.w3.org/Graphics/SVG/1.1/DTD/svg11.dtd\">\n",
       "<!-- Generated by graphviz version 11.0.0 (20240428.1522)\n",
       " -->\n",
       "<!-- Pages: 1 -->\n",
       "<svg width=\"294pt\" height=\"173pt\"\n",
       " viewBox=\"0.00 0.00 294.00 173.00\" xmlns=\"http://www.w3.org/2000/svg\" xmlns:xlink=\"http://www.w3.org/1999/xlink\">\n",
       "<g id=\"graph0\" class=\"graph\" transform=\"scale(1 1) rotate(0) translate(4 169)\">\n",
       "<polygon fill=\"white\" stroke=\"none\" points=\"-4,4 -4,-169 290,-169 290,4 -4,4\"/>\n",
       "<!-- 0 -->\n",
       "<g id=\"node1\" class=\"node\">\n",
       "<title>0</title>\n",
       "<text text-anchor=\"middle\" x=\"142\" y=\"-151.7\" font-family=\"Times,serif\" font-size=\"14.00\">&lt;start&gt;</text>\n",
       "</g>\n",
       "<!-- 1 -->\n",
       "<g id=\"node2\" class=\"node\">\n",
       "<title>1</title>\n",
       "<text text-anchor=\"middle\" x=\"142\" y=\"-101.45\" font-family=\"Times,serif\" font-size=\"14.00\">&lt;expr&gt;</text>\n",
       "</g>\n",
       "<!-- 0&#45;&gt;1 -->\n",
       "<g id=\"edge1\" class=\"edge\">\n",
       "<title>0&#45;&gt;1</title>\n",
       "<path fill=\"none\" stroke=\"black\" d=\"M142,-150.96C142,-144.74 142,-134.65 142,-125.89\"/>\n",
       "<polygon fill=\"black\" stroke=\"black\" points=\"145.5,-126.1 142,-116.1 138.5,-126.1 145.5,-126.1\"/>\n",
       "</g>\n",
       "<!-- 2 -->\n",
       "<g id=\"node3\" class=\"node\">\n",
       "<title>2</title>\n",
       "<text text-anchor=\"middle\" x=\"90\" y=\"-51.2\" font-family=\"Times,serif\" font-size=\"14.00\">&lt;expr&gt;</text>\n",
       "</g>\n",
       "<!-- 1&#45;&gt;2 -->\n",
       "<g id=\"edge2\" class=\"edge\">\n",
       "<title>1&#45;&gt;2</title>\n",
       "<path fill=\"none\" stroke=\"black\" d=\"M135.62,-100.71C127.98,-93.62 114.94,-81.51 104.75,-72.06\"/>\n",
       "<polygon fill=\"black\" stroke=\"black\" points=\"107.25,-69.61 97.54,-65.37 102.49,-74.74 107.25,-69.61\"/>\n",
       "</g>\n",
       "<!-- 6 -->\n",
       "<g id=\"node7\" class=\"node\">\n",
       "<title>6</title>\n",
       "<text text-anchor=\"middle\" x=\"142\" y=\"-51.2\" font-family=\"Times,serif\" font-size=\"14.00\"> + </text>\n",
       "</g>\n",
       "<!-- 1&#45;&gt;6 -->\n",
       "<g id=\"edge6\" class=\"edge\">\n",
       "<title>1&#45;&gt;6</title>\n",
       "<path fill=\"none\" stroke=\"black\" d=\"M142,-100.71C142,-94.49 142,-84.4 142,-75.64\"/>\n",
       "<polygon fill=\"black\" stroke=\"black\" points=\"145.5,-75.85 142,-65.85 138.5,-75.85 145.5,-75.85\"/>\n",
       "</g>\n",
       "<!-- 7 -->\n",
       "<g id=\"node8\" class=\"node\">\n",
       "<title>7</title>\n",
       "<text text-anchor=\"middle\" x=\"192\" y=\"-51.2\" font-family=\"Times,serif\" font-size=\"14.00\">&lt;term&gt;</text>\n",
       "</g>\n",
       "<!-- 1&#45;&gt;7 -->\n",
       "<g id=\"edge7\" class=\"edge\">\n",
       "<title>1&#45;&gt;7</title>\n",
       "<path fill=\"none\" stroke=\"black\" d=\"M148.13,-100.71C155.48,-93.62 168.02,-81.51 177.82,-72.06\"/>\n",
       "<polygon fill=\"black\" stroke=\"black\" points=\"179.96,-74.85 184.73,-65.39 175.1,-69.82 179.96,-74.85\"/>\n",
       "</g>\n",
       "<!-- 3 -->\n",
       "<g id=\"node4\" class=\"node\">\n",
       "<title>3</title>\n",
       "<text text-anchor=\"middle\" x=\"21\" y=\"-0.95\" font-family=\"Times,serif\" font-size=\"14.00\">&lt;term&gt;</text>\n",
       "</g>\n",
       "<!-- 2&#45;&gt;3 -->\n",
       "<g id=\"edge3\" class=\"edge\">\n",
       "<title>2&#45;&gt;3</title>\n",
       "<path fill=\"none\" stroke=\"black\" d=\"M81.26,-50.26C70.63,-42.83 52.41,-30.09 38.78,-20.56\"/>\n",
       "<polygon fill=\"black\" stroke=\"black\" points=\"40.89,-17.77 30.69,-14.9 36.88,-23.5 40.89,-17.77\"/>\n",
       "</g>\n",
       "<!-- 4 -->\n",
       "<g id=\"node5\" class=\"node\">\n",
       "<title>4</title>\n",
       "<text text-anchor=\"middle\" x=\"66\" y=\"-0.95\" font-family=\"Times,serif\" font-size=\"14.00\"> &#45; </text>\n",
       "</g>\n",
       "<!-- 2&#45;&gt;4 -->\n",
       "<g id=\"edge4\" class=\"edge\">\n",
       "<title>2&#45;&gt;4</title>\n",
       "<path fill=\"none\" stroke=\"black\" d=\"M87.06,-50.46C83.82,-43.95 78.48,-33.21 73.98,-24.17\"/>\n",
       "<polygon fill=\"black\" stroke=\"black\" points=\"77.23,-22.84 69.64,-15.44 70.96,-25.96 77.23,-22.84\"/>\n",
       "</g>\n",
       "<!-- 5 -->\n",
       "<g id=\"node6\" class=\"node\">\n",
       "<title>5</title>\n",
       "<text text-anchor=\"middle\" x=\"110\" y=\"-0.95\" font-family=\"Times,serif\" font-size=\"14.00\">&lt;expr&gt;</text>\n",
       "</g>\n",
       "<!-- 2&#45;&gt;5 -->\n",
       "<g id=\"edge5\" class=\"edge\">\n",
       "<title>2&#45;&gt;5</title>\n",
       "<path fill=\"none\" stroke=\"black\" d=\"M92.45,-50.46C95.12,-44.02 99.51,-33.44 103.22,-24.47\"/>\n",
       "<polygon fill=\"black\" stroke=\"black\" points=\"106.35,-26.07 106.95,-15.49 99.89,-23.39 106.35,-26.07\"/>\n",
       "</g>\n",
       "<!-- 8 -->\n",
       "<g id=\"node9\" class=\"node\">\n",
       "<title>8</title>\n",
       "<text text-anchor=\"middle\" x=\"172\" y=\"-0.95\" font-family=\"Times,serif\" font-size=\"14.00\">&lt;factor&gt;</text>\n",
       "</g>\n",
       "<!-- 7&#45;&gt;8 -->\n",
       "<g id=\"edge8\" class=\"edge\">\n",
       "<title>7&#45;&gt;8</title>\n",
       "<path fill=\"none\" stroke=\"black\" d=\"M189.55,-50.46C186.88,-44.02 182.49,-33.44 178.78,-24.47\"/>\n",
       "<polygon fill=\"black\" stroke=\"black\" points=\"182.11,-23.39 175.05,-15.49 175.65,-26.07 182.11,-23.39\"/>\n",
       "</g>\n",
       "<!-- 9 -->\n",
       "<g id=\"node10\" class=\"node\">\n",
       "<title>9</title>\n",
       "<text text-anchor=\"middle\" x=\"220\" y=\"-0.95\" font-family=\"Times,serif\" font-size=\"14.00\"> / </text>\n",
       "</g>\n",
       "<!-- 7&#45;&gt;9 -->\n",
       "<g id=\"edge9\" class=\"edge\">\n",
       "<title>7&#45;&gt;9</title>\n",
       "<path fill=\"none\" stroke=\"black\" d=\"M195.43,-50.46C199.25,-43.87 205.58,-32.97 210.86,-23.87\"/>\n",
       "<polygon fill=\"black\" stroke=\"black\" points=\"213.79,-25.8 215.78,-15.4 207.73,-22.29 213.79,-25.8\"/>\n",
       "</g>\n",
       "<!-- 10 -->\n",
       "<g id=\"node11\" class=\"node\">\n",
       "<title>10</title>\n",
       "<text text-anchor=\"middle\" x=\"265\" y=\"-0.95\" font-family=\"Times,serif\" font-size=\"14.00\">&lt;term&gt;</text>\n",
       "</g>\n",
       "<!-- 7&#45;&gt;10 -->\n",
       "<g id=\"edge10\" class=\"edge\">\n",
       "<title>7&#45;&gt;10</title>\n",
       "<path fill=\"none\" stroke=\"black\" d=\"M201.25,-50.26C212.61,-42.75 232.15,-29.84 246.62,-20.28\"/>\n",
       "<polygon fill=\"black\" stroke=\"black\" points=\"248.38,-23.3 254.8,-14.87 244.52,-17.46 248.38,-23.3\"/>\n",
       "</g>\n",
       "</g>\n",
       "</svg>\n"
      ],
      "text/plain": [
       "<graphviz.graphs.Digraph at 0x15d58dd20>"
      ]
     },
     "execution_count": 86,
     "metadata": {},
     "output_type": "execute_result"
    }
   ],
   "source": [
    "derivation_tree = f.expand_tree_once(derivation_tree)\n",
    "display_tree(derivation_tree)"
   ]
  },
  {
   "cell_type": "markdown",
   "metadata": {
    "button": false,
    "new_sheet": false,
    "run_control": {
     "read_only": false
    },
    "slideshow": {
     "slide_type": "fragment"
    }
   },
   "source": [
    "We see that with each step, one more symbol is expanded.  Now all it takes is to apply this again and again, expanding the tree further and further."
   ]
  },
  {
   "cell_type": "markdown",
   "metadata": {
    "button": false,
    "new_sheet": false,
    "run_control": {
     "read_only": false
    },
    "slideshow": {
     "slide_type": "slide"
    }
   },
   "source": [
    "## Closing the Expansion\n",
    "\n",
    "With `expand_tree_once()`, we can keep on expanding the tree – but how do we actually stop?  The key idea here, introduced by Luke in \\cite{Luke2000}, is that after inflating the derivation tree to some maximum size, we _only want to apply expansions that increase the size of the tree by a minimum_.  For `<factor>`, for instance, we would prefer an expansion into `<integer>`, as this will not introduce further recursion (and potential size inflation); for `<integer>`, likewise, an expansion into `<digit>` is preferred, as it will less increase tree size than `<digit><integer>`."
   ]
  },
  {
   "attachments": {},
   "cell_type": "markdown",
   "metadata": {
    "button": false,
    "new_sheet": false,
    "run_control": {
     "read_only": false
    },
    "slideshow": {
     "slide_type": "subslide"
    }
   },
   "source": [
    "To identify the _cost_ of expanding a symbol, we introduce two functions that mutually rely on each other:\n",
    "\n",
    "* `symbol_cost()` returns the minimum cost of all expansions of a symbol, using `expansion_cost()` to compute the cost for each expansion.\n",
    "* `expansion_cost()` returns the sum of all expansions in `expansions`. If a nonterminal is encountered again during traversal, the cost of the expansion is $\\infty$, indicating (potentially infinite) recursion."
   ]
  },
  {
   "cell_type": "markdown",
   "metadata": {
    "slideshow": {
     "slide_type": "subslide"
    }
   },
   "source": [
    "### Excursion: Implementing Cost Functions"
   ]
  },
  {
   "cell_type": "code",
   "execution_count": 87,
   "metadata": {
    "button": false,
    "execution": {
     "iopub.execute_input": "2024-06-29T16:13:18.300504Z",
     "iopub.status.busy": "2024-06-29T16:13:18.300364Z",
     "iopub.status.idle": "2024-06-29T16:13:18.303636Z",
     "shell.execute_reply": "2024-06-29T16:13:18.303378Z"
    },
    "new_sheet": false,
    "run_control": {
     "read_only": false
    },
    "slideshow": {
     "slide_type": "fragment"
    }
   },
   "outputs": [],
   "source": [
    "class GrammarFuzzer(GrammarFuzzer):\n",
    "    def symbol_cost(self, symbol: str, seen: Set[str] = set()) \\\n",
    "            -> Union[int, float]:\n",
    "        expansions = self.grammar[symbol]\n",
    "        return min(self.expansion_cost(e, seen | {symbol}) for e in expansions)\n",
    "\n",
    "    def expansion_cost(self, expansion: Expansion,\n",
    "                       seen: Set[str] = set()) -> Union[int, float]:\n",
    "        symbols = nonterminals(expansion)\n",
    "        if len(symbols) == 0:\n",
    "            return 1  # no symbol\n",
    "\n",
    "        if any(s in seen for s in symbols):\n",
    "            return float('inf')\n",
    "\n",
    "        # the value of a expansion is the sum of all expandable variables\n",
    "        # inside + 1\n",
    "        return sum(self.symbol_cost(s, seen) for s in symbols) + 1"
   ]
  },
  {
   "cell_type": "markdown",
   "metadata": {
    "slideshow": {
     "slide_type": "subslide"
    }
   },
   "source": [
    "### End of Excursion"
   ]
  },
  {
   "attachments": {},
   "cell_type": "markdown",
   "metadata": {
    "button": false,
    "new_sheet": false,
    "run_control": {
     "read_only": false
    },
    "slideshow": {
     "slide_type": "subslide"
    }
   },
   "source": [
    "Here are two examples: The minimum cost of expanding a digit is 1, since we have to choose from one of its expansions."
   ]
  },
  {
   "cell_type": "code",
   "execution_count": 88,
   "metadata": {
    "button": false,
    "execution": {
     "iopub.execute_input": "2024-06-29T16:13:18.305221Z",
     "iopub.status.busy": "2024-06-29T16:13:18.305135Z",
     "iopub.status.idle": "2024-06-29T16:13:18.306995Z",
     "shell.execute_reply": "2024-06-29T16:13:18.306657Z"
    },
    "new_sheet": false,
    "run_control": {
     "read_only": false
    },
    "slideshow": {
     "slide_type": "fragment"
    }
   },
   "outputs": [],
   "source": [
    "f = GrammarFuzzer(EXPR_GRAMMAR)\n",
    "assert f.symbol_cost(\"<digit>\") == 1"
   ]
  },
  {
   "cell_type": "markdown",
   "metadata": {
    "button": false,
    "new_sheet": false,
    "run_control": {
     "read_only": false
    },
    "slideshow": {
     "slide_type": "fragment"
    }
   },
   "source": [
    "The minimum cost of expanding `<expr>`, though, is five, as this is the minimum number of expansions required.  (`<expr>` $\\rightarrow$ `<term>` $\\rightarrow$ `<factor>` $\\rightarrow$ `<integer>` $\\rightarrow$ `<digit>` $\\rightarrow$ 1)"
   ]
  },
  {
   "cell_type": "code",
   "execution_count": 89,
   "metadata": {
    "button": false,
    "execution": {
     "iopub.execute_input": "2024-06-29T16:13:18.308618Z",
     "iopub.status.busy": "2024-06-29T16:13:18.308512Z",
     "iopub.status.idle": "2024-06-29T16:13:18.310611Z",
     "shell.execute_reply": "2024-06-29T16:13:18.310296Z"
    },
    "new_sheet": false,
    "run_control": {
     "read_only": false
    },
    "slideshow": {
     "slide_type": "fragment"
    }
   },
   "outputs": [],
   "source": [
    "assert f.symbol_cost(\"<expr>\") == 5"
   ]
  },
  {
   "cell_type": "markdown",
   "metadata": {
    "button": false,
    "new_sheet": false,
    "run_control": {
     "read_only": false
    },
    "slideshow": {
     "slide_type": "subslide"
    }
   },
   "source": [
    "We define `expand_node_by_cost(self, node, choose)`, a variant of `expand_node()` that takes the above cost into account.  It determines the minimum cost `cost` across all children and then chooses a child from the list using the `choose` function, which by default is the minimum cost.  If multiple children all have the same minimum cost, it chooses randomly between these."
   ]
  },
  {
   "cell_type": "markdown",
   "metadata": {
    "slideshow": {
     "slide_type": "subslide"
    }
   },
   "source": [
    "#### Excursion: `expand_node_by_cost()` implementation"
   ]
  },
  {
   "cell_type": "code",
   "execution_count": 90,
   "metadata": {
    "button": false,
    "execution": {
     "iopub.execute_input": "2024-06-29T16:13:18.312225Z",
     "iopub.status.busy": "2024-06-29T16:13:18.312127Z",
     "iopub.status.idle": "2024-06-29T16:13:18.315661Z",
     "shell.execute_reply": "2024-06-29T16:13:18.315364Z"
    },
    "new_sheet": false,
    "run_control": {
     "read_only": false
    },
    "slideshow": {
     "slide_type": "subslide"
    }
   },
   "outputs": [],
   "source": [
    "class GrammarFuzzer(GrammarFuzzer):\n",
    "    def expand_node_by_cost(self, node: DerivationTree, \n",
    "                            choose: Callable = min) -> DerivationTree:\n",
    "        (symbol, children) = node\n",
    "        assert children is None\n",
    "\n",
    "        # Fetch the possible expansions from grammar...\n",
    "        expansions = self.grammar[symbol]\n",
    "\n",
    "        children_alternatives_with_cost = [(self.expansion_to_children(expansion),\n",
    "                                            self.expansion_cost(expansion, {symbol}),\n",
    "                                            expansion)\n",
    "                                           for expansion in expansions]\n",
    "\n",
    "        costs = [cost for (child, cost, expansion)\n",
    "                 in children_alternatives_with_cost]\n",
    "        chosen_cost = choose(costs)\n",
    "        children_with_chosen_cost = [child for (child, child_cost, _) \n",
    "                                     in children_alternatives_with_cost\n",
    "                                     if child_cost == chosen_cost]\n",
    "        expansion_with_chosen_cost = [expansion for (_, child_cost, expansion)\n",
    "                                      in children_alternatives_with_cost\n",
    "                                      if child_cost == chosen_cost]\n",
    "\n",
    "        index = self.choose_node_expansion(node, children_with_chosen_cost)\n",
    "\n",
    "        chosen_children = children_with_chosen_cost[index]\n",
    "        chosen_expansion = expansion_with_chosen_cost[index]\n",
    "        chosen_children = self.process_chosen_children(\n",
    "            chosen_children, chosen_expansion)\n",
    "\n",
    "        # Return with a new list\n",
    "        return (symbol, chosen_children)"
   ]
  },
  {
   "cell_type": "markdown",
   "metadata": {
    "slideshow": {
     "slide_type": "subslide"
    }
   },
   "source": [
    "#### End of Excursion"
   ]
  },
  {
   "cell_type": "markdown",
   "metadata": {
    "slideshow": {
     "slide_type": "subslide"
    }
   },
   "source": [
    "The shortcut `expand_node_min_cost()` passes `min()` as the `choose` function, which makes it expand nodes at minimum cost."
   ]
  },
  {
   "cell_type": "code",
   "execution_count": 91,
   "metadata": {
    "button": false,
    "execution": {
     "iopub.execute_input": "2024-06-29T16:13:18.317479Z",
     "iopub.status.busy": "2024-06-29T16:13:18.317354Z",
     "iopub.status.idle": "2024-06-29T16:13:18.319415Z",
     "shell.execute_reply": "2024-06-29T16:13:18.319147Z"
    },
    "new_sheet": false,
    "run_control": {
     "read_only": false
    },
    "slideshow": {
     "slide_type": "fragment"
    }
   },
   "outputs": [],
   "source": [
    "class GrammarFuzzer(GrammarFuzzer):\n",
    "    def expand_node_min_cost(self, node: DerivationTree) -> DerivationTree:\n",
    "        if self.log:\n",
    "            print(\"Expanding\", all_terminals(node), \"at minimum cost\")\n",
    "\n",
    "        return self.expand_node_by_cost(node, min)"
   ]
  },
  {
   "cell_type": "markdown",
   "metadata": {
    "button": false,
    "new_sheet": false,
    "run_control": {
     "read_only": false
    },
    "slideshow": {
     "slide_type": "subslide"
    }
   },
   "source": [
    "We can now apply this function to close the expansion of our derivation tree, using `expand_tree_once()` with the above `expand_node_min_cost()` as expansion function."
   ]
  },
  {
   "cell_type": "code",
   "execution_count": 92,
   "metadata": {
    "button": false,
    "execution": {
     "iopub.execute_input": "2024-06-29T16:13:18.320853Z",
     "iopub.status.busy": "2024-06-29T16:13:18.320749Z",
     "iopub.status.idle": "2024-06-29T16:13:18.322571Z",
     "shell.execute_reply": "2024-06-29T16:13:18.322281Z"
    },
    "new_sheet": false,
    "run_control": {
     "read_only": false
    },
    "slideshow": {
     "slide_type": "fragment"
    }
   },
   "outputs": [],
   "source": [
    "class GrammarFuzzer(GrammarFuzzer):\n",
    "    def expand_node(self, node: DerivationTree) -> DerivationTree:\n",
    "        return self.expand_node_min_cost(node)"
   ]
  },
  {
   "cell_type": "code",
   "execution_count": 93,
   "metadata": {
    "button": false,
    "execution": {
     "iopub.execute_input": "2024-06-29T16:13:18.323986Z",
     "iopub.status.busy": "2024-06-29T16:13:18.323886Z",
     "iopub.status.idle": "2024-06-29T16:13:18.717175Z",
     "shell.execute_reply": "2024-06-29T16:13:18.716777Z"
    },
    "new_sheet": false,
    "run_control": {
     "read_only": false
    },
    "slideshow": {
     "slide_type": "subslide"
    }
   },
   "outputs": [
    {
     "data": {
      "image/svg+xml": [
       "<?xml version=\"1.0\" encoding=\"UTF-8\" standalone=\"no\"?>\n",
       "<!DOCTYPE svg PUBLIC \"-//W3C//DTD SVG 1.1//EN\"\n",
       " \"http://www.w3.org/Graphics/SVG/1.1/DTD/svg11.dtd\">\n",
       "<!-- Generated by graphviz version 11.0.0 (20240428.1522)\n",
       " -->\n",
       "<!-- Pages: 1 -->\n",
       "<svg width=\"294pt\" height=\"173pt\"\n",
       " viewBox=\"0.00 0.00 294.00 173.00\" xmlns=\"http://www.w3.org/2000/svg\" xmlns:xlink=\"http://www.w3.org/1999/xlink\">\n",
       "<g id=\"graph0\" class=\"graph\" transform=\"scale(1 1) rotate(0) translate(4 169)\">\n",
       "<polygon fill=\"white\" stroke=\"none\" points=\"-4,4 -4,-169 290,-169 290,4 -4,4\"/>\n",
       "<!-- 0 -->\n",
       "<g id=\"node1\" class=\"node\">\n",
       "<title>0</title>\n",
       "<text text-anchor=\"middle\" x=\"142\" y=\"-151.7\" font-family=\"Times,serif\" font-size=\"14.00\">&lt;start&gt;</text>\n",
       "</g>\n",
       "<!-- 1 -->\n",
       "<g id=\"node2\" class=\"node\">\n",
       "<title>1</title>\n",
       "<text text-anchor=\"middle\" x=\"142\" y=\"-101.45\" font-family=\"Times,serif\" font-size=\"14.00\">&lt;expr&gt;</text>\n",
       "</g>\n",
       "<!-- 0&#45;&gt;1 -->\n",
       "<g id=\"edge1\" class=\"edge\">\n",
       "<title>0&#45;&gt;1</title>\n",
       "<path fill=\"none\" stroke=\"black\" d=\"M142,-150.96C142,-144.74 142,-134.65 142,-125.89\"/>\n",
       "<polygon fill=\"black\" stroke=\"black\" points=\"145.5,-126.1 142,-116.1 138.5,-126.1 145.5,-126.1\"/>\n",
       "</g>\n",
       "<!-- 2 -->\n",
       "<g id=\"node3\" class=\"node\">\n",
       "<title>2</title>\n",
       "<text text-anchor=\"middle\" x=\"90\" y=\"-51.2\" font-family=\"Times,serif\" font-size=\"14.00\">&lt;expr&gt;</text>\n",
       "</g>\n",
       "<!-- 1&#45;&gt;2 -->\n",
       "<g id=\"edge2\" class=\"edge\">\n",
       "<title>1&#45;&gt;2</title>\n",
       "<path fill=\"none\" stroke=\"black\" d=\"M135.62,-100.71C127.98,-93.62 114.94,-81.51 104.75,-72.06\"/>\n",
       "<polygon fill=\"black\" stroke=\"black\" points=\"107.25,-69.61 97.54,-65.37 102.49,-74.74 107.25,-69.61\"/>\n",
       "</g>\n",
       "<!-- 6 -->\n",
       "<g id=\"node7\" class=\"node\">\n",
       "<title>6</title>\n",
       "<text text-anchor=\"middle\" x=\"142\" y=\"-51.2\" font-family=\"Times,serif\" font-size=\"14.00\"> + </text>\n",
       "</g>\n",
       "<!-- 1&#45;&gt;6 -->\n",
       "<g id=\"edge6\" class=\"edge\">\n",
       "<title>1&#45;&gt;6</title>\n",
       "<path fill=\"none\" stroke=\"black\" d=\"M142,-100.71C142,-94.49 142,-84.4 142,-75.64\"/>\n",
       "<polygon fill=\"black\" stroke=\"black\" points=\"145.5,-75.85 142,-65.85 138.5,-75.85 145.5,-75.85\"/>\n",
       "</g>\n",
       "<!-- 7 -->\n",
       "<g id=\"node8\" class=\"node\">\n",
       "<title>7</title>\n",
       "<text text-anchor=\"middle\" x=\"192\" y=\"-51.2\" font-family=\"Times,serif\" font-size=\"14.00\">&lt;term&gt;</text>\n",
       "</g>\n",
       "<!-- 1&#45;&gt;7 -->\n",
       "<g id=\"edge7\" class=\"edge\">\n",
       "<title>1&#45;&gt;7</title>\n",
       "<path fill=\"none\" stroke=\"black\" d=\"M148.13,-100.71C155.48,-93.62 168.02,-81.51 177.82,-72.06\"/>\n",
       "<polygon fill=\"black\" stroke=\"black\" points=\"179.96,-74.85 184.73,-65.39 175.1,-69.82 179.96,-74.85\"/>\n",
       "</g>\n",
       "<!-- 3 -->\n",
       "<g id=\"node4\" class=\"node\">\n",
       "<title>3</title>\n",
       "<text text-anchor=\"middle\" x=\"21\" y=\"-0.95\" font-family=\"Times,serif\" font-size=\"14.00\">&lt;term&gt;</text>\n",
       "</g>\n",
       "<!-- 2&#45;&gt;3 -->\n",
       "<g id=\"edge3\" class=\"edge\">\n",
       "<title>2&#45;&gt;3</title>\n",
       "<path fill=\"none\" stroke=\"black\" d=\"M81.26,-50.26C70.63,-42.83 52.41,-30.09 38.78,-20.56\"/>\n",
       "<polygon fill=\"black\" stroke=\"black\" points=\"40.89,-17.77 30.69,-14.9 36.88,-23.5 40.89,-17.77\"/>\n",
       "</g>\n",
       "<!-- 4 -->\n",
       "<g id=\"node5\" class=\"node\">\n",
       "<title>4</title>\n",
       "<text text-anchor=\"middle\" x=\"66\" y=\"-0.95\" font-family=\"Times,serif\" font-size=\"14.00\"> &#45; </text>\n",
       "</g>\n",
       "<!-- 2&#45;&gt;4 -->\n",
       "<g id=\"edge4\" class=\"edge\">\n",
       "<title>2&#45;&gt;4</title>\n",
       "<path fill=\"none\" stroke=\"black\" d=\"M87.06,-50.46C83.82,-43.95 78.48,-33.21 73.98,-24.17\"/>\n",
       "<polygon fill=\"black\" stroke=\"black\" points=\"77.23,-22.84 69.64,-15.44 70.96,-25.96 77.23,-22.84\"/>\n",
       "</g>\n",
       "<!-- 5 -->\n",
       "<g id=\"node6\" class=\"node\">\n",
       "<title>5</title>\n",
       "<text text-anchor=\"middle\" x=\"110\" y=\"-0.95\" font-family=\"Times,serif\" font-size=\"14.00\">&lt;expr&gt;</text>\n",
       "</g>\n",
       "<!-- 2&#45;&gt;5 -->\n",
       "<g id=\"edge5\" class=\"edge\">\n",
       "<title>2&#45;&gt;5</title>\n",
       "<path fill=\"none\" stroke=\"black\" d=\"M92.45,-50.46C95.12,-44.02 99.51,-33.44 103.22,-24.47\"/>\n",
       "<polygon fill=\"black\" stroke=\"black\" points=\"106.35,-26.07 106.95,-15.49 99.89,-23.39 106.35,-26.07\"/>\n",
       "</g>\n",
       "<!-- 8 -->\n",
       "<g id=\"node9\" class=\"node\">\n",
       "<title>8</title>\n",
       "<text text-anchor=\"middle\" x=\"172\" y=\"-0.95\" font-family=\"Times,serif\" font-size=\"14.00\">&lt;factor&gt;</text>\n",
       "</g>\n",
       "<!-- 7&#45;&gt;8 -->\n",
       "<g id=\"edge8\" class=\"edge\">\n",
       "<title>7&#45;&gt;8</title>\n",
       "<path fill=\"none\" stroke=\"black\" d=\"M189.55,-50.46C186.88,-44.02 182.49,-33.44 178.78,-24.47\"/>\n",
       "<polygon fill=\"black\" stroke=\"black\" points=\"182.11,-23.39 175.05,-15.49 175.65,-26.07 182.11,-23.39\"/>\n",
       "</g>\n",
       "<!-- 9 -->\n",
       "<g id=\"node10\" class=\"node\">\n",
       "<title>9</title>\n",
       "<text text-anchor=\"middle\" x=\"220\" y=\"-0.95\" font-family=\"Times,serif\" font-size=\"14.00\"> / </text>\n",
       "</g>\n",
       "<!-- 7&#45;&gt;9 -->\n",
       "<g id=\"edge9\" class=\"edge\">\n",
       "<title>7&#45;&gt;9</title>\n",
       "<path fill=\"none\" stroke=\"black\" d=\"M195.43,-50.46C199.25,-43.87 205.58,-32.97 210.86,-23.87\"/>\n",
       "<polygon fill=\"black\" stroke=\"black\" points=\"213.79,-25.8 215.78,-15.4 207.73,-22.29 213.79,-25.8\"/>\n",
       "</g>\n",
       "<!-- 10 -->\n",
       "<g id=\"node11\" class=\"node\">\n",
       "<title>10</title>\n",
       "<text text-anchor=\"middle\" x=\"265\" y=\"-0.95\" font-family=\"Times,serif\" font-size=\"14.00\">&lt;term&gt;</text>\n",
       "</g>\n",
       "<!-- 7&#45;&gt;10 -->\n",
       "<g id=\"edge10\" class=\"edge\">\n",
       "<title>7&#45;&gt;10</title>\n",
       "<path fill=\"none\" stroke=\"black\" d=\"M201.25,-50.26C212.61,-42.75 232.15,-29.84 246.62,-20.28\"/>\n",
       "<polygon fill=\"black\" stroke=\"black\" points=\"248.38,-23.3 254.8,-14.87 244.52,-17.46 248.38,-23.3\"/>\n",
       "</g>\n",
       "</g>\n",
       "</svg>\n"
      ],
      "text/plain": [
       "<graphviz.graphs.Digraph at 0x15d58e530>"
      ]
     },
     "execution_count": 93,
     "metadata": {},
     "output_type": "execute_result"
    }
   ],
   "source": [
    "f = GrammarFuzzer(EXPR_GRAMMAR, log=True)\n",
    "display_tree(derivation_tree)"
   ]
  },
  {
   "cell_type": "code",
   "execution_count": 94,
   "metadata": {
    "execution": {
     "iopub.execute_input": "2024-06-29T16:13:18.719370Z",
     "iopub.status.busy": "2024-06-29T16:13:18.719205Z",
     "iopub.status.idle": "2024-06-29T16:13:18.721504Z",
     "shell.execute_reply": "2024-06-29T16:13:18.721071Z"
    },
    "slideshow": {
     "slide_type": "fragment"
    }
   },
   "outputs": [],
   "source": [
    "# docassert\n",
    "assert f.any_possible_expansions(derivation_tree)"
   ]
  },
  {
   "cell_type": "code",
   "execution_count": 95,
   "metadata": {
    "button": false,
    "execution": {
     "iopub.execute_input": "2024-06-29T16:13:18.723363Z",
     "iopub.status.busy": "2024-06-29T16:13:18.723232Z",
     "iopub.status.idle": "2024-06-29T16:13:19.140746Z",
     "shell.execute_reply": "2024-06-29T16:13:19.140335Z"
    },
    "new_sheet": false,
    "run_control": {
     "read_only": false
    },
    "slideshow": {
     "slide_type": "subslide"
    }
   },
   "outputs": [
    {
     "name": "stdout",
     "output_type": "stream",
     "text": [
      "Expanding <factor> at minimum cost\n"
     ]
    },
    {
     "data": {
      "image/svg+xml": [
       "<?xml version=\"1.0\" encoding=\"UTF-8\" standalone=\"no\"?>\n",
       "<!DOCTYPE svg PUBLIC \"-//W3C//DTD SVG 1.1//EN\"\n",
       " \"http://www.w3.org/Graphics/SVG/1.1/DTD/svg11.dtd\">\n",
       "<!-- Generated by graphviz version 11.0.0 (20240428.1522)\n",
       " -->\n",
       "<!-- Pages: 1 -->\n",
       "<svg width=\"294pt\" height=\"223pt\"\n",
       " viewBox=\"0.00 0.00 294.00 223.25\" xmlns=\"http://www.w3.org/2000/svg\" xmlns:xlink=\"http://www.w3.org/1999/xlink\">\n",
       "<g id=\"graph0\" class=\"graph\" transform=\"scale(1 1) rotate(0) translate(4 219.25)\">\n",
       "<polygon fill=\"white\" stroke=\"none\" points=\"-4,4 -4,-219.25 290,-219.25 290,4 -4,4\"/>\n",
       "<!-- 0 -->\n",
       "<g id=\"node1\" class=\"node\">\n",
       "<title>0</title>\n",
       "<text text-anchor=\"middle\" x=\"142\" y=\"-201.95\" font-family=\"Times,serif\" font-size=\"14.00\">&lt;start&gt;</text>\n",
       "</g>\n",
       "<!-- 1 -->\n",
       "<g id=\"node2\" class=\"node\">\n",
       "<title>1</title>\n",
       "<text text-anchor=\"middle\" x=\"142\" y=\"-151.7\" font-family=\"Times,serif\" font-size=\"14.00\">&lt;expr&gt;</text>\n",
       "</g>\n",
       "<!-- 0&#45;&gt;1 -->\n",
       "<g id=\"edge1\" class=\"edge\">\n",
       "<title>0&#45;&gt;1</title>\n",
       "<path fill=\"none\" stroke=\"black\" d=\"M142,-201.21C142,-194.99 142,-184.9 142,-176.14\"/>\n",
       "<polygon fill=\"black\" stroke=\"black\" points=\"145.5,-176.35 142,-166.35 138.5,-176.35 145.5,-176.35\"/>\n",
       "</g>\n",
       "<!-- 2 -->\n",
       "<g id=\"node3\" class=\"node\">\n",
       "<title>2</title>\n",
       "<text text-anchor=\"middle\" x=\"90\" y=\"-101.45\" font-family=\"Times,serif\" font-size=\"14.00\">&lt;expr&gt;</text>\n",
       "</g>\n",
       "<!-- 1&#45;&gt;2 -->\n",
       "<g id=\"edge2\" class=\"edge\">\n",
       "<title>1&#45;&gt;2</title>\n",
       "<path fill=\"none\" stroke=\"black\" d=\"M135.62,-150.96C127.98,-143.87 114.94,-131.76 104.75,-122.31\"/>\n",
       "<polygon fill=\"black\" stroke=\"black\" points=\"107.25,-119.86 97.54,-115.62 102.49,-124.99 107.25,-119.86\"/>\n",
       "</g>\n",
       "<!-- 6 -->\n",
       "<g id=\"node7\" class=\"node\">\n",
       "<title>6</title>\n",
       "<text text-anchor=\"middle\" x=\"142\" y=\"-101.45\" font-family=\"Times,serif\" font-size=\"14.00\"> + </text>\n",
       "</g>\n",
       "<!-- 1&#45;&gt;6 -->\n",
       "<g id=\"edge6\" class=\"edge\">\n",
       "<title>1&#45;&gt;6</title>\n",
       "<path fill=\"none\" stroke=\"black\" d=\"M142,-150.96C142,-144.74 142,-134.65 142,-125.89\"/>\n",
       "<polygon fill=\"black\" stroke=\"black\" points=\"145.5,-126.1 142,-116.1 138.5,-126.1 145.5,-126.1\"/>\n",
       "</g>\n",
       "<!-- 7 -->\n",
       "<g id=\"node8\" class=\"node\">\n",
       "<title>7</title>\n",
       "<text text-anchor=\"middle\" x=\"192\" y=\"-101.45\" font-family=\"Times,serif\" font-size=\"14.00\">&lt;term&gt;</text>\n",
       "</g>\n",
       "<!-- 1&#45;&gt;7 -->\n",
       "<g id=\"edge7\" class=\"edge\">\n",
       "<title>1&#45;&gt;7</title>\n",
       "<path fill=\"none\" stroke=\"black\" d=\"M148.13,-150.96C155.48,-143.87 168.02,-131.76 177.82,-122.31\"/>\n",
       "<polygon fill=\"black\" stroke=\"black\" points=\"179.96,-125.1 184.73,-115.64 175.1,-120.07 179.96,-125.1\"/>\n",
       "</g>\n",
       "<!-- 3 -->\n",
       "<g id=\"node4\" class=\"node\">\n",
       "<title>3</title>\n",
       "<text text-anchor=\"middle\" x=\"21\" y=\"-51.2\" font-family=\"Times,serif\" font-size=\"14.00\">&lt;term&gt;</text>\n",
       "</g>\n",
       "<!-- 2&#45;&gt;3 -->\n",
       "<g id=\"edge3\" class=\"edge\">\n",
       "<title>2&#45;&gt;3</title>\n",
       "<path fill=\"none\" stroke=\"black\" d=\"M81.26,-100.51C70.63,-93.08 52.41,-80.34 38.78,-70.81\"/>\n",
       "<polygon fill=\"black\" stroke=\"black\" points=\"40.89,-68.02 30.69,-65.15 36.88,-73.75 40.89,-68.02\"/>\n",
       "</g>\n",
       "<!-- 4 -->\n",
       "<g id=\"node5\" class=\"node\">\n",
       "<title>4</title>\n",
       "<text text-anchor=\"middle\" x=\"66\" y=\"-51.2\" font-family=\"Times,serif\" font-size=\"14.00\"> &#45; </text>\n",
       "</g>\n",
       "<!-- 2&#45;&gt;4 -->\n",
       "<g id=\"edge4\" class=\"edge\">\n",
       "<title>2&#45;&gt;4</title>\n",
       "<path fill=\"none\" stroke=\"black\" d=\"M87.06,-100.71C83.82,-94.2 78.48,-83.46 73.98,-74.42\"/>\n",
       "<polygon fill=\"black\" stroke=\"black\" points=\"77.23,-73.09 69.64,-65.69 70.96,-76.21 77.23,-73.09\"/>\n",
       "</g>\n",
       "<!-- 5 -->\n",
       "<g id=\"node6\" class=\"node\">\n",
       "<title>5</title>\n",
       "<text text-anchor=\"middle\" x=\"110\" y=\"-51.2\" font-family=\"Times,serif\" font-size=\"14.00\">&lt;expr&gt;</text>\n",
       "</g>\n",
       "<!-- 2&#45;&gt;5 -->\n",
       "<g id=\"edge5\" class=\"edge\">\n",
       "<title>2&#45;&gt;5</title>\n",
       "<path fill=\"none\" stroke=\"black\" d=\"M92.45,-100.71C95.12,-94.27 99.51,-83.69 103.22,-74.72\"/>\n",
       "<polygon fill=\"black\" stroke=\"black\" points=\"106.35,-76.32 106.95,-65.74 99.89,-73.64 106.35,-76.32\"/>\n",
       "</g>\n",
       "<!-- 8 -->\n",
       "<g id=\"node9\" class=\"node\">\n",
       "<title>8</title>\n",
       "<text text-anchor=\"middle\" x=\"172\" y=\"-51.2\" font-family=\"Times,serif\" font-size=\"14.00\">&lt;factor&gt;</text>\n",
       "</g>\n",
       "<!-- 7&#45;&gt;8 -->\n",
       "<g id=\"edge8\" class=\"edge\">\n",
       "<title>7&#45;&gt;8</title>\n",
       "<path fill=\"none\" stroke=\"black\" d=\"M189.55,-100.71C186.88,-94.27 182.49,-83.69 178.78,-74.72\"/>\n",
       "<polygon fill=\"black\" stroke=\"black\" points=\"182.11,-73.64 175.05,-65.74 175.65,-76.32 182.11,-73.64\"/>\n",
       "</g>\n",
       "<!-- 10 -->\n",
       "<g id=\"node11\" class=\"node\">\n",
       "<title>10</title>\n",
       "<text text-anchor=\"middle\" x=\"220\" y=\"-51.2\" font-family=\"Times,serif\" font-size=\"14.00\"> / </text>\n",
       "</g>\n",
       "<!-- 7&#45;&gt;10 -->\n",
       "<g id=\"edge10\" class=\"edge\">\n",
       "<title>7&#45;&gt;10</title>\n",
       "<path fill=\"none\" stroke=\"black\" d=\"M195.43,-100.71C199.25,-94.12 205.58,-83.22 210.86,-74.12\"/>\n",
       "<polygon fill=\"black\" stroke=\"black\" points=\"213.79,-76.05 215.78,-65.65 207.73,-72.54 213.79,-76.05\"/>\n",
       "</g>\n",
       "<!-- 11 -->\n",
       "<g id=\"node12\" class=\"node\">\n",
       "<title>11</title>\n",
       "<text text-anchor=\"middle\" x=\"265\" y=\"-51.2\" font-family=\"Times,serif\" font-size=\"14.00\">&lt;term&gt;</text>\n",
       "</g>\n",
       "<!-- 7&#45;&gt;11 -->\n",
       "<g id=\"edge11\" class=\"edge\">\n",
       "<title>7&#45;&gt;11</title>\n",
       "<path fill=\"none\" stroke=\"black\" d=\"M201.25,-100.51C212.61,-93 232.15,-80.09 246.62,-70.53\"/>\n",
       "<polygon fill=\"black\" stroke=\"black\" points=\"248.38,-73.55 254.8,-65.12 244.52,-67.71 248.38,-73.55\"/>\n",
       "</g>\n",
       "<!-- 9 -->\n",
       "<g id=\"node10\" class=\"node\">\n",
       "<title>9</title>\n",
       "<text text-anchor=\"middle\" x=\"172\" y=\"-0.95\" font-family=\"Times,serif\" font-size=\"14.00\">&lt;integer&gt;</text>\n",
       "</g>\n",
       "<!-- 8&#45;&gt;9 -->\n",
       "<g id=\"edge9\" class=\"edge\">\n",
       "<title>8&#45;&gt;9</title>\n",
       "<path fill=\"none\" stroke=\"black\" d=\"M172,-50.46C172,-44.24 172,-34.15 172,-25.39\"/>\n",
       "<polygon fill=\"black\" stroke=\"black\" points=\"175.5,-25.6 172,-15.6 168.5,-25.6 175.5,-25.6\"/>\n",
       "</g>\n",
       "</g>\n",
       "</svg>\n"
      ],
      "text/plain": [
       "<graphviz.graphs.Digraph at 0x15d58ff70>"
      ]
     },
     "execution_count": 95,
     "metadata": {},
     "output_type": "execute_result"
    }
   ],
   "source": [
    "if f.any_possible_expansions(derivation_tree):\n",
    "    derivation_tree = f.expand_tree_once(derivation_tree)\n",
    "display_tree(derivation_tree)"
   ]
  },
  {
   "cell_type": "code",
   "execution_count": 96,
   "metadata": {
    "execution": {
     "iopub.execute_input": "2024-06-29T16:13:19.142560Z",
     "iopub.status.busy": "2024-06-29T16:13:19.142395Z",
     "iopub.status.idle": "2024-06-29T16:13:19.144318Z",
     "shell.execute_reply": "2024-06-29T16:13:19.144041Z"
    },
    "slideshow": {
     "slide_type": "fragment"
    }
   },
   "outputs": [],
   "source": [
    "# docassert\n",
    "assert f.any_possible_expansions(derivation_tree)"
   ]
  },
  {
   "cell_type": "code",
   "execution_count": 97,
   "metadata": {
    "button": false,
    "execution": {
     "iopub.execute_input": "2024-06-29T16:13:19.145933Z",
     "iopub.status.busy": "2024-06-29T16:13:19.145811Z",
     "iopub.status.idle": "2024-06-29T16:13:19.557650Z",
     "shell.execute_reply": "2024-06-29T16:13:19.557138Z"
    },
    "new_sheet": false,
    "run_control": {
     "read_only": false
    },
    "slideshow": {
     "slide_type": "subslide"
    },
    "tags": []
   },
   "outputs": [
    {
     "name": "stdout",
     "output_type": "stream",
     "text": [
      "Expanding <term> at minimum cost\n"
     ]
    },
    {
     "data": {
      "image/svg+xml": [
       "<?xml version=\"1.0\" encoding=\"UTF-8\" standalone=\"no\"?>\n",
       "<!DOCTYPE svg PUBLIC \"-//W3C//DTD SVG 1.1//EN\"\n",
       " \"http://www.w3.org/Graphics/SVG/1.1/DTD/svg11.dtd\">\n",
       "<!-- Generated by graphviz version 11.0.0 (20240428.1522)\n",
       " -->\n",
       "<!-- Pages: 1 -->\n",
       "<svg width=\"297pt\" height=\"223pt\"\n",
       " viewBox=\"0.00 0.00 297.00 223.25\" xmlns=\"http://www.w3.org/2000/svg\" xmlns:xlink=\"http://www.w3.org/1999/xlink\">\n",
       "<g id=\"graph0\" class=\"graph\" transform=\"scale(1 1) rotate(0) translate(4 219.25)\">\n",
       "<polygon fill=\"white\" stroke=\"none\" points=\"-4,4 -4,-219.25 293,-219.25 293,4 -4,4\"/>\n",
       "<!-- 0 -->\n",
       "<g id=\"node1\" class=\"node\">\n",
       "<title>0</title>\n",
       "<text text-anchor=\"middle\" x=\"142\" y=\"-201.95\" font-family=\"Times,serif\" font-size=\"14.00\">&lt;start&gt;</text>\n",
       "</g>\n",
       "<!-- 1 -->\n",
       "<g id=\"node2\" class=\"node\">\n",
       "<title>1</title>\n",
       "<text text-anchor=\"middle\" x=\"142\" y=\"-151.7\" font-family=\"Times,serif\" font-size=\"14.00\">&lt;expr&gt;</text>\n",
       "</g>\n",
       "<!-- 0&#45;&gt;1 -->\n",
       "<g id=\"edge1\" class=\"edge\">\n",
       "<title>0&#45;&gt;1</title>\n",
       "<path fill=\"none\" stroke=\"black\" d=\"M142,-201.21C142,-194.99 142,-184.9 142,-176.14\"/>\n",
       "<polygon fill=\"black\" stroke=\"black\" points=\"145.5,-176.35 142,-166.35 138.5,-176.35 145.5,-176.35\"/>\n",
       "</g>\n",
       "<!-- 2 -->\n",
       "<g id=\"node3\" class=\"node\">\n",
       "<title>2</title>\n",
       "<text text-anchor=\"middle\" x=\"90\" y=\"-101.45\" font-family=\"Times,serif\" font-size=\"14.00\">&lt;expr&gt;</text>\n",
       "</g>\n",
       "<!-- 1&#45;&gt;2 -->\n",
       "<g id=\"edge2\" class=\"edge\">\n",
       "<title>1&#45;&gt;2</title>\n",
       "<path fill=\"none\" stroke=\"black\" d=\"M135.62,-150.96C127.98,-143.87 114.94,-131.76 104.75,-122.31\"/>\n",
       "<polygon fill=\"black\" stroke=\"black\" points=\"107.25,-119.86 97.54,-115.62 102.49,-124.99 107.25,-119.86\"/>\n",
       "</g>\n",
       "<!-- 6 -->\n",
       "<g id=\"node7\" class=\"node\">\n",
       "<title>6</title>\n",
       "<text text-anchor=\"middle\" x=\"142\" y=\"-101.45\" font-family=\"Times,serif\" font-size=\"14.00\"> + </text>\n",
       "</g>\n",
       "<!-- 1&#45;&gt;6 -->\n",
       "<g id=\"edge6\" class=\"edge\">\n",
       "<title>1&#45;&gt;6</title>\n",
       "<path fill=\"none\" stroke=\"black\" d=\"M142,-150.96C142,-144.74 142,-134.65 142,-125.89\"/>\n",
       "<polygon fill=\"black\" stroke=\"black\" points=\"145.5,-126.1 142,-116.1 138.5,-126.1 145.5,-126.1\"/>\n",
       "</g>\n",
       "<!-- 7 -->\n",
       "<g id=\"node8\" class=\"node\">\n",
       "<title>7</title>\n",
       "<text text-anchor=\"middle\" x=\"192\" y=\"-101.45\" font-family=\"Times,serif\" font-size=\"14.00\">&lt;term&gt;</text>\n",
       "</g>\n",
       "<!-- 1&#45;&gt;7 -->\n",
       "<g id=\"edge7\" class=\"edge\">\n",
       "<title>1&#45;&gt;7</title>\n",
       "<path fill=\"none\" stroke=\"black\" d=\"M148.13,-150.96C155.48,-143.87 168.02,-131.76 177.82,-122.31\"/>\n",
       "<polygon fill=\"black\" stroke=\"black\" points=\"179.96,-125.1 184.73,-115.64 175.1,-120.07 179.96,-125.1\"/>\n",
       "</g>\n",
       "<!-- 3 -->\n",
       "<g id=\"node4\" class=\"node\">\n",
       "<title>3</title>\n",
       "<text text-anchor=\"middle\" x=\"21\" y=\"-51.2\" font-family=\"Times,serif\" font-size=\"14.00\">&lt;term&gt;</text>\n",
       "</g>\n",
       "<!-- 2&#45;&gt;3 -->\n",
       "<g id=\"edge3\" class=\"edge\">\n",
       "<title>2&#45;&gt;3</title>\n",
       "<path fill=\"none\" stroke=\"black\" d=\"M81.26,-100.51C70.63,-93.08 52.41,-80.34 38.78,-70.81\"/>\n",
       "<polygon fill=\"black\" stroke=\"black\" points=\"40.89,-68.02 30.69,-65.15 36.88,-73.75 40.89,-68.02\"/>\n",
       "</g>\n",
       "<!-- 4 -->\n",
       "<g id=\"node5\" class=\"node\">\n",
       "<title>4</title>\n",
       "<text text-anchor=\"middle\" x=\"66\" y=\"-51.2\" font-family=\"Times,serif\" font-size=\"14.00\"> &#45; </text>\n",
       "</g>\n",
       "<!-- 2&#45;&gt;4 -->\n",
       "<g id=\"edge4\" class=\"edge\">\n",
       "<title>2&#45;&gt;4</title>\n",
       "<path fill=\"none\" stroke=\"black\" d=\"M87.06,-100.71C83.82,-94.2 78.48,-83.46 73.98,-74.42\"/>\n",
       "<polygon fill=\"black\" stroke=\"black\" points=\"77.23,-73.09 69.64,-65.69 70.96,-76.21 77.23,-73.09\"/>\n",
       "</g>\n",
       "<!-- 5 -->\n",
       "<g id=\"node6\" class=\"node\">\n",
       "<title>5</title>\n",
       "<text text-anchor=\"middle\" x=\"110\" y=\"-51.2\" font-family=\"Times,serif\" font-size=\"14.00\">&lt;expr&gt;</text>\n",
       "</g>\n",
       "<!-- 2&#45;&gt;5 -->\n",
       "<g id=\"edge5\" class=\"edge\">\n",
       "<title>2&#45;&gt;5</title>\n",
       "<path fill=\"none\" stroke=\"black\" d=\"M92.45,-100.71C95.12,-94.27 99.51,-83.69 103.22,-74.72\"/>\n",
       "<polygon fill=\"black\" stroke=\"black\" points=\"106.35,-76.32 106.95,-65.74 99.89,-73.64 106.35,-76.32\"/>\n",
       "</g>\n",
       "<!-- 8 -->\n",
       "<g id=\"node9\" class=\"node\">\n",
       "<title>8</title>\n",
       "<text text-anchor=\"middle\" x=\"172\" y=\"-51.2\" font-family=\"Times,serif\" font-size=\"14.00\">&lt;factor&gt;</text>\n",
       "</g>\n",
       "<!-- 7&#45;&gt;8 -->\n",
       "<g id=\"edge8\" class=\"edge\">\n",
       "<title>7&#45;&gt;8</title>\n",
       "<path fill=\"none\" stroke=\"black\" d=\"M189.55,-100.71C186.88,-94.27 182.49,-83.69 178.78,-74.72\"/>\n",
       "<polygon fill=\"black\" stroke=\"black\" points=\"182.11,-73.64 175.05,-65.74 175.65,-76.32 182.11,-73.64\"/>\n",
       "</g>\n",
       "<!-- 10 -->\n",
       "<g id=\"node11\" class=\"node\">\n",
       "<title>10</title>\n",
       "<text text-anchor=\"middle\" x=\"220\" y=\"-51.2\" font-family=\"Times,serif\" font-size=\"14.00\"> / </text>\n",
       "</g>\n",
       "<!-- 7&#45;&gt;10 -->\n",
       "<g id=\"edge10\" class=\"edge\">\n",
       "<title>7&#45;&gt;10</title>\n",
       "<path fill=\"none\" stroke=\"black\" d=\"M195.43,-100.71C199.25,-94.12 205.58,-83.22 210.86,-74.12\"/>\n",
       "<polygon fill=\"black\" stroke=\"black\" points=\"213.79,-76.05 215.78,-65.65 207.73,-72.54 213.79,-76.05\"/>\n",
       "</g>\n",
       "<!-- 11 -->\n",
       "<g id=\"node12\" class=\"node\">\n",
       "<title>11</title>\n",
       "<text text-anchor=\"middle\" x=\"265\" y=\"-51.2\" font-family=\"Times,serif\" font-size=\"14.00\">&lt;term&gt;</text>\n",
       "</g>\n",
       "<!-- 7&#45;&gt;11 -->\n",
       "<g id=\"edge11\" class=\"edge\">\n",
       "<title>7&#45;&gt;11</title>\n",
       "<path fill=\"none\" stroke=\"black\" d=\"M201.25,-100.51C212.61,-93 232.15,-80.09 246.62,-70.53\"/>\n",
       "<polygon fill=\"black\" stroke=\"black\" points=\"248.38,-73.55 254.8,-65.12 244.52,-67.71 248.38,-73.55\"/>\n",
       "</g>\n",
       "<!-- 9 -->\n",
       "<g id=\"node10\" class=\"node\">\n",
       "<title>9</title>\n",
       "<text text-anchor=\"middle\" x=\"172\" y=\"-0.95\" font-family=\"Times,serif\" font-size=\"14.00\">&lt;integer&gt;</text>\n",
       "</g>\n",
       "<!-- 8&#45;&gt;9 -->\n",
       "<g id=\"edge9\" class=\"edge\">\n",
       "<title>8&#45;&gt;9</title>\n",
       "<path fill=\"none\" stroke=\"black\" d=\"M172,-50.46C172,-44.24 172,-34.15 172,-25.39\"/>\n",
       "<polygon fill=\"black\" stroke=\"black\" points=\"175.5,-25.6 172,-15.6 168.5,-25.6 175.5,-25.6\"/>\n",
       "</g>\n",
       "<!-- 12 -->\n",
       "<g id=\"node13\" class=\"node\">\n",
       "<title>12</title>\n",
       "<text text-anchor=\"middle\" x=\"265\" y=\"-0.95\" font-family=\"Times,serif\" font-size=\"14.00\">&lt;factor&gt;</text>\n",
       "</g>\n",
       "<!-- 11&#45;&gt;12 -->\n",
       "<g id=\"edge12\" class=\"edge\">\n",
       "<title>11&#45;&gt;12</title>\n",
       "<path fill=\"none\" stroke=\"black\" d=\"M265,-50.46C265,-44.24 265,-34.15 265,-25.39\"/>\n",
       "<polygon fill=\"black\" stroke=\"black\" points=\"268.5,-25.6 265,-15.6 261.5,-25.6 268.5,-25.6\"/>\n",
       "</g>\n",
       "</g>\n",
       "</svg>\n"
      ],
      "text/plain": [
       "<graphviz.graphs.Digraph at 0x15d58c1c0>"
      ]
     },
     "execution_count": 97,
     "metadata": {},
     "output_type": "execute_result"
    }
   ],
   "source": [
    "if f.any_possible_expansions(derivation_tree):\n",
    "    derivation_tree = f.expand_tree_once(derivation_tree)\n",
    "display_tree(derivation_tree)"
   ]
  },
  {
   "cell_type": "code",
   "execution_count": 98,
   "metadata": {
    "execution": {
     "iopub.execute_input": "2024-06-29T16:13:19.559894Z",
     "iopub.status.busy": "2024-06-29T16:13:19.559755Z",
     "iopub.status.idle": "2024-06-29T16:13:19.561913Z",
     "shell.execute_reply": "2024-06-29T16:13:19.561462Z"
    },
    "slideshow": {
     "slide_type": "fragment"
    }
   },
   "outputs": [],
   "source": [
    "# docassert\n",
    "assert f.any_possible_expansions(derivation_tree)"
   ]
  },
  {
   "cell_type": "code",
   "execution_count": 99,
   "metadata": {
    "button": false,
    "execution": {
     "iopub.execute_input": "2024-06-29T16:13:19.563796Z",
     "iopub.status.busy": "2024-06-29T16:13:19.563651Z",
     "iopub.status.idle": "2024-06-29T16:13:19.971100Z",
     "shell.execute_reply": "2024-06-29T16:13:19.970675Z"
    },
    "new_sheet": false,
    "run_control": {
     "read_only": false
    },
    "slideshow": {
     "slide_type": "subslide"
    }
   },
   "outputs": [
    {
     "name": "stdout",
     "output_type": "stream",
     "text": [
      "Expanding <integer> at minimum cost\n"
     ]
    },
    {
     "data": {
      "image/svg+xml": [
       "<?xml version=\"1.0\" encoding=\"UTF-8\" standalone=\"no\"?>\n",
       "<!DOCTYPE svg PUBLIC \"-//W3C//DTD SVG 1.1//EN\"\n",
       " \"http://www.w3.org/Graphics/SVG/1.1/DTD/svg11.dtd\">\n",
       "<!-- Generated by graphviz version 11.0.0 (20240428.1522)\n",
       " -->\n",
       "<!-- Pages: 1 -->\n",
       "<svg width=\"297pt\" height=\"274pt\"\n",
       " viewBox=\"0.00 0.00 297.00 273.50\" xmlns=\"http://www.w3.org/2000/svg\" xmlns:xlink=\"http://www.w3.org/1999/xlink\">\n",
       "<g id=\"graph0\" class=\"graph\" transform=\"scale(1 1) rotate(0) translate(4 269.5)\">\n",
       "<polygon fill=\"white\" stroke=\"none\" points=\"-4,4 -4,-269.5 293,-269.5 293,4 -4,4\"/>\n",
       "<!-- 0 -->\n",
       "<g id=\"node1\" class=\"node\">\n",
       "<title>0</title>\n",
       "<text text-anchor=\"middle\" x=\"142\" y=\"-252.2\" font-family=\"Times,serif\" font-size=\"14.00\">&lt;start&gt;</text>\n",
       "</g>\n",
       "<!-- 1 -->\n",
       "<g id=\"node2\" class=\"node\">\n",
       "<title>1</title>\n",
       "<text text-anchor=\"middle\" x=\"142\" y=\"-201.95\" font-family=\"Times,serif\" font-size=\"14.00\">&lt;expr&gt;</text>\n",
       "</g>\n",
       "<!-- 0&#45;&gt;1 -->\n",
       "<g id=\"edge1\" class=\"edge\">\n",
       "<title>0&#45;&gt;1</title>\n",
       "<path fill=\"none\" stroke=\"black\" d=\"M142,-251.46C142,-245.24 142,-235.15 142,-226.39\"/>\n",
       "<polygon fill=\"black\" stroke=\"black\" points=\"145.5,-226.6 142,-216.6 138.5,-226.6 145.5,-226.6\"/>\n",
       "</g>\n",
       "<!-- 2 -->\n",
       "<g id=\"node3\" class=\"node\">\n",
       "<title>2</title>\n",
       "<text text-anchor=\"middle\" x=\"90\" y=\"-151.7\" font-family=\"Times,serif\" font-size=\"14.00\">&lt;expr&gt;</text>\n",
       "</g>\n",
       "<!-- 1&#45;&gt;2 -->\n",
       "<g id=\"edge2\" class=\"edge\">\n",
       "<title>1&#45;&gt;2</title>\n",
       "<path fill=\"none\" stroke=\"black\" d=\"M135.62,-201.21C127.98,-194.12 114.94,-182.01 104.75,-172.56\"/>\n",
       "<polygon fill=\"black\" stroke=\"black\" points=\"107.25,-170.11 97.54,-165.87 102.49,-175.24 107.25,-170.11\"/>\n",
       "</g>\n",
       "<!-- 6 -->\n",
       "<g id=\"node7\" class=\"node\">\n",
       "<title>6</title>\n",
       "<text text-anchor=\"middle\" x=\"142\" y=\"-151.7\" font-family=\"Times,serif\" font-size=\"14.00\"> + </text>\n",
       "</g>\n",
       "<!-- 1&#45;&gt;6 -->\n",
       "<g id=\"edge6\" class=\"edge\">\n",
       "<title>1&#45;&gt;6</title>\n",
       "<path fill=\"none\" stroke=\"black\" d=\"M142,-201.21C142,-194.99 142,-184.9 142,-176.14\"/>\n",
       "<polygon fill=\"black\" stroke=\"black\" points=\"145.5,-176.35 142,-166.35 138.5,-176.35 145.5,-176.35\"/>\n",
       "</g>\n",
       "<!-- 7 -->\n",
       "<g id=\"node8\" class=\"node\">\n",
       "<title>7</title>\n",
       "<text text-anchor=\"middle\" x=\"192\" y=\"-151.7\" font-family=\"Times,serif\" font-size=\"14.00\">&lt;term&gt;</text>\n",
       "</g>\n",
       "<!-- 1&#45;&gt;7 -->\n",
       "<g id=\"edge7\" class=\"edge\">\n",
       "<title>1&#45;&gt;7</title>\n",
       "<path fill=\"none\" stroke=\"black\" d=\"M148.13,-201.21C155.48,-194.12 168.02,-182.01 177.82,-172.56\"/>\n",
       "<polygon fill=\"black\" stroke=\"black\" points=\"179.96,-175.35 184.73,-165.89 175.1,-170.32 179.96,-175.35\"/>\n",
       "</g>\n",
       "<!-- 3 -->\n",
       "<g id=\"node4\" class=\"node\">\n",
       "<title>3</title>\n",
       "<text text-anchor=\"middle\" x=\"21\" y=\"-101.45\" font-family=\"Times,serif\" font-size=\"14.00\">&lt;term&gt;</text>\n",
       "</g>\n",
       "<!-- 2&#45;&gt;3 -->\n",
       "<g id=\"edge3\" class=\"edge\">\n",
       "<title>2&#45;&gt;3</title>\n",
       "<path fill=\"none\" stroke=\"black\" d=\"M81.26,-150.76C70.63,-143.33 52.41,-130.59 38.78,-121.06\"/>\n",
       "<polygon fill=\"black\" stroke=\"black\" points=\"40.89,-118.27 30.69,-115.4 36.88,-124 40.89,-118.27\"/>\n",
       "</g>\n",
       "<!-- 4 -->\n",
       "<g id=\"node5\" class=\"node\">\n",
       "<title>4</title>\n",
       "<text text-anchor=\"middle\" x=\"66\" y=\"-101.45\" font-family=\"Times,serif\" font-size=\"14.00\"> &#45; </text>\n",
       "</g>\n",
       "<!-- 2&#45;&gt;4 -->\n",
       "<g id=\"edge4\" class=\"edge\">\n",
       "<title>2&#45;&gt;4</title>\n",
       "<path fill=\"none\" stroke=\"black\" d=\"M87.06,-150.96C83.82,-144.45 78.48,-133.71 73.98,-124.67\"/>\n",
       "<polygon fill=\"black\" stroke=\"black\" points=\"77.23,-123.34 69.64,-115.94 70.96,-126.46 77.23,-123.34\"/>\n",
       "</g>\n",
       "<!-- 5 -->\n",
       "<g id=\"node6\" class=\"node\">\n",
       "<title>5</title>\n",
       "<text text-anchor=\"middle\" x=\"110\" y=\"-101.45\" font-family=\"Times,serif\" font-size=\"14.00\">&lt;expr&gt;</text>\n",
       "</g>\n",
       "<!-- 2&#45;&gt;5 -->\n",
       "<g id=\"edge5\" class=\"edge\">\n",
       "<title>2&#45;&gt;5</title>\n",
       "<path fill=\"none\" stroke=\"black\" d=\"M92.45,-150.96C95.12,-144.52 99.51,-133.94 103.22,-124.97\"/>\n",
       "<polygon fill=\"black\" stroke=\"black\" points=\"106.35,-126.57 106.95,-115.99 99.89,-123.89 106.35,-126.57\"/>\n",
       "</g>\n",
       "<!-- 8 -->\n",
       "<g id=\"node9\" class=\"node\">\n",
       "<title>8</title>\n",
       "<text text-anchor=\"middle\" x=\"172\" y=\"-101.45\" font-family=\"Times,serif\" font-size=\"14.00\">&lt;factor&gt;</text>\n",
       "</g>\n",
       "<!-- 7&#45;&gt;8 -->\n",
       "<g id=\"edge8\" class=\"edge\">\n",
       "<title>7&#45;&gt;8</title>\n",
       "<path fill=\"none\" stroke=\"black\" d=\"M189.55,-150.96C186.88,-144.52 182.49,-133.94 178.78,-124.97\"/>\n",
       "<polygon fill=\"black\" stroke=\"black\" points=\"182.11,-123.89 175.05,-115.99 175.65,-126.57 182.11,-123.89\"/>\n",
       "</g>\n",
       "<!-- 11 -->\n",
       "<g id=\"node12\" class=\"node\">\n",
       "<title>11</title>\n",
       "<text text-anchor=\"middle\" x=\"220\" y=\"-101.45\" font-family=\"Times,serif\" font-size=\"14.00\"> / </text>\n",
       "</g>\n",
       "<!-- 7&#45;&gt;11 -->\n",
       "<g id=\"edge11\" class=\"edge\">\n",
       "<title>7&#45;&gt;11</title>\n",
       "<path fill=\"none\" stroke=\"black\" d=\"M195.43,-150.96C199.25,-144.37 205.58,-133.47 210.86,-124.37\"/>\n",
       "<polygon fill=\"black\" stroke=\"black\" points=\"213.79,-126.3 215.78,-115.9 207.73,-122.79 213.79,-126.3\"/>\n",
       "</g>\n",
       "<!-- 12 -->\n",
       "<g id=\"node13\" class=\"node\">\n",
       "<title>12</title>\n",
       "<text text-anchor=\"middle\" x=\"265\" y=\"-101.45\" font-family=\"Times,serif\" font-size=\"14.00\">&lt;term&gt;</text>\n",
       "</g>\n",
       "<!-- 7&#45;&gt;12 -->\n",
       "<g id=\"edge12\" class=\"edge\">\n",
       "<title>7&#45;&gt;12</title>\n",
       "<path fill=\"none\" stroke=\"black\" d=\"M201.25,-150.76C212.61,-143.25 232.15,-130.34 246.62,-120.78\"/>\n",
       "<polygon fill=\"black\" stroke=\"black\" points=\"248.38,-123.8 254.8,-115.37 244.52,-117.96 248.38,-123.8\"/>\n",
       "</g>\n",
       "<!-- 9 -->\n",
       "<g id=\"node10\" class=\"node\">\n",
       "<title>9</title>\n",
       "<text text-anchor=\"middle\" x=\"172\" y=\"-51.2\" font-family=\"Times,serif\" font-size=\"14.00\">&lt;integer&gt;</text>\n",
       "</g>\n",
       "<!-- 8&#45;&gt;9 -->\n",
       "<g id=\"edge9\" class=\"edge\">\n",
       "<title>8&#45;&gt;9</title>\n",
       "<path fill=\"none\" stroke=\"black\" d=\"M172,-100.71C172,-94.49 172,-84.4 172,-75.64\"/>\n",
       "<polygon fill=\"black\" stroke=\"black\" points=\"175.5,-75.85 172,-65.85 168.5,-75.85 175.5,-75.85\"/>\n",
       "</g>\n",
       "<!-- 10 -->\n",
       "<g id=\"node11\" class=\"node\">\n",
       "<title>10</title>\n",
       "<text text-anchor=\"middle\" x=\"172\" y=\"-0.95\" font-family=\"Times,serif\" font-size=\"14.00\">&lt;digit&gt;</text>\n",
       "</g>\n",
       "<!-- 9&#45;&gt;10 -->\n",
       "<g id=\"edge10\" class=\"edge\">\n",
       "<title>9&#45;&gt;10</title>\n",
       "<path fill=\"none\" stroke=\"black\" d=\"M172,-50.46C172,-44.24 172,-34.15 172,-25.39\"/>\n",
       "<polygon fill=\"black\" stroke=\"black\" points=\"175.5,-25.6 172,-15.6 168.5,-25.6 175.5,-25.6\"/>\n",
       "</g>\n",
       "<!-- 13 -->\n",
       "<g id=\"node14\" class=\"node\">\n",
       "<title>13</title>\n",
       "<text text-anchor=\"middle\" x=\"265\" y=\"-51.2\" font-family=\"Times,serif\" font-size=\"14.00\">&lt;factor&gt;</text>\n",
       "</g>\n",
       "<!-- 12&#45;&gt;13 -->\n",
       "<g id=\"edge13\" class=\"edge\">\n",
       "<title>12&#45;&gt;13</title>\n",
       "<path fill=\"none\" stroke=\"black\" d=\"M265,-100.71C265,-94.49 265,-84.4 265,-75.64\"/>\n",
       "<polygon fill=\"black\" stroke=\"black\" points=\"268.5,-75.85 265,-65.85 261.5,-75.85 268.5,-75.85\"/>\n",
       "</g>\n",
       "</g>\n",
       "</svg>\n"
      ],
      "text/plain": [
       "<graphviz.graphs.Digraph at 0x15d58ea40>"
      ]
     },
     "execution_count": 99,
     "metadata": {},
     "output_type": "execute_result"
    }
   ],
   "source": [
    "if f.any_possible_expansions(derivation_tree):\n",
    "    derivation_tree = f.expand_tree_once(derivation_tree)\n",
    "display_tree(derivation_tree)"
   ]
  },
  {
   "cell_type": "markdown",
   "metadata": {
    "slideshow": {
     "slide_type": "subslide"
    }
   },
   "source": [
    "We keep on expanding until all nonterminals are expanded."
   ]
  },
  {
   "cell_type": "code",
   "execution_count": 100,
   "metadata": {
    "button": false,
    "execution": {
     "iopub.execute_input": "2024-06-29T16:13:19.973252Z",
     "iopub.status.busy": "2024-06-29T16:13:19.973092Z",
     "iopub.status.idle": "2024-06-29T16:13:19.977283Z",
     "shell.execute_reply": "2024-06-29T16:13:19.976844Z"
    },
    "new_sheet": false,
    "run_control": {
     "read_only": false
    },
    "slideshow": {
     "slide_type": "fragment"
    }
   },
   "outputs": [
    {
     "name": "stdout",
     "output_type": "stream",
     "text": [
      "Expanding <expr> at minimum cost\n",
      "Expanding <digit> at minimum cost\n",
      "Expanding <term> at minimum cost\n",
      "Expanding <factor> at minimum cost\n",
      "Expanding <factor> at minimum cost\n",
      "Expanding <term> at minimum cost\n",
      "Expanding <integer> at minimum cost\n",
      "Expanding <digit> at minimum cost\n",
      "Expanding <integer> at minimum cost\n",
      "Expanding <factor> at minimum cost\n",
      "Expanding <integer> at minimum cost\n",
      "Expanding <digit> at minimum cost\n",
      "Expanding <digit> at minimum cost\n"
     ]
    }
   ],
   "source": [
    "while f.any_possible_expansions(derivation_tree):\n",
    "    derivation_tree = f.expand_tree_once(derivation_tree)    "
   ]
  },
  {
   "cell_type": "markdown",
   "metadata": {
    "slideshow": {
     "slide_type": "subslide"
    }
   },
   "source": [
    "Here is the final tree:"
   ]
  },
  {
   "cell_type": "code",
   "execution_count": 101,
   "metadata": {
    "button": false,
    "execution": {
     "iopub.execute_input": "2024-06-29T16:13:19.979113Z",
     "iopub.status.busy": "2024-06-29T16:13:19.979005Z",
     "iopub.status.idle": "2024-06-29T16:13:20.393609Z",
     "shell.execute_reply": "2024-06-29T16:13:20.393195Z"
    },
    "new_sheet": false,
    "run_control": {
     "read_only": false
    },
    "slideshow": {
     "slide_type": "fragment"
    }
   },
   "outputs": [
    {
     "data": {
      "image/svg+xml": [
       "<?xml version=\"1.0\" encoding=\"UTF-8\" standalone=\"no\"?>\n",
       "<!DOCTYPE svg PUBLIC \"-//W3C//DTD SVG 1.1//EN\"\n",
       " \"http://www.w3.org/Graphics/SVG/1.1/DTD/svg11.dtd\">\n",
       "<!-- Generated by graphviz version 11.0.0 (20240428.1522)\n",
       " -->\n",
       "<!-- Pages: 1 -->\n",
       "<svg width=\"308pt\" height=\"424pt\"\n",
       " viewBox=\"0.00 0.00 308.00 424.25\" xmlns=\"http://www.w3.org/2000/svg\" xmlns:xlink=\"http://www.w3.org/1999/xlink\">\n",
       "<g id=\"graph0\" class=\"graph\" transform=\"scale(1 1) rotate(0) translate(4 420.25)\">\n",
       "<polygon fill=\"white\" stroke=\"none\" points=\"-4,4 -4,-420.25 304,-420.25 304,4 -4,4\"/>\n",
       "<!-- 0 -->\n",
       "<g id=\"node1\" class=\"node\">\n",
       "<title>0</title>\n",
       "<text text-anchor=\"middle\" x=\"149\" y=\"-402.95\" font-family=\"Times,serif\" font-size=\"14.00\">&lt;start&gt;</text>\n",
       "</g>\n",
       "<!-- 1 -->\n",
       "<g id=\"node2\" class=\"node\">\n",
       "<title>1</title>\n",
       "<text text-anchor=\"middle\" x=\"149\" y=\"-352.7\" font-family=\"Times,serif\" font-size=\"14.00\">&lt;expr&gt;</text>\n",
       "</g>\n",
       "<!-- 0&#45;&gt;1 -->\n",
       "<g id=\"edge1\" class=\"edge\">\n",
       "<title>0&#45;&gt;1</title>\n",
       "<path fill=\"none\" stroke=\"black\" d=\"M149,-402.21C149,-395.99 149,-385.9 149,-377.14\"/>\n",
       "<polygon fill=\"black\" stroke=\"black\" points=\"152.5,-377.35 149,-367.35 145.5,-377.35 152.5,-377.35\"/>\n",
       "</g>\n",
       "<!-- 2 -->\n",
       "<g id=\"node3\" class=\"node\">\n",
       "<title>2</title>\n",
       "<text text-anchor=\"middle\" x=\"97\" y=\"-302.45\" font-family=\"Times,serif\" font-size=\"14.00\">&lt;expr&gt;</text>\n",
       "</g>\n",
       "<!-- 1&#45;&gt;2 -->\n",
       "<g id=\"edge2\" class=\"edge\">\n",
       "<title>1&#45;&gt;2</title>\n",
       "<path fill=\"none\" stroke=\"black\" d=\"M142.62,-351.96C134.98,-344.87 121.94,-332.76 111.75,-323.31\"/>\n",
       "<polygon fill=\"black\" stroke=\"black\" points=\"114.25,-320.86 104.54,-316.62 109.49,-325.99 114.25,-320.86\"/>\n",
       "</g>\n",
       "<!-- 15 -->\n",
       "<g id=\"node16\" class=\"node\">\n",
       "<title>15</title>\n",
       "<text text-anchor=\"middle\" x=\"149\" y=\"-302.45\" font-family=\"Times,serif\" font-size=\"14.00\"> + </text>\n",
       "</g>\n",
       "<!-- 1&#45;&gt;15 -->\n",
       "<g id=\"edge15\" class=\"edge\">\n",
       "<title>1&#45;&gt;15</title>\n",
       "<path fill=\"none\" stroke=\"black\" d=\"M149,-351.96C149,-345.74 149,-335.65 149,-326.89\"/>\n",
       "<polygon fill=\"black\" stroke=\"black\" points=\"152.5,-327.1 149,-317.1 145.5,-327.1 152.5,-327.1\"/>\n",
       "</g>\n",
       "<!-- 16 -->\n",
       "<g id=\"node17\" class=\"node\">\n",
       "<title>16</title>\n",
       "<text text-anchor=\"middle\" x=\"199\" y=\"-302.45\" font-family=\"Times,serif\" font-size=\"14.00\">&lt;term&gt;</text>\n",
       "</g>\n",
       "<!-- 1&#45;&gt;16 -->\n",
       "<g id=\"edge16\" class=\"edge\">\n",
       "<title>1&#45;&gt;16</title>\n",
       "<path fill=\"none\" stroke=\"black\" d=\"M155.13,-351.96C162.48,-344.87 175.02,-332.76 184.82,-323.31\"/>\n",
       "<polygon fill=\"black\" stroke=\"black\" points=\"186.96,-326.1 191.73,-316.64 182.1,-321.07 186.96,-326.1\"/>\n",
       "</g>\n",
       "<!-- 3 -->\n",
       "<g id=\"node4\" class=\"node\">\n",
       "<title>3</title>\n",
       "<text text-anchor=\"middle\" x=\"27\" y=\"-252.2\" font-family=\"Times,serif\" font-size=\"14.00\">&lt;term&gt;</text>\n",
       "</g>\n",
       "<!-- 2&#45;&gt;3 -->\n",
       "<g id=\"edge3\" class=\"edge\">\n",
       "<title>2&#45;&gt;3</title>\n",
       "<path fill=\"none\" stroke=\"black\" d=\"M88.13,-301.51C77.35,-294.08 58.86,-281.34 45.03,-271.81\"/>\n",
       "<polygon fill=\"black\" stroke=\"black\" points=\"47.04,-268.94 36.82,-266.14 43.07,-274.7 47.04,-268.94\"/>\n",
       "</g>\n",
       "<!-- 8 -->\n",
       "<g id=\"node9\" class=\"node\">\n",
       "<title>8</title>\n",
       "<text text-anchor=\"middle\" x=\"72\" y=\"-252.2\" font-family=\"Times,serif\" font-size=\"14.00\"> &#45; </text>\n",
       "</g>\n",
       "<!-- 2&#45;&gt;8 -->\n",
       "<g id=\"edge8\" class=\"edge\">\n",
       "<title>2&#45;&gt;8</title>\n",
       "<path fill=\"none\" stroke=\"black\" d=\"M93.93,-301.71C90.56,-295.2 84.99,-284.46 80.31,-275.42\"/>\n",
       "<polygon fill=\"black\" stroke=\"black\" points=\"83.5,-273.95 75.79,-266.68 77.28,-277.17 83.5,-273.95\"/>\n",
       "</g>\n",
       "<!-- 9 -->\n",
       "<g id=\"node10\" class=\"node\">\n",
       "<title>9</title>\n",
       "<text text-anchor=\"middle\" x=\"116\" y=\"-252.2\" font-family=\"Times,serif\" font-size=\"14.00\">&lt;expr&gt;</text>\n",
       "</g>\n",
       "<!-- 2&#45;&gt;9 -->\n",
       "<g id=\"edge9\" class=\"edge\">\n",
       "<title>2&#45;&gt;9</title>\n",
       "<path fill=\"none\" stroke=\"black\" d=\"M99.33,-301.71C101.84,-295.34 105.94,-284.93 109.44,-276.03\"/>\n",
       "<polygon fill=\"black\" stroke=\"black\" points=\"112.69,-277.34 113.1,-266.75 106.18,-274.77 112.69,-277.34\"/>\n",
       "</g>\n",
       "<!-- 4 -->\n",
       "<g id=\"node5\" class=\"node\">\n",
       "<title>4</title>\n",
       "<text text-anchor=\"middle\" x=\"27\" y=\"-201.95\" font-family=\"Times,serif\" font-size=\"14.00\">&lt;factor&gt;</text>\n",
       "</g>\n",
       "<!-- 3&#45;&gt;4 -->\n",
       "<g id=\"edge4\" class=\"edge\">\n",
       "<title>3&#45;&gt;4</title>\n",
       "<path fill=\"none\" stroke=\"black\" d=\"M27,-251.46C27,-245.24 27,-235.15 27,-226.39\"/>\n",
       "<polygon fill=\"black\" stroke=\"black\" points=\"30.5,-226.6 27,-216.6 23.5,-226.6 30.5,-226.6\"/>\n",
       "</g>\n",
       "<!-- 5 -->\n",
       "<g id=\"node6\" class=\"node\">\n",
       "<title>5</title>\n",
       "<text text-anchor=\"middle\" x=\"27\" y=\"-151.7\" font-family=\"Times,serif\" font-size=\"14.00\">&lt;integer&gt;</text>\n",
       "</g>\n",
       "<!-- 4&#45;&gt;5 -->\n",
       "<g id=\"edge5\" class=\"edge\">\n",
       "<title>4&#45;&gt;5</title>\n",
       "<path fill=\"none\" stroke=\"black\" d=\"M27,-201.21C27,-194.99 27,-184.9 27,-176.14\"/>\n",
       "<polygon fill=\"black\" stroke=\"black\" points=\"30.5,-176.35 27,-166.35 23.5,-176.35 30.5,-176.35\"/>\n",
       "</g>\n",
       "<!-- 6 -->\n",
       "<g id=\"node7\" class=\"node\">\n",
       "<title>6</title>\n",
       "<text text-anchor=\"middle\" x=\"27\" y=\"-101.45\" font-family=\"Times,serif\" font-size=\"14.00\">&lt;digit&gt;</text>\n",
       "</g>\n",
       "<!-- 5&#45;&gt;6 -->\n",
       "<g id=\"edge6\" class=\"edge\">\n",
       "<title>5&#45;&gt;6</title>\n",
       "<path fill=\"none\" stroke=\"black\" d=\"M27,-150.96C27,-144.74 27,-134.65 27,-125.89\"/>\n",
       "<polygon fill=\"black\" stroke=\"black\" points=\"30.5,-126.1 27,-116.1 23.5,-126.1 30.5,-126.1\"/>\n",
       "</g>\n",
       "<!-- 7 -->\n",
       "<g id=\"node8\" class=\"node\">\n",
       "<title>7</title>\n",
       "<text text-anchor=\"middle\" x=\"27\" y=\"-51.2\" font-family=\"Times,serif\" font-size=\"14.00\">2 (50)</text>\n",
       "</g>\n",
       "<!-- 6&#45;&gt;7 -->\n",
       "<g id=\"edge7\" class=\"edge\">\n",
       "<title>6&#45;&gt;7</title>\n",
       "<path fill=\"none\" stroke=\"black\" d=\"M27,-100.71C27,-94.49 27,-84.4 27,-75.64\"/>\n",
       "<polygon fill=\"black\" stroke=\"black\" points=\"30.5,-75.85 27,-65.85 23.5,-75.85 30.5,-75.85\"/>\n",
       "</g>\n",
       "<!-- 10 -->\n",
       "<g id=\"node11\" class=\"node\">\n",
       "<title>10</title>\n",
       "<text text-anchor=\"middle\" x=\"115\" y=\"-201.95\" font-family=\"Times,serif\" font-size=\"14.00\">&lt;term&gt;</text>\n",
       "</g>\n",
       "<!-- 9&#45;&gt;10 -->\n",
       "<g id=\"edge10\" class=\"edge\">\n",
       "<title>9&#45;&gt;10</title>\n",
       "<path fill=\"none\" stroke=\"black\" d=\"M115.88,-251.46C115.75,-245.24 115.54,-235.15 115.36,-226.39\"/>\n",
       "<polygon fill=\"black\" stroke=\"black\" points=\"118.86,-226.53 115.15,-216.6 111.86,-226.67 118.86,-226.53\"/>\n",
       "</g>\n",
       "<!-- 11 -->\n",
       "<g id=\"node12\" class=\"node\">\n",
       "<title>11</title>\n",
       "<text text-anchor=\"middle\" x=\"115\" y=\"-151.7\" font-family=\"Times,serif\" font-size=\"14.00\">&lt;factor&gt;</text>\n",
       "</g>\n",
       "<!-- 10&#45;&gt;11 -->\n",
       "<g id=\"edge11\" class=\"edge\">\n",
       "<title>10&#45;&gt;11</title>\n",
       "<path fill=\"none\" stroke=\"black\" d=\"M115,-201.21C115,-194.99 115,-184.9 115,-176.14\"/>\n",
       "<polygon fill=\"black\" stroke=\"black\" points=\"118.5,-176.35 115,-166.35 111.5,-176.35 118.5,-176.35\"/>\n",
       "</g>\n",
       "<!-- 12 -->\n",
       "<g id=\"node13\" class=\"node\">\n",
       "<title>12</title>\n",
       "<text text-anchor=\"middle\" x=\"115\" y=\"-101.45\" font-family=\"Times,serif\" font-size=\"14.00\">&lt;integer&gt;</text>\n",
       "</g>\n",
       "<!-- 11&#45;&gt;12 -->\n",
       "<g id=\"edge12\" class=\"edge\">\n",
       "<title>11&#45;&gt;12</title>\n",
       "<path fill=\"none\" stroke=\"black\" d=\"M115,-150.96C115,-144.74 115,-134.65 115,-125.89\"/>\n",
       "<polygon fill=\"black\" stroke=\"black\" points=\"118.5,-126.1 115,-116.1 111.5,-126.1 118.5,-126.1\"/>\n",
       "</g>\n",
       "<!-- 13 -->\n",
       "<g id=\"node14\" class=\"node\">\n",
       "<title>13</title>\n",
       "<text text-anchor=\"middle\" x=\"115\" y=\"-51.2\" font-family=\"Times,serif\" font-size=\"14.00\">&lt;digit&gt;</text>\n",
       "</g>\n",
       "<!-- 12&#45;&gt;13 -->\n",
       "<g id=\"edge13\" class=\"edge\">\n",
       "<title>12&#45;&gt;13</title>\n",
       "<path fill=\"none\" stroke=\"black\" d=\"M115,-100.71C115,-94.49 115,-84.4 115,-75.64\"/>\n",
       "<polygon fill=\"black\" stroke=\"black\" points=\"118.5,-75.85 115,-65.85 111.5,-75.85 118.5,-75.85\"/>\n",
       "</g>\n",
       "<!-- 14 -->\n",
       "<g id=\"node15\" class=\"node\">\n",
       "<title>14</title>\n",
       "<text text-anchor=\"middle\" x=\"115\" y=\"-0.95\" font-family=\"Times,serif\" font-size=\"14.00\">4 (52)</text>\n",
       "</g>\n",
       "<!-- 13&#45;&gt;14 -->\n",
       "<g id=\"edge14\" class=\"edge\">\n",
       "<title>13&#45;&gt;14</title>\n",
       "<path fill=\"none\" stroke=\"black\" d=\"M115,-50.46C115,-44.24 115,-34.15 115,-25.39\"/>\n",
       "<polygon fill=\"black\" stroke=\"black\" points=\"118.5,-25.6 115,-15.6 111.5,-25.6 118.5,-25.6\"/>\n",
       "</g>\n",
       "<!-- 17 -->\n",
       "<g id=\"node18\" class=\"node\">\n",
       "<title>17</title>\n",
       "<text text-anchor=\"middle\" x=\"180\" y=\"-252.2\" font-family=\"Times,serif\" font-size=\"14.00\">&lt;factor&gt;</text>\n",
       "</g>\n",
       "<!-- 16&#45;&gt;17 -->\n",
       "<g id=\"edge17\" class=\"edge\">\n",
       "<title>16&#45;&gt;17</title>\n",
       "<path fill=\"none\" stroke=\"black\" d=\"M196.67,-301.71C194.16,-295.34 190.06,-284.93 186.56,-276.03\"/>\n",
       "<polygon fill=\"black\" stroke=\"black\" points=\"189.82,-274.77 182.9,-266.75 183.31,-277.34 189.82,-274.77\"/>\n",
       "</g>\n",
       "<!-- 21 -->\n",
       "<g id=\"node22\" class=\"node\">\n",
       "<title>21</title>\n",
       "<text text-anchor=\"middle\" x=\"228\" y=\"-252.2\" font-family=\"Times,serif\" font-size=\"14.00\"> / </text>\n",
       "</g>\n",
       "<!-- 16&#45;&gt;21 -->\n",
       "<g id=\"edge21\" class=\"edge\">\n",
       "<title>16&#45;&gt;21</title>\n",
       "<path fill=\"none\" stroke=\"black\" d=\"M202.56,-301.71C206.51,-295.12 213.07,-284.22 218.54,-275.12\"/>\n",
       "<polygon fill=\"black\" stroke=\"black\" points=\"221.48,-277.01 223.64,-266.64 215.48,-273.41 221.48,-277.01\"/>\n",
       "</g>\n",
       "<!-- 22 -->\n",
       "<g id=\"node23\" class=\"node\">\n",
       "<title>22</title>\n",
       "<text text-anchor=\"middle\" x=\"273\" y=\"-252.2\" font-family=\"Times,serif\" font-size=\"14.00\">&lt;term&gt;</text>\n",
       "</g>\n",
       "<!-- 16&#45;&gt;22 -->\n",
       "<g id=\"edge22\" class=\"edge\">\n",
       "<title>16&#45;&gt;22</title>\n",
       "<path fill=\"none\" stroke=\"black\" d=\"M208.37,-301.51C219.89,-294 239.7,-281.09 254.36,-271.53\"/>\n",
       "<polygon fill=\"black\" stroke=\"black\" points=\"256.2,-274.51 262.67,-266.11 252.38,-268.64 256.2,-274.51\"/>\n",
       "</g>\n",
       "<!-- 18 -->\n",
       "<g id=\"node19\" class=\"node\">\n",
       "<title>18</title>\n",
       "<text text-anchor=\"middle\" x=\"181\" y=\"-201.95\" font-family=\"Times,serif\" font-size=\"14.00\">&lt;integer&gt;</text>\n",
       "</g>\n",
       "<!-- 17&#45;&gt;18 -->\n",
       "<g id=\"edge18\" class=\"edge\">\n",
       "<title>17&#45;&gt;18</title>\n",
       "<path fill=\"none\" stroke=\"black\" d=\"M180.12,-251.46C180.25,-245.24 180.46,-235.15 180.64,-226.39\"/>\n",
       "<polygon fill=\"black\" stroke=\"black\" points=\"184.14,-226.67 180.85,-216.6 177.14,-226.53 184.14,-226.67\"/>\n",
       "</g>\n",
       "<!-- 19 -->\n",
       "<g id=\"node20\" class=\"node\">\n",
       "<title>19</title>\n",
       "<text text-anchor=\"middle\" x=\"181\" y=\"-151.7\" font-family=\"Times,serif\" font-size=\"14.00\">&lt;digit&gt;</text>\n",
       "</g>\n",
       "<!-- 18&#45;&gt;19 -->\n",
       "<g id=\"edge19\" class=\"edge\">\n",
       "<title>18&#45;&gt;19</title>\n",
       "<path fill=\"none\" stroke=\"black\" d=\"M181,-201.21C181,-194.99 181,-184.9 181,-176.14\"/>\n",
       "<polygon fill=\"black\" stroke=\"black\" points=\"184.5,-176.35 181,-166.35 177.5,-176.35 184.5,-176.35\"/>\n",
       "</g>\n",
       "<!-- 20 -->\n",
       "<g id=\"node21\" class=\"node\">\n",
       "<title>20</title>\n",
       "<text text-anchor=\"middle\" x=\"181\" y=\"-101.45\" font-family=\"Times,serif\" font-size=\"14.00\">5 (53)</text>\n",
       "</g>\n",
       "<!-- 19&#45;&gt;20 -->\n",
       "<g id=\"edge20\" class=\"edge\">\n",
       "<title>19&#45;&gt;20</title>\n",
       "<path fill=\"none\" stroke=\"black\" d=\"M181,-150.96C181,-144.74 181,-134.65 181,-125.89\"/>\n",
       "<polygon fill=\"black\" stroke=\"black\" points=\"184.5,-126.1 181,-116.1 177.5,-126.1 184.5,-126.1\"/>\n",
       "</g>\n",
       "<!-- 23 -->\n",
       "<g id=\"node24\" class=\"node\">\n",
       "<title>23</title>\n",
       "<text text-anchor=\"middle\" x=\"273\" y=\"-201.95\" font-family=\"Times,serif\" font-size=\"14.00\">&lt;factor&gt;</text>\n",
       "</g>\n",
       "<!-- 22&#45;&gt;23 -->\n",
       "<g id=\"edge23\" class=\"edge\">\n",
       "<title>22&#45;&gt;23</title>\n",
       "<path fill=\"none\" stroke=\"black\" d=\"M273,-251.46C273,-245.24 273,-235.15 273,-226.39\"/>\n",
       "<polygon fill=\"black\" stroke=\"black\" points=\"276.5,-226.6 273,-216.6 269.5,-226.6 276.5,-226.6\"/>\n",
       "</g>\n",
       "<!-- 24 -->\n",
       "<g id=\"node25\" class=\"node\">\n",
       "<title>24</title>\n",
       "<text text-anchor=\"middle\" x=\"273\" y=\"-151.7\" font-family=\"Times,serif\" font-size=\"14.00\">&lt;integer&gt;</text>\n",
       "</g>\n",
       "<!-- 23&#45;&gt;24 -->\n",
       "<g id=\"edge24\" class=\"edge\">\n",
       "<title>23&#45;&gt;24</title>\n",
       "<path fill=\"none\" stroke=\"black\" d=\"M273,-201.21C273,-194.99 273,-184.9 273,-176.14\"/>\n",
       "<polygon fill=\"black\" stroke=\"black\" points=\"276.5,-176.35 273,-166.35 269.5,-176.35 276.5,-176.35\"/>\n",
       "</g>\n",
       "<!-- 25 -->\n",
       "<g id=\"node26\" class=\"node\">\n",
       "<title>25</title>\n",
       "<text text-anchor=\"middle\" x=\"273\" y=\"-101.45\" font-family=\"Times,serif\" font-size=\"14.00\">&lt;digit&gt;</text>\n",
       "</g>\n",
       "<!-- 24&#45;&gt;25 -->\n",
       "<g id=\"edge25\" class=\"edge\">\n",
       "<title>24&#45;&gt;25</title>\n",
       "<path fill=\"none\" stroke=\"black\" d=\"M273,-150.96C273,-144.74 273,-134.65 273,-125.89\"/>\n",
       "<polygon fill=\"black\" stroke=\"black\" points=\"276.5,-126.1 273,-116.1 269.5,-126.1 276.5,-126.1\"/>\n",
       "</g>\n",
       "<!-- 26 -->\n",
       "<g id=\"node27\" class=\"node\">\n",
       "<title>26</title>\n",
       "<text text-anchor=\"middle\" x=\"273\" y=\"-51.2\" font-family=\"Times,serif\" font-size=\"14.00\">1 (49)</text>\n",
       "</g>\n",
       "<!-- 25&#45;&gt;26 -->\n",
       "<g id=\"edge26\" class=\"edge\">\n",
       "<title>25&#45;&gt;26</title>\n",
       "<path fill=\"none\" stroke=\"black\" d=\"M273,-100.71C273,-94.49 273,-84.4 273,-75.64\"/>\n",
       "<polygon fill=\"black\" stroke=\"black\" points=\"276.5,-75.85 273,-65.85 269.5,-75.85 276.5,-75.85\"/>\n",
       "</g>\n",
       "</g>\n",
       "</svg>\n"
      ],
      "text/plain": [
       "<graphviz.graphs.Digraph at 0x15d56f220>"
      ]
     },
     "execution_count": 101,
     "metadata": {},
     "output_type": "execute_result"
    }
   ],
   "source": [
    "display_tree(derivation_tree)"
   ]
  },
  {
   "cell_type": "markdown",
   "metadata": {
    "button": false,
    "new_sheet": false,
    "run_control": {
     "read_only": false
    },
    "slideshow": {
     "slide_type": "subslide"
    }
   },
   "source": [
    "We see that in each step, `expand_node_min_cost()` chooses an expansion that does not increase the number of symbols, eventually closing all open expansions."
   ]
  },
  {
   "cell_type": "markdown",
   "metadata": {
    "slideshow": {
     "slide_type": "slide"
    }
   },
   "source": [
    "## Node Inflation\n",
    "\n",
    "Especially at the beginning of an expansion, we may be interested in getting _as many nodes as possible_ – that is, we'd like to prefer expansions that give us _more_ nonterminals to expand.  This is actually the exact opposite of what `expand_node_min_cost()` gives us, and we can implement a method `expand_node_max_cost()` that will always choose among the nodes with the _highest_ cost:"
   ]
  },
  {
   "cell_type": "code",
   "execution_count": 102,
   "metadata": {
    "button": false,
    "execution": {
     "iopub.execute_input": "2024-06-29T16:13:20.395527Z",
     "iopub.status.busy": "2024-06-29T16:13:20.395397Z",
     "iopub.status.idle": "2024-06-29T16:13:20.397742Z",
     "shell.execute_reply": "2024-06-29T16:13:20.397424Z"
    },
    "new_sheet": false,
    "run_control": {
     "read_only": false
    },
    "slideshow": {
     "slide_type": "fragment"
    }
   },
   "outputs": [],
   "source": [
    "class GrammarFuzzer(GrammarFuzzer):\n",
    "    def expand_node_max_cost(self, node: DerivationTree) -> DerivationTree:\n",
    "        if self.log:\n",
    "            print(\"Expanding\", all_terminals(node), \"at maximum cost\")\n",
    "\n",
    "        return self.expand_node_by_cost(node, max)"
   ]
  },
  {
   "cell_type": "markdown",
   "metadata": {
    "slideshow": {
     "slide_type": "subslide"
    }
   },
   "source": [
    "To illustrate `expand_node_max_cost()`, we can again redefine `expand_node()` to use it, and then use `expand_tree_once()` to show a few expansion steps:"
   ]
  },
  {
   "cell_type": "code",
   "execution_count": 103,
   "metadata": {
    "button": false,
    "execution": {
     "iopub.execute_input": "2024-06-29T16:13:20.399428Z",
     "iopub.status.busy": "2024-06-29T16:13:20.399296Z",
     "iopub.status.idle": "2024-06-29T16:13:20.401320Z",
     "shell.execute_reply": "2024-06-29T16:13:20.401035Z"
    },
    "new_sheet": false,
    "run_control": {
     "read_only": false
    },
    "slideshow": {
     "slide_type": "fragment"
    }
   },
   "outputs": [],
   "source": [
    "class GrammarFuzzer(GrammarFuzzer):\n",
    "    def expand_node(self, node: DerivationTree) -> DerivationTree:\n",
    "        return self.expand_node_max_cost(node)"
   ]
  },
  {
   "cell_type": "code",
   "execution_count": 104,
   "metadata": {
    "button": false,
    "execution": {
     "iopub.execute_input": "2024-06-29T16:13:20.402925Z",
     "iopub.status.busy": "2024-06-29T16:13:20.402809Z",
     "iopub.status.idle": "2024-06-29T16:13:20.404638Z",
     "shell.execute_reply": "2024-06-29T16:13:20.404366Z"
    },
    "new_sheet": false,
    "run_control": {
     "read_only": false
    },
    "slideshow": {
     "slide_type": "subslide"
    }
   },
   "outputs": [],
   "source": [
    "derivation_tree = (\"<start>\",\n",
    "                   [(\"<expr>\",\n",
    "                     [(\"<expr>\", None),\n",
    "                      (\" + \", []),\n",
    "                         (\"<term>\", None)]\n",
    "                     )])"
   ]
  },
  {
   "cell_type": "code",
   "execution_count": 105,
   "metadata": {
    "button": false,
    "execution": {
     "iopub.execute_input": "2024-06-29T16:13:20.406150Z",
     "iopub.status.busy": "2024-06-29T16:13:20.406038Z",
     "iopub.status.idle": "2024-06-29T16:13:20.829017Z",
     "shell.execute_reply": "2024-06-29T16:13:20.828530Z"
    },
    "new_sheet": false,
    "run_control": {
     "read_only": false
    },
    "slideshow": {
     "slide_type": "fragment"
    }
   },
   "outputs": [
    {
     "data": {
      "image/svg+xml": [
       "<?xml version=\"1.0\" encoding=\"UTF-8\" standalone=\"no\"?>\n",
       "<!DOCTYPE svg PUBLIC \"-//W3C//DTD SVG 1.1//EN\"\n",
       " \"http://www.w3.org/Graphics/SVG/1.1/DTD/svg11.dtd\">\n",
       "<!-- Generated by graphviz version 11.0.0 (20240428.1522)\n",
       " -->\n",
       "<!-- Pages: 1 -->\n",
       "<svg width=\"142pt\" height=\"123pt\"\n",
       " viewBox=\"0.00 0.00 142.25 122.75\" xmlns=\"http://www.w3.org/2000/svg\" xmlns:xlink=\"http://www.w3.org/1999/xlink\">\n",
       "<g id=\"graph0\" class=\"graph\" transform=\"scale(1 1) rotate(0) translate(4 118.75)\">\n",
       "<polygon fill=\"white\" stroke=\"none\" points=\"-4,4 -4,-118.75 138.25,-118.75 138.25,4 -4,4\"/>\n",
       "<!-- 0 -->\n",
       "<g id=\"node1\" class=\"node\">\n",
       "<title>0</title>\n",
       "<text text-anchor=\"middle\" x=\"66.25\" y=\"-101.45\" font-family=\"Times,serif\" font-size=\"14.00\">&lt;start&gt;</text>\n",
       "</g>\n",
       "<!-- 1 -->\n",
       "<g id=\"node2\" class=\"node\">\n",
       "<title>1</title>\n",
       "<text text-anchor=\"middle\" x=\"66.25\" y=\"-51.2\" font-family=\"Times,serif\" font-size=\"14.00\">&lt;expr&gt;</text>\n",
       "</g>\n",
       "<!-- 0&#45;&gt;1 -->\n",
       "<g id=\"edge1\" class=\"edge\">\n",
       "<title>0&#45;&gt;1</title>\n",
       "<path fill=\"none\" stroke=\"black\" d=\"M66.25,-100.71C66.25,-94.49 66.25,-84.4 66.25,-75.64\"/>\n",
       "<polygon fill=\"black\" stroke=\"black\" points=\"69.75,-75.85 66.25,-65.85 62.75,-75.85 69.75,-75.85\"/>\n",
       "</g>\n",
       "<!-- 2 -->\n",
       "<g id=\"node3\" class=\"node\">\n",
       "<title>2</title>\n",
       "<text text-anchor=\"middle\" x=\"20.25\" y=\"-0.95\" font-family=\"Times,serif\" font-size=\"14.00\">&lt;expr&gt;</text>\n",
       "</g>\n",
       "<!-- 1&#45;&gt;2 -->\n",
       "<g id=\"edge2\" class=\"edge\">\n",
       "<title>1&#45;&gt;2</title>\n",
       "<path fill=\"none\" stroke=\"black\" d=\"M60.61,-50.46C53.99,-43.51 42.78,-31.75 33.85,-22.39\"/>\n",
       "<polygon fill=\"black\" stroke=\"black\" points=\"36.41,-20.01 26.98,-15.19 31.35,-24.84 36.41,-20.01\"/>\n",
       "</g>\n",
       "<!-- 3 -->\n",
       "<g id=\"node4\" class=\"node\">\n",
       "<title>3</title>\n",
       "<text text-anchor=\"middle\" x=\"66.25\" y=\"-0.95\" font-family=\"Times,serif\" font-size=\"14.00\"> + </text>\n",
       "</g>\n",
       "<!-- 1&#45;&gt;3 -->\n",
       "<g id=\"edge3\" class=\"edge\">\n",
       "<title>1&#45;&gt;3</title>\n",
       "<path fill=\"none\" stroke=\"black\" d=\"M66.25,-50.46C66.25,-44.24 66.25,-34.15 66.25,-25.39\"/>\n",
       "<polygon fill=\"black\" stroke=\"black\" points=\"69.75,-25.6 66.25,-15.6 62.75,-25.6 69.75,-25.6\"/>\n",
       "</g>\n",
       "<!-- 4 -->\n",
       "<g id=\"node5\" class=\"node\">\n",
       "<title>4</title>\n",
       "<text text-anchor=\"middle\" x=\"113.25\" y=\"-0.95\" font-family=\"Times,serif\" font-size=\"14.00\">&lt;term&gt;</text>\n",
       "</g>\n",
       "<!-- 1&#45;&gt;4 -->\n",
       "<g id=\"edge4\" class=\"edge\">\n",
       "<title>1&#45;&gt;4</title>\n",
       "<path fill=\"none\" stroke=\"black\" d=\"M72.01,-50.46C78.85,-43.44 90.47,-31.51 99.64,-22.1\"/>\n",
       "<polygon fill=\"black\" stroke=\"black\" points=\"101.91,-24.78 106.38,-15.17 96.9,-19.9 101.91,-24.78\"/>\n",
       "</g>\n",
       "</g>\n",
       "</svg>\n"
      ],
      "text/plain": [
       "<graphviz.graphs.Digraph at 0x15d56fee0>"
      ]
     },
     "execution_count": 105,
     "metadata": {},
     "output_type": "execute_result"
    }
   ],
   "source": [
    "f = GrammarFuzzer(EXPR_GRAMMAR, log=True)\n",
    "display_tree(derivation_tree)"
   ]
  },
  {
   "cell_type": "code",
   "execution_count": 106,
   "metadata": {
    "execution": {
     "iopub.execute_input": "2024-06-29T16:13:20.830962Z",
     "iopub.status.busy": "2024-06-29T16:13:20.830814Z",
     "iopub.status.idle": "2024-06-29T16:13:20.832872Z",
     "shell.execute_reply": "2024-06-29T16:13:20.832539Z"
    },
    "slideshow": {
     "slide_type": "subslide"
    }
   },
   "outputs": [],
   "source": [
    "# docassert\n",
    "assert f.any_possible_expansions(derivation_tree)"
   ]
  },
  {
   "cell_type": "code",
   "execution_count": 107,
   "metadata": {
    "button": false,
    "execution": {
     "iopub.execute_input": "2024-06-29T16:13:20.834472Z",
     "iopub.status.busy": "2024-06-29T16:13:20.834348Z",
     "iopub.status.idle": "2024-06-29T16:13:21.241321Z",
     "shell.execute_reply": "2024-06-29T16:13:21.240870Z"
    },
    "new_sheet": false,
    "run_control": {
     "read_only": false
    },
    "slideshow": {
     "slide_type": "subslide"
    },
    "tags": []
   },
   "outputs": [
    {
     "name": "stdout",
     "output_type": "stream",
     "text": [
      "Expanding <term> at maximum cost\n"
     ]
    },
    {
     "data": {
      "image/svg+xml": [
       "<?xml version=\"1.0\" encoding=\"UTF-8\" standalone=\"no\"?>\n",
       "<!DOCTYPE svg PUBLIC \"-//W3C//DTD SVG 1.1//EN\"\n",
       " \"http://www.w3.org/Graphics/SVG/1.1/DTD/svg11.dtd\">\n",
       "<!-- Generated by graphviz version 11.0.0 (20240428.1522)\n",
       " -->\n",
       "<!-- Pages: 1 -->\n",
       "<svg width=\"188pt\" height=\"173pt\"\n",
       " viewBox=\"0.00 0.00 188.25 173.00\" xmlns=\"http://www.w3.org/2000/svg\" xmlns:xlink=\"http://www.w3.org/1999/xlink\">\n",
       "<g id=\"graph0\" class=\"graph\" transform=\"scale(1 1) rotate(0) translate(4 169)\">\n",
       "<polygon fill=\"white\" stroke=\"none\" points=\"-4,4 -4,-169 184.25,-169 184.25,4 -4,4\"/>\n",
       "<!-- 0 -->\n",
       "<g id=\"node1\" class=\"node\">\n",
       "<title>0</title>\n",
       "<text text-anchor=\"middle\" x=\"66.25\" y=\"-151.7\" font-family=\"Times,serif\" font-size=\"14.00\">&lt;start&gt;</text>\n",
       "</g>\n",
       "<!-- 1 -->\n",
       "<g id=\"node2\" class=\"node\">\n",
       "<title>1</title>\n",
       "<text text-anchor=\"middle\" x=\"66.25\" y=\"-101.45\" font-family=\"Times,serif\" font-size=\"14.00\">&lt;expr&gt;</text>\n",
       "</g>\n",
       "<!-- 0&#45;&gt;1 -->\n",
       "<g id=\"edge1\" class=\"edge\">\n",
       "<title>0&#45;&gt;1</title>\n",
       "<path fill=\"none\" stroke=\"black\" d=\"M66.25,-150.96C66.25,-144.74 66.25,-134.65 66.25,-125.89\"/>\n",
       "<polygon fill=\"black\" stroke=\"black\" points=\"69.75,-126.1 66.25,-116.1 62.75,-126.1 69.75,-126.1\"/>\n",
       "</g>\n",
       "<!-- 2 -->\n",
       "<g id=\"node3\" class=\"node\">\n",
       "<title>2</title>\n",
       "<text text-anchor=\"middle\" x=\"20.25\" y=\"-51.2\" font-family=\"Times,serif\" font-size=\"14.00\">&lt;expr&gt;</text>\n",
       "</g>\n",
       "<!-- 1&#45;&gt;2 -->\n",
       "<g id=\"edge2\" class=\"edge\">\n",
       "<title>1&#45;&gt;2</title>\n",
       "<path fill=\"none\" stroke=\"black\" d=\"M60.61,-100.71C53.99,-93.76 42.78,-82 33.85,-72.64\"/>\n",
       "<polygon fill=\"black\" stroke=\"black\" points=\"36.41,-70.26 26.98,-65.44 31.35,-75.09 36.41,-70.26\"/>\n",
       "</g>\n",
       "<!-- 3 -->\n",
       "<g id=\"node4\" class=\"node\">\n",
       "<title>3</title>\n",
       "<text text-anchor=\"middle\" x=\"66.25\" y=\"-51.2\" font-family=\"Times,serif\" font-size=\"14.00\"> + </text>\n",
       "</g>\n",
       "<!-- 1&#45;&gt;3 -->\n",
       "<g id=\"edge3\" class=\"edge\">\n",
       "<title>1&#45;&gt;3</title>\n",
       "<path fill=\"none\" stroke=\"black\" d=\"M66.25,-100.71C66.25,-94.49 66.25,-84.4 66.25,-75.64\"/>\n",
       "<polygon fill=\"black\" stroke=\"black\" points=\"69.75,-75.85 66.25,-65.85 62.75,-75.85 69.75,-75.85\"/>\n",
       "</g>\n",
       "<!-- 4 -->\n",
       "<g id=\"node5\" class=\"node\">\n",
       "<title>4</title>\n",
       "<text text-anchor=\"middle\" x=\"113.25\" y=\"-51.2\" font-family=\"Times,serif\" font-size=\"14.00\">&lt;term&gt;</text>\n",
       "</g>\n",
       "<!-- 1&#45;&gt;4 -->\n",
       "<g id=\"edge4\" class=\"edge\">\n",
       "<title>1&#45;&gt;4</title>\n",
       "<path fill=\"none\" stroke=\"black\" d=\"M72.01,-100.71C78.85,-93.69 90.47,-81.76 99.64,-72.35\"/>\n",
       "<polygon fill=\"black\" stroke=\"black\" points=\"101.91,-75.03 106.38,-65.42 96.9,-70.15 101.91,-75.03\"/>\n",
       "</g>\n",
       "<!-- 5 -->\n",
       "<g id=\"node6\" class=\"node\">\n",
       "<title>5</title>\n",
       "<text text-anchor=\"middle\" x=\"64.25\" y=\"-0.95\" font-family=\"Times,serif\" font-size=\"14.00\">&lt;factor&gt;</text>\n",
       "</g>\n",
       "<!-- 4&#45;&gt;5 -->\n",
       "<g id=\"edge5\" class=\"edge\">\n",
       "<title>4&#45;&gt;5</title>\n",
       "<path fill=\"none\" stroke=\"black\" d=\"M107.24,-50.46C100.11,-43.44 88,-31.51 78.44,-22.1\"/>\n",
       "<polygon fill=\"black\" stroke=\"black\" points=\"80.97,-19.67 71.39,-15.15 76.06,-24.66 80.97,-19.67\"/>\n",
       "</g>\n",
       "<!-- 6 -->\n",
       "<g id=\"node7\" class=\"node\">\n",
       "<title>6</title>\n",
       "<text text-anchor=\"middle\" x=\"113.25\" y=\"-0.95\" font-family=\"Times,serif\" font-size=\"14.00\"> * </text>\n",
       "</g>\n",
       "<!-- 4&#45;&gt;6 -->\n",
       "<g id=\"edge6\" class=\"edge\">\n",
       "<title>4&#45;&gt;6</title>\n",
       "<path fill=\"none\" stroke=\"black\" d=\"M113.25,-50.46C113.25,-44.24 113.25,-34.15 113.25,-25.39\"/>\n",
       "<polygon fill=\"black\" stroke=\"black\" points=\"116.75,-25.6 113.25,-15.6 109.75,-25.6 116.75,-25.6\"/>\n",
       "</g>\n",
       "<!-- 7 -->\n",
       "<g id=\"node8\" class=\"node\">\n",
       "<title>7</title>\n",
       "<text text-anchor=\"middle\" x=\"159.25\" y=\"-0.95\" font-family=\"Times,serif\" font-size=\"14.00\">&lt;term&gt;</text>\n",
       "</g>\n",
       "<!-- 4&#45;&gt;7 -->\n",
       "<g id=\"edge7\" class=\"edge\">\n",
       "<title>4&#45;&gt;7</title>\n",
       "<path fill=\"none\" stroke=\"black\" d=\"M118.89,-50.46C125.51,-43.51 136.72,-31.75 145.65,-22.39\"/>\n",
       "<polygon fill=\"black\" stroke=\"black\" points=\"148.15,-24.84 152.52,-15.19 143.09,-20.01 148.15,-24.84\"/>\n",
       "</g>\n",
       "</g>\n",
       "</svg>\n"
      ],
      "text/plain": [
       "<graphviz.graphs.Digraph at 0x15d56e650>"
      ]
     },
     "execution_count": 107,
     "metadata": {},
     "output_type": "execute_result"
    }
   ],
   "source": [
    "if f.any_possible_expansions(derivation_tree):\n",
    "    derivation_tree = f.expand_tree_once(derivation_tree)\n",
    "display_tree(derivation_tree)"
   ]
  },
  {
   "cell_type": "code",
   "execution_count": 108,
   "metadata": {
    "execution": {
     "iopub.execute_input": "2024-06-29T16:13:21.243499Z",
     "iopub.status.busy": "2024-06-29T16:13:21.243341Z",
     "iopub.status.idle": "2024-06-29T16:13:21.245543Z",
     "shell.execute_reply": "2024-06-29T16:13:21.245205Z"
    },
    "slideshow": {
     "slide_type": "fragment"
    }
   },
   "outputs": [],
   "source": [
    "# docassert\n",
    "assert f.any_possible_expansions(derivation_tree)"
   ]
  },
  {
   "cell_type": "code",
   "execution_count": 109,
   "metadata": {
    "button": false,
    "execution": {
     "iopub.execute_input": "2024-06-29T16:13:21.247220Z",
     "iopub.status.busy": "2024-06-29T16:13:21.247085Z",
     "iopub.status.idle": "2024-06-29T16:13:21.675313Z",
     "shell.execute_reply": "2024-06-29T16:13:21.674843Z"
    },
    "new_sheet": false,
    "run_control": {
     "read_only": false
    },
    "slideshow": {
     "slide_type": "subslide"
    }
   },
   "outputs": [
    {
     "name": "stdout",
     "output_type": "stream",
     "text": [
      "Expanding <factor> at maximum cost\n"
     ]
    },
    {
     "data": {
      "image/svg+xml": [
       "<?xml version=\"1.0\" encoding=\"UTF-8\" standalone=\"no\"?>\n",
       "<!DOCTYPE svg PUBLIC \"-//W3C//DTD SVG 1.1//EN\"\n",
       " \"http://www.w3.org/Graphics/SVG/1.1/DTD/svg11.dtd\">\n",
       "<!-- Generated by graphviz version 11.0.0 (20240428.1522)\n",
       " -->\n",
       "<!-- Pages: 1 -->\n",
       "<svg width=\"188pt\" height=\"223pt\"\n",
       " viewBox=\"0.00 0.00 188.25 223.25\" xmlns=\"http://www.w3.org/2000/svg\" xmlns:xlink=\"http://www.w3.org/1999/xlink\">\n",
       "<g id=\"graph0\" class=\"graph\" transform=\"scale(1 1) rotate(0) translate(4 219.25)\">\n",
       "<polygon fill=\"white\" stroke=\"none\" points=\"-4,4 -4,-219.25 184.25,-219.25 184.25,4 -4,4\"/>\n",
       "<!-- 0 -->\n",
       "<g id=\"node1\" class=\"node\">\n",
       "<title>0</title>\n",
       "<text text-anchor=\"middle\" x=\"66.25\" y=\"-201.95\" font-family=\"Times,serif\" font-size=\"14.00\">&lt;start&gt;</text>\n",
       "</g>\n",
       "<!-- 1 -->\n",
       "<g id=\"node2\" class=\"node\">\n",
       "<title>1</title>\n",
       "<text text-anchor=\"middle\" x=\"66.25\" y=\"-151.7\" font-family=\"Times,serif\" font-size=\"14.00\">&lt;expr&gt;</text>\n",
       "</g>\n",
       "<!-- 0&#45;&gt;1 -->\n",
       "<g id=\"edge1\" class=\"edge\">\n",
       "<title>0&#45;&gt;1</title>\n",
       "<path fill=\"none\" stroke=\"black\" d=\"M66.25,-201.21C66.25,-194.99 66.25,-184.9 66.25,-176.14\"/>\n",
       "<polygon fill=\"black\" stroke=\"black\" points=\"69.75,-176.35 66.25,-166.35 62.75,-176.35 69.75,-176.35\"/>\n",
       "</g>\n",
       "<!-- 2 -->\n",
       "<g id=\"node3\" class=\"node\">\n",
       "<title>2</title>\n",
       "<text text-anchor=\"middle\" x=\"20.25\" y=\"-101.45\" font-family=\"Times,serif\" font-size=\"14.00\">&lt;expr&gt;</text>\n",
       "</g>\n",
       "<!-- 1&#45;&gt;2 -->\n",
       "<g id=\"edge2\" class=\"edge\">\n",
       "<title>1&#45;&gt;2</title>\n",
       "<path fill=\"none\" stroke=\"black\" d=\"M60.61,-150.96C53.99,-144.01 42.78,-132.25 33.85,-122.89\"/>\n",
       "<polygon fill=\"black\" stroke=\"black\" points=\"36.41,-120.51 26.98,-115.69 31.35,-125.34 36.41,-120.51\"/>\n",
       "</g>\n",
       "<!-- 3 -->\n",
       "<g id=\"node4\" class=\"node\">\n",
       "<title>3</title>\n",
       "<text text-anchor=\"middle\" x=\"66.25\" y=\"-101.45\" font-family=\"Times,serif\" font-size=\"14.00\"> + </text>\n",
       "</g>\n",
       "<!-- 1&#45;&gt;3 -->\n",
       "<g id=\"edge3\" class=\"edge\">\n",
       "<title>1&#45;&gt;3</title>\n",
       "<path fill=\"none\" stroke=\"black\" d=\"M66.25,-150.96C66.25,-144.74 66.25,-134.65 66.25,-125.89\"/>\n",
       "<polygon fill=\"black\" stroke=\"black\" points=\"69.75,-126.1 66.25,-116.1 62.75,-126.1 69.75,-126.1\"/>\n",
       "</g>\n",
       "<!-- 4 -->\n",
       "<g id=\"node5\" class=\"node\">\n",
       "<title>4</title>\n",
       "<text text-anchor=\"middle\" x=\"113.25\" y=\"-101.45\" font-family=\"Times,serif\" font-size=\"14.00\">&lt;term&gt;</text>\n",
       "</g>\n",
       "<!-- 1&#45;&gt;4 -->\n",
       "<g id=\"edge4\" class=\"edge\">\n",
       "<title>1&#45;&gt;4</title>\n",
       "<path fill=\"none\" stroke=\"black\" d=\"M72.01,-150.96C78.85,-143.94 90.47,-132.01 99.64,-122.6\"/>\n",
       "<polygon fill=\"black\" stroke=\"black\" points=\"101.91,-125.28 106.38,-115.67 96.9,-120.4 101.91,-125.28\"/>\n",
       "</g>\n",
       "<!-- 5 -->\n",
       "<g id=\"node6\" class=\"node\">\n",
       "<title>5</title>\n",
       "<text text-anchor=\"middle\" x=\"64.25\" y=\"-51.2\" font-family=\"Times,serif\" font-size=\"14.00\">&lt;factor&gt;</text>\n",
       "</g>\n",
       "<!-- 4&#45;&gt;5 -->\n",
       "<g id=\"edge5\" class=\"edge\">\n",
       "<title>4&#45;&gt;5</title>\n",
       "<path fill=\"none\" stroke=\"black\" d=\"M107.24,-100.71C100.11,-93.69 88,-81.76 78.44,-72.35\"/>\n",
       "<polygon fill=\"black\" stroke=\"black\" points=\"80.97,-69.92 71.39,-65.4 76.06,-74.91 80.97,-69.92\"/>\n",
       "</g>\n",
       "<!-- 8 -->\n",
       "<g id=\"node9\" class=\"node\">\n",
       "<title>8</title>\n",
       "<text text-anchor=\"middle\" x=\"113.25\" y=\"-51.2\" font-family=\"Times,serif\" font-size=\"14.00\"> * </text>\n",
       "</g>\n",
       "<!-- 4&#45;&gt;8 -->\n",
       "<g id=\"edge8\" class=\"edge\">\n",
       "<title>4&#45;&gt;8</title>\n",
       "<path fill=\"none\" stroke=\"black\" d=\"M113.25,-100.71C113.25,-94.49 113.25,-84.4 113.25,-75.64\"/>\n",
       "<polygon fill=\"black\" stroke=\"black\" points=\"116.75,-75.85 113.25,-65.85 109.75,-75.85 116.75,-75.85\"/>\n",
       "</g>\n",
       "<!-- 9 -->\n",
       "<g id=\"node10\" class=\"node\">\n",
       "<title>9</title>\n",
       "<text text-anchor=\"middle\" x=\"159.25\" y=\"-51.2\" font-family=\"Times,serif\" font-size=\"14.00\">&lt;term&gt;</text>\n",
       "</g>\n",
       "<!-- 4&#45;&gt;9 -->\n",
       "<g id=\"edge9\" class=\"edge\">\n",
       "<title>4&#45;&gt;9</title>\n",
       "<path fill=\"none\" stroke=\"black\" d=\"M118.89,-100.71C125.51,-93.76 136.72,-82 145.65,-72.64\"/>\n",
       "<polygon fill=\"black\" stroke=\"black\" points=\"148.15,-75.09 152.52,-65.44 143.09,-70.26 148.15,-75.09\"/>\n",
       "</g>\n",
       "<!-- 6 -->\n",
       "<g id=\"node7\" class=\"node\">\n",
       "<title>6</title>\n",
       "<text text-anchor=\"middle\" x=\"36.25\" y=\"-0.95\" font-family=\"Times,serif\" font-size=\"14.00\">&#45; (45)</text>\n",
       "</g>\n",
       "<!-- 5&#45;&gt;6 -->\n",
       "<g id=\"edge6\" class=\"edge\">\n",
       "<title>5&#45;&gt;6</title>\n",
       "<path fill=\"none\" stroke=\"black\" d=\"M60.82,-50.46C57,-43.87 50.67,-32.97 45.39,-23.87\"/>\n",
       "<polygon fill=\"black\" stroke=\"black\" points=\"48.52,-22.29 40.47,-15.4 42.46,-25.8 48.52,-22.29\"/>\n",
       "</g>\n",
       "<!-- 7 -->\n",
       "<g id=\"node8\" class=\"node\">\n",
       "<title>7</title>\n",
       "<text text-anchor=\"middle\" x=\"93.25\" y=\"-0.95\" font-family=\"Times,serif\" font-size=\"14.00\">&lt;factor&gt;</text>\n",
       "</g>\n",
       "<!-- 5&#45;&gt;7 -->\n",
       "<g id=\"edge7\" class=\"edge\">\n",
       "<title>5&#45;&gt;7</title>\n",
       "<path fill=\"none\" stroke=\"black\" d=\"M67.81,-50.46C71.76,-43.87 78.32,-32.97 83.79,-23.87\"/>\n",
       "<polygon fill=\"black\" stroke=\"black\" points=\"86.73,-25.76 88.89,-15.39 80.73,-22.16 86.73,-25.76\"/>\n",
       "</g>\n",
       "</g>\n",
       "</svg>\n"
      ],
      "text/plain": [
       "<graphviz.graphs.Digraph at 0x15d56cbe0>"
      ]
     },
     "execution_count": 109,
     "metadata": {},
     "output_type": "execute_result"
    }
   ],
   "source": [
    "if f.any_possible_expansions(derivation_tree):\n",
    "    derivation_tree = f.expand_tree_once(derivation_tree)\n",
    "display_tree(derivation_tree)"
   ]
  },
  {
   "cell_type": "code",
   "execution_count": 110,
   "metadata": {
    "execution": {
     "iopub.execute_input": "2024-06-29T16:13:21.677119Z",
     "iopub.status.busy": "2024-06-29T16:13:21.676975Z",
     "iopub.status.idle": "2024-06-29T16:13:21.679204Z",
     "shell.execute_reply": "2024-06-29T16:13:21.678822Z"
    },
    "slideshow": {
     "slide_type": "fragment"
    }
   },
   "outputs": [],
   "source": [
    "# docassert\n",
    "assert f.any_possible_expansions(derivation_tree)"
   ]
  },
  {
   "cell_type": "code",
   "execution_count": 111,
   "metadata": {
    "button": false,
    "execution": {
     "iopub.execute_input": "2024-06-29T16:13:21.680834Z",
     "iopub.status.busy": "2024-06-29T16:13:21.680706Z",
     "iopub.status.idle": "2024-06-29T16:13:22.151685Z",
     "shell.execute_reply": "2024-06-29T16:13:22.151229Z"
    },
    "new_sheet": false,
    "run_control": {
     "read_only": false
    },
    "slideshow": {
     "slide_type": "subslide"
    }
   },
   "outputs": [
    {
     "name": "stdout",
     "output_type": "stream",
     "text": [
      "Expanding <factor> at maximum cost\n"
     ]
    },
    {
     "data": {
      "image/svg+xml": [
       "<?xml version=\"1.0\" encoding=\"UTF-8\" standalone=\"no\"?>\n",
       "<!DOCTYPE svg PUBLIC \"-//W3C//DTD SVG 1.1//EN\"\n",
       " \"http://www.w3.org/Graphics/SVG/1.1/DTD/svg11.dtd\">\n",
       "<!-- Generated by graphviz version 11.0.0 (20240428.1522)\n",
       " -->\n",
       "<!-- Pages: 1 -->\n",
       "<svg width=\"188pt\" height=\"274pt\"\n",
       " viewBox=\"0.00 0.00 188.25 273.50\" xmlns=\"http://www.w3.org/2000/svg\" xmlns:xlink=\"http://www.w3.org/1999/xlink\">\n",
       "<g id=\"graph0\" class=\"graph\" transform=\"scale(1 1) rotate(0) translate(4 269.5)\">\n",
       "<polygon fill=\"white\" stroke=\"none\" points=\"-4,4 -4,-269.5 184.25,-269.5 184.25,4 -4,4\"/>\n",
       "<!-- 0 -->\n",
       "<g id=\"node1\" class=\"node\">\n",
       "<title>0</title>\n",
       "<text text-anchor=\"middle\" x=\"66.25\" y=\"-252.2\" font-family=\"Times,serif\" font-size=\"14.00\">&lt;start&gt;</text>\n",
       "</g>\n",
       "<!-- 1 -->\n",
       "<g id=\"node2\" class=\"node\">\n",
       "<title>1</title>\n",
       "<text text-anchor=\"middle\" x=\"66.25\" y=\"-201.95\" font-family=\"Times,serif\" font-size=\"14.00\">&lt;expr&gt;</text>\n",
       "</g>\n",
       "<!-- 0&#45;&gt;1 -->\n",
       "<g id=\"edge1\" class=\"edge\">\n",
       "<title>0&#45;&gt;1</title>\n",
       "<path fill=\"none\" stroke=\"black\" d=\"M66.25,-251.46C66.25,-245.24 66.25,-235.15 66.25,-226.39\"/>\n",
       "<polygon fill=\"black\" stroke=\"black\" points=\"69.75,-226.6 66.25,-216.6 62.75,-226.6 69.75,-226.6\"/>\n",
       "</g>\n",
       "<!-- 2 -->\n",
       "<g id=\"node3\" class=\"node\">\n",
       "<title>2</title>\n",
       "<text text-anchor=\"middle\" x=\"20.25\" y=\"-151.7\" font-family=\"Times,serif\" font-size=\"14.00\">&lt;expr&gt;</text>\n",
       "</g>\n",
       "<!-- 1&#45;&gt;2 -->\n",
       "<g id=\"edge2\" class=\"edge\">\n",
       "<title>1&#45;&gt;2</title>\n",
       "<path fill=\"none\" stroke=\"black\" d=\"M60.61,-201.21C53.99,-194.26 42.78,-182.5 33.85,-173.14\"/>\n",
       "<polygon fill=\"black\" stroke=\"black\" points=\"36.41,-170.76 26.98,-165.94 31.35,-175.59 36.41,-170.76\"/>\n",
       "</g>\n",
       "<!-- 3 -->\n",
       "<g id=\"node4\" class=\"node\">\n",
       "<title>3</title>\n",
       "<text text-anchor=\"middle\" x=\"66.25\" y=\"-151.7\" font-family=\"Times,serif\" font-size=\"14.00\"> + </text>\n",
       "</g>\n",
       "<!-- 1&#45;&gt;3 -->\n",
       "<g id=\"edge3\" class=\"edge\">\n",
       "<title>1&#45;&gt;3</title>\n",
       "<path fill=\"none\" stroke=\"black\" d=\"M66.25,-201.21C66.25,-194.99 66.25,-184.9 66.25,-176.14\"/>\n",
       "<polygon fill=\"black\" stroke=\"black\" points=\"69.75,-176.35 66.25,-166.35 62.75,-176.35 69.75,-176.35\"/>\n",
       "</g>\n",
       "<!-- 4 -->\n",
       "<g id=\"node5\" class=\"node\">\n",
       "<title>4</title>\n",
       "<text text-anchor=\"middle\" x=\"113.25\" y=\"-151.7\" font-family=\"Times,serif\" font-size=\"14.00\">&lt;term&gt;</text>\n",
       "</g>\n",
       "<!-- 1&#45;&gt;4 -->\n",
       "<g id=\"edge4\" class=\"edge\">\n",
       "<title>1&#45;&gt;4</title>\n",
       "<path fill=\"none\" stroke=\"black\" d=\"M72.01,-201.21C78.85,-194.19 90.47,-182.26 99.64,-172.85\"/>\n",
       "<polygon fill=\"black\" stroke=\"black\" points=\"101.91,-175.53 106.38,-165.92 96.9,-170.65 101.91,-175.53\"/>\n",
       "</g>\n",
       "<!-- 5 -->\n",
       "<g id=\"node6\" class=\"node\">\n",
       "<title>5</title>\n",
       "<text text-anchor=\"middle\" x=\"64.25\" y=\"-101.45\" font-family=\"Times,serif\" font-size=\"14.00\">&lt;factor&gt;</text>\n",
       "</g>\n",
       "<!-- 4&#45;&gt;5 -->\n",
       "<g id=\"edge5\" class=\"edge\">\n",
       "<title>4&#45;&gt;5</title>\n",
       "<path fill=\"none\" stroke=\"black\" d=\"M107.24,-150.96C100.11,-143.94 88,-132.01 78.44,-122.6\"/>\n",
       "<polygon fill=\"black\" stroke=\"black\" points=\"80.97,-120.17 71.39,-115.65 76.06,-125.16 80.97,-120.17\"/>\n",
       "</g>\n",
       "<!-- 11 -->\n",
       "<g id=\"node12\" class=\"node\">\n",
       "<title>11</title>\n",
       "<text text-anchor=\"middle\" x=\"113.25\" y=\"-101.45\" font-family=\"Times,serif\" font-size=\"14.00\"> * </text>\n",
       "</g>\n",
       "<!-- 4&#45;&gt;11 -->\n",
       "<g id=\"edge11\" class=\"edge\">\n",
       "<title>4&#45;&gt;11</title>\n",
       "<path fill=\"none\" stroke=\"black\" d=\"M113.25,-150.96C113.25,-144.74 113.25,-134.65 113.25,-125.89\"/>\n",
       "<polygon fill=\"black\" stroke=\"black\" points=\"116.75,-126.1 113.25,-116.1 109.75,-126.1 116.75,-126.1\"/>\n",
       "</g>\n",
       "<!-- 12 -->\n",
       "<g id=\"node13\" class=\"node\">\n",
       "<title>12</title>\n",
       "<text text-anchor=\"middle\" x=\"159.25\" y=\"-101.45\" font-family=\"Times,serif\" font-size=\"14.00\">&lt;term&gt;</text>\n",
       "</g>\n",
       "<!-- 4&#45;&gt;12 -->\n",
       "<g id=\"edge12\" class=\"edge\">\n",
       "<title>4&#45;&gt;12</title>\n",
       "<path fill=\"none\" stroke=\"black\" d=\"M118.89,-150.96C125.51,-144.01 136.72,-132.25 145.65,-122.89\"/>\n",
       "<polygon fill=\"black\" stroke=\"black\" points=\"148.15,-125.34 152.52,-115.69 143.09,-120.51 148.15,-125.34\"/>\n",
       "</g>\n",
       "<!-- 6 -->\n",
       "<g id=\"node7\" class=\"node\">\n",
       "<title>6</title>\n",
       "<text text-anchor=\"middle\" x=\"36.25\" y=\"-51.2\" font-family=\"Times,serif\" font-size=\"14.00\">&#45; (45)</text>\n",
       "</g>\n",
       "<!-- 5&#45;&gt;6 -->\n",
       "<g id=\"edge6\" class=\"edge\">\n",
       "<title>5&#45;&gt;6</title>\n",
       "<path fill=\"none\" stroke=\"black\" d=\"M60.82,-100.71C57,-94.12 50.67,-83.22 45.39,-74.12\"/>\n",
       "<polygon fill=\"black\" stroke=\"black\" points=\"48.52,-72.54 40.47,-65.65 42.46,-76.05 48.52,-72.54\"/>\n",
       "</g>\n",
       "<!-- 7 -->\n",
       "<g id=\"node8\" class=\"node\">\n",
       "<title>7</title>\n",
       "<text text-anchor=\"middle\" x=\"93.25\" y=\"-51.2\" font-family=\"Times,serif\" font-size=\"14.00\">&lt;factor&gt;</text>\n",
       "</g>\n",
       "<!-- 5&#45;&gt;7 -->\n",
       "<g id=\"edge7\" class=\"edge\">\n",
       "<title>5&#45;&gt;7</title>\n",
       "<path fill=\"none\" stroke=\"black\" d=\"M67.81,-100.71C71.76,-94.12 78.32,-83.22 83.79,-74.12\"/>\n",
       "<polygon fill=\"black\" stroke=\"black\" points=\"86.73,-76.01 88.89,-65.64 80.73,-72.41 86.73,-76.01\"/>\n",
       "</g>\n",
       "<!-- 8 -->\n",
       "<g id=\"node9\" class=\"node\">\n",
       "<title>8</title>\n",
       "<text text-anchor=\"middle\" x=\"39.25\" y=\"-0.95\" font-family=\"Times,serif\" font-size=\"14.00\">( (40)</text>\n",
       "</g>\n",
       "<!-- 7&#45;&gt;8 -->\n",
       "<g id=\"edge8\" class=\"edge\">\n",
       "<title>7&#45;&gt;8</title>\n",
       "<path fill=\"none\" stroke=\"black\" d=\"M86.63,-50.46C78.61,-43.3 64.87,-31.01 54.24,-21.52\"/>\n",
       "<polygon fill=\"black\" stroke=\"black\" points=\"56.84,-19.15 47.05,-15.1 52.18,-24.37 56.84,-19.15\"/>\n",
       "</g>\n",
       "<!-- 9 -->\n",
       "<g id=\"node10\" class=\"node\">\n",
       "<title>9</title>\n",
       "<text text-anchor=\"middle\" x=\"93.25\" y=\"-0.95\" font-family=\"Times,serif\" font-size=\"14.00\">&lt;expr&gt;</text>\n",
       "</g>\n",
       "<!-- 7&#45;&gt;9 -->\n",
       "<g id=\"edge9\" class=\"edge\">\n",
       "<title>7&#45;&gt;9</title>\n",
       "<path fill=\"none\" stroke=\"black\" d=\"M93.25,-50.46C93.25,-44.24 93.25,-34.15 93.25,-25.39\"/>\n",
       "<polygon fill=\"black\" stroke=\"black\" points=\"96.75,-25.6 93.25,-15.6 89.75,-25.6 96.75,-25.6\"/>\n",
       "</g>\n",
       "<!-- 10 -->\n",
       "<g id=\"node11\" class=\"node\">\n",
       "<title>10</title>\n",
       "<text text-anchor=\"middle\" x=\"147.25\" y=\"-0.95\" font-family=\"Times,serif\" font-size=\"14.00\">) (41)</text>\n",
       "</g>\n",
       "<!-- 7&#45;&gt;10 -->\n",
       "<g id=\"edge10\" class=\"edge\">\n",
       "<title>7&#45;&gt;10</title>\n",
       "<path fill=\"none\" stroke=\"black\" d=\"M99.87,-50.46C107.89,-43.3 121.63,-31.01 132.26,-21.52\"/>\n",
       "<polygon fill=\"black\" stroke=\"black\" points=\"134.32,-24.37 139.45,-15.1 129.66,-19.15 134.32,-24.37\"/>\n",
       "</g>\n",
       "</g>\n",
       "</svg>\n"
      ],
      "text/plain": [
       "<graphviz.graphs.Digraph at 0x15d56d810>"
      ]
     },
     "execution_count": 111,
     "metadata": {},
     "output_type": "execute_result"
    }
   ],
   "source": [
    "if f.any_possible_expansions(derivation_tree):\n",
    "    derivation_tree = f.expand_tree_once(derivation_tree)\n",
    "display_tree(derivation_tree)"
   ]
  },
  {
   "cell_type": "markdown",
   "metadata": {
    "slideshow": {
     "slide_type": "fragment"
    }
   },
   "source": [
    "We see that with each step, the number of nonterminals increases.  Obviously, we have to put a limit on this number."
   ]
  },
  {
   "cell_type": "markdown",
   "metadata": {
    "button": false,
    "new_sheet": false,
    "run_control": {
     "read_only": false
    },
    "slideshow": {
     "slide_type": "slide"
    }
   },
   "source": [
    "## Three Expansion Phases\n",
    "\n",
    "We can now put all three phases together in a single function `expand_tree()` which will work as follows:\n",
    "\n",
    "1. **Max cost expansion.** Expand the tree using expansions with maximum cost until we have at least `min_nonterminals` nonterminals.  This phase can be easily skipped by setting `min_nonterminals` to zero.\n",
    "2. **Random expansion.**  Keep on expanding the tree randomly until we reach `max_nonterminals` nonterminals.\n",
    "3. **Min cost expansion.** Close the expansion with minimum cost.\n",
    "\n",
    "We implement these three phases by having `expand_node` reference the expansion method to apply.  This is controlled by setting `expand_node` (the method reference) to first `expand_node_max_cost` (i.e., calling `expand_node()` invokes `expand_node_max_cost()`), then `expand_node_randomly`, and finally `expand_node_min_cost`.  In the first two phases, we also set a maximum limit of `min_nonterminals` and `max_nonterminals`, respectively."
   ]
  },
  {
   "cell_type": "markdown",
   "metadata": {
    "slideshow": {
     "slide_type": "subslide"
    }
   },
   "source": [
    "#### Excursion: Implementation of three-phase `expand_tree()`"
   ]
  },
  {
   "cell_type": "code",
   "execution_count": 112,
   "metadata": {
    "button": false,
    "execution": {
     "iopub.execute_input": "2024-06-29T16:13:22.153666Z",
     "iopub.status.busy": "2024-06-29T16:13:22.153522Z",
     "iopub.status.idle": "2024-06-29T16:13:22.157663Z",
     "shell.execute_reply": "2024-06-29T16:13:22.157290Z"
    },
    "new_sheet": false,
    "run_control": {
     "read_only": false
    },
    "slideshow": {
     "slide_type": "subslide"
    }
   },
   "outputs": [],
   "source": [
    "class GrammarFuzzer(GrammarFuzzer):\n",
    "    def log_tree(self, tree: DerivationTree) -> None:\n",
    "        \"\"\"Output a tree if self.log is set; if self.display is also set, show the tree structure\"\"\"\n",
    "        if self.log:\n",
    "            print(\"Tree:\", all_terminals(tree))\n",
    "            if self.disp:\n",
    "                display(display_tree(tree))\n",
    "            # print(self.possible_expansions(tree), \"possible expansion(s) left\")\n",
    "\n",
    "    def expand_tree_with_strategy(self, tree: DerivationTree,\n",
    "                                  expand_node_method: Callable,\n",
    "                                  limit: Optional[int] = None):\n",
    "        \"\"\"Expand tree using `expand_node_method` as node expansion function\n",
    "        until the number of possible expansions reaches `limit`.\"\"\"\n",
    "        self.expand_node = expand_node_method  # type: ignore\n",
    "        while ((limit is None\n",
    "                or self.possible_expansions(tree) < limit)\n",
    "               and self.any_possible_expansions(tree)):\n",
    "            tree = self.expand_tree_once(tree)\n",
    "            self.log_tree(tree)\n",
    "        return tree\n",
    "\n",
    "    def expand_tree(self, tree: DerivationTree) -> DerivationTree:\n",
    "        \"\"\"Expand `tree` in a three-phase strategy until all expansions are complete.\"\"\"\n",
    "        self.log_tree(tree)\n",
    "        tree = self.expand_tree_with_strategy(\n",
    "            tree, self.expand_node_max_cost, self.min_nonterminals)\n",
    "        tree = self.expand_tree_with_strategy(\n",
    "            tree, self.expand_node_randomly, self.max_nonterminals)\n",
    "        tree = self.expand_tree_with_strategy(\n",
    "            tree, self.expand_node_min_cost)\n",
    "\n",
    "        assert self.possible_expansions(tree) == 0\n",
    "\n",
    "        return tree"
   ]
  },
  {
   "cell_type": "markdown",
   "metadata": {
    "slideshow": {
     "slide_type": "subslide"
    }
   },
   "source": [
    "#### End of Excursion"
   ]
  },
  {
   "cell_type": "markdown",
   "metadata": {
    "slideshow": {
     "slide_type": "subslide"
    }
   },
   "source": [
    "Let us try this out on our example. We start with a half-expanded derivation tree:"
   ]
  },
  {
   "cell_type": "code",
   "execution_count": 113,
   "metadata": {
    "button": false,
    "execution": {
     "iopub.execute_input": "2024-06-29T16:13:22.159598Z",
     "iopub.status.busy": "2024-06-29T16:13:22.159455Z",
     "iopub.status.idle": "2024-06-29T16:13:22.161830Z",
     "shell.execute_reply": "2024-06-29T16:13:22.161353Z"
    },
    "new_sheet": false,
    "run_control": {
     "read_only": false
    },
    "slideshow": {
     "slide_type": "subslide"
    }
   },
   "outputs": [],
   "source": [
    "initial_derivation_tree: DerivationTree = (\"<start>\",\n",
    "                   [(\"<expr>\",\n",
    "                     [(\"<expr>\", None),\n",
    "                      (\" + \", []),\n",
    "                         (\"<term>\", None)]\n",
    "                     )])"
   ]
  },
  {
   "cell_type": "code",
   "execution_count": 114,
   "metadata": {
    "execution": {
     "iopub.execute_input": "2024-06-29T16:13:22.164169Z",
     "iopub.status.busy": "2024-06-29T16:13:22.163761Z",
     "iopub.status.idle": "2024-06-29T16:13:22.611616Z",
     "shell.execute_reply": "2024-06-29T16:13:22.611180Z"
    },
    "slideshow": {
     "slide_type": "fragment"
    }
   },
   "outputs": [
    {
     "data": {
      "image/svg+xml": [
       "<?xml version=\"1.0\" encoding=\"UTF-8\" standalone=\"no\"?>\n",
       "<!DOCTYPE svg PUBLIC \"-//W3C//DTD SVG 1.1//EN\"\n",
       " \"http://www.w3.org/Graphics/SVG/1.1/DTD/svg11.dtd\">\n",
       "<!-- Generated by graphviz version 11.0.0 (20240428.1522)\n",
       " -->\n",
       "<!-- Pages: 1 -->\n",
       "<svg width=\"142pt\" height=\"123pt\"\n",
       " viewBox=\"0.00 0.00 142.25 122.75\" xmlns=\"http://www.w3.org/2000/svg\" xmlns:xlink=\"http://www.w3.org/1999/xlink\">\n",
       "<g id=\"graph0\" class=\"graph\" transform=\"scale(1 1) rotate(0) translate(4 118.75)\">\n",
       "<polygon fill=\"white\" stroke=\"none\" points=\"-4,4 -4,-118.75 138.25,-118.75 138.25,4 -4,4\"/>\n",
       "<!-- 0 -->\n",
       "<g id=\"node1\" class=\"node\">\n",
       "<title>0</title>\n",
       "<text text-anchor=\"middle\" x=\"66.25\" y=\"-101.45\" font-family=\"Times,serif\" font-size=\"14.00\">&lt;start&gt;</text>\n",
       "</g>\n",
       "<!-- 1 -->\n",
       "<g id=\"node2\" class=\"node\">\n",
       "<title>1</title>\n",
       "<text text-anchor=\"middle\" x=\"66.25\" y=\"-51.2\" font-family=\"Times,serif\" font-size=\"14.00\">&lt;expr&gt;</text>\n",
       "</g>\n",
       "<!-- 0&#45;&gt;1 -->\n",
       "<g id=\"edge1\" class=\"edge\">\n",
       "<title>0&#45;&gt;1</title>\n",
       "<path fill=\"none\" stroke=\"black\" d=\"M66.25,-100.71C66.25,-94.49 66.25,-84.4 66.25,-75.64\"/>\n",
       "<polygon fill=\"black\" stroke=\"black\" points=\"69.75,-75.85 66.25,-65.85 62.75,-75.85 69.75,-75.85\"/>\n",
       "</g>\n",
       "<!-- 2 -->\n",
       "<g id=\"node3\" class=\"node\">\n",
       "<title>2</title>\n",
       "<text text-anchor=\"middle\" x=\"20.25\" y=\"-0.95\" font-family=\"Times,serif\" font-size=\"14.00\">&lt;expr&gt;</text>\n",
       "</g>\n",
       "<!-- 1&#45;&gt;2 -->\n",
       "<g id=\"edge2\" class=\"edge\">\n",
       "<title>1&#45;&gt;2</title>\n",
       "<path fill=\"none\" stroke=\"black\" d=\"M60.61,-50.46C53.99,-43.51 42.78,-31.75 33.85,-22.39\"/>\n",
       "<polygon fill=\"black\" stroke=\"black\" points=\"36.41,-20.01 26.98,-15.19 31.35,-24.84 36.41,-20.01\"/>\n",
       "</g>\n",
       "<!-- 3 -->\n",
       "<g id=\"node4\" class=\"node\">\n",
       "<title>3</title>\n",
       "<text text-anchor=\"middle\" x=\"66.25\" y=\"-0.95\" font-family=\"Times,serif\" font-size=\"14.00\"> + </text>\n",
       "</g>\n",
       "<!-- 1&#45;&gt;3 -->\n",
       "<g id=\"edge3\" class=\"edge\">\n",
       "<title>1&#45;&gt;3</title>\n",
       "<path fill=\"none\" stroke=\"black\" d=\"M66.25,-50.46C66.25,-44.24 66.25,-34.15 66.25,-25.39\"/>\n",
       "<polygon fill=\"black\" stroke=\"black\" points=\"69.75,-25.6 66.25,-15.6 62.75,-25.6 69.75,-25.6\"/>\n",
       "</g>\n",
       "<!-- 4 -->\n",
       "<g id=\"node5\" class=\"node\">\n",
       "<title>4</title>\n",
       "<text text-anchor=\"middle\" x=\"113.25\" y=\"-0.95\" font-family=\"Times,serif\" font-size=\"14.00\">&lt;term&gt;</text>\n",
       "</g>\n",
       "<!-- 1&#45;&gt;4 -->\n",
       "<g id=\"edge4\" class=\"edge\">\n",
       "<title>1&#45;&gt;4</title>\n",
       "<path fill=\"none\" stroke=\"black\" d=\"M72.01,-50.46C78.85,-43.44 90.47,-31.51 99.64,-22.1\"/>\n",
       "<polygon fill=\"black\" stroke=\"black\" points=\"101.91,-24.78 106.38,-15.17 96.9,-19.9 101.91,-24.78\"/>\n",
       "</g>\n",
       "</g>\n",
       "</svg>\n"
      ],
      "text/plain": [
       "<graphviz.graphs.Digraph at 0x15d56d0c0>"
      ]
     },
     "execution_count": 114,
     "metadata": {},
     "output_type": "execute_result"
    }
   ],
   "source": [
    "display_tree(initial_derivation_tree)"
   ]
  },
  {
   "cell_type": "markdown",
   "metadata": {
    "slideshow": {
     "slide_type": "subslide"
    }
   },
   "source": [
    "We now apply our expansion strategy on this tree.  We see that initially, nodes are expanded at maximum cost, then randomly, and then closing the expansion at minimum cost."
   ]
  },
  {
   "cell_type": "code",
   "execution_count": 115,
   "metadata": {
    "button": false,
    "execution": {
     "iopub.execute_input": "2024-06-29T16:13:22.613372Z",
     "iopub.status.busy": "2024-06-29T16:13:22.613246Z",
     "iopub.status.idle": "2024-06-29T16:13:22.618077Z",
     "shell.execute_reply": "2024-06-29T16:13:22.617796Z"
    },
    "new_sheet": false,
    "run_control": {
     "read_only": false
    },
    "slideshow": {
     "slide_type": "subslide"
    }
   },
   "outputs": [
    {
     "name": "stdout",
     "output_type": "stream",
     "text": [
      "Tree: <expr> + <term>\n",
      "Expanding <term> at maximum cost\n",
      "Tree: <expr> + <factor> / <term>\n",
      "Expanding <expr> randomly\n",
      "Tree: <term> + <expr> + <factor> / <term>\n",
      "Expanding <expr> randomly\n",
      "Tree: <term> + <term> + <expr> + <factor> / <term>\n",
      "Expanding <term> at minimum cost\n",
      "Tree: <term> + <term> + <expr> + <factor> / <factor>\n",
      "Expanding <factor> at minimum cost\n",
      "Tree: <term> + <term> + <expr> + <integer> / <factor>\n",
      "Expanding <factor> at minimum cost\n",
      "Tree: <term> + <term> + <expr> + <integer> / <integer>\n",
      "Expanding <term> at minimum cost\n",
      "Tree: <factor> + <term> + <expr> + <integer> / <integer>\n",
      "Expanding <expr> at minimum cost\n",
      "Tree: <factor> + <term> + <term> + <integer> / <integer>\n",
      "Expanding <integer> at minimum cost\n",
      "Tree: <factor> + <term> + <term> + <integer> / <digit>\n",
      "Expanding <integer> at minimum cost\n",
      "Tree: <factor> + <term> + <term> + <digit> / <digit>\n",
      "Expanding <digit> at minimum cost\n",
      "Tree: <factor> + <term> + <term> + <digit> / 2\n",
      "Expanding <digit> at minimum cost\n",
      "Tree: <factor> + <term> + <term> + 4 / 2\n",
      "Expanding <term> at minimum cost\n",
      "Tree: <factor> + <factor> + <term> + 4 / 2\n",
      "Expanding <factor> at minimum cost\n",
      "Tree: <integer> + <factor> + <term> + 4 / 2\n",
      "Expanding <factor> at minimum cost\n",
      "Tree: <integer> + <integer> + <term> + 4 / 2\n",
      "Expanding <integer> at minimum cost\n",
      "Tree: <integer> + <digit> + <term> + 4 / 2\n",
      "Expanding <integer> at minimum cost\n",
      "Tree: <digit> + <digit> + <term> + 4 / 2\n",
      "Expanding <digit> at minimum cost\n",
      "Tree: <digit> + 0 + <term> + 4 / 2\n",
      "Expanding <term> at minimum cost\n",
      "Tree: <digit> + 0 + <factor> + 4 / 2\n",
      "Expanding <factor> at minimum cost\n",
      "Tree: <digit> + 0 + <integer> + 4 / 2\n",
      "Expanding <digit> at minimum cost\n",
      "Tree: 0 + 0 + <integer> + 4 / 2\n",
      "Expanding <integer> at minimum cost\n",
      "Tree: 0 + 0 + <digit> + 4 / 2\n",
      "Expanding <digit> at minimum cost\n",
      "Tree: 0 + 0 + 1 + 4 / 2\n"
     ]
    }
   ],
   "source": [
    "f = GrammarFuzzer(\n",
    "    EXPR_GRAMMAR,\n",
    "    min_nonterminals=3,\n",
    "    max_nonterminals=5,\n",
    "    log=True)\n",
    "derivation_tree = f.expand_tree(initial_derivation_tree)"
   ]
  },
  {
   "cell_type": "markdown",
   "metadata": {
    "slideshow": {
     "slide_type": "subslide"
    }
   },
   "source": [
    "This is the final derivation tree:"
   ]
  },
  {
   "cell_type": "code",
   "execution_count": 116,
   "metadata": {
    "button": false,
    "execution": {
     "iopub.execute_input": "2024-06-29T16:13:22.620303Z",
     "iopub.status.busy": "2024-06-29T16:13:22.620106Z",
     "iopub.status.idle": "2024-06-29T16:13:23.058068Z",
     "shell.execute_reply": "2024-06-29T16:13:23.057614Z"
    },
    "new_sheet": false,
    "run_control": {
     "read_only": false
    },
    "slideshow": {
     "slide_type": "subslide"
    }
   },
   "outputs": [
    {
     "data": {
      "image/svg+xml": [
       "<?xml version=\"1.0\" encoding=\"UTF-8\" standalone=\"no\"?>\n",
       "<!DOCTYPE svg PUBLIC \"-//W3C//DTD SVG 1.1//EN\"\n",
       " \"http://www.w3.org/Graphics/SVG/1.1/DTD/svg11.dtd\">\n",
       "<!-- Generated by graphviz version 11.0.0 (20240428.1522)\n",
       " -->\n",
       "<!-- Pages: 1 -->\n",
       "<svg width=\"368pt\" height=\"475pt\"\n",
       " viewBox=\"0.00 0.00 368.00 474.50\" xmlns=\"http://www.w3.org/2000/svg\" xmlns:xlink=\"http://www.w3.org/1999/xlink\">\n",
       "<g id=\"graph0\" class=\"graph\" transform=\"scale(1 1) rotate(0) translate(4 470.5)\">\n",
       "<polygon fill=\"white\" stroke=\"none\" points=\"-4,4 -4,-470.5 364,-470.5 364,4 -4,4\"/>\n",
       "<!-- 0 -->\n",
       "<g id=\"node1\" class=\"node\">\n",
       "<title>0</title>\n",
       "<text text-anchor=\"middle\" x=\"195\" y=\"-453.2\" font-family=\"Times,serif\" font-size=\"14.00\">&lt;start&gt;</text>\n",
       "</g>\n",
       "<!-- 1 -->\n",
       "<g id=\"node2\" class=\"node\">\n",
       "<title>1</title>\n",
       "<text text-anchor=\"middle\" x=\"195\" y=\"-402.95\" font-family=\"Times,serif\" font-size=\"14.00\">&lt;expr&gt;</text>\n",
       "</g>\n",
       "<!-- 0&#45;&gt;1 -->\n",
       "<g id=\"edge1\" class=\"edge\">\n",
       "<title>0&#45;&gt;1</title>\n",
       "<path fill=\"none\" stroke=\"black\" d=\"M195,-452.46C195,-446.24 195,-436.15 195,-427.39\"/>\n",
       "<polygon fill=\"black\" stroke=\"black\" points=\"198.5,-427.6 195,-417.6 191.5,-427.6 198.5,-427.6\"/>\n",
       "</g>\n",
       "<!-- 2 -->\n",
       "<g id=\"node3\" class=\"node\">\n",
       "<title>2</title>\n",
       "<text text-anchor=\"middle\" x=\"129\" y=\"-352.7\" font-family=\"Times,serif\" font-size=\"14.00\">&lt;expr&gt;</text>\n",
       "</g>\n",
       "<!-- 1&#45;&gt;2 -->\n",
       "<g id=\"edge2\" class=\"edge\">\n",
       "<title>1&#45;&gt;2</title>\n",
       "<path fill=\"none\" stroke=\"black\" d=\"M186.64,-402.01C176.47,-394.58 159.04,-381.84 146,-372.31\"/>\n",
       "<polygon fill=\"black\" stroke=\"black\" points=\"148.44,-369.75 138.31,-366.68 144.31,-375.41 148.44,-369.75\"/>\n",
       "</g>\n",
       "<!-- 22 -->\n",
       "<g id=\"node23\" class=\"node\">\n",
       "<title>22</title>\n",
       "<text text-anchor=\"middle\" x=\"195\" y=\"-352.7\" font-family=\"Times,serif\" font-size=\"14.00\"> + </text>\n",
       "</g>\n",
       "<!-- 1&#45;&gt;22 -->\n",
       "<g id=\"edge22\" class=\"edge\">\n",
       "<title>1&#45;&gt;22</title>\n",
       "<path fill=\"none\" stroke=\"black\" d=\"M195,-402.21C195,-395.99 195,-385.9 195,-377.14\"/>\n",
       "<polygon fill=\"black\" stroke=\"black\" points=\"198.5,-377.35 195,-367.35 191.5,-377.35 198.5,-377.35\"/>\n",
       "</g>\n",
       "<!-- 23 -->\n",
       "<g id=\"node24\" class=\"node\">\n",
       "<title>23</title>\n",
       "<text text-anchor=\"middle\" x=\"252\" y=\"-352.7\" font-family=\"Times,serif\" font-size=\"14.00\">&lt;term&gt;</text>\n",
       "</g>\n",
       "<!-- 1&#45;&gt;23 -->\n",
       "<g id=\"edge23\" class=\"edge\">\n",
       "<title>1&#45;&gt;23</title>\n",
       "<path fill=\"none\" stroke=\"black\" d=\"M201.99,-402.21C210.45,-395.05 224.96,-382.76 236.18,-373.27\"/>\n",
       "<polygon fill=\"black\" stroke=\"black\" points=\"238.43,-375.95 243.8,-366.82 233.9,-370.61 238.43,-375.95\"/>\n",
       "</g>\n",
       "<!-- 3 -->\n",
       "<g id=\"node4\" class=\"node\">\n",
       "<title>3</title>\n",
       "<text text-anchor=\"middle\" x=\"40\" y=\"-302.45\" font-family=\"Times,serif\" font-size=\"14.00\">&lt;term&gt;</text>\n",
       "</g>\n",
       "<!-- 2&#45;&gt;3 -->\n",
       "<g id=\"edge3\" class=\"edge\">\n",
       "<title>2&#45;&gt;3</title>\n",
       "<path fill=\"none\" stroke=\"black\" d=\"M117.73,-351.76C103.55,-344.08 78.92,-330.72 61.18,-321.11\"/>\n",
       "<polygon fill=\"black\" stroke=\"black\" points=\"62.97,-318.1 52.51,-316.41 59.63,-324.25 62.97,-318.1\"/>\n",
       "</g>\n",
       "<!-- 8 -->\n",
       "<g id=\"node9\" class=\"node\">\n",
       "<title>8</title>\n",
       "<text text-anchor=\"middle\" x=\"95\" y=\"-302.45\" font-family=\"Times,serif\" font-size=\"14.00\"> + </text>\n",
       "</g>\n",
       "<!-- 2&#45;&gt;8 -->\n",
       "<g id=\"edge8\" class=\"edge\">\n",
       "<title>2&#45;&gt;8</title>\n",
       "<path fill=\"none\" stroke=\"black\" d=\"M124.83,-351.96C120.09,-345.23 112.17,-333.98 105.68,-324.77\"/>\n",
       "<polygon fill=\"black\" stroke=\"black\" points=\"108.7,-322.99 100.07,-316.83 102.97,-327.02 108.7,-322.99\"/>\n",
       "</g>\n",
       "<!-- 9 -->\n",
       "<g id=\"node10\" class=\"node\">\n",
       "<title>9</title>\n",
       "<text text-anchor=\"middle\" x=\"141\" y=\"-302.45\" font-family=\"Times,serif\" font-size=\"14.00\">&lt;expr&gt;</text>\n",
       "</g>\n",
       "<!-- 2&#45;&gt;9 -->\n",
       "<g id=\"edge9\" class=\"edge\">\n",
       "<title>2&#45;&gt;9</title>\n",
       "<path fill=\"none\" stroke=\"black\" d=\"M130.47,-351.96C132.04,-345.66 134.59,-335.42 136.78,-326.58\"/>\n",
       "<polygon fill=\"black\" stroke=\"black\" points=\"140.13,-327.61 139.15,-317.06 133.34,-325.92 140.13,-327.61\"/>\n",
       "</g>\n",
       "<!-- 4 -->\n",
       "<g id=\"node5\" class=\"node\">\n",
       "<title>4</title>\n",
       "<text text-anchor=\"middle\" x=\"30\" y=\"-252.2\" font-family=\"Times,serif\" font-size=\"14.00\">&lt;factor&gt;</text>\n",
       "</g>\n",
       "<!-- 3&#45;&gt;4 -->\n",
       "<g id=\"edge4\" class=\"edge\">\n",
       "<title>3&#45;&gt;4</title>\n",
       "<path fill=\"none\" stroke=\"black\" d=\"M38.77,-301.71C37.47,-295.41 35.35,-285.17 33.51,-276.33\"/>\n",
       "<polygon fill=\"black\" stroke=\"black\" points=\"37,-275.9 31.54,-266.82 30.15,-277.32 37,-275.9\"/>\n",
       "</g>\n",
       "<!-- 5 -->\n",
       "<g id=\"node6\" class=\"node\">\n",
       "<title>5</title>\n",
       "<text text-anchor=\"middle\" x=\"27\" y=\"-201.95\" font-family=\"Times,serif\" font-size=\"14.00\">&lt;integer&gt;</text>\n",
       "</g>\n",
       "<!-- 4&#45;&gt;5 -->\n",
       "<g id=\"edge5\" class=\"edge\">\n",
       "<title>4&#45;&gt;5</title>\n",
       "<path fill=\"none\" stroke=\"black\" d=\"M29.63,-251.46C29.25,-245.24 28.62,-235.15 28.07,-226.39\"/>\n",
       "<polygon fill=\"black\" stroke=\"black\" points=\"31.58,-226.36 27.46,-216.6 24.59,-226.8 31.58,-226.36\"/>\n",
       "</g>\n",
       "<!-- 6 -->\n",
       "<g id=\"node7\" class=\"node\">\n",
       "<title>6</title>\n",
       "<text text-anchor=\"middle\" x=\"27\" y=\"-151.7\" font-family=\"Times,serif\" font-size=\"14.00\">&lt;digit&gt;</text>\n",
       "</g>\n",
       "<!-- 5&#45;&gt;6 -->\n",
       "<g id=\"edge6\" class=\"edge\">\n",
       "<title>5&#45;&gt;6</title>\n",
       "<path fill=\"none\" stroke=\"black\" d=\"M27,-201.21C27,-194.99 27,-184.9 27,-176.14\"/>\n",
       "<polygon fill=\"black\" stroke=\"black\" points=\"30.5,-176.35 27,-166.35 23.5,-176.35 30.5,-176.35\"/>\n",
       "</g>\n",
       "<!-- 7 -->\n",
       "<g id=\"node8\" class=\"node\">\n",
       "<title>7</title>\n",
       "<text text-anchor=\"middle\" x=\"27\" y=\"-101.45\" font-family=\"Times,serif\" font-size=\"14.00\">0 (48)</text>\n",
       "</g>\n",
       "<!-- 6&#45;&gt;7 -->\n",
       "<g id=\"edge7\" class=\"edge\">\n",
       "<title>6&#45;&gt;7</title>\n",
       "<path fill=\"none\" stroke=\"black\" d=\"M27,-150.96C27,-144.74 27,-134.65 27,-125.89\"/>\n",
       "<polygon fill=\"black\" stroke=\"black\" points=\"30.5,-126.1 27,-116.1 23.5,-126.1 30.5,-126.1\"/>\n",
       "</g>\n",
       "<!-- 10 -->\n",
       "<g id=\"node11\" class=\"node\">\n",
       "<title>10</title>\n",
       "<text text-anchor=\"middle\" x=\"94\" y=\"-252.2\" font-family=\"Times,serif\" font-size=\"14.00\">&lt;term&gt;</text>\n",
       "</g>\n",
       "<!-- 9&#45;&gt;10 -->\n",
       "<g id=\"edge10\" class=\"edge\">\n",
       "<title>9&#45;&gt;10</title>\n",
       "<path fill=\"none\" stroke=\"black\" d=\"M135.24,-301.71C128.4,-294.69 116.78,-282.76 107.61,-273.35\"/>\n",
       "<polygon fill=\"black\" stroke=\"black\" points=\"110.35,-271.15 100.87,-266.42 105.34,-276.03 110.35,-271.15\"/>\n",
       "</g>\n",
       "<!-- 15 -->\n",
       "<g id=\"node16\" class=\"node\">\n",
       "<title>15</title>\n",
       "<text text-anchor=\"middle\" x=\"141\" y=\"-252.2\" font-family=\"Times,serif\" font-size=\"14.00\"> + </text>\n",
       "</g>\n",
       "<!-- 9&#45;&gt;15 -->\n",
       "<g id=\"edge15\" class=\"edge\">\n",
       "<title>9&#45;&gt;15</title>\n",
       "<path fill=\"none\" stroke=\"black\" d=\"M141,-301.71C141,-295.49 141,-285.4 141,-276.64\"/>\n",
       "<polygon fill=\"black\" stroke=\"black\" points=\"144.5,-276.85 141,-266.85 137.5,-276.85 144.5,-276.85\"/>\n",
       "</g>\n",
       "<!-- 16 -->\n",
       "<g id=\"node17\" class=\"node\">\n",
       "<title>16</title>\n",
       "<text text-anchor=\"middle\" x=\"187\" y=\"-252.2\" font-family=\"Times,serif\" font-size=\"14.00\">&lt;expr&gt;</text>\n",
       "</g>\n",
       "<!-- 9&#45;&gt;16 -->\n",
       "<g id=\"edge16\" class=\"edge\">\n",
       "<title>9&#45;&gt;16</title>\n",
       "<path fill=\"none\" stroke=\"black\" d=\"M146.64,-301.71C153.26,-294.76 164.47,-283 173.4,-273.64\"/>\n",
       "<polygon fill=\"black\" stroke=\"black\" points=\"175.9,-276.09 180.27,-266.44 170.84,-271.26 175.9,-276.09\"/>\n",
       "</g>\n",
       "<!-- 11 -->\n",
       "<g id=\"node12\" class=\"node\">\n",
       "<title>11</title>\n",
       "<text text-anchor=\"middle\" x=\"96\" y=\"-201.95\" font-family=\"Times,serif\" font-size=\"14.00\">&lt;factor&gt;</text>\n",
       "</g>\n",
       "<!-- 10&#45;&gt;11 -->\n",
       "<g id=\"edge11\" class=\"edge\">\n",
       "<title>10&#45;&gt;11</title>\n",
       "<path fill=\"none\" stroke=\"black\" d=\"M94.25,-251.46C94.5,-245.24 94.92,-235.15 95.28,-226.39\"/>\n",
       "<polygon fill=\"black\" stroke=\"black\" points=\"98.77,-226.74 95.69,-216.6 91.78,-226.45 98.77,-226.74\"/>\n",
       "</g>\n",
       "<!-- 12 -->\n",
       "<g id=\"node13\" class=\"node\">\n",
       "<title>12</title>\n",
       "<text text-anchor=\"middle\" x=\"96\" y=\"-151.7\" font-family=\"Times,serif\" font-size=\"14.00\">&lt;integer&gt;</text>\n",
       "</g>\n",
       "<!-- 11&#45;&gt;12 -->\n",
       "<g id=\"edge12\" class=\"edge\">\n",
       "<title>11&#45;&gt;12</title>\n",
       "<path fill=\"none\" stroke=\"black\" d=\"M96,-201.21C96,-194.99 96,-184.9 96,-176.14\"/>\n",
       "<polygon fill=\"black\" stroke=\"black\" points=\"99.5,-176.35 96,-166.35 92.5,-176.35 99.5,-176.35\"/>\n",
       "</g>\n",
       "<!-- 13 -->\n",
       "<g id=\"node14\" class=\"node\">\n",
       "<title>13</title>\n",
       "<text text-anchor=\"middle\" x=\"96\" y=\"-101.45\" font-family=\"Times,serif\" font-size=\"14.00\">&lt;digit&gt;</text>\n",
       "</g>\n",
       "<!-- 12&#45;&gt;13 -->\n",
       "<g id=\"edge13\" class=\"edge\">\n",
       "<title>12&#45;&gt;13</title>\n",
       "<path fill=\"none\" stroke=\"black\" d=\"M96,-150.96C96,-144.74 96,-134.65 96,-125.89\"/>\n",
       "<polygon fill=\"black\" stroke=\"black\" points=\"99.5,-126.1 96,-116.1 92.5,-126.1 99.5,-126.1\"/>\n",
       "</g>\n",
       "<!-- 14 -->\n",
       "<g id=\"node15\" class=\"node\">\n",
       "<title>14</title>\n",
       "<text text-anchor=\"middle\" x=\"96\" y=\"-51.2\" font-family=\"Times,serif\" font-size=\"14.00\">0 (48)</text>\n",
       "</g>\n",
       "<!-- 13&#45;&gt;14 -->\n",
       "<g id=\"edge14\" class=\"edge\">\n",
       "<title>13&#45;&gt;14</title>\n",
       "<path fill=\"none\" stroke=\"black\" d=\"M96,-100.71C96,-94.49 96,-84.4 96,-75.64\"/>\n",
       "<polygon fill=\"black\" stroke=\"black\" points=\"99.5,-75.85 96,-65.85 92.5,-75.85 99.5,-75.85\"/>\n",
       "</g>\n",
       "<!-- 17 -->\n",
       "<g id=\"node18\" class=\"node\">\n",
       "<title>17</title>\n",
       "<text text-anchor=\"middle\" x=\"187\" y=\"-201.95\" font-family=\"Times,serif\" font-size=\"14.00\">&lt;term&gt;</text>\n",
       "</g>\n",
       "<!-- 16&#45;&gt;17 -->\n",
       "<g id=\"edge17\" class=\"edge\">\n",
       "<title>16&#45;&gt;17</title>\n",
       "<path fill=\"none\" stroke=\"black\" d=\"M187,-251.46C187,-245.24 187,-235.15 187,-226.39\"/>\n",
       "<polygon fill=\"black\" stroke=\"black\" points=\"190.5,-226.6 187,-216.6 183.5,-226.6 190.5,-226.6\"/>\n",
       "</g>\n",
       "<!-- 18 -->\n",
       "<g id=\"node19\" class=\"node\">\n",
       "<title>18</title>\n",
       "<text text-anchor=\"middle\" x=\"187\" y=\"-151.7\" font-family=\"Times,serif\" font-size=\"14.00\">&lt;factor&gt;</text>\n",
       "</g>\n",
       "<!-- 17&#45;&gt;18 -->\n",
       "<g id=\"edge18\" class=\"edge\">\n",
       "<title>17&#45;&gt;18</title>\n",
       "<path fill=\"none\" stroke=\"black\" d=\"M187,-201.21C187,-194.99 187,-184.9 187,-176.14\"/>\n",
       "<polygon fill=\"black\" stroke=\"black\" points=\"190.5,-176.35 187,-166.35 183.5,-176.35 190.5,-176.35\"/>\n",
       "</g>\n",
       "<!-- 19 -->\n",
       "<g id=\"node20\" class=\"node\">\n",
       "<title>19</title>\n",
       "<text text-anchor=\"middle\" x=\"187\" y=\"-101.45\" font-family=\"Times,serif\" font-size=\"14.00\">&lt;integer&gt;</text>\n",
       "</g>\n",
       "<!-- 18&#45;&gt;19 -->\n",
       "<g id=\"edge19\" class=\"edge\">\n",
       "<title>18&#45;&gt;19</title>\n",
       "<path fill=\"none\" stroke=\"black\" d=\"M187,-150.96C187,-144.74 187,-134.65 187,-125.89\"/>\n",
       "<polygon fill=\"black\" stroke=\"black\" points=\"190.5,-126.1 187,-116.1 183.5,-126.1 190.5,-126.1\"/>\n",
       "</g>\n",
       "<!-- 20 -->\n",
       "<g id=\"node21\" class=\"node\">\n",
       "<title>20</title>\n",
       "<text text-anchor=\"middle\" x=\"187\" y=\"-51.2\" font-family=\"Times,serif\" font-size=\"14.00\">&lt;digit&gt;</text>\n",
       "</g>\n",
       "<!-- 19&#45;&gt;20 -->\n",
       "<g id=\"edge20\" class=\"edge\">\n",
       "<title>19&#45;&gt;20</title>\n",
       "<path fill=\"none\" stroke=\"black\" d=\"M187,-100.71C187,-94.49 187,-84.4 187,-75.64\"/>\n",
       "<polygon fill=\"black\" stroke=\"black\" points=\"190.5,-75.85 187,-65.85 183.5,-75.85 190.5,-75.85\"/>\n",
       "</g>\n",
       "<!-- 21 -->\n",
       "<g id=\"node22\" class=\"node\">\n",
       "<title>21</title>\n",
       "<text text-anchor=\"middle\" x=\"187\" y=\"-0.95\" font-family=\"Times,serif\" font-size=\"14.00\">1 (49)</text>\n",
       "</g>\n",
       "<!-- 20&#45;&gt;21 -->\n",
       "<g id=\"edge21\" class=\"edge\">\n",
       "<title>20&#45;&gt;21</title>\n",
       "<path fill=\"none\" stroke=\"black\" d=\"M187,-50.46C187,-44.24 187,-34.15 187,-25.39\"/>\n",
       "<polygon fill=\"black\" stroke=\"black\" points=\"190.5,-25.6 187,-15.6 183.5,-25.6 190.5,-25.6\"/>\n",
       "</g>\n",
       "<!-- 24 -->\n",
       "<g id=\"node25\" class=\"node\">\n",
       "<title>24</title>\n",
       "<text text-anchor=\"middle\" x=\"240\" y=\"-302.45\" font-family=\"Times,serif\" font-size=\"14.00\">&lt;factor&gt;</text>\n",
       "</g>\n",
       "<!-- 23&#45;&gt;24 -->\n",
       "<g id=\"edge24\" class=\"edge\">\n",
       "<title>23&#45;&gt;24</title>\n",
       "<path fill=\"none\" stroke=\"black\" d=\"M250.53,-351.96C248.96,-345.66 246.41,-335.42 244.22,-326.58\"/>\n",
       "<polygon fill=\"black\" stroke=\"black\" points=\"247.66,-325.92 241.85,-317.06 240.87,-327.61 247.66,-325.92\"/>\n",
       "</g>\n",
       "<!-- 28 -->\n",
       "<g id=\"node29\" class=\"node\">\n",
       "<title>28</title>\n",
       "<text text-anchor=\"middle\" x=\"288\" y=\"-302.45\" font-family=\"Times,serif\" font-size=\"14.00\"> / </text>\n",
       "</g>\n",
       "<!-- 23&#45;&gt;28 -->\n",
       "<g id=\"edge28\" class=\"edge\">\n",
       "<title>23&#45;&gt;28</title>\n",
       "<path fill=\"none\" stroke=\"black\" d=\"M256.41,-351.96C261.43,-345.23 269.83,-333.98 276.7,-324.77\"/>\n",
       "<polygon fill=\"black\" stroke=\"black\" points=\"279.47,-326.91 282.64,-316.8 273.86,-322.72 279.47,-326.91\"/>\n",
       "</g>\n",
       "<!-- 29 -->\n",
       "<g id=\"node30\" class=\"node\">\n",
       "<title>29</title>\n",
       "<text text-anchor=\"middle\" x=\"333\" y=\"-302.45\" font-family=\"Times,serif\" font-size=\"14.00\">&lt;term&gt;</text>\n",
       "</g>\n",
       "<!-- 23&#45;&gt;29 -->\n",
       "<g id=\"edge29\" class=\"edge\">\n",
       "<title>23&#45;&gt;29</title>\n",
       "<path fill=\"none\" stroke=\"black\" d=\"M262.26,-351.76C275.04,-344.15 297.16,-330.98 313.27,-321.38\"/>\n",
       "<polygon fill=\"black\" stroke=\"black\" points=\"314.72,-324.59 321.52,-316.46 311.14,-318.57 314.72,-324.59\"/>\n",
       "</g>\n",
       "<!-- 25 -->\n",
       "<g id=\"node26\" class=\"node\">\n",
       "<title>25</title>\n",
       "<text text-anchor=\"middle\" x=\"252\" y=\"-252.2\" font-family=\"Times,serif\" font-size=\"14.00\">&lt;integer&gt;</text>\n",
       "</g>\n",
       "<!-- 24&#45;&gt;25 -->\n",
       "<g id=\"edge25\" class=\"edge\">\n",
       "<title>24&#45;&gt;25</title>\n",
       "<path fill=\"none\" stroke=\"black\" d=\"M241.47,-301.71C243.04,-295.41 245.59,-285.17 247.78,-276.33\"/>\n",
       "<polygon fill=\"black\" stroke=\"black\" points=\"251.13,-277.36 250.15,-266.81 244.34,-275.67 251.13,-277.36\"/>\n",
       "</g>\n",
       "<!-- 26 -->\n",
       "<g id=\"node27\" class=\"node\">\n",
       "<title>26</title>\n",
       "<text text-anchor=\"middle\" x=\"252\" y=\"-201.95\" font-family=\"Times,serif\" font-size=\"14.00\">&lt;digit&gt;</text>\n",
       "</g>\n",
       "<!-- 25&#45;&gt;26 -->\n",
       "<g id=\"edge26\" class=\"edge\">\n",
       "<title>25&#45;&gt;26</title>\n",
       "<path fill=\"none\" stroke=\"black\" d=\"M252,-251.46C252,-245.24 252,-235.15 252,-226.39\"/>\n",
       "<polygon fill=\"black\" stroke=\"black\" points=\"255.5,-226.6 252,-216.6 248.5,-226.6 255.5,-226.6\"/>\n",
       "</g>\n",
       "<!-- 27 -->\n",
       "<g id=\"node28\" class=\"node\">\n",
       "<title>27</title>\n",
       "<text text-anchor=\"middle\" x=\"252\" y=\"-151.7\" font-family=\"Times,serif\" font-size=\"14.00\">4 (52)</text>\n",
       "</g>\n",
       "<!-- 26&#45;&gt;27 -->\n",
       "<g id=\"edge27\" class=\"edge\">\n",
       "<title>26&#45;&gt;27</title>\n",
       "<path fill=\"none\" stroke=\"black\" d=\"M252,-201.21C252,-194.99 252,-184.9 252,-176.14\"/>\n",
       "<polygon fill=\"black\" stroke=\"black\" points=\"255.5,-176.35 252,-166.35 248.5,-176.35 255.5,-176.35\"/>\n",
       "</g>\n",
       "<!-- 30 -->\n",
       "<g id=\"node31\" class=\"node\">\n",
       "<title>30</title>\n",
       "<text text-anchor=\"middle\" x=\"333\" y=\"-252.2\" font-family=\"Times,serif\" font-size=\"14.00\">&lt;factor&gt;</text>\n",
       "</g>\n",
       "<!-- 29&#45;&gt;30 -->\n",
       "<g id=\"edge30\" class=\"edge\">\n",
       "<title>29&#45;&gt;30</title>\n",
       "<path fill=\"none\" stroke=\"black\" d=\"M333,-301.71C333,-295.49 333,-285.4 333,-276.64\"/>\n",
       "<polygon fill=\"black\" stroke=\"black\" points=\"336.5,-276.85 333,-266.85 329.5,-276.85 336.5,-276.85\"/>\n",
       "</g>\n",
       "<!-- 31 -->\n",
       "<g id=\"node32\" class=\"node\">\n",
       "<title>31</title>\n",
       "<text text-anchor=\"middle\" x=\"333\" y=\"-201.95\" font-family=\"Times,serif\" font-size=\"14.00\">&lt;integer&gt;</text>\n",
       "</g>\n",
       "<!-- 30&#45;&gt;31 -->\n",
       "<g id=\"edge31\" class=\"edge\">\n",
       "<title>30&#45;&gt;31</title>\n",
       "<path fill=\"none\" stroke=\"black\" d=\"M333,-251.46C333,-245.24 333,-235.15 333,-226.39\"/>\n",
       "<polygon fill=\"black\" stroke=\"black\" points=\"336.5,-226.6 333,-216.6 329.5,-226.6 336.5,-226.6\"/>\n",
       "</g>\n",
       "<!-- 32 -->\n",
       "<g id=\"node33\" class=\"node\">\n",
       "<title>32</title>\n",
       "<text text-anchor=\"middle\" x=\"333\" y=\"-151.7\" font-family=\"Times,serif\" font-size=\"14.00\">&lt;digit&gt;</text>\n",
       "</g>\n",
       "<!-- 31&#45;&gt;32 -->\n",
       "<g id=\"edge32\" class=\"edge\">\n",
       "<title>31&#45;&gt;32</title>\n",
       "<path fill=\"none\" stroke=\"black\" d=\"M333,-201.21C333,-194.99 333,-184.9 333,-176.14\"/>\n",
       "<polygon fill=\"black\" stroke=\"black\" points=\"336.5,-176.35 333,-166.35 329.5,-176.35 336.5,-176.35\"/>\n",
       "</g>\n",
       "<!-- 33 -->\n",
       "<g id=\"node34\" class=\"node\">\n",
       "<title>33</title>\n",
       "<text text-anchor=\"middle\" x=\"333\" y=\"-101.45\" font-family=\"Times,serif\" font-size=\"14.00\">2 (50)</text>\n",
       "</g>\n",
       "<!-- 32&#45;&gt;33 -->\n",
       "<g id=\"edge33\" class=\"edge\">\n",
       "<title>32&#45;&gt;33</title>\n",
       "<path fill=\"none\" stroke=\"black\" d=\"M333,-150.96C333,-144.74 333,-134.65 333,-125.89\"/>\n",
       "<polygon fill=\"black\" stroke=\"black\" points=\"336.5,-126.1 333,-116.1 329.5,-126.1 336.5,-126.1\"/>\n",
       "</g>\n",
       "</g>\n",
       "</svg>\n"
      ],
      "text/plain": [
       "<graphviz.graphs.Digraph at 0x15d58e1a0>"
      ]
     },
     "execution_count": 116,
     "metadata": {},
     "output_type": "execute_result"
    }
   ],
   "source": [
    "display_tree(derivation_tree)"
   ]
  },
  {
   "cell_type": "markdown",
   "metadata": {
    "slideshow": {
     "slide_type": "fragment"
    }
   },
   "source": [
    "And this is the resulting string:"
   ]
  },
  {
   "cell_type": "code",
   "execution_count": 117,
   "metadata": {
    "button": false,
    "execution": {
     "iopub.execute_input": "2024-06-29T16:13:23.060266Z",
     "iopub.status.busy": "2024-06-29T16:13:23.060099Z",
     "iopub.status.idle": "2024-06-29T16:13:23.062777Z",
     "shell.execute_reply": "2024-06-29T16:13:23.062397Z"
    },
    "new_sheet": false,
    "run_control": {
     "read_only": false
    },
    "slideshow": {
     "slide_type": "subslide"
    }
   },
   "outputs": [
    {
     "data": {
      "text/plain": [
       "'0 + 0 + 1 + 4 / 2'"
      ]
     },
     "execution_count": 117,
     "metadata": {},
     "output_type": "execute_result"
    }
   ],
   "source": [
    "all_terminals(derivation_tree)"
   ]
  },
  {
   "cell_type": "markdown",
   "metadata": {
    "slideshow": {
     "slide_type": "slide"
    }
   },
   "source": [
    "## Putting it all Together"
   ]
  },
  {
   "cell_type": "markdown",
   "metadata": {
    "button": false,
    "new_sheet": false,
    "run_control": {
     "read_only": false
    },
    "slideshow": {
     "slide_type": "fragment"
    }
   },
   "source": [
    "Based on this, we can now define a function `fuzz()` that – like `simple_grammar_fuzzer()` – simply takes a grammar and produces a string from it.  It thus no longer exposes the complexity of derivation trees."
   ]
  },
  {
   "cell_type": "code",
   "execution_count": 118,
   "metadata": {
    "button": false,
    "execution": {
     "iopub.execute_input": "2024-06-29T16:13:23.064774Z",
     "iopub.status.busy": "2024-06-29T16:13:23.064611Z",
     "iopub.status.idle": "2024-06-29T16:13:23.067522Z",
     "shell.execute_reply": "2024-06-29T16:13:23.067174Z"
    },
    "new_sheet": false,
    "run_control": {
     "read_only": false
    },
    "slideshow": {
     "slide_type": "fragment"
    }
   },
   "outputs": [],
   "source": [
    "class GrammarFuzzer(GrammarFuzzer):\n",
    "    def fuzz_tree(self) -> DerivationTree:\n",
    "        \"\"\"Produce a derivation tree from the grammar.\"\"\"\n",
    "        tree = self.init_tree()\n",
    "        # print(tree)\n",
    "\n",
    "        # Expand all nonterminals\n",
    "        tree = self.expand_tree(tree)\n",
    "        if self.log:\n",
    "            print(repr(all_terminals(tree)))\n",
    "        if self.disp:\n",
    "            display(display_tree(tree))\n",
    "        return tree\n",
    "\n",
    "    def fuzz(self) -> str:\n",
    "        \"\"\"Produce a string from the grammar.\"\"\"\n",
    "        self.derivation_tree = self.fuzz_tree()\n",
    "        return all_terminals(self.derivation_tree)"
   ]
  },
  {
   "cell_type": "markdown",
   "metadata": {
    "button": false,
    "new_sheet": false,
    "run_control": {
     "read_only": false
    },
    "slideshow": {
     "slide_type": "subslide"
    }
   },
   "source": [
    "We can now apply this on all our defined grammars (and visualize the derivation tree along)"
   ]
  },
  {
   "cell_type": "code",
   "execution_count": 119,
   "metadata": {
    "button": false,
    "execution": {
     "iopub.execute_input": "2024-06-29T16:13:23.069414Z",
     "iopub.status.busy": "2024-06-29T16:13:23.069279Z",
     "iopub.status.idle": "2024-06-29T16:13:23.072548Z",
     "shell.execute_reply": "2024-06-29T16:13:23.072048Z"
    },
    "new_sheet": false,
    "run_control": {
     "read_only": false
    },
    "slideshow": {
     "slide_type": "fragment"
    }
   },
   "outputs": [
    {
     "data": {
      "text/plain": [
       "'+9'"
      ]
     },
     "execution_count": 119,
     "metadata": {},
     "output_type": "execute_result"
    }
   ],
   "source": [
    "f = GrammarFuzzer(EXPR_GRAMMAR)\n",
    "f.fuzz()"
   ]
  },
  {
   "cell_type": "markdown",
   "metadata": {
    "slideshow": {
     "slide_type": "subslide"
    }
   },
   "source": [
    "After calling `fuzz()`, the produced derivation tree is accessible in the `derivation_tree` attribute:"
   ]
  },
  {
   "cell_type": "code",
   "execution_count": 120,
   "metadata": {
    "button": false,
    "execution": {
     "iopub.execute_input": "2024-06-29T16:13:23.074236Z",
     "iopub.status.busy": "2024-06-29T16:13:23.074125Z",
     "iopub.status.idle": "2024-06-29T16:13:23.511351Z",
     "shell.execute_reply": "2024-06-29T16:13:23.510793Z"
    },
    "new_sheet": false,
    "run_control": {
     "read_only": false
    },
    "slideshow": {
     "slide_type": "fragment"
    }
   },
   "outputs": [
    {
     "data": {
      "image/svg+xml": [
       "<?xml version=\"1.0\" encoding=\"UTF-8\" standalone=\"no\"?>\n",
       "<!DOCTYPE svg PUBLIC \"-//W3C//DTD SVG 1.1//EN\"\n",
       " \"http://www.w3.org/Graphics/SVG/1.1/DTD/svg11.dtd\">\n",
       "<!-- Generated by graphviz version 11.0.0 (20240428.1522)\n",
       " -->\n",
       "<!-- Pages: 1 -->\n",
       "<svg width=\"111pt\" height=\"374pt\"\n",
       " viewBox=\"0.00 0.00 111.25 374.00\" xmlns=\"http://www.w3.org/2000/svg\" xmlns:xlink=\"http://www.w3.org/1999/xlink\">\n",
       "<g id=\"graph0\" class=\"graph\" transform=\"scale(1 1) rotate(0) translate(4 370)\">\n",
       "<polygon fill=\"white\" stroke=\"none\" points=\"-4,4 -4,-370 107.25,-370 107.25,4 -4,4\"/>\n",
       "<!-- 0 -->\n",
       "<g id=\"node1\" class=\"node\">\n",
       "<title>0</title>\n",
       "<text text-anchor=\"middle\" x=\"46.25\" y=\"-352.7\" font-family=\"Times,serif\" font-size=\"14.00\">&lt;start&gt;</text>\n",
       "</g>\n",
       "<!-- 1 -->\n",
       "<g id=\"node2\" class=\"node\">\n",
       "<title>1</title>\n",
       "<text text-anchor=\"middle\" x=\"46.25\" y=\"-302.45\" font-family=\"Times,serif\" font-size=\"14.00\">&lt;expr&gt;</text>\n",
       "</g>\n",
       "<!-- 0&#45;&gt;1 -->\n",
       "<g id=\"edge1\" class=\"edge\">\n",
       "<title>0&#45;&gt;1</title>\n",
       "<path fill=\"none\" stroke=\"black\" d=\"M46.25,-351.96C46.25,-345.74 46.25,-335.65 46.25,-326.89\"/>\n",
       "<polygon fill=\"black\" stroke=\"black\" points=\"49.75,-327.1 46.25,-317.1 42.75,-327.1 49.75,-327.1\"/>\n",
       "</g>\n",
       "<!-- 2 -->\n",
       "<g id=\"node3\" class=\"node\">\n",
       "<title>2</title>\n",
       "<text text-anchor=\"middle\" x=\"46.25\" y=\"-252.2\" font-family=\"Times,serif\" font-size=\"14.00\">&lt;term&gt;</text>\n",
       "</g>\n",
       "<!-- 1&#45;&gt;2 -->\n",
       "<g id=\"edge2\" class=\"edge\">\n",
       "<title>1&#45;&gt;2</title>\n",
       "<path fill=\"none\" stroke=\"black\" d=\"M46.25,-301.71C46.25,-295.49 46.25,-285.4 46.25,-276.64\"/>\n",
       "<polygon fill=\"black\" stroke=\"black\" points=\"49.75,-276.85 46.25,-266.85 42.75,-276.85 49.75,-276.85\"/>\n",
       "</g>\n",
       "<!-- 3 -->\n",
       "<g id=\"node4\" class=\"node\">\n",
       "<title>3</title>\n",
       "<text text-anchor=\"middle\" x=\"46.25\" y=\"-201.95\" font-family=\"Times,serif\" font-size=\"14.00\">&lt;factor&gt;</text>\n",
       "</g>\n",
       "<!-- 2&#45;&gt;3 -->\n",
       "<g id=\"edge3\" class=\"edge\">\n",
       "<title>2&#45;&gt;3</title>\n",
       "<path fill=\"none\" stroke=\"black\" d=\"M46.25,-251.46C46.25,-245.24 46.25,-235.15 46.25,-226.39\"/>\n",
       "<polygon fill=\"black\" stroke=\"black\" points=\"49.75,-226.6 46.25,-216.6 42.75,-226.6 49.75,-226.6\"/>\n",
       "</g>\n",
       "<!-- 4 -->\n",
       "<g id=\"node5\" class=\"node\">\n",
       "<title>4</title>\n",
       "<text text-anchor=\"middle\" x=\"17.25\" y=\"-151.7\" font-family=\"Times,serif\" font-size=\"14.00\">+ (43)</text>\n",
       "</g>\n",
       "<!-- 3&#45;&gt;4 -->\n",
       "<g id=\"edge4\" class=\"edge\">\n",
       "<title>3&#45;&gt;4</title>\n",
       "<path fill=\"none\" stroke=\"black\" d=\"M42.69,-201.21C38.74,-194.62 32.18,-183.72 26.71,-174.62\"/>\n",
       "<polygon fill=\"black\" stroke=\"black\" points=\"29.77,-172.91 21.61,-166.14 23.77,-176.51 29.77,-172.91\"/>\n",
       "</g>\n",
       "<!-- 5 -->\n",
       "<g id=\"node6\" class=\"node\">\n",
       "<title>5</title>\n",
       "<text text-anchor=\"middle\" x=\"76.25\" y=\"-151.7\" font-family=\"Times,serif\" font-size=\"14.00\">&lt;factor&gt;</text>\n",
       "</g>\n",
       "<!-- 3&#45;&gt;5 -->\n",
       "<g id=\"edge5\" class=\"edge\">\n",
       "<title>3&#45;&gt;5</title>\n",
       "<path fill=\"none\" stroke=\"black\" d=\"M49.93,-201.21C54.07,-194.55 60.95,-183.48 66.65,-174.32\"/>\n",
       "<polygon fill=\"black\" stroke=\"black\" points=\"69.43,-176.47 71.74,-166.13 63.49,-172.77 69.43,-176.47\"/>\n",
       "</g>\n",
       "<!-- 6 -->\n",
       "<g id=\"node7\" class=\"node\">\n",
       "<title>6</title>\n",
       "<text text-anchor=\"middle\" x=\"76.25\" y=\"-101.45\" font-family=\"Times,serif\" font-size=\"14.00\">&lt;integer&gt;</text>\n",
       "</g>\n",
       "<!-- 5&#45;&gt;6 -->\n",
       "<g id=\"edge6\" class=\"edge\">\n",
       "<title>5&#45;&gt;6</title>\n",
       "<path fill=\"none\" stroke=\"black\" d=\"M76.25,-150.96C76.25,-144.74 76.25,-134.65 76.25,-125.89\"/>\n",
       "<polygon fill=\"black\" stroke=\"black\" points=\"79.75,-126.1 76.25,-116.1 72.75,-126.1 79.75,-126.1\"/>\n",
       "</g>\n",
       "<!-- 7 -->\n",
       "<g id=\"node8\" class=\"node\">\n",
       "<title>7</title>\n",
       "<text text-anchor=\"middle\" x=\"76.25\" y=\"-51.2\" font-family=\"Times,serif\" font-size=\"14.00\">&lt;digit&gt;</text>\n",
       "</g>\n",
       "<!-- 6&#45;&gt;7 -->\n",
       "<g id=\"edge7\" class=\"edge\">\n",
       "<title>6&#45;&gt;7</title>\n",
       "<path fill=\"none\" stroke=\"black\" d=\"M76.25,-100.71C76.25,-94.49 76.25,-84.4 76.25,-75.64\"/>\n",
       "<polygon fill=\"black\" stroke=\"black\" points=\"79.75,-75.85 76.25,-65.85 72.75,-75.85 79.75,-75.85\"/>\n",
       "</g>\n",
       "<!-- 8 -->\n",
       "<g id=\"node9\" class=\"node\">\n",
       "<title>8</title>\n",
       "<text text-anchor=\"middle\" x=\"76.25\" y=\"-0.95\" font-family=\"Times,serif\" font-size=\"14.00\">9 (57)</text>\n",
       "</g>\n",
       "<!-- 7&#45;&gt;8 -->\n",
       "<g id=\"edge8\" class=\"edge\">\n",
       "<title>7&#45;&gt;8</title>\n",
       "<path fill=\"none\" stroke=\"black\" d=\"M76.25,-50.46C76.25,-44.24 76.25,-34.15 76.25,-25.39\"/>\n",
       "<polygon fill=\"black\" stroke=\"black\" points=\"79.75,-25.6 76.25,-15.6 72.75,-25.6 79.75,-25.6\"/>\n",
       "</g>\n",
       "</g>\n",
       "</svg>\n"
      ],
      "text/plain": [
       "<graphviz.graphs.Digraph at 0x15d58ee30>"
      ]
     },
     "execution_count": 120,
     "metadata": {},
     "output_type": "execute_result"
    }
   ],
   "source": [
    "display_tree(f.derivation_tree)"
   ]
  },
  {
   "cell_type": "markdown",
   "metadata": {
    "slideshow": {
     "slide_type": "subslide"
    }
   },
   "source": [
    "Let us try out the grammar fuzzer (and its trees) on other grammar formats."
   ]
  },
  {
   "cell_type": "code",
   "execution_count": 121,
   "metadata": {
    "button": false,
    "execution": {
     "iopub.execute_input": "2024-06-29T16:13:23.513636Z",
     "iopub.status.busy": "2024-06-29T16:13:23.513436Z",
     "iopub.status.idle": "2024-06-29T16:13:23.517027Z",
     "shell.execute_reply": "2024-06-29T16:13:23.516688Z"
    },
    "new_sheet": false,
    "run_control": {
     "read_only": false
    },
    "slideshow": {
     "slide_type": "fragment"
    }
   },
   "outputs": [
    {
     "data": {
      "text/plain": [
       "'http://cispa.saarland:8080/def?abc=x27'"
      ]
     },
     "execution_count": 121,
     "metadata": {},
     "output_type": "execute_result"
    }
   ],
   "source": [
    "f = GrammarFuzzer(URL_GRAMMAR)\n",
    "f.fuzz()"
   ]
  },
  {
   "cell_type": "code",
   "execution_count": 122,
   "metadata": {
    "execution": {
     "iopub.execute_input": "2024-06-29T16:13:23.518823Z",
     "iopub.status.busy": "2024-06-29T16:13:23.518617Z",
     "iopub.status.idle": "2024-06-29T16:13:23.941077Z",
     "shell.execute_reply": "2024-06-29T16:13:23.940677Z"
    },
    "slideshow": {
     "slide_type": "fragment"
    }
   },
   "outputs": [
    {
     "data": {
      "image/svg+xml": [
       "<?xml version=\"1.0\" encoding=\"UTF-8\" standalone=\"no\"?>\n",
       "<!DOCTYPE svg PUBLIC \"-//W3C//DTD SVG 1.1//EN\"\n",
       " \"http://www.w3.org/Graphics/SVG/1.1/DTD/svg11.dtd\">\n",
       "<!-- Generated by graphviz version 11.0.0 (20240428.1522)\n",
       " -->\n",
       "<!-- Pages: 1 -->\n",
       "<svg width=\"523pt\" height=\"374pt\"\n",
       " viewBox=\"0.00 0.00 522.50 374.00\" xmlns=\"http://www.w3.org/2000/svg\" xmlns:xlink=\"http://www.w3.org/1999/xlink\">\n",
       "<g id=\"graph0\" class=\"graph\" transform=\"scale(1 1) rotate(0) translate(4 370)\">\n",
       "<polygon fill=\"white\" stroke=\"none\" points=\"-4,4 -4,-370 518.5,-370 518.5,4 -4,4\"/>\n",
       "<!-- 0 -->\n",
       "<g id=\"node1\" class=\"node\">\n",
       "<title>0</title>\n",
       "<text text-anchor=\"middle\" x=\"149.88\" y=\"-352.7\" font-family=\"Times,serif\" font-size=\"14.00\">&lt;start&gt;</text>\n",
       "</g>\n",
       "<!-- 1 -->\n",
       "<g id=\"node2\" class=\"node\">\n",
       "<title>1</title>\n",
       "<text text-anchor=\"middle\" x=\"149.88\" y=\"-302.45\" font-family=\"Times,serif\" font-size=\"14.00\">&lt;url&gt;</text>\n",
       "</g>\n",
       "<!-- 0&#45;&gt;1 -->\n",
       "<g id=\"edge1\" class=\"edge\">\n",
       "<title>0&#45;&gt;1</title>\n",
       "<path fill=\"none\" stroke=\"black\" d=\"M149.88,-351.96C149.88,-345.74 149.88,-335.65 149.88,-326.89\"/>\n",
       "<polygon fill=\"black\" stroke=\"black\" points=\"153.38,-327.1 149.88,-317.1 146.38,-327.1 153.38,-327.1\"/>\n",
       "</g>\n",
       "<!-- 2 -->\n",
       "<g id=\"node3\" class=\"node\">\n",
       "<title>2</title>\n",
       "<text text-anchor=\"middle\" x=\"28.88\" y=\"-252.2\" font-family=\"Times,serif\" font-size=\"14.00\">&lt;scheme&gt;</text>\n",
       "</g>\n",
       "<!-- 1&#45;&gt;2 -->\n",
       "<g id=\"edge2\" class=\"edge\">\n",
       "<title>1&#45;&gt;2</title>\n",
       "<path fill=\"none\" stroke=\"black\" d=\"M134.55,-301.51C114.46,-293.5 78.92,-279.33 54.65,-269.65\"/>\n",
       "<polygon fill=\"black\" stroke=\"black\" points=\"56.07,-266.45 45.48,-266 53.47,-272.95 56.07,-266.45\"/>\n",
       "</g>\n",
       "<!-- 4 -->\n",
       "<g id=\"node5\" class=\"node\">\n",
       "<title>4</title>\n",
       "<text text-anchor=\"middle\" x=\"93.88\" y=\"-252.2\" font-family=\"Times,serif\" font-size=\"14.00\">://</text>\n",
       "</g>\n",
       "<!-- 1&#45;&gt;4 -->\n",
       "<g id=\"edge4\" class=\"edge\">\n",
       "<title>1&#45;&gt;4</title>\n",
       "<path fill=\"none\" stroke=\"black\" d=\"M143.01,-301.71C134.33,-294.23 119.19,-281.19 108,-271.55\"/>\n",
       "<polygon fill=\"black\" stroke=\"black\" points=\"110.46,-269.04 100.6,-265.17 105.89,-274.34 110.46,-269.04\"/>\n",
       "</g>\n",
       "<!-- 5 -->\n",
       "<g id=\"node6\" class=\"node\">\n",
       "<title>5</title>\n",
       "<text text-anchor=\"middle\" x=\"149.88\" y=\"-252.2\" font-family=\"Times,serif\" font-size=\"14.00\">&lt;authority&gt;</text>\n",
       "</g>\n",
       "<!-- 1&#45;&gt;5 -->\n",
       "<g id=\"edge5\" class=\"edge\">\n",
       "<title>1&#45;&gt;5</title>\n",
       "<path fill=\"none\" stroke=\"black\" d=\"M149.88,-301.71C149.88,-295.49 149.88,-285.4 149.88,-276.64\"/>\n",
       "<polygon fill=\"black\" stroke=\"black\" points=\"153.38,-276.85 149.88,-266.85 146.38,-276.85 153.38,-276.85\"/>\n",
       "</g>\n",
       "<!-- 11 -->\n",
       "<g id=\"node12\" class=\"node\">\n",
       "<title>11</title>\n",
       "<text text-anchor=\"middle\" x=\"226.88\" y=\"-252.2\" font-family=\"Times,serif\" font-size=\"14.00\">&lt;path&gt;</text>\n",
       "</g>\n",
       "<!-- 1&#45;&gt;11 -->\n",
       "<g id=\"edge11\" class=\"edge\">\n",
       "<title>1&#45;&gt;11</title>\n",
       "<path fill=\"none\" stroke=\"black\" d=\"M159.63,-301.51C171.73,-293.93 192.63,-280.83 207.93,-271.25\"/>\n",
       "<polygon fill=\"black\" stroke=\"black\" points=\"209.55,-274.36 216.16,-266.09 205.83,-268.43 209.55,-274.36\"/>\n",
       "</g>\n",
       "<!-- 15 -->\n",
       "<g id=\"node16\" class=\"node\">\n",
       "<title>15</title>\n",
       "<text text-anchor=\"middle\" x=\"321.88\" y=\"-252.2\" font-family=\"Times,serif\" font-size=\"14.00\">&lt;query&gt;</text>\n",
       "</g>\n",
       "<!-- 1&#45;&gt;15 -->\n",
       "<g id=\"edge15\" class=\"edge\">\n",
       "<title>1&#45;&gt;15</title>\n",
       "<path fill=\"none\" stroke=\"black\" d=\"M165.44,-303.26C193.32,-295.44 252.31,-278.89 289.35,-268.5\"/>\n",
       "<polygon fill=\"black\" stroke=\"black\" points=\"289.94,-271.97 298.63,-265.9 288.05,-265.23 289.94,-271.97\"/>\n",
       "</g>\n",
       "<!-- 3 -->\n",
       "<g id=\"node4\" class=\"node\">\n",
       "<title>3</title>\n",
       "<text text-anchor=\"middle\" x=\"21.88\" y=\"-201.95\" font-family=\"Times,serif\" font-size=\"14.00\">http</text>\n",
       "</g>\n",
       "<!-- 2&#45;&gt;3 -->\n",
       "<g id=\"edge3\" class=\"edge\">\n",
       "<title>2&#45;&gt;3</title>\n",
       "<path fill=\"none\" stroke=\"black\" d=\"M28.02,-251.46C27.11,-245.24 25.65,-235.15 24.38,-226.39\"/>\n",
       "<polygon fill=\"black\" stroke=\"black\" points=\"27.86,-225.98 22.96,-216.59 20.93,-226.99 27.86,-225.98\"/>\n",
       "</g>\n",
       "<!-- 6 -->\n",
       "<g id=\"node7\" class=\"node\">\n",
       "<title>6</title>\n",
       "<text text-anchor=\"middle\" x=\"69.88\" y=\"-201.95\" font-family=\"Times,serif\" font-size=\"14.00\">&lt;host&gt;</text>\n",
       "</g>\n",
       "<!-- 5&#45;&gt;6 -->\n",
       "<g id=\"edge6\" class=\"edge\">\n",
       "<title>5&#45;&gt;6</title>\n",
       "<path fill=\"none\" stroke=\"black\" d=\"M139.74,-251.26C127.12,-243.65 105.28,-230.48 89.37,-220.88\"/>\n",
       "<polygon fill=\"black\" stroke=\"black\" points=\"91.59,-218.14 81.22,-215.97 87.98,-224.13 91.59,-218.14\"/>\n",
       "</g>\n",
       "<!-- 8 -->\n",
       "<g id=\"node9\" class=\"node\">\n",
       "<title>8</title>\n",
       "<text text-anchor=\"middle\" x=\"122.88\" y=\"-201.95\" font-family=\"Times,serif\" font-size=\"14.00\">: (58)</text>\n",
       "</g>\n",
       "<!-- 5&#45;&gt;8 -->\n",
       "<g id=\"edge8\" class=\"edge\">\n",
       "<title>5&#45;&gt;8</title>\n",
       "<path fill=\"none\" stroke=\"black\" d=\"M146.56,-251.46C142.88,-244.87 136.78,-233.97 131.69,-224.87\"/>\n",
       "<polygon fill=\"black\" stroke=\"black\" points=\"134.89,-223.43 126.95,-216.41 128.78,-226.85 134.89,-223.43\"/>\n",
       "</g>\n",
       "<!-- 9 -->\n",
       "<g id=\"node10\" class=\"node\">\n",
       "<title>9</title>\n",
       "<text text-anchor=\"middle\" x=\"174.88\" y=\"-201.95\" font-family=\"Times,serif\" font-size=\"14.00\">&lt;port&gt;</text>\n",
       "</g>\n",
       "<!-- 5&#45;&gt;9 -->\n",
       "<g id=\"edge9\" class=\"edge\">\n",
       "<title>5&#45;&gt;9</title>\n",
       "<path fill=\"none\" stroke=\"black\" d=\"M152.94,-251.46C156.31,-244.95 161.88,-234.21 166.56,-225.17\"/>\n",
       "<polygon fill=\"black\" stroke=\"black\" points=\"169.6,-226.92 171.09,-216.43 163.38,-223.7 169.6,-226.92\"/>\n",
       "</g>\n",
       "<!-- 7 -->\n",
       "<g id=\"node8\" class=\"node\">\n",
       "<title>7</title>\n",
       "<text text-anchor=\"middle\" x=\"69.88\" y=\"-151.7\" font-family=\"Times,serif\" font-size=\"14.00\">cispa.saarland</text>\n",
       "</g>\n",
       "<!-- 6&#45;&gt;7 -->\n",
       "<g id=\"edge7\" class=\"edge\">\n",
       "<title>6&#45;&gt;7</title>\n",
       "<path fill=\"none\" stroke=\"black\" d=\"M69.88,-201.21C69.88,-194.99 69.88,-184.9 69.88,-176.14\"/>\n",
       "<polygon fill=\"black\" stroke=\"black\" points=\"73.38,-176.35 69.88,-166.35 66.38,-176.35 73.38,-176.35\"/>\n",
       "</g>\n",
       "<!-- 10 -->\n",
       "<g id=\"node11\" class=\"node\">\n",
       "<title>10</title>\n",
       "<text text-anchor=\"middle\" x=\"174.88\" y=\"-151.7\" font-family=\"Times,serif\" font-size=\"14.00\">8080</text>\n",
       "</g>\n",
       "<!-- 9&#45;&gt;10 -->\n",
       "<g id=\"edge10\" class=\"edge\">\n",
       "<title>9&#45;&gt;10</title>\n",
       "<path fill=\"none\" stroke=\"black\" d=\"M174.88,-201.21C174.88,-194.99 174.88,-184.9 174.88,-176.14\"/>\n",
       "<polygon fill=\"black\" stroke=\"black\" points=\"178.38,-176.35 174.88,-166.35 171.38,-176.35 178.38,-176.35\"/>\n",
       "</g>\n",
       "<!-- 12 -->\n",
       "<g id=\"node13\" class=\"node\">\n",
       "<title>12</title>\n",
       "<text text-anchor=\"middle\" x=\"226.88\" y=\"-201.95\" font-family=\"Times,serif\" font-size=\"14.00\">/ (47)</text>\n",
       "</g>\n",
       "<!-- 11&#45;&gt;12 -->\n",
       "<g id=\"edge12\" class=\"edge\">\n",
       "<title>11&#45;&gt;12</title>\n",
       "<path fill=\"none\" stroke=\"black\" d=\"M226.88,-251.46C226.88,-245.24 226.88,-235.15 226.88,-226.39\"/>\n",
       "<polygon fill=\"black\" stroke=\"black\" points=\"230.38,-226.6 226.88,-216.6 223.38,-226.6 230.38,-226.6\"/>\n",
       "</g>\n",
       "<!-- 13 -->\n",
       "<g id=\"node14\" class=\"node\">\n",
       "<title>13</title>\n",
       "<text text-anchor=\"middle\" x=\"273.88\" y=\"-201.95\" font-family=\"Times,serif\" font-size=\"14.00\">&lt;id&gt;</text>\n",
       "</g>\n",
       "<!-- 11&#45;&gt;13 -->\n",
       "<g id=\"edge13\" class=\"edge\">\n",
       "<title>11&#45;&gt;13</title>\n",
       "<path fill=\"none\" stroke=\"black\" d=\"M232.64,-251.46C239.47,-244.44 251.1,-232.51 260.26,-223.1\"/>\n",
       "<polygon fill=\"black\" stroke=\"black\" points=\"262.54,-225.78 267.01,-216.17 257.52,-220.9 262.54,-225.78\"/>\n",
       "</g>\n",
       "<!-- 14 -->\n",
       "<g id=\"node15\" class=\"node\">\n",
       "<title>14</title>\n",
       "<text text-anchor=\"middle\" x=\"273.88\" y=\"-151.7\" font-family=\"Times,serif\" font-size=\"14.00\">def</text>\n",
       "</g>\n",
       "<!-- 13&#45;&gt;14 -->\n",
       "<g id=\"edge14\" class=\"edge\">\n",
       "<title>13&#45;&gt;14</title>\n",
       "<path fill=\"none\" stroke=\"black\" d=\"M273.88,-201.21C273.88,-194.99 273.88,-184.9 273.88,-176.14\"/>\n",
       "<polygon fill=\"black\" stroke=\"black\" points=\"277.38,-176.35 273.88,-166.35 270.38,-176.35 277.38,-176.35\"/>\n",
       "</g>\n",
       "<!-- 16 -->\n",
       "<g id=\"node17\" class=\"node\">\n",
       "<title>16</title>\n",
       "<text text-anchor=\"middle\" x=\"321.88\" y=\"-201.95\" font-family=\"Times,serif\" font-size=\"14.00\">? (63)</text>\n",
       "</g>\n",
       "<!-- 15&#45;&gt;16 -->\n",
       "<g id=\"edge16\" class=\"edge\">\n",
       "<title>15&#45;&gt;16</title>\n",
       "<path fill=\"none\" stroke=\"black\" d=\"M321.88,-251.46C321.88,-245.24 321.88,-235.15 321.88,-226.39\"/>\n",
       "<polygon fill=\"black\" stroke=\"black\" points=\"325.38,-226.6 321.88,-216.6 318.38,-226.6 325.38,-226.6\"/>\n",
       "</g>\n",
       "<!-- 17 -->\n",
       "<g id=\"node18\" class=\"node\">\n",
       "<title>17</title>\n",
       "<text text-anchor=\"middle\" x=\"383.88\" y=\"-201.95\" font-family=\"Times,serif\" font-size=\"14.00\">&lt;params&gt;</text>\n",
       "</g>\n",
       "<!-- 15&#45;&gt;17 -->\n",
       "<g id=\"edge17\" class=\"edge\">\n",
       "<title>15&#45;&gt;17</title>\n",
       "<path fill=\"none\" stroke=\"black\" d=\"M329.73,-251.26C339.19,-243.9 355.33,-231.34 367.54,-221.84\"/>\n",
       "<polygon fill=\"black\" stroke=\"black\" points=\"369.34,-224.87 375.09,-215.96 365.04,-219.34 369.34,-224.87\"/>\n",
       "</g>\n",
       "<!-- 18 -->\n",
       "<g id=\"node19\" class=\"node\">\n",
       "<title>18</title>\n",
       "<text text-anchor=\"middle\" x=\"383.88\" y=\"-151.7\" font-family=\"Times,serif\" font-size=\"14.00\">&lt;param&gt;</text>\n",
       "</g>\n",
       "<!-- 17&#45;&gt;18 -->\n",
       "<g id=\"edge18\" class=\"edge\">\n",
       "<title>17&#45;&gt;18</title>\n",
       "<path fill=\"none\" stroke=\"black\" d=\"M383.88,-201.21C383.88,-194.99 383.88,-184.9 383.88,-176.14\"/>\n",
       "<polygon fill=\"black\" stroke=\"black\" points=\"387.38,-176.35 383.88,-166.35 380.38,-176.35 387.38,-176.35\"/>\n",
       "</g>\n",
       "<!-- 19 -->\n",
       "<g id=\"node20\" class=\"node\">\n",
       "<title>19</title>\n",
       "<text text-anchor=\"middle\" x=\"332.88\" y=\"-101.45\" font-family=\"Times,serif\" font-size=\"14.00\">&lt;id&gt;</text>\n",
       "</g>\n",
       "<!-- 18&#45;&gt;19 -->\n",
       "<g id=\"edge19\" class=\"edge\">\n",
       "<title>18&#45;&gt;19</title>\n",
       "<path fill=\"none\" stroke=\"black\" d=\"M377.62,-150.96C370.13,-143.87 357.33,-131.76 347.34,-122.31\"/>\n",
       "<polygon fill=\"black\" stroke=\"black\" points=\"349.95,-119.96 340.28,-115.63 345.14,-125.04 349.95,-119.96\"/>\n",
       "</g>\n",
       "<!-- 21 -->\n",
       "<g id=\"node22\" class=\"node\">\n",
       "<title>21</title>\n",
       "<text text-anchor=\"middle\" x=\"383.88\" y=\"-101.45\" font-family=\"Times,serif\" font-size=\"14.00\">= (61)</text>\n",
       "</g>\n",
       "<!-- 18&#45;&gt;21 -->\n",
       "<g id=\"edge21\" class=\"edge\">\n",
       "<title>18&#45;&gt;21</title>\n",
       "<path fill=\"none\" stroke=\"black\" d=\"M383.88,-150.96C383.88,-144.74 383.88,-134.65 383.88,-125.89\"/>\n",
       "<polygon fill=\"black\" stroke=\"black\" points=\"387.38,-126.1 383.88,-116.1 380.38,-126.1 387.38,-126.1\"/>\n",
       "</g>\n",
       "<!-- 22 -->\n",
       "<g id=\"node23\" class=\"node\">\n",
       "<title>22</title>\n",
       "<text text-anchor=\"middle\" x=\"433.88\" y=\"-101.45\" font-family=\"Times,serif\" font-size=\"14.00\">&lt;id&gt;</text>\n",
       "</g>\n",
       "<!-- 18&#45;&gt;22 -->\n",
       "<g id=\"edge22\" class=\"edge\">\n",
       "<title>18&#45;&gt;22</title>\n",
       "<path fill=\"none\" stroke=\"black\" d=\"M390.01,-150.96C397.35,-143.87 409.9,-131.76 419.7,-122.31\"/>\n",
       "<polygon fill=\"black\" stroke=\"black\" points=\"421.84,-125.1 426.6,-115.64 416.98,-120.07 421.84,-125.1\"/>\n",
       "</g>\n",
       "<!-- 20 -->\n",
       "<g id=\"node21\" class=\"node\">\n",
       "<title>20</title>\n",
       "<text text-anchor=\"middle\" x=\"328.88\" y=\"-51.2\" font-family=\"Times,serif\" font-size=\"14.00\">abc</text>\n",
       "</g>\n",
       "<!-- 19&#45;&gt;20 -->\n",
       "<g id=\"edge20\" class=\"edge\">\n",
       "<title>19&#45;&gt;20</title>\n",
       "<path fill=\"none\" stroke=\"black\" d=\"M332.38,-100.71C331.87,-94.49 331.03,-84.4 330.31,-75.64\"/>\n",
       "<polygon fill=\"black\" stroke=\"black\" points=\"333.81,-75.52 329.49,-65.85 326.83,-76.1 333.81,-75.52\"/>\n",
       "</g>\n",
       "<!-- 23 -->\n",
       "<g id=\"node24\" class=\"node\">\n",
       "<title>23</title>\n",
       "<text text-anchor=\"middle\" x=\"375.88\" y=\"-51.2\" font-family=\"Times,serif\" font-size=\"14.00\">x (120)</text>\n",
       "</g>\n",
       "<!-- 22&#45;&gt;23 -->\n",
       "<g id=\"edge23\" class=\"edge\">\n",
       "<title>22&#45;&gt;23</title>\n",
       "<path fill=\"none\" stroke=\"black\" d=\"M426.76,-100.71C418.07,-93.47 403.09,-81.02 391.63,-71.48\"/>\n",
       "<polygon fill=\"black\" stroke=\"black\" points=\"394.13,-69.01 384.21,-65.31 389.66,-74.39 394.13,-69.01\"/>\n",
       "</g>\n",
       "<!-- 24 -->\n",
       "<g id=\"node25\" class=\"node\">\n",
       "<title>24</title>\n",
       "<text text-anchor=\"middle\" x=\"434.88\" y=\"-51.2\" font-family=\"Times,serif\" font-size=\"14.00\">&lt;digit&gt;</text>\n",
       "</g>\n",
       "<!-- 22&#45;&gt;24 -->\n",
       "<g id=\"edge24\" class=\"edge\">\n",
       "<title>22&#45;&gt;24</title>\n",
       "<path fill=\"none\" stroke=\"black\" d=\"M434,-100.71C434.13,-94.49 434.34,-84.4 434.52,-75.64\"/>\n",
       "<polygon fill=\"black\" stroke=\"black\" points=\"438.01,-75.92 434.72,-65.85 431.01,-75.78 438.01,-75.92\"/>\n",
       "</g>\n",
       "<!-- 26 -->\n",
       "<g id=\"node27\" class=\"node\">\n",
       "<title>26</title>\n",
       "<text text-anchor=\"middle\" x=\"493.88\" y=\"-51.2\" font-family=\"Times,serif\" font-size=\"14.00\">&lt;digit&gt;</text>\n",
       "</g>\n",
       "<!-- 22&#45;&gt;26 -->\n",
       "<g id=\"edge26\" class=\"edge\">\n",
       "<title>22&#45;&gt;26</title>\n",
       "<path fill=\"none\" stroke=\"black\" d=\"M441.23,-100.71C450.23,-93.47 465.72,-81.02 477.58,-71.48\"/>\n",
       "<polygon fill=\"black\" stroke=\"black\" points=\"479.68,-74.28 485.28,-65.29 475.29,-68.83 479.68,-74.28\"/>\n",
       "</g>\n",
       "<!-- 25 -->\n",
       "<g id=\"node26\" class=\"node\">\n",
       "<title>25</title>\n",
       "<text text-anchor=\"middle\" x=\"434.88\" y=\"-0.95\" font-family=\"Times,serif\" font-size=\"14.00\">2 (50)</text>\n",
       "</g>\n",
       "<!-- 24&#45;&gt;25 -->\n",
       "<g id=\"edge25\" class=\"edge\">\n",
       "<title>24&#45;&gt;25</title>\n",
       "<path fill=\"none\" stroke=\"black\" d=\"M434.88,-50.46C434.88,-44.24 434.88,-34.15 434.88,-25.39\"/>\n",
       "<polygon fill=\"black\" stroke=\"black\" points=\"438.38,-25.6 434.88,-15.6 431.38,-25.6 438.38,-25.6\"/>\n",
       "</g>\n",
       "<!-- 27 -->\n",
       "<g id=\"node28\" class=\"node\">\n",
       "<title>27</title>\n",
       "<text text-anchor=\"middle\" x=\"493.88\" y=\"-0.95\" font-family=\"Times,serif\" font-size=\"14.00\">7 (55)</text>\n",
       "</g>\n",
       "<!-- 26&#45;&gt;27 -->\n",
       "<g id=\"edge27\" class=\"edge\">\n",
       "<title>26&#45;&gt;27</title>\n",
       "<path fill=\"none\" stroke=\"black\" d=\"M493.88,-50.46C493.88,-44.24 493.88,-34.15 493.88,-25.39\"/>\n",
       "<polygon fill=\"black\" stroke=\"black\" points=\"497.38,-25.6 493.88,-15.6 490.38,-25.6 497.38,-25.6\"/>\n",
       "</g>\n",
       "</g>\n",
       "</svg>\n"
      ],
      "text/plain": [
       "<graphviz.graphs.Digraph at 0x15d58f4c0>"
      ]
     },
     "execution_count": 122,
     "metadata": {},
     "output_type": "execute_result"
    }
   ],
   "source": [
    "display_tree(f.derivation_tree)"
   ]
  },
  {
   "cell_type": "code",
   "execution_count": 123,
   "metadata": {
    "button": false,
    "execution": {
     "iopub.execute_input": "2024-06-29T16:13:23.942726Z",
     "iopub.status.busy": "2024-06-29T16:13:23.942607Z",
     "iopub.status.idle": "2024-06-29T16:13:23.945525Z",
     "shell.execute_reply": "2024-06-29T16:13:23.945220Z"
    },
    "new_sheet": false,
    "run_control": {
     "read_only": false
    },
    "slideshow": {
     "slide_type": "subslide"
    }
   },
   "outputs": [
    {
     "data": {
      "text/plain": [
       "'+%e4d'"
      ]
     },
     "execution_count": 123,
     "metadata": {},
     "output_type": "execute_result"
    }
   ],
   "source": [
    "f = GrammarFuzzer(CGI_GRAMMAR, min_nonterminals=3, max_nonterminals=5)\n",
    "f.fuzz()"
   ]
  },
  {
   "cell_type": "code",
   "execution_count": 124,
   "metadata": {
    "execution": {
     "iopub.execute_input": "2024-06-29T16:13:23.947089Z",
     "iopub.status.busy": "2024-06-29T16:13:23.946970Z",
     "iopub.status.idle": "2024-06-29T16:13:24.368186Z",
     "shell.execute_reply": "2024-06-29T16:13:24.367772Z"
    },
    "slideshow": {
     "slide_type": "fragment"
    }
   },
   "outputs": [
    {
     "data": {
      "image/svg+xml": [
       "<?xml version=\"1.0\" encoding=\"UTF-8\" standalone=\"no\"?>\n",
       "<!DOCTYPE svg PUBLIC \"-//W3C//DTD SVG 1.1//EN\"\n",
       " \"http://www.w3.org/Graphics/SVG/1.1/DTD/svg11.dtd\">\n",
       "<!-- Generated by graphviz version 11.0.0 (20240428.1522)\n",
       " -->\n",
       "<!-- Pages: 1 -->\n",
       "<svg width=\"267pt\" height=\"324pt\"\n",
       " viewBox=\"0.00 0.00 267.25 323.75\" xmlns=\"http://www.w3.org/2000/svg\" xmlns:xlink=\"http://www.w3.org/1999/xlink\">\n",
       "<g id=\"graph0\" class=\"graph\" transform=\"scale(1 1) rotate(0) translate(4 319.75)\">\n",
       "<polygon fill=\"white\" stroke=\"none\" points=\"-4,4 -4,-319.75 263.25,-319.75 263.25,4 -4,4\"/>\n",
       "<!-- 0 -->\n",
       "<g id=\"node1\" class=\"node\">\n",
       "<title>0</title>\n",
       "<text text-anchor=\"middle\" x=\"76.12\" y=\"-302.45\" font-family=\"Times,serif\" font-size=\"14.00\">&lt;start&gt;</text>\n",
       "</g>\n",
       "<!-- 1 -->\n",
       "<g id=\"node2\" class=\"node\">\n",
       "<title>1</title>\n",
       "<text text-anchor=\"middle\" x=\"76.12\" y=\"-252.2\" font-family=\"Times,serif\" font-size=\"14.00\">&lt;string&gt;</text>\n",
       "</g>\n",
       "<!-- 0&#45;&gt;1 -->\n",
       "<g id=\"edge1\" class=\"edge\">\n",
       "<title>0&#45;&gt;1</title>\n",
       "<path fill=\"none\" stroke=\"black\" d=\"M76.12,-301.71C76.12,-295.49 76.12,-285.4 76.12,-276.64\"/>\n",
       "<polygon fill=\"black\" stroke=\"black\" points=\"79.63,-276.85 76.13,-266.85 72.63,-276.85 79.63,-276.85\"/>\n",
       "</g>\n",
       "<!-- 2 -->\n",
       "<g id=\"node3\" class=\"node\">\n",
       "<title>2</title>\n",
       "<text text-anchor=\"middle\" x=\"44.12\" y=\"-201.95\" font-family=\"Times,serif\" font-size=\"14.00\">&lt;letter&gt;</text>\n",
       "</g>\n",
       "<!-- 1&#45;&gt;2 -->\n",
       "<g id=\"edge2\" class=\"edge\">\n",
       "<title>1&#45;&gt;2</title>\n",
       "<path fill=\"none\" stroke=\"black\" d=\"M72.2,-251.46C67.79,-244.8 60.44,-233.73 54.37,-224.57\"/>\n",
       "<polygon fill=\"black\" stroke=\"black\" points=\"57.36,-222.75 48.92,-216.35 51.53,-226.62 57.36,-222.75\"/>\n",
       "</g>\n",
       "<!-- 5 -->\n",
       "<g id=\"node6\" class=\"node\">\n",
       "<title>5</title>\n",
       "<text text-anchor=\"middle\" x=\"108.12\" y=\"-201.95\" font-family=\"Times,serif\" font-size=\"14.00\">&lt;string&gt;</text>\n",
       "</g>\n",
       "<!-- 1&#45;&gt;5 -->\n",
       "<g id=\"edge5\" class=\"edge\">\n",
       "<title>1&#45;&gt;5</title>\n",
       "<path fill=\"none\" stroke=\"black\" d=\"M80.05,-251.46C84.46,-244.8 91.81,-233.73 97.88,-224.57\"/>\n",
       "<polygon fill=\"black\" stroke=\"black\" points=\"100.72,-226.62 103.33,-216.35 94.89,-222.75 100.72,-226.62\"/>\n",
       "</g>\n",
       "<!-- 3 -->\n",
       "<g id=\"node4\" class=\"node\">\n",
       "<title>3</title>\n",
       "<text text-anchor=\"middle\" x=\"44.12\" y=\"-151.7\" font-family=\"Times,serif\" font-size=\"14.00\">&lt;plus&gt;</text>\n",
       "</g>\n",
       "<!-- 2&#45;&gt;3 -->\n",
       "<g id=\"edge3\" class=\"edge\">\n",
       "<title>2&#45;&gt;3</title>\n",
       "<path fill=\"none\" stroke=\"black\" d=\"M44.12,-201.21C44.12,-194.99 44.12,-184.9 44.12,-176.14\"/>\n",
       "<polygon fill=\"black\" stroke=\"black\" points=\"47.63,-176.35 44.13,-166.35 40.63,-176.35 47.63,-176.35\"/>\n",
       "</g>\n",
       "<!-- 4 -->\n",
       "<g id=\"node5\" class=\"node\">\n",
       "<title>4</title>\n",
       "<text text-anchor=\"middle\" x=\"44.12\" y=\"-101.45\" font-family=\"Times,serif\" font-size=\"14.00\">+ (43)</text>\n",
       "</g>\n",
       "<!-- 3&#45;&gt;4 -->\n",
       "<g id=\"edge4\" class=\"edge\">\n",
       "<title>3&#45;&gt;4</title>\n",
       "<path fill=\"none\" stroke=\"black\" d=\"M44.12,-150.96C44.12,-144.74 44.12,-134.65 44.12,-125.89\"/>\n",
       "<polygon fill=\"black\" stroke=\"black\" points=\"47.63,-126.1 44.13,-116.1 40.63,-126.1 47.63,-126.1\"/>\n",
       "</g>\n",
       "<!-- 6 -->\n",
       "<g id=\"node7\" class=\"node\">\n",
       "<title>6</title>\n",
       "<text text-anchor=\"middle\" x=\"107.12\" y=\"-151.7\" font-family=\"Times,serif\" font-size=\"14.00\">&lt;letter&gt;</text>\n",
       "</g>\n",
       "<!-- 5&#45;&gt;6 -->\n",
       "<g id=\"edge6\" class=\"edge\">\n",
       "<title>5&#45;&gt;6</title>\n",
       "<path fill=\"none\" stroke=\"black\" d=\"M108,-201.21C107.87,-194.99 107.66,-184.9 107.48,-176.14\"/>\n",
       "<polygon fill=\"black\" stroke=\"black\" points=\"110.99,-176.28 107.28,-166.35 103.99,-176.42 110.99,-176.28\"/>\n",
       "</g>\n",
       "<!-- 13 -->\n",
       "<g id=\"node14\" class=\"node\">\n",
       "<title>13</title>\n",
       "<text text-anchor=\"middle\" x=\"173.12\" y=\"-151.7\" font-family=\"Times,serif\" font-size=\"14.00\">&lt;string&gt;</text>\n",
       "</g>\n",
       "<!-- 5&#45;&gt;13 -->\n",
       "<g id=\"edge13\" class=\"edge\">\n",
       "<title>5&#45;&gt;13</title>\n",
       "<path fill=\"none\" stroke=\"black\" d=\"M116.36,-201.01C126.28,-193.65 143.2,-181.09 156,-171.59\"/>\n",
       "<polygon fill=\"black\" stroke=\"black\" points=\"158,-174.46 163.95,-165.69 153.83,-168.84 158,-174.46\"/>\n",
       "</g>\n",
       "<!-- 7 -->\n",
       "<g id=\"node8\" class=\"node\">\n",
       "<title>7</title>\n",
       "<text text-anchor=\"middle\" x=\"107.12\" y=\"-101.45\" font-family=\"Times,serif\" font-size=\"14.00\">&lt;percent&gt;</text>\n",
       "</g>\n",
       "<!-- 6&#45;&gt;7 -->\n",
       "<g id=\"edge7\" class=\"edge\">\n",
       "<title>6&#45;&gt;7</title>\n",
       "<path fill=\"none\" stroke=\"black\" d=\"M107.12,-150.96C107.12,-144.74 107.12,-134.65 107.12,-125.89\"/>\n",
       "<polygon fill=\"black\" stroke=\"black\" points=\"110.63,-126.1 107.13,-116.1 103.63,-126.1 110.63,-126.1\"/>\n",
       "</g>\n",
       "<!-- 8 -->\n",
       "<g id=\"node9\" class=\"node\">\n",
       "<title>8</title>\n",
       "<text text-anchor=\"middle\" x=\"19.12\" y=\"-51.2\" font-family=\"Times,serif\" font-size=\"14.00\">% (37)</text>\n",
       "</g>\n",
       "<!-- 7&#45;&gt;8 -->\n",
       "<g id=\"edge8\" class=\"edge\">\n",
       "<title>7&#45;&gt;8</title>\n",
       "<path fill=\"none\" stroke=\"black\" d=\"M95.98,-100.51C81.96,-92.83 57.61,-79.47 40.07,-69.86\"/>\n",
       "<polygon fill=\"black\" stroke=\"black\" points=\"41.96,-66.9 31.51,-65.16 38.59,-73.04 41.96,-66.9\"/>\n",
       "</g>\n",
       "<!-- 9 -->\n",
       "<g id=\"node10\" class=\"node\">\n",
       "<title>9</title>\n",
       "<text text-anchor=\"middle\" x=\"87.12\" y=\"-51.2\" font-family=\"Times,serif\" font-size=\"14.00\">&lt;hexdigit&gt;</text>\n",
       "</g>\n",
       "<!-- 7&#45;&gt;9 -->\n",
       "<g id=\"edge9\" class=\"edge\">\n",
       "<title>7&#45;&gt;9</title>\n",
       "<path fill=\"none\" stroke=\"black\" d=\"M104.67,-100.71C102,-94.27 97.62,-83.69 93.9,-74.72\"/>\n",
       "<polygon fill=\"black\" stroke=\"black\" points=\"97.24,-73.64 90.18,-65.74 90.77,-76.32 97.24,-73.64\"/>\n",
       "</g>\n",
       "<!-- 11 -->\n",
       "<g id=\"node12\" class=\"node\">\n",
       "<title>11</title>\n",
       "<text text-anchor=\"middle\" x=\"166.12\" y=\"-51.2\" font-family=\"Times,serif\" font-size=\"14.00\">&lt;hexdigit&gt;</text>\n",
       "</g>\n",
       "<!-- 7&#45;&gt;11 -->\n",
       "<g id=\"edge11\" class=\"edge\">\n",
       "<title>7&#45;&gt;11</title>\n",
       "<path fill=\"none\" stroke=\"black\" d=\"M114.36,-100.71C123.21,-93.47 138.44,-81.02 150.1,-71.48\"/>\n",
       "<polygon fill=\"black\" stroke=\"black\" points=\"152.13,-74.34 157.66,-65.3 147.7,-68.92 152.13,-74.34\"/>\n",
       "</g>\n",
       "<!-- 10 -->\n",
       "<g id=\"node11\" class=\"node\">\n",
       "<title>10</title>\n",
       "<text text-anchor=\"middle\" x=\"87.12\" y=\"-0.95\" font-family=\"Times,serif\" font-size=\"14.00\">e (101)</text>\n",
       "</g>\n",
       "<!-- 9&#45;&gt;10 -->\n",
       "<g id=\"edge10\" class=\"edge\">\n",
       "<title>9&#45;&gt;10</title>\n",
       "<path fill=\"none\" stroke=\"black\" d=\"M87.12,-50.46C87.12,-44.24 87.12,-34.15 87.12,-25.39\"/>\n",
       "<polygon fill=\"black\" stroke=\"black\" points=\"90.63,-25.6 87.13,-15.6 83.63,-25.6 90.63,-25.6\"/>\n",
       "</g>\n",
       "<!-- 12 -->\n",
       "<g id=\"node13\" class=\"node\">\n",
       "<title>12</title>\n",
       "<text text-anchor=\"middle\" x=\"166.12\" y=\"-0.95\" font-family=\"Times,serif\" font-size=\"14.00\">4 (52)</text>\n",
       "</g>\n",
       "<!-- 11&#45;&gt;12 -->\n",
       "<g id=\"edge12\" class=\"edge\">\n",
       "<title>11&#45;&gt;12</title>\n",
       "<path fill=\"none\" stroke=\"black\" d=\"M166.12,-50.46C166.12,-44.24 166.12,-34.15 166.12,-25.39\"/>\n",
       "<polygon fill=\"black\" stroke=\"black\" points=\"169.63,-25.6 166.13,-15.6 162.63,-25.6 169.63,-25.6\"/>\n",
       "</g>\n",
       "<!-- 14 -->\n",
       "<g id=\"node15\" class=\"node\">\n",
       "<title>14</title>\n",
       "<text text-anchor=\"middle\" x=\"216.12\" y=\"-101.45\" font-family=\"Times,serif\" font-size=\"14.00\">&lt;letter&gt;</text>\n",
       "</g>\n",
       "<!-- 13&#45;&gt;14 -->\n",
       "<g id=\"edge14\" class=\"edge\">\n",
       "<title>13&#45;&gt;14</title>\n",
       "<path fill=\"none\" stroke=\"black\" d=\"M178.4,-150.96C184.52,-144.09 194.85,-132.5 203.15,-123.18\"/>\n",
       "<polygon fill=\"black\" stroke=\"black\" points=\"205.76,-125.51 209.8,-115.72 200.54,-120.86 205.76,-125.51\"/>\n",
       "</g>\n",
       "<!-- 15 -->\n",
       "<g id=\"node16\" class=\"node\">\n",
       "<title>15</title>\n",
       "<text text-anchor=\"middle\" x=\"237.12\" y=\"-51.2\" font-family=\"Times,serif\" font-size=\"14.00\">&lt;other&gt;</text>\n",
       "</g>\n",
       "<!-- 14&#45;&gt;15 -->\n",
       "<g id=\"edge15\" class=\"edge\">\n",
       "<title>14&#45;&gt;15</title>\n",
       "<path fill=\"none\" stroke=\"black\" d=\"M218.7,-100.71C221.5,-94.27 226.11,-83.69 230.01,-74.72\"/>\n",
       "<polygon fill=\"black\" stroke=\"black\" points=\"233.14,-76.29 233.92,-65.73 226.72,-73.5 233.14,-76.29\"/>\n",
       "</g>\n",
       "<!-- 16 -->\n",
       "<g id=\"node17\" class=\"node\">\n",
       "<title>16</title>\n",
       "<text text-anchor=\"middle\" x=\"237.12\" y=\"-0.95\" font-family=\"Times,serif\" font-size=\"14.00\">d (100)</text>\n",
       "</g>\n",
       "<!-- 15&#45;&gt;16 -->\n",
       "<g id=\"edge16\" class=\"edge\">\n",
       "<title>15&#45;&gt;16</title>\n",
       "<path fill=\"none\" stroke=\"black\" d=\"M237.12,-50.46C237.12,-44.24 237.12,-34.15 237.12,-25.39\"/>\n",
       "<polygon fill=\"black\" stroke=\"black\" points=\"240.63,-25.6 237.13,-15.6 233.63,-25.6 240.63,-25.6\"/>\n",
       "</g>\n",
       "</g>\n",
       "</svg>\n"
      ],
      "text/plain": [
       "<graphviz.graphs.Digraph at 0x15d58faf0>"
      ]
     },
     "execution_count": 124,
     "metadata": {},
     "output_type": "execute_result"
    }
   ],
   "source": [
    "display_tree(f.derivation_tree)"
   ]
  },
  {
   "cell_type": "markdown",
   "metadata": {
    "button": false,
    "new_sheet": false,
    "run_control": {
     "read_only": false
    },
    "slideshow": {
     "slide_type": "subslide"
    }
   },
   "source": [
    "How do we stack up against `simple_grammar_fuzzer()`?"
   ]
  },
  {
   "cell_type": "code",
   "execution_count": 125,
   "metadata": {
    "button": false,
    "execution": {
     "iopub.execute_input": "2024-06-29T16:13:24.370506Z",
     "iopub.status.busy": "2024-06-29T16:13:24.370361Z",
     "iopub.status.idle": "2024-06-29T16:13:25.496366Z",
     "shell.execute_reply": "2024-06-29T16:13:25.496061Z"
    },
    "new_sheet": false,
    "run_control": {
     "read_only": false
    },
    "slideshow": {
     "slide_type": "fragment"
    }
   },
   "outputs": [
    {
     "name": "stdout",
     "output_type": "stream",
     "text": [
      "0 1 2 3 4 5 6 7 8 9 10 11 12 13 14 15 16 17 18 19 20 21 22 23 24 25 26 27 28 29 30 31 32 33 34 35 36 37 38 39 40 41 42 43 44 45 46 47 48 49 \n"
     ]
    }
   ],
   "source": [
    "trials = 50\n",
    "xs = []\n",
    "ys = []\n",
    "f = GrammarFuzzer(EXPR_GRAMMAR, max_nonterminals=20)\n",
    "for i in range(trials):\n",
    "    with Timer() as t:\n",
    "        s = f.fuzz()\n",
    "    xs.append(len(s))\n",
    "    ys.append(t.elapsed_time())\n",
    "    print(i, end=\" \")\n",
    "print()"
   ]
  },
  {
   "cell_type": "code",
   "execution_count": 126,
   "metadata": {
    "button": false,
    "execution": {
     "iopub.execute_input": "2024-06-29T16:13:25.498056Z",
     "iopub.status.busy": "2024-06-29T16:13:25.497944Z",
     "iopub.status.idle": "2024-06-29T16:13:25.500067Z",
     "shell.execute_reply": "2024-06-29T16:13:25.499736Z"
    },
    "new_sheet": false,
    "run_control": {
     "read_only": false
    },
    "slideshow": {
     "slide_type": "fragment"
    }
   },
   "outputs": [
    {
     "name": "stdout",
     "output_type": "stream",
     "text": [
      "Average time: 0.02236078914007521\n"
     ]
    }
   ],
   "source": [
    "average_time = sum(ys) / trials\n",
    "print(\"Average time:\", average_time)"
   ]
  },
  {
   "cell_type": "code",
   "execution_count": 127,
   "metadata": {
    "button": false,
    "execution": {
     "iopub.execute_input": "2024-06-29T16:13:25.501852Z",
     "iopub.status.busy": "2024-06-29T16:13:25.501683Z",
     "iopub.status.idle": "2024-06-29T16:13:25.685689Z",
     "shell.execute_reply": "2024-06-29T16:13:25.684521Z"
    },
    "new_sheet": false,
    "run_control": {
     "read_only": false
    },
    "slideshow": {
     "slide_type": "subslide"
    }
   },
   "outputs": [
    {
     "data": {
      "image/png": "[encoded data removed]",
      "text/plain": [
       "<Figure size 640x480 with 1 Axes>"
      ]
     },
     "metadata": {},
     "output_type": "display_data"
    }
   ],
   "source": [
    "%matplotlib inline\n",
    "\n",
    "import matplotlib.pyplot as plt\n",
    "plt.scatter(xs, ys)\n",
    "plt.title('Time required for generating an output');"
   ]
  },
  {
   "cell_type": "markdown",
   "metadata": {
    "button": false,
    "new_sheet": false,
    "run_control": {
     "read_only": false
    },
    "slideshow": {
     "slide_type": "fragment"
    }
   },
   "source": [
    "Our test generation is much faster, but also our inputs are much smaller.  We see that with derivation trees, we can get much better control over grammar production."
   ]
  },
  {
   "cell_type": "markdown",
   "metadata": {
    "slideshow": {
     "slide_type": "subslide"
    }
   },
   "source": [
    "Finally, how does `GrammarFuzzer` work with `expr_grammar`, where `simple_grammar_fuzzer()` failed?  It works without any issue:"
   ]
  },
  {
   "cell_type": "code",
   "execution_count": 128,
   "metadata": {
    "execution": {
     "iopub.execute_input": "2024-06-29T16:13:25.688394Z",
     "iopub.status.busy": "2024-06-29T16:13:25.688253Z",
     "iopub.status.idle": "2024-06-29T16:13:25.695779Z",
     "shell.execute_reply": "2024-06-29T16:13:25.694824Z"
    },
    "slideshow": {
     "slide_type": "fragment"
    }
   },
   "outputs": [
    {
     "data": {
      "text/plain": [
       "'(4 - 5 * 2 + 1) + 4 * 6 / 7 / 8'"
      ]
     },
     "execution_count": 128,
     "metadata": {},
     "output_type": "execute_result"
    }
   ],
   "source": [
    "f = GrammarFuzzer(expr_grammar, max_nonterminals=10)\n",
    "f.fuzz()"
   ]
  },
  {
   "cell_type": "markdown",
   "metadata": {
    "slideshow": {
     "slide_type": "fragment"
    }
   },
   "source": [
    "With `GrammarFuzzer`, we now have a solid foundation on which to build further fuzzers and illustrate more exciting concepts from the world of generating software tests.  Many of these do not even require writing a grammar – instead, they _infer_ a grammar from the domain at hand, and thus allow using grammar-based fuzzing even without writing a grammar.  Stay tuned!"
   ]
  },
  {
   "cell_type": "markdown",
   "metadata": {
    "slideshow": {
     "slide_type": "slide"
    },
    "tags": []
   },
   "source": [
    "## Synopsis"
   ]
  },
  {
   "cell_type": "markdown",
   "metadata": {
    "slideshow": {
     "slide_type": "subslide"
    }
   },
   "source": [
    "### Efficient Grammar Fuzzing"
   ]
  },
  {
   "cell_type": "markdown",
   "metadata": {
    "jp-MarkdownHeadingCollapsed": true,
    "slideshow": {
     "slide_type": "fragment"
    },
    "tags": []
   },
   "source": [
    "This chapter introduces `GrammarFuzzer`, an efficient grammar fuzzer that takes a grammar to produce syntactically valid input strings.  Here's a typical usage:"
   ]
  },
  {
   "cell_type": "code",
   "execution_count": 129,
   "metadata": {
    "execution": {
     "iopub.execute_input": "2024-06-29T16:13:25.698321Z",
     "iopub.status.busy": "2024-06-29T16:13:25.698050Z",
     "iopub.status.idle": "2024-06-29T16:13:25.701121Z",
     "shell.execute_reply": "2024-06-29T16:13:25.700242Z"
    },
    "slideshow": {
     "slide_type": "skip"
    }
   },
   "outputs": [],
   "source": [
    "from Grammars import US_PHONE_GRAMMAR"
   ]
  },
  {
   "cell_type": "code",
   "execution_count": 130,
   "metadata": {
    "execution": {
     "iopub.execute_input": "2024-06-29T16:13:25.703494Z",
     "iopub.status.busy": "2024-06-29T16:13:25.703312Z",
     "iopub.status.idle": "2024-06-29T16:13:25.707039Z",
     "shell.execute_reply": "2024-06-29T16:13:25.706085Z"
    },
    "slideshow": {
     "slide_type": "fragment"
    }
   },
   "outputs": [
    {
     "data": {
      "text/plain": [
       "'(883)897-2120'"
      ]
     },
     "execution_count": 130,
     "metadata": {},
     "output_type": "execute_result"
    }
   ],
   "source": [
    "phone_fuzzer = GrammarFuzzer(US_PHONE_GRAMMAR)\n",
    "phone_fuzzer.fuzz()"
   ]
  },
  {
   "cell_type": "markdown",
   "metadata": {
    "slideshow": {
     "slide_type": "fragment"
    }
   },
   "source": [
    "The `GrammarFuzzer` constructor takes a number of keyword arguments to control its behavior.  `start_symbol`, for instance, allows setting the symbol that expansion starts with (instead of `<start>`):"
   ]
  },
  {
   "cell_type": "code",
   "execution_count": 131,
   "metadata": {
    "execution": {
     "iopub.execute_input": "2024-06-29T16:13:25.710995Z",
     "iopub.status.busy": "2024-06-29T16:13:25.710339Z",
     "iopub.status.idle": "2024-06-29T16:13:25.715017Z",
     "shell.execute_reply": "2024-06-29T16:13:25.714691Z"
    },
    "slideshow": {
     "slide_type": "fragment"
    }
   },
   "outputs": [
    {
     "data": {
      "text/plain": [
       "'809'"
      ]
     },
     "execution_count": 131,
     "metadata": {},
     "output_type": "execute_result"
    }
   ],
   "source": [
    "area_fuzzer = GrammarFuzzer(US_PHONE_GRAMMAR, start_symbol='<area>')\n",
    "area_fuzzer.fuzz()"
   ]
  },
  {
   "cell_type": "markdown",
   "metadata": {
    "slideshow": {
     "slide_type": "fragment"
    }
   },
   "source": [
    "Here's how to parameterize the `GrammarFuzzer` constructor:"
   ]
  },
  {
   "cell_type": "code",
   "execution_count": 132,
   "metadata": {
    "execution": {
     "iopub.execute_input": "2024-06-29T16:13:25.717791Z",
     "iopub.status.busy": "2024-06-29T16:13:25.717657Z",
     "iopub.status.idle": "2024-06-29T16:13:25.720678Z",
     "shell.execute_reply": "2024-06-29T16:13:25.720273Z"
    },
    "slideshow": {
     "slide_type": "subslide"
    }
   },
   "outputs": [],
   "source": [
    "# ignore\n",
    "import inspect"
   ]
  },
  {
   "cell_type": "code",
   "execution_count": 133,
   "metadata": {
    "execution": {
     "iopub.execute_input": "2024-06-29T16:13:25.724395Z",
     "iopub.status.busy": "2024-06-29T16:13:25.724169Z",
     "iopub.status.idle": "2024-06-29T16:13:25.726483Z",
     "shell.execute_reply": "2024-06-29T16:13:25.726039Z"
    },
    "slideshow": {
     "slide_type": "fragment"
    }
   },
   "outputs": [
    {
     "name": "stdout",
     "output_type": "stream",
     "text": [
      "Produce strings from `grammar`, starting with `start_symbol`.\n",
      "If `min_nonterminals` or `max_nonterminals` is given, use them as limits \n",
      "for the number of nonterminals produced.  \n",
      "If `disp` is set, display the intermediate derivation trees.\n",
      "If `log` is set, show intermediate steps as text on standard output.\n"
     ]
    }
   ],
   "source": [
    "# ignore\n",
    "print(inspect.getdoc(GrammarFuzzer.__init__))"
   ]
  },
  {
   "cell_type": "code",
   "execution_count": 134,
   "metadata": {
    "execution": {
     "iopub.execute_input": "2024-06-29T16:13:25.728449Z",
     "iopub.status.busy": "2024-06-29T16:13:25.728233Z",
     "iopub.status.idle": "2024-06-29T16:13:25.730410Z",
     "shell.execute_reply": "2024-06-29T16:13:25.729943Z"
    },
    "slideshow": {
     "slide_type": "fragment"
    }
   },
   "outputs": [],
   "source": [
    "# ignore\n",
    "from ClassDiagram import display_class_hierarchy"
   ]
  },
  {
   "cell_type": "code",
   "execution_count": 135,
   "metadata": {
    "execution": {
     "iopub.execute_input": "2024-06-29T16:13:25.732197Z",
     "iopub.status.busy": "2024-06-29T16:13:25.731947Z",
     "iopub.status.idle": "2024-06-29T16:13:26.211050Z",
     "shell.execute_reply": "2024-06-29T16:13:26.210649Z"
    },
    "slideshow": {
     "slide_type": "subslide"
    }
   },
   "outputs": [
    {
     "data": {
      "image/svg+xml": [
       "<?xml version=\"1.0\" encoding=\"UTF-8\" standalone=\"no\"?>\n",
       "<!DOCTYPE svg PUBLIC \"-//W3C//DTD SVG 1.1//EN\"\n",
       " \"http://www.w3.org/Graphics/SVG/1.1/DTD/svg11.dtd\">\n",
       "<!-- Generated by graphviz version 11.0.0 (20240428.1522)\n",
       " -->\n",
       "<!-- Pages: 1 -->\n",
       "<svg width=\"324pt\" height=\"458pt\"\n",
       " viewBox=\"0.00 0.00 323.62 458.25\" xmlns=\"http://www.w3.org/2000/svg\" xmlns:xlink=\"http://www.w3.org/1999/xlink\">\n",
       "<g id=\"graph0\" class=\"graph\" transform=\"scale(1 1) rotate(0) translate(4 454.25)\">\n",
       "<g id=\"a_graph0\"><a xlink:title=\"GrammarFuzzer class hierarchy\">\n",
       "<polygon fill=\"white\" stroke=\"none\" points=\"-4,4 -4,-454.25 319.62,-454.25 319.62,4 -4,4\"/>\n",
       "</a>\n",
       "</g>\n",
       "<!-- GrammarFuzzer -->\n",
       "<g id=\"node1\" class=\"node\">\n",
       "<title>GrammarFuzzer</title>\n",
       "<g id=\"a_node1\"><a xlink:href=\"#\" xlink:title=\"class GrammarFuzzer:&#10;Produce strings from grammars efficiently, using derivation trees.\">\n",
       "<polygon fill=\"none\" stroke=\"black\" points=\"0,-0.5 0,-327.75 178,-327.75 178,-0.5 0,-0.5\"/>\n",
       "<text text-anchor=\"start\" x=\"39.12\" y=\"-311.45\" font-family=\"Patua One, Helvetica, sans-serif\" font-weight=\"bold\" font-size=\"14.00\" fill=\"#b03a2e\">GrammarFuzzer</text>\n",
       "<polyline fill=\"none\" stroke=\"black\" points=\"0,-301.75 178,-301.75\"/>\n",
       "<g id=\"a_node1_0\"><a xlink:href=\"#\" xlink:title=\"GrammarFuzzer\">\n",
       "<g id=\"a_node1_1\"><a xlink:href=\"#\" xlink:title=\"__init__(self, grammar: Dict[str, List[Expansion]], start_symbol: str = &#39;&lt;start&gt;&#39;, min_nonterminals: int = 0, max_nonterminals: int = 10, disp: bool = False, log: Union[bool, int] = False) &#45;&gt; None:&#10;Produce strings from `grammar`, starting with `start_symbol`.&#10;If `min_nonterminals` or `max_nonterminals` is given, use them as limits&#10;for the number of nonterminals produced.&#10;If `disp` is set, display the intermediate derivation trees.&#10;If `log` is set, show intermediate steps as text on standard output.\">\n",
       "<text text-anchor=\"start\" x=\"8\" y=\"-289.25\" font-family=\"'Fira Mono', 'Source Code Pro', 'Courier', monospace\" font-weight=\"bold\" font-style=\"italic\" font-size=\"10.00\">__init__()</text>\n",
       "</a>\n",
       "</g>\n",
       "<g id=\"a_node1_2\"><a xlink:href=\"#\" xlink:title=\"fuzz(self) &#45;&gt; str:&#10;Produce a string from the grammar.\">\n",
       "<text text-anchor=\"start\" x=\"8\" y=\"-276.5\" font-family=\"'Fira Mono', 'Source Code Pro', 'Courier', monospace\" font-weight=\"bold\" font-style=\"italic\" font-size=\"10.00\">fuzz()</text>\n",
       "</a>\n",
       "</g>\n",
       "<g id=\"a_node1_3\"><a xlink:href=\"#\" xlink:title=\"fuzz_tree(self) &#45;&gt; DerivationTree:&#10;Produce a derivation tree from the grammar.\">\n",
       "<text text-anchor=\"start\" x=\"8\" y=\"-263.75\" font-family=\"'Fira Mono', 'Source Code Pro', 'Courier', monospace\" font-weight=\"bold\" font-size=\"10.00\">fuzz_tree()</text>\n",
       "</a>\n",
       "</g>\n",
       "<g id=\"a_node1_4\"><a xlink:href=\"#\" xlink:title=\"any_possible_expansions(self, node: DerivationTree) &#45;&gt; bool\">\n",
       "<text text-anchor=\"start\" x=\"8\" y=\"-250\" font-family=\"'Fira Mono', 'Source Code Pro', 'Courier', monospace\" font-size=\"10.00\">any_possible_expansions()</text>\n",
       "</a>\n",
       "</g>\n",
       "<g id=\"a_node1_5\"><a xlink:href=\"#\" xlink:title=\"check_grammar(self) &#45;&gt; None:&#10;Check the grammar passed\">\n",
       "<text text-anchor=\"start\" x=\"8\" y=\"-237.25\" font-family=\"'Fira Mono', 'Source Code Pro', 'Courier', monospace\" font-size=\"10.00\">check_grammar()</text>\n",
       "</a>\n",
       "</g>\n",
       "<g id=\"a_node1_6\"><a xlink:href=\"#\" xlink:title=\"choose_node_expansion(self, node: DerivationTree, children_alternatives: List[List[DerivationTree]]) &#45;&gt; int:&#10;Return index of expansion in `children_alternatives` to be selected.&#10;&#39;children_alternatives`: a list of possible children for `node`.&#10;Defaults to random. To be overloaded in subclasses.\">\n",
       "<text text-anchor=\"start\" x=\"8\" y=\"-225.5\" font-family=\"'Fira Mono', 'Source Code Pro', 'Courier', monospace\" font-style=\"italic\" font-size=\"10.00\">choose_node_expansion()</text>\n",
       "</a>\n",
       "</g>\n",
       "<g id=\"a_node1_7\"><a xlink:href=\"#\" xlink:title=\"choose_tree_expansion(self, tree: DerivationTree, children: List[DerivationTree]) &#45;&gt; int:&#10;Return index of subtree in `children` to be selected for expansion.&#10;Defaults to random.\">\n",
       "<text text-anchor=\"start\" x=\"8\" y=\"-211.75\" font-family=\"'Fira Mono', 'Source Code Pro', 'Courier', monospace\" font-size=\"10.00\">choose_tree_expansion()</text>\n",
       "</a>\n",
       "</g>\n",
       "<g id=\"a_node1_8\"><a xlink:href=\"#\" xlink:title=\"expand_node(self, node: DerivationTree) &#45;&gt; DerivationTree\">\n",
       "<text text-anchor=\"start\" x=\"8\" y=\"-199\" font-family=\"'Fira Mono', 'Source Code Pro', 'Courier', monospace\" font-size=\"10.00\">expand_node()</text>\n",
       "</a>\n",
       "</g>\n",
       "<g id=\"a_node1_9\"><a xlink:href=\"#\" xlink:title=\"expand_node_by_cost(self, node: DerivationTree, choose: Callable = &lt;built&#45;in function min&gt;) &#45;&gt; DerivationTree\">\n",
       "<text text-anchor=\"start\" x=\"8\" y=\"-186.25\" font-family=\"'Fira Mono', 'Source Code Pro', 'Courier', monospace\" font-size=\"10.00\">expand_node_by_cost()</text>\n",
       "</a>\n",
       "</g>\n",
       "<g id=\"a_node1_10\"><a xlink:href=\"#\" xlink:title=\"expand_node_max_cost(self, node: DerivationTree) &#45;&gt; DerivationTree\">\n",
       "<text text-anchor=\"start\" x=\"8\" y=\"-173.5\" font-family=\"'Fira Mono', 'Source Code Pro', 'Courier', monospace\" font-size=\"10.00\">expand_node_max_cost()</text>\n",
       "</a>\n",
       "</g>\n",
       "<g id=\"a_node1_11\"><a xlink:href=\"#\" xlink:title=\"expand_node_min_cost(self, node: DerivationTree) &#45;&gt; DerivationTree\">\n",
       "<text text-anchor=\"start\" x=\"8\" y=\"-160.75\" font-family=\"'Fira Mono', 'Source Code Pro', 'Courier', monospace\" font-size=\"10.00\">expand_node_min_cost()</text>\n",
       "</a>\n",
       "</g>\n",
       "<g id=\"a_node1_12\"><a xlink:href=\"#\" xlink:title=\"expand_node_randomly(self, node: DerivationTree) &#45;&gt; DerivationTree:&#10;Choose a random expansion for `node` and return it\">\n",
       "<text text-anchor=\"start\" x=\"8\" y=\"-148\" font-family=\"'Fira Mono', 'Source Code Pro', 'Courier', monospace\" font-size=\"10.00\">expand_node_randomly()</text>\n",
       "</a>\n",
       "</g>\n",
       "<g id=\"a_node1_13\"><a xlink:href=\"#\" xlink:title=\"expand_tree(self, tree: DerivationTree) &#45;&gt; DerivationTree:&#10;Expand `tree` in a three&#45;phase strategy until all expansions are complete.\">\n",
       "<text text-anchor=\"start\" x=\"8\" y=\"-135.25\" font-family=\"'Fira Mono', 'Source Code Pro', 'Courier', monospace\" font-size=\"10.00\">expand_tree()</text>\n",
       "</a>\n",
       "</g>\n",
       "<g id=\"a_node1_14\"><a xlink:href=\"#\" xlink:title=\"expand_tree_once(self, tree: DerivationTree) &#45;&gt; DerivationTree:&#10;Choose an unexpanded symbol in tree; expand it.&#10;Can be overloaded in subclasses.\">\n",
       "<text text-anchor=\"start\" x=\"8\" y=\"-123.5\" font-family=\"'Fira Mono', 'Source Code Pro', 'Courier', monospace\" font-style=\"italic\" font-size=\"10.00\">expand_tree_once()</text>\n",
       "</a>\n",
       "</g>\n",
       "<g id=\"a_node1_15\"><a xlink:href=\"#\" xlink:title=\"expand_tree_with_strategy(self, tree: DerivationTree, expand_node_method: Callable, limit: Optional[int] = None):&#10;Expand tree using `expand_node_method` as node expansion function&#10;until the number of possible expansions reaches `limit`.\">\n",
       "<text text-anchor=\"start\" x=\"8\" y=\"-109.75\" font-family=\"'Fira Mono', 'Source Code Pro', 'Courier', monospace\" font-size=\"10.00\">expand_tree_with_strategy()</text>\n",
       "</a>\n",
       "</g>\n",
       "<g id=\"a_node1_16\"><a xlink:href=\"#\" xlink:title=\"expansion_cost(self, expansion: Expansion, seen: Set[str] = set()) &#45;&gt; Union[int, float]\">\n",
       "<text text-anchor=\"start\" x=\"8\" y=\"-97\" font-family=\"'Fira Mono', 'Source Code Pro', 'Courier', monospace\" font-size=\"10.00\">expansion_cost()</text>\n",
       "</a>\n",
       "</g>\n",
       "<g id=\"a_node1_17\"><a xlink:href=\"#\" xlink:title=\"expansion_to_children(self, expansion: Expansion) &#45;&gt; List[DerivationTree]\">\n",
       "<text text-anchor=\"start\" x=\"8\" y=\"-84.25\" font-family=\"'Fira Mono', 'Source Code Pro', 'Courier', monospace\" font-size=\"10.00\">expansion_to_children()</text>\n",
       "</a>\n",
       "</g>\n",
       "<g id=\"a_node1_18\"><a xlink:href=\"#\" xlink:title=\"init_tree(self) &#45;&gt; DerivationTree\">\n",
       "<text text-anchor=\"start\" x=\"8\" y=\"-71.5\" font-family=\"'Fira Mono', 'Source Code Pro', 'Courier', monospace\" font-size=\"10.00\">init_tree()</text>\n",
       "</a>\n",
       "</g>\n",
       "<g id=\"a_node1_19\"><a xlink:href=\"#\" xlink:title=\"log_tree(self, tree: DerivationTree) &#45;&gt; None:&#10;Output a tree if self.log is set; if self.display is also set, show the tree structure\">\n",
       "<text text-anchor=\"start\" x=\"8\" y=\"-58.75\" font-family=\"'Fira Mono', 'Source Code Pro', 'Courier', monospace\" font-size=\"10.00\">log_tree()</text>\n",
       "</a>\n",
       "</g>\n",
       "<g id=\"a_node1_20\"><a xlink:href=\"#\" xlink:title=\"possible_expansions(self, node: DerivationTree) &#45;&gt; int\">\n",
       "<text text-anchor=\"start\" x=\"8\" y=\"-46\" font-family=\"'Fira Mono', 'Source Code Pro', 'Courier', monospace\" font-size=\"10.00\">possible_expansions()</text>\n",
       "</a>\n",
       "</g>\n",
       "<g id=\"a_node1_21\"><a xlink:href=\"#\" xlink:title=\"process_chosen_children(self, chosen_children: List[DerivationTree], expansion: Expansion) &#45;&gt; List[DerivationTree]:&#10;Process children after selection. &#160;By default, does nothing.\">\n",
       "<text text-anchor=\"start\" x=\"8\" y=\"-33.25\" font-family=\"'Fira Mono', 'Source Code Pro', 'Courier', monospace\" font-size=\"10.00\">process_chosen_children()</text>\n",
       "</a>\n",
       "</g>\n",
       "<g id=\"a_node1_22\"><a xlink:href=\"#\" xlink:title=\"supported_opts(self) &#45;&gt; Set[str]:&#10;Set of supported options. To be overloaded in subclasses.\">\n",
       "<text text-anchor=\"start\" x=\"8\" y=\"-21.5\" font-family=\"'Fira Mono', 'Source Code Pro', 'Courier', monospace\" font-style=\"italic\" font-size=\"10.00\">supported_opts()</text>\n",
       "</a>\n",
       "</g>\n",
       "<g id=\"a_node1_23\"><a xlink:href=\"#\" xlink:title=\"symbol_cost(self, symbol: str, seen: Set[str] = set()) &#45;&gt; Union[int, float]\">\n",
       "<text text-anchor=\"start\" x=\"8\" y=\"-7.75\" font-family=\"'Fira Mono', 'Source Code Pro', 'Courier', monospace\" font-size=\"10.00\">symbol_cost()</text>\n",
       "</a>\n",
       "</g>\n",
       "</a>\n",
       "</g>\n",
       "</a>\n",
       "</g>\n",
       "</g>\n",
       "<!-- Fuzzer -->\n",
       "<g id=\"node2\" class=\"node\">\n",
       "<title>Fuzzer</title>\n",
       "<g id=\"a_node2\"><a xlink:href=\"Fuzzer.ipynb\" xlink:title=\"class Fuzzer:&#10;Base class for fuzzers.\">\n",
       "<polygon fill=\"none\" stroke=\"black\" points=\"51,-364.75 51,-449.75 127,-449.75 127,-364.75 51,-364.75\"/>\n",
       "<text text-anchor=\"start\" x=\"68.38\" y=\"-433.45\" font-family=\"Patua One, Helvetica, sans-serif\" font-weight=\"bold\" font-size=\"14.00\" fill=\"#b03a2e\">Fuzzer</text>\n",
       "<polyline fill=\"none\" stroke=\"black\" points=\"51,-423.75 127,-423.75\"/>\n",
       "<g id=\"a_node2_24\"><a xlink:href=\"#\" xlink:title=\"Fuzzer\">\n",
       "<g id=\"a_node2_25\"><a xlink:href=\"Fuzzer.ipynb\" xlink:title=\"__init__(self) &#45;&gt; None:&#10;Constructor\">\n",
       "<text text-anchor=\"start\" x=\"59\" y=\"-411.25\" font-family=\"'Fira Mono', 'Source Code Pro', 'Courier', monospace\" font-weight=\"bold\" font-style=\"italic\" font-size=\"10.00\">__init__()</text>\n",
       "</a>\n",
       "</g>\n",
       "<g id=\"a_node2_26\"><a xlink:href=\"Fuzzer.ipynb\" xlink:title=\"fuzz(self) &#45;&gt; str:&#10;Return fuzz input\">\n",
       "<text text-anchor=\"start\" x=\"59\" y=\"-398.5\" font-family=\"'Fira Mono', 'Source Code Pro', 'Courier', monospace\" font-weight=\"bold\" font-style=\"italic\" font-size=\"10.00\">fuzz()</text>\n",
       "</a>\n",
       "</g>\n",
       "<g id=\"a_node2_27\"><a xlink:href=\"Fuzzer.ipynb\" xlink:title=\"run(self, runner: Fuzzer.Runner = &lt;Fuzzer.Runner object at 0x120792ec0&gt;) &#45;&gt; Tuple[subprocess.CompletedProcess, str]:&#10;Run `runner` with fuzz input\">\n",
       "<text text-anchor=\"start\" x=\"59\" y=\"-385.75\" font-family=\"'Fira Mono', 'Source Code Pro', 'Courier', monospace\" font-weight=\"bold\" font-size=\"10.00\">run()</text>\n",
       "</a>\n",
       "</g>\n",
       "<g id=\"a_node2_28\"><a xlink:href=\"Fuzzer.ipynb\" xlink:title=\"runs(self, runner: Fuzzer.Runner = &lt;Fuzzer.PrintRunner object at 0x1207929e0&gt;, trials: int = 10) &#45;&gt; List[Tuple[subprocess.CompletedProcess, str]]:&#10;Run `runner` with fuzz input, `trials` times\">\n",
       "<text text-anchor=\"start\" x=\"59\" y=\"-373\" font-family=\"'Fira Mono', 'Source Code Pro', 'Courier', monospace\" font-weight=\"bold\" font-size=\"10.00\">runs()</text>\n",
       "</a>\n",
       "</g>\n",
       "</a>\n",
       "</g>\n",
       "</a>\n",
       "</g>\n",
       "</g>\n",
       "<!-- GrammarFuzzer&#45;&gt;Fuzzer -->\n",
       "<g id=\"edge1\" class=\"edge\">\n",
       "<title>GrammarFuzzer&#45;&gt;Fuzzer</title>\n",
       "<path fill=\"none\" stroke=\"black\" d=\"M89,-327.96C89,-336.73 89,-345.15 89,-353.01\"/>\n",
       "<polygon fill=\"none\" stroke=\"black\" points=\"85.5,-352.96 89,-362.96 92.5,-352.96 85.5,-352.96\"/>\n",
       "</g>\n",
       "<!-- Legend -->\n",
       "<g id=\"node3\" class=\"node\">\n",
       "<title>Legend</title>\n",
       "<text text-anchor=\"start\" x=\"196.38\" y=\"-180.12\" font-family=\"Patua One, Helvetica, sans-serif\" font-weight=\"bold\" font-size=\"10.00\" fill=\"#b03a2e\">Legend</text>\n",
       "<text text-anchor=\"start\" x=\"196.38\" y=\"-170.12\" font-family=\"Patua One, Helvetica, sans-serif\" font-size=\"10.00\">• </text>\n",
       "<text text-anchor=\"start\" x=\"202.38\" y=\"-170.12\" font-family=\"'Fira Mono', 'Source Code Pro', 'Courier', monospace\" font-weight=\"bold\" font-size=\"8.00\">public_method()</text>\n",
       "<text text-anchor=\"start\" x=\"196.38\" y=\"-160.12\" font-family=\"Patua One, Helvetica, sans-serif\" font-size=\"10.00\">• </text>\n",
       "<text text-anchor=\"start\" x=\"202.38\" y=\"-160.12\" font-family=\"'Fira Mono', 'Source Code Pro', 'Courier', monospace\" font-size=\"8.00\">private_method()</text>\n",
       "<text text-anchor=\"start\" x=\"196.38\" y=\"-150.12\" font-family=\"Patua One, Helvetica, sans-serif\" font-size=\"10.00\">• </text>\n",
       "<text text-anchor=\"start\" x=\"202.38\" y=\"-150.12\" font-family=\"'Fira Mono', 'Source Code Pro', 'Courier', monospace\" font-style=\"italic\" font-size=\"8.00\">overloaded_method()</text>\n",
       "<text text-anchor=\"start\" x=\"196.38\" y=\"-141.07\" font-family=\"Helvetica,sans-Serif\" font-size=\"9.00\">Hover over names to see doc</text>\n",
       "</g>\n",
       "</g>\n",
       "</svg>\n"
      ],
      "text/plain": [
       "<graphviz.graphs.Digraph at 0x15d639e70>"
      ]
     },
     "execution_count": 135,
     "metadata": {},
     "output_type": "execute_result"
    }
   ],
   "source": [
    "# ignore\n",
    "display_class_hierarchy([GrammarFuzzer],\n",
    "                        public_methods=[\n",
    "                            Fuzzer.__init__,\n",
    "                            Fuzzer.fuzz,\n",
    "                            Fuzzer.run,\n",
    "                            Fuzzer.runs,\n",
    "                            GrammarFuzzer.__init__,\n",
    "                            GrammarFuzzer.fuzz,\n",
    "                            GrammarFuzzer.fuzz_tree,\n",
    "                        ],\n",
    "                        types={\n",
    "                            'DerivationTree': DerivationTree,\n",
    "                            'Expansion': Expansion,\n",
    "                            'Grammar': Grammar\n",
    "                        },\n",
    "                        project='fuzzingbook')"
   ]
  },
  {
   "cell_type": "markdown",
   "metadata": {
    "slideshow": {
     "slide_type": "subslide"
    }
   },
   "source": [
    "### Derivation Trees"
   ]
  },
  {
   "cell_type": "markdown",
   "metadata": {
    "slideshow": {
     "slide_type": "fragment"
    }
   },
   "source": [
    "Internally, `GrammarFuzzer` makes use of [derivation trees](#Derivation-Trees), which it expands step by step.  After producing a string, the tree produced can be accessed in the `derivation_tree` attribute."
   ]
  },
  {
   "cell_type": "code",
   "execution_count": 136,
   "metadata": {
    "execution": {
     "iopub.execute_input": "2024-06-29T16:13:26.212847Z",
     "iopub.status.busy": "2024-06-29T16:13:26.212704Z",
     "iopub.status.idle": "2024-06-29T16:13:26.622727Z",
     "shell.execute_reply": "2024-06-29T16:13:26.622353Z"
    },
    "slideshow": {
     "slide_type": "fragment"
    }
   },
   "outputs": [
    {
     "data": {
      "image/svg+xml": [
       "<?xml version=\"1.0\" encoding=\"UTF-8\" standalone=\"no\"?>\n",
       "<!DOCTYPE svg PUBLIC \"-//W3C//DTD SVG 1.1//EN\"\n",
       " \"http://www.w3.org/Graphics/SVG/1.1/DTD/svg11.dtd\">\n",
       "<!-- Generated by graphviz version 11.0.0 (20240428.1522)\n",
       " -->\n",
       "<!-- Pages: 1 -->\n",
       "<svg width=\"636pt\" height=\"223pt\"\n",
       " viewBox=\"0.00 0.00 635.75 223.25\" xmlns=\"http://www.w3.org/2000/svg\" xmlns:xlink=\"http://www.w3.org/1999/xlink\">\n",
       "<g id=\"graph0\" class=\"graph\" transform=\"scale(1 1) rotate(0) translate(4 219.25)\">\n",
       "<polygon fill=\"white\" stroke=\"none\" points=\"-4,4 -4,-219.25 631.75,-219.25 631.75,4 -4,4\"/>\n",
       "<!-- 0 -->\n",
       "<g id=\"node1\" class=\"node\">\n",
       "<title>0</title>\n",
       "<text text-anchor=\"middle\" x=\"265.12\" y=\"-201.95\" font-family=\"Times,serif\" font-size=\"14.00\">&lt;start&gt;</text>\n",
       "</g>\n",
       "<!-- 1 -->\n",
       "<g id=\"node2\" class=\"node\">\n",
       "<title>1</title>\n",
       "<text text-anchor=\"middle\" x=\"265.12\" y=\"-151.7\" font-family=\"Times,serif\" font-size=\"14.00\">&lt;phone&#45;number&gt;</text>\n",
       "</g>\n",
       "<!-- 0&#45;&gt;1 -->\n",
       "<g id=\"edge1\" class=\"edge\">\n",
       "<title>0&#45;&gt;1</title>\n",
       "<path fill=\"none\" stroke=\"black\" d=\"M265.12,-201.21C265.12,-194.99 265.12,-184.9 265.12,-176.14\"/>\n",
       "<polygon fill=\"black\" stroke=\"black\" points=\"268.63,-176.35 265.13,-166.35 261.63,-176.35 268.63,-176.35\"/>\n",
       "</g>\n",
       "<!-- 2 -->\n",
       "<g id=\"node3\" class=\"node\">\n",
       "<title>2</title>\n",
       "<text text-anchor=\"middle\" x=\"113.12\" y=\"-101.45\" font-family=\"Times,serif\" font-size=\"14.00\">( (40)</text>\n",
       "</g>\n",
       "<!-- 1&#45;&gt;2 -->\n",
       "<g id=\"edge2\" class=\"edge\">\n",
       "<title>1&#45;&gt;2</title>\n",
       "<path fill=\"none\" stroke=\"black\" d=\"M245.87,-150.76C218.79,-142.17 169.38,-126.48 139.08,-116.86\"/>\n",
       "<polygon fill=\"black\" stroke=\"black\" points=\"140.15,-113.53 129.56,-113.84 138.03,-120.2 140.15,-113.53\"/>\n",
       "</g>\n",
       "<!-- 3 -->\n",
       "<g id=\"node4\" class=\"node\">\n",
       "<title>3</title>\n",
       "<text text-anchor=\"middle\" x=\"166.12\" y=\"-101.45\" font-family=\"Times,serif\" font-size=\"14.00\">&lt;area&gt;</text>\n",
       "</g>\n",
       "<!-- 1&#45;&gt;3 -->\n",
       "<g id=\"edge3\" class=\"edge\">\n",
       "<title>1&#45;&gt;3</title>\n",
       "<path fill=\"none\" stroke=\"black\" d=\"M252.59,-150.76C236.59,-142.97 208.64,-129.35 188.85,-119.7\"/>\n",
       "<polygon fill=\"black\" stroke=\"black\" points=\"190.44,-116.58 179.92,-115.35 187.38,-122.88 190.44,-116.58\"/>\n",
       "</g>\n",
       "<!-- 10 -->\n",
       "<g id=\"node11\" class=\"node\">\n",
       "<title>10</title>\n",
       "<text text-anchor=\"middle\" x=\"232.12\" y=\"-101.45\" font-family=\"Times,serif\" font-size=\"14.00\">) (41)</text>\n",
       "</g>\n",
       "<!-- 1&#45;&gt;10 -->\n",
       "<g id=\"edge10\" class=\"edge\">\n",
       "<title>1&#45;&gt;10</title>\n",
       "<path fill=\"none\" stroke=\"black\" d=\"M261.08,-150.96C256.53,-144.3 248.95,-133.23 242.69,-124.07\"/>\n",
       "<polygon fill=\"black\" stroke=\"black\" points=\"245.59,-122.12 237.06,-115.84 239.82,-126.07 245.59,-122.12\"/>\n",
       "</g>\n",
       "<!-- 11 -->\n",
       "<g id=\"node12\" class=\"node\">\n",
       "<title>11</title>\n",
       "<text text-anchor=\"middle\" x=\"299.12\" y=\"-101.45\" font-family=\"Times,serif\" font-size=\"14.00\">&lt;exchange&gt;</text>\n",
       "</g>\n",
       "<!-- 1&#45;&gt;11 -->\n",
       "<g id=\"edge11\" class=\"edge\">\n",
       "<title>1&#45;&gt;11</title>\n",
       "<path fill=\"none\" stroke=\"black\" d=\"M269.29,-150.96C274.04,-144.23 281.96,-132.98 288.45,-123.77\"/>\n",
       "<polygon fill=\"black\" stroke=\"black\" points=\"291.15,-126.02 294.05,-115.83 285.43,-121.99 291.15,-126.02\"/>\n",
       "</g>\n",
       "<!-- 18 -->\n",
       "<g id=\"node19\" class=\"node\">\n",
       "<title>18</title>\n",
       "<text text-anchor=\"middle\" x=\"366.12\" y=\"-101.45\" font-family=\"Times,serif\" font-size=\"14.00\">&#45; (45)</text>\n",
       "</g>\n",
       "<!-- 1&#45;&gt;18 -->\n",
       "<g id=\"edge18\" class=\"edge\">\n",
       "<title>1&#45;&gt;18</title>\n",
       "<path fill=\"none\" stroke=\"black\" d=\"M277.92,-150.76C294.31,-142.93 323.02,-129.22 343.22,-119.57\"/>\n",
       "<polygon fill=\"black\" stroke=\"black\" points=\"344.56,-122.81 352.07,-115.34 341.54,-116.49 344.56,-122.81\"/>\n",
       "</g>\n",
       "<!-- 19 -->\n",
       "<g id=\"node20\" class=\"node\">\n",
       "<title>19</title>\n",
       "<text text-anchor=\"middle\" x=\"489.12\" y=\"-101.45\" font-family=\"Times,serif\" font-size=\"14.00\">&lt;line&gt;</text>\n",
       "</g>\n",
       "<!-- 1&#45;&gt;19 -->\n",
       "<g id=\"edge19\" class=\"edge\">\n",
       "<title>1&#45;&gt;19</title>\n",
       "<path fill=\"none\" stroke=\"black\" d=\"M293.49,-150.76C336.22,-141.56 416.65,-124.24 459.88,-114.92\"/>\n",
       "<polygon fill=\"black\" stroke=\"black\" points=\"460.51,-118.37 469.54,-112.84 459.03,-111.53 460.51,-118.37\"/>\n",
       "</g>\n",
       "<!-- 4 -->\n",
       "<g id=\"node5\" class=\"node\">\n",
       "<title>4</title>\n",
       "<text text-anchor=\"middle\" x=\"34.12\" y=\"-51.2\" font-family=\"Times,serif\" font-size=\"14.00\">&lt;lead&#45;digit&gt;</text>\n",
       "</g>\n",
       "<!-- 3&#45;&gt;4 -->\n",
       "<g id=\"edge4\" class=\"edge\">\n",
       "<title>3&#45;&gt;4</title>\n",
       "<path fill=\"none\" stroke=\"black\" d=\"M149.41,-100.51C127.19,-92.39 87.66,-77.94 61.17,-68.26\"/>\n",
       "<polygon fill=\"black\" stroke=\"black\" points=\"62.72,-65.1 52.13,-64.96 60.32,-71.68 62.72,-65.1\"/>\n",
       "</g>\n",
       "<!-- 6 -->\n",
       "<g id=\"node7\" class=\"node\">\n",
       "<title>6</title>\n",
       "<text text-anchor=\"middle\" x=\"107.12\" y=\"-51.2\" font-family=\"Times,serif\" font-size=\"14.00\">&lt;digit&gt;</text>\n",
       "</g>\n",
       "<!-- 3&#45;&gt;6 -->\n",
       "<g id=\"edge6\" class=\"edge\">\n",
       "<title>3&#45;&gt;6</title>\n",
       "<path fill=\"none\" stroke=\"black\" d=\"M158.89,-100.71C150.04,-93.47 134.81,-81.02 123.15,-71.48\"/>\n",
       "<polygon fill=\"black\" stroke=\"black\" points=\"125.55,-68.92 115.59,-65.3 121.12,-74.34 125.55,-68.92\"/>\n",
       "</g>\n",
       "<!-- 8 -->\n",
       "<g id=\"node9\" class=\"node\">\n",
       "<title>8</title>\n",
       "<text text-anchor=\"middle\" x=\"166.12\" y=\"-51.2\" font-family=\"Times,serif\" font-size=\"14.00\">&lt;digit&gt;</text>\n",
       "</g>\n",
       "<!-- 3&#45;&gt;8 -->\n",
       "<g id=\"edge8\" class=\"edge\">\n",
       "<title>3&#45;&gt;8</title>\n",
       "<path fill=\"none\" stroke=\"black\" d=\"M166.12,-100.71C166.12,-94.49 166.12,-84.4 166.12,-75.64\"/>\n",
       "<polygon fill=\"black\" stroke=\"black\" points=\"169.63,-75.85 166.13,-65.85 162.63,-75.85 169.63,-75.85\"/>\n",
       "</g>\n",
       "<!-- 5 -->\n",
       "<g id=\"node6\" class=\"node\">\n",
       "<title>5</title>\n",
       "<text text-anchor=\"middle\" x=\"34.12\" y=\"-0.95\" font-family=\"Times,serif\" font-size=\"14.00\">8 (56)</text>\n",
       "</g>\n",
       "<!-- 4&#45;&gt;5 -->\n",
       "<g id=\"edge5\" class=\"edge\">\n",
       "<title>4&#45;&gt;5</title>\n",
       "<path fill=\"none\" stroke=\"black\" d=\"M34.12,-50.46C34.12,-44.24 34.12,-34.15 34.12,-25.39\"/>\n",
       "<polygon fill=\"black\" stroke=\"black\" points=\"37.63,-25.6 34.13,-15.6 30.63,-25.6 37.63,-25.6\"/>\n",
       "</g>\n",
       "<!-- 7 -->\n",
       "<g id=\"node8\" class=\"node\">\n",
       "<title>7</title>\n",
       "<text text-anchor=\"middle\" x=\"107.12\" y=\"-0.95\" font-family=\"Times,serif\" font-size=\"14.00\">8 (56)</text>\n",
       "</g>\n",
       "<!-- 6&#45;&gt;7 -->\n",
       "<g id=\"edge7\" class=\"edge\">\n",
       "<title>6&#45;&gt;7</title>\n",
       "<path fill=\"none\" stroke=\"black\" d=\"M107.12,-50.46C107.12,-44.24 107.12,-34.15 107.12,-25.39\"/>\n",
       "<polygon fill=\"black\" stroke=\"black\" points=\"110.63,-25.6 107.13,-15.6 103.63,-25.6 110.63,-25.6\"/>\n",
       "</g>\n",
       "<!-- 9 -->\n",
       "<g id=\"node10\" class=\"node\">\n",
       "<title>9</title>\n",
       "<text text-anchor=\"middle\" x=\"166.12\" y=\"-0.95\" font-family=\"Times,serif\" font-size=\"14.00\">3 (51)</text>\n",
       "</g>\n",
       "<!-- 8&#45;&gt;9 -->\n",
       "<g id=\"edge9\" class=\"edge\">\n",
       "<title>8&#45;&gt;9</title>\n",
       "<path fill=\"none\" stroke=\"black\" d=\"M166.12,-50.46C166.12,-44.24 166.12,-34.15 166.12,-25.39\"/>\n",
       "<polygon fill=\"black\" stroke=\"black\" points=\"169.63,-25.6 166.13,-15.6 162.63,-25.6 169.63,-25.6\"/>\n",
       "</g>\n",
       "<!-- 12 -->\n",
       "<g id=\"node13\" class=\"node\">\n",
       "<title>12</title>\n",
       "<text text-anchor=\"middle\" x=\"239.12\" y=\"-51.2\" font-family=\"Times,serif\" font-size=\"14.00\">&lt;lead&#45;digit&gt;</text>\n",
       "</g>\n",
       "<!-- 11&#45;&gt;12 -->\n",
       "<g id=\"edge12\" class=\"edge\">\n",
       "<title>11&#45;&gt;12</title>\n",
       "<path fill=\"none\" stroke=\"black\" d=\"M291.77,-100.71C282.77,-93.47 267.28,-81.02 255.42,-71.48\"/>\n",
       "<polygon fill=\"black\" stroke=\"black\" points=\"257.71,-68.83 247.72,-65.29 253.32,-74.28 257.71,-68.83\"/>\n",
       "</g>\n",
       "<!-- 14 -->\n",
       "<g id=\"node15\" class=\"node\">\n",
       "<title>14</title>\n",
       "<text text-anchor=\"middle\" x=\"312.12\" y=\"-51.2\" font-family=\"Times,serif\" font-size=\"14.00\">&lt;digit&gt;</text>\n",
       "</g>\n",
       "<!-- 11&#45;&gt;14 -->\n",
       "<g id=\"edge14\" class=\"edge\">\n",
       "<title>11&#45;&gt;14</title>\n",
       "<path fill=\"none\" stroke=\"black\" d=\"M300.72,-100.71C302.41,-94.41 305.18,-84.17 307.56,-75.33\"/>\n",
       "<polygon fill=\"black\" stroke=\"black\" points=\"310.9,-76.37 310.12,-65.8 304.14,-74.55 310.9,-76.37\"/>\n",
       "</g>\n",
       "<!-- 16 -->\n",
       "<g id=\"node17\" class=\"node\">\n",
       "<title>16</title>\n",
       "<text text-anchor=\"middle\" x=\"371.12\" y=\"-51.2\" font-family=\"Times,serif\" font-size=\"14.00\">&lt;digit&gt;</text>\n",
       "</g>\n",
       "<!-- 11&#45;&gt;16 -->\n",
       "<g id=\"edge16\" class=\"edge\">\n",
       "<title>11&#45;&gt;16</title>\n",
       "<path fill=\"none\" stroke=\"black\" d=\"M308.24,-100.51C319.45,-93 338.73,-80.09 352.99,-70.53\"/>\n",
       "<polygon fill=\"black\" stroke=\"black\" points=\"354.69,-73.6 361.05,-65.13 350.79,-67.79 354.69,-73.6\"/>\n",
       "</g>\n",
       "<!-- 13 -->\n",
       "<g id=\"node14\" class=\"node\">\n",
       "<title>13</title>\n",
       "<text text-anchor=\"middle\" x=\"239.12\" y=\"-0.95\" font-family=\"Times,serif\" font-size=\"14.00\">8 (56)</text>\n",
       "</g>\n",
       "<!-- 12&#45;&gt;13 -->\n",
       "<g id=\"edge13\" class=\"edge\">\n",
       "<title>12&#45;&gt;13</title>\n",
       "<path fill=\"none\" stroke=\"black\" d=\"M239.12,-50.46C239.12,-44.24 239.12,-34.15 239.12,-25.39\"/>\n",
       "<polygon fill=\"black\" stroke=\"black\" points=\"242.63,-25.6 239.13,-15.6 235.63,-25.6 242.63,-25.6\"/>\n",
       "</g>\n",
       "<!-- 15 -->\n",
       "<g id=\"node16\" class=\"node\">\n",
       "<title>15</title>\n",
       "<text text-anchor=\"middle\" x=\"312.12\" y=\"-0.95\" font-family=\"Times,serif\" font-size=\"14.00\">9 (57)</text>\n",
       "</g>\n",
       "<!-- 14&#45;&gt;15 -->\n",
       "<g id=\"edge15\" class=\"edge\">\n",
       "<title>14&#45;&gt;15</title>\n",
       "<path fill=\"none\" stroke=\"black\" d=\"M312.12,-50.46C312.12,-44.24 312.12,-34.15 312.12,-25.39\"/>\n",
       "<polygon fill=\"black\" stroke=\"black\" points=\"315.63,-25.6 312.13,-15.6 308.63,-25.6 315.63,-25.6\"/>\n",
       "</g>\n",
       "<!-- 17 -->\n",
       "<g id=\"node18\" class=\"node\">\n",
       "<title>17</title>\n",
       "<text text-anchor=\"middle\" x=\"371.12\" y=\"-0.95\" font-family=\"Times,serif\" font-size=\"14.00\">7 (55)</text>\n",
       "</g>\n",
       "<!-- 16&#45;&gt;17 -->\n",
       "<g id=\"edge17\" class=\"edge\">\n",
       "<title>16&#45;&gt;17</title>\n",
       "<path fill=\"none\" stroke=\"black\" d=\"M371.12,-50.46C371.12,-44.24 371.12,-34.15 371.12,-25.39\"/>\n",
       "<polygon fill=\"black\" stroke=\"black\" points=\"374.63,-25.6 371.13,-15.6 367.63,-25.6 374.63,-25.6\"/>\n",
       "</g>\n",
       "<!-- 20 -->\n",
       "<g id=\"node21\" class=\"node\">\n",
       "<title>20</title>\n",
       "<text text-anchor=\"middle\" x=\"430.12\" y=\"-51.2\" font-family=\"Times,serif\" font-size=\"14.00\">&lt;digit&gt;</text>\n",
       "</g>\n",
       "<!-- 19&#45;&gt;20 -->\n",
       "<g id=\"edge20\" class=\"edge\">\n",
       "<title>19&#45;&gt;20</title>\n",
       "<path fill=\"none\" stroke=\"black\" d=\"M481.89,-100.71C473.04,-93.47 457.81,-81.02 446.15,-71.48\"/>\n",
       "<polygon fill=\"black\" stroke=\"black\" points=\"448.55,-68.92 438.59,-65.3 444.12,-74.34 448.55,-68.92\"/>\n",
       "</g>\n",
       "<!-- 22 -->\n",
       "<g id=\"node23\" class=\"node\">\n",
       "<title>22</title>\n",
       "<text text-anchor=\"middle\" x=\"489.12\" y=\"-51.2\" font-family=\"Times,serif\" font-size=\"14.00\">&lt;digit&gt;</text>\n",
       "</g>\n",
       "<!-- 19&#45;&gt;22 -->\n",
       "<g id=\"edge22\" class=\"edge\">\n",
       "<title>19&#45;&gt;22</title>\n",
       "<path fill=\"none\" stroke=\"black\" d=\"M489.12,-100.71C489.12,-94.49 489.12,-84.4 489.12,-75.64\"/>\n",
       "<polygon fill=\"black\" stroke=\"black\" points=\"492.63,-75.85 489.13,-65.85 485.63,-75.85 492.63,-75.85\"/>\n",
       "</g>\n",
       "<!-- 24 -->\n",
       "<g id=\"node25\" class=\"node\">\n",
       "<title>24</title>\n",
       "<text text-anchor=\"middle\" x=\"548.12\" y=\"-51.2\" font-family=\"Times,serif\" font-size=\"14.00\">&lt;digit&gt;</text>\n",
       "</g>\n",
       "<!-- 19&#45;&gt;24 -->\n",
       "<g id=\"edge24\" class=\"edge\">\n",
       "<title>19&#45;&gt;24</title>\n",
       "<path fill=\"none\" stroke=\"black\" d=\"M496.36,-100.71C505.21,-93.47 520.44,-81.02 532.1,-71.48\"/>\n",
       "<polygon fill=\"black\" stroke=\"black\" points=\"534.13,-74.34 539.66,-65.3 529.7,-68.92 534.13,-74.34\"/>\n",
       "</g>\n",
       "<!-- 26 -->\n",
       "<g id=\"node27\" class=\"node\">\n",
       "<title>26</title>\n",
       "<text text-anchor=\"middle\" x=\"607.12\" y=\"-51.2\" font-family=\"Times,serif\" font-size=\"14.00\">&lt;digit&gt;</text>\n",
       "</g>\n",
       "<!-- 19&#45;&gt;26 -->\n",
       "<g id=\"edge26\" class=\"edge\">\n",
       "<title>19&#45;&gt;26</title>\n",
       "<path fill=\"none\" stroke=\"black\" d=\"M504.07,-100.51C523.58,-92.54 558.01,-78.46 581.67,-68.79\"/>\n",
       "<polygon fill=\"black\" stroke=\"black\" points=\"582.97,-72.03 590.9,-65.01 580.32,-65.55 582.97,-72.03\"/>\n",
       "</g>\n",
       "<!-- 21 -->\n",
       "<g id=\"node22\" class=\"node\">\n",
       "<title>21</title>\n",
       "<text text-anchor=\"middle\" x=\"430.12\" y=\"-0.95\" font-family=\"Times,serif\" font-size=\"14.00\">2 (50)</text>\n",
       "</g>\n",
       "<!-- 20&#45;&gt;21 -->\n",
       "<g id=\"edge21\" class=\"edge\">\n",
       "<title>20&#45;&gt;21</title>\n",
       "<path fill=\"none\" stroke=\"black\" d=\"M430.12,-50.46C430.12,-44.24 430.12,-34.15 430.12,-25.39\"/>\n",
       "<polygon fill=\"black\" stroke=\"black\" points=\"433.63,-25.6 430.13,-15.6 426.63,-25.6 433.63,-25.6\"/>\n",
       "</g>\n",
       "<!-- 23 -->\n",
       "<g id=\"node24\" class=\"node\">\n",
       "<title>23</title>\n",
       "<text text-anchor=\"middle\" x=\"489.12\" y=\"-0.95\" font-family=\"Times,serif\" font-size=\"14.00\">1 (49)</text>\n",
       "</g>\n",
       "<!-- 22&#45;&gt;23 -->\n",
       "<g id=\"edge23\" class=\"edge\">\n",
       "<title>22&#45;&gt;23</title>\n",
       "<path fill=\"none\" stroke=\"black\" d=\"M489.12,-50.46C489.12,-44.24 489.12,-34.15 489.12,-25.39\"/>\n",
       "<polygon fill=\"black\" stroke=\"black\" points=\"492.63,-25.6 489.13,-15.6 485.63,-25.6 492.63,-25.6\"/>\n",
       "</g>\n",
       "<!-- 25 -->\n",
       "<g id=\"node26\" class=\"node\">\n",
       "<title>25</title>\n",
       "<text text-anchor=\"middle\" x=\"548.12\" y=\"-0.95\" font-family=\"Times,serif\" font-size=\"14.00\">2 (50)</text>\n",
       "</g>\n",
       "<!-- 24&#45;&gt;25 -->\n",
       "<g id=\"edge25\" class=\"edge\">\n",
       "<title>24&#45;&gt;25</title>\n",
       "<path fill=\"none\" stroke=\"black\" d=\"M548.12,-50.46C548.12,-44.24 548.12,-34.15 548.12,-25.39\"/>\n",
       "<polygon fill=\"black\" stroke=\"black\" points=\"551.63,-25.6 548.13,-15.6 544.63,-25.6 551.63,-25.6\"/>\n",
       "</g>\n",
       "<!-- 27 -->\n",
       "<g id=\"node28\" class=\"node\">\n",
       "<title>27</title>\n",
       "<text text-anchor=\"middle\" x=\"607.12\" y=\"-0.95\" font-family=\"Times,serif\" font-size=\"14.00\">0 (48)</text>\n",
       "</g>\n",
       "<!-- 26&#45;&gt;27 -->\n",
       "<g id=\"edge27\" class=\"edge\">\n",
       "<title>26&#45;&gt;27</title>\n",
       "<path fill=\"none\" stroke=\"black\" d=\"M607.12,-50.46C607.12,-44.24 607.12,-34.15 607.12,-25.39\"/>\n",
       "<polygon fill=\"black\" stroke=\"black\" points=\"610.63,-25.6 607.13,-15.6 603.63,-25.6 610.63,-25.6\"/>\n",
       "</g>\n",
       "</g>\n",
       "</svg>\n"
      ],
      "text/plain": [
       "<graphviz.graphs.Digraph at 0x15d63a590>"
      ]
     },
     "execution_count": 136,
     "metadata": {},
     "output_type": "execute_result"
    }
   ],
   "source": [
    "display_tree(phone_fuzzer.derivation_tree)"
   ]
  },
  {
   "cell_type": "markdown",
   "metadata": {
    "slideshow": {
     "slide_type": "fragment"
    }
   },
   "source": [
    "In the internal representation of a derivation tree, a _node_ is a pair (`symbol`, `children`).  For nonterminals, `symbol` is the symbol that is being expanded, and `children` is a list of further nodes.  For terminals, `symbol` is the terminal string, and `children` is empty."
   ]
  },
  {
   "cell_type": "code",
   "execution_count": 137,
   "metadata": {
    "execution": {
     "iopub.execute_input": "2024-06-29T16:13:26.624608Z",
     "iopub.status.busy": "2024-06-29T16:13:26.624455Z",
     "iopub.status.idle": "2024-06-29T16:13:26.628059Z",
     "shell.execute_reply": "2024-06-29T16:13:26.627747Z"
    },
    "slideshow": {
     "slide_type": "subslide"
    }
   },
   "outputs": [
    {
     "data": {
      "text/plain": [
       "('<start>',\n",
       " [('<phone-number>',\n",
       "   [('(', []),\n",
       "    ('<area>',\n",
       "     [('<lead-digit>', [('8', [])]),\n",
       "      ('<digit>', [('8', [])]),\n",
       "      ('<digit>', [('3', [])])]),\n",
       "    (')', []),\n",
       "    ('<exchange>',\n",
       "     [('<lead-digit>', [('8', [])]),\n",
       "      ('<digit>', [('9', [])]),\n",
       "      ('<digit>', [('7', [])])]),\n",
       "    ('-', []),\n",
       "    ('<line>',\n",
       "     [('<digit>', [('2', [])]),\n",
       "      ('<digit>', [('1', [])]),\n",
       "      ('<digit>', [('2', [])]),\n",
       "      ('<digit>', [('0', [])])])])])"
      ]
     },
     "execution_count": 137,
     "metadata": {},
     "output_type": "execute_result"
    }
   ],
   "source": [
    "phone_fuzzer.derivation_tree"
   ]
  },
  {
   "cell_type": "markdown",
   "metadata": {
    "slideshow": {
     "slide_type": "subslide"
    }
   },
   "source": [
    "The chapter contains various helpers to work with derivation trees, including visualization tools – notably, `display_tree()`, above."
   ]
  },
  {
   "cell_type": "markdown",
   "metadata": {
    "button": false,
    "new_sheet": true,
    "run_control": {
     "read_only": false
    },
    "slideshow": {
     "slide_type": "slide"
    }
   },
   "source": [
    "## Lessons Learned\n",
    "\n",
    "* _Derivation trees_ are important for expressing input structure\n",
    "* _Grammar fuzzing based on derivation trees_ \n",
    "    1. is much more efficient than string-based grammar fuzzing,\n",
    "    2. gives much better control over input generation, and\n",
    "    3. effectively avoids running into infinite expansions."
   ]
  },
  {
   "cell_type": "markdown",
   "metadata": {
    "button": false,
    "new_sheet": false,
    "run_control": {
     "read_only": false
    },
    "slideshow": {
     "slide_type": "skip"
    }
   },
   "source": [
    "## Next Steps\n",
    "\n",
    "Congratulations!  You have reached one of the central \"hubs\" of the book.  From here, there is a wide range of techniques that build on grammar fuzzing."
   ]
  },
  {
   "attachments": {},
   "cell_type": "markdown",
   "metadata": {
    "button": false,
    "new_sheet": false,
    "run_control": {
     "read_only": false
    },
    "slideshow": {
     "slide_type": "skip"
    }
   },
   "source": [
    "### Extending Grammars\n",
    "\n",
    "First, we have a number of techniques that all _extend_ grammars in some form:\n",
    "\n",
    "* [Parsing and recombining inputs](Parser.ipynb) allows making use of existing inputs, again using derivation trees\n",
    "* [Covering grammar expansions](GrammarCoverageFuzzer.ipynb) allows for _combinatorial_ coverage\n",
    "* [Assigning _probabilities_ to individual expansions](ProbabilisticGrammarFuzzer.ipynb) gives additional control over expansions\n",
    "* [Assigning _constraints_ to individual expansions](GeneratorGrammarFuzzer.ipynb) allows expressing _semantic constraints_ on individual rules."
   ]
  },
  {
   "cell_type": "markdown",
   "metadata": {
    "button": false,
    "new_sheet": false,
    "run_control": {
     "read_only": false
    },
    "slideshow": {
     "slide_type": "skip"
    }
   },
   "source": [
    "### Applying Grammars\n",
    "\n",
    "Second, we can _apply_ grammars in a variety of contexts that all involve some form of learning it automatically:\n",
    "\n",
    "* [Fuzzing APIs](APIFuzzer.ipynb), learning a grammar from APIs\n",
    "* [Fuzzing graphical user interfaces](WebFuzzer.ipynb), learning a grammar from user interfaces for subsequent fuzzing\n",
    "* [Mining grammars](GrammarMiner.ipynb), learning a grammar for arbitrary input formats\n",
    "\n",
    "Keep on expanding!"
   ]
  },
  {
   "cell_type": "markdown",
   "metadata": {
    "slideshow": {
     "slide_type": "slide"
    }
   },
   "source": [
    "## Background\n",
    "\n",
    "Derivation trees (then frequently called _parse trees_) are a standard data structure into which *parsers* decompose inputs.  The *Dragon Book* (also known as *Compilers: Principles, Techniques, and Tools*) \\cite{Aho2006} discusses parsing into derivation trees as part of compiling programs.  We also use derivation trees [when parsing and recombining inputs](Parser.ipynb).\n",
    "\n",
    "The key idea in this chapter, namely expanding until a limit of symbols is reached, and then always choosing the shortest path, stems from Luke \\cite{Luke2000}."
   ]
  },
  {
   "cell_type": "markdown",
   "metadata": {
    "button": false,
    "new_sheet": false,
    "run_control": {
     "read_only": false
    },
    "slideshow": {
     "slide_type": "slide"
    }
   },
   "source": [
    "## Exercises"
   ]
  },
  {
   "cell_type": "markdown",
   "metadata": {
    "button": false,
    "new_sheet": false,
    "run_control": {
     "read_only": false
    },
    "slideshow": {
     "slide_type": "subslide"
    }
   },
   "source": [
    "### Exercise 1: Caching Method Results\n",
    "\n",
    "Tracking `GrammarFuzzer` reveals that some methods are called again and again, always with the same values.  \n",
    "\n",
    "Set up a class `FasterGrammarFuzzer` with a _cache_ that checks whether the method has been called before, and if so, return the previously computed \"memoized\" value.  Do this for `expansion_to_children()`.  Compare the number of invocations before and after the optimization."
   ]
  },
  {
   "cell_type": "markdown",
   "metadata": {
    "button": false,
    "new_sheet": false,
    "run_control": {
     "read_only": false
    },
    "slideshow": {
     "slide_type": "fragment"
    },
    "solution": "hidden",
    "solution2": "hidden",
    "solution2_first": true,
    "solution_first": true
   },
   "source": [
    "**Important**: For `expansion_to_children()`, make sure that each list returned is an individual copy.  If you return the same (cached) list, this will interfere with the in-place modification of `GrammarFuzzer`.  Use the Python `copy.deepcopy()` function for this purpose."
   ]
  },
  {
   "cell_type": "markdown",
   "metadata": {
    "slideshow": {
     "slide_type": "skip"
    },
    "solution2": "hidden"
   },
   "source": [
    "**Solution.** Let us demonstrate this for `expansion_to_children()`:"
   ]
  },
  {
   "cell_type": "code",
   "execution_count": 138,
   "metadata": {
    "execution": {
     "iopub.execute_input": "2024-06-29T16:13:26.629861Z",
     "iopub.status.busy": "2024-06-29T16:13:26.629759Z",
     "iopub.status.idle": "2024-06-29T16:13:26.631493Z",
     "shell.execute_reply": "2024-06-29T16:13:26.631197Z"
    },
    "slideshow": {
     "slide_type": "skip"
    },
    "solution2": "hidden"
   },
   "outputs": [],
   "source": [
    "import copy"
   ]
  },
  {
   "cell_type": "code",
   "execution_count": 139,
   "metadata": {
    "execution": {
     "iopub.execute_input": "2024-06-29T16:13:26.632948Z",
     "iopub.status.busy": "2024-06-29T16:13:26.632842Z",
     "iopub.status.idle": "2024-06-29T16:13:26.635746Z",
     "shell.execute_reply": "2024-06-29T16:13:26.635441Z"
    },
    "slideshow": {
     "slide_type": "skip"
    },
    "solution2": "hidden"
   },
   "outputs": [],
   "source": [
    "class FasterGrammarFuzzer(GrammarFuzzer):\n",
    "    \"\"\"Variant of `GrammarFuzzer` with memoized values\"\"\"\n",
    "\n",
    "    def __init__(self, *args, **kwargs) -> None:\n",
    "        super().__init__(*args, **kwargs)\n",
    "        self._expansion_cache: Dict[Expansion, List[DerivationTree]] = {}\n",
    "        self._expansion_invocations = 0\n",
    "        self._expansion_invocations_cached = 0\n",
    "\n",
    "    def expansion_to_children(self, expansion: Expansion) \\\n",
    "            -> List[DerivationTree]:\n",
    "        self._expansion_invocations += 1\n",
    "        if expansion in self._expansion_cache:\n",
    "            self._expansion_invocations_cached += 1\n",
    "            cached_result = copy.deepcopy(self._expansion_cache[expansion])\n",
    "            return cached_result\n",
    "\n",
    "        result = super().expansion_to_children(expansion)\n",
    "        self._expansion_cache[expansion] = copy.deepcopy(result)\n",
    "        return result"
   ]
  },
  {
   "cell_type": "code",
   "execution_count": 140,
   "metadata": {
    "execution": {
     "iopub.execute_input": "2024-06-29T16:13:26.637144Z",
     "iopub.status.busy": "2024-06-29T16:13:26.637057Z",
     "iopub.status.idle": "2024-06-29T16:13:26.640737Z",
     "shell.execute_reply": "2024-06-29T16:13:26.640459Z"
    },
    "slideshow": {
     "slide_type": "skip"
    },
    "solution2": "hidden"
   },
   "outputs": [
    {
     "data": {
      "text/plain": [
       "'4.8 - 5 - 0 - 3'"
      ]
     },
     "execution_count": 140,
     "metadata": {},
     "output_type": "execute_result"
    }
   ],
   "source": [
    "f = FasterGrammarFuzzer(EXPR_GRAMMAR, min_nonterminals=3, max_nonterminals=5)\n",
    "f.fuzz()"
   ]
  },
  {
   "cell_type": "code",
   "execution_count": 141,
   "metadata": {
    "execution": {
     "iopub.execute_input": "2024-06-29T16:13:26.642345Z",
     "iopub.status.busy": "2024-06-29T16:13:26.642207Z",
     "iopub.status.idle": "2024-06-29T16:13:26.644415Z",
     "shell.execute_reply": "2024-06-29T16:13:26.644150Z"
    },
    "slideshow": {
     "slide_type": "skip"
    },
    "solution2": "hidden"
   },
   "outputs": [
    {
     "data": {
      "text/plain": [
       "105"
      ]
     },
     "execution_count": 141,
     "metadata": {},
     "output_type": "execute_result"
    }
   ],
   "source": [
    "f._expansion_invocations"
   ]
  },
  {
   "cell_type": "code",
   "execution_count": 142,
   "metadata": {
    "execution": {
     "iopub.execute_input": "2024-06-29T16:13:26.645917Z",
     "iopub.status.busy": "2024-06-29T16:13:26.645808Z",
     "iopub.status.idle": "2024-06-29T16:13:26.647900Z",
     "shell.execute_reply": "2024-06-29T16:13:26.647634Z"
    },
    "slideshow": {
     "slide_type": "skip"
    },
    "solution2": "hidden"
   },
   "outputs": [
    {
     "data": {
      "text/plain": [
       "81"
      ]
     },
     "execution_count": 142,
     "metadata": {},
     "output_type": "execute_result"
    }
   ],
   "source": [
    "f._expansion_invocations_cached"
   ]
  },
  {
   "cell_type": "code",
   "execution_count": 143,
   "metadata": {
    "execution": {
     "iopub.execute_input": "2024-06-29T16:13:26.649352Z",
     "iopub.status.busy": "2024-06-29T16:13:26.649244Z",
     "iopub.status.idle": "2024-06-29T16:13:26.650960Z",
     "shell.execute_reply": "2024-06-29T16:13:26.650713Z"
    },
    "slideshow": {
     "slide_type": "skip"
    },
    "solution2": "hidden"
   },
   "outputs": [
    {
     "name": "stdout",
     "output_type": "stream",
     "text": [
      "77.14% of invocations can be cached\n"
     ]
    }
   ],
   "source": [
    "print(\"%.2f%% of invocations can be cached\" %\n",
    "      (f._expansion_invocations_cached * 100 / f._expansion_invocations))"
   ]
  },
  {
   "cell_type": "markdown",
   "metadata": {
    "slideshow": {
     "slide_type": "subslide"
    },
    "solution2": "hidden",
    "solution2_first": true
   },
   "source": [
    "### Exercise 2: Grammar Pre-Compilation\n",
    "\n",
    "Some methods such as `symbol_cost()` or `expansion_cost()` return a value that is dependent on the grammar only.  Set up a class `EvenFasterGrammarFuzzer()` that pre-computes these values once upon initialization, such that later invocations of `symbol_cost()` or `expansion_cost()` need only look up these values."
   ]
  },
  {
   "cell_type": "markdown",
   "metadata": {
    "slideshow": {
     "slide_type": "skip"
    },
    "solution2": "hidden"
   },
   "source": [
    "**Solution.** Here's a possible solution, using a hack to substitute the `symbol_cost()` and `expansion_cost()` functions once the pre-computed values are set up."
   ]
  },
  {
   "cell_type": "code",
   "execution_count": 144,
   "metadata": {
    "execution": {
     "iopub.execute_input": "2024-06-29T16:13:26.652464Z",
     "iopub.status.busy": "2024-06-29T16:13:26.652358Z",
     "iopub.status.idle": "2024-06-29T16:13:26.655583Z",
     "shell.execute_reply": "2024-06-29T16:13:26.655294Z"
    },
    "slideshow": {
     "slide_type": "skip"
    },
    "solution2": "hidden"
   },
   "outputs": [],
   "source": [
    "class EvenFasterGrammarFuzzer(GrammarFuzzer):\n",
    "    \"\"\"Variant of `GrammarFuzzer` with precomputed costs\"\"\"\n",
    "\n",
    "    def __init__(self, *args, **kwargs) -> None:\n",
    "        super().__init__(*args, **kwargs)\n",
    "        self._symbol_costs: Dict[str, Union[int, float]] = {}\n",
    "        self._expansion_costs: Dict[Expansion, Union[int, float]] = {}\n",
    "        self.precompute_costs()\n",
    "\n",
    "    def new_symbol_cost(self, symbol: str,\n",
    "                        seen: Set[str] = set()) -> Union[int, float]:\n",
    "        return self._symbol_costs[symbol]\n",
    "\n",
    "    def new_expansion_cost(self, expansion: Expansion,\n",
    "                           seen: Set[str] = set()) -> Union[int, float]:\n",
    "        return self._expansion_costs[expansion]\n",
    "\n",
    "    def precompute_costs(self) -> None:\n",
    "        for symbol in self.grammar:\n",
    "            self._symbol_costs[symbol] = super().symbol_cost(symbol)\n",
    "            for expansion in self.grammar[symbol]:\n",
    "                self._expansion_costs[expansion] = \\\n",
    "                    super().expansion_cost(expansion)\n",
    "\n",
    "        # Make sure we now call the caching methods\n",
    "        self.symbol_cost = self.new_symbol_cost  # type: ignore\n",
    "        self.expansion_cost = self.new_expansion_cost  # type: ignore"
   ]
  },
  {
   "cell_type": "code",
   "execution_count": 145,
   "metadata": {
    "execution": {
     "iopub.execute_input": "2024-06-29T16:13:26.657015Z",
     "iopub.status.busy": "2024-06-29T16:13:26.656925Z",
     "iopub.status.idle": "2024-06-29T16:13:26.659407Z",
     "shell.execute_reply": "2024-06-29T16:13:26.659111Z"
    },
    "slideshow": {
     "slide_type": "skip"
    },
    "solution2": "hidden"
   },
   "outputs": [],
   "source": [
    "f = EvenFasterGrammarFuzzer(EXPR_GRAMMAR)"
   ]
  },
  {
   "cell_type": "markdown",
   "metadata": {
    "slideshow": {
     "slide_type": "skip"
    },
    "solution2": "hidden"
   },
   "source": [
    "Here are the individual costs:"
   ]
  },
  {
   "cell_type": "code",
   "execution_count": 146,
   "metadata": {
    "execution": {
     "iopub.execute_input": "2024-06-29T16:13:26.661169Z",
     "iopub.status.busy": "2024-06-29T16:13:26.661064Z",
     "iopub.status.idle": "2024-06-29T16:13:26.663720Z",
     "shell.execute_reply": "2024-06-29T16:13:26.663439Z"
    },
    "slideshow": {
     "slide_type": "skip"
    },
    "solution2": "hidden"
   },
   "outputs": [
    {
     "data": {
      "text/plain": [
       "{'<start>': 6,\n",
       " '<expr>': 5,\n",
       " '<term>': 4,\n",
       " '<factor>': 3,\n",
       " '<integer>': 2,\n",
       " '<digit>': 1}"
      ]
     },
     "execution_count": 146,
     "metadata": {},
     "output_type": "execute_result"
    }
   ],
   "source": [
    "f._symbol_costs"
   ]
  },
  {
   "cell_type": "code",
   "execution_count": 147,
   "metadata": {
    "execution": {
     "iopub.execute_input": "2024-06-29T16:13:26.665242Z",
     "iopub.status.busy": "2024-06-29T16:13:26.665158Z",
     "iopub.status.idle": "2024-06-29T16:13:26.667511Z",
     "shell.execute_reply": "2024-06-29T16:13:26.667259Z"
    },
    "slideshow": {
     "slide_type": "skip"
    },
    "solution2": "hidden"
   },
   "outputs": [
    {
     "data": {
      "text/plain": [
       "{'<expr>': 6,\n",
       " '<term> + <expr>': 10,\n",
       " '<term> - <expr>': 10,\n",
       " '<term>': 5,\n",
       " '<factor> * <term>': 8,\n",
       " '<factor> / <term>': 8,\n",
       " '<factor>': 4,\n",
       " '+<factor>': 4,\n",
       " '-<factor>': 4,\n",
       " '(<expr>)': 6,\n",
       " '<integer>.<integer>': 5,\n",
       " '<integer>': 3,\n",
       " '<digit><integer>': 4,\n",
       " '<digit>': 2,\n",
       " '0': 1,\n",
       " '1': 1,\n",
       " '2': 1,\n",
       " '3': 1,\n",
       " '4': 1,\n",
       " '5': 1,\n",
       " '6': 1,\n",
       " '7': 1,\n",
       " '8': 1,\n",
       " '9': 1}"
      ]
     },
     "execution_count": 147,
     "metadata": {},
     "output_type": "execute_result"
    }
   ],
   "source": [
    "f._expansion_costs"
   ]
  },
  {
   "cell_type": "code",
   "execution_count": 148,
   "metadata": {
    "execution": {
     "iopub.execute_input": "2024-06-29T16:13:26.668870Z",
     "iopub.status.busy": "2024-06-29T16:13:26.668784Z",
     "iopub.status.idle": "2024-06-29T16:13:26.675309Z",
     "shell.execute_reply": "2024-06-29T16:13:26.675004Z"
    },
    "slideshow": {
     "slide_type": "skip"
    },
    "solution2": "hidden"
   },
   "outputs": [
    {
     "data": {
      "text/plain": [
       "'(--0 / 4.9 / 6 * 9 + 4) + -++-3 * (0) * 6 / 9'"
      ]
     },
     "execution_count": 148,
     "metadata": {},
     "output_type": "execute_result"
    }
   ],
   "source": [
    "f = EvenFasterGrammarFuzzer(EXPR_GRAMMAR)\n",
    "f.fuzz()"
   ]
  },
  {
   "cell_type": "markdown",
   "metadata": {
    "button": false,
    "new_sheet": false,
    "run_control": {
     "read_only": false
    },
    "slideshow": {
     "slide_type": "subslide"
    },
    "solution": "hidden",
    "solution2": "hidden",
    "solution2_first": true,
    "solution_first": true
   },
   "source": [
    "### Exercise 3: Maintaining Trees to be Expanded\n",
    "\n",
    "In `expand_tree_once()`, the algorithm traverses the tree again and again to find nonterminals that still can be extended.  Speed up the process by keeping a list of nonterminal symbols in the tree that still can be expanded."
   ]
  },
  {
   "cell_type": "markdown",
   "metadata": {
    "button": false,
    "new_sheet": false,
    "run_control": {
     "read_only": false
    },
    "slideshow": {
     "slide_type": "skip"
    },
    "solution": "hidden",
    "solution2": "hidden"
   },
   "source": [
    "**Solution.** Left as exercise for the reader."
   ]
  },
  {
   "cell_type": "markdown",
   "metadata": {
    "slideshow": {
     "slide_type": "subslide"
    }
   },
   "source": [
    "### Exercise 4: Alternate Random Expansions"
   ]
  },
  {
   "cell_type": "markdown",
   "metadata": {
    "slideshow": {
     "slide_type": "fragment"
    }
   },
   "source": [
    "We could define `expand_node_randomly()` such that it simply invokes `expand_node_by_cost(node, random.choice)`:"
   ]
  },
  {
   "cell_type": "code",
   "execution_count": 149,
   "metadata": {
    "execution": {
     "iopub.execute_input": "2024-06-29T16:13:26.677180Z",
     "iopub.status.busy": "2024-06-29T16:13:26.677062Z",
     "iopub.status.idle": "2024-06-29T16:13:26.679114Z",
     "shell.execute_reply": "2024-06-29T16:13:26.678856Z"
    },
    "slideshow": {
     "slide_type": "fragment"
    }
   },
   "outputs": [],
   "source": [
    "class ExerciseGrammarFuzzer(GrammarFuzzer):\n",
    "    def expand_node_randomly(self, node: DerivationTree) -> DerivationTree:\n",
    "        if self.log:\n",
    "            print(\"Expanding\", all_terminals(node), \"randomly by cost\")\n",
    "\n",
    "        return self.expand_node_by_cost(node, random.choice)"
   ]
  },
  {
   "cell_type": "markdown",
   "metadata": {
    "slideshow": {
     "slide_type": "fragment"
    },
    "solution2": "hidden",
    "solution2_first": true
   },
   "source": [
    "What is the difference between the original implementation and this alternative?"
   ]
  },
  {
   "cell_type": "markdown",
   "metadata": {
    "button": false,
    "new_sheet": false,
    "run_control": {
     "read_only": false
    },
    "slideshow": {
     "slide_type": "skip"
    },
    "solution": "hidden",
    "solution2": "hidden"
   },
   "source": [
    "**Solution.** The alternative in `ExerciseGrammarFuzzer` has another probability distribution.  In the original `GrammarFuzzer`, all expansions have the same likelihood of being expanded.  In `ExerciseGrammarFuzzer`, first, a cost is chosen (randomly); then, one of the expansions with this cost is chosen (again randomly).  This means that expansions whose cost is unique have a higher chance of being selected."
   ]
  }
 ],
 "metadata": {
  "ipub": {
   "bibliography": "fuzzingbook.bib",
   "toc": true
  },
  "kernelspec": {
   "display_name": "Python 3",
   "language": "python",
   "name": "python3"
  },
  "language_info": {
   "codemirror_mode": {
    "name": "ipython",
    "version": 3
   },
   "file_extension": ".py",
   "mimetype": "text/x-python",
   "name": "python",
   "nbconvert_exporter": "python",
   "pygments_lexer": "ipython3",
   "version": "3.10.2"
  },
  "toc": {
   "base_numbering": 1,
   "nav_menu": {},
   "number_sections": true,
   "sideBar": true,
   "skip_h1_title": true,
   "title_cell": "",
   "title_sidebar": "Contents",
   "toc_cell": false,
   "toc_position": {},
   "toc_section_display": true,
   "toc_window_display": true
  },
  "toc-autonumbering": false,
  "toc-showcode": false,
  "toc-showmarkdowntxt": false,
  "varInspector": {
   "cols": {
    "lenName": 16,
    "lenType": 16,
    "lenVar": 40
   },
   "kernels_config": {
    "python": {
     "delete_cmd_postfix": "",
     "delete_cmd_prefix": "del ",
     "library": "var_list.py",
     "varRefreshCmd": "print(var_dic_list())"
    },
    "r": {
     "delete_cmd_postfix": ") ",
     "delete_cmd_prefix": "rm(",
     "library": "var_list.r",
     "varRefreshCmd": "cat(var_dic_list()) "
    }
   },
   "types_to_exclude": [
    "module",
    "function",
    "builtin_function_or_method",
    "instance",
    "_Feature"
   ],
   "window_display": false
  },
  "vscode": {
   "interpreter": {
    "hash": "4185989cf89c47c310c2629adcadd634093b57a2c49dffb5ae8d0d14fa302f2b"
   }
  }
 },
 "nbformat": 4,
 "nbformat_minor": 4
}