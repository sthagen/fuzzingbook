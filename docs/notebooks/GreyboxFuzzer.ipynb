{
 "cells": [
  {
   "attachments": {},
   "cell_type": "markdown",
   "metadata": {
    "button": false,
    "new_sheet": false,
    "run_control": {
     "read_only": false
    },
    "slideshow": {
     "slide_type": "slide"
    }
   },
   "source": [
    "# Greybox Fuzzing\n",
    "\n",
    "In the [previous chapter](MutationFuzzer.ipynb), we have introduced _mutation-based fuzzing_, a technique that generates fuzz inputs by applying small mutations to given inputs. In this chapter, we show how to _guide_ these mutations towards specific goals such as coverage. The algorithms in this chapter stem from the popular [American Fuzzy Lop](http://lcamtuf.coredump.cx/afl/) (AFL) fuzzer, in particular from its [AFLFast](https://github.com/mboehme/aflfast) and [AFLGo](https://github.com/aflgo/aflgo) flavors. We will explore the greybox fuzzing algorithm behind AFL and how we can exploit it to solve various problems for automated vulnerability detection."
   ]
  },
  {
   "cell_type": "code",
   "execution_count": 1,
   "metadata": {
    "execution": {
     "iopub.execute_input": "2023-01-07T14:14:09.169947Z",
     "iopub.status.busy": "2023-01-07T14:14:09.169472Z",
     "iopub.status.idle": "2023-01-07T14:14:09.224384Z",
     "shell.execute_reply": "2023-01-07T14:14:09.224603Z"
    },
    "slideshow": {
     "slide_type": "skip"
    }
   },
   "outputs": [
    {
     "data": {
      "text/html": [
       "\n",
       "        <iframe\n",
       "            width=\"640\"\n",
       "            height=\"360\"\n",
       "            src=\"https://www.youtube-nocookie.com/embed/vBrNT9q2t1Y\"\n",
       "            frameborder=\"0\"\n",
       "            allowfullscreen\n",
       "            \n",
       "        ></iframe>\n",
       "        "
      ],
      "text/plain": [
       "<IPython.lib.display.IFrame at 0x103898be0>"
      ]
     },
     "execution_count": 1,
     "metadata": {},
     "output_type": "execute_result"
    }
   ],
   "source": [
    "from bookutils import YouTubeVideo\n",
    "YouTubeVideo('vBrNT9q2t1Y')"
   ]
  },
  {
   "cell_type": "markdown",
   "metadata": {
    "button": false,
    "new_sheet": false,
    "run_control": {
     "read_only": false
    },
    "slideshow": {
     "slide_type": "subslide"
    }
   },
   "source": [
    "**Prerequisites**\n",
    "\n",
    "* Reading the introduction on [mutation-based fuzzing](MutationFuzzer.ipynb) is recommended."
   ]
  },
  {
   "attachments": {},
   "cell_type": "markdown",
   "metadata": {
    "slideshow": {
     "slide_type": "skip"
    }
   },
   "source": [
    "## Synopsis\n",
    "<!-- Automatically generated. Do not edit. -->\n",
    "\n",
    "To [use the code provided in this chapter](Importing.ipynb), write\n",
    "\n",
    "```python\n",
    ">>> from fuzzingbook.GreyboxFuzzer import <identifier>\n",
    "```\n",
    "\n",
    "and then make use of the following features.\n",
    "\n",
    "\n",
    "This chapter introduces advanced methods for grey-box fuzzing inspired by the popular AFL fuzzer. The `GreyboxFuzzer` class has three arguments. First, a list of seed inputs:\n",
    "\n",
    "```python\n",
    ">>> seed_input = \"http://www.google.com/search?q=fuzzing\"\n",
    ">>> seeds = [seed_input]\n",
    "```\n",
    "Second, a _mutator_ that changes individual parts of the input.\n",
    "\n",
    "```python\n",
    ">>> mutator = Mutator()\n",
    "```\n",
    "Third, a _power schedule_ that assigns fuzzing effort across the population:\n",
    "\n",
    "```python\n",
    ">>> schedule = PowerSchedule()\n",
    "```\n",
    "These three go into the `GreyboxFuzzer` constructor:\n",
    "\n",
    "```python\n",
    ">>> greybox_fuzzer = GreyboxFuzzer(seeds=seeds, mutator=mutator, schedule=schedule)\n",
    "```\n",
    "The `GreyboxFuzzer` class is used in conjunction with a `FunctionCoverageRunner`:\n",
    "\n",
    "```python\n",
    ">>> http_runner = FunctionCoverageRunner(http_program)\n",
    ">>> outcomes = greybox_fuzzer.runs(http_runner, trials=10000)\n",
    "```\n",
    "After fuzzing, we can inspect the population:\n",
    "\n",
    "```python\n",
    ">>> greybox_fuzzer.population[:20]\n",
    "[http://www.google.com/search?q=fuzzing,\n",
    " htpp://w.gfoogne.com/seaRchw?q=fuzzng,\n",
    " http://ww.google.com/search?q=furzing,\n",
    " xvtp:{/www.foogle.com/seapch=q=uzzing,\n",
    " ht:w/ww.goog\\l*#m/seaXrceh?bq=rzilgl,\n",
    " http:/wwwgoogne.coe/seazch?q=uzzin&,\n",
    " h|t4p://.PgoolL.com/sdrh?Qq=Fuzi,\n",
    " htzB</wqwgRjo%n.be/cac&cJDi?q=uZ4hn4,\n",
    " dtp\\/AwF!g.gmoel+b/hsech?=Nfu|r:fg,\n",
    " tpp:J//c.znoTogn{.com/ceachw?0q=fuzzng,\n",
    " http://www.gooole.com/searchq=fuzzing,\n",
    " 1dtp$:/-wgoogdeVcom/\u001aserca=uAzing,\n",
    " htzB</w1wgRjo%n.be/cac[&cJDi?q=uZ4hn4,\n",
    " Jh;vw//wwA,j7oo!'l#m/aX\\c%eh?.q-Xrzil,\n",
    " ht:wwW.goog\\l*#m/seRa<Xrch?bqrzIgl,\n",
    " h~tzbwqwgR`%n>jQex/c&*ieq=08T,\n",
    "  vpe7pJ5/nb/nUc{jICo-m /gacw0qmfQuzz#ng,\n",
    " htpp://w.gf/ogn.#m/seaRchw?q=fuzzng,\n",
    " J;w?G/&!7jwA,j7/o!fL\u0003mX\\gh?2-bz@\"i,\n",
    " ;?p8.gnoox\u0007n%ncooms'aRhqW=f\"Dzg]\n",
    "```\n",
    "Besides the simple `PowerSchedule`, we can have advanced power schedules.\n",
    "\n",
    "* `AFLFastSchedule` assigns high energy to \"unusual\" paths not taken very often.\n",
    "* `AFLGoSchedule` assigns high energy to paths close to uncovered program locations. \n",
    "\n",
    "The `AFLGoSchedule` class constructor requires a `distance` metric from each node towards target locations, as determined via analysis of the program code. See the chapter for details.\n",
    "\n",
    "![](PICS/GreyboxFuzzer-synopsis-1.svg)\n",
    "\n"
   ]
  },
  {
   "cell_type": "markdown",
   "metadata": {
    "button": false,
    "new_sheet": true,
    "run_control": {
     "read_only": false
    },
    "slideshow": {
     "slide_type": "slide"
    }
   },
   "source": [
    "## AFL: An Effective Greybox Fuzzer\n",
    "\n",
    "The algorithms in this chapter stem from the popular [American Fuzzy Lop](http://lcamtuf.coredump.cx/afl/) (AFL) fuzzer."
   ]
  },
  {
   "cell_type": "markdown",
   "metadata": {
    "button": false,
    "new_sheet": true,
    "run_control": {
     "read_only": false
    },
    "slideshow": {
     "slide_type": "slide"
    }
   },
   "source": [
    "AFL is a *mutation-based fuzzer*. Meaning, AFL generates new inputs by slightly modifying a seed input (i.e., mutation), or by joining the first half of one input with the second half of another (i.e., splicing)."
   ]
  },
  {
   "cell_type": "markdown",
   "metadata": {
    "button": false,
    "new_sheet": true,
    "run_control": {
     "read_only": false
    },
    "slideshow": {
     "slide_type": "slide"
    }
   },
   "source": [
    "AFL is also a *greybox fuzzer* (not blackbox nor whitebox). Meaning, AFL leverages coverage-feedback to learn how to reach deeper into the program. It is not entirely blackbox because AFL leverages at least *some* program analysis. It is not entirely whitebox either because AFL does not build on heavyweight program analysis or constraint solving. Instead, AFL uses lightweight program instrumentation to glean some information about the (branch) coverage of a generated input.\n",
    "If a generated input increases coverage, it is added to the seed corpus for further fuzzing."
   ]
  },
  {
   "attachments": {},
   "cell_type": "markdown",
   "metadata": {
    "button": false,
    "new_sheet": true,
    "run_control": {
     "read_only": false
    },
    "slideshow": {
     "slide_type": "slide"
    }
   },
   "source": [
    "To instrument a program, AFL injects a piece of code right after every conditional jump instruction. When executed, this so-called trampoline assigns the exercised branch a unique identifier and increments a counter that is associated with this branch. For efficiency, only a coarse branch hit count is maintained. In other words, for each input the fuzzer knows which branches and roughly how often they are exercised. \n",
    "The instrumentation is usually done at compile-time, i.e., when the program source code is compiled to an executable binary. However, it is possible to run AFL on non-instrumented binaries using tools such as a virtual machine (e.g., [QEMU](https://github.com/mirrorer/afl/blob/master/qemu_mode)) or a dynamic instrumentation tool (e.g., [Intel PinTool](https://github.com/vanhauser-thc/afl-pin)). For Python programs, we can collect coverage information without any instrumentation (see chapter on [collecting coverage](Coverage.ipynb#Coverage-of-Basic-Fuzzing))."
   ]
  },
  {
   "cell_type": "markdown",
   "metadata": {
    "button": false,
    "new_sheet": true,
    "run_control": {
     "read_only": false
    },
    "slideshow": {
     "slide_type": "slide"
    }
   },
   "source": [
    "## Ingredients for Greybox Fuzzing\n",
    "\n",
    "We start with discussing the most important parts we need for mutational testing and goal guidance."
   ]
  },
  {
   "cell_type": "markdown",
   "metadata": {
    "button": false,
    "new_sheet": true,
    "run_control": {
     "read_only": false
    },
    "slideshow": {
     "slide_type": "slide"
    }
   },
   "source": [
    "### Mutators\n",
    "\n",
    "We introduce specific classes for mutating a seed."
   ]
  },
  {
   "cell_type": "code",
   "execution_count": 2,
   "metadata": {
    "execution": {
     "iopub.execute_input": "2023-01-07T14:14:09.227089Z",
     "iopub.status.busy": "2023-01-07T14:14:09.226774Z",
     "iopub.status.idle": "2023-01-07T14:14:09.227949Z",
     "shell.execute_reply": "2023-01-07T14:14:09.228194Z"
    },
    "slideshow": {
     "slide_type": "skip"
    }
   },
   "outputs": [],
   "source": [
    "import bookutils"
   ]
  },
  {
   "cell_type": "code",
   "execution_count": 3,
   "metadata": {
    "execution": {
     "iopub.execute_input": "2023-01-07T14:14:09.230178Z",
     "iopub.status.busy": "2023-01-07T14:14:09.229770Z",
     "iopub.status.idle": "2023-01-07T14:14:09.230963Z",
     "shell.execute_reply": "2023-01-07T14:14:09.231308Z"
    },
    "slideshow": {
     "slide_type": "skip"
    }
   },
   "outputs": [],
   "source": [
    "from typing import List, Set, Any, Tuple, Dict, Union\n",
    "from collections.abc import Sequence"
   ]
  },
  {
   "cell_type": "code",
   "execution_count": 4,
   "metadata": {
    "execution": {
     "iopub.execute_input": "2023-01-07T14:14:09.233193Z",
     "iopub.status.busy": "2023-01-07T14:14:09.232885Z",
     "iopub.status.idle": "2023-01-07T14:14:09.233980Z",
     "shell.execute_reply": "2023-01-07T14:14:09.234289Z"
    },
    "slideshow": {
     "slide_type": "skip"
    }
   },
   "outputs": [],
   "source": [
    "import random"
   ]
  },
  {
   "cell_type": "code",
   "execution_count": 5,
   "metadata": {
    "execution": {
     "iopub.execute_input": "2023-01-07T14:14:09.236765Z",
     "iopub.status.busy": "2023-01-07T14:14:09.236261Z",
     "iopub.status.idle": "2023-01-07T14:14:09.609914Z",
     "shell.execute_reply": "2023-01-07T14:14:09.610135Z"
    },
    "slideshow": {
     "slide_type": "skip"
    }
   },
   "outputs": [],
   "source": [
    "from Coverage import population_coverage"
   ]
  },
  {
   "cell_type": "markdown",
   "metadata": {
    "slideshow": {
     "slide_type": "fragment"
    }
   },
   "source": [
    "First, we'll introduce the `Mutator` class. Given a seed input `inp`, the mutator returns a slightly modified version of `inp`.  In the [chapter on greybox grammar fuzzing](GreyboxGrammarFuzzer.ipynb), we extend this class to consider the input grammar for smart greybox fuzzing."
   ]
  },
  {
   "cell_type": "code",
   "execution_count": 6,
   "metadata": {
    "execution": {
     "iopub.execute_input": "2023-01-07T14:14:09.612575Z",
     "iopub.status.busy": "2023-01-07T14:14:09.612257Z",
     "iopub.status.idle": "2023-01-07T14:14:09.613579Z",
     "shell.execute_reply": "2023-01-07T14:14:09.613766Z"
    },
    "slideshow": {
     "slide_type": "subslide"
    }
   },
   "outputs": [],
   "source": [
    "class Mutator:\n",
    "    \"\"\"Mutate strings\"\"\"\n",
    "\n",
    "    def __init__(self) -> None:\n",
    "        \"\"\"Constructor\"\"\"\n",
    "        self.mutators = [\n",
    "            self.delete_random_character,\n",
    "            self.insert_random_character,\n",
    "            self.flip_random_character\n",
    "        ]"
   ]
  },
  {
   "cell_type": "markdown",
   "metadata": {
    "slideshow": {
     "slide_type": "fragment"
    }
   },
   "source": [
    "For insertion, we add a random character in a random position."
   ]
  },
  {
   "cell_type": "code",
   "execution_count": 7,
   "metadata": {
    "execution": {
     "iopub.execute_input": "2023-01-07T14:14:09.616322Z",
     "iopub.status.busy": "2023-01-07T14:14:09.615983Z",
     "iopub.status.idle": "2023-01-07T14:14:09.617504Z",
     "shell.execute_reply": "2023-01-07T14:14:09.617725Z"
    },
    "slideshow": {
     "slide_type": "subslide"
    }
   },
   "outputs": [],
   "source": [
    "class Mutator(Mutator):\n",
    "    def insert_random_character(self, s: str) -> str:\n",
    "        \"\"\"Returns s with a random character inserted\"\"\"\n",
    "        pos = random.randint(0, len(s))\n",
    "        random_character = chr(random.randrange(32, 127))\n",
    "        return s[:pos] + random_character + s[pos:]"
   ]
  },
  {
   "cell_type": "markdown",
   "metadata": {
    "slideshow": {
     "slide_type": "fragment"
    }
   },
   "source": [
    "For deletion, if the string is non-empty choose a random position and delete the character. Otherwise, use the insertion-operation."
   ]
  },
  {
   "cell_type": "code",
   "execution_count": 8,
   "metadata": {
    "execution": {
     "iopub.execute_input": "2023-01-07T14:14:09.620621Z",
     "iopub.status.busy": "2023-01-07T14:14:09.620267Z",
     "iopub.status.idle": "2023-01-07T14:14:09.621527Z",
     "shell.execute_reply": "2023-01-07T14:14:09.621783Z"
    },
    "slideshow": {
     "slide_type": "subslide"
    }
   },
   "outputs": [],
   "source": [
    "class Mutator(Mutator):\n",
    "    def delete_random_character(self, s: str) -> str:\n",
    "        \"\"\"Returns s with a random character deleted\"\"\"\n",
    "        if s == \"\":\n",
    "            return self.insert_random_character(s)\n",
    "\n",
    "        pos = random.randint(0, len(s) - 1)\n",
    "        return s[:pos] + s[pos + 1:]"
   ]
  },
  {
   "cell_type": "markdown",
   "metadata": {
    "slideshow": {
     "slide_type": "fragment"
    }
   },
   "source": [
    "For substitution, if the string is non-empty choose a random position and flip a random bit in the character. Otherwise, use the insertion-operation."
   ]
  },
  {
   "cell_type": "code",
   "execution_count": 9,
   "metadata": {
    "execution": {
     "iopub.execute_input": "2023-01-07T14:14:09.624390Z",
     "iopub.status.busy": "2023-01-07T14:14:09.624033Z",
     "iopub.status.idle": "2023-01-07T14:14:09.625445Z",
     "shell.execute_reply": "2023-01-07T14:14:09.625660Z"
    },
    "slideshow": {
     "slide_type": "subslide"
    }
   },
   "outputs": [],
   "source": [
    "class Mutator(Mutator):\n",
    "    def flip_random_character(self, s: str) -> str:\n",
    "        \"\"\"Returns s with a random bit flipped in a random position\"\"\"\n",
    "        if s == \"\":\n",
    "            return self.insert_random_character(s)\n",
    "\n",
    "        pos = random.randint(0, len(s) - 1)\n",
    "        c = s[pos]\n",
    "        bit = 1 << random.randint(0, 6)\n",
    "        new_c = chr(ord(c) ^ bit)\n",
    "        return s[:pos] + new_c + s[pos + 1:]"
   ]
  },
  {
   "cell_type": "markdown",
   "metadata": {
    "slideshow": {
     "slide_type": "fragment"
    }
   },
   "source": [
    "The main method is `mutate` which chooses a random mutation operator from the list of operators."
   ]
  },
  {
   "cell_type": "code",
   "execution_count": 10,
   "metadata": {
    "execution": {
     "iopub.execute_input": "2023-01-07T14:14:09.627751Z",
     "iopub.status.busy": "2023-01-07T14:14:09.627446Z",
     "iopub.status.idle": "2023-01-07T14:14:09.628684Z",
     "shell.execute_reply": "2023-01-07T14:14:09.628859Z"
    },
    "slideshow": {
     "slide_type": "subslide"
    }
   },
   "outputs": [],
   "source": [
    "class Mutator(Mutator):\n",
    "    def mutate(self, inp: Any) -> Any:  # can be str or Seed (see below)\n",
    "        \"\"\"Return s with a random mutation applied. Can be overloaded in subclasses.\"\"\"\n",
    "        mutator = random.choice(self.mutators)\n",
    "        return mutator(inp)"
   ]
  },
  {
   "cell_type": "markdown",
   "metadata": {
    "slideshow": {
     "slide_type": "fragment"
    }
   },
   "source": [
    "Let's try the mutator. You can actually interact with such a \"cell\" and try other inputs by loading this chapter as Jupyter notebook. After opening, run all cells in the notebook using \"Kernel -> Restart & Run All\"."
   ]
  },
  {
   "cell_type": "code",
   "execution_count": 11,
   "metadata": {
    "execution": {
     "iopub.execute_input": "2023-01-07T14:14:09.631160Z",
     "iopub.status.busy": "2023-01-07T14:14:09.630836Z",
     "iopub.status.idle": "2023-01-07T14:14:09.632633Z",
     "shell.execute_reply": "2023-01-07T14:14:09.632839Z"
    },
    "slideshow": {
     "slide_type": "fragment"
    }
   },
   "outputs": [
    {
     "data": {
      "text/plain": [
       "'cood'"
      ]
     },
     "execution_count": 11,
     "metadata": {},
     "output_type": "execute_result"
    }
   ],
   "source": [
    "Mutator().mutate(\"good\")"
   ]
  },
  {
   "cell_type": "markdown",
   "metadata": {
    "slideshow": {
     "slide_type": "subslide"
    },
    "tags": []
   },
   "source": [
    "### Seeds and Power Schedules\n",
    "\n",
    "Now we introduce a new concept; the *power schedule*. A power schedule distributes the precious fuzzing time among the seeds in the population. Our objective is to maximize the time spent fuzzing those (most progressive) seeds which lead to higher coverage increase in shorter time.\n",
    "\n",
    "We call the likelihood with which a seed is chosen from the population as the seed's *energy*. Throughout a fuzzing campaign, we would like to prioritize seeds that are more promising. Simply said, we do not want to waste energy fuzzing non-progressive seeds. We call the procedure that decides a seed's energy as the fuzzer's *power schedule*. For instance, AFL's schedule assigns more energy to seeds that are shorter, that execute faster, and yield coverage increases more often.\n",
    "\n",
    "First, there is some information that we need to attach to each seed in addition to the seed's data. Hence, we define the following `Seed` class."
   ]
  },
  {
   "cell_type": "code",
   "execution_count": 12,
   "metadata": {
    "execution": {
     "iopub.execute_input": "2023-01-07T14:14:09.634904Z",
     "iopub.status.busy": "2023-01-07T14:14:09.634531Z",
     "iopub.status.idle": "2023-01-07T14:14:09.636210Z",
     "shell.execute_reply": "2023-01-07T14:14:09.636470Z"
    },
    "slideshow": {
     "slide_type": "skip"
    }
   },
   "outputs": [],
   "source": [
    "from Coverage import Location"
   ]
  },
  {
   "cell_type": "code",
   "execution_count": 13,
   "metadata": {
    "execution": {
     "iopub.execute_input": "2023-01-07T14:14:09.639573Z",
     "iopub.status.busy": "2023-01-07T14:14:09.639124Z",
     "iopub.status.idle": "2023-01-07T14:14:09.640479Z",
     "shell.execute_reply": "2023-01-07T14:14:09.640843Z"
    },
    "slideshow": {
     "slide_type": "subslide"
    }
   },
   "outputs": [],
   "source": [
    "class Seed:\n",
    "    \"\"\"Represent an input with additional attributes\"\"\"\n",
    "\n",
    "    def __init__(self, data: str) -> None:\n",
    "        \"\"\"Initialize from seed data\"\"\"\n",
    "        self.data = data\n",
    "\n",
    "        # These will be needed for advanced power schedules\n",
    "        self.coverage: Set[Location] = set()\n",
    "        self.distance: Union[int, float] = -1\n",
    "        self.energy = 0.0\n",
    "\n",
    "    def __str__(self) -> str:\n",
    "        \"\"\"Returns data as string representation of the seed\"\"\"\n",
    "        return self.data\n",
    "\n",
    "    __repr__ = __str__"
   ]
  },
  {
   "cell_type": "markdown",
   "metadata": {
    "slideshow": {
     "slide_type": "subslide"
    }
   },
   "source": [
    "The power schedule that is implemented below assigns each seed the same energy. Once a seed is in the population, it will be fuzzed as often as any other seed in the population.\n",
    "\n",
    "In Python, we can squeeze long for-loops into much smaller statements.\n",
    "* `lambda x: ...` returns a function that takes `x` as input. Lambda allows for quick definitions unnamed functions.\n",
    "* `map(f, l)` returns a list where the function `f` is applied to each element in list `l`.\n",
    "* `random.choices(l, weights)[0]` returns element `l[i]` with probability in `weights[i]`."
   ]
  },
  {
   "cell_type": "code",
   "execution_count": 14,
   "metadata": {
    "execution": {
     "iopub.execute_input": "2023-01-07T14:14:09.644576Z",
     "iopub.status.busy": "2023-01-07T14:14:09.644257Z",
     "iopub.status.idle": "2023-01-07T14:14:09.646880Z",
     "shell.execute_reply": "2023-01-07T14:14:09.646535Z"
    },
    "slideshow": {
     "slide_type": "subslide"
    }
   },
   "outputs": [],
   "source": [
    "class PowerSchedule:\n",
    "    \"\"\"Define how fuzzing time should be distributed across the population.\"\"\"\n",
    "\n",
    "    def __init__(self) -> None:\n",
    "        \"\"\"Constructor\"\"\"\n",
    "        self.path_frequency: Dict = {}\n",
    "\n",
    "    def assignEnergy(self, population: Sequence[Seed]) -> None:\n",
    "        \"\"\"Assigns each seed the same energy\"\"\"\n",
    "        for seed in population:\n",
    "            seed.energy = 1\n",
    "\n",
    "    def normalizedEnergy(self, population: Sequence[Seed]) -> List[float]:\n",
    "        \"\"\"Normalize energy\"\"\"\n",
    "        energy = list(map(lambda seed: seed.energy, population))\n",
    "        sum_energy = sum(energy)  # Add up all values in energy\n",
    "        assert sum_energy != 0\n",
    "        norm_energy = list(map(lambda nrg: nrg / sum_energy, energy))\n",
    "        return norm_energy\n",
    "\n",
    "    def choose(self, population: Sequence[Seed]) -> Seed:\n",
    "        \"\"\"Choose weighted by normalized energy.\"\"\"\n",
    "        self.assignEnergy(population)\n",
    "        norm_energy = self.normalizedEnergy(population)\n",
    "        seed: Seed = random.choices(population, weights=norm_energy)[0]\n",
    "        return seed"
   ]
  },
  {
   "cell_type": "markdown",
   "metadata": {
    "slideshow": {
     "slide_type": "subslide"
    }
   },
   "source": [
    "Let's see whether this power schedule chooses seeds uniformly at random. We ask the schedule 10k times to choose a seed from the population of three seeds (A, B, C) and keep track of the number of times we have seen each seed. We should see each seed about 3.3k times."
   ]
  },
  {
   "cell_type": "code",
   "execution_count": 15,
   "metadata": {
    "execution": {
     "iopub.execute_input": "2023-01-07T14:14:09.649662Z",
     "iopub.status.busy": "2023-01-07T14:14:09.649335Z",
     "iopub.status.idle": "2023-01-07T14:14:09.650734Z",
     "shell.execute_reply": "2023-01-07T14:14:09.651007Z"
    },
    "slideshow": {
     "slide_type": "fragment"
    }
   },
   "outputs": [],
   "source": [
    "population = [Seed(\"A\"), Seed(\"B\"), Seed(\"C\")]\n",
    "schedule = PowerSchedule()\n",
    "hits = {\n",
    "    \"A\": 0,\n",
    "    \"B\": 0,\n",
    "    \"C\": 0\n",
    "}"
   ]
  },
  {
   "cell_type": "code",
   "execution_count": 16,
   "metadata": {
    "execution": {
     "iopub.execute_input": "2023-01-07T14:14:09.675306Z",
     "iopub.status.busy": "2023-01-07T14:14:09.674719Z",
     "iopub.status.idle": "2023-01-07T14:14:09.676525Z",
     "shell.execute_reply": "2023-01-07T14:14:09.677007Z"
    },
    "slideshow": {
     "slide_type": "fragment"
    }
   },
   "outputs": [],
   "source": [
    "for i in range(10000):\n",
    "    seed = schedule.choose(population)\n",
    "    hits[seed.data] += 1"
   ]
  },
  {
   "cell_type": "code",
   "execution_count": 17,
   "metadata": {
    "execution": {
     "iopub.execute_input": "2023-01-07T14:14:09.679596Z",
     "iopub.status.busy": "2023-01-07T14:14:09.679264Z",
     "iopub.status.idle": "2023-01-07T14:14:09.680708Z",
     "shell.execute_reply": "2023-01-07T14:14:09.681080Z"
    },
    "slideshow": {
     "slide_type": "subslide"
    }
   },
   "outputs": [
    {
     "data": {
      "text/plain": [
       "{'A': 3387, 'B': 3255, 'C': 3358}"
      ]
     },
     "execution_count": 17,
     "metadata": {},
     "output_type": "execute_result"
    }
   ],
   "source": [
    "hits"
   ]
  },
  {
   "cell_type": "markdown",
   "metadata": {
    "slideshow": {
     "slide_type": "fragment"
    }
   },
   "source": [
    "Looks good. Every seed has been chosen about a third of the time."
   ]
  },
  {
   "cell_type": "markdown",
   "metadata": {
    "slideshow": {
     "slide_type": "subslide"
    }
   },
   "source": [
    "### Runners and a Sample Program\n",
    "\n",
    "We'll start with a small sample program of six lines. In order to collect coverage information during execution, we import the `FunctionCoverageRunner` class from the chapter on [mutation-based fuzzing](MutationFuzzer.ipynb#Guiding-by-Coverage). \n",
    "\n",
    "The `FunctionCoverageRunner` constructor takes a Python `function` to execute. The function `run` takes an input, passes it on to the Python `function`, and collects the coverage information for this execution. The function `coverage()` returns a list of tuples `(function name, line number)` for each statement that has been covered in the Python `function`."
   ]
  },
  {
   "cell_type": "code",
   "execution_count": 18,
   "metadata": {
    "execution": {
     "iopub.execute_input": "2023-01-07T14:14:09.683466Z",
     "iopub.status.busy": "2023-01-07T14:14:09.683162Z",
     "iopub.status.idle": "2023-01-07T14:14:09.695792Z",
     "shell.execute_reply": "2023-01-07T14:14:09.696006Z"
    },
    "slideshow": {
     "slide_type": "skip"
    }
   },
   "outputs": [],
   "source": [
    "from MutationFuzzer import FunctionCoverageRunner, http_program"
   ]
  },
  {
   "cell_type": "markdown",
   "metadata": {
    "slideshow": {
     "slide_type": "subslide"
    }
   },
   "source": [
    "The `crashme()` function raises an exception for the input \"bad!\". Let's see which statements are covered for the input \"good\"."
   ]
  },
  {
   "cell_type": "code",
   "execution_count": 19,
   "metadata": {
    "execution": {
     "iopub.execute_input": "2023-01-07T14:14:09.698388Z",
     "iopub.status.busy": "2023-01-07T14:14:09.698068Z",
     "iopub.status.idle": "2023-01-07T14:14:09.699464Z",
     "shell.execute_reply": "2023-01-07T14:14:09.699664Z"
    },
    "slideshow": {
     "slide_type": "fragment"
    }
   },
   "outputs": [],
   "source": [
    "def crashme(s: str) -> None:\n",
    "    if len(s) > 0 and s[0] == 'b':\n",
    "        if len(s) > 1 and s[1] == 'a':\n",
    "            if len(s) > 2 and s[2] == 'd':\n",
    "                if len(s) > 3 and s[3] == '!':\n",
    "                    raise Exception()"
   ]
  },
  {
   "cell_type": "code",
   "execution_count": 20,
   "metadata": {
    "execution": {
     "iopub.execute_input": "2023-01-07T14:14:09.702331Z",
     "iopub.status.busy": "2023-01-07T14:14:09.701897Z",
     "iopub.status.idle": "2023-01-07T14:14:09.703611Z",
     "shell.execute_reply": "2023-01-07T14:14:09.703820Z"
    },
    "slideshow": {
     "slide_type": "fragment"
    }
   },
   "outputs": [
    {
     "data": {
      "text/plain": [
       "[('crashme', 2), ('run_function', 132)]"
      ]
     },
     "execution_count": 20,
     "metadata": {},
     "output_type": "execute_result"
    }
   ],
   "source": [
    "crashme_runner = FunctionCoverageRunner(crashme)\n",
    "crashme_runner.run(\"good\")\n",
    "list(crashme_runner.coverage())"
   ]
  },
  {
   "cell_type": "markdown",
   "metadata": {
    "slideshow": {
     "slide_type": "fragment"
    }
   },
   "source": [
    "In `crashme`, the input \"good\" only covers the if-statement in line 2. The branch condition `len(s) > 0 and s[0] == 'b'` evaluates to False."
   ]
  },
  {
   "cell_type": "markdown",
   "metadata": {
    "slideshow": {
     "slide_type": "slide"
    }
   },
   "source": [
    "## Advanced Blackbox Mutation-based Fuzzing\n",
    "\n",
    "Let's integrate both the mutator and power schedule into a fuzzer. We'll start with a blackbox fuzzer -- which does *not* leverage any coverage information. \n",
    "\n",
    "Our `AdvancedMutationFuzzer` class is an advanced and _parameterized_ version of the `MutationFuzzer` class from the [chapter on mutation-based fuzzing](MutationFuzzer.ipynb). It also inherits from the [Fuzzer](Fuzzer.ipynb#Fuzzer-Classes) class. For now, we only need to know the functions `fuzz()` which returns a generated input and `runs()` which executes `fuzz()` a specified number of times. For our `AdvancedMutationFuzzer` class, we override the function `fuzz()`."
   ]
  },
  {
   "cell_type": "code",
   "execution_count": 21,
   "metadata": {
    "execution": {
     "iopub.execute_input": "2023-01-07T14:14:09.705749Z",
     "iopub.status.busy": "2023-01-07T14:14:09.705444Z",
     "iopub.status.idle": "2023-01-07T14:14:09.706836Z",
     "shell.execute_reply": "2023-01-07T14:14:09.707046Z"
    },
    "slideshow": {
     "slide_type": "skip"
    }
   },
   "outputs": [],
   "source": [
    "from Fuzzer import Fuzzer"
   ]
  },
  {
   "cell_type": "markdown",
   "metadata": {
    "slideshow": {
     "slide_type": "subslide"
    }
   },
   "source": [
    "The `AdvancedMutationFuzzer` is constructed with a set of initial seeds, a mutator, and a power schedule. Throughout the fuzzing campaign, it maintains a seed corpus called `population`. The function `fuzz` returns either an unfuzzed seed from the initial seeds, or the result of fuzzing a seed in the population. The function `create_candidate` handles the latter. It randomly chooses an input from the population and applies a number of mutations."
   ]
  },
  {
   "cell_type": "code",
   "execution_count": 22,
   "metadata": {
    "execution": {
     "iopub.execute_input": "2023-01-07T14:14:09.711738Z",
     "iopub.status.busy": "2023-01-07T14:14:09.711366Z",
     "iopub.status.idle": "2023-01-07T14:14:09.712794Z",
     "shell.execute_reply": "2023-01-07T14:14:09.713056Z"
    },
    "slideshow": {
     "slide_type": "subslide"
    }
   },
   "outputs": [],
   "source": [
    "class AdvancedMutationFuzzer(Fuzzer):\n",
    "    \"\"\"Base class for mutation-based fuzzing.\"\"\"\n",
    "\n",
    "    def __init__(self, seeds: List[str],\n",
    "                 mutator: Mutator,\n",
    "                 schedule: PowerSchedule) -> None:\n",
    "        \"\"\"Constructor.\n",
    "        `seeds` - a list of (input) strings to mutate.\n",
    "        `mutator` - the mutator to apply.\n",
    "        `schedule` - the power schedule to apply.\n",
    "        \"\"\"\n",
    "        self.seeds = seeds\n",
    "        self.mutator = mutator\n",
    "        self.schedule = schedule\n",
    "        self.inputs: List[str] = []\n",
    "        self.reset()\n",
    "\n",
    "    def reset(self) -> None:\n",
    "        \"\"\"Reset the initial population and seed index\"\"\"\n",
    "        self.population = list(map(lambda x: Seed(x), self.seeds))\n",
    "        self.seed_index = 0\n",
    "\n",
    "    def create_candidate(self) -> str:\n",
    "        \"\"\"Returns an input generated by fuzzing a seed in the population\"\"\"\n",
    "        seed = self.schedule.choose(self.population)\n",
    "\n",
    "        # Stacking: Apply multiple mutations to generate the candidate\n",
    "        candidate = seed.data\n",
    "        trials = min(len(candidate), 1 << random.randint(1, 5))\n",
    "        for i in range(trials):\n",
    "            candidate = self.mutator.mutate(candidate)\n",
    "        return candidate\n",
    "\n",
    "    def fuzz(self) -> str:\n",
    "        \"\"\"Returns first each seed once and then generates new inputs\"\"\"\n",
    "        if self.seed_index < len(self.seeds):\n",
    "            # Still seeding\n",
    "            self.inp = self.seeds[self.seed_index]\n",
    "            self.seed_index += 1\n",
    "        else:\n",
    "            # Mutating\n",
    "            self.inp = self.create_candidate()\n",
    "\n",
    "        self.inputs.append(self.inp)\n",
    "        return self.inp"
   ]
  },
  {
   "cell_type": "markdown",
   "metadata": {
    "slideshow": {
     "slide_type": "subslide"
    }
   },
   "source": [
    "Okay, let's take the mutation fuzzer for a spin. Given a single seed, we ask it to generate three inputs."
   ]
  },
  {
   "cell_type": "code",
   "execution_count": 23,
   "metadata": {
    "execution": {
     "iopub.execute_input": "2023-01-07T14:14:09.715607Z",
     "iopub.status.busy": "2023-01-07T14:14:09.715238Z",
     "iopub.status.idle": "2023-01-07T14:14:09.717073Z",
     "shell.execute_reply": "2023-01-07T14:14:09.716886Z"
    },
    "slideshow": {
     "slide_type": "fragment"
    }
   },
   "outputs": [
    {
     "name": "stdout",
     "output_type": "stream",
     "text": [
      "good\n",
      "gDoodC\n",
      "/\n"
     ]
    }
   ],
   "source": [
    "seed_input = \"good\"\n",
    "mutation_fuzzer = AdvancedMutationFuzzer([seed_input], Mutator(), PowerSchedule())\n",
    "print(mutation_fuzzer.fuzz())\n",
    "print(mutation_fuzzer.fuzz())\n",
    "print(mutation_fuzzer.fuzz())"
   ]
  },
  {
   "cell_type": "markdown",
   "metadata": {
    "slideshow": {
     "slide_type": "subslide"
    }
   },
   "source": [
    "Let's see how many statements the mutation-based blackbox fuzzer covers in a campaign with n=30k inputs.\n",
    "\n",
    "The fuzzer function `runs(crashme_runner, trials=n)` generates `n` inputs and executes them on the `crashme` function via the `crashme_runner`. As stated earlier, the `crashme_runner` also collects coverage information."
   ]
  },
  {
   "cell_type": "code",
   "execution_count": 24,
   "metadata": {
    "execution": {
     "iopub.execute_input": "2023-01-07T14:14:09.719043Z",
     "iopub.status.busy": "2023-01-07T14:14:09.718727Z",
     "iopub.status.idle": "2023-01-07T14:14:09.719893Z",
     "shell.execute_reply": "2023-01-07T14:14:09.720210Z"
    },
    "slideshow": {
     "slide_type": "skip"
    }
   },
   "outputs": [],
   "source": [
    "import time"
   ]
  },
  {
   "cell_type": "code",
   "execution_count": 25,
   "metadata": {
    "execution": {
     "iopub.execute_input": "2023-01-07T14:14:09.721906Z",
     "iopub.status.busy": "2023-01-07T14:14:09.721617Z",
     "iopub.status.idle": "2023-01-07T14:14:09.722936Z",
     "shell.execute_reply": "2023-01-07T14:14:09.723268Z"
    },
    "slideshow": {
     "slide_type": "fragment"
    }
   },
   "outputs": [],
   "source": [
    "n = 30000"
   ]
  },
  {
   "cell_type": "code",
   "execution_count": 26,
   "metadata": {
    "execution": {
     "iopub.execute_input": "2023-01-07T14:14:09.807041Z",
     "iopub.status.busy": "2023-01-07T14:14:09.760885Z",
     "iopub.status.idle": "2023-01-07T14:14:10.075159Z",
     "shell.execute_reply": "2023-01-07T14:14:10.075431Z"
    },
    "slideshow": {
     "slide_type": "subslide"
    }
   },
   "outputs": [
    {
     "data": {
      "text/plain": [
       "'It took the blackbox mutation-based fuzzer 0.35 seconds to generate and execute 30000 inputs.'"
      ]
     },
     "execution_count": 26,
     "metadata": {},
     "output_type": "execute_result"
    }
   ],
   "source": [
    "blackbox_fuzzer = AdvancedMutationFuzzer([seed_input], Mutator(), PowerSchedule())\n",
    "\n",
    "start = time.time()\n",
    "blackbox_fuzzer.runs(FunctionCoverageRunner(crashme), trials=n)\n",
    "end = time.time()\n",
    "\n",
    "\"It took the blackbox mutation-based fuzzer %0.2f seconds to generate and execute %d inputs.\" % (end - start, n)"
   ]
  },
  {
   "cell_type": "markdown",
   "metadata": {
    "slideshow": {
     "slide_type": "subslide"
    }
   },
   "source": [
    "In order to measure coverage, we import the [population_coverage](Coverage.ipynb#Coverage-of-Basic-Fuzzing) function. It takes a set of inputs and a Python function, executes the inputs on that function and collects coverage information. Specifically, it returns a tuple `(all_coverage, cumulative_coverage)` where `all_coverage` is the set of statements covered by all inputs, and `cumulative_coverage` is the number of statements covered as the number of executed inputs increases. We are just interested in the latter to plot coverage over time."
   ]
  },
  {
   "cell_type": "markdown",
   "metadata": {
    "slideshow": {
     "slide_type": "fragment"
    }
   },
   "source": [
    "We extract the generated inputs from the blackbox fuzzer and measure coverage as the number of inputs increases."
   ]
  },
  {
   "cell_type": "code",
   "execution_count": 27,
   "metadata": {
    "execution": {
     "iopub.execute_input": "2023-01-07T14:14:10.084629Z",
     "iopub.status.busy": "2023-01-07T14:14:10.083971Z",
     "iopub.status.idle": "2023-01-07T14:14:10.145240Z",
     "shell.execute_reply": "2023-01-07T14:14:10.145529Z"
    },
    "slideshow": {
     "slide_type": "fragment"
    }
   },
   "outputs": [
    {
     "data": {
      "text/plain": [
       "'The blackbox mutation-based fuzzer achieved a maximum coverage of 2 statements.'"
      ]
     },
     "execution_count": 27,
     "metadata": {},
     "output_type": "execute_result"
    }
   ],
   "source": [
    "_, blackbox_coverage = population_coverage(blackbox_fuzzer.inputs, crashme)\n",
    "bb_max_coverage = max(blackbox_coverage)\n",
    "\n",
    "\"The blackbox mutation-based fuzzer achieved a maximum coverage of %d statements.\" % bb_max_coverage"
   ]
  },
  {
   "cell_type": "markdown",
   "metadata": {
    "slideshow": {
     "slide_type": "subslide"
    }
   },
   "source": [
    "The following generated inputs increased the coverage for our `crashme` [example](#Runner-and-Sample-Program)."
   ]
  },
  {
   "cell_type": "code",
   "execution_count": 28,
   "metadata": {
    "execution": {
     "iopub.execute_input": "2023-01-07T14:14:10.150284Z",
     "iopub.status.busy": "2023-01-07T14:14:10.149946Z",
     "iopub.status.idle": "2023-01-07T14:14:10.151605Z",
     "shell.execute_reply": "2023-01-07T14:14:10.151861Z"
    },
    "slideshow": {
     "slide_type": "fragment"
    }
   },
   "outputs": [
    {
     "data": {
      "text/plain": [
       "['good', 'bo']"
      ]
     },
     "execution_count": 28,
     "metadata": {},
     "output_type": "execute_result"
    }
   ],
   "source": [
    "[seed_input] + \\\n",
    "    [\n",
    "        blackbox_fuzzer.inputs[idx] for idx in range(len(blackbox_coverage))\n",
    "        if blackbox_coverage[idx] > blackbox_coverage[idx - 1]\n",
    "    ]"
   ]
  },
  {
   "cell_type": "markdown",
   "metadata": {
    "slideshow": {
     "slide_type": "subslide"
    }
   },
   "source": [
    "***Summary***. This is how a blackbox mutation-based fuzzer works. We have integrated the *mutator* to generate inputs by fuzzing a provided set of initial seeds and the *power schedule* to decide which seed to choose next."
   ]
  },
  {
   "cell_type": "markdown",
   "metadata": {
    "slideshow": {
     "slide_type": "slide"
    }
   },
   "source": [
    "## Greybox Mutation-based Fuzzing\n",
    "\n",
    "In contrast to a blackbox fuzzer, a greybox fuzzer like [AFL](http://lcamtuf.coredump.cx/afl/) _does_ leverage coverage information. Specifically, a greybox fuzzer adds to the seed population generated inputs which increase code coverage.\n",
    "\n",
    "The method `run()` is inherited from the [Fuzzer](Fuzzer.ipynb#Fuzzer-Classes) class. It is called to generate and execute exactly one input. We override this function to add an input to the `population` that increases coverage. The greybox fuzzer attribute `coverages_seen` maintains the set of statements, that have previously been covered."
   ]
  },
  {
   "cell_type": "code",
   "execution_count": 29,
   "metadata": {
    "execution": {
     "iopub.execute_input": "2023-01-07T14:14:10.155195Z",
     "iopub.status.busy": "2023-01-07T14:14:10.154869Z",
     "iopub.status.idle": "2023-01-07T14:14:10.156104Z",
     "shell.execute_reply": "2023-01-07T14:14:10.156471Z"
    },
    "slideshow": {
     "slide_type": "subslide"
    }
   },
   "outputs": [],
   "source": [
    "class GreyboxFuzzer(AdvancedMutationFuzzer):\n",
    "    \"\"\"Coverage-guided mutational fuzzing.\"\"\"\n",
    "\n",
    "    def reset(self):\n",
    "        \"\"\"Reset the initial population, seed index, coverage information\"\"\"\n",
    "        super().reset()\n",
    "        self.coverages_seen = set()\n",
    "        self.population = []  # population is filled during greybox fuzzing\n",
    "\n",
    "    def run(self, runner: FunctionCoverageRunner) -> Tuple[Any, str]:  # type: ignore\n",
    "        \"\"\"Run function(inp) while tracking coverage.\n",
    "           If we reach new coverage,\n",
    "           add inp to population and its coverage to population_coverage\n",
    "        \"\"\"\n",
    "        result, outcome = super().run(runner)\n",
    "        new_coverage = frozenset(runner.coverage())\n",
    "        if new_coverage not in self.coverages_seen:\n",
    "            # We have new coverage\n",
    "            seed = Seed(self.inp)\n",
    "            seed.coverage = runner.coverage()\n",
    "            self.coverages_seen.add(new_coverage)\n",
    "            self.population.append(seed)\n",
    "\n",
    "        return (result, outcome)"
   ]
  },
  {
   "cell_type": "markdown",
   "metadata": {
    "slideshow": {
     "slide_type": "subslide"
    }
   },
   "source": [
    "Let's take our greybox fuzzer for a spin."
   ]
  },
  {
   "cell_type": "code",
   "execution_count": 30,
   "metadata": {
    "execution": {
     "iopub.execute_input": "2023-01-07T14:14:10.250149Z",
     "iopub.status.busy": "2023-01-07T14:14:10.208278Z",
     "iopub.status.idle": "2023-01-07T14:14:10.513300Z",
     "shell.execute_reply": "2023-01-07T14:14:10.513573Z"
    },
    "slideshow": {
     "slide_type": "fragment"
    }
   },
   "outputs": [
    {
     "data": {
      "text/plain": [
       "'It took the greybox mutation-based fuzzer 0.35 seconds to generate and execute 30000 inputs.'"
      ]
     },
     "execution_count": 30,
     "metadata": {},
     "output_type": "execute_result"
    }
   ],
   "source": [
    "seed_input = \"good\"\n",
    "greybox_fuzzer = GreyboxFuzzer([seed_input], Mutator(), PowerSchedule())\n",
    "\n",
    "start = time.time()\n",
    "greybox_fuzzer.runs(FunctionCoverageRunner(crashme), trials=n)\n",
    "end = time.time()\n",
    "\n",
    "\"It took the greybox mutation-based fuzzer %0.2f seconds to generate and execute %d inputs.\" % (end - start, n)"
   ]
  },
  {
   "cell_type": "markdown",
   "metadata": {
    "slideshow": {
     "slide_type": "fragment"
    }
   },
   "source": [
    "Does the greybox fuzzer cover more statements after generating the same number of test inputs?"
   ]
  },
  {
   "cell_type": "code",
   "execution_count": 31,
   "metadata": {
    "execution": {
     "iopub.execute_input": "2023-01-07T14:14:10.569225Z",
     "iopub.status.busy": "2023-01-07T14:14:10.525990Z",
     "iopub.status.idle": "2023-01-07T14:14:10.586834Z",
     "shell.execute_reply": "2023-01-07T14:14:10.587181Z"
    },
    "slideshow": {
     "slide_type": "subslide"
    }
   },
   "outputs": [
    {
     "data": {
      "text/plain": [
       "'Our greybox mutation-based fuzzer covers 2 more statements'"
      ]
     },
     "execution_count": 31,
     "metadata": {},
     "output_type": "execute_result"
    }
   ],
   "source": [
    "_, greybox_coverage = population_coverage(greybox_fuzzer.inputs, crashme)\n",
    "gb_max_coverage = max(greybox_coverage)\n",
    "\n",
    "\"Our greybox mutation-based fuzzer covers %d more statements\" % (gb_max_coverage - bb_max_coverage)"
   ]
  },
  {
   "cell_type": "markdown",
   "metadata": {
    "slideshow": {
     "slide_type": "fragment"
    }
   },
   "source": [
    "Our seed population for our [example](#Runner-and-Sample-Program) now contains the following seeds."
   ]
  },
  {
   "cell_type": "code",
   "execution_count": 32,
   "metadata": {
    "execution": {
     "iopub.execute_input": "2023-01-07T14:14:10.589383Z",
     "iopub.status.busy": "2023-01-07T14:14:10.589075Z",
     "iopub.status.idle": "2023-01-07T14:14:10.590866Z",
     "shell.execute_reply": "2023-01-07T14:14:10.591138Z"
    },
    "slideshow": {
     "slide_type": "fragment"
    }
   },
   "outputs": [
    {
     "data": {
      "text/plain": [
       "[good, bo, baof, bad4u]"
      ]
     },
     "execution_count": 32,
     "metadata": {},
     "output_type": "execute_result"
    }
   ],
   "source": [
    "greybox_fuzzer.population"
   ]
  },
  {
   "cell_type": "markdown",
   "metadata": {
    "slideshow": {
     "slide_type": "fragment"
    }
   },
   "source": [
    "Coverage-feedback is indeed helpful. The new seeds are like bread crumbs or milestones that guide the fuzzer to progress more quickly into deeper code regions. Following is a simple plot showing the coverage achieved over time for both fuzzers on our simple [example](#Runner-and-Sample-Program)."
   ]
  },
  {
   "cell_type": "code",
   "execution_count": 33,
   "metadata": {
    "execution": {
     "iopub.execute_input": "2023-01-07T14:14:10.593322Z",
     "iopub.status.busy": "2023-01-07T14:14:10.592983Z",
     "iopub.status.idle": "2023-01-07T14:14:10.596807Z",
     "shell.execute_reply": "2023-01-07T14:14:10.597008Z"
    },
    "slideshow": {
     "slide_type": "fragment"
    }
   },
   "outputs": [],
   "source": [
    "%matplotlib inline"
   ]
  },
  {
   "cell_type": "code",
   "execution_count": 34,
   "metadata": {
    "execution": {
     "iopub.execute_input": "2023-01-07T14:14:10.599120Z",
     "iopub.status.busy": "2023-01-07T14:14:10.598540Z",
     "iopub.status.idle": "2023-01-07T14:14:10.600194Z",
     "shell.execute_reply": "2023-01-07T14:14:10.600567Z"
    },
    "slideshow": {
     "slide_type": "skip"
    }
   },
   "outputs": [],
   "source": [
    "import matplotlib.pyplot as plt  # type: ignore"
   ]
  },
  {
   "cell_type": "code",
   "execution_count": 35,
   "metadata": {
    "execution": {
     "iopub.execute_input": "2023-01-07T14:14:10.609064Z",
     "iopub.status.busy": "2023-01-07T14:14:10.608730Z",
     "iopub.status.idle": "2023-01-07T14:14:10.753541Z",
     "shell.execute_reply": "2023-01-07T14:14:10.753800Z"
    },
    "slideshow": {
     "slide_type": "subslide"
    }
   },
   "outputs": [
    {
     "data": {
      "image/png": "[encoded data removed]",
      "text/plain": [
       "<Figure size 432x288 with 1 Axes>"
      ]
     },
     "metadata": {
      "needs_background": "light"
     },
     "output_type": "display_data"
    }
   ],
   "source": [
    "line_bb, = plt.plot(blackbox_coverage, label=\"Blackbox\")\n",
    "line_gb, = plt.plot(greybox_coverage, label=\"Greybox\")\n",
    "plt.legend(handles=[line_bb, line_gb])\n",
    "plt.title('Coverage over time')\n",
    "plt.xlabel('# of inputs')\n",
    "plt.ylabel('lines covered');"
   ]
  },
  {
   "cell_type": "markdown",
   "metadata": {
    "slideshow": {
     "slide_type": "subslide"
    }
   },
   "source": [
    "***Summary***. We have seen how a greybox fuzzer \"discovers\" interesting seeds that can lead to more progress. From the input `good`, our greybox fuzzer has slowly learned how to generate the input `bad!` which raises the exception. Now, how can we do that even faster?\n",
    "\n",
    "***Try it***. How much coverage would be achieved over time using a blackbox *generation-based* fuzzer? Try plotting the coverage for all three fuzzers. You can define the blackbox generation-based fuzzer as follows.\n",
    "```Python\n",
    "from Fuzzer import RandomFuzzer\n",
    "blackbox_gen_fuzzer = RandomFuzzer(min_length=4, max_length=4, char_start=32, char_range=96)\n",
    "```\n",
    "You can execute your own code by opening this chapter as Jupyter notebook.\n",
    "\n",
    "***Read***. This is the high-level view how AFL works, one of the most successful vulnerability detection tools. If you are interested in the technical details, have a look at: https://github.com/mirrorer/afl/blob/master/docs/technical_details.txt"
   ]
  },
  {
   "cell_type": "markdown",
   "metadata": {
    "slideshow": {
     "slide_type": "slide"
    }
   },
   "source": [
    "## Boosted Greybox Fuzzing\n",
    "\n",
    "Our boosted greybox fuzzer assigns more energy to seeds that promise to achieve more coverage. We change the power schedule such that seeds that exercise \"unusual\" paths have more energy. With *unusual paths*, we mean paths that are not exercised very often by generated inputs.\n",
    "\n",
    "In order to identify which path is exercised by an input, we leverage the function `getPathID` from the section on [trace coverage](WhenIsEnough.ipynb#Trace-Coverage)."
   ]
  },
  {
   "cell_type": "code",
   "execution_count": 36,
   "metadata": {
    "execution": {
     "iopub.execute_input": "2023-01-07T14:14:10.756077Z",
     "iopub.status.busy": "2023-01-07T14:14:10.755734Z",
     "iopub.status.idle": "2023-01-07T14:14:10.757091Z",
     "shell.execute_reply": "2023-01-07T14:14:10.757372Z"
    },
    "slideshow": {
     "slide_type": "skip"
    }
   },
   "outputs": [],
   "source": [
    "import pickle   # serializes an object by producing a byte array from all the information in the object\n",
    "import hashlib  # produces a 128-bit hash value from a byte array"
   ]
  },
  {
   "cell_type": "markdown",
   "metadata": {
    "slideshow": {
     "slide_type": "fragment"
    }
   },
   "source": [
    "The function `getPathID` returns a unique hash for a coverage set."
   ]
  },
  {
   "cell_type": "code",
   "execution_count": 37,
   "metadata": {
    "execution": {
     "iopub.execute_input": "2023-01-07T14:14:10.760431Z",
     "iopub.status.busy": "2023-01-07T14:14:10.759697Z",
     "iopub.status.idle": "2023-01-07T14:14:10.761081Z",
     "shell.execute_reply": "2023-01-07T14:14:10.761437Z"
    },
    "slideshow": {
     "slide_type": "subslide"
    }
   },
   "outputs": [],
   "source": [
    "def getPathID(coverage: Any) -> str:\n",
    "    \"\"\"Returns a unique hash for the covered statements\"\"\"\n",
    "    pickled = pickle.dumps(sorted(coverage))\n",
    "    return hashlib.md5(pickled).hexdigest()"
   ]
  },
  {
   "cell_type": "markdown",
   "metadata": {
    "slideshow": {
     "slide_type": "fragment"
    }
   },
   "source": [
    "There are several ways to assign energy based on how unusual the exercised path is. In this case, we implement an _exponential power schedule_ which computes the energy $e(s)$ for a seed $s$ as follows\n",
    "$$e(s) = \\frac{1}{f(p(s))^a}$$\n",
    "where \n",
    "* $p(s)$ returns the ID of the path exercised by $s$, \n",
    "* $f(p)$ returns the number of times the path $p$ is exercised by generated inputs, and \n",
    "* $a$ is a given exponent."
   ]
  },
  {
   "cell_type": "code",
   "execution_count": 38,
   "metadata": {
    "execution": {
     "iopub.execute_input": "2023-01-07T14:14:10.764220Z",
     "iopub.status.busy": "2023-01-07T14:14:10.763888Z",
     "iopub.status.idle": "2023-01-07T14:14:10.765199Z",
     "shell.execute_reply": "2023-01-07T14:14:10.765445Z"
    },
    "slideshow": {
     "slide_type": "subslide"
    }
   },
   "outputs": [],
   "source": [
    "class AFLFastSchedule(PowerSchedule):\n",
    "    \"\"\"Exponential power schedule as implemented in AFL\"\"\"\n",
    "\n",
    "    def __init__(self, exponent: float) -> None:\n",
    "        self.exponent = exponent\n",
    "\n",
    "    def assignEnergy(self, population: Sequence[Seed]) -> None:\n",
    "        \"\"\"Assign exponential energy inversely proportional to path frequency\"\"\"\n",
    "        for seed in population:\n",
    "            seed.energy = 1 / (self.path_frequency[getPathID(seed.coverage)] ** self.exponent)"
   ]
  },
  {
   "attachments": {},
   "cell_type": "markdown",
   "metadata": {
    "slideshow": {
     "slide_type": "fragment"
    }
   },
   "source": [
    "In the greybox fuzzer, let's keep track of the number of times $f(p)$ each path $p$ is exercised, and update the power schedule."
   ]
  },
  {
   "cell_type": "code",
   "execution_count": 39,
   "metadata": {
    "execution": {
     "iopub.execute_input": "2023-01-07T14:14:10.768841Z",
     "iopub.status.busy": "2023-01-07T14:14:10.768457Z",
     "iopub.status.idle": "2023-01-07T14:14:10.769774Z",
     "shell.execute_reply": "2023-01-07T14:14:10.770006Z"
    },
    "slideshow": {
     "slide_type": "subslide"
    }
   },
   "outputs": [],
   "source": [
    "class CountingGreyboxFuzzer(GreyboxFuzzer):\n",
    "    \"\"\"Count how often individual paths are exercised.\"\"\"\n",
    "\n",
    "    def reset(self):\n",
    "        \"\"\"Reset path frequency\"\"\"\n",
    "        super().reset()\n",
    "        self.schedule.path_frequency = {}\n",
    "\n",
    "    def run(self, runner: FunctionCoverageRunner) -> Tuple[Any, str]:  # type: ignore\n",
    "        \"\"\"Inform scheduler about path frequency\"\"\"\n",
    "        result, outcome = super().run(runner)\n",
    "\n",
    "        path_id = getPathID(runner.coverage())\n",
    "        if path_id not in self.schedule.path_frequency:\n",
    "            self.schedule.path_frequency[path_id] = 1\n",
    "        else:\n",
    "            self.schedule.path_frequency[path_id] += 1\n",
    "\n",
    "        return(result, outcome)"
   ]
  },
  {
   "attachments": {},
   "cell_type": "markdown",
   "metadata": {
    "slideshow": {
     "slide_type": "subslide"
    }
   },
   "source": [
    "Okay, let's run our boosted greybox fuzzer $n=10k$ times on our simple [example](#Runner-and-Sample-Program). We set the exponentent of our exponential power schedule to $a=5$."
   ]
  },
  {
   "cell_type": "code",
   "execution_count": 40,
   "metadata": {
    "execution": {
     "iopub.execute_input": "2023-01-07T14:14:10.865421Z",
     "iopub.status.busy": "2023-01-07T14:14:10.821007Z",
     "iopub.status.idle": "2023-01-07T14:14:11.014099Z",
     "shell.execute_reply": "2023-01-07T14:14:11.014632Z"
    },
    "slideshow": {
     "slide_type": "fragment"
    }
   },
   "outputs": [
    {
     "data": {
      "text/plain": [
       "'It took the fuzzer w/ exponential schedule 0.24 seconds to generate and execute 10000 inputs.'"
      ]
     },
     "execution_count": 40,
     "metadata": {},
     "output_type": "execute_result"
    }
   ],
   "source": [
    "n = 10000\n",
    "seed_input = \"good\"\n",
    "fast_schedule = AFLFastSchedule(5)\n",
    "fast_fuzzer = CountingGreyboxFuzzer([seed_input], Mutator(), fast_schedule)\n",
    "start = time.time()\n",
    "fast_fuzzer.runs(FunctionCoverageRunner(crashme), trials=n)\n",
    "end = time.time()\n",
    "\n",
    "\"It took the fuzzer w/ exponential schedule %0.2f seconds to generate and execute %d inputs.\" % (end - start, n)"
   ]
  },
  {
   "cell_type": "code",
   "execution_count": 41,
   "metadata": {
    "execution": {
     "iopub.execute_input": "2023-01-07T14:14:11.017010Z",
     "iopub.status.busy": "2023-01-07T14:14:11.016681Z",
     "iopub.status.idle": "2023-01-07T14:14:11.018081Z",
     "shell.execute_reply": "2023-01-07T14:14:11.018334Z"
    },
    "slideshow": {
     "slide_type": "skip"
    }
   },
   "outputs": [],
   "source": [
    "import numpy as np"
   ]
  },
  {
   "cell_type": "code",
   "execution_count": 42,
   "metadata": {
    "execution": {
     "iopub.execute_input": "2023-01-07T14:14:11.033605Z",
     "iopub.status.busy": "2023-01-07T14:14:11.026784Z",
     "iopub.status.idle": "2023-01-07T14:14:11.069332Z",
     "shell.execute_reply": "2023-01-07T14:14:11.069546Z"
    },
    "slideshow": {
     "slide_type": "subslide"
    }
   },
   "outputs": [
    {
     "data": {
      "image/png": "[encoded data removed]",
      "text/plain": [
       "<Figure size 432x288 with 1 Axes>"
      ]
     },
     "metadata": {
      "needs_background": "light"
     },
     "output_type": "display_data"
    }
   ],
   "source": [
    "x_axis = np.arange(len(fast_schedule.path_frequency))\n",
    "y_axis = list(fast_schedule.path_frequency.values())\n",
    "\n",
    "plt.bar(x_axis, y_axis)\n",
    "plt.xticks(x_axis)\n",
    "plt.ylim(0, n)\n",
    "# plt.yscale(\"log\")\n",
    "# plt.yticks([10,100,1000,10000])\n",
    "plt;"
   ]
  },
  {
   "cell_type": "code",
   "execution_count": 43,
   "metadata": {
    "execution": {
     "iopub.execute_input": "2023-01-07T14:14:11.071935Z",
     "iopub.status.busy": "2023-01-07T14:14:11.071558Z",
     "iopub.status.idle": "2023-01-07T14:14:11.073424Z",
     "shell.execute_reply": "2023-01-07T14:14:11.073761Z"
    },
    "slideshow": {
     "slide_type": "subslide"
    }
   },
   "outputs": [
    {
     "name": "stdout",
     "output_type": "stream",
     "text": [
      "             path id 'p'           : path frequency 'f(p)'\n"
     ]
    },
    {
     "data": {
      "text/plain": [
       "{'e014b68ad4f3bc2daf207e2498d14cbf': 5612,\n",
       " '0a1008773804033d8a4c0e3aba4b96a0': 2607,\n",
       " 'eae4df5b039511eac56625f47c337d24': 1105,\n",
       " 'b14f545c3b39716a455034d9a0c61b8c': 457,\n",
       " '11529f85aaa30be08110f3076748e420': 219}"
      ]
     },
     "execution_count": 43,
     "metadata": {},
     "output_type": "execute_result"
    }
   ],
   "source": [
    "print(\"             path id 'p'           : path frequency 'f(p)'\")\n",
    "fast_schedule.path_frequency"
   ]
  },
  {
   "cell_type": "markdown",
   "metadata": {
    "slideshow": {
     "slide_type": "fragment"
    }
   },
   "source": [
    "How does it compare to our greybox fuzzer with the classical power schedule?"
   ]
  },
  {
   "cell_type": "code",
   "execution_count": 44,
   "metadata": {
    "execution": {
     "iopub.execute_input": "2023-01-07T14:14:11.081021Z",
     "iopub.status.busy": "2023-01-07T14:14:11.080698Z",
     "iopub.status.idle": "2023-01-07T14:14:11.239174Z",
     "shell.execute_reply": "2023-01-07T14:14:11.239582Z"
    },
    "slideshow": {
     "slide_type": "subslide"
    }
   },
   "outputs": [
    {
     "data": {
      "text/plain": [
       "'It took the fuzzer w/ original schedule 0.16 seconds to generate and execute 10000 inputs.'"
      ]
     },
     "execution_count": 44,
     "metadata": {},
     "output_type": "execute_result"
    }
   ],
   "source": [
    "seed_input = \"good\"\n",
    "orig_schedule = PowerSchedule()\n",
    "orig_fuzzer = CountingGreyboxFuzzer([seed_input], Mutator(), orig_schedule)\n",
    "start = time.time()\n",
    "orig_fuzzer.runs(FunctionCoverageRunner(crashme), trials=n)\n",
    "end = time.time()\n",
    "\n",
    "\"It took the fuzzer w/ original schedule %0.2f seconds to generate and execute %d inputs.\" % (end - start, n)"
   ]
  },
  {
   "cell_type": "code",
   "execution_count": 45,
   "metadata": {
    "execution": {
     "iopub.execute_input": "2023-01-07T14:14:11.254409Z",
     "iopub.status.busy": "2023-01-07T14:14:11.247554Z",
     "iopub.status.idle": "2023-01-07T14:14:11.291005Z",
     "shell.execute_reply": "2023-01-07T14:14:11.291280Z"
    },
    "slideshow": {
     "slide_type": "subslide"
    }
   },
   "outputs": [
    {
     "data": {
      "image/png": "[encoded data removed]",
      "text/plain": [
       "<Figure size 432x288 with 1 Axes>"
      ]
     },
     "metadata": {
      "needs_background": "light"
     },
     "output_type": "display_data"
    }
   ],
   "source": [
    "x_axis = np.arange(len(orig_schedule.path_frequency))\n",
    "y_axis = list(orig_schedule.path_frequency.values())\n",
    "\n",
    "plt.bar(x_axis, y_axis)\n",
    "plt.xticks(x_axis)\n",
    "plt.ylim(0, n)\n",
    "# plt.yscale(\"log\")\n",
    "# plt.yticks([10,100,1000,10000])\n",
    "plt;"
   ]
  },
  {
   "cell_type": "code",
   "execution_count": 46,
   "metadata": {
    "execution": {
     "iopub.execute_input": "2023-01-07T14:14:11.294082Z",
     "iopub.status.busy": "2023-01-07T14:14:11.293557Z",
     "iopub.status.idle": "2023-01-07T14:14:11.296151Z",
     "shell.execute_reply": "2023-01-07T14:14:11.296509Z"
    },
    "slideshow": {
     "slide_type": "subslide"
    }
   },
   "outputs": [
    {
     "name": "stdout",
     "output_type": "stream",
     "text": [
      "             path id 'p'           : path frequency 'f(p)'\n"
     ]
    },
    {
     "data": {
      "text/plain": [
       "{'e014b68ad4f3bc2daf207e2498d14cbf': 6581,\n",
       " '0a1008773804033d8a4c0e3aba4b96a0': 2379,\n",
       " 'eae4df5b039511eac56625f47c337d24': 737,\n",
       " 'b14f545c3b39716a455034d9a0c61b8c': 241,\n",
       " '11529f85aaa30be08110f3076748e420': 62}"
      ]
     },
     "execution_count": 46,
     "metadata": {},
     "output_type": "execute_result"
    }
   ],
   "source": [
    "print(\"             path id 'p'           : path frequency 'f(p)'\")\n",
    "orig_schedule.path_frequency"
   ]
  },
  {
   "cell_type": "markdown",
   "metadata": {
    "slideshow": {
     "slide_type": "subslide"
    }
   },
   "source": [
    "The exponential power schedule shaves some of the executions of the \"high-frequency path\" off and adds them to the lower-frequency paths. The path executed least often is either not at all exercised using the traditional power schedule or it is exercised much less often.\n",
    "\n",
    "Let's have a look at the energy that is assigned to the discovered seeds."
   ]
  },
  {
   "cell_type": "code",
   "execution_count": 47,
   "metadata": {
    "execution": {
     "iopub.execute_input": "2023-01-07T14:14:11.299397Z",
     "iopub.status.busy": "2023-01-07T14:14:11.299052Z",
     "iopub.status.idle": "2023-01-07T14:14:11.300486Z",
     "shell.execute_reply": "2023-01-07T14:14:11.300738Z"
    },
    "slideshow": {
     "slide_type": "subslide"
    }
   },
   "outputs": [
    {
     "name": "stdout",
     "output_type": "stream",
     "text": [
      "'e014b68ad4f3bc2daf207e2498d14cbf', 0.20000, 'good'\n",
      "'0a1008773804033d8a4c0e3aba4b96a0', 0.20000, 'bgI/d'\n",
      "'eae4df5b039511eac56625f47c337d24', 0.20000, 'baI/dt'\n",
      "'b14f545c3b39716a455034d9a0c61b8c', 0.20000, 'badtuS'\n",
      "'11529f85aaa30be08110f3076748e420', 0.20000, 'bad!`tuS'\n"
     ]
    }
   ],
   "source": [
    "orig_energy = orig_schedule.normalizedEnergy(orig_fuzzer.population)\n",
    "\n",
    "for (seed, norm_energy) in zip(orig_fuzzer.population, orig_energy):\n",
    "    print(\"'%s', %0.5f, %s\" % (getPathID(seed.coverage),  # type: ignore\n",
    "                               norm_energy, repr(seed.data)))"
   ]
  },
  {
   "cell_type": "code",
   "execution_count": 48,
   "metadata": {
    "execution": {
     "iopub.execute_input": "2023-01-07T14:14:11.303120Z",
     "iopub.status.busy": "2023-01-07T14:14:11.302765Z",
     "iopub.status.idle": "2023-01-07T14:14:11.304311Z",
     "shell.execute_reply": "2023-01-07T14:14:11.305137Z"
    },
    "slideshow": {
     "slide_type": "subslide"
    }
   },
   "outputs": [
    {
     "name": "stdout",
     "output_type": "stream",
     "text": [
      "'e014b68ad4f3bc2daf207e2498d14cbf', 0.00000, 'good'\n",
      "'0a1008773804033d8a4c0e3aba4b96a0', 0.00000, 'bnd'\n",
      "'eae4df5b039511eac56625f47c337d24', 0.00030, 'ba.'\n",
      "'b14f545c3b39716a455034d9a0c61b8c', 0.02464, 'bad.'\n",
      "'11529f85aaa30be08110f3076748e420', 0.97506, 'bad!\\\\.'\n"
     ]
    }
   ],
   "source": [
    "fast_energy = fast_schedule.normalizedEnergy(fast_fuzzer.population)\n",
    "\n",
    "for (seed, norm_energy) in zip(fast_fuzzer.population, fast_energy):\n",
    "    print(\"'%s', %0.5f, %s\" % (getPathID(seed.coverage),  # type: ignore\n",
    "                               norm_energy, repr(seed.data)))"
   ]
  },
  {
   "cell_type": "markdown",
   "metadata": {
    "slideshow": {
     "slide_type": "subslide"
    }
   },
   "source": [
    "Exactly. Our new exponential power schedule assigns most energy to the seed exercising the lowest-frequency path.\n",
    "\n",
    "Let's compare them in terms of coverage achieved over time for our simple [example](#Runner-and-Sample-Program)."
   ]
  },
  {
   "cell_type": "code",
   "execution_count": 49,
   "metadata": {
    "execution": {
     "iopub.execute_input": "2023-01-07T14:14:11.366207Z",
     "iopub.status.busy": "2023-01-07T14:14:11.321895Z",
     "iopub.status.idle": "2023-01-07T14:14:11.465693Z",
     "shell.execute_reply": "2023-01-07T14:14:11.465955Z"
    },
    "slideshow": {
     "slide_type": "fragment"
    }
   },
   "outputs": [
    {
     "data": {
      "image/png": "[encoded data removed]",
      "text/plain": [
       "<Figure size 432x288 with 1 Axes>"
      ]
     },
     "metadata": {
      "needs_background": "light"
     },
     "output_type": "display_data"
    }
   ],
   "source": [
    "_, orig_coverage = population_coverage(orig_fuzzer.inputs, crashme)\n",
    "_, fast_coverage = population_coverage(fast_fuzzer.inputs, crashme)\n",
    "line_orig, = plt.plot(orig_coverage, label=\"Original Greybox Fuzzer\")\n",
    "line_fast, = plt.plot(fast_coverage, label=\"Boosted Greybox Fuzzer\")\n",
    "plt.legend(handles=[line_orig, line_fast])\n",
    "plt.title('Coverage over time')\n",
    "plt.xlabel('# of inputs')\n",
    "plt.ylabel('lines covered');"
   ]
  },
  {
   "cell_type": "markdown",
   "metadata": {
    "slideshow": {
     "slide_type": "subslide"
    }
   },
   "source": [
    "As expected, the boosted greybox fuzzer (with the exponential power schedule) achieves coverage much faster.\n",
    "\n",
    "***Summary***. By fuzzing seeds more often that exercise low-frequency paths, we can explore program paths in a much more efficient manner.\n",
    "\n",
    "***Try it***. You can try other exponents for the fast power schedule, or change the power schedule entirely. Note that a large exponent can lead to overflows and imprecisions in the floating point arithmetic producing unexpected results. You can execute your own code by opening this chapter as Jupyter notebook.\n",
    "\n",
    "***Read***. You can find out more about fuzzer boosting in the paper \"[Coverage-based Greybox Fuzzing as Markov Chain](https://mboehme.github.io/paper/CCS16.pdf)\" \\cite{boehme2018greybox} and check out the implementation into AFL at [http://github.com/mboehme/aflfast]."
   ]
  },
  {
   "cell_type": "markdown",
   "metadata": {
    "slideshow": {
     "slide_type": "slide"
    }
   },
   "source": [
    "## A Complex Example: HTMLParser\n",
    "\n",
    "Let's compare the three fuzzers on a more realistic example, the Python [HTML parser](https://docs.python.org/3/library/html.parser.html). We run all three fuzzers $n=5k$ times on the HTMLParser, starting with the \"empty\" seed."
   ]
  },
  {
   "cell_type": "code",
   "execution_count": 50,
   "metadata": {
    "execution": {
     "iopub.execute_input": "2023-01-07T14:14:11.468356Z",
     "iopub.status.busy": "2023-01-07T14:14:11.468043Z",
     "iopub.status.idle": "2023-01-07T14:14:11.469245Z",
     "shell.execute_reply": "2023-01-07T14:14:11.469492Z"
    },
    "slideshow": {
     "slide_type": "skip"
    }
   },
   "outputs": [],
   "source": [
    "from html.parser import HTMLParser"
   ]
  },
  {
   "cell_type": "code",
   "execution_count": 51,
   "metadata": {
    "execution": {
     "iopub.execute_input": "2023-01-07T14:14:11.471855Z",
     "iopub.status.busy": "2023-01-07T14:14:11.471477Z",
     "iopub.status.idle": "2023-01-07T14:14:11.472682Z",
     "shell.execute_reply": "2023-01-07T14:14:11.473034Z"
    },
    "slideshow": {
     "slide_type": "fragment"
    }
   },
   "outputs": [],
   "source": [
    "# create wrapper function\n",
    "def my_parser(inp: str) -> None:\n",
    "    parser = HTMLParser()  # resets the HTMLParser object for every fuzz input\n",
    "    parser.feed(inp)"
   ]
  },
  {
   "cell_type": "code",
   "execution_count": 52,
   "metadata": {
    "execution": {
     "iopub.execute_input": "2023-01-07T14:14:11.476140Z",
     "iopub.status.busy": "2023-01-07T14:14:11.475810Z",
     "iopub.status.idle": "2023-01-07T14:14:11.476978Z",
     "shell.execute_reply": "2023-01-07T14:14:11.477241Z"
    },
    "slideshow": {
     "slide_type": "fragment"
    }
   },
   "outputs": [],
   "source": [
    "n = 5000\n",
    "seed_input = \" \"  # empty seed\n",
    "blackbox_fuzzer = AdvancedMutationFuzzer([seed_input], Mutator(), PowerSchedule())\n",
    "greybox_fuzzer = GreyboxFuzzer([seed_input], Mutator(), PowerSchedule())\n",
    "boosted_fuzzer = CountingGreyboxFuzzer([seed_input], Mutator(), AFLFastSchedule(5))"
   ]
  },
  {
   "cell_type": "code",
   "execution_count": 53,
   "metadata": {
    "execution": {
     "iopub.execute_input": "2023-01-07T14:14:11.584944Z",
     "iopub.status.busy": "2023-01-07T14:14:11.541384Z",
     "iopub.status.idle": "2023-01-07T14:14:24.078381Z",
     "shell.execute_reply": "2023-01-07T14:14:24.078643Z"
    },
    "slideshow": {
     "slide_type": "subslide"
    }
   },
   "outputs": [
    {
     "data": {
      "text/plain": [
       "'It took all three fuzzers 12.60 seconds to generate and execute 5000 inputs.'"
      ]
     },
     "execution_count": 53,
     "metadata": {},
     "output_type": "execute_result"
    }
   ],
   "source": [
    "start = time.time()\n",
    "blackbox_fuzzer.runs(FunctionCoverageRunner(my_parser), trials=n)\n",
    "greybox_fuzzer.runs(FunctionCoverageRunner(my_parser), trials=n)\n",
    "boosted_fuzzer.runs(FunctionCoverageRunner(my_parser), trials=n)\n",
    "end = time.time()\n",
    "\n",
    "\"It took all three fuzzers %0.2f seconds to generate and execute %d inputs.\" % (end - start, n)"
   ]
  },
  {
   "cell_type": "markdown",
   "metadata": {
    "slideshow": {
     "slide_type": "fragment"
    }
   },
   "source": [
    "How do the fuzzers compare in terms of coverage over time?"
   ]
  },
  {
   "cell_type": "code",
   "execution_count": 54,
   "metadata": {
    "execution": {
     "iopub.execute_input": "2023-01-07T14:14:24.161787Z",
     "iopub.status.busy": "2023-01-07T14:14:24.120704Z",
     "iopub.status.idle": "2023-01-07T14:14:24.744033Z",
     "shell.execute_reply": "2023-01-07T14:14:24.744361Z"
    },
    "slideshow": {
     "slide_type": "subslide"
    }
   },
   "outputs": [
    {
     "data": {
      "image/png": "[encoded data removed]",
      "text/plain": [
       "<Figure size 432x288 with 1 Axes>"
      ]
     },
     "metadata": {
      "needs_background": "light"
     },
     "output_type": "display_data"
    }
   ],
   "source": [
    "_, black_coverage = population_coverage(blackbox_fuzzer.inputs, my_parser)\n",
    "_, grey_coverage = population_coverage(greybox_fuzzer.inputs, my_parser)\n",
    "_, boost_coverage = population_coverage(boosted_fuzzer.inputs, my_parser)\n",
    "line_black, = plt.plot(black_coverage, label=\"Blackbox Fuzzer\")\n",
    "line_grey, = plt.plot(grey_coverage, label=\"Greybox Fuzzer\")\n",
    "line_boost, = plt.plot(boost_coverage, label=\"Boosted Greybox Fuzzer\")\n",
    "plt.legend(handles=[line_boost, line_grey, line_black])\n",
    "plt.title('Coverage over time')\n",
    "plt.xlabel('# of inputs')\n",
    "plt.ylabel('lines covered');"
   ]
  },
  {
   "cell_type": "markdown",
   "metadata": {
    "slideshow": {
     "slide_type": "fragment"
    }
   },
   "source": [
    "Both greybox fuzzers clearly outperform the blackbox fuzzer. The reason is that the greybox fuzzer \"discovers\" interesting inputs along the way. Let's have a look at the last 10 inputs generated by the greybox versus blackbox fuzzer."
   ]
  },
  {
   "cell_type": "code",
   "execution_count": 55,
   "metadata": {
    "execution": {
     "iopub.execute_input": "2023-01-07T14:14:24.747360Z",
     "iopub.status.busy": "2023-01-07T14:14:24.746914Z",
     "iopub.status.idle": "2023-01-07T14:14:24.748605Z",
     "shell.execute_reply": "2023-01-07T14:14:24.748867Z"
    },
    "slideshow": {
     "slide_type": "subslide"
    }
   },
   "outputs": [
    {
     "data": {
      "text/plain": [
       "[' H', '', '', '`', ' i', '', '(', 'j ', '', '0']"
      ]
     },
     "execution_count": 55,
     "metadata": {},
     "output_type": "execute_result"
    }
   ],
   "source": [
    "blackbox_fuzzer.inputs[-10:]"
   ]
  },
  {
   "cell_type": "code",
   "execution_count": 56,
   "metadata": {
    "execution": {
     "iopub.execute_input": "2023-01-07T14:14:24.751549Z",
     "iopub.status.busy": "2023-01-07T14:14:24.751071Z",
     "iopub.status.idle": "2023-01-07T14:14:24.753044Z",
     "shell.execute_reply": "2023-01-07T14:14:24.753343Z"
    },
    "slideshow": {
     "slide_type": "fragment"
    }
   },
   "outputs": [
    {
     "data": {
      "text/plain": [
       "['m*\\x08',\n",
       " 'r.5<)h',\n",
       " '</F/aG>iq',\n",
       " '\\x11G',\n",
       " '5<n5',\n",
       " 'i&<d$',\n",
       " '/Wi<`<4Gxs',\n",
       " '4$<?B\\x16g',\n",
       " '$G<!?Bg',\n",
       " '\\x06!|$v']"
      ]
     },
     "execution_count": 56,
     "metadata": {},
     "output_type": "execute_result"
    }
   ],
   "source": [
    "greybox_fuzzer.inputs[-10:]"
   ]
  },
  {
   "cell_type": "markdown",
   "metadata": {
    "slideshow": {
     "slide_type": "subslide"
    }
   },
   "source": [
    "The greybox fuzzer executes much more complicated inputs, many of which include special characters such as opening and closing brackets and chevrons (i.e., `<, >, [, ]`). Yet, many important keywords, such as `<html>` are still missing. \n",
    "\n",
    "To inform the fuzzer about these important keywords, we will need [grammars](Grammars.ipynb); in the section on [smart greybox fuzzing](LangFuzzer.ipynb), we combine them with the techniques above.\n",
    "\n",
    "***Try it***. You can re-run these experiments to understand the variance of fuzzing experiments. Sometimes, the fuzzer that we claim to be superior does not seem to outperform the inferior fuzzer. In order to do this, you just need to open this chapter as Jupyter notebook."
   ]
  },
  {
   "cell_type": "markdown",
   "metadata": {
    "slideshow": {
     "slide_type": "slide"
    }
   },
   "source": [
    "## Directed Greybox Fuzzing\n",
    "\n",
    "Sometimes, you just want the fuzzer to reach some dangerous location in the source code. This could be a location where you expect a buffer overflow. Or you want to test a recent change in your code base. How do we direct the fuzzer towards these locations?\n",
    "\n",
    "In this chapter, we introduce directed greybox fuzzing as an optimization problem."
   ]
  },
  {
   "cell_type": "markdown",
   "metadata": {
    "slideshow": {
     "slide_type": "subslide"
    }
   },
   "source": [
    "### Solving the Maze\n",
    "\n",
    "To provide a meaningful example where you can easily change the code complexity and target location, we generate the maze source code from the maze provided as string. This example is loosely based on an old [blog post](https://feliam.wordpress.com/2010/10/07/the-symbolic-maze/) on symbolic execution by Felipe Andres Manzano (Quick shout-out!).\n",
    "\n",
    "You simply specify the maze as a string. Like so."
   ]
  },
  {
   "cell_type": "code",
   "execution_count": 57,
   "metadata": {
    "execution": {
     "iopub.execute_input": "2023-01-07T14:14:24.755360Z",
     "iopub.status.busy": "2023-01-07T14:14:24.755057Z",
     "iopub.status.idle": "2023-01-07T14:14:24.756328Z",
     "shell.execute_reply": "2023-01-07T14:14:24.756671Z"
    },
    "slideshow": {
     "slide_type": "subslide"
    }
   },
   "outputs": [],
   "source": [
    "maze_string = \"\"\"\n",
    "+-+-----+\n",
    "|X|     |\n",
    "| | --+ |\n",
    "| |   | |\n",
    "| +-- | |\n",
    "|     |#|\n",
    "+-----+-+\n",
    "\"\"\""
   ]
  },
  {
   "cell_type": "markdown",
   "metadata": {
    "slideshow": {
     "slide_type": "fragment"
    }
   },
   "source": [
    "The code is generated using the function `generate_maze_code()`. We'll hide the implementation and instead explain what it does. If you are interested in the coding, go [here](ControlFlow.ipynb#Example:-Maze)."
   ]
  },
  {
   "cell_type": "code",
   "execution_count": 58,
   "metadata": {
    "execution": {
     "iopub.execute_input": "2023-01-07T14:14:24.758956Z",
     "iopub.status.busy": "2023-01-07T14:14:24.758625Z",
     "iopub.status.idle": "2023-01-07T14:14:24.862355Z",
     "shell.execute_reply": "2023-01-07T14:14:24.862688Z"
    },
    "slideshow": {
     "slide_type": "skip"
    }
   },
   "outputs": [],
   "source": [
    "from ControlFlow import generate_maze_code"
   ]
  },
  {
   "cell_type": "code",
   "execution_count": 59,
   "metadata": {
    "execution": {
     "iopub.execute_input": "2023-01-07T14:14:24.864919Z",
     "iopub.status.busy": "2023-01-07T14:14:24.864582Z",
     "iopub.status.idle": "2023-01-07T14:14:24.866184Z",
     "shell.execute_reply": "2023-01-07T14:14:24.865971Z"
    },
    "slideshow": {
     "slide_type": "fragment"
    }
   },
   "outputs": [],
   "source": [
    "# ignore\n",
    "def maze(s: str) -> str:\n",
    "    return \"\"  # Will be overwritten by exec()"
   ]
  },
  {
   "cell_type": "code",
   "execution_count": 60,
   "metadata": {
    "execution": {
     "iopub.execute_input": "2023-01-07T14:14:24.868306Z",
     "iopub.status.busy": "2023-01-07T14:14:24.867958Z",
     "iopub.status.idle": "2023-01-07T14:14:24.869236Z",
     "shell.execute_reply": "2023-01-07T14:14:24.869456Z"
    },
    "slideshow": {
     "slide_type": "subslide"
    }
   },
   "outputs": [],
   "source": [
    "# ignore\n",
    "def target_tile() -> str:\n",
    "    return ' '  # Will be overwritten by exec()"
   ]
  },
  {
   "cell_type": "code",
   "execution_count": 61,
   "metadata": {
    "execution": {
     "iopub.execute_input": "2023-01-07T14:14:24.871517Z",
     "iopub.status.busy": "2023-01-07T14:14:24.871202Z",
     "iopub.status.idle": "2023-01-07T14:14:24.872759Z",
     "shell.execute_reply": "2023-01-07T14:14:24.872486Z"
    },
    "slideshow": {
     "slide_type": "fragment"
    }
   },
   "outputs": [],
   "source": [
    "maze_code = generate_maze_code(maze_string)"
   ]
  },
  {
   "cell_type": "code",
   "execution_count": 62,
   "metadata": {
    "execution": {
     "iopub.execute_input": "2023-01-07T14:14:24.876889Z",
     "iopub.status.busy": "2023-01-07T14:14:24.876568Z",
     "iopub.status.idle": "2023-01-07T14:14:24.877852Z",
     "shell.execute_reply": "2023-01-07T14:14:24.878140Z"
    },
    "slideshow": {
     "slide_type": "fragment"
    }
   },
   "outputs": [],
   "source": [
    "exec(maze_code)"
   ]
  },
  {
   "cell_type": "markdown",
   "metadata": {
    "slideshow": {
     "slide_type": "fragment"
    }
   },
   "source": [
    "The objective is to get the \"X\" to the \"#\" by providing inputs `D` for down, `U` for up, `L` for left, and `R` for right."
   ]
  },
  {
   "cell_type": "code",
   "execution_count": 63,
   "metadata": {
    "execution": {
     "iopub.execute_input": "2023-01-07T14:14:24.880240Z",
     "iopub.status.busy": "2023-01-07T14:14:24.879824Z",
     "iopub.status.idle": "2023-01-07T14:14:24.881326Z",
     "shell.execute_reply": "2023-01-07T14:14:24.881567Z"
    },
    "slideshow": {
     "slide_type": "subslide"
    }
   },
   "outputs": [
    {
     "name": "stdout",
     "output_type": "stream",
     "text": [
      "SOLVED\n",
      "\n",
      "+-+-----+\n",
      "| |     |\n",
      "| | --+ |\n",
      "| |   | |\n",
      "| +-- | |\n",
      "|     |X|\n",
      "+-----+-+\n",
      "\n"
     ]
    }
   ],
   "source": [
    "print(maze(\"DDDDRRRRUULLUURRRRDDDD\"))  # Appending one more 'D', you have reached the target."
   ]
  },
  {
   "cell_type": "markdown",
   "metadata": {
    "slideshow": {
     "slide_type": "subslide"
    }
   },
   "source": [
    "Each character in `maze_string` represents a tile. For each tile, a tile-function is generated. \n",
    "* If the current tile is \"benign\" (` `), the tile-function corresponding to the next input character (D, U, L, R) is called. Unexpected input characters are ignored. If no more input characters are left, it returns \"VALID\" and the current maze state.\n",
    "* If the current tile is a \"trap\" (`+`,`|`,`-`), it returns \"INVALID\" and the current maze state.\n",
    "* If the current tile is the \"target\" (`#`), it returns \"SOLVED\" and the current maze state.\n",
    "\n",
    "***Try it***. You can test other sequences of input characters, or even change the maze entirely. In order to execute your own code, you just need to open this chapter as Jupyter notebook.\n",
    "\n",
    "To get an idea of the generated code, lets look at the static [call graph](https://en.wikipedia.org/wiki/Call_graph). A call graph shows the order in which functions can be executed."
   ]
  },
  {
   "cell_type": "code",
   "execution_count": 64,
   "metadata": {
    "execution": {
     "iopub.execute_input": "2023-01-07T14:14:24.883576Z",
     "iopub.status.busy": "2023-01-07T14:14:24.883198Z",
     "iopub.status.idle": "2023-01-07T14:14:24.884627Z",
     "shell.execute_reply": "2023-01-07T14:14:24.884985Z"
    },
    "slideshow": {
     "slide_type": "skip"
    }
   },
   "outputs": [],
   "source": [
    "from ControlFlow import callgraph"
   ]
  },
  {
   "cell_type": "code",
   "execution_count": 65,
   "metadata": {
    "execution": {
     "iopub.execute_input": "2023-01-07T14:14:24.887005Z",
     "iopub.status.busy": "2023-01-07T14:14:24.886615Z",
     "iopub.status.idle": "2023-01-07T14:14:25.331476Z",
     "shell.execute_reply": "2023-01-07T14:14:25.331772Z"
    },
    "slideshow": {
     "slide_type": "subslide"
    }
   },
   "outputs": [
    {
     "data": {
      "image/svg+xml": [
       "<?xml version=\"1.0\" encoding=\"UTF-8\" standalone=\"no\"?>\n",
       "<!DOCTYPE svg PUBLIC \"-//W3C//DTD SVG 1.1//EN\"\n",
       " \"http://www.w3.org/Graphics/SVG/1.1/DTD/svg11.dtd\">\n",
       "<!-- Generated by graphviz version 7.0.2 (20221119.0110)\n",
       " -->\n",
       "<!-- Title: G Pages: 1 -->\n",
       "<svg width=\"3839pt\" height=\"2287pt\"\n",
       " viewBox=\"0.00 0.00 3838.72 2286.50\" xmlns=\"http://www.w3.org/2000/svg\" xmlns:xlink=\"http://www.w3.org/1999/xlink\">\n",
       "<g id=\"graph0\" class=\"graph\" transform=\"scale(1 1) rotate(0) translate(4 2282.5)\">\n",
       "<title>G</title>\n",
       "<polygon fill=\"white\" stroke=\"none\" points=\"-4,4 -4,-2282.5 3834.72,-2282.5 3834.72,4 -4,4\"/>\n",
       "<g id=\"clust1\" class=\"cluster\">\n",
       "<title>cluster_G</title>\n",
       "<path fill=\"#808080\" fill-opacity=\"0.094118\" stroke=\"black\" d=\"M30.72,-8C30.72,-8 3810.72,-8 3810.72,-8 3816.72,-8 3822.72,-14 3822.72,-20 3822.72,-20 3822.72,-2258.5 3822.72,-2258.5 3822.72,-2264.5 3816.72,-2270.5 3810.72,-2270.5 3810.72,-2270.5 30.72,-2270.5 30.72,-2270.5 24.72,-2270.5 18.72,-2264.5 18.72,-2258.5 18.72,-2258.5 18.72,-20 18.72,-20 18.72,-14 24.72,-8 30.72,-8\"/>\n",
       "</g>\n",
       "<g id=\"clust2\" class=\"cluster\">\n",
       "<title>cluster_callgraphX</title>\n",
       "<path fill=\"#808080\" fill-opacity=\"0.094118\" stroke=\"black\" d=\"M38.72,-16C38.72,-16 3706.72,-16 3706.72,-16 3712.72,-16 3718.72,-22 3718.72,-28 3718.72,-28 3718.72,-2250.5 3718.72,-2250.5 3718.72,-2256.5 3712.72,-2262.5 3706.72,-2262.5 3706.72,-2262.5 38.72,-2262.5 38.72,-2262.5 32.72,-2262.5 26.72,-2256.5 26.72,-2250.5 26.72,-2250.5 26.72,-28 26.72,-28 26.72,-22 32.72,-16 38.72,-16\"/>\n",
       "<text text-anchor=\"middle\" x=\"1872.72\" y=\"-2247.3\" font-family=\"Times,serif\" font-size=\"14.00\">callgraph</text>\n",
       "</g>\n",
       "<!-- callgraphX -->\n",
       "<g id=\"node1\" class=\"node\">\n",
       "<title>callgraphX</title>\n",
       "<ellipse fill=\"#ffffff\" fill-opacity=\"0.698039\" stroke=\"black\" cx=\"3770.72\" cy=\"-1935.41\" rx=\"43.59\" ry=\"18\"/>\n",
       "<text text-anchor=\"middle\" x=\"3770.72\" y=\"-1931.71\" font-family=\"Times,serif\" font-size=\"14.00\" fill=\"#000000\">callgraph</text>\n",
       "</g>\n",
       "<!-- callgraphX__maze -->\n",
       "<g id=\"node2\" class=\"node\">\n",
       "<title>callgraphX__maze</title>\n",
       "<ellipse fill=\"#fecccc\" fill-opacity=\"0.698039\" stroke=\"black\" cx=\"1672.72\" cy=\"-2204.63\" rx=\"77.56\" ry=\"26.74\"/>\n",
       "<text text-anchor=\"middle\" x=\"1672.72\" y=\"-2208.43\" font-family=\"Times,serif\" font-size=\"14.00\" fill=\"#000000\">maze</text>\n",
       "<text text-anchor=\"middle\" x=\"1672.72\" y=\"-2193.43\" font-family=\"Times,serif\" font-size=\"14.00\" fill=\"#000000\">(callgraph.py:84)</text>\n",
       "</g>\n",
       "<!-- callgraphX&#45;&gt;callgraphX__maze -->\n",
       "<g id=\"edge66\" class=\"edge\">\n",
       "<title>callgraphX&#45;&gt;callgraphX__maze</title>\n",
       "<path fill=\"none\" stroke=\"#838b8b\" stroke-dasharray=\"5,2\" d=\"M3748.07,-1950.89C3740.31,-1955.23 3731.39,-1959.55 3722.72,-1962.28 3346.6,-2081.01 2101.61,-2174 1760.06,-2197.74\"/>\n",
       "<polygon fill=\"#838b8b\" stroke=\"#838b8b\" points=\"1760.02,-2194.23 1750.28,-2198.41 1760.5,-2201.21 1760.02,-2194.23\"/>\n",
       "</g>\n",
       "<!-- callgraphX__print_maze -->\n",
       "<g id=\"node3\" class=\"node\">\n",
       "<title>callgraphX__print_maze</title>\n",
       "<ellipse fill=\"#fecccc\" fill-opacity=\"0.698039\" stroke=\"black\" cx=\"1484.72\" cy=\"-50.87\" rx=\"73.58\" ry=\"26.74\"/>\n",
       "<text text-anchor=\"middle\" x=\"1484.72\" y=\"-54.67\" font-family=\"Times,serif\" font-size=\"14.00\" fill=\"#000000\">print_maze</text>\n",
       "<text text-anchor=\"middle\" x=\"1484.72\" y=\"-39.67\" font-family=\"Times,serif\" font-size=\"14.00\" fill=\"#000000\">(callgraph.py:2)</text>\n",
       "</g>\n",
       "<!-- callgraphX&#45;&gt;callgraphX__print_maze -->\n",
       "<g id=\"edge27\" class=\"edge\">\n",
       "<title>callgraphX&#45;&gt;callgraphX__print_maze</title>\n",
       "<path fill=\"none\" stroke=\"#838b8b\" stroke-dasharray=\"5,2\" d=\"M3767.35,-1917.36C3761.41,-1885.82 3749.72,-1816.19 3749.72,-1756.93 3749.72,-1756.93 3749.72,-1756.93 3749.72,-229.35 3749.72,-176.27 3761.26,-146.8 3719.72,-113.74 3676.89,-79.65 1973.19,-57.59 1569.75,-52.84\"/>\n",
       "<polygon fill=\"#838b8b\" stroke=\"#838b8b\" points=\"1570.03,-49.34 1559.99,-52.72 1569.95,-56.34 1570.03,-49.34\"/>\n",
       "</g>\n",
       "<!-- callgraphX__target_tile -->\n",
       "<g id=\"node4\" class=\"node\">\n",
       "<title>callgraphX__target_tile</title>\n",
       "<ellipse fill=\"#fecccc\" fill-opacity=\"0.698039\" stroke=\"black\" cx=\"3627.72\" cy=\"-2204.63\" rx=\"82.96\" ry=\"26.74\"/>\n",
       "<text text-anchor=\"middle\" x=\"3627.72\" y=\"-2208.43\" font-family=\"Times,serif\" font-size=\"14.00\" fill=\"#000000\">target_tile</text>\n",
       "<text text-anchor=\"middle\" x=\"3627.72\" y=\"-2193.43\" font-family=\"Times,serif\" font-size=\"14.00\" fill=\"#000000\">(callgraph.py:358)</text>\n",
       "</g>\n",
       "<!-- callgraphX&#45;&gt;callgraphX__target_tile -->\n",
       "<g id=\"edge21\" class=\"edge\">\n",
       "<title>callgraphX&#45;&gt;callgraphX__target_tile</title>\n",
       "<path fill=\"none\" stroke=\"#838b8b\" stroke-dasharray=\"5,2\" d=\"M3761.68,-1953.3C3738.75,-1996.17 3677.89,-2109.89 3646.72,-2168.14\"/>\n",
       "<polygon fill=\"#838b8b\" stroke=\"#838b8b\" points=\"3643.78,-2166.21 3642.15,-2176.68 3649.95,-2169.51 3643.78,-2166.21\"/>\n",
       "</g>\n",
       "<!-- callgraphX__tile_1_0 -->\n",
       "<g id=\"node5\" class=\"node\">\n",
       "<title>callgraphX__tile_1_0</title>\n",
       "<ellipse fill=\"#fecccc\" fill-opacity=\"0.698039\" stroke=\"black\" cx=\"3458.72\" cy=\"-140.61\" rx=\"77.56\" ry=\"26.74\"/>\n",
       "<text text-anchor=\"middle\" x=\"3458.72\" y=\"-144.41\" font-family=\"Times,serif\" font-size=\"14.00\" fill=\"#000000\">tile_1_0</text>\n",
       "<text text-anchor=\"middle\" x=\"3458.72\" y=\"-129.41\" font-family=\"Times,serif\" font-size=\"14.00\" fill=\"#000000\">(callgraph.py:26)</text>\n",
       "</g>\n",
       "<!-- callgraphX&#45;&gt;callgraphX__tile_1_0 -->\n",
       "<g id=\"edge38\" class=\"edge\">\n",
       "<title>callgraphX&#45;&gt;callgraphX__tile_1_0</title>\n",
       "<path fill=\"none\" stroke=\"#838b8b\" stroke-dasharray=\"5,2\" d=\"M3746.69,-1920.17C3692.35,-1887.14 3564.72,-1804.49 3564.72,-1756.93 3564.72,-1756.93 3564.72,-1756.93 3564.72,-319.09 3564.72,-267.28 3576.87,-247.62 3549.72,-203.48 3541.02,-189.33 3527.74,-177.66 3513.98,-168.41\"/>\n",
       "<polygon fill=\"#838b8b\" stroke=\"#838b8b\" points=\"3516.05,-165.57 3505.72,-163.2 3512.31,-171.49 3516.05,-165.57\"/>\n",
       "</g>\n",
       "<!-- callgraphX__tile_1_1 -->\n",
       "<g id=\"node6\" class=\"node\">\n",
       "<title>callgraphX__tile_1_1</title>\n",
       "<ellipse fill=\"#fecccc\" fill-opacity=\"0.698039\" stroke=\"black\" cx=\"923.72\" cy=\"-1127.75\" rx=\"77.56\" ry=\"26.74\"/>\n",
       "<text text-anchor=\"middle\" x=\"923.72\" y=\"-1131.55\" font-family=\"Times,serif\" font-size=\"14.00\" fill=\"#000000\">tile_1_1</text>\n",
       "<text text-anchor=\"middle\" x=\"923.72\" y=\"-1116.55\" font-family=\"Times,serif\" font-size=\"14.00\" fill=\"#000000\">(callgraph.py:31)</text>\n",
       "</g>\n",
       "<!-- callgraphX&#45;&gt;callgraphX__tile_1_1 -->\n",
       "<g id=\"edge7\" class=\"edge\">\n",
       "<title>callgraphX&#45;&gt;callgraphX__tile_1_1</title>\n",
       "<path fill=\"none\" stroke=\"#838b8b\" stroke-dasharray=\"5,2\" d=\"M3748.7,-1919.67C3740.84,-1915.21 3731.71,-1910.87 3722.72,-1908.54 3646.46,-1888.78 943.51,-1927.15 886.72,-1872.54 849.64,-1836.88 880.72,-1808.38 880.72,-1756.93 880.72,-1756.93 880.72,-1756.93 880.72,-1306.23 880.72,-1256.45 896.9,-1200.98 909.41,-1165.51\"/>\n",
       "<polygon fill=\"#838b8b\" stroke=\"#838b8b\" points=\"912.68,-1166.75 912.8,-1156.16 906.1,-1164.37 912.68,-1166.75\"/>\n",
       "</g>\n",
       "<!-- callgraphX__tile_1_2 -->\n",
       "<g id=\"node7\" class=\"node\">\n",
       "<title>callgraphX__tile_1_2</title>\n",
       "<ellipse fill=\"#fecccc\" fill-opacity=\"0.698039\" stroke=\"black\" cx=\"3632.72\" cy=\"-140.61\" rx=\"77.56\" ry=\"26.74\"/>\n",
       "<text text-anchor=\"middle\" x=\"3632.72\" y=\"-144.41\" font-family=\"Times,serif\" font-size=\"14.00\" fill=\"#000000\">tile_1_2</text>\n",
       "<text text-anchor=\"middle\" x=\"3632.72\" y=\"-129.41\" font-family=\"Times,serif\" font-size=\"14.00\" fill=\"#000000\">(callgraph.py:36)</text>\n",
       "</g>\n",
       "<!-- callgraphX&#45;&gt;callgraphX__tile_1_2 -->\n",
       "<g id=\"edge11\" class=\"edge\">\n",
       "<title>callgraphX&#45;&gt;callgraphX__tile_1_2</title>\n",
       "<path fill=\"none\" stroke=\"#838b8b\" stroke-dasharray=\"5,2\" d=\"M3757.68,-1917.88C3735.24,-1887.74 3691.72,-1821.01 3691.72,-1756.93 3691.72,-1756.93 3691.72,-1756.93 3691.72,-319.09 3691.72,-267.89 3669.34,-212.43 3652.15,-177.38\"/>\n",
       "<polygon fill=\"#838b8b\" stroke=\"#838b8b\" points=\"3655.31,-175.89 3647.69,-168.53 3649.06,-179.04 3655.31,-175.89\"/>\n",
       "</g>\n",
       "<!-- callgraphX__tile_1_3 -->\n",
       "<g id=\"node8\" class=\"node\">\n",
       "<title>callgraphX__tile_1_3</title>\n",
       "<ellipse fill=\"#fecccc\" fill-opacity=\"0.698039\" stroke=\"black\" cx=\"1077.72\" cy=\"-499.57\" rx=\"77.56\" ry=\"26.74\"/>\n",
       "<text text-anchor=\"middle\" x=\"1077.72\" y=\"-503.37\" font-family=\"Times,serif\" font-size=\"14.00\" fill=\"#000000\">tile_1_3</text>\n",
       "<text text-anchor=\"middle\" x=\"1077.72\" y=\"-488.37\" font-family=\"Times,serif\" font-size=\"14.00\" fill=\"#000000\">(callgraph.py:41)</text>\n",
       "</g>\n",
       "<!-- callgraphX&#45;&gt;callgraphX__tile_1_3 -->\n",
       "<g id=\"edge16\" class=\"edge\">\n",
       "<title>callgraphX&#45;&gt;callgraphX__tile_1_3</title>\n",
       "<path fill=\"none\" stroke=\"#838b8b\" stroke-dasharray=\"5,2\" d=\"M3748.71,-1919.67C3740.85,-1915.2 3731.71,-1910.87 3722.72,-1908.54 3640.56,-1887.29 731.26,-1928.81 667.72,-1872.54 653.25,-1859.72 626.72,-1684.05 626.72,-1397.97 626.72,-1397.97 626.72,-1397.97 626.72,-678.05 626.72,-619.1 643.37,-596.15 691.72,-562.44 704.09,-553.82 885.3,-527.35 994.97,-511.97\"/>\n",
       "<polygon fill=\"#838b8b\" stroke=\"#838b8b\" points=\"995.42,-515.44 1004.84,-510.59 994.45,-508.51 995.42,-515.44\"/>\n",
       "</g>\n",
       "<!-- callgraphX__tile_1_4 -->\n",
       "<g id=\"node9\" class=\"node\">\n",
       "<title>callgraphX__tile_1_4</title>\n",
       "<ellipse fill=\"#fecccc\" fill-opacity=\"0.698039\" stroke=\"black\" cx=\"2057.72\" cy=\"-679.05\" rx=\"77.56\" ry=\"26.74\"/>\n",
       "<text text-anchor=\"middle\" x=\"2057.72\" y=\"-682.85\" font-family=\"Times,serif\" font-size=\"14.00\" fill=\"#000000\">tile_1_4</text>\n",
       "<text text-anchor=\"middle\" x=\"2057.72\" y=\"-667.85\" font-family=\"Times,serif\" font-size=\"14.00\" fill=\"#000000\">(callgraph.py:46)</text>\n",
       "</g>\n",
       "<!-- callgraphX&#45;&gt;callgraphX__tile_1_4 -->\n",
       "<g id=\"edge10\" class=\"edge\">\n",
       "<title>callgraphX&#45;&gt;callgraphX__tile_1_4</title>\n",
       "<path fill=\"none\" stroke=\"#838b8b\" stroke-dasharray=\"5,2\" d=\"M3748.17,-1919.6C3740.41,-1915.25 3731.47,-1911 3722.72,-1908.54 3649.23,-1887.94 3093.38,-1923.69 3036.72,-1872.54 2998.13,-1837.69 3018.72,-1808.93 3018.72,-1756.93 3018.72,-1756.93 3018.72,-1756.93 3018.72,-857.53 3018.72,-772.3 2945.84,-771.01 2865.72,-741.92 2713.89,-686.79 2298.72,-734.45 2139.72,-705.92 2133.76,-704.85 2127.62,-703.47 2121.51,-701.9\"/>\n",
       "<polygon fill=\"#838b8b\" stroke=\"#838b8b\" points=\"2122.63,-698.58 2112.06,-699.3 2120.78,-705.33 2122.63,-698.58\"/>\n",
       "</g>\n",
       "<!-- callgraphX__tile_1_5 -->\n",
       "<g id=\"node10\" class=\"node\">\n",
       "<title>callgraphX__tile_1_5</title>\n",
       "<ellipse fill=\"#fecccc\" fill-opacity=\"0.698039\" stroke=\"black\" cx=\"1117.72\" cy=\"-589.31\" rx=\"77.56\" ry=\"26.74\"/>\n",
       "<text text-anchor=\"middle\" x=\"1117.72\" y=\"-593.11\" font-family=\"Times,serif\" font-size=\"14.00\" fill=\"#000000\">tile_1_5</text>\n",
       "<text text-anchor=\"middle\" x=\"1117.72\" y=\"-578.11\" font-family=\"Times,serif\" font-size=\"14.00\" fill=\"#000000\">(callgraph.py:51)</text>\n",
       "</g>\n",
       "<!-- callgraphX&#45;&gt;callgraphX__tile_1_5 -->\n",
       "<g id=\"edge14\" class=\"edge\">\n",
       "<title>callgraphX&#45;&gt;callgraphX__tile_1_5</title>\n",
       "<path fill=\"none\" stroke=\"#838b8b\" stroke-dasharray=\"5,2\" d=\"M3748.71,-1919.67C3740.85,-1915.2 3731.71,-1910.87 3722.72,-1908.54 3641.64,-1887.57 770.12,-1928.42 707.72,-1872.54 666.3,-1835.44 666.72,-1514.86 666.72,-1397.97 666.72,-1397.97 666.72,-1397.97 666.72,-767.79 666.72,-716.31 638.04,-689.28 673.72,-652.18 729.77,-593.92 956.53,-632.43 1035.72,-616.18 1041.34,-615.03 1047.11,-613.64 1052.87,-612.11\"/>\n",
       "<polygon fill=\"#838b8b\" stroke=\"#838b8b\" points=\"1053.74,-615.5 1062.43,-609.44 1051.86,-608.76 1053.74,-615.5\"/>\n",
       "</g>\n",
       "<!-- callgraphX__tile_1_6 -->\n",
       "<g id=\"node11\" class=\"node\">\n",
       "<title>callgraphX__tile_1_6</title>\n",
       "<ellipse fill=\"#fecccc\" fill-opacity=\"0.698039\" stroke=\"black\" cx=\"803.72\" cy=\"-499.57\" rx=\"77.56\" ry=\"26.74\"/>\n",
       "<text text-anchor=\"middle\" x=\"803.72\" y=\"-503.37\" font-family=\"Times,serif\" font-size=\"14.00\" fill=\"#000000\">tile_1_6</text>\n",
       "<text text-anchor=\"middle\" x=\"803.72\" y=\"-488.37\" font-family=\"Times,serif\" font-size=\"14.00\" fill=\"#000000\">(callgraph.py:56)</text>\n",
       "</g>\n",
       "<!-- callgraphX&#45;&gt;callgraphX__tile_1_6 -->\n",
       "<g id=\"edge18\" class=\"edge\">\n",
       "<title>callgraphX&#45;&gt;callgraphX__tile_1_6</title>\n",
       "<path fill=\"none\" stroke=\"#838b8b\" stroke-dasharray=\"5,2\" d=\"M3748.71,-1919.67C3740.85,-1915.2 3731.71,-1910.86 3722.72,-1908.54 3640.08,-1887.17 713.63,-1929.14 649.72,-1872.54 639.93,-1863.87 606.72,-1652.8 606.72,-1487.71 606.72,-1487.71 606.72,-1487.71 606.72,-678.05 606.72,-625.08 600.32,-601.85 635.72,-562.44 643.02,-554.31 692.97,-536.45 736.52,-522\"/>\n",
       "<polygon fill=\"#838b8b\" stroke=\"#838b8b\" points=\"737.59,-525.34 745.99,-518.88 735.4,-518.69 737.59,-525.34\"/>\n",
       "</g>\n",
       "<!-- callgraphX__tile_1_7 -->\n",
       "<g id=\"node12\" class=\"node\">\n",
       "<title>callgraphX__tile_1_7</title>\n",
       "<ellipse fill=\"#fecccc\" fill-opacity=\"0.698039\" stroke=\"black\" cx=\"1695.72\" cy=\"-409.83\" rx=\"77.56\" ry=\"26.74\"/>\n",
       "<text text-anchor=\"middle\" x=\"1695.72\" y=\"-413.63\" font-family=\"Times,serif\" font-size=\"14.00\" fill=\"#000000\">tile_1_7</text>\n",
       "<text text-anchor=\"middle\" x=\"1695.72\" y=\"-398.63\" font-family=\"Times,serif\" font-size=\"14.00\" fill=\"#000000\">(callgraph.py:61)</text>\n",
       "</g>\n",
       "<!-- callgraphX&#45;&gt;callgraphX__tile_1_7 -->\n",
       "<g id=\"edge20\" class=\"edge\">\n",
       "<title>callgraphX&#45;&gt;callgraphX__tile_1_7</title>\n",
       "<path fill=\"none\" stroke=\"#838b8b\" stroke-dasharray=\"5,2\" d=\"M3748.16,-1919.62C3740.41,-1915.26 3731.47,-1911.01 3722.72,-1908.54 3653,-1888.89 3123.74,-1922.97 3071.72,-1872.54 3034.69,-1836.64 3061.72,-1808.51 3061.72,-1756.93 3061.72,-1756.93 3061.72,-1756.93 3061.72,-588.31 3061.72,-562.4 3065.94,-490.08 3046.72,-472.7 2995.45,-426.32 1871.25,-445.87 1802.72,-436.7 1790.76,-435.1 1778.18,-432.71 1766.03,-430.03\"/>\n",
       "<polygon fill=\"#838b8b\" stroke=\"#838b8b\" points=\"1767.02,-426.66 1756.49,-427.83 1765.45,-433.48 1767.02,-426.66\"/>\n",
       "</g>\n",
       "<!-- callgraphX__tile_1_8 -->\n",
       "<g id=\"node13\" class=\"node\">\n",
       "<title>callgraphX__tile_1_8</title>\n",
       "<ellipse fill=\"#fecccc\" fill-opacity=\"0.698039\" stroke=\"black\" cx=\"509.72\" cy=\"-140.61\" rx=\"77.56\" ry=\"26.74\"/>\n",
       "<text text-anchor=\"middle\" x=\"509.72\" y=\"-144.41\" font-family=\"Times,serif\" font-size=\"14.00\" fill=\"#000000\">tile_1_8</text>\n",
       "<text text-anchor=\"middle\" x=\"509.72\" y=\"-129.41\" font-family=\"Times,serif\" font-size=\"14.00\" fill=\"#000000\">(callgraph.py:66)</text>\n",
       "</g>\n",
       "<!-- callgraphX&#45;&gt;callgraphX__tile_1_8 -->\n",
       "<g id=\"edge24\" class=\"edge\">\n",
       "<title>callgraphX&#45;&gt;callgraphX__tile_1_8</title>\n",
       "<path fill=\"none\" stroke=\"#838b8b\" stroke-dasharray=\"5,2\" d=\"M3748.71,-1919.67C3740.85,-1915.2 3731.71,-1910.86 3722.72,-1908.54 3639,-1886.9 676.53,-1927.45 609.72,-1872.54 537.69,-1813.33 566.72,-1760.44 566.72,-1667.19 566.72,-1667.19 566.72,-1667.19 566.72,-319.09 566.72,-268.06 545.1,-212.56 528.49,-177.45\"/>\n",
       "<polygon fill=\"#838b8b\" stroke=\"#838b8b\" points=\"531.7,-176.07 524.18,-168.6 525.41,-179.13 531.7,-176.07\"/>\n",
       "</g>\n",
       "<!-- callgraphX__tile_2_0 -->\n",
       "<g id=\"node14\" class=\"node\">\n",
       "<title>callgraphX__tile_2_0</title>\n",
       "<ellipse fill=\"#fecccc\" fill-opacity=\"0.698039\" stroke=\"black\" cx=\"1692.72\" cy=\"-1217.49\" rx=\"77.56\" ry=\"26.74\"/>\n",
       "<text text-anchor=\"middle\" x=\"1692.72\" y=\"-1221.29\" font-family=\"Times,serif\" font-size=\"14.00\" fill=\"#000000\">tile_2_0</text>\n",
       "<text text-anchor=\"middle\" x=\"1692.72\" y=\"-1206.29\" font-family=\"Times,serif\" font-size=\"14.00\" fill=\"#000000\">(callgraph.py:71)</text>\n",
       "</g>\n",
       "<!-- callgraphX&#45;&gt;callgraphX__tile_2_0 -->\n",
       "<g id=\"edge5\" class=\"edge\">\n",
       "<title>callgraphX&#45;&gt;callgraphX__tile_2_0</title>\n",
       "<path fill=\"none\" stroke=\"#838b8b\" stroke-dasharray=\"5,2\" d=\"M3748.68,-1919.78C3740.81,-1915.32 3731.68,-1910.96 3722.72,-1908.54 3665.41,-1893.05 2698.31,-1912.85 2654.72,-1872.54 2616.76,-1837.44 2641.72,-1808.64 2641.72,-1756.93 2641.72,-1756.93 2641.72,-1756.93 2641.72,-1395.97 2641.72,-1372.49 2659.52,-1344.23 2488.72,-1280.36 2480.48,-1277.28 1984.01,-1240.12 1779.41,-1224.92\"/>\n",
       "<polygon fill=\"#838b8b\" stroke=\"#838b8b\" points=\"1779.87,-1221.44 1769.63,-1224.19 1779.35,-1228.42 1779.87,-1221.44\"/>\n",
       "</g>\n",
       "<!-- callgraphX__tile_2_1 -->\n",
       "<g id=\"node15\" class=\"node\">\n",
       "<title>callgraphX__tile_2_1</title>\n",
       "<ellipse fill=\"#fecccc\" fill-opacity=\"0.698039\" stroke=\"black\" cx=\"485.72\" cy=\"-2114.89\" rx=\"77.56\" ry=\"26.74\"/>\n",
       "<text text-anchor=\"middle\" x=\"485.72\" y=\"-2118.69\" font-family=\"Times,serif\" font-size=\"14.00\" fill=\"#000000\">tile_2_1</text>\n",
       "<text text-anchor=\"middle\" x=\"485.72\" y=\"-2103.69\" font-family=\"Times,serif\" font-size=\"14.00\" fill=\"#000000\">(callgraph.py:76)</text>\n",
       "</g>\n",
       "<!-- callgraphX&#45;&gt;callgraphX__tile_2_1 -->\n",
       "<g id=\"edge1\" class=\"edge\">\n",
       "<title>callgraphX&#45;&gt;callgraphX__tile_2_1</title>\n",
       "<path fill=\"none\" stroke=\"#838b8b\" stroke-dasharray=\"5,2\" d=\"M3748.18,-1951.29C3740.43,-1955.65 3731.49,-1959.88 3722.72,-1962.28 3680.42,-1973.86 610.93,-2080.49 567.72,-2088.02 561.75,-2089.06 555.61,-2090.43 549.5,-2091.98\"/>\n",
       "<polygon fill=\"#838b8b\" stroke=\"#838b8b\" points=\"548.77,-2088.55 540.05,-2094.57 550.62,-2095.31 548.77,-2088.55\"/>\n",
       "</g>\n",
       "<!-- callgraphX__tile_2_2 -->\n",
       "<g id=\"node16\" class=\"node\">\n",
       "<title>callgraphX__tile_2_2</title>\n",
       "<ellipse fill=\"#fecccc\" fill-opacity=\"0.698039\" stroke=\"black\" cx=\"1838.72\" cy=\"-768.79\" rx=\"77.56\" ry=\"26.74\"/>\n",
       "<text text-anchor=\"middle\" x=\"1838.72\" y=\"-772.59\" font-family=\"Times,serif\" font-size=\"14.00\" fill=\"#000000\">tile_2_2</text>\n",
       "<text text-anchor=\"middle\" x=\"1838.72\" y=\"-757.59\" font-family=\"Times,serif\" font-size=\"14.00\" fill=\"#000000\">(callgraph.py:87)</text>\n",
       "</g>\n",
       "<!-- callgraphX&#45;&gt;callgraphX__tile_2_2 -->\n",
       "<g id=\"edge62\" class=\"edge\">\n",
       "<title>callgraphX&#45;&gt;callgraphX__tile_2_2</title>\n",
       "<path fill=\"none\" stroke=\"#838b8b\" stroke-dasharray=\"5,2\" d=\"M3748.18,-1919.54C3740.43,-1915.18 3731.49,-1910.94 3722.72,-1908.54 3627.59,-1882.48 2910.42,-1936.96 2835.72,-1872.54 2796.12,-1838.38 2813.72,-1809.24 2813.72,-1756.93 2813.72,-1756.93 2813.72,-1756.93 2813.72,-947.27 2813.72,-745.99 2116.97,-840.44 1920.72,-795.66 1915.23,-794.41 1909.56,-792.96 1903.91,-791.4\"/>\n",
       "<polygon fill=\"#838b8b\" stroke=\"#838b8b\" points=\"1905.11,-788.11 1894.53,-788.71 1903.18,-794.84 1905.11,-788.11\"/>\n",
       "</g>\n",
       "<!-- callgraphX__tile_2_3 -->\n",
       "<g id=\"node17\" class=\"node\">\n",
       "<title>callgraphX__tile_2_3</title>\n",
       "<ellipse fill=\"#fecccc\" fill-opacity=\"0.698039\" stroke=\"black\" cx=\"1617.72\" cy=\"-858.53\" rx=\"77.56\" ry=\"26.74\"/>\n",
       "<text text-anchor=\"middle\" x=\"1617.72\" y=\"-862.33\" font-family=\"Times,serif\" font-size=\"14.00\" fill=\"#000000\">tile_2_3</text>\n",
       "<text text-anchor=\"middle\" x=\"1617.72\" y=\"-847.33\" font-family=\"Times,serif\" font-size=\"14.00\" fill=\"#000000\">(callgraph.py:92)</text>\n",
       "</g>\n",
       "<!-- callgraphX&#45;&gt;callgraphX__tile_2_3 -->\n",
       "<g id=\"edge58\" class=\"edge\">\n",
       "<title>callgraphX&#45;&gt;callgraphX__tile_2_3</title>\n",
       "<path fill=\"none\" stroke=\"#838b8b\" stroke-dasharray=\"5,2\" d=\"M3748.18,-1919.54C3740.43,-1915.18 3731.49,-1910.94 3722.72,-1908.54 3624.69,-1881.74 2883.74,-1941.12 2808.72,-1872.54 2770.48,-1837.58 2793.72,-1808.75 2793.72,-1756.93 2793.72,-1756.93 2793.72,-1756.93 2793.72,-1037.01 2793.72,-985.14 2816.26,-956.12 2777.72,-921.4 2733.2,-881.29 1758.79,-895.51 1699.72,-885.4 1693.75,-884.38 1687.6,-883.03 1681.49,-881.48\"/>\n",
       "<polygon fill=\"#838b8b\" stroke=\"#838b8b\" points=\"1682.61,-878.16 1672.04,-878.91 1680.77,-884.91 1682.61,-878.16\"/>\n",
       "</g>\n",
       "<!-- callgraphX__tile_2_4 -->\n",
       "<g id=\"node18\" class=\"node\">\n",
       "<title>callgraphX__tile_2_4</title>\n",
       "<ellipse fill=\"#fecccc\" fill-opacity=\"0.698039\" stroke=\"black\" cx=\"1617.72\" cy=\"-768.79\" rx=\"82.96\" ry=\"26.74\"/>\n",
       "<text text-anchor=\"middle\" x=\"1617.72\" y=\"-772.59\" font-family=\"Times,serif\" font-size=\"14.00\" fill=\"#000000\">tile_2_4</text>\n",
       "<text text-anchor=\"middle\" x=\"1617.72\" y=\"-757.59\" font-family=\"Times,serif\" font-size=\"14.00\" fill=\"#000000\">(callgraph.py:100)</text>\n",
       "</g>\n",
       "<!-- callgraphX&#45;&gt;callgraphX__tile_2_4 -->\n",
       "<g id=\"edge54\" class=\"edge\">\n",
       "<title>callgraphX&#45;&gt;callgraphX__tile_2_4</title>\n",
       "<path fill=\"none\" stroke=\"#838b8b\" stroke-dasharray=\"5,2\" d=\"M3748.7,-1919.67C3740.84,-1915.2 3731.71,-1910.87 3722.72,-1908.54 3643.2,-1887.96 827.51,-1926.68 765.72,-1872.54 730.88,-1842.01 726.72,-1463.26 726.72,-1039.01 726.72,-1039.01 726.72,-1039.01 726.72,-947.27 726.72,-765.46 1352.28,-830.54 1530.72,-795.66 1536.97,-794.44 1543.4,-792.96 1549.82,-791.34\"/>\n",
       "<polygon fill=\"#838b8b\" stroke=\"#838b8b\" points=\"1550.32,-794.82 1559.09,-788.87 1548.52,-788.06 1550.32,-794.82\"/>\n",
       "</g>\n",
       "<!-- callgraphX__tile_2_5 -->\n",
       "<g id=\"node19\" class=\"node\">\n",
       "<title>callgraphX__tile_2_5</title>\n",
       "<ellipse fill=\"#fecccc\" fill-opacity=\"0.698039\" stroke=\"black\" cx=\"1800.72\" cy=\"-679.05\" rx=\"82.96\" ry=\"26.74\"/>\n",
       "<text text-anchor=\"middle\" x=\"1800.72\" y=\"-682.85\" font-family=\"Times,serif\" font-size=\"14.00\" fill=\"#000000\">tile_2_5</text>\n",
       "<text text-anchor=\"middle\" x=\"1800.72\" y=\"-667.85\" font-family=\"Times,serif\" font-size=\"14.00\" fill=\"#000000\">(callgraph.py:108)</text>\n",
       "</g>\n",
       "<!-- callgraphX&#45;&gt;callgraphX__tile_2_5 -->\n",
       "<g id=\"edge47\" class=\"edge\">\n",
       "<title>callgraphX&#45;&gt;callgraphX__tile_2_5</title>\n",
       "<path fill=\"none\" stroke=\"#838b8b\" stroke-dasharray=\"5,2\" d=\"M3748.17,-1919.59C3740.42,-1915.24 3731.48,-1910.99 3722.72,-1908.54 3569.71,-1865.81 3157.59,-1928.03 3008.72,-1872.54 2930.51,-1843.39 2860.72,-1840.4 2860.72,-1756.93 2860.72,-1756.93 2860.72,-1756.93 2860.72,-857.53 2860.72,-831.62 2864.83,-759.42 2845.72,-741.92 2809.84,-709.06 2019.15,-710.59 1970.72,-705.92 1942.26,-703.18 1911.29,-698.86 1883.68,-694.54\"/>\n",
       "<polygon fill=\"#838b8b\" stroke=\"#838b8b\" points=\"1884.39,-691.11 1873.97,-693 1883.29,-698.02 1884.39,-691.11\"/>\n",
       "</g>\n",
       "<!-- callgraphX__tile_2_6 -->\n",
       "<g id=\"node20\" class=\"node\">\n",
       "<title>callgraphX__tile_2_6</title>\n",
       "<ellipse fill=\"#fecccc\" fill-opacity=\"0.698039\" stroke=\"black\" cx=\"1554.72\" cy=\"-589.31\" rx=\"82.96\" ry=\"26.74\"/>\n",
       "<text text-anchor=\"middle\" x=\"1554.72\" y=\"-593.11\" font-family=\"Times,serif\" font-size=\"14.00\" fill=\"#000000\">tile_2_6</text>\n",
       "<text text-anchor=\"middle\" x=\"1554.72\" y=\"-578.11\" font-family=\"Times,serif\" font-size=\"14.00\" fill=\"#000000\">(callgraph.py:116)</text>\n",
       "</g>\n",
       "<!-- callgraphX&#45;&gt;callgraphX__tile_2_6 -->\n",
       "<g id=\"edge44\" class=\"edge\">\n",
       "<title>callgraphX&#45;&gt;callgraphX__tile_2_6</title>\n",
       "<path fill=\"none\" stroke=\"#838b8b\" stroke-dasharray=\"5,2\" d=\"M3748.71,-1919.67C3740.85,-1915.2 3731.71,-1910.87 3722.72,-1908.54 3642.12,-1887.69 787.74,-1928.09 725.72,-1872.54 712.67,-1860.85 686.72,-1690.03 686.72,-1397.97 686.72,-1397.97 686.72,-1397.97 686.72,-767.79 686.72,-655.48 599.93,-732.05 948.72,-652.18 1044.01,-630.36 1317.7,-607.79 1462.44,-596.93\"/>\n",
       "<polygon fill=\"#838b8b\" stroke=\"#838b8b\" points=\"1462.68,-600.42 1472.4,-596.19 1462.16,-593.44 1462.68,-600.42\"/>\n",
       "</g>\n",
       "<!-- callgraphX__tile_2_7 -->\n",
       "<g id=\"node21\" class=\"node\">\n",
       "<title>callgraphX__tile_2_7</title>\n",
       "<ellipse fill=\"#fecccc\" fill-opacity=\"0.698039\" stroke=\"black\" cx=\"1554.72\" cy=\"-499.57\" rx=\"82.96\" ry=\"26.74\"/>\n",
       "<text text-anchor=\"middle\" x=\"1554.72\" y=\"-503.37\" font-family=\"Times,serif\" font-size=\"14.00\" fill=\"#000000\">tile_2_7</text>\n",
       "<text text-anchor=\"middle\" x=\"1554.72\" y=\"-488.37\" font-family=\"Times,serif\" font-size=\"14.00\" fill=\"#000000\">(callgraph.py:124)</text>\n",
       "</g>\n",
       "<!-- callgraphX&#45;&gt;callgraphX__tile_2_7 -->\n",
       "<g id=\"edge39\" class=\"edge\">\n",
       "<title>callgraphX&#45;&gt;callgraphX__tile_2_7</title>\n",
       "<path fill=\"none\" stroke=\"#838b8b\" stroke-dasharray=\"5,2\" d=\"M3748.71,-1919.67C3740.85,-1915.2 3731.71,-1910.87 3722.72,-1908.54 3641.04,-1887.42 749.19,-1928.13 685.72,-1872.54 669.16,-1858.04 646.72,-1674.91 646.72,-1397.97 646.72,-1397.97 646.72,-1397.97 646.72,-678.05 646.72,-666.25 644.4,-660.55 652.72,-652.18 774.5,-529.77 860.7,-592.56 1030.72,-562.44 1181.5,-535.73 1358.79,-517.52 1463.68,-508.1\"/>\n",
       "<polygon fill=\"#838b8b\" stroke=\"#838b8b\" points=\"1463.7,-511.62 1473.35,-507.24 1463.07,-504.64 1463.7,-511.62\"/>\n",
       "</g>\n",
       "<!-- callgraphX__tile_2_8 -->\n",
       "<g id=\"node22\" class=\"node\">\n",
       "<title>callgraphX__tile_2_8</title>\n",
       "<ellipse fill=\"#fecccc\" fill-opacity=\"0.698039\" stroke=\"black\" cx=\"1516.72\" cy=\"-409.83\" rx=\"82.96\" ry=\"26.74\"/>\n",
       "<text text-anchor=\"middle\" x=\"1516.72\" y=\"-413.63\" font-family=\"Times,serif\" font-size=\"14.00\" fill=\"#000000\">tile_2_8</text>\n",
       "<text text-anchor=\"middle\" x=\"1516.72\" y=\"-398.63\" font-family=\"Times,serif\" font-size=\"14.00\" fill=\"#000000\">(callgraph.py:132)</text>\n",
       "</g>\n",
       "<!-- callgraphX&#45;&gt;callgraphX__tile_2_8 -->\n",
       "<g id=\"edge36\" class=\"edge\">\n",
       "<title>callgraphX&#45;&gt;callgraphX__tile_2_8</title>\n",
       "<path fill=\"none\" stroke=\"#838b8b\" stroke-dasharray=\"5,2\" d=\"M3748.16,-1919.61C3740.41,-1915.25 3731.47,-1911 3722.72,-1908.54 3650.42,-1888.23 3100.79,-1925.69 3047.72,-1872.54 3011.37,-1836.13 3041.72,-1808.38 3041.72,-1756.93 3041.72,-1756.93 3041.72,-1756.93 3041.72,-588.31 3041.72,-428.2 1765.96,-466.9 1608.72,-436.7 1601.58,-435.33 1594.19,-433.67 1586.84,-431.86\"/>\n",
       "<polygon fill=\"#838b8b\" stroke=\"#838b8b\" points=\"1587.78,-428.49 1577.23,-429.39 1586.04,-435.27 1587.78,-428.49\"/>\n",
       "</g>\n",
       "<!-- callgraphX__tile_3_0 -->\n",
       "<g id=\"node23\" class=\"node\">\n",
       "<title>callgraphX__tile_3_0</title>\n",
       "<ellipse fill=\"#fecccc\" fill-opacity=\"0.698039\" stroke=\"black\" cx=\"157.72\" cy=\"-1935.41\" rx=\"82.96\" ry=\"26.74\"/>\n",
       "<text text-anchor=\"middle\" x=\"157.72\" y=\"-1939.21\" font-family=\"Times,serif\" font-size=\"14.00\" fill=\"#000000\">tile_3_0</text>\n",
       "<text text-anchor=\"middle\" x=\"157.72\" y=\"-1924.21\" font-family=\"Times,serif\" font-size=\"14.00\" fill=\"#000000\">(callgraph.py:137)</text>\n",
       "</g>\n",
       "<!-- callgraphX&#45;&gt;callgraphX__tile_3_0 -->\n",
       "<g id=\"edge32\" class=\"edge\">\n",
       "<title>callgraphX&#45;&gt;callgraphX__tile_3_0</title>\n",
       "<path fill=\"none\" stroke=\"#838b8b\" stroke-dasharray=\"5,2\" d=\"M3755.09,-1952.51C3744.54,-1962.72 3729.67,-1974.76 3713.72,-1980.28 3624.85,-2011.07 421,-1992.38 327.72,-1980.28 294.02,-1975.91 257.49,-1966.85 226.95,-1958.02\"/>\n",
       "<polygon fill=\"#838b8b\" stroke=\"#838b8b\" points=\"228.02,-1954.68 217.44,-1955.21 226.04,-1961.4 228.02,-1954.68\"/>\n",
       "</g>\n",
       "<!-- callgraphX__tile_3_1 -->\n",
       "<g id=\"node24\" class=\"node\">\n",
       "<title>callgraphX__tile_3_1</title>\n",
       "<ellipse fill=\"#fecccc\" fill-opacity=\"0.698039\" stroke=\"black\" cx=\"410.72\" cy=\"-2025.15\" rx=\"82.96\" ry=\"26.74\"/>\n",
       "<text text-anchor=\"middle\" x=\"410.72\" y=\"-2028.95\" font-family=\"Times,serif\" font-size=\"14.00\" fill=\"#000000\">tile_3_1</text>\n",
       "<text text-anchor=\"middle\" x=\"410.72\" y=\"-2013.95\" font-family=\"Times,serif\" font-size=\"14.00\" fill=\"#000000\">(callgraph.py:142)</text>\n",
       "</g>\n",
       "<!-- callgraphX&#45;&gt;callgraphX__tile_3_1 -->\n",
       "<g id=\"edge28\" class=\"edge\">\n",
       "<title>callgraphX&#45;&gt;callgraphX__tile_3_1</title>\n",
       "<path fill=\"none\" stroke=\"#838b8b\" stroke-dasharray=\"5,2\" d=\"M3748.71,-1951.16C3740.85,-1955.63 3731.71,-1959.96 3722.72,-1962.28 3549.24,-2007.09 674.89,-1971.49 497.72,-1998.28 491.24,-1999.26 484.56,-2000.61 477.92,-2002.18\"/>\n",
       "<polygon fill=\"#838b8b\" stroke=\"#838b8b\" points=\"477.13,-1998.77 468.3,-2004.62 478.85,-2005.55 477.13,-1998.77\"/>\n",
       "</g>\n",
       "<!-- callgraphX__tile_3_2 -->\n",
       "<g id=\"node25\" class=\"node\">\n",
       "<title>callgraphX__tile_3_2</title>\n",
       "<ellipse fill=\"#fecccc\" fill-opacity=\"0.698039\" stroke=\"black\" cx=\"1252.72\" cy=\"-858.53\" rx=\"82.96\" ry=\"26.74\"/>\n",
       "<text text-anchor=\"middle\" x=\"1252.72\" y=\"-862.33\" font-family=\"Times,serif\" font-size=\"14.00\" fill=\"#000000\">tile_3_2</text>\n",
       "<text text-anchor=\"middle\" x=\"1252.72\" y=\"-847.33\" font-family=\"Times,serif\" font-size=\"14.00\" fill=\"#000000\">(callgraph.py:150)</text>\n",
       "</g>\n",
       "<!-- callgraphX&#45;&gt;callgraphX__tile_3_2 -->\n",
       "<g id=\"edge22\" class=\"edge\">\n",
       "<title>callgraphX&#45;&gt;callgraphX__tile_3_2</title>\n",
       "<path fill=\"none\" stroke=\"#838b8b\" stroke-dasharray=\"5,2\" d=\"M3748.19,-1919.53C3740.43,-1915.17 3731.49,-1910.93 3722.72,-1908.54 3621.89,-1881.04 2858.38,-1944.65 2782.72,-1872.54 2745.39,-1836.96 2772.72,-1808.51 2772.72,-1756.93 2772.72,-1756.93 2772.72,-1756.93 2772.72,-1037.01 2772.72,-1018.9 1668.83,-902.76 1342.52,-868.83\"/>\n",
       "<polygon fill=\"#838b8b\" stroke=\"#838b8b\" points=\"1343.06,-865.37 1332.75,-867.81 1342.34,-872.33 1343.06,-865.37\"/>\n",
       "</g>\n",
       "<!-- callgraphX__tile_3_3 -->\n",
       "<g id=\"node26\" class=\"node\">\n",
       "<title>callgraphX__tile_3_3</title>\n",
       "<ellipse fill=\"#fecccc\" fill-opacity=\"0.698039\" stroke=\"black\" cx=\"1252.72\" cy=\"-948.27\" rx=\"82.96\" ry=\"26.74\"/>\n",
       "<text text-anchor=\"middle\" x=\"1252.72\" y=\"-952.07\" font-family=\"Times,serif\" font-size=\"14.00\" fill=\"#000000\">tile_3_3</text>\n",
       "<text text-anchor=\"middle\" x=\"1252.72\" y=\"-937.07\" font-family=\"Times,serif\" font-size=\"14.00\" fill=\"#000000\">(callgraph.py:155)</text>\n",
       "</g>\n",
       "<!-- callgraphX&#45;&gt;callgraphX__tile_3_3 -->\n",
       "<g id=\"edge17\" class=\"edge\">\n",
       "<title>callgraphX&#45;&gt;callgraphX__tile_3_3</title>\n",
       "<path fill=\"none\" stroke=\"#838b8b\" stroke-dasharray=\"5,2\" d=\"M3748.7,-1919.67C3740.84,-1915.2 3731.71,-1910.87 3722.72,-1908.54 3644.55,-1888.3 875.27,-1927.09 815.72,-1872.54 756.73,-1818.5 805.73,-1772.97 801.72,-1693.06 794.12,-1541.44 719.87,-1100.32 842.72,-1011.14 855.67,-1001.74 1048.47,-975.55 1165,-960.43\"/>\n",
       "<polygon fill=\"#838b8b\" stroke=\"#838b8b\" points=\"1165.41,-963.9 1174.88,-959.15 1164.52,-956.96 1165.41,-963.9\"/>\n",
       "</g>\n",
       "<!-- callgraphX__tile_3_4 -->\n",
       "<g id=\"node27\" class=\"node\">\n",
       "<title>callgraphX__tile_3_4</title>\n",
       "<ellipse fill=\"#fecccc\" fill-opacity=\"0.698039\" stroke=\"black\" cx=\"1617.72\" cy=\"-679.05\" rx=\"82.96\" ry=\"26.74\"/>\n",
       "<text text-anchor=\"middle\" x=\"1617.72\" y=\"-682.85\" font-family=\"Times,serif\" font-size=\"14.00\" fill=\"#000000\">tile_3_4</text>\n",
       "<text text-anchor=\"middle\" x=\"1617.72\" y=\"-667.85\" font-family=\"Times,serif\" font-size=\"14.00\" fill=\"#000000\">(callgraph.py:163)</text>\n",
       "</g>\n",
       "<!-- callgraphX&#45;&gt;callgraphX__tile_3_4 -->\n",
       "<g id=\"edge13\" class=\"edge\">\n",
       "<title>callgraphX&#45;&gt;callgraphX__tile_3_4</title>\n",
       "<path fill=\"none\" stroke=\"#838b8b\" stroke-dasharray=\"5,2\" d=\"M3748.18,-1919.55C3740.43,-1915.19 3731.49,-1910.95 3722.72,-1908.54 3632.44,-1883.7 2955.82,-1928.48 2880.72,-1872.54 2837.12,-1840.06 2840.72,-1811.3 2840.72,-1756.93 2840.72,-1756.93 2840.72,-1756.93 2840.72,-857.53 2840.72,-835.68 2884.98,-848.13 2015.72,-741.92 1879.36,-725.26 1843.45,-732.79 1708.72,-705.92 1701.85,-704.55 1694.75,-702.92 1687.67,-701.15\"/>\n",
       "<polygon fill=\"#838b8b\" stroke=\"#838b8b\" points=\"1688.64,-697.79 1678.08,-698.66 1686.88,-704.56 1688.64,-697.79\"/>\n",
       "</g>\n",
       "<!-- callgraphX__tile_3_5 -->\n",
       "<g id=\"node28\" class=\"node\">\n",
       "<title>callgraphX__tile_3_5</title>\n",
       "<ellipse fill=\"#fecccc\" fill-opacity=\"0.698039\" stroke=\"black\" cx=\"1992.72\" cy=\"-589.31\" rx=\"82.96\" ry=\"26.74\"/>\n",
       "<text text-anchor=\"middle\" x=\"1992.72\" y=\"-593.11\" font-family=\"Times,serif\" font-size=\"14.00\" fill=\"#000000\">tile_3_5</text>\n",
       "<text text-anchor=\"middle\" x=\"1992.72\" y=\"-578.11\" font-family=\"Times,serif\" font-size=\"14.00\" fill=\"#000000\">(callgraph.py:168)</text>\n",
       "</g>\n",
       "<!-- callgraphX&#45;&gt;callgraphX__tile_3_5 -->\n",
       "<g id=\"edge6\" class=\"edge\">\n",
       "<title>callgraphX&#45;&gt;callgraphX__tile_3_5</title>\n",
       "<path fill=\"none\" stroke=\"#838b8b\" stroke-dasharray=\"5,2\" d=\"M3748.7,-1919.67C3740.84,-1915.2 3731.71,-1910.87 3722.72,-1908.54 3642.66,-1887.82 807.02,-1928.06 745.72,-1872.54 731.26,-1859.44 706.72,-1770.78 706.72,-1308.23 706.72,-1308.23 706.72,-1308.23 706.72,-767.79 706.72,-707.43 1607.58,-623.78 1901.32,-598.11\"/>\n",
       "<polygon fill=\"#838b8b\" stroke=\"#838b8b\" points=\"1901.6,-601.6 1911.26,-597.25 1900.99,-594.63 1901.6,-601.6\"/>\n",
       "</g>\n",
       "<!-- callgraphX__tile_3_6 -->\n",
       "<g id=\"node29\" class=\"node\">\n",
       "<title>callgraphX__tile_3_6</title>\n",
       "<ellipse fill=\"#fecccc\" fill-opacity=\"0.698039\" stroke=\"black\" cx=\"1556.72\" cy=\"-320.09\" rx=\"82.96\" ry=\"26.74\"/>\n",
       "<text text-anchor=\"middle\" x=\"1556.72\" y=\"-323.89\" font-family=\"Times,serif\" font-size=\"14.00\" fill=\"#000000\">tile_3_6</text>\n",
       "<text text-anchor=\"middle\" x=\"1556.72\" y=\"-308.89\" font-family=\"Times,serif\" font-size=\"14.00\" fill=\"#000000\">(callgraph.py:173)</text>\n",
       "</g>\n",
       "<!-- callgraphX&#45;&gt;callgraphX__tile_3_6 -->\n",
       "<g id=\"edge2\" class=\"edge\">\n",
       "<title>callgraphX&#45;&gt;callgraphX__tile_3_6</title>\n",
       "<path fill=\"none\" stroke=\"#838b8b\" stroke-dasharray=\"5,2\" d=\"M3748.14,-1919.69C3740.39,-1915.34 3731.45,-1911.07 3722.72,-1908.54 3610.81,-1876.18 3303.55,-1925.38 3199.72,-1872.54 3139.95,-1842.12 3102.72,-1824 3102.72,-1756.93 3102.72,-1756.93 3102.72,-1756.93 3102.72,-498.57 3102.72,-484.04 3095.44,-479.74 3082.72,-472.7 2957.24,-403.19 1961.44,-343.26 1649.69,-326.05\"/>\n",
       "<polygon fill=\"#838b8b\" stroke=\"#838b8b\" points=\"1650.14,-322.57 1639.96,-325.51 1649.76,-329.56 1650.14,-322.57\"/>\n",
       "</g>\n",
       "<!-- callgraphX__tile_3_7 -->\n",
       "<g id=\"node30\" class=\"node\">\n",
       "<title>callgraphX__tile_3_7</title>\n",
       "<ellipse fill=\"#fecccc\" fill-opacity=\"0.698039\" stroke=\"black\" cx=\"1894.72\" cy=\"-409.83\" rx=\"82.96\" ry=\"26.74\"/>\n",
       "<text text-anchor=\"middle\" x=\"1894.72\" y=\"-413.63\" font-family=\"Times,serif\" font-size=\"14.00\" fill=\"#000000\">tile_3_7</text>\n",
       "<text text-anchor=\"middle\" x=\"1894.72\" y=\"-398.63\" font-family=\"Times,serif\" font-size=\"14.00\" fill=\"#000000\">(callgraph.py:178)</text>\n",
       "</g>\n",
       "<!-- callgraphX&#45;&gt;callgraphX__tile_3_7 -->\n",
       "<g id=\"edge65\" class=\"edge\">\n",
       "<title>callgraphX&#45;&gt;callgraphX__tile_3_7</title>\n",
       "<path fill=\"none\" stroke=\"#838b8b\" stroke-dasharray=\"5,2\" d=\"M3748.16,-1919.63C3740.4,-1915.28 3731.47,-1911.02 3722.72,-1908.54 3655.8,-1889.59 3148.64,-1919.94 3097.72,-1872.54 3059.8,-1837.24 3082.72,-1808.75 3082.72,-1756.93 3082.72,-1756.93 3082.72,-1756.93 3082.72,-588.31 3082.72,-536.44 3105.27,-507.42 3066.72,-472.7 3021.91,-432.34 2041.25,-446.37 1981.72,-436.7 1975.25,-435.65 1968.58,-434.25 1961.94,-432.66\"/>\n",
       "<polygon fill=\"#838b8b\" stroke=\"#838b8b\" points=\"1962.89,-429.28 1952.33,-430.18 1961.14,-436.06 1962.89,-429.28\"/>\n",
       "</g>\n",
       "<!-- callgraphX__tile_3_8 -->\n",
       "<g id=\"node31\" class=\"node\">\n",
       "<title>callgraphX__tile_3_8</title>\n",
       "<ellipse fill=\"#fecccc\" fill-opacity=\"0.698039\" stroke=\"black\" cx=\"1092.72\" cy=\"-320.09\" rx=\"82.96\" ry=\"26.74\"/>\n",
       "<text text-anchor=\"middle\" x=\"1092.72\" y=\"-323.89\" font-family=\"Times,serif\" font-size=\"14.00\" fill=\"#000000\">tile_3_8</text>\n",
       "<text text-anchor=\"middle\" x=\"1092.72\" y=\"-308.89\" font-family=\"Times,serif\" font-size=\"14.00\" fill=\"#000000\">(callgraph.py:186)</text>\n",
       "</g>\n",
       "<!-- callgraphX&#45;&gt;callgraphX__tile_3_8 -->\n",
       "<g id=\"edge59\" class=\"edge\">\n",
       "<title>callgraphX&#45;&gt;callgraphX__tile_3_8</title>\n",
       "<path fill=\"none\" stroke=\"#838b8b\" stroke-dasharray=\"5,2\" d=\"M3748.71,-1919.67C3740.85,-1915.2 3731.71,-1910.86 3722.72,-1908.54 3639.62,-1887.06 699.41,-1926.59 632.72,-1872.54 614.56,-1857.82 586.72,-1690.57 586.72,-1667.19 586.72,-1667.19 586.72,-1667.19 586.72,-498.57 586.72,-475.8 882.43,-384.12 1021.73,-342.2\"/>\n",
       "<polygon fill=\"#838b8b\" stroke=\"#838b8b\" points=\"1022.67,-345.57 1031.24,-339.34 1020.66,-338.87 1022.67,-345.57\"/>\n",
       "</g>\n",
       "<!-- callgraphX__tile_4_0 -->\n",
       "<g id=\"node32\" class=\"node\">\n",
       "<title>callgraphX__tile_4_0</title>\n",
       "<ellipse fill=\"#fecccc\" fill-opacity=\"0.698039\" stroke=\"black\" cx=\"257.72\" cy=\"-1845.67\" rx=\"82.96\" ry=\"26.74\"/>\n",
       "<text text-anchor=\"middle\" x=\"257.72\" y=\"-1849.47\" font-family=\"Times,serif\" font-size=\"14.00\" fill=\"#000000\">tile_4_0</text>\n",
       "<text text-anchor=\"middle\" x=\"257.72\" y=\"-1834.47\" font-family=\"Times,serif\" font-size=\"14.00\" fill=\"#000000\">(callgraph.py:191)</text>\n",
       "</g>\n",
       "<!-- callgraphX&#45;&gt;callgraphX__tile_4_0 -->\n",
       "<g id=\"edge55\" class=\"edge\">\n",
       "<title>callgraphX&#45;&gt;callgraphX__tile_4_0</title>\n",
       "<path fill=\"none\" stroke=\"#838b8b\" stroke-dasharray=\"5,2\" d=\"M3748.71,-1919.66C3740.85,-1915.19 3731.71,-1910.86 3722.72,-1908.54 3541.21,-1861.71 534.24,-1899.41 348.72,-1872.54 341.3,-1871.47 333.62,-1869.95 326.03,-1868.19\"/>\n",
       "<polygon fill=\"#838b8b\" stroke=\"#838b8b\" points=\"327.01,-1864.82 316.46,-1865.81 325.32,-1871.62 327.01,-1864.82\"/>\n",
       "</g>\n",
       "<!-- callgraphX__tile_4_1 -->\n",
       "<g id=\"node33\" class=\"node\">\n",
       "<title>callgraphX__tile_4_1</title>\n",
       "<ellipse fill=\"#fecccc\" fill-opacity=\"0.698039\" stroke=\"black\" cx=\"410.72\" cy=\"-1935.41\" rx=\"82.96\" ry=\"26.74\"/>\n",
       "<text text-anchor=\"middle\" x=\"410.72\" y=\"-1939.21\" font-family=\"Times,serif\" font-size=\"14.00\" fill=\"#000000\">tile_4_1</text>\n",
       "<text text-anchor=\"middle\" x=\"410.72\" y=\"-1924.21\" font-family=\"Times,serif\" font-size=\"14.00\" fill=\"#000000\">(callgraph.py:196)</text>\n",
       "</g>\n",
       "<!-- callgraphX&#45;&gt;callgraphX__tile_4_1 -->\n",
       "<g id=\"edge52\" class=\"edge\">\n",
       "<title>callgraphX&#45;&gt;callgraphX__tile_4_1</title>\n",
       "<path fill=\"none\" stroke=\"#838b8b\" stroke-dasharray=\"5,2\" d=\"M3726.73,-1935.41C2652.96,-1935.41 1579.2,-1935.41 505.43,-1935.41\"/>\n",
       "<polygon fill=\"#838b8b\" stroke=\"#838b8b\" points=\"505.5,-1931.91 495.5,-1935.41 505.5,-1938.91 505.5,-1931.91\"/>\n",
       "</g>\n",
       "<!-- callgraphX__tile_4_2 -->\n",
       "<g id=\"node34\" class=\"node\">\n",
       "<title>callgraphX__tile_4_2</title>\n",
       "<ellipse fill=\"#fecccc\" fill-opacity=\"0.698039\" stroke=\"black\" cx=\"948.72\" cy=\"-948.27\" rx=\"82.96\" ry=\"26.74\"/>\n",
       "<text text-anchor=\"middle\" x=\"948.72\" y=\"-952.07\" font-family=\"Times,serif\" font-size=\"14.00\" fill=\"#000000\">tile_4_2</text>\n",
       "<text text-anchor=\"middle\" x=\"948.72\" y=\"-937.07\" font-family=\"Times,serif\" font-size=\"14.00\" fill=\"#000000\">(callgraph.py:204)</text>\n",
       "</g>\n",
       "<!-- callgraphX&#45;&gt;callgraphX__tile_4_2 -->\n",
       "<g id=\"edge46\" class=\"edge\">\n",
       "<title>callgraphX&#45;&gt;callgraphX__tile_4_2</title>\n",
       "<path fill=\"none\" stroke=\"#838b8b\" stroke-dasharray=\"5,2\" d=\"M3748.7,-1919.67C3740.84,-1915.2 3731.71,-1910.87 3722.72,-1908.54 3643.74,-1888.1 843.97,-1929.68 785.72,-1872.54 724.51,-1812.5 762.69,-1185.47 776.72,-1100.88 783.46,-1060.26 772.76,-1042.26 799.72,-1011.14 811.06,-998.06 846.2,-983.18 879.5,-971.3\"/>\n",
       "<polygon fill=\"#838b8b\" stroke=\"#838b8b\" points=\"880.5,-974.65 888.79,-968.05 878.19,-968.05 880.5,-974.65\"/>\n",
       "</g>\n",
       "<!-- callgraphX__tile_4_3 -->\n",
       "<g id=\"node35\" class=\"node\">\n",
       "<title>callgraphX__tile_4_3</title>\n",
       "<ellipse fill=\"#fecccc\" fill-opacity=\"0.698039\" stroke=\"black\" cx=\"1435.72\" cy=\"-1038.01\" rx=\"82.96\" ry=\"26.74\"/>\n",
       "<text text-anchor=\"middle\" x=\"1435.72\" y=\"-1041.81\" font-family=\"Times,serif\" font-size=\"14.00\" fill=\"#000000\">tile_4_3</text>\n",
       "<text text-anchor=\"middle\" x=\"1435.72\" y=\"-1026.81\" font-family=\"Times,serif\" font-size=\"14.00\" fill=\"#000000\">(callgraph.py:209)</text>\n",
       "</g>\n",
       "<!-- callgraphX&#45;&gt;callgraphX__tile_4_3 -->\n",
       "<g id=\"edge41\" class=\"edge\">\n",
       "<title>callgraphX&#45;&gt;callgraphX__tile_4_3</title>\n",
       "<path fill=\"none\" stroke=\"#838b8b\" stroke-dasharray=\"5,2\" d=\"M3748.7,-1919.67C3740.84,-1915.2 3731.71,-1910.87 3722.72,-1908.54 3645.43,-1888.52 907.29,-1926.8 848.72,-1872.54 817.26,-1843.39 793.93,-1131.74 823.72,-1100.88 864.34,-1058.82 1291.19,-1075.28 1348.72,-1064.88 1355.08,-1063.73 1361.63,-1062.29 1368.16,-1060.67\"/>\n",
       "<polygon fill=\"#838b8b\" stroke=\"#838b8b\" points=\"1368.82,-1064.12 1377.6,-1058.2 1367.04,-1057.35 1368.82,-1064.12\"/>\n",
       "</g>\n",
       "<!-- callgraphX__tile_4_4 -->\n",
       "<g id=\"node36\" class=\"node\">\n",
       "<title>callgraphX__tile_4_4</title>\n",
       "<ellipse fill=\"#fecccc\" fill-opacity=\"0.698039\" stroke=\"black\" cx=\"2054.72\" cy=\"-1127.75\" rx=\"82.96\" ry=\"26.74\"/>\n",
       "<text text-anchor=\"middle\" x=\"2054.72\" y=\"-1131.55\" font-family=\"Times,serif\" font-size=\"14.00\" fill=\"#000000\">tile_4_4</text>\n",
       "<text text-anchor=\"middle\" x=\"2054.72\" y=\"-1116.55\" font-family=\"Times,serif\" font-size=\"14.00\" fill=\"#000000\">(callgraph.py:217)</text>\n",
       "</g>\n",
       "<!-- callgraphX&#45;&gt;callgraphX__tile_4_4 -->\n",
       "<g id=\"edge40\" class=\"edge\">\n",
       "<title>callgraphX&#45;&gt;callgraphX__tile_4_4</title>\n",
       "<path fill=\"none\" stroke=\"#838b8b\" stroke-dasharray=\"5,2\" d=\"M3748.19,-1919.52C3740.44,-1915.16 3731.49,-1910.93 3722.72,-1908.54 3617.69,-1879.98 2826.88,-1942.79 2743.72,-1872.54 2703.64,-1838.68 2719.72,-1809.41 2719.72,-1756.93 2719.72,-1756.93 2719.72,-1756.93 2719.72,-1306.23 2719.72,-1253.47 2732.97,-1224.75 2692.72,-1190.62 2645.93,-1150.94 2202.12,-1165.43 2141.72,-1154.62 2135.36,-1153.48 2128.81,-1152.05 2122.29,-1150.43\"/>\n",
       "<polygon fill=\"#838b8b\" stroke=\"#838b8b\" points=\"2123.4,-1147.11 2112.84,-1147.96 2121.63,-1153.88 2123.4,-1147.11\"/>\n",
       "</g>\n",
       "<!-- callgraphX__tile_4_5 -->\n",
       "<g id=\"node37\" class=\"node\">\n",
       "<title>callgraphX__tile_4_5</title>\n",
       "<ellipse fill=\"#fecccc\" fill-opacity=\"0.698039\" stroke=\"black\" cx=\"2134.72\" cy=\"-1217.49\" rx=\"82.96\" ry=\"26.74\"/>\n",
       "<text text-anchor=\"middle\" x=\"2134.72\" y=\"-1221.29\" font-family=\"Times,serif\" font-size=\"14.00\" fill=\"#000000\">tile_4_5</text>\n",
       "<text text-anchor=\"middle\" x=\"2134.72\" y=\"-1206.29\" font-family=\"Times,serif\" font-size=\"14.00\" fill=\"#000000\">(callgraph.py:225)</text>\n",
       "</g>\n",
       "<!-- callgraphX&#45;&gt;callgraphX__tile_4_5 -->\n",
       "<g id=\"edge35\" class=\"edge\">\n",
       "<title>callgraphX&#45;&gt;callgraphX__tile_4_5</title>\n",
       "<path fill=\"none\" stroke=\"#838b8b\" stroke-dasharray=\"5,2\" d=\"M3748.19,-1919.51C3740.44,-1915.15 3731.5,-1910.92 3722.72,-1908.54 3667.08,-1893.47 2729.64,-1909.88 2685.72,-1872.54 2645.81,-1838.61 2662.72,-1809.32 2662.72,-1756.93 2662.72,-1756.93 2662.72,-1756.93 2662.72,-1395.97 2662.72,-1370.04 2665.22,-1298.54 2646.72,-1280.36 2617.43,-1251.56 2366.99,-1232.26 2227.54,-1223.64\"/>\n",
       "<polygon fill=\"#838b8b\" stroke=\"#838b8b\" points=\"2228.17,-1220.17 2217.97,-1223.05 2227.74,-1227.15 2228.17,-1220.17\"/>\n",
       "</g>\n",
       "<!-- callgraphX__tile_4_6 -->\n",
       "<g id=\"node38\" class=\"node\">\n",
       "<title>callgraphX__tile_4_6</title>\n",
       "<ellipse fill=\"#fecccc\" fill-opacity=\"0.698039\" stroke=\"black\" cx=\"2333.72\" cy=\"-230.35\" rx=\"82.96\" ry=\"26.74\"/>\n",
       "<text text-anchor=\"middle\" x=\"2333.72\" y=\"-234.15\" font-family=\"Times,serif\" font-size=\"14.00\" fill=\"#000000\">tile_4_6</text>\n",
       "<text text-anchor=\"middle\" x=\"2333.72\" y=\"-219.15\" font-family=\"Times,serif\" font-size=\"14.00\" fill=\"#000000\">(callgraph.py:233)</text>\n",
       "</g>\n",
       "<!-- callgraphX&#45;&gt;callgraphX__tile_4_6 -->\n",
       "<g id=\"edge31\" class=\"edge\">\n",
       "<title>callgraphX&#45;&gt;callgraphX__tile_4_6</title>\n",
       "<path fill=\"none\" stroke=\"#838b8b\" stroke-dasharray=\"5,2\" d=\"M3748.11,-1919.8C3740.35,-1915.45 3731.43,-1911.16 3722.72,-1908.54 3637.9,-1883.01 3390.08,-1933.42 3325.72,-1872.54 3287.99,-1836.85 3308.72,-1808.87 3308.72,-1756.93 3308.72,-1756.93 3308.72,-1756.93 3308.72,-408.83 3308.72,-357.02 3331.93,-328.21 3293.72,-293.22 3257.93,-260.44 2468.61,-265.2 2420.72,-257.22 2414.25,-256.14 2407.58,-254.73 2400.95,-253.12\"/>\n",
       "<polygon fill=\"#838b8b\" stroke=\"#838b8b\" points=\"2401.9,-249.75 2391.34,-250.63 2400.14,-256.53 2401.9,-249.75\"/>\n",
       "</g>\n",
       "<!-- callgraphX__tile_4_7 -->\n",
       "<g id=\"node39\" class=\"node\">\n",
       "<title>callgraphX__tile_4_7</title>\n",
       "<ellipse fill=\"#fecccc\" fill-opacity=\"0.698039\" stroke=\"black\" cx=\"2094.72\" cy=\"-320.09\" rx=\"82.96\" ry=\"26.74\"/>\n",
       "<text text-anchor=\"middle\" x=\"2094.72\" y=\"-323.89\" font-family=\"Times,serif\" font-size=\"14.00\" fill=\"#000000\">tile_4_7</text>\n",
       "<text text-anchor=\"middle\" x=\"2094.72\" y=\"-308.89\" font-family=\"Times,serif\" font-size=\"14.00\" fill=\"#000000\">(callgraph.py:238)</text>\n",
       "</g>\n",
       "<!-- callgraphX&#45;&gt;callgraphX__tile_4_7 -->\n",
       "<g id=\"edge30\" class=\"edge\">\n",
       "<title>callgraphX&#45;&gt;callgraphX__tile_4_7</title>\n",
       "<path fill=\"none\" stroke=\"#838b8b\" stroke-dasharray=\"5,2\" d=\"M3748.13,-1919.73C3740.37,-1915.38 3731.44,-1911.11 3722.72,-1908.54 3623.72,-1879.43 3347.25,-1927.22 3259.72,-1872.54 3209.17,-1840.96 3191.72,-1816.54 3191.72,-1756.93 3191.72,-1756.93 3191.72,-1756.93 3191.72,-498.57 3191.72,-435.06 3163.74,-412.89 3107.72,-382.96 3016.91,-334.44 2283.31,-363.77 2181.72,-346.96 2175.25,-345.89 2168.58,-344.48 2161.95,-342.88\"/>\n",
       "<polygon fill=\"#838b8b\" stroke=\"#838b8b\" points=\"2162.89,-339.51 2152.34,-340.39 2161.14,-346.28 2162.89,-339.51\"/>\n",
       "</g>\n",
       "<!-- callgraphX__tile_4_8 -->\n",
       "<g id=\"node40\" class=\"node\">\n",
       "<title>callgraphX__tile_4_8</title>\n",
       "<ellipse fill=\"#fecccc\" fill-opacity=\"0.698039\" stroke=\"black\" cx=\"1916.72\" cy=\"-230.35\" rx=\"82.96\" ry=\"26.74\"/>\n",
       "<text text-anchor=\"middle\" x=\"1916.72\" y=\"-234.15\" font-family=\"Times,serif\" font-size=\"14.00\" fill=\"#000000\">tile_4_8</text>\n",
       "<text text-anchor=\"middle\" x=\"1916.72\" y=\"-219.15\" font-family=\"Times,serif\" font-size=\"14.00\" fill=\"#000000\">(callgraph.py:246)</text>\n",
       "</g>\n",
       "<!-- callgraphX&#45;&gt;callgraphX__tile_4_8 -->\n",
       "<g id=\"edge26\" class=\"edge\">\n",
       "<title>callgraphX&#45;&gt;callgraphX__tile_4_8</title>\n",
       "<path fill=\"none\" stroke=\"#838b8b\" stroke-dasharray=\"5,2\" d=\"M3748.13,-1919.75C3740.37,-1915.4 3731.44,-1911.12 3722.72,-1908.54 3626.94,-1880.25 3345.56,-1942.95 3274.72,-1872.54 3238.14,-1836.19 3264.72,-1808.51 3264.72,-1756.93 3264.72,-1756.93 3264.72,-1756.93 3264.72,-408.83 3264.72,-354.71 3199.14,-391.69 3145.72,-382.96 2643.54,-300.86 2507.08,-355.08 2007.72,-257.22 2000.85,-255.87 1993.74,-254.26 1986.66,-252.5\"/>\n",
       "<polygon fill=\"#838b8b\" stroke=\"#838b8b\" points=\"1987.63,-249.13 1977.07,-250.01 1985.88,-255.91 1987.63,-249.13\"/>\n",
       "</g>\n",
       "<!-- callgraphX__tile_5_0 -->\n",
       "<g id=\"node41\" class=\"node\">\n",
       "<title>callgraphX__tile_5_0</title>\n",
       "<ellipse fill=\"#fecccc\" fill-opacity=\"0.698039\" stroke=\"black\" cx=\"1589.72\" cy=\"-1755.93\" rx=\"82.96\" ry=\"26.74\"/>\n",
       "<text text-anchor=\"middle\" x=\"1589.72\" y=\"-1759.73\" font-family=\"Times,serif\" font-size=\"14.00\" fill=\"#000000\">tile_5_0</text>\n",
       "<text text-anchor=\"middle\" x=\"1589.72\" y=\"-1744.73\" font-family=\"Times,serif\" font-size=\"14.00\" fill=\"#000000\">(callgraph.py:251)</text>\n",
       "</g>\n",
       "<!-- callgraphX&#45;&gt;callgraphX__tile_5_0 -->\n",
       "<g id=\"edge49\" class=\"edge\">\n",
       "<title>callgraphX&#45;&gt;callgraphX__tile_5_0</title>\n",
       "<path fill=\"none\" stroke=\"#838b8b\" stroke-dasharray=\"5,2\" d=\"M3748.69,-1919.71C3740.83,-1915.25 3731.7,-1910.9 3722.72,-1908.54 3530.02,-1857.86 2125.98,-1907.02 1929.72,-1872.54 1827.28,-1854.54 1713.97,-1810.91 1647.46,-1782.69\"/>\n",
       "<polygon fill=\"#838b8b\" stroke=\"#838b8b\" points=\"1649.16,-1779.61 1638.59,-1778.9 1646.4,-1786.05 1649.16,-1779.61\"/>\n",
       "</g>\n",
       "<!-- callgraphX__tile_5_1 -->\n",
       "<g id=\"node42\" class=\"node\">\n",
       "<title>callgraphX__tile_5_1</title>\n",
       "<ellipse fill=\"#fecccc\" fill-opacity=\"0.698039\" stroke=\"black\" cx=\"440.72\" cy=\"-1845.67\" rx=\"82.96\" ry=\"26.74\"/>\n",
       "<text text-anchor=\"middle\" x=\"440.72\" y=\"-1849.47\" font-family=\"Times,serif\" font-size=\"14.00\" fill=\"#000000\">tile_5_1</text>\n",
       "<text text-anchor=\"middle\" x=\"440.72\" y=\"-1834.47\" font-family=\"Times,serif\" font-size=\"14.00\" fill=\"#000000\">(callgraph.py:256)</text>\n",
       "</g>\n",
       "<!-- callgraphX&#45;&gt;callgraphX__tile_5_1 -->\n",
       "<g id=\"edge45\" class=\"edge\">\n",
       "<title>callgraphX&#45;&gt;callgraphX__tile_5_1</title>\n",
       "<path fill=\"none\" stroke=\"#838b8b\" stroke-dasharray=\"5,2\" d=\"M3748.71,-1919.66C3740.85,-1915.2 3731.71,-1910.86 3722.72,-1908.54 3550.85,-1864.14 703.24,-1899.1 527.72,-1872.54 521.24,-1871.56 514.56,-1870.21 507.92,-1868.65\"/>\n",
       "<polygon fill=\"#838b8b\" stroke=\"#838b8b\" points=\"508.85,-1865.27 498.3,-1866.2 507.13,-1872.06 508.85,-1865.27\"/>\n",
       "</g>\n",
       "<!-- callgraphX__tile_5_2 -->\n",
       "<g id=\"node43\" class=\"node\">\n",
       "<title>callgraphX__tile_5_2</title>\n",
       "<ellipse fill=\"#fecccc\" fill-opacity=\"0.698039\" stroke=\"black\" cx=\"2222.72\" cy=\"-1576.45\" rx=\"82.96\" ry=\"26.74\"/>\n",
       "<text text-anchor=\"middle\" x=\"2222.72\" y=\"-1580.25\" font-family=\"Times,serif\" font-size=\"14.00\" fill=\"#000000\">tile_5_2</text>\n",
       "<text text-anchor=\"middle\" x=\"2222.72\" y=\"-1565.25\" font-family=\"Times,serif\" font-size=\"14.00\" fill=\"#000000\">(callgraph.py:264)</text>\n",
       "</g>\n",
       "<!-- callgraphX&#45;&gt;callgraphX__tile_5_2 -->\n",
       "<g id=\"edge37\" class=\"edge\">\n",
       "<title>callgraphX&#45;&gt;callgraphX__tile_5_2</title>\n",
       "<path fill=\"none\" stroke=\"#838b8b\" stroke-dasharray=\"5,2\" d=\"M3748.68,-1919.77C3740.82,-1915.31 3731.68,-1910.95 3722.72,-1908.54 3597.87,-1874.98 2680.02,-1919.9 2559.72,-1872.54 2550.54,-1868.93 2343.89,-1685.38 2258.82,-1609.62\"/>\n",
       "<polygon fill=\"#838b8b\" stroke=\"#838b8b\" points=\"2261.18,-1607.04 2251.39,-1603 2256.53,-1612.27 2261.18,-1607.04\"/>\n",
       "</g>\n",
       "<!-- callgraphX__tile_5_3 -->\n",
       "<g id=\"node44\" class=\"node\">\n",
       "<title>callgraphX__tile_5_3</title>\n",
       "<ellipse fill=\"#fecccc\" fill-opacity=\"0.698039\" stroke=\"black\" cx=\"1453.72\" cy=\"-948.27\" rx=\"82.96\" ry=\"26.74\"/>\n",
       "<text text-anchor=\"middle\" x=\"1453.72\" y=\"-952.07\" font-family=\"Times,serif\" font-size=\"14.00\" fill=\"#000000\">tile_5_3</text>\n",
       "<text text-anchor=\"middle\" x=\"1453.72\" y=\"-937.07\" font-family=\"Times,serif\" font-size=\"14.00\" fill=\"#000000\">(callgraph.py:269)</text>\n",
       "</g>\n",
       "<!-- callgraphX&#45;&gt;callgraphX__tile_5_3 -->\n",
       "<g id=\"edge34\" class=\"edge\">\n",
       "<title>callgraphX&#45;&gt;callgraphX__tile_5_3</title>\n",
       "<path fill=\"none\" stroke=\"#838b8b\" stroke-dasharray=\"5,2\" d=\"M3748.7,-1919.67C3740.84,-1915.2 3731.71,-1910.87 3722.72,-1908.54 3644.98,-1888.41 890.94,-1926.79 831.72,-1872.54 800.1,-1843.57 783.24,-1133.8 810.72,-1100.88 971.99,-907.74 1118.96,-1037.51 1362.72,-975.14 1369.04,-973.52 1375.59,-971.79 1382.15,-970\"/>\n",
       "<polygon fill=\"#838b8b\" stroke=\"#838b8b\" points=\"1382.98,-973.41 1391.69,-967.38 1381.12,-966.66 1382.98,-973.41\"/>\n",
       "</g>\n",
       "<!-- callgraphX__tile_5_4 -->\n",
       "<g id=\"node45\" class=\"node\">\n",
       "<title>callgraphX__tile_5_4</title>\n",
       "<ellipse fill=\"#fecccc\" fill-opacity=\"0.698039\" stroke=\"black\" cx=\"1912.72\" cy=\"-1038.01\" rx=\"82.96\" ry=\"26.74\"/>\n",
       "<text text-anchor=\"middle\" x=\"1912.72\" y=\"-1041.81\" font-family=\"Times,serif\" font-size=\"14.00\" fill=\"#000000\">tile_5_4</text>\n",
       "<text text-anchor=\"middle\" x=\"1912.72\" y=\"-1026.81\" font-family=\"Times,serif\" font-size=\"14.00\" fill=\"#000000\">(callgraph.py:274)</text>\n",
       "</g>\n",
       "<!-- callgraphX&#45;&gt;callgraphX__tile_5_4 -->\n",
       "<g id=\"edge33\" class=\"edge\">\n",
       "<title>callgraphX&#45;&gt;callgraphX__tile_5_4</title>\n",
       "<path fill=\"none\" stroke=\"#838b8b\" stroke-dasharray=\"5,2\" d=\"M3748.7,-1919.67C3740.84,-1915.21 3731.71,-1910.87 3722.72,-1908.54 3645.89,-1888.64 922.62,-1927.88 865.72,-1872.54 834.97,-1842.63 807.17,-1131.98 836.72,-1100.88 863.9,-1072.29 1506.36,-1067.27 1545.72,-1064.88 1639.57,-1059.19 1746.83,-1051.49 1821.05,-1045.98\"/>\n",
       "<polygon fill=\"#838b8b\" stroke=\"#838b8b\" points=\"1820.99,-1049.49 1830.7,-1045.26 1820.47,-1042.51 1820.99,-1049.49\"/>\n",
       "</g>\n",
       "<!-- callgraphX__tile_5_5 -->\n",
       "<g id=\"node46\" class=\"node\">\n",
       "<title>callgraphX__tile_5_5</title>\n",
       "<ellipse fill=\"#fecccc\" fill-opacity=\"0.698039\" stroke=\"black\" cx=\"2134.72\" cy=\"-1307.23\" rx=\"82.96\" ry=\"26.74\"/>\n",
       "<text text-anchor=\"middle\" x=\"2134.72\" y=\"-1311.03\" font-family=\"Times,serif\" font-size=\"14.00\" fill=\"#000000\">tile_5_5</text>\n",
       "<text text-anchor=\"middle\" x=\"2134.72\" y=\"-1296.03\" font-family=\"Times,serif\" font-size=\"14.00\" fill=\"#000000\">(callgraph.py:279)</text>\n",
       "</g>\n",
       "<!-- callgraphX&#45;&gt;callgraphX__tile_5_5 -->\n",
       "<g id=\"edge29\" class=\"edge\">\n",
       "<title>callgraphX&#45;&gt;callgraphX__tile_5_5</title>\n",
       "<path fill=\"none\" stroke=\"#838b8b\" stroke-dasharray=\"5,2\" d=\"M3748.68,-1919.77C3740.82,-1915.31 3731.68,-1910.96 3722.72,-1908.54 3662.72,-1892.37 2650.74,-1914.31 2604.72,-1872.54 2566.36,-1837.72 2589.72,-1808.75 2589.72,-1756.93 2589.72,-1756.93 2589.72,-1756.93 2589.72,-1485.71 2589.72,-1406.82 2349.33,-1348.85 2218.02,-1323.06\"/>\n",
       "<polygon fill=\"#838b8b\" stroke=\"#838b8b\" points=\"2218.79,-1319.65 2208.31,-1321.18 2217.46,-1326.52 2218.79,-1319.65\"/>\n",
       "</g>\n",
       "<!-- callgraphX__tile_5_6 -->\n",
       "<g id=\"node47\" class=\"node\">\n",
       "<title>callgraphX__tile_5_6</title>\n",
       "<ellipse fill=\"#fecccc\" fill-opacity=\"0.698039\" stroke=\"black\" cx=\"1916.72\" cy=\"-140.61\" rx=\"82.96\" ry=\"26.74\"/>\n",
       "<text text-anchor=\"middle\" x=\"1916.72\" y=\"-144.41\" font-family=\"Times,serif\" font-size=\"14.00\" fill=\"#000000\">tile_5_6</text>\n",
       "<text text-anchor=\"middle\" x=\"1916.72\" y=\"-129.41\" font-family=\"Times,serif\" font-size=\"14.00\" fill=\"#000000\">(callgraph.py:287)</text>\n",
       "</g>\n",
       "<!-- callgraphX&#45;&gt;callgraphX__tile_5_6 -->\n",
       "<g id=\"edge25\" class=\"edge\">\n",
       "<title>callgraphX&#45;&gt;callgraphX__tile_5_6</title>\n",
       "<path fill=\"none\" stroke=\"#838b8b\" stroke-dasharray=\"5,2\" d=\"M3748.1,-1919.82C3740.35,-1915.48 3731.42,-1911.18 3722.72,-1908.54 3641.77,-1883.98 3404.06,-1931.85 3343.72,-1872.54 3306.85,-1836.3 3330.72,-1808.64 3330.72,-1756.93 3330.72,-1756.93 3330.72,-1756.93 3330.72,-319.09 3330.72,-116.34 2627.49,-223.37 2425.72,-203.48 2258.22,-186.97 2215.29,-191.7 2048.72,-167.48 2031.57,-164.99 2013.26,-161.76 1995.91,-158.44\"/>\n",
       "<polygon fill=\"#838b8b\" stroke=\"#838b8b\" points=\"1996.65,-155.02 1986.16,-156.54 1995.31,-161.89 1996.65,-155.02\"/>\n",
       "</g>\n",
       "<!-- callgraphX__tile_5_7 -->\n",
       "<g id=\"node48\" class=\"node\">\n",
       "<title>callgraphX__tile_5_7</title>\n",
       "<ellipse fill=\"#fecccc\" fill-opacity=\"0.698039\" stroke=\"black\" cx=\"2099.72\" cy=\"-230.35\" rx=\"82.96\" ry=\"26.74\"/>\n",
       "<text text-anchor=\"middle\" x=\"2099.72\" y=\"-234.15\" font-family=\"Times,serif\" font-size=\"14.00\" fill=\"#000000\">tile_5_7</text>\n",
       "<text text-anchor=\"middle\" x=\"2099.72\" y=\"-219.15\" font-family=\"Times,serif\" font-size=\"14.00\" fill=\"#000000\">(callgraph.py:292)</text>\n",
       "</g>\n",
       "<!-- callgraphX&#45;&gt;callgraphX__tile_5_7 -->\n",
       "<g id=\"edge23\" class=\"edge\">\n",
       "<title>callgraphX&#45;&gt;callgraphX__tile_5_7</title>\n",
       "<path fill=\"none\" stroke=\"#838b8b\" stroke-dasharray=\"5,2\" d=\"M3748.12,-1919.77C3740.36,-1915.42 3731.43,-1911.14 3722.72,-1908.54 3632.1,-1881.55 3365.64,-1939.35 3298.72,-1872.54 3262.23,-1836.1 3288.72,-1808.51 3288.72,-1756.93 3288.72,-1756.93 3288.72,-1756.93 3288.72,-408.83 3288.72,-382.79 3289.27,-310.42 3269.72,-293.22 3226.82,-255.48 2298.54,-263.36 2241.72,-257.22 2221.33,-255.02 2199.47,-251.58 2179.15,-247.92\"/>\n",
       "<polygon fill=\"#838b8b\" stroke=\"#838b8b\" points=\"2180,-244.52 2169.53,-246.15 2178.73,-251.4 2180,-244.52\"/>\n",
       "</g>\n",
       "<!-- callgraphX__tile_5_8 -->\n",
       "<g id=\"node49\" class=\"node\">\n",
       "<title>callgraphX__tile_5_8</title>\n",
       "<ellipse fill=\"#fecccc\" fill-opacity=\"0.698039\" stroke=\"black\" cx=\"2140.72\" cy=\"-140.61\" rx=\"82.96\" ry=\"26.74\"/>\n",
       "<text text-anchor=\"middle\" x=\"2140.72\" y=\"-144.41\" font-family=\"Times,serif\" font-size=\"14.00\" fill=\"#000000\">tile_5_8</text>\n",
       "<text text-anchor=\"middle\" x=\"2140.72\" y=\"-129.41\" font-family=\"Times,serif\" font-size=\"14.00\" fill=\"#000000\">(callgraph.py:300)</text>\n",
       "</g>\n",
       "<!-- callgraphX&#45;&gt;callgraphX__tile_5_8 -->\n",
       "<g id=\"edge19\" class=\"edge\">\n",
       "<title>callgraphX&#45;&gt;callgraphX__tile_5_8</title>\n",
       "<path fill=\"none\" stroke=\"#838b8b\" stroke-dasharray=\"5,2\" d=\"M3748.09,-1919.86C3740.33,-1915.53 3731.41,-1911.22 3722.72,-1908.54 3648.64,-1885.72 3433.46,-1924.28 3375.72,-1872.54 3336.57,-1837.46 3350.72,-1809.5 3350.72,-1756.93 3350.72,-1756.93 3350.72,-1756.93 3350.72,-319.09 3350.72,-293.18 3354.9,-220.89 3335.72,-203.48 3290.29,-162.23 2292.36,-176.94 2231.72,-167.48 2224.31,-166.32 2216.64,-164.76 2209.05,-162.96\"/>\n",
       "<polygon fill=\"#838b8b\" stroke=\"#838b8b\" points=\"2210.04,-159.6 2199.49,-160.56 2208.33,-166.39 2210.04,-159.6\"/>\n",
       "</g>\n",
       "<!-- callgraphX__tile_6_0 -->\n",
       "<g id=\"node50\" class=\"node\">\n",
       "<title>callgraphX__tile_6_0</title>\n",
       "<ellipse fill=\"#fecccc\" fill-opacity=\"0.698039\" stroke=\"black\" cx=\"1162.72\" cy=\"-1486.71\" rx=\"82.96\" ry=\"26.74\"/>\n",
       "<text text-anchor=\"middle\" x=\"1162.72\" y=\"-1490.51\" font-family=\"Times,serif\" font-size=\"14.00\" fill=\"#000000\">tile_6_0</text>\n",
       "<text text-anchor=\"middle\" x=\"1162.72\" y=\"-1475.51\" font-family=\"Times,serif\" font-size=\"14.00\" fill=\"#000000\">(callgraph.py:305)</text>\n",
       "</g>\n",
       "<!-- callgraphX&#45;&gt;callgraphX__tile_6_0 -->\n",
       "<g id=\"edge12\" class=\"edge\">\n",
       "<title>callgraphX&#45;&gt;callgraphX__tile_6_0</title>\n",
       "<path fill=\"none\" stroke=\"#838b8b\" stroke-dasharray=\"5,2\" d=\"M3748.7,-1919.67C3740.84,-1915.21 3731.7,-1910.87 3722.72,-1908.54 3648.75,-1889.36 1032.05,-1919.46 971.72,-1872.54 929.73,-1839.89 940.72,-1810.13 940.72,-1756.93 940.72,-1756.93 940.72,-1756.93 940.72,-1665.19 940.72,-1585.85 1028.31,-1536.16 1093.45,-1510.17\"/>\n",
       "<polygon fill=\"#838b8b\" stroke=\"#838b8b\" points=\"1094.63,-1513.47 1102.69,-1506.6 1092.11,-1506.94 1094.63,-1513.47\"/>\n",
       "</g>\n",
       "<!-- callgraphX__tile_6_1 -->\n",
       "<g id=\"node51\" class=\"node\">\n",
       "<title>callgraphX__tile_6_1</title>\n",
       "<ellipse fill=\"#fecccc\" fill-opacity=\"0.698039\" stroke=\"black\" cx=\"1388.72\" cy=\"-1755.93\" rx=\"82.96\" ry=\"26.74\"/>\n",
       "<text text-anchor=\"middle\" x=\"1388.72\" y=\"-1759.73\" font-family=\"Times,serif\" font-size=\"14.00\" fill=\"#000000\">tile_6_1</text>\n",
       "<text text-anchor=\"middle\" x=\"1388.72\" y=\"-1744.73\" font-family=\"Times,serif\" font-size=\"14.00\" fill=\"#000000\">(callgraph.py:310)</text>\n",
       "</g>\n",
       "<!-- callgraphX&#45;&gt;callgraphX__tile_6_1 -->\n",
       "<g id=\"edge8\" class=\"edge\">\n",
       "<title>callgraphX&#45;&gt;callgraphX__tile_6_1</title>\n",
       "<path fill=\"none\" stroke=\"#838b8b\" stroke-dasharray=\"5,2\" d=\"M3748.7,-1919.7C3740.84,-1915.24 3731.7,-1910.89 3722.72,-1908.54 3509.33,-1852.64 1955.17,-1909.65 1737.72,-1872.54 1632.46,-1854.58 1515.73,-1810.72 1447.47,-1782.48\"/>\n",
       "<polygon fill=\"#838b8b\" stroke=\"#838b8b\" points=\"1448.92,-1779.29 1438.34,-1778.67 1446.22,-1785.75 1448.92,-1779.29\"/>\n",
       "</g>\n",
       "<!-- callgraphX__tile_6_2 -->\n",
       "<g id=\"node52\" class=\"node\">\n",
       "<title>callgraphX__tile_6_2</title>\n",
       "<ellipse fill=\"#fecccc\" fill-opacity=\"0.698039\" stroke=\"black\" cx=\"1833.72\" cy=\"-1666.19\" rx=\"82.96\" ry=\"26.74\"/>\n",
       "<text text-anchor=\"middle\" x=\"1833.72\" y=\"-1669.99\" font-family=\"Times,serif\" font-size=\"14.00\" fill=\"#000000\">tile_6_2</text>\n",
       "<text text-anchor=\"middle\" x=\"1833.72\" y=\"-1654.99\" font-family=\"Times,serif\" font-size=\"14.00\" fill=\"#000000\">(callgraph.py:318)</text>\n",
       "</g>\n",
       "<!-- callgraphX&#45;&gt;callgraphX__tile_6_2 -->\n",
       "<g id=\"edge3\" class=\"edge\">\n",
       "<title>callgraphX&#45;&gt;callgraphX__tile_6_2</title>\n",
       "<path fill=\"none\" stroke=\"#838b8b\" stroke-dasharray=\"5,2\" d=\"M3748.69,-1919.74C3740.83,-1915.27 3731.69,-1910.92 3722.72,-1908.54 3413.14,-1826.3 2593.8,-1944.75 2281.72,-1872.54 2126.25,-1836.57 1959.5,-1744 1880.45,-1696.41\"/>\n",
       "<polygon fill=\"#838b8b\" stroke=\"#838b8b\" points=\"1882.46,-1693.53 1872.09,-1691.34 1878.83,-1699.52 1882.46,-1693.53\"/>\n",
       "</g>\n",
       "<!-- callgraphX__tile_6_3 -->\n",
       "<g id=\"node53\" class=\"node\">\n",
       "<title>callgraphX__tile_6_3</title>\n",
       "<ellipse fill=\"#fecccc\" fill-opacity=\"0.698039\" stroke=\"black\" cx=\"1873.72\" cy=\"-1576.45\" rx=\"82.96\" ry=\"26.74\"/>\n",
       "<text text-anchor=\"middle\" x=\"1873.72\" y=\"-1580.25\" font-family=\"Times,serif\" font-size=\"14.00\" fill=\"#000000\">tile_6_3</text>\n",
       "<text text-anchor=\"middle\" x=\"1873.72\" y=\"-1565.25\" font-family=\"Times,serif\" font-size=\"14.00\" fill=\"#000000\">(callgraph.py:326)</text>\n",
       "</g>\n",
       "<!-- callgraphX&#45;&gt;callgraphX__tile_6_3 -->\n",
       "<g id=\"edge63\" class=\"edge\">\n",
       "<title>callgraphX&#45;&gt;callgraphX__tile_6_3</title>\n",
       "<path fill=\"none\" stroke=\"#838b8b\" stroke-dasharray=\"5,2\" d=\"M3748.68,-1919.76C3740.82,-1915.3 3731.69,-1910.94 3722.72,-1908.54 3458.16,-1837.66 2756.92,-1937.03 2490.72,-1872.54 2262.01,-1817.14 2017.62,-1670.65 1918.91,-1607.32\"/>\n",
       "<polygon fill=\"#838b8b\" stroke=\"#838b8b\" points=\"1920.84,-1604.4 1910.53,-1601.92 1917.04,-1610.28 1920.84,-1604.4\"/>\n",
       "</g>\n",
       "<!-- callgraphX__tile_6_4 -->\n",
       "<g id=\"node54\" class=\"node\">\n",
       "<title>callgraphX__tile_6_4</title>\n",
       "<ellipse fill=\"#fecccc\" fill-opacity=\"0.698039\" stroke=\"black\" cx=\"1873.72\" cy=\"-1486.71\" rx=\"82.96\" ry=\"26.74\"/>\n",
       "<text text-anchor=\"middle\" x=\"1873.72\" y=\"-1490.51\" font-family=\"Times,serif\" font-size=\"14.00\" fill=\"#000000\">tile_6_4</text>\n",
       "<text text-anchor=\"middle\" x=\"1873.72\" y=\"-1475.51\" font-family=\"Times,serif\" font-size=\"14.00\" fill=\"#000000\">(callgraph.py:334)</text>\n",
       "</g>\n",
       "<!-- callgraphX&#45;&gt;callgraphX__tile_6_4 -->\n",
       "<g id=\"edge61\" class=\"edge\">\n",
       "<title>callgraphX&#45;&gt;callgraphX__tile_6_4</title>\n",
       "<path fill=\"none\" stroke=\"#838b8b\" stroke-dasharray=\"5,2\" d=\"M3748.7,-1919.69C3740.84,-1915.22 3731.7,-1910.88 3722.72,-1908.54 3467.97,-1842.2 1614,-1912.05 1353.72,-1872.54 1173.72,-1845.22 960.72,-1939 960.72,-1756.93 960.72,-1756.93 960.72,-1756.93 960.72,-1665.19 960.72,-1582.02 1552.04,-1517.77 1782.92,-1495.85\"/>\n",
       "<polygon fill=\"#838b8b\" stroke=\"#838b8b\" points=\"1783.16,-1499.35 1792.79,-1494.92 1782.51,-1492.38 1783.16,-1499.35\"/>\n",
       "</g>\n",
       "<!-- callgraphX__tile_6_5 -->\n",
       "<g id=\"node55\" class=\"node\">\n",
       "<title>callgraphX__tile_6_5</title>\n",
       "<ellipse fill=\"#fecccc\" fill-opacity=\"0.698039\" stroke=\"black\" cx=\"2134.72\" cy=\"-1396.97\" rx=\"82.96\" ry=\"26.74\"/>\n",
       "<text text-anchor=\"middle\" x=\"2134.72\" y=\"-1400.77\" font-family=\"Times,serif\" font-size=\"14.00\" fill=\"#000000\">tile_6_5</text>\n",
       "<text text-anchor=\"middle\" x=\"2134.72\" y=\"-1385.77\" font-family=\"Times,serif\" font-size=\"14.00\" fill=\"#000000\">(callgraph.py:342)</text>\n",
       "</g>\n",
       "<!-- callgraphX&#45;&gt;callgraphX__tile_6_5 -->\n",
       "<g id=\"edge56\" class=\"edge\">\n",
       "<title>callgraphX&#45;&gt;callgraphX__tile_6_5</title>\n",
       "<path fill=\"none\" stroke=\"#838b8b\" stroke-dasharray=\"5,2\" d=\"M3748.68,-1919.77C3740.82,-1915.31 3731.68,-1910.95 3722.72,-1908.54 3661.65,-1892.1 2632.46,-1914.04 2584.72,-1872.54 2545.37,-1838.33 2564.72,-1809.08 2564.72,-1756.93 2564.72,-1756.93 2564.72,-1756.93 2564.72,-1575.45 2564.72,-1536.99 2326.61,-1457.49 2204.77,-1419.33\"/>\n",
       "<polygon fill=\"#838b8b\" stroke=\"#838b8b\" points=\"2206.1,-1416.08 2195.51,-1416.44 2204.01,-1422.76 2206.1,-1416.08\"/>\n",
       "</g>\n",
       "<!-- callgraphX__tile_6_6 -->\n",
       "<g id=\"node56\" class=\"node\">\n",
       "<title>callgraphX__tile_6_6</title>\n",
       "<ellipse fill=\"#fecccc\" fill-opacity=\"0.698039\" stroke=\"black\" cx=\"2376.72\" cy=\"-1038.01\" rx=\"82.96\" ry=\"26.74\"/>\n",
       "<text text-anchor=\"middle\" x=\"2376.72\" y=\"-1041.81\" font-family=\"Times,serif\" font-size=\"14.00\" fill=\"#000000\">tile_6_6</text>\n",
       "<text text-anchor=\"middle\" x=\"2376.72\" y=\"-1026.81\" font-family=\"Times,serif\" font-size=\"14.00\" fill=\"#000000\">(callgraph.py:350)</text>\n",
       "</g>\n",
       "<!-- callgraphX&#45;&gt;callgraphX__tile_6_6 -->\n",
       "<g id=\"edge51\" class=\"edge\">\n",
       "<title>callgraphX&#45;&gt;callgraphX__tile_6_6</title>\n",
       "<path fill=\"none\" stroke=\"#838b8b\" stroke-dasharray=\"5,2\" d=\"M3748.19,-1919.53C3740.43,-1915.17 3731.49,-1910.93 3722.72,-1908.54 3620.27,-1880.63 2847.36,-1942.78 2767.72,-1872.54 2728.67,-1838.1 2748.72,-1809 2748.72,-1756.93 2748.72,-1756.93 2748.72,-1756.93 2748.72,-1216.49 2748.72,-1182.81 2547.5,-1102.67 2441.04,-1062.63\"/>\n",
       "<polygon fill=\"#838b8b\" stroke=\"#838b8b\" points=\"2442.43,-1059.41 2431.84,-1059.18 2439.97,-1065.96 2442.43,-1059.41\"/>\n",
       "</g>\n",
       "<!-- callgraphX__tile_6_7 -->\n",
       "<g id=\"node57\" class=\"node\">\n",
       "<title>callgraphX__tile_6_7</title>\n",
       "<ellipse fill=\"#fecccc\" fill-opacity=\"0.698039\" stroke=\"black\" cx=\"2323.72\" cy=\"-140.61\" rx=\"82.96\" ry=\"26.74\"/>\n",
       "<text text-anchor=\"middle\" x=\"2323.72\" y=\"-144.41\" font-family=\"Times,serif\" font-size=\"14.00\" fill=\"#000000\">tile_6_7</text>\n",
       "<text text-anchor=\"middle\" x=\"2323.72\" y=\"-129.41\" font-family=\"Times,serif\" font-size=\"14.00\" fill=\"#000000\">(callgraph.py:355)</text>\n",
       "</g>\n",
       "<!-- callgraphX&#45;&gt;callgraphX__tile_6_7 -->\n",
       "<g id=\"edge43\" class=\"edge\">\n",
       "<title>callgraphX&#45;&gt;callgraphX__tile_6_7</title>\n",
       "<path fill=\"none\" stroke=\"#838b8b\" stroke-dasharray=\"5,2\" d=\"M3748.07,-1919.91C3740.31,-1915.58 3731.4,-1911.26 3722.72,-1908.54 3654.86,-1887.29 3456.67,-1921.12 3404.72,-1872.54 3366.58,-1836.87 3383.72,-1809.16 3383.72,-1756.93 3383.72,-1756.93 3383.72,-1756.93 3383.72,-319.09 3383.72,-266.22 3396.61,-236.99 3355.72,-203.48 3317.02,-171.76 2505.42,-173.31 2455.72,-167.48 2438.14,-165.42 2419.39,-162.31 2401.71,-158.95\"/>\n",
       "<polygon fill=\"#838b8b\" stroke=\"#838b8b\" points=\"2402.53,-155.55 2392.05,-157.07 2401.19,-162.42 2402.53,-155.55\"/>\n",
       "</g>\n",
       "<!-- callgraphX__tile_6_8 -->\n",
       "<g id=\"node58\" class=\"node\">\n",
       "<title>callgraphX__tile_6_8</title>\n",
       "<ellipse fill=\"#fecccc\" fill-opacity=\"0.698039\" stroke=\"black\" cx=\"2547.72\" cy=\"-140.61\" rx=\"82.96\" ry=\"26.74\"/>\n",
       "<text text-anchor=\"middle\" x=\"2547.72\" y=\"-144.41\" font-family=\"Times,serif\" font-size=\"14.00\" fill=\"#000000\">tile_6_8</text>\n",
       "<text text-anchor=\"middle\" x=\"2547.72\" y=\"-129.41\" font-family=\"Times,serif\" font-size=\"14.00\" fill=\"#000000\">(callgraph.py:361)</text>\n",
       "</g>\n",
       "<!-- callgraphX&#45;&gt;callgraphX__tile_6_8 -->\n",
       "<g id=\"edge15\" class=\"edge\">\n",
       "<title>callgraphX&#45;&gt;callgraphX__tile_6_8</title>\n",
       "<path fill=\"none\" stroke=\"#838b8b\" stroke-dasharray=\"5,2\" d=\"M3747.56,-1919.73C3739.91,-1915.49 3731.19,-1911.28 3722.72,-1908.54 3605.85,-1870.78 3545.37,-1948.34 3448.72,-1872.54 3405.34,-1838.51 3403.72,-1812.07 3403.72,-1756.93 3403.72,-1756.93 3403.72,-1756.93 3403.72,-319.09 3403.72,-293.18 3407.77,-221.04 3388.72,-203.48 3327.39,-146.93 2721.05,-180.98 2638.72,-167.48 2631.51,-166.3 2624.06,-164.75 2616.67,-162.99\"/>\n",
       "<polygon fill=\"#838b8b\" stroke=\"#838b8b\" points=\"2617.55,-159.6 2607,-160.55 2615.84,-166.39 2617.55,-159.6\"/>\n",
       "</g>\n",
       "<!-- callgraphX__tile_7_0 -->\n",
       "<g id=\"node59\" class=\"node\">\n",
       "<title>callgraphX__tile_7_0</title>\n",
       "<ellipse fill=\"#fecccc\" fill-opacity=\"0.698039\" stroke=\"black\" cx=\"2730.72\" cy=\"-140.61\" rx=\"82.96\" ry=\"26.74\"/>\n",
       "<text text-anchor=\"middle\" x=\"2730.72\" y=\"-144.41\" font-family=\"Times,serif\" font-size=\"14.00\" fill=\"#000000\">tile_7_0</text>\n",
       "<text text-anchor=\"middle\" x=\"2730.72\" y=\"-129.41\" font-family=\"Times,serif\" font-size=\"14.00\" fill=\"#000000\">(callgraph.py:366)</text>\n",
       "</g>\n",
       "<!-- callgraphX&#45;&gt;callgraphX__tile_7_0 -->\n",
       "<g id=\"edge9\" class=\"edge\">\n",
       "<title>callgraphX&#45;&gt;callgraphX__tile_7_0</title>\n",
       "<path fill=\"none\" stroke=\"#838b8b\" stroke-dasharray=\"5,2\" d=\"M3747.53,-1919.81C3739.89,-1915.57 3731.17,-1911.34 3722.72,-1908.54 3670.49,-1891.23 3517.13,-1910.96 3477.72,-1872.54 3440.39,-1836.14 3457.72,-1809.08 3457.72,-1756.93 3457.72,-1756.93 3457.72,-1756.93 3457.72,-319.09 3457.72,-263.28 3454.29,-235.7 3408.72,-203.48 3355.37,-165.75 2886.14,-178.48 2821.72,-167.48 2814.52,-166.25 2807.07,-164.67 2799.68,-162.89\"/>\n",
       "<polygon fill=\"#838b8b\" stroke=\"#838b8b\" points=\"2800.57,-159.5 2790.02,-160.44 2798.85,-166.29 2800.57,-159.5\"/>\n",
       "</g>\n",
       "<!-- callgraphX__tile_7_1 -->\n",
       "<g id=\"node60\" class=\"node\">\n",
       "<title>callgraphX__tile_7_1</title>\n",
       "<ellipse fill=\"#fecccc\" fill-opacity=\"0.698039\" stroke=\"black\" cx=\"1182.72\" cy=\"-1666.19\" rx=\"82.96\" ry=\"26.74\"/>\n",
       "<text text-anchor=\"middle\" x=\"1182.72\" y=\"-1669.99\" font-family=\"Times,serif\" font-size=\"14.00\" fill=\"#000000\">tile_7_1</text>\n",
       "<text text-anchor=\"middle\" x=\"1182.72\" y=\"-1654.99\" font-family=\"Times,serif\" font-size=\"14.00\" fill=\"#000000\">(callgraph.py:371)</text>\n",
       "</g>\n",
       "<!-- callgraphX&#45;&gt;callgraphX__tile_7_1 -->\n",
       "<g id=\"edge4\" class=\"edge\">\n",
       "<title>callgraphX&#45;&gt;callgraphX__tile_7_1</title>\n",
       "<path fill=\"none\" stroke=\"#838b8b\" stroke-dasharray=\"5,2\" d=\"M3748.7,-1919.69C3740.84,-1915.23 3731.7,-1910.89 3722.72,-1908.54 3488.11,-1847.28 1779.09,-1917.02 1540.72,-1872.54 1427.14,-1851.35 1393.85,-1845.39 1296.72,-1782.8 1262.39,-1760.68 1230.4,-1726.55 1209.1,-1701.11\"/>\n",
       "<polygon fill=\"#838b8b\" stroke=\"#838b8b\" points=\"1212.04,-1699.17 1202.98,-1693.67 1206.63,-1703.62 1212.04,-1699.17\"/>\n",
       "</g>\n",
       "<!-- callgraphX__tile_7_2 -->\n",
       "<g id=\"node61\" class=\"node\">\n",
       "<title>callgraphX__tile_7_2</title>\n",
       "<ellipse fill=\"#fecccc\" fill-opacity=\"0.698039\" stroke=\"black\" cx=\"1282.72\" cy=\"-1396.97\" rx=\"82.96\" ry=\"26.74\"/>\n",
       "<text text-anchor=\"middle\" x=\"1282.72\" y=\"-1400.77\" font-family=\"Times,serif\" font-size=\"14.00\" fill=\"#000000\">tile_7_2</text>\n",
       "<text text-anchor=\"middle\" x=\"1282.72\" y=\"-1385.77\" font-family=\"Times,serif\" font-size=\"14.00\" fill=\"#000000\">(callgraph.py:376)</text>\n",
       "</g>\n",
       "<!-- callgraphX&#45;&gt;callgraphX__tile_7_2 -->\n",
       "<g id=\"edge64\" class=\"edge\">\n",
       "<title>callgraphX&#45;&gt;callgraphX__tile_7_2</title>\n",
       "<path fill=\"none\" stroke=\"#838b8b\" stroke-dasharray=\"5,2\" d=\"M3748.7,-1919.67C3740.84,-1915.21 3731.7,-1910.87 3722.72,-1908.54 3647.78,-1889.12 993.55,-1924.02 935.72,-1872.54 897.02,-1838.09 920.72,-1808.75 920.72,-1756.93 920.72,-1756.93 920.72,-1756.93 920.72,-1575.45 920.72,-1435.89 1061.78,-1463.04 1195.72,-1423.84 1201.07,-1422.28 1206.6,-1420.65 1212.15,-1419.01\"/>\n",
       "<polygon fill=\"#838b8b\" stroke=\"#838b8b\" points=\"1212.79,-1422.47 1221.39,-1416.28 1210.81,-1415.76 1212.79,-1422.47\"/>\n",
       "</g>\n",
       "<!-- callgraphX__tile_7_3 -->\n",
       "<g id=\"node62\" class=\"node\">\n",
       "<title>callgraphX__tile_7_3</title>\n",
       "<ellipse fill=\"#fecccc\" fill-opacity=\"0.698039\" stroke=\"black\" cx=\"2600.72\" cy=\"-1217.49\" rx=\"82.96\" ry=\"26.74\"/>\n",
       "<text text-anchor=\"middle\" x=\"2600.72\" y=\"-1221.29\" font-family=\"Times,serif\" font-size=\"14.00\" fill=\"#000000\">tile_7_3</text>\n",
       "<text text-anchor=\"middle\" x=\"2600.72\" y=\"-1206.29\" font-family=\"Times,serif\" font-size=\"14.00\" fill=\"#000000\">(callgraph.py:381)</text>\n",
       "</g>\n",
       "<!-- callgraphX&#45;&gt;callgraphX__tile_7_3 -->\n",
       "<g id=\"edge60\" class=\"edge\">\n",
       "<title>callgraphX&#45;&gt;callgraphX__tile_7_3</title>\n",
       "<path fill=\"none\" stroke=\"#838b8b\" stroke-dasharray=\"5,2\" d=\"M3748.19,-1919.52C3740.44,-1915.16 3731.49,-1910.92 3722.72,-1908.54 3668.64,-1893.87 2756.94,-1909.39 2714.72,-1872.54 2675.44,-1838.25 2694.72,-1809.08 2694.72,-1756.93 2694.72,-1756.93 2694.72,-1756.93 2694.72,-1395.97 2694.72,-1343.21 2694.28,-1325.96 2667.72,-1280.36 2661.19,-1269.14 2651.97,-1258.77 2642.46,-1249.84\"/>\n",
       "<polygon fill=\"#838b8b\" stroke=\"#838b8b\" points=\"2645.01,-1247.42 2635.21,-1243.39 2640.35,-1252.65 2645.01,-1247.42\"/>\n",
       "</g>\n",
       "<!-- callgraphX__tile_7_4 -->\n",
       "<g id=\"node63\" class=\"node\">\n",
       "<title>callgraphX__tile_7_4</title>\n",
       "<ellipse fill=\"#fecccc\" fill-opacity=\"0.698039\" stroke=\"black\" cx=\"1162.72\" cy=\"-1127.75\" rx=\"82.96\" ry=\"26.74\"/>\n",
       "<text text-anchor=\"middle\" x=\"1162.72\" y=\"-1131.55\" font-family=\"Times,serif\" font-size=\"14.00\" fill=\"#000000\">tile_7_4</text>\n",
       "<text text-anchor=\"middle\" x=\"1162.72\" y=\"-1116.55\" font-family=\"Times,serif\" font-size=\"14.00\" fill=\"#000000\">(callgraph.py:386)</text>\n",
       "</g>\n",
       "<!-- callgraphX&#45;&gt;callgraphX__tile_7_4 -->\n",
       "<g id=\"edge57\" class=\"edge\">\n",
       "<title>callgraphX&#45;&gt;callgraphX__tile_7_4</title>\n",
       "<path fill=\"none\" stroke=\"#838b8b\" stroke-dasharray=\"5,2\" d=\"M3748.7,-1919.67C3740.84,-1915.21 3731.7,-1910.87 3722.72,-1908.54 3647.05,-1888.93 965.53,-1926.24 908.72,-1872.54 871.29,-1837.16 900.72,-1808.44 900.72,-1756.93 900.72,-1756.93 900.72,-1756.93 900.72,-1306.23 900.72,-1216.64 1007.05,-1169.17 1084.23,-1146.51\"/>\n",
       "<polygon fill=\"#838b8b\" stroke=\"#838b8b\" points=\"1084.79,-1149.99 1093.46,-1143.89 1082.88,-1143.26 1084.79,-1149.99\"/>\n",
       "</g>\n",
       "<!-- callgraphX__tile_7_5 -->\n",
       "<g id=\"node64\" class=\"node\">\n",
       "<title>callgraphX__tile_7_5</title>\n",
       "<ellipse fill=\"#fecccc\" fill-opacity=\"0.698039\" stroke=\"black\" cx=\"2396.72\" cy=\"-1307.23\" rx=\"82.96\" ry=\"26.74\"/>\n",
       "<text text-anchor=\"middle\" x=\"2396.72\" y=\"-1311.03\" font-family=\"Times,serif\" font-size=\"14.00\" fill=\"#000000\">tile_7_5</text>\n",
       "<text text-anchor=\"middle\" x=\"2396.72\" y=\"-1296.03\" font-family=\"Times,serif\" font-size=\"14.00\" fill=\"#000000\">(callgraph.py:391)</text>\n",
       "</g>\n",
       "<!-- callgraphX&#45;&gt;callgraphX__tile_7_5 -->\n",
       "<g id=\"edge53\" class=\"edge\">\n",
       "<title>callgraphX&#45;&gt;callgraphX__tile_7_5</title>\n",
       "<path fill=\"none\" stroke=\"#838b8b\" stroke-dasharray=\"5,2\" d=\"M3748.68,-1919.78C3740.81,-1915.32 3731.68,-1910.96 3722.72,-1908.54 3664.45,-1892.81 2682.91,-1911.41 2636.72,-1872.54 2596.57,-1838.75 2612.72,-1809.41 2612.72,-1756.93 2612.72,-1756.93 2612.72,-1756.93 2612.72,-1485.71 2612.72,-1433.71 2628.67,-1409.5 2594.72,-1370.1 2592.5,-1367.52 2523.43,-1346.28 2467.5,-1329.4\"/>\n",
       "<polygon fill=\"#838b8b\" stroke=\"#838b8b\" points=\"2468.54,-1326.06 2457.96,-1326.53 2466.52,-1332.77 2468.54,-1326.06\"/>\n",
       "</g>\n",
       "<!-- callgraphX__tile_7_6 -->\n",
       "<g id=\"node65\" class=\"node\">\n",
       "<title>callgraphX__tile_7_6</title>\n",
       "<ellipse fill=\"#fecccc\" fill-opacity=\"0.698039\" stroke=\"black\" cx=\"2913.72\" cy=\"-140.61\" rx=\"82.96\" ry=\"26.74\"/>\n",
       "<text text-anchor=\"middle\" x=\"2913.72\" y=\"-144.41\" font-family=\"Times,serif\" font-size=\"14.00\" fill=\"#000000\">tile_7_6</text>\n",
       "<text text-anchor=\"middle\" x=\"2913.72\" y=\"-129.41\" font-family=\"Times,serif\" font-size=\"14.00\" fill=\"#000000\">(callgraph.py:396)</text>\n",
       "</g>\n",
       "<!-- callgraphX&#45;&gt;callgraphX__tile_7_6 -->\n",
       "<g id=\"edge50\" class=\"edge\">\n",
       "<title>callgraphX&#45;&gt;callgraphX__tile_7_6</title>\n",
       "<path fill=\"none\" stroke=\"#838b8b\" stroke-dasharray=\"5,2\" d=\"M3747.48,-1919.96C3739.83,-1915.73 3731.13,-1911.47 3722.72,-1908.54 3636.19,-1878.42 3589.87,-1931.5 3519.72,-1872.54 3477.87,-1837.37 3477.72,-1811.6 3477.72,-1756.93 3477.72,-1756.93 3477.72,-1756.93 3477.72,-319.09 3477.72,-293.18 3481.5,-221.33 3462.72,-203.48 3425.73,-168.31 3054.97,-176.5 3004.72,-167.48 2997.64,-166.21 2990.31,-164.61 2983.04,-162.84\"/>\n",
       "<polygon fill=\"#838b8b\" stroke=\"#838b8b\" points=\"2984.09,-159.5 2973.53,-160.42 2982.36,-166.28 2984.09,-159.5\"/>\n",
       "</g>\n",
       "<!-- callgraphX__tile_7_7 -->\n",
       "<g id=\"node66\" class=\"node\">\n",
       "<title>callgraphX__tile_7_7</title>\n",
       "<ellipse fill=\"#fecccc\" fill-opacity=\"0.698039\" stroke=\"black\" cx=\"3096.72\" cy=\"-140.61\" rx=\"82.96\" ry=\"26.74\"/>\n",
       "<text text-anchor=\"middle\" x=\"3096.72\" y=\"-144.41\" font-family=\"Times,serif\" font-size=\"14.00\" fill=\"#000000\">tile_7_7</text>\n",
       "<text text-anchor=\"middle\" x=\"3096.72\" y=\"-129.41\" font-family=\"Times,serif\" font-size=\"14.00\" fill=\"#000000\">(callgraph.py:401)</text>\n",
       "</g>\n",
       "<!-- callgraphX&#45;&gt;callgraphX__tile_7_7 -->\n",
       "<g id=\"edge48\" class=\"edge\">\n",
       "<title>callgraphX&#45;&gt;callgraphX__tile_7_7</title>\n",
       "<path fill=\"none\" stroke=\"#838b8b\" stroke-dasharray=\"5,2\" d=\"M3746.93,-1919.86C3739.4,-1915.73 3730.9,-1911.54 3722.72,-1908.54 3650.22,-1881.95 3608.12,-1926.36 3552.72,-1872.54 3514.8,-1835.7 3524.72,-1809.8 3524.72,-1756.93 3524.72,-1756.93 3524.72,-1756.93 3524.72,-319.09 3524.72,-264.42 3525.51,-237.51 3482.72,-203.48 3431.04,-162.37 3252.46,-180.55 3187.72,-167.48 3180.86,-166.09 3173.75,-164.45 3166.68,-162.68\"/>\n",
       "<polygon fill=\"#838b8b\" stroke=\"#838b8b\" points=\"3167.65,-159.31 3157.09,-160.18 3165.89,-166.09 3167.65,-159.31\"/>\n",
       "</g>\n",
       "<!-- callgraphX__tile_7_8 -->\n",
       "<g id=\"node67\" class=\"node\">\n",
       "<title>callgraphX__tile_7_8</title>\n",
       "<ellipse fill=\"#fecccc\" fill-opacity=\"0.698039\" stroke=\"black\" cx=\"3279.72\" cy=\"-140.61\" rx=\"82.96\" ry=\"26.74\"/>\n",
       "<text text-anchor=\"middle\" x=\"3279.72\" y=\"-144.41\" font-family=\"Times,serif\" font-size=\"14.00\" fill=\"#000000\">tile_7_8</text>\n",
       "<text text-anchor=\"middle\" x=\"3279.72\" y=\"-129.41\" font-family=\"Times,serif\" font-size=\"14.00\" fill=\"#000000\">(callgraph.py:406)</text>\n",
       "</g>\n",
       "<!-- callgraphX&#45;&gt;callgraphX__tile_7_8 -->\n",
       "<g id=\"edge42\" class=\"edge\">\n",
       "<title>callgraphX&#45;&gt;callgraphX__tile_7_8</title>\n",
       "<path fill=\"none\" stroke=\"#838b8b\" stroke-dasharray=\"5,2\" d=\"M3746.27,-1920.02C3738.85,-1915.99 3730.59,-1911.82 3722.72,-1908.54 3672.12,-1887.43 3646.87,-1907.62 3604.72,-1872.54 3560.23,-1835.51 3544.72,-1814.82 3544.72,-1756.93 3544.72,-1756.93 3544.72,-1756.93 3544.72,-319.09 3544.72,-293.18 3547.15,-222.65 3529.72,-203.48 3481.27,-150.19 3441.52,-185.23 3371.72,-167.48 3365.08,-165.79 3358.18,-163.97 3351.28,-162.11\"/>\n",
       "<polygon fill=\"#838b8b\" stroke=\"#838b8b\" points=\"3352.51,-158.81 3341.94,-159.56 3350.66,-165.57 3352.51,-158.81\"/>\n",
       "</g>\n",
       "<!-- callgraphX__maze&#45;&gt;callgraphX__tile_2_1 -->\n",
       "<g id=\"edge83\" class=\"edge\">\n",
       "<title>callgraphX__maze&#45;&gt;callgraphX__tile_2_1</title>\n",
       "<path fill=\"none\" stroke=\"#000000\" d=\"M1595.42,-2201.81C1378.22,-2196.3 765.48,-2177.9 567.72,-2141.76 561.76,-2140.67 555.62,-2139.28 549.52,-2137.7\"/>\n",
       "<polygon fill=\"#000000\" stroke=\"#000000\" points=\"550.64,-2134.38 540.07,-2135.1 548.78,-2141.13 550.64,-2134.38\"/>\n",
       "</g>\n",
       "<!-- callgraphX__tile_1_0&#45;&gt;callgraphX__print_maze -->\n",
       "<g id=\"edge67\" class=\"edge\">\n",
       "<title>callgraphX__tile_1_0&#45;&gt;callgraphX__print_maze</title>\n",
       "<path fill=\"none\" stroke=\"#000000\" d=\"M3404.46,-121.15C3393.72,-118.16 3382.46,-115.48 3371.72,-113.74 3017.67,-56.28 1889.82,-51.85 1570,-51.77\"/>\n",
       "<polygon fill=\"#000000\" stroke=\"#000000\" points=\"1570.03,-48.27 1560.03,-51.77 1570.03,-55.27 1570.03,-48.27\"/>\n",
       "</g>\n",
       "<!-- callgraphX__tile_1_1&#45;&gt;callgraphX__print_maze -->\n",
       "<g id=\"edge68\" class=\"edge\">\n",
       "<title>callgraphX__tile_1_1&#45;&gt;callgraphX__print_maze</title>\n",
       "<path fill=\"none\" stroke=\"#000000\" d=\"M875.94,-1106.33C856.93,-1096.2 836.18,-1082.36 821.72,-1064.88 805.48,-1045.24 816.05,-1032.22 801.72,-1011.14 788.28,-991.36 772.46,-996.52 761.72,-975.14 729.38,-910.73 754.44,-720.59 731.72,-652.18 725.82,-634.39 719.07,-632.44 709.72,-616.18 696.2,-592.65 699.4,-582.13 680.72,-562.44 659.59,-540.15 638.46,-552.2 621.72,-526.44 593.5,-482.99 606.72,-462.64 606.72,-410.83 606.72,-410.83 606.72,-410.83 606.72,-229.35 606.72,-177.54 584.05,-149.31 621.72,-113.74 677.43,-61.14 1192.46,-53.09 1399.32,-51.98\"/>\n",
       "<polygon fill=\"#000000\" stroke=\"#000000\" points=\"1399.22,-55.48 1409.2,-51.93 1399.18,-48.48 1399.22,-55.48\"/>\n",
       "</g>\n",
       "<!-- callgraphX__tile_1_2&#45;&gt;callgraphX__print_maze -->\n",
       "<g id=\"edge69\" class=\"edge\">\n",
       "<title>callgraphX__tile_1_2&#45;&gt;callgraphX__print_maze</title>\n",
       "<path fill=\"none\" stroke=\"#000000\" d=\"M3578.46,-121.13C3567.73,-118.14 3556.46,-115.47 3545.72,-113.74 3156.06,-51.05 1908.6,-50.45 1570.14,-51.49\"/>\n",
       "<polygon fill=\"#000000\" stroke=\"#000000\" points=\"1570.22,-47.99 1560.24,-51.52 1570.25,-54.99 1570.22,-47.99\"/>\n",
       "</g>\n",
       "<!-- callgraphX__tile_1_3&#45;&gt;callgraphX__print_maze -->\n",
       "<g id=\"edge70\" class=\"edge\">\n",
       "<title>callgraphX__tile_1_3&#45;&gt;callgraphX__print_maze</title>\n",
       "<path fill=\"none\" stroke=\"#000000\" d=\"M1045.68,-474.83C1008.05,-443.97 950.72,-386.26 950.72,-321.09 950.72,-321.09 950.72,-321.09 950.72,-229.35 950.72,-177.54 928.9,-150.19 965.72,-113.74 996.01,-83.76 1261.29,-64.47 1400.39,-56.32\"/>\n",
       "<polygon fill=\"#000000\" stroke=\"#000000\" points=\"1400.52,-59.82 1410.31,-55.74 1400.12,-52.83 1400.52,-59.82\"/>\n",
       "</g>\n",
       "<!-- callgraphX__tile_1_4&#45;&gt;callgraphX__print_maze -->\n",
       "<g id=\"edge71\" class=\"edge\">\n",
       "<title>callgraphX__tile_1_4&#45;&gt;callgraphX__print_maze</title>\n",
       "<path fill=\"none\" stroke=\"#000000\" d=\"M2090.28,-654.55C2101.86,-644.24 2113.55,-631.07 2119.72,-616.18 2139.58,-568.31 2153.88,-421.94 2119.72,-382.96 2039.35,-291.25 1949.08,-414.76 1847.72,-346.96 1824.81,-331.63 1839.01,-309.46 1816.72,-293.22 1755.37,-248.49 1703.25,-311.08 1649.72,-257.22 1603.8,-211.01 1660.36,-164.66 1619.72,-113.74 1603.62,-93.56 1579.45,-79.7 1555.99,-70.3\"/>\n",
       "<polygon fill=\"#000000\" stroke=\"#000000\" points=\"1557.3,-67.06 1546.71,-66.82 1554.85,-73.61 1557.3,-67.06\"/>\n",
       "</g>\n",
       "<!-- callgraphX__tile_1_5&#45;&gt;callgraphX__print_maze -->\n",
       "<g id=\"edge72\" class=\"edge\">\n",
       "<title>callgraphX__tile_1_5&#45;&gt;callgraphX__print_maze</title>\n",
       "<path fill=\"none\" stroke=\"#000000\" d=\"M1149.75,-564.58C1161.25,-554.23 1173.03,-541.11 1179.72,-526.44 1192.99,-497.36 1187.43,-414.84 1189.72,-382.96 1194.03,-323.12 1170.54,-159.16 1209.72,-113.74 1234.57,-84.94 1330.62,-68.31 1402.25,-59.68\"/>\n",
       "<polygon fill=\"#000000\" stroke=\"#000000\" points=\"1402.5,-63.18 1412.02,-58.54 1401.69,-56.22 1402.5,-63.18\"/>\n",
       "</g>\n",
       "<!-- callgraphX__tile_1_6&#45;&gt;callgraphX__print_maze -->\n",
       "<g id=\"edge73\" class=\"edge\">\n",
       "<title>callgraphX__tile_1_6&#45;&gt;callgraphX__print_maze</title>\n",
       "<path fill=\"none\" stroke=\"#000000\" d=\"M806.84,-472.45C810.68,-437.88 816.72,-375 816.72,-321.09 816.72,-321.09 816.72,-321.09 816.72,-229.35 816.72,-176.38 805.58,-148.3 845.72,-113.74 886.87,-78.32 1235.48,-60.98 1399.74,-54.71\"/>\n",
       "<polygon fill=\"#000000\" stroke=\"#000000\" points=\"1399.87,-58.21 1409.73,-54.34 1399.61,-51.22 1399.87,-58.21\"/>\n",
       "</g>\n",
       "<!-- callgraphX__tile_1_7&#45;&gt;callgraphX__print_maze -->\n",
       "<g id=\"edge74\" class=\"edge\">\n",
       "<title>callgraphX__tile_1_7&#45;&gt;callgraphX__print_maze</title>\n",
       "<path fill=\"none\" stroke=\"#000000\" d=\"M1638.73,-391.49C1628.75,-388.57 1618.45,-385.62 1608.72,-382.96 1545.09,-365.55 1505.32,-398.96 1464.72,-346.96 1454.94,-334.43 1436.98,-314.46 1466.72,-113.74 1467.95,-105.45 1470.01,-96.71 1472.29,-88.49\"/>\n",
       "<polygon fill=\"#000000\" stroke=\"#000000\" points=\"1475.57,-89.74 1475.07,-79.16 1468.86,-87.75 1475.57,-89.74\"/>\n",
       "</g>\n",
       "<!-- callgraphX__tile_1_8&#45;&gt;callgraphX__print_maze -->\n",
       "<g id=\"edge75\" class=\"edge\">\n",
       "<title>callgraphX__tile_1_8&#45;&gt;callgraphX__print_maze</title>\n",
       "<path fill=\"none\" stroke=\"#000000\" d=\"M565.75,-121.9C577.53,-118.73 589.95,-115.79 601.72,-113.74 891.52,-63.39 1241.59,-53.74 1399.79,-52.08\"/>\n",
       "<polygon fill=\"#000000\" stroke=\"#000000\" points=\"1399.37,-55.59 1409.34,-51.99 1399.3,-48.59 1399.37,-55.59\"/>\n",
       "</g>\n",
       "<!-- callgraphX__tile_2_0&#45;&gt;callgraphX__print_maze -->\n",
       "<g id=\"edge76\" class=\"edge\">\n",
       "<title>callgraphX__tile_2_0&#45;&gt;callgraphX__print_maze</title>\n",
       "<path fill=\"none\" stroke=\"#000000\" d=\"M1694.15,-1190.63C1695.79,-1134.18 1691.59,-998.8 1620.72,-921.4 1587.13,-884.7 1550.04,-920.45 1514.72,-885.4 1454.77,-825.9 1409.15,-608.64 1389.72,-526.44 1377.81,-476.02 1374.72,-462.64 1374.72,-410.83 1374.72,-410.83 1374.72,-410.83 1374.72,-229.35 1374.72,-177.54 1362.15,-157.6 1389.72,-113.74 1399.09,-98.84 1413.5,-86.8 1428.3,-77.44\"/>\n",
       "<polygon fill=\"#000000\" stroke=\"#000000\" points=\"1429.9,-80.56 1436.72,-72.45 1426.33,-74.54 1429.9,-80.56\"/>\n",
       "</g>\n",
       "<!-- callgraphX__tile_2_1&#45;&gt;callgraphX__print_maze -->\n",
       "<g id=\"edge81\" class=\"edge\">\n",
       "<title>callgraphX__tile_2_1&#45;&gt;callgraphX__print_maze</title>\n",
       "<path fill=\"none\" stroke=\"#000000\" d=\"M408.76,-2111.24C310.37,-2103.22 143.46,-2072.99 65.72,-1962.28 49.87,-1939.7 70.18,-1825.94 77.72,-1818.8 115.37,-1783.19 491.37,-1789.76 542.72,-1782.8 759.31,-1753.44 1020.72,-1885.76 1020.72,-1667.19 1020.72,-1667.19 1020.72,-1667.19 1020.72,-1216.49 1020.72,-1190.7 1027.91,-1120.11 1010.72,-1100.88 956.65,-1040.37 891.18,-1120.11 831.72,-1064.88 813.56,-1048.01 829.38,-1032.47 816.72,-1011.14 805.01,-991.41 789.87,-995.72 779.72,-975.14 747.77,-910.33 765.33,-720.48 741.72,-652.18 735.6,-634.46 727.78,-633.11 719.72,-616.18 708.84,-593.31 716.83,-582 700.72,-562.44 680.72,-538.14 656.84,-552.86 639.72,-526.44 611.61,-483.04 626.72,-462.54 626.72,-410.83 626.72,-410.83 626.72,-410.83 626.72,-229.35 626.72,-177.78 600.01,-149.96 636.72,-113.74 690.22,-60.96 1195.25,-53 1399.56,-51.95\"/>\n",
       "<polygon fill=\"#000000\" stroke=\"#000000\" points=\"1399.32,-55.45 1409.3,-51.91 1399.29,-48.45 1399.32,-55.45\"/>\n",
       "</g>\n",
       "<!-- callgraphX__tile_2_1&#45;&gt;callgraphX__tile_1_1 -->\n",
       "<g id=\"edge79\" class=\"edge\">\n",
       "<title>callgraphX__tile_2_1&#45;&gt;callgraphX__tile_1_1</title>\n",
       "<path fill=\"none\" stroke=\"#000000\" d=\"M407.71,-2114.5C295.24,-2113.53 96.03,-2104.23 50.72,-2052.02 -17.21,-1973.74 -16.55,-1897.66 50.72,-1818.8 189.47,-1656.16 1000.72,-1880.97 1000.72,-1667.19 1000.72,-1667.19 1000.72,-1667.19 1000.72,-1306.23 1000.72,-1254.8 1018.19,-1236.89 995.72,-1190.62 989.76,-1178.34 980.12,-1167.54 969.81,-1158.53\"/>\n",
       "<polygon fill=\"#000000\" stroke=\"#000000\" points=\"972.19,-1155.96 962.23,-1152.35 967.77,-1161.38 972.19,-1155.96\"/>\n",
       "</g>\n",
       "<!-- callgraphX__tile_2_1&#45;&gt;callgraphX__tile_2_0 -->\n",
       "<g id=\"edge78\" class=\"edge\">\n",
       "<title>callgraphX__tile_2_1&#45;&gt;callgraphX__tile_2_0</title>\n",
       "<path fill=\"none\" stroke=\"#000000\" d=\"M502.24,-2088.51C508.75,-2077.62 515.82,-2064.55 520.72,-2052.02 530.43,-2027.23 555.12,-1835.66 575.72,-1818.8 670.87,-1740.93 1592.48,-1867.38 1681.72,-1782.8 1719.16,-1747.33 1691.72,-1718.77 1691.72,-1667.19 1691.72,-1667.19 1691.72,-1667.19 1691.72,-1395.97 1691.72,-1347.66 1692.1,-1291.96 1692.39,-1256.04\"/>\n",
       "<polygon fill=\"#000000\" stroke=\"#000000\" points=\"1695.89,-1256.2 1692.47,-1246.17 1688.89,-1256.14 1695.89,-1256.2\"/>\n",
       "</g>\n",
       "<!-- callgraphX__tile_2_1&#45;&gt;callgraphX__tile_2_1 -->\n",
       "<g id=\"edge77\" class=\"edge\">\n",
       "<title>callgraphX__tile_2_1&#45;&gt;callgraphX__tile_2_1</title>\n",
       "<path fill=\"none\" stroke=\"#000000\" d=\"M546.98,-2131.71C566.28,-2131.45 581.51,-2125.85 581.51,-2114.89 581.51,-2106.16 571.84,-2100.83 558.15,-2098.89\"/>\n",
       "<polygon fill=\"#000000\" stroke=\"#000000\" points=\"558.72,-2095.43 548.49,-2098.19 558.21,-2102.41 558.72,-2095.43\"/>\n",
       "</g>\n",
       "<!-- callgraphX__tile_2_1&#45;&gt;callgraphX__tile_2_2 -->\n",
       "<g id=\"edge82\" class=\"edge\">\n",
       "<title>callgraphX__tile_2_1&#45;&gt;callgraphX__tile_2_2</title>\n",
       "<path fill=\"none\" stroke=\"#000000\" d=\"M507.98,-2088.92C516.52,-2078.2 525.65,-2065.14 531.72,-2052.02 533.12,-2049.01 583.16,-1820.91 585.72,-1818.8 681.06,-1740.46 1597.54,-1857.55 1695.72,-1782.8 1738.54,-1750.2 1731.72,-1721.01 1731.72,-1667.19 1731.72,-1667.19 1731.72,-1667.19 1731.72,-1575.45 1731.72,-1375.25 1789.72,-1328.95 1789.72,-1128.75 1789.72,-1128.75 1789.72,-1128.75 1789.72,-947.27 1789.72,-896.87 1808.32,-841.22 1822.6,-805.91\"/>\n",
       "<polygon fill=\"#000000\" stroke=\"#000000\" points=\"1825.68,-807.61 1826.28,-797.03 1819.21,-804.92 1825.68,-807.61\"/>\n",
       "</g>\n",
       "<!-- callgraphX__tile_2_1&#45;&gt;callgraphX__tile_3_1 -->\n",
       "<g id=\"edge80\" class=\"edge\">\n",
       "<title>callgraphX__tile_2_1&#45;&gt;callgraphX__tile_3_1</title>\n",
       "<path fill=\"none\" stroke=\"#000000\" d=\"M458.71,-2089.45C450.39,-2080.45 441.36,-2070.07 433.36,-2060.36\"/>\n",
       "<polygon fill=\"#000000\" stroke=\"#000000\" points=\"436.31,-2058.44 427.3,-2052.86 430.87,-2062.84 436.31,-2058.44\"/>\n",
       "</g>\n",
       "<!-- callgraphX__tile_2_2&#45;&gt;callgraphX__print_maze -->\n",
       "<g id=\"edge84\" class=\"edge\">\n",
       "<title>callgraphX__tile_2_2&#45;&gt;callgraphX__print_maze</title>\n",
       "<path fill=\"none\" stroke=\"#000000\" d=\"M1868.78,-743.85C1882.08,-732.78 1897.64,-719.17 1910.72,-705.92 1932.61,-683.75 1929.55,-669.07 1955.72,-652.18 2005.74,-619.91 2048.73,-663.59 2084.72,-616.18 2100.62,-595.24 2124.01,-434.6 2076.72,-382.96 1994.97,-293.67 1908.67,-412.25 1806.72,-346.96 1782.92,-331.72 1795.86,-309.46 1772.72,-293.22 1712,-250.6 1663.43,-308.41 1609.72,-257.22 1561.89,-211.63 1608.38,-168.05 1570.72,-113.74 1561.53,-100.48 1548.54,-89.05 1535.44,-79.74\"/>\n",
       "<polygon fill=\"#000000\" stroke=\"#000000\" points=\"1537.44,-76.87 1527.18,-74.19 1533.53,-82.67 1537.44,-76.87\"/>\n",
       "</g>\n",
       "<!-- callgraphX__tile_2_3&#45;&gt;callgraphX__print_maze -->\n",
       "<g id=\"edge88\" class=\"edge\">\n",
       "<title>callgraphX__tile_2_3&#45;&gt;callgraphX__print_maze</title>\n",
       "<path fill=\"none\" stroke=\"#000000\" d=\"M1569.86,-837.25C1552.74,-827.37 1535.32,-813.67 1525.72,-795.66 1495.75,-739.38 1486.69,-702.61 1525.72,-652.18 1564.78,-601.72 1606.23,-641.69 1664.72,-616.18 1705.35,-598.46 1710.11,-584.19 1748.72,-562.44 1776.34,-546.89 1987.97,-463.6 2004.72,-436.7 2017.35,-416.43 2020.59,-400.81 2004.72,-382.96 1959.54,-332.11 1756.13,-386.43 1700.72,-346.96 1679.11,-331.56 1695.43,-309.81 1674.72,-293.22 1620.21,-249.53 1569.8,-307.9 1521.72,-257.22 1510.29,-245.17 1496.24,-144.94 1489.2,-89.09\"/>\n",
       "<polygon fill=\"#000000\" stroke=\"#000000\" points=\"1492.7,-88.89 1487.99,-79.4 1485.76,-89.76 1492.7,-88.89\"/>\n",
       "</g>\n",
       "<!-- callgraphX__tile_2_3&#45;&gt;callgraphX__tile_1_3 -->\n",
       "<g id=\"edge90\" class=\"edge\">\n",
       "<title>callgraphX__tile_2_3&#45;&gt;callgraphX__tile_1_3</title>\n",
       "<path fill=\"none\" stroke=\"#000000\" d=\"M1567.79,-837.62C1423.6,-780.1 1016.76,-617.72 1015.72,-616.18 1002.34,-596.4 1006.57,-584.5 1015.72,-562.44 1020.45,-551.04 1028.41,-540.65 1037.08,-531.78\"/>\n",
       "<polygon fill=\"#000000\" stroke=\"#000000\" points=\"1039.25,-534.55 1044.08,-525.11 1034.42,-529.48 1039.25,-534.55\"/>\n",
       "</g>\n",
       "<!-- callgraphX__tile_2_3&#45;&gt;callgraphX__tile_2_2 -->\n",
       "<g id=\"edge89\" class=\"edge\">\n",
       "<title>callgraphX__tile_2_3&#45;&gt;callgraphX__tile_2_2</title>\n",
       "<path fill=\"none\" stroke=\"#000000\" d=\"M1667.6,-837.73C1700.36,-824.72 1743.43,-807.62 1778.16,-793.84\"/>\n",
       "<polygon fill=\"#000000\" stroke=\"#000000\" points=\"1779.24,-797.17 1787.24,-790.23 1776.66,-790.67 1779.24,-797.17\"/>\n",
       "</g>\n",
       "<!-- callgraphX__tile_2_3&#45;&gt;callgraphX__tile_2_3 -->\n",
       "<g id=\"edge87\" class=\"edge\">\n",
       "<title>callgraphX__tile_2_3&#45;&gt;callgraphX__tile_2_3</title>\n",
       "<path fill=\"none\" stroke=\"#000000\" d=\"M1678.98,-875.35C1698.28,-875.09 1713.51,-869.49 1713.51,-858.53 1713.51,-849.8 1703.84,-844.47 1690.15,-842.53\"/>\n",
       "<polygon fill=\"#000000\" stroke=\"#000000\" points=\"1690.72,-839.07 1680.49,-841.82 1690.21,-846.05 1690.72,-839.07\"/>\n",
       "</g>\n",
       "<!-- callgraphX__tile_2_3&#45;&gt;callgraphX__tile_2_4 -->\n",
       "<g id=\"edge86\" class=\"edge\">\n",
       "<title>callgraphX__tile_2_3&#45;&gt;callgraphX__tile_2_4</title>\n",
       "<path fill=\"none\" stroke=\"#000000\" d=\"M1611.51,-831.68C1611.03,-823.98 1610.87,-815.39 1611.04,-807.12\"/>\n",
       "<polygon fill=\"#000000\" stroke=\"#000000\" points=\"1614.53,-807.41 1611.44,-797.27 1607.54,-807.12 1614.53,-807.41\"/>\n",
       "</g>\n",
       "<!-- callgraphX__tile_2_3&#45;&gt;callgraphX__tile_3_3 -->\n",
       "<g id=\"edge85\" class=\"edge\">\n",
       "<title>callgraphX__tile_2_3&#45;&gt;callgraphX__tile_3_3</title>\n",
       "<path fill=\"none\" stroke=\"#000000\" d=\"M1556.68,-875.49C1494.77,-890.81 1398.83,-913.89 1331.29,-929.71\"/>\n",
       "<polygon fill=\"#000000\" stroke=\"#000000\" points=\"1330.7,-926.26 1321.76,-931.94 1332.29,-933.07 1330.7,-926.26\"/>\n",
       "</g>\n",
       "<!-- callgraphX__tile_2_4&#45;&gt;callgraphX__print_maze -->\n",
       "<g id=\"edge95\" class=\"edge\">\n",
       "<title>callgraphX__tile_2_4&#45;&gt;callgraphX__print_maze</title>\n",
       "<path fill=\"none\" stroke=\"#000000\" d=\"M1554.99,-751.04C1469.54,-728.29 1311.73,-686.52 1176.72,-652.18 1111.95,-635.71 1071.94,-668.79 1030.72,-616.18 1016,-597.38 1016.19,-581.39 1030.72,-562.44 1068.25,-513.5 1127.2,-575.38 1164.72,-526.44 1179.26,-507.49 1176,-493.75 1164.72,-472.7 1117.08,-383.77 1023.37,-435.89 975.72,-346.96 969.5,-335.35 967.93,-226.82 976.72,-203.48 995.24,-154.3 1007.66,-139.03 1053.72,-113.74 1111.88,-81.81 1292.93,-64.58 1400.99,-56.9\"/>\n",
       "<polygon fill=\"#000000\" stroke=\"#000000\" points=\"1400.94,-60.41 1410.67,-56.23 1400.45,-53.43 1400.94,-60.41\"/>\n",
       "</g>\n",
       "<!-- callgraphX__tile_2_4&#45;&gt;callgraphX__tile_1_4 -->\n",
       "<g id=\"edge94\" class=\"edge\">\n",
       "<title>callgraphX__tile_2_4&#45;&gt;callgraphX__tile_1_4</title>\n",
       "<path fill=\"none\" stroke=\"#000000\" d=\"M1687.44,-753.89C1767.25,-737.97 1897.61,-711.98 1980.45,-695.46\"/>\n",
       "<polygon fill=\"#000000\" stroke=\"#000000\" points=\"1980.96,-698.93 1990.08,-693.54 1979.59,-692.06 1980.96,-698.93\"/>\n",
       "</g>\n",
       "<!-- callgraphX__tile_2_4&#45;&gt;callgraphX__tile_2_3 -->\n",
       "<g id=\"edge93\" class=\"edge\">\n",
       "<title>callgraphX__tile_2_4&#45;&gt;callgraphX__tile_2_3</title>\n",
       "<path fill=\"none\" stroke=\"#000000\" d=\"M1623.95,-795.76C1624.43,-803.47 1624.58,-812.06 1624.4,-820.33\"/>\n",
       "<polygon fill=\"#000000\" stroke=\"#000000\" points=\"1620.91,-820.03 1624,-830.17 1627.91,-820.32 1620.91,-820.03\"/>\n",
       "</g>\n",
       "<!-- callgraphX__tile_2_4&#45;&gt;callgraphX__tile_2_4 -->\n",
       "<g id=\"edge92\" class=\"edge\">\n",
       "<title>callgraphX__tile_2_4&#45;&gt;callgraphX__tile_2_4</title>\n",
       "<path fill=\"none\" stroke=\"#000000\" d=\"M1683.12,-785.59C1702.95,-785.17 1718.46,-779.57 1718.46,-768.79 1718.46,-760.2 1708.61,-754.9 1694.58,-752.89\"/>\n",
       "<polygon fill=\"#000000\" stroke=\"#000000\" points=\"1694.87,-749.4 1684.63,-752.11 1694.33,-756.38 1694.87,-749.4\"/>\n",
       "</g>\n",
       "<!-- callgraphX__tile_2_4&#45;&gt;callgraphX__tile_2_5 -->\n",
       "<g id=\"edge91\" class=\"edge\">\n",
       "<title>callgraphX__tile_2_4&#45;&gt;callgraphX__tile_2_5</title>\n",
       "<path fill=\"none\" stroke=\"#000000\" d=\"M1658.86,-745.2C1683.18,-733.08 1714.33,-718.12 1741.27,-705.59\"/>\n",
       "<polygon fill=\"#000000\" stroke=\"#000000\" points=\"1742.38,-708.93 1749.99,-701.55 1739.44,-702.57 1742.38,-708.93\"/>\n",
       "</g>\n",
       "<!-- callgraphX__tile_2_4&#45;&gt;callgraphX__tile_3_4 -->\n",
       "<g id=\"edge96\" class=\"edge\">\n",
       "<title>callgraphX__tile_2_4&#45;&gt;callgraphX__tile_3_4</title>\n",
       "<path fill=\"none\" stroke=\"#000000\" d=\"M1617.72,-741.94C1617.72,-734.24 1617.72,-725.65 1617.72,-717.38\"/>\n",
       "<polygon fill=\"#000000\" stroke=\"#000000\" points=\"1621.22,-717.53 1617.72,-707.53 1614.22,-717.53 1621.22,-717.53\"/>\n",
       "</g>\n",
       "<!-- callgraphX__tile_2_5&#45;&gt;callgraphX__print_maze -->\n",
       "<g id=\"edge101\" class=\"edge\">\n",
       "<title>callgraphX__tile_2_5&#45;&gt;callgraphX__print_maze</title>\n",
       "<path fill=\"none\" stroke=\"#000000\" d=\"M1816.92,-652.55C1834.62,-626.56 1865.24,-586.72 1900.72,-562.44 1940.05,-535.53 1967.37,-559.47 2001.72,-526.44 2049.11,-480.87 2081.23,-432.25 2037.72,-382.96 1995.04,-334.61 1801.85,-384.95 1749.72,-346.96 1728.44,-331.44 1745.23,-309.75 1724.72,-293.22 1667.97,-247.48 1616.89,-308.12 1564.72,-257.22 1541.2,-234.26 1542.49,-143.59 1528.72,-113.74 1524.31,-104.16 1518.35,-94.52 1512.25,-85.8\"/>\n",
       "<polygon fill=\"#000000\" stroke=\"#000000\" points=\"1515.25,-83.97 1506.53,-77.96 1509.6,-88.1 1515.25,-83.97\"/>\n",
       "</g>\n",
       "<!-- callgraphX__tile_2_5&#45;&gt;callgraphX__tile_1_5 -->\n",
       "<g id=\"edge100\" class=\"edge\">\n",
       "<title>callgraphX__tile_2_5&#45;&gt;callgraphX__tile_1_5</title>\n",
       "<path fill=\"none\" stroke=\"#000000\" d=\"M1742.34,-659.85C1731.57,-656.95 1720.37,-654.23 1709.72,-652.18 1532.72,-618.04 1322.07,-601.7 1205.8,-594.75\"/>\n",
       "<polygon fill=\"#000000\" stroke=\"#000000\" points=\"1206.21,-591.27 1196.02,-594.18 1205.8,-598.26 1206.21,-591.27\"/>\n",
       "</g>\n",
       "<!-- callgraphX__tile_2_5&#45;&gt;callgraphX__tile_2_4 -->\n",
       "<g id=\"edge98\" class=\"edge\">\n",
       "<title>callgraphX__tile_2_5&#45;&gt;callgraphX__tile_2_4</title>\n",
       "<path fill=\"none\" stroke=\"#000000\" d=\"M1759.49,-702.7C1735.14,-714.82 1703.97,-729.8 1677.03,-742.33\"/>\n",
       "<polygon fill=\"#000000\" stroke=\"#000000\" points=\"1675.91,-738.99 1668.31,-746.36 1678.85,-745.34 1675.91,-738.99\"/>\n",
       "</g>\n",
       "<!-- callgraphX__tile_2_5&#45;&gt;callgraphX__tile_2_5 -->\n",
       "<g id=\"edge97\" class=\"edge\">\n",
       "<title>callgraphX__tile_2_5&#45;&gt;callgraphX__tile_2_5</title>\n",
       "<path fill=\"none\" stroke=\"#000000\" d=\"M1866.12,-695.85C1885.95,-695.43 1901.46,-689.83 1901.46,-679.05 1901.46,-670.46 1891.61,-665.16 1877.58,-663.15\"/>\n",
       "<polygon fill=\"#000000\" stroke=\"#000000\" points=\"1877.87,-659.66 1867.63,-662.37 1877.33,-666.64 1877.87,-659.66\"/>\n",
       "</g>\n",
       "<!-- callgraphX__tile_2_5&#45;&gt;callgraphX__tile_2_6 -->\n",
       "<g id=\"edge102\" class=\"edge\">\n",
       "<title>callgraphX__tile_2_5&#45;&gt;callgraphX__tile_2_6</title>\n",
       "<path fill=\"none\" stroke=\"#000000\" d=\"M1742.92,-659.44C1705,-646.39 1655.53,-628.8 1616.79,-614.63\"/>\n",
       "<polygon fill=\"#000000\" stroke=\"#000000\" points=\"1618.18,-611.41 1607.59,-611.25 1615.77,-617.98 1618.18,-611.41\"/>\n",
       "</g>\n",
       "<!-- callgraphX__tile_2_5&#45;&gt;callgraphX__tile_3_5 -->\n",
       "<g id=\"edge99\" class=\"edge\">\n",
       "<title>callgraphX__tile_2_5&#45;&gt;callgraphX__tile_3_5</title>\n",
       "<path fill=\"none\" stroke=\"#000000\" d=\"M1847.69,-656.59C1874.17,-644.49 1907.46,-629.28 1935.46,-616.48\"/>\n",
       "<polygon fill=\"#000000\" stroke=\"#000000\" points=\"1936.89,-619.67 1944.53,-612.33 1933.98,-613.31 1936.89,-619.67\"/>\n",
       "</g>\n",
       "<!-- callgraphX__tile_2_6&#45;&gt;callgraphX__print_maze -->\n",
       "<g id=\"edge107\" class=\"edge\">\n",
       "<title>callgraphX__tile_2_6&#45;&gt;callgraphX__print_maze</title>\n",
       "<path fill=\"none\" stroke=\"#000000\" d=\"M1511.29,-566.26C1494.39,-556 1475.95,-542.48 1462.72,-526.44 1427.33,-483.52 1414.72,-466.47 1414.72,-410.83 1414.72,-410.83 1414.72,-410.83 1414.72,-229.35 1414.72,-177.48 1409.22,-160.94 1430.72,-113.74 1435.51,-103.23 1442.68,-93.18 1450.23,-84.35\"/>\n",
       "<polygon fill=\"#000000\" stroke=\"#000000\" points=\"1452.71,-86.83 1456.83,-77.07 1447.52,-82.13 1452.71,-86.83\"/>\n",
       "</g>\n",
       "<!-- callgraphX__tile_2_6&#45;&gt;callgraphX__tile_1_6 -->\n",
       "<g id=\"edge103\" class=\"edge\">\n",
       "<title>callgraphX__tile_2_6&#45;&gt;callgraphX__tile_1_6</title>\n",
       "<path fill=\"none\" stroke=\"#000000\" d=\"M1476.18,-580.4C1367.13,-569.26 1163.75,-547.9 990.72,-526.44 956.39,-522.18 918.58,-517.04 885.99,-512.46\"/>\n",
       "<polygon fill=\"#000000\" stroke=\"#000000\" points=\"886.59,-509.01 876.2,-511.08 885.61,-515.94 886.59,-509.01\"/>\n",
       "</g>\n",
       "<!-- callgraphX__tile_2_6&#45;&gt;callgraphX__tile_2_5 -->\n",
       "<g id=\"edge104\" class=\"edge\">\n",
       "<title>callgraphX__tile_2_6&#45;&gt;callgraphX__tile_2_5</title>\n",
       "<path fill=\"none\" stroke=\"#000000\" d=\"M1612.49,-608.9C1650.47,-621.98 1700.06,-639.61 1738.84,-653.8\"/>\n",
       "<polygon fill=\"#000000\" stroke=\"#000000\" points=\"1737.45,-657.02 1748.05,-657.18 1739.87,-650.45 1737.45,-657.02\"/>\n",
       "</g>\n",
       "<!-- callgraphX__tile_2_6&#45;&gt;callgraphX__tile_2_6 -->\n",
       "<g id=\"edge108\" class=\"edge\">\n",
       "<title>callgraphX__tile_2_6&#45;&gt;callgraphX__tile_2_6</title>\n",
       "<path fill=\"none\" stroke=\"#000000\" d=\"M1620.12,-606.11C1639.95,-605.69 1655.46,-600.09 1655.46,-589.31 1655.46,-580.72 1645.61,-575.42 1631.58,-573.41\"/>\n",
       "<polygon fill=\"#000000\" stroke=\"#000000\" points=\"1631.87,-569.92 1621.63,-572.63 1631.33,-576.9 1631.87,-569.92\"/>\n",
       "</g>\n",
       "<!-- callgraphX__tile_2_6&#45;&gt;callgraphX__tile_2_7 -->\n",
       "<g id=\"edge106\" class=\"edge\">\n",
       "<title>callgraphX__tile_2_6&#45;&gt;callgraphX__tile_2_7</title>\n",
       "<path fill=\"none\" stroke=\"#000000\" d=\"M1548.51,-562.46C1548.03,-554.76 1547.87,-546.17 1548.04,-537.9\"/>\n",
       "<polygon fill=\"#000000\" stroke=\"#000000\" points=\"1551.53,-538.19 1548.44,-528.05 1544.54,-537.9 1551.53,-538.19\"/>\n",
       "</g>\n",
       "<!-- callgraphX__tile_2_6&#45;&gt;callgraphX__tile_3_6 -->\n",
       "<g id=\"edge105\" class=\"edge\">\n",
       "<title>callgraphX__tile_2_6&#45;&gt;callgraphX__tile_3_6</title>\n",
       "<path fill=\"none\" stroke=\"#000000\" d=\"M1609,-568.72C1694.04,-535.03 1843.07,-462.05 1782.72,-382.96 1781.51,-381.37 1696.01,-358.25 1630.54,-340.74\"/>\n",
       "<polygon fill=\"#000000\" stroke=\"#000000\" points=\"1631.84,-337.46 1621.27,-338.26 1630.03,-344.23 1631.84,-337.46\"/>\n",
       "</g>\n",
       "<!-- callgraphX__tile_2_7&#45;&gt;callgraphX__print_maze -->\n",
       "<g id=\"edge113\" class=\"edge\">\n",
       "<title>callgraphX__tile_2_7&#45;&gt;callgraphX__print_maze</title>\n",
       "<path fill=\"none\" stroke=\"#000000\" d=\"M1485.3,-484.46C1343.32,-454.91 1030.55,-386.05 1000.72,-346.96 927.61,-251.15 1030.83,-179.7 1139.72,-113.74 1182.92,-87.58 1315.12,-69.33 1402.76,-59.74\"/>\n",
       "<polygon fill=\"#000000\" stroke=\"#000000\" points=\"1402.95,-63.24 1412.51,-58.69 1402.2,-56.28 1402.95,-63.24\"/>\n",
       "</g>\n",
       "<!-- callgraphX__tile_2_7&#45;&gt;callgraphX__tile_1_7 -->\n",
       "<g id=\"edge109\" class=\"edge\">\n",
       "<title>callgraphX__tile_2_7&#45;&gt;callgraphX__tile_1_7</title>\n",
       "<path fill=\"none\" stroke=\"#000000\" d=\"M1592.14,-475.29C1609.71,-464.36 1630.82,-451.22 1649.38,-439.67\"/>\n",
       "<polygon fill=\"#000000\" stroke=\"#000000\" points=\"1651.18,-442.67 1657.83,-434.41 1647.49,-436.73 1651.18,-442.67\"/>\n",
       "</g>\n",
       "<!-- callgraphX__tile_2_7&#45;&gt;callgraphX__tile_2_6 -->\n",
       "<g id=\"edge114\" class=\"edge\">\n",
       "<title>callgraphX__tile_2_7&#45;&gt;callgraphX__tile_2_6</title>\n",
       "<path fill=\"none\" stroke=\"#000000\" d=\"M1560.95,-526.54C1561.43,-534.24 1561.58,-542.84 1561.4,-551.11\"/>\n",
       "<polygon fill=\"#000000\" stroke=\"#000000\" points=\"1557.91,-550.81 1561,-560.95 1564.91,-551.1 1557.91,-550.81\"/>\n",
       "</g>\n",
       "<!-- callgraphX__tile_2_7&#45;&gt;callgraphX__tile_2_7 -->\n",
       "<g id=\"edge112\" class=\"edge\">\n",
       "<title>callgraphX__tile_2_7&#45;&gt;callgraphX__tile_2_7</title>\n",
       "<path fill=\"none\" stroke=\"#000000\" d=\"M1620.12,-516.37C1639.95,-515.95 1655.46,-510.35 1655.46,-499.57 1655.46,-490.98 1645.61,-485.68 1631.58,-483.67\"/>\n",
       "<polygon fill=\"#000000\" stroke=\"#000000\" points=\"1631.87,-480.18 1621.63,-482.89 1631.33,-487.16 1631.87,-480.18\"/>\n",
       "</g>\n",
       "<!-- callgraphX__tile_2_7&#45;&gt;callgraphX__tile_2_8 -->\n",
       "<g id=\"edge110\" class=\"edge\">\n",
       "<title>callgraphX__tile_2_7&#45;&gt;callgraphX__tile_2_8</title>\n",
       "<path fill=\"none\" stroke=\"#000000\" d=\"M1543.53,-472.72C1540.08,-464.76 1536.22,-455.84 1532.52,-447.3\"/>\n",
       "<polygon fill=\"#000000\" stroke=\"#000000\" points=\"1535.76,-445.97 1528.57,-438.19 1529.34,-448.76 1535.76,-445.97\"/>\n",
       "</g>\n",
       "<!-- callgraphX__tile_2_7&#45;&gt;callgraphX__tile_3_7 -->\n",
       "<g id=\"edge111\" class=\"edge\">\n",
       "<title>callgraphX__tile_2_7&#45;&gt;callgraphX__tile_3_7</title>\n",
       "<path fill=\"none\" stroke=\"#000000\" d=\"M1616.39,-481.24C1672.98,-466.21 1756.92,-444.54 1817.84,-429.22\"/>\n",
       "<polygon fill=\"#000000\" stroke=\"#000000\" points=\"1818.62,-432.63 1827.47,-426.81 1816.92,-425.84 1818.62,-432.63\"/>\n",
       "</g>\n",
       "<!-- callgraphX__tile_2_8&#45;&gt;callgraphX__print_maze -->\n",
       "<g id=\"edge115\" class=\"edge\">\n",
       "<title>callgraphX__tile_2_8&#45;&gt;callgraphX__print_maze</title>\n",
       "<path fill=\"none\" stroke=\"#000000\" d=\"M1480.9,-385.25C1468.62,-375.08 1456.33,-362.04 1449.72,-346.96 1408.16,-252.01 1423.34,-213.98 1449.72,-113.74 1452.14,-104.58 1456.25,-95.34 1460.83,-86.91\"/>\n",
       "<polygon fill=\"#000000\" stroke=\"#000000\" points=\"1463.79,-88.78 1465.8,-78.38 1457.74,-85.26 1463.79,-88.78\"/>\n",
       "</g>\n",
       "<!-- callgraphX__tile_3_0&#45;&gt;callgraphX__print_maze -->\n",
       "<g id=\"edge116\" class=\"edge\">\n",
       "<title>callgraphX__tile_3_0&#45;&gt;callgraphX__print_maze</title>\n",
       "<path fill=\"none\" stroke=\"#000000\" d=\"M121.9,-1910.83C109.62,-1900.67 97.33,-1887.63 90.72,-1872.54 81.15,-1850.66 74.16,-1836.01 90.72,-1818.8 162.81,-1743.89 948.96,-1852.91 1025.72,-1782.8 1063.98,-1747.86 1040.72,-1719.01 1040.72,-1667.19 1040.72,-1667.19 1040.72,-1667.19 1040.72,-1216.49 1040.72,-1164.68 1060.73,-1139.08 1025.72,-1100.88 975.3,-1045.87 921.63,-1109.38 861.72,-1064.88 839.77,-1048.57 847.21,-1033.69 831.72,-1011.14 819.93,-993.97 809.98,-994.26 801.72,-975.14 744.43,-842.4 803.17,-790.99 762.72,-652.18 750.35,-609.72 749.25,-595.37 719.72,-562.44 699.47,-539.85 678.15,-551.95 661.72,-526.44 633.67,-482.88 646.72,-462.64 646.72,-410.83 646.72,-410.83 646.72,-410.83 646.72,-229.35 646.72,-177.54 624.11,-149.38 661.72,-113.74 714.46,-63.77 1200.19,-54.15 1399.74,-52.3\"/>\n",
       "<polygon fill=\"#000000\" stroke=\"#000000\" points=\"1399.55,-55.8 1409.52,-52.22 1399.49,-48.8 1399.55,-55.8\"/>\n",
       "</g>\n",
       "<!-- callgraphX__tile_3_1&#45;&gt;callgraphX__print_maze -->\n",
       "<g id=\"edge122\" class=\"edge\">\n",
       "<title>callgraphX__tile_3_1&#45;&gt;callgraphX__print_maze</title>\n",
       "<path fill=\"none\" stroke=\"#000000\" d=\"M343.06,-2009.31C315.3,-2000.05 284.99,-1985.34 264.72,-1962.28 248.35,-1943.66 266.96,-1926.37 249.72,-1908.54 212.79,-1870.34 167.13,-1915.4 135.72,-1872.54 121.61,-1853.28 119.17,-1836.02 135.72,-1818.8 205.53,-1746.16 966.24,-1849.52 1041.72,-1782.8 1061.23,-1765.56 1060.72,-1693.23 1060.72,-1667.19 1060.72,-1667.19 1060.72,-1667.19 1060.72,-1216.49 1060.72,-1164.35 1076.61,-1138.71 1040.72,-1100.88 991.16,-1048.63 940.67,-1107.65 882.72,-1064.88 860.54,-1048.51 867.86,-1033.5 851.72,-1011.14 839.2,-993.78 828.73,-994.56 819.72,-975.14 758.75,-843.6 808.47,-792.94 773.72,-652.18 763.58,-611.07 768.91,-594.91 741.72,-562.44 721.02,-537.71 696.33,-553.46 678.72,-526.44 650.52,-483.16 666.72,-462.49 666.72,-410.83 666.72,-410.83 666.72,-410.83 666.72,-229.35 666.72,-177.78 640.08,-150.03 676.72,-113.74 727.27,-63.7 1202.14,-54.11 1399.43,-52.29\"/>\n",
       "<polygon fill=\"#000000\" stroke=\"#000000\" points=\"1399.4,-55.79 1409.37,-52.2 1399.34,-48.79 1399.4,-55.79\"/>\n",
       "</g>\n",
       "<!-- callgraphX__tile_3_1&#45;&gt;callgraphX__tile_2_1 -->\n",
       "<g id=\"edge118\" class=\"edge\">\n",
       "<title>callgraphX__tile_3_1&#45;&gt;callgraphX__tile_2_1</title>\n",
       "<path fill=\"none\" stroke=\"#000000\" d=\"M437.99,-2050.87C446.21,-2059.78 455.11,-2070 463,-2079.59\"/>\n",
       "<polygon fill=\"#000000\" stroke=\"#000000\" points=\"460.26,-2081.76 469.27,-2087.34 465.7,-2077.36 460.26,-2081.76\"/>\n",
       "</g>\n",
       "<!-- callgraphX__tile_3_1&#45;&gt;callgraphX__tile_3_0 -->\n",
       "<g id=\"edge117\" class=\"edge\">\n",
       "<title>callgraphX__tile_3_1&#45;&gt;callgraphX__tile_3_0</title>\n",
       "<path fill=\"none\" stroke=\"#000000\" d=\"M355.2,-2004.9C316.48,-1991.47 264.64,-1973.49 223.79,-1959.32\"/>\n",
       "<polygon fill=\"#000000\" stroke=\"#000000\" points=\"225.14,-1956.09 214.55,-1956.12 222.85,-1962.7 225.14,-1956.09\"/>\n",
       "</g>\n",
       "<!-- callgraphX__tile_3_1&#45;&gt;callgraphX__tile_3_1 -->\n",
       "<g id=\"edge121\" class=\"edge\">\n",
       "<title>callgraphX__tile_3_1&#45;&gt;callgraphX__tile_3_1</title>\n",
       "<path fill=\"none\" stroke=\"#000000\" d=\"M476.12,-2041.95C495.95,-2041.53 511.46,-2035.93 511.46,-2025.15 511.46,-2016.56 501.61,-2011.26 487.58,-2009.25\"/>\n",
       "<polygon fill=\"#000000\" stroke=\"#000000\" points=\"487.87,-2005.76 477.63,-2008.47 487.33,-2012.74 487.87,-2005.76\"/>\n",
       "</g>\n",
       "<!-- callgraphX__tile_3_1&#45;&gt;callgraphX__tile_3_2 -->\n",
       "<g id=\"edge119\" class=\"edge\">\n",
       "<title>callgraphX__tile_3_1&#45;&gt;callgraphX__tile_3_2</title>\n",
       "<path fill=\"none\" stroke=\"#000000\" d=\"M372.86,-2001.02C355.78,-1990 335.68,-1976.21 318.72,-1962.28 292.56,-1940.79 293.69,-1926.08 264.72,-1908.54 219.27,-1881.02 182.13,-1915.4 150.72,-1872.54 136.61,-1853.28 134.17,-1836.02 150.72,-1818.8 185.98,-1782.13 1016.11,-1794.03 1065.72,-1782.8 1090.37,-1777.23 1256.59,-1710.66 1274.72,-1693.06 1293.63,-1674.72 1287.72,-1662.77 1299.72,-1639.32 1334.93,-1570.56 1384.72,-1564.96 1384.72,-1487.71 1384.72,-1487.71 1384.72,-1487.71 1384.72,-1216.49 1384.72,-1167.02 1336.09,-1043.57 1298.72,-1011.14 1250.85,-969.6 1199.48,-1025.3 1160.72,-975.14 1146.12,-956.24 1149.5,-942.48 1160.72,-921.4 1168.37,-907.05 1180.99,-895.43 1194.47,-886.3\"/>\n",
       "<polygon fill=\"#000000\" stroke=\"#000000\" points=\"1196.01,-889.47 1202.61,-881.18 1192.28,-883.54 1196.01,-889.47\"/>\n",
       "</g>\n",
       "<!-- callgraphX__tile_3_1&#45;&gt;callgraphX__tile_4_1 -->\n",
       "<g id=\"edge120\" class=\"edge\">\n",
       "<title>callgraphX__tile_3_1&#45;&gt;callgraphX__tile_4_1</title>\n",
       "<path fill=\"none\" stroke=\"#000000\" d=\"M404.51,-1998.3C404.03,-1990.61 403.87,-1982.01 404.04,-1973.74\"/>\n",
       "<polygon fill=\"#000000\" stroke=\"#000000\" points=\"407.53,-1974.03 404.44,-1963.89 400.54,-1973.74 407.53,-1974.03\"/>\n",
       "</g>\n",
       "<!-- callgraphX__tile_3_2&#45;&gt;callgraphX__print_maze -->\n",
       "<g id=\"edge123\" class=\"edge\">\n",
       "<title>callgraphX__tile_3_2&#45;&gt;callgraphX__print_maze</title>\n",
       "<path fill=\"none\" stroke=\"#000000\" d=\"M1237.27,-831.87C1210.63,-789.47 1152.26,-704.31 1083.72,-652.18 1052.37,-628.33 1027.98,-646.41 1002.72,-616.18 1000.02,-612.94 930.72,-325.31 930.72,-321.09 930.72,-321.09 930.72,-321.09 930.72,-229.35 930.72,-177.81 903.93,-150.82 939.72,-113.74 971.07,-81.26 1254.98,-62.95 1400.11,-55.64\"/>\n",
       "<polygon fill=\"#000000\" stroke=\"#000000\" points=\"1400.26,-59.14 1410.08,-55.15 1399.92,-52.15 1400.26,-59.14\"/>\n",
       "</g>\n",
       "<!-- callgraphX__tile_3_3&#45;&gt;callgraphX__print_maze -->\n",
       "<g id=\"edge127\" class=\"edge\">\n",
       "<title>callgraphX__tile_3_3&#45;&gt;callgraphX__print_maze</title>\n",
       "<path fill=\"none\" stroke=\"#000000\" d=\"M1211.54,-924.61C1194.61,-914.08 1175.54,-900.53 1160.72,-885.4 1074.48,-797.37 1081.08,-753.37 1010.72,-652.18 999.31,-635.76 992.3,-634.25 983.72,-616.18 980.1,-608.55 910.72,-329.53 910.72,-321.09 910.72,-321.09 910.72,-321.09 910.72,-229.35 910.72,-177.9 881.39,-151.14 916.72,-113.74 949.28,-79.29 1249.88,-61.79 1400.1,-55.14\"/>\n",
       "<polygon fill=\"#000000\" stroke=\"#000000\" points=\"1400.18,-58.64 1410.01,-54.7 1399.87,-51.64 1400.18,-58.64\"/>\n",
       "</g>\n",
       "<!-- callgraphX__tile_3_3&#45;&gt;callgraphX__tile_2_3 -->\n",
       "<g id=\"edge126\" class=\"edge\">\n",
       "<title>callgraphX__tile_3_3&#45;&gt;callgraphX__tile_2_3</title>\n",
       "<path fill=\"none\" stroke=\"#000000\" d=\"M1316.38,-930.66C1379.33,-915.11 1475.54,-891.98 1542.28,-876.36\"/>\n",
       "<polygon fill=\"#000000\" stroke=\"#000000\" points=\"1542.72,-879.85 1551.67,-874.16 1541.13,-873.03 1542.72,-879.85\"/>\n",
       "</g>\n",
       "<!-- callgraphX__tile_3_3&#45;&gt;callgraphX__tile_3_2 -->\n",
       "<g id=\"edge124\" class=\"edge\">\n",
       "<title>callgraphX__tile_3_3&#45;&gt;callgraphX__tile_3_2</title>\n",
       "<path fill=\"none\" stroke=\"#000000\" d=\"M1252.72,-921.42C1252.72,-913.72 1252.72,-905.13 1252.72,-896.86\"/>\n",
       "<polygon fill=\"#000000\" stroke=\"#000000\" points=\"1256.22,-897.01 1252.72,-887.01 1249.22,-897.01 1256.22,-897.01\"/>\n",
       "</g>\n",
       "<!-- callgraphX__tile_3_3&#45;&gt;callgraphX__tile_3_3 -->\n",
       "<g id=\"edge129\" class=\"edge\">\n",
       "<title>callgraphX__tile_3_3&#45;&gt;callgraphX__tile_3_3</title>\n",
       "<path fill=\"none\" stroke=\"#000000\" d=\"M1318.12,-965.07C1337.95,-964.65 1353.46,-959.05 1353.46,-948.27 1353.46,-939.68 1343.61,-934.38 1329.58,-932.37\"/>\n",
       "<polygon fill=\"#000000\" stroke=\"#000000\" points=\"1329.87,-928.88 1319.63,-931.59 1329.33,-935.86 1329.87,-928.88\"/>\n",
       "</g>\n",
       "<!-- callgraphX__tile_3_3&#45;&gt;callgraphX__tile_3_4 -->\n",
       "<g id=\"edge128\" class=\"edge\">\n",
       "<title>callgraphX__tile_3_3&#45;&gt;callgraphX__tile_3_4</title>\n",
       "<path fill=\"none\" stroke=\"#000000\" d=\"M1289,-923.82C1306.12,-912.51 1326.7,-898.58 1344.72,-885.4 1427.6,-824.83 1442.85,-802.49 1525.72,-741.92 1540.51,-731.11 1557.02,-719.79 1571.92,-709.83\"/>\n",
       "<polygon fill=\"#000000\" stroke=\"#000000\" points=\"1573.79,-712.79 1580.19,-704.34 1569.92,-706.96 1573.79,-712.79\"/>\n",
       "</g>\n",
       "<!-- callgraphX__tile_3_3&#45;&gt;callgraphX__tile_4_3 -->\n",
       "<g id=\"edge125\" class=\"edge\">\n",
       "<title>callgraphX__tile_3_3&#45;&gt;callgraphX__tile_4_3</title>\n",
       "<path fill=\"none\" stroke=\"#000000\" d=\"M1302.09,-970.13C1327.54,-981.85 1358.52,-996.63 1384.27,-1009.31\"/>\n",
       "<polygon fill=\"#000000\" stroke=\"#000000\" points=\"1382.71,-1012.44 1393.23,-1013.74 1385.82,-1006.17 1382.71,-1012.44\"/>\n",
       "</g>\n",
       "<!-- callgraphX__tile_3_4&#45;&gt;callgraphX__print_maze -->\n",
       "<g id=\"edge130\" class=\"edge\">\n",
       "<title>callgraphX__tile_3_4&#45;&gt;callgraphX__print_maze</title>\n",
       "<path fill=\"none\" stroke=\"#000000\" d=\"M1664.35,-656.65C1689.47,-644.95 1720.94,-630.07 1748.72,-616.18 1890.87,-545.14 2124.68,-502.27 2019.72,-382.96 1978.29,-335.86 1793.68,-378.97 1739.72,-346.96 1714.34,-331.9 1725.27,-309.6 1700.72,-293.22 1643.34,-254.92 1597.82,-306.68 1549.72,-257.22 1504.31,-210.52 1542.7,-174.7 1519.72,-113.74 1516.35,-104.79 1511.81,-95.59 1507.12,-87.11\"/>\n",
       "<polygon fill=\"#000000\" stroke=\"#000000\" points=\"1510.19,-85.41 1502.16,-78.5 1504.12,-88.91 1510.19,-85.41\"/>\n",
       "</g>\n",
       "<!-- callgraphX__tile_3_5&#45;&gt;callgraphX__print_maze -->\n",
       "<g id=\"edge131\" class=\"edge\">\n",
       "<title>callgraphX__tile_3_5&#45;&gt;callgraphX__print_maze</title>\n",
       "<path fill=\"none\" stroke=\"#000000\" d=\"M2028.55,-564.73C2040.83,-554.56 2053.12,-541.53 2059.72,-526.44 2085.29,-468.02 2101.78,-430.9 2059.72,-382.96 2019.23,-336.79 1837.9,-379.35 1785.72,-346.96 1761.3,-331.8 1773.44,-309.48 1749.72,-293.22 1689.61,-252.01 1640.87,-309.15 1589.72,-257.22 1544.01,-210.81 1593.42,-169.5 1559.72,-113.74 1552.28,-101.43 1541.49,-90.46 1530.39,-81.3\"/>\n",
       "<polygon fill=\"#000000\" stroke=\"#000000\" points=\"1532.72,-78.68 1522.68,-75.28 1528.41,-84.19 1532.72,-78.68\"/>\n",
       "</g>\n",
       "<!-- callgraphX__tile_3_6&#45;&gt;callgraphX__print_maze -->\n",
       "<g id=\"edge132\" class=\"edge\">\n",
       "<title>callgraphX__tile_3_6&#45;&gt;callgraphX__print_maze</title>\n",
       "<path fill=\"none\" stroke=\"#000000\" d=\"M1521.44,-295.72C1509.08,-285.5 1496.58,-272.37 1489.72,-257.22 1465.14,-202.87 1470.55,-131.87 1477.25,-89.19\"/>\n",
       "<polygon fill=\"#000000\" stroke=\"#000000\" points=\"1480.68,-89.87 1478.9,-79.43 1473.78,-88.71 1480.68,-89.87\"/>\n",
       "</g>\n",
       "<!-- callgraphX__tile_3_7&#45;&gt;callgraphX__print_maze -->\n",
       "<g id=\"edge135\" class=\"edge\">\n",
       "<title>callgraphX__tile_3_7&#45;&gt;callgraphX__print_maze</title>\n",
       "<path fill=\"none\" stroke=\"#000000\" d=\"M1832.17,-391.91C1776.72,-376.58 1702.71,-355.17 1690.72,-346.96 1665.72,-329.82 1674.07,-309.84 1648.72,-293.22 1595.36,-258.23 1551.77,-305.23 1509.72,-257.22 1488.49,-232.97 1484.74,-141.75 1484.4,-89.41\"/>\n",
       "<polygon fill=\"#000000\" stroke=\"#000000\" points=\"1487.9,-89.44 1484.38,-79.45 1480.9,-89.46 1487.9,-89.44\"/>\n",
       "</g>\n",
       "<!-- callgraphX__tile_3_7&#45;&gt;callgraphX__tile_2_7 -->\n",
       "<g id=\"edge134\" class=\"edge\">\n",
       "<title>callgraphX__tile_3_7&#45;&gt;callgraphX__tile_2_7</title>\n",
       "<path fill=\"none\" stroke=\"#000000\" d=\"M1833.12,-428.15C1776.5,-443.18 1692.48,-464.87 1631.52,-480.2\"/>\n",
       "<polygon fill=\"#000000\" stroke=\"#000000\" points=\"1630.74,-476.79 1621.89,-482.62 1632.44,-483.58 1630.74,-476.79\"/>\n",
       "</g>\n",
       "<!-- callgraphX__tile_3_7&#45;&gt;callgraphX__tile_3_6 -->\n",
       "<g id=\"edge133\" class=\"edge\">\n",
       "<title>callgraphX__tile_3_7&#45;&gt;callgraphX__tile_3_6</title>\n",
       "<path fill=\"none\" stroke=\"#000000\" d=\"M1831.89,-391.92C1820.52,-388.9 1808.78,-385.82 1797.72,-382.96 1733.85,-366.46 1717.6,-363.46 1653.72,-346.96 1646.21,-345.02 1638.38,-342.97 1630.56,-340.91\"/>\n",
       "<polygon fill=\"#000000\" stroke=\"#000000\" points=\"1631.59,-337.56 1621.03,-338.39 1629.8,-344.33 1631.59,-337.56\"/>\n",
       "</g>\n",
       "<!-- callgraphX__tile_3_7&#45;&gt;callgraphX__tile_3_7 -->\n",
       "<g id=\"edge138\" class=\"edge\">\n",
       "<title>callgraphX__tile_3_7&#45;&gt;callgraphX__tile_3_7</title>\n",
       "<path fill=\"none\" stroke=\"#000000\" d=\"M1960.12,-426.63C1979.95,-426.21 1995.46,-420.61 1995.46,-409.83 1995.46,-401.24 1985.61,-395.94 1971.58,-393.93\"/>\n",
       "<polygon fill=\"#000000\" stroke=\"#000000\" points=\"1971.87,-390.44 1961.63,-393.15 1971.33,-397.42 1971.87,-390.44\"/>\n",
       "</g>\n",
       "<!-- callgraphX__tile_3_7&#45;&gt;callgraphX__tile_3_8 -->\n",
       "<g id=\"edge136\" class=\"edge\">\n",
       "<title>callgraphX__tile_3_7&#45;&gt;callgraphX__tile_3_8</title>\n",
       "<path fill=\"none\" stroke=\"#000000\" d=\"M1830.76,-392.46C1815.13,-388.9 1798.39,-385.46 1782.72,-382.96 1670,-364.98 1345.08,-339.65 1184.62,-327.75\"/>\n",
       "<polygon fill=\"#000000\" stroke=\"#000000\" points=\"1185.1,-324.28 1174.87,-327.03 1184.58,-331.26 1185.1,-324.28\"/>\n",
       "</g>\n",
       "<!-- callgraphX__tile_3_7&#45;&gt;callgraphX__tile_4_7 -->\n",
       "<g id=\"edge137\" class=\"edge\">\n",
       "<title>callgraphX__tile_3_7&#45;&gt;callgraphX__tile_4_7</title>\n",
       "<path fill=\"none\" stroke=\"#000000\" d=\"M1938.74,-386.92C1966.19,-374.43 2001.87,-358.75 2032.21,-345.82\"/>\n",
       "<polygon fill=\"#000000\" stroke=\"#000000\" points=\"2033.46,-349.09 2041.3,-341.96 2030.73,-342.65 2033.46,-349.09\"/>\n",
       "</g>\n",
       "<!-- callgraphX__tile_3_8&#45;&gt;callgraphX__print_maze -->\n",
       "<g id=\"edge139\" class=\"edge\">\n",
       "<title>callgraphX__tile_3_8&#45;&gt;callgraphX__print_maze</title>\n",
       "<path fill=\"none\" stroke=\"#000000\" d=\"M1097.3,-293.04C1106.5,-248.88 1131.54,-159.66 1189.72,-113.74 1222.3,-88.03 1327.75,-70.43 1403.27,-60.76\"/>\n",
       "<polygon fill=\"#000000\" stroke=\"#000000\" points=\"1403.66,-64.24 1413.14,-59.52 1402.79,-57.29 1403.66,-64.24\"/>\n",
       "</g>\n",
       "<!-- callgraphX__tile_4_0&#45;&gt;callgraphX__print_maze -->\n",
       "<g id=\"edge140\" class=\"edge\">\n",
       "<title>callgraphX__tile_4_0&#45;&gt;callgraphX__print_maze</title>\n",
       "<path fill=\"none\" stroke=\"#000000\" d=\"M315.52,-1826.04C326.45,-1823.15 337.86,-1820.55 348.72,-1818.8 444.36,-1803.45 1131.34,-1822.44 1219.72,-1782.8 1250.05,-1769.2 1248.1,-1752.44 1271.72,-1729.06 1288.26,-1712.7 1296.89,-1712.47 1309.72,-1693.06 1323.78,-1671.81 1312.31,-1657.93 1329.72,-1639.32 1356.36,-1610.85 1386.49,-1634.63 1409.72,-1603.32 1440.6,-1561.72 1424.72,-1539.52 1424.72,-1487.71 1424.72,-1487.71 1424.72,-1487.71 1424.72,-1395.97 1424.72,-1328.31 1390.1,-1155.18 1349.72,-1100.88 1333.17,-1078.62 1315.65,-1086.86 1298.72,-1064.88 1283.18,-1044.69 1297.72,-1028.13 1278.72,-1011.14 1229.55,-967.16 1175.32,-1027.14 1134.72,-975.14 1120.03,-956.32 1134.06,-945.28 1134.72,-921.4 1135.84,-881.47 1131.63,-870.78 1139.72,-831.66 1148.33,-790.05 1153.11,-779.62 1172.72,-741.92 1181.71,-724.64 1189.72,-723.68 1197.72,-705.92 1214.61,-668.49 1213.72,-656.8 1219.72,-616.18 1227.9,-560.87 1212.09,-156.82 1247.72,-113.74 1267.82,-89.45 1344.14,-72.54 1404.81,-62.61\"/>\n",
       "<polygon fill=\"#000000\" stroke=\"#000000\" points=\"1405.13,-66.11 1414.45,-61.08 1404.02,-59.19 1405.13,-66.11\"/>\n",
       "</g>\n",
       "<!-- callgraphX__tile_4_1&#45;&gt;callgraphX__print_maze -->\n",
       "<g id=\"edge145\" class=\"edge\">\n",
       "<title>callgraphX__tile_4_1&#45;&gt;callgraphX__print_maze</title>\n",
       "<path fill=\"none\" stroke=\"#000000\" d=\"M344.78,-1918.79C273.18,-1901.69 168.55,-1876.18 165.72,-1872.54 151.05,-1853.7 149.15,-1836 165.72,-1818.8 203.26,-1779.85 1087.23,-1799.37 1138.72,-1782.8 1179.85,-1769.57 1182.33,-1750.71 1219.72,-1729.06 1250.69,-1711.14 1268.26,-1720.07 1291.72,-1693.06 1308.24,-1674.05 1295.78,-1660.3 1309.72,-1639.32 1323.15,-1619.13 1336.17,-1622.72 1350.72,-1603.32 1384.76,-1557.96 1404.72,-1544.42 1404.72,-1487.71 1404.72,-1487.71 1404.72,-1487.71 1404.72,-1395.97 1404.72,-1327.85 1358.71,-1158.09 1321.72,-1100.88 1308.19,-1079.95 1293.11,-1085.24 1278.72,-1064.88 1264.02,-1044.07 1277.59,-1028.28 1258.72,-1011.14 1212.77,-969.38 1161.56,-1024.38 1123.72,-975.14 1109.17,-956.2 1122.93,-945.27 1123.72,-921.4 1126.4,-841.18 1119.76,-818.52 1143.72,-741.92 1162.27,-682.64 1189.57,-676.42 1204.72,-616.18 1231.99,-507.78 1156.22,-198.82 1228.72,-113.74 1251.26,-87.3 1337.24,-70.45 1403.41,-61.12\"/>\n",
       "<polygon fill=\"#000000\" stroke=\"#000000\" points=\"1403.75,-64.61 1413.18,-59.78 1402.79,-57.67 1403.75,-64.61\"/>\n",
       "</g>\n",
       "<!-- callgraphX__tile_4_1&#45;&gt;callgraphX__tile_3_1 -->\n",
       "<g id=\"edge144\" class=\"edge\">\n",
       "<title>callgraphX__tile_4_1&#45;&gt;callgraphX__tile_3_1</title>\n",
       "<path fill=\"none\" stroke=\"#000000\" d=\"M416.95,-1962.38C417.43,-1970.09 417.58,-1978.68 417.4,-1986.95\"/>\n",
       "<polygon fill=\"#000000\" stroke=\"#000000\" points=\"413.91,-1986.66 417,-1996.79 420.91,-1986.94 413.91,-1986.66\"/>\n",
       "</g>\n",
       "<!-- callgraphX__tile_4_1&#45;&gt;callgraphX__tile_4_0 -->\n",
       "<g id=\"edge143\" class=\"edge\">\n",
       "<title>callgraphX__tile_4_1&#45;&gt;callgraphX__tile_4_0</title>\n",
       "<path fill=\"none\" stroke=\"#000000\" d=\"M370.92,-1911.59C351.52,-1900.46 327.99,-1886.97 307.42,-1875.17\"/>\n",
       "<polygon fill=\"#000000\" stroke=\"#000000\" points=\"309.32,-1872.23 298.9,-1870.29 305.84,-1878.3 309.32,-1872.23\"/>\n",
       "</g>\n",
       "<!-- callgraphX__tile_4_1&#45;&gt;callgraphX__tile_4_1 -->\n",
       "<g id=\"edge142\" class=\"edge\">\n",
       "<title>callgraphX__tile_4_1&#45;&gt;callgraphX__tile_4_1</title>\n",
       "<path fill=\"none\" stroke=\"#000000\" d=\"M476.12,-1952.21C495.95,-1951.79 511.46,-1946.19 511.46,-1935.41 511.46,-1926.82 501.61,-1921.52 487.58,-1919.51\"/>\n",
       "<polygon fill=\"#000000\" stroke=\"#000000\" points=\"487.87,-1916.02 477.63,-1918.73 487.33,-1923 487.87,-1916.02\"/>\n",
       "</g>\n",
       "<!-- callgraphX__tile_4_1&#45;&gt;callgraphX__tile_4_2 -->\n",
       "<g id=\"edge141\" class=\"edge\">\n",
       "<title>callgraphX__tile_4_1&#45;&gt;callgraphX__tile_4_2</title>\n",
       "<path fill=\"none\" stroke=\"#000000\" d=\"M338.36,-1921.91C265.59,-1908.6 162.5,-1887.45 150.72,-1872.54 135.92,-1853.8 134.17,-1836.02 150.72,-1818.8 221.24,-1745.46 989.15,-1849.8 1065.72,-1782.8 1114.44,-1740.18 1057.19,-1694.69 1090.72,-1639.32 1138.31,-1560.76 1214.09,-1595.95 1254.72,-1513.58 1265.29,-1492.16 1267.65,-1479.93 1254.72,-1459.84 1233.85,-1427.39 1196.6,-1456.29 1175.72,-1423.84 1162.8,-1403.75 1170.85,-1393.48 1175.72,-1370.1 1188.67,-1308.07 1303.64,-1154.41 1269.72,-1100.88 1254.73,-1077.21 1099.05,-1010.66 1010.13,-974.1\"/>\n",
       "<polygon fill=\"#000000\" stroke=\"#000000\" points=\"1011.61,-970.92 1001.03,-970.37 1008.96,-977.4 1011.61,-970.92\"/>\n",
       "</g>\n",
       "<!-- callgraphX__tile_4_1&#45;&gt;callgraphX__tile_5_1 -->\n",
       "<g id=\"edge146\" class=\"edge\">\n",
       "<title>callgraphX__tile_4_1&#45;&gt;callgraphX__tile_5_1</title>\n",
       "<path fill=\"none\" stroke=\"#000000\" d=\"M413.35,-1908.56C415.59,-1900.53 418.52,-1891.52 421.67,-1882.92\"/>\n",
       "<polygon fill=\"#000000\" stroke=\"#000000\" points=\"424.88,-1884.34 425.2,-1873.75 418.34,-1881.83 424.88,-1884.34\"/>\n",
       "</g>\n",
       "<!-- callgraphX__tile_4_2&#45;&gt;callgraphX__print_maze -->\n",
       "<g id=\"edge147\" class=\"edge\">\n",
       "<title>callgraphX__tile_4_2&#45;&gt;callgraphX__print_maze</title>\n",
       "<path fill=\"none\" stroke=\"#000000\" d=\"M937.1,-921.4C922.9,-887.36 900.72,-825.33 900.72,-769.79 900.72,-769.79 900.72,-769.79 900.72,-588.31 900.72,-536.74 908.25,-521.21 890.72,-472.7 884.11,-454.38 872.73,-454.88 865.72,-436.7 847.08,-388.36 850.72,-372.9 850.72,-321.09 850.72,-321.09 850.72,-321.09 850.72,-229.35 850.72,-177.54 828.55,-149.83 865.72,-113.74 903.32,-77.23 1239.72,-60.52 1400.23,-54.57\"/>\n",
       "<polygon fill=\"#000000\" stroke=\"#000000\" points=\"1400.1,-58.08 1409.96,-54.22 1399.84,-51.08 1400.1,-58.08\"/>\n",
       "</g>\n",
       "<!-- callgraphX__tile_4_3&#45;&gt;callgraphX__print_maze -->\n",
       "<g id=\"edge152\" class=\"edge\">\n",
       "<title>callgraphX__tile_4_3&#45;&gt;callgraphX__print_maze</title>\n",
       "<path fill=\"none\" stroke=\"#000000\" d=\"M1493.56,-1018.42C1513.71,-1008.84 1534.16,-994.91 1545.72,-975.14 1557.78,-954.52 1560.28,-940.34 1545.72,-921.4 1507.89,-872.16 1463.51,-918.11 1410.72,-885.4 1405.08,-881.9 1334.8,-801.55 1331.72,-795.66 1246.4,-632.22 1282.89,-567.2 1289.72,-382.96 1291.95,-323.01 1273.3,-161.41 1309.72,-113.74 1331.88,-84.75 1368.68,-69.3 1402.83,-61.08\"/>\n",
       "<polygon fill=\"#000000\" stroke=\"#000000\" points=\"1403.32,-64.56 1412.33,-58.99 1401.81,-57.72 1403.32,-64.56\"/>\n",
       "</g>\n",
       "<!-- callgraphX__tile_4_3&#45;&gt;callgraphX__tile_3_3 -->\n",
       "<g id=\"edge153\" class=\"edge\">\n",
       "<title>callgraphX__tile_4_3&#45;&gt;callgraphX__tile_3_3</title>\n",
       "<path fill=\"none\" stroke=\"#000000\" d=\"M1386.52,-1016.22C1360.95,-1004.45 1329.79,-989.59 1303.95,-976.86\"/>\n",
       "<polygon fill=\"#000000\" stroke=\"#000000\" points=\"1305.83,-973.89 1295.32,-972.59 1302.73,-980.16 1305.83,-973.89\"/>\n",
       "</g>\n",
       "<!-- callgraphX__tile_4_3&#45;&gt;callgraphX__tile_4_2 -->\n",
       "<g id=\"edge148\" class=\"edge\">\n",
       "<title>callgraphX__tile_4_3&#45;&gt;callgraphX__tile_4_2</title>\n",
       "<path fill=\"none\" stroke=\"#000000\" d=\"M1364.13,-1024.11C1275.46,-1008.14 1124.72,-980.98 1031.27,-964.14\"/>\n",
       "<polygon fill=\"#000000\" stroke=\"#000000\" points=\"1032.12,-960.74 1021.66,-962.41 1030.88,-967.63 1032.12,-960.74\"/>\n",
       "</g>\n",
       "<!-- callgraphX__tile_4_3&#45;&gt;callgraphX__tile_4_3 -->\n",
       "<g id=\"edge150\" class=\"edge\">\n",
       "<title>callgraphX__tile_4_3&#45;&gt;callgraphX__tile_4_3</title>\n",
       "<path fill=\"none\" stroke=\"#000000\" d=\"M1501.12,-1054.81C1520.95,-1054.39 1536.46,-1048.79 1536.46,-1038.01 1536.46,-1029.42 1526.61,-1024.12 1512.58,-1022.11\"/>\n",
       "<polygon fill=\"#000000\" stroke=\"#000000\" points=\"1512.87,-1018.62 1502.63,-1021.33 1512.33,-1025.6 1512.87,-1018.62\"/>\n",
       "</g>\n",
       "<!-- callgraphX__tile_4_3&#45;&gt;callgraphX__tile_4_4 -->\n",
       "<g id=\"edge151\" class=\"edge\">\n",
       "<title>callgraphX__tile_4_3&#45;&gt;callgraphX__tile_4_4</title>\n",
       "<path fill=\"none\" stroke=\"#000000\" d=\"M1511.6,-1049.13C1627.54,-1065.16 1847.93,-1096.38 1969.31,-1113.95\"/>\n",
       "<polygon fill=\"#000000\" stroke=\"#000000\" points=\"1968.49,-1117.36 1978.89,-1115.33 1969.49,-1110.43 1968.49,-1117.36\"/>\n",
       "</g>\n",
       "<!-- callgraphX__tile_4_3&#45;&gt;callgraphX__tile_5_3 -->\n",
       "<g id=\"edge149\" class=\"edge\">\n",
       "<title>callgraphX__tile_4_3&#45;&gt;callgraphX__tile_5_3</title>\n",
       "<path fill=\"none\" stroke=\"#000000\" d=\"M1441.03,-1011.16C1442.62,-1003.38 1444.41,-994.68 1446.12,-986.31\"/>\n",
       "<polygon fill=\"#000000\" stroke=\"#000000\" points=\"1449.51,-987.22 1448.09,-976.72 1442.65,-985.82 1449.51,-987.22\"/>\n",
       "</g>\n",
       "<!-- callgraphX__tile_4_4&#45;&gt;callgraphX__print_maze -->\n",
       "<g id=\"edge158\" class=\"edge\">\n",
       "<title>callgraphX__tile_4_4&#45;&gt;callgraphX__print_maze</title>\n",
       "<path fill=\"none\" stroke=\"#000000\" d=\"M2096.34,-1104.25C2143.75,-1075.24 2214.72,-1020 2214.72,-949.27 2214.72,-949.27 2214.72,-949.27 2214.72,-408.83 2214.72,-317.54 2267.67,-274.03 2209.72,-203.48 2163.19,-146.82 2105.12,-214.33 2048.72,-167.48 2028.74,-150.88 2046.56,-129.26 2025.72,-113.74 1955.55,-61.48 1704.01,-52.45 1570.07,-51.45\"/>\n",
       "<polygon fill=\"#000000\" stroke=\"#000000\" points=\"1570.2,-47.95 1560.18,-51.39 1570.16,-54.95 1570.2,-47.95\"/>\n",
       "</g>\n",
       "<!-- callgraphX__tile_4_4&#45;&gt;callgraphX__tile_3_4 -->\n",
       "<g id=\"edge159\" class=\"edge\">\n",
       "<title>callgraphX__tile_4_4&#45;&gt;callgraphX__tile_3_4</title>\n",
       "<path fill=\"none\" stroke=\"#000000\" d=\"M2054.72,-1100.59C2054.72,-1065.97 2054.72,-1003.04 2054.72,-949.27 2054.72,-949.27 2054.72,-949.27 2054.72,-857.53 2054.72,-689.64 1872.55,-742.67 1708.72,-705.92 1701.99,-704.41 1695.02,-702.7 1688.07,-700.89\"/>\n",
       "<polygon fill=\"#000000\" stroke=\"#000000\" points=\"1689.22,-697.58 1678.66,-698.39 1687.42,-704.34 1689.22,-697.58\"/>\n",
       "</g>\n",
       "<!-- callgraphX__tile_4_4&#45;&gt;callgraphX__tile_4_3 -->\n",
       "<g id=\"edge156\" class=\"edge\">\n",
       "<title>callgraphX__tile_4_4&#45;&gt;callgraphX__tile_4_3</title>\n",
       "<path fill=\"none\" stroke=\"#000000\" d=\"M1978.6,-1116.6C1862.66,-1100.57 1642.68,-1069.41 1521.34,-1051.85\"/>\n",
       "<polygon fill=\"#000000\" stroke=\"#000000\" points=\"1522.16,-1048.43 1511.76,-1050.46 1521.16,-1055.36 1522.16,-1048.43\"/>\n",
       "</g>\n",
       "<!-- callgraphX__tile_4_4&#45;&gt;callgraphX__tile_4_4 -->\n",
       "<g id=\"edge157\" class=\"edge\">\n",
       "<title>callgraphX__tile_4_4&#45;&gt;callgraphX__tile_4_4</title>\n",
       "<path fill=\"none\" stroke=\"#000000\" d=\"M2120.12,-1144.55C2139.95,-1144.13 2155.46,-1138.53 2155.46,-1127.75 2155.46,-1119.16 2145.61,-1113.86 2131.58,-1111.85\"/>\n",
       "<polygon fill=\"#000000\" stroke=\"#000000\" points=\"2131.87,-1108.36 2121.63,-1111.07 2131.33,-1115.34 2131.87,-1108.36\"/>\n",
       "</g>\n",
       "<!-- callgraphX__tile_4_4&#45;&gt;callgraphX__tile_4_5 -->\n",
       "<g id=\"edge155\" class=\"edge\">\n",
       "<title>callgraphX__tile_4_4&#45;&gt;callgraphX__tile_4_5</title>\n",
       "<path fill=\"none\" stroke=\"#000000\" d=\"M2083.11,-1153.17C2091.98,-1162.22 2101.66,-1172.65 2110.24,-1182.41\"/>\n",
       "<polygon fill=\"#000000\" stroke=\"#000000\" points=\"2107.59,-1184.69 2116.78,-1189.97 2112.89,-1180.11 2107.59,-1184.69\"/>\n",
       "</g>\n",
       "<!-- callgraphX__tile_4_4&#45;&gt;callgraphX__tile_5_4 -->\n",
       "<g id=\"edge154\" class=\"edge\">\n",
       "<title>callgraphX__tile_4_4&#45;&gt;callgraphX__tile_5_4</title>\n",
       "<path fill=\"none\" stroke=\"#000000\" d=\"M2017.04,-1103.47C1999.49,-1092.62 1978.43,-1079.61 1959.84,-1068.12\"/>\n",
       "<polygon fill=\"#000000\" stroke=\"#000000\" points=\"1961.72,-1065.17 1951.38,-1062.89 1958.04,-1071.13 1961.72,-1065.17\"/>\n",
       "</g>\n",
       "<!-- callgraphX__tile_4_5&#45;&gt;callgraphX__print_maze -->\n",
       "<g id=\"edge165\" class=\"edge\">\n",
       "<title>callgraphX__tile_4_5&#45;&gt;callgraphX__print_maze</title>\n",
       "<path fill=\"none\" stroke=\"#000000\" d=\"M2152.09,-1190.93C2158.77,-1180.12 2165.92,-1167.15 2170.72,-1154.62 2189.5,-1105.62 2194.72,-1091.49 2194.72,-1039.01 2194.72,-1039.01 2194.72,-1039.01 2194.72,-498.57 2194.72,-446.76 2216.31,-419.64 2179.72,-382.96 2093.61,-296.62 2008.6,-415.47 1907.72,-346.96 1885.1,-331.59 1899.72,-309.48 1877.72,-293.22 1816.31,-247.84 1763.59,-311.35 1709.72,-257.22 1663.77,-211.04 1723.4,-162.08 1679.72,-113.74 1651.27,-82.25 1606.9,-66.68 1567.66,-59.03\"/>\n",
       "<polygon fill=\"#000000\" stroke=\"#000000\" points=\"1568.43,-55.61 1557.97,-57.29 1567.2,-62.5 1568.43,-55.61\"/>\n",
       "</g>\n",
       "<!-- callgraphX__tile_4_5&#45;&gt;callgraphX__tile_3_5 -->\n",
       "<g id=\"edge162\" class=\"edge\">\n",
       "<title>callgraphX__tile_4_5&#45;&gt;callgraphX__tile_3_5</title>\n",
       "<path fill=\"none\" stroke=\"#000000\" d=\"M2150.32,-1190.96C2156.05,-1180.16 2161.84,-1167.19 2164.72,-1154.62 2170.07,-1131.34 2169.14,-1124.35 2164.72,-1100.88 2132.79,-931.12 2123.8,-876.67 2015.72,-741.92 1999.7,-721.94 1981.82,-729.01 1970.72,-705.92 1958.73,-680.96 1965.6,-650.03 1974.73,-626.44\"/>\n",
       "<polygon fill=\"#000000\" stroke=\"#000000\" points=\"1977.95,-627.81 1978.58,-617.23 1971.49,-625.1 1977.95,-627.81\"/>\n",
       "</g>\n",
       "<!-- callgraphX__tile_4_5&#45;&gt;callgraphX__tile_4_4 -->\n",
       "<g id=\"edge164\" class=\"edge\">\n",
       "<title>callgraphX__tile_4_5&#45;&gt;callgraphX__tile_4_4</title>\n",
       "<path fill=\"none\" stroke=\"#000000\" d=\"M2106.32,-1192.05C2097.48,-1183.04 2087.86,-1172.67 2079.31,-1162.96\"/>\n",
       "<polygon fill=\"#000000\" stroke=\"#000000\" points=\"2081.99,-1160.7 2072.8,-1155.43 2076.69,-1165.28 2081.99,-1160.7\"/>\n",
       "</g>\n",
       "<!-- callgraphX__tile_4_5&#45;&gt;callgraphX__tile_4_5 -->\n",
       "<g id=\"edge161\" class=\"edge\">\n",
       "<title>callgraphX__tile_4_5&#45;&gt;callgraphX__tile_4_5</title>\n",
       "<path fill=\"none\" stroke=\"#000000\" d=\"M2200.12,-1234.29C2219.95,-1233.87 2235.46,-1228.27 2235.46,-1217.49 2235.46,-1208.9 2225.61,-1203.6 2211.58,-1201.59\"/>\n",
       "<polygon fill=\"#000000\" stroke=\"#000000\" points=\"2211.87,-1198.1 2201.63,-1200.81 2211.33,-1205.08 2211.87,-1198.1\"/>\n",
       "</g>\n",
       "<!-- callgraphX__tile_4_5&#45;&gt;callgraphX__tile_4_6 -->\n",
       "<g id=\"edge160\" class=\"edge\">\n",
       "<title>callgraphX__tile_4_5&#45;&gt;callgraphX__tile_4_6</title>\n",
       "<path fill=\"none\" stroke=\"#000000\" d=\"M2166.27,-1192.44C2178.19,-1181.95 2190.98,-1168.82 2199.72,-1154.62 2227.88,-1108.91 2234.72,-1092.7 2234.72,-1039.01 2234.72,-1039.01 2234.72,-1039.01 2234.72,-408.83 2234.72,-352.96 2272.6,-298.3 2301.5,-264.73\"/>\n",
       "<polygon fill=\"#000000\" stroke=\"#000000\" points=\"2303.99,-267.2 2308,-257.39 2298.75,-262.56 2303.99,-267.2\"/>\n",
       "</g>\n",
       "<!-- callgraphX__tile_4_5&#45;&gt;callgraphX__tile_5_5 -->\n",
       "<g id=\"edge163\" class=\"edge\">\n",
       "<title>callgraphX__tile_4_5&#45;&gt;callgraphX__tile_5_5</title>\n",
       "<path fill=\"none\" stroke=\"#000000\" d=\"M2140.95,-1244.46C2141.43,-1252.17 2141.58,-1260.76 2141.4,-1269.03\"/>\n",
       "<polygon fill=\"#000000\" stroke=\"#000000\" points=\"2137.91,-1268.73 2141,-1278.87 2144.91,-1269.02 2137.91,-1268.73\"/>\n",
       "</g>\n",
       "<!-- callgraphX__tile_4_6&#45;&gt;callgraphX__print_maze -->\n",
       "<g id=\"edge166\" class=\"edge\">\n",
       "<title>callgraphX__tile_4_6&#45;&gt;callgraphX__print_maze</title>\n",
       "<path fill=\"none\" stroke=\"#000000\" d=\"M2377.37,-207.37C2392.37,-197.4 2407.45,-184.08 2415.72,-167.48 2426.37,-146.1 2432.04,-131.18 2415.72,-113.74 2358.64,-52.73 1788.91,-49.87 1569.89,-51.06\"/>\n",
       "<polygon fill=\"#000000\" stroke=\"#000000\" points=\"1569.97,-47.56 1559.99,-51.12 1570.01,-54.56 1569.97,-47.56\"/>\n",
       "</g>\n",
       "<!-- callgraphX__tile_4_7&#45;&gt;callgraphX__print_maze -->\n",
       "<g id=\"edge170\" class=\"edge\">\n",
       "<title>callgraphX__tile_4_7&#45;&gt;callgraphX__print_maze</title>\n",
       "<path fill=\"none\" stroke=\"#000000\" d=\"M2032.5,-301.95C2020.97,-298.93 2009,-295.9 1997.72,-293.22 1921.31,-275.09 1882.93,-309.95 1824.72,-257.22 1799.96,-234.79 1804.47,-136.19 1779.72,-113.74 1748.93,-85.8 1642.67,-68.7 1566.51,-59.76\"/>\n",
       "<polygon fill=\"#000000\" stroke=\"#000000\" points=\"1567.35,-56.33 1557.01,-58.67 1566.55,-63.29 1567.35,-56.33\"/>\n",
       "</g>\n",
       "<!-- callgraphX__tile_4_7&#45;&gt;callgraphX__tile_3_7 -->\n",
       "<g id=\"edge172\" class=\"edge\">\n",
       "<title>callgraphX__tile_4_7&#45;&gt;callgraphX__tile_3_7</title>\n",
       "<path fill=\"none\" stroke=\"#000000\" d=\"M2050.56,-343.07C2023.09,-355.56 1987.43,-371.24 1957.13,-384.15\"/>\n",
       "<polygon fill=\"#000000\" stroke=\"#000000\" points=\"1955.88,-380.87 1948.04,-388 1958.62,-387.32 1955.88,-380.87\"/>\n",
       "</g>\n",
       "<!-- callgraphX__tile_4_7&#45;&gt;callgraphX__tile_4_6 -->\n",
       "<g id=\"edge167\" class=\"edge\">\n",
       "<title>callgraphX__tile_4_7&#45;&gt;callgraphX__tile_4_6</title>\n",
       "<path fill=\"none\" stroke=\"#000000\" d=\"M2148.36,-299.4C2184.21,-286.24 2231.57,-268.85 2269.44,-254.95\"/>\n",
       "<polygon fill=\"#000000\" stroke=\"#000000\" points=\"2270.25,-258.38 2278.43,-251.65 2267.84,-251.81 2270.25,-258.38\"/>\n",
       "</g>\n",
       "<!-- callgraphX__tile_4_7&#45;&gt;callgraphX__tile_4_7 -->\n",
       "<g id=\"edge171\" class=\"edge\">\n",
       "<title>callgraphX__tile_4_7&#45;&gt;callgraphX__tile_4_7</title>\n",
       "<path fill=\"none\" stroke=\"#000000\" d=\"M2160.12,-336.89C2179.95,-336.47 2195.46,-330.87 2195.46,-320.09 2195.46,-311.5 2185.61,-306.2 2171.58,-304.19\"/>\n",
       "<polygon fill=\"#000000\" stroke=\"#000000\" points=\"2171.87,-300.7 2161.63,-303.41 2171.33,-307.68 2171.87,-300.7\"/>\n",
       "</g>\n",
       "<!-- callgraphX__tile_4_7&#45;&gt;callgraphX__tile_4_8 -->\n",
       "<g id=\"edge169\" class=\"edge\">\n",
       "<title>callgraphX__tile_4_7&#45;&gt;callgraphX__tile_4_8</title>\n",
       "<path fill=\"none\" stroke=\"#000000\" d=\"M2050.27,-297.18C2026.37,-285.4 1996.71,-270.78 1971.41,-258.31\"/>\n",
       "<polygon fill=\"#000000\" stroke=\"#000000\" points=\"1973.11,-255.24 1962.59,-253.96 1970.01,-261.52 1973.11,-255.24\"/>\n",
       "</g>\n",
       "<!-- callgraphX__tile_4_7&#45;&gt;callgraphX__tile_5_7 -->\n",
       "<g id=\"edge168\" class=\"edge\">\n",
       "<title>callgraphX__tile_4_7&#45;&gt;callgraphX__tile_5_7</title>\n",
       "<path fill=\"none\" stroke=\"#000000\" d=\"M2089.98,-293.24C2089.94,-285.54 2090.27,-276.95 2090.91,-268.68\"/>\n",
       "<polygon fill=\"#000000\" stroke=\"#000000\" points=\"2094.39,-269.12 2091.87,-258.83 2087.42,-268.44 2094.39,-269.12\"/>\n",
       "</g>\n",
       "<!-- callgraphX__tile_4_8&#45;&gt;callgraphX__print_maze -->\n",
       "<g id=\"edge173\" class=\"edge\">\n",
       "<title>callgraphX__tile_4_8&#45;&gt;callgraphX__print_maze</title>\n",
       "<path fill=\"none\" stroke=\"#000000\" d=\"M1873.57,-207.07C1856.71,-196.77 1838.23,-183.28 1824.72,-167.48 1807.61,-147.45 1820.46,-129.99 1799.72,-113.74 1764.27,-85.96 1648,-68.59 1567.1,-59.57\"/>\n",
       "<polygon fill=\"#000000\" stroke=\"#000000\" points=\"1567.76,-56.12 1557.44,-58.51 1567,-63.08 1567.76,-56.12\"/>\n",
       "</g>\n",
       "<!-- callgraphX__tile_5_0&#45;&gt;callgraphX__print_maze -->\n",
       "<g id=\"edge174\" class=\"edge\">\n",
       "<title>callgraphX__tile_5_0&#45;&gt;callgraphX__print_maze</title>\n",
       "<path fill=\"none\" stroke=\"#000000\" d=\"M1591.16,-1728.78C1592.94,-1694.17 1595.72,-1631.25 1595.72,-1577.45 1595.72,-1577.45 1595.72,-1577.45 1595.72,-1306.23 1595.72,-1263.47 1622.1,-954.25 1594.72,-921.4 1560.44,-880.26 1519.39,-921.39 1479.72,-885.4 1439.34,-848.76 1354.72,-465.36 1354.72,-410.83 1354.72,-410.83 1354.72,-410.83 1354.72,-229.35 1354.72,-177.64 1338.61,-156.47 1367.72,-113.74 1379.95,-95.79 1399.1,-82.67 1418.39,-73.24\"/>\n",
       "<polygon fill=\"#000000\" stroke=\"#000000\" points=\"1419.74,-76.48 1427.39,-69.14 1416.84,-70.11 1419.74,-76.48\"/>\n",
       "</g>\n",
       "<!-- callgraphX__tile_5_1&#45;&gt;callgraphX__print_maze -->\n",
       "<g id=\"edge179\" class=\"edge\">\n",
       "<title>callgraphX__tile_5_1&#45;&gt;callgraphX__print_maze</title>\n",
       "<path fill=\"none\" stroke=\"#000000\" d=\"M504.03,-1828C519.83,-1824.4 536.81,-1821.02 552.72,-1818.8 631.95,-1807.76 1205.38,-1827.48 1271.72,-1782.8 1293.57,-1768.09 1281.32,-1750.43 1296.72,-1729.06 1344.28,-1663.07 1389.81,-1674.2 1429.72,-1603.32 1505.33,-1469.04 1649.61,-1043.6 1555.72,-921.4 1517.89,-872.16 1467.4,-926.35 1420.72,-885.4 1388.29,-856.95 1397.55,-836.53 1383.72,-795.66 1332.01,-642.77 1343.94,-597.38 1328.72,-436.7 1321.96,-365.25 1284.32,-171.64 1326.72,-113.74 1345.48,-88.13 1376.45,-73.12 1406.02,-64.32\"/>\n",
       "<polygon fill=\"#000000\" stroke=\"#000000\" points=\"1406.65,-67.77 1415.36,-61.75 1404.79,-61.02 1406.65,-67.77\"/>\n",
       "</g>\n",
       "<!-- callgraphX__tile_5_1&#45;&gt;callgraphX__tile_4_1 -->\n",
       "<g id=\"edge176\" class=\"edge\">\n",
       "<title>callgraphX__tile_5_1&#45;&gt;callgraphX__tile_4_1</title>\n",
       "<path fill=\"none\" stroke=\"#000000\" d=\"M438.08,-1872.6C435.82,-1880.69 432.86,-1889.76 429.69,-1898.41\"/>\n",
       "<polygon fill=\"#000000\" stroke=\"#000000\" points=\"426.47,-1897.03 426.13,-1907.62 433,-1899.55 426.47,-1897.03\"/>\n",
       "</g>\n",
       "<!-- callgraphX__tile_5_1&#45;&gt;callgraphX__tile_5_0 -->\n",
       "<g id=\"edge175\" class=\"edge\">\n",
       "<title>callgraphX__tile_5_1&#45;&gt;callgraphX__tile_5_0</title>\n",
       "<path fill=\"none\" stroke=\"#000000\" d=\"M504.52,-1828.14C521.09,-1824.45 538.98,-1820.99 555.72,-1818.8 971.62,-1764.55 1084.5,-1848.62 1498.72,-1782.8 1506.14,-1781.62 1513.8,-1780.04 1521.39,-1778.24\"/>\n",
       "<polygon fill=\"#000000\" stroke=\"#000000\" points=\"1522.11,-1781.67 1530.95,-1775.83 1520.4,-1774.88 1522.11,-1781.67\"/>\n",
       "</g>\n",
       "<!-- callgraphX__tile_5_1&#45;&gt;callgraphX__tile_5_1 -->\n",
       "<g id=\"edge180\" class=\"edge\">\n",
       "<title>callgraphX__tile_5_1&#45;&gt;callgraphX__tile_5_1</title>\n",
       "<path fill=\"none\" stroke=\"#000000\" d=\"M506.12,-1862.47C525.95,-1862.05 541.46,-1856.45 541.46,-1845.67 541.46,-1837.08 531.61,-1831.78 517.58,-1829.77\"/>\n",
       "<polygon fill=\"#000000\" stroke=\"#000000\" points=\"517.87,-1826.28 507.63,-1828.99 517.33,-1833.26 517.87,-1826.28\"/>\n",
       "</g>\n",
       "<!-- callgraphX__tile_5_1&#45;&gt;callgraphX__tile_5_2 -->\n",
       "<g id=\"edge178\" class=\"edge\">\n",
       "<title>callgraphX__tile_5_1&#45;&gt;callgraphX__tile_5_2</title>\n",
       "<path fill=\"none\" stroke=\"#000000\" d=\"M496.86,-1825.69C507.03,-1822.91 517.61,-1820.44 527.72,-1818.8 654.37,-1798.35 1569.91,-1845.69 1681.72,-1782.8 1706.57,-1768.83 1692.81,-1744.57 1716.72,-1729.06 1802.43,-1673.48 1867.46,-1761.03 1943.72,-1693.06 1962.24,-1676.56 1940.83,-1656.48 1958.72,-1639.32 1983.78,-1615.3 2067.57,-1598.42 2134.12,-1588.43\"/>\n",
       "<polygon fill=\"#000000\" stroke=\"#000000\" points=\"2134.59,-1591.9 2143.98,-1586.98 2133.58,-1584.97 2134.59,-1591.9\"/>\n",
       "</g>\n",
       "<!-- callgraphX__tile_5_1&#45;&gt;callgraphX__tile_6_1 -->\n",
       "<g id=\"edge177\" class=\"edge\">\n",
       "<title>callgraphX__tile_5_1&#45;&gt;callgraphX__tile_6_1</title>\n",
       "<path fill=\"none\" stroke=\"#000000\" d=\"M501.22,-1827.06C515.99,-1823.82 531.82,-1820.83 546.72,-1818.8 871.24,-1774.7 959.14,-1833.28 1282.72,-1782.8 1293.08,-1781.19 1303.92,-1778.9 1314.56,-1776.36\"/>\n",
       "<polygon fill=\"#000000\" stroke=\"#000000\" points=\"1315.22,-1779.8 1324.08,-1773.99 1313.53,-1773 1315.22,-1779.8\"/>\n",
       "</g>\n",
       "<!-- callgraphX__tile_5_2&#45;&gt;callgraphX__print_maze -->\n",
       "<g id=\"edge181\" class=\"edge\">\n",
       "<title>callgraphX__tile_5_2&#45;&gt;callgraphX__print_maze</title>\n",
       "<path fill=\"none\" stroke=\"#000000\" d=\"M2229.18,-1549.6C2239.8,-1505.66 2260.61,-1413.45 2268.72,-1334.1 2286.14,-1163.93 2274.72,-1120.33 2274.72,-949.27 2274.72,-949.27 2274.72,-949.27 2274.72,-588.31 2274.72,-490.36 2271.85,-443.34 2194.72,-382.96 2096.98,-306.43 2014.89,-424.24 1917.72,-346.96 1897.78,-331.1 1917.03,-309.85 1897.72,-293.22 1838.88,-242.54 1782.33,-311.44 1726.72,-257.22 1679.8,-211.47 1737.74,-161.37 1692.72,-113.74 1660.83,-80 1611.44,-64.4 1568.79,-57.3\"/>\n",
       "<polygon fill=\"#000000\" stroke=\"#000000\" points=\"1569.45,-53.86 1559.04,-55.83 1568.4,-60.78 1569.45,-53.86\"/>\n",
       "</g>\n",
       "<!-- callgraphX__tile_5_3&#45;&gt;callgraphX__print_maze -->\n",
       "<g id=\"edge182\" class=\"edge\">\n",
       "<title>callgraphX__tile_5_3&#45;&gt;callgraphX__print_maze</title>\n",
       "<path fill=\"none\" stroke=\"#000000\" d=\"M1414.38,-924.33C1399,-913.92 1382.11,-900.54 1369.72,-885.4 1353.04,-865.01 1361.32,-852.12 1344.72,-831.66 1327.93,-810.95 1309.57,-819.03 1296.72,-795.66 1252.45,-715.12 1266.32,-474.8 1269.72,-382.96 1271.95,-323.01 1252.52,-160.81 1289.72,-113.74 1316.14,-80.32 1360.61,-64.63 1400.41,-57.4\"/>\n",
       "<polygon fill=\"#000000\" stroke=\"#000000\" points=\"1400.98,-60.86 1410.28,-55.78 1399.84,-53.95 1400.98,-60.86\"/>\n",
       "</g>\n",
       "<!-- callgraphX__tile_5_4&#45;&gt;callgraphX__print_maze -->\n",
       "<g id=\"edge183\" class=\"edge\">\n",
       "<title>callgraphX__tile_5_4&#45;&gt;callgraphX__print_maze</title>\n",
       "<path fill=\"none\" stroke=\"#000000\" d=\"M1924.34,-1011.14C1938.55,-977.1 1960.72,-915.07 1960.72,-859.53 1960.72,-859.53 1960.72,-859.53 1960.72,-767.79 1960.72,-716.22 1937.92,-691.98 1970.72,-652.18 2007.77,-607.24 2058.64,-660.25 2096.72,-616.18 2130.62,-576.96 2130.22,-418.75 2092.72,-382.96 2003.23,-297.56 1914.76,-422.41 1816.72,-346.96 1796.27,-331.22 1814.53,-309.77 1794.72,-293.22 1735.79,-243.98 1682.02,-309.45 1625.72,-257.22 1601.37,-234.62 1603.79,-140.22 1583.72,-113.74 1572.57,-99.03 1556.82,-86.95 1541.16,-77.5\"/>\n",
       "<polygon fill=\"#000000\" stroke=\"#000000\" points=\"1543.19,-74.63 1532.77,-72.7 1539.71,-80.7 1543.19,-74.63\"/>\n",
       "</g>\n",
       "<!-- callgraphX__tile_5_5&#45;&gt;callgraphX__print_maze -->\n",
       "<g id=\"edge189\" class=\"edge\">\n",
       "<title>callgraphX__tile_5_5&#45;&gt;callgraphX__print_maze</title>\n",
       "<path fill=\"none\" stroke=\"#000000\" d=\"M2091.24,-1284.13C2027.77,-1248.72 1921.53,-1175.62 1962.72,-1100.88 1977.19,-1074.64 1998.22,-1085.75 2019.72,-1064.88 2088.76,-997.88 2107.38,-975.64 2140.72,-885.4 2186.48,-761.57 2174.72,-722.33 2174.72,-590.31 2174.72,-590.31 2174.72,-590.31 2174.72,-498.57 2174.72,-472.66 2178.06,-401.26 2159.72,-382.96 2070.29,-293.71 1976.7,-425.5 1877.72,-346.96 1857.76,-331.12 1877.03,-309.85 1857.72,-293.22 1798.88,-242.54 1741.05,-312.73 1686.72,-257.22 1641.34,-210.85 1701.95,-163.01 1659.72,-113.74 1635.98,-86.03 1599,-70.73 1565.14,-62.28\"/>\n",
       "<polygon fill=\"#000000\" stroke=\"#000000\" points=\"1566.28,-58.95 1555.75,-60.11 1564.7,-65.77 1566.28,-58.95\"/>\n",
       "</g>\n",
       "<!-- callgraphX__tile_5_5&#45;&gt;callgraphX__tile_4_5 -->\n",
       "<g id=\"edge185\" class=\"edge\">\n",
       "<title>callgraphX__tile_5_5&#45;&gt;callgraphX__tile_4_5</title>\n",
       "<path fill=\"none\" stroke=\"#000000\" d=\"M2128.51,-1280.38C2128.03,-1272.69 2127.87,-1264.09 2128.04,-1255.82\"/>\n",
       "<polygon fill=\"#000000\" stroke=\"#000000\" points=\"2131.53,-1256.11 2128.44,-1245.97 2124.54,-1255.82 2131.53,-1256.11\"/>\n",
       "</g>\n",
       "<!-- callgraphX__tile_5_5&#45;&gt;callgraphX__tile_5_4 -->\n",
       "<g id=\"edge184\" class=\"edge\">\n",
       "<title>callgraphX__tile_5_5&#45;&gt;callgraphX__tile_5_4</title>\n",
       "<path fill=\"none\" stroke=\"#000000\" d=\"M2055.59,-1298.84C2017.59,-1291.15 1974.59,-1275.61 1947.72,-1244.36 1907.36,-1197.41 1905.33,-1121.42 1908.42,-1076.22\"/>\n",
       "<polygon fill=\"#000000\" stroke=\"#000000\" points=\"1911.89,-1076.65 1909.22,-1066.4 1904.92,-1076.08 1911.89,-1076.65\"/>\n",
       "</g>\n",
       "<!-- callgraphX__tile_5_5&#45;&gt;callgraphX__tile_5_5 -->\n",
       "<g id=\"edge186\" class=\"edge\">\n",
       "<title>callgraphX__tile_5_5&#45;&gt;callgraphX__tile_5_5</title>\n",
       "<path fill=\"none\" stroke=\"#000000\" d=\"M2200.12,-1324.03C2219.95,-1323.61 2235.46,-1318.01 2235.46,-1307.23 2235.46,-1298.64 2225.61,-1293.34 2211.58,-1291.33\"/>\n",
       "<polygon fill=\"#000000\" stroke=\"#000000\" points=\"2211.87,-1287.84 2201.63,-1290.55 2211.33,-1294.82 2211.87,-1287.84\"/>\n",
       "</g>\n",
       "<!-- callgraphX__tile_5_5&#45;&gt;callgraphX__tile_5_6 -->\n",
       "<g id=\"edge187\" class=\"edge\">\n",
       "<title>callgraphX__tile_5_5&#45;&gt;callgraphX__tile_5_6</title>\n",
       "<path fill=\"none\" stroke=\"#000000\" d=\"M2191.38,-1287.23C2211.52,-1277.58 2232.26,-1263.7 2244.72,-1244.36 2272.66,-1201.01 2254.72,-1180.33 2254.72,-1128.75 2254.72,-1128.75 2254.72,-1128.75 2254.72,-588.31 2254.72,-493.83 2269.18,-447.01 2199.72,-382.96 2134.29,-322.62 2087.02,-375.54 2002.72,-346.96 1953.08,-330.13 1944.57,-316.76 1897.72,-293.22 1865.4,-276.98 1843.83,-287.94 1824.72,-257.22 1812.11,-236.94 1813.5,-224.56 1824.72,-203.48 1832.37,-189.12 1844.99,-177.51 1858.47,-168.38\"/>\n",
       "<polygon fill=\"#000000\" stroke=\"#000000\" points=\"1860.01,-171.55 1866.61,-163.26 1856.28,-165.62 1860.01,-171.55\"/>\n",
       "</g>\n",
       "<!-- callgraphX__tile_5_5&#45;&gt;callgraphX__tile_6_5 -->\n",
       "<g id=\"edge188\" class=\"edge\">\n",
       "<title>callgraphX__tile_5_5&#45;&gt;callgraphX__tile_6_5</title>\n",
       "<path fill=\"none\" stroke=\"#000000\" d=\"M2140.95,-1334.2C2141.43,-1341.91 2141.58,-1350.5 2141.4,-1358.77\"/>\n",
       "<polygon fill=\"#000000\" stroke=\"#000000\" points=\"2137.91,-1358.47 2141,-1368.61 2144.91,-1358.76 2137.91,-1358.47\"/>\n",
       "</g>\n",
       "<!-- callgraphX__tile_5_6&#45;&gt;callgraphX__print_maze -->\n",
       "<g id=\"edge190\" class=\"edge\">\n",
       "<title>callgraphX__tile_5_6&#45;&gt;callgraphX__print_maze</title>\n",
       "<path fill=\"none\" stroke=\"#000000\" d=\"M1855.07,-122.39C1843.37,-119.35 1831.2,-116.33 1819.72,-113.74 1732.14,-94 1630.64,-75.92 1562.52,-64.47\"/>\n",
       "<polygon fill=\"#000000\" stroke=\"#000000\" points=\"1563.39,-61.07 1552.95,-62.87 1562.24,-67.97 1563.39,-61.07\"/>\n",
       "</g>\n",
       "<!-- callgraphX__tile_5_7&#45;&gt;callgraphX__print_maze -->\n",
       "<g id=\"edge194\" class=\"edge\">\n",
       "<title>callgraphX__tile_5_7&#45;&gt;callgraphX__print_maze</title>\n",
       "<path fill=\"none\" stroke=\"#000000\" d=\"M2069.36,-205.3C2057.22,-194.62 2043.76,-181.35 2033.72,-167.48 2018.28,-146.14 2030.06,-129.18 2008.72,-113.74 1940.56,-64.41 1700.39,-54.02 1570.18,-52.08\"/>\n",
       "<polygon fill=\"#000000\" stroke=\"#000000\" points=\"1570.26,-48.58 1560.21,-51.95 1570.16,-55.58 1570.26,-48.58\"/>\n",
       "</g>\n",
       "<!-- callgraphX__tile_5_7&#45;&gt;callgraphX__tile_4_7 -->\n",
       "<g id=\"edge195\" class=\"edge\">\n",
       "<title>callgraphX__tile_5_7&#45;&gt;callgraphX__tile_4_7</title>\n",
       "<path fill=\"none\" stroke=\"#000000\" d=\"M2104.47,-257.32C2104.51,-265.02 2104.17,-273.62 2103.52,-281.89\"/>\n",
       "<polygon fill=\"#000000\" stroke=\"#000000\" points=\"2100.05,-281.44 2102.56,-291.73 2107.02,-282.12 2100.05,-281.44\"/>\n",
       "</g>\n",
       "<!-- callgraphX__tile_5_7&#45;&gt;callgraphX__tile_5_6 -->\n",
       "<g id=\"edge193\" class=\"edge\">\n",
       "<title>callgraphX__tile_5_7&#45;&gt;callgraphX__tile_5_6</title>\n",
       "<path fill=\"none\" stroke=\"#000000\" d=\"M2054.49,-207.66C2029.63,-195.74 1998.6,-180.86 1972.28,-168.25\"/>\n",
       "<polygon fill=\"#000000\" stroke=\"#000000\" points=\"1973.97,-165.18 1963.44,-164.01 1970.94,-171.49 1973.97,-165.18\"/>\n",
       "</g>\n",
       "<!-- callgraphX__tile_5_7&#45;&gt;callgraphX__tile_5_7 -->\n",
       "<g id=\"edge192\" class=\"edge\">\n",
       "<title>callgraphX__tile_5_7&#45;&gt;callgraphX__tile_5_7</title>\n",
       "<path fill=\"none\" stroke=\"#000000\" d=\"M2165.12,-247.15C2184.95,-246.73 2200.46,-241.13 2200.46,-230.35 2200.46,-221.76 2190.61,-216.46 2176.58,-214.45\"/>\n",
       "<polygon fill=\"#000000\" stroke=\"#000000\" points=\"2176.87,-210.96 2166.63,-213.67 2176.33,-217.94 2176.87,-210.96\"/>\n",
       "</g>\n",
       "<!-- callgraphX__tile_5_7&#45;&gt;callgraphX__tile_5_8 -->\n",
       "<g id=\"edge191\" class=\"edge\">\n",
       "<title>callgraphX__tile_5_7&#45;&gt;callgraphX__tile_5_8</title>\n",
       "<path fill=\"none\" stroke=\"#000000\" d=\"M2111.8,-203.5C2115.6,-195.38 2119.86,-186.26 2123.92,-177.57\"/>\n",
       "<polygon fill=\"#000000\" stroke=\"#000000\" points=\"2127.03,-179.19 2128.09,-168.65 2120.69,-176.22 2127.03,-179.19\"/>\n",
       "</g>\n",
       "<!-- callgraphX__tile_5_7&#45;&gt;callgraphX__tile_6_7 -->\n",
       "<g id=\"edge196\" class=\"edge\">\n",
       "<title>callgraphX__tile_5_7&#45;&gt;callgraphX__tile_6_7</title>\n",
       "<path fill=\"none\" stroke=\"#000000\" d=\"M2151.4,-209.11C2184.18,-196.27 2226.8,-179.58 2261.45,-166\"/>\n",
       "<polygon fill=\"#000000\" stroke=\"#000000\" points=\"2262.48,-169.36 2270.52,-162.45 2259.93,-162.84 2262.48,-169.36\"/>\n",
       "</g>\n",
       "<!-- callgraphX__tile_5_8&#45;&gt;callgraphX__print_maze -->\n",
       "<g id=\"edge197\" class=\"edge\">\n",
       "<title>callgraphX__tile_5_8&#45;&gt;callgraphX__print_maze</title>\n",
       "<path fill=\"none\" stroke=\"#000000\" d=\"M2080.25,-121.98C2068.22,-118.9 2055.63,-115.97 2043.72,-113.74 1876.66,-82.4 1678.3,-65.07 1568.48,-57.19\"/>\n",
       "<polygon fill=\"#000000\" stroke=\"#000000\" points=\"1568.89,-53.71 1558.66,-56.5 1568.39,-60.7 1568.89,-53.71\"/>\n",
       "</g>\n",
       "<!-- callgraphX__tile_6_0&#45;&gt;callgraphX__print_maze -->\n",
       "<g id=\"edge198\" class=\"edge\">\n",
       "<title>callgraphX__tile_6_0&#45;&gt;callgraphX__print_maze</title>\n",
       "<path fill=\"none\" stroke=\"#000000\" d=\"M1161.69,-1459.9C1161.09,-1436.4 1161.08,-1400.8 1164.72,-1370.1 1174.75,-1285.7 1187.7,-1263.92 1230.72,-1190.62 1240.46,-1174.04 1249.15,-1173.03 1254.72,-1154.62 1261.65,-1131.76 1269.64,-1119.53 1254.72,-1100.88 1209.19,-1043.96 1164.55,-1085.79 1094.72,-1064.88 1087.96,-1062.85 860.99,-980.77 856.72,-975.14 825.58,-934.03 846.72,-911.11 846.72,-859.53 846.72,-859.53 846.72,-859.53 846.72,-767.79 846.72,-674.63 864.17,-634.16 804.72,-562.44 777.76,-529.91 741.77,-560.48 716.72,-526.44 686.16,-484.9 706.72,-462.4 706.72,-410.83 706.72,-410.83 706.72,-410.83 706.72,-229.35 706.72,-159.64 750.27,-144.71 812.72,-113.74 913.66,-63.7 1242.18,-53.93 1399.39,-52.16\"/>\n",
       "<polygon fill=\"#000000\" stroke=\"#000000\" points=\"1399.38,-55.66 1409.35,-52.06 1399.31,-48.66 1399.38,-55.66\"/>\n",
       "</g>\n",
       "<!-- callgraphX__tile_6_1&#45;&gt;callgraphX__print_maze -->\n",
       "<g id=\"edge202\" class=\"edge\">\n",
       "<title>callgraphX__tile_6_1&#45;&gt;callgraphX__print_maze</title>\n",
       "<path fill=\"none\" stroke=\"#000000\" d=\"M1437.86,-1734.06C1493.26,-1706.84 1575.72,-1653.54 1575.72,-1577.45 1575.72,-1577.45 1575.72,-1577.45 1575.72,-1306.23 1575.72,-1220.71 1631.01,-990.58 1580.72,-921.4 1550.23,-879.45 1511.09,-916.69 1469.72,-885.4 1431.46,-856.46 1428.6,-839.77 1409.72,-795.66 1361.5,-682.96 1363.14,-648.29 1349.72,-526.44 1339.69,-435.28 1300.19,-190.93 1349.72,-113.74 1363.61,-92.1 1387.16,-77.93 1410.75,-68.7\"/>\n",
       "<polygon fill=\"#000000\" stroke=\"#000000\" points=\"1411.91,-72 1420.13,-65.31 1409.53,-65.42 1411.91,-72\"/>\n",
       "</g>\n",
       "<!-- callgraphX__tile_6_1&#45;&gt;callgraphX__tile_5_1 -->\n",
       "<g id=\"edge204\" class=\"edge\">\n",
       "<title>callgraphX__tile_6_1&#45;&gt;callgraphX__tile_5_1</title>\n",
       "<path fill=\"none\" stroke=\"#000000\" d=\"M1333.04,-1776.18C1322.42,-1778.8 1311.31,-1781.15 1300.72,-1782.8 977.14,-1833.28 889.24,-1774.7 564.72,-1818.8 549.79,-1820.83 533.94,-1823.83 518.71,-1827.08\"/>\n",
       "<polygon fill=\"#000000\" stroke=\"#000000\" points=\"518.26,-1823.6 509.24,-1829.15 519.75,-1830.44 518.26,-1823.6\"/>\n",
       "</g>\n",
       "<!-- callgraphX__tile_6_1&#45;&gt;callgraphX__tile_6_0 -->\n",
       "<g id=\"edge203\" class=\"edge\">\n",
       "<title>callgraphX__tile_6_1&#45;&gt;callgraphX__tile_6_0</title>\n",
       "<path fill=\"none\" stroke=\"#000000\" d=\"M1367.46,-1729.79C1326.66,-1681.55 1237.35,-1575.95 1191.36,-1521.57\"/>\n",
       "<polygon fill=\"#000000\" stroke=\"#000000\" points=\"1194.2,-1519.51 1185.07,-1514.13 1188.86,-1524.03 1194.2,-1519.51\"/>\n",
       "</g>\n",
       "<!-- callgraphX__tile_6_1&#45;&gt;callgraphX__tile_6_1 -->\n",
       "<g id=\"edge201\" class=\"edge\">\n",
       "<title>callgraphX__tile_6_1&#45;&gt;callgraphX__tile_6_1</title>\n",
       "<path fill=\"none\" stroke=\"#000000\" d=\"M1454.12,-1772.73C1473.95,-1772.31 1489.46,-1766.71 1489.46,-1755.93 1489.46,-1747.34 1479.61,-1742.04 1465.58,-1740.03\"/>\n",
       "<polygon fill=\"#000000\" stroke=\"#000000\" points=\"1465.87,-1736.54 1455.63,-1739.25 1465.33,-1743.52 1465.87,-1736.54\"/>\n",
       "</g>\n",
       "<!-- callgraphX__tile_6_1&#45;&gt;callgraphX__tile_6_2 -->\n",
       "<g id=\"edge199\" class=\"edge\">\n",
       "<title>callgraphX__tile_6_1&#45;&gt;callgraphX__tile_6_2</title>\n",
       "<path fill=\"none\" stroke=\"#000000\" d=\"M1450.41,-1737.64C1463.04,-1734.66 1476.26,-1731.69 1488.72,-1729.06 1576.74,-1710.53 1678.37,-1692.24 1748.48,-1680.41\"/>\n",
       "<polygon fill=\"#000000\" stroke=\"#000000\" points=\"1748.68,-1683.93 1757.96,-1678.82 1747.52,-1677.03 1748.68,-1683.93\"/>\n",
       "</g>\n",
       "<!-- callgraphX__tile_6_1&#45;&gt;callgraphX__tile_7_1 -->\n",
       "<g id=\"edge200\" class=\"edge\">\n",
       "<title>callgraphX__tile_6_1&#45;&gt;callgraphX__tile_7_1</title>\n",
       "<path fill=\"none\" stroke=\"#000000\" d=\"M1339.64,-1734.03C1310.35,-1721.55 1272.95,-1705.62 1242.01,-1692.44\"/>\n",
       "<polygon fill=\"#000000\" stroke=\"#000000\" points=\"1243.75,-1689.38 1233.18,-1688.68 1241.01,-1695.82 1243.75,-1689.38\"/>\n",
       "</g>\n",
       "<!-- callgraphX__tile_6_2&#45;&gt;callgraphX__print_maze -->\n",
       "<g id=\"edge208\" class=\"edge\">\n",
       "<title>callgraphX__tile_6_2&#45;&gt;callgraphX__print_maze</title>\n",
       "<path fill=\"none\" stroke=\"#000000\" d=\"M1806.33,-1640.75C1796.61,-1630.31 1786.82,-1617.3 1781.72,-1603.32 1759.89,-1543.41 1767.95,-1522.11 1781.72,-1459.84 1819.73,-1288.04 1833.04,-1233.46 1948.72,-1100.88 1968.18,-1078.59 1987.15,-1088.69 2004.72,-1064.88 2019.45,-1044.93 2011.68,-1034.6 2019.72,-1011.14 2067.29,-872.48 2110.24,-848.4 2144.72,-705.92 2156.86,-655.79 2154.72,-641.88 2154.72,-590.31 2154.72,-590.31 2154.72,-590.31 2154.72,-498.57 2154.72,-446.35 2171.56,-418.95 2133.72,-382.96 2044.09,-297.7 1955.15,-423.2 1857.72,-346.96 1837.53,-331.16 1856.3,-309.79 1836.72,-293.22 1777.11,-242.77 1720.49,-311.9 1664.72,-257.22 1618,-211.41 1673.84,-163.82 1631.72,-113.74 1613.24,-91.76 1585.61,-77.44 1559.27,-68.17\"/>\n",
       "<polygon fill=\"#000000\" stroke=\"#000000\" points=\"1560.52,-64.9 1549.92,-65.1 1558.33,-71.55 1560.52,-64.9\"/>\n",
       "</g>\n",
       "<!-- callgraphX__tile_6_2&#45;&gt;callgraphX__tile_5_2 -->\n",
       "<g id=\"edge207\" class=\"edge\">\n",
       "<title>callgraphX__tile_6_2&#45;&gt;callgraphX__tile_5_2</title>\n",
       "<path fill=\"none\" stroke=\"#000000\" d=\"M1900.6,-1650.11C1968.33,-1634.83 2073.04,-1611.21 2144.57,-1595.08\"/>\n",
       "<polygon fill=\"#000000\" stroke=\"#000000\" points=\"2145.29,-1598.51 2154.27,-1592.89 2143.75,-1591.68 2145.29,-1598.51\"/>\n",
       "</g>\n",
       "<!-- callgraphX__tile_6_2&#45;&gt;callgraphX__tile_6_1 -->\n",
       "<g id=\"edge206\" class=\"edge\">\n",
       "<title>callgraphX__tile_6_2&#45;&gt;callgraphX__tile_6_1</title>\n",
       "<path fill=\"none\" stroke=\"#000000\" d=\"M1762.89,-1680.39C1696.52,-1692.22 1594.8,-1710.51 1506.72,-1729.06 1494.09,-1731.72 1480.67,-1734.75 1467.57,-1737.76\"/>\n",
       "<polygon fill=\"#000000\" stroke=\"#000000\" points=\"1467.1,-1734.28 1458.15,-1739.94 1468.68,-1741.1 1467.1,-1734.28\"/>\n",
       "</g>\n",
       "<!-- callgraphX__tile_6_2&#45;&gt;callgraphX__tile_6_2 -->\n",
       "<g id=\"edge205\" class=\"edge\">\n",
       "<title>callgraphX__tile_6_2&#45;&gt;callgraphX__tile_6_2</title>\n",
       "<path fill=\"none\" stroke=\"#000000\" d=\"M1899.12,-1682.99C1918.95,-1682.57 1934.46,-1676.97 1934.46,-1666.19 1934.46,-1657.6 1924.61,-1652.3 1910.58,-1650.29\"/>\n",
       "<polygon fill=\"#000000\" stroke=\"#000000\" points=\"1910.87,-1646.8 1900.63,-1649.51 1910.33,-1653.78 1910.87,-1646.8\"/>\n",
       "</g>\n",
       "<!-- callgraphX__tile_6_2&#45;&gt;callgraphX__tile_6_3 -->\n",
       "<g id=\"edge209\" class=\"edge\">\n",
       "<title>callgraphX__tile_6_2&#45;&gt;callgraphX__tile_6_3</title>\n",
       "<path fill=\"none\" stroke=\"#000000\" d=\"M1839.29,-1639.34C1842.55,-1631.06 1846.66,-1621.74 1850.93,-1612.89\"/>\n",
       "<polygon fill=\"#000000\" stroke=\"#000000\" points=\"1853.95,-1614.68 1855.3,-1604.17 1847.69,-1611.54 1853.95,-1614.68\"/>\n",
       "</g>\n",
       "<!-- callgraphX__tile_6_2&#45;&gt;callgraphX__tile_7_2 -->\n",
       "<g id=\"edge210\" class=\"edge\">\n",
       "<title>callgraphX__tile_6_2&#45;&gt;callgraphX__tile_7_2</title>\n",
       "<path fill=\"none\" stroke=\"#000000\" d=\"M1788.63,-1643.32C1688.29,-1594.66 1446.83,-1477.56 1337.79,-1424.68\"/>\n",
       "<polygon fill=\"#000000\" stroke=\"#000000\" points=\"1339.55,-1421.64 1329.03,-1420.43 1336.5,-1427.94 1339.55,-1421.64\"/>\n",
       "</g>\n",
       "<!-- callgraphX__tile_6_3&#45;&gt;callgraphX__print_maze -->\n",
       "<g id=\"edge215\" class=\"edge\">\n",
       "<title>callgraphX__tile_6_3&#45;&gt;callgraphX__print_maze</title>\n",
       "<path fill=\"none\" stroke=\"#000000\" d=\"M1954.15,-1569.56C2122.96,-1554.97 2498.72,-1509.92 2498.72,-1397.97 2498.72,-1397.97 2498.72,-1397.97 2498.72,-1126.75 2498.72,-1074.82 2499.36,-1059.99 2481.72,-1011.14 2439.07,-893.01 2334.72,-895.39 2334.72,-769.79 2334.72,-769.79 2334.72,-769.79 2334.72,-498.57 2334.72,-445.14 2342.38,-417.64 2301.72,-382.96 2199.9,-296.09 2113.89,-421.51 2002.72,-346.96 1980.01,-331.72 1994.76,-309.42 1972.72,-293.22 1909.8,-246.96 1860.03,-308.04 1800.72,-257.22 1748.99,-212.88 1797.89,-158.74 1746.72,-113.74 1719.89,-90.14 1631.65,-72.66 1564.92,-62.41\"/>\n",
       "<polygon fill=\"#000000\" stroke=\"#000000\" points=\"1565.48,-58.95 1555.07,-60.93 1564.44,-65.88 1565.48,-58.95\"/>\n",
       "</g>\n",
       "<!-- callgraphX__tile_6_3&#45;&gt;callgraphX__tile_5_3 -->\n",
       "<g id=\"edge211\" class=\"edge\">\n",
       "<title>callgraphX__tile_6_3&#45;&gt;callgraphX__tile_5_3</title>\n",
       "<path fill=\"none\" stroke=\"#000000\" d=\"M1833.06,-1553.03C1816.02,-1542.44 1796.73,-1528.79 1781.72,-1513.58 1681.3,-1411.84 1663.41,-1375.16 1605.72,-1244.36 1562.53,-1146.44 1607.5,-1098.54 1545.72,-1011.14 1536.16,-997.6 1522.61,-986.17 1508.85,-976.96\"/>\n",
       "<polygon fill=\"#000000\" stroke=\"#000000\" points=\"1510.94,-974.14 1500.62,-971.75 1507.2,-980.06 1510.94,-974.14\"/>\n",
       "</g>\n",
       "<!-- callgraphX__tile_6_3&#45;&gt;callgraphX__tile_6_2 -->\n",
       "<g id=\"edge212\" class=\"edge\">\n",
       "<title>callgraphX__tile_6_3&#45;&gt;callgraphX__tile_6_2</title>\n",
       "<path fill=\"none\" stroke=\"#000000\" d=\"M1868.12,-1603.38C1864.87,-1611.65 1860.77,-1620.94 1856.51,-1629.77\"/>\n",
       "<polygon fill=\"#000000\" stroke=\"#000000\" points=\"1853.51,-1627.95 1852.16,-1638.46 1859.77,-1631.09 1853.51,-1627.95\"/>\n",
       "</g>\n",
       "<!-- callgraphX__tile_6_3&#45;&gt;callgraphX__tile_6_3 -->\n",
       "<g id=\"edge216\" class=\"edge\">\n",
       "<title>callgraphX__tile_6_3&#45;&gt;callgraphX__tile_6_3</title>\n",
       "<path fill=\"none\" stroke=\"#000000\" d=\"M1939.12,-1593.25C1958.95,-1592.83 1974.46,-1587.23 1974.46,-1576.45 1974.46,-1567.86 1964.61,-1562.56 1950.58,-1560.55\"/>\n",
       "<polygon fill=\"#000000\" stroke=\"#000000\" points=\"1950.87,-1557.06 1940.63,-1559.77 1950.33,-1564.04 1950.87,-1557.06\"/>\n",
       "</g>\n",
       "<!-- callgraphX__tile_6_3&#45;&gt;callgraphX__tile_6_4 -->\n",
       "<g id=\"edge214\" class=\"edge\">\n",
       "<title>callgraphX__tile_6_3&#45;&gt;callgraphX__tile_6_4</title>\n",
       "<path fill=\"none\" stroke=\"#000000\" d=\"M1867.51,-1549.6C1867.03,-1541.91 1866.87,-1533.31 1867.04,-1525.04\"/>\n",
       "<polygon fill=\"#000000\" stroke=\"#000000\" points=\"1870.53,-1525.33 1867.44,-1515.19 1863.54,-1525.04 1870.53,-1525.33\"/>\n",
       "</g>\n",
       "<!-- callgraphX__tile_6_3&#45;&gt;callgraphX__tile_7_3 -->\n",
       "<g id=\"edge213\" class=\"edge\">\n",
       "<title>callgraphX__tile_6_3&#45;&gt;callgraphX__tile_7_3</title>\n",
       "<path fill=\"none\" stroke=\"#000000\" d=\"M1952.45,-1567.44C2003.31,-1562.29 2070.92,-1555.48 2130.72,-1549.58 2172.16,-1545.5 2474.44,-1543.18 2503.72,-1513.58 2540.31,-1476.6 2499.26,-1326.26 2523.72,-1280.36 2530.41,-1267.82 2540.83,-1256.92 2551.87,-1247.91\"/>\n",
       "<polygon fill=\"#000000\" stroke=\"#000000\" points=\"2553.77,-1250.86 2559.6,-1242.01 2549.52,-1245.3 2553.77,-1250.86\"/>\n",
       "</g>\n",
       "<!-- callgraphX__tile_6_4&#45;&gt;callgraphX__print_maze -->\n",
       "<g id=\"edge220\" class=\"edge\">\n",
       "<title>callgraphX__tile_6_4&#45;&gt;callgraphX__print_maze</title>\n",
       "<path fill=\"none\" stroke=\"#000000\" d=\"M1839.22,-1462.05C1751.75,-1401.3 1516.03,-1232.76 1343.72,-1064.88 1321.41,-1043.14 1325.04,-1027.81 1298.72,-1011.14 1245.17,-977.23 1199.48,-1025.3 1160.72,-975.14 1121.74,-924.68 1143.07,-892.94 1160.72,-831.66 1178.99,-768.24 1220.07,-768.93 1239.72,-705.92 1259.34,-643.04 1225.57,-165.16 1266.72,-113.74 1284.43,-91.61 1351.26,-74.8 1406.3,-64.32\"/>\n",
       "<polygon fill=\"#000000\" stroke=\"#000000\" points=\"1406.81,-67.79 1416.01,-62.52 1405.53,-60.9 1406.81,-67.79\"/>\n",
       "</g>\n",
       "<!-- callgraphX__tile_6_4&#45;&gt;callgraphX__tile_5_4 -->\n",
       "<g id=\"edge217\" class=\"edge\">\n",
       "<title>callgraphX__tile_6_4&#45;&gt;callgraphX__tile_5_4</title>\n",
       "<path fill=\"none\" stroke=\"#000000\" d=\"M1858.56,-1459.94C1840.2,-1426.25 1811.72,-1364.86 1811.72,-1308.23 1811.72,-1308.23 1811.72,-1308.23 1811.72,-1216.49 1811.72,-1160.35 1850.37,-1105.76 1879.85,-1072.28\"/>\n",
       "<polygon fill=\"#000000\" stroke=\"#000000\" points=\"1882.37,-1074.71 1886.48,-1064.94 1877.18,-1070.01 1882.37,-1074.71\"/>\n",
       "</g>\n",
       "<!-- callgraphX__tile_6_4&#45;&gt;callgraphX__tile_6_3 -->\n",
       "<g id=\"edge222\" class=\"edge\">\n",
       "<title>callgraphX__tile_6_4&#45;&gt;callgraphX__tile_6_3</title>\n",
       "<path fill=\"none\" stroke=\"#000000\" d=\"M1879.95,-1513.68C1880.43,-1521.39 1880.58,-1529.98 1880.4,-1538.25\"/>\n",
       "<polygon fill=\"#000000\" stroke=\"#000000\" points=\"1876.91,-1537.95 1880,-1548.09 1883.91,-1538.24 1876.91,-1537.95\"/>\n",
       "</g>\n",
       "<!-- callgraphX__tile_6_4&#45;&gt;callgraphX__tile_6_4 -->\n",
       "<g id=\"edge221\" class=\"edge\">\n",
       "<title>callgraphX__tile_6_4&#45;&gt;callgraphX__tile_6_4</title>\n",
       "<path fill=\"none\" stroke=\"#000000\" d=\"M1939.12,-1503.51C1958.95,-1503.09 1974.46,-1497.49 1974.46,-1486.71 1974.46,-1478.12 1964.61,-1472.82 1950.58,-1470.81\"/>\n",
       "<polygon fill=\"#000000\" stroke=\"#000000\" points=\"1950.87,-1467.32 1940.63,-1470.03 1950.33,-1474.3 1950.87,-1467.32\"/>\n",
       "</g>\n",
       "<!-- callgraphX__tile_6_4&#45;&gt;callgraphX__tile_6_5 -->\n",
       "<g id=\"edge218\" class=\"edge\">\n",
       "<title>callgraphX__tile_6_4&#45;&gt;callgraphX__tile_6_5</title>\n",
       "<path fill=\"none\" stroke=\"#000000\" d=\"M1927.19,-1465.8C1966.96,-1452.01 2021.52,-1433.65 2064.75,-1419.51\"/>\n",
       "<polygon fill=\"#000000\" stroke=\"#000000\" points=\"2065.62,-1422.91 2074.04,-1416.48 2063.45,-1416.25 2065.62,-1422.91\"/>\n",
       "</g>\n",
       "<!-- callgraphX__tile_6_4&#45;&gt;callgraphX__tile_7_4 -->\n",
       "<g id=\"edge219\" class=\"edge\">\n",
       "<title>callgraphX__tile_6_4&#45;&gt;callgraphX__tile_7_4</title>\n",
       "<path fill=\"none\" stroke=\"#000000\" d=\"M1829.78,-1463.65C1705.56,-1401.28 1352.04,-1223.8 1216.51,-1155.76\"/>\n",
       "<polygon fill=\"#000000\" stroke=\"#000000\" points=\"1218.23,-1152.7 1207.72,-1151.34 1215.09,-1158.96 1218.23,-1152.7\"/>\n",
       "</g>\n",
       "<!-- callgraphX__tile_6_5&#45;&gt;callgraphX__print_maze -->\n",
       "<g id=\"edge227\" class=\"edge\">\n",
       "<title>callgraphX__tile_6_5&#45;&gt;callgraphX__print_maze</title>\n",
       "<path fill=\"none\" stroke=\"#000000\" d=\"M2094.99,-1373.19C2048.99,-1345.83 1972.21,-1296.97 1914.72,-1244.36 1776.29,-1117.66 1798.56,-1025.95 1642.72,-921.4 1599.3,-892.27 1568.27,-921.79 1530.72,-885.4 1491.33,-847.23 1394.72,-465.68 1394.72,-410.83 1394.72,-410.83 1394.72,-410.83 1394.72,-229.35 1394.72,-177.48 1385.58,-159.11 1410.72,-113.74 1417.58,-101.37 1427.96,-90.43 1438.8,-81.33\"/>\n",
       "<polygon fill=\"#000000\" stroke=\"#000000\" points=\"1440.67,-84.31 1446.34,-75.36 1436.32,-78.82 1440.67,-84.31\"/>\n",
       "</g>\n",
       "<!-- callgraphX__tile_6_5&#45;&gt;callgraphX__tile_5_5 -->\n",
       "<g id=\"edge225\" class=\"edge\">\n",
       "<title>callgraphX__tile_6_5&#45;&gt;callgraphX__tile_5_5</title>\n",
       "<path fill=\"none\" stroke=\"#000000\" d=\"M2128.51,-1370.12C2128.03,-1362.43 2127.87,-1353.83 2128.04,-1345.56\"/>\n",
       "<polygon fill=\"#000000\" stroke=\"#000000\" points=\"2131.53,-1345.85 2128.44,-1335.71 2124.54,-1345.56 2131.53,-1345.85\"/>\n",
       "</g>\n",
       "<!-- callgraphX__tile_6_5&#45;&gt;callgraphX__tile_6_4 -->\n",
       "<g id=\"edge228\" class=\"edge\">\n",
       "<title>callgraphX__tile_6_5&#45;&gt;callgraphX__tile_6_4</title>\n",
       "<path fill=\"none\" stroke=\"#000000\" d=\"M2081.33,-1417.86C2041.59,-1431.64 1987.04,-1450 1943.8,-1464.14\"/>\n",
       "<polygon fill=\"#000000\" stroke=\"#000000\" points=\"1942.93,-1460.74 1934.51,-1467.17 1945.1,-1467.4 1942.93,-1460.74\"/>\n",
       "</g>\n",
       "<!-- callgraphX__tile_6_5&#45;&gt;callgraphX__tile_6_5 -->\n",
       "<g id=\"edge226\" class=\"edge\">\n",
       "<title>callgraphX__tile_6_5&#45;&gt;callgraphX__tile_6_5</title>\n",
       "<path fill=\"none\" stroke=\"#000000\" d=\"M2200.12,-1413.77C2219.95,-1413.35 2235.46,-1407.75 2235.46,-1396.97 2235.46,-1388.38 2225.61,-1383.08 2211.58,-1381.07\"/>\n",
       "<polygon fill=\"#000000\" stroke=\"#000000\" points=\"2211.87,-1377.58 2201.63,-1380.29 2211.33,-1384.56 2211.87,-1377.58\"/>\n",
       "</g>\n",
       "<!-- callgraphX__tile_6_5&#45;&gt;callgraphX__tile_6_6 -->\n",
       "<g id=\"edge223\" class=\"edge\">\n",
       "<title>callgraphX__tile_6_5&#45;&gt;callgraphX__tile_6_6</title>\n",
       "<path fill=\"none\" stroke=\"#000000\" d=\"M2185.96,-1375.65C2206.3,-1365.58 2228.63,-1351.75 2244.72,-1334.1 2315.08,-1256.98 2352.88,-1136.13 2368.3,-1075.83\"/>\n",
       "<polygon fill=\"#000000\" stroke=\"#000000\" points=\"2371.62,-1076.96 2370.64,-1066.42 2364.83,-1075.28 2371.62,-1076.96\"/>\n",
       "</g>\n",
       "<!-- callgraphX__tile_6_5&#45;&gt;callgraphX__tile_7_5 -->\n",
       "<g id=\"edge224\" class=\"edge\">\n",
       "<title>callgraphX__tile_6_5&#45;&gt;callgraphX__tile_7_5</title>\n",
       "<path fill=\"none\" stroke=\"#000000\" d=\"M2191.25,-1377.04C2231.8,-1363.46 2286.6,-1345.11 2329.41,-1330.77\"/>\n",
       "<polygon fill=\"#000000\" stroke=\"#000000\" points=\"2330.49,-1334.1 2338.86,-1327.61 2328.27,-1327.47 2330.49,-1334.1\"/>\n",
       "</g>\n",
       "<!-- callgraphX__tile_6_6&#45;&gt;callgraphX__print_maze -->\n",
       "<g id=\"edge229\" class=\"edge\">\n",
       "<title>callgraphX__tile_6_6&#45;&gt;callgraphX__print_maze</title>\n",
       "<path fill=\"none\" stroke=\"#000000\" d=\"M2356.45,-1011.66C2332.17,-978.66 2294.72,-918.25 2294.72,-859.53 2294.72,-859.53 2294.72,-859.53 2294.72,-498.57 2294.72,-444.89 2300.79,-417.54 2259.72,-382.96 2159.69,-298.75 2084.18,-406.42 1967.72,-346.96 1938.67,-332.13 1946.1,-309.32 1917.72,-293.22 1851.31,-255.53 1803.59,-311.35 1749.72,-257.22 1703.77,-211.04 1764.59,-160.97 1719.72,-113.74 1698.26,-91.15 1623.31,-74.03 1563.76,-63.59\"/>\n",
       "<polygon fill=\"#000000\" stroke=\"#000000\" points=\"1564.39,-60.14 1553.94,-61.91 1563.21,-67.04 1564.39,-60.14\"/>\n",
       "</g>\n",
       "<!-- callgraphX__tile_6_7&#45;&gt;callgraphX__print_maze -->\n",
       "<g id=\"edge230\" class=\"edge\">\n",
       "<title>callgraphX__tile_6_7&#45;&gt;callgraphX__print_maze</title>\n",
       "<path fill=\"none\" stroke=\"#000000\" d=\"M2265.38,-121.21C2254.6,-118.34 2243.39,-115.68 2232.72,-113.74 1995.02,-70.55 1709.26,-57.46 1569.75,-53.54\"/>\n",
       "<polygon fill=\"#000000\" stroke=\"#000000\" points=\"1569.94,-50.04 1559.85,-53.27 1569.75,-57.04 1569.94,-50.04\"/>\n",
       "</g>\n",
       "<!-- callgraphX__tile_6_8&#45;&gt;callgraphX__print_maze -->\n",
       "<g id=\"edge231\" class=\"edge\">\n",
       "<title>callgraphX__tile_6_8&#45;&gt;callgraphX__print_maze</title>\n",
       "<path fill=\"none\" stroke=\"#000000\" d=\"M2487.84,-121.67C2475.65,-118.58 2462.85,-115.73 2450.72,-113.74 2128.51,-60.98 1738.98,-52.67 1569.9,-51.73\"/>\n",
       "<polygon fill=\"#000000\" stroke=\"#000000\" points=\"1570.13,-48.23 1560.11,-51.68 1570.09,-55.23 1570.13,-48.23\"/>\n",
       "</g>\n",
       "<!-- callgraphX__tile_7_0&#45;&gt;callgraphX__print_maze -->\n",
       "<g id=\"edge232\" class=\"edge\">\n",
       "<title>callgraphX__tile_7_0&#45;&gt;callgraphX__print_maze</title>\n",
       "<path fill=\"none\" stroke=\"#000000\" d=\"M2672.91,-121.09C2661.98,-118.19 2650.58,-115.55 2639.72,-113.74 2433.74,-79.39 1800.06,-60.02 1569.62,-53.96\"/>\n",
       "<polygon fill=\"#000000\" stroke=\"#000000\" points=\"1569.9,-50.46 1559.82,-53.7 1569.72,-57.46 1569.9,-50.46\"/>\n",
       "</g>\n",
       "<!-- callgraphX__tile_7_1&#45;&gt;callgraphX__print_maze -->\n",
       "<g id=\"edge233\" class=\"edge\">\n",
       "<title>callgraphX__tile_7_1&#45;&gt;callgraphX__print_maze</title>\n",
       "<path fill=\"none\" stroke=\"#000000\" d=\"M1201.44,-1639.71C1221.39,-1610.82 1251.73,-1561.49 1263.72,-1513.58 1269.53,-1490.41 1276.34,-1480.12 1263.72,-1459.84 1244.62,-1429.12 1209.83,-1454.56 1190.72,-1423.84 1178.11,-1403.56 1185.38,-1393.38 1190.72,-1370.1 1194.2,-1354.97 1246.15,-1258.86 1251.72,-1244.36 1266.62,-1205.6 1271.89,-1195.73 1277.72,-1154.62 1281.08,-1130.97 1288.29,-1122.3 1277.72,-1100.88 1270.48,-1086.19 1175.16,-1018.89 1160.72,-1011.14 1117.25,-987.82 1089.58,-1011.02 1055.72,-975.14 1038.71,-957.1 1049.38,-944.64 1040.72,-921.4 1034.55,-904.82 1030.15,-901.89 1023.72,-885.4 1008.55,-846.48 1007.55,-835.73 995.72,-795.66 980.29,-743.36 870.72,-375.62 870.72,-321.09 870.72,-321.09 870.72,-321.09 870.72,-229.35 870.72,-203.64 858.08,-132.44 875.72,-113.74 911.03,-76.33 1241.24,-60.12 1400.11,-54.44\"/>\n",
       "<polygon fill=\"#000000\" stroke=\"#000000\" points=\"1399.87,-57.95 1409.74,-54.1 1399.62,-50.95 1399.87,-57.95\"/>\n",
       "</g>\n",
       "<!-- callgraphX__tile_7_2&#45;&gt;callgraphX__print_maze -->\n",
       "<g id=\"edge234\" class=\"edge\">\n",
       "<title>callgraphX__tile_7_2&#45;&gt;callgraphX__print_maze</title>\n",
       "<path fill=\"none\" stroke=\"#000000\" d=\"M1293.33,-1370.08C1313.39,-1316.92 1351.31,-1192.74 1309.72,-1100.88 1299.72,-1078.79 1283.97,-1083.74 1268.72,-1064.88 1251.53,-1043.61 1260.56,-1027.62 1238.72,-1011.14 1182.96,-969.07 1137.39,-1022.16 1085.72,-975.14 1054.6,-946.81 976.57,-656.57 964.72,-616.18 959.97,-599.96 890.72,-337.99 890.72,-321.09 890.72,-321.09 890.72,-321.09 890.72,-229.35 890.72,-177.92 860.49,-151.21 895.72,-113.74 929.61,-77.71 1245.37,-60.89 1400.08,-54.75\"/>\n",
       "<polygon fill=\"#000000\" stroke=\"#000000\" points=\"1400.02,-58.26 1409.88,-54.37 1399.75,-51.26 1400.02,-58.26\"/>\n",
       "</g>\n",
       "<!-- callgraphX__tile_7_3&#45;&gt;callgraphX__print_maze -->\n",
       "<g id=\"edge235\" class=\"edge\">\n",
       "<title>callgraphX__tile_7_3&#45;&gt;callgraphX__print_maze</title>\n",
       "<path fill=\"none\" stroke=\"#000000\" d=\"M2561.24,-1193.65C2547.16,-1183.5 2532.61,-1170.28 2523.72,-1154.62 2491.94,-1098.63 2521.42,-1073.05 2503.72,-1011.14 2498.91,-994.31 2493.03,-991.83 2487.72,-975.14 2475.39,-936.38 2474.9,-925.75 2469.72,-885.4 2467,-864.11 2440.84,-128.99 2425.72,-113.74 2366.24,-53.74 1790.82,-50.27 1570.21,-51.18\"/>\n",
       "<polygon fill=\"#000000\" stroke=\"#000000\" points=\"1570.21,-47.68 1560.23,-51.23 1570.24,-54.68 1570.21,-47.68\"/>\n",
       "</g>\n",
       "<!-- callgraphX__tile_7_4&#45;&gt;callgraphX__print_maze -->\n",
       "<g id=\"edge236\" class=\"edge\">\n",
       "<title>callgraphX__tile_7_4&#45;&gt;callgraphX__print_maze</title>\n",
       "<path fill=\"none\" stroke=\"#000000\" d=\"M1106.57,-1107.79C1023.51,-1078.56 874.2,-1021.05 841.72,-975.14 788.32,-899.66 848.21,-633.23 788.72,-562.44 761.8,-530.4 727.17,-559.66 701.72,-526.44 670.21,-485.31 686.72,-462.64 686.72,-410.83 686.72,-410.83 686.72,-410.83 686.72,-229.35 686.72,-177.54 664.18,-149.45 701.72,-113.74 751.44,-66.46 1206.95,-55.28 1399.46,-52.66\"/>\n",
       "<polygon fill=\"#000000\" stroke=\"#000000\" points=\"1399.46,-56.16 1409.41,-52.53 1399.37,-49.16 1399.46,-56.16\"/>\n",
       "</g>\n",
       "<!-- callgraphX__tile_7_5&#45;&gt;callgraphX__print_maze -->\n",
       "<g id=\"edge237\" class=\"edge\">\n",
       "<title>callgraphX__tile_7_5&#45;&gt;callgraphX__print_maze</title>\n",
       "<path fill=\"none\" stroke=\"#000000\" d=\"M2414.43,-1280.93C2449.2,-1227.82 2518.87,-1102.12 2468.72,-1011.14 2454.26,-984.9 2434.7,-994.37 2411.72,-975.14 2370.29,-940.47 2352.48,-934.4 2329.72,-885.4 2307.9,-838.41 2314.72,-821.6 2314.72,-769.79 2314.72,-769.79 2314.72,-769.79 2314.72,-498.57 2314.72,-445.01 2321.57,-417.61 2280.72,-382.96 2180.67,-298.09 2101.15,-412.9 1987.72,-346.96 1961.98,-332 1972.87,-309.17 1947.72,-293.22 1879.57,-249.99 1828.28,-312.77 1769.72,-257.22 1721.94,-211.9 1779.47,-160.12 1732.72,-113.74 1709.02,-90.23 1627.51,-72.98 1564.33,-62.76\"/>\n",
       "<polygon fill=\"#000000\" stroke=\"#000000\" points=\"1565.08,-59.33 1554.66,-61.23 1563.99,-66.25 1565.08,-59.33\"/>\n",
       "</g>\n",
       "<!-- callgraphX__tile_7_6&#45;&gt;callgraphX__print_maze -->\n",
       "<g id=\"edge238\" class=\"edge\">\n",
       "<title>callgraphX__tile_7_6&#45;&gt;callgraphX__print_maze</title>\n",
       "<path fill=\"none\" stroke=\"#000000\" d=\"M2855.92,-121.02C2844.99,-118.13 2833.59,-115.51 2822.72,-113.74 2580.02,-74.18 1825.08,-57.76 1569.96,-53.24\"/>\n",
       "<polygon fill=\"#000000\" stroke=\"#000000\" points=\"1570.13,-49.74 1560.07,-53.07 1570,-56.74 1570.13,-49.74\"/>\n",
       "</g>\n",
       "<!-- callgraphX__tile_7_7&#45;&gt;callgraphX__print_maze -->\n",
       "<g id=\"edge239\" class=\"edge\">\n",
       "<title>callgraphX__tile_7_7&#45;&gt;callgraphX__print_maze</title>\n",
       "<path fill=\"none\" stroke=\"#000000\" d=\"M3038.93,-120.97C3028,-118.08 3016.59,-115.48 3005.72,-113.74 2725.82,-68.91 1846.93,-55.77 1569.51,-52.69\"/>\n",
       "<polygon fill=\"#000000\" stroke=\"#000000\" points=\"1569.88,-49.19 1559.84,-52.58 1569.8,-56.19 1569.88,-49.19\"/>\n",
       "</g>\n",
       "<!-- callgraphX__tile_7_8&#45;&gt;callgraphX__print_maze -->\n",
       "<g id=\"edge240\" class=\"edge\">\n",
       "<title>callgraphX__tile_7_8&#45;&gt;callgraphX__print_maze</title>\n",
       "<path fill=\"none\" stroke=\"#000000\" d=\"M3222.42,-121.07C3211.35,-118.12 3199.76,-115.48 3188.72,-113.74 2871.7,-63.67 1869.21,-54.03 1569.9,-52.26\"/>\n",
       "<polygon fill=\"#000000\" stroke=\"#000000\" points=\"1570.24,-48.76 1560.22,-52.2 1570.2,-55.76 1570.24,-48.76\"/>\n",
       "</g>\n",
       "</g>\n",
       "</svg>\n"
      ],
      "text/plain": [
       "<graphviz.sources.Source at 0x107c64760>"
      ]
     },
     "execution_count": 65,
     "metadata": {},
     "output_type": "execute_result"
    }
   ],
   "source": [
    "callgraph(maze_code)"
   ]
  },
  {
   "cell_type": "markdown",
   "metadata": {
    "slideshow": {
     "slide_type": "subslide"
    }
   },
   "source": [
    "### A First Attempt\n",
    "\n",
    "We introduce a `DictMutator` class which mutates strings by inserting a keyword from a given dictionary:"
   ]
  },
  {
   "cell_type": "code",
   "execution_count": 66,
   "metadata": {
    "execution": {
     "iopub.execute_input": "2023-01-07T14:14:25.335361Z",
     "iopub.status.busy": "2023-01-07T14:14:25.334988Z",
     "iopub.status.idle": "2023-01-07T14:14:25.336378Z",
     "shell.execute_reply": "2023-01-07T14:14:25.336750Z"
    },
    "slideshow": {
     "slide_type": "subslide"
    }
   },
   "outputs": [],
   "source": [
    "class DictMutator(Mutator):\n",
    "    \"\"\"Variant of `Mutator` inserting keywords from a dictionary\"\"\"\n",
    "\n",
    "    def __init__(self, dictionary: Sequence[str]) -> None:\n",
    "        \"\"\"Constructor.\n",
    "        `dictionary` - a list of strings that can be used as keywords\n",
    "        \"\"\"\n",
    "        super().__init__()\n",
    "        self.dictionary = dictionary\n",
    "        self.mutators.append(self.insert_from_dictionary)\n",
    "\n",
    "    def insert_from_dictionary(self, s: str) -> str:\n",
    "        \"\"\"Returns `s` with a keyword from the dictionary inserted\"\"\"\n",
    "        pos = random.randint(0, len(s))\n",
    "        random_keyword = random.choice(self.dictionary)\n",
    "        return s[:pos] + random_keyword + s[pos:]"
   ]
  },
  {
   "cell_type": "markdown",
   "metadata": {
    "slideshow": {
     "slide_type": "subslide"
    }
   },
   "source": [
    "To fuzz the maze, we extend the `DictMutator` class to append dictionary keywords to the end of the seed and to remove a character from the end of the seed."
   ]
  },
  {
   "cell_type": "code",
   "execution_count": 67,
   "metadata": {
    "execution": {
     "iopub.execute_input": "2023-01-07T14:14:25.339499Z",
     "iopub.status.busy": "2023-01-07T14:14:25.339181Z",
     "iopub.status.idle": "2023-01-07T14:14:25.340655Z",
     "shell.execute_reply": "2023-01-07T14:14:25.341103Z"
    },
    "slideshow": {
     "slide_type": "subslide"
    }
   },
   "outputs": [],
   "source": [
    "class MazeMutator(DictMutator):\n",
    "    def __init__(self, dictionary: Sequence[str]) -> None:\n",
    "        super().__init__(dictionary)\n",
    "        self.mutators.append(self.delete_last_character)\n",
    "        self.mutators.append(self.append_from_dictionary)\n",
    "\n",
    "    def append_from_dictionary(self, s: str) -> str:\n",
    "        \"\"\"Returns s with a keyword from the dictionary appended\"\"\"\n",
    "        random_keyword = random.choice(self.dictionary)\n",
    "        return s + random_keyword\n",
    "\n",
    "    def delete_last_character(self, s: str) -> str:\n",
    "        \"\"\"Returns s without the last character\"\"\"\n",
    "        if len(s) > 0:\n",
    "            return s[:-1]\n",
    "        return s"
   ]
  },
  {
   "cell_type": "markdown",
   "metadata": {
    "slideshow": {
     "slide_type": "subslide"
    }
   },
   "source": [
    "Let's try a standard greybox fuzzer with the classic power schedule and our extended maze mutator (n=20k)."
   ]
  },
  {
   "cell_type": "code",
   "execution_count": 68,
   "metadata": {
    "execution": {
     "iopub.execute_input": "2023-01-07T14:14:25.450930Z",
     "iopub.status.busy": "2023-01-07T14:14:25.407969Z",
     "iopub.status.idle": "2023-01-07T14:14:32.291186Z",
     "shell.execute_reply": "2023-01-07T14:14:32.291410Z"
    },
    "slideshow": {
     "slide_type": "fragment"
    }
   },
   "outputs": [
    {
     "data": {
      "text/plain": [
       "'It took the fuzzer 6.95 seconds to generate and execute 20000 inputs.'"
      ]
     },
     "execution_count": 68,
     "metadata": {},
     "output_type": "execute_result"
    }
   ],
   "source": [
    "n = 20000\n",
    "seed_input = \" \"  # empty seed\n",
    "\n",
    "maze_mutator = MazeMutator([\"L\", \"R\", \"U\", \"D\"])\n",
    "maze_schedule = PowerSchedule()\n",
    "maze_fuzzer = GreyboxFuzzer([seed_input], maze_mutator, maze_schedule)\n",
    "\n",
    "start = time.time()\n",
    "maze_fuzzer.runs(FunctionCoverageRunner(maze), trials=n)\n",
    "end = time.time()\n",
    "\n",
    "\"It took the fuzzer %0.2f seconds to generate and execute %d inputs.\" % (end - start, n)"
   ]
  },
  {
   "cell_type": "markdown",
   "metadata": {
    "slideshow": {
     "slide_type": "subslide"
    }
   },
   "source": [
    "We will need to print statistics for several fuzzers. Why don't we define a function for that?"
   ]
  },
  {
   "cell_type": "code",
   "execution_count": 69,
   "metadata": {
    "execution": {
     "iopub.execute_input": "2023-01-07T14:14:32.294735Z",
     "iopub.status.busy": "2023-01-07T14:14:32.294407Z",
     "iopub.status.idle": "2023-01-07T14:14:32.295508Z",
     "shell.execute_reply": "2023-01-07T14:14:32.295908Z"
    },
    "slideshow": {
     "slide_type": "subslide"
    }
   },
   "outputs": [],
   "source": [
    "def print_stats(fuzzer: GreyboxFuzzer) -> None:\n",
    "    total = len(fuzzer.population)\n",
    "    solved = 0\n",
    "    invalid = 0\n",
    "    valid = 0\n",
    "    for seed in fuzzer.population:\n",
    "        s = maze(str(seed.data))\n",
    "        if \"INVALID\" in s:\n",
    "            invalid += 1\n",
    "        elif \"VALID\" in s:\n",
    "            valid += 1\n",
    "        elif \"SOLVED\" in s:\n",
    "            solved += 1\n",
    "            if solved == 1:\n",
    "                print(\"First solution: %s\" % repr(seed))\n",
    "        else:\n",
    "            print(\"??\")\n",
    "\n",
    "    print(\"\"\"Out of %d seeds,\n",
    "* %4d solved the maze,\n",
    "* %4d were valid but did not solve the maze, and\n",
    "* %4d were invalid\"\"\" % (total, solved, valid, invalid))"
   ]
  },
  {
   "cell_type": "markdown",
   "metadata": {
    "slideshow": {
     "slide_type": "subslide"
    }
   },
   "source": [
    "How well does our good, old greybox fuzzer do?"
   ]
  },
  {
   "cell_type": "code",
   "execution_count": 70,
   "metadata": {
    "execution": {
     "iopub.execute_input": "2023-01-07T14:14:32.312158Z",
     "iopub.status.busy": "2023-01-07T14:14:32.311801Z",
     "iopub.status.idle": "2023-01-07T14:14:32.313352Z",
     "shell.execute_reply": "2023-01-07T14:14:32.313563Z"
    },
    "slideshow": {
     "slide_type": "fragment"
    }
   },
   "outputs": [
    {
     "name": "stdout",
     "output_type": "stream",
     "text": [
      "Out of 1398 seeds,\n",
      "*    0 solved the maze,\n",
      "*  270 were valid but did not solve the maze, and\n",
      "* 1128 were invalid\n"
     ]
    }
   ],
   "source": [
    "print_stats(maze_fuzzer)"
   ]
  },
  {
   "cell_type": "markdown",
   "metadata": {
    "slideshow": {
     "slide_type": "subslide"
    }
   },
   "source": [
    "It probably didn't solve the maze a single time. How can we make the fuzzer aware how \"far\" a seed is from reaching the target? If we know that, we can just assign more energy to that seed.\n",
    "\n",
    "***Try it***. Print the statistics for the boosted fuzzer using the `AFLFastSchedule` and the `CountingGreyboxFuzzer`. It will likely perform much better than the unboosted greybox fuzzer: The lowest-probablity path happens to be also the path which reaches the target. You can execute your own code by opening this chapter as Jupyter notebook."
   ]
  },
  {
   "cell_type": "markdown",
   "metadata": {
    "slideshow": {
     "slide_type": "subslide"
    }
   },
   "source": [
    "### Computing Function-Level Distance\n",
    "\n",
    "Using the static call graph for the maze code and the target function, we can compute the distance of each function $f$ to the target $t$ as the length of the shortest path between $f$ and $t$.\n",
    "\n",
    "Fortunately, the generated maze code includes a function called `target_tile` which returns the name of the target-function."
   ]
  },
  {
   "cell_type": "code",
   "execution_count": 71,
   "metadata": {
    "execution": {
     "iopub.execute_input": "2023-01-07T14:14:32.316160Z",
     "iopub.status.busy": "2023-01-07T14:14:32.315728Z",
     "iopub.status.idle": "2023-01-07T14:14:32.317546Z",
     "shell.execute_reply": "2023-01-07T14:14:32.317762Z"
    },
    "slideshow": {
     "slide_type": "fragment"
    }
   },
   "outputs": [
    {
     "data": {
      "text/plain": [
       "'tile_6_7'"
      ]
     },
     "execution_count": 71,
     "metadata": {},
     "output_type": "execute_result"
    }
   ],
   "source": [
    "target = target_tile()\n",
    "target"
   ]
  },
  {
   "cell_type": "markdown",
   "metadata": {
    "slideshow": {
     "slide_type": "subslide"
    }
   },
   "source": [
    "Now, we need to find the corresponding function in the call graph. The function `get_callgraph` returns the call graph for the maze code as [networkx](https://networkx.github.io/) graph. Networkx provides some useful functions for graph analysis."
   ]
  },
  {
   "cell_type": "code",
   "execution_count": 72,
   "metadata": {
    "execution": {
     "iopub.execute_input": "2023-01-07T14:14:32.319992Z",
     "iopub.status.busy": "2023-01-07T14:14:32.319693Z",
     "iopub.status.idle": "2023-01-07T14:14:32.321093Z",
     "shell.execute_reply": "2023-01-07T14:14:32.321279Z"
    },
    "slideshow": {
     "slide_type": "skip"
    }
   },
   "outputs": [],
   "source": [
    "import networkx as nx  # type: ignore"
   ]
  },
  {
   "cell_type": "code",
   "execution_count": 73,
   "metadata": {
    "execution": {
     "iopub.execute_input": "2023-01-07T14:14:32.323265Z",
     "iopub.status.busy": "2023-01-07T14:14:32.322951Z",
     "iopub.status.idle": "2023-01-07T14:14:32.324239Z",
     "shell.execute_reply": "2023-01-07T14:14:32.324399Z"
    },
    "slideshow": {
     "slide_type": "skip"
    }
   },
   "outputs": [],
   "source": [
    "from ControlFlow import get_callgraph"
   ]
  },
  {
   "cell_type": "code",
   "execution_count": 74,
   "metadata": {
    "execution": {
     "iopub.execute_input": "2023-01-07T14:14:32.326971Z",
     "iopub.status.busy": "2023-01-07T14:14:32.326506Z",
     "iopub.status.idle": "2023-01-07T14:14:32.378060Z",
     "shell.execute_reply": "2023-01-07T14:14:32.378285Z"
    },
    "slideshow": {
     "slide_type": "fragment"
    }
   },
   "outputs": [],
   "source": [
    "cg = get_callgraph(maze_code)\n",
    "for node in cg.nodes():\n",
    "    if target in node:\n",
    "        target_node = node\n",
    "        break"
   ]
  },
  {
   "cell_type": "code",
   "execution_count": 75,
   "metadata": {
    "execution": {
     "iopub.execute_input": "2023-01-07T14:14:32.380407Z",
     "iopub.status.busy": "2023-01-07T14:14:32.380059Z",
     "iopub.status.idle": "2023-01-07T14:14:32.381685Z",
     "shell.execute_reply": "2023-01-07T14:14:32.381889Z"
    },
    "slideshow": {
     "slide_type": "fragment"
    }
   },
   "outputs": [
    {
     "data": {
      "text/plain": [
       "'callgraphX__tile_6_7'"
      ]
     },
     "execution_count": 75,
     "metadata": {},
     "output_type": "execute_result"
    }
   ],
   "source": [
    "target_node"
   ]
  },
  {
   "cell_type": "markdown",
   "metadata": {
    "slideshow": {
     "slide_type": "subslide"
    }
   },
   "source": [
    "We can now generate the function-level distance. The dictionary `distance` contains for each function the distance to the target-function.  If there is no path to the target, we assign a maximum distance (`0xFFFF`).\n",
    "\n",
    "The function `nx.shortest_path_length(CG, node, target_node)` returns the length of the shortest path from function `node` to function `target_node` in the call graph `CG`."
   ]
  },
  {
   "cell_type": "code",
   "execution_count": 76,
   "metadata": {
    "execution": {
     "iopub.execute_input": "2023-01-07T14:14:32.384677Z",
     "iopub.status.busy": "2023-01-07T14:14:32.384345Z",
     "iopub.status.idle": "2023-01-07T14:14:32.385545Z",
     "shell.execute_reply": "2023-01-07T14:14:32.385735Z"
    },
    "slideshow": {
     "slide_type": "subslide"
    }
   },
   "outputs": [],
   "source": [
    "distance = {}\n",
    "for node in cg.nodes():\n",
    "    if \"__\" in node:\n",
    "        name = node.split(\"__\")[-1]\n",
    "    else:\n",
    "        name = node\n",
    "    try:\n",
    "        distance[name] = nx.shortest_path_length(cg, node, target_node)\n",
    "    except:\n",
    "        distance[name] = 0xFFFF"
   ]
  },
  {
   "cell_type": "markdown",
   "metadata": {
    "slideshow": {
     "slide_type": "fragment"
    }
   },
   "source": [
    "These are the distance values for all tile-functions on the path to the target function."
   ]
  },
  {
   "cell_type": "code",
   "execution_count": 77,
   "metadata": {
    "execution": {
     "iopub.execute_input": "2023-01-07T14:14:32.388388Z",
     "iopub.status.busy": "2023-01-07T14:14:32.388010Z",
     "iopub.status.idle": "2023-01-07T14:14:32.389612Z",
     "shell.execute_reply": "2023-01-07T14:14:32.389815Z"
    },
    "slideshow": {
     "slide_type": "subslide"
    }
   },
   "outputs": [
    {
     "data": {
      "text/plain": [
       "{'callgraphX': 1,\n",
       " 'maze': 23,\n",
       " 'tile_2_1': 22,\n",
       " 'tile_2_3': 8,\n",
       " 'tile_2_4': 7,\n",
       " 'tile_2_5': 6,\n",
       " 'tile_2_6': 5,\n",
       " 'tile_2_7': 4,\n",
       " 'tile_3_1': 21,\n",
       " 'tile_3_3': 9,\n",
       " 'tile_3_7': 3,\n",
       " 'tile_4_1': 20,\n",
       " 'tile_4_3': 10,\n",
       " 'tile_4_4': 11,\n",
       " 'tile_4_5': 12,\n",
       " 'tile_4_7': 2,\n",
       " 'tile_5_1': 19,\n",
       " 'tile_5_5': 13,\n",
       " 'tile_5_7': 1,\n",
       " 'tile_6_1': 18,\n",
       " 'tile_6_2': 17,\n",
       " 'tile_6_3': 16,\n",
       " 'tile_6_4': 15,\n",
       " 'tile_6_5': 14,\n",
       " 'tile_6_7': 0}"
      ]
     },
     "execution_count": 77,
     "metadata": {},
     "output_type": "execute_result"
    }
   ],
   "source": [
    "{k: distance[k] for k in list(distance) if distance[k] < 0xFFFF}"
   ]
  },
  {
   "cell_type": "markdown",
   "metadata": {
    "slideshow": {
     "slide_type": "subslide"
    }
   },
   "source": [
    "***Summary***. Using the static call graph and the target function $t$, we have shown how to compute the function-level distance of each function $f$ to the target $t$.\n",
    "\n",
    "***Try it***. You can try and execute your own code by opening this chapter as Jupyter notebook.\n",
    "\n",
    "* How do we compute distance if there are multiple targets? (Hint: [Geometric Mean](https://en.wikipedia.org/wiki/Geometric_mean)).\n",
    "* Given the call graph (CG) and the control-flow graph (CFG$_f$) for each function $f$, how do we compute basic-block (BB)-level distance? (Hint: In CFG$_f$, measure the BB-level distance to *calls* of functions on the path to the target function. Remember that BB-level distance in functions with higher function-level distance is higher, too.)\n",
    "\n",
    "***Read***. If you are interested in other aspects of search, you can follow up by reading the chapter on [Search-based Fuzzing](SearchBasedFuzzer.ipynb). If you are interested, how to solve the problems above, you can have a look at our paper on \"[Directed Greybox Fuzzing](https://mboehme.github.io/paper/CCS17.pdf)\"."
   ]
  },
  {
   "cell_type": "markdown",
   "metadata": {
    "slideshow": {
     "slide_type": "subslide"
    }
   },
   "source": [
    "### Directed Power Schedule\n",
    "Now that we know how to compute the function-level distance, let's try to implement a power schedule that assigns *more energy to seeds with a lower average distance* to the target function. Notice that the distance values are all *pre-computed*. These values are injected into the program binary, just like the coverage instrumentation. In practice, this makes the computation of the average distance *extremely efficient*.\n",
    "\n",
    "If you really want to know. Given the function-level distance $d_f(s,t)$ of a function $s$ to a function $t$ in call graph $CG$, our directed power schedule computes the seed distance $d(i,t)$ for a seed $i$ to function $t$ as $d(i,t)=\\dfrac{\\sum_{s\\in CG} d_f(s,t)}{|CG|}$ where $|CG|$ is the number of nodes in the call graph $CG$."
   ]
  },
  {
   "cell_type": "code",
   "execution_count": 78,
   "metadata": {
    "execution": {
     "iopub.execute_input": "2023-01-07T14:14:32.393223Z",
     "iopub.status.busy": "2023-01-07T14:14:32.392908Z",
     "iopub.status.idle": "2023-01-07T14:14:32.394172Z",
     "shell.execute_reply": "2023-01-07T14:14:32.394535Z"
    },
    "slideshow": {
     "slide_type": "subslide"
    }
   },
   "outputs": [],
   "source": [
    "class DirectedSchedule(PowerSchedule):\n",
    "    \"\"\"Assign high energy to seeds close to some target\"\"\"\n",
    "\n",
    "    def __init__(self, distance: Dict[str, int], exponent: float) -> None:\n",
    "        self.distance = distance\n",
    "        self.exponent = exponent\n",
    "\n",
    "    def __getFunctions__(self, coverage: Set[Location]) -> Set[str]:\n",
    "        functions = set()\n",
    "        for f, _ in set(coverage):\n",
    "            functions.add(f)\n",
    "        return functions\n",
    "\n",
    "    def assignEnergy(self, population: Sequence[Seed]) -> None:\n",
    "        \"\"\"Assigns each seed energy inversely proportional\n",
    "           to the average function-level distance to target.\"\"\"\n",
    "        for seed in population:\n",
    "            if seed.distance < 0:\n",
    "                num_dist = 0\n",
    "                sum_dist = 0\n",
    "                for f in self.__getFunctions__(seed.coverage):\n",
    "                    if f in list(self.distance):\n",
    "                        sum_dist += self.distance[f]\n",
    "                        num_dist += 1\n",
    "                seed.distance = sum_dist / num_dist\n",
    "                seed.energy = (1 / seed.distance) ** self.exponent"
   ]
  },
  {
   "cell_type": "markdown",
   "metadata": {
    "slideshow": {
     "slide_type": "subslide"
    }
   },
   "source": [
    "Let's see how the directed schedule performs against the good, old greybox fuzzer."
   ]
  },
  {
   "cell_type": "code",
   "execution_count": 79,
   "metadata": {
    "execution": {
     "iopub.execute_input": "2023-01-07T14:14:32.489602Z",
     "iopub.status.busy": "2023-01-07T14:14:32.446190Z",
     "iopub.status.idle": "2023-01-07T14:14:41.422598Z",
     "shell.execute_reply": "2023-01-07T14:14:41.422871Z"
    },
    "slideshow": {
     "slide_type": "fragment"
    }
   },
   "outputs": [
    {
     "data": {
      "text/plain": [
       "'It took the fuzzer 9.02 seconds to generate and execute 20000 inputs.'"
      ]
     },
     "execution_count": 79,
     "metadata": {},
     "output_type": "execute_result"
    }
   ],
   "source": [
    "directed_schedule = DirectedSchedule(distance, 3)\n",
    "directed_fuzzer = GreyboxFuzzer([seed_input], maze_mutator, directed_schedule)\n",
    "\n",
    "start = time.time()\n",
    "directed_fuzzer.runs(FunctionCoverageRunner(maze), trials=n)\n",
    "end = time.time()\n",
    "\n",
    "\"It took the fuzzer %0.2f seconds to generate and execute %d inputs.\" % (end - start, n)"
   ]
  },
  {
   "cell_type": "code",
   "execution_count": 80,
   "metadata": {
    "execution": {
     "iopub.execute_input": "2023-01-07T14:14:41.451669Z",
     "iopub.status.busy": "2023-01-07T14:14:41.451168Z",
     "iopub.status.idle": "2023-01-07T14:14:41.453436Z",
     "shell.execute_reply": "2023-01-07T14:14:41.453756Z"
    },
    "slideshow": {
     "slide_type": "subslide"
    }
   },
   "outputs": [
    {
     "name": "stdout",
     "output_type": "stream",
     "text": [
      "Out of 2708 seeds,\n",
      "*    0 solved the maze,\n",
      "* 1020 were valid but did not solve the maze, and\n",
      "* 1688 were invalid\n"
     ]
    }
   ],
   "source": [
    "print_stats(directed_fuzzer)"
   ]
  },
  {
   "cell_type": "markdown",
   "metadata": {
    "slideshow": {
     "slide_type": "fragment"
    }
   },
   "source": [
    "It probably didn't solve a single maze either, but we have more valid solutions. So, there is definitely progress.\n",
    "\n",
    "Let's have a look at the distance values for each seed."
   ]
  },
  {
   "cell_type": "code",
   "execution_count": 81,
   "metadata": {
    "execution": {
     "iopub.execute_input": "2023-01-07T14:14:41.549145Z",
     "iopub.status.busy": "2023-01-07T14:14:41.547171Z",
     "iopub.status.idle": "2023-01-07T14:14:41.584295Z",
     "shell.execute_reply": "2023-01-07T14:14:41.585212Z"
    },
    "slideshow": {
     "slide_type": "subslide"
    }
   },
   "outputs": [
    {
     "data": {
      "image/png": "[encoded data removed]",
      "text/plain": [
       "<Figure size 432x288 with 1 Axes>"
      ]
     },
     "metadata": {
      "needs_background": "light"
     },
     "output_type": "display_data"
    }
   ],
   "source": [
    "y = [seed.distance for seed in directed_fuzzer.population]  # type: ignore\n",
    "x = range(len(y))\n",
    "plt.scatter(x, y)\n",
    "plt.ylim(0, max(y))\n",
    "plt.xlabel(\"Seed ID\")\n",
    "plt.ylabel(\"Distance\");"
   ]
  },
  {
   "cell_type": "markdown",
   "metadata": {
    "slideshow": {
     "slide_type": "fragment"
    }
   },
   "source": [
    "Let's normalize the y-axis and improve the importance of the small distance seeds."
   ]
  },
  {
   "cell_type": "markdown",
   "metadata": {
    "slideshow": {
     "slide_type": "subslide"
    }
   },
   "source": [
    "### Improved Directed Power Schedule\n",
    "\n",
    "The improved directed schedule normalizes seed distance between the minimal and maximal distance.\n",
    "Again, if you really want to know. Given the seed distance $d(i,t)$ of a seed $i$ to a function $t$, our improved power schedule computes the new seed distance $d'(i,t)$ as \n",
    "$$\n",
    "d'(i,t)=\\begin{cases}\n",
    "1 & \\text{if } d(i,t) = \\text{minD} = \\text{maxD}\\\\\n",
    "\\text{maxD} - \\text{minD} & \\text{if } d(i,t) = \\text{minD} \\neq \\text{maxD}\\\\\n",
    "\\frac{\\text{maxD} - \\text{minD}}{d(i,t)-\\text{minD}} & \\text{otherwise}\n",
    "\\end{cases}\n",
    "$$\n",
    "where \n",
    "$$\\text{minD}=\\min_{i\\in T}[d(i,t)]$$\n",
    "and\n",
    "$$\\text{maxD}=\\max_{i\\in T}[d(i,t)]$$\n",
    "where $T$ is the set of seeds (i.e., the population)."
   ]
  },
  {
   "cell_type": "code",
   "execution_count": 82,
   "metadata": {
    "execution": {
     "iopub.execute_input": "2023-01-07T14:14:41.595207Z",
     "iopub.status.busy": "2023-01-07T14:14:41.594388Z",
     "iopub.status.idle": "2023-01-07T14:14:41.604687Z",
     "shell.execute_reply": "2023-01-07T14:14:41.605696Z"
    },
    "slideshow": {
     "slide_type": "subslide"
    }
   },
   "outputs": [],
   "source": [
    "class AFLGoSchedule(DirectedSchedule):\n",
    "    \"\"\"Assign high energy to seeds close to the target\"\"\"\n",
    "\n",
    "    def assignEnergy(self, population: Sequence[Seed]):\n",
    "        \"\"\"Assigns each seed energy inversely proportional\n",
    "           to the average function-level distance to target.\"\"\"\n",
    "        min_dist: Union[int, float] = 0xFFFF\n",
    "        max_dist: Union[int, float] = 0\n",
    "\n",
    "        for seed in population:\n",
    "            if seed.distance < 0:\n",
    "                num_dist = 0\n",
    "                sum_dist = 0\n",
    "                for f in self.__getFunctions__(seed.coverage):\n",
    "                    if f in list(self.distance):\n",
    "                        sum_dist += self.distance[f]\n",
    "                        num_dist += 1\n",
    "                seed.distance = sum_dist / num_dist\n",
    "            if seed.distance < min_dist:\n",
    "                min_dist = seed.distance\n",
    "            if seed.distance > max_dist:\n",
    "                max_dist = seed.distance\n",
    "\n",
    "        for seed in population:\n",
    "            if seed.distance == min_dist:\n",
    "                if min_dist == max_dist:\n",
    "                    seed.energy = 1\n",
    "                else:\n",
    "                    seed.energy = max_dist - min_dist\n",
    "            else:\n",
    "                seed.energy = (max_dist - min_dist) / (seed.distance - min_dist)"
   ]
  },
  {
   "cell_type": "markdown",
   "metadata": {
    "slideshow": {
     "slide_type": "subslide"
    }
   },
   "source": [
    "Let's see how the improved power schedule performs."
   ]
  },
  {
   "cell_type": "code",
   "execution_count": 83,
   "metadata": {
    "execution": {
     "iopub.execute_input": "2023-01-07T14:14:41.630426Z",
     "iopub.status.busy": "2023-01-07T14:14:41.629544Z",
     "iopub.status.idle": "2023-01-07T14:14:58.265428Z",
     "shell.execute_reply": "2023-01-07T14:14:58.265674Z"
    },
    "slideshow": {
     "slide_type": "fragment"
    }
   },
   "outputs": [
    {
     "data": {
      "text/plain": [
       "'It took the fuzzer 16.65 seconds to generate and execute 20000 inputs.'"
      ]
     },
     "execution_count": 83,
     "metadata": {},
     "output_type": "execute_result"
    }
   ],
   "source": [
    "aflgo_schedule = AFLGoSchedule(distance, 3)\n",
    "aflgo_fuzzer = GreyboxFuzzer([seed_input], maze_mutator, aflgo_schedule)\n",
    "\n",
    "start = time.time()\n",
    "aflgo_fuzzer.runs(FunctionCoverageRunner(maze), trials=n)\n",
    "end = time.time()\n",
    "\n",
    "\"It took the fuzzer %0.2f seconds to generate and execute %d inputs.\" % (end - start, n)"
   ]
  },
  {
   "cell_type": "code",
   "execution_count": 84,
   "metadata": {
    "execution": {
     "iopub.execute_input": "2023-01-07T14:14:58.310393Z",
     "iopub.status.busy": "2023-01-07T14:14:58.266870Z",
     "iopub.status.idle": "2023-01-07T14:14:58.320503Z",
     "shell.execute_reply": "2023-01-07T14:14:58.320717Z"
    },
    "slideshow": {
     "slide_type": "subslide"
    }
   },
   "outputs": [
    {
     "name": "stdout",
     "output_type": "stream",
     "text": [
      "First solution: DP{\u00049DsDmD)$gPRROR\"jRUUHtLFLPUU=DURRR/RDDDDD\n",
      "Out of 3918 seeds,\n",
      "*  680 solved the maze,\n",
      "*  348 were valid but did not solve the maze, and\n",
      "* 2890 were invalid\n"
     ]
    }
   ],
   "source": [
    "print_stats(aflgo_fuzzer)"
   ]
  },
  {
   "cell_type": "markdown",
   "metadata": {
    "slideshow": {
     "slide_type": "fragment"
    }
   },
   "source": [
    "In contrast to all previous power schedules, this one generates hundreds of solutions. It has generated many solutions. \n",
    "\n",
    "Let's filter out all ignored input characters from the first solution. The function `filter(f, seed.data)` returns a list of elements `e` in `seed.data` where the function `f` applied on `e` returns True."
   ]
  },
  {
   "cell_type": "code",
   "execution_count": 85,
   "metadata": {
    "execution": {
     "iopub.execute_input": "2023-01-07T14:14:58.329308Z",
     "iopub.status.busy": "2023-01-07T14:14:58.328927Z",
     "iopub.status.idle": "2023-01-07T14:14:58.330307Z",
     "shell.execute_reply": "2023-01-07T14:14:58.330573Z"
    },
    "slideshow": {
     "slide_type": "subslide"
    }
   },
   "outputs": [
    {
     "name": "stdout",
     "output_type": "stream",
     "text": [
      "DDDDRRRRUULLUUDURRRRDDDDD\n"
     ]
    }
   ],
   "source": [
    "for seed in aflgo_fuzzer.population:\n",
    "    s = maze(str(seed.data))\n",
    "    if \"SOLVED\" in s:\n",
    "        filtered = \"\".join(list(filter(lambda c: c in \"UDLR\", seed.data)))\n",
    "        print(filtered)\n",
    "        break"
   ]
  },
  {
   "cell_type": "markdown",
   "metadata": {
    "slideshow": {
     "slide_type": "subslide"
    }
   },
   "source": [
    "This is definitely a solution for the maze specified at the beginning!\n",
    "\n",
    "***Summary***. After pre-computing the function-level distance to the target, we can develop a power schedule that assigns more energy to a seed with a smaller average function-level distance to the target. By normalizing seed distance values between the minimum and maximum seed distance, we can further boost the directed power schedule.\n",
    "\n",
    "***Try it***. Implement and evaluate a simpler directed power that uses the minimal (rather than average) function-level distance. What is the downside of using the minimal distance? In order to execute your code, you just need to open this chapter as Jupyter notebook.\n",
    "\n",
    "***Read***. You can find out more about directed greybox fuzzing in the equally-named paper \"[Directed Greybox Fuzzing](https://mboehme.github.io/paper/CCS17.pdf)\" \\cite{boehme2017greybox} and check out the implementation into AFL at [http://github.com/aflgo/aflgo](http://github.com/aflgo/aflgo)."
   ]
  },
  {
   "cell_type": "markdown",
   "metadata": {
    "slideshow": {
     "slide_type": "slide"
    }
   },
   "source": [
    "## Synopsis\n",
    "\n",
    "This chapter introduces advanced methods for grey-box fuzzing inspired by the popular AFL fuzzer. The `GreyboxFuzzer` class has three arguments. First, a list of seed inputs:"
   ]
  },
  {
   "cell_type": "code",
   "execution_count": 86,
   "metadata": {
    "execution": {
     "iopub.execute_input": "2023-01-07T14:14:58.332412Z",
     "iopub.status.busy": "2023-01-07T14:14:58.332123Z",
     "iopub.status.idle": "2023-01-07T14:14:58.333364Z",
     "shell.execute_reply": "2023-01-07T14:14:58.333691Z"
    },
    "slideshow": {
     "slide_type": "fragment"
    }
   },
   "outputs": [],
   "source": [
    "seed_input = \"http://www.google.com/search?q=fuzzing\"\n",
    "seeds = [seed_input]"
   ]
  },
  {
   "cell_type": "markdown",
   "metadata": {
    "slideshow": {
     "slide_type": "fragment"
    }
   },
   "source": [
    "Second, a _mutator_ that changes individual parts of the input."
   ]
  },
  {
   "cell_type": "code",
   "execution_count": 87,
   "metadata": {
    "execution": {
     "iopub.execute_input": "2023-01-07T14:14:58.335313Z",
     "iopub.status.busy": "2023-01-07T14:14:58.335013Z",
     "iopub.status.idle": "2023-01-07T14:14:58.336235Z",
     "shell.execute_reply": "2023-01-07T14:14:58.336548Z"
    },
    "slideshow": {
     "slide_type": "fragment"
    }
   },
   "outputs": [],
   "source": [
    "mutator = Mutator()"
   ]
  },
  {
   "cell_type": "markdown",
   "metadata": {
    "slideshow": {
     "slide_type": "fragment"
    }
   },
   "source": [
    "Third, a _power schedule_ that assigns fuzzing effort across the population:"
   ]
  },
  {
   "cell_type": "code",
   "execution_count": 88,
   "metadata": {
    "execution": {
     "iopub.execute_input": "2023-01-07T14:14:58.338242Z",
     "iopub.status.busy": "2023-01-07T14:14:58.337954Z",
     "iopub.status.idle": "2023-01-07T14:14:58.339471Z",
     "shell.execute_reply": "2023-01-07T14:14:58.339241Z"
    },
    "slideshow": {
     "slide_type": "fragment"
    }
   },
   "outputs": [],
   "source": [
    "schedule = PowerSchedule()"
   ]
  },
  {
   "cell_type": "markdown",
   "metadata": {
    "slideshow": {
     "slide_type": "fragment"
    }
   },
   "source": [
    "These three go into the `GreyboxFuzzer` constructor:"
   ]
  },
  {
   "cell_type": "code",
   "execution_count": 89,
   "metadata": {
    "execution": {
     "iopub.execute_input": "2023-01-07T14:14:58.341713Z",
     "iopub.status.busy": "2023-01-07T14:14:58.341385Z",
     "iopub.status.idle": "2023-01-07T14:14:58.342813Z",
     "shell.execute_reply": "2023-01-07T14:14:58.343000Z"
    },
    "slideshow": {
     "slide_type": "fragment"
    },
    "tags": []
   },
   "outputs": [],
   "source": [
    "greybox_fuzzer = GreyboxFuzzer(seeds=seeds, mutator=mutator, schedule=schedule)"
   ]
  },
  {
   "cell_type": "markdown",
   "metadata": {
    "slideshow": {
     "slide_type": "subslide"
    }
   },
   "source": [
    "The `GreyboxFuzzer` class is used in conjunction with a `FunctionCoverageRunner`:"
   ]
  },
  {
   "cell_type": "code",
   "execution_count": 90,
   "metadata": {
    "execution": {
     "iopub.execute_input": "2023-01-07T14:14:58.437915Z",
     "iopub.status.busy": "2023-01-07T14:14:58.394430Z",
     "iopub.status.idle": "2023-01-07T14:14:59.274475Z",
     "shell.execute_reply": "2023-01-07T14:14:59.275002Z"
    },
    "slideshow": {
     "slide_type": "fragment"
    }
   },
   "outputs": [],
   "source": [
    "http_runner = FunctionCoverageRunner(http_program)\n",
    "outcomes = greybox_fuzzer.runs(http_runner, trials=10000)"
   ]
  },
  {
   "cell_type": "markdown",
   "metadata": {
    "slideshow": {
     "slide_type": "fragment"
    }
   },
   "source": [
    "After fuzzing, we can inspect the population:"
   ]
  },
  {
   "cell_type": "code",
   "execution_count": 91,
   "metadata": {
    "execution": {
     "iopub.execute_input": "2023-01-07T14:14:59.278991Z",
     "iopub.status.busy": "2023-01-07T14:14:59.278333Z",
     "iopub.status.idle": "2023-01-07T14:14:59.280038Z",
     "shell.execute_reply": "2023-01-07T14:14:59.280313Z"
    },
    "slideshow": {
     "slide_type": "subslide"
    }
   },
   "outputs": [
    {
     "data": {
      "text/plain": [
       "[http://www.google.com/search?q=fuzzing,\n",
       " htpp://w.gfoogne.com/seaRchw?q=fuzzng,\n",
       " http://ww.google.com/search?q=furzing,\n",
       " xvtp:{/www.foogle.com/seapch=q=uzzing,\n",
       " ht:w/ww.goog\\l*#m/seaXrceh?bq=rzilgl,\n",
       " http:/wwwgoogne.coe/seazch?q=uzzin&,\n",
       " h|t4p://.PgoolL.com/sdrh?Qq=Fuzi,\n",
       " htzB</wqwgRjo%n.be/cac&cJDi?q=uZ4hn4,\n",
       " dtp\\/AwF!g.gmoel+b/hsech?=Nfu|r:fg,\n",
       " tpp:J//c.znoTogn{.com/ceachw?0q=fuzzng,\n",
       " http://www.gooole.com/searchq=fuzzing,\n",
       " 1dtp$:/-wgoogdeVcom/\u001aserca=uAzing,\n",
       " htzB</w1wgRjo%n.be/cac[&cJDi?q=uZ4hn4,\n",
       " Jh;vw//wwA,j7oo!'l#m/aX\\c%eh?.q-Xrzil,\n",
       " ht:wwW.goog\\l*#m/seRa<Xrch?bqrzIgl,\n",
       " h~tzbwqwgR`%n>jQex/c&*ieq=08T,\n",
       "  vpe7pJ5/nb/nUc{jICo-m /gacw0qmfQuzz#ng,\n",
       " htpp://w.gf/ogn.#m/seaRchw?q=fuzzng,\n",
       " J;w?G/&!7jwA,j7/o!fL\u0003mX\\gh?2-bz@\"i,\n",
       " ;?p8.gnoox\u0007n%ncooms'aRhqW=f\"Dzg]"
      ]
     },
     "execution_count": 91,
     "metadata": {},
     "output_type": "execute_result"
    }
   ],
   "source": [
    "greybox_fuzzer.population[:20]"
   ]
  },
  {
   "cell_type": "markdown",
   "metadata": {
    "slideshow": {
     "slide_type": "subslide"
    }
   },
   "source": [
    "Besides the simple `PowerSchedule`, we can have advanced power schedules.\n",
    "\n",
    "* `AFLFastSchedule` assigns high energy to \"unusual\" paths not taken very often.\n",
    "* `AFLGoSchedule` assigns high energy to paths close to uncovered program locations. \n",
    "\n",
    "The `AFLGoSchedule` class constructor requires a `distance` metric from each node towards target locations, as determined via analysis of the program code. See the chapter for details."
   ]
  },
  {
   "cell_type": "code",
   "execution_count": 92,
   "metadata": {
    "execution": {
     "iopub.execute_input": "2023-01-07T14:14:59.282746Z",
     "iopub.status.busy": "2023-01-07T14:14:59.282412Z",
     "iopub.status.idle": "2023-01-07T14:14:59.283658Z",
     "shell.execute_reply": "2023-01-07T14:14:59.284062Z"
    },
    "slideshow": {
     "slide_type": "fragment"
    }
   },
   "outputs": [],
   "source": [
    "# ignore\n",
    "from ClassDiagram import display_class_hierarchy"
   ]
  },
  {
   "cell_type": "code",
   "execution_count": 93,
   "metadata": {
    "execution": {
     "iopub.execute_input": "2023-01-07T14:14:59.288241Z",
     "iopub.status.busy": "2023-01-07T14:14:59.287908Z",
     "iopub.status.idle": "2023-01-07T14:14:59.666013Z",
     "shell.execute_reply": "2023-01-07T14:14:59.666293Z"
    },
    "slideshow": {
     "slide_type": "subslide"
    }
   },
   "outputs": [
    {
     "data": {
      "image/svg+xml": [
       "<?xml version=\"1.0\" encoding=\"UTF-8\" standalone=\"no\"?>\n",
       "<!DOCTYPE svg PUBLIC \"-//W3C//DTD SVG 1.1//EN\"\n",
       " \"http://www.w3.org/Graphics/SVG/1.1/DTD/svg11.dtd\">\n",
       "<!-- Generated by graphviz version 7.0.2 (20221119.0110)\n",
       " -->\n",
       "<!-- Pages: 1 -->\n",
       "<svg width=\"867pt\" height=\"420pt\"\n",
       " viewBox=\"0.00 0.00 866.50 420.00\" xmlns=\"http://www.w3.org/2000/svg\" xmlns:xlink=\"http://www.w3.org/1999/xlink\">\n",
       "<g id=\"graph0\" class=\"graph\" transform=\"scale(1 1) rotate(0) translate(4 416)\">\n",
       "<g id=\"a_graph0\"><a xlink:title=\"CountingGreyboxFuzzer class hierarchy\">\n",
       "<polygon fill=\"white\" stroke=\"none\" points=\"-4,4 -4,-416 862.5,-416 862.5,4 -4,4\"/>\n",
       "</a>\n",
       "</g>\n",
       "<!-- CountingGreyboxFuzzer -->\n",
       "<g id=\"node1\" class=\"node\">\n",
       "<title>CountingGreyboxFuzzer</title>\n",
       "<g id=\"a_node1\"><a xlink:href=\"#\" xlink:title=\"class CountingGreyboxFuzzer:&#10;Count how often individual paths are exercised.\">\n",
       "<polygon fill=\"none\" stroke=\"black\" points=\"5,-6 5,-59 172,-59 172,-6 5,-6\"/>\n",
       "<text text-anchor=\"start\" x=\"13\" y=\"-44.8\" font-family=\"Patua One, Helvetica, sans-serif\" font-weight=\"bold\" font-size=\"14.00\" fill=\"#b03a2e\">CountingGreyboxFuzzer</text>\n",
       "<polyline fill=\"none\" stroke=\"black\" points=\"5,-36 172,-36\"/>\n",
       "<g id=\"a_node1_0\"><a xlink:href=\"#\" xlink:title=\"CountingGreyboxFuzzer\">\n",
       "<g id=\"a_node1_1\"><a xlink:href=\"#\" xlink:title=\"run(self, runner: MutationFuzzer.FunctionCoverageRunner) &#45;&gt; Tuple[Any, str]:&#10;Inform scheduler about path frequency\">\n",
       "<text text-anchor=\"start\" x=\"67.5\" y=\"-25\" font-family=\"'Fira Mono', 'Source Code Pro', 'Courier', monospace\" font-weight=\"bold\" font-style=\"italic\" font-size=\"10.00\">run()</text>\n",
       "</a>\n",
       "</g>\n",
       "<g id=\"a_node1_2\"><a xlink:href=\"#\" xlink:title=\"reset(self):&#10;Reset path frequency\">\n",
       "<text text-anchor=\"start\" x=\"67.5\" y=\"-14\" font-family=\"'Fira Mono', 'Source Code Pro', 'Courier', monospace\" font-style=\"italic\" font-size=\"10.00\">reset()</text>\n",
       "</a>\n",
       "</g>\n",
       "</a>\n",
       "</g>\n",
       "</a>\n",
       "</g>\n",
       "</g>\n",
       "<!-- GreyboxFuzzer -->\n",
       "<g id=\"node2\" class=\"node\">\n",
       "<title>GreyboxFuzzer</title>\n",
       "<g id=\"a_node2\"><a xlink:href=\"#\" xlink:title=\"class GreyboxFuzzer:&#10;Coverage&#45;guided mutational fuzzing.\">\n",
       "<polygon fill=\"none\" stroke=\"black\" points=\"33.5,-118 33.5,-171 143.5,-171 143.5,-118 33.5,-118\"/>\n",
       "<text text-anchor=\"start\" x=\"41.5\" y=\"-156.8\" font-family=\"Patua One, Helvetica, sans-serif\" font-weight=\"bold\" font-size=\"14.00\" fill=\"#b03a2e\">GreyboxFuzzer</text>\n",
       "<polyline fill=\"none\" stroke=\"black\" points=\"33.5,-148 143.5,-148\"/>\n",
       "<g id=\"a_node2_3\"><a xlink:href=\"#\" xlink:title=\"GreyboxFuzzer\">\n",
       "<g id=\"a_node2_4\"><a xlink:href=\"#\" xlink:title=\"run(self, runner: MutationFuzzer.FunctionCoverageRunner) &#45;&gt; Tuple[Any, str]:&#10;Run function(inp) while tracking coverage.&#10;If we reach new coverage,&#10;add inp to population and its coverage to population_coverage\">\n",
       "<text text-anchor=\"start\" x=\"67.5\" y=\"-137\" font-family=\"'Fira Mono', 'Source Code Pro', 'Courier', monospace\" font-weight=\"bold\" font-style=\"italic\" font-size=\"10.00\">run()</text>\n",
       "</a>\n",
       "</g>\n",
       "<g id=\"a_node2_5\"><a xlink:href=\"#\" xlink:title=\"reset(self):&#10;Reset the initial population, seed index, coverage information\">\n",
       "<text text-anchor=\"start\" x=\"67.5\" y=\"-126\" font-family=\"'Fira Mono', 'Source Code Pro', 'Courier', monospace\" font-style=\"italic\" font-size=\"10.00\">reset()</text>\n",
       "</a>\n",
       "</g>\n",
       "</a>\n",
       "</g>\n",
       "</a>\n",
       "</g>\n",
       "</g>\n",
       "<!-- CountingGreyboxFuzzer&#45;&gt;GreyboxFuzzer -->\n",
       "<g id=\"edge1\" class=\"edge\">\n",
       "<title>CountingGreyboxFuzzer&#45;&gt;GreyboxFuzzer</title>\n",
       "<path fill=\"none\" stroke=\"black\" d=\"M88.5,-58.74C88.5,-72.89 88.5,-90.8 88.5,-106.51\"/>\n",
       "<polygon fill=\"none\" stroke=\"black\" points=\"85,-106.49 88.5,-116.49 92,-106.49 85,-106.49\"/>\n",
       "</g>\n",
       "<!-- AdvancedMutationFuzzer -->\n",
       "<g id=\"node3\" class=\"node\">\n",
       "<title>AdvancedMutationFuzzer</title>\n",
       "<g id=\"a_node3\"><a xlink:href=\"#\" xlink:title=\"class AdvancedMutationFuzzer:&#10;Base class for mutation&#45;based fuzzing.\">\n",
       "<polygon fill=\"none\" stroke=\"black\" points=\"0,-224.5 0,-299.5 177,-299.5 177,-224.5 0,-224.5\"/>\n",
       "<text text-anchor=\"start\" x=\"8\" y=\"-285.3\" font-family=\"Patua One, Helvetica, sans-serif\" font-weight=\"bold\" font-size=\"14.00\" fill=\"#b03a2e\">AdvancedMutationFuzzer</text>\n",
       "<polyline fill=\"none\" stroke=\"black\" points=\"0,-276.5 177,-276.5\"/>\n",
       "<g id=\"a_node3_6\"><a xlink:href=\"#\" xlink:title=\"AdvancedMutationFuzzer\">\n",
       "<g id=\"a_node3_7\"><a xlink:href=\"#\" xlink:title=\"__init__(self, seeds: List[str], mutator: Mutator, schedule: PowerSchedule) &#45;&gt; None:&#10;Constructor.&#10;`seeds` &#45; a list of (input) strings to mutate.&#10;`mutator` &#45; the mutator to apply.&#10;`schedule` &#45; the power schedule to apply.\">\n",
       "<text text-anchor=\"start\" x=\"34.5\" y=\"-265.5\" font-family=\"'Fira Mono', 'Source Code Pro', 'Courier', monospace\" font-weight=\"bold\" font-style=\"italic\" font-size=\"10.00\">__init__()</text>\n",
       "</a>\n",
       "</g>\n",
       "<g id=\"a_node3_8\"><a xlink:href=\"#\" xlink:title=\"fuzz(self) &#45;&gt; str:&#10;Returns first each seed once and then generates new inputs\">\n",
       "<text text-anchor=\"start\" x=\"34.5\" y=\"-254.5\" font-family=\"'Fira Mono', 'Source Code Pro', 'Courier', monospace\" font-weight=\"bold\" font-style=\"italic\" font-size=\"10.00\">fuzz()</text>\n",
       "</a>\n",
       "</g>\n",
       "<g id=\"a_node3_9\"><a xlink:href=\"#\" xlink:title=\"create_candidate(self) &#45;&gt; str:&#10;Returns an input generated by fuzzing a seed in the population\">\n",
       "<text text-anchor=\"start\" x=\"34.5\" y=\"-242.5\" font-family=\"'Fira Mono', 'Source Code Pro', 'Courier', monospace\" font-size=\"10.00\">create_candidate()</text>\n",
       "</a>\n",
       "</g>\n",
       "<g id=\"a_node3_10\"><a xlink:href=\"#\" xlink:title=\"reset(self) &#45;&gt; None:&#10;Reset the initial population and seed index\">\n",
       "<text text-anchor=\"start\" x=\"34.5\" y=\"-232.5\" font-family=\"'Fira Mono', 'Source Code Pro', 'Courier', monospace\" font-style=\"italic\" font-size=\"10.00\">reset()</text>\n",
       "</a>\n",
       "</g>\n",
       "</a>\n",
       "</g>\n",
       "</a>\n",
       "</g>\n",
       "</g>\n",
       "<!-- GreyboxFuzzer&#45;&gt;AdvancedMutationFuzzer -->\n",
       "<g id=\"edge2\" class=\"edge\">\n",
       "<title>GreyboxFuzzer&#45;&gt;AdvancedMutationFuzzer</title>\n",
       "<path fill=\"none\" stroke=\"black\" d=\"M88.5,-170.85C88.5,-183.32 88.5,-198.77 88.5,-213.34\"/>\n",
       "<polygon fill=\"none\" stroke=\"black\" points=\"85,-213.24 88.5,-223.24 92,-213.24 85,-213.24\"/>\n",
       "</g>\n",
       "<!-- Fuzzer -->\n",
       "<g id=\"node4\" class=\"node\">\n",
       "<title>Fuzzer</title>\n",
       "<g id=\"a_node4\"><a xlink:href=\"Fuzzer.ipynb\" xlink:title=\"class Fuzzer:&#10;Base class for fuzzers.\">\n",
       "<polygon fill=\"none\" stroke=\"black\" points=\"50,-336.5 50,-411.5 127,-411.5 127,-336.5 50,-336.5\"/>\n",
       "<text text-anchor=\"start\" x=\"67.5\" y=\"-397.3\" font-family=\"Patua One, Helvetica, sans-serif\" font-weight=\"bold\" font-size=\"14.00\" fill=\"#b03a2e\">Fuzzer</text>\n",
       "<polyline fill=\"none\" stroke=\"black\" points=\"50,-388.5 127,-388.5\"/>\n",
       "<g id=\"a_node4_11\"><a xlink:href=\"#\" xlink:title=\"Fuzzer\">\n",
       "<g id=\"a_node4_12\"><a xlink:href=\"Fuzzer.ipynb\" xlink:title=\"__init__(self) &#45;&gt; None:&#10;Constructor\">\n",
       "<text text-anchor=\"start\" x=\"58.5\" y=\"-377.5\" font-family=\"'Fira Mono', 'Source Code Pro', 'Courier', monospace\" font-weight=\"bold\" font-style=\"italic\" font-size=\"10.00\">__init__()</text>\n",
       "</a>\n",
       "</g>\n",
       "<g id=\"a_node4_13\"><a xlink:href=\"Fuzzer.ipynb\" xlink:title=\"fuzz(self) &#45;&gt; str:&#10;Return fuzz input\">\n",
       "<text text-anchor=\"start\" x=\"58.5\" y=\"-366.5\" font-family=\"'Fira Mono', 'Source Code Pro', 'Courier', monospace\" font-weight=\"bold\" font-style=\"italic\" font-size=\"10.00\">fuzz()</text>\n",
       "</a>\n",
       "</g>\n",
       "<g id=\"a_node4_14\"><a xlink:href=\"Fuzzer.ipynb\" xlink:title=\"run(self, runner: Fuzzer.Runner = &lt;Fuzzer.Runner object at 0x103d42200&gt;) &#45;&gt; Tuple[subprocess.CompletedProcess, str]:&#10;Run `runner` with fuzz input\">\n",
       "<text text-anchor=\"start\" x=\"58.5\" y=\"-355.5\" font-family=\"'Fira Mono', 'Source Code Pro', 'Courier', monospace\" font-weight=\"bold\" font-style=\"italic\" font-size=\"10.00\">run()</text>\n",
       "</a>\n",
       "</g>\n",
       "<g id=\"a_node4_15\"><a xlink:href=\"Fuzzer.ipynb\" xlink:title=\"runs(self, runner: Fuzzer.Runner = &lt;Fuzzer.PrintRunner object at 0x103d42260&gt;, trials: int = 10) &#45;&gt; List[Tuple[subprocess.CompletedProcess, str]]:&#10;Run `runner` with fuzz input, `trials` times\">\n",
       "<text text-anchor=\"start\" x=\"58.5\" y=\"-344.5\" font-family=\"'Fira Mono', 'Source Code Pro', 'Courier', monospace\" font-weight=\"bold\" font-size=\"10.00\">runs()</text>\n",
       "</a>\n",
       "</g>\n",
       "</a>\n",
       "</g>\n",
       "</a>\n",
       "</g>\n",
       "</g>\n",
       "<!-- AdvancedMutationFuzzer&#45;&gt;Fuzzer -->\n",
       "<g id=\"edge3\" class=\"edge\">\n",
       "<title>AdvancedMutationFuzzer&#45;&gt;Fuzzer</title>\n",
       "<path fill=\"none\" stroke=\"black\" d=\"M88.5,-299.32C88.5,-307.68 88.5,-316.68 88.5,-325.43\"/>\n",
       "<polygon fill=\"none\" stroke=\"black\" points=\"85,-325.2 88.5,-335.2 92,-325.2 85,-325.2\"/>\n",
       "</g>\n",
       "<!-- AFLFastSchedule -->\n",
       "<g id=\"node5\" class=\"node\">\n",
       "<title>AFLFastSchedule</title>\n",
       "<g id=\"a_node5\"><a xlink:href=\"#\" xlink:title=\"class AFLFastSchedule:&#10;Exponential power schedule as implemented in AFL\">\n",
       "<polygon fill=\"none\" stroke=\"black\" points=\"179.5,-118 179.5,-171 299.5,-171 299.5,-118 179.5,-118\"/>\n",
       "<text text-anchor=\"start\" x=\"187.5\" y=\"-156.8\" font-family=\"Patua One, Helvetica, sans-serif\" font-weight=\"bold\" font-size=\"14.00\" fill=\"#b03a2e\">AFLFastSchedule</text>\n",
       "<polyline fill=\"none\" stroke=\"black\" points=\"179.5,-148 299.5,-148\"/>\n",
       "<g id=\"a_node5_16\"><a xlink:href=\"#\" xlink:title=\"AFLFastSchedule\">\n",
       "<g id=\"a_node5_17\"><a xlink:href=\"#\" xlink:title=\"__init__(self, exponent: float) &#45;&gt; None:&#10;Constructor\">\n",
       "<text text-anchor=\"start\" x=\"197.5\" y=\"-137\" font-family=\"'Fira Mono', 'Source Code Pro', 'Courier', monospace\" font-weight=\"bold\" font-style=\"italic\" font-size=\"10.00\">__init__()</text>\n",
       "</a>\n",
       "</g>\n",
       "<g id=\"a_node5_18\"><a xlink:href=\"#\" xlink:title=\"assignEnergy(self, population: collections.abc.Sequence[Seed]) &#45;&gt; None:&#10;Assign exponential energy inversely proportional to path frequency\">\n",
       "<text text-anchor=\"start\" x=\"197.5\" y=\"-126\" font-family=\"'Fira Mono', 'Source Code Pro', 'Courier', monospace\" font-style=\"italic\" font-size=\"10.00\">assignEnergy()</text>\n",
       "</a>\n",
       "</g>\n",
       "</a>\n",
       "</g>\n",
       "</a>\n",
       "</g>\n",
       "</g>\n",
       "<!-- PowerSchedule -->\n",
       "<g id=\"node6\" class=\"node\">\n",
       "<title>PowerSchedule</title>\n",
       "<g id=\"a_node6\"><a xlink:href=\"#\" xlink:title=\"class PowerSchedule:&#10;Define how fuzzing time should be distributed across the population.\">\n",
       "<polygon fill=\"none\" stroke=\"black\" points=\"256,-224.5 256,-299.5 381,-299.5 381,-224.5 256,-224.5\"/>\n",
       "<text text-anchor=\"start\" x=\"271.5\" y=\"-285.3\" font-family=\"Patua One, Helvetica, sans-serif\" font-weight=\"bold\" font-size=\"14.00\" fill=\"#b03a2e\">PowerSchedule</text>\n",
       "<polyline fill=\"none\" stroke=\"black\" points=\"256,-276.5 381,-276.5\"/>\n",
       "<g id=\"a_node6_19\"><a xlink:href=\"#\" xlink:title=\"PowerSchedule\">\n",
       "<g id=\"a_node6_20\"><a xlink:href=\"#\" xlink:title=\"__init__(self) &#45;&gt; None:&#10;Constructor\">\n",
       "<text text-anchor=\"start\" x=\"264.5\" y=\"-265.5\" font-family=\"'Fira Mono', 'Source Code Pro', 'Courier', monospace\" font-weight=\"bold\" font-style=\"italic\" font-size=\"10.00\">__init__()</text>\n",
       "</a>\n",
       "</g>\n",
       "<g id=\"a_node6_21\"><a xlink:href=\"#\" xlink:title=\"assignEnergy(self, population: collections.abc.Sequence[Seed]) &#45;&gt; None:&#10;Assigns each seed the same energy\">\n",
       "<text text-anchor=\"start\" x=\"264.5\" y=\"-254.5\" font-family=\"'Fira Mono', 'Source Code Pro', 'Courier', monospace\" font-style=\"italic\" font-size=\"10.00\">assignEnergy()</text>\n",
       "</a>\n",
       "</g>\n",
       "<g id=\"a_node6_22\"><a xlink:href=\"#\" xlink:title=\"choose(self, population: collections.abc.Sequence[Seed]) &#45;&gt; Seed:&#10;Choose weighted by normalized energy.\">\n",
       "<text text-anchor=\"start\" x=\"264.5\" y=\"-242.5\" font-family=\"'Fira Mono', 'Source Code Pro', 'Courier', monospace\" font-size=\"10.00\">choose()</text>\n",
       "</a>\n",
       "</g>\n",
       "<g id=\"a_node6_23\"><a xlink:href=\"#\" xlink:title=\"normalizedEnergy(self, population: collections.abc.Sequence[Seed]) &#45;&gt; List[float]:&#10;Normalize energy\">\n",
       "<text text-anchor=\"start\" x=\"264.5\" y=\"-231.5\" font-family=\"'Fira Mono', 'Source Code Pro', 'Courier', monospace\" font-size=\"10.00\">normalizedEnergy()</text>\n",
       "</a>\n",
       "</g>\n",
       "</a>\n",
       "</g>\n",
       "</a>\n",
       "</g>\n",
       "</g>\n",
       "<!-- AFLFastSchedule&#45;&gt;PowerSchedule -->\n",
       "<g id=\"edge4\" class=\"edge\">\n",
       "<title>AFLFastSchedule&#45;&gt;PowerSchedule</title>\n",
       "<path fill=\"none\" stroke=\"black\" d=\"M256.84,-170.85C265.79,-183.93 276.99,-200.31 287.37,-215.49\"/>\n",
       "<polygon fill=\"none\" stroke=\"black\" points=\"284.32,-217.23 292.86,-223.51 290.1,-213.28 284.32,-217.23\"/>\n",
       "</g>\n",
       "<!-- AFLGoSchedule -->\n",
       "<g id=\"node7\" class=\"node\">\n",
       "<title>AFLGoSchedule</title>\n",
       "<g id=\"a_node7\"><a xlink:href=\"#\" xlink:title=\"class AFLGoSchedule:&#10;Assign high energy to seeds close to the target\">\n",
       "<polygon fill=\"none\" stroke=\"black\" points=\"325,-11.5 325,-53.5 436,-53.5 436,-11.5 325,-11.5\"/>\n",
       "<text text-anchor=\"start\" x=\"333\" y=\"-39.3\" font-family=\"Patua One, Helvetica, sans-serif\" font-weight=\"bold\" font-size=\"14.00\" fill=\"#b03a2e\">AFLGoSchedule</text>\n",
       "<polyline fill=\"none\" stroke=\"black\" points=\"325,-30.5 436,-30.5\"/>\n",
       "<g id=\"a_node7_24\"><a xlink:href=\"#\" xlink:title=\"AFLGoSchedule\">\n",
       "<g id=\"a_node7_25\"><a xlink:href=\"#\" xlink:title=\"assignEnergy(self, population: collections.abc.Sequence[Seed]):&#10;Assigns each seed energy inversely proportional&#10;to the average function&#45;level distance to target.\">\n",
       "<text text-anchor=\"start\" x=\"338.5\" y=\"-19\" font-family=\"'Fira Mono', 'Source Code Pro', 'Courier', monospace\" font-style=\"italic\" font-size=\"10.00\">assignEnergy()</text>\n",
       "</a>\n",
       "</g>\n",
       "</a>\n",
       "</g>\n",
       "</a>\n",
       "</g>\n",
       "</g>\n",
       "<!-- DirectedSchedule -->\n",
       "<g id=\"node8\" class=\"node\">\n",
       "<title>DirectedSchedule</title>\n",
       "<g id=\"a_node8\"><a xlink:href=\"#\" xlink:title=\"class DirectedSchedule:&#10;Assign high energy to seeds close to some target\">\n",
       "<polygon fill=\"none\" stroke=\"black\" points=\"318,-112.5 318,-176.5 443,-176.5 443,-112.5 318,-112.5\"/>\n",
       "<text text-anchor=\"start\" x=\"327.5\" y=\"-162.3\" font-family=\"Patua One, Helvetica, sans-serif\" font-weight=\"bold\" font-size=\"14.00\" fill=\"#b03a2e\">DirectedSchedule</text>\n",
       "<polyline fill=\"none\" stroke=\"black\" points=\"318,-153.5 443,-153.5\"/>\n",
       "<g id=\"a_node8_26\"><a xlink:href=\"#\" xlink:title=\"DirectedSchedule\">\n",
       "<g id=\"a_node8_27\"><a xlink:href=\"#\" xlink:title=\"__init__(self, distance: Dict[str, int], exponent: float) &#45;&gt; None:&#10;Constructor\">\n",
       "<text text-anchor=\"start\" x=\"326.5\" y=\"-142\" font-family=\"'Fira Mono', 'Source Code Pro', 'Courier', monospace\" font-weight=\"bold\" font-style=\"italic\" font-size=\"10.00\">__init__()</text>\n",
       "</a>\n",
       "</g>\n",
       "<g id=\"a_node8_28\"><a xlink:href=\"#\" xlink:title=\"__getFunctions__(self, coverage: Set[Location]) &#45;&gt; Set[str]\">\n",
       "<text text-anchor=\"start\" x=\"326.5\" y=\"-130\" font-family=\"'Fira Mono', 'Source Code Pro', 'Courier', monospace\" font-size=\"10.00\">__getFunctions__()</text>\n",
       "</a>\n",
       "</g>\n",
       "<g id=\"a_node8_29\"><a xlink:href=\"#\" xlink:title=\"assignEnergy(self, population: collections.abc.Sequence[Seed]) &#45;&gt; None:&#10;Assigns each seed energy inversely proportional&#10;to the average function&#45;level distance to target.\">\n",
       "<text text-anchor=\"start\" x=\"326.5\" y=\"-120\" font-family=\"'Fira Mono', 'Source Code Pro', 'Courier', monospace\" font-style=\"italic\" font-size=\"10.00\">assignEnergy()</text>\n",
       "</a>\n",
       "</g>\n",
       "</a>\n",
       "</g>\n",
       "</a>\n",
       "</g>\n",
       "</g>\n",
       "<!-- AFLGoSchedule&#45;&gt;DirectedSchedule -->\n",
       "<g id=\"edge5\" class=\"edge\">\n",
       "<title>AFLGoSchedule&#45;&gt;DirectedSchedule</title>\n",
       "<path fill=\"none\" stroke=\"black\" d=\"M380.5,-53.42C380.5,-66.8 380.5,-84.94 380.5,-101.43\"/>\n",
       "<polygon fill=\"none\" stroke=\"black\" points=\"377,-100.99 380.5,-110.99 384,-100.99 377,-100.99\"/>\n",
       "</g>\n",
       "<!-- DirectedSchedule&#45;&gt;PowerSchedule -->\n",
       "<g id=\"edge6\" class=\"edge\">\n",
       "<title>DirectedSchedule&#45;&gt;PowerSchedule</title>\n",
       "<path fill=\"none\" stroke=\"black\" d=\"M363.89,-176.45C357.6,-188.16 350.31,-201.75 343.42,-214.57\"/>\n",
       "<polygon fill=\"none\" stroke=\"black\" points=\"340.38,-212.83 338.74,-223.3 346.55,-216.14 340.38,-212.83\"/>\n",
       "</g>\n",
       "<!-- DictMutator -->\n",
       "<g id=\"node9\" class=\"node\">\n",
       "<title>DictMutator</title>\n",
       "<g id=\"a_node9\"><a xlink:href=\"#\" xlink:title=\"class DictMutator:&#10;Variant of `Mutator` inserting keywords from a dictionary\">\n",
       "<polygon fill=\"none\" stroke=\"black\" points=\"464,-6 464,-59 625,-59 625,-6 464,-6\"/>\n",
       "<text text-anchor=\"start\" x=\"506.5\" y=\"-44.8\" font-family=\"Patua One, Helvetica, sans-serif\" font-weight=\"bold\" font-size=\"14.00\" fill=\"#b03a2e\">DictMutator</text>\n",
       "<polyline fill=\"none\" stroke=\"black\" points=\"464,-36 625,-36\"/>\n",
       "<g id=\"a_node9_30\"><a xlink:href=\"#\" xlink:title=\"DictMutator\">\n",
       "<g id=\"a_node9_31\"><a xlink:href=\"#\" xlink:title=\"__init__(self, dictionary: collections.abc.Sequence[str]) &#45;&gt; None:&#10;Constructor.&#10;`dictionary` &#45; a list of strings that can be used as keywords\">\n",
       "<text text-anchor=\"start\" x=\"472.5\" y=\"-25\" font-family=\"'Fira Mono', 'Source Code Pro', 'Courier', monospace\" font-weight=\"bold\" font-style=\"italic\" font-size=\"10.00\">__init__()</text>\n",
       "</a>\n",
       "</g>\n",
       "<g id=\"a_node9_32\"><a xlink:href=\"#\" xlink:title=\"insert_from_dictionary(self, s: str) &#45;&gt; str:&#10;Returns `s` with a keyword from the dictionary inserted\">\n",
       "<text text-anchor=\"start\" x=\"472.5\" y=\"-13\" font-family=\"'Fira Mono', 'Source Code Pro', 'Courier', monospace\" font-size=\"10.00\">insert_from_dictionary()</text>\n",
       "</a>\n",
       "</g>\n",
       "</a>\n",
       "</g>\n",
       "</a>\n",
       "</g>\n",
       "</g>\n",
       "<!-- Mutator -->\n",
       "<g id=\"node10\" class=\"node\">\n",
       "<title>Mutator</title>\n",
       "<g id=\"a_node10\"><a xlink:href=\"#\" xlink:title=\"class Mutator:&#10;Mutate strings\">\n",
       "<polygon fill=\"none\" stroke=\"black\" points=\"461,-101.5 461,-187.5 628,-187.5 628,-101.5 461,-101.5\"/>\n",
       "<text text-anchor=\"start\" x=\"518.5\" y=\"-173.3\" font-family=\"Patua One, Helvetica, sans-serif\" font-weight=\"bold\" font-size=\"14.00\" fill=\"#b03a2e\">Mutator</text>\n",
       "<polyline fill=\"none\" stroke=\"black\" points=\"461,-164.5 628,-164.5\"/>\n",
       "<g id=\"a_node10_33\"><a xlink:href=\"#\" xlink:title=\"Mutator\">\n",
       "<g id=\"a_node10_34\"><a xlink:href=\"#\" xlink:title=\"__init__(self) &#45;&gt; None:&#10;Constructor\">\n",
       "<text text-anchor=\"start\" x=\"469.5\" y=\"-153\" font-family=\"'Fira Mono', 'Source Code Pro', 'Courier', monospace\" font-weight=\"bold\" font-style=\"italic\" font-size=\"10.00\">__init__()</text>\n",
       "</a>\n",
       "</g>\n",
       "<g id=\"a_node10_35\"><a xlink:href=\"#\" xlink:title=\"delete_random_character(self, s: str) &#45;&gt; str:&#10;Returns s with a random character deleted\">\n",
       "<text text-anchor=\"start\" x=\"469.5\" y=\"-141\" font-family=\"'Fira Mono', 'Source Code Pro', 'Courier', monospace\" font-size=\"10.00\">delete_random_character()</text>\n",
       "</a>\n",
       "</g>\n",
       "<g id=\"a_node10_36\"><a xlink:href=\"#\" xlink:title=\"flip_random_character(self, s: str) &#45;&gt; str:&#10;Returns s with a random bit flipped in a random position\">\n",
       "<text text-anchor=\"start\" x=\"469.5\" y=\"-130\" font-family=\"'Fira Mono', 'Source Code Pro', 'Courier', monospace\" font-size=\"10.00\">flip_random_character()</text>\n",
       "</a>\n",
       "</g>\n",
       "<g id=\"a_node10_37\"><a xlink:href=\"#\" xlink:title=\"insert_random_character(self, s: str) &#45;&gt; str:&#10;Returns s with a random character inserted\">\n",
       "<text text-anchor=\"start\" x=\"469.5\" y=\"-119\" font-family=\"'Fira Mono', 'Source Code Pro', 'Courier', monospace\" font-size=\"10.00\">insert_random_character()</text>\n",
       "</a>\n",
       "</g>\n",
       "<g id=\"a_node10_38\"><a xlink:href=\"#\" xlink:title=\"mutate(self, inp: Any) &#45;&gt; Any:&#10;Return s with a random mutation applied. Can be overloaded in subclasses.\">\n",
       "<text text-anchor=\"start\" x=\"469.5\" y=\"-109\" font-family=\"'Fira Mono', 'Source Code Pro', 'Courier', monospace\" font-style=\"italic\" font-size=\"10.00\">mutate()</text>\n",
       "</a>\n",
       "</g>\n",
       "</a>\n",
       "</g>\n",
       "</a>\n",
       "</g>\n",
       "</g>\n",
       "<!-- DictMutator&#45;&gt;Mutator -->\n",
       "<g id=\"edge7\" class=\"edge\">\n",
       "<title>DictMutator&#45;&gt;Mutator</title>\n",
       "<path fill=\"none\" stroke=\"black\" d=\"M544.5,-58.74C544.5,-68.15 544.5,-79.23 544.5,-90.22\"/>\n",
       "<polygon fill=\"none\" stroke=\"black\" points=\"541,-90.05 544.5,-100.05 548,-90.05 541,-90.05\"/>\n",
       "</g>\n",
       "<!-- Seed -->\n",
       "<g id=\"node11\" class=\"node\">\n",
       "<title>Seed</title>\n",
       "<g id=\"a_node11\"><a xlink:href=\"#\" xlink:title=\"class Seed:&#10;Represent an input with additional attributes\">\n",
       "<polygon fill=\"none\" stroke=\"black\" points=\"643,-0.5 643,-64.5 720,-64.5 720,-0.5 643,-0.5\"/>\n",
       "<text text-anchor=\"start\" x=\"667\" y=\"-50.3\" font-family=\"Patua One, Helvetica, sans-serif\" font-weight=\"bold\" font-size=\"14.00\" fill=\"#b03a2e\">Seed</text>\n",
       "<polyline fill=\"none\" stroke=\"black\" points=\"643,-41.5 720,-41.5\"/>\n",
       "<g id=\"a_node11_39\"><a xlink:href=\"#\" xlink:title=\"Seed\">\n",
       "<g id=\"a_node11_40\"><a xlink:href=\"#\" xlink:title=\"__init__(self, data: str) &#45;&gt; None:&#10;Initialize from seed data\">\n",
       "<text text-anchor=\"start\" x=\"651.5\" y=\"-30\" font-family=\"'Fira Mono', 'Source Code Pro', 'Courier', monospace\" font-weight=\"bold\" font-size=\"10.00\">__init__()</text>\n",
       "</a>\n",
       "</g>\n",
       "<g id=\"a_node11_41\"><a xlink:href=\"#\" xlink:title=\"__repr__(self) &#45;&gt; str:&#10;Returns data as string representation of the seed\">\n",
       "<text text-anchor=\"start\" x=\"651.5\" y=\"-18\" font-family=\"'Fira Mono', 'Source Code Pro', 'Courier', monospace\" font-size=\"10.00\">__repr__()</text>\n",
       "</a>\n",
       "</g>\n",
       "<g id=\"a_node11_42\"><a xlink:href=\"#\" xlink:title=\"__str__(self) &#45;&gt; str:&#10;Returns data as string representation of the seed\">\n",
       "<text text-anchor=\"start\" x=\"651.5\" y=\"-7\" font-family=\"'Fira Mono', 'Source Code Pro', 'Courier', monospace\" font-size=\"10.00\">__str__()</text>\n",
       "</a>\n",
       "</g>\n",
       "</a>\n",
       "</g>\n",
       "</a>\n",
       "</g>\n",
       "</g>\n",
       "<!-- Legend -->\n",
       "<g id=\"node12\" class=\"node\">\n",
       "<title>Legend</title>\n",
       "<text text-anchor=\"start\" x=\"738.5\" y=\"-50\" font-family=\"Patua One, Helvetica, sans-serif\" font-weight=\"bold\" font-size=\"10.00\" fill=\"#b03a2e\">Legend</text>\n",
       "<text text-anchor=\"start\" x=\"738.5\" y=\"-40\" font-family=\"Patua One, Helvetica, sans-serif\" font-size=\"10.00\">• </text>\n",
       "<text text-anchor=\"start\" x=\"745.5\" y=\"-40\" font-family=\"'Fira Mono', 'Source Code Pro', 'Courier', monospace\" font-weight=\"bold\" font-size=\"8.00\">public_method()</text>\n",
       "<text text-anchor=\"start\" x=\"738.5\" y=\"-30\" font-family=\"Patua One, Helvetica, sans-serif\" font-size=\"10.00\">• </text>\n",
       "<text text-anchor=\"start\" x=\"745.5\" y=\"-30\" font-family=\"'Fira Mono', 'Source Code Pro', 'Courier', monospace\" font-size=\"8.00\">private_method()</text>\n",
       "<text text-anchor=\"start\" x=\"738.5\" y=\"-20\" font-family=\"Patua One, Helvetica, sans-serif\" font-size=\"10.00\">• </text>\n",
       "<text text-anchor=\"start\" x=\"745.5\" y=\"-20\" font-family=\"'Fira Mono', 'Source Code Pro', 'Courier', monospace\" font-style=\"italic\" font-size=\"8.00\">overloaded_method()</text>\n",
       "<text text-anchor=\"start\" x=\"738.5\" y=\"-10.8\" font-family=\"Helvetica,sans-Serif\" font-size=\"9.00\">Hover over names to see doc</text>\n",
       "</g>\n",
       "</g>\n",
       "</svg>\n"
      ],
      "text/plain": [
       "<graphviz.graphs.Digraph at 0x154ec1c60>"
      ]
     },
     "execution_count": 93,
     "metadata": {},
     "output_type": "execute_result"
    }
   ],
   "source": [
    "# ignore\n",
    "display_class_hierarchy([CountingGreyboxFuzzer, AFLFastSchedule, AFLGoSchedule,\n",
    "                         DictMutator, Seed],\n",
    "                        public_methods=[\n",
    "                            Fuzzer.run,\n",
    "                            Fuzzer.__init__,\n",
    "                            Fuzzer.runs,\n",
    "                            Fuzzer.fuzz,\n",
    "                            AdvancedMutationFuzzer.__init__,\n",
    "                            AdvancedMutationFuzzer.fuzz,\n",
    "                            GreyboxFuzzer.run,\n",
    "                            CountingGreyboxFuzzer.run,\n",
    "                            PowerSchedule.__init__,\n",
    "                            DirectedSchedule.__init__,\n",
    "                            AFLGoSchedule.__init__,\n",
    "                            AFLFastSchedule.__init__,\n",
    "                            Seed.__init__,\n",
    "                            Mutator.__init__,\n",
    "                            DictMutator.__init__,\n",
    "                        ],\n",
    "                        types={'Location': Location},\n",
    "                        project='fuzzingbook')"
   ]
  },
  {
   "cell_type": "markdown",
   "metadata": {
    "button": false,
    "jp-MarkdownHeadingCollapsed": true,
    "new_sheet": true,
    "run_control": {
     "read_only": false
    },
    "slideshow": {
     "slide_type": "slide"
    },
    "tags": []
   },
   "source": [
    "## Lessons Learned\n",
    "\n",
    "* A *greybox fuzzer* generates thousands of inputs per second. Pre-processing and lightweight instrumentation \n",
    "  * allows to maintain the efficiency *during* the fuzzing campaign, and \n",
    "  * still provides enough information to control progress and slightly steer the fuzzer.\n",
    "* The *power schedule* allows to steer/control the fuzzer. For instance,\n",
    "  * Our [boosted greybox fuzzer](#Fuzzer-Boosting) spends more energy on seeds that exercise \"unlikely\" paths. The hope is that the generated inputs exercise even more unlikely paths. This in turn increases the number of paths explored per unit time.\n",
    "  * Our [directed greybox fuzzer](#Directed-Greybox-Fuzzing) spends more energy on seeds that are \"closer\" to a target location. The hope is that the generated inputs get even closer to the target.\n",
    "* The *mutator* defines the fuzzer's search space. [Customizing the mutator](GreyboxFuzzer.ipynb#A-First-Attempt) for the given program allows to reduce the search space to only relevant inputs. In a couple of chapters, we'll learn about [dictionary-based, and grammar-based mutators](GreyboxGrammarFuzzer.ipynb) to increase the ratio of valid inputs generated.\n"
   ]
  },
  {
   "cell_type": "markdown",
   "metadata": {
    "jp-MarkdownHeadingCollapsed": true,
    "slideshow": {
     "slide_type": "slide"
    },
    "tags": []
   },
   "source": [
    "## Background\n",
    "\n",
    "* **Find out more about AFL**: http://lcamtuf.coredump.cx/afl/\n",
    "* **Learn about LibFuzzer** (another famous greybox fuzzer): http://llvm.org/docs/LibFuzzer.html\n",
    "* **How quickly must a whitebox fuzzer exercise each path to remain more efficient than a greybox fuzzer?** Marcel Böhme and Soumya Paul. 2016. [A Probabilistic Analysis of the Efficiency of Automated Software Testing](https://mboehme.github.io/paper/TSE15.pdf), IEEE TSE, 42:345-360 \\cite{boehme2016efficiency}"
   ]
  },
  {
   "cell_type": "markdown",
   "metadata": {
    "button": false,
    "new_sheet": false,
    "run_control": {
     "read_only": false
    },
    "slideshow": {
     "slide_type": "slide"
    }
   },
   "source": [
    "## Next Steps\n",
    "\n",
    "Our aim is still to sufficiently cover functionality, such that we can trigger as many bugs as possible.  To this end, we focus on two classes of techniques:\n",
    "\n",
    "1. Try to cover as much _specified_ functionality as possible.  Here, we would need a _specification of the input format,_ distinguishing between individual input elements such as (in our case) numbers, operators, comments, and strings – and attempting to cover as many of these as possible.  We will explore this as it comes to [grammar-based testing](GrammarFuzzer.ipynb), and especially in [grammar-based mutations](GreyboxGrammarFuzzer.ipynb).\n",
    "\n",
    "2. Try to cover as much _implemented_ functionality as possible.  The concept of a \"population\" that is systematically \"evolved\" through \"mutations\" will be explored in depth when discussing [search-based testing](SearchBasedFuzzer.ipynb).  Furthermore, [symbolic testing](SymbolicFuzzer.ipynb) introduces how to systematically reach program locations by solving the conditions that lie on their paths.\n",
    "\n",
    "These two techniques make up the gist of the book; and, of course, they can also be combined with each other.  As usual, we provide runnable code for all.  Enjoy!"
   ]
  },
  {
   "cell_type": "markdown",
   "metadata": {
    "slideshow": {
     "slide_type": "subslide"
    }
   },
   "source": [
    "We're done, so we clean up:"
   ]
  },
  {
   "cell_type": "code",
   "execution_count": 94,
   "metadata": {
    "execution": {
     "iopub.execute_input": "2023-01-07T14:14:59.668909Z",
     "iopub.status.busy": "2023-01-07T14:14:59.668582Z",
     "iopub.status.idle": "2023-01-07T14:14:59.669798Z",
     "shell.execute_reply": "2023-01-07T14:14:59.670133Z"
    },
    "slideshow": {
     "slide_type": "skip"
    }
   },
   "outputs": [],
   "source": [
    "import os"
   ]
  },
  {
   "cell_type": "code",
   "execution_count": 95,
   "metadata": {
    "execution": {
     "iopub.execute_input": "2023-01-07T14:14:59.672388Z",
     "iopub.status.busy": "2023-01-07T14:14:59.671990Z",
     "iopub.status.idle": "2023-01-07T14:14:59.673655Z",
     "shell.execute_reply": "2023-01-07T14:14:59.673913Z"
    },
    "slideshow": {
     "slide_type": "fragment"
    }
   },
   "outputs": [],
   "source": [
    "if os.path.exists('callgraph.dot'):\n",
    "    os.remove('callgraph.dot')\n",
    "\n",
    "if os.path.exists('callgraph.py'):\n",
    "    os.remove('callgraph.py')"
   ]
  },
  {
   "cell_type": "markdown",
   "metadata": {
    "slideshow": {
     "slide_type": "slide"
    }
   },
   "source": [
    "## Compatibility"
   ]
  },
  {
   "cell_type": "markdown",
   "metadata": {
    "slideshow": {
     "slide_type": "fragment"
    }
   },
   "source": [
    "In previous version of the chapter, the `AdvancedMutationFuzzer` class was named simply `MutationFuzzer`, causing name confusion with the `MutationFuzzer` class in the [introduction to mutation-based fuzzing](MutationFuzzer.ipynb). The following declaration introduces a backward-compatible alias."
   ]
  },
  {
   "cell_type": "code",
   "execution_count": 96,
   "metadata": {
    "execution": {
     "iopub.execute_input": "2023-01-07T14:14:59.676122Z",
     "iopub.status.busy": "2023-01-07T14:14:59.675799Z",
     "iopub.status.idle": "2023-01-07T14:14:59.677194Z",
     "shell.execute_reply": "2023-01-07T14:14:59.677473Z"
    },
    "slideshow": {
     "slide_type": "fragment"
    }
   },
   "outputs": [],
   "source": [
    "class MutationFuzzer(AdvancedMutationFuzzer):\n",
    "    pass"
   ]
  },
  {
   "cell_type": "markdown",
   "metadata": {
    "button": false,
    "new_sheet": true,
    "run_control": {
     "read_only": false
    },
    "slideshow": {
     "slide_type": "slide"
    }
   },
   "source": [
    "## Exercises\n",
    "\n",
    "To be added. \\todo{}"
   ]
  }
 ],
 "metadata": {
  "ipub": {
   "bibliography": "fuzzingbook.bib",
   "toc": true
  },
  "kernelspec": {
   "display_name": "Python 3",
   "language": "python",
   "name": "python3"
  },
  "language_info": {
   "codemirror_mode": {
    "name": "ipython",
    "version": 3
   },
   "file_extension": ".py",
   "mimetype": "text/x-python",
   "name": "python",
   "nbconvert_exporter": "python",
   "pygments_lexer": "ipython3",
   "version": "3.10.2"
  },
  "toc": {
   "base_numbering": 1,
   "nav_menu": {},
   "number_sections": true,
   "sideBar": true,
   "skip_h1_title": true,
   "title_cell": "",
   "title_sidebar": "Contents",
   "toc_cell": false,
   "toc_position": {},
   "toc_section_display": true,
   "toc_window_display": true
  },
  "toc-autonumbering": false,
  "varInspector": {
   "cols": {
    "lenName": 16,
    "lenType": 16,
    "lenVar": 40
   },
   "kernels_config": {
    "python": {
     "delete_cmd_postfix": "",
     "delete_cmd_prefix": "del ",
     "library": "var_list.py",
     "varRefreshCmd": "print(var_dic_list())"
    },
    "r": {
     "delete_cmd_postfix": ") ",
     "delete_cmd_prefix": "rm(",
     "library": "var_list.r",
     "varRefreshCmd": "cat(var_dic_list()) "
    }
   },
   "types_to_exclude": [
    "module",
    "function",
    "builtin_function_or_method",
    "instance",
    "_Feature"
   ],
   "window_display": false
  },
  "vscode": {
   "interpreter": {
    "hash": "4185989cf89c47c310c2629adcadd634093b57a2c49dffb5ae8d0d14fa302f2b"
   }
  }
 },
 "nbformat": 4,
 "nbformat_minor": 4
}