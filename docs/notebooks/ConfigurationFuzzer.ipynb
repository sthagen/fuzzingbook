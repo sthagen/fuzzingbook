{
 "cells": [
  {
   "cell_type": "markdown",
   "metadata": {
    "button": false,
    "new_sheet": false,
    "run_control": {
     "read_only": false
    },
    "slideshow": {
     "slide_type": "slide"
    },
    "tags": [],
    "toc-hr-collapsed": false
   },
   "source": [
    "# Testing Configurations\n",
    "\n",
    "The behavior of a program is not only governed by its data.  The _configuration_ of a program – that is, the settings that govern the execution of a program on its (regular) input data, as set by options or configuration files – just as well influences behavior, and thus can and should be tested.  In this chapter, we explore how to systematically _test_ and _cover_ software configurations.  By _automatically inferring configuration options_, we can apply these techniques out of the box, with no need for writing a grammar.  Finally, we show how to systematically cover _combinations_ of configuration options, quickly detecting unwanted interferences."
   ]
  },
  {
   "cell_type": "code",
   "execution_count": 1,
   "metadata": {
    "execution": {
     "iopub.execute_input": "2022-02-21T08:28:04.936190Z",
     "iopub.status.busy": "2022-02-21T08:28:04.935542Z",
     "iopub.status.idle": "2022-02-21T08:28:05.093358Z",
     "shell.execute_reply": "2022-02-21T08:28:05.093993Z"
    },
    "slideshow": {
     "slide_type": "skip"
    }
   },
   "outputs": [
    {
     "data": {
      "text/html": [
       "\n",
       "        <iframe\n",
       "            width=\"640\"\n",
       "            height=\"360\"\n",
       "            src=\"https://www.youtube-nocookie.com/embed/XTGFX-tcotE\"\n",
       "            frameborder=\"0\"\n",
       "            allowfullscreen\n",
       "            \n",
       "        ></iframe>\n",
       "        "
      ],
      "text/plain": [
       "<IPython.lib.display.IFrame at 0x10e070f10>"
      ]
     },
     "execution_count": 1,
     "metadata": {},
     "output_type": "execute_result"
    }
   ],
   "source": [
    "from bookutils import YouTubeVideo\n",
    "YouTubeVideo('XTGFX-tcotE')"
   ]
  },
  {
   "cell_type": "markdown",
   "metadata": {
    "button": false,
    "new_sheet": false,
    "run_control": {
     "read_only": false
    },
    "slideshow": {
     "slide_type": "skip"
    }
   },
   "source": [
    "**Prerequisites**\n",
    "\n",
    "* You should have read the [chapter on grammars](Grammars.ipynb).\n",
    "* You should have read the [chapter on grammar coverage](GrammarCoverageFuzzer.ipynb)."
   ]
  },
  {
   "cell_type": "code",
   "execution_count": 2,
   "metadata": {
    "execution": {
     "iopub.execute_input": "2022-02-21T08:28:05.099665Z",
     "iopub.status.busy": "2022-02-21T08:28:05.098240Z",
     "iopub.status.idle": "2022-02-21T08:28:05.101229Z",
     "shell.execute_reply": "2022-02-21T08:28:05.100735Z"
    },
    "slideshow": {
     "slide_type": "skip"
    }
   },
   "outputs": [],
   "source": [
    "import bookutils"
   ]
  },
  {
   "cell_type": "code",
   "execution_count": 3,
   "metadata": {
    "execution": {
     "iopub.execute_input": "2022-02-21T08:28:05.105464Z",
     "iopub.status.busy": "2022-02-21T08:28:05.104653Z",
     "iopub.status.idle": "2022-02-21T08:28:05.106542Z",
     "shell.execute_reply": "2022-02-21T08:28:05.107189Z"
    },
    "slideshow": {
     "slide_type": "skip"
    }
   },
   "outputs": [],
   "source": [
    "from typing import List, Union, Optional, Callable, Type"
   ]
  },
  {
   "cell_type": "markdown",
   "metadata": {
    "jp-MarkdownHeadingCollapsed": true,
    "slideshow": {
     "slide_type": "skip"
    },
    "tags": []
   },
   "source": [
    "## Synopsis\n",
    "<!-- Automatically generated. Do not edit. -->\n",
    "\n",
    "To [use the code provided in this chapter](Importing.ipynb), write\n",
    "\n",
    "```python\n",
    ">>> from fuzzingbook.ConfigurationFuzzer import <identifier>\n",
    "```\n",
    "\n",
    "and then make use of the following features.\n",
    "\n",
    "\n",
    "This chapter provides two classes:\n",
    "\n",
    "* `OptionRunner` automatically extract command-line options from a Python program;\n",
    "* `OptionFuzzer` uses these to automatically test a Python program with a large variety of options.\n",
    "\n",
    "`OptionRunner` runs a program up to the point where it parses its arguments, and then extracts a grammar that describes its invocations:\n",
    "\n",
    "```python\n",
    ">>> autopep8_runner = OptionRunner(\"autopep8\", \"foo.py\")\n",
    "```\n",
    "The grammar can be extracted via the method `ebnf_grammar()`:\n",
    "\n",
    "```python\n",
    ">>> option_ebnf_grammar = autopep8_runner.ebnf_grammar()\n",
    ">>> option_ebnf_grammar\n",
    "{'<start>': ['(<option>)*<arguments>'],\n",
    " '<option>': [' -h',\n",
    "  ' --help',\n",
    "  ' --version',\n",
    "  ' -v',\n",
    "  ' --verbose',\n",
    "  ' -d',\n",
    "  ' --diff',\n",
    "  ' -i',\n",
    "  ' --in-place',\n",
    "  ' --global-config <filename>',\n",
    "  ' --ignore-local-config',\n",
    "  ' -r',\n",
    "  ' --recursive',\n",
    "  ' -j <n>',\n",
    "  ' --jobs <n>',\n",
    "  ' -p <n>',\n",
    "  ' --pep8-passes <n>',\n",
    "  ' -a',\n",
    "  ' --aggressive',\n",
    "  ' --experimental',\n",
    "  ' --exclude <globs>',\n",
    "  ' --list-fixes',\n",
    "  ' --ignore <errors>',\n",
    "  ' --select <errors>',\n",
    "  ' --max-line-length <n>',\n",
    "  ' --line-range <line> <line>',\n",
    "  ' --range <line> <line>',\n",
    "  ' --indent-size <int>',\n",
    "  ' --hang-closing',\n",
    "  ' --exit-code'],\n",
    " '<arguments>': [' foo.py'],\n",
    " '<str>': ['<char>+'],\n",
    " '<char>': ['0',\n",
    "  '1',\n",
    "  '2',\n",
    "  '3',\n",
    "  '4',\n",
    "  '5',\n",
    "  '6',\n",
    "  '7',\n",
    "  '8',\n",
    "  '9',\n",
    "  'a',\n",
    "  'b',\n",
    "  'c',\n",
    "  'd',\n",
    "  'e',\n",
    "  'f',\n",
    "  'g',\n",
    "  'h',\n",
    "  'i',\n",
    "  'j',\n",
    "  'k',\n",
    "  'l',\n",
    "  'm',\n",
    "  'n',\n",
    "  'o',\n",
    "  'p',\n",
    "  'q',\n",
    "  'r',\n",
    "  's',\n",
    "  't',\n",
    "  'u',\n",
    "  'v',\n",
    "  'w',\n",
    "  'x',\n",
    "  'y',\n",
    "  'z',\n",
    "  'A',\n",
    "  'B',\n",
    "  'C',\n",
    "  'D',\n",
    "  'E',\n",
    "  'F',\n",
    "  'G',\n",
    "  'H',\n",
    "  'I',\n",
    "  'J',\n",
    "  'K',\n",
    "  'L',\n",
    "  'M',\n",
    "  'N',\n",
    "  'O',\n",
    "  'P',\n",
    "  'Q',\n",
    "  'R',\n",
    "  'S',\n",
    "  'T',\n",
    "  'U',\n",
    "  'V',\n",
    "  'W',\n",
    "  'X',\n",
    "  'Y',\n",
    "  'Z',\n",
    "  '!',\n",
    "  '\"',\n",
    "  '#',\n",
    "  '$',\n",
    "  '%',\n",
    "  '&',\n",
    "  \"'\",\n",
    "  '(',\n",
    "  ')',\n",
    "  '*',\n",
    "  '+',\n",
    "  ',',\n",
    "  '-',\n",
    "  '.',\n",
    "  '/',\n",
    "  ':',\n",
    "  ';',\n",
    "  '<',\n",
    "  '=',\n",
    "  '>',\n",
    "  '?',\n",
    "  '@',\n",
    "  '[',\n",
    "  '\\\\',\n",
    "  ']',\n",
    "  '^',\n",
    "  '_',\n",
    "  '`',\n",
    "  '{',\n",
    "  '|',\n",
    "  '}',\n",
    "  '~'],\n",
    " '<filename>': ['<str>'],\n",
    " '<int>': ['(-)?<digit>+'],\n",
    " '<digit>': ['0', '1', '2', '3', '4', '5', '6', '7', '8', '9'],\n",
    " '<n>': ['<int>'],\n",
    " '<globs>': ['<str>'],\n",
    " '<errors>': ['<str>'],\n",
    " '<line>': ['<int>']}\n",
    "```\n",
    "The grammar can be immediately used for fuzzing. A `GrammarCoverageFuzzer` will ensure all options are covered:\n",
    "\n",
    "```python\n",
    ">>> from Grammars import convert_ebnf_grammar\n",
    ">>> fuzzer = GrammarCoverageFuzzer(convert_ebnf_grammar(option_ebnf_grammar))\n",
    ">>> [fuzzer.fuzz() for i in range(3)]\n",
    "[' foo.py',\n",
    " ' --max-line-length 6 --jobs -594 --ignore , --ignore-local-config -r --in-place --list-fixes --recursive -v --experimental -p 72 -h --aggressive --indent-size 3 --exit-code --hang-closing --pep8-passes -180 -d --global-config XQjT --diff --exclude *g -j 43 --help --select A --version --verbose -a --line-range -3963 0 --range 1 4 -i --in-place --version foo.py',\n",
    " ' --global-config 2 --select PuR --ignore b --ignore @ --ignore ;7d --ignore ) --ignore Fw1Z --ignore 0 --global-config ynf --select >G --select + --global-config ( --exclude v --exclude V --ignore ^ --select L --exclude 6 --exclude =$` --ignore % --global-config N --ignore [8maop --ignore 3! --select ~?c< --exclude C --select U --exclude h --global-config # --global-config 5O --select x --select B] --ignore _ --global-config .K --global-config S --exclude r --global-config qW --exclude te4/ --exclude J} --ignore \" --exclude |H --global-config -&k{s --global-config E --select :I --ignore 9 --global-config M --exclude YD --select \\\\ --exclude z --ignore i --select \\'l --ignore M --ignore ;h --exit-code foo.py']\n",
    "```\n",
    "The `OptionFuzzer` class summarizes these steps.  Its constructor takes an `OptionRunner` to automatically extract the grammar; it does the necessary steps to extract the grammar and fuzz with it.\n",
    "\n",
    "```python\n",
    ">>> autopep8_runner = OptionRunner(\"autopep8\", \"foo.py\")\n",
    ">>> autopep8_fuzzer = OptionFuzzer(autopep8_runner)\n",
    ">>> [autopep8_fuzzer.fuzz() for i in range(3)]\n",
    "[' --diff foo.py',\n",
    " ' --exclude <D -r -j 47 --help --line-range -1 -9685 -p -2 --indent-size -3 --ignore-local-config --pep8-passes 0 --list-fixes -i --range -77 3 -h --verbose --hang-closing --in-place --recursive --experimental --max-line-length -94 -v --jobs -72 --exit-code -d --version --global-config Ng -a --select T(,y --ignore S-d0I --aggressive --select R --select G!+h --exclude . --select \\\\q --exclude 8fAM5 --global-config k --global-config =$ --exclude > --global-config V --select He --global-config | --global-config n}aicm --ignore 7 --ignore b --global-config u --exclude WB` --exclude 2 --exclude JpZt --exclude l_ --select *%^ --exclude & --exclude )Lv --global-config [ --global-config \" --exclude sOEXP --aggressive --exclude \\' --help --diff --experimental foo.py',\n",
    " ' --ignore FCw; --global-config /1K?:6 --exclude U --exclude z --ignore rQ --select x --select Y --select { --global-config o --select 3#4 --exclude ]j --select ~ --exclude 9@ --ignore w --global-config CVL --diff foo.py']\n",
    "```\n",
    "The final step in testing would now to invoke the program with these arguments.\n",
    "\n",
    "Note that `OptionRunner` is experimental: It assumes that the Python program in question uses the `argparse` module; and not all `argparse` features are supported.  Still, it does a pretty good job even on nontrivial programs.\n",
    "\n",
    "The `OptionRunner` constructor accepts an additional `miner` keyword parameter, which takes the class of the argument grammar miner to be used. By default, this is `OptionGrammarMiner` – a helper class that can be used (and extended) to create own option grammar miners.\n",
    "\n",
    "![](PICS/ConfigurationFuzzer-synopsis-1.svg)\n",
    "\n"
   ]
  },
  {
   "cell_type": "markdown",
   "metadata": {
    "button": false,
    "new_sheet": true,
    "run_control": {
     "read_only": false
    },
    "slideshow": {
     "slide_type": "slide"
    }
   },
   "source": [
    "## Configuration Options\n",
    "\n",
    "When we talk about the input to a program, we usually think of the _data_ it processes. This is also what we have been fuzzing in the past chapters – be it with [random input](Fuzzer.ipynb), [mutation-based fuzzing](MutationFuzzer.ipynb), or [grammar-based fuzzing](GrammarFuzzer.ipynb).  However, programs typically have several input sources, all of which can and should be tested – and included in test generation."
   ]
  },
  {
   "cell_type": "markdown",
   "metadata": {
    "button": false,
    "new_sheet": true,
    "run_control": {
     "read_only": false
    },
    "slideshow": {
     "slide_type": "subslide"
    }
   },
   "source": [
    "One important source of input is the program's _configuration_ – that is, a set of inputs that typically is set once when beginning to process data and then stays constant while processing data, while the program is running, or even while the program is deployed.  Such a configuration is frequently set in _configuration files_ (for instance, as key/value pairs); the most ubiquitous method for command-line tools, though, are _configuration options_ on the command line."
   ]
  },
  {
   "cell_type": "markdown",
   "metadata": {
    "slideshow": {
     "slide_type": "subslide"
    }
   },
   "source": [
    "As an example, consider the `grep` utility to find textual patterns in files.  The exact mode by which `grep` works is governed by a multitude of options, which can be listed by providing a `--help` option:"
   ]
  },
  {
   "cell_type": "code",
   "execution_count": 4,
   "metadata": {
    "execution": {
     "iopub.execute_input": "2022-02-21T08:28:05.112388Z",
     "iopub.status.busy": "2022-02-21T08:28:05.111346Z",
     "iopub.status.idle": "2022-02-21T08:28:05.238379Z",
     "shell.execute_reply": "2022-02-21T08:28:05.239120Z"
    },
    "slideshow": {
     "slide_type": "fragment"
    }
   },
   "outputs": [
    {
     "name": "stdout",
     "output_type": "stream",
     "text": [
      "usage: grep [-abcdDEFGHhIiJLlMmnOopqRSsUVvwXxZz] [-A num] [-B num] [-C[num]]\r\n",
      "\t[-e pattern] [-f file] [--binary-files=value] [--color=when]\r\n",
      "\t[--context[=num]] [--directories=action] [--label] [--line-buffered]\r\n",
      "\t[--null] [pattern] [file ...]\r\n"
     ]
    }
   ],
   "source": [
    "!grep --help"
   ]
  },
  {
   "cell_type": "markdown",
   "metadata": {
    "slideshow": {
     "slide_type": "fragment"
    }
   },
   "source": [
    "All these options need to be tested for whether they operate correctly.  In security testing, any such option may also trigger a yet unknown vulnerability.  Hence, such options can become _fuzz targets_ on their own.  In this chapter, we analyze how to systematically test such options – and better yet, how to extract possible configurations right out of given program files, such that we do not have to specify anything."
   ]
  },
  {
   "cell_type": "markdown",
   "metadata": {
    "slideshow": {
     "slide_type": "slide"
    }
   },
   "source": [
    "## Options in Python\n",
    "\n",
    "Let us stick to our common programming language here and examine how options are processed in Python.  The `argparse` module provides a parser for command-line arguments (and options) with great functionality – and great complexity.  You start by defining a parser (`argparse.ArgumentParser()`) to which individual arguments with various features are added, one after another.  Additional parameters for each argument can specify the type (`type`) of the argument (say, integers or strings), or the number of arguments (`nargs`)."
   ]
  },
  {
   "cell_type": "markdown",
   "metadata": {
    "slideshow": {
     "slide_type": "subslide"
    }
   },
   "source": [
    "By default, arguments are stored under their name in the `args` object coming from `parse_args()` – thus, `args.integers` holds the `integer` arguments added earlier.  Special actions (`actions`) allow to store specific values in given variables; the `store_const` action stores the given `const` in the attribute named by `dest`.  The following example takes a number of integer arguments (`integers`) as well as an operator (`--sum`, `--min`, or `--max`) to be applied on these integers.  The operators all store a function reference in the `accumulate` attribute, which is finally invoked on the integers parsed:"
   ]
  },
  {
   "cell_type": "code",
   "execution_count": 5,
   "metadata": {
    "execution": {
     "iopub.execute_input": "2022-02-21T08:28:05.244792Z",
     "iopub.status.busy": "2022-02-21T08:28:05.243954Z",
     "iopub.status.idle": "2022-02-21T08:28:05.246579Z",
     "shell.execute_reply": "2022-02-21T08:28:05.247209Z"
    },
    "slideshow": {
     "slide_type": "skip"
    }
   },
   "outputs": [],
   "source": [
    "import argparse"
   ]
  },
  {
   "cell_type": "code",
   "execution_count": 6,
   "metadata": {
    "execution": {
     "iopub.execute_input": "2022-02-21T08:28:05.255582Z",
     "iopub.status.busy": "2022-02-21T08:28:05.254820Z",
     "iopub.status.idle": "2022-02-21T08:28:05.256788Z",
     "shell.execute_reply": "2022-02-21T08:28:05.257254Z"
    },
    "slideshow": {
     "slide_type": "subslide"
    }
   },
   "outputs": [],
   "source": [
    "def process_numbers(args=[]):\n",
    "    parser = argparse.ArgumentParser(description='Process some integers.')\n",
    "    parser.add_argument('integers', metavar='N', type=int, nargs='+',\n",
    "                        help='an integer for the accumulator')\n",
    "    group = parser.add_mutually_exclusive_group(required=True)\n",
    "    group.add_argument('--sum', dest='accumulate', action='store_const',\n",
    "                       const=sum,\n",
    "                       help='sum the integers')\n",
    "    group.add_argument('--min', dest='accumulate', action='store_const',\n",
    "                       const=min,\n",
    "                       help='compute the minimum')\n",
    "    group.add_argument('--max', dest='accumulate', action='store_const',\n",
    "                       const=max,\n",
    "                       help='compute the maximum')\n",
    "\n",
    "    args = parser.parse_args(args)\n",
    "    print(args.accumulate(args.integers))"
   ]
  },
  {
   "cell_type": "markdown",
   "metadata": {
    "slideshow": {
     "slide_type": "subslide"
    }
   },
   "source": [
    "Here's how `process_numbers()` works.  We can, for instance, invoke the `--min` option on the given arguments to compute the minimum:"
   ]
  },
  {
   "cell_type": "code",
   "execution_count": 7,
   "metadata": {
    "execution": {
     "iopub.execute_input": "2022-02-21T08:28:05.262095Z",
     "iopub.status.busy": "2022-02-21T08:28:05.261467Z",
     "iopub.status.idle": "2022-02-21T08:28:05.265330Z",
     "shell.execute_reply": "2022-02-21T08:28:05.266194Z"
    },
    "slideshow": {
     "slide_type": "fragment"
    }
   },
   "outputs": [
    {
     "name": "stdout",
     "output_type": "stream",
     "text": [
      "100\n"
     ]
    }
   ],
   "source": [
    "process_numbers([\"--min\", \"100\", \"200\", \"300\"])"
   ]
  },
  {
   "cell_type": "markdown",
   "metadata": {
    "slideshow": {
     "slide_type": "fragment"
    }
   },
   "source": [
    "Or compute the sum of three numbers:"
   ]
  },
  {
   "cell_type": "code",
   "execution_count": 8,
   "metadata": {
    "execution": {
     "iopub.execute_input": "2022-02-21T08:28:05.271078Z",
     "iopub.status.busy": "2022-02-21T08:28:05.270491Z",
     "iopub.status.idle": "2022-02-21T08:28:05.273965Z",
     "shell.execute_reply": "2022-02-21T08:28:05.274389Z"
    },
    "slideshow": {
     "slide_type": "fragment"
    }
   },
   "outputs": [
    {
     "name": "stdout",
     "output_type": "stream",
     "text": [
      "6\n"
     ]
    }
   ],
   "source": [
    "process_numbers([\"--sum\", \"1\", \"2\", \"3\"])"
   ]
  },
  {
   "cell_type": "markdown",
   "metadata": {
    "slideshow": {
     "slide_type": "subslide"
    }
   },
   "source": [
    "When defined via `add_mutually_exclusive_group()` (as above), options are mutually exclusive.  Consequently, we can have only one operator:"
   ]
  },
  {
   "cell_type": "code",
   "execution_count": 9,
   "metadata": {
    "execution": {
     "iopub.execute_input": "2022-02-21T08:28:05.278335Z",
     "iopub.status.busy": "2022-02-21T08:28:05.277496Z",
     "iopub.status.idle": "2022-02-21T08:28:05.279928Z",
     "shell.execute_reply": "2022-02-21T08:28:05.280340Z"
    },
    "slideshow": {
     "slide_type": "skip"
    }
   },
   "outputs": [],
   "source": [
    "import bookutils"
   ]
  },
  {
   "cell_type": "code",
   "execution_count": 10,
   "metadata": {
    "execution": {
     "iopub.execute_input": "2022-02-21T08:28:05.285340Z",
     "iopub.status.busy": "2022-02-21T08:28:05.284416Z",
     "iopub.status.idle": "2022-02-21T08:28:05.395126Z",
     "shell.execute_reply": "2022-02-21T08:28:05.395639Z"
    },
    "slideshow": {
     "slide_type": "skip"
    }
   },
   "outputs": [],
   "source": [
    "from ExpectError import ExpectError"
   ]
  },
  {
   "cell_type": "code",
   "execution_count": 11,
   "metadata": {
    "execution": {
     "iopub.execute_input": "2022-02-21T08:28:05.400596Z",
     "iopub.status.busy": "2022-02-21T08:28:05.399806Z",
     "iopub.status.idle": "2022-02-21T08:28:05.405850Z",
     "shell.execute_reply": "2022-02-21T08:28:05.406326Z"
    },
    "slideshow": {
     "slide_type": "fragment"
    }
   },
   "outputs": [
    {
     "name": "stderr",
     "output_type": "stream",
     "text": [
      "usage: ipykernel_launcher.py [-h] (--sum | --min | --max) N [N ...]\n",
      "ipykernel_launcher.py: error: argument --max: not allowed with argument --sum\n",
      "SystemExit: 2 (expected)\n"
     ]
    }
   ],
   "source": [
    "with ExpectError(SystemExit, print_traceback=False):\n",
    "    process_numbers([\"--sum\", \"--max\", \"1\", \"2\", \"3\"])"
   ]
  },
  {
   "cell_type": "markdown",
   "metadata": {
    "slideshow": {
     "slide_type": "slide"
    }
   },
   "source": [
    "## A Grammar for Configurations\n",
    "\n",
    "How can we test a system with several options?  The easiest answer is to write a grammar for it.  The grammar `PROCESS_NUMBERS_EBNF_GRAMMAR` reflects the possible combinations of options and arguments:"
   ]
  },
  {
   "cell_type": "code",
   "execution_count": 12,
   "metadata": {
    "execution": {
     "iopub.execute_input": "2022-02-21T08:28:05.411306Z",
     "iopub.status.busy": "2022-02-21T08:28:05.410329Z",
     "iopub.status.idle": "2022-02-21T08:28:07.678514Z",
     "shell.execute_reply": "2022-02-21T08:28:07.679072Z"
    },
    "slideshow": {
     "slide_type": "skip"
    }
   },
   "outputs": [],
   "source": [
    "from Grammars import crange, srange, convert_ebnf_grammar, extend_grammar, is_valid_grammar\n",
    "from Grammars import START_SYMBOL, new_symbol, Grammar"
   ]
  },
  {
   "cell_type": "code",
   "execution_count": 13,
   "metadata": {
    "execution": {
     "iopub.execute_input": "2022-02-21T08:28:07.684571Z",
     "iopub.status.busy": "2022-02-21T08:28:07.683815Z",
     "iopub.status.idle": "2022-02-21T08:28:07.685489Z",
     "shell.execute_reply": "2022-02-21T08:28:07.686138Z"
    },
    "slideshow": {
     "slide_type": "fragment"
    }
   },
   "outputs": [],
   "source": [
    "PROCESS_NUMBERS_EBNF_GRAMMAR: Grammar = {\n",
    "    \"<start>\": [\"<operator> <integers>\"],\n",
    "    \"<operator>\": [\"--sum\", \"--min\", \"--max\"],\n",
    "    \"<integers>\": [\"<integer>\", \"<integers> <integer>\"],\n",
    "    \"<integer>\": [\"<digit>+\"],\n",
    "    \"<digit>\": crange('0', '9')\n",
    "}\n",
    "\n",
    "assert is_valid_grammar(PROCESS_NUMBERS_EBNF_GRAMMAR)"
   ]
  },
  {
   "cell_type": "code",
   "execution_count": 14,
   "metadata": {
    "execution": {
     "iopub.execute_input": "2022-02-21T08:28:07.689619Z",
     "iopub.status.busy": "2022-02-21T08:28:07.689041Z",
     "iopub.status.idle": "2022-02-21T08:28:07.690962Z",
     "shell.execute_reply": "2022-02-21T08:28:07.691376Z"
    },
    "slideshow": {
     "slide_type": "fragment"
    }
   },
   "outputs": [],
   "source": [
    "PROCESS_NUMBERS_GRAMMAR = convert_ebnf_grammar(PROCESS_NUMBERS_EBNF_GRAMMAR)"
   ]
  },
  {
   "cell_type": "markdown",
   "metadata": {
    "slideshow": {
     "slide_type": "subslide"
    }
   },
   "source": [
    "We can feed this grammar into our [grammar coverage fuzzer](GrammarCoverageFuzzer.ipynb) and have it cover one option after another:"
   ]
  },
  {
   "cell_type": "code",
   "execution_count": 15,
   "metadata": {
    "execution": {
     "iopub.execute_input": "2022-02-21T08:28:07.695640Z",
     "iopub.status.busy": "2022-02-21T08:28:07.694721Z",
     "iopub.status.idle": "2022-02-21T08:28:08.789226Z",
     "shell.execute_reply": "2022-02-21T08:28:08.788633Z"
    },
    "slideshow": {
     "slide_type": "skip"
    }
   },
   "outputs": [],
   "source": [
    "from GrammarCoverageFuzzer import GrammarCoverageFuzzer"
   ]
  },
  {
   "cell_type": "code",
   "execution_count": 16,
   "metadata": {
    "execution": {
     "iopub.execute_input": "2022-02-21T08:28:08.823176Z",
     "iopub.status.busy": "2022-02-21T08:28:08.821947Z",
     "iopub.status.idle": "2022-02-21T08:28:08.825100Z",
     "shell.execute_reply": "2022-02-21T08:28:08.825642Z"
    },
    "slideshow": {
     "slide_type": "fragment"
    }
   },
   "outputs": [
    {
     "name": "stdout",
     "output_type": "stream",
     "text": [
      "--max 9 5 8 210 80 9756431\n",
      "--sum 9 4 99 1245 612370\n",
      "--min 2 3 0 46 15798 7570926\n"
     ]
    }
   ],
   "source": [
    "f = GrammarCoverageFuzzer(PROCESS_NUMBERS_GRAMMAR, min_nonterminals=10)\n",
    "for i in range(3):\n",
    "    print(f.fuzz())"
   ]
  },
  {
   "cell_type": "markdown",
   "metadata": {
    "slideshow": {
     "slide_type": "subslide"
    }
   },
   "source": [
    "Of course, we can also invoke `process_numbers()` with these very arguments. To this end, we need to convert the string produced by the grammar back into a list of individual arguments, using `split()`:"
   ]
  },
  {
   "cell_type": "code",
   "execution_count": 17,
   "metadata": {
    "execution": {
     "iopub.execute_input": "2022-02-21T08:28:08.839003Z",
     "iopub.status.busy": "2022-02-21T08:28:08.838306Z",
     "iopub.status.idle": "2022-02-21T08:28:08.880467Z",
     "shell.execute_reply": "2022-02-21T08:28:08.880957Z"
    },
    "slideshow": {
     "slide_type": "fragment"
    }
   },
   "outputs": [
    {
     "name": "stdout",
     "output_type": "stream",
     "text": [
      "['--max', '8', '9', '3067', '44', '13852967057']\n",
      "13852967057\n",
      "['--sum', '9', '8', '63', '9278111', '59206197798']\n",
      "59215475989\n",
      "['--min', '4', '1', '4864', '33342', '7827970808951']\n",
      "1\n"
     ]
    }
   ],
   "source": [
    "f = GrammarCoverageFuzzer(PROCESS_NUMBERS_GRAMMAR, min_nonterminals=10)\n",
    "for i in range(3):\n",
    "    args = f.fuzz().split()\n",
    "    print(args)\n",
    "    process_numbers(args)"
   ]
  },
  {
   "cell_type": "markdown",
   "metadata": {
    "slideshow": {
     "slide_type": "subslide"
    }
   },
   "source": [
    "In a similar way, we can define grammars for any program to be tested; as well as define grammars for, say, configuration files.  Yet, the grammar has to be updated with every change to the program, which creates a maintenance burden.  Given that the information required for the grammar is already all encoded in the program, the question arises: _Can't we go and extract configuration options right out of the program in the first place?_"
   ]
  },
  {
   "cell_type": "markdown",
   "metadata": {
    "slideshow": {
     "slide_type": "fragment"
    }
   },
   "source": [
    "## Mining Configuration Options\n",
    "\n",
    "In this section, we try to extract option and argument information right out of a program, such that we do not have to specify a configuration grammar.  The aim is to have a configuration fuzzer that works on the options and arguments of an arbitrary program, as long as it follows specific conventions for processing its arguments.  In the case of Python programs, this means using the `argparse` module.\n",
    "\n",
    "Our idea is as follows: We execute the given program up to the point where the arguments are actually parsed – that is, `argparse.parse_args()` is invoked.  Up to this point, we track all calls into the argument parser, notably those calls that define arguments and options (`add_argument()`).  From these, we construct the grammar."
   ]
  },
  {
   "cell_type": "markdown",
   "metadata": {
    "slideshow": {
     "slide_type": "fragment"
    }
   },
   "source": [
    "### Tracking Arguments\n",
    "\n",
    "Let us illustrate this approach with a simple experiment: We define a trace function (see [our chapter on coverage](Coverage.ipynb) for details) that is active while `process_numbers` is invoked.  If we have a call to a method `add_argument`, we access and print out the local variables (which at this point are the arguments to the method)."
   ]
  },
  {
   "cell_type": "code",
   "execution_count": 18,
   "metadata": {
    "execution": {
     "iopub.execute_input": "2022-02-21T08:28:08.886236Z",
     "iopub.status.busy": "2022-02-21T08:28:08.885564Z",
     "iopub.status.idle": "2022-02-21T08:28:08.887190Z",
     "shell.execute_reply": "2022-02-21T08:28:08.887595Z"
    },
    "slideshow": {
     "slide_type": "skip"
    }
   },
   "outputs": [],
   "source": [
    "import sys"
   ]
  },
  {
   "cell_type": "code",
   "execution_count": 19,
   "metadata": {
    "execution": {
     "iopub.execute_input": "2022-02-21T08:28:08.891212Z",
     "iopub.status.busy": "2022-02-21T08:28:08.890386Z",
     "iopub.status.idle": "2022-02-21T08:28:08.892222Z",
     "shell.execute_reply": "2022-02-21T08:28:08.892631Z"
    },
    "slideshow": {
     "slide_type": "skip"
    }
   },
   "outputs": [],
   "source": [
    "import string"
   ]
  },
  {
   "cell_type": "code",
   "execution_count": 20,
   "metadata": {
    "execution": {
     "iopub.execute_input": "2022-02-21T08:28:08.897459Z",
     "iopub.status.busy": "2022-02-21T08:28:08.896504Z",
     "iopub.status.idle": "2022-02-21T08:28:08.898665Z",
     "shell.execute_reply": "2022-02-21T08:28:08.899250Z"
    },
    "slideshow": {
     "slide_type": "fragment"
    }
   },
   "outputs": [],
   "source": [
    "def trace_locals(frame, event, arg):\n",
    "    if event != \"call\":\n",
    "        return\n",
    "    method_name = frame.f_code.co_name\n",
    "    if method_name != \"add_argument\":\n",
    "        return\n",
    "    locals = frame.f_locals\n",
    "    print(method_name, locals)"
   ]
  },
  {
   "cell_type": "markdown",
   "metadata": {
    "slideshow": {
     "slide_type": "subslide"
    }
   },
   "source": [
    "What we get is a list of all calls to `add_argument()`, together with the method arguments passed:"
   ]
  },
  {
   "cell_type": "code",
   "execution_count": 21,
   "metadata": {
    "execution": {
     "iopub.execute_input": "2022-02-21T08:28:08.903950Z",
     "iopub.status.busy": "2022-02-21T08:28:08.903322Z",
     "iopub.status.idle": "2022-02-21T08:28:08.906850Z",
     "shell.execute_reply": "2022-02-21T08:28:08.907340Z"
    },
    "slideshow": {
     "slide_type": "fragment"
    }
   },
   "outputs": [
    {
     "name": "stdout",
     "output_type": "stream",
     "text": [
      "add_argument {'self': ArgumentParser(prog='ipykernel_launcher.py', usage=None, description='Process some integers.', formatter_class=<class 'argparse.HelpFormatter'>, conflict_handler='error', add_help=True), 'args': ('-h', '--help'), 'kwargs': {'action': 'help', 'default': '==SUPPRESS==', 'help': 'show this help message and exit'}}\n",
      "add_argument {'self': ArgumentParser(prog='ipykernel_launcher.py', usage=None, description='Process some integers.', formatter_class=<class 'argparse.HelpFormatter'>, conflict_handler='error', add_help=True), 'args': ('integers',), 'kwargs': {'metavar': 'N', 'type': <class 'int'>, 'nargs': '+', 'help': 'an integer for the accumulator'}}\n",
      "add_argument {'self': <argparse._MutuallyExclusiveGroup object at 0x10e3c98b0>, 'args': ('--sum',), 'kwargs': {'dest': 'accumulate', 'action': 'store_const', 'const': <built-in function sum>, 'help': 'sum the integers'}}\n",
      "add_argument {'self': <argparse._MutuallyExclusiveGroup object at 0x10e3c98b0>, 'args': ('--min',), 'kwargs': {'dest': 'accumulate', 'action': 'store_const', 'const': <built-in function min>, 'help': 'compute the minimum'}}\n",
      "add_argument {'self': <argparse._MutuallyExclusiveGroup object at 0x10e3c98b0>, 'args': ('--max',), 'kwargs': {'dest': 'accumulate', 'action': 'store_const', 'const': <built-in function max>, 'help': 'compute the maximum'}}\n",
      "6\n"
     ]
    }
   ],
   "source": [
    "sys.settrace(trace_locals)\n",
    "process_numbers([\"--sum\", \"1\", \"2\", \"3\"])\n",
    "sys.settrace(None)"
   ]
  },
  {
   "cell_type": "markdown",
   "metadata": {
    "slideshow": {
     "slide_type": "subslide"
    }
   },
   "source": [
    "From the `args` argument, we can access the individual options and arguments to be defined:"
   ]
  },
  {
   "cell_type": "code",
   "execution_count": 22,
   "metadata": {
    "execution": {
     "iopub.execute_input": "2022-02-21T08:28:08.912491Z",
     "iopub.status.busy": "2022-02-21T08:28:08.911756Z",
     "iopub.status.idle": "2022-02-21T08:28:08.913589Z",
     "shell.execute_reply": "2022-02-21T08:28:08.914001Z"
    },
    "slideshow": {
     "slide_type": "fragment"
    }
   },
   "outputs": [],
   "source": [
    "def trace_options(frame, event, arg):\n",
    "    if event != \"call\":\n",
    "        return\n",
    "    method_name = frame.f_code.co_name\n",
    "    if method_name != \"add_argument\":\n",
    "        return\n",
    "    locals = frame.f_locals\n",
    "    print(locals['args'])"
   ]
  },
  {
   "cell_type": "code",
   "execution_count": 23,
   "metadata": {
    "execution": {
     "iopub.execute_input": "2022-02-21T08:28:08.918926Z",
     "iopub.status.busy": "2022-02-21T08:28:08.918304Z",
     "iopub.status.idle": "2022-02-21T08:28:08.921890Z",
     "shell.execute_reply": "2022-02-21T08:28:08.922335Z"
    },
    "slideshow": {
     "slide_type": "fragment"
    }
   },
   "outputs": [
    {
     "name": "stdout",
     "output_type": "stream",
     "text": [
      "('-h', '--help')\n",
      "('integers',)\n",
      "('--sum',)\n",
      "('--min',)\n",
      "('--max',)\n",
      "6\n"
     ]
    }
   ],
   "source": [
    "sys.settrace(trace_options)\n",
    "process_numbers([\"--sum\", \"1\", \"2\", \"3\"])\n",
    "sys.settrace(None)"
   ]
  },
  {
   "cell_type": "markdown",
   "metadata": {
    "slideshow": {
     "slide_type": "subslide"
    }
   },
   "source": [
    "We see that each argument comes as a tuple with one (say, `integers` or `--sum`) or two members (`-h` and `--help`), which denote alternate forms for the same option.  Our job will be to go through the arguments of `add_arguments()` and detect not only the names of options and arguments, but also whether they accept additional parameters, as well as the type of the parameters."
   ]
  },
  {
   "cell_type": "markdown",
   "metadata": {
    "slideshow": {
     "slide_type": "subslide"
    }
   },
   "source": [
    "### A Grammar Miner for Options and Arguments"
   ]
  },
  {
   "cell_type": "markdown",
   "metadata": {
    "slideshow": {
     "slide_type": "fragment"
    }
   },
   "source": [
    "Let us now build a class that gathers all this information to create a grammar."
   ]
  },
  {
   "cell_type": "markdown",
   "metadata": {
    "slideshow": {
     "slide_type": "fragment"
    }
   },
   "source": [
    "We use the `ParseInterrupt` exception to interrupt program execution after gathering all arguments and options:"
   ]
  },
  {
   "cell_type": "code",
   "execution_count": 24,
   "metadata": {
    "execution": {
     "iopub.execute_input": "2022-02-21T08:28:08.926631Z",
     "iopub.status.busy": "2022-02-21T08:28:08.925986Z",
     "iopub.status.idle": "2022-02-21T08:28:08.927904Z",
     "shell.execute_reply": "2022-02-21T08:28:08.928415Z"
    },
    "slideshow": {
     "slide_type": "fragment"
    }
   },
   "outputs": [],
   "source": [
    "class ParseInterrupt(Exception):\n",
    "    pass"
   ]
  },
  {
   "cell_type": "markdown",
   "metadata": {
    "slideshow": {
     "slide_type": "fragment"
    }
   },
   "source": [
    "The class `OptionGrammarMiner` takes an executable function for which the grammar of options and arguments is to be mined:"
   ]
  },
  {
   "cell_type": "code",
   "execution_count": 25,
   "metadata": {
    "execution": {
     "iopub.execute_input": "2022-02-21T08:28:08.934763Z",
     "iopub.status.busy": "2022-02-21T08:28:08.934083Z",
     "iopub.status.idle": "2022-02-21T08:28:08.935944Z",
     "shell.execute_reply": "2022-02-21T08:28:08.936424Z"
    },
    "slideshow": {
     "slide_type": "fragment"
    }
   },
   "outputs": [],
   "source": [
    "class OptionGrammarMiner:\n",
    "    \"\"\"Helper class for extracting option grammars\"\"\"\n",
    "\n",
    "    def __init__(self, function: Callable, log: bool = False):\n",
    "        \"\"\"Constructor.\n",
    "        `function` - a function processing arguments using argparse()\n",
    "        `log` - output diagnostics if True\n",
    "        \"\"\"\n",
    "        self.function = function\n",
    "        self.log = log"
   ]
  },
  {
   "cell_type": "markdown",
   "metadata": {
    "slideshow": {
     "slide_type": "subslide"
    }
   },
   "source": [
    "The method `mine_ebnf_grammar()` is where everything happens.  It creates a grammar of the form\n",
    "\n",
    "```\n",
    "<start> ::= <option>* <arguments>\n",
    "<option> ::= <empty>\n",
    "<arguments> ::= <empty>\n",
    "```\n",
    "\n",
    "in which the options and arguments will be collected.  It then sets a trace function (see [our chapter on coverage](Coverage.ipynb) for details) that is active while the previously defined `function` is invoked.  Raising `ParseInterrupt` (when `parse_args()` is invoked) ends execution."
   ]
  },
  {
   "cell_type": "code",
   "execution_count": 26,
   "metadata": {
    "execution": {
     "iopub.execute_input": "2022-02-21T08:28:08.942495Z",
     "iopub.status.busy": "2022-02-21T08:28:08.941846Z",
     "iopub.status.idle": "2022-02-21T08:28:08.943750Z",
     "shell.execute_reply": "2022-02-21T08:28:08.944179Z"
    },
    "slideshow": {
     "slide_type": "subslide"
    }
   },
   "outputs": [],
   "source": [
    "class OptionGrammarMiner(OptionGrammarMiner):\n",
    "    OPTION_SYMBOL = \"<option>\"\n",
    "    ARGUMENTS_SYMBOL = \"<arguments>\"\n",
    "\n",
    "    def mine_ebnf_grammar(self):\n",
    "        \"\"\"Extract EBNF option grammar\"\"\"\n",
    "        self.grammar = {\n",
    "            START_SYMBOL: [\"(\" + self.OPTION_SYMBOL + \")*\" + self.ARGUMENTS_SYMBOL],\n",
    "            self.OPTION_SYMBOL: [],\n",
    "            self.ARGUMENTS_SYMBOL: []\n",
    "        }\n",
    "        self.current_group = self.OPTION_SYMBOL\n",
    "\n",
    "        old_trace = sys.gettrace()\n",
    "        sys.settrace(self.traceit)\n",
    "        try:\n",
    "            self.function()\n",
    "        except ParseInterrupt:\n",
    "            pass\n",
    "        sys.settrace(old_trace)\n",
    "\n",
    "        return self.grammar\n",
    "\n",
    "    def mine_grammar(self):\n",
    "        \"\"\"Extract BNF option grammar\"\"\"\n",
    "        return convert_ebnf_grammar(self.mine_ebnf_grammar())"
   ]
  },
  {
   "cell_type": "markdown",
   "metadata": {
    "slideshow": {
     "slide_type": "subslide"
    }
   },
   "source": [
    "The trace function checks for four methods: `add_argument()` is the most important function, resulting in processing arguments; `frame.f_locals` again is the set of local variables, which at this point is mostly the arguments to `add_argument()`.  Since mutually exclusive groups also have a method `add_argument()`, we set the flag `in_group` to differentiate."
   ]
  },
  {
   "cell_type": "markdown",
   "metadata": {
    "slideshow": {
     "slide_type": "fragment"
    }
   },
   "source": [
    "Note that we make no specific efforts to differentiate between multiple parsers or groups; we simply assume that there is one parser, and at any point at most one mutually exclusive group."
   ]
  },
  {
   "cell_type": "code",
   "execution_count": 27,
   "metadata": {
    "execution": {
     "iopub.execute_input": "2022-02-21T08:28:08.951274Z",
     "iopub.status.busy": "2022-02-21T08:28:08.950569Z",
     "iopub.status.idle": "2022-02-21T08:28:08.952609Z",
     "shell.execute_reply": "2022-02-21T08:28:08.953195Z"
    },
    "slideshow": {
     "slide_type": "subslide"
    }
   },
   "outputs": [],
   "source": [
    "class OptionGrammarMiner(OptionGrammarMiner):\n",
    "    def traceit(self, frame, event, arg):\n",
    "        if event != \"call\":\n",
    "            return\n",
    "\n",
    "        if \"self\" not in frame.f_locals:\n",
    "            return\n",
    "\n",
    "        self_var = frame.f_locals[\"self\"]\n",
    "        method_name = frame.f_code.co_name\n",
    "\n",
    "        if method_name == \"add_argument\":\n",
    "            in_group = repr(type(self_var)).find(\"Group\") >= 0\n",
    "            self.process_argument(frame.f_locals, in_group)\n",
    "        elif method_name == \"add_mutually_exclusive_group\":\n",
    "            self.add_group(frame.f_locals, exclusive=True)\n",
    "        elif method_name == \"add_argument_group\":\n",
    "            # self.add_group(frame.f_locals, exclusive=False)\n",
    "            pass\n",
    "        elif method_name == \"parse_args\":\n",
    "            raise ParseInterrupt\n",
    "\n",
    "        return self.traceit"
   ]
  },
  {
   "cell_type": "markdown",
   "metadata": {
    "slideshow": {
     "slide_type": "subslide"
    }
   },
   "source": [
    "The `process_arguments()` now analyzes the arguments passed and adds them to the grammar:\n",
    "\n",
    "* If the argument starts with `-`, it gets added as an optional element to the `<option>` list\n",
    "* Otherwise, it gets added to the `<argument>` list.\n",
    "\n",
    "The optional `nargs` argument specifies how many arguments can follow.  If it is a number, we add the appropriate number of elements to the grammar; if it is an abstract specifier (say, `+` or `*`), we use it directly as EBNF operator.\n",
    "\n",
    "Given the large number of parameters and optional behavior, this is a somewhat messy function, but it does the job."
   ]
  },
  {
   "cell_type": "code",
   "execution_count": 28,
   "metadata": {
    "execution": {
     "iopub.execute_input": "2022-02-21T08:28:08.958668Z",
     "iopub.status.busy": "2022-02-21T08:28:08.957913Z",
     "iopub.status.idle": "2022-02-21T08:28:08.959797Z",
     "shell.execute_reply": "2022-02-21T08:28:08.960839Z"
    },
    "slideshow": {
     "slide_type": "subslide"
    }
   },
   "outputs": [],
   "source": [
    "class OptionGrammarMiner(OptionGrammarMiner):\n",
    "    def process_argument(self, locals, in_group):\n",
    "        args = locals[\"args\"]\n",
    "        kwargs = locals[\"kwargs\"]\n",
    "\n",
    "        if self.log:\n",
    "            print(args)\n",
    "            print(kwargs)\n",
    "            print()\n",
    "\n",
    "        for arg in args:\n",
    "            self.process_arg(arg, in_group, kwargs)"
   ]
  },
  {
   "cell_type": "code",
   "execution_count": 29,
   "metadata": {
    "execution": {
     "iopub.execute_input": "2022-02-21T08:28:08.968822Z",
     "iopub.status.busy": "2022-02-21T08:28:08.968112Z",
     "iopub.status.idle": "2022-02-21T08:28:08.969790Z",
     "shell.execute_reply": "2022-02-21T08:28:08.970336Z"
    },
    "slideshow": {
     "slide_type": "subslide"
    }
   },
   "outputs": [],
   "source": [
    "class OptionGrammarMiner(OptionGrammarMiner):\n",
    "    def process_arg(self, arg, in_group, kwargs):\n",
    "        if arg.startswith('-'):\n",
    "            if not in_group:\n",
    "                target = self.OPTION_SYMBOL\n",
    "            else:\n",
    "                target = self.current_group\n",
    "            metavar = None\n",
    "            arg = \" \" + arg\n",
    "        else:\n",
    "            target = self.ARGUMENTS_SYMBOL\n",
    "            metavar = arg\n",
    "            arg = \"\"\n",
    "\n",
    "        if \"nargs\" in kwargs:\n",
    "            nargs = kwargs[\"nargs\"]\n",
    "        else:\n",
    "            nargs = 1\n",
    "\n",
    "        param = self.add_parameter(kwargs, metavar)\n",
    "        if param == \"\":\n",
    "            nargs = 0\n",
    "\n",
    "        if isinstance(nargs, int):\n",
    "            for i in range(nargs):\n",
    "                arg += param\n",
    "        else:\n",
    "            assert nargs in \"?+*\"\n",
    "            arg += '(' + param + ')' + nargs\n",
    "\n",
    "        if target == self.OPTION_SYMBOL:\n",
    "            self.grammar[target].append(arg)\n",
    "        else:\n",
    "            self.grammar[target].append(arg)"
   ]
  },
  {
   "cell_type": "markdown",
   "metadata": {
    "slideshow": {
     "slide_type": "subslide"
    }
   },
   "source": [
    "The method `add_parameter()` handles possible parameters of options.  If the argument has an `action` defined, it takes no parameter.  Otherwise, we identify the type of the parameter (as `int` or `str`) and augment the grammar with an appropriate rule."
   ]
  },
  {
   "cell_type": "code",
   "execution_count": 30,
   "metadata": {
    "execution": {
     "iopub.execute_input": "2022-02-21T08:28:08.974865Z",
     "iopub.status.busy": "2022-02-21T08:28:08.974100Z",
     "iopub.status.idle": "2022-02-21T08:28:08.976614Z",
     "shell.execute_reply": "2022-02-21T08:28:08.977111Z"
    },
    "slideshow": {
     "slide_type": "skip"
    }
   },
   "outputs": [],
   "source": [
    "import inspect"
   ]
  },
  {
   "cell_type": "code",
   "execution_count": 31,
   "metadata": {
    "execution": {
     "iopub.execute_input": "2022-02-21T08:28:08.984522Z",
     "iopub.status.busy": "2022-02-21T08:28:08.983702Z",
     "iopub.status.idle": "2022-02-21T08:28:08.985781Z",
     "shell.execute_reply": "2022-02-21T08:28:08.986262Z"
    },
    "slideshow": {
     "slide_type": "subslide"
    }
   },
   "outputs": [],
   "source": [
    "class OptionGrammarMiner(OptionGrammarMiner):\n",
    "    def add_parameter(self, kwargs, metavar):\n",
    "        if \"action\" in kwargs:\n",
    "            # No parameter\n",
    "            return \"\"\n",
    "\n",
    "        type_ = \"str\"\n",
    "        if \"type\" in kwargs:\n",
    "            given_type = kwargs[\"type\"]\n",
    "            # int types come as '<class int>'\n",
    "            if inspect.isclass(given_type) and issubclass(given_type, int):\n",
    "                type_ = \"int\"\n",
    "\n",
    "        if metavar is None:\n",
    "            if \"metavar\" in kwargs:\n",
    "                metavar = kwargs[\"metavar\"]\n",
    "            else:\n",
    "                metavar = type_\n",
    "\n",
    "        self.add_type_rule(type_)\n",
    "        if metavar != type_:\n",
    "            self.add_metavar_rule(metavar, type_)\n",
    "\n",
    "        param = \" <\" + metavar + \">\"\n",
    "\n",
    "        return param"
   ]
  },
  {
   "cell_type": "markdown",
   "metadata": {
    "slideshow": {
     "slide_type": "subslide"
    }
   },
   "source": [
    "The method `add_type_rule()` adds a rule for parameter types to the grammar.  If the parameter is identified by a meta-variable (say, `N`), we add a rule for this as well to improve legibility."
   ]
  },
  {
   "cell_type": "code",
   "execution_count": 32,
   "metadata": {
    "execution": {
     "iopub.execute_input": "2022-02-21T08:28:08.992410Z",
     "iopub.status.busy": "2022-02-21T08:28:08.991784Z",
     "iopub.status.idle": "2022-02-21T08:28:08.993670Z",
     "shell.execute_reply": "2022-02-21T08:28:08.994086Z"
    },
    "slideshow": {
     "slide_type": "fragment"
    }
   },
   "outputs": [],
   "source": [
    "class OptionGrammarMiner(OptionGrammarMiner):\n",
    "    def add_type_rule(self, type_):\n",
    "        if type_ == \"int\":\n",
    "            self.add_int_rule()\n",
    "        else:\n",
    "            self.add_str_rule()\n",
    "\n",
    "    def add_int_rule(self):\n",
    "        self.grammar[\"<int>\"] = [\"(-)?<digit>+\"]\n",
    "        self.grammar[\"<digit>\"] = crange('0', '9')\n",
    "\n",
    "    def add_str_rule(self):\n",
    "        self.grammar[\"<str>\"] = [\"<char>+\"]\n",
    "        self.grammar[\"<char>\"] = srange(\n",
    "            string.digits\n",
    "            + string.ascii_letters\n",
    "            + string.punctuation)\n",
    "\n",
    "    def add_metavar_rule(self, metavar, type_):\n",
    "        self.grammar[\"<\" + metavar + \">\"] = [\"<\" + type_ + \">\"]"
   ]
  },
  {
   "cell_type": "markdown",
   "metadata": {
    "slideshow": {
     "slide_type": "subslide"
    }
   },
   "source": [
    "The method `add_group()` adds a new mutually exclusive group to the grammar.  We define a new symbol (say, `<group>`) for the options added to the group, and use the `required` and `exclusive` flags to define an appropriate expansion operator.  The group is then prefixed to the grammar, as in\n",
    "\n",
    "```\n",
    "<start> ::= <group><option>* <arguments>\n",
    "<group> ::= <empty>\n",
    "```\n",
    "\n",
    "and filled with the next calls to `add_argument()` within the group."
   ]
  },
  {
   "cell_type": "code",
   "execution_count": 33,
   "metadata": {
    "execution": {
     "iopub.execute_input": "2022-02-21T08:28:09.001028Z",
     "iopub.status.busy": "2022-02-21T08:28:08.999949Z",
     "iopub.status.idle": "2022-02-21T08:28:09.002463Z",
     "shell.execute_reply": "2022-02-21T08:28:09.003068Z"
    },
    "slideshow": {
     "slide_type": "subslide"
    }
   },
   "outputs": [],
   "source": [
    "class OptionGrammarMiner(OptionGrammarMiner):\n",
    "    def add_group(self, locals, exclusive):\n",
    "        kwargs = locals[\"kwargs\"]\n",
    "        if self.log:\n",
    "            print(kwargs)\n",
    "\n",
    "        required = kwargs.get(\"required\", False)\n",
    "        group = new_symbol(self.grammar, \"<group>\")\n",
    "\n",
    "        if required and exclusive:\n",
    "            group_expansion = group\n",
    "        if required and not exclusive:\n",
    "            group_expansion = group + \"+\"\n",
    "        if not required and exclusive:\n",
    "            group_expansion = group + \"?\"\n",
    "        if not required and not exclusive:\n",
    "            group_expansion = group + \"*\"\n",
    "\n",
    "        self.grammar[START_SYMBOL][0] = group_expansion + \\\n",
    "            self.grammar[START_SYMBOL][0]\n",
    "        self.grammar[group] = []\n",
    "        self.current_group = group"
   ]
  },
  {
   "cell_type": "markdown",
   "metadata": {
    "slideshow": {
     "slide_type": "subslide"
    }
   },
   "source": [
    "That's it!  With this, we can now extract the grammar from our `process_numbers()` program.  Turning on logging again reveals the variables we draw upon."
   ]
  },
  {
   "cell_type": "code",
   "execution_count": 34,
   "metadata": {
    "execution": {
     "iopub.execute_input": "2022-02-21T08:28:09.007888Z",
     "iopub.status.busy": "2022-02-21T08:28:09.007132Z",
     "iopub.status.idle": "2022-02-21T08:28:09.011580Z",
     "shell.execute_reply": "2022-02-21T08:28:09.012017Z"
    },
    "slideshow": {
     "slide_type": "subslide"
    }
   },
   "outputs": [
    {
     "name": "stdout",
     "output_type": "stream",
     "text": [
      "('-h', '--help')\n",
      "{'action': 'help', 'default': '==SUPPRESS==', 'help': 'show this help message and exit'}\n",
      "\n",
      "('integers',)\n",
      "{'metavar': 'N', 'type': <class 'int'>, 'nargs': '+', 'help': 'an integer for the accumulator'}\n",
      "\n",
      "{'required': True}\n",
      "('--sum',)\n",
      "{'dest': 'accumulate', 'action': 'store_const', 'const': <built-in function sum>, 'help': 'sum the integers'}\n",
      "\n",
      "('--min',)\n",
      "{'dest': 'accumulate', 'action': 'store_const', 'const': <built-in function min>, 'help': 'compute the minimum'}\n",
      "\n",
      "('--max',)\n",
      "{'dest': 'accumulate', 'action': 'store_const', 'const': <built-in function max>, 'help': 'compute the maximum'}\n",
      "\n"
     ]
    }
   ],
   "source": [
    "miner = OptionGrammarMiner(process_numbers, log=True)\n",
    "process_numbers_grammar = miner.mine_ebnf_grammar()"
   ]
  },
  {
   "cell_type": "markdown",
   "metadata": {
    "slideshow": {
     "slide_type": "subslide"
    }
   },
   "source": [
    "Here is the extracted grammar:"
   ]
  },
  {
   "cell_type": "code",
   "execution_count": 35,
   "metadata": {
    "execution": {
     "iopub.execute_input": "2022-02-21T08:28:09.019108Z",
     "iopub.status.busy": "2022-02-21T08:28:09.017831Z",
     "iopub.status.idle": "2022-02-21T08:28:09.021578Z",
     "shell.execute_reply": "2022-02-21T08:28:09.021988Z"
    },
    "slideshow": {
     "slide_type": "fragment"
    }
   },
   "outputs": [
    {
     "data": {
      "text/plain": [
       "{'<start>': ['<group>(<option>)*<arguments>'],\n",
       " '<option>': [' -h', ' --help'],\n",
       " '<arguments>': ['( <integers>)+'],\n",
       " '<int>': ['(-)?<digit>+'],\n",
       " '<digit>': ['0', '1', '2', '3', '4', '5', '6', '7', '8', '9'],\n",
       " '<integers>': ['<int>'],\n",
       " '<group>': [' --sum', ' --min', ' --max']}"
      ]
     },
     "execution_count": 35,
     "metadata": {},
     "output_type": "execute_result"
    }
   ],
   "source": [
    "process_numbers_grammar"
   ]
  },
  {
   "cell_type": "markdown",
   "metadata": {
    "slideshow": {
     "slide_type": "subslide"
    }
   },
   "source": [
    "The grammar properly identifies the group found:"
   ]
  },
  {
   "cell_type": "code",
   "execution_count": 36,
   "metadata": {
    "execution": {
     "iopub.execute_input": "2022-02-21T08:28:09.027131Z",
     "iopub.status.busy": "2022-02-21T08:28:09.026316Z",
     "iopub.status.idle": "2022-02-21T08:28:09.030320Z",
     "shell.execute_reply": "2022-02-21T08:28:09.031035Z"
    },
    "slideshow": {
     "slide_type": "fragment"
    }
   },
   "outputs": [
    {
     "data": {
      "text/plain": [
       "['<group>(<option>)*<arguments>']"
      ]
     },
     "execution_count": 36,
     "metadata": {},
     "output_type": "execute_result"
    }
   ],
   "source": [
    "process_numbers_grammar[\"<start>\"]"
   ]
  },
  {
   "cell_type": "code",
   "execution_count": 37,
   "metadata": {
    "execution": {
     "iopub.execute_input": "2022-02-21T08:28:09.035751Z",
     "iopub.status.busy": "2022-02-21T08:28:09.035106Z",
     "iopub.status.idle": "2022-02-21T08:28:09.037607Z",
     "shell.execute_reply": "2022-02-21T08:28:09.038008Z"
    },
    "slideshow": {
     "slide_type": "fragment"
    }
   },
   "outputs": [
    {
     "data": {
      "text/plain": [
       "[' --sum', ' --min', ' --max']"
      ]
     },
     "execution_count": 37,
     "metadata": {},
     "output_type": "execute_result"
    }
   ],
   "source": [
    "process_numbers_grammar[\"<group>\"]"
   ]
  },
  {
   "cell_type": "markdown",
   "metadata": {
    "slideshow": {
     "slide_type": "fragment"
    }
   },
   "source": [
    "It also identifies a `--help` option provided not by us, but by the `argparse` module:"
   ]
  },
  {
   "cell_type": "code",
   "execution_count": 38,
   "metadata": {
    "execution": {
     "iopub.execute_input": "2022-02-21T08:28:09.042538Z",
     "iopub.status.busy": "2022-02-21T08:28:09.041866Z",
     "iopub.status.idle": "2022-02-21T08:28:09.044463Z",
     "shell.execute_reply": "2022-02-21T08:28:09.044997Z"
    },
    "slideshow": {
     "slide_type": "fragment"
    }
   },
   "outputs": [
    {
     "data": {
      "text/plain": [
       "[' -h', ' --help']"
      ]
     },
     "execution_count": 38,
     "metadata": {},
     "output_type": "execute_result"
    }
   ],
   "source": [
    "process_numbers_grammar[\"<option>\"]"
   ]
  },
  {
   "cell_type": "markdown",
   "metadata": {
    "slideshow": {
     "slide_type": "subslide"
    }
   },
   "source": [
    "The grammar also correctly identifies the types of the arguments:"
   ]
  },
  {
   "cell_type": "code",
   "execution_count": 39,
   "metadata": {
    "execution": {
     "iopub.execute_input": "2022-02-21T08:28:09.050515Z",
     "iopub.status.busy": "2022-02-21T08:28:09.049638Z",
     "iopub.status.idle": "2022-02-21T08:28:09.052675Z",
     "shell.execute_reply": "2022-02-21T08:28:09.053161Z"
    },
    "slideshow": {
     "slide_type": "fragment"
    }
   },
   "outputs": [
    {
     "data": {
      "text/plain": [
       "['( <integers>)+']"
      ]
     },
     "execution_count": 39,
     "metadata": {},
     "output_type": "execute_result"
    }
   ],
   "source": [
    "process_numbers_grammar[\"<arguments>\"]"
   ]
  },
  {
   "cell_type": "code",
   "execution_count": 40,
   "metadata": {
    "execution": {
     "iopub.execute_input": "2022-02-21T08:28:09.057821Z",
     "iopub.status.busy": "2022-02-21T08:28:09.056966Z",
     "iopub.status.idle": "2022-02-21T08:28:09.060512Z",
     "shell.execute_reply": "2022-02-21T08:28:09.061070Z"
    },
    "slideshow": {
     "slide_type": "fragment"
    }
   },
   "outputs": [
    {
     "data": {
      "text/plain": [
       "['<int>']"
      ]
     },
     "execution_count": 40,
     "metadata": {},
     "output_type": "execute_result"
    }
   ],
   "source": [
    "process_numbers_grammar[\"<integers>\"]"
   ]
  },
  {
   "cell_type": "markdown",
   "metadata": {
    "slideshow": {
     "slide_type": "fragment"
    }
   },
   "source": [
    "The rules for `int` are set as defined by `add_int_rule()`"
   ]
  },
  {
   "cell_type": "code",
   "execution_count": 41,
   "metadata": {
    "execution": {
     "iopub.execute_input": "2022-02-21T08:28:09.065877Z",
     "iopub.status.busy": "2022-02-21T08:28:09.065103Z",
     "iopub.status.idle": "2022-02-21T08:28:09.067960Z",
     "shell.execute_reply": "2022-02-21T08:28:09.068597Z"
    },
    "slideshow": {
     "slide_type": "fragment"
    }
   },
   "outputs": [
    {
     "data": {
      "text/plain": [
       "['(-)?<digit>+']"
      ]
     },
     "execution_count": 41,
     "metadata": {},
     "output_type": "execute_result"
    }
   ],
   "source": [
    "process_numbers_grammar[\"<int>\"]"
   ]
  },
  {
   "cell_type": "markdown",
   "metadata": {
    "slideshow": {
     "slide_type": "subslide"
    }
   },
   "source": [
    "We can take this grammar and convert it to BNF, such that we can fuzz with it right away:"
   ]
  },
  {
   "cell_type": "code",
   "execution_count": 42,
   "metadata": {
    "execution": {
     "iopub.execute_input": "2022-02-21T08:28:09.072581Z",
     "iopub.status.busy": "2022-02-21T08:28:09.072014Z",
     "iopub.status.idle": "2022-02-21T08:28:09.074481Z",
     "shell.execute_reply": "2022-02-21T08:28:09.073970Z"
    },
    "slideshow": {
     "slide_type": "fragment"
    }
   },
   "outputs": [],
   "source": [
    "assert is_valid_grammar(process_numbers_grammar)"
   ]
  },
  {
   "cell_type": "code",
   "execution_count": 43,
   "metadata": {
    "execution": {
     "iopub.execute_input": "2022-02-21T08:28:09.078975Z",
     "iopub.status.busy": "2022-02-21T08:28:09.078074Z",
     "iopub.status.idle": "2022-02-21T08:28:09.080741Z",
     "shell.execute_reply": "2022-02-21T08:28:09.081304Z"
    },
    "slideshow": {
     "slide_type": "fragment"
    }
   },
   "outputs": [],
   "source": [
    "grammar = convert_ebnf_grammar(process_numbers_grammar)\n",
    "assert is_valid_grammar(grammar)"
   ]
  },
  {
   "cell_type": "code",
   "execution_count": 44,
   "metadata": {
    "execution": {
     "iopub.execute_input": "2022-02-21T08:28:09.112795Z",
     "iopub.status.busy": "2022-02-21T08:28:09.102567Z",
     "iopub.status.idle": "2022-02-21T08:28:09.228547Z",
     "shell.execute_reply": "2022-02-21T08:28:09.229394Z"
    },
    "slideshow": {
     "slide_type": "fragment"
    }
   },
   "outputs": [
    {
     "name": "stdout",
     "output_type": "stream",
     "text": [
      " --sum 9\n",
      " --max -h --help --help -16 -0\n",
      " --min --help 2745341 8\n",
      " --min 1 27\n",
      " --sum --help --help -2\n",
      " --sum --help 0 3 -77\n",
      " --sum -3\n",
      " --sum --help 429 8 10 0295 -694 1\n",
      " --max -h 91 -1425 99\n",
      " --sum -795 -94 8 -44\n"
     ]
    }
   ],
   "source": [
    "f = GrammarCoverageFuzzer(grammar)\n",
    "for i in range(10):\n",
    "    print(f.fuzz())"
   ]
  },
  {
   "cell_type": "markdown",
   "metadata": {
    "slideshow": {
     "slide_type": "fragment"
    }
   },
   "source": [
    "Each and every invocation adheres to the rules as set forth in the `argparse` calls.  By mining options and arguments from existing programs, we can now fuzz these options out of the box – without having to specify a grammar."
   ]
  },
  {
   "cell_type": "markdown",
   "metadata": {
    "slideshow": {
     "slide_type": "slide"
    },
    "toc-hr-collapsed": true
   },
   "source": [
    "## Testing Autopep8"
   ]
  },
  {
   "cell_type": "markdown",
   "metadata": {
    "slideshow": {
     "slide_type": "fragment"
    }
   },
   "source": [
    "Let us try out the option grammar miner on real-world Python programs.  `autopep8` is a tool that automatically converts Python code to the [PEP 8 Style Guide for Python Code](https://www.python.org/dev/peps/pep-0008/).  (Actually, all Python code in this book runs through `autopep8` during production.)  `autopep8` offers a wide range of options, as can be seen by invoking it with `--help`:"
   ]
  },
  {
   "cell_type": "code",
   "execution_count": 45,
   "metadata": {
    "execution": {
     "iopub.execute_input": "2022-02-21T08:28:09.235216Z",
     "iopub.status.busy": "2022-02-21T08:28:09.234374Z",
     "iopub.status.idle": "2022-02-21T08:28:09.458911Z",
     "shell.execute_reply": "2022-02-21T08:28:09.459545Z"
    },
    "slideshow": {
     "slide_type": "subslide"
    }
   },
   "outputs": [
    {
     "name": "stdout",
     "output_type": "stream",
     "text": [
      "usage: autopep8 [-h] [--version] [-v] [-d] [-i] [--global-config filename]\r\n",
      "                [--ignore-local-config] [-r] [-j n] [-p n] [-a]\r\n",
      "                [--experimental] [--exclude globs] [--list-fixes]\r\n",
      "                [--ignore errors] [--select errors] [--max-line-length n]\r\n",
      "                [--line-range line line] [--hang-closing] [--exit-code]\r\n",
      "                [files ...]\r\n",
      "\r\n",
      "Automatically formats Python code to conform to the PEP 8 style guide.\r\n",
      "\r\n",
      "positional arguments:\r\n",
      "  files                 files to format or '-' for standard in\r\n",
      "\r\n",
      "optional arguments:\r\n",
      "  -h, --help            show this help message and exit\r\n",
      "  --version             show program's version number and exit\r\n",
      "  -v, --verbose         print verbose messages; multiple -v result in more\r\n",
      "                        verbose messages\r\n",
      "  -d, --diff            print the diff for the fixed source\r\n",
      "  -i, --in-place        make changes to files in place\r\n",
      "  --global-config filename\r\n",
      "                        path to a global pep8 config file; if this file does\r\n",
      "                        not exist then this is ignored (default:\r\n",
      "                        /Users/zeller/.config/pep8)\r\n",
      "  --ignore-local-config\r\n",
      "                        don't look for and apply local config files; if not\r\n",
      "                        passed, defaults are updated with any config files in\r\n",
      "                        the project's root directory\r\n",
      "  -r, --recursive       run recursively over directories; must be used with\r\n",
      "                        --in-place or --diff\r\n",
      "  -j n, --jobs n        number of parallel jobs; match CPU count if value is\r\n",
      "                        less than 1\r\n",
      "  -p n, --pep8-passes n\r\n",
      "                        maximum number of additional pep8 passes (default:\r\n",
      "                        infinite)\r\n",
      "  -a, --aggressive      enable non-whitespace changes; multiple -a result in\r\n",
      "                        more aggressive changes\r\n",
      "  --experimental        enable experimental fixes\r\n",
      "  --exclude globs       exclude file/directory names that match these comma-\r\n",
      "                        separated globs\r\n",
      "  --list-fixes          list codes for fixes; used by --ignore and --select\r\n",
      "  --ignore errors       do not fix these errors/warnings (default:\r\n",
      "                        E226,E24,W50,W690)\r\n",
      "  --select errors       fix only these errors/warnings (e.g. E4,W)\r\n",
      "  --max-line-length n   set maximum allowed line length (default: 79)\r\n",
      "  --line-range line line, --range line line\r\n",
      "                        only fix errors found within this inclusive range of\r\n",
      "                        line numbers (e.g. 1 99); line numbers are indexed at\r\n",
      "                        1\r\n",
      "  --hang-closing        hang-closing option passed to pycodestyle\r\n",
      "  --exit-code           change to behavior of exit code. default behavior of\r\n",
      "                        return value, 0 is no differences, 1 is error exit.\r\n",
      "                        return 2 when add this option. 2 is exists\r\n",
      "                        differences.\r\n"
     ]
    }
   ],
   "source": [
    "!autopep8 --help"
   ]
  },
  {
   "cell_type": "markdown",
   "metadata": {
    "slideshow": {
     "slide_type": "subslide"
    }
   },
   "source": [
    "### Autopep8 Setup\n",
    "\n",
    "We want to systematically test these options.  In order to deploy our configuration grammar miner, we need to find the source code of the executable:"
   ]
  },
  {
   "cell_type": "code",
   "execution_count": 46,
   "metadata": {
    "execution": {
     "iopub.execute_input": "2022-02-21T08:28:09.463955Z",
     "iopub.status.busy": "2022-02-21T08:28:09.463385Z",
     "iopub.status.idle": "2022-02-21T08:28:09.465042Z",
     "shell.execute_reply": "2022-02-21T08:28:09.465624Z"
    },
    "slideshow": {
     "slide_type": "skip"
    }
   },
   "outputs": [],
   "source": [
    "import os"
   ]
  },
  {
   "cell_type": "code",
   "execution_count": 47,
   "metadata": {
    "execution": {
     "iopub.execute_input": "2022-02-21T08:28:09.470196Z",
     "iopub.status.busy": "2022-02-21T08:28:09.469560Z",
     "iopub.status.idle": "2022-02-21T08:28:09.471329Z",
     "shell.execute_reply": "2022-02-21T08:28:09.471751Z"
    },
    "slideshow": {
     "slide_type": "fragment"
    }
   },
   "outputs": [],
   "source": [
    "def find_executable(name):\n",
    "    for path in os.get_exec_path():\n",
    "        qualified_name = os.path.join(path, name)\n",
    "        if os.path.exists(qualified_name):\n",
    "            return qualified_name\n",
    "    return None"
   ]
  },
  {
   "cell_type": "code",
   "execution_count": 48,
   "metadata": {
    "execution": {
     "iopub.execute_input": "2022-02-21T08:28:09.475735Z",
     "iopub.status.busy": "2022-02-21T08:28:09.474725Z",
     "iopub.status.idle": "2022-02-21T08:28:09.478142Z",
     "shell.execute_reply": "2022-02-21T08:28:09.478756Z"
    },
    "slideshow": {
     "slide_type": "fragment"
    }
   },
   "outputs": [
    {
     "data": {
      "text/plain": [
       "'/Users/zeller/.pyenv/versions/3.9.7/bin/autopep8'"
      ]
     },
     "execution_count": 48,
     "metadata": {},
     "output_type": "execute_result"
    }
   ],
   "source": [
    "autopep8_executable = find_executable(\"autopep8\")\n",
    "assert autopep8_executable is not None\n",
    "autopep8_executable"
   ]
  },
  {
   "cell_type": "markdown",
   "metadata": {
    "slideshow": {
     "slide_type": "subslide"
    }
   },
   "source": [
    "Next, we build a function that reads the contents of the file and executes it."
   ]
  },
  {
   "cell_type": "code",
   "execution_count": 49,
   "metadata": {
    "execution": {
     "iopub.execute_input": "2022-02-21T08:28:09.484048Z",
     "iopub.status.busy": "2022-02-21T08:28:09.483276Z",
     "iopub.status.idle": "2022-02-21T08:28:09.485274Z",
     "shell.execute_reply": "2022-02-21T08:28:09.485812Z"
    },
    "slideshow": {
     "slide_type": "fragment"
    }
   },
   "outputs": [],
   "source": [
    "def autopep8():\n",
    "    executable = find_executable(\"autopep8\")\n",
    "\n",
    "    # First line has to contain \"/usr/bin/env python\" or like\n",
    "    first_line = open(executable).readline()\n",
    "    assert first_line.find(\"python\") >= 0\n",
    "\n",
    "    contents = open(executable).read()\n",
    "    exec(contents)"
   ]
  },
  {
   "cell_type": "markdown",
   "metadata": {
    "slideshow": {
     "slide_type": "subslide"
    }
   },
   "source": [
    "### Mining an Autopep8 Grammar\n",
    "\n",
    "We can use the `autopep8()` function in our grammar miner:"
   ]
  },
  {
   "cell_type": "code",
   "execution_count": 50,
   "metadata": {
    "execution": {
     "iopub.execute_input": "2022-02-21T08:28:09.490645Z",
     "iopub.status.busy": "2022-02-21T08:28:09.489568Z",
     "iopub.status.idle": "2022-02-21T08:28:09.491942Z",
     "shell.execute_reply": "2022-02-21T08:28:09.492526Z"
    },
    "slideshow": {
     "slide_type": "fragment"
    }
   },
   "outputs": [],
   "source": [
    "autopep8_miner = OptionGrammarMiner(autopep8)"
   ]
  },
  {
   "cell_type": "markdown",
   "metadata": {
    "slideshow": {
     "slide_type": "fragment"
    }
   },
   "source": [
    "and extract a grammar for it:"
   ]
  },
  {
   "cell_type": "code",
   "execution_count": 51,
   "metadata": {
    "execution": {
     "iopub.execute_input": "2022-02-21T08:28:09.496888Z",
     "iopub.status.busy": "2022-02-21T08:28:09.496092Z",
     "iopub.status.idle": "2022-02-21T08:28:09.554677Z",
     "shell.execute_reply": "2022-02-21T08:28:09.555246Z"
    },
    "slideshow": {
     "slide_type": "fragment"
    }
   },
   "outputs": [],
   "source": [
    "autopep8_ebnf_grammar = autopep8_miner.mine_ebnf_grammar()"
   ]
  },
  {
   "cell_type": "markdown",
   "metadata": {
    "slideshow": {
     "slide_type": "fragment"
    }
   },
   "source": [
    "This works because here, `autopep8` is not a separate process (and a separate Python interpreter), but we run the `autopep8()` function (and the `autopep8` code) in our current Python interpreter – up to the call to `parse_args()`, where we interrupt execution again.  At this point, the `autopep8` code has done nothing but setting up the argument parser – which is what we are interested in."
   ]
  },
  {
   "cell_type": "markdown",
   "metadata": {
    "slideshow": {
     "slide_type": "subslide"
    }
   },
   "source": [
    "The grammar options mined reflect precisely the options seen when providing `--help`:"
   ]
  },
  {
   "cell_type": "code",
   "execution_count": 52,
   "metadata": {
    "execution": {
     "iopub.execute_input": "2022-02-21T08:28:09.560370Z",
     "iopub.status.busy": "2022-02-21T08:28:09.559227Z",
     "iopub.status.idle": "2022-02-21T08:28:09.562183Z",
     "shell.execute_reply": "2022-02-21T08:28:09.562734Z"
    },
    "slideshow": {
     "slide_type": "fragment"
    }
   },
   "outputs": [
    {
     "name": "stdout",
     "output_type": "stream",
     "text": [
      "[' -h', ' --help', ' --version', ' -v', ' --verbose', ' -d', ' --diff', ' -i', ' --in-place', ' --global-config <filename>', ' --ignore-local-config', ' -r', ' --recursive', ' -j <n>', ' --jobs <n>', ' -p <n>', ' --pep8-passes <n>', ' -a', ' --aggressive', ' --experimental', ' --exclude <globs>', ' --list-fixes', ' --ignore <errors>', ' --select <errors>', ' --max-line-length <n>', ' --line-range <line> <line>', ' --range <line> <line>', ' --indent-size <int>', ' --hang-closing', ' --exit-code']\n"
     ]
    }
   ],
   "source": [
    "print(autopep8_ebnf_grammar[\"<option>\"])"
   ]
  },
  {
   "cell_type": "markdown",
   "metadata": {
    "slideshow": {
     "slide_type": "subslide"
    }
   },
   "source": [
    "Metavariables like `<n>` or `<line>` are placeholders for integers.  We assume all metavariables of the same name have the same type:"
   ]
  },
  {
   "cell_type": "code",
   "execution_count": 53,
   "metadata": {
    "execution": {
     "iopub.execute_input": "2022-02-21T08:28:09.568793Z",
     "iopub.status.busy": "2022-02-21T08:28:09.567599Z",
     "iopub.status.idle": "2022-02-21T08:28:09.571272Z",
     "shell.execute_reply": "2022-02-21T08:28:09.571710Z"
    },
    "slideshow": {
     "slide_type": "fragment"
    }
   },
   "outputs": [
    {
     "data": {
      "text/plain": [
       "['<int>']"
      ]
     },
     "execution_count": 53,
     "metadata": {},
     "output_type": "execute_result"
    }
   ],
   "source": [
    "autopep8_ebnf_grammar[\"<line>\"]"
   ]
  },
  {
   "cell_type": "markdown",
   "metadata": {
    "slideshow": {
     "slide_type": "fragment"
    }
   },
   "source": [
    "The grammar miner has inferred that the argument to `autopep8` is a list of files:"
   ]
  },
  {
   "cell_type": "code",
   "execution_count": 54,
   "metadata": {
    "execution": {
     "iopub.execute_input": "2022-02-21T08:28:09.576085Z",
     "iopub.status.busy": "2022-02-21T08:28:09.575378Z",
     "iopub.status.idle": "2022-02-21T08:28:09.578433Z",
     "shell.execute_reply": "2022-02-21T08:28:09.579033Z"
    },
    "slideshow": {
     "slide_type": "fragment"
    }
   },
   "outputs": [
    {
     "data": {
      "text/plain": [
       "['( <files>)*']"
      ]
     },
     "execution_count": 54,
     "metadata": {},
     "output_type": "execute_result"
    }
   ],
   "source": [
    "autopep8_ebnf_grammar[\"<arguments>\"]"
   ]
  },
  {
   "cell_type": "markdown",
   "metadata": {
    "slideshow": {
     "slide_type": "fragment"
    }
   },
   "source": [
    "which in turn all are strings:"
   ]
  },
  {
   "cell_type": "code",
   "execution_count": 55,
   "metadata": {
    "execution": {
     "iopub.execute_input": "2022-02-21T08:28:09.585205Z",
     "iopub.status.busy": "2022-02-21T08:28:09.584469Z",
     "iopub.status.idle": "2022-02-21T08:28:09.587788Z",
     "shell.execute_reply": "2022-02-21T08:28:09.588345Z"
    },
    "slideshow": {
     "slide_type": "fragment"
    }
   },
   "outputs": [
    {
     "data": {
      "text/plain": [
       "['<str>']"
      ]
     },
     "execution_count": 55,
     "metadata": {},
     "output_type": "execute_result"
    }
   ],
   "source": [
    "autopep8_ebnf_grammar[\"<files>\"]"
   ]
  },
  {
   "cell_type": "markdown",
   "metadata": {
    "slideshow": {
     "slide_type": "subslide"
    }
   },
   "source": [
    "As we are only interested in testing options, not arguments, we fix the arguments to a single mandatory input.  (Otherwise, we'd have plenty of random file names generated.)"
   ]
  },
  {
   "cell_type": "code",
   "execution_count": 56,
   "metadata": {
    "execution": {
     "iopub.execute_input": "2022-02-21T08:28:09.593581Z",
     "iopub.status.busy": "2022-02-21T08:28:09.592838Z",
     "iopub.status.idle": "2022-02-21T08:28:09.594691Z",
     "shell.execute_reply": "2022-02-21T08:28:09.595206Z"
    },
    "slideshow": {
     "slide_type": "fragment"
    }
   },
   "outputs": [],
   "source": [
    "autopep8_ebnf_grammar[\"<arguments>\"] = [\" <files>\"]\n",
    "autopep8_ebnf_grammar[\"<files>\"] = [\"foo.py\"]\n",
    "assert is_valid_grammar(autopep8_ebnf_grammar)"
   ]
  },
  {
   "cell_type": "markdown",
   "metadata": {
    "slideshow": {
     "slide_type": "subslide"
    }
   },
   "source": [
    "### Creating Autopep8 Options"
   ]
  },
  {
   "cell_type": "markdown",
   "metadata": {
    "slideshow": {
     "slide_type": "fragment"
    }
   },
   "source": [
    "Let us now use the inferred grammar for fuzzing.  Again, we convert the EBNF grammar into a regular BNF grammar:"
   ]
  },
  {
   "cell_type": "code",
   "execution_count": 57,
   "metadata": {
    "execution": {
     "iopub.execute_input": "2022-02-21T08:28:09.601234Z",
     "iopub.status.busy": "2022-02-21T08:28:09.600257Z",
     "iopub.status.idle": "2022-02-21T08:28:09.602356Z",
     "shell.execute_reply": "2022-02-21T08:28:09.602781Z"
    },
    "slideshow": {
     "slide_type": "fragment"
    }
   },
   "outputs": [],
   "source": [
    "autopep8_grammar = convert_ebnf_grammar(autopep8_ebnf_grammar)\n",
    "assert is_valid_grammar(autopep8_grammar)"
   ]
  },
  {
   "cell_type": "markdown",
   "metadata": {
    "slideshow": {
     "slide_type": "fragment"
    }
   },
   "source": [
    "And we can use the grammar for fuzzing all options:"
   ]
  },
  {
   "cell_type": "code",
   "execution_count": 58,
   "metadata": {
    "execution": {
     "iopub.execute_input": "2022-02-21T08:28:09.614393Z",
     "iopub.status.busy": "2022-02-21T08:28:09.613577Z",
     "iopub.status.idle": "2022-02-21T08:28:09.700185Z",
     "shell.execute_reply": "2022-02-21T08:28:09.700652Z"
    },
    "slideshow": {
     "slide_type": "subslide"
    }
   },
   "outputs": [
    {
     "name": "stdout",
     "output_type": "stream",
     "text": [
      " -r foo.py\n",
      " -h --experimental --hang-closing foo.py\n",
      " --list-fixes -v foo.py\n",
      " --aggressive -d foo.py\n",
      " --indent-size 9 --help foo.py\n",
      " --exit-code --recursive foo.py\n",
      " --diff --version -i foo.py\n",
      " --max-line-length 0 --in-place --verbose foo.py\n",
      " --ignore-local-config -a foo.py\n",
      " --select x -i --exit-code foo.py\n",
      " -j 8 --diff foo.py\n",
      " -d -v -d foo.py\n",
      " -p 6 -i foo.py\n",
      " -v --diff foo.py\n",
      " --ignore uA --recursive foo.py\n",
      " --jobs 5 -r foo.py\n",
      " --range 4 1 foo.py\n",
      " --ignore-local-config -i foo.py\n",
      " -r --exit-code foo.py\n",
      " -v -r foo.py\n"
     ]
    }
   ],
   "source": [
    "f = GrammarCoverageFuzzer(autopep8_grammar, max_nonterminals=4)\n",
    "for i in range(20):\n",
    "    print(f.fuzz())"
   ]
  },
  {
   "cell_type": "markdown",
   "metadata": {
    "slideshow": {
     "slide_type": "subslide"
    }
   },
   "source": [
    "Let us apply these options on the actual program.  We need a file `foo.py` that will serve as input: (Note that the following commands will overwrite the file `foo.py`, if it already exists in the current working directory. Be aware of this, if you downloaded the notebooks and are working locally.)"
   ]
  },
  {
   "cell_type": "code",
   "execution_count": 59,
   "metadata": {
    "execution": {
     "iopub.execute_input": "2022-02-21T08:28:09.704470Z",
     "iopub.status.busy": "2022-02-21T08:28:09.703848Z",
     "iopub.status.idle": "2022-02-21T08:28:09.705687Z",
     "shell.execute_reply": "2022-02-21T08:28:09.706094Z"
    },
    "slideshow": {
     "slide_type": "fragment"
    }
   },
   "outputs": [],
   "source": [
    "def create_foo_py():\n",
    "    open(\"foo.py\", \"w\").write(\"\"\"\n",
    "def twice(x = 2):\n",
    "    return  x  +  x\n",
    "\"\"\")"
   ]
  },
  {
   "cell_type": "code",
   "execution_count": 60,
   "metadata": {
    "execution": {
     "iopub.execute_input": "2022-02-21T08:28:09.709390Z",
     "iopub.status.busy": "2022-02-21T08:28:09.708818Z",
     "iopub.status.idle": "2022-02-21T08:28:09.710883Z",
     "shell.execute_reply": "2022-02-21T08:28:09.711344Z"
    },
    "slideshow": {
     "slide_type": "fragment"
    }
   },
   "outputs": [],
   "source": [
    "create_foo_py()"
   ]
  },
  {
   "cell_type": "code",
   "execution_count": 61,
   "metadata": {
    "execution": {
     "iopub.execute_input": "2022-02-21T08:28:09.715578Z",
     "iopub.status.busy": "2022-02-21T08:28:09.714638Z",
     "iopub.status.idle": "2022-02-21T08:28:09.717595Z",
     "shell.execute_reply": "2022-02-21T08:28:09.718098Z"
    },
    "slideshow": {
     "slide_type": "fragment"
    }
   },
   "outputs": [
    {
     "name": "stdout",
     "output_type": "stream",
     "text": [
      "\n",
      "def twice(x = 2):\n",
      "    return  x  +  x\n"
     ]
    }
   ],
   "source": [
    "print(open(\"foo.py\").read(), end=\"\")"
   ]
  },
  {
   "cell_type": "markdown",
   "metadata": {
    "slideshow": {
     "slide_type": "fragment"
    }
   },
   "source": [
    "We see how `autopep8` fixes the spacing:"
   ]
  },
  {
   "cell_type": "code",
   "execution_count": 62,
   "metadata": {
    "execution": {
     "iopub.execute_input": "2022-02-21T08:28:09.723083Z",
     "iopub.status.busy": "2022-02-21T08:28:09.722490Z",
     "iopub.status.idle": "2022-02-21T08:28:09.975196Z",
     "shell.execute_reply": "2022-02-21T08:28:09.975902Z"
    },
    "slideshow": {
     "slide_type": "fragment"
    }
   },
   "outputs": [
    {
     "name": "stdout",
     "output_type": "stream",
     "text": [
      "\r\n",
      "def twice(x=2):\r\n",
      "    return x + x\r\n"
     ]
    }
   ],
   "source": [
    "!autopep8 foo.py"
   ]
  },
  {
   "cell_type": "markdown",
   "metadata": {
    "slideshow": {
     "slide_type": "subslide"
    }
   },
   "source": [
    "Let us now put things together.  We define a `ProgramRunner` that will run the `autopep8` executable with arguments coming from the mined `autopep8` grammar."
   ]
  },
  {
   "cell_type": "code",
   "execution_count": 63,
   "metadata": {
    "execution": {
     "iopub.execute_input": "2022-02-21T08:28:09.984655Z",
     "iopub.status.busy": "2022-02-21T08:28:09.981613Z",
     "iopub.status.idle": "2022-02-21T08:28:09.986926Z",
     "shell.execute_reply": "2022-02-21T08:28:09.988143Z"
    },
    "slideshow": {
     "slide_type": "skip"
    }
   },
   "outputs": [],
   "source": [
    "from Fuzzer import ProgramRunner"
   ]
  },
  {
   "cell_type": "markdown",
   "metadata": {
    "slideshow": {
     "slide_type": "fragment"
    }
   },
   "source": [
    "Running `autopep8` with the mined options reveals a surprisingly high number of passing runs.  (We see that some options depend on each other or are mutually exclusive, but this is handled by the program logic, not the argument parser, and hence out of our scope.)  The `GrammarCoverageFuzzer` ensures that each option is tested at least once.  (Digits and letters, too, by the way.)"
   ]
  },
  {
   "cell_type": "code",
   "execution_count": 64,
   "metadata": {
    "execution": {
     "iopub.execute_input": "2022-02-21T08:28:09.998932Z",
     "iopub.status.busy": "2022-02-21T08:28:09.997537Z",
     "iopub.status.idle": "2022-02-21T08:28:12.311668Z",
     "shell.execute_reply": "2022-02-21T08:28:12.312247Z"
    },
    "slideshow": {
     "slide_type": "subslide"
    }
   },
   "outputs": [
    {
     "name": "stdout",
     "output_type": "stream",
     "text": [
      "$ autopep8 foo.py\n",
      "$ autopep8 --diff --max-line-length 4 --exit-code --range 5 8 -p 2 foo.py\n",
      "$ autopep8 --ignore z --verbose -r --list-fixes foo.py\n",
      "--recursive must be used with --in-place or --diff$ autopep8 --exclude 5 -h -i --aggressive --in-place foo.py\n",
      "$ autopep8 --select a --help --experimental foo.py\n",
      "$ autopep8 --indent-size -30 --recursive foo.py\n",
      "--recursive must be used with --in-place or --diff$ autopep8 --global-config < -j 9 -v -a foo.py\n",
      "parallel jobs requires --in-place$ autopep8 --line-range 7 1 --hang-closing -d foo.py\n",
      "First value of --range should be less than or equal to the second$ autopep8 --pep8-passes 6 --hang-closing --version --ignore-local-config foo.py\n",
      "$ autopep8 --jobs -2 --experimental --version foo.py\n",
      "$ autopep8 --ignore Y: --select ! --global-config e foo.py\n",
      "$ autopep8 --select 1 -a --recursive --aggressive foo.py\n",
      "--recursive must be used with --in-place or --diff$ autopep8 --ignore * --ignore `0 --global-config _ --verbose foo.py\n",
      "[file:foo.py]\n",
      "--->  Applying global fix for E265\n",
      "--->  5 issue(s) to fix {'E251': {2}, 'E271': {3}, 'E221': {3}, 'E222': {3}}\n",
      "--->  3 issue(s) to fix {'E251': {2}, 'E221': {3}, 'E222': {3}}\n",
      "--->  1 issue(s) to fix {'E222': {3}}\n",
      "--->  0 issue(s) to fix {}\n",
      "$ autopep8 --global-config ,\\ --exclude r -v foo.py\n",
      "[file:foo.py]\n",
      "--->  Applying global fix for E265\n",
      "--->  5 issue(s) to fix {'E251': {2}, 'E271': {3}, 'E221': {3}, 'E222': {3}}\n",
      "--->  3 issue(s) to fix {'E251': {2}, 'E221': {3}, 'E222': {3}}\n",
      "--->  1 issue(s) to fix {'E222': {3}}\n",
      "--->  0 issue(s) to fix {}\n",
      "$ autopep8 --global-config xd6M --recursive foo.py\n",
      "--recursive must be used with --in-place or --diff$ autopep8 --select R --exclude L --version --ignore-local-config foo.py\n",
      "$ autopep8 --select \" --verbose -h -d foo.py\n",
      "$ autopep8 --diff -i -h foo.py\n",
      "$ autopep8 --in-place --select w --version -i foo.py\n",
      "$ autopep8 --ignore 49 --exclude lI -i foo.py\n"
     ]
    }
   ],
   "source": [
    "f = GrammarCoverageFuzzer(autopep8_grammar, max_nonterminals=5)\n",
    "for i in range(20):\n",
    "    invocation = \"autopep8\" + f.fuzz()\n",
    "    print(\"$ \" + invocation)\n",
    "    args = invocation.split()\n",
    "    autopep8_runner = ProgramRunner(args)\n",
    "    result, outcome = autopep8_runner.run()\n",
    "    if result.stderr != \"\":\n",
    "        print(result.stderr, end=\"\")"
   ]
  },
  {
   "cell_type": "markdown",
   "metadata": {
    "slideshow": {
     "slide_type": "subslide"
    }
   },
   "source": [
    "Our `foo.py` file now has been formatted in place a number of times:"
   ]
  },
  {
   "cell_type": "code",
   "execution_count": 65,
   "metadata": {
    "execution": {
     "iopub.execute_input": "2022-02-21T08:28:12.317934Z",
     "iopub.status.busy": "2022-02-21T08:28:12.317173Z",
     "iopub.status.idle": "2022-02-21T08:28:12.320109Z",
     "shell.execute_reply": "2022-02-21T08:28:12.320505Z"
    },
    "slideshow": {
     "slide_type": "fragment"
    }
   },
   "outputs": [
    {
     "name": "stdout",
     "output_type": "stream",
     "text": [
      "\n",
      "def twice(x=2):\n",
      "    return x + x\n"
     ]
    }
   ],
   "source": [
    "print(open(\"foo.py\").read(), end=\"\")"
   ]
  },
  {
   "cell_type": "markdown",
   "metadata": {
    "slideshow": {
     "slide_type": "skip"
    }
   },
   "source": [
    "We don't need it anymore, so we clean up things:"
   ]
  },
  {
   "cell_type": "code",
   "execution_count": 66,
   "metadata": {
    "execution": {
     "iopub.execute_input": "2022-02-21T08:28:12.323895Z",
     "iopub.status.busy": "2022-02-21T08:28:12.323307Z",
     "iopub.status.idle": "2022-02-21T08:28:12.325387Z",
     "shell.execute_reply": "2022-02-21T08:28:12.325781Z"
    },
    "slideshow": {
     "slide_type": "skip"
    }
   },
   "outputs": [],
   "source": [
    "import os"
   ]
  },
  {
   "cell_type": "code",
   "execution_count": 67,
   "metadata": {
    "execution": {
     "iopub.execute_input": "2022-02-21T08:28:12.329635Z",
     "iopub.status.busy": "2022-02-21T08:28:12.328877Z",
     "iopub.status.idle": "2022-02-21T08:28:12.330967Z",
     "shell.execute_reply": "2022-02-21T08:28:12.331525Z"
    },
    "slideshow": {
     "slide_type": "skip"
    }
   },
   "outputs": [],
   "source": [
    "os.remove(\"foo.py\")"
   ]
  },
  {
   "cell_type": "markdown",
   "metadata": {
    "slideshow": {
     "slide_type": "fragment"
    }
   },
   "source": [
    "## Classes for Fuzzing Configuration Options\n",
    "\n",
    "Let us now create reusable classes that we can use for testing arbitrary programs.  (Okay, make that \"arbitrary programs that are written in Python and use the `argparse` module to process command-line arguments.\")"
   ]
  },
  {
   "cell_type": "markdown",
   "metadata": {
    "slideshow": {
     "slide_type": "subslide"
    }
   },
   "source": [
    "The class `OptionRunner` is a subclass of `ProgramRunner` that takes care of automatically determining the grammar, using the same steps we used for `autopep8`, above."
   ]
  },
  {
   "cell_type": "code",
   "execution_count": 68,
   "metadata": {
    "execution": {
     "iopub.execute_input": "2022-02-21T08:28:12.337544Z",
     "iopub.status.busy": "2022-02-21T08:28:12.336816Z",
     "iopub.status.idle": "2022-02-21T08:28:12.339826Z",
     "shell.execute_reply": "2022-02-21T08:28:12.340677Z"
    },
    "slideshow": {
     "slide_type": "skip"
    }
   },
   "outputs": [],
   "source": [
    "from Grammars import unreachable_nonterminals"
   ]
  },
  {
   "cell_type": "code",
   "execution_count": 69,
   "metadata": {
    "execution": {
     "iopub.execute_input": "2022-02-21T08:28:12.351009Z",
     "iopub.status.busy": "2022-02-21T08:28:12.349852Z",
     "iopub.status.idle": "2022-02-21T08:28:12.352485Z",
     "shell.execute_reply": "2022-02-21T08:28:12.353205Z"
    },
    "slideshow": {
     "slide_type": "fragment"
    }
   },
   "outputs": [],
   "source": [
    "class OptionRunner(ProgramRunner):\n",
    "    \"\"\"Run a program while determining its option grammar\"\"\"\n",
    "\n",
    "    def __init__(self, program: Union[str, List[str]],\n",
    "                 arguments: Optional[str] = None, *,\n",
    "                 log: bool = False,\n",
    "                 miner_class: Optional[Type[OptionGrammarMiner]] = None):\n",
    "        \"\"\"Constructor.\n",
    "        `program` - the (Python) program to be executed\n",
    "        `arguments` - an (optional) string with arguments for `program`\n",
    "        `log` - if True, enable logging in miner\n",
    "        `miner_class` - the `OptionGrammarMiner` class to be used\n",
    "                  (default: `OptionGrammarMiner`)\n",
    "        \"\"\"\n",
    "        if isinstance(program, str):\n",
    "            self.base_executable = program\n",
    "        else:\n",
    "            self.base_executable = program[0]\n",
    "\n",
    "        if miner_class is None:\n",
    "            miner_class = OptionGrammarMiner\n",
    "        self.miner_class = miner_class\n",
    "        self.log = log\n",
    "\n",
    "        self.find_contents()\n",
    "        self.find_grammar()\n",
    "        if arguments is not None:\n",
    "            self.set_arguments(arguments)\n",
    "        super().__init__(program)"
   ]
  },
  {
   "cell_type": "markdown",
   "metadata": {
    "slideshow": {
     "slide_type": "subslide"
    }
   },
   "source": [
    "First, we find the contents of the Python executable:"
   ]
  },
  {
   "cell_type": "code",
   "execution_count": 70,
   "metadata": {
    "execution": {
     "iopub.execute_input": "2022-02-21T08:28:12.360714Z",
     "iopub.status.busy": "2022-02-21T08:28:12.359787Z",
     "iopub.status.idle": "2022-02-21T08:28:12.362994Z",
     "shell.execute_reply": "2022-02-21T08:28:12.362166Z"
    },
    "slideshow": {
     "slide_type": "fragment"
    }
   },
   "outputs": [],
   "source": [
    "class OptionRunner(OptionRunner):\n",
    "    def find_contents(self):\n",
    "        self._executable = find_executable(self.base_executable)\n",
    "        if self._executable is None:\n",
    "            raise IOError(self.base_executable + \": not found\")\n",
    "\n",
    "        first_line = open(self._executable).readline()\n",
    "        if first_line.find(\"python\") < 0:\n",
    "            raise IOError(self.base_executable + \": not a Python executable\")\n",
    "\n",
    "        self.contents = open(self._executable).read()\n",
    "\n",
    "    def invoker(self):\n",
    "        # We are passing the local variables as is, such that we can access `self`\n",
    "        # We set __name__ to '__main__' to invoke the script as an executable\n",
    "        exec(self.contents, {'__name__': '__main__'})\n",
    "\n",
    "    def executable(self):\n",
    "        return self._executable"
   ]
  },
  {
   "cell_type": "markdown",
   "metadata": {
    "slideshow": {
     "slide_type": "subslide"
    }
   },
   "source": [
    "Next, we determine the grammar using the `OptionGrammarMiner` class:"
   ]
  },
  {
   "cell_type": "code",
   "execution_count": 71,
   "metadata": {
    "execution": {
     "iopub.execute_input": "2022-02-21T08:28:12.369769Z",
     "iopub.status.busy": "2022-02-21T08:28:12.368825Z",
     "iopub.status.idle": "2022-02-21T08:28:12.371697Z",
     "shell.execute_reply": "2022-02-21T08:28:12.370914Z"
    },
    "slideshow": {
     "slide_type": "fragment"
    }
   },
   "outputs": [],
   "source": [
    "class OptionRunner(OptionRunner):\n",
    "    def find_grammar(self):\n",
    "        miner = self.miner_class(self.invoker, log=self.log)\n",
    "        self._ebnf_grammar = miner.mine_ebnf_grammar()\n",
    "\n",
    "    def ebnf_grammar(self):\n",
    "        \"\"\"Return extracted grammar in EBNF form\"\"\"\n",
    "        return self._ebnf_grammar\n",
    "\n",
    "    def grammar(self):\n",
    "        \"\"\"Return extracted grammar in BNF form\"\"\"\n",
    "        return convert_ebnf_grammar(self._ebnf_grammar)"
   ]
  },
  {
   "cell_type": "markdown",
   "metadata": {
    "slideshow": {
     "slide_type": "subslide"
    }
   },
   "source": [
    "The two service methods `set_arguments()` and `set_invocation()` help us to change the arguments and program, respectively."
   ]
  },
  {
   "cell_type": "code",
   "execution_count": 72,
   "metadata": {
    "execution": {
     "iopub.execute_input": "2022-02-21T08:28:12.378563Z",
     "iopub.status.busy": "2022-02-21T08:28:12.377529Z",
     "iopub.status.idle": "2022-02-21T08:28:12.380033Z",
     "shell.execute_reply": "2022-02-21T08:28:12.380650Z"
    },
    "slideshow": {
     "slide_type": "fragment"
    }
   },
   "outputs": [],
   "source": [
    "class OptionRunner(OptionRunner):\n",
    "    def set_arguments(self, args):\n",
    "        self._ebnf_grammar[\"<arguments>\"] = [\" \" + args]\n",
    "        # Delete rules for previous arguments\n",
    "        for nonterminal in unreachable_nonterminals(self._ebnf_grammar):\n",
    "            del self._ebnf_grammar[nonterminal]\n",
    "\n",
    "    def set_invocation(self, program):\n",
    "        self.program = program"
   ]
  },
  {
   "cell_type": "markdown",
   "metadata": {
    "slideshow": {
     "slide_type": "subslide"
    }
   },
   "source": [
    "We can instantiate the class on `autopep8` and immediately get the grammar:"
   ]
  },
  {
   "cell_type": "code",
   "execution_count": 73,
   "metadata": {
    "execution": {
     "iopub.execute_input": "2022-02-21T08:28:12.385887Z",
     "iopub.status.busy": "2022-02-21T08:28:12.384983Z",
     "iopub.status.idle": "2022-02-21T08:28:12.394913Z",
     "shell.execute_reply": "2022-02-21T08:28:12.395520Z"
    },
    "slideshow": {
     "slide_type": "fragment"
    }
   },
   "outputs": [],
   "source": [
    "autopep8_runner = OptionRunner(\"autopep8\", \"foo.py\")"
   ]
  },
  {
   "cell_type": "code",
   "execution_count": 74,
   "metadata": {
    "execution": {
     "iopub.execute_input": "2022-02-21T08:28:12.400667Z",
     "iopub.status.busy": "2022-02-21T08:28:12.399704Z",
     "iopub.status.idle": "2022-02-21T08:28:12.402980Z",
     "shell.execute_reply": "2022-02-21T08:28:12.403493Z"
    },
    "slideshow": {
     "slide_type": "fragment"
    }
   },
   "outputs": [
    {
     "name": "stdout",
     "output_type": "stream",
     "text": [
      "[' -h', ' --help', ' --version', ' -v', ' --verbose', ' -d', ' --diff', ' -i', ' --in-place', ' --global-config <filename>', ' --ignore-local-config', ' -r', ' --recursive', ' -j <n>', ' --jobs <n>', ' -p <n>', ' --pep8-passes <n>', ' -a', ' --aggressive', ' --experimental', ' --exclude <globs>', ' --list-fixes', ' --ignore <errors>', ' --select <errors>', ' --max-line-length <n>', ' --line-range <line> <line>', ' --range <line> <line>', ' --indent-size <int>', ' --hang-closing', ' --exit-code']\n"
     ]
    }
   ],
   "source": [
    "print(autopep8_runner.ebnf_grammar()[\"<option>\"])"
   ]
  },
  {
   "cell_type": "markdown",
   "metadata": {
    "slideshow": {
     "slide_type": "subslide"
    }
   },
   "source": [
    "An `OptionFuzzer` interacts with the given `OptionRunner` to obtain its grammar, which is then passed to its `GrammarCoverageFuzzer` superclass."
   ]
  },
  {
   "cell_type": "code",
   "execution_count": 75,
   "metadata": {
    "execution": {
     "iopub.execute_input": "2022-02-21T08:28:12.409099Z",
     "iopub.status.busy": "2022-02-21T08:28:12.408186Z",
     "iopub.status.idle": "2022-02-21T08:28:12.410065Z",
     "shell.execute_reply": "2022-02-21T08:28:12.410630Z"
    },
    "slideshow": {
     "slide_type": "fragment"
    }
   },
   "outputs": [],
   "source": [
    "class OptionFuzzer(GrammarCoverageFuzzer):\n",
    "    \"\"\"Fuzz a (Python) program using its arguments\"\"\"\n",
    "\n",
    "    def __init__(self, runner: OptionRunner, *args, **kwargs):\n",
    "        \"\"\"Constructor. `runner` is an OptionRunner.\"\"\"\n",
    "        assert issubclass(type(runner), OptionRunner)\n",
    "        self.runner = runner\n",
    "        grammar = runner.grammar()\n",
    "        super().__init__(grammar, *args, **kwargs)"
   ]
  },
  {
   "cell_type": "markdown",
   "metadata": {
    "slideshow": {
     "slide_type": "subslide"
    }
   },
   "source": [
    "When invoking `run()`, the `OptionFuzzer` creates a new invocation (using `fuzz()` from its grammar) and runs the now given (or previously set) runner with the arguments from the grammar.  Note that the runner specified in `run()` can differ from the one set during initialization; this allows for mining options from one program and applying it in another context."
   ]
  },
  {
   "cell_type": "code",
   "execution_count": 76,
   "metadata": {
    "execution": {
     "iopub.execute_input": "2022-02-21T08:28:12.416863Z",
     "iopub.status.busy": "2022-02-21T08:28:12.415945Z",
     "iopub.status.idle": "2022-02-21T08:28:12.418895Z",
     "shell.execute_reply": "2022-02-21T08:28:12.418010Z"
    },
    "slideshow": {
     "slide_type": "fragment"
    }
   },
   "outputs": [],
   "source": [
    "class OptionFuzzer(OptionFuzzer):\n",
    "    def run(self, runner=None, inp=\"\"):\n",
    "        if runner is None:\n",
    "            runner = self.runner\n",
    "        assert issubclass(type(runner), OptionRunner)\n",
    "        invocation = runner.executable() + \" \" + self.fuzz()\n",
    "        runner.set_invocation(invocation.split())\n",
    "        return runner.run(inp)"
   ]
  },
  {
   "cell_type": "markdown",
   "metadata": {
    "slideshow": {
     "slide_type": "fragment"
    }
   },
   "source": [
    "### Example: Autopep8\n",
    "\n",
    "Let us apply our newly defined classes on the `autopep8` runner:"
   ]
  },
  {
   "cell_type": "code",
   "execution_count": 77,
   "metadata": {
    "execution": {
     "iopub.execute_input": "2022-02-21T08:28:12.424859Z",
     "iopub.status.busy": "2022-02-21T08:28:12.424152Z",
     "iopub.status.idle": "2022-02-21T08:28:12.426176Z",
     "shell.execute_reply": "2022-02-21T08:28:12.426591Z"
    },
    "slideshow": {
     "slide_type": "fragment"
    }
   },
   "outputs": [],
   "source": [
    "autopep8_fuzzer = OptionFuzzer(autopep8_runner, max_nonterminals=5)"
   ]
  },
  {
   "cell_type": "code",
   "execution_count": 78,
   "metadata": {
    "execution": {
     "iopub.execute_input": "2022-02-21T08:28:12.452611Z",
     "iopub.status.busy": "2022-02-21T08:28:12.451555Z",
     "iopub.status.idle": "2022-02-21T08:28:12.455442Z",
     "shell.execute_reply": "2022-02-21T08:28:12.456154Z"
    },
    "slideshow": {
     "slide_type": "fragment"
    }
   },
   "outputs": [
    {
     "name": "stdout",
     "output_type": "stream",
     "text": [
      " foo.py\n",
      " --in-place --ignore-local-config --jobs 6 --recursive -i foo.py\n",
      " --help -a --indent-size -95 --pep8-passes 3 --exclude = -r foo.py\n"
     ]
    }
   ],
   "source": [
    "for i in range(3):\n",
    "    print(autopep8_fuzzer.fuzz())"
   ]
  },
  {
   "cell_type": "markdown",
   "metadata": {
    "slideshow": {
     "slide_type": "subslide"
    }
   },
   "source": [
    "We can now systematically test `autopep8` with these classes:"
   ]
  },
  {
   "cell_type": "code",
   "execution_count": 79,
   "metadata": {
    "execution": {
     "iopub.execute_input": "2022-02-21T08:28:12.468965Z",
     "iopub.status.busy": "2022-02-21T08:28:12.468072Z",
     "iopub.status.idle": "2022-02-21T08:28:12.564217Z",
     "shell.execute_reply": "2022-02-21T08:28:12.564697Z"
    },
    "slideshow": {
     "slide_type": "fragment"
    }
   },
   "outputs": [
    {
     "data": {
      "text/plain": [
       "(CompletedProcess(args=['/Users/zeller/.pyenv/versions/3.9.7/bin/autopep8', '--hang-closing', '--exit-code', '-d', '--version', 'foo.py'], returncode=0, stdout='autopep8 1.5.7 (pycodestyle: 2.5.0)\\n', stderr=''),\n",
       " 'PASS')"
      ]
     },
     "execution_count": 79,
     "metadata": {},
     "output_type": "execute_result"
    }
   ],
   "source": [
    "autopep8_fuzzer.run(autopep8_runner)"
   ]
  },
  {
   "cell_type": "markdown",
   "metadata": {
    "slideshow": {
     "slide_type": "subslide"
    }
   },
   "source": [
    "### Example: MyPy\n",
    "\n",
    "We can extract options for the `mypy` static type checker for Python:"
   ]
  },
  {
   "cell_type": "code",
   "execution_count": 80,
   "metadata": {
    "execution": {
     "iopub.execute_input": "2022-02-21T08:28:12.570396Z",
     "iopub.status.busy": "2022-02-21T08:28:12.569703Z",
     "iopub.status.idle": "2022-02-21T08:28:12.571605Z",
     "shell.execute_reply": "2022-02-21T08:28:12.571195Z"
    },
    "slideshow": {
     "slide_type": "fragment"
    }
   },
   "outputs": [],
   "source": [
    "assert find_executable(\"mypy\") is not None"
   ]
  },
  {
   "cell_type": "code",
   "execution_count": 81,
   "metadata": {
    "execution": {
     "iopub.execute_input": "2022-02-21T08:28:12.575543Z",
     "iopub.status.busy": "2022-02-21T08:28:12.574783Z",
     "iopub.status.idle": "2022-02-21T08:28:13.047367Z",
     "shell.execute_reply": "2022-02-21T08:28:13.047805Z"
    },
    "slideshow": {
     "slide_type": "fragment"
    }
   },
   "outputs": [
    {
     "name": "stdout",
     "output_type": "stream",
     "text": [
      "[' -h', ' --help', ' -v', ' --verbose', ' -V', ' --version', ' --config-file <str>', ' --warn-unused-configs', ' --no-warn-unused-configs', ' --namespace-packages', ' --no-namespace-packages', ' --ignore-missing-imports', ' --follow-imports <str>', ' --python-executable', ' --no-site-packages', ' --no-silence-site-packages', ' --python-version <x.y>', ' -2', ' --py2', ' --platform', ' --always-true', ' --always-false', ' --disallow-any-unimported', ' --disallow-any-expr', ' --disallow-any-decorated', ' --disallow-any-explicit', ' --disallow-any-generics', ' --allow-any-generics', ' --disallow-subclassing-any', ' --allow-subclassing-any', ' --disallow-untyped-calls', ' --allow-untyped-calls', ' --disallow-untyped-defs', ' --allow-untyped-defs', ' --disallow-incomplete-defs', ' --allow-incomplete-defs', ' --check-untyped-defs', ' --no-check-untyped-defs', ' --disallow-untyped-decorators', ' --allow-untyped-decorators', ' --no-implicit-optional', ' --implicit-optional', ' --strict-optional', ' --no-strict-optional', ' --strict-optional-whitelist( <GLOB>)*', ' --warn-redundant-casts', ' --no-warn-redundant-casts', ' --warn-unused-ignores', ' --no-warn-unused-ignores', ' --no-warn-no-return', ' --warn-no-return', ' --warn-return-any', ' --no-warn-return-any', ' --warn-unreachable', ' --no-warn-unreachable', ' --allow-untyped-globals', ' --disallow-untyped-globals', ' --allow-redefinition', ' --disallow-redefinition', ' --no-implicit-reexport', ' --implicit-reexport', ' --strict-equality', ' --no-strict-equality', ' --strict', ' --disable-error-code', ' --enable-error-code', ' --show-error-context', ' --hide-error-context', ' --show-column-numbers', ' --hide-column-numbers', ' --show-error-codes', ' --hide-error-codes', ' --pretty', ' --no-pretty', ' --no-color-output', ' --color-output', ' --no-error-summary', ' --error-summary', ' --show-absolute-path', ' --hide-absolute-path', ' --soft-error-limit <int>', ' -i', ' --incremental', ' --no-incremental', ' --cache-dir', ' --sqlite-cache', ' --no-sqlite-cache', ' --cache-fine-grained', ' --skip-version-check', ' --skip-cache-mtime-checks', ' --pdb', ' --show-traceback', ' --tb', ' --raise-exceptions', ' --custom-typing-module <MODULE>', ' --custom-typeshed-dir <DIR>', ' --warn-incomplete-stub', ' --no-warn-incomplete-stub', ' --shadow-file', ' --fast-exit', ' --no-fast-exit', ' --any-exprs-report <DIR>', ' --cobertura-xml-report <DIR>', ' --html-report <DIR>', ' --linecount-report <DIR>', ' --linecoverage-report <DIR>', ' --lineprecision-report <DIR>', ' --txt-report <DIR>', ' --xml-report <DIR>', ' --xslt-html-report <DIR>', ' --xslt-txt-report <DIR>', ' --quickstart-file <str>', ' --junit-xml <str>', ' --find-occurrences <CLASS.MEMBER>', ' --scripts-are-modules', ' --install-types', ' --no-install-types', ' --non-interactive', ' --interactive', ' --stats', ' --inferstats', ' --dump-build-stats', ' --debug-cache', ' --dump-deps', ' --dump-graph', ' --semantic-analysis-only', ' --local-partial-types', ' --logical-deps', ' --bazel', ' --package-root', ' --cache-map( <str>)+', ' --explicit-package-bases', ' --no-explicit-package-bases', ' --exclude', ' -m', ' --module', ' -p', ' --package', ' -c', ' --command']\n"
     ]
    }
   ],
   "source": [
    "mypy_runner = OptionRunner(\"mypy\", \"foo.py\")\n",
    "print(mypy_runner.ebnf_grammar()[\"<option>\"])"
   ]
  },
  {
   "cell_type": "code",
   "execution_count": 82,
   "metadata": {
    "execution": {
     "iopub.execute_input": "2022-02-21T08:28:13.109413Z",
     "iopub.status.busy": "2022-02-21T08:28:13.074527Z",
     "iopub.status.idle": "2022-02-21T08:28:13.266058Z",
     "shell.execute_reply": "2022-02-21T08:28:13.266574Z"
    },
    "slideshow": {
     "slide_type": "subslide"
    }
   },
   "outputs": [
    {
     "name": "stdout",
     "output_type": "stream",
     "text": [
      " --follow-imports l foo.py\n",
      " --logical-deps --allow-any-generics --any-exprs-report yB --fast-exit --show-error-context -i --no-site-packages --no-explicit-package-bases --no-sqlite-cache --warn-unused-ignores foo.py\n",
      " --html-report 7/ --tb --error-summary foo.py\n",
      " --no-implicit-reexport --no-error-summary --warn-return-any --dump-build-stats --check-untyped-defs --hide-error-context --no-install-types --install-types foo.py\n",
      " --no-warn-redundant-casts --no-warn-return-any --bazel --sqlite-cache --enable-error-code foo.py\n",
      " --cache-map { t --version --warn-unused-configs foo.py\n",
      " --explicit-package-bases --exclude --help --semantic-analysis-only --soft-error-limit 6 --skip-version-check --no-warn-unused-configs foo.py\n",
      " --disallow-untyped-defs --hide-error-codes --show-absolute-path --shadow-file --package-root --interactive foo.py\n",
      " --strict-optional --disable-error-code --disallow-untyped-globals --disallow-incomplete-defs --no-namespace-packages --show-column-numbers --inferstats --raise-exceptions --no-color-output --allow-incomplete-defs --warn-incomplete-stub --command --module --disallow-redefinition --cache-dir --no-strict-optional -c -h -p foo.py\n",
      " --implicit-optional --disallow-any-generics --no-warn-unreachable --strict-equality --show-error-codes --package --always-false foo.py\n"
     ]
    }
   ],
   "source": [
    "mypy_fuzzer = OptionFuzzer(mypy_runner, max_nonterminals=5)\n",
    "for i in range(10):\n",
    "    print(mypy_fuzzer.fuzz())"
   ]
  },
  {
   "cell_type": "markdown",
   "metadata": {
    "slideshow": {
     "slide_type": "subslide"
    }
   },
   "source": [
    "### Example: Notedown\n",
    "\n",
    "Here's the configuration options for the `notedown` Notebook to Markdown converter:"
   ]
  },
  {
   "cell_type": "code",
   "execution_count": 83,
   "metadata": {
    "execution": {
     "iopub.execute_input": "2022-02-21T08:28:13.271040Z",
     "iopub.status.busy": "2022-02-21T08:28:13.270320Z",
     "iopub.status.idle": "2022-02-21T08:28:13.272277Z",
     "shell.execute_reply": "2022-02-21T08:28:13.272755Z"
    },
    "slideshow": {
     "slide_type": "fragment"
    }
   },
   "outputs": [],
   "source": [
    "assert find_executable(\"notedown\") is not None"
   ]
  },
  {
   "cell_type": "code",
   "execution_count": 84,
   "metadata": {
    "execution": {
     "iopub.execute_input": "2022-02-21T08:28:13.277135Z",
     "iopub.status.busy": "2022-02-21T08:28:13.276165Z",
     "iopub.status.idle": "2022-02-21T08:28:15.382389Z",
     "shell.execute_reply": "2022-02-21T08:28:15.383039Z"
    },
    "slideshow": {
     "slide_type": "fragment"
    }
   },
   "outputs": [],
   "source": [
    "notedown_runner = OptionRunner(\"notedown\")"
   ]
  },
  {
   "cell_type": "code",
   "execution_count": 85,
   "metadata": {
    "execution": {
     "iopub.execute_input": "2022-02-21T08:28:15.387208Z",
     "iopub.status.busy": "2022-02-21T08:28:15.386606Z",
     "iopub.status.idle": "2022-02-21T08:28:15.389107Z",
     "shell.execute_reply": "2022-02-21T08:28:15.389603Z"
    },
    "slideshow": {
     "slide_type": "fragment"
    }
   },
   "outputs": [
    {
     "name": "stdout",
     "output_type": "stream",
     "text": [
      "[' -h', ' --help', ' -o( <str>)?', ' --output( <str>)?', ' --from <str>', ' --to <str>', ' --run', ' --execute', ' --timeout <int>', ' --strip', ' --precode( <str>)+', ' --knit( <str>)?', ' --rmagic', ' --nomagic', ' --render', ' --template <str>', ' --match <str>', ' --examples', ' --version', ' --debug']\n"
     ]
    }
   ],
   "source": [
    "print(notedown_runner.ebnf_grammar()[\"<option>\"])"
   ]
  },
  {
   "cell_type": "code",
   "execution_count": 86,
   "metadata": {
    "execution": {
     "iopub.execute_input": "2022-02-21T08:28:15.406906Z",
     "iopub.status.busy": "2022-02-21T08:28:15.406311Z",
     "iopub.status.idle": "2022-02-21T08:28:15.483217Z",
     "shell.execute_reply": "2022-02-21T08:28:15.483838Z"
    },
    "slideshow": {
     "slide_type": "fragment"
    }
   },
   "outputs": [
    {
     "name": "stdout",
     "output_type": "stream",
     "text": [
      " c\n",
      " --help -o --nomagic --version --output --match H9- --rmagic --render --run\n",
      " --examples -h --precode r x --execute --strip --debug <\n",
      " --execute --rmagic --rmagic !\n",
      " -h --render --debug 2\n",
      " --examples --version --version .\n",
      " --execute --help --render R\n",
      " --run -h 6T\n",
      " --execute --rmagic -h ;\n",
      " --from 5* --version --help s\n"
     ]
    }
   ],
   "source": [
    "notedown_fuzzer = OptionFuzzer(notedown_runner, max_nonterminals=5)\n",
    "for i in range(10):\n",
    "    print(notedown_fuzzer.fuzz())"
   ]
  },
  {
   "cell_type": "markdown",
   "metadata": {
    "button": false,
    "new_sheet": false,
    "run_control": {
     "read_only": false
    },
    "slideshow": {
     "slide_type": "slide"
    }
   },
   "source": [
    "## Combinatorial Testing\n",
    "\n",
    "Our `CoverageGrammarFuzzer` does a good job in covering each and every option at least once, which is great for systematic testing.  However, as we also can see in our examples above, some options require each other, while others interfere with each other.  What we should do as good testers is not only to cover every option individually, but also _combinations_ of options."
   ]
  },
  {
   "cell_type": "markdown",
   "metadata": {
    "slideshow": {
     "slide_type": "subslide"
    }
   },
   "source": [
    "The Python `itertools` module gives us means to create combinations from lists.  We can, for instance, take the `notedown` options and create a list of all pairs."
   ]
  },
  {
   "cell_type": "code",
   "execution_count": 87,
   "metadata": {
    "execution": {
     "iopub.execute_input": "2022-02-21T08:28:15.488457Z",
     "iopub.status.busy": "2022-02-21T08:28:15.487619Z",
     "iopub.status.idle": "2022-02-21T08:28:15.490178Z",
     "shell.execute_reply": "2022-02-21T08:28:15.489771Z"
    },
    "slideshow": {
     "slide_type": "skip"
    }
   },
   "outputs": [],
   "source": [
    "from itertools import combinations"
   ]
  },
  {
   "cell_type": "code",
   "execution_count": 88,
   "metadata": {
    "execution": {
     "iopub.execute_input": "2022-02-21T08:28:15.494700Z",
     "iopub.status.busy": "2022-02-21T08:28:15.494063Z",
     "iopub.status.idle": "2022-02-21T08:28:15.495953Z",
     "shell.execute_reply": "2022-02-21T08:28:15.496357Z"
    },
    "slideshow": {
     "slide_type": "fragment"
    }
   },
   "outputs": [],
   "source": [
    "option_list = notedown_runner.ebnf_grammar()[\"<option>\"]\n",
    "pairs = list(combinations(option_list, 2))"
   ]
  },
  {
   "cell_type": "markdown",
   "metadata": {
    "slideshow": {
     "slide_type": "fragment"
    }
   },
   "source": [
    "There's quite a number of pairs:"
   ]
  },
  {
   "cell_type": "code",
   "execution_count": 89,
   "metadata": {
    "execution": {
     "iopub.execute_input": "2022-02-21T08:28:15.501844Z",
     "iopub.status.busy": "2022-02-21T08:28:15.500892Z",
     "iopub.status.idle": "2022-02-21T08:28:15.504230Z",
     "shell.execute_reply": "2022-02-21T08:28:15.504739Z"
    },
    "slideshow": {
     "slide_type": "fragment"
    }
   },
   "outputs": [
    {
     "data": {
      "text/plain": [
       "190"
      ]
     },
     "execution_count": 89,
     "metadata": {},
     "output_type": "execute_result"
    }
   ],
   "source": [
    "len(pairs)"
   ]
  },
  {
   "cell_type": "code",
   "execution_count": 90,
   "metadata": {
    "execution": {
     "iopub.execute_input": "2022-02-21T08:28:15.509624Z",
     "iopub.status.busy": "2022-02-21T08:28:15.508611Z",
     "iopub.status.idle": "2022-02-21T08:28:15.511786Z",
     "shell.execute_reply": "2022-02-21T08:28:15.512376Z"
    },
    "slideshow": {
     "slide_type": "fragment"
    }
   },
   "outputs": [
    {
     "name": "stdout",
     "output_type": "stream",
     "text": [
      "[(' -h', ' --help'), (' -h', ' -o( <str>)?'), (' -h', ' --output( <str>)?'), (' -h', ' --from <str>'), (' -h', ' --to <str>'), (' -h', ' --run'), (' -h', ' --execute'), (' -h', ' --timeout <int>'), (' -h', ' --strip'), (' -h', ' --precode( <str>)+'), (' -h', ' --knit( <str>)?'), (' -h', ' --rmagic'), (' -h', ' --nomagic'), (' -h', ' --render'), (' -h', ' --template <str>'), (' -h', ' --match <str>'), (' -h', ' --examples'), (' -h', ' --version'), (' -h', ' --debug'), (' --help', ' -o( <str>)?')]\n"
     ]
    }
   ],
   "source": [
    "print(pairs[:20])"
   ]
  },
  {
   "cell_type": "markdown",
   "metadata": {
    "slideshow": {
     "slide_type": "subslide"
    }
   },
   "source": [
    "Testing every such pair of options frequently suffices to cover all interferences between options.  (Programs rarely have conditions involving three or more configuration settings.)  To this end, we _change_ the grammar from having a list of options to having a list of _option pairs_, such that covering these will automatically cover all pairs."
   ]
  },
  {
   "cell_type": "markdown",
   "metadata": {
    "slideshow": {
     "slide_type": "subslide"
    }
   },
   "source": [
    "We create a function `pairwise()` that takes a list of options as occurring in our grammar and returns a list of _pairwise options_ – that is, our original options, but concatenated."
   ]
  },
  {
   "cell_type": "code",
   "execution_count": 91,
   "metadata": {
    "execution": {
     "iopub.execute_input": "2022-02-21T08:28:15.517585Z",
     "iopub.status.busy": "2022-02-21T08:28:15.516882Z",
     "iopub.status.idle": "2022-02-21T08:28:15.518686Z",
     "shell.execute_reply": "2022-02-21T08:28:15.519132Z"
    },
    "slideshow": {
     "slide_type": "fragment"
    }
   },
   "outputs": [],
   "source": [
    "def pairwise(option_list):\n",
    "    return [option_1 + option_2\n",
    "            for (option_1, option_2) in combinations(option_list, 2)]"
   ]
  },
  {
   "cell_type": "markdown",
   "metadata": {
    "slideshow": {
     "slide_type": "fragment"
    }
   },
   "source": [
    "Here's the first 20 pairs:"
   ]
  },
  {
   "cell_type": "code",
   "execution_count": 92,
   "metadata": {
    "execution": {
     "iopub.execute_input": "2022-02-21T08:28:15.523974Z",
     "iopub.status.busy": "2022-02-21T08:28:15.522969Z",
     "iopub.status.idle": "2022-02-21T08:28:15.526131Z",
     "shell.execute_reply": "2022-02-21T08:28:15.526641Z"
    },
    "slideshow": {
     "slide_type": "fragment"
    }
   },
   "outputs": [
    {
     "name": "stdout",
     "output_type": "stream",
     "text": [
      "[' -h --help', ' -h -o( <str>)?', ' -h --output( <str>)?', ' -h --from <str>', ' -h --to <str>', ' -h --run', ' -h --execute', ' -h --timeout <int>', ' -h --strip', ' -h --precode( <str>)+', ' -h --knit( <str>)?', ' -h --rmagic', ' -h --nomagic', ' -h --render', ' -h --template <str>', ' -h --match <str>', ' -h --examples', ' -h --version', ' -h --debug', ' --help -o( <str>)?']\n"
     ]
    }
   ],
   "source": [
    "print(pairwise(option_list)[:20])"
   ]
  },
  {
   "cell_type": "markdown",
   "metadata": {
    "slideshow": {
     "slide_type": "subslide"
    }
   },
   "source": [
    "The new grammar `pairwise_notedown_grammar` is a copy of the `notedown` grammar, but with the list of options replaced with the above pairwise option list."
   ]
  },
  {
   "cell_type": "code",
   "execution_count": 93,
   "metadata": {
    "execution": {
     "iopub.execute_input": "2022-02-21T08:28:15.534397Z",
     "iopub.status.busy": "2022-02-21T08:28:15.533481Z",
     "iopub.status.idle": "2022-02-21T08:28:15.536501Z",
     "shell.execute_reply": "2022-02-21T08:28:15.535931Z"
    },
    "slideshow": {
     "slide_type": "fragment"
    }
   },
   "outputs": [],
   "source": [
    "notedown_grammar = notedown_runner.grammar()\n",
    "pairwise_notedown_grammar = extend_grammar(notedown_grammar)\n",
    "pairwise_notedown_grammar[\"<option>\"] = pairwise(notedown_grammar[\"<option>\"])\n",
    "assert is_valid_grammar(pairwise_notedown_grammar)"
   ]
  },
  {
   "cell_type": "markdown",
   "metadata": {
    "slideshow": {
     "slide_type": "subslide"
    }
   },
   "source": [
    "Using the \"pairwise\" grammar to fuzz now covers one pair after another:"
   ]
  },
  {
   "cell_type": "code",
   "execution_count": 94,
   "metadata": {
    "execution": {
     "iopub.execute_input": "2022-02-21T08:28:15.541051Z",
     "iopub.status.busy": "2022-02-21T08:28:15.540494Z",
     "iopub.status.idle": "2022-02-21T08:28:15.542003Z",
     "shell.execute_reply": "2022-02-21T08:28:15.542432Z"
    },
    "slideshow": {
     "slide_type": "fragment"
    }
   },
   "outputs": [],
   "source": [
    "notedown_pairwise_fuzzer = GrammarCoverageFuzzer(\n",
    "    pairwise_notedown_grammar, max_nonterminals=4)"
   ]
  },
  {
   "cell_type": "code",
   "execution_count": 95,
   "metadata": {
    "execution": {
     "iopub.execute_input": "2022-02-21T08:28:15.593794Z",
     "iopub.status.busy": "2022-02-21T08:28:15.582149Z",
     "iopub.status.idle": "2022-02-21T08:28:16.100171Z",
     "shell.execute_reply": "2022-02-21T08:28:16.100673Z"
    },
    "slideshow": {
     "slide_type": "fragment"
    }
   },
   "outputs": [
    {
     "name": "stdout",
     "output_type": "stream",
     "text": [
      " --help --timeout -0 w\n",
      " --rmagic --render --execute --strip\n",
      " --execute --rmagic --nomagic --debug\n",
      " --help --strip --strip --version r\n",
      " -h --debug --help --execute\n",
      " --execute --debug -h --render\n",
      " --strip --rmagic --render --examples h\n",
      " -h --run --examples --debug\n",
      " --from PX --examples >\n",
      " --run --strip --strip --render\n"
     ]
    }
   ],
   "source": [
    "for i in range(10):\n",
    "    print(notedown_pairwise_fuzzer.fuzz())"
   ]
  },
  {
   "cell_type": "markdown",
   "metadata": {
    "slideshow": {
     "slide_type": "subslide"
    }
   },
   "source": [
    "Can we actually test all combinations of options?  Not in practice, as the number of combinations quickly grows as the length increases.  It decreases again as the number of options reaches the maximum (with 20 options, there is only 1 combination involving _all_ options), but the absolute numbers are still staggering:"
   ]
  },
  {
   "cell_type": "code",
   "execution_count": 96,
   "metadata": {
    "execution": {
     "iopub.execute_input": "2022-02-21T08:28:16.206880Z",
     "iopub.status.busy": "2022-02-21T08:28:16.115676Z",
     "iopub.status.idle": "2022-02-21T08:28:16.406132Z",
     "shell.execute_reply": "2022-02-21T08:28:16.406982Z"
    },
    "slideshow": {
     "slide_type": "fragment"
    }
   },
   "outputs": [
    {
     "name": "stdout",
     "output_type": "stream",
     "text": [
      "1 20\n",
      "2 190\n",
      "3 1140\n",
      "4 4845\n",
      "5 15504\n",
      "6 38760\n",
      "7 77520\n",
      "8 125970\n",
      "9 167960\n",
      "10 184756\n",
      "11 167960\n",
      "12 125970\n",
      "13 77520\n",
      "14 38760\n",
      "15 15504\n",
      "16 4845\n",
      "17 1140\n",
      "18 190\n",
      "19 20\n"
     ]
    }
   ],
   "source": [
    "for combination_length in range(1, 20):\n",
    "    tuples = list(combinations(option_list, combination_length))\n",
    "    print(combination_length, len(tuples))"
   ]
  },
  {
   "cell_type": "markdown",
   "metadata": {
    "slideshow": {
     "slide_type": "subslide"
    }
   },
   "source": [
    "Formally, the number of combinations of length $k$ in a set of options of length $n$ is the binomial coefficient\n",
    "$$\n",
    "{n \\choose k} = \\frac{n!}{k!(n - k)!}\n",
    "$$"
   ]
  },
  {
   "cell_type": "markdown",
   "metadata": {
    "slideshow": {
     "slide_type": "fragment"
    }
   },
   "source": [
    "which for $k = 2$ (all pairs) gives us\n",
    "\n",
    "$$\n",
    "{n \\choose 2} = \\frac{n!}{2(n - 2)!} = \\frac{n (n - 1)}{2}\n",
    "$$"
   ]
  },
  {
   "cell_type": "markdown",
   "metadata": {
    "slideshow": {
     "slide_type": "subslide"
    }
   },
   "source": [
    "For `autopep8` with its 29 options..."
   ]
  },
  {
   "cell_type": "code",
   "execution_count": 97,
   "metadata": {
    "execution": {
     "iopub.execute_input": "2022-02-21T08:28:16.414101Z",
     "iopub.status.busy": "2022-02-21T08:28:16.413260Z",
     "iopub.status.idle": "2022-02-21T08:28:16.419033Z",
     "shell.execute_reply": "2022-02-21T08:28:16.419983Z"
    },
    "slideshow": {
     "slide_type": "fragment"
    }
   },
   "outputs": [
    {
     "data": {
      "text/plain": [
       "30"
      ]
     },
     "execution_count": 97,
     "metadata": {},
     "output_type": "execute_result"
    }
   ],
   "source": [
    "len(autopep8_runner.ebnf_grammar()[\"<option>\"])"
   ]
  },
  {
   "cell_type": "markdown",
   "metadata": {
    "slideshow": {
     "slide_type": "fragment"
    }
   },
   "source": [
    "... we thus have 406 distinct pairs. However, the binomial coefficient does not differentiate between permutations of elements of the pairs, which our tests do. Therefore we need 812 tests to cover all pairs:"
   ]
  },
  {
   "cell_type": "code",
   "execution_count": 98,
   "metadata": {
    "execution": {
     "iopub.execute_input": "2022-02-21T08:28:16.425720Z",
     "iopub.status.busy": "2022-02-21T08:28:16.424726Z",
     "iopub.status.idle": "2022-02-21T08:28:16.428548Z",
     "shell.execute_reply": "2022-02-21T08:28:16.429178Z"
    },
    "slideshow": {
     "slide_type": "fragment"
    }
   },
   "outputs": [
    {
     "data": {
      "text/plain": [
       "870"
      ]
     },
     "execution_count": 98,
     "metadata": {},
     "output_type": "execute_result"
    }
   ],
   "source": [
    "len(autopep8_runner.ebnf_grammar()[\"<option>\"]) * \\\n",
    "    (len(autopep8_runner.ebnf_grammar()[\"<option>\"]) - 1)"
   ]
  },
  {
   "cell_type": "markdown",
   "metadata": {
    "slideshow": {
     "slide_type": "subslide"
    }
   },
   "source": [
    "For `mypy` with its 110 options, though, we already end up with 11,990 tests to be conducted:"
   ]
  },
  {
   "cell_type": "code",
   "execution_count": 99,
   "metadata": {
    "execution": {
     "iopub.execute_input": "2022-02-21T08:28:16.436805Z",
     "iopub.status.busy": "2022-02-21T08:28:16.435725Z",
     "iopub.status.idle": "2022-02-21T08:28:16.439597Z",
     "shell.execute_reply": "2022-02-21T08:28:16.440067Z"
    },
    "slideshow": {
     "slide_type": "fragment"
    }
   },
   "outputs": [
    {
     "data": {
      "text/plain": [
       "140"
      ]
     },
     "execution_count": 99,
     "metadata": {},
     "output_type": "execute_result"
    }
   ],
   "source": [
    "len(mypy_runner.ebnf_grammar()[\"<option>\"])"
   ]
  },
  {
   "cell_type": "code",
   "execution_count": 100,
   "metadata": {
    "execution": {
     "iopub.execute_input": "2022-02-21T08:28:16.446212Z",
     "iopub.status.busy": "2022-02-21T08:28:16.445244Z",
     "iopub.status.idle": "2022-02-21T08:28:16.449501Z",
     "shell.execute_reply": "2022-02-21T08:28:16.450352Z"
    },
    "slideshow": {
     "slide_type": "fragment"
    }
   },
   "outputs": [
    {
     "data": {
      "text/plain": [
       "19460"
      ]
     },
     "execution_count": 100,
     "metadata": {},
     "output_type": "execute_result"
    }
   ],
   "source": [
    "len(mypy_runner.ebnf_grammar()[\"<option>\"]) * \\\n",
    "    (len(mypy_runner.ebnf_grammar()[\"<option>\"]) - 1)"
   ]
  },
  {
   "cell_type": "markdown",
   "metadata": {
    "slideshow": {
     "slide_type": "fragment"
    }
   },
   "source": [
    "Even if each pair takes a second to run, we'd still be done in three hours of testing, though."
   ]
  },
  {
   "cell_type": "markdown",
   "metadata": {
    "slideshow": {
     "slide_type": "subslide"
    }
   },
   "source": [
    "If your program has more options that you all want to get covered in combinations, it is advisable that you limit the number of configurations further – for instance by limiting combinatorial testing to those combinations that possibly can interact with each other; and covering all other (presumably orthogonal) options individually."
   ]
  },
  {
   "cell_type": "markdown",
   "metadata": {
    "slideshow": {
     "slide_type": "fragment"
    }
   },
   "source": [
    "This mechanism of creating configurations by extending grammars can be easily extended to other configuration targets.  One may want to explore a greater number of configurations, or expansions in specific contexts.  The [exercises](#Exercises), below, have a number of options ready for you."
   ]
  },
  {
   "cell_type": "markdown",
   "metadata": {
    "slideshow": {
     "slide_type": "slide"
    }
   },
   "source": [
    "## Synopsis\n",
    "\n",
    "This chapter provides two classes:\n",
    "\n",
    "* `OptionRunner` automatically extract command-line options from a Python program;\n",
    "* `OptionFuzzer` uses these to automatically test a Python program with a large variety of options."
   ]
  },
  {
   "cell_type": "markdown",
   "metadata": {
    "slideshow": {
     "slide_type": "fragment"
    }
   },
   "source": [
    "`OptionRunner` runs a program up to the point where it parses its arguments, and then extracts a grammar that describes its invocations:"
   ]
  },
  {
   "cell_type": "code",
   "execution_count": 101,
   "metadata": {
    "execution": {
     "iopub.execute_input": "2022-02-21T08:28:16.455936Z",
     "iopub.status.busy": "2022-02-21T08:28:16.455163Z",
     "iopub.status.idle": "2022-02-21T08:28:16.465082Z",
     "shell.execute_reply": "2022-02-21T08:28:16.465747Z"
    },
    "slideshow": {
     "slide_type": "fragment"
    }
   },
   "outputs": [],
   "source": [
    "autopep8_runner = OptionRunner(\"autopep8\", \"foo.py\")"
   ]
  },
  {
   "cell_type": "markdown",
   "metadata": {
    "slideshow": {
     "slide_type": "fragment"
    }
   },
   "source": [
    "The grammar can be extracted via the method `ebnf_grammar()`:"
   ]
  },
  {
   "cell_type": "code",
   "execution_count": 102,
   "metadata": {
    "execution": {
     "iopub.execute_input": "2022-02-21T08:28:16.475963Z",
     "iopub.status.busy": "2022-02-21T08:28:16.474842Z",
     "iopub.status.idle": "2022-02-21T08:28:16.481035Z",
     "shell.execute_reply": "2022-02-21T08:28:16.482075Z"
    },
    "slideshow": {
     "slide_type": "fragment"
    }
   },
   "outputs": [
    {
     "data": {
      "text/plain": [
       "{'<start>': ['(<option>)*<arguments>'],\n",
       " '<option>': [' -h',\n",
       "  ' --help',\n",
       "  ' --version',\n",
       "  ' -v',\n",
       "  ' --verbose',\n",
       "  ' -d',\n",
       "  ' --diff',\n",
       "  ' -i',\n",
       "  ' --in-place',\n",
       "  ' --global-config <filename>',\n",
       "  ' --ignore-local-config',\n",
       "  ' -r',\n",
       "  ' --recursive',\n",
       "  ' -j <n>',\n",
       "  ' --jobs <n>',\n",
       "  ' -p <n>',\n",
       "  ' --pep8-passes <n>',\n",
       "  ' -a',\n",
       "  ' --aggressive',\n",
       "  ' --experimental',\n",
       "  ' --exclude <globs>',\n",
       "  ' --list-fixes',\n",
       "  ' --ignore <errors>',\n",
       "  ' --select <errors>',\n",
       "  ' --max-line-length <n>',\n",
       "  ' --line-range <line> <line>',\n",
       "  ' --range <line> <line>',\n",
       "  ' --indent-size <int>',\n",
       "  ' --hang-closing',\n",
       "  ' --exit-code'],\n",
       " '<arguments>': [' foo.py'],\n",
       " '<str>': ['<char>+'],\n",
       " '<char>': ['0',\n",
       "  '1',\n",
       "  '2',\n",
       "  '3',\n",
       "  '4',\n",
       "  '5',\n",
       "  '6',\n",
       "  '7',\n",
       "  '8',\n",
       "  '9',\n",
       "  'a',\n",
       "  'b',\n",
       "  'c',\n",
       "  'd',\n",
       "  'e',\n",
       "  'f',\n",
       "  'g',\n",
       "  'h',\n",
       "  'i',\n",
       "  'j',\n",
       "  'k',\n",
       "  'l',\n",
       "  'm',\n",
       "  'n',\n",
       "  'o',\n",
       "  'p',\n",
       "  'q',\n",
       "  'r',\n",
       "  's',\n",
       "  't',\n",
       "  'u',\n",
       "  'v',\n",
       "  'w',\n",
       "  'x',\n",
       "  'y',\n",
       "  'z',\n",
       "  'A',\n",
       "  'B',\n",
       "  'C',\n",
       "  'D',\n",
       "  'E',\n",
       "  'F',\n",
       "  'G',\n",
       "  'H',\n",
       "  'I',\n",
       "  'J',\n",
       "  'K',\n",
       "  'L',\n",
       "  'M',\n",
       "  'N',\n",
       "  'O',\n",
       "  'P',\n",
       "  'Q',\n",
       "  'R',\n",
       "  'S',\n",
       "  'T',\n",
       "  'U',\n",
       "  'V',\n",
       "  'W',\n",
       "  'X',\n",
       "  'Y',\n",
       "  'Z',\n",
       "  '!',\n",
       "  '\"',\n",
       "  '#',\n",
       "  '$',\n",
       "  '%',\n",
       "  '&',\n",
       "  \"'\",\n",
       "  '(',\n",
       "  ')',\n",
       "  '*',\n",
       "  '+',\n",
       "  ',',\n",
       "  '-',\n",
       "  '.',\n",
       "  '/',\n",
       "  ':',\n",
       "  ';',\n",
       "  '<',\n",
       "  '=',\n",
       "  '>',\n",
       "  '?',\n",
       "  '@',\n",
       "  '[',\n",
       "  '\\\\',\n",
       "  ']',\n",
       "  '^',\n",
       "  '_',\n",
       "  '`',\n",
       "  '{',\n",
       "  '|',\n",
       "  '}',\n",
       "  '~'],\n",
       " '<filename>': ['<str>'],\n",
       " '<int>': ['(-)?<digit>+'],\n",
       " '<digit>': ['0', '1', '2', '3', '4', '5', '6', '7', '8', '9'],\n",
       " '<n>': ['<int>'],\n",
       " '<globs>': ['<str>'],\n",
       " '<errors>': ['<str>'],\n",
       " '<line>': ['<int>']}"
      ]
     },
     "execution_count": 102,
     "metadata": {},
     "output_type": "execute_result"
    }
   ],
   "source": [
    "option_ebnf_grammar = autopep8_runner.ebnf_grammar()\n",
    "option_ebnf_grammar"
   ]
  },
  {
   "cell_type": "markdown",
   "metadata": {
    "slideshow": {
     "slide_type": "subslide"
    }
   },
   "source": [
    "The grammar can be immediately used for fuzzing. A `GrammarCoverageFuzzer` will ensure all options are covered:"
   ]
  },
  {
   "cell_type": "code",
   "execution_count": 103,
   "metadata": {
    "execution": {
     "iopub.execute_input": "2022-02-21T08:28:16.488741Z",
     "iopub.status.busy": "2022-02-21T08:28:16.487564Z",
     "iopub.status.idle": "2022-02-21T08:28:16.490363Z",
     "shell.execute_reply": "2022-02-21T08:28:16.491010Z"
    },
    "slideshow": {
     "slide_type": "skip"
    }
   },
   "outputs": [],
   "source": [
    "from Grammars import convert_ebnf_grammar"
   ]
  },
  {
   "cell_type": "code",
   "execution_count": 104,
   "metadata": {
    "execution": {
     "iopub.execute_input": "2022-02-21T08:28:16.576253Z",
     "iopub.status.busy": "2022-02-21T08:28:16.537438Z",
     "iopub.status.idle": "2022-02-21T08:28:19.160666Z",
     "shell.execute_reply": "2022-02-21T08:28:19.161456Z"
    },
    "slideshow": {
     "slide_type": "fragment"
    }
   },
   "outputs": [
    {
     "data": {
      "text/plain": [
       "[' foo.py',\n",
       " ' --max-line-length 6 --jobs -594 --ignore , --ignore-local-config -r --in-place --list-fixes --recursive -v --experimental -p 72 -h --aggressive --indent-size 3 --exit-code --hang-closing --pep8-passes -180 -d --global-config XQjT --diff --exclude *g -j 43 --help --select A --version --verbose -a --line-range -3963 0 --range 1 4 -i --in-place --version foo.py',\n",
       " ' --global-config 2 --select PuR --ignore b --ignore @ --ignore ;7d --ignore ) --ignore Fw1Z --ignore 0 --global-config ynf --select >G --select + --global-config ( --exclude v --exclude V --ignore ^ --select L --exclude 6 --exclude =$` --ignore % --global-config N --ignore [8maop --ignore 3! --select ~?c< --exclude C --select U --exclude h --global-config # --global-config 5O --select x --select B] --ignore _ --global-config .K --global-config S --exclude r --global-config qW --exclude te4/ --exclude J} --ignore \" --exclude |H --global-config -&k{s --global-config E --select :I --ignore 9 --global-config M --exclude YD --select \\\\ --exclude z --ignore i --select \\'l --ignore M --ignore ;h --exit-code foo.py']"
      ]
     },
     "execution_count": 104,
     "metadata": {},
     "output_type": "execute_result"
    }
   ],
   "source": [
    "fuzzer = GrammarCoverageFuzzer(convert_ebnf_grammar(option_ebnf_grammar))\n",
    "[fuzzer.fuzz() for i in range(3)]"
   ]
  },
  {
   "cell_type": "markdown",
   "metadata": {
    "slideshow": {
     "slide_type": "fragment"
    }
   },
   "source": [
    "The `OptionFuzzer` class summarizes these steps.  Its constructor takes an `OptionRunner` to automatically extract the grammar; it does the necessary steps to extract the grammar and fuzz with it."
   ]
  },
  {
   "cell_type": "code",
   "execution_count": 105,
   "metadata": {
    "execution": {
     "iopub.execute_input": "2022-02-21T08:28:19.167751Z",
     "iopub.status.busy": "2022-02-21T08:28:19.166936Z",
     "iopub.status.idle": "2022-02-21T08:28:19.177221Z",
     "shell.execute_reply": "2022-02-21T08:28:19.177984Z"
    },
    "slideshow": {
     "slide_type": "fragment"
    }
   },
   "outputs": [],
   "source": [
    "autopep8_runner = OptionRunner(\"autopep8\", \"foo.py\")\n",
    "autopep8_fuzzer = OptionFuzzer(autopep8_runner)"
   ]
  },
  {
   "cell_type": "code",
   "execution_count": 106,
   "metadata": {
    "execution": {
     "iopub.execute_input": "2022-02-21T08:28:19.256144Z",
     "iopub.status.busy": "2022-02-21T08:28:19.218456Z",
     "iopub.status.idle": "2022-02-21T08:28:21.710534Z",
     "shell.execute_reply": "2022-02-21T08:28:21.711188Z"
    },
    "slideshow": {
     "slide_type": "fragment"
    }
   },
   "outputs": [
    {
     "data": {
      "text/plain": [
       "[' --diff foo.py',\n",
       " ' --exclude <D -r -j 47 --help --line-range -1 -9685 -p -2 --indent-size -3 --ignore-local-config --pep8-passes 0 --list-fixes -i --range -77 3 -h --verbose --hang-closing --in-place --recursive --experimental --max-line-length -94 -v --jobs -72 --exit-code -d --version --global-config Ng -a --select T(,y --ignore S-d0I --aggressive --select R --select G!+h --exclude . --select \\\\q --exclude 8fAM5 --global-config k --global-config =$ --exclude > --global-config V --select He --global-config | --global-config n}aicm --ignore 7 --ignore b --global-config u --exclude WB` --exclude 2 --exclude JpZt --exclude l_ --select *%^ --exclude & --exclude )Lv --global-config [ --global-config \" --exclude sOEXP --aggressive --exclude \\' --help --diff --experimental foo.py',\n",
       " ' --ignore FCw; --global-config /1K?:6 --exclude U --exclude z --ignore rQ --select x --select Y --select { --global-config o --select 3#4 --exclude ]j --select ~ --exclude 9@ --ignore w --global-config CVL --diff foo.py']"
      ]
     },
     "execution_count": 106,
     "metadata": {},
     "output_type": "execute_result"
    }
   ],
   "source": [
    "[autopep8_fuzzer.fuzz() for i in range(3)]"
   ]
  },
  {
   "cell_type": "markdown",
   "metadata": {
    "slideshow": {
     "slide_type": "fragment"
    }
   },
   "source": [
    "The final step in testing would now to invoke the program with these arguments."
   ]
  },
  {
   "cell_type": "markdown",
   "metadata": {
    "slideshow": {
     "slide_type": "fragment"
    }
   },
   "source": [
    "Note that `OptionRunner` is experimental: It assumes that the Python program in question uses the `argparse` module; and not all `argparse` features are supported.  Still, it does a pretty good job even on nontrivial programs."
   ]
  },
  {
   "cell_type": "markdown",
   "metadata": {
    "slideshow": {
     "slide_type": "fragment"
    }
   },
   "source": [
    "The `OptionRunner` constructor accepts an additional `miner` keyword parameter, which takes the class of the argument grammar miner to be used. By default, this is `OptionGrammarMiner` – a helper class that can be used (and extended) to create own option grammar miners."
   ]
  },
  {
   "cell_type": "code",
   "execution_count": 107,
   "metadata": {
    "execution": {
     "iopub.execute_input": "2022-02-21T08:28:21.715659Z",
     "iopub.status.busy": "2022-02-21T08:28:21.715040Z",
     "iopub.status.idle": "2022-02-21T08:28:21.716689Z",
     "shell.execute_reply": "2022-02-21T08:28:21.717225Z"
    },
    "slideshow": {
     "slide_type": "subslide"
    }
   },
   "outputs": [],
   "source": [
    "# ignore\n",
    "from ClassDiagram import display_class_hierarchy\n",
    "from Fuzzer import Fuzzer, Runner, ProgramRunner\n",
    "from Grammars import Expansion\n",
    "from GrammarFuzzer import GrammarFuzzer, DerivationTree\n",
    "from GrammarCoverageFuzzer import TrackingGrammarCoverageFuzzer"
   ]
  },
  {
   "cell_type": "code",
   "execution_count": 108,
   "metadata": {
    "execution": {
     "iopub.execute_input": "2022-02-21T08:28:21.727229Z",
     "iopub.status.busy": "2022-02-21T08:28:21.725983Z",
     "iopub.status.idle": "2022-02-21T08:28:22.513192Z",
     "shell.execute_reply": "2022-02-21T08:28:22.513580Z"
    },
    "slideshow": {
     "slide_type": "subslide"
    }
   },
   "outputs": [
    {
     "data": {
      "image/svg+xml": [
       "<?xml version=\"1.0\" encoding=\"UTF-8\" standalone=\"no\"?>\n",
       "<!DOCTYPE svg PUBLIC \"-//W3C//DTD SVG 1.1//EN\"\n",
       " \"http://www.w3.org/Graphics/SVG/1.1/DTD/svg11.dtd\">\n",
       "<!-- Generated by graphviz version 2.49.3 (20211023.0002)\n",
       " -->\n",
       "<!-- Pages: 1 -->\n",
       "<svg width=\"588pt\" height=\"704pt\"\n",
       " viewBox=\"0.00 0.00 588.00 704.00\" xmlns=\"http://www.w3.org/2000/svg\" xmlns:xlink=\"http://www.w3.org/1999/xlink\">\n",
       "<g id=\"graph0\" class=\"graph\" transform=\"scale(1 1) rotate(0) translate(4 700)\">\n",
       "<g id=\"a_graph0\"><a xlink:title=\"OptionRunner class hierarchy\">\n",
       "<polygon fill=\"white\" stroke=\"transparent\" points=\"-4,4 -4,-700 584,-700 584,4 -4,4\"/>\n",
       "</a>\n",
       "</g>\n",
       "<!-- OptionRunner -->\n",
       "<g id=\"node1\" class=\"node\">\n",
       "<title>OptionRunner</title>\n",
       "<g id=\"a_node1\"><a xlink:href=\"#\" xlink:title=\"class OptionRunner:&#10;Run a program while determining its option grammar\">\n",
       "<polygon fill=\"none\" stroke=\"black\" points=\"1.5,-32 1.5,-162 114.5,-162 114.5,-32 1.5,-32\"/>\n",
       "<text text-anchor=\"start\" x=\"14\" y=\"-147.8\" font-family=\"Patua One, Helvetica, sans-serif\" font-weight=\"bold\" font-size=\"14.00\" fill=\"#b03a2e\">OptionRunner</text>\n",
       "<polyline fill=\"none\" stroke=\"black\" points=\"1.5,-139 114.5,-139 \"/>\n",
       "<g id=\"a_node1_0\"><a xlink:href=\"#\" xlink:title=\"OptionRunner\">\n",
       "<g id=\"a_node1_1\"><a xlink:href=\"#\" xlink:title=\"__init__(self, program: Union[str, List[str]], arguments: Optional[str] = None, *, log: bool = False, miner_class: Optional[Type[OptionGrammarMiner]] = None):&#10;Constructor.&#10;`program` &#45; the (Python) program to be executed&#10;`arguments` &#45; an (optional) string with arguments for `program`&#10;`log` &#45; if True, enable logging in miner&#10;`miner_class` &#45; the `OptionGrammarMiner` class to be used&#10;(default: `OptionGrammarMiner`)\">\n",
       "<text text-anchor=\"start\" x=\"10\" y=\"-127.5\" font-family=\"'Fira Mono', 'Source Code Pro', 'Courier', monospace\" font-weight=\"bold\" font-style=\"italic\" font-size=\"10.00\">__init__()</text>\n",
       "</a>\n",
       "</g>\n",
       "<g id=\"a_node1_2\"><a xlink:href=\"#\" xlink:title=\"ebnf_grammar(self):&#10;Return extracted grammar in EBNF form\">\n",
       "<text text-anchor=\"start\" x=\"10\" y=\"-116.5\" font-family=\"'Fira Mono', 'Source Code Pro', 'Courier', monospace\" font-weight=\"bold\" font-size=\"10.00\">ebnf_grammar()</text>\n",
       "</a>\n",
       "</g>\n",
       "<g id=\"a_node1_3\"><a xlink:href=\"#\" xlink:title=\"grammar(self):&#10;Return extracted grammar in BNF form\">\n",
       "<text text-anchor=\"start\" x=\"10\" y=\"-105.5\" font-family=\"'Fira Mono', 'Source Code Pro', 'Courier', monospace\" font-weight=\"bold\" font-size=\"10.00\">grammar()</text>\n",
       "</a>\n",
       "</g>\n",
       "<g id=\"a_node1_4\"><a xlink:href=\"#\" xlink:title=\"executable(self)\">\n",
       "<text text-anchor=\"start\" x=\"10\" y=\"-93.5\" font-family=\"'Fira Mono', 'Source Code Pro', 'Courier', monospace\" font-size=\"10.00\">executable()</text>\n",
       "</a>\n",
       "</g>\n",
       "<g id=\"a_node1_5\"><a xlink:href=\"#\" xlink:title=\"find_contents(self)\">\n",
       "<text text-anchor=\"start\" x=\"10\" y=\"-82.5\" font-family=\"'Fira Mono', 'Source Code Pro', 'Courier', monospace\" font-size=\"10.00\">find_contents()</text>\n",
       "</a>\n",
       "</g>\n",
       "<g id=\"a_node1_6\"><a xlink:href=\"#\" xlink:title=\"find_grammar(self)\">\n",
       "<text text-anchor=\"start\" x=\"10\" y=\"-71.5\" font-family=\"'Fira Mono', 'Source Code Pro', 'Courier', monospace\" font-size=\"10.00\">find_grammar()</text>\n",
       "</a>\n",
       "</g>\n",
       "<g id=\"a_node1_7\"><a xlink:href=\"#\" xlink:title=\"invoker(self)\">\n",
       "<text text-anchor=\"start\" x=\"10\" y=\"-60.5\" font-family=\"'Fira Mono', 'Source Code Pro', 'Courier', monospace\" font-size=\"10.00\">invoker()</text>\n",
       "</a>\n",
       "</g>\n",
       "<g id=\"a_node1_8\"><a xlink:href=\"#\" xlink:title=\"set_arguments(self, args)\">\n",
       "<text text-anchor=\"start\" x=\"10\" y=\"-49.5\" font-family=\"'Fira Mono', 'Source Code Pro', 'Courier', monospace\" font-size=\"10.00\">set_arguments()</text>\n",
       "</a>\n",
       "</g>\n",
       "<g id=\"a_node1_9\"><a xlink:href=\"#\" xlink:title=\"set_invocation(self, program)\">\n",
       "<text text-anchor=\"start\" x=\"10\" y=\"-38.5\" font-family=\"'Fira Mono', 'Source Code Pro', 'Courier', monospace\" font-size=\"10.00\">set_invocation()</text>\n",
       "</a>\n",
       "</g>\n",
       "</a>\n",
       "</g>\n",
       "</a>\n",
       "</g>\n",
       "</g>\n",
       "<!-- ProgramRunner -->\n",
       "<g id=\"node2\" class=\"node\">\n",
       "<title>ProgramRunner</title>\n",
       "<g id=\"a_node2\"><a xlink:href=\"Fuzzer.ipynb\" xlink:title=\"class ProgramRunner:&#10;Test a program with inputs.\">\n",
       "<polygon fill=\"none\" stroke=\"black\" points=\"0,-230.5 0,-272.5 116,-272.5 116,-230.5 0,-230.5\"/>\n",
       "<text text-anchor=\"start\" x=\"8\" y=\"-258.3\" font-family=\"Patua One, Helvetica, sans-serif\" font-weight=\"bold\" font-size=\"14.00\" fill=\"#b03a2e\">ProgramRunner</text>\n",
       "<polyline fill=\"none\" stroke=\"black\" points=\"0,-249.5 116,-249.5 \"/>\n",
       "<g id=\"a_node2_10\"><a xlink:href=\"#\" xlink:title=\"ProgramRunner\">\n",
       "<g id=\"a_node2_11\"><a xlink:href=\"Fuzzer.ipynb\" xlink:title=\"__init__(self, program: Union[str, List[str]]) &#45;&gt; None:&#10;Initialize.&#10;`program` is a program spec as passed to `subprocess.run()`\">\n",
       "<text text-anchor=\"start\" x=\"28\" y=\"-238\" font-family=\"'Fira Mono', 'Source Code Pro', 'Courier', monospace\" font-weight=\"bold\" font-style=\"italic\" font-size=\"10.00\">__init__()</text>\n",
       "</a>\n",
       "</g>\n",
       "</a>\n",
       "</g>\n",
       "</a>\n",
       "</g>\n",
       "</g>\n",
       "<!-- OptionRunner&#45;&gt;ProgramRunner -->\n",
       "<g id=\"edge1\" class=\"edge\">\n",
       "<title>OptionRunner&#45;&gt;ProgramRunner</title>\n",
       "<path fill=\"none\" stroke=\"black\" d=\"M58,-162.23C58,-182.26 58,-203.43 58,-220.01\"/>\n",
       "<polygon fill=\"none\" stroke=\"black\" points=\"54.5,-220.19 58,-230.19 61.5,-220.19 54.5,-220.19\"/>\n",
       "</g>\n",
       "<!-- Runner -->\n",
       "<g id=\"node3\" class=\"node\">\n",
       "<title>Runner</title>\n",
       "<g id=\"a_node3\"><a xlink:href=\"Fuzzer.ipynb\" xlink:title=\"class Runner:&#10;Base class for testing inputs.\">\n",
       "<polygon fill=\"none\" stroke=\"black\" points=\"19.5,-309.5 19.5,-403.5 96.5,-403.5 96.5,-309.5 19.5,-309.5\"/>\n",
       "<text text-anchor=\"start\" x=\"35\" y=\"-389.3\" font-family=\"Patua One, Helvetica, sans-serif\" font-weight=\"bold\" font-size=\"14.00\" fill=\"#b03a2e\">Runner</text>\n",
       "<polyline fill=\"none\" stroke=\"black\" points=\"19.5,-380.5 96.5,-380.5 \"/>\n",
       "<g id=\"a_node3_12\"><a xlink:href=\"#\" xlink:title=\"Runner\">\n",
       "<g id=\"a_node3_13\"><a xlink:href=\"Fuzzer.ipynb\" xlink:title=\"FAIL = &#39;FAIL&#39;\">\n",
       "<text text-anchor=\"start\" x=\"28\" y=\"-368\" font-family=\"'Fira Mono', 'Source Code Pro', 'Courier', monospace\" font-size=\"10.00\">FAIL</text>\n",
       "</a>\n",
       "</g>\n",
       "<g id=\"a_node3_14\"><a xlink:href=\"Fuzzer.ipynb\" xlink:title=\"PASS = &#39;PASS&#39;\">\n",
       "<text text-anchor=\"start\" x=\"28\" y=\"-357\" font-family=\"'Fira Mono', 'Source Code Pro', 'Courier', monospace\" font-size=\"10.00\">PASS</text>\n",
       "</a>\n",
       "</g>\n",
       "<g id=\"a_node3_15\"><a xlink:href=\"Fuzzer.ipynb\" xlink:title=\"UNRESOLVED = &#39;UNRESOLVED&#39;\">\n",
       "<text text-anchor=\"start\" x=\"28\" y=\"-346\" font-family=\"'Fira Mono', 'Source Code Pro', 'Courier', monospace\" font-size=\"10.00\">UNRESOLVED</text>\n",
       "</a>\n",
       "</g>\n",
       "</a>\n",
       "</g>\n",
       "<polyline fill=\"none\" stroke=\"black\" points=\"19.5,-339.5 96.5,-339.5 \"/>\n",
       "<g id=\"a_node3_16\"><a xlink:href=\"#\" xlink:title=\"Runner\">\n",
       "<g id=\"a_node3_17\"><a xlink:href=\"Fuzzer.ipynb\" xlink:title=\"__init__(self) &#45;&gt; None:&#10;Initialize\">\n",
       "<text text-anchor=\"start\" x=\"28\" y=\"-328.5\" font-family=\"'Fira Mono', 'Source Code Pro', 'Courier', monospace\" font-weight=\"bold\" font-style=\"italic\" font-size=\"10.00\">__init__()</text>\n",
       "</a>\n",
       "</g>\n",
       "<g id=\"a_node3_18\"><a xlink:href=\"Fuzzer.ipynb\" xlink:title=\"run(self, inp: str) &#45;&gt; Any:&#10;Run the runner with the given input\">\n",
       "<text text-anchor=\"start\" x=\"28\" y=\"-317.5\" font-family=\"'Fira Mono', 'Source Code Pro', 'Courier', monospace\" font-weight=\"bold\" font-style=\"italic\" font-size=\"10.00\">run()</text>\n",
       "</a>\n",
       "</g>\n",
       "</a>\n",
       "</g>\n",
       "</a>\n",
       "</g>\n",
       "</g>\n",
       "<!-- ProgramRunner&#45;&gt;Runner -->\n",
       "<g id=\"edge2\" class=\"edge\">\n",
       "<title>ProgramRunner&#45;&gt;Runner</title>\n",
       "<path fill=\"none\" stroke=\"black\" d=\"M58,-272.85C58,-280.51 58,-289.65 58,-299.01\"/>\n",
       "<polygon fill=\"none\" stroke=\"black\" points=\"54.5,-299.2 58,-309.2 61.5,-299.2 54.5,-299.2\"/>\n",
       "</g>\n",
       "<!-- OptionFuzzer -->\n",
       "<g id=\"node4\" class=\"node\">\n",
       "<title>OptionFuzzer</title>\n",
       "<g id=\"a_node4\"><a xlink:href=\"#\" xlink:title=\"class OptionFuzzer:&#10;Fuzz a (Python) program using its arguments\">\n",
       "<polygon fill=\"none\" stroke=\"black\" points=\"172.5,-70.5 172.5,-123.5 271.5,-123.5 271.5,-70.5 172.5,-70.5\"/>\n",
       "<text text-anchor=\"start\" x=\"180.5\" y=\"-109.3\" font-family=\"Patua One, Helvetica, sans-serif\" font-weight=\"bold\" font-size=\"14.00\" fill=\"#b03a2e\">OptionFuzzer</text>\n",
       "<polyline fill=\"none\" stroke=\"black\" points=\"172.5,-100.5 271.5,-100.5 \"/>\n",
       "<g id=\"a_node4_19\"><a xlink:href=\"#\" xlink:title=\"OptionFuzzer\">\n",
       "<g id=\"a_node4_20\"><a xlink:href=\"#\" xlink:title=\"__init__(self, runner: OptionRunner, *args, **kwargs):&#10;Constructor. `runner` is an OptionRunner.\">\n",
       "<text text-anchor=\"start\" x=\"192\" y=\"-89.5\" font-family=\"'Fira Mono', 'Source Code Pro', 'Courier', monospace\" font-weight=\"bold\" font-style=\"italic\" font-size=\"10.00\">__init__()</text>\n",
       "</a>\n",
       "</g>\n",
       "<g id=\"a_node4_21\"><a xlink:href=\"#\" xlink:title=\"run(self, runner=None, inp=&#39;&#39;):&#10;Run `runner` with fuzz input\">\n",
       "<text text-anchor=\"start\" x=\"192\" y=\"-78.5\" font-family=\"'Fira Mono', 'Source Code Pro', 'Courier', monospace\" font-weight=\"bold\" font-style=\"italic\" font-size=\"10.00\">run()</text>\n",
       "</a>\n",
       "</g>\n",
       "</a>\n",
       "</g>\n",
       "</a>\n",
       "</g>\n",
       "</g>\n",
       "<!-- GrammarCoverageFuzzer -->\n",
       "<g id=\"node5\" class=\"node\">\n",
       "<title>GrammarCoverageFuzzer</title>\n",
       "<g id=\"a_node5\"><a xlink:href=\"GrammarCoverageFuzzer.ipynb\" xlink:title=\"class GrammarCoverageFuzzer:&#10;Produce from grammars, aiming for coverage of all expansions.\">\n",
       "<polygon fill=\"none\" stroke=\"black\" points=\"135.5,-233.5 135.5,-269.5 308.5,-269.5 308.5,-233.5 135.5,-233.5\"/>\n",
       "<text text-anchor=\"start\" x=\"143.5\" y=\"-248.8\" font-family=\"Patua One, Helvetica, sans-serif\" font-weight=\"bold\" font-size=\"14.00\" fill=\"#b03a2e\">GrammarCoverageFuzzer</text>\n",
       "</a>\n",
       "</g>\n",
       "</g>\n",
       "<!-- OptionFuzzer&#45;&gt;GrammarCoverageFuzzer -->\n",
       "<g id=\"edge3\" class=\"edge\">\n",
       "<title>OptionFuzzer&#45;&gt;GrammarCoverageFuzzer</title>\n",
       "<path fill=\"none\" stroke=\"black\" d=\"M222,-123.53C222,-151.07 222,-194.78 222,-223.05\"/>\n",
       "<polygon fill=\"none\" stroke=\"black\" points=\"218.5,-223.42 222,-233.42 225.5,-223.42 218.5,-223.42\"/>\n",
       "</g>\n",
       "<!-- SimpleGrammarCoverageFuzzer -->\n",
       "<g id=\"node6\" class=\"node\">\n",
       "<title>SimpleGrammarCoverageFuzzer</title>\n",
       "<g id=\"a_node6\"><a xlink:href=\"GrammarCoverageFuzzer.ipynb\" xlink:title=\"class SimpleGrammarCoverageFuzzer:&#10;When choosing expansions, prefer expansions not covered.\">\n",
       "<polygon fill=\"none\" stroke=\"black\" points=\"114.5,-338.5 114.5,-374.5 329.5,-374.5 329.5,-338.5 114.5,-338.5\"/>\n",
       "<text text-anchor=\"start\" x=\"122.5\" y=\"-353.8\" font-family=\"Patua One, Helvetica, sans-serif\" font-weight=\"bold\" font-size=\"14.00\" fill=\"#b03a2e\">SimpleGrammarCoverageFuzzer</text>\n",
       "</a>\n",
       "</g>\n",
       "</g>\n",
       "<!-- GrammarCoverageFuzzer&#45;&gt;SimpleGrammarCoverageFuzzer -->\n",
       "<g id=\"edge4\" class=\"edge\">\n",
       "<title>GrammarCoverageFuzzer&#45;&gt;SimpleGrammarCoverageFuzzer</title>\n",
       "<path fill=\"none\" stroke=\"black\" d=\"M222,-269.51C222,-285.46 222,-309.59 222,-328.23\"/>\n",
       "<polygon fill=\"none\" stroke=\"black\" points=\"218.5,-328.47 222,-338.47 225.5,-328.47 218.5,-328.47\"/>\n",
       "</g>\n",
       "<!-- TrackingGrammarCoverageFuzzer -->\n",
       "<g id=\"node7\" class=\"node\">\n",
       "<title>TrackingGrammarCoverageFuzzer</title>\n",
       "<g id=\"a_node7\"><a xlink:href=\"GrammarCoverageFuzzer.ipynb\" xlink:title=\"class TrackingGrammarCoverageFuzzer:&#10;Track grammar coverage during production\">\n",
       "<polygon fill=\"none\" stroke=\"black\" points=\"108,-440.5 108,-482.5 336,-482.5 336,-440.5 108,-440.5\"/>\n",
       "<text text-anchor=\"start\" x=\"116\" y=\"-468.3\" font-family=\"Patua One, Helvetica, sans-serif\" font-weight=\"bold\" font-size=\"14.00\" fill=\"#b03a2e\">TrackingGrammarCoverageFuzzer</text>\n",
       "<polyline fill=\"none\" stroke=\"black\" points=\"108,-459.5 336,-459.5 \"/>\n",
       "<g id=\"a_node7_22\"><a xlink:href=\"#\" xlink:title=\"TrackingGrammarCoverageFuzzer\">\n",
       "<g id=\"a_node7_23\"><a xlink:href=\"GrammarCoverageFuzzer.ipynb\" xlink:title=\"__init__(self, *args, **kwargs) &#45;&gt; None:&#10;Produce strings from `grammar`, starting with `start_symbol`.&#10;If `min_nonterminals` or `max_nonterminals` is given, use them as limits&#10;for the number of nonterminals produced.&#10;If `disp` is set, display the intermediate derivation trees.&#10;If `log` is set, show intermediate steps as text on standard output.\">\n",
       "<text text-anchor=\"start\" x=\"192\" y=\"-448\" font-family=\"'Fira Mono', 'Source Code Pro', 'Courier', monospace\" font-weight=\"bold\" font-style=\"italic\" font-size=\"10.00\">__init__()</text>\n",
       "</a>\n",
       "</g>\n",
       "</a>\n",
       "</g>\n",
       "</a>\n",
       "</g>\n",
       "</g>\n",
       "<!-- SimpleGrammarCoverageFuzzer&#45;&gt;TrackingGrammarCoverageFuzzer -->\n",
       "<g id=\"edge5\" class=\"edge\">\n",
       "<title>SimpleGrammarCoverageFuzzer&#45;&gt;TrackingGrammarCoverageFuzzer</title>\n",
       "<path fill=\"none\" stroke=\"black\" d=\"M222,-374.51C222,-389.6 222,-412.01 222,-430.17\"/>\n",
       "<polygon fill=\"none\" stroke=\"black\" points=\"218.5,-430.28 222,-440.28 225.5,-430.28 218.5,-430.28\"/>\n",
       "</g>\n",
       "<!-- GrammarFuzzer -->\n",
       "<g id=\"node8\" class=\"node\">\n",
       "<title>GrammarFuzzer</title>\n",
       "<g id=\"a_node8\"><a xlink:href=\"GrammarFuzzer.ipynb\" xlink:title=\"class GrammarFuzzer:&#10;Produce strings from grammars efficiently, using derivation trees.\">\n",
       "<polygon fill=\"none\" stroke=\"black\" points=\"164,-519.5 164,-583.5 280,-583.5 280,-519.5 164,-519.5\"/>\n",
       "<text text-anchor=\"start\" x=\"172\" y=\"-569.3\" font-family=\"Patua One, Helvetica, sans-serif\" font-weight=\"bold\" font-size=\"14.00\" fill=\"#b03a2e\">GrammarFuzzer</text>\n",
       "<polyline fill=\"none\" stroke=\"black\" points=\"164,-560.5 280,-560.5 \"/>\n",
       "<g id=\"a_node8_24\"><a xlink:href=\"#\" xlink:title=\"GrammarFuzzer\">\n",
       "<g id=\"a_node8_25\"><a xlink:href=\"GrammarFuzzer.ipynb\" xlink:title=\"__init__(self, grammar: Dict[str, List[Expansion]], start_symbol: str = &#39;&lt;start&gt;&#39;, min_nonterminals: int = 0, max_nonterminals: int = 10, disp: bool = False, log: Union[bool, int] = False) &#45;&gt; None:&#10;Produce strings from `grammar`, starting with `start_symbol`.&#10;If `min_nonterminals` or `max_nonterminals` is given, use them as limits&#10;for the number of nonterminals produced.&#10;If `disp` is set, display the intermediate derivation trees.&#10;If `log` is set, show intermediate steps as text on standard output.\">\n",
       "<text text-anchor=\"start\" x=\"189\" y=\"-549\" font-family=\"'Fira Mono', 'Source Code Pro', 'Courier', monospace\" font-weight=\"bold\" font-style=\"italic\" font-size=\"10.00\">__init__()</text>\n",
       "</a>\n",
       "</g>\n",
       "<g id=\"a_node8_26\"><a xlink:href=\"GrammarFuzzer.ipynb\" xlink:title=\"fuzz(self) &#45;&gt; str:&#10;Produce a string from the grammar.\">\n",
       "<text text-anchor=\"start\" x=\"189\" y=\"-538\" font-family=\"'Fira Mono', 'Source Code Pro', 'Courier', monospace\" font-weight=\"bold\" font-style=\"italic\" font-size=\"10.00\">fuzz()</text>\n",
       "</a>\n",
       "</g>\n",
       "<g id=\"a_node8_27\"><a xlink:href=\"GrammarFuzzer.ipynb\" xlink:title=\"fuzz_tree(self) &#45;&gt; DerivationTree:&#10;Produce a derivation tree from the grammar.\">\n",
       "<text text-anchor=\"start\" x=\"189\" y=\"-527\" font-family=\"'Fira Mono', 'Source Code Pro', 'Courier', monospace\" font-weight=\"bold\" font-size=\"10.00\">fuzz_tree()</text>\n",
       "</a>\n",
       "</g>\n",
       "</a>\n",
       "</g>\n",
       "</a>\n",
       "</g>\n",
       "</g>\n",
       "<!-- TrackingGrammarCoverageFuzzer&#45;&gt;GrammarFuzzer -->\n",
       "<g id=\"edge6\" class=\"edge\">\n",
       "<title>TrackingGrammarCoverageFuzzer&#45;&gt;GrammarFuzzer</title>\n",
       "<path fill=\"none\" stroke=\"black\" d=\"M222,-482.91C222,-490.73 222,-499.96 222,-509.05\"/>\n",
       "<polygon fill=\"none\" stroke=\"black\" points=\"218.5,-509.16 222,-519.16 225.5,-509.16 218.5,-509.16\"/>\n",
       "</g>\n",
       "<!-- Fuzzer -->\n",
       "<g id=\"node9\" class=\"node\">\n",
       "<title>Fuzzer</title>\n",
       "<g id=\"a_node9\"><a xlink:href=\"Fuzzer.ipynb\" xlink:title=\"class Fuzzer:&#10;Base class for fuzzers.\">\n",
       "<polygon fill=\"none\" stroke=\"black\" points=\"183.5,-620.5 183.5,-695.5 260.5,-695.5 260.5,-620.5 183.5,-620.5\"/>\n",
       "<text text-anchor=\"start\" x=\"201\" y=\"-681.3\" font-family=\"Patua One, Helvetica, sans-serif\" font-weight=\"bold\" font-size=\"14.00\" fill=\"#b03a2e\">Fuzzer</text>\n",
       "<polyline fill=\"none\" stroke=\"black\" points=\"183.5,-672.5 260.5,-672.5 \"/>\n",
       "<g id=\"a_node9_28\"><a xlink:href=\"#\" xlink:title=\"Fuzzer\">\n",
       "<g id=\"a_node9_29\"><a xlink:href=\"Fuzzer.ipynb\" xlink:title=\"__init__(self) &#45;&gt; None:&#10;Constructor\">\n",
       "<text text-anchor=\"start\" x=\"192\" y=\"-661.5\" font-family=\"'Fira Mono', 'Source Code Pro', 'Courier', monospace\" font-weight=\"bold\" font-style=\"italic\" font-size=\"10.00\">__init__()</text>\n",
       "</a>\n",
       "</g>\n",
       "<g id=\"a_node9_30\"><a xlink:href=\"Fuzzer.ipynb\" xlink:title=\"fuzz(self) &#45;&gt; str:&#10;Return fuzz input\">\n",
       "<text text-anchor=\"start\" x=\"192\" y=\"-650.5\" font-family=\"'Fira Mono', 'Source Code Pro', 'Courier', monospace\" font-weight=\"bold\" font-style=\"italic\" font-size=\"10.00\">fuzz()</text>\n",
       "</a>\n",
       "</g>\n",
       "<g id=\"a_node9_31\"><a xlink:href=\"Fuzzer.ipynb\" xlink:title=\"run(self, runner: Fuzzer.Runner = &lt;Fuzzer.Runner object at 0x10e4576a0&gt;) &#45;&gt; Tuple[subprocess.CompletedProcess, str]:&#10;Run `runner` with fuzz input\">\n",
       "<text text-anchor=\"start\" x=\"192\" y=\"-639.5\" font-family=\"'Fira Mono', 'Source Code Pro', 'Courier', monospace\" font-weight=\"bold\" font-style=\"italic\" font-size=\"10.00\">run()</text>\n",
       "</a>\n",
       "</g>\n",
       "<g id=\"a_node9_32\"><a xlink:href=\"Fuzzer.ipynb\" xlink:title=\"runs(self, runner: Fuzzer.Runner = &lt;Fuzzer.PrintRunner object at 0x10e4579a0&gt;, trials: int = 10) &#45;&gt; List[Tuple[subprocess.CompletedProcess, str]]:&#10;Run `runner` with fuzz input, `trials` times\">\n",
       "<text text-anchor=\"start\" x=\"192\" y=\"-628.5\" font-family=\"'Fira Mono', 'Source Code Pro', 'Courier', monospace\" font-weight=\"bold\" font-size=\"10.00\">runs()</text>\n",
       "</a>\n",
       "</g>\n",
       "</a>\n",
       "</g>\n",
       "</a>\n",
       "</g>\n",
       "</g>\n",
       "<!-- GrammarFuzzer&#45;&gt;Fuzzer -->\n",
       "<g id=\"edge7\" class=\"edge\">\n",
       "<title>GrammarFuzzer&#45;&gt;Fuzzer</title>\n",
       "<path fill=\"none\" stroke=\"black\" d=\"M222,-583.57C222,-591.96 222,-601.23 222,-610.28\"/>\n",
       "<polygon fill=\"none\" stroke=\"black\" points=\"218.5,-610.34 222,-620.34 225.5,-610.34 218.5,-610.34\"/>\n",
       "</g>\n",
       "<!-- OptionGrammarMiner -->\n",
       "<g id=\"node10\" class=\"node\">\n",
       "<title>OptionGrammarMiner</title>\n",
       "<g id=\"a_node10\"><a xlink:href=\"#\" xlink:title=\"class OptionGrammarMiner:&#10;Helper class for extracting option grammars\">\n",
       "<polygon fill=\"none\" stroke=\"black\" points=\"290,-0.5 290,-193.5 444,-193.5 444,-0.5 290,-0.5\"/>\n",
       "<text text-anchor=\"start\" x=\"298\" y=\"-179.3\" font-family=\"Patua One, Helvetica, sans-serif\" font-weight=\"bold\" font-size=\"14.00\" fill=\"#b03a2e\">OptionGrammarMiner</text>\n",
       "<polyline fill=\"none\" stroke=\"black\" points=\"290,-170.5 444,-170.5 \"/>\n",
       "<g id=\"a_node10_33\"><a xlink:href=\"#\" xlink:title=\"OptionGrammarMiner\">\n",
       "<g id=\"a_node10_34\"><a xlink:href=\"#\" xlink:title=\"ARGUMENTS_SYMBOL = &#39;&lt;arguments&gt;&#39;\">\n",
       "<text text-anchor=\"start\" x=\"319\" y=\"-158.5\" font-family=\"'Fira Mono', 'Source Code Pro', 'Courier', monospace\" font-size=\"10.00\">ARGUMENTS_SYMBOL</text>\n",
       "</a>\n",
       "</g>\n",
       "<g id=\"a_node10_35\"><a xlink:href=\"#\" xlink:title=\"OPTION_SYMBOL = &#39;&lt;option&gt;&#39;\">\n",
       "<text text-anchor=\"start\" x=\"319\" y=\"-147.5\" font-family=\"'Fira Mono', 'Source Code Pro', 'Courier', monospace\" font-size=\"10.00\">OPTION_SYMBOL</text>\n",
       "</a>\n",
       "</g>\n",
       "</a>\n",
       "</g>\n",
       "<polyline fill=\"none\" stroke=\"black\" points=\"290,-140.5 444,-140.5 \"/>\n",
       "<g id=\"a_node10_36\"><a xlink:href=\"#\" xlink:title=\"OptionGrammarMiner\">\n",
       "<g id=\"a_node10_37\"><a xlink:href=\"#\" xlink:title=\"__init__(self, function: Callable, log: bool = False):&#10;Constructor.&#10;`function` &#45; a function processing arguments using argparse()&#10;`log` &#45; output diagnostics if True\">\n",
       "<text text-anchor=\"start\" x=\"310\" y=\"-129.5\" font-family=\"'Fira Mono', 'Source Code Pro', 'Courier', monospace\" font-weight=\"bold\" font-size=\"10.00\">__init__()</text>\n",
       "</a>\n",
       "</g>\n",
       "<g id=\"a_node10_38\"><a xlink:href=\"#\" xlink:title=\"mine_ebnf_grammar(self):&#10;Extract EBNF option grammar\">\n",
       "<text text-anchor=\"start\" x=\"310\" y=\"-118.5\" font-family=\"'Fira Mono', 'Source Code Pro', 'Courier', monospace\" font-weight=\"bold\" font-size=\"10.00\">mine_ebnf_grammar()</text>\n",
       "</a>\n",
       "</g>\n",
       "<g id=\"a_node10_39\"><a xlink:href=\"#\" xlink:title=\"mine_grammar(self):&#10;Extract BNF option grammar\">\n",
       "<text text-anchor=\"start\" x=\"310\" y=\"-107.5\" font-family=\"'Fira Mono', 'Source Code Pro', 'Courier', monospace\" font-weight=\"bold\" font-size=\"10.00\">mine_grammar()</text>\n",
       "</a>\n",
       "</g>\n",
       "<g id=\"a_node10_40\"><a xlink:href=\"#\" xlink:title=\"add_group(self, locals, exclusive)\">\n",
       "<text text-anchor=\"start\" x=\"310\" y=\"-95.5\" font-family=\"'Fira Mono', 'Source Code Pro', 'Courier', monospace\" font-size=\"10.00\">add_group()</text>\n",
       "</a>\n",
       "</g>\n",
       "<g id=\"a_node10_41\"><a xlink:href=\"#\" xlink:title=\"add_int_rule(self)\">\n",
       "<text text-anchor=\"start\" x=\"310\" y=\"-84.5\" font-family=\"'Fira Mono', 'Source Code Pro', 'Courier', monospace\" font-size=\"10.00\">add_int_rule()</text>\n",
       "</a>\n",
       "</g>\n",
       "<g id=\"a_node10_42\"><a xlink:href=\"#\" xlink:title=\"add_metavar_rule(self, metavar, type_)\">\n",
       "<text text-anchor=\"start\" x=\"310\" y=\"-73.5\" font-family=\"'Fira Mono', 'Source Code Pro', 'Courier', monospace\" font-size=\"10.00\">add_metavar_rule()</text>\n",
       "</a>\n",
       "</g>\n",
       "<g id=\"a_node10_43\"><a xlink:href=\"#\" xlink:title=\"add_parameter(self, kwargs, metavar)\">\n",
       "<text text-anchor=\"start\" x=\"310\" y=\"-62.5\" font-family=\"'Fira Mono', 'Source Code Pro', 'Courier', monospace\" font-size=\"10.00\">add_parameter()</text>\n",
       "</a>\n",
       "</g>\n",
       "<g id=\"a_node10_44\"><a xlink:href=\"#\" xlink:title=\"add_str_rule(self)\">\n",
       "<text text-anchor=\"start\" x=\"310\" y=\"-51.5\" font-family=\"'Fira Mono', 'Source Code Pro', 'Courier', monospace\" font-size=\"10.00\">add_str_rule()</text>\n",
       "</a>\n",
       "</g>\n",
       "<g id=\"a_node10_45\"><a xlink:href=\"#\" xlink:title=\"add_type_rule(self, type_)\">\n",
       "<text text-anchor=\"start\" x=\"310\" y=\"-40.5\" font-family=\"'Fira Mono', 'Source Code Pro', 'Courier', monospace\" font-size=\"10.00\">add_type_rule()</text>\n",
       "</a>\n",
       "</g>\n",
       "<g id=\"a_node10_46\"><a xlink:href=\"#\" xlink:title=\"process_arg(self, arg, in_group, kwargs)\">\n",
       "<text text-anchor=\"start\" x=\"310\" y=\"-29.5\" font-family=\"'Fira Mono', 'Source Code Pro', 'Courier', monospace\" font-size=\"10.00\">process_arg()</text>\n",
       "</a>\n",
       "</g>\n",
       "<g id=\"a_node10_47\"><a xlink:href=\"#\" xlink:title=\"process_argument(self, locals, in_group)\">\n",
       "<text text-anchor=\"start\" x=\"310\" y=\"-18.5\" font-family=\"'Fira Mono', 'Source Code Pro', 'Courier', monospace\" font-size=\"10.00\">process_argument()</text>\n",
       "</a>\n",
       "</g>\n",
       "<g id=\"a_node10_48\"><a xlink:href=\"#\" xlink:title=\"traceit(self, frame, event, arg)\">\n",
       "<text text-anchor=\"start\" x=\"310\" y=\"-7.5\" font-family=\"'Fira Mono', 'Source Code Pro', 'Courier', monospace\" font-size=\"10.00\">traceit()</text>\n",
       "</a>\n",
       "</g>\n",
       "</a>\n",
       "</g>\n",
       "</a>\n",
       "</g>\n",
       "</g>\n",
       "<!-- Legend -->\n",
       "<g id=\"node11\" class=\"node\">\n",
       "<title>Legend</title>\n",
       "<text text-anchor=\"start\" x=\"462\" y=\"-114.5\" font-family=\"Patua One, Helvetica, sans-serif\" font-weight=\"bold\" font-size=\"10.00\" fill=\"#b03a2e\">Legend</text>\n",
       "<text text-anchor=\"start\" x=\"462\" y=\"-104.5\" font-family=\"Patua One, Helvetica, sans-serif\" font-size=\"10.00\">• </text>\n",
       "<text text-anchor=\"start\" x=\"468\" y=\"-104.5\" font-family=\"'Fira Mono', 'Source Code Pro', 'Courier', monospace\" font-weight=\"bold\" font-size=\"8.00\">public_method()</text>\n",
       "<text text-anchor=\"start\" x=\"462\" y=\"-94.5\" font-family=\"Patua One, Helvetica, sans-serif\" font-size=\"10.00\">• </text>\n",
       "<text text-anchor=\"start\" x=\"468\" y=\"-94.5\" font-family=\"'Fira Mono', 'Source Code Pro', 'Courier', monospace\" font-size=\"8.00\">private_method()</text>\n",
       "<text text-anchor=\"start\" x=\"462\" y=\"-84.5\" font-family=\"Patua One, Helvetica, sans-serif\" font-size=\"10.00\">• </text>\n",
       "<text text-anchor=\"start\" x=\"468\" y=\"-84.5\" font-family=\"'Fira Mono', 'Source Code Pro', 'Courier', monospace\" font-style=\"italic\" font-size=\"8.00\">overloaded_method()</text>\n",
       "<text text-anchor=\"start\" x=\"462\" y=\"-75.3\" font-family=\"Helvetica,sans-Serif\" font-size=\"9.00\">Hover over names to see doc</text>\n",
       "</g>\n",
       "</g>\n",
       "</svg>\n"
      ],
      "text/plain": [
       "<graphviz.dot.Digraph at 0x121e0cac0>"
      ]
     },
     "execution_count": 108,
     "metadata": {},
     "output_type": "execute_result"
    }
   ],
   "source": [
    "# ignore\n",
    "display_class_hierarchy([OptionRunner, OptionFuzzer, OptionGrammarMiner],\n",
    "                        public_methods=[\n",
    "                            Fuzzer.__init__,\n",
    "                            Fuzzer.fuzz,\n",
    "                            Fuzzer.run,\n",
    "                            Fuzzer.runs,\n",
    "                            GrammarFuzzer.__init__,\n",
    "                            GrammarFuzzer.fuzz,\n",
    "                            GrammarFuzzer.fuzz_tree,\n",
    "                            TrackingGrammarCoverageFuzzer.__init__,\n",
    "                            OptionFuzzer.__init__,\n",
    "                            OptionFuzzer.run,\n",
    "                            Runner.__init__,\n",
    "                            Runner.run,\n",
    "                            ProgramRunner.__init__,\n",
    "                            ProgramRunner.__init__,\n",
    "                            OptionRunner.__init__,\n",
    "                            OptionRunner.ebnf_grammar,\n",
    "                            OptionRunner.grammar,\n",
    "                            OptionGrammarMiner.__init__,\n",
    "                            OptionGrammarMiner.mine_ebnf_grammar,\n",
    "                            OptionGrammarMiner.mine_grammar,\n",
    "                        ],\n",
    "                        types={\n",
    "                            'DerivationTree': DerivationTree,\n",
    "                            'Expansion': Expansion,\n",
    "                            'Grammar': Grammar\n",
    "                        },\n",
    "                        project='fuzzingbook')"
   ]
  },
  {
   "cell_type": "markdown",
   "metadata": {
    "button": false,
    "new_sheet": true,
    "run_control": {
     "read_only": false
    },
    "slideshow": {
     "slide_type": "slide"
    }
   },
   "source": [
    "## Lessons Learned\n",
    "\n",
    "* Besides regular input data, program _configurations_ make an important testing target.\n",
    "* For a given program using a standard library to parse command-line options and arguments, one can automatically extract these and convert them into a grammar.\n",
    "* To cover not only single options, but combinations of options, one can expand the grammar to cover all pairs, or come up with even more ambitious targets."
   ]
  },
  {
   "cell_type": "markdown",
   "metadata": {
    "button": false,
    "new_sheet": false,
    "run_control": {
     "read_only": false
    },
    "slideshow": {
     "slide_type": "skip"
    }
   },
   "source": [
    "## Next Steps\n",
    "\n",
    "If you liked the idea of mining a grammar from a program, do not miss:\n",
    "\n",
    "* [how to mine grammars for input data](GrammarMiner.ipynb)"
   ]
  },
  {
   "cell_type": "markdown",
   "metadata": {
    "button": false,
    "new_sheet": false,
    "run_control": {
     "read_only": false
    },
    "slideshow": {
     "slide_type": "skip"
    }
   },
   "source": [
    "Our next steps in the book focus on:\n",
    "\n",
    "* [how to parse and recombine inputs](Parser.ipynb)\n",
    "* [how to assign weights and probabilities to specific productions](ProbabilisticGrammarFuzzer.ipynb)\n",
    "* [how to simplify inputs that cause a failure](Reducer.ipynb)"
   ]
  },
  {
   "cell_type": "markdown",
   "metadata": {
    "slideshow": {
     "slide_type": "slide"
    }
   },
   "source": [
    "## Background\n",
    "\n",
    "Although configuration data is just as likely to cause failures as other input data, it has received relatively little attention in test generation – possibly because, unlike \"regular\" input data, configuration data is not so much under control of external parties, and because, again unlike regular data, there is little variance in configurations.  Creating models for software configurations and using these models for testing is commonplace, as is the idea of pairwise testing.  For an overview, see \\cite{Pezze2008}; for a discussion and comparison of state-of-the-art techniques, see \\cite{Petke2015}.\n",
    "\n",
    "More specifically, \\cite{Sutton2007} also discuss techniques to systematically cover command-line options.  Dai et al. \\cite{Dai2010} apply configuration fuzzing by changing variables associated with configuration files.  "
   ]
  },
  {
   "cell_type": "markdown",
   "metadata": {
    "button": false,
    "new_sheet": false,
    "run_control": {
     "read_only": false
    },
    "slideshow": {
     "slide_type": "subslide"
    },
    "toc-hr-collapsed": false
   },
   "source": [
    "## Exercises"
   ]
  },
  {
   "cell_type": "markdown",
   "metadata": {
    "slideshow": {
     "slide_type": "subslide"
    },
    "toc-hr-collapsed": true
   },
   "source": [
    "### Exercise 1: #ifdef Configuration Fuzzing\n",
    "\n",
    "In C programs, the *C preprocessor* can be used to choose which code parts should be compiled and which ones should not.  As an example, in the C code\n",
    "\n",
    "```C\n",
    "#ifdef LONG_FOO\n",
    "long foo() { ... }\n",
    "#else\n",
    "int foo() { ... }\n",
    "#endif\n",
    "```\n",
    "\n",
    "the compiler will compile the function `foo()` with return type`long` if the _preprocessor variable_ `LONG_FOO` is defined, and with return type `int` if not.  Such preprocessor variables are either set in the source files (using `#define`, as in `#define LONG_FOO`) or on the C compiler command line (using `-D<variable>` or `-D<variable>=<value>`, as in `-DLONG_FOO`."
   ]
  },
  {
   "cell_type": "markdown",
   "metadata": {
    "slideshow": {
     "slide_type": "subslide"
    }
   },
   "source": [
    "Such *conditional compilation* is used to configure C programs towards their environment.  System-specific code can contain lots of conditional compilation.  As an example, consider this excerpt of `xmlparse.c`, the XML parser that is part of the Python runtime library:\n",
    "\n",
    "```c\n",
    "#if defined(_WIN32) && !defined(LOAD_LIBRARY_SEARCH_SYSTEM32)\n",
    "# define LOAD_LIBRARY_SEARCH_SYSTEM32  0x00000800\n",
    "#endif\n",
    "\n",
    "#if !defined(HAVE_GETRANDOM) && !defined(HAVE_SYSCALL_GETRANDOM) \\\n",
    "    && !defined(HAVE_ARC4RANDOM_BUF) && !defined(HAVE_ARC4RANDOM) \\\n",
    "    && !defined(XML_DEV_URANDOM) \\\n",
    "    && !defined(_WIN32) \\\n",
    "    && !defined(XML_POOR_ENTROPY)\n",
    "# error\n",
    "#endif\n",
    "\n",
    "#if !defined(TIOCSWINSZ) || defined(__SCO__) || defined(__UNIXWARE__)\n",
    "#define USE_SYSV_ENVVARS\t/* COLUMNS/LINES vs. TERMCAP */\n",
    "#endif\n",
    "\n",
    "#ifdef XML_UNICODE_WCHAR_T\n",
    "#define XML_T(x) (const wchar_t)x\n",
    "#define XML_L(x) L ## x\n",
    "#else\n",
    "#define XML_T(x) (const unsigned short)x\n",
    "#define XML_L(x) x\n",
    "#endif\n",
    "\n",
    "int fun(int x) { return XML_T(x); }\n",
    "```"
   ]
  },
  {
   "cell_type": "markdown",
   "metadata": {
    "slideshow": {
     "slide_type": "subslide"
    }
   },
   "source": [
    "A typical configuration for the C preprocessor on the above code could be `cc -c -D_WIN32 -DXML_POOR_ENTROPY -DXML_UNICODE_WCHAR_T xmlparse.c`, defining the given preprocessor variables and selecting the appropriate code fragments."
   ]
  },
  {
   "cell_type": "markdown",
   "metadata": {
    "slideshow": {
     "slide_type": "subslide"
    }
   },
   "source": [
    "Since the compiler can only compile one configuration at a time (implying that we can also only _test_ one resulting executable at a time), your task is to find out which of these configurations actually compile.  To this end, proceed in three steps."
   ]
  },
  {
   "cell_type": "markdown",
   "metadata": {
    "slideshow": {
     "slide_type": "subslide"
    },
    "solution2": "hidden",
    "solution2_first": true
   },
   "source": [
    "#### Part 1: Extract Preprocessor Variables\n",
    "\n",
    "Write a _function_ `cpp_identifiers()` that, given a set of lines (say, from `open(filename).readlines()`), extracts all preprocessor variables referenced in `#if` or `#ifdef` preprocessor instructions.  Apply `ifdef_identifiers()` on the sample C input above, such that\n",
    "\n",
    "```python\n",
    "cpp_identifiers(open(\"xmlparse.c\").readlines()) \n",
    "```\n",
    "\n",
    "returns the set\n",
    "\n",
    "```python\n",
    "{'_WIN32', 'LOAD_LIBRARY_SEARCH_SYSTEM32', 'HAVE_GETRANDOM', 'HAVE_SYSCALL_GETRANDOM', 'HAVE_ARC4RANDOM_BUF', ...}\n",
    "\n",
    "```"
   ]
  },
  {
   "cell_type": "markdown",
   "metadata": {
    "slideshow": {
     "slide_type": "skip"
    },
    "solution2": "hidden"
   },
   "source": [
    "**Solution.**  Let us start with creating a sample input file, `xmlparse.c`:"
   ]
  },
  {
   "cell_type": "code",
   "execution_count": 109,
   "metadata": {
    "execution": {
     "iopub.execute_input": "2022-02-21T08:28:22.519752Z",
     "iopub.status.busy": "2022-02-21T08:28:22.519008Z",
     "iopub.status.idle": "2022-02-21T08:28:22.520579Z",
     "shell.execute_reply": "2022-02-21T08:28:22.521184Z"
    },
    "slideshow": {
     "slide_type": "skip"
    },
    "solution2": "hidden"
   },
   "outputs": [],
   "source": [
    "filename = \"xmlparse.c\""
   ]
  },
  {
   "cell_type": "code",
   "execution_count": 110,
   "metadata": {
    "execution": {
     "iopub.execute_input": "2022-02-21T08:28:22.527123Z",
     "iopub.status.busy": "2022-02-21T08:28:22.525984Z",
     "iopub.status.idle": "2022-02-21T08:28:22.529985Z",
     "shell.execute_reply": "2022-02-21T08:28:22.531130Z"
    },
    "slideshow": {
     "slide_type": "skip"
    },
    "solution2": "hidden"
   },
   "outputs": [],
   "source": [
    "open(filename, \"w\").write(\n",
    "    \"\"\"\n",
    "#if defined(_WIN32) && !defined(LOAD_LIBRARY_SEARCH_SYSTEM32)\n",
    "# define LOAD_LIBRARY_SEARCH_SYSTEM32  0x00000800\n",
    "#endif\n",
    "\n",
    "#if !defined(HAVE_GETRANDOM) && !defined(HAVE_SYSCALL_GETRANDOM) \\\n",
    "    && !defined(HAVE_ARC4RANDOM_BUF) && !defined(HAVE_ARC4RANDOM) \\\n",
    "    && !defined(XML_DEV_URANDOM) \\\n",
    "    && !defined(_WIN32) \\\n",
    "    && !defined(XML_POOR_ENTROPY)\n",
    "# error\n",
    "#endif\n",
    "\n",
    "#if !defined(TIOCSWINSZ) || defined(__SCO__) || defined(__UNIXWARE__)\n",
    "#define USE_SYSV_ENVVARS\t/* COLUMNS/LINES vs. TERMCAP */\n",
    "#endif\n",
    "\n",
    "#ifdef XML_UNICODE_WCHAR_T\n",
    "#define XML_T(x) (const wchar_t)x\n",
    "#define XML_L(x) L ## x\n",
    "#else\n",
    "#define XML_T(x) (const unsigned short)x\n",
    "#define XML_L(x) x\n",
    "#endif\n",
    "\n",
    "int fun(int x) { return XML_T(x); }\n",
    "\"\"\");"
   ]
  },
  {
   "cell_type": "markdown",
   "metadata": {
    "slideshow": {
     "slide_type": "skip"
    },
    "solution2": "hidden"
   },
   "source": [
    "To find C preprocessor `#if` directives and preprocessor variables, we use regular expressions matching them."
   ]
  },
  {
   "cell_type": "code",
   "execution_count": 111,
   "metadata": {
    "execution": {
     "iopub.execute_input": "2022-02-21T08:28:22.536605Z",
     "iopub.status.busy": "2022-02-21T08:28:22.535714Z",
     "iopub.status.idle": "2022-02-21T08:28:22.538794Z",
     "shell.execute_reply": "2022-02-21T08:28:22.538316Z"
    },
    "slideshow": {
     "slide_type": "skip"
    },
    "solution2": "hidden"
   },
   "outputs": [],
   "source": [
    "import re"
   ]
  },
  {
   "cell_type": "code",
   "execution_count": 112,
   "metadata": {
    "execution": {
     "iopub.execute_input": "2022-02-21T08:28:22.543736Z",
     "iopub.status.busy": "2022-02-21T08:28:22.542790Z",
     "iopub.status.idle": "2022-02-21T08:28:22.545735Z",
     "shell.execute_reply": "2022-02-21T08:28:22.546455Z"
    },
    "slideshow": {
     "slide_type": "skip"
    },
    "solution2": "hidden"
   },
   "outputs": [],
   "source": [
    "re_cpp_if_directive = re.compile(r\"\\s*#\\s*(el)?if\")\n",
    "re_cpp_identifier = re.compile(r\"[a-zA-Z_$]+\")"
   ]
  },
  {
   "cell_type": "code",
   "execution_count": 113,
   "metadata": {
    "execution": {
     "iopub.execute_input": "2022-02-21T08:28:22.554640Z",
     "iopub.status.busy": "2022-02-21T08:28:22.552613Z",
     "iopub.status.idle": "2022-02-21T08:28:22.556231Z",
     "shell.execute_reply": "2022-02-21T08:28:22.556876Z"
    },
    "slideshow": {
     "slide_type": "skip"
    },
    "solution2": "hidden"
   },
   "outputs": [],
   "source": [
    "def cpp_identifiers(lines):\n",
    "    identifiers = set()\n",
    "    for line in lines:\n",
    "        if re_cpp_if_directive.match(line):\n",
    "            identifiers |= set(re_cpp_identifier.findall(line))\n",
    "\n",
    "    # These are preprocessor keywords\n",
    "    identifiers -= {\"if\", \"ifdef\", \"ifndef\", \"defined\"}\n",
    "    return identifiers"
   ]
  },
  {
   "cell_type": "code",
   "execution_count": 114,
   "metadata": {
    "execution": {
     "iopub.execute_input": "2022-02-21T08:28:22.564305Z",
     "iopub.status.busy": "2022-02-21T08:28:22.562242Z",
     "iopub.status.idle": "2022-02-21T08:28:22.568013Z",
     "shell.execute_reply": "2022-02-21T08:28:22.568763Z"
    },
    "slideshow": {
     "slide_type": "skip"
    },
    "solution2": "hidden"
   },
   "outputs": [
    {
     "data": {
      "text/plain": [
       "{'HAVE_ARC',\n",
       " 'HAVE_GETRANDOM',\n",
       " 'HAVE_SYSCALL_GETRANDOM',\n",
       " 'LOAD_LIBRARY_SEARCH_SYSTEM',\n",
       " 'RANDOM',\n",
       " 'RANDOM_BUF',\n",
       " 'TIOCSWINSZ',\n",
       " 'XML_DEV_URANDOM',\n",
       " 'XML_POOR_ENTROPY',\n",
       " 'XML_UNICODE_WCHAR_T',\n",
       " '_WIN',\n",
       " '__SCO__',\n",
       " '__UNIXWARE__'}"
      ]
     },
     "execution_count": 114,
     "metadata": {},
     "output_type": "execute_result"
    }
   ],
   "source": [
    "cpp_ids = cpp_identifiers(open(\"xmlparse.c\").readlines())\n",
    "cpp_ids"
   ]
  },
  {
   "cell_type": "markdown",
   "metadata": {
    "slideshow": {
     "slide_type": "subslide"
    },
    "solution2": "hidden",
    "solution2_first": true
   },
   "source": [
    "#### Part 2: Derive an Option Grammar\n",
    "\n",
    "With the help of `cpp_identifiers()`, create a grammar which has C compiler invocations with a list of options, where each option takes the form `-D<variable>` for a preprocessor variable `<variable>`.  Using this grammar `cpp_grammar`, a fuzzer \n",
    "\n",
    "```python\n",
    "g = GrammarCoverageFuzzer(cpp_grammar)\n",
    "```\n",
    "\n",
    "would create C compiler invocations such as\n",
    "\n",
    "```python\n",
    "[g.fuzz() for i in range(10)]\n",
    "['cc -DHAVE_SYSCALL_GETRANDOM xmlparse.c',\n",
    " 'cc -D__SCO__ -DRANDOM_BUF -DXML_UNICODE_WCHAR_T -D__UNIXWARE__ xmlparse.c',\n",
    " 'cc -DXML_POOR_ENTROPY xmlparse.c',\n",
    " 'cc -DRANDOM xmlparse.c',\n",
    " 'cc -D_WIN xmlparse.c',\n",
    " 'cc -DHAVE_ARC xmlparse.c', ...]\n",
    "```"
   ]
  },
  {
   "cell_type": "markdown",
   "metadata": {
    "slideshow": {
     "slide_type": "skip"
    },
    "solution2": "hidden"
   },
   "source": [
    "**Solution.** This is not very difficult:"
   ]
  },
  {
   "cell_type": "code",
   "execution_count": 115,
   "metadata": {
    "execution": {
     "iopub.execute_input": "2022-02-21T08:28:22.573913Z",
     "iopub.status.busy": "2022-02-21T08:28:22.572915Z",
     "iopub.status.idle": "2022-02-21T08:28:22.575606Z",
     "shell.execute_reply": "2022-02-21T08:28:22.576414Z"
    },
    "slideshow": {
     "slide_type": "skip"
    },
    "solution2": "hidden"
   },
   "outputs": [],
   "source": [
    "from Grammars import Grammar, is_valid_grammar"
   ]
  },
  {
   "cell_type": "code",
   "execution_count": 116,
   "metadata": {
    "execution": {
     "iopub.execute_input": "2022-02-21T08:28:22.586155Z",
     "iopub.status.busy": "2022-02-21T08:28:22.585131Z",
     "iopub.status.idle": "2022-02-21T08:28:22.587760Z",
     "shell.execute_reply": "2022-02-21T08:28:22.588396Z"
    },
    "slideshow": {
     "slide_type": "skip"
    },
    "solution2": "hidden"
   },
   "outputs": [],
   "source": [
    "cpp_grammar: Grammar = {\n",
    "    \"<start>\": [\"cc -c<options> \" + filename],\n",
    "    \"<options>\": [\"<option>\", \"<options><option>\"],\n",
    "    \"<option>\": []\n",
    "}\n",
    "\n",
    "for id in cpp_ids:\n",
    "    s = new_symbol(cpp_grammar, \"<\" + id + \">\")\n",
    "    cpp_grammar[\"<option>\"].append(s)\n",
    "    cpp_grammar[s] = [\" -D\" + id]\n",
    "\n",
    "assert is_valid_grammar(cpp_grammar)"
   ]
  },
  {
   "cell_type": "code",
   "execution_count": 117,
   "metadata": {
    "execution": {
     "iopub.execute_input": "2022-02-21T08:28:22.595274Z",
     "iopub.status.busy": "2022-02-21T08:28:22.594398Z",
     "iopub.status.idle": "2022-02-21T08:28:22.597657Z",
     "shell.execute_reply": "2022-02-21T08:28:22.598365Z"
    },
    "slideshow": {
     "slide_type": "skip"
    },
    "solution2": "hidden"
   },
   "outputs": [
    {
     "data": {
      "text/plain": [
       "{'<start>': ['cc -c<options> xmlparse.c'],\n",
       " '<options>': ['<option>', '<options><option>'],\n",
       " '<option>': ['<TIOCSWINSZ>',\n",
       "  '<HAVE_SYSCALL_GETRANDOM>',\n",
       "  '<XML_UNICODE_WCHAR_T>',\n",
       "  '<_WIN>',\n",
       "  '<XML_POOR_ENTROPY>',\n",
       "  '<__UNIXWARE__>',\n",
       "  '<__SCO__>',\n",
       "  '<LOAD_LIBRARY_SEARCH_SYSTEM>',\n",
       "  '<RANDOM>',\n",
       "  '<HAVE_ARC>',\n",
       "  '<RANDOM_BUF>',\n",
       "  '<XML_DEV_URANDOM>',\n",
       "  '<HAVE_GETRANDOM>'],\n",
       " '<TIOCSWINSZ>': [' -DTIOCSWINSZ'],\n",
       " '<HAVE_SYSCALL_GETRANDOM>': [' -DHAVE_SYSCALL_GETRANDOM'],\n",
       " '<XML_UNICODE_WCHAR_T>': [' -DXML_UNICODE_WCHAR_T'],\n",
       " '<_WIN>': [' -D_WIN'],\n",
       " '<XML_POOR_ENTROPY>': [' -DXML_POOR_ENTROPY'],\n",
       " '<__UNIXWARE__>': [' -D__UNIXWARE__'],\n",
       " '<__SCO__>': [' -D__SCO__'],\n",
       " '<LOAD_LIBRARY_SEARCH_SYSTEM>': [' -DLOAD_LIBRARY_SEARCH_SYSTEM'],\n",
       " '<RANDOM>': [' -DRANDOM'],\n",
       " '<HAVE_ARC>': [' -DHAVE_ARC'],\n",
       " '<RANDOM_BUF>': [' -DRANDOM_BUF'],\n",
       " '<XML_DEV_URANDOM>': [' -DXML_DEV_URANDOM'],\n",
       " '<HAVE_GETRANDOM>': [' -DHAVE_GETRANDOM']}"
      ]
     },
     "execution_count": 117,
     "metadata": {},
     "output_type": "execute_result"
    }
   ],
   "source": [
    "cpp_grammar"
   ]
  },
  {
   "cell_type": "markdown",
   "metadata": {
    "slideshow": {
     "slide_type": "subslide"
    },
    "solution2": "hidden",
    "solution2_first": true
   },
   "source": [
    "#### Part 3: C Preprocessor Configuration Fuzzing\n",
    "\n",
    "Using the grammar just produced, use a `GrammarCoverageFuzzer` to\n",
    "\n",
    "1. Test each processor variable individually\n",
    "2. Test each pair of processor variables, using `pairwise()`.\n",
    "\n",
    "What happens if you actually run the invocations?"
   ]
  },
  {
   "cell_type": "markdown",
   "metadata": {
    "slideshow": {
     "slide_type": "skip"
    },
    "solution2": "hidden"
   },
   "source": [
    "**Solution.** We can simply run the coverage fuzzer, as described above."
   ]
  },
  {
   "cell_type": "code",
   "execution_count": 118,
   "metadata": {
    "execution": {
     "iopub.execute_input": "2022-02-21T08:28:22.604171Z",
     "iopub.status.busy": "2022-02-21T08:28:22.603586Z",
     "iopub.status.idle": "2022-02-21T08:28:22.605854Z",
     "shell.execute_reply": "2022-02-21T08:28:22.606224Z"
    },
    "slideshow": {
     "slide_type": "skip"
    },
    "solution2": "hidden"
   },
   "outputs": [
    {
     "data": {
      "text/plain": [
       "'cc -c -D__SCO__ -DHAVE_SYSCALL_GETRANDOM xmlparse.c'"
      ]
     },
     "execution_count": 118,
     "metadata": {},
     "output_type": "execute_result"
    }
   ],
   "source": [
    "g = GrammarCoverageFuzzer(cpp_grammar)\n",
    "g.fuzz()"
   ]
  },
  {
   "cell_type": "code",
   "execution_count": 119,
   "metadata": {
    "execution": {
     "iopub.execute_input": "2022-02-21T08:28:22.609638Z",
     "iopub.status.busy": "2022-02-21T08:28:22.609092Z",
     "iopub.status.idle": "2022-02-21T08:28:22.610882Z",
     "shell.execute_reply": "2022-02-21T08:28:22.611459Z"
    },
    "slideshow": {
     "slide_type": "skip"
    },
    "solution2": "hidden"
   },
   "outputs": [],
   "source": [
    "from Fuzzer import ProgramRunner"
   ]
  },
  {
   "cell_type": "code",
   "execution_count": 120,
   "metadata": {
    "execution": {
     "iopub.execute_input": "2022-02-21T08:28:22.616824Z",
     "iopub.status.busy": "2022-02-21T08:28:22.615930Z",
     "iopub.status.idle": "2022-02-21T08:28:23.335425Z",
     "shell.execute_reply": "2022-02-21T08:28:23.336064Z"
    },
    "slideshow": {
     "slide_type": "skip"
    },
    "solution2": "hidden"
   },
   "outputs": [
    {
     "name": "stdout",
     "output_type": "stream",
     "text": [
      "$ cc -c -DXML_POOR_ENTROPY xmlparse.c\n",
      "$ cc -c -DRANDOM -DXML_DEV_URANDOM xmlparse.c\n",
      "$ cc -c -DXML_UNICODE_WCHAR_T xmlparse.c\n",
      "xmlparse.c:7:3: error: \n",
      "# error\n",
      "  ^\n",
      "xmlparse.c:22:25: error: expected ')'\n",
      "int fun(int x) { return XML_T(x); }\n",
      "                        ^\n",
      "xmlparse.c:15:25: note: expanded from macro 'XML_T'\n",
      "#define XML_T(x) (const wchar_t)x\n",
      "                        ^\n",
      "xmlparse.c:22:25: note: to match this '('\n",
      "xmlparse.c:15:18: note: expanded from macro 'XML_T'\n",
      "#define XML_T(x) (const wchar_t)x\n",
      "                 ^\n",
      "xmlparse.c:22:25: warning: type specifier missing, defaults to 'int' [-Wimplicit-int]\n",
      "int fun(int x) { return XML_T(x); }\n",
      "                        ^~~~~~~~\n",
      "xmlparse.c:15:25: note: expanded from macro 'XML_T'\n",
      "#define XML_T(x) (const wchar_t)x\n",
      "                  ~~~~~ ^\n",
      "1 warning and 2 errors generated.\n",
      "$ cc -c -D__UNIXWARE__ -DHAVE_ARC -DTIOCSWINSZ xmlparse.c\n",
      "xmlparse.c:7:3: error: \n",
      "# error\n",
      "  ^\n",
      "1 error generated.\n",
      "$ cc -c -DHAVE_GETRANDOM xmlparse.c\n",
      "$ cc -c -D_WIN -DLOAD_LIBRARY_SEARCH_SYSTEM -DRANDOM_BUF xmlparse.c\n",
      "xmlparse.c:7:3: error: \n",
      "# error\n",
      "  ^\n",
      "1 error generated.\n",
      "$ cc -c -DHAVE_SYSCALL_GETRANDOM -DHAVE_GETRANDOM -DLOAD_LIBRARY_SEARCH_SYSTEM xmlparse.c\n",
      "$ cc -c -DRANDOM xmlparse.c\n",
      "xmlparse.c:7:3: error: \n",
      "# error\n",
      "  ^\n",
      "1 error generated.\n",
      "$ cc -c -DRANDOM_BUF xmlparse.c\n",
      "xmlparse.c:7:3: error: \n",
      "# error\n",
      "  ^\n",
      "1 error generated.\n",
      "$ cc -c -DTIOCSWINSZ xmlparse.c\n",
      "xmlparse.c:7:3: error: \n",
      "# error\n",
      "  ^\n",
      "1 error generated.\n"
     ]
    }
   ],
   "source": [
    "for i in range(10):\n",
    "    invocation = g.fuzz()\n",
    "    print(\"$\", invocation)\n",
    "    # subprocess.call(invocation, shell=True)\n",
    "    cc_runner = ProgramRunner(invocation.split(' '))\n",
    "    (result, outcome) = cc_runner.run()\n",
    "    print(result.stderr, end=\"\")"
   ]
  },
  {
   "cell_type": "markdown",
   "metadata": {
    "slideshow": {
     "slide_type": "skip"
    },
    "solution2": "hidden"
   },
   "source": [
    "To test all pairs, we can use `pairwise()`:"
   ]
  },
  {
   "cell_type": "code",
   "execution_count": 121,
   "metadata": {
    "execution": {
     "iopub.execute_input": "2022-02-21T08:28:23.342468Z",
     "iopub.status.busy": "2022-02-21T08:28:23.341851Z",
     "iopub.status.idle": "2022-02-21T08:28:23.344919Z",
     "shell.execute_reply": "2022-02-21T08:28:23.345407Z"
    },
    "slideshow": {
     "slide_type": "skip"
    },
    "solution2": "hidden"
   },
   "outputs": [
    {
     "data": {
      "text/plain": [
       "['<TIOCSWINSZ><HAVE_SYSCALL_GETRANDOM>',\n",
       " '<TIOCSWINSZ><XML_UNICODE_WCHAR_T>',\n",
       " '<TIOCSWINSZ><_WIN>',\n",
       " '<TIOCSWINSZ><XML_POOR_ENTROPY>',\n",
       " '<TIOCSWINSZ><__UNIXWARE__>',\n",
       " '<TIOCSWINSZ><__SCO__>',\n",
       " '<TIOCSWINSZ><LOAD_LIBRARY_SEARCH_SYSTEM>',\n",
       " '<TIOCSWINSZ><RANDOM>',\n",
       " '<TIOCSWINSZ><HAVE_ARC>',\n",
       " '<TIOCSWINSZ><RANDOM_BUF>']"
      ]
     },
     "execution_count": 121,
     "metadata": {},
     "output_type": "execute_result"
    }
   ],
   "source": [
    "pairwise_cpp_grammar = extend_grammar(cpp_grammar)\n",
    "pairwise_cpp_grammar[\"<option>\"] = pairwise(cpp_grammar[\"<option>\"])\n",
    "pairwise_cpp_grammar[\"<option>\"][:10]"
   ]
  },
  {
   "cell_type": "code",
   "execution_count": 122,
   "metadata": {
    "execution": {
     "iopub.execute_input": "2022-02-21T08:28:23.359230Z",
     "iopub.status.busy": "2022-02-21T08:28:23.358686Z",
     "iopub.status.idle": "2022-02-21T08:28:23.920107Z",
     "shell.execute_reply": "2022-02-21T08:28:23.920493Z"
    },
    "slideshow": {
     "slide_type": "skip"
    },
    "solution2": "hidden"
   },
   "outputs": [
    {
     "name": "stdout",
     "output_type": "stream",
     "text": [
      "$ cc -c -DHAVE_ARC -DHAVE_SYSCALL_GETRANDOM -DXML_DEV_URANDOM xmlparse.c\n",
      "$ cc -c -DHAVE_GETRANDOM -DHAVE_ARC xmlparse.c\n",
      "$ cc -c -DRANDOM_BUF xmlparse.c\n",
      "xmlparse.c:7:3: error: \n",
      "# error\n",
      "  ^\n",
      "1 error generated.\n",
      "$ cc -c -D_WIN xmlparse.c\n",
      "xmlparse.c:7:3: error: \n",
      "# error\n",
      "  ^\n",
      "1 error generated.\n",
      "$ cc -c -DRANDOM -DHAVE_SYSCALL_GETRANDOM -D_WIN xmlparse.c\n",
      "$ cc -c -DRANDOM_BUF -D__SCO__ -DHAVE_SYSCALL_GETRANDOM -DRANDOM_BUF xmlparse.c\n",
      "$ cc -c -DLOAD_LIBRARY_SEARCH_SYSTEM -DXML_UNICODE_WCHAR_T xmlparse.c\n",
      "xmlparse.c:7:3: error: \n",
      "# error\n",
      "  ^\n",
      "xmlparse.c:22:25: error: expected ')'\n",
      "int fun(int x) { return XML_T(x); }\n",
      "                        ^\n",
      "xmlparse.c:15:25: note: expanded from macro 'XML_T'\n",
      "#define XML_T(x) (const wchar_t)x\n",
      "                        ^\n",
      "xmlparse.c:22:25: note: to match this '('\n",
      "xmlparse.c:15:18: note: expanded from macro 'XML_T'\n",
      "#define XML_T(x) (const wchar_t)x\n",
      "                 ^\n",
      "xmlparse.c:22:25: warning: type specifier missing, defaults to 'int' [-Wimplicit-int]\n",
      "int fun(int x) { return XML_T(x); }\n",
      "                        ^~~~~~~~\n",
      "xmlparse.c:15:25: note: expanded from macro 'XML_T'\n",
      "#define XML_T(x) (const wchar_t)x\n",
      "                  ~~~~~ ^\n",
      "1 warning and 2 errors generated.\n",
      "$ cc -c -DXML_DEV_URANDOM -D_WIN -DLOAD_LIBRARY_SEARCH_SYSTEM xmlparse.c\n",
      "$ cc -c -DHAVE_ARC xmlparse.c\n",
      "xmlparse.c:7:3: error: \n",
      "# error\n",
      "  ^\n",
      "1 error generated.\n",
      "$ cc -c -DRANDOM_BUF -DHAVE_GETRANDOM -DXML_DEV_URANDOM xmlparse.c\n"
     ]
    }
   ],
   "source": [
    "for i in range(10):\n",
    "    invocation = g.fuzz()\n",
    "    print(\"$\", invocation)\n",
    "    # subprocess.call(invocation, shell=True)\n",
    "    cc_runner = ProgramRunner(invocation.split(' '))\n",
    "    (result, outcome) = cc_runner.run()\n",
    "    print(result.stderr, end=\"\")"
   ]
  },
  {
   "cell_type": "markdown",
   "metadata": {
    "slideshow": {
     "slide_type": "skip"
    },
    "solution2": "hidden"
   },
   "source": [
    "Some of the compilation errors we get could be expected – for instance, defining `XML_UNICODE_WCHAR_T` when actually, the type is not supported in our environment.  Other errors may not be expected – and it is these errors we would find through systematic configuration fuzzing, as described above."
   ]
  },
  {
   "cell_type": "markdown",
   "metadata": {
    "slideshow": {
     "slide_type": "skip"
    },
    "solution2": "hidden"
   },
   "source": [
    "At the end, don't forget to clean up:"
   ]
  },
  {
   "cell_type": "code",
   "execution_count": 123,
   "metadata": {
    "execution": {
     "iopub.execute_input": "2022-02-21T08:28:23.925432Z",
     "iopub.status.busy": "2022-02-21T08:28:23.924786Z",
     "iopub.status.idle": "2022-02-21T08:28:23.926701Z",
     "shell.execute_reply": "2022-02-21T08:28:23.927268Z"
    },
    "slideshow": {
     "slide_type": "skip"
    },
    "solution2": "hidden",
    "solution2_first": true
   },
   "outputs": [],
   "source": [
    "os.remove(\"xmlparse.c\")"
   ]
  },
  {
   "cell_type": "code",
   "execution_count": 124,
   "metadata": {
    "execution": {
     "iopub.execute_input": "2022-02-21T08:28:23.931659Z",
     "iopub.status.busy": "2022-02-21T08:28:23.930930Z",
     "iopub.status.idle": "2022-02-21T08:28:23.932876Z",
     "shell.execute_reply": "2022-02-21T08:28:23.933329Z"
    },
    "slideshow": {
     "slide_type": "skip"
    },
    "solution2": "hidden",
    "solution2_first": true
   },
   "outputs": [],
   "source": [
    "if os.path.exists(\"xmlparse.o\"):\n",
    "    os.remove(\"xmlparse.o\")"
   ]
  },
  {
   "cell_type": "markdown",
   "metadata": {
    "button": false,
    "new_sheet": false,
    "run_control": {
     "read_only": false
    },
    "slideshow": {
     "slide_type": "subslide"
    },
    "toc-hr-collapsed": true
   },
   "source": [
    "### Exercise 2: .ini Configuration Fuzzing\n",
    "\n",
    "Besides command-line options, another important source of configurations are _configuration files_.  In this exercise, we will consider the very simple configuration language provided by the Python `ConfigParser` module, which is very similar to what is found in Microsoft Windows _.ini_ files."
   ]
  },
  {
   "cell_type": "markdown",
   "metadata": {
    "button": false,
    "new_sheet": false,
    "run_control": {
     "read_only": false
    },
    "slideshow": {
     "slide_type": "subslide"
    }
   },
   "source": [
    "The following example for a `ConfigParser` input file stems right from [the ConfigParser documentation](https://docs.python.org/3/library/configparser.html):\n",
    "```\n",
    "[DEFAULT]\n",
    "ServerAliveInterval = 45\n",
    "Compression = yes\n",
    "CompressionLevel = 9\n",
    "ForwardX11 = yes\n",
    "\n",
    "[bitbucket.org]\n",
    "User = hg\n",
    "\n",
    "[topsecret.server.com]\n",
    "Port = 50022\n",
    "ForwardX11 = no\n",
    "```"
   ]
  },
  {
   "cell_type": "markdown",
   "metadata": {
    "slideshow": {
     "slide_type": "subslide"
    }
   },
   "source": [
    "The above `ConfigParser` file can be created programmatically:"
   ]
  },
  {
   "cell_type": "code",
   "execution_count": 125,
   "metadata": {
    "execution": {
     "iopub.execute_input": "2022-02-21T08:28:23.937161Z",
     "iopub.status.busy": "2022-02-21T08:28:23.936532Z",
     "iopub.status.idle": "2022-02-21T08:28:23.938319Z",
     "shell.execute_reply": "2022-02-21T08:28:23.938760Z"
    },
    "slideshow": {
     "slide_type": "skip"
    }
   },
   "outputs": [],
   "source": [
    "import configparser"
   ]
  },
  {
   "cell_type": "code",
   "execution_count": 126,
   "metadata": {
    "execution": {
     "iopub.execute_input": "2022-02-21T08:28:23.945605Z",
     "iopub.status.busy": "2022-02-21T08:28:23.944710Z",
     "iopub.status.idle": "2022-02-21T08:28:23.947759Z",
     "shell.execute_reply": "2022-02-21T08:28:23.948516Z"
    },
    "slideshow": {
     "slide_type": "subslide"
    }
   },
   "outputs": [
    {
     "name": "stdout",
     "output_type": "stream",
     "text": [
      "[DEFAULT]\n",
      "serveraliveinterval = 45\n",
      "compression = yes\n",
      "compressionlevel = 9\n",
      "forwardx11 = yes\n",
      "\n",
      "[bitbucket.org]\n",
      "user = hg\n",
      "\n",
      "[topsecret.server.com]\n",
      "port = 50022\n",
      "forwardx11 = no\n",
      "\n"
     ]
    }
   ],
   "source": [
    "config = configparser.ConfigParser()\n",
    "config['DEFAULT'] = {'ServerAliveInterval': '45',\n",
    "                     'Compression': 'yes',\n",
    "                     'CompressionLevel': '9'}\n",
    "config['bitbucket.org'] = {}\n",
    "config['bitbucket.org']['User'] = 'hg'\n",
    "config['topsecret.server.com'] = {}\n",
    "topsecret = config['topsecret.server.com']\n",
    "topsecret['Port'] = '50022'     # mutates the parser\n",
    "topsecret['ForwardX11'] = 'no'  # same here\n",
    "config['DEFAULT']['ForwardX11'] = 'yes'\n",
    "with open('example.ini', 'w') as configfile:\n",
    "    config.write(configfile)\n",
    "\n",
    "with open('example.ini') as configfile:\n",
    "    print(configfile.read(), end=\"\")"
   ]
  },
  {
   "cell_type": "markdown",
   "metadata": {
    "slideshow": {
     "slide_type": "subslide"
    }
   },
   "source": [
    "and be read in again:"
   ]
  },
  {
   "cell_type": "code",
   "execution_count": 127,
   "metadata": {
    "cell_style": "center",
    "execution": {
     "iopub.execute_input": "2022-02-21T08:28:23.954008Z",
     "iopub.status.busy": "2022-02-21T08:28:23.953133Z",
     "iopub.status.idle": "2022-02-21T08:28:23.957137Z",
     "shell.execute_reply": "2022-02-21T08:28:23.957663Z"
    },
    "slideshow": {
     "slide_type": "fragment"
    }
   },
   "outputs": [
    {
     "data": {
      "text/plain": [
       "'50022'"
      ]
     },
     "execution_count": 127,
     "metadata": {},
     "output_type": "execute_result"
    }
   ],
   "source": [
    "config = configparser.ConfigParser()\n",
    "config.read('example.ini')\n",
    "topsecret = config['topsecret.server.com']\n",
    "topsecret['Port']"
   ]
  },
  {
   "cell_type": "markdown",
   "metadata": {
    "slideshow": {
     "slide_type": "subslide"
    }
   },
   "source": [
    "#### Part 1: Read Configuration\n",
    "\n",
    "Using `configparser`, create a program reading in the above configuration file and accessing the individual elements."
   ]
  },
  {
   "cell_type": "markdown",
   "metadata": {
    "slideshow": {
     "slide_type": "subslide"
    }
   },
   "source": [
    "#### Part 2: Create a Configuration Grammar\n",
    "\n",
    "Design a grammar that will automatically create configuration files suitable for your above program.  Fuzz your program with it."
   ]
  },
  {
   "cell_type": "markdown",
   "metadata": {
    "slideshow": {
     "slide_type": "subslide"
    }
   },
   "source": [
    "#### Part 3: Mine a Configuration Grammar\n",
    "\n",
    "By dynamically tracking the individual accesses to configuration elements, you can again extract a basic grammar from the execution.  To this end, create a subclass of `ConfigParser` with a special method `__getitem__`:"
   ]
  },
  {
   "cell_type": "code",
   "execution_count": 128,
   "metadata": {
    "execution": {
     "iopub.execute_input": "2022-02-21T08:28:23.962234Z",
     "iopub.status.busy": "2022-02-21T08:28:23.961606Z",
     "iopub.status.idle": "2022-02-21T08:28:23.964007Z",
     "shell.execute_reply": "2022-02-21T08:28:23.963545Z"
    },
    "slideshow": {
     "slide_type": "fragment"
    },
    "solution2": "hidden",
    "solution2_first": true
   },
   "outputs": [],
   "source": [
    "class TrackingConfigParser(configparser.ConfigParser):\n",
    "    def __getitem__(self, key):\n",
    "        print(\"Accessing\", repr(key))\n",
    "        return super().__getitem__(key)"
   ]
  },
  {
   "cell_type": "markdown",
   "metadata": {
    "slideshow": {
     "slide_type": "fragment"
    }
   },
   "source": [
    "For a `TrackingConfigParser` object `p`, `p.__getitem__(key)` will be invoked whenever `p[key]` is accessed:"
   ]
  },
  {
   "cell_type": "code",
   "execution_count": 129,
   "metadata": {
    "execution": {
     "iopub.execute_input": "2022-02-21T08:28:23.969057Z",
     "iopub.status.busy": "2022-02-21T08:28:23.968208Z",
     "iopub.status.idle": "2022-02-21T08:28:23.970802Z",
     "shell.execute_reply": "2022-02-21T08:28:23.971303Z"
    },
    "slideshow": {
     "slide_type": "subslide"
    }
   },
   "outputs": [
    {
     "name": "stdout",
     "output_type": "stream",
     "text": [
      "Accessing 'topsecret.server.com'\n"
     ]
    }
   ],
   "source": [
    "tracking_config_parser = TrackingConfigParser()\n",
    "tracking_config_parser.read('example.ini')\n",
    "section = tracking_config_parser['topsecret.server.com']"
   ]
  },
  {
   "cell_type": "markdown",
   "metadata": {
    "slideshow": {
     "slide_type": "fragment"
    }
   },
   "source": [
    "Using `__getitem__()`, as above, implement a tracking mechanism that, while your program accesses the read configuration, automatically saves options accessed and values read.  Create a prototype grammar from these values; use it for fuzzing."
   ]
  },
  {
   "cell_type": "markdown",
   "metadata": {
    "slideshow": {
     "slide_type": "skip"
    }
   },
   "source": [
    "At the end, don't forget to clean up:"
   ]
  },
  {
   "cell_type": "code",
   "execution_count": 130,
   "metadata": {
    "execution": {
     "iopub.execute_input": "2022-02-21T08:28:23.974695Z",
     "iopub.status.busy": "2022-02-21T08:28:23.974126Z",
     "iopub.status.idle": "2022-02-21T08:28:23.975712Z",
     "shell.execute_reply": "2022-02-21T08:28:23.976088Z"
    },
    "slideshow": {
     "slide_type": "skip"
    }
   },
   "outputs": [],
   "source": [
    "import os"
   ]
  },
  {
   "cell_type": "code",
   "execution_count": 131,
   "metadata": {
    "execution": {
     "iopub.execute_input": "2022-02-21T08:28:23.980132Z",
     "iopub.status.busy": "2022-02-21T08:28:23.979450Z",
     "iopub.status.idle": "2022-02-21T08:28:23.981366Z",
     "shell.execute_reply": "2022-02-21T08:28:23.982219Z"
    },
    "slideshow": {
     "slide_type": "skip"
    },
    "solution2": "hidden",
    "solution2_first": true
   },
   "outputs": [],
   "source": [
    "os.remove(\"example.ini\")"
   ]
  },
  {
   "cell_type": "markdown",
   "metadata": {
    "slideshow": {
     "slide_type": "skip"
    },
    "solution2": "hidden"
   },
   "source": [
    "**Solution.** Left to the reader.  Enjoy!"
   ]
  },
  {
   "cell_type": "markdown",
   "metadata": {
    "button": false,
    "new_sheet": false,
    "run_control": {
     "read_only": false
    },
    "slideshow": {
     "slide_type": "subslide"
    },
    "toc-hr-collapsed": true
   },
   "source": [
    "### Exercise 3: Extracting and Fuzzing C Command-Line Options\n",
    "\n",
    "In C programs, the `getopt()` function are frequently used to process configuration options.  A call\n",
    "\n",
    "```\n",
    "getopt(argc, argv, \"bf:\")\n",
    "```\n",
    "\n",
    "indicates that the program accepts two options `-b` and `-f`, with `-f` taking an argument (as indicated by the following colon)."
   ]
  },
  {
   "cell_type": "markdown",
   "metadata": {
    "cell_style": "center",
    "slideshow": {
     "slide_type": "subslide"
    },
    "solution2": "hidden",
    "solution2_first": true
   },
   "source": [
    "#### Part 1: Getopt Fuzzing\n",
    "\n",
    "Write a framework which, for a given C program, automatically extracts the argument to `getopt()` and derives a fuzzing grammar for it.  There are multiple ways to achieve this:\n",
    "\n",
    "1. Scan the program source code for occurrences of `getopt()` and return the string passed.  (Crude, but should frequently work.)\n",
    "2. Insert your own implementation of `getopt()` into the source code (effectively replacing `getopt()` from the runtime library), which outputs the `getopt()` argument and exits the program.  Recompile and run.\n",
    "3. (Advanced.) As above, but instead of changing the source code, hook into the _dynamic linker_ which at runtime links the program with the C runtime library.  Set the library loading path (on Linux and Unix, this is the `LD_LIBRARY_PATH` environment variable) such that your own version of `getopt()` is linked first, and the regular libraries later.  Executing the program (without recompiling) should yield the desired result.\n",
    "\n",
    "Apply this on `grep` and `ls`; report the resulting grammars and results."
   ]
  },
  {
   "cell_type": "markdown",
   "metadata": {
    "slideshow": {
     "slide_type": "skip"
    },
    "solution2": "hidden"
   },
   "source": [
    "**Solution.** Left to the reader.  Enjoy hacking!"
   ]
  },
  {
   "cell_type": "markdown",
   "metadata": {
    "slideshow": {
     "slide_type": "subslide"
    },
    "solution2": "hidden",
    "solution2_first": true
   },
   "source": [
    "#### Part 2: Fuzzing Long Options in C\n",
    "\n",
    "Same as Part 1, but also hook into the GNU variant `getopt_long()`, which accepts \"long\" arguments with double dashes such as `--help`.  Note that method 1, above, will not work here, since the \"long\" options are defined in a separately defined structure."
   ]
  },
  {
   "cell_type": "markdown",
   "metadata": {
    "slideshow": {
     "slide_type": "skip"
    },
    "solution2": "hidden"
   },
   "source": [
    "**Solution.** Left to the reader.  Enjoy hacking!"
   ]
  },
  {
   "cell_type": "markdown",
   "metadata": {
    "button": false,
    "new_sheet": false,
    "run_control": {
     "read_only": false
    },
    "slideshow": {
     "slide_type": "subslide"
    }
   },
   "source": [
    "### Exercise 4: Expansions in Context\n",
    "\n",
    "In our above option configurations, we have multiple symbols which all expand to the same integer.  For instance, the `--line-range` option of `autopep8` takes two `<line>` parameters which both expand into the same `<int>` symbol:\n",
    "\n",
    "```\n",
    "<option> ::= ... | --line-range <line> <line> | ...\n",
    "<line> ::= <int>\n",
    "<int> ::= (-)?<digit>+\n",
    "<digit> ::= 0 | 1 | 2 | 3 | 4 | 5 | 6 | 7 | 8 | 9\n",
    "```"
   ]
  },
  {
   "cell_type": "code",
   "execution_count": 132,
   "metadata": {
    "cell_style": "center",
    "execution": {
     "iopub.execute_input": "2022-02-21T08:28:23.987290Z",
     "iopub.status.busy": "2022-02-21T08:28:23.986660Z",
     "iopub.status.idle": "2022-02-21T08:28:23.989334Z",
     "shell.execute_reply": "2022-02-21T08:28:23.989726Z"
    },
    "slideshow": {
     "slide_type": "subslide"
    }
   },
   "outputs": [
    {
     "data": {
      "text/plain": [
       "['<int>']"
      ]
     },
     "execution_count": 132,
     "metadata": {},
     "output_type": "execute_result"
    }
   ],
   "source": [
    "autopep8_runner.ebnf_grammar()[\"<line>\"]"
   ]
  },
  {
   "cell_type": "code",
   "execution_count": 133,
   "metadata": {
    "cell_style": "center",
    "execution": {
     "iopub.execute_input": "2022-02-21T08:28:23.993671Z",
     "iopub.status.busy": "2022-02-21T08:28:23.992954Z",
     "iopub.status.idle": "2022-02-21T08:28:23.995595Z",
     "shell.execute_reply": "2022-02-21T08:28:23.995978Z"
    },
    "slideshow": {
     "slide_type": "fragment"
    }
   },
   "outputs": [
    {
     "data": {
      "text/plain": [
       "['(-)?<digit>+']"
      ]
     },
     "execution_count": 133,
     "metadata": {},
     "output_type": "execute_result"
    }
   ],
   "source": [
    "autopep8_runner.ebnf_grammar()[\"<int>\"]"
   ]
  },
  {
   "cell_type": "code",
   "execution_count": 134,
   "metadata": {
    "execution": {
     "iopub.execute_input": "2022-02-21T08:28:24.000805Z",
     "iopub.status.busy": "2022-02-21T08:28:23.999819Z",
     "iopub.status.idle": "2022-02-21T08:28:24.003823Z",
     "shell.execute_reply": "2022-02-21T08:28:24.004310Z"
    },
    "slideshow": {
     "slide_type": "fragment"
    }
   },
   "outputs": [
    {
     "data": {
      "text/plain": [
       "['0', '1', '2', '3', '4', '5', '6', '7', '8', '9']"
      ]
     },
     "execution_count": 134,
     "metadata": {},
     "output_type": "execute_result"
    }
   ],
   "source": [
    "autopep8_runner.ebnf_grammar()[\"<digit>\"]"
   ]
  },
  {
   "cell_type": "markdown",
   "metadata": {
    "slideshow": {
     "slide_type": "fragment"
    }
   },
   "source": [
    "Once the `GrammarCoverageFuzzer` has covered all variations of `<int>` (especially by covering all digits) for _one_ option, though, it will no longer strive to achieve such coverage for the next option.  Yet, it could be desirable to achieve such coverage for each option separately."
   ]
  },
  {
   "cell_type": "markdown",
   "metadata": {
    "slideshow": {
     "slide_type": "subslide"
    }
   },
   "source": [
    "One way to achieve this with our existing `GrammarCoverageFuzzer` is again to change the grammar accordingly.  The idea is to _duplicate_ expansions – that is, to replace an expansion of a symbol $s$ with a new symbol $s'$ whose definition is duplicated from $s$.  This way, $s'$ and $s$ are separate symbols from a coverage point of view and would be independently covered."
   ]
  },
  {
   "cell_type": "markdown",
   "metadata": {
    "slideshow": {
     "slide_type": "subslide"
    }
   },
   "source": [
    "As an example, consider again the above `--line-range` option.  If we want our tests to independently cover all elements of the two `<line>` parameters, we can duplicate the second `<line>` expansion into a new symbol `<line'>` with subsequent duplicated expansions:\n",
    "```\n",
    "<option> ::= ... | --line-range <line> <line'> | ...\n",
    "<line> ::= <int>\n",
    "<line'> ::= <int'>\n",
    "<int> ::= (-)?<digit>+\n",
    "<int'> ::= (-)?<digit'>+\n",
    "<digit> ::= 0 | 1 | 2 | 3 | 4 | 5 | 6 | 7 | 8 | 9\n",
    "<digit'> ::= 0 | 1 | 2 | 3 | 4 | 5 | 6 | 7 | 8 | 9\n",
    "```"
   ]
  },
  {
   "cell_type": "markdown",
   "metadata": {
    "slideshow": {
     "slide_type": "subslide"
    }
   },
   "source": [
    "Design a function `inline(grammar, symbol)` that returns a duplicate of `grammar` in which every occurrence of `<symbol>` and its expansions become separate copies.  The above grammar could be a result of `inline(autopep8_runner.ebnf_grammar(), \"<line>\")`."
   ]
  },
  {
   "cell_type": "markdown",
   "metadata": {
    "slideshow": {
     "slide_type": "subslide"
    }
   },
   "source": [
    "When copying, expansions in the copy should also refer to symbols in the copy.  Hence, when expanding `<int>` in\n",
    "\n",
    "```<int> ::= <int><digit>```\n",
    "\n",
    "make that\n",
    "\n",
    "```<int> ::= <int><digit>\n",
    "<int'> ::= <int'><digit'>\n",
    "```\n",
    "\n",
    "(and not `<int'> ::= <int><digit'>` or `<int'> ::= <int><digit>`)."
   ]
  },
  {
   "cell_type": "markdown",
   "metadata": {
    "slideshow": {
     "slide_type": "subslide"
    },
    "solution2": "hidden",
    "solution2_first": true
   },
   "source": [
    "Be sure to add precisely one new set of symbols for each occurrence in the original grammar, and not to expand further in the presence of recursion."
   ]
  },
  {
   "cell_type": "markdown",
   "metadata": {
    "slideshow": {
     "slide_type": "skip"
    },
    "solution2": "hidden"
   },
   "source": [
    "**Solution.** Again, left to the reader.  Enjoy!"
   ]
  }
 ],
 "metadata": {
  "ipub": {
   "bibliography": "fuzzingbook.bib",
   "toc": true
  },
  "kernelspec": {
   "display_name": "Python 3 (ipykernel)",
   "language": "python",
   "name": "python3"
  },
  "language_info": {
   "codemirror_mode": {
    "name": "ipython",
    "version": 3
   },
   "file_extension": ".py",
   "mimetype": "text/x-python",
   "name": "python",
   "nbconvert_exporter": "python",
   "pygments_lexer": "ipython3",
   "version": "3.9.7"
  },
  "toc": {
   "base_numbering": 1,
   "nav_menu": {},
   "number_sections": true,
   "sideBar": true,
   "skip_h1_title": true,
   "title_cell": "",
   "title_sidebar": "Contents",
   "toc_cell": false,
   "toc_position": {},
   "toc_section_display": true,
   "toc_window_display": true
  },
  "toc-autonumbering": false
 },
 "nbformat": 4,
 "nbformat_minor": 4
}
