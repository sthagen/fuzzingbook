{
 "cells": [
  {
   "cell_type": "markdown",
   "metadata": {
    "button": false,
    "new_sheet": false,
    "run_control": {
     "read_only": false
    },
    "slideshow": {
     "slide_type": "slide"
    },
    "tags": [],
    "toc-hr-collapsed": false
   },
   "source": [
    "# Testing Configurations\n",
    "\n",
    "The behavior of a program is not only governed by its data.  The _configuration_ of a program – that is, the settings that govern the execution of a program on its (regular) input data, as set by options or configuration files – just as well influences behavior, and thus can and should be tested.  In this chapter, we explore how to systematically _test_ and _cover_ software configurations.  By _automatically inferring configuration options_, we can apply these techniques out of the box, with no need for writing a grammar.  Finally, we show how to systematically cover _combinations_ of configuration options, quickly detecting unwanted interferences."
   ]
  },
  {
   "cell_type": "code",
   "execution_count": 1,
   "metadata": {
    "execution": {
     "iopub.execute_input": "2024-01-18T16:35:28.211485Z",
     "iopub.status.busy": "2024-01-18T16:35:28.211355Z",
     "iopub.status.idle": "2024-01-18T16:35:28.247714Z",
     "shell.execute_reply": "2024-01-18T16:35:28.247430Z"
    },
    "slideshow": {
     "slide_type": "skip"
    }
   },
   "outputs": [
    {
     "data": {
      "text/html": [
       "\n",
       "        <iframe\n",
       "            width=\"640\"\n",
       "            height=\"360\"\n",
       "            src=\"https://www.youtube-nocookie.com/embed/L0ztoXVru2U\"\n",
       "            frameborder=\"0\"\n",
       "            allowfullscreen\n",
       "            \n",
       "        ></iframe>\n",
       "        "
      ],
      "text/plain": [
       "<IPython.lib.display.IFrame at 0x111af74c0>"
      ]
     },
     "execution_count": 1,
     "metadata": {},
     "output_type": "execute_result"
    }
   ],
   "source": [
    "from bookutils import YouTubeVideo\n",
    "YouTubeVideo('L0ztoXVru2U')"
   ]
  },
  {
   "cell_type": "markdown",
   "metadata": {
    "button": false,
    "new_sheet": false,
    "run_control": {
     "read_only": false
    },
    "slideshow": {
     "slide_type": "skip"
    }
   },
   "source": [
    "**Prerequisites**\n",
    "\n",
    "* You should have read the [chapter on grammars](Grammars.ipynb).\n",
    "* You should have read the [chapter on grammar coverage](GrammarCoverageFuzzer.ipynb)."
   ]
  },
  {
   "cell_type": "code",
   "execution_count": 2,
   "metadata": {
    "execution": {
     "iopub.execute_input": "2024-01-18T16:35:28.268522Z",
     "iopub.status.busy": "2024-01-18T16:35:28.268345Z",
     "iopub.status.idle": "2024-01-18T16:35:28.270436Z",
     "shell.execute_reply": "2024-01-18T16:35:28.270184Z"
    },
    "slideshow": {
     "slide_type": "skip"
    }
   },
   "outputs": [],
   "source": [
    "import bookutils.setup"
   ]
  },
  {
   "cell_type": "code",
   "execution_count": 3,
   "metadata": {
    "execution": {
     "iopub.execute_input": "2024-01-18T16:35:28.271855Z",
     "iopub.status.busy": "2024-01-18T16:35:28.271752Z",
     "iopub.status.idle": "2024-01-18T16:35:28.273428Z",
     "shell.execute_reply": "2024-01-18T16:35:28.273047Z"
    },
    "slideshow": {
     "slide_type": "skip"
    }
   },
   "outputs": [],
   "source": [
    "from typing import List, Union, Optional, Callable, Type"
   ]
  },
  {
   "cell_type": "markdown",
   "metadata": {
    "jp-MarkdownHeadingCollapsed": true,
    "slideshow": {
     "slide_type": "skip"
    },
    "tags": []
   },
   "source": [
    "## Synopsis\n",
    "<!-- Automatically generated. Do not edit. -->\n",
    "\n",
    "To [use the code provided in this chapter](Importing.ipynb), write\n",
    "\n",
    "```python\n",
    ">>> from fuzzingbook.ConfigurationFuzzer import <identifier>\n",
    "```\n",
    "\n",
    "and then make use of the following features.\n",
    "\n",
    "\n",
    "This chapter provides two classes:\n",
    "\n",
    "* `OptionRunner` automatically extract command-line options from a Python program;\n",
    "* `OptionFuzzer` uses these to automatically test a Python program with a large variety of options.\n",
    "\n",
    "`OptionRunner` runs a program up to the point where it parses its arguments, and then extracts a grammar that describes its invocations:\n",
    "\n",
    "```python\n",
    ">>> autopep8_runner = OptionRunner(\"autopep8\", \"foo.py\")\n",
    "```\n",
    "The grammar can be extracted via the method `ebnf_grammar()`:\n",
    "\n",
    "```python\n",
    ">>> option_ebnf_grammar = autopep8_runner.ebnf_grammar()\n",
    ">>> option_ebnf_grammar\n",
    "{'<start>': ['(<option>)*<arguments>'],\n",
    " '<option>': [' -h',\n",
    "  ' --help',\n",
    "  ' --version',\n",
    "  ' -v',\n",
    "  ' --verbose',\n",
    "  ' -d',\n",
    "  ' --diff',\n",
    "  ' -i',\n",
    "  ' --in-place',\n",
    "  ' --global-config <filename>',\n",
    "  ' --ignore-local-config',\n",
    "  ' -r',\n",
    "  ' --recursive',\n",
    "  ' -j <n>',\n",
    "  ' --jobs <n>',\n",
    "  ' -p <n>',\n",
    "  ' --pep8-passes <n>',\n",
    "  ' -a',\n",
    "  ' --aggressive',\n",
    "  ' --experimental',\n",
    "  ' --exclude <globs>',\n",
    "  ' --list-fixes',\n",
    "  ' --ignore <errors>',\n",
    "  ' --select <errors>',\n",
    "  ' --max-line-length <n>',\n",
    "  ' --line-range <line> <line>',\n",
    "  ' --range <line> <line>',\n",
    "  ' --indent-size <int>',\n",
    "  ' --hang-closing',\n",
    "  ' --exit-code'],\n",
    " '<arguments>': [' foo.py'],\n",
    " '<str>': ['<char>+'],\n",
    " '<char>': ['0',\n",
    "  '1',\n",
    "  '2',\n",
    "  '3',\n",
    "  '4',\n",
    "  '5',\n",
    "  '6',\n",
    "  '7',\n",
    "  '8',\n",
    "  '9',\n",
    "  'a',\n",
    "  'b',\n",
    "  'c',\n",
    "  'd',\n",
    "  'e',\n",
    "  'f',\n",
    "  'g',\n",
    "  'h',\n",
    "  'i',\n",
    "  'j',\n",
    "  'k',\n",
    "  'l',\n",
    "  'm',\n",
    "  'n',\n",
    "  'o',\n",
    "  'p',\n",
    "  'q',\n",
    "  'r',\n",
    "  's',\n",
    "  't',\n",
    "  'u',\n",
    "  'v',\n",
    "  'w',\n",
    "  'x',\n",
    "  'y',\n",
    "  'z',\n",
    "  'A',\n",
    "  'B',\n",
    "  'C',\n",
    "  'D',\n",
    "  'E',\n",
    "  'F',\n",
    "  'G',\n",
    "  'H',\n",
    "  'I',\n",
    "  'J',\n",
    "  'K',\n",
    "  'L',\n",
    "  'M',\n",
    "  'N',\n",
    "  'O',\n",
    "  'P',\n",
    "  'Q',\n",
    "  'R',\n",
    "  'S',\n",
    "  'T',\n",
    "  'U',\n",
    "  'V',\n",
    "  'W',\n",
    "  'X',\n",
    "  'Y',\n",
    "  'Z',\n",
    "  '!',\n",
    "  '\"',\n",
    "  '#',\n",
    "  '$',\n",
    "  '%',\n",
    "  '&',\n",
    "  \"'\",\n",
    "  '(',\n",
    "  ')',\n",
    "  '*',\n",
    "  '+',\n",
    "  ',',\n",
    "  '-',\n",
    "  '.',\n",
    "  '/',\n",
    "  ':',\n",
    "  ';',\n",
    "  '<',\n",
    "  '=',\n",
    "  '>',\n",
    "  '?',\n",
    "  '@',\n",
    "  '[',\n",
    "  '\\\\',\n",
    "  ']',\n",
    "  '^',\n",
    "  '_',\n",
    "  '`',\n",
    "  '{',\n",
    "  '|',\n",
    "  '}',\n",
    "  '~'],\n",
    " '<filename>': ['<str>'],\n",
    " '<int>': ['(-)?<digit>+'],\n",
    " '<digit>': ['0', '1', '2', '3', '4', '5', '6', '7', '8', '9'],\n",
    " '<n>': ['<int>'],\n",
    " '<globs>': ['<str>'],\n",
    " '<errors>': ['<str>'],\n",
    " '<line>': ['<int>']}\n",
    "```\n",
    "The grammar can be immediately used for fuzzing. A `GrammarCoverageFuzzer` will ensure all options are covered:\n",
    "\n",
    "```python\n",
    ">>> from Grammars import convert_ebnf_grammar\n",
    ">>> fuzzer = GrammarCoverageFuzzer(convert_ebnf_grammar(option_ebnf_grammar))\n",
    ">>> [fuzzer.fuzz() for i in range(3)]\n",
    "[' --list-fixes foo.py',\n",
    " ' --version -i --range -5 04 --aggressive --diff -j 817 --help -d --hang-closing -p 26 -a --verbose --exclude |g -v --global-config f --recursive --ignore .= -r --experimental -h --line-range -317 9 --pep8-passes 8 --max-line-length 2 --indent-size 0 --in-place foo.py',\n",
    " ' --ignore-local-config --jobs 92 --exit-code --select Q\"6 --global-config (h --ignore )` --select M --select t,\\\\Z --global-config u5 --global-config ! --ignore <*p --ignore # --global-config c8N[ --ignore \\'x --global-config 09+ --select Y --ignore @ --global-config K --global-config T --exclude E --select odCAH --global-config DFR --ignore s --select ; --global-config Wyi --global-config q2 --exclude - --ignore r --global-config { --global-config zv$} --global-config 3O --ignore e]>lUSb --exclude V^ --global-config LBj --global-config X --select _ --exclude n4 --global-config %&/: --select a --global-config k --ignore 1 --ignore G~m?7 --exclude PJX --select I --select w -d foo.py']\n",
    "```\n",
    "The `OptionFuzzer` class summarizes these steps.  Its constructor takes an `OptionRunner` to automatically extract the grammar; it does the necessary steps to extract the grammar and fuzz with it.\n",
    "\n",
    "```python\n",
    ">>> autopep8_runner = OptionRunner(\"autopep8\", \"foo.py\")\n",
    ">>> autopep8_fuzzer = OptionFuzzer(autopep8_runner)\n",
    ">>> [autopep8_fuzzer.fuzz() for i in range(3)]\n",
    "[' foo.py',\n",
    " ' -a --hang-closing --aggressive --help -h --ignore : --verbose --diff --jobs 68 --line-range 4 -159 --indent-size -0 -d -i --range 27 38 --experimental --global-config gt --ignore-local-config --exit-code --in-place -v foo.py',\n",
    " ' --select ?H --pep8-passes 7 --max-line-length -154 -r --exclude P --recursive --list-fixes -j 77 --version -p 71 --global-config )c --select 4!m/ --ignore 1d3 --select ~ --ignore b[^ --global-config qn --exclude >V --exclude 2 --select $_iUzQ].0 --select ; --ignore 5M --ignore 9 --select pN`C --ignore 76(J --select Dh --exclude ov\" -h foo.py']\n",
    "```\n",
    "The final step in testing would now to invoke the program with these arguments.\n",
    "\n",
    "Note that `OptionRunner` is experimental: It assumes that the Python program in question uses the `argparse` module; and not all `argparse` features are supported.  Still, it does a pretty good job even on nontrivial programs.\n",
    "\n",
    "The `OptionRunner` constructor accepts an additional `miner` keyword parameter, which takes the class of the argument grammar miner to be used. By default, this is `OptionGrammarMiner` – a helper class that can be used (and extended) to create own option grammar miners.\n",
    "\n",
    "![](PICS/ConfigurationFuzzer-synopsis-1.svg)\n",
    "\n"
   ]
  },
  {
   "cell_type": "markdown",
   "metadata": {
    "button": false,
    "new_sheet": true,
    "run_control": {
     "read_only": false
    },
    "slideshow": {
     "slide_type": "slide"
    }
   },
   "source": [
    "## Configuration Options\n",
    "\n",
    "When we talk about the input to a program, we usually think of the _data_ it processes. This is also what we have been fuzzing in the past chapters – be it with [random input](Fuzzer.ipynb), [mutation-based fuzzing](MutationFuzzer.ipynb), or [grammar-based fuzzing](GrammarFuzzer.ipynb).  However, programs typically have several input sources, all of which can and should be tested – and included in test generation."
   ]
  },
  {
   "cell_type": "markdown",
   "metadata": {
    "button": false,
    "new_sheet": true,
    "run_control": {
     "read_only": false
    },
    "slideshow": {
     "slide_type": "subslide"
    }
   },
   "source": [
    "One important source of input is the program's _configuration_ – that is, a set of inputs that typically is set once when beginning to process data and then stays constant while processing data, while the program is running, or even while the program is deployed.  Such a configuration is frequently set in _configuration files_ (for instance, as key/value pairs); the most ubiquitous method for command-line tools, though, are _configuration options_ on the command line."
   ]
  },
  {
   "cell_type": "markdown",
   "metadata": {
    "slideshow": {
     "slide_type": "subslide"
    }
   },
   "source": [
    "As an example, consider the `grep` utility to find textual patterns in files.  The exact mode by which `grep` works is governed by a multitude of options, which can be listed by providing a `--help` option:"
   ]
  },
  {
   "cell_type": "code",
   "execution_count": 4,
   "metadata": {
    "execution": {
     "iopub.execute_input": "2024-01-18T16:35:28.275180Z",
     "iopub.status.busy": "2024-01-18T16:35:28.275056Z",
     "iopub.status.idle": "2024-01-18T16:35:28.409455Z",
     "shell.execute_reply": "2024-01-18T16:35:28.409101Z"
    },
    "slideshow": {
     "slide_type": "fragment"
    }
   },
   "outputs": [
    {
     "name": "stdout",
     "output_type": "stream",
     "text": [
      "usage: grep [-abcdDEFGHhIiJLlMmnOopqRSsUVvwXxZz] [-A num] [-B num] [-C[num]]\r\n",
      "\t[-e pattern] [-f file] [--binary-files=value] [--color=when]\r\n",
      "\t[--context[=num]] [--directories=action] [--label] [--line-buffered]\r\n",
      "\t[--null] [pattern] [file ...]\r\n"
     ]
    }
   ],
   "source": [
    "!grep --help"
   ]
  },
  {
   "cell_type": "markdown",
   "metadata": {
    "slideshow": {
     "slide_type": "fragment"
    }
   },
   "source": [
    "All these options need to be tested for whether they operate correctly.  In security testing, any such option may also trigger a yet unknown vulnerability.  Hence, such options can become _fuzz targets_ on their own.  In this chapter, we analyze how to systematically test such options – and better yet, how to extract possible configurations right out of given program files, such that we do not have to specify anything."
   ]
  },
  {
   "cell_type": "markdown",
   "metadata": {
    "slideshow": {
     "slide_type": "slide"
    }
   },
   "source": [
    "## Options in Python\n",
    "\n",
    "Let us stick to our common programming language here and examine how options are processed in Python.  The `argparse` module provides a parser for command-line arguments (and options) with great functionality – and great complexity.  You start by defining a parser (`argparse.ArgumentParser()`) to which individual arguments with various features are added, one after another.  Additional parameters for each argument can specify the type (`type`) of the argument (say, integers or strings), or the number of arguments (`nargs`)."
   ]
  },
  {
   "attachments": {},
   "cell_type": "markdown",
   "metadata": {
    "slideshow": {
     "slide_type": "subslide"
    }
   },
   "source": [
    "By default, arguments are stored under their name in the `args` object coming from `parse_args()` – thus, `args.integers` holds the `integer` arguments added earlier.  Special actions (`actions`) allow storing specific values in given variables; the `store_const` action stores the given `const` in the attribute named by `dest`.  The following example takes a number of integer arguments (`integers`) as well as an operator (`--sum`, `--min`, or `--max`) to be applied on these integers.  The operators all store a function reference in the `accumulate` attribute, which is finally invoked on the integers parsed:"
   ]
  },
  {
   "cell_type": "code",
   "execution_count": 5,
   "metadata": {
    "execution": {
     "iopub.execute_input": "2024-01-18T16:35:28.411562Z",
     "iopub.status.busy": "2024-01-18T16:35:28.411433Z",
     "iopub.status.idle": "2024-01-18T16:35:28.413291Z",
     "shell.execute_reply": "2024-01-18T16:35:28.412977Z"
    },
    "slideshow": {
     "slide_type": "skip"
    }
   },
   "outputs": [],
   "source": [
    "import argparse"
   ]
  },
  {
   "cell_type": "code",
   "execution_count": 6,
   "metadata": {
    "execution": {
     "iopub.execute_input": "2024-01-18T16:35:28.414920Z",
     "iopub.status.busy": "2024-01-18T16:35:28.414799Z",
     "iopub.status.idle": "2024-01-18T16:35:28.417688Z",
     "shell.execute_reply": "2024-01-18T16:35:28.417401Z"
    },
    "slideshow": {
     "slide_type": "subslide"
    }
   },
   "outputs": [],
   "source": [
    "def process_numbers(args=[]):\n",
    "    parser = argparse.ArgumentParser(description='Process some integers.')\n",
    "    parser.add_argument('integers', metavar='N', type=int, nargs='+',\n",
    "                        help='an integer for the accumulator')\n",
    "    group = parser.add_mutually_exclusive_group(required=True)\n",
    "    group.add_argument('--sum', dest='accumulate', action='store_const',\n",
    "                       const=sum,\n",
    "                       help='sum the integers')\n",
    "    group.add_argument('--min', dest='accumulate', action='store_const',\n",
    "                       const=min,\n",
    "                       help='compute the minimum')\n",
    "    group.add_argument('--max', dest='accumulate', action='store_const',\n",
    "                       const=max,\n",
    "                       help='compute the maximum')\n",
    "\n",
    "    args = parser.parse_args(args)\n",
    "    print(args.accumulate(args.integers))"
   ]
  },
  {
   "cell_type": "markdown",
   "metadata": {
    "slideshow": {
     "slide_type": "subslide"
    }
   },
   "source": [
    "Here's how `process_numbers()` works.  We can, for instance, invoke the `--min` option on the given arguments to compute the minimum:"
   ]
  },
  {
   "cell_type": "code",
   "execution_count": 7,
   "metadata": {
    "execution": {
     "iopub.execute_input": "2024-01-18T16:35:28.419485Z",
     "iopub.status.busy": "2024-01-18T16:35:28.419228Z",
     "iopub.status.idle": "2024-01-18T16:35:28.421688Z",
     "shell.execute_reply": "2024-01-18T16:35:28.421434Z"
    },
    "slideshow": {
     "slide_type": "fragment"
    }
   },
   "outputs": [
    {
     "name": "stdout",
     "output_type": "stream",
     "text": [
      "100\n"
     ]
    }
   ],
   "source": [
    "process_numbers([\"--min\", \"100\", \"200\", \"300\"])"
   ]
  },
  {
   "cell_type": "markdown",
   "metadata": {
    "slideshow": {
     "slide_type": "fragment"
    }
   },
   "source": [
    "Or compute the sum of three numbers:"
   ]
  },
  {
   "cell_type": "code",
   "execution_count": 8,
   "metadata": {
    "execution": {
     "iopub.execute_input": "2024-01-18T16:35:28.423529Z",
     "iopub.status.busy": "2024-01-18T16:35:28.423387Z",
     "iopub.status.idle": "2024-01-18T16:35:28.425613Z",
     "shell.execute_reply": "2024-01-18T16:35:28.425338Z"
    },
    "slideshow": {
     "slide_type": "fragment"
    }
   },
   "outputs": [
    {
     "name": "stdout",
     "output_type": "stream",
     "text": [
      "6\n"
     ]
    }
   ],
   "source": [
    "process_numbers([\"--sum\", \"1\", \"2\", \"3\"])"
   ]
  },
  {
   "cell_type": "markdown",
   "metadata": {
    "slideshow": {
     "slide_type": "subslide"
    }
   },
   "source": [
    "When defined via `add_mutually_exclusive_group()` (as above), options are mutually exclusive.  Consequently, we can have only one operator:"
   ]
  },
  {
   "cell_type": "code",
   "execution_count": 9,
   "metadata": {
    "execution": {
     "iopub.execute_input": "2024-01-18T16:35:28.427234Z",
     "iopub.status.busy": "2024-01-18T16:35:28.427113Z",
     "iopub.status.idle": "2024-01-18T16:35:28.428829Z",
     "shell.execute_reply": "2024-01-18T16:35:28.428559Z"
    },
    "slideshow": {
     "slide_type": "skip"
    }
   },
   "outputs": [],
   "source": [
    "import bookutils.setup"
   ]
  },
  {
   "cell_type": "code",
   "execution_count": 10,
   "metadata": {
    "execution": {
     "iopub.execute_input": "2024-01-18T16:35:28.430396Z",
     "iopub.status.busy": "2024-01-18T16:35:28.430273Z",
     "iopub.status.idle": "2024-01-18T16:35:28.472884Z",
     "shell.execute_reply": "2024-01-18T16:35:28.472543Z"
    },
    "slideshow": {
     "slide_type": "skip"
    }
   },
   "outputs": [],
   "source": [
    "from ExpectError import ExpectError"
   ]
  },
  {
   "cell_type": "code",
   "execution_count": 11,
   "metadata": {
    "execution": {
     "iopub.execute_input": "2024-01-18T16:35:28.474844Z",
     "iopub.status.busy": "2024-01-18T16:35:28.474721Z",
     "iopub.status.idle": "2024-01-18T16:35:28.479155Z",
     "shell.execute_reply": "2024-01-18T16:35:28.478868Z"
    },
    "slideshow": {
     "slide_type": "fragment"
    }
   },
   "outputs": [
    {
     "name": "stderr",
     "output_type": "stream",
     "text": [
      "usage: ipykernel_launcher.py [-h] (--sum | --min | --max) N [N ...]\n",
      "ipykernel_launcher.py: error: argument --max: not allowed with argument --sum\n",
      "SystemExit: 2 (expected)\n"
     ]
    }
   ],
   "source": [
    "with ExpectError(SystemExit, print_traceback=False):\n",
    "    process_numbers([\"--sum\", \"--max\", \"1\", \"2\", \"3\"])"
   ]
  },
  {
   "cell_type": "markdown",
   "metadata": {
    "slideshow": {
     "slide_type": "slide"
    }
   },
   "source": [
    "## A Grammar for Configurations\n",
    "\n",
    "How can we test a system with several options?  The easiest answer is to write a grammar for it.  The grammar `PROCESS_NUMBERS_EBNF_GRAMMAR` reflects the possible combinations of options and arguments:"
   ]
  },
  {
   "cell_type": "code",
   "execution_count": 12,
   "metadata": {
    "execution": {
     "iopub.execute_input": "2024-01-18T16:35:28.481367Z",
     "iopub.status.busy": "2024-01-18T16:35:28.481252Z",
     "iopub.status.idle": "2024-01-18T16:35:28.911231Z",
     "shell.execute_reply": "2024-01-18T16:35:28.910781Z"
    },
    "slideshow": {
     "slide_type": "skip"
    }
   },
   "outputs": [],
   "source": [
    "from Grammars import crange, srange, convert_ebnf_grammar, extend_grammar, is_valid_grammar\n",
    "from Grammars import START_SYMBOL, new_symbol, Grammar"
   ]
  },
  {
   "cell_type": "code",
   "execution_count": 13,
   "metadata": {
    "execution": {
     "iopub.execute_input": "2024-01-18T16:35:28.913420Z",
     "iopub.status.busy": "2024-01-18T16:35:28.913255Z",
     "iopub.status.idle": "2024-01-18T16:35:28.915304Z",
     "shell.execute_reply": "2024-01-18T16:35:28.915058Z"
    },
    "slideshow": {
     "slide_type": "fragment"
    }
   },
   "outputs": [],
   "source": [
    "PROCESS_NUMBERS_EBNF_GRAMMAR: Grammar = {\n",
    "    \"<start>\": [\"<operator> <integers>\"],\n",
    "    \"<operator>\": [\"--sum\", \"--min\", \"--max\"],\n",
    "    \"<integers>\": [\"<integer>\", \"<integers> <integer>\"],\n",
    "    \"<integer>\": [\"<digit>+\"],\n",
    "    \"<digit>\": crange('0', '9')\n",
    "}\n",
    "\n",
    "assert is_valid_grammar(PROCESS_NUMBERS_EBNF_GRAMMAR)"
   ]
  },
  {
   "cell_type": "code",
   "execution_count": 14,
   "metadata": {
    "execution": {
     "iopub.execute_input": "2024-01-18T16:35:28.916981Z",
     "iopub.status.busy": "2024-01-18T16:35:28.916845Z",
     "iopub.status.idle": "2024-01-18T16:35:28.918687Z",
     "shell.execute_reply": "2024-01-18T16:35:28.918395Z"
    },
    "slideshow": {
     "slide_type": "fragment"
    }
   },
   "outputs": [],
   "source": [
    "PROCESS_NUMBERS_GRAMMAR = convert_ebnf_grammar(PROCESS_NUMBERS_EBNF_GRAMMAR)"
   ]
  },
  {
   "cell_type": "markdown",
   "metadata": {
    "slideshow": {
     "slide_type": "subslide"
    }
   },
   "source": [
    "We can feed this grammar into our [grammar coverage fuzzer](GrammarCoverageFuzzer.ipynb) and have it cover one option after another:"
   ]
  },
  {
   "cell_type": "code",
   "execution_count": 15,
   "metadata": {
    "execution": {
     "iopub.execute_input": "2024-01-18T16:35:28.920398Z",
     "iopub.status.busy": "2024-01-18T16:35:28.920270Z",
     "iopub.status.idle": "2024-01-18T16:35:29.176260Z",
     "shell.execute_reply": "2024-01-18T16:35:29.175350Z"
    },
    "slideshow": {
     "slide_type": "skip"
    }
   },
   "outputs": [],
   "source": [
    "from GrammarCoverageFuzzer import GrammarCoverageFuzzer"
   ]
  },
  {
   "cell_type": "code",
   "execution_count": 16,
   "metadata": {
    "execution": {
     "iopub.execute_input": "2024-01-18T16:35:29.182619Z",
     "iopub.status.busy": "2024-01-18T16:35:29.182011Z",
     "iopub.status.idle": "2024-01-18T16:35:29.219266Z",
     "shell.execute_reply": "2024-01-18T16:35:29.217487Z"
    },
    "slideshow": {
     "slide_type": "fragment"
    }
   },
   "outputs": [
    {
     "name": "stdout",
     "output_type": "stream",
     "text": [
      "--max 9 5 8 210 80 9756431\n",
      "--sum 9 4 99 1245 612370\n",
      "--min 2 3 0 46 15798 7570926\n"
     ]
    }
   ],
   "source": [
    "f = GrammarCoverageFuzzer(PROCESS_NUMBERS_GRAMMAR, min_nonterminals=10)\n",
    "for i in range(3):\n",
    "    print(f.fuzz())"
   ]
  },
  {
   "cell_type": "markdown",
   "metadata": {
    "slideshow": {
     "slide_type": "subslide"
    }
   },
   "source": [
    "Of course, we can also invoke `process_numbers()` with these very arguments. To this end, we need to convert the string produced by the grammar back into a list of individual arguments, using `split()`:"
   ]
  },
  {
   "cell_type": "code",
   "execution_count": 17,
   "metadata": {
    "execution": {
     "iopub.execute_input": "2024-01-18T16:35:29.227057Z",
     "iopub.status.busy": "2024-01-18T16:35:29.226706Z",
     "iopub.status.idle": "2024-01-18T16:35:29.257801Z",
     "shell.execute_reply": "2024-01-18T16:35:29.257424Z"
    },
    "slideshow": {
     "slide_type": "fragment"
    }
   },
   "outputs": [
    {
     "name": "stdout",
     "output_type": "stream",
     "text": [
      "['--max', '8', '9', '3067', '44', '13852967057']\n",
      "13852967057\n",
      "['--sum', '9', '8', '63', '9278111', '59206197798']\n",
      "59215475989\n",
      "['--min', '4', '1', '4864', '33342', '7827970808951']\n",
      "1\n"
     ]
    }
   ],
   "source": [
    "f = GrammarCoverageFuzzer(PROCESS_NUMBERS_GRAMMAR, min_nonterminals=10)\n",
    "for i in range(3):\n",
    "    args = f.fuzz().split()\n",
    "    print(args)\n",
    "    process_numbers(args)"
   ]
  },
  {
   "attachments": {},
   "cell_type": "markdown",
   "metadata": {
    "slideshow": {
     "slide_type": "subslide"
    }
   },
   "source": [
    "Similarly, we can define grammars for any program to be tested; as well as define grammars for, say, configuration files.  Yet, the grammar has to be updated with every change to the program, which creates a maintenance burden.  Given that the information required for the grammar is already all encoded in the program, the question arises: _Can't we go and extract configuration options right out of the program in the first place?_"
   ]
  },
  {
   "cell_type": "markdown",
   "metadata": {
    "slideshow": {
     "slide_type": "fragment"
    }
   },
   "source": [
    "## Mining Configuration Options\n",
    "\n",
    "In this section, we try to extract option and argument information right out of a program, such that we do not have to specify a configuration grammar.  The aim is to have a configuration fuzzer that works on the options and arguments of an arbitrary program, as long as it follows specific conventions for processing its arguments.  In the case of Python programs, this means using the `argparse` module.\n",
    "\n",
    "Our idea is as follows: We execute the given program up to the point where the arguments are actually parsed – that is, `argparse.parse_args()` is invoked.  Up to this point, we track all calls into the argument parser, notably those calls that define arguments and options (`add_argument()`).  From these, we construct the grammar."
   ]
  },
  {
   "cell_type": "markdown",
   "metadata": {
    "slideshow": {
     "slide_type": "fragment"
    }
   },
   "source": [
    "### Tracking Arguments\n",
    "\n",
    "Let us illustrate this approach with a simple experiment: We define a trace function (see [our chapter on coverage](Coverage.ipynb) for details) that is active while `process_numbers` is invoked.  If we have a call to a method `add_argument`, we access and print out the local variables (which at this point are the arguments to the method)."
   ]
  },
  {
   "cell_type": "code",
   "execution_count": 18,
   "metadata": {
    "execution": {
     "iopub.execute_input": "2024-01-18T16:35:29.259715Z",
     "iopub.status.busy": "2024-01-18T16:35:29.259589Z",
     "iopub.status.idle": "2024-01-18T16:35:29.261252Z",
     "shell.execute_reply": "2024-01-18T16:35:29.260998Z"
    },
    "slideshow": {
     "slide_type": "skip"
    }
   },
   "outputs": [],
   "source": [
    "import sys"
   ]
  },
  {
   "cell_type": "code",
   "execution_count": 19,
   "metadata": {
    "execution": {
     "iopub.execute_input": "2024-01-18T16:35:29.262758Z",
     "iopub.status.busy": "2024-01-18T16:35:29.262652Z",
     "iopub.status.idle": "2024-01-18T16:35:29.264236Z",
     "shell.execute_reply": "2024-01-18T16:35:29.263985Z"
    },
    "slideshow": {
     "slide_type": "skip"
    }
   },
   "outputs": [],
   "source": [
    "import string"
   ]
  },
  {
   "cell_type": "code",
   "execution_count": 20,
   "metadata": {
    "execution": {
     "iopub.execute_input": "2024-01-18T16:35:29.265668Z",
     "iopub.status.busy": "2024-01-18T16:35:29.265576Z",
     "iopub.status.idle": "2024-01-18T16:35:29.267620Z",
     "shell.execute_reply": "2024-01-18T16:35:29.267315Z"
    },
    "slideshow": {
     "slide_type": "fragment"
    }
   },
   "outputs": [],
   "source": [
    "def trace_locals(frame, event, arg):\n",
    "    if event != \"call\":\n",
    "        return\n",
    "    method_name = frame.f_code.co_name\n",
    "    if method_name != \"add_argument\":\n",
    "        return\n",
    "    locals = frame.f_locals\n",
    "    print(method_name, locals)"
   ]
  },
  {
   "cell_type": "markdown",
   "metadata": {
    "slideshow": {
     "slide_type": "subslide"
    }
   },
   "source": [
    "What we get is a list of all calls to `add_argument()`, together with the method arguments passed:"
   ]
  },
  {
   "cell_type": "code",
   "execution_count": 21,
   "metadata": {
    "execution": {
     "iopub.execute_input": "2024-01-18T16:35:29.269146Z",
     "iopub.status.busy": "2024-01-18T16:35:29.269035Z",
     "iopub.status.idle": "2024-01-18T16:35:29.271377Z",
     "shell.execute_reply": "2024-01-18T16:35:29.271141Z"
    },
    "slideshow": {
     "slide_type": "fragment"
    }
   },
   "outputs": [
    {
     "name": "stdout",
     "output_type": "stream",
     "text": [
      "add_argument {'self': ArgumentParser(prog='ipykernel_launcher.py', usage=None, description='Process some integers.', formatter_class=<class 'argparse.HelpFormatter'>, conflict_handler='error', add_help=True), 'args': ('-h', '--help'), 'kwargs': {'action': 'help', 'default': '==SUPPRESS==', 'help': 'show this help message and exit'}}\n",
      "add_argument {'self': ArgumentParser(prog='ipykernel_launcher.py', usage=None, description='Process some integers.', formatter_class=<class 'argparse.HelpFormatter'>, conflict_handler='error', add_help=True), 'args': ('integers',), 'kwargs': {'metavar': 'N', 'type': <class 'int'>, 'nargs': '+', 'help': 'an integer for the accumulator'}}\n",
      "add_argument {'self': <argparse._MutuallyExclusiveGroup object at 0x112947e20>, 'args': ('--sum',), 'kwargs': {'dest': 'accumulate', 'action': 'store_const', 'const': <built-in function sum>, 'help': 'sum the integers'}}\n",
      "add_argument {'self': <argparse._MutuallyExclusiveGroup object at 0x112947e20>, 'args': ('--min',), 'kwargs': {'dest': 'accumulate', 'action': 'store_const', 'const': <built-in function min>, 'help': 'compute the minimum'}}\n",
      "add_argument {'self': <argparse._MutuallyExclusiveGroup object at 0x112947e20>, 'args': ('--max',), 'kwargs': {'dest': 'accumulate', 'action': 'store_const', 'const': <built-in function max>, 'help': 'compute the maximum'}}\n",
      "6\n"
     ]
    }
   ],
   "source": [
    "sys.settrace(trace_locals)\n",
    "process_numbers([\"--sum\", \"1\", \"2\", \"3\"])\n",
    "sys.settrace(None)"
   ]
  },
  {
   "cell_type": "markdown",
   "metadata": {
    "slideshow": {
     "slide_type": "subslide"
    }
   },
   "source": [
    "From the `args` argument, we can access the individual options and arguments to be defined:"
   ]
  },
  {
   "cell_type": "code",
   "execution_count": 22,
   "metadata": {
    "execution": {
     "iopub.execute_input": "2024-01-18T16:35:29.273288Z",
     "iopub.status.busy": "2024-01-18T16:35:29.273154Z",
     "iopub.status.idle": "2024-01-18T16:35:29.275239Z",
     "shell.execute_reply": "2024-01-18T16:35:29.275003Z"
    },
    "slideshow": {
     "slide_type": "fragment"
    }
   },
   "outputs": [],
   "source": [
    "def trace_options(frame, event, arg):\n",
    "    if event != \"call\":\n",
    "        return\n",
    "    method_name = frame.f_code.co_name\n",
    "    if method_name != \"add_argument\":\n",
    "        return\n",
    "    locals = frame.f_locals\n",
    "    print(locals['args'])"
   ]
  },
  {
   "cell_type": "code",
   "execution_count": 23,
   "metadata": {
    "execution": {
     "iopub.execute_input": "2024-01-18T16:35:29.276843Z",
     "iopub.status.busy": "2024-01-18T16:35:29.276730Z",
     "iopub.status.idle": "2024-01-18T16:35:29.279071Z",
     "shell.execute_reply": "2024-01-18T16:35:29.278841Z"
    },
    "slideshow": {
     "slide_type": "fragment"
    }
   },
   "outputs": [
    {
     "name": "stdout",
     "output_type": "stream",
     "text": [
      "('-h', '--help')\n",
      "('integers',)\n",
      "('--sum',)\n",
      "('--min',)\n",
      "('--max',)\n",
      "6\n"
     ]
    }
   ],
   "source": [
    "sys.settrace(trace_options)\n",
    "process_numbers([\"--sum\", \"1\", \"2\", \"3\"])\n",
    "sys.settrace(None)"
   ]
  },
  {
   "cell_type": "markdown",
   "metadata": {
    "slideshow": {
     "slide_type": "subslide"
    }
   },
   "source": [
    "We see that each argument comes as a tuple with one (say, `integers` or `--sum`) or two members (`-h` and `--help`), which denote alternate forms for the same option.  Our job will be to go through the arguments of `add_arguments()` and detect not only the names of options and arguments, but also whether they accept additional parameters, as well as the type of the parameters."
   ]
  },
  {
   "cell_type": "markdown",
   "metadata": {
    "slideshow": {
     "slide_type": "subslide"
    }
   },
   "source": [
    "### A Grammar Miner for Options and Arguments"
   ]
  },
  {
   "cell_type": "markdown",
   "metadata": {
    "slideshow": {
     "slide_type": "fragment"
    }
   },
   "source": [
    "Let us now build a class that gathers all this information to create a grammar."
   ]
  },
  {
   "cell_type": "markdown",
   "metadata": {
    "slideshow": {
     "slide_type": "fragment"
    }
   },
   "source": [
    "We use the `ParseInterrupt` exception to interrupt program execution after gathering all arguments and options:"
   ]
  },
  {
   "cell_type": "code",
   "execution_count": 24,
   "metadata": {
    "execution": {
     "iopub.execute_input": "2024-01-18T16:35:29.280653Z",
     "iopub.status.busy": "2024-01-18T16:35:29.280546Z",
     "iopub.status.idle": "2024-01-18T16:35:29.282112Z",
     "shell.execute_reply": "2024-01-18T16:35:29.281876Z"
    },
    "slideshow": {
     "slide_type": "fragment"
    }
   },
   "outputs": [],
   "source": [
    "class ParseInterrupt(Exception):\n",
    "    pass"
   ]
  },
  {
   "cell_type": "markdown",
   "metadata": {
    "slideshow": {
     "slide_type": "fragment"
    }
   },
   "source": [
    "The class `OptionGrammarMiner` takes an executable function for which the grammar of options and arguments is to be mined:"
   ]
  },
  {
   "cell_type": "code",
   "execution_count": 25,
   "metadata": {
    "execution": {
     "iopub.execute_input": "2024-01-18T16:35:29.283611Z",
     "iopub.status.busy": "2024-01-18T16:35:29.283524Z",
     "iopub.status.idle": "2024-01-18T16:35:29.285352Z",
     "shell.execute_reply": "2024-01-18T16:35:29.285101Z"
    },
    "slideshow": {
     "slide_type": "fragment"
    }
   },
   "outputs": [],
   "source": [
    "class OptionGrammarMiner:\n",
    "    \"\"\"Helper class for extracting option grammars\"\"\"\n",
    "\n",
    "    def __init__(self, function: Callable, log: bool = False):\n",
    "        \"\"\"Constructor.\n",
    "        `function` - a function processing arguments using argparse()\n",
    "        `log` - output diagnostics if True\n",
    "        \"\"\"\n",
    "        self.function = function\n",
    "        self.log = log"
   ]
  },
  {
   "cell_type": "markdown",
   "metadata": {
    "slideshow": {
     "slide_type": "subslide"
    }
   },
   "source": [
    "The method `mine_ebnf_grammar()` is where everything happens.  It creates a grammar of the form\n",
    "\n",
    "```\n",
    "<start> ::= <option>* <arguments>\n",
    "<option> ::= <empty>\n",
    "<arguments> ::= <empty>\n",
    "```\n",
    "\n",
    "in which the options and arguments will be collected.  It then sets a trace function (see [our chapter on coverage](Coverage.ipynb) for details) that is active while the previously defined `function` is invoked.  Raising `ParseInterrupt` (when `parse_args()` is invoked) ends execution."
   ]
  },
  {
   "cell_type": "code",
   "execution_count": 26,
   "metadata": {
    "execution": {
     "iopub.execute_input": "2024-01-18T16:35:29.286810Z",
     "iopub.status.busy": "2024-01-18T16:35:29.286701Z",
     "iopub.status.idle": "2024-01-18T16:35:29.289211Z",
     "shell.execute_reply": "2024-01-18T16:35:29.288950Z"
    },
    "slideshow": {
     "slide_type": "subslide"
    }
   },
   "outputs": [],
   "source": [
    "class OptionGrammarMiner(OptionGrammarMiner):\n",
    "    OPTION_SYMBOL = \"<option>\"\n",
    "    ARGUMENTS_SYMBOL = \"<arguments>\"\n",
    "\n",
    "    def mine_ebnf_grammar(self):\n",
    "        \"\"\"Extract EBNF option grammar\"\"\"\n",
    "        self.grammar = {\n",
    "            START_SYMBOL: [\"(\" + self.OPTION_SYMBOL + \")*\" + self.ARGUMENTS_SYMBOL],\n",
    "            self.OPTION_SYMBOL: [],\n",
    "            self.ARGUMENTS_SYMBOL: []\n",
    "        }\n",
    "        self.current_group = self.OPTION_SYMBOL\n",
    "\n",
    "        old_trace = sys.gettrace()\n",
    "        sys.settrace(self.traceit)\n",
    "        try:\n",
    "            self.function()\n",
    "        except ParseInterrupt:\n",
    "            pass\n",
    "        sys.settrace(old_trace)\n",
    "\n",
    "        return self.grammar\n",
    "\n",
    "    def mine_grammar(self):\n",
    "        \"\"\"Extract BNF option grammar\"\"\"\n",
    "        return convert_ebnf_grammar(self.mine_ebnf_grammar())"
   ]
  },
  {
   "cell_type": "markdown",
   "metadata": {
    "slideshow": {
     "slide_type": "subslide"
    }
   },
   "source": [
    "The trace function checks for four methods: `add_argument()` is the most important function, resulting in processing arguments; `frame.f_locals` again is the set of local variables, which at this point is mostly the arguments to `add_argument()`.  Since mutually exclusive groups also have a method `add_argument()`, we set the flag `in_group` to differentiate."
   ]
  },
  {
   "cell_type": "markdown",
   "metadata": {
    "slideshow": {
     "slide_type": "fragment"
    }
   },
   "source": [
    "Note that we make no specific efforts to differentiate between multiple parsers or groups; we simply assume that there is one parser, and at any point at most one mutually exclusive group."
   ]
  },
  {
   "cell_type": "code",
   "execution_count": 27,
   "metadata": {
    "execution": {
     "iopub.execute_input": "2024-01-18T16:35:29.290918Z",
     "iopub.status.busy": "2024-01-18T16:35:29.290804Z",
     "iopub.status.idle": "2024-01-18T16:35:29.293298Z",
     "shell.execute_reply": "2024-01-18T16:35:29.293043Z"
    },
    "slideshow": {
     "slide_type": "subslide"
    }
   },
   "outputs": [],
   "source": [
    "class OptionGrammarMiner(OptionGrammarMiner):\n",
    "    def traceit(self, frame, event, arg):\n",
    "        if event != \"call\":\n",
    "            return\n",
    "\n",
    "        if \"self\" not in frame.f_locals:\n",
    "            return\n",
    "\n",
    "        self_var = frame.f_locals[\"self\"]\n",
    "        method_name = frame.f_code.co_name\n",
    "\n",
    "        if method_name == \"add_argument\":\n",
    "            in_group = repr(type(self_var)).find(\"Group\") >= 0\n",
    "            self.process_argument(frame.f_locals, in_group)\n",
    "        elif method_name == \"add_mutually_exclusive_group\":\n",
    "            self.add_group(frame.f_locals, exclusive=True)\n",
    "        elif method_name == \"add_argument_group\":\n",
    "            # self.add_group(frame.f_locals, exclusive=False)\n",
    "            pass\n",
    "        elif method_name == \"parse_args\":\n",
    "            raise ParseInterrupt\n",
    "\n",
    "        return self.traceit"
   ]
  },
  {
   "cell_type": "markdown",
   "metadata": {
    "slideshow": {
     "slide_type": "subslide"
    }
   },
   "source": [
    "The `process_arguments()` now analyzes the arguments passed and adds them to the grammar:\n",
    "\n",
    "* If the argument starts with `-`, it gets added as an optional element to the `<option>` list\n",
    "* Otherwise, it gets added to the `<argument>` list.\n",
    "\n",
    "The optional `nargs` argument specifies how many arguments can follow.  If it is a number, we add the appropriate number of elements to the grammar; if it is an abstract specifier (say, `+` or `*`), we use it directly as EBNF operator.\n",
    "\n",
    "Given the large number of parameters and optional behavior, this is a somewhat messy function, but it does the job."
   ]
  },
  {
   "cell_type": "code",
   "execution_count": 28,
   "metadata": {
    "execution": {
     "iopub.execute_input": "2024-01-18T16:35:29.294789Z",
     "iopub.status.busy": "2024-01-18T16:35:29.294683Z",
     "iopub.status.idle": "2024-01-18T16:35:29.296638Z",
     "shell.execute_reply": "2024-01-18T16:35:29.296398Z"
    },
    "slideshow": {
     "slide_type": "subslide"
    }
   },
   "outputs": [],
   "source": [
    "class OptionGrammarMiner(OptionGrammarMiner):\n",
    "    def process_argument(self, locals, in_group):\n",
    "        args = locals[\"args\"]\n",
    "        kwargs = locals[\"kwargs\"]\n",
    "\n",
    "        if self.log:\n",
    "            print(args)\n",
    "            print(kwargs)\n",
    "            print()\n",
    "\n",
    "        for arg in args:\n",
    "            self.process_arg(arg, in_group, kwargs)"
   ]
  },
  {
   "cell_type": "code",
   "execution_count": 29,
   "metadata": {
    "execution": {
     "iopub.execute_input": "2024-01-18T16:35:29.298025Z",
     "iopub.status.busy": "2024-01-18T16:35:29.297924Z",
     "iopub.status.idle": "2024-01-18T16:35:29.300940Z",
     "shell.execute_reply": "2024-01-18T16:35:29.300666Z"
    },
    "slideshow": {
     "slide_type": "subslide"
    }
   },
   "outputs": [],
   "source": [
    "class OptionGrammarMiner(OptionGrammarMiner):\n",
    "    def process_arg(self, arg, in_group, kwargs):\n",
    "        if arg.startswith('-'):\n",
    "            if not in_group:\n",
    "                target = self.OPTION_SYMBOL\n",
    "            else:\n",
    "                target = self.current_group\n",
    "            metavar = None\n",
    "            arg = \" \" + arg\n",
    "        else:\n",
    "            target = self.ARGUMENTS_SYMBOL\n",
    "            metavar = arg\n",
    "            arg = \"\"\n",
    "\n",
    "        if \"nargs\" in kwargs:\n",
    "            nargs = kwargs[\"nargs\"]\n",
    "        else:\n",
    "            nargs = 1\n",
    "\n",
    "        param = self.add_parameter(kwargs, metavar)\n",
    "        if param == \"\":\n",
    "            nargs = 0\n",
    "\n",
    "        if isinstance(nargs, int):\n",
    "            for i in range(nargs):\n",
    "                arg += param\n",
    "        else:\n",
    "            assert nargs in \"?+*\"\n",
    "            arg += '(' + param + ')' + nargs\n",
    "\n",
    "        if target == self.OPTION_SYMBOL:\n",
    "            self.grammar[target].append(arg)\n",
    "        else:\n",
    "            self.grammar[target].append(arg)"
   ]
  },
  {
   "cell_type": "markdown",
   "metadata": {
    "slideshow": {
     "slide_type": "subslide"
    }
   },
   "source": [
    "The method `add_parameter()` handles possible parameters of options.  If the argument has an `action` defined, it takes no parameter.  Otherwise, we identify the type of the parameter (as `int` or `str`) and augment the grammar with an appropriate rule."
   ]
  },
  {
   "cell_type": "code",
   "execution_count": 30,
   "metadata": {
    "execution": {
     "iopub.execute_input": "2024-01-18T16:35:29.302453Z",
     "iopub.status.busy": "2024-01-18T16:35:29.302372Z",
     "iopub.status.idle": "2024-01-18T16:35:29.303857Z",
     "shell.execute_reply": "2024-01-18T16:35:29.303622Z"
    },
    "slideshow": {
     "slide_type": "skip"
    }
   },
   "outputs": [],
   "source": [
    "import inspect"
   ]
  },
  {
   "cell_type": "code",
   "execution_count": 31,
   "metadata": {
    "execution": {
     "iopub.execute_input": "2024-01-18T16:35:29.305248Z",
     "iopub.status.busy": "2024-01-18T16:35:29.305141Z",
     "iopub.status.idle": "2024-01-18T16:35:29.307978Z",
     "shell.execute_reply": "2024-01-18T16:35:29.307685Z"
    },
    "slideshow": {
     "slide_type": "subslide"
    }
   },
   "outputs": [],
   "source": [
    "class OptionGrammarMiner(OptionGrammarMiner):\n",
    "    def add_parameter(self, kwargs, metavar):\n",
    "        if \"action\" in kwargs:\n",
    "            # No parameter\n",
    "            return \"\"\n",
    "\n",
    "        type_ = \"str\"\n",
    "        if \"type\" in kwargs:\n",
    "            given_type = kwargs[\"type\"]\n",
    "            # int types come as '<class int>'\n",
    "            if inspect.isclass(given_type) and issubclass(given_type, int):\n",
    "                type_ = \"int\"\n",
    "\n",
    "        if metavar is None:\n",
    "            if \"metavar\" in kwargs:\n",
    "                metavar = kwargs[\"metavar\"]\n",
    "            else:\n",
    "                metavar = type_\n",
    "\n",
    "        self.add_type_rule(type_)\n",
    "        if metavar != type_:\n",
    "            self.add_metavar_rule(metavar, type_)\n",
    "\n",
    "        param = \" <\" + metavar + \">\"\n",
    "\n",
    "        return param"
   ]
  },
  {
   "cell_type": "markdown",
   "metadata": {
    "slideshow": {
     "slide_type": "subslide"
    }
   },
   "source": [
    "The method `add_type_rule()` adds a rule for parameter types to the grammar.  If the parameter is identified by a meta-variable (say, `N`), we add a rule for this as well to improve legibility."
   ]
  },
  {
   "cell_type": "code",
   "execution_count": 32,
   "metadata": {
    "execution": {
     "iopub.execute_input": "2024-01-18T16:35:29.326130Z",
     "iopub.status.busy": "2024-01-18T16:35:29.325977Z",
     "iopub.status.idle": "2024-01-18T16:35:29.328748Z",
     "shell.execute_reply": "2024-01-18T16:35:29.328451Z"
    },
    "slideshow": {
     "slide_type": "fragment"
    }
   },
   "outputs": [],
   "source": [
    "class OptionGrammarMiner(OptionGrammarMiner):\n",
    "    def add_type_rule(self, type_):\n",
    "        if type_ == \"int\":\n",
    "            self.add_int_rule()\n",
    "        else:\n",
    "            self.add_str_rule()\n",
    "\n",
    "    def add_int_rule(self):\n",
    "        self.grammar[\"<int>\"] = [\"(-)?<digit>+\"]\n",
    "        self.grammar[\"<digit>\"] = crange('0', '9')\n",
    "\n",
    "    def add_str_rule(self):\n",
    "        self.grammar[\"<str>\"] = [\"<char>+\"]\n",
    "        self.grammar[\"<char>\"] = srange(\n",
    "            string.digits\n",
    "            + string.ascii_letters\n",
    "            + string.punctuation)\n",
    "\n",
    "    def add_metavar_rule(self, metavar, type_):\n",
    "        self.grammar[\"<\" + metavar + \">\"] = [\"<\" + type_ + \">\"]"
   ]
  },
  {
   "cell_type": "markdown",
   "metadata": {
    "slideshow": {
     "slide_type": "subslide"
    }
   },
   "source": [
    "The method `add_group()` adds a new mutually exclusive group to the grammar.  We define a new symbol (say, `<group>`) for the options added to the group, and use the `required` and `exclusive` flags to define an appropriate expansion operator.  The group is then prefixed to the grammar, as in\n",
    "\n",
    "```\n",
    "<start> ::= <group><option>* <arguments>\n",
    "<group> ::= <empty>\n",
    "```\n",
    "\n",
    "and filled with the next calls to `add_argument()` within the group."
   ]
  },
  {
   "cell_type": "code",
   "execution_count": 33,
   "metadata": {
    "execution": {
     "iopub.execute_input": "2024-01-18T16:35:29.330469Z",
     "iopub.status.busy": "2024-01-18T16:35:29.330351Z",
     "iopub.status.idle": "2024-01-18T16:35:29.332863Z",
     "shell.execute_reply": "2024-01-18T16:35:29.332602Z"
    },
    "slideshow": {
     "slide_type": "subslide"
    }
   },
   "outputs": [],
   "source": [
    "class OptionGrammarMiner(OptionGrammarMiner):\n",
    "    def add_group(self, locals, exclusive):\n",
    "        kwargs = locals[\"kwargs\"]\n",
    "        if self.log:\n",
    "            print(kwargs)\n",
    "\n",
    "        required = kwargs.get(\"required\", False)\n",
    "        group = new_symbol(self.grammar, \"<group>\")\n",
    "\n",
    "        if required and exclusive:\n",
    "            group_expansion = group\n",
    "        if required and not exclusive:\n",
    "            group_expansion = group + \"+\"\n",
    "        if not required and exclusive:\n",
    "            group_expansion = group + \"?\"\n",
    "        if not required and not exclusive:\n",
    "            group_expansion = group + \"*\"\n",
    "\n",
    "        self.grammar[START_SYMBOL][0] = group_expansion + \\\n",
    "            self.grammar[START_SYMBOL][0]\n",
    "        self.grammar[group] = []\n",
    "        self.current_group = group"
   ]
  },
  {
   "cell_type": "markdown",
   "metadata": {
    "slideshow": {
     "slide_type": "subslide"
    }
   },
   "source": [
    "That's it!  With this, we can now extract the grammar from our `process_numbers()` program.  Turning on logging again reveals the variables we draw upon."
   ]
  },
  {
   "cell_type": "code",
   "execution_count": 34,
   "metadata": {
    "execution": {
     "iopub.execute_input": "2024-01-18T16:35:29.334601Z",
     "iopub.status.busy": "2024-01-18T16:35:29.334423Z",
     "iopub.status.idle": "2024-01-18T16:35:29.337282Z",
     "shell.execute_reply": "2024-01-18T16:35:29.337020Z"
    },
    "slideshow": {
     "slide_type": "subslide"
    }
   },
   "outputs": [
    {
     "name": "stdout",
     "output_type": "stream",
     "text": [
      "('-h', '--help')\n",
      "{'action': 'help', 'default': '==SUPPRESS==', 'help': 'show this help message and exit'}\n",
      "\n",
      "('integers',)\n",
      "{'metavar': 'N', 'type': <class 'int'>, 'nargs': '+', 'help': 'an integer for the accumulator'}\n",
      "\n",
      "{'required': True}\n",
      "('--sum',)\n",
      "{'dest': 'accumulate', 'action': 'store_const', 'const': <built-in function sum>, 'help': 'sum the integers'}\n",
      "\n",
      "('--min',)\n",
      "{'dest': 'accumulate', 'action': 'store_const', 'const': <built-in function min>, 'help': 'compute the minimum'}\n",
      "\n",
      "('--max',)\n",
      "{'dest': 'accumulate', 'action': 'store_const', 'const': <built-in function max>, 'help': 'compute the maximum'}\n",
      "\n"
     ]
    }
   ],
   "source": [
    "miner = OptionGrammarMiner(process_numbers, log=True)\n",
    "process_numbers_grammar = miner.mine_ebnf_grammar()"
   ]
  },
  {
   "cell_type": "markdown",
   "metadata": {
    "slideshow": {
     "slide_type": "subslide"
    }
   },
   "source": [
    "Here is the extracted grammar:"
   ]
  },
  {
   "cell_type": "code",
   "execution_count": 35,
   "metadata": {
    "execution": {
     "iopub.execute_input": "2024-01-18T16:35:29.339115Z",
     "iopub.status.busy": "2024-01-18T16:35:29.338968Z",
     "iopub.status.idle": "2024-01-18T16:35:29.341689Z",
     "shell.execute_reply": "2024-01-18T16:35:29.341421Z"
    },
    "slideshow": {
     "slide_type": "fragment"
    }
   },
   "outputs": [
    {
     "data": {
      "text/plain": [
       "{'<start>': ['<group>(<option>)*<arguments>'],\n",
       " '<option>': [' -h', ' --help'],\n",
       " '<arguments>': ['( <integers>)+'],\n",
       " '<int>': ['(-)?<digit>+'],\n",
       " '<digit>': ['0', '1', '2', '3', '4', '5', '6', '7', '8', '9'],\n",
       " '<integers>': ['<int>'],\n",
       " '<group>': [' --sum', ' --min', ' --max']}"
      ]
     },
     "execution_count": 35,
     "metadata": {},
     "output_type": "execute_result"
    }
   ],
   "source": [
    "process_numbers_grammar"
   ]
  },
  {
   "cell_type": "markdown",
   "metadata": {
    "slideshow": {
     "slide_type": "subslide"
    }
   },
   "source": [
    "The grammar properly identifies the group found:"
   ]
  },
  {
   "cell_type": "code",
   "execution_count": 36,
   "metadata": {
    "execution": {
     "iopub.execute_input": "2024-01-18T16:35:29.343378Z",
     "iopub.status.busy": "2024-01-18T16:35:29.343268Z",
     "iopub.status.idle": "2024-01-18T16:35:29.345322Z",
     "shell.execute_reply": "2024-01-18T16:35:29.345055Z"
    },
    "slideshow": {
     "slide_type": "fragment"
    }
   },
   "outputs": [
    {
     "data": {
      "text/plain": [
       "['<group>(<option>)*<arguments>']"
      ]
     },
     "execution_count": 36,
     "metadata": {},
     "output_type": "execute_result"
    }
   ],
   "source": [
    "process_numbers_grammar[\"<start>\"]"
   ]
  },
  {
   "cell_type": "code",
   "execution_count": 37,
   "metadata": {
    "execution": {
     "iopub.execute_input": "2024-01-18T16:35:29.346803Z",
     "iopub.status.busy": "2024-01-18T16:35:29.346699Z",
     "iopub.status.idle": "2024-01-18T16:35:29.348718Z",
     "shell.execute_reply": "2024-01-18T16:35:29.348467Z"
    },
    "slideshow": {
     "slide_type": "fragment"
    }
   },
   "outputs": [
    {
     "data": {
      "text/plain": [
       "[' --sum', ' --min', ' --max']"
      ]
     },
     "execution_count": 37,
     "metadata": {},
     "output_type": "execute_result"
    }
   ],
   "source": [
    "process_numbers_grammar[\"<group>\"]"
   ]
  },
  {
   "cell_type": "markdown",
   "metadata": {
    "slideshow": {
     "slide_type": "fragment"
    }
   },
   "source": [
    "It also identifies a `--help` option provided not by us, but by the `argparse` module:"
   ]
  },
  {
   "cell_type": "code",
   "execution_count": 38,
   "metadata": {
    "execution": {
     "iopub.execute_input": "2024-01-18T16:35:29.350242Z",
     "iopub.status.busy": "2024-01-18T16:35:29.350136Z",
     "iopub.status.idle": "2024-01-18T16:35:29.352142Z",
     "shell.execute_reply": "2024-01-18T16:35:29.351866Z"
    },
    "slideshow": {
     "slide_type": "fragment"
    }
   },
   "outputs": [
    {
     "data": {
      "text/plain": [
       "[' -h', ' --help']"
      ]
     },
     "execution_count": 38,
     "metadata": {},
     "output_type": "execute_result"
    }
   ],
   "source": [
    "process_numbers_grammar[\"<option>\"]"
   ]
  },
  {
   "cell_type": "markdown",
   "metadata": {
    "slideshow": {
     "slide_type": "subslide"
    }
   },
   "source": [
    "The grammar also correctly identifies the types of the arguments:"
   ]
  },
  {
   "cell_type": "code",
   "execution_count": 39,
   "metadata": {
    "execution": {
     "iopub.execute_input": "2024-01-18T16:35:29.353607Z",
     "iopub.status.busy": "2024-01-18T16:35:29.353495Z",
     "iopub.status.idle": "2024-01-18T16:35:29.355478Z",
     "shell.execute_reply": "2024-01-18T16:35:29.355213Z"
    },
    "slideshow": {
     "slide_type": "fragment"
    }
   },
   "outputs": [
    {
     "data": {
      "text/plain": [
       "['( <integers>)+']"
      ]
     },
     "execution_count": 39,
     "metadata": {},
     "output_type": "execute_result"
    }
   ],
   "source": [
    "process_numbers_grammar[\"<arguments>\"]"
   ]
  },
  {
   "cell_type": "code",
   "execution_count": 40,
   "metadata": {
    "execution": {
     "iopub.execute_input": "2024-01-18T16:35:29.357180Z",
     "iopub.status.busy": "2024-01-18T16:35:29.357059Z",
     "iopub.status.idle": "2024-01-18T16:35:29.359162Z",
     "shell.execute_reply": "2024-01-18T16:35:29.358891Z"
    },
    "slideshow": {
     "slide_type": "fragment"
    }
   },
   "outputs": [
    {
     "data": {
      "text/plain": [
       "['<int>']"
      ]
     },
     "execution_count": 40,
     "metadata": {},
     "output_type": "execute_result"
    }
   ],
   "source": [
    "process_numbers_grammar[\"<integers>\"]"
   ]
  },
  {
   "cell_type": "markdown",
   "metadata": {
    "slideshow": {
     "slide_type": "fragment"
    }
   },
   "source": [
    "The rules for `int` are set as defined by `add_int_rule()`"
   ]
  },
  {
   "cell_type": "code",
   "execution_count": 41,
   "metadata": {
    "execution": {
     "iopub.execute_input": "2024-01-18T16:35:29.360665Z",
     "iopub.status.busy": "2024-01-18T16:35:29.360560Z",
     "iopub.status.idle": "2024-01-18T16:35:29.362492Z",
     "shell.execute_reply": "2024-01-18T16:35:29.362248Z"
    },
    "slideshow": {
     "slide_type": "fragment"
    }
   },
   "outputs": [
    {
     "data": {
      "text/plain": [
       "['(-)?<digit>+']"
      ]
     },
     "execution_count": 41,
     "metadata": {},
     "output_type": "execute_result"
    }
   ],
   "source": [
    "process_numbers_grammar[\"<int>\"]"
   ]
  },
  {
   "cell_type": "markdown",
   "metadata": {
    "slideshow": {
     "slide_type": "subslide"
    }
   },
   "source": [
    "We can take this grammar and convert it to BNF, such that we can fuzz with it right away:"
   ]
  },
  {
   "cell_type": "code",
   "execution_count": 42,
   "metadata": {
    "execution": {
     "iopub.execute_input": "2024-01-18T16:35:29.363966Z",
     "iopub.status.busy": "2024-01-18T16:35:29.363861Z",
     "iopub.status.idle": "2024-01-18T16:35:29.365456Z",
     "shell.execute_reply": "2024-01-18T16:35:29.365219Z"
    },
    "slideshow": {
     "slide_type": "fragment"
    }
   },
   "outputs": [],
   "source": [
    "assert is_valid_grammar(process_numbers_grammar)"
   ]
  },
  {
   "cell_type": "code",
   "execution_count": 43,
   "metadata": {
    "execution": {
     "iopub.execute_input": "2024-01-18T16:35:29.366880Z",
     "iopub.status.busy": "2024-01-18T16:35:29.366793Z",
     "iopub.status.idle": "2024-01-18T16:35:29.368658Z",
     "shell.execute_reply": "2024-01-18T16:35:29.368419Z"
    },
    "slideshow": {
     "slide_type": "fragment"
    }
   },
   "outputs": [],
   "source": [
    "grammar = convert_ebnf_grammar(process_numbers_grammar)\n",
    "assert is_valid_grammar(grammar)"
   ]
  },
  {
   "cell_type": "code",
   "execution_count": 44,
   "metadata": {
    "execution": {
     "iopub.execute_input": "2024-01-18T16:35:29.370191Z",
     "iopub.status.busy": "2024-01-18T16:35:29.370086Z",
     "iopub.status.idle": "2024-01-18T16:35:29.425773Z",
     "shell.execute_reply": "2024-01-18T16:35:29.425373Z"
    },
    "slideshow": {
     "slide_type": "fragment"
    }
   },
   "outputs": [
    {
     "name": "stdout",
     "output_type": "stream",
     "text": [
      " --sum 9\n",
      " --max -h --help --help -16 -0\n",
      " --min --help 2745341 8\n",
      " --min 1 27\n",
      " --sum --help --help -2\n",
      " --sum --help 0 3 -77\n",
      " --sum -3\n",
      " --sum --help 429 8 10 0295 -694 1\n",
      " --max -h 91 -1425 99\n",
      " --sum -795 -94 8 -44\n"
     ]
    }
   ],
   "source": [
    "f = GrammarCoverageFuzzer(grammar)\n",
    "for i in range(10):\n",
    "    print(f.fuzz())"
   ]
  },
  {
   "cell_type": "markdown",
   "metadata": {
    "slideshow": {
     "slide_type": "fragment"
    }
   },
   "source": [
    "Each and every invocation adheres to the rules as set forth in the `argparse` calls.  By mining options and arguments from existing programs, we can now fuzz these options out of the box – without having to specify a grammar."
   ]
  },
  {
   "cell_type": "markdown",
   "metadata": {
    "slideshow": {
     "slide_type": "slide"
    },
    "toc-hr-collapsed": true
   },
   "source": [
    "## Testing Autopep8"
   ]
  },
  {
   "cell_type": "markdown",
   "metadata": {
    "slideshow": {
     "slide_type": "fragment"
    }
   },
   "source": [
    "Let us try out the option grammar miner on real-world Python programs.  `autopep8` is a tool that automatically converts Python code to the [PEP 8 Style Guide for Python Code](https://www.python.org/dev/peps/pep-0008/).  (Actually, all Python code in this book runs through `autopep8` during production.)  `autopep8` offers a wide range of options, as can be seen by invoking it with `--help`:"
   ]
  },
  {
   "cell_type": "code",
   "execution_count": 45,
   "metadata": {
    "execution": {
     "iopub.execute_input": "2024-01-18T16:35:29.427518Z",
     "iopub.status.busy": "2024-01-18T16:35:29.427409Z",
     "iopub.status.idle": "2024-01-18T16:35:29.609674Z",
     "shell.execute_reply": "2024-01-18T16:35:29.609232Z"
    },
    "slideshow": {
     "slide_type": "subslide"
    }
   },
   "outputs": [
    {
     "name": "stdout",
     "output_type": "stream",
     "text": [
      "usage: autopep8 [-h] [--version] [-v] [-d] [-i] [--global-config filename]\r\n",
      "                [--ignore-local-config] [-r] [-j n] [-p n] [-a]\r\n",
      "                [--experimental] [--exclude globs] [--list-fixes]\r\n",
      "                [--ignore errors] [--select errors] [--max-line-length n]\r\n",
      "                [--line-range line line] [--hang-closing] [--exit-code]\r\n",
      "                [files ...]\r\n",
      "\r\n",
      "Automatically formats Python code to conform to the PEP 8 style guide.\r\n",
      "\r\n",
      "positional arguments:\r\n",
      "  files                 files to format or '-' for standard in\r\n",
      "\r\n",
      "options:\r\n",
      "  -h, --help            show this help message and exit\r\n",
      "  --version             show program's version number and exit\r\n",
      "  -v, --verbose         print verbose messages; multiple -v result in more\r\n",
      "                        verbose messages\r\n",
      "  -d, --diff            print the diff for the fixed source\r\n",
      "  -i, --in-place        make changes to files in place\r\n",
      "  --global-config filename\r\n",
      "                        path to a global pep8 config file; if this file does\r\n",
      "                        not exist then this is ignored (default:\r\n",
      "                        /Users/zeller/.config/pep8)\r\n",
      "  --ignore-local-config\r\n",
      "                        don't look for and apply local config files; if not\r\n",
      "                        passed, defaults are updated with any config files in\r\n",
      "                        the project's root directory\r\n",
      "  -r, --recursive       run recursively over directories; must be used with\r\n",
      "                        --in-place or --diff\r\n",
      "  -j n, --jobs n        number of parallel jobs; match CPU count if value is\r\n",
      "                        less than 1\r\n",
      "  -p n, --pep8-passes n\r\n",
      "                        maximum number of additional pep8 passes (default:\r\n",
      "                        infinite)\r\n",
      "  -a, --aggressive      enable non-whitespace changes; multiple -a result in\r\n",
      "                        more aggressive changes\r\n",
      "  --experimental        enable experimental fixes\r\n",
      "  --exclude globs       exclude file/directory names that match these comma-\r\n",
      "                        separated globs\r\n",
      "  --list-fixes          list codes for fixes; used by --ignore and --select\r\n",
      "  --ignore errors       do not fix these errors/warnings (default:\r\n",
      "                        E226,E24,W50,W690)\r\n",
      "  --select errors       fix only these errors/warnings (e.g. E4,W)\r\n",
      "  --max-line-length n   set maximum allowed line length (default: 79)\r\n",
      "  --line-range line line, --range line line\r\n",
      "                        only fix errors found within this inclusive range of\r\n",
      "                        line numbers (e.g. 1 99); line numbers are indexed at\r\n",
      "                        1\r\n",
      "  --hang-closing        hang-closing option passed to pycodestyle\r\n",
      "  --exit-code           change to behavior of exit code. default behavior of\r\n",
      "                        return value, 0 is no differences, 1 is error exit.\r\n",
      "                        return 2 when add this option. 2 is exists\r\n",
      "                        differences.\r\n"
     ]
    }
   ],
   "source": [
    "!autopep8 --help"
   ]
  },
  {
   "cell_type": "markdown",
   "metadata": {
    "slideshow": {
     "slide_type": "subslide"
    }
   },
   "source": [
    "### Autopep8 Setup\n",
    "\n",
    "We want to systematically test these options.  In order to deploy our configuration grammar miner, we need to find the source code of the executable:"
   ]
  },
  {
   "cell_type": "code",
   "execution_count": 46,
   "metadata": {
    "execution": {
     "iopub.execute_input": "2024-01-18T16:35:29.611961Z",
     "iopub.status.busy": "2024-01-18T16:35:29.611800Z",
     "iopub.status.idle": "2024-01-18T16:35:29.613878Z",
     "shell.execute_reply": "2024-01-18T16:35:29.613557Z"
    },
    "slideshow": {
     "slide_type": "skip"
    }
   },
   "outputs": [],
   "source": [
    "import os"
   ]
  },
  {
   "cell_type": "code",
   "execution_count": 47,
   "metadata": {
    "execution": {
     "iopub.execute_input": "2024-01-18T16:35:29.615665Z",
     "iopub.status.busy": "2024-01-18T16:35:29.615527Z",
     "iopub.status.idle": "2024-01-18T16:35:29.617931Z",
     "shell.execute_reply": "2024-01-18T16:35:29.617622Z"
    },
    "slideshow": {
     "slide_type": "fragment"
    }
   },
   "outputs": [],
   "source": [
    "def find_executable(name):\n",
    "    for path in os.get_exec_path():\n",
    "        qualified_name = os.path.join(path, name)\n",
    "        if os.path.exists(qualified_name):\n",
    "            return qualified_name\n",
    "    return None"
   ]
  },
  {
   "cell_type": "code",
   "execution_count": 48,
   "metadata": {
    "execution": {
     "iopub.execute_input": "2024-01-18T16:35:29.619624Z",
     "iopub.status.busy": "2024-01-18T16:35:29.619493Z",
     "iopub.status.idle": "2024-01-18T16:35:29.622170Z",
     "shell.execute_reply": "2024-01-18T16:35:29.621870Z"
    },
    "slideshow": {
     "slide_type": "fragment"
    }
   },
   "outputs": [
    {
     "data": {
      "text/plain": [
       "'/Users/zeller/.pyenv/versions/3.10.2/bin/autopep8'"
      ]
     },
     "execution_count": 48,
     "metadata": {},
     "output_type": "execute_result"
    }
   ],
   "source": [
    "autopep8_executable = find_executable(\"autopep8\")\n",
    "assert autopep8_executable is not None\n",
    "autopep8_executable"
   ]
  },
  {
   "cell_type": "markdown",
   "metadata": {
    "slideshow": {
     "slide_type": "subslide"
    }
   },
   "source": [
    "Next, we build a function that reads the contents of the file and executes it."
   ]
  },
  {
   "cell_type": "code",
   "execution_count": 49,
   "metadata": {
    "execution": {
     "iopub.execute_input": "2024-01-18T16:35:29.623818Z",
     "iopub.status.busy": "2024-01-18T16:35:29.623694Z",
     "iopub.status.idle": "2024-01-18T16:35:29.625857Z",
     "shell.execute_reply": "2024-01-18T16:35:29.625583Z"
    },
    "slideshow": {
     "slide_type": "fragment"
    }
   },
   "outputs": [],
   "source": [
    "def autopep8():\n",
    "    executable = find_executable(\"autopep8\")\n",
    "\n",
    "    # First line has to contain \"/usr/bin/env python\" or like\n",
    "    first_line = open(executable).readline()\n",
    "    assert first_line.find(\"python\") >= 0\n",
    "\n",
    "    contents = open(executable).read()\n",
    "    exec(contents)"
   ]
  },
  {
   "cell_type": "markdown",
   "metadata": {
    "slideshow": {
     "slide_type": "subslide"
    }
   },
   "source": [
    "### Mining an Autopep8 Grammar\n",
    "\n",
    "We can use the `autopep8()` function in our grammar miner:"
   ]
  },
  {
   "cell_type": "code",
   "execution_count": 50,
   "metadata": {
    "execution": {
     "iopub.execute_input": "2024-01-18T16:35:29.627421Z",
     "iopub.status.busy": "2024-01-18T16:35:29.627306Z",
     "iopub.status.idle": "2024-01-18T16:35:29.628873Z",
     "shell.execute_reply": "2024-01-18T16:35:29.628616Z"
    },
    "slideshow": {
     "slide_type": "fragment"
    }
   },
   "outputs": [],
   "source": [
    "autopep8_miner = OptionGrammarMiner(autopep8)"
   ]
  },
  {
   "cell_type": "markdown",
   "metadata": {
    "slideshow": {
     "slide_type": "fragment"
    }
   },
   "source": [
    "and extract a grammar for it:"
   ]
  },
  {
   "cell_type": "code",
   "execution_count": 51,
   "metadata": {
    "execution": {
     "iopub.execute_input": "2024-01-18T16:35:29.630342Z",
     "iopub.status.busy": "2024-01-18T16:35:29.630255Z",
     "iopub.status.idle": "2024-01-18T16:35:29.654360Z",
     "shell.execute_reply": "2024-01-18T16:35:29.654088Z"
    },
    "slideshow": {
     "slide_type": "fragment"
    }
   },
   "outputs": [],
   "source": [
    "autopep8_ebnf_grammar = autopep8_miner.mine_ebnf_grammar()"
   ]
  },
  {
   "cell_type": "markdown",
   "metadata": {
    "slideshow": {
     "slide_type": "fragment"
    }
   },
   "source": [
    "This works because here, `autopep8` is not a separate process (and a separate Python interpreter), but we run the `autopep8()` function (and the `autopep8` code) in our current Python interpreter – up to the call to `parse_args()`, where we interrupt execution again.  At this point, the `autopep8` code has done nothing but setting up the argument parser – which is what we are interested in."
   ]
  },
  {
   "cell_type": "markdown",
   "metadata": {
    "slideshow": {
     "slide_type": "subslide"
    }
   },
   "source": [
    "The grammar options mined reflect precisely the options seen when providing `--help`:"
   ]
  },
  {
   "cell_type": "code",
   "execution_count": 52,
   "metadata": {
    "execution": {
     "iopub.execute_input": "2024-01-18T16:35:29.656017Z",
     "iopub.status.busy": "2024-01-18T16:35:29.655926Z",
     "iopub.status.idle": "2024-01-18T16:35:29.657725Z",
     "shell.execute_reply": "2024-01-18T16:35:29.657484Z"
    },
    "slideshow": {
     "slide_type": "fragment"
    }
   },
   "outputs": [
    {
     "name": "stdout",
     "output_type": "stream",
     "text": [
      "[' -h', ' --help', ' --version', ' -v', ' --verbose', ' -d', ' --diff', ' -i', ' --in-place', ' --global-config <filename>', ' --ignore-local-config', ' -r', ' --recursive', ' -j <n>', ' --jobs <n>', ' -p <n>', ' --pep8-passes <n>', ' -a', ' --aggressive', ' --experimental', ' --exclude <globs>', ' --list-fixes', ' --ignore <errors>', ' --select <errors>', ' --max-line-length <n>', ' --line-range <line> <line>', ' --range <line> <line>', ' --indent-size <int>', ' --hang-closing', ' --exit-code']\n"
     ]
    }
   ],
   "source": [
    "print(autopep8_ebnf_grammar[\"<option>\"])"
   ]
  },
  {
   "cell_type": "markdown",
   "metadata": {
    "slideshow": {
     "slide_type": "subslide"
    }
   },
   "source": [
    "Metavariables like `<n>` or `<line>` are placeholders for integers.  We assume all metavariables of the same name have the same type:"
   ]
  },
  {
   "cell_type": "code",
   "execution_count": 53,
   "metadata": {
    "execution": {
     "iopub.execute_input": "2024-01-18T16:35:29.659206Z",
     "iopub.status.busy": "2024-01-18T16:35:29.659121Z",
     "iopub.status.idle": "2024-01-18T16:35:29.661294Z",
     "shell.execute_reply": "2024-01-18T16:35:29.661054Z"
    },
    "slideshow": {
     "slide_type": "fragment"
    }
   },
   "outputs": [
    {
     "data": {
      "text/plain": [
       "['<int>']"
      ]
     },
     "execution_count": 53,
     "metadata": {},
     "output_type": "execute_result"
    }
   ],
   "source": [
    "autopep8_ebnf_grammar[\"<line>\"]"
   ]
  },
  {
   "cell_type": "markdown",
   "metadata": {
    "slideshow": {
     "slide_type": "fragment"
    }
   },
   "source": [
    "The grammar miner has inferred that the argument to `autopep8` is a list of files:"
   ]
  },
  {
   "cell_type": "code",
   "execution_count": 54,
   "metadata": {
    "execution": {
     "iopub.execute_input": "2024-01-18T16:35:29.662803Z",
     "iopub.status.busy": "2024-01-18T16:35:29.662687Z",
     "iopub.status.idle": "2024-01-18T16:35:29.664654Z",
     "shell.execute_reply": "2024-01-18T16:35:29.664399Z"
    },
    "slideshow": {
     "slide_type": "fragment"
    }
   },
   "outputs": [
    {
     "data": {
      "text/plain": [
       "['( <files>)*']"
      ]
     },
     "execution_count": 54,
     "metadata": {},
     "output_type": "execute_result"
    }
   ],
   "source": [
    "autopep8_ebnf_grammar[\"<arguments>\"]"
   ]
  },
  {
   "cell_type": "markdown",
   "metadata": {
    "slideshow": {
     "slide_type": "fragment"
    }
   },
   "source": [
    "which in turn all are strings:"
   ]
  },
  {
   "cell_type": "code",
   "execution_count": 55,
   "metadata": {
    "execution": {
     "iopub.execute_input": "2024-01-18T16:35:29.666092Z",
     "iopub.status.busy": "2024-01-18T16:35:29.665991Z",
     "iopub.status.idle": "2024-01-18T16:35:29.667947Z",
     "shell.execute_reply": "2024-01-18T16:35:29.667687Z"
    },
    "slideshow": {
     "slide_type": "fragment"
    }
   },
   "outputs": [
    {
     "data": {
      "text/plain": [
       "['<str>']"
      ]
     },
     "execution_count": 55,
     "metadata": {},
     "output_type": "execute_result"
    }
   ],
   "source": [
    "autopep8_ebnf_grammar[\"<files>\"]"
   ]
  },
  {
   "cell_type": "markdown",
   "metadata": {
    "slideshow": {
     "slide_type": "subslide"
    }
   },
   "source": [
    "As we are only interested in testing options, not arguments, we fix the arguments to a single mandatory input.  (Otherwise, we'd have plenty of random file names generated.)"
   ]
  },
  {
   "cell_type": "code",
   "execution_count": 56,
   "metadata": {
    "execution": {
     "iopub.execute_input": "2024-01-18T16:35:29.669385Z",
     "iopub.status.busy": "2024-01-18T16:35:29.669285Z",
     "iopub.status.idle": "2024-01-18T16:35:29.671054Z",
     "shell.execute_reply": "2024-01-18T16:35:29.670802Z"
    },
    "slideshow": {
     "slide_type": "fragment"
    }
   },
   "outputs": [],
   "source": [
    "autopep8_ebnf_grammar[\"<arguments>\"] = [\" <files>\"]\n",
    "autopep8_ebnf_grammar[\"<files>\"] = [\"foo.py\"]\n",
    "assert is_valid_grammar(autopep8_ebnf_grammar)"
   ]
  },
  {
   "cell_type": "markdown",
   "metadata": {
    "slideshow": {
     "slide_type": "subslide"
    }
   },
   "source": [
    "### Creating Autopep8 Options"
   ]
  },
  {
   "cell_type": "markdown",
   "metadata": {
    "slideshow": {
     "slide_type": "fragment"
    }
   },
   "source": [
    "Let us now use the inferred grammar for fuzzing.  Again, we convert the EBNF grammar into a regular BNF grammar:"
   ]
  },
  {
   "cell_type": "code",
   "execution_count": 57,
   "metadata": {
    "execution": {
     "iopub.execute_input": "2024-01-18T16:35:29.672528Z",
     "iopub.status.busy": "2024-01-18T16:35:29.672414Z",
     "iopub.status.idle": "2024-01-18T16:35:29.674499Z",
     "shell.execute_reply": "2024-01-18T16:35:29.674280Z"
    },
    "slideshow": {
     "slide_type": "fragment"
    }
   },
   "outputs": [],
   "source": [
    "autopep8_grammar = convert_ebnf_grammar(autopep8_ebnf_grammar)\n",
    "assert is_valid_grammar(autopep8_grammar)"
   ]
  },
  {
   "cell_type": "markdown",
   "metadata": {
    "slideshow": {
     "slide_type": "fragment"
    }
   },
   "source": [
    "And we can use the grammar for fuzzing all options:"
   ]
  },
  {
   "cell_type": "code",
   "execution_count": 58,
   "metadata": {
    "execution": {
     "iopub.execute_input": "2024-01-18T16:35:29.675982Z",
     "iopub.status.busy": "2024-01-18T16:35:29.675879Z",
     "iopub.status.idle": "2024-01-18T16:35:29.715934Z",
     "shell.execute_reply": "2024-01-18T16:35:29.715674Z"
    },
    "slideshow": {
     "slide_type": "subslide"
    }
   },
   "outputs": [
    {
     "name": "stdout",
     "output_type": "stream",
     "text": [
      " -r foo.py\n",
      " -h --experimental --hang-closing foo.py\n",
      " --list-fixes -v foo.py\n",
      " --aggressive -d foo.py\n",
      " --indent-size 9 --help foo.py\n",
      " --exit-code --recursive foo.py\n",
      " --diff --version -i foo.py\n",
      " --max-line-length 0 --in-place --verbose foo.py\n",
      " --ignore-local-config -a foo.py\n",
      " --select x -i --exit-code foo.py\n",
      " -j 8 --diff foo.py\n",
      " -d -v -d foo.py\n",
      " -p 6 -i foo.py\n",
      " -v --diff foo.py\n",
      " --ignore uA --recursive foo.py\n",
      " --jobs 5 -r foo.py\n",
      " --range 4 1 foo.py\n",
      " --ignore-local-config -i foo.py\n",
      " -r --exit-code foo.py\n",
      " -v -r foo.py\n"
     ]
    }
   ],
   "source": [
    "f = GrammarCoverageFuzzer(autopep8_grammar, max_nonterminals=4)\n",
    "for i in range(20):\n",
    "    print(f.fuzz())"
   ]
  },
  {
   "cell_type": "markdown",
   "metadata": {
    "slideshow": {
     "slide_type": "subslide"
    }
   },
   "source": [
    "Let us apply these options on the actual program.  We need a file `foo.py` that will serve as input: (Note that the following commands will overwrite the file `foo.py`, if it already exists in the current working directory. Be aware of this, if you downloaded the notebooks and are working locally.)"
   ]
  },
  {
   "cell_type": "code",
   "execution_count": 59,
   "metadata": {
    "execution": {
     "iopub.execute_input": "2024-01-18T16:35:29.717640Z",
     "iopub.status.busy": "2024-01-18T16:35:29.717547Z",
     "iopub.status.idle": "2024-01-18T16:35:29.719292Z",
     "shell.execute_reply": "2024-01-18T16:35:29.719059Z"
    },
    "slideshow": {
     "slide_type": "fragment"
    }
   },
   "outputs": [],
   "source": [
    "def create_foo_py():\n",
    "    open(\"foo.py\", \"w\").write(\"\"\"\n",
    "def twice(x = 2):\n",
    "    return  x  +  x\n",
    "\"\"\")"
   ]
  },
  {
   "cell_type": "code",
   "execution_count": 60,
   "metadata": {
    "execution": {
     "iopub.execute_input": "2024-01-18T16:35:29.720798Z",
     "iopub.status.busy": "2024-01-18T16:35:29.720716Z",
     "iopub.status.idle": "2024-01-18T16:35:29.722636Z",
     "shell.execute_reply": "2024-01-18T16:35:29.722387Z"
    },
    "slideshow": {
     "slide_type": "fragment"
    }
   },
   "outputs": [],
   "source": [
    "create_foo_py()"
   ]
  },
  {
   "cell_type": "code",
   "execution_count": 61,
   "metadata": {
    "execution": {
     "iopub.execute_input": "2024-01-18T16:35:29.724108Z",
     "iopub.status.busy": "2024-01-18T16:35:29.724020Z",
     "iopub.status.idle": "2024-01-18T16:35:29.725876Z",
     "shell.execute_reply": "2024-01-18T16:35:29.725617Z"
    },
    "slideshow": {
     "slide_type": "fragment"
    }
   },
   "outputs": [
    {
     "name": "stdout",
     "output_type": "stream",
     "text": [
      "\n",
      "def twice(x = 2):\n",
      "    return  x  +  x\n"
     ]
    }
   ],
   "source": [
    "print(open(\"foo.py\").read(), end=\"\")"
   ]
  },
  {
   "cell_type": "markdown",
   "metadata": {
    "slideshow": {
     "slide_type": "fragment"
    }
   },
   "source": [
    "We see how `autopep8` fixes the spacing:"
   ]
  },
  {
   "cell_type": "code",
   "execution_count": 62,
   "metadata": {
    "execution": {
     "iopub.execute_input": "2024-01-18T16:35:29.727337Z",
     "iopub.status.busy": "2024-01-18T16:35:29.727254Z",
     "iopub.status.idle": "2024-01-18T16:35:29.910104Z",
     "shell.execute_reply": "2024-01-18T16:35:29.909695Z"
    },
    "slideshow": {
     "slide_type": "fragment"
    }
   },
   "outputs": [
    {
     "name": "stdout",
     "output_type": "stream",
     "text": [
      "\r\n",
      "def twice(x=2):\r\n",
      "    return x + x\r\n"
     ]
    }
   ],
   "source": [
    "!autopep8 foo.py"
   ]
  },
  {
   "cell_type": "markdown",
   "metadata": {
    "slideshow": {
     "slide_type": "subslide"
    }
   },
   "source": [
    "Let us now put things together.  We define a `ProgramRunner` that will run the `autopep8` executable with arguments coming from the mined `autopep8` grammar."
   ]
  },
  {
   "cell_type": "code",
   "execution_count": 63,
   "metadata": {
    "execution": {
     "iopub.execute_input": "2024-01-18T16:35:29.912339Z",
     "iopub.status.busy": "2024-01-18T16:35:29.912185Z",
     "iopub.status.idle": "2024-01-18T16:35:29.914093Z",
     "shell.execute_reply": "2024-01-18T16:35:29.913804Z"
    },
    "slideshow": {
     "slide_type": "skip"
    }
   },
   "outputs": [],
   "source": [
    "from Fuzzer import ProgramRunner"
   ]
  },
  {
   "cell_type": "markdown",
   "metadata": {
    "slideshow": {
     "slide_type": "fragment"
    }
   },
   "source": [
    "Running `autopep8` with the mined options reveals a surprisingly high number of passing runs.  (We see that some options depend on each other or are mutually exclusive, but this is handled by the program logic, not the argument parser, and hence out of our scope.)  The `GrammarCoverageFuzzer` ensures that each option is tested at least once.  (Digits and letters, too, by the way.)"
   ]
  },
  {
   "cell_type": "code",
   "execution_count": 64,
   "metadata": {
    "execution": {
     "iopub.execute_input": "2024-01-18T16:35:29.915910Z",
     "iopub.status.busy": "2024-01-18T16:35:29.915787Z",
     "iopub.status.idle": "2024-01-18T16:35:30.829253Z",
     "shell.execute_reply": "2024-01-18T16:35:30.828872Z"
    },
    "slideshow": {
     "slide_type": "subslide"
    }
   },
   "outputs": [
    {
     "name": "stdout",
     "output_type": "stream",
     "text": [
      "$ autopep8 foo.py\n",
      "$ autopep8 --diff --max-line-length 4 --exit-code --range 5 8 -p 2 foo.py\n",
      "$ autopep8 --ignore z --verbose -r --list-fixes foo.py\n",
      "--recursive must be used with --in-place or --diff$ autopep8 --exclude 5 -h -i --aggressive --in-place foo.py\n",
      "$ autopep8 --select a --help --experimental foo.py\n",
      "$ autopep8 --indent-size -30 --recursive foo.py\n",
      "--recursive must be used with --in-place or --diff$ autopep8 --global-config < -j 9 -v -a foo.py\n",
      "parallel jobs requires --in-place$ autopep8 --line-range 7 1 --hang-closing -d foo.py\n",
      "First value of --range should be less than or equal to the second$ autopep8 --pep8-passes 6 --hang-closing --version --ignore-local-config foo.py\n",
      "$ autopep8 --jobs -2 --experimental --version foo.py\n",
      "$ autopep8 --ignore Y: --select ! --global-config e foo.py\n",
      "$ autopep8 --select 1 -a --recursive --aggressive foo.py\n",
      "--recursive must be used with --in-place or --diff$ autopep8 --ignore * --ignore `0 --global-config _ --verbose foo.py\n",
      "[file:foo.py]\n",
      "--->  Applying global fix for E265\n",
      "--->  5 issue(s) to fix {'E251': {2}, 'E271': {3}, 'E221': {3}, 'E222': {3}}\n",
      "--->  3 issue(s) to fix {'E251': {2}, 'E221': {3}, 'E222': {3}}\n",
      "--->  1 issue(s) to fix {'E222': {3}}\n",
      "--->  0 issue(s) to fix {}\n",
      "$ autopep8 --global-config ,\\ --exclude r -v foo.py\n",
      "[file:foo.py]\n",
      "--->  Applying global fix for E265\n",
      "--->  5 issue(s) to fix {'E251': {2}, 'E271': {3}, 'E221': {3}, 'E222': {3}}\n",
      "--->  3 issue(s) to fix {'E251': {2}, 'E221': {3}, 'E222': {3}}\n",
      "--->  1 issue(s) to fix {'E222': {3}}\n",
      "--->  0 issue(s) to fix {}\n",
      "$ autopep8 --global-config xd6M --recursive foo.py\n",
      "--recursive must be used with --in-place or --diff$ autopep8 --select R --exclude L --version --ignore-local-config foo.py\n",
      "$ autopep8 --select \" --verbose -h -d foo.py\n",
      "$ autopep8 --diff -i -h foo.py\n",
      "$ autopep8 --in-place --select w --version -i foo.py\n",
      "$ autopep8 --ignore 49 --exclude lI -i foo.py\n"
     ]
    }
   ],
   "source": [
    "f = GrammarCoverageFuzzer(autopep8_grammar, max_nonterminals=5)\n",
    "for i in range(20):\n",
    "    invocation = \"autopep8\" + f.fuzz()\n",
    "    print(\"$ \" + invocation)\n",
    "    args = invocation.split()\n",
    "    autopep8_runner = ProgramRunner(args)\n",
    "    result, outcome = autopep8_runner.run()\n",
    "    if result.stderr != \"\":\n",
    "        print(result.stderr, end=\"\")"
   ]
  },
  {
   "cell_type": "markdown",
   "metadata": {
    "slideshow": {
     "slide_type": "subslide"
    }
   },
   "source": [
    "Our `foo.py` file now has been formatted in place a number of times:"
   ]
  },
  {
   "cell_type": "code",
   "execution_count": 65,
   "metadata": {
    "execution": {
     "iopub.execute_input": "2024-01-18T16:35:30.831139Z",
     "iopub.status.busy": "2024-01-18T16:35:30.831003Z",
     "iopub.status.idle": "2024-01-18T16:35:30.833242Z",
     "shell.execute_reply": "2024-01-18T16:35:30.832996Z"
    },
    "slideshow": {
     "slide_type": "fragment"
    }
   },
   "outputs": [
    {
     "name": "stdout",
     "output_type": "stream",
     "text": [
      "\n",
      "def twice(x=2):\n",
      "    return x + x\n"
     ]
    }
   ],
   "source": [
    "print(open(\"foo.py\").read(), end=\"\")"
   ]
  },
  {
   "cell_type": "markdown",
   "metadata": {
    "slideshow": {
     "slide_type": "skip"
    }
   },
   "source": [
    "We don't need it anymore, so we clean up things:"
   ]
  },
  {
   "cell_type": "code",
   "execution_count": 66,
   "metadata": {
    "execution": {
     "iopub.execute_input": "2024-01-18T16:35:30.834852Z",
     "iopub.status.busy": "2024-01-18T16:35:30.834741Z",
     "iopub.status.idle": "2024-01-18T16:35:30.836293Z",
     "shell.execute_reply": "2024-01-18T16:35:30.836045Z"
    },
    "slideshow": {
     "slide_type": "skip"
    }
   },
   "outputs": [],
   "source": [
    "import os"
   ]
  },
  {
   "cell_type": "code",
   "execution_count": 67,
   "metadata": {
    "execution": {
     "iopub.execute_input": "2024-01-18T16:35:30.837908Z",
     "iopub.status.busy": "2024-01-18T16:35:30.837792Z",
     "iopub.status.idle": "2024-01-18T16:35:30.839496Z",
     "shell.execute_reply": "2024-01-18T16:35:30.839255Z"
    },
    "slideshow": {
     "slide_type": "skip"
    }
   },
   "outputs": [],
   "source": [
    "os.remove(\"foo.py\")"
   ]
  },
  {
   "cell_type": "markdown",
   "metadata": {
    "slideshow": {
     "slide_type": "fragment"
    }
   },
   "source": [
    "## Classes for Fuzzing Configuration Options\n",
    "\n",
    "Let us now create reusable classes that we can use for testing arbitrary programs.  (Okay, make that \"arbitrary programs that are written in Python and use the `argparse` module to process command-line arguments.\")"
   ]
  },
  {
   "cell_type": "markdown",
   "metadata": {
    "slideshow": {
     "slide_type": "subslide"
    }
   },
   "source": [
    "The class `OptionRunner` is a subclass of `ProgramRunner` that takes care of automatically determining the grammar, using the same steps we used for `autopep8`, above."
   ]
  },
  {
   "cell_type": "code",
   "execution_count": 68,
   "metadata": {
    "execution": {
     "iopub.execute_input": "2024-01-18T16:35:30.841005Z",
     "iopub.status.busy": "2024-01-18T16:35:30.840903Z",
     "iopub.status.idle": "2024-01-18T16:35:30.842412Z",
     "shell.execute_reply": "2024-01-18T16:35:30.842172Z"
    },
    "slideshow": {
     "slide_type": "skip"
    }
   },
   "outputs": [],
   "source": [
    "from Grammars import unreachable_nonterminals"
   ]
  },
  {
   "cell_type": "code",
   "execution_count": 69,
   "metadata": {
    "execution": {
     "iopub.execute_input": "2024-01-18T16:35:30.843806Z",
     "iopub.status.busy": "2024-01-18T16:35:30.843721Z",
     "iopub.status.idle": "2024-01-18T16:35:30.846615Z",
     "shell.execute_reply": "2024-01-18T16:35:30.846349Z"
    },
    "slideshow": {
     "slide_type": "fragment"
    }
   },
   "outputs": [],
   "source": [
    "class OptionRunner(ProgramRunner):\n",
    "    \"\"\"Run a program while determining its option grammar\"\"\"\n",
    "\n",
    "    def __init__(self, program: Union[str, List[str]],\n",
    "                 arguments: Optional[str] = None, *,\n",
    "                 log: bool = False,\n",
    "                 miner_class: Optional[Type[OptionGrammarMiner]] = None):\n",
    "        \"\"\"Constructor.\n",
    "        `program` - the (Python) program to be executed\n",
    "        `arguments` - an (optional) string with arguments for `program`\n",
    "        `log` - if True, enable logging in miner\n",
    "        `miner_class` - the `OptionGrammarMiner` class to be used\n",
    "                  (default: `OptionGrammarMiner`)\n",
    "        \"\"\"\n",
    "        if isinstance(program, str):\n",
    "            self.base_executable = program\n",
    "        else:\n",
    "            self.base_executable = program[0]\n",
    "\n",
    "        if miner_class is None:\n",
    "            miner_class = OptionGrammarMiner\n",
    "        self.miner_class = miner_class\n",
    "        self.log = log\n",
    "\n",
    "        self.find_contents()\n",
    "        self.find_grammar()\n",
    "        if arguments is not None:\n",
    "            self.set_arguments(arguments)\n",
    "        super().__init__(program)"
   ]
  },
  {
   "cell_type": "markdown",
   "metadata": {
    "slideshow": {
     "slide_type": "subslide"
    }
   },
   "source": [
    "First, we find the contents of the Python executable:"
   ]
  },
  {
   "cell_type": "code",
   "execution_count": 70,
   "metadata": {
    "execution": {
     "iopub.execute_input": "2024-01-18T16:35:30.848233Z",
     "iopub.status.busy": "2024-01-18T16:35:30.848142Z",
     "iopub.status.idle": "2024-01-18T16:35:30.850771Z",
     "shell.execute_reply": "2024-01-18T16:35:30.850527Z"
    },
    "slideshow": {
     "slide_type": "fragment"
    }
   },
   "outputs": [],
   "source": [
    "class OptionRunner(OptionRunner):\n",
    "    def find_contents(self):\n",
    "        self._executable = find_executable(self.base_executable)\n",
    "        if self._executable is None:\n",
    "            raise IOError(self.base_executable + \": not found\")\n",
    "\n",
    "        first_line = open(self._executable).readline()\n",
    "        if first_line.find(\"python\") < 0:\n",
    "            raise IOError(self.base_executable + \": not a Python executable\")\n",
    "\n",
    "        self.contents = open(self._executable).read()\n",
    "\n",
    "    def invoker(self):\n",
    "        # We are passing the local variables as is, such that we can access `self`\n",
    "        # We set __name__ to '__main__' to invoke the script as an executable\n",
    "        exec(self.contents, {'__name__': '__main__'})\n",
    "\n",
    "    def executable(self):\n",
    "        return self._executable"
   ]
  },
  {
   "cell_type": "markdown",
   "metadata": {
    "slideshow": {
     "slide_type": "subslide"
    }
   },
   "source": [
    "Next, we determine the grammar using the `OptionGrammarMiner` class:"
   ]
  },
  {
   "cell_type": "code",
   "execution_count": 71,
   "metadata": {
    "execution": {
     "iopub.execute_input": "2024-01-18T16:35:30.852397Z",
     "iopub.status.busy": "2024-01-18T16:35:30.852310Z",
     "iopub.status.idle": "2024-01-18T16:35:30.854494Z",
     "shell.execute_reply": "2024-01-18T16:35:30.854239Z"
    },
    "slideshow": {
     "slide_type": "fragment"
    }
   },
   "outputs": [],
   "source": [
    "class OptionRunner(OptionRunner):\n",
    "    def find_grammar(self):\n",
    "        miner = self.miner_class(self.invoker, log=self.log)\n",
    "        self._ebnf_grammar = miner.mine_ebnf_grammar()\n",
    "\n",
    "    def ebnf_grammar(self):\n",
    "        \"\"\"Return extracted grammar in EBNF form\"\"\"\n",
    "        return self._ebnf_grammar\n",
    "\n",
    "    def grammar(self):\n",
    "        \"\"\"Return extracted grammar in BNF form\"\"\"\n",
    "        return convert_ebnf_grammar(self._ebnf_grammar)"
   ]
  },
  {
   "cell_type": "markdown",
   "metadata": {
    "slideshow": {
     "slide_type": "subslide"
    }
   },
   "source": [
    "The two service methods `set_arguments()` and `set_invocation()` help us to change the arguments and program, respectively."
   ]
  },
  {
   "cell_type": "code",
   "execution_count": 72,
   "metadata": {
    "execution": {
     "iopub.execute_input": "2024-01-18T16:35:30.855994Z",
     "iopub.status.busy": "2024-01-18T16:35:30.855905Z",
     "iopub.status.idle": "2024-01-18T16:35:30.858397Z",
     "shell.execute_reply": "2024-01-18T16:35:30.858015Z"
    },
    "slideshow": {
     "slide_type": "fragment"
    }
   },
   "outputs": [],
   "source": [
    "class OptionRunner(OptionRunner):\n",
    "    def set_arguments(self, args):\n",
    "        self._ebnf_grammar[\"<arguments>\"] = [\" \" + args]\n",
    "        # Delete rules for previous arguments\n",
    "        for nonterminal in unreachable_nonterminals(self._ebnf_grammar):\n",
    "            del self._ebnf_grammar[nonterminal]\n",
    "\n",
    "    def set_invocation(self, program):\n",
    "        self.program = program"
   ]
  },
  {
   "cell_type": "markdown",
   "metadata": {
    "slideshow": {
     "slide_type": "subslide"
    }
   },
   "source": [
    "We can instantiate the class on `autopep8` and immediately get the grammar:"
   ]
  },
  {
   "cell_type": "code",
   "execution_count": 73,
   "metadata": {
    "execution": {
     "iopub.execute_input": "2024-01-18T16:35:30.860138Z",
     "iopub.status.busy": "2024-01-18T16:35:30.860025Z",
     "iopub.status.idle": "2024-01-18T16:35:30.864499Z",
     "shell.execute_reply": "2024-01-18T16:35:30.864239Z"
    },
    "slideshow": {
     "slide_type": "fragment"
    }
   },
   "outputs": [],
   "source": [
    "autopep8_runner = OptionRunner(\"autopep8\", \"foo.py\")"
   ]
  },
  {
   "cell_type": "code",
   "execution_count": 74,
   "metadata": {
    "execution": {
     "iopub.execute_input": "2024-01-18T16:35:30.866066Z",
     "iopub.status.busy": "2024-01-18T16:35:30.865982Z",
     "iopub.status.idle": "2024-01-18T16:35:30.867787Z",
     "shell.execute_reply": "2024-01-18T16:35:30.867517Z"
    },
    "slideshow": {
     "slide_type": "fragment"
    }
   },
   "outputs": [
    {
     "name": "stdout",
     "output_type": "stream",
     "text": [
      "[' -h', ' --help', ' --version', ' -v', ' --verbose', ' -d', ' --diff', ' -i', ' --in-place', ' --global-config <filename>', ' --ignore-local-config', ' -r', ' --recursive', ' -j <n>', ' --jobs <n>', ' -p <n>', ' --pep8-passes <n>', ' -a', ' --aggressive', ' --experimental', ' --exclude <globs>', ' --list-fixes', ' --ignore <errors>', ' --select <errors>', ' --max-line-length <n>', ' --line-range <line> <line>', ' --range <line> <line>', ' --indent-size <int>', ' --hang-closing', ' --exit-code']\n"
     ]
    }
   ],
   "source": [
    "print(autopep8_runner.ebnf_grammar()[\"<option>\"])"
   ]
  },
  {
   "cell_type": "markdown",
   "metadata": {
    "slideshow": {
     "slide_type": "subslide"
    }
   },
   "source": [
    "An `OptionFuzzer` interacts with the given `OptionRunner` to obtain its grammar, which is then passed to its `GrammarCoverageFuzzer` superclass."
   ]
  },
  {
   "cell_type": "code",
   "execution_count": 75,
   "metadata": {
    "execution": {
     "iopub.execute_input": "2024-01-18T16:35:30.869293Z",
     "iopub.status.busy": "2024-01-18T16:35:30.869209Z",
     "iopub.status.idle": "2024-01-18T16:35:30.871460Z",
     "shell.execute_reply": "2024-01-18T16:35:30.871216Z"
    },
    "slideshow": {
     "slide_type": "fragment"
    }
   },
   "outputs": [],
   "source": [
    "class OptionFuzzer(GrammarCoverageFuzzer):\n",
    "    \"\"\"Fuzz a (Python) program using its arguments\"\"\"\n",
    "\n",
    "    def __init__(self, runner: OptionRunner, *args, **kwargs):\n",
    "        \"\"\"Constructor. `runner` is an OptionRunner.\"\"\"\n",
    "        assert issubclass(type(runner), OptionRunner)\n",
    "        self.runner = runner\n",
    "        grammar = runner.grammar()\n",
    "        super().__init__(grammar, *args, **kwargs)"
   ]
  },
  {
   "cell_type": "markdown",
   "metadata": {
    "slideshow": {
     "slide_type": "subslide"
    }
   },
   "source": [
    "When invoking `run()`, the `OptionFuzzer` creates a new invocation (using `fuzz()` from its grammar) and runs the now given (or previously set) runner with the arguments from the grammar.  Note that the runner specified in `run()` can differ from the one set during initialization; this allows for mining options from one program and applying it in another context."
   ]
  },
  {
   "cell_type": "code",
   "execution_count": 76,
   "metadata": {
    "execution": {
     "iopub.execute_input": "2024-01-18T16:35:30.873081Z",
     "iopub.status.busy": "2024-01-18T16:35:30.872980Z",
     "iopub.status.idle": "2024-01-18T16:35:30.875392Z",
     "shell.execute_reply": "2024-01-18T16:35:30.875109Z"
    },
    "slideshow": {
     "slide_type": "fragment"
    }
   },
   "outputs": [],
   "source": [
    "class OptionFuzzer(OptionFuzzer):\n",
    "    def run(self, runner=None, inp=\"\"):\n",
    "        if runner is None:\n",
    "            runner = self.runner\n",
    "        assert issubclass(type(runner), OptionRunner)\n",
    "        invocation = runner.executable() + \" \" + self.fuzz()\n",
    "        runner.set_invocation(invocation.split())\n",
    "        return runner.run(inp)"
   ]
  },
  {
   "cell_type": "markdown",
   "metadata": {
    "slideshow": {
     "slide_type": "fragment"
    }
   },
   "source": [
    "### Example: Autopep8\n",
    "\n",
    "Let us apply our newly defined classes on the `autopep8` runner:"
   ]
  },
  {
   "cell_type": "code",
   "execution_count": 77,
   "metadata": {
    "execution": {
     "iopub.execute_input": "2024-01-18T16:35:30.876981Z",
     "iopub.status.busy": "2024-01-18T16:35:30.876875Z",
     "iopub.status.idle": "2024-01-18T16:35:30.879057Z",
     "shell.execute_reply": "2024-01-18T16:35:30.878770Z"
    },
    "slideshow": {
     "slide_type": "fragment"
    }
   },
   "outputs": [],
   "source": [
    "autopep8_fuzzer = OptionFuzzer(autopep8_runner, max_nonterminals=5)"
   ]
  },
  {
   "cell_type": "code",
   "execution_count": 78,
   "metadata": {
    "execution": {
     "iopub.execute_input": "2024-01-18T16:35:30.880834Z",
     "iopub.status.busy": "2024-01-18T16:35:30.880694Z",
     "iopub.status.idle": "2024-01-18T16:35:30.889199Z",
     "shell.execute_reply": "2024-01-18T16:35:30.888918Z"
    },
    "slideshow": {
     "slide_type": "fragment"
    }
   },
   "outputs": [
    {
     "name": "stdout",
     "output_type": "stream",
     "text": [
      " foo.py\n",
      " --in-place --ignore-local-config --jobs 6 --recursive -i foo.py\n",
      " --help -a --indent-size -95 --pep8-passes 3 --exclude = -r foo.py\n"
     ]
    }
   ],
   "source": [
    "for i in range(3):\n",
    "    print(autopep8_fuzzer.fuzz())"
   ]
  },
  {
   "cell_type": "markdown",
   "metadata": {
    "slideshow": {
     "slide_type": "subslide"
    }
   },
   "source": [
    "We can now systematically test `autopep8` with these classes:"
   ]
  },
  {
   "cell_type": "code",
   "execution_count": 79,
   "metadata": {
    "execution": {
     "iopub.execute_input": "2024-01-18T16:35:30.891008Z",
     "iopub.status.busy": "2024-01-18T16:35:30.890877Z",
     "iopub.status.idle": "2024-01-18T16:35:30.933296Z",
     "shell.execute_reply": "2024-01-18T16:35:30.932922Z"
    },
    "slideshow": {
     "slide_type": "fragment"
    }
   },
   "outputs": [
    {
     "data": {
      "text/plain": [
       "(CompletedProcess(args=['/Users/zeller/.pyenv/versions/3.10.2/bin/autopep8', '--hang-closing', '--exit-code', '-d', '--version', 'foo.py'], returncode=0, stdout='autopep8 1.6.0 (pycodestyle: 2.5.0)\\n', stderr=''),\n",
       " 'PASS')"
      ]
     },
     "execution_count": 79,
     "metadata": {},
     "output_type": "execute_result"
    }
   ],
   "source": [
    "autopep8_fuzzer.run(autopep8_runner)"
   ]
  },
  {
   "cell_type": "markdown",
   "metadata": {
    "slideshow": {
     "slide_type": "subslide"
    }
   },
   "source": [
    "### Example: MyPy\n",
    "\n",
    "We can extract options for the `mypy` static type checker for Python:"
   ]
  },
  {
   "cell_type": "code",
   "execution_count": 80,
   "metadata": {
    "execution": {
     "iopub.execute_input": "2024-01-18T16:35:30.935112Z",
     "iopub.status.busy": "2024-01-18T16:35:30.934973Z",
     "iopub.status.idle": "2024-01-18T16:35:30.936918Z",
     "shell.execute_reply": "2024-01-18T16:35:30.936669Z"
    },
    "slideshow": {
     "slide_type": "fragment"
    }
   },
   "outputs": [],
   "source": [
    "assert find_executable(\"mypy\") is not None"
   ]
  },
  {
   "cell_type": "code",
   "execution_count": 81,
   "metadata": {
    "execution": {
     "iopub.execute_input": "2024-01-18T16:35:30.938407Z",
     "iopub.status.busy": "2024-01-18T16:35:30.938304Z",
     "iopub.status.idle": "2024-01-18T16:35:31.096824Z",
     "shell.execute_reply": "2024-01-18T16:35:31.096435Z"
    },
    "slideshow": {
     "slide_type": "fragment"
    }
   },
   "outputs": [
    {
     "name": "stdout",
     "output_type": "stream",
     "text": [
      "[' -h', ' --help', ' -v', ' --verbose', ' -V', ' --version', ' --config-file <str>', ' --warn-unused-configs', ' --no-warn-unused-configs', ' --no-namespace-packages', ' --namespace-packages', ' --ignore-missing-imports', ' --follow-imports <str>', ' --python-executable', ' --no-site-packages', ' --no-silence-site-packages', ' --python-version <x.y>', ' --platform', ' --always-true', ' --always-false', ' --disallow-any-unimported', ' --disallow-any-expr', ' --disallow-any-decorated', ' --disallow-any-explicit', ' --disallow-any-generics', ' --allow-any-generics', ' --disallow-subclassing-any', ' --allow-subclassing-any', ' --disallow-untyped-calls', ' --allow-untyped-calls', ' --untyped-calls-exclude', ' --disallow-untyped-defs', ' --allow-untyped-defs', ' --disallow-incomplete-defs', ' --allow-incomplete-defs', ' --check-untyped-defs', ' --no-check-untyped-defs', ' --disallow-untyped-decorators', ' --allow-untyped-decorators', ' --implicit-optional', ' --no-implicit-optional', ' --strict-optional', ' --no-strict-optional', ' --force-uppercase-builtins', ' --no-force-uppercase-builtins', ' --force-union-syntax', ' --no-force-union-syntax', ' --warn-redundant-casts', ' --no-warn-redundant-casts', ' --warn-unused-ignores', ' --no-warn-unused-ignores', ' --no-warn-no-return', ' --warn-no-return', ' --warn-return-any', ' --no-warn-return-any', ' --warn-unreachable', ' --no-warn-unreachable', ' --allow-untyped-globals', ' --disallow-untyped-globals', ' --allow-redefinition', ' --disallow-redefinition', ' --no-implicit-reexport', ' --implicit-reexport', ' --strict-equality', ' --no-strict-equality', ' --extra-checks', ' --no-extra-checks', ' --strict', ' --disable-error-code', ' --enable-error-code', ' --show-error-context', ' --hide-error-context', ' --show-column-numbers', ' --hide-column-numbers', ' --show-error-end', ' --hide-error-end', ' --hide-error-codes', ' --show-error-codes', ' --show-error-code-links', ' --hide-error-code-links', ' --pretty', ' --no-pretty', ' --no-color-output', ' --color-output', ' --no-error-summary', ' --error-summary', ' --show-absolute-path', ' --hide-absolute-path', ' --soft-error-limit <int>', ' -i', ' --incremental', ' --no-incremental', ' --cache-dir', ' --sqlite-cache', ' --no-sqlite-cache', ' --cache-fine-grained', ' --skip-version-check', ' --skip-cache-mtime-checks', ' --pdb', ' --show-traceback', ' --tb', ' --raise-exceptions', ' --custom-typing-module <MODULE>', ' --new-type-inference', ' --disable-recursive-aliases', ' --enable-recursive-aliases', ' --enable-incomplete-feature', ' --custom-typeshed-dir <DIR>', ' --warn-incomplete-stub', ' --no-warn-incomplete-stub', ' --shadow-file', ' --fast-exit', ' --no-fast-exit', ' --allow-empty-bodies', ' --disallow-empty-bodies', ' --export-ref-info', ' --any-exprs-report <DIR>', ' --cobertura-xml-report <DIR>', ' --html-report <DIR>', ' --linecount-report <DIR>', ' --linecoverage-report <DIR>', ' --lineprecision-report <DIR>', ' --txt-report <DIR>', ' --xml-report <DIR>', ' --xslt-html-report <DIR>', ' --xslt-txt-report <DIR>', ' --quickstart-file <str>', ' --junit-xml <str>', ' --find-occurrences <CLASS.MEMBER>', ' --scripts-are-modules', ' --install-types', ' --no-install-types', ' --non-interactive', ' --interactive', ' --stats', ' --inferstats', ' --dump-build-stats', ' --timing-stats <str>', ' --line-checking-stats <str>', ' --debug-cache', ' --dump-deps', ' --dump-graph', ' --semantic-analysis-only', ' --local-partial-types', ' --logical-deps', ' --bazel', ' --package-root', ' --cache-map( <str>)+', ' --debug-serialize', ' --enable-incomplete-features', ' --disable-bytearray-promotion', ' --disable-memoryview-promotion', ' --strict-concatenate', ' --explicit-package-bases', ' --no-explicit-package-bases', ' --fast-module-lookup', ' --no-fast-module-lookup', ' --exclude', ' -m', ' --module', ' -p', ' --package', ' -c', ' --command']\n"
     ]
    }
   ],
   "source": [
    "mypy_runner = OptionRunner(\"mypy\", \"foo.py\")\n",
    "print(mypy_runner.ebnf_grammar()[\"<option>\"])"
   ]
  },
  {
   "cell_type": "code",
   "execution_count": 82,
   "metadata": {
    "execution": {
     "iopub.execute_input": "2024-01-18T16:35:31.098628Z",
     "iopub.status.busy": "2024-01-18T16:35:31.098461Z",
     "iopub.status.idle": "2024-01-18T16:35:31.204569Z",
     "shell.execute_reply": "2024-01-18T16:35:31.204267Z"
    },
    "slideshow": {
     "slide_type": "subslide"
    }
   },
   "outputs": [
    {
     "name": "stdout",
     "output_type": "stream",
     "text": [
      " --follow-imports l foo.py\n",
      " --junit-xml p\" --allow-untyped-decorators --install-types --no-warn-incomplete-stub foo.py\n",
      " --soft-error-limit 2 --show-error-context --disable-recursive-aliases foo.py\n",
      " --no-site-packages --version --warn-unused-configs --allow-redefinition --always-false --show-error-codes --warn-incomplete-stub --strict-optional --bazel --explicit-package-bases foo.py\n",
      " --color-output --quickstart-file + --strict --incremental --show-traceback -h --cache-dir --sqlite-cache --pretty foo.py\n",
      " --disallow-any-explicit --force-uppercase-builtins --allow-untyped-defs --cache-fine-grained --skip-cache-mtime-checks --no-warn-unreachable foo.py\n",
      " --no-silence-site-packages --implicit-optional --xml-report Y --implicit-reexport --shadow-file --logical-deps -c --no-strict-optional --line-checking-stats u3% --local-partial-types --stats --disallow-subclassing-any --no-fast-module-lookup foo.py\n",
      " --hide-error-end --disallow-incomplete-defs --package --linecount-report 0 --no-sqlite-cache --pdb --no-incremental --dump-build-stats --no-color-output --exclude --disallow-untyped-globals -V foo.py\n",
      " --force-union-syntax --disable-memoryview-promotion --allow-incomplete-defs --semantic-analysis-only --no-pretty --python-executable --hide-absolute-path foo.py\n",
      " --fast-module-lookup --disallow-untyped-defs --no-warn-no-return --warn-unused-ignores foo.py\n"
     ]
    }
   ],
   "source": [
    "mypy_fuzzer = OptionFuzzer(mypy_runner, max_nonterminals=5)\n",
    "for i in range(10):\n",
    "    print(mypy_fuzzer.fuzz())"
   ]
  },
  {
   "cell_type": "markdown",
   "metadata": {
    "slideshow": {
     "slide_type": "subslide"
    }
   },
   "source": [
    "### Example: Notedown\n",
    "\n",
    "Here's the configuration options for the `notedown` Notebook to Markdown converter:"
   ]
  },
  {
   "cell_type": "code",
   "execution_count": 83,
   "metadata": {
    "execution": {
     "iopub.execute_input": "2024-01-18T16:35:31.206326Z",
     "iopub.status.busy": "2024-01-18T16:35:31.206199Z",
     "iopub.status.idle": "2024-01-18T16:35:31.208892Z",
     "shell.execute_reply": "2024-01-18T16:35:31.208616Z"
    },
    "slideshow": {
     "slide_type": "fragment"
    }
   },
   "outputs": [],
   "source": [
    "assert find_executable(\"notedown\") is not None"
   ]
  },
  {
   "cell_type": "code",
   "execution_count": 84,
   "metadata": {
    "execution": {
     "iopub.execute_input": "2024-01-18T16:35:31.210421Z",
     "iopub.status.busy": "2024-01-18T16:35:31.210303Z",
     "iopub.status.idle": "2024-01-18T16:35:31.211956Z",
     "shell.execute_reply": "2024-01-18T16:35:31.211649Z"
    },
    "slideshow": {
     "slide_type": "skip"
    },
    "tags": []
   },
   "outputs": [],
   "source": [
    "import warnings"
   ]
  },
  {
   "cell_type": "code",
   "execution_count": 85,
   "metadata": {
    "execution": {
     "iopub.execute_input": "2024-01-18T16:35:31.213614Z",
     "iopub.status.busy": "2024-01-18T16:35:31.213485Z",
     "iopub.status.idle": "2024-01-18T16:35:32.784481Z",
     "shell.execute_reply": "2024-01-18T16:35:32.784160Z"
    },
    "slideshow": {
     "slide_type": "fragment"
    }
   },
   "outputs": [],
   "source": [
    "with warnings.catch_warnings():\n",
    "    # Workaround: `notedown` can issue a `DeprecationWarning`\n",
    "    warnings.filterwarnings(\"ignore\", category=DeprecationWarning)\n",
    "    notedown_runner = OptionRunner(\"notedown\")"
   ]
  },
  {
   "cell_type": "code",
   "execution_count": 86,
   "metadata": {
    "execution": {
     "iopub.execute_input": "2024-01-18T16:35:32.786462Z",
     "iopub.status.busy": "2024-01-18T16:35:32.786267Z",
     "iopub.status.idle": "2024-01-18T16:35:32.788341Z",
     "shell.execute_reply": "2024-01-18T16:35:32.788079Z"
    },
    "slideshow": {
     "slide_type": "fragment"
    }
   },
   "outputs": [
    {
     "name": "stdout",
     "output_type": "stream",
     "text": [
      "[' -h', ' --help', ' -o( <str>)?', ' --output( <str>)?', ' --from <str>', ' --to <str>', ' --run', ' --execute', ' --timeout <int>', ' --strip', ' --precode( <str>)+', ' --knit( <str>)?', ' --rmagic', ' --nomagic', ' --render', ' --template <str>', ' --match <str>', ' --examples', ' --version', ' --debug']\n"
     ]
    }
   ],
   "source": [
    "print(notedown_runner.ebnf_grammar()[\"<option>\"])"
   ]
  },
  {
   "cell_type": "code",
   "execution_count": 87,
   "metadata": {
    "execution": {
     "iopub.execute_input": "2024-01-18T16:35:32.789867Z",
     "iopub.status.busy": "2024-01-18T16:35:32.789756Z",
     "iopub.status.idle": "2024-01-18T16:35:32.823278Z",
     "shell.execute_reply": "2024-01-18T16:35:32.823005Z"
    },
    "slideshow": {
     "slide_type": "fragment"
    }
   },
   "outputs": [
    {
     "name": "stdout",
     "output_type": "stream",
     "text": [
      " 2\n",
      " --strip --version --timeout 47 --knit {\n",
      " --help --render Q@\n",
      " --template 9v --examples\n",
      " --run --execute --rmagic p\n",
      " -h --match ' --nomagic --from ,w --debug --execute =\n",
      " --version --execute Pa\n",
      " --output -o 5C --to g --precode } --knit --debug E\n",
      " -h --render d\\\n",
      " --output --execute /DG\n"
     ]
    }
   ],
   "source": [
    "notedown_fuzzer = OptionFuzzer(notedown_runner, max_nonterminals=5)\n",
    "for i in range(10):\n",
    "    print(notedown_fuzzer.fuzz())"
   ]
  },
  {
   "cell_type": "markdown",
   "metadata": {
    "button": false,
    "new_sheet": false,
    "run_control": {
     "read_only": false
    },
    "slideshow": {
     "slide_type": "slide"
    }
   },
   "source": [
    "## Combinatorial Testing\n",
    "\n",
    "Our `CoverageGrammarFuzzer` does a good job in covering each and every option at least once, which is great for systematic testing.  However, as we also can see in our examples above, some options require each other, while others interfere with each other.  What we should do as good testers is not only to cover every option individually, but also _combinations_ of options."
   ]
  },
  {
   "cell_type": "markdown",
   "metadata": {
    "slideshow": {
     "slide_type": "subslide"
    }
   },
   "source": [
    "The Python `itertools` module gives us means to create combinations from lists.  We can, for instance, take the `notedown` options and create a list of all pairs."
   ]
  },
  {
   "cell_type": "code",
   "execution_count": 88,
   "metadata": {
    "execution": {
     "iopub.execute_input": "2024-01-18T16:35:32.824996Z",
     "iopub.status.busy": "2024-01-18T16:35:32.824885Z",
     "iopub.status.idle": "2024-01-18T16:35:32.826501Z",
     "shell.execute_reply": "2024-01-18T16:35:32.826250Z"
    },
    "slideshow": {
     "slide_type": "skip"
    }
   },
   "outputs": [],
   "source": [
    "from itertools import combinations"
   ]
  },
  {
   "cell_type": "code",
   "execution_count": 89,
   "metadata": {
    "execution": {
     "iopub.execute_input": "2024-01-18T16:35:32.827857Z",
     "iopub.status.busy": "2024-01-18T16:35:32.827776Z",
     "iopub.status.idle": "2024-01-18T16:35:32.829506Z",
     "shell.execute_reply": "2024-01-18T16:35:32.829260Z"
    },
    "slideshow": {
     "slide_type": "fragment"
    }
   },
   "outputs": [],
   "source": [
    "option_list = notedown_runner.ebnf_grammar()[\"<option>\"]\n",
    "pairs = list(combinations(option_list, 2))"
   ]
  },
  {
   "cell_type": "markdown",
   "metadata": {
    "slideshow": {
     "slide_type": "fragment"
    }
   },
   "source": [
    "There's quite a number of pairs:"
   ]
  },
  {
   "cell_type": "code",
   "execution_count": 90,
   "metadata": {
    "execution": {
     "iopub.execute_input": "2024-01-18T16:35:32.831005Z",
     "iopub.status.busy": "2024-01-18T16:35:32.830914Z",
     "iopub.status.idle": "2024-01-18T16:35:32.832976Z",
     "shell.execute_reply": "2024-01-18T16:35:32.832747Z"
    },
    "slideshow": {
     "slide_type": "fragment"
    }
   },
   "outputs": [
    {
     "data": {
      "text/plain": [
       "190"
      ]
     },
     "execution_count": 90,
     "metadata": {},
     "output_type": "execute_result"
    }
   ],
   "source": [
    "len(pairs)"
   ]
  },
  {
   "cell_type": "code",
   "execution_count": 91,
   "metadata": {
    "execution": {
     "iopub.execute_input": "2024-01-18T16:35:32.834374Z",
     "iopub.status.busy": "2024-01-18T16:35:32.834288Z",
     "iopub.status.idle": "2024-01-18T16:35:32.836071Z",
     "shell.execute_reply": "2024-01-18T16:35:32.835799Z"
    },
    "slideshow": {
     "slide_type": "fragment"
    }
   },
   "outputs": [
    {
     "name": "stdout",
     "output_type": "stream",
     "text": [
      "[(' -h', ' --help'), (' -h', ' -o( <str>)?'), (' -h', ' --output( <str>)?'), (' -h', ' --from <str>'), (' -h', ' --to <str>'), (' -h', ' --run'), (' -h', ' --execute'), (' -h', ' --timeout <int>'), (' -h', ' --strip'), (' -h', ' --precode( <str>)+'), (' -h', ' --knit( <str>)?'), (' -h', ' --rmagic'), (' -h', ' --nomagic'), (' -h', ' --render'), (' -h', ' --template <str>'), (' -h', ' --match <str>'), (' -h', ' --examples'), (' -h', ' --version'), (' -h', ' --debug'), (' --help', ' -o( <str>)?')]\n"
     ]
    }
   ],
   "source": [
    "print(pairs[:20])"
   ]
  },
  {
   "cell_type": "markdown",
   "metadata": {
    "slideshow": {
     "slide_type": "subslide"
    }
   },
   "source": [
    "Testing every such pair of options frequently suffices to cover all interferences between options.  (Programs rarely have conditions involving three or more configuration settings.)  To this end, we _change_ the grammar from having a list of options to having a list of _option pairs_, such that covering these will automatically cover all pairs."
   ]
  },
  {
   "cell_type": "markdown",
   "metadata": {
    "slideshow": {
     "slide_type": "subslide"
    }
   },
   "source": [
    "We create a function `pairwise()` that takes a list of options as occurring in our grammar and returns a list of _pairwise options_ – that is, our original options, but concatenated."
   ]
  },
  {
   "cell_type": "code",
   "execution_count": 92,
   "metadata": {
    "execution": {
     "iopub.execute_input": "2024-01-18T16:35:32.837612Z",
     "iopub.status.busy": "2024-01-18T16:35:32.837527Z",
     "iopub.status.idle": "2024-01-18T16:35:32.839340Z",
     "shell.execute_reply": "2024-01-18T16:35:32.839064Z"
    },
    "slideshow": {
     "slide_type": "fragment"
    }
   },
   "outputs": [],
   "source": [
    "def pairwise(option_list):\n",
    "    return [option_1 + option_2\n",
    "            for (option_1, option_2) in combinations(option_list, 2)]"
   ]
  },
  {
   "cell_type": "markdown",
   "metadata": {
    "slideshow": {
     "slide_type": "fragment"
    }
   },
   "source": [
    "Here's the first 20 pairs:"
   ]
  },
  {
   "cell_type": "code",
   "execution_count": 93,
   "metadata": {
    "execution": {
     "iopub.execute_input": "2024-01-18T16:35:32.840758Z",
     "iopub.status.busy": "2024-01-18T16:35:32.840673Z",
     "iopub.status.idle": "2024-01-18T16:35:32.842429Z",
     "shell.execute_reply": "2024-01-18T16:35:32.842165Z"
    },
    "slideshow": {
     "slide_type": "fragment"
    }
   },
   "outputs": [
    {
     "name": "stdout",
     "output_type": "stream",
     "text": [
      "[' -h --help', ' -h -o( <str>)?', ' -h --output( <str>)?', ' -h --from <str>', ' -h --to <str>', ' -h --run', ' -h --execute', ' -h --timeout <int>', ' -h --strip', ' -h --precode( <str>)+', ' -h --knit( <str>)?', ' -h --rmagic', ' -h --nomagic', ' -h --render', ' -h --template <str>', ' -h --match <str>', ' -h --examples', ' -h --version', ' -h --debug', ' --help -o( <str>)?']\n"
     ]
    }
   ],
   "source": [
    "print(pairwise(option_list)[:20])"
   ]
  },
  {
   "cell_type": "markdown",
   "metadata": {
    "slideshow": {
     "slide_type": "subslide"
    }
   },
   "source": [
    "The new grammar `pairwise_notedown_grammar` is a copy of the `notedown` grammar, but with the list of options replaced with the above pairwise option list."
   ]
  },
  {
   "cell_type": "code",
   "execution_count": 94,
   "metadata": {
    "execution": {
     "iopub.execute_input": "2024-01-18T16:35:32.843841Z",
     "iopub.status.busy": "2024-01-18T16:35:32.843756Z",
     "iopub.status.idle": "2024-01-18T16:35:32.846265Z",
     "shell.execute_reply": "2024-01-18T16:35:32.846042Z"
    },
    "slideshow": {
     "slide_type": "fragment"
    }
   },
   "outputs": [],
   "source": [
    "notedown_grammar = notedown_runner.grammar()\n",
    "pairwise_notedown_grammar = extend_grammar(notedown_grammar)\n",
    "pairwise_notedown_grammar[\"<option>\"] = pairwise(notedown_grammar[\"<option>\"])\n",
    "assert is_valid_grammar(pairwise_notedown_grammar)"
   ]
  },
  {
   "cell_type": "markdown",
   "metadata": {
    "slideshow": {
     "slide_type": "subslide"
    }
   },
   "source": [
    "Using the \"pairwise\" grammar to fuzz now covers one pair after another:"
   ]
  },
  {
   "cell_type": "code",
   "execution_count": 95,
   "metadata": {
    "execution": {
     "iopub.execute_input": "2024-01-18T16:35:32.847724Z",
     "iopub.status.busy": "2024-01-18T16:35:32.847633Z",
     "iopub.status.idle": "2024-01-18T16:35:32.849570Z",
     "shell.execute_reply": "2024-01-18T16:35:32.849343Z"
    },
    "slideshow": {
     "slide_type": "fragment"
    }
   },
   "outputs": [],
   "source": [
    "notedown_pairwise_fuzzer = GrammarCoverageFuzzer(\n",
    "    pairwise_notedown_grammar, max_nonterminals=4)"
   ]
  },
  {
   "cell_type": "code",
   "execution_count": 96,
   "metadata": {
    "execution": {
     "iopub.execute_input": "2024-01-18T16:35:32.850922Z",
     "iopub.status.busy": "2024-01-18T16:35:32.850836Z",
     "iopub.status.idle": "2024-01-18T16:35:33.034825Z",
     "shell.execute_reply": "2024-01-18T16:35:33.034534Z"
    },
    "slideshow": {
     "slide_type": "fragment"
    }
   },
   "outputs": [
    {
     "name": "stdout",
     "output_type": "stream",
     "text": [
      " 2\n",
      " -h --nomagic --version --debug\n",
      " --output G --strip --examples --version t\n",
      " --help --strip --nomagic --examples\n",
      " -h --run --help --render\n",
      " --render --examples --nomagic --version\n",
      " --precode i --match 6 D\n",
      " --strip --render --strip --examples (\n",
      " --nomagic --debug --nomagic --render B\n",
      " --execute --rmagic --run --debug\n"
     ]
    }
   ],
   "source": [
    "for i in range(10):\n",
    "    print(notedown_pairwise_fuzzer.fuzz())"
   ]
  },
  {
   "cell_type": "markdown",
   "metadata": {
    "slideshow": {
     "slide_type": "subslide"
    }
   },
   "source": [
    "Can we actually test all combinations of options?  Not in practice, as the number of combinations quickly grows as the length increases.  It decreases again as the number of options reaches the maximum (with 20 options, there is only 1 combination involving _all_ options), but the absolute numbers are still staggering:"
   ]
  },
  {
   "cell_type": "code",
   "execution_count": 97,
   "metadata": {
    "execution": {
     "iopub.execute_input": "2024-01-18T16:35:33.036535Z",
     "iopub.status.busy": "2024-01-18T16:35:33.036412Z",
     "iopub.status.idle": "2024-01-18T16:35:33.171466Z",
     "shell.execute_reply": "2024-01-18T16:35:33.171105Z"
    },
    "slideshow": {
     "slide_type": "fragment"
    }
   },
   "outputs": [
    {
     "name": "stdout",
     "output_type": "stream",
     "text": [
      "1 20\n",
      "2 190\n",
      "3 1140\n",
      "4 4845\n",
      "5 15504\n",
      "6 38760\n",
      "7 77520\n",
      "8 125970\n",
      "9 167960\n",
      "10 184756\n",
      "11 167960\n",
      "12 125970\n",
      "13 77520\n",
      "14 38760\n",
      "15 15504\n",
      "16 4845\n",
      "17 1140\n",
      "18 190\n",
      "19 20\n"
     ]
    }
   ],
   "source": [
    "for combination_length in range(1, 20):\n",
    "    tuples = list(combinations(option_list, combination_length))\n",
    "    print(combination_length, len(tuples))"
   ]
  },
  {
   "cell_type": "markdown",
   "metadata": {
    "slideshow": {
     "slide_type": "subslide"
    }
   },
   "source": [
    "Formally, the number of combinations of length $k$ in a set of options of length $n$ is the binomial coefficient\n",
    "$$\n",
    "{n \\choose k} = \\frac{n!}{k!(n - k)!}\n",
    "$$"
   ]
  },
  {
   "cell_type": "markdown",
   "metadata": {
    "slideshow": {
     "slide_type": "fragment"
    }
   },
   "source": [
    "which for $k = 2$ (all pairs) gives us\n",
    "\n",
    "$$\n",
    "{n \\choose 2} = \\frac{n!}{2(n - 2)!} = \\frac{n (n - 1)}{2}\n",
    "$$"
   ]
  },
  {
   "cell_type": "markdown",
   "metadata": {
    "slideshow": {
     "slide_type": "subslide"
    }
   },
   "source": [
    "For `autopep8` with its 30 options..."
   ]
  },
  {
   "cell_type": "code",
   "execution_count": 98,
   "metadata": {
    "execution": {
     "iopub.execute_input": "2024-01-18T16:35:33.173564Z",
     "iopub.status.busy": "2024-01-18T16:35:33.173456Z",
     "iopub.status.idle": "2024-01-18T16:35:33.175860Z",
     "shell.execute_reply": "2024-01-18T16:35:33.175527Z"
    },
    "slideshow": {
     "slide_type": "fragment"
    }
   },
   "outputs": [
    {
     "data": {
      "text/plain": [
       "30"
      ]
     },
     "execution_count": 98,
     "metadata": {},
     "output_type": "execute_result"
    }
   ],
   "source": [
    "len(autopep8_runner.ebnf_grammar()[\"<option>\"])"
   ]
  },
  {
   "cell_type": "code",
   "execution_count": 99,
   "metadata": {
    "execution": {
     "iopub.execute_input": "2024-01-18T16:35:33.177378Z",
     "iopub.status.busy": "2024-01-18T16:35:33.177267Z",
     "iopub.status.idle": "2024-01-18T16:35:33.178871Z",
     "shell.execute_reply": "2024-01-18T16:35:33.178612Z"
    },
    "slideshow": {
     "slide_type": "subslide"
    }
   },
   "outputs": [],
   "source": [
    "# docassert\n",
    "assert len(autopep8_runner.ebnf_grammar()[\"<option>\"]) == 30"
   ]
  },
  {
   "cell_type": "markdown",
   "metadata": {
    "slideshow": {
     "slide_type": "fragment"
    }
   },
   "source": [
    "... we thus need 870 tests to cover all pairs:"
   ]
  },
  {
   "cell_type": "code",
   "execution_count": 100,
   "metadata": {
    "execution": {
     "iopub.execute_input": "2024-01-18T16:35:33.180307Z",
     "iopub.status.busy": "2024-01-18T16:35:33.180222Z",
     "iopub.status.idle": "2024-01-18T16:35:33.182380Z",
     "shell.execute_reply": "2024-01-18T16:35:33.182131Z"
    },
    "slideshow": {
     "slide_type": "fragment"
    }
   },
   "outputs": [
    {
     "data": {
      "text/plain": [
       "870"
      ]
     },
     "execution_count": 100,
     "metadata": {},
     "output_type": "execute_result"
    }
   ],
   "source": [
    "len(autopep8_runner.ebnf_grammar()[\"<option>\"]) * \\\n",
    "    (len(autopep8_runner.ebnf_grammar()[\"<option>\"]) - 1)"
   ]
  },
  {
   "cell_type": "markdown",
   "metadata": {
    "slideshow": {
     "slide_type": "subslide"
    }
   },
   "source": [
    "For `mypy` with its 140+ options, though, we already end up with 20,000+ tests to be conducted:"
   ]
  },
  {
   "cell_type": "code",
   "execution_count": 101,
   "metadata": {
    "execution": {
     "iopub.execute_input": "2024-01-18T16:35:33.183943Z",
     "iopub.status.busy": "2024-01-18T16:35:33.183828Z",
     "iopub.status.idle": "2024-01-18T16:35:33.185882Z",
     "shell.execute_reply": "2024-01-18T16:35:33.185594Z"
    },
    "slideshow": {
     "slide_type": "fragment"
    },
    "tags": []
   },
   "outputs": [
    {
     "data": {
      "text/plain": [
       "164"
      ]
     },
     "execution_count": 101,
     "metadata": {},
     "output_type": "execute_result"
    }
   ],
   "source": [
    "len(mypy_runner.ebnf_grammar()[\"<option>\"])"
   ]
  },
  {
   "cell_type": "code",
   "execution_count": 102,
   "metadata": {
    "execution": {
     "iopub.execute_input": "2024-01-18T16:35:33.187519Z",
     "iopub.status.busy": "2024-01-18T16:35:33.187409Z",
     "iopub.status.idle": "2024-01-18T16:35:33.188990Z",
     "shell.execute_reply": "2024-01-18T16:35:33.188758Z"
    },
    "slideshow": {
     "slide_type": "fragment"
    }
   },
   "outputs": [],
   "source": [
    "# docassert\n",
    "assert len(mypy_runner.ebnf_grammar()[\"<option>\"]) >= 140"
   ]
  },
  {
   "cell_type": "code",
   "execution_count": 103,
   "metadata": {
    "execution": {
     "iopub.execute_input": "2024-01-18T16:35:33.190409Z",
     "iopub.status.busy": "2024-01-18T16:35:33.190318Z",
     "iopub.status.idle": "2024-01-18T16:35:33.192496Z",
     "shell.execute_reply": "2024-01-18T16:35:33.192260Z"
    },
    "slideshow": {
     "slide_type": "fragment"
    }
   },
   "outputs": [
    {
     "data": {
      "text/plain": [
       "26732"
      ]
     },
     "execution_count": 103,
     "metadata": {},
     "output_type": "execute_result"
    }
   ],
   "source": [
    "len(mypy_runner.ebnf_grammar()[\"<option>\"]) * \\\n",
    "    (len(mypy_runner.ebnf_grammar()[\"<option>\"]) - 1)"
   ]
  },
  {
   "cell_type": "markdown",
   "metadata": {
    "slideshow": {
     "slide_type": "fragment"
    }
   },
   "source": [
    "Even if each pair takes a second to run, we'd still be done in three hours of testing, though."
   ]
  },
  {
   "cell_type": "markdown",
   "metadata": {
    "slideshow": {
     "slide_type": "subslide"
    }
   },
   "source": [
    "If your program has more options that you all want to get covered in combinations, it is advisable that you limit the number of configurations further – for instance by limiting combinatorial testing to those combinations that possibly can interact with each other; and covering all other (presumably orthogonal) options individually."
   ]
  },
  {
   "cell_type": "markdown",
   "metadata": {
    "slideshow": {
     "slide_type": "fragment"
    }
   },
   "source": [
    "This mechanism of creating configurations by extending grammars can be easily extended to other configuration targets.  One may want to explore a greater number of configurations, or expansions in specific contexts.  The [exercises](#Exercises), below, have a number of options ready for you."
   ]
  },
  {
   "cell_type": "markdown",
   "metadata": {
    "slideshow": {
     "slide_type": "slide"
    }
   },
   "source": [
    "## Synopsis\n",
    "\n",
    "This chapter provides two classes:\n",
    "\n",
    "* `OptionRunner` automatically extract command-line options from a Python program;\n",
    "* `OptionFuzzer` uses these to automatically test a Python program with a large variety of options."
   ]
  },
  {
   "cell_type": "markdown",
   "metadata": {
    "slideshow": {
     "slide_type": "fragment"
    }
   },
   "source": [
    "`OptionRunner` runs a program up to the point where it parses its arguments, and then extracts a grammar that describes its invocations:"
   ]
  },
  {
   "cell_type": "code",
   "execution_count": 104,
   "metadata": {
    "execution": {
     "iopub.execute_input": "2024-01-18T16:35:33.194046Z",
     "iopub.status.busy": "2024-01-18T16:35:33.193947Z",
     "iopub.status.idle": "2024-01-18T16:35:33.197920Z",
     "shell.execute_reply": "2024-01-18T16:35:33.197684Z"
    },
    "slideshow": {
     "slide_type": "fragment"
    }
   },
   "outputs": [],
   "source": [
    "autopep8_runner = OptionRunner(\"autopep8\", \"foo.py\")"
   ]
  },
  {
   "cell_type": "markdown",
   "metadata": {
    "slideshow": {
     "slide_type": "fragment"
    }
   },
   "source": [
    "The grammar can be extracted via the method `ebnf_grammar()`:"
   ]
  },
  {
   "cell_type": "code",
   "execution_count": 105,
   "metadata": {
    "execution": {
     "iopub.execute_input": "2024-01-18T16:35:33.199391Z",
     "iopub.status.busy": "2024-01-18T16:35:33.199302Z",
     "iopub.status.idle": "2024-01-18T16:35:33.202337Z",
     "shell.execute_reply": "2024-01-18T16:35:33.202078Z"
    },
    "slideshow": {
     "slide_type": "fragment"
    }
   },
   "outputs": [
    {
     "data": {
      "text/plain": [
       "{'<start>': ['(<option>)*<arguments>'],\n",
       " '<option>': [' -h',\n",
       "  ' --help',\n",
       "  ' --version',\n",
       "  ' -v',\n",
       "  ' --verbose',\n",
       "  ' -d',\n",
       "  ' --diff',\n",
       "  ' -i',\n",
       "  ' --in-place',\n",
       "  ' --global-config <filename>',\n",
       "  ' --ignore-local-config',\n",
       "  ' -r',\n",
       "  ' --recursive',\n",
       "  ' -j <n>',\n",
       "  ' --jobs <n>',\n",
       "  ' -p <n>',\n",
       "  ' --pep8-passes <n>',\n",
       "  ' -a',\n",
       "  ' --aggressive',\n",
       "  ' --experimental',\n",
       "  ' --exclude <globs>',\n",
       "  ' --list-fixes',\n",
       "  ' --ignore <errors>',\n",
       "  ' --select <errors>',\n",
       "  ' --max-line-length <n>',\n",
       "  ' --line-range <line> <line>',\n",
       "  ' --range <line> <line>',\n",
       "  ' --indent-size <int>',\n",
       "  ' --hang-closing',\n",
       "  ' --exit-code'],\n",
       " '<arguments>': [' foo.py'],\n",
       " '<str>': ['<char>+'],\n",
       " '<char>': ['0',\n",
       "  '1',\n",
       "  '2',\n",
       "  '3',\n",
       "  '4',\n",
       "  '5',\n",
       "  '6',\n",
       "  '7',\n",
       "  '8',\n",
       "  '9',\n",
       "  'a',\n",
       "  'b',\n",
       "  'c',\n",
       "  'd',\n",
       "  'e',\n",
       "  'f',\n",
       "  'g',\n",
       "  'h',\n",
       "  'i',\n",
       "  'j',\n",
       "  'k',\n",
       "  'l',\n",
       "  'm',\n",
       "  'n',\n",
       "  'o',\n",
       "  'p',\n",
       "  'q',\n",
       "  'r',\n",
       "  's',\n",
       "  't',\n",
       "  'u',\n",
       "  'v',\n",
       "  'w',\n",
       "  'x',\n",
       "  'y',\n",
       "  'z',\n",
       "  'A',\n",
       "  'B',\n",
       "  'C',\n",
       "  'D',\n",
       "  'E',\n",
       "  'F',\n",
       "  'G',\n",
       "  'H',\n",
       "  'I',\n",
       "  'J',\n",
       "  'K',\n",
       "  'L',\n",
       "  'M',\n",
       "  'N',\n",
       "  'O',\n",
       "  'P',\n",
       "  'Q',\n",
       "  'R',\n",
       "  'S',\n",
       "  'T',\n",
       "  'U',\n",
       "  'V',\n",
       "  'W',\n",
       "  'X',\n",
       "  'Y',\n",
       "  'Z',\n",
       "  '!',\n",
       "  '\"',\n",
       "  '#',\n",
       "  '$',\n",
       "  '%',\n",
       "  '&',\n",
       "  \"'\",\n",
       "  '(',\n",
       "  ')',\n",
       "  '*',\n",
       "  '+',\n",
       "  ',',\n",
       "  '-',\n",
       "  '.',\n",
       "  '/',\n",
       "  ':',\n",
       "  ';',\n",
       "  '<',\n",
       "  '=',\n",
       "  '>',\n",
       "  '?',\n",
       "  '@',\n",
       "  '[',\n",
       "  '\\\\',\n",
       "  ']',\n",
       "  '^',\n",
       "  '_',\n",
       "  '`',\n",
       "  '{',\n",
       "  '|',\n",
       "  '}',\n",
       "  '~'],\n",
       " '<filename>': ['<str>'],\n",
       " '<int>': ['(-)?<digit>+'],\n",
       " '<digit>': ['0', '1', '2', '3', '4', '5', '6', '7', '8', '9'],\n",
       " '<n>': ['<int>'],\n",
       " '<globs>': ['<str>'],\n",
       " '<errors>': ['<str>'],\n",
       " '<line>': ['<int>']}"
      ]
     },
     "execution_count": 105,
     "metadata": {},
     "output_type": "execute_result"
    }
   ],
   "source": [
    "option_ebnf_grammar = autopep8_runner.ebnf_grammar()\n",
    "option_ebnf_grammar"
   ]
  },
  {
   "cell_type": "markdown",
   "metadata": {
    "slideshow": {
     "slide_type": "subslide"
    }
   },
   "source": [
    "The grammar can be immediately used for fuzzing. A `GrammarCoverageFuzzer` will ensure all options are covered:"
   ]
  },
  {
   "cell_type": "code",
   "execution_count": 106,
   "metadata": {
    "execution": {
     "iopub.execute_input": "2024-01-18T16:35:33.204042Z",
     "iopub.status.busy": "2024-01-18T16:35:33.203931Z",
     "iopub.status.idle": "2024-01-18T16:35:33.205495Z",
     "shell.execute_reply": "2024-01-18T16:35:33.205265Z"
    },
    "slideshow": {
     "slide_type": "skip"
    }
   },
   "outputs": [],
   "source": [
    "from Grammars import convert_ebnf_grammar"
   ]
  },
  {
   "cell_type": "code",
   "execution_count": 107,
   "metadata": {
    "execution": {
     "iopub.execute_input": "2024-01-18T16:35:33.207100Z",
     "iopub.status.busy": "2024-01-18T16:35:33.206998Z",
     "iopub.status.idle": "2024-01-18T16:35:33.995362Z",
     "shell.execute_reply": "2024-01-18T16:35:33.995032Z"
    },
    "slideshow": {
     "slide_type": "fragment"
    }
   },
   "outputs": [
    {
     "data": {
      "text/plain": [
       "[' --list-fixes foo.py',\n",
       " ' --version -i --range -5 04 --aggressive --diff -j 817 --help -d --hang-closing -p 26 -a --verbose --exclude |g -v --global-config f --recursive --ignore .= -r --experimental -h --line-range -317 9 --pep8-passes 8 --max-line-length 2 --indent-size 0 --in-place foo.py',\n",
       " ' --ignore-local-config --jobs 92 --exit-code --select Q\"6 --global-config (h --ignore )` --select M --select t,\\\\Z --global-config u5 --global-config ! --ignore <*p --ignore # --global-config c8N[ --ignore \\'x --global-config 09+ --select Y --ignore @ --global-config K --global-config T --exclude E --select odCAH --global-config DFR --ignore s --select ; --global-config Wyi --global-config q2 --exclude - --ignore r --global-config { --global-config zv$} --global-config 3O --ignore e]>lUSb --exclude V^ --global-config LBj --global-config X --select _ --exclude n4 --global-config %&/: --select a --global-config k --ignore 1 --ignore G~m?7 --exclude PJX --select I --select w -d foo.py']"
      ]
     },
     "execution_count": 107,
     "metadata": {},
     "output_type": "execute_result"
    }
   ],
   "source": [
    "fuzzer = GrammarCoverageFuzzer(convert_ebnf_grammar(option_ebnf_grammar))\n",
    "[fuzzer.fuzz() for i in range(3)]"
   ]
  },
  {
   "cell_type": "markdown",
   "metadata": {
    "slideshow": {
     "slide_type": "fragment"
    }
   },
   "source": [
    "The `OptionFuzzer` class summarizes these steps.  Its constructor takes an `OptionRunner` to automatically extract the grammar; it does the necessary steps to extract the grammar and fuzz with it."
   ]
  },
  {
   "cell_type": "code",
   "execution_count": 108,
   "metadata": {
    "execution": {
     "iopub.execute_input": "2024-01-18T16:35:33.997050Z",
     "iopub.status.busy": "2024-01-18T16:35:33.996934Z",
     "iopub.status.idle": "2024-01-18T16:35:34.001542Z",
     "shell.execute_reply": "2024-01-18T16:35:34.001293Z"
    },
    "slideshow": {
     "slide_type": "fragment"
    }
   },
   "outputs": [],
   "source": [
    "autopep8_runner = OptionRunner(\"autopep8\", \"foo.py\")\n",
    "autopep8_fuzzer = OptionFuzzer(autopep8_runner)"
   ]
  },
  {
   "cell_type": "code",
   "execution_count": 109,
   "metadata": {
    "execution": {
     "iopub.execute_input": "2024-01-18T16:35:34.003090Z",
     "iopub.status.busy": "2024-01-18T16:35:34.002998Z",
     "iopub.status.idle": "2024-01-18T16:35:34.236639Z",
     "shell.execute_reply": "2024-01-18T16:35:34.236364Z"
    },
    "slideshow": {
     "slide_type": "fragment"
    }
   },
   "outputs": [
    {
     "data": {
      "text/plain": [
       "[' foo.py',\n",
       " ' -a --hang-closing --aggressive --help -h --ignore : --verbose --diff --jobs 68 --line-range 4 -159 --indent-size -0 -d -i --range 27 38 --experimental --global-config gt --ignore-local-config --exit-code --in-place -v foo.py',\n",
       " ' --select ?H --pep8-passes 7 --max-line-length -154 -r --exclude P --recursive --list-fixes -j 77 --version -p 71 --global-config )c --select 4!m/ --ignore 1d3 --select ~ --ignore b[^ --global-config qn --exclude >V --exclude 2 --select $_iUzQ].0 --select ; --ignore 5M --ignore 9 --select pN`C --ignore 76(J --select Dh --exclude ov\" -h foo.py']"
      ]
     },
     "execution_count": 109,
     "metadata": {},
     "output_type": "execute_result"
    }
   ],
   "source": [
    "[autopep8_fuzzer.fuzz() for i in range(3)]"
   ]
  },
  {
   "cell_type": "markdown",
   "metadata": {
    "slideshow": {
     "slide_type": "fragment"
    }
   },
   "source": [
    "The final step in testing would now to invoke the program with these arguments."
   ]
  },
  {
   "cell_type": "markdown",
   "metadata": {
    "slideshow": {
     "slide_type": "fragment"
    }
   },
   "source": [
    "Note that `OptionRunner` is experimental: It assumes that the Python program in question uses the `argparse` module; and not all `argparse` features are supported.  Still, it does a pretty good job even on nontrivial programs."
   ]
  },
  {
   "cell_type": "markdown",
   "metadata": {
    "slideshow": {
     "slide_type": "fragment"
    }
   },
   "source": [
    "The `OptionRunner` constructor accepts an additional `miner` keyword parameter, which takes the class of the argument grammar miner to be used. By default, this is `OptionGrammarMiner` – a helper class that can be used (and extended) to create own option grammar miners."
   ]
  },
  {
   "cell_type": "code",
   "execution_count": 110,
   "metadata": {
    "execution": {
     "iopub.execute_input": "2024-01-18T16:35:34.238558Z",
     "iopub.status.busy": "2024-01-18T16:35:34.238258Z",
     "iopub.status.idle": "2024-01-18T16:35:34.240254Z",
     "shell.execute_reply": "2024-01-18T16:35:34.239983Z"
    },
    "slideshow": {
     "slide_type": "subslide"
    }
   },
   "outputs": [],
   "source": [
    "# ignore\n",
    "from ClassDiagram import display_class_hierarchy\n",
    "from Fuzzer import Fuzzer, Runner, ProgramRunner\n",
    "from Grammars import Expansion\n",
    "from GrammarFuzzer import GrammarFuzzer, DerivationTree\n",
    "from GrammarCoverageFuzzer import TrackingGrammarCoverageFuzzer"
   ]
  },
  {
   "cell_type": "code",
   "execution_count": 111,
   "metadata": {
    "execution": {
     "iopub.execute_input": "2024-01-18T16:35:34.241726Z",
     "iopub.status.busy": "2024-01-18T16:35:34.241618Z",
     "iopub.status.idle": "2024-01-18T16:35:34.737997Z",
     "shell.execute_reply": "2024-01-18T16:35:34.737575Z"
    },
    "slideshow": {
     "slide_type": "subslide"
    }
   },
   "outputs": [
    {
     "data": {
      "image/svg+xml": [
       "<?xml version=\"1.0\" encoding=\"UTF-8\" standalone=\"no\"?>\n",
       "<!DOCTYPE svg PUBLIC \"-//W3C//DTD SVG 1.1//EN\"\n",
       " \"http://www.w3.org/Graphics/SVG/1.1/DTD/svg11.dtd\">\n",
       "<!-- Generated by graphviz version 9.0.0 (20230911.1827)\n",
       " -->\n",
       "<!-- Pages: 1 -->\n",
       "<svg width=\"586pt\" height=\"729pt\"\n",
       " viewBox=\"0.00 0.00 586.12 729.00\" xmlns=\"http://www.w3.org/2000/svg\" xmlns:xlink=\"http://www.w3.org/1999/xlink\">\n",
       "<g id=\"graph0\" class=\"graph\" transform=\"scale(1 1) rotate(0) translate(4 725)\">\n",
       "<g id=\"a_graph0\"><a xlink:title=\"OptionRunner class hierarchy\">\n",
       "<polygon fill=\"white\" stroke=\"none\" points=\"-4,4 -4,-725 582.12,-725 582.12,4 -4,4\"/>\n",
       "</a>\n",
       "</g>\n",
       "<!-- OptionRunner -->\n",
       "<g id=\"node1\" class=\"node\">\n",
       "<title>OptionRunner</title>\n",
       "<g id=\"a_node1\"><a xlink:href=\"#\" xlink:title=\"class OptionRunner:&#10;Run a program while determining its option grammar\">\n",
       "<polygon fill=\"none\" stroke=\"black\" points=\"1.5,-32.62 1.5,-167.88 113.5,-167.88 113.5,-32.62 1.5,-32.62\"/>\n",
       "<text text-anchor=\"start\" x=\"14\" y=\"-151.57\" font-family=\"Patua One, Helvetica, sans-serif\" font-weight=\"bold\" font-size=\"14.00\" fill=\"#b03a2e\">OptionRunner</text>\n",
       "<polyline fill=\"none\" stroke=\"black\" points=\"1.5,-141.88 113.5,-141.88\"/>\n",
       "<g id=\"a_node1_0\"><a xlink:href=\"#\" xlink:title=\"OptionRunner\">\n",
       "<g id=\"a_node1_1\"><a xlink:href=\"#\" xlink:title=\"__init__(self, program: Union[str, List[str]], arguments: Optional[str] = None, *, log: bool = False, miner_class: Optional[Type[OptionGrammarMiner]] = None):&#10;Constructor.&#10;`program` &#45; the (Python) program to be executed&#10;`arguments` &#45; an (optional) string with arguments for `program`&#10;`log` &#45; if True, enable logging in miner&#10;`miner_class` &#45; the `OptionGrammarMiner` class to be used&#10;(default: `OptionGrammarMiner`)\">\n",
       "<text text-anchor=\"start\" x=\"9.5\" y=\"-129.38\" font-family=\"'Fira Mono', 'Source Code Pro', 'Courier', monospace\" font-weight=\"bold\" font-style=\"italic\" font-size=\"10.00\">__init__()</text>\n",
       "</a>\n",
       "</g>\n",
       "<g id=\"a_node1_2\"><a xlink:href=\"#\" xlink:title=\"ebnf_grammar(self):&#10;Return extracted grammar in EBNF form\">\n",
       "<text text-anchor=\"start\" x=\"9.5\" y=\"-118.12\" font-family=\"'Fira Mono', 'Source Code Pro', 'Courier', monospace\" font-weight=\"bold\" font-size=\"10.00\">ebnf_grammar()</text>\n",
       "</a>\n",
       "</g>\n",
       "<g id=\"a_node1_3\"><a xlink:href=\"#\" xlink:title=\"grammar(self):&#10;Return extracted grammar in BNF form\">\n",
       "<text text-anchor=\"start\" x=\"9.5\" y=\"-106.88\" font-family=\"'Fira Mono', 'Source Code Pro', 'Courier', monospace\" font-weight=\"bold\" font-size=\"10.00\">grammar()</text>\n",
       "</a>\n",
       "</g>\n",
       "<g id=\"a_node1_4\"><a xlink:href=\"#\" xlink:title=\"executable(self)\">\n",
       "<text text-anchor=\"start\" x=\"9.5\" y=\"-94.62\" font-family=\"'Fira Mono', 'Source Code Pro', 'Courier', monospace\" font-size=\"10.00\">executable()</text>\n",
       "</a>\n",
       "</g>\n",
       "<g id=\"a_node1_5\"><a xlink:href=\"#\" xlink:title=\"find_contents(self)\">\n",
       "<text text-anchor=\"start\" x=\"9.5\" y=\"-83.38\" font-family=\"'Fira Mono', 'Source Code Pro', 'Courier', monospace\" font-size=\"10.00\">find_contents()</text>\n",
       "</a>\n",
       "</g>\n",
       "<g id=\"a_node1_6\"><a xlink:href=\"#\" xlink:title=\"find_grammar(self)\">\n",
       "<text text-anchor=\"start\" x=\"9.5\" y=\"-72.12\" font-family=\"'Fira Mono', 'Source Code Pro', 'Courier', monospace\" font-size=\"10.00\">find_grammar()</text>\n",
       "</a>\n",
       "</g>\n",
       "<g id=\"a_node1_7\"><a xlink:href=\"#\" xlink:title=\"invoker(self)\">\n",
       "<text text-anchor=\"start\" x=\"9.5\" y=\"-60.88\" font-family=\"'Fira Mono', 'Source Code Pro', 'Courier', monospace\" font-size=\"10.00\">invoker()</text>\n",
       "</a>\n",
       "</g>\n",
       "<g id=\"a_node1_8\"><a xlink:href=\"#\" xlink:title=\"set_arguments(self, args)\">\n",
       "<text text-anchor=\"start\" x=\"9.5\" y=\"-49.62\" font-family=\"'Fira Mono', 'Source Code Pro', 'Courier', monospace\" font-size=\"10.00\">set_arguments()</text>\n",
       "</a>\n",
       "</g>\n",
       "<g id=\"a_node1_9\"><a xlink:href=\"#\" xlink:title=\"set_invocation(self, program)\">\n",
       "<text text-anchor=\"start\" x=\"9.5\" y=\"-38.38\" font-family=\"'Fira Mono', 'Source Code Pro', 'Courier', monospace\" font-size=\"10.00\">set_invocation()</text>\n",
       "</a>\n",
       "</g>\n",
       "</a>\n",
       "</g>\n",
       "</a>\n",
       "</g>\n",
       "</g>\n",
       "<!-- ProgramRunner -->\n",
       "<g id=\"node2\" class=\"node\">\n",
       "<title>ProgramRunner</title>\n",
       "<g id=\"a_node2\"><a xlink:href=\"Fuzzer.ipynb\" xlink:title=\"class ProgramRunner:&#10;Test a program with inputs.\">\n",
       "<polygon fill=\"none\" stroke=\"black\" points=\"0,-237 0,-282.25 115,-282.25 115,-237 0,-237\"/>\n",
       "<text text-anchor=\"start\" x=\"8\" y=\"-265.95\" font-family=\"Patua One, Helvetica, sans-serif\" font-weight=\"bold\" font-size=\"14.00\" fill=\"#b03a2e\">ProgramRunner</text>\n",
       "<polyline fill=\"none\" stroke=\"black\" points=\"0,-256.25 115,-256.25\"/>\n",
       "<g id=\"a_node2_10\"><a xlink:href=\"#\" xlink:title=\"ProgramRunner\">\n",
       "<g id=\"a_node2_11\"><a xlink:href=\"Fuzzer.ipynb\" xlink:title=\"__init__(self, program: Union[str, List[str]]) &#45;&gt; None:&#10;Initialize.&#10;`program` is a program spec as passed to `subprocess.run()`\">\n",
       "<text text-anchor=\"start\" x=\"27.5\" y=\"-243.75\" font-family=\"'Fira Mono', 'Source Code Pro', 'Courier', monospace\" font-weight=\"bold\" font-style=\"italic\" font-size=\"10.00\">__init__()</text>\n",
       "</a>\n",
       "</g>\n",
       "</a>\n",
       "</g>\n",
       "</a>\n",
       "</g>\n",
       "</g>\n",
       "<!-- OptionRunner&#45;&gt;ProgramRunner -->\n",
       "<g id=\"edge1\" class=\"edge\">\n",
       "<title>OptionRunner&#45;&gt;ProgramRunner</title>\n",
       "<path fill=\"none\" stroke=\"black\" d=\"M57.5,-167.99C57.5,-187.81 57.5,-208.66 57.5,-225.37\"/>\n",
       "<polygon fill=\"none\" stroke=\"black\" points=\"54,-225.21 57.5,-235.21 61,-225.21 54,-225.21\"/>\n",
       "</g>\n",
       "<!-- Runner -->\n",
       "<g id=\"node3\" class=\"node\">\n",
       "<title>Runner</title>\n",
       "<g id=\"a_node3\"><a xlink:href=\"Fuzzer.ipynb\" xlink:title=\"class Runner:&#10;Base class for testing inputs.\">\n",
       "<polygon fill=\"none\" stroke=\"black\" points=\"19.5,-319.25 19.5,-417.5 95.5,-417.5 95.5,-319.25 19.5,-319.25\"/>\n",
       "<text text-anchor=\"start\" x=\"34.62\" y=\"-401.2\" font-family=\"Patua One, Helvetica, sans-serif\" font-weight=\"bold\" font-size=\"14.00\" fill=\"#b03a2e\">Runner</text>\n",
       "<polyline fill=\"none\" stroke=\"black\" points=\"19.5,-391.5 95.5,-391.5\"/>\n",
       "<g id=\"a_node3_12\"><a xlink:href=\"#\" xlink:title=\"Runner\">\n",
       "<g id=\"a_node3_13\"><a xlink:href=\"Fuzzer.ipynb\" xlink:title=\"FAIL = &#39;FAIL&#39;\">\n",
       "<text text-anchor=\"start\" x=\"27.5\" y=\"-378\" font-family=\"'Fira Mono', 'Source Code Pro', 'Courier', monospace\" font-size=\"10.00\">FAIL</text>\n",
       "</a>\n",
       "</g>\n",
       "<g id=\"a_node3_14\"><a xlink:href=\"Fuzzer.ipynb\" xlink:title=\"PASS = &#39;PASS&#39;\">\n",
       "<text text-anchor=\"start\" x=\"27.5\" y=\"-366.75\" font-family=\"'Fira Mono', 'Source Code Pro', 'Courier', monospace\" font-size=\"10.00\">PASS</text>\n",
       "</a>\n",
       "</g>\n",
       "<g id=\"a_node3_15\"><a xlink:href=\"Fuzzer.ipynb\" xlink:title=\"UNRESOLVED = &#39;UNRESOLVED&#39;\">\n",
       "<text text-anchor=\"start\" x=\"27.5\" y=\"-355.5\" font-family=\"'Fira Mono', 'Source Code Pro', 'Courier', monospace\" font-size=\"10.00\">UNRESOLVED</text>\n",
       "</a>\n",
       "</g>\n",
       "</a>\n",
       "</g>\n",
       "<polyline fill=\"none\" stroke=\"black\" points=\"19.5,-349.75 95.5,-349.75\"/>\n",
       "<g id=\"a_node3_16\"><a xlink:href=\"#\" xlink:title=\"Runner\">\n",
       "<g id=\"a_node3_17\"><a xlink:href=\"Fuzzer.ipynb\" xlink:title=\"__init__(self) &#45;&gt; None:&#10;Initialize\">\n",
       "<text text-anchor=\"start\" x=\"27.5\" y=\"-337.25\" font-family=\"'Fira Mono', 'Source Code Pro', 'Courier', monospace\" font-weight=\"bold\" font-style=\"italic\" font-size=\"10.00\">__init__()</text>\n",
       "</a>\n",
       "</g>\n",
       "<g id=\"a_node3_18\"><a xlink:href=\"Fuzzer.ipynb\" xlink:title=\"run(self, inp: str) &#45;&gt; Any:&#10;Run the runner with the given input\">\n",
       "<text text-anchor=\"start\" x=\"27.5\" y=\"-326\" font-family=\"'Fira Mono', 'Source Code Pro', 'Courier', monospace\" font-weight=\"bold\" font-style=\"italic\" font-size=\"10.00\">run()</text>\n",
       "</a>\n",
       "</g>\n",
       "</a>\n",
       "</g>\n",
       "</a>\n",
       "</g>\n",
       "</g>\n",
       "<!-- ProgramRunner&#45;&gt;Runner -->\n",
       "<g id=\"edge2\" class=\"edge\">\n",
       "<title>ProgramRunner&#45;&gt;Runner</title>\n",
       "<path fill=\"none\" stroke=\"black\" d=\"M57.5,-282.74C57.5,-290.13 57.5,-298.75 57.5,-307.6\"/>\n",
       "<polygon fill=\"none\" stroke=\"black\" points=\"54,-307.36 57.5,-317.36 61,-307.36 54,-307.36\"/>\n",
       "</g>\n",
       "<!-- OptionFuzzer -->\n",
       "<g id=\"node4\" class=\"node\">\n",
       "<title>OptionFuzzer</title>\n",
       "<g id=\"a_node4\"><a xlink:href=\"#\" xlink:title=\"class OptionFuzzer:&#10;Fuzz a (Python) program using its arguments\">\n",
       "<polygon fill=\"none\" stroke=\"black\" points=\"171.25,-72 171.25,-128.5 269.75,-128.5 269.75,-72 171.25,-72\"/>\n",
       "<text text-anchor=\"start\" x=\"179.25\" y=\"-112.2\" font-family=\"Patua One, Helvetica, sans-serif\" font-weight=\"bold\" font-size=\"14.00\" fill=\"#b03a2e\">OptionFuzzer</text>\n",
       "<polyline fill=\"none\" stroke=\"black\" points=\"171.25,-102.5 269.75,-102.5\"/>\n",
       "<g id=\"a_node4_19\"><a xlink:href=\"#\" xlink:title=\"OptionFuzzer\">\n",
       "<g id=\"a_node4_20\"><a xlink:href=\"#\" xlink:title=\"__init__(self, runner: OptionRunner, *args, **kwargs):&#10;Constructor. `runner` is an OptionRunner.\">\n",
       "<text text-anchor=\"start\" x=\"190.5\" y=\"-90\" font-family=\"'Fira Mono', 'Source Code Pro', 'Courier', monospace\" font-weight=\"bold\" font-style=\"italic\" font-size=\"10.00\">__init__()</text>\n",
       "</a>\n",
       "</g>\n",
       "<g id=\"a_node4_21\"><a xlink:href=\"#\" xlink:title=\"run(self, runner=None, inp=&#39;&#39;):&#10;Run `runner` with fuzz input\">\n",
       "<text text-anchor=\"start\" x=\"190.5\" y=\"-78.75\" font-family=\"'Fira Mono', 'Source Code Pro', 'Courier', monospace\" font-weight=\"bold\" font-style=\"italic\" font-size=\"10.00\">run()</text>\n",
       "</a>\n",
       "</g>\n",
       "</a>\n",
       "</g>\n",
       "</a>\n",
       "</g>\n",
       "</g>\n",
       "<!-- GrammarCoverageFuzzer -->\n",
       "<g id=\"node5\" class=\"node\">\n",
       "<title>GrammarCoverageFuzzer</title>\n",
       "<g id=\"a_node5\"><a xlink:href=\"GrammarCoverageFuzzer.ipynb\" xlink:title=\"class GrammarCoverageFuzzer:&#10;Produce from grammars, aiming for coverage of all expansions.\">\n",
       "<polygon fill=\"none\" stroke=\"black\" points=\"133.75,-241.62 133.75,-277.62 307.25,-277.62 307.25,-241.62 133.75,-241.62\"/>\n",
       "<text text-anchor=\"start\" x=\"141.75\" y=\"-256.32\" font-family=\"Patua One, Helvetica, sans-serif\" font-weight=\"bold\" font-size=\"14.00\" fill=\"#b03a2e\">GrammarCoverageFuzzer</text>\n",
       "</a>\n",
       "</g>\n",
       "</g>\n",
       "<!-- OptionFuzzer&#45;&gt;GrammarCoverageFuzzer -->\n",
       "<g id=\"edge3\" class=\"edge\">\n",
       "<title>OptionFuzzer&#45;&gt;GrammarCoverageFuzzer</title>\n",
       "<path fill=\"none\" stroke=\"black\" d=\"M220.5,-128.66C220.5,-157.02 220.5,-201.11 220.5,-229.93\"/>\n",
       "<polygon fill=\"none\" stroke=\"black\" points=\"217,-229.74 220.5,-239.74 224,-229.74 217,-229.74\"/>\n",
       "</g>\n",
       "<!-- SimpleGrammarCoverageFuzzer -->\n",
       "<g id=\"node6\" class=\"node\">\n",
       "<title>SimpleGrammarCoverageFuzzer</title>\n",
       "<g id=\"a_node6\"><a xlink:href=\"GrammarCoverageFuzzer.ipynb\" xlink:title=\"class SimpleGrammarCoverageFuzzer:&#10;When choosing expansions, prefer expansions not covered.\">\n",
       "<polygon fill=\"none\" stroke=\"black\" points=\"113.12,-350.38 113.12,-386.38 327.88,-386.38 327.88,-350.38 113.12,-350.38\"/>\n",
       "<text text-anchor=\"start\" x=\"121.12\" y=\"-365.07\" font-family=\"Patua One, Helvetica, sans-serif\" font-weight=\"bold\" font-size=\"14.00\" fill=\"#b03a2e\">SimpleGrammarCoverageFuzzer</text>\n",
       "</a>\n",
       "</g>\n",
       "</g>\n",
       "<!-- GrammarCoverageFuzzer&#45;&gt;SimpleGrammarCoverageFuzzer -->\n",
       "<g id=\"edge4\" class=\"edge\">\n",
       "<title>GrammarCoverageFuzzer&#45;&gt;SimpleGrammarCoverageFuzzer</title>\n",
       "<path fill=\"none\" stroke=\"black\" d=\"M220.5,-277.78C220.5,-294.18 220.5,-319.21 220.5,-338.66\"/>\n",
       "<polygon fill=\"none\" stroke=\"black\" points=\"217,-338.4 220.5,-348.4 224,-338.4 217,-338.4\"/>\n",
       "</g>\n",
       "<!-- TrackingGrammarCoverageFuzzer -->\n",
       "<g id=\"node7\" class=\"node\">\n",
       "<title>TrackingGrammarCoverageFuzzer</title>\n",
       "<g id=\"a_node7\"><a xlink:href=\"GrammarCoverageFuzzer.ipynb\" xlink:title=\"class TrackingGrammarCoverageFuzzer:&#10;Track grammar coverage during production\">\n",
       "<polygon fill=\"none\" stroke=\"black\" points=\"106.38,-454.5 106.38,-499.75 334.62,-499.75 334.62,-454.5 106.38,-454.5\"/>\n",
       "<text text-anchor=\"start\" x=\"114.38\" y=\"-483.45\" font-family=\"Patua One, Helvetica, sans-serif\" font-weight=\"bold\" font-size=\"14.00\" fill=\"#b03a2e\">TrackingGrammarCoverageFuzzer</text>\n",
       "<polyline fill=\"none\" stroke=\"black\" points=\"106.38,-473.75 334.62,-473.75\"/>\n",
       "<g id=\"a_node7_22\"><a xlink:href=\"#\" xlink:title=\"TrackingGrammarCoverageFuzzer\">\n",
       "<g id=\"a_node7_23\"><a xlink:href=\"GrammarCoverageFuzzer.ipynb\" xlink:title=\"__init__(self, *args, **kwargs) &#45;&gt; None:&#10;Produce strings from `grammar`, starting with `start_symbol`.&#10;If `min_nonterminals` or `max_nonterminals` is given, use them as limits&#10;for the number of nonterminals produced.&#10;If `disp` is set, display the intermediate derivation trees.&#10;If `log` is set, show intermediate steps as text on standard output.\">\n",
       "<text text-anchor=\"start\" x=\"190.5\" y=\"-461.25\" font-family=\"'Fira Mono', 'Source Code Pro', 'Courier', monospace\" font-weight=\"bold\" font-style=\"italic\" font-size=\"10.00\">__init__()</text>\n",
       "</a>\n",
       "</g>\n",
       "</a>\n",
       "</g>\n",
       "</a>\n",
       "</g>\n",
       "</g>\n",
       "<!-- SimpleGrammarCoverageFuzzer&#45;&gt;TrackingGrammarCoverageFuzzer -->\n",
       "<g id=\"edge5\" class=\"edge\">\n",
       "<title>SimpleGrammarCoverageFuzzer&#45;&gt;TrackingGrammarCoverageFuzzer</title>\n",
       "<path fill=\"none\" stroke=\"black\" d=\"M220.5,-386.53C220.5,-401.68 220.5,-424.22 220.5,-442.89\"/>\n",
       "<polygon fill=\"none\" stroke=\"black\" points=\"217,-442.69 220.5,-452.69 224,-442.69 217,-442.69\"/>\n",
       "</g>\n",
       "<!-- GrammarFuzzer -->\n",
       "<g id=\"node8\" class=\"node\">\n",
       "<title>GrammarFuzzer</title>\n",
       "<g id=\"a_node8\"><a xlink:href=\"GrammarFuzzer.ipynb\" xlink:title=\"class GrammarFuzzer:&#10;Produce strings from grammars efficiently, using derivation trees.\">\n",
       "<polygon fill=\"none\" stroke=\"black\" points=\"162.62,-536.75 162.62,-604.5 278.38,-604.5 278.38,-536.75 162.62,-536.75\"/>\n",
       "<text text-anchor=\"start\" x=\"170.62\" y=\"-588.2\" font-family=\"Patua One, Helvetica, sans-serif\" font-weight=\"bold\" font-size=\"14.00\" fill=\"#b03a2e\">GrammarFuzzer</text>\n",
       "<polyline fill=\"none\" stroke=\"black\" points=\"162.62,-578.5 278.38,-578.5\"/>\n",
       "<g id=\"a_node8_24\"><a xlink:href=\"#\" xlink:title=\"GrammarFuzzer\">\n",
       "<g id=\"a_node8_25\"><a xlink:href=\"GrammarFuzzer.ipynb\" xlink:title=\"__init__(self, grammar: Dict[str, List[Expansion]], start_symbol: str = &#39;&lt;start&gt;&#39;, min_nonterminals: int = 0, max_nonterminals: int = 10, disp: bool = False, log: Union[bool, int] = False) &#45;&gt; None:&#10;Produce strings from `grammar`, starting with `start_symbol`.&#10;If `min_nonterminals` or `max_nonterminals` is given, use them as limits&#10;for the number of nonterminals produced.&#10;If `disp` is set, display the intermediate derivation trees.&#10;If `log` is set, show intermediate steps as text on standard output.\">\n",
       "<text text-anchor=\"start\" x=\"187.5\" y=\"-566\" font-family=\"'Fira Mono', 'Source Code Pro', 'Courier', monospace\" font-weight=\"bold\" font-style=\"italic\" font-size=\"10.00\">__init__()</text>\n",
       "</a>\n",
       "</g>\n",
       "<g id=\"a_node8_26\"><a xlink:href=\"GrammarFuzzer.ipynb\" xlink:title=\"fuzz(self) &#45;&gt; str:&#10;Produce a string from the grammar.\">\n",
       "<text text-anchor=\"start\" x=\"187.5\" y=\"-554.75\" font-family=\"'Fira Mono', 'Source Code Pro', 'Courier', monospace\" font-weight=\"bold\" font-style=\"italic\" font-size=\"10.00\">fuzz()</text>\n",
       "</a>\n",
       "</g>\n",
       "<g id=\"a_node8_27\"><a xlink:href=\"GrammarFuzzer.ipynb\" xlink:title=\"fuzz_tree(self) &#45;&gt; DerivationTree:&#10;Produce a derivation tree from the grammar.\">\n",
       "<text text-anchor=\"start\" x=\"187.5\" y=\"-543.5\" font-family=\"'Fira Mono', 'Source Code Pro', 'Courier', monospace\" font-weight=\"bold\" font-size=\"10.00\">fuzz_tree()</text>\n",
       "</a>\n",
       "</g>\n",
       "</a>\n",
       "</g>\n",
       "</a>\n",
       "</g>\n",
       "</g>\n",
       "<!-- TrackingGrammarCoverageFuzzer&#45;&gt;GrammarFuzzer -->\n",
       "<g id=\"edge6\" class=\"edge\">\n",
       "<title>TrackingGrammarCoverageFuzzer&#45;&gt;GrammarFuzzer</title>\n",
       "<path fill=\"none\" stroke=\"black\" d=\"M220.5,-499.81C220.5,-507.38 220.5,-516.18 220.5,-524.92\"/>\n",
       "<polygon fill=\"none\" stroke=\"black\" points=\"217,-524.77 220.5,-534.77 224,-524.77 217,-524.77\"/>\n",
       "</g>\n",
       "<!-- Fuzzer -->\n",
       "<g id=\"node9\" class=\"node\">\n",
       "<title>Fuzzer</title>\n",
       "<g id=\"a_node9\"><a xlink:href=\"Fuzzer.ipynb\" xlink:title=\"class Fuzzer:&#10;Base class for fuzzers.\">\n",
       "<polygon fill=\"none\" stroke=\"black\" points=\"182.5,-641.5 182.5,-720.5 258.5,-720.5 258.5,-641.5 182.5,-641.5\"/>\n",
       "<text text-anchor=\"start\" x=\"199.88\" y=\"-704.2\" font-family=\"Patua One, Helvetica, sans-serif\" font-weight=\"bold\" font-size=\"14.00\" fill=\"#b03a2e\">Fuzzer</text>\n",
       "<polyline fill=\"none\" stroke=\"black\" points=\"182.5,-694.5 258.5,-694.5\"/>\n",
       "<g id=\"a_node9_28\"><a xlink:href=\"#\" xlink:title=\"Fuzzer\">\n",
       "<g id=\"a_node9_29\"><a xlink:href=\"Fuzzer.ipynb\" xlink:title=\"__init__(self) &#45;&gt; None:&#10;Constructor\">\n",
       "<text text-anchor=\"start\" x=\"190.5\" y=\"-682\" font-family=\"'Fira Mono', 'Source Code Pro', 'Courier', monospace\" font-weight=\"bold\" font-style=\"italic\" font-size=\"10.00\">__init__()</text>\n",
       "</a>\n",
       "</g>\n",
       "<g id=\"a_node9_30\"><a xlink:href=\"Fuzzer.ipynb\" xlink:title=\"fuzz(self) &#45;&gt; str:&#10;Return fuzz input\">\n",
       "<text text-anchor=\"start\" x=\"190.5\" y=\"-670.75\" font-family=\"'Fira Mono', 'Source Code Pro', 'Courier', monospace\" font-weight=\"bold\" font-style=\"italic\" font-size=\"10.00\">fuzz()</text>\n",
       "</a>\n",
       "</g>\n",
       "<g id=\"a_node9_31\"><a xlink:href=\"Fuzzer.ipynb\" xlink:title=\"run(self, runner: Fuzzer.Runner = &lt;Fuzzer.Runner object at 0x112ae6050&gt;) &#45;&gt; Tuple[subprocess.CompletedProcess, str]:&#10;Run `runner` with fuzz input\">\n",
       "<text text-anchor=\"start\" x=\"190.5\" y=\"-659.5\" font-family=\"'Fira Mono', 'Source Code Pro', 'Courier', monospace\" font-weight=\"bold\" font-style=\"italic\" font-size=\"10.00\">run()</text>\n",
       "</a>\n",
       "</g>\n",
       "<g id=\"a_node9_32\"><a xlink:href=\"Fuzzer.ipynb\" xlink:title=\"runs(self, runner: Fuzzer.Runner = &lt;Fuzzer.PrintRunner object at 0x112ae6080&gt;, trials: int = 10) &#45;&gt; List[Tuple[subprocess.CompletedProcess, str]]:&#10;Run `runner` with fuzz input, `trials` times\">\n",
       "<text text-anchor=\"start\" x=\"190.5\" y=\"-648.25\" font-family=\"'Fira Mono', 'Source Code Pro', 'Courier', monospace\" font-weight=\"bold\" font-size=\"10.00\">runs()</text>\n",
       "</a>\n",
       "</g>\n",
       "</a>\n",
       "</g>\n",
       "</a>\n",
       "</g>\n",
       "</g>\n",
       "<!-- GrammarFuzzer&#45;&gt;Fuzzer -->\n",
       "<g id=\"edge7\" class=\"edge\">\n",
       "<title>GrammarFuzzer&#45;&gt;Fuzzer</title>\n",
       "<path fill=\"none\" stroke=\"black\" d=\"M220.5,-604.73C220.5,-612.6 220.5,-621.18 220.5,-629.64\"/>\n",
       "<polygon fill=\"none\" stroke=\"black\" points=\"217,-629.49 220.5,-639.49 224,-629.49 217,-629.49\"/>\n",
       "</g>\n",
       "<!-- OptionGrammarMiner -->\n",
       "<g id=\"node10\" class=\"node\">\n",
       "<title>OptionGrammarMiner</title>\n",
       "<g id=\"a_node10\"><a xlink:href=\"#\" xlink:title=\"class OptionGrammarMiner:&#10;Helper class for extracting option grammars\">\n",
       "<polygon fill=\"none\" stroke=\"black\" points=\"288.25,-0.5 288.25,-200 440.75,-200 440.75,-0.5 288.25,-0.5\"/>\n",
       "<text text-anchor=\"start\" x=\"296.25\" y=\"-183.7\" font-family=\"Patua One, Helvetica, sans-serif\" font-weight=\"bold\" font-size=\"14.00\" fill=\"#b03a2e\">OptionGrammarMiner</text>\n",
       "<polyline fill=\"none\" stroke=\"black\" points=\"288.25,-174 440.75,-174\"/>\n",
       "<g id=\"a_node10_33\"><a xlink:href=\"#\" xlink:title=\"OptionGrammarMiner\">\n",
       "<g id=\"a_node10_34\"><a xlink:href=\"#\" xlink:title=\"ARGUMENTS_SYMBOL = &#39;&lt;arguments&gt;&#39;\">\n",
       "<text text-anchor=\"start\" x=\"316.5\" y=\"-160.5\" font-family=\"'Fira Mono', 'Source Code Pro', 'Courier', monospace\" font-size=\"10.00\">ARGUMENTS_SYMBOL</text>\n",
       "</a>\n",
       "</g>\n",
       "<g id=\"a_node10_35\"><a xlink:href=\"#\" xlink:title=\"OPTION_SYMBOL = &#39;&lt;option&gt;&#39;\">\n",
       "<text text-anchor=\"start\" x=\"316.5\" y=\"-149.25\" font-family=\"'Fira Mono', 'Source Code Pro', 'Courier', monospace\" font-size=\"10.00\">OPTION_SYMBOL</text>\n",
       "</a>\n",
       "</g>\n",
       "</a>\n",
       "</g>\n",
       "<polyline fill=\"none\" stroke=\"black\" points=\"288.25,-143.5 440.75,-143.5\"/>\n",
       "<g id=\"a_node10_36\"><a xlink:href=\"#\" xlink:title=\"OptionGrammarMiner\">\n",
       "<g id=\"a_node10_37\"><a xlink:href=\"#\" xlink:title=\"__init__(self, function: Callable, log: bool = False):&#10;Constructor.&#10;`function` &#45; a function processing arguments using argparse()&#10;`log` &#45; output diagnostics if True\">\n",
       "<text text-anchor=\"start\" x=\"307.5\" y=\"-131\" font-family=\"'Fira Mono', 'Source Code Pro', 'Courier', monospace\" font-weight=\"bold\" font-size=\"10.00\">__init__()</text>\n",
       "</a>\n",
       "</g>\n",
       "<g id=\"a_node10_38\"><a xlink:href=\"#\" xlink:title=\"mine_ebnf_grammar(self):&#10;Extract EBNF option grammar\">\n",
       "<text text-anchor=\"start\" x=\"307.5\" y=\"-119.75\" font-family=\"'Fira Mono', 'Source Code Pro', 'Courier', monospace\" font-weight=\"bold\" font-size=\"10.00\">mine_ebnf_grammar()</text>\n",
       "</a>\n",
       "</g>\n",
       "<g id=\"a_node10_39\"><a xlink:href=\"#\" xlink:title=\"mine_grammar(self):&#10;Extract BNF option grammar\">\n",
       "<text text-anchor=\"start\" x=\"307.5\" y=\"-108.5\" font-family=\"'Fira Mono', 'Source Code Pro', 'Courier', monospace\" font-weight=\"bold\" font-size=\"10.00\">mine_grammar()</text>\n",
       "</a>\n",
       "</g>\n",
       "<g id=\"a_node10_40\"><a xlink:href=\"#\" xlink:title=\"add_group(self, locals, exclusive)\">\n",
       "<text text-anchor=\"start\" x=\"307.5\" y=\"-96.25\" font-family=\"'Fira Mono', 'Source Code Pro', 'Courier', monospace\" font-size=\"10.00\">add_group()</text>\n",
       "</a>\n",
       "</g>\n",
       "<g id=\"a_node10_41\"><a xlink:href=\"#\" xlink:title=\"add_int_rule(self)\">\n",
       "<text text-anchor=\"start\" x=\"307.5\" y=\"-85\" font-family=\"'Fira Mono', 'Source Code Pro', 'Courier', monospace\" font-size=\"10.00\">add_int_rule()</text>\n",
       "</a>\n",
       "</g>\n",
       "<g id=\"a_node10_42\"><a xlink:href=\"#\" xlink:title=\"add_metavar_rule(self, metavar, type_)\">\n",
       "<text text-anchor=\"start\" x=\"307.5\" y=\"-73.75\" font-family=\"'Fira Mono', 'Source Code Pro', 'Courier', monospace\" font-size=\"10.00\">add_metavar_rule()</text>\n",
       "</a>\n",
       "</g>\n",
       "<g id=\"a_node10_43\"><a xlink:href=\"#\" xlink:title=\"add_parameter(self, kwargs, metavar)\">\n",
       "<text text-anchor=\"start\" x=\"307.5\" y=\"-62.5\" font-family=\"'Fira Mono', 'Source Code Pro', 'Courier', monospace\" font-size=\"10.00\">add_parameter()</text>\n",
       "</a>\n",
       "</g>\n",
       "<g id=\"a_node10_44\"><a xlink:href=\"#\" xlink:title=\"add_str_rule(self)\">\n",
       "<text text-anchor=\"start\" x=\"307.5\" y=\"-51.25\" font-family=\"'Fira Mono', 'Source Code Pro', 'Courier', monospace\" font-size=\"10.00\">add_str_rule()</text>\n",
       "</a>\n",
       "</g>\n",
       "<g id=\"a_node10_45\"><a xlink:href=\"#\" xlink:title=\"add_type_rule(self, type_)\">\n",
       "<text text-anchor=\"start\" x=\"307.5\" y=\"-40\" font-family=\"'Fira Mono', 'Source Code Pro', 'Courier', monospace\" font-size=\"10.00\">add_type_rule()</text>\n",
       "</a>\n",
       "</g>\n",
       "<g id=\"a_node10_46\"><a xlink:href=\"#\" xlink:title=\"process_arg(self, arg, in_group, kwargs)\">\n",
       "<text text-anchor=\"start\" x=\"307.5\" y=\"-28.75\" font-family=\"'Fira Mono', 'Source Code Pro', 'Courier', monospace\" font-size=\"10.00\">process_arg()</text>\n",
       "</a>\n",
       "</g>\n",
       "<g id=\"a_node10_47\"><a xlink:href=\"#\" xlink:title=\"process_argument(self, locals, in_group)\">\n",
       "<text text-anchor=\"start\" x=\"307.5\" y=\"-17.5\" font-family=\"'Fira Mono', 'Source Code Pro', 'Courier', monospace\" font-size=\"10.00\">process_argument()</text>\n",
       "</a>\n",
       "</g>\n",
       "<g id=\"a_node10_48\"><a xlink:href=\"#\" xlink:title=\"traceit(self, frame, event, arg)\">\n",
       "<text text-anchor=\"start\" x=\"307.5\" y=\"-6.25\" font-family=\"'Fira Mono', 'Source Code Pro', 'Courier', monospace\" font-size=\"10.00\">traceit()</text>\n",
       "</a>\n",
       "</g>\n",
       "</a>\n",
       "</g>\n",
       "</a>\n",
       "</g>\n",
       "</g>\n",
       "<!-- Legend -->\n",
       "<g id=\"node11\" class=\"node\">\n",
       "<title>Legend</title>\n",
       "<text text-anchor=\"start\" x=\"458.88\" y=\"-116.25\" font-family=\"Patua One, Helvetica, sans-serif\" font-weight=\"bold\" font-size=\"10.00\" fill=\"#b03a2e\">Legend</text>\n",
       "<text text-anchor=\"start\" x=\"458.88\" y=\"-106.25\" font-family=\"Patua One, Helvetica, sans-serif\" font-size=\"10.00\">• </text>\n",
       "<text text-anchor=\"start\" x=\"464.88\" y=\"-106.25\" font-family=\"'Fira Mono', 'Source Code Pro', 'Courier', monospace\" font-weight=\"bold\" font-size=\"8.00\">public_method()</text>\n",
       "<text text-anchor=\"start\" x=\"458.88\" y=\"-96.25\" font-family=\"Patua One, Helvetica, sans-serif\" font-size=\"10.00\">• </text>\n",
       "<text text-anchor=\"start\" x=\"464.88\" y=\"-96.25\" font-family=\"'Fira Mono', 'Source Code Pro', 'Courier', monospace\" font-size=\"8.00\">private_method()</text>\n",
       "<text text-anchor=\"start\" x=\"458.88\" y=\"-86.25\" font-family=\"Patua One, Helvetica, sans-serif\" font-size=\"10.00\">• </text>\n",
       "<text text-anchor=\"start\" x=\"464.88\" y=\"-86.25\" font-family=\"'Fira Mono', 'Source Code Pro', 'Courier', monospace\" font-style=\"italic\" font-size=\"8.00\">overloaded_method()</text>\n",
       "<text text-anchor=\"start\" x=\"458.88\" y=\"-77.2\" font-family=\"Helvetica,sans-Serif\" font-size=\"9.00\">Hover over names to see doc</text>\n",
       "</g>\n",
       "</g>\n",
       "</svg>\n"
      ],
      "text/plain": [
       "<graphviz.graphs.Digraph at 0x294250c10>"
      ]
     },
     "execution_count": 111,
     "metadata": {},
     "output_type": "execute_result"
    }
   ],
   "source": [
    "# ignore\n",
    "display_class_hierarchy([OptionRunner, OptionFuzzer, OptionGrammarMiner],\n",
    "                        public_methods=[\n",
    "                            Fuzzer.__init__,\n",
    "                            Fuzzer.fuzz,\n",
    "                            Fuzzer.run,\n",
    "                            Fuzzer.runs,\n",
    "                            GrammarFuzzer.__init__,\n",
    "                            GrammarFuzzer.fuzz,\n",
    "                            GrammarFuzzer.fuzz_tree,\n",
    "                            TrackingGrammarCoverageFuzzer.__init__,\n",
    "                            OptionFuzzer.__init__,\n",
    "                            OptionFuzzer.run,\n",
    "                            Runner.__init__,\n",
    "                            Runner.run,\n",
    "                            ProgramRunner.__init__,\n",
    "                            ProgramRunner.__init__,\n",
    "                            OptionRunner.__init__,\n",
    "                            OptionRunner.ebnf_grammar,\n",
    "                            OptionRunner.grammar,\n",
    "                            OptionGrammarMiner.__init__,\n",
    "                            OptionGrammarMiner.mine_ebnf_grammar,\n",
    "                            OptionGrammarMiner.mine_grammar,\n",
    "                        ],\n",
    "                        types={\n",
    "                            'DerivationTree': DerivationTree,\n",
    "                            'Expansion': Expansion,\n",
    "                            'Grammar': Grammar\n",
    "                        },\n",
    "                        project='fuzzingbook')"
   ]
  },
  {
   "cell_type": "markdown",
   "metadata": {
    "button": false,
    "new_sheet": true,
    "run_control": {
     "read_only": false
    },
    "slideshow": {
     "slide_type": "slide"
    }
   },
   "source": [
    "## Lessons Learned\n",
    "\n",
    "* Besides regular input data, program _configurations_ make an important testing target.\n",
    "* For a given program using a standard library to parse command-line options and arguments, one can automatically extract these and convert them into a grammar.\n",
    "* To cover not only single options, but combinations of options, one can expand the grammar to cover all pairs, or come up with even more ambitious targets."
   ]
  },
  {
   "cell_type": "markdown",
   "metadata": {
    "button": false,
    "new_sheet": false,
    "run_control": {
     "read_only": false
    },
    "slideshow": {
     "slide_type": "skip"
    }
   },
   "source": [
    "## Next Steps\n",
    "\n",
    "If you liked the idea of mining a grammar from a program, do not miss:\n",
    "\n",
    "* [how to mine grammars for input data](GrammarMiner.ipynb)"
   ]
  },
  {
   "cell_type": "markdown",
   "metadata": {
    "button": false,
    "new_sheet": false,
    "run_control": {
     "read_only": false
    },
    "slideshow": {
     "slide_type": "skip"
    }
   },
   "source": [
    "Our next steps in the book focus on:\n",
    "\n",
    "* [how to parse and recombine inputs](Parser.ipynb)\n",
    "* [how to assign weights and probabilities to specific productions](ProbabilisticGrammarFuzzer.ipynb)\n",
    "* [how to simplify inputs that cause a failure](Reducer.ipynb)"
   ]
  },
  {
   "cell_type": "markdown",
   "metadata": {
    "slideshow": {
     "slide_type": "slide"
    }
   },
   "source": [
    "## Background\n",
    "\n",
    "Although configuration data is just as likely to cause failures as other input data, it has received relatively little attention in test generation – possibly because, unlike \"regular\" input data, configuration data is not so much under control of external parties, and because, again unlike regular data, there is little variance in configurations.  Creating models for software configurations and using these models for testing is commonplace, as is the idea of pairwise testing.  For an overview, see \\cite{Pezze2008}; for a discussion and comparison of state-of-the-art techniques, see \\cite{Petke2015}.\n",
    "\n",
    "More specifically, \\cite{Sutton2007} also discuss techniques to systematically cover command-line options.  Dai et al. \\cite{Dai2010} apply configuration fuzzing by changing variables associated with configuration files.  "
   ]
  },
  {
   "cell_type": "markdown",
   "metadata": {
    "button": false,
    "new_sheet": false,
    "run_control": {
     "read_only": false
    },
    "slideshow": {
     "slide_type": "subslide"
    },
    "toc-hr-collapsed": false
   },
   "source": [
    "## Exercises"
   ]
  },
  {
   "cell_type": "markdown",
   "metadata": {
    "slideshow": {
     "slide_type": "subslide"
    },
    "toc-hr-collapsed": true
   },
   "source": [
    "### Exercise 1: #ifdef Configuration Fuzzing\n",
    "\n",
    "In C programs, the *C preprocessor* can be used to choose which code parts should be compiled and which ones should not.  As an example, in the C code\n",
    "\n",
    "```C\n",
    "#ifdef LONG_FOO\n",
    "long foo() { ... }\n",
    "#else\n",
    "int foo() { ... }\n",
    "#endif\n",
    "```\n",
    "\n",
    "the compiler will compile the function `foo()` with return type`long` if the _preprocessor variable_ `LONG_FOO` is defined, and with return type `int` if not.  Such preprocessor variables are either set in the source files (using `#define`, as in `#define LONG_FOO`) or on the C compiler command line (using `-D<variable>` or `-D<variable>=<value>`, as in `-DLONG_FOO`."
   ]
  },
  {
   "cell_type": "markdown",
   "metadata": {
    "slideshow": {
     "slide_type": "subslide"
    }
   },
   "source": [
    "Such *conditional compilation* is used to configure C programs towards their environment.  System-specific code can contain lots of conditional compilation.  As an example, consider this excerpt of `xmlparse.c`, the XML parser that is part of the Python runtime library:\n",
    "\n",
    "```c\n",
    "#if defined(_WIN32) && !defined(LOAD_LIBRARY_SEARCH_SYSTEM32)\n",
    "# define LOAD_LIBRARY_SEARCH_SYSTEM32  0x00000800\n",
    "#endif\n",
    "\n",
    "#if !defined(HAVE_GETRANDOM) && !defined(HAVE_SYSCALL_GETRANDOM) \\\n",
    "    && !defined(HAVE_ARC4RANDOM_BUF) && !defined(HAVE_ARC4RANDOM) \\\n",
    "    && !defined(XML_DEV_URANDOM) \\\n",
    "    && !defined(_WIN32) \\\n",
    "    && !defined(XML_POOR_ENTROPY)\n",
    "# error\n",
    "#endif\n",
    "\n",
    "#if !defined(TIOCSWINSZ) || defined(__SCO__) || defined(__UNIXWARE__)\n",
    "#define USE_SYSV_ENVVARS\t/* COLUMNS/LINES vs. TERMCAP */\n",
    "#endif\n",
    "\n",
    "#ifdef XML_UNICODE_WCHAR_T\n",
    "#define XML_T(x) (const wchar_t)x\n",
    "#define XML_L(x) L ## x\n",
    "#else\n",
    "#define XML_T(x) (const unsigned short)x\n",
    "#define XML_L(x) x\n",
    "#endif\n",
    "\n",
    "int fun(int x) { return XML_T(x); }\n",
    "```"
   ]
  },
  {
   "cell_type": "markdown",
   "metadata": {
    "slideshow": {
     "slide_type": "subslide"
    }
   },
   "source": [
    "A typical configuration for the C preprocessor on the above code could be `cc -c -D_WIN32 -DXML_POOR_ENTROPY -DXML_UNICODE_WCHAR_T xmlparse.c`, defining the given preprocessor variables and selecting the appropriate code fragments."
   ]
  },
  {
   "cell_type": "markdown",
   "metadata": {
    "slideshow": {
     "slide_type": "subslide"
    }
   },
   "source": [
    "Since the compiler can only compile one configuration at a time (implying that we can also only _test_ one resulting executable at a time), your task is to find out which of these configurations actually compile.  To this end, proceed in three steps."
   ]
  },
  {
   "cell_type": "markdown",
   "metadata": {
    "slideshow": {
     "slide_type": "subslide"
    },
    "solution2": "hidden",
    "solution2_first": true
   },
   "source": [
    "#### Part 1: Extract Preprocessor Variables\n",
    "\n",
    "Write a _function_ `cpp_identifiers()` that, given a set of lines (say, from `open(filename).readlines()`), extracts all preprocessor variables referenced in `#if` or `#ifdef` preprocessor instructions.  Apply `ifdef_identifiers()` on the sample C input above, such that\n",
    "\n",
    "```python\n",
    "cpp_identifiers(open(\"xmlparse.c\").readlines()) \n",
    "```\n",
    "\n",
    "returns the set\n",
    "\n",
    "```python\n",
    "{'_WIN32', 'LOAD_LIBRARY_SEARCH_SYSTEM32', 'HAVE_GETRANDOM', 'HAVE_SYSCALL_GETRANDOM', 'HAVE_ARC4RANDOM_BUF', ...}\n",
    "\n",
    "```"
   ]
  },
  {
   "cell_type": "markdown",
   "metadata": {
    "slideshow": {
     "slide_type": "skip"
    },
    "solution2": "hidden"
   },
   "source": [
    "**Solution.**  Let us start with creating a sample input file, `xmlparse.c`:"
   ]
  },
  {
   "cell_type": "code",
   "execution_count": 112,
   "metadata": {
    "execution": {
     "iopub.execute_input": "2024-01-18T16:35:34.740068Z",
     "iopub.status.busy": "2024-01-18T16:35:34.739934Z",
     "iopub.status.idle": "2024-01-18T16:35:34.741783Z",
     "shell.execute_reply": "2024-01-18T16:35:34.741521Z"
    },
    "slideshow": {
     "slide_type": "skip"
    },
    "solution2": "hidden"
   },
   "outputs": [],
   "source": [
    "filename = \"xmlparse.c\""
   ]
  },
  {
   "cell_type": "code",
   "execution_count": 113,
   "metadata": {
    "execution": {
     "iopub.execute_input": "2024-01-18T16:35:34.743265Z",
     "iopub.status.busy": "2024-01-18T16:35:34.743155Z",
     "iopub.status.idle": "2024-01-18T16:35:34.745385Z",
     "shell.execute_reply": "2024-01-18T16:35:34.745120Z"
    },
    "slideshow": {
     "slide_type": "skip"
    },
    "solution2": "hidden"
   },
   "outputs": [],
   "source": [
    "open(filename, \"w\").write(\n",
    "    \"\"\"\n",
    "#if defined(_WIN32) && !defined(LOAD_LIBRARY_SEARCH_SYSTEM32)\n",
    "# define LOAD_LIBRARY_SEARCH_SYSTEM32  0x00000800\n",
    "#endif\n",
    "\n",
    "#if !defined(HAVE_GETRANDOM) && !defined(HAVE_SYSCALL_GETRANDOM) \\\n",
    "    && !defined(HAVE_ARC4RANDOM_BUF) && !defined(HAVE_ARC4RANDOM) \\\n",
    "    && !defined(XML_DEV_URANDOM) \\\n",
    "    && !defined(_WIN32) \\\n",
    "    && !defined(XML_POOR_ENTROPY)\n",
    "# error\n",
    "#endif\n",
    "\n",
    "#if !defined(TIOCSWINSZ) || defined(__SCO__) || defined(__UNIXWARE__)\n",
    "#define USE_SYSV_ENVVARS\t/* COLUMNS/LINES vs. TERMCAP */\n",
    "#endif\n",
    "\n",
    "#ifdef XML_UNICODE_WCHAR_T\n",
    "#define XML_T(x) (const wchar_t)x\n",
    "#define XML_L(x) L ## x\n",
    "#else\n",
    "#define XML_T(x) (const unsigned short)x\n",
    "#define XML_L(x) x\n",
    "#endif\n",
    "\n",
    "int fun(int x) { return XML_T(x); }\n",
    "\"\"\");"
   ]
  },
  {
   "cell_type": "markdown",
   "metadata": {
    "slideshow": {
     "slide_type": "skip"
    },
    "solution2": "hidden"
   },
   "source": [
    "To find C preprocessor `#if` directives and preprocessor variables, we use regular expressions matching them."
   ]
  },
  {
   "cell_type": "code",
   "execution_count": 114,
   "metadata": {
    "execution": {
     "iopub.execute_input": "2024-01-18T16:35:34.746849Z",
     "iopub.status.busy": "2024-01-18T16:35:34.746739Z",
     "iopub.status.idle": "2024-01-18T16:35:34.748326Z",
     "shell.execute_reply": "2024-01-18T16:35:34.748077Z"
    },
    "slideshow": {
     "slide_type": "skip"
    },
    "solution2": "hidden"
   },
   "outputs": [],
   "source": [
    "import re"
   ]
  },
  {
   "cell_type": "code",
   "execution_count": 115,
   "metadata": {
    "execution": {
     "iopub.execute_input": "2024-01-18T16:35:34.749687Z",
     "iopub.status.busy": "2024-01-18T16:35:34.749572Z",
     "iopub.status.idle": "2024-01-18T16:35:34.751762Z",
     "shell.execute_reply": "2024-01-18T16:35:34.751520Z"
    },
    "slideshow": {
     "slide_type": "skip"
    },
    "solution2": "hidden"
   },
   "outputs": [],
   "source": [
    "re_cpp_if_directive = re.compile(r\"\\s*#\\s*(el)?if\")\n",
    "re_cpp_identifier = re.compile(r\"[a-zA-Z_$]+\")"
   ]
  },
  {
   "cell_type": "code",
   "execution_count": 116,
   "metadata": {
    "execution": {
     "iopub.execute_input": "2024-01-18T16:35:34.753174Z",
     "iopub.status.busy": "2024-01-18T16:35:34.753073Z",
     "iopub.status.idle": "2024-01-18T16:35:34.755054Z",
     "shell.execute_reply": "2024-01-18T16:35:34.754831Z"
    },
    "slideshow": {
     "slide_type": "skip"
    },
    "solution2": "hidden"
   },
   "outputs": [],
   "source": [
    "def cpp_identifiers(lines):\n",
    "    identifiers = set()\n",
    "    for line in lines:\n",
    "        if re_cpp_if_directive.match(line):\n",
    "            identifiers |= set(re_cpp_identifier.findall(line))\n",
    "\n",
    "    # These are preprocessor keywords\n",
    "    identifiers -= {\"if\", \"ifdef\", \"ifndef\", \"defined\"}\n",
    "    return identifiers"
   ]
  },
  {
   "cell_type": "code",
   "execution_count": 117,
   "metadata": {
    "execution": {
     "iopub.execute_input": "2024-01-18T16:35:34.756550Z",
     "iopub.status.busy": "2024-01-18T16:35:34.756463Z",
     "iopub.status.idle": "2024-01-18T16:35:34.758873Z",
     "shell.execute_reply": "2024-01-18T16:35:34.758633Z"
    },
    "slideshow": {
     "slide_type": "skip"
    },
    "solution2": "hidden"
   },
   "outputs": [
    {
     "data": {
      "text/plain": [
       "{'HAVE_ARC',\n",
       " 'HAVE_GETRANDOM',\n",
       " 'HAVE_SYSCALL_GETRANDOM',\n",
       " 'LOAD_LIBRARY_SEARCH_SYSTEM',\n",
       " 'RANDOM',\n",
       " 'RANDOM_BUF',\n",
       " 'TIOCSWINSZ',\n",
       " 'XML_DEV_URANDOM',\n",
       " 'XML_POOR_ENTROPY',\n",
       " 'XML_UNICODE_WCHAR_T',\n",
       " '_WIN',\n",
       " '__SCO__',\n",
       " '__UNIXWARE__'}"
      ]
     },
     "execution_count": 117,
     "metadata": {},
     "output_type": "execute_result"
    }
   ],
   "source": [
    "cpp_ids = cpp_identifiers(open(\"xmlparse.c\").readlines())\n",
    "cpp_ids"
   ]
  },
  {
   "cell_type": "markdown",
   "metadata": {
    "slideshow": {
     "slide_type": "subslide"
    },
    "solution2": "hidden",
    "solution2_first": true
   },
   "source": [
    "#### Part 2: Derive an Option Grammar\n",
    "\n",
    "With the help of `cpp_identifiers()`, create a grammar which has C compiler invocations with a list of options, where each option takes the form `-D<variable>` for a preprocessor variable `<variable>`.  Using this grammar `cpp_grammar`, a fuzzer \n",
    "\n",
    "```python\n",
    "g = GrammarCoverageFuzzer(cpp_grammar)\n",
    "```\n",
    "\n",
    "would create C compiler invocations such as\n",
    "\n",
    "```python\n",
    "[g.fuzz() for i in range(10)]\n",
    "['cc -DHAVE_SYSCALL_GETRANDOM xmlparse.c',\n",
    " 'cc -D__SCO__ -DRANDOM_BUF -DXML_UNICODE_WCHAR_T -D__UNIXWARE__ xmlparse.c',\n",
    " 'cc -DXML_POOR_ENTROPY xmlparse.c',\n",
    " 'cc -DRANDOM xmlparse.c',\n",
    " 'cc -D_WIN xmlparse.c',\n",
    " 'cc -DHAVE_ARC xmlparse.c', ...]\n",
    "```"
   ]
  },
  {
   "cell_type": "markdown",
   "metadata": {
    "slideshow": {
     "slide_type": "skip"
    },
    "solution2": "hidden"
   },
   "source": [
    "**Solution.** This is not very difficult:"
   ]
  },
  {
   "cell_type": "code",
   "execution_count": 118,
   "metadata": {
    "execution": {
     "iopub.execute_input": "2024-01-18T16:35:34.760564Z",
     "iopub.status.busy": "2024-01-18T16:35:34.760474Z",
     "iopub.status.idle": "2024-01-18T16:35:34.762342Z",
     "shell.execute_reply": "2024-01-18T16:35:34.762090Z"
    },
    "slideshow": {
     "slide_type": "skip"
    },
    "solution2": "hidden"
   },
   "outputs": [],
   "source": [
    "from Grammars import Grammar, is_valid_grammar"
   ]
  },
  {
   "cell_type": "code",
   "execution_count": 119,
   "metadata": {
    "execution": {
     "iopub.execute_input": "2024-01-18T16:35:34.763804Z",
     "iopub.status.busy": "2024-01-18T16:35:34.763708Z",
     "iopub.status.idle": "2024-01-18T16:35:34.765786Z",
     "shell.execute_reply": "2024-01-18T16:35:34.765565Z"
    },
    "slideshow": {
     "slide_type": "skip"
    },
    "solution2": "hidden"
   },
   "outputs": [],
   "source": [
    "cpp_grammar: Grammar = {\n",
    "    \"<start>\": [\"cc -c<options> \" + filename],\n",
    "    \"<options>\": [\"<option>\", \"<options><option>\"],\n",
    "    \"<option>\": []\n",
    "}\n",
    "\n",
    "for id in cpp_ids:\n",
    "    s = new_symbol(cpp_grammar, \"<\" + id + \">\")\n",
    "    cpp_grammar[\"<option>\"].append(s)\n",
    "    cpp_grammar[s] = [\" -D\" + id]\n",
    "\n",
    "assert is_valid_grammar(cpp_grammar)"
   ]
  },
  {
   "cell_type": "code",
   "execution_count": 120,
   "metadata": {
    "execution": {
     "iopub.execute_input": "2024-01-18T16:35:34.767117Z",
     "iopub.status.busy": "2024-01-18T16:35:34.767005Z",
     "iopub.status.idle": "2024-01-18T16:35:34.769443Z",
     "shell.execute_reply": "2024-01-18T16:35:34.769191Z"
    },
    "slideshow": {
     "slide_type": "skip"
    },
    "solution2": "hidden"
   },
   "outputs": [
    {
     "data": {
      "text/plain": [
       "{'<start>': ['cc -c<options> xmlparse.c'],\n",
       " '<options>': ['<option>', '<options><option>'],\n",
       " '<option>': ['<XML_POOR_ENTROPY>',\n",
       "  '<XML_UNICODE_WCHAR_T>',\n",
       "  '<HAVE_ARC>',\n",
       "  '<RANDOM_BUF>',\n",
       "  '<LOAD_LIBRARY_SEARCH_SYSTEM>',\n",
       "  '<RANDOM>',\n",
       "  '<HAVE_SYSCALL_GETRANDOM>',\n",
       "  '<HAVE_GETRANDOM>',\n",
       "  '<__SCO__>',\n",
       "  '<__UNIXWARE__>',\n",
       "  '<TIOCSWINSZ>',\n",
       "  '<XML_DEV_URANDOM>',\n",
       "  '<_WIN>'],\n",
       " '<XML_POOR_ENTROPY>': [' -DXML_POOR_ENTROPY'],\n",
       " '<XML_UNICODE_WCHAR_T>': [' -DXML_UNICODE_WCHAR_T'],\n",
       " '<HAVE_ARC>': [' -DHAVE_ARC'],\n",
       " '<RANDOM_BUF>': [' -DRANDOM_BUF'],\n",
       " '<LOAD_LIBRARY_SEARCH_SYSTEM>': [' -DLOAD_LIBRARY_SEARCH_SYSTEM'],\n",
       " '<RANDOM>': [' -DRANDOM'],\n",
       " '<HAVE_SYSCALL_GETRANDOM>': [' -DHAVE_SYSCALL_GETRANDOM'],\n",
       " '<HAVE_GETRANDOM>': [' -DHAVE_GETRANDOM'],\n",
       " '<__SCO__>': [' -D__SCO__'],\n",
       " '<__UNIXWARE__>': [' -D__UNIXWARE__'],\n",
       " '<TIOCSWINSZ>': [' -DTIOCSWINSZ'],\n",
       " '<XML_DEV_URANDOM>': [' -DXML_DEV_URANDOM'],\n",
       " '<_WIN>': [' -D_WIN']}"
      ]
     },
     "execution_count": 120,
     "metadata": {},
     "output_type": "execute_result"
    }
   ],
   "source": [
    "cpp_grammar"
   ]
  },
  {
   "cell_type": "markdown",
   "metadata": {
    "slideshow": {
     "slide_type": "subslide"
    },
    "solution2": "hidden",
    "solution2_first": true
   },
   "source": [
    "#### Part 3: C Preprocessor Configuration Fuzzing\n",
    "\n",
    "Using the grammar just produced, use a `GrammarCoverageFuzzer` to\n",
    "\n",
    "1. Test each processor variable individually\n",
    "2. Test each pair of processor variables, using `pairwise()`.\n",
    "\n",
    "What happens if you actually run the invocations?"
   ]
  },
  {
   "cell_type": "markdown",
   "metadata": {
    "slideshow": {
     "slide_type": "skip"
    },
    "solution2": "hidden"
   },
   "source": [
    "**Solution.** We can simply run the coverage fuzzer, as described above."
   ]
  },
  {
   "cell_type": "code",
   "execution_count": 121,
   "metadata": {
    "execution": {
     "iopub.execute_input": "2024-01-18T16:35:34.770980Z",
     "iopub.status.busy": "2024-01-18T16:35:34.770861Z",
     "iopub.status.idle": "2024-01-18T16:35:34.773191Z",
     "shell.execute_reply": "2024-01-18T16:35:34.772934Z"
    },
    "slideshow": {
     "slide_type": "skip"
    },
    "solution2": "hidden"
   },
   "outputs": [
    {
     "data": {
      "text/plain": [
       "'cc -c -DHAVE_ARC xmlparse.c'"
      ]
     },
     "execution_count": 121,
     "metadata": {},
     "output_type": "execute_result"
    }
   ],
   "source": [
    "g = GrammarCoverageFuzzer(cpp_grammar)\n",
    "g.fuzz()"
   ]
  },
  {
   "cell_type": "code",
   "execution_count": 122,
   "metadata": {
    "execution": {
     "iopub.execute_input": "2024-01-18T16:35:34.774527Z",
     "iopub.status.busy": "2024-01-18T16:35:34.774426Z",
     "iopub.status.idle": "2024-01-18T16:35:34.775940Z",
     "shell.execute_reply": "2024-01-18T16:35:34.775710Z"
    },
    "slideshow": {
     "slide_type": "skip"
    },
    "solution2": "hidden"
   },
   "outputs": [],
   "source": [
    "from Fuzzer import ProgramRunner"
   ]
  },
  {
   "cell_type": "code",
   "execution_count": 123,
   "metadata": {
    "execution": {
     "iopub.execute_input": "2024-01-18T16:35:34.777295Z",
     "iopub.status.busy": "2024-01-18T16:35:34.777208Z",
     "iopub.status.idle": "2024-01-18T16:35:35.103136Z",
     "shell.execute_reply": "2024-01-18T16:35:35.102718Z"
    },
    "slideshow": {
     "slide_type": "skip"
    },
    "solution2": "hidden"
   },
   "outputs": [
    {
     "name": "stdout",
     "output_type": "stream",
     "text": [
      "$ cc -c -DXML_POOR_ENTROPY -DHAVE_SYSCALL_GETRANDOM -DTIOCSWINSZ -DRANDOM -D__SCO__ -D__UNIXWARE__ xmlparse.c\n",
      "$ cc -c -DXML_DEV_URANDOM xmlparse.c\n",
      "$ cc -c -DXML_UNICODE_WCHAR_T -D_WIN -DLOAD_LIBRARY_SEARCH_SYSTEM xmlparse.c\n",
      "xmlparse.c:7:3: error: \n",
      "# error\n",
      "  ^\n",
      "xmlparse.c:22:25: error: expected ')'\n",
      "int fun(int x) { return XML_T(x); }\n",
      "                        ^\n",
      "xmlparse.c:15:25: note: expanded from macro 'XML_T'\n",
      "#define XML_T(x) (const wchar_t)x\n",
      "                        ^\n",
      "xmlparse.c:22:25: note: to match this '('\n",
      "xmlparse.c:15:18: note: expanded from macro 'XML_T'\n",
      "#define XML_T(x) (const wchar_t)x\n",
      "                 ^\n",
      "xmlparse.c:22:25: warning: type specifier missing, defaults to 'int'; ISO C99 and later do not support implicit int [-Wimplicit-int]\n",
      "int fun(int x) { return XML_T(x); }\n",
      "                        ^~~~~~~~\n",
      "xmlparse.c:15:25: note: expanded from macro 'XML_T'\n",
      "#define XML_T(x) (const wchar_t)x\n",
      "                  ~~~~~ ^\n",
      "1 warning and 2 errors generated.\n",
      "$ cc -c -DHAVE_GETRANDOM -DRANDOM_BUF xmlparse.c\n",
      "$ cc -c -DRANDOM_BUF -DHAVE_SYSCALL_GETRANDOM -DLOAD_LIBRARY_SEARCH_SYSTEM xmlparse.c\n",
      "$ cc -c -DHAVE_GETRANDOM -D_WIN -DLOAD_LIBRARY_SEARCH_SYSTEM xmlparse.c\n",
      "$ cc -c -DXML_POOR_ENTROPY xmlparse.c\n",
      "$ cc -c -DHAVE_ARC -DXML_DEV_URANDOM -DHAVE_ARC xmlparse.c\n",
      "$ cc -c -DXML_POOR_ENTROPY -DHAVE_ARC xmlparse.c\n",
      "$ cc -c -DXML_DEV_URANDOM -D_WIN -DLOAD_LIBRARY_SEARCH_SYSTEM xmlparse.c\n"
     ]
    }
   ],
   "source": [
    "for i in range(10):\n",
    "    invocation = g.fuzz()\n",
    "    print(\"$\", invocation)\n",
    "    # subprocess.call(invocation, shell=True)\n",
    "    cc_runner = ProgramRunner(invocation.split(' '))\n",
    "    (result, outcome) = cc_runner.run()\n",
    "    print(result.stderr, end=\"\")"
   ]
  },
  {
   "cell_type": "markdown",
   "metadata": {
    "slideshow": {
     "slide_type": "skip"
    },
    "solution2": "hidden"
   },
   "source": [
    "To test all pairs, we can use `pairwise()`:"
   ]
  },
  {
   "cell_type": "code",
   "execution_count": 124,
   "metadata": {
    "execution": {
     "iopub.execute_input": "2024-01-18T16:35:35.104881Z",
     "iopub.status.busy": "2024-01-18T16:35:35.104754Z",
     "iopub.status.idle": "2024-01-18T16:35:35.107455Z",
     "shell.execute_reply": "2024-01-18T16:35:35.107203Z"
    },
    "slideshow": {
     "slide_type": "skip"
    },
    "solution2": "hidden"
   },
   "outputs": [
    {
     "data": {
      "text/plain": [
       "['<XML_POOR_ENTROPY><XML_UNICODE_WCHAR_T>',\n",
       " '<XML_POOR_ENTROPY><HAVE_ARC>',\n",
       " '<XML_POOR_ENTROPY><RANDOM_BUF>',\n",
       " '<XML_POOR_ENTROPY><LOAD_LIBRARY_SEARCH_SYSTEM>',\n",
       " '<XML_POOR_ENTROPY><RANDOM>',\n",
       " '<XML_POOR_ENTROPY><HAVE_SYSCALL_GETRANDOM>',\n",
       " '<XML_POOR_ENTROPY><HAVE_GETRANDOM>',\n",
       " '<XML_POOR_ENTROPY><__SCO__>',\n",
       " '<XML_POOR_ENTROPY><__UNIXWARE__>',\n",
       " '<XML_POOR_ENTROPY><TIOCSWINSZ>']"
      ]
     },
     "execution_count": 124,
     "metadata": {},
     "output_type": "execute_result"
    }
   ],
   "source": [
    "pairwise_cpp_grammar = extend_grammar(cpp_grammar)\n",
    "pairwise_cpp_grammar[\"<option>\"] = pairwise(cpp_grammar[\"<option>\"])\n",
    "pairwise_cpp_grammar[\"<option>\"][:10]"
   ]
  },
  {
   "cell_type": "code",
   "execution_count": 125,
   "metadata": {
    "execution": {
     "iopub.execute_input": "2024-01-18T16:35:35.108880Z",
     "iopub.status.busy": "2024-01-18T16:35:35.108771Z",
     "iopub.status.idle": "2024-01-18T16:35:35.423286Z",
     "shell.execute_reply": "2024-01-18T16:35:35.422900Z"
    },
    "slideshow": {
     "slide_type": "skip"
    },
    "solution2": "hidden"
   },
   "outputs": [
    {
     "name": "stdout",
     "output_type": "stream",
     "text": [
      "$ cc -c -DTIOCSWINSZ xmlparse.c\n",
      "xmlparse.c:7:3: error: \n",
      "# error\n",
      "  ^\n",
      "1 error generated.\n",
      "$ cc -c -DXML_UNICODE_WCHAR_T xmlparse.c\n",
      "xmlparse.c:7:3: error: \n",
      "# error\n",
      "  ^\n",
      "xmlparse.c:22:25: error: expected ')'\n",
      "int fun(int x) { return XML_T(x); }\n",
      "                        ^\n",
      "xmlparse.c:15:25: note: expanded from macro 'XML_T'\n",
      "#define XML_T(x) (const wchar_t)x\n",
      "                        ^\n",
      "xmlparse.c:22:25: note: to match this '('\n",
      "xmlparse.c:15:18: note: expanded from macro 'XML_T'\n",
      "#define XML_T(x) (const wchar_t)x\n",
      "                 ^\n",
      "xmlparse.c:22:25: warning: type specifier missing, defaults to 'int'; ISO C99 and later do not support implicit int [-Wimplicit-int]\n",
      "int fun(int x) { return XML_T(x); }\n",
      "                        ^~~~~~~~\n",
      "xmlparse.c:15:25: note: expanded from macro 'XML_T'\n",
      "#define XML_T(x) (const wchar_t)x\n",
      "                  ~~~~~ ^\n",
      "1 warning and 2 errors generated.\n",
      "$ cc -c -DTIOCSWINSZ -DHAVE_SYSCALL_GETRANDOM xmlparse.c\n",
      "$ cc -c -DRANDOM xmlparse.c\n",
      "xmlparse.c:7:3: error: \n",
      "# error\n",
      "  ^\n",
      "1 error generated.\n",
      "$ cc -c -DRANDOM_BUF -D_WIN -DLOAD_LIBRARY_SEARCH_SYSTEM xmlparse.c\n",
      "xmlparse.c:7:3: error: \n",
      "# error\n",
      "  ^\n",
      "1 error generated.\n",
      "$ cc -c -D__SCO__ xmlparse.c\n",
      "xmlparse.c:7:3: error: \n",
      "# error\n",
      "  ^\n",
      "1 error generated.\n",
      "$ cc -c -DRANDOM_BUF -D__UNIXWARE__ -DXML_POOR_ENTROPY xmlparse.c\n",
      "$ cc -c -D_WIN xmlparse.c\n",
      "xmlparse.c:7:3: error: \n",
      "# error\n",
      "  ^\n",
      "1 error generated.\n",
      "$ cc -c -DXML_UNICODE_WCHAR_T -DXML_POOR_ENTROPY xmlparse.c\n",
      "xmlparse.c:22:25: error: expected ')'\n",
      "int fun(int x) { return XML_T(x); }\n",
      "                        ^\n",
      "xmlparse.c:15:25: note: expanded from macro 'XML_T'\n",
      "#define XML_T(x) (const wchar_t)x\n",
      "                        ^\n",
      "xmlparse.c:22:25: note: to match this '('\n",
      "xmlparse.c:15:18: note: expanded from macro 'XML_T'\n",
      "#define XML_T(x) (const wchar_t)x\n",
      "                 ^\n",
      "xmlparse.c:22:25: warning: type specifier missing, defaults to 'int'; ISO C99 and later do not support implicit int [-Wimplicit-int]\n",
      "int fun(int x) { return XML_T(x); }\n",
      "                        ^~~~~~~~\n",
      "xmlparse.c:15:25: note: expanded from macro 'XML_T'\n",
      "#define XML_T(x) (const wchar_t)x\n",
      "                  ~~~~~ ^\n",
      "1 warning and 1 error generated.\n",
      "$ cc -c -DHAVE_ARC xmlparse.c\n",
      "xmlparse.c:7:3: error: \n",
      "# error\n",
      "  ^\n",
      "1 error generated.\n"
     ]
    }
   ],
   "source": [
    "for i in range(10):\n",
    "    invocation = g.fuzz()\n",
    "    print(\"$\", invocation)\n",
    "    # subprocess.call(invocation, shell=True)\n",
    "    cc_runner = ProgramRunner(invocation.split(' '))\n",
    "    (result, outcome) = cc_runner.run()\n",
    "    print(result.stderr, end=\"\")"
   ]
  },
  {
   "cell_type": "markdown",
   "metadata": {
    "slideshow": {
     "slide_type": "skip"
    },
    "solution2": "hidden"
   },
   "source": [
    "Some of the compilation errors we get could be expected – for instance, defining `XML_UNICODE_WCHAR_T` when actually, the type is not supported in our environment.  Other errors may not be expected – and it is these errors we would find through systematic configuration fuzzing, as described above."
   ]
  },
  {
   "cell_type": "markdown",
   "metadata": {
    "slideshow": {
     "slide_type": "skip"
    },
    "solution2": "hidden"
   },
   "source": [
    "At the end, don't forget to clean up:"
   ]
  },
  {
   "cell_type": "code",
   "execution_count": 126,
   "metadata": {
    "execution": {
     "iopub.execute_input": "2024-01-18T16:35:35.425087Z",
     "iopub.status.busy": "2024-01-18T16:35:35.424947Z",
     "iopub.status.idle": "2024-01-18T16:35:35.427186Z",
     "shell.execute_reply": "2024-01-18T16:35:35.426814Z"
    },
    "slideshow": {
     "slide_type": "skip"
    },
    "solution2": "hidden",
    "solution2_first": true
   },
   "outputs": [],
   "source": [
    "os.remove(\"xmlparse.c\")"
   ]
  },
  {
   "cell_type": "code",
   "execution_count": 127,
   "metadata": {
    "execution": {
     "iopub.execute_input": "2024-01-18T16:35:35.429102Z",
     "iopub.status.busy": "2024-01-18T16:35:35.428891Z",
     "iopub.status.idle": "2024-01-18T16:35:35.430728Z",
     "shell.execute_reply": "2024-01-18T16:35:35.430470Z"
    },
    "slideshow": {
     "slide_type": "skip"
    },
    "solution2": "hidden",
    "solution2_first": true
   },
   "outputs": [],
   "source": [
    "if os.path.exists(\"xmlparse.o\"):\n",
    "    os.remove(\"xmlparse.o\")"
   ]
  },
  {
   "attachments": {},
   "cell_type": "markdown",
   "metadata": {
    "button": false,
    "new_sheet": false,
    "run_control": {
     "read_only": false
    },
    "slideshow": {
     "slide_type": "subslide"
    },
    "toc-hr-collapsed": true
   },
   "source": [
    "### Exercise 2: .ini Configuration Fuzzing\n",
    "\n",
    "Besides command-line options, _configuration files_ are another important source of configurations.  In this exercise, we will consider the very simple configuration language provided by the Python `ConfigParser` module, which is very similar to what is found in Microsoft Windows _.ini_ files."
   ]
  },
  {
   "cell_type": "markdown",
   "metadata": {
    "button": false,
    "new_sheet": false,
    "run_control": {
     "read_only": false
    },
    "slideshow": {
     "slide_type": "subslide"
    }
   },
   "source": [
    "The following example for a `ConfigParser` input file stems right from [the ConfigParser documentation](https://docs.python.org/3/library/configparser.html):\n",
    "```\n",
    "[DEFAULT]\n",
    "ServerAliveInterval = 45\n",
    "Compression = yes\n",
    "CompressionLevel = 9\n",
    "ForwardX11 = yes\n",
    "\n",
    "[bitbucket.org]\n",
    "User = hg\n",
    "\n",
    "[topsecret.server.com]\n",
    "Port = 50022\n",
    "ForwardX11 = no\n",
    "```"
   ]
  },
  {
   "cell_type": "markdown",
   "metadata": {
    "slideshow": {
     "slide_type": "subslide"
    }
   },
   "source": [
    "The above `ConfigParser` file can be created programmatically:"
   ]
  },
  {
   "cell_type": "code",
   "execution_count": 128,
   "metadata": {
    "execution": {
     "iopub.execute_input": "2024-01-18T16:35:35.432236Z",
     "iopub.status.busy": "2024-01-18T16:35:35.432123Z",
     "iopub.status.idle": "2024-01-18T16:35:35.433652Z",
     "shell.execute_reply": "2024-01-18T16:35:35.433412Z"
    },
    "slideshow": {
     "slide_type": "skip"
    }
   },
   "outputs": [],
   "source": [
    "import configparser"
   ]
  },
  {
   "cell_type": "code",
   "execution_count": 129,
   "metadata": {
    "execution": {
     "iopub.execute_input": "2024-01-18T16:35:35.435099Z",
     "iopub.status.busy": "2024-01-18T16:35:35.434994Z",
     "iopub.status.idle": "2024-01-18T16:35:35.438336Z",
     "shell.execute_reply": "2024-01-18T16:35:35.438081Z"
    },
    "slideshow": {
     "slide_type": "subslide"
    }
   },
   "outputs": [
    {
     "name": "stdout",
     "output_type": "stream",
     "text": [
      "[DEFAULT]\n",
      "serveraliveinterval = 45\n",
      "compression = yes\n",
      "compressionlevel = 9\n",
      "forwardx11 = yes\n",
      "\n",
      "[bitbucket.org]\n",
      "user = hg\n",
      "\n",
      "[topsecret.server.com]\n",
      "port = 50022\n",
      "forwardx11 = no\n",
      "\n"
     ]
    }
   ],
   "source": [
    "config = configparser.ConfigParser()\n",
    "config['DEFAULT'] = {'ServerAliveInterval': '45',\n",
    "                     'Compression': 'yes',\n",
    "                     'CompressionLevel': '9'}\n",
    "config['bitbucket.org'] = {}\n",
    "config['bitbucket.org']['User'] = 'hg'\n",
    "config['topsecret.server.com'] = {}\n",
    "topsecret = config['topsecret.server.com']\n",
    "topsecret['Port'] = '50022'     # mutates the parser\n",
    "topsecret['ForwardX11'] = 'no'  # same here\n",
    "config['DEFAULT']['ForwardX11'] = 'yes'\n",
    "with open('example.ini', 'w') as configfile:\n",
    "    config.write(configfile)\n",
    "\n",
    "with open('example.ini') as configfile:\n",
    "    print(configfile.read(), end=\"\")"
   ]
  },
  {
   "cell_type": "markdown",
   "metadata": {
    "slideshow": {
     "slide_type": "subslide"
    }
   },
   "source": [
    "and be read in again:"
   ]
  },
  {
   "cell_type": "code",
   "execution_count": 130,
   "metadata": {
    "cell_style": "center",
    "execution": {
     "iopub.execute_input": "2024-01-18T16:35:35.439903Z",
     "iopub.status.busy": "2024-01-18T16:35:35.439776Z",
     "iopub.status.idle": "2024-01-18T16:35:35.442708Z",
     "shell.execute_reply": "2024-01-18T16:35:35.442418Z"
    },
    "slideshow": {
     "slide_type": "fragment"
    }
   },
   "outputs": [
    {
     "data": {
      "text/plain": [
       "'50022'"
      ]
     },
     "execution_count": 130,
     "metadata": {},
     "output_type": "execute_result"
    }
   ],
   "source": [
    "config = configparser.ConfigParser()\n",
    "config.read('example.ini')\n",
    "topsecret = config['topsecret.server.com']\n",
    "topsecret['Port']"
   ]
  },
  {
   "cell_type": "markdown",
   "metadata": {
    "slideshow": {
     "slide_type": "subslide"
    }
   },
   "source": [
    "#### Part 1: Read Configuration\n",
    "\n",
    "Using `configparser`, create a program reading in the above configuration file and accessing the individual elements."
   ]
  },
  {
   "cell_type": "markdown",
   "metadata": {
    "slideshow": {
     "slide_type": "subslide"
    }
   },
   "source": [
    "#### Part 2: Create a Configuration Grammar\n",
    "\n",
    "Design a grammar that will automatically create configuration files suitable for your above program.  Fuzz your program with it."
   ]
  },
  {
   "cell_type": "markdown",
   "metadata": {
    "slideshow": {
     "slide_type": "subslide"
    }
   },
   "source": [
    "#### Part 3: Mine a Configuration Grammar\n",
    "\n",
    "By dynamically tracking the individual accesses to configuration elements, you can again extract a basic grammar from the execution.  To this end, create a subclass of `ConfigParser` with a special method `__getitem__`:"
   ]
  },
  {
   "cell_type": "code",
   "execution_count": 131,
   "metadata": {
    "execution": {
     "iopub.execute_input": "2024-01-18T16:35:35.444363Z",
     "iopub.status.busy": "2024-01-18T16:35:35.444254Z",
     "iopub.status.idle": "2024-01-18T16:35:35.446176Z",
     "shell.execute_reply": "2024-01-18T16:35:35.445940Z"
    },
    "slideshow": {
     "slide_type": "fragment"
    },
    "solution2": "hidden",
    "solution2_first": true
   },
   "outputs": [],
   "source": [
    "class TrackingConfigParser(configparser.ConfigParser):\n",
    "    def __getitem__(self, key):\n",
    "        print(\"Accessing\", repr(key))\n",
    "        return super().__getitem__(key)"
   ]
  },
  {
   "cell_type": "markdown",
   "metadata": {
    "slideshow": {
     "slide_type": "fragment"
    }
   },
   "source": [
    "For a `TrackingConfigParser` object `p`, `p.__getitem__(key)` will be invoked whenever `p[key]` is accessed:"
   ]
  },
  {
   "cell_type": "code",
   "execution_count": 132,
   "metadata": {
    "execution": {
     "iopub.execute_input": "2024-01-18T16:35:35.447569Z",
     "iopub.status.busy": "2024-01-18T16:35:35.447462Z",
     "iopub.status.idle": "2024-01-18T16:35:35.449564Z",
     "shell.execute_reply": "2024-01-18T16:35:35.449316Z"
    },
    "slideshow": {
     "slide_type": "subslide"
    }
   },
   "outputs": [
    {
     "name": "stdout",
     "output_type": "stream",
     "text": [
      "Accessing 'topsecret.server.com'\n"
     ]
    }
   ],
   "source": [
    "tracking_config_parser = TrackingConfigParser()\n",
    "tracking_config_parser.read('example.ini')\n",
    "section = tracking_config_parser['topsecret.server.com']"
   ]
  },
  {
   "cell_type": "markdown",
   "metadata": {
    "slideshow": {
     "slide_type": "fragment"
    }
   },
   "source": [
    "Using `__getitem__()`, as above, implement a tracking mechanism that, while your program accesses the read configuration, automatically saves options accessed and values read.  Create a prototype grammar from these values; use it for fuzzing."
   ]
  },
  {
   "cell_type": "markdown",
   "metadata": {
    "slideshow": {
     "slide_type": "skip"
    }
   },
   "source": [
    "At the end, don't forget to clean up:"
   ]
  },
  {
   "cell_type": "code",
   "execution_count": 133,
   "metadata": {
    "execution": {
     "iopub.execute_input": "2024-01-18T16:35:35.451025Z",
     "iopub.status.busy": "2024-01-18T16:35:35.450924Z",
     "iopub.status.idle": "2024-01-18T16:35:35.452460Z",
     "shell.execute_reply": "2024-01-18T16:35:35.452199Z"
    },
    "slideshow": {
     "slide_type": "skip"
    }
   },
   "outputs": [],
   "source": [
    "import os"
   ]
  },
  {
   "cell_type": "code",
   "execution_count": 134,
   "metadata": {
    "execution": {
     "iopub.execute_input": "2024-01-18T16:35:35.454024Z",
     "iopub.status.busy": "2024-01-18T16:35:35.453899Z",
     "iopub.status.idle": "2024-01-18T16:35:35.455632Z",
     "shell.execute_reply": "2024-01-18T16:35:35.455383Z"
    },
    "slideshow": {
     "slide_type": "skip"
    },
    "solution2": "hidden",
    "solution2_first": true
   },
   "outputs": [],
   "source": [
    "os.remove(\"example.ini\")"
   ]
  },
  {
   "cell_type": "markdown",
   "metadata": {
    "slideshow": {
     "slide_type": "skip"
    },
    "solution2": "hidden"
   },
   "source": [
    "**Solution.** Left to the reader.  Enjoy!"
   ]
  },
  {
   "cell_type": "markdown",
   "metadata": {
    "button": false,
    "new_sheet": false,
    "run_control": {
     "read_only": false
    },
    "slideshow": {
     "slide_type": "subslide"
    },
    "toc-hr-collapsed": true
   },
   "source": [
    "### Exercise 3: Extracting and Fuzzing C Command-Line Options\n",
    "\n",
    "In C programs, the `getopt()` function are frequently used to process configuration options.  A call\n",
    "\n",
    "```\n",
    "getopt(argc, argv, \"bf:\")\n",
    "```\n",
    "\n",
    "indicates that the program accepts two options `-b` and `-f`, with `-f` taking an argument (as indicated by the following colon)."
   ]
  },
  {
   "cell_type": "markdown",
   "metadata": {
    "cell_style": "center",
    "slideshow": {
     "slide_type": "subslide"
    },
    "solution2": "hidden",
    "solution2_first": true
   },
   "source": [
    "#### Part 1: Getopt Fuzzing\n",
    "\n",
    "Write a framework which, for a given C program, automatically extracts the argument to `getopt()` and derives a fuzzing grammar for it.  There are multiple ways to achieve this:\n",
    "\n",
    "1. Scan the program source code for occurrences of `getopt()` and return the string passed.  (Crude, but should frequently work.)\n",
    "2. Insert your own implementation of `getopt()` into the source code (effectively replacing `getopt()` from the runtime library), which outputs the `getopt()` argument and exits the program.  Recompile and run.\n",
    "3. (Advanced.) As above, but instead of changing the source code, hook into the _dynamic linker_ which at runtime links the program with the C runtime library.  Set the library loading path (on Linux and Unix, this is the `LD_LIBRARY_PATH` environment variable) such that your own version of `getopt()` is linked first, and the regular libraries later.  Executing the program (without recompiling) should yield the desired result.\n",
    "\n",
    "Apply this on `grep` and `ls`; report the resulting grammars and results."
   ]
  },
  {
   "cell_type": "markdown",
   "metadata": {
    "slideshow": {
     "slide_type": "skip"
    },
    "solution2": "hidden"
   },
   "source": [
    "**Solution.** Left to the reader.  Enjoy hacking!"
   ]
  },
  {
   "cell_type": "markdown",
   "metadata": {
    "slideshow": {
     "slide_type": "subslide"
    },
    "solution2": "hidden",
    "solution2_first": true
   },
   "source": [
    "#### Part 2: Fuzzing Long Options in C\n",
    "\n",
    "Same as Part 1, but also hook into the GNU variant `getopt_long()`, which accepts \"long\" arguments with double dashes such as `--help`.  Note that method 1, above, will not work here, since the \"long\" options are defined in a separately defined structure."
   ]
  },
  {
   "cell_type": "markdown",
   "metadata": {
    "slideshow": {
     "slide_type": "skip"
    },
    "solution2": "hidden"
   },
   "source": [
    "**Solution.** Left to the reader.  Enjoy hacking!"
   ]
  },
  {
   "cell_type": "markdown",
   "metadata": {
    "button": false,
    "new_sheet": false,
    "run_control": {
     "read_only": false
    },
    "slideshow": {
     "slide_type": "subslide"
    }
   },
   "source": [
    "### Exercise 4: Expansions in Context\n",
    "\n",
    "In our above option configurations, we have multiple symbols which all expand to the same integer.  For instance, the `--line-range` option of `autopep8` takes two `<line>` parameters which both expand into the same `<int>` symbol:\n",
    "\n",
    "```\n",
    "<option> ::= ... | --line-range <line> <line> | ...\n",
    "<line> ::= <int>\n",
    "<int> ::= (-)?<digit>+\n",
    "<digit> ::= 0 | 1 | 2 | 3 | 4 | 5 | 6 | 7 | 8 | 9\n",
    "```"
   ]
  },
  {
   "cell_type": "code",
   "execution_count": 135,
   "metadata": {
    "cell_style": "center",
    "execution": {
     "iopub.execute_input": "2024-01-18T16:35:35.457480Z",
     "iopub.status.busy": "2024-01-18T16:35:35.457354Z",
     "iopub.status.idle": "2024-01-18T16:35:35.459555Z",
     "shell.execute_reply": "2024-01-18T16:35:35.459286Z"
    },
    "slideshow": {
     "slide_type": "subslide"
    }
   },
   "outputs": [
    {
     "data": {
      "text/plain": [
       "['<int>']"
      ]
     },
     "execution_count": 135,
     "metadata": {},
     "output_type": "execute_result"
    }
   ],
   "source": [
    "autopep8_runner.ebnf_grammar()[\"<line>\"]"
   ]
  },
  {
   "cell_type": "code",
   "execution_count": 136,
   "metadata": {
    "cell_style": "center",
    "execution": {
     "iopub.execute_input": "2024-01-18T16:35:35.461035Z",
     "iopub.status.busy": "2024-01-18T16:35:35.460923Z",
     "iopub.status.idle": "2024-01-18T16:35:35.462964Z",
     "shell.execute_reply": "2024-01-18T16:35:35.462726Z"
    },
    "slideshow": {
     "slide_type": "fragment"
    }
   },
   "outputs": [
    {
     "data": {
      "text/plain": [
       "['(-)?<digit>+']"
      ]
     },
     "execution_count": 136,
     "metadata": {},
     "output_type": "execute_result"
    }
   ],
   "source": [
    "autopep8_runner.ebnf_grammar()[\"<int>\"]"
   ]
  },
  {
   "cell_type": "code",
   "execution_count": 137,
   "metadata": {
    "execution": {
     "iopub.execute_input": "2024-01-18T16:35:35.464362Z",
     "iopub.status.busy": "2024-01-18T16:35:35.464259Z",
     "iopub.status.idle": "2024-01-18T16:35:35.466335Z",
     "shell.execute_reply": "2024-01-18T16:35:35.466101Z"
    },
    "slideshow": {
     "slide_type": "fragment"
    }
   },
   "outputs": [
    {
     "data": {
      "text/plain": [
       "['0', '1', '2', '3', '4', '5', '6', '7', '8', '9']"
      ]
     },
     "execution_count": 137,
     "metadata": {},
     "output_type": "execute_result"
    }
   ],
   "source": [
    "autopep8_runner.ebnf_grammar()[\"<digit>\"]"
   ]
  },
  {
   "cell_type": "markdown",
   "metadata": {
    "slideshow": {
     "slide_type": "fragment"
    }
   },
   "source": [
    "Once the `GrammarCoverageFuzzer` has covered all variations of `<int>` (especially by covering all digits) for _one_ option, though, it will no longer strive to achieve such coverage for the next option.  Yet, it could be desirable to achieve such coverage for each option separately."
   ]
  },
  {
   "cell_type": "markdown",
   "metadata": {
    "slideshow": {
     "slide_type": "subslide"
    }
   },
   "source": [
    "One way to achieve this with our existing `GrammarCoverageFuzzer` is again to change the grammar accordingly.  The idea is to _duplicate_ expansions – that is, to replace an expansion of a symbol $s$ with a new symbol $s'$ whose definition is duplicated from $s$.  This way, $s'$ and $s$ are separate symbols from a coverage point of view and would be independently covered."
   ]
  },
  {
   "cell_type": "markdown",
   "metadata": {
    "slideshow": {
     "slide_type": "subslide"
    }
   },
   "source": [
    "As an example, consider again the above `--line-range` option.  If we want our tests to independently cover all elements of the two `<line>` parameters, we can duplicate the second `<line>` expansion into a new symbol `<line'>` with subsequent duplicated expansions:\n",
    "```\n",
    "<option> ::= ... | --line-range <line> <line'> | ...\n",
    "<line> ::= <int>\n",
    "<line'> ::= <int'>\n",
    "<int> ::= (-)?<digit>+\n",
    "<int'> ::= (-)?<digit'>+\n",
    "<digit> ::= 0 | 1 | 2 | 3 | 4 | 5 | 6 | 7 | 8 | 9\n",
    "<digit'> ::= 0 | 1 | 2 | 3 | 4 | 5 | 6 | 7 | 8 | 9\n",
    "```"
   ]
  },
  {
   "cell_type": "markdown",
   "metadata": {
    "slideshow": {
     "slide_type": "subslide"
    }
   },
   "source": [
    "Design a function `inline(grammar, symbol)` that returns a duplicate of `grammar` in which every occurrence of `<symbol>` and its expansions become separate copies.  The above grammar could be a result of `inline(autopep8_runner.ebnf_grammar(), \"<line>\")`."
   ]
  },
  {
   "cell_type": "markdown",
   "metadata": {
    "slideshow": {
     "slide_type": "subslide"
    }
   },
   "source": [
    "When copying, expansions in the copy should also refer to symbols in the copy.  Hence, when expanding `<int>` in\n",
    "\n",
    "```<int> ::= <int><digit>```\n",
    "\n",
    "make that\n",
    "\n",
    "```<int> ::= <int><digit>\n",
    "<int'> ::= <int'><digit'>\n",
    "```\n",
    "\n",
    "(and not `<int'> ::= <int><digit'>` or `<int'> ::= <int><digit>`)."
   ]
  },
  {
   "cell_type": "markdown",
   "metadata": {
    "slideshow": {
     "slide_type": "subslide"
    },
    "solution2": "hidden",
    "solution2_first": true
   },
   "source": [
    "Be sure to add precisely one new set of symbols for each occurrence in the original grammar, and not to expand further in the presence of recursion."
   ]
  },
  {
   "cell_type": "markdown",
   "metadata": {
    "slideshow": {
     "slide_type": "skip"
    },
    "solution2": "hidden"
   },
   "source": [
    "**Solution.** Again, left to the reader.  Enjoy!"
   ]
  }
 ],
 "metadata": {
  "ipub": {
   "bibliography": "fuzzingbook.bib",
   "toc": true
  },
  "kernelspec": {
   "display_name": "Python 3 (ipykernel)",
   "language": "python",
   "name": "python3"
  },
  "language_info": {
   "codemirror_mode": {
    "name": "ipython",
    "version": 3
   },
   "file_extension": ".py",
   "mimetype": "text/x-python",
   "name": "python",
   "nbconvert_exporter": "python",
   "pygments_lexer": "ipython3",
   "version": "3.10.2"
  },
  "toc": {
   "base_numbering": 1,
   "nav_menu": {},
   "number_sections": true,
   "sideBar": true,
   "skip_h1_title": true,
   "title_cell": "",
   "title_sidebar": "Contents",
   "toc_cell": false,
   "toc_position": {},
   "toc_section_display": true,
   "toc_window_display": true
  },
  "toc-autonumbering": false
 },
 "nbformat": 4,
 "nbformat_minor": 4
}