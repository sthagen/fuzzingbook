{
 "cells": [
  {
   "cell_type": "markdown",
   "metadata": {
    "button": false,
    "new_sheet": false,
    "run_control": {
     "read_only": false
    },
    "slideshow": {
     "slide_type": "slide"
    },
    "tags": []
   },
   "source": [
    "# Mutation-Based Fuzzing\n",
    "\n",
    "Most [randomly generated inputs](Fuzzer.ipynb) are syntactically _invalid_ and thus are quickly rejected by the processing program.  To exercise functionality beyond input processing, we must increase chances to obtain valid inputs.  One such way is so-called *mutational fuzzing* – that is, introducing small changes to existing inputs that may still keep the input valid, yet exercise new behavior.  We show how to create such mutations, and how to guide them towards yet uncovered code, applying central concepts from the popular AFL fuzzer."
   ]
  },
  {
   "cell_type": "code",
   "execution_count": 1,
   "metadata": {
    "execution": {
     "iopub.execute_input": "2022-08-01T12:58:25.232926Z",
     "iopub.status.busy": "2022-08-01T12:58:25.232778Z",
     "iopub.status.idle": "2022-08-01T12:58:25.290566Z",
     "shell.execute_reply": "2022-08-01T12:58:25.290284Z"
    },
    "slideshow": {
     "slide_type": "skip"
    }
   },
   "outputs": [
    {
     "data": {
      "text/html": [
       "\n",
       "        <iframe\n",
       "            width=\"640\"\n",
       "            height=\"360\"\n",
       "            src=\"https://www.youtube-nocookie.com/embed/5ROhc_42jQU\"\n",
       "            frameborder=\"0\"\n",
       "            allowfullscreen\n",
       "            \n",
       "        ></iframe>\n",
       "        "
      ],
      "text/plain": [
       "<IPython.lib.display.IFrame at 0x106919190>"
      ]
     },
     "execution_count": 1,
     "metadata": {},
     "output_type": "execute_result"
    }
   ],
   "source": [
    "from bookutils import YouTubeVideo\n",
    "YouTubeVideo('5ROhc_42jQU')"
   ]
  },
  {
   "cell_type": "markdown",
   "metadata": {
    "button": false,
    "new_sheet": false,
    "run_control": {
     "read_only": false
    },
    "slideshow": {
     "slide_type": "skip"
    }
   },
   "source": [
    "**Prerequisites**\n",
    "\n",
    "* You should know how basic fuzzing works; for instance, from the [\"Fuzzing\"](Fuzzer.ipynb) chapter.\n",
    "* You should understand the basics of [obtaining coverage](Coverage.ipynb)."
   ]
  },
  {
   "cell_type": "markdown",
   "metadata": {
    "slideshow": {
     "slide_type": "skip"
    }
   },
   "source": [
    "## Synopsis\n",
    "<!-- Automatically generated. Do not edit. -->\n",
    "\n",
    "To [use the code provided in this chapter](Importing.ipynb), write\n",
    "\n",
    "```python\n",
    ">>> from fuzzingbook.MutationFuzzer import <identifier>\n",
    "```\n",
    "\n",
    "and then make use of the following features.\n",
    "\n",
    "\n",
    "This chapter introduces a `MutationFuzzer` class that takes a list of _seed inputs_ which are then mutated:\n",
    "\n",
    "```python\n",
    ">>> seed_input = \"http://www.google.com/search?q=fuzzing\"\n",
    ">>> mutation_fuzzer = MutationFuzzer(seed=[seed_input])\n",
    ">>> [mutation_fuzzer.fuzz() for i in range(10)]\n",
    "['http://www.google.com/search?q=fuzzing',\n",
    " '=http:/.www.googje.om/;earch?q5fuzzing',\n",
    " 'http://wwqw.googLle.com/sgearch?q=fuzzing',\n",
    " 'ht,tp*//www.ggogle.com/search?a=fuzzing',\n",
    " \"h(tpy:/wGw.goo'l%.com/searc?q=fuz~ing\",\n",
    " 'hp://www.gooelecom/)search?q=fuz?zing?',\n",
    " \"httpv//www.goo6gl.#om'search?q=Puzzin\",\n",
    " 'htp://www.gogle.com/search?q#W=fuzzng',\n",
    " 'http://www.google.com</searc?q=fzzinw',\n",
    " '`ttp:b/www.googe.bom/seeRch?q=f5zYzizng']\n",
    "```\n",
    "The `MutationCoverageFuzzer` maintains a _population_ of inputs, which are then evolved in order to maximize coverage.\n",
    "\n",
    "```python\n",
    ">>> mutation_fuzzer = MutationCoverageFuzzer(seed=[seed_input])\n",
    ">>> mutation_fuzzer.runs(http_runner, trials=10000)\n",
    ">>> mutation_fuzzer.population[:5]\n",
    "['http://www.google.com/search?q=fuzzing',\n",
    " 'http://~www.goog|eV.com/search?q=fuzzing',\n",
    " 'http://~www.goog|eV._co/seazc>q=fuzzing.',\n",
    " 'http://~www.go/og|eVcom_/ser#h?vq=fqzzisne',\n",
    " 'http://~www.goo|T.co/xsazc>]q=fu:zing']\n",
    "```\n",
    "![](PICS/MutationFuzzer-synopsis-1.svg)\n",
    "\n"
   ]
  },
  {
   "cell_type": "markdown",
   "metadata": {
    "button": false,
    "new_sheet": false,
    "run_control": {
     "read_only": false
    },
    "slideshow": {
     "slide_type": "slide"
    }
   },
   "source": [
    "## Fuzzing with Mutations\n",
    "\n",
    "On November 2013, the first version of [American Fuzzy Lop](http://lcamtuf.coredump.cx/afl/) (AFL) was released. Since then, AFL has become one of the most successful fuzzing tools and comes in many flavours, e.g., [AFLFast](https://github.com/mboehme/aflfast), [AFLGo](https://github.com/aflgo/aflgo), and [AFLSmart](https://github.com/aflsmart/aflsmart) (which are discussed in this book). AFL has made fuzzing a popular choice for automated vulnerability detection. It was the first to demonstrate that vulnerabilities can be detected automatically at a large scale in many security-critical, real-world applications.\n",
    "\n",
    "![American Fuzzy Lop Command Line User Interface](PICS/afl_screen.png)\n",
    "<center><b>Figure 1.</b> American Fuzzy Lop Command Line User Interface</center>\n",
    "\n",
    "In this chapter, we are going to introduce the basics of mutational fuzz testing; the next chapter will then further show how to direct fuzzing towards specific code goals."
   ]
  },
  {
   "cell_type": "markdown",
   "metadata": {
    "button": false,
    "new_sheet": false,
    "run_control": {
     "read_only": false
    },
    "slideshow": {
     "slide_type": "slide"
    }
   },
   "source": [
    "## Fuzzing a URL Parser\n",
    "\n",
    "Many programs expect their inputs to come in a very specific format before they would actually process them.  As an example, think of a program that accepts a URL (a Web address).  The URL has to be in a valid format (i.e., the URL format) such that the program can deal with it.  When fuzzing with random inputs, what are our chances to actually produce a valid URL?"
   ]
  },
  {
   "cell_type": "markdown",
   "metadata": {
    "button": false,
    "new_sheet": false,
    "run_control": {
     "read_only": false
    },
    "slideshow": {
     "slide_type": "subslide"
    }
   },
   "source": [
    "To get deeper into the problem, let us explore what URLs are made of.  A URL consists of a number of elements:\n",
    "\n",
    "    scheme://netloc/path?query#fragment\n",
    "    \n",
    "where\n",
    "\n",
    "* `scheme` is the protocol to be used, including `http`, `https`, `ftp`, `file`...\n",
    "* `netloc` is the name of the host to connect to, such as `www.google.com`\n",
    "* `path` is the path on that very host, such as `search`\n",
    "* `query` is a list of key/value pairs, such as `q=fuzzing`\n",
    "* `fragment` is a marker for a location in the retrieved document, such as `#result`"
   ]
  },
  {
   "cell_type": "markdown",
   "metadata": {
    "button": false,
    "new_sheet": false,
    "run_control": {
     "read_only": false
    },
    "slideshow": {
     "slide_type": "subslide"
    }
   },
   "source": [
    "In Python, we can use the `urlparse()` function to parse and decompose a URL into its parts."
   ]
  },
  {
   "cell_type": "code",
   "execution_count": 2,
   "metadata": {
    "button": false,
    "execution": {
     "iopub.execute_input": "2022-08-01T12:58:25.306324Z",
     "iopub.status.busy": "2022-08-01T12:58:25.306131Z",
     "iopub.status.idle": "2022-08-01T12:58:25.308095Z",
     "shell.execute_reply": "2022-08-01T12:58:25.307785Z"
    },
    "new_sheet": false,
    "run_control": {
     "read_only": false
    },
    "slideshow": {
     "slide_type": "skip"
    }
   },
   "outputs": [],
   "source": [
    "import bookutils"
   ]
  },
  {
   "cell_type": "code",
   "execution_count": 3,
   "metadata": {
    "execution": {
     "iopub.execute_input": "2022-08-01T12:58:25.310165Z",
     "iopub.status.busy": "2022-08-01T12:58:25.310047Z",
     "iopub.status.idle": "2022-08-01T12:58:25.311743Z",
     "shell.execute_reply": "2022-08-01T12:58:25.311426Z"
    },
    "slideshow": {
     "slide_type": "skip"
    }
   },
   "outputs": [],
   "source": [
    "from typing import Tuple, List, Callable, Set, Any"
   ]
  },
  {
   "cell_type": "code",
   "execution_count": 4,
   "metadata": {
    "button": false,
    "execution": {
     "iopub.execute_input": "2022-08-01T12:58:25.313496Z",
     "iopub.status.busy": "2022-08-01T12:58:25.313369Z",
     "iopub.status.idle": "2022-08-01T12:58:25.315088Z",
     "shell.execute_reply": "2022-08-01T12:58:25.314845Z"
    },
    "new_sheet": false,
    "run_control": {
     "read_only": false
    },
    "slideshow": {
     "slide_type": "fragment"
    }
   },
   "outputs": [],
   "source": [
    "from urllib.parse import urlparse"
   ]
  },
  {
   "cell_type": "code",
   "execution_count": 5,
   "metadata": {
    "button": false,
    "execution": {
     "iopub.execute_input": "2022-08-01T12:58:25.316596Z",
     "iopub.status.busy": "2022-08-01T12:58:25.316471Z",
     "iopub.status.idle": "2022-08-01T12:58:25.318734Z",
     "shell.execute_reply": "2022-08-01T12:58:25.318461Z"
    },
    "new_sheet": false,
    "run_control": {
     "read_only": false
    },
    "slideshow": {
     "slide_type": "fragment"
    }
   },
   "outputs": [
    {
     "data": {
      "text/plain": [
       "ParseResult(scheme='http', netloc='www.google.com', path='/search', params='', query='q=fuzzing', fragment='')"
      ]
     },
     "execution_count": 5,
     "metadata": {},
     "output_type": "execute_result"
    }
   ],
   "source": [
    "urlparse(\"http://www.google.com/search?q=fuzzing\")"
   ]
  },
  {
   "cell_type": "markdown",
   "metadata": {
    "button": false,
    "new_sheet": false,
    "run_control": {
     "read_only": false
    },
    "slideshow": {
     "slide_type": "fragment"
    }
   },
   "source": [
    "We see how the result encodes the individual parts of the URL in different attributes."
   ]
  },
  {
   "cell_type": "markdown",
   "metadata": {
    "button": false,
    "new_sheet": false,
    "run_control": {
     "read_only": false
    },
    "slideshow": {
     "slide_type": "subslide"
    }
   },
   "source": [
    "Let us now assume we have a program that takes a URL as input.  To simplify things, we won't let it do very much; we simply have it check the passed URL for validity.  If the URL is valid, it returns True; otherwise, it raises an exception."
   ]
  },
  {
   "cell_type": "code",
   "execution_count": 6,
   "metadata": {
    "button": false,
    "execution": {
     "iopub.execute_input": "2022-08-01T12:58:25.320266Z",
     "iopub.status.busy": "2022-08-01T12:58:25.320166Z",
     "iopub.status.idle": "2022-08-01T12:58:25.322380Z",
     "shell.execute_reply": "2022-08-01T12:58:25.322124Z"
    },
    "new_sheet": false,
    "run_control": {
     "read_only": false
    },
    "slideshow": {
     "slide_type": "fragment"
    }
   },
   "outputs": [],
   "source": [
    "def http_program(url: str) -> bool:\n",
    "    supported_schemes = [\"http\", \"https\"]\n",
    "    result = urlparse(url)\n",
    "    if result.scheme not in supported_schemes:\n",
    "        raise ValueError(\"Scheme must be one of \" + \n",
    "                         repr(supported_schemes))\n",
    "    if result.netloc == '':\n",
    "        raise ValueError(\"Host must be non-empty\")\n",
    "\n",
    "    # Do something with the URL\n",
    "    return True"
   ]
  },
  {
   "cell_type": "markdown",
   "metadata": {
    "button": false,
    "new_sheet": false,
    "run_control": {
     "read_only": false
    },
    "slideshow": {
     "slide_type": "subslide"
    }
   },
   "source": [
    "Let us now go and fuzz `http_program()`.  To fuzz, we use the full range of printable ASCII characters, such that `:`, `/`, and lowercase letters are included."
   ]
  },
  {
   "cell_type": "code",
   "execution_count": 7,
   "metadata": {
    "button": false,
    "execution": {
     "iopub.execute_input": "2022-08-01T12:58:25.323789Z",
     "iopub.status.busy": "2022-08-01T12:58:25.323679Z",
     "iopub.status.idle": "2022-08-01T12:58:25.389968Z",
     "shell.execute_reply": "2022-08-01T12:58:25.389645Z"
    },
    "new_sheet": false,
    "run_control": {
     "read_only": false
    },
    "slideshow": {
     "slide_type": "skip"
    }
   },
   "outputs": [],
   "source": [
    "from Fuzzer import fuzzer"
   ]
  },
  {
   "cell_type": "code",
   "execution_count": 8,
   "metadata": {
    "button": false,
    "execution": {
     "iopub.execute_input": "2022-08-01T12:58:25.391679Z",
     "iopub.status.busy": "2022-08-01T12:58:25.391551Z",
     "iopub.status.idle": "2022-08-01T12:58:25.394008Z",
     "shell.execute_reply": "2022-08-01T12:58:25.393718Z"
    },
    "new_sheet": false,
    "run_control": {
     "read_only": false
    },
    "slideshow": {
     "slide_type": "fragment"
    }
   },
   "outputs": [
    {
     "data": {
      "text/plain": [
       "'\"N&+slk%h\\x7fyp5o\\'@[3(rW*M5W]tMFPU4\\\\P@tz%[X?uo\\\\1?b4T;1bDeYtHx #UJ5w}pMmPodJM,_'"
      ]
     },
     "execution_count": 8,
     "metadata": {},
     "output_type": "execute_result"
    }
   ],
   "source": [
    "fuzzer(char_start=32, char_range=96)"
   ]
  },
  {
   "cell_type": "markdown",
   "metadata": {
    "button": false,
    "new_sheet": false,
    "run_control": {
     "read_only": false
    },
    "slideshow": {
     "slide_type": "subslide"
    }
   },
   "source": [
    "Let's try to fuzz with 1000 random inputs and see whether we have some success."
   ]
  },
  {
   "cell_type": "code",
   "execution_count": 9,
   "metadata": {
    "button": false,
    "execution": {
     "iopub.execute_input": "2022-08-01T12:58:25.395855Z",
     "iopub.status.busy": "2022-08-01T12:58:25.395648Z",
     "iopub.status.idle": "2022-08-01T12:58:25.426735Z",
     "shell.execute_reply": "2022-08-01T12:58:25.426390Z"
    },
    "new_sheet": false,
    "run_control": {
     "read_only": false
    },
    "slideshow": {
     "slide_type": "fragment"
    }
   },
   "outputs": [],
   "source": [
    "for i in range(1000):\n",
    "    try:\n",
    "        url = fuzzer()\n",
    "        result = http_program(url)\n",
    "        print(\"Success!\")\n",
    "    except ValueError:\n",
    "        pass"
   ]
  },
  {
   "cell_type": "markdown",
   "metadata": {
    "button": false,
    "new_sheet": false,
    "run_control": {
     "read_only": false
    },
    "slideshow": {
     "slide_type": "subslide"
    }
   },
   "source": [
    "What are the chances of actually getting a valid URL?  We need our string to start with `\"http://\"` or `\"https://\"`.  Let's take the `\"http://\"` case first.  These are seven very specific characters we need to start with.  The chance of producing these seven characters randomly (with a character range of 96 different characters) is $1 : 96^7$, or"
   ]
  },
  {
   "cell_type": "code",
   "execution_count": 10,
   "metadata": {
    "button": false,
    "execution": {
     "iopub.execute_input": "2022-08-01T12:58:25.428624Z",
     "iopub.status.busy": "2022-08-01T12:58:25.428492Z",
     "iopub.status.idle": "2022-08-01T12:58:25.430926Z",
     "shell.execute_reply": "2022-08-01T12:58:25.430668Z"
    },
    "new_sheet": false,
    "run_control": {
     "read_only": false
    },
    "slideshow": {
     "slide_type": "fragment"
    }
   },
   "outputs": [
    {
     "data": {
      "text/plain": [
       "75144747810816"
      ]
     },
     "execution_count": 10,
     "metadata": {},
     "output_type": "execute_result"
    }
   ],
   "source": [
    "96 ** 7"
   ]
  },
  {
   "cell_type": "markdown",
   "metadata": {
    "button": false,
    "new_sheet": false,
    "run_control": {
     "read_only": false
    },
    "slideshow": {
     "slide_type": "subslide"
    }
   },
   "source": [
    "The odds of producing a `\"https://\"` prefix are even worse, at $1 : 96^8$:"
   ]
  },
  {
   "cell_type": "code",
   "execution_count": 11,
   "metadata": {
    "button": false,
    "execution": {
     "iopub.execute_input": "2022-08-01T12:58:25.432426Z",
     "iopub.status.busy": "2022-08-01T12:58:25.432327Z",
     "iopub.status.idle": "2022-08-01T12:58:25.434370Z",
     "shell.execute_reply": "2022-08-01T12:58:25.434044Z"
    },
    "new_sheet": false,
    "run_control": {
     "read_only": false
    },
    "slideshow": {
     "slide_type": "fragment"
    }
   },
   "outputs": [
    {
     "data": {
      "text/plain": [
       "7213895789838336"
      ]
     },
     "execution_count": 11,
     "metadata": {},
     "output_type": "execute_result"
    }
   ],
   "source": [
    "96 ** 8"
   ]
  },
  {
   "cell_type": "markdown",
   "metadata": {
    "button": false,
    "new_sheet": false,
    "run_control": {
     "read_only": false
    },
    "slideshow": {
     "slide_type": "fragment"
    }
   },
   "source": [
    "which gives us a total chance of"
   ]
  },
  {
   "cell_type": "code",
   "execution_count": 12,
   "metadata": {
    "button": false,
    "execution": {
     "iopub.execute_input": "2022-08-01T12:58:25.436163Z",
     "iopub.status.busy": "2022-08-01T12:58:25.436042Z",
     "iopub.status.idle": "2022-08-01T12:58:25.438421Z",
     "shell.execute_reply": "2022-08-01T12:58:25.438133Z"
    },
    "new_sheet": false,
    "run_control": {
     "read_only": false
    },
    "slideshow": {
     "slide_type": "fragment"
    }
   },
   "outputs": [
    {
     "data": {
      "text/plain": [
       "1.344627131107667e-14"
      ]
     },
     "execution_count": 12,
     "metadata": {},
     "output_type": "execute_result"
    }
   ],
   "source": [
    "likelihood = 1 / (96 ** 7) + 1 / (96 ** 8)\n",
    "likelihood"
   ]
  },
  {
   "cell_type": "markdown",
   "metadata": {
    "button": false,
    "new_sheet": false,
    "run_control": {
     "read_only": false
    },
    "slideshow": {
     "slide_type": "subslide"
    }
   },
   "source": [
    "And this is the number of runs (on average) we'd need to produce a valid URL scheme:"
   ]
  },
  {
   "cell_type": "code",
   "execution_count": 13,
   "metadata": {
    "button": false,
    "execution": {
     "iopub.execute_input": "2022-08-01T12:58:25.439983Z",
     "iopub.status.busy": "2022-08-01T12:58:25.439869Z",
     "iopub.status.idle": "2022-08-01T12:58:25.441964Z",
     "shell.execute_reply": "2022-08-01T12:58:25.441664Z"
    },
    "new_sheet": false,
    "run_control": {
     "read_only": false
    },
    "slideshow": {
     "slide_type": "fragment"
    }
   },
   "outputs": [
    {
     "data": {
      "text/plain": [
       "74370059689055.02"
      ]
     },
     "execution_count": 13,
     "metadata": {},
     "output_type": "execute_result"
    }
   ],
   "source": [
    "1 / likelihood"
   ]
  },
  {
   "cell_type": "markdown",
   "metadata": {
    "button": false,
    "new_sheet": false,
    "run_control": {
     "read_only": false
    },
    "slideshow": {
     "slide_type": "subslide"
    }
   },
   "source": [
    "Let's measure how long one run of `http_program()` takes:"
   ]
  },
  {
   "cell_type": "code",
   "execution_count": 14,
   "metadata": {
    "button": false,
    "execution": {
     "iopub.execute_input": "2022-08-01T12:58:25.443434Z",
     "iopub.status.busy": "2022-08-01T12:58:25.443326Z",
     "iopub.status.idle": "2022-08-01T12:58:25.444988Z",
     "shell.execute_reply": "2022-08-01T12:58:25.444709Z"
    },
    "new_sheet": false,
    "run_control": {
     "read_only": false
    },
    "slideshow": {
     "slide_type": "skip"
    }
   },
   "outputs": [],
   "source": [
    "from Timer import Timer"
   ]
  },
  {
   "cell_type": "code",
   "execution_count": 15,
   "metadata": {
    "button": false,
    "execution": {
     "iopub.execute_input": "2022-08-01T12:58:25.446338Z",
     "iopub.status.busy": "2022-08-01T12:58:25.446227Z",
     "iopub.status.idle": "2022-08-01T12:58:25.478042Z",
     "shell.execute_reply": "2022-08-01T12:58:25.477636Z"
    },
    "new_sheet": false,
    "run_control": {
     "read_only": false
    },
    "slideshow": {
     "slide_type": "fragment"
    }
   },
   "outputs": [
    {
     "data": {
      "text/plain": [
       "2.854629200000003e-05"
      ]
     },
     "execution_count": 15,
     "metadata": {},
     "output_type": "execute_result"
    }
   ],
   "source": [
    "trials = 1000\n",
    "with Timer() as t:\n",
    "    for i in range(trials):\n",
    "        try:\n",
    "            url = fuzzer()\n",
    "            result = http_program(url)\n",
    "            print(\"Success!\")\n",
    "        except ValueError:\n",
    "            pass\n",
    "\n",
    "duration_per_run_in_seconds = t.elapsed_time() / trials\n",
    "duration_per_run_in_seconds"
   ]
  },
  {
   "cell_type": "markdown",
   "metadata": {
    "button": false,
    "new_sheet": false,
    "run_control": {
     "read_only": false
    },
    "slideshow": {
     "slide_type": "subslide"
    }
   },
   "source": [
    "That's pretty fast, isn't it?  Unfortunately, we have a lot of runs to cover."
   ]
  },
  {
   "cell_type": "code",
   "execution_count": 16,
   "metadata": {
    "button": false,
    "execution": {
     "iopub.execute_input": "2022-08-01T12:58:25.480082Z",
     "iopub.status.busy": "2022-08-01T12:58:25.479903Z",
     "iopub.status.idle": "2022-08-01T12:58:25.482788Z",
     "shell.execute_reply": "2022-08-01T12:58:25.482398Z"
    },
    "new_sheet": false,
    "run_control": {
     "read_only": false
    },
    "slideshow": {
     "slide_type": "fragment"
    }
   },
   "outputs": [
    {
     "data": {
      "text/plain": [
       "2122989439.941196"
      ]
     },
     "execution_count": 16,
     "metadata": {},
     "output_type": "execute_result"
    }
   ],
   "source": [
    "seconds_until_success = duration_per_run_in_seconds * (1 / likelihood)\n",
    "seconds_until_success"
   ]
  },
  {
   "cell_type": "markdown",
   "metadata": {
    "button": false,
    "new_sheet": false,
    "run_control": {
     "read_only": false
    },
    "slideshow": {
     "slide_type": "fragment"
    }
   },
   "source": [
    "which translates into"
   ]
  },
  {
   "cell_type": "code",
   "execution_count": 17,
   "metadata": {
    "button": false,
    "execution": {
     "iopub.execute_input": "2022-08-01T12:58:25.485009Z",
     "iopub.status.busy": "2022-08-01T12:58:25.484796Z",
     "iopub.status.idle": "2022-08-01T12:58:25.487830Z",
     "shell.execute_reply": "2022-08-01T12:58:25.487384Z"
    },
    "new_sheet": false,
    "run_control": {
     "read_only": false
    },
    "slideshow": {
     "slide_type": "fragment"
    }
   },
   "outputs": [
    {
     "data": {
      "text/plain": [
       "67.27347580111275"
      ]
     },
     "execution_count": 17,
     "metadata": {},
     "output_type": "execute_result"
    }
   ],
   "source": [
    "hours_until_success = seconds_until_success / 3600\n",
    "days_until_success = hours_until_success / 24\n",
    "years_until_success = days_until_success / 365.25\n",
    "years_until_success"
   ]
  },
  {
   "cell_type": "markdown",
   "metadata": {
    "button": false,
    "new_sheet": false,
    "run_control": {
     "read_only": false
    },
    "slideshow": {
     "slide_type": "fragment"
    }
   },
   "source": [
    "Even if we parallelize things a lot, we're still in for months to years of waiting.  And that's for getting _one_ successful run that will get deeper into `http_program()`."
   ]
  },
  {
   "cell_type": "markdown",
   "metadata": {
    "button": false,
    "new_sheet": false,
    "run_control": {
     "read_only": false
    },
    "slideshow": {
     "slide_type": "subslide"
    }
   },
   "source": [
    "What basic fuzzing will do well is to test `urlparse()`, and if there is an error in this parsing function, it has good chances of uncovering it.  But as long as we cannot produce a valid input, we are out of luck in reaching any deeper functionality."
   ]
  },
  {
   "cell_type": "markdown",
   "metadata": {
    "button": false,
    "new_sheet": false,
    "run_control": {
     "read_only": false
    },
    "slideshow": {
     "slide_type": "slide"
    }
   },
   "source": [
    "## Mutating Inputs\n",
    "\n",
    "The alternative to generating random strings from scratch is to start with a given _valid_ input, and then to subsequently _mutate_ it.  A _mutation_ in this context is a simple string manipulation - say, inserting a (random) character, deleting a character, or flipping a bit in a character representation.  This is called *mutational fuzzing* – in contrast to the _generational fuzzing_ techniques discussed earlier.\n",
    "\n",
    "Here are some mutations to get you started:"
   ]
  },
  {
   "cell_type": "code",
   "execution_count": 18,
   "metadata": {
    "button": false,
    "execution": {
     "iopub.execute_input": "2022-08-01T12:58:25.489881Z",
     "iopub.status.busy": "2022-08-01T12:58:25.489775Z",
     "iopub.status.idle": "2022-08-01T12:58:25.491459Z",
     "shell.execute_reply": "2022-08-01T12:58:25.491179Z"
    },
    "new_sheet": false,
    "run_control": {
     "read_only": false
    },
    "slideshow": {
     "slide_type": "skip"
    }
   },
   "outputs": [],
   "source": [
    "import random"
   ]
  },
  {
   "cell_type": "code",
   "execution_count": 19,
   "metadata": {
    "button": false,
    "execution": {
     "iopub.execute_input": "2022-08-01T12:58:25.492863Z",
     "iopub.status.busy": "2022-08-01T12:58:25.492755Z",
     "iopub.status.idle": "2022-08-01T12:58:25.494940Z",
     "shell.execute_reply": "2022-08-01T12:58:25.494629Z"
    },
    "new_sheet": false,
    "run_control": {
     "read_only": false
    },
    "slideshow": {
     "slide_type": "subslide"
    }
   },
   "outputs": [],
   "source": [
    "def delete_random_character(s: str) -> str:\n",
    "    \"\"\"Returns s with a random character deleted\"\"\"\n",
    "    if s == \"\":\n",
    "        return s\n",
    "\n",
    "    pos = random.randint(0, len(s) - 1)\n",
    "    # print(\"Deleting\", repr(s[pos]), \"at\", pos)\n",
    "    return s[:pos] + s[pos + 1:]"
   ]
  },
  {
   "cell_type": "code",
   "execution_count": 20,
   "metadata": {
    "button": false,
    "execution": {
     "iopub.execute_input": "2022-08-01T12:58:25.496466Z",
     "iopub.status.busy": "2022-08-01T12:58:25.496328Z",
     "iopub.status.idle": "2022-08-01T12:58:25.498443Z",
     "shell.execute_reply": "2022-08-01T12:58:25.498171Z"
    },
    "new_sheet": false,
    "run_control": {
     "read_only": false
    },
    "slideshow": {
     "slide_type": "fragment"
    }
   },
   "outputs": [
    {
     "name": "stdout",
     "output_type": "stream",
     "text": [
      "'A uick brown fox'\n",
      "'A quic brown fox'\n",
      "'A quick brown fo'\n",
      "'A quic brown fox'\n",
      "'A quick bown fox'\n",
      "'A quick bown fox'\n",
      "'A quick brown fx'\n",
      "'A quick brown ox'\n",
      "'A quick brow fox'\n",
      "'A quic brown fox'\n"
     ]
    }
   ],
   "source": [
    "seed_input = \"A quick brown fox\"\n",
    "for i in range(10):\n",
    "    x = delete_random_character(seed_input)\n",
    "    print(repr(x))"
   ]
  },
  {
   "cell_type": "code",
   "execution_count": 21,
   "metadata": {
    "button": false,
    "execution": {
     "iopub.execute_input": "2022-08-01T12:58:25.499735Z",
     "iopub.status.busy": "2022-08-01T12:58:25.499633Z",
     "iopub.status.idle": "2022-08-01T12:58:25.501584Z",
     "shell.execute_reply": "2022-08-01T12:58:25.501333Z"
    },
    "new_sheet": false,
    "run_control": {
     "read_only": false
    },
    "slideshow": {
     "slide_type": "subslide"
    }
   },
   "outputs": [],
   "source": [
    "def insert_random_character(s: str) -> str:\n",
    "    \"\"\"Returns s with a random character inserted\"\"\"\n",
    "    pos = random.randint(0, len(s))\n",
    "    random_character = chr(random.randrange(32, 127))\n",
    "    # print(\"Inserting\", repr(random_character), \"at\", pos)\n",
    "    return s[:pos] + random_character + s[pos:]"
   ]
  },
  {
   "cell_type": "code",
   "execution_count": 22,
   "metadata": {
    "button": false,
    "execution": {
     "iopub.execute_input": "2022-08-01T12:58:25.502933Z",
     "iopub.status.busy": "2022-08-01T12:58:25.502837Z",
     "iopub.status.idle": "2022-08-01T12:58:25.504626Z",
     "shell.execute_reply": "2022-08-01T12:58:25.504382Z"
    },
    "new_sheet": false,
    "run_control": {
     "read_only": false
    },
    "slideshow": {
     "slide_type": "fragment"
    }
   },
   "outputs": [
    {
     "name": "stdout",
     "output_type": "stream",
     "text": [
      "'A quick brvown fox'\n",
      "'A quwick brown fox'\n",
      "'A qBuick brown fox'\n",
      "'A quick broSwn fox'\n",
      "'A quick brown fvox'\n",
      "'A quick brown 3fox'\n",
      "'A quick brNown fox'\n",
      "'A quick brow4n fox'\n",
      "'A quick brown fox8'\n",
      "'A equick brown fox'\n"
     ]
    }
   ],
   "source": [
    "for i in range(10):\n",
    "    print(repr(insert_random_character(seed_input)))"
   ]
  },
  {
   "cell_type": "code",
   "execution_count": 23,
   "metadata": {
    "button": false,
    "execution": {
     "iopub.execute_input": "2022-08-01T12:58:25.506000Z",
     "iopub.status.busy": "2022-08-01T12:58:25.505901Z",
     "iopub.status.idle": "2022-08-01T12:58:25.508220Z",
     "shell.execute_reply": "2022-08-01T12:58:25.507952Z"
    },
    "new_sheet": false,
    "run_control": {
     "read_only": false
    },
    "slideshow": {
     "slide_type": "subslide"
    }
   },
   "outputs": [],
   "source": [
    "def flip_random_character(s):\n",
    "    \"\"\"Returns s with a random bit flipped in a random position\"\"\"\n",
    "    if s == \"\":\n",
    "        return s\n",
    "\n",
    "    pos = random.randint(0, len(s) - 1)\n",
    "    c = s[pos]\n",
    "    bit = 1 << random.randint(0, 6)\n",
    "    new_c = chr(ord(c) ^ bit)\n",
    "    # print(\"Flipping\", bit, \"in\", repr(c) + \", giving\", repr(new_c))\n",
    "    return s[:pos] + new_c + s[pos + 1:]"
   ]
  },
  {
   "cell_type": "code",
   "execution_count": 24,
   "metadata": {
    "button": false,
    "execution": {
     "iopub.execute_input": "2022-08-01T12:58:25.509675Z",
     "iopub.status.busy": "2022-08-01T12:58:25.509553Z",
     "iopub.status.idle": "2022-08-01T12:58:25.511490Z",
     "shell.execute_reply": "2022-08-01T12:58:25.511233Z"
    },
    "new_sheet": false,
    "run_control": {
     "read_only": false
    },
    "slideshow": {
     "slide_type": "fragment"
    }
   },
   "outputs": [
    {
     "name": "stdout",
     "output_type": "stream",
     "text": [
      "'A quick bRown fox'\n",
      "'A quici brown fox'\n",
      "'A\"quick brown fox'\n",
      "'A quick brown$fox'\n",
      "'A quick bpown fox'\n",
      "'A quick brown!fox'\n",
      "'A 1uick brown fox'\n",
      "'@ quick brown fox'\n",
      "'A quic+ brown fox'\n",
      "'A quick bsown fox'\n"
     ]
    }
   ],
   "source": [
    "for i in range(10):\n",
    "    print(repr(flip_random_character(seed_input)))"
   ]
  },
  {
   "cell_type": "markdown",
   "metadata": {
    "button": false,
    "new_sheet": false,
    "run_control": {
     "read_only": false
    },
    "slideshow": {
     "slide_type": "subslide"
    }
   },
   "source": [
    "Let us now create a random mutator that randomly chooses which mutation to apply:"
   ]
  },
  {
   "cell_type": "code",
   "execution_count": 25,
   "metadata": {
    "button": false,
    "execution": {
     "iopub.execute_input": "2022-08-01T12:58:25.512897Z",
     "iopub.status.busy": "2022-08-01T12:58:25.512792Z",
     "iopub.status.idle": "2022-08-01T12:58:25.514673Z",
     "shell.execute_reply": "2022-08-01T12:58:25.514441Z"
    },
    "new_sheet": false,
    "run_control": {
     "read_only": false
    },
    "slideshow": {
     "slide_type": "fragment"
    }
   },
   "outputs": [],
   "source": [
    "def mutate(s: str) -> str:\n",
    "    \"\"\"Return s with a random mutation applied\"\"\"\n",
    "    mutators = [\n",
    "        delete_random_character,\n",
    "        insert_random_character,\n",
    "        flip_random_character\n",
    "    ]\n",
    "    mutator = random.choice(mutators)\n",
    "    # print(mutator)\n",
    "    return mutator(s)"
   ]
  },
  {
   "cell_type": "code",
   "execution_count": 26,
   "metadata": {
    "button": false,
    "execution": {
     "iopub.execute_input": "2022-08-01T12:58:25.516037Z",
     "iopub.status.busy": "2022-08-01T12:58:25.515927Z",
     "iopub.status.idle": "2022-08-01T12:58:25.517772Z",
     "shell.execute_reply": "2022-08-01T12:58:25.517529Z"
    },
    "new_sheet": false,
    "run_control": {
     "read_only": false
    },
    "slideshow": {
     "slide_type": "fragment"
    }
   },
   "outputs": [
    {
     "name": "stdout",
     "output_type": "stream",
     "text": [
      "'A qzuick brown fox'\n",
      "' quick brown fox'\n",
      "'A quick Brown fox'\n",
      "'A qMuick brown fox'\n",
      "'A qu_ick brown fox'\n",
      "'A quick bXrown fox'\n",
      "'A quick brown fx'\n",
      "'A quick!brown fox'\n",
      "'A! quick brown fox'\n",
      "'A quick brownfox'\n"
     ]
    }
   ],
   "source": [
    "for i in range(10):\n",
    "    print(repr(mutate(\"A quick brown fox\")))"
   ]
  },
  {
   "cell_type": "markdown",
   "metadata": {
    "button": false,
    "new_sheet": false,
    "run_control": {
     "read_only": false
    },
    "slideshow": {
     "slide_type": "subslide"
    }
   },
   "source": [
    "The idea is now that _if_ we have some valid input(s) to begin with, we may create more input candidates by applying one of the above mutations.  To see how this works, let's get back to URLs."
   ]
  },
  {
   "cell_type": "markdown",
   "metadata": {
    "button": false,
    "new_sheet": false,
    "run_control": {
     "read_only": false
    },
    "slideshow": {
     "slide_type": "slide"
    }
   },
   "source": [
    "## Mutating URLs"
   ]
  },
  {
   "cell_type": "markdown",
   "metadata": {
    "button": false,
    "new_sheet": false,
    "run_control": {
     "read_only": false
    },
    "slideshow": {
     "slide_type": "fragment"
    }
   },
   "source": [
    "Let us now get back to our URL parsing problem.  Let us create a function `is_valid_url()` that checks whether `http_program()` accepts the input."
   ]
  },
  {
   "cell_type": "code",
   "execution_count": 27,
   "metadata": {
    "button": false,
    "execution": {
     "iopub.execute_input": "2022-08-01T12:58:25.519268Z",
     "iopub.status.busy": "2022-08-01T12:58:25.519164Z",
     "iopub.status.idle": "2022-08-01T12:58:25.520980Z",
     "shell.execute_reply": "2022-08-01T12:58:25.520744Z"
    },
    "new_sheet": false,
    "run_control": {
     "read_only": false
    },
    "slideshow": {
     "slide_type": "fragment"
    }
   },
   "outputs": [],
   "source": [
    "def is_valid_url(url: str) -> bool:\n",
    "    try:\n",
    "        result = http_program(url)\n",
    "        return True\n",
    "    except ValueError:\n",
    "        return False"
   ]
  },
  {
   "cell_type": "code",
   "execution_count": 28,
   "metadata": {
    "execution": {
     "iopub.execute_input": "2022-08-01T12:58:25.522449Z",
     "iopub.status.busy": "2022-08-01T12:58:25.522332Z",
     "iopub.status.idle": "2022-08-01T12:58:25.524048Z",
     "shell.execute_reply": "2022-08-01T12:58:25.523777Z"
    },
    "slideshow": {
     "slide_type": "fragment"
    }
   },
   "outputs": [],
   "source": [
    "assert is_valid_url(\"http://www.google.com/search?q=fuzzing\")\n",
    "assert not is_valid_url(\"xyzzy\")"
   ]
  },
  {
   "cell_type": "markdown",
   "metadata": {
    "button": false,
    "new_sheet": false,
    "run_control": {
     "read_only": false
    },
    "slideshow": {
     "slide_type": "subslide"
    }
   },
   "source": [
    "Let us now apply the `mutate()` function on a given URL and see how many valid inputs we obtain."
   ]
  },
  {
   "cell_type": "code",
   "execution_count": 29,
   "metadata": {
    "button": false,
    "execution": {
     "iopub.execute_input": "2022-08-01T12:58:25.525442Z",
     "iopub.status.busy": "2022-08-01T12:58:25.525333Z",
     "iopub.status.idle": "2022-08-01T12:58:25.527569Z",
     "shell.execute_reply": "2022-08-01T12:58:25.527264Z"
    },
    "new_sheet": false,
    "run_control": {
     "read_only": false
    },
    "slideshow": {
     "slide_type": "fragment"
    }
   },
   "outputs": [],
   "source": [
    "seed_input = \"http://www.google.com/search?q=fuzzing\"\n",
    "valid_inputs = set()\n",
    "trials = 20\n",
    "\n",
    "for i in range(trials):\n",
    "    inp = mutate(seed_input)\n",
    "    if is_valid_url(inp):\n",
    "        valid_inputs.add(inp)"
   ]
  },
  {
   "cell_type": "markdown",
   "metadata": {
    "button": false,
    "new_sheet": false,
    "run_control": {
     "read_only": false
    },
    "slideshow": {
     "slide_type": "fragment"
    }
   },
   "source": [
    "We can now observe that by _mutating_ the original input, we get a high proportion of valid inputs:"
   ]
  },
  {
   "cell_type": "code",
   "execution_count": 30,
   "metadata": {
    "button": false,
    "execution": {
     "iopub.execute_input": "2022-08-01T12:58:25.529321Z",
     "iopub.status.busy": "2022-08-01T12:58:25.529174Z",
     "iopub.status.idle": "2022-08-01T12:58:25.531566Z",
     "shell.execute_reply": "2022-08-01T12:58:25.531318Z"
    },
    "new_sheet": false,
    "run_control": {
     "read_only": false
    },
    "slideshow": {
     "slide_type": "fragment"
    }
   },
   "outputs": [
    {
     "data": {
      "text/plain": [
       "0.8"
      ]
     },
     "execution_count": 30,
     "metadata": {},
     "output_type": "execute_result"
    }
   ],
   "source": [
    "len(valid_inputs) / trials"
   ]
  },
  {
   "cell_type": "markdown",
   "metadata": {
    "button": false,
    "new_sheet": false,
    "run_control": {
     "read_only": false
    },
    "slideshow": {
     "slide_type": "subslide"
    }
   },
   "source": [
    "What are the odds of also producing a `https:` prefix by mutating a `http:` sample seed input?  We have to insert ($1 : 3$) the right character `'s'` ($1 : 96$) into the correct position ($1 : l$), where $l$ is the length of our seed input.  This means that on average, we need this many runs:"
   ]
  },
  {
   "cell_type": "code",
   "execution_count": 31,
   "metadata": {
    "button": false,
    "execution": {
     "iopub.execute_input": "2022-08-01T12:58:25.533008Z",
     "iopub.status.busy": "2022-08-01T12:58:25.532901Z",
     "iopub.status.idle": "2022-08-01T12:58:25.535070Z",
     "shell.execute_reply": "2022-08-01T12:58:25.534825Z"
    },
    "new_sheet": false,
    "run_control": {
     "read_only": false
    },
    "slideshow": {
     "slide_type": "fragment"
    }
   },
   "outputs": [
    {
     "data": {
      "text/plain": [
       "10944"
      ]
     },
     "execution_count": 31,
     "metadata": {},
     "output_type": "execute_result"
    }
   ],
   "source": [
    "trials = 3 * 96 * len(seed_input)\n",
    "trials"
   ]
  },
  {
   "cell_type": "markdown",
   "metadata": {
    "button": false,
    "new_sheet": false,
    "run_control": {
     "read_only": false
    },
    "slideshow": {
     "slide_type": "subslide"
    }
   },
   "source": [
    "We can actually afford this.  Let's try:"
   ]
  },
  {
   "cell_type": "code",
   "execution_count": 32,
   "metadata": {
    "button": false,
    "execution": {
     "iopub.execute_input": "2022-08-01T12:58:25.536542Z",
     "iopub.status.busy": "2022-08-01T12:58:25.536434Z",
     "iopub.status.idle": "2022-08-01T12:58:25.538103Z",
     "shell.execute_reply": "2022-08-01T12:58:25.537858Z"
    },
    "new_sheet": false,
    "run_control": {
     "read_only": false
    },
    "slideshow": {
     "slide_type": "skip"
    }
   },
   "outputs": [],
   "source": [
    "from Timer import Timer"
   ]
  },
  {
   "cell_type": "code",
   "execution_count": 33,
   "metadata": {
    "button": false,
    "execution": {
     "iopub.execute_input": "2022-08-01T12:58:25.539427Z",
     "iopub.status.busy": "2022-08-01T12:58:25.539346Z",
     "iopub.status.idle": "2022-08-01T12:58:25.547781Z",
     "shell.execute_reply": "2022-08-01T12:58:25.547508Z"
    },
    "new_sheet": false,
    "run_control": {
     "read_only": false
    },
    "slideshow": {
     "slide_type": "fragment"
    }
   },
   "outputs": [
    {
     "name": "stdout",
     "output_type": "stream",
     "text": [
      "Success after 3656 trials in 0.006077667000000009 seconds\n"
     ]
    }
   ],
   "source": [
    "trials = 0\n",
    "with Timer() as t:\n",
    "    while True:\n",
    "        trials += 1\n",
    "        inp = mutate(seed_input)\n",
    "        if inp.startswith(\"https://\"):\n",
    "            print(\n",
    "                \"Success after\",\n",
    "                trials,\n",
    "                \"trials in\",\n",
    "                t.elapsed_time(),\n",
    "                \"seconds\")\n",
    "            break"
   ]
  },
  {
   "cell_type": "markdown",
   "metadata": {
    "button": false,
    "new_sheet": false,
    "run_control": {
     "read_only": false
    },
    "slideshow": {
     "slide_type": "fragment"
    }
   },
   "source": [
    "Of course, if we wanted to get, say, an `\"ftp://\"` prefix, we would need more mutations and more runs – most important, though, we would need to apply _multiple_ mutations."
   ]
  },
  {
   "cell_type": "markdown",
   "metadata": {
    "slideshow": {
     "slide_type": "slide"
    }
   },
   "source": [
    "## Multiple Mutations\n",
    "\n",
    "So far, we have only applied one single mutation on a sample string.  However, we can also apply _multiple_ mutations, further changing it.  What happens, for instance, if we apply, say, 20 mutations on our sample string?"
   ]
  },
  {
   "cell_type": "code",
   "execution_count": 34,
   "metadata": {
    "execution": {
     "iopub.execute_input": "2022-08-01T12:58:25.549312Z",
     "iopub.status.busy": "2022-08-01T12:58:25.549201Z",
     "iopub.status.idle": "2022-08-01T12:58:25.550996Z",
     "shell.execute_reply": "2022-08-01T12:58:25.550746Z"
    },
    "slideshow": {
     "slide_type": "subslide"
    }
   },
   "outputs": [],
   "source": [
    "seed_input = \"http://www.google.com/search?q=fuzzing\"\n",
    "mutations = 50"
   ]
  },
  {
   "cell_type": "code",
   "execution_count": 35,
   "metadata": {
    "button": false,
    "execution": {
     "iopub.execute_input": "2022-08-01T12:58:25.552482Z",
     "iopub.status.busy": "2022-08-01T12:58:25.552331Z",
     "iopub.status.idle": "2022-08-01T12:58:25.554581Z",
     "shell.execute_reply": "2022-08-01T12:58:25.554320Z"
    },
    "new_sheet": false,
    "run_control": {
     "read_only": false
    },
    "slideshow": {
     "slide_type": "fragment"
    }
   },
   "outputs": [
    {
     "name": "stdout",
     "output_type": "stream",
     "text": [
      "0 mutations: 'http://www.google.com/search?q=fuzzing'\n",
      "5 mutations: 'http:/L/www.googlej.com/seaRchq=fuz:ing'\n",
      "10 mutations: 'http:/L/www.ggoWglej.com/seaRchqfu:in'\n",
      "15 mutations: 'http:/L/wwggoWglej.com/seaR3hqf,u:in'\n",
      "20 mutations: 'htt://wwggoVgle\"j.som/seaR3hqf,u:in'\n",
      "25 mutations: 'htt://fwggoVgle\"j.som/eaRd3hqf,u^:in'\n",
      "30 mutations: 'htv://>fwggoVgle\"j.qom/ea0Rd3hqf,u^:i'\n",
      "35 mutations: 'htv://>fwggozVle\"Bj.qom/eapRd[3hqf,u^:i'\n",
      "40 mutations: 'htv://>fwgeo6zTle\"Bj.\\'qom/eapRd[3hqf,tu^:i'\n",
      "45 mutations: 'htv://>fwgeo]6zTle\"BjM.\\'qom/eaR[3hqf,tu^:i'\n"
     ]
    }
   ],
   "source": [
    "inp = seed_input\n",
    "for i in range(mutations):\n",
    "    if i % 5 == 0:\n",
    "        print(i, \"mutations:\", repr(inp))\n",
    "    inp = mutate(inp)"
   ]
  },
  {
   "cell_type": "markdown",
   "metadata": {
    "slideshow": {
     "slide_type": "fragment"
    }
   },
   "source": [
    "As you see, the original seed input is hardly recognizable anymore.  By mutating the input again and again, we get a higher variety in the input."
   ]
  },
  {
   "cell_type": "markdown",
   "metadata": {
    "slideshow": {
     "slide_type": "subslide"
    }
   },
   "source": [
    "To implement such multiple mutations in a single package, let us introduce a `MutationFuzzer` class.  It takes a seed (a list of strings) as well as a minimum and a maximum number of mutations.  "
   ]
  },
  {
   "cell_type": "code",
   "execution_count": 36,
   "metadata": {
    "button": false,
    "execution": {
     "iopub.execute_input": "2022-08-01T12:58:25.556399Z",
     "iopub.status.busy": "2022-08-01T12:58:25.556283Z",
     "iopub.status.idle": "2022-08-01T12:58:25.557914Z",
     "shell.execute_reply": "2022-08-01T12:58:25.557685Z"
    },
    "new_sheet": false,
    "run_control": {
     "read_only": false
    },
    "slideshow": {
     "slide_type": "skip"
    }
   },
   "outputs": [],
   "source": [
    "from Fuzzer import Fuzzer"
   ]
  },
  {
   "cell_type": "code",
   "execution_count": 37,
   "metadata": {
    "button": false,
    "execution": {
     "iopub.execute_input": "2022-08-01T12:58:25.559235Z",
     "iopub.status.busy": "2022-08-01T12:58:25.559124Z",
     "iopub.status.idle": "2022-08-01T12:58:25.561720Z",
     "shell.execute_reply": "2022-08-01T12:58:25.561437Z"
    },
    "new_sheet": false,
    "run_control": {
     "read_only": false
    },
    "slideshow": {
     "slide_type": "fragment"
    }
   },
   "outputs": [],
   "source": [
    "class MutationFuzzer(Fuzzer):\n",
    "    \"\"\"Base class for mutational fuzzing\"\"\"\n",
    "\n",
    "    def __init__(self, seed: List[str],\n",
    "                 min_mutations: int = 2,\n",
    "                 max_mutations: int = 10) -> None:\n",
    "        \"\"\"Constructor.\n",
    "        `seed` - a list of (input) strings to mutate.\n",
    "        `min_mutations` - the minimum number of mutations to apply.\n",
    "        `max_mutations` - the maximum number of mutations to apply.\n",
    "        \"\"\"\n",
    "        self.seed = seed\n",
    "        self.min_mutations = min_mutations\n",
    "        self.max_mutations = max_mutations\n",
    "        self.reset()\n",
    "\n",
    "    def reset(self) -> None:\n",
    "        \"\"\"Set population to initial seed.\n",
    "        To be overloaded in subclasses.\"\"\"\n",
    "        self.population = self.seed\n",
    "        self.seed_index = 0"
   ]
  },
  {
   "cell_type": "markdown",
   "metadata": {
    "slideshow": {
     "slide_type": "subslide"
    }
   },
   "source": [
    "In the following, let us develop `MutationFuzzer` further by adding more methods to it.  The Python language requires us to define an entire class with all methods as a single, continuous unit; however, we would like to introduce one method after another.  To avoid this problem, we use a special hack: Whenever we want to introduce a new method to some class `C`, we use the construct\n",
    "\n",
    "```python\n",
    "class C(C):\n",
    "    def new_method(self, args):\n",
    "        pass\n",
    "```\n",
    "\n",
    "This seems to define `C` as a subclass of itself, which would make no sense – but actually, it introduces a new `C` class as a subclass of the _old_ `C` class, and then shadowing the old `C` definition.  What this gets us is a `C` class with `new_method()` as a method, which is just what we want.  (`C` objects defined earlier will retain the earlier `C` definition, though, and thus must be rebuilt.)"
   ]
  },
  {
   "cell_type": "markdown",
   "metadata": {
    "slideshow": {
     "slide_type": "subslide"
    }
   },
   "source": [
    "Using this hack, we can now add a `mutate()` method that actually invokes the above `mutate()` function.  Having `mutate()` as a method is useful when we want to extend a `MutationFuzzer` later."
   ]
  },
  {
   "cell_type": "code",
   "execution_count": 38,
   "metadata": {
    "button": false,
    "execution": {
     "iopub.execute_input": "2022-08-01T12:58:25.563421Z",
     "iopub.status.busy": "2022-08-01T12:58:25.563294Z",
     "iopub.status.idle": "2022-08-01T12:58:25.565158Z",
     "shell.execute_reply": "2022-08-01T12:58:25.564926Z"
    },
    "new_sheet": false,
    "run_control": {
     "read_only": false
    },
    "slideshow": {
     "slide_type": "fragment"
    }
   },
   "outputs": [],
   "source": [
    "class MutationFuzzer(MutationFuzzer):\n",
    "    def mutate(self, inp: str) -> str:\n",
    "        return mutate(inp)"
   ]
  },
  {
   "cell_type": "markdown",
   "metadata": {
    "button": false,
    "new_sheet": false,
    "run_control": {
     "read_only": false
    },
    "slideshow": {
     "slide_type": "subslide"
    }
   },
   "source": [
    "Let's get back to our strategy, maximizing _diversity in coverage_ in our population.  First, let us create a method `create_candidate()`, which randomly picks some input from our current population (`self.population`), and then applies between `min_mutations` and `max_mutations` mutation steps, returning the final result:"
   ]
  },
  {
   "cell_type": "code",
   "execution_count": 39,
   "metadata": {
    "button": false,
    "execution": {
     "iopub.execute_input": "2022-08-01T12:58:25.566622Z",
     "iopub.status.busy": "2022-08-01T12:58:25.566520Z",
     "iopub.status.idle": "2022-08-01T12:58:25.568809Z",
     "shell.execute_reply": "2022-08-01T12:58:25.568477Z"
    },
    "new_sheet": false,
    "run_control": {
     "read_only": false
    },
    "slideshow": {
     "slide_type": "fragment"
    }
   },
   "outputs": [],
   "source": [
    "class MutationFuzzer(MutationFuzzer):\n",
    "    def create_candidate(self) -> str:\n",
    "        \"\"\"Create a new candidate by mutating a population member\"\"\"\n",
    "        candidate = random.choice(self.population)\n",
    "        trials = random.randint(self.min_mutations, self.max_mutations)\n",
    "        for i in range(trials):\n",
    "            candidate = self.mutate(candidate)\n",
    "        return candidate"
   ]
  },
  {
   "cell_type": "markdown",
   "metadata": {
    "slideshow": {
     "slide_type": "subslide"
    }
   },
   "source": [
    "The `fuzz()` method is set to first pick the seeds; when these are gone, we mutate:"
   ]
  },
  {
   "cell_type": "code",
   "execution_count": 40,
   "metadata": {
    "button": false,
    "execution": {
     "iopub.execute_input": "2022-08-01T12:58:25.570580Z",
     "iopub.status.busy": "2022-08-01T12:58:25.570449Z",
     "iopub.status.idle": "2022-08-01T12:58:25.572758Z",
     "shell.execute_reply": "2022-08-01T12:58:25.572470Z"
    },
    "new_sheet": false,
    "run_control": {
     "read_only": false
    },
    "slideshow": {
     "slide_type": "fragment"
    }
   },
   "outputs": [],
   "source": [
    "class MutationFuzzer(MutationFuzzer):\n",
    "    def fuzz(self) -> str:\n",
    "        if self.seed_index < len(self.seed):\n",
    "            # Still seeding\n",
    "            self.inp = self.seed[self.seed_index]\n",
    "            self.seed_index += 1\n",
    "        else:\n",
    "            # Mutating\n",
    "            self.inp = self.create_candidate()\n",
    "        return self.inp"
   ]
  },
  {
   "cell_type": "markdown",
   "metadata": {
    "slideshow": {
     "slide_type": "fragment"
    }
   },
   "source": [
    "Here is the `fuzz()` method in action. With every new invocation of `fuzz()`, we get another variant with multiple mutations applied.  "
   ]
  },
  {
   "cell_type": "code",
   "execution_count": 41,
   "metadata": {
    "execution": {
     "iopub.execute_input": "2022-08-01T12:58:25.574376Z",
     "iopub.status.busy": "2022-08-01T12:58:25.574261Z",
     "iopub.status.idle": "2022-08-01T12:58:25.576546Z",
     "shell.execute_reply": "2022-08-01T12:58:25.576290Z"
    },
    "slideshow": {
     "slide_type": "subslide"
    }
   },
   "outputs": [
    {
     "data": {
      "text/plain": [
       "'http://www.google.com/search?q=fuzzing'"
      ]
     },
     "execution_count": 41,
     "metadata": {},
     "output_type": "execute_result"
    }
   ],
   "source": [
    "seed_input = \"http://www.google.com/search?q=fuzzing\"\n",
    "mutation_fuzzer = MutationFuzzer(seed=[seed_input])\n",
    "mutation_fuzzer.fuzz()"
   ]
  },
  {
   "cell_type": "code",
   "execution_count": 42,
   "metadata": {
    "execution": {
     "iopub.execute_input": "2022-08-01T12:58:25.578128Z",
     "iopub.status.busy": "2022-08-01T12:58:25.578016Z",
     "iopub.status.idle": "2022-08-01T12:58:25.580020Z",
     "shell.execute_reply": "2022-08-01T12:58:25.579763Z"
    },
    "slideshow": {
     "slide_type": "fragment"
    }
   },
   "outputs": [
    {
     "data": {
      "text/plain": [
       "'http://www.gogl9ecom/earch?qfuzzing'"
      ]
     },
     "execution_count": 42,
     "metadata": {},
     "output_type": "execute_result"
    }
   ],
   "source": [
    "mutation_fuzzer.fuzz()"
   ]
  },
  {
   "cell_type": "code",
   "execution_count": 43,
   "metadata": {
    "execution": {
     "iopub.execute_input": "2022-08-01T12:58:25.581391Z",
     "iopub.status.busy": "2022-08-01T12:58:25.581286Z",
     "iopub.status.idle": "2022-08-01T12:58:25.583503Z",
     "shell.execute_reply": "2022-08-01T12:58:25.583135Z"
    },
    "slideshow": {
     "slide_type": "fragment"
    }
   },
   "outputs": [
    {
     "data": {
      "text/plain": [
       "'htotq:/www.googleom/yseach?q=fzzijg'"
      ]
     },
     "execution_count": 43,
     "metadata": {},
     "output_type": "execute_result"
    }
   ],
   "source": [
    "mutation_fuzzer.fuzz()"
   ]
  },
  {
   "cell_type": "markdown",
   "metadata": {
    "button": false,
    "new_sheet": false,
    "run_control": {
     "read_only": false
    },
    "slideshow": {
     "slide_type": "fragment"
    }
   },
   "source": [
    "The higher variety in inputs, though, increases the risk of having an invalid input.  The key to success lies in the idea of _guiding_ these mutations – that is, _keeping those that are especially valuable._"
   ]
  },
  {
   "cell_type": "markdown",
   "metadata": {
    "button": false,
    "new_sheet": false,
    "run_control": {
     "read_only": false
    },
    "slideshow": {
     "slide_type": "slide"
    }
   },
   "source": [
    "## Guiding by Coverage\n",
    "\n",
    "To cover as much functionality as possible, one can rely on either _specified_ or _implemented_ functionality, as discussed in the [\"Coverage\"](Coverage.ipynb) chapter.  For now, we will not assume that there is a specification of program behavior (although it _definitely_ would be good to have one!).  We _will_ assume, though, that the program to be tested exists – and that we can leverage its structure to guide test generation.\n",
    "\n",
    "Since testing always executes the program at hand, one can always gather information about its execution – the least is the information needed to decide whether a test passes or fails.  Since coverage is frequently measured as well to determine test quality, let us also assume we can retrieve coverage of a test run.  The question is then: _How can we leverage coverage to guide test generation?_"
   ]
  },
  {
   "cell_type": "markdown",
   "metadata": {
    "button": false,
    "new_sheet": false,
    "run_control": {
     "read_only": false
    },
    "slideshow": {
     "slide_type": "subslide"
    }
   },
   "source": [
    "One particularly successful idea is implemented in the popular fuzzer named [American fuzzy lop](http://lcamtuf.coredump.cx/afl/), or *AFL* for short.  Just like our examples above, AFL evolves test cases that have been successful – but for AFL, \"success\" means _finding a new path through the program execution_.  This way, AFL can keep on mutating inputs that so far have found new paths; and if an input finds another path, it will be retained as well."
   ]
  },
  {
   "cell_type": "markdown",
   "metadata": {
    "slideshow": {
     "slide_type": "subslide"
    }
   },
   "source": [
    "Let us build such a strategy.  We start with introducing a `Runner` class that captures the coverage for a given function.  First, a `FunctionRunner` class:"
   ]
  },
  {
   "cell_type": "code",
   "execution_count": 44,
   "metadata": {
    "button": false,
    "execution": {
     "iopub.execute_input": "2022-08-01T12:58:25.585134Z",
     "iopub.status.busy": "2022-08-01T12:58:25.585022Z",
     "iopub.status.idle": "2022-08-01T12:58:25.586618Z",
     "shell.execute_reply": "2022-08-01T12:58:25.586381Z"
    },
    "new_sheet": false,
    "run_control": {
     "read_only": false
    },
    "slideshow": {
     "slide_type": "skip"
    }
   },
   "outputs": [],
   "source": [
    "from Fuzzer import Runner"
   ]
  },
  {
   "cell_type": "code",
   "execution_count": 45,
   "metadata": {
    "button": false,
    "execution": {
     "iopub.execute_input": "2022-08-01T12:58:25.588129Z",
     "iopub.status.busy": "2022-08-01T12:58:25.588012Z",
     "iopub.status.idle": "2022-08-01T12:58:25.590743Z",
     "shell.execute_reply": "2022-08-01T12:58:25.590474Z"
    },
    "new_sheet": false,
    "run_control": {
     "read_only": false
    },
    "slideshow": {
     "slide_type": "fragment"
    }
   },
   "outputs": [],
   "source": [
    "class FunctionRunner(Runner):\n",
    "    def __init__(self, function: Callable) -> None:\n",
    "        \"\"\"Initialize.  `function` is a function to be executed\"\"\"\n",
    "        self.function = function\n",
    "\n",
    "    def run_function(self, inp: str) -> Any:\n",
    "        return self.function(inp)\n",
    "\n",
    "    def run(self, inp: str) -> Tuple[Any, str]:\n",
    "        try:\n",
    "            result = self.run_function(inp)\n",
    "            outcome = self.PASS\n",
    "        except Exception:\n",
    "            result = None\n",
    "            outcome = self.FAIL\n",
    "\n",
    "        return result, outcome"
   ]
  },
  {
   "cell_type": "code",
   "execution_count": 46,
   "metadata": {
    "execution": {
     "iopub.execute_input": "2022-08-01T12:58:25.592177Z",
     "iopub.status.busy": "2022-08-01T12:58:25.592056Z",
     "iopub.status.idle": "2022-08-01T12:58:25.594415Z",
     "shell.execute_reply": "2022-08-01T12:58:25.594065Z"
    },
    "slideshow": {
     "slide_type": "fragment"
    }
   },
   "outputs": [
    {
     "data": {
      "text/plain": [
       "(True, 'PASS')"
      ]
     },
     "execution_count": 46,
     "metadata": {},
     "output_type": "execute_result"
    }
   ],
   "source": [
    "http_runner = FunctionRunner(http_program)\n",
    "http_runner.run(\"https://foo.bar/\")"
   ]
  },
  {
   "cell_type": "markdown",
   "metadata": {
    "slideshow": {
     "slide_type": "subslide"
    }
   },
   "source": [
    "We can now extend the `FunctionRunner` class such that it also measures coverage.  After invoking `run()`, the `coverage()` method returns the coverage achieved in the last run."
   ]
  },
  {
   "cell_type": "code",
   "execution_count": 47,
   "metadata": {
    "button": false,
    "execution": {
     "iopub.execute_input": "2022-08-01T12:58:25.595911Z",
     "iopub.status.busy": "2022-08-01T12:58:25.595798Z",
     "iopub.status.idle": "2022-08-01T12:58:26.078903Z",
     "shell.execute_reply": "2022-08-01T12:58:26.078556Z"
    },
    "new_sheet": false,
    "run_control": {
     "read_only": false
    },
    "slideshow": {
     "slide_type": "skip"
    }
   },
   "outputs": [],
   "source": [
    "from Coverage import Coverage, population_coverage, Location"
   ]
  },
  {
   "cell_type": "code",
   "execution_count": 48,
   "metadata": {
    "button": false,
    "execution": {
     "iopub.execute_input": "2022-08-01T12:58:26.080800Z",
     "iopub.status.busy": "2022-08-01T12:58:26.080645Z",
     "iopub.status.idle": "2022-08-01T12:58:26.083153Z",
     "shell.execute_reply": "2022-08-01T12:58:26.082897Z"
    },
    "new_sheet": false,
    "run_control": {
     "read_only": false
    },
    "slideshow": {
     "slide_type": "fragment"
    }
   },
   "outputs": [],
   "source": [
    "class FunctionCoverageRunner(FunctionRunner):\n",
    "    def run_function(self, inp: str) -> Any:\n",
    "        with Coverage() as cov:\n",
    "            try:\n",
    "                result = super().run_function(inp)\n",
    "            except Exception as exc:\n",
    "                self._coverage = cov.coverage()\n",
    "                raise exc\n",
    "\n",
    "        self._coverage = cov.coverage()\n",
    "        return result\n",
    "\n",
    "    def coverage(self) -> Set[Location]:\n",
    "        return self._coverage"
   ]
  },
  {
   "cell_type": "code",
   "execution_count": 49,
   "metadata": {
    "execution": {
     "iopub.execute_input": "2022-08-01T12:58:26.084550Z",
     "iopub.status.busy": "2022-08-01T12:58:26.084440Z",
     "iopub.status.idle": "2022-08-01T12:58:26.086721Z",
     "shell.execute_reply": "2022-08-01T12:58:26.086473Z"
    },
    "slideshow": {
     "slide_type": "fragment"
    }
   },
   "outputs": [
    {
     "data": {
      "text/plain": [
       "(True, 'PASS')"
      ]
     },
     "execution_count": 49,
     "metadata": {},
     "output_type": "execute_result"
    }
   ],
   "source": [
    "http_runner = FunctionCoverageRunner(http_program)\n",
    "http_runner.run(\"https://foo.bar/\")"
   ]
  },
  {
   "cell_type": "markdown",
   "metadata": {
    "slideshow": {
     "slide_type": "subslide"
    }
   },
   "source": [
    "Here are the first five locations covered: "
   ]
  },
  {
   "cell_type": "code",
   "execution_count": 50,
   "metadata": {
    "execution": {
     "iopub.execute_input": "2022-08-01T12:58:26.088192Z",
     "iopub.status.busy": "2022-08-01T12:58:26.088085Z",
     "iopub.status.idle": "2022-08-01T12:58:26.089801Z",
     "shell.execute_reply": "2022-08-01T12:58:26.089563Z"
    },
    "slideshow": {
     "slide_type": "fragment"
    }
   },
   "outputs": [
    {
     "name": "stdout",
     "output_type": "stream",
     "text": [
      "[('urlsplit', 462), ('urlsplit', 465), ('urlsplit', 468), ('urlparse', 392), ('urlparse', 398)]\n"
     ]
    }
   ],
   "source": [
    "print(list(http_runner.coverage())[:5])"
   ]
  },
  {
   "cell_type": "markdown",
   "metadata": {
    "run_control": {},
    "slideshow": {
     "slide_type": "subslide"
    }
   },
   "source": [
    "Now for the main class.  We maintain the population and a set of coverages already achieved (`coverages_seen`).  The `fuzz()` helper function takes an input and runs the given `function()` on it.  If its coverage is new (i.e. not in `coverages_seen`), the input is added to `population` and the coverage to `coverages_seen`."
   ]
  },
  {
   "cell_type": "code",
   "execution_count": 51,
   "metadata": {
    "button": false,
    "execution": {
     "iopub.execute_input": "2022-08-01T12:58:26.091321Z",
     "iopub.status.busy": "2022-08-01T12:58:26.091220Z",
     "iopub.status.idle": "2022-08-01T12:58:26.093960Z",
     "shell.execute_reply": "2022-08-01T12:58:26.093693Z"
    },
    "new_sheet": false,
    "run_control": {
     "read_only": false
    },
    "slideshow": {
     "slide_type": "fragment"
    }
   },
   "outputs": [],
   "source": [
    "class MutationCoverageFuzzer(MutationFuzzer):\n",
    "    \"\"\"Fuzz with mutated inputs based on coverage\"\"\"\n",
    "\n",
    "    def reset(self) -> None:\n",
    "        super().reset()\n",
    "        self.coverages_seen: Set[frozenset] = set()\n",
    "        # Now empty; we fill this with seed in the first fuzz runs\n",
    "        self.population = []\n",
    "\n",
    "    def run(self, runner: FunctionCoverageRunner) -> Any:  # type: ignore\n",
    "        \"\"\"Run function(inp) while tracking coverage.\n",
    "           If we reach new coverage,\n",
    "           add inp to population and its coverage to population_coverage\n",
    "        \"\"\"\n",
    "        result, outcome = super().run(runner)\n",
    "        new_coverage = frozenset(runner.coverage())\n",
    "        if outcome == Runner.PASS and new_coverage not in self.coverages_seen:\n",
    "            # We have new coverage\n",
    "            self.population.append(self.inp)\n",
    "            self.coverages_seen.add(new_coverage)\n",
    "\n",
    "        return result"
   ]
  },
  {
   "cell_type": "markdown",
   "metadata": {
    "run_control": {},
    "slideshow": {
     "slide_type": "subslide"
    }
   },
   "source": [
    "Let us now put this to use:"
   ]
  },
  {
   "cell_type": "code",
   "execution_count": 52,
   "metadata": {
    "execution": {
     "iopub.execute_input": "2022-08-01T12:58:26.095730Z",
     "iopub.status.busy": "2022-08-01T12:58:26.095591Z",
     "iopub.status.idle": "2022-08-01T12:58:26.879359Z",
     "shell.execute_reply": "2022-08-01T12:58:26.879046Z"
    },
    "slideshow": {
     "slide_type": "fragment"
    }
   },
   "outputs": [
    {
     "data": {
      "text/plain": [
       "['http://www.google.com/search?q=fuzzing',\n",
       " 'http://www.goog.com/search;q=fuzzilng',\n",
       " 'http://ww.6goog\\x0eoomosearch;/q=f}zzilng',\n",
       " 'http://uv.Lboo.comoseakrch;q=fuzilng',\n",
       " 'http://ww.6goog\\x0eo/mosarch;/q=f}z{il~g',\n",
       " 'http://uv.Loo.comoeakrch;q=&fuzilyng',\n",
       " 'http://w.vYgog\\x0eo/mosarch;/1=n}z{ilg',\n",
       " 'http://www.gokgl.#om/searsh?q}fuzzing',\n",
       " \"http://$\\x7fw,gokgl.#om/searsh'?3q}fuziFng\",\n",
       " 'http://ww.6goofh\\x0eo/m2Larch;0/q?d}z{il~g',\n",
       " 'http://ww.6goof*Ho/m2Larch;0/q?Zd}zle{il~g',\n",
       " 'http://ww.6gofHKo/m2Larch;2.p?Zzle{il~g',\n",
       " 'http://ww.6gofHKom2Larch;2np?Zzle{il~g',\n",
       " \"http://\\x7fw,g\\\\okgl.c\\x7fm/searsh'3q}fjuziFng\",\n",
       " 'http://www.goOg.com/seazch;q=fuzzilng',\n",
       " 'http://wu.6gofHKo/m2Larch;2.p?Zzne{il~g',\n",
       " \"http://ww.6gofHom2arc<h;2.p'?Z#zle{l~g\",\n",
       " \"http://ww.6zgofHom2arc<h+2.p'?Z#zle{l~g\",\n",
       " \"http://w.ofHG2ar/c8h;2np'Z#zle{l~g\",\n",
       " \"http://w.ofGa/c8h%;2?np_'Z#zle{6~g\",\n",
       " 'http://ww.6goo*Ho/m2Larch;0/q?Zd#yzl9{i3l~g',\n",
       " \"http://w.ofGa/c8h%;2\\x17?.p_'Z#zle{6=~g\",\n",
       " 'http://wwg.6goo*Ho/m2Larch;0/qZd#yzl9{i3l~g',\n",
       " 'http://ww.4goo*Ho/}2LaSrch;0/q{Zd#yzl9Ci3l~yg',\n",
       " \"http://ww.'oo*Ho/m2Larch;0/q?Zd#yzl9{i#l~g\",\n",
       " 'http://ww4oo*Ho/3HSrch;0q{Zd#yzl9Ci3l>Yg']"
      ]
     },
     "execution_count": 52,
     "metadata": {},
     "output_type": "execute_result"
    }
   ],
   "source": [
    "seed_input = \"http://www.google.com/search?q=fuzzing\"\n",
    "mutation_fuzzer = MutationCoverageFuzzer(seed=[seed_input])\n",
    "mutation_fuzzer.runs(http_runner, trials=10000)\n",
    "mutation_fuzzer.population"
   ]
  },
  {
   "cell_type": "markdown",
   "metadata": {
    "button": false,
    "new_sheet": false,
    "run_control": {
     "read_only": false
    },
    "slideshow": {
     "slide_type": "subslide"
    }
   },
   "source": [
    "Success!  In our population, _each and every input_ now is valid and has a different coverage, coming from various combinations of schemes, paths, queries, and fragments."
   ]
  },
  {
   "cell_type": "code",
   "execution_count": 53,
   "metadata": {
    "button": false,
    "execution": {
     "iopub.execute_input": "2022-08-01T12:58:26.881271Z",
     "iopub.status.busy": "2022-08-01T12:58:26.881148Z",
     "iopub.status.idle": "2022-08-01T12:58:26.884761Z",
     "shell.execute_reply": "2022-08-01T12:58:26.884491Z"
    },
    "new_sheet": false,
    "run_control": {
     "read_only": false
    },
    "slideshow": {
     "slide_type": "subslide"
    }
   },
   "outputs": [],
   "source": [
    "all_coverage, cumulative_coverage = population_coverage(\n",
    "    mutation_fuzzer.population, http_program)"
   ]
  },
  {
   "cell_type": "code",
   "execution_count": 54,
   "metadata": {
    "button": false,
    "execution": {
     "iopub.execute_input": "2022-08-01T12:58:26.886355Z",
     "iopub.status.busy": "2022-08-01T12:58:26.886256Z",
     "iopub.status.idle": "2022-08-01T12:58:26.887873Z",
     "shell.execute_reply": "2022-08-01T12:58:26.887559Z"
    },
    "new_sheet": false,
    "run_control": {
     "read_only": false
    },
    "slideshow": {
     "slide_type": "subslide"
    }
   },
   "outputs": [],
   "source": [
    "import matplotlib.pyplot as plt  # type: ignore"
   ]
  },
  {
   "cell_type": "code",
   "execution_count": 55,
   "metadata": {
    "button": false,
    "execution": {
     "iopub.execute_input": "2022-08-01T12:58:26.889317Z",
     "iopub.status.busy": "2022-08-01T12:58:26.889205Z",
     "iopub.status.idle": "2022-08-01T12:58:26.952107Z",
     "shell.execute_reply": "2022-08-01T12:58:26.951811Z"
    },
    "new_sheet": false,
    "run_control": {
     "read_only": false
    },
    "slideshow": {
     "slide_type": "subslide"
    }
   },
   "outputs": [
    {
     "data": {
      "image/png": "[encoded data removed]",
      "text/plain": [
       "<Figure size 432x288 with 1 Axes>"
      ]
     },
     "metadata": {
      "needs_background": "light"
     },
     "output_type": "display_data"
    }
   ],
   "source": [
    "plt.plot(cumulative_coverage)\n",
    "plt.title('Coverage of urlparse() with random inputs')\n",
    "plt.xlabel('# of inputs')\n",
    "plt.ylabel('lines covered');"
   ]
  },
  {
   "cell_type": "markdown",
   "metadata": {
    "button": false,
    "new_sheet": false,
    "run_control": {
     "read_only": false
    },
    "slideshow": {
     "slide_type": "fragment"
    }
   },
   "source": [
    "The nice thing about this strategy is that, applied to larger programs, it will happily explore one path after the other – covering functionality after functionality.  All that is needed is a means to capture the coverage."
   ]
  },
  {
   "cell_type": "markdown",
   "metadata": {
    "slideshow": {
     "slide_type": "slide"
    }
   },
   "source": [
    "## Synopsis\n",
    "\n",
    "This chapter introduces a `MutationFuzzer` class that takes a list of _seed inputs_ which are then mutated:"
   ]
  },
  {
   "cell_type": "code",
   "execution_count": 56,
   "metadata": {
    "execution": {
     "iopub.execute_input": "2022-08-01T12:58:26.953833Z",
     "iopub.status.busy": "2022-08-01T12:58:26.953679Z",
     "iopub.status.idle": "2022-08-01T12:58:26.956558Z",
     "shell.execute_reply": "2022-08-01T12:58:26.956313Z"
    },
    "slideshow": {
     "slide_type": "subslide"
    }
   },
   "outputs": [
    {
     "data": {
      "text/plain": [
       "['http://www.google.com/search?q=fuzzing',\n",
       " '=http:/.www.googje.om/;earch?q5fuzzing',\n",
       " 'http://wwqw.googLle.com/sgearch?q=fuzzing',\n",
       " 'ht,tp*//www.ggogle.com/search?a=fuzzing',\n",
       " \"h(tpy:/wGw.goo'l%.com/searc?q=fuz~ing\",\n",
       " 'hp://www.gooelecom/)search?q=fuz?zing?',\n",
       " \"httpv//www.goo6gl.#om'search?q=Puzzin\",\n",
       " 'htp://www.gogle.com/search?q#W=fuzzng',\n",
       " 'http://www.google.com</searc?q=fzzinw',\n",
       " '`ttp:b/www.googe.bom/seeRch?q=f5zYzizng']"
      ]
     },
     "execution_count": 56,
     "metadata": {},
     "output_type": "execute_result"
    }
   ],
   "source": [
    "seed_input = \"http://www.google.com/search?q=fuzzing\"\n",
    "mutation_fuzzer = MutationFuzzer(seed=[seed_input])\n",
    "[mutation_fuzzer.fuzz() for i in range(10)]"
   ]
  },
  {
   "cell_type": "markdown",
   "metadata": {
    "slideshow": {
     "slide_type": "fragment"
    }
   },
   "source": [
    "The `MutationCoverageFuzzer` maintains a _population_ of inputs, which are then evolved in order to maximize coverage."
   ]
  },
  {
   "cell_type": "code",
   "execution_count": 57,
   "metadata": {
    "execution": {
     "iopub.execute_input": "2022-08-01T12:58:26.958127Z",
     "iopub.status.busy": "2022-08-01T12:58:26.958010Z",
     "iopub.status.idle": "2022-08-01T12:58:27.753903Z",
     "shell.execute_reply": "2022-08-01T12:58:27.753488Z"
    },
    "slideshow": {
     "slide_type": "fragment"
    }
   },
   "outputs": [
    {
     "data": {
      "text/plain": [
       "['http://www.google.com/search?q=fuzzing',\n",
       " 'http://~www.goog|eV.com/search?q=fuzzing',\n",
       " 'http://~www.goog|eV._co/seazc>q=fuzzing.',\n",
       " 'http://~www.go/og|eVcom_/ser#h?vq=fqzzisne',\n",
       " 'http://~www.goo|T.co/xsazc>]q=fu:zing']"
      ]
     },
     "execution_count": 57,
     "metadata": {},
     "output_type": "execute_result"
    }
   ],
   "source": [
    "mutation_fuzzer = MutationCoverageFuzzer(seed=[seed_input])\n",
    "mutation_fuzzer.runs(http_runner, trials=10000)\n",
    "mutation_fuzzer.population[:5]"
   ]
  },
  {
   "cell_type": "code",
   "execution_count": 58,
   "metadata": {
    "execution": {
     "iopub.execute_input": "2022-08-01T12:58:27.756159Z",
     "iopub.status.busy": "2022-08-01T12:58:27.755884Z",
     "iopub.status.idle": "2022-08-01T12:58:27.757883Z",
     "shell.execute_reply": "2022-08-01T12:58:27.757543Z"
    },
    "slideshow": {
     "slide_type": "fragment"
    }
   },
   "outputs": [],
   "source": [
    "# ignore\n",
    "from ClassDiagram import display_class_hierarchy"
   ]
  },
  {
   "cell_type": "code",
   "execution_count": 59,
   "metadata": {
    "execution": {
     "iopub.execute_input": "2022-08-01T12:58:27.759398Z",
     "iopub.status.busy": "2022-08-01T12:58:27.759281Z",
     "iopub.status.idle": "2022-08-01T12:58:28.147620Z",
     "shell.execute_reply": "2022-08-01T12:58:28.147208Z"
    },
    "slideshow": {
     "slide_type": "subslide"
    }
   },
   "outputs": [
    {
     "data": {
      "image/svg+xml": [
       "<?xml version=\"1.0\" encoding=\"UTF-8\" standalone=\"no\"?>\n",
       "<!DOCTYPE svg PUBLIC \"-//W3C//DTD SVG 1.1//EN\"\n",
       " \"http://www.w3.org/Graphics/SVG/1.1/DTD/svg11.dtd\">\n",
       "<!-- Generated by graphviz version 3.0.0 (20220226.1711)\n",
       " -->\n",
       "<!-- Pages: 1 -->\n",
       "<svg width=\"320pt\" height=\"297pt\"\n",
       " viewBox=\"0.00 0.00 320.00 297.00\" xmlns=\"http://www.w3.org/2000/svg\" xmlns:xlink=\"http://www.w3.org/1999/xlink\">\n",
       "<g id=\"graph0\" class=\"graph\" transform=\"scale(1 1) rotate(0) translate(4 293)\">\n",
       "<g id=\"a_graph0\"><a xlink:title=\"MutationCoverageFuzzer class hierarchy\">\n",
       "<polygon fill=\"white\" stroke=\"transparent\" points=\"-4,4 -4,-293 316,-293 316,4 -4,4\"/>\n",
       "</a>\n",
       "</g>\n",
       "<!-- MutationCoverageFuzzer -->\n",
       "<g id=\"node1\" class=\"node\">\n",
       "<title>MutationCoverageFuzzer</title>\n",
       "<g id=\"a_node1\"><a xlink:href=\"#\" xlink:title=\"class MutationCoverageFuzzer:&#10;Fuzz with mutated inputs based on coverage\">\n",
       "<polygon fill=\"none\" stroke=\"black\" points=\"0,-0.5 0,-53.5 174,-53.5 174,-0.5 0,-0.5\"/>\n",
       "<text text-anchor=\"start\" x=\"8\" y=\"-39.3\" font-family=\"Patua One, Helvetica, sans-serif\" font-weight=\"bold\" font-size=\"14.00\" fill=\"#b03a2e\">MutationCoverageFuzzer</text>\n",
       "<polyline fill=\"none\" stroke=\"black\" points=\"0,-30.5 174,-30.5 \"/>\n",
       "<g id=\"a_node1_0\"><a xlink:href=\"#\" xlink:title=\"MutationCoverageFuzzer\">\n",
       "<g id=\"a_node1_1\"><a xlink:href=\"#\" xlink:title=\"run(self, runner: FunctionCoverageRunner) &#45;&gt; Any:&#10;Run function(inp) while tracking coverage.&#10;If we reach new coverage,&#10;add inp to population and its coverage to population_coverage\">\n",
       "<text text-anchor=\"start\" x=\"66\" y=\"-19.5\" font-family=\"'Fira Mono', 'Source Code Pro', 'Courier', monospace\" font-weight=\"bold\" font-style=\"italic\" font-size=\"10.00\">run()</text>\n",
       "</a>\n",
       "</g>\n",
       "<g id=\"a_node1_2\"><a xlink:href=\"#\" xlink:title=\"reset(self) &#45;&gt; None:&#10;Set population to initial seed.&#10;To be overloaded in subclasses.\">\n",
       "<text text-anchor=\"start\" x=\"66\" y=\"-8.5\" font-family=\"'Fira Mono', 'Source Code Pro', 'Courier', monospace\" font-style=\"italic\" font-size=\"10.00\">reset()</text>\n",
       "</a>\n",
       "</g>\n",
       "</a>\n",
       "</g>\n",
       "</a>\n",
       "</g>\n",
       "</g>\n",
       "<!-- MutationFuzzer -->\n",
       "<g id=\"node2\" class=\"node\">\n",
       "<title>MutationFuzzer</title>\n",
       "<g id=\"a_node2\"><a xlink:href=\"#\" xlink:title=\"class MutationFuzzer:&#10;Base class for mutational fuzzing\">\n",
       "<polygon fill=\"none\" stroke=\"black\" points=\"24.5,-90.5 24.5,-176.5 149.5,-176.5 149.5,-90.5 24.5,-90.5\"/>\n",
       "<text text-anchor=\"start\" x=\"37\" y=\"-162.3\" font-family=\"Patua One, Helvetica, sans-serif\" font-weight=\"bold\" font-size=\"14.00\" fill=\"#b03a2e\">MutationFuzzer</text>\n",
       "<polyline fill=\"none\" stroke=\"black\" points=\"24.5,-153.5 149.5,-153.5 \"/>\n",
       "<g id=\"a_node2_3\"><a xlink:href=\"#\" xlink:title=\"MutationFuzzer\">\n",
       "<g id=\"a_node2_4\"><a xlink:href=\"#\" xlink:title=\"__init__(self, seed: List[str], min_mutations: int = 2, max_mutations: int = 10) &#45;&gt; None:&#10;Constructor.&#10;`seed` &#45; a list of (input) strings to mutate.&#10;`min_mutations` &#45; the minimum number of mutations to apply.&#10;`max_mutations` &#45; the maximum number of mutations to apply.\">\n",
       "<text text-anchor=\"start\" x=\"33\" y=\"-142\" font-family=\"'Fira Mono', 'Source Code Pro', 'Courier', monospace\" font-weight=\"bold\" font-style=\"italic\" font-size=\"10.00\">__init__()</text>\n",
       "</a>\n",
       "</g>\n",
       "<g id=\"a_node2_5\"><a xlink:href=\"#\" xlink:title=\"fuzz(self) &#45;&gt; str:&#10;Return fuzz input\">\n",
       "<text text-anchor=\"start\" x=\"33\" y=\"-131\" font-family=\"'Fira Mono', 'Source Code Pro', 'Courier', monospace\" font-weight=\"bold\" font-style=\"italic\" font-size=\"10.00\">fuzz()</text>\n",
       "</a>\n",
       "</g>\n",
       "<g id=\"a_node2_6\"><a xlink:href=\"#\" xlink:title=\"create_candidate(self) &#45;&gt; str:&#10;Create a new candidate by mutating a population member\">\n",
       "<text text-anchor=\"start\" x=\"33\" y=\"-119\" font-family=\"'Fira Mono', 'Source Code Pro', 'Courier', monospace\" font-size=\"10.00\">create_candidate()</text>\n",
       "</a>\n",
       "</g>\n",
       "<g id=\"a_node2_7\"><a xlink:href=\"#\" xlink:title=\"mutate(self, inp: str) &#45;&gt; str\">\n",
       "<text text-anchor=\"start\" x=\"33\" y=\"-108\" font-family=\"'Fira Mono', 'Source Code Pro', 'Courier', monospace\" font-size=\"10.00\">mutate()</text>\n",
       "</a>\n",
       "</g>\n",
       "<g id=\"a_node2_8\"><a xlink:href=\"#\" xlink:title=\"reset(self) &#45;&gt; None:&#10;Set population to initial seed.&#10;To be overloaded in subclasses.\">\n",
       "<text text-anchor=\"start\" x=\"33\" y=\"-98\" font-family=\"'Fira Mono', 'Source Code Pro', 'Courier', monospace\" font-style=\"italic\" font-size=\"10.00\">reset()</text>\n",
       "</a>\n",
       "</g>\n",
       "</a>\n",
       "</g>\n",
       "</a>\n",
       "</g>\n",
       "</g>\n",
       "<!-- MutationCoverageFuzzer&#45;&gt;MutationFuzzer -->\n",
       "<g id=\"edge1\" class=\"edge\">\n",
       "<title>MutationCoverageFuzzer&#45;&gt;MutationFuzzer</title>\n",
       "<path fill=\"none\" stroke=\"black\" d=\"M87,-53.56C87,-61.55 87,-70.68 87,-79.83\"/>\n",
       "<polygon fill=\"none\" stroke=\"black\" points=\"83.5,-80.1 87,-90.1 90.5,-80.1 83.5,-80.1\"/>\n",
       "</g>\n",
       "<!-- Fuzzer -->\n",
       "<g id=\"node3\" class=\"node\">\n",
       "<title>Fuzzer</title>\n",
       "<g id=\"a_node3\"><a xlink:href=\"Fuzzer.ipynb\" xlink:title=\"class Fuzzer:&#10;Base class for fuzzers.\">\n",
       "<polygon fill=\"none\" stroke=\"black\" points=\"48.5,-213.5 48.5,-288.5 125.5,-288.5 125.5,-213.5 48.5,-213.5\"/>\n",
       "<text text-anchor=\"start\" x=\"66\" y=\"-274.3\" font-family=\"Patua One, Helvetica, sans-serif\" font-weight=\"bold\" font-size=\"14.00\" fill=\"#b03a2e\">Fuzzer</text>\n",
       "<polyline fill=\"none\" stroke=\"black\" points=\"48.5,-265.5 125.5,-265.5 \"/>\n",
       "<g id=\"a_node3_9\"><a xlink:href=\"#\" xlink:title=\"Fuzzer\">\n",
       "<g id=\"a_node3_10\"><a xlink:href=\"Fuzzer.ipynb\" xlink:title=\"__init__(self) &#45;&gt; None:&#10;Constructor\">\n",
       "<text text-anchor=\"start\" x=\"57\" y=\"-254.5\" font-family=\"'Fira Mono', 'Source Code Pro', 'Courier', monospace\" font-weight=\"bold\" font-style=\"italic\" font-size=\"10.00\">__init__()</text>\n",
       "</a>\n",
       "</g>\n",
       "<g id=\"a_node3_11\"><a xlink:href=\"Fuzzer.ipynb\" xlink:title=\"fuzz(self) &#45;&gt; str:&#10;Return fuzz input\">\n",
       "<text text-anchor=\"start\" x=\"57\" y=\"-243.5\" font-family=\"'Fira Mono', 'Source Code Pro', 'Courier', monospace\" font-weight=\"bold\" font-style=\"italic\" font-size=\"10.00\">fuzz()</text>\n",
       "</a>\n",
       "</g>\n",
       "<g id=\"a_node3_12\"><a xlink:href=\"Fuzzer.ipynb\" xlink:title=\"run(self, runner: Fuzzer.Runner = &lt;Fuzzer.Runner object at 0x106df93d0&gt;) &#45;&gt; Tuple[subprocess.CompletedProcess, str]:&#10;Run `runner` with fuzz input\">\n",
       "<text text-anchor=\"start\" x=\"57\" y=\"-232.5\" font-family=\"'Fira Mono', 'Source Code Pro', 'Courier', monospace\" font-weight=\"bold\" font-style=\"italic\" font-size=\"10.00\">run()</text>\n",
       "</a>\n",
       "</g>\n",
       "<g id=\"a_node3_13\"><a xlink:href=\"Fuzzer.ipynb\" xlink:title=\"runs(self, runner: Fuzzer.Runner = &lt;Fuzzer.PrintRunner object at 0x106cc0eb0&gt;, trials: int = 10) &#45;&gt; List[Tuple[subprocess.CompletedProcess, str]]:&#10;Run `runner` with fuzz input, `trials` times\">\n",
       "<text text-anchor=\"start\" x=\"57\" y=\"-221.5\" font-family=\"'Fira Mono', 'Source Code Pro', 'Courier', monospace\" font-weight=\"bold\" font-size=\"10.00\">runs()</text>\n",
       "</a>\n",
       "</g>\n",
       "</a>\n",
       "</g>\n",
       "</a>\n",
       "</g>\n",
       "</g>\n",
       "<!-- MutationFuzzer&#45;&gt;Fuzzer -->\n",
       "<g id=\"edge2\" class=\"edge\">\n",
       "<title>MutationFuzzer&#45;&gt;Fuzzer</title>\n",
       "<path fill=\"none\" stroke=\"black\" d=\"M87,-176.52C87,-185.15 87,-194.28 87,-203.06\"/>\n",
       "<polygon fill=\"none\" stroke=\"black\" points=\"83.5,-203.16 87,-213.16 90.5,-203.16 83.5,-203.16\"/>\n",
       "</g>\n",
       "<!-- Legend -->\n",
       "<g id=\"node4\" class=\"node\">\n",
       "<title>Legend</title>\n",
       "<text text-anchor=\"start\" x=\"192\" y=\"-44.5\" font-family=\"Patua One, Helvetica, sans-serif\" font-weight=\"bold\" font-size=\"10.00\" fill=\"#b03a2e\">Legend</text>\n",
       "<text text-anchor=\"start\" x=\"192\" y=\"-34.5\" font-family=\"Patua One, Helvetica, sans-serif\" font-size=\"10.00\">• </text>\n",
       "<text text-anchor=\"start\" x=\"199\" y=\"-34.5\" font-family=\"'Fira Mono', 'Source Code Pro', 'Courier', monospace\" font-weight=\"bold\" font-size=\"8.00\">public_method()</text>\n",
       "<text text-anchor=\"start\" x=\"192\" y=\"-24.5\" font-family=\"Patua One, Helvetica, sans-serif\" font-size=\"10.00\">• </text>\n",
       "<text text-anchor=\"start\" x=\"199\" y=\"-24.5\" font-family=\"'Fira Mono', 'Source Code Pro', 'Courier', monospace\" font-size=\"8.00\">private_method()</text>\n",
       "<text text-anchor=\"start\" x=\"192\" y=\"-14.5\" font-family=\"Patua One, Helvetica, sans-serif\" font-size=\"10.00\">• </text>\n",
       "<text text-anchor=\"start\" x=\"199\" y=\"-14.5\" font-family=\"'Fira Mono', 'Source Code Pro', 'Courier', monospace\" font-style=\"italic\" font-size=\"8.00\">overloaded_method()</text>\n",
       "<text text-anchor=\"start\" x=\"192\" y=\"-5.3\" font-family=\"Helvetica,sans-Serif\" font-size=\"9.00\">Hover over names to see doc</text>\n",
       "</g>\n",
       "</g>\n",
       "</svg>\n"
      ],
      "text/plain": [
       "<graphviz.graphs.Digraph at 0x1069199d0>"
      ]
     },
     "execution_count": 59,
     "metadata": {},
     "output_type": "execute_result"
    }
   ],
   "source": [
    "# ignore\n",
    "display_class_hierarchy(MutationCoverageFuzzer,\n",
    "                        public_methods=[\n",
    "                            Fuzzer.run,\n",
    "                            Fuzzer.__init__,\n",
    "                            Fuzzer.runs,\n",
    "                            Fuzzer.fuzz,\n",
    "                            MutationFuzzer.__init__,\n",
    "                            MutationFuzzer.fuzz,\n",
    "                            MutationCoverageFuzzer.run,\n",
    "                        ],\n",
    "                        types={'Location': Location},\n",
    "                        project='fuzzingbook')"
   ]
  },
  {
   "cell_type": "markdown",
   "metadata": {
    "button": false,
    "new_sheet": false,
    "run_control": {
     "read_only": false
    },
    "slideshow": {
     "slide_type": "slide"
    }
   },
   "source": [
    "## Lessons Learned\n",
    "\n",
    "* Randomly generated inputs are frequently invalid – and thus exercise mostly input processing functionality.\n",
    "* Mutations from existing valid inputs have much higher chances to be valid, and thus to exercise functionality beyond input processing.\n"
   ]
  },
  {
   "cell_type": "markdown",
   "metadata": {
    "button": false,
    "new_sheet": false,
    "run_control": {
     "read_only": false
    },
    "slideshow": {
     "slide_type": "slide"
    }
   },
   "source": [
    "## Next Steps\n",
    "\n",
    "In the next chapter on [greybox fuzzing](GreyboxFuzzer.ipynb), we further extend the concept of mutation-based testing with _power schedules_ that allow to spend more energy on seeds that exercise \"unlikely\" paths and seeds that are \"closer\" to a target location."
   ]
  },
  {
   "cell_type": "markdown",
   "metadata": {
    "button": false,
    "new_sheet": false,
    "run_control": {
     "read_only": false
    },
    "slideshow": {
     "slide_type": "slide"
    }
   },
   "source": [
    "## Exercises\n"
   ]
  },
  {
   "cell_type": "markdown",
   "metadata": {
    "button": false,
    "new_sheet": false,
    "run_control": {
     "read_only": false
    },
    "slideshow": {
     "slide_type": "subslide"
    }
   },
   "source": [
    "### Exercise 1: Fuzzing CGI decode with Mutations\n",
    "\n",
    "Apply the above _guided_ mutation-based fuzzing technique on `cgi_decode()` from the [\"Coverage\"](Coverage.ipynb) chapter.  How many trials do you need until you cover all variations of `+`, `%` (valid and invalid), and regular characters?"
   ]
  },
  {
   "cell_type": "code",
   "execution_count": 60,
   "metadata": {
    "execution": {
     "iopub.execute_input": "2022-08-01T12:58:28.149620Z",
     "iopub.status.busy": "2022-08-01T12:58:28.149473Z",
     "iopub.status.idle": "2022-08-01T12:58:28.151466Z",
     "shell.execute_reply": "2022-08-01T12:58:28.151241Z"
    },
    "run_control": {},
    "slideshow": {
     "slide_type": "skip"
    }
   },
   "outputs": [],
   "source": [
    "from Coverage import cgi_decode"
   ]
  },
  {
   "cell_type": "code",
   "execution_count": 61,
   "metadata": {
    "execution": {
     "iopub.execute_input": "2022-08-01T12:58:28.153134Z",
     "iopub.status.busy": "2022-08-01T12:58:28.153016Z",
     "iopub.status.idle": "2022-08-01T12:58:29.571414Z",
     "shell.execute_reply": "2022-08-01T12:58:29.569535Z"
    },
    "run_control": {},
    "slideshow": {
     "slide_type": "fragment"
    }
   },
   "outputs": [],
   "source": [
    "seed = [\"Hello World\"]\n",
    "cgi_runner = FunctionCoverageRunner(cgi_decode)\n",
    "m = MutationCoverageFuzzer(seed)\n",
    "results = m.runs(cgi_runner, 10000)"
   ]
  },
  {
   "cell_type": "code",
   "execution_count": 62,
   "metadata": {
    "execution": {
     "iopub.execute_input": "2022-08-01T12:58:29.579328Z",
     "iopub.status.busy": "2022-08-01T12:58:29.578872Z",
     "iopub.status.idle": "2022-08-01T12:58:29.713953Z",
     "shell.execute_reply": "2022-08-01T12:58:29.710659Z"
    },
    "slideshow": {
     "slide_type": "subslide"
    }
   },
   "outputs": [
    {
     "data": {
      "text/plain": [
       "['Hello World',\n",
       " '5ln5yo Wo+Cr8<ld',\n",
       " 'ln5y Wo+c?21%85<l=d',\n",
       " 'ln1=y Wo#?21%85<l=d']"
      ]
     },
     "execution_count": 62,
     "metadata": {},
     "output_type": "execute_result"
    }
   ],
   "source": [
    "m.population"
   ]
  },
  {
   "cell_type": "code",
   "execution_count": 63,
   "metadata": {
    "execution": {
     "iopub.execute_input": "2022-08-01T12:58:29.726579Z",
     "iopub.status.busy": "2022-08-01T12:58:29.726074Z",
     "iopub.status.idle": "2022-08-01T12:58:29.758555Z",
     "shell.execute_reply": "2022-08-01T12:58:29.734283Z"
    },
    "slideshow": {
     "slide_type": "subslide"
    }
   },
   "outputs": [
    {
     "data": {
      "text/plain": [
       "{('cgi_decode', 16),\n",
       " ('cgi_decode', 17),\n",
       " ('cgi_decode', 18),\n",
       " ('cgi_decode', 19),\n",
       " ('cgi_decode', 20),\n",
       " ('cgi_decode', 23),\n",
       " ('cgi_decode', 24),\n",
       " ('cgi_decode', 25),\n",
       " ('cgi_decode', 26),\n",
       " ('cgi_decode', 27),\n",
       " ('cgi_decode', 28),\n",
       " ('cgi_decode', 29),\n",
       " ('cgi_decode', 30),\n",
       " ('cgi_decode', 31),\n",
       " ('cgi_decode', 32),\n",
       " ('cgi_decode', 33),\n",
       " ('cgi_decode', 34),\n",
       " ('cgi_decode', 38),\n",
       " ('cgi_decode', 39),\n",
       " ('cgi_decode', 40),\n",
       " ('run_function', 7)}"
      ]
     },
     "execution_count": 63,
     "metadata": {},
     "output_type": "execute_result"
    }
   ],
   "source": [
    "cgi_runner.coverage()"
   ]
  },
  {
   "cell_type": "code",
   "execution_count": 64,
   "metadata": {
    "button": false,
    "execution": {
     "iopub.execute_input": "2022-08-01T12:58:29.762659Z",
     "iopub.status.busy": "2022-08-01T12:58:29.762313Z",
     "iopub.status.idle": "2022-08-01T12:58:29.928091Z",
     "shell.execute_reply": "2022-08-01T12:58:29.926630Z"
    },
    "new_sheet": false,
    "run_control": {
     "read_only": false
    },
    "slideshow": {
     "slide_type": "fragment"
    }
   },
   "outputs": [
    {
     "data": {
      "image/png": "[encoded data removed]",
      "text/plain": [
       "<Figure size 432x288 with 1 Axes>"
      ]
     },
     "metadata": {
      "needs_background": "light"
     },
     "output_type": "display_data"
    }
   ],
   "source": [
    "all_coverage, cumulative_coverage = population_coverage(\n",
    "    m.population, cgi_decode)\n",
    "\n",
    "import matplotlib.pyplot as plt\n",
    "plt.plot(cumulative_coverage)\n",
    "plt.title('Coverage of cgi_decode() with random inputs')\n",
    "plt.xlabel('# of inputs')\n",
    "plt.ylabel('lines covered');"
   ]
  },
  {
   "cell_type": "markdown",
   "metadata": {
    "slideshow": {
     "slide_type": "fragment"
    }
   },
   "source": [
    "After 10,000 runs, we have managed to synthesize a `+` character and a valid `%xx` form.  We can still do better."
   ]
  },
  {
   "cell_type": "markdown",
   "metadata": {
    "button": false,
    "new_sheet": false,
    "run_control": {
     "read_only": false
    },
    "slideshow": {
     "slide_type": "subslide"
    },
    "solution2": "hidden",
    "solution2_first": true
   },
   "source": [
    "### Exercise 2: Fuzzing bc with Mutations\n",
    "\n",
    "Apply the above mutation-based fuzzing technique on `bc`, as in the chapter [\"Introduction to Fuzzing\"](Fuzzer.ipynb).\n",
    "\n",
    "#### Part 1: Non-Guided Mutations\n",
    "\n",
    "Start with non-guided mutations.  How many of the inputs are valid?"
   ]
  },
  {
   "cell_type": "markdown",
   "metadata": {
    "slideshow": {
     "slide_type": "skip"
    },
    "solution2": "hidden"
   },
   "source": [
    "**Solution.** This is just a matter of tying a `ProgramRunner` to a `MutationFuzzer`:"
   ]
  },
  {
   "cell_type": "code",
   "execution_count": 65,
   "metadata": {
    "execution": {
     "iopub.execute_input": "2022-08-01T12:58:29.933013Z",
     "iopub.status.busy": "2022-08-01T12:58:29.932163Z",
     "iopub.status.idle": "2022-08-01T12:58:29.937011Z",
     "shell.execute_reply": "2022-08-01T12:58:29.935078Z"
    },
    "slideshow": {
     "slide_type": "skip"
    },
    "solution2": "hidden"
   },
   "outputs": [],
   "source": [
    "from Fuzzer import ProgramRunner"
   ]
  },
  {
   "cell_type": "code",
   "execution_count": 66,
   "metadata": {
    "execution": {
     "iopub.execute_input": "2022-08-01T12:58:29.943911Z",
     "iopub.status.busy": "2022-08-01T12:58:29.943122Z",
     "iopub.status.idle": "2022-08-01T12:58:30.302810Z",
     "shell.execute_reply": "2022-08-01T12:58:30.302072Z"
    },
    "slideshow": {
     "slide_type": "skip"
    },
    "solution2": "hidden"
   },
   "outputs": [],
   "source": [
    "seed = [\"1 + 1\"]\n",
    "bc = ProgramRunner(program=\"bc\")\n",
    "m = MutationFuzzer(seed)\n",
    "outcomes = m.runs(bc, trials=100)"
   ]
  },
  {
   "cell_type": "code",
   "execution_count": 67,
   "metadata": {
    "execution": {
     "iopub.execute_input": "2022-08-01T12:58:30.305229Z",
     "iopub.status.busy": "2022-08-01T12:58:30.304934Z",
     "iopub.status.idle": "2022-08-01T12:58:30.308197Z",
     "shell.execute_reply": "2022-08-01T12:58:30.307856Z"
    },
    "slideshow": {
     "slide_type": "skip"
    },
    "solution2": "hidden"
   },
   "outputs": [
    {
     "data": {
      "text/plain": [
       "[(CompletedProcess(args='bc', returncode=0, stdout='', stderr='(standard_in) 1: parse error\\n'),\n",
       "  'PASS'),\n",
       " (CompletedProcess(args='bc', returncode=0, stdout='', stderr=''), 'PASS'),\n",
       " (CompletedProcess(args='bc', returncode=0, stdout='', stderr='(standard_in) 1: parse error\\n'),\n",
       "  'PASS')]"
      ]
     },
     "execution_count": 67,
     "metadata": {},
     "output_type": "execute_result"
    }
   ],
   "source": [
    "outcomes[:3]"
   ]
  },
  {
   "cell_type": "code",
   "execution_count": 68,
   "metadata": {
    "execution": {
     "iopub.execute_input": "2022-08-01T12:58:30.309881Z",
     "iopub.status.busy": "2022-08-01T12:58:30.309746Z",
     "iopub.status.idle": "2022-08-01T12:58:30.312703Z",
     "shell.execute_reply": "2022-08-01T12:58:30.312399Z"
    },
    "slideshow": {
     "slide_type": "skip"
    },
    "solution2": "hidden"
   },
   "outputs": [
    {
     "data": {
      "text/plain": [
       "2"
      ]
     },
     "execution_count": 68,
     "metadata": {},
     "output_type": "execute_result"
    }
   ],
   "source": [
    "sum(1 for completed_process, outcome in outcomes if completed_process.stderr == \"\")"
   ]
  },
  {
   "cell_type": "markdown",
   "metadata": {
    "slideshow": {
     "slide_type": "subslide"
    }
   },
   "source": [
    "#### Part 2: Guided Mutations\n",
    "\n",
    "Continue with _guided_ mutations.  To this end, you will have to find a way to extract coverage from a C program such as `bc`.  Proceed in these steps:\n",
    "\n",
    "First, get [GNU bc](https://www.gnu.org/software/bc/); download, say, `bc-1.07.1.tar.gz` and unpack it:"
   ]
  },
  {
   "cell_type": "code",
   "execution_count": 69,
   "metadata": {
    "execution": {
     "iopub.execute_input": "2022-08-01T12:58:30.314705Z",
     "iopub.status.busy": "2022-08-01T12:58:30.314533Z",
     "iopub.status.idle": "2022-08-01T12:58:31.804952Z",
     "shell.execute_reply": "2022-08-01T12:58:31.804543Z"
    },
    "slideshow": {
     "slide_type": "fragment"
    }
   },
   "outputs": [
    {
     "name": "stdout",
     "output_type": "stream",
     "text": [
      "  % Total    % Received % Xferd  Average Speed   Time    Time     Time  Current\r\n",
      "                                 Dload  Upload   Total   Spent    Left  Speed\r\n",
      "100  410k  100  410k    0     0   299k      0  0:00:01  0:00:01 --:--:--  300k\r\n"
     ]
    }
   ],
   "source": [
    "!curl -O mirrors.kernel.org/gnu/bc/bc-1.07.1.tar.gz"
   ]
  },
  {
   "cell_type": "code",
   "execution_count": 70,
   "metadata": {
    "execution": {
     "iopub.execute_input": "2022-08-01T12:58:31.806942Z",
     "iopub.status.busy": "2022-08-01T12:58:31.806809Z",
     "iopub.status.idle": "2022-08-01T12:58:31.939161Z",
     "shell.execute_reply": "2022-08-01T12:58:31.938525Z"
    },
    "slideshow": {
     "slide_type": "fragment"
    }
   },
   "outputs": [],
   "source": [
    "!tar xfz bc-1.07.1.tar.gz"
   ]
  },
  {
   "cell_type": "markdown",
   "metadata": {
    "slideshow": {
     "slide_type": "subslide"
    }
   },
   "source": [
    "Second, configure the package:"
   ]
  },
  {
   "cell_type": "code",
   "execution_count": 71,
   "metadata": {
    "execution": {
     "iopub.execute_input": "2022-08-01T12:58:31.941595Z",
     "iopub.status.busy": "2022-08-01T12:58:31.941439Z",
     "iopub.status.idle": "2022-08-01T12:58:39.505792Z",
     "shell.execute_reply": "2022-08-01T12:58:39.505336Z"
    },
    "slideshow": {
     "slide_type": "subslide"
    }
   },
   "outputs": [
    {
     "name": "stdout",
     "output_type": "stream",
     "text": [
      "checking for a BSD-compatible install... /opt/homebrew/bin/ginstall -c\r\n",
      "checking whether build environment is sane... yes\r\n",
      "checking for a thread-safe mkdir -p... /opt/homebrew/bin/gmkdir -p\r\n",
      "checking for gawk... no\r\n",
      "checking for mawk... no\r\n",
      "checking for nawk... no\r\n",
      "checking for awk... awk\r\n",
      "checking whether make sets $(MAKE)... yes\r\n",
      "checking whether make supports nested variables... yes\r\n",
      "checking for gcc... gcc\r\n",
      "checking whether the C compiler works... yes\r\n",
      "checking for C compiler default output file name... a.out\r\n",
      "checking for suffix of executables... \r\n",
      "checking whether we are cross compiling... no\r\n",
      "checking for suffix of object files... o\r\n",
      "checking whether we are using the GNU C compiler... yes\r\n",
      "checking whether gcc accepts -g... yes\r\n",
      "checking for gcc option to accept ISO C89... none needed\r\n",
      "checking whether gcc understands -c and -o together... yes\r\n",
      "checking for style of include used by make... GNU\r\n",
      "checking dependency style of gcc... gcc3\r\n",
      "checking how to run the C preprocessor... gcc -E\r\n",
      "checking for grep that handles long lines and -e... /usr/bin/grep\r\n",
      "checking for egrep... /usr/bin/grep -E\r\n",
      "checking for ANSI C header files... yes\r\n",
      "checking for sys/types.h... yes\r\n",
      "checking for sys/stat.h... yes\r\n",
      "checking for stdlib.h... yes\r\n",
      "checking for string.h... yes\r\n",
      "checking for memory.h... yes\r\n",
      "checking for strings.h... yes\r\n",
      "checking for inttypes.h... yes\r\n",
      "checking for stdint.h... yes\r\n",
      "checking for unistd.h... yes\r\n",
      "checking minix/config.h usability... no\r\n",
      "checking minix/config.h presence... no\r\n",
      "checking for minix/config.h... no\r\n",
      "checking whether it is safe to define __EXTENSIONS__... yes\r\n",
      "checking for flex... flex\r\n",
      "checking lex output file root... lex.yy\r\n",
      "checking lex library... -ll\r\n",
      "checking whether yytext is a pointer... yes\r\n",
      "checking for ar... ar\r\n",
      "checking the archiver (ar) interface... ar\r\n",
      "checking for bison... bison -y\r\n",
      "checking for ranlib... ranlib\r\n",
      "checking whether make sets $(MAKE)... (cached) yes\r\n",
      "checking for stdarg.h... yes\r\n",
      "checking for stddef.h... yes\r\n",
      "checking for stdlib.h... (cached) yes\r\n",
      "checking for string.h... (cached) yes\r\n",
      "checking for errno.h... yes\r\n",
      "checking for limits.h... yes\r\n",
      "checking for unistd.h... (cached) yes\r\n",
      "checking for lib.h... no\r\n",
      "checking for an ANSI C-conforming const... yes\r\n",
      "checking for size_t... yes\r\n",
      "checking for ptrdiff_t... yes\r\n",
      "checking for vprintf... yes\r\n",
      "checking for _doprnt... no\r\n",
      "checking for isgraph... yes\r\n",
      "checking for setvbuf... yes\r\n",
      "checking for fstat... yes\r\n",
      "checking for strtol... yes\r\n",
      "Adding GCC specific compile flags.\r\n",
      "checking that generated files are newer than configure... done\r\n",
      "configure: creating ./config.status\r\n",
      "config.status: creating Makefile\r\n",
      "config.status: creating bc/Makefile\r\n",
      "config.status: creating dc/Makefile\r\n",
      "config.status: creating lib/Makefile\r\n",
      "config.status: creating doc/Makefile\r\n",
      "config.status: creating doc/texi-ver.incl\r\n",
      "config.status: creating config.h\r\n",
      "config.status: executing depfiles commands\r\n"
     ]
    }
   ],
   "source": [
    "!cd bc-1.07.1; ./configure"
   ]
  },
  {
   "cell_type": "markdown",
   "metadata": {
    "slideshow": {
     "slide_type": "subslide"
    }
   },
   "source": [
    "Third, compile the package with special flags:"
   ]
  },
  {
   "cell_type": "code",
   "execution_count": 72,
   "metadata": {
    "execution": {
     "iopub.execute_input": "2022-08-01T12:58:39.507790Z",
     "iopub.status.busy": "2022-08-01T12:58:39.507652Z",
     "iopub.status.idle": "2022-08-01T12:58:42.375898Z",
     "shell.execute_reply": "2022-08-01T12:58:42.375485Z"
    },
    "slideshow": {
     "slide_type": "subslide"
    }
   },
   "outputs": [
    {
     "name": "stdout",
     "output_type": "stream",
     "text": [
      "/Applications/Xcode.app/Contents/Developer/usr/bin/make  all-recursive\r\n",
      "Making all in lib\r\n",
      "gcc -DHAVE_CONFIG_H  -I. -I..  -I. -I.. -I./../h  -g -O2 -Wall -funsigned-char --coverage -MT getopt.o -MD -MP -MF .deps/getopt.Tpo -c -o getopt.o getopt.c\r\n",
      "mv -f .deps/getopt.Tpo .deps/getopt.Po\r\n",
      "gcc -DHAVE_CONFIG_H  -I. -I..  -I. -I.. -I./../h  -g -O2 -Wall -funsigned-char --coverage -MT getopt1.o -MD -MP -MF .deps/getopt1.Tpo -c -o getopt1.o getopt1.c\r\n",
      "mv -f .deps/getopt1.Tpo .deps/getopt1.Po\r\n",
      "gcc -DHAVE_CONFIG_H  -I. -I..  -I. -I.. -I./../h  -g -O2 -Wall -funsigned-char --coverage -MT vfprintf.o -MD -MP -MF .deps/vfprintf.Tpo -c -o vfprintf.o vfprintf.c\r\n",
      "mv -f .deps/vfprintf.Tpo .deps/vfprintf.Po\r\n",
      "gcc -DHAVE_CONFIG_H  -I. -I..  -I. -I.. -I./../h  -g -O2 -Wall -funsigned-char --coverage -MT number.o -MD -MP -MF .deps/number.Tpo -c -o number.o number.c\r\n",
      "mv -f .deps/number.Tpo .deps/number.Po\r\n",
      "rm -f libbc.a\r\n",
      "ar cru libbc.a getopt.o getopt1.o vfprintf.o number.o \r\n",
      "ranlib libbc.a\r\n",
      "Making all in bc\r\n",
      "gcc -DHAVE_CONFIG_H -I. -I..  -I. -I./../h  -g -O2 -Wall -funsigned-char --coverage -MT main.o -MD -MP -MF .deps/main.Tpo -c -o main.o main.c\r\n",
      "mv -f .deps/main.Tpo .deps/main.Po\r\n",
      "gcc -DHAVE_CONFIG_H -I. -I..  -I. -I./../h  -g -O2 -Wall -funsigned-char --coverage -MT bc.o -MD -MP -MF .deps/bc.Tpo -c -o bc.o bc.c\r\n",
      "mv -f .deps/bc.Tpo .deps/bc.Po\r\n",
      "gcc -DHAVE_CONFIG_H -I. -I..  -I. -I./../h  -g -O2 -Wall -funsigned-char --coverage -MT scan.o -MD -MP -MF .deps/scan.Tpo -c -o scan.o scan.c\r\n",
      "mv -f .deps/scan.Tpo .deps/scan.Po\r\n",
      "gcc -DHAVE_CONFIG_H -I. -I..  -I. -I./../h  -g -O2 -Wall -funsigned-char --coverage -MT execute.o -MD -MP -MF .deps/execute.Tpo -c -o execute.o execute.c\r\n",
      "mv -f .deps/execute.Tpo .deps/execute.Po\r\n",
      "gcc -DHAVE_CONFIG_H -I. -I..  -I. -I./../h  -g -O2 -Wall -funsigned-char --coverage -MT load.o -MD -MP -MF .deps/load.Tpo -c -o load.o load.c\r\n",
      "mv -f .deps/load.Tpo .deps/load.Po\r\n",
      "gcc -DHAVE_CONFIG_H -I. -I..  -I. -I./../h  -g -O2 -Wall -funsigned-char --coverage -MT storage.o -MD -MP -MF .deps/storage.Tpo -c -o storage.o storage.c\r\n",
      "mv -f .deps/storage.Tpo .deps/storage.Po\r\n",
      "gcc -DHAVE_CONFIG_H -I. -I..  -I. -I./../h  -g -O2 -Wall -funsigned-char --coverage -MT util.o -MD -MP -MF .deps/util.Tpo -c -o util.o util.c\r\n",
      "mv -f .deps/util.Tpo .deps/util.Po\r\n",
      "gcc -DHAVE_CONFIG_H -I. -I..  -I. -I./../h  -g -O2 -Wall -funsigned-char --coverage -MT warranty.o -MD -MP -MF .deps/warranty.Tpo -c -o warranty.o warranty.c\r\n",
      "mv -f .deps/warranty.Tpo .deps/warranty.Po\r\n",
      "echo '{0}' > libmath.h\r\n",
      "/Applications/Xcode.app/Contents/Developer/usr/bin/make global.o\r\n",
      "gcc -DHAVE_CONFIG_H -I. -I..  -I. -I./../h  -g -O2 -Wall -funsigned-char --coverage -MT global.o -MD -MP -MF .deps/global.Tpo -c -o global.o global.c\r\n",
      "mv -f .deps/global.Tpo .deps/global.Po\r\n",
      "gcc -g -O2 -Wall -funsigned-char --coverage   -o libmath.h -o fbc main.o bc.o scan.o execute.o load.o storage.o util.o warranty.o global.o ../lib/libbc.a -ll  \r\n",
      "./fbc -c ./libmath.b </dev/null >libmath.h\r\n",
      "./fix-libmath_h\r\n",
      "2655\r\n",
      "2793\r\n",
      "rm -f ./fbc ./global.o\r\n",
      "gcc -DHAVE_CONFIG_H -I. -I..  -I. -I./../h  -g -O2 -Wall -funsigned-char --coverage -MT global.o -MD -MP -MF .deps/global.Tpo -c -o global.o global.c\r\n",
      "mv -f .deps/global.Tpo .deps/global.Po\r\n",
      "gcc -g -O2 -Wall -funsigned-char --coverage   -o bc main.o bc.o scan.o execute.o load.o storage.o util.o global.o warranty.o ../lib/libbc.a -ll  \r\n",
      "Making all in dc\r\n",
      "gcc -DHAVE_CONFIG_H -I. -I..  -I./.. -I./../h  -g -O2 -Wall -funsigned-char --coverage -MT dc.o -MD -MP -MF .deps/dc.Tpo -c -o dc.o dc.c\r\n",
      "mv -f .deps/dc.Tpo .deps/dc.Po\r\n",
      "gcc -DHAVE_CONFIG_H -I. -I..  -I./.. -I./../h  -g -O2 -Wall -funsigned-char --coverage -MT misc.o -MD -MP -MF .deps/misc.Tpo -c -o misc.o misc.c\r\n",
      "mv -f .deps/misc.Tpo .deps/misc.Po\r\n",
      "gcc -DHAVE_CONFIG_H -I. -I..  -I./.. -I./../h  -g -O2 -Wall -funsigned-char --coverage -MT eval.o -MD -MP -MF .deps/eval.Tpo -c -o eval.o eval.c\r\n",
      "mv -f .deps/eval.Tpo .deps/eval.Po\r\n",
      "gcc -DHAVE_CONFIG_H -I. -I..  -I./.. -I./../h  -g -O2 -Wall -funsigned-char --coverage -MT stack.o -MD -MP -MF .deps/stack.Tpo -c -o stack.o stack.c\r\n",
      "mv -f .deps/stack.Tpo .deps/stack.Po\r\n",
      "gcc -DHAVE_CONFIG_H -I. -I..  -I./.. -I./../h  -g -O2 -Wall -funsigned-char --coverage -MT array.o -MD -MP -MF .deps/array.Tpo -c -o array.o array.c\r\n",
      "mv -f .deps/array.Tpo .deps/array.Po\r\n",
      "gcc -DHAVE_CONFIG_H -I. -I..  -I./.. -I./../h  -g -O2 -Wall -funsigned-char --coverage -MT numeric.o -MD -MP -MF .deps/numeric.Tpo -c -o numeric.o numeric.c\r\n",
      "mv -f .deps/numeric.Tpo .deps/numeric.Po\r\n",
      "gcc -DHAVE_CONFIG_H -I. -I..  -I./.. -I./../h  -g -O2 -Wall -funsigned-char --coverage -MT string.o -MD -MP -MF .deps/string.Tpo -c -o string.o string.c\r\n",
      "mv -f .deps/string.Tpo .deps/string.Po\r\n",
      "gcc -g -O2 -Wall -funsigned-char --coverage   -o dc dc.o misc.o eval.o stack.o array.o numeric.o string.o ../lib/libbc.a \r\n",
      "Making all in doc\r\n",
      "restore=: && backupdir=\".am$$\" && \\\r\n",
      "\tam__cwd=`pwd` && CDPATH=\"${ZSH_VERSION+.}:\" && cd . && \\\r\n",
      "\trm -rf $backupdir && mkdir $backupdir && \\\r\n",
      "\tif (makeinfo --no-split --version) >/dev/null 2>&1; then \\\r\n",
      "\t  for f in bc.info bc.info-[0-9] bc.info-[0-9][0-9] bc.i[0-9] bc.i[0-9][0-9]; do \\\r\n",
      "\t    if test -f $f; then mv $f $backupdir; restore=mv; else :; fi; \\\r\n",
      "\t  done; \\\r\n",
      "\telse :; fi && \\\r\n",
      "\tcd \"$am__cwd\"; \\\r\n",
      "\tif makeinfo --no-split   -I . \\\r\n",
      "\t -o bc.info bc.texi; \\\r\n",
      "\tthen \\\r\n",
      "\t  rc=0; \\\r\n",
      "\t  CDPATH=\"${ZSH_VERSION+.}:\" && cd .; \\\r\n",
      "\telse \\\r\n",
      "\t  rc=$?; \\\r\n",
      "\t  CDPATH=\"${ZSH_VERSION+.}:\" && cd . && \\\r\n",
      "\t  $restore $backupdir/* `echo \"./bc.info\" | sed 's|[^/]*$||'`; \\\r\n",
      "\tfi; \\\r\n",
      "\trm -rf $backupdir; exit $rc\r\n",
      "restore=: && backupdir=\".am$$\" && \\\r\n",
      "\tam__cwd=`pwd` && CDPATH=\"${ZSH_VERSION+.}:\" && cd . && \\\r\n",
      "\trm -rf $backupdir && mkdir $backupdir && \\\r\n",
      "\tif (makeinfo --no-split --version) >/dev/null 2>&1; then \\\r\n",
      "\t  for f in dc.info dc.info-[0-9] dc.info-[0-9][0-9] dc.i[0-9] dc.i[0-9][0-9]; do \\\r\n",
      "\t    if test -f $f; then mv $f $backupdir; restore=mv; else :; fi; \\\r\n",
      "\t  done; \\\r\n",
      "\telse :; fi && \\\r\n",
      "\tcd \"$am__cwd\"; \\\r\n",
      "\tif makeinfo --no-split   -I . \\\r\n",
      "\t -o dc.info dc.texi; \\\r\n",
      "\tthen \\\r\n",
      "\t  rc=0; \\\r\n",
      "\t  CDPATH=\"${ZSH_VERSION+.}:\" && cd .; \\\r\n",
      "\telse \\\r\n",
      "\t  rc=$?; \\\r\n",
      "\t  CDPATH=\"${ZSH_VERSION+.}:\" && cd . && \\\r\n",
      "\t  $restore $backupdir/* `echo \"./dc.info\" | sed 's|[^/]*$||'`; \\\r\n",
      "\tfi; \\\r\n",
      "\trm -rf $backupdir; exit $rc\r\n",
      "make[3]: Nothing to be done for `all-am'.\r\n"
     ]
    }
   ],
   "source": [
    "!cd bc-1.07.1; make CFLAGS=\"--coverage\""
   ]
  },
  {
   "cell_type": "markdown",
   "metadata": {
    "slideshow": {
     "slide_type": "subslide"
    }
   },
   "source": [
    "The file `bc/bc` should now be executable..."
   ]
  },
  {
   "cell_type": "code",
   "execution_count": 73,
   "metadata": {
    "execution": {
     "iopub.execute_input": "2022-08-01T12:58:42.377841Z",
     "iopub.status.busy": "2022-08-01T12:58:42.377723Z",
     "iopub.status.idle": "2022-08-01T12:58:42.628543Z",
     "shell.execute_reply": "2022-08-01T12:58:42.627991Z"
    },
    "slideshow": {
     "slide_type": "fragment"
    }
   },
   "outputs": [
    {
     "name": "stdout",
     "output_type": "stream",
     "text": [
      "4\r\n"
     ]
    }
   ],
   "source": [
    "!cd bc-1.07.1/bc; echo 2 + 2 | ./bc"
   ]
  },
  {
   "cell_type": "markdown",
   "metadata": {
    "slideshow": {
     "slide_type": "fragment"
    }
   },
   "source": [
    "...and you should be able to run the `gcov` program to retrieve coverage information."
   ]
  },
  {
   "cell_type": "code",
   "execution_count": 74,
   "metadata": {
    "execution": {
     "iopub.execute_input": "2022-08-01T12:58:42.631241Z",
     "iopub.status.busy": "2022-08-01T12:58:42.631013Z",
     "iopub.status.idle": "2022-08-01T12:58:42.755559Z",
     "shell.execute_reply": "2022-08-01T12:58:42.755051Z"
    },
    "slideshow": {
     "slide_type": "fragment"
    }
   },
   "outputs": [
    {
     "name": "stdout",
     "output_type": "stream",
     "text": [
      "File 'main.c'\r\n",
      "Lines executed:52.42% of 124\r\n",
      "Creating 'main.c.gcov'\r\n",
      "\r\n"
     ]
    }
   ],
   "source": [
    "!cd bc-1.07.1/bc; gcov main.c"
   ]
  },
  {
   "cell_type": "markdown",
   "metadata": {
    "slideshow": {
     "slide_type": "subslide"
    }
   },
   "source": [
    "As sketched in the [\"Coverage\" chapter](Coverage.ipynb), the file [bc-1.07.1/bc/main.c.gcov](bc-1.07.1/bc/main.c.gcov) now holds the coverage information for `bc.c`.  Each line is prefixed with the number of times it was executed. `#####` means zero times; `-` means non-executable line."
   ]
  },
  {
   "cell_type": "markdown",
   "metadata": {
    "slideshow": {
     "slide_type": "fragment"
    }
   },
   "source": [
    "Parse the GCOV file for `bc` and create a `coverage` set, as in `FunctionCoverageRunner`.  Make this a `ProgramCoverageRunner` class that would be constructed with a list of source files (`bc.c`, `main.c`, `load.c`) to run `gcov` on."
   ]
  },
  {
   "cell_type": "markdown",
   "metadata": {
    "slideshow": {
     "slide_type": "fragment"
    }
   },
   "source": [
    "When you're done, don't forget to clean up:"
   ]
  },
  {
   "cell_type": "code",
   "execution_count": 75,
   "metadata": {
    "execution": {
     "iopub.execute_input": "2022-08-01T12:58:42.758292Z",
     "iopub.status.busy": "2022-08-01T12:58:42.758151Z",
     "iopub.status.idle": "2022-08-01T12:58:42.887198Z",
     "shell.execute_reply": "2022-08-01T12:58:42.886655Z"
    },
    "slideshow": {
     "slide_type": "fragment"
    }
   },
   "outputs": [],
   "source": [
    "!rm -fr bc-1.07.1 bc-1.07.1.tar.gz"
   ]
  },
  {
   "cell_type": "markdown",
   "metadata": {
    "button": false,
    "new_sheet": false,
    "run_control": {
     "read_only": false
    },
    "slideshow": {
     "slide_type": "subslide"
    }
   },
   "source": [
    "### Exercise 3\n",
    "\n",
    "In this [blog post](https://lcamtuf.blogspot.com/2014/08/binary-fuzzing-strategies-what-works.html), the author of _American Fuzzy Lop_ (AFL), a very popular mutation-based fuzzer discusses the efficiency of various mutation operators.  Implement four of them and evaluate their efficiency as in the examples above."
   ]
  },
  {
   "cell_type": "markdown",
   "metadata": {
    "button": false,
    "new_sheet": false,
    "run_control": {
     "read_only": false
    },
    "slideshow": {
     "slide_type": "subslide"
    }
   },
   "source": [
    "### Exercise 4\n",
    "\n",
    "When adding a new element to the list of candidates, AFL does actually not compare the _coverage_, but adds an element if it exercises a new _branch_.  Using branch coverage from the exercises of the [\"Coverage\"](Coverage.ipynb) chapter, implement this \"branch\" strategy and compare it against the \"coverage\" strategy, above."
   ]
  },
  {
   "cell_type": "markdown",
   "metadata": {
    "button": false,
    "new_sheet": false,
    "run_control": {
     "read_only": false
    },
    "slideshow": {
     "slide_type": "subslide"
    }
   },
   "source": [
    "### Exercise 5\n",
    "\n",
    "Design and implement a system that will gather a population of URLs from the Web.  Can you achieve a higher coverage with these samples?  What if you use them as initial population for further mutation?"
   ]
  }
 ],
 "metadata": {
  "ipub": {
   "bibliography": "fuzzingbook.bib",
   "toc": true
  },
  "kernelspec": {
   "display_name": "Python 3 (ipykernel)",
   "language": "python",
   "name": "python3"
  },
  "language_info": {
   "codemirror_mode": {
    "name": "ipython",
    "version": 3
   },
   "file_extension": ".py",
   "mimetype": "text/x-python",
   "name": "python",
   "nbconvert_exporter": "python",
   "pygments_lexer": "ipython3",
   "version": "3.9.7"
  },
  "toc": {
   "base_numbering": 1,
   "nav_menu": {},
   "number_sections": true,
   "sideBar": true,
   "skip_h1_title": true,
   "title_cell": "",
   "title_sidebar": "Contents",
   "toc_cell": false,
   "toc_position": {},
   "toc_section_display": true,
   "toc_window_display": true
  },
  "toc-autonumbering": false
 },
 "nbformat": 4,
 "nbformat_minor": 4
}