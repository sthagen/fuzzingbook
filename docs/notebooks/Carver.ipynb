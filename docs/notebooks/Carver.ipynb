{
 "cells": [
  {
   "cell_type": "markdown",
   "metadata": {
    "button": false,
    "new_sheet": false,
    "run_control": {
     "read_only": false
    },
    "slideshow": {
     "slide_type": "slide"
    }
   },
   "source": [
    "# Carving Unit Tests\n",
    "\n",
    "So far, we have always generated _system input_, i.e. data that the program as a whole obtains via its input channels.  If we are interested in testing only a small set of functions, having to go through the system can be very inefficient.  This chapter introduces a technique known as _carving_, which, given a system test, automatically extracts a set of _unit tests_ that replicate the calls seen during the system test.  The key idea is to _record_ such calls such that we can _replay_ them later – as a whole or selectively.  On top, we also explore how to synthesize API grammars from carved unit tests; this means that we can _synthesize API tests without having to write a grammar at all._"
   ]
  },
  {
   "cell_type": "markdown",
   "metadata": {
    "button": false,
    "new_sheet": false,
    "run_control": {
     "read_only": false
    },
    "slideshow": {
     "slide_type": "subslide"
    }
   },
   "source": [
    "**Prerequisites**\n",
    "\n",
    "* Carving makes use of dynamic traces of function calls and variables, as introduced in the [chapter on configuration fuzzing](ConfigurationFuzzer.ipynb).\n",
    "* Using grammars to test units was introduced in the [chapter on API fuzzing](APIFuzzer.ipynb)."
   ]
  },
  {
   "cell_type": "code",
   "execution_count": 1,
   "metadata": {
    "execution": {
     "iopub.execute_input": "2024-01-17T16:57:03.890311Z",
     "iopub.status.busy": "2024-01-17T16:57:03.890087Z",
     "iopub.status.idle": "2024-01-17T16:57:03.925274Z",
     "shell.execute_reply": "2024-01-17T16:57:03.924943Z"
    },
    "slideshow": {
     "slide_type": "skip"
    }
   },
   "outputs": [],
   "source": [
    "import bookutils.setup"
   ]
  },
  {
   "cell_type": "code",
   "execution_count": 2,
   "metadata": {
    "execution": {
     "iopub.execute_input": "2024-01-17T16:57:03.927045Z",
     "iopub.status.busy": "2024-01-17T16:57:03.926847Z",
     "iopub.status.idle": "2024-01-17T16:57:04.717311Z",
     "shell.execute_reply": "2024-01-17T16:57:04.716978Z"
    },
    "slideshow": {
     "slide_type": "skip"
    }
   },
   "outputs": [],
   "source": [
    "import APIFuzzer"
   ]
  },
  {
   "cell_type": "markdown",
   "metadata": {
    "slideshow": {
     "slide_type": "skip"
    }
   },
   "source": [
    "## Synopsis\n",
    "<!-- Automatically generated. Do not edit. -->\n",
    "\n",
    "To [use the code provided in this chapter](Importing.ipynb), write\n",
    "\n",
    "```python\n",
    ">>> from fuzzingbook.Carver import <identifier>\n",
    "```\n",
    "\n",
    "and then make use of the following features.\n",
    "\n",
    "\n",
    "This chapter provides means to _record and replay function calls_ during a system test.  Since individual function calls are much faster than a whole system run, such \"carving\" mechanisms have the potential to run tests much faster.\n",
    "\n",
    "### Recording Calls\n",
    "\n",
    "The `CallCarver` class records all calls occurring while it is active.  It is used in conjunction with a `with` clause:\n",
    "\n",
    "```python\n",
    ">>> with CallCarver() as carver:\n",
    ">>>     y = my_sqrt(2)\n",
    ">>>     y = my_sqrt(4)\n",
    "```\n",
    "After execution, `called_functions()` lists the names of functions encountered:\n",
    "\n",
    "```python\n",
    ">>> carver.called_functions()\n",
    "['my_sqrt', '__exit__']\n",
    "```\n",
    "The `arguments()` method lists the arguments recorded for a function.  This is a mapping of the function name to a list of lists of arguments; each argument is a pair (parameter name, value).\n",
    "\n",
    "```python\n",
    ">>> carver.arguments('my_sqrt')\n",
    "[[('x', 2)], [('x', 4)]]\n",
    "```\n",
    "Complex arguments are properly serialized, such that they can be easily restored.\n",
    "\n",
    "### Synthesizing Calls\n",
    "\n",
    "While such recorded arguments already could be turned into arguments and calls, a much nicer alternative is to create a _grammar_ for recorded calls.  This allows synthesizing arbitrary _combinations_ of arguments, and also offers a base for further customization of calls.\n",
    "\n",
    "The `CallGrammarMiner` class turns a list of carved executions into a grammar.\n",
    "\n",
    "```python\n",
    ">>> my_sqrt_miner = CallGrammarMiner(carver)\n",
    ">>> my_sqrt_grammar = my_sqrt_miner.mine_call_grammar()\n",
    ">>> my_sqrt_grammar\n",
    "{'<start>': ['<call>'],\n",
    " '<call>': ['<my_sqrt>'],\n",
    " '<my_sqrt-x>': ['2', '4'],\n",
    " '<my_sqrt>': ['my_sqrt(<my_sqrt-x>)']}\n",
    "```\n",
    "This grammar can be used to synthesize calls.\n",
    "\n",
    "```python\n",
    ">>> fuzzer = GrammarCoverageFuzzer(my_sqrt_grammar)\n",
    ">>> fuzzer.fuzz()\n",
    "'my_sqrt(4)'\n",
    "```\n",
    "These calls can be executed in isolation, effectively extracting unit tests from system tests:\n",
    "\n",
    "```python\n",
    ">>> eval(fuzzer.fuzz())\n",
    "1.414213562373095\n",
    "```\n"
   ]
  },
  {
   "cell_type": "markdown",
   "metadata": {
    "button": false,
    "new_sheet": false,
    "run_control": {
     "read_only": false
    },
    "slideshow": {
     "slide_type": "slide"
    }
   },
   "source": [
    "## System Tests vs Unit Tests\n",
    "\n",
    "Remember the URL grammar introduced for [grammar fuzzing](Grammars.ipynb)?  With such a grammar, we can happily test a Web browser again and again, checking how it reacts to arbitrary page requests.\n",
    "\n",
    "Let us define a very simple \"web browser\" that goes and downloads the content given by the URL."
   ]
  },
  {
   "cell_type": "code",
   "execution_count": 3,
   "metadata": {
    "execution": {
     "iopub.execute_input": "2024-01-17T16:57:04.719148Z",
     "iopub.status.busy": "2024-01-17T16:57:04.719039Z",
     "iopub.status.idle": "2024-01-17T16:57:04.720618Z",
     "shell.execute_reply": "2024-01-17T16:57:04.720361Z"
    },
    "slideshow": {
     "slide_type": "skip"
    }
   },
   "outputs": [],
   "source": [
    "import urllib.parse"
   ]
  },
  {
   "cell_type": "code",
   "execution_count": 4,
   "metadata": {
    "execution": {
     "iopub.execute_input": "2024-01-17T16:57:04.722101Z",
     "iopub.status.busy": "2024-01-17T16:57:04.722017Z",
     "iopub.status.idle": "2024-01-17T16:57:04.723904Z",
     "shell.execute_reply": "2024-01-17T16:57:04.723673Z"
    },
    "slideshow": {
     "slide_type": "fragment"
    }
   },
   "outputs": [],
   "source": [
    "def webbrowser(url):\n",
    "    \"\"\"Download the http/https resource given by the URL\"\"\"\n",
    "    import requests  # Only import if needed\n",
    "\n",
    "    r = requests.get(url)\n",
    "    return r.text"
   ]
  },
  {
   "cell_type": "markdown",
   "metadata": {
    "slideshow": {
     "slide_type": "subslide"
    }
   },
   "source": [
    "Let us apply this on [fuzzingbook.org](https://www.fuzzingbook.org/) and measure the time, using the [Timer class](Timer.ipynb):"
   ]
  },
  {
   "cell_type": "code",
   "execution_count": 5,
   "metadata": {
    "execution": {
     "iopub.execute_input": "2024-01-17T16:57:04.725587Z",
     "iopub.status.busy": "2024-01-17T16:57:04.725476Z",
     "iopub.status.idle": "2024-01-17T16:57:04.727135Z",
     "shell.execute_reply": "2024-01-17T16:57:04.726900Z"
    },
    "slideshow": {
     "slide_type": "skip"
    }
   },
   "outputs": [],
   "source": [
    "from Timer import Timer"
   ]
  },
  {
   "cell_type": "code",
   "execution_count": 6,
   "metadata": {
    "execution": {
     "iopub.execute_input": "2024-01-17T16:57:04.728556Z",
     "iopub.status.busy": "2024-01-17T16:57:04.728470Z",
     "iopub.status.idle": "2024-01-17T16:57:06.209248Z",
     "shell.execute_reply": "2024-01-17T16:57:06.208544Z"
    },
    "slideshow": {
     "slide_type": "fragment"
    }
   },
   "outputs": [
    {
     "name": "stdout",
     "output_type": "stream",
     "text": [
      "Downloaded 474679 bytes in 1.48 seconds\n"
     ]
    }
   ],
   "source": [
    "with Timer() as webbrowser_timer:\n",
    "    fuzzingbook_contents = webbrowser(\n",
    "        \"http://www.fuzzingbook.org/html/Fuzzer.html\")\n",
    "\n",
    "print(\"Downloaded %d bytes in %.2f seconds\" %\n",
    "      (len(fuzzingbook_contents), webbrowser_timer.elapsed_time()))"
   ]
  },
  {
   "cell_type": "code",
   "execution_count": 7,
   "metadata": {
    "execution": {
     "iopub.execute_input": "2024-01-17T16:57:06.246817Z",
     "iopub.status.busy": "2024-01-17T16:57:06.246638Z",
     "iopub.status.idle": "2024-01-17T16:57:06.250820Z",
     "shell.execute_reply": "2024-01-17T16:57:06.250472Z"
    },
    "slideshow": {
     "slide_type": "fragment"
    }
   },
   "outputs": [
    {
     "data": {
      "text/plain": [
       "'\\n<!-- A html document -->\\n<!-- \\nwith standard nbconvert css layout\\nwith standard nbconvert input/out'"
      ]
     },
     "execution_count": 7,
     "metadata": {},
     "output_type": "execute_result"
    }
   ],
   "source": [
    "fuzzingbook_contents[:100]"
   ]
  },
  {
   "attachments": {},
   "cell_type": "markdown",
   "metadata": {
    "slideshow": {
     "slide_type": "subslide"
    }
   },
   "source": [
    "A full web browser, of course, would also render the HTML content.  We can achieve this using these commands (but we don't, as we do not want to replicate the entire Web page here):\n",
    "\n",
    "\n",
    "```python\n",
    "from IPython.display import HTML, display\n",
    "HTML(fuzzingbook_contents)\n",
    "```"
   ]
  },
  {
   "cell_type": "markdown",
   "metadata": {
    "slideshow": {
     "slide_type": "subslide"
    }
   },
   "source": [
    "Having to start a whole browser (or having it render a Web page) again and again means lots of overhead, though – in particular if we want to test only a subset of its functionality.  In particular, after a change in the code, we would prefer to test only the subset of functions that is affected by the change, rather than running the well-tested functions again and again."
   ]
  },
  {
   "cell_type": "markdown",
   "metadata": {
    "button": false,
    "new_sheet": false,
    "run_control": {
     "read_only": false
    },
    "slideshow": {
     "slide_type": "fragment"
    }
   },
   "source": [
    "Let us assume we change the function that takes care of parsing the given URL and decomposing it into the individual elements – the scheme (\"http\"), the network location (`\"www.fuzzingbook.com\"`), or the path (`\"/html/Fuzzer.html\"`).  This function is named `urlparse()`:"
   ]
  },
  {
   "cell_type": "code",
   "execution_count": 8,
   "metadata": {
    "execution": {
     "iopub.execute_input": "2024-01-17T16:57:06.252686Z",
     "iopub.status.busy": "2024-01-17T16:57:06.252563Z",
     "iopub.status.idle": "2024-01-17T16:57:06.254305Z",
     "shell.execute_reply": "2024-01-17T16:57:06.253968Z"
    },
    "slideshow": {
     "slide_type": "skip"
    }
   },
   "outputs": [],
   "source": [
    "from urllib.parse import urlparse"
   ]
  },
  {
   "cell_type": "code",
   "execution_count": 9,
   "metadata": {
    "execution": {
     "iopub.execute_input": "2024-01-17T16:57:06.255884Z",
     "iopub.status.busy": "2024-01-17T16:57:06.255785Z",
     "iopub.status.idle": "2024-01-17T16:57:06.258154Z",
     "shell.execute_reply": "2024-01-17T16:57:06.257863Z"
    },
    "slideshow": {
     "slide_type": "fragment"
    }
   },
   "outputs": [
    {
     "data": {
      "text/plain": [
       "ParseResult(scheme='https', netloc='www.fuzzingbook.com', path='/html/Carver.html', params='', query='', fragment='')"
      ]
     },
     "execution_count": 9,
     "metadata": {},
     "output_type": "execute_result"
    }
   ],
   "source": [
    "urlparse('https://www.fuzzingbook.com/html/Carver.html')"
   ]
  },
  {
   "cell_type": "markdown",
   "metadata": {
    "slideshow": {
     "slide_type": "subslide"
    }
   },
   "source": [
    "You see how the individual elements of the URL – the _scheme_ (`\"http\"`), the _network location_ (`\"www.fuzzingbook.com\"`), or the path (`\"//html/Carver.html\"`) are all properly identified.  Other elements (like `params`, `query`, or `fragment`) are empty, because they were not part of our input."
   ]
  },
  {
   "cell_type": "markdown",
   "metadata": {
    "slideshow": {
     "slide_type": "fragment"
    }
   },
   "source": [
    "The interesting thing is that executing only `urlparse()` is orders of magnitude faster than running all of `webbrowser()`.  Let us measure the factor:"
   ]
  },
  {
   "cell_type": "code",
   "execution_count": 10,
   "metadata": {
    "execution": {
     "iopub.execute_input": "2024-01-17T16:57:06.259850Z",
     "iopub.status.busy": "2024-01-17T16:57:06.259745Z",
     "iopub.status.idle": "2024-01-17T16:57:06.264137Z",
     "shell.execute_reply": "2024-01-17T16:57:06.263869Z"
    },
    "slideshow": {
     "slide_type": "subslide"
    }
   },
   "outputs": [
    {
     "data": {
      "text/plain": [
       "1.6192079992833897e-06"
      ]
     },
     "execution_count": 10,
     "metadata": {},
     "output_type": "execute_result"
    }
   ],
   "source": [
    "runs = 1000\n",
    "with Timer() as urlparse_timer:\n",
    "    for i in range(runs):\n",
    "        urlparse('https://www.fuzzingbook.com/html/Carver.html')\n",
    "\n",
    "avg_urlparse_time = urlparse_timer.elapsed_time() / 1000\n",
    "avg_urlparse_time"
   ]
  },
  {
   "attachments": {},
   "cell_type": "markdown",
   "metadata": {
    "slideshow": {
     "slide_type": "fragment"
    }
   },
   "source": [
    "Compare this to the time required by the web browser"
   ]
  },
  {
   "cell_type": "code",
   "execution_count": 11,
   "metadata": {
    "execution": {
     "iopub.execute_input": "2024-01-17T16:57:06.265708Z",
     "iopub.status.busy": "2024-01-17T16:57:06.265597Z",
     "iopub.status.idle": "2024-01-17T16:57:06.267815Z",
     "shell.execute_reply": "2024-01-17T16:57:06.267526Z"
    },
    "slideshow": {
     "slide_type": "fragment"
    }
   },
   "outputs": [
    {
     "data": {
      "text/plain": [
       "1.4763853339991329"
      ]
     },
     "execution_count": 11,
     "metadata": {},
     "output_type": "execute_result"
    }
   ],
   "source": [
    "webbrowser_timer.elapsed_time()"
   ]
  },
  {
   "cell_type": "markdown",
   "metadata": {
    "slideshow": {
     "slide_type": "fragment"
    }
   },
   "source": [
    "The difference in time is huge:"
   ]
  },
  {
   "cell_type": "code",
   "execution_count": 12,
   "metadata": {
    "execution": {
     "iopub.execute_input": "2024-01-17T16:57:06.269315Z",
     "iopub.status.busy": "2024-01-17T16:57:06.269209Z",
     "iopub.status.idle": "2024-01-17T16:57:06.271462Z",
     "shell.execute_reply": "2024-01-17T16:57:06.271204Z"
    },
    "slideshow": {
     "slide_type": "fragment"
    }
   },
   "outputs": [
    {
     "data": {
      "text/plain": [
       "911794.7383242514"
      ]
     },
     "execution_count": 12,
     "metadata": {},
     "output_type": "execute_result"
    }
   ],
   "source": [
    "webbrowser_timer.elapsed_time() / avg_urlparse_time"
   ]
  },
  {
   "cell_type": "markdown",
   "metadata": {
    "slideshow": {
     "slide_type": "subslide"
    }
   },
   "source": [
    "Hence, in the time it takes to run `webbrowser()` once, we can have _tens of thousands_ of executions of `urlparse()` – and this does not even take into account the time it takes the browser to render the downloaded HTML, to run the included scripts, and whatever else happens when a Web page is loaded.  Hence, strategies that allow us to test at the _unit_ level are very promising as they can save lots of overhead."
   ]
  },
  {
   "cell_type": "markdown",
   "metadata": {
    "slideshow": {
     "slide_type": "slide"
    }
   },
   "source": [
    "## Carving Unit Tests\n",
    "\n",
    "Testing methods and functions at the unit level requires a very good understanding of the individual units to be tested as well as their interplay with other units.  Setting up an appropriate infrastructure and writing unit tests by hand thus is demanding, yet rewarding.  There is, however, an interesting alternative to writing unit tests by hand.  The technique of _carving_ automatically _converts system tests into unit tests_ by means of recording and replaying function calls:\n",
    "\n",
    "1. During a system test (given or generated), we _record_ all calls into a function, including all arguments and other variables the function reads.\n",
    "2. From these, we synthesize a self-contained _unit test_ that reconstructs the function call with all arguments.\n",
    "3. This unit test can be executed (replayed) at any time with high efficiency.\n",
    "\n",
    "In the remainder of this chapter, let us explore these steps."
   ]
  },
  {
   "attachments": {},
   "cell_type": "markdown",
   "metadata": {
    "button": false,
    "new_sheet": true,
    "run_control": {
     "read_only": false
    },
    "slideshow": {
     "slide_type": "slide"
    }
   },
   "source": [
    "## Recording Calls\n",
    "\n",
    "Our first challenge is to record function calls together with their arguments.  (In the interest of simplicity, we restrict ourselves to arguments, ignoring any global variables or other non-arguments that are read by the function.)  To record calls and arguments, we use the mechanism [we introduced for coverage](Coverage.ipynb): By setting up a tracer function, we track all calls into individual functions, also saving their arguments.  Just like `Coverage` objects, we want to use `Carver` objects to be able to be used in conjunction with the `with` statement, such that we can trace a particular code block:\n",
    "\n",
    "```python\n",
    "with Carver() as carver:\n",
    "    function_to_be_traced()\n",
    "c = carver.calls()\n",
    "```\n",
    "\n",
    "The initial definition supports this construct:"
   ]
  },
  {
   "cell_type": "markdown",
   "metadata": {
    "slideshow": {
     "slide_type": "subslide"
    }
   },
   "source": [
    "\\todo{Get tracker from [dynamic invariants](DynamicInvariants.ipynb)}"
   ]
  },
  {
   "cell_type": "code",
   "execution_count": 13,
   "metadata": {
    "execution": {
     "iopub.execute_input": "2024-01-17T16:57:06.273061Z",
     "iopub.status.busy": "2024-01-17T16:57:06.272950Z",
     "iopub.status.idle": "2024-01-17T16:57:06.274620Z",
     "shell.execute_reply": "2024-01-17T16:57:06.274368Z"
    },
    "slideshow": {
     "slide_type": "skip"
    }
   },
   "outputs": [],
   "source": [
    "import sys"
   ]
  },
  {
   "cell_type": "code",
   "execution_count": 14,
   "metadata": {
    "execution": {
     "iopub.execute_input": "2024-01-17T16:57:06.276104Z",
     "iopub.status.busy": "2024-01-17T16:57:06.275997Z",
     "iopub.status.idle": "2024-01-17T16:57:06.278223Z",
     "shell.execute_reply": "2024-01-17T16:57:06.277937Z"
    },
    "slideshow": {
     "slide_type": "subslide"
    }
   },
   "outputs": [],
   "source": [
    "class Carver:\n",
    "    def __init__(self, log=False):\n",
    "        self._log = log\n",
    "        self.reset()\n",
    "\n",
    "    def reset(self):\n",
    "        self._calls = {}\n",
    "\n",
    "    # Start of `with` block\n",
    "    def __enter__(self):\n",
    "        self.original_trace_function = sys.gettrace()\n",
    "        sys.settrace(self.traceit)\n",
    "        return self\n",
    "\n",
    "    # End of `with` block\n",
    "    def __exit__(self, exc_type, exc_value, tb):\n",
    "        sys.settrace(self.original_trace_function)"
   ]
  },
  {
   "cell_type": "markdown",
   "metadata": {
    "slideshow": {
     "slide_type": "subslide"
    }
   },
   "source": [
    "The actual work takes place in the `traceit()` method, which records all calls in the `_calls` attribute.  First, we define two helper functions:"
   ]
  },
  {
   "cell_type": "code",
   "execution_count": 15,
   "metadata": {
    "execution": {
     "iopub.execute_input": "2024-01-17T16:57:06.279678Z",
     "iopub.status.busy": "2024-01-17T16:57:06.279573Z",
     "iopub.status.idle": "2024-01-17T16:57:06.281213Z",
     "shell.execute_reply": "2024-01-17T16:57:06.280964Z"
    },
    "slideshow": {
     "slide_type": "skip"
    }
   },
   "outputs": [],
   "source": [
    "import inspect"
   ]
  },
  {
   "cell_type": "code",
   "execution_count": 16,
   "metadata": {
    "execution": {
     "iopub.execute_input": "2024-01-17T16:57:06.282569Z",
     "iopub.status.busy": "2024-01-17T16:57:06.282486Z",
     "iopub.status.idle": "2024-01-17T16:57:06.284528Z",
     "shell.execute_reply": "2024-01-17T16:57:06.284305Z"
    },
    "slideshow": {
     "slide_type": "fragment"
    }
   },
   "outputs": [],
   "source": [
    "def get_qualified_name(code):\n",
    "    \"\"\"Return the fully qualified name of the current function\"\"\"\n",
    "    name = code.co_name\n",
    "    module = inspect.getmodule(code)\n",
    "    if module is not None:\n",
    "        name = module.__name__ + \".\" + name\n",
    "    return name"
   ]
  },
  {
   "cell_type": "code",
   "execution_count": 17,
   "metadata": {
    "execution": {
     "iopub.execute_input": "2024-01-17T16:57:06.285905Z",
     "iopub.status.busy": "2024-01-17T16:57:06.285824Z",
     "iopub.status.idle": "2024-01-17T16:57:06.287898Z",
     "shell.execute_reply": "2024-01-17T16:57:06.287647Z"
    },
    "slideshow": {
     "slide_type": "subslide"
    }
   },
   "outputs": [],
   "source": [
    "def get_arguments(frame):\n",
    "    \"\"\"Return call arguments in the given frame\"\"\"\n",
    "    # When called, all arguments are local variables\n",
    "    local_variables = frame.f_locals.copy()\n",
    "    arguments = [(var, frame.f_locals[var])\n",
    "                 for var in local_variables]\n",
    "    arguments.reverse()  # Want same order as call\n",
    "    return arguments"
   ]
  },
  {
   "cell_type": "code",
   "execution_count": 18,
   "metadata": {
    "execution": {
     "iopub.execute_input": "2024-01-17T16:57:06.289287Z",
     "iopub.status.busy": "2024-01-17T16:57:06.289204Z",
     "iopub.status.idle": "2024-01-17T16:57:06.292133Z",
     "shell.execute_reply": "2024-01-17T16:57:06.291887Z"
    },
    "slideshow": {
     "slide_type": "subslide"
    }
   },
   "outputs": [],
   "source": [
    "class CallCarver(Carver):\n",
    "    def add_call(self, function_name, arguments):\n",
    "        \"\"\"Add given call to list of calls\"\"\"\n",
    "        if function_name not in self._calls:\n",
    "            self._calls[function_name] = []\n",
    "        self._calls[function_name].append(arguments)\n",
    "\n",
    "    # Tracking function: Record all calls and all args\n",
    "    def traceit(self, frame, event, arg):\n",
    "        if event != \"call\":\n",
    "            return None\n",
    "\n",
    "        code = frame.f_code\n",
    "        function_name = code.co_name\n",
    "        qualified_name = get_qualified_name(code)\n",
    "        arguments = get_arguments(frame)\n",
    "\n",
    "        self.add_call(function_name, arguments)\n",
    "        if qualified_name != function_name:\n",
    "            self.add_call(qualified_name, arguments)\n",
    "\n",
    "        if self._log:\n",
    "            print(simple_call_string(function_name, arguments))\n",
    "\n",
    "        return None"
   ]
  },
  {
   "cell_type": "markdown",
   "metadata": {
    "slideshow": {
     "slide_type": "subslide"
    }
   },
   "source": [
    "Finally, we need some convenience functions to access the calls:"
   ]
  },
  {
   "cell_type": "code",
   "execution_count": 19,
   "metadata": {
    "execution": {
     "iopub.execute_input": "2024-01-17T16:57:06.293625Z",
     "iopub.status.busy": "2024-01-17T16:57:06.293536Z",
     "iopub.status.idle": "2024-01-17T16:57:06.295983Z",
     "shell.execute_reply": "2024-01-17T16:57:06.295740Z"
    },
    "slideshow": {
     "slide_type": "subslide"
    }
   },
   "outputs": [],
   "source": [
    "class CallCarver(CallCarver):\n",
    "    def calls(self):\n",
    "        \"\"\"Return a dictionary of all calls traced.\"\"\"\n",
    "        return self._calls\n",
    "\n",
    "    def arguments(self, function_name):\n",
    "        \"\"\"Return a list of all arguments of the given function\n",
    "        as (VAR, VALUE) pairs.\n",
    "        Raises an exception if the function was not traced.\"\"\"\n",
    "        return self._calls[function_name]\n",
    "\n",
    "    def called_functions(self, qualified=False):\n",
    "        \"\"\"Return all functions called.\"\"\"\n",
    "        if qualified:\n",
    "            return [function_name for function_name in self._calls.keys()\n",
    "                    if function_name.find('.') >= 0]\n",
    "        else:\n",
    "            return [function_name for function_name in self._calls.keys()\n",
    "                    if function_name.find('.') < 0]"
   ]
  },
  {
   "cell_type": "markdown",
   "metadata": {
    "slideshow": {
     "slide_type": "subslide"
    }
   },
   "source": [
    "### Recording my_sqrt()"
   ]
  },
  {
   "cell_type": "markdown",
   "metadata": {
    "slideshow": {
     "slide_type": "fragment"
    }
   },
   "source": [
    "Let's try out our new `Carver` class – first on a very simple function:"
   ]
  },
  {
   "cell_type": "code",
   "execution_count": 20,
   "metadata": {
    "execution": {
     "iopub.execute_input": "2024-01-17T16:57:06.297497Z",
     "iopub.status.busy": "2024-01-17T16:57:06.297402Z",
     "iopub.status.idle": "2024-01-17T16:57:06.299224Z",
     "shell.execute_reply": "2024-01-17T16:57:06.298981Z"
    },
    "slideshow": {
     "slide_type": "skip"
    }
   },
   "outputs": [],
   "source": [
    "from Intro_Testing import my_sqrt"
   ]
  },
  {
   "cell_type": "code",
   "execution_count": 21,
   "metadata": {
    "execution": {
     "iopub.execute_input": "2024-01-17T16:57:06.300571Z",
     "iopub.status.busy": "2024-01-17T16:57:06.300488Z",
     "iopub.status.idle": "2024-01-17T16:57:06.369131Z",
     "shell.execute_reply": "2024-01-17T16:57:06.368846Z"
    },
    "slideshow": {
     "slide_type": "fragment"
    }
   },
   "outputs": [],
   "source": [
    "with CallCarver() as sqrt_carver:\n",
    "    my_sqrt(2)\n",
    "    my_sqrt(4)"
   ]
  },
  {
   "cell_type": "markdown",
   "metadata": {
    "slideshow": {
     "slide_type": "fragment"
    }
   },
   "source": [
    "We can retrieve all calls seen..."
   ]
  },
  {
   "cell_type": "code",
   "execution_count": 22,
   "metadata": {
    "execution": {
     "iopub.execute_input": "2024-01-17T16:57:06.370784Z",
     "iopub.status.busy": "2024-01-17T16:57:06.370689Z",
     "iopub.status.idle": "2024-01-17T16:57:06.373112Z",
     "shell.execute_reply": "2024-01-17T16:57:06.372876Z"
    },
    "slideshow": {
     "slide_type": "fragment"
    }
   },
   "outputs": [
    {
     "data": {
      "text/plain": [
       "{'my_sqrt': [[('x', 2)], [('x', 4)]],\n",
       " 'Intro_Testing.my_sqrt': [[('x', 2)], [('x', 4)]],\n",
       " '__exit__': [[('tb', None),\n",
       "   ('exc_value', None),\n",
       "   ('exc_type', None),\n",
       "   ('self', <__main__.CallCarver at 0x137269480>)]]}"
      ]
     },
     "execution_count": 22,
     "metadata": {},
     "output_type": "execute_result"
    }
   ],
   "source": [
    "sqrt_carver.calls()"
   ]
  },
  {
   "cell_type": "code",
   "execution_count": 23,
   "metadata": {
    "execution": {
     "iopub.execute_input": "2024-01-17T16:57:06.374520Z",
     "iopub.status.busy": "2024-01-17T16:57:06.374442Z",
     "iopub.status.idle": "2024-01-17T16:57:06.376563Z",
     "shell.execute_reply": "2024-01-17T16:57:06.376306Z"
    },
    "slideshow": {
     "slide_type": "subslide"
    }
   },
   "outputs": [
    {
     "data": {
      "text/plain": [
       "['my_sqrt', '__exit__']"
      ]
     },
     "execution_count": 23,
     "metadata": {},
     "output_type": "execute_result"
    }
   ],
   "source": [
    "sqrt_carver.called_functions()"
   ]
  },
  {
   "cell_type": "markdown",
   "metadata": {
    "slideshow": {
     "slide_type": "fragment"
    }
   },
   "source": [
    "... as well as the arguments of a particular function:"
   ]
  },
  {
   "cell_type": "code",
   "execution_count": 24,
   "metadata": {
    "execution": {
     "iopub.execute_input": "2024-01-17T16:57:06.378184Z",
     "iopub.status.busy": "2024-01-17T16:57:06.378086Z",
     "iopub.status.idle": "2024-01-17T16:57:06.380151Z",
     "shell.execute_reply": "2024-01-17T16:57:06.379915Z"
    },
    "slideshow": {
     "slide_type": "fragment"
    }
   },
   "outputs": [
    {
     "data": {
      "text/plain": [
       "[[('x', 2)], [('x', 4)]]"
      ]
     },
     "execution_count": 24,
     "metadata": {},
     "output_type": "execute_result"
    }
   ],
   "source": [
    "sqrt_carver.arguments(\"my_sqrt\")"
   ]
  },
  {
   "cell_type": "markdown",
   "metadata": {
    "slideshow": {
     "slide_type": "fragment"
    }
   },
   "source": [
    "We define a convenience function for nicer printing of these lists:"
   ]
  },
  {
   "cell_type": "code",
   "execution_count": 25,
   "metadata": {
    "execution": {
     "iopub.execute_input": "2024-01-17T16:57:06.381585Z",
     "iopub.status.busy": "2024-01-17T16:57:06.381484Z",
     "iopub.status.idle": "2024-01-17T16:57:06.383235Z",
     "shell.execute_reply": "2024-01-17T16:57:06.382978Z"
    },
    "slideshow": {
     "slide_type": "fragment"
    }
   },
   "outputs": [],
   "source": [
    "def simple_call_string(function_name, argument_list):\n",
    "    \"\"\"Return function_name(arg[0], arg[1], ...) as a string\"\"\"\n",
    "    return function_name + \"(\" + \\\n",
    "        \", \".join([var + \"=\" + repr(value)\n",
    "                   for (var, value) in argument_list]) + \")\""
   ]
  },
  {
   "cell_type": "code",
   "execution_count": 26,
   "metadata": {
    "execution": {
     "iopub.execute_input": "2024-01-17T16:57:06.384640Z",
     "iopub.status.busy": "2024-01-17T16:57:06.384544Z",
     "iopub.status.idle": "2024-01-17T16:57:06.386255Z",
     "shell.execute_reply": "2024-01-17T16:57:06.386019Z"
    },
    "slideshow": {
     "slide_type": "subslide"
    }
   },
   "outputs": [
    {
     "name": "stdout",
     "output_type": "stream",
     "text": [
      "my_sqrt(x=2)\n",
      "my_sqrt(x=4)\n",
      "__exit__(tb=None, exc_value=None, exc_type=None, self=<__main__.CallCarver object at 0x137269480>)\n"
     ]
    }
   ],
   "source": [
    "for function_name in sqrt_carver.called_functions():\n",
    "    for argument_list in sqrt_carver.arguments(function_name):\n",
    "        print(simple_call_string(function_name, argument_list))"
   ]
  },
  {
   "cell_type": "markdown",
   "metadata": {
    "slideshow": {
     "slide_type": "fragment"
    }
   },
   "source": [
    "This is a syntax we can directly use to invoke `my_sqrt()` again:"
   ]
  },
  {
   "cell_type": "code",
   "execution_count": 27,
   "metadata": {
    "execution": {
     "iopub.execute_input": "2024-01-17T16:57:06.387793Z",
     "iopub.status.busy": "2024-01-17T16:57:06.387688Z",
     "iopub.status.idle": "2024-01-17T16:57:06.389849Z",
     "shell.execute_reply": "2024-01-17T16:57:06.389615Z"
    },
    "slideshow": {
     "slide_type": "fragment"
    }
   },
   "outputs": [
    {
     "data": {
      "text/plain": [
       "1.414213562373095"
      ]
     },
     "execution_count": 27,
     "metadata": {},
     "output_type": "execute_result"
    }
   ],
   "source": [
    "eval(\"my_sqrt(x=2)\")"
   ]
  },
  {
   "cell_type": "markdown",
   "metadata": {
    "slideshow": {
     "slide_type": "subslide"
    }
   },
   "source": [
    "### Carving urlparse()"
   ]
  },
  {
   "cell_type": "markdown",
   "metadata": {
    "slideshow": {
     "slide_type": "fragment"
    }
   },
   "source": [
    "What happens if we apply this to `webbrowser()`?"
   ]
  },
  {
   "cell_type": "code",
   "execution_count": 28,
   "metadata": {
    "execution": {
     "iopub.execute_input": "2024-01-17T16:57:06.391399Z",
     "iopub.status.busy": "2024-01-17T16:57:06.391283Z",
     "iopub.status.idle": "2024-01-17T16:57:06.627196Z",
     "shell.execute_reply": "2024-01-17T16:57:06.626841Z"
    },
    "slideshow": {
     "slide_type": "fragment"
    }
   },
   "outputs": [],
   "source": [
    "with CallCarver() as webbrowser_carver:\n",
    "    webbrowser(\"https://www.fuzzingbook.org\")"
   ]
  },
  {
   "cell_type": "markdown",
   "metadata": {
    "slideshow": {
     "slide_type": "fragment"
    }
   },
   "source": [
    "We see that retrieving a URL from the Web requires quite some functionality:"
   ]
  },
  {
   "cell_type": "code",
   "execution_count": 29,
   "metadata": {
    "execution": {
     "iopub.execute_input": "2024-01-17T16:57:06.629006Z",
     "iopub.status.busy": "2024-01-17T16:57:06.628886Z",
     "iopub.status.idle": "2024-01-17T16:57:06.631326Z",
     "shell.execute_reply": "2024-01-17T16:57:06.631085Z"
    },
    "slideshow": {
     "slide_type": "fragment"
    }
   },
   "outputs": [
    {
     "data": {
      "text/plain": [
       "359"
      ]
     },
     "execution_count": 29,
     "metadata": {},
     "output_type": "execute_result"
    }
   ],
   "source": [
    "function_list = webbrowser_carver.called_functions(qualified=True)\n",
    "len(function_list)"
   ]
  },
  {
   "cell_type": "code",
   "execution_count": 30,
   "metadata": {
    "execution": {
     "iopub.execute_input": "2024-01-17T16:57:06.632804Z",
     "iopub.status.busy": "2024-01-17T16:57:06.632706Z",
     "iopub.status.idle": "2024-01-17T16:57:06.634314Z",
     "shell.execute_reply": "2024-01-17T16:57:06.634076Z"
    },
    "slideshow": {
     "slide_type": "fragment"
    }
   },
   "outputs": [
    {
     "name": "stdout",
     "output_type": "stream",
     "text": [
      "['requests.api.get', 'requests.api.request', 'requests.sessions.__init__', 'requests.utils.default_headers', 'requests.utils.default_user_agent', 'requests.structures.__init__', 'collections.abc.update', 'abc.__instancecheck__', 'requests.structures.__setitem__', 'requests.hooks.default_hooks', 'requests.hooks.<dictcomp>', 'requests.cookies.cookiejar_from_dict', 'http.cookiejar.__init__', 'threading.RLock', 'http.cookiejar.__iter__', 'requests.cookies.<listcomp>', 'http.cookiejar.deepvalues', 'http.cookiejar.vals_sorted_by_key', 'requests.adapters.__init__', 'urllib3.util.retry.__init__', 'urllib3.util.retry.<listcomp>', 'requests.adapters.init_poolmanager', 'urllib3.poolmanager.__init__', 'urllib3.request.__init__', 'urllib3._collections.__init__', 'requests.sessions.mount', 'requests.sessions.<listcomp>', 'requests.sessions.__enter__', 'requests.sessions.request', 'requests.models.__init__', 'requests.sessions.prepare_request', 'requests.cookies.merge_cookies', 'requests.cookies.update', 'requests.utils.get_netrc_auth', 'collections.abc.get', 'os.__getitem__', 'os.encode', 'requests.utils.<genexpr>', 'posixpath.expanduser', 'posixpath._get_sep', 'collections.abc.__contains__', 'os.decode', 'genericpath.exists', 'urllib.parse.urlparse', 'urllib.parse._coerce_args', 'urllib.parse.urlsplit', 'urllib.parse._splitnetloc', 'urllib.parse._checknetloc', 'urllib.parse._noop', 'netrc.__init__']\n"
     ]
    }
   ],
   "source": [
    "print(function_list[:50])"
   ]
  },
  {
   "cell_type": "markdown",
   "metadata": {
    "slideshow": {
     "slide_type": "fragment"
    }
   },
   "source": [
    "Among several other functions, we also have a call to `urlparse()`:"
   ]
  },
  {
   "cell_type": "code",
   "execution_count": 31,
   "metadata": {
    "execution": {
     "iopub.execute_input": "2024-01-17T16:57:06.636714Z",
     "iopub.status.busy": "2024-01-17T16:57:06.636477Z",
     "iopub.status.idle": "2024-01-17T16:57:06.640818Z",
     "shell.execute_reply": "2024-01-17T16:57:06.640467Z"
    },
    "slideshow": {
     "slide_type": "subslide"
    }
   },
   "outputs": [
    {
     "data": {
      "text/plain": [
       "[[('allow_fragments', True),\n",
       "  ('scheme', ''),\n",
       "  ('url', 'https://www.fuzzingbook.org')],\n",
       " [('allow_fragments', True),\n",
       "  ('scheme', ''),\n",
       "  ('url', 'https://www.fuzzingbook.org/')],\n",
       " [('allow_fragments', True),\n",
       "  ('scheme', ''),\n",
       "  ('url', 'https://www.fuzzingbook.org/')],\n",
       " [('allow_fragments', True),\n",
       "  ('scheme', ''),\n",
       "  ('url', 'https://www.fuzzingbook.org/')],\n",
       " [('allow_fragments', True),\n",
       "  ('scheme', ''),\n",
       "  ('url', 'https://www.fuzzingbook.org/')],\n",
       " [('allow_fragments', True),\n",
       "  ('scheme', ''),\n",
       "  ('url', 'https://www.fuzzingbook.org/')],\n",
       " [('allow_fragments', True),\n",
       "  ('scheme', ''),\n",
       "  ('url', 'https://www.fuzzingbook.org/')],\n",
       " [('allow_fragments', True),\n",
       "  ('scheme', ''),\n",
       "  ('url', 'https://www.fuzzingbook.org/')],\n",
       " [('allow_fragments', True),\n",
       "  ('scheme', ''),\n",
       "  ('url', 'https://www.fuzzingbook.org/')],\n",
       " [('allow_fragments', True),\n",
       "  ('scheme', ''),\n",
       "  ('url', 'https://www.fuzzingbook.org/')],\n",
       " [('allow_fragments', True),\n",
       "  ('scheme', ''),\n",
       "  ('url', 'https://www.fuzzingbook.org/')]]"
      ]
     },
     "execution_count": 31,
     "metadata": {},
     "output_type": "execute_result"
    }
   ],
   "source": [
    "urlparse_argument_list = webbrowser_carver.arguments(\"urllib.parse.urlparse\")\n",
    "urlparse_argument_list"
   ]
  },
  {
   "cell_type": "markdown",
   "metadata": {
    "slideshow": {
     "slide_type": "subslide"
    }
   },
   "source": [
    "Again, we can convert this into a well-formatted call:"
   ]
  },
  {
   "cell_type": "code",
   "execution_count": 32,
   "metadata": {
    "execution": {
     "iopub.execute_input": "2024-01-17T16:57:06.642513Z",
     "iopub.status.busy": "2024-01-17T16:57:06.642419Z",
     "iopub.status.idle": "2024-01-17T16:57:06.645057Z",
     "shell.execute_reply": "2024-01-17T16:57:06.644731Z"
    },
    "slideshow": {
     "slide_type": "fragment"
    }
   },
   "outputs": [
    {
     "data": {
      "text/plain": [
       "\"urlparse(allow_fragments=True, scheme='', url='https://www.fuzzingbook.org')\""
      ]
     },
     "execution_count": 32,
     "metadata": {},
     "output_type": "execute_result"
    }
   ],
   "source": [
    "urlparse_call = simple_call_string(\"urlparse\", urlparse_argument_list[0])\n",
    "urlparse_call"
   ]
  },
  {
   "cell_type": "markdown",
   "metadata": {
    "slideshow": {
     "slide_type": "fragment"
    }
   },
   "source": [
    "Again, we can re-execute this call:"
   ]
  },
  {
   "cell_type": "code",
   "execution_count": 33,
   "metadata": {
    "execution": {
     "iopub.execute_input": "2024-01-17T16:57:06.646841Z",
     "iopub.status.busy": "2024-01-17T16:57:06.646701Z",
     "iopub.status.idle": "2024-01-17T16:57:06.648916Z",
     "shell.execute_reply": "2024-01-17T16:57:06.648598Z"
    },
    "slideshow": {
     "slide_type": "fragment"
    }
   },
   "outputs": [
    {
     "data": {
      "text/plain": [
       "ParseResult(scheme='https', netloc='www.fuzzingbook.org', path='', params='', query='', fragment='')"
      ]
     },
     "execution_count": 33,
     "metadata": {},
     "output_type": "execute_result"
    }
   ],
   "source": [
    "eval(urlparse_call)"
   ]
  },
  {
   "cell_type": "markdown",
   "metadata": {
    "slideshow": {
     "slide_type": "fragment"
    }
   },
   "source": [
    "We now have successfully carved the call to `urlparse()` out of the `webbrowser()` execution."
   ]
  },
  {
   "cell_type": "markdown",
   "metadata": {
    "slideshow": {
     "slide_type": "slide"
    }
   },
   "source": [
    "## Replaying Calls"
   ]
  },
  {
   "cell_type": "markdown",
   "metadata": {
    "slideshow": {
     "slide_type": "subslide"
    }
   },
   "source": [
    "Replaying calls in their entirety and in all generality is tricky, as there are several challenges to be addressed.  These include:\n",
    "\n",
    "1. We need to be able to _access_ individual functions.  If we access a function by name, the name must be in scope.  If the name is not visible (for instance, because it is a name internal to the module), we must make it visible.\n",
    "\n",
    "2. Any _resources_ accessed outside of arguments must be recorded and reconstructed for replay as well.  This can be difficult if variables refer to external resources such as files or network resources.\n",
    "\n",
    "3. _Complex objects_ must be reconstructed as well."
   ]
  },
  {
   "cell_type": "markdown",
   "metadata": {
    "slideshow": {
     "slide_type": "subslide"
    }
   },
   "source": [
    "These constraints make carving hard or even impossible if the function to be tested interacts heavily with its environment.  To illustrate these issues, consider the `email.parser.parse()` method that is invoked in `webbrowser()`:"
   ]
  },
  {
   "cell_type": "code",
   "execution_count": 34,
   "metadata": {
    "execution": {
     "iopub.execute_input": "2024-01-17T16:57:06.650579Z",
     "iopub.status.busy": "2024-01-17T16:57:06.650467Z",
     "iopub.status.idle": "2024-01-17T16:57:06.652112Z",
     "shell.execute_reply": "2024-01-17T16:57:06.651857Z"
    },
    "slideshow": {
     "slide_type": "fragment"
    }
   },
   "outputs": [],
   "source": [
    "email_parse_argument_list = webbrowser_carver.arguments(\"email.parser.parse\")"
   ]
  },
  {
   "cell_type": "markdown",
   "metadata": {
    "slideshow": {
     "slide_type": "fragment"
    }
   },
   "source": [
    "Calls to this method look like this:"
   ]
  },
  {
   "cell_type": "code",
   "execution_count": 35,
   "metadata": {
    "execution": {
     "iopub.execute_input": "2024-01-17T16:57:06.653746Z",
     "iopub.status.busy": "2024-01-17T16:57:06.653617Z",
     "iopub.status.idle": "2024-01-17T16:57:06.655966Z",
     "shell.execute_reply": "2024-01-17T16:57:06.655675Z"
    },
    "slideshow": {
     "slide_type": "fragment"
    }
   },
   "outputs": [
    {
     "data": {
      "text/plain": [
       "'email.parser.Parser.parse(headersonly=False, fp=<_io.StringIO object at 0x1375dc820>, self=<email.parser.Parser object at 0x13726afe0>)'"
      ]
     },
     "execution_count": 35,
     "metadata": {},
     "output_type": "execute_result"
    }
   ],
   "source": [
    "email_parse_call = simple_call_string(\n",
    "    \"email.parser.Parser.parse\",\n",
    "    email_parse_argument_list[0])\n",
    "email_parse_call"
   ]
  },
  {
   "cell_type": "markdown",
   "metadata": {
    "slideshow": {
     "slide_type": "fragment"
    }
   },
   "source": [
    "We see that `email.parser.Parser.parse()` is part of a `email.parser.Parser` object (`self`) and it gets a `StringIO` object (`fp`).  Both are non-primitive values.  How could we possibly reconstruct them?"
   ]
  },
  {
   "cell_type": "markdown",
   "metadata": {
    "slideshow": {
     "slide_type": "subslide"
    }
   },
   "source": [
    "### Serializing Objects\n",
    "\n",
    "The answer to the problem of complex objects lies in creating a _persistent_ representation that can be _reconstructed_ at later points in time.  This process is known as _serialization_; in Python, it is also known as _pickling_.  The `pickle` module provides means to create a serialized representation of an object.  Let us apply this on the `email.parser.Parser` object we just found:"
   ]
  },
  {
   "cell_type": "code",
   "execution_count": 36,
   "metadata": {
    "execution": {
     "iopub.execute_input": "2024-01-17T16:57:06.657579Z",
     "iopub.status.busy": "2024-01-17T16:57:06.657462Z",
     "iopub.status.idle": "2024-01-17T16:57:06.659219Z",
     "shell.execute_reply": "2024-01-17T16:57:06.658907Z"
    },
    "slideshow": {
     "slide_type": "skip"
    }
   },
   "outputs": [],
   "source": [
    "import pickle"
   ]
  },
  {
   "cell_type": "code",
   "execution_count": 37,
   "metadata": {
    "execution": {
     "iopub.execute_input": "2024-01-17T16:57:06.660550Z",
     "iopub.status.busy": "2024-01-17T16:57:06.660466Z",
     "iopub.status.idle": "2024-01-17T16:57:06.662781Z",
     "shell.execute_reply": "2024-01-17T16:57:06.662425Z"
    },
    "slideshow": {
     "slide_type": "fragment"
    }
   },
   "outputs": [
    {
     "data": {
      "text/plain": [
       "[[('headersonly', False),\n",
       "  ('fp', <_io.StringIO at 0x1375dc820>),\n",
       "  ('self', <email.parser.Parser at 0x13726afe0>)]]"
      ]
     },
     "execution_count": 37,
     "metadata": {},
     "output_type": "execute_result"
    }
   ],
   "source": [
    "email_parse_argument_list"
   ]
  },
  {
   "cell_type": "code",
   "execution_count": 38,
   "metadata": {
    "execution": {
     "iopub.execute_input": "2024-01-17T16:57:06.664422Z",
     "iopub.status.busy": "2024-01-17T16:57:06.664308Z",
     "iopub.status.idle": "2024-01-17T16:57:06.666768Z",
     "shell.execute_reply": "2024-01-17T16:57:06.666420Z"
    },
    "slideshow": {
     "slide_type": "fragment"
    }
   },
   "outputs": [
    {
     "data": {
      "text/plain": [
       "<email.parser.Parser at 0x13726afe0>"
      ]
     },
     "execution_count": 38,
     "metadata": {},
     "output_type": "execute_result"
    }
   ],
   "source": [
    "parser_object = email_parse_argument_list[0][2][1]\n",
    "parser_object"
   ]
  },
  {
   "cell_type": "code",
   "execution_count": 39,
   "metadata": {
    "execution": {
     "iopub.execute_input": "2024-01-17T16:57:06.668532Z",
     "iopub.status.busy": "2024-01-17T16:57:06.668294Z",
     "iopub.status.idle": "2024-01-17T16:57:06.670712Z",
     "shell.execute_reply": "2024-01-17T16:57:06.670456Z"
    },
    "slideshow": {
     "slide_type": "subslide"
    }
   },
   "outputs": [
    {
     "data": {
      "text/plain": [
       "b'\\x80\\x04\\x95w\\x00\\x00\\x00\\x00\\x00\\x00\\x00\\x8c\\x0cemail.parser\\x94\\x8c\\x06Parser\\x94\\x93\\x94)\\x81\\x94}\\x94(\\x8c\\x06_class\\x94\\x8c\\x0bhttp.client\\x94\\x8c\\x0bHTTPMessage\\x94\\x93\\x94\\x8c\\x06policy\\x94\\x8c\\x11email._policybase\\x94\\x8c\\x08Compat32\\x94\\x93\\x94)\\x81\\x94ub.'"
      ]
     },
     "execution_count": 39,
     "metadata": {},
     "output_type": "execute_result"
    }
   ],
   "source": [
    "pickled = pickle.dumps(parser_object)\n",
    "pickled"
   ]
  },
  {
   "cell_type": "markdown",
   "metadata": {
    "slideshow": {
     "slide_type": "fragment"
    }
   },
   "source": [
    "From this string representing the serialized `email.parser.Parser` object, we can recreate the Parser object at any time:"
   ]
  },
  {
   "cell_type": "code",
   "execution_count": 40,
   "metadata": {
    "execution": {
     "iopub.execute_input": "2024-01-17T16:57:06.672235Z",
     "iopub.status.busy": "2024-01-17T16:57:06.672133Z",
     "iopub.status.idle": "2024-01-17T16:57:06.675354Z",
     "shell.execute_reply": "2024-01-17T16:57:06.675082Z"
    },
    "slideshow": {
     "slide_type": "fragment"
    }
   },
   "outputs": [
    {
     "data": {
      "text/plain": [
       "<email.parser.Parser at 0x137700700>"
      ]
     },
     "execution_count": 40,
     "metadata": {},
     "output_type": "execute_result"
    }
   ],
   "source": [
    "unpickled_parser_object = pickle.loads(pickled)\n",
    "unpickled_parser_object"
   ]
  },
  {
   "cell_type": "markdown",
   "metadata": {
    "slideshow": {
     "slide_type": "fragment"
    }
   },
   "source": [
    "The serialization mechanism allows us to produce a representation for all objects passed as parameters (assuming they can be pickled, that is).  We can now extend the `simple_call_string()` function such that it automatically pickles objects.  Additionally, we set it up such that if the first parameter is named `self` (i.e., it is a class method), we make it a method of the `self` object."
   ]
  },
  {
   "cell_type": "code",
   "execution_count": 41,
   "metadata": {
    "execution": {
     "iopub.execute_input": "2024-01-17T16:57:06.676861Z",
     "iopub.status.busy": "2024-01-17T16:57:06.676776Z",
     "iopub.status.idle": "2024-01-17T16:57:06.678865Z",
     "shell.execute_reply": "2024-01-17T16:57:06.678583Z"
    },
    "slideshow": {
     "slide_type": "subslide"
    }
   },
   "outputs": [],
   "source": [
    "def call_value(value):\n",
    "    value_as_string = repr(value)\n",
    "    if value_as_string.find('<') >= 0:\n",
    "        # Complex object\n",
    "        value_as_string = \"pickle.loads(\" + repr(pickle.dumps(value)) + \")\"\n",
    "    return value_as_string"
   ]
  },
  {
   "cell_type": "code",
   "execution_count": 42,
   "metadata": {
    "execution": {
     "iopub.execute_input": "2024-01-17T16:57:06.680273Z",
     "iopub.status.busy": "2024-01-17T16:57:06.680190Z",
     "iopub.status.idle": "2024-01-17T16:57:06.682593Z",
     "shell.execute_reply": "2024-01-17T16:57:06.682300Z"
    },
    "slideshow": {
     "slide_type": "subslide"
    }
   },
   "outputs": [],
   "source": [
    "def call_string(function_name, argument_list):\n",
    "    \"\"\"Return function_name(arg[0], arg[1], ...) as a string, pickling complex objects\"\"\"\n",
    "    if len(argument_list) > 0:\n",
    "        (first_var, first_value) = argument_list[0]\n",
    "        if first_var == \"self\":\n",
    "            # Make this a method call\n",
    "            method_name = function_name.split(\".\")[-1]\n",
    "            function_name = call_value(first_value) + \".\" + method_name\n",
    "            argument_list = argument_list[1:]\n",
    "\n",
    "    return function_name + \"(\" + \\\n",
    "        \", \".join([var + \"=\" + call_value(value)\n",
    "                   for (var, value) in argument_list]) + \")\""
   ]
  },
  {
   "cell_type": "markdown",
   "metadata": {
    "slideshow": {
     "slide_type": "fragment"
    }
   },
   "source": [
    "Let us apply the extended `call_string()` method to create a call for `email.parser.parse()`, including pickled objects:"
   ]
  },
  {
   "cell_type": "code",
   "execution_count": 43,
   "metadata": {
    "execution": {
     "iopub.execute_input": "2024-01-17T16:57:06.684089Z",
     "iopub.status.busy": "2024-01-17T16:57:06.683995Z",
     "iopub.status.idle": "2024-01-17T16:57:06.685987Z",
     "shell.execute_reply": "2024-01-17T16:57:06.685709Z"
    },
    "slideshow": {
     "slide_type": "subslide"
    }
   },
   "outputs": [
    {
     "name": "stdout",
     "output_type": "stream",
     "text": [
      "email.parser.Parser.parse(headersonly=False, fp=pickle.loads(b'\\x80\\x04\\x95\\xc1\\x02\\x00\\x00\\x00\\x00\\x00\\x00\\x8c\\x03_io\\x94\\x8c\\x08StringIO\\x94\\x93\\x94)\\x81\\x94(X\\x98\\x02\\x00\\x00Connection: keep-alive\\r\\nContent-Length: 51110\\r\\nServer: GitHub.com\\r\\nContent-Type: text/html; charset=utf-8\\r\\nLast-Modified: Wed, 17 Jan 2024 16:49:52 GMT\\r\\nAccess-Control-Allow-Origin: *\\r\\nETag: W/\"65a80530-46011\"\\r\\nexpires: Wed, 17 Jan 2024 17:07:06 GMT\\r\\nCache-Control: max-age=600\\r\\nContent-Encoding: gzip\\r\\nx-proxy-cache: MISS\\r\\nX-GitHub-Request-Id: D6F0:2A4709:E4A8AC:E7E893:65A806E2\\r\\nAccept-Ranges: bytes\\r\\nDate: Wed, 17 Jan 2024 16:57:06 GMT\\r\\nVia: 1.1 varnish\\r\\nAge: 0\\r\\nX-Served-By: cache-fra-eddf8230130-FRA\\r\\nX-Cache: MISS\\r\\nX-Cache-Hits: 0\\r\\nX-Timer: S1705510627.767341,VS0,VE94\\r\\nVary: Accept-Encoding\\r\\nX-Fastly-Request-ID: aa16a98be46b1ef2ff8c7c957b620a80824943ac\\r\\n\\r\\n\\x94\\x8c\\x01\\n\\x94M\\x98\\x02Nt\\x94b.'), self=pickle.loads(b'\\x80\\x04\\x95w\\x00\\x00\\x00\\x00\\x00\\x00\\x00\\x8c\\x0cemail.parser\\x94\\x8c\\x06Parser\\x94\\x93\\x94)\\x81\\x94}\\x94(\\x8c\\x06_class\\x94\\x8c\\x0bhttp.client\\x94\\x8c\\x0bHTTPMessage\\x94\\x93\\x94\\x8c\\x06policy\\x94\\x8c\\x11email._policybase\\x94\\x8c\\x08Compat32\\x94\\x93\\x94)\\x81\\x94ub.'))\n"
     ]
    }
   ],
   "source": [
    "call = call_string(\"email.parser.Parser.parse\", email_parse_argument_list[0])\n",
    "print(call)"
   ]
  },
  {
   "cell_type": "markdown",
   "metadata": {
    "slideshow": {
     "slide_type": "fragment"
    }
   },
   "source": [
    "With this call involving the pickled object, we can now re-run the original call and obtain a valid result:"
   ]
  },
  {
   "cell_type": "code",
   "execution_count": 44,
   "metadata": {
    "execution": {
     "iopub.execute_input": "2024-01-17T16:57:06.687508Z",
     "iopub.status.busy": "2024-01-17T16:57:06.687408Z",
     "iopub.status.idle": "2024-01-17T16:57:06.688986Z",
     "shell.execute_reply": "2024-01-17T16:57:06.688674Z"
    },
    "slideshow": {
     "slide_type": "skip"
    }
   },
   "outputs": [],
   "source": [
    "import email"
   ]
  },
  {
   "cell_type": "code",
   "execution_count": 45,
   "metadata": {
    "execution": {
     "iopub.execute_input": "2024-01-17T16:57:06.690490Z",
     "iopub.status.busy": "2024-01-17T16:57:06.690397Z",
     "iopub.status.idle": "2024-01-17T16:57:06.692795Z",
     "shell.execute_reply": "2024-01-17T16:57:06.692527Z"
    },
    "slideshow": {
     "slide_type": "fragment"
    }
   },
   "outputs": [
    {
     "data": {
      "text/plain": [
       "<http.client.HTTPMessage at 0x137701390>"
      ]
     },
     "execution_count": 45,
     "metadata": {},
     "output_type": "execute_result"
    }
   ],
   "source": [
    "eval(call)"
   ]
  },
  {
   "cell_type": "markdown",
   "metadata": {
    "slideshow": {
     "slide_type": "subslide"
    }
   },
   "source": [
    "### All Calls\n",
    "\n",
    "So far, we have seen only one call of `webbrowser()`.  How many of the calls within `webbrowser()` can we actually carve and replay?  Let us try this out and compute the numbers."
   ]
  },
  {
   "cell_type": "code",
   "execution_count": 46,
   "metadata": {
    "execution": {
     "iopub.execute_input": "2024-01-17T16:57:06.694306Z",
     "iopub.status.busy": "2024-01-17T16:57:06.694216Z",
     "iopub.status.idle": "2024-01-17T16:57:06.695676Z",
     "shell.execute_reply": "2024-01-17T16:57:06.695405Z"
    },
    "slideshow": {
     "slide_type": "skip"
    }
   },
   "outputs": [],
   "source": [
    "import traceback"
   ]
  },
  {
   "cell_type": "code",
   "execution_count": 47,
   "metadata": {
    "execution": {
     "iopub.execute_input": "2024-01-17T16:57:06.697251Z",
     "iopub.status.busy": "2024-01-17T16:57:06.697113Z",
     "iopub.status.idle": "2024-01-17T16:57:06.698950Z",
     "shell.execute_reply": "2024-01-17T16:57:06.698640Z"
    },
    "slideshow": {
     "slide_type": "skip"
    }
   },
   "outputs": [],
   "source": [
    "import enum\n",
    "import socket"
   ]
  },
  {
   "cell_type": "code",
   "execution_count": 48,
   "metadata": {
    "execution": {
     "iopub.execute_input": "2024-01-17T16:57:06.700484Z",
     "iopub.status.busy": "2024-01-17T16:57:06.700390Z",
     "iopub.status.idle": "2024-01-17T16:57:06.702529Z",
     "shell.execute_reply": "2024-01-17T16:57:06.702232Z"
    },
    "slideshow": {
     "slide_type": "fragment"
    }
   },
   "outputs": [],
   "source": [
    "all_functions = set(webbrowser_carver.called_functions(qualified=True))\n",
    "call_success = set()\n",
    "run_success = set()"
   ]
  },
  {
   "cell_type": "code",
   "execution_count": 49,
   "metadata": {
    "execution": {
     "iopub.execute_input": "2024-01-17T16:57:06.704167Z",
     "iopub.status.busy": "2024-01-17T16:57:06.704075Z",
     "iopub.status.idle": "2024-01-17T16:57:07.122987Z",
     "shell.execute_reply": "2024-01-17T16:57:07.122693Z"
    },
    "slideshow": {
     "slide_type": "subslide"
    }
   },
   "outputs": [],
   "source": [
    "exceptions_seen = set()\n",
    "\n",
    "for function_name in webbrowser_carver.called_functions(qualified=True):\n",
    "    for argument_list in webbrowser_carver.arguments(function_name):\n",
    "        try:\n",
    "            call = call_string(function_name, argument_list)\n",
    "            call_success.add(function_name)\n",
    "\n",
    "            result = eval(call)\n",
    "            run_success.add(function_name)\n",
    "\n",
    "        except Exception as exc:\n",
    "            exceptions_seen.add(repr(exc))\n",
    "            # print(\"->\", call, file=sys.stderr)\n",
    "            # traceback.print_exc()\n",
    "            # print(\"\", file=sys.stderr)\n",
    "            continue"
   ]
  },
  {
   "cell_type": "code",
   "execution_count": 50,
   "metadata": {
    "execution": {
     "iopub.execute_input": "2024-01-17T16:57:07.124849Z",
     "iopub.status.busy": "2024-01-17T16:57:07.124732Z",
     "iopub.status.idle": "2024-01-17T16:57:07.126760Z",
     "shell.execute_reply": "2024-01-17T16:57:07.126494Z"
    },
    "slideshow": {
     "slide_type": "subslide"
    }
   },
   "outputs": [
    {
     "name": "stdout",
     "output_type": "stream",
     "text": [
      "247/359 calls (68.80%) successfully created and 51/359 calls (14.21%) successfully ran\n"
     ]
    }
   ],
   "source": [
    "print(\"%d/%d calls (%.2f%%) successfully created and %d/%d calls (%.2f%%) successfully ran\" % (\n",
    "    len(call_success), len(all_functions), len(\n",
    "        call_success) * 100 / len(all_functions),\n",
    "    len(run_success), len(all_functions), len(run_success) * 100 / len(all_functions)))"
   ]
  },
  {
   "cell_type": "markdown",
   "metadata": {
    "slideshow": {
     "slide_type": "fragment"
    }
   },
   "source": [
    "About a quarter of the calls succeed.  Let us take a look into some of the error messages we get:"
   ]
  },
  {
   "cell_type": "code",
   "execution_count": 51,
   "metadata": {
    "execution": {
     "iopub.execute_input": "2024-01-17T16:57:07.128426Z",
     "iopub.status.busy": "2024-01-17T16:57:07.128322Z",
     "iopub.status.idle": "2024-01-17T16:57:07.130043Z",
     "shell.execute_reply": "2024-01-17T16:57:07.129810Z"
    },
    "slideshow": {
     "slide_type": "subslide"
    }
   },
   "outputs": [
    {
     "name": "stdout",
     "output_type": "stream",
     "text": [
      "TypeError(\"'bool' object is not callable\")\n",
      "AttributeError(\"module 'email.message' has no attribute 'get'\")\n",
      "SyntaxError('invalid syntax', ('<string>', 1, 21, \"requests.structures.<genexpr>(mappedvalue='gzip, deflate', casedkey='Accept-Encoding', .0=pickle.loads(b'\\\\x80\\\\x04\\\\x95\\\\x1b\\\\x00\\\\x00\\\\x00\\\\x00\\\\x00\\\\x00\\\\x00\\\\x8c\\\\x08builtins\\\\x94\\\\x8c\\\\x04iter\\\\x94\\\\x93\\\\x94]\\\\x94\\\\x85\\\\x94R\\\\x94.'))\", 1, 22))\n",
      "SyntaxError('invalid syntax', ('<string>', 1, 18, \"urllib3.util.url.<genexpr>(x='n', .0=pickle.loads(b'\\\\x80\\\\x04\\\\x95\\\\x1c\\\\x00\\\\x00\\\\x00\\\\x00\\\\x00\\\\x00\\\\x00\\\\x8c\\\\x08builtins\\\\x94\\\\x8c\\\\x04iter\\\\x94\\\\x93\\\\x94\\\\x8c\\\\x00\\\\x94\\\\x85\\\\x94R\\\\x94.'))\", 1, 19))\n",
      "SyntaxError('invalid syntax', ('<string>', 1, 18, \"urllib3.util.url.<genexpr>(x='r', .0=pickle.loads(b'\\\\x80\\\\x04\\\\x95\\\\x1c\\\\x00\\\\x00\\\\x00\\\\x00\\\\x00\\\\x00\\\\x00\\\\x8c\\\\x08builtins\\\\x94\\\\x8c\\\\x04iter\\\\x94\\\\x93\\\\x94\\\\x8c\\\\x00\\\\x94\\\\x85\\\\x94R\\\\x94.'))\", 1, 19))\n",
      "SyntaxError('invalid syntax', ('<string>', 1, 21, \"requests.structures.<genexpr>(.0=pickle.loads(b'\\\\x80\\\\x04\\\\x95\\\\x1b\\\\x00\\\\x00\\\\x00\\\\x00\\\\x00\\\\x00\\\\x00\\\\x8c\\\\x08builtins\\\\x94\\\\x8c\\\\x04iter\\\\x94\\\\x93\\\\x94]\\\\x94\\\\x85\\\\x94R\\\\x94.'))\", 1, 22))\n",
      "AttributeError(\"module 'email.feedparser' has no attribute 'push'\")\n",
      "AttributeError(\"module 'email._policybase' has no attribute '_sanitize_header'\")\n",
      "NameError(\"name 'codecs' is not defined\")\n",
      "SyntaxError('invalid syntax', ('<string>', 1, 20, \"urllib3.connection.<genexpr>(v=b'www.fuzzingbook.org', .0=pickle.loads(b'\\\\x80\\\\x04\\\\x95\\\\x1a\\\\x00\\\\x00\\\\x00\\\\x00\\\\x00\\\\x00\\\\x00\\\\x8c\\\\x08builtins\\\\x94\\\\x8c\\\\x04iter\\\\x94\\\\x93\\\\x94)\\\\x85\\\\x94R\\\\x94.'))\", 1, 21))\n"
     ]
    }
   ],
   "source": [
    "for i in range(10):\n",
    "    print(list(exceptions_seen)[i])"
   ]
  },
  {
   "attachments": {},
   "cell_type": "markdown",
   "metadata": {
    "slideshow": {
     "slide_type": "subslide"
    }
   },
   "source": [
    "We see that:\n",
    "\n",
    "* **A large majority of calls could be converted into call strings.**  If this is not the case, this is mostly due to having non-serialized objects being passed.\n",
    "* **About a quarter of the calls could be executed.**  The error messages for the failing runs are varied; the most frequent being that some internal name is invoked that is not in scope."
   ]
  },
  {
   "cell_type": "markdown",
   "metadata": {
    "slideshow": {
     "slide_type": "fragment"
    }
   },
   "source": [
    "Our carving mechanism should be taken with a grain of salt: We still do not cover the situation where external variables and values (such as global variables) are being accessed, and the serialization mechanism cannot recreate external resources.  Still, if the function of interest falls among those that _can_ be carved and replayed, we can very effectively re-run its calls with their original arguments."
   ]
  },
  {
   "cell_type": "markdown",
   "metadata": {
    "slideshow": {
     "slide_type": "slide"
    }
   },
   "source": [
    "## Mining API Grammars from Carved Calls\n",
    "\n",
    "So far, we have used carved calls to replay exactly the same invocations as originally encountered.  However, we can also _mutate_ carved calls to effectively fuzz APIs with previously recorded arguments.\n",
    "\n",
    "The general idea is as follows:\n",
    "\n",
    "1. First, we record all calls of a specific function from a given execution of the program.\n",
    "2. Second, we create a grammar that incorporates all these calls, with separate rules for each argument and alternatives for each value found; this allows us to produce calls that arbitrarily _recombine_ these arguments.\n",
    "\n",
    "Let us explore these steps in the following sections."
   ]
  },
  {
   "cell_type": "markdown",
   "metadata": {
    "slideshow": {
     "slide_type": "subslide"
    }
   },
   "source": [
    "### From Calls to Grammars\n",
    "\n",
    "Let us start with an example.  The `power(x, y)` function returns $x^y$; it is but a wrapper around the equivalent `math.pow()` function.  (Since `power()` is defined in Python, we can trace it – in contrast to `math.pow()`, which is implemented in C.)"
   ]
  },
  {
   "cell_type": "code",
   "execution_count": 52,
   "metadata": {
    "execution": {
     "iopub.execute_input": "2024-01-17T16:57:07.131753Z",
     "iopub.status.busy": "2024-01-17T16:57:07.131652Z",
     "iopub.status.idle": "2024-01-17T16:57:07.133082Z",
     "shell.execute_reply": "2024-01-17T16:57:07.132848Z"
    },
    "slideshow": {
     "slide_type": "skip"
    }
   },
   "outputs": [],
   "source": [
    "import math"
   ]
  },
  {
   "cell_type": "code",
   "execution_count": 53,
   "metadata": {
    "execution": {
     "iopub.execute_input": "2024-01-17T16:57:07.134493Z",
     "iopub.status.busy": "2024-01-17T16:57:07.134415Z",
     "iopub.status.idle": "2024-01-17T16:57:07.135920Z",
     "shell.execute_reply": "2024-01-17T16:57:07.135702Z"
    },
    "slideshow": {
     "slide_type": "fragment"
    }
   },
   "outputs": [],
   "source": [
    "def power(x, y):\n",
    "    return math.pow(x, y)"
   ]
  },
  {
   "cell_type": "markdown",
   "metadata": {
    "slideshow": {
     "slide_type": "fragment"
    }
   },
   "source": [
    "Let us invoke `power()` while recording its arguments:"
   ]
  },
  {
   "cell_type": "code",
   "execution_count": 54,
   "metadata": {
    "execution": {
     "iopub.execute_input": "2024-01-17T16:57:07.137311Z",
     "iopub.status.busy": "2024-01-17T16:57:07.137229Z",
     "iopub.status.idle": "2024-01-17T16:57:07.142005Z",
     "shell.execute_reply": "2024-01-17T16:57:07.141783Z"
    },
    "slideshow": {
     "slide_type": "fragment"
    }
   },
   "outputs": [],
   "source": [
    "with CallCarver() as power_carver:\n",
    "    z = power(1, 2)\n",
    "    z = power(3, 4)"
   ]
  },
  {
   "cell_type": "code",
   "execution_count": 55,
   "metadata": {
    "execution": {
     "iopub.execute_input": "2024-01-17T16:57:07.143378Z",
     "iopub.status.busy": "2024-01-17T16:57:07.143293Z",
     "iopub.status.idle": "2024-01-17T16:57:07.145508Z",
     "shell.execute_reply": "2024-01-17T16:57:07.145277Z"
    },
    "slideshow": {
     "slide_type": "fragment"
    }
   },
   "outputs": [
    {
     "data": {
      "text/plain": [
       "[[('y', 2), ('x', 1)], [('y', 4), ('x', 3)]]"
      ]
     },
     "execution_count": 55,
     "metadata": {},
     "output_type": "execute_result"
    }
   ],
   "source": [
    "power_carver.arguments(\"power\")"
   ]
  },
  {
   "cell_type": "markdown",
   "metadata": {
    "slideshow": {
     "slide_type": "subslide"
    }
   },
   "source": [
    "From this list of recorded arguments, we could now create a grammar for the `power()` call, with `x` and `y` expanding into the values seen:"
   ]
  },
  {
   "cell_type": "code",
   "execution_count": 56,
   "metadata": {
    "execution": {
     "iopub.execute_input": "2024-01-17T16:57:07.146923Z",
     "iopub.status.busy": "2024-01-17T16:57:07.146840Z",
     "iopub.status.idle": "2024-01-17T16:57:07.148686Z",
     "shell.execute_reply": "2024-01-17T16:57:07.148440Z"
    },
    "slideshow": {
     "slide_type": "skip"
    }
   },
   "outputs": [],
   "source": [
    "from Grammars import START_SYMBOL, is_valid_grammar, new_symbol\n",
    "from Grammars import extend_grammar, Grammar"
   ]
  },
  {
   "cell_type": "code",
   "execution_count": 57,
   "metadata": {
    "execution": {
     "iopub.execute_input": "2024-01-17T16:57:07.150052Z",
     "iopub.status.busy": "2024-01-17T16:57:07.149976Z",
     "iopub.status.idle": "2024-01-17T16:57:07.151906Z",
     "shell.execute_reply": "2024-01-17T16:57:07.151656Z"
    },
    "slideshow": {
     "slide_type": "fragment"
    }
   },
   "outputs": [],
   "source": [
    "POWER_GRAMMAR: Grammar = {\n",
    "    \"<start>\": [\"power(<x>, <y>)\"],\n",
    "    \"<x>\": [\"1\", \"3\"],\n",
    "    \"<y>\": [\"2\", \"4\"]\n",
    "}\n",
    "\n",
    "assert is_valid_grammar(POWER_GRAMMAR)"
   ]
  },
  {
   "cell_type": "markdown",
   "metadata": {
    "slideshow": {
     "slide_type": "fragment"
    }
   },
   "source": [
    "When fuzzing with this grammar, we then get arbitrary combinations of `x` and `y`; aiming for coverage will ensure that all values are actually tested at least once:"
   ]
  },
  {
   "cell_type": "code",
   "execution_count": 58,
   "metadata": {
    "execution": {
     "iopub.execute_input": "2024-01-17T16:57:07.153333Z",
     "iopub.status.busy": "2024-01-17T16:57:07.153252Z",
     "iopub.status.idle": "2024-01-17T16:57:07.155011Z",
     "shell.execute_reply": "2024-01-17T16:57:07.154776Z"
    },
    "slideshow": {
     "slide_type": "skip"
    }
   },
   "outputs": [],
   "source": [
    "from GrammarCoverageFuzzer import GrammarCoverageFuzzer"
   ]
  },
  {
   "cell_type": "code",
   "execution_count": 59,
   "metadata": {
    "execution": {
     "iopub.execute_input": "2024-01-17T16:57:07.156451Z",
     "iopub.status.busy": "2024-01-17T16:57:07.156365Z",
     "iopub.status.idle": "2024-01-17T16:57:07.159099Z",
     "shell.execute_reply": "2024-01-17T16:57:07.158869Z"
    },
    "slideshow": {
     "slide_type": "subslide"
    }
   },
   "outputs": [
    {
     "data": {
      "text/plain": [
       "['power(1, 2)', 'power(3, 4)', 'power(1, 2)', 'power(3, 4)', 'power(3, 4)']"
      ]
     },
     "execution_count": 59,
     "metadata": {},
     "output_type": "execute_result"
    }
   ],
   "source": [
    "power_fuzzer = GrammarCoverageFuzzer(POWER_GRAMMAR)\n",
    "[power_fuzzer.fuzz() for i in range(5)]"
   ]
  },
  {
   "cell_type": "markdown",
   "metadata": {
    "slideshow": {
     "slide_type": "fragment"
    }
   },
   "source": [
    "What we need is a method to automatically convert the arguments as seen in `power_carver` to the grammar as seen in `POWER_GRAMMAR`.  This is what we define in the next section."
   ]
  },
  {
   "cell_type": "markdown",
   "metadata": {
    "slideshow": {
     "slide_type": "subslide"
    }
   },
   "source": [
    "### A Grammar Miner for Calls\n",
    "\n",
    "We introduce a class `CallGrammarMiner`, which, given a `Carver`, automatically produces a grammar from the calls seen.  To initialize, we pass the carver object:"
   ]
  },
  {
   "cell_type": "code",
   "execution_count": 60,
   "metadata": {
    "execution": {
     "iopub.execute_input": "2024-01-17T16:57:07.161051Z",
     "iopub.status.busy": "2024-01-17T16:57:07.160953Z",
     "iopub.status.idle": "2024-01-17T16:57:07.162613Z",
     "shell.execute_reply": "2024-01-17T16:57:07.162378Z"
    },
    "slideshow": {
     "slide_type": "fragment"
    }
   },
   "outputs": [],
   "source": [
    "class CallGrammarMiner:\n",
    "    def __init__(self, carver, log=False):\n",
    "        self.carver = carver\n",
    "        self.log = log"
   ]
  },
  {
   "cell_type": "markdown",
   "metadata": {
    "slideshow": {
     "slide_type": "subslide"
    }
   },
   "source": [
    "#### Initial Grammar\n",
    "\n",
    "The initial grammar produces a single call.  The possible `<call>` expansions are to be constructed later:"
   ]
  },
  {
   "cell_type": "code",
   "execution_count": 61,
   "metadata": {
    "execution": {
     "iopub.execute_input": "2024-01-17T16:57:07.164057Z",
     "iopub.status.busy": "2024-01-17T16:57:07.163959Z",
     "iopub.status.idle": "2024-01-17T16:57:07.165591Z",
     "shell.execute_reply": "2024-01-17T16:57:07.165373Z"
    },
    "slideshow": {
     "slide_type": "skip"
    }
   },
   "outputs": [],
   "source": [
    "import copy "
   ]
  },
  {
   "cell_type": "code",
   "execution_count": 62,
   "metadata": {
    "execution": {
     "iopub.execute_input": "2024-01-17T16:57:07.167022Z",
     "iopub.status.busy": "2024-01-17T16:57:07.166938Z",
     "iopub.status.idle": "2024-01-17T16:57:07.168636Z",
     "shell.execute_reply": "2024-01-17T16:57:07.168414Z"
    },
    "slideshow": {
     "slide_type": "fragment"
    }
   },
   "outputs": [],
   "source": [
    "class CallGrammarMiner(CallGrammarMiner):\n",
    "    CALL_SYMBOL = \"<call>\"\n",
    "\n",
    "    def initial_grammar(self):\n",
    "        return extend_grammar(\n",
    "            {START_SYMBOL: [self.CALL_SYMBOL],\n",
    "                self.CALL_SYMBOL: []\n",
    "             })"
   ]
  },
  {
   "cell_type": "code",
   "execution_count": 63,
   "metadata": {
    "execution": {
     "iopub.execute_input": "2024-01-17T16:57:07.170028Z",
     "iopub.status.busy": "2024-01-17T16:57:07.169948Z",
     "iopub.status.idle": "2024-01-17T16:57:07.172114Z",
     "shell.execute_reply": "2024-01-17T16:57:07.171896Z"
    },
    "slideshow": {
     "slide_type": "subslide"
    }
   },
   "outputs": [
    {
     "data": {
      "text/plain": [
       "{'<start>': ['<call>'], '<call>': []}"
      ]
     },
     "execution_count": 63,
     "metadata": {},
     "output_type": "execute_result"
    }
   ],
   "source": [
    "m = CallGrammarMiner(power_carver)\n",
    "initial_grammar = m.initial_grammar()\n",
    "initial_grammar"
   ]
  },
  {
   "cell_type": "markdown",
   "metadata": {
    "slideshow": {
     "slide_type": "subslide"
    }
   },
   "source": [
    "#### A Grammar from Arguments\n",
    "\n",
    "Let us start by creating a grammar from a list of arguments.  The method `mine_arguments_grammar()` creates a grammar for the arguments seen during carving, such as these:"
   ]
  },
  {
   "cell_type": "code",
   "execution_count": 64,
   "metadata": {
    "execution": {
     "iopub.execute_input": "2024-01-17T16:57:07.173600Z",
     "iopub.status.busy": "2024-01-17T16:57:07.173499Z",
     "iopub.status.idle": "2024-01-17T16:57:07.175605Z",
     "shell.execute_reply": "2024-01-17T16:57:07.175383Z"
    },
    "slideshow": {
     "slide_type": "fragment"
    }
   },
   "outputs": [
    {
     "data": {
      "text/plain": [
       "[[('y', 2), ('x', 1)], [('y', 4), ('x', 3)]]"
      ]
     },
     "execution_count": 64,
     "metadata": {},
     "output_type": "execute_result"
    }
   ],
   "source": [
    "arguments = power_carver.arguments(\"power\")\n",
    "arguments"
   ]
  },
  {
   "cell_type": "markdown",
   "metadata": {
    "slideshow": {
     "slide_type": "fragment"
    }
   },
   "source": [
    "The `mine_arguments_grammar()` method iterates through the variables seen and creates a mapping `variables` of variable names to a set of values seen (as strings, going through `call_value()`).  In a second step, it then creates a grammar with a rule for each variable name, expanding into the values seen."
   ]
  },
  {
   "cell_type": "code",
   "execution_count": 65,
   "metadata": {
    "execution": {
     "iopub.execute_input": "2024-01-17T16:57:07.177261Z",
     "iopub.status.busy": "2024-01-17T16:57:07.177164Z",
     "iopub.status.idle": "2024-01-17T16:57:07.180195Z",
     "shell.execute_reply": "2024-01-17T16:57:07.179962Z"
    },
    "slideshow": {
     "slide_type": "subslide"
    }
   },
   "outputs": [],
   "source": [
    "class CallGrammarMiner(CallGrammarMiner):\n",
    "    def var_symbol(self, function_name, var, grammar):\n",
    "        return new_symbol(grammar, \"<\" + function_name + \"-\" + var + \">\")\n",
    "\n",
    "    def mine_arguments_grammar(self, function_name, arguments, grammar):\n",
    "        var_grammar = {}\n",
    "\n",
    "        variables = {}\n",
    "        for argument_list in arguments:\n",
    "            for (var, value) in argument_list:\n",
    "                value_string = call_value(value)\n",
    "                if self.log:\n",
    "                    print(var, \"=\", value_string)\n",
    "\n",
    "                if value_string.find(\"<\") >= 0:\n",
    "                    var_grammar[\"<langle>\"] = [\"<\"]\n",
    "                    value_string = value_string.replace(\"<\", \"<langle>\")\n",
    "\n",
    "                if var not in variables:\n",
    "                    variables[var] = set()\n",
    "                variables[var].add(value_string)\n",
    "\n",
    "        var_symbols = []\n",
    "        for var in variables:\n",
    "            var_symbol = self.var_symbol(function_name, var, grammar)\n",
    "            var_symbols.append(var_symbol)\n",
    "            var_grammar[var_symbol] = list(variables[var])\n",
    "\n",
    "        return var_grammar, var_symbols"
   ]
  },
  {
   "cell_type": "code",
   "execution_count": 66,
   "metadata": {
    "execution": {
     "iopub.execute_input": "2024-01-17T16:57:07.181681Z",
     "iopub.status.busy": "2024-01-17T16:57:07.181600Z",
     "iopub.status.idle": "2024-01-17T16:57:07.183372Z",
     "shell.execute_reply": "2024-01-17T16:57:07.183087Z"
    },
    "slideshow": {
     "slide_type": "subslide"
    }
   },
   "outputs": [],
   "source": [
    "m = CallGrammarMiner(power_carver)\n",
    "var_grammar, var_symbols = m.mine_arguments_grammar(\n",
    "    \"power\", arguments, initial_grammar)"
   ]
  },
  {
   "cell_type": "code",
   "execution_count": 67,
   "metadata": {
    "execution": {
     "iopub.execute_input": "2024-01-17T16:57:07.184691Z",
     "iopub.status.busy": "2024-01-17T16:57:07.184616Z",
     "iopub.status.idle": "2024-01-17T16:57:07.186655Z",
     "shell.execute_reply": "2024-01-17T16:57:07.186392Z"
    },
    "slideshow": {
     "slide_type": "fragment"
    }
   },
   "outputs": [
    {
     "data": {
      "text/plain": [
       "{'<power-y>': ['2', '4'], '<power-x>': ['1', '3']}"
      ]
     },
     "execution_count": 67,
     "metadata": {},
     "output_type": "execute_result"
    }
   ],
   "source": [
    "var_grammar"
   ]
  },
  {
   "cell_type": "markdown",
   "metadata": {
    "slideshow": {
     "slide_type": "fragment"
    }
   },
   "source": [
    "The additional return value `var_symbols` is a list of argument symbols in the call:"
   ]
  },
  {
   "cell_type": "code",
   "execution_count": 68,
   "metadata": {
    "execution": {
     "iopub.execute_input": "2024-01-17T16:57:07.188082Z",
     "iopub.status.busy": "2024-01-17T16:57:07.188002Z",
     "iopub.status.idle": "2024-01-17T16:57:07.189998Z",
     "shell.execute_reply": "2024-01-17T16:57:07.189754Z"
    },
    "slideshow": {
     "slide_type": "fragment"
    }
   },
   "outputs": [
    {
     "data": {
      "text/plain": [
       "['<power-y>', '<power-x>']"
      ]
     },
     "execution_count": 68,
     "metadata": {},
     "output_type": "execute_result"
    }
   ],
   "source": [
    "var_symbols"
   ]
  },
  {
   "cell_type": "markdown",
   "metadata": {
    "slideshow": {
     "slide_type": "subslide"
    }
   },
   "source": [
    "#### A Grammar from Calls\n",
    "\n",
    "To get the grammar for a single function (`mine_function_grammar()`), we add a call to the function:"
   ]
  },
  {
   "cell_type": "code",
   "execution_count": 69,
   "metadata": {
    "execution": {
     "iopub.execute_input": "2024-01-17T16:57:07.191511Z",
     "iopub.status.busy": "2024-01-17T16:57:07.191430Z",
     "iopub.status.idle": "2024-01-17T16:57:07.194488Z",
     "shell.execute_reply": "2024-01-17T16:57:07.194256Z"
    },
    "slideshow": {
     "slide_type": "subslide"
    }
   },
   "outputs": [],
   "source": [
    "class CallGrammarMiner(CallGrammarMiner):\n",
    "    def function_symbol(self, function_name, grammar):\n",
    "        return new_symbol(grammar, \"<\" + function_name + \">\")\n",
    "\n",
    "    def mine_function_grammar(self, function_name, grammar):\n",
    "        arguments = self.carver.arguments(function_name)\n",
    "\n",
    "        if self.log:\n",
    "            print(function_name, arguments)\n",
    "\n",
    "        var_grammar, var_symbols = self.mine_arguments_grammar(\n",
    "            function_name, arguments, grammar)\n",
    "\n",
    "        function_grammar = var_grammar\n",
    "        function_symbol = self.function_symbol(function_name, grammar)\n",
    "\n",
    "        if len(var_symbols) > 0 and var_symbols[0].find(\"-self\") >= 0:\n",
    "            # Method call\n",
    "            function_grammar[function_symbol] = [\n",
    "                var_symbols[0] + \".\" + function_name + \"(\" + \", \".join(var_symbols[1:]) + \")\"]\n",
    "        else:\n",
    "            function_grammar[function_symbol] = [\n",
    "                function_name + \"(\" + \", \".join(var_symbols) + \")\"]\n",
    "\n",
    "        if self.log:\n",
    "            print(function_symbol, \"::=\", function_grammar[function_symbol])\n",
    "\n",
    "        return function_grammar, function_symbol"
   ]
  },
  {
   "cell_type": "code",
   "execution_count": 70,
   "metadata": {
    "execution": {
     "iopub.execute_input": "2024-01-17T16:57:07.195889Z",
     "iopub.status.busy": "2024-01-17T16:57:07.195810Z",
     "iopub.status.idle": "2024-01-17T16:57:07.198024Z",
     "shell.execute_reply": "2024-01-17T16:57:07.197789Z"
    },
    "slideshow": {
     "slide_type": "subslide"
    }
   },
   "outputs": [
    {
     "data": {
      "text/plain": [
       "{'<power-y>': ['2', '4'],\n",
       " '<power-x>': ['1', '3'],\n",
       " '<power>': ['power(<power-y>, <power-x>)']}"
      ]
     },
     "execution_count": 70,
     "metadata": {},
     "output_type": "execute_result"
    }
   ],
   "source": [
    "m = CallGrammarMiner(power_carver)\n",
    "function_grammar, function_symbol = m.mine_function_grammar(\n",
    "    \"power\", initial_grammar)\n",
    "function_grammar"
   ]
  },
  {
   "cell_type": "markdown",
   "metadata": {
    "slideshow": {
     "slide_type": "fragment"
    }
   },
   "source": [
    "The additionally returned `function_symbol` holds the name of the function call just added:"
   ]
  },
  {
   "cell_type": "code",
   "execution_count": 71,
   "metadata": {
    "execution": {
     "iopub.execute_input": "2024-01-17T16:57:07.199431Z",
     "iopub.status.busy": "2024-01-17T16:57:07.199353Z",
     "iopub.status.idle": "2024-01-17T16:57:07.201375Z",
     "shell.execute_reply": "2024-01-17T16:57:07.201148Z"
    },
    "slideshow": {
     "slide_type": "fragment"
    }
   },
   "outputs": [
    {
     "data": {
      "text/plain": [
       "'<power>'"
      ]
     },
     "execution_count": 71,
     "metadata": {},
     "output_type": "execute_result"
    }
   ],
   "source": [
    "function_symbol"
   ]
  },
  {
   "cell_type": "markdown",
   "metadata": {
    "slideshow": {
     "slide_type": "subslide"
    }
   },
   "source": [
    "#### A Grammar from all Calls\n",
    "\n",
    "Let us now repeat the above for all function calls seen during carving.  To this end, we simply iterate over all function calls seen:"
   ]
  },
  {
   "cell_type": "code",
   "execution_count": 72,
   "metadata": {
    "execution": {
     "iopub.execute_input": "2024-01-17T16:57:07.202817Z",
     "iopub.status.busy": "2024-01-17T16:57:07.202723Z",
     "iopub.status.idle": "2024-01-17T16:57:07.204745Z",
     "shell.execute_reply": "2024-01-17T16:57:07.204522Z"
    },
    "slideshow": {
     "slide_type": "fragment"
    }
   },
   "outputs": [
    {
     "data": {
      "text/plain": [
       "['power', '__exit__']"
      ]
     },
     "execution_count": 72,
     "metadata": {},
     "output_type": "execute_result"
    }
   ],
   "source": [
    "power_carver.called_functions()"
   ]
  },
  {
   "cell_type": "code",
   "execution_count": 73,
   "metadata": {
    "execution": {
     "iopub.execute_input": "2024-01-17T16:57:07.206142Z",
     "iopub.status.busy": "2024-01-17T16:57:07.206047Z",
     "iopub.status.idle": "2024-01-17T16:57:07.208791Z",
     "shell.execute_reply": "2024-01-17T16:57:07.208564Z"
    },
    "slideshow": {
     "slide_type": "subslide"
    }
   },
   "outputs": [],
   "source": [
    "class CallGrammarMiner(CallGrammarMiner):\n",
    "    def mine_call_grammar(self, function_list=None, qualified=False):\n",
    "        grammar = self.initial_grammar()\n",
    "        fn_list = function_list\n",
    "        if function_list is None:\n",
    "            fn_list = self.carver.called_functions(qualified=qualified)\n",
    "\n",
    "        for function_name in fn_list:\n",
    "            if function_list is None and (function_name.startswith(\"_\") or function_name.startswith(\"<\")):\n",
    "                continue  # Internal function\n",
    "\n",
    "            # Ignore errors with mined functions\n",
    "            try:\n",
    "                function_grammar, function_symbol = self.mine_function_grammar(\n",
    "                    function_name, grammar)\n",
    "            except:\n",
    "                if function_list is not None:\n",
    "                    raise\n",
    "\n",
    "            if function_symbol not in grammar[self.CALL_SYMBOL]:\n",
    "                grammar[self.CALL_SYMBOL].append(function_symbol)\n",
    "            grammar.update(function_grammar)\n",
    "\n",
    "        assert is_valid_grammar(grammar)\n",
    "        return grammar"
   ]
  },
  {
   "cell_type": "markdown",
   "metadata": {
    "slideshow": {
     "slide_type": "subslide"
    }
   },
   "source": [
    "The method `mine_call_grammar()` is the one that clients can and should use – first for mining..."
   ]
  },
  {
   "cell_type": "code",
   "execution_count": 74,
   "metadata": {
    "execution": {
     "iopub.execute_input": "2024-01-17T16:57:07.210279Z",
     "iopub.status.busy": "2024-01-17T16:57:07.210175Z",
     "iopub.status.idle": "2024-01-17T16:57:07.212401Z",
     "shell.execute_reply": "2024-01-17T16:57:07.212166Z"
    },
    "slideshow": {
     "slide_type": "fragment"
    }
   },
   "outputs": [
    {
     "data": {
      "text/plain": [
       "{'<start>': ['<call>'],\n",
       " '<call>': ['<power>'],\n",
       " '<power-y>': ['2', '4'],\n",
       " '<power-x>': ['1', '3'],\n",
       " '<power>': ['power(<power-y>, <power-x>)']}"
      ]
     },
     "execution_count": 74,
     "metadata": {},
     "output_type": "execute_result"
    }
   ],
   "source": [
    "m = CallGrammarMiner(power_carver)\n",
    "power_grammar = m.mine_call_grammar()\n",
    "power_grammar"
   ]
  },
  {
   "cell_type": "markdown",
   "metadata": {
    "slideshow": {
     "slide_type": "fragment"
    }
   },
   "source": [
    "...and then for fuzzing:"
   ]
  },
  {
   "cell_type": "code",
   "execution_count": 75,
   "metadata": {
    "execution": {
     "iopub.execute_input": "2024-01-17T16:57:07.213881Z",
     "iopub.status.busy": "2024-01-17T16:57:07.213785Z",
     "iopub.status.idle": "2024-01-17T16:57:07.216715Z",
     "shell.execute_reply": "2024-01-17T16:57:07.216494Z"
    },
    "slideshow": {
     "slide_type": "fragment"
    }
   },
   "outputs": [
    {
     "data": {
      "text/plain": [
       "['power(4, 1)', 'power(2, 3)', 'power(4, 1)', 'power(4, 1)', 'power(2, 1)']"
      ]
     },
     "execution_count": 75,
     "metadata": {},
     "output_type": "execute_result"
    }
   ],
   "source": [
    "power_fuzzer = GrammarCoverageFuzzer(power_grammar)\n",
    "[power_fuzzer.fuzz() for i in range(5)]"
   ]
  },
  {
   "cell_type": "markdown",
   "metadata": {
    "slideshow": {
     "slide_type": "subslide"
    }
   },
   "source": [
    "With this, we have successfully extracted a grammar from a recorded execution; in contrast to \"simple\" carving, our grammar allows us to _recombine_ arguments and thus to fuzz at the API level."
   ]
  },
  {
   "cell_type": "markdown",
   "metadata": {
    "slideshow": {
     "slide_type": "slide"
    }
   },
   "source": [
    "## Fuzzing Web Functions\n",
    "\n",
    "Let us now apply our grammar miner on a larger API – the `urlparse()` function we already encountered during carving."
   ]
  },
  {
   "cell_type": "code",
   "execution_count": 76,
   "metadata": {
    "execution": {
     "iopub.execute_input": "2024-01-17T16:57:07.218356Z",
     "iopub.status.busy": "2024-01-17T16:57:07.218261Z",
     "iopub.status.idle": "2024-01-17T16:57:07.349273Z",
     "shell.execute_reply": "2024-01-17T16:57:07.348880Z"
    },
    "slideshow": {
     "slide_type": "fragment"
    }
   },
   "outputs": [],
   "source": [
    "with CallCarver() as webbrowser_carver:\n",
    "    webbrowser(\"https://www.fuzzingbook.org\")"
   ]
  },
  {
   "cell_type": "markdown",
   "metadata": {
    "slideshow": {
     "slide_type": "fragment"
    }
   },
   "source": [
    "We can mine a grammar from the calls encountered:"
   ]
  },
  {
   "cell_type": "code",
   "execution_count": 77,
   "metadata": {
    "execution": {
     "iopub.execute_input": "2024-01-17T16:57:07.350902Z",
     "iopub.status.busy": "2024-01-17T16:57:07.350812Z",
     "iopub.status.idle": "2024-01-17T16:57:07.387556Z",
     "shell.execute_reply": "2024-01-17T16:57:07.387249Z"
    },
    "slideshow": {
     "slide_type": "fragment"
    }
   },
   "outputs": [],
   "source": [
    "m = CallGrammarMiner(webbrowser_carver)\n",
    "webbrowser_grammar = m.mine_call_grammar()"
   ]
  },
  {
   "cell_type": "markdown",
   "metadata": {
    "slideshow": {
     "slide_type": "fragment"
    }
   },
   "source": [
    "This is a rather large grammar:"
   ]
  },
  {
   "cell_type": "code",
   "execution_count": 78,
   "metadata": {
    "execution": {
     "iopub.execute_input": "2024-01-17T16:57:07.389170Z",
     "iopub.status.busy": "2024-01-17T16:57:07.389084Z",
     "iopub.status.idle": "2024-01-17T16:57:07.391471Z",
     "shell.execute_reply": "2024-01-17T16:57:07.391209Z"
    },
    "slideshow": {
     "slide_type": "fragment"
    }
   },
   "outputs": [
    {
     "data": {
      "text/plain": [
       "136"
      ]
     },
     "execution_count": 78,
     "metadata": {},
     "output_type": "execute_result"
    }
   ],
   "source": [
    "call_list = webbrowser_grammar['<call>']\n",
    "len(call_list)"
   ]
  },
  {
   "cell_type": "code",
   "execution_count": 79,
   "metadata": {
    "execution": {
     "iopub.execute_input": "2024-01-17T16:57:07.393004Z",
     "iopub.status.busy": "2024-01-17T16:57:07.392891Z",
     "iopub.status.idle": "2024-01-17T16:57:07.394661Z",
     "shell.execute_reply": "2024-01-17T16:57:07.394407Z"
    },
    "slideshow": {
     "slide_type": "subslide"
    }
   },
   "outputs": [
    {
     "name": "stdout",
     "output_type": "stream",
     "text": [
      "['<webbrowser>', '<default_headers>', '<default_user_agent>', '<update>', '<default_hooks>', '<cookiejar_from_dict>', '<RLock>', '<deepvalues>', '<vals_sorted_by_key>', '<init_poolmanager>', '<mount>', '<prepare_request>', '<merge_cookies>', '<get_netrc_auth>', '<encode>', '<expanduser>', '<decode>', '<exists>', '<urlparse>', '<urlsplit>']\n"
     ]
    }
   ],
   "source": [
    "print(call_list[:20])"
   ]
  },
  {
   "cell_type": "markdown",
   "metadata": {
    "slideshow": {
     "slide_type": "fragment"
    }
   },
   "source": [
    "Here's the rule for the `urlparse()` function:"
   ]
  },
  {
   "cell_type": "code",
   "execution_count": 80,
   "metadata": {
    "execution": {
     "iopub.execute_input": "2024-01-17T16:57:07.396138Z",
     "iopub.status.busy": "2024-01-17T16:57:07.396029Z",
     "iopub.status.idle": "2024-01-17T16:57:07.398182Z",
     "shell.execute_reply": "2024-01-17T16:57:07.397909Z"
    },
    "slideshow": {
     "slide_type": "fragment"
    }
   },
   "outputs": [
    {
     "data": {
      "text/plain": [
       "['urlparse(<urlparse-allow_fragments>, <urlparse-scheme>, <urlparse-url>)']"
      ]
     },
     "execution_count": 80,
     "metadata": {},
     "output_type": "execute_result"
    }
   ],
   "source": [
    "webbrowser_grammar[\"<urlparse>\"]"
   ]
  },
  {
   "cell_type": "markdown",
   "metadata": {
    "slideshow": {
     "slide_type": "fragment"
    }
   },
   "source": [
    "Here are the arguments."
   ]
  },
  {
   "cell_type": "code",
   "execution_count": 81,
   "metadata": {
    "execution": {
     "iopub.execute_input": "2024-01-17T16:57:07.399765Z",
     "iopub.status.busy": "2024-01-17T16:57:07.399657Z",
     "iopub.status.idle": "2024-01-17T16:57:07.401890Z",
     "shell.execute_reply": "2024-01-17T16:57:07.401649Z"
    },
    "slideshow": {
     "slide_type": "fragment"
    }
   },
   "outputs": [
    {
     "data": {
      "text/plain": [
       "[\"'https://www.fuzzingbook.org/'\", \"'https://www.fuzzingbook.org'\"]"
      ]
     },
     "execution_count": 81,
     "metadata": {},
     "output_type": "execute_result"
    }
   ],
   "source": [
    "webbrowser_grammar[\"<urlparse-url>\"]"
   ]
  },
  {
   "cell_type": "markdown",
   "metadata": {
    "slideshow": {
     "slide_type": "fragment"
    }
   },
   "source": [
    "If we now apply a fuzzer on these rules, we systematically cover all variations of arguments seen, including, of course, combinations not seen during carving.  Again, we are fuzzing at the API level here."
   ]
  },
  {
   "cell_type": "code",
   "execution_count": 82,
   "metadata": {
    "execution": {
     "iopub.execute_input": "2024-01-17T16:57:07.403641Z",
     "iopub.status.busy": "2024-01-17T16:57:07.403535Z",
     "iopub.status.idle": "2024-01-17T16:57:07.426500Z",
     "shell.execute_reply": "2024-01-17T16:57:07.426241Z"
    },
    "slideshow": {
     "slide_type": "subslide"
    }
   },
   "outputs": [
    {
     "name": "stdout",
     "output_type": "stream",
     "text": [
      "urlparse(True, '', 'https://www.fuzzingbook.org/')\n",
      "urlparse(True, '', 'https://www.fuzzingbook.org')\n",
      "urlparse(True, '', 'https://www.fuzzingbook.org/')\n",
      "urlparse(True, '', 'https://www.fuzzingbook.org/')\n",
      "urlparse(True, '', 'https://www.fuzzingbook.org/')\n"
     ]
    }
   ],
   "source": [
    "urlparse_fuzzer = GrammarCoverageFuzzer(\n",
    "    webbrowser_grammar, start_symbol=\"<urlparse>\")\n",
    "for i in range(5):\n",
    "    print(urlparse_fuzzer.fuzz())"
   ]
  },
  {
   "cell_type": "markdown",
   "metadata": {
    "slideshow": {
     "slide_type": "fragment"
    }
   },
   "source": [
    "Just as seen with carving, running tests at the API level is orders of magnitude faster than executing system tests.  Hence, this calls for means to fuzz at the method level:"
   ]
  },
  {
   "cell_type": "code",
   "execution_count": 83,
   "metadata": {
    "execution": {
     "iopub.execute_input": "2024-01-17T16:57:07.428209Z",
     "iopub.status.busy": "2024-01-17T16:57:07.428101Z",
     "iopub.status.idle": "2024-01-17T16:57:07.429870Z",
     "shell.execute_reply": "2024-01-17T16:57:07.429618Z"
    },
    "slideshow": {
     "slide_type": "skip"
    }
   },
   "outputs": [],
   "source": [
    "from urllib.parse import urlsplit"
   ]
  },
  {
   "cell_type": "code",
   "execution_count": 84,
   "metadata": {
    "execution": {
     "iopub.execute_input": "2024-01-17T16:57:07.431542Z",
     "iopub.status.busy": "2024-01-17T16:57:07.431419Z",
     "iopub.status.idle": "2024-01-17T16:57:07.433224Z",
     "shell.execute_reply": "2024-01-17T16:57:07.432963Z"
    },
    "slideshow": {
     "slide_type": "skip"
    }
   },
   "outputs": [],
   "source": [
    "from Timer import Timer"
   ]
  },
  {
   "cell_type": "code",
   "execution_count": 85,
   "metadata": {
    "execution": {
     "iopub.execute_input": "2024-01-17T16:57:07.434718Z",
     "iopub.status.busy": "2024-01-17T16:57:07.434586Z",
     "iopub.status.idle": "2024-01-17T16:57:07.436699Z",
     "shell.execute_reply": "2024-01-17T16:57:07.436434Z"
    },
    "slideshow": {
     "slide_type": "subslide"
    }
   },
   "outputs": [
    {
     "data": {
      "text/plain": [
       "9.45899955695495e-06"
      ]
     },
     "execution_count": 85,
     "metadata": {},
     "output_type": "execute_result"
    }
   ],
   "source": [
    "with Timer() as urlsplit_timer:\n",
    "    urlsplit('http://www.fuzzingbook.org/', 'http', True)\n",
    "urlsplit_timer.elapsed_time()"
   ]
  },
  {
   "cell_type": "code",
   "execution_count": 86,
   "metadata": {
    "execution": {
     "iopub.execute_input": "2024-01-17T16:57:07.438195Z",
     "iopub.status.busy": "2024-01-17T16:57:07.438095Z",
     "iopub.status.idle": "2024-01-17T16:57:07.695667Z",
     "shell.execute_reply": "2024-01-17T16:57:07.695061Z"
    },
    "slideshow": {
     "slide_type": "fragment"
    }
   },
   "outputs": [
    {
     "data": {
      "text/plain": [
       "0.2525444160000916"
      ]
     },
     "execution_count": 86,
     "metadata": {},
     "output_type": "execute_result"
    }
   ],
   "source": [
    "with Timer() as webbrowser_timer:\n",
    "    webbrowser(\"http://www.fuzzingbook.org\")\n",
    "webbrowser_timer.elapsed_time()"
   ]
  },
  {
   "cell_type": "code",
   "execution_count": 87,
   "metadata": {
    "execution": {
     "iopub.execute_input": "2024-01-17T16:57:07.698718Z",
     "iopub.status.busy": "2024-01-17T16:57:07.698469Z",
     "iopub.status.idle": "2024-01-17T16:57:07.702505Z",
     "shell.execute_reply": "2024-01-17T16:57:07.702012Z"
    },
    "slideshow": {
     "slide_type": "fragment"
    }
   },
   "outputs": [
    {
     "data": {
      "text/plain": [
       "26698.850600368452"
      ]
     },
     "execution_count": 87,
     "metadata": {},
     "output_type": "execute_result"
    }
   ],
   "source": [
    "webbrowser_timer.elapsed_time() / urlsplit_timer.elapsed_time()"
   ]
  },
  {
   "cell_type": "markdown",
   "metadata": {
    "slideshow": {
     "slide_type": "subslide"
    }
   },
   "source": [
    "But then again, the caveats encountered during carving apply, notably the requirement to recreate the original function environment.  If we also alter or recombine arguments, we get the additional risk of _violating an implicit precondition_ – that is, invoking a function with arguments the function was never designed for.  Such _false alarms_, resulting from incorrect invocations rather than incorrect implementations, must then be identified (typically manually) and wed out (for instance, by altering or constraining the grammar).  The huge speed gains at the API level, however, may well justify this additional investment."
   ]
  },
  {
   "cell_type": "markdown",
   "metadata": {
    "slideshow": {
     "slide_type": "slide"
    }
   },
   "source": [
    "## Synopsis\n",
    "\n",
    "This chapter provides means to _record and replay function calls_ during a system test.  Since individual function calls are much faster than a whole system run, such \"carving\" mechanisms have the potential to run tests much faster."
   ]
  },
  {
   "cell_type": "markdown",
   "metadata": {
    "slideshow": {
     "slide_type": "subslide"
    }
   },
   "source": [
    "### Recording Calls\n",
    "\n",
    "The `CallCarver` class records all calls occurring while it is active.  It is used in conjunction with a `with` clause:"
   ]
  },
  {
   "cell_type": "code",
   "execution_count": 88,
   "metadata": {
    "execution": {
     "iopub.execute_input": "2024-01-17T16:57:07.705289Z",
     "iopub.status.busy": "2024-01-17T16:57:07.705119Z",
     "iopub.status.idle": "2024-01-17T16:57:07.712642Z",
     "shell.execute_reply": "2024-01-17T16:57:07.712228Z"
    },
    "slideshow": {
     "slide_type": "fragment"
    }
   },
   "outputs": [],
   "source": [
    "with CallCarver() as carver:\n",
    "    y = my_sqrt(2)\n",
    "    y = my_sqrt(4)"
   ]
  },
  {
   "cell_type": "markdown",
   "metadata": {
    "slideshow": {
     "slide_type": "fragment"
    }
   },
   "source": [
    "After execution, `called_functions()` lists the names of functions encountered:"
   ]
  },
  {
   "cell_type": "code",
   "execution_count": 89,
   "metadata": {
    "execution": {
     "iopub.execute_input": "2024-01-17T16:57:07.715110Z",
     "iopub.status.busy": "2024-01-17T16:57:07.714738Z",
     "iopub.status.idle": "2024-01-17T16:57:07.717842Z",
     "shell.execute_reply": "2024-01-17T16:57:07.717455Z"
    },
    "slideshow": {
     "slide_type": "fragment"
    }
   },
   "outputs": [
    {
     "data": {
      "text/plain": [
       "['my_sqrt', '__exit__']"
      ]
     },
     "execution_count": 89,
     "metadata": {},
     "output_type": "execute_result"
    }
   ],
   "source": [
    "carver.called_functions()"
   ]
  },
  {
   "cell_type": "markdown",
   "metadata": {
    "slideshow": {
     "slide_type": "fragment"
    }
   },
   "source": [
    "The `arguments()` method lists the arguments recorded for a function.  This is a mapping of the function name to a list of lists of arguments; each argument is a pair (parameter name, value)."
   ]
  },
  {
   "cell_type": "code",
   "execution_count": 90,
   "metadata": {
    "execution": {
     "iopub.execute_input": "2024-01-17T16:57:07.719981Z",
     "iopub.status.busy": "2024-01-17T16:57:07.719854Z",
     "iopub.status.idle": "2024-01-17T16:57:07.722850Z",
     "shell.execute_reply": "2024-01-17T16:57:07.722459Z"
    },
    "slideshow": {
     "slide_type": "subslide"
    }
   },
   "outputs": [
    {
     "data": {
      "text/plain": [
       "[[('x', 2)], [('x', 4)]]"
      ]
     },
     "execution_count": 90,
     "metadata": {},
     "output_type": "execute_result"
    }
   ],
   "source": [
    "carver.arguments('my_sqrt')"
   ]
  },
  {
   "cell_type": "markdown",
   "metadata": {
    "slideshow": {
     "slide_type": "fragment"
    }
   },
   "source": [
    "Complex arguments are properly serialized, such that they can be easily restored."
   ]
  },
  {
   "cell_type": "markdown",
   "metadata": {
    "slideshow": {
     "slide_type": "subslide"
    }
   },
   "source": [
    "### Synthesizing Calls\n",
    "\n",
    "While such recorded arguments already could be turned into arguments and calls, a much nicer alternative is to create a _grammar_ for recorded calls.  This allows synthesizing arbitrary _combinations_ of arguments, and also offers a base for further customization of calls."
   ]
  },
  {
   "cell_type": "markdown",
   "metadata": {
    "slideshow": {
     "slide_type": "fragment"
    }
   },
   "source": [
    "The `CallGrammarMiner` class turns a list of carved executions into a grammar."
   ]
  },
  {
   "cell_type": "code",
   "execution_count": 91,
   "metadata": {
    "execution": {
     "iopub.execute_input": "2024-01-17T16:57:07.724988Z",
     "iopub.status.busy": "2024-01-17T16:57:07.724831Z",
     "iopub.status.idle": "2024-01-17T16:57:07.727858Z",
     "shell.execute_reply": "2024-01-17T16:57:07.727532Z"
    },
    "slideshow": {
     "slide_type": "subslide"
    }
   },
   "outputs": [
    {
     "data": {
      "text/plain": [
       "{'<start>': ['<call>'],\n",
       " '<call>': ['<my_sqrt>'],\n",
       " '<my_sqrt-x>': ['2', '4'],\n",
       " '<my_sqrt>': ['my_sqrt(<my_sqrt-x>)']}"
      ]
     },
     "execution_count": 91,
     "metadata": {},
     "output_type": "execute_result"
    }
   ],
   "source": [
    "my_sqrt_miner = CallGrammarMiner(carver)\n",
    "my_sqrt_grammar = my_sqrt_miner.mine_call_grammar()\n",
    "my_sqrt_grammar"
   ]
  },
  {
   "cell_type": "markdown",
   "metadata": {
    "slideshow": {
     "slide_type": "fragment"
    }
   },
   "source": [
    "This grammar can be used to synthesize calls."
   ]
  },
  {
   "cell_type": "code",
   "execution_count": 92,
   "metadata": {
    "execution": {
     "iopub.execute_input": "2024-01-17T16:57:07.729684Z",
     "iopub.status.busy": "2024-01-17T16:57:07.729570Z",
     "iopub.status.idle": "2024-01-17T16:57:07.732532Z",
     "shell.execute_reply": "2024-01-17T16:57:07.732223Z"
    },
    "slideshow": {
     "slide_type": "fragment"
    }
   },
   "outputs": [
    {
     "data": {
      "text/plain": [
       "'my_sqrt(4)'"
      ]
     },
     "execution_count": 92,
     "metadata": {},
     "output_type": "execute_result"
    }
   ],
   "source": [
    "fuzzer = GrammarCoverageFuzzer(my_sqrt_grammar)\n",
    "fuzzer.fuzz()"
   ]
  },
  {
   "cell_type": "markdown",
   "metadata": {
    "slideshow": {
     "slide_type": "fragment"
    }
   },
   "source": [
    "These calls can be executed in isolation, effectively extracting unit tests from system tests:"
   ]
  },
  {
   "cell_type": "code",
   "execution_count": 93,
   "metadata": {
    "execution": {
     "iopub.execute_input": "2024-01-17T16:57:07.734332Z",
     "iopub.status.busy": "2024-01-17T16:57:07.734189Z",
     "iopub.status.idle": "2024-01-17T16:57:07.736910Z",
     "shell.execute_reply": "2024-01-17T16:57:07.736591Z"
    },
    "slideshow": {
     "slide_type": "fragment"
    }
   },
   "outputs": [
    {
     "data": {
      "text/plain": [
       "1.414213562373095"
      ]
     },
     "execution_count": 93,
     "metadata": {},
     "output_type": "execute_result"
    }
   ],
   "source": [
    "eval(fuzzer.fuzz())"
   ]
  },
  {
   "attachments": {},
   "cell_type": "markdown",
   "metadata": {
    "button": false,
    "new_sheet": true,
    "run_control": {
     "read_only": false
    },
    "slideshow": {
     "slide_type": "slide"
    }
   },
   "source": [
    "## Lessons Learned\n",
    "\n",
    "* _Carving_ allows for effective replay of function calls recorded during a system test.\n",
    "* A function call can be _orders of magnitude faster_ than a system invocation.\n",
    "* _Serialization_ allows creating persistent representations of complex objects.\n",
    "* Functions that heavily interact with their environment and/or access external resources are difficult to carve.\n",
    "* From carved calls, one can produce API grammars that arbitrarily combine carved arguments."
   ]
  },
  {
   "cell_type": "markdown",
   "metadata": {
    "button": false,
    "new_sheet": false,
    "run_control": {
     "read_only": false
    },
    "slideshow": {
     "slide_type": "slide"
    }
   },
   "source": [
    "## Next Steps\n",
    "\n",
    "In the next chapter, we will discuss [how to reduce failure-inducing inputs](Reducer.ipynb)."
   ]
  },
  {
   "cell_type": "markdown",
   "metadata": {
    "slideshow": {
     "slide_type": "slide"
    }
   },
   "source": [
    "## Background\n",
    "\n",
    "Carving was invented by Elbaum et al. \\cite{Elbaum2006} and originally implemented for Java.  In this chapter, we follow several of their design choices (including recording and serializing method arguments only).\n",
    "\n",
    "The combination of carving and fuzzing at the API level is described in \\cite{Kampmann2018}."
   ]
  },
  {
   "cell_type": "markdown",
   "metadata": {
    "button": false,
    "new_sheet": true,
    "run_control": {
     "read_only": false
    },
    "slideshow": {
     "slide_type": "slide"
    }
   },
   "source": [
    "## Exercises\n",
    "\n",
    "### Exercise 1: Carving for Regression Testing\n",
    "\n",
    "So far, during carving, we only have looked into reproducing _calls_, but not into actually checking the _results_ of these calls.  This is important for _regression testing_ – i.e. checking whether a change to code does not impede existing functionality.  We can build this by recording not only _calls_, but also _return values_ – and then later compare whether the same calls result in the same values.  This may not work on all occasions; values that depend on time, randomness, or other external factors may be different.  Still, for functionality that abstracts from these details, checking that nothing has changed is an important part of testing."
   ]
  },
  {
   "cell_type": "markdown",
   "metadata": {
    "button": false,
    "new_sheet": false,
    "run_control": {
     "read_only": false
    },
    "slideshow": {
     "slide_type": "subslide"
    },
    "solution": "hidden",
    "solution2": "hidden",
    "solution2_first": true,
    "solution_first": true
   },
   "source": [
    "Our aim is to design a class `ResultCarver` that extends `CallCarver` by recording both calls and return values.\n",
    "\n",
    "In a first step, create a `traceit()` method that also tracks return values by extending the `traceit()` method.  The `traceit()` event type is `\"return\"` and the `arg` parameter is the returned value.  Here is a prototype that only prints out the returned values:"
   ]
  },
  {
   "cell_type": "code",
   "execution_count": 94,
   "metadata": {
    "execution": {
     "iopub.execute_input": "2024-01-17T16:57:07.738808Z",
     "iopub.status.busy": "2024-01-17T16:57:07.738679Z",
     "iopub.status.idle": "2024-01-17T16:57:07.741163Z",
     "shell.execute_reply": "2024-01-17T16:57:07.740866Z"
    },
    "slideshow": {
     "slide_type": "subslide"
    }
   },
   "outputs": [],
   "source": [
    "class ResultCarver(CallCarver):\n",
    "    def traceit(self, frame, event, arg):\n",
    "        if event == \"return\":\n",
    "            if self._log:\n",
    "                print(\"Result:\", arg)\n",
    "\n",
    "        super().traceit(frame, event, arg)\n",
    "        # Need to return traceit function such that it is invoked for return\n",
    "        # events\n",
    "        return self.traceit"
   ]
  },
  {
   "cell_type": "code",
   "execution_count": 95,
   "metadata": {
    "execution": {
     "iopub.execute_input": "2024-01-17T16:57:07.742730Z",
     "iopub.status.busy": "2024-01-17T16:57:07.742602Z",
     "iopub.status.idle": "2024-01-17T16:57:07.746744Z",
     "shell.execute_reply": "2024-01-17T16:57:07.746428Z"
    },
    "slideshow": {
     "slide_type": "subslide"
    }
   },
   "outputs": [
    {
     "name": "stdout",
     "output_type": "stream",
     "text": [
      "my_sqrt(x=2)\n",
      "Result: 1.414213562373095\n",
      "__exit__(tb=None, exc_value=None, exc_type=None, self=<__main__.ResultCarver object at 0x1377015d0>)\n"
     ]
    }
   ],
   "source": [
    "with ResultCarver(log=True) as result_carver:\n",
    "    my_sqrt(2)"
   ]
  },
  {
   "cell_type": "markdown",
   "metadata": {
    "slideshow": {
     "slide_type": "subslide"
    },
    "solution2": "hidden",
    "solution2_first": true
   },
   "source": [
    "#### Part 1: Store function results\n",
    "\n",
    "Extend the above code such that results are _stored_ in a way that associates them with the currently returning function (or method).  To this end, you need to keep track of the _current stack of called functions_."
   ]
  },
  {
   "cell_type": "markdown",
   "metadata": {
    "button": false,
    "new_sheet": false,
    "run_control": {
     "read_only": false
    },
    "slideshow": {
     "slide_type": "skip"
    },
    "solution": "hidden",
    "solution2": "hidden"
   },
   "source": [
    "**Solution.** Here's a solution, building on the above:"
   ]
  },
  {
   "cell_type": "code",
   "execution_count": 96,
   "metadata": {
    "execution": {
     "iopub.execute_input": "2024-01-17T16:57:07.748320Z",
     "iopub.status.busy": "2024-01-17T16:57:07.748223Z",
     "iopub.status.idle": "2024-01-17T16:57:07.752205Z",
     "shell.execute_reply": "2024-01-17T16:57:07.751913Z"
    },
    "slideshow": {
     "slide_type": "skip"
    },
    "solution2": "hidden"
   },
   "outputs": [],
   "source": [
    "class ResultCarver(CallCarver):\n",
    "    def reset(self):\n",
    "        super().reset()\n",
    "        self._call_stack = []\n",
    "        self._results = {}\n",
    "\n",
    "    def add_result(self, function_name, arguments, result):\n",
    "        key = simple_call_string(function_name, arguments)\n",
    "        self._results[key] = result\n",
    "\n",
    "    def traceit(self, frame, event, arg):\n",
    "        if event == \"call\":\n",
    "            code = frame.f_code\n",
    "            function_name = code.co_name\n",
    "            qualified_name = get_qualified_name(code)\n",
    "            self._call_stack.append(\n",
    "                (function_name, qualified_name, get_arguments(frame)))\n",
    "\n",
    "        if event == \"return\":\n",
    "            result = arg\n",
    "            (function_name, qualified_name, arguments) = self._call_stack.pop()\n",
    "            self.add_result(function_name, arguments, result)\n",
    "            if function_name != qualified_name:\n",
    "                self.add_result(qualified_name, arguments, result)\n",
    "            if self._log:\n",
    "                print(\n",
    "                    simple_call_string(\n",
    "                        function_name,\n",
    "                        arguments),\n",
    "                    \"=\",\n",
    "                    result)\n",
    "\n",
    "        # Keep on processing current calls\n",
    "        super().traceit(frame, event, arg)\n",
    "\n",
    "        # Need to return traceit function such that it is invoked for return\n",
    "        # events\n",
    "        return self.traceit"
   ]
  },
  {
   "cell_type": "code",
   "execution_count": 97,
   "metadata": {
    "execution": {
     "iopub.execute_input": "2024-01-17T16:57:07.753763Z",
     "iopub.status.busy": "2024-01-17T16:57:07.753637Z",
     "iopub.status.idle": "2024-01-17T16:57:07.758801Z",
     "shell.execute_reply": "2024-01-17T16:57:07.758530Z"
    },
    "slideshow": {
     "slide_type": "skip"
    },
    "solution2": "hidden"
   },
   "outputs": [
    {
     "name": "stdout",
     "output_type": "stream",
     "text": [
      "my_sqrt(x=2)\n",
      "my_sqrt(x=2) = 1.414213562373095\n",
      "__exit__(tb=None, exc_value=None, exc_type=None, self=<__main__.ResultCarver object at 0x137703d60>)\n"
     ]
    },
    {
     "data": {
      "text/plain": [
       "{'my_sqrt(x=2)': 1.414213562373095,\n",
       " 'Intro_Testing.my_sqrt(x=2)': 1.414213562373095}"
      ]
     },
     "execution_count": 97,
     "metadata": {},
     "output_type": "execute_result"
    }
   ],
   "source": [
    "with ResultCarver(log=True) as result_carver:\n",
    "    my_sqrt(2)\n",
    "result_carver._results"
   ]
  },
  {
   "cell_type": "markdown",
   "metadata": {
    "button": false,
    "new_sheet": false,
    "run_control": {
     "read_only": false
    },
    "slideshow": {
     "slide_type": "subslide"
    },
    "solution": "hidden",
    "solution2": "hidden",
    "solution2_first": true,
    "solution_first": true
   },
   "source": [
    "#### Part 2: Access results\n",
    "\n",
    "  Give it a method `result()` that returns the value recorded for that particular function name and result:\n",
    "\n",
    "```python\n",
    "class ResultCarver(CallCarver):\n",
    "    def result(self, function_name, argument):\n",
    "        \"\"\"Returns the result recorded for function_name(argument\"\"\"\n",
    "```"
   ]
  },
  {
   "cell_type": "markdown",
   "metadata": {
    "slideshow": {
     "slide_type": "skip"
    },
    "solution2": "hidden"
   },
   "source": [
    "**Solution.** This is mostly done in the code for part 1:"
   ]
  },
  {
   "cell_type": "code",
   "execution_count": 98,
   "metadata": {
    "execution": {
     "iopub.execute_input": "2024-01-17T16:57:07.760313Z",
     "iopub.status.busy": "2024-01-17T16:57:07.760202Z",
     "iopub.status.idle": "2024-01-17T16:57:07.762219Z",
     "shell.execute_reply": "2024-01-17T16:57:07.761930Z"
    },
    "slideshow": {
     "slide_type": "skip"
    },
    "solution2": "hidden"
   },
   "outputs": [],
   "source": [
    "class ResultCarver(ResultCarver):\n",
    "    def result(self, function_name, argument):\n",
    "        key = simple_call_string(function_name, arguments)\n",
    "        return self._results[key]"
   ]
  },
  {
   "cell_type": "markdown",
   "metadata": {
    "slideshow": {
     "slide_type": "subslide"
    },
    "solution2": "hidden",
    "solution2_first": true
   },
   "source": [
    "#### Part 3: Produce assertions\n",
    "\n",
    "For the functions called during `webbrowser()` execution, create a set of _assertions_ that check whether the result returned is still the same.  Test this for `urllib.parse.urlparse()`."
   ]
  },
  {
   "cell_type": "markdown",
   "metadata": {
    "button": false,
    "new_sheet": false,
    "run_control": {
     "read_only": false
    },
    "slideshow": {
     "slide_type": "skip"
    },
    "solution": "hidden",
    "solution2": "hidden"
   },
   "source": [
    "**Solution.** Not too hard now:"
   ]
  },
  {
   "cell_type": "code",
   "execution_count": 99,
   "metadata": {
    "execution": {
     "iopub.execute_input": "2024-01-17T16:57:07.763752Z",
     "iopub.status.busy": "2024-01-17T16:57:07.763631Z",
     "iopub.status.idle": "2024-01-17T16:57:07.765142Z",
     "shell.execute_reply": "2024-01-17T16:57:07.764883Z"
    },
    "slideshow": {
     "slide_type": "skip"
    },
    "solution2": "hidden"
   },
   "outputs": [],
   "source": [
    "# ignore\n",
    "import sys"
   ]
  },
  {
   "cell_type": "code",
   "execution_count": 100,
   "metadata": {
    "execution": {
     "iopub.execute_input": "2024-01-17T16:57:07.766477Z",
     "iopub.status.busy": "2024-01-17T16:57:07.766394Z",
     "iopub.status.idle": "2024-01-17T16:57:07.768334Z",
     "shell.execute_reply": "2024-01-17T16:57:07.768074Z"
    },
    "slideshow": {
     "slide_type": "skip"
    },
    "solution2": "hidden"
   },
   "outputs": [],
   "source": [
    "if sys.version_info >= (3, 11):  # Requires Python 3.11 or later\n",
    "    with ResultCarver() as webbrowser_result_carver:\n",
    "        webbrowser(\"https://www.cispa.de\")"
   ]
  },
  {
   "cell_type": "code",
   "execution_count": 101,
   "metadata": {
    "execution": {
     "iopub.execute_input": "2024-01-17T16:57:07.769713Z",
     "iopub.status.busy": "2024-01-17T16:57:07.769625Z",
     "iopub.status.idle": "2024-01-17T16:57:07.771926Z",
     "shell.execute_reply": "2024-01-17T16:57:07.771678Z"
    },
    "slideshow": {
     "slide_type": "skip"
    },
    "solution2": "hidden"
   },
   "outputs": [],
   "source": [
    "if sys.version_info >= (3, 11):\n",
    "    for function_name in [\"urllib.parse.urlparse\"]:\n",
    "        for arguments in webbrowser_result_carver.arguments(function_name):\n",
    "            try:\n",
    "                call = call_string(function_name, arguments)\n",
    "                result = webbrowser_result_carver.result(function_name, arguments)\n",
    "                print(\"assert\", call, \"==\", call_value(result))\n",
    "            except Exception:\n",
    "                continue"
   ]
  },
  {
   "cell_type": "markdown",
   "metadata": {
    "slideshow": {
     "slide_type": "skip"
    },
    "solution2": "hidden"
   },
   "source": [
    "We can run these assertions:"
   ]
  },
  {
   "cell_type": "code",
   "execution_count": 102,
   "metadata": {
    "execution": {
     "iopub.execute_input": "2024-01-17T16:57:07.773396Z",
     "iopub.status.busy": "2024-01-17T16:57:07.773308Z",
     "iopub.status.idle": "2024-01-17T16:57:07.775106Z",
     "shell.execute_reply": "2024-01-17T16:57:07.774871Z"
    },
    "slideshow": {
     "slide_type": "skip"
    },
    "solution2": "hidden"
   },
   "outputs": [],
   "source": [
    "from urllib.parse import SplitResult, ParseResult, urlparse, urlsplit"
   ]
  },
  {
   "cell_type": "code",
   "execution_count": 103,
   "metadata": {
    "execution": {
     "iopub.execute_input": "2024-01-17T16:57:07.776469Z",
     "iopub.status.busy": "2024-01-17T16:57:07.776387Z",
     "iopub.status.idle": "2024-01-17T16:57:07.778818Z",
     "shell.execute_reply": "2024-01-17T16:57:07.778559Z"
    },
    "slideshow": {
     "slide_type": "skip"
    },
    "solution2": "hidden"
   },
   "outputs": [],
   "source": [
    "if sys.version_info >= (3, 11):\n",
    "    assert urlparse(\n",
    "        url='http://www.cispa.de',\n",
    "        scheme='',\n",
    "        allow_fragments=True) == ParseResult(\n",
    "            scheme='http',\n",
    "            netloc='www.cispa.de',\n",
    "            path='',\n",
    "            params='',\n",
    "            query='',\n",
    "        fragment='')\n",
    "    assert urlsplit(\n",
    "        url='http://www.cispa.de',\n",
    "        scheme='',\n",
    "        allow_fragments=True) == SplitResult(\n",
    "            scheme='http',\n",
    "            netloc='www.cispa.de',\n",
    "            path='',\n",
    "            query='',\n",
    "        fragment='')"
   ]
  },
  {
   "cell_type": "markdown",
   "metadata": {
    "slideshow": {
     "slide_type": "skip"
    },
    "solution2": "hidden"
   },
   "source": [
    "We can now add these carved tests to a _regression test suite_ which would be run after every change to ensure that the functionality of `urlparse()` and `urlsplit()` is not changed."
   ]
  },
  {
   "cell_type": "markdown",
   "metadata": {
    "button": false,
    "new_sheet": false,
    "run_control": {
     "read_only": false
    },
    "slideshow": {
     "slide_type": "subslide"
    },
    "solution2": "hidden",
    "solution2_first": true
   },
   "source": [
    "### Exercise 2: Abstracting Arguments\n",
    "\n",
    "When mining an API grammar from executions, set up an abstraction scheme to widen the range of arguments to be used during testing.  If the values for an argument, all conform to some type `T`. abstract it into `<T>`.  For instance, if calls to `foo(1)`, `foo(2)`, `foo(3)` have been seen, the grammar should abstract its calls into `foo(<int>)`, with `<int>` being appropriately defined.\n",
    "\n",
    "Do this for a number of common types: integers, positive numbers, floating-point numbers, host names, URLs, mail addresses, and more."
   ]
  },
  {
   "cell_type": "markdown",
   "metadata": {
    "slideshow": {
     "slide_type": "skip"
    },
    "solution2": "hidden"
   },
   "source": [
    "**Solution.** Left to the reader."
   ]
  }
 ],
 "metadata": {
  "ipub": {
   "bibliography": "fuzzingbook.bib",
   "toc": true
  },
  "kernelspec": {
   "display_name": "Python 3 (ipykernel)",
   "language": "python",
   "name": "python3"
  },
  "language_info": {
   "codemirror_mode": {
    "name": "ipython",
    "version": 3
   },
   "file_extension": ".py",
   "mimetype": "text/x-python",
   "name": "python",
   "nbconvert_exporter": "python",
   "pygments_lexer": "ipython3",
   "version": "3.10.2"
  },
  "toc": {
   "base_numbering": 1,
   "nav_menu": {},
   "number_sections": true,
   "sideBar": true,
   "skip_h1_title": true,
   "title_cell": "",
   "title_sidebar": "Contents",
   "toc_cell": false,
   "toc_position": {},
   "toc_section_display": true,
   "toc_window_display": true
  },
  "toc-autonumbering": false
 },
 "nbformat": 4,
 "nbformat_minor": 4
}