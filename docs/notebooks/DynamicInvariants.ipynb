{
 "cells": [
  {
   "cell_type": "markdown",
   "metadata": {
    "button": false,
    "new_sheet": false,
    "run_control": {
     "read_only": false
    },
    "slideshow": {
     "slide_type": "slide"
    }
   },
   "source": [
    "# Mining Function Specifications\n",
    "\n",
    "When testing a program, one not only needs to cover its several behaviors; one also needs to _check_ whether the result is as expected.  In this chapter, we introduce a technique that allows us to _mine_ function specifications from a set of given executions, resulting in abstract and formal _descriptions_ of what the function expects and what it delivers.  \n",
    "\n",
    "These so-called _dynamic invariants_ produce pre- and post-conditions over function arguments and variables from a set of executions.  They are useful in a variety of contexts:\n",
    "\n",
    "* Dynamic invariants provide important information for [symbolic fuzzing](SymbolicFuzzer.ipynb), such as types and ranges of function arguments.\n",
    "* Dynamic invariants provide pre- and postconditions for formal program proofs and verification.\n",
    "* Dynamic invariants provide a large number of assertions that can check whether function behavior has changed\n",
    "* Checks provided by dynamic invariants can be very useful as _oracles_ for checking the effects of generated tests\n",
    "\n",
    "Traditionally, dynamic invariants are dependent on the executions they are derived from.  However, when paired with comprehensive test generators, they quickly become very precise, as we show in this chapter."
   ]
  },
  {
   "cell_type": "markdown",
   "metadata": {
    "button": false,
    "new_sheet": false,
    "run_control": {
     "read_only": false
    },
    "slideshow": {
     "slide_type": "subslide"
    }
   },
   "source": [
    "**Prerequisites**\n",
    "\n",
    "* You should be familiar with tracing program executions, as in the [chapter on coverage](Coverage.ipynb).\n",
    "* Later in this section, we access the internal _abstract syntax tree_ representations of Python programs and transform them, as in the [chapter on information flow](InformationFlow.ipynb)."
   ]
  },
  {
   "cell_type": "code",
   "execution_count": 1,
   "metadata": {
    "execution": {
     "iopub.execute_input": "2022-11-12T07:33:45.295774Z",
     "iopub.status.busy": "2022-11-12T07:33:45.295237Z",
     "iopub.status.idle": "2022-11-12T07:33:45.349676Z",
     "shell.execute_reply": "2022-11-12T07:33:45.349913Z"
    },
    "slideshow": {
     "slide_type": "skip"
    }
   },
   "outputs": [],
   "source": [
    "import bookutils"
   ]
  },
  {
   "cell_type": "code",
   "execution_count": 2,
   "metadata": {
    "execution": {
     "iopub.execute_input": "2022-11-12T07:33:45.351983Z",
     "iopub.status.busy": "2022-11-12T07:33:45.351612Z",
     "iopub.status.idle": "2022-11-12T07:33:45.934567Z",
     "shell.execute_reply": "2022-11-12T07:33:45.934810Z"
    },
    "slideshow": {
     "slide_type": "skip"
    }
   },
   "outputs": [],
   "source": [
    "import Coverage\n",
    "import Intro_Testing"
   ]
  },
  {
   "cell_type": "markdown",
   "metadata": {
    "slideshow": {
     "slide_type": "skip"
    }
   },
   "source": [
    "## Synopsis\n",
    "<!-- Automatically generated. Do not edit. -->\n",
    "\n",
    "To [use the code provided in this chapter](Importing.ipynb), write\n",
    "\n",
    "```python\n",
    ">>> from fuzzingbook.DynamicInvariants import <identifier>\n",
    "```\n",
    "\n",
    "and then make use of the following features.\n",
    "\n",
    "\n",
    "This chapter provides two classes that automatically extract specifications from a function and a set of inputs:\n",
    "\n",
    "* `TypeAnnotator` for _types_, and\n",
    "* `InvariantAnnotator` for _pre-_ and _postconditions_.\n",
    "\n",
    "Both work by _observing_ a function and its invocations within a `with` clause.  Here is an example for the type annotator:\n",
    "\n",
    "```python\n",
    ">>> def sum(a, b):\n",
    ">>>     return a + b\n",
    ">>> with TypeAnnotator() as type_annotator:\n",
    ">>>     sum(1, 2)\n",
    ">>>     sum(-4, -5)\n",
    ">>>     sum(0, 0)\n",
    "```\n",
    "The `typed_functions()` method will return a representation of `sum2()` annotated with types observed during execution.\n",
    "\n",
    "```python\n",
    ">>> print(type_annotator.typed_functions())\n",
    "def sum(a: int, b: int) -> int:\n",
    "    return a + b\n",
    "\n",
    "```\n",
    "The invariant annotator works in a similar fashion:\n",
    "\n",
    "```python\n",
    ">>> with InvariantAnnotator() as inv_annotator:\n",
    ">>>     sum(1, 2)\n",
    ">>>     sum(-4, -5)\n",
    ">>>     sum(0, 0)\n",
    "```\n",
    "The `functions_with_invariants()` method will return a representation of `sum2()` annotated with inferred pre- and postconditions that all hold for the observed values.\n",
    "\n",
    "```python\n",
    ">>> print(inv_annotator.functions_with_invariants())\n",
    "@precondition(lambda b, a: isinstance(a, int))\n",
    "@precondition(lambda b, a: isinstance(b, int))\n",
    "@postcondition(lambda return_value, b, a: a == return_value - b)\n",
    "@postcondition(lambda return_value, b, a: b == return_value - a)\n",
    "@postcondition(lambda return_value, b, a: isinstance(return_value, int))\n",
    "@postcondition(lambda return_value, b, a: return_value == a + b)\n",
    "@postcondition(lambda return_value, b, a: return_value == b + a)\n",
    "def sum(a, b):\n",
    "    return a + b\n",
    "\n",
    "\n",
    "```\n",
    "Such type specifications and invariants can be helpful as _oracles_ (to detect deviations from a given set of runs) as well as for all kinds of _symbolic code analyses_.  The chapter gives details on how to customize the properties checked for.\n",
    "\n"
   ]
  },
  {
   "cell_type": "markdown",
   "metadata": {
    "button": false,
    "new_sheet": true,
    "run_control": {
     "read_only": false
    },
    "slideshow": {
     "slide_type": "slide"
    }
   },
   "source": [
    "## Specifications and Assertions\n",
    "\n",
    "When implementing a function or program, one usually works against a _specification_ – a set of documented requirements to be satisfied by the code.  Such specifications can come in natural language.  A formal specification, however, allows the computer to check whether the specification is satisfied.\n",
    "\n",
    "In the [introduction to testing](Intro_Testing.ipynb), we have seen how _preconditions_ and _postconditions_ can describe what a function does.  Consider the following (simple) square root function:"
   ]
  },
  {
   "cell_type": "code",
   "execution_count": 3,
   "metadata": {
    "execution": {
     "iopub.execute_input": "2022-11-12T07:33:45.937247Z",
     "iopub.status.busy": "2022-11-12T07:33:45.936845Z",
     "iopub.status.idle": "2022-11-12T07:33:45.938183Z",
     "shell.execute_reply": "2022-11-12T07:33:45.938420Z"
    },
    "slideshow": {
     "slide_type": "subslide"
    }
   },
   "outputs": [],
   "source": [
    "def any_sqrt(x):\n",
    "    assert x >= 0  # Precondition\n",
    "    \n",
    "    ...\n",
    "    \n",
    "    assert result * result == x  # Postcondition\n",
    "    return result"
   ]
  },
  {
   "cell_type": "markdown",
   "metadata": {
    "slideshow": {
     "slide_type": "subslide"
    }
   },
   "source": [
    "The assertion `assert p` checks the condition `p`; if it does not hold, execution is aborted.  Here, the actual body is not yet written; we use the assertions as a specification of what `any_sqrt()` _expects_, and what it _delivers_.\n",
    "\n",
    "The topmost assertion is the _precondition_, stating the requirements on the function arguments.  The assertion at the end is the _postcondition_, stating the properties of the function result (including its relationship with the original arguments).  Using these pre- and postconditions as a specification, we can now go and implement a square root function that satisfies them.  Once implemented, we can have the assertions check at runtime whether `any_sqrt()` works as expected; a [symbolic](SymbolicFuzzer.ipynb) or [concolic](ConcolicFuzzer.ipynb) test generator will even specifically try to find inputs where the assertions do _not_ hold.  (An assertion can be seen as a conditional branch towards aborting the execution, and any technique that tries to cover all code branches will also try to invalidate as many assertions as possible.)"
   ]
  },
  {
   "cell_type": "markdown",
   "metadata": {
    "slideshow": {
     "slide_type": "subslide"
    }
   },
   "source": [
    "However, not every piece of code is developed with explicit specifications in the first place; let alone does most code comes with formal pre- and post-conditions.  (Just take a look at the chapters in this book.)  This is a pity: As Ken Thompson famously said, \"Without specifications, there are no bugs – only surprises\".  It is also a problem for testing, since, of course, testing needs some specification to test against.  This raises the interesting question: Can we somehow _retrofit_ existing code with \"specifications\" that properly describe their behavior, allowing developers to simply _check_ them rather than having to write them from scratch?  This is what we do in this chapter."
   ]
  },
  {
   "cell_type": "markdown",
   "metadata": {
    "slideshow": {
     "slide_type": "slide"
    }
   },
   "source": [
    "## Why Generic Error Checking is Not Enough\n",
    "\n",
    "Before we go into _mining_ specifications, let us first discuss why it could be useful to _have_ them.  As a motivating example, consider the full implementation of a square root function from the [introduction to testing](Intro_Testing.ipynb):"
   ]
  },
  {
   "cell_type": "code",
   "execution_count": 4,
   "metadata": {
    "execution": {
     "iopub.execute_input": "2022-11-12T07:33:45.940518Z",
     "iopub.status.busy": "2022-11-12T07:33:45.940145Z",
     "iopub.status.idle": "2022-11-12T07:33:45.941406Z",
     "shell.execute_reply": "2022-11-12T07:33:45.941684Z"
    },
    "slideshow": {
     "slide_type": "skip"
    }
   },
   "outputs": [],
   "source": [
    "import bookutils"
   ]
  },
  {
   "cell_type": "code",
   "execution_count": 5,
   "metadata": {
    "button": false,
    "execution": {
     "iopub.execute_input": "2022-11-12T07:33:45.944062Z",
     "iopub.status.busy": "2022-11-12T07:33:45.943726Z",
     "iopub.status.idle": "2022-11-12T07:33:45.945012Z",
     "shell.execute_reply": "2022-11-12T07:33:45.945234Z"
    },
    "new_sheet": false,
    "run_control": {
     "read_only": false
    },
    "slideshow": {
     "slide_type": "fragment"
    }
   },
   "outputs": [],
   "source": [
    "def my_sqrt(x):\n",
    "    \"\"\"Computes the square root of x, using the Newton-Raphson method\"\"\"\n",
    "    approx = None\n",
    "    guess = x / 2\n",
    "    while approx != guess:\n",
    "        approx = guess\n",
    "        guess = (approx + x / approx) / 2\n",
    "    return approx"
   ]
  },
  {
   "cell_type": "markdown",
   "metadata": {
    "slideshow": {
     "slide_type": "subslide"
    }
   },
   "source": [
    "`my_sqrt()` does not come with any functionality that would check types or values.  Hence, it is easy for callers to make mistakes when calling `my_sqrt()`:"
   ]
  },
  {
   "cell_type": "code",
   "execution_count": 6,
   "metadata": {
    "execution": {
     "iopub.execute_input": "2022-11-12T07:33:45.947260Z",
     "iopub.status.busy": "2022-11-12T07:33:45.946879Z",
     "iopub.status.idle": "2022-11-12T07:33:45.948217Z",
     "shell.execute_reply": "2022-11-12T07:33:45.948438Z"
    },
    "slideshow": {
     "slide_type": "skip"
    }
   },
   "outputs": [],
   "source": [
    "from ExpectError import ExpectError, ExpectTimeout"
   ]
  },
  {
   "cell_type": "code",
   "execution_count": 7,
   "metadata": {
    "execution": {
     "iopub.execute_input": "2022-11-12T07:33:45.950538Z",
     "iopub.status.busy": "2022-11-12T07:33:45.950152Z",
     "iopub.status.idle": "2022-11-12T07:33:45.974766Z",
     "shell.execute_reply": "2022-11-12T07:33:45.975006Z"
    },
    "slideshow": {
     "slide_type": "fragment"
    }
   },
   "outputs": [
    {
     "name": "stderr",
     "output_type": "stream",
     "text": [
      "Traceback (most recent call last):\n",
      "  File \"/var/folders/n2/xd9445p97rb3xh7m1dfx8_4h0006ts/T/ipykernel_43875/829521914.py\", line 2, in <module>\n",
      "    my_sqrt(\"foo\")\n",
      "  File \"/var/folders/n2/xd9445p97rb3xh7m1dfx8_4h0006ts/T/ipykernel_43875/2661069967.py\", line 4, in my_sqrt\n",
      "    guess = x / 2\n",
      "TypeError: unsupported operand type(s) for /: 'str' and 'int' (expected)\n"
     ]
    }
   ],
   "source": [
    "with ExpectError():\n",
    "    my_sqrt(\"foo\")"
   ]
  },
  {
   "cell_type": "code",
   "execution_count": 8,
   "metadata": {
    "execution": {
     "iopub.execute_input": "2022-11-12T07:33:45.977223Z",
     "iopub.status.busy": "2022-11-12T07:33:45.976838Z",
     "iopub.status.idle": "2022-11-12T07:33:45.978296Z",
     "shell.execute_reply": "2022-11-12T07:33:45.978530Z"
    },
    "slideshow": {
     "slide_type": "subslide"
    }
   },
   "outputs": [
    {
     "name": "stderr",
     "output_type": "stream",
     "text": [
      "Traceback (most recent call last):\n",
      "  File \"/var/folders/n2/xd9445p97rb3xh7m1dfx8_4h0006ts/T/ipykernel_43875/1975547953.py\", line 2, in <module>\n",
      "    x = my_sqrt(0.0)\n",
      "  File \"/var/folders/n2/xd9445p97rb3xh7m1dfx8_4h0006ts/T/ipykernel_43875/2661069967.py\", line 7, in my_sqrt\n",
      "    guess = (approx + x / approx) / 2\n",
      "ZeroDivisionError: float division by zero (expected)\n"
     ]
    }
   ],
   "source": [
    "with ExpectError():\n",
    "    x = my_sqrt(0.0)"
   ]
  },
  {
   "cell_type": "markdown",
   "metadata": {
    "slideshow": {
     "slide_type": "fragment"
    }
   },
   "source": [
    "At least, the Python system catches these errors at runtime.  The following call, however, simply lets the function enter an infinite loop:"
   ]
  },
  {
   "cell_type": "code",
   "execution_count": 9,
   "metadata": {
    "execution": {
     "iopub.execute_input": "2022-11-12T07:33:45.998904Z",
     "iopub.status.busy": "2022-11-12T07:33:45.998578Z",
     "iopub.status.idle": "2022-11-12T07:33:46.984083Z",
     "shell.execute_reply": "2022-11-12T07:33:46.984353Z"
    },
    "slideshow": {
     "slide_type": "subslide"
    }
   },
   "outputs": [
    {
     "name": "stderr",
     "output_type": "stream",
     "text": [
      "Traceback (most recent call last):\n",
      "  File \"/var/folders/n2/xd9445p97rb3xh7m1dfx8_4h0006ts/T/ipykernel_43875/1349814288.py\", line 2, in <module>\n",
      "    x = my_sqrt(-1.0)\n",
      "  File \"/var/folders/n2/xd9445p97rb3xh7m1dfx8_4h0006ts/T/ipykernel_43875/2661069967.py\", line 5, in my_sqrt\n",
      "    while approx != guess:\n",
      "  File \"/Users/zeller/Projects/fuzzingbook/notebooks/Timeout.ipynb\", line 43, in timeout_handler\n",
      "    raise TimeoutError()\n",
      "TimeoutError (expected)\n"
     ]
    }
   ],
   "source": [
    "with ExpectTimeout(1):\n",
    "    x = my_sqrt(-1.0)"
   ]
  },
  {
   "cell_type": "markdown",
   "metadata": {
    "slideshow": {
     "slide_type": "fragment"
    }
   },
   "source": [
    "Our goal is to avoid such errors by _annotating_ functions with information that prevents errors like the above ones.  The idea is to provide a _specification_ of expected properties – a specification that can then be checked at runtime or statically."
   ]
  },
  {
   "cell_type": "markdown",
   "metadata": {
    "slideshow": {
     "slide_type": "subslide"
    }
   },
   "source": [
    "\\todo{Introduce the concept of *contract*.}"
   ]
  },
  {
   "cell_type": "markdown",
   "metadata": {
    "slideshow": {
     "slide_type": "slide"
    },
    "toc-hr-collapsed": false
   },
   "source": [
    "## Specifying and Checking Data Types\n",
    "\n",
    "For our Python code, one of the most important \"specifications\" we need is *types*.  Python being a \"dynamically\" typed language means that all data types are determined at run time; the code itself does not explicitly state whether a variable is an integer, a string, an array, a dictionary – or whatever."
   ]
  },
  {
   "cell_type": "markdown",
   "metadata": {
    "slideshow": {
     "slide_type": "subslide"
    }
   },
   "source": [
    "As _writer_ of Python code, omitting explicit type declarations may save time (and allows for some fun hacks).  It is not sure whether a lack of types helps in _reading_ and _understanding_ code for humans.  For a _computer_ trying to analyze code, the lack of explicit types is detrimental.  If, say, a constraint solver, sees `if x:` and cannot know whether `x` is supposed to be a number or a string, this introduces an _ambiguity_.   Such ambiguities may multiply over the entire analysis in a combinatorial explosion – or in the analysis yielding an overly inaccurate result."
   ]
  },
  {
   "cell_type": "markdown",
   "metadata": {
    "slideshow": {
     "slide_type": "fragment"
    }
   },
   "source": [
    "Python 3.6 and later allows data types as _annotations_ to function arguments (actually, to all variables) and return values.  We can, for instance, state that `my_sqrt()` is a function that accepts a floating-point value and returns one:"
   ]
  },
  {
   "cell_type": "code",
   "execution_count": 10,
   "metadata": {
    "button": false,
    "execution": {
     "iopub.execute_input": "2022-11-12T07:33:46.987291Z",
     "iopub.status.busy": "2022-11-12T07:33:46.986948Z",
     "iopub.status.idle": "2022-11-12T07:33:46.988253Z",
     "shell.execute_reply": "2022-11-12T07:33:46.988474Z"
    },
    "new_sheet": false,
    "run_control": {
     "read_only": false
    },
    "slideshow": {
     "slide_type": "fragment"
    }
   },
   "outputs": [],
   "source": [
    "def my_sqrt_with_type_annotations(x: float) -> float:\n",
    "    \"\"\"Computes the square root of x, using the Newton-Raphson method\"\"\"\n",
    "    return my_sqrt(x)"
   ]
  },
  {
   "cell_type": "markdown",
   "metadata": {
    "slideshow": {
     "slide_type": "fragment"
    }
   },
   "source": [
    "By default, such annotations are ignored by the Python interpreter.  Therefore, one can still call `my_sqrt_typed()` with a string as an argument and get the exact same result as above.  However, one can make use of special _typechecking_ modules that would check types – _dynamically_ at runtime or _statically_ by analyzing the code without having to execute it."
   ]
  },
  {
   "cell_type": "markdown",
   "metadata": {
    "slideshow": {
     "slide_type": "subslide"
    }
   },
   "source": [
    "### Excursion: Runtime Type Checking\n",
    "\n",
    "(Commented out as `enforce` is not supported by Python 3.9)\n",
    "\n",
    "The Python `enforce` package provides a function decorator that automatically inserts type-checking code that is executed at runtime.  Here is how to use it:"
   ]
  },
  {
   "cell_type": "code",
   "execution_count": 11,
   "metadata": {
    "execution": {
     "iopub.execute_input": "2022-11-12T07:33:46.990549Z",
     "iopub.status.busy": "2022-11-12T07:33:46.990200Z",
     "iopub.status.idle": "2022-11-12T07:33:46.991469Z",
     "shell.execute_reply": "2022-11-12T07:33:46.991713Z"
    },
    "slideshow": {
     "slide_type": "fragment"
    }
   },
   "outputs": [],
   "source": [
    "# import enforce"
   ]
  },
  {
   "cell_type": "code",
   "execution_count": 12,
   "metadata": {
    "execution": {
     "iopub.execute_input": "2022-11-12T07:33:46.993577Z",
     "iopub.status.busy": "2022-11-12T07:33:46.993232Z",
     "iopub.status.idle": "2022-11-12T07:33:46.994529Z",
     "shell.execute_reply": "2022-11-12T07:33:46.994768Z"
    },
    "slideshow": {
     "slide_type": "fragment"
    }
   },
   "outputs": [],
   "source": [
    "# @enforce.runtime_validation\n",
    "# def my_sqrt_with_checked_type_annotations(x: float) -> float:\n",
    "#     \"\"\"Computes the square root of x, using the Newton-Raphson method\"\"\"\n",
    "#     return my_sqrt(x)"
   ]
  },
  {
   "cell_type": "markdown",
   "metadata": {
    "slideshow": {
     "slide_type": "fragment"
    }
   },
   "source": [
    "Now, invoking `my_sqrt_with_checked_type_annotations()` raises an exception when invoked with a type dfferent from the one declared:"
   ]
  },
  {
   "cell_type": "code",
   "execution_count": 13,
   "metadata": {
    "execution": {
     "iopub.execute_input": "2022-11-12T07:33:46.996817Z",
     "iopub.status.busy": "2022-11-12T07:33:46.996488Z",
     "iopub.status.idle": "2022-11-12T07:33:46.997640Z",
     "shell.execute_reply": "2022-11-12T07:33:46.997915Z"
    },
    "slideshow": {
     "slide_type": "subslide"
    }
   },
   "outputs": [],
   "source": [
    "# with ExpectError():\n",
    "#     my_sqrt_with_checked_type_annotations(True)"
   ]
  },
  {
   "cell_type": "markdown",
   "metadata": {
    "slideshow": {
     "slide_type": "fragment"
    }
   },
   "source": [
    "Note that this error is not caught by the \"untyped\" variant, where passing a boolean value happily returns $\\sqrt{1}$ as result. "
   ]
  },
  {
   "cell_type": "code",
   "execution_count": 14,
   "metadata": {
    "execution": {
     "iopub.execute_input": "2022-11-12T07:33:46.999907Z",
     "iopub.status.busy": "2022-11-12T07:33:46.999581Z",
     "iopub.status.idle": "2022-11-12T07:33:47.000795Z",
     "shell.execute_reply": "2022-11-12T07:33:47.001017Z"
    },
    "slideshow": {
     "slide_type": "fragment"
    }
   },
   "outputs": [],
   "source": [
    "# my_sqrt(True)"
   ]
  },
  {
   "cell_type": "markdown",
   "metadata": {
    "slideshow": {
     "slide_type": "fragment"
    }
   },
   "source": [
    "In Python (and other languages), the boolean values `True` and `False` can be implicitly converted to the integers 1 and 0; however, it is hard to think of a call to `sqrt()` where this would not be an error."
   ]
  },
  {
   "cell_type": "markdown",
   "metadata": {
    "slideshow": {
     "slide_type": "subslide"
    }
   },
   "source": [
    "### End of Excursion"
   ]
  },
  {
   "cell_type": "markdown",
   "metadata": {
    "slideshow": {
     "slide_type": "subslide"
    }
   },
   "source": [
    "### Static Type Checking\n",
    "\n",
    "Type annotations can also be checked _statically_ – that is, without even running the code.  Let us create a simple Python file consisting of the above `my_sqrt_typed()` definition and a bad invocation."
   ]
  },
  {
   "cell_type": "code",
   "execution_count": 15,
   "metadata": {
    "execution": {
     "iopub.execute_input": "2022-11-12T07:33:47.003082Z",
     "iopub.status.busy": "2022-11-12T07:33:47.002742Z",
     "iopub.status.idle": "2022-11-12T07:33:47.003952Z",
     "shell.execute_reply": "2022-11-12T07:33:47.004193Z"
    },
    "slideshow": {
     "slide_type": "skip"
    }
   },
   "outputs": [],
   "source": [
    "import inspect\n",
    "import tempfile"
   ]
  },
  {
   "cell_type": "code",
   "execution_count": 16,
   "metadata": {
    "execution": {
     "iopub.execute_input": "2022-11-12T07:33:47.006440Z",
     "iopub.status.busy": "2022-11-12T07:33:47.006062Z",
     "iopub.status.idle": "2022-11-12T07:33:47.009226Z",
     "shell.execute_reply": "2022-11-12T07:33:47.009557Z"
    },
    "slideshow": {
     "slide_type": "fragment"
    }
   },
   "outputs": [
    {
     "data": {
      "text/plain": [
       "'/var/folders/n2/xd9445p97rb3xh7m1dfx8_4h0006ts/T/tmpsidktyx_.py'"
      ]
     },
     "execution_count": 16,
     "metadata": {},
     "output_type": "execute_result"
    }
   ],
   "source": [
    "f = tempfile.NamedTemporaryFile(mode='w', suffix='.py')\n",
    "f.name"
   ]
  },
  {
   "cell_type": "code",
   "execution_count": 17,
   "metadata": {
    "execution": {
     "iopub.execute_input": "2022-11-12T07:33:47.012761Z",
     "iopub.status.busy": "2022-11-12T07:33:47.011903Z",
     "iopub.status.idle": "2022-11-12T07:33:47.014331Z",
     "shell.execute_reply": "2022-11-12T07:33:47.014648Z"
    },
    "slideshow": {
     "slide_type": "fragment"
    }
   },
   "outputs": [],
   "source": [
    "f.write(inspect.getsource(my_sqrt))\n",
    "f.write('\\n')\n",
    "f.write(inspect.getsource(my_sqrt_with_type_annotations))\n",
    "f.write('\\n')\n",
    "f.write(\"print(my_sqrt_with_type_annotations('123'))\\n\")\n",
    "f.flush()"
   ]
  },
  {
   "cell_type": "markdown",
   "metadata": {
    "slideshow": {
     "slide_type": "subslide"
    }
   },
   "source": [
    "These are the contents of our newly created Python file:"
   ]
  },
  {
   "cell_type": "code",
   "execution_count": 18,
   "metadata": {
    "execution": {
     "iopub.execute_input": "2022-11-12T07:33:47.016802Z",
     "iopub.status.busy": "2022-11-12T07:33:47.016477Z",
     "iopub.status.idle": "2022-11-12T07:33:47.017779Z",
     "shell.execute_reply": "2022-11-12T07:33:47.018107Z"
    },
    "slideshow": {
     "slide_type": "skip"
    }
   },
   "outputs": [],
   "source": [
    "from bookutils import print_file"
   ]
  },
  {
   "cell_type": "code",
   "execution_count": 19,
   "metadata": {
    "execution": {
     "iopub.execute_input": "2022-11-12T07:33:47.020254Z",
     "iopub.status.busy": "2022-11-12T07:33:47.019921Z",
     "iopub.status.idle": "2022-11-12T07:33:47.159432Z",
     "shell.execute_reply": "2022-11-12T07:33:47.159664Z"
    },
    "slideshow": {
     "slide_type": "subslide"
    }
   },
   "outputs": [
    {
     "name": "stdout",
     "output_type": "stream",
     "text": [
      "\u001b[34mdef\u001b[39;49;00m \u001b[32mmy_sqrt\u001b[39;49;00m(x):\n",
      "    \u001b[33m\"\"\"Computes the square root of x, using the Newton-Raphson method\"\"\"\u001b[39;49;00m\n",
      "    approx = \u001b[34mNone\u001b[39;49;00m\n",
      "    guess = x / \u001b[34m2\u001b[39;49;00m\n",
      "    \u001b[34mwhile\u001b[39;49;00m approx != guess:\n",
      "        approx = guess\n",
      "        guess = (approx + x / approx) / \u001b[34m2\u001b[39;49;00m\n",
      "    \u001b[34mreturn\u001b[39;49;00m approx\n",
      "\n",
      "\u001b[34mdef\u001b[39;49;00m \u001b[32mmy_sqrt_with_type_annotations\u001b[39;49;00m(x: \u001b[36mfloat\u001b[39;49;00m) -> \u001b[36mfloat\u001b[39;49;00m:\n",
      "    \u001b[33m\"\"\"Computes the square root of x, using the Newton-Raphson method\"\"\"\u001b[39;49;00m\n",
      "    \u001b[34mreturn\u001b[39;49;00m my_sqrt(x)\n",
      "\n",
      "\u001b[36mprint\u001b[39;49;00m(my_sqrt_with_type_annotations(\u001b[33m'\u001b[39;49;00m\u001b[33m123\u001b[39;49;00m\u001b[33m'\u001b[39;49;00m))"
     ]
    }
   ],
   "source": [
    "print_file(f.name)"
   ]
  },
  {
   "cell_type": "markdown",
   "metadata": {
    "slideshow": {
     "slide_type": "subslide"
    }
   },
   "source": [
    "[Mypy](http://mypy-lang.org) is a type checker for Python programs.  As it checks types statically, types induce no overhead at runtime; plus, a static check can be faster than a lengthy series of tests with runtime type checking enabled.  Let us see what `mypy` produces on the above file:"
   ]
  },
  {
   "cell_type": "code",
   "execution_count": 20,
   "metadata": {
    "execution": {
     "iopub.execute_input": "2022-11-12T07:33:47.161799Z",
     "iopub.status.busy": "2022-11-12T07:33:47.161464Z",
     "iopub.status.idle": "2022-11-12T07:33:47.162719Z",
     "shell.execute_reply": "2022-11-12T07:33:47.162950Z"
    },
    "slideshow": {
     "slide_type": "skip"
    }
   },
   "outputs": [],
   "source": [
    "import subprocess"
   ]
  },
  {
   "cell_type": "code",
   "execution_count": 21,
   "metadata": {
    "execution": {
     "iopub.execute_input": "2022-11-12T07:33:47.168879Z",
     "iopub.status.busy": "2022-11-12T07:33:47.168531Z",
     "iopub.status.idle": "2022-11-12T07:33:48.081760Z",
     "shell.execute_reply": "2022-11-12T07:33:48.082019Z"
    },
    "slideshow": {
     "slide_type": "fragment"
    }
   },
   "outputs": [],
   "source": [
    "result = subprocess.run([\"mypy\", \"--strict\", f.name], universal_newlines=True, stdout=subprocess.PIPE)\n",
    "del f  # Delete temporary file"
   ]
  },
  {
   "cell_type": "code",
   "execution_count": 22,
   "metadata": {
    "execution": {
     "iopub.execute_input": "2022-11-12T07:33:48.084569Z",
     "iopub.status.busy": "2022-11-12T07:33:48.084240Z",
     "iopub.status.idle": "2022-11-12T07:33:48.085708Z",
     "shell.execute_reply": "2022-11-12T07:33:48.085943Z"
    },
    "slideshow": {
     "slide_type": "fragment"
    }
   },
   "outputs": [
    {
     "name": "stdout",
     "output_type": "stream",
     "text": [
      "/var/folders/n2/xd9445p97rb3xh7m1dfx8_4h0006ts/T/tmpsidktyx_.py:1: error: Function is missing a type annotation\n",
      "/var/folders/n2/xd9445p97rb3xh7m1dfx8_4h0006ts/T/tmpsidktyx_.py:12: error: Returning Any from function declared to return \"float\"\n",
      "/var/folders/n2/xd9445p97rb3xh7m1dfx8_4h0006ts/T/tmpsidktyx_.py:12: error: Call to untyped function \"my_sqrt\" in typed context\n",
      "/var/folders/n2/xd9445p97rb3xh7m1dfx8_4h0006ts/T/tmpsidktyx_.py:14: error: Argument 1 to \"my_sqrt_with_type_annotations\" has incompatible type \"str\"; expected \"float\"\n",
      "Found 4 errors in 1 file (checked 1 source file)\n",
      "\n"
     ]
    }
   ],
   "source": [
    "print(result.stdout)"
   ]
  },
  {
   "cell_type": "markdown",
   "metadata": {
    "slideshow": {
     "slide_type": "subslide"
    }
   },
   "source": [
    "We see that `mypy` complains about untyped function definitions such as `my_sqrt()`; most important, however, it finds that the  call to `my_sqrt_with_type_annotations()` in the last line has the wrong type."
   ]
  },
  {
   "cell_type": "markdown",
   "metadata": {
    "slideshow": {
     "slide_type": "fragment"
    }
   },
   "source": [
    "With `mypy`, we can achieve the same type safety with Python as in statically typed languages – provided that we as programmers also produce the necessary type annotations.  Is there a simple way to obtain these?"
   ]
  },
  {
   "cell_type": "markdown",
   "metadata": {
    "slideshow": {
     "slide_type": "slide"
    },
    "toc-hr-collapsed": false
   },
   "source": [
    "## Mining Type Specifications\n",
    "\n",
    "Our first task will be to mine type annotations (as part of the code) from _values_ we observe at run time.  These type annotations would be _mined_ from actual function executions, _learning_ from (normal) runs what the expected argument and return types should be.  By observing a series of calls such as these, we could infer that both `x` and the return value are of type `float`:"
   ]
  },
  {
   "cell_type": "code",
   "execution_count": 23,
   "metadata": {
    "execution": {
     "iopub.execute_input": "2022-11-12T07:33:48.088451Z",
     "iopub.status.busy": "2022-11-12T07:33:48.088118Z",
     "iopub.status.idle": "2022-11-12T07:33:48.089685Z",
     "shell.execute_reply": "2022-11-12T07:33:48.089908Z"
    },
    "slideshow": {
     "slide_type": "fragment"
    }
   },
   "outputs": [
    {
     "data": {
      "text/plain": [
       "5.0"
      ]
     },
     "execution_count": 23,
     "metadata": {},
     "output_type": "execute_result"
    }
   ],
   "source": [
    "y = my_sqrt(25.0)\n",
    "y"
   ]
  },
  {
   "cell_type": "code",
   "execution_count": 24,
   "metadata": {
    "execution": {
     "iopub.execute_input": "2022-11-12T07:33:48.092043Z",
     "iopub.status.busy": "2022-11-12T07:33:48.091659Z",
     "iopub.status.idle": "2022-11-12T07:33:48.093210Z",
     "shell.execute_reply": "2022-11-12T07:33:48.093485Z"
    },
    "slideshow": {
     "slide_type": "fragment"
    }
   },
   "outputs": [
    {
     "data": {
      "text/plain": [
       "1.414213562373095"
      ]
     },
     "execution_count": 24,
     "metadata": {},
     "output_type": "execute_result"
    }
   ],
   "source": [
    "y = my_sqrt(2.0)\n",
    "y"
   ]
  },
  {
   "cell_type": "markdown",
   "metadata": {
    "slideshow": {
     "slide_type": "subslide"
    }
   },
   "source": [
    "How can we mine types from executions?  The answer is simple: \n",
    "\n",
    "1. We _observe_ a function during execution\n",
    "2. We track the _types_ of its arguments\n",
    "3. We include these types as _annotations_ into the code.\n",
    "\n",
    "To do so, we can make use of Python's tracing facility we already observed in the [chapter on coverage](Coverage.ipynb).  With every call to a function, we retrieve the arguments, their values, and their types."
   ]
  },
  {
   "cell_type": "markdown",
   "metadata": {
    "slideshow": {
     "slide_type": "subslide"
    }
   },
   "source": [
    "### Tracking Calls\n",
    "\n",
    "To observe argument types at runtime, we define a _tracer function_ that tracks the execution of `my_sqrt()`, checking its arguments and return values.  The `Tracker` class is set to trace functions in a `with` block as follows:\n",
    "\n",
    "```python\n",
    "with Tracker() as tracker:\n",
    "    function_to_be_tracked(...)\n",
    "info = tracker.collected_information()\n",
    "```\n",
    "\n",
    "As in the [chapter on coverage](Coverage.ipynb), we use the `sys.settrace()` function to trace individual functions during execution.  We turn on tracking when the `with` block starts; at this point, the `__enter__()` method is called.  When execution of the `with` block ends, `__exit()__` is called.  "
   ]
  },
  {
   "cell_type": "code",
   "execution_count": 25,
   "metadata": {
    "execution": {
     "iopub.execute_input": "2022-11-12T07:33:48.095478Z",
     "iopub.status.busy": "2022-11-12T07:33:48.095144Z",
     "iopub.status.idle": "2022-11-12T07:33:48.096369Z",
     "shell.execute_reply": "2022-11-12T07:33:48.096587Z"
    },
    "slideshow": {
     "slide_type": "skip"
    }
   },
   "outputs": [],
   "source": [
    "import sys"
   ]
  },
  {
   "cell_type": "code",
   "execution_count": 26,
   "metadata": {
    "execution": {
     "iopub.execute_input": "2022-11-12T07:33:48.099580Z",
     "iopub.status.busy": "2022-11-12T07:33:48.099254Z",
     "iopub.status.idle": "2022-11-12T07:33:48.100468Z",
     "shell.execute_reply": "2022-11-12T07:33:48.100680Z"
    },
    "slideshow": {
     "slide_type": "subslide"
    }
   },
   "outputs": [],
   "source": [
    "class Tracker:\n",
    "    def __init__(self, log=False):\n",
    "        self._log = log\n",
    "        self.reset()\n",
    "\n",
    "    def reset(self):\n",
    "        self._calls = {}\n",
    "        self._stack = []\n",
    "\n",
    "    def traceit(self):\n",
    "        \"\"\"Placeholder to be overloaded in subclasses\"\"\"\n",
    "        pass\n",
    "\n",
    "    # Start of `with` block\n",
    "    def __enter__(self):\n",
    "        self.original_trace_function = sys.gettrace()\n",
    "        sys.settrace(self.traceit)\n",
    "        return self\n",
    "\n",
    "    # End of `with` block\n",
    "    def __exit__(self, exc_type, exc_value, tb):\n",
    "        sys.settrace(self.original_trace_function)"
   ]
  },
  {
   "cell_type": "markdown",
   "metadata": {
    "slideshow": {
     "slide_type": "subslide"
    }
   },
   "source": [
    "The `traceit()` method does nothing yet; this is done in specialized subclasses.  The `CallTracker` class implements a `traceit()` function that checks for function calls and returns:"
   ]
  },
  {
   "cell_type": "code",
   "execution_count": 27,
   "metadata": {
    "execution": {
     "iopub.execute_input": "2022-11-12T07:33:48.103247Z",
     "iopub.status.busy": "2022-11-12T07:33:48.102904Z",
     "iopub.status.idle": "2022-11-12T07:33:48.104154Z",
     "shell.execute_reply": "2022-11-12T07:33:48.104388Z"
    },
    "slideshow": {
     "slide_type": "fragment"
    }
   },
   "outputs": [],
   "source": [
    "class CallTracker(Tracker):\n",
    "    def traceit(self, frame, event, arg):\n",
    "        \"\"\"Tracking function: Record all calls and all args\"\"\"\n",
    "        if event == \"call\":\n",
    "            self.trace_call(frame, event, arg)\n",
    "        elif event == \"return\":\n",
    "            self.trace_return(frame, event, arg)\n",
    "            \n",
    "        return self.traceit"
   ]
  },
  {
   "cell_type": "markdown",
   "metadata": {
    "slideshow": {
     "slide_type": "fragment"
    }
   },
   "source": [
    "`trace_call()` is called when a function is called; it retrieves the function name and current arguments, and saves them on a stack."
   ]
  },
  {
   "cell_type": "code",
   "execution_count": 28,
   "metadata": {
    "execution": {
     "iopub.execute_input": "2022-11-12T07:33:48.107154Z",
     "iopub.status.busy": "2022-11-12T07:33:48.106818Z",
     "iopub.status.idle": "2022-11-12T07:33:48.108047Z",
     "shell.execute_reply": "2022-11-12T07:33:48.108265Z"
    },
    "slideshow": {
     "slide_type": "subslide"
    }
   },
   "outputs": [],
   "source": [
    "class CallTracker(CallTracker):\n",
    "    def trace_call(self, frame, event, arg):\n",
    "        \"\"\"Save current function name and args on the stack\"\"\"\n",
    "        code = frame.f_code\n",
    "        function_name = code.co_name\n",
    "        arguments = get_arguments(frame)\n",
    "        self._stack.append((function_name, arguments))\n",
    "\n",
    "        if self._log:\n",
    "            print(simple_call_string(function_name, arguments))"
   ]
  },
  {
   "cell_type": "code",
   "execution_count": 29,
   "metadata": {
    "execution": {
     "iopub.execute_input": "2022-11-12T07:33:48.110590Z",
     "iopub.status.busy": "2022-11-12T07:33:48.110254Z",
     "iopub.status.idle": "2022-11-12T07:33:48.111493Z",
     "shell.execute_reply": "2022-11-12T07:33:48.111708Z"
    },
    "slideshow": {
     "slide_type": "subslide"
    }
   },
   "outputs": [],
   "source": [
    "def get_arguments(frame):\n",
    "    \"\"\"Return call arguments in the given frame\"\"\"\n",
    "    # When called, all arguments are local variables\n",
    "    local_variables = dict(frame.f_locals)  # explicit copy\n",
    "    arguments = [(var, frame.f_locals[var]) for var in local_variables]\n",
    "    arguments.reverse()  # Want same order as call\n",
    "    return arguments"
   ]
  },
  {
   "cell_type": "markdown",
   "metadata": {
    "slideshow": {
     "slide_type": "fragment"
    }
   },
   "source": [
    "When the function returns, `trace_return()` is called.  We now also have the return value.  We log the whole call with arguments and return value (if desired) and save it in our list of calls."
   ]
  },
  {
   "cell_type": "code",
   "execution_count": 30,
   "metadata": {
    "execution": {
     "iopub.execute_input": "2022-11-12T07:33:48.114568Z",
     "iopub.status.busy": "2022-11-12T07:33:48.114232Z",
     "iopub.status.idle": "2022-11-12T07:33:48.115399Z",
     "shell.execute_reply": "2022-11-12T07:33:48.115622Z"
    },
    "slideshow": {
     "slide_type": "subslide"
    }
   },
   "outputs": [],
   "source": [
    "class CallTracker(CallTracker):\n",
    "    def trace_return(self, frame, event, arg):\n",
    "        \"\"\"Get return value and store complete call with arguments and return value\"\"\"\n",
    "        code = frame.f_code\n",
    "        function_name = code.co_name\n",
    "        return_value = arg\n",
    "        # TODO: Could call get_arguments() here to also retrieve _final_ values of argument variables\n",
    "\n",
    "        called_function_name, called_arguments = self._stack.pop()\n",
    "        assert function_name == called_function_name\n",
    "\n",
    "        if self._log:\n",
    "            print(simple_call_string(function_name, called_arguments), \"returns\", return_value)\n",
    "\n",
    "        self.add_call(function_name, called_arguments, return_value)"
   ]
  },
  {
   "cell_type": "markdown",
   "metadata": {
    "slideshow": {
     "slide_type": "subslide"
    }
   },
   "source": [
    "`simple_call_string()` is a helper for logging that prints out calls in a user-friendly manner."
   ]
  },
  {
   "cell_type": "code",
   "execution_count": 31,
   "metadata": {
    "execution": {
     "iopub.execute_input": "2022-11-12T07:33:48.118117Z",
     "iopub.status.busy": "2022-11-12T07:33:48.117780Z",
     "iopub.status.idle": "2022-11-12T07:33:48.119037Z",
     "shell.execute_reply": "2022-11-12T07:33:48.119301Z"
    },
    "slideshow": {
     "slide_type": "fragment"
    }
   },
   "outputs": [],
   "source": [
    "def simple_call_string(function_name, argument_list, return_value=None):\n",
    "    \"\"\"Return function_name(arg[0], arg[1], ...) as a string\"\"\"\n",
    "    call = function_name + \"(\" + \\\n",
    "        \", \".join([var + \"=\" + repr(value)\n",
    "                   for (var, value) in argument_list]) + \")\"\n",
    "\n",
    "    if return_value is not None:\n",
    "        call += \" = \" + repr(return_value)\n",
    "\n",
    "    return call"
   ]
  },
  {
   "cell_type": "markdown",
   "metadata": {
    "slideshow": {
     "slide_type": "fragment"
    }
   },
   "source": [
    "`add_call()` saves the calls in a list; each function name has its own list."
   ]
  },
  {
   "cell_type": "code",
   "execution_count": 32,
   "metadata": {
    "execution": {
     "iopub.execute_input": "2022-11-12T07:33:48.121776Z",
     "iopub.status.busy": "2022-11-12T07:33:48.121440Z",
     "iopub.status.idle": "2022-11-12T07:33:48.122636Z",
     "shell.execute_reply": "2022-11-12T07:33:48.122913Z"
    },
    "slideshow": {
     "slide_type": "subslide"
    }
   },
   "outputs": [],
   "source": [
    "class CallTracker(CallTracker):\n",
    "    def add_call(self, function_name, arguments, return_value=None):\n",
    "        \"\"\"Add given call to list of calls\"\"\"\n",
    "        if function_name not in self._calls:\n",
    "            self._calls[function_name] = []\n",
    "        self._calls[function_name].append((arguments, return_value))"
   ]
  },
  {
   "cell_type": "markdown",
   "metadata": {
    "slideshow": {
     "slide_type": "fragment"
    }
   },
   "source": [
    "Using `calls()`, we can retrieve the list of calls, either for a given function, or for all functions."
   ]
  },
  {
   "cell_type": "code",
   "execution_count": 33,
   "metadata": {
    "execution": {
     "iopub.execute_input": "2022-11-12T07:33:48.125270Z",
     "iopub.status.busy": "2022-11-12T07:33:48.124940Z",
     "iopub.status.idle": "2022-11-12T07:33:48.126154Z",
     "shell.execute_reply": "2022-11-12T07:33:48.126369Z"
    },
    "slideshow": {
     "slide_type": "subslide"
    }
   },
   "outputs": [],
   "source": [
    "class CallTracker(CallTracker):\n",
    "    def calls(self, function_name=None):\n",
    "        \"\"\"Return list of calls for function_name, \n",
    "        or a mapping function_name -> calls for all functions tracked\"\"\"\n",
    "        if function_name is None:\n",
    "            return self._calls\n",
    "\n",
    "        return self._calls[function_name]"
   ]
  },
  {
   "cell_type": "markdown",
   "metadata": {
    "slideshow": {
     "slide_type": "fragment"
    }
   },
   "source": [
    "Let us now put this to use.  We turn on logging to track the individual calls and their return values:"
   ]
  },
  {
   "cell_type": "code",
   "execution_count": 34,
   "metadata": {
    "execution": {
     "iopub.execute_input": "2022-11-12T07:33:48.128570Z",
     "iopub.status.busy": "2022-11-12T07:33:48.128207Z",
     "iopub.status.idle": "2022-11-12T07:33:48.129457Z",
     "shell.execute_reply": "2022-11-12T07:33:48.129738Z"
    },
    "slideshow": {
     "slide_type": "subslide"
    }
   },
   "outputs": [
    {
     "name": "stdout",
     "output_type": "stream",
     "text": [
      "my_sqrt(x=25)\n",
      "my_sqrt(x=25) returns 5.0\n",
      "my_sqrt(x=2.0)\n",
      "my_sqrt(x=2.0) returns 1.414213562373095\n",
      "__exit__(tb=None, exc_value=None, exc_type=None, self=<__main__.CallTracker object at 0x121917d60>)\n"
     ]
    }
   ],
   "source": [
    "with CallTracker(log=True) as tracker:\n",
    "    y = my_sqrt(25)\n",
    "    y = my_sqrt(2.0)"
   ]
  },
  {
   "cell_type": "markdown",
   "metadata": {
    "slideshow": {
     "slide_type": "fragment"
    }
   },
   "source": [
    "After execution, we can retrieve the individual calls:"
   ]
  },
  {
   "cell_type": "code",
   "execution_count": 35,
   "metadata": {
    "execution": {
     "iopub.execute_input": "2022-11-12T07:33:48.132055Z",
     "iopub.status.busy": "2022-11-12T07:33:48.131715Z",
     "iopub.status.idle": "2022-11-12T07:33:48.133164Z",
     "shell.execute_reply": "2022-11-12T07:33:48.133432Z"
    },
    "slideshow": {
     "slide_type": "fragment"
    }
   },
   "outputs": [
    {
     "data": {
      "text/plain": [
       "[([('x', 25)], 5.0), ([('x', 2.0)], 1.414213562373095)]"
      ]
     },
     "execution_count": 35,
     "metadata": {},
     "output_type": "execute_result"
    }
   ],
   "source": [
    "calls = tracker.calls('my_sqrt')\n",
    "calls"
   ]
  },
  {
   "cell_type": "markdown",
   "metadata": {
    "slideshow": {
     "slide_type": "fragment"
    }
   },
   "source": [
    "Each call is pair (`argument_list`, `return_value`), where `argument_list` is a list of pairs (`parameter_name`, `value`)."
   ]
  },
  {
   "cell_type": "code",
   "execution_count": 36,
   "metadata": {
    "execution": {
     "iopub.execute_input": "2022-11-12T07:33:48.135718Z",
     "iopub.status.busy": "2022-11-12T07:33:48.135391Z",
     "iopub.status.idle": "2022-11-12T07:33:48.136723Z",
     "shell.execute_reply": "2022-11-12T07:33:48.137051Z"
    },
    "slideshow": {
     "slide_type": "subslide"
    }
   },
   "outputs": [
    {
     "data": {
      "text/plain": [
       "'my_sqrt(x=25) = 5.0'"
      ]
     },
     "execution_count": 36,
     "metadata": {},
     "output_type": "execute_result"
    }
   ],
   "source": [
    "my_sqrt_argument_list, my_sqrt_return_value = calls[0]\n",
    "simple_call_string('my_sqrt', my_sqrt_argument_list, my_sqrt_return_value)"
   ]
  },
  {
   "cell_type": "markdown",
   "metadata": {
    "slideshow": {
     "slide_type": "fragment"
    }
   },
   "source": [
    "If the function does not return a value, `return_value` is `None`."
   ]
  },
  {
   "cell_type": "code",
   "execution_count": 37,
   "metadata": {
    "execution": {
     "iopub.execute_input": "2022-11-12T07:33:48.139008Z",
     "iopub.status.busy": "2022-11-12T07:33:48.138692Z",
     "iopub.status.idle": "2022-11-12T07:33:48.139861Z",
     "shell.execute_reply": "2022-11-12T07:33:48.140079Z"
    },
    "slideshow": {
     "slide_type": "fragment"
    }
   },
   "outputs": [],
   "source": [
    "def hello(name):\n",
    "    print(\"Hello,\", name)"
   ]
  },
  {
   "cell_type": "code",
   "execution_count": 38,
   "metadata": {
    "execution": {
     "iopub.execute_input": "2022-11-12T07:33:48.142000Z",
     "iopub.status.busy": "2022-11-12T07:33:48.141612Z",
     "iopub.status.idle": "2022-11-12T07:33:48.143219Z",
     "shell.execute_reply": "2022-11-12T07:33:48.143436Z"
    },
    "slideshow": {
     "slide_type": "fragment"
    }
   },
   "outputs": [
    {
     "name": "stdout",
     "output_type": "stream",
     "text": [
      "Hello, world\n"
     ]
    }
   ],
   "source": [
    "with CallTracker() as tracker:\n",
    "    hello(\"world\")"
   ]
  },
  {
   "cell_type": "code",
   "execution_count": 39,
   "metadata": {
    "execution": {
     "iopub.execute_input": "2022-11-12T07:33:48.145722Z",
     "iopub.status.busy": "2022-11-12T07:33:48.145301Z",
     "iopub.status.idle": "2022-11-12T07:33:48.146882Z",
     "shell.execute_reply": "2022-11-12T07:33:48.147100Z"
    },
    "slideshow": {
     "slide_type": "fragment"
    }
   },
   "outputs": [
    {
     "data": {
      "text/plain": [
       "[([('name', 'world')], None)]"
      ]
     },
     "execution_count": 39,
     "metadata": {},
     "output_type": "execute_result"
    }
   ],
   "source": [
    "hello_calls = tracker.calls('hello')\n",
    "hello_calls"
   ]
  },
  {
   "cell_type": "code",
   "execution_count": 40,
   "metadata": {
    "execution": {
     "iopub.execute_input": "2022-11-12T07:33:48.149382Z",
     "iopub.status.busy": "2022-11-12T07:33:48.148990Z",
     "iopub.status.idle": "2022-11-12T07:33:48.150611Z",
     "shell.execute_reply": "2022-11-12T07:33:48.150840Z"
    },
    "slideshow": {
     "slide_type": "subslide"
    }
   },
   "outputs": [
    {
     "data": {
      "text/plain": [
       "\"hello(name='world')\""
      ]
     },
     "execution_count": 40,
     "metadata": {},
     "output_type": "execute_result"
    }
   ],
   "source": [
    "hello_argument_list, hello_return_value = hello_calls[0]\n",
    "simple_call_string('hello', hello_argument_list, hello_return_value)"
   ]
  },
  {
   "cell_type": "markdown",
   "metadata": {
    "button": false,
    "new_sheet": false,
    "run_control": {
     "read_only": false
    },
    "slideshow": {
     "slide_type": "subslide"
    }
   },
   "source": [
    "### Getting Types\n",
    "\n",
    "Despite what you may have read or heard, Python actually _is_ a typed language.  It is just that it is _dynamically typed_ – types are used and checked only at runtime (rather than declared in the code, where they can be _statically checked_ at compile time).  We can thus retrieve types of all values within Python:"
   ]
  },
  {
   "cell_type": "code",
   "execution_count": 41,
   "metadata": {
    "execution": {
     "iopub.execute_input": "2022-11-12T07:33:48.152982Z",
     "iopub.status.busy": "2022-11-12T07:33:48.152643Z",
     "iopub.status.idle": "2022-11-12T07:33:48.154130Z",
     "shell.execute_reply": "2022-11-12T07:33:48.154349Z"
    },
    "slideshow": {
     "slide_type": "fragment"
    }
   },
   "outputs": [
    {
     "data": {
      "text/plain": [
       "int"
      ]
     },
     "execution_count": 41,
     "metadata": {},
     "output_type": "execute_result"
    }
   ],
   "source": [
    "type(4)"
   ]
  },
  {
   "cell_type": "code",
   "execution_count": 42,
   "metadata": {
    "execution": {
     "iopub.execute_input": "2022-11-12T07:33:48.156452Z",
     "iopub.status.busy": "2022-11-12T07:33:48.156082Z",
     "iopub.status.idle": "2022-11-12T07:33:48.157676Z",
     "shell.execute_reply": "2022-11-12T07:33:48.157894Z"
    },
    "slideshow": {
     "slide_type": "fragment"
    }
   },
   "outputs": [
    {
     "data": {
      "text/plain": [
       "float"
      ]
     },
     "execution_count": 42,
     "metadata": {},
     "output_type": "execute_result"
    }
   ],
   "source": [
    "type(2.0)"
   ]
  },
  {
   "cell_type": "code",
   "execution_count": 43,
   "metadata": {
    "execution": {
     "iopub.execute_input": "2022-11-12T07:33:48.159945Z",
     "iopub.status.busy": "2022-11-12T07:33:48.159605Z",
     "iopub.status.idle": "2022-11-12T07:33:48.161178Z",
     "shell.execute_reply": "2022-11-12T07:33:48.161403Z"
    },
    "slideshow": {
     "slide_type": "fragment"
    }
   },
   "outputs": [
    {
     "data": {
      "text/plain": [
       "list"
      ]
     },
     "execution_count": 43,
     "metadata": {},
     "output_type": "execute_result"
    }
   ],
   "source": [
    "type([4])"
   ]
  },
  {
   "cell_type": "markdown",
   "metadata": {
    "slideshow": {
     "slide_type": "fragment"
    }
   },
   "source": [
    "We can retrieve the type of the first argument to `my_sqrt()`:"
   ]
  },
  {
   "cell_type": "code",
   "execution_count": 44,
   "metadata": {
    "execution": {
     "iopub.execute_input": "2022-11-12T07:33:48.163715Z",
     "iopub.status.busy": "2022-11-12T07:33:48.163308Z",
     "iopub.status.idle": "2022-11-12T07:33:48.164903Z",
     "shell.execute_reply": "2022-11-12T07:33:48.165116Z"
    },
    "slideshow": {
     "slide_type": "subslide"
    }
   },
   "outputs": [
    {
     "data": {
      "text/plain": [
       "('x', int)"
      ]
     },
     "execution_count": 44,
     "metadata": {},
     "output_type": "execute_result"
    }
   ],
   "source": [
    "parameter, value = my_sqrt_argument_list[0]\n",
    "parameter, type(value)"
   ]
  },
  {
   "cell_type": "markdown",
   "metadata": {
    "slideshow": {
     "slide_type": "fragment"
    }
   },
   "source": [
    "as well as the type of the return value:"
   ]
  },
  {
   "cell_type": "code",
   "execution_count": 45,
   "metadata": {
    "execution": {
     "iopub.execute_input": "2022-11-12T07:33:48.167178Z",
     "iopub.status.busy": "2022-11-12T07:33:48.166853Z",
     "iopub.status.idle": "2022-11-12T07:33:48.168347Z",
     "shell.execute_reply": "2022-11-12T07:33:48.168558Z"
    },
    "slideshow": {
     "slide_type": "fragment"
    }
   },
   "outputs": [
    {
     "data": {
      "text/plain": [
       "float"
      ]
     },
     "execution_count": 45,
     "metadata": {},
     "output_type": "execute_result"
    }
   ],
   "source": [
    "type(my_sqrt_return_value)"
   ]
  },
  {
   "cell_type": "markdown",
   "metadata": {
    "slideshow": {
     "slide_type": "fragment"
    }
   },
   "source": [
    "Hence, we see that (so far), `my_sqrt()` is a function taking (among others) integers and floats and returning floats.  We could declare `my_sqrt()` as:"
   ]
  },
  {
   "cell_type": "code",
   "execution_count": 46,
   "metadata": {
    "execution": {
     "iopub.execute_input": "2022-11-12T07:33:48.170524Z",
     "iopub.status.busy": "2022-11-12T07:33:48.170210Z",
     "iopub.status.idle": "2022-11-12T07:33:48.171365Z",
     "shell.execute_reply": "2022-11-12T07:33:48.171578Z"
    },
    "slideshow": {
     "slide_type": "fragment"
    }
   },
   "outputs": [],
   "source": [
    "def my_sqrt_annotated(x: float) -> float:\n",
    "    return my_sqrt(x)"
   ]
  },
  {
   "cell_type": "markdown",
   "metadata": {
    "slideshow": {
     "slide_type": "subslide"
    }
   },
   "source": [
    "This is a representation we could place in a static type checker, allowing to check whether calls to `my_sqrt()` actually pass a number.  A dynamic type checker could run such checks at runtime.  And of course, any [symbolic interpretation](SymbolicFuzzer.ipynb) will greatly profit from the additional annotations."
   ]
  },
  {
   "cell_type": "markdown",
   "metadata": {
    "slideshow": {
     "slide_type": "fragment"
    }
   },
   "source": [
    "By default, Python does not do anything with such annotations.  However, tools can access annotations from functions and other objects:"
   ]
  },
  {
   "cell_type": "code",
   "execution_count": 47,
   "metadata": {
    "execution": {
     "iopub.execute_input": "2022-11-12T07:33:48.173692Z",
     "iopub.status.busy": "2022-11-12T07:33:48.173379Z",
     "iopub.status.idle": "2022-11-12T07:33:48.174976Z",
     "shell.execute_reply": "2022-11-12T07:33:48.175186Z"
    },
    "slideshow": {
     "slide_type": "fragment"
    }
   },
   "outputs": [
    {
     "data": {
      "text/plain": [
       "{'x': float, 'return': float}"
      ]
     },
     "execution_count": 47,
     "metadata": {},
     "output_type": "execute_result"
    }
   ],
   "source": [
    "my_sqrt_annotated.__annotations__"
   ]
  },
  {
   "cell_type": "markdown",
   "metadata": {
    "slideshow": {
     "slide_type": "fragment"
    }
   },
   "source": [
    "This is how run-time checkers access the annotations to check against."
   ]
  },
  {
   "cell_type": "markdown",
   "metadata": {
    "slideshow": {
     "slide_type": "subslide"
    }
   },
   "source": [
    "### Accessing Function Structure\n",
    "\n",
    "Our plan is to annotate functions automatically, based on the types we have seen.  To do so, we need a few modules that allow us to convert a function into a tree representation (called _abstract syntax trees_, or ASTs) and back; we already have seen these in the chapters on [concolic](ConcolicFuzzer.ipynb) and [symbolic](SymbolicFuzzer.ipynb) testing."
   ]
  },
  {
   "cell_type": "code",
   "execution_count": 48,
   "metadata": {
    "execution": {
     "iopub.execute_input": "2022-11-12T07:33:48.177000Z",
     "iopub.status.busy": "2022-11-12T07:33:48.176686Z",
     "iopub.status.idle": "2022-11-12T07:33:48.177901Z",
     "shell.execute_reply": "2022-11-12T07:33:48.178125Z"
    },
    "slideshow": {
     "slide_type": "skip"
    }
   },
   "outputs": [],
   "source": [
    "import ast\n",
    "import inspect"
   ]
  },
  {
   "cell_type": "markdown",
   "metadata": {
    "slideshow": {
     "slide_type": "fragment"
    }
   },
   "source": [
    "We can get the source of a Python function using `inspect.getsource()`.  (Note that this does not work for functions defined in other notebooks.)"
   ]
  },
  {
   "cell_type": "code",
   "execution_count": 49,
   "metadata": {
    "execution": {
     "iopub.execute_input": "2022-11-12T07:33:48.180437Z",
     "iopub.status.busy": "2022-11-12T07:33:48.179605Z",
     "iopub.status.idle": "2022-11-12T07:33:48.182075Z",
     "shell.execute_reply": "2022-11-12T07:33:48.182287Z"
    },
    "slideshow": {
     "slide_type": "fragment"
    }
   },
   "outputs": [
    {
     "data": {
      "text/plain": [
       "'def my_sqrt(x):\\n    \"\"\"Computes the square root of x, using the Newton-Raphson method\"\"\"\\n    approx = None\\n    guess = x / 2\\n    while approx != guess:\\n        approx = guess\\n        guess = (approx + x / approx) / 2\\n    return approx\\n'"
      ]
     },
     "execution_count": 49,
     "metadata": {},
     "output_type": "execute_result"
    }
   ],
   "source": [
    "my_sqrt_source = inspect.getsource(my_sqrt)\n",
    "my_sqrt_source"
   ]
  },
  {
   "cell_type": "markdown",
   "metadata": {
    "slideshow": {
     "slide_type": "subslide"
    }
   },
   "source": [
    "To view these in a visually pleasing form, our function `print_content(s, suffix)` formats and highlights the string `s` as if it were a file with ending `suffix`.  We can thus view (and highlight) the source as if it were a Python file:"
   ]
  },
  {
   "cell_type": "code",
   "execution_count": 50,
   "metadata": {
    "execution": {
     "iopub.execute_input": "2022-11-12T07:33:48.184197Z",
     "iopub.status.busy": "2022-11-12T07:33:48.183877Z",
     "iopub.status.idle": "2022-11-12T07:33:48.185128Z",
     "shell.execute_reply": "2022-11-12T07:33:48.185338Z"
    },
    "slideshow": {
     "slide_type": "skip"
    }
   },
   "outputs": [],
   "source": [
    "from bookutils import print_content"
   ]
  },
  {
   "cell_type": "code",
   "execution_count": 51,
   "metadata": {
    "execution": {
     "iopub.execute_input": "2022-11-12T07:33:48.190444Z",
     "iopub.status.busy": "2022-11-12T07:33:48.190093Z",
     "iopub.status.idle": "2022-11-12T07:33:48.191428Z",
     "shell.execute_reply": "2022-11-12T07:33:48.191696Z"
    },
    "slideshow": {
     "slide_type": "fragment"
    }
   },
   "outputs": [
    {
     "name": "stdout",
     "output_type": "stream",
     "text": [
      "\u001b[34mdef\u001b[39;49;00m \u001b[32mmy_sqrt\u001b[39;49;00m(x):\n",
      "    \u001b[33m\"\"\"Computes the square root of x, using the Newton-Raphson method\"\"\"\u001b[39;49;00m\n",
      "    approx = \u001b[34mNone\u001b[39;49;00m\n",
      "    guess = x / \u001b[34m2\u001b[39;49;00m\n",
      "    \u001b[34mwhile\u001b[39;49;00m approx != guess:\n",
      "        approx = guess\n",
      "        guess = (approx + x / approx) / \u001b[34m2\u001b[39;49;00m\n",
      "    \u001b[34mreturn\u001b[39;49;00m approx"
     ]
    }
   ],
   "source": [
    "print_content(my_sqrt_source, '.py')"
   ]
  },
  {
   "cell_type": "markdown",
   "metadata": {
    "slideshow": {
     "slide_type": "fragment"
    }
   },
   "source": [
    "Parsing this gives us an abstract syntax tree (AST) – a representation of the program in tree form."
   ]
  },
  {
   "cell_type": "code",
   "execution_count": 52,
   "metadata": {
    "execution": {
     "iopub.execute_input": "2022-11-12T07:33:48.193659Z",
     "iopub.status.busy": "2022-11-12T07:33:48.193330Z",
     "iopub.status.idle": "2022-11-12T07:33:48.194632Z",
     "shell.execute_reply": "2022-11-12T07:33:48.194845Z"
    },
    "slideshow": {
     "slide_type": "subslide"
    }
   },
   "outputs": [],
   "source": [
    "my_sqrt_ast = ast.parse(my_sqrt_source)"
   ]
  },
  {
   "cell_type": "markdown",
   "metadata": {
    "slideshow": {
     "slide_type": "fragment"
    }
   },
   "source": [
    "What does this AST look like?  The helper functions `ast.dump()` (textual output) and `showast.show_ast()` (graphical output with [showast](https://github.com/hchasestevens/show_ast)) allow us to inspect the structure of the tree.  We see that the function starts as a `FunctionDef` with name and arguments, followed by a body, which is a list of statements of type `Expr` (the docstring), type `Assign` (assignments), `While` (while loop with its own body), and finally `Return`."
   ]
  },
  {
   "cell_type": "code",
   "execution_count": 53,
   "metadata": {
    "execution": {
     "iopub.execute_input": "2022-11-12T07:33:48.196876Z",
     "iopub.status.busy": "2022-11-12T07:33:48.196559Z",
     "iopub.status.idle": "2022-11-12T07:33:48.198042Z",
     "shell.execute_reply": "2022-11-12T07:33:48.198318Z"
    },
    "slideshow": {
     "slide_type": "subslide"
    }
   },
   "outputs": [
    {
     "name": "stdout",
     "output_type": "stream",
     "text": [
      "Module(\n",
      "    body=[\n",
      "        FunctionDef(\n",
      "            name='my_sqrt',\n",
      "            args=arguments(\n",
      "                posonlyargs=[],\n",
      "                args=[\n",
      "                    arg(arg='x')],\n",
      "                kwonlyargs=[],\n",
      "                kw_defaults=[],\n",
      "                defaults=[]),\n",
      "            body=[\n",
      "                Expr(\n",
      "                    value=Constant(value='Computes the square root of x, using the Newton-Raphson method')),\n",
      "                Assign(\n",
      "                    targets=[\n",
      "                        Name(id='approx', ctx=Store())],\n",
      "                    value=Constant(value=None)),\n",
      "                Assign(\n",
      "                    targets=[\n",
      "                        Name(id='guess', ctx=Store())],\n",
      "                    value=BinOp(\n",
      "                        left=Name(id='x', ctx=Load()),\n",
      "                        op=Div(),\n",
      "                        right=Constant(value=2))),\n",
      "                While(\n",
      "                    test=Compare(\n",
      "                        left=Name(id='approx', ctx=Load()),\n",
      "                        ops=[\n",
      "                            NotEq()],\n",
      "                        comparators=[\n",
      "                            Name(id='guess', ctx=Load())]),\n",
      "                    body=[\n",
      "                        Assign(\n",
      "                            targets=[\n",
      "                                Name(id='approx', ctx=Store())],\n",
      "                            value=Name(id='guess', ctx=Load())),\n",
      "                        Assign(\n",
      "                            targets=[\n",
      "                                Name(id='guess', ctx=Store())],\n",
      "                            value=BinOp(\n",
      "                                left=BinOp(\n",
      "                                    left=Name(id='approx', ctx=Load()),\n",
      "                                    op=Add(),\n",
      "                                    right=BinOp(\n",
      "                                        left=Name(id='x', ctx=Load()),\n",
      "                                        op=Div(),\n",
      "                                        right=Name(id='approx', ctx=Load()))),\n",
      "                                op=Div(),\n",
      "                                right=Constant(value=2)))],\n",
      "                    orelse=[]),\n",
      "                Return(\n",
      "                    value=Name(id='approx', ctx=Load()))],\n",
      "            decorator_list=[])],\n",
      "    type_ignores=[])\n"
     ]
    }
   ],
   "source": [
    "print(ast.dump(my_sqrt_ast, indent=4))"
   ]
  },
  {
   "cell_type": "markdown",
   "metadata": {
    "slideshow": {
     "slide_type": "subslide"
    }
   },
   "source": [
    "Too much text for you?  This graphical representation may make things simpler."
   ]
  },
  {
   "cell_type": "code",
   "execution_count": 54,
   "metadata": {
    "execution": {
     "iopub.execute_input": "2022-11-12T07:33:48.200239Z",
     "iopub.status.busy": "2022-11-12T07:33:48.199917Z",
     "iopub.status.idle": "2022-11-12T07:33:48.201122Z",
     "shell.execute_reply": "2022-11-12T07:33:48.201327Z"
    },
    "slideshow": {
     "slide_type": "skip"
    }
   },
   "outputs": [],
   "source": [
    "from bookutils import rich_output"
   ]
  },
  {
   "cell_type": "code",
   "execution_count": 55,
   "metadata": {
    "execution": {
     "iopub.execute_input": "2022-11-12T07:33:48.203188Z",
     "iopub.status.busy": "2022-11-12T07:33:48.202856Z",
     "iopub.status.idle": "2022-11-12T07:33:48.550085Z",
     "shell.execute_reply": "2022-11-12T07:33:48.550375Z"
    },
    "slideshow": {
     "slide_type": "fragment"
    }
   },
   "outputs": [
    {
     "data": {
      "image/svg+xml": [
       "<svg xmlns=\"http://www.w3.org/2000/svg\" xmlns:xlink=\"http://www.w3.org/1999/xlink\" width=\"1693pt\" height=\"548pt\" viewBox=\"0.00 0.00 1693.00 548.00\">\n",
       "<g id=\"graph0\" class=\"graph\" transform=\"scale(1 1) rotate(0) translate(4 544)\">\n",
       "<polygon fill=\"white\" stroke=\"transparent\" points=\"-4,4 -4,-544 1689,-544 1689,4 -4,4\"/>\n",
       "<!-- 0 -->\n",
       "<g id=\"node1\" class=\"node\">\n",
       "<title>0</title>\n",
       "<text text-anchor=\"start\" x=\"285.5\" y=\"-519.3\" font-family=\"Courier,monospace\" font-weight=\"bold\" font-size=\"14.00\" fill=\"#004080\">FunctionDef</text>\n",
       "</g>\n",
       "<!-- 1 -->\n",
       "<g id=\"node2\" class=\"node\">\n",
       "<title>1</title>\n",
       "<text text-anchor=\"middle\" x=\"82\" y=\"-446.3\" font-family=\"Courier,monospace\" font-size=\"14.00\" fill=\"#008040\">&quot;my_sqrt&quot;</text>\n",
       "</g>\n",
       "<!-- 0&#45;&#45;1 -->\n",
       "<g id=\"edge1\" class=\"edge\">\n",
       "<title>0--1</title>\n",
       "<path fill=\"none\" stroke=\"black\" d=\"M332,-503C332,-503 221.93,-489.11 136,-468 133.23,-467.32 130.4,-466.58 127.55,-465.79\"/>\n",
       "</g>\n",
       "<!-- 2 -->\n",
       "<g id=\"node3\" class=\"node\">\n",
       "<title>2</title>\n",
       "<text text-anchor=\"start\" x=\"153.5\" y=\"-447.3\" font-family=\"Courier,monospace\" font-weight=\"bold\" font-size=\"14.00\" fill=\"#004080\">arguments</text>\n",
       "</g>\n",
       "<!-- 0&#45;&#45;2 -->\n",
       "<g id=\"edge2\" class=\"edge\">\n",
       "<title>0--2</title>\n",
       "<path fill=\"none\" stroke=\"black\" d=\"M332,-503C332,-503 277.95,-483.07 236.78,-467.88\"/>\n",
       "</g>\n",
       "<!-- 5 -->\n",
       "<g id=\"node6\" class=\"node\">\n",
       "<title>5</title>\n",
       "<text text-anchor=\"start\" x=\"263\" y=\"-447.3\" font-family=\"Courier,monospace\" font-weight=\"bold\" font-size=\"14.00\" fill=\"#004080\">Assign</text>\n",
       "</g>\n",
       "<!-- 0&#45;&#45;5 -->\n",
       "<g id=\"edge5\" class=\"edge\">\n",
       "<title>0--5</title>\n",
       "<path fill=\"none\" stroke=\"black\" d=\"M332,-503C332,-503 315.24,-483.19 302.41,-468.03\"/>\n",
       "</g>\n",
       "<!-- 10 -->\n",
       "<g id=\"node11\" class=\"node\">\n",
       "<title>10</title>\n",
       "<text text-anchor=\"start\" x=\"349\" y=\"-447.3\" font-family=\"Courier,monospace\" font-weight=\"bold\" font-size=\"14.00\" fill=\"#004080\">Assign</text>\n",
       "</g>\n",
       "<!-- 0&#45;&#45;10 -->\n",
       "<g id=\"edge10\" class=\"edge\">\n",
       "<title>0--10</title>\n",
       "<path fill=\"none\" stroke=\"black\" d=\"M332,-503C332,-503 348,-483.19 360.25,-468.03\"/>\n",
       "</g>\n",
       "<!-- 21 -->\n",
       "<g id=\"node22\" class=\"node\">\n",
       "<title>21</title>\n",
       "<text text-anchor=\"start\" x=\"914\" y=\"-447.3\" font-family=\"Courier,monospace\" font-weight=\"bold\" font-size=\"14.00\" fill=\"#004080\">While</text>\n",
       "</g>\n",
       "<!-- 0&#45;&#45;21 -->\n",
       "<g id=\"edge21\" class=\"edge\">\n",
       "<title>0--21</title>\n",
       "<path fill=\"none\" stroke=\"black\" d=\"M332,-503C332,-503 785.46,-463.9 905.92,-453.51\"/>\n",
       "</g>\n",
       "<!-- 58 -->\n",
       "<g id=\"node59\" class=\"node\">\n",
       "<title>58</title>\n",
       "<text text-anchor=\"start\" x=\"1323\" y=\"-447.3\" font-family=\"Courier,monospace\" font-weight=\"bold\" font-size=\"14.00\" fill=\"#004080\">Return</text>\n",
       "</g>\n",
       "<!-- 0&#45;&#45;58 -->\n",
       "<g id=\"edge58\" class=\"edge\">\n",
       "<title>0--58</title>\n",
       "<path fill=\"none\" stroke=\"black\" d=\"M332,-503C332,-503 1139.67,-461.66 1314.77,-452.7\"/>\n",
       "</g>\n",
       "<!-- 3 -->\n",
       "<g id=\"node4\" class=\"node\">\n",
       "<title>3</title>\n",
       "<text text-anchor=\"start\" x=\"63.5\" y=\"-375.3\" font-family=\"Courier,monospace\" font-weight=\"bold\" font-size=\"14.00\" fill=\"#004080\">arg</text>\n",
       "</g>\n",
       "<!-- 2&#45;&#45;3 -->\n",
       "<g id=\"edge3\" class=\"edge\">\n",
       "<title>2--3</title>\n",
       "<path fill=\"none\" stroke=\"black\" d=\"M162.87,-431.88C144.65,-420.79 121.05,-406.42 103.05,-395.47\"/>\n",
       "</g>\n",
       "<!-- 4 -->\n",
       "<g id=\"node5\" class=\"node\">\n",
       "<title>4</title>\n",
       "<text text-anchor=\"middle\" x=\"27\" y=\"-302.3\" font-family=\"Courier,monospace\" font-size=\"14.00\" fill=\"#008040\">&quot;x&quot;</text>\n",
       "</g>\n",
       "<!-- 3&#45;&#45;4 -->\n",
       "<g id=\"edge4\" class=\"edge\">\n",
       "<title>3--4</title>\n",
       "<path fill=\"none\" stroke=\"black\" d=\"M63.89,-359.7C56.29,-348.85 46.54,-334.92 38.97,-324.1\"/>\n",
       "</g>\n",
       "<!-- 6 -->\n",
       "<g id=\"node7\" class=\"node\">\n",
       "<title>6</title>\n",
       "<text text-anchor=\"start\" x=\"183\" y=\"-375.3\" font-family=\"Courier,monospace\" font-weight=\"bold\" font-size=\"14.00\" fill=\"#004080\">Name</text>\n",
       "</g>\n",
       "<!-- 5&#45;&#45;6 -->\n",
       "<g id=\"edge6\" class=\"edge\">\n",
       "<title>5--6</title>\n",
       "<path fill=\"none\" stroke=\"black\" d=\"M279,-431C279,-431 248.91,-411.19 225.87,-396.03\"/>\n",
       "</g>\n",
       "<!-- 9 -->\n",
       "<g id=\"node10\" class=\"node\">\n",
       "<title>9</title>\n",
       "<text text-anchor=\"middle\" x=\"287\" y=\"-374.3\" font-family=\"Courier,monospace\" font-size=\"14.00\" fill=\"#008040\">Constant</text>\n",
       "</g>\n",
       "<!-- 5&#45;&#45;9 -->\n",
       "<g id=\"edge9\" class=\"edge\">\n",
       "<title>5--9</title>\n",
       "<path fill=\"none\" stroke=\"black\" d=\"M279,-431C279,-431 282.05,-411.19 284.38,-396.03\"/>\n",
       "</g>\n",
       "<!-- 7 -->\n",
       "<g id=\"node8\" class=\"node\">\n",
       "<title>7</title>\n",
       "<text text-anchor=\"middle\" x=\"114\" y=\"-302.3\" font-family=\"Courier,monospace\" font-size=\"14.00\" fill=\"#008040\">&quot;approx&quot;</text>\n",
       "</g>\n",
       "<!-- 6&#45;&#45;7 -->\n",
       "<g id=\"edge7\" class=\"edge\">\n",
       "<title>6--7</title>\n",
       "<path fill=\"none\" stroke=\"black\" d=\"M192,-359C192,-359 162.29,-339.19 139.54,-324.03\"/>\n",
       "</g>\n",
       "<!-- 8 -->\n",
       "<g id=\"node9\" class=\"node\">\n",
       "<title>8</title>\n",
       "<text text-anchor=\"middle\" x=\"203\" y=\"-302.3\" font-family=\"Courier,monospace\" font-size=\"14.00\" fill=\"#008040\">Store</text>\n",
       "</g>\n",
       "<!-- 6&#45;&#45;8 -->\n",
       "<g id=\"edge8\" class=\"edge\">\n",
       "<title>6--8</title>\n",
       "<path fill=\"none\" stroke=\"black\" d=\"M192,-359C192,-359 196.19,-339.19 199.4,-324.03\"/>\n",
       "</g>\n",
       "<!-- 11 -->\n",
       "<g id=\"node12\" class=\"node\">\n",
       "<title>11</title>\n",
       "<text text-anchor=\"start\" x=\"357\" y=\"-375.3\" font-family=\"Courier,monospace\" font-weight=\"bold\" font-size=\"14.00\" fill=\"#004080\">Name</text>\n",
       "</g>\n",
       "<!-- 10&#45;&#45;11 -->\n",
       "<g id=\"edge11\" class=\"edge\">\n",
       "<title>10--11</title>\n",
       "<path fill=\"none\" stroke=\"black\" d=\"M384,-431C384,-431 380.19,-411.19 377.27,-396.03\"/>\n",
       "</g>\n",
       "<!-- 14 -->\n",
       "<g id=\"node15\" class=\"node\">\n",
       "<title>14</title>\n",
       "<text text-anchor=\"start\" x=\"463\" y=\"-375.3\" font-family=\"Courier,monospace\" font-weight=\"bold\" font-size=\"14.00\" fill=\"#004080\">BinOp</text>\n",
       "</g>\n",
       "<!-- 10&#45;&#45;14 -->\n",
       "<g id=\"edge14\" class=\"edge\">\n",
       "<title>10--14</title>\n",
       "<path fill=\"none\" stroke=\"black\" d=\"M384,-431C384,-431 425.29,-409.53 454.81,-394.18\"/>\n",
       "</g>\n",
       "<!-- 12 -->\n",
       "<g id=\"node13\" class=\"node\">\n",
       "<title>12</title>\n",
       "<text text-anchor=\"middle\" x=\"287\" y=\"-302.3\" font-family=\"Courier,monospace\" font-size=\"14.00\" fill=\"#008040\">&quot;guess&quot;</text>\n",
       "</g>\n",
       "<!-- 11&#45;&#45;12 -->\n",
       "<g id=\"edge12\" class=\"edge\">\n",
       "<title>11--12</title>\n",
       "<path fill=\"none\" stroke=\"black\" d=\"M365,-359C365,-359 335.29,-339.19 312.54,-324.03\"/>\n",
       "</g>\n",
       "<!-- 13 -->\n",
       "<g id=\"node14\" class=\"node\">\n",
       "<title>13</title>\n",
       "<text text-anchor=\"middle\" x=\"371\" y=\"-302.3\" font-family=\"Courier,monospace\" font-size=\"14.00\" fill=\"#008040\">Store</text>\n",
       "</g>\n",
       "<!-- 11&#45;&#45;13 -->\n",
       "<g id=\"edge13\" class=\"edge\">\n",
       "<title>11--13</title>\n",
       "<path fill=\"none\" stroke=\"black\" d=\"M365,-359C365,-359 367.29,-339.19 369.04,-324.03\"/>\n",
       "</g>\n",
       "<!-- 15 -->\n",
       "<g id=\"node16\" class=\"node\">\n",
       "<title>15</title>\n",
       "<text text-anchor=\"start\" x=\"428\" y=\"-303.3\" font-family=\"Courier,monospace\" font-weight=\"bold\" font-size=\"14.00\" fill=\"#004080\">Name</text>\n",
       "</g>\n",
       "<!-- 14&#45;&#45;15 -->\n",
       "<g id=\"edge15\" class=\"edge\">\n",
       "<title>14--15</title>\n",
       "<path fill=\"none\" stroke=\"black\" d=\"M490,-359C490,-359 472.86,-339.19 459.73,-324.03\"/>\n",
       "</g>\n",
       "<!-- 18 -->\n",
       "<g id=\"node19\" class=\"node\">\n",
       "<title>18</title>\n",
       "<text text-anchor=\"middle\" x=\"517\" y=\"-302.3\" font-family=\"Courier,monospace\" font-size=\"14.00\" fill=\"#008040\">Div</text>\n",
       "</g>\n",
       "<!-- 14&#45;&#45;18 -->\n",
       "<g id=\"edge18\" class=\"edge\">\n",
       "<title>14--18</title>\n",
       "<path fill=\"none\" stroke=\"black\" d=\"M490,-359C490,-359 500.28,-339.19 508.16,-324.03\"/>\n",
       "</g>\n",
       "<!-- 19 -->\n",
       "<g id=\"node20\" class=\"node\">\n",
       "<title>19</title>\n",
       "<text text-anchor=\"start\" x=\"570.5\" y=\"-303.3\" font-family=\"Courier,monospace\" font-weight=\"bold\" font-size=\"14.00\" fill=\"#004080\">Constant</text>\n",
       "</g>\n",
       "<!-- 14&#45;&#45;19 -->\n",
       "<g id=\"edge19\" class=\"edge\">\n",
       "<title>14--19</title>\n",
       "<path fill=\"none\" stroke=\"black\" d=\"M490,-359C490,-359 533.42,-339.19 566.67,-324.03\"/>\n",
       "</g>\n",
       "<!-- 16 -->\n",
       "<g id=\"node17\" class=\"node\">\n",
       "<title>16</title>\n",
       "<text text-anchor=\"middle\" x=\"373\" y=\"-230.3\" font-family=\"Courier,monospace\" font-size=\"14.00\" fill=\"#008040\">&quot;x&quot;</text>\n",
       "</g>\n",
       "<!-- 15&#45;&#45;16 -->\n",
       "<g id=\"edge16\" class=\"edge\">\n",
       "<title>15--16</title>\n",
       "<path fill=\"none\" stroke=\"black\" d=\"M437,-287C437,-287 412.62,-267.19 393.96,-252.03\"/>\n",
       "</g>\n",
       "<!-- 17 -->\n",
       "<g id=\"node18\" class=\"node\">\n",
       "<title>17</title>\n",
       "<text text-anchor=\"middle\" x=\"445\" y=\"-230.3\" font-family=\"Courier,monospace\" font-size=\"14.00\" fill=\"#008040\">Load</text>\n",
       "</g>\n",
       "<!-- 15&#45;&#45;17 -->\n",
       "<g id=\"edge17\" class=\"edge\">\n",
       "<title>15--17</title>\n",
       "<path fill=\"none\" stroke=\"black\" d=\"M437,-287C437,-287 440.05,-267.19 442.38,-252.03\"/>\n",
       "</g>\n",
       "<!-- 20 -->\n",
       "<g id=\"node21\" class=\"node\">\n",
       "<title>20</title>\n",
       "<text text-anchor=\"middle\" x=\"517\" y=\"-230.3\" font-family=\"Courier,monospace\" font-size=\"14.00\" fill=\"#008040\">2</text>\n",
       "</g>\n",
       "<!-- 19&#45;&#45;20 -->\n",
       "<g id=\"edge20\" class=\"edge\">\n",
       "<title>19--20</title>\n",
       "<path fill=\"none\" stroke=\"black\" d=\"M582.49,-287.7C569.01,-276.85 551.7,-262.92 538.26,-252.1\"/>\n",
       "</g>\n",
       "<!-- 22 -->\n",
       "<g id=\"node23\" class=\"node\">\n",
       "<title>22</title>\n",
       "<text text-anchor=\"start\" x=\"781\" y=\"-375.3\" font-family=\"Courier,monospace\" font-weight=\"bold\" font-size=\"14.00\" fill=\"#004080\">Compare</text>\n",
       "</g>\n",
       "<!-- 21&#45;&#45;22 -->\n",
       "<g id=\"edge22\" class=\"edge\">\n",
       "<title>21--22</title>\n",
       "<path fill=\"none\" stroke=\"black\" d=\"M943,-431C943,-431 886.4,-408.87 847.05,-393.48\"/>\n",
       "</g>\n",
       "<!-- 30 -->\n",
       "<g id=\"node31\" class=\"node\">\n",
       "<title>30</title>\n",
       "<text text-anchor=\"start\" x=\"962\" y=\"-375.3\" font-family=\"Courier,monospace\" font-weight=\"bold\" font-size=\"14.00\" fill=\"#004080\">Assign</text>\n",
       "</g>\n",
       "<!-- 21&#45;&#45;30 -->\n",
       "<g id=\"edge30\" class=\"edge\">\n",
       "<title>21--30</title>\n",
       "<path fill=\"none\" stroke=\"black\" d=\"M943,-431C943,-431 959.76,-411.19 972.59,-396.03\"/>\n",
       "</g>\n",
       "<!-- 37 -->\n",
       "<g id=\"node38\" class=\"node\">\n",
       "<title>37</title>\n",
       "<text text-anchor=\"start\" x=\"1296\" y=\"-375.3\" font-family=\"Courier,monospace\" font-weight=\"bold\" font-size=\"14.00\" fill=\"#004080\">Assign</text>\n",
       "</g>\n",
       "<!-- 21&#45;&#45;37 -->\n",
       "<g id=\"edge37\" class=\"edge\">\n",
       "<title>21--37</title>\n",
       "<path fill=\"none\" stroke=\"black\" d=\"M943,-431C943,-431 1195.55,-396.26 1287.79,-383.57\"/>\n",
       "</g>\n",
       "<!-- 23 -->\n",
       "<g id=\"node24\" class=\"node\">\n",
       "<title>23</title>\n",
       "<text text-anchor=\"start\" x=\"674\" y=\"-303.3\" font-family=\"Courier,monospace\" font-weight=\"bold\" font-size=\"14.00\" fill=\"#004080\">Name</text>\n",
       "</g>\n",
       "<!-- 22&#45;&#45;23 -->\n",
       "<g id=\"edge23\" class=\"edge\">\n",
       "<title>22--23</title>\n",
       "<path fill=\"none\" stroke=\"black\" d=\"M803,-359C803,-359 751.26,-334.98 718.11,-319.59\"/>\n",
       "</g>\n",
       "<!-- 26 -->\n",
       "<g id=\"node27\" class=\"node\">\n",
       "<title>26</title>\n",
       "<text text-anchor=\"middle\" x=\"773\" y=\"-302.3\" font-family=\"Courier,monospace\" font-size=\"14.00\" fill=\"#008040\">NotEq</text>\n",
       "</g>\n",
       "<!-- 22&#45;&#45;26 -->\n",
       "<g id=\"edge26\" class=\"edge\">\n",
       "<title>22--26</title>\n",
       "<path fill=\"none\" stroke=\"black\" d=\"M803,-359C803,-359 791.57,-339.19 782.82,-324.03\"/>\n",
       "</g>\n",
       "<!-- 27 -->\n",
       "<g id=\"node28\" class=\"node\">\n",
       "<title>27</title>\n",
       "<text text-anchor=\"start\" x=\"830\" y=\"-303.3\" font-family=\"Courier,monospace\" font-weight=\"bold\" font-size=\"14.00\" fill=\"#004080\">Name</text>\n",
       "</g>\n",
       "<!-- 22&#45;&#45;27 -->\n",
       "<g id=\"edge27\" class=\"edge\">\n",
       "<title>22--27</title>\n",
       "<path fill=\"none\" stroke=\"black\" d=\"M803,-359C803,-359 819.76,-339.19 832.59,-324.03\"/>\n",
       "</g>\n",
       "<!-- 24 -->\n",
       "<g id=\"node25\" class=\"node\">\n",
       "<title>24</title>\n",
       "<text text-anchor=\"middle\" x=\"604\" y=\"-230.3\" font-family=\"Courier,monospace\" font-size=\"14.00\" fill=\"#008040\">&quot;approx&quot;</text>\n",
       "</g>\n",
       "<!-- 23&#45;&#45;24 -->\n",
       "<g id=\"edge24\" class=\"edge\">\n",
       "<title>23--24</title>\n",
       "<path fill=\"none\" stroke=\"black\" d=\"M682,-287C682,-287 652.29,-267.19 629.54,-252.03\"/>\n",
       "</g>\n",
       "<!-- 25 -->\n",
       "<g id=\"node26\" class=\"node\">\n",
       "<title>25</title>\n",
       "<text text-anchor=\"middle\" x=\"691\" y=\"-230.3\" font-family=\"Courier,monospace\" font-size=\"14.00\" fill=\"#008040\">Load</text>\n",
       "</g>\n",
       "<!-- 23&#45;&#45;25 -->\n",
       "<g id=\"edge25\" class=\"edge\">\n",
       "<title>23--25</title>\n",
       "<path fill=\"none\" stroke=\"black\" d=\"M682,-287C682,-287 685.43,-267.19 688.05,-252.03\"/>\n",
       "</g>\n",
       "<!-- 28 -->\n",
       "<g id=\"node29\" class=\"node\">\n",
       "<title>28</title>\n",
       "<text text-anchor=\"middle\" x=\"773\" y=\"-230.3\" font-family=\"Courier,monospace\" font-size=\"14.00\" fill=\"#008040\">&quot;guess&quot;</text>\n",
       "</g>\n",
       "<!-- 27&#45;&#45;28 -->\n",
       "<g id=\"edge28\" class=\"edge\">\n",
       "<title>27--28</title>\n",
       "<path fill=\"none\" stroke=\"black\" d=\"M841,-287C841,-287 815.1,-267.19 795.27,-252.03\"/>\n",
       "</g>\n",
       "<!-- 29 -->\n",
       "<g id=\"node30\" class=\"node\">\n",
       "<title>29</title>\n",
       "<text text-anchor=\"middle\" x=\"855\" y=\"-230.3\" font-family=\"Courier,monospace\" font-size=\"14.00\" fill=\"#008040\">Load</text>\n",
       "</g>\n",
       "<!-- 27&#45;&#45;29 -->\n",
       "<g id=\"edge29\" class=\"edge\">\n",
       "<title>27--29</title>\n",
       "<path fill=\"none\" stroke=\"black\" d=\"M841,-287C841,-287 846.33,-267.19 850.42,-252.03\"/>\n",
       "</g>\n",
       "<!-- 31 -->\n",
       "<g id=\"node32\" class=\"node\">\n",
       "<title>31</title>\n",
       "<text text-anchor=\"start\" x=\"970\" y=\"-303.3\" font-family=\"Courier,monospace\" font-weight=\"bold\" font-size=\"14.00\" fill=\"#004080\">Name</text>\n",
       "</g>\n",
       "<!-- 30&#45;&#45;31 -->\n",
       "<g id=\"edge31\" class=\"edge\">\n",
       "<title>30--31</title>\n",
       "<path fill=\"none\" stroke=\"black\" d=\"M998,-359C998,-359 993.81,-339.19 990.6,-324.03\"/>\n",
       "</g>\n",
       "<!-- 34 -->\n",
       "<g id=\"node35\" class=\"node\">\n",
       "<title>34</title>\n",
       "<text text-anchor=\"start\" x=\"1098\" y=\"-303.3\" font-family=\"Courier,monospace\" font-weight=\"bold\" font-size=\"14.00\" fill=\"#004080\">Name</text>\n",
       "</g>\n",
       "<!-- 30&#45;&#45;34 -->\n",
       "<g id=\"edge34\" class=\"edge\">\n",
       "<title>30--34</title>\n",
       "<path fill=\"none\" stroke=\"black\" d=\"M998,-359C998,-359 1053.3,-334.42 1087.86,-319.06\"/>\n",
       "</g>\n",
       "<!-- 32 -->\n",
       "<g id=\"node33\" class=\"node\">\n",
       "<title>32</title>\n",
       "<text text-anchor=\"middle\" x=\"942\" y=\"-230.3\" font-family=\"Courier,monospace\" font-size=\"14.00\" fill=\"#008040\">&quot;approx&quot;</text>\n",
       "</g>\n",
       "<!-- 31&#45;&#45;32 -->\n",
       "<g id=\"edge32\" class=\"edge\">\n",
       "<title>31--32</title>\n",
       "<path fill=\"none\" stroke=\"black\" d=\"M987,-287C987,-287 969.86,-267.19 956.73,-252.03\"/>\n",
       "</g>\n",
       "<!-- 33 -->\n",
       "<g id=\"node34\" class=\"node\">\n",
       "<title>33</title>\n",
       "<text text-anchor=\"middle\" x=\"1031\" y=\"-230.3\" font-family=\"Courier,monospace\" font-size=\"14.00\" fill=\"#008040\">Store</text>\n",
       "</g>\n",
       "<!-- 31&#45;&#45;33 -->\n",
       "<g id=\"edge33\" class=\"edge\">\n",
       "<title>31--33</title>\n",
       "<path fill=\"none\" stroke=\"black\" d=\"M987,-287C987,-287 1003.76,-267.19 1016.59,-252.03\"/>\n",
       "</g>\n",
       "<!-- 35 -->\n",
       "<g id=\"node36\" class=\"node\">\n",
       "<title>35</title>\n",
       "<text text-anchor=\"middle\" x=\"1115\" y=\"-230.3\" font-family=\"Courier,monospace\" font-size=\"14.00\" fill=\"#008040\">&quot;guess&quot;</text>\n",
       "</g>\n",
       "<!-- 34&#45;&#45;35 -->\n",
       "<g id=\"edge35\" class=\"edge\">\n",
       "<title>34--35</title>\n",
       "<path fill=\"none\" stroke=\"black\" d=\"M1123,-287C1123,-287 1119.95,-267.19 1117.62,-252.03\"/>\n",
       "</g>\n",
       "<!-- 36 -->\n",
       "<g id=\"node37\" class=\"node\">\n",
       "<title>36</title>\n",
       "<text text-anchor=\"middle\" x=\"1197\" y=\"-230.3\" font-family=\"Courier,monospace\" font-size=\"14.00\" fill=\"#008040\">Load</text>\n",
       "</g>\n",
       "<!-- 34&#45;&#45;36 -->\n",
       "<g id=\"edge36\" class=\"edge\">\n",
       "<title>34--36</title>\n",
       "<path fill=\"none\" stroke=\"black\" d=\"M1123,-287C1123,-287 1151.19,-267.19 1172.77,-252.03\"/>\n",
       "</g>\n",
       "<!-- 38 -->\n",
       "<g id=\"node39\" class=\"node\">\n",
       "<title>38</title>\n",
       "<text text-anchor=\"start\" x=\"1304\" y=\"-303.3\" font-family=\"Courier,monospace\" font-weight=\"bold\" font-size=\"14.00\" fill=\"#004080\">Name</text>\n",
       "</g>\n",
       "<!-- 37&#45;&#45;38 -->\n",
       "<g id=\"edge38\" class=\"edge\">\n",
       "<title>37--38</title>\n",
       "<path fill=\"none\" stroke=\"black\" d=\"M1331,-359C1331,-359 1327.19,-339.19 1324.27,-324.03\"/>\n",
       "</g>\n",
       "<!-- 41 -->\n",
       "<g id=\"node42\" class=\"node\">\n",
       "<title>41</title>\n",
       "<text text-anchor=\"start\" x=\"1418\" y=\"-303.3\" font-family=\"Courier,monospace\" font-weight=\"bold\" font-size=\"14.00\" fill=\"#004080\">BinOp</text>\n",
       "</g>\n",
       "<!-- 37&#45;&#45;41 -->\n",
       "<g id=\"edge41\" class=\"edge\">\n",
       "<title>37--41</title>\n",
       "<path fill=\"none\" stroke=\"black\" d=\"M1331,-359C1331,-359 1377.79,-336.47 1409.77,-321.07\"/>\n",
       "</g>\n",
       "<!-- 39 -->\n",
       "<g id=\"node40\" class=\"node\">\n",
       "<title>39</title>\n",
       "<text text-anchor=\"middle\" x=\"1279\" y=\"-230.3\" font-family=\"Courier,monospace\" font-size=\"14.00\" fill=\"#008040\">&quot;guess&quot;</text>\n",
       "</g>\n",
       "<!-- 38&#45;&#45;39 -->\n",
       "<g id=\"edge39\" class=\"edge\">\n",
       "<title>38--39</title>\n",
       "<path fill=\"none\" stroke=\"black\" d=\"M1321,-287C1321,-287 1305,-267.19 1292.75,-252.03\"/>\n",
       "</g>\n",
       "<!-- 40 -->\n",
       "<g id=\"node41\" class=\"node\">\n",
       "<title>40</title>\n",
       "<text text-anchor=\"middle\" x=\"1363\" y=\"-230.3\" font-family=\"Courier,monospace\" font-size=\"14.00\" fill=\"#008040\">Store</text>\n",
       "</g>\n",
       "<!-- 38&#45;&#45;40 -->\n",
       "<g id=\"edge40\" class=\"edge\">\n",
       "<title>38--40</title>\n",
       "<path fill=\"none\" stroke=\"black\" d=\"M1321,-287C1321,-287 1337,-267.19 1349.25,-252.03\"/>\n",
       "</g>\n",
       "<!-- 42 -->\n",
       "<g id=\"node43\" class=\"node\">\n",
       "<title>42</title>\n",
       "<text text-anchor=\"start\" x=\"1418\" y=\"-231.3\" font-family=\"Courier,monospace\" font-weight=\"bold\" font-size=\"14.00\" fill=\"#004080\">BinOp</text>\n",
       "</g>\n",
       "<!-- 41&#45;&#45;42 -->\n",
       "<g id=\"edge42\" class=\"edge\">\n",
       "<title>41--42</title>\n",
       "<path fill=\"none\" stroke=\"black\" d=\"M1453,-287C1453,-287 1447.67,-267.19 1443.58,-252.03\"/>\n",
       "</g>\n",
       "<!-- 55 -->\n",
       "<g id=\"node56\" class=\"node\">\n",
       "<title>55</title>\n",
       "<text text-anchor=\"middle\" x=\"1513\" y=\"-230.3\" font-family=\"Courier,monospace\" font-size=\"14.00\" fill=\"#008040\">Div</text>\n",
       "</g>\n",
       "<!-- 41&#45;&#45;55 -->\n",
       "<g id=\"edge55\" class=\"edge\">\n",
       "<title>41--55</title>\n",
       "<path fill=\"none\" stroke=\"black\" d=\"M1453,-287C1453,-287 1475.86,-267.19 1493.35,-252.03\"/>\n",
       "</g>\n",
       "<!-- 56 -->\n",
       "<g id=\"node57\" class=\"node\">\n",
       "<title>56</title>\n",
       "<text text-anchor=\"start\" x=\"1566.5\" y=\"-231.3\" font-family=\"Courier,monospace\" font-weight=\"bold\" font-size=\"14.00\" fill=\"#004080\">Constant</text>\n",
       "</g>\n",
       "<!-- 41&#45;&#45;56 -->\n",
       "<g id=\"edge56\" class=\"edge\">\n",
       "<title>41--56</title>\n",
       "<path fill=\"none\" stroke=\"black\" d=\"M1453,-287C1453,-287 1514.81,-265.14 1558.27,-249.76\"/>\n",
       "</g>\n",
       "<!-- 43 -->\n",
       "<g id=\"node44\" class=\"node\">\n",
       "<title>43</title>\n",
       "<text text-anchor=\"start\" x=\"1350\" y=\"-159.3\" font-family=\"Courier,monospace\" font-weight=\"bold\" font-size=\"14.00\" fill=\"#004080\">Name</text>\n",
       "</g>\n",
       "<!-- 42&#45;&#45;43 -->\n",
       "<g id=\"edge43\" class=\"edge\">\n",
       "<title>42--43</title>\n",
       "<path fill=\"none\" stroke=\"black\" d=\"M1439,-215C1439,-215 1411.57,-195.19 1390.58,-180.03\"/>\n",
       "</g>\n",
       "<!-- 46 -->\n",
       "<g id=\"node47\" class=\"node\">\n",
       "<title>46</title>\n",
       "<text text-anchor=\"middle\" x=\"1439\" y=\"-158.3\" font-family=\"Courier,monospace\" font-size=\"14.00\" fill=\"#008040\">Add</text>\n",
       "</g>\n",
       "<!-- 42&#45;&#45;46 -->\n",
       "<g id=\"edge46\" class=\"edge\">\n",
       "<title>42--46</title>\n",
       "<path fill=\"none\" stroke=\"black\" d=\"M1439,-215C1439,-215 1439,-195.19 1439,-180.03\"/>\n",
       "</g>\n",
       "<!-- 47 -->\n",
       "<g id=\"node48\" class=\"node\">\n",
       "<title>47</title>\n",
       "<text text-anchor=\"start\" x=\"1492\" y=\"-159.3\" font-family=\"Courier,monospace\" font-weight=\"bold\" font-size=\"14.00\" fill=\"#004080\">BinOp</text>\n",
       "</g>\n",
       "<!-- 42&#45;&#45;47 -->\n",
       "<g id=\"edge47\" class=\"edge\">\n",
       "<title>42--47</title>\n",
       "<path fill=\"none\" stroke=\"black\" d=\"M1439,-215C1439,-215 1467.19,-195.19 1488.77,-180.03\"/>\n",
       "</g>\n",
       "<!-- 44 -->\n",
       "<g id=\"node45\" class=\"node\">\n",
       "<title>44</title>\n",
       "<text text-anchor=\"middle\" x=\"1281\" y=\"-86.3\" font-family=\"Courier,monospace\" font-size=\"14.00\" fill=\"#008040\">&quot;approx&quot;</text>\n",
       "</g>\n",
       "<!-- 43&#45;&#45;44 -->\n",
       "<g id=\"edge44\" class=\"edge\">\n",
       "<title>43--44</title>\n",
       "<path fill=\"none\" stroke=\"black\" d=\"M1359,-143C1359,-143 1329.29,-123.19 1306.54,-108.03\"/>\n",
       "</g>\n",
       "<!-- 45 -->\n",
       "<g id=\"node46\" class=\"node\">\n",
       "<title>45</title>\n",
       "<text text-anchor=\"middle\" x=\"1368\" y=\"-86.3\" font-family=\"Courier,monospace\" font-size=\"14.00\" fill=\"#008040\">Load</text>\n",
       "</g>\n",
       "<!-- 43&#45;&#45;45 -->\n",
       "<g id=\"edge45\" class=\"edge\">\n",
       "<title>43--45</title>\n",
       "<path fill=\"none\" stroke=\"black\" d=\"M1359,-143C1359,-143 1362.43,-123.19 1365.05,-108.03\"/>\n",
       "</g>\n",
       "<!-- 48 -->\n",
       "<g id=\"node49\" class=\"node\">\n",
       "<title>48</title>\n",
       "<text text-anchor=\"start\" x=\"1424\" y=\"-87.3\" font-family=\"Courier,monospace\" font-weight=\"bold\" font-size=\"14.00\" fill=\"#004080\">Name</text>\n",
       "</g>\n",
       "<!-- 47&#45;&#45;48 -->\n",
       "<g id=\"edge48\" class=\"edge\">\n",
       "<title>47--48</title>\n",
       "<path fill=\"none\" stroke=\"black\" d=\"M1513,-143C1513,-143 1485.57,-123.19 1464.58,-108.03\"/>\n",
       "</g>\n",
       "<!-- 51 -->\n",
       "<g id=\"node52\" class=\"node\">\n",
       "<title>51</title>\n",
       "<text text-anchor=\"middle\" x=\"1513\" y=\"-86.3\" font-family=\"Courier,monospace\" font-size=\"14.00\" fill=\"#008040\">Div</text>\n",
       "</g>\n",
       "<!-- 47&#45;&#45;51 -->\n",
       "<g id=\"edge51\" class=\"edge\">\n",
       "<title>47--51</title>\n",
       "<path fill=\"none\" stroke=\"black\" d=\"M1513,-143C1513,-143 1513,-123.19 1513,-108.03\"/>\n",
       "</g>\n",
       "<!-- 52 -->\n",
       "<g id=\"node53\" class=\"node\">\n",
       "<title>52</title>\n",
       "<text text-anchor=\"start\" x=\"1568\" y=\"-87.3\" font-family=\"Courier,monospace\" font-weight=\"bold\" font-size=\"14.00\" fill=\"#004080\">Name</text>\n",
       "</g>\n",
       "<!-- 47&#45;&#45;52 -->\n",
       "<g id=\"edge52\" class=\"edge\">\n",
       "<title>47--52</title>\n",
       "<path fill=\"none\" stroke=\"black\" d=\"M1513,-143C1513,-143 1540.43,-123.19 1561.42,-108.03\"/>\n",
       "</g>\n",
       "<!-- 49 -->\n",
       "<g id=\"node50\" class=\"node\">\n",
       "<title>49</title>\n",
       "<text text-anchor=\"middle\" x=\"1384\" y=\"-14.3\" font-family=\"Courier,monospace\" font-size=\"14.00\" fill=\"#008040\">&quot;x&quot;</text>\n",
       "</g>\n",
       "<!-- 48&#45;&#45;49 -->\n",
       "<g id=\"edge49\" class=\"edge\">\n",
       "<title>48--49</title>\n",
       "<path fill=\"none\" stroke=\"black\" d=\"M1437,-71C1437,-71 1416.81,-51.19 1401.35,-36.03\"/>\n",
       "</g>\n",
       "<!-- 50 -->\n",
       "<g id=\"node51\" class=\"node\">\n",
       "<title>50</title>\n",
       "<text text-anchor=\"middle\" x=\"1456\" y=\"-14.3\" font-family=\"Courier,monospace\" font-size=\"14.00\" fill=\"#008040\">Load</text>\n",
       "</g>\n",
       "<!-- 48&#45;&#45;50 -->\n",
       "<g id=\"edge50\" class=\"edge\">\n",
       "<title>48--50</title>\n",
       "<path fill=\"none\" stroke=\"black\" d=\"M1437,-71C1437,-71 1444.24,-51.19 1449.78,-36.03\"/>\n",
       "</g>\n",
       "<!-- 53 -->\n",
       "<g id=\"node54\" class=\"node\">\n",
       "<title>53</title>\n",
       "<text text-anchor=\"middle\" x=\"1571\" y=\"-14.3\" font-family=\"Courier,monospace\" font-size=\"14.00\" fill=\"#008040\">&quot;approx&quot;</text>\n",
       "</g>\n",
       "<!-- 52&#45;&#45;53 -->\n",
       "<g id=\"edge53\" class=\"edge\">\n",
       "<title>52--53</title>\n",
       "<path fill=\"none\" stroke=\"black\" d=\"M1591,-71C1591,-71 1583.38,-51.19 1577.55,-36.03\"/>\n",
       "</g>\n",
       "<!-- 54 -->\n",
       "<g id=\"node55\" class=\"node\">\n",
       "<title>54</title>\n",
       "<text text-anchor=\"middle\" x=\"1658\" y=\"-14.3\" font-family=\"Courier,monospace\" font-size=\"14.00\" fill=\"#008040\">Load</text>\n",
       "</g>\n",
       "<!-- 52&#45;&#45;54 -->\n",
       "<g id=\"edge54\" class=\"edge\">\n",
       "<title>52--54</title>\n",
       "<path fill=\"none\" stroke=\"black\" d=\"M1591,-71C1591,-71 1616.52,-51.19 1636.06,-36.03\"/>\n",
       "</g>\n",
       "<!-- 57 -->\n",
       "<g id=\"node58\" class=\"node\">\n",
       "<title>57</title>\n",
       "<text text-anchor=\"middle\" x=\"1600\" y=\"-158.3\" font-family=\"Courier,monospace\" font-size=\"14.00\" fill=\"#008040\">2</text>\n",
       "</g>\n",
       "<!-- 56&#45;&#45;57 -->\n",
       "<g id=\"edge57\" class=\"edge\">\n",
       "<title>56--57</title>\n",
       "<path fill=\"none\" stroke=\"black\" d=\"M1600,-215.7C1600,-204.85 1600,-190.92 1600,-180.1\"/>\n",
       "</g>\n",
       "<!-- 59 -->\n",
       "<g id=\"node60\" class=\"node\">\n",
       "<title>59</title>\n",
       "<text text-anchor=\"start\" x=\"1511\" y=\"-375.3\" font-family=\"Courier,monospace\" font-weight=\"bold\" font-size=\"14.00\" fill=\"#004080\">Name</text>\n",
       "</g>\n",
       "<!-- 58&#45;&#45;59 -->\n",
       "<g id=\"edge59\" class=\"edge\">\n",
       "<title>58--59</title>\n",
       "<path fill=\"none\" stroke=\"black\" d=\"M1381.01,-436.16C1415.42,-422.78 1468.7,-402.06 1500.78,-389.59\"/>\n",
       "</g>\n",
       "<!-- 60 -->\n",
       "<g id=\"node61\" class=\"node\">\n",
       "<title>60</title>\n",
       "<text text-anchor=\"middle\" x=\"1528\" y=\"-302.3\" font-family=\"Courier,monospace\" font-size=\"14.00\" fill=\"#008040\">&quot;approx&quot;</text>\n",
       "</g>\n",
       "<!-- 59&#45;&#45;60 -->\n",
       "<g id=\"edge60\" class=\"edge\">\n",
       "<title>59--60</title>\n",
       "<path fill=\"none\" stroke=\"black\" d=\"M1537,-359C1537,-359 1533.57,-339.19 1530.95,-324.03\"/>\n",
       "</g>\n",
       "<!-- 61 -->\n",
       "<g id=\"node62\" class=\"node\">\n",
       "<title>61</title>\n",
       "<text text-anchor=\"middle\" x=\"1615\" y=\"-302.3\" font-family=\"Courier,monospace\" font-size=\"14.00\" fill=\"#008040\">Load</text>\n",
       "</g>\n",
       "<!-- 59&#45;&#45;61 -->\n",
       "<g id=\"edge61\" class=\"edge\">\n",
       "<title>59--61</title>\n",
       "<path fill=\"none\" stroke=\"black\" d=\"M1537,-359C1537,-359 1566.71,-339.19 1589.46,-324.03\"/>\n",
       "</g>\n",
       "</g>\n",
       "</svg>"
      ],
      "text/plain": [
       "<IPython.core.display.SVG object>"
      ]
     },
     "metadata": {},
     "output_type": "display_data"
    }
   ],
   "source": [
    "if rich_output():\n",
    "    import showast\n",
    "    showast.show_ast(my_sqrt_ast)"
   ]
  },
  {
   "cell_type": "markdown",
   "metadata": {
    "slideshow": {
     "slide_type": "fragment"
    }
   },
   "source": [
    "The function `ast.unparse()` converts such a tree back into the more familiar textual Python code representation.  Comments are gone, and there may be more parentheses than before, but the result has the same semantics:"
   ]
  },
  {
   "cell_type": "code",
   "execution_count": 56,
   "metadata": {
    "execution": {
     "iopub.execute_input": "2022-11-12T07:33:48.556042Z",
     "iopub.status.busy": "2022-11-12T07:33:48.555673Z",
     "iopub.status.idle": "2022-11-12T07:33:48.557067Z",
     "shell.execute_reply": "2022-11-12T07:33:48.557283Z"
    },
    "slideshow": {
     "slide_type": "subslide"
    }
   },
   "outputs": [
    {
     "name": "stdout",
     "output_type": "stream",
     "text": [
      "\u001b[34mdef\u001b[39;49;00m \u001b[32mmy_sqrt\u001b[39;49;00m(x):\n",
      "    \u001b[33m\"\"\"Computes the square root of x, using the Newton-Raphson method\"\"\"\u001b[39;49;00m\n",
      "    approx = \u001b[34mNone\u001b[39;49;00m\n",
      "    guess = x / \u001b[34m2\u001b[39;49;00m\n",
      "    \u001b[34mwhile\u001b[39;49;00m approx != guess:\n",
      "        approx = guess\n",
      "        guess = (approx + x / approx) / \u001b[34m2\u001b[39;49;00m\n",
      "    \u001b[34mreturn\u001b[39;49;00m approx"
     ]
    }
   ],
   "source": [
    "print_content(ast.unparse(my_sqrt_ast), '.py')"
   ]
  },
  {
   "cell_type": "markdown",
   "metadata": {
    "slideshow": {
     "slide_type": "subslide"
    }
   },
   "source": [
    "### Annotating Functions with Given Types\n",
    "\n",
    "Let us now go and transform these trees ti add type annotations.  We start with a helper function `parse_type(name)` which  parses a type name into an AST."
   ]
  },
  {
   "cell_type": "code",
   "execution_count": 57,
   "metadata": {
    "execution": {
     "iopub.execute_input": "2022-11-12T07:33:48.559727Z",
     "iopub.status.busy": "2022-11-12T07:33:48.559398Z",
     "iopub.status.idle": "2022-11-12T07:33:48.560918Z",
     "shell.execute_reply": "2022-11-12T07:33:48.561195Z"
    },
    "slideshow": {
     "slide_type": "fragment"
    }
   },
   "outputs": [],
   "source": [
    "def parse_type(name):\n",
    "    class ValueVisitor(ast.NodeVisitor):\n",
    "        def visit_Expr(self, node):\n",
    "            self.value_node = node.value\n",
    "\n",
    "    tree = ast.parse(name)\n",
    "    name_visitor = ValueVisitor()\n",
    "    name_visitor.visit(tree)\n",
    "    return name_visitor.value_node"
   ]
  },
  {
   "cell_type": "code",
   "execution_count": 58,
   "metadata": {
    "execution": {
     "iopub.execute_input": "2022-11-12T07:33:48.563240Z",
     "iopub.status.busy": "2022-11-12T07:33:48.562905Z",
     "iopub.status.idle": "2022-11-12T07:33:48.564465Z",
     "shell.execute_reply": "2022-11-12T07:33:48.564692Z"
    },
    "slideshow": {
     "slide_type": "subslide"
    }
   },
   "outputs": [
    {
     "name": "stdout",
     "output_type": "stream",
     "text": [
      "Name(id='int', ctx=Load())\n"
     ]
    }
   ],
   "source": [
    "print(ast.dump(parse_type('int')))"
   ]
  },
  {
   "cell_type": "code",
   "execution_count": 59,
   "metadata": {
    "execution": {
     "iopub.execute_input": "2022-11-12T07:33:48.566797Z",
     "iopub.status.busy": "2022-11-12T07:33:48.566412Z",
     "iopub.status.idle": "2022-11-12T07:33:48.567833Z",
     "shell.execute_reply": "2022-11-12T07:33:48.568058Z"
    },
    "slideshow": {
     "slide_type": "fragment"
    }
   },
   "outputs": [
    {
     "name": "stdout",
     "output_type": "stream",
     "text": [
      "List(elts=[Name(id='object', ctx=Load())], ctx=Load())\n"
     ]
    }
   ],
   "source": [
    "print(ast.dump(parse_type('[object]')))"
   ]
  },
  {
   "cell_type": "markdown",
   "metadata": {
    "slideshow": {
     "slide_type": "subslide"
    }
   },
   "source": [
    "We now define a helper function that actually adds type annotations to a function AST.  The `TypeTransformer` class builds on the Python standard library `ast.NodeTransformer` infrastructure.  It would be called as\n",
    "\n",
    "```python\n",
    "    TypeTransformer({'x': 'int'}, 'float').visit(ast)\n",
    "```\n",
    "\n",
    "to annotate the arguments of `my_sqrt()`: `x` with `int`, and the return type with `float`.  The returned AST can then be unparsed, compiled or analyzed."
   ]
  },
  {
   "cell_type": "code",
   "execution_count": 60,
   "metadata": {
    "execution": {
     "iopub.execute_input": "2022-11-12T07:33:48.570329Z",
     "iopub.status.busy": "2022-11-12T07:33:48.569996Z",
     "iopub.status.idle": "2022-11-12T07:33:48.571256Z",
     "shell.execute_reply": "2022-11-12T07:33:48.571490Z"
    },
    "slideshow": {
     "slide_type": "subslide"
    }
   },
   "outputs": [],
   "source": [
    "class TypeTransformer(ast.NodeTransformer):\n",
    "    def __init__(self, argument_types, return_type=None):\n",
    "        self.argument_types = argument_types\n",
    "        self.return_type = return_type\n",
    "        super().__init__()"
   ]
  },
  {
   "cell_type": "markdown",
   "metadata": {
    "slideshow": {
     "slide_type": "fragment"
    }
   },
   "source": [
    "The core of `TypeTransformer` is the method `visit_FunctionDef()`, which is called for every function definition in the AST.  Its argument `node` is the subtree of the function definition to be transformed.  Our implementation accesses the individual arguments and invokes `annotate_args()` on them; it also sets the return type in the `returns` attribute of the node."
   ]
  },
  {
   "cell_type": "code",
   "execution_count": 61,
   "metadata": {
    "execution": {
     "iopub.execute_input": "2022-11-12T07:33:48.574687Z",
     "iopub.status.busy": "2022-11-12T07:33:48.574360Z",
     "iopub.status.idle": "2022-11-12T07:33:48.575602Z",
     "shell.execute_reply": "2022-11-12T07:33:48.575883Z"
    },
    "slideshow": {
     "slide_type": "subslide"
    }
   },
   "outputs": [],
   "source": [
    "class TypeTransformer(TypeTransformer):\n",
    "    def visit_FunctionDef(self, node):\n",
    "        \"\"\"Add annotation to function\"\"\"\n",
    "        # Set argument types\n",
    "        new_args = []\n",
    "        for arg in node.args.args:\n",
    "            new_args.append(self.annotate_arg(arg))\n",
    "\n",
    "        new_arguments = ast.arguments(\n",
    "            node.args.posonlyargs,\n",
    "            new_args,\n",
    "            node.args.vararg,\n",
    "            node.args.kwonlyargs,\n",
    "            node.args.kw_defaults,\n",
    "            node.args.kwarg,\n",
    "            node.args.defaults\n",
    "        )\n",
    "\n",
    "        # Set return type\n",
    "        if self.return_type is not None:\n",
    "            node.returns = parse_type(self.return_type)\n",
    "\n",
    "        return ast.copy_location(\n",
    "            ast.FunctionDef(node.name, new_arguments, \n",
    "                            node.body, node.decorator_list,\n",
    "                            node.returns), node)"
   ]
  },
  {
   "cell_type": "markdown",
   "metadata": {
    "slideshow": {
     "slide_type": "subslide"
    }
   },
   "source": [
    "Each argument gets its own annotation, taken from the types originally passed to the class:"
   ]
  },
  {
   "cell_type": "code",
   "execution_count": 62,
   "metadata": {
    "execution": {
     "iopub.execute_input": "2022-11-12T07:33:48.578363Z",
     "iopub.status.busy": "2022-11-12T07:33:48.578030Z",
     "iopub.status.idle": "2022-11-12T07:33:48.579248Z",
     "shell.execute_reply": "2022-11-12T07:33:48.579468Z"
    },
    "slideshow": {
     "slide_type": "fragment"
    }
   },
   "outputs": [],
   "source": [
    "class TypeTransformer(TypeTransformer):\n",
    "    def annotate_arg(self, arg):\n",
    "        \"\"\"Add annotation to single function argument\"\"\"\n",
    "        arg_name = arg.arg\n",
    "        if arg_name in self.argument_types:\n",
    "            arg.annotation = parse_type(self.argument_types[arg_name])\n",
    "        return arg"
   ]
  },
  {
   "cell_type": "markdown",
   "metadata": {
    "slideshow": {
     "slide_type": "fragment"
    }
   },
   "source": [
    "Does this work?  Let us annotate the AST from `my_sqrt()` with types for the arguments and return types:"
   ]
  },
  {
   "cell_type": "code",
   "execution_count": 63,
   "metadata": {
    "execution": {
     "iopub.execute_input": "2022-11-12T07:33:48.581596Z",
     "iopub.status.busy": "2022-11-12T07:33:48.581265Z",
     "iopub.status.idle": "2022-11-12T07:33:48.582509Z",
     "shell.execute_reply": "2022-11-12T07:33:48.582727Z"
    },
    "slideshow": {
     "slide_type": "fragment"
    }
   },
   "outputs": [],
   "source": [
    "new_ast = TypeTransformer({'x': 'int'}, 'float').visit(my_sqrt_ast)"
   ]
  },
  {
   "cell_type": "markdown",
   "metadata": {
    "slideshow": {
     "slide_type": "fragment"
    }
   },
   "source": [
    "When we unparse the new AST, we see that the annotations actually are present:"
   ]
  },
  {
   "cell_type": "code",
   "execution_count": 64,
   "metadata": {
    "execution": {
     "iopub.execute_input": "2022-11-12T07:33:48.587440Z",
     "iopub.status.busy": "2022-11-12T07:33:48.587095Z",
     "iopub.status.idle": "2022-11-12T07:33:48.588682Z",
     "shell.execute_reply": "2022-11-12T07:33:48.588959Z"
    },
    "slideshow": {
     "slide_type": "subslide"
    }
   },
   "outputs": [
    {
     "name": "stdout",
     "output_type": "stream",
     "text": [
      "\u001b[34mdef\u001b[39;49;00m \u001b[32mmy_sqrt\u001b[39;49;00m(x: \u001b[36mint\u001b[39;49;00m) -> \u001b[36mfloat\u001b[39;49;00m:\n",
      "    \u001b[33m\"\"\"Computes the square root of x, using the Newton-Raphson method\"\"\"\u001b[39;49;00m\n",
      "    approx = \u001b[34mNone\u001b[39;49;00m\n",
      "    guess = x / \u001b[34m2\u001b[39;49;00m\n",
      "    \u001b[34mwhile\u001b[39;49;00m approx != guess:\n",
      "        approx = guess\n",
      "        guess = (approx + x / approx) / \u001b[34m2\u001b[39;49;00m\n",
      "    \u001b[34mreturn\u001b[39;49;00m approx"
     ]
    }
   ],
   "source": [
    "print_content(ast.unparse(new_ast), '.py')"
   ]
  },
  {
   "cell_type": "markdown",
   "metadata": {
    "slideshow": {
     "slide_type": "fragment"
    }
   },
   "source": [
    "Similarly, we can annotate the `hello()` function from above:"
   ]
  },
  {
   "cell_type": "code",
   "execution_count": 65,
   "metadata": {
    "execution": {
     "iopub.execute_input": "2022-11-12T07:33:48.590794Z",
     "iopub.status.busy": "2022-11-12T07:33:48.590457Z",
     "iopub.status.idle": "2022-11-12T07:33:48.591978Z",
     "shell.execute_reply": "2022-11-12T07:33:48.592207Z"
    },
    "slideshow": {
     "slide_type": "fragment"
    }
   },
   "outputs": [],
   "source": [
    "hello_source = inspect.getsource(hello)"
   ]
  },
  {
   "cell_type": "code",
   "execution_count": 66,
   "metadata": {
    "execution": {
     "iopub.execute_input": "2022-11-12T07:33:48.594073Z",
     "iopub.status.busy": "2022-11-12T07:33:48.593730Z",
     "iopub.status.idle": "2022-11-12T07:33:48.595132Z",
     "shell.execute_reply": "2022-11-12T07:33:48.595342Z"
    },
    "slideshow": {
     "slide_type": "fragment"
    }
   },
   "outputs": [],
   "source": [
    "hello_ast = ast.parse(hello_source)"
   ]
  },
  {
   "cell_type": "code",
   "execution_count": 67,
   "metadata": {
    "execution": {
     "iopub.execute_input": "2022-11-12T07:33:48.597452Z",
     "iopub.status.busy": "2022-11-12T07:33:48.597110Z",
     "iopub.status.idle": "2022-11-12T07:33:48.598193Z",
     "shell.execute_reply": "2022-11-12T07:33:48.598456Z"
    },
    "slideshow": {
     "slide_type": "fragment"
    }
   },
   "outputs": [],
   "source": [
    "new_ast = TypeTransformer({'name': 'str'}, 'None').visit(hello_ast)"
   ]
  },
  {
   "cell_type": "code",
   "execution_count": 68,
   "metadata": {
    "execution": {
     "iopub.execute_input": "2022-11-12T07:33:48.603019Z",
     "iopub.status.busy": "2022-11-12T07:33:48.602621Z",
     "iopub.status.idle": "2022-11-12T07:33:48.603884Z",
     "shell.execute_reply": "2022-11-12T07:33:48.604156Z"
    },
    "slideshow": {
     "slide_type": "subslide"
    }
   },
   "outputs": [
    {
     "name": "stdout",
     "output_type": "stream",
     "text": [
      "\u001b[34mdef\u001b[39;49;00m \u001b[32mhello\u001b[39;49;00m(name: \u001b[36mstr\u001b[39;49;00m) -> \u001b[34mNone\u001b[39;49;00m:\n",
      "    \u001b[36mprint\u001b[39;49;00m(\u001b[33m'\u001b[39;49;00m\u001b[33mHello,\u001b[39;49;00m\u001b[33m'\u001b[39;49;00m, name)"
     ]
    }
   ],
   "source": [
    "print_content(ast.unparse(new_ast), '.py')"
   ]
  },
  {
   "cell_type": "markdown",
   "metadata": {
    "slideshow": {
     "slide_type": "subslide"
    }
   },
   "source": [
    "### Annotating Functions with Mined Types\n",
    "\n",
    "Let us now annotate functions with types mined at runtime. We start with a simple function `type_string()` that determines \n",
    "the appropriate type of a given value (as a string):"
   ]
  },
  {
   "cell_type": "code",
   "execution_count": 69,
   "metadata": {
    "execution": {
     "iopub.execute_input": "2022-11-12T07:33:48.606120Z",
     "iopub.status.busy": "2022-11-12T07:33:48.605788Z",
     "iopub.status.idle": "2022-11-12T07:33:48.607011Z",
     "shell.execute_reply": "2022-11-12T07:33:48.607238Z"
    },
    "slideshow": {
     "slide_type": "fragment"
    }
   },
   "outputs": [],
   "source": [
    "def type_string(value):\n",
    "    return type(value).__name__"
   ]
  },
  {
   "cell_type": "code",
   "execution_count": 70,
   "metadata": {
    "execution": {
     "iopub.execute_input": "2022-11-12T07:33:48.609329Z",
     "iopub.status.busy": "2022-11-12T07:33:48.608939Z",
     "iopub.status.idle": "2022-11-12T07:33:48.610552Z",
     "shell.execute_reply": "2022-11-12T07:33:48.610769Z"
    },
    "slideshow": {
     "slide_type": "fragment"
    }
   },
   "outputs": [
    {
     "data": {
      "text/plain": [
       "'int'"
      ]
     },
     "execution_count": 70,
     "metadata": {},
     "output_type": "execute_result"
    }
   ],
   "source": [
    "type_string(4)"
   ]
  },
  {
   "cell_type": "code",
   "execution_count": 71,
   "metadata": {
    "execution": {
     "iopub.execute_input": "2022-11-12T07:33:48.612889Z",
     "iopub.status.busy": "2022-11-12T07:33:48.612479Z",
     "iopub.status.idle": "2022-11-12T07:33:48.614105Z",
     "shell.execute_reply": "2022-11-12T07:33:48.614320Z"
    },
    "slideshow": {
     "slide_type": "fragment"
    }
   },
   "outputs": [
    {
     "data": {
      "text/plain": [
       "'list'"
      ]
     },
     "execution_count": 71,
     "metadata": {},
     "output_type": "execute_result"
    }
   ],
   "source": [
    "type_string([])"
   ]
  },
  {
   "cell_type": "markdown",
   "metadata": {
    "slideshow": {
     "slide_type": "subslide"
    }
   },
   "source": [
    "For composite structures, `type_string()` does not examine element types; hence, the type of `[3]` is simply `list` instead of, say, `list[int]`.  For now, `list` will do fine."
   ]
  },
  {
   "cell_type": "code",
   "execution_count": 72,
   "metadata": {
    "execution": {
     "iopub.execute_input": "2022-11-12T07:33:48.616433Z",
     "iopub.status.busy": "2022-11-12T07:33:48.616068Z",
     "iopub.status.idle": "2022-11-12T07:33:48.617561Z",
     "shell.execute_reply": "2022-11-12T07:33:48.617829Z"
    },
    "slideshow": {
     "slide_type": "fragment"
    }
   },
   "outputs": [
    {
     "data": {
      "text/plain": [
       "'list'"
      ]
     },
     "execution_count": 72,
     "metadata": {},
     "output_type": "execute_result"
    }
   ],
   "source": [
    "type_string([3])"
   ]
  },
  {
   "cell_type": "markdown",
   "metadata": {
    "slideshow": {
     "slide_type": "fragment"
    }
   },
   "source": [
    "`type_string()` will be used to infer the types of argument values found at runtime, as returned by `CallTracker.calls()`:"
   ]
  },
  {
   "cell_type": "code",
   "execution_count": 73,
   "metadata": {
    "button": false,
    "execution": {
     "iopub.execute_input": "2022-11-12T07:33:48.619871Z",
     "iopub.status.busy": "2022-11-12T07:33:48.619528Z",
     "iopub.status.idle": "2022-11-12T07:33:48.620869Z",
     "shell.execute_reply": "2022-11-12T07:33:48.621103Z"
    },
    "new_sheet": false,
    "run_control": {
     "read_only": false
    },
    "slideshow": {
     "slide_type": "skip"
    }
   },
   "outputs": [],
   "source": [
    "with CallTracker() as tracker:\n",
    "    y = my_sqrt(25.0)\n",
    "    y = my_sqrt(2.0)"
   ]
  },
  {
   "cell_type": "code",
   "execution_count": 74,
   "metadata": {
    "button": false,
    "code_folding": [],
    "execution": {
     "iopub.execute_input": "2022-11-12T07:33:48.623391Z",
     "iopub.status.busy": "2022-11-12T07:33:48.623017Z",
     "iopub.status.idle": "2022-11-12T07:33:48.624556Z",
     "shell.execute_reply": "2022-11-12T07:33:48.624831Z"
    },
    "new_sheet": false,
    "run_control": {
     "read_only": false
    },
    "slideshow": {
     "slide_type": "subslide"
    }
   },
   "outputs": [
    {
     "data": {
      "text/plain": [
       "{'my_sqrt': [([('x', 25.0)], 5.0), ([('x', 2.0)], 1.414213562373095)]}"
      ]
     },
     "execution_count": 74,
     "metadata": {},
     "output_type": "execute_result"
    }
   ],
   "source": [
    "tracker.calls()"
   ]
  },
  {
   "cell_type": "markdown",
   "metadata": {
    "slideshow": {
     "slide_type": "fragment"
    }
   },
   "source": [
    "The function `annotate_types()` takes such a list of calls and annotates each function listed:"
   ]
  },
  {
   "cell_type": "code",
   "execution_count": 75,
   "metadata": {
    "execution": {
     "iopub.execute_input": "2022-11-12T07:33:48.627291Z",
     "iopub.status.busy": "2022-11-12T07:33:48.626961Z",
     "iopub.status.idle": "2022-11-12T07:33:48.628157Z",
     "shell.execute_reply": "2022-11-12T07:33:48.628371Z"
    },
    "slideshow": {
     "slide_type": "subslide"
    }
   },
   "outputs": [],
   "source": [
    "def annotate_types(calls):\n",
    "    annotated_functions = {}\n",
    "    \n",
    "    for function_name in calls:\n",
    "        try:\n",
    "            annotated_functions[function_name] = annotate_function_with_types(function_name, calls[function_name])\n",
    "        except KeyError:\n",
    "            continue\n",
    "\n",
    "    return annotated_functions"
   ]
  },
  {
   "cell_type": "markdown",
   "metadata": {
    "slideshow": {
     "slide_type": "fragment"
    }
   },
   "source": [
    "For each function, we get the source and its AST and then get to the actual annotation in `annotate_function_ast_with_types()`:"
   ]
  },
  {
   "cell_type": "code",
   "execution_count": 76,
   "metadata": {
    "execution": {
     "iopub.execute_input": "2022-11-12T07:33:48.630792Z",
     "iopub.status.busy": "2022-11-12T07:33:48.630454Z",
     "iopub.status.idle": "2022-11-12T07:33:48.631629Z",
     "shell.execute_reply": "2022-11-12T07:33:48.631844Z"
    },
    "slideshow": {
     "slide_type": "subslide"
    }
   },
   "outputs": [],
   "source": [
    "def annotate_function_with_types(function_name, function_calls):\n",
    "    function = globals()[function_name]  # May raise KeyError for internal functions\n",
    "    function_code = inspect.getsource(function)\n",
    "    function_ast = ast.parse(function_code)\n",
    "    return annotate_function_ast_with_types(function_ast, function_calls)"
   ]
  },
  {
   "cell_type": "markdown",
   "metadata": {
    "slideshow": {
     "slide_type": "fragment"
    }
   },
   "source": [
    "The function `annotate_function_ast_with_types()` invokes the `TypeTransformer` with the calls seen, and for each call, iterate over the arguments, determine their types, and annotate the AST with these.  The universal type `Any` is used when we encounter type conflicts, which we will discuss below."
   ]
  },
  {
   "cell_type": "code",
   "execution_count": 77,
   "metadata": {
    "execution": {
     "iopub.execute_input": "2022-11-12T07:33:48.633722Z",
     "iopub.status.busy": "2022-11-12T07:33:48.633393Z",
     "iopub.status.idle": "2022-11-12T07:33:48.634643Z",
     "shell.execute_reply": "2022-11-12T07:33:48.634854Z"
    },
    "slideshow": {
     "slide_type": "skip"
    }
   },
   "outputs": [],
   "source": [
    "from typing import Any"
   ]
  },
  {
   "cell_type": "code",
   "execution_count": 78,
   "metadata": {
    "execution": {
     "iopub.execute_input": "2022-11-12T07:33:48.638101Z",
     "iopub.status.busy": "2022-11-12T07:33:48.637763Z",
     "iopub.status.idle": "2022-11-12T07:33:48.638960Z",
     "shell.execute_reply": "2022-11-12T07:33:48.639181Z"
    },
    "slideshow": {
     "slide_type": "subslide"
    }
   },
   "outputs": [],
   "source": [
    "def annotate_function_ast_with_types(function_ast, function_calls):\n",
    "    parameter_types = {}\n",
    "    return_type = None\n",
    "\n",
    "    for calls_seen in function_calls:\n",
    "        args, return_value = calls_seen\n",
    "        if return_value is not None:\n",
    "            if return_type is not None and return_type != type_string(return_value):\n",
    "                return_type = 'Any'\n",
    "            else:\n",
    "                return_type = type_string(return_value)\n",
    "            \n",
    "            \n",
    "        for parameter, value in args:\n",
    "            try:\n",
    "                different_type = parameter_types[parameter] != type_string(value)\n",
    "            except KeyError:\n",
    "                different_type = False\n",
    "                \n",
    "            if different_type:\n",
    "                parameter_types[parameter] = 'Any'\n",
    "            else:\n",
    "                parameter_types[parameter] = type_string(value)\n",
    "        \n",
    "    annotated_function_ast = TypeTransformer(parameter_types, return_type).visit(function_ast)\n",
    "    return annotated_function_ast"
   ]
  },
  {
   "cell_type": "markdown",
   "metadata": {
    "slideshow": {
     "slide_type": "subslide"
    }
   },
   "source": [
    "Here is `my_sqrt()` annotated with the types recorded usign the tracker, above."
   ]
  },
  {
   "cell_type": "code",
   "execution_count": 79,
   "metadata": {
    "execution": {
     "iopub.execute_input": "2022-11-12T07:33:48.641226Z",
     "iopub.status.busy": "2022-11-12T07:33:48.640854Z",
     "iopub.status.idle": "2022-11-12T07:33:48.645675Z",
     "shell.execute_reply": "2022-11-12T07:33:48.645935Z"
    },
    "slideshow": {
     "slide_type": "fragment"
    }
   },
   "outputs": [
    {
     "name": "stdout",
     "output_type": "stream",
     "text": [
      "\u001b[34mdef\u001b[39;49;00m \u001b[32mmy_sqrt\u001b[39;49;00m(x: \u001b[36mfloat\u001b[39;49;00m) -> \u001b[36mfloat\u001b[39;49;00m:\n",
      "    \u001b[33m\"\"\"Computes the square root of x, using the Newton-Raphson method\"\"\"\u001b[39;49;00m\n",
      "    approx = \u001b[34mNone\u001b[39;49;00m\n",
      "    guess = x / \u001b[34m2\u001b[39;49;00m\n",
      "    \u001b[34mwhile\u001b[39;49;00m approx != guess:\n",
      "        approx = guess\n",
      "        guess = (approx + x / approx) / \u001b[34m2\u001b[39;49;00m\n",
      "    \u001b[34mreturn\u001b[39;49;00m approx"
     ]
    }
   ],
   "source": [
    "print_content(ast.unparse(annotate_types(tracker.calls())['my_sqrt']), '.py')"
   ]
  },
  {
   "cell_type": "markdown",
   "metadata": {
    "slideshow": {
     "slide_type": "subslide"
    }
   },
   "source": [
    "### All-in-one Annotation\n",
    "\n",
    "Let us bring all of this together in a single class `TypeAnnotator` that first tracks calls of functions and then allows to access the AST (and the source code form) of the tracked functions annotated with types.  The method `typed_functions()` returns the annotated functions as a string; `typed_functions_ast()` returns their AST."
   ]
  },
  {
   "cell_type": "code",
   "execution_count": 80,
   "metadata": {
    "execution": {
     "iopub.execute_input": "2022-11-12T07:33:48.647899Z",
     "iopub.status.busy": "2022-11-12T07:33:48.647574Z",
     "iopub.status.idle": "2022-11-12T07:33:48.648887Z",
     "shell.execute_reply": "2022-11-12T07:33:48.649104Z"
    },
    "slideshow": {
     "slide_type": "fragment"
    }
   },
   "outputs": [],
   "source": [
    "class TypeTracker(CallTracker):\n",
    "    pass"
   ]
  },
  {
   "cell_type": "code",
   "execution_count": 81,
   "metadata": {
    "execution": {
     "iopub.execute_input": "2022-11-12T07:33:48.652176Z",
     "iopub.status.busy": "2022-11-12T07:33:48.651819Z",
     "iopub.status.idle": "2022-11-12T07:33:48.653203Z",
     "shell.execute_reply": "2022-11-12T07:33:48.653486Z"
    },
    "slideshow": {
     "slide_type": "subslide"
    }
   },
   "outputs": [],
   "source": [
    "class TypeAnnotator(TypeTracker):\n",
    "    def typed_functions_ast(self, function_name=None):\n",
    "        if function_name is None:\n",
    "            return annotate_types(self.calls())\n",
    "\n",
    "        return annotate_function_with_types(function_name, \n",
    "                                            self.calls(function_name))\n",
    "\n",
    "    def typed_functions(self, function_name=None):\n",
    "        if function_name is None:\n",
    "            functions = ''\n",
    "            for f_name in self.calls():\n",
    "                try:\n",
    "                    f_text = ast.unparse(self.typed_functions_ast(f_name))\n",
    "                except KeyError:\n",
    "                    f_text = ''\n",
    "                functions += f_text\n",
    "            return functions\n",
    "\n",
    "        return ast.unparse(self.typed_functions_ast(function_name))"
   ]
  },
  {
   "cell_type": "markdown",
   "metadata": {
    "slideshow": {
     "slide_type": "subslide"
    }
   },
   "source": [
    "Here is how to use `TypeAnnotator`.  We first track a series of calls:"
   ]
  },
  {
   "cell_type": "code",
   "execution_count": 82,
   "metadata": {
    "execution": {
     "iopub.execute_input": "2022-11-12T07:33:48.655476Z",
     "iopub.status.busy": "2022-11-12T07:33:48.655152Z",
     "iopub.status.idle": "2022-11-12T07:33:48.656620Z",
     "shell.execute_reply": "2022-11-12T07:33:48.656851Z"
    },
    "slideshow": {
     "slide_type": "fragment"
    }
   },
   "outputs": [],
   "source": [
    "with TypeAnnotator() as annotator:\n",
    "    y = my_sqrt(25.0)\n",
    "    y = my_sqrt(2.0)"
   ]
  },
  {
   "cell_type": "markdown",
   "metadata": {
    "slideshow": {
     "slide_type": "fragment"
    }
   },
   "source": [
    "After tracking, we can immediately retrieve an annotated version of the functions tracked:"
   ]
  },
  {
   "cell_type": "code",
   "execution_count": 83,
   "metadata": {
    "execution": {
     "iopub.execute_input": "2022-11-12T07:33:48.662314Z",
     "iopub.status.busy": "2022-11-12T07:33:48.661954Z",
     "iopub.status.idle": "2022-11-12T07:33:48.663387Z",
     "shell.execute_reply": "2022-11-12T07:33:48.663654Z"
    },
    "slideshow": {
     "slide_type": "subslide"
    }
   },
   "outputs": [
    {
     "name": "stdout",
     "output_type": "stream",
     "text": [
      "\u001b[34mdef\u001b[39;49;00m \u001b[32mmy_sqrt\u001b[39;49;00m(x: \u001b[36mfloat\u001b[39;49;00m) -> \u001b[36mfloat\u001b[39;49;00m:\n",
      "    \u001b[33m\"\"\"Computes the square root of x, using the Newton-Raphson method\"\"\"\u001b[39;49;00m\n",
      "    approx = \u001b[34mNone\u001b[39;49;00m\n",
      "    guess = x / \u001b[34m2\u001b[39;49;00m\n",
      "    \u001b[34mwhile\u001b[39;49;00m approx != guess:\n",
      "        approx = guess\n",
      "        guess = (approx + x / approx) / \u001b[34m2\u001b[39;49;00m\n",
      "    \u001b[34mreturn\u001b[39;49;00m approx"
     ]
    }
   ],
   "source": [
    "print_content(annotator.typed_functions(), '.py')"
   ]
  },
  {
   "cell_type": "markdown",
   "metadata": {
    "slideshow": {
     "slide_type": "fragment"
    }
   },
   "source": [
    "This also works for multiple and diverse functions.  One could go and implement an automatic type annotator for Python files based on the types seen during execution."
   ]
  },
  {
   "cell_type": "code",
   "execution_count": 84,
   "metadata": {
    "execution": {
     "iopub.execute_input": "2022-11-12T07:33:48.666241Z",
     "iopub.status.busy": "2022-11-12T07:33:48.665880Z",
     "iopub.status.idle": "2022-11-12T07:33:48.667120Z",
     "shell.execute_reply": "2022-11-12T07:33:48.667341Z"
    },
    "slideshow": {
     "slide_type": "subslide"
    }
   },
   "outputs": [
    {
     "name": "stdout",
     "output_type": "stream",
     "text": [
      "Hello, type annotations\n"
     ]
    }
   ],
   "source": [
    "with TypeAnnotator() as annotator:\n",
    "    hello('type annotations')\n",
    "    y = my_sqrt(1.0)"
   ]
  },
  {
   "cell_type": "code",
   "execution_count": 85,
   "metadata": {
    "execution": {
     "iopub.execute_input": "2022-11-12T07:33:48.669338Z",
     "iopub.status.busy": "2022-11-12T07:33:48.668997Z",
     "iopub.status.idle": "2022-11-12T07:33:48.674237Z",
     "shell.execute_reply": "2022-11-12T07:33:48.674467Z"
    },
    "slideshow": {
     "slide_type": "fragment"
    }
   },
   "outputs": [
    {
     "name": "stdout",
     "output_type": "stream",
     "text": [
      "\u001b[34mdef\u001b[39;49;00m \u001b[32mhello\u001b[39;49;00m(name: \u001b[36mstr\u001b[39;49;00m):\n",
      "    \u001b[36mprint\u001b[39;49;00m(\u001b[33m'\u001b[39;49;00m\u001b[33mHello,\u001b[39;49;00m\u001b[33m'\u001b[39;49;00m, name)\u001b[34mdef\u001b[39;49;00m \u001b[32mmy_sqrt\u001b[39;49;00m(x: \u001b[36mfloat\u001b[39;49;00m) -> \u001b[36mfloat\u001b[39;49;00m:\n",
      "    \u001b[33m\"\"\"Computes the square root of x, using the Newton-Raphson method\"\"\"\u001b[39;49;00m\n",
      "    approx = \u001b[34mNone\u001b[39;49;00m\n",
      "    guess = x / \u001b[34m2\u001b[39;49;00m\n",
      "    \u001b[34mwhile\u001b[39;49;00m approx != guess:\n",
      "        approx = guess\n",
      "        guess = (approx + x / approx) / \u001b[34m2\u001b[39;49;00m\n",
      "    \u001b[34mreturn\u001b[39;49;00m approx"
     ]
    }
   ],
   "source": [
    "print_content(annotator.typed_functions(), '.py')"
   ]
  },
  {
   "cell_type": "markdown",
   "metadata": {
    "slideshow": {
     "slide_type": "subslide"
    }
   },
   "source": [
    "A content as above could now be sent to a type checker, which would detect any type inconsistency between callers and callees.  Likewise, type annotations such as the ones above greatly benefit symbolic code analysis (as in the chapter on [symbolic fuzzing](SymbolicFuzzer.ipynb)), as they effectively constrain the set of values that arguments and variables can take."
   ]
  },
  {
   "cell_type": "markdown",
   "metadata": {
    "slideshow": {
     "slide_type": "subslide"
    }
   },
   "source": [
    "### Multiple Types\n",
    "\n",
    "Let us now resolve the role of the magic `Any` type in `annotate_function_ast_with_types()`.  If we see multiple types for the same argument, we set its type to `Any`.  For `my_sqrt()`, this makes sense, as its arguments can be integers as well as floats:"
   ]
  },
  {
   "cell_type": "code",
   "execution_count": 86,
   "metadata": {
    "button": false,
    "execution": {
     "iopub.execute_input": "2022-11-12T07:33:48.676705Z",
     "iopub.status.busy": "2022-11-12T07:33:48.676375Z",
     "iopub.status.idle": "2022-11-12T07:33:48.677575Z",
     "shell.execute_reply": "2022-11-12T07:33:48.677862Z"
    },
    "new_sheet": false,
    "run_control": {
     "read_only": false
    },
    "slideshow": {
     "slide_type": "skip"
    }
   },
   "outputs": [],
   "source": [
    "with CallTracker() as tracker:\n",
    "    y = my_sqrt(25.0)\n",
    "    y = my_sqrt(4)"
   ]
  },
  {
   "cell_type": "code",
   "execution_count": 87,
   "metadata": {
    "execution": {
     "iopub.execute_input": "2022-11-12T07:33:48.679979Z",
     "iopub.status.busy": "2022-11-12T07:33:48.679646Z",
     "iopub.status.idle": "2022-11-12T07:33:48.684357Z",
     "shell.execute_reply": "2022-11-12T07:33:48.684621Z"
    },
    "slideshow": {
     "slide_type": "subslide"
    }
   },
   "outputs": [
    {
     "name": "stdout",
     "output_type": "stream",
     "text": [
      "\u001b[34mdef\u001b[39;49;00m \u001b[32mmy_sqrt\u001b[39;49;00m(x: Any) -> \u001b[36mfloat\u001b[39;49;00m:\n",
      "    \u001b[33m\"\"\"Computes the square root of x, using the Newton-Raphson method\"\"\"\u001b[39;49;00m\n",
      "    approx = \u001b[34mNone\u001b[39;49;00m\n",
      "    guess = x / \u001b[34m2\u001b[39;49;00m\n",
      "    \u001b[34mwhile\u001b[39;49;00m approx != guess:\n",
      "        approx = guess\n",
      "        guess = (approx + x / approx) / \u001b[34m2\u001b[39;49;00m\n",
      "    \u001b[34mreturn\u001b[39;49;00m approx"
     ]
    }
   ],
   "source": [
    "print_content(ast.unparse(annotate_types(tracker.calls())['my_sqrt']), '.py')"
   ]
  },
  {
   "cell_type": "markdown",
   "metadata": {
    "slideshow": {
     "slide_type": "fragment"
    }
   },
   "source": [
    "The following function `sum3()` can be called with floating-point numbers as arguments, resulting in the parameters getting a `float` type:"
   ]
  },
  {
   "cell_type": "code",
   "execution_count": 88,
   "metadata": {
    "execution": {
     "iopub.execute_input": "2022-11-12T07:33:48.686722Z",
     "iopub.status.busy": "2022-11-12T07:33:48.686380Z",
     "iopub.status.idle": "2022-11-12T07:33:48.687747Z",
     "shell.execute_reply": "2022-11-12T07:33:48.687961Z"
    },
    "slideshow": {
     "slide_type": "fragment"
    }
   },
   "outputs": [],
   "source": [
    "def sum3(a, b, c):\n",
    "    return a + b + c"
   ]
  },
  {
   "cell_type": "code",
   "execution_count": 89,
   "metadata": {
    "execution": {
     "iopub.execute_input": "2022-11-12T07:33:48.690243Z",
     "iopub.status.busy": "2022-11-12T07:33:48.689846Z",
     "iopub.status.idle": "2022-11-12T07:33:48.691434Z",
     "shell.execute_reply": "2022-11-12T07:33:48.691702Z"
    },
    "slideshow": {
     "slide_type": "subslide"
    }
   },
   "outputs": [
    {
     "data": {
      "text/plain": [
       "6.0"
      ]
     },
     "execution_count": 89,
     "metadata": {},
     "output_type": "execute_result"
    }
   ],
   "source": [
    "with TypeAnnotator() as annotator:\n",
    "    y = sum3(1.0, 2.0, 3.0)\n",
    "y"
   ]
  },
  {
   "cell_type": "code",
   "execution_count": 90,
   "metadata": {
    "execution": {
     "iopub.execute_input": "2022-11-12T07:33:48.696403Z",
     "iopub.status.busy": "2022-11-12T07:33:48.693307Z",
     "iopub.status.idle": "2022-11-12T07:33:48.697903Z",
     "shell.execute_reply": "2022-11-12T07:33:48.698126Z"
    },
    "slideshow": {
     "slide_type": "fragment"
    }
   },
   "outputs": [
    {
     "name": "stdout",
     "output_type": "stream",
     "text": [
      "\u001b[34mdef\u001b[39;49;00m \u001b[32msum3\u001b[39;49;00m(a: \u001b[36mfloat\u001b[39;49;00m, b: \u001b[36mfloat\u001b[39;49;00m, c: \u001b[36mfloat\u001b[39;49;00m) -> \u001b[36mfloat\u001b[39;49;00m:\n",
      "    \u001b[34mreturn\u001b[39;49;00m a + b + c"
     ]
    }
   ],
   "source": [
    "print_content(annotator.typed_functions(), '.py')"
   ]
  },
  {
   "cell_type": "markdown",
   "metadata": {
    "slideshow": {
     "slide_type": "fragment"
    }
   },
   "source": [
    "If we call `sum3()` with integers, though, the arguments get an `int` type:"
   ]
  },
  {
   "cell_type": "code",
   "execution_count": 91,
   "metadata": {
    "execution": {
     "iopub.execute_input": "2022-11-12T07:33:48.700611Z",
     "iopub.status.busy": "2022-11-12T07:33:48.700242Z",
     "iopub.status.idle": "2022-11-12T07:33:48.701739Z",
     "shell.execute_reply": "2022-11-12T07:33:48.702048Z"
    },
    "slideshow": {
     "slide_type": "fragment"
    }
   },
   "outputs": [
    {
     "data": {
      "text/plain": [
       "6"
      ]
     },
     "execution_count": 91,
     "metadata": {},
     "output_type": "execute_result"
    }
   ],
   "source": [
    "with TypeAnnotator() as annotator:\n",
    "    y = sum3(1, 2, 3)\n",
    "y"
   ]
  },
  {
   "cell_type": "code",
   "execution_count": 92,
   "metadata": {
    "execution": {
     "iopub.execute_input": "2022-11-12T07:33:48.707003Z",
     "iopub.status.busy": "2022-11-12T07:33:48.706687Z",
     "iopub.status.idle": "2022-11-12T07:33:48.708090Z",
     "shell.execute_reply": "2022-11-12T07:33:48.708302Z"
    },
    "slideshow": {
     "slide_type": "subslide"
    }
   },
   "outputs": [
    {
     "name": "stdout",
     "output_type": "stream",
     "text": [
      "\u001b[34mdef\u001b[39;49;00m \u001b[32msum3\u001b[39;49;00m(a: \u001b[36mint\u001b[39;49;00m, b: \u001b[36mint\u001b[39;49;00m, c: \u001b[36mint\u001b[39;49;00m) -> \u001b[36mint\u001b[39;49;00m:\n",
      "    \u001b[34mreturn\u001b[39;49;00m a + b + c"
     ]
    }
   ],
   "source": [
    "print_content(annotator.typed_functions(), '.py')"
   ]
  },
  {
   "cell_type": "markdown",
   "metadata": {
    "slideshow": {
     "slide_type": "fragment"
    }
   },
   "source": [
    "And we can also call `sum3()` with strings, giving the arguments a `str` type:"
   ]
  },
  {
   "cell_type": "code",
   "execution_count": 93,
   "metadata": {
    "execution": {
     "iopub.execute_input": "2022-11-12T07:33:48.710918Z",
     "iopub.status.busy": "2022-11-12T07:33:48.710521Z",
     "iopub.status.idle": "2022-11-12T07:33:48.712138Z",
     "shell.execute_reply": "2022-11-12T07:33:48.712405Z"
    },
    "slideshow": {
     "slide_type": "fragment"
    }
   },
   "outputs": [
    {
     "data": {
      "text/plain": [
       "'onetwothree'"
      ]
     },
     "execution_count": 93,
     "metadata": {},
     "output_type": "execute_result"
    }
   ],
   "source": [
    "with TypeAnnotator() as annotator:\n",
    "    y = sum3(\"one\", \"two\", \"three\")\n",
    "y"
   ]
  },
  {
   "cell_type": "code",
   "execution_count": 94,
   "metadata": {
    "execution": {
     "iopub.execute_input": "2022-11-12T07:33:48.717227Z",
     "iopub.status.busy": "2022-11-12T07:33:48.716847Z",
     "iopub.status.idle": "2022-11-12T07:33:48.718497Z",
     "shell.execute_reply": "2022-11-12T07:33:48.718725Z"
    },
    "slideshow": {
     "slide_type": "fragment"
    }
   },
   "outputs": [
    {
     "name": "stdout",
     "output_type": "stream",
     "text": [
      "\u001b[34mdef\u001b[39;49;00m \u001b[32msum3\u001b[39;49;00m(a: \u001b[36mstr\u001b[39;49;00m, b: \u001b[36mstr\u001b[39;49;00m, c: \u001b[36mstr\u001b[39;49;00m) -> \u001b[36mstr\u001b[39;49;00m:\n",
      "    \u001b[34mreturn\u001b[39;49;00m a + b + c"
     ]
    }
   ],
   "source": [
    "print_content(annotator.typed_functions(), '.py')"
   ]
  },
  {
   "cell_type": "markdown",
   "metadata": {
    "slideshow": {
     "slide_type": "fragment"
    }
   },
   "source": [
    "If we have multiple calls, but with different types, `TypeAnnotator()` will assign an `Any` type to both arguments and return values:"
   ]
  },
  {
   "cell_type": "code",
   "execution_count": 95,
   "metadata": {
    "execution": {
     "iopub.execute_input": "2022-11-12T07:33:48.720999Z",
     "iopub.status.busy": "2022-11-12T07:33:48.720671Z",
     "iopub.status.idle": "2022-11-12T07:33:48.721838Z",
     "shell.execute_reply": "2022-11-12T07:33:48.722113Z"
    },
    "slideshow": {
     "slide_type": "subslide"
    }
   },
   "outputs": [],
   "source": [
    "with TypeAnnotator() as annotator:\n",
    "    y = sum3(1, 2, 3)\n",
    "    y = sum3(\"one\", \"two\", \"three\")"
   ]
  },
  {
   "cell_type": "code",
   "execution_count": 96,
   "metadata": {
    "execution": {
     "iopub.execute_input": "2022-11-12T07:33:48.724360Z",
     "iopub.status.busy": "2022-11-12T07:33:48.724036Z",
     "iopub.status.idle": "2022-11-12T07:33:48.725272Z",
     "shell.execute_reply": "2022-11-12T07:33:48.725558Z"
    },
    "slideshow": {
     "slide_type": "fragment"
    }
   },
   "outputs": [],
   "source": [
    "typed_sum3_def = annotator.typed_functions('sum3')"
   ]
  },
  {
   "cell_type": "code",
   "execution_count": 97,
   "metadata": {
    "execution": {
     "iopub.execute_input": "2022-11-12T07:33:48.730406Z",
     "iopub.status.busy": "2022-11-12T07:33:48.730057Z",
     "iopub.status.idle": "2022-11-12T07:33:48.731503Z",
     "shell.execute_reply": "2022-11-12T07:33:48.731777Z"
    },
    "slideshow": {
     "slide_type": "fragment"
    }
   },
   "outputs": [
    {
     "name": "stdout",
     "output_type": "stream",
     "text": [
      "\u001b[34mdef\u001b[39;49;00m \u001b[32msum3\u001b[39;49;00m(a: Any, b: Any, c: Any) -> Any:\n",
      "    \u001b[34mreturn\u001b[39;49;00m a + b + c"
     ]
    }
   ],
   "source": [
    "print_content(typed_sum3_def, '.py')"
   ]
  },
  {
   "cell_type": "markdown",
   "metadata": {
    "slideshow": {
     "slide_type": "fragment"
    }
   },
   "source": [
    "A type `Any` makes it explicit that an object can, indeed, have any type; it will not be typechecked at runtime or statically.  To some extent, this defeats the power of type checking; but it also preserves some of the type flexibility that many Python programmers enjoy.  Besides `Any`, the `typing` module supports several additional ways to define ambiguous types; we will keep this in mind for a later exercise."
   ]
  },
  {
   "cell_type": "markdown",
   "metadata": {
    "slideshow": {
     "slide_type": "slide"
    }
   },
   "source": [
    "## Specifying and Checking Invariants\n",
    "\n",
    "Besides basic data types. we can check several further properties from arguments.  We can, for instance, whether an argument can be negative, zero, or positive; or that one argument should be smaller than the second; or that the result should be the sum of two arguments – properties that cannot be expressed in a (Python) type.\n",
    "\n",
    "Such properties are called *invariants*, as they hold across all invocations of a function. Specifically, invariants come as _pre_- and _postconditions_ – conditions that always hold at the beginning and at the end of a function.  (There are also _data_ and _object_ invariants that express always-holding properties over the state of data or objects, but we do not consider these in this book.)"
   ]
  },
  {
   "cell_type": "markdown",
   "metadata": {
    "slideshow": {
     "slide_type": "subslide"
    },
    "toc-hr-collapsed": true,
    "toc-nb-collapsed": true
   },
   "source": [
    "### Annotating Functions with Pre- and Postconditions\n",
    "\n",
    "The classical means to specify pre- and postconditions is via _assertions_, which we have introduced in the [chapter on testing](Intro_Testing.ipynb).  A precondition checks whether the arguments to a function satisfy the expected properties; a postcondition does the same for the result.  We can express and check both using assertions as follows:"
   ]
  },
  {
   "cell_type": "code",
   "execution_count": 98,
   "metadata": {
    "execution": {
     "iopub.execute_input": "2022-11-12T07:33:48.734246Z",
     "iopub.status.busy": "2022-11-12T07:33:48.733908Z",
     "iopub.status.idle": "2022-11-12T07:33:48.735227Z",
     "shell.execute_reply": "2022-11-12T07:33:48.735472Z"
    },
    "slideshow": {
     "slide_type": "fragment"
    }
   },
   "outputs": [],
   "source": [
    "def my_sqrt_with_invariants(x):\n",
    "    assert x >= 0  # Precondition\n",
    "    \n",
    "    ...\n",
    "    \n",
    "    assert result * result == x  # Postcondition\n",
    "    return result"
   ]
  },
  {
   "cell_type": "markdown",
   "metadata": {
    "slideshow": {
     "slide_type": "subslide"
    }
   },
   "source": [
    "A nicer way, however, is to syntactically separate invariants from the function at hand.  Using appropriate decorators, we could specify pre- and postconditions as follows:\n",
    "\n",
    "```python\n",
    "@precondition lambda x: x >= 0\n",
    "@postcondition lambda return_value, x: return_value * return_value == x\n",
    "def my_sqrt_with_invariants(x):\n",
    "    # normal code without assertions\n",
    "    ...\n",
    "```\n",
    "\n",
    "The decorators `@precondition` and `@postcondition` would run the given functions (specified as anonymous `lambda` functions) before and after the decorated function, respectively.  If the functions return `False`, the condition is violated.  `@precondition` gets the function arguments as arguments; `@postcondition` additionally gets the return value as first argument."
   ]
  },
  {
   "cell_type": "markdown",
   "metadata": {
    "slideshow": {
     "slide_type": "subslide"
    }
   },
   "source": [
    "It turns out that implementing such decorators is not hard at all.  Our implementation builds on a [code snippet from StackOverflow](https://stackoverflow.com/questions/12151182/python-precondition-postcondition-for-member-function-how):"
   ]
  },
  {
   "cell_type": "code",
   "execution_count": 99,
   "metadata": {
    "execution": {
     "iopub.execute_input": "2022-11-12T07:33:48.737575Z",
     "iopub.status.busy": "2022-11-12T07:33:48.737232Z",
     "iopub.status.idle": "2022-11-12T07:33:48.738312Z",
     "shell.execute_reply": "2022-11-12T07:33:48.738591Z"
    },
    "slideshow": {
     "slide_type": "skip"
    }
   },
   "outputs": [],
   "source": [
    "import functools"
   ]
  },
  {
   "cell_type": "code",
   "execution_count": 100,
   "metadata": {
    "execution": {
     "iopub.execute_input": "2022-11-12T07:33:48.742027Z",
     "iopub.status.busy": "2022-11-12T07:33:48.741589Z",
     "iopub.status.idle": "2022-11-12T07:33:48.742758Z",
     "shell.execute_reply": "2022-11-12T07:33:48.743105Z"
    },
    "slideshow": {
     "slide_type": "subslide"
    }
   },
   "outputs": [],
   "source": [
    "def condition(precondition=None, postcondition=None):\n",
    "    def decorator(func):\n",
    "        @functools.wraps(func) # preserves name, docstring, etc\n",
    "        def wrapper(*args, **kwargs):\n",
    "            if precondition is not None:\n",
    "               assert precondition(*args, **kwargs), \"Precondition violated\"\n",
    "\n",
    "            retval = func(*args, **kwargs) # call original function or method\n",
    "            if postcondition is not None:\n",
    "               assert postcondition(retval, *args, **kwargs), \"Postcondition violated\"\n",
    "\n",
    "            return retval\n",
    "        return wrapper\n",
    "    return decorator\n",
    "\n",
    "def precondition(check):\n",
    "    return condition(precondition=check)\n",
    "\n",
    "def postcondition(check):\n",
    "    return condition(postcondition=check)"
   ]
  },
  {
   "cell_type": "markdown",
   "metadata": {
    "slideshow": {
     "slide_type": "subslide"
    }
   },
   "source": [
    "With these, we can now start decorating `my_sqrt()`:"
   ]
  },
  {
   "cell_type": "code",
   "execution_count": 101,
   "metadata": {
    "execution": {
     "iopub.execute_input": "2022-11-12T07:33:48.745294Z",
     "iopub.status.busy": "2022-11-12T07:33:48.744959Z",
     "iopub.status.idle": "2022-11-12T07:33:48.746330Z",
     "shell.execute_reply": "2022-11-12T07:33:48.746592Z"
    },
    "slideshow": {
     "slide_type": "fragment"
    }
   },
   "outputs": [],
   "source": [
    "@precondition(lambda x: x > 0)\n",
    "def my_sqrt_with_precondition(x):\n",
    "    return my_sqrt(x)"
   ]
  },
  {
   "cell_type": "markdown",
   "metadata": {
    "slideshow": {
     "slide_type": "fragment"
    }
   },
   "source": [
    "This catches arguments violating the precondition:"
   ]
  },
  {
   "cell_type": "code",
   "execution_count": 102,
   "metadata": {
    "execution": {
     "iopub.execute_input": "2022-11-12T07:33:48.749095Z",
     "iopub.status.busy": "2022-11-12T07:33:48.748670Z",
     "iopub.status.idle": "2022-11-12T07:33:48.750375Z",
     "shell.execute_reply": "2022-11-12T07:33:48.750658Z"
    },
    "slideshow": {
     "slide_type": "fragment"
    }
   },
   "outputs": [
    {
     "name": "stderr",
     "output_type": "stream",
     "text": [
      "Traceback (most recent call last):\n",
      "  File \"/var/folders/n2/xd9445p97rb3xh7m1dfx8_4h0006ts/T/ipykernel_43875/2353876897.py\", line 2, in <module>\n",
      "    my_sqrt_with_precondition(-1.0)\n",
      "  File \"/var/folders/n2/xd9445p97rb3xh7m1dfx8_4h0006ts/T/ipykernel_43875/906718213.py\", line 6, in wrapper\n",
      "    assert precondition(*args, **kwargs), \"Precondition violated\"\n",
      "AssertionError: Precondition violated (expected)\n"
     ]
    }
   ],
   "source": [
    "with ExpectError():\n",
    "    my_sqrt_with_precondition(-1.0)"
   ]
  },
  {
   "cell_type": "markdown",
   "metadata": {
    "slideshow": {
     "slide_type": "fragment"
    }
   },
   "source": [
    "Likewise, we can provide a postcondition:"
   ]
  },
  {
   "cell_type": "code",
   "execution_count": 103,
   "metadata": {
    "execution": {
     "iopub.execute_input": "2022-11-12T07:33:48.752695Z",
     "iopub.status.busy": "2022-11-12T07:33:48.752362Z",
     "iopub.status.idle": "2022-11-12T07:33:48.753807Z",
     "shell.execute_reply": "2022-11-12T07:33:48.754043Z"
    },
    "slideshow": {
     "slide_type": "subslide"
    }
   },
   "outputs": [],
   "source": [
    "EPSILON = 1e-5"
   ]
  },
  {
   "cell_type": "code",
   "execution_count": 104,
   "metadata": {
    "execution": {
     "iopub.execute_input": "2022-11-12T07:33:48.756145Z",
     "iopub.status.busy": "2022-11-12T07:33:48.755828Z",
     "iopub.status.idle": "2022-11-12T07:33:48.757220Z",
     "shell.execute_reply": "2022-11-12T07:33:48.757439Z"
    },
    "slideshow": {
     "slide_type": "fragment"
    }
   },
   "outputs": [],
   "source": [
    "@postcondition(lambda ret, x: ret * ret - x < EPSILON)\n",
    "def my_sqrt_with_postcondition(x):\n",
    "    return my_sqrt(x)"
   ]
  },
  {
   "cell_type": "code",
   "execution_count": 105,
   "metadata": {
    "execution": {
     "iopub.execute_input": "2022-11-12T07:33:48.759766Z",
     "iopub.status.busy": "2022-11-12T07:33:48.759372Z",
     "iopub.status.idle": "2022-11-12T07:33:48.760857Z",
     "shell.execute_reply": "2022-11-12T07:33:48.761072Z"
    },
    "slideshow": {
     "slide_type": "fragment"
    }
   },
   "outputs": [
    {
     "data": {
      "text/plain": [
       "1.414213562373095"
      ]
     },
     "execution_count": 105,
     "metadata": {},
     "output_type": "execute_result"
    }
   ],
   "source": [
    "y = my_sqrt_with_postcondition(2.0)\n",
    "y"
   ]
  },
  {
   "cell_type": "markdown",
   "metadata": {
    "slideshow": {
     "slide_type": "fragment"
    }
   },
   "source": [
    "If we have a buggy implementation of $\\sqrt{x}$, this gets caught quickly:"
   ]
  },
  {
   "cell_type": "code",
   "execution_count": 106,
   "metadata": {
    "execution": {
     "iopub.execute_input": "2022-11-12T07:33:48.763243Z",
     "iopub.status.busy": "2022-11-12T07:33:48.762913Z",
     "iopub.status.idle": "2022-11-12T07:33:48.764130Z",
     "shell.execute_reply": "2022-11-12T07:33:48.764392Z"
    },
    "slideshow": {
     "slide_type": "fragment"
    }
   },
   "outputs": [],
   "source": [
    "@postcondition(lambda ret, x: ret * ret - x < EPSILON)\n",
    "def buggy_my_sqrt_with_postcondition(x):\n",
    "    return my_sqrt(x) + 0.1"
   ]
  },
  {
   "cell_type": "code",
   "execution_count": 107,
   "metadata": {
    "execution": {
     "iopub.execute_input": "2022-11-12T07:33:48.766496Z",
     "iopub.status.busy": "2022-11-12T07:33:48.766169Z",
     "iopub.status.idle": "2022-11-12T07:33:48.767526Z",
     "shell.execute_reply": "2022-11-12T07:33:48.767747Z"
    },
    "slideshow": {
     "slide_type": "subslide"
    }
   },
   "outputs": [
    {
     "name": "stderr",
     "output_type": "stream",
     "text": [
      "Traceback (most recent call last):\n",
      "  File \"/var/folders/n2/xd9445p97rb3xh7m1dfx8_4h0006ts/T/ipykernel_43875/1985029262.py\", line 2, in <module>\n",
      "    y = buggy_my_sqrt_with_postcondition(2.0)\n",
      "  File \"/var/folders/n2/xd9445p97rb3xh7m1dfx8_4h0006ts/T/ipykernel_43875/906718213.py\", line 10, in wrapper\n",
      "    assert postcondition(retval, *args, **kwargs), \"Postcondition violated\"\n",
      "AssertionError: Postcondition violated (expected)\n"
     ]
    }
   ],
   "source": [
    "with ExpectError():\n",
    "    y = buggy_my_sqrt_with_postcondition(2.0)"
   ]
  },
  {
   "cell_type": "markdown",
   "metadata": {
    "slideshow": {
     "slide_type": "fragment"
    }
   },
   "source": [
    "While checking pre- and postconditions is a great way to catch errors, specifying them can be cumbersome.  Let us try to see whether we can (again) _mine_ some of them."
   ]
  },
  {
   "cell_type": "markdown",
   "metadata": {
    "slideshow": {
     "slide_type": "slide"
    },
    "toc-hr-collapsed": true,
    "toc-nb-collapsed": true
   },
   "source": [
    "## Mining Invariants\n",
    "\n",
    "To _mine_ invariants, we can use the same tracking functionality as before; instead of saving values for individual variables, though, we now check whether the values satisfy specific _properties_ or not.  For instance, if all values of `x` seen satisfy the condition `x > 0`, then we make `x > 0` an invariant of the function.  If we see positive, zero, and negative values of `x`, though, then there is no property of `x` left to talk about.\n",
    "\n",
    "The general idea is thus:\n",
    "\n",
    "1. Check all variable values observed against a set of predefined properties; and\n",
    "2. Keep only those properties that hold for all runs observed."
   ]
  },
  {
   "cell_type": "markdown",
   "metadata": {
    "slideshow": {
     "slide_type": "subslide"
    }
   },
   "source": [
    "### Defining Properties\n",
    "\n",
    "What precisely do we mean by properties?  Here is a small collection of value properties that would frequently be used in invariants.  All these properties would be evaluated with the _metavariables_ `X`, `Y`, and `Z` (actually, any upper-case identifier) being replaced with the names of function parameters: "
   ]
  },
  {
   "cell_type": "code",
   "execution_count": 108,
   "metadata": {
    "execution": {
     "iopub.execute_input": "2022-11-12T07:33:48.769895Z",
     "iopub.status.busy": "2022-11-12T07:33:48.769557Z",
     "iopub.status.idle": "2022-11-12T07:33:48.770813Z",
     "shell.execute_reply": "2022-11-12T07:33:48.771037Z"
    },
    "slideshow": {
     "slide_type": "fragment"
    }
   },
   "outputs": [],
   "source": [
    "INVARIANT_PROPERTIES = [\n",
    "    \"X < 0\",\n",
    "    \"X <= 0\",\n",
    "    \"X > 0\",\n",
    "    \"X >= 0\",\n",
    "    \"X == 0\",\n",
    "    \"X != 0\",\n",
    "]"
   ]
  },
  {
   "cell_type": "markdown",
   "metadata": {
    "slideshow": {
     "slide_type": "subslide"
    }
   },
   "source": [
    "When `my_sqrt(x)` is called as, say `my_sqrt(5.0)`, we see that `x = 5.0` holds.  The above properties would then all be checked for `x`.  Only the properties `X > 0`, `X >= 0`, and `X != 0` hold for the call seen; and hence `x > 0`, `x >= 0`, and `x != 0` would make potential preconditions for `my_sqrt(x)`."
   ]
  },
  {
   "cell_type": "markdown",
   "metadata": {
    "slideshow": {
     "slide_type": "fragment"
    }
   },
   "source": [
    "We can check for many more properties such as relations between two arguments:"
   ]
  },
  {
   "cell_type": "code",
   "execution_count": 109,
   "metadata": {
    "execution": {
     "iopub.execute_input": "2022-11-12T07:33:48.773080Z",
     "iopub.status.busy": "2022-11-12T07:33:48.772753Z",
     "iopub.status.idle": "2022-11-12T07:33:48.774040Z",
     "shell.execute_reply": "2022-11-12T07:33:48.774320Z"
    },
    "slideshow": {
     "slide_type": "fragment"
    }
   },
   "outputs": [],
   "source": [
    "INVARIANT_PROPERTIES += [\n",
    "    \"X == Y\",\n",
    "    \"X > Y\",\n",
    "    \"X < Y\",\n",
    "    \"X >= Y\",\n",
    "    \"X <= Y\",\n",
    "]"
   ]
  },
  {
   "cell_type": "markdown",
   "metadata": {
    "slideshow": {
     "slide_type": "subslide"
    }
   },
   "source": [
    "Types also can be checked using properties.  For any function parameter `X`, only one of these will hold:"
   ]
  },
  {
   "cell_type": "code",
   "execution_count": 110,
   "metadata": {
    "execution": {
     "iopub.execute_input": "2022-11-12T07:33:48.776454Z",
     "iopub.status.busy": "2022-11-12T07:33:48.776086Z",
     "iopub.status.idle": "2022-11-12T07:33:48.777357Z",
     "shell.execute_reply": "2022-11-12T07:33:48.777575Z"
    },
    "slideshow": {
     "slide_type": "fragment"
    }
   },
   "outputs": [],
   "source": [
    "INVARIANT_PROPERTIES += [\n",
    "    \"isinstance(X, bool)\",\n",
    "    \"isinstance(X, int)\",\n",
    "    \"isinstance(X, float)\",\n",
    "    \"isinstance(X, list)\",\n",
    "    \"isinstance(X, dict)\",\n",
    "]"
   ]
  },
  {
   "cell_type": "markdown",
   "metadata": {
    "slideshow": {
     "slide_type": "fragment"
    }
   },
   "source": [
    "We can check for arithmetic properties:"
   ]
  },
  {
   "cell_type": "code",
   "execution_count": 111,
   "metadata": {
    "execution": {
     "iopub.execute_input": "2022-11-12T07:33:48.779633Z",
     "iopub.status.busy": "2022-11-12T07:33:48.779313Z",
     "iopub.status.idle": "2022-11-12T07:33:48.780619Z",
     "shell.execute_reply": "2022-11-12T07:33:48.780834Z"
    },
    "slideshow": {
     "slide_type": "subslide"
    }
   },
   "outputs": [],
   "source": [
    "INVARIANT_PROPERTIES += [\n",
    "    \"X == Y + Z\",\n",
    "    \"X == Y * Z\",\n",
    "    \"X == Y - Z\",\n",
    "    \"X == Y / Z\",\n",
    "]"
   ]
  },
  {
   "cell_type": "markdown",
   "metadata": {
    "slideshow": {
     "slide_type": "fragment"
    }
   },
   "source": [
    "Here's relations over three values, a Python special:"
   ]
  },
  {
   "cell_type": "code",
   "execution_count": 112,
   "metadata": {
    "execution": {
     "iopub.execute_input": "2022-11-12T07:33:48.782788Z",
     "iopub.status.busy": "2022-11-12T07:33:48.782461Z",
     "iopub.status.idle": "2022-11-12T07:33:48.783624Z",
     "shell.execute_reply": "2022-11-12T07:33:48.783888Z"
    },
    "slideshow": {
     "slide_type": "fragment"
    }
   },
   "outputs": [],
   "source": [
    "INVARIANT_PROPERTIES += [\n",
    "    \"X < Y < Z\",\n",
    "    \"X <= Y <= Z\",\n",
    "    \"X > Y > Z\",\n",
    "    \"X >= Y >= Z\",\n",
    "]"
   ]
  },
  {
   "cell_type": "markdown",
   "metadata": {
    "slideshow": {
     "slide_type": "fragment"
    }
   },
   "source": [
    "Finally, we can also check for list or string properties.  Again, this is just a tiny selection."
   ]
  },
  {
   "cell_type": "code",
   "execution_count": 113,
   "metadata": {
    "execution": {
     "iopub.execute_input": "2022-11-12T07:33:48.785841Z",
     "iopub.status.busy": "2022-11-12T07:33:48.785455Z",
     "iopub.status.idle": "2022-11-12T07:33:48.786735Z",
     "shell.execute_reply": "2022-11-12T07:33:48.786950Z"
    },
    "slideshow": {
     "slide_type": "subslide"
    }
   },
   "outputs": [],
   "source": [
    "INVARIANT_PROPERTIES += [\n",
    "    \"X == len(Y)\",\n",
    "    \"X == sum(Y)\",\n",
    "    \"X.startswith(Y)\",\n",
    "]"
   ]
  },
  {
   "cell_type": "markdown",
   "metadata": {
    "slideshow": {
     "slide_type": "subslide"
    }
   },
   "source": [
    "### Extracting Meta-Variables\n",
    "\n",
    "Let us first introduce a few _helper functions_ before we can get to the actual mining.  `metavars()` extracts the set of meta-variables (`X`, `Y`, `Z`, etc.) from a property.  To this end, we parse the property as a Python expression and then visit the identifiers."
   ]
  },
  {
   "cell_type": "code",
   "execution_count": 114,
   "metadata": {
    "execution": {
     "iopub.execute_input": "2022-11-12T07:33:48.789436Z",
     "iopub.status.busy": "2022-11-12T07:33:48.789119Z",
     "iopub.status.idle": "2022-11-12T07:33:48.790329Z",
     "shell.execute_reply": "2022-11-12T07:33:48.790603Z"
    },
    "slideshow": {
     "slide_type": "subslide"
    }
   },
   "outputs": [],
   "source": [
    "def metavars(prop):\n",
    "    metavar_list = []\n",
    "    \n",
    "    class ArgVisitor(ast.NodeVisitor):\n",
    "        def visit_Name(self, node):\n",
    "            if node.id.isupper():\n",
    "                metavar_list.append(node.id)\n",
    "\n",
    "    ArgVisitor().visit(ast.parse(prop))\n",
    "    return metavar_list"
   ]
  },
  {
   "cell_type": "code",
   "execution_count": 115,
   "metadata": {
    "execution": {
     "iopub.execute_input": "2022-11-12T07:33:48.792697Z",
     "iopub.status.busy": "2022-11-12T07:33:48.792334Z",
     "iopub.status.idle": "2022-11-12T07:33:48.793672Z",
     "shell.execute_reply": "2022-11-12T07:33:48.793915Z"
    },
    "slideshow": {
     "slide_type": "fragment"
    }
   },
   "outputs": [],
   "source": [
    "assert metavars(\"X < 0\") == ['X']"
   ]
  },
  {
   "cell_type": "code",
   "execution_count": 116,
   "metadata": {
    "execution": {
     "iopub.execute_input": "2022-11-12T07:33:48.795985Z",
     "iopub.status.busy": "2022-11-12T07:33:48.795635Z",
     "iopub.status.idle": "2022-11-12T07:33:48.796889Z",
     "shell.execute_reply": "2022-11-12T07:33:48.797105Z"
    },
    "slideshow": {
     "slide_type": "fragment"
    }
   },
   "outputs": [],
   "source": [
    "assert metavars(\"X.startswith(Y)\") == ['X', 'Y']"
   ]
  },
  {
   "cell_type": "code",
   "execution_count": 117,
   "metadata": {
    "execution": {
     "iopub.execute_input": "2022-11-12T07:33:48.799029Z",
     "iopub.status.busy": "2022-11-12T07:33:48.798706Z",
     "iopub.status.idle": "2022-11-12T07:33:48.800041Z",
     "shell.execute_reply": "2022-11-12T07:33:48.800255Z"
    },
    "slideshow": {
     "slide_type": "fragment"
    }
   },
   "outputs": [],
   "source": [
    "assert metavars(\"isinstance(X, str)\") == ['X']"
   ]
  },
  {
   "cell_type": "markdown",
   "metadata": {
    "slideshow": {
     "slide_type": "subslide"
    }
   },
   "source": [
    "### Instantiating Properties\n",
    "\n",
    "To produce a property as invariant, we need to be able to _instantiate_ it with variable names.  The instantiation of `X > 0` with `X` being instantiated to `a`, for instance, gets us `a > 0`.  To this end, the function `instantiate_prop()` takes a property and a collection of variable names and instantiates the meta-variables left-to-right with the corresponding variables names in the collection."
   ]
  },
  {
   "cell_type": "code",
   "execution_count": 118,
   "metadata": {
    "execution": {
     "iopub.execute_input": "2022-11-12T07:33:48.803414Z",
     "iopub.status.busy": "2022-11-12T07:33:48.803096Z",
     "iopub.status.idle": "2022-11-12T07:33:48.804243Z",
     "shell.execute_reply": "2022-11-12T07:33:48.804519Z"
    },
    "slideshow": {
     "slide_type": "subslide"
    }
   },
   "outputs": [],
   "source": [
    "def instantiate_prop_ast(prop, var_names):\n",
    "    class NameTransformer(ast.NodeTransformer):\n",
    "        def visit_Name(self, node):\n",
    "            if node.id not in mapping:\n",
    "                return node\n",
    "            return ast.Name(id=mapping[node.id], ctx=ast.Load())\n",
    "\n",
    "    meta_variables = metavars(prop)\n",
    "    assert len(meta_variables) == len(var_names)\n",
    "\n",
    "    mapping = {}\n",
    "    for i in range(0, len(meta_variables)):\n",
    "        mapping[meta_variables[i]] = var_names[i]\n",
    "\n",
    "    prop_ast = ast.parse(prop, mode='eval')\n",
    "    new_ast = NameTransformer().visit(prop_ast)\n",
    "\n",
    "    return new_ast"
   ]
  },
  {
   "cell_type": "code",
   "execution_count": 119,
   "metadata": {
    "execution": {
     "iopub.execute_input": "2022-11-12T07:33:48.806997Z",
     "iopub.status.busy": "2022-11-12T07:33:48.806660Z",
     "iopub.status.idle": "2022-11-12T07:33:48.808043Z",
     "shell.execute_reply": "2022-11-12T07:33:48.808270Z"
    },
    "slideshow": {
     "slide_type": "subslide"
    }
   },
   "outputs": [],
   "source": [
    "def instantiate_prop(prop, var_names):\n",
    "    prop_ast = instantiate_prop_ast(prop, var_names)\n",
    "    prop_text = ast.unparse(prop_ast).strip()\n",
    "    while prop_text.startswith('(') and prop_text.endswith(')'):\n",
    "        prop_text = prop_text[1:-1]\n",
    "    return prop_text"
   ]
  },
  {
   "cell_type": "code",
   "execution_count": 120,
   "metadata": {
    "execution": {
     "iopub.execute_input": "2022-11-12T07:33:48.810403Z",
     "iopub.status.busy": "2022-11-12T07:33:48.810083Z",
     "iopub.status.idle": "2022-11-12T07:33:48.811276Z",
     "shell.execute_reply": "2022-11-12T07:33:48.811486Z"
    },
    "slideshow": {
     "slide_type": "fragment"
    }
   },
   "outputs": [],
   "source": [
    "assert instantiate_prop(\"X > Y\", ['a', 'b']) == 'a > b'"
   ]
  },
  {
   "cell_type": "code",
   "execution_count": 121,
   "metadata": {
    "execution": {
     "iopub.execute_input": "2022-11-12T07:33:48.813539Z",
     "iopub.status.busy": "2022-11-12T07:33:48.813214Z",
     "iopub.status.idle": "2022-11-12T07:33:48.814526Z",
     "shell.execute_reply": "2022-11-12T07:33:48.814759Z"
    },
    "slideshow": {
     "slide_type": "fragment"
    }
   },
   "outputs": [],
   "source": [
    "assert instantiate_prop(\"X.startswith(Y)\", ['x', 'y']) == 'x.startswith(y)'"
   ]
  },
  {
   "cell_type": "markdown",
   "metadata": {
    "slideshow": {
     "slide_type": "subslide"
    }
   },
   "source": [
    "### Evaluating Properties\n",
    "\n",
    "To actually _evaluate_ properties, we do not need to instantiate them.  Instead, we simply convert them into a boolean function, using `lambda`:"
   ]
  },
  {
   "cell_type": "code",
   "execution_count": 122,
   "metadata": {
    "execution": {
     "iopub.execute_input": "2022-11-12T07:33:48.817149Z",
     "iopub.status.busy": "2022-11-12T07:33:48.816786Z",
     "iopub.status.idle": "2022-11-12T07:33:48.817950Z",
     "shell.execute_reply": "2022-11-12T07:33:48.818272Z"
    },
    "slideshow": {
     "slide_type": "fragment"
    }
   },
   "outputs": [],
   "source": [
    "def prop_function_text(prop):\n",
    "    return \"lambda \" + \", \".join(metavars(prop)) + \": \" + prop\n",
    "\n",
    "def prop_function(prop):\n",
    "    return eval(prop_function_text(prop))"
   ]
  },
  {
   "cell_type": "markdown",
   "metadata": {
    "slideshow": {
     "slide_type": "fragment"
    }
   },
   "source": [
    "Here is a simple example:"
   ]
  },
  {
   "cell_type": "code",
   "execution_count": 123,
   "metadata": {
    "execution": {
     "iopub.execute_input": "2022-11-12T07:33:48.820499Z",
     "iopub.status.busy": "2022-11-12T07:33:48.820130Z",
     "iopub.status.idle": "2022-11-12T07:33:48.821714Z",
     "shell.execute_reply": "2022-11-12T07:33:48.822025Z"
    },
    "slideshow": {
     "slide_type": "fragment"
    }
   },
   "outputs": [
    {
     "data": {
      "text/plain": [
       "'lambda X, Y: X > Y'"
      ]
     },
     "execution_count": 123,
     "metadata": {},
     "output_type": "execute_result"
    }
   ],
   "source": [
    "prop_function_text(\"X > Y\")"
   ]
  },
  {
   "cell_type": "code",
   "execution_count": 124,
   "metadata": {
    "execution": {
     "iopub.execute_input": "2022-11-12T07:33:48.824564Z",
     "iopub.status.busy": "2022-11-12T07:33:48.824181Z",
     "iopub.status.idle": "2022-11-12T07:33:48.825640Z",
     "shell.execute_reply": "2022-11-12T07:33:48.825857Z"
    },
    "slideshow": {
     "slide_type": "subslide"
    }
   },
   "outputs": [
    {
     "data": {
      "text/plain": [
       "True"
      ]
     },
     "execution_count": 124,
     "metadata": {},
     "output_type": "execute_result"
    }
   ],
   "source": [
    "p = prop_function(\"X > Y\")\n",
    "p(100, 1)"
   ]
  },
  {
   "cell_type": "code",
   "execution_count": 125,
   "metadata": {
    "execution": {
     "iopub.execute_input": "2022-11-12T07:33:48.828042Z",
     "iopub.status.busy": "2022-11-12T07:33:48.827647Z",
     "iopub.status.idle": "2022-11-12T07:33:48.829165Z",
     "shell.execute_reply": "2022-11-12T07:33:48.829381Z"
    },
    "slideshow": {
     "slide_type": "fragment"
    }
   },
   "outputs": [
    {
     "data": {
      "text/plain": [
       "False"
      ]
     },
     "execution_count": 125,
     "metadata": {},
     "output_type": "execute_result"
    }
   ],
   "source": [
    "p(1, 100)"
   ]
  },
  {
   "cell_type": "markdown",
   "metadata": {
    "slideshow": {
     "slide_type": "subslide"
    }
   },
   "source": [
    "### Checking Invariants\n",
    "\n",
    "To extract invariants from an execution, we need to check them on all possible instantiations of arguments.  If the function to be checked has two arguments `a` and `b`, we instantiate the property `X < Y` both as `a < b` and `b < a` and check each of them."
   ]
  },
  {
   "cell_type": "markdown",
   "metadata": {
    "slideshow": {
     "slide_type": "fragment"
    }
   },
   "source": [
    "To get all combinations, we use the Python `permutations()` function:"
   ]
  },
  {
   "cell_type": "code",
   "execution_count": 126,
   "metadata": {
    "execution": {
     "iopub.execute_input": "2022-11-12T07:33:48.831377Z",
     "iopub.status.busy": "2022-11-12T07:33:48.831046Z",
     "iopub.status.idle": "2022-11-12T07:33:48.832222Z",
     "shell.execute_reply": "2022-11-12T07:33:48.832432Z"
    },
    "slideshow": {
     "slide_type": "skip"
    }
   },
   "outputs": [],
   "source": [
    "import itertools"
   ]
  },
  {
   "cell_type": "code",
   "execution_count": 127,
   "metadata": {
    "execution": {
     "iopub.execute_input": "2022-11-12T07:33:48.834173Z",
     "iopub.status.busy": "2022-11-12T07:33:48.833633Z",
     "iopub.status.idle": "2022-11-12T07:33:48.835558Z",
     "shell.execute_reply": "2022-11-12T07:33:48.835790Z"
    },
    "slideshow": {
     "slide_type": "subslide"
    }
   },
   "outputs": [
    {
     "name": "stdout",
     "output_type": "stream",
     "text": [
      "(1.0, 2.0)\n",
      "(1.0, 3.0)\n",
      "(2.0, 1.0)\n",
      "(2.0, 3.0)\n",
      "(3.0, 1.0)\n",
      "(3.0, 2.0)\n"
     ]
    }
   ],
   "source": [
    "for combination in itertools.permutations([1.0, 2.0, 3.0], 2):\n",
    "    print(combination)"
   ]
  },
  {
   "cell_type": "markdown",
   "metadata": {
    "slideshow": {
     "slide_type": "fragment"
    }
   },
   "source": [
    "The function `true_property_instantiations()` takes a property and a list of tuples (`var_name`, `value`).  It then produces all instantiations of the property with the given values and returns those that evaluate to True."
   ]
  },
  {
   "cell_type": "code",
   "execution_count": 128,
   "metadata": {
    "execution": {
     "iopub.execute_input": "2022-11-12T07:33:48.838950Z",
     "iopub.status.busy": "2022-11-12T07:33:48.838622Z",
     "iopub.status.idle": "2022-11-12T07:33:48.839745Z",
     "shell.execute_reply": "2022-11-12T07:33:48.839958Z"
    },
    "slideshow": {
     "slide_type": "subslide"
    }
   },
   "outputs": [],
   "source": [
    "def true_property_instantiations(prop, vars_and_values, log=False):\n",
    "    instantiations = set()\n",
    "    p = prop_function(prop)\n",
    "\n",
    "    len_metavars = len(metavars(prop))\n",
    "    for combination in itertools.permutations(vars_and_values, len_metavars):\n",
    "        args = [value for var_name, value in combination]\n",
    "        var_names = [var_name for var_name, value in combination]\n",
    "\n",
    "        try:\n",
    "            result = p(*args)\n",
    "        except:\n",
    "            result = None\n",
    "\n",
    "        if log:\n",
    "            print(prop, combination, result)\n",
    "        if result:\n",
    "            instantiations.add((prop, tuple(var_names)))\n",
    "\n",
    "    return instantiations"
   ]
  },
  {
   "cell_type": "markdown",
   "metadata": {
    "slideshow": {
     "slide_type": "subslide"
    }
   },
   "source": [
    "Here is an example.   If `x == -1` and `y == 1`, the property `X < Y` holds for `x < y`, but not for `y < x`:"
   ]
  },
  {
   "cell_type": "code",
   "execution_count": 129,
   "metadata": {
    "execution": {
     "iopub.execute_input": "2022-11-12T07:33:48.842490Z",
     "iopub.status.busy": "2022-11-12T07:33:48.842154Z",
     "iopub.status.idle": "2022-11-12T07:33:48.843804Z",
     "shell.execute_reply": "2022-11-12T07:33:48.844031Z"
    },
    "slideshow": {
     "slide_type": "fragment"
    }
   },
   "outputs": [
    {
     "name": "stdout",
     "output_type": "stream",
     "text": [
      "X < Y (('x', -1), ('y', 1)) True\n",
      "X < Y (('y', 1), ('x', -1)) False\n"
     ]
    },
    {
     "data": {
      "text/plain": [
       "{('X < Y', ('x', 'y'))}"
      ]
     },
     "execution_count": 129,
     "metadata": {},
     "output_type": "execute_result"
    }
   ],
   "source": [
    "invs = true_property_instantiations(\"X < Y\", [('x', -1), ('y', 1)], log=True)\n",
    "invs"
   ]
  },
  {
   "cell_type": "markdown",
   "metadata": {
    "slideshow": {
     "slide_type": "fragment"
    }
   },
   "source": [
    "The instantiation retrieves the short form:"
   ]
  },
  {
   "cell_type": "code",
   "execution_count": 130,
   "metadata": {
    "execution": {
     "iopub.execute_input": "2022-11-12T07:33:48.846135Z",
     "iopub.status.busy": "2022-11-12T07:33:48.845775Z",
     "iopub.status.idle": "2022-11-12T07:33:48.847067Z",
     "shell.execute_reply": "2022-11-12T07:33:48.847281Z"
    },
    "slideshow": {
     "slide_type": "fragment"
    }
   },
   "outputs": [
    {
     "name": "stdout",
     "output_type": "stream",
     "text": [
      "x < y\n"
     ]
    }
   ],
   "source": [
    "for prop, var_names in invs:\n",
    "    print(instantiate_prop(prop, var_names))"
   ]
  },
  {
   "cell_type": "markdown",
   "metadata": {
    "slideshow": {
     "slide_type": "fragment"
    }
   },
   "source": [
    "Likewise, with values for `x` and `y` as above, the property `X < 0` only holds for `x`, but not for `y`:"
   ]
  },
  {
   "cell_type": "code",
   "execution_count": 131,
   "metadata": {
    "execution": {
     "iopub.execute_input": "2022-11-12T07:33:48.849500Z",
     "iopub.status.busy": "2022-11-12T07:33:48.849178Z",
     "iopub.status.idle": "2022-11-12T07:33:48.850249Z",
     "shell.execute_reply": "2022-11-12T07:33:48.850604Z"
    },
    "slideshow": {
     "slide_type": "subslide"
    }
   },
   "outputs": [
    {
     "name": "stdout",
     "output_type": "stream",
     "text": [
      "X < 0 (('x', -1),) True\n",
      "X < 0 (('y', 1),) False\n"
     ]
    }
   ],
   "source": [
    "invs = true_property_instantiations(\"X < 0\", [('x', -1), ('y', 1)], log=True)"
   ]
  },
  {
   "cell_type": "code",
   "execution_count": 132,
   "metadata": {
    "execution": {
     "iopub.execute_input": "2022-11-12T07:33:48.852602Z",
     "iopub.status.busy": "2022-11-12T07:33:48.852282Z",
     "iopub.status.idle": "2022-11-12T07:33:48.853497Z",
     "shell.execute_reply": "2022-11-12T07:33:48.853773Z"
    },
    "slideshow": {
     "slide_type": "fragment"
    }
   },
   "outputs": [
    {
     "name": "stdout",
     "output_type": "stream",
     "text": [
      "x < 0\n"
     ]
    }
   ],
   "source": [
    "for prop, var_names in invs:\n",
    "    print(instantiate_prop(prop, var_names))"
   ]
  },
  {
   "cell_type": "markdown",
   "metadata": {
    "slideshow": {
     "slide_type": "subslide"
    }
   },
   "source": [
    "### Extracting Invariants\n",
    "\n",
    "Let us now run the above invariant extraction on function arguments and return values as observed during a function execution.  To this end, we extend the `CallTracker` class into an `InvariantTracker` class, which automatically computes invariants for all functions and all calls observed during tracking."
   ]
  },
  {
   "cell_type": "markdown",
   "metadata": {
    "slideshow": {
     "slide_type": "fragment"
    }
   },
   "source": [
    "By default, an `InvariantTracker` uses the properties as defined above; however, one can specify alternate sets of properties."
   ]
  },
  {
   "cell_type": "code",
   "execution_count": 133,
   "metadata": {
    "execution": {
     "iopub.execute_input": "2022-11-12T07:33:48.856085Z",
     "iopub.status.busy": "2022-11-12T07:33:48.855768Z",
     "iopub.status.idle": "2022-11-12T07:33:48.856940Z",
     "shell.execute_reply": "2022-11-12T07:33:48.857152Z"
    },
    "slideshow": {
     "slide_type": "subslide"
    }
   },
   "outputs": [],
   "source": [
    "class InvariantTracker(CallTracker):\n",
    "    def __init__(self, props=None, **kwargs):\n",
    "        if props is None:\n",
    "            props = INVARIANT_PROPERTIES\n",
    "\n",
    "        self.props = props\n",
    "        super().__init__(**kwargs)"
   ]
  },
  {
   "cell_type": "markdown",
   "metadata": {
    "slideshow": {
     "slide_type": "fragment"
    }
   },
   "source": [
    "The key method of the `InvariantTracker` is the `invariants()` method.  This iterates over the calls observed and checks which properties hold.  Only the intersection of properties – that is, the set of properties that hold for all calls – is preserved, and eventually returned.  The special variable `return_value` is set to hold the return value."
   ]
  },
  {
   "cell_type": "code",
   "execution_count": 134,
   "metadata": {
    "execution": {
     "iopub.execute_input": "2022-11-12T07:33:48.859013Z",
     "iopub.status.busy": "2022-11-12T07:33:48.858700Z",
     "iopub.status.idle": "2022-11-12T07:33:48.859951Z",
     "shell.execute_reply": "2022-11-12T07:33:48.860174Z"
    },
    "slideshow": {
     "slide_type": "fragment"
    }
   },
   "outputs": [],
   "source": [
    "RETURN_VALUE = 'return_value'"
   ]
  },
  {
   "cell_type": "code",
   "execution_count": 135,
   "metadata": {
    "execution": {
     "iopub.execute_input": "2022-11-12T07:33:48.863147Z",
     "iopub.status.busy": "2022-11-12T07:33:48.862830Z",
     "iopub.status.idle": "2022-11-12T07:33:48.864025Z",
     "shell.execute_reply": "2022-11-12T07:33:48.864234Z"
    },
    "slideshow": {
     "slide_type": "subslide"
    }
   },
   "outputs": [],
   "source": [
    "class InvariantTracker(InvariantTracker):\n",
    "    def invariants(self, function_name=None):\n",
    "        if function_name is None:\n",
    "            return {function_name: self.invariants(function_name) for function_name in self.calls()}\n",
    "\n",
    "        invariants = None\n",
    "        for variables, return_value in self.calls(function_name):\n",
    "            vars_and_values = variables + [(RETURN_VALUE, return_value)]\n",
    "\n",
    "            s = set()\n",
    "            for prop in self.props:\n",
    "                s |= true_property_instantiations(prop, vars_and_values, self._log)\n",
    "            if invariants is None:\n",
    "                invariants = s\n",
    "            else:\n",
    "                invariants &= s\n",
    "\n",
    "        return invariants"
   ]
  },
  {
   "cell_type": "markdown",
   "metadata": {
    "slideshow": {
     "slide_type": "subslide"
    }
   },
   "source": [
    "Here's an example of how to use `invariants()`.  We run the tracker on a small set of calls."
   ]
  },
  {
   "cell_type": "code",
   "execution_count": 136,
   "metadata": {
    "execution": {
     "iopub.execute_input": "2022-11-12T07:33:48.866757Z",
     "iopub.status.busy": "2022-11-12T07:33:48.866418Z",
     "iopub.status.idle": "2022-11-12T07:33:48.868007Z",
     "shell.execute_reply": "2022-11-12T07:33:48.868216Z"
    },
    "slideshow": {
     "slide_type": "fragment"
    }
   },
   "outputs": [
    {
     "data": {
      "text/plain": [
       "{'my_sqrt': [([('x', 25.0)], 5.0), ([('x', 10.0)], 3.162277660168379)]}"
      ]
     },
     "execution_count": 136,
     "metadata": {},
     "output_type": "execute_result"
    }
   ],
   "source": [
    "with InvariantTracker() as tracker:\n",
    "    y = my_sqrt(25.0)\n",
    "    y = my_sqrt(10.0)\n",
    "\n",
    "tracker.calls()"
   ]
  },
  {
   "cell_type": "markdown",
   "metadata": {
    "slideshow": {
     "slide_type": "fragment"
    }
   },
   "source": [
    "The `invariants()` method produces a set of properties that hold for the observed runs, together with their instantiations over function arguments."
   ]
  },
  {
   "cell_type": "code",
   "execution_count": 137,
   "metadata": {
    "execution": {
     "iopub.execute_input": "2022-11-12T07:33:48.873729Z",
     "iopub.status.busy": "2022-11-12T07:33:48.873347Z",
     "iopub.status.idle": "2022-11-12T07:33:48.874874Z",
     "shell.execute_reply": "2022-11-12T07:33:48.875138Z"
    },
    "slideshow": {
     "slide_type": "subslide"
    }
   },
   "outputs": [
    {
     "data": {
      "text/plain": [
       "{('X != 0', ('return_value',)),\n",
       " ('X != 0', ('x',)),\n",
       " ('X < Y', ('return_value', 'x')),\n",
       " ('X <= Y', ('return_value', 'x')),\n",
       " ('X > 0', ('return_value',)),\n",
       " ('X > 0', ('x',)),\n",
       " ('X > Y', ('x', 'return_value')),\n",
       " ('X >= 0', ('return_value',)),\n",
       " ('X >= 0', ('x',)),\n",
       " ('X >= Y', ('x', 'return_value')),\n",
       " ('isinstance(X, float)', ('return_value',)),\n",
       " ('isinstance(X, float)', ('x',))}"
      ]
     },
     "execution_count": 137,
     "metadata": {},
     "output_type": "execute_result"
    }
   ],
   "source": [
    "invs = tracker.invariants('my_sqrt')\n",
    "invs"
   ]
  },
  {
   "cell_type": "markdown",
   "metadata": {
    "slideshow": {
     "slide_type": "subslide"
    }
   },
   "source": [
    "As before, the actual instantiations are easier to read:\n"
   ]
  },
  {
   "cell_type": "code",
   "execution_count": 138,
   "metadata": {
    "execution": {
     "iopub.execute_input": "2022-11-12T07:33:48.877401Z",
     "iopub.status.busy": "2022-11-12T07:33:48.877071Z",
     "iopub.status.idle": "2022-11-12T07:33:48.878314Z",
     "shell.execute_reply": "2022-11-12T07:33:48.878535Z"
    },
    "slideshow": {
     "slide_type": "fragment"
    }
   },
   "outputs": [],
   "source": [
    "def pretty_invariants(invariants):\n",
    "    props = []\n",
    "    for (prop, var_names) in invariants:\n",
    "        props.append(instantiate_prop(prop, var_names))\n",
    "    return sorted(props)"
   ]
  },
  {
   "cell_type": "code",
   "execution_count": 139,
   "metadata": {
    "execution": {
     "iopub.execute_input": "2022-11-12T07:33:48.881332Z",
     "iopub.status.busy": "2022-11-12T07:33:48.880948Z",
     "iopub.status.idle": "2022-11-12T07:33:48.882318Z",
     "shell.execute_reply": "2022-11-12T07:33:48.882609Z"
    },
    "slideshow": {
     "slide_type": "subslide"
    }
   },
   "outputs": [
    {
     "data": {
      "text/plain": [
       "['isinstance(return_value, float)',\n",
       " 'isinstance(x, float)',\n",
       " 'return_value != 0',\n",
       " 'return_value < x',\n",
       " 'return_value <= x',\n",
       " 'return_value > 0',\n",
       " 'return_value >= 0',\n",
       " 'x != 0',\n",
       " 'x > 0',\n",
       " 'x > return_value',\n",
       " 'x >= 0',\n",
       " 'x >= return_value']"
      ]
     },
     "execution_count": 139,
     "metadata": {},
     "output_type": "execute_result"
    }
   ],
   "source": [
    "pretty_invariants(invs)"
   ]
  },
  {
   "cell_type": "markdown",
   "metadata": {
    "slideshow": {
     "slide_type": "subslide"
    }
   },
   "source": [
    "We see that the both `x` and the return value have a `float` type.  We also see that both are always greater than zero.  These are properties that may make useful pre- and postconditions, notably for symbolic analysis."
   ]
  },
  {
   "cell_type": "markdown",
   "metadata": {
    "slideshow": {
     "slide_type": "fragment"
    }
   },
   "source": [
    "However, there's also an invariant which does _not_ universally hold, namely `return_value <= x`, as the following example shows:"
   ]
  },
  {
   "cell_type": "code",
   "execution_count": 140,
   "metadata": {
    "execution": {
     "iopub.execute_input": "2022-11-12T07:33:48.884785Z",
     "iopub.status.busy": "2022-11-12T07:33:48.884434Z",
     "iopub.status.idle": "2022-11-12T07:33:48.886029Z",
     "shell.execute_reply": "2022-11-12T07:33:48.886242Z"
    },
    "slideshow": {
     "slide_type": "fragment"
    }
   },
   "outputs": [
    {
     "data": {
      "text/plain": [
       "0.1"
      ]
     },
     "execution_count": 140,
     "metadata": {},
     "output_type": "execute_result"
    }
   ],
   "source": [
    "my_sqrt(0.01)"
   ]
  },
  {
   "cell_type": "markdown",
   "metadata": {
    "slideshow": {
     "slide_type": "fragment"
    }
   },
   "source": [
    "Clearly, 0.1 > 0.01 holds.  This is a case of us not learning from sufficiently diverse inputs.  As soon as we have a call including `x = 0.1`, though, the invariant `return_value <= x` is eliminated:"
   ]
  },
  {
   "cell_type": "code",
   "execution_count": 141,
   "metadata": {
    "execution": {
     "iopub.execute_input": "2022-11-12T07:33:48.893813Z",
     "iopub.status.busy": "2022-11-12T07:33:48.893490Z",
     "iopub.status.idle": "2022-11-12T07:33:48.895136Z",
     "shell.execute_reply": "2022-11-12T07:33:48.895352Z"
    },
    "slideshow": {
     "slide_type": "subslide"
    }
   },
   "outputs": [
    {
     "data": {
      "text/plain": [
       "['isinstance(return_value, float)',\n",
       " 'isinstance(x, float)',\n",
       " 'return_value != 0',\n",
       " 'return_value > 0',\n",
       " 'return_value >= 0',\n",
       " 'x != 0',\n",
       " 'x > 0',\n",
       " 'x >= 0']"
      ]
     },
     "execution_count": 141,
     "metadata": {},
     "output_type": "execute_result"
    }
   ],
   "source": [
    "with InvariantTracker() as tracker:\n",
    "    y = my_sqrt(25.0)\n",
    "    y = my_sqrt(10.0)\n",
    "    y = my_sqrt(0.01)\n",
    "    \n",
    "pretty_invariants(tracker.invariants('my_sqrt'))"
   ]
  },
  {
   "cell_type": "markdown",
   "metadata": {
    "slideshow": {
     "slide_type": "subslide"
    }
   },
   "source": [
    "We will discuss later how to ensure sufficient diversity in inputs.  (Hint: This involves test generation.)"
   ]
  },
  {
   "cell_type": "markdown",
   "metadata": {
    "slideshow": {
     "slide_type": "fragment"
    }
   },
   "source": [
    "Let us try out our invariant tracker on `sum3()`.  We see that all types are well-defined; the properties that all arguments are non-zero, however, is specific to the calls observed."
   ]
  },
  {
   "cell_type": "code",
   "execution_count": 142,
   "metadata": {
    "execution": {
     "iopub.execute_input": "2022-11-12T07:33:48.901720Z",
     "iopub.status.busy": "2022-11-12T07:33:48.901384Z",
     "iopub.status.idle": "2022-11-12T07:33:48.902827Z",
     "shell.execute_reply": "2022-11-12T07:33:48.903096Z"
    },
    "slideshow": {
     "slide_type": "subslide"
    }
   },
   "outputs": [
    {
     "data": {
      "text/plain": [
       "['a != 0',\n",
       " 'b != 0',\n",
       " 'c != 0',\n",
       " 'isinstance(a, int)',\n",
       " 'isinstance(b, int)',\n",
       " 'isinstance(c, int)',\n",
       " 'isinstance(return_value, int)',\n",
       " 'return_value != 0']"
      ]
     },
     "execution_count": 142,
     "metadata": {},
     "output_type": "execute_result"
    }
   ],
   "source": [
    "with InvariantTracker() as tracker:\n",
    "    y = sum3(1, 2, 3)\n",
    "    y = sum3(-4, -5, -6)\n",
    "    \n",
    "pretty_invariants(tracker.invariants('sum3'))"
   ]
  },
  {
   "cell_type": "markdown",
   "metadata": {
    "slideshow": {
     "slide_type": "subslide"
    }
   },
   "source": [
    "If we invoke `sum3()` with strings instead, we get different invariants.  Notably, we obtain the postcondition that the return value starts with the value of `a` – a universal postcondition if strings are used."
   ]
  },
  {
   "cell_type": "code",
   "execution_count": 143,
   "metadata": {
    "execution": {
     "iopub.execute_input": "2022-11-12T07:33:48.909346Z",
     "iopub.status.busy": "2022-11-12T07:33:48.909018Z",
     "iopub.status.idle": "2022-11-12T07:33:48.910534Z",
     "shell.execute_reply": "2022-11-12T07:33:48.910743Z"
    },
    "slideshow": {
     "slide_type": "subslide"
    }
   },
   "outputs": [
    {
     "data": {
      "text/plain": [
       "['a != 0',\n",
       " 'a < return_value',\n",
       " 'a <= return_value',\n",
       " 'b != 0',\n",
       " 'c != 0',\n",
       " 'return_value != 0',\n",
       " 'return_value > a',\n",
       " 'return_value >= a',\n",
       " 'return_value.startswith(a)']"
      ]
     },
     "execution_count": 143,
     "metadata": {},
     "output_type": "execute_result"
    }
   ],
   "source": [
    "with InvariantTracker() as tracker:\n",
    "    y = sum3('a', 'b', 'c')\n",
    "    y = sum3('f', 'e', 'd')\n",
    "    \n",
    "pretty_invariants(tracker.invariants('sum3'))"
   ]
  },
  {
   "cell_type": "markdown",
   "metadata": {
    "slideshow": {
     "slide_type": "subslide"
    }
   },
   "source": [
    "If we invoke `sum3()` with both strings and numbers (and zeros, too), there are no properties left that would hold across all calls.  That's the price of flexibility."
   ]
  },
  {
   "cell_type": "code",
   "execution_count": 144,
   "metadata": {
    "execution": {
     "iopub.execute_input": "2022-11-12T07:33:48.919502Z",
     "iopub.status.busy": "2022-11-12T07:33:48.919161Z",
     "iopub.status.idle": "2022-11-12T07:33:48.920652Z",
     "shell.execute_reply": "2022-11-12T07:33:48.920920Z"
    },
    "slideshow": {
     "slide_type": "fragment"
    }
   },
   "outputs": [
    {
     "data": {
      "text/plain": [
       "[]"
      ]
     },
     "execution_count": 144,
     "metadata": {},
     "output_type": "execute_result"
    }
   ],
   "source": [
    "with InvariantTracker() as tracker:\n",
    "    y = sum3('a', 'b', 'c')\n",
    "    y = sum3('c', 'b', 'a')\n",
    "    y = sum3(-4, -5, -6)\n",
    "    y = sum3(0, 0, 0)\n",
    "    \n",
    "pretty_invariants(tracker.invariants('sum3'))"
   ]
  },
  {
   "cell_type": "markdown",
   "metadata": {
    "slideshow": {
     "slide_type": "subslide"
    },
    "toc-hr-collapsed": true
   },
   "source": [
    "### Converting Mined Invariants to Annotations\n",
    "\n",
    "As with types, above, we would like to have some functionality where we can add the mined invariants as annotations to existing functions.  To this end, we introduce the `InvariantAnnotator` class, extending `InvariantTracker`."
   ]
  },
  {
   "cell_type": "markdown",
   "metadata": {
    "slideshow": {
     "slide_type": "fragment"
    }
   },
   "source": [
    "We start with a helper method.  `params()` returns a comma-separated list of parameter names as observed during calls."
   ]
  },
  {
   "cell_type": "code",
   "execution_count": 145,
   "metadata": {
    "execution": {
     "iopub.execute_input": "2022-11-12T07:33:48.923325Z",
     "iopub.status.busy": "2022-11-12T07:33:48.922992Z",
     "iopub.status.idle": "2022-11-12T07:33:48.924300Z",
     "shell.execute_reply": "2022-11-12T07:33:48.924564Z"
    },
    "slideshow": {
     "slide_type": "fragment"
    }
   },
   "outputs": [],
   "source": [
    "class InvariantAnnotator(InvariantTracker):\n",
    "    def params(self, function_name):\n",
    "        arguments, return_value = self.calls(function_name)[0]\n",
    "        return \", \".join(arg_name for (arg_name, arg_value) in arguments)"
   ]
  },
  {
   "cell_type": "code",
   "execution_count": 146,
   "metadata": {
    "execution": {
     "iopub.execute_input": "2022-11-12T07:33:48.926635Z",
     "iopub.status.busy": "2022-11-12T07:33:48.926317Z",
     "iopub.status.idle": "2022-11-12T07:33:48.927731Z",
     "shell.execute_reply": "2022-11-12T07:33:48.927976Z"
    },
    "slideshow": {
     "slide_type": "fragment"
    }
   },
   "outputs": [],
   "source": [
    "with InvariantAnnotator() as annotator:\n",
    "    y = my_sqrt(25.0)\n",
    "    y = sum3(1, 2, 3)"
   ]
  },
  {
   "cell_type": "code",
   "execution_count": 147,
   "metadata": {
    "execution": {
     "iopub.execute_input": "2022-11-12T07:33:48.930738Z",
     "iopub.status.busy": "2022-11-12T07:33:48.930334Z",
     "iopub.status.idle": "2022-11-12T07:33:48.931865Z",
     "shell.execute_reply": "2022-11-12T07:33:48.932136Z"
    },
    "slideshow": {
     "slide_type": "subslide"
    }
   },
   "outputs": [
    {
     "data": {
      "text/plain": [
       "'x'"
      ]
     },
     "execution_count": 147,
     "metadata": {},
     "output_type": "execute_result"
    }
   ],
   "source": [
    "annotator.params('my_sqrt')"
   ]
  },
  {
   "cell_type": "code",
   "execution_count": 148,
   "metadata": {
    "execution": {
     "iopub.execute_input": "2022-11-12T07:33:48.934736Z",
     "iopub.status.busy": "2022-11-12T07:33:48.934183Z",
     "iopub.status.idle": "2022-11-12T07:33:48.936120Z",
     "shell.execute_reply": "2022-11-12T07:33:48.935888Z"
    },
    "slideshow": {
     "slide_type": "fragment"
    }
   },
   "outputs": [
    {
     "data": {
      "text/plain": [
       "'c, b, a'"
      ]
     },
     "execution_count": 148,
     "metadata": {},
     "output_type": "execute_result"
    }
   ],
   "source": [
    "annotator.params('sum3')"
   ]
  },
  {
   "cell_type": "markdown",
   "metadata": {
    "slideshow": {
     "slide_type": "fragment"
    }
   },
   "source": [
    "Now for the actual annotation.  `preconditions()` returns the preconditions from the mined invariants (i.e., those propertes that do not depend on the return value) as a string with annotations:"
   ]
  },
  {
   "cell_type": "code",
   "execution_count": 149,
   "metadata": {
    "execution": {
     "iopub.execute_input": "2022-11-12T07:33:48.939117Z",
     "iopub.status.busy": "2022-11-12T07:33:48.938763Z",
     "iopub.status.idle": "2022-11-12T07:33:48.940041Z",
     "shell.execute_reply": "2022-11-12T07:33:48.940308Z"
    },
    "slideshow": {
     "slide_type": "subslide"
    }
   },
   "outputs": [],
   "source": [
    "class InvariantAnnotator(InvariantAnnotator):\n",
    "    def preconditions(self, function_name):\n",
    "        conditions = []\n",
    "\n",
    "        for inv in pretty_invariants(self.invariants(function_name)):\n",
    "            if inv.find(RETURN_VALUE) >= 0:\n",
    "                continue  # Postcondition\n",
    "\n",
    "            cond = \"@precondition(lambda \" + self.params(function_name) + \": \" + inv + \")\"\n",
    "            conditions.append(cond)\n",
    "\n",
    "        return conditions"
   ]
  },
  {
   "cell_type": "code",
   "execution_count": 150,
   "metadata": {
    "execution": {
     "iopub.execute_input": "2022-11-12T07:33:48.942880Z",
     "iopub.status.busy": "2022-11-12T07:33:48.942479Z",
     "iopub.status.idle": "2022-11-12T07:33:48.943662Z",
     "shell.execute_reply": "2022-11-12T07:33:48.943888Z"
    },
    "slideshow": {
     "slide_type": "subslide"
    }
   },
   "outputs": [],
   "source": [
    "with InvariantAnnotator() as annotator:\n",
    "    y = my_sqrt(25.0)\n",
    "    y = my_sqrt(0.01)\n",
    "    y = sum3(1, 2, 3)"
   ]
  },
  {
   "cell_type": "code",
   "execution_count": 151,
   "metadata": {
    "execution": {
     "iopub.execute_input": "2022-11-12T07:33:48.949782Z",
     "iopub.status.busy": "2022-11-12T07:33:48.949348Z",
     "iopub.status.idle": "2022-11-12T07:33:48.951349Z",
     "shell.execute_reply": "2022-11-12T07:33:48.951557Z"
    },
    "slideshow": {
     "slide_type": "fragment"
    }
   },
   "outputs": [
    {
     "data": {
      "text/plain": [
       "['@precondition(lambda x: isinstance(x, float))',\n",
       " '@precondition(lambda x: x != 0)',\n",
       " '@precondition(lambda x: x > 0)',\n",
       " '@precondition(lambda x: x >= 0)']"
      ]
     },
     "execution_count": 151,
     "metadata": {},
     "output_type": "execute_result"
    }
   ],
   "source": [
    "annotator.preconditions('my_sqrt')"
   ]
  },
  {
   "cell_type": "markdown",
   "metadata": {
    "slideshow": {
     "slide_type": "fragment"
    }
   },
   "source": [
    "`postconditions()` does the same for postconditions:"
   ]
  },
  {
   "cell_type": "code",
   "execution_count": 152,
   "metadata": {
    "execution": {
     "iopub.execute_input": "2022-11-12T07:33:48.954846Z",
     "iopub.status.busy": "2022-11-12T07:33:48.954365Z",
     "iopub.status.idle": "2022-11-12T07:33:48.955616Z",
     "shell.execute_reply": "2022-11-12T07:33:48.955896Z"
    },
    "slideshow": {
     "slide_type": "subslide"
    }
   },
   "outputs": [],
   "source": [
    "class InvariantAnnotator(InvariantAnnotator):\n",
    "    def postconditions(self, function_name):\n",
    "        conditions = []\n",
    "\n",
    "        for inv in pretty_invariants(self.invariants(function_name)):\n",
    "            if inv.find(RETURN_VALUE) < 0:\n",
    "                continue  # Precondition\n",
    "\n",
    "            cond = (\"@postcondition(lambda \" + \n",
    "                RETURN_VALUE + \", \" + self.params(function_name) + \": \" + inv + \")\")\n",
    "            conditions.append(cond)\n",
    "\n",
    "        return conditions"
   ]
  },
  {
   "cell_type": "code",
   "execution_count": 153,
   "metadata": {
    "execution": {
     "iopub.execute_input": "2022-11-12T07:33:48.958264Z",
     "iopub.status.busy": "2022-11-12T07:33:48.957935Z",
     "iopub.status.idle": "2022-11-12T07:33:48.959076Z",
     "shell.execute_reply": "2022-11-12T07:33:48.959299Z"
    },
    "slideshow": {
     "slide_type": "subslide"
    }
   },
   "outputs": [],
   "source": [
    "with InvariantAnnotator() as annotator:\n",
    "    y = my_sqrt(25.0)\n",
    "    y = my_sqrt(0.01)\n",
    "    y = sum3(1, 2, 3)"
   ]
  },
  {
   "cell_type": "code",
   "execution_count": 154,
   "metadata": {
    "execution": {
     "iopub.execute_input": "2022-11-12T07:33:48.965151Z",
     "iopub.status.busy": "2022-11-12T07:33:48.964735Z",
     "iopub.status.idle": "2022-11-12T07:33:48.966496Z",
     "shell.execute_reply": "2022-11-12T07:33:48.966752Z"
    },
    "slideshow": {
     "slide_type": "fragment"
    }
   },
   "outputs": [
    {
     "data": {
      "text/plain": [
       "['@postcondition(lambda return_value, x: isinstance(return_value, float))',\n",
       " '@postcondition(lambda return_value, x: return_value != 0)',\n",
       " '@postcondition(lambda return_value, x: return_value > 0)',\n",
       " '@postcondition(lambda return_value, x: return_value >= 0)']"
      ]
     },
     "execution_count": 154,
     "metadata": {},
     "output_type": "execute_result"
    }
   ],
   "source": [
    "annotator.postconditions('my_sqrt')"
   ]
  },
  {
   "cell_type": "markdown",
   "metadata": {
    "slideshow": {
     "slide_type": "fragment"
    }
   },
   "source": [
    "With these, we can take a function and add both pre- and postconditions as annotations:"
   ]
  },
  {
   "cell_type": "code",
   "execution_count": 155,
   "metadata": {
    "execution": {
     "iopub.execute_input": "2022-11-12T07:33:48.970292Z",
     "iopub.status.busy": "2022-11-12T07:33:48.969901Z",
     "iopub.status.idle": "2022-11-12T07:33:48.971032Z",
     "shell.execute_reply": "2022-11-12T07:33:48.971251Z"
    },
    "slideshow": {
     "slide_type": "subslide"
    }
   },
   "outputs": [],
   "source": [
    "class InvariantAnnotator(InvariantAnnotator):\n",
    "    def functions_with_invariants(self):\n",
    "        functions = \"\"\n",
    "        for function_name in self.invariants():\n",
    "            try:\n",
    "                function = self.function_with_invariants(function_name)\n",
    "            except KeyError:\n",
    "                continue\n",
    "            functions += function\n",
    "        return functions\n",
    "\n",
    "    def function_with_invariants(self, function_name):\n",
    "        function = globals()[function_name]  # Can throw KeyError\n",
    "        source = inspect.getsource(function)\n",
    "        return \"\\n\".join(self.preconditions(function_name) + \n",
    "                         self.postconditions(function_name)) + '\\n' + source"
   ]
  },
  {
   "cell_type": "markdown",
   "metadata": {
    "slideshow": {
     "slide_type": "subslide"
    }
   },
   "source": [
    "Here comes `function_with_invariants()` in all its glory:"
   ]
  },
  {
   "cell_type": "code",
   "execution_count": 156,
   "metadata": {
    "execution": {
     "iopub.execute_input": "2022-11-12T07:33:48.973885Z",
     "iopub.status.busy": "2022-11-12T07:33:48.973533Z",
     "iopub.status.idle": "2022-11-12T07:33:48.974752Z",
     "shell.execute_reply": "2022-11-12T07:33:48.975018Z"
    },
    "slideshow": {
     "slide_type": "fragment"
    }
   },
   "outputs": [],
   "source": [
    "with InvariantAnnotator() as annotator:\n",
    "    y = my_sqrt(25.0)\n",
    "    y = my_sqrt(0.01)\n",
    "    y = sum3(1, 2, 3)"
   ]
  },
  {
   "cell_type": "code",
   "execution_count": 157,
   "metadata": {
    "execution": {
     "iopub.execute_input": "2022-11-12T07:33:48.977148Z",
     "iopub.status.busy": "2022-11-12T07:33:48.976789Z",
     "iopub.status.idle": "2022-11-12T07:33:48.988968Z",
     "shell.execute_reply": "2022-11-12T07:33:48.989278Z"
    },
    "slideshow": {
     "slide_type": "subslide"
    }
   },
   "outputs": [
    {
     "name": "stdout",
     "output_type": "stream",
     "text": [
      "\u001b[90m@precondition\u001b[39;49;00m(\u001b[34mlambda\u001b[39;49;00m x: \u001b[36misinstance\u001b[39;49;00m(x, \u001b[36mfloat\u001b[39;49;00m))\n",
      "\u001b[90m@precondition\u001b[39;49;00m(\u001b[34mlambda\u001b[39;49;00m x: x != \u001b[34m0\u001b[39;49;00m)\n",
      "\u001b[90m@precondition\u001b[39;49;00m(\u001b[34mlambda\u001b[39;49;00m x: x > \u001b[34m0\u001b[39;49;00m)\n",
      "\u001b[90m@precondition\u001b[39;49;00m(\u001b[34mlambda\u001b[39;49;00m x: x >= \u001b[34m0\u001b[39;49;00m)\n",
      "\u001b[90m@postcondition\u001b[39;49;00m(\u001b[34mlambda\u001b[39;49;00m return_value, x: \u001b[36misinstance\u001b[39;49;00m(return_value, \u001b[36mfloat\u001b[39;49;00m))\n",
      "\u001b[90m@postcondition\u001b[39;49;00m(\u001b[34mlambda\u001b[39;49;00m return_value, x: return_value != \u001b[34m0\u001b[39;49;00m)\n",
      "\u001b[90m@postcondition\u001b[39;49;00m(\u001b[34mlambda\u001b[39;49;00m return_value, x: return_value > \u001b[34m0\u001b[39;49;00m)\n",
      "\u001b[90m@postcondition\u001b[39;49;00m(\u001b[34mlambda\u001b[39;49;00m return_value, x: return_value >= \u001b[34m0\u001b[39;49;00m)\n",
      "\u001b[34mdef\u001b[39;49;00m \u001b[32mmy_sqrt\u001b[39;49;00m(x):\n",
      "    \u001b[33m\"\"\"Computes the square root of x, using the Newton-Raphson method\"\"\"\u001b[39;49;00m\n",
      "    approx = \u001b[34mNone\u001b[39;49;00m\n",
      "    guess = x / \u001b[34m2\u001b[39;49;00m\n",
      "    \u001b[34mwhile\u001b[39;49;00m approx != guess:\n",
      "        approx = guess\n",
      "        guess = (approx + x / approx) / \u001b[34m2\u001b[39;49;00m\n",
      "    \u001b[34mreturn\u001b[39;49;00m approx"
     ]
    }
   ],
   "source": [
    "print_content(annotator.function_with_invariants('my_sqrt'), '.py')"
   ]
  },
  {
   "cell_type": "markdown",
   "metadata": {
    "slideshow": {
     "slide_type": "subslide"
    }
   },
   "source": [
    "Quite a lot of invariants, is it?  Further below (and in the exercises), we will discuss on how to focus on the most relevant properties."
   ]
  },
  {
   "cell_type": "markdown",
   "metadata": {
    "slideshow": {
     "slide_type": "subslide"
    }
   },
   "source": [
    "### Some Examples\n",
    "\n",
    "Here's another example.  `list_length()` recursively computes the length of a Python function.  Let us see whether we can mine its invariants:"
   ]
  },
  {
   "cell_type": "code",
   "execution_count": 158,
   "metadata": {
    "execution": {
     "iopub.execute_input": "2022-11-12T07:33:48.991729Z",
     "iopub.status.busy": "2022-11-12T07:33:48.991391Z",
     "iopub.status.idle": "2022-11-12T07:33:48.992641Z",
     "shell.execute_reply": "2022-11-12T07:33:48.992911Z"
    },
    "slideshow": {
     "slide_type": "fragment"
    }
   },
   "outputs": [],
   "source": [
    "def list_length(L):\n",
    "    if L == []:\n",
    "        length = 0\n",
    "    else:\n",
    "        length = 1 + list_length(L[1:])\n",
    "    return length"
   ]
  },
  {
   "cell_type": "code",
   "execution_count": 159,
   "metadata": {
    "execution": {
     "iopub.execute_input": "2022-11-12T07:33:49.016061Z",
     "iopub.status.busy": "2022-11-12T07:33:49.015672Z",
     "iopub.status.idle": "2022-11-12T07:33:49.016943Z",
     "shell.execute_reply": "2022-11-12T07:33:49.017212Z"
    },
    "slideshow": {
     "slide_type": "subslide"
    }
   },
   "outputs": [
    {
     "name": "stdout",
     "output_type": "stream",
     "text": [
      "\u001b[90m@precondition\u001b[39;49;00m(\u001b[34mlambda\u001b[39;49;00m L: L != \u001b[34m0\u001b[39;49;00m)\n",
      "\u001b[90m@precondition\u001b[39;49;00m(\u001b[34mlambda\u001b[39;49;00m L: \u001b[36misinstance\u001b[39;49;00m(L, \u001b[36mlist\u001b[39;49;00m))\n",
      "\u001b[90m@postcondition\u001b[39;49;00m(\u001b[34mlambda\u001b[39;49;00m return_value, L: \u001b[36misinstance\u001b[39;49;00m(return_value, \u001b[36mint\u001b[39;49;00m))\n",
      "\u001b[90m@postcondition\u001b[39;49;00m(\u001b[34mlambda\u001b[39;49;00m return_value, L: return_value == \u001b[36mlen\u001b[39;49;00m(L))\n",
      "\u001b[90m@postcondition\u001b[39;49;00m(\u001b[34mlambda\u001b[39;49;00m return_value, L: return_value >= \u001b[34m0\u001b[39;49;00m)\n",
      "\u001b[34mdef\u001b[39;49;00m \u001b[32mlist_length\u001b[39;49;00m(L):\n",
      "    \u001b[34mif\u001b[39;49;00m L == []:\n",
      "        length = \u001b[34m0\u001b[39;49;00m\n",
      "    \u001b[34melse\u001b[39;49;00m:\n",
      "        length = \u001b[34m1\u001b[39;49;00m + list_length(L[\u001b[34m1\u001b[39;49;00m:])\n",
      "    \u001b[34mreturn\u001b[39;49;00m length"
     ]
    }
   ],
   "source": [
    "with InvariantAnnotator() as annotator:\n",
    "    length = list_length([1, 2, 3])\n",
    "\n",
    "print_content(annotator.functions_with_invariants(), '.py')"
   ]
  },
  {
   "cell_type": "markdown",
   "metadata": {
    "slideshow": {
     "slide_type": "subslide"
    }
   },
   "source": [
    "Almost all these properties (except for the very first) are relevant.  Of course, the reason the invariants are so neat is that the return value is equal to `len(L)` is that `X == len(Y)` is part of the list of properties to be checked."
   ]
  },
  {
   "cell_type": "markdown",
   "metadata": {
    "slideshow": {
     "slide_type": "fragment"
    }
   },
   "source": [
    "The next example is a very simple function:"
   ]
  },
  {
   "cell_type": "code",
   "execution_count": 160,
   "metadata": {
    "execution": {
     "iopub.execute_input": "2022-11-12T07:33:49.019488Z",
     "iopub.status.busy": "2022-11-12T07:33:49.019142Z",
     "iopub.status.idle": "2022-11-12T07:33:49.020460Z",
     "shell.execute_reply": "2022-11-12T07:33:49.020688Z"
    },
    "slideshow": {
     "slide_type": "fragment"
    }
   },
   "outputs": [],
   "source": [
    "def sum2(a, b):\n",
    "    return a + b"
   ]
  },
  {
   "cell_type": "code",
   "execution_count": 161,
   "metadata": {
    "execution": {
     "iopub.execute_input": "2022-11-12T07:33:49.023026Z",
     "iopub.status.busy": "2022-11-12T07:33:49.022689Z",
     "iopub.status.idle": "2022-11-12T07:33:49.023888Z",
     "shell.execute_reply": "2022-11-12T07:33:49.024103Z"
    },
    "slideshow": {
     "slide_type": "fragment"
    }
   },
   "outputs": [],
   "source": [
    "with InvariantAnnotator() as annotator:\n",
    "    sum2(31, 45)\n",
    "    sum2(0, 0)\n",
    "    sum2(-1, -5)"
   ]
  },
  {
   "cell_type": "markdown",
   "metadata": {
    "slideshow": {
     "slide_type": "fragment"
    }
   },
   "source": [
    "The invariants all capture the relationship between `a`, `b`, and the return value as `return_value == a + b` in all its variations."
   ]
  },
  {
   "cell_type": "code",
   "execution_count": 162,
   "metadata": {
    "execution": {
     "iopub.execute_input": "2022-11-12T07:33:49.030419Z",
     "iopub.status.busy": "2022-11-12T07:33:49.030110Z",
     "iopub.status.idle": "2022-11-12T07:33:49.044289Z",
     "shell.execute_reply": "2022-11-12T07:33:49.044514Z"
    },
    "slideshow": {
     "slide_type": "subslide"
    }
   },
   "outputs": [
    {
     "name": "stdout",
     "output_type": "stream",
     "text": [
      "\u001b[90m@precondition\u001b[39;49;00m(\u001b[34mlambda\u001b[39;49;00m b, a: \u001b[36misinstance\u001b[39;49;00m(a, \u001b[36mint\u001b[39;49;00m))\n",
      "\u001b[90m@precondition\u001b[39;49;00m(\u001b[34mlambda\u001b[39;49;00m b, a: \u001b[36misinstance\u001b[39;49;00m(b, \u001b[36mint\u001b[39;49;00m))\n",
      "\u001b[90m@postcondition\u001b[39;49;00m(\u001b[34mlambda\u001b[39;49;00m return_value, b, a: a == return_value - b)\n",
      "\u001b[90m@postcondition\u001b[39;49;00m(\u001b[34mlambda\u001b[39;49;00m return_value, b, a: b == return_value - a)\n",
      "\u001b[90m@postcondition\u001b[39;49;00m(\u001b[34mlambda\u001b[39;49;00m return_value, b, a: \u001b[36misinstance\u001b[39;49;00m(return_value, \u001b[36mint\u001b[39;49;00m))\n",
      "\u001b[90m@postcondition\u001b[39;49;00m(\u001b[34mlambda\u001b[39;49;00m return_value, b, a: return_value == a + b)\n",
      "\u001b[90m@postcondition\u001b[39;49;00m(\u001b[34mlambda\u001b[39;49;00m return_value, b, a: return_value == b + a)\n",
      "\u001b[34mdef\u001b[39;49;00m \u001b[32msum2\u001b[39;49;00m(a, b):\n",
      "    \u001b[34mreturn\u001b[39;49;00m a + b"
     ]
    }
   ],
   "source": [
    "print_content(annotator.functions_with_invariants(), '.py')"
   ]
  },
  {
   "cell_type": "markdown",
   "metadata": {
    "slideshow": {
     "slide_type": "fragment"
    }
   },
   "source": [
    "If we have a function without return value, the return value is `None` and we can only mine preconditions.  (Well, we get a \"postcondition\" that the return value is non-zero, which holds for `None`)."
   ]
  },
  {
   "cell_type": "code",
   "execution_count": 163,
   "metadata": {
    "execution": {
     "iopub.execute_input": "2022-11-12T07:33:49.046518Z",
     "iopub.status.busy": "2022-11-12T07:33:49.046200Z",
     "iopub.status.idle": "2022-11-12T07:33:49.047468Z",
     "shell.execute_reply": "2022-11-12T07:33:49.047695Z"
    },
    "slideshow": {
     "slide_type": "fragment"
    }
   },
   "outputs": [],
   "source": [
    "def print_sum(a, b):\n",
    "    print(a + b)"
   ]
  },
  {
   "cell_type": "code",
   "execution_count": 164,
   "metadata": {
    "execution": {
     "iopub.execute_input": "2022-11-12T07:33:49.050015Z",
     "iopub.status.busy": "2022-11-12T07:33:49.049641Z",
     "iopub.status.idle": "2022-11-12T07:33:49.051206Z",
     "shell.execute_reply": "2022-11-12T07:33:49.051468Z"
    },
    "slideshow": {
     "slide_type": "subslide"
    }
   },
   "outputs": [
    {
     "name": "stdout",
     "output_type": "stream",
     "text": [
      "76\n",
      "0\n",
      "-6\n"
     ]
    }
   ],
   "source": [
    "with InvariantAnnotator() as annotator:\n",
    "    print_sum(31, 45)\n",
    "    print_sum(0, 0)\n",
    "    print_sum(-1, -5)"
   ]
  },
  {
   "cell_type": "code",
   "execution_count": 165,
   "metadata": {
    "execution": {
     "iopub.execute_input": "2022-11-12T07:33:49.159252Z",
     "iopub.status.busy": "2022-11-12T07:33:49.115498Z",
     "iopub.status.idle": "2022-11-12T07:33:49.178593Z",
     "shell.execute_reply": "2022-11-12T07:33:49.178833Z"
    },
    "slideshow": {
     "slide_type": "fragment"
    }
   },
   "outputs": [
    {
     "name": "stdout",
     "output_type": "stream",
     "text": [
      "\u001b[90m@precondition\u001b[39;49;00m(\u001b[34mlambda\u001b[39;49;00m b, a: \u001b[36misinstance\u001b[39;49;00m(a, \u001b[36mint\u001b[39;49;00m))\n",
      "\u001b[90m@precondition\u001b[39;49;00m(\u001b[34mlambda\u001b[39;49;00m b, a: \u001b[36misinstance\u001b[39;49;00m(b, \u001b[36mint\u001b[39;49;00m))\n",
      "\u001b[90m@postcondition\u001b[39;49;00m(\u001b[34mlambda\u001b[39;49;00m return_value, b, a: return_value != \u001b[34m0\u001b[39;49;00m)\n",
      "\u001b[34mdef\u001b[39;49;00m \u001b[32mprint_sum\u001b[39;49;00m(a, b):\n",
      "    \u001b[36mprint\u001b[39;49;00m(a + b)"
     ]
    }
   ],
   "source": [
    "print_content(annotator.functions_with_invariants(), '.py')"
   ]
  },
  {
   "cell_type": "markdown",
   "metadata": {
    "slideshow": {
     "slide_type": "subslide"
    }
   },
   "source": [
    "### Checking Specifications\n",
    "\n",
    "A function with invariants, as above, can be fed into the Python interpreter, such that all pre- and postconditions are checked.  We create a function `my_sqrt_annotated()` which includes all the invariants mined above."
   ]
  },
  {
   "cell_type": "code",
   "execution_count": 166,
   "metadata": {
    "execution": {
     "iopub.execute_input": "2022-11-12T07:33:49.181063Z",
     "iopub.status.busy": "2022-11-12T07:33:49.180724Z",
     "iopub.status.idle": "2022-11-12T07:33:49.182062Z",
     "shell.execute_reply": "2022-11-12T07:33:49.182279Z"
    },
    "slideshow": {
     "slide_type": "fragment"
    }
   },
   "outputs": [],
   "source": [
    "with InvariantAnnotator() as annotator:\n",
    "    y = my_sqrt(25.0)\n",
    "    y = my_sqrt(0.01)"
   ]
  },
  {
   "cell_type": "code",
   "execution_count": 167,
   "metadata": {
    "execution": {
     "iopub.execute_input": "2022-11-12T07:33:49.192912Z",
     "iopub.status.busy": "2022-11-12T07:33:49.186549Z",
     "iopub.status.idle": "2022-11-12T07:33:49.194445Z",
     "shell.execute_reply": "2022-11-12T07:33:49.194659Z"
    },
    "slideshow": {
     "slide_type": "fragment"
    }
   },
   "outputs": [],
   "source": [
    "my_sqrt_def = annotator.functions_with_invariants()\n",
    "my_sqrt_def = my_sqrt_def.replace('my_sqrt', 'my_sqrt_annotated')"
   ]
  },
  {
   "cell_type": "code",
   "execution_count": 168,
   "metadata": {
    "execution": {
     "iopub.execute_input": "2022-11-12T07:33:49.200126Z",
     "iopub.status.busy": "2022-11-12T07:33:49.199747Z",
     "iopub.status.idle": "2022-11-12T07:33:49.201164Z",
     "shell.execute_reply": "2022-11-12T07:33:49.201384Z"
    },
    "slideshow": {
     "slide_type": "subslide"
    }
   },
   "outputs": [
    {
     "name": "stdout",
     "output_type": "stream",
     "text": [
      "\u001b[90m@precondition\u001b[39;49;00m(\u001b[34mlambda\u001b[39;49;00m x: \u001b[36misinstance\u001b[39;49;00m(x, \u001b[36mfloat\u001b[39;49;00m))\n",
      "\u001b[90m@precondition\u001b[39;49;00m(\u001b[34mlambda\u001b[39;49;00m x: x != \u001b[34m0\u001b[39;49;00m)\n",
      "\u001b[90m@precondition\u001b[39;49;00m(\u001b[34mlambda\u001b[39;49;00m x: x > \u001b[34m0\u001b[39;49;00m)\n",
      "\u001b[90m@precondition\u001b[39;49;00m(\u001b[34mlambda\u001b[39;49;00m x: x >= \u001b[34m0\u001b[39;49;00m)\n",
      "\u001b[90m@postcondition\u001b[39;49;00m(\u001b[34mlambda\u001b[39;49;00m return_value, x: \u001b[36misinstance\u001b[39;49;00m(return_value, \u001b[36mfloat\u001b[39;49;00m))\n",
      "\u001b[90m@postcondition\u001b[39;49;00m(\u001b[34mlambda\u001b[39;49;00m return_value, x: return_value != \u001b[34m0\u001b[39;49;00m)\n",
      "\u001b[90m@postcondition\u001b[39;49;00m(\u001b[34mlambda\u001b[39;49;00m return_value, x: return_value > \u001b[34m0\u001b[39;49;00m)\n",
      "\u001b[90m@postcondition\u001b[39;49;00m(\u001b[34mlambda\u001b[39;49;00m return_value, x: return_value >= \u001b[34m0\u001b[39;49;00m)\n",
      "\u001b[34mdef\u001b[39;49;00m \u001b[32mmy_sqrt_annotated\u001b[39;49;00m(x):\n",
      "    \u001b[33m\"\"\"Computes the square root of x, using the Newton-Raphson method\"\"\"\u001b[39;49;00m\n",
      "    approx = \u001b[34mNone\u001b[39;49;00m\n",
      "    guess = x / \u001b[34m2\u001b[39;49;00m\n",
      "    \u001b[34mwhile\u001b[39;49;00m approx != guess:\n",
      "        approx = guess\n",
      "        guess = (approx + x / approx) / \u001b[34m2\u001b[39;49;00m\n",
      "    \u001b[34mreturn\u001b[39;49;00m approx"
     ]
    }
   ],
   "source": [
    "print_content(my_sqrt_def, '.py')"
   ]
  },
  {
   "cell_type": "code",
   "execution_count": 169,
   "metadata": {
    "execution": {
     "iopub.execute_input": "2022-11-12T07:33:49.203390Z",
     "iopub.status.busy": "2022-11-12T07:33:49.203063Z",
     "iopub.status.idle": "2022-11-12T07:33:49.204408Z",
     "shell.execute_reply": "2022-11-12T07:33:49.204628Z"
    },
    "slideshow": {
     "slide_type": "subslide"
    }
   },
   "outputs": [],
   "source": [
    "exec(my_sqrt_def)"
   ]
  },
  {
   "cell_type": "markdown",
   "metadata": {
    "slideshow": {
     "slide_type": "fragment"
    }
   },
   "source": [
    "The \"annotated\" version checks against invalid arguments – or more precisely, against arguments with properties that have not been observed yet:"
   ]
  },
  {
   "cell_type": "code",
   "execution_count": 170,
   "metadata": {
    "execution": {
     "iopub.execute_input": "2022-11-12T07:33:49.206719Z",
     "iopub.status.busy": "2022-11-12T07:33:49.206363Z",
     "iopub.status.idle": "2022-11-12T07:33:49.207597Z",
     "shell.execute_reply": "2022-11-12T07:33:49.207870Z"
    },
    "slideshow": {
     "slide_type": "subslide"
    }
   },
   "outputs": [
    {
     "name": "stderr",
     "output_type": "stream",
     "text": [
      "Traceback (most recent call last):\n",
      "  File \"/var/folders/n2/xd9445p97rb3xh7m1dfx8_4h0006ts/T/ipykernel_43875/3390953352.py\", line 2, in <module>\n",
      "    my_sqrt_annotated(-1.0)\n",
      "  File \"/var/folders/n2/xd9445p97rb3xh7m1dfx8_4h0006ts/T/ipykernel_43875/906718213.py\", line 8, in wrapper\n",
      "    retval = func(*args, **kwargs) # call original function or method\n",
      "  File \"/var/folders/n2/xd9445p97rb3xh7m1dfx8_4h0006ts/T/ipykernel_43875/906718213.py\", line 8, in wrapper\n",
      "    retval = func(*args, **kwargs) # call original function or method\n",
      "  File \"/var/folders/n2/xd9445p97rb3xh7m1dfx8_4h0006ts/T/ipykernel_43875/906718213.py\", line 6, in wrapper\n",
      "    assert precondition(*args, **kwargs), \"Precondition violated\"\n",
      "AssertionError: Precondition violated (expected)\n"
     ]
    }
   ],
   "source": [
    "with ExpectError():\n",
    "    my_sqrt_annotated(-1.0)"
   ]
  },
  {
   "cell_type": "markdown",
   "metadata": {
    "slideshow": {
     "slide_type": "fragment"
    }
   },
   "source": [
    "This is in contrast to the original version, which just hangs on negative values:"
   ]
  },
  {
   "cell_type": "code",
   "execution_count": 171,
   "metadata": {
    "execution": {
     "iopub.execute_input": "2022-11-12T07:33:49.308424Z",
     "iopub.status.busy": "2022-11-12T07:33:49.265954Z",
     "iopub.status.idle": "2022-11-12T07:33:50.212033Z",
     "shell.execute_reply": "2022-11-12T07:33:50.212343Z"
    },
    "slideshow": {
     "slide_type": "subslide"
    }
   },
   "outputs": [
    {
     "name": "stderr",
     "output_type": "stream",
     "text": [
      "Traceback (most recent call last):\n",
      "  File \"/var/folders/n2/xd9445p97rb3xh7m1dfx8_4h0006ts/T/ipykernel_43875/2605599394.py\", line 2, in <module>\n",
      "    my_sqrt(-1.0)\n",
      "  File \"/var/folders/n2/xd9445p97rb3xh7m1dfx8_4h0006ts/T/ipykernel_43875/2661069967.py\", line 5, in my_sqrt\n",
      "    while approx != guess:\n",
      "  File \"/Users/zeller/Projects/fuzzingbook/notebooks/Timeout.ipynb\", line 43, in timeout_handler\n",
      "    raise TimeoutError()\n",
      "TimeoutError (expected)\n"
     ]
    }
   ],
   "source": [
    "with ExpectTimeout(1):\n",
    "    my_sqrt(-1.0)"
   ]
  },
  {
   "cell_type": "markdown",
   "metadata": {
    "slideshow": {
     "slide_type": "fragment"
    }
   },
   "source": [
    "If we make changes to the function definition such that the properties of the return value change, such _regressions_ are caught as violations of the postconditions.  Let us illustrate this by simply inverting the result, and return $-2$ as square root of 4."
   ]
  },
  {
   "cell_type": "code",
   "execution_count": 172,
   "metadata": {
    "execution": {
     "iopub.execute_input": "2022-11-12T07:33:50.214541Z",
     "iopub.status.busy": "2022-11-12T07:33:50.213802Z",
     "iopub.status.idle": "2022-11-12T07:33:50.215928Z",
     "shell.execute_reply": "2022-11-12T07:33:50.216213Z"
    },
    "slideshow": {
     "slide_type": "subslide"
    }
   },
   "outputs": [],
   "source": [
    "my_sqrt_def = my_sqrt_def.replace('my_sqrt_annotated', 'my_sqrt_negative')\n",
    "my_sqrt_def = my_sqrt_def.replace('return approx', 'return -approx')"
   ]
  },
  {
   "cell_type": "code",
   "execution_count": 173,
   "metadata": {
    "execution": {
     "iopub.execute_input": "2022-11-12T07:33:50.222490Z",
     "iopub.status.busy": "2022-11-12T07:33:50.222076Z",
     "iopub.status.idle": "2022-11-12T07:33:50.223393Z",
     "shell.execute_reply": "2022-11-12T07:33:50.223670Z"
    },
    "slideshow": {
     "slide_type": "subslide"
    }
   },
   "outputs": [
    {
     "name": "stdout",
     "output_type": "stream",
     "text": [
      "\u001b[90m@precondition\u001b[39;49;00m(\u001b[34mlambda\u001b[39;49;00m x: \u001b[36misinstance\u001b[39;49;00m(x, \u001b[36mfloat\u001b[39;49;00m))\n",
      "\u001b[90m@precondition\u001b[39;49;00m(\u001b[34mlambda\u001b[39;49;00m x: x != \u001b[34m0\u001b[39;49;00m)\n",
      "\u001b[90m@precondition\u001b[39;49;00m(\u001b[34mlambda\u001b[39;49;00m x: x > \u001b[34m0\u001b[39;49;00m)\n",
      "\u001b[90m@precondition\u001b[39;49;00m(\u001b[34mlambda\u001b[39;49;00m x: x >= \u001b[34m0\u001b[39;49;00m)\n",
      "\u001b[90m@postcondition\u001b[39;49;00m(\u001b[34mlambda\u001b[39;49;00m return_value, x: \u001b[36misinstance\u001b[39;49;00m(return_value, \u001b[36mfloat\u001b[39;49;00m))\n",
      "\u001b[90m@postcondition\u001b[39;49;00m(\u001b[34mlambda\u001b[39;49;00m return_value, x: return_value != \u001b[34m0\u001b[39;49;00m)\n",
      "\u001b[90m@postcondition\u001b[39;49;00m(\u001b[34mlambda\u001b[39;49;00m return_value, x: return_value > \u001b[34m0\u001b[39;49;00m)\n",
      "\u001b[90m@postcondition\u001b[39;49;00m(\u001b[34mlambda\u001b[39;49;00m return_value, x: return_value >= \u001b[34m0\u001b[39;49;00m)\n",
      "\u001b[34mdef\u001b[39;49;00m \u001b[32mmy_sqrt_negative\u001b[39;49;00m(x):\n",
      "    \u001b[33m\"\"\"Computes the square root of x, using the Newton-Raphson method\"\"\"\u001b[39;49;00m\n",
      "    approx = \u001b[34mNone\u001b[39;49;00m\n",
      "    guess = x / \u001b[34m2\u001b[39;49;00m\n",
      "    \u001b[34mwhile\u001b[39;49;00m approx != guess:\n",
      "        approx = guess\n",
      "        guess = (approx + x / approx) / \u001b[34m2\u001b[39;49;00m\n",
      "    \u001b[34mreturn\u001b[39;49;00m -approx"
     ]
    }
   ],
   "source": [
    "print_content(my_sqrt_def, '.py')"
   ]
  },
  {
   "cell_type": "code",
   "execution_count": 174,
   "metadata": {
    "execution": {
     "iopub.execute_input": "2022-11-12T07:33:50.226304Z",
     "iopub.status.busy": "2022-11-12T07:33:50.225810Z",
     "iopub.status.idle": "2022-11-12T07:33:50.226964Z",
     "shell.execute_reply": "2022-11-12T07:33:50.227291Z"
    },
    "slideshow": {
     "slide_type": "subslide"
    },
    "tags": []
   },
   "outputs": [],
   "source": [
    "exec(my_sqrt_def)"
   ]
  },
  {
   "cell_type": "markdown",
   "metadata": {
    "slideshow": {
     "slide_type": "fragment"
    }
   },
   "source": [
    "Technically speaking, $-2$ _is_ a square root of 4, since $(-2)^2 = 4$ holds.  Yet, such a change may be unexpected by callers of `my_sqrt()`, and hence, this would be caught with the first call:"
   ]
  },
  {
   "cell_type": "code",
   "execution_count": 175,
   "metadata": {
    "execution": {
     "iopub.execute_input": "2022-11-12T07:33:50.229770Z",
     "iopub.status.busy": "2022-11-12T07:33:50.229435Z",
     "iopub.status.idle": "2022-11-12T07:33:50.230864Z",
     "shell.execute_reply": "2022-11-12T07:33:50.231096Z"
    },
    "slideshow": {
     "slide_type": "subslide"
    }
   },
   "outputs": [
    {
     "name": "stderr",
     "output_type": "stream",
     "text": [
      "Traceback (most recent call last):\n",
      "  File \"/var/folders/n2/xd9445p97rb3xh7m1dfx8_4h0006ts/T/ipykernel_43875/2428286732.py\", line 2, in <module>\n",
      "    my_sqrt_negative(2.0)  # type: ignore\n",
      "  File \"/var/folders/n2/xd9445p97rb3xh7m1dfx8_4h0006ts/T/ipykernel_43875/906718213.py\", line 8, in wrapper\n",
      "    retval = func(*args, **kwargs) # call original function or method\n",
      "  File \"/var/folders/n2/xd9445p97rb3xh7m1dfx8_4h0006ts/T/ipykernel_43875/906718213.py\", line 8, in wrapper\n",
      "    retval = func(*args, **kwargs) # call original function or method\n",
      "  File \"/var/folders/n2/xd9445p97rb3xh7m1dfx8_4h0006ts/T/ipykernel_43875/906718213.py\", line 8, in wrapper\n",
      "    retval = func(*args, **kwargs) # call original function or method\n",
      "  [Previous line repeated 4 more times]\n",
      "  File \"/var/folders/n2/xd9445p97rb3xh7m1dfx8_4h0006ts/T/ipykernel_43875/906718213.py\", line 10, in wrapper\n",
      "    assert postcondition(retval, *args, **kwargs), \"Postcondition violated\"\n",
      "AssertionError: Postcondition violated (expected)\n"
     ]
    }
   ],
   "source": [
    "with ExpectError():\n",
    "    my_sqrt_negative(2.0)  # type: ignore"
   ]
  },
  {
   "cell_type": "markdown",
   "metadata": {
    "slideshow": {
     "slide_type": "subslide"
    }
   },
   "source": [
    "We see how pre- and postconditions, as well as types, can serve as *oracles* during testing.  In particular, once we have mined them for a set of functions, we can check them again and again with test generators – especially after code changes.  The more checks we have, and the more specific they are, the more likely it is we can detect unwanted effects of changes."
   ]
  },
  {
   "cell_type": "markdown",
   "metadata": {
    "slideshow": {
     "slide_type": "slide"
    }
   },
   "source": [
    "## Mining Specifications from Generated Tests\n",
    "\n",
    "Mined specifications can only be as good as the executions they were mined from.  If we only see a single call to, say, `sum2()` as defined above, we will be faced with several mined pre- and postconditions that _overspecialize_ towards the values seen:"
   ]
  },
  {
   "cell_type": "code",
   "execution_count": 176,
   "metadata": {
    "execution": {
     "iopub.execute_input": "2022-11-12T07:33:50.249601Z",
     "iopub.status.busy": "2022-11-12T07:33:50.241092Z",
     "iopub.status.idle": "2022-11-12T07:33:50.251179Z",
     "shell.execute_reply": "2022-11-12T07:33:50.251453Z"
    },
    "slideshow": {
     "slide_type": "subslide"
    }
   },
   "outputs": [
    {
     "name": "stdout",
     "output_type": "stream",
     "text": [
      "\u001b[90m@precondition\u001b[39;49;00m(\u001b[34mlambda\u001b[39;49;00m b, a: a != \u001b[34m0\u001b[39;49;00m)\n",
      "\u001b[90m@precondition\u001b[39;49;00m(\u001b[34mlambda\u001b[39;49;00m b, a: a <= b)\n",
      "\u001b[90m@precondition\u001b[39;49;00m(\u001b[34mlambda\u001b[39;49;00m b, a: a == b)\n",
      "\u001b[90m@precondition\u001b[39;49;00m(\u001b[34mlambda\u001b[39;49;00m b, a: a > \u001b[34m0\u001b[39;49;00m)\n",
      "\u001b[90m@precondition\u001b[39;49;00m(\u001b[34mlambda\u001b[39;49;00m b, a: a >= \u001b[34m0\u001b[39;49;00m)\n",
      "\u001b[90m@precondition\u001b[39;49;00m(\u001b[34mlambda\u001b[39;49;00m b, a: a >= b)\n",
      "\u001b[90m@precondition\u001b[39;49;00m(\u001b[34mlambda\u001b[39;49;00m b, a: b != \u001b[34m0\u001b[39;49;00m)\n",
      "\u001b[90m@precondition\u001b[39;49;00m(\u001b[34mlambda\u001b[39;49;00m b, a: b <= a)\n",
      "\u001b[90m@precondition\u001b[39;49;00m(\u001b[34mlambda\u001b[39;49;00m b, a: b == a)\n",
      "\u001b[90m@precondition\u001b[39;49;00m(\u001b[34mlambda\u001b[39;49;00m b, a: b > \u001b[34m0\u001b[39;49;00m)\n",
      "\u001b[90m@precondition\u001b[39;49;00m(\u001b[34mlambda\u001b[39;49;00m b, a: b >= \u001b[34m0\u001b[39;49;00m)\n",
      "\u001b[90m@precondition\u001b[39;49;00m(\u001b[34mlambda\u001b[39;49;00m b, a: b >= a)\n",
      "\u001b[90m@precondition\u001b[39;49;00m(\u001b[34mlambda\u001b[39;49;00m b, a: \u001b[36misinstance\u001b[39;49;00m(a, \u001b[36mint\u001b[39;49;00m))\n",
      "\u001b[90m@precondition\u001b[39;49;00m(\u001b[34mlambda\u001b[39;49;00m b, a: \u001b[36misinstance\u001b[39;49;00m(b, \u001b[36mint\u001b[39;49;00m))\n",
      "\u001b[90m@postcondition\u001b[39;49;00m(\u001b[34mlambda\u001b[39;49;00m return_value, b, a: a < return_value)\n",
      "\u001b[90m@postcondition\u001b[39;49;00m(\u001b[34mlambda\u001b[39;49;00m return_value, b, a: a <= b <= return_value)\n",
      "\u001b[90m@postcondition\u001b[39;49;00m(\u001b[34mlambda\u001b[39;49;00m return_value, b, a: a <= return_value)\n",
      "\u001b[90m@postcondition\u001b[39;49;00m(\u001b[34mlambda\u001b[39;49;00m return_value, b, a: a == return_value - b)\n",
      "\u001b[90m@postcondition\u001b[39;49;00m(\u001b[34mlambda\u001b[39;49;00m return_value, b, a: a == return_value / b)\n",
      "\u001b[90m@postcondition\u001b[39;49;00m(\u001b[34mlambda\u001b[39;49;00m return_value, b, a: b < return_value)\n",
      "\u001b[90m@postcondition\u001b[39;49;00m(\u001b[34mlambda\u001b[39;49;00m return_value, b, a: b <= a <= return_value)\n",
      "\u001b[90m@postcondition\u001b[39;49;00m(\u001b[34mlambda\u001b[39;49;00m return_value, b, a: b <= return_value)\n",
      "\u001b[90m@postcondition\u001b[39;49;00m(\u001b[34mlambda\u001b[39;49;00m return_value, b, a: b == return_value - a)\n",
      "\u001b[90m@postcondition\u001b[39;49;00m(\u001b[34mlambda\u001b[39;49;00m return_value, b, a: b == return_value / a)\n",
      "\u001b[90m@postcondition\u001b[39;49;00m(\u001b[34mlambda\u001b[39;49;00m return_value, b, a: \u001b[36misinstance\u001b[39;49;00m(return_value, \u001b[36mint\u001b[39;49;00m))\n",
      "\u001b[90m@postcondition\u001b[39;49;00m(\u001b[34mlambda\u001b[39;49;00m return_value, b, a: return_value != \u001b[34m0\u001b[39;49;00m)\n",
      "\u001b[90m@postcondition\u001b[39;49;00m(\u001b[34mlambda\u001b[39;49;00m return_value, b, a: return_value == a * b)\n",
      "\u001b[90m@postcondition\u001b[39;49;00m(\u001b[34mlambda\u001b[39;49;00m return_value, b, a: return_value == a + b)\n",
      "\u001b[90m@postcondition\u001b[39;49;00m(\u001b[34mlambda\u001b[39;49;00m return_value, b, a: return_value == b * a)\n",
      "\u001b[90m@postcondition\u001b[39;49;00m(\u001b[34mlambda\u001b[39;49;00m return_value, b, a: return_value == b + a)\n",
      "\u001b[90m@postcondition\u001b[39;49;00m(\u001b[34mlambda\u001b[39;49;00m return_value, b, a: return_value > \u001b[34m0\u001b[39;49;00m)\n",
      "\u001b[90m@postcondition\u001b[39;49;00m(\u001b[34mlambda\u001b[39;49;00m return_value, b, a: return_value > a)\n",
      "\u001b[90m@postcondition\u001b[39;49;00m(\u001b[34mlambda\u001b[39;49;00m return_value, b, a: return_value > b)\n",
      "\u001b[90m@postcondition\u001b[39;49;00m(\u001b[34mlambda\u001b[39;49;00m return_value, b, a: return_value >= \u001b[34m0\u001b[39;49;00m)\n",
      "\u001b[90m@postcondition\u001b[39;49;00m(\u001b[34mlambda\u001b[39;49;00m return_value, b, a: return_value >= a)\n",
      "\u001b[90m@postcondition\u001b[39;49;00m(\u001b[34mlambda\u001b[39;49;00m return_value, b, a: return_value >= a >= b)\n",
      "\u001b[90m@postcondition\u001b[39;49;00m(\u001b[34mlambda\u001b[39;49;00m return_value, b, a: return_value >= b)\n",
      "\u001b[90m@postcondition\u001b[39;49;00m(\u001b[34mlambda\u001b[39;49;00m return_value, b, a: return_value >= b >= a)\n",
      "\u001b[34mdef\u001b[39;49;00m \u001b[32msum2\u001b[39;49;00m(a, b):\n",
      "    \u001b[34mreturn\u001b[39;49;00m a + b"
     ]
    }
   ],
   "source": [
    "with InvariantAnnotator() as annotator:\n",
    "    y = sum2(2, 2)\n",
    "print_content(annotator.functions_with_invariants(), '.py')"
   ]
  },
  {
   "cell_type": "markdown",
   "metadata": {
    "slideshow": {
     "slide_type": "subslide"
    }
   },
   "source": [
    "The mined precondition `a == b`, for instance, only holds for the single call observed; the same holds for the mined postcondition `return_value == a * b`.  Yet, `sum2()` can obviously be successfully called with other values that do not satisfy these conditions."
   ]
  },
  {
   "cell_type": "markdown",
   "metadata": {
    "slideshow": {
     "slide_type": "fragment"
    }
   },
   "source": [
    "To get out of this trap, we have to _learn from more and more diverse runs_.  If we have a few more calls of `sum2()`, we see how the set of invariants quickly gets smaller:"
   ]
  },
  {
   "cell_type": "code",
   "execution_count": 177,
   "metadata": {
    "execution": {
     "iopub.execute_input": "2022-11-12T07:33:50.271068Z",
     "iopub.status.busy": "2022-11-12T07:33:50.270709Z",
     "iopub.status.idle": "2022-11-12T07:33:50.272158Z",
     "shell.execute_reply": "2022-11-12T07:33:50.272379Z"
    },
    "slideshow": {
     "slide_type": "subslide"
    }
   },
   "outputs": [
    {
     "name": "stdout",
     "output_type": "stream",
     "text": [
      "\u001b[90m@precondition\u001b[39;49;00m(\u001b[34mlambda\u001b[39;49;00m b, a: \u001b[36misinstance\u001b[39;49;00m(a, \u001b[36mint\u001b[39;49;00m))\n",
      "\u001b[90m@precondition\u001b[39;49;00m(\u001b[34mlambda\u001b[39;49;00m b, a: \u001b[36misinstance\u001b[39;49;00m(b, \u001b[36mint\u001b[39;49;00m))\n",
      "\u001b[90m@postcondition\u001b[39;49;00m(\u001b[34mlambda\u001b[39;49;00m return_value, b, a: a == return_value - b)\n",
      "\u001b[90m@postcondition\u001b[39;49;00m(\u001b[34mlambda\u001b[39;49;00m return_value, b, a: b == return_value - a)\n",
      "\u001b[90m@postcondition\u001b[39;49;00m(\u001b[34mlambda\u001b[39;49;00m return_value, b, a: \u001b[36misinstance\u001b[39;49;00m(return_value, \u001b[36mint\u001b[39;49;00m))\n",
      "\u001b[90m@postcondition\u001b[39;49;00m(\u001b[34mlambda\u001b[39;49;00m return_value, b, a: return_value == a + b)\n",
      "\u001b[90m@postcondition\u001b[39;49;00m(\u001b[34mlambda\u001b[39;49;00m return_value, b, a: return_value == b + a)\n",
      "\u001b[34mdef\u001b[39;49;00m \u001b[32msum2\u001b[39;49;00m(a, b):\n",
      "    \u001b[34mreturn\u001b[39;49;00m a + b"
     ]
    }
   ],
   "source": [
    "with InvariantAnnotator() as annotator:\n",
    "    length = sum2(1, 2)\n",
    "    length = sum2(-1, -2)\n",
    "    length = sum2(0, 0)\n",
    "\n",
    "print_content(annotator.functions_with_invariants(), '.py')"
   ]
  },
  {
   "cell_type": "markdown",
   "metadata": {
    "slideshow": {
     "slide_type": "subslide"
    }
   },
   "source": [
    "But where to we get such diverse runs from?  This is the job of generating software tests.  A simple grammar for calls of `sum2()` will easily resolve the problem."
   ]
  },
  {
   "cell_type": "code",
   "execution_count": 178,
   "metadata": {
    "execution": {
     "iopub.execute_input": "2022-11-12T07:33:50.274832Z",
     "iopub.status.busy": "2022-11-12T07:33:50.274504Z",
     "iopub.status.idle": "2022-11-12T07:33:50.431479Z",
     "shell.execute_reply": "2022-11-12T07:33:50.431691Z"
    },
    "slideshow": {
     "slide_type": "skip"
    }
   },
   "outputs": [],
   "source": [
    "from GrammarFuzzer import GrammarFuzzer  # minor dependency\n",
    "from Grammars import is_valid_grammar, crange  # minor dependency\n",
    "from Grammars import convert_ebnf_grammar, Grammar  # minor dependency"
   ]
  },
  {
   "cell_type": "code",
   "execution_count": 179,
   "metadata": {
    "execution": {
     "iopub.execute_input": "2022-11-12T07:33:50.434436Z",
     "iopub.status.busy": "2022-11-12T07:33:50.434029Z",
     "iopub.status.idle": "2022-11-12T07:33:50.435537Z",
     "shell.execute_reply": "2022-11-12T07:33:50.435747Z"
    },
    "slideshow": {
     "slide_type": "fragment"
    }
   },
   "outputs": [],
   "source": [
    "SUM2_EBNF_GRAMMAR: Grammar = {\n",
    "    \"<start>\": [\"<sum2>\"],\n",
    "    \"<sum2>\": [\"sum2(<int>, <int>)\"],\n",
    "    \"<int>\": [\"<_int>\"],\n",
    "    \"<_int>\": [\"(-)?<leaddigit><digit>*\", \"0\"],\n",
    "    \"<leaddigit>\": crange('1', '9'),\n",
    "    \"<digit>\": crange('0', '9')\n",
    "}"
   ]
  },
  {
   "cell_type": "code",
   "execution_count": 180,
   "metadata": {
    "execution": {
     "iopub.execute_input": "2022-11-12T07:33:50.437926Z",
     "iopub.status.busy": "2022-11-12T07:33:50.437600Z",
     "iopub.status.idle": "2022-11-12T07:33:50.438924Z",
     "shell.execute_reply": "2022-11-12T07:33:50.439145Z"
    },
    "slideshow": {
     "slide_type": "fragment"
    }
   },
   "outputs": [],
   "source": [
    "assert is_valid_grammar(SUM2_EBNF_GRAMMAR)"
   ]
  },
  {
   "cell_type": "code",
   "execution_count": 181,
   "metadata": {
    "execution": {
     "iopub.execute_input": "2022-11-12T07:33:50.441318Z",
     "iopub.status.busy": "2022-11-12T07:33:50.440979Z",
     "iopub.status.idle": "2022-11-12T07:33:50.442274Z",
     "shell.execute_reply": "2022-11-12T07:33:50.442469Z"
    },
    "slideshow": {
     "slide_type": "fragment"
    }
   },
   "outputs": [],
   "source": [
    "sum2_grammar =  convert_ebnf_grammar(SUM2_EBNF_GRAMMAR)"
   ]
  },
  {
   "cell_type": "code",
   "execution_count": 182,
   "metadata": {
    "execution": {
     "iopub.execute_input": "2022-11-12T07:33:50.448218Z",
     "iopub.status.busy": "2022-11-12T07:33:50.447863Z",
     "iopub.status.idle": "2022-11-12T07:33:50.449704Z",
     "shell.execute_reply": "2022-11-12T07:33:50.449986Z"
    },
    "slideshow": {
     "slide_type": "subslide"
    }
   },
   "outputs": [
    {
     "data": {
      "text/plain": [
       "['sum2(60, 3)',\n",
       " 'sum2(-4, 0)',\n",
       " 'sum2(-579, 34)',\n",
       " 'sum2(3, 0)',\n",
       " 'sum2(-8, 0)',\n",
       " 'sum2(0, 8)',\n",
       " 'sum2(3, -9)',\n",
       " 'sum2(0, 0)',\n",
       " 'sum2(0, 5)',\n",
       " 'sum2(-3181, 0)']"
      ]
     },
     "execution_count": 182,
     "metadata": {},
     "output_type": "execute_result"
    }
   ],
   "source": [
    "sum2_fuzzer = GrammarFuzzer(sum2_grammar)\n",
    "[sum2_fuzzer.fuzz() for i in range(10)]"
   ]
  },
  {
   "cell_type": "code",
   "execution_count": 183,
   "metadata": {
    "execution": {
     "iopub.execute_input": "2022-11-12T07:33:50.571669Z",
     "iopub.status.busy": "2022-11-12T07:33:50.507676Z",
     "iopub.status.idle": "2022-11-12T07:33:50.631215Z",
     "shell.execute_reply": "2022-11-12T07:33:50.631437Z"
    },
    "slideshow": {
     "slide_type": "subslide"
    }
   },
   "outputs": [
    {
     "name": "stdout",
     "output_type": "stream",
     "text": [
      "\u001b[90m@precondition\u001b[39;49;00m(\u001b[34mlambda\u001b[39;49;00m b, a: a != \u001b[34m0\u001b[39;49;00m)\n",
      "\u001b[90m@precondition\u001b[39;49;00m(\u001b[34mlambda\u001b[39;49;00m b, a: \u001b[36misinstance\u001b[39;49;00m(a, \u001b[36mint\u001b[39;49;00m))\n",
      "\u001b[90m@precondition\u001b[39;49;00m(\u001b[34mlambda\u001b[39;49;00m b, a: \u001b[36misinstance\u001b[39;49;00m(b, \u001b[36mint\u001b[39;49;00m))\n",
      "\u001b[90m@postcondition\u001b[39;49;00m(\u001b[34mlambda\u001b[39;49;00m return_value, b, a: a == return_value - b)\n",
      "\u001b[90m@postcondition\u001b[39;49;00m(\u001b[34mlambda\u001b[39;49;00m return_value, b, a: b == return_value - a)\n",
      "\u001b[90m@postcondition\u001b[39;49;00m(\u001b[34mlambda\u001b[39;49;00m return_value, b, a: \u001b[36misinstance\u001b[39;49;00m(return_value, \u001b[36mint\u001b[39;49;00m))\n",
      "\u001b[90m@postcondition\u001b[39;49;00m(\u001b[34mlambda\u001b[39;49;00m return_value, b, a: return_value != \u001b[34m0\u001b[39;49;00m)\n",
      "\u001b[90m@postcondition\u001b[39;49;00m(\u001b[34mlambda\u001b[39;49;00m return_value, b, a: return_value == a + b)\n",
      "\u001b[90m@postcondition\u001b[39;49;00m(\u001b[34mlambda\u001b[39;49;00m return_value, b, a: return_value == b + a)\n",
      "\u001b[34mdef\u001b[39;49;00m \u001b[32msum2\u001b[39;49;00m(a, b):\n",
      "    \u001b[34mreturn\u001b[39;49;00m a + b"
     ]
    }
   ],
   "source": [
    "with InvariantAnnotator() as annotator:\n",
    "    for i in range(10):\n",
    "        eval(sum2_fuzzer.fuzz())\n",
    "\n",
    "print_content(annotator.function_with_invariants('sum2'), '.py')"
   ]
  },
  {
   "cell_type": "markdown",
   "metadata": {
    "slideshow": {
     "slide_type": "subslide"
    }
   },
   "source": [
    "But then, writing tests (or a test driver) just to derive a set of pre- and postconditions may possibly be too much effort – in particular, since tests can easily be derived from given pre- and postconditions in the first place.  Hence, it would be wiser to first specify invariants and then let test generators or program provers do the job."
   ]
  },
  {
   "cell_type": "markdown",
   "metadata": {
    "slideshow": {
     "slide_type": "fragment"
    }
   },
   "source": [
    "Also, an API grammar, such as above, will have to be set up such that it actually respects preconditions – in our case, we invoke `sqrt()` with positive numbers only, already assuming its precondition.  In some way, one thus needs a specification (a model, a grammar) to mine another specification – a chicken-and-egg problem."
   ]
  },
  {
   "cell_type": "markdown",
   "metadata": {
    "slideshow": {
     "slide_type": "subslide"
    }
   },
   "source": [
    "However, there is one way out of this problem: If one can automatically generate tests at the system level, then one has an _infinite source of executions_ to learn invariants from.  In each of these executions, all functions would be called with values that satisfy the (implicit) precondition, allowing us to mine invariants for these functions.  This holds, because at the system level, invalid inputs must be rejected by the system in the first place.  The meaningful precondition at the system level, ensuring that only valid inputs get through, thus gets broken down into a multitude of meaningful preconditions (and subsequent postconditions) at the function level."
   ]
  },
  {
   "cell_type": "markdown",
   "metadata": {
    "slideshow": {
     "slide_type": "fragment"
    }
   },
   "source": [
    "The big requirement for this, though, is that one needs good test generators at the system level.  In [the next part](05_Domain-Specific_Fuzzing.ipynb), we will discuss how to automatically generate tests for a variety of domains, from configuration to graphical user interfaces."
   ]
  },
  {
   "cell_type": "markdown",
   "metadata": {
    "slideshow": {
     "slide_type": "slide"
    }
   },
   "source": [
    "## Synopsis\n",
    "\n",
    "This chapter provides two classes that automatically extract specifications from a function and a set of inputs:\n",
    "\n",
    "* `TypeAnnotator` for _types_, and\n",
    "* `InvariantAnnotator` for _pre-_ and _postconditions_.\n",
    "\n",
    "Both work by _observing_ a function and its invocations within a `with` clause.  Here is an example for the type annotator:"
   ]
  },
  {
   "cell_type": "code",
   "execution_count": 184,
   "metadata": {
    "execution": {
     "iopub.execute_input": "2022-11-12T07:33:50.633798Z",
     "iopub.status.busy": "2022-11-12T07:33:50.633471Z",
     "iopub.status.idle": "2022-11-12T07:33:50.634748Z",
     "shell.execute_reply": "2022-11-12T07:33:50.634973Z"
    },
    "slideshow": {
     "slide_type": "fragment"
    }
   },
   "outputs": [],
   "source": [
    "def sum(a, b):\n",
    "    return a + b"
   ]
  },
  {
   "cell_type": "code",
   "execution_count": 185,
   "metadata": {
    "execution": {
     "iopub.execute_input": "2022-11-12T07:33:50.637137Z",
     "iopub.status.busy": "2022-11-12T07:33:50.636820Z",
     "iopub.status.idle": "2022-11-12T07:33:50.637989Z",
     "shell.execute_reply": "2022-11-12T07:33:50.638260Z"
    },
    "slideshow": {
     "slide_type": "subslide"
    }
   },
   "outputs": [],
   "source": [
    "with TypeAnnotator() as type_annotator:\n",
    "    sum(1, 2)\n",
    "    sum(-4, -5)\n",
    "    sum(0, 0)"
   ]
  },
  {
   "cell_type": "markdown",
   "metadata": {
    "slideshow": {
     "slide_type": "fragment"
    }
   },
   "source": [
    "The `typed_functions()` method will return a representation of `sum2()` annotated with types observed during execution."
   ]
  },
  {
   "cell_type": "code",
   "execution_count": 186,
   "metadata": {
    "execution": {
     "iopub.execute_input": "2022-11-12T07:33:50.640711Z",
     "iopub.status.busy": "2022-11-12T07:33:50.640338Z",
     "iopub.status.idle": "2022-11-12T07:33:50.641651Z",
     "shell.execute_reply": "2022-11-12T07:33:50.641988Z"
    },
    "slideshow": {
     "slide_type": "fragment"
    }
   },
   "outputs": [
    {
     "name": "stdout",
     "output_type": "stream",
     "text": [
      "def sum(a: int, b: int) -> int:\n",
      "    return a + b\n"
     ]
    }
   ],
   "source": [
    "print(type_annotator.typed_functions())"
   ]
  },
  {
   "cell_type": "markdown",
   "metadata": {
    "slideshow": {
     "slide_type": "fragment"
    }
   },
   "source": [
    "The invariant annotator works in a similar fashion:"
   ]
  },
  {
   "cell_type": "code",
   "execution_count": 187,
   "metadata": {
    "execution": {
     "iopub.execute_input": "2022-11-12T07:33:50.644170Z",
     "iopub.status.busy": "2022-11-12T07:33:50.643856Z",
     "iopub.status.idle": "2022-11-12T07:33:50.645103Z",
     "shell.execute_reply": "2022-11-12T07:33:50.645311Z"
    },
    "slideshow": {
     "slide_type": "fragment"
    }
   },
   "outputs": [],
   "source": [
    "with InvariantAnnotator() as inv_annotator:\n",
    "    sum(1, 2)\n",
    "    sum(-4, -5)\n",
    "    sum(0, 0)"
   ]
  },
  {
   "cell_type": "markdown",
   "metadata": {
    "slideshow": {
     "slide_type": "subslide"
    }
   },
   "source": [
    "The `functions_with_invariants()` method will return a representation of `sum2()` annotated with inferred pre- and postconditions that all hold for the observed values."
   ]
  },
  {
   "cell_type": "code",
   "execution_count": 188,
   "metadata": {
    "execution": {
     "iopub.execute_input": "2022-11-12T07:33:50.661041Z",
     "iopub.status.busy": "2022-11-12T07:33:50.651239Z",
     "iopub.status.idle": "2022-11-12T07:33:50.662586Z",
     "shell.execute_reply": "2022-11-12T07:33:50.662814Z"
    },
    "slideshow": {
     "slide_type": "fragment"
    }
   },
   "outputs": [
    {
     "name": "stdout",
     "output_type": "stream",
     "text": [
      "@precondition(lambda b, a: isinstance(a, int))\n",
      "@precondition(lambda b, a: isinstance(b, int))\n",
      "@postcondition(lambda return_value, b, a: a == return_value - b)\n",
      "@postcondition(lambda return_value, b, a: b == return_value - a)\n",
      "@postcondition(lambda return_value, b, a: isinstance(return_value, int))\n",
      "@postcondition(lambda return_value, b, a: return_value == a + b)\n",
      "@postcondition(lambda return_value, b, a: return_value == b + a)\n",
      "def sum(a, b):\n",
      "    return a + b\n",
      "\n"
     ]
    }
   ],
   "source": [
    "print(inv_annotator.functions_with_invariants())"
   ]
  },
  {
   "cell_type": "markdown",
   "metadata": {
    "slideshow": {
     "slide_type": "subslide"
    }
   },
   "source": [
    "Such type specifications and invariants can be helpful as _oracles_ (to detect deviations from a given set of runs) as well as for all kinds of _symbolic code analyses_.  The chapter gives details on how to customize the properties checked for."
   ]
  },
  {
   "cell_type": "markdown",
   "metadata": {
    "button": false,
    "new_sheet": true,
    "run_control": {
     "read_only": false
    },
    "slideshow": {
     "slide_type": "slide"
    }
   },
   "source": [
    "## Lessons Learned\n",
    "\n",
    "* Type annotations and explicit invariants allow for _checking_ arguments and results for expected data types and other properties.\n",
    "* One can automatically _mine_ data types and invariants by observing arguments and results at runtime.\n",
    "* The quality of mined invariants depends on the diversity of values observed during executions; this variety can be increased by generating tests."
   ]
  },
  {
   "cell_type": "markdown",
   "metadata": {
    "button": false,
    "new_sheet": false,
    "run_control": {
     "read_only": false
    },
    "slideshow": {
     "slide_type": "slide"
    }
   },
   "source": [
    "## Next Steps\n",
    "\n",
    "This chapter concludes the [part on semantical fuzzing techniques](04_Semantical_Fuzzing.ipynb).  In the next part, we will explore [domain-specific fuzzing techniques](05_Domain-Specific_Fuzzing.ipynb) from configurations and APIs to graphical user interfaces."
   ]
  },
  {
   "cell_type": "markdown",
   "metadata": {
    "slideshow": {
     "slide_type": "slide"
    }
   },
   "source": [
    "## Background\n",
    "\n",
    "The [DAIKON dynamic invariant detector](https://plse.cs.washington.edu/daikon/) can be considered the mother of function specification miners.  Continuously maintained and extended for more than 20 years, it mines likely invariants in the style of this chapter for a variety of languages, including C, C++, C#, Eiffel, F#, Java, Perl, and Visual Basic.  On top of the functionality discussed above, it holds a rich catalog of patterns for likely invariants, supports data invariants, can eliminate invariants that are implied by others, and determines statistical confidence to disregard unlikely invariants.  The corresponding paper \\cite{Ernst2001} is one of the seminal and most-cited papers of Software Engineering.  A multitude of works have been published based on DAIKON and detecting invariants; see this [curated list](http://plse.cs.washington.edu/daikon/pubs/) for details."
   ]
  },
  {
   "cell_type": "markdown",
   "metadata": {
    "slideshow": {
     "slide_type": "subslide"
    }
   },
   "source": [
    "The interaction between test generators and invariant detection is already discussed in \\cite{Ernst2001} (incidentally also using grammars).  The Eclat tool \\cite{Pacheco2005} is a model example of tight interaction between a unit-level test generator and DAIKON-style invariant mining, where the mined invariants are used to produce oracles and to systematically guide the test generator towards fault-revealing inputs."
   ]
  },
  {
   "cell_type": "markdown",
   "metadata": {
    "slideshow": {
     "slide_type": "fragment"
    }
   },
   "source": [
    "Mining specifications is not restricted to pre- and postconditions.  The paper \"Mining Specifications\" \\cite{Ammons2002} is another classic in the field, learning state protocols from executions.  Grammar mining, as described in [our chapter with the same name](GrammarMiner.ipynb) can also be seen as a specification mining approach, this time learning specifications for input formats."
   ]
  },
  {
   "cell_type": "markdown",
   "metadata": {
    "slideshow": {
     "slide_type": "subslide"
    }
   },
   "source": [
    "As it comes to adding type annotations to existing code, the blog post [\"The state of type hints in Python\"](https://www.bernat.tech/the-state-of-type-hints-in-python/) gives a great overview on how Python type hints can be used and checked.  To add type annotations, there are two important tools available that also implement our above approach:\n",
    "\n",
    "* [MonkeyType](https://instagram-engineering.com/let-your-code-type-hint-itself-introducing-open-source-monkeytype-a855c7284881) implements the above approach of tracing executions and annotating Python 3 arguments, returns, and variables with type hints.\n",
    "* [PyAnnotate](https://github.com/dropbox/pyannotate) does a similar job, focusing on code in Python 2.  It does not produce Python 3-style annotations, but instead produces annotations as comments that can be processed by static type checkers.\n",
    "\n",
    "These tools have been created by engineers at Facebook and Dropbox, respectively, assisting them in checking millions of lines of code for type issues."
   ]
  },
  {
   "cell_type": "markdown",
   "metadata": {
    "button": false,
    "new_sheet": true,
    "run_control": {
     "read_only": false
    },
    "slideshow": {
     "slide_type": "slide"
    }
   },
   "source": [
    "## Exercises\n",
    "\n",
    "Our code for mining types and invariants is in no way complete.  There are dozens of ways to extend our implementations, some of which we discuss in exercises."
   ]
  },
  {
   "cell_type": "markdown",
   "metadata": {
    "button": false,
    "new_sheet": true,
    "run_control": {
     "read_only": false
    },
    "slideshow": {
     "slide_type": "subslide"
    }
   },
   "source": [
    "### Exercise 1: Union Types\n",
    "\n",
    "The Python `typing` module allows to express that an argument can have multiple types.  For `my_sqrt(x)`, this allows to express that `x` can be an `int` or a `float`:"
   ]
  },
  {
   "cell_type": "code",
   "execution_count": 189,
   "metadata": {
    "execution": {
     "iopub.execute_input": "2022-11-12T07:33:50.665592Z",
     "iopub.status.busy": "2022-11-12T07:33:50.665192Z",
     "iopub.status.idle": "2022-11-12T07:33:50.666427Z",
     "shell.execute_reply": "2022-11-12T07:33:50.666644Z"
    },
    "slideshow": {
     "slide_type": "skip"
    }
   },
   "outputs": [],
   "source": [
    "from typing import Union, Optional"
   ]
  },
  {
   "cell_type": "code",
   "execution_count": 190,
   "metadata": {
    "execution": {
     "iopub.execute_input": "2022-11-12T07:33:50.668893Z",
     "iopub.status.busy": "2022-11-12T07:33:50.668562Z",
     "iopub.status.idle": "2022-11-12T07:33:50.669716Z",
     "shell.execute_reply": "2022-11-12T07:33:50.669989Z"
    },
    "slideshow": {
     "slide_type": "fragment"
    }
   },
   "outputs": [],
   "source": [
    "def my_sqrt_with_union_type(x: Union[int, float]) -> float:\n",
    "    ..."
   ]
  },
  {
   "cell_type": "markdown",
   "metadata": {
    "slideshow": {
     "slide_type": "fragment"
    },
    "solution2": "hidden",
    "solution2_first": true
   },
   "source": [
    "Extend the `TypeAnnotator` such that it supports union types for arguments and return values.  Use `Optional[X]` as a shorthand for `Union[X, None]`."
   ]
  },
  {
   "cell_type": "markdown",
   "metadata": {
    "slideshow": {
     "slide_type": "skip"
    },
    "solution2": "hidden"
   },
   "source": [
    "**Solution.** Left to the reader. Hint: extend `type_string()`."
   ]
  },
  {
   "cell_type": "markdown",
   "metadata": {
    "slideshow": {
     "slide_type": "subslide"
    }
   },
   "source": [
    "### Exercise 2: Types for Local Variables\n",
    "\n",
    "In Python, one cannot only annotate arguments with types, but actually also local and global variables – for instance, `approx` and `guess` in our `my_sqrt()` implementation:"
   ]
  },
  {
   "cell_type": "code",
   "execution_count": 191,
   "metadata": {
    "button": false,
    "execution": {
     "iopub.execute_input": "2022-11-12T07:33:50.672711Z",
     "iopub.status.busy": "2022-11-12T07:33:50.672304Z",
     "iopub.status.idle": "2022-11-12T07:33:50.673827Z",
     "shell.execute_reply": "2022-11-12T07:33:50.674107Z"
    },
    "new_sheet": false,
    "run_control": {
     "read_only": false
    },
    "slideshow": {
     "slide_type": "fragment"
    }
   },
   "outputs": [],
   "source": [
    "def my_sqrt_with_local_types(x: Union[int, float]) -> float:\n",
    "    \"\"\"Computes the square root of x, using the Newton-Raphson method\"\"\"\n",
    "    approx: Optional[float] = None\n",
    "    guess: float = x / 2\n",
    "    while approx != guess:\n",
    "        approx = guess\n",
    "        guess = (approx + x / approx) / 2\n",
    "    return approx"
   ]
  },
  {
   "cell_type": "markdown",
   "metadata": {
    "slideshow": {
     "slide_type": "subslide"
    },
    "solution2": "hidden",
    "solution2_first": true
   },
   "source": [
    "Extend the `TypeAnnotator` such that it also annotates local variables with types.  Search the function AST for assignments, determine the type of the assigned value, and make it an annotation on the left hand side."
   ]
  },
  {
   "cell_type": "markdown",
   "metadata": {
    "slideshow": {
     "slide_type": "skip"
    },
    "solution2": "hidden"
   },
   "source": [
    "**Solution.** Left to the reader."
   ]
  },
  {
   "cell_type": "markdown",
   "metadata": {
    "slideshow": {
     "slide_type": "subslide"
    }
   },
   "source": [
    "### Exercise 3: Verbose Invariant Checkers\n",
    "\n",
    "Our implementation of invariant checkers does not make it clear for the user which pre-/postcondition failed."
   ]
  },
  {
   "cell_type": "code",
   "execution_count": 192,
   "metadata": {
    "execution": {
     "iopub.execute_input": "2022-11-12T07:33:50.676590Z",
     "iopub.status.busy": "2022-11-12T07:33:50.676226Z",
     "iopub.status.idle": "2022-11-12T07:33:50.677588Z",
     "shell.execute_reply": "2022-11-12T07:33:50.677880Z"
    },
    "slideshow": {
     "slide_type": "fragment"
    }
   },
   "outputs": [],
   "source": [
    "@precondition(lambda s: len(s) > 0)\n",
    "def remove_first_char(s):\n",
    "    return s[1:]"
   ]
  },
  {
   "cell_type": "code",
   "execution_count": 193,
   "metadata": {
    "execution": {
     "iopub.execute_input": "2022-11-12T07:33:50.680151Z",
     "iopub.status.busy": "2022-11-12T07:33:50.679789Z",
     "iopub.status.idle": "2022-11-12T07:33:50.681392Z",
     "shell.execute_reply": "2022-11-12T07:33:50.681628Z"
    },
    "slideshow": {
     "slide_type": "subslide"
    }
   },
   "outputs": [
    {
     "name": "stderr",
     "output_type": "stream",
     "text": [
      "Traceback (most recent call last):\n",
      "  File \"/var/folders/n2/xd9445p97rb3xh7m1dfx8_4h0006ts/T/ipykernel_43875/2212034949.py\", line 2, in <module>\n",
      "    remove_first_char('')\n",
      "  File \"/var/folders/n2/xd9445p97rb3xh7m1dfx8_4h0006ts/T/ipykernel_43875/906718213.py\", line 6, in wrapper\n",
      "    assert precondition(*args, **kwargs), \"Precondition violated\"\n",
      "AssertionError: Precondition violated (expected)\n"
     ]
    }
   ],
   "source": [
    "with ExpectError():\n",
    "    remove_first_char('')"
   ]
  },
  {
   "cell_type": "markdown",
   "metadata": {
    "slideshow": {
     "slide_type": "fragment"
    }
   },
   "source": [
    "The following implementation adds an optional `doc` keyword argument which is printed if the invariant is violated:"
   ]
  },
  {
   "cell_type": "code",
   "execution_count": 194,
   "metadata": {
    "execution": {
     "iopub.execute_input": "2022-11-12T07:33:50.684900Z",
     "iopub.status.busy": "2022-11-12T07:33:50.684544Z",
     "iopub.status.idle": "2022-11-12T07:33:50.685754Z",
     "shell.execute_reply": "2022-11-12T07:33:50.685975Z"
    },
    "slideshow": {
     "slide_type": "subslide"
    }
   },
   "outputs": [],
   "source": [
    "def verbose_condition(precondition=None, postcondition=None, doc='Unknown'):\n",
    "    def decorator(func):\n",
    "        @functools.wraps(func) # preserves name, docstring, etc\n",
    "        def wrapper(*args, **kwargs):\n",
    "            if precondition is not None:\n",
    "                assert precondition(*args, **kwargs), \"Precondition violated: \" + doc\n",
    "\n",
    "            retval = func(*args, **kwargs) # call original function or method\n",
    "            if postcondition is not None:\n",
    "                assert postcondition(retval, *args, **kwargs), \"Postcondition violated: \" + doc\n",
    "\n",
    "            return retval\n",
    "        return wrapper\n",
    "    return decorator"
   ]
  },
  {
   "cell_type": "code",
   "execution_count": 195,
   "metadata": {
    "execution": {
     "iopub.execute_input": "2022-11-12T07:33:50.688099Z",
     "iopub.status.busy": "2022-11-12T07:33:50.687775Z",
     "iopub.status.idle": "2022-11-12T07:33:50.689234Z",
     "shell.execute_reply": "2022-11-12T07:33:50.689488Z"
    },
    "slideshow": {
     "slide_type": "subslide"
    }
   },
   "outputs": [],
   "source": [
    "def verbose_precondition(check, **kwargs):  # type: ignore\n",
    "    return verbose_condition(precondition=check, doc=kwargs.get('doc', 'Unknown'))"
   ]
  },
  {
   "cell_type": "code",
   "execution_count": 196,
   "metadata": {
    "execution": {
     "iopub.execute_input": "2022-11-12T07:33:50.691803Z",
     "iopub.status.busy": "2022-11-12T07:33:50.691470Z",
     "iopub.status.idle": "2022-11-12T07:33:50.692705Z",
     "shell.execute_reply": "2022-11-12T07:33:50.692930Z"
    },
    "slideshow": {
     "slide_type": "fragment"
    }
   },
   "outputs": [],
   "source": [
    "def verbose_postcondition(check, **kwargs):  # type: ignore\n",
    "    return verbose_condition(postcondition=check, doc=kwargs.get('doc', 'Unknown'))"
   ]
  },
  {
   "cell_type": "code",
   "execution_count": 197,
   "metadata": {
    "execution": {
     "iopub.execute_input": "2022-11-12T07:33:50.695504Z",
     "iopub.status.busy": "2022-11-12T07:33:50.695167Z",
     "iopub.status.idle": "2022-11-12T07:33:50.696728Z",
     "shell.execute_reply": "2022-11-12T07:33:50.697007Z"
    },
    "slideshow": {
     "slide_type": "fragment"
    }
   },
   "outputs": [
    {
     "data": {
      "text/plain": [
       "'bc'"
      ]
     },
     "execution_count": 197,
     "metadata": {},
     "output_type": "execute_result"
    }
   ],
   "source": [
    "@verbose_precondition(lambda s: len(s) > 0, doc=\"len(s) > 0\")  # type: ignore\n",
    "def remove_first_char(s):\n",
    "    return s[1:]\n",
    "\n",
    "remove_first_char('abc')"
   ]
  },
  {
   "cell_type": "code",
   "execution_count": 198,
   "metadata": {
    "execution": {
     "iopub.execute_input": "2022-11-12T07:33:50.699313Z",
     "iopub.status.busy": "2022-11-12T07:33:50.698957Z",
     "iopub.status.idle": "2022-11-12T07:33:50.700252Z",
     "shell.execute_reply": "2022-11-12T07:33:50.700488Z"
    },
    "slideshow": {
     "slide_type": "subslide"
    }
   },
   "outputs": [
    {
     "name": "stderr",
     "output_type": "stream",
     "text": [
      "Traceback (most recent call last):\n",
      "  File \"/var/folders/n2/xd9445p97rb3xh7m1dfx8_4h0006ts/T/ipykernel_43875/2212034949.py\", line 2, in <module>\n",
      "    remove_first_char('')\n",
      "  File \"/var/folders/n2/xd9445p97rb3xh7m1dfx8_4h0006ts/T/ipykernel_43875/860932556.py\", line 6, in wrapper\n",
      "    assert precondition(*args, **kwargs), \"Precondition violated: \" + doc\n",
      "AssertionError: Precondition violated: len(s) > 0 (expected)\n"
     ]
    }
   ],
   "source": [
    "with ExpectError():\n",
    "    remove_first_char('')"
   ]
  },
  {
   "cell_type": "markdown",
   "metadata": {
    "slideshow": {
     "slide_type": "fragment"
    },
    "solution2": "hidden",
    "solution2_first": true
   },
   "source": [
    "Extend `InvariantAnnotator` such that it includes the conditions in the generated pre- and postconditions."
   ]
  },
  {
   "cell_type": "markdown",
   "metadata": {
    "slideshow": {
     "slide_type": "skip"
    },
    "solution2": "hidden"
   },
   "source": [
    "**Solution.** Here's a simple solution:"
   ]
  },
  {
   "cell_type": "code",
   "execution_count": 199,
   "metadata": {
    "execution": {
     "iopub.execute_input": "2022-11-12T07:33:50.703328Z",
     "iopub.status.busy": "2022-11-12T07:33:50.702996Z",
     "iopub.status.idle": "2022-11-12T07:33:50.704319Z",
     "shell.execute_reply": "2022-11-12T07:33:50.704589Z"
    },
    "slideshow": {
     "slide_type": "skip"
    },
    "solution2": "hidden"
   },
   "outputs": [],
   "source": [
    "class InvariantAnnotator(InvariantAnnotator):\n",
    "    def preconditions(self, function_name):\n",
    "        conditions = []\n",
    "\n",
    "        for inv in pretty_invariants(self.invariants(function_name)):\n",
    "            if inv.find(RETURN_VALUE) >= 0:\n",
    "                continue  # Postcondition\n",
    "\n",
    "            cond = \"@verbose_precondition(lambda \" + self.params(function_name) + \": \" + inv + ', doc=' + repr(inv) + \")\"\n",
    "            conditions.append(cond)\n",
    "\n",
    "        return conditions"
   ]
  },
  {
   "cell_type": "code",
   "execution_count": 200,
   "metadata": {
    "execution": {
     "iopub.execute_input": "2022-11-12T07:33:50.707623Z",
     "iopub.status.busy": "2022-11-12T07:33:50.707278Z",
     "iopub.status.idle": "2022-11-12T07:33:50.708445Z",
     "shell.execute_reply": "2022-11-12T07:33:50.708667Z"
    },
    "slideshow": {
     "slide_type": "skip"
    },
    "solution2": "hidden"
   },
   "outputs": [],
   "source": [
    "class InvariantAnnotator(InvariantAnnotator):\n",
    "    def postconditions(self, function_name):\n",
    "        conditions = []\n",
    "\n",
    "        for inv in pretty_invariants(self.invariants(function_name)):\n",
    "            if inv.find(RETURN_VALUE) < 0:\n",
    "                continue  # Precondition\n",
    "\n",
    "            cond = (\"@verbose_postcondition(lambda \" + \n",
    "                RETURN_VALUE + \", \" + self.params(function_name) + \": \" + inv + ', doc=' + repr(inv) + \")\")\n",
    "            conditions.append(cond)\n",
    "\n",
    "        return conditions"
   ]
  },
  {
   "cell_type": "markdown",
   "metadata": {
    "slideshow": {
     "slide_type": "skip"
    },
    "solution2": "hidden"
   },
   "source": [
    "The resulting annotations are harder to read, but easier to diagnose:"
   ]
  },
  {
   "cell_type": "code",
   "execution_count": 201,
   "metadata": {
    "execution": {
     "iopub.execute_input": "2022-11-12T07:33:50.729616Z",
     "iopub.status.busy": "2022-11-12T07:33:50.729160Z",
     "iopub.status.idle": "2022-11-12T07:33:50.730629Z",
     "shell.execute_reply": "2022-11-12T07:33:50.730848Z"
    },
    "slideshow": {
     "slide_type": "skip"
    },
    "solution2": "hidden"
   },
   "outputs": [
    {
     "name": "stdout",
     "output_type": "stream",
     "text": [
      "\u001b[90m@verbose_precondition\u001b[39;49;00m(\u001b[34mlambda\u001b[39;49;00m b, a: a != \u001b[34m0\u001b[39;49;00m, doc=\u001b[33m'\u001b[39;49;00m\u001b[33ma != 0\u001b[39;49;00m\u001b[33m'\u001b[39;49;00m)\n",
      "\u001b[90m@verbose_precondition\u001b[39;49;00m(\u001b[34mlambda\u001b[39;49;00m b, a: a <= b, doc=\u001b[33m'\u001b[39;49;00m\u001b[33ma <= b\u001b[39;49;00m\u001b[33m'\u001b[39;49;00m)\n",
      "\u001b[90m@verbose_precondition\u001b[39;49;00m(\u001b[34mlambda\u001b[39;49;00m b, a: a == b, doc=\u001b[33m'\u001b[39;49;00m\u001b[33ma == b\u001b[39;49;00m\u001b[33m'\u001b[39;49;00m)\n",
      "\u001b[90m@verbose_precondition\u001b[39;49;00m(\u001b[34mlambda\u001b[39;49;00m b, a: a > \u001b[34m0\u001b[39;49;00m, doc=\u001b[33m'\u001b[39;49;00m\u001b[33ma > 0\u001b[39;49;00m\u001b[33m'\u001b[39;49;00m)\n",
      "\u001b[90m@verbose_precondition\u001b[39;49;00m(\u001b[34mlambda\u001b[39;49;00m b, a: a >= \u001b[34m0\u001b[39;49;00m, doc=\u001b[33m'\u001b[39;49;00m\u001b[33ma >= 0\u001b[39;49;00m\u001b[33m'\u001b[39;49;00m)\n",
      "\u001b[90m@verbose_precondition\u001b[39;49;00m(\u001b[34mlambda\u001b[39;49;00m b, a: a >= b, doc=\u001b[33m'\u001b[39;49;00m\u001b[33ma >= b\u001b[39;49;00m\u001b[33m'\u001b[39;49;00m)\n",
      "\u001b[90m@verbose_precondition\u001b[39;49;00m(\u001b[34mlambda\u001b[39;49;00m b, a: b != \u001b[34m0\u001b[39;49;00m, doc=\u001b[33m'\u001b[39;49;00m\u001b[33mb != 0\u001b[39;49;00m\u001b[33m'\u001b[39;49;00m)\n",
      "\u001b[90m@verbose_precondition\u001b[39;49;00m(\u001b[34mlambda\u001b[39;49;00m b, a: b <= a, doc=\u001b[33m'\u001b[39;49;00m\u001b[33mb <= a\u001b[39;49;00m\u001b[33m'\u001b[39;49;00m)\n",
      "\u001b[90m@verbose_precondition\u001b[39;49;00m(\u001b[34mlambda\u001b[39;49;00m b, a: b == a, doc=\u001b[33m'\u001b[39;49;00m\u001b[33mb == a\u001b[39;49;00m\u001b[33m'\u001b[39;49;00m)\n",
      "\u001b[90m@verbose_precondition\u001b[39;49;00m(\u001b[34mlambda\u001b[39;49;00m b, a: b > \u001b[34m0\u001b[39;49;00m, doc=\u001b[33m'\u001b[39;49;00m\u001b[33mb > 0\u001b[39;49;00m\u001b[33m'\u001b[39;49;00m)\n",
      "\u001b[90m@verbose_precondition\u001b[39;49;00m(\u001b[34mlambda\u001b[39;49;00m b, a: b >= \u001b[34m0\u001b[39;49;00m, doc=\u001b[33m'\u001b[39;49;00m\u001b[33mb >= 0\u001b[39;49;00m\u001b[33m'\u001b[39;49;00m)\n",
      "\u001b[90m@verbose_precondition\u001b[39;49;00m(\u001b[34mlambda\u001b[39;49;00m b, a: b >= a, doc=\u001b[33m'\u001b[39;49;00m\u001b[33mb >= a\u001b[39;49;00m\u001b[33m'\u001b[39;49;00m)\n",
      "\u001b[90m@verbose_precondition\u001b[39;49;00m(\u001b[34mlambda\u001b[39;49;00m b, a: \u001b[36misinstance\u001b[39;49;00m(a, \u001b[36mint\u001b[39;49;00m), doc=\u001b[33m'\u001b[39;49;00m\u001b[33misinstance(a, int)\u001b[39;49;00m\u001b[33m'\u001b[39;49;00m)\n",
      "\u001b[90m@verbose_precondition\u001b[39;49;00m(\u001b[34mlambda\u001b[39;49;00m b, a: \u001b[36misinstance\u001b[39;49;00m(b, \u001b[36mint\u001b[39;49;00m), doc=\u001b[33m'\u001b[39;49;00m\u001b[33misinstance(b, int)\u001b[39;49;00m\u001b[33m'\u001b[39;49;00m)\n",
      "\u001b[90m@verbose_postcondition\u001b[39;49;00m(\u001b[34mlambda\u001b[39;49;00m return_value, b, a: a < return_value, doc=\u001b[33m'\u001b[39;49;00m\u001b[33ma < return_value\u001b[39;49;00m\u001b[33m'\u001b[39;49;00m)\n",
      "\u001b[90m@verbose_postcondition\u001b[39;49;00m(\u001b[34mlambda\u001b[39;49;00m return_value, b, a: a <= b <= return_value, doc=\u001b[33m'\u001b[39;49;00m\u001b[33ma <= b <= return_value\u001b[39;49;00m\u001b[33m'\u001b[39;49;00m)\n",
      "\u001b[90m@verbose_postcondition\u001b[39;49;00m(\u001b[34mlambda\u001b[39;49;00m return_value, b, a: a <= return_value, doc=\u001b[33m'\u001b[39;49;00m\u001b[33ma <= return_value\u001b[39;49;00m\u001b[33m'\u001b[39;49;00m)\n",
      "\u001b[90m@verbose_postcondition\u001b[39;49;00m(\u001b[34mlambda\u001b[39;49;00m return_value, b, a: a == return_value - b, doc=\u001b[33m'\u001b[39;49;00m\u001b[33ma == return_value - b\u001b[39;49;00m\u001b[33m'\u001b[39;49;00m)\n",
      "\u001b[90m@verbose_postcondition\u001b[39;49;00m(\u001b[34mlambda\u001b[39;49;00m return_value, b, a: a == return_value / b, doc=\u001b[33m'\u001b[39;49;00m\u001b[33ma == return_value / b\u001b[39;49;00m\u001b[33m'\u001b[39;49;00m)\n",
      "\u001b[90m@verbose_postcondition\u001b[39;49;00m(\u001b[34mlambda\u001b[39;49;00m return_value, b, a: b < return_value, doc=\u001b[33m'\u001b[39;49;00m\u001b[33mb < return_value\u001b[39;49;00m\u001b[33m'\u001b[39;49;00m)\n",
      "\u001b[90m@verbose_postcondition\u001b[39;49;00m(\u001b[34mlambda\u001b[39;49;00m return_value, b, a: b <= a <= return_value, doc=\u001b[33m'\u001b[39;49;00m\u001b[33mb <= a <= return_value\u001b[39;49;00m\u001b[33m'\u001b[39;49;00m)\n",
      "\u001b[90m@verbose_postcondition\u001b[39;49;00m(\u001b[34mlambda\u001b[39;49;00m return_value, b, a: b <= return_value, doc=\u001b[33m'\u001b[39;49;00m\u001b[33mb <= return_value\u001b[39;49;00m\u001b[33m'\u001b[39;49;00m)\n",
      "\u001b[90m@verbose_postcondition\u001b[39;49;00m(\u001b[34mlambda\u001b[39;49;00m return_value, b, a: b == return_value - a, doc=\u001b[33m'\u001b[39;49;00m\u001b[33mb == return_value - a\u001b[39;49;00m\u001b[33m'\u001b[39;49;00m)\n",
      "\u001b[90m@verbose_postcondition\u001b[39;49;00m(\u001b[34mlambda\u001b[39;49;00m return_value, b, a: b == return_value / a, doc=\u001b[33m'\u001b[39;49;00m\u001b[33mb == return_value / a\u001b[39;49;00m\u001b[33m'\u001b[39;49;00m)\n",
      "\u001b[90m@verbose_postcondition\u001b[39;49;00m(\u001b[34mlambda\u001b[39;49;00m return_value, b, a: \u001b[36misinstance\u001b[39;49;00m(return_value, \u001b[36mint\u001b[39;49;00m), doc=\u001b[33m'\u001b[39;49;00m\u001b[33misinstance(return_value, int)\u001b[39;49;00m\u001b[33m'\u001b[39;49;00m)\n",
      "\u001b[90m@verbose_postcondition\u001b[39;49;00m(\u001b[34mlambda\u001b[39;49;00m return_value, b, a: return_value != \u001b[34m0\u001b[39;49;00m, doc=\u001b[33m'\u001b[39;49;00m\u001b[33mreturn_value != 0\u001b[39;49;00m\u001b[33m'\u001b[39;49;00m)\n",
      "\u001b[90m@verbose_postcondition\u001b[39;49;00m(\u001b[34mlambda\u001b[39;49;00m return_value, b, a: return_value == a * b, doc=\u001b[33m'\u001b[39;49;00m\u001b[33mreturn_value == a * b\u001b[39;49;00m\u001b[33m'\u001b[39;49;00m)\n",
      "\u001b[90m@verbose_postcondition\u001b[39;49;00m(\u001b[34mlambda\u001b[39;49;00m return_value, b, a: return_value == a + b, doc=\u001b[33m'\u001b[39;49;00m\u001b[33mreturn_value == a + b\u001b[39;49;00m\u001b[33m'\u001b[39;49;00m)\n",
      "\u001b[90m@verbose_postcondition\u001b[39;49;00m(\u001b[34mlambda\u001b[39;49;00m return_value, b, a: return_value == b * a, doc=\u001b[33m'\u001b[39;49;00m\u001b[33mreturn_value == b * a\u001b[39;49;00m\u001b[33m'\u001b[39;49;00m)\n",
      "\u001b[90m@verbose_postcondition\u001b[39;49;00m(\u001b[34mlambda\u001b[39;49;00m return_value, b, a: return_value == b + a, doc=\u001b[33m'\u001b[39;49;00m\u001b[33mreturn_value == b + a\u001b[39;49;00m\u001b[33m'\u001b[39;49;00m)\n",
      "\u001b[90m@verbose_postcondition\u001b[39;49;00m(\u001b[34mlambda\u001b[39;49;00m return_value, b, a: return_value > \u001b[34m0\u001b[39;49;00m, doc=\u001b[33m'\u001b[39;49;00m\u001b[33mreturn_value > 0\u001b[39;49;00m\u001b[33m'\u001b[39;49;00m)\n",
      "\u001b[90m@verbose_postcondition\u001b[39;49;00m(\u001b[34mlambda\u001b[39;49;00m return_value, b, a: return_value > a, doc=\u001b[33m'\u001b[39;49;00m\u001b[33mreturn_value > a\u001b[39;49;00m\u001b[33m'\u001b[39;49;00m)\n",
      "\u001b[90m@verbose_postcondition\u001b[39;49;00m(\u001b[34mlambda\u001b[39;49;00m return_value, b, a: return_value > b, doc=\u001b[33m'\u001b[39;49;00m\u001b[33mreturn_value > b\u001b[39;49;00m\u001b[33m'\u001b[39;49;00m)\n",
      "\u001b[90m@verbose_postcondition\u001b[39;49;00m(\u001b[34mlambda\u001b[39;49;00m return_value, b, a: return_value >= \u001b[34m0\u001b[39;49;00m, doc=\u001b[33m'\u001b[39;49;00m\u001b[33mreturn_value >= 0\u001b[39;49;00m\u001b[33m'\u001b[39;49;00m)\n",
      "\u001b[90m@verbose_postcondition\u001b[39;49;00m(\u001b[34mlambda\u001b[39;49;00m return_value, b, a: return_value >= a, doc=\u001b[33m'\u001b[39;49;00m\u001b[33mreturn_value >= a\u001b[39;49;00m\u001b[33m'\u001b[39;49;00m)\n",
      "\u001b[90m@verbose_postcondition\u001b[39;49;00m(\u001b[34mlambda\u001b[39;49;00m return_value, b, a: return_value >= a >= b, doc=\u001b[33m'\u001b[39;49;00m\u001b[33mreturn_value >= a >= b\u001b[39;49;00m\u001b[33m'\u001b[39;49;00m)\n",
      "\u001b[90m@verbose_postcondition\u001b[39;49;00m(\u001b[34mlambda\u001b[39;49;00m return_value, b, a: return_value >= b, doc=\u001b[33m'\u001b[39;49;00m\u001b[33mreturn_value >= b\u001b[39;49;00m\u001b[33m'\u001b[39;49;00m)\n",
      "\u001b[90m@verbose_postcondition\u001b[39;49;00m(\u001b[34mlambda\u001b[39;49;00m return_value, b, a: return_value >= b >= a, doc=\u001b[33m'\u001b[39;49;00m\u001b[33mreturn_value >= b >= a\u001b[39;49;00m\u001b[33m'\u001b[39;49;00m)\n",
      "\u001b[34mdef\u001b[39;49;00m \u001b[32msum2\u001b[39;49;00m(a, b):\n",
      "    \u001b[34mreturn\u001b[39;49;00m a + b"
     ]
    }
   ],
   "source": [
    "with InvariantAnnotator() as annotator:\n",
    "    y = sum2(2, 2)\n",
    "print_content(annotator.functions_with_invariants(), '.py')"
   ]
  },
  {
   "cell_type": "markdown",
   "metadata": {
    "slideshow": {
     "slide_type": "skip"
    },
    "solution2": "hidden"
   },
   "source": [
    "As an alternative, one may be able to use `inspect.getsource()` on the lambda expression or unparse it.  This is left to the reader."
   ]
  },
  {
   "cell_type": "markdown",
   "metadata": {
    "slideshow": {
     "slide_type": "subslide"
    },
    "solution2": "hidden",
    "solution2_first": true
   },
   "source": [
    "### Exercise 4: Save Initial Values\n",
    "\n",
    "If the value of an argument changes during function execution, this can easily confuse our implementation: The values are tracked at the beginning of the function, but checked only when it returns.  Extend the `InvariantAnnotator` and the infrastructure it uses such that\n",
    "\n",
    "* it saves argument values both at the beginning and at the end of a function invocation;\n",
    "* postconditions can be expressed over both _initial_ values of arguments as well as the _final_ values of arguments;\n",
    "* the mined postconditions refer to both these values as well."
   ]
  },
  {
   "cell_type": "markdown",
   "metadata": {
    "button": false,
    "new_sheet": true,
    "run_control": {
     "read_only": false
    },
    "slideshow": {
     "slide_type": "skip"
    },
    "solution2": "hidden"
   },
   "source": [
    "**Solution.** To be added."
   ]
  },
  {
   "cell_type": "markdown",
   "metadata": {
    "slideshow": {
     "slide_type": "subslide"
    },
    "solution2": "hidden",
    "solution2_first": true
   },
   "source": [
    "### Exercise 5: Implications\n",
    "\n",
    "Several mined invariant are actually _implied_ by others: If `x > 0` holds, then this implies `x >= 0` and `x != 0`.  Extend the `InvariantAnnotator` such that implications between properties are explicitly encoded, and such that implied properties are no longer listed as invariants.  See \\cite{Ernst2001} for ideas."
   ]
  },
  {
   "cell_type": "markdown",
   "metadata": {
    "slideshow": {
     "slide_type": "skip"
    },
    "solution2": "hidden"
   },
   "source": [
    "**Solution.** Left to the reader."
   ]
  },
  {
   "cell_type": "markdown",
   "metadata": {
    "slideshow": {
     "slide_type": "subslide"
    },
    "solution2": "hidden",
    "solution2_first": true
   },
   "source": [
    "### Exercise 6: Local Variables\n",
    "\n",
    "Postconditions may also refer to the values of local variables.  Consider extending `InvariantAnnotator` and its infrastructure such that the values of local variables at the end of the execution are also recorded and made part of the invariant inference mechanism."
   ]
  },
  {
   "cell_type": "markdown",
   "metadata": {
    "slideshow": {
     "slide_type": "skip"
    },
    "solution2": "hidden"
   },
   "source": [
    "**Solution.** Left to the reader."
   ]
  },
  {
   "cell_type": "markdown",
   "metadata": {
    "slideshow": {
     "slide_type": "subslide"
    },
    "solution2": "hidden",
    "solution2_first": true
   },
   "source": [
    "### Exercise 7: Exploring Invariant Alternatives\n",
    "\n",
    "After mining a first set of invariants, have a [concolic fuzzer](ConcolicFuzzer.ipynb) generate tests that systematically attempt to invalidate pre- and postconditions.  How far can you generalize?"
   ]
  },
  {
   "cell_type": "markdown",
   "metadata": {
    "slideshow": {
     "slide_type": "skip"
    },
    "solution2": "hidden"
   },
   "source": [
    "**Solution.** To be added."
   ]
  },
  {
   "cell_type": "markdown",
   "metadata": {
    "slideshow": {
     "slide_type": "subslide"
    },
    "solution2": "hidden",
    "solution2_first": true
   },
   "source": [
    "### Exercise 8: Grammar-Generated Properties\n",
    "\n",
    "The larger the set of properties to be checked, the more potential invariants can be discovered.  Create a _grammar_ that systematically produces a large set of properties.  See \\cite{Ernst2001} for possible patterns."
   ]
  },
  {
   "cell_type": "markdown",
   "metadata": {
    "slideshow": {
     "slide_type": "skip"
    },
    "solution2": "hidden"
   },
   "source": [
    "**Solution.** Left to the reader."
   ]
  },
  {
   "cell_type": "markdown",
   "metadata": {
    "button": false,
    "new_sheet": false,
    "run_control": {
     "read_only": false
    },
    "slideshow": {
     "slide_type": "subslide"
    },
    "solution": "hidden",
    "solution2": "hidden",
    "solution2_first": true,
    "solution_first": true,
    "toc-hr-collapsed": false
   },
   "source": [
    "### Exercise 9: Embedding Invariants as Assertions\n",
    "\n",
    "Rather than producing invariants as annotations for pre- and postconditions, insert them as `assert` statements into the function code, as in:\n",
    "\n",
    "```python\n",
    "def my_sqrt(x):\n",
    "    'Computes the square root of x, using the Newton-Raphson method'\n",
    "    assert isinstance(x, int), 'violated precondition'\n",
    "    assert (x > 0), 'violated precondition'\n",
    "    approx = None\n",
    "    guess = (x / 2)\n",
    "    while (approx != guess):\n",
    "        approx = guess\n",
    "        guess = ((approx + (x / approx)) / 2)\n",
    "    return_value = approx\n",
    "    assert (return_value < x), 'violated postcondition'\n",
    "    assert isinstance(return_value, float), 'violated postcondition'\n",
    "    return approx\n",
    "```\n",
    "\n",
    "Such a formulation may make it easier for test generators and symbolic analysis to access and interpret pre- and postconditions."
   ]
  },
  {
   "cell_type": "markdown",
   "metadata": {
    "button": false,
    "new_sheet": false,
    "run_control": {
     "read_only": false
    },
    "slideshow": {
     "slide_type": "skip"
    },
    "solution": "hidden",
    "solution2": "hidden"
   },
   "source": [
    "**Solution.** Here is a tentative implementation that inserts invariants into function ASTs."
   ]
  },
  {
   "cell_type": "markdown",
   "metadata": {
    "slideshow": {
     "slide_type": "skip"
    },
    "solution2": "hidden",
    "toc-hr-collapsed": true
   },
   "source": [
    "Part 1: Embedding Invariants into Functions"
   ]
  },
  {
   "cell_type": "code",
   "execution_count": 202,
   "metadata": {
    "execution": {
     "iopub.execute_input": "2022-11-12T07:33:50.735043Z",
     "iopub.status.busy": "2022-11-12T07:33:50.734662Z",
     "iopub.status.idle": "2022-11-12T07:33:50.735987Z",
     "shell.execute_reply": "2022-11-12T07:33:50.736206Z"
    },
    "slideshow": {
     "slide_type": "skip"
    },
    "solution2": "hidden"
   },
   "outputs": [],
   "source": [
    "class EmbeddedInvariantAnnotator(InvariantTracker):\n",
    "    def functions_with_invariants_ast(self, function_name=None):\n",
    "        if function_name is None:\n",
    "            return annotate_functions_with_invariants(self.invariants())\n",
    "        \n",
    "        return annotate_function_with_invariants(function_name, self.invariants(function_name))\n",
    "    \n",
    "    def functions_with_invariants(self, function_name=None):\n",
    "        if function_name is None:\n",
    "            functions = ''\n",
    "            for f_name in self.invariants():\n",
    "                try:\n",
    "                    f_text = ast.unparse(self.functions_with_invariants_ast(f_name))\n",
    "                except KeyError:\n",
    "                    f_text = ''\n",
    "                functions += f_text\n",
    "            return functions\n",
    "\n",
    "        return ast.unparse(self.functions_with_invariants_ast(function_name))\n",
    "    \n",
    "    def function_with_invariants(self, function_name):\n",
    "        return self.functions_with_invariants(function_name)\n",
    "    def function_with_invariants_ast(self, function_name):\n",
    "        return self.functions_with_invariants_ast(function_name)"
   ]
  },
  {
   "cell_type": "code",
   "execution_count": 203,
   "metadata": {
    "execution": {
     "iopub.execute_input": "2022-11-12T07:33:50.738784Z",
     "iopub.status.busy": "2022-11-12T07:33:50.738460Z",
     "iopub.status.idle": "2022-11-12T07:33:50.739739Z",
     "shell.execute_reply": "2022-11-12T07:33:50.739957Z"
    },
    "slideshow": {
     "slide_type": "skip"
    },
    "solution2": "hidden"
   },
   "outputs": [],
   "source": [
    "def annotate_invariants(invariants):\n",
    "    annotated_functions = {}\n",
    "    \n",
    "    for function_name in invariants:\n",
    "        try:\n",
    "            annotated_functions[function_name] = annotate_function_with_invariants(function_name, invariants[function_name])\n",
    "        except KeyError:\n",
    "            continue\n",
    "\n",
    "    return annotated_functions"
   ]
  },
  {
   "cell_type": "code",
   "execution_count": 204,
   "metadata": {
    "execution": {
     "iopub.execute_input": "2022-11-12T07:33:50.742208Z",
     "iopub.status.busy": "2022-11-12T07:33:50.741867Z",
     "iopub.status.idle": "2022-11-12T07:33:50.743293Z",
     "shell.execute_reply": "2022-11-12T07:33:50.743514Z"
    },
    "slideshow": {
     "slide_type": "skip"
    },
    "solution2": "hidden"
   },
   "outputs": [],
   "source": [
    "def annotate_function_with_invariants(function_name, function_invariants):\n",
    "    function = globals()[function_name]\n",
    "    function_code = inspect.getsource(function)\n",
    "    function_ast = ast.parse(function_code)\n",
    "    return annotate_function_ast_with_invariants(function_ast, function_invariants)"
   ]
  },
  {
   "cell_type": "code",
   "execution_count": 205,
   "metadata": {
    "execution": {
     "iopub.execute_input": "2022-11-12T07:33:50.745512Z",
     "iopub.status.busy": "2022-11-12T07:33:50.745192Z",
     "iopub.status.idle": "2022-11-12T07:33:50.746535Z",
     "shell.execute_reply": "2022-11-12T07:33:50.746751Z"
    },
    "slideshow": {
     "slide_type": "skip"
    },
    "solution2": "hidden"
   },
   "outputs": [],
   "source": [
    "def annotate_function_ast_with_invariants(function_ast, function_invariants):\n",
    "    annotated_function_ast = EmbeddedInvariantTransformer(function_invariants).visit(function_ast)\n",
    "    return annotated_function_ast"
   ]
  },
  {
   "cell_type": "markdown",
   "metadata": {
    "slideshow": {
     "slide_type": "skip"
    },
    "solution2": "hidden"
   },
   "source": [
    "Part 2: Preconditions"
   ]
  },
  {
   "cell_type": "code",
   "execution_count": 206,
   "metadata": {
    "execution": {
     "iopub.execute_input": "2022-11-12T07:33:50.750454Z",
     "iopub.status.busy": "2022-11-12T07:33:50.750127Z",
     "iopub.status.idle": "2022-11-12T07:33:50.751519Z",
     "shell.execute_reply": "2022-11-12T07:33:50.751729Z"
    },
    "slideshow": {
     "slide_type": "skip"
    },
    "solution2": "hidden"
   },
   "outputs": [],
   "source": [
    "class PreconditionTransformer(ast.NodeTransformer):\n",
    "    def __init__(self, invariants):\n",
    "        self.invariants = invariants\n",
    "        super().__init__()\n",
    "\n",
    "    def preconditions(self):\n",
    "        preconditions = []\n",
    "        for (prop, var_names) in self.invariants:\n",
    "            assertion = \"assert \" + instantiate_prop(prop, var_names) + ', \"violated precondition\"'\n",
    "            assertion_ast = ast.parse(assertion)\n",
    "\n",
    "            if assertion.find(RETURN_VALUE) < 0:\n",
    "                preconditions += assertion_ast.body\n",
    "\n",
    "        return preconditions\n",
    "\n",
    "    def insert_assertions(self, body):\n",
    "        preconditions = self.preconditions()\n",
    "        try:\n",
    "            docstring = body[0].value.s\n",
    "        except:\n",
    "            docstring = None\n",
    "\n",
    "        if docstring:\n",
    "            return [body[0]] + preconditions + body[1:]\n",
    "        else:\n",
    "            return preconditions + body\n",
    "\n",
    "    def visit_FunctionDef(self, node):\n",
    "        \"\"\"Add invariants to function\"\"\"\n",
    "        # print(ast.dump(node))\n",
    "        node.body = self.insert_assertions(node.body)\n",
    "        return node    "
   ]
  },
  {
   "cell_type": "code",
   "execution_count": 207,
   "metadata": {
    "execution": {
     "iopub.execute_input": "2022-11-12T07:33:50.753809Z",
     "iopub.status.busy": "2022-11-12T07:33:50.753447Z",
     "iopub.status.idle": "2022-11-12T07:33:50.754914Z",
     "shell.execute_reply": "2022-11-12T07:33:50.755127Z"
    },
    "slideshow": {
     "slide_type": "skip"
    },
    "solution2": "hidden"
   },
   "outputs": [],
   "source": [
    "class EmbeddedInvariantTransformer(PreconditionTransformer):\n",
    "    pass"
   ]
  },
  {
   "cell_type": "code",
   "execution_count": 208,
   "metadata": {
    "execution": {
     "iopub.execute_input": "2022-11-12T07:33:50.757188Z",
     "iopub.status.busy": "2022-11-12T07:33:50.756871Z",
     "iopub.status.idle": "2022-11-12T07:33:50.758070Z",
     "shell.execute_reply": "2022-11-12T07:33:50.758280Z"
    },
    "slideshow": {
     "slide_type": "skip"
    },
    "solution2": "hidden"
   },
   "outputs": [],
   "source": [
    "with EmbeddedInvariantAnnotator() as annotator:\n",
    "    my_sqrt(5)"
   ]
  },
  {
   "cell_type": "code",
   "execution_count": 209,
   "metadata": {
    "execution": {
     "iopub.execute_input": "2022-11-12T07:33:50.763097Z",
     "iopub.status.busy": "2022-11-12T07:33:50.762773Z",
     "iopub.status.idle": "2022-11-12T07:33:50.768424Z",
     "shell.execute_reply": "2022-11-12T07:33:50.768758Z"
    },
    "slideshow": {
     "slide_type": "skip"
    },
    "solution2": "hidden"
   },
   "outputs": [
    {
     "name": "stdout",
     "output_type": "stream",
     "text": [
      "\u001b[34mdef\u001b[39;49;00m \u001b[32mmy_sqrt\u001b[39;49;00m(x):\n",
      "    \u001b[33m\"\"\"Computes the square root of x, using the Newton-Raphson method\"\"\"\u001b[39;49;00m\n",
      "    \u001b[34massert\u001b[39;49;00m x >= \u001b[34m0\u001b[39;49;00m, \u001b[33m'\u001b[39;49;00m\u001b[33mviolated precondition\u001b[39;49;00m\u001b[33m'\u001b[39;49;00m\n",
      "    \u001b[34massert\u001b[39;49;00m x > \u001b[34m0\u001b[39;49;00m, \u001b[33m'\u001b[39;49;00m\u001b[33mviolated precondition\u001b[39;49;00m\u001b[33m'\u001b[39;49;00m\n",
      "    \u001b[34massert\u001b[39;49;00m \u001b[36misinstance\u001b[39;49;00m(x, \u001b[36mint\u001b[39;49;00m), \u001b[33m'\u001b[39;49;00m\u001b[33mviolated precondition\u001b[39;49;00m\u001b[33m'\u001b[39;49;00m\n",
      "    \u001b[34massert\u001b[39;49;00m x != \u001b[34m0\u001b[39;49;00m, \u001b[33m'\u001b[39;49;00m\u001b[33mviolated precondition\u001b[39;49;00m\u001b[33m'\u001b[39;49;00m\n",
      "    approx = \u001b[34mNone\u001b[39;49;00m\n",
      "    guess = x / \u001b[34m2\u001b[39;49;00m\n",
      "    \u001b[34mwhile\u001b[39;49;00m approx != guess:\n",
      "        approx = guess\n",
      "        guess = (approx + x / approx) / \u001b[34m2\u001b[39;49;00m\n",
      "    \u001b[34mreturn\u001b[39;49;00m approx"
     ]
    }
   ],
   "source": [
    "print_content(annotator.functions_with_invariants(), '.py')"
   ]
  },
  {
   "cell_type": "code",
   "execution_count": 210,
   "metadata": {
    "execution": {
     "iopub.execute_input": "2022-11-12T07:33:50.771237Z",
     "iopub.status.busy": "2022-11-12T07:33:50.770900Z",
     "iopub.status.idle": "2022-11-12T07:33:50.772198Z",
     "shell.execute_reply": "2022-11-12T07:33:50.772422Z"
    },
    "slideshow": {
     "slide_type": "skip"
    },
    "solution2": "hidden"
   },
   "outputs": [],
   "source": [
    "with EmbeddedInvariantAnnotator() as annotator:\n",
    "    y = sum3(3, 4, 5)\n",
    "    y = sum3(-3, -4, -5)\n",
    "    y = sum3(0, 0, 0)"
   ]
  },
  {
   "cell_type": "code",
   "execution_count": 211,
   "metadata": {
    "execution": {
     "iopub.execute_input": "2022-11-12T07:33:50.786743Z",
     "iopub.status.busy": "2022-11-12T07:33:50.779951Z",
     "iopub.status.idle": "2022-11-12T07:33:50.788206Z",
     "shell.execute_reply": "2022-11-12T07:33:50.788460Z"
    },
    "slideshow": {
     "slide_type": "skip"
    },
    "solution2": "hidden"
   },
   "outputs": [
    {
     "name": "stdout",
     "output_type": "stream",
     "text": [
      "\u001b[34mdef\u001b[39;49;00m \u001b[32msum3\u001b[39;49;00m(a, b, c):\n",
      "    \u001b[34massert\u001b[39;49;00m \u001b[36misinstance\u001b[39;49;00m(b, \u001b[36mint\u001b[39;49;00m), \u001b[33m'\u001b[39;49;00m\u001b[33mviolated precondition\u001b[39;49;00m\u001b[33m'\u001b[39;49;00m\n",
      "    \u001b[34massert\u001b[39;49;00m \u001b[36misinstance\u001b[39;49;00m(a, \u001b[36mint\u001b[39;49;00m), \u001b[33m'\u001b[39;49;00m\u001b[33mviolated precondition\u001b[39;49;00m\u001b[33m'\u001b[39;49;00m\n",
      "    \u001b[34massert\u001b[39;49;00m \u001b[36misinstance\u001b[39;49;00m(c, \u001b[36mint\u001b[39;49;00m), \u001b[33m'\u001b[39;49;00m\u001b[33mviolated precondition\u001b[39;49;00m\u001b[33m'\u001b[39;49;00m\n",
      "    \u001b[34mreturn\u001b[39;49;00m a + b + c"
     ]
    }
   ],
   "source": [
    "print_content(annotator.functions_with_invariants(), '.py')"
   ]
  },
  {
   "cell_type": "markdown",
   "metadata": {
    "slideshow": {
     "slide_type": "skip"
    },
    "solution2": "hidden"
   },
   "source": [
    "Part 3: Postconditions\n",
    "\n",
    "We make a few simplifying assumptions: \n",
    "\n",
    "* Variables do not change during execution.\n",
    "* There is a single `return` statement at the end of the function."
   ]
  },
  {
   "cell_type": "code",
   "execution_count": 212,
   "metadata": {
    "execution": {
     "iopub.execute_input": "2022-11-12T07:33:50.792530Z",
     "iopub.status.busy": "2022-11-12T07:33:50.792194Z",
     "iopub.status.idle": "2022-11-12T07:33:50.793460Z",
     "shell.execute_reply": "2022-11-12T07:33:50.793692Z"
    },
    "slideshow": {
     "slide_type": "skip"
    },
    "solution2": "hidden"
   },
   "outputs": [],
   "source": [
    "class EmbeddedInvariantTransformer(PreconditionTransformer):\n",
    "    def postconditions(self):\n",
    "        postconditions = []\n",
    "\n",
    "        for (prop, var_names) in self.invariants:\n",
    "            assertion = \"assert \" + instantiate_prop(prop, var_names) + ', \"violated postcondition\"'\n",
    "            assertion_ast = ast.parse(assertion)\n",
    "\n",
    "            if assertion.find(RETURN_VALUE) >= 0:\n",
    "                postconditions += assertion_ast.body\n",
    "\n",
    "        return postconditions\n",
    "    \n",
    "    def insert_assertions(self, body):\n",
    "        new_body = super().insert_assertions(body)\n",
    "        postconditions = self.postconditions()\n",
    "\n",
    "        body_ends_with_return = isinstance(new_body[-1], ast.Return)\n",
    "        if body_ends_with_return:\n",
    "            saver = RETURN_VALUE + \" = \" + ast.unparse(new_body[-1].value)\n",
    "        else:\n",
    "            saver = RETURN_VALUE + \" = None\"\n",
    "    \n",
    "        saver_ast = ast.parse(saver)\n",
    "        postconditions = [saver_ast] + postconditions\n",
    "\n",
    "        if body_ends_with_return:\n",
    "            return new_body[:-1] + postconditions + [new_body[-1]]\n",
    "        else:\n",
    "            return new_body + postconditions"
   ]
  },
  {
   "cell_type": "code",
   "execution_count": 213,
   "metadata": {
    "execution": {
     "iopub.execute_input": "2022-11-12T07:33:50.795685Z",
     "iopub.status.busy": "2022-11-12T07:33:50.795302Z",
     "iopub.status.idle": "2022-11-12T07:33:50.796579Z",
     "shell.execute_reply": "2022-11-12T07:33:50.796848Z"
    },
    "slideshow": {
     "slide_type": "skip"
    },
    "solution2": "hidden"
   },
   "outputs": [],
   "source": [
    "with EmbeddedInvariantAnnotator() as annotator:\n",
    "    my_sqrt(5)"
   ]
  },
  {
   "cell_type": "code",
   "execution_count": 214,
   "metadata": {
    "execution": {
     "iopub.execute_input": "2022-11-12T07:33:50.803378Z",
     "iopub.status.busy": "2022-11-12T07:33:50.803035Z",
     "iopub.status.idle": "2022-11-12T07:33:50.804425Z",
     "shell.execute_reply": "2022-11-12T07:33:50.804614Z"
    },
    "slideshow": {
     "slide_type": "skip"
    },
    "solution2": "hidden"
   },
   "outputs": [],
   "source": [
    "my_sqrt_def = annotator.functions_with_invariants()"
   ]
  },
  {
   "cell_type": "markdown",
   "metadata": {
    "slideshow": {
     "slide_type": "skip"
    },
    "solution2": "hidden"
   },
   "source": [
    "Here's the full definition with included assertions:"
   ]
  },
  {
   "cell_type": "code",
   "execution_count": 215,
   "metadata": {
    "execution": {
     "iopub.execute_input": "2022-11-12T07:33:50.810449Z",
     "iopub.status.busy": "2022-11-12T07:33:50.810099Z",
     "iopub.status.idle": "2022-11-12T07:33:50.811455Z",
     "shell.execute_reply": "2022-11-12T07:33:50.811745Z"
    },
    "slideshow": {
     "slide_type": "skip"
    },
    "solution2": "hidden"
   },
   "outputs": [
    {
     "name": "stdout",
     "output_type": "stream",
     "text": [
      "\u001b[34mdef\u001b[39;49;00m \u001b[32mmy_sqrt\u001b[39;49;00m(x):\n",
      "    \u001b[33m\"\"\"Computes the square root of x, using the Newton-Raphson method\"\"\"\u001b[39;49;00m\n",
      "    \u001b[34massert\u001b[39;49;00m x >= \u001b[34m0\u001b[39;49;00m, \u001b[33m'\u001b[39;49;00m\u001b[33mviolated precondition\u001b[39;49;00m\u001b[33m'\u001b[39;49;00m\n",
      "    \u001b[34massert\u001b[39;49;00m x > \u001b[34m0\u001b[39;49;00m, \u001b[33m'\u001b[39;49;00m\u001b[33mviolated precondition\u001b[39;49;00m\u001b[33m'\u001b[39;49;00m\n",
      "    \u001b[34massert\u001b[39;49;00m \u001b[36misinstance\u001b[39;49;00m(x, \u001b[36mint\u001b[39;49;00m), \u001b[33m'\u001b[39;49;00m\u001b[33mviolated precondition\u001b[39;49;00m\u001b[33m'\u001b[39;49;00m\n",
      "    \u001b[34massert\u001b[39;49;00m x != \u001b[34m0\u001b[39;49;00m, \u001b[33m'\u001b[39;49;00m\u001b[33mviolated precondition\u001b[39;49;00m\u001b[33m'\u001b[39;49;00m\n",
      "    approx = \u001b[34mNone\u001b[39;49;00m\n",
      "    guess = x / \u001b[34m2\u001b[39;49;00m\n",
      "    \u001b[34mwhile\u001b[39;49;00m approx != guess:\n",
      "        approx = guess\n",
      "        guess = (approx + x / approx) / \u001b[34m2\u001b[39;49;00m\n",
      "    return_value = approx\n",
      "    \u001b[34massert\u001b[39;49;00m return_value != \u001b[34m0\u001b[39;49;00m, \u001b[33m'\u001b[39;49;00m\u001b[33mviolated postcondition\u001b[39;49;00m\u001b[33m'\u001b[39;49;00m\n",
      "    \u001b[34massert\u001b[39;49;00m return_value <= x, \u001b[33m'\u001b[39;49;00m\u001b[33mviolated postcondition\u001b[39;49;00m\u001b[33m'\u001b[39;49;00m\n",
      "    \u001b[34massert\u001b[39;49;00m return_value >= \u001b[34m0\u001b[39;49;00m, \u001b[33m'\u001b[39;49;00m\u001b[33mviolated postcondition\u001b[39;49;00m\u001b[33m'\u001b[39;49;00m\n",
      "    \u001b[34massert\u001b[39;49;00m x >= return_value, \u001b[33m'\u001b[39;49;00m\u001b[33mviolated postcondition\u001b[39;49;00m\u001b[33m'\u001b[39;49;00m\n",
      "    \u001b[34massert\u001b[39;49;00m \u001b[36misinstance\u001b[39;49;00m(return_value, \u001b[36mfloat\u001b[39;49;00m), \u001b[33m'\u001b[39;49;00m\u001b[33mviolated postcondition\u001b[39;49;00m\u001b[33m'\u001b[39;49;00m\n",
      "    \u001b[34massert\u001b[39;49;00m return_value > \u001b[34m0\u001b[39;49;00m, \u001b[33m'\u001b[39;49;00m\u001b[33mviolated postcondition\u001b[39;49;00m\u001b[33m'\u001b[39;49;00m\n",
      "    \u001b[34massert\u001b[39;49;00m x > return_value, \u001b[33m'\u001b[39;49;00m\u001b[33mviolated postcondition\u001b[39;49;00m\u001b[33m'\u001b[39;49;00m\n",
      "    \u001b[34massert\u001b[39;49;00m return_value < x, \u001b[33m'\u001b[39;49;00m\u001b[33mviolated postcondition\u001b[39;49;00m\u001b[33m'\u001b[39;49;00m\n",
      "    \u001b[34mreturn\u001b[39;49;00m approx"
     ]
    }
   ],
   "source": [
    "print_content(my_sqrt_def, '.py')"
   ]
  },
  {
   "cell_type": "code",
   "execution_count": 216,
   "metadata": {
    "execution": {
     "iopub.execute_input": "2022-11-12T07:33:50.813843Z",
     "iopub.status.busy": "2022-11-12T07:33:50.813528Z",
     "iopub.status.idle": "2022-11-12T07:33:50.814800Z",
     "shell.execute_reply": "2022-11-12T07:33:50.815019Z"
    },
    "slideshow": {
     "slide_type": "skip"
    },
    "solution2": "hidden"
   },
   "outputs": [],
   "source": [
    "exec(my_sqrt_def.replace('my_sqrt', 'my_sqrt_annotated'))"
   ]
  },
  {
   "cell_type": "code",
   "execution_count": 217,
   "metadata": {
    "execution": {
     "iopub.execute_input": "2022-11-12T07:33:50.817246Z",
     "iopub.status.busy": "2022-11-12T07:33:50.816830Z",
     "iopub.status.idle": "2022-11-12T07:33:50.818198Z",
     "shell.execute_reply": "2022-11-12T07:33:50.818418Z"
    },
    "slideshow": {
     "slide_type": "skip"
    },
    "solution2": "hidden"
   },
   "outputs": [
    {
     "name": "stderr",
     "output_type": "stream",
     "text": [
      "Traceback (most recent call last):\n",
      "  File \"/var/folders/n2/xd9445p97rb3xh7m1dfx8_4h0006ts/T/ipykernel_43875/1337162511.py\", line 2, in <module>\n",
      "    my_sqrt_annotated(-1)\n",
      "  File \"<string>\", line 3, in my_sqrt_annotated\n",
      "AssertionError: violated precondition (expected)\n"
     ]
    }
   ],
   "source": [
    "with ExpectError():\n",
    "    my_sqrt_annotated(-1)"
   ]
  },
  {
   "cell_type": "markdown",
   "metadata": {
    "slideshow": {
     "slide_type": "skip"
    },
    "solution2": "hidden"
   },
   "source": [
    "Here come some more examples:"
   ]
  },
  {
   "cell_type": "code",
   "execution_count": 218,
   "metadata": {
    "execution": {
     "iopub.execute_input": "2022-11-12T07:33:50.820734Z",
     "iopub.status.busy": "2022-11-12T07:33:50.820406Z",
     "iopub.status.idle": "2022-11-12T07:33:50.821614Z",
     "shell.execute_reply": "2022-11-12T07:33:50.821830Z"
    },
    "slideshow": {
     "slide_type": "skip"
    },
    "solution2": "hidden"
   },
   "outputs": [],
   "source": [
    "with EmbeddedInvariantAnnotator() as annotator:\n",
    "    y = sum3(3, 4, 5)\n",
    "    y = sum3(-3, -4, -5)\n",
    "    y = sum3(0, 0, 0)"
   ]
  },
  {
   "cell_type": "code",
   "execution_count": 219,
   "metadata": {
    "execution": {
     "iopub.execute_input": "2022-11-12T07:33:50.832662Z",
     "iopub.status.busy": "2022-11-12T07:33:50.829293Z",
     "iopub.status.idle": "2022-11-12T07:33:50.838268Z",
     "shell.execute_reply": "2022-11-12T07:33:50.838489Z"
    },
    "slideshow": {
     "slide_type": "skip"
    },
    "solution2": "hidden"
   },
   "outputs": [
    {
     "name": "stdout",
     "output_type": "stream",
     "text": [
      "\u001b[34mdef\u001b[39;49;00m \u001b[32msum3\u001b[39;49;00m(a, b, c):\n",
      "    \u001b[34massert\u001b[39;49;00m \u001b[36misinstance\u001b[39;49;00m(b, \u001b[36mint\u001b[39;49;00m), \u001b[33m'\u001b[39;49;00m\u001b[33mviolated precondition\u001b[39;49;00m\u001b[33m'\u001b[39;49;00m\n",
      "    \u001b[34massert\u001b[39;49;00m \u001b[36misinstance\u001b[39;49;00m(a, \u001b[36mint\u001b[39;49;00m), \u001b[33m'\u001b[39;49;00m\u001b[33mviolated precondition\u001b[39;49;00m\u001b[33m'\u001b[39;49;00m\n",
      "    \u001b[34massert\u001b[39;49;00m \u001b[36misinstance\u001b[39;49;00m(c, \u001b[36mint\u001b[39;49;00m), \u001b[33m'\u001b[39;49;00m\u001b[33mviolated precondition\u001b[39;49;00m\u001b[33m'\u001b[39;49;00m\n",
      "    return_value = a + b + c\n",
      "    \u001b[34massert\u001b[39;49;00m \u001b[36misinstance\u001b[39;49;00m(return_value, \u001b[36mint\u001b[39;49;00m), \u001b[33m'\u001b[39;49;00m\u001b[33mviolated postcondition\u001b[39;49;00m\u001b[33m'\u001b[39;49;00m\n",
      "    \u001b[34mreturn\u001b[39;49;00m a + b + c"
     ]
    }
   ],
   "source": [
    "print_content(annotator.functions_with_invariants(), '.py')"
   ]
  },
  {
   "cell_type": "code",
   "execution_count": 220,
   "metadata": {
    "execution": {
     "iopub.execute_input": "2022-11-12T07:33:50.856299Z",
     "iopub.status.busy": "2022-11-12T07:33:50.855907Z",
     "iopub.status.idle": "2022-11-12T07:33:50.857312Z",
     "shell.execute_reply": "2022-11-12T07:33:50.857526Z"
    },
    "slideshow": {
     "slide_type": "skip"
    },
    "solution2": "hidden"
   },
   "outputs": [
    {
     "name": "stdout",
     "output_type": "stream",
     "text": [
      "\u001b[34mdef\u001b[39;49;00m \u001b[32mlist_length\u001b[39;49;00m(L):\n",
      "    \u001b[34massert\u001b[39;49;00m L != \u001b[34m0\u001b[39;49;00m, \u001b[33m'\u001b[39;49;00m\u001b[33mviolated precondition\u001b[39;49;00m\u001b[33m'\u001b[39;49;00m\n",
      "    \u001b[34massert\u001b[39;49;00m \u001b[36misinstance\u001b[39;49;00m(L, \u001b[36mlist\u001b[39;49;00m), \u001b[33m'\u001b[39;49;00m\u001b[33mviolated precondition\u001b[39;49;00m\u001b[33m'\u001b[39;49;00m\n",
      "    \u001b[34mif\u001b[39;49;00m L == []:\n",
      "        length = \u001b[34m0\u001b[39;49;00m\n",
      "    \u001b[34melse\u001b[39;49;00m:\n",
      "        length = \u001b[34m1\u001b[39;49;00m + list_length(L[\u001b[34m1\u001b[39;49;00m:])\n",
      "    return_value = length\n",
      "    \u001b[34massert\u001b[39;49;00m return_value >= \u001b[34m0\u001b[39;49;00m, \u001b[33m'\u001b[39;49;00m\u001b[33mviolated postcondition\u001b[39;49;00m\u001b[33m'\u001b[39;49;00m\n",
      "    \u001b[34massert\u001b[39;49;00m return_value == \u001b[36mlen\u001b[39;49;00m(L), \u001b[33m'\u001b[39;49;00m\u001b[33mviolated postcondition\u001b[39;49;00m\u001b[33m'\u001b[39;49;00m\n",
      "    \u001b[34massert\u001b[39;49;00m \u001b[36misinstance\u001b[39;49;00m(return_value, \u001b[36mint\u001b[39;49;00m), \u001b[33m'\u001b[39;49;00m\u001b[33mviolated postcondition\u001b[39;49;00m\u001b[33m'\u001b[39;49;00m\n",
      "    \u001b[34mreturn\u001b[39;49;00m length"
     ]
    }
   ],
   "source": [
    "with EmbeddedInvariantAnnotator() as annotator:\n",
    "    length = list_length([1, 2, 3])\n",
    "\n",
    "print_content(annotator.functions_with_invariants(), '.py')"
   ]
  },
  {
   "cell_type": "code",
   "execution_count": 221,
   "metadata": {
    "execution": {
     "iopub.execute_input": "2022-11-12T07:33:50.859578Z",
     "iopub.status.busy": "2022-11-12T07:33:50.859200Z",
     "iopub.status.idle": "2022-11-12T07:33:50.860788Z",
     "shell.execute_reply": "2022-11-12T07:33:50.861004Z"
    },
    "slideshow": {
     "slide_type": "skip"
    },
    "solution2": "hidden"
   },
   "outputs": [
    {
     "name": "stdout",
     "output_type": "stream",
     "text": [
      "76\n"
     ]
    }
   ],
   "source": [
    "with EmbeddedInvariantAnnotator() as annotator:\n",
    "    print_sum(31, 45)"
   ]
  },
  {
   "cell_type": "code",
   "execution_count": 222,
   "metadata": {
    "execution": {
     "iopub.execute_input": "2022-11-12T07:33:50.995304Z",
     "iopub.status.busy": "2022-11-12T07:33:50.954767Z",
     "iopub.status.idle": "2022-11-12T07:33:51.002558Z",
     "shell.execute_reply": "2022-11-12T07:33:51.002780Z"
    },
    "slideshow": {
     "slide_type": "skip"
    },
    "solution2": "hidden"
   },
   "outputs": [
    {
     "name": "stdout",
     "output_type": "stream",
     "text": [
      "\u001b[34mdef\u001b[39;49;00m \u001b[32mprint_sum\u001b[39;49;00m(a, b):\n",
      "    \u001b[34massert\u001b[39;49;00m a > \u001b[34m0\u001b[39;49;00m, \u001b[33m'\u001b[39;49;00m\u001b[33mviolated precondition\u001b[39;49;00m\u001b[33m'\u001b[39;49;00m\n",
      "    \u001b[34massert\u001b[39;49;00m \u001b[36misinstance\u001b[39;49;00m(b, \u001b[36mint\u001b[39;49;00m), \u001b[33m'\u001b[39;49;00m\u001b[33mviolated precondition\u001b[39;49;00m\u001b[33m'\u001b[39;49;00m\n",
      "    \u001b[34massert\u001b[39;49;00m b != \u001b[34m0\u001b[39;49;00m, \u001b[33m'\u001b[39;49;00m\u001b[33mviolated precondition\u001b[39;49;00m\u001b[33m'\u001b[39;49;00m\n",
      "    \u001b[34massert\u001b[39;49;00m a < b, \u001b[33m'\u001b[39;49;00m\u001b[33mviolated precondition\u001b[39;49;00m\u001b[33m'\u001b[39;49;00m\n",
      "    \u001b[34massert\u001b[39;49;00m \u001b[36misinstance\u001b[39;49;00m(a, \u001b[36mint\u001b[39;49;00m), \u001b[33m'\u001b[39;49;00m\u001b[33mviolated precondition\u001b[39;49;00m\u001b[33m'\u001b[39;49;00m\n",
      "    \u001b[34massert\u001b[39;49;00m a <= b, \u001b[33m'\u001b[39;49;00m\u001b[33mviolated precondition\u001b[39;49;00m\u001b[33m'\u001b[39;49;00m\n",
      "    \u001b[34massert\u001b[39;49;00m a != \u001b[34m0\u001b[39;49;00m, \u001b[33m'\u001b[39;49;00m\u001b[33mviolated precondition\u001b[39;49;00m\u001b[33m'\u001b[39;49;00m\n",
      "    \u001b[34massert\u001b[39;49;00m b >= \u001b[34m0\u001b[39;49;00m, \u001b[33m'\u001b[39;49;00m\u001b[33mviolated precondition\u001b[39;49;00m\u001b[33m'\u001b[39;49;00m\n",
      "    \u001b[34massert\u001b[39;49;00m b > a, \u001b[33m'\u001b[39;49;00m\u001b[33mviolated precondition\u001b[39;49;00m\u001b[33m'\u001b[39;49;00m\n",
      "    \u001b[34massert\u001b[39;49;00m b >= a, \u001b[33m'\u001b[39;49;00m\u001b[33mviolated precondition\u001b[39;49;00m\u001b[33m'\u001b[39;49;00m\n",
      "    \u001b[34massert\u001b[39;49;00m b > \u001b[34m0\u001b[39;49;00m, \u001b[33m'\u001b[39;49;00m\u001b[33mviolated precondition\u001b[39;49;00m\u001b[33m'\u001b[39;49;00m\n",
      "    \u001b[34massert\u001b[39;49;00m a >= \u001b[34m0\u001b[39;49;00m, \u001b[33m'\u001b[39;49;00m\u001b[33mviolated precondition\u001b[39;49;00m\u001b[33m'\u001b[39;49;00m\n",
      "    \u001b[36mprint\u001b[39;49;00m(a + b)\n",
      "    return_value = \u001b[34mNone\u001b[39;49;00m\n",
      "    \u001b[34massert\u001b[39;49;00m return_value != \u001b[34m0\u001b[39;49;00m, \u001b[33m'\u001b[39;49;00m\u001b[33mviolated postcondition\u001b[39;49;00m\u001b[33m'\u001b[39;49;00m"
     ]
    }
   ],
   "source": [
    "print_content(annotator.functions_with_invariants(), '.py')"
   ]
  },
  {
   "cell_type": "markdown",
   "metadata": {
    "slideshow": {
     "slide_type": "skip"
    },
    "solution2": "hidden"
   },
   "source": [
    "And we're done!"
   ]
  }
 ],
 "metadata": {
  "ipub": {
   "bibliography": "fuzzingbook.bib",
   "toc": true
  },
  "kernelspec": {
   "display_name": "Python 3 (ipykernel)",
   "language": "python",
   "name": "python3"
  },
  "language_info": {
   "codemirror_mode": {
    "name": "ipython",
    "version": 3
   },
   "file_extension": ".py",
   "mimetype": "text/x-python",
   "name": "python",
   "nbconvert_exporter": "python",
   "pygments_lexer": "ipython3",
   "version": "3.10.2"
  },
  "toc": {
   "base_numbering": 1,
   "nav_menu": {},
   "number_sections": true,
   "sideBar": true,
   "skip_h1_title": true,
   "title_cell": "",
   "title_sidebar": "Contents",
   "toc_cell": false,
   "toc_position": {},
   "toc_section_display": true,
   "toc_window_display": true
  },
  "toc-autonumbering": false
 },
 "nbformat": 4,
 "nbformat_minor": 4
}
