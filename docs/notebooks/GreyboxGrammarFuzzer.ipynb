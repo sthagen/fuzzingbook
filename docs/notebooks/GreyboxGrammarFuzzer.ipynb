{
 "cells": [
  {
   "cell_type": "markdown",
   "metadata": {
    "button": false,
    "new_sheet": false,
    "run_control": {
     "read_only": false
    },
    "slideshow": {
     "slide_type": "slide"
    }
   },
   "source": [
    "# Greybox Fuzzing with Grammars\n",
    "\n",
    "In this chapter, we introduce important extensions to our syntactic fuzzing techniques, all leveraging _syntactic_ parts of _existing inputs_.\n",
    "\n",
    "1. We show how to leverage _dictionaries_ of input fragments during fuzzing. The idea is to integrate such dictionaries into a _mutator_, which would then inject these fragments (typically keywords and other items of importance) into population.\n",
    "\n",
    "2. We show how to combine [parsing](Parser.ipynb) and [fuzzing](GrammarFuzzer.ipynb) with grammars.  This allows to _mutate_ existing inputs while preserving syntactical correctness, and to _reuse_ fragments from existing inputs while generating new ones.  The combination of language-based parsing and generating, as demonstrated in this chapter, has been highly successful in practice: The _LangFuzz_ fuzzer for JavaScript has found more than 2,600 bugs in JavaScript interpreters this way.\n",
    "\n",
    "3. In the previous chapters, we have used grammars in a _black-box_ manner – that is, we have used them to generate inputs regardless of the program being tested.  In this chapter, we introduce mutational _greybox fuzzing with grammars_: Techniques that make use of _feedback from the program under test_ to guide test generations towards specific goals.  As in [lexical greybox fuzzing](GreyboxFuzzer.ipynb), this feedback is mostly _coverage_, allowing us to direct grammar-based testing towards uncovered code parts. This part is inspired by the _AFLSmart_ fuzzer, which combines parsing and mutational fuzzing."
   ]
  },
  {
   "cell_type": "code",
   "execution_count": 1,
   "metadata": {
    "execution": {
     "iopub.execute_input": "2022-08-01T13:01:26.751075Z",
     "iopub.status.busy": "2022-08-01T13:01:26.750927Z",
     "iopub.status.idle": "2022-08-01T13:01:26.812445Z",
     "shell.execute_reply": "2022-08-01T13:01:26.812095Z"
    },
    "slideshow": {
     "slide_type": "skip"
    }
   },
   "outputs": [
    {
     "data": {
      "text/html": [
       "\n",
       "        <iframe\n",
       "            width=\"640\"\n",
       "            height=\"360\"\n",
       "            src=\"https://www.youtube-nocookie.com/embed/hSGzcjUj7Vs\"\n",
       "            frameborder=\"0\"\n",
       "            allowfullscreen\n",
       "            \n",
       "        ></iframe>\n",
       "        "
      ],
      "text/plain": [
       "<IPython.lib.display.IFrame at 0x1064b1f70>"
      ]
     },
     "execution_count": 1,
     "metadata": {},
     "output_type": "execute_result"
    }
   ],
   "source": [
    "from bookutils import YouTubeVideo\n",
    "YouTubeVideo('hSGzcjUj7Vs')"
   ]
  },
  {
   "cell_type": "markdown",
   "metadata": {
    "button": false,
    "new_sheet": false,
    "run_control": {
     "read_only": false
    },
    "slideshow": {
     "slide_type": "subslide"
    }
   },
   "source": [
    "**Prerequisites**\n",
    "\n",
    "* We build on several concepts from [the chapter on greybox fuzzing (without grammars)](GreyboxFuzzer.ipynb).\n",
    "* As the title suggests, you should know how to fuzz with grammars [from the chapter on grammars](Grammars.ipynb)."
   ]
  },
  {
   "cell_type": "markdown",
   "metadata": {
    "slideshow": {
     "slide_type": "skip"
    }
   },
   "source": [
    "## Synopsis\n",
    "<!-- Automatically generated. Do not edit. -->\n",
    "\n",
    "To [use the code provided in this chapter](Importing.ipynb), write\n",
    "\n",
    "```python\n",
    ">>> from fuzzingbook.GreyboxGrammarFuzzer import <identifier>\n",
    "```\n",
    "\n",
    "and then make use of the following features.\n",
    "\n",
    "\n",
    "This chapter introduces advanced methods for language-based grey-box fuzzing inspired by the _LangFuzz_ and _AFLSmart_ fuzzers.\n",
    "\n",
    "### Fuzzing with Dictionaries\n",
    "\n",
    "Rather than mutating strings randomly, the `DictMutator` class allows to insert tokens from a dictionary, thus increasing fuzzer performance. The dictionary comes as a list of strings, out of which random elements are picked and inserted - in addition to the given mutations such as deleting or inserting individual bytes.\n",
    "\n",
    "```python\n",
    ">>> dict_mutator = DictMutator([\"<a>\", \"</a>\", \"<a/>\", \"='a'\"])\n",
    ">>> seeds = [\"<html><head><title>Hello</title></head><body>World<br/></body></html>\"]\n",
    ">>> for i in range(10):\n",
    ">>>     print(dict_mutator.mutate(seeds[0]))\n",
    "<html><head><title>Hello</title></head><body>World<brJ/></body></html>\n",
    "<tml><head><title>Hello</title></head><body>World<br/></body></html>\n",
    "<html><head><title>Hello</title></head>c<body>World<br/></body></html>\n",
    "<html><head><tit|e>Hello</title></head><body>World<br/></body></html>\n",
    "<html><head><tite>Hello</title></head><body>World<br/></body></html>\n",
    "<html><head><title>Hello</ti</a>tle></head><body>World<br/></body></html>\n",
    "<html><head><title>Hello</title></head><body>orld<br/></body></html>\n",
    "<html><head><title>Hello</title></Mhead><body>World<br/></body></html>\n",
    "<html><head><title>Hello</title></hea$><body>World<br/></body></html>\n",
    "<html><head><title>Hello</title></head><body>World<br/></body></h</a>tml>\n",
    "\n",
    "```\n",
    "This `DictMutator` can be used as an argument to `GreyboxFuzzer`:\n",
    "\n",
    "```python\n",
    ">>> runner = FunctionCoverageRunner(my_parser)\n",
    ">>> dict_fuzzer = GreyboxFuzzer(seeds, dict_mutator, PowerSchedule())\n",
    ">>> dict_fuzzer_outcome = dict_fuzzer.runs(runner, trials=5)\n",
    "```\n",
    "![](PICS/GreyboxGrammarFuzzer-synopsis-1.svg)\n",
    "\n",
    "### Fuzzing with Input Fragments\n",
    "\n",
    "The `LangFuzzer` class introduces a _language-aware_ fuzzer that can recombine fragments from existing inputs – inspired by the highly effective `LangFuzz` fuzzer. At its core is a `FragmentMutator` class that that takes a [_parser_](Parser.ipynb) as argument:\n",
    "\n",
    "```python\n",
    ">>> parser = EarleyParser(XML_GRAMMAR, tokens=XML_TOKENS)\n",
    ">>> mutator = FragmentMutator(parser)\n",
    "```\n",
    "The fuzzer itself is initialized with a list of seeds, the above `FragmentMutator`, and a power schedule:\n",
    "\n",
    "```python\n",
    ">>> seeds = [\"<html><head><title>Hello</title></head><body>World<br/></body></html>\"]\n",
    ">>> schedule = PowerSchedule()\n",
    ">>> lang_fuzzer = LangFuzzer(seeds, mutator, schedule)\n",
    ">>> for i in range(10):\n",
    ">>>     print(lang_fuzzer.fuzz())\n",
    "<html><head><title>Hello</title></head><body>World<br/></body></html>\n",
    "<html><head></head><body>World<br/></body></html>\n",
    "<html><head><title>Hello</title></head><body>World<head><title>Hello</title></head><body>World<br/></body></body></html>\n",
    "<html><html><head><br/></head><body>World<br/></body></html><body>World<br/></body>\n",
    "<head>World<br/></head><body>World<br/></body></html>\n",
    "<html><head><title>Hello</head><br/></html>\n",
    "<html><head><title></title></head><body>World<br/></head></html>\n",
    "<html><head><title>Hello</title></head><body>World</body></html>\n",
    "<head><title>Hello</title></head><body>World<br/></body></html>\n",
    "<html><head>Hello</title></head><body>World<br/></body></html>\n",
    "\n",
    "```\n",
    "![](PICS/GreyboxGrammarFuzzer-synopsis-2.svg)\n",
    "\n",
    "### Fuzzing with Input Regions\n",
    "\n",
    "The `GreyboxGrammarFuzzer` class uses two mutators:\n",
    "* a _tree mutator_ (a `RegionMutator` object) that can parse existing strings to identify _regions_ in that string to be swapped or deleted.\n",
    "* a _byte mutator_ to apply bit- and character-level mutations.\n",
    "\n",
    "```python\n",
    ">>> tree_mutator = RegionMutator(parser)\n",
    ">>> byte_mutator = Mutator()\n",
    "```\n",
    "The _schedule_ for the `GreyboxGrammarFuzzer` class can be a regular `PowerSchedule` object. However, a more sophisticated schedule is provided by `AFLSmartSchedule`, which assigns more [energy](GreyboxFuzzer.ipynb#Power-Schedules) to seeds that have a higher degree of validity.\n",
    "\n",
    "```python\n",
    ">>> schedule = AFLSmartSchedule(parser)\n",
    "```\n",
    "The `GreyboxGrammarFuzzer` constructor takes a set of seeds as well as the two mutators and the schedule:\n",
    "\n",
    "```python\n",
    ">>> aflsmart_fuzzer = GreyboxGrammarFuzzer(seeds, byte_mutator, tree_mutator, schedule)\n",
    "```\n",
    "As it relies on code coverage, it is typically combined with a `FunctionCoverageRunner`:\n",
    "\n",
    "```python\n",
    ">>> runner = FunctionCoverageRunner(my_parser)\n",
    ">>> aflsmart_outcome = aflsmart_fuzzer.runs(runner, trials=5)\n",
    "```\n",
    "![](PICS/GreyboxGrammarFuzzer-synopsis-3.svg)\n",
    "\n"
   ]
  },
  {
   "cell_type": "markdown",
   "metadata": {
    "slideshow": {
     "slide_type": "slide"
    }
   },
   "source": [
    "## Background\n",
    "First, we [recall](GreyboxFuzzer.ipynb#Ingredients-for-Greybox-Fuzzing) a few basic ingredients for mutational fuzzers.\n",
    "* **Seed**. A _seed_ is an input that is used by the fuzzer to generate new inputs by applying a sequence of mutations.\n",
    "* **Mutator**. A _mutator_ implements a set of mutation operators that applied to an input produce a slightly modified input.\n",
    "* **PowerSchedule**. A _power schedule_ assigns _energy_ to a seed. A seed with higher energy is fuzzed more often throughout the fuzzing campaign.\n",
    "* **AdvancedMutationFuzzer**. Our _mutational blackbox fuzzer_ generates inputs by mutating seeds in an initial population of inputs.\n",
    "* **GreyboxFuzzer**. Our _greybox fuzzer_ dynamically adds inputs to the population of seeds that increased coverage.\n",
    "* **FunctionCoverageRunner**. Our _function coverage runner_ collects coverage information for the execution of a given Python function.\n",
    "\n",
    "Let's try to get a feeling for these concepts."
   ]
  },
  {
   "cell_type": "code",
   "execution_count": 2,
   "metadata": {
    "execution": {
     "iopub.execute_input": "2022-08-01T13:01:26.827597Z",
     "iopub.status.busy": "2022-08-01T13:01:26.827427Z",
     "iopub.status.idle": "2022-08-01T13:01:26.829292Z",
     "shell.execute_reply": "2022-08-01T13:01:26.829023Z"
    },
    "slideshow": {
     "slide_type": "skip"
    }
   },
   "outputs": [],
   "source": [
    "import bookutils"
   ]
  },
  {
   "cell_type": "code",
   "execution_count": 3,
   "metadata": {
    "execution": {
     "iopub.execute_input": "2022-08-01T13:01:26.833109Z",
     "iopub.status.busy": "2022-08-01T13:01:26.832885Z",
     "iopub.status.idle": "2022-08-01T13:01:26.834795Z",
     "shell.execute_reply": "2022-08-01T13:01:26.834539Z"
    },
    "slideshow": {
     "slide_type": "skip"
    }
   },
   "outputs": [],
   "source": [
    "from typing import List, Set, Dict, Sequence, cast"
   ]
  },
  {
   "cell_type": "code",
   "execution_count": 4,
   "metadata": {
    "execution": {
     "iopub.execute_input": "2022-08-01T13:01:26.836280Z",
     "iopub.status.busy": "2022-08-01T13:01:26.836157Z",
     "iopub.status.idle": "2022-08-01T13:01:27.554997Z",
     "shell.execute_reply": "2022-08-01T13:01:27.554705Z"
    },
    "slideshow": {
     "slide_type": "skip"
    }
   },
   "outputs": [],
   "source": [
    "from Fuzzer import Fuzzer\n",
    "from GreyboxFuzzer import Mutator, Seed, PowerSchedule\n",
    "from GreyboxFuzzer import AdvancedMutationFuzzer, GreyboxFuzzer\n",
    "from MutationFuzzer import FunctionCoverageRunner"
   ]
  },
  {
   "cell_type": "markdown",
   "metadata": {
    "slideshow": {
     "slide_type": "subslide"
    }
   },
   "source": [
    "The following command applies a mutation to the input \"Hello World\"."
   ]
  },
  {
   "cell_type": "code",
   "execution_count": 5,
   "metadata": {
    "execution": {
     "iopub.execute_input": "2022-08-01T13:01:27.556782Z",
     "iopub.status.busy": "2022-08-01T13:01:27.556658Z",
     "iopub.status.idle": "2022-08-01T13:01:27.558941Z",
     "shell.execute_reply": "2022-08-01T13:01:27.558699Z"
    },
    "slideshow": {
     "slide_type": "fragment"
    }
   },
   "outputs": [
    {
     "data": {
      "text/plain": [
       "'Lello World'"
      ]
     },
     "execution_count": 5,
     "metadata": {},
     "output_type": "execute_result"
    }
   ],
   "source": [
    "Mutator().mutate(\"Hello World\")"
   ]
  },
  {
   "cell_type": "markdown",
   "metadata": {
    "slideshow": {
     "slide_type": "fragment"
    }
   },
   "source": [
    "The default power schedule assigns energy uniformly across all seeds. Let's check whether this works.\n",
    "\n",
    "We choose 10k times from a population of three seeds.  As we see in the `hits` counter, each seed is chosen about a third of the time."
   ]
  },
  {
   "cell_type": "code",
   "execution_count": 6,
   "metadata": {
    "execution": {
     "iopub.execute_input": "2022-08-01T13:01:27.560319Z",
     "iopub.status.busy": "2022-08-01T13:01:27.560220Z",
     "iopub.status.idle": "2022-08-01T13:01:27.584038Z",
     "shell.execute_reply": "2022-08-01T13:01:27.583776Z"
    },
    "slideshow": {
     "slide_type": "subslide"
    }
   },
   "outputs": [
    {
     "data": {
      "text/plain": [
       "{'A': 3387, 'B': 3255, 'C': 3358}"
      ]
     },
     "execution_count": 6,
     "metadata": {},
     "output_type": "execute_result"
    }
   ],
   "source": [
    "population = [Seed(\"A\"), Seed(\"B\"), Seed(\"C\")]\n",
    "schedule = PowerSchedule()\n",
    "hits = {\n",
    "    \"A\": 0,\n",
    "    \"B\": 0,\n",
    "    \"C\": 0\n",
    "}\n",
    "\n",
    "for i in range(10000):\n",
    "    seed = schedule.choose(population)\n",
    "    hits[seed.data] += 1\n",
    "\n",
    "hits"
   ]
  },
  {
   "cell_type": "markdown",
   "metadata": {
    "slideshow": {
     "slide_type": "subslide"
    }
   },
   "source": [
    "Before explaining the function coverage runner, lets import Python's HTML parser as example..."
   ]
  },
  {
   "cell_type": "code",
   "execution_count": 7,
   "metadata": {
    "execution": {
     "iopub.execute_input": "2022-08-01T13:01:27.585704Z",
     "iopub.status.busy": "2022-08-01T13:01:27.585567Z",
     "iopub.status.idle": "2022-08-01T13:01:27.587178Z",
     "shell.execute_reply": "2022-08-01T13:01:27.586971Z"
    },
    "slideshow": {
     "slide_type": "skip"
    }
   },
   "outputs": [],
   "source": [
    "from html.parser import HTMLParser"
   ]
  },
  {
   "cell_type": "markdown",
   "metadata": {
    "slideshow": {
     "slide_type": "fragment"
    }
   },
   "source": [
    "... and create a _wrapper function_ that passes each input into a new parser object."
   ]
  },
  {
   "cell_type": "code",
   "execution_count": 8,
   "metadata": {
    "execution": {
     "iopub.execute_input": "2022-08-01T13:01:27.588519Z",
     "iopub.status.busy": "2022-08-01T13:01:27.588439Z",
     "iopub.status.idle": "2022-08-01T13:01:27.590238Z",
     "shell.execute_reply": "2022-08-01T13:01:27.590013Z"
    },
    "slideshow": {
     "slide_type": "fragment"
    }
   },
   "outputs": [],
   "source": [
    "def my_parser(inp: str) -> None:\n",
    "    parser = HTMLParser()\n",
    "    parser.feed(inp)"
   ]
  },
  {
   "cell_type": "markdown",
   "metadata": {
    "slideshow": {
     "slide_type": "fragment"
    }
   },
   "source": [
    "The `FunctionCoverageRunner` constructor takes a Python `function` to execute. The function `run()` takes an input, passes it on to the Python `function`, and collects the coverage information for this execution. The function `coverage()` returns a list of tuples `(function name, line number)` for each statement that has been covered in the Python `function`."
   ]
  },
  {
   "cell_type": "code",
   "execution_count": 9,
   "metadata": {
    "execution": {
     "iopub.execute_input": "2022-08-01T13:01:27.593683Z",
     "iopub.status.busy": "2022-08-01T13:01:27.593514Z",
     "iopub.status.idle": "2022-08-01T13:01:27.596355Z",
     "shell.execute_reply": "2022-08-01T13:01:27.596079Z"
    },
    "slideshow": {
     "slide_type": "subslide"
    }
   },
   "outputs": [
    {
     "data": {
      "text/plain": [
       "[('updatepos', 53),\n",
       " ('updatepos', 59),\n",
       " ('__init__', 92),\n",
       " ('feed', 110),\n",
       " ('goahead', 160)]"
      ]
     },
     "execution_count": 9,
     "metadata": {},
     "output_type": "execute_result"
    }
   ],
   "source": [
    "runner = FunctionCoverageRunner(my_parser)\n",
    "runner.run(\"Hello World\")\n",
    "cov = runner.coverage()\n",
    "\n",
    "list(cov)[:5]  # Print 5 statements covered in HTMLParser"
   ]
  },
  {
   "cell_type": "markdown",
   "metadata": {
    "slideshow": {
     "slide_type": "fragment"
    }
   },
   "source": [
    "Our greybox fuzzer takes a seed population, mutator, and power schedule. Let's generate 5000 fuzz inputs starting with an \"empty\" seed corpus."
   ]
  },
  {
   "cell_type": "code",
   "execution_count": 10,
   "metadata": {
    "execution": {
     "iopub.execute_input": "2022-08-01T13:01:27.597842Z",
     "iopub.status.busy": "2022-08-01T13:01:27.597733Z",
     "iopub.status.idle": "2022-08-01T13:01:27.599689Z",
     "shell.execute_reply": "2022-08-01T13:01:27.599332Z"
    },
    "slideshow": {
     "slide_type": "skip"
    }
   },
   "outputs": [],
   "source": [
    "import time\n",
    "import random"
   ]
  },
  {
   "cell_type": "code",
   "execution_count": 11,
   "metadata": {
    "execution": {
     "iopub.execute_input": "2022-08-01T13:01:27.601463Z",
     "iopub.status.busy": "2022-08-01T13:01:27.601338Z",
     "iopub.status.idle": "2022-08-01T13:01:27.603436Z",
     "shell.execute_reply": "2022-08-01T13:01:27.603149Z"
    },
    "slideshow": {
     "slide_type": "subslide"
    }
   },
   "outputs": [],
   "source": [
    "n = 5000\n",
    "seed_input = \" \"  # empty seed\n",
    "runner = FunctionCoverageRunner(my_parser)\n",
    "fuzzer = GreyboxFuzzer([seed_input], Mutator(), PowerSchedule())"
   ]
  },
  {
   "cell_type": "code",
   "execution_count": 12,
   "metadata": {
    "execution": {
     "iopub.execute_input": "2022-08-01T13:01:27.604940Z",
     "iopub.status.busy": "2022-08-01T13:01:27.604832Z",
     "iopub.status.idle": "2022-08-01T13:01:28.045123Z",
     "shell.execute_reply": "2022-08-01T13:01:28.044844Z"
    },
    "slideshow": {
     "slide_type": "fragment"
    }
   },
   "outputs": [],
   "source": [
    "start = time.time()\n",
    "fuzzer.runs(runner, trials=n)\n",
    "end = time.time()"
   ]
  },
  {
   "cell_type": "code",
   "execution_count": 13,
   "metadata": {
    "execution": {
     "iopub.execute_input": "2022-08-01T13:01:28.046994Z",
     "iopub.status.busy": "2022-08-01T13:01:28.046897Z",
     "iopub.status.idle": "2022-08-01T13:01:28.049376Z",
     "shell.execute_reply": "2022-08-01T13:01:28.049022Z"
    },
    "slideshow": {
     "slide_type": "fragment"
    }
   },
   "outputs": [
    {
     "data": {
      "text/plain": [
       "'It took the fuzzer 0.44 seconds to generate and execute 5000 inputs.'"
      ]
     },
     "execution_count": 13,
     "metadata": {},
     "output_type": "execute_result"
    }
   ],
   "source": [
    "\"It took the fuzzer %0.2f seconds to generate and execute %d inputs.\" % (end - start, n)"
   ]
  },
  {
   "cell_type": "code",
   "execution_count": 14,
   "metadata": {
    "execution": {
     "iopub.execute_input": "2022-08-01T13:01:28.051272Z",
     "iopub.status.busy": "2022-08-01T13:01:28.051130Z",
     "iopub.status.idle": "2022-08-01T13:01:28.053389Z",
     "shell.execute_reply": "2022-08-01T13:01:28.053127Z"
    },
    "slideshow": {
     "slide_type": "fragment"
    }
   },
   "outputs": [
    {
     "data": {
      "text/plain": [
       "'During this fuzzing campaign, we covered 40 statements.'"
      ]
     },
     "execution_count": 14,
     "metadata": {},
     "output_type": "execute_result"
    }
   ],
   "source": [
    "\"During this fuzzing campaign, we covered %d statements.\" % len(runner.coverage())"
   ]
  },
  {
   "cell_type": "markdown",
   "metadata": {
    "slideshow": {
     "slide_type": "slide"
    }
   },
   "source": [
    "## Fuzzing with Dictionaries\n",
    "\n",
    "To fuzz our HTML parser, it may be useful to inform a mutational fuzzer about important keywords in the input – that is, important HTML keywords. The general idea is to have a _dictionary_ of pre-defined useful inputs that could then be inserted as such when mutating an input.\n",
    "\n",
    "This concept is illustrated in the following diagram. When mutating an input, we may insert given keywords from the dictionary (in red).\n",
    "\n",
    "![](PICS/GreyboxGrammarFuzzer-Dict.gif)"
   ]
  },
  {
   "cell_type": "markdown",
   "metadata": {
    "slideshow": {
     "slide_type": "fragment"
    }
   },
   "source": [
    "To implement this concept, we extend our mutator to consider keywords from a dictionary."
   ]
  },
  {
   "cell_type": "code",
   "execution_count": 15,
   "metadata": {
    "execution": {
     "iopub.execute_input": "2022-08-01T13:01:28.055211Z",
     "iopub.status.busy": "2022-08-01T13:01:28.055050Z",
     "iopub.status.idle": "2022-08-01T13:01:28.057762Z",
     "shell.execute_reply": "2022-08-01T13:01:28.057485Z"
    },
    "slideshow": {
     "slide_type": "subslide"
    }
   },
   "outputs": [],
   "source": [
    "class DictMutator(Mutator):\n",
    "    \"\"\"Mutate strings using keywords from a dictionary\"\"\"\n",
    "\n",
    "    def __init__(self, dictionary: List[str]) -> None:\n",
    "        \"\"\"Constructor. `dictionary` is the list of keywords to use.\"\"\"\n",
    "        super().__init__()\n",
    "        self.dictionary = dictionary\n",
    "        self.mutators.append(self.insert_from_dictionary)\n",
    "\n",
    "    def insert_from_dictionary(self, s: str) -> str:\n",
    "        \"\"\"Returns s with a keyword from the dictionary inserted\"\"\"\n",
    "        pos = random.randint(0, len(s))\n",
    "        random_keyword = random.choice(self.dictionary)\n",
    "        return s[:pos] + random_keyword + s[pos:]"
   ]
  },
  {
   "cell_type": "markdown",
   "metadata": {
    "slideshow": {
     "slide_type": "subslide"
    }
   },
   "source": [
    "Let's try to add a few HTML tags and attributes and see whether the coverage with `DictMutator` increases."
   ]
  },
  {
   "cell_type": "code",
   "execution_count": 16,
   "metadata": {
    "execution": {
     "iopub.execute_input": "2022-08-01T13:01:28.059316Z",
     "iopub.status.busy": "2022-08-01T13:01:28.059205Z",
     "iopub.status.idle": "2022-08-01T13:01:30.945163Z",
     "shell.execute_reply": "2022-08-01T13:01:30.943931Z"
    },
    "slideshow": {
     "slide_type": "fragment"
    }
   },
   "outputs": [
    {
     "data": {
      "text/plain": [
       "'It took the fuzzer 2.88 seconds to generate and execute 5000 inputs.'"
      ]
     },
     "execution_count": 16,
     "metadata": {},
     "output_type": "execute_result"
    }
   ],
   "source": [
    "runner = FunctionCoverageRunner(my_parser)\n",
    "dict_mutator = DictMutator([\"<a>\", \"</a>\", \"<a/>\", \"='a'\"])\n",
    "dict_fuzzer = GreyboxFuzzer([seed_input], dict_mutator, PowerSchedule())\n",
    "\n",
    "start = time.time()\n",
    "dict_fuzzer.runs(runner, trials=n)\n",
    "end = time.time()\n",
    "\n",
    "\"It took the fuzzer %0.2f seconds to generate and execute %d inputs.\" % (end - start, n)"
   ]
  },
  {
   "cell_type": "markdown",
   "metadata": {
    "slideshow": {
     "slide_type": "fragment"
    }
   },
   "source": [
    "Clearly, it takes longer. In our experience, this means more code is covered:"
   ]
  },
  {
   "cell_type": "code",
   "execution_count": 17,
   "metadata": {
    "execution": {
     "iopub.execute_input": "2022-08-01T13:01:30.975864Z",
     "iopub.status.busy": "2022-08-01T13:01:30.975590Z",
     "iopub.status.idle": "2022-08-01T13:01:30.991394Z",
     "shell.execute_reply": "2022-08-01T13:01:30.984930Z"
    },
    "slideshow": {
     "slide_type": "subslide"
    }
   },
   "outputs": [
    {
     "data": {
      "text/plain": [
       "'During this fuzzing campaign, we covered 88 statements.'"
      ]
     },
     "execution_count": 17,
     "metadata": {},
     "output_type": "execute_result"
    }
   ],
   "source": [
    "\"During this fuzzing campaign, we covered %d statements.\" % len(runner.coverage())"
   ]
  },
  {
   "cell_type": "markdown",
   "metadata": {
    "slideshow": {
     "slide_type": "fragment"
    }
   },
   "source": [
    "How do the fuzzers compare in terms of coverage over time?"
   ]
  },
  {
   "cell_type": "code",
   "execution_count": 18,
   "metadata": {
    "execution": {
     "iopub.execute_input": "2022-08-01T13:01:30.999619Z",
     "iopub.status.busy": "2022-08-01T13:01:30.999225Z",
     "iopub.status.idle": "2022-08-01T13:01:31.005630Z",
     "shell.execute_reply": "2022-08-01T13:01:31.005044Z"
    },
    "slideshow": {
     "slide_type": "skip"
    }
   },
   "outputs": [],
   "source": [
    "from Coverage import population_coverage"
   ]
  },
  {
   "cell_type": "code",
   "execution_count": 19,
   "metadata": {
    "execution": {
     "iopub.execute_input": "2022-08-01T13:01:31.011972Z",
     "iopub.status.busy": "2022-08-01T13:01:31.011607Z",
     "iopub.status.idle": "2022-08-01T13:01:31.016694Z",
     "shell.execute_reply": "2022-08-01T13:01:31.015513Z"
    },
    "slideshow": {
     "slide_type": "skip"
    }
   },
   "outputs": [],
   "source": [
    "import matplotlib.pyplot as plt  # type: ignore"
   ]
  },
  {
   "cell_type": "code",
   "execution_count": 20,
   "metadata": {
    "execution": {
     "iopub.execute_input": "2022-08-01T13:01:31.018651Z",
     "iopub.status.busy": "2022-08-01T13:01:31.018522Z",
     "iopub.status.idle": "2022-08-01T13:01:33.136019Z",
     "shell.execute_reply": "2022-08-01T13:01:33.135713Z"
    },
    "slideshow": {
     "slide_type": "fragment"
    }
   },
   "outputs": [
    {
     "data": {
      "image/png": "[encoded data removed]",
      "text/plain": [
       "<Figure size 432x288 with 1 Axes>"
      ]
     },
     "metadata": {
      "needs_background": "light"
     },
     "output_type": "display_data"
    }
   ],
   "source": [
    "_, dict_cov = population_coverage(dict_fuzzer.inputs, my_parser)\n",
    "_, fuzz_cov = population_coverage(fuzzer.inputs, my_parser)\n",
    "line_dict, = plt.plot(dict_cov, label=\"With Dictionary\")\n",
    "line_fuzz, = plt.plot(fuzz_cov, label=\"Without Dictionary\")\n",
    "plt.legend(handles=[line_dict, line_fuzz])\n",
    "plt.xlim(0, n)\n",
    "plt.title('Coverage over time')\n",
    "plt.xlabel('# of inputs')\n",
    "plt.ylabel('lines covered');"
   ]
  },
  {
   "cell_type": "markdown",
   "metadata": {
    "slideshow": {
     "slide_type": "subslide"
    }
   },
   "source": [
    "<!-- \\todo{Andreas: Section on mining keywords using parser-directed fuzzing or AUTOGRAM?} -->\n",
    "\n",
    "***Summary.*** Informing the fuzzer about important keywords already goes a long way towards achieving lots of coverage quickly.\n",
    "\n",
    "***Try it.*** Open this chapter as Jupyter notebook and add other HTML-related keywords to the dictionary in order to see whether the difference in coverage actually increases (given the same budget of 5k generated test inputs).\n",
    "\n",
    "***Read up.*** Michał Zalewski, author of AFL, wrote several great blog posts on [making up grammars with a dictionary in hand](https://lcamtuf.blogspot.com/2015/01/afl-fuzz-making-up-grammar-with.html) and [pulling JPEGs out of thin air](https://lcamtuf.blogspot.com/2014/11/pulling-jpegs-out-of-thin-air.html)!"
   ]
  },
  {
   "cell_type": "markdown",
   "metadata": {
    "slideshow": {
     "slide_type": "slide"
    },
    "tags": [],
    "toc-hr-collapsed": false
   },
   "source": [
    "## Fuzzing with Input Fragments\n",
    "\n",
    "While dictionaries are helpful to inject important keywords into seed inputs, they do not allow to maintain the structural integrity of the generated inputs. Instead, we need to make the fuzzer aware of the _input structure_. We can do this using [grammars](Grammars.ipynb). Our first approach \n",
    "\n",
    "1. [parses](Parser.ipynb) the seed inputs, \n",
    "2. disassembles them into input fragments, and \n",
    "3. generates new files by reassembling these fragments according to the rules of the grammar."
   ]
  },
  {
   "cell_type": "markdown",
   "metadata": {
    "slideshow": {
     "slide_type": "subslide"
    }
   },
   "source": [
    "This combination of _parsing_ and _fuzzing_ can be very powerful. For instance, we can _swap_ existing substructures in an input:\n",
    "\n",
    "![](PICS/GreyboxGrammarFuzzer-Swap.gif)"
   ]
  },
  {
   "cell_type": "markdown",
   "metadata": {
    "slideshow": {
     "slide_type": "fragment"
    }
   },
   "source": [
    "We can also _replace_ existing substructures by newly generated ones:\n",
    "\n",
    "![](PICS/GreyboxGrammarFuzzer-Gen.gif)"
   ]
  },
  {
   "cell_type": "markdown",
   "metadata": {
    "slideshow": {
     "slide_type": "fragment"
    }
   },
   "source": [
    "All these operations take place on [derivation trees](GrammarFuzzer.ipynb), which can be parsed from and produced into strings at any time."
   ]
  },
  {
   "cell_type": "markdown",
   "metadata": {
    "slideshow": {
     "slide_type": "subslide"
    }
   },
   "source": [
    "### Parsing and Recombining JavaScript, or How to Make 50,000 USD in Four Weeks\n",
    "\n",
    "In \"Fuzzing with Code Fragments\" \\cite{Holler2012}, Holler, Herzig, and Zeller apply these steps to fuzz a JavaScript interpreter.  They use a JavaScript grammar to\n",
    "\n",
    "1. _parse_ (valid) JavaScript inputs into parse trees,\n",
    "2. _disassemble_ them into fragments (subtrees),\n",
    "3. _recombine_ these fragments into valid JavaScript programs again, and\n",
    "4. _feed_ these programs into a JavaScript interpreter for execution."
   ]
  },
  {
   "cell_type": "markdown",
   "metadata": {
    "slideshow": {
     "slide_type": "subslide"
    }
   },
   "source": [
    "As in most fuzzing scenarios, the aim is to cause the JavaScript interpreter to crash.  Here is an example of LangFuzz-generated JavaScript code (from \\cite{Holler2012}) that caused a crash in the Mozilla JavaScript interpreter:\n",
    "\n",
    "```javascript\n",
    "var haystack = \"foo\";\n",
    "var re_text = \"^foo\";\n",
    "haystack += \"x\";\n",
    "re_text += \"(x)\";\n",
    "var re = new RegExp(re_text);\n",
    "re.test(haystack);\n",
    "RegExp.input = Number();\n",
    "print(RegExp.$1);\n",
    "```"
   ]
  },
  {
   "cell_type": "markdown",
   "metadata": {
    "slideshow": {
     "slide_type": "subslide"
    }
   },
   "source": [
    "From a crash of the JavaScript interpreter, it is frequently possible to construct an *exploit* that will not only crash the interpreter, but instead have it execute code under the attacker's control.  Therefore, such crashes are serious flaws, which is why you get a bug bounty if you report them."
   ]
  },
  {
   "cell_type": "markdown",
   "metadata": {
    "slideshow": {
     "slide_type": "subslide"
    }
   },
   "source": [
    "In the first four weeks of running his _LangFuzz_ tool, Christian Holler, first author of that paper, netted _more than USD 50,000 in bug bounties_.  To date, LangFuzz has found more than 2,600 bugs in the JavaScript browsers of Mozilla Firefox, Google Chrome, and Microsoft Edge.  If you use any of these browsers (say, on your Android phone), the combination of parsing and fuzzing has contributed significantly in making your browsing session secure.\n",
    "\n",
    "(Note that these are the same Holler and Zeller who are co-authors of this book.  If you ever wondered why we devote a couple of chapters on grammar-based fuzzing, that's because we have had some great experience with it.)"
   ]
  },
  {
   "cell_type": "markdown",
   "metadata": {
    "slideshow": {
     "slide_type": "subslide"
    }
   },
   "source": [
    "### Parsing and Recombining HTML\n",
    "\n",
    "In this book, let us stay with HTML input for a while.  To generate valid HTML inputs for our Python `HTMLParser`, we should first define a simple grammar. It allows to define HTML tags with attributes. Our context-free grammar does not require that opening and closing tags must match. However, we will see that such context-sensitive features can be maintained in the derived input fragments, and thus in the generated inputs."
   ]
  },
  {
   "cell_type": "code",
   "execution_count": 21,
   "metadata": {
    "execution": {
     "iopub.execute_input": "2022-08-01T13:01:33.138052Z",
     "iopub.status.busy": "2022-08-01T13:01:33.137938Z",
     "iopub.status.idle": "2022-08-01T13:01:33.139849Z",
     "shell.execute_reply": "2022-08-01T13:01:33.139503Z"
    },
    "slideshow": {
     "slide_type": "skip"
    }
   },
   "outputs": [],
   "source": [
    "import string"
   ]
  },
  {
   "cell_type": "code",
   "execution_count": 22,
   "metadata": {
    "execution": {
     "iopub.execute_input": "2022-08-01T13:01:33.141390Z",
     "iopub.status.busy": "2022-08-01T13:01:33.141280Z",
     "iopub.status.idle": "2022-08-01T13:01:33.253957Z",
     "shell.execute_reply": "2022-08-01T13:01:33.253598Z"
    },
    "slideshow": {
     "slide_type": "skip"
    }
   },
   "outputs": [],
   "source": [
    "from Grammars import is_valid_grammar, srange, Grammar"
   ]
  },
  {
   "cell_type": "code",
   "execution_count": 23,
   "metadata": {
    "execution": {
     "iopub.execute_input": "2022-08-01T13:01:33.256022Z",
     "iopub.status.busy": "2022-08-01T13:01:33.255860Z",
     "iopub.status.idle": "2022-08-01T13:01:33.258047Z",
     "shell.execute_reply": "2022-08-01T13:01:33.257770Z"
    },
    "slideshow": {
     "slide_type": "fragment"
    }
   },
   "outputs": [],
   "source": [
    "XML_TOKENS: Set[str] = {\"<id>\", \"<text>\"}"
   ]
  },
  {
   "cell_type": "code",
   "execution_count": 24,
   "metadata": {
    "execution": {
     "iopub.execute_input": "2022-08-01T13:01:33.259505Z",
     "iopub.status.busy": "2022-08-01T13:01:33.259400Z",
     "iopub.status.idle": "2022-08-01T13:01:33.261960Z",
     "shell.execute_reply": "2022-08-01T13:01:33.261716Z"
    },
    "slideshow": {
     "slide_type": "subslide"
    }
   },
   "outputs": [],
   "source": [
    "XML_GRAMMAR: Grammar = {\n",
    "    \"<start>\": [\"<xml-tree>\"],\n",
    "    \"<xml-tree>\": [\"<text>\",\n",
    "                   \"<xml-open-tag><xml-tree><xml-close-tag>\",\n",
    "                   \"<xml-openclose-tag>\",\n",
    "                   \"<xml-tree><xml-tree>\"],\n",
    "    \"<xml-open-tag>\":      [\"<<id>>\", \"<<id> <xml-attribute>>\"],\n",
    "    \"<xml-openclose-tag>\": [\"<<id>/>\", \"<<id> <xml-attribute>/>\"],\n",
    "    \"<xml-close-tag>\":     [\"</<id>>\"],\n",
    "    \"<xml-attribute>\":     [\"<id>=<id>\", \"<xml-attribute> <xml-attribute>\"],\n",
    "    \"<id>\":                [\"<letter>\", \"<id><letter>\"],\n",
    "    \"<text>\":              [\"<text><letter_space>\", \"<letter_space>\"],\n",
    "    \"<letter>\":            srange(string.ascii_letters + string.digits +\n",
    "                                  \"\\\"\" + \"'\" + \".\"),\n",
    "    \"<letter_space>\":      srange(string.ascii_letters + string.digits +\n",
    "                                  \"\\\"\" + \"'\" + \" \" + \"\\t\"),\n",
    "}"
   ]
  },
  {
   "cell_type": "code",
   "execution_count": 25,
   "metadata": {
    "execution": {
     "iopub.execute_input": "2022-08-01T13:01:33.263358Z",
     "iopub.status.busy": "2022-08-01T13:01:33.263256Z",
     "iopub.status.idle": "2022-08-01T13:01:33.265213Z",
     "shell.execute_reply": "2022-08-01T13:01:33.264846Z"
    },
    "slideshow": {
     "slide_type": "subslide"
    }
   },
   "outputs": [],
   "source": [
    "assert is_valid_grammar(XML_GRAMMAR)"
   ]
  },
  {
   "cell_type": "markdown",
   "metadata": {
    "slideshow": {
     "slide_type": "fragment"
    }
   },
   "source": [
    "In order to parse an input into a derivation tree, we use the [Earley parser](Parser.ipynb#Parsing-Context-Free-Grammars)."
   ]
  },
  {
   "cell_type": "code",
   "execution_count": 26,
   "metadata": {
    "execution": {
     "iopub.execute_input": "2022-08-01T13:01:33.267044Z",
     "iopub.status.busy": "2022-08-01T13:01:33.266897Z",
     "iopub.status.idle": "2022-08-01T13:01:33.357171Z",
     "shell.execute_reply": "2022-08-01T13:01:33.356423Z"
    },
    "slideshow": {
     "slide_type": "skip"
    }
   },
   "outputs": [],
   "source": [
    "from Parser import EarleyParser, Parser\n",
    "from GrammarFuzzer import display_tree, DerivationTree"
   ]
  },
  {
   "cell_type": "markdown",
   "metadata": {
    "slideshow": {
     "slide_type": "fragment"
    }
   },
   "source": [
    "Let's run the parser on a simple HTML input and display all possible parse trees. A *parse tree* represents the input structure according to the given grammar."
   ]
  },
  {
   "cell_type": "code",
   "execution_count": 27,
   "metadata": {
    "execution": {
     "iopub.execute_input": "2022-08-01T13:01:33.359594Z",
     "iopub.status.busy": "2022-08-01T13:01:33.359461Z",
     "iopub.status.idle": "2022-08-01T13:01:33.361398Z",
     "shell.execute_reply": "2022-08-01T13:01:33.361079Z"
    },
    "slideshow": {
     "slide_type": "skip"
    }
   },
   "outputs": [],
   "source": [
    "from IPython.display import display"
   ]
  },
  {
   "cell_type": "code",
   "execution_count": 28,
   "metadata": {
    "execution": {
     "iopub.execute_input": "2022-08-01T13:01:33.363267Z",
     "iopub.status.busy": "2022-08-01T13:01:33.363100Z",
     "iopub.status.idle": "2022-08-01T13:01:38.055165Z",
     "shell.execute_reply": "2022-08-01T13:01:38.054671Z"
    },
    "slideshow": {
     "slide_type": "subslide"
    }
   },
   "outputs": [
    {
     "data": {
      "image/svg+xml": [
       "<?xml version=\"1.0\" encoding=\"UTF-8\" standalone=\"no\"?>\n",
       "<!DOCTYPE svg PUBLIC \"-//W3C//DTD SVG 1.1//EN\"\n",
       " \"http://www.w3.org/Graphics/SVG/1.1/DTD/svg11.dtd\">\n",
       "<!-- Generated by graphviz version 3.0.0 (20220226.1711)\n",
       " -->\n",
       "<!-- Pages: 1 -->\n",
       "<svg width=\"292pt\" height=\"227pt\"\n",
       " viewBox=\"0.00 0.00 291.50 227.00\" xmlns=\"http://www.w3.org/2000/svg\" xmlns:xlink=\"http://www.w3.org/1999/xlink\">\n",
       "<g id=\"graph0\" class=\"graph\" transform=\"scale(1 1) rotate(0) translate(4 223)\">\n",
       "<polygon fill=\"white\" stroke=\"transparent\" points=\"-4,4 -4,-223 287.5,-223 287.5,4 -4,4\"/>\n",
       "<!-- 0 -->\n",
       "<g id=\"node1\" class=\"node\">\n",
       "<title>0</title>\n",
       "<text text-anchor=\"middle\" x=\"141.5\" y=\"-207.8\" font-family=\"Times,serif\" font-size=\"14.00\">&lt;start&gt;</text>\n",
       "</g>\n",
       "<!-- 1 -->\n",
       "<g id=\"node2\" class=\"node\">\n",
       "<title>1</title>\n",
       "<text text-anchor=\"middle\" x=\"141.5\" y=\"-156.8\" font-family=\"Times,serif\" font-size=\"14.00\">&lt;xml&#45;tree&gt;</text>\n",
       "</g>\n",
       "<!-- 0&#45;&gt;1 -->\n",
       "<g id=\"edge1\" class=\"edge\">\n",
       "<title>0&#45;&gt;1</title>\n",
       "<path fill=\"none\" stroke=\"black\" d=\"M141.5,-203.69C141.5,-197.18 141.5,-187.1 141.5,-178.43\"/>\n",
       "<polygon fill=\"black\" stroke=\"black\" points=\"145,-178.26 141.5,-168.26 138,-178.26 145,-178.26\"/>\n",
       "</g>\n",
       "<!-- 2 -->\n",
       "<g id=\"node3\" class=\"node\">\n",
       "<title>2</title>\n",
       "<text text-anchor=\"middle\" x=\"45.5\" y=\"-105.8\" font-family=\"Times,serif\" font-size=\"14.00\">&lt;xml&#45;open&#45;tag&gt;</text>\n",
       "</g>\n",
       "<!-- 1&#45;&gt;2 -->\n",
       "<g id=\"edge2\" class=\"edge\">\n",
       "<title>1&#45;&gt;2</title>\n",
       "<path fill=\"none\" stroke=\"black\" d=\"M128.55,-152.89C112.86,-144.88 86.19,-131.27 67.31,-121.63\"/>\n",
       "<polygon fill=\"black\" stroke=\"black\" points=\"68.74,-118.43 58.24,-117 65.56,-124.67 68.74,-118.43\"/>\n",
       "</g>\n",
       "<!-- 7 -->\n",
       "<g id=\"node8\" class=\"node\">\n",
       "<title>7</title>\n",
       "<text text-anchor=\"middle\" x=\"141.5\" y=\"-105.8\" font-family=\"Times,serif\" font-size=\"14.00\">&lt;xml&#45;tree&gt;</text>\n",
       "</g>\n",
       "<!-- 1&#45;&gt;7 -->\n",
       "<g id=\"edge7\" class=\"edge\">\n",
       "<title>1&#45;&gt;7</title>\n",
       "<path fill=\"none\" stroke=\"black\" d=\"M141.5,-152.69C141.5,-146.18 141.5,-136.1 141.5,-127.43\"/>\n",
       "<polygon fill=\"black\" stroke=\"black\" points=\"145,-127.26 141.5,-117.26 138,-127.26 145,-127.26\"/>\n",
       "</g>\n",
       "<!-- 10 -->\n",
       "<g id=\"node11\" class=\"node\">\n",
       "<title>10</title>\n",
       "<text text-anchor=\"middle\" x=\"237.5\" y=\"-105.8\" font-family=\"Times,serif\" font-size=\"14.00\">&lt;xml&#45;close&#45;tag&gt;</text>\n",
       "</g>\n",
       "<!-- 1&#45;&gt;10 -->\n",
       "<g id=\"edge10\" class=\"edge\">\n",
       "<title>1&#45;&gt;10</title>\n",
       "<path fill=\"none\" stroke=\"black\" d=\"M154.45,-152.89C170.14,-144.88 196.81,-131.27 215.69,-121.63\"/>\n",
       "<polygon fill=\"black\" stroke=\"black\" points=\"217.44,-124.67 224.76,-117 214.26,-118.43 217.44,-124.67\"/>\n",
       "</g>\n",
       "<!-- 3 -->\n",
       "<g id=\"node4\" class=\"node\">\n",
       "<title>3</title>\n",
       "<text text-anchor=\"middle\" x=\"8.5\" y=\"-54.8\" font-family=\"Times,serif\" font-size=\"14.00\">&lt;</text>\n",
       "</g>\n",
       "<!-- 2&#45;&gt;3 -->\n",
       "<g id=\"edge3\" class=\"edge\">\n",
       "<title>2&#45;&gt;3</title>\n",
       "<path fill=\"none\" stroke=\"black\" d=\"M40.36,-101.69C34.93,-94.51 26.24,-82.99 19.3,-73.8\"/>\n",
       "<polygon fill=\"black\" stroke=\"black\" points=\"21.95,-71.51 13.13,-65.64 16.37,-75.73 21.95,-71.51\"/>\n",
       "</g>\n",
       "<!-- 4 -->\n",
       "<g id=\"node5\" class=\"node\">\n",
       "<title>4</title>\n",
       "<text text-anchor=\"middle\" x=\"45.5\" y=\"-54.8\" font-family=\"Times,serif\" font-size=\"14.00\">&lt;id&gt;</text>\n",
       "</g>\n",
       "<!-- 2&#45;&gt;4 -->\n",
       "<g id=\"edge4\" class=\"edge\">\n",
       "<title>2&#45;&gt;4</title>\n",
       "<path fill=\"none\" stroke=\"black\" d=\"M45.5,-101.69C45.5,-95.18 45.5,-85.1 45.5,-76.43\"/>\n",
       "<polygon fill=\"black\" stroke=\"black\" points=\"49,-76.26 45.5,-66.26 42,-76.26 49,-76.26\"/>\n",
       "</g>\n",
       "<!-- 6 -->\n",
       "<g id=\"node7\" class=\"node\">\n",
       "<title>6</title>\n",
       "<text text-anchor=\"middle\" x=\"82.5\" y=\"-54.8\" font-family=\"Times,serif\" font-size=\"14.00\">&gt;</text>\n",
       "</g>\n",
       "<!-- 2&#45;&gt;6 -->\n",
       "<g id=\"edge6\" class=\"edge\">\n",
       "<title>2&#45;&gt;6</title>\n",
       "<path fill=\"none\" stroke=\"black\" d=\"M50.64,-101.69C56.07,-94.51 64.76,-82.99 71.7,-73.8\"/>\n",
       "<polygon fill=\"black\" stroke=\"black\" points=\"74.63,-75.73 77.87,-65.64 69.05,-71.51 74.63,-75.73\"/>\n",
       "</g>\n",
       "<!-- 5 -->\n",
       "<g id=\"node6\" class=\"node\">\n",
       "<title>5</title>\n",
       "<text text-anchor=\"middle\" x=\"45.5\" y=\"-3.8\" font-family=\"Times,serif\" font-size=\"14.00\">html</text>\n",
       "</g>\n",
       "<!-- 4&#45;&gt;5 -->\n",
       "<g id=\"edge5\" class=\"edge\">\n",
       "<title>4&#45;&gt;5</title>\n",
       "<path fill=\"none\" stroke=\"black\" d=\"M45.5,-50.69C45.5,-44.18 45.5,-34.1 45.5,-25.43\"/>\n",
       "<polygon fill=\"black\" stroke=\"black\" points=\"49,-25.26 45.5,-15.26 42,-25.26 49,-25.26\"/>\n",
       "</g>\n",
       "<!-- 8 -->\n",
       "<g id=\"node9\" class=\"node\">\n",
       "<title>8</title>\n",
       "<text text-anchor=\"middle\" x=\"141.5\" y=\"-54.8\" font-family=\"Times,serif\" font-size=\"14.00\">&lt;text&gt;</text>\n",
       "</g>\n",
       "<!-- 7&#45;&gt;8 -->\n",
       "<g id=\"edge8\" class=\"edge\">\n",
       "<title>7&#45;&gt;8</title>\n",
       "<path fill=\"none\" stroke=\"black\" d=\"M141.5,-101.69C141.5,-95.18 141.5,-85.1 141.5,-76.43\"/>\n",
       "<polygon fill=\"black\" stroke=\"black\" points=\"145,-76.26 141.5,-66.26 138,-76.26 145,-76.26\"/>\n",
       "</g>\n",
       "<!-- 9 -->\n",
       "<g id=\"node10\" class=\"node\">\n",
       "<title>9</title>\n",
       "<text text-anchor=\"middle\" x=\"141.5\" y=\"-3.8\" font-family=\"Times,serif\" font-size=\"14.00\">Text</text>\n",
       "</g>\n",
       "<!-- 8&#45;&gt;9 -->\n",
       "<g id=\"edge9\" class=\"edge\">\n",
       "<title>8&#45;&gt;9</title>\n",
       "<path fill=\"none\" stroke=\"black\" d=\"M141.5,-50.69C141.5,-44.18 141.5,-34.1 141.5,-25.43\"/>\n",
       "<polygon fill=\"black\" stroke=\"black\" points=\"145,-25.26 141.5,-15.26 138,-25.26 145,-25.26\"/>\n",
       "</g>\n",
       "<!-- 11 -->\n",
       "<g id=\"node12\" class=\"node\">\n",
       "<title>11</title>\n",
       "<text text-anchor=\"middle\" x=\"198.5\" y=\"-54.8\" font-family=\"Times,serif\" font-size=\"14.00\">&lt;/</text>\n",
       "</g>\n",
       "<!-- 10&#45;&gt;11 -->\n",
       "<g id=\"edge11\" class=\"edge\">\n",
       "<title>10&#45;&gt;11</title>\n",
       "<path fill=\"none\" stroke=\"black\" d=\"M232.08,-101.69C226.43,-94.59 217.41,-83.26 210.14,-74.13\"/>\n",
       "<polygon fill=\"black\" stroke=\"black\" points=\"212.84,-71.9 203.88,-66.26 207.37,-76.26 212.84,-71.9\"/>\n",
       "</g>\n",
       "<!-- 12 -->\n",
       "<g id=\"node13\" class=\"node\">\n",
       "<title>12</title>\n",
       "<text text-anchor=\"middle\" x=\"237.5\" y=\"-54.8\" font-family=\"Times,serif\" font-size=\"14.00\">&lt;id&gt;</text>\n",
       "</g>\n",
       "<!-- 10&#45;&gt;12 -->\n",
       "<g id=\"edge12\" class=\"edge\">\n",
       "<title>10&#45;&gt;12</title>\n",
       "<path fill=\"none\" stroke=\"black\" d=\"M237.5,-101.69C237.5,-95.18 237.5,-85.1 237.5,-76.43\"/>\n",
       "<polygon fill=\"black\" stroke=\"black\" points=\"241,-76.26 237.5,-66.26 234,-76.26 241,-76.26\"/>\n",
       "</g>\n",
       "<!-- 14 -->\n",
       "<g id=\"node15\" class=\"node\">\n",
       "<title>14</title>\n",
       "<text text-anchor=\"middle\" x=\"274.5\" y=\"-54.8\" font-family=\"Times,serif\" font-size=\"14.00\">&gt;</text>\n",
       "</g>\n",
       "<!-- 10&#45;&gt;14 -->\n",
       "<g id=\"edge14\" class=\"edge\">\n",
       "<title>10&#45;&gt;14</title>\n",
       "<path fill=\"none\" stroke=\"black\" d=\"M242.64,-101.69C248.07,-94.51 256.76,-82.99 263.7,-73.8\"/>\n",
       "<polygon fill=\"black\" stroke=\"black\" points=\"266.63,-75.73 269.87,-65.64 261.05,-71.51 266.63,-75.73\"/>\n",
       "</g>\n",
       "<!-- 13 -->\n",
       "<g id=\"node14\" class=\"node\">\n",
       "<title>13</title>\n",
       "<text text-anchor=\"middle\" x=\"237.5\" y=\"-3.8\" font-family=\"Times,serif\" font-size=\"14.00\">html</text>\n",
       "</g>\n",
       "<!-- 12&#45;&gt;13 -->\n",
       "<g id=\"edge13\" class=\"edge\">\n",
       "<title>12&#45;&gt;13</title>\n",
       "<path fill=\"none\" stroke=\"black\" d=\"M237.5,-50.69C237.5,-44.18 237.5,-34.1 237.5,-25.43\"/>\n",
       "<polygon fill=\"black\" stroke=\"black\" points=\"241,-25.26 237.5,-15.26 234,-25.26 241,-25.26\"/>\n",
       "</g>\n",
       "</g>\n",
       "</svg>\n"
      ],
      "text/plain": [
       "<graphviz.graphs.Digraph at 0x1545c8220>"
      ]
     },
     "metadata": {},
     "output_type": "display_data"
    },
    {
     "data": {
      "image/svg+xml": [
       "<?xml version=\"1.0\" encoding=\"UTF-8\" standalone=\"no\"?>\n",
       "<!DOCTYPE svg PUBLIC \"-//W3C//DTD SVG 1.1//EN\"\n",
       " \"http://www.w3.org/Graphics/SVG/1.1/DTD/svg11.dtd\">\n",
       "<!-- Generated by graphviz version 3.0.0 (20220226.1711)\n",
       " -->\n",
       "<!-- Pages: 1 -->\n",
       "<svg width=\"361pt\" height=\"278pt\"\n",
       " viewBox=\"0.00 0.00 361.00 278.00\" xmlns=\"http://www.w3.org/2000/svg\" xmlns:xlink=\"http://www.w3.org/1999/xlink\">\n",
       "<g id=\"graph0\" class=\"graph\" transform=\"scale(1 1) rotate(0) translate(4 274)\">\n",
       "<polygon fill=\"white\" stroke=\"transparent\" points=\"-4,4 -4,-274 357,-274 357,4 -4,4\"/>\n",
       "<!-- 0 -->\n",
       "<g id=\"node1\" class=\"node\">\n",
       "<title>0</title>\n",
       "<text text-anchor=\"middle\" x=\"166.5\" y=\"-258.8\" font-family=\"Times,serif\" font-size=\"14.00\">&lt;start&gt;</text>\n",
       "</g>\n",
       "<!-- 1 -->\n",
       "<g id=\"node2\" class=\"node\">\n",
       "<title>1</title>\n",
       "<text text-anchor=\"middle\" x=\"166.5\" y=\"-207.8\" font-family=\"Times,serif\" font-size=\"14.00\">&lt;xml&#45;tree&gt;</text>\n",
       "</g>\n",
       "<!-- 0&#45;&gt;1 -->\n",
       "<g id=\"edge1\" class=\"edge\">\n",
       "<title>0&#45;&gt;1</title>\n",
       "<path fill=\"none\" stroke=\"black\" d=\"M166.5,-254.69C166.5,-248.18 166.5,-238.1 166.5,-229.43\"/>\n",
       "<polygon fill=\"black\" stroke=\"black\" points=\"170,-229.26 166.5,-219.26 163,-229.26 170,-229.26\"/>\n",
       "</g>\n",
       "<!-- 2 -->\n",
       "<g id=\"node3\" class=\"node\">\n",
       "<title>2</title>\n",
       "<text text-anchor=\"middle\" x=\"60.5\" y=\"-156.8\" font-family=\"Times,serif\" font-size=\"14.00\">&lt;xml&#45;open&#45;tag&gt;</text>\n",
       "</g>\n",
       "<!-- 1&#45;&gt;2 -->\n",
       "<g id=\"edge2\" class=\"edge\">\n",
       "<title>1&#45;&gt;2</title>\n",
       "<path fill=\"none\" stroke=\"black\" d=\"M152.2,-203.89C134.64,-195.77 104.61,-181.89 83.72,-172.23\"/>\n",
       "<polygon fill=\"black\" stroke=\"black\" points=\"85.11,-169.02 74.57,-168 82.18,-175.38 85.11,-169.02\"/>\n",
       "</g>\n",
       "<!-- 7 -->\n",
       "<g id=\"node8\" class=\"node\">\n",
       "<title>7</title>\n",
       "<text text-anchor=\"middle\" x=\"166.5\" y=\"-156.8\" font-family=\"Times,serif\" font-size=\"14.00\">&lt;xml&#45;tree&gt;</text>\n",
       "</g>\n",
       "<!-- 1&#45;&gt;7 -->\n",
       "<g id=\"edge7\" class=\"edge\">\n",
       "<title>1&#45;&gt;7</title>\n",
       "<path fill=\"none\" stroke=\"black\" d=\"M166.5,-203.69C166.5,-197.18 166.5,-187.1 166.5,-178.43\"/>\n",
       "<polygon fill=\"black\" stroke=\"black\" points=\"170,-178.26 166.5,-168.26 163,-178.26 170,-178.26\"/>\n",
       "</g>\n",
       "<!-- 14 -->\n",
       "<g id=\"node15\" class=\"node\">\n",
       "<title>14</title>\n",
       "<text text-anchor=\"middle\" x=\"291.5\" y=\"-156.8\" font-family=\"Times,serif\" font-size=\"14.00\">&lt;xml&#45;close&#45;tag&gt;</text>\n",
       "</g>\n",
       "<!-- 1&#45;&gt;14 -->\n",
       "<g id=\"edge14\" class=\"edge\">\n",
       "<title>1&#45;&gt;14</title>\n",
       "<path fill=\"none\" stroke=\"black\" d=\"M183.1,-203.99C204.11,-195.76 240.55,-181.47 265.33,-171.76\"/>\n",
       "<polygon fill=\"black\" stroke=\"black\" points=\"266.8,-174.94 274.83,-168.03 264.24,-168.42 266.8,-174.94\"/>\n",
       "</g>\n",
       "<!-- 3 -->\n",
       "<g id=\"node4\" class=\"node\">\n",
       "<title>3</title>\n",
       "<text text-anchor=\"middle\" x=\"4.5\" y=\"-105.8\" font-family=\"Times,serif\" font-size=\"14.00\">&lt;</text>\n",
       "</g>\n",
       "<!-- 2&#45;&gt;3 -->\n",
       "<g id=\"edge3\" class=\"edge\">\n",
       "<title>2&#45;&gt;3</title>\n",
       "<path fill=\"none\" stroke=\"black\" d=\"M52.71,-152.69C43.42,-144.55 27.76,-130.85 16.81,-121.28\"/>\n",
       "<polygon fill=\"black\" stroke=\"black\" points=\"19.09,-118.62 9.26,-114.67 14.48,-123.89 19.09,-118.62\"/>\n",
       "</g>\n",
       "<!-- 4 -->\n",
       "<g id=\"node5\" class=\"node\">\n",
       "<title>4</title>\n",
       "<text text-anchor=\"middle\" x=\"41.5\" y=\"-105.8\" font-family=\"Times,serif\" font-size=\"14.00\">&lt;id&gt;</text>\n",
       "</g>\n",
       "<!-- 2&#45;&gt;4 -->\n",
       "<g id=\"edge4\" class=\"edge\">\n",
       "<title>2&#45;&gt;4</title>\n",
       "<path fill=\"none\" stroke=\"black\" d=\"M57.86,-152.69C55.28,-146.03 51.25,-135.65 47.84,-126.85\"/>\n",
       "<polygon fill=\"black\" stroke=\"black\" points=\"51,-125.31 44.12,-117.26 44.47,-127.84 51,-125.31\"/>\n",
       "</g>\n",
       "<!-- 6 -->\n",
       "<g id=\"node7\" class=\"node\">\n",
       "<title>6</title>\n",
       "<text text-anchor=\"middle\" x=\"78.5\" y=\"-105.8\" font-family=\"Times,serif\" font-size=\"14.00\">&gt;</text>\n",
       "</g>\n",
       "<!-- 2&#45;&gt;6 -->\n",
       "<g id=\"edge6\" class=\"edge\">\n",
       "<title>2&#45;&gt;6</title>\n",
       "<path fill=\"none\" stroke=\"black\" d=\"M63,-152.69C65.45,-146.03 69.26,-135.65 72.49,-126.85\"/>\n",
       "<polygon fill=\"black\" stroke=\"black\" points=\"75.86,-127.85 76.02,-117.26 69.28,-125.44 75.86,-127.85\"/>\n",
       "</g>\n",
       "<!-- 5 -->\n",
       "<g id=\"node6\" class=\"node\">\n",
       "<title>5</title>\n",
       "<text text-anchor=\"middle\" x=\"41.5\" y=\"-54.8\" font-family=\"Times,serif\" font-size=\"14.00\">html</text>\n",
       "</g>\n",
       "<!-- 4&#45;&gt;5 -->\n",
       "<g id=\"edge5\" class=\"edge\">\n",
       "<title>4&#45;&gt;5</title>\n",
       "<path fill=\"none\" stroke=\"black\" d=\"M41.5,-101.69C41.5,-95.18 41.5,-85.1 41.5,-76.43\"/>\n",
       "<polygon fill=\"black\" stroke=\"black\" points=\"45,-76.26 41.5,-66.26 38,-76.26 45,-76.26\"/>\n",
       "</g>\n",
       "<!-- 8 -->\n",
       "<g id=\"node9\" class=\"node\">\n",
       "<title>8</title>\n",
       "<text text-anchor=\"middle\" x=\"133.5\" y=\"-105.8\" font-family=\"Times,serif\" font-size=\"14.00\">&lt;xml&#45;tree&gt;</text>\n",
       "</g>\n",
       "<!-- 7&#45;&gt;8 -->\n",
       "<g id=\"edge8\" class=\"edge\">\n",
       "<title>7&#45;&gt;8</title>\n",
       "<path fill=\"none\" stroke=\"black\" d=\"M161.91,-152.69C157.23,-145.74 149.82,-134.73 143.73,-125.7\"/>\n",
       "<polygon fill=\"black\" stroke=\"black\" points=\"146.54,-123.59 138.05,-117.26 140.73,-127.5 146.54,-123.59\"/>\n",
       "</g>\n",
       "<!-- 11 -->\n",
       "<g id=\"node12\" class=\"node\">\n",
       "<title>11</title>\n",
       "<text text-anchor=\"middle\" x=\"215.5\" y=\"-105.8\" font-family=\"Times,serif\" font-size=\"14.00\">&lt;xml&#45;tree&gt;</text>\n",
       "</g>\n",
       "<!-- 7&#45;&gt;11 -->\n",
       "<g id=\"edge11\" class=\"edge\">\n",
       "<title>7&#45;&gt;11</title>\n",
       "<path fill=\"none\" stroke=\"black\" d=\"M173.31,-152.69C180.55,-145.45 192.21,-133.79 201.43,-124.57\"/>\n",
       "<polygon fill=\"black\" stroke=\"black\" points=\"204.15,-126.8 208.74,-117.26 199.2,-121.85 204.15,-126.8\"/>\n",
       "</g>\n",
       "<!-- 9 -->\n",
       "<g id=\"node10\" class=\"node\">\n",
       "<title>9</title>\n",
       "<text text-anchor=\"middle\" x=\"133.5\" y=\"-54.8\" font-family=\"Times,serif\" font-size=\"14.00\">&lt;text&gt;</text>\n",
       "</g>\n",
       "<!-- 8&#45;&gt;9 -->\n",
       "<g id=\"edge9\" class=\"edge\">\n",
       "<title>8&#45;&gt;9</title>\n",
       "<path fill=\"none\" stroke=\"black\" d=\"M133.5,-101.69C133.5,-95.18 133.5,-85.1 133.5,-76.43\"/>\n",
       "<polygon fill=\"black\" stroke=\"black\" points=\"137,-76.26 133.5,-66.26 130,-76.26 137,-76.26\"/>\n",
       "</g>\n",
       "<!-- 10 -->\n",
       "<g id=\"node11\" class=\"node\">\n",
       "<title>10</title>\n",
       "<text text-anchor=\"middle\" x=\"133.5\" y=\"-3.8\" font-family=\"Times,serif\" font-size=\"14.00\">T</text>\n",
       "</g>\n",
       "<!-- 9&#45;&gt;10 -->\n",
       "<g id=\"edge10\" class=\"edge\">\n",
       "<title>9&#45;&gt;10</title>\n",
       "<path fill=\"none\" stroke=\"black\" d=\"M133.5,-50.69C133.5,-44.18 133.5,-34.1 133.5,-25.43\"/>\n",
       "<polygon fill=\"black\" stroke=\"black\" points=\"137,-25.26 133.5,-15.26 130,-25.26 137,-25.26\"/>\n",
       "</g>\n",
       "<!-- 12 -->\n",
       "<g id=\"node13\" class=\"node\">\n",
       "<title>12</title>\n",
       "<text text-anchor=\"middle\" x=\"215.5\" y=\"-54.8\" font-family=\"Times,serif\" font-size=\"14.00\">&lt;text&gt;</text>\n",
       "</g>\n",
       "<!-- 11&#45;&gt;12 -->\n",
       "<g id=\"edge12\" class=\"edge\">\n",
       "<title>11&#45;&gt;12</title>\n",
       "<path fill=\"none\" stroke=\"black\" d=\"M215.5,-101.69C215.5,-95.18 215.5,-85.1 215.5,-76.43\"/>\n",
       "<polygon fill=\"black\" stroke=\"black\" points=\"219,-76.26 215.5,-66.26 212,-76.26 219,-76.26\"/>\n",
       "</g>\n",
       "<!-- 13 -->\n",
       "<g id=\"node14\" class=\"node\">\n",
       "<title>13</title>\n",
       "<text text-anchor=\"middle\" x=\"215.5\" y=\"-3.8\" font-family=\"Times,serif\" font-size=\"14.00\">ext</text>\n",
       "</g>\n",
       "<!-- 12&#45;&gt;13 -->\n",
       "<g id=\"edge13\" class=\"edge\">\n",
       "<title>12&#45;&gt;13</title>\n",
       "<path fill=\"none\" stroke=\"black\" d=\"M215.5,-50.69C215.5,-44.18 215.5,-34.1 215.5,-25.43\"/>\n",
       "<polygon fill=\"black\" stroke=\"black\" points=\"219,-25.26 215.5,-15.26 212,-25.26 219,-25.26\"/>\n",
       "</g>\n",
       "<!-- 15 -->\n",
       "<g id=\"node16\" class=\"node\">\n",
       "<title>15</title>\n",
       "<text text-anchor=\"middle\" x=\"272.5\" y=\"-105.8\" font-family=\"Times,serif\" font-size=\"14.00\">&lt;/</text>\n",
       "</g>\n",
       "<!-- 14&#45;&gt;15 -->\n",
       "<g id=\"edge15\" class=\"edge\">\n",
       "<title>14&#45;&gt;15</title>\n",
       "<path fill=\"none\" stroke=\"black\" d=\"M288.86,-152.69C286.28,-146.03 282.25,-135.65 278.84,-126.85\"/>\n",
       "<polygon fill=\"black\" stroke=\"black\" points=\"282,-125.31 275.12,-117.26 275.47,-127.84 282,-125.31\"/>\n",
       "</g>\n",
       "<!-- 16 -->\n",
       "<g id=\"node17\" class=\"node\">\n",
       "<title>16</title>\n",
       "<text text-anchor=\"middle\" x=\"311.5\" y=\"-105.8\" font-family=\"Times,serif\" font-size=\"14.00\">&lt;id&gt;</text>\n",
       "</g>\n",
       "<!-- 14&#45;&gt;16 -->\n",
       "<g id=\"edge16\" class=\"edge\">\n",
       "<title>14&#45;&gt;16</title>\n",
       "<path fill=\"none\" stroke=\"black\" d=\"M294.28,-152.69C297.03,-145.96 301.33,-135.42 304.95,-126.56\"/>\n",
       "<polygon fill=\"black\" stroke=\"black\" points=\"308.2,-127.84 308.74,-117.26 301.72,-125.19 308.2,-127.84\"/>\n",
       "</g>\n",
       "<!-- 18 -->\n",
       "<g id=\"node19\" class=\"node\">\n",
       "<title>18</title>\n",
       "<text text-anchor=\"middle\" x=\"348.5\" y=\"-105.8\" font-family=\"Times,serif\" font-size=\"14.00\">&gt;</text>\n",
       "</g>\n",
       "<!-- 14&#45;&gt;18 -->\n",
       "<g id=\"edge18\" class=\"edge\">\n",
       "<title>14&#45;&gt;18</title>\n",
       "<path fill=\"none\" stroke=\"black\" d=\"M299.43,-152.69C308.98,-144.47 325.15,-130.57 336.3,-120.98\"/>\n",
       "<polygon fill=\"black\" stroke=\"black\" points=\"338.65,-123.58 343.95,-114.41 334.08,-118.28 338.65,-123.58\"/>\n",
       "</g>\n",
       "<!-- 17 -->\n",
       "<g id=\"node18\" class=\"node\">\n",
       "<title>17</title>\n",
       "<text text-anchor=\"middle\" x=\"311.5\" y=\"-54.8\" font-family=\"Times,serif\" font-size=\"14.00\">html</text>\n",
       "</g>\n",
       "<!-- 16&#45;&gt;17 -->\n",
       "<g id=\"edge17\" class=\"edge\">\n",
       "<title>16&#45;&gt;17</title>\n",
       "<path fill=\"none\" stroke=\"black\" d=\"M311.5,-101.69C311.5,-95.18 311.5,-85.1 311.5,-76.43\"/>\n",
       "<polygon fill=\"black\" stroke=\"black\" points=\"315,-76.26 311.5,-66.26 308,-76.26 315,-76.26\"/>\n",
       "</g>\n",
       "</g>\n",
       "</svg>\n"
      ],
      "text/plain": [
       "<graphviz.graphs.Digraph at 0x1544834f0>"
      ]
     },
     "metadata": {},
     "output_type": "display_data"
    },
    {
     "data": {
      "image/svg+xml": [
       "<?xml version=\"1.0\" encoding=\"UTF-8\" standalone=\"no\"?>\n",
       "<!DOCTYPE svg PUBLIC \"-//W3C//DTD SVG 1.1//EN\"\n",
       " \"http://www.w3.org/Graphics/SVG/1.1/DTD/svg11.dtd\">\n",
       "<!-- Generated by graphviz version 3.0.0 (20220226.1711)\n",
       " -->\n",
       "<!-- Pages: 1 -->\n",
       "<svg width=\"361pt\" height=\"278pt\"\n",
       " viewBox=\"0.00 0.00 361.00 278.00\" xmlns=\"http://www.w3.org/2000/svg\" xmlns:xlink=\"http://www.w3.org/1999/xlink\">\n",
       "<g id=\"graph0\" class=\"graph\" transform=\"scale(1 1) rotate(0) translate(4 274)\">\n",
       "<polygon fill=\"white\" stroke=\"transparent\" points=\"-4,4 -4,-274 357,-274 357,4 -4,4\"/>\n",
       "<!-- 0 -->\n",
       "<g id=\"node1\" class=\"node\">\n",
       "<title>0</title>\n",
       "<text text-anchor=\"middle\" x=\"166.5\" y=\"-258.8\" font-family=\"Times,serif\" font-size=\"14.00\">&lt;start&gt;</text>\n",
       "</g>\n",
       "<!-- 1 -->\n",
       "<g id=\"node2\" class=\"node\">\n",
       "<title>1</title>\n",
       "<text text-anchor=\"middle\" x=\"166.5\" y=\"-207.8\" font-family=\"Times,serif\" font-size=\"14.00\">&lt;xml&#45;tree&gt;</text>\n",
       "</g>\n",
       "<!-- 0&#45;&gt;1 -->\n",
       "<g id=\"edge1\" class=\"edge\">\n",
       "<title>0&#45;&gt;1</title>\n",
       "<path fill=\"none\" stroke=\"black\" d=\"M166.5,-254.69C166.5,-248.18 166.5,-238.1 166.5,-229.43\"/>\n",
       "<polygon fill=\"black\" stroke=\"black\" points=\"170,-229.26 166.5,-219.26 163,-229.26 170,-229.26\"/>\n",
       "</g>\n",
       "<!-- 2 -->\n",
       "<g id=\"node3\" class=\"node\">\n",
       "<title>2</title>\n",
       "<text text-anchor=\"middle\" x=\"60.5\" y=\"-156.8\" font-family=\"Times,serif\" font-size=\"14.00\">&lt;xml&#45;open&#45;tag&gt;</text>\n",
       "</g>\n",
       "<!-- 1&#45;&gt;2 -->\n",
       "<g id=\"edge2\" class=\"edge\">\n",
       "<title>1&#45;&gt;2</title>\n",
       "<path fill=\"none\" stroke=\"black\" d=\"M152.2,-203.89C134.64,-195.77 104.61,-181.89 83.72,-172.23\"/>\n",
       "<polygon fill=\"black\" stroke=\"black\" points=\"85.11,-169.02 74.57,-168 82.18,-175.38 85.11,-169.02\"/>\n",
       "</g>\n",
       "<!-- 7 -->\n",
       "<g id=\"node8\" class=\"node\">\n",
       "<title>7</title>\n",
       "<text text-anchor=\"middle\" x=\"166.5\" y=\"-156.8\" font-family=\"Times,serif\" font-size=\"14.00\">&lt;xml&#45;tree&gt;</text>\n",
       "</g>\n",
       "<!-- 1&#45;&gt;7 -->\n",
       "<g id=\"edge7\" class=\"edge\">\n",
       "<title>1&#45;&gt;7</title>\n",
       "<path fill=\"none\" stroke=\"black\" d=\"M166.5,-203.69C166.5,-197.18 166.5,-187.1 166.5,-178.43\"/>\n",
       "<polygon fill=\"black\" stroke=\"black\" points=\"170,-178.26 166.5,-168.26 163,-178.26 170,-178.26\"/>\n",
       "</g>\n",
       "<!-- 14 -->\n",
       "<g id=\"node15\" class=\"node\">\n",
       "<title>14</title>\n",
       "<text text-anchor=\"middle\" x=\"291.5\" y=\"-156.8\" font-family=\"Times,serif\" font-size=\"14.00\">&lt;xml&#45;close&#45;tag&gt;</text>\n",
       "</g>\n",
       "<!-- 1&#45;&gt;14 -->\n",
       "<g id=\"edge14\" class=\"edge\">\n",
       "<title>1&#45;&gt;14</title>\n",
       "<path fill=\"none\" stroke=\"black\" d=\"M183.1,-203.99C204.11,-195.76 240.55,-181.47 265.33,-171.76\"/>\n",
       "<polygon fill=\"black\" stroke=\"black\" points=\"266.8,-174.94 274.83,-168.03 264.24,-168.42 266.8,-174.94\"/>\n",
       "</g>\n",
       "<!-- 3 -->\n",
       "<g id=\"node4\" class=\"node\">\n",
       "<title>3</title>\n",
       "<text text-anchor=\"middle\" x=\"4.5\" y=\"-105.8\" font-family=\"Times,serif\" font-size=\"14.00\">&lt;</text>\n",
       "</g>\n",
       "<!-- 2&#45;&gt;3 -->\n",
       "<g id=\"edge3\" class=\"edge\">\n",
       "<title>2&#45;&gt;3</title>\n",
       "<path fill=\"none\" stroke=\"black\" d=\"M52.71,-152.69C43.42,-144.55 27.76,-130.85 16.81,-121.28\"/>\n",
       "<polygon fill=\"black\" stroke=\"black\" points=\"19.09,-118.62 9.26,-114.67 14.48,-123.89 19.09,-118.62\"/>\n",
       "</g>\n",
       "<!-- 4 -->\n",
       "<g id=\"node5\" class=\"node\">\n",
       "<title>4</title>\n",
       "<text text-anchor=\"middle\" x=\"41.5\" y=\"-105.8\" font-family=\"Times,serif\" font-size=\"14.00\">&lt;id&gt;</text>\n",
       "</g>\n",
       "<!-- 2&#45;&gt;4 -->\n",
       "<g id=\"edge4\" class=\"edge\">\n",
       "<title>2&#45;&gt;4</title>\n",
       "<path fill=\"none\" stroke=\"black\" d=\"M57.86,-152.69C55.28,-146.03 51.25,-135.65 47.84,-126.85\"/>\n",
       "<polygon fill=\"black\" stroke=\"black\" points=\"51,-125.31 44.12,-117.26 44.47,-127.84 51,-125.31\"/>\n",
       "</g>\n",
       "<!-- 6 -->\n",
       "<g id=\"node7\" class=\"node\">\n",
       "<title>6</title>\n",
       "<text text-anchor=\"middle\" x=\"78.5\" y=\"-105.8\" font-family=\"Times,serif\" font-size=\"14.00\">&gt;</text>\n",
       "</g>\n",
       "<!-- 2&#45;&gt;6 -->\n",
       "<g id=\"edge6\" class=\"edge\">\n",
       "<title>2&#45;&gt;6</title>\n",
       "<path fill=\"none\" stroke=\"black\" d=\"M63,-152.69C65.45,-146.03 69.26,-135.65 72.49,-126.85\"/>\n",
       "<polygon fill=\"black\" stroke=\"black\" points=\"75.86,-127.85 76.02,-117.26 69.28,-125.44 75.86,-127.85\"/>\n",
       "</g>\n",
       "<!-- 5 -->\n",
       "<g id=\"node6\" class=\"node\">\n",
       "<title>5</title>\n",
       "<text text-anchor=\"middle\" x=\"41.5\" y=\"-54.8\" font-family=\"Times,serif\" font-size=\"14.00\">html</text>\n",
       "</g>\n",
       "<!-- 4&#45;&gt;5 -->\n",
       "<g id=\"edge5\" class=\"edge\">\n",
       "<title>4&#45;&gt;5</title>\n",
       "<path fill=\"none\" stroke=\"black\" d=\"M41.5,-101.69C41.5,-95.18 41.5,-85.1 41.5,-76.43\"/>\n",
       "<polygon fill=\"black\" stroke=\"black\" points=\"45,-76.26 41.5,-66.26 38,-76.26 45,-76.26\"/>\n",
       "</g>\n",
       "<!-- 8 -->\n",
       "<g id=\"node9\" class=\"node\">\n",
       "<title>8</title>\n",
       "<text text-anchor=\"middle\" x=\"133.5\" y=\"-105.8\" font-family=\"Times,serif\" font-size=\"14.00\">&lt;xml&#45;tree&gt;</text>\n",
       "</g>\n",
       "<!-- 7&#45;&gt;8 -->\n",
       "<g id=\"edge8\" class=\"edge\">\n",
       "<title>7&#45;&gt;8</title>\n",
       "<path fill=\"none\" stroke=\"black\" d=\"M161.91,-152.69C157.23,-145.74 149.82,-134.73 143.73,-125.7\"/>\n",
       "<polygon fill=\"black\" stroke=\"black\" points=\"146.54,-123.59 138.05,-117.26 140.73,-127.5 146.54,-123.59\"/>\n",
       "</g>\n",
       "<!-- 11 -->\n",
       "<g id=\"node12\" class=\"node\">\n",
       "<title>11</title>\n",
       "<text text-anchor=\"middle\" x=\"215.5\" y=\"-105.8\" font-family=\"Times,serif\" font-size=\"14.00\">&lt;xml&#45;tree&gt;</text>\n",
       "</g>\n",
       "<!-- 7&#45;&gt;11 -->\n",
       "<g id=\"edge11\" class=\"edge\">\n",
       "<title>7&#45;&gt;11</title>\n",
       "<path fill=\"none\" stroke=\"black\" d=\"M173.31,-152.69C180.55,-145.45 192.21,-133.79 201.43,-124.57\"/>\n",
       "<polygon fill=\"black\" stroke=\"black\" points=\"204.15,-126.8 208.74,-117.26 199.2,-121.85 204.15,-126.8\"/>\n",
       "</g>\n",
       "<!-- 9 -->\n",
       "<g id=\"node10\" class=\"node\">\n",
       "<title>9</title>\n",
       "<text text-anchor=\"middle\" x=\"133.5\" y=\"-54.8\" font-family=\"Times,serif\" font-size=\"14.00\">&lt;text&gt;</text>\n",
       "</g>\n",
       "<!-- 8&#45;&gt;9 -->\n",
       "<g id=\"edge9\" class=\"edge\">\n",
       "<title>8&#45;&gt;9</title>\n",
       "<path fill=\"none\" stroke=\"black\" d=\"M133.5,-101.69C133.5,-95.18 133.5,-85.1 133.5,-76.43\"/>\n",
       "<polygon fill=\"black\" stroke=\"black\" points=\"137,-76.26 133.5,-66.26 130,-76.26 137,-76.26\"/>\n",
       "</g>\n",
       "<!-- 10 -->\n",
       "<g id=\"node11\" class=\"node\">\n",
       "<title>10</title>\n",
       "<text text-anchor=\"middle\" x=\"133.5\" y=\"-3.8\" font-family=\"Times,serif\" font-size=\"14.00\">Te</text>\n",
       "</g>\n",
       "<!-- 9&#45;&gt;10 -->\n",
       "<g id=\"edge10\" class=\"edge\">\n",
       "<title>9&#45;&gt;10</title>\n",
       "<path fill=\"none\" stroke=\"black\" d=\"M133.5,-50.69C133.5,-44.18 133.5,-34.1 133.5,-25.43\"/>\n",
       "<polygon fill=\"black\" stroke=\"black\" points=\"137,-25.26 133.5,-15.26 130,-25.26 137,-25.26\"/>\n",
       "</g>\n",
       "<!-- 12 -->\n",
       "<g id=\"node13\" class=\"node\">\n",
       "<title>12</title>\n",
       "<text text-anchor=\"middle\" x=\"215.5\" y=\"-54.8\" font-family=\"Times,serif\" font-size=\"14.00\">&lt;text&gt;</text>\n",
       "</g>\n",
       "<!-- 11&#45;&gt;12 -->\n",
       "<g id=\"edge12\" class=\"edge\">\n",
       "<title>11&#45;&gt;12</title>\n",
       "<path fill=\"none\" stroke=\"black\" d=\"M215.5,-101.69C215.5,-95.18 215.5,-85.1 215.5,-76.43\"/>\n",
       "<polygon fill=\"black\" stroke=\"black\" points=\"219,-76.26 215.5,-66.26 212,-76.26 219,-76.26\"/>\n",
       "</g>\n",
       "<!-- 13 -->\n",
       "<g id=\"node14\" class=\"node\">\n",
       "<title>13</title>\n",
       "<text text-anchor=\"middle\" x=\"215.5\" y=\"-3.8\" font-family=\"Times,serif\" font-size=\"14.00\">xt</text>\n",
       "</g>\n",
       "<!-- 12&#45;&gt;13 -->\n",
       "<g id=\"edge13\" class=\"edge\">\n",
       "<title>12&#45;&gt;13</title>\n",
       "<path fill=\"none\" stroke=\"black\" d=\"M215.5,-50.69C215.5,-44.18 215.5,-34.1 215.5,-25.43\"/>\n",
       "<polygon fill=\"black\" stroke=\"black\" points=\"219,-25.26 215.5,-15.26 212,-25.26 219,-25.26\"/>\n",
       "</g>\n",
       "<!-- 15 -->\n",
       "<g id=\"node16\" class=\"node\">\n",
       "<title>15</title>\n",
       "<text text-anchor=\"middle\" x=\"272.5\" y=\"-105.8\" font-family=\"Times,serif\" font-size=\"14.00\">&lt;/</text>\n",
       "</g>\n",
       "<!-- 14&#45;&gt;15 -->\n",
       "<g id=\"edge15\" class=\"edge\">\n",
       "<title>14&#45;&gt;15</title>\n",
       "<path fill=\"none\" stroke=\"black\" d=\"M288.86,-152.69C286.28,-146.03 282.25,-135.65 278.84,-126.85\"/>\n",
       "<polygon fill=\"black\" stroke=\"black\" points=\"282,-125.31 275.12,-117.26 275.47,-127.84 282,-125.31\"/>\n",
       "</g>\n",
       "<!-- 16 -->\n",
       "<g id=\"node17\" class=\"node\">\n",
       "<title>16</title>\n",
       "<text text-anchor=\"middle\" x=\"311.5\" y=\"-105.8\" font-family=\"Times,serif\" font-size=\"14.00\">&lt;id&gt;</text>\n",
       "</g>\n",
       "<!-- 14&#45;&gt;16 -->\n",
       "<g id=\"edge16\" class=\"edge\">\n",
       "<title>14&#45;&gt;16</title>\n",
       "<path fill=\"none\" stroke=\"black\" d=\"M294.28,-152.69C297.03,-145.96 301.33,-135.42 304.95,-126.56\"/>\n",
       "<polygon fill=\"black\" stroke=\"black\" points=\"308.2,-127.84 308.74,-117.26 301.72,-125.19 308.2,-127.84\"/>\n",
       "</g>\n",
       "<!-- 18 -->\n",
       "<g id=\"node19\" class=\"node\">\n",
       "<title>18</title>\n",
       "<text text-anchor=\"middle\" x=\"348.5\" y=\"-105.8\" font-family=\"Times,serif\" font-size=\"14.00\">&gt;</text>\n",
       "</g>\n",
       "<!-- 14&#45;&gt;18 -->\n",
       "<g id=\"edge18\" class=\"edge\">\n",
       "<title>14&#45;&gt;18</title>\n",
       "<path fill=\"none\" stroke=\"black\" d=\"M299.43,-152.69C308.98,-144.47 325.15,-130.57 336.3,-120.98\"/>\n",
       "<polygon fill=\"black\" stroke=\"black\" points=\"338.65,-123.58 343.95,-114.41 334.08,-118.28 338.65,-123.58\"/>\n",
       "</g>\n",
       "<!-- 17 -->\n",
       "<g id=\"node18\" class=\"node\">\n",
       "<title>17</title>\n",
       "<text text-anchor=\"middle\" x=\"311.5\" y=\"-54.8\" font-family=\"Times,serif\" font-size=\"14.00\">html</text>\n",
       "</g>\n",
       "<!-- 16&#45;&gt;17 -->\n",
       "<g id=\"edge17\" class=\"edge\">\n",
       "<title>16&#45;&gt;17</title>\n",
       "<path fill=\"none\" stroke=\"black\" d=\"M311.5,-101.69C311.5,-95.18 311.5,-85.1 311.5,-76.43\"/>\n",
       "<polygon fill=\"black\" stroke=\"black\" points=\"315,-76.26 311.5,-66.26 308,-76.26 315,-76.26\"/>\n",
       "</g>\n",
       "</g>\n",
       "</svg>\n"
      ],
      "text/plain": [
       "<graphviz.graphs.Digraph at 0x15449ec70>"
      ]
     },
     "metadata": {},
     "output_type": "display_data"
    },
    {
     "data": {
      "image/svg+xml": [
       "<?xml version=\"1.0\" encoding=\"UTF-8\" standalone=\"no\"?>\n",
       "<!DOCTYPE svg PUBLIC \"-//W3C//DTD SVG 1.1//EN\"\n",
       " \"http://www.w3.org/Graphics/SVG/1.1/DTD/svg11.dtd\">\n",
       "<!-- Generated by graphviz version 3.0.0 (20220226.1711)\n",
       " -->\n",
       "<!-- Pages: 1 -->\n",
       "<svg width=\"381pt\" height=\"329pt\"\n",
       " viewBox=\"0.00 0.00 381.00 329.00\" xmlns=\"http://www.w3.org/2000/svg\" xmlns:xlink=\"http://www.w3.org/1999/xlink\">\n",
       "<g id=\"graph0\" class=\"graph\" transform=\"scale(1 1) rotate(0) translate(4 325)\">\n",
       "<polygon fill=\"white\" stroke=\"transparent\" points=\"-4,4 -4,-325 377,-325 377,4 -4,4\"/>\n",
       "<!-- 0 -->\n",
       "<g id=\"node1\" class=\"node\">\n",
       "<title>0</title>\n",
       "<text text-anchor=\"middle\" x=\"180.5\" y=\"-309.8\" font-family=\"Times,serif\" font-size=\"14.00\">&lt;start&gt;</text>\n",
       "</g>\n",
       "<!-- 1 -->\n",
       "<g id=\"node2\" class=\"node\">\n",
       "<title>1</title>\n",
       "<text text-anchor=\"middle\" x=\"180.5\" y=\"-258.8\" font-family=\"Times,serif\" font-size=\"14.00\">&lt;xml&#45;tree&gt;</text>\n",
       "</g>\n",
       "<!-- 0&#45;&gt;1 -->\n",
       "<g id=\"edge1\" class=\"edge\">\n",
       "<title>0&#45;&gt;1</title>\n",
       "<path fill=\"none\" stroke=\"black\" d=\"M180.5,-305.69C180.5,-299.18 180.5,-289.1 180.5,-280.43\"/>\n",
       "<polygon fill=\"black\" stroke=\"black\" points=\"184,-280.26 180.5,-270.26 177,-280.26 184,-280.26\"/>\n",
       "</g>\n",
       "<!-- 2 -->\n",
       "<g id=\"node3\" class=\"node\">\n",
       "<title>2</title>\n",
       "<text text-anchor=\"middle\" x=\"68.5\" y=\"-207.8\" font-family=\"Times,serif\" font-size=\"14.00\">&lt;xml&#45;open&#45;tag&gt;</text>\n",
       "</g>\n",
       "<!-- 1&#45;&gt;2 -->\n",
       "<g id=\"edge2\" class=\"edge\">\n",
       "<title>1&#45;&gt;2</title>\n",
       "<path fill=\"none\" stroke=\"black\" d=\"M165.4,-254.89C146.75,-246.74 114.82,-232.77 92.74,-223.1\"/>\n",
       "<polygon fill=\"black\" stroke=\"black\" points=\"93.93,-219.81 83.37,-219 91.12,-226.22 93.93,-219.81\"/>\n",
       "</g>\n",
       "<!-- 7 -->\n",
       "<g id=\"node8\" class=\"node\">\n",
       "<title>7</title>\n",
       "<text text-anchor=\"middle\" x=\"180.5\" y=\"-207.8\" font-family=\"Times,serif\" font-size=\"14.00\">&lt;xml&#45;tree&gt;</text>\n",
       "</g>\n",
       "<!-- 1&#45;&gt;7 -->\n",
       "<g id=\"edge7\" class=\"edge\">\n",
       "<title>1&#45;&gt;7</title>\n",
       "<path fill=\"none\" stroke=\"black\" d=\"M180.5,-254.69C180.5,-248.18 180.5,-238.1 180.5,-229.43\"/>\n",
       "<polygon fill=\"black\" stroke=\"black\" points=\"184,-229.26 180.5,-219.26 177,-229.26 184,-229.26\"/>\n",
       "</g>\n",
       "<!-- 18 -->\n",
       "<g id=\"node19\" class=\"node\">\n",
       "<title>18</title>\n",
       "<text text-anchor=\"middle\" x=\"311.5\" y=\"-207.8\" font-family=\"Times,serif\" font-size=\"14.00\">&lt;xml&#45;close&#45;tag&gt;</text>\n",
       "</g>\n",
       "<!-- 1&#45;&gt;18 -->\n",
       "<g id=\"edge18\" class=\"edge\">\n",
       "<title>1&#45;&gt;18</title>\n",
       "<path fill=\"none\" stroke=\"black\" d=\"M197.9,-254.99C220.02,-246.72 258.45,-232.34 284.42,-222.63\"/>\n",
       "<polygon fill=\"black\" stroke=\"black\" points=\"285.89,-225.82 294.03,-219.03 283.44,-219.26 285.89,-225.82\"/>\n",
       "</g>\n",
       "<!-- 3 -->\n",
       "<g id=\"node4\" class=\"node\">\n",
       "<title>3</title>\n",
       "<text text-anchor=\"middle\" x=\"4.5\" y=\"-156.8\" font-family=\"Times,serif\" font-size=\"14.00\">&lt;</text>\n",
       "</g>\n",
       "<!-- 2&#45;&gt;3 -->\n",
       "<g id=\"edge3\" class=\"edge\">\n",
       "<title>2&#45;&gt;3</title>\n",
       "<path fill=\"none\" stroke=\"black\" d=\"M59.87,-203.89C48.88,-195.48 29.82,-180.89 17.18,-171.21\"/>\n",
       "<polygon fill=\"black\" stroke=\"black\" points=\"19.08,-168.25 9.01,-164.95 14.82,-173.81 19.08,-168.25\"/>\n",
       "</g>\n",
       "<!-- 4 -->\n",
       "<g id=\"node5\" class=\"node\">\n",
       "<title>4</title>\n",
       "<text text-anchor=\"middle\" x=\"41.5\" y=\"-156.8\" font-family=\"Times,serif\" font-size=\"14.00\">&lt;id&gt;</text>\n",
       "</g>\n",
       "<!-- 2&#45;&gt;4 -->\n",
       "<g id=\"edge4\" class=\"edge\">\n",
       "<title>2&#45;&gt;4</title>\n",
       "<path fill=\"none\" stroke=\"black\" d=\"M64.75,-203.69C61,-196.88 55.1,-186.19 50.19,-177.27\"/>\n",
       "<polygon fill=\"black\" stroke=\"black\" points=\"53.11,-175.32 45.22,-168.26 46.98,-178.7 53.11,-175.32\"/>\n",
       "</g>\n",
       "<!-- 6 -->\n",
       "<g id=\"node7\" class=\"node\">\n",
       "<title>6</title>\n",
       "<text text-anchor=\"middle\" x=\"78.5\" y=\"-156.8\" font-family=\"Times,serif\" font-size=\"14.00\">&gt;</text>\n",
       "</g>\n",
       "<!-- 2&#45;&gt;6 -->\n",
       "<g id=\"edge6\" class=\"edge\">\n",
       "<title>2&#45;&gt;6</title>\n",
       "<path fill=\"none\" stroke=\"black\" d=\"M69.89,-203.69C71.23,-197.1 73.32,-186.87 75.1,-178.14\"/>\n",
       "<polygon fill=\"black\" stroke=\"black\" points=\"78.55,-178.75 77.12,-168.26 71.69,-177.35 78.55,-178.75\"/>\n",
       "</g>\n",
       "<!-- 5 -->\n",
       "<g id=\"node6\" class=\"node\">\n",
       "<title>5</title>\n",
       "<text text-anchor=\"middle\" x=\"31.5\" y=\"-105.8\" font-family=\"Times,serif\" font-size=\"14.00\">html</text>\n",
       "</g>\n",
       "<!-- 4&#45;&gt;5 -->\n",
       "<g id=\"edge5\" class=\"edge\">\n",
       "<title>4&#45;&gt;5</title>\n",
       "<path fill=\"none\" stroke=\"black\" d=\"M40.11,-152.69C38.77,-146.1 36.68,-135.87 34.9,-127.14\"/>\n",
       "<polygon fill=\"black\" stroke=\"black\" points=\"38.31,-126.35 32.88,-117.26 31.45,-127.75 38.31,-126.35\"/>\n",
       "</g>\n",
       "<!-- 8 -->\n",
       "<g id=\"node9\" class=\"node\">\n",
       "<title>8</title>\n",
       "<text text-anchor=\"middle\" x=\"153.5\" y=\"-156.8\" font-family=\"Times,serif\" font-size=\"14.00\">&lt;xml&#45;tree&gt;</text>\n",
       "</g>\n",
       "<!-- 7&#45;&gt;8 -->\n",
       "<g id=\"edge8\" class=\"edge\">\n",
       "<title>7&#45;&gt;8</title>\n",
       "<path fill=\"none\" stroke=\"black\" d=\"M176.75,-203.69C173,-196.88 167.1,-186.19 162.19,-177.27\"/>\n",
       "<polygon fill=\"black\" stroke=\"black\" points=\"165.11,-175.32 157.22,-168.26 158.98,-178.7 165.11,-175.32\"/>\n",
       "</g>\n",
       "<!-- 15 -->\n",
       "<g id=\"node16\" class=\"node\">\n",
       "<title>15</title>\n",
       "<text text-anchor=\"middle\" x=\"235.5\" y=\"-156.8\" font-family=\"Times,serif\" font-size=\"14.00\">&lt;xml&#45;tree&gt;</text>\n",
       "</g>\n",
       "<!-- 7&#45;&gt;15 -->\n",
       "<g id=\"edge15\" class=\"edge\">\n",
       "<title>7&#45;&gt;15</title>\n",
       "<path fill=\"none\" stroke=\"black\" d=\"M188.15,-203.69C196.44,-196.3 209.89,-184.32 220.34,-175.01\"/>\n",
       "<polygon fill=\"black\" stroke=\"black\" points=\"222.78,-177.52 227.92,-168.26 218.12,-172.29 222.78,-177.52\"/>\n",
       "</g>\n",
       "<!-- 9 -->\n",
       "<g id=\"node10\" class=\"node\">\n",
       "<title>9</title>\n",
       "<text text-anchor=\"middle\" x=\"94.5\" y=\"-105.8\" font-family=\"Times,serif\" font-size=\"14.00\">&lt;xml&#45;tree&gt;</text>\n",
       "</g>\n",
       "<!-- 8&#45;&gt;9 -->\n",
       "<g id=\"edge9\" class=\"edge\">\n",
       "<title>8&#45;&gt;9</title>\n",
       "<path fill=\"none\" stroke=\"black\" d=\"M145.3,-152.69C136.31,-145.23 121.69,-133.08 110.44,-123.73\"/>\n",
       "<polygon fill=\"black\" stroke=\"black\" points=\"112.56,-120.95 102.63,-117.26 108.09,-126.34 112.56,-120.95\"/>\n",
       "</g>\n",
       "<!-- 12 -->\n",
       "<g id=\"node13\" class=\"node\">\n",
       "<title>12</title>\n",
       "<text text-anchor=\"middle\" x=\"176.5\" y=\"-105.8\" font-family=\"Times,serif\" font-size=\"14.00\">&lt;xml&#45;tree&gt;</text>\n",
       "</g>\n",
       "<!-- 8&#45;&gt;12 -->\n",
       "<g id=\"edge12\" class=\"edge\">\n",
       "<title>8&#45;&gt;12</title>\n",
       "<path fill=\"none\" stroke=\"black\" d=\"M156.7,-152.69C159.86,-145.96 164.8,-135.42 168.96,-126.56\"/>\n",
       "<polygon fill=\"black\" stroke=\"black\" points=\"172.25,-127.79 173.33,-117.26 165.91,-124.82 172.25,-127.79\"/>\n",
       "</g>\n",
       "<!-- 10 -->\n",
       "<g id=\"node11\" class=\"node\">\n",
       "<title>10</title>\n",
       "<text text-anchor=\"middle\" x=\"94.5\" y=\"-54.8\" font-family=\"Times,serif\" font-size=\"14.00\">&lt;text&gt;</text>\n",
       "</g>\n",
       "<!-- 9&#45;&gt;10 -->\n",
       "<g id=\"edge10\" class=\"edge\">\n",
       "<title>9&#45;&gt;10</title>\n",
       "<path fill=\"none\" stroke=\"black\" d=\"M94.5,-101.69C94.5,-95.18 94.5,-85.1 94.5,-76.43\"/>\n",
       "<polygon fill=\"black\" stroke=\"black\" points=\"98,-76.26 94.5,-66.26 91,-76.26 98,-76.26\"/>\n",
       "</g>\n",
       "<!-- 11 -->\n",
       "<g id=\"node12\" class=\"node\">\n",
       "<title>11</title>\n",
       "<text text-anchor=\"middle\" x=\"94.5\" y=\"-3.8\" font-family=\"Times,serif\" font-size=\"14.00\">T</text>\n",
       "</g>\n",
       "<!-- 10&#45;&gt;11 -->\n",
       "<g id=\"edge11\" class=\"edge\">\n",
       "<title>10&#45;&gt;11</title>\n",
       "<path fill=\"none\" stroke=\"black\" d=\"M94.5,-50.69C94.5,-44.18 94.5,-34.1 94.5,-25.43\"/>\n",
       "<polygon fill=\"black\" stroke=\"black\" points=\"98,-25.26 94.5,-15.26 91,-25.26 98,-25.26\"/>\n",
       "</g>\n",
       "<!-- 13 -->\n",
       "<g id=\"node14\" class=\"node\">\n",
       "<title>13</title>\n",
       "<text text-anchor=\"middle\" x=\"176.5\" y=\"-54.8\" font-family=\"Times,serif\" font-size=\"14.00\">&lt;text&gt;</text>\n",
       "</g>\n",
       "<!-- 12&#45;&gt;13 -->\n",
       "<g id=\"edge13\" class=\"edge\">\n",
       "<title>12&#45;&gt;13</title>\n",
       "<path fill=\"none\" stroke=\"black\" d=\"M176.5,-101.69C176.5,-95.18 176.5,-85.1 176.5,-76.43\"/>\n",
       "<polygon fill=\"black\" stroke=\"black\" points=\"180,-76.26 176.5,-66.26 173,-76.26 180,-76.26\"/>\n",
       "</g>\n",
       "<!-- 14 -->\n",
       "<g id=\"node15\" class=\"node\">\n",
       "<title>14</title>\n",
       "<text text-anchor=\"middle\" x=\"176.5\" y=\"-3.8\" font-family=\"Times,serif\" font-size=\"14.00\">e</text>\n",
       "</g>\n",
       "<!-- 13&#45;&gt;14 -->\n",
       "<g id=\"edge14\" class=\"edge\">\n",
       "<title>13&#45;&gt;14</title>\n",
       "<path fill=\"none\" stroke=\"black\" d=\"M176.5,-50.69C176.5,-44.18 176.5,-34.1 176.5,-25.43\"/>\n",
       "<polygon fill=\"black\" stroke=\"black\" points=\"180,-25.26 176.5,-15.26 173,-25.26 180,-25.26\"/>\n",
       "</g>\n",
       "<!-- 16 -->\n",
       "<g id=\"node17\" class=\"node\">\n",
       "<title>16</title>\n",
       "<text text-anchor=\"middle\" x=\"245.5\" y=\"-105.8\" font-family=\"Times,serif\" font-size=\"14.00\">&lt;text&gt;</text>\n",
       "</g>\n",
       "<!-- 15&#45;&gt;16 -->\n",
       "<g id=\"edge16\" class=\"edge\">\n",
       "<title>15&#45;&gt;16</title>\n",
       "<path fill=\"none\" stroke=\"black\" d=\"M236.89,-152.69C238.23,-146.1 240.32,-135.87 242.1,-127.14\"/>\n",
       "<polygon fill=\"black\" stroke=\"black\" points=\"245.55,-127.75 244.12,-117.26 238.69,-126.35 245.55,-127.75\"/>\n",
       "</g>\n",
       "<!-- 17 -->\n",
       "<g id=\"node18\" class=\"node\">\n",
       "<title>17</title>\n",
       "<text text-anchor=\"middle\" x=\"245.5\" y=\"-54.8\" font-family=\"Times,serif\" font-size=\"14.00\">xt</text>\n",
       "</g>\n",
       "<!-- 16&#45;&gt;17 -->\n",
       "<g id=\"edge17\" class=\"edge\">\n",
       "<title>16&#45;&gt;17</title>\n",
       "<path fill=\"none\" stroke=\"black\" d=\"M245.5,-101.69C245.5,-95.18 245.5,-85.1 245.5,-76.43\"/>\n",
       "<polygon fill=\"black\" stroke=\"black\" points=\"249,-76.26 245.5,-66.26 242,-76.26 249,-76.26\"/>\n",
       "</g>\n",
       "<!-- 19 -->\n",
       "<g id=\"node20\" class=\"node\">\n",
       "<title>19</title>\n",
       "<text text-anchor=\"middle\" x=\"292.5\" y=\"-156.8\" font-family=\"Times,serif\" font-size=\"14.00\">&lt;/</text>\n",
       "</g>\n",
       "<!-- 18&#45;&gt;19 -->\n",
       "<g id=\"edge19\" class=\"edge\">\n",
       "<title>18&#45;&gt;19</title>\n",
       "<path fill=\"none\" stroke=\"black\" d=\"M308.86,-203.69C306.28,-197.03 302.25,-186.65 298.84,-177.85\"/>\n",
       "<polygon fill=\"black\" stroke=\"black\" points=\"302,-176.31 295.12,-168.26 295.47,-178.84 302,-176.31\"/>\n",
       "</g>\n",
       "<!-- 20 -->\n",
       "<g id=\"node21\" class=\"node\">\n",
       "<title>20</title>\n",
       "<text text-anchor=\"middle\" x=\"331.5\" y=\"-156.8\" font-family=\"Times,serif\" font-size=\"14.00\">&lt;id&gt;</text>\n",
       "</g>\n",
       "<!-- 18&#45;&gt;20 -->\n",
       "<g id=\"edge20\" class=\"edge\">\n",
       "<title>18&#45;&gt;20</title>\n",
       "<path fill=\"none\" stroke=\"black\" d=\"M314.28,-203.69C317.03,-196.96 321.33,-186.42 324.95,-177.56\"/>\n",
       "<polygon fill=\"black\" stroke=\"black\" points=\"328.2,-178.84 328.74,-168.26 321.72,-176.19 328.2,-178.84\"/>\n",
       "</g>\n",
       "<!-- 22 -->\n",
       "<g id=\"node23\" class=\"node\">\n",
       "<title>22</title>\n",
       "<text text-anchor=\"middle\" x=\"368.5\" y=\"-156.8\" font-family=\"Times,serif\" font-size=\"14.00\">&gt;</text>\n",
       "</g>\n",
       "<!-- 18&#45;&gt;22 -->\n",
       "<g id=\"edge22\" class=\"edge\">\n",
       "<title>18&#45;&gt;22</title>\n",
       "<path fill=\"none\" stroke=\"black\" d=\"M319.43,-203.69C328.98,-195.47 345.15,-181.57 356.3,-171.98\"/>\n",
       "<polygon fill=\"black\" stroke=\"black\" points=\"358.65,-174.58 363.95,-165.41 354.08,-169.28 358.65,-174.58\"/>\n",
       "</g>\n",
       "<!-- 21 -->\n",
       "<g id=\"node22\" class=\"node\">\n",
       "<title>21</title>\n",
       "<text text-anchor=\"middle\" x=\"331.5\" y=\"-105.8\" font-family=\"Times,serif\" font-size=\"14.00\">html</text>\n",
       "</g>\n",
       "<!-- 20&#45;&gt;21 -->\n",
       "<g id=\"edge21\" class=\"edge\">\n",
       "<title>20&#45;&gt;21</title>\n",
       "<path fill=\"none\" stroke=\"black\" d=\"M331.5,-152.69C331.5,-146.18 331.5,-136.1 331.5,-127.43\"/>\n",
       "<polygon fill=\"black\" stroke=\"black\" points=\"335,-127.26 331.5,-117.26 328,-127.26 335,-127.26\"/>\n",
       "</g>\n",
       "</g>\n",
       "</svg>\n"
      ],
      "text/plain": [
       "<graphviz.graphs.Digraph at 0x1545c1b50>"
      ]
     },
     "metadata": {},
     "output_type": "display_data"
    },
    {
     "data": {
      "image/svg+xml": [
       "<?xml version=\"1.0\" encoding=\"UTF-8\" standalone=\"no\"?>\n",
       "<!DOCTYPE svg PUBLIC \"-//W3C//DTD SVG 1.1//EN\"\n",
       " \"http://www.w3.org/Graphics/SVG/1.1/DTD/svg11.dtd\">\n",
       "<!-- Generated by graphviz version 3.0.0 (20220226.1711)\n",
       " -->\n",
       "<!-- Pages: 1 -->\n",
       "<svg width=\"361pt\" height=\"278pt\"\n",
       " viewBox=\"0.00 0.00 361.00 278.00\" xmlns=\"http://www.w3.org/2000/svg\" xmlns:xlink=\"http://www.w3.org/1999/xlink\">\n",
       "<g id=\"graph0\" class=\"graph\" transform=\"scale(1 1) rotate(0) translate(4 274)\">\n",
       "<polygon fill=\"white\" stroke=\"transparent\" points=\"-4,4 -4,-274 357,-274 357,4 -4,4\"/>\n",
       "<!-- 0 -->\n",
       "<g id=\"node1\" class=\"node\">\n",
       "<title>0</title>\n",
       "<text text-anchor=\"middle\" x=\"166.5\" y=\"-258.8\" font-family=\"Times,serif\" font-size=\"14.00\">&lt;start&gt;</text>\n",
       "</g>\n",
       "<!-- 1 -->\n",
       "<g id=\"node2\" class=\"node\">\n",
       "<title>1</title>\n",
       "<text text-anchor=\"middle\" x=\"166.5\" y=\"-207.8\" font-family=\"Times,serif\" font-size=\"14.00\">&lt;xml&#45;tree&gt;</text>\n",
       "</g>\n",
       "<!-- 0&#45;&gt;1 -->\n",
       "<g id=\"edge1\" class=\"edge\">\n",
       "<title>0&#45;&gt;1</title>\n",
       "<path fill=\"none\" stroke=\"black\" d=\"M166.5,-254.69C166.5,-248.18 166.5,-238.1 166.5,-229.43\"/>\n",
       "<polygon fill=\"black\" stroke=\"black\" points=\"170,-229.26 166.5,-219.26 163,-229.26 170,-229.26\"/>\n",
       "</g>\n",
       "<!-- 2 -->\n",
       "<g id=\"node3\" class=\"node\">\n",
       "<title>2</title>\n",
       "<text text-anchor=\"middle\" x=\"60.5\" y=\"-156.8\" font-family=\"Times,serif\" font-size=\"14.00\">&lt;xml&#45;open&#45;tag&gt;</text>\n",
       "</g>\n",
       "<!-- 1&#45;&gt;2 -->\n",
       "<g id=\"edge2\" class=\"edge\">\n",
       "<title>1&#45;&gt;2</title>\n",
       "<path fill=\"none\" stroke=\"black\" d=\"M152.2,-203.89C134.64,-195.77 104.61,-181.89 83.72,-172.23\"/>\n",
       "<polygon fill=\"black\" stroke=\"black\" points=\"85.11,-169.02 74.57,-168 82.18,-175.38 85.11,-169.02\"/>\n",
       "</g>\n",
       "<!-- 7 -->\n",
       "<g id=\"node8\" class=\"node\">\n",
       "<title>7</title>\n",
       "<text text-anchor=\"middle\" x=\"166.5\" y=\"-156.8\" font-family=\"Times,serif\" font-size=\"14.00\">&lt;xml&#45;tree&gt;</text>\n",
       "</g>\n",
       "<!-- 1&#45;&gt;7 -->\n",
       "<g id=\"edge7\" class=\"edge\">\n",
       "<title>1&#45;&gt;7</title>\n",
       "<path fill=\"none\" stroke=\"black\" d=\"M166.5,-203.69C166.5,-197.18 166.5,-187.1 166.5,-178.43\"/>\n",
       "<polygon fill=\"black\" stroke=\"black\" points=\"170,-178.26 166.5,-168.26 163,-178.26 170,-178.26\"/>\n",
       "</g>\n",
       "<!-- 14 -->\n",
       "<g id=\"node15\" class=\"node\">\n",
       "<title>14</title>\n",
       "<text text-anchor=\"middle\" x=\"291.5\" y=\"-156.8\" font-family=\"Times,serif\" font-size=\"14.00\">&lt;xml&#45;close&#45;tag&gt;</text>\n",
       "</g>\n",
       "<!-- 1&#45;&gt;14 -->\n",
       "<g id=\"edge14\" class=\"edge\">\n",
       "<title>1&#45;&gt;14</title>\n",
       "<path fill=\"none\" stroke=\"black\" d=\"M183.1,-203.99C204.11,-195.76 240.55,-181.47 265.33,-171.76\"/>\n",
       "<polygon fill=\"black\" stroke=\"black\" points=\"266.8,-174.94 274.83,-168.03 264.24,-168.42 266.8,-174.94\"/>\n",
       "</g>\n",
       "<!-- 3 -->\n",
       "<g id=\"node4\" class=\"node\">\n",
       "<title>3</title>\n",
       "<text text-anchor=\"middle\" x=\"4.5\" y=\"-105.8\" font-family=\"Times,serif\" font-size=\"14.00\">&lt;</text>\n",
       "</g>\n",
       "<!-- 2&#45;&gt;3 -->\n",
       "<g id=\"edge3\" class=\"edge\">\n",
       "<title>2&#45;&gt;3</title>\n",
       "<path fill=\"none\" stroke=\"black\" d=\"M52.71,-152.69C43.42,-144.55 27.76,-130.85 16.81,-121.28\"/>\n",
       "<polygon fill=\"black\" stroke=\"black\" points=\"19.09,-118.62 9.26,-114.67 14.48,-123.89 19.09,-118.62\"/>\n",
       "</g>\n",
       "<!-- 4 -->\n",
       "<g id=\"node5\" class=\"node\">\n",
       "<title>4</title>\n",
       "<text text-anchor=\"middle\" x=\"41.5\" y=\"-105.8\" font-family=\"Times,serif\" font-size=\"14.00\">&lt;id&gt;</text>\n",
       "</g>\n",
       "<!-- 2&#45;&gt;4 -->\n",
       "<g id=\"edge4\" class=\"edge\">\n",
       "<title>2&#45;&gt;4</title>\n",
       "<path fill=\"none\" stroke=\"black\" d=\"M57.86,-152.69C55.28,-146.03 51.25,-135.65 47.84,-126.85\"/>\n",
       "<polygon fill=\"black\" stroke=\"black\" points=\"51,-125.31 44.12,-117.26 44.47,-127.84 51,-125.31\"/>\n",
       "</g>\n",
       "<!-- 6 -->\n",
       "<g id=\"node7\" class=\"node\">\n",
       "<title>6</title>\n",
       "<text text-anchor=\"middle\" x=\"78.5\" y=\"-105.8\" font-family=\"Times,serif\" font-size=\"14.00\">&gt;</text>\n",
       "</g>\n",
       "<!-- 2&#45;&gt;6 -->\n",
       "<g id=\"edge6\" class=\"edge\">\n",
       "<title>2&#45;&gt;6</title>\n",
       "<path fill=\"none\" stroke=\"black\" d=\"M63,-152.69C65.45,-146.03 69.26,-135.65 72.49,-126.85\"/>\n",
       "<polygon fill=\"black\" stroke=\"black\" points=\"75.86,-127.85 76.02,-117.26 69.28,-125.44 75.86,-127.85\"/>\n",
       "</g>\n",
       "<!-- 5 -->\n",
       "<g id=\"node6\" class=\"node\">\n",
       "<title>5</title>\n",
       "<text text-anchor=\"middle\" x=\"41.5\" y=\"-54.8\" font-family=\"Times,serif\" font-size=\"14.00\">html</text>\n",
       "</g>\n",
       "<!-- 4&#45;&gt;5 -->\n",
       "<g id=\"edge5\" class=\"edge\">\n",
       "<title>4&#45;&gt;5</title>\n",
       "<path fill=\"none\" stroke=\"black\" d=\"M41.5,-101.69C41.5,-95.18 41.5,-85.1 41.5,-76.43\"/>\n",
       "<polygon fill=\"black\" stroke=\"black\" points=\"45,-76.26 41.5,-66.26 38,-76.26 45,-76.26\"/>\n",
       "</g>\n",
       "<!-- 8 -->\n",
       "<g id=\"node9\" class=\"node\">\n",
       "<title>8</title>\n",
       "<text text-anchor=\"middle\" x=\"133.5\" y=\"-105.8\" font-family=\"Times,serif\" font-size=\"14.00\">&lt;xml&#45;tree&gt;</text>\n",
       "</g>\n",
       "<!-- 7&#45;&gt;8 -->\n",
       "<g id=\"edge8\" class=\"edge\">\n",
       "<title>7&#45;&gt;8</title>\n",
       "<path fill=\"none\" stroke=\"black\" d=\"M161.91,-152.69C157.23,-145.74 149.82,-134.73 143.73,-125.7\"/>\n",
       "<polygon fill=\"black\" stroke=\"black\" points=\"146.54,-123.59 138.05,-117.26 140.73,-127.5 146.54,-123.59\"/>\n",
       "</g>\n",
       "<!-- 11 -->\n",
       "<g id=\"node12\" class=\"node\">\n",
       "<title>11</title>\n",
       "<text text-anchor=\"middle\" x=\"215.5\" y=\"-105.8\" font-family=\"Times,serif\" font-size=\"14.00\">&lt;xml&#45;tree&gt;</text>\n",
       "</g>\n",
       "<!-- 7&#45;&gt;11 -->\n",
       "<g id=\"edge11\" class=\"edge\">\n",
       "<title>7&#45;&gt;11</title>\n",
       "<path fill=\"none\" stroke=\"black\" d=\"M173.31,-152.69C180.55,-145.45 192.21,-133.79 201.43,-124.57\"/>\n",
       "<polygon fill=\"black\" stroke=\"black\" points=\"204.15,-126.8 208.74,-117.26 199.2,-121.85 204.15,-126.8\"/>\n",
       "</g>\n",
       "<!-- 9 -->\n",
       "<g id=\"node10\" class=\"node\">\n",
       "<title>9</title>\n",
       "<text text-anchor=\"middle\" x=\"133.5\" y=\"-54.8\" font-family=\"Times,serif\" font-size=\"14.00\">&lt;text&gt;</text>\n",
       "</g>\n",
       "<!-- 8&#45;&gt;9 -->\n",
       "<g id=\"edge9\" class=\"edge\">\n",
       "<title>8&#45;&gt;9</title>\n",
       "<path fill=\"none\" stroke=\"black\" d=\"M133.5,-101.69C133.5,-95.18 133.5,-85.1 133.5,-76.43\"/>\n",
       "<polygon fill=\"black\" stroke=\"black\" points=\"137,-76.26 133.5,-66.26 130,-76.26 137,-76.26\"/>\n",
       "</g>\n",
       "<!-- 10 -->\n",
       "<g id=\"node11\" class=\"node\">\n",
       "<title>10</title>\n",
       "<text text-anchor=\"middle\" x=\"133.5\" y=\"-3.8\" font-family=\"Times,serif\" font-size=\"14.00\">Tex</text>\n",
       "</g>\n",
       "<!-- 9&#45;&gt;10 -->\n",
       "<g id=\"edge10\" class=\"edge\">\n",
       "<title>9&#45;&gt;10</title>\n",
       "<path fill=\"none\" stroke=\"black\" d=\"M133.5,-50.69C133.5,-44.18 133.5,-34.1 133.5,-25.43\"/>\n",
       "<polygon fill=\"black\" stroke=\"black\" points=\"137,-25.26 133.5,-15.26 130,-25.26 137,-25.26\"/>\n",
       "</g>\n",
       "<!-- 12 -->\n",
       "<g id=\"node13\" class=\"node\">\n",
       "<title>12</title>\n",
       "<text text-anchor=\"middle\" x=\"215.5\" y=\"-54.8\" font-family=\"Times,serif\" font-size=\"14.00\">&lt;text&gt;</text>\n",
       "</g>\n",
       "<!-- 11&#45;&gt;12 -->\n",
       "<g id=\"edge12\" class=\"edge\">\n",
       "<title>11&#45;&gt;12</title>\n",
       "<path fill=\"none\" stroke=\"black\" d=\"M215.5,-101.69C215.5,-95.18 215.5,-85.1 215.5,-76.43\"/>\n",
       "<polygon fill=\"black\" stroke=\"black\" points=\"219,-76.26 215.5,-66.26 212,-76.26 219,-76.26\"/>\n",
       "</g>\n",
       "<!-- 13 -->\n",
       "<g id=\"node14\" class=\"node\">\n",
       "<title>13</title>\n",
       "<text text-anchor=\"middle\" x=\"215.5\" y=\"-3.8\" font-family=\"Times,serif\" font-size=\"14.00\">t</text>\n",
       "</g>\n",
       "<!-- 12&#45;&gt;13 -->\n",
       "<g id=\"edge13\" class=\"edge\">\n",
       "<title>12&#45;&gt;13</title>\n",
       "<path fill=\"none\" stroke=\"black\" d=\"M215.5,-50.69C215.5,-44.18 215.5,-34.1 215.5,-25.43\"/>\n",
       "<polygon fill=\"black\" stroke=\"black\" points=\"219,-25.26 215.5,-15.26 212,-25.26 219,-25.26\"/>\n",
       "</g>\n",
       "<!-- 15 -->\n",
       "<g id=\"node16\" class=\"node\">\n",
       "<title>15</title>\n",
       "<text text-anchor=\"middle\" x=\"272.5\" y=\"-105.8\" font-family=\"Times,serif\" font-size=\"14.00\">&lt;/</text>\n",
       "</g>\n",
       "<!-- 14&#45;&gt;15 -->\n",
       "<g id=\"edge15\" class=\"edge\">\n",
       "<title>14&#45;&gt;15</title>\n",
       "<path fill=\"none\" stroke=\"black\" d=\"M288.86,-152.69C286.28,-146.03 282.25,-135.65 278.84,-126.85\"/>\n",
       "<polygon fill=\"black\" stroke=\"black\" points=\"282,-125.31 275.12,-117.26 275.47,-127.84 282,-125.31\"/>\n",
       "</g>\n",
       "<!-- 16 -->\n",
       "<g id=\"node17\" class=\"node\">\n",
       "<title>16</title>\n",
       "<text text-anchor=\"middle\" x=\"311.5\" y=\"-105.8\" font-family=\"Times,serif\" font-size=\"14.00\">&lt;id&gt;</text>\n",
       "</g>\n",
       "<!-- 14&#45;&gt;16 -->\n",
       "<g id=\"edge16\" class=\"edge\">\n",
       "<title>14&#45;&gt;16</title>\n",
       "<path fill=\"none\" stroke=\"black\" d=\"M294.28,-152.69C297.03,-145.96 301.33,-135.42 304.95,-126.56\"/>\n",
       "<polygon fill=\"black\" stroke=\"black\" points=\"308.2,-127.84 308.74,-117.26 301.72,-125.19 308.2,-127.84\"/>\n",
       "</g>\n",
       "<!-- 18 -->\n",
       "<g id=\"node19\" class=\"node\">\n",
       "<title>18</title>\n",
       "<text text-anchor=\"middle\" x=\"348.5\" y=\"-105.8\" font-family=\"Times,serif\" font-size=\"14.00\">&gt;</text>\n",
       "</g>\n",
       "<!-- 14&#45;&gt;18 -->\n",
       "<g id=\"edge18\" class=\"edge\">\n",
       "<title>14&#45;&gt;18</title>\n",
       "<path fill=\"none\" stroke=\"black\" d=\"M299.43,-152.69C308.98,-144.47 325.15,-130.57 336.3,-120.98\"/>\n",
       "<polygon fill=\"black\" stroke=\"black\" points=\"338.65,-123.58 343.95,-114.41 334.08,-118.28 338.65,-123.58\"/>\n",
       "</g>\n",
       "<!-- 17 -->\n",
       "<g id=\"node18\" class=\"node\">\n",
       "<title>17</title>\n",
       "<text text-anchor=\"middle\" x=\"311.5\" y=\"-54.8\" font-family=\"Times,serif\" font-size=\"14.00\">html</text>\n",
       "</g>\n",
       "<!-- 16&#45;&gt;17 -->\n",
       "<g id=\"edge17\" class=\"edge\">\n",
       "<title>16&#45;&gt;17</title>\n",
       "<path fill=\"none\" stroke=\"black\" d=\"M311.5,-101.69C311.5,-95.18 311.5,-85.1 311.5,-76.43\"/>\n",
       "<polygon fill=\"black\" stroke=\"black\" points=\"315,-76.26 311.5,-66.26 308,-76.26 315,-76.26\"/>\n",
       "</g>\n",
       "</g>\n",
       "</svg>\n"
      ],
      "text/plain": [
       "<graphviz.graphs.Digraph at 0x154483df0>"
      ]
     },
     "metadata": {},
     "output_type": "display_data"
    },
    {
     "data": {
      "image/svg+xml": [
       "<?xml version=\"1.0\" encoding=\"UTF-8\" standalone=\"no\"?>\n",
       "<!DOCTYPE svg PUBLIC \"-//W3C//DTD SVG 1.1//EN\"\n",
       " \"http://www.w3.org/Graphics/SVG/1.1/DTD/svg11.dtd\">\n",
       "<!-- Generated by graphviz version 3.0.0 (20220226.1711)\n",
       " -->\n",
       "<!-- Pages: 1 -->\n",
       "<svg width=\"381pt\" height=\"329pt\"\n",
       " viewBox=\"0.00 0.00 381.00 329.00\" xmlns=\"http://www.w3.org/2000/svg\" xmlns:xlink=\"http://www.w3.org/1999/xlink\">\n",
       "<g id=\"graph0\" class=\"graph\" transform=\"scale(1 1) rotate(0) translate(4 325)\">\n",
       "<polygon fill=\"white\" stroke=\"transparent\" points=\"-4,4 -4,-325 377,-325 377,4 -4,4\"/>\n",
       "<!-- 0 -->\n",
       "<g id=\"node1\" class=\"node\">\n",
       "<title>0</title>\n",
       "<text text-anchor=\"middle\" x=\"180.5\" y=\"-309.8\" font-family=\"Times,serif\" font-size=\"14.00\">&lt;start&gt;</text>\n",
       "</g>\n",
       "<!-- 1 -->\n",
       "<g id=\"node2\" class=\"node\">\n",
       "<title>1</title>\n",
       "<text text-anchor=\"middle\" x=\"180.5\" y=\"-258.8\" font-family=\"Times,serif\" font-size=\"14.00\">&lt;xml&#45;tree&gt;</text>\n",
       "</g>\n",
       "<!-- 0&#45;&gt;1 -->\n",
       "<g id=\"edge1\" class=\"edge\">\n",
       "<title>0&#45;&gt;1</title>\n",
       "<path fill=\"none\" stroke=\"black\" d=\"M180.5,-305.69C180.5,-299.18 180.5,-289.1 180.5,-280.43\"/>\n",
       "<polygon fill=\"black\" stroke=\"black\" points=\"184,-280.26 180.5,-270.26 177,-280.26 184,-280.26\"/>\n",
       "</g>\n",
       "<!-- 2 -->\n",
       "<g id=\"node3\" class=\"node\">\n",
       "<title>2</title>\n",
       "<text text-anchor=\"middle\" x=\"68.5\" y=\"-207.8\" font-family=\"Times,serif\" font-size=\"14.00\">&lt;xml&#45;open&#45;tag&gt;</text>\n",
       "</g>\n",
       "<!-- 1&#45;&gt;2 -->\n",
       "<g id=\"edge2\" class=\"edge\">\n",
       "<title>1&#45;&gt;2</title>\n",
       "<path fill=\"none\" stroke=\"black\" d=\"M165.4,-254.89C146.75,-246.74 114.82,-232.77 92.74,-223.1\"/>\n",
       "<polygon fill=\"black\" stroke=\"black\" points=\"93.93,-219.81 83.37,-219 91.12,-226.22 93.93,-219.81\"/>\n",
       "</g>\n",
       "<!-- 7 -->\n",
       "<g id=\"node8\" class=\"node\">\n",
       "<title>7</title>\n",
       "<text text-anchor=\"middle\" x=\"180.5\" y=\"-207.8\" font-family=\"Times,serif\" font-size=\"14.00\">&lt;xml&#45;tree&gt;</text>\n",
       "</g>\n",
       "<!-- 1&#45;&gt;7 -->\n",
       "<g id=\"edge7\" class=\"edge\">\n",
       "<title>1&#45;&gt;7</title>\n",
       "<path fill=\"none\" stroke=\"black\" d=\"M180.5,-254.69C180.5,-248.18 180.5,-238.1 180.5,-229.43\"/>\n",
       "<polygon fill=\"black\" stroke=\"black\" points=\"184,-229.26 180.5,-219.26 177,-229.26 184,-229.26\"/>\n",
       "</g>\n",
       "<!-- 18 -->\n",
       "<g id=\"node19\" class=\"node\">\n",
       "<title>18</title>\n",
       "<text text-anchor=\"middle\" x=\"311.5\" y=\"-207.8\" font-family=\"Times,serif\" font-size=\"14.00\">&lt;xml&#45;close&#45;tag&gt;</text>\n",
       "</g>\n",
       "<!-- 1&#45;&gt;18 -->\n",
       "<g id=\"edge18\" class=\"edge\">\n",
       "<title>1&#45;&gt;18</title>\n",
       "<path fill=\"none\" stroke=\"black\" d=\"M197.9,-254.99C220.02,-246.72 258.45,-232.34 284.42,-222.63\"/>\n",
       "<polygon fill=\"black\" stroke=\"black\" points=\"285.89,-225.82 294.03,-219.03 283.44,-219.26 285.89,-225.82\"/>\n",
       "</g>\n",
       "<!-- 3 -->\n",
       "<g id=\"node4\" class=\"node\">\n",
       "<title>3</title>\n",
       "<text text-anchor=\"middle\" x=\"4.5\" y=\"-156.8\" font-family=\"Times,serif\" font-size=\"14.00\">&lt;</text>\n",
       "</g>\n",
       "<!-- 2&#45;&gt;3 -->\n",
       "<g id=\"edge3\" class=\"edge\">\n",
       "<title>2&#45;&gt;3</title>\n",
       "<path fill=\"none\" stroke=\"black\" d=\"M59.87,-203.89C48.88,-195.48 29.82,-180.89 17.18,-171.21\"/>\n",
       "<polygon fill=\"black\" stroke=\"black\" points=\"19.08,-168.25 9.01,-164.95 14.82,-173.81 19.08,-168.25\"/>\n",
       "</g>\n",
       "<!-- 4 -->\n",
       "<g id=\"node5\" class=\"node\">\n",
       "<title>4</title>\n",
       "<text text-anchor=\"middle\" x=\"41.5\" y=\"-156.8\" font-family=\"Times,serif\" font-size=\"14.00\">&lt;id&gt;</text>\n",
       "</g>\n",
       "<!-- 2&#45;&gt;4 -->\n",
       "<g id=\"edge4\" class=\"edge\">\n",
       "<title>2&#45;&gt;4</title>\n",
       "<path fill=\"none\" stroke=\"black\" d=\"M64.75,-203.69C61,-196.88 55.1,-186.19 50.19,-177.27\"/>\n",
       "<polygon fill=\"black\" stroke=\"black\" points=\"53.11,-175.32 45.22,-168.26 46.98,-178.7 53.11,-175.32\"/>\n",
       "</g>\n",
       "<!-- 6 -->\n",
       "<g id=\"node7\" class=\"node\">\n",
       "<title>6</title>\n",
       "<text text-anchor=\"middle\" x=\"78.5\" y=\"-156.8\" font-family=\"Times,serif\" font-size=\"14.00\">&gt;</text>\n",
       "</g>\n",
       "<!-- 2&#45;&gt;6 -->\n",
       "<g id=\"edge6\" class=\"edge\">\n",
       "<title>2&#45;&gt;6</title>\n",
       "<path fill=\"none\" stroke=\"black\" d=\"M69.89,-203.69C71.23,-197.1 73.32,-186.87 75.1,-178.14\"/>\n",
       "<polygon fill=\"black\" stroke=\"black\" points=\"78.55,-178.75 77.12,-168.26 71.69,-177.35 78.55,-178.75\"/>\n",
       "</g>\n",
       "<!-- 5 -->\n",
       "<g id=\"node6\" class=\"node\">\n",
       "<title>5</title>\n",
       "<text text-anchor=\"middle\" x=\"31.5\" y=\"-105.8\" font-family=\"Times,serif\" font-size=\"14.00\">html</text>\n",
       "</g>\n",
       "<!-- 4&#45;&gt;5 -->\n",
       "<g id=\"edge5\" class=\"edge\">\n",
       "<title>4&#45;&gt;5</title>\n",
       "<path fill=\"none\" stroke=\"black\" d=\"M40.11,-152.69C38.77,-146.1 36.68,-135.87 34.9,-127.14\"/>\n",
       "<polygon fill=\"black\" stroke=\"black\" points=\"38.31,-126.35 32.88,-117.26 31.45,-127.75 38.31,-126.35\"/>\n",
       "</g>\n",
       "<!-- 8 -->\n",
       "<g id=\"node9\" class=\"node\">\n",
       "<title>8</title>\n",
       "<text text-anchor=\"middle\" x=\"153.5\" y=\"-156.8\" font-family=\"Times,serif\" font-size=\"14.00\">&lt;xml&#45;tree&gt;</text>\n",
       "</g>\n",
       "<!-- 7&#45;&gt;8 -->\n",
       "<g id=\"edge8\" class=\"edge\">\n",
       "<title>7&#45;&gt;8</title>\n",
       "<path fill=\"none\" stroke=\"black\" d=\"M176.75,-203.69C173,-196.88 167.1,-186.19 162.19,-177.27\"/>\n",
       "<polygon fill=\"black\" stroke=\"black\" points=\"165.11,-175.32 157.22,-168.26 158.98,-178.7 165.11,-175.32\"/>\n",
       "</g>\n",
       "<!-- 15 -->\n",
       "<g id=\"node16\" class=\"node\">\n",
       "<title>15</title>\n",
       "<text text-anchor=\"middle\" x=\"235.5\" y=\"-156.8\" font-family=\"Times,serif\" font-size=\"14.00\">&lt;xml&#45;tree&gt;</text>\n",
       "</g>\n",
       "<!-- 7&#45;&gt;15 -->\n",
       "<g id=\"edge15\" class=\"edge\">\n",
       "<title>7&#45;&gt;15</title>\n",
       "<path fill=\"none\" stroke=\"black\" d=\"M188.15,-203.69C196.44,-196.3 209.89,-184.32 220.34,-175.01\"/>\n",
       "<polygon fill=\"black\" stroke=\"black\" points=\"222.78,-177.52 227.92,-168.26 218.12,-172.29 222.78,-177.52\"/>\n",
       "</g>\n",
       "<!-- 9 -->\n",
       "<g id=\"node10\" class=\"node\">\n",
       "<title>9</title>\n",
       "<text text-anchor=\"middle\" x=\"94.5\" y=\"-105.8\" font-family=\"Times,serif\" font-size=\"14.00\">&lt;xml&#45;tree&gt;</text>\n",
       "</g>\n",
       "<!-- 8&#45;&gt;9 -->\n",
       "<g id=\"edge9\" class=\"edge\">\n",
       "<title>8&#45;&gt;9</title>\n",
       "<path fill=\"none\" stroke=\"black\" d=\"M145.3,-152.69C136.31,-145.23 121.69,-133.08 110.44,-123.73\"/>\n",
       "<polygon fill=\"black\" stroke=\"black\" points=\"112.56,-120.95 102.63,-117.26 108.09,-126.34 112.56,-120.95\"/>\n",
       "</g>\n",
       "<!-- 12 -->\n",
       "<g id=\"node13\" class=\"node\">\n",
       "<title>12</title>\n",
       "<text text-anchor=\"middle\" x=\"176.5\" y=\"-105.8\" font-family=\"Times,serif\" font-size=\"14.00\">&lt;xml&#45;tree&gt;</text>\n",
       "</g>\n",
       "<!-- 8&#45;&gt;12 -->\n",
       "<g id=\"edge12\" class=\"edge\">\n",
       "<title>8&#45;&gt;12</title>\n",
       "<path fill=\"none\" stroke=\"black\" d=\"M156.7,-152.69C159.86,-145.96 164.8,-135.42 168.96,-126.56\"/>\n",
       "<polygon fill=\"black\" stroke=\"black\" points=\"172.25,-127.79 173.33,-117.26 165.91,-124.82 172.25,-127.79\"/>\n",
       "</g>\n",
       "<!-- 10 -->\n",
       "<g id=\"node11\" class=\"node\">\n",
       "<title>10</title>\n",
       "<text text-anchor=\"middle\" x=\"94.5\" y=\"-54.8\" font-family=\"Times,serif\" font-size=\"14.00\">&lt;text&gt;</text>\n",
       "</g>\n",
       "<!-- 9&#45;&gt;10 -->\n",
       "<g id=\"edge10\" class=\"edge\">\n",
       "<title>9&#45;&gt;10</title>\n",
       "<path fill=\"none\" stroke=\"black\" d=\"M94.5,-101.69C94.5,-95.18 94.5,-85.1 94.5,-76.43\"/>\n",
       "<polygon fill=\"black\" stroke=\"black\" points=\"98,-76.26 94.5,-66.26 91,-76.26 98,-76.26\"/>\n",
       "</g>\n",
       "<!-- 11 -->\n",
       "<g id=\"node12\" class=\"node\">\n",
       "<title>11</title>\n",
       "<text text-anchor=\"middle\" x=\"94.5\" y=\"-3.8\" font-family=\"Times,serif\" font-size=\"14.00\">T</text>\n",
       "</g>\n",
       "<!-- 10&#45;&gt;11 -->\n",
       "<g id=\"edge11\" class=\"edge\">\n",
       "<title>10&#45;&gt;11</title>\n",
       "<path fill=\"none\" stroke=\"black\" d=\"M94.5,-50.69C94.5,-44.18 94.5,-34.1 94.5,-25.43\"/>\n",
       "<polygon fill=\"black\" stroke=\"black\" points=\"98,-25.26 94.5,-15.26 91,-25.26 98,-25.26\"/>\n",
       "</g>\n",
       "<!-- 13 -->\n",
       "<g id=\"node14\" class=\"node\">\n",
       "<title>13</title>\n",
       "<text text-anchor=\"middle\" x=\"176.5\" y=\"-54.8\" font-family=\"Times,serif\" font-size=\"14.00\">&lt;text&gt;</text>\n",
       "</g>\n",
       "<!-- 12&#45;&gt;13 -->\n",
       "<g id=\"edge13\" class=\"edge\">\n",
       "<title>12&#45;&gt;13</title>\n",
       "<path fill=\"none\" stroke=\"black\" d=\"M176.5,-101.69C176.5,-95.18 176.5,-85.1 176.5,-76.43\"/>\n",
       "<polygon fill=\"black\" stroke=\"black\" points=\"180,-76.26 176.5,-66.26 173,-76.26 180,-76.26\"/>\n",
       "</g>\n",
       "<!-- 14 -->\n",
       "<g id=\"node15\" class=\"node\">\n",
       "<title>14</title>\n",
       "<text text-anchor=\"middle\" x=\"176.5\" y=\"-3.8\" font-family=\"Times,serif\" font-size=\"14.00\">ex</text>\n",
       "</g>\n",
       "<!-- 13&#45;&gt;14 -->\n",
       "<g id=\"edge14\" class=\"edge\">\n",
       "<title>13&#45;&gt;14</title>\n",
       "<path fill=\"none\" stroke=\"black\" d=\"M176.5,-50.69C176.5,-44.18 176.5,-34.1 176.5,-25.43\"/>\n",
       "<polygon fill=\"black\" stroke=\"black\" points=\"180,-25.26 176.5,-15.26 173,-25.26 180,-25.26\"/>\n",
       "</g>\n",
       "<!-- 16 -->\n",
       "<g id=\"node17\" class=\"node\">\n",
       "<title>16</title>\n",
       "<text text-anchor=\"middle\" x=\"245.5\" y=\"-105.8\" font-family=\"Times,serif\" font-size=\"14.00\">&lt;text&gt;</text>\n",
       "</g>\n",
       "<!-- 15&#45;&gt;16 -->\n",
       "<g id=\"edge16\" class=\"edge\">\n",
       "<title>15&#45;&gt;16</title>\n",
       "<path fill=\"none\" stroke=\"black\" d=\"M236.89,-152.69C238.23,-146.1 240.32,-135.87 242.1,-127.14\"/>\n",
       "<polygon fill=\"black\" stroke=\"black\" points=\"245.55,-127.75 244.12,-117.26 238.69,-126.35 245.55,-127.75\"/>\n",
       "</g>\n",
       "<!-- 17 -->\n",
       "<g id=\"node18\" class=\"node\">\n",
       "<title>17</title>\n",
       "<text text-anchor=\"middle\" x=\"245.5\" y=\"-54.8\" font-family=\"Times,serif\" font-size=\"14.00\">t</text>\n",
       "</g>\n",
       "<!-- 16&#45;&gt;17 -->\n",
       "<g id=\"edge17\" class=\"edge\">\n",
       "<title>16&#45;&gt;17</title>\n",
       "<path fill=\"none\" stroke=\"black\" d=\"M245.5,-101.69C245.5,-95.18 245.5,-85.1 245.5,-76.43\"/>\n",
       "<polygon fill=\"black\" stroke=\"black\" points=\"249,-76.26 245.5,-66.26 242,-76.26 249,-76.26\"/>\n",
       "</g>\n",
       "<!-- 19 -->\n",
       "<g id=\"node20\" class=\"node\">\n",
       "<title>19</title>\n",
       "<text text-anchor=\"middle\" x=\"292.5\" y=\"-156.8\" font-family=\"Times,serif\" font-size=\"14.00\">&lt;/</text>\n",
       "</g>\n",
       "<!-- 18&#45;&gt;19 -->\n",
       "<g id=\"edge19\" class=\"edge\">\n",
       "<title>18&#45;&gt;19</title>\n",
       "<path fill=\"none\" stroke=\"black\" d=\"M308.86,-203.69C306.28,-197.03 302.25,-186.65 298.84,-177.85\"/>\n",
       "<polygon fill=\"black\" stroke=\"black\" points=\"302,-176.31 295.12,-168.26 295.47,-178.84 302,-176.31\"/>\n",
       "</g>\n",
       "<!-- 20 -->\n",
       "<g id=\"node21\" class=\"node\">\n",
       "<title>20</title>\n",
       "<text text-anchor=\"middle\" x=\"331.5\" y=\"-156.8\" font-family=\"Times,serif\" font-size=\"14.00\">&lt;id&gt;</text>\n",
       "</g>\n",
       "<!-- 18&#45;&gt;20 -->\n",
       "<g id=\"edge20\" class=\"edge\">\n",
       "<title>18&#45;&gt;20</title>\n",
       "<path fill=\"none\" stroke=\"black\" d=\"M314.28,-203.69C317.03,-196.96 321.33,-186.42 324.95,-177.56\"/>\n",
       "<polygon fill=\"black\" stroke=\"black\" points=\"328.2,-178.84 328.74,-168.26 321.72,-176.19 328.2,-178.84\"/>\n",
       "</g>\n",
       "<!-- 22 -->\n",
       "<g id=\"node23\" class=\"node\">\n",
       "<title>22</title>\n",
       "<text text-anchor=\"middle\" x=\"368.5\" y=\"-156.8\" font-family=\"Times,serif\" font-size=\"14.00\">&gt;</text>\n",
       "</g>\n",
       "<!-- 18&#45;&gt;22 -->\n",
       "<g id=\"edge22\" class=\"edge\">\n",
       "<title>18&#45;&gt;22</title>\n",
       "<path fill=\"none\" stroke=\"black\" d=\"M319.43,-203.69C328.98,-195.47 345.15,-181.57 356.3,-171.98\"/>\n",
       "<polygon fill=\"black\" stroke=\"black\" points=\"358.65,-174.58 363.95,-165.41 354.08,-169.28 358.65,-174.58\"/>\n",
       "</g>\n",
       "<!-- 21 -->\n",
       "<g id=\"node22\" class=\"node\">\n",
       "<title>21</title>\n",
       "<text text-anchor=\"middle\" x=\"331.5\" y=\"-105.8\" font-family=\"Times,serif\" font-size=\"14.00\">html</text>\n",
       "</g>\n",
       "<!-- 20&#45;&gt;21 -->\n",
       "<g id=\"edge21\" class=\"edge\">\n",
       "<title>20&#45;&gt;21</title>\n",
       "<path fill=\"none\" stroke=\"black\" d=\"M331.5,-152.69C331.5,-146.18 331.5,-136.1 331.5,-127.43\"/>\n",
       "<polygon fill=\"black\" stroke=\"black\" points=\"335,-127.26 331.5,-117.26 328,-127.26 335,-127.26\"/>\n",
       "</g>\n",
       "</g>\n",
       "</svg>\n"
      ],
      "text/plain": [
       "<graphviz.graphs.Digraph at 0x154483a30>"
      ]
     },
     "metadata": {},
     "output_type": "display_data"
    },
    {
     "data": {
      "image/svg+xml": [
       "<?xml version=\"1.0\" encoding=\"UTF-8\" standalone=\"no\"?>\n",
       "<!DOCTYPE svg PUBLIC \"-//W3C//DTD SVG 1.1//EN\"\n",
       " \"http://www.w3.org/Graphics/SVG/1.1/DTD/svg11.dtd\">\n",
       "<!-- Generated by graphviz version 3.0.0 (20220226.1711)\n",
       " -->\n",
       "<!-- Pages: 1 -->\n",
       "<svg width=\"381pt\" height=\"329pt\"\n",
       " viewBox=\"0.00 0.00 381.00 329.00\" xmlns=\"http://www.w3.org/2000/svg\" xmlns:xlink=\"http://www.w3.org/1999/xlink\">\n",
       "<g id=\"graph0\" class=\"graph\" transform=\"scale(1 1) rotate(0) translate(4 325)\">\n",
       "<polygon fill=\"white\" stroke=\"transparent\" points=\"-4,4 -4,-325 377,-325 377,4 -4,4\"/>\n",
       "<!-- 0 -->\n",
       "<g id=\"node1\" class=\"node\">\n",
       "<title>0</title>\n",
       "<text text-anchor=\"middle\" x=\"180.5\" y=\"-309.8\" font-family=\"Times,serif\" font-size=\"14.00\">&lt;start&gt;</text>\n",
       "</g>\n",
       "<!-- 1 -->\n",
       "<g id=\"node2\" class=\"node\">\n",
       "<title>1</title>\n",
       "<text text-anchor=\"middle\" x=\"180.5\" y=\"-258.8\" font-family=\"Times,serif\" font-size=\"14.00\">&lt;xml&#45;tree&gt;</text>\n",
       "</g>\n",
       "<!-- 0&#45;&gt;1 -->\n",
       "<g id=\"edge1\" class=\"edge\">\n",
       "<title>0&#45;&gt;1</title>\n",
       "<path fill=\"none\" stroke=\"black\" d=\"M180.5,-305.69C180.5,-299.18 180.5,-289.1 180.5,-280.43\"/>\n",
       "<polygon fill=\"black\" stroke=\"black\" points=\"184,-280.26 180.5,-270.26 177,-280.26 184,-280.26\"/>\n",
       "</g>\n",
       "<!-- 2 -->\n",
       "<g id=\"node3\" class=\"node\">\n",
       "<title>2</title>\n",
       "<text text-anchor=\"middle\" x=\"68.5\" y=\"-207.8\" font-family=\"Times,serif\" font-size=\"14.00\">&lt;xml&#45;open&#45;tag&gt;</text>\n",
       "</g>\n",
       "<!-- 1&#45;&gt;2 -->\n",
       "<g id=\"edge2\" class=\"edge\">\n",
       "<title>1&#45;&gt;2</title>\n",
       "<path fill=\"none\" stroke=\"black\" d=\"M165.4,-254.89C146.75,-246.74 114.82,-232.77 92.74,-223.1\"/>\n",
       "<polygon fill=\"black\" stroke=\"black\" points=\"93.93,-219.81 83.37,-219 91.12,-226.22 93.93,-219.81\"/>\n",
       "</g>\n",
       "<!-- 7 -->\n",
       "<g id=\"node8\" class=\"node\">\n",
       "<title>7</title>\n",
       "<text text-anchor=\"middle\" x=\"180.5\" y=\"-207.8\" font-family=\"Times,serif\" font-size=\"14.00\">&lt;xml&#45;tree&gt;</text>\n",
       "</g>\n",
       "<!-- 1&#45;&gt;7 -->\n",
       "<g id=\"edge7\" class=\"edge\">\n",
       "<title>1&#45;&gt;7</title>\n",
       "<path fill=\"none\" stroke=\"black\" d=\"M180.5,-254.69C180.5,-248.18 180.5,-238.1 180.5,-229.43\"/>\n",
       "<polygon fill=\"black\" stroke=\"black\" points=\"184,-229.26 180.5,-219.26 177,-229.26 184,-229.26\"/>\n",
       "</g>\n",
       "<!-- 18 -->\n",
       "<g id=\"node19\" class=\"node\">\n",
       "<title>18</title>\n",
       "<text text-anchor=\"middle\" x=\"311.5\" y=\"-207.8\" font-family=\"Times,serif\" font-size=\"14.00\">&lt;xml&#45;close&#45;tag&gt;</text>\n",
       "</g>\n",
       "<!-- 1&#45;&gt;18 -->\n",
       "<g id=\"edge18\" class=\"edge\">\n",
       "<title>1&#45;&gt;18</title>\n",
       "<path fill=\"none\" stroke=\"black\" d=\"M197.9,-254.99C220.02,-246.72 258.45,-232.34 284.42,-222.63\"/>\n",
       "<polygon fill=\"black\" stroke=\"black\" points=\"285.89,-225.82 294.03,-219.03 283.44,-219.26 285.89,-225.82\"/>\n",
       "</g>\n",
       "<!-- 3 -->\n",
       "<g id=\"node4\" class=\"node\">\n",
       "<title>3</title>\n",
       "<text text-anchor=\"middle\" x=\"4.5\" y=\"-156.8\" font-family=\"Times,serif\" font-size=\"14.00\">&lt;</text>\n",
       "</g>\n",
       "<!-- 2&#45;&gt;3 -->\n",
       "<g id=\"edge3\" class=\"edge\">\n",
       "<title>2&#45;&gt;3</title>\n",
       "<path fill=\"none\" stroke=\"black\" d=\"M59.87,-203.89C48.88,-195.48 29.82,-180.89 17.18,-171.21\"/>\n",
       "<polygon fill=\"black\" stroke=\"black\" points=\"19.08,-168.25 9.01,-164.95 14.82,-173.81 19.08,-168.25\"/>\n",
       "</g>\n",
       "<!-- 4 -->\n",
       "<g id=\"node5\" class=\"node\">\n",
       "<title>4</title>\n",
       "<text text-anchor=\"middle\" x=\"41.5\" y=\"-156.8\" font-family=\"Times,serif\" font-size=\"14.00\">&lt;id&gt;</text>\n",
       "</g>\n",
       "<!-- 2&#45;&gt;4 -->\n",
       "<g id=\"edge4\" class=\"edge\">\n",
       "<title>2&#45;&gt;4</title>\n",
       "<path fill=\"none\" stroke=\"black\" d=\"M64.75,-203.69C61,-196.88 55.1,-186.19 50.19,-177.27\"/>\n",
       "<polygon fill=\"black\" stroke=\"black\" points=\"53.11,-175.32 45.22,-168.26 46.98,-178.7 53.11,-175.32\"/>\n",
       "</g>\n",
       "<!-- 6 -->\n",
       "<g id=\"node7\" class=\"node\">\n",
       "<title>6</title>\n",
       "<text text-anchor=\"middle\" x=\"78.5\" y=\"-156.8\" font-family=\"Times,serif\" font-size=\"14.00\">&gt;</text>\n",
       "</g>\n",
       "<!-- 2&#45;&gt;6 -->\n",
       "<g id=\"edge6\" class=\"edge\">\n",
       "<title>2&#45;&gt;6</title>\n",
       "<path fill=\"none\" stroke=\"black\" d=\"M69.89,-203.69C71.23,-197.1 73.32,-186.87 75.1,-178.14\"/>\n",
       "<polygon fill=\"black\" stroke=\"black\" points=\"78.55,-178.75 77.12,-168.26 71.69,-177.35 78.55,-178.75\"/>\n",
       "</g>\n",
       "<!-- 5 -->\n",
       "<g id=\"node6\" class=\"node\">\n",
       "<title>5</title>\n",
       "<text text-anchor=\"middle\" x=\"31.5\" y=\"-105.8\" font-family=\"Times,serif\" font-size=\"14.00\">html</text>\n",
       "</g>\n",
       "<!-- 4&#45;&gt;5 -->\n",
       "<g id=\"edge5\" class=\"edge\">\n",
       "<title>4&#45;&gt;5</title>\n",
       "<path fill=\"none\" stroke=\"black\" d=\"M40.11,-152.69C38.77,-146.1 36.68,-135.87 34.9,-127.14\"/>\n",
       "<polygon fill=\"black\" stroke=\"black\" points=\"38.31,-126.35 32.88,-117.26 31.45,-127.75 38.31,-126.35\"/>\n",
       "</g>\n",
       "<!-- 8 -->\n",
       "<g id=\"node9\" class=\"node\">\n",
       "<title>8</title>\n",
       "<text text-anchor=\"middle\" x=\"153.5\" y=\"-156.8\" font-family=\"Times,serif\" font-size=\"14.00\">&lt;xml&#45;tree&gt;</text>\n",
       "</g>\n",
       "<!-- 7&#45;&gt;8 -->\n",
       "<g id=\"edge8\" class=\"edge\">\n",
       "<title>7&#45;&gt;8</title>\n",
       "<path fill=\"none\" stroke=\"black\" d=\"M176.75,-203.69C173,-196.88 167.1,-186.19 162.19,-177.27\"/>\n",
       "<polygon fill=\"black\" stroke=\"black\" points=\"165.11,-175.32 157.22,-168.26 158.98,-178.7 165.11,-175.32\"/>\n",
       "</g>\n",
       "<!-- 15 -->\n",
       "<g id=\"node16\" class=\"node\">\n",
       "<title>15</title>\n",
       "<text text-anchor=\"middle\" x=\"235.5\" y=\"-156.8\" font-family=\"Times,serif\" font-size=\"14.00\">&lt;xml&#45;tree&gt;</text>\n",
       "</g>\n",
       "<!-- 7&#45;&gt;15 -->\n",
       "<g id=\"edge15\" class=\"edge\">\n",
       "<title>7&#45;&gt;15</title>\n",
       "<path fill=\"none\" stroke=\"black\" d=\"M188.15,-203.69C196.44,-196.3 209.89,-184.32 220.34,-175.01\"/>\n",
       "<polygon fill=\"black\" stroke=\"black\" points=\"222.78,-177.52 227.92,-168.26 218.12,-172.29 222.78,-177.52\"/>\n",
       "</g>\n",
       "<!-- 9 -->\n",
       "<g id=\"node10\" class=\"node\">\n",
       "<title>9</title>\n",
       "<text text-anchor=\"middle\" x=\"94.5\" y=\"-105.8\" font-family=\"Times,serif\" font-size=\"14.00\">&lt;xml&#45;tree&gt;</text>\n",
       "</g>\n",
       "<!-- 8&#45;&gt;9 -->\n",
       "<g id=\"edge9\" class=\"edge\">\n",
       "<title>8&#45;&gt;9</title>\n",
       "<path fill=\"none\" stroke=\"black\" d=\"M145.3,-152.69C136.31,-145.23 121.69,-133.08 110.44,-123.73\"/>\n",
       "<polygon fill=\"black\" stroke=\"black\" points=\"112.56,-120.95 102.63,-117.26 108.09,-126.34 112.56,-120.95\"/>\n",
       "</g>\n",
       "<!-- 12 -->\n",
       "<g id=\"node13\" class=\"node\">\n",
       "<title>12</title>\n",
       "<text text-anchor=\"middle\" x=\"176.5\" y=\"-105.8\" font-family=\"Times,serif\" font-size=\"14.00\">&lt;xml&#45;tree&gt;</text>\n",
       "</g>\n",
       "<!-- 8&#45;&gt;12 -->\n",
       "<g id=\"edge12\" class=\"edge\">\n",
       "<title>8&#45;&gt;12</title>\n",
       "<path fill=\"none\" stroke=\"black\" d=\"M156.7,-152.69C159.86,-145.96 164.8,-135.42 168.96,-126.56\"/>\n",
       "<polygon fill=\"black\" stroke=\"black\" points=\"172.25,-127.79 173.33,-117.26 165.91,-124.82 172.25,-127.79\"/>\n",
       "</g>\n",
       "<!-- 10 -->\n",
       "<g id=\"node11\" class=\"node\">\n",
       "<title>10</title>\n",
       "<text text-anchor=\"middle\" x=\"94.5\" y=\"-54.8\" font-family=\"Times,serif\" font-size=\"14.00\">&lt;text&gt;</text>\n",
       "</g>\n",
       "<!-- 9&#45;&gt;10 -->\n",
       "<g id=\"edge10\" class=\"edge\">\n",
       "<title>9&#45;&gt;10</title>\n",
       "<path fill=\"none\" stroke=\"black\" d=\"M94.5,-101.69C94.5,-95.18 94.5,-85.1 94.5,-76.43\"/>\n",
       "<polygon fill=\"black\" stroke=\"black\" points=\"98,-76.26 94.5,-66.26 91,-76.26 98,-76.26\"/>\n",
       "</g>\n",
       "<!-- 11 -->\n",
       "<g id=\"node12\" class=\"node\">\n",
       "<title>11</title>\n",
       "<text text-anchor=\"middle\" x=\"94.5\" y=\"-3.8\" font-family=\"Times,serif\" font-size=\"14.00\">Te</text>\n",
       "</g>\n",
       "<!-- 10&#45;&gt;11 -->\n",
       "<g id=\"edge11\" class=\"edge\">\n",
       "<title>10&#45;&gt;11</title>\n",
       "<path fill=\"none\" stroke=\"black\" d=\"M94.5,-50.69C94.5,-44.18 94.5,-34.1 94.5,-25.43\"/>\n",
       "<polygon fill=\"black\" stroke=\"black\" points=\"98,-25.26 94.5,-15.26 91,-25.26 98,-25.26\"/>\n",
       "</g>\n",
       "<!-- 13 -->\n",
       "<g id=\"node14\" class=\"node\">\n",
       "<title>13</title>\n",
       "<text text-anchor=\"middle\" x=\"176.5\" y=\"-54.8\" font-family=\"Times,serif\" font-size=\"14.00\">&lt;text&gt;</text>\n",
       "</g>\n",
       "<!-- 12&#45;&gt;13 -->\n",
       "<g id=\"edge13\" class=\"edge\">\n",
       "<title>12&#45;&gt;13</title>\n",
       "<path fill=\"none\" stroke=\"black\" d=\"M176.5,-101.69C176.5,-95.18 176.5,-85.1 176.5,-76.43\"/>\n",
       "<polygon fill=\"black\" stroke=\"black\" points=\"180,-76.26 176.5,-66.26 173,-76.26 180,-76.26\"/>\n",
       "</g>\n",
       "<!-- 14 -->\n",
       "<g id=\"node15\" class=\"node\">\n",
       "<title>14</title>\n",
       "<text text-anchor=\"middle\" x=\"176.5\" y=\"-3.8\" font-family=\"Times,serif\" font-size=\"14.00\">x</text>\n",
       "</g>\n",
       "<!-- 13&#45;&gt;14 -->\n",
       "<g id=\"edge14\" class=\"edge\">\n",
       "<title>13&#45;&gt;14</title>\n",
       "<path fill=\"none\" stroke=\"black\" d=\"M176.5,-50.69C176.5,-44.18 176.5,-34.1 176.5,-25.43\"/>\n",
       "<polygon fill=\"black\" stroke=\"black\" points=\"180,-25.26 176.5,-15.26 173,-25.26 180,-25.26\"/>\n",
       "</g>\n",
       "<!-- 16 -->\n",
       "<g id=\"node17\" class=\"node\">\n",
       "<title>16</title>\n",
       "<text text-anchor=\"middle\" x=\"245.5\" y=\"-105.8\" font-family=\"Times,serif\" font-size=\"14.00\">&lt;text&gt;</text>\n",
       "</g>\n",
       "<!-- 15&#45;&gt;16 -->\n",
       "<g id=\"edge16\" class=\"edge\">\n",
       "<title>15&#45;&gt;16</title>\n",
       "<path fill=\"none\" stroke=\"black\" d=\"M236.89,-152.69C238.23,-146.1 240.32,-135.87 242.1,-127.14\"/>\n",
       "<polygon fill=\"black\" stroke=\"black\" points=\"245.55,-127.75 244.12,-117.26 238.69,-126.35 245.55,-127.75\"/>\n",
       "</g>\n",
       "<!-- 17 -->\n",
       "<g id=\"node18\" class=\"node\">\n",
       "<title>17</title>\n",
       "<text text-anchor=\"middle\" x=\"245.5\" y=\"-54.8\" font-family=\"Times,serif\" font-size=\"14.00\">t</text>\n",
       "</g>\n",
       "<!-- 16&#45;&gt;17 -->\n",
       "<g id=\"edge17\" class=\"edge\">\n",
       "<title>16&#45;&gt;17</title>\n",
       "<path fill=\"none\" stroke=\"black\" d=\"M245.5,-101.69C245.5,-95.18 245.5,-85.1 245.5,-76.43\"/>\n",
       "<polygon fill=\"black\" stroke=\"black\" points=\"249,-76.26 245.5,-66.26 242,-76.26 249,-76.26\"/>\n",
       "</g>\n",
       "<!-- 19 -->\n",
       "<g id=\"node20\" class=\"node\">\n",
       "<title>19</title>\n",
       "<text text-anchor=\"middle\" x=\"292.5\" y=\"-156.8\" font-family=\"Times,serif\" font-size=\"14.00\">&lt;/</text>\n",
       "</g>\n",
       "<!-- 18&#45;&gt;19 -->\n",
       "<g id=\"edge19\" class=\"edge\">\n",
       "<title>18&#45;&gt;19</title>\n",
       "<path fill=\"none\" stroke=\"black\" d=\"M308.86,-203.69C306.28,-197.03 302.25,-186.65 298.84,-177.85\"/>\n",
       "<polygon fill=\"black\" stroke=\"black\" points=\"302,-176.31 295.12,-168.26 295.47,-178.84 302,-176.31\"/>\n",
       "</g>\n",
       "<!-- 20 -->\n",
       "<g id=\"node21\" class=\"node\">\n",
       "<title>20</title>\n",
       "<text text-anchor=\"middle\" x=\"331.5\" y=\"-156.8\" font-family=\"Times,serif\" font-size=\"14.00\">&lt;id&gt;</text>\n",
       "</g>\n",
       "<!-- 18&#45;&gt;20 -->\n",
       "<g id=\"edge20\" class=\"edge\">\n",
       "<title>18&#45;&gt;20</title>\n",
       "<path fill=\"none\" stroke=\"black\" d=\"M314.28,-203.69C317.03,-196.96 321.33,-186.42 324.95,-177.56\"/>\n",
       "<polygon fill=\"black\" stroke=\"black\" points=\"328.2,-178.84 328.74,-168.26 321.72,-176.19 328.2,-178.84\"/>\n",
       "</g>\n",
       "<!-- 22 -->\n",
       "<g id=\"node23\" class=\"node\">\n",
       "<title>22</title>\n",
       "<text text-anchor=\"middle\" x=\"368.5\" y=\"-156.8\" font-family=\"Times,serif\" font-size=\"14.00\">&gt;</text>\n",
       "</g>\n",
       "<!-- 18&#45;&gt;22 -->\n",
       "<g id=\"edge22\" class=\"edge\">\n",
       "<title>18&#45;&gt;22</title>\n",
       "<path fill=\"none\" stroke=\"black\" d=\"M319.43,-203.69C328.98,-195.47 345.15,-181.57 356.3,-171.98\"/>\n",
       "<polygon fill=\"black\" stroke=\"black\" points=\"358.65,-174.58 363.95,-165.41 354.08,-169.28 358.65,-174.58\"/>\n",
       "</g>\n",
       "<!-- 21 -->\n",
       "<g id=\"node22\" class=\"node\">\n",
       "<title>21</title>\n",
       "<text text-anchor=\"middle\" x=\"331.5\" y=\"-105.8\" font-family=\"Times,serif\" font-size=\"14.00\">html</text>\n",
       "</g>\n",
       "<!-- 20&#45;&gt;21 -->\n",
       "<g id=\"edge21\" class=\"edge\">\n",
       "<title>20&#45;&gt;21</title>\n",
       "<path fill=\"none\" stroke=\"black\" d=\"M331.5,-152.69C331.5,-146.18 331.5,-136.1 331.5,-127.43\"/>\n",
       "<polygon fill=\"black\" stroke=\"black\" points=\"335,-127.26 331.5,-117.26 328,-127.26 335,-127.26\"/>\n",
       "</g>\n",
       "</g>\n",
       "</svg>\n"
      ],
      "text/plain": [
       "<graphviz.graphs.Digraph at 0x1545c81c0>"
      ]
     },
     "metadata": {},
     "output_type": "display_data"
    },
    {
     "data": {
      "image/svg+xml": [
       "<?xml version=\"1.0\" encoding=\"UTF-8\" standalone=\"no\"?>\n",
       "<!DOCTYPE svg PUBLIC \"-//W3C//DTD SVG 1.1//EN\"\n",
       " \"http://www.w3.org/Graphics/SVG/1.1/DTD/svg11.dtd\">\n",
       "<!-- Generated by graphviz version 3.0.0 (20220226.1711)\n",
       " -->\n",
       "<!-- Pages: 1 -->\n",
       "<svg width=\"394pt\" height=\"380pt\"\n",
       " viewBox=\"0.00 0.00 393.50 380.00\" xmlns=\"http://www.w3.org/2000/svg\" xmlns:xlink=\"http://www.w3.org/1999/xlink\">\n",
       "<g id=\"graph0\" class=\"graph\" transform=\"scale(1 1) rotate(0) translate(4 376)\">\n",
       "<polygon fill=\"white\" stroke=\"transparent\" points=\"-4,4 -4,-376 389.5,-376 389.5,4 -4,4\"/>\n",
       "<!-- 0 -->\n",
       "<g id=\"node1\" class=\"node\">\n",
       "<title>0</title>\n",
       "<text text-anchor=\"middle\" x=\"193\" y=\"-360.8\" font-family=\"Times,serif\" font-size=\"14.00\">&lt;start&gt;</text>\n",
       "</g>\n",
       "<!-- 1 -->\n",
       "<g id=\"node2\" class=\"node\">\n",
       "<title>1</title>\n",
       "<text text-anchor=\"middle\" x=\"193\" y=\"-309.8\" font-family=\"Times,serif\" font-size=\"14.00\">&lt;xml&#45;tree&gt;</text>\n",
       "</g>\n",
       "<!-- 0&#45;&gt;1 -->\n",
       "<g id=\"edge1\" class=\"edge\">\n",
       "<title>0&#45;&gt;1</title>\n",
       "<path fill=\"none\" stroke=\"black\" d=\"M193,-356.69C193,-350.18 193,-340.1 193,-331.43\"/>\n",
       "<polygon fill=\"black\" stroke=\"black\" points=\"196.5,-331.26 193,-321.26 189.5,-331.26 196.5,-331.26\"/>\n",
       "</g>\n",
       "<!-- 2 -->\n",
       "<g id=\"node3\" class=\"node\">\n",
       "<title>2</title>\n",
       "<text text-anchor=\"middle\" x=\"81\" y=\"-258.8\" font-family=\"Times,serif\" font-size=\"14.00\">&lt;xml&#45;open&#45;tag&gt;</text>\n",
       "</g>\n",
       "<!-- 1&#45;&gt;2 -->\n",
       "<g id=\"edge2\" class=\"edge\">\n",
       "<title>1&#45;&gt;2</title>\n",
       "<path fill=\"none\" stroke=\"black\" d=\"M177.9,-305.89C159.25,-297.74 127.32,-283.77 105.24,-274.1\"/>\n",
       "<polygon fill=\"black\" stroke=\"black\" points=\"106.43,-270.81 95.87,-270 103.62,-277.22 106.43,-270.81\"/>\n",
       "</g>\n",
       "<!-- 7 -->\n",
       "<g id=\"node8\" class=\"node\">\n",
       "<title>7</title>\n",
       "<text text-anchor=\"middle\" x=\"193\" y=\"-258.8\" font-family=\"Times,serif\" font-size=\"14.00\">&lt;xml&#45;tree&gt;</text>\n",
       "</g>\n",
       "<!-- 1&#45;&gt;7 -->\n",
       "<g id=\"edge7\" class=\"edge\">\n",
       "<title>1&#45;&gt;7</title>\n",
       "<path fill=\"none\" stroke=\"black\" d=\"M193,-305.69C193,-299.18 193,-289.1 193,-280.43\"/>\n",
       "<polygon fill=\"black\" stroke=\"black\" points=\"196.5,-280.26 193,-270.26 189.5,-280.26 196.5,-280.26\"/>\n",
       "</g>\n",
       "<!-- 22 -->\n",
       "<g id=\"node23\" class=\"node\">\n",
       "<title>22</title>\n",
       "<text text-anchor=\"middle\" x=\"324\" y=\"-258.8\" font-family=\"Times,serif\" font-size=\"14.00\">&lt;xml&#45;close&#45;tag&gt;</text>\n",
       "</g>\n",
       "<!-- 1&#45;&gt;22 -->\n",
       "<g id=\"edge22\" class=\"edge\">\n",
       "<title>1&#45;&gt;22</title>\n",
       "<path fill=\"none\" stroke=\"black\" d=\"M210.4,-305.99C232.52,-297.72 270.95,-283.34 296.92,-273.63\"/>\n",
       "<polygon fill=\"black\" stroke=\"black\" points=\"298.39,-276.82 306.53,-270.03 295.94,-270.26 298.39,-276.82\"/>\n",
       "</g>\n",
       "<!-- 3 -->\n",
       "<g id=\"node4\" class=\"node\">\n",
       "<title>3</title>\n",
       "<text text-anchor=\"middle\" x=\"17\" y=\"-207.8\" font-family=\"Times,serif\" font-size=\"14.00\">&lt;</text>\n",
       "</g>\n",
       "<!-- 2&#45;&gt;3 -->\n",
       "<g id=\"edge3\" class=\"edge\">\n",
       "<title>2&#45;&gt;3</title>\n",
       "<path fill=\"none\" stroke=\"black\" d=\"M72.37,-254.89C61.38,-246.48 42.32,-231.89 29.68,-222.21\"/>\n",
       "<polygon fill=\"black\" stroke=\"black\" points=\"31.58,-219.25 21.51,-215.95 27.32,-224.81 31.58,-219.25\"/>\n",
       "</g>\n",
       "<!-- 4 -->\n",
       "<g id=\"node5\" class=\"node\">\n",
       "<title>4</title>\n",
       "<text text-anchor=\"middle\" x=\"54\" y=\"-207.8\" font-family=\"Times,serif\" font-size=\"14.00\">&lt;id&gt;</text>\n",
       "</g>\n",
       "<!-- 2&#45;&gt;4 -->\n",
       "<g id=\"edge4\" class=\"edge\">\n",
       "<title>2&#45;&gt;4</title>\n",
       "<path fill=\"none\" stroke=\"black\" d=\"M77.25,-254.69C73.5,-247.88 67.6,-237.19 62.69,-228.27\"/>\n",
       "<polygon fill=\"black\" stroke=\"black\" points=\"65.61,-226.32 57.72,-219.26 59.48,-229.7 65.61,-226.32\"/>\n",
       "</g>\n",
       "<!-- 6 -->\n",
       "<g id=\"node7\" class=\"node\">\n",
       "<title>6</title>\n",
       "<text text-anchor=\"middle\" x=\"91\" y=\"-207.8\" font-family=\"Times,serif\" font-size=\"14.00\">&gt;</text>\n",
       "</g>\n",
       "<!-- 2&#45;&gt;6 -->\n",
       "<g id=\"edge6\" class=\"edge\">\n",
       "<title>2&#45;&gt;6</title>\n",
       "<path fill=\"none\" stroke=\"black\" d=\"M82.39,-254.69C83.73,-248.1 85.82,-237.87 87.6,-229.14\"/>\n",
       "<polygon fill=\"black\" stroke=\"black\" points=\"91.05,-229.75 89.62,-219.26 84.19,-228.35 91.05,-229.75\"/>\n",
       "</g>\n",
       "<!-- 5 -->\n",
       "<g id=\"node6\" class=\"node\">\n",
       "<title>5</title>\n",
       "<text text-anchor=\"middle\" x=\"44\" y=\"-156.8\" font-family=\"Times,serif\" font-size=\"14.00\">html</text>\n",
       "</g>\n",
       "<!-- 4&#45;&gt;5 -->\n",
       "<g id=\"edge5\" class=\"edge\">\n",
       "<title>4&#45;&gt;5</title>\n",
       "<path fill=\"none\" stroke=\"black\" d=\"M52.61,-203.69C51.27,-197.1 49.18,-186.87 47.4,-178.14\"/>\n",
       "<polygon fill=\"black\" stroke=\"black\" points=\"50.81,-177.35 45.38,-168.26 43.95,-178.75 50.81,-177.35\"/>\n",
       "</g>\n",
       "<!-- 8 -->\n",
       "<g id=\"node9\" class=\"node\">\n",
       "<title>8</title>\n",
       "<text text-anchor=\"middle\" x=\"166\" y=\"-207.8\" font-family=\"Times,serif\" font-size=\"14.00\">&lt;xml&#45;tree&gt;</text>\n",
       "</g>\n",
       "<!-- 7&#45;&gt;8 -->\n",
       "<g id=\"edge8\" class=\"edge\">\n",
       "<title>7&#45;&gt;8</title>\n",
       "<path fill=\"none\" stroke=\"black\" d=\"M189.25,-254.69C185.5,-247.88 179.6,-237.19 174.69,-228.27\"/>\n",
       "<polygon fill=\"black\" stroke=\"black\" points=\"177.61,-226.32 169.72,-219.26 171.48,-229.7 177.61,-226.32\"/>\n",
       "</g>\n",
       "<!-- 19 -->\n",
       "<g id=\"node20\" class=\"node\">\n",
       "<title>19</title>\n",
       "<text text-anchor=\"middle\" x=\"248\" y=\"-207.8\" font-family=\"Times,serif\" font-size=\"14.00\">&lt;xml&#45;tree&gt;</text>\n",
       "</g>\n",
       "<!-- 7&#45;&gt;19 -->\n",
       "<g id=\"edge19\" class=\"edge\">\n",
       "<title>7&#45;&gt;19</title>\n",
       "<path fill=\"none\" stroke=\"black\" d=\"M200.65,-254.69C208.94,-247.3 222.39,-235.32 232.84,-226.01\"/>\n",
       "<polygon fill=\"black\" stroke=\"black\" points=\"235.28,-228.52 240.42,-219.26 230.62,-223.29 235.28,-228.52\"/>\n",
       "</g>\n",
       "<!-- 9 -->\n",
       "<g id=\"node10\" class=\"node\">\n",
       "<title>9</title>\n",
       "<text text-anchor=\"middle\" x=\"107\" y=\"-156.8\" font-family=\"Times,serif\" font-size=\"14.00\">&lt;xml&#45;tree&gt;</text>\n",
       "</g>\n",
       "<!-- 8&#45;&gt;9 -->\n",
       "<g id=\"edge9\" class=\"edge\">\n",
       "<title>8&#45;&gt;9</title>\n",
       "<path fill=\"none\" stroke=\"black\" d=\"M157.8,-203.69C148.81,-196.23 134.19,-184.08 122.94,-174.73\"/>\n",
       "<polygon fill=\"black\" stroke=\"black\" points=\"125.06,-171.95 115.13,-168.26 120.59,-177.34 125.06,-171.95\"/>\n",
       "</g>\n",
       "<!-- 16 -->\n",
       "<g id=\"node17\" class=\"node\">\n",
       "<title>16</title>\n",
       "<text text-anchor=\"middle\" x=\"189\" y=\"-156.8\" font-family=\"Times,serif\" font-size=\"14.00\">&lt;xml&#45;tree&gt;</text>\n",
       "</g>\n",
       "<!-- 8&#45;&gt;16 -->\n",
       "<g id=\"edge16\" class=\"edge\">\n",
       "<title>8&#45;&gt;16</title>\n",
       "<path fill=\"none\" stroke=\"black\" d=\"M169.2,-203.69C172.36,-196.96 177.3,-186.42 181.46,-177.56\"/>\n",
       "<polygon fill=\"black\" stroke=\"black\" points=\"184.75,-178.79 185.83,-168.26 178.41,-175.82 184.75,-178.79\"/>\n",
       "</g>\n",
       "<!-- 10 -->\n",
       "<g id=\"node11\" class=\"node\">\n",
       "<title>10</title>\n",
       "<text text-anchor=\"middle\" x=\"32\" y=\"-105.8\" font-family=\"Times,serif\" font-size=\"14.00\">&lt;xml&#45;tree&gt;</text>\n",
       "</g>\n",
       "<!-- 9&#45;&gt;10 -->\n",
       "<g id=\"edge10\" class=\"edge\">\n",
       "<title>9&#45;&gt;10</title>\n",
       "<path fill=\"none\" stroke=\"black\" d=\"M96.89,-152.89C85.08,-145.18 65.3,-132.26 50.68,-122.71\"/>\n",
       "<polygon fill=\"black\" stroke=\"black\" points=\"52.24,-119.54 41.95,-117 48.41,-125.4 52.24,-119.54\"/>\n",
       "</g>\n",
       "<!-- 13 -->\n",
       "<g id=\"node14\" class=\"node\">\n",
       "<title>13</title>\n",
       "<text text-anchor=\"middle\" x=\"114\" y=\"-105.8\" font-family=\"Times,serif\" font-size=\"14.00\">&lt;xml&#45;tree&gt;</text>\n",
       "</g>\n",
       "<!-- 9&#45;&gt;13 -->\n",
       "<g id=\"edge13\" class=\"edge\">\n",
       "<title>9&#45;&gt;13</title>\n",
       "<path fill=\"none\" stroke=\"black\" d=\"M107.97,-152.69C108.9,-146.18 110.34,-136.1 111.58,-127.43\"/>\n",
       "<polygon fill=\"black\" stroke=\"black\" points=\"115.09,-127.65 113.03,-117.26 108.16,-126.66 115.09,-127.65\"/>\n",
       "</g>\n",
       "<!-- 11 -->\n",
       "<g id=\"node12\" class=\"node\">\n",
       "<title>11</title>\n",
       "<text text-anchor=\"middle\" x=\"32\" y=\"-54.8\" font-family=\"Times,serif\" font-size=\"14.00\">&lt;text&gt;</text>\n",
       "</g>\n",
       "<!-- 10&#45;&gt;11 -->\n",
       "<g id=\"edge11\" class=\"edge\">\n",
       "<title>10&#45;&gt;11</title>\n",
       "<path fill=\"none\" stroke=\"black\" d=\"M32,-101.69C32,-95.18 32,-85.1 32,-76.43\"/>\n",
       "<polygon fill=\"black\" stroke=\"black\" points=\"35.5,-76.26 32,-66.26 28.5,-76.26 35.5,-76.26\"/>\n",
       "</g>\n",
       "<!-- 12 -->\n",
       "<g id=\"node13\" class=\"node\">\n",
       "<title>12</title>\n",
       "<text text-anchor=\"middle\" x=\"32\" y=\"-3.8\" font-family=\"Times,serif\" font-size=\"14.00\">T</text>\n",
       "</g>\n",
       "<!-- 11&#45;&gt;12 -->\n",
       "<g id=\"edge12\" class=\"edge\">\n",
       "<title>11&#45;&gt;12</title>\n",
       "<path fill=\"none\" stroke=\"black\" d=\"M32,-50.69C32,-44.18 32,-34.1 32,-25.43\"/>\n",
       "<polygon fill=\"black\" stroke=\"black\" points=\"35.5,-25.26 32,-15.26 28.5,-25.26 35.5,-25.26\"/>\n",
       "</g>\n",
       "<!-- 14 -->\n",
       "<g id=\"node15\" class=\"node\">\n",
       "<title>14</title>\n",
       "<text text-anchor=\"middle\" x=\"114\" y=\"-54.8\" font-family=\"Times,serif\" font-size=\"14.00\">&lt;text&gt;</text>\n",
       "</g>\n",
       "<!-- 13&#45;&gt;14 -->\n",
       "<g id=\"edge14\" class=\"edge\">\n",
       "<title>13&#45;&gt;14</title>\n",
       "<path fill=\"none\" stroke=\"black\" d=\"M114,-101.69C114,-95.18 114,-85.1 114,-76.43\"/>\n",
       "<polygon fill=\"black\" stroke=\"black\" points=\"117.5,-76.26 114,-66.26 110.5,-76.26 117.5,-76.26\"/>\n",
       "</g>\n",
       "<!-- 15 -->\n",
       "<g id=\"node16\" class=\"node\">\n",
       "<title>15</title>\n",
       "<text text-anchor=\"middle\" x=\"114\" y=\"-3.8\" font-family=\"Times,serif\" font-size=\"14.00\">e</text>\n",
       "</g>\n",
       "<!-- 14&#45;&gt;15 -->\n",
       "<g id=\"edge15\" class=\"edge\">\n",
       "<title>14&#45;&gt;15</title>\n",
       "<path fill=\"none\" stroke=\"black\" d=\"M114,-50.69C114,-44.18 114,-34.1 114,-25.43\"/>\n",
       "<polygon fill=\"black\" stroke=\"black\" points=\"117.5,-25.26 114,-15.26 110.5,-25.26 117.5,-25.26\"/>\n",
       "</g>\n",
       "<!-- 17 -->\n",
       "<g id=\"node18\" class=\"node\">\n",
       "<title>17</title>\n",
       "<text text-anchor=\"middle\" x=\"189\" y=\"-105.8\" font-family=\"Times,serif\" font-size=\"14.00\">&lt;text&gt;</text>\n",
       "</g>\n",
       "<!-- 16&#45;&gt;17 -->\n",
       "<g id=\"edge17\" class=\"edge\">\n",
       "<title>16&#45;&gt;17</title>\n",
       "<path fill=\"none\" stroke=\"black\" d=\"M189,-152.69C189,-146.18 189,-136.1 189,-127.43\"/>\n",
       "<polygon fill=\"black\" stroke=\"black\" points=\"192.5,-127.26 189,-117.26 185.5,-127.26 192.5,-127.26\"/>\n",
       "</g>\n",
       "<!-- 18 -->\n",
       "<g id=\"node19\" class=\"node\">\n",
       "<title>18</title>\n",
       "<text text-anchor=\"middle\" x=\"189\" y=\"-54.8\" font-family=\"Times,serif\" font-size=\"14.00\">x</text>\n",
       "</g>\n",
       "<!-- 17&#45;&gt;18 -->\n",
       "<g id=\"edge18\" class=\"edge\">\n",
       "<title>17&#45;&gt;18</title>\n",
       "<path fill=\"none\" stroke=\"black\" d=\"M189,-101.69C189,-95.18 189,-85.1 189,-76.43\"/>\n",
       "<polygon fill=\"black\" stroke=\"black\" points=\"192.5,-76.26 189,-66.26 185.5,-76.26 192.5,-76.26\"/>\n",
       "</g>\n",
       "<!-- 20 -->\n",
       "<g id=\"node21\" class=\"node\">\n",
       "<title>20</title>\n",
       "<text text-anchor=\"middle\" x=\"258\" y=\"-156.8\" font-family=\"Times,serif\" font-size=\"14.00\">&lt;text&gt;</text>\n",
       "</g>\n",
       "<!-- 19&#45;&gt;20 -->\n",
       "<g id=\"edge20\" class=\"edge\">\n",
       "<title>19&#45;&gt;20</title>\n",
       "<path fill=\"none\" stroke=\"black\" d=\"M249.39,-203.69C250.73,-197.1 252.82,-186.87 254.6,-178.14\"/>\n",
       "<polygon fill=\"black\" stroke=\"black\" points=\"258.05,-178.75 256.62,-168.26 251.19,-177.35 258.05,-178.75\"/>\n",
       "</g>\n",
       "<!-- 21 -->\n",
       "<g id=\"node22\" class=\"node\">\n",
       "<title>21</title>\n",
       "<text text-anchor=\"middle\" x=\"258\" y=\"-105.8\" font-family=\"Times,serif\" font-size=\"14.00\">t</text>\n",
       "</g>\n",
       "<!-- 20&#45;&gt;21 -->\n",
       "<g id=\"edge21\" class=\"edge\">\n",
       "<title>20&#45;&gt;21</title>\n",
       "<path fill=\"none\" stroke=\"black\" d=\"M258,-152.69C258,-146.18 258,-136.1 258,-127.43\"/>\n",
       "<polygon fill=\"black\" stroke=\"black\" points=\"261.5,-127.26 258,-117.26 254.5,-127.26 261.5,-127.26\"/>\n",
       "</g>\n",
       "<!-- 23 -->\n",
       "<g id=\"node24\" class=\"node\">\n",
       "<title>23</title>\n",
       "<text text-anchor=\"middle\" x=\"305\" y=\"-207.8\" font-family=\"Times,serif\" font-size=\"14.00\">&lt;/</text>\n",
       "</g>\n",
       "<!-- 22&#45;&gt;23 -->\n",
       "<g id=\"edge23\" class=\"edge\">\n",
       "<title>22&#45;&gt;23</title>\n",
       "<path fill=\"none\" stroke=\"black\" d=\"M321.36,-254.69C318.78,-248.03 314.75,-237.65 311.34,-228.85\"/>\n",
       "<polygon fill=\"black\" stroke=\"black\" points=\"314.5,-227.31 307.62,-219.26 307.97,-229.84 314.5,-227.31\"/>\n",
       "</g>\n",
       "<!-- 24 -->\n",
       "<g id=\"node25\" class=\"node\">\n",
       "<title>24</title>\n",
       "<text text-anchor=\"middle\" x=\"344\" y=\"-207.8\" font-family=\"Times,serif\" font-size=\"14.00\">&lt;id&gt;</text>\n",
       "</g>\n",
       "<!-- 22&#45;&gt;24 -->\n",
       "<g id=\"edge24\" class=\"edge\">\n",
       "<title>22&#45;&gt;24</title>\n",
       "<path fill=\"none\" stroke=\"black\" d=\"M326.78,-254.69C329.53,-247.96 333.83,-237.42 337.45,-228.56\"/>\n",
       "<polygon fill=\"black\" stroke=\"black\" points=\"340.7,-229.84 341.24,-219.26 334.22,-227.19 340.7,-229.84\"/>\n",
       "</g>\n",
       "<!-- 26 -->\n",
       "<g id=\"node27\" class=\"node\">\n",
       "<title>26</title>\n",
       "<text text-anchor=\"middle\" x=\"381\" y=\"-207.8\" font-family=\"Times,serif\" font-size=\"14.00\">&gt;</text>\n",
       "</g>\n",
       "<!-- 22&#45;&gt;26 -->\n",
       "<g id=\"edge26\" class=\"edge\">\n",
       "<title>22&#45;&gt;26</title>\n",
       "<path fill=\"none\" stroke=\"black\" d=\"M331.93,-254.69C341.48,-246.47 357.65,-232.57 368.8,-222.98\"/>\n",
       "<polygon fill=\"black\" stroke=\"black\" points=\"371.15,-225.58 376.45,-216.41 366.58,-220.28 371.15,-225.58\"/>\n",
       "</g>\n",
       "<!-- 25 -->\n",
       "<g id=\"node26\" class=\"node\">\n",
       "<title>25</title>\n",
       "<text text-anchor=\"middle\" x=\"344\" y=\"-156.8\" font-family=\"Times,serif\" font-size=\"14.00\">html</text>\n",
       "</g>\n",
       "<!-- 24&#45;&gt;25 -->\n",
       "<g id=\"edge25\" class=\"edge\">\n",
       "<title>24&#45;&gt;25</title>\n",
       "<path fill=\"none\" stroke=\"black\" d=\"M344,-203.69C344,-197.18 344,-187.1 344,-178.43\"/>\n",
       "<polygon fill=\"black\" stroke=\"black\" points=\"347.5,-178.26 344,-168.26 340.5,-178.26 347.5,-178.26\"/>\n",
       "</g>\n",
       "</g>\n",
       "</svg>\n"
      ],
      "text/plain": [
       "<graphviz.graphs.Digraph at 0x1545c8220>"
      ]
     },
     "metadata": {},
     "output_type": "display_data"
    },
    {
     "data": {
      "image/svg+xml": [
       "<?xml version=\"1.0\" encoding=\"UTF-8\" standalone=\"no\"?>\n",
       "<!DOCTYPE svg PUBLIC \"-//W3C//DTD SVG 1.1//EN\"\n",
       " \"http://www.w3.org/Graphics/SVG/1.1/DTD/svg11.dtd\">\n",
       "<!-- Generated by graphviz version 3.0.0 (20220226.1711)\n",
       " -->\n",
       "<!-- Pages: 1 -->\n",
       "<svg width=\"381pt\" height=\"380pt\"\n",
       " viewBox=\"0.00 0.00 381.00 380.00\" xmlns=\"http://www.w3.org/2000/svg\" xmlns:xlink=\"http://www.w3.org/1999/xlink\">\n",
       "<g id=\"graph0\" class=\"graph\" transform=\"scale(1 1) rotate(0) translate(4 376)\">\n",
       "<polygon fill=\"white\" stroke=\"transparent\" points=\"-4,4 -4,-376 377,-376 377,4 -4,4\"/>\n",
       "<!-- 0 -->\n",
       "<g id=\"node1\" class=\"node\">\n",
       "<title>0</title>\n",
       "<text text-anchor=\"middle\" x=\"180.5\" y=\"-360.8\" font-family=\"Times,serif\" font-size=\"14.00\">&lt;start&gt;</text>\n",
       "</g>\n",
       "<!-- 1 -->\n",
       "<g id=\"node2\" class=\"node\">\n",
       "<title>1</title>\n",
       "<text text-anchor=\"middle\" x=\"180.5\" y=\"-309.8\" font-family=\"Times,serif\" font-size=\"14.00\">&lt;xml&#45;tree&gt;</text>\n",
       "</g>\n",
       "<!-- 0&#45;&gt;1 -->\n",
       "<g id=\"edge1\" class=\"edge\">\n",
       "<title>0&#45;&gt;1</title>\n",
       "<path fill=\"none\" stroke=\"black\" d=\"M180.5,-356.69C180.5,-350.18 180.5,-340.1 180.5,-331.43\"/>\n",
       "<polygon fill=\"black\" stroke=\"black\" points=\"184,-331.26 180.5,-321.26 177,-331.26 184,-331.26\"/>\n",
       "</g>\n",
       "<!-- 2 -->\n",
       "<g id=\"node3\" class=\"node\">\n",
       "<title>2</title>\n",
       "<text text-anchor=\"middle\" x=\"68.5\" y=\"-258.8\" font-family=\"Times,serif\" font-size=\"14.00\">&lt;xml&#45;open&#45;tag&gt;</text>\n",
       "</g>\n",
       "<!-- 1&#45;&gt;2 -->\n",
       "<g id=\"edge2\" class=\"edge\">\n",
       "<title>1&#45;&gt;2</title>\n",
       "<path fill=\"none\" stroke=\"black\" d=\"M165.4,-305.89C146.75,-297.74 114.82,-283.77 92.74,-274.1\"/>\n",
       "<polygon fill=\"black\" stroke=\"black\" points=\"93.93,-270.81 83.37,-270 91.12,-277.22 93.93,-270.81\"/>\n",
       "</g>\n",
       "<!-- 7 -->\n",
       "<g id=\"node8\" class=\"node\">\n",
       "<title>7</title>\n",
       "<text text-anchor=\"middle\" x=\"180.5\" y=\"-258.8\" font-family=\"Times,serif\" font-size=\"14.00\">&lt;xml&#45;tree&gt;</text>\n",
       "</g>\n",
       "<!-- 1&#45;&gt;7 -->\n",
       "<g id=\"edge7\" class=\"edge\">\n",
       "<title>1&#45;&gt;7</title>\n",
       "<path fill=\"none\" stroke=\"black\" d=\"M180.5,-305.69C180.5,-299.18 180.5,-289.1 180.5,-280.43\"/>\n",
       "<polygon fill=\"black\" stroke=\"black\" points=\"184,-280.26 180.5,-270.26 177,-280.26 184,-280.26\"/>\n",
       "</g>\n",
       "<!-- 22 -->\n",
       "<g id=\"node23\" class=\"node\">\n",
       "<title>22</title>\n",
       "<text text-anchor=\"middle\" x=\"311.5\" y=\"-258.8\" font-family=\"Times,serif\" font-size=\"14.00\">&lt;xml&#45;close&#45;tag&gt;</text>\n",
       "</g>\n",
       "<!-- 1&#45;&gt;22 -->\n",
       "<g id=\"edge22\" class=\"edge\">\n",
       "<title>1&#45;&gt;22</title>\n",
       "<path fill=\"none\" stroke=\"black\" d=\"M197.9,-305.99C220.02,-297.72 258.45,-283.34 284.42,-273.63\"/>\n",
       "<polygon fill=\"black\" stroke=\"black\" points=\"285.89,-276.82 294.03,-270.03 283.44,-270.26 285.89,-276.82\"/>\n",
       "</g>\n",
       "<!-- 3 -->\n",
       "<g id=\"node4\" class=\"node\">\n",
       "<title>3</title>\n",
       "<text text-anchor=\"middle\" x=\"4.5\" y=\"-207.8\" font-family=\"Times,serif\" font-size=\"14.00\">&lt;</text>\n",
       "</g>\n",
       "<!-- 2&#45;&gt;3 -->\n",
       "<g id=\"edge3\" class=\"edge\">\n",
       "<title>2&#45;&gt;3</title>\n",
       "<path fill=\"none\" stroke=\"black\" d=\"M59.87,-254.89C48.88,-246.48 29.82,-231.89 17.18,-222.21\"/>\n",
       "<polygon fill=\"black\" stroke=\"black\" points=\"19.08,-219.25 9.01,-215.95 14.82,-224.81 19.08,-219.25\"/>\n",
       "</g>\n",
       "<!-- 4 -->\n",
       "<g id=\"node5\" class=\"node\">\n",
       "<title>4</title>\n",
       "<text text-anchor=\"middle\" x=\"41.5\" y=\"-207.8\" font-family=\"Times,serif\" font-size=\"14.00\">&lt;id&gt;</text>\n",
       "</g>\n",
       "<!-- 2&#45;&gt;4 -->\n",
       "<g id=\"edge4\" class=\"edge\">\n",
       "<title>2&#45;&gt;4</title>\n",
       "<path fill=\"none\" stroke=\"black\" d=\"M64.75,-254.69C61,-247.88 55.1,-237.19 50.19,-228.27\"/>\n",
       "<polygon fill=\"black\" stroke=\"black\" points=\"53.11,-226.32 45.22,-219.26 46.98,-229.7 53.11,-226.32\"/>\n",
       "</g>\n",
       "<!-- 6 -->\n",
       "<g id=\"node7\" class=\"node\">\n",
       "<title>6</title>\n",
       "<text text-anchor=\"middle\" x=\"78.5\" y=\"-207.8\" font-family=\"Times,serif\" font-size=\"14.00\">&gt;</text>\n",
       "</g>\n",
       "<!-- 2&#45;&gt;6 -->\n",
       "<g id=\"edge6\" class=\"edge\">\n",
       "<title>2&#45;&gt;6</title>\n",
       "<path fill=\"none\" stroke=\"black\" d=\"M69.89,-254.69C71.23,-248.1 73.32,-237.87 75.1,-229.14\"/>\n",
       "<polygon fill=\"black\" stroke=\"black\" points=\"78.55,-229.75 77.12,-219.26 71.69,-228.35 78.55,-229.75\"/>\n",
       "</g>\n",
       "<!-- 5 -->\n",
       "<g id=\"node6\" class=\"node\">\n",
       "<title>5</title>\n",
       "<text text-anchor=\"middle\" x=\"27.5\" y=\"-156.8\" font-family=\"Times,serif\" font-size=\"14.00\">html</text>\n",
       "</g>\n",
       "<!-- 4&#45;&gt;5 -->\n",
       "<g id=\"edge5\" class=\"edge\">\n",
       "<title>4&#45;&gt;5</title>\n",
       "<path fill=\"none\" stroke=\"black\" d=\"M39.55,-203.69C37.67,-197.1 34.75,-186.87 32.25,-178.14\"/>\n",
       "<polygon fill=\"black\" stroke=\"black\" points=\"35.54,-176.91 29.43,-168.26 28.81,-178.83 35.54,-176.91\"/>\n",
       "</g>\n",
       "<!-- 8 -->\n",
       "<g id=\"node9\" class=\"node\">\n",
       "<title>8</title>\n",
       "<text text-anchor=\"middle\" x=\"153.5\" y=\"-207.8\" font-family=\"Times,serif\" font-size=\"14.00\">&lt;xml&#45;tree&gt;</text>\n",
       "</g>\n",
       "<!-- 7&#45;&gt;8 -->\n",
       "<g id=\"edge8\" class=\"edge\">\n",
       "<title>7&#45;&gt;8</title>\n",
       "<path fill=\"none\" stroke=\"black\" d=\"M176.75,-254.69C173,-247.88 167.1,-237.19 162.19,-228.27\"/>\n",
       "<polygon fill=\"black\" stroke=\"black\" points=\"165.11,-226.32 157.22,-219.26 158.98,-229.7 165.11,-226.32\"/>\n",
       "</g>\n",
       "<!-- 19 -->\n",
       "<g id=\"node20\" class=\"node\">\n",
       "<title>19</title>\n",
       "<text text-anchor=\"middle\" x=\"235.5\" y=\"-207.8\" font-family=\"Times,serif\" font-size=\"14.00\">&lt;xml&#45;tree&gt;</text>\n",
       "</g>\n",
       "<!-- 7&#45;&gt;19 -->\n",
       "<g id=\"edge19\" class=\"edge\">\n",
       "<title>7&#45;&gt;19</title>\n",
       "<path fill=\"none\" stroke=\"black\" d=\"M188.15,-254.69C196.44,-247.3 209.89,-235.32 220.34,-226.01\"/>\n",
       "<polygon fill=\"black\" stroke=\"black\" points=\"222.78,-228.52 227.92,-219.26 218.12,-223.29 222.78,-228.52\"/>\n",
       "</g>\n",
       "<!-- 9 -->\n",
       "<g id=\"node10\" class=\"node\">\n",
       "<title>9</title>\n",
       "<text text-anchor=\"middle\" x=\"90.5\" y=\"-156.8\" font-family=\"Times,serif\" font-size=\"14.00\">&lt;xml&#45;tree&gt;</text>\n",
       "</g>\n",
       "<!-- 8&#45;&gt;9 -->\n",
       "<g id=\"edge9\" class=\"edge\">\n",
       "<title>8&#45;&gt;9</title>\n",
       "<path fill=\"none\" stroke=\"black\" d=\"M145,-203.89C135.27,-196.32 119.11,-183.75 106.9,-174.26\"/>\n",
       "<polygon fill=\"black\" stroke=\"black\" points=\"108.9,-171.38 98.86,-168 104.61,-176.91 108.9,-171.38\"/>\n",
       "</g>\n",
       "<!-- 12 -->\n",
       "<g id=\"node13\" class=\"node\">\n",
       "<title>12</title>\n",
       "<text text-anchor=\"middle\" x=\"172.5\" y=\"-156.8\" font-family=\"Times,serif\" font-size=\"14.00\">&lt;xml&#45;tree&gt;</text>\n",
       "</g>\n",
       "<!-- 8&#45;&gt;12 -->\n",
       "<g id=\"edge12\" class=\"edge\">\n",
       "<title>8&#45;&gt;12</title>\n",
       "<path fill=\"none\" stroke=\"black\" d=\"M156.14,-203.69C158.72,-197.03 162.75,-186.65 166.16,-177.85\"/>\n",
       "<polygon fill=\"black\" stroke=\"black\" points=\"169.53,-178.84 169.88,-168.26 163,-176.31 169.53,-178.84\"/>\n",
       "</g>\n",
       "<!-- 10 -->\n",
       "<g id=\"node11\" class=\"node\">\n",
       "<title>10</title>\n",
       "<text text-anchor=\"middle\" x=\"83.5\" y=\"-105.8\" font-family=\"Times,serif\" font-size=\"14.00\">&lt;text&gt;</text>\n",
       "</g>\n",
       "<!-- 9&#45;&gt;10 -->\n",
       "<g id=\"edge10\" class=\"edge\">\n",
       "<title>9&#45;&gt;10</title>\n",
       "<path fill=\"none\" stroke=\"black\" d=\"M89.53,-152.69C88.6,-146.18 87.16,-136.1 85.92,-127.43\"/>\n",
       "<polygon fill=\"black\" stroke=\"black\" points=\"89.34,-126.66 84.47,-117.26 82.41,-127.65 89.34,-126.66\"/>\n",
       "</g>\n",
       "<!-- 11 -->\n",
       "<g id=\"node12\" class=\"node\">\n",
       "<title>11</title>\n",
       "<text text-anchor=\"middle\" x=\"83.5\" y=\"-54.8\" font-family=\"Times,serif\" font-size=\"14.00\">T</text>\n",
       "</g>\n",
       "<!-- 10&#45;&gt;11 -->\n",
       "<g id=\"edge11\" class=\"edge\">\n",
       "<title>10&#45;&gt;11</title>\n",
       "<path fill=\"none\" stroke=\"black\" d=\"M83.5,-101.69C83.5,-95.18 83.5,-85.1 83.5,-76.43\"/>\n",
       "<polygon fill=\"black\" stroke=\"black\" points=\"87,-76.26 83.5,-66.26 80,-76.26 87,-76.26\"/>\n",
       "</g>\n",
       "<!-- 13 -->\n",
       "<g id=\"node14\" class=\"node\">\n",
       "<title>13</title>\n",
       "<text text-anchor=\"middle\" x=\"152.5\" y=\"-105.8\" font-family=\"Times,serif\" font-size=\"14.00\">&lt;xml&#45;tree&gt;</text>\n",
       "</g>\n",
       "<!-- 12&#45;&gt;13 -->\n",
       "<g id=\"edge13\" class=\"edge\">\n",
       "<title>12&#45;&gt;13</title>\n",
       "<path fill=\"none\" stroke=\"black\" d=\"M169.72,-152.69C166.97,-145.96 162.67,-135.42 159.05,-126.56\"/>\n",
       "<polygon fill=\"black\" stroke=\"black\" points=\"162.28,-125.19 155.26,-117.26 155.8,-127.84 162.28,-125.19\"/>\n",
       "</g>\n",
       "<!-- 16 -->\n",
       "<g id=\"node17\" class=\"node\">\n",
       "<title>16</title>\n",
       "<text text-anchor=\"middle\" x=\"234.5\" y=\"-105.8\" font-family=\"Times,serif\" font-size=\"14.00\">&lt;xml&#45;tree&gt;</text>\n",
       "</g>\n",
       "<!-- 12&#45;&gt;16 -->\n",
       "<g id=\"edge16\" class=\"edge\">\n",
       "<title>12&#45;&gt;16</title>\n",
       "<path fill=\"none\" stroke=\"black\" d=\"M180.86,-152.89C190.44,-145.32 206.35,-132.75 218.36,-123.26\"/>\n",
       "<polygon fill=\"black\" stroke=\"black\" points=\"220.6,-125.95 226.27,-117 216.26,-120.46 220.6,-125.95\"/>\n",
       "</g>\n",
       "<!-- 14 -->\n",
       "<g id=\"node15\" class=\"node\">\n",
       "<title>14</title>\n",
       "<text text-anchor=\"middle\" x=\"152.5\" y=\"-54.8\" font-family=\"Times,serif\" font-size=\"14.00\">&lt;text&gt;</text>\n",
       "</g>\n",
       "<!-- 13&#45;&gt;14 -->\n",
       "<g id=\"edge14\" class=\"edge\">\n",
       "<title>13&#45;&gt;14</title>\n",
       "<path fill=\"none\" stroke=\"black\" d=\"M152.5,-101.69C152.5,-95.18 152.5,-85.1 152.5,-76.43\"/>\n",
       "<polygon fill=\"black\" stroke=\"black\" points=\"156,-76.26 152.5,-66.26 149,-76.26 156,-76.26\"/>\n",
       "</g>\n",
       "<!-- 15 -->\n",
       "<g id=\"node16\" class=\"node\">\n",
       "<title>15</title>\n",
       "<text text-anchor=\"middle\" x=\"152.5\" y=\"-3.8\" font-family=\"Times,serif\" font-size=\"14.00\">e</text>\n",
       "</g>\n",
       "<!-- 14&#45;&gt;15 -->\n",
       "<g id=\"edge15\" class=\"edge\">\n",
       "<title>14&#45;&gt;15</title>\n",
       "<path fill=\"none\" stroke=\"black\" d=\"M152.5,-50.69C152.5,-44.18 152.5,-34.1 152.5,-25.43\"/>\n",
       "<polygon fill=\"black\" stroke=\"black\" points=\"156,-25.26 152.5,-15.26 149,-25.26 156,-25.26\"/>\n",
       "</g>\n",
       "<!-- 17 -->\n",
       "<g id=\"node18\" class=\"node\">\n",
       "<title>17</title>\n",
       "<text text-anchor=\"middle\" x=\"234.5\" y=\"-54.8\" font-family=\"Times,serif\" font-size=\"14.00\">&lt;text&gt;</text>\n",
       "</g>\n",
       "<!-- 16&#45;&gt;17 -->\n",
       "<g id=\"edge17\" class=\"edge\">\n",
       "<title>16&#45;&gt;17</title>\n",
       "<path fill=\"none\" stroke=\"black\" d=\"M234.5,-101.69C234.5,-95.18 234.5,-85.1 234.5,-76.43\"/>\n",
       "<polygon fill=\"black\" stroke=\"black\" points=\"238,-76.26 234.5,-66.26 231,-76.26 238,-76.26\"/>\n",
       "</g>\n",
       "<!-- 18 -->\n",
       "<g id=\"node19\" class=\"node\">\n",
       "<title>18</title>\n",
       "<text text-anchor=\"middle\" x=\"234.5\" y=\"-3.8\" font-family=\"Times,serif\" font-size=\"14.00\">x</text>\n",
       "</g>\n",
       "<!-- 17&#45;&gt;18 -->\n",
       "<g id=\"edge18\" class=\"edge\">\n",
       "<title>17&#45;&gt;18</title>\n",
       "<path fill=\"none\" stroke=\"black\" d=\"M234.5,-50.69C234.5,-44.18 234.5,-34.1 234.5,-25.43\"/>\n",
       "<polygon fill=\"black\" stroke=\"black\" points=\"238,-25.26 234.5,-15.26 231,-25.26 238,-25.26\"/>\n",
       "</g>\n",
       "<!-- 20 -->\n",
       "<g id=\"node21\" class=\"node\">\n",
       "<title>20</title>\n",
       "<text text-anchor=\"middle\" x=\"278.5\" y=\"-156.8\" font-family=\"Times,serif\" font-size=\"14.00\">&lt;text&gt;</text>\n",
       "</g>\n",
       "<!-- 19&#45;&gt;20 -->\n",
       "<g id=\"edge20\" class=\"edge\">\n",
       "<title>19&#45;&gt;20</title>\n",
       "<path fill=\"none\" stroke=\"black\" d=\"M241.48,-203.69C247.77,-196.52 257.85,-185.03 265.91,-175.85\"/>\n",
       "<polygon fill=\"black\" stroke=\"black\" points=\"268.61,-178.08 272.57,-168.26 263.35,-173.46 268.61,-178.08\"/>\n",
       "</g>\n",
       "<!-- 21 -->\n",
       "<g id=\"node22\" class=\"node\">\n",
       "<title>21</title>\n",
       "<text text-anchor=\"middle\" x=\"286.5\" y=\"-105.8\" font-family=\"Times,serif\" font-size=\"14.00\">t</text>\n",
       "</g>\n",
       "<!-- 20&#45;&gt;21 -->\n",
       "<g id=\"edge21\" class=\"edge\">\n",
       "<title>20&#45;&gt;21</title>\n",
       "<path fill=\"none\" stroke=\"black\" d=\"M279.61,-152.69C280.69,-146.1 282.36,-135.87 283.78,-127.14\"/>\n",
       "<polygon fill=\"black\" stroke=\"black\" points=\"287.24,-127.69 285.4,-117.26 280.33,-126.56 287.24,-127.69\"/>\n",
       "</g>\n",
       "<!-- 23 -->\n",
       "<g id=\"node24\" class=\"node\">\n",
       "<title>23</title>\n",
       "<text text-anchor=\"middle\" x=\"292.5\" y=\"-207.8\" font-family=\"Times,serif\" font-size=\"14.00\">&lt;/</text>\n",
       "</g>\n",
       "<!-- 22&#45;&gt;23 -->\n",
       "<g id=\"edge23\" class=\"edge\">\n",
       "<title>22&#45;&gt;23</title>\n",
       "<path fill=\"none\" stroke=\"black\" d=\"M308.86,-254.69C306.28,-248.03 302.25,-237.65 298.84,-228.85\"/>\n",
       "<polygon fill=\"black\" stroke=\"black\" points=\"302,-227.31 295.12,-219.26 295.47,-229.84 302,-227.31\"/>\n",
       "</g>\n",
       "<!-- 24 -->\n",
       "<g id=\"node25\" class=\"node\">\n",
       "<title>24</title>\n",
       "<text text-anchor=\"middle\" x=\"331.5\" y=\"-207.8\" font-family=\"Times,serif\" font-size=\"14.00\">&lt;id&gt;</text>\n",
       "</g>\n",
       "<!-- 22&#45;&gt;24 -->\n",
       "<g id=\"edge24\" class=\"edge\">\n",
       "<title>22&#45;&gt;24</title>\n",
       "<path fill=\"none\" stroke=\"black\" d=\"M314.28,-254.69C317.03,-247.96 321.33,-237.42 324.95,-228.56\"/>\n",
       "<polygon fill=\"black\" stroke=\"black\" points=\"328.2,-229.84 328.74,-219.26 321.72,-227.19 328.2,-229.84\"/>\n",
       "</g>\n",
       "<!-- 26 -->\n",
       "<g id=\"node27\" class=\"node\">\n",
       "<title>26</title>\n",
       "<text text-anchor=\"middle\" x=\"368.5\" y=\"-207.8\" font-family=\"Times,serif\" font-size=\"14.00\">&gt;</text>\n",
       "</g>\n",
       "<!-- 22&#45;&gt;26 -->\n",
       "<g id=\"edge26\" class=\"edge\">\n",
       "<title>22&#45;&gt;26</title>\n",
       "<path fill=\"none\" stroke=\"black\" d=\"M319.43,-254.69C328.98,-246.47 345.15,-232.57 356.3,-222.98\"/>\n",
       "<polygon fill=\"black\" stroke=\"black\" points=\"358.65,-225.58 363.95,-216.41 354.08,-220.28 358.65,-225.58\"/>\n",
       "</g>\n",
       "<!-- 25 -->\n",
       "<g id=\"node26\" class=\"node\">\n",
       "<title>25</title>\n",
       "<text text-anchor=\"middle\" x=\"331.5\" y=\"-156.8\" font-family=\"Times,serif\" font-size=\"14.00\">html</text>\n",
       "</g>\n",
       "<!-- 24&#45;&gt;25 -->\n",
       "<g id=\"edge25\" class=\"edge\">\n",
       "<title>24&#45;&gt;25</title>\n",
       "<path fill=\"none\" stroke=\"black\" d=\"M331.5,-203.69C331.5,-197.18 331.5,-187.1 331.5,-178.43\"/>\n",
       "<polygon fill=\"black\" stroke=\"black\" points=\"335,-178.26 331.5,-168.26 328,-178.26 335,-178.26\"/>\n",
       "</g>\n",
       "</g>\n",
       "</svg>\n"
      ],
      "text/plain": [
       "<graphviz.graphs.Digraph at 0x1545c82e0>"
      ]
     },
     "metadata": {},
     "output_type": "display_data"
    },
    {
     "data": {
      "image/svg+xml": [
       "<?xml version=\"1.0\" encoding=\"UTF-8\" standalone=\"no\"?>\n",
       "<!DOCTYPE svg PUBLIC \"-//W3C//DTD SVG 1.1//EN\"\n",
       " \"http://www.w3.org/Graphics/SVG/1.1/DTD/svg11.dtd\">\n",
       "<!-- Generated by graphviz version 3.0.0 (20220226.1711)\n",
       " -->\n",
       "<!-- Pages: 1 -->\n",
       "<svg width=\"379pt\" height=\"329pt\"\n",
       " viewBox=\"0.00 0.00 379.00 329.00\" xmlns=\"http://www.w3.org/2000/svg\" xmlns:xlink=\"http://www.w3.org/1999/xlink\">\n",
       "<g id=\"graph0\" class=\"graph\" transform=\"scale(1 1) rotate(0) translate(4 325)\">\n",
       "<polygon fill=\"white\" stroke=\"transparent\" points=\"-4,4 -4,-325 375,-325 375,4 -4,4\"/>\n",
       "<!-- 0 -->\n",
       "<g id=\"node1\" class=\"node\">\n",
       "<title>0</title>\n",
       "<text text-anchor=\"middle\" x=\"175.5\" y=\"-309.8\" font-family=\"Times,serif\" font-size=\"14.00\">&lt;start&gt;</text>\n",
       "</g>\n",
       "<!-- 1 -->\n",
       "<g id=\"node2\" class=\"node\">\n",
       "<title>1</title>\n",
       "<text text-anchor=\"middle\" x=\"175.5\" y=\"-258.8\" font-family=\"Times,serif\" font-size=\"14.00\">&lt;xml&#45;tree&gt;</text>\n",
       "</g>\n",
       "<!-- 0&#45;&gt;1 -->\n",
       "<g id=\"edge1\" class=\"edge\">\n",
       "<title>0&#45;&gt;1</title>\n",
       "<path fill=\"none\" stroke=\"black\" d=\"M175.5,-305.69C175.5,-299.18 175.5,-289.1 175.5,-280.43\"/>\n",
       "<polygon fill=\"black\" stroke=\"black\" points=\"179,-280.26 175.5,-270.26 172,-280.26 179,-280.26\"/>\n",
       "</g>\n",
       "<!-- 2 -->\n",
       "<g id=\"node3\" class=\"node\">\n",
       "<title>2</title>\n",
       "<text text-anchor=\"middle\" x=\"60.5\" y=\"-207.8\" font-family=\"Times,serif\" font-size=\"14.00\">&lt;xml&#45;open&#45;tag&gt;</text>\n",
       "</g>\n",
       "<!-- 1&#45;&gt;2 -->\n",
       "<g id=\"edge2\" class=\"edge\">\n",
       "<title>1&#45;&gt;2</title>\n",
       "<path fill=\"none\" stroke=\"black\" d=\"M159.99,-254.89C140.76,-246.7 107.77,-232.64 85.08,-222.97\"/>\n",
       "<polygon fill=\"black\" stroke=\"black\" points=\"86.34,-219.7 75.76,-219 83.59,-226.14 86.34,-219.7\"/>\n",
       "</g>\n",
       "<!-- 7 -->\n",
       "<g id=\"node8\" class=\"node\">\n",
       "<title>7</title>\n",
       "<text text-anchor=\"middle\" x=\"175.5\" y=\"-207.8\" font-family=\"Times,serif\" font-size=\"14.00\">&lt;xml&#45;tree&gt;</text>\n",
       "</g>\n",
       "<!-- 1&#45;&gt;7 -->\n",
       "<g id=\"edge7\" class=\"edge\">\n",
       "<title>1&#45;&gt;7</title>\n",
       "<path fill=\"none\" stroke=\"black\" d=\"M175.5,-254.69C175.5,-248.18 175.5,-238.1 175.5,-229.43\"/>\n",
       "<polygon fill=\"black\" stroke=\"black\" points=\"179,-229.26 175.5,-219.26 172,-229.26 179,-229.26\"/>\n",
       "</g>\n",
       "<!-- 18 -->\n",
       "<g id=\"node19\" class=\"node\">\n",
       "<title>18</title>\n",
       "<text text-anchor=\"middle\" x=\"309.5\" y=\"-207.8\" font-family=\"Times,serif\" font-size=\"14.00\">&lt;xml&#45;close&#45;tag&gt;</text>\n",
       "</g>\n",
       "<!-- 1&#45;&gt;18 -->\n",
       "<g id=\"edge18\" class=\"edge\">\n",
       "<title>1&#45;&gt;18</title>\n",
       "<path fill=\"none\" stroke=\"black\" d=\"M193.29,-254.99C216.02,-246.68 255.58,-232.22 282.15,-222.5\"/>\n",
       "<polygon fill=\"black\" stroke=\"black\" points=\"283.44,-225.76 291.63,-219.03 281.04,-219.18 283.44,-225.76\"/>\n",
       "</g>\n",
       "<!-- 3 -->\n",
       "<g id=\"node4\" class=\"node\">\n",
       "<title>3</title>\n",
       "<text text-anchor=\"middle\" x=\"4.5\" y=\"-156.8\" font-family=\"Times,serif\" font-size=\"14.00\">&lt;</text>\n",
       "</g>\n",
       "<!-- 2&#45;&gt;3 -->\n",
       "<g id=\"edge3\" class=\"edge\">\n",
       "<title>2&#45;&gt;3</title>\n",
       "<path fill=\"none\" stroke=\"black\" d=\"M52.71,-203.69C43.42,-195.55 27.76,-181.85 16.81,-172.28\"/>\n",
       "<polygon fill=\"black\" stroke=\"black\" points=\"19.09,-169.62 9.26,-165.67 14.48,-174.89 19.09,-169.62\"/>\n",
       "</g>\n",
       "<!-- 4 -->\n",
       "<g id=\"node5\" class=\"node\">\n",
       "<title>4</title>\n",
       "<text text-anchor=\"middle\" x=\"41.5\" y=\"-156.8\" font-family=\"Times,serif\" font-size=\"14.00\">&lt;id&gt;</text>\n",
       "</g>\n",
       "<!-- 2&#45;&gt;4 -->\n",
       "<g id=\"edge4\" class=\"edge\">\n",
       "<title>2&#45;&gt;4</title>\n",
       "<path fill=\"none\" stroke=\"black\" d=\"M57.86,-203.69C55.28,-197.03 51.25,-186.65 47.84,-177.85\"/>\n",
       "<polygon fill=\"black\" stroke=\"black\" points=\"51,-176.31 44.12,-168.26 44.47,-178.84 51,-176.31\"/>\n",
       "</g>\n",
       "<!-- 6 -->\n",
       "<g id=\"node7\" class=\"node\">\n",
       "<title>6</title>\n",
       "<text text-anchor=\"middle\" x=\"78.5\" y=\"-156.8\" font-family=\"Times,serif\" font-size=\"14.00\">&gt;</text>\n",
       "</g>\n",
       "<!-- 2&#45;&gt;6 -->\n",
       "<g id=\"edge6\" class=\"edge\">\n",
       "<title>2&#45;&gt;6</title>\n",
       "<path fill=\"none\" stroke=\"black\" d=\"M63,-203.69C65.45,-197.03 69.26,-186.65 72.49,-177.85\"/>\n",
       "<polygon fill=\"black\" stroke=\"black\" points=\"75.86,-178.85 76.02,-168.26 69.28,-176.44 75.86,-178.85\"/>\n",
       "</g>\n",
       "<!-- 5 -->\n",
       "<g id=\"node6\" class=\"node\">\n",
       "<title>5</title>\n",
       "<text text-anchor=\"middle\" x=\"41.5\" y=\"-105.8\" font-family=\"Times,serif\" font-size=\"14.00\">html</text>\n",
       "</g>\n",
       "<!-- 4&#45;&gt;5 -->\n",
       "<g id=\"edge5\" class=\"edge\">\n",
       "<title>4&#45;&gt;5</title>\n",
       "<path fill=\"none\" stroke=\"black\" d=\"M41.5,-152.69C41.5,-146.18 41.5,-136.1 41.5,-127.43\"/>\n",
       "<polygon fill=\"black\" stroke=\"black\" points=\"45,-127.26 41.5,-117.26 38,-127.26 45,-127.26\"/>\n",
       "</g>\n",
       "<!-- 8 -->\n",
       "<g id=\"node9\" class=\"node\">\n",
       "<title>8</title>\n",
       "<text text-anchor=\"middle\" x=\"133.5\" y=\"-156.8\" font-family=\"Times,serif\" font-size=\"14.00\">&lt;xml&#45;tree&gt;</text>\n",
       "</g>\n",
       "<!-- 7&#45;&gt;8 -->\n",
       "<g id=\"edge8\" class=\"edge\">\n",
       "<title>7&#45;&gt;8</title>\n",
       "<path fill=\"none\" stroke=\"black\" d=\"M169.66,-203.69C163.58,-196.59 153.87,-185.26 146.04,-176.13\"/>\n",
       "<polygon fill=\"black\" stroke=\"black\" points=\"148.46,-173.57 139.29,-168.26 143.14,-178.13 148.46,-173.57\"/>\n",
       "</g>\n",
       "<!-- 11 -->\n",
       "<g id=\"node12\" class=\"node\">\n",
       "<title>11</title>\n",
       "<text text-anchor=\"middle\" x=\"215.5\" y=\"-156.8\" font-family=\"Times,serif\" font-size=\"14.00\">&lt;xml&#45;tree&gt;</text>\n",
       "</g>\n",
       "<!-- 7&#45;&gt;11 -->\n",
       "<g id=\"edge11\" class=\"edge\">\n",
       "<title>7&#45;&gt;11</title>\n",
       "<path fill=\"none\" stroke=\"black\" d=\"M181.06,-203.69C186.85,-196.59 196.1,-185.26 203.56,-176.13\"/>\n",
       "<polygon fill=\"black\" stroke=\"black\" points=\"206.37,-178.22 209.99,-168.26 200.95,-173.79 206.37,-178.22\"/>\n",
       "</g>\n",
       "<!-- 9 -->\n",
       "<g id=\"node10\" class=\"node\">\n",
       "<title>9</title>\n",
       "<text text-anchor=\"middle\" x=\"124.5\" y=\"-105.8\" font-family=\"Times,serif\" font-size=\"14.00\">&lt;text&gt;</text>\n",
       "</g>\n",
       "<!-- 8&#45;&gt;9 -->\n",
       "<g id=\"edge9\" class=\"edge\">\n",
       "<title>8&#45;&gt;9</title>\n",
       "<path fill=\"none\" stroke=\"black\" d=\"M132.25,-152.69C131.04,-146.1 129.16,-135.87 127.56,-127.14\"/>\n",
       "<polygon fill=\"black\" stroke=\"black\" points=\"130.99,-126.46 125.74,-117.26 124.1,-127.72 130.99,-126.46\"/>\n",
       "</g>\n",
       "<!-- 10 -->\n",
       "<g id=\"node11\" class=\"node\">\n",
       "<title>10</title>\n",
       "<text text-anchor=\"middle\" x=\"124.5\" y=\"-54.8\" font-family=\"Times,serif\" font-size=\"14.00\">T</text>\n",
       "</g>\n",
       "<!-- 9&#45;&gt;10 -->\n",
       "<g id=\"edge10\" class=\"edge\">\n",
       "<title>9&#45;&gt;10</title>\n",
       "<path fill=\"none\" stroke=\"black\" d=\"M124.5,-101.69C124.5,-95.18 124.5,-85.1 124.5,-76.43\"/>\n",
       "<polygon fill=\"black\" stroke=\"black\" points=\"128,-76.26 124.5,-66.26 121,-76.26 128,-76.26\"/>\n",
       "</g>\n",
       "<!-- 12 -->\n",
       "<g id=\"node13\" class=\"node\">\n",
       "<title>12</title>\n",
       "<text text-anchor=\"middle\" x=\"193.5\" y=\"-105.8\" font-family=\"Times,serif\" font-size=\"14.00\">&lt;xml&#45;tree&gt;</text>\n",
       "</g>\n",
       "<!-- 11&#45;&gt;12 -->\n",
       "<g id=\"edge12\" class=\"edge\">\n",
       "<title>11&#45;&gt;12</title>\n",
       "<path fill=\"none\" stroke=\"black\" d=\"M212.44,-152.69C209.42,-145.96 204.69,-135.42 200.71,-126.56\"/>\n",
       "<polygon fill=\"black\" stroke=\"black\" points=\"203.82,-124.94 196.53,-117.26 197.44,-127.81 203.82,-124.94\"/>\n",
       "</g>\n",
       "<!-- 15 -->\n",
       "<g id=\"node16\" class=\"node\">\n",
       "<title>15</title>\n",
       "<text text-anchor=\"middle\" x=\"275.5\" y=\"-105.8\" font-family=\"Times,serif\" font-size=\"14.00\">&lt;xml&#45;tree&gt;</text>\n",
       "</g>\n",
       "<!-- 11&#45;&gt;15 -->\n",
       "<g id=\"edge15\" class=\"edge\">\n",
       "<title>11&#45;&gt;15</title>\n",
       "<path fill=\"none\" stroke=\"black\" d=\"M223.84,-152.69C232.98,-145.23 247.85,-133.08 259.29,-123.73\"/>\n",
       "<polygon fill=\"black\" stroke=\"black\" points=\"261.7,-126.29 267.23,-117.26 257.27,-120.87 261.7,-126.29\"/>\n",
       "</g>\n",
       "<!-- 13 -->\n",
       "<g id=\"node14\" class=\"node\">\n",
       "<title>13</title>\n",
       "<text text-anchor=\"middle\" x=\"193.5\" y=\"-54.8\" font-family=\"Times,serif\" font-size=\"14.00\">&lt;text&gt;</text>\n",
       "</g>\n",
       "<!-- 12&#45;&gt;13 -->\n",
       "<g id=\"edge13\" class=\"edge\">\n",
       "<title>12&#45;&gt;13</title>\n",
       "<path fill=\"none\" stroke=\"black\" d=\"M193.5,-101.69C193.5,-95.18 193.5,-85.1 193.5,-76.43\"/>\n",
       "<polygon fill=\"black\" stroke=\"black\" points=\"197,-76.26 193.5,-66.26 190,-76.26 197,-76.26\"/>\n",
       "</g>\n",
       "<!-- 14 -->\n",
       "<g id=\"node15\" class=\"node\">\n",
       "<title>14</title>\n",
       "<text text-anchor=\"middle\" x=\"193.5\" y=\"-3.8\" font-family=\"Times,serif\" font-size=\"14.00\">e</text>\n",
       "</g>\n",
       "<!-- 13&#45;&gt;14 -->\n",
       "<g id=\"edge14\" class=\"edge\">\n",
       "<title>13&#45;&gt;14</title>\n",
       "<path fill=\"none\" stroke=\"black\" d=\"M193.5,-50.69C193.5,-44.18 193.5,-34.1 193.5,-25.43\"/>\n",
       "<polygon fill=\"black\" stroke=\"black\" points=\"197,-25.26 193.5,-15.26 190,-25.26 197,-25.26\"/>\n",
       "</g>\n",
       "<!-- 16 -->\n",
       "<g id=\"node17\" class=\"node\">\n",
       "<title>16</title>\n",
       "<text text-anchor=\"middle\" x=\"275.5\" y=\"-54.8\" font-family=\"Times,serif\" font-size=\"14.00\">&lt;text&gt;</text>\n",
       "</g>\n",
       "<!-- 15&#45;&gt;16 -->\n",
       "<g id=\"edge16\" class=\"edge\">\n",
       "<title>15&#45;&gt;16</title>\n",
       "<path fill=\"none\" stroke=\"black\" d=\"M275.5,-101.69C275.5,-95.18 275.5,-85.1 275.5,-76.43\"/>\n",
       "<polygon fill=\"black\" stroke=\"black\" points=\"279,-76.26 275.5,-66.26 272,-76.26 279,-76.26\"/>\n",
       "</g>\n",
       "<!-- 17 -->\n",
       "<g id=\"node18\" class=\"node\">\n",
       "<title>17</title>\n",
       "<text text-anchor=\"middle\" x=\"275.5\" y=\"-3.8\" font-family=\"Times,serif\" font-size=\"14.00\">xt</text>\n",
       "</g>\n",
       "<!-- 16&#45;&gt;17 -->\n",
       "<g id=\"edge17\" class=\"edge\">\n",
       "<title>16&#45;&gt;17</title>\n",
       "<path fill=\"none\" stroke=\"black\" d=\"M275.5,-50.69C275.5,-44.18 275.5,-34.1 275.5,-25.43\"/>\n",
       "<polygon fill=\"black\" stroke=\"black\" points=\"279,-25.26 275.5,-15.26 272,-25.26 279,-25.26\"/>\n",
       "</g>\n",
       "<!-- 19 -->\n",
       "<g id=\"node20\" class=\"node\">\n",
       "<title>19</title>\n",
       "<text text-anchor=\"middle\" x=\"290.5\" y=\"-156.8\" font-family=\"Times,serif\" font-size=\"14.00\">&lt;/</text>\n",
       "</g>\n",
       "<!-- 18&#45;&gt;19 -->\n",
       "<g id=\"edge19\" class=\"edge\">\n",
       "<title>18&#45;&gt;19</title>\n",
       "<path fill=\"none\" stroke=\"black\" d=\"M306.86,-203.69C304.28,-197.03 300.25,-186.65 296.84,-177.85\"/>\n",
       "<polygon fill=\"black\" stroke=\"black\" points=\"300,-176.31 293.12,-168.26 293.47,-178.84 300,-176.31\"/>\n",
       "</g>\n",
       "<!-- 20 -->\n",
       "<g id=\"node21\" class=\"node\">\n",
       "<title>20</title>\n",
       "<text text-anchor=\"middle\" x=\"329.5\" y=\"-156.8\" font-family=\"Times,serif\" font-size=\"14.00\">&lt;id&gt;</text>\n",
       "</g>\n",
       "<!-- 18&#45;&gt;20 -->\n",
       "<g id=\"edge20\" class=\"edge\">\n",
       "<title>18&#45;&gt;20</title>\n",
       "<path fill=\"none\" stroke=\"black\" d=\"M312.28,-203.69C315.03,-196.96 319.33,-186.42 322.95,-177.56\"/>\n",
       "<polygon fill=\"black\" stroke=\"black\" points=\"326.2,-178.84 326.74,-168.26 319.72,-176.19 326.2,-178.84\"/>\n",
       "</g>\n",
       "<!-- 22 -->\n",
       "<g id=\"node23\" class=\"node\">\n",
       "<title>22</title>\n",
       "<text text-anchor=\"middle\" x=\"366.5\" y=\"-156.8\" font-family=\"Times,serif\" font-size=\"14.00\">&gt;</text>\n",
       "</g>\n",
       "<!-- 18&#45;&gt;22 -->\n",
       "<g id=\"edge22\" class=\"edge\">\n",
       "<title>18&#45;&gt;22</title>\n",
       "<path fill=\"none\" stroke=\"black\" d=\"M317.43,-203.69C326.98,-195.47 343.15,-181.57 354.3,-171.98\"/>\n",
       "<polygon fill=\"black\" stroke=\"black\" points=\"356.65,-174.58 361.95,-165.41 352.08,-169.28 356.65,-174.58\"/>\n",
       "</g>\n",
       "<!-- 21 -->\n",
       "<g id=\"node22\" class=\"node\">\n",
       "<title>21</title>\n",
       "<text text-anchor=\"middle\" x=\"338.5\" y=\"-105.8\" font-family=\"Times,serif\" font-size=\"14.00\">html</text>\n",
       "</g>\n",
       "<!-- 20&#45;&gt;21 -->\n",
       "<g id=\"edge21\" class=\"edge\">\n",
       "<title>20&#45;&gt;21</title>\n",
       "<path fill=\"none\" stroke=\"black\" d=\"M330.75,-152.69C331.96,-146.1 333.84,-135.87 335.44,-127.14\"/>\n",
       "<polygon fill=\"black\" stroke=\"black\" points=\"338.9,-127.72 337.26,-117.26 332.01,-126.46 338.9,-127.72\"/>\n",
       "</g>\n",
       "</g>\n",
       "</svg>\n"
      ],
      "text/plain": [
       "<graphviz.graphs.Digraph at 0x1545c83d0>"
      ]
     },
     "metadata": {},
     "output_type": "display_data"
    },
    {
     "data": {
      "image/svg+xml": [
       "<?xml version=\"1.0\" encoding=\"UTF-8\" standalone=\"no\"?>\n",
       "<!DOCTYPE svg PUBLIC \"-//W3C//DTD SVG 1.1//EN\"\n",
       " \"http://www.w3.org/Graphics/SVG/1.1/DTD/svg11.dtd\">\n",
       "<!-- Generated by graphviz version 3.0.0 (20220226.1711)\n",
       " -->\n",
       "<!-- Pages: 1 -->\n",
       "<svg width=\"379pt\" height=\"329pt\"\n",
       " viewBox=\"0.00 0.00 379.00 329.00\" xmlns=\"http://www.w3.org/2000/svg\" xmlns:xlink=\"http://www.w3.org/1999/xlink\">\n",
       "<g id=\"graph0\" class=\"graph\" transform=\"scale(1 1) rotate(0) translate(4 325)\">\n",
       "<polygon fill=\"white\" stroke=\"transparent\" points=\"-4,4 -4,-325 375,-325 375,4 -4,4\"/>\n",
       "<!-- 0 -->\n",
       "<g id=\"node1\" class=\"node\">\n",
       "<title>0</title>\n",
       "<text text-anchor=\"middle\" x=\"175.5\" y=\"-309.8\" font-family=\"Times,serif\" font-size=\"14.00\">&lt;start&gt;</text>\n",
       "</g>\n",
       "<!-- 1 -->\n",
       "<g id=\"node2\" class=\"node\">\n",
       "<title>1</title>\n",
       "<text text-anchor=\"middle\" x=\"175.5\" y=\"-258.8\" font-family=\"Times,serif\" font-size=\"14.00\">&lt;xml&#45;tree&gt;</text>\n",
       "</g>\n",
       "<!-- 0&#45;&gt;1 -->\n",
       "<g id=\"edge1\" class=\"edge\">\n",
       "<title>0&#45;&gt;1</title>\n",
       "<path fill=\"none\" stroke=\"black\" d=\"M175.5,-305.69C175.5,-299.18 175.5,-289.1 175.5,-280.43\"/>\n",
       "<polygon fill=\"black\" stroke=\"black\" points=\"179,-280.26 175.5,-270.26 172,-280.26 179,-280.26\"/>\n",
       "</g>\n",
       "<!-- 2 -->\n",
       "<g id=\"node3\" class=\"node\">\n",
       "<title>2</title>\n",
       "<text text-anchor=\"middle\" x=\"60.5\" y=\"-207.8\" font-family=\"Times,serif\" font-size=\"14.00\">&lt;xml&#45;open&#45;tag&gt;</text>\n",
       "</g>\n",
       "<!-- 1&#45;&gt;2 -->\n",
       "<g id=\"edge2\" class=\"edge\">\n",
       "<title>1&#45;&gt;2</title>\n",
       "<path fill=\"none\" stroke=\"black\" d=\"M159.99,-254.89C140.76,-246.7 107.77,-232.64 85.08,-222.97\"/>\n",
       "<polygon fill=\"black\" stroke=\"black\" points=\"86.34,-219.7 75.76,-219 83.59,-226.14 86.34,-219.7\"/>\n",
       "</g>\n",
       "<!-- 7 -->\n",
       "<g id=\"node8\" class=\"node\">\n",
       "<title>7</title>\n",
       "<text text-anchor=\"middle\" x=\"175.5\" y=\"-207.8\" font-family=\"Times,serif\" font-size=\"14.00\">&lt;xml&#45;tree&gt;</text>\n",
       "</g>\n",
       "<!-- 1&#45;&gt;7 -->\n",
       "<g id=\"edge7\" class=\"edge\">\n",
       "<title>1&#45;&gt;7</title>\n",
       "<path fill=\"none\" stroke=\"black\" d=\"M175.5,-254.69C175.5,-248.18 175.5,-238.1 175.5,-229.43\"/>\n",
       "<polygon fill=\"black\" stroke=\"black\" points=\"179,-229.26 175.5,-219.26 172,-229.26 179,-229.26\"/>\n",
       "</g>\n",
       "<!-- 18 -->\n",
       "<g id=\"node19\" class=\"node\">\n",
       "<title>18</title>\n",
       "<text text-anchor=\"middle\" x=\"309.5\" y=\"-207.8\" font-family=\"Times,serif\" font-size=\"14.00\">&lt;xml&#45;close&#45;tag&gt;</text>\n",
       "</g>\n",
       "<!-- 1&#45;&gt;18 -->\n",
       "<g id=\"edge18\" class=\"edge\">\n",
       "<title>1&#45;&gt;18</title>\n",
       "<path fill=\"none\" stroke=\"black\" d=\"M193.29,-254.99C216.02,-246.68 255.58,-232.22 282.15,-222.5\"/>\n",
       "<polygon fill=\"black\" stroke=\"black\" points=\"283.44,-225.76 291.63,-219.03 281.04,-219.18 283.44,-225.76\"/>\n",
       "</g>\n",
       "<!-- 3 -->\n",
       "<g id=\"node4\" class=\"node\">\n",
       "<title>3</title>\n",
       "<text text-anchor=\"middle\" x=\"4.5\" y=\"-156.8\" font-family=\"Times,serif\" font-size=\"14.00\">&lt;</text>\n",
       "</g>\n",
       "<!-- 2&#45;&gt;3 -->\n",
       "<g id=\"edge3\" class=\"edge\">\n",
       "<title>2&#45;&gt;3</title>\n",
       "<path fill=\"none\" stroke=\"black\" d=\"M52.71,-203.69C43.42,-195.55 27.76,-181.85 16.81,-172.28\"/>\n",
       "<polygon fill=\"black\" stroke=\"black\" points=\"19.09,-169.62 9.26,-165.67 14.48,-174.89 19.09,-169.62\"/>\n",
       "</g>\n",
       "<!-- 4 -->\n",
       "<g id=\"node5\" class=\"node\">\n",
       "<title>4</title>\n",
       "<text text-anchor=\"middle\" x=\"41.5\" y=\"-156.8\" font-family=\"Times,serif\" font-size=\"14.00\">&lt;id&gt;</text>\n",
       "</g>\n",
       "<!-- 2&#45;&gt;4 -->\n",
       "<g id=\"edge4\" class=\"edge\">\n",
       "<title>2&#45;&gt;4</title>\n",
       "<path fill=\"none\" stroke=\"black\" d=\"M57.86,-203.69C55.28,-197.03 51.25,-186.65 47.84,-177.85\"/>\n",
       "<polygon fill=\"black\" stroke=\"black\" points=\"51,-176.31 44.12,-168.26 44.47,-178.84 51,-176.31\"/>\n",
       "</g>\n",
       "<!-- 6 -->\n",
       "<g id=\"node7\" class=\"node\">\n",
       "<title>6</title>\n",
       "<text text-anchor=\"middle\" x=\"78.5\" y=\"-156.8\" font-family=\"Times,serif\" font-size=\"14.00\">&gt;</text>\n",
       "</g>\n",
       "<!-- 2&#45;&gt;6 -->\n",
       "<g id=\"edge6\" class=\"edge\">\n",
       "<title>2&#45;&gt;6</title>\n",
       "<path fill=\"none\" stroke=\"black\" d=\"M63,-203.69C65.45,-197.03 69.26,-186.65 72.49,-177.85\"/>\n",
       "<polygon fill=\"black\" stroke=\"black\" points=\"75.86,-178.85 76.02,-168.26 69.28,-176.44 75.86,-178.85\"/>\n",
       "</g>\n",
       "<!-- 5 -->\n",
       "<g id=\"node6\" class=\"node\">\n",
       "<title>5</title>\n",
       "<text text-anchor=\"middle\" x=\"41.5\" y=\"-105.8\" font-family=\"Times,serif\" font-size=\"14.00\">html</text>\n",
       "</g>\n",
       "<!-- 4&#45;&gt;5 -->\n",
       "<g id=\"edge5\" class=\"edge\">\n",
       "<title>4&#45;&gt;5</title>\n",
       "<path fill=\"none\" stroke=\"black\" d=\"M41.5,-152.69C41.5,-146.18 41.5,-136.1 41.5,-127.43\"/>\n",
       "<polygon fill=\"black\" stroke=\"black\" points=\"45,-127.26 41.5,-117.26 38,-127.26 45,-127.26\"/>\n",
       "</g>\n",
       "<!-- 8 -->\n",
       "<g id=\"node9\" class=\"node\">\n",
       "<title>8</title>\n",
       "<text text-anchor=\"middle\" x=\"133.5\" y=\"-156.8\" font-family=\"Times,serif\" font-size=\"14.00\">&lt;xml&#45;tree&gt;</text>\n",
       "</g>\n",
       "<!-- 7&#45;&gt;8 -->\n",
       "<g id=\"edge8\" class=\"edge\">\n",
       "<title>7&#45;&gt;8</title>\n",
       "<path fill=\"none\" stroke=\"black\" d=\"M169.66,-203.69C163.58,-196.59 153.87,-185.26 146.04,-176.13\"/>\n",
       "<polygon fill=\"black\" stroke=\"black\" points=\"148.46,-173.57 139.29,-168.26 143.14,-178.13 148.46,-173.57\"/>\n",
       "</g>\n",
       "<!-- 11 -->\n",
       "<g id=\"node12\" class=\"node\">\n",
       "<title>11</title>\n",
       "<text text-anchor=\"middle\" x=\"215.5\" y=\"-156.8\" font-family=\"Times,serif\" font-size=\"14.00\">&lt;xml&#45;tree&gt;</text>\n",
       "</g>\n",
       "<!-- 7&#45;&gt;11 -->\n",
       "<g id=\"edge11\" class=\"edge\">\n",
       "<title>7&#45;&gt;11</title>\n",
       "<path fill=\"none\" stroke=\"black\" d=\"M181.06,-203.69C186.85,-196.59 196.1,-185.26 203.56,-176.13\"/>\n",
       "<polygon fill=\"black\" stroke=\"black\" points=\"206.37,-178.22 209.99,-168.26 200.95,-173.79 206.37,-178.22\"/>\n",
       "</g>\n",
       "<!-- 9 -->\n",
       "<g id=\"node10\" class=\"node\">\n",
       "<title>9</title>\n",
       "<text text-anchor=\"middle\" x=\"124.5\" y=\"-105.8\" font-family=\"Times,serif\" font-size=\"14.00\">&lt;text&gt;</text>\n",
       "</g>\n",
       "<!-- 8&#45;&gt;9 -->\n",
       "<g id=\"edge9\" class=\"edge\">\n",
       "<title>8&#45;&gt;9</title>\n",
       "<path fill=\"none\" stroke=\"black\" d=\"M132.25,-152.69C131.04,-146.1 129.16,-135.87 127.56,-127.14\"/>\n",
       "<polygon fill=\"black\" stroke=\"black\" points=\"130.99,-126.46 125.74,-117.26 124.1,-127.72 130.99,-126.46\"/>\n",
       "</g>\n",
       "<!-- 10 -->\n",
       "<g id=\"node11\" class=\"node\">\n",
       "<title>10</title>\n",
       "<text text-anchor=\"middle\" x=\"124.5\" y=\"-54.8\" font-family=\"Times,serif\" font-size=\"14.00\">T</text>\n",
       "</g>\n",
       "<!-- 9&#45;&gt;10 -->\n",
       "<g id=\"edge10\" class=\"edge\">\n",
       "<title>9&#45;&gt;10</title>\n",
       "<path fill=\"none\" stroke=\"black\" d=\"M124.5,-101.69C124.5,-95.18 124.5,-85.1 124.5,-76.43\"/>\n",
       "<polygon fill=\"black\" stroke=\"black\" points=\"128,-76.26 124.5,-66.26 121,-76.26 128,-76.26\"/>\n",
       "</g>\n",
       "<!-- 12 -->\n",
       "<g id=\"node13\" class=\"node\">\n",
       "<title>12</title>\n",
       "<text text-anchor=\"middle\" x=\"193.5\" y=\"-105.8\" font-family=\"Times,serif\" font-size=\"14.00\">&lt;xml&#45;tree&gt;</text>\n",
       "</g>\n",
       "<!-- 11&#45;&gt;12 -->\n",
       "<g id=\"edge12\" class=\"edge\">\n",
       "<title>11&#45;&gt;12</title>\n",
       "<path fill=\"none\" stroke=\"black\" d=\"M212.44,-152.69C209.42,-145.96 204.69,-135.42 200.71,-126.56\"/>\n",
       "<polygon fill=\"black\" stroke=\"black\" points=\"203.82,-124.94 196.53,-117.26 197.44,-127.81 203.82,-124.94\"/>\n",
       "</g>\n",
       "<!-- 15 -->\n",
       "<g id=\"node16\" class=\"node\">\n",
       "<title>15</title>\n",
       "<text text-anchor=\"middle\" x=\"275.5\" y=\"-105.8\" font-family=\"Times,serif\" font-size=\"14.00\">&lt;xml&#45;tree&gt;</text>\n",
       "</g>\n",
       "<!-- 11&#45;&gt;15 -->\n",
       "<g id=\"edge15\" class=\"edge\">\n",
       "<title>11&#45;&gt;15</title>\n",
       "<path fill=\"none\" stroke=\"black\" d=\"M223.84,-152.69C232.98,-145.23 247.85,-133.08 259.29,-123.73\"/>\n",
       "<polygon fill=\"black\" stroke=\"black\" points=\"261.7,-126.29 267.23,-117.26 257.27,-120.87 261.7,-126.29\"/>\n",
       "</g>\n",
       "<!-- 13 -->\n",
       "<g id=\"node14\" class=\"node\">\n",
       "<title>13</title>\n",
       "<text text-anchor=\"middle\" x=\"193.5\" y=\"-54.8\" font-family=\"Times,serif\" font-size=\"14.00\">&lt;text&gt;</text>\n",
       "</g>\n",
       "<!-- 12&#45;&gt;13 -->\n",
       "<g id=\"edge13\" class=\"edge\">\n",
       "<title>12&#45;&gt;13</title>\n",
       "<path fill=\"none\" stroke=\"black\" d=\"M193.5,-101.69C193.5,-95.18 193.5,-85.1 193.5,-76.43\"/>\n",
       "<polygon fill=\"black\" stroke=\"black\" points=\"197,-76.26 193.5,-66.26 190,-76.26 197,-76.26\"/>\n",
       "</g>\n",
       "<!-- 14 -->\n",
       "<g id=\"node15\" class=\"node\">\n",
       "<title>14</title>\n",
       "<text text-anchor=\"middle\" x=\"193.5\" y=\"-3.8\" font-family=\"Times,serif\" font-size=\"14.00\">ex</text>\n",
       "</g>\n",
       "<!-- 13&#45;&gt;14 -->\n",
       "<g id=\"edge14\" class=\"edge\">\n",
       "<title>13&#45;&gt;14</title>\n",
       "<path fill=\"none\" stroke=\"black\" d=\"M193.5,-50.69C193.5,-44.18 193.5,-34.1 193.5,-25.43\"/>\n",
       "<polygon fill=\"black\" stroke=\"black\" points=\"197,-25.26 193.5,-15.26 190,-25.26 197,-25.26\"/>\n",
       "</g>\n",
       "<!-- 16 -->\n",
       "<g id=\"node17\" class=\"node\">\n",
       "<title>16</title>\n",
       "<text text-anchor=\"middle\" x=\"275.5\" y=\"-54.8\" font-family=\"Times,serif\" font-size=\"14.00\">&lt;text&gt;</text>\n",
       "</g>\n",
       "<!-- 15&#45;&gt;16 -->\n",
       "<g id=\"edge16\" class=\"edge\">\n",
       "<title>15&#45;&gt;16</title>\n",
       "<path fill=\"none\" stroke=\"black\" d=\"M275.5,-101.69C275.5,-95.18 275.5,-85.1 275.5,-76.43\"/>\n",
       "<polygon fill=\"black\" stroke=\"black\" points=\"279,-76.26 275.5,-66.26 272,-76.26 279,-76.26\"/>\n",
       "</g>\n",
       "<!-- 17 -->\n",
       "<g id=\"node18\" class=\"node\">\n",
       "<title>17</title>\n",
       "<text text-anchor=\"middle\" x=\"275.5\" y=\"-3.8\" font-family=\"Times,serif\" font-size=\"14.00\">t</text>\n",
       "</g>\n",
       "<!-- 16&#45;&gt;17 -->\n",
       "<g id=\"edge17\" class=\"edge\">\n",
       "<title>16&#45;&gt;17</title>\n",
       "<path fill=\"none\" stroke=\"black\" d=\"M275.5,-50.69C275.5,-44.18 275.5,-34.1 275.5,-25.43\"/>\n",
       "<polygon fill=\"black\" stroke=\"black\" points=\"279,-25.26 275.5,-15.26 272,-25.26 279,-25.26\"/>\n",
       "</g>\n",
       "<!-- 19 -->\n",
       "<g id=\"node20\" class=\"node\">\n",
       "<title>19</title>\n",
       "<text text-anchor=\"middle\" x=\"290.5\" y=\"-156.8\" font-family=\"Times,serif\" font-size=\"14.00\">&lt;/</text>\n",
       "</g>\n",
       "<!-- 18&#45;&gt;19 -->\n",
       "<g id=\"edge19\" class=\"edge\">\n",
       "<title>18&#45;&gt;19</title>\n",
       "<path fill=\"none\" stroke=\"black\" d=\"M306.86,-203.69C304.28,-197.03 300.25,-186.65 296.84,-177.85\"/>\n",
       "<polygon fill=\"black\" stroke=\"black\" points=\"300,-176.31 293.12,-168.26 293.47,-178.84 300,-176.31\"/>\n",
       "</g>\n",
       "<!-- 20 -->\n",
       "<g id=\"node21\" class=\"node\">\n",
       "<title>20</title>\n",
       "<text text-anchor=\"middle\" x=\"329.5\" y=\"-156.8\" font-family=\"Times,serif\" font-size=\"14.00\">&lt;id&gt;</text>\n",
       "</g>\n",
       "<!-- 18&#45;&gt;20 -->\n",
       "<g id=\"edge20\" class=\"edge\">\n",
       "<title>18&#45;&gt;20</title>\n",
       "<path fill=\"none\" stroke=\"black\" d=\"M312.28,-203.69C315.03,-196.96 319.33,-186.42 322.95,-177.56\"/>\n",
       "<polygon fill=\"black\" stroke=\"black\" points=\"326.2,-178.84 326.74,-168.26 319.72,-176.19 326.2,-178.84\"/>\n",
       "</g>\n",
       "<!-- 22 -->\n",
       "<g id=\"node23\" class=\"node\">\n",
       "<title>22</title>\n",
       "<text text-anchor=\"middle\" x=\"366.5\" y=\"-156.8\" font-family=\"Times,serif\" font-size=\"14.00\">&gt;</text>\n",
       "</g>\n",
       "<!-- 18&#45;&gt;22 -->\n",
       "<g id=\"edge22\" class=\"edge\">\n",
       "<title>18&#45;&gt;22</title>\n",
       "<path fill=\"none\" stroke=\"black\" d=\"M317.43,-203.69C326.98,-195.47 343.15,-181.57 354.3,-171.98\"/>\n",
       "<polygon fill=\"black\" stroke=\"black\" points=\"356.65,-174.58 361.95,-165.41 352.08,-169.28 356.65,-174.58\"/>\n",
       "</g>\n",
       "<!-- 21 -->\n",
       "<g id=\"node22\" class=\"node\">\n",
       "<title>21</title>\n",
       "<text text-anchor=\"middle\" x=\"338.5\" y=\"-105.8\" font-family=\"Times,serif\" font-size=\"14.00\">html</text>\n",
       "</g>\n",
       "<!-- 20&#45;&gt;21 -->\n",
       "<g id=\"edge21\" class=\"edge\">\n",
       "<title>20&#45;&gt;21</title>\n",
       "<path fill=\"none\" stroke=\"black\" d=\"M330.75,-152.69C331.96,-146.1 333.84,-135.87 335.44,-127.14\"/>\n",
       "<polygon fill=\"black\" stroke=\"black\" points=\"338.9,-127.72 337.26,-117.26 332.01,-126.46 338.9,-127.72\"/>\n",
       "</g>\n",
       "</g>\n",
       "</svg>\n"
      ],
      "text/plain": [
       "<graphviz.graphs.Digraph at 0x1545c81f0>"
      ]
     },
     "metadata": {},
     "output_type": "display_data"
    },
    {
     "data": {
      "image/svg+xml": [
       "<?xml version=\"1.0\" encoding=\"UTF-8\" standalone=\"no\"?>\n",
       "<!DOCTYPE svg PUBLIC \"-//W3C//DTD SVG 1.1//EN\"\n",
       " \"http://www.w3.org/Graphics/SVG/1.1/DTD/svg11.dtd\">\n",
       "<!-- Generated by graphviz version 3.0.0 (20220226.1711)\n",
       " -->\n",
       "<!-- Pages: 1 -->\n",
       "<svg width=\"380pt\" height=\"380pt\"\n",
       " viewBox=\"0.00 0.00 380.00 380.00\" xmlns=\"http://www.w3.org/2000/svg\" xmlns:xlink=\"http://www.w3.org/1999/xlink\">\n",
       "<g id=\"graph0\" class=\"graph\" transform=\"scale(1 1) rotate(0) translate(4 376)\">\n",
       "<polygon fill=\"white\" stroke=\"transparent\" points=\"-4,4 -4,-376 376,-376 376,4 -4,4\"/>\n",
       "<!-- 0 -->\n",
       "<g id=\"node1\" class=\"node\">\n",
       "<title>0</title>\n",
       "<text text-anchor=\"middle\" x=\"175.5\" y=\"-360.8\" font-family=\"Times,serif\" font-size=\"14.00\">&lt;start&gt;</text>\n",
       "</g>\n",
       "<!-- 1 -->\n",
       "<g id=\"node2\" class=\"node\">\n",
       "<title>1</title>\n",
       "<text text-anchor=\"middle\" x=\"175.5\" y=\"-309.8\" font-family=\"Times,serif\" font-size=\"14.00\">&lt;xml&#45;tree&gt;</text>\n",
       "</g>\n",
       "<!-- 0&#45;&gt;1 -->\n",
       "<g id=\"edge1\" class=\"edge\">\n",
       "<title>0&#45;&gt;1</title>\n",
       "<path fill=\"none\" stroke=\"black\" d=\"M175.5,-356.69C175.5,-350.18 175.5,-340.1 175.5,-331.43\"/>\n",
       "<polygon fill=\"black\" stroke=\"black\" points=\"179,-331.26 175.5,-321.26 172,-331.26 179,-331.26\"/>\n",
       "</g>\n",
       "<!-- 2 -->\n",
       "<g id=\"node3\" class=\"node\">\n",
       "<title>2</title>\n",
       "<text text-anchor=\"middle\" x=\"60.5\" y=\"-258.8\" font-family=\"Times,serif\" font-size=\"14.00\">&lt;xml&#45;open&#45;tag&gt;</text>\n",
       "</g>\n",
       "<!-- 1&#45;&gt;2 -->\n",
       "<g id=\"edge2\" class=\"edge\">\n",
       "<title>1&#45;&gt;2</title>\n",
       "<path fill=\"none\" stroke=\"black\" d=\"M159.99,-305.89C140.76,-297.7 107.77,-283.64 85.08,-273.97\"/>\n",
       "<polygon fill=\"black\" stroke=\"black\" points=\"86.34,-270.7 75.76,-270 83.59,-277.14 86.34,-270.7\"/>\n",
       "</g>\n",
       "<!-- 7 -->\n",
       "<g id=\"node8\" class=\"node\">\n",
       "<title>7</title>\n",
       "<text text-anchor=\"middle\" x=\"175.5\" y=\"-258.8\" font-family=\"Times,serif\" font-size=\"14.00\">&lt;xml&#45;tree&gt;</text>\n",
       "</g>\n",
       "<!-- 1&#45;&gt;7 -->\n",
       "<g id=\"edge7\" class=\"edge\">\n",
       "<title>1&#45;&gt;7</title>\n",
       "<path fill=\"none\" stroke=\"black\" d=\"M175.5,-305.69C175.5,-299.18 175.5,-289.1 175.5,-280.43\"/>\n",
       "<polygon fill=\"black\" stroke=\"black\" points=\"179,-280.26 175.5,-270.26 172,-280.26 179,-280.26\"/>\n",
       "</g>\n",
       "<!-- 22 -->\n",
       "<g id=\"node23\" class=\"node\">\n",
       "<title>22</title>\n",
       "<text text-anchor=\"middle\" x=\"310.5\" y=\"-258.8\" font-family=\"Times,serif\" font-size=\"14.00\">&lt;xml&#45;close&#45;tag&gt;</text>\n",
       "</g>\n",
       "<!-- 1&#45;&gt;22 -->\n",
       "<g id=\"edge22\" class=\"edge\">\n",
       "<title>1&#45;&gt;22</title>\n",
       "<path fill=\"none\" stroke=\"black\" d=\"M193.43,-305.99C216.32,-297.68 256.18,-283.22 282.94,-273.5\"/>\n",
       "<polygon fill=\"black\" stroke=\"black\" points=\"284.29,-276.74 292.5,-270.03 281.9,-270.16 284.29,-276.74\"/>\n",
       "</g>\n",
       "<!-- 3 -->\n",
       "<g id=\"node4\" class=\"node\">\n",
       "<title>3</title>\n",
       "<text text-anchor=\"middle\" x=\"4.5\" y=\"-207.8\" font-family=\"Times,serif\" font-size=\"14.00\">&lt;</text>\n",
       "</g>\n",
       "<!-- 2&#45;&gt;3 -->\n",
       "<g id=\"edge3\" class=\"edge\">\n",
       "<title>2&#45;&gt;3</title>\n",
       "<path fill=\"none\" stroke=\"black\" d=\"M52.71,-254.69C43.42,-246.55 27.76,-232.85 16.81,-223.28\"/>\n",
       "<polygon fill=\"black\" stroke=\"black\" points=\"19.09,-220.62 9.26,-216.67 14.48,-225.89 19.09,-220.62\"/>\n",
       "</g>\n",
       "<!-- 4 -->\n",
       "<g id=\"node5\" class=\"node\">\n",
       "<title>4</title>\n",
       "<text text-anchor=\"middle\" x=\"41.5\" y=\"-207.8\" font-family=\"Times,serif\" font-size=\"14.00\">&lt;id&gt;</text>\n",
       "</g>\n",
       "<!-- 2&#45;&gt;4 -->\n",
       "<g id=\"edge4\" class=\"edge\">\n",
       "<title>2&#45;&gt;4</title>\n",
       "<path fill=\"none\" stroke=\"black\" d=\"M57.86,-254.69C55.28,-248.03 51.25,-237.65 47.84,-228.85\"/>\n",
       "<polygon fill=\"black\" stroke=\"black\" points=\"51,-227.31 44.12,-219.26 44.47,-229.84 51,-227.31\"/>\n",
       "</g>\n",
       "<!-- 6 -->\n",
       "<g id=\"node7\" class=\"node\">\n",
       "<title>6</title>\n",
       "<text text-anchor=\"middle\" x=\"78.5\" y=\"-207.8\" font-family=\"Times,serif\" font-size=\"14.00\">&gt;</text>\n",
       "</g>\n",
       "<!-- 2&#45;&gt;6 -->\n",
       "<g id=\"edge6\" class=\"edge\">\n",
       "<title>2&#45;&gt;6</title>\n",
       "<path fill=\"none\" stroke=\"black\" d=\"M63,-254.69C65.45,-248.03 69.26,-237.65 72.49,-228.85\"/>\n",
       "<polygon fill=\"black\" stroke=\"black\" points=\"75.86,-229.85 76.02,-219.26 69.28,-227.44 75.86,-229.85\"/>\n",
       "</g>\n",
       "<!-- 5 -->\n",
       "<g id=\"node6\" class=\"node\">\n",
       "<title>5</title>\n",
       "<text text-anchor=\"middle\" x=\"41.5\" y=\"-156.8\" font-family=\"Times,serif\" font-size=\"14.00\">html</text>\n",
       "</g>\n",
       "<!-- 4&#45;&gt;5 -->\n",
       "<g id=\"edge5\" class=\"edge\">\n",
       "<title>4&#45;&gt;5</title>\n",
       "<path fill=\"none\" stroke=\"black\" d=\"M41.5,-203.69C41.5,-197.18 41.5,-187.1 41.5,-178.43\"/>\n",
       "<polygon fill=\"black\" stroke=\"black\" points=\"45,-178.26 41.5,-168.26 38,-178.26 45,-178.26\"/>\n",
       "</g>\n",
       "<!-- 8 -->\n",
       "<g id=\"node9\" class=\"node\">\n",
       "<title>8</title>\n",
       "<text text-anchor=\"middle\" x=\"133.5\" y=\"-207.8\" font-family=\"Times,serif\" font-size=\"14.00\">&lt;xml&#45;tree&gt;</text>\n",
       "</g>\n",
       "<!-- 7&#45;&gt;8 -->\n",
       "<g id=\"edge8\" class=\"edge\">\n",
       "<title>7&#45;&gt;8</title>\n",
       "<path fill=\"none\" stroke=\"black\" d=\"M169.66,-254.69C163.58,-247.59 153.87,-236.26 146.04,-227.13\"/>\n",
       "<polygon fill=\"black\" stroke=\"black\" points=\"148.46,-224.57 139.29,-219.26 143.14,-229.13 148.46,-224.57\"/>\n",
       "</g>\n",
       "<!-- 11 -->\n",
       "<g id=\"node12\" class=\"node\">\n",
       "<title>11</title>\n",
       "<text text-anchor=\"middle\" x=\"215.5\" y=\"-207.8\" font-family=\"Times,serif\" font-size=\"14.00\">&lt;xml&#45;tree&gt;</text>\n",
       "</g>\n",
       "<!-- 7&#45;&gt;11 -->\n",
       "<g id=\"edge11\" class=\"edge\">\n",
       "<title>7&#45;&gt;11</title>\n",
       "<path fill=\"none\" stroke=\"black\" d=\"M181.06,-254.69C186.85,-247.59 196.1,-236.26 203.56,-227.13\"/>\n",
       "<polygon fill=\"black\" stroke=\"black\" points=\"206.37,-229.22 209.99,-219.26 200.95,-224.79 206.37,-229.22\"/>\n",
       "</g>\n",
       "<!-- 9 -->\n",
       "<g id=\"node10\" class=\"node\">\n",
       "<title>9</title>\n",
       "<text text-anchor=\"middle\" x=\"123.5\" y=\"-156.8\" font-family=\"Times,serif\" font-size=\"14.00\">&lt;text&gt;</text>\n",
       "</g>\n",
       "<!-- 8&#45;&gt;9 -->\n",
       "<g id=\"edge9\" class=\"edge\">\n",
       "<title>8&#45;&gt;9</title>\n",
       "<path fill=\"none\" stroke=\"black\" d=\"M132.11,-203.69C130.77,-197.1 128.68,-186.87 126.9,-178.14\"/>\n",
       "<polygon fill=\"black\" stroke=\"black\" points=\"130.31,-177.35 124.88,-168.26 123.45,-178.75 130.31,-177.35\"/>\n",
       "</g>\n",
       "<!-- 10 -->\n",
       "<g id=\"node11\" class=\"node\">\n",
       "<title>10</title>\n",
       "<text text-anchor=\"middle\" x=\"97.5\" y=\"-105.8\" font-family=\"Times,serif\" font-size=\"14.00\">T</text>\n",
       "</g>\n",
       "<!-- 9&#45;&gt;10 -->\n",
       "<g id=\"edge10\" class=\"edge\">\n",
       "<title>9&#45;&gt;10</title>\n",
       "<path fill=\"none\" stroke=\"black\" d=\"M119.88,-152.69C116.28,-145.88 110.6,-135.19 105.87,-126.27\"/>\n",
       "<polygon fill=\"black\" stroke=\"black\" points=\"108.86,-124.45 101.08,-117.26 102.68,-127.73 108.86,-124.45\"/>\n",
       "</g>\n",
       "<!-- 12 -->\n",
       "<g id=\"node13\" class=\"node\">\n",
       "<title>12</title>\n",
       "<text text-anchor=\"middle\" x=\"195.5\" y=\"-156.8\" font-family=\"Times,serif\" font-size=\"14.00\">&lt;xml&#45;tree&gt;</text>\n",
       "</g>\n",
       "<!-- 11&#45;&gt;12 -->\n",
       "<g id=\"edge12\" class=\"edge\">\n",
       "<title>11&#45;&gt;12</title>\n",
       "<path fill=\"none\" stroke=\"black\" d=\"M212.72,-203.69C209.97,-196.96 205.67,-186.42 202.05,-177.56\"/>\n",
       "<polygon fill=\"black\" stroke=\"black\" points=\"205.28,-176.19 198.26,-168.26 198.8,-178.84 205.28,-176.19\"/>\n",
       "</g>\n",
       "<!-- 19 -->\n",
       "<g id=\"node20\" class=\"node\">\n",
       "<title>19</title>\n",
       "<text text-anchor=\"middle\" x=\"277.5\" y=\"-156.8\" font-family=\"Times,serif\" font-size=\"14.00\">&lt;xml&#45;tree&gt;</text>\n",
       "</g>\n",
       "<!-- 11&#45;&gt;19 -->\n",
       "<g id=\"edge19\" class=\"edge\">\n",
       "<title>11&#45;&gt;19</title>\n",
       "<path fill=\"none\" stroke=\"black\" d=\"M223.86,-203.89C233.44,-196.32 249.35,-183.75 261.36,-174.26\"/>\n",
       "<polygon fill=\"black\" stroke=\"black\" points=\"263.6,-176.95 269.27,-168 259.26,-171.46 263.6,-176.95\"/>\n",
       "</g>\n",
       "<!-- 13 -->\n",
       "<g id=\"node14\" class=\"node\">\n",
       "<title>13</title>\n",
       "<text text-anchor=\"middle\" x=\"152.5\" y=\"-105.8\" font-family=\"Times,serif\" font-size=\"14.00\">&lt;xml&#45;tree&gt;</text>\n",
       "</g>\n",
       "<!-- 12&#45;&gt;13 -->\n",
       "<g id=\"edge13\" class=\"edge\">\n",
       "<title>12&#45;&gt;13</title>\n",
       "<path fill=\"none\" stroke=\"black\" d=\"M189.52,-152.69C183.23,-145.52 173.15,-134.03 165.09,-124.85\"/>\n",
       "<polygon fill=\"black\" stroke=\"black\" points=\"167.65,-122.46 158.43,-117.26 162.39,-127.08 167.65,-122.46\"/>\n",
       "</g>\n",
       "<!-- 16 -->\n",
       "<g id=\"node17\" class=\"node\">\n",
       "<title>16</title>\n",
       "<text text-anchor=\"middle\" x=\"234.5\" y=\"-105.8\" font-family=\"Times,serif\" font-size=\"14.00\">&lt;xml&#45;tree&gt;</text>\n",
       "</g>\n",
       "<!-- 12&#45;&gt;16 -->\n",
       "<g id=\"edge16\" class=\"edge\">\n",
       "<title>12&#45;&gt;16</title>\n",
       "<path fill=\"none\" stroke=\"black\" d=\"M200.92,-152.69C206.57,-145.59 215.59,-134.26 222.86,-125.13\"/>\n",
       "<polygon fill=\"black\" stroke=\"black\" points=\"225.63,-127.26 229.12,-117.26 220.16,-122.9 225.63,-127.26\"/>\n",
       "</g>\n",
       "<!-- 14 -->\n",
       "<g id=\"node15\" class=\"node\">\n",
       "<title>14</title>\n",
       "<text text-anchor=\"middle\" x=\"152.5\" y=\"-54.8\" font-family=\"Times,serif\" font-size=\"14.00\">&lt;text&gt;</text>\n",
       "</g>\n",
       "<!-- 13&#45;&gt;14 -->\n",
       "<g id=\"edge14\" class=\"edge\">\n",
       "<title>13&#45;&gt;14</title>\n",
       "<path fill=\"none\" stroke=\"black\" d=\"M152.5,-101.69C152.5,-95.18 152.5,-85.1 152.5,-76.43\"/>\n",
       "<polygon fill=\"black\" stroke=\"black\" points=\"156,-76.26 152.5,-66.26 149,-76.26 156,-76.26\"/>\n",
       "</g>\n",
       "<!-- 15 -->\n",
       "<g id=\"node16\" class=\"node\">\n",
       "<title>15</title>\n",
       "<text text-anchor=\"middle\" x=\"152.5\" y=\"-3.8\" font-family=\"Times,serif\" font-size=\"14.00\">e</text>\n",
       "</g>\n",
       "<!-- 14&#45;&gt;15 -->\n",
       "<g id=\"edge15\" class=\"edge\">\n",
       "<title>14&#45;&gt;15</title>\n",
       "<path fill=\"none\" stroke=\"black\" d=\"M152.5,-50.69C152.5,-44.18 152.5,-34.1 152.5,-25.43\"/>\n",
       "<polygon fill=\"black\" stroke=\"black\" points=\"156,-25.26 152.5,-15.26 149,-25.26 156,-25.26\"/>\n",
       "</g>\n",
       "<!-- 17 -->\n",
       "<g id=\"node18\" class=\"node\">\n",
       "<title>17</title>\n",
       "<text text-anchor=\"middle\" x=\"234.5\" y=\"-54.8\" font-family=\"Times,serif\" font-size=\"14.00\">&lt;text&gt;</text>\n",
       "</g>\n",
       "<!-- 16&#45;&gt;17 -->\n",
       "<g id=\"edge17\" class=\"edge\">\n",
       "<title>16&#45;&gt;17</title>\n",
       "<path fill=\"none\" stroke=\"black\" d=\"M234.5,-101.69C234.5,-95.18 234.5,-85.1 234.5,-76.43\"/>\n",
       "<polygon fill=\"black\" stroke=\"black\" points=\"238,-76.26 234.5,-66.26 231,-76.26 238,-76.26\"/>\n",
       "</g>\n",
       "<!-- 18 -->\n",
       "<g id=\"node19\" class=\"node\">\n",
       "<title>18</title>\n",
       "<text text-anchor=\"middle\" x=\"234.5\" y=\"-3.8\" font-family=\"Times,serif\" font-size=\"14.00\">x</text>\n",
       "</g>\n",
       "<!-- 17&#45;&gt;18 -->\n",
       "<g id=\"edge18\" class=\"edge\">\n",
       "<title>17&#45;&gt;18</title>\n",
       "<path fill=\"none\" stroke=\"black\" d=\"M234.5,-50.69C234.5,-44.18 234.5,-34.1 234.5,-25.43\"/>\n",
       "<polygon fill=\"black\" stroke=\"black\" points=\"238,-25.26 234.5,-15.26 231,-25.26 238,-25.26\"/>\n",
       "</g>\n",
       "<!-- 20 -->\n",
       "<g id=\"node21\" class=\"node\">\n",
       "<title>20</title>\n",
       "<text text-anchor=\"middle\" x=\"303.5\" y=\"-105.8\" font-family=\"Times,serif\" font-size=\"14.00\">&lt;text&gt;</text>\n",
       "</g>\n",
       "<!-- 19&#45;&gt;20 -->\n",
       "<g id=\"edge20\" class=\"edge\">\n",
       "<title>19&#45;&gt;20</title>\n",
       "<path fill=\"none\" stroke=\"black\" d=\"M281.12,-152.69C284.72,-145.88 290.4,-135.19 295.13,-126.27\"/>\n",
       "<polygon fill=\"black\" stroke=\"black\" points=\"298.32,-127.73 299.92,-117.26 292.14,-124.45 298.32,-127.73\"/>\n",
       "</g>\n",
       "<!-- 21 -->\n",
       "<g id=\"node22\" class=\"node\">\n",
       "<title>21</title>\n",
       "<text text-anchor=\"middle\" x=\"303.5\" y=\"-54.8\" font-family=\"Times,serif\" font-size=\"14.00\">t</text>\n",
       "</g>\n",
       "<!-- 20&#45;&gt;21 -->\n",
       "<g id=\"edge21\" class=\"edge\">\n",
       "<title>20&#45;&gt;21</title>\n",
       "<path fill=\"none\" stroke=\"black\" d=\"M303.5,-101.69C303.5,-95.18 303.5,-85.1 303.5,-76.43\"/>\n",
       "<polygon fill=\"black\" stroke=\"black\" points=\"307,-76.26 303.5,-66.26 300,-76.26 307,-76.26\"/>\n",
       "</g>\n",
       "<!-- 23 -->\n",
       "<g id=\"node24\" class=\"node\">\n",
       "<title>23</title>\n",
       "<text text-anchor=\"middle\" x=\"291.5\" y=\"-207.8\" font-family=\"Times,serif\" font-size=\"14.00\">&lt;/</text>\n",
       "</g>\n",
       "<!-- 22&#45;&gt;23 -->\n",
       "<g id=\"edge23\" class=\"edge\">\n",
       "<title>22&#45;&gt;23</title>\n",
       "<path fill=\"none\" stroke=\"black\" d=\"M307.86,-254.69C305.28,-248.03 301.25,-237.65 297.84,-228.85\"/>\n",
       "<polygon fill=\"black\" stroke=\"black\" points=\"301,-227.31 294.12,-219.26 294.47,-229.84 301,-227.31\"/>\n",
       "</g>\n",
       "<!-- 24 -->\n",
       "<g id=\"node25\" class=\"node\">\n",
       "<title>24</title>\n",
       "<text text-anchor=\"middle\" x=\"330.5\" y=\"-207.8\" font-family=\"Times,serif\" font-size=\"14.00\">&lt;id&gt;</text>\n",
       "</g>\n",
       "<!-- 22&#45;&gt;24 -->\n",
       "<g id=\"edge24\" class=\"edge\">\n",
       "<title>22&#45;&gt;24</title>\n",
       "<path fill=\"none\" stroke=\"black\" d=\"M313.28,-254.69C316.03,-247.96 320.33,-237.42 323.95,-228.56\"/>\n",
       "<polygon fill=\"black\" stroke=\"black\" points=\"327.2,-229.84 327.74,-219.26 320.72,-227.19 327.2,-229.84\"/>\n",
       "</g>\n",
       "<!-- 26 -->\n",
       "<g id=\"node27\" class=\"node\">\n",
       "<title>26</title>\n",
       "<text text-anchor=\"middle\" x=\"367.5\" y=\"-207.8\" font-family=\"Times,serif\" font-size=\"14.00\">&gt;</text>\n",
       "</g>\n",
       "<!-- 22&#45;&gt;26 -->\n",
       "<g id=\"edge26\" class=\"edge\">\n",
       "<title>22&#45;&gt;26</title>\n",
       "<path fill=\"none\" stroke=\"black\" d=\"M318.43,-254.69C327.98,-246.47 344.15,-232.57 355.3,-222.98\"/>\n",
       "<polygon fill=\"black\" stroke=\"black\" points=\"357.65,-225.58 362.95,-216.41 353.08,-220.28 357.65,-225.58\"/>\n",
       "</g>\n",
       "<!-- 25 -->\n",
       "<g id=\"node26\" class=\"node\">\n",
       "<title>25</title>\n",
       "<text text-anchor=\"middle\" x=\"340.5\" y=\"-156.8\" font-family=\"Times,serif\" font-size=\"14.00\">html</text>\n",
       "</g>\n",
       "<!-- 24&#45;&gt;25 -->\n",
       "<g id=\"edge25\" class=\"edge\">\n",
       "<title>24&#45;&gt;25</title>\n",
       "<path fill=\"none\" stroke=\"black\" d=\"M331.89,-203.69C333.23,-197.1 335.32,-186.87 337.1,-178.14\"/>\n",
       "<polygon fill=\"black\" stroke=\"black\" points=\"340.55,-178.75 339.12,-168.26 333.69,-177.35 340.55,-178.75\"/>\n",
       "</g>\n",
       "</g>\n",
       "</svg>\n"
      ],
      "text/plain": [
       "<graphviz.graphs.Digraph at 0x1545c87c0>"
      ]
     },
     "metadata": {},
     "output_type": "display_data"
    },
    {
     "data": {
      "image/svg+xml": [
       "<?xml version=\"1.0\" encoding=\"UTF-8\" standalone=\"no\"?>\n",
       "<!DOCTYPE svg PUBLIC \"-//W3C//DTD SVG 1.1//EN\"\n",
       " \"http://www.w3.org/Graphics/SVG/1.1/DTD/svg11.dtd\">\n",
       "<!-- Generated by graphviz version 3.0.0 (20220226.1711)\n",
       " -->\n",
       "<!-- Pages: 1 -->\n",
       "<svg width=\"391pt\" height=\"380pt\"\n",
       " viewBox=\"0.00 0.00 390.50 380.00\" xmlns=\"http://www.w3.org/2000/svg\" xmlns:xlink=\"http://www.w3.org/1999/xlink\">\n",
       "<g id=\"graph0\" class=\"graph\" transform=\"scale(1 1) rotate(0) translate(4 376)\">\n",
       "<polygon fill=\"white\" stroke=\"transparent\" points=\"-4,4 -4,-376 386.5,-376 386.5,4 -4,4\"/>\n",
       "<!-- 0 -->\n",
       "<g id=\"node1\" class=\"node\">\n",
       "<title>0</title>\n",
       "<text text-anchor=\"middle\" x=\"175.5\" y=\"-360.8\" font-family=\"Times,serif\" font-size=\"14.00\">&lt;start&gt;</text>\n",
       "</g>\n",
       "<!-- 1 -->\n",
       "<g id=\"node2\" class=\"node\">\n",
       "<title>1</title>\n",
       "<text text-anchor=\"middle\" x=\"175.5\" y=\"-309.8\" font-family=\"Times,serif\" font-size=\"14.00\">&lt;xml&#45;tree&gt;</text>\n",
       "</g>\n",
       "<!-- 0&#45;&gt;1 -->\n",
       "<g id=\"edge1\" class=\"edge\">\n",
       "<title>0&#45;&gt;1</title>\n",
       "<path fill=\"none\" stroke=\"black\" d=\"M175.5,-356.69C175.5,-350.18 175.5,-340.1 175.5,-331.43\"/>\n",
       "<polygon fill=\"black\" stroke=\"black\" points=\"179,-331.26 175.5,-321.26 172,-331.26 179,-331.26\"/>\n",
       "</g>\n",
       "<!-- 2 -->\n",
       "<g id=\"node3\" class=\"node\">\n",
       "<title>2</title>\n",
       "<text text-anchor=\"middle\" x=\"60.5\" y=\"-258.8\" font-family=\"Times,serif\" font-size=\"14.00\">&lt;xml&#45;open&#45;tag&gt;</text>\n",
       "</g>\n",
       "<!-- 1&#45;&gt;2 -->\n",
       "<g id=\"edge2\" class=\"edge\">\n",
       "<title>1&#45;&gt;2</title>\n",
       "<path fill=\"none\" stroke=\"black\" d=\"M159.99,-305.89C140.76,-297.7 107.77,-283.64 85.08,-273.97\"/>\n",
       "<polygon fill=\"black\" stroke=\"black\" points=\"86.34,-270.7 75.76,-270 83.59,-277.14 86.34,-270.7\"/>\n",
       "</g>\n",
       "<!-- 7 -->\n",
       "<g id=\"node8\" class=\"node\">\n",
       "<title>7</title>\n",
       "<text text-anchor=\"middle\" x=\"175.5\" y=\"-258.8\" font-family=\"Times,serif\" font-size=\"14.00\">&lt;xml&#45;tree&gt;</text>\n",
       "</g>\n",
       "<!-- 1&#45;&gt;7 -->\n",
       "<g id=\"edge7\" class=\"edge\">\n",
       "<title>1&#45;&gt;7</title>\n",
       "<path fill=\"none\" stroke=\"black\" d=\"M175.5,-305.69C175.5,-299.18 175.5,-289.1 175.5,-280.43\"/>\n",
       "<polygon fill=\"black\" stroke=\"black\" points=\"179,-280.26 175.5,-270.26 172,-280.26 179,-280.26\"/>\n",
       "</g>\n",
       "<!-- 22 -->\n",
       "<g id=\"node23\" class=\"node\">\n",
       "<title>22</title>\n",
       "<text text-anchor=\"middle\" x=\"309.5\" y=\"-258.8\" font-family=\"Times,serif\" font-size=\"14.00\">&lt;xml&#45;close&#45;tag&gt;</text>\n",
       "</g>\n",
       "<!-- 1&#45;&gt;22 -->\n",
       "<g id=\"edge22\" class=\"edge\">\n",
       "<title>1&#45;&gt;22</title>\n",
       "<path fill=\"none\" stroke=\"black\" d=\"M193.29,-305.99C216.02,-297.68 255.58,-283.22 282.15,-273.5\"/>\n",
       "<polygon fill=\"black\" stroke=\"black\" points=\"283.44,-276.76 291.63,-270.03 281.04,-270.18 283.44,-276.76\"/>\n",
       "</g>\n",
       "<!-- 3 -->\n",
       "<g id=\"node4\" class=\"node\">\n",
       "<title>3</title>\n",
       "<text text-anchor=\"middle\" x=\"4.5\" y=\"-207.8\" font-family=\"Times,serif\" font-size=\"14.00\">&lt;</text>\n",
       "</g>\n",
       "<!-- 2&#45;&gt;3 -->\n",
       "<g id=\"edge3\" class=\"edge\">\n",
       "<title>2&#45;&gt;3</title>\n",
       "<path fill=\"none\" stroke=\"black\" d=\"M52.71,-254.69C43.42,-246.55 27.76,-232.85 16.81,-223.28\"/>\n",
       "<polygon fill=\"black\" stroke=\"black\" points=\"19.09,-220.62 9.26,-216.67 14.48,-225.89 19.09,-220.62\"/>\n",
       "</g>\n",
       "<!-- 4 -->\n",
       "<g id=\"node5\" class=\"node\">\n",
       "<title>4</title>\n",
       "<text text-anchor=\"middle\" x=\"41.5\" y=\"-207.8\" font-family=\"Times,serif\" font-size=\"14.00\">&lt;id&gt;</text>\n",
       "</g>\n",
       "<!-- 2&#45;&gt;4 -->\n",
       "<g id=\"edge4\" class=\"edge\">\n",
       "<title>2&#45;&gt;4</title>\n",
       "<path fill=\"none\" stroke=\"black\" d=\"M57.86,-254.69C55.28,-248.03 51.25,-237.65 47.84,-228.85\"/>\n",
       "<polygon fill=\"black\" stroke=\"black\" points=\"51,-227.31 44.12,-219.26 44.47,-229.84 51,-227.31\"/>\n",
       "</g>\n",
       "<!-- 6 -->\n",
       "<g id=\"node7\" class=\"node\">\n",
       "<title>6</title>\n",
       "<text text-anchor=\"middle\" x=\"78.5\" y=\"-207.8\" font-family=\"Times,serif\" font-size=\"14.00\">&gt;</text>\n",
       "</g>\n",
       "<!-- 2&#45;&gt;6 -->\n",
       "<g id=\"edge6\" class=\"edge\">\n",
       "<title>2&#45;&gt;6</title>\n",
       "<path fill=\"none\" stroke=\"black\" d=\"M63,-254.69C65.45,-248.03 69.26,-237.65 72.49,-228.85\"/>\n",
       "<polygon fill=\"black\" stroke=\"black\" points=\"75.86,-229.85 76.02,-219.26 69.28,-227.44 75.86,-229.85\"/>\n",
       "</g>\n",
       "<!-- 5 -->\n",
       "<g id=\"node6\" class=\"node\">\n",
       "<title>5</title>\n",
       "<text text-anchor=\"middle\" x=\"41.5\" y=\"-156.8\" font-family=\"Times,serif\" font-size=\"14.00\">html</text>\n",
       "</g>\n",
       "<!-- 4&#45;&gt;5 -->\n",
       "<g id=\"edge5\" class=\"edge\">\n",
       "<title>4&#45;&gt;5</title>\n",
       "<path fill=\"none\" stroke=\"black\" d=\"M41.5,-203.69C41.5,-197.18 41.5,-187.1 41.5,-178.43\"/>\n",
       "<polygon fill=\"black\" stroke=\"black\" points=\"45,-178.26 41.5,-168.26 38,-178.26 45,-178.26\"/>\n",
       "</g>\n",
       "<!-- 8 -->\n",
       "<g id=\"node9\" class=\"node\">\n",
       "<title>8</title>\n",
       "<text text-anchor=\"middle\" x=\"133.5\" y=\"-207.8\" font-family=\"Times,serif\" font-size=\"14.00\">&lt;xml&#45;tree&gt;</text>\n",
       "</g>\n",
       "<!-- 7&#45;&gt;8 -->\n",
       "<g id=\"edge8\" class=\"edge\">\n",
       "<title>7&#45;&gt;8</title>\n",
       "<path fill=\"none\" stroke=\"black\" d=\"M169.66,-254.69C163.58,-247.59 153.87,-236.26 146.04,-227.13\"/>\n",
       "<polygon fill=\"black\" stroke=\"black\" points=\"148.46,-224.57 139.29,-219.26 143.14,-229.13 148.46,-224.57\"/>\n",
       "</g>\n",
       "<!-- 11 -->\n",
       "<g id=\"node12\" class=\"node\">\n",
       "<title>11</title>\n",
       "<text text-anchor=\"middle\" x=\"215.5\" y=\"-207.8\" font-family=\"Times,serif\" font-size=\"14.00\">&lt;xml&#45;tree&gt;</text>\n",
       "</g>\n",
       "<!-- 7&#45;&gt;11 -->\n",
       "<g id=\"edge11\" class=\"edge\">\n",
       "<title>7&#45;&gt;11</title>\n",
       "<path fill=\"none\" stroke=\"black\" d=\"M181.06,-254.69C186.85,-247.59 196.1,-236.26 203.56,-227.13\"/>\n",
       "<polygon fill=\"black\" stroke=\"black\" points=\"206.37,-229.22 209.99,-219.26 200.95,-224.79 206.37,-229.22\"/>\n",
       "</g>\n",
       "<!-- 9 -->\n",
       "<g id=\"node10\" class=\"node\">\n",
       "<title>9</title>\n",
       "<text text-anchor=\"middle\" x=\"124.5\" y=\"-156.8\" font-family=\"Times,serif\" font-size=\"14.00\">&lt;text&gt;</text>\n",
       "</g>\n",
       "<!-- 8&#45;&gt;9 -->\n",
       "<g id=\"edge9\" class=\"edge\">\n",
       "<title>8&#45;&gt;9</title>\n",
       "<path fill=\"none\" stroke=\"black\" d=\"M132.25,-203.69C131.04,-197.1 129.16,-186.87 127.56,-178.14\"/>\n",
       "<polygon fill=\"black\" stroke=\"black\" points=\"130.99,-177.46 125.74,-168.26 124.1,-178.72 130.99,-177.46\"/>\n",
       "</g>\n",
       "<!-- 10 -->\n",
       "<g id=\"node11\" class=\"node\">\n",
       "<title>10</title>\n",
       "<text text-anchor=\"middle\" x=\"124.5\" y=\"-105.8\" font-family=\"Times,serif\" font-size=\"14.00\">T</text>\n",
       "</g>\n",
       "<!-- 9&#45;&gt;10 -->\n",
       "<g id=\"edge10\" class=\"edge\">\n",
       "<title>9&#45;&gt;10</title>\n",
       "<path fill=\"none\" stroke=\"black\" d=\"M124.5,-152.69C124.5,-146.18 124.5,-136.1 124.5,-127.43\"/>\n",
       "<polygon fill=\"black\" stroke=\"black\" points=\"128,-127.26 124.5,-117.26 121,-127.26 128,-127.26\"/>\n",
       "</g>\n",
       "<!-- 12 -->\n",
       "<g id=\"node13\" class=\"node\">\n",
       "<title>12</title>\n",
       "<text text-anchor=\"middle\" x=\"193.5\" y=\"-156.8\" font-family=\"Times,serif\" font-size=\"14.00\">&lt;xml&#45;tree&gt;</text>\n",
       "</g>\n",
       "<!-- 11&#45;&gt;12 -->\n",
       "<g id=\"edge12\" class=\"edge\">\n",
       "<title>11&#45;&gt;12</title>\n",
       "<path fill=\"none\" stroke=\"black\" d=\"M212.44,-203.69C209.42,-196.96 204.69,-186.42 200.71,-177.56\"/>\n",
       "<polygon fill=\"black\" stroke=\"black\" points=\"203.82,-175.94 196.53,-168.26 197.44,-178.81 203.82,-175.94\"/>\n",
       "</g>\n",
       "<!-- 15 -->\n",
       "<g id=\"node16\" class=\"node\">\n",
       "<title>15</title>\n",
       "<text text-anchor=\"middle\" x=\"275.5\" y=\"-156.8\" font-family=\"Times,serif\" font-size=\"14.00\">&lt;xml&#45;tree&gt;</text>\n",
       "</g>\n",
       "<!-- 11&#45;&gt;15 -->\n",
       "<g id=\"edge15\" class=\"edge\">\n",
       "<title>11&#45;&gt;15</title>\n",
       "<path fill=\"none\" stroke=\"black\" d=\"M223.84,-203.69C232.98,-196.23 247.85,-184.08 259.29,-174.73\"/>\n",
       "<polygon fill=\"black\" stroke=\"black\" points=\"261.7,-177.29 267.23,-168.26 257.27,-171.87 261.7,-177.29\"/>\n",
       "</g>\n",
       "<!-- 13 -->\n",
       "<g id=\"node14\" class=\"node\">\n",
       "<title>13</title>\n",
       "<text text-anchor=\"middle\" x=\"193.5\" y=\"-105.8\" font-family=\"Times,serif\" font-size=\"14.00\">&lt;text&gt;</text>\n",
       "</g>\n",
       "<!-- 12&#45;&gt;13 -->\n",
       "<g id=\"edge13\" class=\"edge\">\n",
       "<title>12&#45;&gt;13</title>\n",
       "<path fill=\"none\" stroke=\"black\" d=\"M193.5,-152.69C193.5,-146.18 193.5,-136.1 193.5,-127.43\"/>\n",
       "<polygon fill=\"black\" stroke=\"black\" points=\"197,-127.26 193.5,-117.26 190,-127.26 197,-127.26\"/>\n",
       "</g>\n",
       "<!-- 14 -->\n",
       "<g id=\"node15\" class=\"node\">\n",
       "<title>14</title>\n",
       "<text text-anchor=\"middle\" x=\"193.5\" y=\"-54.8\" font-family=\"Times,serif\" font-size=\"14.00\">e</text>\n",
       "</g>\n",
       "<!-- 13&#45;&gt;14 -->\n",
       "<g id=\"edge14\" class=\"edge\">\n",
       "<title>13&#45;&gt;14</title>\n",
       "<path fill=\"none\" stroke=\"black\" d=\"M193.5,-101.69C193.5,-95.18 193.5,-85.1 193.5,-76.43\"/>\n",
       "<polygon fill=\"black\" stroke=\"black\" points=\"197,-76.26 193.5,-66.26 190,-76.26 197,-76.26\"/>\n",
       "</g>\n",
       "<!-- 16 -->\n",
       "<g id=\"node17\" class=\"node\">\n",
       "<title>16</title>\n",
       "<text text-anchor=\"middle\" x=\"268.5\" y=\"-105.8\" font-family=\"Times,serif\" font-size=\"14.00\">&lt;xml&#45;tree&gt;</text>\n",
       "</g>\n",
       "<!-- 15&#45;&gt;16 -->\n",
       "<g id=\"edge16\" class=\"edge\">\n",
       "<title>15&#45;&gt;16</title>\n",
       "<path fill=\"none\" stroke=\"black\" d=\"M274.53,-152.69C273.6,-146.18 272.16,-136.1 270.92,-127.43\"/>\n",
       "<polygon fill=\"black\" stroke=\"black\" points=\"274.34,-126.66 269.47,-117.26 267.41,-127.65 274.34,-126.66\"/>\n",
       "</g>\n",
       "<!-- 19 -->\n",
       "<g id=\"node20\" class=\"node\">\n",
       "<title>19</title>\n",
       "<text text-anchor=\"middle\" x=\"350.5\" y=\"-105.8\" font-family=\"Times,serif\" font-size=\"14.00\">&lt;xml&#45;tree&gt;</text>\n",
       "</g>\n",
       "<!-- 15&#45;&gt;19 -->\n",
       "<g id=\"edge19\" class=\"edge\">\n",
       "<title>15&#45;&gt;19</title>\n",
       "<path fill=\"none\" stroke=\"black\" d=\"M285.61,-152.89C297.42,-145.18 317.2,-132.26 331.82,-122.71\"/>\n",
       "<polygon fill=\"black\" stroke=\"black\" points=\"334.09,-125.4 340.55,-117 330.26,-119.54 334.09,-125.4\"/>\n",
       "</g>\n",
       "<!-- 17 -->\n",
       "<g id=\"node18\" class=\"node\">\n",
       "<title>17</title>\n",
       "<text text-anchor=\"middle\" x=\"268.5\" y=\"-54.8\" font-family=\"Times,serif\" font-size=\"14.00\">&lt;text&gt;</text>\n",
       "</g>\n",
       "<!-- 16&#45;&gt;17 -->\n",
       "<g id=\"edge17\" class=\"edge\">\n",
       "<title>16&#45;&gt;17</title>\n",
       "<path fill=\"none\" stroke=\"black\" d=\"M268.5,-101.69C268.5,-95.18 268.5,-85.1 268.5,-76.43\"/>\n",
       "<polygon fill=\"black\" stroke=\"black\" points=\"272,-76.26 268.5,-66.26 265,-76.26 272,-76.26\"/>\n",
       "</g>\n",
       "<!-- 18 -->\n",
       "<g id=\"node19\" class=\"node\">\n",
       "<title>18</title>\n",
       "<text text-anchor=\"middle\" x=\"268.5\" y=\"-3.8\" font-family=\"Times,serif\" font-size=\"14.00\">x</text>\n",
       "</g>\n",
       "<!-- 17&#45;&gt;18 -->\n",
       "<g id=\"edge18\" class=\"edge\">\n",
       "<title>17&#45;&gt;18</title>\n",
       "<path fill=\"none\" stroke=\"black\" d=\"M268.5,-50.69C268.5,-44.18 268.5,-34.1 268.5,-25.43\"/>\n",
       "<polygon fill=\"black\" stroke=\"black\" points=\"272,-25.26 268.5,-15.26 265,-25.26 272,-25.26\"/>\n",
       "</g>\n",
       "<!-- 20 -->\n",
       "<g id=\"node21\" class=\"node\">\n",
       "<title>20</title>\n",
       "<text text-anchor=\"middle\" x=\"350.5\" y=\"-54.8\" font-family=\"Times,serif\" font-size=\"14.00\">&lt;text&gt;</text>\n",
       "</g>\n",
       "<!-- 19&#45;&gt;20 -->\n",
       "<g id=\"edge20\" class=\"edge\">\n",
       "<title>19&#45;&gt;20</title>\n",
       "<path fill=\"none\" stroke=\"black\" d=\"M350.5,-101.69C350.5,-95.18 350.5,-85.1 350.5,-76.43\"/>\n",
       "<polygon fill=\"black\" stroke=\"black\" points=\"354,-76.26 350.5,-66.26 347,-76.26 354,-76.26\"/>\n",
       "</g>\n",
       "<!-- 21 -->\n",
       "<g id=\"node22\" class=\"node\">\n",
       "<title>21</title>\n",
       "<text text-anchor=\"middle\" x=\"350.5\" y=\"-3.8\" font-family=\"Times,serif\" font-size=\"14.00\">t</text>\n",
       "</g>\n",
       "<!-- 20&#45;&gt;21 -->\n",
       "<g id=\"edge21\" class=\"edge\">\n",
       "<title>20&#45;&gt;21</title>\n",
       "<path fill=\"none\" stroke=\"black\" d=\"M350.5,-50.69C350.5,-44.18 350.5,-34.1 350.5,-25.43\"/>\n",
       "<polygon fill=\"black\" stroke=\"black\" points=\"354,-25.26 350.5,-15.26 347,-25.26 354,-25.26\"/>\n",
       "</g>\n",
       "<!-- 23 -->\n",
       "<g id=\"node24\" class=\"node\">\n",
       "<title>23</title>\n",
       "<text text-anchor=\"middle\" x=\"290.5\" y=\"-207.8\" font-family=\"Times,serif\" font-size=\"14.00\">&lt;/</text>\n",
       "</g>\n",
       "<!-- 22&#45;&gt;23 -->\n",
       "<g id=\"edge23\" class=\"edge\">\n",
       "<title>22&#45;&gt;23</title>\n",
       "<path fill=\"none\" stroke=\"black\" d=\"M306.86,-254.69C304.28,-248.03 300.25,-237.65 296.84,-228.85\"/>\n",
       "<polygon fill=\"black\" stroke=\"black\" points=\"300,-227.31 293.12,-219.26 293.47,-229.84 300,-227.31\"/>\n",
       "</g>\n",
       "<!-- 24 -->\n",
       "<g id=\"node25\" class=\"node\">\n",
       "<title>24</title>\n",
       "<text text-anchor=\"middle\" x=\"329.5\" y=\"-207.8\" font-family=\"Times,serif\" font-size=\"14.00\">&lt;id&gt;</text>\n",
       "</g>\n",
       "<!-- 22&#45;&gt;24 -->\n",
       "<g id=\"edge24\" class=\"edge\">\n",
       "<title>22&#45;&gt;24</title>\n",
       "<path fill=\"none\" stroke=\"black\" d=\"M312.28,-254.69C315.03,-247.96 319.33,-237.42 322.95,-228.56\"/>\n",
       "<polygon fill=\"black\" stroke=\"black\" points=\"326.2,-229.84 326.74,-219.26 319.72,-227.19 326.2,-229.84\"/>\n",
       "</g>\n",
       "<!-- 26 -->\n",
       "<g id=\"node27\" class=\"node\">\n",
       "<title>26</title>\n",
       "<text text-anchor=\"middle\" x=\"366.5\" y=\"-207.8\" font-family=\"Times,serif\" font-size=\"14.00\">&gt;</text>\n",
       "</g>\n",
       "<!-- 22&#45;&gt;26 -->\n",
       "<g id=\"edge26\" class=\"edge\">\n",
       "<title>22&#45;&gt;26</title>\n",
       "<path fill=\"none\" stroke=\"black\" d=\"M317.43,-254.69C326.98,-246.47 343.15,-232.57 354.3,-222.98\"/>\n",
       "<polygon fill=\"black\" stroke=\"black\" points=\"356.65,-225.58 361.95,-216.41 352.08,-220.28 356.65,-225.58\"/>\n",
       "</g>\n",
       "<!-- 25 -->\n",
       "<g id=\"node26\" class=\"node\">\n",
       "<title>25</title>\n",
       "<text text-anchor=\"middle\" x=\"338.5\" y=\"-156.8\" font-family=\"Times,serif\" font-size=\"14.00\">html</text>\n",
       "</g>\n",
       "<!-- 24&#45;&gt;25 -->\n",
       "<g id=\"edge25\" class=\"edge\">\n",
       "<title>24&#45;&gt;25</title>\n",
       "<path fill=\"none\" stroke=\"black\" d=\"M330.75,-203.69C331.96,-197.1 333.84,-186.87 335.44,-178.14\"/>\n",
       "<polygon fill=\"black\" stroke=\"black\" points=\"338.9,-178.72 337.26,-168.26 332.01,-177.46 338.9,-178.72\"/>\n",
       "</g>\n",
       "</g>\n",
       "</svg>\n"
      ],
      "text/plain": [
       "<graphviz.graphs.Digraph at 0x1545c88e0>"
      ]
     },
     "metadata": {},
     "output_type": "display_data"
    },
    {
     "data": {
      "image/svg+xml": [
       "<?xml version=\"1.0\" encoding=\"UTF-8\" standalone=\"no\"?>\n",
       "<!DOCTYPE svg PUBLIC \"-//W3C//DTD SVG 1.1//EN\"\n",
       " \"http://www.w3.org/Graphics/SVG/1.1/DTD/svg11.dtd\">\n",
       "<!-- Generated by graphviz version 3.0.0 (20220226.1711)\n",
       " -->\n",
       "<!-- Pages: 1 -->\n",
       "<svg width=\"379pt\" height=\"329pt\"\n",
       " viewBox=\"0.00 0.00 379.00 329.00\" xmlns=\"http://www.w3.org/2000/svg\" xmlns:xlink=\"http://www.w3.org/1999/xlink\">\n",
       "<g id=\"graph0\" class=\"graph\" transform=\"scale(1 1) rotate(0) translate(4 325)\">\n",
       "<polygon fill=\"white\" stroke=\"transparent\" points=\"-4,4 -4,-325 375,-325 375,4 -4,4\"/>\n",
       "<!-- 0 -->\n",
       "<g id=\"node1\" class=\"node\">\n",
       "<title>0</title>\n",
       "<text text-anchor=\"middle\" x=\"175.5\" y=\"-309.8\" font-family=\"Times,serif\" font-size=\"14.00\">&lt;start&gt;</text>\n",
       "</g>\n",
       "<!-- 1 -->\n",
       "<g id=\"node2\" class=\"node\">\n",
       "<title>1</title>\n",
       "<text text-anchor=\"middle\" x=\"175.5\" y=\"-258.8\" font-family=\"Times,serif\" font-size=\"14.00\">&lt;xml&#45;tree&gt;</text>\n",
       "</g>\n",
       "<!-- 0&#45;&gt;1 -->\n",
       "<g id=\"edge1\" class=\"edge\">\n",
       "<title>0&#45;&gt;1</title>\n",
       "<path fill=\"none\" stroke=\"black\" d=\"M175.5,-305.69C175.5,-299.18 175.5,-289.1 175.5,-280.43\"/>\n",
       "<polygon fill=\"black\" stroke=\"black\" points=\"179,-280.26 175.5,-270.26 172,-280.26 179,-280.26\"/>\n",
       "</g>\n",
       "<!-- 2 -->\n",
       "<g id=\"node3\" class=\"node\">\n",
       "<title>2</title>\n",
       "<text text-anchor=\"middle\" x=\"60.5\" y=\"-207.8\" font-family=\"Times,serif\" font-size=\"14.00\">&lt;xml&#45;open&#45;tag&gt;</text>\n",
       "</g>\n",
       "<!-- 1&#45;&gt;2 -->\n",
       "<g id=\"edge2\" class=\"edge\">\n",
       "<title>1&#45;&gt;2</title>\n",
       "<path fill=\"none\" stroke=\"black\" d=\"M159.99,-254.89C140.76,-246.7 107.77,-232.64 85.08,-222.97\"/>\n",
       "<polygon fill=\"black\" stroke=\"black\" points=\"86.34,-219.7 75.76,-219 83.59,-226.14 86.34,-219.7\"/>\n",
       "</g>\n",
       "<!-- 7 -->\n",
       "<g id=\"node8\" class=\"node\">\n",
       "<title>7</title>\n",
       "<text text-anchor=\"middle\" x=\"175.5\" y=\"-207.8\" font-family=\"Times,serif\" font-size=\"14.00\">&lt;xml&#45;tree&gt;</text>\n",
       "</g>\n",
       "<!-- 1&#45;&gt;7 -->\n",
       "<g id=\"edge7\" class=\"edge\">\n",
       "<title>1&#45;&gt;7</title>\n",
       "<path fill=\"none\" stroke=\"black\" d=\"M175.5,-254.69C175.5,-248.18 175.5,-238.1 175.5,-229.43\"/>\n",
       "<polygon fill=\"black\" stroke=\"black\" points=\"179,-229.26 175.5,-219.26 172,-229.26 179,-229.26\"/>\n",
       "</g>\n",
       "<!-- 18 -->\n",
       "<g id=\"node19\" class=\"node\">\n",
       "<title>18</title>\n",
       "<text text-anchor=\"middle\" x=\"309.5\" y=\"-207.8\" font-family=\"Times,serif\" font-size=\"14.00\">&lt;xml&#45;close&#45;tag&gt;</text>\n",
       "</g>\n",
       "<!-- 1&#45;&gt;18 -->\n",
       "<g id=\"edge18\" class=\"edge\">\n",
       "<title>1&#45;&gt;18</title>\n",
       "<path fill=\"none\" stroke=\"black\" d=\"M193.29,-254.99C216.02,-246.68 255.58,-232.22 282.15,-222.5\"/>\n",
       "<polygon fill=\"black\" stroke=\"black\" points=\"283.44,-225.76 291.63,-219.03 281.04,-219.18 283.44,-225.76\"/>\n",
       "</g>\n",
       "<!-- 3 -->\n",
       "<g id=\"node4\" class=\"node\">\n",
       "<title>3</title>\n",
       "<text text-anchor=\"middle\" x=\"4.5\" y=\"-156.8\" font-family=\"Times,serif\" font-size=\"14.00\">&lt;</text>\n",
       "</g>\n",
       "<!-- 2&#45;&gt;3 -->\n",
       "<g id=\"edge3\" class=\"edge\">\n",
       "<title>2&#45;&gt;3</title>\n",
       "<path fill=\"none\" stroke=\"black\" d=\"M52.71,-203.69C43.42,-195.55 27.76,-181.85 16.81,-172.28\"/>\n",
       "<polygon fill=\"black\" stroke=\"black\" points=\"19.09,-169.62 9.26,-165.67 14.48,-174.89 19.09,-169.62\"/>\n",
       "</g>\n",
       "<!-- 4 -->\n",
       "<g id=\"node5\" class=\"node\">\n",
       "<title>4</title>\n",
       "<text text-anchor=\"middle\" x=\"41.5\" y=\"-156.8\" font-family=\"Times,serif\" font-size=\"14.00\">&lt;id&gt;</text>\n",
       "</g>\n",
       "<!-- 2&#45;&gt;4 -->\n",
       "<g id=\"edge4\" class=\"edge\">\n",
       "<title>2&#45;&gt;4</title>\n",
       "<path fill=\"none\" stroke=\"black\" d=\"M57.86,-203.69C55.28,-197.03 51.25,-186.65 47.84,-177.85\"/>\n",
       "<polygon fill=\"black\" stroke=\"black\" points=\"51,-176.31 44.12,-168.26 44.47,-178.84 51,-176.31\"/>\n",
       "</g>\n",
       "<!-- 6 -->\n",
       "<g id=\"node7\" class=\"node\">\n",
       "<title>6</title>\n",
       "<text text-anchor=\"middle\" x=\"78.5\" y=\"-156.8\" font-family=\"Times,serif\" font-size=\"14.00\">&gt;</text>\n",
       "</g>\n",
       "<!-- 2&#45;&gt;6 -->\n",
       "<g id=\"edge6\" class=\"edge\">\n",
       "<title>2&#45;&gt;6</title>\n",
       "<path fill=\"none\" stroke=\"black\" d=\"M63,-203.69C65.45,-197.03 69.26,-186.65 72.49,-177.85\"/>\n",
       "<polygon fill=\"black\" stroke=\"black\" points=\"75.86,-178.85 76.02,-168.26 69.28,-176.44 75.86,-178.85\"/>\n",
       "</g>\n",
       "<!-- 5 -->\n",
       "<g id=\"node6\" class=\"node\">\n",
       "<title>5</title>\n",
       "<text text-anchor=\"middle\" x=\"41.5\" y=\"-105.8\" font-family=\"Times,serif\" font-size=\"14.00\">html</text>\n",
       "</g>\n",
       "<!-- 4&#45;&gt;5 -->\n",
       "<g id=\"edge5\" class=\"edge\">\n",
       "<title>4&#45;&gt;5</title>\n",
       "<path fill=\"none\" stroke=\"black\" d=\"M41.5,-152.69C41.5,-146.18 41.5,-136.1 41.5,-127.43\"/>\n",
       "<polygon fill=\"black\" stroke=\"black\" points=\"45,-127.26 41.5,-117.26 38,-127.26 45,-127.26\"/>\n",
       "</g>\n",
       "<!-- 8 -->\n",
       "<g id=\"node9\" class=\"node\">\n",
       "<title>8</title>\n",
       "<text text-anchor=\"middle\" x=\"133.5\" y=\"-156.8\" font-family=\"Times,serif\" font-size=\"14.00\">&lt;xml&#45;tree&gt;</text>\n",
       "</g>\n",
       "<!-- 7&#45;&gt;8 -->\n",
       "<g id=\"edge8\" class=\"edge\">\n",
       "<title>7&#45;&gt;8</title>\n",
       "<path fill=\"none\" stroke=\"black\" d=\"M169.66,-203.69C163.58,-196.59 153.87,-185.26 146.04,-176.13\"/>\n",
       "<polygon fill=\"black\" stroke=\"black\" points=\"148.46,-173.57 139.29,-168.26 143.14,-178.13 148.46,-173.57\"/>\n",
       "</g>\n",
       "<!-- 11 -->\n",
       "<g id=\"node12\" class=\"node\">\n",
       "<title>11</title>\n",
       "<text text-anchor=\"middle\" x=\"215.5\" y=\"-156.8\" font-family=\"Times,serif\" font-size=\"14.00\">&lt;xml&#45;tree&gt;</text>\n",
       "</g>\n",
       "<!-- 7&#45;&gt;11 -->\n",
       "<g id=\"edge11\" class=\"edge\">\n",
       "<title>7&#45;&gt;11</title>\n",
       "<path fill=\"none\" stroke=\"black\" d=\"M181.06,-203.69C186.85,-196.59 196.1,-185.26 203.56,-176.13\"/>\n",
       "<polygon fill=\"black\" stroke=\"black\" points=\"206.37,-178.22 209.99,-168.26 200.95,-173.79 206.37,-178.22\"/>\n",
       "</g>\n",
       "<!-- 9 -->\n",
       "<g id=\"node10\" class=\"node\">\n",
       "<title>9</title>\n",
       "<text text-anchor=\"middle\" x=\"124.5\" y=\"-105.8\" font-family=\"Times,serif\" font-size=\"14.00\">&lt;text&gt;</text>\n",
       "</g>\n",
       "<!-- 8&#45;&gt;9 -->\n",
       "<g id=\"edge9\" class=\"edge\">\n",
       "<title>8&#45;&gt;9</title>\n",
       "<path fill=\"none\" stroke=\"black\" d=\"M132.25,-152.69C131.04,-146.1 129.16,-135.87 127.56,-127.14\"/>\n",
       "<polygon fill=\"black\" stroke=\"black\" points=\"130.99,-126.46 125.74,-117.26 124.1,-127.72 130.99,-126.46\"/>\n",
       "</g>\n",
       "<!-- 10 -->\n",
       "<g id=\"node11\" class=\"node\">\n",
       "<title>10</title>\n",
       "<text text-anchor=\"middle\" x=\"124.5\" y=\"-54.8\" font-family=\"Times,serif\" font-size=\"14.00\">Te</text>\n",
       "</g>\n",
       "<!-- 9&#45;&gt;10 -->\n",
       "<g id=\"edge10\" class=\"edge\">\n",
       "<title>9&#45;&gt;10</title>\n",
       "<path fill=\"none\" stroke=\"black\" d=\"M124.5,-101.69C124.5,-95.18 124.5,-85.1 124.5,-76.43\"/>\n",
       "<polygon fill=\"black\" stroke=\"black\" points=\"128,-76.26 124.5,-66.26 121,-76.26 128,-76.26\"/>\n",
       "</g>\n",
       "<!-- 12 -->\n",
       "<g id=\"node13\" class=\"node\">\n",
       "<title>12</title>\n",
       "<text text-anchor=\"middle\" x=\"193.5\" y=\"-105.8\" font-family=\"Times,serif\" font-size=\"14.00\">&lt;xml&#45;tree&gt;</text>\n",
       "</g>\n",
       "<!-- 11&#45;&gt;12 -->\n",
       "<g id=\"edge12\" class=\"edge\">\n",
       "<title>11&#45;&gt;12</title>\n",
       "<path fill=\"none\" stroke=\"black\" d=\"M212.44,-152.69C209.42,-145.96 204.69,-135.42 200.71,-126.56\"/>\n",
       "<polygon fill=\"black\" stroke=\"black\" points=\"203.82,-124.94 196.53,-117.26 197.44,-127.81 203.82,-124.94\"/>\n",
       "</g>\n",
       "<!-- 15 -->\n",
       "<g id=\"node16\" class=\"node\">\n",
       "<title>15</title>\n",
       "<text text-anchor=\"middle\" x=\"275.5\" y=\"-105.8\" font-family=\"Times,serif\" font-size=\"14.00\">&lt;xml&#45;tree&gt;</text>\n",
       "</g>\n",
       "<!-- 11&#45;&gt;15 -->\n",
       "<g id=\"edge15\" class=\"edge\">\n",
       "<title>11&#45;&gt;15</title>\n",
       "<path fill=\"none\" stroke=\"black\" d=\"M223.84,-152.69C232.98,-145.23 247.85,-133.08 259.29,-123.73\"/>\n",
       "<polygon fill=\"black\" stroke=\"black\" points=\"261.7,-126.29 267.23,-117.26 257.27,-120.87 261.7,-126.29\"/>\n",
       "</g>\n",
       "<!-- 13 -->\n",
       "<g id=\"node14\" class=\"node\">\n",
       "<title>13</title>\n",
       "<text text-anchor=\"middle\" x=\"193.5\" y=\"-54.8\" font-family=\"Times,serif\" font-size=\"14.00\">&lt;text&gt;</text>\n",
       "</g>\n",
       "<!-- 12&#45;&gt;13 -->\n",
       "<g id=\"edge13\" class=\"edge\">\n",
       "<title>12&#45;&gt;13</title>\n",
       "<path fill=\"none\" stroke=\"black\" d=\"M193.5,-101.69C193.5,-95.18 193.5,-85.1 193.5,-76.43\"/>\n",
       "<polygon fill=\"black\" stroke=\"black\" points=\"197,-76.26 193.5,-66.26 190,-76.26 197,-76.26\"/>\n",
       "</g>\n",
       "<!-- 14 -->\n",
       "<g id=\"node15\" class=\"node\">\n",
       "<title>14</title>\n",
       "<text text-anchor=\"middle\" x=\"193.5\" y=\"-3.8\" font-family=\"Times,serif\" font-size=\"14.00\">x</text>\n",
       "</g>\n",
       "<!-- 13&#45;&gt;14 -->\n",
       "<g id=\"edge14\" class=\"edge\">\n",
       "<title>13&#45;&gt;14</title>\n",
       "<path fill=\"none\" stroke=\"black\" d=\"M193.5,-50.69C193.5,-44.18 193.5,-34.1 193.5,-25.43\"/>\n",
       "<polygon fill=\"black\" stroke=\"black\" points=\"197,-25.26 193.5,-15.26 190,-25.26 197,-25.26\"/>\n",
       "</g>\n",
       "<!-- 16 -->\n",
       "<g id=\"node17\" class=\"node\">\n",
       "<title>16</title>\n",
       "<text text-anchor=\"middle\" x=\"275.5\" y=\"-54.8\" font-family=\"Times,serif\" font-size=\"14.00\">&lt;text&gt;</text>\n",
       "</g>\n",
       "<!-- 15&#45;&gt;16 -->\n",
       "<g id=\"edge16\" class=\"edge\">\n",
       "<title>15&#45;&gt;16</title>\n",
       "<path fill=\"none\" stroke=\"black\" d=\"M275.5,-101.69C275.5,-95.18 275.5,-85.1 275.5,-76.43\"/>\n",
       "<polygon fill=\"black\" stroke=\"black\" points=\"279,-76.26 275.5,-66.26 272,-76.26 279,-76.26\"/>\n",
       "</g>\n",
       "<!-- 17 -->\n",
       "<g id=\"node18\" class=\"node\">\n",
       "<title>17</title>\n",
       "<text text-anchor=\"middle\" x=\"275.5\" y=\"-3.8\" font-family=\"Times,serif\" font-size=\"14.00\">t</text>\n",
       "</g>\n",
       "<!-- 16&#45;&gt;17 -->\n",
       "<g id=\"edge17\" class=\"edge\">\n",
       "<title>16&#45;&gt;17</title>\n",
       "<path fill=\"none\" stroke=\"black\" d=\"M275.5,-50.69C275.5,-44.18 275.5,-34.1 275.5,-25.43\"/>\n",
       "<polygon fill=\"black\" stroke=\"black\" points=\"279,-25.26 275.5,-15.26 272,-25.26 279,-25.26\"/>\n",
       "</g>\n",
       "<!-- 19 -->\n",
       "<g id=\"node20\" class=\"node\">\n",
       "<title>19</title>\n",
       "<text text-anchor=\"middle\" x=\"290.5\" y=\"-156.8\" font-family=\"Times,serif\" font-size=\"14.00\">&lt;/</text>\n",
       "</g>\n",
       "<!-- 18&#45;&gt;19 -->\n",
       "<g id=\"edge19\" class=\"edge\">\n",
       "<title>18&#45;&gt;19</title>\n",
       "<path fill=\"none\" stroke=\"black\" d=\"M306.86,-203.69C304.28,-197.03 300.25,-186.65 296.84,-177.85\"/>\n",
       "<polygon fill=\"black\" stroke=\"black\" points=\"300,-176.31 293.12,-168.26 293.47,-178.84 300,-176.31\"/>\n",
       "</g>\n",
       "<!-- 20 -->\n",
       "<g id=\"node21\" class=\"node\">\n",
       "<title>20</title>\n",
       "<text text-anchor=\"middle\" x=\"329.5\" y=\"-156.8\" font-family=\"Times,serif\" font-size=\"14.00\">&lt;id&gt;</text>\n",
       "</g>\n",
       "<!-- 18&#45;&gt;20 -->\n",
       "<g id=\"edge20\" class=\"edge\">\n",
       "<title>18&#45;&gt;20</title>\n",
       "<path fill=\"none\" stroke=\"black\" d=\"M312.28,-203.69C315.03,-196.96 319.33,-186.42 322.95,-177.56\"/>\n",
       "<polygon fill=\"black\" stroke=\"black\" points=\"326.2,-178.84 326.74,-168.26 319.72,-176.19 326.2,-178.84\"/>\n",
       "</g>\n",
       "<!-- 22 -->\n",
       "<g id=\"node23\" class=\"node\">\n",
       "<title>22</title>\n",
       "<text text-anchor=\"middle\" x=\"366.5\" y=\"-156.8\" font-family=\"Times,serif\" font-size=\"14.00\">&gt;</text>\n",
       "</g>\n",
       "<!-- 18&#45;&gt;22 -->\n",
       "<g id=\"edge22\" class=\"edge\">\n",
       "<title>18&#45;&gt;22</title>\n",
       "<path fill=\"none\" stroke=\"black\" d=\"M317.43,-203.69C326.98,-195.47 343.15,-181.57 354.3,-171.98\"/>\n",
       "<polygon fill=\"black\" stroke=\"black\" points=\"356.65,-174.58 361.95,-165.41 352.08,-169.28 356.65,-174.58\"/>\n",
       "</g>\n",
       "<!-- 21 -->\n",
       "<g id=\"node22\" class=\"node\">\n",
       "<title>21</title>\n",
       "<text text-anchor=\"middle\" x=\"338.5\" y=\"-105.8\" font-family=\"Times,serif\" font-size=\"14.00\">html</text>\n",
       "</g>\n",
       "<!-- 20&#45;&gt;21 -->\n",
       "<g id=\"edge21\" class=\"edge\">\n",
       "<title>20&#45;&gt;21</title>\n",
       "<path fill=\"none\" stroke=\"black\" d=\"M330.75,-152.69C331.96,-146.1 333.84,-135.87 335.44,-127.14\"/>\n",
       "<polygon fill=\"black\" stroke=\"black\" points=\"338.9,-127.72 337.26,-117.26 332.01,-126.46 338.9,-127.72\"/>\n",
       "</g>\n",
       "</g>\n",
       "</svg>\n"
      ],
      "text/plain": [
       "<graphviz.graphs.Digraph at 0x1545c8760>"
      ]
     },
     "metadata": {},
     "output_type": "display_data"
    },
    {
     "data": {
      "image/svg+xml": [
       "<?xml version=\"1.0\" encoding=\"UTF-8\" standalone=\"no\"?>\n",
       "<!DOCTYPE svg PUBLIC \"-//W3C//DTD SVG 1.1//EN\"\n",
       " \"http://www.w3.org/Graphics/SVG/1.1/DTD/svg11.dtd\">\n",
       "<!-- Generated by graphviz version 3.0.0 (20220226.1711)\n",
       " -->\n",
       "<!-- Pages: 1 -->\n",
       "<svg width=\"410pt\" height=\"329pt\"\n",
       " viewBox=\"0.00 0.00 409.50 329.00\" xmlns=\"http://www.w3.org/2000/svg\" xmlns:xlink=\"http://www.w3.org/1999/xlink\">\n",
       "<g id=\"graph0\" class=\"graph\" transform=\"scale(1 1) rotate(0) translate(4 325)\">\n",
       "<polygon fill=\"white\" stroke=\"transparent\" points=\"-4,4 -4,-325 405.5,-325 405.5,4 -4,4\"/>\n",
       "<!-- 0 -->\n",
       "<g id=\"node1\" class=\"node\">\n",
       "<title>0</title>\n",
       "<text text-anchor=\"middle\" x=\"177\" y=\"-309.8\" font-family=\"Times,serif\" font-size=\"14.00\">&lt;start&gt;</text>\n",
       "</g>\n",
       "<!-- 1 -->\n",
       "<g id=\"node2\" class=\"node\">\n",
       "<title>1</title>\n",
       "<text text-anchor=\"middle\" x=\"177\" y=\"-258.8\" font-family=\"Times,serif\" font-size=\"14.00\">&lt;xml&#45;tree&gt;</text>\n",
       "</g>\n",
       "<!-- 0&#45;&gt;1 -->\n",
       "<g id=\"edge1\" class=\"edge\">\n",
       "<title>0&#45;&gt;1</title>\n",
       "<path fill=\"none\" stroke=\"black\" d=\"M177,-305.69C177,-299.18 177,-289.1 177,-280.43\"/>\n",
       "<polygon fill=\"black\" stroke=\"black\" points=\"180.5,-280.26 177,-270.26 173.5,-280.26 180.5,-280.26\"/>\n",
       "</g>\n",
       "<!-- 2 -->\n",
       "<g id=\"node3\" class=\"node\">\n",
       "<title>2</title>\n",
       "<text text-anchor=\"middle\" x=\"66\" y=\"-207.8\" font-family=\"Times,serif\" font-size=\"14.00\">&lt;xml&#45;open&#45;tag&gt;</text>\n",
       "</g>\n",
       "<!-- 1&#45;&gt;2 -->\n",
       "<g id=\"edge2\" class=\"edge\">\n",
       "<title>1&#45;&gt;2</title>\n",
       "<path fill=\"none\" stroke=\"black\" d=\"M162.03,-254.89C143.56,-246.74 111.91,-232.77 90.02,-223.1\"/>\n",
       "<polygon fill=\"black\" stroke=\"black\" points=\"91.29,-219.84 80.73,-219 88.47,-226.24 91.29,-219.84\"/>\n",
       "</g>\n",
       "<!-- 7 -->\n",
       "<g id=\"node8\" class=\"node\">\n",
       "<title>7</title>\n",
       "<text text-anchor=\"middle\" x=\"177\" y=\"-207.8\" font-family=\"Times,serif\" font-size=\"14.00\">&lt;xml&#45;tree&gt;</text>\n",
       "</g>\n",
       "<!-- 1&#45;&gt;7 -->\n",
       "<g id=\"edge7\" class=\"edge\">\n",
       "<title>1&#45;&gt;7</title>\n",
       "<path fill=\"none\" stroke=\"black\" d=\"M177,-254.69C177,-248.18 177,-238.1 177,-229.43\"/>\n",
       "<polygon fill=\"black\" stroke=\"black\" points=\"180.5,-229.26 177,-219.26 173.5,-229.26 180.5,-229.26\"/>\n",
       "</g>\n",
       "<!-- 22 -->\n",
       "<g id=\"node23\" class=\"node\">\n",
       "<title>22</title>\n",
       "<text text-anchor=\"middle\" x=\"340\" y=\"-207.8\" font-family=\"Times,serif\" font-size=\"14.00\">&lt;xml&#45;close&#45;tag&gt;</text>\n",
       "</g>\n",
       "<!-- 1&#45;&gt;22 -->\n",
       "<g id=\"edge22\" class=\"edge\">\n",
       "<title>1&#45;&gt;22</title>\n",
       "<path fill=\"none\" stroke=\"black\" d=\"M198.65,-254.99C226.78,-246.54 276.11,-231.71 308.42,-221.99\"/>\n",
       "<polygon fill=\"black\" stroke=\"black\" points=\"309.7,-225.26 318.27,-219.03 307.68,-218.56 309.7,-225.26\"/>\n",
       "</g>\n",
       "<!-- 3 -->\n",
       "<g id=\"node4\" class=\"node\">\n",
       "<title>3</title>\n",
       "<text text-anchor=\"middle\" x=\"10\" y=\"-156.8\" font-family=\"Times,serif\" font-size=\"14.00\">&lt;</text>\n",
       "</g>\n",
       "<!-- 2&#45;&gt;3 -->\n",
       "<g id=\"edge3\" class=\"edge\">\n",
       "<title>2&#45;&gt;3</title>\n",
       "<path fill=\"none\" stroke=\"black\" d=\"M58.21,-203.69C48.92,-195.55 33.26,-181.85 22.31,-172.28\"/>\n",
       "<polygon fill=\"black\" stroke=\"black\" points=\"24.59,-169.62 14.76,-165.67 19.98,-174.89 24.59,-169.62\"/>\n",
       "</g>\n",
       "<!-- 4 -->\n",
       "<g id=\"node5\" class=\"node\">\n",
       "<title>4</title>\n",
       "<text text-anchor=\"middle\" x=\"47\" y=\"-156.8\" font-family=\"Times,serif\" font-size=\"14.00\">&lt;id&gt;</text>\n",
       "</g>\n",
       "<!-- 2&#45;&gt;4 -->\n",
       "<g id=\"edge4\" class=\"edge\">\n",
       "<title>2&#45;&gt;4</title>\n",
       "<path fill=\"none\" stroke=\"black\" d=\"M63.36,-203.69C60.78,-197.03 56.75,-186.65 53.34,-177.85\"/>\n",
       "<polygon fill=\"black\" stroke=\"black\" points=\"56.5,-176.31 49.62,-168.26 49.97,-178.84 56.5,-176.31\"/>\n",
       "</g>\n",
       "<!-- 6 -->\n",
       "<g id=\"node7\" class=\"node\">\n",
       "<title>6</title>\n",
       "<text text-anchor=\"middle\" x=\"84\" y=\"-156.8\" font-family=\"Times,serif\" font-size=\"14.00\">&gt;</text>\n",
       "</g>\n",
       "<!-- 2&#45;&gt;6 -->\n",
       "<g id=\"edge6\" class=\"edge\">\n",
       "<title>2&#45;&gt;6</title>\n",
       "<path fill=\"none\" stroke=\"black\" d=\"M68.5,-203.69C70.95,-197.03 74.76,-186.65 77.99,-177.85\"/>\n",
       "<polygon fill=\"black\" stroke=\"black\" points=\"81.36,-178.85 81.52,-168.26 74.78,-176.44 81.36,-178.85\"/>\n",
       "</g>\n",
       "<!-- 5 -->\n",
       "<g id=\"node6\" class=\"node\">\n",
       "<title>5</title>\n",
       "<text text-anchor=\"middle\" x=\"13\" y=\"-105.8\" font-family=\"Times,serif\" font-size=\"14.00\">html</text>\n",
       "</g>\n",
       "<!-- 4&#45;&gt;5 -->\n",
       "<g id=\"edge5\" class=\"edge\">\n",
       "<title>4&#45;&gt;5</title>\n",
       "<path fill=\"none\" stroke=\"black\" d=\"M42.27,-152.69C37.45,-145.74 29.81,-134.73 23.54,-125.7\"/>\n",
       "<polygon fill=\"black\" stroke=\"black\" points=\"26.26,-123.48 17.69,-117.26 20.51,-127.47 26.26,-123.48\"/>\n",
       "</g>\n",
       "<!-- 8 -->\n",
       "<g id=\"node9\" class=\"node\">\n",
       "<title>8</title>\n",
       "<text text-anchor=\"middle\" x=\"158\" y=\"-156.8\" font-family=\"Times,serif\" font-size=\"14.00\">&lt;xml&#45;tree&gt;</text>\n",
       "</g>\n",
       "<!-- 7&#45;&gt;8 -->\n",
       "<g id=\"edge8\" class=\"edge\">\n",
       "<title>7&#45;&gt;8</title>\n",
       "<path fill=\"none\" stroke=\"black\" d=\"M174.36,-203.69C171.78,-197.03 167.75,-186.65 164.34,-177.85\"/>\n",
       "<polygon fill=\"black\" stroke=\"black\" points=\"167.5,-176.31 160.62,-168.26 160.97,-178.84 167.5,-176.31\"/>\n",
       "</g>\n",
       "<!-- 15 -->\n",
       "<g id=\"node16\" class=\"node\">\n",
       "<title>15</title>\n",
       "<text text-anchor=\"middle\" x=\"240\" y=\"-156.8\" font-family=\"Times,serif\" font-size=\"14.00\">&lt;xml&#45;tree&gt;</text>\n",
       "</g>\n",
       "<!-- 7&#45;&gt;15 -->\n",
       "<g id=\"edge15\" class=\"edge\">\n",
       "<title>7&#45;&gt;15</title>\n",
       "<path fill=\"none\" stroke=\"black\" d=\"M185.5,-203.89C195.23,-196.32 211.39,-183.75 223.6,-174.26\"/>\n",
       "<polygon fill=\"black\" stroke=\"black\" points=\"225.89,-176.91 231.64,-168 221.6,-171.38 225.89,-176.91\"/>\n",
       "</g>\n",
       "<!-- 9 -->\n",
       "<g id=\"node10\" class=\"node\">\n",
       "<title>9</title>\n",
       "<text text-anchor=\"middle\" x=\"76\" y=\"-105.8\" font-family=\"Times,serif\" font-size=\"14.00\">&lt;xml&#45;tree&gt;</text>\n",
       "</g>\n",
       "<!-- 8&#45;&gt;9 -->\n",
       "<g id=\"edge9\" class=\"edge\">\n",
       "<title>8&#45;&gt;9</title>\n",
       "<path fill=\"none\" stroke=\"black\" d=\"M146.94,-152.89C133.79,-145.03 111.59,-131.77 95.52,-122.16\"/>\n",
       "<polygon fill=\"black\" stroke=\"black\" points=\"97.26,-119.13 86.88,-117 93.67,-125.14 97.26,-119.13\"/>\n",
       "</g>\n",
       "<!-- 12 -->\n",
       "<g id=\"node13\" class=\"node\">\n",
       "<title>12</title>\n",
       "<text text-anchor=\"middle\" x=\"158\" y=\"-105.8\" font-family=\"Times,serif\" font-size=\"14.00\">&lt;xml&#45;tree&gt;</text>\n",
       "</g>\n",
       "<!-- 8&#45;&gt;12 -->\n",
       "<g id=\"edge12\" class=\"edge\">\n",
       "<title>8&#45;&gt;12</title>\n",
       "<path fill=\"none\" stroke=\"black\" d=\"M158,-152.69C158,-146.18 158,-136.1 158,-127.43\"/>\n",
       "<polygon fill=\"black\" stroke=\"black\" points=\"161.5,-127.26 158,-117.26 154.5,-127.26 161.5,-127.26\"/>\n",
       "</g>\n",
       "<!-- 10 -->\n",
       "<g id=\"node11\" class=\"node\">\n",
       "<title>10</title>\n",
       "<text text-anchor=\"middle\" x=\"76\" y=\"-54.8\" font-family=\"Times,serif\" font-size=\"14.00\">&lt;text&gt;</text>\n",
       "</g>\n",
       "<!-- 9&#45;&gt;10 -->\n",
       "<g id=\"edge10\" class=\"edge\">\n",
       "<title>9&#45;&gt;10</title>\n",
       "<path fill=\"none\" stroke=\"black\" d=\"M76,-101.69C76,-95.18 76,-85.1 76,-76.43\"/>\n",
       "<polygon fill=\"black\" stroke=\"black\" points=\"79.5,-76.26 76,-66.26 72.5,-76.26 79.5,-76.26\"/>\n",
       "</g>\n",
       "<!-- 11 -->\n",
       "<g id=\"node12\" class=\"node\">\n",
       "<title>11</title>\n",
       "<text text-anchor=\"middle\" x=\"76\" y=\"-3.8\" font-family=\"Times,serif\" font-size=\"14.00\">T</text>\n",
       "</g>\n",
       "<!-- 10&#45;&gt;11 -->\n",
       "<g id=\"edge11\" class=\"edge\">\n",
       "<title>10&#45;&gt;11</title>\n",
       "<path fill=\"none\" stroke=\"black\" d=\"M76,-50.69C76,-44.18 76,-34.1 76,-25.43\"/>\n",
       "<polygon fill=\"black\" stroke=\"black\" points=\"79.5,-25.26 76,-15.26 72.5,-25.26 79.5,-25.26\"/>\n",
       "</g>\n",
       "<!-- 13 -->\n",
       "<g id=\"node14\" class=\"node\">\n",
       "<title>13</title>\n",
       "<text text-anchor=\"middle\" x=\"158\" y=\"-54.8\" font-family=\"Times,serif\" font-size=\"14.00\">&lt;text&gt;</text>\n",
       "</g>\n",
       "<!-- 12&#45;&gt;13 -->\n",
       "<g id=\"edge13\" class=\"edge\">\n",
       "<title>12&#45;&gt;13</title>\n",
       "<path fill=\"none\" stroke=\"black\" d=\"M158,-101.69C158,-95.18 158,-85.1 158,-76.43\"/>\n",
       "<polygon fill=\"black\" stroke=\"black\" points=\"161.5,-76.26 158,-66.26 154.5,-76.26 161.5,-76.26\"/>\n",
       "</g>\n",
       "<!-- 14 -->\n",
       "<g id=\"node15\" class=\"node\">\n",
       "<title>14</title>\n",
       "<text text-anchor=\"middle\" x=\"158\" y=\"-3.8\" font-family=\"Times,serif\" font-size=\"14.00\">e</text>\n",
       "</g>\n",
       "<!-- 13&#45;&gt;14 -->\n",
       "<g id=\"edge14\" class=\"edge\">\n",
       "<title>13&#45;&gt;14</title>\n",
       "<path fill=\"none\" stroke=\"black\" d=\"M158,-50.69C158,-44.18 158,-34.1 158,-25.43\"/>\n",
       "<polygon fill=\"black\" stroke=\"black\" points=\"161.5,-25.26 158,-15.26 154.5,-25.26 161.5,-25.26\"/>\n",
       "</g>\n",
       "<!-- 16 -->\n",
       "<g id=\"node17\" class=\"node\">\n",
       "<title>16</title>\n",
       "<text text-anchor=\"middle\" x=\"240\" y=\"-105.8\" font-family=\"Times,serif\" font-size=\"14.00\">&lt;xml&#45;tree&gt;</text>\n",
       "</g>\n",
       "<!-- 15&#45;&gt;16 -->\n",
       "<g id=\"edge16\" class=\"edge\">\n",
       "<title>15&#45;&gt;16</title>\n",
       "<path fill=\"none\" stroke=\"black\" d=\"M240,-152.69C240,-146.18 240,-136.1 240,-127.43\"/>\n",
       "<polygon fill=\"black\" stroke=\"black\" points=\"243.5,-127.26 240,-117.26 236.5,-127.26 243.5,-127.26\"/>\n",
       "</g>\n",
       "<!-- 19 -->\n",
       "<g id=\"node20\" class=\"node\">\n",
       "<title>19</title>\n",
       "<text text-anchor=\"middle\" x=\"322\" y=\"-105.8\" font-family=\"Times,serif\" font-size=\"14.00\">&lt;xml&#45;tree&gt;</text>\n",
       "</g>\n",
       "<!-- 15&#45;&gt;19 -->\n",
       "<g id=\"edge19\" class=\"edge\">\n",
       "<title>15&#45;&gt;19</title>\n",
       "<path fill=\"none\" stroke=\"black\" d=\"M251.06,-152.89C264.21,-145.03 286.41,-131.77 302.48,-122.16\"/>\n",
       "<polygon fill=\"black\" stroke=\"black\" points=\"304.33,-125.14 311.12,-117 300.74,-119.13 304.33,-125.14\"/>\n",
       "</g>\n",
       "<!-- 17 -->\n",
       "<g id=\"node18\" class=\"node\">\n",
       "<title>17</title>\n",
       "<text text-anchor=\"middle\" x=\"240\" y=\"-54.8\" font-family=\"Times,serif\" font-size=\"14.00\">&lt;text&gt;</text>\n",
       "</g>\n",
       "<!-- 16&#45;&gt;17 -->\n",
       "<g id=\"edge17\" class=\"edge\">\n",
       "<title>16&#45;&gt;17</title>\n",
       "<path fill=\"none\" stroke=\"black\" d=\"M240,-101.69C240,-95.18 240,-85.1 240,-76.43\"/>\n",
       "<polygon fill=\"black\" stroke=\"black\" points=\"243.5,-76.26 240,-66.26 236.5,-76.26 243.5,-76.26\"/>\n",
       "</g>\n",
       "<!-- 18 -->\n",
       "<g id=\"node19\" class=\"node\">\n",
       "<title>18</title>\n",
       "<text text-anchor=\"middle\" x=\"240\" y=\"-3.8\" font-family=\"Times,serif\" font-size=\"14.00\">x</text>\n",
       "</g>\n",
       "<!-- 17&#45;&gt;18 -->\n",
       "<g id=\"edge18\" class=\"edge\">\n",
       "<title>17&#45;&gt;18</title>\n",
       "<path fill=\"none\" stroke=\"black\" d=\"M240,-50.69C240,-44.18 240,-34.1 240,-25.43\"/>\n",
       "<polygon fill=\"black\" stroke=\"black\" points=\"243.5,-25.26 240,-15.26 236.5,-25.26 243.5,-25.26\"/>\n",
       "</g>\n",
       "<!-- 20 -->\n",
       "<g id=\"node21\" class=\"node\">\n",
       "<title>20</title>\n",
       "<text text-anchor=\"middle\" x=\"322\" y=\"-54.8\" font-family=\"Times,serif\" font-size=\"14.00\">&lt;text&gt;</text>\n",
       "</g>\n",
       "<!-- 19&#45;&gt;20 -->\n",
       "<g id=\"edge20\" class=\"edge\">\n",
       "<title>19&#45;&gt;20</title>\n",
       "<path fill=\"none\" stroke=\"black\" d=\"M322,-101.69C322,-95.18 322,-85.1 322,-76.43\"/>\n",
       "<polygon fill=\"black\" stroke=\"black\" points=\"325.5,-76.26 322,-66.26 318.5,-76.26 325.5,-76.26\"/>\n",
       "</g>\n",
       "<!-- 21 -->\n",
       "<g id=\"node22\" class=\"node\">\n",
       "<title>21</title>\n",
       "<text text-anchor=\"middle\" x=\"322\" y=\"-3.8\" font-family=\"Times,serif\" font-size=\"14.00\">t</text>\n",
       "</g>\n",
       "<!-- 20&#45;&gt;21 -->\n",
       "<g id=\"edge21\" class=\"edge\">\n",
       "<title>20&#45;&gt;21</title>\n",
       "<path fill=\"none\" stroke=\"black\" d=\"M322,-50.69C322,-44.18 322,-34.1 322,-25.43\"/>\n",
       "<polygon fill=\"black\" stroke=\"black\" points=\"325.5,-25.26 322,-15.26 318.5,-25.26 325.5,-25.26\"/>\n",
       "</g>\n",
       "<!-- 23 -->\n",
       "<g id=\"node24\" class=\"node\">\n",
       "<title>23</title>\n",
       "<text text-anchor=\"middle\" x=\"321\" y=\"-156.8\" font-family=\"Times,serif\" font-size=\"14.00\">&lt;/</text>\n",
       "</g>\n",
       "<!-- 22&#45;&gt;23 -->\n",
       "<g id=\"edge23\" class=\"edge\">\n",
       "<title>22&#45;&gt;23</title>\n",
       "<path fill=\"none\" stroke=\"black\" d=\"M337.36,-203.69C334.78,-197.03 330.75,-186.65 327.34,-177.85\"/>\n",
       "<polygon fill=\"black\" stroke=\"black\" points=\"330.5,-176.31 323.62,-168.26 323.97,-178.84 330.5,-176.31\"/>\n",
       "</g>\n",
       "<!-- 24 -->\n",
       "<g id=\"node25\" class=\"node\">\n",
       "<title>24</title>\n",
       "<text text-anchor=\"middle\" x=\"360\" y=\"-156.8\" font-family=\"Times,serif\" font-size=\"14.00\">&lt;id&gt;</text>\n",
       "</g>\n",
       "<!-- 22&#45;&gt;24 -->\n",
       "<g id=\"edge24\" class=\"edge\">\n",
       "<title>22&#45;&gt;24</title>\n",
       "<path fill=\"none\" stroke=\"black\" d=\"M342.78,-203.69C345.53,-196.96 349.83,-186.42 353.45,-177.56\"/>\n",
       "<polygon fill=\"black\" stroke=\"black\" points=\"356.7,-178.84 357.24,-168.26 350.22,-176.19 356.7,-178.84\"/>\n",
       "</g>\n",
       "<!-- 26 -->\n",
       "<g id=\"node27\" class=\"node\">\n",
       "<title>26</title>\n",
       "<text text-anchor=\"middle\" x=\"397\" y=\"-156.8\" font-family=\"Times,serif\" font-size=\"14.00\">&gt;</text>\n",
       "</g>\n",
       "<!-- 22&#45;&gt;26 -->\n",
       "<g id=\"edge26\" class=\"edge\">\n",
       "<title>22&#45;&gt;26</title>\n",
       "<path fill=\"none\" stroke=\"black\" d=\"M347.93,-203.69C357.48,-195.47 373.65,-181.57 384.8,-171.98\"/>\n",
       "<polygon fill=\"black\" stroke=\"black\" points=\"387.15,-174.58 392.45,-165.41 382.58,-169.28 387.15,-174.58\"/>\n",
       "</g>\n",
       "<!-- 25 -->\n",
       "<g id=\"node26\" class=\"node\">\n",
       "<title>25</title>\n",
       "<text text-anchor=\"middle\" x=\"385\" y=\"-105.8\" font-family=\"Times,serif\" font-size=\"14.00\">html</text>\n",
       "</g>\n",
       "<!-- 24&#45;&gt;25 -->\n",
       "<g id=\"edge25\" class=\"edge\">\n",
       "<title>24&#45;&gt;25</title>\n",
       "<path fill=\"none\" stroke=\"black\" d=\"M363.48,-152.69C366.95,-145.88 372.4,-135.19 376.95,-126.27\"/>\n",
       "<polygon fill=\"black\" stroke=\"black\" points=\"380.13,-127.75 381.55,-117.26 373.89,-124.57 380.13,-127.75\"/>\n",
       "</g>\n",
       "</g>\n",
       "</svg>\n"
      ],
      "text/plain": [
       "<graphviz.graphs.Digraph at 0x1545c8070>"
      ]
     },
     "metadata": {},
     "output_type": "display_data"
    }
   ],
   "source": [
    "parser = EarleyParser(XML_GRAMMAR, tokens=XML_TOKENS)\n",
    "\n",
    "for tree in parser.parse(\"<html>Text</html>\"):\n",
    "    display(display_tree(tree))"
   ]
  },
  {
   "cell_type": "markdown",
   "metadata": {
    "slideshow": {
     "slide_type": "subslide"
    }
   },
   "source": [
    "As we can see, the input starts with an opening tag, contains some text, and ends with a closing tag. Excellent. This is a structure that we can work with."
   ]
  },
  {
   "cell_type": "markdown",
   "metadata": {
    "slideshow": {
     "slide_type": "subslide"
    }
   },
   "source": [
    "### Building the Fragment Pool\n",
    "We are now ready to implement our first input-structure-aware mutator. Let's initialize the mutator with the dictionary `fragments` representing the empty fragment pool. It contains a key for each symbol in the grammar (and the empty set as value)."
   ]
  },
  {
   "cell_type": "code",
   "execution_count": 29,
   "metadata": {
    "execution": {
     "iopub.execute_input": "2022-08-01T13:01:38.057337Z",
     "iopub.status.busy": "2022-08-01T13:01:38.057219Z",
     "iopub.status.idle": "2022-08-01T13:01:38.060772Z",
     "shell.execute_reply": "2022-08-01T13:01:38.060406Z"
    },
    "slideshow": {
     "slide_type": "fragment"
    }
   },
   "outputs": [],
   "source": [
    "class FragmentMutator(Mutator):\n",
    "    \"\"\"Mutate inputs with input fragments from a pool\"\"\"\n",
    "\n",
    "    def __init__(self, parser: EarleyParser) -> None:\n",
    "        \"\"\"Initialize empty fragment pool and add parser\"\"\"\n",
    "        self.parser = parser\n",
    "        self.fragments: Dict[str, List[DerivationTree]] = \\\n",
    "            {k: [] for k in self.parser.cgrammar}\n",
    "        super().__init__()"
   ]
  },
  {
   "cell_type": "markdown",
   "metadata": {
    "slideshow": {
     "slide_type": "subslide"
    }
   },
   "source": [
    "The `FragmentMutator` adds fragments recursively. A *fragment* is a subtree in the parse tree and consists of the symbol of the current node and child nodes (i.e., descendant fragments). We can exclude fragments starting with symbols that are tokens, terminals, or not part of the grammar."
   ]
  },
  {
   "cell_type": "code",
   "execution_count": 30,
   "metadata": {
    "execution": {
     "iopub.execute_input": "2022-08-01T13:01:38.062651Z",
     "iopub.status.busy": "2022-08-01T13:01:38.062519Z",
     "iopub.status.idle": "2022-08-01T13:01:38.064216Z",
     "shell.execute_reply": "2022-08-01T13:01:38.063951Z"
    },
    "slideshow": {
     "slide_type": "skip"
    }
   },
   "outputs": [],
   "source": [
    "from Parser import terminals"
   ]
  },
  {
   "cell_type": "code",
   "execution_count": 31,
   "metadata": {
    "execution": {
     "iopub.execute_input": "2022-08-01T13:01:38.065793Z",
     "iopub.status.busy": "2022-08-01T13:01:38.065662Z",
     "iopub.status.idle": "2022-08-01T13:01:38.068768Z",
     "shell.execute_reply": "2022-08-01T13:01:38.068388Z"
    },
    "slideshow": {
     "slide_type": "subslide"
    }
   },
   "outputs": [],
   "source": [
    "class FragmentMutator(FragmentMutator):\n",
    "    def add_fragment(self, fragment: DerivationTree) -> None:\n",
    "        \"\"\"Recursively adds fragments to the fragment pool\"\"\"\n",
    "        (symbol, children) = fragment\n",
    "        if not self.is_excluded(symbol):\n",
    "            self.fragments[symbol].append(fragment)\n",
    "            assert children is not None\n",
    "            for subfragment in children:\n",
    "                self.add_fragment(subfragment)\n",
    "\n",
    "    def is_excluded(self, symbol: str) -> bool:\n",
    "        \"\"\"Returns true if a fragment starting with a specific\n",
    "           symbol and all its decendents can be excluded\"\"\"\n",
    "        return (symbol not in self.parser.grammar() or\n",
    "                symbol in self.parser.tokens or\n",
    "                symbol in terminals(self.parser.grammar()))"
   ]
  },
  {
   "cell_type": "markdown",
   "metadata": {
    "slideshow": {
     "slide_type": "subslide"
    }
   },
   "source": [
    "Parsing can take a long time, particularly if there is too much ambiguity during the parsing. In order to maintain the efficiency of mutational fuzzing, we will limit the parsing time to 200ms."
   ]
  },
  {
   "cell_type": "code",
   "execution_count": 32,
   "metadata": {
    "execution": {
     "iopub.execute_input": "2022-08-01T13:01:38.070522Z",
     "iopub.status.busy": "2022-08-01T13:01:38.070402Z",
     "iopub.status.idle": "2022-08-01T13:01:38.072126Z",
     "shell.execute_reply": "2022-08-01T13:01:38.071825Z"
    },
    "slideshow": {
     "slide_type": "skip"
    }
   },
   "outputs": [],
   "source": [
    "from Timeout import Timeout"
   ]
  },
  {
   "cell_type": "markdown",
   "metadata": {
    "slideshow": {
     "slide_type": "fragment"
    }
   },
   "source": [
    "The function `add_to_fragment_pool()` parses a seed (no longer than 200ms) and adds all its fragments to the fragment pool. If the parsing of the `seed` was successful, the attribute `seed.has_structure` is set to `True`. Otherwise, it is set to `False`."
   ]
  },
  {
   "cell_type": "code",
   "execution_count": 33,
   "metadata": {
    "execution": {
     "iopub.execute_input": "2022-08-01T13:01:38.073946Z",
     "iopub.status.busy": "2022-08-01T13:01:38.073841Z",
     "iopub.status.idle": "2022-08-01T13:01:38.076280Z",
     "shell.execute_reply": "2022-08-01T13:01:38.076012Z"
    },
    "slideshow": {
     "slide_type": "fragment"
    }
   },
   "outputs": [],
   "source": [
    "class SeedWithStructure(Seed):\n",
    "    \"\"\"Seeds augmented with structure info\"\"\"\n",
    "\n",
    "    def __init__(self, data: str) -> None:\n",
    "        super().__init__(data)\n",
    "        self.has_structure = False\n",
    "        self.structure: DerivationTree = (\"<empty>\", [])"
   ]
  },
  {
   "cell_type": "code",
   "execution_count": 34,
   "metadata": {
    "execution": {
     "iopub.execute_input": "2022-08-01T13:01:38.077691Z",
     "iopub.status.busy": "2022-08-01T13:01:38.077597Z",
     "iopub.status.idle": "2022-08-01T13:01:38.080035Z",
     "shell.execute_reply": "2022-08-01T13:01:38.079782Z"
    },
    "slideshow": {
     "slide_type": "subslide"
    }
   },
   "outputs": [],
   "source": [
    "class FragmentMutator(FragmentMutator):\n",
    "    def add_to_fragment_pool(self, seed: SeedWithStructure) -> None:\n",
    "        \"\"\"Adds all fragments of a seed to the fragment pool\"\"\"\n",
    "        try:  # only allow quick parsing of 200ms max\n",
    "            with Timeout(0.2):\n",
    "                seed.structure = next(self.parser.parse(seed.data))\n",
    "                self.add_fragment(seed.structure)\n",
    "            seed.has_structure = True\n",
    "        except (SyntaxError, TimeoutError):\n",
    "            seed.has_structure = False"
   ]
  },
  {
   "cell_type": "markdown",
   "metadata": {
    "slideshow": {
     "slide_type": "fragment"
    }
   },
   "source": [
    "Let's see how `FragmentMutator` fills the fragment pool for a simple HTML seed input. We initialize mutator with the `EarleyParser` which itself is initialized with our `XML_GRAMMAR`."
   ]
  },
  {
   "cell_type": "code",
   "execution_count": 35,
   "metadata": {
    "execution": {
     "iopub.execute_input": "2022-08-01T13:01:38.081454Z",
     "iopub.status.busy": "2022-08-01T13:01:38.081366Z",
     "iopub.status.idle": "2022-08-01T13:01:38.083172Z",
     "shell.execute_reply": "2022-08-01T13:01:38.082934Z"
    },
    "slideshow": {
     "slide_type": "skip"
    }
   },
   "outputs": [],
   "source": [
    "from GrammarFuzzer import tree_to_string"
   ]
  },
  {
   "cell_type": "code",
   "execution_count": 36,
   "metadata": {
    "execution": {
     "iopub.execute_input": "2022-08-01T13:01:38.084946Z",
     "iopub.status.busy": "2022-08-01T13:01:38.084830Z",
     "iopub.status.idle": "2022-08-01T13:01:38.143495Z",
     "shell.execute_reply": "2022-08-01T13:01:38.143146Z"
    },
    "slideshow": {
     "slide_type": "subslide"
    }
   },
   "outputs": [
    {
     "name": "stdout",
     "output_type": "stream",
     "text": [
      "<start>\n",
      "|-<html><head><title>Hello</title></head><body>World<br/></body></html>\n",
      "<xml-tree>\n",
      "|-<html><head><title>Hello</title></head><body>World<br/></body></html>\n",
      "|-<head><title>Hello</title></head><body>World<br/></body>\n",
      "|-<head><title>Hello</title></head>\n",
      "|-<title>Hello</title>\n",
      "|-Hello\n",
      "|-<body>World<br/></body>\n",
      "|-World<br/>\n",
      "|-World\n",
      "|-<br/>\n",
      "<xml-open-tag>\n",
      "|-<html>\n",
      "|-<head>\n",
      "|-<title>\n",
      "|-<body>\n",
      "<xml-openclose-tag>\n",
      "|-<br/>\n",
      "<xml-close-tag>\n",
      "|-</title>\n",
      "|-</head>\n",
      "|-</body>\n",
      "|-</html>\n",
      "<xml-attribute>\n",
      "<id>\n",
      "<text>\n",
      "<letter>\n",
      "<letter_space>\n"
     ]
    }
   ],
   "source": [
    "valid_seed = SeedWithStructure(\n",
    "    \"<html><head><title>Hello</title></head><body>World<br/></body></html>\")\n",
    "fragment_mutator = FragmentMutator(EarleyParser(XML_GRAMMAR, tokens=XML_TOKENS))\n",
    "fragment_mutator.add_to_fragment_pool(valid_seed)\n",
    "\n",
    "for key in fragment_mutator.fragments:\n",
    "    print(key)\n",
    "    for f in fragment_mutator.fragments[key]:\n",
    "        print(\"|-%s\" % tree_to_string(f))"
   ]
  },
  {
   "cell_type": "markdown",
   "metadata": {
    "slideshow": {
     "slide_type": "subslide"
    }
   },
   "source": [
    "For many symbols in the grammar, we have collected a number of fragments. There are several open and closing tags and several interesting fragments starting with the `xml-tree` symbol.\n",
    "\n",
    "***Summary***. For each interesting symbol in the grammar, the `FragmentMutator` has a set of fragments. These fragments are extracted by first parsing the inputs to be mutated."
   ]
  },
  {
   "cell_type": "markdown",
   "metadata": {
    "slideshow": {
     "slide_type": "subslide"
    }
   },
   "source": [
    "### Fragment-Based Mutation\n",
    "\n",
    "We can use the fragments in the fragment pool to generate new inputs. Every seed that is being mutated is disassembled into fragments, and memoized – i.e., disassembled only the first time around."
   ]
  },
  {
   "cell_type": "code",
   "execution_count": 37,
   "metadata": {
    "execution": {
     "iopub.execute_input": "2022-08-01T13:01:38.145278Z",
     "iopub.status.busy": "2022-08-01T13:01:38.145159Z",
     "iopub.status.idle": "2022-08-01T13:01:38.147797Z",
     "shell.execute_reply": "2022-08-01T13:01:38.147525Z"
    },
    "slideshow": {
     "slide_type": "subslide"
    }
   },
   "outputs": [],
   "source": [
    "class FragmentMutator(FragmentMutator):\n",
    "    def __init__(self, parser: EarleyParser) -> None:\n",
    "        \"\"\"Initialize mutators\"\"\"\n",
    "        super().__init__(parser)\n",
    "        self.seen_seeds: List[SeedWithStructure] = []\n",
    "\n",
    "    def mutate(self, seed: SeedWithStructure) -> SeedWithStructure:\n",
    "        \"\"\"Implement structure-aware mutation. Memoize seeds.\"\"\"\n",
    "        if seed not in self.seen_seeds:\n",
    "            self.seen_seeds.append(seed)\n",
    "            self.add_to_fragment_pool(seed)\n",
    "\n",
    "        return super().mutate(seed)"
   ]
  },
  {
   "cell_type": "markdown",
   "metadata": {
    "slideshow": {
     "slide_type": "subslide"
    }
   },
   "source": [
    "Our first structural mutation operator is `swap_fragments()`, which choses a random fragment in the given seed and substitutes it with a random fragment from the pool. We make sure that both fragments start with the same symbol. For instance, we may swap a closing tag in the seed HTML by another closing tag from the fragment pool.\n",
    "\n",
    "In order to choose a random fragment, the mutator counts all fragments (`n_count`) below the root fragment associated with the start-symbol."
   ]
  },
  {
   "cell_type": "code",
   "execution_count": 38,
   "metadata": {
    "execution": {
     "iopub.execute_input": "2022-08-01T13:01:38.149442Z",
     "iopub.status.busy": "2022-08-01T13:01:38.149311Z",
     "iopub.status.idle": "2022-08-01T13:01:38.151860Z",
     "shell.execute_reply": "2022-08-01T13:01:38.151403Z"
    },
    "slideshow": {
     "slide_type": "subslide"
    }
   },
   "outputs": [],
   "source": [
    "class FragmentMutator(FragmentMutator):\n",
    "    def count_nodes(self, fragment: DerivationTree) -> int:\n",
    "        \"\"\"Returns the number of nodes in the fragment\"\"\"\n",
    "        symbol, children = fragment\n",
    "        if self.is_excluded(symbol):\n",
    "            return 0\n",
    "\n",
    "        assert children is not None\n",
    "        return 1 + sum(map(self.count_nodes, children))"
   ]
  },
  {
   "cell_type": "markdown",
   "metadata": {
    "slideshow": {
     "slide_type": "fragment"
    }
   },
   "source": [
    "In order to swap the chosen fragment – identified using the \"global\" variable `self.to_swap` – the seed's parse tree is traversed recursively."
   ]
  },
  {
   "cell_type": "code",
   "execution_count": 39,
   "metadata": {
    "execution": {
     "iopub.execute_input": "2022-08-01T13:01:38.153695Z",
     "iopub.status.busy": "2022-08-01T13:01:38.153565Z",
     "iopub.status.idle": "2022-08-01T13:01:38.156147Z",
     "shell.execute_reply": "2022-08-01T13:01:38.155896Z"
    },
    "slideshow": {
     "slide_type": "subslide"
    }
   },
   "outputs": [],
   "source": [
    "class FragmentMutator(FragmentMutator):\n",
    "    def recursive_swap(self, fragment: DerivationTree) -> DerivationTree:\n",
    "        \"\"\"Recursively finds the fragment to swap.\"\"\"\n",
    "        symbol, children = fragment\n",
    "        if self.is_excluded(symbol):\n",
    "            return symbol, children\n",
    "\n",
    "        self.to_swap -= 1\n",
    "        if self.to_swap == 0: \n",
    "            return random.choice(list(self.fragments[symbol]))\n",
    "\n",
    "        assert children is not None\n",
    "        return symbol, list(map(self.recursive_swap, children))"
   ]
  },
  {
   "cell_type": "markdown",
   "metadata": {
    "slideshow": {
     "slide_type": "subslide"
    }
   },
   "source": [
    "Our structural mutator chooses a random number between 2 (i.e., excluding the `start` symbol) and the total number of fragments (`n_count`) and uses the recursive swapping to generate the new fragment. The new fragment is serialized as string and returned as new seed."
   ]
  },
  {
   "cell_type": "code",
   "execution_count": 40,
   "metadata": {
    "execution": {
     "iopub.execute_input": "2022-08-01T13:01:38.157687Z",
     "iopub.status.busy": "2022-08-01T13:01:38.157565Z",
     "iopub.status.idle": "2022-08-01T13:01:38.160656Z",
     "shell.execute_reply": "2022-08-01T13:01:38.160272Z"
    },
    "slideshow": {
     "slide_type": "subslide"
    }
   },
   "outputs": [],
   "source": [
    "class FragmentMutator(FragmentMutator):\n",
    "    def __init__(self, parser: EarleyParser) -> None:  # type: ignore\n",
    "        super().__init__(parser)\n",
    "        self.mutators = [self.swap_fragment]  # type: ignore\n",
    "\n",
    "    def swap_fragment(self, seed: SeedWithStructure) -> SeedWithStructure:\n",
    "        \"\"\"Substitutes a random fragment with another with the same symbol\"\"\"\n",
    "        if seed.has_structure:  # type: ignore\n",
    "            n_nodes = self.count_nodes(seed.structure)\n",
    "            self.to_swap = random.randint(2, n_nodes)\n",
    "            new_structure = self.recursive_swap(seed.structure)\n",
    "\n",
    "            new_seed = SeedWithStructure(tree_to_string(new_structure))\n",
    "            new_seed.has_structure = True\n",
    "            new_seed.structure = new_structure\n",
    "            return new_seed\n",
    "\n",
    "        return seed"
   ]
  },
  {
   "cell_type": "code",
   "execution_count": 41,
   "metadata": {
    "execution": {
     "iopub.execute_input": "2022-08-01T13:01:38.162559Z",
     "iopub.status.busy": "2022-08-01T13:01:38.162446Z",
     "iopub.status.idle": "2022-08-01T13:01:38.263972Z",
     "shell.execute_reply": "2022-08-01T13:01:38.263555Z"
    },
    "slideshow": {
     "slide_type": "subslide"
    }
   },
   "outputs": [
    {
     "name": "stdout",
     "output_type": "stream",
     "text": [
      "<html><head><title>Hello</title></head><body>World<br/></body></html>\n"
     ]
    },
    {
     "data": {
      "text/plain": [
       "<html><head><title>Hello</title></body><body>World<br/></body></html>"
      ]
     },
     "execution_count": 41,
     "metadata": {},
     "output_type": "execute_result"
    }
   ],
   "source": [
    "valid_seed = SeedWithStructure(\n",
    "    \"<html><head><title>Hello</title></head><body>World<br/></body></html>\")\n",
    "lf_mutator = FragmentMutator(parser)\n",
    "print(valid_seed)\n",
    "lf_mutator.mutate(valid_seed)"
   ]
  },
  {
   "cell_type": "markdown",
   "metadata": {
    "slideshow": {
     "slide_type": "fragment"
    }
   },
   "source": [
    "As we can see, one fragment has been substituted by another. \n",
    "\n",
    "We can use a similar recursive traversal to *remove* a random fragment."
   ]
  },
  {
   "cell_type": "code",
   "execution_count": 42,
   "metadata": {
    "execution": {
     "iopub.execute_input": "2022-08-01T13:01:38.265926Z",
     "iopub.status.busy": "2022-08-01T13:01:38.265667Z",
     "iopub.status.idle": "2022-08-01T13:01:38.268539Z",
     "shell.execute_reply": "2022-08-01T13:01:38.268264Z"
    },
    "slideshow": {
     "slide_type": "subslide"
    }
   },
   "outputs": [],
   "source": [
    "class FragmentMutator(FragmentMutator):\n",
    "    def recursive_delete(self, fragment: DerivationTree) -> DerivationTree:\n",
    "        \"\"\"Recursively finds the fragment to delete\"\"\"\n",
    "        symbol, children = fragment\n",
    "        if self.is_excluded(symbol):\n",
    "            return symbol, children\n",
    "\n",
    "        self.to_delete -= 1\n",
    "        if self.to_delete == 0:\n",
    "            return symbol, []\n",
    "\n",
    "        assert children is not None\n",
    "        return symbol, list(map(self.recursive_delete, children))"
   ]
  },
  {
   "cell_type": "markdown",
   "metadata": {
    "slideshow": {
     "slide_type": "fragment"
    }
   },
   "source": [
    "We should also define the corresponding structural deletion operator, as well."
   ]
  },
  {
   "cell_type": "code",
   "execution_count": 43,
   "metadata": {
    "execution": {
     "iopub.execute_input": "2022-08-01T13:01:38.270159Z",
     "iopub.status.busy": "2022-08-01T13:01:38.269969Z",
     "iopub.status.idle": "2022-08-01T13:01:38.272833Z",
     "shell.execute_reply": "2022-08-01T13:01:38.272584Z"
    },
    "slideshow": {
     "slide_type": "subslide"
    }
   },
   "outputs": [],
   "source": [
    "class FragmentMutator(FragmentMutator):\n",
    "    def __init__(self, parser):  # type: ignore\n",
    "        super().__init__(parser)\n",
    "        self.mutators.append(self.delete_fragment)\n",
    "\n",
    "    def delete_fragment(self, seed: SeedWithStructure) -> SeedWithStructure:\n",
    "        \"\"\"Delete a random fragment\"\"\"\n",
    "        if seed.has_structure:\n",
    "            n_nodes = self.count_nodes(seed.structure)\n",
    "            self.to_delete = random.randint(2, n_nodes)\n",
    "            new_structure = self.recursive_delete(seed.structure)\n",
    "\n",
    "            new_seed = SeedWithStructure(tree_to_string(new_structure))\n",
    "            new_seed.has_structure = True\n",
    "            new_seed.structure = new_structure\n",
    "            # do not return an empty new_seed\n",
    "            if not new_seed.data:\n",
    "                return seed\n",
    "            else:\n",
    "                return new_seed\n",
    "\n",
    "        return seed"
   ]
  },
  {
   "cell_type": "markdown",
   "metadata": {
    "slideshow": {
     "slide_type": "subslide"
    }
   },
   "source": [
    "***Summary***. We now have all ingredients for structure-aware fuzzing. Our mutator disassembles all seeds into fragments, which are then added to the fragment pool. Our mutator swaps random fragments in a given seed with fragments of the same type. And our mutator deletes random fragments in a given seed. This allows to maintain a high degree of validity for the generated inputs w.r.t. the given grammar.\n",
    "\n",
    "***Try it***. Try adding other structural mutation operators. How would an *add-operator* know the position in a given seed file, where it is okay to add a fragment starting with a certain symbol?"
   ]
  },
  {
   "cell_type": "markdown",
   "metadata": {
    "slideshow": {
     "slide_type": "subslide"
    }
   },
   "source": [
    "### Fragment-Based Fuzzing\n",
    "\n",
    "We can now define a input-structure aware fuzzer as pioneered in LangFuzz. To implement LangFuzz, we modify our [blackbox mutational fuzzer](GreyboxFuzzer.ipynb#Blackbox-Mutation-based-Fuzzer) to stack up to four structural mutations."
   ]
  },
  {
   "cell_type": "code",
   "execution_count": 44,
   "metadata": {
    "execution": {
     "iopub.execute_input": "2022-08-01T13:01:38.274195Z",
     "iopub.status.busy": "2022-08-01T13:01:38.274095Z",
     "iopub.status.idle": "2022-08-01T13:01:38.276707Z",
     "shell.execute_reply": "2022-08-01T13:01:38.276276Z"
    },
    "slideshow": {
     "slide_type": "subslide"
    }
   },
   "outputs": [],
   "source": [
    "class LangFuzzer(AdvancedMutationFuzzer):\n",
    "    \"\"\"Blackbox fuzzer mutating input fragments. Roughly based on `LangFuzz`.\"\"\"\n",
    "\n",
    "    def create_candidate(self) -> Seed:  # type: ignore\n",
    "        \"\"\"Returns an input generated by fuzzing a seed in the population\"\"\"\n",
    "        candidate = self.schedule.choose(self.population)\n",
    "        trials = random.randint(1, 4)\n",
    "        for i in range(trials):\n",
    "            candidate = self.mutator.mutate(candidate)\n",
    "\n",
    "        return candidate"
   ]
  },
  {
   "cell_type": "markdown",
   "metadata": {
    "slideshow": {
     "slide_type": "fragment"
    }
   },
   "source": [
    "Okay, let's take our first input-structure aware fuzzer for a spin. Being careful, we set n=300 for now."
   ]
  },
  {
   "cell_type": "code",
   "execution_count": 45,
   "metadata": {
    "execution": {
     "iopub.execute_input": "2022-08-01T13:01:38.278162Z",
     "iopub.status.busy": "2022-08-01T13:01:38.278038Z",
     "iopub.status.idle": "2022-08-01T13:01:57.420629Z",
     "shell.execute_reply": "2022-08-01T13:01:57.420175Z"
    },
    "slideshow": {
     "slide_type": "subslide"
    }
   },
   "outputs": [
    {
     "data": {
      "text/plain": [
       "'It took LangFuzzer 19.14 seconds to generate and execute 300 inputs.'"
      ]
     },
     "execution_count": 45,
     "metadata": {},
     "output_type": "execute_result"
    }
   ],
   "source": [
    "n = 300\n",
    "runner = FunctionCoverageRunner(my_parser)\n",
    "mutator = FragmentMutator(EarleyParser(XML_GRAMMAR, tokens=XML_TOKENS))\n",
    "schedule = PowerSchedule()\n",
    "\n",
    "lang_fuzzer = LangFuzzer([valid_seed.data], mutator, schedule)\n",
    "\n",
    "start = time.time()\n",
    "lang_fuzzer.runs(runner, trials=n)\n",
    "end = time.time()\n",
    "\n",
    "\"It took LangFuzzer %0.2f seconds to generate and execute %d inputs.\" % (end - start, n)"
   ]
  },
  {
   "cell_type": "markdown",
   "metadata": {
    "slideshow": {
     "slide_type": "subslide"
    }
   },
   "source": [
    "We observe that structural mutation is *sooo very slow*. This is despite our time budget of 200ms for parsing. In contrast, our blackbox fuzzer alone can generate about 10k inputs per second!"
   ]
  },
  {
   "cell_type": "code",
   "execution_count": 46,
   "metadata": {
    "execution": {
     "iopub.execute_input": "2022-08-01T13:01:57.423189Z",
     "iopub.status.busy": "2022-08-01T13:01:57.422909Z",
     "iopub.status.idle": "2022-08-01T13:01:57.534573Z",
     "shell.execute_reply": "2022-08-01T13:01:57.534258Z"
    },
    "slideshow": {
     "slide_type": "fragment"
    }
   },
   "outputs": [
    {
     "data": {
      "text/plain": [
       "'It took a blackbox fuzzer 0.11 seconds to generate and execute 300 inputs.'"
      ]
     },
     "execution_count": 46,
     "metadata": {},
     "output_type": "execute_result"
    }
   ],
   "source": [
    "runner = FunctionCoverageRunner(my_parser)\n",
    "mutator = Mutator()\n",
    "schedule = PowerSchedule()\n",
    "\n",
    "blackFuzzer = AdvancedMutationFuzzer([valid_seed.data], mutator, schedule)\n",
    "\n",
    "start = time.time()\n",
    "blackFuzzer.runs(runner, trials=n)\n",
    "end = time.time()\n",
    "\n",
    "\"It took a blackbox fuzzer %0.2f seconds to generate and execute %d inputs.\" % (end - start, n)"
   ]
  },
  {
   "cell_type": "markdown",
   "metadata": {
    "slideshow": {
     "slide_type": "subslide"
    }
   },
   "source": [
    "Indeed, our blackbox fuzzer is done in the blink of an eye.\n",
    "\n",
    "***Try it***. We can deal with this overhead using [deferred parsing](https://arxiv.org/abs/1811.09447). Instead of wasting time in the beginning of the fuzzing campaign when a byte-level mutator would make efficient progress, deferred parsing suggests to invest time in structural mutation only later in the fuzzing campaign when it becomes viable."
   ]
  },
  {
   "cell_type": "code",
   "execution_count": 47,
   "metadata": {
    "execution": {
     "iopub.execute_input": "2022-08-01T13:01:57.536476Z",
     "iopub.status.busy": "2022-08-01T13:01:57.536338Z",
     "iopub.status.idle": "2022-08-01T13:01:57.538802Z",
     "shell.execute_reply": "2022-08-01T13:01:57.538498Z"
    },
    "slideshow": {
     "slide_type": "fragment"
    }
   },
   "outputs": [
    {
     "data": {
      "text/plain": [
       "'During this fuzzing campaign, the blackbox fuzzer covered 92 statements.'"
      ]
     },
     "execution_count": 47,
     "metadata": {},
     "output_type": "execute_result"
    }
   ],
   "source": [
    "blackbox_coverage = len(runner.coverage())\n",
    "\"During this fuzzing campaign, the blackbox fuzzer covered %d statements.\" % blackbox_coverage"
   ]
  },
  {
   "cell_type": "markdown",
   "metadata": {
    "slideshow": {
     "slide_type": "subslide"
    }
   },
   "source": [
    "Let's print some stats for our fuzzing campaigns. Since we'll need to print stats more often later, we should wrap this into a function. In order to measure coverage, we import the [population_coverage](Coverage.ipynb#Coverage-of-Basic-Fuzzing) function. It takes a set of inputs and a Python function, executes the inputs on that function and collects coverage information. Specifically, it returns a tuple `(all_coverage, cumulative_coverage)` where `all_coverage` is the set of statements covered by all inputs, and `cumulative_coverage` is the number of statements covered as the number of executed inputs increases. We are just interested in the latter to plot coverage over time."
   ]
  },
  {
   "cell_type": "code",
   "execution_count": 48,
   "metadata": {
    "execution": {
     "iopub.execute_input": "2022-08-01T13:01:57.540311Z",
     "iopub.status.busy": "2022-08-01T13:01:57.540194Z",
     "iopub.status.idle": "2022-08-01T13:01:57.541978Z",
     "shell.execute_reply": "2022-08-01T13:01:57.541732Z"
    },
    "slideshow": {
     "slide_type": "skip"
    }
   },
   "outputs": [],
   "source": [
    "from Coverage import population_coverage"
   ]
  },
  {
   "cell_type": "code",
   "execution_count": 49,
   "metadata": {
    "execution": {
     "iopub.execute_input": "2022-08-01T13:01:57.543687Z",
     "iopub.status.busy": "2022-08-01T13:01:57.543567Z",
     "iopub.status.idle": "2022-08-01T13:01:57.546911Z",
     "shell.execute_reply": "2022-08-01T13:01:57.546584Z"
    },
    "slideshow": {
     "slide_type": "subslide"
    }
   },
   "outputs": [],
   "source": [
    "def print_stats(fuzzer, parser: Parser) -> None:\n",
    "    coverage, _ = population_coverage(fuzzer.inputs, my_parser)\n",
    "\n",
    "    has_structure = 0\n",
    "    for seed in fuzzer.inputs:\n",
    "        # reuse memoized information\n",
    "        if hasattr(seed, \"has_structure\"):\n",
    "            if seed.has_structure: \n",
    "                has_structure += 1\n",
    "        else:\n",
    "            if isinstance(seed, str):\n",
    "                seed = Seed(seed)\n",
    "            try:\n",
    "                with Timeout(0.2):\n",
    "                    next(parser.parse(seed.data))  # type: ignore\n",
    "                has_structure += 1\n",
    "            except (SyntaxError, TimeoutError):\n",
    "                pass\n",
    "\n",
    "    print(\"From the %d generated inputs, %d (%0.2f%%) can be parsed.\\n\"\n",
    "          \"In total, %d statements are covered.\" % (\n",
    "            len(fuzzer.inputs),\n",
    "            has_structure,\n",
    "            100 * has_structure / len(fuzzer.inputs),\n",
    "            len(coverage)))"
   ]
  },
  {
   "cell_type": "markdown",
   "metadata": {
    "slideshow": {
     "slide_type": "subslide"
    }
   },
   "source": [
    "For LangFuzzer, let's see how many of the inputs generated by LangFuzz are valid (i.e., parsable) and how many statements were covered."
   ]
  },
  {
   "cell_type": "code",
   "execution_count": 50,
   "metadata": {
    "execution": {
     "iopub.execute_input": "2022-08-01T13:01:57.548399Z",
     "iopub.status.busy": "2022-08-01T13:01:57.548276Z",
     "iopub.status.idle": "2022-08-01T13:01:57.665709Z",
     "shell.execute_reply": "2022-08-01T13:01:57.665326Z"
    },
    "slideshow": {
     "slide_type": "fragment"
    }
   },
   "outputs": [
    {
     "name": "stdout",
     "output_type": "stream",
     "text": [
      "From the 300 generated inputs, 146 (48.67%) can be parsed.\n",
      "In total, 91 statements are covered.\n"
     ]
    }
   ],
   "source": [
    "print_stats(lang_fuzzer, EarleyParser(XML_GRAMMAR, tokens=XML_TOKENS))"
   ]
  },
  {
   "cell_type": "markdown",
   "metadata": {
    "slideshow": {
     "slide_type": "fragment"
    }
   },
   "source": [
    "What are the stats for the mutational fuzzer that uses only byte-level mutation (and no grammars)?"
   ]
  },
  {
   "cell_type": "code",
   "execution_count": 51,
   "metadata": {
    "execution": {
     "iopub.execute_input": "2022-08-01T13:01:57.667782Z",
     "iopub.status.busy": "2022-08-01T13:01:57.667633Z",
     "iopub.status.idle": "2022-08-01T13:02:03.491748Z",
     "shell.execute_reply": "2022-08-01T13:02:03.491422Z"
    },
    "slideshow": {
     "slide_type": "fragment"
    }
   },
   "outputs": [
    {
     "name": "stdout",
     "output_type": "stream",
     "text": [
      "From the 300 generated inputs, 35 (11.67%) can be parsed.\n",
      "In total, 161 statements are covered.\n"
     ]
    }
   ],
   "source": [
    "print_stats(blackFuzzer, EarleyParser(XML_GRAMMAR, tokens=XML_TOKENS))"
   ]
  },
  {
   "cell_type": "markdown",
   "metadata": {
    "slideshow": {
     "slide_type": "subslide"
    }
   },
   "source": [
    "***Summary***. Our fragment-level blackbox fuzzer (LangFuzzer) generates *more valid inputs* but achieves *less code coverage* than a fuzzer with our byte-level fuzzer. So, there is some value in generating inputs that do not stick to the provided grammar. "
   ]
  },
  {
   "cell_type": "markdown",
   "metadata": {
    "slideshow": {
     "slide_type": "subslide"
    }
   },
   "source": [
    "### Integration with Greybox Fuzzing\n",
    "\n",
    "In the following we integrate fragment-level blackbox fuzzing (LangFuzz-style) with [byte-level greybox fuzzing](GreyboxFuzzer.ipynb#Greybox-Mutation-based-Fuzzer) (AFL-style). The additional coverage-feedback might allow us to increase code coverage more quickly.\n",
    "\n",
    "A [greybox fuzzer](GreyboxFuzzer.ipynb#Greybox-Mutation-based-Fuzzer) adds to the seed population all generated inputs which increase code coverage. Inputs are generated in two stages, stacking up to four structural mutations and up to 32 byte-level mutations."
   ]
  },
  {
   "cell_type": "code",
   "execution_count": 52,
   "metadata": {
    "execution": {
     "iopub.execute_input": "2022-08-01T13:02:03.493569Z",
     "iopub.status.busy": "2022-08-01T13:02:03.493444Z",
     "iopub.status.idle": "2022-08-01T13:02:03.496976Z",
     "shell.execute_reply": "2022-08-01T13:02:03.496701Z"
    },
    "slideshow": {
     "slide_type": "subslide"
    }
   },
   "outputs": [],
   "source": [
    "class GreyboxGrammarFuzzer(GreyboxFuzzer):\n",
    "    \"\"\"Greybox fuzzer using grammars.\"\"\"\n",
    "\n",
    "    def __init__(self, seeds: List[str],\n",
    "                 byte_mutator: Mutator, tree_mutator: FragmentMutator,\n",
    "                 schedule: PowerSchedule) -> None:\n",
    "        \"\"\"Constructor.\n",
    "        `seeds` - set of inputs to mutate.\n",
    "        `byte_mutator` - a byte-level mutator.\n",
    "        `tree_mutator` = a tree-level mutator.\n",
    "        `schedule` - a power schedule.\n",
    "        \"\"\"\n",
    "        super().__init__(seeds, byte_mutator, schedule)\n",
    "        self.tree_mutator = tree_mutator\n",
    "\n",
    "    def create_candidate(self) -> str:\n",
    "        \"\"\"Returns an input generated by structural mutation \n",
    "           of a seed in the population\"\"\"\n",
    "        seed = cast(SeedWithStructure, self.schedule.choose(self.population))\n",
    "\n",
    "        # Structural mutation\n",
    "        trials = random.randint(0, 4)\n",
    "        for i in range(trials):\n",
    "            seed = self.tree_mutator.mutate(seed)\n",
    "\n",
    "        # Byte-level mutation\n",
    "        candidate = seed.data\n",
    "        if trials == 0 or not seed.has_structure or random.randint(0, 1) == 1:\n",
    "            dumb_trials = min(len(seed.data), 1 << random.randint(1, 5))\n",
    "            for i in range(dumb_trials):\n",
    "                candidate = self.mutator.mutate(candidate)\n",
    "\n",
    "        return candidate"
   ]
  },
  {
   "cell_type": "markdown",
   "metadata": {
    "slideshow": {
     "slide_type": "subslide"
    }
   },
   "source": [
    "Let's run our integrated fuzzer with the [standard byte-level mutator](GreyboxFuzzer.ipynb#Mutator-and-Seed) and our [fragment-based structural mutator](#Fragment-based-Mutation) that was introduced above."
   ]
  },
  {
   "cell_type": "code",
   "execution_count": 53,
   "metadata": {
    "execution": {
     "iopub.execute_input": "2022-08-01T13:02:03.498561Z",
     "iopub.status.busy": "2022-08-01T13:02:03.498444Z",
     "iopub.status.idle": "2022-08-01T13:02:04.535017Z",
     "shell.execute_reply": "2022-08-01T13:02:04.534706Z"
    },
    "slideshow": {
     "slide_type": "subslide"
    }
   },
   "outputs": [
    {
     "data": {
      "text/plain": [
       "'It took the greybox grammar fuzzer 1.03 seconds to generate and execute 300 inputs.'"
      ]
     },
     "execution_count": 53,
     "metadata": {},
     "output_type": "execute_result"
    }
   ],
   "source": [
    "runner = FunctionCoverageRunner(my_parser)\n",
    "byte_mutator = Mutator()\n",
    "tree_mutator = FragmentMutator(EarleyParser(XML_GRAMMAR, tokens=XML_TOKENS))\n",
    "schedule = PowerSchedule()\n",
    "\n",
    "gg_fuzzer = GreyboxGrammarFuzzer([valid_seed.data], byte_mutator, tree_mutator, schedule)\n",
    "\n",
    "start = time.time()\n",
    "gg_fuzzer.runs(runner, trials=n)\n",
    "end = time.time()\n",
    "\n",
    "\"It took the greybox grammar fuzzer %0.2f seconds to generate and execute %d inputs.\" % (end - start, n)"
   ]
  },
  {
   "cell_type": "code",
   "execution_count": 54,
   "metadata": {
    "execution": {
     "iopub.execute_input": "2022-08-01T13:02:04.536875Z",
     "iopub.status.busy": "2022-08-01T13:02:04.536741Z",
     "iopub.status.idle": "2022-08-01T13:02:05.319621Z",
     "shell.execute_reply": "2022-08-01T13:02:05.319347Z"
    },
    "slideshow": {
     "slide_type": "subslide"
    }
   },
   "outputs": [
    {
     "name": "stdout",
     "output_type": "stream",
     "text": [
      "From the 300 generated inputs, 1 (0.33%) can be parsed.\n",
      "In total, 168 statements are covered.\n"
     ]
    }
   ],
   "source": [
    "print_stats(gg_fuzzer, EarleyParser(XML_GRAMMAR, tokens=XML_TOKENS))"
   ]
  },
  {
   "cell_type": "markdown",
   "metadata": {
    "slideshow": {
     "slide_type": "subslide"
    }
   },
   "source": [
    "***Summary***. Our structural greybox fuzzer \n",
    "* runs faster than the fragment-based LangFuzzer,\n",
    "* achieves more coverage than both the fragment-based LangFuzzer and the vanilla blackbox mutational fuzzer, and\n",
    "* generates fewer valid inputs than even the vanilla blackbox mutational fuzzer."
   ]
  },
  {
   "cell_type": "markdown",
   "metadata": {
    "slideshow": {
     "slide_type": "slide"
    },
    "toc-hr-collapsed": false
   },
   "source": [
    "## Fuzzing with Input Regions\n",
    "\n",
    "In the previous section, we have seen that most inputs that are added as seeds are *invalid* w.r.t. our given grammar. Yet, in order to apply our fragment-based mutators, we need it to parse the seed successfully. Otherwise, the entire fragment-based approach becomes useless.  The question arises: *How can we derive structure from (invalid) seeds that cannot be parsed successfully?*\n",
    "\n",
    "To this end, we introduce the idea of _region-based mutation_, first explored with the [AFLSmart](https://github.com/aflsmart/aflsmart) structural greybox fuzzer \\cite{Pham2018aflsmart}. AFLSmart implements byte-level, fragment-based, and region-based mutation as well as validity-based power schedules. We define *region-based mutators*, where a *region* is a consecutive sequence of bytes in the input that can be associated with a symbol in the grammar."
   ]
  },
  {
   "cell_type": "markdown",
   "metadata": {
    "slideshow": {
     "slide_type": "subslide"
    }
   },
   "source": [
    "The basic idea of fuzzing with input regions is shown in the following diagram. After _parsing_ an input (into a derivation tree), we can identify _regions_ associated with specific subtrees of the derivation tree. These regions can then be deleted or swapped.\n",
    "\n",
    "![](PICS/GreyboxGrammarFuzzer-Regions.gif)"
   ]
  },
  {
   "cell_type": "markdown",
   "metadata": {
    "slideshow": {
     "slide_type": "fragment"
    }
   },
   "source": [
    "Such regions can also be determined even if the input is incomplete or invalid, allowing for robust parsing."
   ]
  },
  {
   "cell_type": "markdown",
   "metadata": {
    "slideshow": {
     "slide_type": "subslide"
    }
   },
   "source": [
    "### Determining Symbol Regions\n",
    "\n",
    "How can we obtain regions for a given input? The function `chart_parse()` of the [Earley parser](Parser.ipynb#The-Parsing-Algorithm) produces a _parse table_ for a string. For each letter in the string, this table gives the potential symbol and a *region* of neighboring letters that might belong to the same symbol."
   ]
  },
  {
   "cell_type": "code",
   "execution_count": 55,
   "metadata": {
    "code_folding": [],
    "execution": {
     "iopub.execute_input": "2022-08-01T13:02:05.321438Z",
     "iopub.status.busy": "2022-08-01T13:02:05.321327Z",
     "iopub.status.idle": "2022-08-01T13:02:05.332330Z",
     "shell.execute_reply": "2022-08-01T13:02:05.331948Z"
    },
    "slideshow": {
     "slide_type": "subslide"
    }
   },
   "outputs": [
    {
     "name": "stdout",
     "output_type": "stream",
     "text": [
      "None chart[0]\n",
      "\n",
      "---\n",
      "< chart[1]\n",
      "\n",
      "---\n",
      "h chart[2]\n",
      "<letter>:= h |(1,2)\n",
      "<id>:= <letter> |(1,2)\n",
      "---\n",
      "t chart[3]\n",
      "<letter>:= t |(2,3)\n",
      "<id>:= <id> <letter> |(1,3)\n",
      "---\n",
      "m chart[4]\n",
      "<letter>:= m |(3,4)\n",
      "<id>:= <id> <letter> |(1,4)\n",
      "---\n",
      "l chart[5]\n",
      "<letter>:= l |(4,5)\n",
      "<id>:= <id> <letter> |(1,5)\n",
      "---\n",
      "> chart[6]\n",
      "<xml-open-tag>:= < <id> > |(0,6)\n",
      "---\n",
      "< chart[7]\n",
      "\n",
      "---\n",
      "b chart[8]\n",
      "<letter>:= b |(7,8)\n",
      "<id>:= <letter> |(7,8)\n",
      "---\n",
      "o chart[9]\n",
      "<letter>:= o |(8,9)\n",
      "<id>:= <id> <letter> |(7,9)\n",
      "---\n",
      "d chart[10]\n",
      "<letter>:= d |(9,10)\n",
      "<id>:= <id> <letter> |(7,10)\n",
      "---\n",
      "y chart[11]\n",
      "<letter>:= y |(10,11)\n",
      "<id>:= <id> <letter> |(7,11)\n",
      "---\n",
      "> chart[12]\n",
      "<xml-open-tag>:= < <id> > |(6,12)\n",
      "---\n",
      "< chart[13]\n",
      "\n",
      "---\n",
      "i chart[14]\n",
      "<letter>:= i |(13,14)\n",
      "<id>:= <letter> |(13,14)\n",
      "---\n",
      "> chart[15]\n",
      "<xml-open-tag>:= < <id> > |(12,15)\n",
      "---\n",
      "W chart[16]\n",
      "<letter_space>:= W |(15,16)\n",
      "<text>:= <letter_space> |(15,16)\n",
      "<xml-tree>:= <text> |(15,16)\n",
      "---\n",
      "o chart[17]\n",
      "<letter_space>:= o |(16,17)\n",
      "<text>:= <text> <letter_space> |(15,17)\n",
      "<text>:= <letter_space> |(16,17)\n",
      "<xml-tree>:= <text> |(15,17)\n",
      "<xml-tree>:= <text> |(16,17)\n",
      "<xml-tree>:= <xml-tree> <xml-tree> |(15,17)\n",
      "---\n",
      "r chart[18]\n",
      "<letter_space>:= r |(17,18)\n",
      "<text>:= <text> <letter_space> |(15,18)\n",
      "<text>:= <text> <letter_space> |(16,18)\n",
      "<text>:= <letter_space> |(17,18)\n",
      "<xml-tree>:= <text> |(15,18)\n",
      "<xml-tree>:= <text> |(16,18)\n",
      "<xml-tree>:= <text> |(17,18)\n",
      "<xml-tree>:= <xml-tree> <xml-tree> |(15,18)\n",
      "<xml-tree>:= <xml-tree> <xml-tree> |(16,18)\n",
      "---\n",
      "l chart[19]\n",
      "<letter_space>:= l |(18,19)\n",
      "<text>:= <text> <letter_space> |(15,19)\n",
      "<text>:= <text> <letter_space> |(16,19)\n",
      "<text>:= <text> <letter_space> |(17,19)\n",
      "<text>:= <letter_space> |(18,19)\n",
      "<xml-tree>:= <text> |(15,19)\n",
      "<xml-tree>:= <text> |(16,19)\n",
      "<xml-tree>:= <text> |(17,19)\n",
      "<xml-tree>:= <text> |(18,19)\n",
      "<xml-tree>:= <xml-tree> <xml-tree> |(15,19)\n",
      "<xml-tree>:= <xml-tree> <xml-tree> |(16,19)\n",
      "<xml-tree>:= <xml-tree> <xml-tree> |(17,19)\n",
      "---\n",
      "d chart[20]\n",
      "<letter_space>:= d |(19,20)\n",
      "<text>:= <text> <letter_space> |(15,20)\n",
      "<text>:= <text> <letter_space> |(16,20)\n",
      "<text>:= <text> <letter_space> |(17,20)\n",
      "<text>:= <text> <letter_space> |(18,20)\n",
      "<text>:= <letter_space> |(19,20)\n",
      "<xml-tree>:= <text> |(15,20)\n",
      "<xml-tree>:= <text> |(16,20)\n",
      "<xml-tree>:= <text> |(17,20)\n",
      "<xml-tree>:= <text> |(18,20)\n",
      "<xml-tree>:= <text> |(19,20)\n",
      "<xml-tree>:= <xml-tree> <xml-tree> |(15,20)\n",
      "<xml-tree>:= <xml-tree> <xml-tree> |(16,20)\n",
      "<xml-tree>:= <xml-tree> <xml-tree> |(17,20)\n",
      "<xml-tree>:= <xml-tree> <xml-tree> |(18,20)\n",
      "---\n",
      "< chart[21]\n",
      "\n",
      "---\n",
      "/ chart[22]\n",
      "\n",
      "---\n",
      "i chart[23]\n",
      "<letter>:= i |(22,23)\n",
      "<id>:= <letter> |(22,23)\n",
      "---\n",
      "> chart[24]\n",
      "<xml-close-tag>:= < / <id> > |(20,24)\n",
      "<xml-tree>:= <xml-open-tag> <xml-tree> <xml-close-tag> |(12,24)\n",
      "---\n",
      "< chart[25]\n",
      "\n",
      "---\n",
      "b chart[26]\n",
      "<letter>:= b |(25,26)\n",
      "<id>:= <letter> |(25,26)\n",
      "---\n",
      "r chart[27]\n",
      "<letter>:= r |(26,27)\n",
      "<id>:= <id> <letter> |(25,27)\n",
      "---\n",
      "/ chart[28]\n",
      "\n",
      "---\n",
      "> chart[29]\n",
      "<xml-openclose-tag>:= < <id> / > |(24,29)\n",
      "<xml-tree>:= <xml-openclose-tag> |(24,29)\n",
      "<xml-tree>:= <xml-tree> <xml-tree> |(12,29)\n",
      "---\n",
      "> chart[30]\n",
      "\n",
      "---\n",
      "/ chart[31]\n",
      "\n",
      "---\n",
      "b chart[32]\n",
      "\n",
      "---\n",
      "o chart[33]\n",
      "\n",
      "---\n",
      "d chart[34]\n",
      "\n",
      "---\n",
      "y chart[35]\n",
      "\n",
      "---\n",
      "> chart[36]\n",
      "\n",
      "---\n",
      "< chart[37]\n",
      "\n",
      "---\n",
      "/ chart[38]\n",
      "\n",
      "---\n",
      "h chart[39]\n",
      "\n",
      "---\n",
      "t chart[40]\n",
      "\n",
      "---\n",
      "m chart[41]\n",
      "\n",
      "---\n",
      "l chart[42]\n",
      "\n",
      "---\n",
      "> chart[43]\n",
      "\n",
      "---\n"
     ]
    }
   ],
   "source": [
    "invalid_seed = Seed(\"<html><body><i>World</i><br/>>/body></html>\")\n",
    "parser = EarleyParser(XML_GRAMMAR, tokens=XML_TOKENS)\n",
    "table = parser.chart_parse(invalid_seed.data, parser.start_symbol())\n",
    "for column in table:\n",
    "    print(column)\n",
    "    print(\"---\")"
   ]
  },
  {
   "cell_type": "markdown",
   "metadata": {
    "slideshow": {
     "slide_type": "subslide"
    }
   },
   "source": [
    "The number of columns in this table that are associated with potential symbols correspond to the number of letters that could be parsed successfully. In other words, we can use this table to compute the longest parsable substring."
   ]
  },
  {
   "cell_type": "code",
   "execution_count": 56,
   "metadata": {
    "execution": {
     "iopub.execute_input": "2022-08-01T13:02:05.333835Z",
     "iopub.status.busy": "2022-08-01T13:02:05.333717Z",
     "iopub.status.idle": "2022-08-01T13:02:05.336470Z",
     "shell.execute_reply": "2022-08-01T13:02:05.336185Z"
    },
    "slideshow": {
     "slide_type": "fragment"
    }
   },
   "outputs": [
    {
     "name": "stdout",
     "output_type": "stream",
     "text": [
      "'<html><body><i>World</i><br/>>/body></html>'\n"
     ]
    },
    {
     "data": {
      "text/plain": [
       "'<html><body><i>World</i><br/>'"
      ]
     },
     "execution_count": 56,
     "metadata": {},
     "output_type": "execute_result"
    }
   ],
   "source": [
    "cols = [col for col in table if col.states]\n",
    "parsable = invalid_seed.data[:len(cols)-1]\n",
    "\n",
    "print(\"'%s'\" % invalid_seed)\n",
    "parsable"
   ]
  },
  {
   "cell_type": "markdown",
   "metadata": {
    "slideshow": {
     "slide_type": "fragment"
    }
   },
   "source": [
    "From this, we can compute the *degree of validity* for an input."
   ]
  },
  {
   "cell_type": "code",
   "execution_count": 57,
   "metadata": {
    "execution": {
     "iopub.execute_input": "2022-08-01T13:02:05.338008Z",
     "iopub.status.busy": "2022-08-01T13:02:05.337903Z",
     "iopub.status.idle": "2022-08-01T13:02:05.340076Z",
     "shell.execute_reply": "2022-08-01T13:02:05.339841Z"
    },
    "slideshow": {
     "slide_type": "subslide"
    }
   },
   "outputs": [
    {
     "data": {
      "text/plain": [
       "'67.4% of the string can be parsed successfully.'"
      ]
     },
     "execution_count": 57,
     "metadata": {},
     "output_type": "execute_result"
    }
   ],
   "source": [
    "validity = 100 * len(parsable) / len(invalid_seed.data)\n",
    "\n",
    "\"%0.1f%% of the string can be parsed successfully.\" % validity"
   ]
  },
  {
   "cell_type": "markdown",
   "metadata": {
    "slideshow": {
     "slide_type": "subslide"
    }
   },
   "source": [
    "***Summary***. Unlike input fragments, input regions can be derived even if the parser fails to generate the entire parse tree."
   ]
  },
  {
   "cell_type": "markdown",
   "metadata": {
    "slideshow": {
     "slide_type": "subslide"
    },
    "tags": []
   },
   "source": [
    "### Region-Based Mutation\n",
    "\n",
    "To fuzz invalid seeds, the region-based mutator associates symbols from the grammar with regions (i.e., indexed substrings) in the seed. The [overridden](#Building-the-Fragment-Pool) method `add_to_fragment_pool()` first tries to mine the fragments from the seed. If this fails, the region mutator uses [Earley parser](Parser.ipynb#The-Parsing-Algorithm) to derive the parse table. For each column (i.e., letter), it extracts the symbols and corresponding regions. This allows the mutator to store the set of regions with each symbol."
   ]
  },
  {
   "cell_type": "code",
   "execution_count": 58,
   "metadata": {
    "execution": {
     "iopub.execute_input": "2022-08-01T13:02:05.341663Z",
     "iopub.status.busy": "2022-08-01T13:02:05.341540Z",
     "iopub.status.idle": "2022-08-01T13:02:05.343608Z",
     "shell.execute_reply": "2022-08-01T13:02:05.343359Z"
    },
    "slideshow": {
     "slide_type": "subslide"
    }
   },
   "outputs": [],
   "source": [
    "class SeedWithRegions(SeedWithStructure):\n",
    "    \"\"\"Seeds augmented with structure info\"\"\"\n",
    "\n",
    "    def __init__(self, data: str) -> None:\n",
    "        super().__init__(data)\n",
    "        self.has_regions = False\n",
    "        self.regions: Dict[str, Set] = {}"
   ]
  },
  {
   "cell_type": "code",
   "execution_count": 59,
   "metadata": {
    "execution": {
     "iopub.execute_input": "2022-08-01T13:02:05.345096Z",
     "iopub.status.busy": "2022-08-01T13:02:05.344971Z",
     "iopub.status.idle": "2022-08-01T13:02:05.348292Z",
     "shell.execute_reply": "2022-08-01T13:02:05.348022Z"
    },
    "slideshow": {
     "slide_type": "subslide"
    }
   },
   "outputs": [],
   "source": [
    "class RegionMutator(FragmentMutator):\n",
    "    def add_to_fragment_pool(self, seed: SeedWithRegions) -> None:  # type: ignore\n",
    "        \"\"\"Mark fragments and regions in a seed file\"\"\"\n",
    "        super().add_to_fragment_pool(seed)\n",
    "        if not seed.has_structure:\n",
    "            try:\n",
    "                with Timeout(0.2):\n",
    "                    seed.regions = {k: set() for k in self.parser.cgrammar}\n",
    "                    for column in self.parser.chart_parse(seed.data,\n",
    "                                                          self.parser.start_symbol()):\n",
    "                        for state in column.states:\n",
    "                            if (not self.is_excluded(state.name) and\n",
    "                                    state.e_col.index - state.s_col.index > 1 and\n",
    "                                    state.finished()):\n",
    "                                seed.regions[state.name].add((state.s_col.index,\n",
    "                                                              state.e_col.index))\n",
    "                seed.has_regions = True\n",
    "            except TimeoutError:\n",
    "                seed.has_regions = False\n",
    "        else:\n",
    "            seed.has_regions = False"
   ]
  },
  {
   "cell_type": "markdown",
   "metadata": {
    "slideshow": {
     "slide_type": "subslide"
    }
   },
   "source": [
    "This is how these regions look like for our invalid seed. A region consists of a start and end index in the seed string."
   ]
  },
  {
   "cell_type": "code",
   "execution_count": 60,
   "metadata": {
    "execution": {
     "iopub.execute_input": "2022-08-01T13:02:05.349805Z",
     "iopub.status.busy": "2022-08-01T13:02:05.349686Z",
     "iopub.status.idle": "2022-08-01T13:02:05.428238Z",
     "shell.execute_reply": "2022-08-01T13:02:05.427960Z"
    },
    "slideshow": {
     "slide_type": "subslide"
    }
   },
   "outputs": [
    {
     "name": "stdout",
     "output_type": "stream",
     "text": [
      "<start>\n",
      "<xml-tree>\n",
      "|-(16,20) : orld\n",
      "|-(12,24) : <i>World</i>\n",
      "|-(17,20) : rld\n",
      "|-(18,20) : ld\n",
      "|-(16,19) : orl\n",
      "|-(15,17) : Wo\n",
      "|-(12,29) : <i>World</i><br/>\n",
      "|-(17,19) : rl\n",
      "|-(15,20) : World\n",
      "|-(24,29) : <br/>\n",
      "|-(15,19) : Worl\n",
      "|-(16,18) : or\n",
      "|-(15,18) : Wor\n",
      "<xml-open-tag>\n",
      "|-(6,12) : <body>\n",
      "|-(12,15) : <i>\n",
      "|-(0,6) : <html>\n",
      "<xml-openclose-tag>\n",
      "|-(24,29) : <br/>\n",
      "<xml-close-tag>\n",
      "|-(20,24) : </i>\n",
      "<xml-attribute>\n",
      "<id>\n",
      "<text>\n",
      "<letter>\n",
      "<letter_space>\n"
     ]
    }
   ],
   "source": [
    "invalid_seed = SeedWithRegions(\"<html><body><i>World</i><br/>>/body></html>\")\n",
    "mutator = RegionMutator(parser)\n",
    "mutator.add_to_fragment_pool(invalid_seed)\n",
    "for symbol in invalid_seed.regions:  # type: ignore\n",
    "    print(symbol)\n",
    "    for (s, e) in invalid_seed.regions[symbol]:  # type: ignore\n",
    "        print(\"|-(%d,%d) : %s\" % (s, e, invalid_seed.data[s:e]))"
   ]
  },
  {
   "cell_type": "markdown",
   "metadata": {
    "slideshow": {
     "slide_type": "subslide"
    }
   },
   "source": [
    "Now that we know which regions in the seed belong to which symbol, we can define region-based swap and delete operators."
   ]
  },
  {
   "cell_type": "code",
   "execution_count": 61,
   "metadata": {
    "execution": {
     "iopub.execute_input": "2022-08-01T13:02:05.430154Z",
     "iopub.status.busy": "2022-08-01T13:02:05.429978Z",
     "iopub.status.idle": "2022-08-01T13:02:05.433563Z",
     "shell.execute_reply": "2022-08-01T13:02:05.433244Z"
    },
    "slideshow": {
     "slide_type": "subslide"
    }
   },
   "outputs": [],
   "source": [
    "class RegionMutator(RegionMutator):\n",
    "    def swap_fragment(self, seed: SeedWithRegions) -> SeedWithRegions:  # type: ignore\n",
    "        \"\"\"Chooses a random region and swaps it with a fragment\n",
    "           that starts with the same symbol\"\"\"\n",
    "        if not seed.has_structure and seed.has_regions:\n",
    "            regions = [r for r in seed.regions\n",
    "                       if (len(seed.regions[r]) > 0 and\n",
    "                           len(self.fragments[r]) > 0)]\n",
    "            if len(regions) == 0:\n",
    "                return seed\n",
    "\n",
    "            key = random.choice(list(regions))\n",
    "            s, e = random.choice(list(seed.regions[key]))\n",
    "            swap_structure = random.choice(self.fragments[key])\n",
    "            swap_string = tree_to_string(swap_structure)\n",
    "            new_seed = SeedWithRegions(seed.data[:s] + swap_string + seed.data[e:])\n",
    "            new_seed.has_structure = False\n",
    "            new_seed.has_regions = False\n",
    "            return new_seed\n",
    "        else:\n",
    "            return super().swap_fragment(seed)  # type: ignore"
   ]
  },
  {
   "cell_type": "code",
   "execution_count": 62,
   "metadata": {
    "execution": {
     "iopub.execute_input": "2022-08-01T13:02:05.435406Z",
     "iopub.status.busy": "2022-08-01T13:02:05.435301Z",
     "iopub.status.idle": "2022-08-01T13:02:05.438605Z",
     "shell.execute_reply": "2022-08-01T13:02:05.438329Z"
    },
    "slideshow": {
     "slide_type": "subslide"
    }
   },
   "outputs": [],
   "source": [
    "class RegionMutator(RegionMutator):\n",
    "    def delete_fragment(self, seed: SeedWithRegions) -> SeedWithRegions:  # type: ignore\n",
    "        \"\"\"Deletes a random region\"\"\"\n",
    "        if not seed.has_structure and seed.has_regions:\n",
    "            regions = [r for r in seed.regions\n",
    "                       if len(seed.regions[r]) > 0]\n",
    "            if len(regions) == 0:\n",
    "                return seed\n",
    "\n",
    "            key = random.choice(list(regions))\n",
    "            s, e = (0, 0)\n",
    "            while (e - s < 2):\n",
    "                s, e = random.choice(list(seed.regions[key]))\n",
    "\n",
    "            new_seed = SeedWithRegions(seed.data[:s] + seed.data[e:])\n",
    "            new_seed.has_structure = False\n",
    "            new_seed.has_regions = False\n",
    "            return new_seed\n",
    "        else:\n",
    "            return super().delete_fragment(seed)  # type: ignore"
   ]
  },
  {
   "cell_type": "markdown",
   "metadata": {
    "slideshow": {
     "slide_type": "subslide"
    }
   },
   "source": [
    "Let's try our new region-based mutator. We add a simple, valid seed to the fragment pool and attempt to mutate the invalid seed."
   ]
  },
  {
   "cell_type": "code",
   "execution_count": 63,
   "metadata": {
    "execution": {
     "iopub.execute_input": "2022-08-01T13:02:05.440242Z",
     "iopub.status.busy": "2022-08-01T13:02:05.440147Z",
     "iopub.status.idle": "2022-08-01T13:02:05.582580Z",
     "shell.execute_reply": "2022-08-01T13:02:05.582260Z"
    },
    "slideshow": {
     "slide_type": "fragment"
    }
   },
   "outputs": [
    {
     "name": "stdout",
     "output_type": "stream",
     "text": [
      "<html><body><i>World</i><br/>>/body></html>\n"
     ]
    },
    {
     "data": {
      "text/plain": [
       "<b><body><i>World</i><br/>>/body></html>"
      ]
     },
     "execution_count": 63,
     "metadata": {},
     "output_type": "execute_result"
    }
   ],
   "source": [
    "simple_seed = SeedWithRegions(\"<b>Text</b>\")\n",
    "mutator = RegionMutator(parser)\n",
    "mutator.add_to_fragment_pool(simple_seed)\n",
    "\n",
    "print(invalid_seed)\n",
    "mutator.mutate(invalid_seed)"
   ]
  },
  {
   "cell_type": "markdown",
   "metadata": {
    "slideshow": {
     "slide_type": "subslide"
    }
   },
   "source": [
    "***Summary***. We can use the Earley parser to generate a parse table and assign regions in the input to symbols in the grammar. Our region mutators can substitute these region with fragments from the fragment pool that start with the same symbol, or delete these regions entirely.\n",
    "\n",
    "***Try it***. Implement a region pool (similar to the fragment pool) and a `swap_region()` mutator.\n",
    "You can execute your own code by opening this chapter as Jupyter notebook."
   ]
  },
  {
   "cell_type": "markdown",
   "metadata": {
    "slideshow": {
     "slide_type": "subslide"
    }
   },
   "source": [
    "### Integration with Greybox Fuzzing\n",
    "\n",
    "Let's try our shiny new region mutator by integrating it with our [structure-aware greybox fuzzer](#Integration-with-Greybox-Fuzzing)."
   ]
  },
  {
   "cell_type": "code",
   "execution_count": 64,
   "metadata": {
    "execution": {
     "iopub.execute_input": "2022-08-01T13:02:05.584474Z",
     "iopub.status.busy": "2022-08-01T13:02:05.584343Z",
     "iopub.status.idle": "2022-08-01T13:02:18.647676Z",
     "shell.execute_reply": "2022-08-01T13:02:18.647410Z"
    },
    "slideshow": {
     "slide_type": "subslide"
    }
   },
   "outputs": [
    {
     "data": {
      "text/plain": [
       "'\\nIt took the structural greybox fuzzer with region mutator\\n13.06 seconds to generate and execute 300 inputs.\\n'"
      ]
     },
     "execution_count": 64,
     "metadata": {},
     "output_type": "execute_result"
    }
   ],
   "source": [
    "runner = FunctionCoverageRunner(my_parser)\n",
    "byte_mutator = Mutator()\n",
    "tree_mutator = RegionMutator(EarleyParser(XML_GRAMMAR, tokens=XML_TOKENS))\n",
    "schedule = PowerSchedule()\n",
    "\n",
    "regionFuzzer = GreyboxGrammarFuzzer([valid_seed.data], byte_mutator, tree_mutator, schedule)\n",
    "\n",
    "start = time.time()\n",
    "regionFuzzer.runs(runner, trials = n)\n",
    "end = time.time()\n",
    "\n",
    "\"\"\"\n",
    "It took the structural greybox fuzzer with region mutator\n",
    "%0.2f seconds to generate and execute %d inputs.\n",
    "\"\"\" % (end - start, n)"
   ]
  },
  {
   "cell_type": "markdown",
   "metadata": {
    "slideshow": {
     "slide_type": "subslide"
    }
   },
   "source": [
    "We can see that the structural greybox fuzzer with region-based mutator is slower than the [fragment-based mutator alone](#Fragment-based-Fuzzing). This is because region-based structural mutation is applicable for *all seeds*. In contrast, fragment-based mutators were applicable only for tiny number of parsable seeds. Otherwise, only (very efficient) byte-level mutators were applied.\n",
    "\n",
    "Let's also print the average degree of validity for the seeds in the population."
   ]
  },
  {
   "cell_type": "code",
   "execution_count": 65,
   "metadata": {
    "execution": {
     "iopub.execute_input": "2022-08-01T13:02:18.649324Z",
     "iopub.status.busy": "2022-08-01T13:02:18.649205Z",
     "iopub.status.idle": "2022-08-01T13:02:18.652222Z",
     "shell.execute_reply": "2022-08-01T13:02:18.651942Z"
    },
    "slideshow": {
     "slide_type": "subslide"
    }
   },
   "outputs": [],
   "source": [
    "def print_more_stats(fuzzer: GreyboxGrammarFuzzer, parser: EarleyParser):\n",
    "    print_stats(fuzzer, parser)\n",
    "    validity = 0.0\n",
    "    total = 0\n",
    "    for seed in fuzzer.population:\n",
    "        if not seed.data: continue\n",
    "        table = parser.chart_parse(seed.data, parser.start_symbol())\n",
    "        cols = [col for col in table if col.states]\n",
    "        parsable = invalid_seed.data[:len(cols)-1]\n",
    "        validity += len(parsable) / len(seed.data)\n",
    "        total += 1\n",
    "\n",
    "    print(\"On average, %0.1f%% of a seed in the population can be successfully parsed.\" % (100 * validity / total))"
   ]
  },
  {
   "cell_type": "code",
   "execution_count": 66,
   "metadata": {
    "execution": {
     "iopub.execute_input": "2022-08-01T13:02:18.653716Z",
     "iopub.status.busy": "2022-08-01T13:02:18.653614Z",
     "iopub.status.idle": "2022-08-01T13:02:19.960689Z",
     "shell.execute_reply": "2022-08-01T13:02:19.960412Z"
    },
    "slideshow": {
     "slide_type": "subslide"
    }
   },
   "outputs": [
    {
     "name": "stdout",
     "output_type": "stream",
     "text": [
      "From the 300 generated inputs, 1 (0.33%) can be parsed.\n",
      "In total, 161 statements are covered.\n",
      "On average, 6.6% of a seed in the population can be successfully parsed.\n"
     ]
    }
   ],
   "source": [
    "print_more_stats(regionFuzzer, parser)"
   ]
  },
  {
   "cell_type": "markdown",
   "metadata": {
    "slideshow": {
     "slide_type": "subslide"
    }
   },
   "source": [
    "***Summary***. Compared to fragment-based mutation, a greybox fuzzer with region-based mutation achieves *higher coverage* but generates a *smaller number of valid inputs*. The higher coverage is explained by leveraging at least *some* structure for seeds that cannot be parsed successfully.\n"
   ]
  },
  {
   "cell_type": "markdown",
   "metadata": {
    "slideshow": {
     "slide_type": "subslide"
    }
   },
   "source": [
    "### Focusing on Valid Seeds\n",
    "\n",
    "In the previous section, we have a problem: The low (degree of) validity.  To address this problem, a _validity-based power schedule_ assigns more [energy](GreyboxFuzzer.ipynb#Power-Schedules) to seeds that have a higher degree of validity.  In other words, the fuzzer _spends more time fuzzing seeds that are more valid_."
   ]
  },
  {
   "cell_type": "code",
   "execution_count": 67,
   "metadata": {
    "execution": {
     "iopub.execute_input": "2022-08-01T13:02:19.962405Z",
     "iopub.status.busy": "2022-08-01T13:02:19.962284Z",
     "iopub.status.idle": "2022-08-01T13:02:19.964165Z",
     "shell.execute_reply": "2022-08-01T13:02:19.963917Z"
    },
    "slideshow": {
     "slide_type": "skip"
    }
   },
   "outputs": [],
   "source": [
    "import math"
   ]
  },
  {
   "cell_type": "code",
   "execution_count": 68,
   "metadata": {
    "execution": {
     "iopub.execute_input": "2022-08-01T13:02:19.965635Z",
     "iopub.status.busy": "2022-08-01T13:02:19.965528Z",
     "iopub.status.idle": "2022-08-01T13:02:19.969324Z",
     "shell.execute_reply": "2022-08-01T13:02:19.969025Z"
    },
    "slideshow": {
     "slide_type": "subslide"
    }
   },
   "outputs": [],
   "source": [
    "class AFLSmartSchedule(PowerSchedule):\n",
    "    def __init__(self, parser: EarleyParser, exponent: float = 1.0):\n",
    "        self.parser = parser\n",
    "        self.exponent = exponent\n",
    "\n",
    "    def parsable(self, seed: Seed) -> str:\n",
    "        \"\"\"Returns the substring that is parsable\"\"\"\n",
    "        table = self.parser.chart_parse(seed.data, self.parser.start_symbol())\n",
    "        cols = [col for col in table if col.states]\n",
    "        return seed.data[:len(cols)-1]\n",
    "\n",
    "    def degree_of_validity(self, seed: Seed) -> float:\n",
    "        \"\"\"Returns the proportion of a seed that is parsable\"\"\"\n",
    "        if not hasattr(seed, 'validity'):\n",
    "            seed.validity = (len(self.parsable(seed)) / len(seed.data)  # type: ignore\n",
    "                             if len(seed.data) > 0 else 0)\n",
    "        return seed.validity  # type: ignore\n",
    "\n",
    "    def assignEnergy(self, population: Sequence[Seed]):\n",
    "        \"\"\"Assign exponential energy proportional to degree of validity\"\"\"\n",
    "        for seed in population:\n",
    "            seed.energy = ((self.degree_of_validity(seed) / math.log(len(seed.data))) ** self.exponent\n",
    "                           if len(seed.data) > 1 else 0)"
   ]
  },
  {
   "cell_type": "markdown",
   "metadata": {
    "slideshow": {
     "slide_type": "subslide"
    }
   },
   "source": [
    "Let's play with the degree of validity by passing in a valid seed ..."
   ]
  },
  {
   "cell_type": "code",
   "execution_count": 69,
   "metadata": {
    "execution": {
     "iopub.execute_input": "2022-08-01T13:02:19.971508Z",
     "iopub.status.busy": "2022-08-01T13:02:19.971400Z",
     "iopub.status.idle": "2022-08-01T13:02:19.982715Z",
     "shell.execute_reply": "2022-08-01T13:02:19.982256Z"
    },
    "slideshow": {
     "slide_type": "fragment"
    }
   },
   "outputs": [
    {
     "name": "stdout",
     "output_type": "stream",
     "text": [
      "Entire seed: <b>Text</b>\n",
      "   Parsable: <b>Text</b>\n"
     ]
    },
    {
     "data": {
      "text/plain": [
       "'Degree of validity: 100.00%'"
      ]
     },
     "execution_count": 69,
     "metadata": {},
     "output_type": "execute_result"
    }
   ],
   "source": [
    "smart_schedule = AFLSmartSchedule(parser)\n",
    "print(\"%11s: %s\" % (\"Entire seed\", simple_seed))\n",
    "print(\"%11s: %s\" % (\"Parsable\", smart_schedule.parsable(simple_seed)))\n",
    "\n",
    "\"Degree of validity: %0.2f%%\" % (100 * smart_schedule.degree_of_validity(simple_seed))"
   ]
  },
  {
   "cell_type": "markdown",
   "metadata": {
    "slideshow": {
     "slide_type": "fragment"
    }
   },
   "source": [
    "... and an invalid seed."
   ]
  },
  {
   "cell_type": "code",
   "execution_count": 70,
   "metadata": {
    "execution": {
     "iopub.execute_input": "2022-08-01T13:02:19.984693Z",
     "iopub.status.busy": "2022-08-01T13:02:19.984556Z",
     "iopub.status.idle": "2022-08-01T13:02:20.003518Z",
     "shell.execute_reply": "2022-08-01T13:02:20.003198Z"
    },
    "slideshow": {
     "slide_type": "subslide"
    }
   },
   "outputs": [
    {
     "name": "stdout",
     "output_type": "stream",
     "text": [
      "Entire seed: <html><body><i>World</i><br/>>/body></html>\n",
      "   Parsable: <html><body><i>World</i><br/>\n"
     ]
    },
    {
     "data": {
      "text/plain": [
       "'Degree of validity: 67.44%'"
      ]
     },
     "execution_count": 70,
     "metadata": {},
     "output_type": "execute_result"
    }
   ],
   "source": [
    "print(\"%11s: %s\" % (\"Entire seed\", invalid_seed))\n",
    "print(\"%11s: %s\" % (\"Parsable\", smart_schedule.parsable(invalid_seed)))\n",
    "\n",
    "\"Degree of validity: %0.2f%%\" % (100 * smart_schedule.degree_of_validity(invalid_seed))"
   ]
  },
  {
   "cell_type": "markdown",
   "metadata": {
    "slideshow": {
     "slide_type": "fragment"
    }
   },
   "source": [
    "Excellent. We can compute the degree of validity as the proportion of the string that can be parsed. \n",
    "\n",
    "Let's plug the validity-based power schedule into the structure-aware greybox fuzzer."
   ]
  },
  {
   "cell_type": "code",
   "execution_count": 71,
   "metadata": {
    "execution": {
     "iopub.execute_input": "2022-08-01T13:02:20.005479Z",
     "iopub.status.busy": "2022-08-01T13:02:20.005326Z",
     "iopub.status.idle": "2022-08-01T13:02:47.242955Z",
     "shell.execute_reply": "2022-08-01T13:02:47.242547Z"
    },
    "slideshow": {
     "slide_type": "subslide"
    }
   },
   "outputs": [
    {
     "data": {
      "text/plain": [
       "'It took AFLSmart 27.23 seconds to generate and execute 300 inputs.'"
      ]
     },
     "execution_count": 71,
     "metadata": {},
     "output_type": "execute_result"
    }
   ],
   "source": [
    "runner = FunctionCoverageRunner(my_parser)\n",
    "byte_mutator = Mutator()\n",
    "tree_mutator = RegionMutator(EarleyParser(XML_GRAMMAR, tokens=XML_TOKENS))\n",
    "schedule = AFLSmartSchedule(parser)\n",
    "\n",
    "aflsmart_fuzzer = GreyboxGrammarFuzzer([valid_seed.data], byte_mutator, \n",
    "                                       tree_mutator, schedule)\n",
    "\n",
    "start = time.time()\n",
    "aflsmart_fuzzer.runs(runner, trials=n)\n",
    "end = time.time()\n",
    "\n",
    "\"It took AFLSmart %0.2f seconds to generate and execute %d inputs.\" % (end - start, n)"
   ]
  },
  {
   "cell_type": "code",
   "execution_count": 72,
   "metadata": {
    "execution": {
     "iopub.execute_input": "2022-08-01T13:02:47.244861Z",
     "iopub.status.busy": "2022-08-01T13:02:47.244725Z",
     "iopub.status.idle": "2022-08-01T13:02:49.965494Z",
     "shell.execute_reply": "2022-08-01T13:02:49.965209Z"
    },
    "slideshow": {
     "slide_type": "subslide"
    }
   },
   "outputs": [
    {
     "name": "stdout",
     "output_type": "stream",
     "text": [
      "From the 300 generated inputs, 8 (2.67%) can be parsed.\n",
      "In total, 156 statements are covered.\n",
      "On average, 18.5% of a seed in the population can be successfully parsed.\n"
     ]
    }
   ],
   "source": [
    "print_more_stats(aflsmart_fuzzer, parser)"
   ]
  },
  {
   "cell_type": "markdown",
   "metadata": {
    "slideshow": {
     "slide_type": "subslide"
    }
   },
   "source": [
    "***Summary***. Indeed, by spending more time fuzzing seeds with a higher degree of validity, we also generate inputs with a higher degree of validity. More inputs are entirely valid w.r.t. the given grammar.\n",
    "\n",
    "***Read up***. Learn more about region-based fuzzing, deferred parsing, and validity-based schedules in the original AFLSmart paper: \"[Smart Greybox Fuzzing](https://arxiv.org/abs/1811.09447)\" by Pham et al.. Download and improve AFLSmart: [https://github.com/aflsmart/aflsmart](https://github.com/aflsmart/aflsmart)."
   ]
  },
  {
   "cell_type": "markdown",
   "metadata": {
    "slideshow": {
     "slide_type": "slide"
    }
   },
   "source": [
    "## Mining Seeds\n",
    "\n",
    "By now, it should have become clear that the _choice of seeds_ can very much influence the success of fuzzing.  One aspect is _variability_ – our seeds should cover as many different features as possible in order to increase coverage.  Another aspect, however, is the _likelihood of a seed to induce errors_ – that is, if a seed was involved in causing a failure before, then a mutation of this very seed may be likely to induce failures again.  This is because fixes for past failures typically are successful in letting the concrete failure no longer occur, but sometimes may fail to capture all conditions under which a failure may occur.  Hence, even if the original failure is fixed, the likelihood of an error in the _surroundings_ of the original failure-inducing input is still higher.  It thus pays off to use as seeds _inputs that are known to have caused failures before_.\n",
    "\n",
    "To put things in context, Holler's _LangFuzz_ fuzzer used as seeds JavaScript inputs from CVE reports.  These were published as failure-inducing inputs at a time when the error already had been fixed; thus they could do no harm anymore.  Yet, by using such inputs as seeds, LangFuzz would create plenty of mutations and recombinations of all their features, many of which would (and do) find errors again and again."
   ]
  },
  {
   "cell_type": "markdown",
   "metadata": {
    "button": false,
    "new_sheet": true,
    "run_control": {
     "read_only": false
    },
    "slideshow": {
     "slide_type": "slide"
    }
   },
   "source": [
    "## Lessons Learned\n",
    "\n",
    "* A **dictionary** is useful to inject important keywords into the generated inputs.\n",
    "\n",
    "* **Fragment-based mutation** first disassembles seeds into fragments, and reassembles these fragments to generate new inputs. A *fragment* is a subtree in the seed's parse tree. However, fragment-based mutation requires that the seeds can be parsed successfully, which may not be true for seeds discovered by a coverage-based greybox fuzzer.\n",
    "\n",
    "* **Region-based mutation** marks regions in the input as belonging to a certain symbol in the grammar. For instance, it may identify a substring '</a>' as closing tag. These regions can then be deleted or substituted by fragments or regions belonging to the same symbol. Unlike fragment-based mutation, region-based mutation is applicable to *all* seeds - even those that can be parsed only partially. However, the degree of validity is still quite low for the generated inputs.\n",
    "\n",
    "* A **validity-based power schedule** invests more energy into seeds with a higher degree of validity. The inputs that are generated also have a higher degree of validity.\n",
    "\n",
    "* **Mining seeds** from repositories of previous failure-inducing inputs results in input fragments associated with past failures, raising the likelihood to find more failures in the vicinity."
   ]
  },
  {
   "cell_type": "markdown",
   "metadata": {
    "slideshow": {
     "slide_type": "slide"
    },
    "tags": []
   },
   "source": [
    "## Background\n",
    "\n",
    "This chapter builds on the following two works:\n",
    "\n",
    "* The _LangFuzz_ fuzzer \\cite{Holler2012} is an efficient (and effective!) grammar-based fuzzer for (mostly) JavaScript.  It uses the grammar for parsing seeds and recombining their inputs with generated parts and found 2,600 bugs in JavaScript interpreters to date.\n",
    "\n",
    "* Smart greybox fuzzing ([AFLSmart](https://github.com/aflsmart/aflsmart)) brings together coverage-based fuzzing and grammar-based (structural) fuzzing, as described in \\cite{Pham2018aflsmart}.  The resulting AFLSMART tool has discovered 42 zero-day vulnerabilities in widely-used, well-tested tools and libraries; so far 17 CVEs were assigned."
   ]
  },
  {
   "cell_type": "markdown",
   "metadata": {
    "slideshow": {
     "slide_type": "slide"
    },
    "tags": []
   },
   "source": [
    "Recent fuzzing work also brings together grammar-based fuzzing and coverage.\n",
    "\n",
    "* _Superion_ \\cite{Wang2019superion} is equivalent to our section \"Integration with Greybox Fuzzing\", as above – that is, a combination of LangFuzz and Greybox Fuzzing, but no AFL-style byte-level mutation.  Superion can improve the code coverage (i.e., 16.7% and 8.8% in line and function coverage) and bug-finding capability over AFL and jsfunfuzz.  According to the authors, they found 30 new bugs, among which they discovered 21 new vulnerabilities with 16 CVEs assigned and 3.2K USD bug bounty rewards received.\n",
    "\n",
    "* _Nautilus_ \\cite{Aschermann2019nautilus} also combines grammar-based fuzzing with coverage feedback.  It maintains the parse tree for all seeds and generated inputs. To allow AFL-style byte-level mutations, it \"collapses\" subtrees back to byte-level representations.  This has the advantage of not having to re-parse generated seeds; however, over time, Nautilus de-generates to structure-unaware greybox fuzzing because it does not re-parse collapsed subtrees to reconstitute input structure for later seeds where most of the parse tree is collapsed.  Nautilus identified bugs in mruby, PHP, ChakraCore, and in Lua; reporting these bugs was awarded with a sum of 2600 USD and 6 CVEs were assigned.\n",
    "\n",
    "* [FormatFuzzer](https://uds-se.github.io/FormatFuzzer/) is a framework for high-efficiency, high-quality generation and parsing of binary inputs. It takes a binary template that describes the format of a binary input and generates an executable that produces and parses the given binary format. From a binary template for GIF, for instance, FormatFuzzer produces a GIF generator - also known as GIF fuzzer. Generators produced by FormatFuzzer are highly efficient, producing thousands of valid test inputs per second. FormatFuzzer operates in black-box settings, but can also integrate with AFL to produce valid inputs that also aim for maximum coverage."
   ]
  },
  {
   "cell_type": "markdown",
   "metadata": {
    "slideshow": {
     "slide_type": "slide"
    },
    "tags": []
   },
   "source": [
    "## Synopsis\n",
    "\n",
    "This chapter introduces advanced methods for language-based grey-box fuzzing inspired by the _LangFuzz_ and _AFLSmart_ fuzzers."
   ]
  },
  {
   "cell_type": "markdown",
   "metadata": {
    "slideshow": {
     "slide_type": "subslide"
    }
   },
   "source": [
    "### Fuzzing with Dictionaries\n",
    "\n",
    "Rather than mutating strings randomly, the `DictMutator` class allows to insert tokens from a dictionary, thus increasing fuzzer performance. The dictionary comes as a list of strings, out of which random elements are picked and inserted - in addition to the given mutations such as deleting or inserting individual bytes."
   ]
  },
  {
   "cell_type": "code",
   "execution_count": 73,
   "metadata": {
    "execution": {
     "iopub.execute_input": "2022-08-01T13:02:49.967678Z",
     "iopub.status.busy": "2022-08-01T13:02:49.967532Z",
     "iopub.status.idle": "2022-08-01T13:02:49.969496Z",
     "shell.execute_reply": "2022-08-01T13:02:49.969217Z"
    },
    "slideshow": {
     "slide_type": "fragment"
    }
   },
   "outputs": [],
   "source": [
    "dict_mutator = DictMutator([\"<a>\", \"</a>\", \"<a/>\", \"='a'\"])"
   ]
  },
  {
   "cell_type": "code",
   "execution_count": 74,
   "metadata": {
    "execution": {
     "iopub.execute_input": "2022-08-01T13:02:49.971012Z",
     "iopub.status.busy": "2022-08-01T13:02:49.970906Z",
     "iopub.status.idle": "2022-08-01T13:02:49.972795Z",
     "shell.execute_reply": "2022-08-01T13:02:49.972561Z"
    },
    "slideshow": {
     "slide_type": "subslide"
    }
   },
   "outputs": [
    {
     "name": "stdout",
     "output_type": "stream",
     "text": [
      "<html><head><title>Hello</title></head><body>World<brJ/></body></html>\n",
      "<tml><head><title>Hello</title></head><body>World<br/></body></html>\n",
      "<html><head><title>Hello</title></head>c<body>World<br/></body></html>\n",
      "<html><head><tit|e>Hello</title></head><body>World<br/></body></html>\n",
      "<html><head><tite>Hello</title></head><body>World<br/></body></html>\n",
      "<html><head><title>Hello</ti</a>tle></head><body>World<br/></body></html>\n",
      "<html><head><title>Hello</title></head><body>orld<br/></body></html>\n",
      "<html><head><title>Hello</title></Mhead><body>World<br/></body></html>\n",
      "<html><head><title>Hello</title></hea$><body>World<br/></body></html>\n",
      "<html><head><title>Hello</title></head><body>World<br/></body></h</a>tml>\n"
     ]
    }
   ],
   "source": [
    "seeds = [\"<html><head><title>Hello</title></head><body>World<br/></body></html>\"]\n",
    "for i in range(10):\n",
    "    print(dict_mutator.mutate(seeds[0]))"
   ]
  },
  {
   "cell_type": "markdown",
   "metadata": {
    "slideshow": {
     "slide_type": "fragment"
    }
   },
   "source": [
    "This `DictMutator` can be used as an argument to `GreyboxFuzzer`:"
   ]
  },
  {
   "cell_type": "code",
   "execution_count": 75,
   "metadata": {
    "execution": {
     "iopub.execute_input": "2022-08-01T13:02:49.974206Z",
     "iopub.status.busy": "2022-08-01T13:02:49.974108Z",
     "iopub.status.idle": "2022-08-01T13:02:49.987802Z",
     "shell.execute_reply": "2022-08-01T13:02:49.987511Z"
    },
    "slideshow": {
     "slide_type": "subslide"
    }
   },
   "outputs": [],
   "source": [
    "runner = FunctionCoverageRunner(my_parser)\n",
    "dict_fuzzer = GreyboxFuzzer(seeds, dict_mutator, PowerSchedule())"
   ]
  },
  {
   "cell_type": "code",
   "execution_count": 76,
   "metadata": {
    "execution": {
     "iopub.execute_input": "2022-08-01T13:02:49.989246Z",
     "iopub.status.busy": "2022-08-01T13:02:49.989154Z",
     "iopub.status.idle": "2022-08-01T13:02:49.992913Z",
     "shell.execute_reply": "2022-08-01T13:02:49.992689Z"
    },
    "slideshow": {
     "slide_type": "fragment"
    }
   },
   "outputs": [],
   "source": [
    "dict_fuzzer_outcome = dict_fuzzer.runs(runner, trials=5)"
   ]
  },
  {
   "cell_type": "code",
   "execution_count": 77,
   "metadata": {
    "execution": {
     "iopub.execute_input": "2022-08-01T13:02:49.994323Z",
     "iopub.status.busy": "2022-08-01T13:02:49.994233Z",
     "iopub.status.idle": "2022-08-01T13:02:49.996019Z",
     "shell.execute_reply": "2022-08-01T13:02:49.995805Z"
    },
    "slideshow": {
     "slide_type": "fragment"
    }
   },
   "outputs": [],
   "source": [
    "# ignore\n",
    "from ClassDiagram import display_class_hierarchy\n",
    "from Coverage import Location  # minor dependency"
   ]
  },
  {
   "cell_type": "code",
   "execution_count": 78,
   "metadata": {
    "execution": {
     "iopub.execute_input": "2022-08-01T13:02:49.997373Z",
     "iopub.status.busy": "2022-08-01T13:02:49.997273Z",
     "iopub.status.idle": "2022-08-01T13:02:50.397316Z",
     "shell.execute_reply": "2022-08-01T13:02:50.396807Z"
    },
    "slideshow": {
     "slide_type": "subslide"
    }
   },
   "outputs": [
    {
     "data": {
      "image/svg+xml": [
       "<?xml version=\"1.0\" encoding=\"UTF-8\" standalone=\"no\"?>\n",
       "<!DOCTYPE svg PUBLIC \"-//W3C//DTD SVG 1.1//EN\"\n",
       " \"http://www.w3.org/Graphics/SVG/1.1/DTD/svg11.dtd\">\n",
       "<!-- Generated by graphviz version 3.0.0 (20220226.1711)\n",
       " -->\n",
       "<!-- Pages: 1 -->\n",
       "<svg width=\"308pt\" height=\"141pt\"\n",
       " viewBox=\"0.00 0.00 307.50 141.00\" xmlns=\"http://www.w3.org/2000/svg\" xmlns:xlink=\"http://www.w3.org/1999/xlink\">\n",
       "<g id=\"graph0\" class=\"graph\" transform=\"scale(1 1) rotate(0) translate(4 137)\">\n",
       "<g id=\"a_graph0\"><a xlink:title=\"DictMutator class hierarchy\">\n",
       "<polygon fill=\"white\" stroke=\"transparent\" points=\"-4,4 -4,-137 303.5,-137 303.5,4 -4,4\"/>\n",
       "</a>\n",
       "</g>\n",
       "<!-- DictMutator -->\n",
       "<g id=\"node1\" class=\"node\">\n",
       "<title>DictMutator</title>\n",
       "<g id=\"a_node1\"><a xlink:href=\"#\" xlink:title=\"class DictMutator:&#10;Mutate strings using keywords from a dictionary\">\n",
       "<polygon fill=\"none\" stroke=\"black\" points=\"0,-0.5 0,-53.5 161,-53.5 161,-0.5 0,-0.5\"/>\n",
       "<text text-anchor=\"start\" x=\"42.5\" y=\"-39.3\" font-family=\"Patua One, Helvetica, sans-serif\" font-weight=\"bold\" font-size=\"14.00\" fill=\"#b03a2e\">DictMutator</text>\n",
       "<polyline fill=\"none\" stroke=\"black\" points=\"0,-30.5 161,-30.5 \"/>\n",
       "<g id=\"a_node1_0\"><a xlink:href=\"#\" xlink:title=\"DictMutator\">\n",
       "<g id=\"a_node1_1\"><a xlink:href=\"#\" xlink:title=\"__init__(self, dictionary: List[str]) &#45;&gt; None:&#10;Constructor. `dictionary` is the list of keywords to use.\">\n",
       "<text text-anchor=\"start\" x=\"8.5\" y=\"-19.5\" font-family=\"'Fira Mono', 'Source Code Pro', 'Courier', monospace\" font-weight=\"bold\" font-style=\"italic\" font-size=\"10.00\">__init__()</text>\n",
       "</a>\n",
       "</g>\n",
       "<g id=\"a_node1_2\"><a xlink:href=\"#\" xlink:title=\"insert_from_dictionary(self, s: str) &#45;&gt; str:&#10;Returns s with a keyword from the dictionary inserted\">\n",
       "<text text-anchor=\"start\" x=\"8.5\" y=\"-7.5\" font-family=\"'Fira Mono', 'Source Code Pro', 'Courier', monospace\" font-size=\"10.00\">insert_from_dictionary()</text>\n",
       "</a>\n",
       "</g>\n",
       "</a>\n",
       "</g>\n",
       "</a>\n",
       "</g>\n",
       "</g>\n",
       "<!-- Mutator -->\n",
       "<g id=\"node2\" class=\"node\">\n",
       "<title>Mutator</title>\n",
       "<g id=\"a_node2\"><a xlink:href=\"GreyboxFuzzer.ipynb\" xlink:title=\"class Mutator:&#10;Mutate strings\">\n",
       "<polygon fill=\"none\" stroke=\"black\" points=\"42,-90.5 42,-132.5 119,-132.5 119,-90.5 42,-90.5\"/>\n",
       "<text text-anchor=\"start\" x=\"54.5\" y=\"-118.3\" font-family=\"Patua One, Helvetica, sans-serif\" font-weight=\"bold\" font-size=\"14.00\" fill=\"#b03a2e\">Mutator</text>\n",
       "<polyline fill=\"none\" stroke=\"black\" points=\"42,-109.5 119,-109.5 \"/>\n",
       "<g id=\"a_node2_3\"><a xlink:href=\"#\" xlink:title=\"Mutator\">\n",
       "<g id=\"a_node2_4\"><a xlink:href=\"GreyboxFuzzer.ipynb\" xlink:title=\"__init__(self) &#45;&gt; None:&#10;Constructor\">\n",
       "<text text-anchor=\"start\" x=\"50.5\" y=\"-98\" font-family=\"'Fira Mono', 'Source Code Pro', 'Courier', monospace\" font-weight=\"bold\" font-style=\"italic\" font-size=\"10.00\">__init__()</text>\n",
       "</a>\n",
       "</g>\n",
       "</a>\n",
       "</g>\n",
       "</a>\n",
       "</g>\n",
       "</g>\n",
       "<!-- DictMutator&#45;&gt;Mutator -->\n",
       "<g id=\"edge1\" class=\"edge\">\n",
       "<title>DictMutator&#45;&gt;Mutator</title>\n",
       "<path fill=\"none\" stroke=\"black\" d=\"M80.5,-53.65C80.5,-62.06 80.5,-71.48 80.5,-80.2\"/>\n",
       "<polygon fill=\"none\" stroke=\"black\" points=\"77,-80.37 80.5,-90.37 84,-80.37 77,-80.37\"/>\n",
       "</g>\n",
       "<!-- Legend -->\n",
       "<g id=\"node3\" class=\"node\">\n",
       "<title>Legend</title>\n",
       "<text text-anchor=\"start\" x=\"179.5\" y=\"-44.5\" font-family=\"Patua One, Helvetica, sans-serif\" font-weight=\"bold\" font-size=\"10.00\" fill=\"#b03a2e\">Legend</text>\n",
       "<text text-anchor=\"start\" x=\"179.5\" y=\"-34.5\" font-family=\"Patua One, Helvetica, sans-serif\" font-size=\"10.00\">• </text>\n",
       "<text text-anchor=\"start\" x=\"186.5\" y=\"-34.5\" font-family=\"'Fira Mono', 'Source Code Pro', 'Courier', monospace\" font-weight=\"bold\" font-size=\"8.00\">public_method()</text>\n",
       "<text text-anchor=\"start\" x=\"179.5\" y=\"-24.5\" font-family=\"Patua One, Helvetica, sans-serif\" font-size=\"10.00\">• </text>\n",
       "<text text-anchor=\"start\" x=\"186.5\" y=\"-24.5\" font-family=\"'Fira Mono', 'Source Code Pro', 'Courier', monospace\" font-size=\"8.00\">private_method()</text>\n",
       "<text text-anchor=\"start\" x=\"179.5\" y=\"-14.5\" font-family=\"Patua One, Helvetica, sans-serif\" font-size=\"10.00\">• </text>\n",
       "<text text-anchor=\"start\" x=\"186.5\" y=\"-14.5\" font-family=\"'Fira Mono', 'Source Code Pro', 'Courier', monospace\" font-style=\"italic\" font-size=\"8.00\">overloaded_method()</text>\n",
       "<text text-anchor=\"start\" x=\"179.5\" y=\"-5.3\" font-family=\"Helvetica,sans-Serif\" font-size=\"9.00\">Hover over names to see doc</text>\n",
       "</g>\n",
       "</g>\n",
       "</svg>\n"
      ],
      "text/plain": [
       "<graphviz.graphs.Digraph at 0x155607760>"
      ]
     },
     "execution_count": 78,
     "metadata": {},
     "output_type": "execute_result"
    }
   ],
   "source": [
    "# ignore\n",
    "display_class_hierarchy([DictMutator],\n",
    "                        public_methods=[\n",
    "                            Mutator.__init__,\n",
    "                            DictMutator.__init__,\n",
    "                        ],\n",
    "                        types={'DerivationTree': DerivationTree,\n",
    "                               'Location': Location},\n",
    "                        project='fuzzingbook')"
   ]
  },
  {
   "cell_type": "markdown",
   "metadata": {
    "slideshow": {
     "slide_type": "subslide"
    }
   },
   "source": [
    "### Fuzzing with Input Fragments\n",
    "\n",
    "The `LangFuzzer` class introduces a _language-aware_ fuzzer that can recombine fragments from existing inputs – inspired by the highly effective `LangFuzz` fuzzer. At its core is a `FragmentMutator` class that that takes a [_parser_](Parser.ipynb) as argument:"
   ]
  },
  {
   "cell_type": "code",
   "execution_count": 79,
   "metadata": {
    "execution": {
     "iopub.execute_input": "2022-08-01T13:02:50.399644Z",
     "iopub.status.busy": "2022-08-01T13:02:50.399474Z",
     "iopub.status.idle": "2022-08-01T13:02:50.402439Z",
     "shell.execute_reply": "2022-08-01T13:02:50.402139Z"
    },
    "slideshow": {
     "slide_type": "fragment"
    }
   },
   "outputs": [],
   "source": [
    "parser = EarleyParser(XML_GRAMMAR, tokens=XML_TOKENS)\n",
    "mutator = FragmentMutator(parser)"
   ]
  },
  {
   "cell_type": "markdown",
   "metadata": {
    "slideshow": {
     "slide_type": "fragment"
    }
   },
   "source": [
    "The fuzzer itself is initialized with a list of seeds, the above `FragmentMutator`, and a power schedule:"
   ]
  },
  {
   "cell_type": "code",
   "execution_count": 80,
   "metadata": {
    "execution": {
     "iopub.execute_input": "2022-08-01T13:02:50.404202Z",
     "iopub.status.busy": "2022-08-01T13:02:50.404072Z",
     "iopub.status.idle": "2022-08-01T13:02:50.407513Z",
     "shell.execute_reply": "2022-08-01T13:02:50.407064Z"
    },
    "slideshow": {
     "slide_type": "fragment"
    }
   },
   "outputs": [],
   "source": [
    "seeds = [\"<html><head><title>Hello</title></head><body>World<br/></body></html>\"]\n",
    "schedule = PowerSchedule()\n",
    "lang_fuzzer = LangFuzzer(seeds, mutator, schedule)"
   ]
  },
  {
   "cell_type": "code",
   "execution_count": 81,
   "metadata": {
    "execution": {
     "iopub.execute_input": "2022-08-01T13:02:50.409108Z",
     "iopub.status.busy": "2022-08-01T13:02:50.409019Z",
     "iopub.status.idle": "2022-08-01T13:02:51.348115Z",
     "shell.execute_reply": "2022-08-01T13:02:51.347814Z"
    },
    "slideshow": {
     "slide_type": "subslide"
    }
   },
   "outputs": [
    {
     "name": "stdout",
     "output_type": "stream",
     "text": [
      "<html><head><title>Hello</title></head><body>World<br/></body></html>\n",
      "<html><head></head><body>World<br/></body></html>\n",
      "<html><head><title>Hello</title></head><body>World<head><title>Hello</title></head><body>World<br/></body></body></html>\n",
      "<html><html><head><br/></head><body>World<br/></body></html><body>World<br/></body>\n",
      "<head>World<br/></head><body>World<br/></body></html>\n",
      "<html><head><title>Hello</head><br/></html>\n",
      "<html><head><title></title></head><body>World<br/></head></html>\n",
      "<html><head><title>Hello</title></head><body>World</body></html>\n",
      "<head><title>Hello</title></head><body>World<br/></body></html>\n",
      "<html><head>Hello</title></head><body>World<br/></body></html>\n"
     ]
    }
   ],
   "source": [
    "for i in range(10):\n",
    "    print(lang_fuzzer.fuzz())"
   ]
  },
  {
   "cell_type": "code",
   "execution_count": 82,
   "metadata": {
    "execution": {
     "iopub.execute_input": "2022-08-01T13:02:51.349751Z",
     "iopub.status.busy": "2022-08-01T13:02:51.349635Z",
     "iopub.status.idle": "2022-08-01T13:02:51.703442Z",
     "shell.execute_reply": "2022-08-01T13:02:51.702909Z"
    },
    "slideshow": {
     "slide_type": "subslide"
    }
   },
   "outputs": [
    {
     "data": {
      "image/svg+xml": [
       "<?xml version=\"1.0\" encoding=\"UTF-8\" standalone=\"no\"?>\n",
       "<!DOCTYPE svg PUBLIC \"-//W3C//DTD SVG 1.1//EN\"\n",
       " \"http://www.w3.org/Graphics/SVG/1.1/DTD/svg11.dtd\">\n",
       "<!-- Generated by graphviz version 3.0.0 (20220226.1711)\n",
       " -->\n",
       "<!-- Pages: 1 -->\n",
       "<svg width=\"465pt\" height=\"352pt\"\n",
       " viewBox=\"0.00 0.00 464.50 352.00\" xmlns=\"http://www.w3.org/2000/svg\" xmlns:xlink=\"http://www.w3.org/1999/xlink\">\n",
       "<g id=\"graph0\" class=\"graph\" transform=\"scale(1 1) rotate(0) translate(4 348)\">\n",
       "<g id=\"a_graph0\"><a xlink:title=\"LangFuzzer class hierarchy\">\n",
       "<polygon fill=\"white\" stroke=\"transparent\" points=\"-4,4 -4,-348 460.5,-348 460.5,4 -4,4\"/>\n",
       "</a>\n",
       "</g>\n",
       "<!-- LangFuzzer -->\n",
       "<g id=\"node1\" class=\"node\">\n",
       "<title>LangFuzzer</title>\n",
       "<g id=\"a_node1\"><a xlink:href=\"#\" xlink:title=\"class LangFuzzer:&#10;Blackbox fuzzer mutating input fragments. Roughly based on `LangFuzz`.\">\n",
       "<polygon fill=\"none\" stroke=\"black\" points=\"26,-50 26,-92 151,-92 151,-50 26,-50\"/>\n",
       "<text text-anchor=\"start\" x=\"52.5\" y=\"-77.8\" font-family=\"Patua One, Helvetica, sans-serif\" font-weight=\"bold\" font-size=\"14.00\" fill=\"#b03a2e\">LangFuzzer</text>\n",
       "<polyline fill=\"none\" stroke=\"black\" points=\"26,-69 151,-69 \"/>\n",
       "<g id=\"a_node1_0\"><a xlink:href=\"#\" xlink:title=\"LangFuzzer\">\n",
       "<g id=\"a_node1_1\"><a xlink:href=\"#\" xlink:title=\"create_candidate(self) &#45;&gt; GreyboxFuzzer.Seed:&#10;Returns an input generated by fuzzing a seed in the population\">\n",
       "<text text-anchor=\"start\" x=\"34.5\" y=\"-57.5\" font-family=\"'Fira Mono', 'Source Code Pro', 'Courier', monospace\" font-style=\"italic\" font-size=\"10.00\">create_candidate()</text>\n",
       "</a>\n",
       "</g>\n",
       "</a>\n",
       "</g>\n",
       "</a>\n",
       "</g>\n",
       "</g>\n",
       "<!-- AdvancedMutationFuzzer -->\n",
       "<g id=\"node2\" class=\"node\">\n",
       "<title>AdvancedMutationFuzzer</title>\n",
       "<g id=\"a_node2\"><a xlink:href=\"GreyboxFuzzer.ipynb\" xlink:title=\"class AdvancedMutationFuzzer:&#10;Base class for mutation&#45;based fuzzing.\">\n",
       "<polygon fill=\"none\" stroke=\"black\" points=\"0,-178.5 0,-231.5 177,-231.5 177,-178.5 0,-178.5\"/>\n",
       "<text text-anchor=\"start\" x=\"8\" y=\"-217.3\" font-family=\"Patua One, Helvetica, sans-serif\" font-weight=\"bold\" font-size=\"14.00\" fill=\"#b03a2e\">AdvancedMutationFuzzer</text>\n",
       "<polyline fill=\"none\" stroke=\"black\" points=\"0,-208.5 177,-208.5 \"/>\n",
       "<g id=\"a_node2_2\"><a xlink:href=\"#\" xlink:title=\"AdvancedMutationFuzzer\">\n",
       "<g id=\"a_node2_3\"><a xlink:href=\"GreyboxFuzzer.ipynb\" xlink:title=\"__init__(self, seeds: List[str], mutator: GreyboxFuzzer.Mutator, schedule: GreyboxFuzzer.PowerSchedule) &#45;&gt; None:&#10;Constructor.&#10;`seeds` &#45; a list of (input) strings to mutate.&#10;`mutator` &#45; the mutator to apply.&#10;`schedule` &#45; the power schedule to apply.\">\n",
       "<text text-anchor=\"start\" x=\"58.5\" y=\"-197.5\" font-family=\"'Fira Mono', 'Source Code Pro', 'Courier', monospace\" font-weight=\"bold\" font-style=\"italic\" font-size=\"10.00\">__init__()</text>\n",
       "</a>\n",
       "</g>\n",
       "<g id=\"a_node2_4\"><a xlink:href=\"GreyboxFuzzer.ipynb\" xlink:title=\"fuzz(self) &#45;&gt; str:&#10;Returns first each seed once and then generates new inputs\">\n",
       "<text text-anchor=\"start\" x=\"58.5\" y=\"-186.5\" font-family=\"'Fira Mono', 'Source Code Pro', 'Courier', monospace\" font-weight=\"bold\" font-style=\"italic\" font-size=\"10.00\">fuzz()</text>\n",
       "</a>\n",
       "</g>\n",
       "</a>\n",
       "</g>\n",
       "</a>\n",
       "</g>\n",
       "</g>\n",
       "<!-- LangFuzzer&#45;&gt;AdvancedMutationFuzzer -->\n",
       "<g id=\"edge1\" class=\"edge\">\n",
       "<title>LangFuzzer&#45;&gt;AdvancedMutationFuzzer</title>\n",
       "<path fill=\"none\" stroke=\"black\" d=\"M88.5,-92.05C88.5,-112.24 88.5,-143.83 88.5,-168.31\"/>\n",
       "<polygon fill=\"none\" stroke=\"black\" points=\"85,-168.31 88.5,-178.31 92,-168.31 85,-168.31\"/>\n",
       "</g>\n",
       "<!-- Fuzzer -->\n",
       "<g id=\"node3\" class=\"node\">\n",
       "<title>Fuzzer</title>\n",
       "<g id=\"a_node3\"><a xlink:href=\"Fuzzer.ipynb\" xlink:title=\"class Fuzzer:&#10;Base class for fuzzers.\">\n",
       "<polygon fill=\"none\" stroke=\"black\" points=\"50,-268.5 50,-343.5 127,-343.5 127,-268.5 50,-268.5\"/>\n",
       "<text text-anchor=\"start\" x=\"67.5\" y=\"-329.3\" font-family=\"Patua One, Helvetica, sans-serif\" font-weight=\"bold\" font-size=\"14.00\" fill=\"#b03a2e\">Fuzzer</text>\n",
       "<polyline fill=\"none\" stroke=\"black\" points=\"50,-320.5 127,-320.5 \"/>\n",
       "<g id=\"a_node3_5\"><a xlink:href=\"#\" xlink:title=\"Fuzzer\">\n",
       "<g id=\"a_node3_6\"><a xlink:href=\"Fuzzer.ipynb\" xlink:title=\"__init__(self) &#45;&gt; None:&#10;Constructor\">\n",
       "<text text-anchor=\"start\" x=\"58.5\" y=\"-309.5\" font-family=\"'Fira Mono', 'Source Code Pro', 'Courier', monospace\" font-weight=\"bold\" font-style=\"italic\" font-size=\"10.00\">__init__()</text>\n",
       "</a>\n",
       "</g>\n",
       "<g id=\"a_node3_7\"><a xlink:href=\"Fuzzer.ipynb\" xlink:title=\"fuzz(self) &#45;&gt; str:&#10;Return fuzz input\">\n",
       "<text text-anchor=\"start\" x=\"58.5\" y=\"-298.5\" font-family=\"'Fira Mono', 'Source Code Pro', 'Courier', monospace\" font-weight=\"bold\" font-style=\"italic\" font-size=\"10.00\">fuzz()</text>\n",
       "</a>\n",
       "</g>\n",
       "<g id=\"a_node3_8\"><a xlink:href=\"Fuzzer.ipynb\" xlink:title=\"run(self, runner: Fuzzer.Runner = &lt;Fuzzer.Runner object at 0x106ac0e80&gt;) &#45;&gt; Tuple[subprocess.CompletedProcess, str]:&#10;Run `runner` with fuzz input\">\n",
       "<text text-anchor=\"start\" x=\"58.5\" y=\"-287.5\" font-family=\"'Fira Mono', 'Source Code Pro', 'Courier', monospace\" font-weight=\"bold\" font-size=\"10.00\">run()</text>\n",
       "</a>\n",
       "</g>\n",
       "<g id=\"a_node3_9\"><a xlink:href=\"Fuzzer.ipynb\" xlink:title=\"runs(self, runner: Fuzzer.Runner = &lt;Fuzzer.PrintRunner object at 0x106ac0fa0&gt;, trials: int = 10) &#45;&gt; List[Tuple[subprocess.CompletedProcess, str]]:&#10;Run `runner` with fuzz input, `trials` times\">\n",
       "<text text-anchor=\"start\" x=\"58.5\" y=\"-276.5\" font-family=\"'Fira Mono', 'Source Code Pro', 'Courier', monospace\" font-weight=\"bold\" font-size=\"10.00\">runs()</text>\n",
       "</a>\n",
       "</g>\n",
       "</a>\n",
       "</g>\n",
       "</a>\n",
       "</g>\n",
       "</g>\n",
       "<!-- AdvancedMutationFuzzer&#45;&gt;Fuzzer -->\n",
       "<g id=\"edge2\" class=\"edge\">\n",
       "<title>AdvancedMutationFuzzer&#45;&gt;Fuzzer</title>\n",
       "<path fill=\"none\" stroke=\"black\" d=\"M88.5,-231.75C88.5,-239.83 88.5,-249.01 88.5,-258.07\"/>\n",
       "<polygon fill=\"none\" stroke=\"black\" points=\"85,-258.19 88.5,-268.19 92,-258.19 85,-258.19\"/>\n",
       "</g>\n",
       "<!-- FragmentMutator -->\n",
       "<g id=\"node4\" class=\"node\">\n",
       "<title>FragmentMutator</title>\n",
       "<g id=\"a_node4\"><a xlink:href=\"#\" xlink:title=\"class FragmentMutator:&#10;Mutate inputs with input fragments from a pool\">\n",
       "<polygon fill=\"none\" stroke=\"black\" points=\"169,-0.5 169,-141.5 318,-141.5 318,-0.5 169,-0.5\"/>\n",
       "<text text-anchor=\"start\" x=\"187.5\" y=\"-127.3\" font-family=\"Patua One, Helvetica, sans-serif\" font-weight=\"bold\" font-size=\"14.00\" fill=\"#b03a2e\">FragmentMutator</text>\n",
       "<polyline fill=\"none\" stroke=\"black\" points=\"169,-118.5 318,-118.5 \"/>\n",
       "<g id=\"a_node4_10\"><a xlink:href=\"#\" xlink:title=\"FragmentMutator\">\n",
       "<g id=\"a_node4_11\"><a xlink:href=\"#\" xlink:title=\"__init__(self, parser):&#10;Initialize mutators\">\n",
       "<text text-anchor=\"start\" x=\"177.5\" y=\"-107.5\" font-family=\"'Fira Mono', 'Source Code Pro', 'Courier', monospace\" font-weight=\"bold\" font-style=\"italic\" font-size=\"10.00\">__init__()</text>\n",
       "</a>\n",
       "</g>\n",
       "<g id=\"a_node4_12\"><a xlink:href=\"#\" xlink:title=\"add_to_fragment_pool(self, seed: SeedWithStructure) &#45;&gt; None:&#10;Adds all fragments of a seed to the fragment pool\">\n",
       "<text text-anchor=\"start\" x=\"177.5\" y=\"-96.5\" font-family=\"'Fira Mono', 'Source Code Pro', 'Courier', monospace\" font-weight=\"bold\" font-size=\"10.00\">add_to_fragment_pool()</text>\n",
       "</a>\n",
       "</g>\n",
       "<g id=\"a_node4_13\"><a xlink:href=\"#\" xlink:title=\"add_fragment(self, fragment: DerivationTree) &#45;&gt; None:&#10;Recursively adds fragments to the fragment pool\">\n",
       "<text text-anchor=\"start\" x=\"177.5\" y=\"-84.5\" font-family=\"'Fira Mono', 'Source Code Pro', 'Courier', monospace\" font-size=\"10.00\">add_fragment()</text>\n",
       "</a>\n",
       "</g>\n",
       "<g id=\"a_node4_14\"><a xlink:href=\"#\" xlink:title=\"count_nodes(self, fragment: DerivationTree) &#45;&gt; int:&#10;Returns the number of nodes in the fragment\">\n",
       "<text text-anchor=\"start\" x=\"177.5\" y=\"-73.5\" font-family=\"'Fira Mono', 'Source Code Pro', 'Courier', monospace\" font-size=\"10.00\">count_nodes()</text>\n",
       "</a>\n",
       "</g>\n",
       "<g id=\"a_node4_15\"><a xlink:href=\"#\" xlink:title=\"delete_fragment(self, seed: SeedWithStructure) &#45;&gt; SeedWithStructure:&#10;Delete a random fragment\">\n",
       "<text text-anchor=\"start\" x=\"177.5\" y=\"-62.5\" font-family=\"'Fira Mono', 'Source Code Pro', 'Courier', monospace\" font-size=\"10.00\">delete_fragment()</text>\n",
       "</a>\n",
       "</g>\n",
       "<g id=\"a_node4_16\"><a xlink:href=\"#\" xlink:title=\"is_excluded(self, symbol: str) &#45;&gt; bool:&#10;Returns true if a fragment starting with a specific&#10;symbol and all its decendents can be excluded\">\n",
       "<text text-anchor=\"start\" x=\"177.5\" y=\"-51.5\" font-family=\"'Fira Mono', 'Source Code Pro', 'Courier', monospace\" font-size=\"10.00\">is_excluded()</text>\n",
       "</a>\n",
       "</g>\n",
       "<g id=\"a_node4_17\"><a xlink:href=\"#\" xlink:title=\"mutate(self, seed: SeedWithStructure) &#45;&gt; SeedWithStructure:&#10;Implement structure&#45;aware mutation. Memoize seeds.\">\n",
       "<text text-anchor=\"start\" x=\"177.5\" y=\"-41.5\" font-family=\"'Fira Mono', 'Source Code Pro', 'Courier', monospace\" font-style=\"italic\" font-size=\"10.00\">mutate()</text>\n",
       "</a>\n",
       "</g>\n",
       "<g id=\"a_node4_18\"><a xlink:href=\"#\" xlink:title=\"recursive_delete(self, fragment: DerivationTree) &#45;&gt; DerivationTree:&#10;Recursively finds the fragment to delete\">\n",
       "<text text-anchor=\"start\" x=\"177.5\" y=\"-29.5\" font-family=\"'Fira Mono', 'Source Code Pro', 'Courier', monospace\" font-size=\"10.00\">recursive_delete()</text>\n",
       "</a>\n",
       "</g>\n",
       "<g id=\"a_node4_19\"><a xlink:href=\"#\" xlink:title=\"recursive_swap(self, fragment: DerivationTree) &#45;&gt; DerivationTree:&#10;Recursively finds the fragment to swap.\">\n",
       "<text text-anchor=\"start\" x=\"177.5\" y=\"-18.5\" font-family=\"'Fira Mono', 'Source Code Pro', 'Courier', monospace\" font-size=\"10.00\">recursive_swap()</text>\n",
       "</a>\n",
       "</g>\n",
       "<g id=\"a_node4_20\"><a xlink:href=\"#\" xlink:title=\"swap_fragment(self, seed: SeedWithStructure) &#45;&gt; SeedWithStructure:&#10;Substitutes a random fragment with another with the same symbol\">\n",
       "<text text-anchor=\"start\" x=\"177.5\" y=\"-7.5\" font-family=\"'Fira Mono', 'Source Code Pro', 'Courier', monospace\" font-size=\"10.00\">swap_fragment()</text>\n",
       "</a>\n",
       "</g>\n",
       "</a>\n",
       "</g>\n",
       "</a>\n",
       "</g>\n",
       "</g>\n",
       "<!-- Mutator -->\n",
       "<g id=\"node5\" class=\"node\">\n",
       "<title>Mutator</title>\n",
       "<g id=\"a_node5\"><a xlink:href=\"GreyboxFuzzer.ipynb\" xlink:title=\"class Mutator:&#10;Mutate strings\">\n",
       "<polygon fill=\"none\" stroke=\"black\" points=\"205,-184 205,-226 282,-226 282,-184 205,-184\"/>\n",
       "<text text-anchor=\"start\" x=\"217.5\" y=\"-211.8\" font-family=\"Patua One, Helvetica, sans-serif\" font-weight=\"bold\" font-size=\"14.00\" fill=\"#b03a2e\">Mutator</text>\n",
       "<polyline fill=\"none\" stroke=\"black\" points=\"205,-203 282,-203 \"/>\n",
       "<g id=\"a_node5_21\"><a xlink:href=\"#\" xlink:title=\"Mutator\">\n",
       "<g id=\"a_node5_22\"><a xlink:href=\"GreyboxFuzzer.ipynb\" xlink:title=\"__init__(self) &#45;&gt; None:&#10;Constructor\">\n",
       "<text text-anchor=\"start\" x=\"213.5\" y=\"-191.5\" font-family=\"'Fira Mono', 'Source Code Pro', 'Courier', monospace\" font-weight=\"bold\" font-style=\"italic\" font-size=\"10.00\">__init__()</text>\n",
       "</a>\n",
       "</g>\n",
       "</a>\n",
       "</g>\n",
       "</a>\n",
       "</g>\n",
       "</g>\n",
       "<!-- FragmentMutator&#45;&gt;Mutator -->\n",
       "<g id=\"edge3\" class=\"edge\">\n",
       "<title>FragmentMutator&#45;&gt;Mutator</title>\n",
       "<path fill=\"none\" stroke=\"black\" d=\"M243.5,-141.87C243.5,-153.1 243.5,-164.18 243.5,-173.81\"/>\n",
       "<polygon fill=\"none\" stroke=\"black\" points=\"240,-173.99 243.5,-183.99 247,-173.99 240,-173.99\"/>\n",
       "</g>\n",
       "<!-- Legend -->\n",
       "<g id=\"node6\" class=\"node\">\n",
       "<title>Legend</title>\n",
       "<text text-anchor=\"start\" x=\"336.5\" y=\"-88.5\" font-family=\"Patua One, Helvetica, sans-serif\" font-weight=\"bold\" font-size=\"10.00\" fill=\"#b03a2e\">Legend</text>\n",
       "<text text-anchor=\"start\" x=\"336.5\" y=\"-78.5\" font-family=\"Patua One, Helvetica, sans-serif\" font-size=\"10.00\">• </text>\n",
       "<text text-anchor=\"start\" x=\"343.5\" y=\"-78.5\" font-family=\"'Fira Mono', 'Source Code Pro', 'Courier', monospace\" font-weight=\"bold\" font-size=\"8.00\">public_method()</text>\n",
       "<text text-anchor=\"start\" x=\"336.5\" y=\"-68.5\" font-family=\"Patua One, Helvetica, sans-serif\" font-size=\"10.00\">• </text>\n",
       "<text text-anchor=\"start\" x=\"343.5\" y=\"-68.5\" font-family=\"'Fira Mono', 'Source Code Pro', 'Courier', monospace\" font-size=\"8.00\">private_method()</text>\n",
       "<text text-anchor=\"start\" x=\"336.5\" y=\"-58.5\" font-family=\"Patua One, Helvetica, sans-serif\" font-size=\"10.00\">• </text>\n",
       "<text text-anchor=\"start\" x=\"343.5\" y=\"-58.5\" font-family=\"'Fira Mono', 'Source Code Pro', 'Courier', monospace\" font-style=\"italic\" font-size=\"8.00\">overloaded_method()</text>\n",
       "<text text-anchor=\"start\" x=\"336.5\" y=\"-49.3\" font-family=\"Helvetica,sans-Serif\" font-size=\"9.00\">Hover over names to see doc</text>\n",
       "</g>\n",
       "</g>\n",
       "</svg>\n"
      ],
      "text/plain": [
       "<graphviz.graphs.Digraph at 0x15639cf70>"
      ]
     },
     "execution_count": 82,
     "metadata": {},
     "output_type": "execute_result"
    }
   ],
   "source": [
    "# ignore\n",
    "display_class_hierarchy([LangFuzzer, FragmentMutator],\n",
    "                        public_methods=[\n",
    "                            Fuzzer.__init__,\n",
    "                            Fuzzer.fuzz,\n",
    "                            Fuzzer.run,\n",
    "                            Fuzzer.runs,\n",
    "                            AdvancedMutationFuzzer.__init__,\n",
    "                            AdvancedMutationFuzzer.fuzz,\n",
    "                            GreyboxFuzzer.run,\n",
    "                            Mutator.__init__,\n",
    "                            FragmentMutator.__init__,\n",
    "                            FragmentMutator.add_to_fragment_pool,\n",
    "                        ],\n",
    "                        types={'DerivationTree': DerivationTree,\n",
    "                               'Location': Location},\n",
    "                        project='fuzzingbook')"
   ]
  },
  {
   "cell_type": "markdown",
   "metadata": {
    "slideshow": {
     "slide_type": "subslide"
    }
   },
   "source": [
    "### Fuzzing with Input Regions\n",
    "\n",
    "The `GreyboxGrammarFuzzer` class uses two mutators:\n",
    "* a _tree mutator_ (a `RegionMutator` object) that can parse existing strings to identify _regions_ in that string to be swapped or deleted.\n",
    "* a _byte mutator_ to apply bit- and character-level mutations."
   ]
  },
  {
   "cell_type": "code",
   "execution_count": 83,
   "metadata": {
    "execution": {
     "iopub.execute_input": "2022-08-01T13:02:51.705782Z",
     "iopub.status.busy": "2022-08-01T13:02:51.705656Z",
     "iopub.status.idle": "2022-08-01T13:02:51.708126Z",
     "shell.execute_reply": "2022-08-01T13:02:51.707811Z"
    },
    "slideshow": {
     "slide_type": "fragment"
    }
   },
   "outputs": [],
   "source": [
    "tree_mutator = RegionMutator(parser)\n",
    "byte_mutator = Mutator()"
   ]
  },
  {
   "cell_type": "markdown",
   "metadata": {
    "slideshow": {
     "slide_type": "fragment"
    }
   },
   "source": [
    "The _schedule_ for the `GreyboxGrammarFuzzer` class can be a regular `PowerSchedule` object. However, a more sophisticated schedule is provided by `AFLSmartSchedule`, which assigns more [energy](GreyboxFuzzer.ipynb#Power-Schedules) to seeds that have a higher degree of validity."
   ]
  },
  {
   "cell_type": "code",
   "execution_count": 84,
   "metadata": {
    "execution": {
     "iopub.execute_input": "2022-08-01T13:02:51.709686Z",
     "iopub.status.busy": "2022-08-01T13:02:51.709543Z",
     "iopub.status.idle": "2022-08-01T13:02:51.711546Z",
     "shell.execute_reply": "2022-08-01T13:02:51.711222Z"
    },
    "slideshow": {
     "slide_type": "subslide"
    }
   },
   "outputs": [],
   "source": [
    "schedule = AFLSmartSchedule(parser)"
   ]
  },
  {
   "cell_type": "markdown",
   "metadata": {
    "slideshow": {
     "slide_type": "fragment"
    }
   },
   "source": [
    "The `GreyboxGrammarFuzzer` constructor takes a set of seeds as well as the two mutators and the schedule:"
   ]
  },
  {
   "cell_type": "code",
   "execution_count": 85,
   "metadata": {
    "execution": {
     "iopub.execute_input": "2022-08-01T13:02:51.713131Z",
     "iopub.status.busy": "2022-08-01T13:02:51.713013Z",
     "iopub.status.idle": "2022-08-01T13:02:51.716583Z",
     "shell.execute_reply": "2022-08-01T13:02:51.716299Z"
    },
    "slideshow": {
     "slide_type": "fragment"
    }
   },
   "outputs": [],
   "source": [
    "aflsmart_fuzzer = GreyboxGrammarFuzzer(seeds, byte_mutator, tree_mutator, schedule)"
   ]
  },
  {
   "cell_type": "markdown",
   "metadata": {
    "slideshow": {
     "slide_type": "fragment"
    }
   },
   "source": [
    "As it relies on code coverage, it is typically combined with a `FunctionCoverageRunner`:"
   ]
  },
  {
   "cell_type": "code",
   "execution_count": 86,
   "metadata": {
    "execution": {
     "iopub.execute_input": "2022-08-01T13:02:51.718108Z",
     "iopub.status.busy": "2022-08-01T13:02:51.718011Z",
     "iopub.status.idle": "2022-08-01T13:02:52.509037Z",
     "shell.execute_reply": "2022-08-01T13:02:52.508573Z"
    },
    "slideshow": {
     "slide_type": "fragment"
    }
   },
   "outputs": [],
   "source": [
    "runner = FunctionCoverageRunner(my_parser)\n",
    "aflsmart_outcome = aflsmart_fuzzer.runs(runner, trials=5)"
   ]
  },
  {
   "cell_type": "code",
   "execution_count": 87,
   "metadata": {
    "execution": {
     "iopub.execute_input": "2022-08-01T13:02:52.510983Z",
     "iopub.status.busy": "2022-08-01T13:02:52.510859Z",
     "iopub.status.idle": "2022-08-01T13:02:52.958762Z",
     "shell.execute_reply": "2022-08-01T13:02:52.958267Z"
    },
    "slideshow": {
     "slide_type": "subslide"
    }
   },
   "outputs": [
    {
     "data": {
      "image/svg+xml": [
       "<?xml version=\"1.0\" encoding=\"UTF-8\" standalone=\"no\"?>\n",
       "<!DOCTYPE svg PUBLIC \"-//W3C//DTD SVG 1.1//EN\"\n",
       " \"http://www.w3.org/Graphics/SVG/1.1/DTD/svg11.dtd\">\n",
       "<!-- Generated by graphviz version 3.0.0 (20220226.1711)\n",
       " -->\n",
       "<!-- Pages: 1 -->\n",
       "<svg width=\"642pt\" height=\"464pt\"\n",
       " viewBox=\"0.00 0.00 641.50 464.00\" xmlns=\"http://www.w3.org/2000/svg\" xmlns:xlink=\"http://www.w3.org/1999/xlink\">\n",
       "<g id=\"graph0\" class=\"graph\" transform=\"scale(1 1) rotate(0) translate(4 460)\">\n",
       "<g id=\"a_graph0\"><a xlink:title=\"GreyboxGrammarFuzzer class hierarchy\">\n",
       "<polygon fill=\"white\" stroke=\"transparent\" points=\"-4,4 -4,-460 637.5,-460 637.5,4 -4,4\"/>\n",
       "</a>\n",
       "</g>\n",
       "<!-- GreyboxGrammarFuzzer -->\n",
       "<g id=\"node1\" class=\"node\">\n",
       "<title>GreyboxGrammarFuzzer</title>\n",
       "<g id=\"a_node1\"><a xlink:href=\"#\" xlink:title=\"class GreyboxGrammarFuzzer:&#10;Greybox fuzzer using grammars.\">\n",
       "<polygon fill=\"none\" stroke=\"black\" points=\"4.5,-11.5 4.5,-64.5 172.5,-64.5 172.5,-11.5 4.5,-11.5\"/>\n",
       "<text text-anchor=\"start\" x=\"12.5\" y=\"-50.3\" font-family=\"Patua One, Helvetica, sans-serif\" font-weight=\"bold\" font-size=\"14.00\" fill=\"#b03a2e\">GreyboxGrammarFuzzer</text>\n",
       "<polyline fill=\"none\" stroke=\"black\" points=\"4.5,-41.5 172.5,-41.5 \"/>\n",
       "<g id=\"a_node1_0\"><a xlink:href=\"#\" xlink:title=\"GreyboxGrammarFuzzer\">\n",
       "<g id=\"a_node1_1\"><a xlink:href=\"#\" xlink:title=\"__init__(self, seeds: List[str], byte_mutator: GreyboxFuzzer.Mutator, tree_mutator: FragmentMutator, schedule: GreyboxFuzzer.PowerSchedule) &#45;&gt; None:&#10;Constructor.&#10;`seeds` &#45; set of inputs to mutate.&#10;`byte_mutator` &#45; a byte&#45;level mutator.&#10;`tree_mutator` = a tree&#45;level mutator.&#10;`schedule` &#45; a power schedule.\">\n",
       "<text text-anchor=\"start\" x=\"34.5\" y=\"-30.5\" font-family=\"'Fira Mono', 'Source Code Pro', 'Courier', monospace\" font-weight=\"bold\" font-style=\"italic\" font-size=\"10.00\">__init__()</text>\n",
       "</a>\n",
       "</g>\n",
       "<g id=\"a_node1_2\"><a xlink:href=\"#\" xlink:title=\"create_candidate(self) &#45;&gt; str:&#10;Returns an input generated by structural mutation&#10;of a seed in the population\">\n",
       "<text text-anchor=\"start\" x=\"34.5\" y=\"-19.5\" font-family=\"'Fira Mono', 'Source Code Pro', 'Courier', monospace\" font-style=\"italic\" font-size=\"10.00\">create_candidate()</text>\n",
       "</a>\n",
       "</g>\n",
       "</a>\n",
       "</g>\n",
       "</a>\n",
       "</g>\n",
       "</g>\n",
       "<!-- GreyboxFuzzer -->\n",
       "<g id=\"node2\" class=\"node\">\n",
       "<title>GreyboxFuzzer</title>\n",
       "<g id=\"a_node2\"><a xlink:href=\"GreyboxFuzzer.ipynb\" xlink:title=\"class GreyboxFuzzer:&#10;Coverage&#45;guided mutational fuzzing.\">\n",
       "<polygon fill=\"none\" stroke=\"black\" points=\"33.5,-162 33.5,-204 143.5,-204 143.5,-162 33.5,-162\"/>\n",
       "<text text-anchor=\"start\" x=\"41.5\" y=\"-189.8\" font-family=\"Patua One, Helvetica, sans-serif\" font-weight=\"bold\" font-size=\"14.00\" fill=\"#b03a2e\">GreyboxFuzzer</text>\n",
       "<polyline fill=\"none\" stroke=\"black\" points=\"33.5,-181 143.5,-181 \"/>\n",
       "<g id=\"a_node2_3\"><a xlink:href=\"#\" xlink:title=\"GreyboxFuzzer\">\n",
       "<g id=\"a_node2_4\"><a xlink:href=\"GreyboxFuzzer.ipynb\" xlink:title=\"run(self, runner: MutationFuzzer.FunctionCoverageRunner) &#45;&gt; Tuple[Any, str]:&#10;Run function(inp) while tracking coverage.&#10;If we reach new coverage,&#10;add inp to population and its coverage to population_coverage\">\n",
       "<text text-anchor=\"start\" x=\"73.5\" y=\"-169.5\" font-family=\"'Fira Mono', 'Source Code Pro', 'Courier', monospace\" font-weight=\"bold\" font-style=\"italic\" font-size=\"10.00\">run()</text>\n",
       "</a>\n",
       "</g>\n",
       "</a>\n",
       "</g>\n",
       "</a>\n",
       "</g>\n",
       "</g>\n",
       "<!-- GreyboxGrammarFuzzer&#45;&gt;GreyboxFuzzer -->\n",
       "<g id=\"edge1\" class=\"edge\">\n",
       "<title>GreyboxGrammarFuzzer&#45;&gt;GreyboxFuzzer</title>\n",
       "<path fill=\"none\" stroke=\"black\" d=\"M88.5,-64.57C88.5,-89 88.5,-125.83 88.5,-151.72\"/>\n",
       "<polygon fill=\"none\" stroke=\"black\" points=\"85,-151.74 88.5,-161.74 92,-151.74 85,-151.74\"/>\n",
       "</g>\n",
       "<!-- AdvancedMutationFuzzer -->\n",
       "<g id=\"node3\" class=\"node\">\n",
       "<title>AdvancedMutationFuzzer</title>\n",
       "<g id=\"a_node3\"><a xlink:href=\"GreyboxFuzzer.ipynb\" xlink:title=\"class AdvancedMutationFuzzer:&#10;Base class for mutation&#45;based fuzzing.\">\n",
       "<polygon fill=\"none\" stroke=\"black\" points=\"0,-290.5 0,-343.5 177,-343.5 177,-290.5 0,-290.5\"/>\n",
       "<text text-anchor=\"start\" x=\"8\" y=\"-329.3\" font-family=\"Patua One, Helvetica, sans-serif\" font-weight=\"bold\" font-size=\"14.00\" fill=\"#b03a2e\">AdvancedMutationFuzzer</text>\n",
       "<polyline fill=\"none\" stroke=\"black\" points=\"0,-320.5 177,-320.5 \"/>\n",
       "<g id=\"a_node3_5\"><a xlink:href=\"#\" xlink:title=\"AdvancedMutationFuzzer\">\n",
       "<g id=\"a_node3_6\"><a xlink:href=\"GreyboxFuzzer.ipynb\" xlink:title=\"__init__(self, seeds: List[str], mutator: GreyboxFuzzer.Mutator, schedule: GreyboxFuzzer.PowerSchedule) &#45;&gt; None:&#10;Constructor.&#10;`seeds` &#45; a list of (input) strings to mutate.&#10;`mutator` &#45; the mutator to apply.&#10;`schedule` &#45; the power schedule to apply.\">\n",
       "<text text-anchor=\"start\" x=\"58.5\" y=\"-309.5\" font-family=\"'Fira Mono', 'Source Code Pro', 'Courier', monospace\" font-weight=\"bold\" font-style=\"italic\" font-size=\"10.00\">__init__()</text>\n",
       "</a>\n",
       "</g>\n",
       "<g id=\"a_node3_7\"><a xlink:href=\"GreyboxFuzzer.ipynb\" xlink:title=\"fuzz(self) &#45;&gt; str:&#10;Returns first each seed once and then generates new inputs\">\n",
       "<text text-anchor=\"start\" x=\"58.5\" y=\"-298.5\" font-family=\"'Fira Mono', 'Source Code Pro', 'Courier', monospace\" font-weight=\"bold\" font-style=\"italic\" font-size=\"10.00\">fuzz()</text>\n",
       "</a>\n",
       "</g>\n",
       "</a>\n",
       "</g>\n",
       "</a>\n",
       "</g>\n",
       "</g>\n",
       "<!-- GreyboxFuzzer&#45;&gt;AdvancedMutationFuzzer -->\n",
       "<g id=\"edge2\" class=\"edge\">\n",
       "<title>GreyboxFuzzer&#45;&gt;AdvancedMutationFuzzer</title>\n",
       "<path fill=\"none\" stroke=\"black\" d=\"M88.5,-204.05C88.5,-224.24 88.5,-255.83 88.5,-280.31\"/>\n",
       "<polygon fill=\"none\" stroke=\"black\" points=\"85,-280.31 88.5,-290.31 92,-280.31 85,-280.31\"/>\n",
       "</g>\n",
       "<!-- Fuzzer -->\n",
       "<g id=\"node4\" class=\"node\">\n",
       "<title>Fuzzer</title>\n",
       "<g id=\"a_node4\"><a xlink:href=\"Fuzzer.ipynb\" xlink:title=\"class Fuzzer:&#10;Base class for fuzzers.\">\n",
       "<polygon fill=\"none\" stroke=\"black\" points=\"50,-380.5 50,-455.5 127,-455.5 127,-380.5 50,-380.5\"/>\n",
       "<text text-anchor=\"start\" x=\"67.5\" y=\"-441.3\" font-family=\"Patua One, Helvetica, sans-serif\" font-weight=\"bold\" font-size=\"14.00\" fill=\"#b03a2e\">Fuzzer</text>\n",
       "<polyline fill=\"none\" stroke=\"black\" points=\"50,-432.5 127,-432.5 \"/>\n",
       "<g id=\"a_node4_8\"><a xlink:href=\"#\" xlink:title=\"Fuzzer\">\n",
       "<g id=\"a_node4_9\"><a xlink:href=\"Fuzzer.ipynb\" xlink:title=\"__init__(self) &#45;&gt; None:&#10;Constructor\">\n",
       "<text text-anchor=\"start\" x=\"58.5\" y=\"-421.5\" font-family=\"'Fira Mono', 'Source Code Pro', 'Courier', monospace\" font-weight=\"bold\" font-style=\"italic\" font-size=\"10.00\">__init__()</text>\n",
       "</a>\n",
       "</g>\n",
       "<g id=\"a_node4_10\"><a xlink:href=\"Fuzzer.ipynb\" xlink:title=\"fuzz(self) &#45;&gt; str:&#10;Return fuzz input\">\n",
       "<text text-anchor=\"start\" x=\"58.5\" y=\"-410.5\" font-family=\"'Fira Mono', 'Source Code Pro', 'Courier', monospace\" font-weight=\"bold\" font-style=\"italic\" font-size=\"10.00\">fuzz()</text>\n",
       "</a>\n",
       "</g>\n",
       "<g id=\"a_node4_11\"><a xlink:href=\"Fuzzer.ipynb\" xlink:title=\"run(self, runner: Fuzzer.Runner = &lt;Fuzzer.Runner object at 0x106ac0e80&gt;) &#45;&gt; Tuple[subprocess.CompletedProcess, str]:&#10;Run `runner` with fuzz input\">\n",
       "<text text-anchor=\"start\" x=\"58.5\" y=\"-399.5\" font-family=\"'Fira Mono', 'Source Code Pro', 'Courier', monospace\" font-weight=\"bold\" font-style=\"italic\" font-size=\"10.00\">run()</text>\n",
       "</a>\n",
       "</g>\n",
       "<g id=\"a_node4_12\"><a xlink:href=\"Fuzzer.ipynb\" xlink:title=\"runs(self, runner: Fuzzer.Runner = &lt;Fuzzer.PrintRunner object at 0x106ac0fa0&gt;, trials: int = 10) &#45;&gt; List[Tuple[subprocess.CompletedProcess, str]]:&#10;Run `runner` with fuzz input, `trials` times\">\n",
       "<text text-anchor=\"start\" x=\"58.5\" y=\"-388.5\" font-family=\"'Fira Mono', 'Source Code Pro', 'Courier', monospace\" font-weight=\"bold\" font-size=\"10.00\">runs()</text>\n",
       "</a>\n",
       "</g>\n",
       "</a>\n",
       "</g>\n",
       "</a>\n",
       "</g>\n",
       "</g>\n",
       "<!-- AdvancedMutationFuzzer&#45;&gt;Fuzzer -->\n",
       "<g id=\"edge3\" class=\"edge\">\n",
       "<title>AdvancedMutationFuzzer&#45;&gt;Fuzzer</title>\n",
       "<path fill=\"none\" stroke=\"black\" d=\"M88.5,-343.75C88.5,-351.83 88.5,-361.01 88.5,-370.07\"/>\n",
       "<polygon fill=\"none\" stroke=\"black\" points=\"85,-370.19 88.5,-380.19 92,-370.19 85,-370.19\"/>\n",
       "</g>\n",
       "<!-- AFLSmartSchedule -->\n",
       "<g id=\"node5\" class=\"node\">\n",
       "<title>AFLSmartSchedule</title>\n",
       "<g id=\"a_node5\"><a xlink:href=\"#\" xlink:title=\"class AFLSmartSchedule:&#10;Define how fuzzing time should be distributed across the population.\">\n",
       "<polygon fill=\"none\" stroke=\"black\" points=\"191,-0.5 191,-75.5 328,-75.5 328,-0.5 191,-0.5\"/>\n",
       "<text text-anchor=\"start\" x=\"201.5\" y=\"-61.3\" font-family=\"Patua One, Helvetica, sans-serif\" font-weight=\"bold\" font-size=\"14.00\" fill=\"#b03a2e\">AFLSmartSchedule</text>\n",
       "<polyline fill=\"none\" stroke=\"black\" points=\"191,-52.5 328,-52.5 \"/>\n",
       "<g id=\"a_node5_13\"><a xlink:href=\"#\" xlink:title=\"AFLSmartSchedule\">\n",
       "<g id=\"a_node5_14\"><a xlink:href=\"#\" xlink:title=\"__init__(self, parser: Parser.EarleyParser, exponent: float = 1.0):&#10;Constructor\">\n",
       "<text text-anchor=\"start\" x=\"199.5\" y=\"-41.5\" font-family=\"'Fira Mono', 'Source Code Pro', 'Courier', monospace\" font-weight=\"bold\" font-style=\"italic\" font-size=\"10.00\">__init__()</text>\n",
       "</a>\n",
       "</g>\n",
       "<g id=\"a_node5_15\"><a xlink:href=\"#\" xlink:title=\"assignEnergy(self, population: Sequence[GreyboxFuzzer.Seed]):&#10;Assign exponential energy proportional to degree of validity\">\n",
       "<text text-anchor=\"start\" x=\"199.5\" y=\"-30.5\" font-family=\"'Fira Mono', 'Source Code Pro', 'Courier', monospace\" font-style=\"italic\" font-size=\"10.00\">assignEnergy()</text>\n",
       "</a>\n",
       "</g>\n",
       "<g id=\"a_node5_16\"><a xlink:href=\"#\" xlink:title=\"degree_of_validity(self, seed: GreyboxFuzzer.Seed) &#45;&gt; float:&#10;Returns the proportion of a seed that is parsable\">\n",
       "<text text-anchor=\"start\" x=\"199.5\" y=\"-18.5\" font-family=\"'Fira Mono', 'Source Code Pro', 'Courier', monospace\" font-size=\"10.00\">degree_of_validity()</text>\n",
       "</a>\n",
       "</g>\n",
       "<g id=\"a_node5_17\"><a xlink:href=\"#\" xlink:title=\"parsable(self, seed: GreyboxFuzzer.Seed) &#45;&gt; str:&#10;Returns the substring that is parsable\">\n",
       "<text text-anchor=\"start\" x=\"199.5\" y=\"-7.5\" font-family=\"'Fira Mono', 'Source Code Pro', 'Courier', monospace\" font-size=\"10.00\">parsable()</text>\n",
       "</a>\n",
       "</g>\n",
       "</a>\n",
       "</g>\n",
       "</a>\n",
       "</g>\n",
       "</g>\n",
       "<!-- PowerSchedule -->\n",
       "<g id=\"node6\" class=\"node\">\n",
       "<title>PowerSchedule</title>\n",
       "<g id=\"a_node6\"><a xlink:href=\"GreyboxFuzzer.ipynb\" xlink:title=\"class PowerSchedule:&#10;Define how fuzzing time should be distributed across the population.\">\n",
       "<polygon fill=\"none\" stroke=\"black\" points=\"204.5,-162 204.5,-204 314.5,-204 314.5,-162 204.5,-162\"/>\n",
       "<text text-anchor=\"start\" x=\"212.5\" y=\"-189.8\" font-family=\"Patua One, Helvetica, sans-serif\" font-weight=\"bold\" font-size=\"14.00\" fill=\"#b03a2e\">PowerSchedule</text>\n",
       "<polyline fill=\"none\" stroke=\"black\" points=\"204.5,-181 314.5,-181 \"/>\n",
       "<g id=\"a_node6_18\"><a xlink:href=\"#\" xlink:title=\"PowerSchedule\">\n",
       "<g id=\"a_node6_19\"><a xlink:href=\"GreyboxFuzzer.ipynb\" xlink:title=\"__init__(self) &#45;&gt; None:&#10;Constructor\">\n",
       "<text text-anchor=\"start\" x=\"229.5\" y=\"-169.5\" font-family=\"'Fira Mono', 'Source Code Pro', 'Courier', monospace\" font-weight=\"bold\" font-style=\"italic\" font-size=\"10.00\">__init__()</text>\n",
       "</a>\n",
       "</g>\n",
       "</a>\n",
       "</g>\n",
       "</a>\n",
       "</g>\n",
       "</g>\n",
       "<!-- AFLSmartSchedule&#45;&gt;PowerSchedule -->\n",
       "<g id=\"edge4\" class=\"edge\">\n",
       "<title>AFLSmartSchedule&#45;&gt;PowerSchedule</title>\n",
       "<path fill=\"none\" stroke=\"black\" d=\"M259.5,-75.83C259.5,-99.29 259.5,-129.34 259.5,-151.47\"/>\n",
       "<polygon fill=\"none\" stroke=\"black\" points=\"256,-151.64 259.5,-161.64 263,-151.64 256,-151.64\"/>\n",
       "</g>\n",
       "<!-- RegionMutator -->\n",
       "<g id=\"node7\" class=\"node\">\n",
       "<title>RegionMutator</title>\n",
       "<g id=\"a_node7\"><a xlink:href=\"#\" xlink:title=\"class RegionMutator:&#10;Mutate inputs with input fragments from a pool\">\n",
       "<polygon fill=\"none\" stroke=\"black\" points=\"346,-6 346,-70 495,-70 495,-6 346,-6\"/>\n",
       "<text text-anchor=\"start\" x=\"373\" y=\"-55.8\" font-family=\"Patua One, Helvetica, sans-serif\" font-weight=\"bold\" font-size=\"14.00\" fill=\"#b03a2e\">RegionMutator</text>\n",
       "<polyline fill=\"none\" stroke=\"black\" points=\"346,-47 495,-47 \"/>\n",
       "<g id=\"a_node7_20\"><a xlink:href=\"#\" xlink:title=\"RegionMutator\">\n",
       "<g id=\"a_node7_21\"><a xlink:href=\"#\" xlink:title=\"add_to_fragment_pool(self, seed: SeedWithRegions) &#45;&gt; None:&#10;Mark fragments and regions in a seed file\">\n",
       "<text text-anchor=\"start\" x=\"354.5\" y=\"-35.5\" font-family=\"'Fira Mono', 'Source Code Pro', 'Courier', monospace\" font-style=\"italic\" font-size=\"10.00\">add_to_fragment_pool()</text>\n",
       "</a>\n",
       "</g>\n",
       "<g id=\"a_node7_22\"><a xlink:href=\"#\" xlink:title=\"delete_fragment(self, seed: SeedWithRegions) &#45;&gt; SeedWithRegions:&#10;Deletes a random region\">\n",
       "<text text-anchor=\"start\" x=\"354.5\" y=\"-24.5\" font-family=\"'Fira Mono', 'Source Code Pro', 'Courier', monospace\" font-style=\"italic\" font-size=\"10.00\">delete_fragment()</text>\n",
       "</a>\n",
       "</g>\n",
       "<g id=\"a_node7_23\"><a xlink:href=\"#\" xlink:title=\"swap_fragment(self, seed: SeedWithRegions) &#45;&gt; SeedWithRegions:&#10;Chooses a random region and swaps it with a fragment&#10;that starts with the same symbol\">\n",
       "<text text-anchor=\"start\" x=\"354.5\" y=\"-13.5\" font-family=\"'Fira Mono', 'Source Code Pro', 'Courier', monospace\" font-style=\"italic\" font-size=\"10.00\">swap_fragment()</text>\n",
       "</a>\n",
       "</g>\n",
       "</a>\n",
       "</g>\n",
       "</a>\n",
       "</g>\n",
       "</g>\n",
       "<!-- FragmentMutator -->\n",
       "<g id=\"node8\" class=\"node\">\n",
       "<title>FragmentMutator</title>\n",
       "<g id=\"a_node8\"><a xlink:href=\"#\" xlink:title=\"class FragmentMutator:&#10;Mutate inputs with input fragments from a pool\">\n",
       "<polygon fill=\"none\" stroke=\"black\" points=\"346,-112.5 346,-253.5 495,-253.5 495,-112.5 346,-112.5\"/>\n",
       "<text text-anchor=\"start\" x=\"364.5\" y=\"-239.3\" font-family=\"Patua One, Helvetica, sans-serif\" font-weight=\"bold\" font-size=\"14.00\" fill=\"#b03a2e\">FragmentMutator</text>\n",
       "<polyline fill=\"none\" stroke=\"black\" points=\"346,-230.5 495,-230.5 \"/>\n",
       "<g id=\"a_node8_24\"><a xlink:href=\"#\" xlink:title=\"FragmentMutator\">\n",
       "<g id=\"a_node8_25\"><a xlink:href=\"#\" xlink:title=\"__init__(self, parser):&#10;Initialize mutators\">\n",
       "<text text-anchor=\"start\" x=\"354.5\" y=\"-219.5\" font-family=\"'Fira Mono', 'Source Code Pro', 'Courier', monospace\" font-weight=\"bold\" font-style=\"italic\" font-size=\"10.00\">__init__()</text>\n",
       "</a>\n",
       "</g>\n",
       "<g id=\"a_node8_26\"><a xlink:href=\"#\" xlink:title=\"add_to_fragment_pool(self, seed: SeedWithStructure) &#45;&gt; None:&#10;Adds all fragments of a seed to the fragment pool\">\n",
       "<text text-anchor=\"start\" x=\"354.5\" y=\"-208.5\" font-family=\"'Fira Mono', 'Source Code Pro', 'Courier', monospace\" font-weight=\"bold\" font-style=\"italic\" font-size=\"10.00\">add_to_fragment_pool()</text>\n",
       "</a>\n",
       "</g>\n",
       "<g id=\"a_node8_27\"><a xlink:href=\"#\" xlink:title=\"add_fragment(self, fragment: DerivationTree) &#45;&gt; None:&#10;Recursively adds fragments to the fragment pool\">\n",
       "<text text-anchor=\"start\" x=\"354.5\" y=\"-196.5\" font-family=\"'Fira Mono', 'Source Code Pro', 'Courier', monospace\" font-size=\"10.00\">add_fragment()</text>\n",
       "</a>\n",
       "</g>\n",
       "<g id=\"a_node8_28\"><a xlink:href=\"#\" xlink:title=\"count_nodes(self, fragment: DerivationTree) &#45;&gt; int:&#10;Returns the number of nodes in the fragment\">\n",
       "<text text-anchor=\"start\" x=\"354.5\" y=\"-185.5\" font-family=\"'Fira Mono', 'Source Code Pro', 'Courier', monospace\" font-size=\"10.00\">count_nodes()</text>\n",
       "</a>\n",
       "</g>\n",
       "<g id=\"a_node8_29\"><a xlink:href=\"#\" xlink:title=\"delete_fragment(self, seed: SeedWithStructure) &#45;&gt; SeedWithStructure:&#10;Delete a random fragment\">\n",
       "<text text-anchor=\"start\" x=\"354.5\" y=\"-175.5\" font-family=\"'Fira Mono', 'Source Code Pro', 'Courier', monospace\" font-style=\"italic\" font-size=\"10.00\">delete_fragment()</text>\n",
       "</a>\n",
       "</g>\n",
       "<g id=\"a_node8_30\"><a xlink:href=\"#\" xlink:title=\"is_excluded(self, symbol: str) &#45;&gt; bool:&#10;Returns true if a fragment starting with a specific&#10;symbol and all its decendents can be excluded\">\n",
       "<text text-anchor=\"start\" x=\"354.5\" y=\"-163.5\" font-family=\"'Fira Mono', 'Source Code Pro', 'Courier', monospace\" font-size=\"10.00\">is_excluded()</text>\n",
       "</a>\n",
       "</g>\n",
       "<g id=\"a_node8_31\"><a xlink:href=\"#\" xlink:title=\"mutate(self, seed: SeedWithStructure) &#45;&gt; SeedWithStructure:&#10;Implement structure&#45;aware mutation. Memoize seeds.\">\n",
       "<text text-anchor=\"start\" x=\"354.5\" y=\"-153.5\" font-family=\"'Fira Mono', 'Source Code Pro', 'Courier', monospace\" font-style=\"italic\" font-size=\"10.00\">mutate()</text>\n",
       "</a>\n",
       "</g>\n",
       "<g id=\"a_node8_32\"><a xlink:href=\"#\" xlink:title=\"recursive_delete(self, fragment: DerivationTree) &#45;&gt; DerivationTree:&#10;Recursively finds the fragment to delete\">\n",
       "<text text-anchor=\"start\" x=\"354.5\" y=\"-141.5\" font-family=\"'Fira Mono', 'Source Code Pro', 'Courier', monospace\" font-size=\"10.00\">recursive_delete()</text>\n",
       "</a>\n",
       "</g>\n",
       "<g id=\"a_node8_33\"><a xlink:href=\"#\" xlink:title=\"recursive_swap(self, fragment: DerivationTree) &#45;&gt; DerivationTree:&#10;Recursively finds the fragment to swap.\">\n",
       "<text text-anchor=\"start\" x=\"354.5\" y=\"-130.5\" font-family=\"'Fira Mono', 'Source Code Pro', 'Courier', monospace\" font-size=\"10.00\">recursive_swap()</text>\n",
       "</a>\n",
       "</g>\n",
       "<g id=\"a_node8_34\"><a xlink:href=\"#\" xlink:title=\"swap_fragment(self, seed: SeedWithStructure) &#45;&gt; SeedWithStructure:&#10;Substitutes a random fragment with another with the same symbol\">\n",
       "<text text-anchor=\"start\" x=\"354.5\" y=\"-120.5\" font-family=\"'Fira Mono', 'Source Code Pro', 'Courier', monospace\" font-style=\"italic\" font-size=\"10.00\">swap_fragment()</text>\n",
       "</a>\n",
       "</g>\n",
       "</a>\n",
       "</g>\n",
       "</a>\n",
       "</g>\n",
       "</g>\n",
       "<!-- RegionMutator&#45;&gt;FragmentMutator -->\n",
       "<g id=\"edge5\" class=\"edge\">\n",
       "<title>RegionMutator&#45;&gt;FragmentMutator</title>\n",
       "<path fill=\"none\" stroke=\"black\" d=\"M420.5,-70.03C420.5,-79.69 420.5,-90.81 420.5,-102.22\"/>\n",
       "<polygon fill=\"none\" stroke=\"black\" points=\"417,-102.29 420.5,-112.29 424,-102.29 417,-102.29\"/>\n",
       "</g>\n",
       "<!-- Mutator -->\n",
       "<g id=\"node9\" class=\"node\">\n",
       "<title>Mutator</title>\n",
       "<g id=\"a_node9\"><a xlink:href=\"GreyboxFuzzer.ipynb\" xlink:title=\"class Mutator:&#10;Mutate strings\">\n",
       "<polygon fill=\"none\" stroke=\"black\" points=\"382,-296 382,-338 459,-338 459,-296 382,-296\"/>\n",
       "<text text-anchor=\"start\" x=\"394.5\" y=\"-323.8\" font-family=\"Patua One, Helvetica, sans-serif\" font-weight=\"bold\" font-size=\"14.00\" fill=\"#b03a2e\">Mutator</text>\n",
       "<polyline fill=\"none\" stroke=\"black\" points=\"382,-315 459,-315 \"/>\n",
       "<g id=\"a_node9_35\"><a xlink:href=\"#\" xlink:title=\"Mutator\">\n",
       "<g id=\"a_node9_36\"><a xlink:href=\"GreyboxFuzzer.ipynb\" xlink:title=\"__init__(self) &#45;&gt; None:&#10;Constructor\">\n",
       "<text text-anchor=\"start\" x=\"390.5\" y=\"-303.5\" font-family=\"'Fira Mono', 'Source Code Pro', 'Courier', monospace\" font-weight=\"bold\" font-style=\"italic\" font-size=\"10.00\">__init__()</text>\n",
       "</a>\n",
       "</g>\n",
       "</a>\n",
       "</g>\n",
       "</a>\n",
       "</g>\n",
       "</g>\n",
       "<!-- FragmentMutator&#45;&gt;Mutator -->\n",
       "<g id=\"edge6\" class=\"edge\">\n",
       "<title>FragmentMutator&#45;&gt;Mutator</title>\n",
       "<path fill=\"none\" stroke=\"black\" d=\"M420.5,-253.87C420.5,-265.1 420.5,-276.18 420.5,-285.81\"/>\n",
       "<polygon fill=\"none\" stroke=\"black\" points=\"417,-285.99 420.5,-295.99 424,-285.99 417,-285.99\"/>\n",
       "</g>\n",
       "<!-- Legend -->\n",
       "<g id=\"node10\" class=\"node\">\n",
       "<title>Legend</title>\n",
       "<text text-anchor=\"start\" x=\"513.5\" y=\"-55.5\" font-family=\"Patua One, Helvetica, sans-serif\" font-weight=\"bold\" font-size=\"10.00\" fill=\"#b03a2e\">Legend</text>\n",
       "<text text-anchor=\"start\" x=\"513.5\" y=\"-45.5\" font-family=\"Patua One, Helvetica, sans-serif\" font-size=\"10.00\">• </text>\n",
       "<text text-anchor=\"start\" x=\"520.5\" y=\"-45.5\" font-family=\"'Fira Mono', 'Source Code Pro', 'Courier', monospace\" font-weight=\"bold\" font-size=\"8.00\">public_method()</text>\n",
       "<text text-anchor=\"start\" x=\"513.5\" y=\"-35.5\" font-family=\"Patua One, Helvetica, sans-serif\" font-size=\"10.00\">• </text>\n",
       "<text text-anchor=\"start\" x=\"520.5\" y=\"-35.5\" font-family=\"'Fira Mono', 'Source Code Pro', 'Courier', monospace\" font-size=\"8.00\">private_method()</text>\n",
       "<text text-anchor=\"start\" x=\"513.5\" y=\"-25.5\" font-family=\"Patua One, Helvetica, sans-serif\" font-size=\"10.00\">• </text>\n",
       "<text text-anchor=\"start\" x=\"520.5\" y=\"-25.5\" font-family=\"'Fira Mono', 'Source Code Pro', 'Courier', monospace\" font-style=\"italic\" font-size=\"8.00\">overloaded_method()</text>\n",
       "<text text-anchor=\"start\" x=\"513.5\" y=\"-16.3\" font-family=\"Helvetica,sans-Serif\" font-size=\"9.00\">Hover over names to see doc</text>\n",
       "</g>\n",
       "</g>\n",
       "</svg>\n"
      ],
      "text/plain": [
       "<graphviz.graphs.Digraph at 0x154489f10>"
      ]
     },
     "execution_count": 87,
     "metadata": {},
     "output_type": "execute_result"
    }
   ],
   "source": [
    "# ignore\n",
    "display_class_hierarchy([GreyboxGrammarFuzzer, AFLSmartSchedule, RegionMutator],\n",
    "                        public_methods=[\n",
    "                            Fuzzer.__init__,\n",
    "                            Fuzzer.fuzz,\n",
    "                            Fuzzer.run,\n",
    "                            Fuzzer.runs,\n",
    "                            AdvancedMutationFuzzer.__init__,\n",
    "                            AdvancedMutationFuzzer.fuzz,\n",
    "                            GreyboxFuzzer.run,\n",
    "                            GreyboxGrammarFuzzer.__init__,\n",
    "                            GreyboxGrammarFuzzer.run,\n",
    "                            AFLSmartSchedule.__init__,\n",
    "                            PowerSchedule.__init__,\n",
    "                            Mutator.__init__,\n",
    "                            FragmentMutator.__init__,\n",
    "                            FragmentMutator.add_to_fragment_pool,\n",
    "                            RegionMutator.__init__,\n",
    "                        ],\n",
    "                        types={'DerivationTree': DerivationTree,\n",
    "                               'Location': Location},\n",
    "                        project='fuzzingbook')"
   ]
  },
  {
   "cell_type": "markdown",
   "metadata": {
    "button": false,
    "new_sheet": false,
    "run_control": {
     "read_only": false
    },
    "slideshow": {
     "slide_type": "slide"
    }
   },
   "source": [
    "## Next Steps\n",
    "\n",
    "This chapter closes our discussion of syntactic fuzzing techniques.\n",
    "\n",
    "* In the [next chapter](Reducer.ipynb), we discuss how to _reduce failure-inducing inputs_ after a failure, keeping only those portions of the input that are necessary for reproducing the failure.\n",
    "* The [next part](04_Semantical_Fuzzing.ipynb) will go from syntactical to _semantical_ fuzzing, considering code semantics for targeted test generation."
   ]
  },
  {
   "cell_type": "markdown",
   "metadata": {
    "button": false,
    "new_sheet": true,
    "run_control": {
     "read_only": false
    },
    "slideshow": {
     "slide_type": "slide"
    }
   },
   "source": [
    "## Exercises\n"
   ]
  },
  {
   "cell_type": "markdown",
   "metadata": {
    "slideshow": {
     "slide_type": "skip"
    },
    "solution2": "hidden",
    "solution2_first": true
   },
   "source": [
    "### Exercise 1: The Big Greybox Fuzzer Shoot-Out\n",
    "\n",
    "Use our implementations of greybox techniques and evaluate them on a benchmark.  Which technique (and which sub-technique) has which impact and why?  Also take into account the specific approaches of Superion \\cite{Wang2019superion} and Nautilus \\cite{Aschermann2019nautilus}, possibly even on the benchmarks used by these approaches."
   ]
  },
  {
   "cell_type": "markdown",
   "metadata": {
    "slideshow": {
     "slide_type": "skip"
    },
    "solution2": "hidden"
   },
   "source": [
    "**Solution.**  To be added."
   ]
  }
 ],
 "metadata": {
  "ipub": {
   "bibliography": "fuzzingbook.bib",
   "toc": true
  },
  "kernelspec": {
   "display_name": "Python 3 (ipykernel)",
   "language": "python",
   "name": "python3"
  },
  "language_info": {
   "codemirror_mode": {
    "name": "ipython",
    "version": 3
   },
   "file_extension": ".py",
   "mimetype": "text/x-python",
   "name": "python",
   "nbconvert_exporter": "python",
   "pygments_lexer": "ipython3",
   "version": "3.9.7"
  },
  "toc": {
   "base_numbering": 1,
   "nav_menu": {},
   "number_sections": true,
   "sideBar": true,
   "skip_h1_title": true,
   "title_cell": "",
   "title_sidebar": "Contents",
   "toc_cell": false,
   "toc_position": {},
   "toc_section_display": true,
   "toc_window_display": true
  },
  "toc-autonumbering": false,
  "varInspector": {
   "cols": {
    "lenName": 16,
    "lenType": 16,
    "lenVar": 40
   },
   "kernels_config": {
    "python": {
     "delete_cmd_postfix": "",
     "delete_cmd_prefix": "del ",
     "library": "var_list.py",
     "varRefreshCmd": "print(var_dic_list())"
    },
    "r": {
     "delete_cmd_postfix": ") ",
     "delete_cmd_prefix": "rm(",
     "library": "var_list.r",
     "varRefreshCmd": "cat(var_dic_list()) "
    }
   },
   "types_to_exclude": [
    "module",
    "function",
    "builtin_function_or_method",
    "instance",
    "_Feature"
   ],
   "window_display": false
  }
 },
 "nbformat": 4,
 "nbformat_minor": 4
}