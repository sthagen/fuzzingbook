{
 "cells": [
  {
   "cell_type": "markdown",
   "metadata": {
    "button": false,
    "new_sheet": false,
    "run_control": {
     "read_only": false
    },
    "slideshow": {
     "slide_type": "slide"
    },
    "tags": []
   },
   "source": [
    "# Code Coverage\n",
    "\n",
    "In the [previous chapter](Fuzzer.ipynb), we introduced _basic fuzzing_ – that is, generating random inputs to test programs.  How do we measure the effectiveness of these tests?  One way would be to check the number (and seriousness) of bugs found; but if bugs are scarce, we need a _proxy for the likelihood of a test to uncover a bug._  In this chapter, we introduce the concept of *code coverage*, measuring which parts of a program are actually executed during a test run.  Measuring such coverage is also crucial for test generators that attempt to cover as much code as possible."
   ]
  },
  {
   "cell_type": "code",
   "execution_count": 1,
   "metadata": {
    "execution": {
     "iopub.execute_input": "2022-08-01T12:58:10.597093Z",
     "iopub.status.busy": "2022-08-01T12:58:10.596933Z",
     "iopub.status.idle": "2022-08-01T12:58:10.653587Z",
     "shell.execute_reply": "2022-08-01T12:58:10.653295Z"
    },
    "slideshow": {
     "slide_type": "skip"
    }
   },
   "outputs": [
    {
     "data": {
      "text/html": [
       "\n",
       "        <iframe\n",
       "            width=\"640\"\n",
       "            height=\"360\"\n",
       "            src=\"https://www.youtube-nocookie.com/embed/8HxW8j9287A\"\n",
       "            frameborder=\"0\"\n",
       "            allowfullscreen\n",
       "            \n",
       "        ></iframe>\n",
       "        "
      ],
      "text/plain": [
       "<IPython.lib.display.IFrame at 0x1083e4bb0>"
      ]
     },
     "execution_count": 1,
     "metadata": {},
     "output_type": "execute_result"
    }
   ],
   "source": [
    "from bookutils import YouTubeVideo\n",
    "YouTubeVideo('8HxW8j9287A')"
   ]
  },
  {
   "cell_type": "markdown",
   "metadata": {
    "button": false,
    "new_sheet": false,
    "run_control": {
     "read_only": false
    },
    "slideshow": {
     "slide_type": "skip"
    }
   },
   "source": [
    "**Prerequisites**\n",
    "\n",
    "* You need some understanding of how a program is executed.\n",
    "* You should have learned about basic fuzzing in the [previous chapter](Fuzzer.ipynb)."
   ]
  },
  {
   "cell_type": "markdown",
   "metadata": {
    "slideshow": {
     "slide_type": "skip"
    },
    "tags": []
   },
   "source": [
    "## Synopsis\n",
    "<!-- Automatically generated. Do not edit. -->\n",
    "\n",
    "To [use the code provided in this chapter](Importing.ipynb), write\n",
    "\n",
    "```python\n",
    ">>> from fuzzingbook.Coverage import <identifier>\n",
    "```\n",
    "\n",
    "and then make use of the following features.\n",
    "\n",
    "\n",
    "This chapter introduces a `Coverage` class allowing you to measure coverage for Python programs. Within the context of this book, we use coverage information to guide fuzzing towards uncovered locations.\n",
    "\n",
    "The typical usage of the `Coverage` class is in conjunction with a `with` clause:\n",
    "\n",
    "```python\n",
    ">>> with Coverage() as cov:\n",
    ">>>     cgi_decode(\"a+b\")\n",
    "```\n",
    "Printing out a coverage object shows the covered functions, with covered lines prefixed as `#`:\n",
    "\n",
    "```python\n",
    ">>> print(cov)\n",
    "   1  def cgi_decode(s: str) -> str:\n",
    "   2      \"\"\"Decode the CGI-encoded string `s`:\n",
    "   3         * replace '+' by ' '\n",
    "   4         * replace \"%xx\" by the character with hex number xx.\n",
    "   5         Return the decoded string.  Raise `ValueError` for invalid inputs.\"\"\"\n",
    "   6  \n",
    "   7      # Mapping of hex digits to their integer values\n",
    "#  8      hex_values = {\n",
    "#  9          '0': 0, '1': 1, '2': 2, '3': 3, '4': 4,\n",
    "# 10          '5': 5, '6': 6, '7': 7, '8': 8, '9': 9,\n",
    "# 11          'a': 10, 'b': 11, 'c': 12, 'd': 13, 'e': 14, 'f': 15,\n",
    "# 12          'A': 10, 'B': 11, 'C': 12, 'D': 13, 'E': 14, 'F': 15,\n",
    "  13      }\n",
    "  14  \n",
    "# 15      t = \"\"\n",
    "# 16      i = 0\n",
    "# 17      while i < len(s):\n",
    "# 18          c = s[i]\n",
    "# 19          if c == '+':\n",
    "# 20              t += ' '\n",
    "# 21          elif c == '%':\n",
    "  22              digit_high, digit_low = s[i + 1], s[i + 2]\n",
    "  23              i += 2\n",
    "  24              if digit_high in hex_values and digit_low in hex_values:\n",
    "  25                  v = hex_values[digit_high] * 16 + hex_values[digit_low]\n",
    "  26                  t += chr(v)\n",
    "  27              else:\n",
    "  28                  raise ValueError(\"Invalid encoding\")\n",
    "  29          else:\n",
    "# 30              t += c\n",
    "# 31          i += 1\n",
    "# 32      return t\n",
    "\n",
    "\n",
    "```\n",
    "The `trace()` method returns the _trace_ – that is, the list of locations executed in order. Each location comes as a pair (`function name`, `line`).\n",
    "\n",
    "```python\n",
    ">>> cov.trace()\n",
    "[('cgi_decode', 9),\n",
    " ('cgi_decode', 10),\n",
    " ('cgi_decode', 11),\n",
    " ('cgi_decode', 12),\n",
    " ('cgi_decode', 8),\n",
    " ('cgi_decode', 15),\n",
    " ('cgi_decode', 16),\n",
    " ('cgi_decode', 17),\n",
    " ('cgi_decode', 18),\n",
    " ('cgi_decode', 19),\n",
    " ('cgi_decode', 21),\n",
    " ('cgi_decode', 30),\n",
    " ('cgi_decode', 31),\n",
    " ('cgi_decode', 17),\n",
    " ('cgi_decode', 18),\n",
    " ('cgi_decode', 19),\n",
    " ('cgi_decode', 20),\n",
    " ('cgi_decode', 31),\n",
    " ('cgi_decode', 17),\n",
    " ('cgi_decode', 18),\n",
    " ('cgi_decode', 19),\n",
    " ('cgi_decode', 21),\n",
    " ('cgi_decode', 30),\n",
    " ('cgi_decode', 31),\n",
    " ('cgi_decode', 17),\n",
    " ('cgi_decode', 32)]\n",
    "```\n",
    "The `coverage()` method returns the _coverage_, that is, the set of locations in the trace executed at least once:\n",
    "\n",
    "```python\n",
    ">>> cov.coverage()\n",
    "{('cgi_decode', 8),\n",
    " ('cgi_decode', 9),\n",
    " ('cgi_decode', 10),\n",
    " ('cgi_decode', 11),\n",
    " ('cgi_decode', 12),\n",
    " ('cgi_decode', 15),\n",
    " ('cgi_decode', 16),\n",
    " ('cgi_decode', 17),\n",
    " ('cgi_decode', 18),\n",
    " ('cgi_decode', 19),\n",
    " ('cgi_decode', 20),\n",
    " ('cgi_decode', 21),\n",
    " ('cgi_decode', 30),\n",
    " ('cgi_decode', 31),\n",
    " ('cgi_decode', 32)}\n",
    "```\n",
    "Coverage sets can be subject to set operations, such as _intersection_ (which locations are covered in multiple executions) and _difference_ (which locations are covered in run _a_, but not _b_).\n",
    "\n",
    "The chapter also discusses how to obtain such coverage from C programs.\n",
    "\n",
    "![](PICS/Coverage-synopsis-1.svg)\n",
    "\n"
   ]
  },
  {
   "cell_type": "code",
   "execution_count": 2,
   "metadata": {
    "execution": {
     "iopub.execute_input": "2022-08-01T12:58:10.667148Z",
     "iopub.status.busy": "2022-08-01T12:58:10.666988Z",
     "iopub.status.idle": "2022-08-01T12:58:10.669037Z",
     "shell.execute_reply": "2022-08-01T12:58:10.668544Z"
    },
    "slideshow": {
     "slide_type": "skip"
    }
   },
   "outputs": [],
   "source": [
    "import bookutils"
   ]
  },
  {
   "cell_type": "code",
   "execution_count": 3,
   "metadata": {
    "execution": {
     "iopub.execute_input": "2022-08-01T12:58:10.671013Z",
     "iopub.status.busy": "2022-08-01T12:58:10.670881Z",
     "iopub.status.idle": "2022-08-01T12:58:10.672634Z",
     "shell.execute_reply": "2022-08-01T12:58:10.672386Z"
    },
    "slideshow": {
     "slide_type": "subslide"
    }
   },
   "outputs": [],
   "source": [
    "# ignore\n",
    "from typing import Any, Optional, Callable, List, Type, Set, Tuple"
   ]
  },
  {
   "cell_type": "markdown",
   "metadata": {
    "button": false,
    "new_sheet": false,
    "run_control": {
     "read_only": false
    },
    "slideshow": {
     "slide_type": "slide"
    }
   },
   "source": [
    "## A CGI Decoder\n",
    "\n",
    "We start by introducing a simple Python function that decodes a CGI-encoded string.  CGI encoding is used in URLs (i.e., Web addresses) to encode characters that would be invalid in a URL, such as blanks and certain punctuation:\n",
    "\n",
    "* Blanks are replaced by `'+'`\n",
    "* Other invalid characters are replaced by '`%xx`', where `xx` is the two-digit hexadecimal equivalent.\n",
    "\n",
    "In CGI encoding, the string `\"Hello, world!\"` would thus become `\"Hello%2c+world%21\"` where `2c` and `21` are the hexadecimal equivalents of `','` and `'!'`, respectively.\n",
    "\n",
    "The function `cgi_decode()` takes such an encoded string and decodes it back to its original form.  Our implementation replicates the code from \\cite{Pezze2008}.  (It even includes its bugs – but we won't reveal them at this point.)"
   ]
  },
  {
   "cell_type": "code",
   "execution_count": 4,
   "metadata": {
    "button": false,
    "execution": {
     "iopub.execute_input": "2022-08-01T12:58:10.674050Z",
     "iopub.status.busy": "2022-08-01T12:58:10.673949Z",
     "iopub.status.idle": "2022-08-01T12:58:10.677429Z",
     "shell.execute_reply": "2022-08-01T12:58:10.677140Z"
    },
    "new_sheet": false,
    "run_control": {
     "read_only": false
    },
    "slideshow": {
     "slide_type": "subslide"
    }
   },
   "outputs": [],
   "source": [
    "def cgi_decode(s: str) -> str:\n",
    "    \"\"\"Decode the CGI-encoded string `s`:\n",
    "       * replace '+' by ' '\n",
    "       * replace \"%xx\" by the character with hex number xx.\n",
    "       Return the decoded string.  Raise `ValueError` for invalid inputs.\"\"\"\n",
    "\n",
    "    # Mapping of hex digits to their integer values\n",
    "    hex_values = {\n",
    "        '0': 0, '1': 1, '2': 2, '3': 3, '4': 4,\n",
    "        '5': 5, '6': 6, '7': 7, '8': 8, '9': 9,\n",
    "        'a': 10, 'b': 11, 'c': 12, 'd': 13, 'e': 14, 'f': 15,\n",
    "        'A': 10, 'B': 11, 'C': 12, 'D': 13, 'E': 14, 'F': 15,\n",
    "    }\n",
    "\n",
    "    t = \"\"\n",
    "    i = 0\n",
    "    while i < len(s):\n",
    "        c = s[i]\n",
    "        if c == '+':\n",
    "            t += ' '\n",
    "        elif c == '%':\n",
    "            digit_high, digit_low = s[i + 1], s[i + 2]\n",
    "            i += 2\n",
    "            if digit_high in hex_values and digit_low in hex_values:\n",
    "                v = hex_values[digit_high] * 16 + hex_values[digit_low]\n",
    "                t += chr(v)\n",
    "            else:\n",
    "                raise ValueError(\"Invalid encoding\")\n",
    "        else:\n",
    "            t += c\n",
    "        i += 1\n",
    "    return t"
   ]
  },
  {
   "cell_type": "markdown",
   "metadata": {
    "button": false,
    "new_sheet": false,
    "run_control": {
     "read_only": false
    },
    "slideshow": {
     "slide_type": "subslide"
    }
   },
   "source": [
    "Here is an example of how `cgi_decode()` works:"
   ]
  },
  {
   "cell_type": "code",
   "execution_count": 5,
   "metadata": {
    "button": false,
    "execution": {
     "iopub.execute_input": "2022-08-01T12:58:10.678996Z",
     "iopub.status.busy": "2022-08-01T12:58:10.678896Z",
     "iopub.status.idle": "2022-08-01T12:58:10.681497Z",
     "shell.execute_reply": "2022-08-01T12:58:10.681201Z"
    },
    "new_sheet": false,
    "run_control": {
     "read_only": false
    },
    "slideshow": {
     "slide_type": "fragment"
    }
   },
   "outputs": [
    {
     "data": {
      "text/plain": [
       "'Hello world'"
      ]
     },
     "execution_count": 5,
     "metadata": {},
     "output_type": "execute_result"
    }
   ],
   "source": [
    "cgi_decode(\"Hello+world\")"
   ]
  },
  {
   "cell_type": "markdown",
   "metadata": {
    "button": false,
    "new_sheet": false,
    "run_control": {
     "read_only": false
    },
    "slideshow": {
     "slide_type": "fragment"
    }
   },
   "source": [
    "If we want to systematically test `cgi_decode()`, how would we proceed?"
   ]
  },
  {
   "cell_type": "markdown",
   "metadata": {
    "button": false,
    "new_sheet": false,
    "run_control": {
     "read_only": false
    },
    "slideshow": {
     "slide_type": "skip"
    }
   },
   "source": [
    "The testing literature distinguishes two ways of deriving tests: _Black-box testing_ and _White-box testing._"
   ]
  },
  {
   "cell_type": "markdown",
   "metadata": {
    "button": false,
    "new_sheet": false,
    "run_control": {
     "read_only": false
    },
    "slideshow": {
     "slide_type": "slide"
    }
   },
   "source": [
    "## Black-Box Testing\n",
    "\n",
    "The idea of *black-box testing* is to derive tests from the _specification_.  In the above case, we thus would have to test `cgi_decode()` by the features specified and documented, including\n",
    "\n",
    "* testing for correct replacement of `'+'`;\n",
    "* testing for correct replacement of `\"%xx\"`;\n",
    "* testing for non-replacement of other characters; and\n",
    "* testing for recognition of illegal inputs.\n",
    "\n",
    "Here are four assertions (tests) that cover these four features.  We can see that they all pass:"
   ]
  },
  {
   "cell_type": "code",
   "execution_count": 6,
   "metadata": {
    "button": false,
    "execution": {
     "iopub.execute_input": "2022-08-01T12:58:10.683568Z",
     "iopub.status.busy": "2022-08-01T12:58:10.683434Z",
     "iopub.status.idle": "2022-08-01T12:58:10.685654Z",
     "shell.execute_reply": "2022-08-01T12:58:10.685277Z"
    },
    "new_sheet": false,
    "run_control": {
     "read_only": false
    },
    "slideshow": {
     "slide_type": "fragment"
    }
   },
   "outputs": [],
   "source": [
    "assert cgi_decode('+') == ' '\n",
    "assert cgi_decode('%20') == ' '\n",
    "assert cgi_decode('abc') == 'abc'\n",
    "\n",
    "try:\n",
    "    cgi_decode('%?a')\n",
    "    assert False\n",
    "except ValueError:\n",
    "    pass"
   ]
  },
  {
   "cell_type": "markdown",
   "metadata": {
    "button": false,
    "new_sheet": false,
    "run_control": {
     "read_only": false
    },
    "slideshow": {
     "slide_type": "subslide"
    }
   },
   "source": [
    "The advantage of black-box testing is that it finds errors in the _specified_ behavior.  It is independent from a given implementation, and thus allows to create test even before implementation.  The downside is that _implemented_ behavior typically covers more ground than _specified_ behavior, and thus tests based on specification alone typically do not cover all implementation details."
   ]
  },
  {
   "cell_type": "markdown",
   "metadata": {
    "button": false,
    "new_sheet": false,
    "run_control": {
     "read_only": false
    },
    "slideshow": {
     "slide_type": "slide"
    }
   },
   "source": [
    "## White-Box Testing\n",
    "\n",
    "In contrast to black-box testing, *white-box testing* derives tests from the _implementation_, notably the internal structure.  White-Box testing is closely tied to the concept of _covering_ structural features of the code.  If a statement in the code is not executed during testing, for instance, this means that an error in this statement cannot be triggered either.  White-Box testing thus introduces a number of *coverage criteria* that have to be fulfilled before the test can be said to be sufficient.  The most frequently used coverage criteria are\n",
    "\n",
    "* *Statement coverage* – each statement in the code must be executed by at least one test input.\n",
    "* *Branch coverage* – each branch in the code must be taken by at least one test input.  (This translates to each `if` and `while` decision once being true, and once being false.)\n",
    "\n",
    "Besides these, there are far more coverage criteria, including sequences of branches taken, loop iterations taken (zero, one, many), data flows between variable definitions and usages, and many more; \\cite{Pezze2008} has a great overview."
   ]
  },
  {
   "cell_type": "markdown",
   "metadata": {
    "button": false,
    "new_sheet": false,
    "run_control": {
     "read_only": false
    },
    "slideshow": {
     "slide_type": "subslide"
    }
   },
   "source": [
    "Let us consider `cgi_decode()`, above, and reason what we have to do such that each statement of the code is executed at least once.  We'd have to cover\n",
    "\n",
    "* The block following `if c == '+'`\n",
    "* The two blocks following `if c == '%'` (one for valid input, one for invalid)\n",
    "* The final `else` case for all other characters.\n",
    "\n",
    "This results in the same conditions as with black-box testing, above; again, the assertions above indeed would cover every statement in the code.  Such a correspondence is actually pretty common, since programmers tend to implement different behaviors in different code locations; and thus, covering these locations will lead to test cases that cover the different (specified) behaviors.\n",
    "\n",
    "The advantage of white-box testing is that it finds errors in _implemented_ behavior.  It can be conducted even in cases where the specification does not provide sufficient details; actually, it helps in identifying (and thus specifying) corner cases in the specification.  The downside is that it may miss _non-implemented_ behavior: If some specified functionality is missing, white-box testing will not find it."
   ]
  },
  {
   "cell_type": "markdown",
   "metadata": {
    "button": false,
    "new_sheet": false,
    "run_control": {
     "read_only": false
    },
    "slideshow": {
     "slide_type": "slide"
    }
   },
   "source": [
    "## Tracing Executions\n",
    "\n",
    "One nice feature of white-box testing is that one can actually automatically assess whether some program feature was covered.  To this end, one _instruments_ the execution of the program such that during execution, a special functionality keeps track of which code was executed.  After testing, this information can be passed to the programmer, who can then focus on writing tests that cover the yet uncovered code."
   ]
  },
  {
   "cell_type": "markdown",
   "metadata": {
    "button": false,
    "new_sheet": false,
    "run_control": {
     "read_only": false
    },
    "slideshow": {
     "slide_type": "subslide"
    }
   },
   "source": [
    "In most programming languages, it is rather difficult to set up programs such that one can trace their execution.  Not so in Python.  The function `sys.settrace(f)` allows to define a *tracing function* `f()` that is called for each and every line executed.  Even better, it gets access to the current function and its name, current variable contents, and more.  It is thus an ideal tool for *dynamic analysis* – that is, the analysis of what actually happens during an execution."
   ]
  },
  {
   "cell_type": "markdown",
   "metadata": {
    "button": false,
    "new_sheet": false,
    "run_control": {
     "read_only": false
    },
    "slideshow": {
     "slide_type": "subslide"
    }
   },
   "source": [
    "To illustrate how this works, let us again look into a specific execution of `cgi_decode()`."
   ]
  },
  {
   "cell_type": "code",
   "execution_count": 7,
   "metadata": {
    "button": false,
    "execution": {
     "iopub.execute_input": "2022-08-01T12:58:10.687586Z",
     "iopub.status.busy": "2022-08-01T12:58:10.687455Z",
     "iopub.status.idle": "2022-08-01T12:58:10.689906Z",
     "shell.execute_reply": "2022-08-01T12:58:10.689525Z"
    },
    "new_sheet": false,
    "run_control": {
     "read_only": false
    },
    "slideshow": {
     "slide_type": "fragment"
    }
   },
   "outputs": [
    {
     "data": {
      "text/plain": [
       "'a b'"
      ]
     },
     "execution_count": 7,
     "metadata": {},
     "output_type": "execute_result"
    }
   ],
   "source": [
    "cgi_decode(\"a+b\")"
   ]
  },
  {
   "cell_type": "markdown",
   "metadata": {
    "button": false,
    "new_sheet": false,
    "run_control": {
     "read_only": false
    },
    "slideshow": {
     "slide_type": "subslide"
    }
   },
   "source": [
    "To track how the execution proceeds through `cgi_decode()`, we make use of `sys.settrace()`.  First, we define the _tracing function_ that will be called for each line.  It has three parameters: \n",
    "\n",
    "* The `frame` parameter gets you the current _frame_, allowing access to the current location and variables:\n",
    "    * `frame.f_code` is the currently executed code with `frame.f_code.co_name` being the function name;\n",
    "    * `frame.f_lineno` holds the current line number; and\n",
    "    * `frame.f_locals` holds the current local variables and arguments.\n",
    "* The `event` parameter is a string with values including `\"line\"` (a new line has been reached) or `\"call\"` (a function is being called).\n",
    "* The `arg` parameter is an additional _argument_ for some events; for `\"return\"` events, for instance, `arg` holds the value being returned."
   ]
  },
  {
   "cell_type": "markdown",
   "metadata": {
    "button": false,
    "new_sheet": false,
    "run_control": {
     "read_only": false
    },
    "slideshow": {
     "slide_type": "subslide"
    }
   },
   "source": [
    "We use the tracing function for simply reporting the current line executed, which we access through the `frame` argument."
   ]
  },
  {
   "cell_type": "code",
   "execution_count": 8,
   "metadata": {
    "execution": {
     "iopub.execute_input": "2022-08-01T12:58:10.691524Z",
     "iopub.status.busy": "2022-08-01T12:58:10.691406Z",
     "iopub.status.idle": "2022-08-01T12:58:10.693037Z",
     "shell.execute_reply": "2022-08-01T12:58:10.692807Z"
    },
    "slideshow": {
     "slide_type": "skip"
    }
   },
   "outputs": [],
   "source": [
    "from types import FrameType, TracebackType"
   ]
  },
  {
   "cell_type": "code",
   "execution_count": 9,
   "metadata": {
    "button": false,
    "execution": {
     "iopub.execute_input": "2022-08-01T12:58:10.694622Z",
     "iopub.status.busy": "2022-08-01T12:58:10.694492Z",
     "iopub.status.idle": "2022-08-01T12:58:10.696192Z",
     "shell.execute_reply": "2022-08-01T12:58:10.695941Z"
    },
    "new_sheet": false,
    "run_control": {
     "read_only": false
    },
    "slideshow": {
     "slide_type": "fragment"
    }
   },
   "outputs": [],
   "source": [
    "coverage = []"
   ]
  },
  {
   "cell_type": "code",
   "execution_count": 10,
   "metadata": {
    "button": false,
    "execution": {
     "iopub.execute_input": "2022-08-01T12:58:10.697700Z",
     "iopub.status.busy": "2022-08-01T12:58:10.697596Z",
     "iopub.status.idle": "2022-08-01T12:58:10.699711Z",
     "shell.execute_reply": "2022-08-01T12:58:10.699453Z"
    },
    "new_sheet": false,
    "run_control": {
     "read_only": false
    },
    "slideshow": {
     "slide_type": "fragment"
    }
   },
   "outputs": [],
   "source": [
    "def traceit(frame: FrameType, event: str, arg: Any) -> Optional[Callable]:\n",
    "    \"\"\"Trace program execution. To be passed to sys.settrace().\"\"\"\n",
    "    if event == 'line':\n",
    "        global coverage\n",
    "        function_name = frame.f_code.co_name\n",
    "        lineno = frame.f_lineno\n",
    "        coverage.append(lineno)\n",
    "\n",
    "    return traceit"
   ]
  },
  {
   "cell_type": "markdown",
   "metadata": {
    "button": false,
    "new_sheet": false,
    "run_control": {
     "read_only": false
    },
    "slideshow": {
     "slide_type": "subslide"
    }
   },
   "source": [
    "We can switch tracing on and off with `sys.settrace()`:"
   ]
  },
  {
   "cell_type": "code",
   "execution_count": 11,
   "metadata": {
    "button": false,
    "execution": {
     "iopub.execute_input": "2022-08-01T12:58:10.701281Z",
     "iopub.status.busy": "2022-08-01T12:58:10.701155Z",
     "iopub.status.idle": "2022-08-01T12:58:10.702773Z",
     "shell.execute_reply": "2022-08-01T12:58:10.702503Z"
    },
    "new_sheet": false,
    "run_control": {
     "read_only": false
    },
    "slideshow": {
     "slide_type": "skip"
    }
   },
   "outputs": [],
   "source": [
    "import sys"
   ]
  },
  {
   "cell_type": "code",
   "execution_count": 12,
   "metadata": {
    "button": false,
    "execution": {
     "iopub.execute_input": "2022-08-01T12:58:10.704423Z",
     "iopub.status.busy": "2022-08-01T12:58:10.704262Z",
     "iopub.status.idle": "2022-08-01T12:58:10.706364Z",
     "shell.execute_reply": "2022-08-01T12:58:10.706090Z"
    },
    "new_sheet": false,
    "run_control": {
     "read_only": false
    },
    "slideshow": {
     "slide_type": "fragment"
    }
   },
   "outputs": [],
   "source": [
    "def cgi_decode_traced(s: str) -> None:\n",
    "    global coverage\n",
    "    coverage = []\n",
    "    sys.settrace(traceit)  # Turn on\n",
    "    cgi_decode(s)\n",
    "    sys.settrace(None)    # Turn off"
   ]
  },
  {
   "cell_type": "markdown",
   "metadata": {
    "button": false,
    "new_sheet": false,
    "run_control": {
     "read_only": false
    },
    "slideshow": {
     "slide_type": "subslide"
    }
   },
   "source": [
    "When we compute `cgi_decode(\"a+b\")`, we can now see how the execution progresses through `cgi_decode()`.  After the initialization of `hex_values`, `t`, and `i`, we see that the `while` loop is taken three times – one for every character in the input."
   ]
  },
  {
   "cell_type": "code",
   "execution_count": 13,
   "metadata": {
    "button": false,
    "execution": {
     "iopub.execute_input": "2022-08-01T12:58:10.707892Z",
     "iopub.status.busy": "2022-08-01T12:58:10.707769Z",
     "iopub.status.idle": "2022-08-01T12:58:10.709678Z",
     "shell.execute_reply": "2022-08-01T12:58:10.709449Z"
    },
    "new_sheet": false,
    "run_control": {
     "read_only": false
    },
    "slideshow": {
     "slide_type": "fragment"
    }
   },
   "outputs": [
    {
     "name": "stdout",
     "output_type": "stream",
     "text": [
      "[9, 10, 11, 12, 8, 15, 16, 17, 18, 19, 21, 30, 31, 17, 18, 19, 20, 31, 17, 18, 19, 21, 30, 31, 17, 32]\n"
     ]
    }
   ],
   "source": [
    "cgi_decode_traced(\"a+b\")\n",
    "print(coverage)"
   ]
  },
  {
   "cell_type": "markdown",
   "metadata": {
    "button": false,
    "new_sheet": false,
    "run_control": {
     "read_only": false
    },
    "slideshow": {
     "slide_type": "subslide"
    }
   },
   "source": [
    "Which lines are these, actually?  To this end, we get the source code of `cgi_decode_code` and encode it into an array `cgi_decode_lines`, which we will then annotate with coverage information.  First, let us get the source code of `cgi_encode`:"
   ]
  },
  {
   "cell_type": "code",
   "execution_count": 14,
   "metadata": {
    "execution": {
     "iopub.execute_input": "2022-08-01T12:58:10.711202Z",
     "iopub.status.busy": "2022-08-01T12:58:10.710992Z",
     "iopub.status.idle": "2022-08-01T12:58:10.712702Z",
     "shell.execute_reply": "2022-08-01T12:58:10.712456Z"
    },
    "slideshow": {
     "slide_type": "skip"
    }
   },
   "outputs": [],
   "source": [
    "import inspect"
   ]
  },
  {
   "cell_type": "code",
   "execution_count": 15,
   "metadata": {
    "execution": {
     "iopub.execute_input": "2022-08-01T12:58:10.714045Z",
     "iopub.status.busy": "2022-08-01T12:58:10.713945Z",
     "iopub.status.idle": "2022-08-01T12:58:10.716401Z",
     "shell.execute_reply": "2022-08-01T12:58:10.716179Z"
    },
    "slideshow": {
     "slide_type": "fragment"
    }
   },
   "outputs": [],
   "source": [
    "cgi_decode_code = inspect.getsource(cgi_decode)"
   ]
  },
  {
   "cell_type": "markdown",
   "metadata": {
    "slideshow": {
     "slide_type": "fragment"
    }
   },
   "source": [
    "`cgi_decode_code` is a string holding the source code.  We can print it out with Python syntax highlighting:"
   ]
  },
  {
   "cell_type": "code",
   "execution_count": 16,
   "metadata": {
    "execution": {
     "iopub.execute_input": "2022-08-01T12:58:10.717718Z",
     "iopub.status.busy": "2022-08-01T12:58:10.717616Z",
     "iopub.status.idle": "2022-08-01T12:58:10.719303Z",
     "shell.execute_reply": "2022-08-01T12:58:10.719020Z"
    },
    "slideshow": {
     "slide_type": "skip"
    }
   },
   "outputs": [],
   "source": [
    "from bookutils import print_content, print_file"
   ]
  },
  {
   "cell_type": "code",
   "execution_count": 17,
   "metadata": {
    "execution": {
     "iopub.execute_input": "2022-08-01T12:58:10.720872Z",
     "iopub.status.busy": "2022-08-01T12:58:10.720756Z",
     "iopub.status.idle": "2022-08-01T12:58:10.827132Z",
     "shell.execute_reply": "2022-08-01T12:58:10.826786Z"
    },
    "slideshow": {
     "slide_type": "subslide"
    }
   },
   "outputs": [
    {
     "name": "stdout",
     "output_type": "stream",
     "text": [
      "\u001b[34mdef\u001b[39;49;00m \u001b[32mcgi_decode\u001b[39;49;00m(s: \u001b[36mstr\u001b[39;49;00m) -> \u001b[36mstr\u001b[39;49;00m:\n",
      "    \u001b[33m\"\"\"Decode the CGI-encoded string `s`:\u001b[39;49;00m\n",
      "\u001b[33m       * replace '+' by ' '\u001b[39;49;00m\n",
      "\u001b[33m       * replace \"%xx\" by the character with hex number xx.\u001b[39;49;00m\n",
      "\u001b[33m       Return the decoded string.  Raise `ValueError` for invalid inputs.\"\"\"\u001b[39;49;00m\n",
      "\n",
      "    \u001b[37m# Mapping of hex digits to their integer values\u001b[39;49;00m\n",
      "    hex_v..."
     ]
    }
   ],
   "source": [
    "print_content(cgi_decode_code[:300] + \"...\", \".py\")"
   ]
  },
  {
   "cell_type": "markdown",
   "metadata": {
    "slideshow": {
     "slide_type": "fragment"
    }
   },
   "source": [
    "Using `splitlines()`, we split the code into an array of lines, indexed by line number."
   ]
  },
  {
   "cell_type": "code",
   "execution_count": 18,
   "metadata": {
    "button": false,
    "execution": {
     "iopub.execute_input": "2022-08-01T12:58:10.828926Z",
     "iopub.status.busy": "2022-08-01T12:58:10.828789Z",
     "iopub.status.idle": "2022-08-01T12:58:10.832253Z",
     "shell.execute_reply": "2022-08-01T12:58:10.831926Z"
    },
    "new_sheet": false,
    "run_control": {
     "read_only": false
    },
    "slideshow": {
     "slide_type": "subslide"
    }
   },
   "outputs": [],
   "source": [
    "cgi_decode_lines = [\"\"] + cgi_decode_code.splitlines()"
   ]
  },
  {
   "cell_type": "markdown",
   "metadata": {
    "slideshow": {
     "slide_type": "fragment"
    }
   },
   "source": [
    "`cgi_decode_lines[L]` is line L of the source code."
   ]
  },
  {
   "cell_type": "code",
   "execution_count": 19,
   "metadata": {
    "button": false,
    "execution": {
     "iopub.execute_input": "2022-08-01T12:58:10.833772Z",
     "iopub.status.busy": "2022-08-01T12:58:10.833662Z",
     "iopub.status.idle": "2022-08-01T12:58:10.835723Z",
     "shell.execute_reply": "2022-08-01T12:58:10.835472Z"
    },
    "new_sheet": false,
    "run_control": {
     "read_only": false
    },
    "slideshow": {
     "slide_type": "subslide"
    }
   },
   "outputs": [
    {
     "data": {
      "text/plain": [
       "'def cgi_decode(s: str) -> str:'"
      ]
     },
     "execution_count": 19,
     "metadata": {},
     "output_type": "execute_result"
    }
   ],
   "source": [
    "cgi_decode_lines[1]"
   ]
  },
  {
   "cell_type": "markdown",
   "metadata": {
    "button": false,
    "new_sheet": false,
    "run_control": {
     "read_only": false
    },
    "slideshow": {
     "slide_type": "subslide"
    }
   },
   "source": [
    "We see that the first line (9) executed is actually the initialization of `hex_values`..."
   ]
  },
  {
   "cell_type": "code",
   "execution_count": 20,
   "metadata": {
    "button": false,
    "execution": {
     "iopub.execute_input": "2022-08-01T12:58:10.837171Z",
     "iopub.status.busy": "2022-08-01T12:58:10.837056Z",
     "iopub.status.idle": "2022-08-01T12:58:10.839151Z",
     "shell.execute_reply": "2022-08-01T12:58:10.838910Z"
    },
    "new_sheet": false,
    "run_control": {
     "read_only": false
    },
    "slideshow": {
     "slide_type": "fragment"
    }
   },
   "outputs": [
    {
     "data": {
      "text/plain": [
       "[\"        '0': 0, '1': 1, '2': 2, '3': 3, '4': 4,\",\n",
       " \"        '5': 5, '6': 6, '7': 7, '8': 8, '9': 9,\",\n",
       " \"        'a': 10, 'b': 11, 'c': 12, 'd': 13, 'e': 14, 'f': 15,\",\n",
       " \"        'A': 10, 'B': 11, 'C': 12, 'D': 13, 'E': 14, 'F': 15,\"]"
      ]
     },
     "execution_count": 20,
     "metadata": {},
     "output_type": "execute_result"
    }
   ],
   "source": [
    "cgi_decode_lines[9:13]"
   ]
  },
  {
   "cell_type": "markdown",
   "metadata": {
    "button": false,
    "new_sheet": false,
    "run_control": {
     "read_only": false
    },
    "slideshow": {
     "slide_type": "fragment"
    }
   },
   "source": [
    "... followed by the initialization of `t`:"
   ]
  },
  {
   "cell_type": "code",
   "execution_count": 21,
   "metadata": {
    "button": false,
    "execution": {
     "iopub.execute_input": "2022-08-01T12:58:10.840582Z",
     "iopub.status.busy": "2022-08-01T12:58:10.840469Z",
     "iopub.status.idle": "2022-08-01T12:58:10.842519Z",
     "shell.execute_reply": "2022-08-01T12:58:10.842249Z"
    },
    "new_sheet": false,
    "run_control": {
     "read_only": false
    },
    "slideshow": {
     "slide_type": "fragment"
    }
   },
   "outputs": [
    {
     "data": {
      "text/plain": [
       "'    t = \"\"'"
      ]
     },
     "execution_count": 21,
     "metadata": {},
     "output_type": "execute_result"
    }
   ],
   "source": [
    "cgi_decode_lines[15]"
   ]
  },
  {
   "cell_type": "markdown",
   "metadata": {
    "button": false,
    "new_sheet": false,
    "run_control": {
     "read_only": false
    },
    "slideshow": {
     "slide_type": "subslide"
    }
   },
   "source": [
    "To see which lines actually have been covered at least once, we can convert `coverage` into a set:"
   ]
  },
  {
   "cell_type": "code",
   "execution_count": 22,
   "metadata": {
    "button": false,
    "execution": {
     "iopub.execute_input": "2022-08-01T12:58:10.844401Z",
     "iopub.status.busy": "2022-08-01T12:58:10.844271Z",
     "iopub.status.idle": "2022-08-01T12:58:10.846204Z",
     "shell.execute_reply": "2022-08-01T12:58:10.845875Z"
    },
    "new_sheet": false,
    "run_control": {
     "read_only": false
    },
    "slideshow": {
     "slide_type": "fragment"
    }
   },
   "outputs": [
    {
     "name": "stdout",
     "output_type": "stream",
     "text": [
      "{32, 8, 9, 10, 11, 12, 15, 16, 17, 18, 19, 20, 21, 30, 31}\n"
     ]
    }
   ],
   "source": [
    "covered_lines = set(coverage)\n",
    "print(covered_lines)"
   ]
  },
  {
   "cell_type": "markdown",
   "metadata": {
    "button": false,
    "new_sheet": false,
    "run_control": {
     "read_only": false
    },
    "slideshow": {
     "slide_type": "subslide"
    }
   },
   "source": [
    "Let us print out the full code, annotating lines not covered with '#':"
   ]
  },
  {
   "cell_type": "code",
   "execution_count": 23,
   "metadata": {
    "button": false,
    "execution": {
     "iopub.execute_input": "2022-08-01T12:58:10.847675Z",
     "iopub.status.busy": "2022-08-01T12:58:10.847558Z",
     "iopub.status.idle": "2022-08-01T12:58:10.912446Z",
     "shell.execute_reply": "2022-08-01T12:58:10.912107Z"
    },
    "new_sheet": false,
    "run_control": {
     "read_only": false
    },
    "slideshow": {
     "slide_type": "subslide"
    }
   },
   "outputs": [
    {
     "name": "stdout",
     "output_type": "stream",
     "text": [
      "#  1  \u001b[34mdef\u001b[39;49;00m \u001b[32mcgi_decode\u001b[39;49;00m(s: \u001b[36mstr\u001b[39;49;00m) -> \u001b[36mstr\u001b[39;49;00m:\n",
      "#  2      \u001b[33m\"\"\"\u001b[39;49;00m\u001b[33mDecode the CGI-encoded string `s`:\u001b[39;49;00m\u001b[33m\u001b[39;49;00m\n",
      "#  3         * replace \u001b[33m'\u001b[39;49;00m\u001b[33m+\u001b[39;49;00m\u001b[33m'\u001b[39;49;00m by \u001b[33m'\u001b[39;49;00m\u001b[33m \u001b[39;49;00m\u001b[33m'\u001b[39;49;00m\n",
      "#  4         * replace \u001b[33m\"\u001b[39;49;00m\u001b[33m%x\u001b[39;49;00m\u001b[33mx\u001b[39;49;00m\u001b[33m\"\u001b[39;49;00m by the character \u001b[34mwith\u001b[39;49;00m \u001b[36mhex\u001b[39;49;00m number xx.\n",
      "#  5         Return the decoded string.  Raise \u001b[04m\u001b[91m`\u001b[39;49;00m\u001b[36mValueError\u001b[39;49;00m\u001b[04m\u001b[91m`\u001b[39;49;00m \u001b[34mfor\u001b[39;49;00m invalid inputs.\u001b[33m\"\"\"\u001b[39;49;00m\u001b[33m\u001b[39;49;00m\n",
      "#  6  \n",
      "#  7      \u001b[37m# Mapping of hex digits to their integer values\u001b[39;49;00m\n",
      "   8      hex_values = {\n",
      "   9          \u001b[33m'\u001b[39;49;00m\u001b[33m0\u001b[39;49;00m\u001b[33m'\u001b[39;49;00m: \u001b[34m0\u001b[39;49;00m, \u001b[33m'\u001b[39;49;00m\u001b[33m1\u001b[39;49;00m\u001b[33m'\u001b[39;49;00m: \u001b[34m1\u001b[39;49;00m, \u001b[33m'\u001b[39;49;00m\u001b[33m2\u001b[39;49;00m\u001b[33m'\u001b[39;49;00m: \u001b[34m2\u001b[39;49;00m, \u001b[33m'\u001b[39;49;00m\u001b[33m3\u001b[39;49;00m\u001b[33m'\u001b[39;49;00m: \u001b[34m3\u001b[39;49;00m, \u001b[33m'\u001b[39;49;00m\u001b[33m4\u001b[39;49;00m\u001b[33m'\u001b[39;49;00m: \u001b[34m4\u001b[39;49;00m,\n",
      "  10          \u001b[33m'\u001b[39;49;00m\u001b[33m5\u001b[39;49;00m\u001b[33m'\u001b[39;49;00m: \u001b[34m5\u001b[39;49;00m, \u001b[33m'\u001b[39;49;00m\u001b[33m6\u001b[39;49;00m\u001b[33m'\u001b[39;49;00m: \u001b[34m6\u001b[39;49;00m, \u001b[33m'\u001b[39;49;00m\u001b[33m7\u001b[39;49;00m\u001b[33m'\u001b[39;49;00m: \u001b[34m7\u001b[39;49;00m, \u001b[33m'\u001b[39;49;00m\u001b[33m8\u001b[39;49;00m\u001b[33m'\u001b[39;49;00m: \u001b[34m8\u001b[39;49;00m, \u001b[33m'\u001b[39;49;00m\u001b[33m9\u001b[39;49;00m\u001b[33m'\u001b[39;49;00m: \u001b[34m9\u001b[39;49;00m,\n",
      "  11          \u001b[33m'\u001b[39;49;00m\u001b[33ma\u001b[39;49;00m\u001b[33m'\u001b[39;49;00m: \u001b[34m10\u001b[39;49;00m, \u001b[33m'\u001b[39;49;00m\u001b[33mb\u001b[39;49;00m\u001b[33m'\u001b[39;49;00m: \u001b[34m11\u001b[39;49;00m, \u001b[33m'\u001b[39;49;00m\u001b[33mc\u001b[39;49;00m\u001b[33m'\u001b[39;49;00m: \u001b[34m12\u001b[39;49;00m, \u001b[33m'\u001b[39;49;00m\u001b[33md\u001b[39;49;00m\u001b[33m'\u001b[39;49;00m: \u001b[34m13\u001b[39;49;00m, \u001b[33m'\u001b[39;49;00m\u001b[33me\u001b[39;49;00m\u001b[33m'\u001b[39;49;00m: \u001b[34m14\u001b[39;49;00m, \u001b[33m'\u001b[39;49;00m\u001b[33mf\u001b[39;49;00m\u001b[33m'\u001b[39;49;00m: \u001b[34m15\u001b[39;49;00m,\n",
      "  12          \u001b[33m'\u001b[39;49;00m\u001b[33mA\u001b[39;49;00m\u001b[33m'\u001b[39;49;00m: \u001b[34m10\u001b[39;49;00m, \u001b[33m'\u001b[39;49;00m\u001b[33mB\u001b[39;49;00m\u001b[33m'\u001b[39;49;00m: \u001b[34m11\u001b[39;49;00m, \u001b[33m'\u001b[39;49;00m\u001b[33mC\u001b[39;49;00m\u001b[33m'\u001b[39;49;00m: \u001b[34m12\u001b[39;49;00m, \u001b[33m'\u001b[39;49;00m\u001b[33mD\u001b[39;49;00m\u001b[33m'\u001b[39;49;00m: \u001b[34m13\u001b[39;49;00m, \u001b[33m'\u001b[39;49;00m\u001b[33mE\u001b[39;49;00m\u001b[33m'\u001b[39;49;00m: \u001b[34m14\u001b[39;49;00m, \u001b[33m'\u001b[39;49;00m\u001b[33mF\u001b[39;49;00m\u001b[33m'\u001b[39;49;00m: \u001b[34m15\u001b[39;49;00m,\n",
      "# 13      }\n",
      "# 14  \n",
      "  15      t = \u001b[33m\"\u001b[39;49;00m\u001b[33m\"\u001b[39;49;00m\n",
      "  16      i = \u001b[34m0\u001b[39;49;00m\n",
      "  17      \u001b[34mwhile\u001b[39;49;00m i < \u001b[36mlen\u001b[39;49;00m(s):\n",
      "  18          c = s[i]\n",
      "  19          \u001b[34mif\u001b[39;49;00m c == \u001b[33m'\u001b[39;49;00m\u001b[33m+\u001b[39;49;00m\u001b[33m'\u001b[39;49;00m:\n",
      "  20              t += \u001b[33m'\u001b[39;49;00m\u001b[33m \u001b[39;49;00m\u001b[33m'\u001b[39;49;00m\n",
      "  21          \u001b[34melif\u001b[39;49;00m c == \u001b[33m'\u001b[39;49;00m\u001b[33m%\u001b[39;49;00m\u001b[33m'\u001b[39;49;00m:\n",
      "# 22              digit_high, digit_low = s[i + \u001b[34m1\u001b[39;49;00m], s[i + \u001b[34m2\u001b[39;49;00m]\n",
      "# 23              i += \u001b[34m2\u001b[39;49;00m\n",
      "# 24              \u001b[34mif\u001b[39;49;00m digit_high \u001b[35min\u001b[39;49;00m hex_values \u001b[35mand\u001b[39;49;00m digit_low \u001b[35min\u001b[39;49;00m hex_values:\n",
      "# 25                  v = hex_values[digit_high] * \u001b[34m16\u001b[39;49;00m + hex_values[digit_low]\n",
      "# 26                  t += \u001b[36mchr\u001b[39;49;00m(v)\n",
      "# 27              \u001b[34melse\u001b[39;49;00m:\n",
      "# 28                  \u001b[34mraise\u001b[39;49;00m \u001b[36mValueError\u001b[39;49;00m(\u001b[33m\"\u001b[39;49;00m\u001b[33mInvalid encoding\u001b[39;49;00m\u001b[33m\"\u001b[39;49;00m)\n",
      "# 29          \u001b[34melse\u001b[39;49;00m:\n",
      "  30              t += c\n",
      "  31          i += \u001b[34m1\u001b[39;49;00m\n",
      "  32      \u001b[34mreturn\u001b[39;49;00m t\n"
     ]
    }
   ],
   "source": [
    "for lineno in range(1, len(cgi_decode_lines)):\n",
    "    if lineno not in covered_lines:\n",
    "        print(\"# \", end=\"\")\n",
    "    else:\n",
    "        print(\"  \", end=\"\")\n",
    "    print(\"%2d  \" % lineno, end=\"\")\n",
    "    print_content(cgi_decode_lines[lineno], '.py')\n",
    "    print()"
   ]
  },
  {
   "cell_type": "markdown",
   "metadata": {
    "button": false,
    "new_sheet": false,
    "run_control": {
     "read_only": false
    },
    "slideshow": {
     "slide_type": "subslide"
    }
   },
   "source": [
    "We see that a number of lines (notably comments) have not been executed, simply because they are not executable.  However, we also see that the lines under `if c == '%'` have _not_ been executed yet.  If `\"a+b\"` were our only test case so far, this missing coverage would now encourage us to create another test case that actually covers these lines."
   ]
  },
  {
   "cell_type": "markdown",
   "metadata": {
    "button": false,
    "new_sheet": false,
    "run_control": {
     "read_only": false
    },
    "slideshow": {
     "slide_type": "slide"
    }
   },
   "source": [
    "## A Coverage Class\n",
    "\n",
    "In this book, we will make use of coverage again and again – to _measure_ the effectiveness of different test generation techniques, but also to _guide_ test generation towards code coverage.  Our previous implementation with a global `coverage` variable is a bit cumbersome for that.  We therefore implement some functionality that will help us measuring coverage easily."
   ]
  },
  {
   "cell_type": "markdown",
   "metadata": {
    "button": false,
    "new_sheet": false,
    "run_control": {
     "read_only": false
    },
    "slideshow": {
     "slide_type": "subslide"
    }
   },
   "source": [
    "The key idea of getting coverage is to make use of the Python `with` statement.  The general form\n",
    "\n",
    "```python\n",
    "with OBJECT [as VARIABLE]:\n",
    "    BODY\n",
    "```\n",
    "\n",
    "executes `BODY` with `OBJECT` being defined (and stored in `VARIABLE`).  The interesting thing is that at the beginning and end of `BODY`, the special methods `OBJECT.__enter__()` and `OBJECT.__exit__()` are automatically invoked; even if `BODY` raises an exception.  This allows us to define a `Coverage` object where `Coverage.__enter__()` automatically turns on tracing and `Coverage.__exit__()` automatically turns off tracing again.  After tracing, we can make use of special methods to access the coverage.  This is what this looks like during usage:\n",
    "\n",
    "```python\n",
    "with Coverage() as cov:\n",
    "    function_to_be_traced()\n",
    "c = cov.coverage()\n",
    "```\n",
    "\n",
    "Here, tracing is automatically turned on during `function_to_be_traced()` and turned off again after the `with` block; afterwards, we can access the set of lines executed."
   ]
  },
  {
   "cell_type": "markdown",
   "metadata": {
    "button": false,
    "new_sheet": false,
    "run_control": {
     "read_only": false
    },
    "slideshow": {
     "slide_type": "subslide"
    }
   },
   "source": [
    "Here's the full implementation with all its bells and whistles.  You don't have to get everything; it suffices that you know how to use it:"
   ]
  },
  {
   "cell_type": "code",
   "execution_count": 24,
   "metadata": {
    "execution": {
     "iopub.execute_input": "2022-08-01T12:58:10.914337Z",
     "iopub.status.busy": "2022-08-01T12:58:10.914212Z",
     "iopub.status.idle": "2022-08-01T12:58:10.917102Z",
     "shell.execute_reply": "2022-08-01T12:58:10.916807Z"
    },
    "slideshow": {
     "slide_type": "fragment"
    }
   },
   "outputs": [],
   "source": [
    "Location = Tuple[str, int]"
   ]
  },
  {
   "cell_type": "code",
   "execution_count": 25,
   "metadata": {
    "button": false,
    "execution": {
     "iopub.execute_input": "2022-08-01T12:58:10.918738Z",
     "iopub.status.busy": "2022-08-01T12:58:10.918609Z",
     "iopub.status.idle": "2022-08-01T12:58:10.924171Z",
     "shell.execute_reply": "2022-08-01T12:58:10.923884Z"
    },
    "new_sheet": false,
    "run_control": {
     "read_only": false
    },
    "slideshow": {
     "slide_type": "subslide"
    }
   },
   "outputs": [],
   "source": [
    "class Coverage:\n",
    "    \"\"\"Track coverage within a `with` block. Use as\n",
    "    ```\n",
    "    with Coverage() as cov:\n",
    "        function_to_be_traced()\n",
    "    c = cov.coverage()\n",
    "    ```\n",
    "    \"\"\"\n",
    "\n",
    "    def __init__(self) -> None:\n",
    "        \"\"\"Constructor\"\"\"\n",
    "        self._trace: List[Location] = []\n",
    "\n",
    "    # Trace function\n",
    "    def traceit(self, frame: FrameType, event: str, arg: Any) -> Optional[Callable]:\n",
    "        \"\"\"Tracing function. To be overloaded in subclasses.\"\"\"\n",
    "        if self.original_trace_function is not None:\n",
    "            self.original_trace_function(frame, event, arg)\n",
    "\n",
    "        if event == \"line\":\n",
    "            function_name = frame.f_code.co_name\n",
    "            lineno = frame.f_lineno\n",
    "            if function_name != '__exit__':  # avoid tracing ourselves:\n",
    "                self._trace.append((function_name, lineno))\n",
    "\n",
    "        return self.traceit\n",
    "\n",
    "    def __enter__(self) -> Any:\n",
    "        \"\"\"Start of `with` block. Turn on tracing.\"\"\"\n",
    "        self.original_trace_function = sys.gettrace()\n",
    "        sys.settrace(self.traceit)\n",
    "        return self\n",
    "\n",
    "    def __exit__(self, exc_type: Type, exc_value: BaseException, \n",
    "                 tb: TracebackType) -> Optional[bool]:\n",
    "        \"\"\"End of `with` block. Turn off tracing.\"\"\"\n",
    "        sys.settrace(self.original_trace_function)\n",
    "        return None  # default: pass all exceptions\n",
    "\n",
    "    def trace(self) -> List[Location]:\n",
    "        \"\"\"The list of executed lines, as (function_name, line_number) pairs\"\"\"\n",
    "        return self._trace\n",
    "\n",
    "    def coverage(self) -> Set[Location]:\n",
    "        \"\"\"The set of executed lines, as (function_name, line_number) pairs\"\"\"\n",
    "        return set(self.trace())\n",
    "\n",
    "    def function_names(self) -> Set[str]:\n",
    "        \"\"\"The set of function names seen\"\"\"\n",
    "        return set(function_name for (function_name, line_number) in self.coverage())\n",
    "\n",
    "    def __repr__(self) -> str:\n",
    "        \"\"\"Return a string representation of this object.\n",
    "           Show covered (and uncovered) program code\"\"\"\n",
    "        t = \"\"\n",
    "        for function_name in self.function_names():\n",
    "            # Similar code as in the example above\n",
    "            try:\n",
    "                fun = eval(function_name)\n",
    "            except Exception as exc:\n",
    "                t += f\"Skipping {function_name}: {exc}\"\n",
    "                continue\n",
    "\n",
    "            source_lines, start_line_number = inspect.getsourcelines(fun)\n",
    "            for lineno in range(start_line_number, start_line_number + len(source_lines)):\n",
    "                if (function_name, lineno) in self.trace():\n",
    "                    t += \"# \"\n",
    "                else:\n",
    "                    t += \"  \"\n",
    "                t += \"%2d  \" % lineno\n",
    "                t += source_lines[lineno - start_line_number]\n",
    "\n",
    "        return t"
   ]
  },
  {
   "cell_type": "markdown",
   "metadata": {
    "button": false,
    "new_sheet": false,
    "run_control": {
     "read_only": false
    },
    "slideshow": {
     "slide_type": "subslide"
    }
   },
   "source": [
    "Let us put this to use:"
   ]
  },
  {
   "cell_type": "code",
   "execution_count": 26,
   "metadata": {
    "button": false,
    "execution": {
     "iopub.execute_input": "2022-08-01T12:58:10.925810Z",
     "iopub.status.busy": "2022-08-01T12:58:10.925713Z",
     "iopub.status.idle": "2022-08-01T12:58:10.927655Z",
     "shell.execute_reply": "2022-08-01T12:58:10.927405Z"
    },
    "new_sheet": false,
    "run_control": {
     "read_only": false
    },
    "slideshow": {
     "slide_type": "fragment"
    }
   },
   "outputs": [
    {
     "name": "stdout",
     "output_type": "stream",
     "text": [
      "{('cgi_decode', 10), ('cgi_decode', 19), ('cgi_decode', 32), ('cgi_decode', 16), ('cgi_decode', 12), ('cgi_decode', 9), ('cgi_decode', 15), ('cgi_decode', 31), ('cgi_decode', 18), ('cgi_decode', 8), ('cgi_decode', 21), ('cgi_decode', 11), ('cgi_decode', 17), ('cgi_decode', 30), ('cgi_decode', 20)}\n"
     ]
    }
   ],
   "source": [
    "with Coverage() as cov:\n",
    "    cgi_decode(\"a+b\")\n",
    "\n",
    "print(cov.coverage())"
   ]
  },
  {
   "cell_type": "markdown",
   "metadata": {
    "button": false,
    "new_sheet": false,
    "run_control": {
     "read_only": false
    },
    "slideshow": {
     "slide_type": "fragment"
    }
   },
   "source": [
    "As you can see, the `Coverage()` class not only keeps track of lines executed, but also of function names.  This is useful if you have a program that spans multiple files."
   ]
  },
  {
   "cell_type": "markdown",
   "metadata": {
    "slideshow": {
     "slide_type": "fragment"
    }
   },
   "source": [
    "For interactive use, we can simply print the coverage object, and obtain a listing of the code, with covered lines marked as `#`."
   ]
  },
  {
   "cell_type": "code",
   "execution_count": 27,
   "metadata": {
    "execution": {
     "iopub.execute_input": "2022-08-01T12:58:10.929323Z",
     "iopub.status.busy": "2022-08-01T12:58:10.929183Z",
     "iopub.status.idle": "2022-08-01T12:58:10.931880Z",
     "shell.execute_reply": "2022-08-01T12:58:10.931637Z"
    },
    "slideshow": {
     "slide_type": "subslide"
    }
   },
   "outputs": [
    {
     "name": "stdout",
     "output_type": "stream",
     "text": [
      "   1  def cgi_decode(s: str) -> str:\n",
      "   2      \"\"\"Decode the CGI-encoded string `s`:\n",
      "   3         * replace '+' by ' '\n",
      "   4         * replace \"%xx\" by the character with hex number xx.\n",
      "   5         Return the decoded string.  Raise `ValueError` for invalid inputs.\"\"\"\n",
      "   6  \n",
      "   7      # Mapping of hex digits to their integer values\n",
      "#  8      hex_values = {\n",
      "#  9          '0': 0, '1': 1, '2': 2, '3': 3, '4': 4,\n",
      "# 10          '5': 5, '6': 6, '7': 7, '8': 8, '9': 9,\n",
      "# 11          'a': 10, 'b': 11, 'c': 12, 'd': 13, 'e': 14, 'f': 15,\n",
      "# 12          'A': 10, 'B': 11, 'C': 12, 'D': 13, 'E': 14, 'F': 15,\n",
      "  13      }\n",
      "  14  \n",
      "# 15      t = \"\"\n",
      "# 16      i = 0\n",
      "# 17      while i < len(s):\n",
      "# 18          c = s[i]\n",
      "# 19          if c == '+':\n",
      "# 20              t += ' '\n",
      "# 21          elif c == '%':\n",
      "  22              digit_high, digit_low = s[i + 1], s[i + 2]\n",
      "  23              i += 2\n",
      "  24              if digit_high in hex_values and digit_low in hex_values:\n",
      "  25                  v = hex_values[digit_high] * 16 + hex_values[digit_low]\n",
      "  26                  t += chr(v)\n",
      "  27              else:\n",
      "  28                  raise ValueError(\"Invalid encoding\")\n",
      "  29          else:\n",
      "# 30              t += c\n",
      "# 31          i += 1\n",
      "# 32      return t\n",
      "\n"
     ]
    }
   ],
   "source": [
    "print(cov)"
   ]
  },
  {
   "cell_type": "markdown",
   "metadata": {
    "button": false,
    "new_sheet": false,
    "run_control": {
     "read_only": false
    },
    "slideshow": {
     "slide_type": "slide"
    }
   },
   "source": [
    "## Comparing Coverage\n",
    "\n",
    "Since we represent coverage as a set of executed lines, we can also apply _set operations_ on these.  For instance, we can find out which lines are covered by individual test cases, but not others:"
   ]
  },
  {
   "cell_type": "code",
   "execution_count": 28,
   "metadata": {
    "button": false,
    "execution": {
     "iopub.execute_input": "2022-08-01T12:58:10.933461Z",
     "iopub.status.busy": "2022-08-01T12:58:10.933348Z",
     "iopub.status.idle": "2022-08-01T12:58:10.935831Z",
     "shell.execute_reply": "2022-08-01T12:58:10.935559Z"
    },
    "new_sheet": false,
    "run_control": {
     "read_only": false
    },
    "slideshow": {
     "slide_type": "fragment"
    }
   },
   "outputs": [
    {
     "data": {
      "text/plain": [
       "{('cgi_decode', 20)}"
      ]
     },
     "execution_count": 28,
     "metadata": {},
     "output_type": "execute_result"
    }
   ],
   "source": [
    "with Coverage() as cov_plus:\n",
    "    cgi_decode(\"a+b\")\n",
    "with Coverage() as cov_standard:\n",
    "    cgi_decode(\"abc\")\n",
    "\n",
    "cov_plus.coverage() - cov_standard.coverage()"
   ]
  },
  {
   "cell_type": "markdown",
   "metadata": {
    "button": false,
    "new_sheet": false,
    "run_control": {
     "read_only": false
    },
    "slideshow": {
     "slide_type": "fragment"
    }
   },
   "source": [
    "This is the single line in the code that is executed only in the `'a+b'` input."
   ]
  },
  {
   "cell_type": "markdown",
   "metadata": {
    "button": false,
    "new_sheet": false,
    "run_control": {
     "read_only": false
    },
    "slideshow": {
     "slide_type": "subslide"
    }
   },
   "source": [
    "We can also compare sets to find out which lines still need to be covered.  Let us define `cov_max` as the maximum coverage we can achieve. (Here, we do this by executing the \"good\" test cases we already have.  In practice, one would statically analyze code structure, which we introduce in [the chapter on symbolic testing](SymbolicFuzzer.ipynb).)"
   ]
  },
  {
   "cell_type": "code",
   "execution_count": 29,
   "metadata": {
    "button": false,
    "execution": {
     "iopub.execute_input": "2022-08-01T12:58:10.937379Z",
     "iopub.status.busy": "2022-08-01T12:58:10.937255Z",
     "iopub.status.idle": "2022-08-01T12:58:10.939187Z",
     "shell.execute_reply": "2022-08-01T12:58:10.938930Z"
    },
    "new_sheet": false,
    "run_control": {
     "read_only": false
    },
    "slideshow": {
     "slide_type": "fragment"
    }
   },
   "outputs": [],
   "source": [
    "with Coverage() as cov_max:\n",
    "    cgi_decode('+')\n",
    "    cgi_decode('%20')\n",
    "    cgi_decode('abc')\n",
    "    try:\n",
    "        cgi_decode('%?a')\n",
    "    except Exception:\n",
    "        pass"
   ]
  },
  {
   "cell_type": "markdown",
   "metadata": {
    "button": false,
    "new_sheet": false,
    "run_control": {
     "read_only": false
    },
    "slideshow": {
     "slide_type": "fragment"
    }
   },
   "source": [
    "Then, we can easily see which lines are _not_ yet covered by a test case:"
   ]
  },
  {
   "cell_type": "code",
   "execution_count": 30,
   "metadata": {
    "button": false,
    "execution": {
     "iopub.execute_input": "2022-08-01T12:58:10.940795Z",
     "iopub.status.busy": "2022-08-01T12:58:10.940595Z",
     "iopub.status.idle": "2022-08-01T12:58:10.942878Z",
     "shell.execute_reply": "2022-08-01T12:58:10.942664Z"
    },
    "new_sheet": false,
    "run_control": {
     "read_only": false
    },
    "slideshow": {
     "slide_type": "fragment"
    }
   },
   "outputs": [
    {
     "data": {
      "text/plain": [
       "{('cgi_decode', 22),\n",
       " ('cgi_decode', 23),\n",
       " ('cgi_decode', 24),\n",
       " ('cgi_decode', 25),\n",
       " ('cgi_decode', 26),\n",
       " ('cgi_decode', 28)}"
      ]
     },
     "execution_count": 30,
     "metadata": {},
     "output_type": "execute_result"
    }
   ],
   "source": [
    "cov_max.coverage() - cov_plus.coverage()"
   ]
  },
  {
   "cell_type": "markdown",
   "metadata": {
    "button": false,
    "new_sheet": false,
    "run_control": {
     "read_only": false
    },
    "slideshow": {
     "slide_type": "fragment"
    }
   },
   "source": [
    "Again, these would be the lines handling `\"%xx\"`, which we have not yet had in the input."
   ]
  },
  {
   "cell_type": "markdown",
   "metadata": {
    "button": false,
    "new_sheet": false,
    "run_control": {
     "read_only": false
    },
    "slideshow": {
     "slide_type": "slide"
    }
   },
   "source": [
    "##  Coverage of Basic Fuzzing\n",
    "\n",
    "We can now use our coverage tracing to assess the _effectiveness_ of testing methods – in particular, of course, test _generation_ methods.  Our challenge is to achieve maximum coverage in `cgi_decode()` just with random inputs.  In principle, we should _eventually_ get there, as eventually, we will have produced every possible string in the universe – but exactly how long is this?  To this end, let us run just one fuzzing iteration on `cgi_decode()`:"
   ]
  },
  {
   "cell_type": "code",
   "execution_count": 31,
   "metadata": {
    "button": false,
    "execution": {
     "iopub.execute_input": "2022-08-01T12:58:10.944532Z",
     "iopub.status.busy": "2022-08-01T12:58:10.944386Z",
     "iopub.status.idle": "2022-08-01T12:58:11.007834Z",
     "shell.execute_reply": "2022-08-01T12:58:11.007560Z"
    },
    "new_sheet": false,
    "run_control": {
     "read_only": false
    },
    "slideshow": {
     "slide_type": "skip"
    }
   },
   "outputs": [],
   "source": [
    "from Fuzzer import fuzzer"
   ]
  },
  {
   "cell_type": "code",
   "execution_count": 32,
   "metadata": {
    "button": false,
    "execution": {
     "iopub.execute_input": "2022-08-01T12:58:11.009534Z",
     "iopub.status.busy": "2022-08-01T12:58:11.009437Z",
     "iopub.status.idle": "2022-08-01T12:58:11.011673Z",
     "shell.execute_reply": "2022-08-01T12:58:11.011424Z"
    },
    "new_sheet": false,
    "run_control": {
     "read_only": false
    },
    "slideshow": {
     "slide_type": "fragment"
    }
   },
   "outputs": [
    {
     "data": {
      "text/plain": [
       "'!7#%\"*#0=)$;%6*;>638:*>80\"=</>(/*:-(2<4 !:5*6856&?\"\"11<7+%<%7,4.8,*+&,,$,.\"'"
      ]
     },
     "execution_count": 32,
     "metadata": {},
     "output_type": "execute_result"
    }
   ],
   "source": [
    "sample = fuzzer()\n",
    "sample"
   ]
  },
  {
   "cell_type": "markdown",
   "metadata": {
    "button": false,
    "new_sheet": false,
    "run_control": {
     "read_only": false
    },
    "slideshow": {
     "slide_type": "subslide"
    }
   },
   "source": [
    "Here's the invocation and the coverage we achieve.  We wrap `cgi_decode()` in a `try...except` block such that we can ignore `ValueError` exceptions raised by illegal `%xx` formats."
   ]
  },
  {
   "cell_type": "code",
   "execution_count": 33,
   "metadata": {
    "button": false,
    "execution": {
     "iopub.execute_input": "2022-08-01T12:58:11.013572Z",
     "iopub.status.busy": "2022-08-01T12:58:11.013394Z",
     "iopub.status.idle": "2022-08-01T12:58:11.016380Z",
     "shell.execute_reply": "2022-08-01T12:58:11.015957Z"
    },
    "new_sheet": false,
    "run_control": {
     "read_only": false
    },
    "slideshow": {
     "slide_type": "fragment"
    }
   },
   "outputs": [
    {
     "data": {
      "text/plain": [
       "{('cgi_decode', 8),\n",
       " ('cgi_decode', 9),\n",
       " ('cgi_decode', 10),\n",
       " ('cgi_decode', 11),\n",
       " ('cgi_decode', 12),\n",
       " ('cgi_decode', 15),\n",
       " ('cgi_decode', 16),\n",
       " ('cgi_decode', 17),\n",
       " ('cgi_decode', 18),\n",
       " ('cgi_decode', 19),\n",
       " ('cgi_decode', 21),\n",
       " ('cgi_decode', 22),\n",
       " ('cgi_decode', 23),\n",
       " ('cgi_decode', 24),\n",
       " ('cgi_decode', 28),\n",
       " ('cgi_decode', 30),\n",
       " ('cgi_decode', 31)}"
      ]
     },
     "execution_count": 33,
     "metadata": {},
     "output_type": "execute_result"
    }
   ],
   "source": [
    "with Coverage() as cov_fuzz:\n",
    "    try:\n",
    "        cgi_decode(sample)\n",
    "    except:\n",
    "        pass\n",
    "cov_fuzz.coverage()"
   ]
  },
  {
   "cell_type": "markdown",
   "metadata": {
    "button": false,
    "new_sheet": false,
    "run_control": {
     "read_only": false
    },
    "slideshow": {
     "slide_type": "subslide"
    }
   },
   "source": [
    "Is this already the maximum coverage?  Apparently, there are still lines missing:"
   ]
  },
  {
   "cell_type": "code",
   "execution_count": 34,
   "metadata": {
    "button": false,
    "execution": {
     "iopub.execute_input": "2022-08-01T12:58:11.018088Z",
     "iopub.status.busy": "2022-08-01T12:58:11.017963Z",
     "iopub.status.idle": "2022-08-01T12:58:11.020716Z",
     "shell.execute_reply": "2022-08-01T12:58:11.020407Z"
    },
    "new_sheet": false,
    "run_control": {
     "read_only": false
    },
    "slideshow": {
     "slide_type": "fragment"
    }
   },
   "outputs": [
    {
     "data": {
      "text/plain": [
       "{('cgi_decode', 20),\n",
       " ('cgi_decode', 25),\n",
       " ('cgi_decode', 26),\n",
       " ('cgi_decode', 32)}"
      ]
     },
     "execution_count": 34,
     "metadata": {},
     "output_type": "execute_result"
    }
   ],
   "source": [
    "cov_max.coverage() - cov_fuzz.coverage()"
   ]
  },
  {
   "cell_type": "markdown",
   "metadata": {
    "button": false,
    "new_sheet": false,
    "run_control": {
     "read_only": false
    },
    "slideshow": {
     "slide_type": "subslide"
    }
   },
   "source": [
    "Let us try again, increasing coverage over 100 random inputs.  We use an array `cumulative_coverage` to store the coverage achieved over time; `cumulative_coverage[0]` is the total number of lines covered after input 1, \n",
    "`cumulative_coverage[1]` is the number of lines covered after inputs 1–2, and so on."
   ]
  },
  {
   "cell_type": "code",
   "execution_count": 35,
   "metadata": {
    "button": false,
    "execution": {
     "iopub.execute_input": "2022-08-01T12:58:11.022244Z",
     "iopub.status.busy": "2022-08-01T12:58:11.022150Z",
     "iopub.status.idle": "2022-08-01T12:58:11.023888Z",
     "shell.execute_reply": "2022-08-01T12:58:11.023629Z"
    },
    "new_sheet": false,
    "run_control": {
     "read_only": false
    },
    "slideshow": {
     "slide_type": "fragment"
    }
   },
   "outputs": [],
   "source": [
    "trials = 100"
   ]
  },
  {
   "cell_type": "code",
   "execution_count": 36,
   "metadata": {
    "button": false,
    "execution": {
     "iopub.execute_input": "2022-08-01T12:58:11.025390Z",
     "iopub.status.busy": "2022-08-01T12:58:11.025296Z",
     "iopub.status.idle": "2022-08-01T12:58:11.027912Z",
     "shell.execute_reply": "2022-08-01T12:58:11.027687Z"
    },
    "new_sheet": false,
    "run_control": {
     "read_only": false
    },
    "slideshow": {
     "slide_type": "fragment"
    }
   },
   "outputs": [],
   "source": [
    "def population_coverage(population: List[str], function: Callable) \\\n",
    "        -> Tuple[Set[Location], List[int]]:\n",
    "    cumulative_coverage: List[int] = []\n",
    "    all_coverage: Set[Location] = set()\n",
    "\n",
    "    for s in population:\n",
    "        with Coverage() as cov:\n",
    "            try:\n",
    "                function(s)\n",
    "            except:\n",
    "                pass\n",
    "        all_coverage |= cov.coverage()\n",
    "        cumulative_coverage.append(len(all_coverage))\n",
    "\n",
    "    return all_coverage, cumulative_coverage"
   ]
  },
  {
   "cell_type": "markdown",
   "metadata": {
    "button": false,
    "new_sheet": false,
    "run_control": {
     "read_only": false
    },
    "slideshow": {
     "slide_type": "subslide"
    }
   },
   "source": [
    "Let us create a hundred inputs to determine how coverage increases:"
   ]
  },
  {
   "cell_type": "code",
   "execution_count": 37,
   "metadata": {
    "button": false,
    "execution": {
     "iopub.execute_input": "2022-08-01T12:58:11.029530Z",
     "iopub.status.busy": "2022-08-01T12:58:11.029433Z",
     "iopub.status.idle": "2022-08-01T12:58:11.031377Z",
     "shell.execute_reply": "2022-08-01T12:58:11.031145Z"
    },
    "new_sheet": false,
    "run_control": {
     "read_only": false
    },
    "slideshow": {
     "slide_type": "fragment"
    }
   },
   "outputs": [],
   "source": [
    "def hundred_inputs() -> List[str]:\n",
    "    population = []\n",
    "    for i in range(trials):\n",
    "        population.append(fuzzer())\n",
    "    return population"
   ]
  },
  {
   "cell_type": "markdown",
   "metadata": {
    "button": false,
    "new_sheet": false,
    "run_control": {
     "read_only": false
    },
    "slideshow": {
     "slide_type": "subslide"
    }
   },
   "source": [
    "Here's how the coverage increases with each input:"
   ]
  },
  {
   "cell_type": "code",
   "execution_count": 38,
   "metadata": {
    "button": false,
    "execution": {
     "iopub.execute_input": "2022-08-01T12:58:11.032770Z",
     "iopub.status.busy": "2022-08-01T12:58:11.032685Z",
     "iopub.status.idle": "2022-08-01T12:58:11.047175Z",
     "shell.execute_reply": "2022-08-01T12:58:11.046872Z"
    },
    "new_sheet": false,
    "run_control": {
     "read_only": false
    },
    "slideshow": {
     "slide_type": "fragment"
    }
   },
   "outputs": [],
   "source": [
    "all_coverage, cumulative_coverage = \\\n",
    "    population_coverage(hundred_inputs(), cgi_decode)"
   ]
  },
  {
   "cell_type": "code",
   "execution_count": 39,
   "metadata": {
    "button": false,
    "execution": {
     "iopub.execute_input": "2022-08-01T12:58:11.048827Z",
     "iopub.status.busy": "2022-08-01T12:58:11.048736Z",
     "iopub.status.idle": "2022-08-01T12:58:11.450869Z",
     "shell.execute_reply": "2022-08-01T12:58:11.450556Z"
    },
    "new_sheet": false,
    "run_control": {
     "read_only": false
    },
    "slideshow": {
     "slide_type": "skip"
    }
   },
   "outputs": [],
   "source": [
    "%matplotlib inline"
   ]
  },
  {
   "cell_type": "code",
   "execution_count": 40,
   "metadata": {
    "button": false,
    "execution": {
     "iopub.execute_input": "2022-08-01T12:58:11.452610Z",
     "iopub.status.busy": "2022-08-01T12:58:11.452474Z",
     "iopub.status.idle": "2022-08-01T12:58:11.454547Z",
     "shell.execute_reply": "2022-08-01T12:58:11.454273Z"
    },
    "new_sheet": false,
    "run_control": {
     "read_only": false
    },
    "slideshow": {
     "slide_type": "skip"
    }
   },
   "outputs": [],
   "source": [
    "import matplotlib.pyplot as plt  # type: ignore"
   ]
  },
  {
   "cell_type": "code",
   "execution_count": 41,
   "metadata": {
    "button": false,
    "execution": {
     "iopub.execute_input": "2022-08-01T12:58:11.455962Z",
     "iopub.status.busy": "2022-08-01T12:58:11.455841Z",
     "iopub.status.idle": "2022-08-01T12:58:11.521567Z",
     "shell.execute_reply": "2022-08-01T12:58:11.521199Z"
    },
    "new_sheet": false,
    "run_control": {
     "read_only": false
    },
    "slideshow": {
     "slide_type": "fragment"
    }
   },
   "outputs": [
    {
     "data": {
      "text/plain": [
       "Text(0, 0.5, 'lines covered')"
      ]
     },
     "execution_count": 41,
     "metadata": {},
     "output_type": "execute_result"
    },
    {
     "data": {
      "image/png": "[encoded data removed]",
      "text/plain": [
       "<Figure size 432x288 with 1 Axes>"
      ]
     },
     "metadata": {
      "needs_background": "light"
     },
     "output_type": "display_data"
    }
   ],
   "source": [
    "plt.plot(cumulative_coverage)\n",
    "plt.title('Coverage of cgi_decode() with random inputs')\n",
    "plt.xlabel('# of inputs')\n",
    "plt.ylabel('lines covered')"
   ]
  },
  {
   "cell_type": "markdown",
   "metadata": {
    "button": false,
    "new_sheet": false,
    "run_control": {
     "read_only": false
    },
    "slideshow": {
     "slide_type": "subslide"
    }
   },
   "source": [
    "This is just _one_ run, of course; so let's repeat this a number of times and plot the averages."
   ]
  },
  {
   "cell_type": "code",
   "execution_count": 42,
   "metadata": {
    "button": false,
    "execution": {
     "iopub.execute_input": "2022-08-01T12:58:11.523244Z",
     "iopub.status.busy": "2022-08-01T12:58:11.523122Z",
     "iopub.status.idle": "2022-08-01T12:58:12.719066Z",
     "shell.execute_reply": "2022-08-01T12:58:12.718796Z"
    },
    "new_sheet": false,
    "run_control": {
     "read_only": false
    },
    "slideshow": {
     "slide_type": "fragment"
    }
   },
   "outputs": [],
   "source": [
    "runs = 100\n",
    "\n",
    "# Create an array with TRIALS elements, all zero\n",
    "sum_coverage = [0] * trials\n",
    "\n",
    "for run in range(runs):\n",
    "    all_coverage, coverage = population_coverage(hundred_inputs(), cgi_decode)\n",
    "    assert len(coverage) == trials\n",
    "    for i in range(trials):\n",
    "        sum_coverage[i] += coverage[i]\n",
    "\n",
    "average_coverage = []\n",
    "for i in range(trials):\n",
    "    average_coverage.append(sum_coverage[i] / runs)"
   ]
  },
  {
   "cell_type": "code",
   "execution_count": 43,
   "metadata": {
    "button": false,
    "execution": {
     "iopub.execute_input": "2022-08-01T12:58:12.720689Z",
     "iopub.status.busy": "2022-08-01T12:58:12.720600Z",
     "iopub.status.idle": "2022-08-01T12:58:12.765818Z",
     "shell.execute_reply": "2022-08-01T12:58:12.765517Z"
    },
    "new_sheet": false,
    "run_control": {
     "read_only": false
    },
    "slideshow": {
     "slide_type": "subslide"
    }
   },
   "outputs": [
    {
     "data": {
      "text/plain": [
       "Text(0, 0.5, 'lines covered')"
      ]
     },
     "execution_count": 43,
     "metadata": {},
     "output_type": "execute_result"
    },
    {
     "data": {
      "image/png": "[encoded data removed]",
      "text/plain": [
       "<Figure size 432x288 with 1 Axes>"
      ]
     },
     "metadata": {
      "needs_background": "light"
     },
     "output_type": "display_data"
    }
   ],
   "source": [
    "plt.plot(average_coverage)\n",
    "plt.title('Average coverage of cgi_decode() with random inputs')\n",
    "plt.xlabel('# of inputs')\n",
    "plt.ylabel('lines covered')"
   ]
  },
  {
   "cell_type": "markdown",
   "metadata": {
    "button": false,
    "new_sheet": false,
    "run_control": {
     "read_only": false
    },
    "slideshow": {
     "slide_type": "fragment"
    }
   },
   "source": [
    "We see that on average, we get full coverage after 40–60 fuzzing inputs."
   ]
  },
  {
   "cell_type": "markdown",
   "metadata": {
    "slideshow": {
     "slide_type": "slide"
    }
   },
   "source": [
    "## Getting Coverage from External Programs\n",
    "\n",
    "Of course, not all the world is programming in Python.  The good news is that the problem of obtaining coverage is ubiquitous, and almost every programming language has some facility to measure coverage.  Just as an example, let us therefore demonstrate how to obtain coverage for a C program."
   ]
  },
  {
   "cell_type": "markdown",
   "metadata": {
    "slideshow": {
     "slide_type": "fragment"
    }
   },
   "source": [
    "Our C program (again) implements `cgi_decode`; this time as a program to be executed from the command line:\n",
    "\n",
    "```shell\n",
    "$ ./cgi_decode 'Hello+World'\n",
    "Hello World\n",
    "```"
   ]
  },
  {
   "cell_type": "markdown",
   "metadata": {
    "slideshow": {
     "slide_type": "subslide"
    }
   },
   "source": [
    "Here comes the C code, first as a Python string.  We start with the usual C includes:"
   ]
  },
  {
   "cell_type": "code",
   "execution_count": 44,
   "metadata": {
    "execution": {
     "iopub.execute_input": "2022-08-01T12:58:12.767678Z",
     "iopub.status.busy": "2022-08-01T12:58:12.767556Z",
     "iopub.status.idle": "2022-08-01T12:58:12.769475Z",
     "shell.execute_reply": "2022-08-01T12:58:12.769139Z"
    },
    "slideshow": {
     "slide_type": "fragment"
    }
   },
   "outputs": [],
   "source": [
    "cgi_c_code = \"\"\"\n",
    "/* CGI decoding as C program */\n",
    "\n",
    "#include <stdlib.h>\n",
    "#include <string.h>\n",
    "#include <stdio.h>\n",
    "\n",
    "\"\"\""
   ]
  },
  {
   "cell_type": "markdown",
   "metadata": {
    "slideshow": {
     "slide_type": "subslide"
    }
   },
   "source": [
    "Here comes the initialization of `hex_values`:"
   ]
  },
  {
   "cell_type": "code",
   "execution_count": 45,
   "metadata": {
    "execution": {
     "iopub.execute_input": "2022-08-01T12:58:12.771239Z",
     "iopub.status.busy": "2022-08-01T12:58:12.771118Z",
     "iopub.status.idle": "2022-08-01T12:58:12.773030Z",
     "shell.execute_reply": "2022-08-01T12:58:12.772786Z"
    },
    "slideshow": {
     "slide_type": "fragment"
    }
   },
   "outputs": [],
   "source": [
    "cgi_c_code += r\"\"\"\n",
    "int hex_values[256];\n",
    "\n",
    "void init_hex_values() {\n",
    "    for (int i = 0; i < sizeof(hex_values) / sizeof(int); i++) {\n",
    "        hex_values[i] = -1;\n",
    "    }\n",
    "    hex_values['0'] = 0; hex_values['1'] = 1; hex_values['2'] = 2; hex_values['3'] = 3;\n",
    "    hex_values['4'] = 4; hex_values['5'] = 5; hex_values['6'] = 6; hex_values['7'] = 7;\n",
    "    hex_values['8'] = 8; hex_values['9'] = 9;\n",
    "\n",
    "    hex_values['a'] = 10; hex_values['b'] = 11; hex_values['c'] = 12; hex_values['d'] = 13;\n",
    "    hex_values['e'] = 14; hex_values['f'] = 15;\n",
    "\n",
    "    hex_values['A'] = 10; hex_values['B'] = 11; hex_values['C'] = 12; hex_values['D'] = 13;\n",
    "    hex_values['E'] = 14; hex_values['F'] = 15;\n",
    "}\n",
    "\"\"\""
   ]
  },
  {
   "cell_type": "markdown",
   "metadata": {
    "slideshow": {
     "slide_type": "subslide"
    }
   },
   "source": [
    "Here's the actual implementation of `cgi_decode()`, using pointers for input source (`s`) and output target (`t`):"
   ]
  },
  {
   "cell_type": "code",
   "execution_count": 46,
   "metadata": {
    "execution": {
     "iopub.execute_input": "2022-08-01T12:58:12.774483Z",
     "iopub.status.busy": "2022-08-01T12:58:12.774371Z",
     "iopub.status.idle": "2022-08-01T12:58:12.776113Z",
     "shell.execute_reply": "2022-08-01T12:58:12.775882Z"
    },
    "slideshow": {
     "slide_type": "fragment"
    }
   },
   "outputs": [],
   "source": [
    "cgi_c_code += r\"\"\"\n",
    "int cgi_decode(char *s, char *t) {\n",
    "    while (*s != '\\0') {\n",
    "        if (*s == '+')\n",
    "            *t++ = ' ';\n",
    "        else if (*s == '%') {\n",
    "            int digit_high = *++s;\n",
    "            int digit_low = *++s;\n",
    "            if (hex_values[digit_high] >= 0 && hex_values[digit_low] >= 0) {\n",
    "                *t++ = hex_values[digit_high] * 16 + hex_values[digit_low];\n",
    "            }\n",
    "            else\n",
    "                return -1;\n",
    "        }\n",
    "        else\n",
    "            *t++ = *s;\n",
    "        s++;\n",
    "    }\n",
    "    *t = '\\0';\n",
    "    return 0;\n",
    "}\n",
    "\"\"\""
   ]
  },
  {
   "cell_type": "markdown",
   "metadata": {
    "slideshow": {
     "slide_type": "subslide"
    }
   },
   "source": [
    "Finally, here's a driver which takes the first argument and invokes `cgi_decode` with it:"
   ]
  },
  {
   "cell_type": "code",
   "execution_count": 47,
   "metadata": {
    "execution": {
     "iopub.execute_input": "2022-08-01T12:58:12.777655Z",
     "iopub.status.busy": "2022-08-01T12:58:12.777537Z",
     "iopub.status.idle": "2022-08-01T12:58:12.779431Z",
     "shell.execute_reply": "2022-08-01T12:58:12.779164Z"
    },
    "slideshow": {
     "slide_type": "fragment"
    }
   },
   "outputs": [],
   "source": [
    "cgi_c_code += r\"\"\"\n",
    "int main(int argc, char *argv[]) {\n",
    "    init_hex_values();\n",
    "\n",
    "    if (argc >= 2) {\n",
    "        char *s = argv[1];\n",
    "        char *t = malloc(strlen(s) + 1); /* output is at most as long as input */\n",
    "        int ret = cgi_decode(s, t);\n",
    "        printf(\"%s\\n\", t);\n",
    "        return ret;\n",
    "    }\n",
    "    else\n",
    "    {\n",
    "        printf(\"cgi_decode: usage: cgi_decode STRING\\n\");\n",
    "        return 1;\n",
    "    }\n",
    "}\n",
    "\"\"\""
   ]
  },
  {
   "cell_type": "markdown",
   "metadata": {
    "slideshow": {
     "slide_type": "subslide"
    }
   },
   "source": [
    "Let us create the C source code: (Note that the following commands will overwrite the file `cgi_decode.c`, if it already exists in the current working directory. Be aware of this, if you downloaded the notebooks and are working locally.)"
   ]
  },
  {
   "cell_type": "code",
   "execution_count": 48,
   "metadata": {
    "execution": {
     "iopub.execute_input": "2022-08-01T12:58:12.781032Z",
     "iopub.status.busy": "2022-08-01T12:58:12.780923Z",
     "iopub.status.idle": "2022-08-01T12:58:12.782862Z",
     "shell.execute_reply": "2022-08-01T12:58:12.782643Z"
    },
    "slideshow": {
     "slide_type": "fragment"
    }
   },
   "outputs": [],
   "source": [
    "with open(\"cgi_decode.c\", \"w\") as f:\n",
    "    f.write(cgi_c_code)"
   ]
  },
  {
   "cell_type": "markdown",
   "metadata": {
    "slideshow": {
     "slide_type": "fragment"
    }
   },
   "source": [
    "And here we have the C code with its syntax highlighted:"
   ]
  },
  {
   "cell_type": "code",
   "execution_count": 49,
   "metadata": {
    "execution": {
     "iopub.execute_input": "2022-08-01T12:58:12.784289Z",
     "iopub.status.busy": "2022-08-01T12:58:12.784189Z",
     "iopub.status.idle": "2022-08-01T12:58:12.785736Z",
     "shell.execute_reply": "2022-08-01T12:58:12.785514Z"
    },
    "slideshow": {
     "slide_type": "skip"
    }
   },
   "outputs": [],
   "source": [
    "from bookutils import print_file"
   ]
  },
  {
   "cell_type": "code",
   "execution_count": 50,
   "metadata": {
    "execution": {
     "iopub.execute_input": "2022-08-01T12:58:12.787109Z",
     "iopub.status.busy": "2022-08-01T12:58:12.786964Z",
     "iopub.status.idle": "2022-08-01T12:58:12.800391Z",
     "shell.execute_reply": "2022-08-01T12:58:12.799364Z"
    },
    "slideshow": {
     "slide_type": "subslide"
    }
   },
   "outputs": [
    {
     "name": "stdout",
     "output_type": "stream",
     "text": [
      "\u001b[37m/* CGI decoding as C program */\u001b[39;49;00m\u001b[37m\u001b[39;49;00m\n",
      "\u001b[37m\u001b[39;49;00m\n",
      "\u001b[36m#\u001b[39;49;00m\u001b[36minclude\u001b[39;49;00m\u001b[37m \u001b[39;49;00m\u001b[37m<stdlib.h>\u001b[39;49;00m\u001b[36m\u001b[39;49;00m\n",
      "\u001b[36m#\u001b[39;49;00m\u001b[36minclude\u001b[39;49;00m\u001b[37m \u001b[39;49;00m\u001b[37m<string.h>\u001b[39;49;00m\u001b[36m\u001b[39;49;00m\n",
      "\u001b[36m#\u001b[39;49;00m\u001b[36minclude\u001b[39;49;00m\u001b[37m \u001b[39;49;00m\u001b[37m<stdio.h>\u001b[39;49;00m\u001b[36m\u001b[39;49;00m\n",
      "\u001b[37m\u001b[39;49;00m\n",
      "\u001b[37m\u001b[39;49;00m\n",
      "\u001b[36mint\u001b[39;49;00m\u001b[37m \u001b[39;49;00mhex_values[\u001b[34m256\u001b[39;49;00m];\u001b[37m\u001b[39;49;00m\n",
      "\u001b[37m\u001b[39;49;00m\n",
      "\u001b[36mvoid\u001b[39;49;00m\u001b[37m \u001b[39;49;00m\u001b[32minit_hex_values\u001b[39;49;00m()\u001b[37m \u001b[39;49;00m{\u001b[37m\u001b[39;49;00m\n",
      "\u001b[37m    \u001b[39;49;00m\u001b[34mfor\u001b[39;49;00m\u001b[37m \u001b[39;49;00m(\u001b[36mint\u001b[39;49;00m\u001b[37m \u001b[39;49;00mi\u001b[37m \u001b[39;49;00m=\u001b[37m \u001b[39;49;00m\u001b[34m0\u001b[39;49;00m;\u001b[37m \u001b[39;49;00mi\u001b[37m \u001b[39;49;00m<\u001b[37m \u001b[39;49;00m\u001b[34msizeof\u001b[39;49;00m(hex_values)\u001b[37m \u001b[39;49;00m/\u001b[37m \u001b[39;49;00m\u001b[34msizeof\u001b[39;49;00m(\u001b[36mint\u001b[39;49;00m);\u001b[37m \u001b[39;49;00mi++)\u001b[37m \u001b[39;49;00m{\u001b[37m\u001b[39;49;00m\n",
      "\u001b[37m        \u001b[39;49;00mhex_values[i]\u001b[37m \u001b[39;49;00m=\u001b[37m \u001b[39;49;00m\u001b[34m-1\u001b[39;49;00m;\u001b[37m\u001b[39;49;00m\n",
      "\u001b[37m    \u001b[39;49;00m}\u001b[37m\u001b[39;49;00m\n",
      "\u001b[37m    \u001b[39;49;00mhex_values[\u001b[33m'\u001b[39;49;00m\u001b[33m0\u001b[39;49;00m\u001b[33m'\u001b[39;49;00m]\u001b[37m \u001b[39;49;00m=\u001b[37m \u001b[39;49;00m\u001b[34m0\u001b[39;49;00m;\u001b[37m \u001b[39;49;00mhex_values[\u001b[33m'\u001b[39;49;00m\u001b[33m1\u001b[39;49;00m\u001b[33m'\u001b[39;49;00m]\u001b[37m \u001b[39;49;00m=\u001b[37m \u001b[39;49;00m\u001b[34m1\u001b[39;49;00m;\u001b[37m \u001b[39;49;00mhex_values[\u001b[33m'\u001b[39;49;00m\u001b[33m2\u001b[39;49;00m\u001b[33m'\u001b[39;49;00m]\u001b[37m \u001b[39;49;00m=\u001b[37m \u001b[39;49;00m\u001b[34m2\u001b[39;49;00m;\u001b[37m \u001b[39;49;00mhex_values[\u001b[33m'\u001b[39;49;00m\u001b[33m3\u001b[39;49;00m\u001b[33m'\u001b[39;49;00m]\u001b[37m \u001b[39;49;00m=\u001b[37m \u001b[39;49;00m\u001b[34m3\u001b[39;49;00m;\u001b[37m\u001b[39;49;00m\n",
      "\u001b[37m    \u001b[39;49;00mhex_values[\u001b[33m'\u001b[39;49;00m\u001b[33m4\u001b[39;49;00m\u001b[33m'\u001b[39;49;00m]\u001b[37m \u001b[39;49;00m=\u001b[37m \u001b[39;49;00m\u001b[34m4\u001b[39;49;00m;\u001b[37m \u001b[39;49;00mhex_values[\u001b[33m'\u001b[39;49;00m\u001b[33m5\u001b[39;49;00m\u001b[33m'\u001b[39;49;00m]\u001b[37m \u001b[39;49;00m=\u001b[37m \u001b[39;49;00m\u001b[34m5\u001b[39;49;00m;\u001b[37m \u001b[39;49;00mhex_values[\u001b[33m'\u001b[39;49;00m\u001b[33m6\u001b[39;49;00m\u001b[33m'\u001b[39;49;00m]\u001b[37m \u001b[39;49;00m=\u001b[37m \u001b[39;49;00m\u001b[34m6\u001b[39;49;00m;\u001b[37m \u001b[39;49;00mhex_values[\u001b[33m'\u001b[39;49;00m\u001b[33m7\u001b[39;49;00m\u001b[33m'\u001b[39;49;00m]\u001b[37m \u001b[39;49;00m=\u001b[37m \u001b[39;49;00m\u001b[34m7\u001b[39;49;00m;\u001b[37m\u001b[39;49;00m\n",
      "\u001b[37m    \u001b[39;49;00mhex_values[\u001b[33m'\u001b[39;49;00m\u001b[33m8\u001b[39;49;00m\u001b[33m'\u001b[39;49;00m]\u001b[37m \u001b[39;49;00m=\u001b[37m \u001b[39;49;00m\u001b[34m8\u001b[39;49;00m;\u001b[37m \u001b[39;49;00mhex_values[\u001b[33m'\u001b[39;49;00m\u001b[33m9\u001b[39;49;00m\u001b[33m'\u001b[39;49;00m]\u001b[37m \u001b[39;49;00m=\u001b[37m \u001b[39;49;00m\u001b[34m9\u001b[39;49;00m;\u001b[37m\u001b[39;49;00m\n",
      "\u001b[37m\u001b[39;49;00m\n",
      "\u001b[37m    \u001b[39;49;00mhex_values[\u001b[33m'\u001b[39;49;00m\u001b[33ma\u001b[39;49;00m\u001b[33m'\u001b[39;49;00m]\u001b[37m \u001b[39;49;00m=\u001b[37m \u001b[39;49;00m\u001b[34m10\u001b[39;49;00m;\u001b[37m \u001b[39;49;00mhex_values[\u001b[33m'\u001b[39;49;00m\u001b[33mb\u001b[39;49;00m\u001b[33m'\u001b[39;49;00m]\u001b[37m \u001b[39;49;00m=\u001b[37m \u001b[39;49;00m\u001b[34m11\u001b[39;49;00m;\u001b[37m \u001b[39;49;00mhex_values[\u001b[33m'\u001b[39;49;00m\u001b[33mc\u001b[39;49;00m\u001b[33m'\u001b[39;49;00m]\u001b[37m \u001b[39;49;00m=\u001b[37m \u001b[39;49;00m\u001b[34m12\u001b[39;49;00m;\u001b[37m \u001b[39;49;00mhex_values[\u001b[33m'\u001b[39;49;00m\u001b[33md\u001b[39;49;00m\u001b[33m'\u001b[39;49;00m]\u001b[37m \u001b[39;49;00m=\u001b[37m \u001b[39;49;00m\u001b[34m13\u001b[39;49;00m;\u001b[37m\u001b[39;49;00m\n",
      "\u001b[37m    \u001b[39;49;00mhex_values[\u001b[33m'\u001b[39;49;00m\u001b[33me\u001b[39;49;00m\u001b[33m'\u001b[39;49;00m]\u001b[37m \u001b[39;49;00m=\u001b[37m \u001b[39;49;00m\u001b[34m14\u001b[39;49;00m;\u001b[37m \u001b[39;49;00mhex_values[\u001b[33m'\u001b[39;49;00m\u001b[33mf\u001b[39;49;00m\u001b[33m'\u001b[39;49;00m]\u001b[37m \u001b[39;49;00m=\u001b[37m \u001b[39;49;00m\u001b[34m15\u001b[39;49;00m;\u001b[37m\u001b[39;49;00m\n",
      "\u001b[37m\u001b[39;49;00m\n",
      "\u001b[37m    \u001b[39;49;00mhex_values[\u001b[33m'\u001b[39;49;00m\u001b[33mA\u001b[39;49;00m\u001b[33m'\u001b[39;49;00m]\u001b[37m \u001b[39;49;00m=\u001b[37m \u001b[39;49;00m\u001b[34m10\u001b[39;49;00m;\u001b[37m \u001b[39;49;00mhex_values[\u001b[33m'\u001b[39;49;00m\u001b[33mB\u001b[39;49;00m\u001b[33m'\u001b[39;49;00m]\u001b[37m \u001b[39;49;00m=\u001b[37m \u001b[39;49;00m\u001b[34m11\u001b[39;49;00m;\u001b[37m \u001b[39;49;00mhex_values[\u001b[33m'\u001b[39;49;00m\u001b[33mC\u001b[39;49;00m\u001b[33m'\u001b[39;49;00m]\u001b[37m \u001b[39;49;00m=\u001b[37m \u001b[39;49;00m\u001b[34m12\u001b[39;49;00m;\u001b[37m \u001b[39;49;00mhex_values[\u001b[33m'\u001b[39;49;00m\u001b[33mD\u001b[39;49;00m\u001b[33m'\u001b[39;49;00m]\u001b[37m \u001b[39;49;00m=\u001b[37m \u001b[39;49;00m\u001b[34m13\u001b[39;49;00m;\u001b[37m\u001b[39;49;00m\n",
      "\u001b[37m    \u001b[39;49;00mhex_values[\u001b[33m'\u001b[39;49;00m\u001b[33mE\u001b[39;49;00m\u001b[33m'\u001b[39;49;00m]\u001b[37m \u001b[39;49;00m=\u001b[37m \u001b[39;49;00m\u001b[34m14\u001b[39;49;00m;\u001b[37m \u001b[39;49;00mhex_values[\u001b[33m'\u001b[39;49;00m\u001b[33mF\u001b[39;49;00m\u001b[33m'\u001b[39;49;00m]\u001b[37m \u001b[39;49;00m=\u001b[37m \u001b[39;49;00m\u001b[34m15\u001b[39;49;00m;\u001b[37m\u001b[39;49;00m\n",
      "}\u001b[37m\u001b[39;49;00m\n",
      "\u001b[37m\u001b[39;49;00m\n",
      "\u001b[36mint\u001b[39;49;00m\u001b[37m \u001b[39;49;00m\u001b[32mcgi_decode\u001b[39;49;00m(\u001b[36mchar\u001b[39;49;00m\u001b[37m \u001b[39;49;00m*s,\u001b[37m \u001b[39;49;00m\u001b[36mchar\u001b[39;49;00m\u001b[37m \u001b[39;49;00m*t)\u001b[37m \u001b[39;49;00m{\u001b[37m\u001b[39;49;00m\n",
      "\u001b[37m    \u001b[39;49;00m\u001b[34mwhile\u001b[39;49;00m\u001b[37m \u001b[39;49;00m(*s\u001b[37m \u001b[39;49;00m!=\u001b[37m \u001b[39;49;00m\u001b[33m'\u001b[39;49;00m\u001b[33m\\0\u001b[39;49;00m\u001b[33m'\u001b[39;49;00m)\u001b[37m \u001b[39;49;00m{\u001b[37m\u001b[39;49;00m\n",
      "\u001b[37m        \u001b[39;49;00m\u001b[34mif\u001b[39;49;00m\u001b[37m \u001b[39;49;00m(*s\u001b[37m \u001b[39;49;00m==\u001b[37m \u001b[39;49;00m\u001b[33m'\u001b[39;49;00m\u001b[33m+\u001b[39;49;00m\u001b[33m'\u001b[39;49;00m)\u001b[37m\u001b[39;49;00m\n",
      "\u001b[37m            \u001b[39;49;00m*t++\u001b[37m \u001b[39;49;00m=\u001b[37m \u001b[39;49;00m\u001b[33m'\u001b[39;49;00m\u001b[33m \u001b[39;49;00m\u001b[33m'\u001b[39;49;00m;\u001b[37m\u001b[39;49;00m\n",
      "\u001b[37m        \u001b[39;49;00m\u001b[34melse\u001b[39;49;00m\u001b[37m \u001b[39;49;00m\u001b[34mif\u001b[39;49;00m\u001b[37m \u001b[39;49;00m(*s\u001b[37m \u001b[39;49;00m==\u001b[37m \u001b[39;49;00m\u001b[33m'\u001b[39;49;00m\u001b[33m%\u001b[39;49;00m\u001b[33m'\u001b[39;49;00m)\u001b[37m \u001b[39;49;00m{\u001b[37m\u001b[39;49;00m\n",
      "\u001b[37m            \u001b[39;49;00m\u001b[36mint\u001b[39;49;00m\u001b[37m \u001b[39;49;00mdigit_high\u001b[37m \u001b[39;49;00m=\u001b[37m \u001b[39;49;00m*++s;\u001b[37m\u001b[39;49;00m\n",
      "\u001b[37m            \u001b[39;49;00m\u001b[36mint\u001b[39;49;00m\u001b[37m \u001b[39;49;00mdigit_low\u001b[37m \u001b[39;49;00m=\u001b[37m \u001b[39;49;00m*++s;\u001b[37m\u001b[39;49;00m\n",
      "\u001b[37m            \u001b[39;49;00m\u001b[34mif\u001b[39;49;00m\u001b[37m \u001b[39;49;00m(hex_values[digit_high]\u001b[37m \u001b[39;49;00m>=\u001b[37m \u001b[39;49;00m\u001b[34m0\u001b[39;49;00m\u001b[37m \u001b[39;49;00m&&\u001b[37m \u001b[39;49;00mhex_values[digit_low]\u001b[37m \u001b[39;49;00m>=\u001b[37m \u001b[39;49;00m\u001b[34m0\u001b[39;49;00m)\u001b[37m \u001b[39;49;00m{\u001b[37m\u001b[39;49;00m\n",
      "\u001b[37m                \u001b[39;49;00m*t++\u001b[37m \u001b[39;49;00m=\u001b[37m \u001b[39;49;00mhex_values[digit_high]\u001b[37m \u001b[39;49;00m*\u001b[37m \u001b[39;49;00m\u001b[34m16\u001b[39;49;00m\u001b[37m \u001b[39;49;00m+\u001b[37m \u001b[39;49;00mhex_values[digit_low];\u001b[37m\u001b[39;49;00m\n",
      "\u001b[37m            \u001b[39;49;00m}\u001b[37m\u001b[39;49;00m\n",
      "\u001b[37m            \u001b[39;49;00m\u001b[34melse\u001b[39;49;00m\u001b[37m\u001b[39;49;00m\n",
      "\u001b[37m                \u001b[39;49;00m\u001b[34mreturn\u001b[39;49;00m\u001b[37m \u001b[39;49;00m\u001b[34m-1\u001b[39;49;00m;\u001b[37m\u001b[39;49;00m\n",
      "\u001b[37m        \u001b[39;49;00m}\u001b[37m\u001b[39;49;00m\n",
      "\u001b[37m        \u001b[39;49;00m\u001b[34melse\u001b[39;49;00m\u001b[37m\u001b[39;49;00m\n",
      "\u001b[37m            \u001b[39;49;00m*t++\u001b[37m \u001b[39;49;00m=\u001b[37m \u001b[39;49;00m*s;\u001b[37m\u001b[39;49;00m\n",
      "\u001b[37m        \u001b[39;49;00ms++;\u001b[37m\u001b[39;49;00m\n",
      "\u001b[37m    \u001b[39;49;00m}\u001b[37m\u001b[39;49;00m\n",
      "\u001b[37m    \u001b[39;49;00m*t\u001b[37m \u001b[39;49;00m=\u001b[37m \u001b[39;49;00m\u001b[33m'\u001b[39;49;00m\u001b[33m\\0\u001b[39;49;00m\u001b[33m'\u001b[39;49;00m;\u001b[37m\u001b[39;49;00m\n",
      "\u001b[37m    \u001b[39;49;00m\u001b[34mreturn\u001b[39;49;00m\u001b[37m \u001b[39;49;00m\u001b[34m0\u001b[39;49;00m;\u001b[37m\u001b[39;49;00m\n",
      "}\u001b[37m\u001b[39;49;00m\n",
      "\u001b[37m\u001b[39;49;00m\n",
      "\u001b[36mint\u001b[39;49;00m\u001b[37m \u001b[39;49;00m\u001b[32mmain\u001b[39;49;00m(\u001b[36mint\u001b[39;49;00m\u001b[37m \u001b[39;49;00margc,\u001b[37m \u001b[39;49;00m\u001b[36mchar\u001b[39;49;00m\u001b[37m \u001b[39;49;00m*argv[])\u001b[37m \u001b[39;49;00m{\u001b[37m\u001b[39;49;00m\n",
      "\u001b[37m    \u001b[39;49;00minit_hex_values();\u001b[37m\u001b[39;49;00m\n",
      "\u001b[37m\u001b[39;49;00m\n",
      "\u001b[37m    \u001b[39;49;00m\u001b[34mif\u001b[39;49;00m\u001b[37m \u001b[39;49;00m(argc\u001b[37m \u001b[39;49;00m>=\u001b[37m \u001b[39;49;00m\u001b[34m2\u001b[39;49;00m)\u001b[37m \u001b[39;49;00m{\u001b[37m\u001b[39;49;00m\n",
      "\u001b[37m        \u001b[39;49;00m\u001b[36mchar\u001b[39;49;00m\u001b[37m \u001b[39;49;00m*s\u001b[37m \u001b[39;49;00m=\u001b[37m \u001b[39;49;00margv[\u001b[34m1\u001b[39;49;00m];\u001b[37m\u001b[39;49;00m\n",
      "\u001b[37m        \u001b[39;49;00m\u001b[36mchar\u001b[39;49;00m\u001b[37m \u001b[39;49;00m*t\u001b[37m \u001b[39;49;00m=\u001b[37m \u001b[39;49;00mmalloc(strlen(s)\u001b[37m \u001b[39;49;00m+\u001b[37m \u001b[39;49;00m\u001b[34m1\u001b[39;49;00m);\u001b[37m \u001b[39;49;00m\u001b[37m/* output is at most as long as input */\u001b[39;49;00m\u001b[37m\u001b[39;49;00m\n",
      "\u001b[37m        \u001b[39;49;00m\u001b[36mint\u001b[39;49;00m\u001b[37m \u001b[39;49;00mret\u001b[37m \u001b[39;49;00m=\u001b[37m \u001b[39;49;00mcgi_decode(s,\u001b[37m \u001b[39;49;00mt);\u001b[37m\u001b[39;49;00m\n",
      "\u001b[37m        \u001b[39;49;00mprintf(\u001b[33m\"\u001b[39;49;00m\u001b[33m%s\u001b[39;49;00m\u001b[33m\\n\u001b[39;49;00m\u001b[33m\"\u001b[39;49;00m,\u001b[37m \u001b[39;49;00mt);\u001b[37m\u001b[39;49;00m\n",
      "\u001b[37m        \u001b[39;49;00m\u001b[34mreturn\u001b[39;49;00m\u001b[37m \u001b[39;49;00mret;\u001b[37m\u001b[39;49;00m\n",
      "\u001b[37m    \u001b[39;49;00m}\u001b[37m\u001b[39;49;00m\n",
      "\u001b[37m    \u001b[39;49;00m\u001b[34melse\u001b[39;49;00m\u001b[37m\u001b[39;49;00m\n",
      "\u001b[37m    \u001b[39;49;00m{\u001b[37m\u001b[39;49;00m\n",
      "\u001b[37m        \u001b[39;49;00mprintf(\u001b[33m\"\u001b[39;49;00m\u001b[33mcgi_decode: usage: cgi_decode STRING\u001b[39;49;00m\u001b[33m\\n\u001b[39;49;00m\u001b[33m\"\u001b[39;49;00m);\u001b[37m\u001b[39;49;00m\n",
      "\u001b[37m        \u001b[39;49;00m\u001b[34mreturn\u001b[39;49;00m\u001b[37m \u001b[39;49;00m\u001b[34m1\u001b[39;49;00m;\u001b[37m\u001b[39;49;00m\n",
      "\u001b[37m    \u001b[39;49;00m}\u001b[37m\u001b[39;49;00m\n",
      "}\u001b[37m\u001b[39;49;00m"
     ]
    }
   ],
   "source": [
    "print_file(\"cgi_decode.c\")"
   ]
  },
  {
   "cell_type": "markdown",
   "metadata": {
    "slideshow": {
     "slide_type": "subslide"
    }
   },
   "source": [
    "We can now compile the C code into an executable.  The `--coverage` option instructs the C compiler to instrument the code such that at runtime, coverage information will be collected.  (The exact options vary from compiler to compiler.)"
   ]
  },
  {
   "cell_type": "code",
   "execution_count": 51,
   "metadata": {
    "execution": {
     "iopub.execute_input": "2022-08-01T12:58:12.802259Z",
     "iopub.status.busy": "2022-08-01T12:58:12.802103Z",
     "iopub.status.idle": "2022-08-01T12:58:12.977972Z",
     "shell.execute_reply": "2022-08-01T12:58:12.977342Z"
    },
    "slideshow": {
     "slide_type": "fragment"
    }
   },
   "outputs": [],
   "source": [
    "!cc --coverage -o cgi_decode cgi_decode.c"
   ]
  },
  {
   "cell_type": "markdown",
   "metadata": {
    "slideshow": {
     "slide_type": "subslide"
    }
   },
   "source": [
    "When we now execute the program, coverage information will automatically be collected and stored in auxiliary files:"
   ]
  },
  {
   "cell_type": "code",
   "execution_count": 52,
   "metadata": {
    "execution": {
     "iopub.execute_input": "2022-08-01T12:58:12.980587Z",
     "iopub.status.busy": "2022-08-01T12:58:12.980411Z",
     "iopub.status.idle": "2022-08-01T12:58:13.310253Z",
     "shell.execute_reply": "2022-08-01T12:58:13.309653Z"
    },
    "slideshow": {
     "slide_type": "fragment"
    }
   },
   "outputs": [
    {
     "name": "stdout",
     "output_type": "stream",
     "text": [
      "Send mail to me@fuzzingbook.org\r\n"
     ]
    }
   ],
   "source": [
    "!./cgi_decode 'Send+mail+to+me%40fuzzingbook.org'"
   ]
  },
  {
   "cell_type": "markdown",
   "metadata": {
    "slideshow": {
     "slide_type": "subslide"
    }
   },
   "source": [
    "The coverage information is collected by the `gcov` program.  For every source file given, it produces a new `.gcov` file with coverage information."
   ]
  },
  {
   "cell_type": "code",
   "execution_count": 53,
   "metadata": {
    "execution": {
     "iopub.execute_input": "2022-08-01T12:58:13.313415Z",
     "iopub.status.busy": "2022-08-01T12:58:13.313075Z",
     "iopub.status.idle": "2022-08-01T12:58:17.977705Z",
     "shell.execute_reply": "2022-08-01T12:58:17.976738Z"
    },
    "slideshow": {
     "slide_type": "fragment"
    }
   },
   "outputs": [
    {
     "name": "stdout",
     "output_type": "stream",
     "text": [
      "File 'cgi_decode.c'\r\n",
      "Lines executed:92.50% of 40\r\n",
      "Creating 'cgi_decode.c.gcov'\r\n",
      "\r\n"
     ]
    }
   ],
   "source": [
    "!gcov cgi_decode.c"
   ]
  },
  {
   "cell_type": "markdown",
   "metadata": {
    "slideshow": {
     "slide_type": "subslide"
    }
   },
   "source": [
    "In the `.gcov` file, each line is prefixed with the number of times it was called (`-` stands for a non-executable line, `#####` stands for zero) as well as the line number.  We can take a look at `cgi_decode()`, for instance, and see that the only code not executed yet is the `return -1` for an illegal input."
   ]
  },
  {
   "cell_type": "code",
   "execution_count": 54,
   "metadata": {
    "execution": {
     "iopub.execute_input": "2022-08-01T12:58:17.981262Z",
     "iopub.status.busy": "2022-08-01T12:58:17.980887Z",
     "iopub.status.idle": "2022-08-01T12:58:17.985722Z",
     "shell.execute_reply": "2022-08-01T12:58:17.985205Z"
    },
    "slideshow": {
     "slide_type": "fragment"
    }
   },
   "outputs": [
    {
     "name": "stdout",
     "output_type": "stream",
     "text": [
      "        1:   26:int cgi_decode(char *s, char *t) {\n",
      "       32:   27:    while (*s != '\\0') {\n",
      "       31:   28:        if (*s == '+')\n",
      "        3:   29:            *t++ = ' ';\n",
      "       28:   30:        else if (*s == '%') {\n",
      "        1:   31:            int digit_high = *++s;\n",
      "        1:   32:            int digit_low = *++s;\n",
      "        1:   33:            if (hex_values[digit_high] >= 0 && hex_values[digit_low] >= 0) {\n",
      "        1:   34:                *t++ = hex_values[digit_high] * 16 + hex_values[digit_low];\n",
      "        1:   35:            }\n",
      "        -:   36:            else\n",
      "    #####:   37:                return -1;\n",
      "        1:   38:        }\n",
      "        -:   39:        else\n",
      "       27:   40:            *t++ = *s;\n",
      "       31:   41:        s++;\n",
      "        -:   42:    }\n",
      "        1:   43:    *t = '\\0';\n",
      "        1:   44:    return 0;\n",
      "        1:   45:}\n"
     ]
    }
   ],
   "source": [
    "lines = open('cgi_decode.c.gcov').readlines()\n",
    "for i in range(30, 50):\n",
    "    print(lines[i], end='')"
   ]
  },
  {
   "cell_type": "markdown",
   "metadata": {
    "slideshow": {
     "slide_type": "subslide"
    }
   },
   "source": [
    "Let us read in this file to obtain a coverage set:"
   ]
  },
  {
   "cell_type": "code",
   "execution_count": 55,
   "metadata": {
    "execution": {
     "iopub.execute_input": "2022-08-01T12:58:17.988473Z",
     "iopub.status.busy": "2022-08-01T12:58:17.988225Z",
     "iopub.status.idle": "2022-08-01T12:58:17.992725Z",
     "shell.execute_reply": "2022-08-01T12:58:17.992277Z"
    },
    "slideshow": {
     "slide_type": "fragment"
    }
   },
   "outputs": [],
   "source": [
    "def read_gcov_coverage(c_file):\n",
    "    gcov_file = c_file + \".gcov\"\n",
    "    coverage = set()\n",
    "    with open(gcov_file) as file:\n",
    "        for line in file.readlines():\n",
    "            elems = line.split(':')\n",
    "            covered = elems[0].strip()\n",
    "            line_number = int(elems[1].strip())\n",
    "            if covered.startswith('-') or covered.startswith('#'):\n",
    "                continue\n",
    "            coverage.add((c_file, line_number))\n",
    "    return coverage"
   ]
  },
  {
   "cell_type": "code",
   "execution_count": 56,
   "metadata": {
    "execution": {
     "iopub.execute_input": "2022-08-01T12:58:17.995098Z",
     "iopub.status.busy": "2022-08-01T12:58:17.994789Z",
     "iopub.status.idle": "2022-08-01T12:58:17.997318Z",
     "shell.execute_reply": "2022-08-01T12:58:17.996983Z"
    },
    "slideshow": {
     "slide_type": "subslide"
    }
   },
   "outputs": [],
   "source": [
    "coverage = read_gcov_coverage('cgi_decode.c')"
   ]
  },
  {
   "cell_type": "code",
   "execution_count": 57,
   "metadata": {
    "execution": {
     "iopub.execute_input": "2022-08-01T12:58:17.999285Z",
     "iopub.status.busy": "2022-08-01T12:58:17.999119Z",
     "iopub.status.idle": "2022-08-01T12:58:18.002181Z",
     "shell.execute_reply": "2022-08-01T12:58:18.001794Z"
    },
    "slideshow": {
     "slide_type": "fragment"
    }
   },
   "outputs": [
    {
     "data": {
      "text/plain": [
       "[('cgi_decode.c', 14),\n",
       " ('cgi_decode.c', 11),\n",
       " ('cgi_decode.c', 17),\n",
       " ('cgi_decode.c', 20),\n",
       " ('cgi_decode.c', 26)]"
      ]
     },
     "execution_count": 57,
     "metadata": {},
     "output_type": "execute_result"
    }
   ],
   "source": [
    "list(coverage)[:5]"
   ]
  },
  {
   "cell_type": "markdown",
   "metadata": {
    "slideshow": {
     "slide_type": "fragment"
    }
   },
   "source": [
    "With this set, we can now do the same coverage computations as with our Python programs."
   ]
  },
  {
   "cell_type": "markdown",
   "metadata": {
    "button": false,
    "new_sheet": false,
    "run_control": {
     "read_only": false
    },
    "slideshow": {
     "slide_type": "slide"
    }
   },
   "source": [
    "## Finding Errors with Basic Fuzzing\n",
    "\n",
    "Given sufficient time, we can indeed cover each and every line within `cgi_decode()`, whatever the programming language would be.  This does not mean that they would be error-free, though.  Since we do not check the result of `cgi_decode()`, the function could return any value without us checking or noticing.  To catch such errors, we would have to set up a *results checker* (commonly called an *oracle*) that would verify test results.  In our case, we could compare the C and Python implementations of `cgi_decode()` and see whether both produce the same results."
   ]
  },
  {
   "cell_type": "markdown",
   "metadata": {
    "button": false,
    "new_sheet": false,
    "run_control": {
     "read_only": false
    },
    "slideshow": {
     "slide_type": "subslide"
    }
   },
   "source": [
    "Where fuzzing is great at, though, is in finding _internal errors_ that can be detected even without checking the result.  Actually, if one runs our `fuzzer()` on `cgi_decode()`, one quickly finds such an error, as the following code shows:"
   ]
  },
  {
   "cell_type": "code",
   "execution_count": 58,
   "metadata": {
    "button": false,
    "execution": {
     "iopub.execute_input": "2022-08-01T12:58:18.004399Z",
     "iopub.status.busy": "2022-08-01T12:58:18.004248Z",
     "iopub.status.idle": "2022-08-01T12:58:18.006430Z",
     "shell.execute_reply": "2022-08-01T12:58:18.006072Z"
    },
    "new_sheet": false,
    "run_control": {
     "read_only": false
    },
    "slideshow": {
     "slide_type": "fragment"
    }
   },
   "outputs": [],
   "source": [
    "from ExpectError import ExpectError"
   ]
  },
  {
   "cell_type": "code",
   "execution_count": 59,
   "metadata": {
    "button": false,
    "execution": {
     "iopub.execute_input": "2022-08-01T12:58:18.008175Z",
     "iopub.status.busy": "2022-08-01T12:58:18.008054Z",
     "iopub.status.idle": "2022-08-01T12:58:18.011337Z",
     "shell.execute_reply": "2022-08-01T12:58:18.010951Z"
    },
    "new_sheet": false,
    "run_control": {
     "read_only": false
    },
    "slideshow": {
     "slide_type": "fragment"
    }
   },
   "outputs": [
    {
     "name": "stderr",
     "output_type": "stream",
     "text": [
      "Traceback (most recent call last):\n",
      "  File \"/var/folders/n2/xd9445p97rb3xh7m1dfx8_4h0006ts/T/ipykernel_88552/2238772797.py\", line 5, in <cell line: 1>\n",
      "    cgi_decode(s)\n",
      "  File \"/var/folders/n2/xd9445p97rb3xh7m1dfx8_4h0006ts/T/ipykernel_88552/1071239422.py\", line 22, in cgi_decode\n",
      "    digit_high, digit_low = s[i + 1], s[i + 2]\n",
      "IndexError: string index out of range (expected)\n"
     ]
    }
   ],
   "source": [
    "with ExpectError():\n",
    "    for i in range(trials):\n",
    "        try:\n",
    "            s = fuzzer()\n",
    "            cgi_decode(s)\n",
    "        except ValueError:\n",
    "            pass"
   ]
  },
  {
   "cell_type": "markdown",
   "metadata": {
    "button": false,
    "new_sheet": false,
    "run_control": {
     "read_only": false
    },
    "slideshow": {
     "slide_type": "fragment"
    }
   },
   "source": [
    "So, it is possible to cause `cgi_decode()` to crash.  Why is that?  Let's take a look at its input:"
   ]
  },
  {
   "cell_type": "code",
   "execution_count": 60,
   "metadata": {
    "button": false,
    "execution": {
     "iopub.execute_input": "2022-08-01T12:58:18.013490Z",
     "iopub.status.busy": "2022-08-01T12:58:18.013321Z",
     "iopub.status.idle": "2022-08-01T12:58:18.015911Z",
     "shell.execute_reply": "2022-08-01T12:58:18.015544Z"
    },
    "new_sheet": false,
    "run_control": {
     "read_only": false
    },
    "slideshow": {
     "slide_type": "subslide"
    }
   },
   "outputs": [
    {
     "data": {
      "text/plain": [
       "'82 202*&<1&($34\\'\"/\\'.<5/!8\"\\'5:!4))%;'"
      ]
     },
     "execution_count": 60,
     "metadata": {},
     "output_type": "execute_result"
    }
   ],
   "source": [
    "s"
   ]
  },
  {
   "cell_type": "markdown",
   "metadata": {
    "button": false,
    "new_sheet": false,
    "run_control": {
     "read_only": false
    },
    "slideshow": {
     "slide_type": "fragment"
    }
   },
   "source": [
    "The problem here is at the end of the string.  After a `'%'` character, our implementation will always attempt to access two more (hexadecimal) characters, but if these are not there, we will get an `IndexError` exception.  "
   ]
  },
  {
   "cell_type": "markdown",
   "metadata": {
    "button": false,
    "new_sheet": false,
    "run_control": {
     "read_only": false
    },
    "slideshow": {
     "slide_type": "subslide"
    }
   },
   "source": [
    "This problem is also present in our C variant, which inherits it from the original implementation \\cite{Pezze2008}:\n",
    "\n",
    "```c\n",
    "int digit_high = *++s;\n",
    "int digit_low = *++s;\n",
    "```\n",
    "\n",
    "Here, `s` is a pointer to the character to be read; `++` increments it by one character.\n",
    "In the C implementation, the problem is actually much worse.  If the `'%'` character is at the end of the string, the above code will first read a terminating character (`'\\0'` in C strings) and then the following character, which may be any memory content after the string, and which thus may cause the program to fail uncontrollably.  The somewhat good news is that `'\\0'` is not a valid hexadecimal character, and thus, the C version will \"only\" read one character beyond the end of the string."
   ]
  },
  {
   "cell_type": "markdown",
   "metadata": {
    "button": false,
    "new_sheet": false,
    "run_control": {
     "read_only": false
    },
    "slideshow": {
     "slide_type": "fragment"
    }
   },
   "source": [
    "Interestingly enough, none of the manual tests we had designed earlier would trigger this bug.  Actually, neither statement nor branch coverage, nor any of the coverage criteria commonly discussed in literature would find it.  However, a simple fuzzing run can identify the error with a few runs – _if_ appropriate run-time checks are in place that find such overflows.  This definitely calls for more fuzzing!"
   ]
  },
  {
   "cell_type": "markdown",
   "metadata": {
    "slideshow": {
     "slide_type": "slide"
    }
   },
   "source": [
    "## Synopsis\n",
    "\n",
    "This chapter introduces a `Coverage` class allowing you to measure coverage for Python programs. Within the context of this book, we use coverage information to guide fuzzing towards uncovered locations."
   ]
  },
  {
   "cell_type": "markdown",
   "metadata": {
    "slideshow": {
     "slide_type": "fragment"
    }
   },
   "source": [
    "The typical usage of the `Coverage` class is in conjunction with a `with` clause:"
   ]
  },
  {
   "cell_type": "code",
   "execution_count": 61,
   "metadata": {
    "execution": {
     "iopub.execute_input": "2022-08-01T12:58:18.017808Z",
     "iopub.status.busy": "2022-08-01T12:58:18.017633Z",
     "iopub.status.idle": "2022-08-01T12:58:18.019994Z",
     "shell.execute_reply": "2022-08-01T12:58:18.019429Z"
    },
    "slideshow": {
     "slide_type": "fragment"
    }
   },
   "outputs": [],
   "source": [
    "with Coverage() as cov:\n",
    "    cgi_decode(\"a+b\")"
   ]
  },
  {
   "cell_type": "markdown",
   "metadata": {
    "slideshow": {
     "slide_type": "fragment"
    }
   },
   "source": [
    "Printing out a coverage object shows the covered functions, with covered lines prefixed as `#`:"
   ]
  },
  {
   "cell_type": "code",
   "execution_count": 62,
   "metadata": {
    "execution": {
     "iopub.execute_input": "2022-08-01T12:58:18.022373Z",
     "iopub.status.busy": "2022-08-01T12:58:18.022180Z",
     "iopub.status.idle": "2022-08-01T12:58:18.025498Z",
     "shell.execute_reply": "2022-08-01T12:58:18.025203Z"
    },
    "slideshow": {
     "slide_type": "subslide"
    }
   },
   "outputs": [
    {
     "name": "stdout",
     "output_type": "stream",
     "text": [
      "   1  def cgi_decode(s: str) -> str:\n",
      "   2      \"\"\"Decode the CGI-encoded string `s`:\n",
      "   3         * replace '+' by ' '\n",
      "   4         * replace \"%xx\" by the character with hex number xx.\n",
      "   5         Return the decoded string.  Raise `ValueError` for invalid inputs.\"\"\"\n",
      "   6  \n",
      "   7      # Mapping of hex digits to their integer values\n",
      "#  8      hex_values = {\n",
      "#  9          '0': 0, '1': 1, '2': 2, '3': 3, '4': 4,\n",
      "# 10          '5': 5, '6': 6, '7': 7, '8': 8, '9': 9,\n",
      "# 11          'a': 10, 'b': 11, 'c': 12, 'd': 13, 'e': 14, 'f': 15,\n",
      "# 12          'A': 10, 'B': 11, 'C': 12, 'D': 13, 'E': 14, 'F': 15,\n",
      "  13      }\n",
      "  14  \n",
      "# 15      t = \"\"\n",
      "# 16      i = 0\n",
      "# 17      while i < len(s):\n",
      "# 18          c = s[i]\n",
      "# 19          if c == '+':\n",
      "# 20              t += ' '\n",
      "# 21          elif c == '%':\n",
      "  22              digit_high, digit_low = s[i + 1], s[i + 2]\n",
      "  23              i += 2\n",
      "  24              if digit_high in hex_values and digit_low in hex_values:\n",
      "  25                  v = hex_values[digit_high] * 16 + hex_values[digit_low]\n",
      "  26                  t += chr(v)\n",
      "  27              else:\n",
      "  28                  raise ValueError(\"Invalid encoding\")\n",
      "  29          else:\n",
      "# 30              t += c\n",
      "# 31          i += 1\n",
      "# 32      return t\n",
      "\n"
     ]
    }
   ],
   "source": [
    "print(cov)"
   ]
  },
  {
   "cell_type": "markdown",
   "metadata": {
    "slideshow": {
     "slide_type": "subslide"
    }
   },
   "source": [
    "The `trace()` method returns the _trace_ – that is, the list of locations executed in order. Each location comes as a pair (`function name`, `line`)."
   ]
  },
  {
   "cell_type": "code",
   "execution_count": 63,
   "metadata": {
    "execution": {
     "iopub.execute_input": "2022-08-01T12:58:18.027043Z",
     "iopub.status.busy": "2022-08-01T12:58:18.026931Z",
     "iopub.status.idle": "2022-08-01T12:58:18.030001Z",
     "shell.execute_reply": "2022-08-01T12:58:18.029711Z"
    },
    "slideshow": {
     "slide_type": "subslide"
    }
   },
   "outputs": [
    {
     "data": {
      "text/plain": [
       "[('cgi_decode', 9),\n",
       " ('cgi_decode', 10),\n",
       " ('cgi_decode', 11),\n",
       " ('cgi_decode', 12),\n",
       " ('cgi_decode', 8),\n",
       " ('cgi_decode', 15),\n",
       " ('cgi_decode', 16),\n",
       " ('cgi_decode', 17),\n",
       " ('cgi_decode', 18),\n",
       " ('cgi_decode', 19),\n",
       " ('cgi_decode', 21),\n",
       " ('cgi_decode', 30),\n",
       " ('cgi_decode', 31),\n",
       " ('cgi_decode', 17),\n",
       " ('cgi_decode', 18),\n",
       " ('cgi_decode', 19),\n",
       " ('cgi_decode', 20),\n",
       " ('cgi_decode', 31),\n",
       " ('cgi_decode', 17),\n",
       " ('cgi_decode', 18),\n",
       " ('cgi_decode', 19),\n",
       " ('cgi_decode', 21),\n",
       " ('cgi_decode', 30),\n",
       " ('cgi_decode', 31),\n",
       " ('cgi_decode', 17),\n",
       " ('cgi_decode', 32)]"
      ]
     },
     "execution_count": 63,
     "metadata": {},
     "output_type": "execute_result"
    }
   ],
   "source": [
    "cov.trace()"
   ]
  },
  {
   "cell_type": "markdown",
   "metadata": {
    "slideshow": {
     "slide_type": "subslide"
    }
   },
   "source": [
    "The `coverage()` method returns the _coverage_, that is, the set of locations in the trace executed at least once:"
   ]
  },
  {
   "cell_type": "code",
   "execution_count": 64,
   "metadata": {
    "execution": {
     "iopub.execute_input": "2022-08-01T12:58:18.031573Z",
     "iopub.status.busy": "2022-08-01T12:58:18.031471Z",
     "iopub.status.idle": "2022-08-01T12:58:18.034228Z",
     "shell.execute_reply": "2022-08-01T12:58:18.033950Z"
    },
    "slideshow": {
     "slide_type": "subslide"
    }
   },
   "outputs": [
    {
     "data": {
      "text/plain": [
       "{('cgi_decode', 8),\n",
       " ('cgi_decode', 9),\n",
       " ('cgi_decode', 10),\n",
       " ('cgi_decode', 11),\n",
       " ('cgi_decode', 12),\n",
       " ('cgi_decode', 15),\n",
       " ('cgi_decode', 16),\n",
       " ('cgi_decode', 17),\n",
       " ('cgi_decode', 18),\n",
       " ('cgi_decode', 19),\n",
       " ('cgi_decode', 20),\n",
       " ('cgi_decode', 21),\n",
       " ('cgi_decode', 30),\n",
       " ('cgi_decode', 31),\n",
       " ('cgi_decode', 32)}"
      ]
     },
     "execution_count": 64,
     "metadata": {},
     "output_type": "execute_result"
    }
   ],
   "source": [
    "cov.coverage()"
   ]
  },
  {
   "cell_type": "markdown",
   "metadata": {
    "slideshow": {
     "slide_type": "subslide"
    }
   },
   "source": [
    "Coverage sets can be subject to set operations, such as _intersection_ (which locations are covered in multiple executions) and _difference_ (which locations are covered in run _a_, but not _b_)."
   ]
  },
  {
   "cell_type": "markdown",
   "metadata": {
    "slideshow": {
     "slide_type": "fragment"
    }
   },
   "source": [
    "The chapter also discusses how to obtain such coverage from C programs."
   ]
  },
  {
   "cell_type": "code",
   "execution_count": 65,
   "metadata": {
    "execution": {
     "iopub.execute_input": "2022-08-01T12:58:18.035954Z",
     "iopub.status.busy": "2022-08-01T12:58:18.035735Z",
     "iopub.status.idle": "2022-08-01T12:58:18.037661Z",
     "shell.execute_reply": "2022-08-01T12:58:18.037409Z"
    },
    "slideshow": {
     "slide_type": "fragment"
    }
   },
   "outputs": [],
   "source": [
    "# ignore\n",
    "from ClassDiagram import display_class_hierarchy"
   ]
  },
  {
   "cell_type": "code",
   "execution_count": 66,
   "metadata": {
    "execution": {
     "iopub.execute_input": "2022-08-01T12:58:18.039125Z",
     "iopub.status.busy": "2022-08-01T12:58:18.039019Z",
     "iopub.status.idle": "2022-08-01T12:58:18.378900Z",
     "shell.execute_reply": "2022-08-01T12:58:18.378487Z"
    },
    "slideshow": {
     "slide_type": "subslide"
    }
   },
   "outputs": [
    {
     "data": {
      "image/svg+xml": [
       "<?xml version=\"1.0\" encoding=\"UTF-8\" standalone=\"no\"?>\n",
       "<!DOCTYPE svg PUBLIC \"-//W3C//DTD SVG 1.1//EN\"\n",
       " \"http://www.w3.org/Graphics/SVG/1.1/DTD/svg11.dtd\">\n",
       "<!-- Generated by graphviz version 3.0.0 (20220226.1711)\n",
       " -->\n",
       "<!-- Pages: 1 -->\n",
       "<svg width=\"260pt\" height=\"128pt\"\n",
       " viewBox=\"0.00 0.00 259.50 128.00\" xmlns=\"http://www.w3.org/2000/svg\" xmlns:xlink=\"http://www.w3.org/1999/xlink\">\n",
       "<g id=\"graph0\" class=\"graph\" transform=\"scale(1 1) rotate(0) translate(4 124)\">\n",
       "<g id=\"a_graph0\"><a xlink:title=\"Coverage class hierarchy\">\n",
       "<polygon fill=\"white\" stroke=\"transparent\" points=\"-4,4 -4,-124 255.5,-124 255.5,4 -4,4\"/>\n",
       "</a>\n",
       "</g>\n",
       "<!-- Coverage -->\n",
       "<g id=\"node1\" class=\"node\">\n",
       "<title>Coverage</title>\n",
       "<g id=\"a_node1\"><a xlink:href=\"#\" xlink:title=\"class Coverage:&#10;Track coverage within a `with` block. Use as&#10;```&#10;with Coverage() as cov:&#10;function_to_be_traced()&#10;c = cov.coverage()&#10;```\">\n",
       "<polygon fill=\"none\" stroke=\"black\" points=\"0,-0.5 0,-119.5 113,-119.5 113,-0.5 0,-0.5\"/>\n",
       "<text text-anchor=\"start\" x=\"27.5\" y=\"-105.3\" font-family=\"Patua One, Helvetica, sans-serif\" font-weight=\"bold\" font-size=\"14.00\" fill=\"#b03a2e\">Coverage</text>\n",
       "<polyline fill=\"none\" stroke=\"black\" points=\"0,-96.5 113,-96.5 \"/>\n",
       "<g id=\"a_node1_0\"><a xlink:href=\"#\" xlink:title=\"Coverage\">\n",
       "<g id=\"a_node1_1\"><a xlink:href=\"#\" xlink:title=\"__enter__(self) &#45;&gt; Any:&#10;Start of `with` block. Turn on tracing.\">\n",
       "<text text-anchor=\"start\" x=\"8.5\" y=\"-85.5\" font-family=\"'Fira Mono', 'Source Code Pro', 'Courier', monospace\" font-weight=\"bold\" font-size=\"10.00\">__enter__()</text>\n",
       "</a>\n",
       "</g>\n",
       "<g id=\"a_node1_2\"><a xlink:href=\"#\" xlink:title=\"__exit__(self, exc_type: Type, exc_value: BaseException, tb: traceback) &#45;&gt; Optional[bool]:&#10;End of `with` block. Turn off tracing.\">\n",
       "<text text-anchor=\"start\" x=\"8.5\" y=\"-74.5\" font-family=\"'Fira Mono', 'Source Code Pro', 'Courier', monospace\" font-weight=\"bold\" font-size=\"10.00\">__exit__()</text>\n",
       "</a>\n",
       "</g>\n",
       "<g id=\"a_node1_3\"><a xlink:href=\"#\" xlink:title=\"__init__(self) &#45;&gt; None:&#10;Constructor\">\n",
       "<text text-anchor=\"start\" x=\"8.5\" y=\"-63.5\" font-family=\"'Fira Mono', 'Source Code Pro', 'Courier', monospace\" font-weight=\"bold\" font-size=\"10.00\">__init__()</text>\n",
       "</a>\n",
       "</g>\n",
       "<g id=\"a_node1_4\"><a xlink:href=\"#\" xlink:title=\"__repr__(self) &#45;&gt; str:&#10;Return a string representation of this object.&#10;Show covered (and uncovered) program code\">\n",
       "<text text-anchor=\"start\" x=\"8.5\" y=\"-52.5\" font-family=\"'Fira Mono', 'Source Code Pro', 'Courier', monospace\" font-weight=\"bold\" font-size=\"10.00\">__repr__()</text>\n",
       "</a>\n",
       "</g>\n",
       "<g id=\"a_node1_5\"><a xlink:href=\"#\" xlink:title=\"coverage(self) &#45;&gt; Set[Location]:&#10;The set of executed lines, as (function_name, line_number) pairs\">\n",
       "<text text-anchor=\"start\" x=\"8.5\" y=\"-41.5\" font-family=\"'Fira Mono', 'Source Code Pro', 'Courier', monospace\" font-weight=\"bold\" font-size=\"10.00\">coverage()</text>\n",
       "</a>\n",
       "</g>\n",
       "<g id=\"a_node1_6\"><a xlink:href=\"#\" xlink:title=\"function_names(self) &#45;&gt; Set[str]:&#10;The set of function names seen\">\n",
       "<text text-anchor=\"start\" x=\"8.5\" y=\"-30.5\" font-family=\"'Fira Mono', 'Source Code Pro', 'Courier', monospace\" font-weight=\"bold\" font-size=\"10.00\">function_names()</text>\n",
       "</a>\n",
       "</g>\n",
       "<g id=\"a_node1_7\"><a xlink:href=\"#\" xlink:title=\"trace(self) &#45;&gt; List[Location]:&#10;The list of executed lines, as (function_name, line_number) pairs\">\n",
       "<text text-anchor=\"start\" x=\"8.5\" y=\"-19.5\" font-family=\"'Fira Mono', 'Source Code Pro', 'Courier', monospace\" font-weight=\"bold\" font-size=\"10.00\">trace()</text>\n",
       "</a>\n",
       "</g>\n",
       "<g id=\"a_node1_8\"><a xlink:href=\"#\" xlink:title=\"traceit(self, frame: frame, event: str, arg: Any) &#45;&gt; Optional[Callable]:&#10;Tracing function. To be overloaded in subclasses.\">\n",
       "<text text-anchor=\"start\" x=\"8.5\" y=\"-8.5\" font-family=\"'Fira Mono', 'Source Code Pro', 'Courier', monospace\" font-style=\"italic\" font-size=\"10.00\">traceit()</text>\n",
       "</a>\n",
       "</g>\n",
       "</a>\n",
       "</g>\n",
       "</a>\n",
       "</g>\n",
       "</g>\n",
       "<!-- Legend -->\n",
       "<g id=\"node2\" class=\"node\">\n",
       "<title>Legend</title>\n",
       "<text text-anchor=\"start\" x=\"131.5\" y=\"-77.5\" font-family=\"Patua One, Helvetica, sans-serif\" font-weight=\"bold\" font-size=\"10.00\" fill=\"#b03a2e\">Legend</text>\n",
       "<text text-anchor=\"start\" x=\"131.5\" y=\"-67.5\" font-family=\"Patua One, Helvetica, sans-serif\" font-size=\"10.00\">• </text>\n",
       "<text text-anchor=\"start\" x=\"138.5\" y=\"-67.5\" font-family=\"'Fira Mono', 'Source Code Pro', 'Courier', monospace\" font-weight=\"bold\" font-size=\"8.00\">public_method()</text>\n",
       "<text text-anchor=\"start\" x=\"131.5\" y=\"-57.5\" font-family=\"Patua One, Helvetica, sans-serif\" font-size=\"10.00\">• </text>\n",
       "<text text-anchor=\"start\" x=\"138.5\" y=\"-57.5\" font-family=\"'Fira Mono', 'Source Code Pro', 'Courier', monospace\" font-size=\"8.00\">private_method()</text>\n",
       "<text text-anchor=\"start\" x=\"131.5\" y=\"-47.5\" font-family=\"Patua One, Helvetica, sans-serif\" font-size=\"10.00\">• </text>\n",
       "<text text-anchor=\"start\" x=\"138.5\" y=\"-47.5\" font-family=\"'Fira Mono', 'Source Code Pro', 'Courier', monospace\" font-style=\"italic\" font-size=\"8.00\">overloaded_method()</text>\n",
       "<text text-anchor=\"start\" x=\"131.5\" y=\"-38.3\" font-family=\"Helvetica,sans-Serif\" font-size=\"9.00\">Hover over names to see doc</text>\n",
       "</g>\n",
       "</g>\n",
       "</svg>\n"
      ],
      "text/plain": [
       "<graphviz.graphs.Digraph at 0x10e3a50d0>"
      ]
     },
     "execution_count": 66,
     "metadata": {},
     "output_type": "execute_result"
    }
   ],
   "source": [
    "# ignore\n",
    "display_class_hierarchy(Coverage,\n",
    "                        public_methods=[\n",
    "                            Coverage.__init__,\n",
    "                            Coverage.__enter__,\n",
    "                            Coverage.__exit__,\n",
    "                            Coverage.coverage,\n",
    "                            Coverage.trace,\n",
    "                            Coverage.function_names,\n",
    "                            Coverage.__repr__,\n",
    "                        ],\n",
    "                        types={'Location': Location},\n",
    "                        project='fuzzingbook')"
   ]
  },
  {
   "cell_type": "markdown",
   "metadata": {
    "button": false,
    "new_sheet": false,
    "run_control": {
     "read_only": false
    },
    "slideshow": {
     "slide_type": "slide"
    }
   },
   "source": [
    "## Lessons Learned\n",
    "\n",
    "* Coverage metrics are a simple and fully automated means to approximate how much functionality of a program is actually executed during a test run.\n",
    "* A number of coverage metrics exist, the most important ones being statement coverage and branch coverage.\n",
    "* In Python, it is very easy to access the program state during execution, including the currently executed code."
   ]
  },
  {
   "cell_type": "markdown",
   "metadata": {
    "slideshow": {
     "slide_type": "skip"
    }
   },
   "source": [
    "At the end of the day, let's clean up: (Note that the following commands will delete all files in the current working directory that fit the pattern `cgi_decode.*`. Be aware of this, if you downloaded the notebooks and are working locally.)"
   ]
  },
  {
   "cell_type": "code",
   "execution_count": 67,
   "metadata": {
    "execution": {
     "iopub.execute_input": "2022-08-01T12:58:18.380863Z",
     "iopub.status.busy": "2022-08-01T12:58:18.380692Z",
     "iopub.status.idle": "2022-08-01T12:58:18.382797Z",
     "shell.execute_reply": "2022-08-01T12:58:18.382541Z"
    },
    "slideshow": {
     "slide_type": "skip"
    }
   },
   "outputs": [],
   "source": [
    "import os\n",
    "import glob"
   ]
  },
  {
   "cell_type": "code",
   "execution_count": 68,
   "metadata": {
    "execution": {
     "iopub.execute_input": "2022-08-01T12:58:18.384154Z",
     "iopub.status.busy": "2022-08-01T12:58:18.384026Z",
     "iopub.status.idle": "2022-08-01T12:58:18.386584Z",
     "shell.execute_reply": "2022-08-01T12:58:18.386315Z"
    },
    "slideshow": {
     "slide_type": "skip"
    }
   },
   "outputs": [],
   "source": [
    "for file in glob.glob(\"cgi_decode\") + glob.glob(\"cgi_decode.*\"):\n",
    "    os.remove(file)"
   ]
  },
  {
   "cell_type": "markdown",
   "metadata": {
    "button": false,
    "new_sheet": false,
    "run_control": {
     "read_only": false
    },
    "slideshow": {
     "slide_type": "skip"
    }
   },
   "source": [
    "## Next Steps\n",
    "\n",
    "Coverage is not only a tool to _measure_ test effectiveness, but also a great tool to _guide_ test generation towards specific goals – in particular uncovered code.  We use coverage to\n",
    "\n",
    "* [guide _mutations_ of existing inputs towards better coverage in the chapter on mutation fuzzing](MutationFuzzer.ipynb)\n"
   ]
  },
  {
   "cell_type": "markdown",
   "metadata": {
    "slideshow": {
     "slide_type": "slide"
    }
   },
   "source": [
    "## Background\n",
    "\n",
    "Coverage is a central concept in systematic software testing.  For discussions, see the books in the [Introduction to Testing](Intro_Testing.ipynb)."
   ]
  },
  {
   "cell_type": "markdown",
   "metadata": {
    "button": false,
    "new_sheet": false,
    "run_control": {
     "read_only": false
    },
    "slideshow": {
     "slide_type": "slide"
    }
   },
   "source": [
    "## Exercises"
   ]
  },
  {
   "cell_type": "markdown",
   "metadata": {
    "button": false,
    "new_sheet": false,
    "run_control": {
     "read_only": false
    },
    "slideshow": {
     "slide_type": "subslide"
    },
    "solution": "hidden",
    "solution2": "hidden",
    "solution2_first": true,
    "solution_first": true
   },
   "source": [
    "### Exercise 1: Fixing `cgi_decode()`\n",
    "\n",
    "Create an appropriate test to reproduce the `IndexError` discussed above.  Fix `cgi_decode()` to prevent the bug.  Show that your test (and additional `fuzzer()` runs) no longer expose the bug.  Do the same for the C variant."
   ]
  },
  {
   "cell_type": "markdown",
   "metadata": {
    "button": false,
    "new_sheet": false,
    "run_control": {
     "read_only": false
    },
    "slideshow": {
     "slide_type": "subslide"
    },
    "solution": "hidden",
    "solution2": "hidden"
   },
   "source": [
    "**Solution.**  Here's a test case:"
   ]
  },
  {
   "cell_type": "code",
   "execution_count": 69,
   "metadata": {
    "execution": {
     "iopub.execute_input": "2022-08-01T12:58:18.388207Z",
     "iopub.status.busy": "2022-08-01T12:58:18.388075Z",
     "iopub.status.idle": "2022-08-01T12:58:18.390214Z",
     "shell.execute_reply": "2022-08-01T12:58:18.389966Z"
    },
    "slideshow": {
     "slide_type": "fragment"
    },
    "solution2": "hidden"
   },
   "outputs": [
    {
     "name": "stderr",
     "output_type": "stream",
     "text": [
      "Traceback (most recent call last):\n",
      "  File \"/var/folders/n2/xd9445p97rb3xh7m1dfx8_4h0006ts/T/ipykernel_88552/1102034435.py\", line 2, in <cell line: 1>\n",
      "    assert cgi_decode('%') == '%'\n",
      "  File \"/var/folders/n2/xd9445p97rb3xh7m1dfx8_4h0006ts/T/ipykernel_88552/1071239422.py\", line 22, in cgi_decode\n",
      "    digit_high, digit_low = s[i + 1], s[i + 2]\n",
      "IndexError: string index out of range (expected)\n"
     ]
    }
   ],
   "source": [
    "with ExpectError():\n",
    "    assert cgi_decode('%') == '%'"
   ]
  },
  {
   "cell_type": "code",
   "execution_count": 70,
   "metadata": {
    "execution": {
     "iopub.execute_input": "2022-08-01T12:58:18.391604Z",
     "iopub.status.busy": "2022-08-01T12:58:18.391490Z",
     "iopub.status.idle": "2022-08-01T12:58:18.393412Z",
     "shell.execute_reply": "2022-08-01T12:58:18.393167Z"
    },
    "slideshow": {
     "slide_type": "fragment"
    },
    "solution2": "hidden"
   },
   "outputs": [
    {
     "name": "stderr",
     "output_type": "stream",
     "text": [
      "Traceback (most recent call last):\n",
      "  File \"/var/folders/n2/xd9445p97rb3xh7m1dfx8_4h0006ts/T/ipykernel_88552/2291699482.py\", line 2, in <cell line: 1>\n",
      "    assert cgi_decode('%4') == '%4'\n",
      "  File \"/var/folders/n2/xd9445p97rb3xh7m1dfx8_4h0006ts/T/ipykernel_88552/1071239422.py\", line 22, in cgi_decode\n",
      "    digit_high, digit_low = s[i + 1], s[i + 2]\n",
      "IndexError: string index out of range (expected)\n"
     ]
    }
   ],
   "source": [
    "with ExpectError():\n",
    "    assert cgi_decode('%4') == '%4'"
   ]
  },
  {
   "cell_type": "code",
   "execution_count": 71,
   "metadata": {
    "execution": {
     "iopub.execute_input": "2022-08-01T12:58:18.395053Z",
     "iopub.status.busy": "2022-08-01T12:58:18.394904Z",
     "iopub.status.idle": "2022-08-01T12:58:18.396834Z",
     "shell.execute_reply": "2022-08-01T12:58:18.396484Z"
    },
    "slideshow": {
     "slide_type": "fragment"
    },
    "solution2": "hidden"
   },
   "outputs": [],
   "source": [
    "assert cgi_decode('%40') == '@'"
   ]
  },
  {
   "cell_type": "markdown",
   "metadata": {
    "slideshow": {
     "slide_type": "subslide"
    },
    "solution2": "hidden"
   },
   "source": [
    "Here's a fix:"
   ]
  },
  {
   "cell_type": "code",
   "execution_count": 72,
   "metadata": {
    "execution": {
     "iopub.execute_input": "2022-08-01T12:58:18.398280Z",
     "iopub.status.busy": "2022-08-01T12:58:18.398167Z",
     "iopub.status.idle": "2022-08-01T12:58:18.402277Z",
     "shell.execute_reply": "2022-08-01T12:58:18.402005Z"
    },
    "slideshow": {
     "slide_type": "fragment"
    },
    "solution2": "hidden"
   },
   "outputs": [],
   "source": [
    "def fixed_cgi_decode(s):\n",
    "    \"\"\"Decode the CGI-encoded string `s`:\n",
    "       * replace \"+\" by \" \"\n",
    "       * replace \"%xx\" by the character with hex number xx.\n",
    "       Return the decoded string.  Raise `ValueError` for invalid inputs.\"\"\"\n",
    "\n",
    "    # Mapping of hex digits to their integer values\n",
    "    hex_values = {\n",
    "        '0': 0, '1': 1, '2': 2, '3': 3, '4': 4,\n",
    "        '5': 5, '6': 6, '7': 7, '8': 8, '9': 9,\n",
    "        'a': 10, 'b': 11, 'c': 12, 'd': 13, 'e': 14, 'f': 15,\n",
    "        'A': 10, 'B': 11, 'C': 12, 'D': 13, 'E': 14, 'F': 15,\n",
    "    }\n",
    "\n",
    "    t = \"\"\n",
    "    i = 0\n",
    "    while i < len(s):\n",
    "        c = s[i]\n",
    "        if c == '+':\n",
    "            t += ' '\n",
    "        elif c == '%' and i + 2 < len(s):  # <--- *** FIX ***\n",
    "            digit_high, digit_low = s[i + 1], s[i + 2]\n",
    "            i += 2\n",
    "            if digit_high in hex_values and digit_low in hex_values:\n",
    "                v = hex_values[digit_high] * 16 + hex_values[digit_low]\n",
    "                t += chr(v)\n",
    "            else:\n",
    "                raise ValueError(\"Invalid encoding\")\n",
    "        else:\n",
    "            t += c\n",
    "        i += 1\n",
    "    return t"
   ]
  },
  {
   "cell_type": "code",
   "execution_count": 73,
   "metadata": {
    "execution": {
     "iopub.execute_input": "2022-08-01T12:58:18.404171Z",
     "iopub.status.busy": "2022-08-01T12:58:18.404061Z",
     "iopub.status.idle": "2022-08-01T12:58:18.406061Z",
     "shell.execute_reply": "2022-08-01T12:58:18.405794Z"
    },
    "slideshow": {
     "slide_type": "subslide"
    },
    "solution2": "hidden"
   },
   "outputs": [],
   "source": [
    "assert fixed_cgi_decode('%') == '%'"
   ]
  },
  {
   "cell_type": "code",
   "execution_count": 74,
   "metadata": {
    "execution": {
     "iopub.execute_input": "2022-08-01T12:58:18.407488Z",
     "iopub.status.busy": "2022-08-01T12:58:18.407398Z",
     "iopub.status.idle": "2022-08-01T12:58:18.409159Z",
     "shell.execute_reply": "2022-08-01T12:58:18.408920Z"
    },
    "slideshow": {
     "slide_type": "fragment"
    },
    "solution2": "hidden"
   },
   "outputs": [],
   "source": [
    "assert fixed_cgi_decode('%4') == '%4'"
   ]
  },
  {
   "cell_type": "code",
   "execution_count": 75,
   "metadata": {
    "execution": {
     "iopub.execute_input": "2022-08-01T12:58:18.410859Z",
     "iopub.status.busy": "2022-08-01T12:58:18.410670Z",
     "iopub.status.idle": "2022-08-01T12:58:18.412775Z",
     "shell.execute_reply": "2022-08-01T12:58:18.412458Z"
    },
    "slideshow": {
     "slide_type": "fragment"
    },
    "solution2": "hidden"
   },
   "outputs": [],
   "source": [
    "assert fixed_cgi_decode('%40') == '@'"
   ]
  },
  {
   "cell_type": "markdown",
   "metadata": {
    "slideshow": {
     "slide_type": "subslide"
    },
    "solution2": "hidden"
   },
   "source": [
    "Here's the test:"
   ]
  },
  {
   "cell_type": "code",
   "execution_count": 76,
   "metadata": {
    "execution": {
     "iopub.execute_input": "2022-08-01T12:58:18.414682Z",
     "iopub.status.busy": "2022-08-01T12:58:18.414563Z",
     "iopub.status.idle": "2022-08-01T12:58:18.419262Z",
     "shell.execute_reply": "2022-08-01T12:58:18.419034Z"
    },
    "slideshow": {
     "slide_type": "fragment"
    },
    "solution2": "hidden"
   },
   "outputs": [],
   "source": [
    "for i in range(trials):\n",
    "    try:\n",
    "        s = fuzzer()\n",
    "        fixed_cgi_decode(s)\n",
    "    except ValueError:\n",
    "        pass"
   ]
  },
  {
   "cell_type": "markdown",
   "metadata": {
    "slideshow": {
     "slide_type": "fragment"
    },
    "solution2": "hidden"
   },
   "source": [
    "For the C variant, the following will do:"
   ]
  },
  {
   "cell_type": "code",
   "execution_count": 77,
   "metadata": {
    "execution": {
     "iopub.execute_input": "2022-08-01T12:58:18.420945Z",
     "iopub.status.busy": "2022-08-01T12:58:18.420841Z",
     "iopub.status.idle": "2022-08-01T12:58:18.422818Z",
     "shell.execute_reply": "2022-08-01T12:58:18.422513Z"
    },
    "slideshow": {
     "slide_type": "fragment"
    },
    "solution2": "hidden"
   },
   "outputs": [],
   "source": [
    "cgi_c_code = cgi_c_code.replace(\n",
    "    r\"if (*s == '%')\",  # old code\n",
    "    r\"if (*s == '%' && s[1] != '\\0' && s[2] != '\\0')\"  # new code\n",
    ")"
   ]
  },
  {
   "cell_type": "markdown",
   "metadata": {
    "slideshow": {
     "slide_type": "subslide"
    },
    "solution2": "hidden"
   },
   "source": [
    "Go back to the above compilation commands and recompile `cgi_decode`."
   ]
  },
  {
   "cell_type": "markdown",
   "metadata": {
    "button": false,
    "new_sheet": false,
    "run_control": {
     "read_only": false
    },
    "slideshow": {
     "slide_type": "subslide"
    }
   },
   "source": [
    "### Exercise 2: Branch Coverage\n",
    "\n",
    "Besides statement coverage, _branch coverage_ is one of the most frequently used criteria to determine the quality of a test.  In a nutshell, branch coverage measures how many different _control decisions_ are made in code.  In the statement\n",
    "\n",
    "```python\n",
    "if CONDITION:\n",
    "    do_a()\n",
    "else:\n",
    "    do_b()\n",
    "```\n",
    "\n",
    "for instance, both the cases where `CONDITION` is true (branching to `do_a()`) and where `CONDITION` is false (branching to `do_b()`) have to be covered.  This holds for all control statements with a condition (`if`, `while`, etc.).\n",
    "\n",
    "How is branch coverage different from statement coverage?  In the above example, there is actually no difference.  In this one, though, there is:\n",
    "\n",
    "```python\n",
    "if CONDITION:\n",
    "    do_a()\n",
    "something_else()\n",
    "```\n",
    "\n",
    "Using statement coverage, a single test case where `CONDITION` is true suffices to cover the call to `do_a()`.  Using branch coverage, however, we would also have to create a test case where `do_a()` is _not_ invoked."
   ]
  },
  {
   "cell_type": "markdown",
   "metadata": {
    "button": false,
    "new_sheet": false,
    "run_control": {
     "read_only": false
    },
    "slideshow": {
     "slide_type": "subslide"
    }
   },
   "source": [
    "Using our `Coverage` infrastructure, we can simulate branch coverage by considering  _pairs of subsequent lines executed_.  The `trace()` method gives us the list of lines executed one after the other:"
   ]
  },
  {
   "cell_type": "code",
   "execution_count": 78,
   "metadata": {
    "button": false,
    "execution": {
     "iopub.execute_input": "2022-08-01T12:58:18.424760Z",
     "iopub.status.busy": "2022-08-01T12:58:18.424514Z",
     "iopub.status.idle": "2022-08-01T12:58:18.427378Z",
     "shell.execute_reply": "2022-08-01T12:58:18.427029Z"
    },
    "new_sheet": false,
    "run_control": {
     "read_only": false
    },
    "slideshow": {
     "slide_type": "fragment"
    }
   },
   "outputs": [
    {
     "data": {
      "text/plain": [
       "[('cgi_decode', 9),\n",
       " ('cgi_decode', 10),\n",
       " ('cgi_decode', 11),\n",
       " ('cgi_decode', 12),\n",
       " ('cgi_decode', 8)]"
      ]
     },
     "execution_count": 78,
     "metadata": {},
     "output_type": "execute_result"
    }
   ],
   "source": [
    "with Coverage() as cov:\n",
    "    cgi_decode(\"a+b\")\n",
    "trace = cov.trace()\n",
    "trace[:5]"
   ]
  },
  {
   "cell_type": "markdown",
   "metadata": {
    "button": false,
    "new_sheet": false,
    "run_control": {
     "read_only": false
    },
    "slideshow": {
     "slide_type": "subslide"
    },
    "solution2": "hidden",
    "solution2_first": true
   },
   "source": [
    "#### Part 1: Compute branch coverage\n",
    "\n",
    "Define a function `branch_coverage()` that takes a trace and returns the set of pairs of subsequent lines in a trace – in the above example, this would be \n",
    "\n",
    "```python\n",
    "set(\n",
    "(('cgi_decode', 9), ('cgi_decode', 10)),\n",
    "(('cgi_decode', 10), ('cgi_decode', 11)),\n",
    "# more_pairs\n",
    ")\n",
    "```\n",
    "\n",
    "Bonus for advanced Python programmers: Define `BranchCoverage` as a subclass of `Coverage` and make `branch_coverage()` as above a `coverage()` method of `BranchCoverage`."
   ]
  },
  {
   "cell_type": "markdown",
   "metadata": {
    "button": false,
    "new_sheet": false,
    "run_control": {
     "read_only": false
    },
    "slideshow": {
     "slide_type": "subslide"
    },
    "solution": "hidden",
    "solution2": "hidden"
   },
   "source": [
    "**Solution.**  Here's a simple definition of `branch_coverage()`:"
   ]
  },
  {
   "cell_type": "code",
   "execution_count": 79,
   "metadata": {
    "execution": {
     "iopub.execute_input": "2022-08-01T12:58:18.429329Z",
     "iopub.status.busy": "2022-08-01T12:58:18.429176Z",
     "iopub.status.idle": "2022-08-01T12:58:18.431448Z",
     "shell.execute_reply": "2022-08-01T12:58:18.431182Z"
    },
    "slideshow": {
     "slide_type": "fragment"
    },
    "solution2": "hidden"
   },
   "outputs": [],
   "source": [
    "def branch_coverage(trace):\n",
    "    coverage = set()\n",
    "    past_line = None\n",
    "    for line in trace:\n",
    "        if past_line is not None:\n",
    "            coverage.add((past_line, line))\n",
    "        past_line = line\n",
    "\n",
    "    return coverage"
   ]
  },
  {
   "cell_type": "code",
   "execution_count": 80,
   "metadata": {
    "execution": {
     "iopub.execute_input": "2022-08-01T12:58:18.433009Z",
     "iopub.status.busy": "2022-08-01T12:58:18.432851Z",
     "iopub.status.idle": "2022-08-01T12:58:18.435864Z",
     "shell.execute_reply": "2022-08-01T12:58:18.435562Z"
    },
    "slideshow": {
     "slide_type": "subslide"
    },
    "solution2": "hidden"
   },
   "outputs": [
    {
     "data": {
      "text/plain": [
       "{(('cgi_decode', 8), ('cgi_decode', 15)),\n",
       " (('cgi_decode', 9), ('cgi_decode', 10)),\n",
       " (('cgi_decode', 10), ('cgi_decode', 11)),\n",
       " (('cgi_decode', 11), ('cgi_decode', 12)),\n",
       " (('cgi_decode', 12), ('cgi_decode', 8)),\n",
       " (('cgi_decode', 15), ('cgi_decode', 16)),\n",
       " (('cgi_decode', 16), ('cgi_decode', 17)),\n",
       " (('cgi_decode', 17), ('cgi_decode', 18)),\n",
       " (('cgi_decode', 17), ('cgi_decode', 32)),\n",
       " (('cgi_decode', 18), ('cgi_decode', 19)),\n",
       " (('cgi_decode', 19), ('cgi_decode', 20)),\n",
       " (('cgi_decode', 19), ('cgi_decode', 21)),\n",
       " (('cgi_decode', 20), ('cgi_decode', 31)),\n",
       " (('cgi_decode', 21), ('cgi_decode', 30)),\n",
       " (('cgi_decode', 30), ('cgi_decode', 31)),\n",
       " (('cgi_decode', 31), ('cgi_decode', 17))}"
      ]
     },
     "execution_count": 80,
     "metadata": {},
     "output_type": "execute_result"
    }
   ],
   "source": [
    "branch_coverage(trace)"
   ]
  },
  {
   "cell_type": "markdown",
   "metadata": {
    "slideshow": {
     "slide_type": "subslide"
    },
    "solution2": "hidden"
   },
   "source": [
    "Here's a definition as a class:"
   ]
  },
  {
   "cell_type": "code",
   "execution_count": 81,
   "metadata": {
    "execution": {
     "iopub.execute_input": "2022-08-01T12:58:18.437293Z",
     "iopub.status.busy": "2022-08-01T12:58:18.437201Z",
     "iopub.status.idle": "2022-08-01T12:58:18.439402Z",
     "shell.execute_reply": "2022-08-01T12:58:18.439136Z"
    },
    "slideshow": {
     "slide_type": "fragment"
    },
    "solution2": "hidden"
   },
   "outputs": [],
   "source": [
    "class BranchCoverage(Coverage):\n",
    "    def coverage(self):\n",
    "        \"\"\"The set of executed line pairs\"\"\"\n",
    "        coverage = set()\n",
    "        past_line = None\n",
    "        for line in self.trace():\n",
    "            if past_line is not None:\n",
    "                coverage.add((past_line, line))\n",
    "            past_line = line\n",
    "\n",
    "        return coverage"
   ]
  },
  {
   "cell_type": "markdown",
   "metadata": {
    "button": false,
    "new_sheet": false,
    "run_control": {
     "read_only": false
    },
    "slideshow": {
     "slide_type": "subslide"
    },
    "solution2": "hidden",
    "solution2_first": true
   },
   "source": [
    "#### Part 2: Comparing statement coverage and branch coverage\n",
    "\n",
    "Use `branch_coverage()` to repeat the experiments in this chapter with branch coverage rather than statement coverage.  Do the manually written test cases cover all branches?"
   ]
  },
  {
   "cell_type": "markdown",
   "metadata": {
    "slideshow": {
     "slide_type": "subslide"
    },
    "solution2": "hidden"
   },
   "source": [
    "**Solution.** Let's repeat the above experiments with `BranchCoverage`:"
   ]
  },
  {
   "cell_type": "code",
   "execution_count": 82,
   "metadata": {
    "execution": {
     "iopub.execute_input": "2022-08-01T12:58:18.440920Z",
     "iopub.status.busy": "2022-08-01T12:58:18.440832Z",
     "iopub.status.idle": "2022-08-01T12:58:18.442755Z",
     "shell.execute_reply": "2022-08-01T12:58:18.442423Z"
    },
    "slideshow": {
     "slide_type": "fragment"
    },
    "solution2": "hidden"
   },
   "outputs": [
    {
     "name": "stdout",
     "output_type": "stream",
     "text": [
      "{(('cgi_decode', 15), ('cgi_decode', 16)), (('cgi_decode', 18), ('cgi_decode', 19)), (('cgi_decode', 16), ('cgi_decode', 17)), (('cgi_decode', 30), ('cgi_decode', 31)), (('cgi_decode', 20), ('cgi_decode', 31)), (('cgi_decode', 17), ('cgi_decode', 32)), (('cgi_decode', 31), ('cgi_decode', 17)), (('cgi_decode', 11), ('cgi_decode', 12)), (('cgi_decode', 19), ('cgi_decode', 21)), (('cgi_decode', 10), ('cgi_decode', 11)), (('cgi_decode', 19), ('cgi_decode', 20)), (('cgi_decode', 21), ('cgi_decode', 30)), (('cgi_decode', 17), ('cgi_decode', 18)), (('cgi_decode', 9), ('cgi_decode', 10)), (('cgi_decode', 8), ('cgi_decode', 15)), (('cgi_decode', 12), ('cgi_decode', 8))}\n"
     ]
    }
   ],
   "source": [
    "with BranchCoverage() as cov:\n",
    "    cgi_decode(\"a+b\")\n",
    "\n",
    "print(cov.coverage())"
   ]
  },
  {
   "cell_type": "code",
   "execution_count": 83,
   "metadata": {
    "button": false,
    "execution": {
     "iopub.execute_input": "2022-08-01T12:58:18.444133Z",
     "iopub.status.busy": "2022-08-01T12:58:18.444042Z",
     "iopub.status.idle": "2022-08-01T12:58:18.446974Z",
     "shell.execute_reply": "2022-08-01T12:58:18.446688Z"
    },
    "new_sheet": false,
    "run_control": {
     "read_only": false
    },
    "slideshow": {
     "slide_type": "subslide"
    },
    "solution2": "hidden"
   },
   "outputs": [
    {
     "data": {
      "text/plain": [
       "{(('cgi_decode', 19), ('cgi_decode', 20)),\n",
       " (('cgi_decode', 20), ('cgi_decode', 31))}"
      ]
     },
     "execution_count": 83,
     "metadata": {},
     "output_type": "execute_result"
    }
   ],
   "source": [
    "with BranchCoverage() as cov_plus:\n",
    "    cgi_decode(\"a+b\")\n",
    "with BranchCoverage() as cov_standard:\n",
    "    cgi_decode(\"abc\")\n",
    "\n",
    "cov_plus.coverage() - cov_standard.coverage()"
   ]
  },
  {
   "cell_type": "code",
   "execution_count": 84,
   "metadata": {
    "button": false,
    "execution": {
     "iopub.execute_input": "2022-08-01T12:58:18.448493Z",
     "iopub.status.busy": "2022-08-01T12:58:18.448394Z",
     "iopub.status.idle": "2022-08-01T12:58:18.450403Z",
     "shell.execute_reply": "2022-08-01T12:58:18.450126Z"
    },
    "new_sheet": false,
    "run_control": {
     "read_only": false
    },
    "slideshow": {
     "slide_type": "subslide"
    },
    "solution2": "hidden"
   },
   "outputs": [],
   "source": [
    "with BranchCoverage() as cov_max:\n",
    "    cgi_decode('+')\n",
    "    cgi_decode('%20')\n",
    "    cgi_decode('abc')\n",
    "    try:\n",
    "        cgi_decode('%?a')\n",
    "    except:\n",
    "        pass"
   ]
  },
  {
   "cell_type": "code",
   "execution_count": 85,
   "metadata": {
    "button": false,
    "execution": {
     "iopub.execute_input": "2022-08-01T12:58:18.452220Z",
     "iopub.status.busy": "2022-08-01T12:58:18.452106Z",
     "iopub.status.idle": "2022-08-01T12:58:18.454702Z",
     "shell.execute_reply": "2022-08-01T12:58:18.454396Z"
    },
    "new_sheet": false,
    "run_control": {
     "read_only": false
    },
    "slideshow": {
     "slide_type": "subslide"
    },
    "solution2": "hidden"
   },
   "outputs": [
    {
     "data": {
      "text/plain": [
       "{(('cgi_decode', 21), ('cgi_decode', 22)),\n",
       " (('cgi_decode', 22), ('cgi_decode', 23)),\n",
       " (('cgi_decode', 23), ('cgi_decode', 24)),\n",
       " (('cgi_decode', 24), ('cgi_decode', 25)),\n",
       " (('cgi_decode', 24), ('cgi_decode', 28)),\n",
       " (('cgi_decode', 25), ('cgi_decode', 26)),\n",
       " (('cgi_decode', 26), ('cgi_decode', 31)),\n",
       " (('cgi_decode', 32), ('cgi_decode', 9))}"
      ]
     },
     "execution_count": 85,
     "metadata": {},
     "output_type": "execute_result"
    }
   ],
   "source": [
    "cov_max.coverage() - cov_plus.coverage()"
   ]
  },
  {
   "cell_type": "code",
   "execution_count": 86,
   "metadata": {
    "button": false,
    "execution": {
     "iopub.execute_input": "2022-08-01T12:58:18.456163Z",
     "iopub.status.busy": "2022-08-01T12:58:18.456058Z",
     "iopub.status.idle": "2022-08-01T12:58:18.458216Z",
     "shell.execute_reply": "2022-08-01T12:58:18.457953Z"
    },
    "new_sheet": false,
    "run_control": {
     "read_only": false
    },
    "slideshow": {
     "slide_type": "subslide"
    },
    "solution2": "hidden"
   },
   "outputs": [
    {
     "data": {
      "text/plain": [
       "'!7#%\"*#0=)$;%6*;>638:*>80\"=</>(/*:-(2<4 !:5*6856&?\"\"11<7+%<%7,4.8,*+&,,$,.\"'"
      ]
     },
     "execution_count": 86,
     "metadata": {},
     "output_type": "execute_result"
    }
   ],
   "source": [
    "sample"
   ]
  },
  {
   "cell_type": "code",
   "execution_count": 87,
   "metadata": {
    "button": false,
    "execution": {
     "iopub.execute_input": "2022-08-01T12:58:18.459646Z",
     "iopub.status.busy": "2022-08-01T12:58:18.459540Z",
     "iopub.status.idle": "2022-08-01T12:58:18.463406Z",
     "shell.execute_reply": "2022-08-01T12:58:18.462989Z"
    },
    "new_sheet": false,
    "run_control": {
     "read_only": false
    },
    "slideshow": {
     "slide_type": "subslide"
    },
    "solution2": "hidden"
   },
   "outputs": [
    {
     "data": {
      "text/plain": [
       "{(('cgi_decode', 8), ('cgi_decode', 15)),\n",
       " (('cgi_decode', 9), ('cgi_decode', 10)),\n",
       " (('cgi_decode', 10), ('cgi_decode', 11)),\n",
       " (('cgi_decode', 11), ('cgi_decode', 12)),\n",
       " (('cgi_decode', 12), ('cgi_decode', 8)),\n",
       " (('cgi_decode', 15), ('cgi_decode', 16)),\n",
       " (('cgi_decode', 16), ('cgi_decode', 17)),\n",
       " (('cgi_decode', 17), ('cgi_decode', 18)),\n",
       " (('cgi_decode', 18), ('cgi_decode', 19)),\n",
       " (('cgi_decode', 19), ('cgi_decode', 20)),\n",
       " (('cgi_decode', 19), ('cgi_decode', 21)),\n",
       " (('cgi_decode', 20), ('cgi_decode', 31)),\n",
       " (('cgi_decode', 21), ('cgi_decode', 22)),\n",
       " (('cgi_decode', 21), ('cgi_decode', 30)),\n",
       " (('cgi_decode', 22), ('cgi_decode', 23)),\n",
       " (('cgi_decode', 23), ('cgi_decode', 24)),\n",
       " (('cgi_decode', 24), ('cgi_decode', 28)),\n",
       " (('cgi_decode', 30), ('cgi_decode', 31)),\n",
       " (('cgi_decode', 31), ('cgi_decode', 17))}"
      ]
     },
     "execution_count": 87,
     "metadata": {},
     "output_type": "execute_result"
    }
   ],
   "source": [
    "with BranchCoverage() as cov_fuzz:\n",
    "    try:\n",
    "        cgi_decode(s)\n",
    "    except:\n",
    "        pass\n",
    "cov_fuzz.coverage()"
   ]
  },
  {
   "cell_type": "code",
   "execution_count": 88,
   "metadata": {
    "execution": {
     "iopub.execute_input": "2022-08-01T12:58:18.465103Z",
     "iopub.status.busy": "2022-08-01T12:58:18.464990Z",
     "iopub.status.idle": "2022-08-01T12:58:18.468269Z",
     "shell.execute_reply": "2022-08-01T12:58:18.467968Z"
    },
    "slideshow": {
     "slide_type": "subslide"
    },
    "solution2": "hidden"
   },
   "outputs": [
    {
     "data": {
      "text/plain": [
       "{(('cgi_decode', 17), ('cgi_decode', 32)),\n",
       " (('cgi_decode', 24), ('cgi_decode', 25)),\n",
       " (('cgi_decode', 25), ('cgi_decode', 26)),\n",
       " (('cgi_decode', 26), ('cgi_decode', 31)),\n",
       " (('cgi_decode', 32), ('cgi_decode', 9))}"
      ]
     },
     "execution_count": 88,
     "metadata": {},
     "output_type": "execute_result"
    }
   ],
   "source": [
    "cov_max.coverage() - cov_fuzz.coverage()"
   ]
  },
  {
   "cell_type": "code",
   "execution_count": 89,
   "metadata": {
    "execution": {
     "iopub.execute_input": "2022-08-01T12:58:18.470247Z",
     "iopub.status.busy": "2022-08-01T12:58:18.470107Z",
     "iopub.status.idle": "2022-08-01T12:58:18.472771Z",
     "shell.execute_reply": "2022-08-01T12:58:18.472487Z"
    },
    "slideshow": {
     "slide_type": "subslide"
    },
    "solution2": "hidden"
   },
   "outputs": [],
   "source": [
    "def population_branch_coverage(population, function):\n",
    "    cumulative_coverage = []\n",
    "    all_coverage = set()\n",
    "\n",
    "    for s in population:\n",
    "        with BranchCoverage() as cov:\n",
    "            try:\n",
    "                function(s)\n",
    "            except Exception:\n",
    "                pass\n",
    "        all_coverage |= cov.coverage()\n",
    "        cumulative_coverage.append(len(all_coverage))\n",
    "\n",
    "    return all_coverage, cumulative_coverage"
   ]
  },
  {
   "cell_type": "code",
   "execution_count": 90,
   "metadata": {
    "button": false,
    "execution": {
     "iopub.execute_input": "2022-08-01T12:58:18.474290Z",
     "iopub.status.busy": "2022-08-01T12:58:18.474171Z",
     "iopub.status.idle": "2022-08-01T12:58:18.488509Z",
     "shell.execute_reply": "2022-08-01T12:58:18.488177Z"
    },
    "new_sheet": false,
    "run_control": {
     "read_only": false
    },
    "slideshow": {
     "slide_type": "subslide"
    },
    "solution2": "hidden"
   },
   "outputs": [],
   "source": [
    "all_branch_coverage, cumulative_branch_coverage = population_branch_coverage(\n",
    "    hundred_inputs(), cgi_decode)"
   ]
  },
  {
   "cell_type": "code",
   "execution_count": 91,
   "metadata": {
    "button": false,
    "execution": {
     "iopub.execute_input": "2022-08-01T12:58:18.489993Z",
     "iopub.status.busy": "2022-08-01T12:58:18.489894Z",
     "iopub.status.idle": "2022-08-01T12:58:18.589262Z",
     "shell.execute_reply": "2022-08-01T12:58:18.584733Z"
    },
    "new_sheet": false,
    "run_control": {
     "read_only": false
    },
    "slideshow": {
     "slide_type": "fragment"
    },
    "solution2": "hidden"
   },
   "outputs": [
    {
     "data": {
      "text/plain": [
       "Text(0, 0.5, 'line pairs covered')"
      ]
     },
     "execution_count": 91,
     "metadata": {},
     "output_type": "execute_result"
    },
    {
     "data": {
      "image/png": "[encoded data removed]",
      "text/plain": [
       "<Figure size 432x288 with 1 Axes>"
      ]
     },
     "metadata": {
      "needs_background": "light"
     },
     "output_type": "display_data"
    }
   ],
   "source": [
    "plt.plot(cumulative_branch_coverage)\n",
    "plt.title('Branch coverage of cgi_decode() with random inputs')\n",
    "plt.xlabel('# of inputs')\n",
    "plt.ylabel('line pairs covered')"
   ]
  },
  {
   "cell_type": "code",
   "execution_count": 92,
   "metadata": {
    "execution": {
     "iopub.execute_input": "2022-08-01T12:58:18.592027Z",
     "iopub.status.busy": "2022-08-01T12:58:18.591880Z",
     "iopub.status.idle": "2022-08-01T12:58:18.596790Z",
     "shell.execute_reply": "2022-08-01T12:58:18.596080Z"
    },
    "slideshow": {
     "slide_type": "subslide"
    },
    "solution2": "hidden"
   },
   "outputs": [
    {
     "data": {
      "text/plain": [
       "24"
      ]
     },
     "execution_count": 92,
     "metadata": {},
     "output_type": "execute_result"
    }
   ],
   "source": [
    "len(cov_max.coverage())"
   ]
  },
  {
   "cell_type": "code",
   "execution_count": 93,
   "metadata": {
    "execution": {
     "iopub.execute_input": "2022-08-01T12:58:18.598456Z",
     "iopub.status.busy": "2022-08-01T12:58:18.598338Z",
     "iopub.status.idle": "2022-08-01T12:58:18.600410Z",
     "shell.execute_reply": "2022-08-01T12:58:18.600159Z"
    },
    "slideshow": {
     "slide_type": "fragment"
    },
    "solution2": "hidden"
   },
   "outputs": [
    {
     "data": {
      "text/plain": [
       "set()"
      ]
     },
     "execution_count": 93,
     "metadata": {},
     "output_type": "execute_result"
    }
   ],
   "source": [
    "all_branch_coverage - cov_max.coverage()"
   ]
  },
  {
   "cell_type": "markdown",
   "metadata": {
    "slideshow": {
     "slide_type": "fragment"
    },
    "solution2": "hidden"
   },
   "source": [
    "The additional coverage comes from the exception raised via an illegal input (say, `%g`)."
   ]
  },
  {
   "cell_type": "code",
   "execution_count": 94,
   "metadata": {
    "execution": {
     "iopub.execute_input": "2022-08-01T12:58:18.601878Z",
     "iopub.status.busy": "2022-08-01T12:58:18.601776Z",
     "iopub.status.idle": "2022-08-01T12:58:18.604314Z",
     "shell.execute_reply": "2022-08-01T12:58:18.603917Z"
    },
    "slideshow": {
     "slide_type": "fragment"
    },
    "solution2": "hidden"
   },
   "outputs": [
    {
     "data": {
      "text/plain": [
       "{(('cgi_decode', 32), ('cgi_decode', 9))}"
      ]
     },
     "execution_count": 94,
     "metadata": {},
     "output_type": "execute_result"
    }
   ],
   "source": [
    "cov_max.coverage() - all_branch_coverage"
   ]
  },
  {
   "cell_type": "markdown",
   "metadata": {
    "slideshow": {
     "slide_type": "fragment"
    },
    "solution2": "hidden"
   },
   "source": [
    "This is an artefact coming from the subsequent execution of `cgi_decode()` when computing `cov_max`."
   ]
  },
  {
   "cell_type": "markdown",
   "metadata": {
    "slideshow": {
     "slide_type": "subslide"
    },
    "solution2": "hidden",
    "solution2_first": true
   },
   "source": [
    "#### Part 3: Average coverage\n",
    "\n",
    "Again, repeat the above experiments with branch coverage.  Does `fuzzer()` cover all branches, and if so, how many tests does it take on average?"
   ]
  },
  {
   "cell_type": "markdown",
   "metadata": {
    "slideshow": {
     "slide_type": "subslide"
    },
    "solution2": "hidden"
   },
   "source": [
    "**Solution.** We repeat the experiments we ran with line coverage with branch coverage."
   ]
  },
  {
   "cell_type": "code",
   "execution_count": 95,
   "metadata": {
    "button": false,
    "execution": {
     "iopub.execute_input": "2022-08-01T12:58:18.606095Z",
     "iopub.status.busy": "2022-08-01T12:58:18.605980Z",
     "iopub.status.idle": "2022-08-01T12:58:19.949274Z",
     "shell.execute_reply": "2022-08-01T12:58:19.948971Z"
    },
    "new_sheet": false,
    "run_control": {
     "read_only": false
    },
    "slideshow": {
     "slide_type": "fragment"
    },
    "solution2": "hidden"
   },
   "outputs": [],
   "source": [
    "runs = 100\n",
    "\n",
    "# Create an array with TRIALS elements, all zero\n",
    "sum_coverage = [0] * trials\n",
    "\n",
    "for run in range(runs):\n",
    "    all_branch_coverage, coverage = population_branch_coverage(\n",
    "        hundred_inputs(), cgi_decode)\n",
    "    assert len(coverage) == trials\n",
    "    for i in range(trials):\n",
    "        sum_coverage[i] += coverage[i]\n",
    "\n",
    "average_coverage = []\n",
    "for i in range(trials):\n",
    "    average_coverage.append(sum_coverage[i] / runs)"
   ]
  },
  {
   "cell_type": "code",
   "execution_count": 96,
   "metadata": {
    "button": false,
    "execution": {
     "iopub.execute_input": "2022-08-01T12:58:19.950937Z",
     "iopub.status.busy": "2022-08-01T12:58:19.950822Z",
     "iopub.status.idle": "2022-08-01T12:58:20.027467Z",
     "shell.execute_reply": "2022-08-01T12:58:20.027161Z"
    },
    "new_sheet": false,
    "run_control": {
     "read_only": false
    },
    "slideshow": {
     "slide_type": "subslide"
    },
    "solution2": "hidden"
   },
   "outputs": [
    {
     "data": {
      "text/plain": [
       "Text(0, 0.5, 'line pairs covered')"
      ]
     },
     "execution_count": 96,
     "metadata": {},
     "output_type": "execute_result"
    },
    {
     "data": {
      "image/png": "[encoded data removed]",
      "text/plain": [
       "<Figure size 432x288 with 1 Axes>"
      ]
     },
     "metadata": {
      "needs_background": "light"
     },
     "output_type": "display_data"
    }
   ],
   "source": [
    "plt.plot(average_coverage)\n",
    "plt.title('Average branch coverage of cgi_decode() with random inputs')\n",
    "plt.xlabel('# of inputs')\n",
    "plt.ylabel('line pairs covered')"
   ]
  },
  {
   "cell_type": "markdown",
   "metadata": {
    "slideshow": {
     "slide_type": "fragment"
    },
    "solution2": "hidden"
   },
   "source": [
    "We see that achieving branch coverage takes longer than statement coverage; it simply is a more difficult criterion to satisfy with random inputs."
   ]
  }
 ],
 "metadata": {
  "ipub": {
   "bibliography": "fuzzingbook.bib",
   "toc": true
  },
  "kernelspec": {
   "display_name": "Python 3 (ipykernel)",
   "language": "python",
   "name": "python3"
  },
  "language_info": {
   "codemirror_mode": {
    "name": "ipython",
    "version": 3
   },
   "file_extension": ".py",
   "mimetype": "text/x-python",
   "name": "python",
   "nbconvert_exporter": "python",
   "pygments_lexer": "ipython3",
   "version": "3.9.7"
  },
  "toc": {
   "base_numbering": 1,
   "nav_menu": {},
   "number_sections": true,
   "sideBar": true,
   "skip_h1_title": true,
   "title_cell": "",
   "title_sidebar": "Contents",
   "toc_cell": false,
   "toc_position": {},
   "toc_section_display": true,
   "toc_window_display": true
  },
  "toc-autonumbering": false
 },
 "nbformat": 4,
 "nbformat_minor": 4
}