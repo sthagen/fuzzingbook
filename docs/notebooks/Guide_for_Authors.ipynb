{
 "cells": [
  {
   "cell_type": "markdown",
   "metadata": {
    "button": false,
    "new_sheet": false,
    "run_control": {
     "read_only": false
    },
    "slideshow": {
     "slide_type": "slide"
    }
   },
   "source": [
    "# Guide for Authors"
   ]
  },
  {
   "cell_type": "code",
   "execution_count": 1,
   "metadata": {
    "execution": {
     "iopub.execute_input": "2022-05-18T09:48:15.764990Z",
     "iopub.status.busy": "2022-05-18T09:48:15.764875Z",
     "iopub.status.idle": "2022-05-18T09:48:15.769357Z",
     "shell.execute_reply": "2022-05-18T09:48:15.768956Z"
    },
    "slideshow": {
     "slide_type": "fragment"
    }
   },
   "outputs": [
    {
     "name": "stdout",
     "output_type": "stream",
     "text": [
      "Welcome to \"The Fuzzing Book\"!\n"
     ]
    }
   ],
   "source": [
    "print('Welcome to \"The Fuzzing Book\"!')"
   ]
  },
  {
   "cell_type": "markdown",
   "metadata": {
    "button": false,
    "new_sheet": false,
    "run_control": {
     "read_only": false
    },
    "slideshow": {
     "slide_type": "slide"
    }
   },
   "source": [
    "This notebook compiles the most important conventions for all chapters (notebooks) of \"The Fuzzing Book\"."
   ]
  },
  {
   "cell_type": "markdown",
   "metadata": {
    "slideshow": {
     "slide_type": "slide"
    }
   },
   "source": [
    "## Blooper Video"
   ]
  },
  {
   "cell_type": "code",
   "execution_count": 2,
   "metadata": {
    "execution": {
     "iopub.execute_input": "2022-05-18T09:48:15.783404Z",
     "iopub.status.busy": "2022-05-18T09:48:15.783235Z",
     "iopub.status.idle": "2022-05-18T09:48:15.830836Z",
     "shell.execute_reply": "2022-05-18T09:48:15.830537Z"
    },
    "slideshow": {
     "slide_type": "skip"
    }
   },
   "outputs": [
    {
     "data": {
      "text/html": [
       "\n",
       "        <iframe\n",
       "            width=\"640\"\n",
       "            height=\"360\"\n",
       "            src=\"https://www.youtube-nocookie.com/embed/-HFN32Aeisk\"\n",
       "            frameborder=\"0\"\n",
       "            allowfullscreen\n",
       "            \n",
       "        ></iframe>\n",
       "        "
      ],
      "text/plain": [
       "<IPython.lib.display.IFrame at 0x104040610>"
      ]
     },
     "execution_count": 2,
     "metadata": {},
     "output_type": "execute_result"
    }
   ],
   "source": [
    "from bookutils import YouTubeVideo\n",
    "YouTubeVideo('-HFN32Aeisk')"
   ]
  },
  {
   "cell_type": "markdown",
   "metadata": {
    "button": false,
    "new_sheet": false,
    "run_control": {
     "read_only": false
    },
    "slideshow": {
     "slide_type": "slide"
    }
   },
   "source": [
    "## Organization of this Book"
   ]
  },
  {
   "cell_type": "markdown",
   "metadata": {
    "button": false,
    "new_sheet": false,
    "run_control": {
     "read_only": false
    },
    "slideshow": {
     "slide_type": "subslide"
    }
   },
   "source": [
    "### Chapters  as Notebooks\n",
    "\n",
    "Each chapter comes in its own _Jupyter notebook_.  A single notebook (= a chapter) should cover the material (text and code, possibly slides) for a 90-minute lecture.\n",
    "\n",
    "A chapter notebook should be named `Topic.ipynb`, where `Topic` is the topic.  `Topic` must be usable as a Python module and should characterize the main contribution.  If the main contribution of your chapter is a class `FooFuzzer`, for instance, then your topic (and notebook name) should be `FooFuzzer`, such that users can state\n",
    "\n",
    "```python\n",
    "from FooFuzzer import FooFuzzer\n",
    "```\n",
    "\n",
    "Since class and module names should start with uppercase letters, all non-notebook files and folders start with lowercase letters. this may make it easier to differentiate them.  The special notebook `index.ipynb` gets converted into the home pages `index.html` (on fuzzingbook.org) and `README.md` (on GitHub).\n",
    "\n",
    "Notebooks are stored in the `notebooks` folder."
   ]
  },
  {
   "cell_type": "markdown",
   "metadata": {
    "slideshow": {
     "slide_type": "subslide"
    }
   },
   "source": [
    "### DebuggingBook and FuzzingBook\n",
    "\n",
    "This project shares some infrastructure (and even chapters) with \"The Fuzzing Book\". Everything in `shared/` is maintained in \"The Debugging Book\" and only copied over to \"The Fuzzing Book\". If you want to edit or change any of the files in `shared/`, do so in \"The Debugging Book\"."
   ]
  },
  {
   "cell_type": "markdown",
   "metadata": {
    "button": false,
    "new_sheet": false,
    "run_control": {
     "read_only": false
    },
    "slideshow": {
     "slide_type": "subslide"
    }
   },
   "source": [
    "### Output Formats\n",
    "\n",
    "The notebooks by themselves can be used by instructors and students to toy around with.  They can edit code (and text) as they like and even run them as a slide show.\n",
    "\n",
    "The notebook can be _exported_ to multiple (non-interactive) formats:\n",
    "\n",
    "* HTML – for placing this material online.\n",
    "* PDF – for printing\n",
    "* Python – for coding\n",
    "* Slides – for presenting\n",
    "\n",
    "The included Makefile can generate all of these automatically (and a few more).\n",
    "\n",
    "At this point, we mostly focus on HTML and Python, as we want to get these out quickly; but you should also occasionally ensure that your notebooks can (still) be exported into PDF.  Other formats (Word, Markdown) are experimental."
   ]
  },
  {
   "cell_type": "markdown",
   "metadata": {
    "slideshow": {
     "slide_type": "slide"
    }
   },
   "source": [
    "## Sites\n",
    "\n",
    "All sources for the book end up on the [Github project page](https://github.com/uds-se/fuzzingbook).  This holds the sources (notebooks), utilities (Makefiles), as well as an issue tracker.\n",
    "\n",
    "The derived material for the book ends up in the `docs/` folder, from where it is eventually pushed to the [fuzzingbook website](http://www.fuzzingbook.org/).  This site allows to read the chapters online, can launch Jupyter notebooks using the binder service, and provides access to code and slide formats.  Use `make publish` to create and update the site."
   ]
  },
  {
   "cell_type": "markdown",
   "metadata": {
    "button": false,
    "new_sheet": false,
    "run_control": {
     "read_only": false
    },
    "slideshow": {
     "slide_type": "subslide"
    }
   },
   "source": [
    "### The Book PDF\n",
    "\n",
    "The book PDF is compiled automatically from the individual notebooks.  Each notebook becomes a chapter; references are compiled in the final chapter.  Use `make book` to create the book."
   ]
  },
  {
   "cell_type": "markdown",
   "metadata": {
    "button": false,
    "new_sheet": false,
    "run_control": {
     "read_only": false
    },
    "slideshow": {
     "slide_type": "slide"
    }
   },
   "source": [
    "## Creating and Building"
   ]
  },
  {
   "cell_type": "markdown",
   "metadata": {
    "button": false,
    "new_sheet": false,
    "run_control": {
     "read_only": false
    },
    "slideshow": {
     "slide_type": "subslide"
    }
   },
   "source": [
    "### Tools you will need\n",
    "\n",
    "To work on the notebook files, you need the following:\n",
    "\n",
    "1. Jupyter notebook.  The easiest way to install this is via the [Anaconda distribution](https://www.anaconda.com/download/).\n",
    "\n",
    "2. Once you have the Jupyter notebook installed, you can start editing and coding right away by starting `jupyter notebook` (or `jupyter lab`) in the topmost project folder.\n",
    "\n",
    "3. If (like me) you don't like the Jupyter Notebook interface, I recommend [Jupyter Lab](https://jupyterlab.readthedocs.io/en/stable/), the designated successor to Jupyter Notebook.  Invoke it as `jupyter lab`.  It comes with a much more modern interface, but misses autocompletion and a couple of extensions.  I am running it [as a Desktop application](http://christopherroach.com/articles/jupyterlab-desktop-app/) which gets rid of all the browser toolbars.\n",
    "\n",
    "4. To create the entire book (with citations, references, and all), you also need the [ipybublish](https://github.com/chrisjsewell/ipypublish) package.  This allows you to create the HTML files, merge multiple chapters into a single PDF or HTML file, create slides, and more.  The Makefile provides the essential tools for creation."
   ]
  },
  {
   "cell_type": "markdown",
   "metadata": {
    "button": false,
    "new_sheet": false,
    "run_control": {
     "read_only": false
    },
    "slideshow": {
     "slide_type": "subslide"
    }
   },
   "source": [
    "### Version Control\n",
    "\n",
    "We use git in a single strand of revisions.  Feel free branch for features, but eventually merge back into the main \"master\" branch. Sync early; sync often.  Only push if everything (\"make all\") builds and passes.\n",
    "\n",
    "The Github repo thus will typically reflect work in progress.  If you reach a stable milestone, you can push things on the fuzzingbook.org web site, using `make publish`."
   ]
  },
  {
   "cell_type": "markdown",
   "metadata": {
    "button": false,
    "new_sheet": false,
    "run_control": {
     "read_only": false
    },
    "slideshow": {
     "slide_type": "subslide"
    }
   },
   "source": [
    "#### nbdime\n",
    "\n",
    "The [nbdime](https://github.com/jupyter/nbdime) package gives you tools such as `nbdiff` (and even better, `nbdiff-web`) to compare notebooks against each other; this ensures that cell _contents_ are compared rather than the binary format.\n",
    "\n",
    "`nbdime config-git --enable` integrates nbdime with git such that `git diff` runs the above tools; merging should also be notebook-specific."
   ]
  },
  {
   "cell_type": "markdown",
   "metadata": {
    "button": false,
    "new_sheet": false,
    "run_control": {
     "read_only": false
    },
    "slideshow": {
     "slide_type": "subslide"
    }
   },
   "source": [
    "#### nbstripout\n",
    "\n",
    "Notebooks in version control _should not contain output cells,_ as these tend to change a lot.  (Hey, we're talking random output generation here!)  To have output cells automatically stripped during commit, install the [nbstripout](https://github.com/kynan/nbstripout) package and use\n",
    "\n",
    "```\n",
    "nbstripout --install\n",
    "```\n",
    "\n",
    "to set it up as a git filter.  The `notebooks/` folder comes with a `.gitattributes` file already set up for `nbstripout`, so you should be all set.\n",
    "\n",
    "Note that _published_ notebooks (in short, anything under the `docs/` tree _should_ have their output cells included, such that users can download and edit notebooks with pre-rendered output.  This folder contains a `.gitattributes` file that should explicitly disable `nbstripout`, but it can't hurt to check.\n",
    "\n",
    "As an example, the following cell \n",
    "\n",
    "1. _should_ have its output included in the [HTML version of this guide](https://www.fuzzingbook.org/beta/html/Guide_for_Authors.html);\n",
    "2. _should not_ have its output included in [the git repo](https://github.com/uds-se/fuzzingbook/blob/master/notebooks/Guide_for_Authors.ipynb) (`notebooks/`);\n",
    "3. _should_ have its output included in [downloadable and editable notebooks](https://github.com/uds-se/fuzzingbook/blob/master/docs/beta/notebooks/Guide_for_Authors.ipynb) (`docs/notebooks/` and `docs/beta/notebooks/`)."
   ]
  },
  {
   "cell_type": "code",
   "execution_count": 3,
   "metadata": {
    "execution": {
     "iopub.execute_input": "2022-05-18T09:48:15.833144Z",
     "iopub.status.busy": "2022-05-18T09:48:15.832985Z",
     "iopub.status.idle": "2022-05-18T09:48:15.835180Z",
     "shell.execute_reply": "2022-05-18T09:48:15.834817Z"
    },
    "slideshow": {
     "slide_type": "skip"
    }
   },
   "outputs": [],
   "source": [
    "import random"
   ]
  },
  {
   "cell_type": "code",
   "execution_count": 4,
   "metadata": {
    "execution": {
     "iopub.execute_input": "2022-05-18T09:48:15.836834Z",
     "iopub.status.busy": "2022-05-18T09:48:15.836715Z",
     "iopub.status.idle": "2022-05-18T09:48:15.839224Z",
     "shell.execute_reply": "2022-05-18T09:48:15.838829Z"
    },
    "slideshow": {
     "slide_type": "subslide"
    }
   },
   "outputs": [
    {
     "data": {
      "text/plain": [
       "0.5864317642276706"
      ]
     },
     "execution_count": 4,
     "metadata": {},
     "output_type": "execute_result"
    }
   ],
   "source": [
    "random.random()"
   ]
  },
  {
   "cell_type": "markdown",
   "metadata": {
    "button": false,
    "new_sheet": false,
    "run_control": {
     "read_only": false
    },
    "slideshow": {
     "slide_type": "subslide"
    }
   },
   "source": [
    "### Inkscape and GraphViz\n",
    "\n",
    "Creating derived files uses  [Inkscape](https://inkscape.org/en/) and [Graphviz](https://www.graphviz.org/) – through its [Python wrapper](https://pypi.org/project/graphviz/) – to process  SVG images. These tools are not automatically installed, but are available on pip, _brew_ and _apt-get_ for all major distributions."
   ]
  },
  {
   "cell_type": "markdown",
   "metadata": {
    "slideshow": {
     "slide_type": "subslide"
    }
   },
   "source": [
    "### LaTeX Fonts\n",
    "\n",
    "By default, creating PDF uses XeLaTeX with a couple of special fonts, which you can find in the `fonts/` folder; install these fonts system-wide to make them accessible to XeLaTeX.\n",
    "\n",
    "You can also run `make LATEX=pdflatex` to use `pdflatex` and standard LaTeX fonts instead."
   ]
  },
  {
   "cell_type": "markdown",
   "metadata": {
    "button": false,
    "new_sheet": false,
    "run_control": {
     "read_only": false
    },
    "slideshow": {
     "slide_type": "subslide"
    }
   },
   "source": [
    "### Creating Derived Formats (HTML, PDF, code, ...)\n",
    "\n",
    "The [Makefile](../Makefile) provides rules for all targets.  Type `make help` for instructions.\n",
    "\n",
    "The Makefile should work with GNU make and a standard Jupyter Notebook installation.  To create the multi-chapter book and BibTeX citation support, you need to install the  [iPyPublish](https://github.com/chrisjsewell/ipypublish) package (which includes the `nbpublish` command)."
   ]
  },
  {
   "cell_type": "markdown",
   "metadata": {
    "button": false,
    "new_sheet": false,
    "run_control": {
     "read_only": false
    },
    "slideshow": {
     "slide_type": "subslide"
    }
   },
   "source": [
    "### Creating a New Chapter\n",
    "\n",
    "To create a new chapter for the book,\n",
    "\n",
    "1. Set up a new `.ipynb` notebook file as copy of [Template.ipynb](Template.ipynb).\n",
    "2. Include it in the `CHAPTERS` list in the `Makefile`.\n",
    "3. Add it to the git repository."
   ]
  },
  {
   "cell_type": "markdown",
   "metadata": {
    "slideshow": {
     "slide_type": "slide"
    }
   },
   "source": [
    "## Teaching a Topic\n",
    "\n",
    "Each chapter should be devoted to a central concept and a small set of lessons to be learned.  I recommend the following structure:\n",
    "\n",
    "* Introduce the problem (\"We want to parse inputs\")\n",
    "* Illustrate it with some code examples (\"Here's some input I'd like to parse\")\n",
    "* Develop a first (possibly quick and dirty) solution (\"A PEG parser is short and often does the job\"_\n",
    "* Show that it works and how it works (\"Here's a neat derivation tree.  Look how we can use this to mutate and combine expressions!\")\n",
    "* Develop a second, more elaborated solution, which should then become the main contribution.  (\"Here's a general LR(1) parser that does not require a special grammar format.  (You can skip it if you're not interested)\")\n",
    "* Offload non-essential extensions to later sections or to exercises.  (\"Implement a universal parser, using the Dragon Book\")\n",
    "\n",
    "The key idea is that readers should be able to grasp the essentials of the problem and the solution in the beginning of the chapter, and get further into details as they progress through it.  Make it easy for readers to be drawn in, providing insights of value quickly.  If they are interested to understand how things work, they will get deeper into the topic.  If they just want to use the technique (because they may be more interested in later chapters), having them read only the first few examples should be fine for them, too.\n",
    "\n",
    "Whatever you introduce should be motivated first, and illustrated after.  Motivate the code you'll be writing, and use plenty of examples to show what the code just introduced is doing.  Remember that readers should have fun interacting with your code and your examples.  Show and tell again and again and again."
   ]
  },
  {
   "cell_type": "markdown",
   "metadata": {
    "slideshow": {
     "slide_type": "subslide"
    }
   },
   "source": [
    "### Special Sections"
   ]
  },
  {
   "cell_type": "markdown",
   "metadata": {
    "slideshow": {
     "slide_type": "subslide"
    }
   },
   "source": [
    "#### Quizzes"
   ]
  },
  {
   "cell_type": "markdown",
   "metadata": {
    "slideshow": {
     "slide_type": "subslide"
    }
   },
   "source": [
    "You can have _quizzes_ as part of the notebook. These are created using the `quiz()` function. Its arguments are\n",
    "\n",
    "* The question\n",
    "* A list of options\n",
    "* The correct answer(s) - either\n",
    "    * the single number of the one single correct answer (starting with 1)\n",
    "    * a list of numbers of correct answers (multiple choices)\n",
    "    \n",
    "To make the answer less obvious, you can specify it as a string containing an arithmetic expression evaluating to the desired number(s). The expression will remain in the code (and possibly be shown as hint in the quiz)."
   ]
  },
  {
   "cell_type": "code",
   "execution_count": 5,
   "metadata": {
    "execution": {
     "iopub.execute_input": "2022-05-18T09:48:15.841657Z",
     "iopub.status.busy": "2022-05-18T09:48:15.841487Z",
     "iopub.status.idle": "2022-05-18T09:48:15.843466Z",
     "shell.execute_reply": "2022-05-18T09:48:15.843052Z"
    },
    "slideshow": {
     "slide_type": "skip"
    }
   },
   "outputs": [],
   "source": [
    "from bookutils import quiz"
   ]
  },
  {
   "cell_type": "code",
   "execution_count": 6,
   "metadata": {
    "execution": {
     "iopub.execute_input": "2022-05-18T09:48:15.845211Z",
     "iopub.status.busy": "2022-05-18T09:48:15.845055Z",
     "iopub.status.idle": "2022-05-18T09:48:15.850060Z",
     "shell.execute_reply": "2022-05-18T09:48:15.849682Z"
    },
    "slideshow": {
     "slide_type": "subslide"
    }
   },
   "outputs": [
    {
     "data": {
      "text/html": [
       "\n",
       "    \n",
       "    <script>\n",
       "    var bad_answers = new Map();\n",
       "\n",
       "    function answer(quiz_id) {\n",
       "        ans = 0;\n",
       "        for (i = 1;; i++) {\n",
       "            checkbox = document.getElementById(quiz_id + \"-\" + i.toString());\n",
       "            if (!checkbox)\n",
       "                break;\n",
       "            if (checkbox.checked)\n",
       "                ans |= (1 << i);\n",
       "        }\n",
       "        return ans;\n",
       "    }\n",
       "    function check_selection(quiz_id, correct_answer, multiple_choice, hint) {\n",
       "        given_answer = answer(quiz_id);\n",
       "        if (given_answer == correct_answer)\n",
       "        {\n",
       "            document.getElementById(quiz_id + \"-submit\").value = \"Correct!\";\n",
       "            document.getElementById(quiz_id + \"-hint\").innerHTML = \"\";\n",
       "\n",
       "            for (i = 1;; i++) {\n",
       "                checkbox = document.getElementById(quiz_id + \"-\" + i.toString());\n",
       "                label = document.getElementById(quiz_id + \"-\" + i.toString() + \"-label\")\n",
       "                if (!checkbox)\n",
       "                    break;\n",
       "    \n",
       "                if (checkbox.checked) {\n",
       "                    label.style.fontWeight = \"bold\";\n",
       "                }\n",
       "                else {\n",
       "                    label.style.textDecoration = \"line-through\";\n",
       "                }\n",
       "            }\n",
       "        }\n",
       "        else \n",
       "        {\n",
       "            document.getElementById(quiz_id + \"-submit\").value = \"Try again\";\n",
       "            \n",
       "            if (!bad_answers.has(quiz_id)) {\n",
       "                bad_answers.set(quiz_id, 1);\n",
       "            }\n",
       "            else {\n",
       "                bad_answers.set(quiz_id, bad_answers.get(quiz_id) + 1);\n",
       "            }\n",
       "\n",
       "            if (bad_answers.get(quiz_id) >= 2 && hint.length > 0) {\n",
       "                document.getElementById(quiz_id + \"-hint\").innerHTML = \n",
       "                    \"&nbsp;&nbsp;(Hint: <code>\" + hint + \"</code>)\";\n",
       "            }\n",
       "\n",
       "            if (!multiple_choice) {\n",
       "                for (i = 1;; i++) {\n",
       "                    checkbox = document.getElementById(quiz_id + \"-\" + i.toString());\n",
       "                    label = document.getElementById(quiz_id + \"-\" + i.toString() + \"-label\")\n",
       "\n",
       "                    if (!checkbox)\n",
       "                        break;\n",
       "                    if (checkbox.checked) {\n",
       "                        label.style.textDecoration = \"line-through\";\n",
       "                    }\n",
       "                }\n",
       "            }\n",
       "        }\n",
       "    }\n",
       "    function clear_selection(quiz_id) {\n",
       "        document.getElementById(quiz_id + \"-submit\").value = \"Submit\";\n",
       "        document.getElementById(quiz_id + \"-hint\").innerHTML = \"\";\n",
       "    }\n",
       "    </script>\n",
       "    \n",
       "    <div class=\"quiz\">\n",
       "    <h3 class=\"quiz_title\">Quiz</h3>\n",
       "    <p>\n",
       "    <div class=\"quiz_question\">The color of the sky is</div>\n",
       "    </p>\n",
       "    <p>\n",
       "    <div class=\"quiz_options\" title=\"Pick a choice.\">\n",
       "    \n",
       "        <input type=\"radio\" name=\"a3cd637c-d68f-11ec-b189-6298cf1a578f\" id=\"a3cd637c-d68f-11ec-b189-6298cf1a578f-1\" onclick=\"clear_selection('a3cd637c-d68f-11ec-b189-6298cf1a578f')\">\n",
       "        <label id=\"a3cd637c-d68f-11ec-b189-6298cf1a578f-1-label\" for=\"a3cd637c-d68f-11ec-b189-6298cf1a578f-1\">blue</label><br>\n",
       "    \n",
       "        <input type=\"radio\" name=\"a3cd637c-d68f-11ec-b189-6298cf1a578f\" id=\"a3cd637c-d68f-11ec-b189-6298cf1a578f-2\" onclick=\"clear_selection('a3cd637c-d68f-11ec-b189-6298cf1a578f')\">\n",
       "        <label id=\"a3cd637c-d68f-11ec-b189-6298cf1a578f-2-label\" for=\"a3cd637c-d68f-11ec-b189-6298cf1a578f-2\">red</label><br>\n",
       "    \n",
       "        <input type=\"radio\" name=\"a3cd637c-d68f-11ec-b189-6298cf1a578f\" id=\"a3cd637c-d68f-11ec-b189-6298cf1a578f-3\" onclick=\"clear_selection('a3cd637c-d68f-11ec-b189-6298cf1a578f')\">\n",
       "        <label id=\"a3cd637c-d68f-11ec-b189-6298cf1a578f-3-label\" for=\"a3cd637c-d68f-11ec-b189-6298cf1a578f-3\">black</label><br>\n",
       "    \n",
       "    </div>\n",
       "    </p>\n",
       "    <input id=\"a3cd637c-d68f-11ec-b189-6298cf1a578f-submit\" type=\"submit\" value=\"Submit\" onclick=\"check_selection('a3cd637c-d68f-11ec-b189-6298cf1a578f', 2, 0, '5 - 4')\">\n",
       "    <span class=\"quiz_hint\" id=\"a3cd637c-d68f-11ec-b189-6298cf1a578f-hint\"></span>\n",
       "    </div>\n",
       "    "
      ],
      "text/plain": [
       "<IPython.core.display.HTML object>"
      ]
     },
     "execution_count": 6,
     "metadata": {},
     "output_type": "execute_result"
    }
   ],
   "source": [
    "# A single-choice quiz\n",
    "quiz(\"The color of the sky is\", ['blue', 'red', 'black'],\n",
    "     '5 - 4')"
   ]
  },
  {
   "cell_type": "code",
   "execution_count": 7,
   "metadata": {
    "execution": {
     "iopub.execute_input": "2022-05-18T09:48:15.851810Z",
     "iopub.status.busy": "2022-05-18T09:48:15.851673Z",
     "iopub.status.idle": "2022-05-18T09:48:15.855237Z",
     "shell.execute_reply": "2022-05-18T09:48:15.854879Z"
    },
    "slideshow": {
     "slide_type": "fragment"
    }
   },
   "outputs": [
    {
     "data": {
      "text/html": [
       "\n",
       "    \n",
       "    <script>\n",
       "    var bad_answers = new Map();\n",
       "\n",
       "    function answer(quiz_id) {\n",
       "        ans = 0;\n",
       "        for (i = 1;; i++) {\n",
       "            checkbox = document.getElementById(quiz_id + \"-\" + i.toString());\n",
       "            if (!checkbox)\n",
       "                break;\n",
       "            if (checkbox.checked)\n",
       "                ans |= (1 << i);\n",
       "        }\n",
       "        return ans;\n",
       "    }\n",
       "    function check_selection(quiz_id, correct_answer, multiple_choice, hint) {\n",
       "        given_answer = answer(quiz_id);\n",
       "        if (given_answer == correct_answer)\n",
       "        {\n",
       "            document.getElementById(quiz_id + \"-submit\").value = \"Correct!\";\n",
       "            document.getElementById(quiz_id + \"-hint\").innerHTML = \"\";\n",
       "\n",
       "            for (i = 1;; i++) {\n",
       "                checkbox = document.getElementById(quiz_id + \"-\" + i.toString());\n",
       "                label = document.getElementById(quiz_id + \"-\" + i.toString() + \"-label\")\n",
       "                if (!checkbox)\n",
       "                    break;\n",
       "    \n",
       "                if (checkbox.checked) {\n",
       "                    label.style.fontWeight = \"bold\";\n",
       "                }\n",
       "                else {\n",
       "                    label.style.textDecoration = \"line-through\";\n",
       "                }\n",
       "            }\n",
       "        }\n",
       "        else \n",
       "        {\n",
       "            document.getElementById(quiz_id + \"-submit\").value = \"Try again\";\n",
       "            \n",
       "            if (!bad_answers.has(quiz_id)) {\n",
       "                bad_answers.set(quiz_id, 1);\n",
       "            }\n",
       "            else {\n",
       "                bad_answers.set(quiz_id, bad_answers.get(quiz_id) + 1);\n",
       "            }\n",
       "\n",
       "            if (bad_answers.get(quiz_id) >= 2 && hint.length > 0) {\n",
       "                document.getElementById(quiz_id + \"-hint\").innerHTML = \n",
       "                    \"&nbsp;&nbsp;(Hint: <code>\" + hint + \"</code>)\";\n",
       "            }\n",
       "\n",
       "            if (!multiple_choice) {\n",
       "                for (i = 1;; i++) {\n",
       "                    checkbox = document.getElementById(quiz_id + \"-\" + i.toString());\n",
       "                    label = document.getElementById(quiz_id + \"-\" + i.toString() + \"-label\")\n",
       "\n",
       "                    if (!checkbox)\n",
       "                        break;\n",
       "                    if (checkbox.checked) {\n",
       "                        label.style.textDecoration = \"line-through\";\n",
       "                    }\n",
       "                }\n",
       "            }\n",
       "        }\n",
       "    }\n",
       "    function clear_selection(quiz_id) {\n",
       "        document.getElementById(quiz_id + \"-submit\").value = \"Submit\";\n",
       "        document.getElementById(quiz_id + \"-hint\").innerHTML = \"\";\n",
       "    }\n",
       "    </script>\n",
       "    \n",
       "    <div class=\"quiz\">\n",
       "    <h3 class=\"quiz_title\">Quiz</h3>\n",
       "    <p>\n",
       "    <div class=\"quiz_question\">What is this book?</div>\n",
       "    </p>\n",
       "    <p>\n",
       "    <div class=\"quiz_options\" title=\"Check all that apply.\">\n",
       "    \n",
       "        <input type=\"checkbox\" name=\"a3ce6844-d68f-11ec-b189-6298cf1a578f\" id=\"a3ce6844-d68f-11ec-b189-6298cf1a578f-1\" onclick=\"clear_selection('a3ce6844-d68f-11ec-b189-6298cf1a578f')\">\n",
       "        <label id=\"a3ce6844-d68f-11ec-b189-6298cf1a578f-1-label\" for=\"a3ce6844-d68f-11ec-b189-6298cf1a578f-1\">Novel</label><br>\n",
       "    \n",
       "        <input type=\"checkbox\" name=\"a3ce6844-d68f-11ec-b189-6298cf1a578f\" id=\"a3ce6844-d68f-11ec-b189-6298cf1a578f-2\" onclick=\"clear_selection('a3ce6844-d68f-11ec-b189-6298cf1a578f')\">\n",
       "        <label id=\"a3ce6844-d68f-11ec-b189-6298cf1a578f-2-label\" for=\"a3ce6844-d68f-11ec-b189-6298cf1a578f-2\">Friendly</label><br>\n",
       "    \n",
       "        <input type=\"checkbox\" name=\"a3ce6844-d68f-11ec-b189-6298cf1a578f\" id=\"a3ce6844-d68f-11ec-b189-6298cf1a578f-3\" onclick=\"clear_selection('a3ce6844-d68f-11ec-b189-6298cf1a578f')\">\n",
       "        <label id=\"a3ce6844-d68f-11ec-b189-6298cf1a578f-3-label\" for=\"a3ce6844-d68f-11ec-b189-6298cf1a578f-3\">Useful</label><br>\n",
       "    \n",
       "    </div>\n",
       "    </p>\n",
       "    <input id=\"a3ce6844-d68f-11ec-b189-6298cf1a578f-submit\" type=\"submit\" value=\"Submit\" onclick=\"check_selection('a3ce6844-d68f-11ec-b189-6298cf1a578f', 14, 1, '')\">\n",
       "    <span class=\"quiz_hint\" id=\"a3ce6844-d68f-11ec-b189-6298cf1a578f-hint\"></span>\n",
       "    </div>\n",
       "    "
      ],
      "text/plain": [
       "<IPython.core.display.HTML object>"
      ]
     },
     "execution_count": 7,
     "metadata": {},
     "output_type": "execute_result"
    }
   ],
   "source": [
    "# A multiple-choice quiz\n",
    "quiz(\"What is this book?\", ['Novel', 'Friendly', 'Useful'],\n",
    "     ['5 - 4', '1 + 1', '27 / 9'])"
   ]
  },
  {
   "cell_type": "markdown",
   "metadata": {
    "slideshow": {
     "slide_type": "fragment"
    }
   },
   "source": [
    "Cells that contain only the `quiz()` call will not be rendered (but the quiz will)."
   ]
  },
  {
   "cell_type": "markdown",
   "metadata": {
    "slideshow": {
     "slide_type": "subslide"
    }
   },
   "source": [
    "#### Synopsis"
   ]
  },
  {
   "cell_type": "markdown",
   "metadata": {
    "slideshow": {
     "slide_type": "fragment"
    }
   },
   "source": [
    "Each chapter should have a section named \"Synopsis\" at the very end:\n",
    "\n",
    "```markdown\n",
    "## Synopsis\n",
    "\n",
    "This is the text of the synopsis.\n",
    "```"
   ]
  },
  {
   "cell_type": "markdown",
   "metadata": {
    "slideshow": {
     "slide_type": "fragment"
    }
   },
   "source": [
    "This section is evaluated at the very end of the notebook. It should summarize the most important functionality (classes, methods, etc.) together with examples. In the derived HTML and PDF files, it is rendered at the beginning, such that it can serve as a quick reference"
   ]
  },
  {
   "cell_type": "markdown",
   "metadata": {
    "slideshow": {
     "slide_type": "subslide"
    }
   },
   "source": [
    "#### Excursions"
   ]
  },
  {
   "cell_type": "markdown",
   "metadata": {
    "slideshow": {
     "slide_type": "subslide"
    }
   },
   "source": [
    "There may be longer stretches of text (and code!) that are too special, too boring, or too repetitve to read. You can mark such stretches as \"Excursions\" by enclosing them in MarkDown cells that state:\n",
    "\n",
    "```markdown\n",
    "#### Excursion: TITLE\n",
    "```\n",
    "\n",
    "and\n",
    "\n",
    "```markdown\n",
    "#### End of Excursion\n",
    "```"
   ]
  },
  {
   "cell_type": "markdown",
   "metadata": {
    "slideshow": {
     "slide_type": "subslide"
    }
   },
   "source": [
    "Stretches between these two markers get special treatment when rendering:\n",
    "\n",
    "* In the resulting HTML output, these blocks are set up such that they are shown on demand only.\n",
    "* In printed (PDF) versions, they will be replaced by a pointer to the online version.\n",
    "* In the resulting slides, they will be omitted right away."
   ]
  },
  {
   "cell_type": "markdown",
   "metadata": {
    "slideshow": {
     "slide_type": "fragment"
    }
   },
   "source": [
    "Here is an example of an excursion:"
   ]
  },
  {
   "cell_type": "markdown",
   "metadata": {
    "slideshow": {
     "slide_type": "subslide"
    }
   },
   "source": [
    "#### Excursion: Fine points on Excursion Cells"
   ]
  },
  {
   "cell_type": "markdown",
   "metadata": {
    "slideshow": {
     "slide_type": "fragment"
    }
   },
   "source": [
    "Note that the `Excursion` and `End of Excursion` cells must be separate cells; they cannot be merged with others."
   ]
  },
  {
   "cell_type": "markdown",
   "metadata": {
    "slideshow": {
     "slide_type": "subslide"
    }
   },
   "source": [
    "#### End of Excursion"
   ]
  },
  {
   "cell_type": "markdown",
   "metadata": {
    "slideshow": {
     "slide_type": "subslide"
    }
   },
   "source": [
    "### Ignored Code\n",
    "\n",
    "If a code cell starts with\n",
    "```python\n",
    "# ignore\n",
    "```\n",
    "then the code will not show up in rendered input. Its _output_ will, however. \n",
    "This is useful for cells that create drawings, for instance - the focus should be on the result, not the code.\n",
    "\n",
    "This also applies to cells that start with a call to `display()` or `quiz()`."
   ]
  },
  {
   "cell_type": "markdown",
   "metadata": {
    "slideshow": {
     "slide_type": "subslide"
    }
   },
   "source": [
    "### Ignored Cells\n",
    "\n",
    "You can have _any_ cell not show up at all (including its output) in any rendered input by adding the following meta-data to the cell:\n",
    "```json\n",
    "{\n",
    "    \"ipub\": {\n",
    "        \"ignore\": true\n",
    "}\n",
    "```\n"
   ]
  },
  {
   "cell_type": "markdown",
   "metadata": {
    "ipub": {
     "ignore": true
    },
    "slideshow": {
     "slide_type": "fragment"
    }
   },
   "source": [
    "*This* text, for instance, does not show up in the rendered version."
   ]
  },
  {
   "cell_type": "markdown",
   "metadata": {
    "slideshow": {
     "slide_type": "subslide"
    }
   },
   "source": [
    "### Documentation Assertions\n",
    "\n",
    "If a code cell starts with\n",
    "```python\n",
    "# docassert\n",
    "```\n",
    "then the code will not show up in rendered input (like `# ignore`), but also not in exported code.\n",
    "This is useful for inserting _assertions_ that encode assumptions made in the (following) documentation. Having this assertion fail means that the documentation no longer applies.\n",
    "\n",
    "Since the documentation is not part of exported code, and since code may behave differently in standalone Python, these assertions are not exported."
   ]
  },
  {
   "cell_type": "markdown",
   "metadata": {
    "button": false,
    "new_sheet": false,
    "run_control": {
     "read_only": false
    },
    "slideshow": {
     "slide_type": "slide"
    }
   },
   "source": [
    "## Coding"
   ]
  },
  {
   "cell_type": "markdown",
   "metadata": {
    "button": false,
    "new_sheet": false,
    "run_control": {
     "read_only": false
    },
    "slideshow": {
     "slide_type": "slide"
    }
   },
   "source": [
    "### Set up\n",
    "\n",
    "The first code block in each notebook should be"
   ]
  },
  {
   "cell_type": "code",
   "execution_count": 8,
   "metadata": {
    "button": false,
    "execution": {
     "iopub.execute_input": "2022-05-18T09:48:15.857683Z",
     "iopub.status.busy": "2022-05-18T09:48:15.857582Z",
     "iopub.status.idle": "2022-05-18T09:48:15.859585Z",
     "shell.execute_reply": "2022-05-18T09:48:15.859245Z"
    },
    "new_sheet": false,
    "run_control": {
     "read_only": false
    },
    "slideshow": {
     "slide_type": "fragment"
    }
   },
   "outputs": [],
   "source": [
    "import bookutils"
   ]
  },
  {
   "cell_type": "markdown",
   "metadata": {
    "button": false,
    "new_sheet": false,
    "run_control": {
     "read_only": false
    },
    "slideshow": {
     "slide_type": "fragment"
    }
   },
   "source": [
    "This sets up stuff such that notebooks can import each other's code (see below). This import statement is removed in the exported Python code, as the .py files would import each other directly."
   ]
  },
  {
   "cell_type": "markdown",
   "metadata": {
    "slideshow": {
     "slide_type": "fragment"
    }
   },
   "source": [
    "Importing `bookutils` also sets a fixed _seed_ for random number generation.  This way, whenever you execute a notebook from scratch (restarting the kernel), you get the exact same results; these results will also end up in the derived HTML and PDF files.  (If you run a notebook or a cell for the second time, you will get more random results.)"
   ]
  },
  {
   "cell_type": "markdown",
   "metadata": {
    "button": false,
    "new_sheet": false,
    "run_control": {
     "read_only": false
    },
    "slideshow": {
     "slide_type": "subslide"
    }
   },
   "source": [
    "### Coding Style and Consistency\n",
    "\n",
    "Here's a few rules regarding coding style."
   ]
  },
  {
   "cell_type": "markdown",
   "metadata": {
    "button": false,
    "new_sheet": false,
    "run_control": {
     "read_only": false
    },
    "slideshow": {
     "slide_type": "subslide"
    }
   },
   "source": [
    "#### Use Python 3\n",
    "\n",
    "We use Python 3 (specifically, Python 3.9.7) for all code. As of 2021, there is no need anymore to include compatibility hacks for earlier Python versions."
   ]
  },
  {
   "cell_type": "markdown",
   "metadata": {
    "button": false,
    "new_sheet": false,
    "run_control": {
     "read_only": false
    },
    "slideshow": {
     "slide_type": "subslide"
    }
   },
   "source": [
    "#### Follow Python Coding Conventions\n",
    "\n",
    "We use _standard Python coding conventions_ according to [PEP 8](https://www.python.org/dev/peps/pep-0008/).\n",
    "\n",
    "Your code must pass the `pycodestyle` style checks which you get by invoking `make style`.  A very easy way to meet this goal is to invoke `make reformat`, which reformats all code accordingly.  The `code prettify` notebook extension also allows you to automatically make your code (mostly) adhere to PEP 8."
   ]
  },
  {
   "cell_type": "markdown",
   "metadata": {
    "button": false,
    "new_sheet": false,
    "run_control": {
     "read_only": false
    },
    "slideshow": {
     "slide_type": "subslide"
    }
   },
   "source": [
    "#### One Cell per Definition\n",
    "\n",
    "Use one cell for each definition or example.  During importing, this makes it easier to decide which cells to import (see below)."
   ]
  },
  {
   "cell_type": "markdown",
   "metadata": {
    "button": false,
    "new_sheet": false,
    "run_control": {
     "read_only": false
    },
    "slideshow": {
     "slide_type": "subslide"
    }
   },
   "source": [
    "#### Identifiers\n",
    "\n",
    "In the book, this is how we denote `variables`, `functions()` and `methods()`, `Classes`, `Notebooks`, `variables_and_constants`, `EXPORTED_CONSTANTS`, `files`, `folders/`, and `<grammar-elements>`."
   ]
  },
  {
   "cell_type": "markdown",
   "metadata": {
    "button": false,
    "new_sheet": false,
    "run_control": {
     "read_only": false
    },
    "slideshow": {
     "slide_type": "subslide"
    }
   },
   "source": [
    "#### Quotes\n",
    "\n",
    "If you have the choice between quoting styles, prefer \n",
    "* double quotes (`\"strings\"`) around strings that are used for interpolation or that are natural language messages, and \n",
    "* single quotes (`'characters'`) for single characters and formal language symbols that a end user would not see."
   ]
  },
  {
   "cell_type": "markdown",
   "metadata": {
    "button": false,
    "new_sheet": false,
    "run_control": {
     "read_only": false
    },
    "slideshow": {
     "slide_type": "subslide"
    }
   },
   "source": [
    "#### Read More\n",
    "\n",
    "Beyond simple syntactical things, here's a [very nice guide](https://docs.python-guide.org/writing/style/) to get you started writing \"pythonic\" code."
   ]
  },
  {
   "cell_type": "markdown",
   "metadata": {
    "button": false,
    "new_sheet": false,
    "run_control": {
     "read_only": false
    },
    "slideshow": {
     "slide_type": "slide"
    }
   },
   "source": [
    "### Importing Code from Notebooks\n",
    "\n",
    "To import the code of individual notebooks, you can import directly from .ipynb notebook files."
   ]
  },
  {
   "cell_type": "code",
   "execution_count": 9,
   "metadata": {
    "button": false,
    "execution": {
     "iopub.execute_input": "2022-05-18T09:48:15.861517Z",
     "iopub.status.busy": "2022-05-18T09:48:15.861400Z",
     "iopub.status.idle": "2022-05-18T09:48:15.940175Z",
     "shell.execute_reply": "2022-05-18T09:48:15.939671Z"
    },
    "new_sheet": false,
    "run_control": {
     "read_only": false
    },
    "slideshow": {
     "slide_type": "slide"
    }
   },
   "outputs": [],
   "source": [
    "from Fuzzer import fuzzer"
   ]
  },
  {
   "cell_type": "code",
   "execution_count": 10,
   "metadata": {
    "button": false,
    "execution": {
     "iopub.execute_input": "2022-05-18T09:48:15.942989Z",
     "iopub.status.busy": "2022-05-18T09:48:15.942781Z",
     "iopub.status.idle": "2022-05-18T09:48:15.946232Z",
     "shell.execute_reply": "2022-05-18T09:48:15.945674Z"
    },
    "new_sheet": false,
    "run_control": {
     "read_only": false
    },
    "slideshow": {
     "slide_type": "fragment"
    }
   },
   "outputs": [
    {
     "data": {
      "text/plain": [
       "'0199092904721615267546627640773972382632848750'"
      ]
     },
     "execution_count": 10,
     "metadata": {},
     "output_type": "execute_result"
    }
   ],
   "source": [
    "fuzzer(100, ord('0'), 10)"
   ]
  },
  {
   "cell_type": "markdown",
   "metadata": {
    "slideshow": {
     "slide_type": "subslide"
    }
   },
   "source": [
    "**Important**: When importing a notebook, the module loader will **only** load cells that start with\n",
    "\n",
    "* a function definition (`def`)\n",
    "* a class definition (`class`)\n",
    "* a variable definition if all uppercase (`ABC = 123`)\n",
    "* `import` and `from` statements\n",
    "\n",
    "All other cells are _ignored_ to avoid recomputation of notebooks and clutter of `print()` output."
   ]
  },
  {
   "cell_type": "markdown",
   "metadata": {
    "button": false,
    "new_sheet": false,
    "run_control": {
     "read_only": false
    },
    "slideshow": {
     "slide_type": "fragment"
    }
   },
   "source": [
    "Exported Python code will import from the respective .py file instead.  The exported Python code is set up such that only the above items will be imported."
   ]
  },
  {
   "cell_type": "markdown",
   "metadata": {
    "slideshow": {
     "slide_type": "fragment"
    }
   },
   "source": [
    "If importing a module prints out something (or has other side effects), that is an error.  Use `make check-imports` to check whether your modules import without output."
   ]
  },
  {
   "cell_type": "markdown",
   "metadata": {
    "button": false,
    "new_sheet": false,
    "run_control": {
     "read_only": false
    },
    "slideshow": {
     "slide_type": "fragment"
    }
   },
   "source": [
    "Import modules only as you need them, such that you can motivate them well in the text."
   ]
  },
  {
   "cell_type": "markdown",
   "metadata": {
    "slideshow": {
     "slide_type": "subslide"
    }
   },
   "source": [
    "### Imports and Dependencies\n",
    "\n",
    "Try to depend on as few other notebooks as possible.  This will not only ease construction and reconstruction of the code, but also reduce requirements for readers, giving then more flexibility in navigating through the book.\n",
    "\n",
    "When you import a notebook, this will show up as a dependency in the [Sitemap](00_Table_of_Contents.ipynb).  If the imported module is not critical for understanding, and thus should not appear as a dependency in the sitemap, mark the import as \"minor dependency\" as follows:"
   ]
  },
  {
   "cell_type": "code",
   "execution_count": 11,
   "metadata": {
    "execution": {
     "iopub.execute_input": "2022-05-18T09:48:15.949056Z",
     "iopub.status.busy": "2022-05-18T09:48:15.948855Z",
     "iopub.status.idle": "2022-05-18T09:48:16.676270Z",
     "shell.execute_reply": "2022-05-18T09:48:16.675931Z"
    },
    "slideshow": {
     "slide_type": "skip"
    }
   },
   "outputs": [],
   "source": [
    "from Reducer import DeltaDebuggingReducer  # minor dependency"
   ]
  },
  {
   "cell_type": "markdown",
   "metadata": {
    "button": false,
    "new_sheet": false,
    "run_control": {
     "read_only": false
    },
    "slideshow": {
     "slide_type": "subslide"
    }
   },
   "source": [
    "### Design and Architecture\n",
    "\n",
    "Stick to simple functions and data types.  We want our readers to focus on functionality, not Python.  You are encouraged to write in a \"pythonic\" style, making use of elegant Python features such as list comprehensions, sets, and more; however, if you do so, be sure to explain the code such that readers familiar with, say, C or Java can still understand things."
   ]
  },
  {
   "cell_type": "markdown",
   "metadata": {
    "slideshow": {
     "slide_type": "subslide"
    }
   },
   "source": [
    "### Incomplete Examples\n",
    "\n",
    "When introducing examples for students to complete, use the ellipsis `...` to indicate where students should add code, as in here:"
   ]
  },
  {
   "cell_type": "code",
   "execution_count": 12,
   "metadata": {
    "execution": {
     "iopub.execute_input": "2022-05-18T09:48:16.678219Z",
     "iopub.status.busy": "2022-05-18T09:48:16.678076Z",
     "iopub.status.idle": "2022-05-18T09:48:16.679955Z",
     "shell.execute_reply": "2022-05-18T09:48:16.679673Z"
    },
    "slideshow": {
     "slide_type": "fragment"
    }
   },
   "outputs": [],
   "source": [
    "def student_example():\n",
    "    x = some_value()\n",
    "    # Now, do something with x\n",
    "    ..."
   ]
  },
  {
   "cell_type": "markdown",
   "metadata": {
    "slideshow": {
     "slide_type": "fragment"
    }
   },
   "source": [
    "The ellipsis is legal code in Python 3.  (Actually, it is an `Ellipsis` object.)"
   ]
  },
  {
   "cell_type": "markdown",
   "metadata": {
    "slideshow": {
     "slide_type": "subslide"
    }
   },
   "source": [
    "### Introducing Classes\n",
    "\n",
    "Defining _classes_ can be a bit tricky, since all of a class must fit into a single cell.  This defeats the incremental style preferred for notebooks.  By defining a class _as a subclass of itself_, though, you can avoid this problem."
   ]
  },
  {
   "cell_type": "markdown",
   "metadata": {
    "slideshow": {
     "slide_type": "fragment"
    }
   },
   "source": [
    "Here's an example.  We introduce a class `Foo`:"
   ]
  },
  {
   "cell_type": "code",
   "execution_count": 13,
   "metadata": {
    "execution": {
     "iopub.execute_input": "2022-05-18T09:48:16.681813Z",
     "iopub.status.busy": "2022-05-18T09:48:16.681668Z",
     "iopub.status.idle": "2022-05-18T09:48:16.683590Z",
     "shell.execute_reply": "2022-05-18T09:48:16.683309Z"
    },
    "slideshow": {
     "slide_type": "fragment"
    }
   },
   "outputs": [],
   "source": [
    "class Foo:\n",
    "    def __init__(self):\n",
    "        pass\n",
    "\n",
    "    def bar(self):\n",
    "        pass"
   ]
  },
  {
   "cell_type": "markdown",
   "metadata": {
    "slideshow": {
     "slide_type": "fragment"
    }
   },
   "source": [
    "Now we could discuss what `__init__()` and `bar()` do, or give an example of how to use them:"
   ]
  },
  {
   "cell_type": "code",
   "execution_count": 14,
   "metadata": {
    "execution": {
     "iopub.execute_input": "2022-05-18T09:48:16.685739Z",
     "iopub.status.busy": "2022-05-18T09:48:16.685569Z",
     "iopub.status.idle": "2022-05-18T09:48:16.687569Z",
     "shell.execute_reply": "2022-05-18T09:48:16.687299Z"
    },
    "slideshow": {
     "slide_type": "subslide"
    }
   },
   "outputs": [],
   "source": [
    "f = Foo()\n",
    "f.bar()"
   ]
  },
  {
   "cell_type": "markdown",
   "metadata": {
    "slideshow": {
     "slide_type": "fragment"
    }
   },
   "source": [
    "We now can introduce a new `Foo` method by subclassing from `Foo` into a class which is _also_ called `Foo`:"
   ]
  },
  {
   "cell_type": "code",
   "execution_count": 15,
   "metadata": {
    "execution": {
     "iopub.execute_input": "2022-05-18T09:48:16.689213Z",
     "iopub.status.busy": "2022-05-18T09:48:16.689096Z",
     "iopub.status.idle": "2022-05-18T09:48:16.690920Z",
     "shell.execute_reply": "2022-05-18T09:48:16.690640Z"
    },
    "slideshow": {
     "slide_type": "fragment"
    }
   },
   "outputs": [],
   "source": [
    "class Foo(Foo):\n",
    "    def baz(self):\n",
    "        pass"
   ]
  },
  {
   "cell_type": "markdown",
   "metadata": {
    "slideshow": {
     "slide_type": "fragment"
    }
   },
   "source": [
    "This is the same as if we had subclassed `Foo` into `Foo_1` with `Foo` then becoming an alias for `Foo_1`.  The original `Foo` class is overshadowed by the new one:"
   ]
  },
  {
   "cell_type": "code",
   "execution_count": 16,
   "metadata": {
    "execution": {
     "iopub.execute_input": "2022-05-18T09:48:16.692719Z",
     "iopub.status.busy": "2022-05-18T09:48:16.692595Z",
     "iopub.status.idle": "2022-05-18T09:48:16.694416Z",
     "shell.execute_reply": "2022-05-18T09:48:16.694136Z"
    },
    "slideshow": {
     "slide_type": "fragment"
    }
   },
   "outputs": [],
   "source": [
    "new_f = Foo()\n",
    "new_f.baz()"
   ]
  },
  {
   "cell_type": "markdown",
   "metadata": {
    "slideshow": {
     "slide_type": "fragment"
    }
   },
   "source": [
    "Note, though, that _existing_ objects keep their original class:"
   ]
  },
  {
   "cell_type": "code",
   "execution_count": 17,
   "metadata": {
    "execution": {
     "iopub.execute_input": "2022-05-18T09:48:16.696167Z",
     "iopub.status.busy": "2022-05-18T09:48:16.695969Z",
     "iopub.status.idle": "2022-05-18T09:48:16.698044Z",
     "shell.execute_reply": "2022-05-18T09:48:16.697733Z"
    },
    "slideshow": {
     "slide_type": "skip"
    }
   },
   "outputs": [],
   "source": [
    "from ExpectError import ExpectError"
   ]
  },
  {
   "cell_type": "code",
   "execution_count": 18,
   "metadata": {
    "execution": {
     "iopub.execute_input": "2022-05-18T09:48:16.699633Z",
     "iopub.status.busy": "2022-05-18T09:48:16.699505Z",
     "iopub.status.idle": "2022-05-18T09:48:16.701506Z",
     "shell.execute_reply": "2022-05-18T09:48:16.701217Z"
    },
    "slideshow": {
     "slide_type": "subslide"
    }
   },
   "outputs": [
    {
     "name": "stderr",
     "output_type": "stream",
     "text": [
      "Traceback (most recent call last):\n",
      "  File \"/var/folders/n2/xd9445p97rb3xh7m1dfx8_4h0006ts/T/ipykernel_33598/526006573.py\", line 2, in <cell line: 1>\n",
      "    f.baz()  # type: ignore\n",
      "AttributeError: 'Foo' object has no attribute 'baz' (expected)\n"
     ]
    }
   ],
   "source": [
    "with ExpectError(AttributeError):\n",
    "    f.baz()  # type: ignore"
   ]
  },
  {
   "cell_type": "markdown",
   "metadata": {
    "slideshow": {
     "slide_type": "slide"
    }
   },
   "source": [
    "## Helpers\n",
    "\n",
    "There's a couple of notebooks with helpful functions, including [Timer](Timer.ipynb), [ExpectError and ExpectTimeout](ExpectError.ipynb).  Also check out the [Coverage](Coverage.ipynb) class."
   ]
  },
  {
   "cell_type": "markdown",
   "metadata": {
    "button": false,
    "new_sheet": false,
    "run_control": {
     "read_only": false
    },
    "slideshow": {
     "slide_type": "subslide"
    }
   },
   "source": [
    "### Quality Assurance\n",
    "\n",
    "In your code, make use of plenty of assertions that allow to catch errors quickly.  These assertions also help your readers understand the code."
   ]
  },
  {
   "cell_type": "markdown",
   "metadata": {
    "button": false,
    "new_sheet": false,
    "run_control": {
     "read_only": false
    },
    "slideshow": {
     "slide_type": "subslide"
    }
   },
   "source": [
    "### Issue Tracker\n",
    "\n",
    "The [Github project page](https://github.com/uds-se/fuzzingbook) allows to enter and track issues."
   ]
  },
  {
   "cell_type": "markdown",
   "metadata": {
    "button": false,
    "new_sheet": false,
    "run_control": {
     "read_only": false
    },
    "slideshow": {
     "slide_type": "slide"
    },
    "toc-hr-collapsed": false
   },
   "source": [
    "## Writing Text\n",
    "\n",
    "Text blocks use Markdown syntax.  [Here is a handy guide](https://github.com/adam-p/markdown-here/wiki/Markdown-Cheatsheet).\n"
   ]
  },
  {
   "cell_type": "markdown",
   "metadata": {
    "button": false,
    "new_sheet": false,
    "run_control": {
     "read_only": false
    },
    "slideshow": {
     "slide_type": "subslide"
    }
   },
   "source": [
    "### Sections\n",
    "\n",
    "Any chapter notebook must begin with `# TITLE`, and sections and subsections should then follow by `## SECTION` and `### SUBSECTION`.\n",
    "\n",
    "Sections should start with their own block, to facilitate cross-referencing.\n"
   ]
  },
  {
   "cell_type": "markdown",
   "metadata": {
    "button": false,
    "new_sheet": false,
    "run_control": {
     "read_only": false
    },
    "slideshow": {
     "slide_type": "subslide"
    }
   },
   "source": [
    "### Highlighting\n",
    "\n",
    "Use\n",
    "\n",
    "* _emphasis_ (`_emphasis_`) for highlighting,\n",
    "* *emphasis* (`*emphasis*`) for highlighting terms that will go into the index,\n",
    "* `backticks` for code and other verbatim elements."
   ]
  },
  {
   "cell_type": "markdown",
   "metadata": {
    "button": false,
    "new_sheet": false,
    "run_control": {
     "read_only": false
    },
    "slideshow": {
     "slide_type": "subslide"
    }
   },
   "source": [
    "### Hyphens and Dashes\n",
    "\n",
    "Use \"–\" for em-dashes, \"-\" for hyphens, and \"$-$\" for minus."
   ]
  },
  {
   "cell_type": "markdown",
   "metadata": {
    "slideshow": {
     "slide_type": "subslide"
    }
   },
   "source": [
    "### Quotes\n",
    "\n",
    "Use standard typewriter quotes (`\"quoted string\"`) for quoted text.  The PDF version will automatically convert these to \"smart\" (e.g. left and right) quotes."
   ]
  },
  {
   "cell_type": "markdown",
   "metadata": {
    "button": false,
    "new_sheet": false,
    "run_control": {
     "read_only": false
    },
    "slideshow": {
     "slide_type": "subslide"
    }
   },
   "source": [
    "### Lists and Enumerations\n",
    "\n",
    "You can use bulleted lists:\n",
    "\n",
    "* Item A\n",
    "* Item B\n",
    "\n",
    "and enumerations:\n",
    "\n",
    "1. item 1\n",
    "1. item 2\n",
    "\n",
    "For description lists, use a combination of bulleted lists and highlights:\n",
    "\n",
    "* **PDF** is great for reading offline\n",
    "* **HTML** is great for reading online\n"
   ]
  },
  {
   "cell_type": "markdown",
   "metadata": {
    "button": false,
    "new_sheet": false,
    "run_control": {
     "read_only": false
    },
    "slideshow": {
     "slide_type": "subslide"
    }
   },
   "source": [
    "\n",
    "### Math\n",
    "\n",
    "LaTeX math formatting works, too.\n",
    "\n",
    "`$x = \\sum_{n = 1}^{\\infty}\\frac{1}{n}$` gets you\n",
    "$x = \\sum_{n = 1}^{\\infty}\\frac{1}{n}$.\n"
   ]
  },
  {
   "cell_type": "markdown",
   "metadata": {
    "button": false,
    "new_sheet": false,
    "run_control": {
     "read_only": false
    },
    "slideshow": {
     "slide_type": "subslide"
    }
   },
   "source": [
    "### Inline Code\n",
    "\n",
    "Python code normally goes into its own cells, but you can also have it in the text:\n",
    "\n",
    "```python\n",
    "s = \"Python syntax highlighting\"\n",
    "print(s)\n",
    "```"
   ]
  },
  {
   "cell_type": "markdown",
   "metadata": {
    "button": false,
    "ipub": {
     "figure": {
      "caption": "Figure caption.",
      "height": 0.4,
      "label": "fig:flabel",
      "placement": "H",
      "widefigure": false
     }
    },
    "new_sheet": false,
    "run_control": {
     "read_only": false
    },
    "slideshow": {
     "slide_type": "subslide"
    }
   },
   "source": [
    "### Images\n",
    "\n",
    "To insert images, use Markdown syntax `![Word cloud](PICS/wordcloud.png){width=100%}` inserts a picture from the `PICS` folder."
   ]
  },
  {
   "cell_type": "markdown",
   "metadata": {
    "button": false,
    "ipub": {
     "figure": {
      "caption": "This is Andreas Zeller",
      "label": "fig:zeller",
      "placement": "H",
      "widefigure": false,
      "width": 1
     }
    },
    "new_sheet": false,
    "run_control": {
     "read_only": false
    },
    "slideshow": {
     "slide_type": "fragment"
    }
   },
   "source": [
    "![Word cloud](PICS/wordcloud.png){width=100%}"
   ]
  },
  {
   "cell_type": "markdown",
   "metadata": {
    "button": false,
    "new_sheet": false,
    "run_control": {
     "read_only": false
    },
    "slideshow": {
     "slide_type": "fragment"
    }
   },
   "source": [
    "All pictures go to `PICS/`, both in source as well as derived formats; both are stored in git, too.  (Not all of us have all tools to recreate diagrams, etc.)"
   ]
  },
  {
   "cell_type": "markdown",
   "metadata": {
    "slideshow": {
     "slide_type": "subslide"
    }
   },
   "source": [
    "### Footnotes\n",
    "\n",
    "Markdown supports footnotes, as in [^footnote].  These are rendered as footnotes in HTML and PDF, _but not within Jupyter_; hence, readers may find them confusing.  So far, the book makes no use of footnotes, and uses parenthesized text instead.\n",
    "\n",
    "[^footnote]: Test, [Link](https://www.fuzzingbook.org)."
   ]
  },
  {
   "cell_type": "markdown",
   "metadata": {
    "button": false,
    "new_sheet": false,
    "run_control": {
     "read_only": false
    },
    "slideshow": {
     "slide_type": "subslide"
    }
   },
   "source": [
    "### Floating Elements and References\n",
    "\n",
    "\\todo[inline]{I haven't gotten this to work yet -- AZ}\n",
    "\n",
    "To produce floating elements in LaTeX and PDF, edit the metadata of the cell which contains it. (In the Jupyter Notebook Toolbar go to View -> Cell Toolbar -> Edit Metadata and a button will appear above each cell.) This allows you to control placement and create labels."
   ]
  },
  {
   "cell_type": "markdown",
   "metadata": {
    "button": false,
    "new_sheet": false,
    "run_control": {
     "read_only": false
    },
    "slideshow": {
     "slide_type": "subslide"
    }
   },
   "source": [
    "#### Floating Figures\n",
    "\n",
    "Edit metadata as follows:\n",
    "\n",
    "```json\n",
    "{\n",
    "\"ipub\": {\n",
    "  \"figure\": {\n",
    "    \"caption\": \"Figure caption.\",\n",
    "    \"label\": \"fig:flabel\",\n",
    "    \"placement\": \"H\",\n",
    "\t\"height\":0.4,\n",
    "    \"widefigure\": false,\n",
    "    }\n",
    "  }\n",
    "}\n",
    "```\n",
    "\n",
    "- all tags are optional\n",
    "- height/width correspond to the fraction of the page height/width, only one should be used (aspect ratio will be maintained automatically)\n",
    "- `placement` is optional and constitutes using a placement arguments for the figure (e.g. \\begin{figure}[H]). See [Positioning_images_and_tables](https://www.sharelatex.com/learn/Positioning_images_and_tables).\n",
    "- `widefigure` is optional and constitutes expanding the figure to the page width (i.e. \\begin{figure*}) (placement arguments will then be ignored)"
   ]
  },
  {
   "cell_type": "markdown",
   "metadata": {
    "button": false,
    "new_sheet": false,
    "run_control": {
     "read_only": false
    },
    "slideshow": {
     "slide_type": "subslide"
    }
   },
   "source": [
    "#### Floating Tables\n",
    "\n",
    "For  **tables** (e.g. those output by `pandas`), enter in cell metadata:\n",
    "\n",
    "```json\n",
    "{\n",
    "\"ipub\": {\n",
    "     \"table\": {\n",
    "\t    \"caption\": \"Table caption.\",\n",
    "\t    \"label\": \"tbl:tlabel\",\n",
    "\t    \"placement\": \"H\",\n",
    "            \"alternate\": \"gray!20\"\n",
    "\t  }\n",
    "   }\n",
    "}\n",
    "```\n",
    "\n",
    "- `caption` and `label` are optional\n",
    "- `placement` is optional and constitutes using a placement arguments for the table (e.g. \\begin{table}[H]). See [Positioning_images_and_tables](https://www.sharelatex.com/learn/Positioning_images_and_tables).\n",
    "- `alternate` is optional and constitutes using alternating colors for the table rows (e.g. \\rowcolors{2}{gray!25}{white}). See (https://tex.stackexchange.com/a/5365/107738)[https://tex.stackexchange.com/a/5365/107738].\n",
    "- if tables exceed the text width, in latex, they will be shrunk to fit \n",
    "\n",
    "\n",
    "#### Floating Equations\n",
    "\n",
    "For  **equations** (e.g. those output by `sympy`), enter in cell metadata:\n",
    "\n",
    "```json\n",
    "{\n",
    "  \"ipub\": {\n",
    "\t  \"equation\": {\n",
    "        \"environment\": \"equation\",\n",
    "\t    \"label\": \"eqn:elabel\"\n",
    "\t  }\n",
    "  }\n",
    "}\n",
    "```\n",
    "\n",
    "- environment is optional and can be 'none' or any of those available in [amsmath](https://www.sharelatex.com/learn/Aligning_equations_with_amsmath); 'equation', 'align','multline','gather', or their \\* variants. Additionally, 'breqn' or 'breqn\\*' will select the experimental [breqn](https://ctan.org/pkg/breqn) environment to *smart* wrap long equations. \n",
    "- label is optional and will only be used if the equation is in an environment\n",
    "\n",
    "\n",
    "#### References\n",
    "\n",
    "To reference a floating object, use `\\cref`, e.g. \\cref{eq:texdemo}"
   ]
  },
  {
   "cell_type": "markdown",
   "metadata": {
    "button": false,
    "new_sheet": false,
    "run_control": {
     "read_only": false
    },
    "slideshow": {
     "slide_type": "subslide"
    }
   },
   "source": [
    "### Cross-Referencing\n",
    "\n",
    "####  Section References\n",
    "\n",
    "* To refer to sections in the same notebook, use the header name as anchor, e.g. \n",
    "`[Code](#Code)` gives you [Code](#Code).  For multi-word titles, replace spaces by hyphens (`-`), as in [Using Notebooks as Modules](#Using-Notebooks-as-Modules).\n",
    "\n",
    "* To refer to cells (e.g. equations or figures), you can define a label as cell metadata.  See [Floating Elements and References](#Floating-Elements-and-References) for details.\n",
    "\n",
    "* To refer to other notebooks, use a Markdown cross-reference to the notebook file, e.g. [the \"Fuzzing\" chapter](Fuzzer.ipynb).  A special script will be run to take care of these links.  Reference chapters by name, not by number."
   ]
  },
  {
   "cell_type": "markdown",
   "metadata": {
    "button": false,
    "new_sheet": false,
    "run_control": {
     "read_only": false
    },
    "slideshow": {
     "slide_type": "subslide"
    }
   },
   "source": [
    "### Citations\n",
    "\n",
    "To cite papers, cite in LaTeX style.  The text"
   ]
  },
  {
   "cell_type": "code",
   "execution_count": 19,
   "metadata": {
    "execution": {
     "iopub.execute_input": "2022-05-18T09:48:16.703902Z",
     "iopub.status.busy": "2022-05-18T09:48:16.703780Z",
     "iopub.status.idle": "2022-05-18T09:48:16.705600Z",
     "shell.execute_reply": "2022-05-18T09:48:16.705305Z"
    },
    "slideshow": {
     "slide_type": "fragment"
    }
   },
   "outputs": [
    {
     "name": "stdout",
     "output_type": "stream",
     "text": [
      "\\cite{Purdom1972}\n"
     ]
    }
   ],
   "source": [
    "print(r\"\\cite{Purdom1972}\")"
   ]
  },
  {
   "cell_type": "markdown",
   "metadata": {
    "button": false,
    "new_sheet": false,
    "run_control": {
     "read_only": false
    },
    "slideshow": {
     "slide_type": "subslide"
    }
   },
   "source": [
    "is expanded to \\cite{Purdom1972}, which in HTML and PDF should be a nice reference.\n",
    "The keys refer to BibTeX entries in [fuzzingbook.bib](fuzzingbook.bib).  \n",
    "* LaTeX/PDF output will have a \"References\" section appended.\n",
    "* HTML output will link to the URL field from the BibTeX entry. Be sure it points to the DOI."
   ]
  },
  {
   "cell_type": "markdown",
   "metadata": {
    "button": false,
    "new_sheet": false,
    "run_control": {
     "read_only": false
    },
    "slideshow": {
     "slide_type": "subslide"
    }
   },
   "source": [
    "### Todo's\n",
    "\n",
    "* To mark todo's, use `\\todo{Thing to be done}.`  \\todo{Expand this}"
   ]
  },
  {
   "cell_type": "markdown",
   "metadata": {
    "button": false,
    "new_sheet": false,
    "run_control": {
     "read_only": false
    },
    "slideshow": {
     "slide_type": "slide"
    }
   },
   "source": [
    "### Tables\n",
    "\n",
    "Tables with fixed contents can be produced using Markdown syntax:\n",
    "\n",
    "| Tables | Are | Cool |\n",
    "| ------ | ---:| ----:|\n",
    "| Zebra  | 2   |   30 |\n",
    "| Gnu    | 20  |  400 |\n"
   ]
  },
  {
   "cell_type": "markdown",
   "metadata": {
    "button": false,
    "new_sheet": false,
    "run_control": {
     "read_only": false
    },
    "slideshow": {
     "slide_type": "fragment"
    }
   },
   "source": [
    "If you want to produce tables from Python data, the `PrettyTable` package (included in the book) allows to [produce tables with LaTeX-style formatting.](http://blog.juliusschulz.de/blog/ultimate-ipython-notebook)"
   ]
  },
  {
   "cell_type": "code",
   "execution_count": 20,
   "metadata": {
    "button": false,
    "execution": {
     "iopub.execute_input": "2022-05-18T09:48:16.707458Z",
     "iopub.status.busy": "2022-05-18T09:48:16.707172Z",
     "iopub.status.idle": "2022-05-18T09:48:16.709830Z",
     "shell.execute_reply": "2022-05-18T09:48:16.709543Z"
    },
    "new_sheet": false,
    "run_control": {
     "read_only": false
    },
    "slideshow": {
     "slide_type": "fragment"
    }
   },
   "outputs": [],
   "source": [
    "from bookutils import PrettyTable as pt"
   ]
  },
  {
   "cell_type": "code",
   "execution_count": 21,
   "metadata": {
    "button": false,
    "execution": {
     "iopub.execute_input": "2022-05-18T09:48:16.711368Z",
     "iopub.status.busy": "2022-05-18T09:48:16.711245Z",
     "iopub.status.idle": "2022-05-18T09:48:16.713045Z",
     "shell.execute_reply": "2022-05-18T09:48:16.712755Z"
    },
    "new_sheet": false,
    "run_control": {
     "read_only": false
    },
    "slideshow": {
     "slide_type": "fragment"
    }
   },
   "outputs": [],
   "source": [
    "import numpy as np"
   ]
  },
  {
   "cell_type": "code",
   "execution_count": 22,
   "metadata": {
    "button": false,
    "execution": {
     "iopub.execute_input": "2022-05-18T09:48:16.714956Z",
     "iopub.status.busy": "2022-05-18T09:48:16.714837Z",
     "iopub.status.idle": "2022-05-18T09:48:16.717536Z",
     "shell.execute_reply": "2022-05-18T09:48:16.717218Z"
    },
    "new_sheet": false,
    "run_control": {
     "read_only": false
    },
    "slideshow": {
     "slide_type": "fragment"
    }
   },
   "outputs": [
    {
     "data": {
      "text/html": [
       "<table><tr><td>$\\frac{a}{b}$</td><td>$b$</td><td>$c$</td></tr><tr><td>1</td><td>2</td><td>30</td></tr><tr><td>2</td><td>3</td><td>400</td></tr></table>"
      ],
      "text/latex": [
       "\\begin{tabular}{l|l|l}\n",
       "$\\frac{a}{b}$ & $b$ & $c$\\\\ \n",
       "1 & 2 & 30\\\\ \n",
       "2 & 3 & 400\\\\ \n",
       "\\end{tabular}"
      ],
      "text/plain": [
       "[['$\\\\frac{a}{b}$', '$b$', '$c$'], array([ 1,  2, 30]), array([  2,   3, 400])]"
      ]
     },
     "execution_count": 22,
     "metadata": {},
     "output_type": "execute_result"
    }
   ],
   "source": [
    "data = np.array([[1, 2, 30], [2, 3, 400]])\n",
    "pt.PrettyTable(data, [r\"$\\frac{a}{b}$\", r\"$b$\",\n",
    "                      r\"$c$\"], print_latex_longtable=False)"
   ]
  },
  {
   "cell_type": "markdown",
   "metadata": {
    "button": false,
    "new_sheet": false,
    "run_control": {
     "read_only": false
    },
    "slideshow": {
     "slide_type": "slide"
    }
   },
   "source": [
    "### Plots and Data\n",
    "\n",
    "It is possible to include plots in notebooks.  Here is an example of plotting a function:"
   ]
  },
  {
   "cell_type": "code",
   "execution_count": 23,
   "metadata": {
    "button": false,
    "execution": {
     "iopub.execute_input": "2022-05-18T09:48:16.719110Z",
     "iopub.status.busy": "2022-05-18T09:48:16.718996Z",
     "iopub.status.idle": "2022-05-18T09:48:16.798941Z",
     "shell.execute_reply": "2022-05-18T09:48:16.798185Z"
    },
    "new_sheet": false,
    "run_control": {
     "read_only": false
    },
    "slideshow": {
     "slide_type": "fragment"
    }
   },
   "outputs": [
    {
     "data": {
      "image/png": "[encoded data removed]",
      "text/plain": [
       "<Figure size 432x288 with 1 Axes>"
      ]
     },
     "metadata": {
      "needs_background": "light"
     },
     "output_type": "display_data"
    }
   ],
   "source": [
    "%matplotlib inline\n",
    "\n",
    "import matplotlib.pyplot as plt\n",
    "\n",
    "x = np.linspace(0, 3 * np.pi, 500)\n",
    "plt.plot(x, np.sin(x ** 2))\n",
    "plt.title('A simple chirp');"
   ]
  },
  {
   "cell_type": "markdown",
   "metadata": {
    "button": false,
    "new_sheet": false,
    "run_control": {
     "read_only": false
    },
    "slideshow": {
     "slide_type": "fragment"
    }
   },
   "source": [
    "And here's an example of plotting data:"
   ]
  },
  {
   "cell_type": "code",
   "execution_count": 24,
   "metadata": {
    "button": false,
    "execution": {
     "iopub.execute_input": "2022-05-18T09:48:16.801008Z",
     "iopub.status.busy": "2022-05-18T09:48:16.800895Z",
     "iopub.status.idle": "2022-05-18T09:48:16.849754Z",
     "shell.execute_reply": "2022-05-18T09:48:16.849345Z"
    },
    "new_sheet": false,
    "run_control": {
     "read_only": false
    },
    "slideshow": {
     "slide_type": "fragment"
    }
   },
   "outputs": [
    {
     "data": {
      "image/png": "[encoded data removed]",
      "text/plain": [
       "<Figure size 432x288 with 1 Axes>"
      ]
     },
     "metadata": {
      "needs_background": "light"
     },
     "output_type": "display_data"
    }
   ],
   "source": [
    "%matplotlib inline\n",
    "\n",
    "import matplotlib.pyplot as plt\n",
    "data = [25, 36, 57]\n",
    "plt.plot(data)\n",
    "plt.title('Increase in data');"
   ]
  },
  {
   "cell_type": "markdown",
   "metadata": {
    "button": false,
    "new_sheet": false,
    "run_control": {
     "read_only": false
    },
    "slideshow": {
     "slide_type": "fragment"
    }
   },
   "source": [
    "Plots are available in all derived versions (HTML, PDF, etc.)  Plots with `plotly` are even nicer (and interactive, even in HTML),  However, at this point, we cannot export them to PDF, so `matplotlib` it is."
   ]
  },
  {
   "cell_type": "markdown",
   "metadata": {
    "button": false,
    "new_sheet": false,
    "run_control": {
     "read_only": false
    },
    "slideshow": {
     "slide_type": "slide"
    }
   },
   "source": [
    "## Slides\n",
    "\n",
    "You can set up the notebooks such that they also can be presented as slides.  In the browser, select View -> Cell Toolbar -> Slideshow.  You can then select a slide type for each cell:\n",
    "\n",
    "* `New slide` starts a new slide with the cell (typically, every `## SECTION` in the chapter)\n",
    "* `Sub-slide` starts a new sub-slide which you navigate \"down\" to (anything in the section)\n",
    "* `Fragment` is a cell that gets revealed after a click (on the same slide)\n",
    "* `Skip` is skipped during the slide show (e.g. `import` statements; navigation guides)\n",
    "* `Notes` goes into presenter notes\n",
    "\n",
    "To create slides, do `make slides`; to view them, change into the `slides/` folder and open the created HTML files.  (The `reveal.js` package has to be in the same folder as the slide to be presented.)\n",
    "\n",
    "The ability to use slide shows is a compelling argument for teachers and instructors in our audience."
   ]
  },
  {
   "cell_type": "markdown",
   "metadata": {
    "button": false,
    "new_sheet": false,
    "run_control": {
     "read_only": false
    },
    "slideshow": {
     "slide_type": "notes"
    }
   },
   "source": [
    "(Hint: In a slide presentation, type `s` to see presenter notes.)"
   ]
  },
  {
   "cell_type": "markdown",
   "metadata": {
    "button": false,
    "new_sheet": false,
    "run_control": {
     "read_only": false
    },
    "slideshow": {
     "slide_type": "slide"
    }
   },
   "source": [
    "## Writing Tools\n",
    "\n",
    "When you're editing in the browser, you may find these extensions helpful:\n",
    "\n",
    "### Jupyter Notebook\n",
    "\n",
    "[Jupyter Notebook Extensions](https://github.com/ipython-contrib/jupyter_contrib_nbextensions) is a collection of productivity-enhancing tools (including spellcheckers).\n",
    "\n",
    "I found these extensions to be particularly useful:\n",
    "\n",
    "  * Spell Checker (while you're editing)\n",
    "  * Table of contents (for quick navigation)\n",
    "  * Code prettify (to produce \"nice\" syntax)\n",
    "  * Codefolding\n",
    "  * Live Markdown Preview (while you're editing)\n",
    "\n",
    "### Jupyter Lab\n",
    "\n",
    "Extensions for _Jupyter Lab_ are much less varied and less supported, but things get better. I am running\n",
    "\n",
    "  * [Spell Checker](https://github.com/ijmbarr/jupyterlab_spellchecker)\n",
    "  \n",
    "  * [Table of Contents](https://github.com/jupyterlab/jupyterlab-toc)\n",
    "  \n",
    "  * [JupyterLab-LSP](https://towardsdatascience.com/jupyterlab-2-0-edd4155ab897) providing code completion, signatures, style checkers, and more.\n",
    " "
   ]
  },
  {
   "cell_type": "markdown",
   "metadata": {
    "button": false,
    "new_sheet": false,
    "run_control": {
     "read_only": false
    },
    "slideshow": {
     "slide_type": "slide"
    }
   },
   "source": [
    "## Interaction\n",
    "\n",
    "It is possible to include interactive elements in a notebook, as in the following example:"
   ]
  },
  {
   "cell_type": "markdown",
   "metadata": {
    "button": false,
    "new_sheet": false,
    "run_control": {
     "read_only": false
    },
    "slideshow": {
     "slide_type": "fragment"
    }
   },
   "source": [
    "```python\n",
    "try:\n",
    "    from ipywidgets import interact, interactive, fixed, interact_manual\n",
    "\n",
    "    x = interact(fuzzer, char_start=(32, 128), char_range=(0, 96))\n",
    "except ImportError:\n",
    "    pass\n",
    "```"
   ]
  },
  {
   "cell_type": "markdown",
   "metadata": {
    "button": false,
    "new_sheet": false,
    "run_control": {
     "read_only": false
    },
    "slideshow": {
     "slide_type": "fragment"
    }
   },
   "source": [
    "Note that such elements will be present in the notebook versions only, but not in the HTML and PDF versions, so use them sparingly (if at all).  To avoid errors during production of derived files, protect against `ImportError` exceptions as in the above example."
   ]
  },
  {
   "cell_type": "markdown",
   "metadata": {
    "button": false,
    "new_sheet": false,
    "run_control": {
     "read_only": false
    },
    "slideshow": {
     "slide_type": "slide"
    }
   },
   "source": [
    "## Read More\n",
    "\n",
    "Here is some documentation on the tools we use:\n",
    "\n",
    "1. [Markdown Cheatsheet](https://github.com/adam-p/markdown-here/wiki/Markdown-Cheatsheet) - general introduction to Markdown\n",
    "\n",
    "1. [iPyPublish](https://github.com/chrisjsewell/ipypublish) - rich set of tools to create documents with citations and references\n"
   ]
  },
  {
   "cell_type": "markdown",
   "metadata": {
    "button": false,
    "new_sheet": false,
    "run_control": {
     "read_only": false
    },
    "slideshow": {
     "slide_type": "slide"
    }
   },
   "source": [
    "\n",
    "\n",
    "## Alternative Tool Sets\n",
    "\n",
    "We don't currently use these, but they are worth learning:\n",
    "\n",
    "1. [Making Publication-Ready Python Notebooks](http://blog.juliusschulz.de/blog/ultimate-ipython-notebook) - Another tool set on how to produce book chapters from notebooks\n",
    "\n",
    "1. [Writing academic papers in plain text with Markdown and Jupyter notebook](https://sylvaindeville.net/2015/07/17/writing-academic-papers-in-plain-text-with-markdown-and-jupyter-notebook/) - Alternate ways on how to generate citations\n",
    "\n",
    "1. [A Jupyter LaTeX template](https://gist.github.com/goerz/d5019bedacf5956bcf03ca8683dc5217#file-revtex-tplx) - How to define a LaTeX template\n",
    "\n",
    "1. [Boost Your Jupyter Notebook Productivity](https://towardsdatascience.com/jupyter-notebook-hints-1f26b08429ad) - a collection of hints for debugging and profiling Jupyter notebooks\n",
    "\n"
   ]
  }
 ],
 "metadata": {
  "ipub": {
   "bibliography": "fuzzingbook.bib",
   "toc": true
  },
  "kernelspec": {
   "display_name": "Python 3 (ipykernel)",
   "language": "python",
   "name": "python3"
  },
  "language_info": {
   "codemirror_mode": {
    "name": "ipython",
    "version": 3
   },
   "file_extension": ".py",
   "mimetype": "text/x-python",
   "name": "python",
   "nbconvert_exporter": "python",
   "pygments_lexer": "ipython3",
   "version": "3.9.7"
  },
  "toc": {
   "base_numbering": 1,
   "nav_menu": {},
   "number_sections": true,
   "sideBar": true,
   "skip_h1_title": true,
   "title_cell": "",
   "title_sidebar": "Contents",
   "toc_cell": false,
   "toc_position": {},
   "toc_section_display": true,
   "toc_window_display": true
  },
  "toc-autonumbering": false
 },
 "nbformat": 4,
 "nbformat_minor": 4
}
