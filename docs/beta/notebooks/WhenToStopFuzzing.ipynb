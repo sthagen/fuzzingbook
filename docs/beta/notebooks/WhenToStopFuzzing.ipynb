{
 "cells": [
  {
   "cell_type": "markdown",
   "metadata": {
    "button": false,
    "new_sheet": false,
    "run_control": {
     "read_only": false
    },
    "slideshow": {
     "slide_type": "slide"
    }
   },
   "source": [
    "# When To Stop Fuzzing\n",
    "\n",
    "In the past chapters, we have discussed several fuzzing techniques.  Knowing _what_ to do is important, but it is also important to know when to _stop_ doing things.  In this chapter, we will learn when to _stop fuzzing_ – and use a prominent example for this purpose: The *Enigma* machine that was used in the second world war by the navy of Nazi Germany to encrypt communications, and how Alan Turing and I.J. Good used _fuzzing techniques_ to crack ciphers for the Naval Enigma machine.\n",
    "\n",
    "Turing did not only develop the foundations of computer science, the Turing machine. Together with his assistant I.J. Good, he also invented estimators of the probability of an event occurring that has never previously occurred. We show how the Good-Turing estimator can be used to quantify the *residual risk* of a fuzzing campaign that finds no vulnerabilities. Meaning, we show how it estimates the probability of discovering a vulnerability when no vulnerability has been observed before throughout the fuzzing campaign.\n",
    "\n",
    "We discuss means to speed up [coverage-based fuzzers](Coverage.ipynb) and introduce a range of estimation and extrapolation methodologies to assess and extrapolate fuzzing progress and residual risk."
   ]
  },
  {
   "cell_type": "code",
   "execution_count": 1,
   "metadata": {
    "execution": {
     "iopub.execute_input": "2022-08-06T22:57:05.600896Z",
     "iopub.status.busy": "2022-08-06T22:57:05.600498Z",
     "iopub.status.idle": "2022-08-06T22:57:05.660808Z",
     "shell.execute_reply": "2022-08-06T22:57:05.661060Z"
    },
    "slideshow": {
     "slide_type": "skip"
    }
   },
   "outputs": [
    {
     "data": {
      "text/html": [
       "\n",
       "        <iframe\n",
       "            width=\"640\"\n",
       "            height=\"360\"\n",
       "            src=\"https://www.youtube-nocookie.com/embed/od3DcJcr0d4\"\n",
       "            frameborder=\"0\"\n",
       "            allowfullscreen\n",
       "        ></iframe>\n",
       "        "
      ],
      "text/plain": [
       "<IPython.lib.display.IFrame at 0x105236e60>"
      ]
     },
     "execution_count": 1,
     "metadata": {},
     "output_type": "execute_result"
    }
   ],
   "source": [
    "from bookutils import YouTubeVideo\n",
    "YouTubeVideo('od3DcJcr0d4')"
   ]
  },
  {
   "cell_type": "markdown",
   "metadata": {
    "button": false,
    "new_sheet": false,
    "run_control": {
     "read_only": false
    },
    "slideshow": {
     "slide_type": "slide"
    }
   },
   "source": [
    "**Prerequisites**\n",
    "\n",
    "* _The chapter on [Coverage](Coverage.ipynb) discusses how to use coverage information for an executed test input to guide a coverage-based mutational greybox fuzzer_.\n",
    "* Some knowledge of statistics is helpful."
   ]
  },
  {
   "cell_type": "code",
   "execution_count": 2,
   "metadata": {
    "execution": {
     "iopub.execute_input": "2022-08-06T22:57:05.663525Z",
     "iopub.status.busy": "2022-08-06T22:57:05.663221Z",
     "iopub.status.idle": "2022-08-06T22:57:05.664530Z",
     "shell.execute_reply": "2022-08-06T22:57:05.664873Z"
    },
    "slideshow": {
     "slide_type": "skip"
    }
   },
   "outputs": [],
   "source": [
    "import bookutils"
   ]
  },
  {
   "cell_type": "code",
   "execution_count": 3,
   "metadata": {
    "execution": {
     "iopub.execute_input": "2022-08-06T22:57:05.667029Z",
     "iopub.status.busy": "2022-08-06T22:57:05.666621Z",
     "iopub.status.idle": "2022-08-06T22:57:05.667820Z",
     "shell.execute_reply": "2022-08-06T22:57:05.668078Z"
    },
    "slideshow": {
     "slide_type": "skip"
    }
   },
   "outputs": [],
   "source": [
    "from typing import Dict"
   ]
  },
  {
   "cell_type": "markdown",
   "metadata": {
    "button": false,
    "new_sheet": true,
    "run_control": {
     "read_only": false
    },
    "slideshow": {
     "slide_type": "slide"
    }
   },
   "source": [
    "## The Enigma Machine\n",
    "\n",
    "It is autumn in the year of 1938. Turing has just finished his PhD at Princeton University demonstrating the limits of computation and laying the foundation for the theory of computer science. Nazi Germany is rearming. It has reoccupied the Rhineland and annexed Austria against the treaty of Versailles. It has just annexed the Sudetenland in Czechoslovakia and begins preparations to take over the rest of Czechoslovakia despite an agreement just signed in Munich.\n",
    "\n",
    "Meanwhile, the British intelligence is building up their capability to break encrypted messages used by the Germans to communicate military and naval information. The Germans are using [Enigma machines](https://en.wikipedia.org/wiki/Enigma_machine) for encryption.  Enigma machines use a series of electro-mechanical rotor cipher machines to protect military communication.  Here is a picture of an Enigma machine:"
   ]
  },
  {
   "cell_type": "markdown",
   "metadata": {
    "button": false,
    "new_sheet": false,
    "run_control": {
     "read_only": false
    },
    "slideshow": {
     "slide_type": "slide"
    }
   },
   "source": [
    "![Enigma Machine](PICS/Bletchley_Park_Naval_Enigma_IMG_3604.JPG)"
   ]
  },
  {
   "cell_type": "markdown",
   "metadata": {
    "button": false,
    "new_sheet": true,
    "run_control": {
     "read_only": false
    },
    "slideshow": {
     "slide_type": "slide"
    }
   },
   "source": [
    "By the time Turing joined the British Bletchley park, the Polish intelligence reverse engineered the logical structure of the Enigma machine and built a decryption machine called *Bomba* (perhaps because of the ticking noise they made). A bomba simulates six Enigma machines simultaneously and tries different decryption keys until the code is broken. The Polish bomba might have been the very _first fuzzer_."
   ]
  },
  {
   "cell_type": "markdown",
   "metadata": {
    "button": false,
    "new_sheet": true,
    "run_control": {
     "read_only": false
    },
    "slideshow": {
     "slide_type": "slide"
    }
   },
   "source": [
    "Turing took it upon himself to crack ciphers of the Naval Enigma machine, which were notoriously hard to crack. The Naval Enigma used, as part of its encryption key, a three letter sequence called *trigram*. These trigrams were selected from a book, called *Kenngruppenbuch*, which contained all trigrams in a random order."
   ]
  },
  {
   "cell_type": "markdown",
   "metadata": {
    "button": false,
    "new_sheet": true,
    "run_control": {
     "read_only": false
    },
    "slideshow": {
     "slide_type": "slide"
    }
   },
   "source": [
    "### The Kenngruppenbuch\n",
    "\n",
    "Let's start with the Kenngruppenbuch (K-Book).\n",
    "\n",
    "We are going to use the following Python functions.\n",
    "* `random.shuffle(elements)` - shuffle *elements* and put items in random order.\n",
    "* `random.choices(elements, weights)` - choose an item from *elements* at random. An element with twice the *weight* is twice as likely to be chosen.\n",
    "* `log(a)` - returns the natural logarithm of a.\n",
    "* `a ** b` - means `a` to the power of `b` (a.k.a. [power operator](https://docs.python.org/3/reference/expressions.html#the-power-operator))"
   ]
  },
  {
   "cell_type": "code",
   "execution_count": 4,
   "metadata": {
    "execution": {
     "iopub.execute_input": "2022-08-06T22:57:05.670264Z",
     "iopub.status.busy": "2022-08-06T22:57:05.669946Z",
     "iopub.status.idle": "2022-08-06T22:57:05.671147Z",
     "shell.execute_reply": "2022-08-06T22:57:05.671556Z"
    },
    "slideshow": {
     "slide_type": "skip"
    }
   },
   "outputs": [],
   "source": [
    "import string"
   ]
  },
  {
   "cell_type": "code",
   "execution_count": 5,
   "metadata": {
    "execution": {
     "iopub.execute_input": "2022-08-06T22:57:05.673659Z",
     "iopub.status.busy": "2022-08-06T22:57:05.673307Z",
     "iopub.status.idle": "2022-08-06T22:57:05.897441Z",
     "shell.execute_reply": "2022-08-06T22:57:05.898539Z"
    },
    "slideshow": {
     "slide_type": "skip"
    }
   },
   "outputs": [],
   "source": [
    "import numpy\n",
    "from numpy import log"
   ]
  },
  {
   "cell_type": "code",
   "execution_count": 6,
   "metadata": {
    "execution": {
     "iopub.execute_input": "2022-08-06T22:57:05.902708Z",
     "iopub.status.busy": "2022-08-06T22:57:05.901627Z",
     "iopub.status.idle": "2022-08-06T22:57:05.907759Z",
     "shell.execute_reply": "2022-08-06T22:57:05.908495Z"
    },
    "slideshow": {
     "slide_type": "skip"
    }
   },
   "outputs": [],
   "source": [
    "import random"
   ]
  },
  {
   "cell_type": "markdown",
   "metadata": {
    "slideshow": {
     "slide_type": "subslide"
    }
   },
   "source": [
    "We start with creating the set of trigrams:"
   ]
  },
  {
   "cell_type": "code",
   "execution_count": 7,
   "metadata": {
    "execution": {
     "iopub.execute_input": "2022-08-06T22:57:05.924863Z",
     "iopub.status.busy": "2022-08-06T22:57:05.924044Z",
     "iopub.status.idle": "2022-08-06T22:57:05.931177Z",
     "shell.execute_reply": "2022-08-06T22:57:05.932066Z"
    },
    "slideshow": {
     "slide_type": "fragment"
    }
   },
   "outputs": [],
   "source": [
    "letters = list(string.ascii_letters[26:])  # upper-case characters\n",
    "trigrams = [str(a + b + c) for a in letters for b in letters for c in letters]"
   ]
  },
  {
   "cell_type": "code",
   "execution_count": 8,
   "metadata": {
    "execution": {
     "iopub.execute_input": "2022-08-06T22:57:05.948631Z",
     "iopub.status.busy": "2022-08-06T22:57:05.935290Z",
     "iopub.status.idle": "2022-08-06T22:57:05.950325Z",
     "shell.execute_reply": "2022-08-06T22:57:05.950069Z"
    },
    "slideshow": {
     "slide_type": "fragment"
    }
   },
   "outputs": [],
   "source": [
    "random.shuffle(trigrams)"
   ]
  },
  {
   "cell_type": "code",
   "execution_count": 9,
   "metadata": {
    "execution": {
     "iopub.execute_input": "2022-08-06T22:57:05.952294Z",
     "iopub.status.busy": "2022-08-06T22:57:05.951903Z",
     "iopub.status.idle": "2022-08-06T22:57:05.954624Z",
     "shell.execute_reply": "2022-08-06T22:57:05.955032Z"
    },
    "slideshow": {
     "slide_type": "fragment"
    }
   },
   "outputs": [
    {
     "data": {
      "text/plain": [
       "['TJK', 'NWV', 'LBM', 'AZC', 'GZP', 'ADE', 'DNO', 'OQL', 'FGK', 'IPT']"
      ]
     },
     "execution_count": 9,
     "metadata": {},
     "output_type": "execute_result"
    }
   ],
   "source": [
    "trigrams[:10]"
   ]
  },
  {
   "cell_type": "markdown",
   "metadata": {
    "slideshow": {
     "slide_type": "fragment"
    }
   },
   "source": [
    "These now go into the Kenngruppenbuch.  However, it was observed that some trigrams were more likely chosen than others. For instance, trigrams at the top-left corner of any page, or trigrams on the first or last few pages were more likely than one somewhere in the middle of the book or page.  We reflect this difference in distribution by assigning a _probability_ to each trigram, using Benford's law as introduced in [Probabilistic Fuzzing](ProbabilisticGrammarFuzzer.ipynb)."
   ]
  },
  {
   "cell_type": "markdown",
   "metadata": {
    "slideshow": {
     "slide_type": "subslide"
    }
   },
   "source": [
    "Recall, that Benford's law assigns the $i$-th digit the probability $\\log_{10}\\left(1 + \\frac{1}{i}\\right)$ where the base 10 is chosen because there are 10 digits $i\\in [0,9]$. However, Benford's law works for an arbitrary number of \"digits\". Hence, we assign the $i$-th trigram the probability $\\log_b\\left(1 + \\frac{1}{i}\\right)$ where the base $b$ is the number of all possible trigrams $b=26^3$. "
   ]
  },
  {
   "cell_type": "code",
   "execution_count": 10,
   "metadata": {
    "execution": {
     "iopub.execute_input": "2022-08-06T22:57:05.978431Z",
     "iopub.status.busy": "2022-08-06T22:57:05.977846Z",
     "iopub.status.idle": "2022-08-06T22:57:05.979836Z",
     "shell.execute_reply": "2022-08-06T22:57:05.980054Z"
    },
    "slideshow": {
     "slide_type": "fragment"
    }
   },
   "outputs": [],
   "source": [
    "k_book = {}  # Kenngruppenbuch\n",
    "\n",
    "for i in range(1, len(trigrams) + 1):\n",
    "    trigram = trigrams[i - 1]\n",
    "    # choose weights according to Benford's law\n",
    "    k_book[trigram] = log(1 + 1 / i) / log(26**3 + 1)"
   ]
  },
  {
   "cell_type": "markdown",
   "metadata": {
    "slideshow": {
     "slide_type": "fragment"
    }
   },
   "source": [
    "Here's a random trigram from the Kenngruppenbuch:"
   ]
  },
  {
   "cell_type": "code",
   "execution_count": 11,
   "metadata": {
    "execution": {
     "iopub.execute_input": "2022-08-06T22:57:05.983795Z",
     "iopub.status.busy": "2022-08-06T22:57:05.981947Z",
     "iopub.status.idle": "2022-08-06T22:57:05.986843Z",
     "shell.execute_reply": "2022-08-06T22:57:05.987288Z"
    },
    "slideshow": {
     "slide_type": "subslide"
    }
   },
   "outputs": [
    {
     "data": {
      "text/plain": [
       "'PSK'"
      ]
     },
     "execution_count": 11,
     "metadata": {},
     "output_type": "execute_result"
    }
   ],
   "source": [
    "random_trigram = random.choices(list(k_book.keys()), weights=list(k_book.values()))[0]\n",
    "random_trigram"
   ]
  },
  {
   "cell_type": "markdown",
   "metadata": {
    "slideshow": {
     "slide_type": "fragment"
    }
   },
   "source": [
    "And this is its probability:"
   ]
  },
  {
   "cell_type": "code",
   "execution_count": 12,
   "metadata": {
    "execution": {
     "iopub.execute_input": "2022-08-06T22:57:05.994102Z",
     "iopub.status.busy": "2022-08-06T22:57:05.993698Z",
     "iopub.status.idle": "2022-08-06T22:57:05.996513Z",
     "shell.execute_reply": "2022-08-06T22:57:05.996800Z"
    },
    "slideshow": {
     "slide_type": "fragment"
    }
   },
   "outputs": [
    {
     "data": {
      "text/plain": [
       "0.0008284144853894445"
      ]
     },
     "execution_count": 12,
     "metadata": {},
     "output_type": "execute_result"
    }
   ],
   "source": [
    "k_book[random_trigram]"
   ]
  },
  {
   "cell_type": "markdown",
   "metadata": {
    "slideshow": {
     "slide_type": "subslide"
    }
   },
   "source": [
    "### Fuzzing the Enigma\n",
    "\n",
    "In the following, we introduce an extremely simplified implementation of the Naval Enigma based on the trigrams from the K-book. Of course, the encryption mechanism of the actual Enigma machine is much more sophisticated and worthy of a much more detailed investigation. We encourage the interested reader to follow up with further reading listed in the Background section.\n",
    "\n",
    "The personell at Bletchley Park can only check whether an encoded message is encoded with a (guessed) trigram.\n",
    "Our implementation `naval_enigma()` takes a `message` and a `key` (i.e., the guessed trigram).  If the given key matches the (previously computed) key for the message, `naval_enigma()` returns `True`."
   ]
  },
  {
   "cell_type": "code",
   "execution_count": 13,
   "metadata": {
    "execution": {
     "iopub.execute_input": "2022-08-06T22:57:05.999655Z",
     "iopub.status.busy": "2022-08-06T22:57:05.999033Z",
     "iopub.status.idle": "2022-08-06T22:57:06.077997Z",
     "shell.execute_reply": "2022-08-06T22:57:06.077628Z"
    },
    "slideshow": {
     "slide_type": "skip"
    }
   },
   "outputs": [],
   "source": [
    "from Fuzzer import RandomFuzzer\n",
    "from Fuzzer import Runner"
   ]
  },
  {
   "cell_type": "code",
   "execution_count": 14,
   "metadata": {
    "execution": {
     "iopub.execute_input": "2022-08-06T22:57:06.081363Z",
     "iopub.status.busy": "2022-08-06T22:57:06.079705Z",
     "iopub.status.idle": "2022-08-06T22:57:06.083165Z",
     "shell.execute_reply": "2022-08-06T22:57:06.083435Z"
    },
    "slideshow": {
     "slide_type": "subslide"
    }
   },
   "outputs": [],
   "source": [
    "class EnigmaMachine(Runner):\n",
    "    def __init__(self, k_book):\n",
    "        self.k_book = k_book\n",
    "        self.reset()\n",
    "\n",
    "    def reset(self):\n",
    "        \"\"\"Resets the key register\"\"\"\n",
    "        self.msg2key = {}\n",
    "        self.cur_msg = \"\"\n",
    "\n",
    "    def internal_msg2key(self, message):\n",
    "        \"\"\"Internal helper method. \n",
    "           Returns the trigram for an encoded message.\"\"\"\n",
    "        if message not in self.msg2key:\n",
    "            # Simulating how an officer chooses a key from the Kenngruppenbuch\n",
    "            # to encode the message.\n",
    "            self.msg2key[message] = \\\n",
    "                random.choices(list(self.k_book.keys()),\n",
    "                               weights=list(self.k_book.values()))[0]\n",
    "        trigram = self.msg2key[message]\n",
    "        return trigram\n",
    "\n",
    "    def naval_enigma(self, message, key):\n",
    "        \"\"\"Returns true if 'message' is encoded with 'key'\"\"\"\n",
    "        if key == self.internal_msg2key(message):\n",
    "            return True\n",
    "        else:\n",
    "            return False"
   ]
  },
  {
   "cell_type": "markdown",
   "metadata": {
    "slideshow": {
     "slide_type": "subslide"
    }
   },
   "source": [
    "To \"fuzz\" the `naval_enigma()`, our job will be to come up with a key that matches a given (encrypted) message.  Since the keys only have three characters, we have a good chance to achieve this in much less than a second.  (Of course, longer keys will be much harder to find via random fuzzing.)"
   ]
  },
  {
   "cell_type": "code",
   "execution_count": 15,
   "metadata": {
    "execution": {
     "iopub.execute_input": "2022-08-06T22:57:06.085981Z",
     "iopub.status.busy": "2022-08-06T22:57:06.085642Z",
     "iopub.status.idle": "2022-08-06T22:57:06.086917Z",
     "shell.execute_reply": "2022-08-06T22:57:06.087116Z"
    },
    "slideshow": {
     "slide_type": "fragment"
    }
   },
   "outputs": [],
   "source": [
    "class EnigmaMachine(EnigmaMachine):\n",
    "    def run(self, tri):\n",
    "        \"\"\"PASS if cur_msg is encoded with trigram tri\"\"\"\n",
    "        if self.naval_enigma(self.cur_msg, tri):\n",
    "            outcome = self.PASS\n",
    "        else:\n",
    "            outcome = self.FAIL\n",
    "\n",
    "        return (tri, outcome)"
   ]
  },
  {
   "cell_type": "markdown",
   "metadata": {
    "slideshow": {
     "slide_type": "subslide"
    }
   },
   "source": [
    "Now we can use the `EnigmaMachine` to check whether a certain message is encoded with a certain trigram."
   ]
  },
  {
   "cell_type": "code",
   "execution_count": 16,
   "metadata": {
    "execution": {
     "iopub.execute_input": "2022-08-06T22:57:06.090459Z",
     "iopub.status.busy": "2022-08-06T22:57:06.089985Z",
     "iopub.status.idle": "2022-08-06T22:57:06.091960Z",
     "shell.execute_reply": "2022-08-06T22:57:06.092162Z"
    },
    "slideshow": {
     "slide_type": "fragment"
    }
   },
   "outputs": [
    {
     "data": {
      "text/plain": [
       "('AAA', 'FAIL')"
      ]
     },
     "execution_count": 16,
     "metadata": {},
     "output_type": "execute_result"
    }
   ],
   "source": [
    "enigma = EnigmaMachine(k_book)\n",
    "enigma.cur_msg = \"BrEaK mE. L0Lzz\"\n",
    "enigma.run(\"AAA\")"
   ]
  },
  {
   "cell_type": "markdown",
   "metadata": {
    "slideshow": {
     "slide_type": "fragment"
    }
   },
   "source": [
    "The simplest way to crack an encoded message is by brute forcing. Suppose, at Bletchley park they would try random trigrams until a message is broken."
   ]
  },
  {
   "cell_type": "code",
   "execution_count": 17,
   "metadata": {
    "execution": {
     "iopub.execute_input": "2022-08-06T22:57:06.095561Z",
     "iopub.status.busy": "2022-08-06T22:57:06.095214Z",
     "iopub.status.idle": "2022-08-06T22:57:06.096326Z",
     "shell.execute_reply": "2022-08-06T22:57:06.096497Z"
    },
    "slideshow": {
     "slide_type": "subslide"
    }
   },
   "outputs": [],
   "source": [
    "class BletchleyPark:\n",
    "    def __init__(self, enigma):\n",
    "        self.enigma = enigma\n",
    "        self.enigma.reset()\n",
    "        self.enigma_fuzzer = RandomFuzzer(\n",
    "            min_length=3,\n",
    "            max_length=3,\n",
    "            char_start=65,\n",
    "            char_range=26)\n",
    "\n",
    "    def break_message(self, message):\n",
    "        \"\"\"Returning the trigram for an encoded message\"\"\"\n",
    "        self.enigma.cur_msg = message\n",
    "        while True:\n",
    "            (trigram, outcome) = self.enigma_fuzzer.run(self.enigma)\n",
    "            if outcome == self.enigma.PASS:\n",
    "                break\n",
    "        return trigram"
   ]
  },
  {
   "cell_type": "markdown",
   "metadata": {
    "slideshow": {
     "slide_type": "subslide"
    }
   },
   "source": [
    "How long does it take Bletchley park to find the key using this brute forcing approach?"
   ]
  },
  {
   "cell_type": "code",
   "execution_count": 18,
   "metadata": {
    "execution": {
     "iopub.execute_input": "2022-08-06T22:57:06.098757Z",
     "iopub.status.busy": "2022-08-06T22:57:06.098381Z",
     "iopub.status.idle": "2022-08-06T22:57:06.100620Z",
     "shell.execute_reply": "2022-08-06T22:57:06.102949Z"
    },
    "slideshow": {
     "slide_type": "skip"
    }
   },
   "outputs": [],
   "source": [
    "from Timer import Timer"
   ]
  },
  {
   "cell_type": "code",
   "execution_count": 19,
   "metadata": {
    "execution": {
     "iopub.execute_input": "2022-08-06T22:57:06.168524Z",
     "iopub.status.busy": "2022-08-06T22:57:06.123699Z",
     "iopub.status.idle": "2022-08-06T22:57:06.257381Z",
     "shell.execute_reply": "2022-08-06T22:57:06.257634Z"
    },
    "slideshow": {
     "slide_type": "fragment"
    }
   },
   "outputs": [],
   "source": [
    "enigma = EnigmaMachine(k_book)\n",
    "bletchley = BletchleyPark(enigma)\n",
    "\n",
    "with Timer() as t:\n",
    "    trigram = bletchley.break_message(\"BrEaK mE. L0Lzz\")"
   ]
  },
  {
   "cell_type": "markdown",
   "metadata": {
    "slideshow": {
     "slide_type": "fragment"
    }
   },
   "source": [
    "Here's the key for the current message:"
   ]
  },
  {
   "cell_type": "code",
   "execution_count": 20,
   "metadata": {
    "execution": {
     "iopub.execute_input": "2022-08-06T22:57:06.260438Z",
     "iopub.status.busy": "2022-08-06T22:57:06.260034Z",
     "iopub.status.idle": "2022-08-06T22:57:06.261768Z",
     "shell.execute_reply": "2022-08-06T22:57:06.261967Z"
    },
    "slideshow": {
     "slide_type": "fragment"
    }
   },
   "outputs": [
    {
     "data": {
      "text/plain": [
       "'XQC'"
      ]
     },
     "execution_count": 20,
     "metadata": {},
     "output_type": "execute_result"
    }
   ],
   "source": [
    "trigram"
   ]
  },
  {
   "cell_type": "markdown",
   "metadata": {
    "slideshow": {
     "slide_type": "fragment"
    }
   },
   "source": [
    "And no, this did not take long:"
   ]
  },
  {
   "cell_type": "code",
   "execution_count": 21,
   "metadata": {
    "execution": {
     "iopub.execute_input": "2022-08-06T22:57:06.264566Z",
     "iopub.status.busy": "2022-08-06T22:57:06.264185Z",
     "iopub.status.idle": "2022-08-06T22:57:06.265922Z",
     "shell.execute_reply": "2022-08-06T22:57:06.266107Z"
    },
    "slideshow": {
     "slide_type": "fragment"
    }
   },
   "outputs": [
    {
     "data": {
      "text/plain": [
       "'0.150014 seconds'"
      ]
     },
     "execution_count": 21,
     "metadata": {},
     "output_type": "execute_result"
    }
   ],
   "source": [
    "'%f seconds' % t.elapsed_time()"
   ]
  },
  {
   "cell_type": "code",
   "execution_count": 22,
   "metadata": {
    "execution": {
     "iopub.execute_input": "2022-08-06T22:57:06.268459Z",
     "iopub.status.busy": "2022-08-06T22:57:06.268017Z",
     "iopub.status.idle": "2022-08-06T22:57:06.269462Z",
     "shell.execute_reply": "2022-08-06T22:57:06.269850Z"
    },
    "slideshow": {
     "slide_type": "fragment"
    }
   },
   "outputs": [
    {
     "data": {
      "text/plain": [
       "'Bletchley cracks about 6 messages per second'"
      ]
     },
     "execution_count": 22,
     "metadata": {},
     "output_type": "execute_result"
    }
   ],
   "source": [
    "'Bletchley cracks about %d messages per second' % (1/t.elapsed_time())"
   ]
  },
  {
   "cell_type": "markdown",
   "metadata": {
    "slideshow": {
     "slide_type": "subslide"
    }
   },
   "source": [
    "### Turing's Observations\n",
    "Okay, lets crack a few messages and count the number of times each trigram is observed."
   ]
  },
  {
   "cell_type": "code",
   "execution_count": 23,
   "metadata": {
    "execution": {
     "iopub.execute_input": "2022-08-06T22:57:06.271828Z",
     "iopub.status.busy": "2022-08-06T22:57:06.271528Z",
     "iopub.status.idle": "2022-08-06T22:57:06.272799Z",
     "shell.execute_reply": "2022-08-06T22:57:06.273023Z"
    },
    "slideshow": {
     "slide_type": "skip"
    }
   },
   "outputs": [],
   "source": [
    "from collections import defaultdict"
   ]
  },
  {
   "cell_type": "code",
   "execution_count": 24,
   "metadata": {
    "execution": {
     "iopub.execute_input": "2022-08-06T22:57:06.274821Z",
     "iopub.status.busy": "2022-08-06T22:57:06.274448Z",
     "iopub.status.idle": "2022-08-06T22:57:06.276191Z",
     "shell.execute_reply": "2022-08-06T22:57:06.276369Z"
    },
    "slideshow": {
     "slide_type": "fragment"
    }
   },
   "outputs": [],
   "source": [
    "n = 100  # messages to crack"
   ]
  },
  {
   "cell_type": "code",
   "execution_count": 25,
   "metadata": {
    "execution": {
     "iopub.execute_input": "2022-08-06T22:57:06.327817Z",
     "iopub.status.busy": "2022-08-06T22:57:06.284295Z",
     "iopub.status.idle": "2022-08-06T22:57:10.612155Z",
     "shell.execute_reply": "2022-08-06T22:57:10.612369Z"
    },
    "slideshow": {
     "slide_type": "fragment"
    }
   },
   "outputs": [],
   "source": [
    "observed: Dict[str, int] = defaultdict(int)\n",
    "for msg in range(0, n):\n",
    "    trigram = bletchley.break_message(msg)\n",
    "    observed[trigram] += 1\n",
    "\n",
    "# list of trigrams that have been observed\n",
    "counts = [k for k, v in observed.items() if int(v) > 0]\n",
    "\n",
    "t_trigrams = len(k_book)\n",
    "o_trigrams = len(counts)"
   ]
  },
  {
   "cell_type": "code",
   "execution_count": 26,
   "metadata": {
    "execution": {
     "iopub.execute_input": "2022-08-06T22:57:10.615291Z",
     "iopub.status.busy": "2022-08-06T22:57:10.614716Z",
     "iopub.status.idle": "2022-08-06T22:57:10.616610Z",
     "shell.execute_reply": "2022-08-06T22:57:10.616941Z"
    },
    "slideshow": {
     "slide_type": "subslide"
    }
   },
   "outputs": [
    {
     "data": {
      "text/plain": [
       "'After cracking 100 messages, we observed 72 out of 17576 trigrams.'"
      ]
     },
     "execution_count": 26,
     "metadata": {},
     "output_type": "execute_result"
    }
   ],
   "source": [
    "\"After cracking %d messages, we observed %d out of %d trigrams.\" % (\n",
    "    n, o_trigrams, t_trigrams)"
   ]
  },
  {
   "cell_type": "code",
   "execution_count": 27,
   "metadata": {
    "execution": {
     "iopub.execute_input": "2022-08-06T22:57:10.619453Z",
     "iopub.status.busy": "2022-08-06T22:57:10.619098Z",
     "iopub.status.idle": "2022-08-06T22:57:10.620305Z",
     "shell.execute_reply": "2022-08-06T22:57:10.620549Z"
    },
    "slideshow": {
     "slide_type": "fragment"
    }
   },
   "outputs": [],
   "source": [
    "singletons = len([k for k, v in observed.items() if int(v) == 1])"
   ]
  },
  {
   "cell_type": "code",
   "execution_count": 28,
   "metadata": {
    "execution": {
     "iopub.execute_input": "2022-08-06T22:57:10.622565Z",
     "iopub.status.busy": "2022-08-06T22:57:10.622225Z",
     "iopub.status.idle": "2022-08-06T22:57:10.623691Z",
     "shell.execute_reply": "2022-08-06T22:57:10.623877Z"
    },
    "slideshow": {
     "slide_type": "fragment"
    }
   },
   "outputs": [
    {
     "data": {
      "text/plain": [
       "'From the 72 observed trigrams, 63 were observed only once.'"
      ]
     },
     "execution_count": 28,
     "metadata": {},
     "output_type": "execute_result"
    }
   ],
   "source": [
    "\"From the %d observed trigrams, %d were observed only once.\" % (\n",
    "    o_trigrams, singletons)"
   ]
  },
  {
   "cell_type": "markdown",
   "metadata": {
    "slideshow": {
     "slide_type": "fragment"
    }
   },
   "source": [
    "Given a sample of previously used entries, Turing wanted to _estimate the likelihood_ that the current unknown entry was one that had been previously used, and further, to estimate the probability distribution over the previously used entries. This lead to the development of the estimators of the missing mass and estimates of the true probability mass of the set of items occuring in the sample. Good worked with Turing during the war and, with Turing’s permission, published the analysis of the bias of these estimators in 1953."
   ]
  },
  {
   "cell_type": "markdown",
   "metadata": {
    "slideshow": {
     "slide_type": "subslide"
    }
   },
   "source": [
    "Suppose, after finding the keys for n=100 messages, we have observed the trigram \"ABC\" exactly $X_\\text{ABC}=10$ times. What is the probability $p_\\text{ABC}$ that \"ABC\" is the key for the next message? Empirically, we would estimate $\\hat p_\\text{ABC}=\\frac{X_\\text{ABC}}{n}=0.1$. We can derive the empirical estimates for all other trigrams that we have observed.  However, it becomes quickly evident that the complete probability mass is distributed over the *observed* trigrams. This leaves no mass for *unobserved* trigrams, i.e., the probability of discovering a new trigram. This is called the missing probability mass or the discovery probability."
   ]
  },
  {
   "cell_type": "markdown",
   "metadata": {
    "slideshow": {
     "slide_type": "subslide"
    }
   },
   "source": [
    "Turing and Good derived an estimate of the *discovery probability* $p_0$, i.e., the probability to discover an unobserved trigram, as the number $f_1$ of trigrams observed exactly once divided by the total number $n$ of messages cracked:\n",
    "$$\n",
    "p_0 = \\frac{f_1}{n}\n",
    "$$\n",
    "where $f_1$ is the number of singletons and $n$ is the number of cracked messages."
   ]
  },
  {
   "cell_type": "markdown",
   "metadata": {
    "slideshow": {
     "slide_type": "fragment"
    }
   },
   "source": [
    "Lets explore this idea for a bit. We'll extend `BletchleyPark` to crack `n` messages and record the number of trigrams observed as the number of cracked messages increases."
   ]
  },
  {
   "cell_type": "code",
   "execution_count": 29,
   "metadata": {
    "execution": {
     "iopub.execute_input": "2022-08-06T22:57:10.627284Z",
     "iopub.status.busy": "2022-08-06T22:57:10.626956Z",
     "iopub.status.idle": "2022-08-06T22:57:10.628554Z",
     "shell.execute_reply": "2022-08-06T22:57:10.628750Z"
    },
    "slideshow": {
     "slide_type": "subslide"
    }
   },
   "outputs": [],
   "source": [
    "class BletchleyPark(BletchleyPark):\n",
    "    def break_message(self, message):\n",
    "        \"\"\"Returning the trigram for an encoded message\"\"\"\n",
    "        # For the following experiment, we want to make it practical\n",
    "        #   to break a large number of messages. So, we remove the\n",
    "        #   loop and just return the trigram for a message.\n",
    "        #\n",
    "        # enigma.cur_msg = message\n",
    "        # while True:\n",
    "        #     (trigram, outcome) = self.enigma_fuzzer.run(self.enigma)\n",
    "        #     if outcome == self.enigma.PASS:\n",
    "        #         break\n",
    "        trigram = enigma.internal_msg2key(message)\n",
    "        return trigram\n",
    "\n",
    "    def break_n_messages(self, n):\n",
    "        \"\"\"Returns how often each trigram has been observed, \n",
    "           and #trigrams discovered for each message.\"\"\"\n",
    "        observed = defaultdict(int)\n",
    "        timeseries = [0] * n\n",
    "\n",
    "        # Crack n messages and record #trigrams observed as #messages increases\n",
    "        cur_observed = 0\n",
    "        for cur_msg in range(0, n):\n",
    "            trigram = self.break_message(cur_msg)\n",
    "\n",
    "            observed[trigram] += 1\n",
    "            if (observed[trigram] == 1):\n",
    "                cur_observed += 1\n",
    "            timeseries[cur_msg] = cur_observed\n",
    "\n",
    "        return (observed, timeseries)"
   ]
  },
  {
   "cell_type": "markdown",
   "metadata": {
    "slideshow": {
     "slide_type": "subslide"
    }
   },
   "source": [
    "Let's crack 2000 messages and compute the GT-estimate."
   ]
  },
  {
   "cell_type": "code",
   "execution_count": 30,
   "metadata": {
    "execution": {
     "iopub.execute_input": "2022-08-06T22:57:10.630991Z",
     "iopub.status.busy": "2022-08-06T22:57:10.630640Z",
     "iopub.status.idle": "2022-08-06T22:57:10.632238Z",
     "shell.execute_reply": "2022-08-06T22:57:10.632548Z"
    },
    "slideshow": {
     "slide_type": "fragment"
    }
   },
   "outputs": [],
   "source": [
    "n = 2000        # messages to crack"
   ]
  },
  {
   "cell_type": "code",
   "execution_count": 31,
   "metadata": {
    "execution": {
     "iopub.execute_input": "2022-08-06T22:57:10.706062Z",
     "iopub.status.busy": "2022-08-06T22:57:10.658065Z",
     "iopub.status.idle": "2022-08-06T22:57:11.889893Z",
     "shell.execute_reply": "2022-08-06T22:57:11.890103Z"
    },
    "slideshow": {
     "slide_type": "fragment"
    }
   },
   "outputs": [],
   "source": [
    "bletchley = BletchleyPark(enigma)\n",
    "(observed, timeseries) = bletchley.break_n_messages(n)"
   ]
  },
  {
   "cell_type": "markdown",
   "metadata": {
    "slideshow": {
     "slide_type": "fragment"
    }
   },
   "source": [
    "Let us determine the Good-Turing estimate of the probability that the next trigram has not been observed before:"
   ]
  },
  {
   "cell_type": "code",
   "execution_count": 32,
   "metadata": {
    "execution": {
     "iopub.execute_input": "2022-08-06T22:57:11.893161Z",
     "iopub.status.busy": "2022-08-06T22:57:11.892704Z",
     "iopub.status.idle": "2022-08-06T22:57:11.894563Z",
     "shell.execute_reply": "2022-08-06T22:57:11.895155Z"
    },
    "slideshow": {
     "slide_type": "fragment"
    }
   },
   "outputs": [
    {
     "data": {
      "text/plain": [
       "0.401"
      ]
     },
     "execution_count": 32,
     "metadata": {},
     "output_type": "execute_result"
    }
   ],
   "source": [
    "singletons = len([k for k, v in observed.items() if int(v) == 1])\n",
    "gt = singletons / n\n",
    "gt"
   ]
  },
  {
   "cell_type": "markdown",
   "metadata": {
    "slideshow": {
     "slide_type": "subslide"
    }
   },
   "source": [
    "We can verify the Good-Turing estimate empirically and compute the empirically determined probability that the next trigram has not been observed before. To do this, we repeat the following experiment `repeats=1000` times, reporting the average: If the next message is a new trigram, return 1, otherwise return 0. Note that here, we do not record the newly discovered trigrams as observed."
   ]
  },
  {
   "cell_type": "code",
   "execution_count": 33,
   "metadata": {
    "execution": {
     "iopub.execute_input": "2022-08-06T22:57:11.898131Z",
     "iopub.status.busy": "2022-08-06T22:57:11.897633Z",
     "iopub.status.idle": "2022-08-06T22:57:11.899382Z",
     "shell.execute_reply": "2022-08-06T22:57:11.899641Z"
    },
    "slideshow": {
     "slide_type": "fragment"
    }
   },
   "outputs": [],
   "source": [
    "repeats = 1000  # experiment repetitions    "
   ]
  },
  {
   "cell_type": "code",
   "execution_count": 34,
   "metadata": {
    "execution": {
     "iopub.execute_input": "2022-08-06T22:57:11.957367Z",
     "iopub.status.busy": "2022-08-06T22:57:11.913860Z",
     "iopub.status.idle": "2022-08-06T22:57:12.502545Z",
     "shell.execute_reply": "2022-08-06T22:57:12.502746Z"
    },
    "slideshow": {
     "slide_type": "fragment"
    }
   },
   "outputs": [
    {
     "data": {
      "text/plain": [
       "0.412"
      ]
     },
     "execution_count": 34,
     "metadata": {},
     "output_type": "execute_result"
    }
   ],
   "source": [
    "newly_discovered = 0\n",
    "for cur_msg in range(n, n + repeats):\n",
    "    trigram = bletchley.break_message(cur_msg)\n",
    "    if(observed[trigram] == 0):\n",
    "        newly_discovered += 1\n",
    "\n",
    "newly_discovered / repeats"
   ]
  },
  {
   "cell_type": "markdown",
   "metadata": {
    "slideshow": {
     "slide_type": "subslide"
    }
   },
   "source": [
    "Looks pretty accurate, huh? The difference between estimates is reasonably small, probably below 0.03. However, the Good-Turing estimate did not nearly require as much computational resources as the empirical estimate. Unlike the empirical estimate, the Good-Turing estimate can be computed during the campaign. Unlike the empirical estimate, the Good-Turing estimate requires no additional, redundant repetitions."
   ]
  },
  {
   "cell_type": "markdown",
   "metadata": {
    "slideshow": {
     "slide_type": "subslide"
    }
   },
   "source": [
    "In fact, the Good-Turing (GT) estimator often performs close to the best estimator for arbitrary distributions ([Try it here!](#Kenngruppenbuch)). Of course, the concept of *discovery* is not limited to trigrams. The GT estimator is also used in the study of natural languages to estimate the likelihood that we haven't ever heard or read the word we next encounter. The GT estimator is used in ecology to estimate the likelihood of discovering a new, unseen species in our quest to catalog all _species_ on earth. Later, we will see how it can be used to estimate the probability to discover a vulnerability when none has been observed, yet (i.e., residual risk)."
   ]
  },
  {
   "cell_type": "markdown",
   "metadata": {
    "slideshow": {
     "slide_type": "subslide"
    }
   },
   "source": [
    "Alan Turing was interested in the _complement_ $(1-GT)$ which gives the proportion of _all_ messages for which the Brits have already observed the trigram needed for decryption. For this reason, the complement is also called sample coverage. The *sample coverage* quantifies how much we know about decryption of all messages given the few messages we have already decrypted. "
   ]
  },
  {
   "cell_type": "markdown",
   "metadata": {
    "slideshow": {
     "slide_type": "fragment"
    }
   },
   "source": [
    "The probability that the next message can be decrypted with a previously discovered trigram is:"
   ]
  },
  {
   "cell_type": "code",
   "execution_count": 35,
   "metadata": {
    "execution": {
     "iopub.execute_input": "2022-08-06T22:57:12.505127Z",
     "iopub.status.busy": "2022-08-06T22:57:12.504730Z",
     "iopub.status.idle": "2022-08-06T22:57:12.506388Z",
     "shell.execute_reply": "2022-08-06T22:57:12.506606Z"
    },
    "slideshow": {
     "slide_type": "fragment"
    }
   },
   "outputs": [
    {
     "data": {
      "text/plain": [
       "0.599"
      ]
     },
     "execution_count": 35,
     "metadata": {},
     "output_type": "execute_result"
    }
   ],
   "source": [
    "1 - gt"
   ]
  },
  {
   "cell_type": "markdown",
   "metadata": {
    "slideshow": {
     "slide_type": "subslide"
    }
   },
   "source": [
    "The *inverse* of the GT-estimate (1/GT) is a _maximum likelihood estimate_ of the expected number of messages that we can decrypt with previously observed trigrams before having to find a new trigram to decrypt the message.  In our setting, the number of messages for which we can expect to reuse previous trigrams before having to discover a new trigram is:"
   ]
  },
  {
   "cell_type": "code",
   "execution_count": 36,
   "metadata": {
    "execution": {
     "iopub.execute_input": "2022-08-06T22:57:12.508560Z",
     "iopub.status.busy": "2022-08-06T22:57:12.508265Z",
     "iopub.status.idle": "2022-08-06T22:57:12.509807Z",
     "shell.execute_reply": "2022-08-06T22:57:12.509995Z"
    },
    "slideshow": {
     "slide_type": "fragment"
    }
   },
   "outputs": [
    {
     "data": {
      "text/plain": [
       "2.4937655860349124"
      ]
     },
     "execution_count": 36,
     "metadata": {},
     "output_type": "execute_result"
    }
   ],
   "source": [
    "1 / gt"
   ]
  },
  {
   "cell_type": "markdown",
   "metadata": {
    "slideshow": {
     "slide_type": "subslide"
    }
   },
   "source": [
    "But why is GT so accurate? Intuitively, despite a large sampling effort (i.e., cracking $n$ messages), there are still $f_1$ trigrams that have been observed only once. We could say that such \"singletons\" are very rare trigrams. Hence, the probability that the next messages is encoded with such a rare but observed trigram gives a good upper bound on the probability that the next message is encoded with an evidently much rarer, unobserved trigram. Since Turing's observation 80 years ago, an entire statistical theory has been developed around the hypothesis that rare, observed \"species\" are good predictors of unobserved species.\n",
    "\n",
    "Let's have a look at the distribution of rare trigrams."
   ]
  },
  {
   "cell_type": "code",
   "execution_count": 37,
   "metadata": {
    "execution": {
     "iopub.execute_input": "2022-08-06T22:57:12.512476Z",
     "iopub.status.busy": "2022-08-06T22:57:12.512171Z",
     "iopub.status.idle": "2022-08-06T22:57:12.833182Z",
     "shell.execute_reply": "2022-08-06T22:57:12.833490Z"
    },
    "slideshow": {
     "slide_type": "fragment"
    }
   },
   "outputs": [],
   "source": [
    "%matplotlib inline"
   ]
  },
  {
   "cell_type": "code",
   "execution_count": 38,
   "metadata": {
    "execution": {
     "iopub.execute_input": "2022-08-06T22:57:12.836345Z",
     "iopub.status.busy": "2022-08-06T22:57:12.835875Z",
     "iopub.status.idle": "2022-08-06T22:57:12.838076Z",
     "shell.execute_reply": "2022-08-06T22:57:12.838410Z"
    },
    "slideshow": {
     "slide_type": "skip"
    }
   },
   "outputs": [],
   "source": [
    "import matplotlib.pyplot as plt  # type: ignore"
   ]
  },
  {
   "cell_type": "code",
   "execution_count": 39,
   "metadata": {
    "execution": {
     "iopub.execute_input": "2022-08-06T22:57:12.867419Z",
     "iopub.status.busy": "2022-08-06T22:57:12.862279Z",
     "iopub.status.idle": "2022-08-06T22:57:13.018503Z",
     "shell.execute_reply": "2022-08-06T22:57:13.018886Z"
    },
    "slideshow": {
     "slide_type": "subslide"
    }
   },
   "outputs": [
    {
     "data": {
      "image/png": "[encoded data removed]",
      "text/plain": [
       "<Figure size 960x320 with 2 Axes>"
      ]
     },
     "metadata": {},
     "output_type": "display_data"
    }
   ],
   "source": [
    "frequencies = [v for k, v in observed.items() if int(v) > 0]\n",
    "frequencies.sort(reverse=True)\n",
    "# Uncomment to see how often each discovered trigram has been observed\n",
    "# print(frequencies)\n",
    "\n",
    "# frequency of rare trigrams\n",
    "plt.figure(num=None, figsize=(12, 4), dpi=80, facecolor='w', edgecolor='k')\n",
    "plt.subplot(1, 2, 1)\n",
    "plt.hist(frequencies, range=[1, 21], bins=numpy.arange(1, 21) - 0.5)\n",
    "plt.xticks(range(1, 21))\n",
    "plt.xlabel('# of occurances (e.g., 1 represents singleton trigrams)')\n",
    "plt.ylabel('Frequency of occurances')\n",
    "plt.title('Figure 1. Frequency of Rare Trigrams')\n",
    "\n",
    "# trigram discovery over time\n",
    "plt.subplot(1, 2, 2)\n",
    "plt.plot(timeseries)\n",
    "plt.xlabel('# of messages cracked')\n",
    "plt.ylabel('# of trigrams discovered')\n",
    "plt.title('Figure 2. Trigram Discovery Over Time');"
   ]
  },
  {
   "cell_type": "code",
   "execution_count": 40,
   "metadata": {
    "execution": {
     "iopub.execute_input": "2022-08-06T22:57:13.022200Z",
     "iopub.status.busy": "2022-08-06T22:57:13.021814Z",
     "iopub.status.idle": "2022-08-06T22:57:13.023221Z",
     "shell.execute_reply": "2022-08-06T22:57:13.023479Z"
    },
    "slideshow": {
     "slide_type": "subslide"
    }
   },
   "outputs": [
    {
     "name": "stdout",
     "output_type": "stream",
     "text": [
      "802 of 1009 trigrams (79.485%) have been observed   1 time (i.e., are singleton trigrams).\n",
      "  1 of 1009 trigrams ( 0.001%) have been observed 152 times.\n"
     ]
    }
   ],
   "source": [
    "# Statistics for most and least often observed trigrams\n",
    "singletons = len([v for k, v in observed.items() if int(v) == 1])\n",
    "total = len(frequencies)\n",
    "\n",
    "print(\"%3d of %3d trigrams (%.3f%%) have been observed   1 time (i.e., are singleton trigrams).\"\n",
    "      % (singletons, total, singletons * 100 / total))\n",
    "\n",
    "print(\"%3d of %3d trigrams ( %.3f%%) have been observed %d times.\"\n",
    "      % (1, total, 1 / total, frequencies[0]))"
   ]
  },
  {
   "cell_type": "markdown",
   "metadata": {
    "slideshow": {
     "slide_type": "subslide"
    }
   },
   "source": [
    "The *majority of trigrams* have been observed only once, as we can see in Figure 1 (left). In other words, the majority of observed trigrams are \"rare\" singletons. In Figure 2 (right), we can see that discovery is in full swing. The trajectory seems almost linear. However, since there is a finite number of trigrams (26^3 = 17,576) trigram discovery will slow down and eventually approach an asymptote (the total number of trigrams).\n",
    "\n",
    "### Boosting the Performance of BletchleyPark\n",
    "Some trigrams have been observed very often. We call these \"abundant\" trigrams."
   ]
  },
  {
   "cell_type": "code",
   "execution_count": 41,
   "metadata": {
    "execution": {
     "iopub.execute_input": "2022-08-06T22:57:13.026025Z",
     "iopub.status.busy": "2022-08-06T22:57:13.025662Z",
     "iopub.status.idle": "2022-08-06T22:57:13.027058Z",
     "shell.execute_reply": "2022-08-06T22:57:13.027314Z"
    },
    "slideshow": {
     "slide_type": "subslide"
    }
   },
   "outputs": [
    {
     "name": "stdout",
     "output_type": "stream",
     "text": [
      "Trigram : Frequency\n",
      "    TJK : 152\n",
      "    LBM : 69\n",
      "    NWV : 64\n",
      "    AZC : 43\n",
      "    GZP : 41\n",
      "    ADE : 37\n",
      "    DNO : 27\n",
      "    OQL : 26\n",
      "    TCO : 20\n",
      "    BDA : 19\n",
      "    ARO : 18\n",
      "    IPT : 16\n",
      "    FGK : 16\n",
      "    MSV : 15\n",
      "    ONO : 15\n",
      "    EOR : 13\n",
      "    JTV : 11\n",
      "    IBT : 11\n",
      "    PWN : 11\n"
     ]
    }
   ],
   "source": [
    "print(\"Trigram : Frequency\")\n",
    "for trigram in sorted(observed, key=observed.get, reverse=True):  # type: ignore\n",
    "    if observed[trigram] > 10:\n",
    "        print(\"    %s : %d\" % (trigram, observed[trigram]))"
   ]
  },
  {
   "cell_type": "markdown",
   "metadata": {
    "slideshow": {
     "slide_type": "subslide"
    }
   },
   "source": [
    "We'll speed up the code breaking by _trying the abundant trigrams first_. \n",
    "\n",
    "First, we'll find out how many messages can be cracked by the existing brute forcing strategy at Bledgley park, given a maximum number of attempts. We'll also track the number of messages cracked over time (`timeseries`)."
   ]
  },
  {
   "cell_type": "code",
   "execution_count": 42,
   "metadata": {
    "execution": {
     "iopub.execute_input": "2022-08-06T22:57:13.031751Z",
     "iopub.status.busy": "2022-08-06T22:57:13.031384Z",
     "iopub.status.idle": "2022-08-06T22:57:13.032870Z",
     "shell.execute_reply": "2022-08-06T22:57:13.033144Z"
    },
    "slideshow": {
     "slide_type": "subslide"
    }
   },
   "outputs": [],
   "source": [
    "class BletchleyPark(BletchleyPark):\n",
    "    def __init__(self, enigma):\n",
    "        super().__init__(enigma)\n",
    "        self.cur_attempts = 0\n",
    "        self.cur_observed = 0\n",
    "        self.observed = defaultdict(int)\n",
    "        self.timeseries = [None] * max_attempts * 2\n",
    "\n",
    "    def break_message(self, message):\n",
    "        \"\"\"Returns the trigram for an encoded message, and\n",
    "           track #trigrams observed as #attempts increases.\"\"\"\n",
    "        self.enigma.cur_msg = message\n",
    "        while True:\n",
    "            self.cur_attempts += 1                                 # NEW\n",
    "            (trigram, outcome) = self.enigma_fuzzer.run(self.enigma)\n",
    "            self.timeseries[self.cur_attempts] = self.cur_observed # NEW\n",
    "            if outcome == self.enigma.PASS: \n",
    "                break\n",
    "        return trigram\n",
    "\n",
    "    def break_max_attempts(self, max_attempts):\n",
    "        \"\"\"Returns #messages successfully cracked after a given #attempts.\"\"\"\n",
    "        cur_msg = 0\n",
    "        n_messages = 0\n",
    "\n",
    "        while True:\n",
    "            trigram = self.break_message(cur_msg)\n",
    "\n",
    "            # stop when reaching max_attempts\n",
    "            if self.cur_attempts >= max_attempts:\n",
    "                break\n",
    "\n",
    "            # update observed trigrams\n",
    "            n_messages += 1\n",
    "            self.observed[trigram] += 1\n",
    "            if (self.observed[trigram] == 1):\n",
    "                self.cur_observed += 1\n",
    "                self.timeseries[self.cur_attempts] = self.cur_observed\n",
    "            cur_msg += 1\n",
    "\n",
    "        return n_messages"
   ]
  },
  {
   "cell_type": "markdown",
   "metadata": {
    "slideshow": {
     "slide_type": "subslide"
    }
   },
   "source": [
    "`original` is the number of messages cracked by the bruteforcing strategy, given 100k attempts.  Can we beat this?"
   ]
  },
  {
   "cell_type": "code",
   "execution_count": 43,
   "metadata": {
    "execution": {
     "iopub.execute_input": "2022-08-06T22:57:13.035541Z",
     "iopub.status.busy": "2022-08-06T22:57:13.035231Z",
     "iopub.status.idle": "2022-08-06T22:57:13.036580Z",
     "shell.execute_reply": "2022-08-06T22:57:13.036774Z"
    },
    "slideshow": {
     "slide_type": "fragment"
    }
   },
   "outputs": [],
   "source": [
    "max_attempts = 100000"
   ]
  },
  {
   "cell_type": "code",
   "execution_count": 44,
   "metadata": {
    "execution": {
     "iopub.execute_input": "2022-08-06T22:57:13.082115Z",
     "iopub.status.busy": "2022-08-06T22:57:13.063119Z",
     "iopub.status.idle": "2022-08-06T22:57:13.297000Z",
     "shell.execute_reply": "2022-08-06T22:57:13.297251Z"
    },
    "slideshow": {
     "slide_type": "fragment"
    }
   },
   "outputs": [
    {
     "data": {
      "text/plain": [
       "3"
      ]
     },
     "execution_count": 44,
     "metadata": {},
     "output_type": "execute_result"
    }
   ],
   "source": [
    "bletchley = BletchleyPark(enigma)\n",
    "original = bletchley.break_max_attempts(max_attempts)\n",
    "original"
   ]
  },
  {
   "cell_type": "markdown",
   "metadata": {
    "slideshow": {
     "slide_type": "fragment"
    }
   },
   "source": [
    "Now, we'll create a boosting strategy by trying trigrams first that we have previously observed most often."
   ]
  },
  {
   "cell_type": "code",
   "execution_count": 45,
   "metadata": {
    "execution": {
     "iopub.execute_input": "2022-08-06T22:57:13.299907Z",
     "iopub.status.busy": "2022-08-06T22:57:13.298394Z",
     "iopub.status.idle": "2022-08-06T22:57:13.301131Z",
     "shell.execute_reply": "2022-08-06T22:57:13.301327Z"
    },
    "slideshow": {
     "slide_type": "subslide"
    }
   },
   "outputs": [],
   "source": [
    "class BoostedBletchleyPark(BletchleyPark):\n",
    "    def __init__(self, enigma, prior):\n",
    "        super().__init__(enigma)\n",
    "        self.prior = prior\n",
    "\n",
    "    def break_message(self, message):\n",
    "        \"\"\"Returns the trigram for an encoded message, and\n",
    "           track #trigrams observed as #attempts increases.\"\"\"\n",
    "        self.enigma.cur_msg = message\n",
    "\n",
    "        # boost cracking by trying observed trigrams first\n",
    "        for trigram in sorted(self.prior, key=self.prior.get, reverse=True):\n",
    "            self.cur_attempts += 1\n",
    "            (_, outcome) = self.enigma.run(trigram)\n",
    "            self.timeseries[self.cur_attempts] = self.cur_observed\n",
    "            if outcome == self.enigma.PASS:\n",
    "                return trigram\n",
    "\n",
    "        # else fall back to normal cracking\n",
    "        return super().break_message(message)"
   ]
  },
  {
   "cell_type": "markdown",
   "metadata": {
    "slideshow": {
     "slide_type": "subslide"
    }
   },
   "source": [
    "`boosted` is the number of messages cracked by the boosted strategy."
   ]
  },
  {
   "cell_type": "code",
   "execution_count": 46,
   "metadata": {
    "execution": {
     "iopub.execute_input": "2022-08-06T22:57:13.391147Z",
     "iopub.status.busy": "2022-08-06T22:57:13.346460Z",
     "iopub.status.idle": "2022-08-06T22:57:13.529447Z",
     "shell.execute_reply": "2022-08-06T22:57:13.529635Z"
    },
    "slideshow": {
     "slide_type": "fragment"
    }
   },
   "outputs": [
    {
     "data": {
      "text/plain": [
       "23"
      ]
     },
     "execution_count": 46,
     "metadata": {},
     "output_type": "execute_result"
    }
   ],
   "source": [
    "boostedBletchley = BoostedBletchleyPark(enigma, prior=observed)\n",
    "boosted = boostedBletchley.break_max_attempts(max_attempts)\n",
    "boosted"
   ]
  },
  {
   "cell_type": "markdown",
   "metadata": {
    "slideshow": {
     "slide_type": "fragment"
    }
   },
   "source": [
    "We see that the boosted technique cracks substantially more messages. It is worthwhile to record how often each trigram is being used as key and try them in the order of their occurence.\n",
    "\n",
    "***Try it***. *For practical reasons, we use a large number of previous observations as prior (`boostedBletchley.prior = observed`). You can try to  change the code such that the strategy uses the trigram frequencies (`self.observed`) observed **during** the campaign itself to boost the campaign. You will need to increase `max_attempts` and wait for a long while.*"
   ]
  },
  {
   "cell_type": "markdown",
   "metadata": {
    "slideshow": {
     "slide_type": "subslide"
    }
   },
   "source": [
    "Let's compare the number of trigrams discovered over time."
   ]
  },
  {
   "cell_type": "code",
   "execution_count": 47,
   "metadata": {
    "execution": {
     "iopub.execute_input": "2022-08-06T22:57:13.556807Z",
     "iopub.status.busy": "2022-08-06T22:57:13.556441Z",
     "iopub.status.idle": "2022-08-06T22:57:13.838445Z",
     "shell.execute_reply": "2022-08-06T22:57:13.838689Z"
    },
    "slideshow": {
     "slide_type": "fragment"
    }
   },
   "outputs": [
    {
     "data": {
      "image/png": "[encoded data removed]",
      "text/plain": [
       "<Figure size 432x288 with 1 Axes>"
      ]
     },
     "metadata": {
      "needs_background": "light"
     },
     "output_type": "display_data"
    }
   ],
   "source": [
    "# print plots\n",
    "line_old, = plt.plot(bletchley.timeseries, label=\"Bruteforce Strategy\")\n",
    "line_new, = plt.plot(boostedBletchley.timeseries, label=\"Boosted Strategy\")\n",
    "plt.legend(handles=[line_old, line_new])\n",
    "plt.xlabel('# of cracking attempts')\n",
    "plt.ylabel('# of trigrams discovered')\n",
    "plt.title('Trigram Discovery Over Time');"
   ]
  },
  {
   "cell_type": "markdown",
   "metadata": {
    "slideshow": {
     "slide_type": "fragment"
    }
   },
   "source": [
    "We see that the boosted fuzzer is constantly superior over the random fuzzer."
   ]
  },
  {
   "cell_type": "markdown",
   "metadata": {
    "button": false,
    "new_sheet": false,
    "run_control": {
     "read_only": false
    },
    "slideshow": {
     "slide_type": "subslide"
    }
   },
   "source": [
    "## Estimating the Probability of Path Discovery\n",
    "\n",
    "<!-- ## Residual Risk: Probability of Failure after an Unsuccessful Fuzzing Campaign -->\n",
    "<!-- Residual risk is not formally defined in this section, so I made the title a bit more generic -- AZ -->\n",
    "\n",
    "So, what does Turing's observation for the Naval Enigma have to do with fuzzing _arbitrary_ programs? Turing's assistant I.J. Good extended and published Turing's work on the estimation procedures in Biometrica, a journal for theoretical biostatistics that still exists today. Good did not talk about trigrams. Instead, he calls them \"species\". Hence, the GT estimator is presented to estimate how likely it is to discover a new species, given an existing sample of individuals (each of which belongs to exactly one species). \n",
    "\n",
    "Now, we can associate program inputs to species, as well. For instance, we could define the path that is exercised by an input as that input's species. This would allow us to _estimate the probability that fuzzing discovers a new path._ Later, we will see how this discovery probability estimate also estimates the likelihood of discovering a vulnerability when we have not seen one, yet (residual risk)."
   ]
  },
  {
   "cell_type": "markdown",
   "metadata": {
    "button": false,
    "new_sheet": false,
    "run_control": {
     "read_only": false
    },
    "slideshow": {
     "slide_type": "subslide"
    }
   },
   "source": [
    "Let's do this. We identify the species for an input by computing a hash-id over the set of statements exercised by that input. In the [Coverage](Coverage.ipynb) chapter, we have learned about the [Coverage class](Coverage.ipynb#A-Coverage-Class) which collects coverage information for an executed Python function. As an example, the function [`cgi_decode()`](Coverage.ipynb#A-CGI-Decoder) was introduced. The function `cgi_decode()` takes a string encoded for a website URL and decodes it back to its original form.\n",
    "\n",
    "Here's what `cgi_decode()` does and how coverage is computed."
   ]
  },
  {
   "cell_type": "code",
   "execution_count": 48,
   "metadata": {
    "execution": {
     "iopub.execute_input": "2022-08-06T22:57:13.840721Z",
     "iopub.status.busy": "2022-08-06T22:57:13.840386Z",
     "iopub.status.idle": "2022-08-06T22:57:13.858281Z",
     "shell.execute_reply": "2022-08-06T22:57:13.858495Z"
    },
    "slideshow": {
     "slide_type": "skip"
    }
   },
   "outputs": [],
   "source": [
    "from Coverage import Coverage, cgi_decode"
   ]
  },
  {
   "cell_type": "code",
   "execution_count": 49,
   "metadata": {
    "execution": {
     "iopub.execute_input": "2022-08-06T22:57:13.860491Z",
     "iopub.status.busy": "2022-08-06T22:57:13.860154Z",
     "iopub.status.idle": "2022-08-06T22:57:13.861524Z",
     "shell.execute_reply": "2022-08-06T22:57:13.861742Z"
    },
    "slideshow": {
     "slide_type": "fragment"
    }
   },
   "outputs": [],
   "source": [
    "encoded = \"Hello%2c+world%21\"\n",
    "with Coverage() as cov:\n",
    "    decoded = cgi_decode(encoded)"
   ]
  },
  {
   "cell_type": "code",
   "execution_count": 50,
   "metadata": {
    "execution": {
     "iopub.execute_input": "2022-08-06T22:57:13.863642Z",
     "iopub.status.busy": "2022-08-06T22:57:13.863287Z",
     "iopub.status.idle": "2022-08-06T22:57:13.864909Z",
     "shell.execute_reply": "2022-08-06T22:57:13.865161Z"
    },
    "slideshow": {
     "slide_type": "subslide"
    }
   },
   "outputs": [
    {
     "data": {
      "text/plain": [
       "'Hello, world!'"
      ]
     },
     "execution_count": 50,
     "metadata": {},
     "output_type": "execute_result"
    }
   ],
   "source": [
    "decoded"
   ]
  },
  {
   "cell_type": "code",
   "execution_count": 51,
   "metadata": {
    "execution": {
     "iopub.execute_input": "2022-08-06T22:57:13.866818Z",
     "iopub.status.busy": "2022-08-06T22:57:13.866497Z",
     "iopub.status.idle": "2022-08-06T22:57:13.868035Z",
     "shell.execute_reply": "2022-08-06T22:57:13.868225Z"
    },
    "slideshow": {
     "slide_type": "fragment"
    }
   },
   "outputs": [
    {
     "name": "stdout",
     "output_type": "stream",
     "text": [
      "{('cgi_decode', 24), ('cgi_decode', 30), ('cgi_decode', 27), ('cgi_decode', 33), ('cgi_decode', 39), ('cgi_decode', 17), ('cgi_decode', 23), ('cgi_decode', 20), ('cgi_decode', 26), ('cgi_decode', 32), ('cgi_decode', 29), ('cgi_decode', 38), ('cgi_decode', 16), ('cgi_decode', 19), ('cgi_decode', 25), ('cgi_decode', 28), ('cgi_decode', 31), ('cgi_decode', 34), ('cgi_decode', 40), ('cgi_decode', 18)}\n"
     ]
    }
   ],
   "source": [
    "print(cov.coverage());"
   ]
  },
  {
   "cell_type": "markdown",
   "metadata": {
    "slideshow": {
     "slide_type": "subslide"
    }
   },
   "source": [
    "### Trace Coverage\n",
    "First, we will introduce the concept of execution traces, which are a coarse abstraction of the execution path taken by an input. Compared to the definition of path, a trace ignores the sequence in which statements are exercised or how often each statement is exercised.\n",
    "\n",
    "* `pickle.dumps()` - serializes an object by producing a byte array from all the information in the object\n",
    "* `hashlib.md5()` - produces a 128-bit hash value from a byte array"
   ]
  },
  {
   "cell_type": "code",
   "execution_count": 52,
   "metadata": {
    "execution": {
     "iopub.execute_input": "2022-08-06T22:57:13.870085Z",
     "iopub.status.busy": "2022-08-06T22:57:13.869807Z",
     "iopub.status.idle": "2022-08-06T22:57:13.871151Z",
     "shell.execute_reply": "2022-08-06T22:57:13.871412Z"
    },
    "slideshow": {
     "slide_type": "skip"
    }
   },
   "outputs": [],
   "source": [
    "import pickle\n",
    "import hashlib"
   ]
  },
  {
   "cell_type": "code",
   "execution_count": 53,
   "metadata": {
    "execution": {
     "iopub.execute_input": "2022-08-06T22:57:13.873409Z",
     "iopub.status.busy": "2022-08-06T22:57:13.872983Z",
     "iopub.status.idle": "2022-08-06T22:57:13.874658Z",
     "shell.execute_reply": "2022-08-06T22:57:13.874842Z"
    },
    "slideshow": {
     "slide_type": "fragment"
    }
   },
   "outputs": [],
   "source": [
    "def getTraceHash(cov):\n",
    "    pickledCov = pickle.dumps(cov.coverage())\n",
    "    hashedCov = hashlib.md5(pickledCov).hexdigest()\n",
    "    return hashedCov"
   ]
  },
  {
   "cell_type": "markdown",
   "metadata": {
    "slideshow": {
     "slide_type": "subslide"
    }
   },
   "source": [
    "Remember our model for the Naval Enigma machine? Each message must be decrypted using exactly one trigram while multiple messages may be decrypted by the same trigram. Similarly, we need each input to yield exactly one trace hash while multiple inputs can yield the same trace hash."
   ]
  },
  {
   "cell_type": "markdown",
   "metadata": {
    "slideshow": {
     "slide_type": "fragment"
    }
   },
   "source": [
    "Let's see whether this is true for our `getTraceHash()` function."
   ]
  },
  {
   "cell_type": "code",
   "execution_count": 54,
   "metadata": {
    "execution": {
     "iopub.execute_input": "2022-08-06T22:57:13.877025Z",
     "iopub.status.busy": "2022-08-06T22:57:13.876751Z",
     "iopub.status.idle": "2022-08-06T22:57:13.878089Z",
     "shell.execute_reply": "2022-08-06T22:57:13.878428Z"
    },
    "slideshow": {
     "slide_type": "subslide"
    }
   },
   "outputs": [],
   "source": [
    "inp1 = \"a+b\"\n",
    "inp2 = \"a+b+c\"\n",
    "inp3 = \"abc\"\n",
    "\n",
    "with Coverage() as cov1:\n",
    "    cgi_decode(inp1)\n",
    "with Coverage() as cov2:\n",
    "    cgi_decode(inp2)\n",
    "with Coverage() as cov3:\n",
    "    cgi_decode(inp3)"
   ]
  },
  {
   "cell_type": "markdown",
   "metadata": {
    "slideshow": {
     "slide_type": "fragment"
    }
   },
   "source": [
    "The inputs `inp1` and `inp2` execute the same statements:"
   ]
  },
  {
   "cell_type": "code",
   "execution_count": 55,
   "metadata": {
    "execution": {
     "iopub.execute_input": "2022-08-06T22:57:13.880899Z",
     "iopub.status.busy": "2022-08-06T22:57:13.880609Z",
     "iopub.status.idle": "2022-08-06T22:57:13.882174Z",
     "shell.execute_reply": "2022-08-06T22:57:13.882444Z"
    },
    "slideshow": {
     "slide_type": "fragment"
    }
   },
   "outputs": [
    {
     "data": {
      "text/plain": [
       "('a+b', 'a+b+c')"
      ]
     },
     "execution_count": 55,
     "metadata": {},
     "output_type": "execute_result"
    }
   ],
   "source": [
    "inp1, inp2"
   ]
  },
  {
   "cell_type": "code",
   "execution_count": 56,
   "metadata": {
    "execution": {
     "iopub.execute_input": "2022-08-06T22:57:13.884537Z",
     "iopub.status.busy": "2022-08-06T22:57:13.884230Z",
     "iopub.status.idle": "2022-08-06T22:57:13.885728Z",
     "shell.execute_reply": "2022-08-06T22:57:13.885952Z"
    },
    "slideshow": {
     "slide_type": "fragment"
    }
   },
   "outputs": [
    {
     "data": {
      "text/plain": [
       "set()"
      ]
     },
     "execution_count": 56,
     "metadata": {},
     "output_type": "execute_result"
    }
   ],
   "source": [
    "cov1.coverage() - cov2.coverage()"
   ]
  },
  {
   "cell_type": "markdown",
   "metadata": {
    "slideshow": {
     "slide_type": "subslide"
    }
   },
   "source": [
    "The difference between both coverage sets is empty. Hence, the trace hashes should be the same:"
   ]
  },
  {
   "cell_type": "code",
   "execution_count": 57,
   "metadata": {
    "execution": {
     "iopub.execute_input": "2022-08-06T22:57:13.888187Z",
     "iopub.status.busy": "2022-08-06T22:57:13.887847Z",
     "iopub.status.idle": "2022-08-06T22:57:13.889326Z",
     "shell.execute_reply": "2022-08-06T22:57:13.889606Z"
    },
    "slideshow": {
     "slide_type": "fragment"
    }
   },
   "outputs": [
    {
     "data": {
      "text/plain": [
       "'059db50a9f566ee6935a0d209af9ae41'"
      ]
     },
     "execution_count": 57,
     "metadata": {},
     "output_type": "execute_result"
    }
   ],
   "source": [
    "getTraceHash(cov1)"
   ]
  },
  {
   "cell_type": "code",
   "execution_count": 58,
   "metadata": {
    "execution": {
     "iopub.execute_input": "2022-08-06T22:57:13.891806Z",
     "iopub.status.busy": "2022-08-06T22:57:13.891459Z",
     "iopub.status.idle": "2022-08-06T22:57:13.892801Z",
     "shell.execute_reply": "2022-08-06T22:57:13.893223Z"
    },
    "slideshow": {
     "slide_type": "fragment"
    }
   },
   "outputs": [
    {
     "data": {
      "text/plain": [
       "'059db50a9f566ee6935a0d209af9ae41'"
      ]
     },
     "execution_count": 58,
     "metadata": {},
     "output_type": "execute_result"
    }
   ],
   "source": [
    "getTraceHash(cov2)"
   ]
  },
  {
   "cell_type": "code",
   "execution_count": 59,
   "metadata": {
    "execution": {
     "iopub.execute_input": "2022-08-06T22:57:13.895308Z",
     "iopub.status.busy": "2022-08-06T22:57:13.894941Z",
     "iopub.status.idle": "2022-08-06T22:57:13.896413Z",
     "shell.execute_reply": "2022-08-06T22:57:13.896733Z"
    },
    "slideshow": {
     "slide_type": "fragment"
    }
   },
   "outputs": [],
   "source": [
    "assert getTraceHash(cov1) == getTraceHash(cov2)"
   ]
  },
  {
   "cell_type": "markdown",
   "metadata": {
    "slideshow": {
     "slide_type": "fragment"
    }
   },
   "source": [
    "In contrast, the inputs `inp1` and `inp3` execute _different_ statements:"
   ]
  },
  {
   "cell_type": "code",
   "execution_count": 60,
   "metadata": {
    "execution": {
     "iopub.execute_input": "2022-08-06T22:57:13.899119Z",
     "iopub.status.busy": "2022-08-06T22:57:13.898779Z",
     "iopub.status.idle": "2022-08-06T22:57:13.900417Z",
     "shell.execute_reply": "2022-08-06T22:57:13.900602Z"
    },
    "slideshow": {
     "slide_type": "fragment"
    }
   },
   "outputs": [
    {
     "data": {
      "text/plain": [
       "('a+b', 'abc')"
      ]
     },
     "execution_count": 60,
     "metadata": {},
     "output_type": "execute_result"
    }
   ],
   "source": [
    "inp1, inp3"
   ]
  },
  {
   "cell_type": "code",
   "execution_count": 61,
   "metadata": {
    "execution": {
     "iopub.execute_input": "2022-08-06T22:57:13.902819Z",
     "iopub.status.busy": "2022-08-06T22:57:13.902459Z",
     "iopub.status.idle": "2022-08-06T22:57:13.903968Z",
     "shell.execute_reply": "2022-08-06T22:57:13.904227Z"
    },
    "slideshow": {
     "slide_type": "fragment"
    }
   },
   "outputs": [
    {
     "data": {
      "text/plain": [
       "{('cgi_decode', 28)}"
      ]
     },
     "execution_count": 61,
     "metadata": {},
     "output_type": "execute_result"
    }
   ],
   "source": [
    "cov1.coverage() - cov3.coverage()"
   ]
  },
  {
   "cell_type": "markdown",
   "metadata": {
    "slideshow": {
     "slide_type": "fragment"
    }
   },
   "source": [
    "Hence, the trace hashes should be different, too:"
   ]
  },
  {
   "cell_type": "code",
   "execution_count": 62,
   "metadata": {
    "execution": {
     "iopub.execute_input": "2022-08-06T22:57:13.906176Z",
     "iopub.status.busy": "2022-08-06T22:57:13.905856Z",
     "iopub.status.idle": "2022-08-06T22:57:13.907359Z",
     "shell.execute_reply": "2022-08-06T22:57:13.907625Z"
    },
    "slideshow": {
     "slide_type": "subslide"
    }
   },
   "outputs": [
    {
     "data": {
      "text/plain": [
       "'059db50a9f566ee6935a0d209af9ae41'"
      ]
     },
     "execution_count": 62,
     "metadata": {},
     "output_type": "execute_result"
    }
   ],
   "source": [
    "getTraceHash(cov1)"
   ]
  },
  {
   "cell_type": "code",
   "execution_count": 63,
   "metadata": {
    "execution": {
     "iopub.execute_input": "2022-08-06T22:57:13.909308Z",
     "iopub.status.busy": "2022-08-06T22:57:13.908637Z",
     "iopub.status.idle": "2022-08-06T22:57:13.910681Z",
     "shell.execute_reply": "2022-08-06T22:57:13.910942Z"
    },
    "slideshow": {
     "slide_type": "fragment"
    }
   },
   "outputs": [
    {
     "data": {
      "text/plain": [
       "'cfbeda1d483193fe1e10d83b40ff3e56'"
      ]
     },
     "execution_count": 63,
     "metadata": {},
     "output_type": "execute_result"
    }
   ],
   "source": [
    "getTraceHash(cov3)"
   ]
  },
  {
   "cell_type": "code",
   "execution_count": 64,
   "metadata": {
    "execution": {
     "iopub.execute_input": "2022-08-06T22:57:13.912981Z",
     "iopub.status.busy": "2022-08-06T22:57:13.912650Z",
     "iopub.status.idle": "2022-08-06T22:57:13.913840Z",
     "shell.execute_reply": "2022-08-06T22:57:13.914138Z"
    },
    "slideshow": {
     "slide_type": "fragment"
    }
   },
   "outputs": [],
   "source": [
    "assert getTraceHash(cov1) != getTraceHash(cov3)"
   ]
  },
  {
   "cell_type": "markdown",
   "metadata": {
    "slideshow": {
     "slide_type": "subslide"
    }
   },
   "source": [
    "### Measuring Trace Coverage over Time\n",
    "In order to measure trace coverage for a `function` executing a `population` of fuzz inputs, we slightly adapt the `population_coverage()` function from the [Chapter on Coverage](Coverage.ipynb#Coverage-of-Basic-Fuzzing)."
   ]
  },
  {
   "cell_type": "code",
   "execution_count": 65,
   "metadata": {
    "execution": {
     "iopub.execute_input": "2022-08-06T22:57:13.917171Z",
     "iopub.status.busy": "2022-08-06T22:57:13.916818Z",
     "iopub.status.idle": "2022-08-06T22:57:13.918125Z",
     "shell.execute_reply": "2022-08-06T22:57:13.918340Z"
    },
    "slideshow": {
     "slide_type": "subslide"
    }
   },
   "outputs": [],
   "source": [
    "def population_trace_coverage(population, function):\n",
    "    cumulative_coverage = []\n",
    "    all_coverage = set()\n",
    "    cumulative_singletons = []\n",
    "    cumulative_doubletons = []\n",
    "    singletons = set()\n",
    "    doubletons = set()\n",
    "\n",
    "    for s in population:\n",
    "        with Coverage() as cov:\n",
    "            try:\n",
    "                function(s)\n",
    "            except BaseException:\n",
    "                pass\n",
    "        cur_coverage = set([getTraceHash(cov)])\n",
    "\n",
    "        # singletons and doubletons -- we will need them later\n",
    "        doubletons -= cur_coverage\n",
    "        doubletons |= singletons & cur_coverage\n",
    "        singletons -= cur_coverage\n",
    "        singletons |= cur_coverage - (cur_coverage & all_coverage)\n",
    "        cumulative_singletons.append(len(singletons))\n",
    "        cumulative_doubletons.append(len(doubletons))\n",
    "\n",
    "        # all and cumulative coverage\n",
    "        all_coverage |= cur_coverage\n",
    "        cumulative_coverage.append(len(all_coverage))\n",
    "\n",
    "    return all_coverage, cumulative_coverage, cumulative_singletons, cumulative_doubletons"
   ]
  },
  {
   "cell_type": "markdown",
   "metadata": {
    "slideshow": {
     "slide_type": "subslide"
    }
   },
   "source": [
    "Let's see whether our new function really contains coverage information only for *two* traces given our three inputs for `cgi_decode`."
   ]
  },
  {
   "cell_type": "code",
   "execution_count": 66,
   "metadata": {
    "execution": {
     "iopub.execute_input": "2022-08-06T22:57:13.920413Z",
     "iopub.status.busy": "2022-08-06T22:57:13.920118Z",
     "iopub.status.idle": "2022-08-06T22:57:13.921287Z",
     "shell.execute_reply": "2022-08-06T22:57:13.921717Z"
    },
    "slideshow": {
     "slide_type": "fragment"
    }
   },
   "outputs": [],
   "source": [
    "all_coverage = population_trace_coverage([inp1, inp2, inp3], cgi_decode)[0]\n",
    "assert len(all_coverage) == 2"
   ]
  },
  {
   "cell_type": "markdown",
   "metadata": {
    "slideshow": {
     "slide_type": "fragment"
    }
   },
   "source": [
    "Unfortunately, the `cgi_decode()` function is too simple. Instead, we will use the original Python [HTMLParser](https://docs.python.org/3/library/html.parser.html) as our test subject."
   ]
  },
  {
   "cell_type": "code",
   "execution_count": 67,
   "metadata": {
    "execution": {
     "iopub.execute_input": "2022-08-06T22:57:13.923851Z",
     "iopub.status.busy": "2022-08-06T22:57:13.923515Z",
     "iopub.status.idle": "2022-08-06T22:57:13.924939Z",
     "shell.execute_reply": "2022-08-06T22:57:13.925174Z"
    },
    "slideshow": {
     "slide_type": "skip"
    }
   },
   "outputs": [],
   "source": [
    "from Coverage import population_coverage\n",
    "from html.parser import HTMLParser"
   ]
  },
  {
   "cell_type": "code",
   "execution_count": 68,
   "metadata": {
    "execution": {
     "iopub.execute_input": "2022-08-06T22:57:13.927042Z",
     "iopub.status.busy": "2022-08-06T22:57:13.926724Z",
     "iopub.status.idle": "2022-08-06T22:57:13.928045Z",
     "shell.execute_reply": "2022-08-06T22:57:13.928301Z"
    },
    "slideshow": {
     "slide_type": "fragment"
    }
   },
   "outputs": [],
   "source": [
    "trials = 50000  # number of random inputs generated"
   ]
  },
  {
   "cell_type": "markdown",
   "metadata": {
    "slideshow": {
     "slide_type": "fragment"
    }
   },
   "source": [
    "Let's run a random fuzzer for $n=50000$ times and plot trace coverage over time."
   ]
  },
  {
   "cell_type": "code",
   "execution_count": 69,
   "metadata": {
    "execution": {
     "iopub.execute_input": "2022-08-06T22:57:13.930203Z",
     "iopub.status.busy": "2022-08-06T22:57:13.929924Z",
     "iopub.status.idle": "2022-08-06T22:57:13.931171Z",
     "shell.execute_reply": "2022-08-06T22:57:13.931355Z"
    },
    "slideshow": {
     "slide_type": "fragment"
    }
   },
   "outputs": [],
   "source": [
    "# create wrapper function\n",
    "def my_parser(inp):\n",
    "    parser = HTMLParser()  # resets the HTMLParser object for every fuzz input\n",
    "    parser.feed(inp)"
   ]
  },
  {
   "cell_type": "code",
   "execution_count": 70,
   "metadata": {
    "execution": {
     "iopub.execute_input": "2022-08-06T22:57:14.017769Z",
     "iopub.status.busy": "2022-08-06T22:57:13.976094Z",
     "iopub.status.idle": "2022-08-06T22:57:19.829664Z",
     "shell.execute_reply": "2022-08-06T22:57:19.829925Z"
    },
    "slideshow": {
     "slide_type": "subslide"
    }
   },
   "outputs": [
    {
     "data": {
      "image/png": "[encoded data removed]",
      "text/plain": [
       "<Figure size 960x320 with 2 Axes>"
      ]
     },
     "metadata": {},
     "output_type": "display_data"
    }
   ],
   "source": [
    "# create random fuzzer\n",
    "fuzzer = RandomFuzzer(min_length=1, max_length=100,\n",
    "                      char_start=32, char_range=94)\n",
    "\n",
    "# create population of fuzz inputs\n",
    "population = []\n",
    "for i in range(trials):\n",
    "    population.append(fuzzer.fuzz())\n",
    "\n",
    "# execute and measure trace coverage\n",
    "trace_timeseries = population_trace_coverage(population, my_parser)[1]\n",
    "\n",
    "# execute and measure code coverage\n",
    "code_timeseries = population_coverage(population, my_parser)[1]\n",
    "\n",
    "# plot trace coverage over time\n",
    "plt.figure(num=None, figsize=(12, 4), dpi=80, facecolor='w', edgecolor='k')\n",
    "plt.subplot(1, 2, 1)\n",
    "plt.plot(trace_timeseries)\n",
    "plt.xlabel('# of fuzz inputs')\n",
    "plt.ylabel('# of traces exercised')\n",
    "plt.title('Trace Coverage Over Time')\n",
    "\n",
    "# plot code coverage over time\n",
    "plt.subplot(1, 2, 2)\n",
    "plt.plot(code_timeseries)\n",
    "plt.xlabel('# of fuzz inputs')\n",
    "plt.ylabel('# of statements covered')\n",
    "plt.title('Code Coverage Over Time');"
   ]
  },
  {
   "cell_type": "markdown",
   "metadata": {
    "slideshow": {
     "slide_type": "subslide"
    }
   },
   "source": [
    "Above, we can see trace coverage (left) and code coverage (right) over time. Here are our observations.\n",
    "1. **Trace coverage is more robust**. There are less sudden jumps in the graph compared to code coverage.\n",
    "2. **Trace coverage is more fine grained.** There are more traces than statements covered in the end (y-axis).\n",
    "3. **Trace coverage grows more steadily**. Code coverage exercises more than half the statements it has exercised after 50k inputs with the first input. Instead, the number of traces covered grows slowly and steadily since each input can yield only one execution trace.\n",
    "\n",
    "It is for this reason that one of the most prominent and successful fuzzers today, american fuzzy lop (AFL), uses a similar *measure of progress* (a hash computed over the branches exercised by the input)."
   ]
  },
  {
   "cell_type": "markdown",
   "metadata": {
    "slideshow": {
     "slide_type": "subslide"
    }
   },
   "source": [
    "### Evaluating the Discovery Probability Estimate\n",
    "\n",
    "Let's find out how the Good-Turing estimator performs as estimate of discovery probability when we are fuzzing to discover execution traces rather than trigrams. \n",
    "\n",
    "To measure the empirical probability, we execute the same population of inputs (n=50000) and measure in regular intervals (`measurements=100` intervals). During each measurement, we repeat the following experiment `repeats=500` times, reporting the average: If the next input yields a new trace, return 1, otherwise return 0. Note that during these repetitions, we do not record the newly discovered traces as observed."
   ]
  },
  {
   "cell_type": "code",
   "execution_count": 71,
   "metadata": {
    "execution": {
     "iopub.execute_input": "2022-08-06T22:57:19.832458Z",
     "iopub.status.busy": "2022-08-06T22:57:19.832020Z",
     "iopub.status.idle": "2022-08-06T22:57:19.833137Z",
     "shell.execute_reply": "2022-08-06T22:57:19.833341Z"
    },
    "slideshow": {
     "slide_type": "subslide"
    }
   },
   "outputs": [],
   "source": [
    "repeats = 500      # experiment repetitions\n",
    "measurements = 100  # experiment measurements"
   ]
  },
  {
   "cell_type": "code",
   "execution_count": 72,
   "metadata": {
    "execution": {
     "iopub.execute_input": "2022-08-06T22:57:19.924128Z",
     "iopub.status.busy": "2022-08-06T22:57:19.880644Z",
     "iopub.status.idle": "2022-08-06T22:57:26.043480Z",
     "shell.execute_reply": "2022-08-06T22:57:26.043877Z"
    },
    "slideshow": {
     "slide_type": "subslide"
    }
   },
   "outputs": [],
   "source": [
    "emp_timeseries = []\n",
    "all_coverage = set()\n",
    "step = int(trials / measurements)\n",
    "\n",
    "for i in range(0, trials, step):\n",
    "    if i - step >= 0:\n",
    "        for j in range(step):\n",
    "            inp = population[i - j]\n",
    "            with Coverage() as cov:\n",
    "                try:\n",
    "                    my_parser(inp)\n",
    "                except BaseException:\n",
    "                    pass\n",
    "            all_coverage |= set([getTraceHash(cov)])\n",
    "\n",
    "    discoveries = 0\n",
    "    for _ in range(repeats):\n",
    "        inp = fuzzer.fuzz()\n",
    "        with Coverage() as cov:\n",
    "            try:\n",
    "                my_parser(inp)\n",
    "            except BaseException:\n",
    "                pass\n",
    "        if getTraceHash(cov) not in all_coverage:\n",
    "            discoveries += 1\n",
    "    emp_timeseries.append(discoveries / repeats)"
   ]
  },
  {
   "cell_type": "markdown",
   "metadata": {
    "slideshow": {
     "slide_type": "subslide"
    }
   },
   "source": [
    "Now, we compute the Good-Turing estimate over time."
   ]
  },
  {
   "cell_type": "code",
   "execution_count": 73,
   "metadata": {
    "execution": {
     "iopub.execute_input": "2022-08-06T22:57:26.132526Z",
     "iopub.status.busy": "2022-08-06T22:57:26.089379Z",
     "iopub.status.idle": "2022-08-06T22:57:28.568799Z",
     "shell.execute_reply": "2022-08-06T22:57:28.569134Z"
    },
    "slideshow": {
     "slide_type": "fragment"
    }
   },
   "outputs": [],
   "source": [
    "gt_timeseries = []\n",
    "singleton_timeseries = population_trace_coverage(population, my_parser)[2]\n",
    "for i in range(1, trials + 1, step):\n",
    "    gt_timeseries.append(singleton_timeseries[i - 1] / i)"
   ]
  },
  {
   "cell_type": "markdown",
   "metadata": {
    "slideshow": {
     "slide_type": "fragment"
    }
   },
   "source": [
    "Let's go ahead and plot both time series."
   ]
  },
  {
   "cell_type": "code",
   "execution_count": 74,
   "metadata": {
    "execution": {
     "iopub.execute_input": "2022-08-06T22:57:28.583523Z",
     "iopub.status.busy": "2022-08-06T22:57:28.576837Z",
     "iopub.status.idle": "2022-08-06T22:57:28.833091Z",
     "shell.execute_reply": "2022-08-06T22:57:28.833305Z"
    },
    "slideshow": {
     "slide_type": "fragment"
    }
   },
   "outputs": [
    {
     "data": {
      "image/png": "[encoded data removed]",
      "text/plain": [
       "<Figure size 432x288 with 1 Axes>"
      ]
     },
     "metadata": {
      "needs_background": "light"
     },
     "output_type": "display_data"
    }
   ],
   "source": [
    "line_emp, = plt.semilogy(emp_timeseries, label=\"Empirical\")\n",
    "line_gt, = plt.semilogy(gt_timeseries, label=\"Good-Turing\")\n",
    "plt.legend(handles=[line_emp, line_gt])\n",
    "plt.xticks(range(0, measurements + 1, int(measurements / 5)),\n",
    "           range(0, trials + 1, int(trials / 5)))\n",
    "plt.xlabel('# of fuzz inputs')\n",
    "plt.ylabel('discovery probability')\n",
    "plt.title('Discovery Probability Over Time');"
   ]
  },
  {
   "cell_type": "markdown",
   "metadata": {
    "slideshow": {
     "slide_type": "subslide"
    }
   },
   "source": [
    "Again, the Good-Turing estimate appears to be *highly accurate*. In fact, the empirical estimator has a much lower precision as indicated by the large swings. You can try and increase the number of repetitions (`repeats`) to get more precision for the empirical estimates, however, at the cost of waiting much longer."
   ]
  },
  {
   "cell_type": "markdown",
   "metadata": {
    "slideshow": {
     "slide_type": "subslide"
    }
   },
   "source": [
    "### Discovery Probability Quantifies Residual Risk\n",
    "\n",
    "Alright. You have gotten a hold of a couple of powerful machines and used them to fuzz a software system for several months without finding any vulnerabilities. Is the system vulnerable?\n",
    "\n",
    "Well, who knows? We cannot say for sure; there is always some residual risk. Testing is not verification. Maybe the next test input that is generated reveals a vulnerability.\n",
    "\n",
    "Let's say *residual risk* is the probability that the next test input reveals a vulnerability that has not been found, yet. Böhme \\cite{Boehme2018stads} has shown that the Good-Turing estimate of the discovery probability is also an estimate of the maximum residual risk."
   ]
  },
  {
   "cell_type": "markdown",
   "metadata": {
    "slideshow": {
     "slide_type": "subslide"
    }
   },
   "source": [
    "**Proof sketch (Residual Risk)**. Here is a proof sketch that shows that an estimator of discovery probability for an arbitrary definition of species gives an upper bound on the probability to discover a vulnerability when none has been found: Suppose, for each \"old\" species A (here, execution trace), we derive two \"new\" species: Some inputs belonging to A expose a vulnerability while others belonging to A do not. We know that _only_ species that do not expose a vulnerability have been discovered. Hence, _all_ species exposing a vulnerability and _some_ species that do not expose a vulnerability remain undiscovered. Hence, the probability to discover a new species gives an upper bound on the probability to discover (a species that exposes) a vulnerability. **QED**."
   ]
  },
  {
   "cell_type": "markdown",
   "metadata": {
    "slideshow": {
     "slide_type": "subslide"
    }
   },
   "source": [
    "An estimate of the discovery probability is useful in many other ways.\n",
    "\n",
    "1. **Discovery probability**. We can estimate, at any point during the fuzzing campaign, the probability that the next input belongs to a previously unseen species (here, that it yields a new execution trace, i.e., exercises a new set of statements).\n",
    "2. **Complement of discovery probability**. We can estimate the proportion of *all* inputs the fuzzer can generate for which we have already seen the species (here, execution traces). In some sense, this allows us to quantify the *progress of the fuzzing campaign towards completion*: If the probability to discovery a new species is too low, we might as well abort the campaign.\n",
    "3. **Inverse of discovery probability**. We can predict the number of test inputs needed, so that we can expect the discovery of a new species (here, execution trace)."
   ]
  },
  {
   "cell_type": "markdown",
   "metadata": {
    "button": false,
    "new_sheet": false,
    "run_control": {
     "read_only": false
    },
    "slideshow": {
     "slide_type": "slide"
    }
   },
   "source": [
    "## How Do We Know When to Stop Fuzzing?\n",
    "\n",
    "In fuzzing, we have measures of progress such as [code coverage](Coverage.ipynb) or [grammar coverage](GrammarCoverageFuzzer.ipynb). Suppose, we are interested in covering all statements in the program. The _percentage_ of statements that have already been covered quantifies how \"far\" we are from completing the fuzzing campaign. However, sometimes we know only the _number_ of species $S(n)$ (here, statements) that have been discovered after generating $n$ fuzz inputs. The percentage $S(n)/S$ can only be computed if we know the _total number_ of species $S$. Even then, not all species may be feasible."
   ]
  },
  {
   "cell_type": "markdown",
   "metadata": {
    "button": false,
    "new_sheet": false,
    "run_control": {
     "read_only": false
    },
    "slideshow": {
     "slide_type": "slide"
    }
   },
   "source": [
    "### A Success Estimator\n",
    "\n",
    "If we do not _know_ the total number of species, then let's at least _estimate_ it: As we have seen before, species discovery slows down over time. In the beginning, many new species are discovered. Later, many inputs need to be generated before discovering the next species. In fact, given enough time, the fuzzing campaign approaches an _asymptote_. It is this asymptote that we can estimate."
   ]
  },
  {
   "cell_type": "markdown",
   "metadata": {
    "button": false,
    "new_sheet": false,
    "run_control": {
     "read_only": false
    },
    "slideshow": {
     "slide_type": "slide"
    }
   },
   "source": [
    "In 1984, Anne Chao, a well-known theoretical bio-statistician, has developed an estimator $\\hat S$ which estimates the asymptotic total number of species $S$:\n",
    "\\begin{align}\n",
    "\\hat S_\\text{Chao1} = \\begin{cases}\n",
    "S(n) + \\frac{f_1^2}{2f_2} & \\text{if $f_2>0$}\\\\\n",
    "S(n) + \\frac{f_1(f_1-1)}{2} & \\text{otherwise}\n",
    "\\end{cases}\n",
    "\\end{align}\n",
    "* where $f_1$ and $f_2$ is the number of singleton and doubleton species, respectively (that have been observed exactly once or twice, resp.), and \n",
    "* where $S(n)$ is the number of species that have been discovered after generating $n$ fuzz inputs."
   ]
  },
  {
   "cell_type": "markdown",
   "metadata": {
    "button": false,
    "new_sheet": false,
    "run_control": {
     "read_only": false
    },
    "slideshow": {
     "slide_type": "slide"
    }
   },
   "source": [
    "So, how does Chao's estimate perform? To investigate this, we generate `trials=400000` fuzz inputs using a fuzzer setting that allows us to see an asymptote in a few seconds: We measure trace coverage. After half-way into our fuzzing campaign (`trials`/2=100000), we generate Chao's estimate $\\hat S$ of the asymptotic total number of species. Then, we run the remainer of the campaign to see the \"empirical\" asymptote."
   ]
  },
  {
   "cell_type": "code",
   "execution_count": 75,
   "metadata": {
    "execution": {
     "iopub.execute_input": "2022-08-06T22:57:28.848458Z",
     "iopub.status.busy": "2022-08-06T22:57:28.848154Z",
     "iopub.status.idle": "2022-08-06T22:57:43.402269Z",
     "shell.execute_reply": "2022-08-06T22:57:43.402464Z"
    },
    "slideshow": {
     "slide_type": "fragment"
    }
   },
   "outputs": [],
   "source": [
    "trials = 400000\n",
    "fuzzer = RandomFuzzer(min_length=2, max_length=4,\n",
    "                      char_start=32, char_range=32)\n",
    "population = []\n",
    "for i in range(trials):\n",
    "    population.append(fuzzer.fuzz())\n",
    "\n",
    "_, trace_ts, f1_ts, f2_ts = population_trace_coverage(population, my_parser)"
   ]
  },
  {
   "cell_type": "code",
   "execution_count": 76,
   "metadata": {
    "execution": {
     "iopub.execute_input": "2022-08-06T22:57:43.404836Z",
     "iopub.status.busy": "2022-08-06T22:57:43.404404Z",
     "iopub.status.idle": "2022-08-06T22:57:43.406185Z",
     "shell.execute_reply": "2022-08-06T22:57:43.406377Z"
    },
    "slideshow": {
     "slide_type": "subslide"
    }
   },
   "outputs": [
    {
     "data": {
      "text/plain": [
       "200000"
      ]
     },
     "execution_count": 76,
     "metadata": {},
     "output_type": "execute_result"
    }
   ],
   "source": [
    "time = int(trials / 2)\n",
    "time"
   ]
  },
  {
   "cell_type": "code",
   "execution_count": 77,
   "metadata": {
    "execution": {
     "iopub.execute_input": "2022-08-06T22:57:43.409242Z",
     "iopub.status.busy": "2022-08-06T22:57:43.408964Z",
     "iopub.status.idle": "2022-08-06T22:57:43.410307Z",
     "shell.execute_reply": "2022-08-06T22:57:43.410495Z"
    },
    "slideshow": {
     "slide_type": "fragment"
    }
   },
   "outputs": [],
   "source": [
    "f1 = f1_ts[time]\n",
    "f2 = f2_ts[time]\n",
    "Sn = trace_ts[time]\n",
    "if f2 > 0:\n",
    "    hat_S = Sn + f1 * f1 / (2 * f2)\n",
    "else:\n",
    "    hat_S = Sn + f1 * (f1 - 1) / 2"
   ]
  },
  {
   "cell_type": "markdown",
   "metadata": {
    "slideshow": {
     "slide_type": "fragment"
    }
   },
   "source": [
    "After executing `time` fuzz inputs (half of all), we have covered this many traces:"
   ]
  },
  {
   "cell_type": "code",
   "execution_count": 78,
   "metadata": {
    "execution": {
     "iopub.execute_input": "2022-08-06T22:57:43.412415Z",
     "iopub.status.busy": "2022-08-06T22:57:43.412075Z",
     "iopub.status.idle": "2022-08-06T22:57:43.413557Z",
     "shell.execute_reply": "2022-08-06T22:57:43.413736Z"
    },
    "slideshow": {
     "slide_type": "fragment"
    }
   },
   "outputs": [
    {
     "data": {
      "text/plain": [
       "200000"
      ]
     },
     "execution_count": 78,
     "metadata": {},
     "output_type": "execute_result"
    }
   ],
   "source": [
    "time"
   ]
  },
  {
   "cell_type": "code",
   "execution_count": 79,
   "metadata": {
    "execution": {
     "iopub.execute_input": "2022-08-06T22:57:43.415459Z",
     "iopub.status.busy": "2022-08-06T22:57:43.415145Z",
     "iopub.status.idle": "2022-08-06T22:57:43.416871Z",
     "shell.execute_reply": "2022-08-06T22:57:43.416570Z"
    },
    "slideshow": {
     "slide_type": "subslide"
    }
   },
   "outputs": [
    {
     "data": {
      "text/plain": [
       "66"
      ]
     },
     "execution_count": 79,
     "metadata": {},
     "output_type": "execute_result"
    }
   ],
   "source": [
    "Sn"
   ]
  },
  {
   "cell_type": "markdown",
   "metadata": {
    "slideshow": {
     "slide_type": "fragment"
    }
   },
   "source": [
    "We can estimate there are this many traces in total:"
   ]
  },
  {
   "cell_type": "code",
   "execution_count": 80,
   "metadata": {
    "execution": {
     "iopub.execute_input": "2022-08-06T22:57:43.418641Z",
     "iopub.status.busy": "2022-08-06T22:57:43.418317Z",
     "iopub.status.idle": "2022-08-06T22:57:43.419833Z",
     "shell.execute_reply": "2022-08-06T22:57:43.420013Z"
    },
    "slideshow": {
     "slide_type": "fragment"
    }
   },
   "outputs": [
    {
     "data": {
      "text/plain": [
       "73.2"
      ]
     },
     "execution_count": 80,
     "metadata": {},
     "output_type": "execute_result"
    }
   ],
   "source": [
    "hat_S"
   ]
  },
  {
   "cell_type": "markdown",
   "metadata": {
    "slideshow": {
     "slide_type": "fragment"
    }
   },
   "source": [
    "Hence, we have achieved this percentage of the estimate:"
   ]
  },
  {
   "cell_type": "code",
   "execution_count": 81,
   "metadata": {
    "execution": {
     "iopub.execute_input": "2022-08-06T22:57:43.421804Z",
     "iopub.status.busy": "2022-08-06T22:57:43.421494Z",
     "iopub.status.idle": "2022-08-06T22:57:43.422855Z",
     "shell.execute_reply": "2022-08-06T22:57:43.423027Z"
    },
    "slideshow": {
     "slide_type": "fragment"
    }
   },
   "outputs": [
    {
     "data": {
      "text/plain": [
       "90.1639344262295"
      ]
     },
     "execution_count": 81,
     "metadata": {},
     "output_type": "execute_result"
    }
   ],
   "source": [
    "100 * Sn / hat_S"
   ]
  },
  {
   "cell_type": "markdown",
   "metadata": {
    "slideshow": {
     "slide_type": "fragment"
    }
   },
   "source": [
    "After executing `trials` fuzz inputs, we have covered this many traces:"
   ]
  },
  {
   "cell_type": "code",
   "execution_count": 82,
   "metadata": {
    "execution": {
     "iopub.execute_input": "2022-08-06T22:57:43.425204Z",
     "iopub.status.busy": "2022-08-06T22:57:43.424659Z",
     "iopub.status.idle": "2022-08-06T22:57:43.426658Z",
     "shell.execute_reply": "2022-08-06T22:57:43.426872Z"
    },
    "slideshow": {
     "slide_type": "fragment"
    }
   },
   "outputs": [
    {
     "data": {
      "text/plain": [
       "400000"
      ]
     },
     "execution_count": 82,
     "metadata": {},
     "output_type": "execute_result"
    }
   ],
   "source": [
    "trials"
   ]
  },
  {
   "cell_type": "code",
   "execution_count": 83,
   "metadata": {
    "execution": {
     "iopub.execute_input": "2022-08-06T22:57:43.428732Z",
     "iopub.status.busy": "2022-08-06T22:57:43.428057Z",
     "iopub.status.idle": "2022-08-06T22:57:43.430212Z",
     "shell.execute_reply": "2022-08-06T22:57:43.430456Z"
    },
    "slideshow": {
     "slide_type": "fragment"
    }
   },
   "outputs": [
    {
     "data": {
      "text/plain": [
       "72"
      ]
     },
     "execution_count": 83,
     "metadata": {},
     "output_type": "execute_result"
    }
   ],
   "source": [
    "trace_ts[trials - 1]"
   ]
  },
  {
   "cell_type": "markdown",
   "metadata": {
    "slideshow": {
     "slide_type": "subslide"
    }
   },
   "source": [
    "The accuracy of Chao's estimator is quite reasonable. It isn't always accurate -- particularly at the beginning of a fuzzing campaign when the [discovery probability](WhenIsEnough.ipynb#Measuring-Trace-Coverage-over-Time) is still very high. Nevertheless, it demonstrates the main benefit of reporting a percentage to assess the progress of a fuzzing campaign towards completion.\n",
    "\n",
    "***Try it***. *Try setting `trials` to 1 million and `time` to `int(trials / 4)`.*"
   ]
  },
  {
   "cell_type": "markdown",
   "metadata": {
    "button": false,
    "new_sheet": false,
    "run_control": {
     "read_only": false
    },
    "slideshow": {
     "slide_type": "slide"
    }
   },
   "source": [
    "### Extrapolating Fuzzing Success\n",
    "<!--  ## Cost-Benefit Analysis: Extrapolating the Number of Species Discovered -->\n",
    "\n",
    "Suppose you have run the fuzzer for a week, which generated $n$ fuzz inputs and discovered $S(n)$ species (here, covered $S(n)$ execution traces). Instead, of running the fuzzer for another week, you would like to *predict* how many more species you would discover. In 2003, Anne Chao and her team developed an extrapolation methodology to do just that. We are interested in the number $S(n+m^*)$ of species discovered if $m^*$ more fuzz inputs were generated:\n",
    "\n",
    "\\begin{align}\n",
    "\\hat S(n + m^*) = S(n) + \\hat f_0 \\left[1-\\left(1-\\frac{f_1}{n\\hat f_0 + f_1}\\right)^{m^*}\\right]\n",
    "\\end{align}\n",
    "* where $\\hat f_0=\\hat S - S(n)$ is an estimate of the number $f_0$ of undiscovered species, and \n",
    "* where $f_1$ is the number of singleton species, i.e., those we have observed exactly once. \n",
    "\n",
    "The number $f_1$ of singletons, we can just keep track of during the fuzzing campaign itself. The estimate of the number $\\hat f_0$ of undiscovered species, we can simply derive using Chao's estimate $\\hat S$ and the number of observed species $S(n)$.\n",
    "\n",
    "Let's see how Chao's extrapolator performs by comparing the predicted number of species to the empirical number of species."
   ]
  },
  {
   "cell_type": "code",
   "execution_count": 84,
   "metadata": {
    "execution": {
     "iopub.execute_input": "2022-08-06T22:57:43.489652Z",
     "iopub.status.busy": "2022-08-06T22:57:43.473589Z",
     "iopub.status.idle": "2022-08-06T22:57:43.490826Z",
     "shell.execute_reply": "2022-08-06T22:57:43.491146Z"
    },
    "slideshow": {
     "slide_type": "subslide"
    }
   },
   "outputs": [],
   "source": [
    "prediction_ts = [None] * time\n",
    "f0 = hat_S - Sn\n",
    "\n",
    "for m in range(trials - time):\n",
    "    assert (time * f0 + f1) != 0 , 'time:%s f0:%s f1:%s' % (time, f0,f1)\n",
    "    prediction_ts.append(Sn + f0 * (1 - (1 - f1 / (time * f0 + f1)) ** m))"
   ]
  },
  {
   "cell_type": "code",
   "execution_count": 85,
   "metadata": {
    "execution": {
     "iopub.execute_input": "2022-08-06T22:57:43.503999Z",
     "iopub.status.busy": "2022-08-06T22:57:43.503659Z",
     "iopub.status.idle": "2022-08-06T22:57:45.178798Z",
     "shell.execute_reply": "2022-08-06T22:57:45.179010Z"
    },
    "slideshow": {
     "slide_type": "subslide"
    }
   },
   "outputs": [
    {
     "data": {
      "image/png": "[encoded data removed]",
      "text/plain": [
       "<Figure size 960x240 with 3 Axes>"
      ]
     },
     "metadata": {},
     "output_type": "display_data"
    }
   ],
   "source": [
    "plt.figure(num=None, figsize=(12, 3), dpi=80, facecolor='w', edgecolor='k')\n",
    "plt.subplot(1, 3, 1)\n",
    "plt.plot(trace_ts, color='white')\n",
    "plt.plot(trace_ts[:time])\n",
    "plt.xticks(range(0, trials + 1, int(time)))\n",
    "plt.xlabel('# of fuzz inputs')\n",
    "plt.ylabel('# of traces exercised')\n",
    "\n",
    "plt.subplot(1, 3, 2)\n",
    "line_cur, = plt.plot(trace_ts[:time], label=\"Ongoing fuzzing campaign\")\n",
    "line_pred, = plt.plot(prediction_ts, linestyle='--',\n",
    "                      color='black', label=\"Predicted progress\")\n",
    "plt.legend(handles=[line_cur, line_pred])\n",
    "plt.xticks(range(0, trials + 1, int(time)))\n",
    "plt.xlabel('# of fuzz inputs')\n",
    "plt.ylabel('# of traces exercised')\n",
    "\n",
    "plt.subplot(1, 3, 3)\n",
    "line_emp, = plt.plot(trace_ts, color='grey', label=\"Actual progress\")\n",
    "line_cur, = plt.plot(trace_ts[:time], label=\"Ongoing fuzzing campaign\")\n",
    "line_pred, = plt.plot(prediction_ts, linestyle='--',\n",
    "                      color='black', label=\"Predicted progress\")\n",
    "plt.legend(handles=[line_emp, line_cur, line_pred])\n",
    "plt.xticks(range(0, trials + 1, int(time)))\n",
    "plt.xlabel('# of fuzz inputs')\n",
    "plt.ylabel('# of traces exercised');"
   ]
  },
  {
   "cell_type": "markdown",
   "metadata": {
    "slideshow": {
     "slide_type": "subslide"
    }
   },
   "source": [
    "The prediction from Chao's extrapolator looks quite accurate. We make a prediction at `time=trials/4`. Despite an extrapolation by 3 times (i.e., at trials), we can see that the predicted value (black, dashed line) closely matches the empirical value (grey, solid line).\n",
    "\n",
    "***Try it***. Again, try setting `trials` to 1 million and `time` to `int(trials / 4)`."
   ]
  },
  {
   "cell_type": "markdown",
   "metadata": {
    "button": false,
    "new_sheet": true,
    "run_control": {
     "read_only": false
    },
    "slideshow": {
     "slide_type": "slide"
    }
   },
   "source": [
    "## Lessons Learned\n",
    "\n",
    "* One can measure the _progress_ of a fuzzing campaign (as species over time, i.e., $S(n)$).\n",
    "* One can measure the _effectiveness_ of a fuzzing campaign (as asymptotic total number of species $S$).\n",
    "* One can estimate the _effectiveness_ of a fuzzing campaign using the Chao1-estimator $\\hat S$.\n",
    "* One can extrapolate the _progress_ of a fuzzing campaign, $\\hat S(n+m^*)$.\n",
    "* One can estimate the _residual risk_ (i.e., the probability that a bug exists that has not been found) using the Good-Turing estimator $GT$ of the species discovery probability."
   ]
  },
  {
   "cell_type": "markdown",
   "metadata": {
    "button": false,
    "new_sheet": false,
    "run_control": {
     "read_only": false
    },
    "slideshow": {
     "slide_type": "slide"
    }
   },
   "source": [
    "## Next Steps\n",
    "\n",
    "This chapter is the last in the book!  If you want to continue reading, have a look at the [Appendices](99_Appendices.ipynb).  Otherwise, _make use of what you have learned and go and create great fuzzers and test generators!_"
   ]
  },
  {
   "cell_type": "markdown",
   "metadata": {
    "slideshow": {
     "slide_type": "slide"
    }
   },
   "source": [
    "## Background\n",
    "\n",
    "* A **statistical framework for fuzzing**, inspired from ecology. Marcel Böhme. [STADS: Software Testing as Species Discovery](https://mboehme.github.io/paper/TOSEM18.pdf). ACM TOSEM 27(2):1--52\n",
    "* Estimating the **discovery probability**: I.J. Good. 1953. [The population frequencies of species and the\n",
    "estimation of population parameters](https://www.jstor.org/stable/2333344). Biometrika 40:237–264.\n",
    "* Estimating the **asymptotic total number of species** when each input can belong to exactly one species: Anne Chao. 1984. [Nonparametric estimation of the number of classes in a population](https://www.jstor.org/stable/4615964). Scandinavian Journal of Statistics 11:265–270\n",
    "* Estimating the **asymptotic total number of species** when each input can belong to one or more species: Anne Chao. 1987. [Estimating the population size for capture-recapture data with unequal catchability](https://www.jstor.org/stable/2531532). Biometrics 43:783–791\n",
    "* **Extrapolating** the number of discovered species: Tsung-Jen Shen, Anne Chao, and Chih-Feng Lin. 2003. [Predicting the Number of New Species in Further Taxonomic Sampling](http://chao.stat.nthu.edu.tw/wordpress/paper/2003_Ecology_84_P798.pdf). Ecology 84, 3 (2003), 798–804."
   ]
  },
  {
   "cell_type": "markdown",
   "metadata": {
    "button": false,
    "new_sheet": true,
    "run_control": {
     "read_only": false
    },
    "slideshow": {
     "slide_type": "slide"
    }
   },
   "source": [
    "## Exercises\n",
    "I.J. Good and Alan Turing developed an estimator for the case where each input belongs to exactly one species. For instance, each input yields exactly one execution trace (see function [`getTraceHash`](#Trace-Coverage)). However, this is not true in general. For instance, each input exercises multiple statements and branches in the source code. Generally, each input can belong to one *or more* species. \n",
    "\n",
    "In this extended model, the underlying statistics are quite different. Yet, all estimators that we have discussed in this chapter turn out to be almost identical to those for the simple, single-species model. For instance, the Good-Turing estimator $C$ is defined as \n",
    "$$C=\\frac{Q_1}{n}$$ \n",
    "where $Q_1$ is the number of singleton species and $n$ is the number of generated test cases.\n",
    "Throughout the fuzzing campaign, we record for each species the *incidence frequency*, i.e., the number of inputs that belong to that species. Again, we define a species $i$ as *singleton species* if we have seen exactly one input that belongs to species $i$."
   ]
  },
  {
   "cell_type": "markdown",
   "metadata": {
    "slideshow": {
     "slide_type": "fragment"
    },
    "solution2": "shown",
    "solution2_first": true
   },
   "source": [
    "### Exercise 1: Estimate and Evaluate the Discovery Probability for Statement Coverage\n",
    "\n",
    "In this exercise, we create a Good-Turing estimator for the simple fuzzer."
   ]
  },
  {
   "cell_type": "markdown",
   "metadata": {
    "slideshow": {
     "slide_type": "fragment"
    },
    "solution2": "shown",
    "solution2_first": true
   },
   "source": [
    "#### Part 1: Population Coverage\n",
    "\n",
    "Implement a function `population_stmt_coverage()` as in [the section on estimating discovery probability](#Estimating-the-Discovery-Probability) that monitors the number of singletons and doubletons over time, i.e., as the number $i$ of test inputs increases."
   ]
  },
  {
   "cell_type": "code",
   "execution_count": 86,
   "metadata": {
    "execution": {
     "iopub.execute_input": "2022-08-06T22:57:45.181738Z",
     "iopub.status.busy": "2022-08-06T22:57:45.181275Z",
     "iopub.status.idle": "2022-08-06T22:57:45.182766Z",
     "shell.execute_reply": "2022-08-06T22:57:45.183054Z"
    },
    "slideshow": {
     "slide_type": "skip"
    },
    "solution2": "hidden",
    "solution2_first": true
   },
   "outputs": [],
   "source": [
    "from Coverage import population_coverage\n",
    "..."
   ]
  },
  {
   "cell_type": "markdown",
   "metadata": {
    "slideshow": {
     "slide_type": "skip"
    },
    "solution2": "hidden"
   },
   "source": [
    "**Solution.** Here we go:"
   ]
  },
  {
   "cell_type": "code",
   "execution_count": 87,
   "metadata": {
    "execution": {
     "iopub.execute_input": "2022-08-06T22:57:45.186734Z",
     "iopub.status.busy": "2022-08-06T22:57:45.186189Z",
     "iopub.status.idle": "2022-08-06T22:57:45.187733Z",
     "shell.execute_reply": "2022-08-06T22:57:45.188009Z"
    },
    "slideshow": {
     "slide_type": "skip"
    },
    "solution2": "hidden"
   },
   "outputs": [],
   "source": [
    "def population_stmt_coverage(population, function):\n",
    "    cumulative_coverage = []\n",
    "    all_coverage = set()\n",
    "    cumulative_singletons = []\n",
    "    cumulative_doubletons = []\n",
    "    singletons = set()\n",
    "    doubletons = set()\n",
    "\n",
    "    for s in population:\n",
    "        with Coverage() as cov:\n",
    "            try:\n",
    "                function(s)\n",
    "            except BaseException:\n",
    "                pass\n",
    "        cur_coverage = cov.coverage()\n",
    "\n",
    "        # singletons and doubletons\n",
    "        doubletons -= cur_coverage\n",
    "        doubletons |= singletons & cur_coverage\n",
    "        singletons -= cur_coverage\n",
    "        singletons |= cur_coverage - (cur_coverage & all_coverage)\n",
    "        cumulative_singletons.append(len(singletons))\n",
    "        cumulative_doubletons.append(len(doubletons))\n",
    "\n",
    "        # all and cumulative coverage\n",
    "        all_coverage |= cur_coverage\n",
    "        cumulative_coverage.append(len(all_coverage))\n",
    "\n",
    "    return all_coverage, cumulative_coverage, cumulative_singletons, cumulative_doubletons"
   ]
  },
  {
   "cell_type": "markdown",
   "metadata": {
    "slideshow": {
     "slide_type": "fragment"
    },
    "solution2": "shown",
    "solution2_first": true
   },
   "source": [
    "#### Part 2: Population\n",
    "\n",
    "Use the random `fuzzer(min_length=1, max_length=1000, char_start=0, char_range=255)` from [the chapter on Fuzzers](Fuzzer.ipynb) to generate a population of $n=10000$ fuzz inputs."
   ]
  },
  {
   "cell_type": "code",
   "execution_count": 88,
   "metadata": {
    "cell_style": "split",
    "execution": {
     "iopub.execute_input": "2022-08-06T22:57:45.190171Z",
     "iopub.status.busy": "2022-08-06T22:57:45.189767Z",
     "iopub.status.idle": "2022-08-06T22:57:45.191220Z",
     "shell.execute_reply": "2022-08-06T22:57:45.191494Z"
    },
    "slideshow": {
     "slide_type": "skip"
    },
    "solution2": "hidden",
    "solution2_first": true
   },
   "outputs": [],
   "source": [
    "from Fuzzer import RandomFuzzer\n",
    "from html.parser import HTMLParser\n",
    "...;"
   ]
  },
  {
   "cell_type": "markdown",
   "metadata": {
    "slideshow": {
     "slide_type": "skip"
    },
    "solution2": "hidden"
   },
   "source": [
    "**Solution.**  This is fairly straightforward:"
   ]
  },
  {
   "cell_type": "code",
   "execution_count": 89,
   "metadata": {
    "cell_style": "split",
    "execution": {
     "iopub.execute_input": "2022-08-06T22:57:45.193850Z",
     "iopub.status.busy": "2022-08-06T22:57:45.193263Z",
     "iopub.status.idle": "2022-08-06T22:57:45.195054Z",
     "shell.execute_reply": "2022-08-06T22:57:45.195432Z"
    },
    "slideshow": {
     "slide_type": "skip"
    },
    "solution2": "hidden"
   },
   "outputs": [],
   "source": [
    "trials = 2000  # increase to 10000 for better convergences. Will take a while.."
   ]
  },
  {
   "cell_type": "markdown",
   "metadata": {
    "slideshow": {
     "slide_type": "skip"
    },
    "solution2": "hidden"
   },
   "source": [
    "We create a wrapper function..."
   ]
  },
  {
   "cell_type": "code",
   "execution_count": 90,
   "metadata": {
    "cell_style": "split",
    "execution": {
     "iopub.execute_input": "2022-08-06T22:57:45.198087Z",
     "iopub.status.busy": "2022-08-06T22:57:45.197650Z",
     "iopub.status.idle": "2022-08-06T22:57:45.199119Z",
     "shell.execute_reply": "2022-08-06T22:57:45.199381Z"
    },
    "slideshow": {
     "slide_type": "skip"
    },
    "solution2": "hidden"
   },
   "outputs": [],
   "source": [
    "def html_parser(inp):\n",
    "    parser = HTMLParser()  # resets the HTMLParser object for every fuzz input\n",
    "    parser.feed(inp)"
   ]
  },
  {
   "cell_type": "markdown",
   "metadata": {
    "slideshow": {
     "slide_type": "skip"
    },
    "solution2": "hidden"
   },
   "source": [
    "... and a random fuzzer:"
   ]
  },
  {
   "cell_type": "code",
   "execution_count": 91,
   "metadata": {
    "cell_style": "split",
    "execution": {
     "iopub.execute_input": "2022-08-06T22:57:45.201429Z",
     "iopub.status.busy": "2022-08-06T22:57:45.201101Z",
     "iopub.status.idle": "2022-08-06T22:57:45.202285Z",
     "shell.execute_reply": "2022-08-06T22:57:45.202524Z"
    },
    "slideshow": {
     "slide_type": "skip"
    },
    "solution2": "hidden"
   },
   "outputs": [],
   "source": [
    "fuzzer = RandomFuzzer(min_length=1, max_length=1000,\n",
    "                      char_start=0, char_range=255)"
   ]
  },
  {
   "cell_type": "markdown",
   "metadata": {
    "slideshow": {
     "slide_type": "skip"
    },
    "solution2": "hidden"
   },
   "source": [
    "We fill the population:"
   ]
  },
  {
   "cell_type": "code",
   "execution_count": 92,
   "metadata": {
    "cell_style": "split",
    "execution": {
     "iopub.execute_input": "2022-08-06T22:57:45.301540Z",
     "iopub.status.busy": "2022-08-06T22:57:45.258272Z",
     "iopub.status.idle": "2022-08-06T22:57:45.616182Z",
     "shell.execute_reply": "2022-08-06T22:57:45.616356Z"
    },
    "slideshow": {
     "slide_type": "skip"
    },
    "solution2": "hidden"
   },
   "outputs": [],
   "source": [
    "population = []\n",
    "for i in range(trials):\n",
    "    population.append(fuzzer.fuzz())"
   ]
  },
  {
   "cell_type": "markdown",
   "metadata": {
    "slideshow": {
     "slide_type": "fragment"
    },
    "solution2": "hidden",
    "solution2_first": true
   },
   "source": [
    "#### Part 3: Estimating Probabilities\n",
    "\n",
    "Execute the generated inputs on the Python HTML parser (`from html.parser import HTMLParser`) and estimate the probability that the next input covers a previously uncovered statement (i.e., the discovery probability) using the Good-Turing estimator."
   ]
  },
  {
   "cell_type": "markdown",
   "metadata": {
    "slideshow": {
     "slide_type": "skip"
    },
    "solution2": "hidden"
   },
   "source": [
    "**Solution.** Here we go:"
   ]
  },
  {
   "cell_type": "code",
   "execution_count": 93,
   "metadata": {
    "execution": {
     "iopub.execute_input": "2022-08-06T22:57:45.708133Z",
     "iopub.status.busy": "2022-08-06T22:57:45.659750Z",
     "iopub.status.idle": "2022-08-06T22:57:45.875241Z",
     "shell.execute_reply": "2022-08-06T22:57:45.875452Z"
    },
    "slideshow": {
     "slide_type": "skip"
    },
    "solution2": "hidden"
   },
   "outputs": [],
   "source": [
    "measurements = 100  # experiment measurements\n",
    "step = int(trials / measurements)\n",
    "\n",
    "gt_timeseries = []\n",
    "singleton_timeseries = population_stmt_coverage(population, my_parser)[2]\n",
    "for i in range(1, trials + 1, step):\n",
    "    gt_timeseries.append(singleton_timeseries[i - 1] / i)"
   ]
  },
  {
   "cell_type": "markdown",
   "metadata": {
    "slideshow": {
     "slide_type": "fragment"
    },
    "solution2": "hidden",
    "solution2_first": true
   },
   "source": [
    "#### Part 4: Empirical Evaluation\n",
    "\n",
    "Empirically evaluate the accuracy of the Good-Turing estimator (using $10000$ repetitions) of the probability to cover new statements using the experimental procedure at the end of [the section on estimating discovery probability](#Estimating-the-Discovery-Probability)."
   ]
  },
  {
   "cell_type": "markdown",
   "metadata": {
    "slideshow": {
     "slide_type": "skip"
    },
    "solution2": "hidden"
   },
   "source": [
    "**Solution.** This is as above:"
   ]
  },
  {
   "cell_type": "code",
   "execution_count": 94,
   "metadata": {
    "execution": {
     "iopub.execute_input": "2022-08-06T22:57:45.877492Z",
     "iopub.status.busy": "2022-08-06T22:57:45.877194Z",
     "iopub.status.idle": "2022-08-06T22:57:45.878413Z",
     "shell.execute_reply": "2022-08-06T22:57:45.878599Z"
    },
    "slideshow": {
     "slide_type": "skip"
    },
    "solution2": "hidden"
   },
   "outputs": [],
   "source": [
    "# increase to 10000 for better precision (less variance). Will take a while..\n",
    "repeats = 100"
   ]
  },
  {
   "cell_type": "code",
   "execution_count": 95,
   "metadata": {
    "execution": {
     "iopub.execute_input": "2022-08-06T22:57:45.940459Z",
     "iopub.status.busy": "2022-08-06T22:57:45.890987Z",
     "iopub.status.idle": "2022-08-06T22:57:49.494578Z",
     "shell.execute_reply": "2022-08-06T22:57:49.494902Z"
    },
    "slideshow": {
     "slide_type": "skip"
    },
    "solution2": "hidden"
   },
   "outputs": [],
   "source": [
    "emp_timeseries = []\n",
    "all_coverage = set()\n",
    "for i in range(0, trials, step):\n",
    "    if i - step >= 0:\n",
    "        for j in range(step):\n",
    "            inp = population[i - j]\n",
    "            with Coverage() as cov:\n",
    "                try:\n",
    "                    my_parser(inp)\n",
    "                except BaseException:\n",
    "                    pass\n",
    "            all_coverage |= cov.coverage()\n",
    "\n",
    "    discoveries = 0\n",
    "    for _ in range(repeats):\n",
    "        inp = fuzzer.fuzz()\n",
    "        with Coverage() as cov:\n",
    "            try:\n",
    "                my_parser(inp)\n",
    "            except BaseException:\n",
    "                pass\n",
    "        # If intersection not empty, a new stmt was (dis)covered\n",
    "        if cov.coverage() - all_coverage:\n",
    "            discoveries += 1\n",
    "    emp_timeseries.append(discoveries / repeats)"
   ]
  },
  {
   "cell_type": "code",
   "execution_count": 96,
   "metadata": {
    "execution": {
     "iopub.execute_input": "2022-08-06T22:57:49.544107Z",
     "iopub.status.busy": "2022-08-06T22:57:49.543599Z",
     "iopub.status.idle": "2022-08-06T22:57:49.701516Z",
     "shell.execute_reply": "2022-08-06T22:57:49.701755Z"
    },
    "slideshow": {
     "slide_type": "skip"
    },
    "solution2": "hidden"
   },
   "outputs": [
    {
     "data": {
      "image/png": "[encoded data removed]",
      "text/plain": [
       "<Figure size 432x288 with 1 Axes>"
      ]
     },
     "metadata": {
      "needs_background": "light"
     },
     "output_type": "display_data"
    }
   ],
   "source": [
    "line_emp, = plt.semilogy(emp_timeseries, label=\"Empirical\")\n",
    "line_gt, = plt.semilogy(gt_timeseries, label=\"Good-Turing\")\n",
    "plt.legend(handles=[line_emp, line_gt])\n",
    "plt.xticks(range(0, measurements + 1, int(measurements / 5)),\n",
    "           range(0, trials + 1, int(trials / 5)))\n",
    "plt.xlabel('# of fuzz inputs')\n",
    "plt.ylabel('discovery probability')\n",
    "plt.title('Discovery Probability Over Time');"
   ]
  },
  {
   "cell_type": "markdown",
   "metadata": {
    "button": false,
    "new_sheet": false,
    "run_control": {
     "read_only": false
    },
    "slideshow": {
     "slide_type": "subslide"
    },
    "solution": "hidden",
    "solution2": "shown",
    "solution2_first": true,
    "solution_first": true
   },
   "source": [
    "### Exercise 2: Extrapolate and Evaluate Statement Coverage\n",
    "\n",
    "In this exercise, we use Chao's extrapolation method to estimate the success of fuzzing."
   ]
  },
  {
   "cell_type": "markdown",
   "metadata": {
    "button": false,
    "new_sheet": false,
    "run_control": {
     "read_only": false
    },
    "slideshow": {
     "slide_type": "subslide"
    },
    "solution": "hidden",
    "solution2": "hidden",
    "solution2_first": true,
    "solution_first": true
   },
   "source": [
    "#### Part 1: Create Population\n",
    "\n",
    "Use the random `fuzzer(min_length=1, max_length=1000, char_start=0, char_range=255)` to generate a population of $n=400000$ fuzz inputs."
   ]
  },
  {
   "cell_type": "markdown",
   "metadata": {
    "button": false,
    "new_sheet": false,
    "run_control": {
     "read_only": false
    },
    "slideshow": {
     "slide_type": "skip"
    },
    "solution": "hidden",
    "solution2": "hidden"
   },
   "source": [
    "**Solution.** Here we go:"
   ]
  },
  {
   "cell_type": "code",
   "execution_count": 97,
   "metadata": {
    "execution": {
     "iopub.execute_input": "2022-08-06T22:57:49.704673Z",
     "iopub.status.busy": "2022-08-06T22:57:49.704243Z",
     "iopub.status.idle": "2022-08-06T22:57:49.705595Z",
     "shell.execute_reply": "2022-08-06T22:57:49.705818Z"
    },
    "slideshow": {
     "slide_type": "skip"
    },
    "solution2": "hidden"
   },
   "outputs": [],
   "source": [
    "trials = 400  # Use 400000 for actual solution.  This takes a while!"
   ]
  },
  {
   "cell_type": "code",
   "execution_count": 98,
   "metadata": {
    "execution": {
     "iopub.execute_input": "2022-08-06T22:57:49.794005Z",
     "iopub.status.busy": "2022-08-06T22:57:49.751016Z",
     "iopub.status.idle": "2022-08-06T22:57:49.847873Z",
     "shell.execute_reply": "2022-08-06T22:57:49.848175Z"
    },
    "slideshow": {
     "slide_type": "skip"
    },
    "solution2": "hidden"
   },
   "outputs": [],
   "source": [
    "population = []\n",
    "for i in range(trials):\n",
    "    population.append(fuzzer.fuzz())\n",
    "\n",
    "_, stmt_ts, Q1_ts, Q2_ts = population_stmt_coverage(population, my_parser)"
   ]
  },
  {
   "cell_type": "markdown",
   "metadata": {
    "button": false,
    "new_sheet": false,
    "run_control": {
     "read_only": false
    },
    "slideshow": {
     "slide_type": "subslide"
    },
    "solution": "hidden",
    "solution2": "hidden",
    "solution2_first": true,
    "solution_first": true
   },
   "source": [
    "#### Part 2: Compute Estimate\n",
    "\n",
    "Compute an estimate of the total number of statements $\\hat S$ after $n/4=100000$ fuzz inputs were generated. In the extended model, $\\hat S$ is computed as\n",
    "\\begin{align}\n",
    "\\hat S_\\text{Chao1} = \\begin{cases}\n",
    "S(n) + \\frac{Q_1^2}{2Q_2} & \\text{if $Q_2>0$}\\\\\n",
    "S(n) + \\frac{Q_1(Q_1-1)}{2} & \\text{otherwise}\n",
    "\\end{cases}\n",
    "\\end{align}\n",
    "  * where $Q_1$ and $Q_2$ is the number of singleton and doubleton statements, respectively (i.e., statements that have been exercised by exactly one or two fuzz inputs, resp.), and \n",
    "  * where $S(n)$ is the number of statements that have been (dis)covered after generating $n$ fuzz inputs."
   ]
  },
  {
   "cell_type": "markdown",
   "metadata": {
    "slideshow": {
     "slide_type": "skip"
    },
    "solution2": "hidden"
   },
   "source": [
    "**Solution.** Here we go:"
   ]
  },
  {
   "cell_type": "code",
   "execution_count": 99,
   "metadata": {
    "execution": {
     "iopub.execute_input": "2022-08-06T22:57:49.851470Z",
     "iopub.status.busy": "2022-08-06T22:57:49.850987Z",
     "iopub.status.idle": "2022-08-06T22:57:49.852441Z",
     "shell.execute_reply": "2022-08-06T22:57:49.852753Z"
    },
    "slideshow": {
     "slide_type": "skip"
    },
    "solution2": "hidden"
   },
   "outputs": [
    {
     "name": "stdout",
     "output_type": "stream",
     "text": [
      "After executing 100 fuzz inputs, we have covered 132 **(66.7 %)** statements.\n",
      "After executing 100 fuzz inputs, we estimate there are 198 statements in total.\n",
      "After executing 400 fuzz inputs, we have covered 155 statements.\n"
     ]
    }
   ],
   "source": [
    "time = int(trials / 4)\n",
    "Q1 = Q1_ts[time]\n",
    "Q2 = Q2_ts[time]\n",
    "Sn = stmt_ts[time]\n",
    "\n",
    "if Q2 > 0:\n",
    "    hat_S = Sn + Q1 * Q1 / (2 * Q2)\n",
    "else:\n",
    "    hat_S = Sn + Q1 * (Q1 - 1) / 2\n",
    "\n",
    "print(\"After executing %d fuzz inputs, we have covered %d **(%.1f %%)** statements.\\n\" % (time, Sn, 100 * Sn / hat_S) +\n",
    "      \"After executing %d fuzz inputs, we estimate there are %d statements in total.\\n\" % (time, hat_S) +\n",
    "      \"After executing %d fuzz inputs, we have covered %d statements.\" % (trials, stmt_ts[trials - 1]))"
   ]
  },
  {
   "cell_type": "markdown",
   "metadata": {
    "button": false,
    "new_sheet": false,
    "run_control": {
     "read_only": false
    },
    "slideshow": {
     "slide_type": "subslide"
    },
    "solution": "hidden",
    "solution2": "hidden",
    "solution2_first": true,
    "solution_first": true,
    "toc-hr-collapsed": false
   },
   "source": [
    "#### Part 3: Compute and Evaluate Extrapolator\n",
    "\n",
    "Compute and evaluate Chao's extrapolator by comparing the predicted number of statements to the empirical number of statements."
   ]
  },
  {
   "cell_type": "markdown",
   "metadata": {
    "slideshow": {
     "slide_type": "skip"
    },
    "solution2": "hidden"
   },
   "source": [
    "**Solution.** Here's our solution:"
   ]
  },
  {
   "cell_type": "code",
   "execution_count": 100,
   "metadata": {
    "execution": {
     "iopub.execute_input": "2022-08-06T22:57:49.856442Z",
     "iopub.status.busy": "2022-08-06T22:57:49.856128Z",
     "iopub.status.idle": "2022-08-06T22:57:49.857410Z",
     "shell.execute_reply": "2022-08-06T22:57:49.857669Z"
    },
    "slideshow": {
     "slide_type": "skip"
    },
    "solution2": "hidden"
   },
   "outputs": [],
   "source": [
    "prediction_ts = [None] * time\n",
    "Q0 = hat_S - Sn\n",
    "\n",
    "for m in range(trials - time):\n",
    "    prediction_ts.append(Sn + Q0 * (1 - (1 - Q1 / (time * Q0 + Q1)) ** m))"
   ]
  },
  {
   "cell_type": "code",
   "execution_count": 101,
   "metadata": {
    "execution": {
     "iopub.execute_input": "2022-08-06T22:57:49.864516Z",
     "iopub.status.busy": "2022-08-06T22:57:49.864162Z",
     "iopub.status.idle": "2022-08-06T22:57:49.996588Z",
     "shell.execute_reply": "2022-08-06T22:57:49.997555Z"
    },
    "slideshow": {
     "slide_type": "skip"
    },
    "solution2": "hidden"
   },
   "outputs": [
    {
     "data": {
      "image/png": "[encoded data removed]",
      "text/plain": [
       "<Figure size 960x240 with 3 Axes>"
      ]
     },
     "metadata": {},
     "output_type": "display_data"
    }
   ],
   "source": [
    "plt.figure(num=None, figsize=(12, 3), dpi=80, facecolor='w', edgecolor='k')\n",
    "plt.subplot(1, 3, 1)\n",
    "plt.plot(stmt_ts, color='white')\n",
    "plt.plot(stmt_ts[:time])\n",
    "plt.xticks(range(0, trials + 1, int(time)))\n",
    "plt.xlabel('# of fuzz inputs')\n",
    "plt.ylabel('# of statements exercised')\n",
    "\n",
    "plt.subplot(1, 3, 2)\n",
    "line_cur, = plt.plot(stmt_ts[:time], label=\"Ongoing fuzzing campaign\")\n",
    "line_pred, = plt.plot(prediction_ts, linestyle='--',\n",
    "                      color='black', label=\"Predicted progress\")\n",
    "plt.legend(handles=[line_cur, line_pred])\n",
    "plt.xticks(range(0, trials + 1, int(time)))\n",
    "plt.xlabel('# of fuzz inputs')\n",
    "plt.ylabel('# of statements exercised')\n",
    "\n",
    "plt.subplot(1, 3, 3)\n",
    "line_emp, = plt.plot(stmt_ts, color='grey', label=\"Actual progress\")\n",
    "line_cur, = plt.plot(stmt_ts[:time], label=\"Ongoing fuzzing campaign\")\n",
    "line_pred, = plt.plot(prediction_ts, linestyle='--',\n",
    "                      color='black', label=\"Predicted progress\")\n",
    "plt.legend(handles=[line_emp, line_cur, line_pred])\n",
    "plt.xticks(range(0, trials + 1, int(time)))\n",
    "plt.xlabel('# of fuzz inputs')\n",
    "plt.ylabel('# of statements exercised');"
   ]
  }
 ],
 "metadata": {
  "ipub": {
   "bibliography": "fuzzingbook.bib",
   "toc": true
  },
  "kernelspec": {
   "display_name": "Python 3 (ipykernel)",
   "language": "python",
   "name": "python3"
  },
  "language_info": {
   "codemirror_mode": {
    "name": "ipython",
    "version": 3
   },
   "file_extension": ".py",
   "mimetype": "text/x-python",
   "name": "python",
   "nbconvert_exporter": "python",
   "pygments_lexer": "ipython3",
   "version": "3.10.2"
  },
  "toc": {
   "base_numbering": 1,
   "nav_menu": {},
   "number_sections": true,
   "sideBar": true,
   "skip_h1_title": true,
   "title_cell": "",
   "title_sidebar": "Contents",
   "toc_cell": false,
   "toc_position": {},
   "toc_section_display": true,
   "toc_window_display": true
  },
  "toc-autonumbering": false,
  "varInspector": {
   "cols": {
    "lenName": 16,
    "lenType": 16,
    "lenVar": 40
   },
   "kernels_config": {
    "python": {
     "delete_cmd_postfix": "",
     "delete_cmd_prefix": "del ",
     "library": "var_list.py",
     "varRefreshCmd": "print(var_dic_list())"
    },
    "r": {
     "delete_cmd_postfix": ") ",
     "delete_cmd_prefix": "rm(",
     "library": "var_list.r",
     "varRefreshCmd": "cat(var_dic_list()) "
    }
   },
   "types_to_exclude": [
    "module",
    "function",
    "builtin_function_or_method",
    "instance",
    "_Feature"
   ],
   "window_display": false
  }
 },
 "nbformat": 4,
 "nbformat_minor": 4
}
