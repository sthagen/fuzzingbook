{
 "cells": [
  {
   "cell_type": "markdown",
   "metadata": {
    "button": false,
    "new_sheet": false,
    "run_control": {
     "read_only": false
    },
    "slideshow": {
     "slide_type": "slide"
    }
   },
   "source": [
    "# Mutation Analysis\n",
    "\n",
    "In the [chapter on coverage](Coverage.ipynb), we showed how one can identify which parts of the program are executed by a program, and hence get a sense of the effectiveness of a set of test cases in covering the program structure.  However, coverage alone may not be the best measure for the effectiveness of a test, as one can have great coverage without ever checking a result for correctness.  In this chapter, we introduce another means for assessing the effectiveness of a test suite: After injecting *mutations* – _artificial faults_ – into the code, we check whether a test suite can detect these artificial faults.  The idea is that if it fails to detect such mutations, it will also miss real bugs."
   ]
  },
  {
   "cell_type": "markdown",
   "metadata": {
    "button": false,
    "new_sheet": false,
    "run_control": {
     "read_only": false
    },
    "slideshow": {
     "slide_type": "subslide"
    }
   },
   "source": [
    "**Prerequisites**\n",
    "\n",
    "* You need some understanding of how a program is executed.\n",
    "* You should have read [the chapter on coverage](Coverage.ipynb)."
   ]
  },
  {
   "cell_type": "markdown",
   "metadata": {
    "slideshow": {
     "slide_type": "skip"
    }
   },
   "source": [
    "## Synopsis\n",
    "<!-- Automatically generated. Do not edit. -->\n",
    "\n",
    "To [use the code provided in this chapter](Importing.ipynb), write\n",
    "\n",
    "```python\n",
    ">>> from fuzzingbook.MutationAnalysis import <identifier>\n",
    "```\n",
    "\n",
    "and then make use of the following features.\n",
    "\n",
    "\n",
    "This chapter introduces two methods of running *mutation analysis* on subject programs. The first class `MuFunctionAnalyzer` targets individual functions. Given a function `gcd` and two test cases evaluate, one can run mutation analysis on the test cases as follows:\n",
    "\n",
    "```python\n",
    ">>> for mutant in MuFunctionAnalyzer(gcd, log=True):\n",
    ">>>     with mutant:\n",
    ">>>         assert gcd(1, 0) == 1, \"Minimal\"\n",
    ">>>         assert gcd(0, 1) == 1, \"Mirror\"\n",
    ">>> mutant.pm.score()\n",
    "->\tgcd_1\n",
    "<-\tgcd_1\n",
    "Detected gcd_1 <class 'UnboundLocalError'> local variable 'c' referenced before assignment\n",
    "\n",
    "->\tgcd_2\n",
    "<-\tgcd_2\n",
    "Detected gcd_2 <class 'AssertionError'> Mirror\n",
    "\n",
    "->\tgcd_3\n",
    "<-\tgcd_3\n",
    "\n",
    "->\tgcd_4\n",
    "<-\tgcd_4\n",
    "\n",
    "->\tgcd_5\n",
    "<-\tgcd_5\n",
    "\n",
    "->\tgcd_6\n",
    "<-\tgcd_6\n",
    "\n",
    "->\tgcd_7\n",
    "<-\tgcd_7\n",
    "Detected gcd_7 <class 'AssertionError'> Minimal\n",
    "\n",
    "\n",
    "0.42857142857142855\n",
    "```\n",
    "The second class `MuProgramAnalyzer` targets standalone programs with test suites. Given a program `gcd` whose source code is provided in `gcd_src` and the test suite is provided by `TestGCD`, one can evaluate the mutation score of `TestGCD` as follows:\n",
    "\n",
    "```python\n",
    ">>> class TestGCD(unittest.TestCase):\n",
    ">>>     def test_simple(self):\n",
    ">>>         assert cfg.gcd(1, 0) == 1\n",
    ">>> \n",
    ">>>     def test_mirror(self):\n",
    ">>>         assert cfg.gcd(0, 1) == 1\n",
    ">>> for mutant in MuProgramAnalyzer('gcd', gcd_src):\n",
    ">>>     mutant[test_module].runTest('TestGCD')\n",
    ">>> mutant.pm.score()\n",
    "======================================================================\n",
    "FAIL: test_simple (__main__.TestGCD)\n",
    "----------------------------------------------------------------------\n",
    "Traceback (most recent call last):\n",
    "  File \"/var/folders/n2/xd9445p97rb3xh7m1dfx8_4h0006ts/T/ipykernel_7220/2565918356.py\", line 3, in test_simple\n",
    "    assert cfg.gcd(1, 0) == 1\n",
    "AssertionError\n",
    "\n",
    "----------------------------------------------------------------------\n",
    "Ran 1 test in 0.000s\n",
    "\n",
    "FAILED (failures=1)\n",
    "======================================================================\n",
    "FAIL: test_simple (__main__.TestGCD)\n",
    "----------------------------------------------------------------------\n",
    "Traceback (most recent call last):\n",
    "  File \"/var/folders/n2/xd9445p97rb3xh7m1dfx8_4h0006ts/T/ipykernel_7220/2565918356.py\", line 3, in test_simple\n",
    "    assert cfg.gcd(1, 0) == 1\n",
    "AssertionError\n",
    "\n",
    "----------------------------------------------------------------------\n",
    "Ran 1 test in 0.000s\n",
    "\n",
    "FAILED (failures=1)\n",
    "======================================================================\n",
    "FAIL: test_simple (__main__.TestGCD)\n",
    "----------------------------------------------------------------------\n",
    "Traceback (most recent call last):\n",
    "  File \"/var/folders/n2/xd9445p97rb3xh7m1dfx8_4h0006ts/T/ipykernel_7220/2565918356.py\", line 3, in test_simple\n",
    "    assert cfg.gcd(1, 0) == 1\n",
    "AssertionError\n",
    "\n",
    "----------------------------------------------------------------------\n",
    "Ran 1 test in 0.000s\n",
    "\n",
    "FAILED (failures=1)\n",
    "======================================================================\n",
    "FAIL: test_simple (__main__.TestGCD)\n",
    "----------------------------------------------------------------------\n",
    "Traceback (most recent call last):\n",
    "  File \"/var/folders/n2/xd9445p97rb3xh7m1dfx8_4h0006ts/T/ipykernel_7220/2565918356.py\", line 3, in test_simple\n",
    "    assert cfg.gcd(1, 0) == 1\n",
    "AssertionError\n",
    "\n",
    "----------------------------------------------------------------------\n",
    "Ran 1 test in 0.000s\n",
    "\n",
    "FAILED (failures=1)\n",
    "======================================================================\n",
    "FAIL: test_simple (__main__.TestGCD)\n",
    "----------------------------------------------------------------------\n",
    "Traceback (most recent call last):\n",
    "  File \"/var/folders/n2/xd9445p97rb3xh7m1dfx8_4h0006ts/T/ipykernel_7220/2565918356.py\", line 3, in test_simple\n",
    "    assert cfg.gcd(1, 0) == 1\n",
    "AssertionError\n",
    "\n",
    "----------------------------------------------------------------------\n",
    "Ran 1 test in 0.000s\n",
    "\n",
    "FAILED (failures=1)\n",
    "======================================================================\n",
    "FAIL: test_simple (__main__.TestGCD)\n",
    "----------------------------------------------------------------------\n",
    "Traceback (most recent call last):\n",
    "  File \"/var/folders/n2/xd9445p97rb3xh7m1dfx8_4h0006ts/T/ipykernel_7220/2565918356.py\", line 3, in test_simple\n",
    "    assert cfg.gcd(1, 0) == 1\n",
    "AssertionError\n",
    "\n",
    "----------------------------------------------------------------------\n",
    "Ran 1 test in 0.000s\n",
    "\n",
    "FAILED (failures=1)\n",
    "======================================================================\n",
    "FAIL: test_simple (__main__.TestGCD)\n",
    "----------------------------------------------------------------------\n",
    "Traceback (most recent call last):\n",
    "  File \"/var/folders/n2/xd9445p97rb3xh7m1dfx8_4h0006ts/T/ipykernel_7220/2565918356.py\", line 3, in test_simple\n",
    "    assert cfg.gcd(1, 0) == 1\n",
    "AssertionError\n",
    "\n",
    "----------------------------------------------------------------------\n",
    "Ran 1 test in 0.000s\n",
    "\n",
    "FAILED (failures=1)\n",
    "\n",
    "1.0\n",
    "```\n",
    "The mutation score thus obtained is a better indicator of the quality of a given test suite than pure coverage.\n",
    "\n"
   ]
  },
  {
   "cell_type": "markdown",
   "metadata": {
    "button": false,
    "new_sheet": false,
    "run_control": {
     "read_only": false
    },
    "slideshow": {
     "slide_type": "slide"
    }
   },
   "source": [
    "## Why Structural Coverage is Not Enough\n",
    "\n",
    "One of the problems with [structural coverage](Coverage.ipynb) measures is that it fails to check whether the program executions generated by the test suite were actually _correct_. That is, an execution that produces a wrong output that is unnoticed by the test suite is counted exactly the same as an execution that produces the right output for coverage. Indeed, if one deletes the assertions in a typical test case, the coverage would not change for the new test suite, but the new test suite is much less useful than the original one.  As an example, consider this \"test\":"
   ]
  },
  {
   "cell_type": "code",
   "execution_count": 1,
   "metadata": {
    "execution": {
     "iopub.execute_input": "2022-01-11T09:09:51.881077Z",
     "iopub.status.busy": "2022-01-11T09:09:51.879694Z",
     "iopub.status.idle": "2022-01-11T09:09:51.884478Z",
     "shell.execute_reply": "2022-01-11T09:09:51.883901Z"
    },
    "slideshow": {
     "slide_type": "fragment"
    }
   },
   "outputs": [],
   "source": [
    "def ineffective_test_1():\n",
    "    execute_the_program_as_a_whole()\n",
    "    assert True"
   ]
  },
  {
   "cell_type": "markdown",
   "metadata": {
    "slideshow": {
     "slide_type": "subslide"
    }
   },
   "source": [
    "The final assertion here will always pass, no matter what `execute_the_program_as_a_whole()` will do.  Okay, if `execute_the_program_as_a_whole()` raises an exception, the test will fail, but we can also get around that:"
   ]
  },
  {
   "cell_type": "code",
   "execution_count": 2,
   "metadata": {
    "execution": {
     "iopub.execute_input": "2022-01-11T09:09:51.888563Z",
     "iopub.status.busy": "2022-01-11T09:09:51.887830Z",
     "iopub.status.idle": "2022-01-11T09:09:51.889709Z",
     "shell.execute_reply": "2022-01-11T09:09:51.890118Z"
    },
    "slideshow": {
     "slide_type": "fragment"
    }
   },
   "outputs": [],
   "source": [
    "def ineffective_test_2():\n",
    "    try:\n",
    "        execute_the_program_as_a_whole()\n",
    "    except:\n",
    "        pass\n",
    "    assert True"
   ]
  },
  {
   "cell_type": "markdown",
   "metadata": {
    "slideshow": {
     "slide_type": "fragment"
    }
   },
   "source": [
    "The problem with these \"tests\", however, is that `execute_the_program_as_a_whole()` may achieve 100% code coverage (or 100% of any other structural coverage metric).  Yet, this number of 100% does not reflect the ability of the test to discover bugs, which actually is 0%."
   ]
  },
  {
   "cell_type": "markdown",
   "metadata": {
    "button": false,
    "new_sheet": false,
    "run_control": {
     "read_only": false
    },
    "slideshow": {
     "slide_type": "subslide"
    }
   },
   "source": [
    "This is indeed, not an optimal state of affairs. How can we verify that our tests are actually useful? One alternative (hinted in the chapter on coverage) is to inject bugs into the program, and evaluate the effectiveness of test suites in catching these injected bugs. However, that introduces another problem. How do we produce these bugs in the first place? Any manual effort is likely to be biased by the preconceptions of the developer as to where the bugs are likely to occur, and what effect it would have. Further, writing good bugs is likely to take a significant amount of time, for a very indirect benefit. Hence such a solution is not sufficient."
   ]
  },
  {
   "cell_type": "markdown",
   "metadata": {
    "button": false,
    "new_sheet": false,
    "run_control": {
     "read_only": false
    },
    "slideshow": {
     "slide_type": "slide"
    }
   },
   "source": [
    "## Seeding Artificial Faults with Mutation Analysis\n",
    "\n",
    "Mutation Analysis offers an alternative solution to assess the effectiveness of a test suite.  The idea of mutation analysis is to seed _artificial faults_, known as *mutations*, into the program code, and to check whether the test suite finds them.  Such a mutation could, for instance, replace a `+` by a `-` somewhere within `execute_the_program_as_a_whole()`.  Of course, the above ineffective tests would not detect this, as they do not check any of the results.  An effective test would, however; and the assumption is that the more effective a test is in finding _artificial_ faults, the more effective it would be in finding _real_ faults."
   ]
  },
  {
   "cell_type": "markdown",
   "metadata": {
    "button": false,
    "new_sheet": false,
    "run_control": {
     "read_only": false
    },
    "slideshow": {
     "slide_type": "subslide"
    }
   },
   "source": [
    "The insight from Mutation Analysis is to consider the probability of insertion of a bug from the perspective of a programmer. If one assumes that the attention received by each program element in the program is sufficiently similar, one can further assume that each token in the program has a similar probability of being incorrectly transcribed. Of course, the programmer will correct any mistakes that gets detected by the compilers (or other static analysis tools). So the set of valid tokens different from the original that make it past the compilation stage is considered to be its possible set of _mutations_ that represent the _probable faults_ in the program. A test suite is then judged by its capability to detect (and hence prevent) such mutations. The proportion of such mutants detected over all _valid_ mutants produced is taken as the mutation score. In this chapter, we see how one can implement Mutation Analysis in Python programs. The mutation score obtained represents the ability of any program analysis tools to prevent faults, and can be used to judge static test suites, test generators such as fuzzers, and also static and symbolic execution frameworks."
   ]
  },
  {
   "cell_type": "markdown",
   "metadata": {
    "slideshow": {
     "slide_type": "subslide"
    }
   },
   "source": [
    "It might be intuitive to consider a slightly different perspective. A test suite is a program that can be considered to accept as its input, the program to be tested.  What is the best way to evaluate such a program (the test suite)? We can essentially *fuzz* the test suite by applying small mutations to the input program, and verifying that the test suite in question does not produce unexpected behaviors. The test suite is supposed to only allow the original through; and hence any mutant that is not detected as faulty represents a bug in the test suite."
   ]
  },
  {
   "cell_type": "markdown",
   "metadata": {
    "slideshow": {
     "slide_type": "slide"
    }
   },
   "source": [
    "## Structural Coverage Adequacy by Example\n",
    "\n",
    "Let us introduce a more detailed example to illustrate both the problems with coverage as well as how mutation analysis works.  The `triangle()` program below classifies a triangle with edge lengths $a$, $b$, and $c$ into the proper triangle category.  We want to verify that the program works correctly."
   ]
  },
  {
   "cell_type": "code",
   "execution_count": 3,
   "metadata": {
    "execution": {
     "iopub.execute_input": "2022-01-11T09:09:51.894928Z",
     "iopub.status.busy": "2022-01-11T09:09:51.894253Z",
     "iopub.status.idle": "2022-01-11T09:09:51.896448Z",
     "shell.execute_reply": "2022-01-11T09:09:51.896058Z"
    },
    "slideshow": {
     "slide_type": "subslide"
    }
   },
   "outputs": [],
   "source": [
    "def triangle(a, b, c):\n",
    "    if a == b:\n",
    "        if b == c:\n",
    "            return 'Equilateral'\n",
    "        else:\n",
    "            return 'Isosceles'\n",
    "    else:\n",
    "        if b == c:\n",
    "            return \"Isosceles\"\n",
    "        else:\n",
    "            if a == c:\n",
    "                return \"Isosceles\"\n",
    "            else:\n",
    "                return \"Scalene\""
   ]
  },
  {
   "cell_type": "markdown",
   "metadata": {
    "slideshow": {
     "slide_type": "fragment"
    }
   },
   "source": [
    "Here are a few test cases to ensure that the program works."
   ]
  },
  {
   "cell_type": "code",
   "execution_count": 4,
   "metadata": {
    "execution": {
     "iopub.execute_input": "2022-01-11T09:09:51.900499Z",
     "iopub.status.busy": "2022-01-11T09:09:51.899956Z",
     "iopub.status.idle": "2022-01-11T09:09:51.901700Z",
     "shell.execute_reply": "2022-01-11T09:09:51.902033Z"
    },
    "slideshow": {
     "slide_type": "subslide"
    }
   },
   "outputs": [],
   "source": [
    "def strong_oracle(fn):\n",
    "    assert fn(1, 1, 1) == 'Equilateral'\n",
    "\n",
    "    assert fn(1, 2, 1) == 'Isosceles'\n",
    "    assert fn(2, 2, 1) == 'Isosceles'\n",
    "    assert fn(1, 2, 2) == 'Isosceles'\n",
    "\n",
    "    assert fn(1, 2, 3) == 'Scalene'"
   ]
  },
  {
   "cell_type": "markdown",
   "metadata": {
    "slideshow": {
     "slide_type": "fragment"
    }
   },
   "source": [
    "Running them actually causes all tests to pass."
   ]
  },
  {
   "cell_type": "code",
   "execution_count": 5,
   "metadata": {
    "execution": {
     "iopub.execute_input": "2022-01-11T09:09:51.905465Z",
     "iopub.status.busy": "2022-01-11T09:09:51.904898Z",
     "iopub.status.idle": "2022-01-11T09:09:51.906759Z",
     "shell.execute_reply": "2022-01-11T09:09:51.907187Z"
    },
    "slideshow": {
     "slide_type": "fragment"
    }
   },
   "outputs": [],
   "source": [
    "strong_oracle(triangle)"
   ]
  },
  {
   "cell_type": "markdown",
   "metadata": {
    "slideshow": {
     "slide_type": "subslide"
    }
   },
   "source": [
    "However, the statement that \"all tests pass\" has value only if we know that our tests are effective.\n",
    "What is the effectiveness of our test suite? As we saw in the [chapter on coverage](Coverage.ipynb), one can use structural coverage techniques such as statement coverage to obtain a measure of effectiveness of the test case."
   ]
  },
  {
   "cell_type": "code",
   "execution_count": 6,
   "metadata": {
    "button": false,
    "execution": {
     "iopub.execute_input": "2022-01-11T09:09:51.910583Z",
     "iopub.status.busy": "2022-01-11T09:09:51.910003Z",
     "iopub.status.idle": "2022-01-11T09:09:52.041320Z",
     "shell.execute_reply": "2022-01-11T09:09:52.041994Z"
    },
    "new_sheet": false,
    "run_control": {
     "read_only": false
    },
    "slideshow": {
     "slide_type": "skip"
    }
   },
   "outputs": [],
   "source": [
    "import bookutils"
   ]
  },
  {
   "cell_type": "code",
   "execution_count": 7,
   "metadata": {
    "execution": {
     "iopub.execute_input": "2022-01-11T09:09:52.046449Z",
     "iopub.status.busy": "2022-01-11T09:09:52.045688Z",
     "iopub.status.idle": "2022-01-11T09:09:53.372981Z",
     "shell.execute_reply": "2022-01-11T09:09:53.373366Z"
    },
    "slideshow": {
     "slide_type": "skip"
    }
   },
   "outputs": [],
   "source": [
    "from Coverage import Coverage"
   ]
  },
  {
   "cell_type": "code",
   "execution_count": 8,
   "metadata": {
    "execution": {
     "iopub.execute_input": "2022-01-11T09:09:53.376564Z",
     "iopub.status.busy": "2022-01-11T09:09:53.375924Z",
     "iopub.status.idle": "2022-01-11T09:09:53.377674Z",
     "shell.execute_reply": "2022-01-11T09:09:53.378214Z"
    },
    "slideshow": {
     "slide_type": "skip"
    }
   },
   "outputs": [],
   "source": [
    "import inspect"
   ]
  },
  {
   "cell_type": "markdown",
   "metadata": {
    "slideshow": {
     "slide_type": "fragment"
    }
   },
   "source": [
    "We add a function `show_coverage()` to visualize the coverage obtained."
   ]
  },
  {
   "cell_type": "code",
   "execution_count": 9,
   "metadata": {
    "execution": {
     "iopub.execute_input": "2022-01-11T09:09:53.383656Z",
     "iopub.status.busy": "2022-01-11T09:09:53.382924Z",
     "iopub.status.idle": "2022-01-11T09:09:53.384314Z",
     "shell.execute_reply": "2022-01-11T09:09:53.384913Z"
    },
    "slideshow": {
     "slide_type": "subslide"
    }
   },
   "outputs": [],
   "source": [
    "class VisualCoverage(Coverage):\n",
    "    def show_coverage(self, fn):\n",
    "        src = inspect.getsource(fn)\n",
    "        name = fn.__name__\n",
    "        covered = set([lineno for method,\n",
    "                       lineno in self._trace if method == name])\n",
    "        for i, s in enumerate(src.split('\\n')):\n",
    "            print('%s %2d: %s' % ('#' if i + 1 in covered else ' ', i + 1, s))"
   ]
  },
  {
   "cell_type": "code",
   "execution_count": 10,
   "metadata": {
    "execution": {
     "iopub.execute_input": "2022-01-11T09:09:53.388423Z",
     "iopub.status.busy": "2022-01-11T09:09:53.387809Z",
     "iopub.status.idle": "2022-01-11T09:09:53.389497Z",
     "shell.execute_reply": "2022-01-11T09:09:53.389978Z"
    },
    "slideshow": {
     "slide_type": "fragment"
    }
   },
   "outputs": [],
   "source": [
    "with VisualCoverage() as cov:\n",
    "    strong_oracle(triangle)"
   ]
  },
  {
   "cell_type": "code",
   "execution_count": 11,
   "metadata": {
    "execution": {
     "iopub.execute_input": "2022-01-11T09:09:53.393168Z",
     "iopub.status.busy": "2022-01-11T09:09:53.392544Z",
     "iopub.status.idle": "2022-01-11T09:09:53.397659Z",
     "shell.execute_reply": "2022-01-11T09:09:53.398049Z"
    },
    "slideshow": {
     "slide_type": "subslide"
    }
   },
   "outputs": [
    {
     "name": "stdout",
     "output_type": "stream",
     "text": [
      "   1: def triangle(a, b, c):\n",
      "#  2:     if a == b:\n",
      "#  3:         if b == c:\n",
      "#  4:             return 'Equilateral'\n",
      "   5:         else:\n",
      "#  6:             return 'Isosceles'\n",
      "   7:     else:\n",
      "#  8:         if b == c:\n",
      "#  9:             return \"Isosceles\"\n",
      "  10:         else:\n",
      "# 11:             if a == c:\n",
      "# 12:                 return \"Isosceles\"\n",
      "  13:             else:\n",
      "# 14:                 return \"Scalene\"\n",
      "  15: \n"
     ]
    }
   ],
   "source": [
    "cov.show_coverage(triangle)"
   ]
  },
  {
   "cell_type": "markdown",
   "metadata": {
    "slideshow": {
     "slide_type": "subslide"
    }
   },
   "source": [
    "Our `strong_oracle()` seems to have adequately covered all possible conditions.\n",
    "That is, our set of test cases is reasonably good according to structural coverage. However, does the coverage obtained tell the whole story? Consider this test suite instead:"
   ]
  },
  {
   "cell_type": "code",
   "execution_count": 12,
   "metadata": {
    "execution": {
     "iopub.execute_input": "2022-01-11T09:09:53.402242Z",
     "iopub.status.busy": "2022-01-11T09:09:53.401688Z",
     "iopub.status.idle": "2022-01-11T09:09:53.403354Z",
     "shell.execute_reply": "2022-01-11T09:09:53.403799Z"
    },
    "slideshow": {
     "slide_type": "fragment"
    }
   },
   "outputs": [],
   "source": [
    "def weak_oracle(fn):\n",
    "    assert fn(1, 1, 1) == 'Equilateral'\n",
    "\n",
    "    assert fn(1, 2, 1) != 'Equilateral'\n",
    "    assert fn(2, 2, 1) != 'Equilateral'\n",
    "    assert fn(1, 2, 2) != 'Equilateral'\n",
    "\n",
    "    assert fn(1, 2, 3) != 'Equilateral'"
   ]
  },
  {
   "cell_type": "markdown",
   "metadata": {
    "slideshow": {
     "slide_type": "fragment"
    }
   },
   "source": [
    "All that we are checking here is that a triangle with unequal sides is not equilateral. What is the coverage obtained?"
   ]
  },
  {
   "cell_type": "code",
   "execution_count": 13,
   "metadata": {
    "execution": {
     "iopub.execute_input": "2022-01-11T09:09:53.407242Z",
     "iopub.status.busy": "2022-01-11T09:09:53.406612Z",
     "iopub.status.idle": "2022-01-11T09:09:53.408383Z",
     "shell.execute_reply": "2022-01-11T09:09:53.408782Z"
    },
    "slideshow": {
     "slide_type": "subslide"
    }
   },
   "outputs": [],
   "source": [
    "with VisualCoverage() as cov:\n",
    "    weak_oracle(triangle)"
   ]
  },
  {
   "cell_type": "code",
   "execution_count": 14,
   "metadata": {
    "execution": {
     "iopub.execute_input": "2022-01-11T09:09:53.412486Z",
     "iopub.status.busy": "2022-01-11T09:09:53.411853Z",
     "iopub.status.idle": "2022-01-11T09:09:53.414077Z",
     "shell.execute_reply": "2022-01-11T09:09:53.414468Z"
    },
    "slideshow": {
     "slide_type": "subslide"
    }
   },
   "outputs": [
    {
     "name": "stdout",
     "output_type": "stream",
     "text": [
      "   1: def triangle(a, b, c):\n",
      "#  2:     if a == b:\n",
      "#  3:         if b == c:\n",
      "#  4:             return 'Equilateral'\n",
      "   5:         else:\n",
      "#  6:             return 'Isosceles'\n",
      "   7:     else:\n",
      "#  8:         if b == c:\n",
      "#  9:             return \"Isosceles\"\n",
      "  10:         else:\n",
      "# 11:             if a == c:\n",
      "# 12:                 return \"Isosceles\"\n",
      "  13:             else:\n",
      "# 14:                 return \"Scalene\"\n",
      "  15: \n"
     ]
    }
   ],
   "source": [
    "cov.show_coverage(triangle)"
   ]
  },
  {
   "cell_type": "markdown",
   "metadata": {
    "slideshow": {
     "slide_type": "subslide"
    }
   },
   "source": [
    "Indeed, there does not seem to be _any_ difference in coverage.\n",
    "The `weak_oracle()` obtains exactly the same coverage as that of `strong_oracle()`. However, a moment's reflection should convince one that the `weak_oracle()` is not as effective as `strong_oracle()`. However, _coverage_ is unable to distinguish between the two test suites. What are we missing in coverage?\n",
    "The problem here is that coverage is unable to evaluate the _quality_ of our assertions. Indeed, coverage does not care about assertions at all. However, as we saw above, assertions are an extremely important part of test suite effectiveness. Hence, what we need is a way to evaluate the quality of assertions."
   ]
  },
  {
   "cell_type": "markdown",
   "metadata": {
    "slideshow": {
     "slide_type": "slide"
    }
   },
   "source": [
    "## Injecting Artificial Faults\n",
    "\n",
    "Notice that in the [chapter on coverage](Coverage.ipynb), coverage was presented as a _proxy_ for the likelihood of a test suite to uncover bugs. What if we actually try to evaluate the likelihood of a test suite to uncover bugs? All we need is to inject bugs into the program, one at a time, and count the number of such bugs that our test suite detects. The frequency of detection will provide us with the actual likelihood of the test suite to uncover bugs. This technique is called _fault injection_. Here is an example for _fault injection_."
   ]
  },
  {
   "cell_type": "code",
   "execution_count": 15,
   "metadata": {
    "execution": {
     "iopub.execute_input": "2022-01-11T09:09:53.419209Z",
     "iopub.status.busy": "2022-01-11T09:09:53.418592Z",
     "iopub.status.idle": "2022-01-11T09:09:53.420565Z",
     "shell.execute_reply": "2022-01-11T09:09:53.421003Z"
    },
    "slideshow": {
     "slide_type": "subslide"
    }
   },
   "outputs": [],
   "source": [
    "def triangle_m1(a, b, c):\n",
    "    if a == b:\n",
    "        if b == c:\n",
    "            return 'Equilateral'\n",
    "        else:\n",
    "            # return 'Isosceles'\n",
    "            return None  # <-- injected fault\n",
    "    else:\n",
    "        if b == c:\n",
    "            return \"Isosceles\"\n",
    "        else:\n",
    "            if a == c:\n",
    "                return \"Isosceles\"\n",
    "            else:\n",
    "                return \"Scalene\""
   ]
  },
  {
   "cell_type": "markdown",
   "metadata": {
    "slideshow": {
     "slide_type": "subslide"
    }
   },
   "source": [
    "Let us see if our test suites are good enough to catch this fault. We first check whether `weak_oracle()` can detect this change."
   ]
  },
  {
   "cell_type": "code",
   "execution_count": 16,
   "metadata": {
    "execution": {
     "iopub.execute_input": "2022-01-11T09:09:53.424338Z",
     "iopub.status.busy": "2022-01-11T09:09:53.423791Z",
     "iopub.status.idle": "2022-01-11T09:09:53.425571Z",
     "shell.execute_reply": "2022-01-11T09:09:53.426031Z"
    },
    "slideshow": {
     "slide_type": "skip"
    }
   },
   "outputs": [],
   "source": [
    "from ExpectError import ExpectError"
   ]
  },
  {
   "cell_type": "code",
   "execution_count": 17,
   "metadata": {
    "execution": {
     "iopub.execute_input": "2022-01-11T09:09:53.429314Z",
     "iopub.status.busy": "2022-01-11T09:09:53.428649Z",
     "iopub.status.idle": "2022-01-11T09:09:53.430602Z",
     "shell.execute_reply": "2022-01-11T09:09:53.431081Z"
    },
    "slideshow": {
     "slide_type": "fragment"
    }
   },
   "outputs": [],
   "source": [
    "with ExpectError():\n",
    "    weak_oracle(triangle_m1)"
   ]
  },
  {
   "cell_type": "markdown",
   "metadata": {
    "slideshow": {
     "slide_type": "fragment"
    }
   },
   "source": [
    "The `weak_oracle()` is unable to detect any changes. What about our `strong_oracle()`?"
   ]
  },
  {
   "cell_type": "code",
   "execution_count": 18,
   "metadata": {
    "execution": {
     "iopub.execute_input": "2022-01-11T09:09:53.435154Z",
     "iopub.status.busy": "2022-01-11T09:09:53.434448Z",
     "iopub.status.idle": "2022-01-11T09:09:53.437025Z",
     "shell.execute_reply": "2022-01-11T09:09:53.437460Z"
    },
    "slideshow": {
     "slide_type": "fragment"
    }
   },
   "outputs": [
    {
     "name": "stderr",
     "output_type": "stream",
     "text": [
      "Traceback (most recent call last):\n",
      "  File \"/var/folders/n2/xd9445p97rb3xh7m1dfx8_4h0006ts/T/ipykernel_7220/3191755624.py\", line 2, in <module>\n",
      "    strong_oracle(triangle_m1)\n",
      "  File \"/var/folders/n2/xd9445p97rb3xh7m1dfx8_4h0006ts/T/ipykernel_7220/566939880.py\", line 5, in strong_oracle\n",
      "    assert fn(2, 2, 1) == 'Isosceles'\n",
      "AssertionError (expected)\n"
     ]
    }
   ],
   "source": [
    "with ExpectError():\n",
    "    strong_oracle(triangle_m1)"
   ]
  },
  {
   "cell_type": "markdown",
   "metadata": {
    "slideshow": {
     "slide_type": "subslide"
    }
   },
   "source": [
    "Our `strong_oracle()` is able to detect this fault, which is evidence that `strong_oracle()` is probably a better test suite."
   ]
  },
  {
   "cell_type": "markdown",
   "metadata": {
    "slideshow": {
     "slide_type": "fragment"
    }
   },
   "source": [
    "_Fault injection_ can provide a good measure of effectiveness of a test suite, provided we have a list of possible faults. The problem is that collecting such a set of _unbiased_ faults is rather expensive. It is difficult to create good faults that are reasonably hard to detect, and it is a manual process. Given that it is a manual process, the generated faults will be biased by the preconceptions of the developer who creates it. Even when such curated faults are available, they are unlikely to be exhaustive, and likely to miss important classes of bugs, and parts of the program. Hence, _fault injection_ is an insufficient replacement for coverage. Can we do better?"
   ]
  },
  {
   "cell_type": "markdown",
   "metadata": {
    "slideshow": {
     "slide_type": "subslide"
    }
   },
   "source": [
    "Mutation Analysis provides an alternative to a curated set of faults. The key insight is that, if one assumes that the programmer understands the program in question, the majority of errors made are very likely small transcription errors (a small number of tokens). A compiler will likely catch most of these errors. Hence, the majority of residual faults in a program is likely to be due to small (single token) variations at certain points in the structure of the program from the correct program (This particular assumption is called the *Competent Programmer Hypothesis* or the *Finite Neighborhood Hypothesis*).\n",
    "\n",
    "What about the larger faults composed of multiple smaller faults? The key insight here is that, for a majority of such complex faults, test cases that detect a single smaller fault in isolation is very likely to detect the larger complex fault that contains it. (This assumption is called the *Coupling Effect*.)\n",
    "\n",
    "How can we use these assumptions in practice? The idea is to simply generate *all* possible *valid* variants of the program that differs from the original by a small change (such as a single token change) (Such variants are called *mutants*). Next, the given test suite is applied to each variant thus generated. Any mutant detected by the test suite is said to have been *killed* by the test suite. The effectiveness of a test suite is given by the proportion of mutants killed to the valid mutants generated."
   ]
  },
  {
   "cell_type": "markdown",
   "metadata": {
    "slideshow": {
     "slide_type": "subslide"
    }
   },
   "source": [
    "We next implement a simple mutation analysis framework and use it to evaluate our test suites."
   ]
  },
  {
   "cell_type": "markdown",
   "metadata": {
    "button": false,
    "new_sheet": true,
    "run_control": {
     "read_only": false
    },
    "slideshow": {
     "slide_type": "slide"
    }
   },
   "source": [
    "## Mutating Python Code\n",
    "\n",
    "To manipulate a Python program, we work on the _abstract syntax tree_ (AST) representation – which is the internal representation compilers and interpreters work on after reading in the program text.\n",
    "\n",
    "Briefly speaking, we convert the program into a tree, and then _change parts of this tree_ – for instance, by changing `+` operators into `-` or vice versa, or actual statements into `pass` statements that do nothing.  The resulting mutated tree can then be processed further; it can be passed on to the Python interpreter for execution, or we can _unparse_ it back into a textual form."
   ]
  },
  {
   "cell_type": "markdown",
   "metadata": {
    "button": false,
    "new_sheet": true,
    "run_control": {
     "read_only": false
    },
    "slideshow": {
     "slide_type": "fragment"
    }
   },
   "source": [
    "We begin by importing the AST manipulation modules."
   ]
  },
  {
   "cell_type": "code",
   "execution_count": 19,
   "metadata": {
    "execution": {
     "iopub.execute_input": "2022-01-11T09:09:53.442326Z",
     "iopub.status.busy": "2022-01-11T09:09:53.441593Z",
     "iopub.status.idle": "2022-01-11T09:09:53.443480Z",
     "shell.execute_reply": "2022-01-11T09:09:53.443983Z"
    },
    "slideshow": {
     "slide_type": "skip"
    }
   },
   "outputs": [],
   "source": [
    "import ast\n",
    "import inspect"
   ]
  },
  {
   "cell_type": "markdown",
   "metadata": {
    "slideshow": {
     "slide_type": "subslide"
    }
   },
   "source": [
    "We can get the source of a Python function using `inspect.getsource()`.  (Note that this does not work for functions defined in other notebooks.)"
   ]
  },
  {
   "cell_type": "code",
   "execution_count": 20,
   "metadata": {
    "execution": {
     "iopub.execute_input": "2022-01-11T09:09:53.450107Z",
     "iopub.status.busy": "2022-01-11T09:09:53.449447Z",
     "iopub.status.idle": "2022-01-11T09:09:53.453012Z",
     "shell.execute_reply": "2022-01-11T09:09:53.453407Z"
    },
    "slideshow": {
     "slide_type": "fragment"
    }
   },
   "outputs": [
    {
     "data": {
      "text/plain": [
       "'def triangle(a, b, c):\\n    if a == b:\\n        if b == c:\\n            return \\'Equilateral\\'\\n        else:\\n            return \\'Isosceles\\'\\n    else:\\n        if b == c:\\n            return \"Isosceles\"\\n        else:\\n            if a == c:\\n                return \"Isosceles\"\\n            else:\\n                return \"Scalene\"\\n'"
      ]
     },
     "execution_count": 20,
     "metadata": {},
     "output_type": "execute_result"
    }
   ],
   "source": [
    "triangle_source = inspect.getsource(triangle)\n",
    "triangle_source"
   ]
  },
  {
   "cell_type": "markdown",
   "metadata": {
    "slideshow": {
     "slide_type": "fragment"
    }
   },
   "source": [
    "To view these in a visually pleasing form, our function `print_content(s, suffix)` formats and highlights the string `s` as if it were a file with ending `suffix`.  We can thus view (and highlight) the source as if it were a Python file:"
   ]
  },
  {
   "cell_type": "code",
   "execution_count": 21,
   "metadata": {
    "execution": {
     "iopub.execute_input": "2022-01-11T09:09:53.456750Z",
     "iopub.status.busy": "2022-01-11T09:09:53.456182Z",
     "iopub.status.idle": "2022-01-11T09:09:53.458118Z",
     "shell.execute_reply": "2022-01-11T09:09:53.458554Z"
    },
    "slideshow": {
     "slide_type": "skip"
    }
   },
   "outputs": [],
   "source": [
    "from bookutils import print_content"
   ]
  },
  {
   "cell_type": "code",
   "execution_count": 22,
   "metadata": {
    "execution": {
     "iopub.execute_input": "2022-01-11T09:09:53.508108Z",
     "iopub.status.busy": "2022-01-11T09:09:53.498761Z",
     "iopub.status.idle": "2022-01-11T09:09:53.686142Z",
     "shell.execute_reply": "2022-01-11T09:09:53.686661Z"
    },
    "slideshow": {
     "slide_type": "subslide"
    }
   },
   "outputs": [
    {
     "name": "stdout",
     "output_type": "stream",
     "text": [
      "\u001b[34mdef\u001b[39;49;00m \u001b[32mtriangle\u001b[39;49;00m(a, b, c):\n",
      "    \u001b[34mif\u001b[39;49;00m a == b:\n",
      "        \u001b[34mif\u001b[39;49;00m b == c:\n",
      "            \u001b[34mreturn\u001b[39;49;00m \u001b[33m'\u001b[39;49;00m\u001b[33mEquilateral\u001b[39;49;00m\u001b[33m'\u001b[39;49;00m\n",
      "        \u001b[34melse\u001b[39;49;00m:\n",
      "            \u001b[34mreturn\u001b[39;49;00m \u001b[33m'\u001b[39;49;00m\u001b[33mIsosceles\u001b[39;49;00m\u001b[33m'\u001b[39;49;00m\n",
      "    \u001b[34melse\u001b[39;49;00m:\n",
      "        \u001b[34mif\u001b[39;49;00m b == c:\n",
      "            \u001b[34mreturn\u001b[39;49;00m \u001b[33m\"\u001b[39;49;00m\u001b[33mIsosceles\u001b[39;49;00m\u001b[33m\"\u001b[39;49;00m\n",
      "        \u001b[34melse\u001b[39;49;00m:\n",
      "            \u001b[34mif\u001b[39;49;00m a == c:\n",
      "                \u001b[34mreturn\u001b[39;49;00m \u001b[33m\"\u001b[39;49;00m\u001b[33mIsosceles\u001b[39;49;00m\u001b[33m\"\u001b[39;49;00m\n",
      "            \u001b[34melse\u001b[39;49;00m:\n",
      "                \u001b[34mreturn\u001b[39;49;00m \u001b[33m\"\u001b[39;49;00m\u001b[33mScalene\u001b[39;49;00m\u001b[33m\"\u001b[39;49;00m"
     ]
    }
   ],
   "source": [
    "print_content(triangle_source, '.py')"
   ]
  },
  {
   "cell_type": "markdown",
   "metadata": {
    "slideshow": {
     "slide_type": "subslide"
    }
   },
   "source": [
    "Parsing this gives us an abstract syntax tree (AST) – a representation of the program in tree form."
   ]
  },
  {
   "cell_type": "code",
   "execution_count": 23,
   "metadata": {
    "execution": {
     "iopub.execute_input": "2022-01-11T09:09:53.693200Z",
     "iopub.status.busy": "2022-01-11T09:09:53.692643Z",
     "iopub.status.idle": "2022-01-11T09:09:53.694044Z",
     "shell.execute_reply": "2022-01-11T09:09:53.694573Z"
    },
    "slideshow": {
     "slide_type": "fragment"
    }
   },
   "outputs": [],
   "source": [
    "triangle_ast = ast.parse(triangle_source)"
   ]
  },
  {
   "cell_type": "markdown",
   "metadata": {
    "slideshow": {
     "slide_type": "fragment"
    }
   },
   "source": [
    "What does this AST look like?  The helper functions `ast.dump()` (textual output) and `showast.show_ast()` (graphical output with [showast](https://github.com/hchasestevens/show_ast)) allow us to inspect the structure of the tree.  We see that the function starts as a `FunctionDef` with name and arguments, followed by a body, which is a list of statements; in this case, the body contains only an `If`, which itself contains other nodes of type `If`, `Compare`, `Name`, `Str`, and `Return`."
   ]
  },
  {
   "cell_type": "code",
   "execution_count": 24,
   "metadata": {
    "execution": {
     "iopub.execute_input": "2022-01-11T09:09:53.698244Z",
     "iopub.status.busy": "2022-01-11T09:09:53.697612Z",
     "iopub.status.idle": "2022-01-11T09:09:53.699976Z",
     "shell.execute_reply": "2022-01-11T09:09:53.700349Z"
    },
    "slideshow": {
     "slide_type": "subslide"
    }
   },
   "outputs": [
    {
     "name": "stdout",
     "output_type": "stream",
     "text": [
      "Module(\n",
      "    body=[\n",
      "        FunctionDef(\n",
      "            name='triangle',\n",
      "            args=arguments(\n",
      "                posonlyargs=[],\n",
      "                args=[\n",
      "                    arg(arg='a'),\n",
      "                    arg(arg='b'),\n",
      "                    arg(arg='c')],\n",
      "                kwonlyargs=[],\n",
      "                kw_defaults=[],\n",
      "                defaults=[]),\n",
      "            body=[\n",
      "                If(\n",
      "                    test=Compare(\n",
      "                        left=Name(id='a', ctx=Load()),\n",
      "                        ops=[\n",
      "                            Eq()],\n",
      "                        comparators=[\n",
      "                            Name(id='b', ctx=Load())]),\n",
      "                    body=[\n",
      "                        If(\n",
      "                            test=Compare(\n",
      "                                left=Name(id='b', ctx=Load()),\n",
      "                                ops=[\n",
      "                                    Eq()],\n",
      "                                comparators=[\n",
      "                                    Name(id='c', ctx=Load())]),\n",
      "                            body=[\n",
      "                                Return(\n",
      "                                    value=Constant(value='Equilateral'))],\n",
      "                            orelse=[\n",
      "                                Return(\n",
      "                                    value=Constant(value='Isosceles'))])],\n",
      "                    orelse=[\n",
      "                        If(\n",
      "                            test=Compare(\n",
      "                                left=Name(id='b', ctx=Load()),\n",
      "                                ops=[\n",
      "                                    Eq()],\n",
      "                                comparators=[\n",
      "                                    Name(id='c', ctx=Load())]),\n",
      "                            body=[\n",
      "                                Return(\n",
      "                                    value=Constant(value='Isosceles'))],\n",
      "                            orelse=[\n",
      "                                If(\n",
      "                                    test=Compare(\n",
      "                                        left=Name(id='a', ctx=Load()),\n",
      "                                        ops=[\n",
      "                                            Eq()],\n",
      "                                        comparators=[\n",
      "                                            Name(id='c', ctx=Load())]),\n",
      "                                    body=[\n",
      "                                        Return(\n",
      "                                            value=Constant(value='Isosceles'))],\n",
      "                                    orelse=[\n",
      "                                        Return(\n",
      "                                            value=Constant(value='Scalene'))])])])],\n",
      "            decorator_list=[])],\n",
      "    type_ignores=[])\n"
     ]
    }
   ],
   "source": [
    "print(ast.dump(triangle_ast, indent=4))"
   ]
  },
  {
   "cell_type": "markdown",
   "metadata": {
    "slideshow": {
     "slide_type": "subslide"
    }
   },
   "source": [
    "Too much text for you?  This graphical representation may make things simpler."
   ]
  },
  {
   "cell_type": "code",
   "execution_count": 25,
   "metadata": {
    "execution": {
     "iopub.execute_input": "2022-01-11T09:09:53.703378Z",
     "iopub.status.busy": "2022-01-11T09:09:53.702858Z",
     "iopub.status.idle": "2022-01-11T09:09:53.704542Z",
     "shell.execute_reply": "2022-01-11T09:09:53.704910Z"
    },
    "slideshow": {
     "slide_type": "skip"
    }
   },
   "outputs": [],
   "source": [
    "from bookutils import rich_output"
   ]
  },
  {
   "cell_type": "code",
   "execution_count": 26,
   "metadata": {
    "execution": {
     "iopub.execute_input": "2022-01-11T09:09:53.707989Z",
     "iopub.status.busy": "2022-01-11T09:09:53.707476Z",
     "iopub.status.idle": "2022-01-11T09:09:54.204711Z",
     "shell.execute_reply": "2022-01-11T09:09:54.205097Z"
    },
    "slideshow": {
     "slide_type": "fragment"
    }
   },
   "outputs": [
    {
     "data": {
      "image/svg+xml": [
       "<svg xmlns=\"http://www.w3.org/2000/svg\" xmlns:xlink=\"http://www.w3.org/1999/xlink\" width=\"1811pt\" height=\"476pt\" viewBox=\"0.00 0.00 1810.50 476.00\">\n",
       "<g id=\"graph0\" class=\"graph\" transform=\"scale(1 1) rotate(0) translate(4 472)\">\n",
       "<polygon fill=\"white\" stroke=\"transparent\" points=\"-4,4 -4,-472 1806.5,-472 1806.5,4 -4,4\"/>\n",
       "<!-- 0 -->\n",
       "<g id=\"node1\" class=\"node\">\n",
       "<title>0</title>\n",
       "<text text-anchor=\"start\" x=\"119\" y=\"-447.3\" font-family=\"Courier,monospace\" font-weight=\"bold\" font-size=\"14.00\" fill=\"#004080\">FunctionDef</text>\n",
       "</g>\n",
       "<!-- 1 -->\n",
       "<g id=\"node2\" class=\"node\">\n",
       "<title>1</title>\n",
       "<text text-anchor=\"middle\" x=\"50.5\" y=\"-374.3\" font-family=\"Courier,monospace\" font-size=\"14.00\" fill=\"#008040\">&quot;triangle&quot;</text>\n",
       "</g>\n",
       "<!-- 0&#45;&#45;1 -->\n",
       "<g id=\"edge1\" class=\"edge\">\n",
       "<title>0--1</title>\n",
       "<path fill=\"none\" stroke=\"black\" d=\"M166.5,-431C166.5,-431 122.31,-411.19 88.48,-396.03\"/>\n",
       "</g>\n",
       "<!-- 2 -->\n",
       "<g id=\"node3\" class=\"node\">\n",
       "<title>2</title>\n",
       "<text text-anchor=\"start\" x=\"127.5\" y=\"-375.3\" font-family=\"Courier,monospace\" font-weight=\"bold\" font-size=\"14.00\" fill=\"#004080\">arguments</text>\n",
       "</g>\n",
       "<!-- 0&#45;&#45;2 -->\n",
       "<g id=\"edge2\" class=\"edge\">\n",
       "<title>0--2</title>\n",
       "<path fill=\"none\" stroke=\"black\" d=\"M166.5,-431C166.5,-431 166.12,-411.19 165.83,-396.03\"/>\n",
       "</g>\n",
       "<!-- 9 -->\n",
       "<g id=\"node10\" class=\"node\">\n",
       "<title>9</title>\n",
       "<text text-anchor=\"start\" x=\"481\" y=\"-375.3\" font-family=\"Courier,monospace\" font-weight=\"bold\" font-size=\"14.00\" fill=\"#004080\">If</text>\n",
       "</g>\n",
       "<!-- 0&#45;&#45;9 -->\n",
       "<g id=\"edge9\" class=\"edge\">\n",
       "<title>0--9</title>\n",
       "<path fill=\"none\" stroke=\"black\" d=\"M166.5,-431C166.5,-431 384.37,-395.93 462.24,-383.39\"/>\n",
       "</g>\n",
       "<!-- 3 -->\n",
       "<g id=\"node4\" class=\"node\">\n",
       "<title>3</title>\n",
       "<text text-anchor=\"start\" x=\"44.5\" y=\"-303.3\" font-family=\"Courier,monospace\" font-weight=\"bold\" font-size=\"14.00\" fill=\"#004080\">arg</text>\n",
       "</g>\n",
       "<!-- 2&#45;&#45;3 -->\n",
       "<g id=\"edge3\" class=\"edge\">\n",
       "<title>2--3</title>\n",
       "<path fill=\"none\" stroke=\"black\" d=\"M159.5,-359C159.5,-359 114.78,-336.2 84.57,-320.8\"/>\n",
       "</g>\n",
       "<!-- 5 -->\n",
       "<g id=\"node6\" class=\"node\">\n",
       "<title>5</title>\n",
       "<text text-anchor=\"start\" x=\"116.5\" y=\"-303.3\" font-family=\"Courier,monospace\" font-weight=\"bold\" font-size=\"14.00\" fill=\"#004080\">arg</text>\n",
       "</g>\n",
       "<!-- 2&#45;&#45;5 -->\n",
       "<g id=\"edge5\" class=\"edge\">\n",
       "<title>2--5</title>\n",
       "<path fill=\"none\" stroke=\"black\" d=\"M159.5,-359C159.5,-359 148.07,-339.19 139.32,-324.03\"/>\n",
       "</g>\n",
       "<!-- 7 -->\n",
       "<g id=\"node8\" class=\"node\">\n",
       "<title>7</title>\n",
       "<text text-anchor=\"start\" x=\"188.5\" y=\"-303.3\" font-family=\"Courier,monospace\" font-weight=\"bold\" font-size=\"14.00\" fill=\"#004080\">arg</text>\n",
       "</g>\n",
       "<!-- 2&#45;&#45;7 -->\n",
       "<g id=\"edge7\" class=\"edge\">\n",
       "<title>2--7</title>\n",
       "<path fill=\"none\" stroke=\"black\" d=\"M159.5,-359C159.5,-359 175.5,-339.19 187.75,-324.03\"/>\n",
       "</g>\n",
       "<!-- 4 -->\n",
       "<g id=\"node5\" class=\"node\">\n",
       "<title>4</title>\n",
       "<text text-anchor=\"middle\" x=\"57.5\" y=\"-230.3\" font-family=\"Courier,monospace\" font-size=\"14.00\" fill=\"#008040\">&quot;a&quot;</text>\n",
       "</g>\n",
       "<!-- 3&#45;&#45;4 -->\n",
       "<g id=\"edge4\" class=\"edge\">\n",
       "<title>3--4</title>\n",
       "<path fill=\"none\" stroke=\"black\" d=\"M57.5,-287.7C57.5,-276.85 57.5,-262.92 57.5,-252.1\"/>\n",
       "</g>\n",
       "<!-- 6 -->\n",
       "<g id=\"node7\" class=\"node\">\n",
       "<title>6</title>\n",
       "<text text-anchor=\"middle\" x=\"129.5\" y=\"-230.3\" font-family=\"Courier,monospace\" font-size=\"14.00\" fill=\"#008040\">&quot;b&quot;</text>\n",
       "</g>\n",
       "<!-- 5&#45;&#45;6 -->\n",
       "<g id=\"edge6\" class=\"edge\">\n",
       "<title>5--6</title>\n",
       "<path fill=\"none\" stroke=\"black\" d=\"M129.5,-287.7C129.5,-276.85 129.5,-262.92 129.5,-252.1\"/>\n",
       "</g>\n",
       "<!-- 8 -->\n",
       "<g id=\"node9\" class=\"node\">\n",
       "<title>8</title>\n",
       "<text text-anchor=\"middle\" x=\"201.5\" y=\"-230.3\" font-family=\"Courier,monospace\" font-size=\"14.00\" fill=\"#008040\">&quot;c&quot;</text>\n",
       "</g>\n",
       "<!-- 7&#45;&#45;8 -->\n",
       "<g id=\"edge8\" class=\"edge\">\n",
       "<title>7--8</title>\n",
       "<path fill=\"none\" stroke=\"black\" d=\"M201.5,-287.7C201.5,-276.85 201.5,-262.92 201.5,-252.1\"/>\n",
       "</g>\n",
       "<!-- 10 -->\n",
       "<g id=\"node11\" class=\"node\">\n",
       "<title>10</title>\n",
       "<text text-anchor=\"start\" x=\"352\" y=\"-303.3\" font-family=\"Courier,monospace\" font-weight=\"bold\" font-size=\"14.00\" fill=\"#004080\">Compare</text>\n",
       "</g>\n",
       "<!-- 9&#45;&#45;10 -->\n",
       "<g id=\"edge10\" class=\"edge\">\n",
       "<title>9--10</title>\n",
       "<path fill=\"none\" stroke=\"black\" d=\"M507.5,-359C507.5,-359 456.42,-337.92 419.3,-322.6\"/>\n",
       "</g>\n",
       "<!-- 18 -->\n",
       "<g id=\"node19\" class=\"node\">\n",
       "<title>18</title>\n",
       "<text text-anchor=\"start\" x=\"643\" y=\"-303.3\" font-family=\"Courier,monospace\" font-weight=\"bold\" font-size=\"14.00\" fill=\"#004080\">If</text>\n",
       "</g>\n",
       "<!-- 9&#45;&#45;18 -->\n",
       "<g id=\"edge18\" class=\"edge\">\n",
       "<title>9--18</title>\n",
       "<path fill=\"none\" stroke=\"black\" d=\"M507.5,-359C507.5,-359 582.7,-331.84 624.41,-316.78\"/>\n",
       "</g>\n",
       "<!-- 33 -->\n",
       "<g id=\"node34\" class=\"node\">\n",
       "<title>33</title>\n",
       "<text text-anchor=\"start\" x=\"1199\" y=\"-303.3\" font-family=\"Courier,monospace\" font-weight=\"bold\" font-size=\"14.00\" fill=\"#004080\">If</text>\n",
       "</g>\n",
       "<!-- 9&#45;&#45;33 -->\n",
       "<g id=\"edge33\" class=\"edge\">\n",
       "<title>9--33</title>\n",
       "<path fill=\"none\" stroke=\"black\" d=\"M507.5,-359C507.5,-359 1051.84,-318.56 1180.49,-309.01\"/>\n",
       "</g>\n",
       "<!-- 11 -->\n",
       "<g id=\"node12\" class=\"node\">\n",
       "<title>11</title>\n",
       "<text text-anchor=\"start\" x=\"256.5\" y=\"-231.3\" font-family=\"Courier,monospace\" font-weight=\"bold\" font-size=\"14.00\" fill=\"#004080\">Name</text>\n",
       "</g>\n",
       "<!-- 10&#45;&#45;11 -->\n",
       "<g id=\"edge11\" class=\"edge\">\n",
       "<title>10--11</title>\n",
       "<path fill=\"none\" stroke=\"black\" d=\"M375.5,-287C375.5,-287 330.78,-264.2 300.57,-248.8\"/>\n",
       "</g>\n",
       "<!-- 14 -->\n",
       "<g id=\"node15\" class=\"node\">\n",
       "<title>14</title>\n",
       "<text text-anchor=\"middle\" x=\"345.5\" y=\"-230.3\" font-family=\"Courier,monospace\" font-size=\"14.00\" fill=\"#008040\">Eq</text>\n",
       "</g>\n",
       "<!-- 10&#45;&#45;14 -->\n",
       "<g id=\"edge14\" class=\"edge\">\n",
       "<title>10--14</title>\n",
       "<path fill=\"none\" stroke=\"black\" d=\"M375.5,-287C375.5,-287 364.07,-267.19 355.32,-252.03\"/>\n",
       "</g>\n",
       "<!-- 15 -->\n",
       "<g id=\"node16\" class=\"node\">\n",
       "<title>15</title>\n",
       "<text text-anchor=\"start\" x=\"400.5\" y=\"-231.3\" font-family=\"Courier,monospace\" font-weight=\"bold\" font-size=\"14.00\" fill=\"#004080\">Name</text>\n",
       "</g>\n",
       "<!-- 10&#45;&#45;15 -->\n",
       "<g id=\"edge15\" class=\"edge\">\n",
       "<title>10--15</title>\n",
       "<path fill=\"none\" stroke=\"black\" d=\"M375.5,-287C375.5,-287 391.5,-267.19 403.75,-252.03\"/>\n",
       "</g>\n",
       "<!-- 12 -->\n",
       "<g id=\"node13\" class=\"node\">\n",
       "<title>12</title>\n",
       "<text text-anchor=\"middle\" x=\"201.5\" y=\"-158.3\" font-family=\"Courier,monospace\" font-size=\"14.00\" fill=\"#008040\">&quot;a&quot;</text>\n",
       "</g>\n",
       "<!-- 11&#45;&#45;12 -->\n",
       "<g id=\"edge12\" class=\"edge\">\n",
       "<title>11--12</title>\n",
       "<path fill=\"none\" stroke=\"black\" d=\"M265.5,-215C265.5,-215 241.12,-195.19 222.46,-180.03\"/>\n",
       "</g>\n",
       "<!-- 13 -->\n",
       "<g id=\"node14\" class=\"node\">\n",
       "<title>13</title>\n",
       "<text text-anchor=\"middle\" x=\"273.5\" y=\"-158.3\" font-family=\"Courier,monospace\" font-size=\"14.00\" fill=\"#008040\">Load</text>\n",
       "</g>\n",
       "<!-- 11&#45;&#45;13 -->\n",
       "<g id=\"edge13\" class=\"edge\">\n",
       "<title>11--13</title>\n",
       "<path fill=\"none\" stroke=\"black\" d=\"M265.5,-215C265.5,-215 268.55,-195.19 270.88,-180.03\"/>\n",
       "</g>\n",
       "<!-- 16 -->\n",
       "<g id=\"node17\" class=\"node\">\n",
       "<title>16</title>\n",
       "<text text-anchor=\"middle\" x=\"345.5\" y=\"-158.3\" font-family=\"Courier,monospace\" font-size=\"14.00\" fill=\"#008040\">&quot;b&quot;</text>\n",
       "</g>\n",
       "<!-- 15&#45;&#45;16 -->\n",
       "<g id=\"edge16\" class=\"edge\">\n",
       "<title>15--16</title>\n",
       "<path fill=\"none\" stroke=\"black\" d=\"M409.5,-215C409.5,-215 385.12,-195.19 366.46,-180.03\"/>\n",
       "</g>\n",
       "<!-- 17 -->\n",
       "<g id=\"node18\" class=\"node\">\n",
       "<title>17</title>\n",
       "<text text-anchor=\"middle\" x=\"417.5\" y=\"-158.3\" font-family=\"Courier,monospace\" font-size=\"14.00\" fill=\"#008040\">Load</text>\n",
       "</g>\n",
       "<!-- 15&#45;&#45;17 -->\n",
       "<g id=\"edge17\" class=\"edge\">\n",
       "<title>15--17</title>\n",
       "<path fill=\"none\" stroke=\"black\" d=\"M409.5,-215C409.5,-215 412.55,-195.19 414.88,-180.03\"/>\n",
       "</g>\n",
       "<!-- 19 -->\n",
       "<g id=\"node20\" class=\"node\">\n",
       "<title>19</title>\n",
       "<text text-anchor=\"start\" x=\"555\" y=\"-231.3\" font-family=\"Courier,monospace\" font-weight=\"bold\" font-size=\"14.00\" fill=\"#004080\">Compare</text>\n",
       "</g>\n",
       "<!-- 18&#45;&#45;19 -->\n",
       "<g id=\"edge19\" class=\"edge\">\n",
       "<title>18--19</title>\n",
       "<path fill=\"none\" stroke=\"black\" d=\"M657.5,-287C657.5,-287 629.69,-267.19 608.4,-252.03\"/>\n",
       "</g>\n",
       "<!-- 27 -->\n",
       "<g id=\"node28\" class=\"node\">\n",
       "<title>27</title>\n",
       "<text text-anchor=\"start\" x=\"661\" y=\"-231.3\" font-family=\"Courier,monospace\" font-weight=\"bold\" font-size=\"14.00\" fill=\"#004080\">Return</text>\n",
       "</g>\n",
       "<!-- 18&#45;&#45;27 -->\n",
       "<g id=\"edge27\" class=\"edge\">\n",
       "<title>18--27</title>\n",
       "<path fill=\"none\" stroke=\"black\" d=\"M657.5,-287C657.5,-287 668.55,-267.19 677,-252.03\"/>\n",
       "</g>\n",
       "<!-- 30 -->\n",
       "<g id=\"node31\" class=\"node\">\n",
       "<title>30</title>\n",
       "<text text-anchor=\"start\" x=\"805\" y=\"-231.3\" font-family=\"Courier,monospace\" font-weight=\"bold\" font-size=\"14.00\" fill=\"#004080\">Return</text>\n",
       "</g>\n",
       "<!-- 18&#45;&#45;30 -->\n",
       "<g id=\"edge30\" class=\"edge\">\n",
       "<title>18--30</title>\n",
       "<path fill=\"none\" stroke=\"black\" d=\"M657.5,-287C657.5,-287 746.39,-260.28 796.73,-245.15\"/>\n",
       "</g>\n",
       "<!-- 20 -->\n",
       "<g id=\"node21\" class=\"node\">\n",
       "<title>20</title>\n",
       "<text text-anchor=\"start\" x=\"472.5\" y=\"-159.3\" font-family=\"Courier,monospace\" font-weight=\"bold\" font-size=\"14.00\" fill=\"#004080\">Name</text>\n",
       "</g>\n",
       "<!-- 19&#45;&#45;20 -->\n",
       "<g id=\"edge20\" class=\"edge\">\n",
       "<title>19--20</title>\n",
       "<path fill=\"none\" stroke=\"black\" d=\"M580.5,-215C580.5,-215 543.61,-193.92 516.8,-178.6\"/>\n",
       "</g>\n",
       "<!-- 23 -->\n",
       "<g id=\"node24\" class=\"node\">\n",
       "<title>23</title>\n",
       "<text text-anchor=\"middle\" x=\"561.5\" y=\"-158.3\" font-family=\"Courier,monospace\" font-size=\"14.00\" fill=\"#008040\">Eq</text>\n",
       "</g>\n",
       "<!-- 19&#45;&#45;23 -->\n",
       "<g id=\"edge23\" class=\"edge\">\n",
       "<title>19--23</title>\n",
       "<path fill=\"none\" stroke=\"black\" d=\"M580.5,-215C580.5,-215 573.26,-195.19 567.72,-180.03\"/>\n",
       "</g>\n",
       "<!-- 24 -->\n",
       "<g id=\"node25\" class=\"node\">\n",
       "<title>24</title>\n",
       "<text text-anchor=\"start\" x=\"616.5\" y=\"-159.3\" font-family=\"Courier,monospace\" font-weight=\"bold\" font-size=\"14.00\" fill=\"#004080\">Name</text>\n",
       "</g>\n",
       "<!-- 19&#45;&#45;24 -->\n",
       "<g id=\"edge24\" class=\"edge\">\n",
       "<title>19--24</title>\n",
       "<path fill=\"none\" stroke=\"black\" d=\"M580.5,-215C580.5,-215 600.69,-195.19 616.15,-180.03\"/>\n",
       "</g>\n",
       "<!-- 21 -->\n",
       "<g id=\"node22\" class=\"node\">\n",
       "<title>21</title>\n",
       "<text text-anchor=\"middle\" x=\"417.5\" y=\"-86.3\" font-family=\"Courier,monospace\" font-size=\"14.00\" fill=\"#008040\">&quot;b&quot;</text>\n",
       "</g>\n",
       "<!-- 20&#45;&#45;21 -->\n",
       "<g id=\"edge21\" class=\"edge\">\n",
       "<title>20--21</title>\n",
       "<path fill=\"none\" stroke=\"black\" d=\"M481.5,-143C481.5,-143 457.12,-123.19 438.46,-108.03\"/>\n",
       "</g>\n",
       "<!-- 22 -->\n",
       "<g id=\"node23\" class=\"node\">\n",
       "<title>22</title>\n",
       "<text text-anchor=\"middle\" x=\"489.5\" y=\"-86.3\" font-family=\"Courier,monospace\" font-size=\"14.00\" fill=\"#008040\">Load</text>\n",
       "</g>\n",
       "<!-- 20&#45;&#45;22 -->\n",
       "<g id=\"edge22\" class=\"edge\">\n",
       "<title>20--22</title>\n",
       "<path fill=\"none\" stroke=\"black\" d=\"M481.5,-143C481.5,-143 484.55,-123.19 486.88,-108.03\"/>\n",
       "</g>\n",
       "<!-- 25 -->\n",
       "<g id=\"node26\" class=\"node\">\n",
       "<title>25</title>\n",
       "<text text-anchor=\"middle\" x=\"561.5\" y=\"-86.3\" font-family=\"Courier,monospace\" font-size=\"14.00\" fill=\"#008040\">&quot;c&quot;</text>\n",
       "</g>\n",
       "<!-- 24&#45;&#45;25 -->\n",
       "<g id=\"edge25\" class=\"edge\">\n",
       "<title>24--25</title>\n",
       "<path fill=\"none\" stroke=\"black\" d=\"M625.5,-143C625.5,-143 601.12,-123.19 582.46,-108.03\"/>\n",
       "</g>\n",
       "<!-- 26 -->\n",
       "<g id=\"node27\" class=\"node\">\n",
       "<title>26</title>\n",
       "<text text-anchor=\"middle\" x=\"633.5\" y=\"-86.3\" font-family=\"Courier,monospace\" font-size=\"14.00\" fill=\"#008040\">Load</text>\n",
       "</g>\n",
       "<!-- 24&#45;&#45;26 -->\n",
       "<g id=\"edge26\" class=\"edge\">\n",
       "<title>24--26</title>\n",
       "<path fill=\"none\" stroke=\"black\" d=\"M625.5,-143C625.5,-143 628.55,-123.19 630.88,-108.03\"/>\n",
       "</g>\n",
       "<!-- 28 -->\n",
       "<g id=\"node29\" class=\"node\">\n",
       "<title>28</title>\n",
       "<text text-anchor=\"start\" x=\"697.5\" y=\"-159.3\" font-family=\"Courier,monospace\" font-weight=\"bold\" font-size=\"14.00\" fill=\"#004080\">Constant</text>\n",
       "</g>\n",
       "<!-- 27&#45;&#45;28 -->\n",
       "<g id=\"edge28\" class=\"edge\">\n",
       "<title>27--28</title>\n",
       "<path fill=\"none\" stroke=\"black\" d=\"M697.62,-215.7C704.6,-204.85 713.55,-190.92 720.5,-180.1\"/>\n",
       "</g>\n",
       "<!-- 29 -->\n",
       "<g id=\"node30\" class=\"node\">\n",
       "<title>29</title>\n",
       "<text text-anchor=\"middle\" x=\"741.5\" y=\"-86.3\" font-family=\"Courier,monospace\" font-size=\"14.00\" fill=\"#008040\">&quot;Equilateral&quot;</text>\n",
       "</g>\n",
       "<!-- 28&#45;&#45;29 -->\n",
       "<g id=\"edge29\" class=\"edge\">\n",
       "<title>28--29</title>\n",
       "<path fill=\"none\" stroke=\"black\" d=\"M733.97,-143.7C735.52,-132.85 737.51,-118.92 739.06,-108.1\"/>\n",
       "</g>\n",
       "<!-- 31 -->\n",
       "<g id=\"node32\" class=\"node\">\n",
       "<title>31</title>\n",
       "<text text-anchor=\"start\" x=\"821.5\" y=\"-159.3\" font-family=\"Courier,monospace\" font-weight=\"bold\" font-size=\"14.00\" fill=\"#004080\">Constant</text>\n",
       "</g>\n",
       "<!-- 30&#45;&#45;31 -->\n",
       "<g id=\"edge31\" class=\"edge\">\n",
       "<title>30--31</title>\n",
       "<path fill=\"none\" stroke=\"black\" d=\"M836.68,-215.7C840.55,-204.85 845.53,-190.92 849.39,-180.1\"/>\n",
       "</g>\n",
       "<!-- 32 -->\n",
       "<g id=\"node33\" class=\"node\">\n",
       "<title>32</title>\n",
       "<text text-anchor=\"middle\" x=\"877.5\" y=\"-86.3\" font-family=\"Courier,monospace\" font-size=\"14.00\" fill=\"#008040\">&quot;Isosceles&quot;</text>\n",
       "</g>\n",
       "<!-- 31&#45;&#45;32 -->\n",
       "<g id=\"edge32\" class=\"edge\">\n",
       "<title>31--32</title>\n",
       "<path fill=\"none\" stroke=\"black\" d=\"M860.94,-143.7C864.35,-132.85 868.73,-118.92 872.12,-108.1\"/>\n",
       "</g>\n",
       "<!-- 34 -->\n",
       "<g id=\"node35\" class=\"node\">\n",
       "<title>34</title>\n",
       "<text text-anchor=\"start\" x=\"1113\" y=\"-231.3\" font-family=\"Courier,monospace\" font-weight=\"bold\" font-size=\"14.00\" fill=\"#004080\">Compare</text>\n",
       "</g>\n",
       "<!-- 33&#45;&#45;34 -->\n",
       "<g id=\"edge34\" class=\"edge\">\n",
       "<title>33--34</title>\n",
       "<path fill=\"none\" stroke=\"black\" d=\"M1215.5,-287C1215.5,-287 1187.69,-267.19 1166.4,-252.03\"/>\n",
       "</g>\n",
       "<!-- 42 -->\n",
       "<g id=\"node43\" class=\"node\">\n",
       "<title>42</title>\n",
       "<text text-anchor=\"start\" x=\"1221\" y=\"-231.3\" font-family=\"Courier,monospace\" font-weight=\"bold\" font-size=\"14.00\" fill=\"#004080\">Return</text>\n",
       "</g>\n",
       "<!-- 33&#45;&#45;42 -->\n",
       "<g id=\"edge42\" class=\"edge\">\n",
       "<title>33--42</title>\n",
       "<path fill=\"none\" stroke=\"black\" d=\"M1215.5,-287C1215.5,-287 1227.31,-267.19 1236.35,-252.03\"/>\n",
       "</g>\n",
       "<!-- 45 -->\n",
       "<g id=\"node46\" class=\"node\">\n",
       "<title>45</title>\n",
       "<text text-anchor=\"start\" x=\"1537\" y=\"-231.3\" font-family=\"Courier,monospace\" font-weight=\"bold\" font-size=\"14.00\" fill=\"#004080\">If</text>\n",
       "</g>\n",
       "<!-- 33&#45;&#45;45 -->\n",
       "<g id=\"edge45\" class=\"edge\">\n",
       "<title>33--45</title>\n",
       "<path fill=\"none\" stroke=\"black\" d=\"M1215.5,-287C1215.5,-287 1439.68,-251.67 1518.49,-239.26\"/>\n",
       "</g>\n",
       "<!-- 35 -->\n",
       "<g id=\"node36\" class=\"node\">\n",
       "<title>35</title>\n",
       "<text text-anchor=\"start\" x=\"1032.5\" y=\"-159.3\" font-family=\"Courier,monospace\" font-weight=\"bold\" font-size=\"14.00\" fill=\"#004080\">Name</text>\n",
       "</g>\n",
       "<!-- 34&#45;&#45;35 -->\n",
       "<g id=\"edge35\" class=\"edge\">\n",
       "<title>34--35</title>\n",
       "<path fill=\"none\" stroke=\"black\" d=\"M1138.5,-215C1138.5,-215 1102.86,-194.18 1076.69,-178.88\"/>\n",
       "</g>\n",
       "<!-- 38 -->\n",
       "<g id=\"node39\" class=\"node\">\n",
       "<title>38</title>\n",
       "<text text-anchor=\"middle\" x=\"1121.5\" y=\"-158.3\" font-family=\"Courier,monospace\" font-size=\"14.00\" fill=\"#008040\">Eq</text>\n",
       "</g>\n",
       "<!-- 34&#45;&#45;38 -->\n",
       "<g id=\"edge38\" class=\"edge\">\n",
       "<title>34--38</title>\n",
       "<path fill=\"none\" stroke=\"black\" d=\"M1138.5,-215C1138.5,-215 1132.02,-195.19 1127.07,-180.03\"/>\n",
       "</g>\n",
       "<!-- 39 -->\n",
       "<g id=\"node40\" class=\"node\">\n",
       "<title>39</title>\n",
       "<text text-anchor=\"start\" x=\"1176.5\" y=\"-159.3\" font-family=\"Courier,monospace\" font-weight=\"bold\" font-size=\"14.00\" fill=\"#004080\">Name</text>\n",
       "</g>\n",
       "<!-- 34&#45;&#45;39 -->\n",
       "<g id=\"edge39\" class=\"edge\">\n",
       "<title>34--39</title>\n",
       "<path fill=\"none\" stroke=\"black\" d=\"M1138.5,-215C1138.5,-215 1159.45,-195.19 1175.49,-180.03\"/>\n",
       "</g>\n",
       "<!-- 36 -->\n",
       "<g id=\"node37\" class=\"node\">\n",
       "<title>36</title>\n",
       "<text text-anchor=\"middle\" x=\"977.5\" y=\"-86.3\" font-family=\"Courier,monospace\" font-size=\"14.00\" fill=\"#008040\">&quot;b&quot;</text>\n",
       "</g>\n",
       "<!-- 35&#45;&#45;36 -->\n",
       "<g id=\"edge36\" class=\"edge\">\n",
       "<title>35--36</title>\n",
       "<path fill=\"none\" stroke=\"black\" d=\"M1041.5,-143C1041.5,-143 1017.12,-123.19 998.46,-108.03\"/>\n",
       "</g>\n",
       "<!-- 37 -->\n",
       "<g id=\"node38\" class=\"node\">\n",
       "<title>37</title>\n",
       "<text text-anchor=\"middle\" x=\"1049.5\" y=\"-86.3\" font-family=\"Courier,monospace\" font-size=\"14.00\" fill=\"#008040\">Load</text>\n",
       "</g>\n",
       "<!-- 35&#45;&#45;37 -->\n",
       "<g id=\"edge37\" class=\"edge\">\n",
       "<title>35--37</title>\n",
       "<path fill=\"none\" stroke=\"black\" d=\"M1041.5,-143C1041.5,-143 1044.55,-123.19 1046.88,-108.03\"/>\n",
       "</g>\n",
       "<!-- 40 -->\n",
       "<g id=\"node41\" class=\"node\">\n",
       "<title>40</title>\n",
       "<text text-anchor=\"middle\" x=\"1121.5\" y=\"-86.3\" font-family=\"Courier,monospace\" font-size=\"14.00\" fill=\"#008040\">&quot;c&quot;</text>\n",
       "</g>\n",
       "<!-- 39&#45;&#45;40 -->\n",
       "<g id=\"edge40\" class=\"edge\">\n",
       "<title>39--40</title>\n",
       "<path fill=\"none\" stroke=\"black\" d=\"M1185.5,-143C1185.5,-143 1161.12,-123.19 1142.46,-108.03\"/>\n",
       "</g>\n",
       "<!-- 41 -->\n",
       "<g id=\"node42\" class=\"node\">\n",
       "<title>41</title>\n",
       "<text text-anchor=\"middle\" x=\"1193.5\" y=\"-86.3\" font-family=\"Courier,monospace\" font-size=\"14.00\" fill=\"#008040\">Load</text>\n",
       "</g>\n",
       "<!-- 39&#45;&#45;41 -->\n",
       "<g id=\"edge41\" class=\"edge\">\n",
       "<title>39--41</title>\n",
       "<path fill=\"none\" stroke=\"black\" d=\"M1185.5,-143C1185.5,-143 1188.55,-123.19 1190.88,-108.03\"/>\n",
       "</g>\n",
       "<!-- 43 -->\n",
       "<g id=\"node44\" class=\"node\">\n",
       "<title>43</title>\n",
       "<text text-anchor=\"start\" x=\"1253.5\" y=\"-159.3\" font-family=\"Courier,monospace\" font-weight=\"bold\" font-size=\"14.00\" fill=\"#004080\">Constant</text>\n",
       "</g>\n",
       "<!-- 42&#45;&#45;43 -->\n",
       "<g id=\"edge43\" class=\"edge\">\n",
       "<title>42--43</title>\n",
       "<path fill=\"none\" stroke=\"black\" d=\"M1256.63,-215.7C1262.99,-204.85 1271.15,-190.92 1277.48,-180.1\"/>\n",
       "</g>\n",
       "<!-- 44 -->\n",
       "<g id=\"node45\" class=\"node\">\n",
       "<title>44</title>\n",
       "<text text-anchor=\"middle\" x=\"1293.5\" y=\"-86.3\" font-family=\"Courier,monospace\" font-size=\"14.00\" fill=\"#008040\">&quot;Isosceles&quot;</text>\n",
       "</g>\n",
       "<!-- 43&#45;&#45;44 -->\n",
       "<g id=\"edge44\" class=\"edge\">\n",
       "<title>43--44</title>\n",
       "<path fill=\"none\" stroke=\"black\" d=\"M1288.98,-143.7C1289.91,-132.85 1291.11,-118.92 1292.03,-108.1\"/>\n",
       "</g>\n",
       "<!-- 46 -->\n",
       "<g id=\"node47\" class=\"node\">\n",
       "<title>46</title>\n",
       "<text text-anchor=\"start\" x=\"1451\" y=\"-159.3\" font-family=\"Courier,monospace\" font-weight=\"bold\" font-size=\"14.00\" fill=\"#004080\">Compare</text>\n",
       "</g>\n",
       "<!-- 45&#45;&#45;46 -->\n",
       "<g id=\"edge46\" class=\"edge\">\n",
       "<title>45--46</title>\n",
       "<path fill=\"none\" stroke=\"black\" d=\"M1554.5,-215C1554.5,-215 1526.31,-195.19 1504.73,-180.03\"/>\n",
       "</g>\n",
       "<!-- 54 -->\n",
       "<g id=\"node55\" class=\"node\">\n",
       "<title>54</title>\n",
       "<text text-anchor=\"start\" x=\"1585\" y=\"-159.3\" font-family=\"Courier,monospace\" font-weight=\"bold\" font-size=\"14.00\" fill=\"#004080\">Return</text>\n",
       "</g>\n",
       "<!-- 45&#45;&#45;54 -->\n",
       "<g id=\"edge54\" class=\"edge\">\n",
       "<title>45--54</title>\n",
       "<path fill=\"none\" stroke=\"black\" d=\"M1554.5,-215C1554.5,-215 1575.83,-195.19 1592.16,-180.03\"/>\n",
       "</g>\n",
       "<!-- 57 -->\n",
       "<g id=\"node58\" class=\"node\">\n",
       "<title>57</title>\n",
       "<text text-anchor=\"start\" x=\"1708\" y=\"-159.3\" font-family=\"Courier,monospace\" font-weight=\"bold\" font-size=\"14.00\" fill=\"#004080\">Return</text>\n",
       "</g>\n",
       "<!-- 45&#45;&#45;57 -->\n",
       "<g id=\"edge57\" class=\"edge\">\n",
       "<title>45--57</title>\n",
       "<path fill=\"none\" stroke=\"black\" d=\"M1554.5,-215C1554.5,-215 1647.98,-187.84 1699.83,-172.78\"/>\n",
       "</g>\n",
       "<!-- 47 -->\n",
       "<g id=\"node48\" class=\"node\">\n",
       "<title>47</title>\n",
       "<text text-anchor=\"start\" x=\"1376.5\" y=\"-87.3\" font-family=\"Courier,monospace\" font-weight=\"bold\" font-size=\"14.00\" fill=\"#004080\">Name</text>\n",
       "</g>\n",
       "<!-- 46&#45;&#45;47 -->\n",
       "<g id=\"edge47\" class=\"edge\">\n",
       "<title>46--47</title>\n",
       "<path fill=\"none\" stroke=\"black\" d=\"M1477.5,-143C1477.5,-143 1445.1,-122.94 1420.54,-107.74\"/>\n",
       "</g>\n",
       "<!-- 50 -->\n",
       "<g id=\"node51\" class=\"node\">\n",
       "<title>50</title>\n",
       "<text text-anchor=\"middle\" x=\"1465.5\" y=\"-86.3\" font-family=\"Courier,monospace\" font-size=\"14.00\" fill=\"#008040\">Eq</text>\n",
       "</g>\n",
       "<!-- 46&#45;&#45;50 -->\n",
       "<g id=\"edge50\" class=\"edge\">\n",
       "<title>46--50</title>\n",
       "<path fill=\"none\" stroke=\"black\" d=\"M1477.5,-143C1477.5,-143 1472.93,-123.19 1469.43,-108.03\"/>\n",
       "</g>\n",
       "<!-- 51 -->\n",
       "<g id=\"node52\" class=\"node\">\n",
       "<title>51</title>\n",
       "<text text-anchor=\"start\" x=\"1520.5\" y=\"-87.3\" font-family=\"Courier,monospace\" font-weight=\"bold\" font-size=\"14.00\" fill=\"#004080\">Name</text>\n",
       "</g>\n",
       "<!-- 46&#45;&#45;51 -->\n",
       "<g id=\"edge51\" class=\"edge\">\n",
       "<title>46--51</title>\n",
       "<path fill=\"none\" stroke=\"black\" d=\"M1477.5,-143C1477.5,-143 1500.36,-123.19 1517.85,-108.03\"/>\n",
       "</g>\n",
       "<!-- 48 -->\n",
       "<g id=\"node49\" class=\"node\">\n",
       "<title>48</title>\n",
       "<text text-anchor=\"middle\" x=\"1321.5\" y=\"-14.3\" font-family=\"Courier,monospace\" font-size=\"14.00\" fill=\"#008040\">&quot;a&quot;</text>\n",
       "</g>\n",
       "<!-- 47&#45;&#45;48 -->\n",
       "<g id=\"edge48\" class=\"edge\">\n",
       "<title>47--48</title>\n",
       "<path fill=\"none\" stroke=\"black\" d=\"M1385.5,-71C1385.5,-71 1361.12,-51.19 1342.46,-36.03\"/>\n",
       "</g>\n",
       "<!-- 49 -->\n",
       "<g id=\"node50\" class=\"node\">\n",
       "<title>49</title>\n",
       "<text text-anchor=\"middle\" x=\"1393.5\" y=\"-14.3\" font-family=\"Courier,monospace\" font-size=\"14.00\" fill=\"#008040\">Load</text>\n",
       "</g>\n",
       "<!-- 47&#45;&#45;49 -->\n",
       "<g id=\"edge49\" class=\"edge\">\n",
       "<title>47--49</title>\n",
       "<path fill=\"none\" stroke=\"black\" d=\"M1385.5,-71C1385.5,-71 1388.55,-51.19 1390.88,-36.03\"/>\n",
       "</g>\n",
       "<!-- 52 -->\n",
       "<g id=\"node53\" class=\"node\">\n",
       "<title>52</title>\n",
       "<text text-anchor=\"middle\" x=\"1465.5\" y=\"-14.3\" font-family=\"Courier,monospace\" font-size=\"14.00\" fill=\"#008040\">&quot;c&quot;</text>\n",
       "</g>\n",
       "<!-- 51&#45;&#45;52 -->\n",
       "<g id=\"edge52\" class=\"edge\">\n",
       "<title>51--52</title>\n",
       "<path fill=\"none\" stroke=\"black\" d=\"M1529.5,-71C1529.5,-71 1505.12,-51.19 1486.46,-36.03\"/>\n",
       "</g>\n",
       "<!-- 53 -->\n",
       "<g id=\"node54\" class=\"node\">\n",
       "<title>53</title>\n",
       "<text text-anchor=\"middle\" x=\"1537.5\" y=\"-14.3\" font-family=\"Courier,monospace\" font-size=\"14.00\" fill=\"#008040\">Load</text>\n",
       "</g>\n",
       "<!-- 51&#45;&#45;53 -->\n",
       "<g id=\"edge53\" class=\"edge\">\n",
       "<title>51--53</title>\n",
       "<path fill=\"none\" stroke=\"black\" d=\"M1529.5,-71C1529.5,-71 1532.55,-51.19 1534.88,-36.03\"/>\n",
       "</g>\n",
       "<!-- 55 -->\n",
       "<g id=\"node56\" class=\"node\">\n",
       "<title>55</title>\n",
       "<text text-anchor=\"start\" x=\"1597.5\" y=\"-87.3\" font-family=\"Courier,monospace\" font-weight=\"bold\" font-size=\"14.00\" fill=\"#004080\">Constant</text>\n",
       "</g>\n",
       "<!-- 54&#45;&#45;55 -->\n",
       "<g id=\"edge55\" class=\"edge\">\n",
       "<title>54--55</title>\n",
       "<path fill=\"none\" stroke=\"black\" d=\"M1615.69,-143.7C1618.95,-132.85 1623.12,-118.92 1626.37,-108.1\"/>\n",
       "</g>\n",
       "<!-- 56 -->\n",
       "<g id=\"node57\" class=\"node\">\n",
       "<title>56</title>\n",
       "<text text-anchor=\"middle\" x=\"1637.5\" y=\"-14.3\" font-family=\"Courier,monospace\" font-size=\"14.00\" fill=\"#008040\">&quot;Isosceles&quot;</text>\n",
       "</g>\n",
       "<!-- 55&#45;&#45;56 -->\n",
       "<g id=\"edge56\" class=\"edge\">\n",
       "<title>55--56</title>\n",
       "<path fill=\"none\" stroke=\"black\" d=\"M1632.98,-71.7C1633.91,-60.85 1635.11,-46.92 1636.03,-36.1\"/>\n",
       "</g>\n",
       "<!-- 58 -->\n",
       "<g id=\"node59\" class=\"node\">\n",
       "<title>58</title>\n",
       "<text text-anchor=\"start\" x=\"1714.5\" y=\"-87.3\" font-family=\"Courier,monospace\" font-weight=\"bold\" font-size=\"14.00\" fill=\"#004080\">Constant</text>\n",
       "</g>\n",
       "<!-- 57&#45;&#45;58 -->\n",
       "<g id=\"edge58\" class=\"edge\">\n",
       "<title>57--58</title>\n",
       "<path fill=\"none\" stroke=\"black\" d=\"M1737.21,-143.7C1739.53,-132.85 1742.52,-118.92 1744.83,-108.1\"/>\n",
       "</g>\n",
       "<!-- 59 -->\n",
       "<g id=\"node60\" class=\"node\">\n",
       "<title>59</title>\n",
       "<text text-anchor=\"middle\" x=\"1756.5\" y=\"-14.3\" font-family=\"Courier,monospace\" font-size=\"14.00\" fill=\"#008040\">&quot;Scalene&quot;</text>\n",
       "</g>\n",
       "<!-- 58&#45;&#45;59 -->\n",
       "<g id=\"edge59\" class=\"edge\">\n",
       "<title>58--59</title>\n",
       "<path fill=\"none\" stroke=\"black\" d=\"M1750.48,-71.7C1751.72,-60.85 1753.31,-46.92 1754.55,-36.1\"/>\n",
       "</g>\n",
       "</g>\n",
       "</svg>"
      ],
      "text/plain": [
       "<IPython.core.display.SVG object>"
      ]
     },
     "metadata": {},
     "output_type": "display_data"
    }
   ],
   "source": [
    "if rich_output():\n",
    "    import showast\n",
    "    showast.show_ast(triangle_ast)"
   ]
  },
  {
   "cell_type": "markdown",
   "metadata": {
    "slideshow": {
     "slide_type": "fragment"
    }
   },
   "source": [
    "The function `ast.unparse()` converts such a tree back into the more familiar textual Python code representation."
   ]
  },
  {
   "cell_type": "code",
   "execution_count": 27,
   "metadata": {
    "execution": {
     "iopub.execute_input": "2022-01-11T09:09:54.215788Z",
     "iopub.status.busy": "2022-01-11T09:09:54.215138Z",
     "iopub.status.idle": "2022-01-11T09:09:54.217613Z",
     "shell.execute_reply": "2022-01-11T09:09:54.218163Z"
    },
    "slideshow": {
     "slide_type": "subslide"
    }
   },
   "outputs": [
    {
     "name": "stdout",
     "output_type": "stream",
     "text": [
      "\u001b[34mdef\u001b[39;49;00m \u001b[32mtriangle\u001b[39;49;00m(a, b, c):\n",
      "    \u001b[34mif\u001b[39;49;00m a == b:\n",
      "        \u001b[34mif\u001b[39;49;00m b == c:\n",
      "            \u001b[34mreturn\u001b[39;49;00m \u001b[33m'\u001b[39;49;00m\u001b[33mEquilateral\u001b[39;49;00m\u001b[33m'\u001b[39;49;00m\n",
      "        \u001b[34melse\u001b[39;49;00m:\n",
      "            \u001b[34mreturn\u001b[39;49;00m \u001b[33m'\u001b[39;49;00m\u001b[33mIsosceles\u001b[39;49;00m\u001b[33m'\u001b[39;49;00m\n",
      "    \u001b[34melif\u001b[39;49;00m b == c:\n",
      "        \u001b[34mreturn\u001b[39;49;00m \u001b[33m'\u001b[39;49;00m\u001b[33mIsosceles\u001b[39;49;00m\u001b[33m'\u001b[39;49;00m\n",
      "    \u001b[34melif\u001b[39;49;00m a == c:\n",
      "        \u001b[34mreturn\u001b[39;49;00m \u001b[33m'\u001b[39;49;00m\u001b[33mIsosceles\u001b[39;49;00m\u001b[33m'\u001b[39;49;00m\n",
      "    \u001b[34melse\u001b[39;49;00m:\n",
      "        \u001b[34mreturn\u001b[39;49;00m \u001b[33m'\u001b[39;49;00m\u001b[33mScalene\u001b[39;49;00m\u001b[33m'\u001b[39;49;00m"
     ]
    }
   ],
   "source": [
    "print_content(ast.unparse(triangle_ast), '.py')"
   ]
  },
  {
   "cell_type": "markdown",
   "metadata": {
    "slideshow": {
     "slide_type": "slide"
    }
   },
   "source": [
    "## A Simple Mutator for Functions\n",
    "\n",
    "Let us now go and mutate the `triangle()` program. A simple way to produce valid mutated version of this program is to replace some of its statements by `pass`.\n",
    "\n",
    "The `MuFunctionAnalyzer` is the main class responsible for mutation analysis of the test suite. It accepts the function to be tested. It normalizes the source code given by parsing and unparsing it once, using the functions discussed above. This is required to ensure that later `diff`s between the original and mutant are not derailed by differences in whitespace, comments, etc."
   ]
  },
  {
   "cell_type": "code",
   "execution_count": 28,
   "metadata": {
    "execution": {
     "iopub.execute_input": "2022-01-11T09:09:54.224616Z",
     "iopub.status.busy": "2022-01-11T09:09:54.223885Z",
     "iopub.status.idle": "2022-01-11T09:09:54.225727Z",
     "shell.execute_reply": "2022-01-11T09:09:54.226137Z"
    },
    "slideshow": {
     "slide_type": "subslide"
    }
   },
   "outputs": [],
   "source": [
    "class MuFunctionAnalyzer:\n",
    "    def __init__(self, fn, log=False):\n",
    "        self.fn = fn\n",
    "        self.name = fn.__name__\n",
    "        src = inspect.getsource(fn)\n",
    "        self.ast = ast.parse(src)\n",
    "        self.src = ast.unparse(self.ast)  # normalize\n",
    "        self.mutator = self.mutator_object()\n",
    "        self.nmutations = self.get_mutation_count()\n",
    "        self.un_detected = set()\n",
    "        self.mutants = []\n",
    "        self.log = log\n",
    "\n",
    "    def mutator_object(self, locations=None):\n",
    "        return StmtDeletionMutator(locations)\n",
    "\n",
    "    def register(self, m):\n",
    "        self.mutants.append(m)\n",
    "\n",
    "    def finish(self):\n",
    "        pass"
   ]
  },
  {
   "cell_type": "markdown",
   "metadata": {
    "slideshow": {
     "slide_type": "subslide"
    }
   },
   "source": [
    "The `get_mutation_count()` fetches the number of possible mutations available. We will see later how this can be implemented."
   ]
  },
  {
   "cell_type": "code",
   "execution_count": 29,
   "metadata": {
    "execution": {
     "iopub.execute_input": "2022-01-11T09:09:54.230427Z",
     "iopub.status.busy": "2022-01-11T09:09:54.229803Z",
     "iopub.status.idle": "2022-01-11T09:09:54.231522Z",
     "shell.execute_reply": "2022-01-11T09:09:54.231992Z"
    },
    "slideshow": {
     "slide_type": "fragment"
    }
   },
   "outputs": [],
   "source": [
    "class MuFunctionAnalyzer(MuFunctionAnalyzer):\n",
    "    def get_mutation_count(self):\n",
    "        self.mutator.visit(self.ast)\n",
    "        return self.mutator.count"
   ]
  },
  {
   "cell_type": "markdown",
   "metadata": {
    "slideshow": {
     "slide_type": "subslide"
    }
   },
   "source": [
    "The `Mutator` provides the base class for implementing individual mutations. It accepts a list of locations to mutate. It assumes that the method `mutable_visit()` is invoked on all nodes of interest as determined by the subclass. When the `Mutator` is invoked without a list of locations to mutate, it simply loops through all possible mutation points and retains a count in `self.count`. If it is invoked with a specific list of locations to mutate, the `mutable_visit()` method calls the `mutation_visit()` which performs the mutation on the node. Note that a single location can produce multiple mutations. (Hence the hashmap)."
   ]
  },
  {
   "cell_type": "code",
   "execution_count": 30,
   "metadata": {
    "execution": {
     "iopub.execute_input": "2022-01-11T09:09:54.236891Z",
     "iopub.status.busy": "2022-01-11T09:09:54.236278Z",
     "iopub.status.idle": "2022-01-11T09:09:54.238044Z",
     "shell.execute_reply": "2022-01-11T09:09:54.238423Z"
    },
    "slideshow": {
     "slide_type": "subslide"
    }
   },
   "outputs": [],
   "source": [
    "class Mutator(ast.NodeTransformer):\n",
    "    def __init__(self, mutate_location=-1):\n",
    "        self.count = 0\n",
    "        self.mutate_location = mutate_location\n",
    "\n",
    "    def mutable_visit(self, node):\n",
    "        self.count += 1  # statements start at line no 1\n",
    "        if self.count == self.mutate_location:\n",
    "            return self.mutation_visit(node)\n",
    "        return self.generic_visit(node)"
   ]
  },
  {
   "cell_type": "markdown",
   "metadata": {
    "slideshow": {
     "slide_type": "fragment"
    }
   },
   "source": [
    "The `StmtDeletionMutator` simply hooks into all the statement processing visitors. It performs mutation by replacing the given statement with `pass`.  As you can see, it visits all kinds of statements."
   ]
  },
  {
   "cell_type": "code",
   "execution_count": 31,
   "metadata": {
    "execution": {
     "iopub.execute_input": "2022-01-11T09:09:54.244988Z",
     "iopub.status.busy": "2022-01-11T09:09:54.244424Z",
     "iopub.status.idle": "2022-01-11T09:09:54.246466Z",
     "shell.execute_reply": "2022-01-11T09:09:54.247535Z"
    },
    "slideshow": {
     "slide_type": "subslide"
    }
   },
   "outputs": [],
   "source": [
    "class StmtDeletionMutator(Mutator):\n",
    "    def visit_Return(self, node): return self.mutable_visit(node)\n",
    "    def visit_Delete(self, node): return self.mutable_visit(node)\n",
    "\n",
    "    def visit_Assign(self, node): return self.mutable_visit(node)\n",
    "    def visit_AnnAssign(self, node): return self.mutable_visit(node)\n",
    "    def visit_AugAssign(self, node): return self.mutable_visit(node)\n",
    "\n",
    "    def visit_Raise(self, node): return self.mutable_visit(node)\n",
    "    def visit_Assert(self, node): return self.mutable_visit(node)\n",
    "\n",
    "    def visit_Global(self, node): return self.mutable_visit(node)\n",
    "    def visit_Nonlocal(self, node): return self.mutable_visit(node)\n",
    "\n",
    "    def visit_Expr(self, node): return self.mutable_visit(node)\n",
    "\n",
    "    def visit_Pass(self, node): return self.mutable_visit(node)\n",
    "    def visit_Break(self, node): return self.mutable_visit(node)\n",
    "    def visit_Continue(self, node): return self.mutable_visit(node)"
   ]
  },
  {
   "cell_type": "markdown",
   "metadata": {
    "slideshow": {
     "slide_type": "subslide"
    }
   },
   "source": [
    "The actual mutation consists of replacing the node with a `pass` statement:"
   ]
  },
  {
   "cell_type": "code",
   "execution_count": 32,
   "metadata": {
    "execution": {
     "iopub.execute_input": "2022-01-11T09:09:54.251647Z",
     "iopub.status.busy": "2022-01-11T09:09:54.250973Z",
     "iopub.status.idle": "2022-01-11T09:09:54.252708Z",
     "shell.execute_reply": "2022-01-11T09:09:54.253362Z"
    },
    "slideshow": {
     "slide_type": "fragment"
    }
   },
   "outputs": [],
   "source": [
    "class StmtDeletionMutator(StmtDeletionMutator):\n",
    "    def mutation_visit(self, node): return ast.Pass()    "
   ]
  },
  {
   "cell_type": "markdown",
   "metadata": {
    "slideshow": {
     "slide_type": "fragment"
    }
   },
   "source": [
    "For `triangle()`, this visitor produces five mutations – namely, replacing the five `return` statements with `pass`:"
   ]
  },
  {
   "cell_type": "code",
   "execution_count": 33,
   "metadata": {
    "execution": {
     "iopub.execute_input": "2022-01-11T09:09:54.258884Z",
     "iopub.status.busy": "2022-01-11T09:09:54.258225Z",
     "iopub.status.idle": "2022-01-11T09:09:54.260927Z",
     "shell.execute_reply": "2022-01-11T09:09:54.261471Z"
    },
    "slideshow": {
     "slide_type": "fragment"
    }
   },
   "outputs": [
    {
     "data": {
      "text/plain": [
       "5"
      ]
     },
     "execution_count": 33,
     "metadata": {},
     "output_type": "execute_result"
    }
   ],
   "source": [
    "MuFunctionAnalyzer(triangle).nmutations"
   ]
  },
  {
   "cell_type": "markdown",
   "metadata": {
    "slideshow": {
     "slide_type": "fragment"
    }
   },
   "source": [
    "We need a way to obtain the individual mutants. For this, we convert our `MuFunctionAnalyzer` to an *iterable*."
   ]
  },
  {
   "cell_type": "code",
   "execution_count": 34,
   "metadata": {
    "execution": {
     "iopub.execute_input": "2022-01-11T09:09:54.265274Z",
     "iopub.status.busy": "2022-01-11T09:09:54.264708Z",
     "iopub.status.idle": "2022-01-11T09:09:54.266428Z",
     "shell.execute_reply": "2022-01-11T09:09:54.266873Z"
    },
    "slideshow": {
     "slide_type": "fragment"
    }
   },
   "outputs": [],
   "source": [
    "class MuFunctionAnalyzer(MuFunctionAnalyzer):\n",
    "    def __iter__(self):\n",
    "        return PMIterator(self)"
   ]
  },
  {
   "cell_type": "markdown",
   "metadata": {
    "slideshow": {
     "slide_type": "fragment"
    }
   },
   "source": [
    "The `PMIterator`, which is the *iterator* class for `MuFunctionAnalyzer` is defined as follows."
   ]
  },
  {
   "cell_type": "code",
   "execution_count": 35,
   "metadata": {
    "execution": {
     "iopub.execute_input": "2022-01-11T09:09:54.271000Z",
     "iopub.status.busy": "2022-01-11T09:09:54.270453Z",
     "iopub.status.idle": "2022-01-11T09:09:54.272187Z",
     "shell.execute_reply": "2022-01-11T09:09:54.272574Z"
    },
    "slideshow": {
     "slide_type": "subslide"
    }
   },
   "outputs": [],
   "source": [
    "class PMIterator:\n",
    "    def __init__(self, pm):\n",
    "        self.pm = pm\n",
    "        self.idx = 0"
   ]
  },
  {
   "cell_type": "markdown",
   "metadata": {
    "slideshow": {
     "slide_type": "fragment"
    }
   },
   "source": [
    "The `next()` method returns the corresponding `Mutant`:"
   ]
  },
  {
   "cell_type": "code",
   "execution_count": 36,
   "metadata": {
    "execution": {
     "iopub.execute_input": "2022-01-11T09:09:54.277450Z",
     "iopub.status.busy": "2022-01-11T09:09:54.276747Z",
     "iopub.status.idle": "2022-01-11T09:09:54.278619Z",
     "shell.execute_reply": "2022-01-11T09:09:54.279035Z"
    },
    "slideshow": {
     "slide_type": "fragment"
    }
   },
   "outputs": [],
   "source": [
    "class PMIterator(PMIterator):\n",
    "    def __next__(self):\n",
    "        i = self.idx\n",
    "        if i >= self.pm.nmutations:\n",
    "            self.pm.finish()\n",
    "            raise StopIteration()\n",
    "        self.idx += 1\n",
    "        mutant = Mutant(self.pm, self.idx, log=self.pm.log)\n",
    "        self.pm.register(mutant)\n",
    "        return mutant"
   ]
  },
  {
   "cell_type": "markdown",
   "metadata": {
    "slideshow": {
     "slide_type": "subslide"
    }
   },
   "source": [
    "The `Mutant` class contains logic for generating mutants when given the locations to mutate."
   ]
  },
  {
   "cell_type": "code",
   "execution_count": 37,
   "metadata": {
    "execution": {
     "iopub.execute_input": "2022-01-11T09:09:54.283629Z",
     "iopub.status.busy": "2022-01-11T09:09:54.282994Z",
     "iopub.status.idle": "2022-01-11T09:09:54.284662Z",
     "shell.execute_reply": "2022-01-11T09:09:54.285088Z"
    },
    "slideshow": {
     "slide_type": "fragment"
    }
   },
   "outputs": [],
   "source": [
    "class Mutant:\n",
    "    def __init__(self, pm, location, log=False):\n",
    "        self.pm = pm\n",
    "        self.i = location\n",
    "        self.name = \"%s_%s\" % (self.pm.name, self.i)\n",
    "        self._src = None\n",
    "        self.tests = []\n",
    "        self.detected = False\n",
    "        self.log = log"
   ]
  },
  {
   "cell_type": "markdown",
   "metadata": {
    "slideshow": {
     "slide_type": "fragment"
    }
   },
   "source": [
    "Here is how it can be used:"
   ]
  },
  {
   "cell_type": "code",
   "execution_count": 38,
   "metadata": {
    "execution": {
     "iopub.execute_input": "2022-01-11T09:09:54.289588Z",
     "iopub.status.busy": "2022-01-11T09:09:54.288533Z",
     "iopub.status.idle": "2022-01-11T09:09:54.291704Z",
     "shell.execute_reply": "2022-01-11T09:09:54.292179Z"
    },
    "slideshow": {
     "slide_type": "subslide"
    }
   },
   "outputs": [
    {
     "name": "stdout",
     "output_type": "stream",
     "text": [
      "triangle_1\n",
      "triangle_2\n",
      "triangle_3\n",
      "triangle_4\n",
      "triangle_5\n"
     ]
    }
   ],
   "source": [
    "for m in MuFunctionAnalyzer(triangle):\n",
    "    print(m.name)"
   ]
  },
  {
   "cell_type": "markdown",
   "metadata": {
    "slideshow": {
     "slide_type": "fragment"
    }
   },
   "source": [
    "These names are a bit generic yet.  Let's see whether we can get more insights into the mutations produced."
   ]
  },
  {
   "cell_type": "markdown",
   "metadata": {
    "slideshow": {
     "slide_type": "fragment"
    }
   },
   "source": [
    "The `generate_mutant()` simply calls the `mutator()` method, and passes the mutator a copy of the AST. "
   ]
  },
  {
   "cell_type": "code",
   "execution_count": 39,
   "metadata": {
    "execution": {
     "iopub.execute_input": "2022-01-11T09:09:54.296819Z",
     "iopub.status.busy": "2022-01-11T09:09:54.296236Z",
     "iopub.status.idle": "2022-01-11T09:09:54.298063Z",
     "shell.execute_reply": "2022-01-11T09:09:54.298504Z"
    },
    "slideshow": {
     "slide_type": "subslide"
    }
   },
   "outputs": [],
   "source": [
    "class Mutant(Mutant):\n",
    "    def generate_mutant(self, location):\n",
    "        mutant_ast = self.pm.mutator_object(\n",
    "            location).visit(ast.parse(self.pm.src))  # copy\n",
    "        return ast.unparse(mutant_ast)"
   ]
  },
  {
   "cell_type": "markdown",
   "metadata": {
    "slideshow": {
     "slide_type": "fragment"
    }
   },
   "source": [
    "The `src()` method returns the mutated source."
   ]
  },
  {
   "cell_type": "code",
   "execution_count": 40,
   "metadata": {
    "execution": {
     "iopub.execute_input": "2022-01-11T09:09:54.303089Z",
     "iopub.status.busy": "2022-01-11T09:09:54.302269Z",
     "iopub.status.idle": "2022-01-11T09:09:54.304336Z",
     "shell.execute_reply": "2022-01-11T09:09:54.304878Z"
    },
    "slideshow": {
     "slide_type": "fragment"
    }
   },
   "outputs": [],
   "source": [
    "class Mutant(Mutant):\n",
    "    def src(self):\n",
    "        if self._src is None:\n",
    "            self._src = self.generate_mutant(self.i)\n",
    "        return self._src"
   ]
  },
  {
   "cell_type": "markdown",
   "metadata": {
    "slideshow": {
     "slide_type": "fragment"
    }
   },
   "source": [
    "Here is how one can obtain the mutants, and visualize the difference from the original:"
   ]
  },
  {
   "cell_type": "code",
   "execution_count": 41,
   "metadata": {
    "execution": {
     "iopub.execute_input": "2022-01-11T09:09:54.309600Z",
     "iopub.status.busy": "2022-01-11T09:09:54.308854Z",
     "iopub.status.idle": "2022-01-11T09:09:54.310995Z",
     "shell.execute_reply": "2022-01-11T09:09:54.311891Z"
    },
    "slideshow": {
     "slide_type": "skip"
    }
   },
   "outputs": [],
   "source": [
    "import difflib"
   ]
  },
  {
   "cell_type": "code",
   "execution_count": 42,
   "metadata": {
    "execution": {
     "iopub.execute_input": "2022-01-11T09:09:54.318994Z",
     "iopub.status.busy": "2022-01-11T09:09:54.318015Z",
     "iopub.status.idle": "2022-01-11T09:09:54.324834Z",
     "shell.execute_reply": "2022-01-11T09:09:54.325440Z"
    },
    "slideshow": {
     "slide_type": "subslide"
    }
   },
   "outputs": [
    {
     "name": "stdout",
     "output_type": "stream",
     "text": [
      "--- triangle\n",
      "\n",
      "+++ triangle_1\n",
      "\n",
      "@@ -1,7 +1,7 @@\n",
      "\n",
      " def triangle(a, b, c):\n",
      "     if a == b:\n",
      "         if b == c:\n",
      "-            return 'Equilateral'\n",
      "+            pass\n",
      "         else:\n",
      "             return 'Isosceles'\n",
      "     elif b == c:\n",
      "--- triangle\n",
      "\n",
      "+++ triangle_2\n",
      "\n",
      "@@ -3,7 +3,7 @@\n",
      "\n",
      "         if b == c:\n",
      "             return 'Equilateral'\n",
      "         else:\n",
      "-            return 'Isosceles'\n",
      "+            pass\n",
      "     elif b == c:\n",
      "         return 'Isosceles'\n",
      "     elif a == c:\n",
      "--- triangle\n",
      "\n",
      "+++ triangle_3\n",
      "\n",
      "@@ -5,7 +5,7 @@\n",
      "\n",
      "         else:\n",
      "             return 'Isosceles'\n",
      "     elif b == c:\n",
      "-        return 'Isosceles'\n",
      "+        pass\n",
      "     elif a == c:\n",
      "         return 'Isosceles'\n",
      "     else:\n",
      "--- triangle\n",
      "\n",
      "+++ triangle_4\n",
      "\n",
      "@@ -7,6 +7,6 @@\n",
      "\n",
      "     elif b == c:\n",
      "         return 'Isosceles'\n",
      "     elif a == c:\n",
      "-        return 'Isosceles'\n",
      "+        pass\n",
      "     else:\n",
      "         return 'Scalene'\n",
      "--- triangle\n",
      "\n",
      "+++ triangle_5\n",
      "\n",
      "@@ -9,4 +9,4 @@\n",
      "\n",
      "     elif a == c:\n",
      "         return 'Isosceles'\n",
      "     else:\n",
      "-        return 'Scalene'\n",
      "+        pass\n"
     ]
    }
   ],
   "source": [
    "for mutant in MuFunctionAnalyzer(triangle):\n",
    "    shape_src = mutant.pm.src\n",
    "    for line in difflib.unified_diff(mutant.pm.src.split('\\n'),\n",
    "                                     mutant.src().split('\\n'),\n",
    "                                     fromfile=mutant.pm.name,\n",
    "                                     tofile=mutant.name, n=3):\n",
    "        print(line)"
   ]
  },
  {
   "cell_type": "markdown",
   "metadata": {
    "slideshow": {
     "slide_type": "subslide"
    }
   },
   "source": [
    "In this `diff` output, lines prefixed with `+` are added, whereas lines prefixed with `-` are deleted.  We see that each of the five mutants indeed replaces a return statement with a `pass` statement."
   ]
  },
  {
   "cell_type": "markdown",
   "metadata": {
    "slideshow": {
     "slide_type": "fragment"
    }
   },
   "source": [
    "We add the `diff()` method to `Mutant` so that it can be called directly."
   ]
  },
  {
   "cell_type": "code",
   "execution_count": 43,
   "metadata": {
    "execution": {
     "iopub.execute_input": "2022-01-11T09:09:54.332916Z",
     "iopub.status.busy": "2022-01-11T09:09:54.331883Z",
     "iopub.status.idle": "2022-01-11T09:09:54.334039Z",
     "shell.execute_reply": "2022-01-11T09:09:54.334504Z"
    },
    "slideshow": {
     "slide_type": "fragment"
    }
   },
   "outputs": [],
   "source": [
    "class Mutant(Mutant):\n",
    "    def diff(self):\n",
    "        return '\\n'.join(difflib.unified_diff(self.pm.src.split('\\n'),\n",
    "                                              self.src().split('\\n'),\n",
    "                                              fromfile='original',\n",
    "                                              tofile='mutant',\n",
    "                                              n=3))"
   ]
  },
  {
   "cell_type": "markdown",
   "metadata": {
    "slideshow": {
     "slide_type": "slide"
    }
   },
   "source": [
    "## Evaluating Mutations\n",
    "\n",
    "We are now ready to implement the actual evaluation. We define our mutant as a _context manager_ that verifies whether all assertions given succeed.  The idea is that we can write code such as\n",
    "\n",
    "```python\n",
    "for mutant in MuFunctionAnalyzer(function):\n",
    "    with mutant:\n",
    "        assert function(x) == y\n",
    "```\n",
    "\n",
    "and while `mutant` is active (i.e., the code block under `with:`), the original function is replaced by the mutated function."
   ]
  },
  {
   "cell_type": "markdown",
   "metadata": {
    "slideshow": {
     "slide_type": "subslide"
    }
   },
   "source": [
    "The `__enter__()` function is called when the `with` block is entered.  It creates the mutant as a Python function and places it in the global namespace, such that the `assert` statement executes the mutated function rather than the original."
   ]
  },
  {
   "cell_type": "code",
   "execution_count": 44,
   "metadata": {
    "execution": {
     "iopub.execute_input": "2022-01-11T09:09:54.339754Z",
     "iopub.status.busy": "2022-01-11T09:09:54.339097Z",
     "iopub.status.idle": "2022-01-11T09:09:54.340844Z",
     "shell.execute_reply": "2022-01-11T09:09:54.341374Z"
    },
    "slideshow": {
     "slide_type": "fragment"
    }
   },
   "outputs": [],
   "source": [
    "class Mutant(Mutant):\n",
    "    def __enter__(self):\n",
    "        if self.log:\n",
    "            print('->\\t%s' % self.name)\n",
    "        c = compile(self.src(), '<mutant>', 'exec')\n",
    "        eval(c, globals())"
   ]
  },
  {
   "cell_type": "markdown",
   "metadata": {
    "slideshow": {
     "slide_type": "fragment"
    }
   },
   "source": [
    "The `__exit__()` function checks whether an exception has occurred (i.e., the assertion failed, or some other error was raised); if so, it marks the mutation as `detected`.  Finally, it restores the original function definition."
   ]
  },
  {
   "cell_type": "code",
   "execution_count": 45,
   "metadata": {
    "execution": {
     "iopub.execute_input": "2022-01-11T09:09:54.348172Z",
     "iopub.status.busy": "2022-01-11T09:09:54.347304Z",
     "iopub.status.idle": "2022-01-11T09:09:54.349588Z",
     "shell.execute_reply": "2022-01-11T09:09:54.350103Z"
    },
    "slideshow": {
     "slide_type": "subslide"
    }
   },
   "outputs": [],
   "source": [
    "class Mutant(Mutant):\n",
    "    def __exit__(self, exc_type, exc_value, traceback):\n",
    "        if self.log:\n",
    "            print('<-\\t%s' % self.name)\n",
    "        if exc_type is not None:\n",
    "            self.detected = True\n",
    "            if self.log:\n",
    "                print(\"Detected %s\" % self.name, exc_type, exc_value)\n",
    "        globals()[self.pm.name] = self.pm.fn\n",
    "        if self.log:\n",
    "            print()\n",
    "        return True"
   ]
  },
  {
   "cell_type": "markdown",
   "metadata": {
    "slideshow": {
     "slide_type": "fragment"
    }
   },
   "source": [
    "The `finish()` method simply invokes the method on the mutant, checks if the mutant was discovered, and returns the result."
   ]
  },
  {
   "cell_type": "code",
   "execution_count": 46,
   "metadata": {
    "execution": {
     "iopub.execute_input": "2022-01-11T09:09:54.354266Z",
     "iopub.status.busy": "2022-01-11T09:09:54.353619Z",
     "iopub.status.idle": "2022-01-11T09:09:54.356117Z",
     "shell.execute_reply": "2022-01-11T09:09:54.355517Z"
    },
    "slideshow": {
     "slide_type": "skip"
    }
   },
   "outputs": [],
   "source": [
    "from ExpectError import ExpectTimeout"
   ]
  },
  {
   "cell_type": "code",
   "execution_count": 47,
   "metadata": {
    "execution": {
     "iopub.execute_input": "2022-01-11T09:09:54.361358Z",
     "iopub.status.busy": "2022-01-11T09:09:54.360580Z",
     "iopub.status.idle": "2022-01-11T09:09:54.362807Z",
     "shell.execute_reply": "2022-01-11T09:09:54.363291Z"
    },
    "slideshow": {
     "slide_type": "subslide"
    }
   },
   "outputs": [],
   "source": [
    "class MuFunctionAnalyzer(MuFunctionAnalyzer):\n",
    "    def finish(self):\n",
    "        self.un_detected = {\n",
    "            mutant for mutant in self.mutants if not mutant.detected}"
   ]
  },
  {
   "cell_type": "markdown",
   "metadata": {
    "slideshow": {
     "slide_type": "fragment"
    }
   },
   "source": [
    "The mutation score – the ratio of mutants detected by the test suite - is computed by `score()`.  A score of 1.0 means that all mutants were discovered; a score of 0.1 means that only 10% of mutants were detected."
   ]
  },
  {
   "cell_type": "code",
   "execution_count": 48,
   "metadata": {
    "execution": {
     "iopub.execute_input": "2022-01-11T09:09:54.367769Z",
     "iopub.status.busy": "2022-01-11T09:09:54.367135Z",
     "iopub.status.idle": "2022-01-11T09:09:54.369081Z",
     "shell.execute_reply": "2022-01-11T09:09:54.369570Z"
    },
    "slideshow": {
     "slide_type": "fragment"
    }
   },
   "outputs": [],
   "source": [
    "class MuFunctionAnalyzer(MuFunctionAnalyzer):\n",
    "    def score(self):\n",
    "        return (self.nmutations - len(self.un_detected)) / self.nmutations"
   ]
  },
  {
   "cell_type": "markdown",
   "metadata": {
    "slideshow": {
     "slide_type": "fragment"
    }
   },
   "source": [
    "Here is how we use our framework."
   ]
  },
  {
   "cell_type": "code",
   "execution_count": 49,
   "metadata": {
    "execution": {
     "iopub.execute_input": "2022-01-11T09:09:54.374181Z",
     "iopub.status.busy": "2022-01-11T09:09:54.373512Z",
     "iopub.status.idle": "2022-01-11T09:09:54.376191Z",
     "shell.execute_reply": "2022-01-11T09:09:54.376884Z"
    },
    "slideshow": {
     "slide_type": "skip"
    }
   },
   "outputs": [],
   "source": [
    "import sys"
   ]
  },
  {
   "cell_type": "code",
   "execution_count": 50,
   "metadata": {
    "execution": {
     "iopub.execute_input": "2022-01-11T09:09:54.383563Z",
     "iopub.status.busy": "2022-01-11T09:09:54.381074Z",
     "iopub.status.idle": "2022-01-11T09:09:54.388409Z",
     "shell.execute_reply": "2022-01-11T09:09:54.388855Z"
    },
    "slideshow": {
     "slide_type": "subslide"
    }
   },
   "outputs": [
    {
     "name": "stdout",
     "output_type": "stream",
     "text": [
      "->\ttriangle_1\n",
      "<-\ttriangle_1\n",
      "Detected triangle_1 <class 'AssertionError'> Equal Check1\n",
      "\n",
      "->\ttriangle_2\n",
      "<-\ttriangle_2\n",
      "\n",
      "->\ttriangle_3\n",
      "<-\ttriangle_3\n",
      "\n",
      "->\ttriangle_4\n",
      "<-\ttriangle_4\n",
      "\n",
      "->\ttriangle_5\n",
      "<-\ttriangle_5\n",
      "\n"
     ]
    },
    {
     "data": {
      "text/plain": [
       "0.2"
      ]
     },
     "execution_count": 50,
     "metadata": {},
     "output_type": "execute_result"
    }
   ],
   "source": [
    "for mutant in MuFunctionAnalyzer(triangle, log=True):\n",
    "    with mutant:\n",
    "        assert triangle(1, 1, 1) == 'Equilateral', \"Equal Check1\"\n",
    "        assert triangle(1, 0, 1) != 'Equilateral', \"Equal Check2\"\n",
    "        assert triangle(1, 0, 2) != 'Equilateral', \"Equal Check3\"\n",
    "mutant.pm.score()"
   ]
  },
  {
   "cell_type": "markdown",
   "metadata": {
    "slideshow": {
     "slide_type": "subslide"
    }
   },
   "source": [
    "Only one out of five mutations resulted in a failing assertion.  Hence, the `weak_oracle()` test suite gets a mutation score of 20%."
   ]
  },
  {
   "cell_type": "code",
   "execution_count": 51,
   "metadata": {
    "execution": {
     "iopub.execute_input": "2022-01-11T09:09:54.396546Z",
     "iopub.status.busy": "2022-01-11T09:09:54.392393Z",
     "iopub.status.idle": "2022-01-11T09:09:54.398945Z",
     "shell.execute_reply": "2022-01-11T09:09:54.399405Z"
    },
    "slideshow": {
     "slide_type": "fragment"
    }
   },
   "outputs": [
    {
     "data": {
      "text/plain": [
       "0.2"
      ]
     },
     "execution_count": 51,
     "metadata": {},
     "output_type": "execute_result"
    }
   ],
   "source": [
    "for mutant in MuFunctionAnalyzer(triangle):\n",
    "    with mutant:\n",
    "        weak_oracle(triangle)\n",
    "mutant.pm.score()"
   ]
  },
  {
   "cell_type": "markdown",
   "metadata": {
    "slideshow": {
     "slide_type": "fragment"
    }
   },
   "source": [
    "Since we are modifying the global namespace, we do not have to refer to the function directly within the for loop of mutant."
   ]
  },
  {
   "cell_type": "code",
   "execution_count": 52,
   "metadata": {
    "execution": {
     "iopub.execute_input": "2022-01-11T09:09:54.403165Z",
     "iopub.status.busy": "2022-01-11T09:09:54.402556Z",
     "iopub.status.idle": "2022-01-11T09:09:54.404955Z",
     "shell.execute_reply": "2022-01-11T09:09:54.404404Z"
    },
    "slideshow": {
     "slide_type": "fragment"
    }
   },
   "outputs": [],
   "source": [
    "def oracle():\n",
    "    strong_oracle(triangle)"
   ]
  },
  {
   "cell_type": "code",
   "execution_count": 53,
   "metadata": {
    "execution": {
     "iopub.execute_input": "2022-01-11T09:09:54.412765Z",
     "iopub.status.busy": "2022-01-11T09:09:54.409176Z",
     "iopub.status.idle": "2022-01-11T09:09:54.416008Z",
     "shell.execute_reply": "2022-01-11T09:09:54.416489Z"
    },
    "slideshow": {
     "slide_type": "subslide"
    }
   },
   "outputs": [
    {
     "name": "stdout",
     "output_type": "stream",
     "text": [
      "->\ttriangle_1\n",
      "<-\ttriangle_1\n",
      "Detected triangle_1 <class 'AssertionError'> \n",
      "\n",
      "->\ttriangle_2\n",
      "<-\ttriangle_2\n",
      "Detected triangle_2 <class 'AssertionError'> \n",
      "\n",
      "->\ttriangle_3\n",
      "<-\ttriangle_3\n",
      "Detected triangle_3 <class 'AssertionError'> \n",
      "\n",
      "->\ttriangle_4\n",
      "<-\ttriangle_4\n",
      "Detected triangle_4 <class 'AssertionError'> \n",
      "\n",
      "->\ttriangle_5\n",
      "<-\ttriangle_5\n",
      "Detected triangle_5 <class 'AssertionError'> \n",
      "\n"
     ]
    },
    {
     "data": {
      "text/plain": [
       "1.0"
      ]
     },
     "execution_count": 53,
     "metadata": {},
     "output_type": "execute_result"
    }
   ],
   "source": [
    "for mutant in MuFunctionAnalyzer(triangle, log=True):\n",
    "    with mutant:\n",
    "        oracle()\n",
    "mutant.pm.score()"
   ]
  },
  {
   "cell_type": "markdown",
   "metadata": {
    "slideshow": {
     "slide_type": "subslide"
    }
   },
   "source": [
    "That is, we were able to achieve `100%` mutation score with the `strong_oracle()` test suite.\n",
    "\n",
    "Here is another example. `gcd()` computes the greatest common divisor of two numbers."
   ]
  },
  {
   "cell_type": "code",
   "execution_count": 54,
   "metadata": {
    "execution": {
     "iopub.execute_input": "2022-01-11T09:09:54.420892Z",
     "iopub.status.busy": "2022-01-11T09:09:54.420304Z",
     "iopub.status.idle": "2022-01-11T09:09:54.422087Z",
     "shell.execute_reply": "2022-01-11T09:09:54.422501Z"
    },
    "slideshow": {
     "slide_type": "subslide"
    }
   },
   "outputs": [],
   "source": [
    "def gcd(a, b):\n",
    "    if a < b:\n",
    "        c = a\n",
    "        a = b\n",
    "        b = c\n",
    "\n",
    "    while b != 0:\n",
    "        c = a\n",
    "        a = b\n",
    "        b = c % b\n",
    "\n",
    "    return a"
   ]
  },
  {
   "cell_type": "markdown",
   "metadata": {
    "slideshow": {
     "slide_type": "fragment"
    }
   },
   "source": [
    "Here's a test for it.  How effective is it?"
   ]
  },
  {
   "cell_type": "code",
   "execution_count": 55,
   "metadata": {
    "execution": {
     "iopub.execute_input": "2022-01-11T09:09:54.432313Z",
     "iopub.status.busy": "2022-01-11T09:09:54.428642Z",
     "iopub.status.idle": "2022-01-11T09:09:54.435289Z",
     "shell.execute_reply": "2022-01-11T09:09:54.436172Z"
    },
    "slideshow": {
     "slide_type": "subslide"
    }
   },
   "outputs": [
    {
     "name": "stdout",
     "output_type": "stream",
     "text": [
      "->\tgcd_1\n",
      "<-\tgcd_1\n",
      "Detected gcd_1 <class 'UnboundLocalError'> local variable 'c' referenced before assignment\n",
      "\n",
      "->\tgcd_2\n",
      "<-\tgcd_2\n",
      "Detected gcd_2 <class 'AssertionError'> Mirror\n",
      "\n",
      "->\tgcd_3\n",
      "<-\tgcd_3\n",
      "\n",
      "->\tgcd_4\n",
      "<-\tgcd_4\n",
      "\n",
      "->\tgcd_5\n",
      "<-\tgcd_5\n",
      "\n",
      "->\tgcd_6\n",
      "<-\tgcd_6\n",
      "\n",
      "->\tgcd_7\n",
      "<-\tgcd_7\n",
      "Detected gcd_7 <class 'AssertionError'> Minimal\n",
      "\n"
     ]
    }
   ],
   "source": [
    "for mutant in MuFunctionAnalyzer(gcd, log=True):\n",
    "    with mutant:\n",
    "        assert gcd(1, 0) == 1, \"Minimal\"\n",
    "        assert gcd(0, 1) == 1, \"Mirror\""
   ]
  },
  {
   "cell_type": "code",
   "execution_count": 56,
   "metadata": {
    "execution": {
     "iopub.execute_input": "2022-01-11T09:09:54.441760Z",
     "iopub.status.busy": "2022-01-11T09:09:54.440886Z",
     "iopub.status.idle": "2022-01-11T09:09:54.444464Z",
     "shell.execute_reply": "2022-01-11T09:09:54.444999Z"
    },
    "slideshow": {
     "slide_type": "subslide"
    }
   },
   "outputs": [
    {
     "data": {
      "text/plain": [
       "0.42857142857142855"
      ]
     },
     "execution_count": 56,
     "metadata": {},
     "output_type": "execute_result"
    }
   ],
   "source": [
    "mutant.pm.score()"
   ]
  },
  {
   "cell_type": "markdown",
   "metadata": {
    "slideshow": {
     "slide_type": "fragment"
    }
   },
   "source": [
    "We see that our `TestGCD` test suite is able to obtain a mutation score of 42%."
   ]
  },
  {
   "cell_type": "markdown",
   "metadata": {
    "button": false,
    "new_sheet": true,
    "run_control": {
     "read_only": false
    },
    "slideshow": {
     "slide_type": "slide"
    }
   },
   "source": [
    "## Mutator for Modules and Test Suites\n",
    "\n",
    "Consider the `triangle()` program we discussed previously. As we discussed, a simple way to produce valid mutated version of this program is to replace some of its statements by `pass`."
   ]
  },
  {
   "cell_type": "markdown",
   "metadata": {
    "slideshow": {
     "slide_type": "fragment"
    }
   },
   "source": [
    "For demonstration purposes, we would like to proceed as though the program was in a different file. We can do that by producing a `Module` object in Python, and attaching the function to it."
   ]
  },
  {
   "cell_type": "code",
   "execution_count": 57,
   "metadata": {
    "execution": {
     "iopub.execute_input": "2022-01-11T09:09:54.451119Z",
     "iopub.status.busy": "2022-01-11T09:09:54.449987Z",
     "iopub.status.idle": "2022-01-11T09:09:54.452275Z",
     "shell.execute_reply": "2022-01-11T09:09:54.452702Z"
    },
    "slideshow": {
     "slide_type": "skip"
    }
   },
   "outputs": [],
   "source": [
    "import types"
   ]
  },
  {
   "cell_type": "code",
   "execution_count": 58,
   "metadata": {
    "execution": {
     "iopub.execute_input": "2022-01-11T09:09:54.457413Z",
     "iopub.status.busy": "2022-01-11T09:09:54.456542Z",
     "iopub.status.idle": "2022-01-11T09:09:54.458876Z",
     "shell.execute_reply": "2022-01-11T09:09:54.459399Z"
    },
    "slideshow": {
     "slide_type": "fragment"
    }
   },
   "outputs": [],
   "source": [
    "def import_code(code, name):\n",
    "    module = types.ModuleType(name)\n",
    "    exec(code, module.__dict__)\n",
    "    return module"
   ]
  },
  {
   "cell_type": "markdown",
   "metadata": {
    "slideshow": {
     "slide_type": "fragment"
    }
   },
   "source": [
    "We attach the `triangle()` function to the `shape` module."
   ]
  },
  {
   "cell_type": "code",
   "execution_count": 59,
   "metadata": {
    "execution": {
     "iopub.execute_input": "2022-01-11T09:09:54.463859Z",
     "iopub.status.busy": "2022-01-11T09:09:54.463214Z",
     "iopub.status.idle": "2022-01-11T09:09:54.464981Z",
     "shell.execute_reply": "2022-01-11T09:09:54.465408Z"
    },
    "slideshow": {
     "slide_type": "fragment"
    }
   },
   "outputs": [],
   "source": [
    "shape = import_code(shape_src, 'shape')"
   ]
  },
  {
   "cell_type": "markdown",
   "metadata": {
    "slideshow": {
     "slide_type": "subslide"
    }
   },
   "source": [
    "We can now invoke triangle through the module `shape`."
   ]
  },
  {
   "cell_type": "code",
   "execution_count": 60,
   "metadata": {
    "execution": {
     "iopub.execute_input": "2022-01-11T09:09:54.470055Z",
     "iopub.status.busy": "2022-01-11T09:09:54.469366Z",
     "iopub.status.idle": "2022-01-11T09:09:54.472702Z",
     "shell.execute_reply": "2022-01-11T09:09:54.473181Z"
    },
    "slideshow": {
     "slide_type": "fragment"
    }
   },
   "outputs": [
    {
     "data": {
      "text/plain": [
       "'Equilateral'"
      ]
     },
     "execution_count": 60,
     "metadata": {},
     "output_type": "execute_result"
    }
   ],
   "source": [
    "shape.triangle(1, 1, 1)"
   ]
  },
  {
   "cell_type": "markdown",
   "metadata": {
    "slideshow": {
     "slide_type": "fragment"
    }
   },
   "source": [
    "We want to test the `triangle()` function. For that, we define a `StrongShapeTest` class as below."
   ]
  },
  {
   "cell_type": "code",
   "execution_count": 61,
   "metadata": {
    "button": false,
    "execution": {
     "iopub.execute_input": "2022-01-11T09:09:54.477768Z",
     "iopub.status.busy": "2022-01-11T09:09:54.477159Z",
     "iopub.status.idle": "2022-01-11T09:09:54.485920Z",
     "shell.execute_reply": "2022-01-11T09:09:54.486366Z"
    },
    "new_sheet": false,
    "run_control": {
     "read_only": false
    },
    "slideshow": {
     "slide_type": "skip"
    }
   },
   "outputs": [],
   "source": [
    "import unittest"
   ]
  },
  {
   "cell_type": "code",
   "execution_count": 62,
   "metadata": {
    "button": false,
    "execution": {
     "iopub.execute_input": "2022-01-11T09:09:54.491788Z",
     "iopub.status.busy": "2022-01-11T09:09:54.491104Z",
     "iopub.status.idle": "2022-01-11T09:09:54.493075Z",
     "shell.execute_reply": "2022-01-11T09:09:54.493585Z"
    },
    "new_sheet": false,
    "run_control": {
     "read_only": false
    },
    "slideshow": {
     "slide_type": "skip"
    }
   },
   "outputs": [],
   "source": [
    "class StrongShapeTest(unittest.TestCase):\n",
    "\n",
    "    def test_equilateral(self):\n",
    "        assert shape.triangle(1, 1, 1) == 'Equilateral'\n",
    "\n",
    "    def test_isosceles(self):\n",
    "        assert shape.triangle(1, 2, 1) == 'Isosceles'\n",
    "        assert shape.triangle(2, 2, 1) == 'Isosceles'\n",
    "        assert shape.triangle(1, 2, 2) == 'Isosceles'\n",
    "\n",
    "    def test_scalene(self):\n",
    "        assert shape.triangle(1, 2, 3) == 'Scalene'"
   ]
  },
  {
   "cell_type": "markdown",
   "metadata": {
    "slideshow": {
     "slide_type": "fragment"
    }
   },
   "source": [
    "We define a helper function `suite()` that looks through a given class and identifies the test functions."
   ]
  },
  {
   "cell_type": "code",
   "execution_count": 63,
   "metadata": {
    "button": false,
    "execution": {
     "iopub.execute_input": "2022-01-11T09:09:54.499483Z",
     "iopub.status.busy": "2022-01-11T09:09:54.498459Z",
     "iopub.status.idle": "2022-01-11T09:09:54.500453Z",
     "shell.execute_reply": "2022-01-11T09:09:54.500843Z"
    },
    "new_sheet": false,
    "run_control": {
     "read_only": false
    },
    "slideshow": {
     "slide_type": "skip"
    }
   },
   "outputs": [],
   "source": [
    "def suite(test_class):\n",
    "    suite = unittest.TestSuite()\n",
    "    for f in test_class.__dict__:\n",
    "        if f.startswith('test_'):\n",
    "            suite.addTest(test_class(f))\n",
    "    return suite"
   ]
  },
  {
   "cell_type": "markdown",
   "metadata": {
    "slideshow": {
     "slide_type": "fragment"
    }
   },
   "source": [
    "The tests in `TestTriangle` class can be invoked with different test runners. The simplest is to directly invoke the `run()` method of the `TestCase`."
   ]
  },
  {
   "cell_type": "code",
   "execution_count": 64,
   "metadata": {
    "execution": {
     "iopub.execute_input": "2022-01-11T09:09:54.505496Z",
     "iopub.status.busy": "2022-01-11T09:09:54.504859Z",
     "iopub.status.idle": "2022-01-11T09:09:54.507577Z",
     "shell.execute_reply": "2022-01-11T09:09:54.508046Z"
    },
    "slideshow": {
     "slide_type": "fragment"
    }
   },
   "outputs": [
    {
     "data": {
      "text/plain": [
       "<unittest.result.TestResult run=3 errors=0 failures=0>"
      ]
     },
     "execution_count": 64,
     "metadata": {},
     "output_type": "execute_result"
    }
   ],
   "source": [
    "suite(StrongShapeTest).run(unittest.TestResult())"
   ]
  },
  {
   "cell_type": "markdown",
   "metadata": {
    "slideshow": {
     "slide_type": "fragment"
    }
   },
   "source": [
    "The `TextTestRunner` class provides ability to control the verbosity of execution. It also allows one to return on the *first* failure."
   ]
  },
  {
   "cell_type": "code",
   "execution_count": 65,
   "metadata": {
    "button": false,
    "execution": {
     "iopub.execute_input": "2022-01-11T09:09:54.513278Z",
     "iopub.status.busy": "2022-01-11T09:09:54.512447Z",
     "iopub.status.idle": "2022-01-11T09:09:54.516499Z",
     "shell.execute_reply": "2022-01-11T09:09:54.516933Z"
    },
    "new_sheet": false,
    "run_control": {
     "read_only": false
    },
    "slideshow": {
     "slide_type": "skip"
    }
   },
   "outputs": [
    {
     "name": "stderr",
     "output_type": "stream",
     "text": [
      "----------------------------------------------------------------------\n",
      "Ran 3 tests in 0.000s\n",
      "\n",
      "OK\n"
     ]
    },
    {
     "data": {
      "text/plain": [
       "<unittest.runner.TextTestResult run=3 errors=0 failures=0>"
      ]
     },
     "execution_count": 65,
     "metadata": {},
     "output_type": "execute_result"
    }
   ],
   "source": [
    "runner = unittest.TextTestRunner(verbosity=0, failfast=True)\n",
    "runner.run(suite(StrongShapeTest))"
   ]
  },
  {
   "cell_type": "markdown",
   "metadata": {
    "slideshow": {
     "slide_type": "fragment"
    }
   },
   "source": [
    "Running the program under coverage is accomplished as follows:"
   ]
  },
  {
   "cell_type": "code",
   "execution_count": 66,
   "metadata": {
    "execution": {
     "iopub.execute_input": "2022-01-11T09:09:54.522581Z",
     "iopub.status.busy": "2022-01-11T09:09:54.521721Z",
     "iopub.status.idle": "2022-01-11T09:09:54.523799Z",
     "shell.execute_reply": "2022-01-11T09:09:54.524304Z"
    },
    "slideshow": {
     "slide_type": "fragment"
    }
   },
   "outputs": [],
   "source": [
    "with VisualCoverage() as cov:\n",
    "    suite(StrongShapeTest).run(unittest.TestResult())"
   ]
  },
  {
   "cell_type": "markdown",
   "metadata": {
    "slideshow": {
     "slide_type": "fragment"
    }
   },
   "source": [
    "The coverage obtained is given by:"
   ]
  },
  {
   "cell_type": "code",
   "execution_count": 67,
   "metadata": {
    "execution": {
     "iopub.execute_input": "2022-01-11T09:09:54.528987Z",
     "iopub.status.busy": "2022-01-11T09:09:54.528293Z",
     "iopub.status.idle": "2022-01-11T09:09:54.530960Z",
     "shell.execute_reply": "2022-01-11T09:09:54.531400Z"
    },
    "slideshow": {
     "slide_type": "subslide"
    }
   },
   "outputs": [
    {
     "name": "stdout",
     "output_type": "stream",
     "text": [
      "   1: def triangle(a, b, c):\n",
      "#  2:     if a == b:\n",
      "#  3:         if b == c:\n",
      "#  4:             return 'Equilateral'\n",
      "   5:         else:\n",
      "#  6:             return 'Isosceles'\n",
      "#  7:     else:\n",
      "#  8:         if b == c:\n",
      "#  9:             return \"Isosceles\"\n",
      "# 10:         else:\n",
      "  11:             if a == c:\n",
      "# 12:                 return \"Isosceles\"\n",
      "  13:             else:\n",
      "  14:                 return \"Scalene\"\n",
      "  15: \n"
     ]
    }
   ],
   "source": [
    "cov.show_coverage(triangle)"
   ]
  },
  {
   "cell_type": "code",
   "execution_count": 68,
   "metadata": {
    "execution": {
     "iopub.execute_input": "2022-01-11T09:09:54.536690Z",
     "iopub.status.busy": "2022-01-11T09:09:54.536014Z",
     "iopub.status.idle": "2022-01-11T09:09:54.538083Z",
     "shell.execute_reply": "2022-01-11T09:09:54.538586Z"
    },
    "slideshow": {
     "slide_type": "subslide"
    }
   },
   "outputs": [],
   "source": [
    "class WeakShapeTest(unittest.TestCase):\n",
    "    def test_equilateral(self):\n",
    "        assert shape.triangle(1, 1, 1) == 'Equilateral'\n",
    "\n",
    "    def test_isosceles(self):\n",
    "        assert shape.triangle(1, 2, 1) != 'Equilateral'\n",
    "        assert shape.triangle(2, 2, 1) != 'Equilateral'\n",
    "        assert shape.triangle(1, 2, 2) != 'Equilateral'\n",
    "\n",
    "    def test_scalene(self):\n",
    "        assert shape.triangle(1, 2, 3) != 'Equilateral'"
   ]
  },
  {
   "cell_type": "markdown",
   "metadata": {
    "slideshow": {
     "slide_type": "fragment"
    }
   },
   "source": [
    "How much coverage does it obtain?"
   ]
  },
  {
   "cell_type": "code",
   "execution_count": 69,
   "metadata": {
    "execution": {
     "iopub.execute_input": "2022-01-11T09:09:54.543872Z",
     "iopub.status.busy": "2022-01-11T09:09:54.543245Z",
     "iopub.status.idle": "2022-01-11T09:09:54.544899Z",
     "shell.execute_reply": "2022-01-11T09:09:54.545312Z"
    },
    "slideshow": {
     "slide_type": "fragment"
    }
   },
   "outputs": [],
   "source": [
    "with VisualCoverage() as cov:\n",
    "    suite(WeakShapeTest).run(unittest.TestResult())"
   ]
  },
  {
   "cell_type": "code",
   "execution_count": 70,
   "metadata": {
    "execution": {
     "iopub.execute_input": "2022-01-11T09:09:54.549249Z",
     "iopub.status.busy": "2022-01-11T09:09:54.548194Z",
     "iopub.status.idle": "2022-01-11T09:09:54.551666Z",
     "shell.execute_reply": "2022-01-11T09:09:54.552149Z"
    },
    "slideshow": {
     "slide_type": "subslide"
    }
   },
   "outputs": [
    {
     "name": "stdout",
     "output_type": "stream",
     "text": [
      "   1: def triangle(a, b, c):\n",
      "#  2:     if a == b:\n",
      "#  3:         if b == c:\n",
      "#  4:             return 'Equilateral'\n",
      "   5:         else:\n",
      "#  6:             return 'Isosceles'\n",
      "#  7:     else:\n",
      "#  8:         if b == c:\n",
      "#  9:             return \"Isosceles\"\n",
      "# 10:         else:\n",
      "  11:             if a == c:\n",
      "# 12:                 return \"Isosceles\"\n",
      "  13:             else:\n",
      "  14:                 return \"Scalene\"\n",
      "  15: \n"
     ]
    }
   ],
   "source": [
    "cov.show_coverage(triangle)"
   ]
  },
  {
   "cell_type": "markdown",
   "metadata": {
    "slideshow": {
     "slide_type": "subslide"
    }
   },
   "source": [
    "The `MuProgramAnalyzer` is the main class responsible for mutation analysis of the test suite. It accepts the name of the module to be tested, and its source code. It normalizes the source code given by parsing and unparsing it once. This is required to ensure that later `diff`s between the original and mutant are not derailed by differences in whitespace, comments, etc."
   ]
  },
  {
   "cell_type": "code",
   "execution_count": 71,
   "metadata": {
    "execution": {
     "iopub.execute_input": "2022-01-11T09:09:54.557655Z",
     "iopub.status.busy": "2022-01-11T09:09:54.556994Z",
     "iopub.status.idle": "2022-01-11T09:09:54.558691Z",
     "shell.execute_reply": "2022-01-11T09:09:54.559156Z"
    },
    "slideshow": {
     "slide_type": "subslide"
    }
   },
   "outputs": [],
   "source": [
    "class MuProgramAnalyzer(MuFunctionAnalyzer):\n",
    "    def __init__(self, name, src):\n",
    "        self.name = name\n",
    "        self.ast = ast.parse(src)\n",
    "        self.src = ast.unparse(self.ast)\n",
    "        self.changes = []\n",
    "        self.mutator = self.mutator_object()\n",
    "        self.nmutations = self.get_mutation_count()\n",
    "        self.un_detected = set()\n",
    "\n",
    "    def mutator_object(self, locations=None):\n",
    "        return AdvStmtDeletionMutator(self, locations)"
   ]
  },
  {
   "cell_type": "markdown",
   "metadata": {
    "slideshow": {
     "slide_type": "fragment"
    }
   },
   "source": [
    "We now extend the `Mutator` class."
   ]
  },
  {
   "cell_type": "code",
   "execution_count": 72,
   "metadata": {
    "execution": {
     "iopub.execute_input": "2022-01-11T09:09:54.564204Z",
     "iopub.status.busy": "2022-01-11T09:09:54.563393Z",
     "iopub.status.idle": "2022-01-11T09:09:54.565831Z",
     "shell.execute_reply": "2022-01-11T09:09:54.566266Z"
    },
    "slideshow": {
     "slide_type": "subslide"
    }
   },
   "outputs": [],
   "source": [
    "class AdvMutator(Mutator):\n",
    "    def __init__(self, analyzer, mutate_locations=None):\n",
    "        self.count = 0\n",
    "        self.mutate_locations = [] if mutate_locations is None else mutate_locations\n",
    "        self.pm = analyzer\n",
    "\n",
    "    def mutable_visit(self, node):\n",
    "        self.count += 1  # statements start at line no 1\n",
    "        return self.mutation_visit(node)"
   ]
  },
  {
   "cell_type": "markdown",
   "metadata": {
    "slideshow": {
     "slide_type": "fragment"
    }
   },
   "source": [
    "The `AdvStmtDeletionMutator` simply hooks into all the statement processing visitors. It performs mutation by replacing the given statement with `pass`."
   ]
  },
  {
   "cell_type": "code",
   "execution_count": 73,
   "metadata": {
    "execution": {
     "iopub.execute_input": "2022-01-11T09:09:54.572726Z",
     "iopub.status.busy": "2022-01-11T09:09:54.572060Z",
     "iopub.status.idle": "2022-01-11T09:09:54.573879Z",
     "shell.execute_reply": "2022-01-11T09:09:54.574308Z"
    },
    "slideshow": {
     "slide_type": "subslide"
    }
   },
   "outputs": [],
   "source": [
    "class AdvStmtDeletionMutator(AdvMutator, StmtDeletionMutator):\n",
    "    def __init__(self, analyzer, mutate_locations=None):\n",
    "        AdvMutator.__init__(self, analyzer, mutate_locations)\n",
    "\n",
    "    def mutation_visit(self, node):\n",
    "        index = 0  # there is only one way to delete a statement -- replace it by pass\n",
    "        if not self.mutate_locations:  # counting pass\n",
    "            self.pm.changes.append((self.count, index))\n",
    "            return self.generic_visit(node)\n",
    "        else:\n",
    "            # get matching changes for this pass\n",
    "            mutating_lines = set((count, idx)\n",
    "                                 for (count, idx) in self.mutate_locations)\n",
    "            if (self.count, index) in mutating_lines:\n",
    "                return ast.Pass()\n",
    "            else:\n",
    "                return self.generic_visit(node)"
   ]
  },
  {
   "cell_type": "markdown",
   "metadata": {
    "slideshow": {
     "slide_type": "subslide"
    }
   },
   "source": [
    "Aagin, we can obtain the number of mutations produced for `triangle()` as follows."
   ]
  },
  {
   "cell_type": "code",
   "execution_count": 74,
   "metadata": {
    "execution": {
     "iopub.execute_input": "2022-01-11T09:09:54.579110Z",
     "iopub.status.busy": "2022-01-11T09:09:54.578490Z",
     "iopub.status.idle": "2022-01-11T09:09:54.581018Z",
     "shell.execute_reply": "2022-01-11T09:09:54.581454Z"
    },
    "slideshow": {
     "slide_type": "fragment"
    }
   },
   "outputs": [
    {
     "data": {
      "text/plain": [
       "5"
      ]
     },
     "execution_count": 74,
     "metadata": {},
     "output_type": "execute_result"
    }
   ],
   "source": [
    "MuProgramAnalyzer('shape', shape_src).nmutations"
   ]
  },
  {
   "cell_type": "markdown",
   "metadata": {
    "slideshow": {
     "slide_type": "fragment"
    }
   },
   "source": [
    "We need a way to obtain the individual mutants. For this, we convert our `MuProgramAnalyzer` to an *iterable*."
   ]
  },
  {
   "cell_type": "code",
   "execution_count": 75,
   "metadata": {
    "execution": {
     "iopub.execute_input": "2022-01-11T09:09:54.585630Z",
     "iopub.status.busy": "2022-01-11T09:09:54.584984Z",
     "iopub.status.idle": "2022-01-11T09:09:54.586664Z",
     "shell.execute_reply": "2022-01-11T09:09:54.587090Z"
    },
    "slideshow": {
     "slide_type": "fragment"
    }
   },
   "outputs": [],
   "source": [
    "class MuProgramAnalyzer(MuProgramAnalyzer):\n",
    "    def __iter__(self):\n",
    "        return AdvPMIterator(self)"
   ]
  },
  {
   "cell_type": "markdown",
   "metadata": {
    "slideshow": {
     "slide_type": "fragment"
    }
   },
   "source": [
    "The `AdvPMIterator`, which is the *iterator* class for `MuProgramAnalyzer` is defined as follows."
   ]
  },
  {
   "cell_type": "code",
   "execution_count": 76,
   "metadata": {
    "execution": {
     "iopub.execute_input": "2022-01-11T09:09:54.591191Z",
     "iopub.status.busy": "2022-01-11T09:09:54.590566Z",
     "iopub.status.idle": "2022-01-11T09:09:54.592606Z",
     "shell.execute_reply": "2022-01-11T09:09:54.593130Z"
    },
    "slideshow": {
     "slide_type": "fragment"
    }
   },
   "outputs": [],
   "source": [
    "class AdvPMIterator:\n",
    "    def __init__(self, pm):\n",
    "        self.pm = pm\n",
    "        self.idx = 0"
   ]
  },
  {
   "cell_type": "markdown",
   "metadata": {
    "slideshow": {
     "slide_type": "subslide"
    }
   },
   "source": [
    "The `next()` method returns the corresponding `Mutant`"
   ]
  },
  {
   "cell_type": "code",
   "execution_count": 77,
   "metadata": {
    "execution": {
     "iopub.execute_input": "2022-01-11T09:09:54.598336Z",
     "iopub.status.busy": "2022-01-11T09:09:54.597643Z",
     "iopub.status.idle": "2022-01-11T09:09:54.599346Z",
     "shell.execute_reply": "2022-01-11T09:09:54.599781Z"
    },
    "slideshow": {
     "slide_type": "fragment"
    }
   },
   "outputs": [],
   "source": [
    "class AdvPMIterator(AdvPMIterator):\n",
    "    def __next__(self):\n",
    "        i = self.idx\n",
    "        if i >= len(self.pm.changes):\n",
    "            raise StopIteration()\n",
    "        self.idx += 1\n",
    "        # there could be multiple changes in one mutant\n",
    "        return AdvMutant(self.pm, [self.pm.changes[i]])"
   ]
  },
  {
   "cell_type": "markdown",
   "metadata": {
    "slideshow": {
     "slide_type": "fragment"
    }
   },
   "source": [
    "The `Mutant` class contains logic for generating mutants when given the locations to mutate."
   ]
  },
  {
   "cell_type": "code",
   "execution_count": 78,
   "metadata": {
    "execution": {
     "iopub.execute_input": "2022-01-11T09:09:54.604666Z",
     "iopub.status.busy": "2022-01-11T09:09:54.604026Z",
     "iopub.status.idle": "2022-01-11T09:09:54.605667Z",
     "shell.execute_reply": "2022-01-11T09:09:54.606094Z"
    },
    "slideshow": {
     "slide_type": "subslide"
    }
   },
   "outputs": [],
   "source": [
    "class AdvMutant(Mutant):\n",
    "    def __init__(self, pm, locations):\n",
    "        self.pm = pm\n",
    "        self.i = locations\n",
    "        self.name = \"%s_%s\" % (self.pm.name,\n",
    "                               '_'.join([str(i) for i in self.i]))\n",
    "        self._src = None"
   ]
  },
  {
   "cell_type": "markdown",
   "metadata": {
    "slideshow": {
     "slide_type": "fragment"
    }
   },
   "source": [
    "Here is how it can be used:"
   ]
  },
  {
   "cell_type": "code",
   "execution_count": 79,
   "metadata": {
    "execution": {
     "iopub.execute_input": "2022-01-11T09:09:54.609915Z",
     "iopub.status.busy": "2022-01-11T09:09:54.609212Z",
     "iopub.status.idle": "2022-01-11T09:09:54.611853Z",
     "shell.execute_reply": "2022-01-11T09:09:54.612278Z"
    },
    "slideshow": {
     "slide_type": "fragment"
    }
   },
   "outputs": [],
   "source": [
    "shape_src = inspect.getsource(triangle)"
   ]
  },
  {
   "cell_type": "code",
   "execution_count": 80,
   "metadata": {
    "execution": {
     "iopub.execute_input": "2022-01-11T09:09:54.617127Z",
     "iopub.status.busy": "2022-01-11T09:09:54.616151Z",
     "iopub.status.idle": "2022-01-11T09:09:54.619688Z",
     "shell.execute_reply": "2022-01-11T09:09:54.620395Z"
    },
    "slideshow": {
     "slide_type": "subslide"
    }
   },
   "outputs": [
    {
     "name": "stdout",
     "output_type": "stream",
     "text": [
      "shape_(1, 0)\n",
      "shape_(2, 0)\n",
      "shape_(3, 0)\n",
      "shape_(4, 0)\n",
      "shape_(5, 0)\n"
     ]
    }
   ],
   "source": [
    "for m in MuProgramAnalyzer('shape', shape_src):\n",
    "    print(m.name)"
   ]
  },
  {
   "cell_type": "markdown",
   "metadata": {
    "slideshow": {
     "slide_type": "fragment"
    }
   },
   "source": [
    "The `generate_mutant()` simply calls the `mutator()` method, and passes the mutator a copy of the AST. "
   ]
  },
  {
   "cell_type": "code",
   "execution_count": 81,
   "metadata": {
    "execution": {
     "iopub.execute_input": "2022-01-11T09:09:54.626192Z",
     "iopub.status.busy": "2022-01-11T09:09:54.625053Z",
     "iopub.status.idle": "2022-01-11T09:09:54.628251Z",
     "shell.execute_reply": "2022-01-11T09:09:54.627725Z"
    },
    "slideshow": {
     "slide_type": "fragment"
    }
   },
   "outputs": [],
   "source": [
    "class AdvMutant(AdvMutant):\n",
    "    def generate_mutant(self, locations):\n",
    "        mutant_ast = self.pm.mutator_object(\n",
    "            locations).visit(ast.parse(self.pm.src))  # copy\n",
    "        return ast.unparse(mutant_ast)"
   ]
  },
  {
   "cell_type": "markdown",
   "metadata": {
    "slideshow": {
     "slide_type": "subslide"
    }
   },
   "source": [
    "The `src()` method returns the mutated source."
   ]
  },
  {
   "cell_type": "code",
   "execution_count": 82,
   "metadata": {
    "execution": {
     "iopub.execute_input": "2022-01-11T09:09:54.632968Z",
     "iopub.status.busy": "2022-01-11T09:09:54.632335Z",
     "iopub.status.idle": "2022-01-11T09:09:54.634524Z",
     "shell.execute_reply": "2022-01-11T09:09:54.635034Z"
    },
    "slideshow": {
     "slide_type": "fragment"
    }
   },
   "outputs": [],
   "source": [
    "class AdvMutant(AdvMutant):\n",
    "    def src(self):\n",
    "        if self._src is None:\n",
    "            self._src = self.generate_mutant(self.i)\n",
    "        return self._src"
   ]
  },
  {
   "cell_type": "markdown",
   "metadata": {
    "slideshow": {
     "slide_type": "fragment"
    }
   },
   "source": [
    "Again, we visualize mutants as difference from the original:"
   ]
  },
  {
   "cell_type": "code",
   "execution_count": 83,
   "metadata": {
    "execution": {
     "iopub.execute_input": "2022-01-11T09:09:54.638710Z",
     "iopub.status.busy": "2022-01-11T09:09:54.638119Z",
     "iopub.status.idle": "2022-01-11T09:09:54.639964Z",
     "shell.execute_reply": "2022-01-11T09:09:54.640477Z"
    },
    "slideshow": {
     "slide_type": "skip"
    }
   },
   "outputs": [],
   "source": [
    "import difflib"
   ]
  },
  {
   "cell_type": "markdown",
   "metadata": {
    "slideshow": {
     "slide_type": "fragment"
    }
   },
   "source": [
    "We add the `diff()` method to `Mutant` so that it can be called directly."
   ]
  },
  {
   "cell_type": "code",
   "execution_count": 84,
   "metadata": {
    "execution": {
     "iopub.execute_input": "2022-01-11T09:09:54.645593Z",
     "iopub.status.busy": "2022-01-11T09:09:54.644759Z",
     "iopub.status.idle": "2022-01-11T09:09:54.646613Z",
     "shell.execute_reply": "2022-01-11T09:09:54.647058Z"
    },
    "slideshow": {
     "slide_type": "subslide"
    }
   },
   "outputs": [],
   "source": [
    "class AdvMutant(AdvMutant):\n",
    "    def diff(self):\n",
    "        return '\\n'.join(difflib.unified_diff(self.pm.src.split('\\n'),\n",
    "                                              self.src().split('\\n'),\n",
    "                                              fromfile='original',\n",
    "                                              tofile='mutant',\n",
    "                                              n=3))"
   ]
  },
  {
   "cell_type": "code",
   "execution_count": 85,
   "metadata": {
    "execution": {
     "iopub.execute_input": "2022-01-11T09:09:54.652064Z",
     "iopub.status.busy": "2022-01-11T09:09:54.651425Z",
     "iopub.status.idle": "2022-01-11T09:09:54.653893Z",
     "shell.execute_reply": "2022-01-11T09:09:54.654319Z"
    },
    "slideshow": {
     "slide_type": "subslide"
    }
   },
   "outputs": [
    {
     "name": "stdout",
     "output_type": "stream",
     "text": [
      "shape_(1, 0)\n",
      "--- original\n",
      "\n",
      "+++ mutant\n",
      "\n",
      "@@ -1,7 +1,7 @@\n",
      "\n",
      " def triangle(a, b, c):\n",
      "     if a == b:\n",
      "         if b == c:\n",
      "-            return 'Equilateral'\n",
      "+            pass\n",
      "         else:\n",
      "             return 'Isosceles'\n",
      "     elif b == c:\n"
     ]
    }
   ],
   "source": [
    "for mutant in MuProgramAnalyzer('shape', shape_src):\n",
    "    print(mutant.name)\n",
    "    print(mutant.diff())\n",
    "    break"
   ]
  },
  {
   "cell_type": "markdown",
   "metadata": {
    "slideshow": {
     "slide_type": "subslide"
    }
   },
   "source": [
    "We are now ready to implement the actual evaluation. For doing that, we require the ability to accept the module where the test suite is defined, and invoke the test method on it. The method `getitem` accepts the test module, fixes the import entries on the test module to correctly point to the mutant module, and passes it to the test runner `MutantTestRunner`."
   ]
  },
  {
   "cell_type": "code",
   "execution_count": 86,
   "metadata": {
    "execution": {
     "iopub.execute_input": "2022-01-11T09:09:54.658683Z",
     "iopub.status.busy": "2022-01-11T09:09:54.658073Z",
     "iopub.status.idle": "2022-01-11T09:09:54.659692Z",
     "shell.execute_reply": "2022-01-11T09:09:54.660194Z"
    },
    "slideshow": {
     "slide_type": "fragment"
    }
   },
   "outputs": [],
   "source": [
    "class AdvMutant(AdvMutant):\n",
    "    def __getitem__(self, test_module):\n",
    "        test_module.__dict__[\n",
    "            self.pm.name] = import_code(\n",
    "            self.src(), self.pm.name)\n",
    "        return MutantTestRunner(self, test_module)"
   ]
  },
  {
   "cell_type": "markdown",
   "metadata": {
    "slideshow": {
     "slide_type": "fragment"
    }
   },
   "source": [
    "The `MutantTestRunner` simply calls all `test_` methods on the test module, checks if the mutant was discovered, and returns the result."
   ]
  },
  {
   "cell_type": "code",
   "execution_count": 87,
   "metadata": {
    "execution": {
     "iopub.execute_input": "2022-01-11T09:09:54.664030Z",
     "iopub.status.busy": "2022-01-11T09:09:54.663377Z",
     "iopub.status.idle": "2022-01-11T09:09:54.664993Z",
     "shell.execute_reply": "2022-01-11T09:09:54.665610Z"
    },
    "slideshow": {
     "slide_type": "skip"
    }
   },
   "outputs": [],
   "source": [
    "from ExpectError import ExpectTimeout"
   ]
  },
  {
   "cell_type": "code",
   "execution_count": 88,
   "metadata": {
    "execution": {
     "iopub.execute_input": "2022-01-11T09:09:54.674461Z",
     "iopub.status.busy": "2022-01-11T09:09:54.673633Z",
     "iopub.status.idle": "2022-01-11T09:09:54.676248Z",
     "shell.execute_reply": "2022-01-11T09:09:54.676835Z"
    },
    "slideshow": {
     "slide_type": "subslide"
    }
   },
   "outputs": [],
   "source": [
    "class MutantTestRunner:\n",
    "    def __init__(self, mutant, test_module):\n",
    "        self.mutant = mutant\n",
    "        self.tm = test_module\n",
    "\n",
    "    def runTest(self, tc):\n",
    "        suite = unittest.TestSuite()\n",
    "        test_class = self.tm.__dict__[tc]\n",
    "        for f in test_class.__dict__:\n",
    "            if f.startswith('test_'):\n",
    "                suite.addTest(test_class(f))\n",
    "        runner = unittest.TextTestRunner(verbosity=0, failfast=True)\n",
    "        try:\n",
    "            with ExpectTimeout(1):\n",
    "                res = runner.run(suite)\n",
    "                if res.wasSuccessful():\n",
    "                    self.mutant.pm.un_detected.add(self)\n",
    "                return res\n",
    "        except SyntaxError:\n",
    "            print('Syntax Error (%s)' % self.mutant.name)\n",
    "            return None\n",
    "        raise Exception('Unhandled exception during test execution')"
   ]
  },
  {
   "cell_type": "markdown",
   "metadata": {
    "slideshow": {
     "slide_type": "subslide"
    }
   },
   "source": [
    "The mutation score is computed by `score()`."
   ]
  },
  {
   "cell_type": "code",
   "execution_count": 89,
   "metadata": {
    "execution": {
     "iopub.execute_input": "2022-01-11T09:09:54.681310Z",
     "iopub.status.busy": "2022-01-11T09:09:54.680664Z",
     "iopub.status.idle": "2022-01-11T09:09:54.682401Z",
     "shell.execute_reply": "2022-01-11T09:09:54.682814Z"
    },
    "slideshow": {
     "slide_type": "fragment"
    }
   },
   "outputs": [],
   "source": [
    "class MuProgramAnalyzer(MuProgramAnalyzer):\n",
    "    def score(self):\n",
    "        return (self.nmutations - len(self.un_detected)) / self.nmutations"
   ]
  },
  {
   "cell_type": "markdown",
   "metadata": {
    "slideshow": {
     "slide_type": "fragment"
    }
   },
   "source": [
    "Here is how we use our framework."
   ]
  },
  {
   "cell_type": "code",
   "execution_count": 90,
   "metadata": {
    "execution": {
     "iopub.execute_input": "2022-01-11T09:09:54.686429Z",
     "iopub.status.busy": "2022-01-11T09:09:54.685723Z",
     "iopub.status.idle": "2022-01-11T09:09:54.687463Z",
     "shell.execute_reply": "2022-01-11T09:09:54.687898Z"
    },
    "slideshow": {
     "slide_type": "skip"
    }
   },
   "outputs": [],
   "source": [
    "import sys"
   ]
  },
  {
   "cell_type": "code",
   "execution_count": 91,
   "metadata": {
    "execution": {
     "iopub.execute_input": "2022-01-11T09:09:54.696599Z",
     "iopub.status.busy": "2022-01-11T09:09:54.695911Z",
     "iopub.status.idle": "2022-01-11T09:09:54.699519Z",
     "shell.execute_reply": "2022-01-11T09:09:54.699943Z"
    },
    "slideshow": {
     "slide_type": "subslide"
    }
   },
   "outputs": [
    {
     "name": "stderr",
     "output_type": "stream",
     "text": [
      "======================================================================\n",
      "FAIL: test_equilateral (__main__.WeakShapeTest)\n",
      "----------------------------------------------------------------------\n",
      "Traceback (most recent call last):\n",
      "  File \"/var/folders/n2/xd9445p97rb3xh7m1dfx8_4h0006ts/T/ipykernel_7220/511514204.py\", line 3, in test_equilateral\n",
      "    assert shape.triangle(1, 1, 1) == 'Equilateral'\n",
      "AssertionError\n",
      "\n",
      "----------------------------------------------------------------------\n",
      "Ran 1 test in 0.000s\n",
      "\n",
      "FAILED (failures=1)\n",
      "----------------------------------------------------------------------\n",
      "Ran 3 tests in 0.000s\n",
      "\n",
      "OK\n",
      "----------------------------------------------------------------------\n",
      "Ran 3 tests in 0.000s\n",
      "\n",
      "OK\n",
      "----------------------------------------------------------------------\n",
      "Ran 3 tests in 0.000s\n",
      "\n",
      "OK\n",
      "----------------------------------------------------------------------\n",
      "Ran 3 tests in 0.000s\n",
      "\n",
      "OK\n"
     ]
    },
    {
     "data": {
      "text/plain": [
       "0.2"
      ]
     },
     "execution_count": 91,
     "metadata": {},
     "output_type": "execute_result"
    }
   ],
   "source": [
    "test_module = sys.modules[__name__]\n",
    "for mutant in MuProgramAnalyzer('shape', shape_src):\n",
    "    mutant[test_module].runTest('WeakShapeTest')\n",
    "mutant.pm.score()"
   ]
  },
  {
   "cell_type": "markdown",
   "metadata": {
    "slideshow": {
     "slide_type": "subslide"
    }
   },
   "source": [
    "The `WeakShape` test suite resulted in only `20%` mutation score."
   ]
  },
  {
   "cell_type": "code",
   "execution_count": 92,
   "metadata": {
    "execution": {
     "iopub.execute_input": "2022-01-11T09:09:54.706006Z",
     "iopub.status.busy": "2022-01-11T09:09:54.704350Z",
     "iopub.status.idle": "2022-01-11T09:09:54.712307Z",
     "shell.execute_reply": "2022-01-11T09:09:54.712758Z"
    },
    "slideshow": {
     "slide_type": "subslide"
    }
   },
   "outputs": [
    {
     "name": "stderr",
     "output_type": "stream",
     "text": [
      "======================================================================\n",
      "FAIL: test_equilateral (__main__.StrongShapeTest)\n",
      "----------------------------------------------------------------------\n",
      "Traceback (most recent call last):\n",
      "  File \"/var/folders/n2/xd9445p97rb3xh7m1dfx8_4h0006ts/T/ipykernel_7220/2670057129.py\", line 4, in test_equilateral\n",
      "    assert shape.triangle(1, 1, 1) == 'Equilateral'\n",
      "AssertionError\n",
      "\n",
      "----------------------------------------------------------------------\n",
      "Ran 1 test in 0.000s\n",
      "\n",
      "FAILED (failures=1)\n",
      "======================================================================\n",
      "FAIL: test_isosceles (__main__.StrongShapeTest)\n",
      "----------------------------------------------------------------------\n",
      "Traceback (most recent call last):\n",
      "  File \"/var/folders/n2/xd9445p97rb3xh7m1dfx8_4h0006ts/T/ipykernel_7220/2670057129.py\", line 8, in test_isosceles\n",
      "    assert shape.triangle(2, 2, 1) == 'Isosceles'\n",
      "AssertionError\n",
      "\n",
      "----------------------------------------------------------------------\n",
      "Ran 2 tests in 0.000s\n",
      "\n",
      "FAILED (failures=1)\n",
      "======================================================================\n",
      "FAIL: test_isosceles (__main__.StrongShapeTest)\n",
      "----------------------------------------------------------------------\n",
      "Traceback (most recent call last):\n",
      "  File \"/var/folders/n2/xd9445p97rb3xh7m1dfx8_4h0006ts/T/ipykernel_7220/2670057129.py\", line 9, in test_isosceles\n",
      "    assert shape.triangle(1, 2, 2) == 'Isosceles'\n",
      "AssertionError\n",
      "\n",
      "----------------------------------------------------------------------\n",
      "Ran 2 tests in 0.000s\n",
      "\n",
      "FAILED (failures=1)\n",
      "======================================================================\n",
      "FAIL: test_isosceles (__main__.StrongShapeTest)\n",
      "----------------------------------------------------------------------\n",
      "Traceback (most recent call last):\n",
      "  File \"/var/folders/n2/xd9445p97rb3xh7m1dfx8_4h0006ts/T/ipykernel_7220/2670057129.py\", line 7, in test_isosceles\n",
      "    assert shape.triangle(1, 2, 1) == 'Isosceles'\n",
      "AssertionError\n",
      "\n",
      "----------------------------------------------------------------------\n",
      "Ran 2 tests in 0.000s\n",
      "\n",
      "FAILED (failures=1)\n",
      "======================================================================\n",
      "FAIL: test_scalene (__main__.StrongShapeTest)\n",
      "----------------------------------------------------------------------\n",
      "Traceback (most recent call last):\n",
      "  File \"/var/folders/n2/xd9445p97rb3xh7m1dfx8_4h0006ts/T/ipykernel_7220/2670057129.py\", line 12, in test_scalene\n",
      "    assert shape.triangle(1, 2, 3) == 'Scalene'\n",
      "AssertionError\n",
      "\n",
      "----------------------------------------------------------------------\n",
      "Ran 3 tests in 0.000s\n",
      "\n",
      "FAILED (failures=1)\n"
     ]
    },
    {
     "data": {
      "text/plain": [
       "1.0"
      ]
     },
     "execution_count": 92,
     "metadata": {},
     "output_type": "execute_result"
    }
   ],
   "source": [
    "for mutant in MuProgramAnalyzer('shape', shape_src):\n",
    "    mutant[test_module].runTest('StrongShapeTest')\n",
    "mutant.pm.score()"
   ]
  },
  {
   "cell_type": "markdown",
   "metadata": {
    "slideshow": {
     "slide_type": "subslide"
    }
   },
   "source": [
    "On the other hand, we were able to achieve `100%` mutation score with `StrongShapeTest` test suite.\n",
    "\n",
    "Here is another example, `gcd()`."
   ]
  },
  {
   "cell_type": "code",
   "execution_count": 93,
   "metadata": {
    "execution": {
     "iopub.execute_input": "2022-01-11T09:09:54.717517Z",
     "iopub.status.busy": "2022-01-11T09:09:54.715884Z",
     "iopub.status.idle": "2022-01-11T09:09:54.718977Z",
     "shell.execute_reply": "2022-01-11T09:09:54.719641Z"
    },
    "slideshow": {
     "slide_type": "fragment"
    }
   },
   "outputs": [],
   "source": [
    "gcd_src = inspect.getsource(gcd)"
   ]
  },
  {
   "cell_type": "code",
   "execution_count": 94,
   "metadata": {
    "execution": {
     "iopub.execute_input": "2022-01-11T09:09:54.724041Z",
     "iopub.status.busy": "2022-01-11T09:09:54.723438Z",
     "iopub.status.idle": "2022-01-11T09:09:54.725118Z",
     "shell.execute_reply": "2022-01-11T09:09:54.725585Z"
    },
    "slideshow": {
     "slide_type": "fragment"
    }
   },
   "outputs": [],
   "source": [
    "class TestGCD(unittest.TestCase):\n",
    "    def test_simple(self):\n",
    "        assert cfg.gcd(1, 0) == 1\n",
    "\n",
    "    def test_mirror(self):\n",
    "        assert cfg.gcd(0, 1) == 1"
   ]
  },
  {
   "cell_type": "code",
   "execution_count": 95,
   "metadata": {
    "execution": {
     "iopub.execute_input": "2022-01-11T09:09:54.733460Z",
     "iopub.status.busy": "2022-01-11T09:09:54.732193Z",
     "iopub.status.idle": "2022-01-11T09:09:54.743700Z",
     "shell.execute_reply": "2022-01-11T09:09:54.744248Z"
    },
    "slideshow": {
     "slide_type": "subslide"
    }
   },
   "outputs": [
    {
     "name": "stderr",
     "output_type": "stream",
     "text": [
      "======================================================================\n",
      "ERROR: test_mirror (__main__.TestGCD)\n",
      "----------------------------------------------------------------------\n",
      "Traceback (most recent call last):\n",
      "  File \"/var/folders/n2/xd9445p97rb3xh7m1dfx8_4h0006ts/T/ipykernel_7220/2565918356.py\", line 6, in test_mirror\n",
      "    assert cfg.gcd(0, 1) == 1\n",
      "  File \"<string>\", line 5, in gcd\n",
      "UnboundLocalError: local variable 'c' referenced before assignment\n",
      "\n",
      "----------------------------------------------------------------------\n",
      "Ran 2 tests in 0.000s\n",
      "\n",
      "FAILED (errors=1)\n",
      "======================================================================\n",
      "FAIL: test_mirror (__main__.TestGCD)\n",
      "----------------------------------------------------------------------\n",
      "Traceback (most recent call last):\n",
      "  File \"/var/folders/n2/xd9445p97rb3xh7m1dfx8_4h0006ts/T/ipykernel_7220/2565918356.py\", line 6, in test_mirror\n",
      "    assert cfg.gcd(0, 1) == 1\n",
      "AssertionError\n",
      "\n",
      "----------------------------------------------------------------------\n",
      "Ran 2 tests in 0.000s\n",
      "\n",
      "FAILED (failures=1)\n",
      "----------------------------------------------------------------------\n",
      "Ran 2 tests in 0.000s\n",
      "\n",
      "OK\n",
      "----------------------------------------------------------------------\n",
      "Ran 2 tests in 0.000s\n",
      "\n",
      "OK\n",
      "----------------------------------------------------------------------\n",
      "Ran 2 tests in 0.000s\n",
      "\n",
      "OK\n",
      "----------------------------------------------------------------------\n",
      "Ran 2 tests in 0.000s\n",
      "\n",
      "OK\n",
      "======================================================================\n",
      "FAIL: test_simple (__main__.TestGCD)\n",
      "----------------------------------------------------------------------\n",
      "Traceback (most recent call last):\n",
      "  File \"/var/folders/n2/xd9445p97rb3xh7m1dfx8_4h0006ts/T/ipykernel_7220/2565918356.py\", line 3, in test_simple\n",
      "    assert cfg.gcd(1, 0) == 1\n",
      "AssertionError\n",
      "\n",
      "----------------------------------------------------------------------\n",
      "Ran 1 test in 0.000s\n",
      "\n",
      "FAILED (failures=1)\n"
     ]
    },
    {
     "data": {
      "text/plain": [
       "0.42857142857142855"
      ]
     },
     "execution_count": 95,
     "metadata": {},
     "output_type": "execute_result"
    }
   ],
   "source": [
    "for mutant in MuProgramAnalyzer('cfg', gcd_src):\n",
    "    mutant[test_module].runTest('TestGCD')\n",
    "mutant.pm.score()"
   ]
  },
  {
   "cell_type": "markdown",
   "metadata": {
    "slideshow": {
     "slide_type": "subslide"
    }
   },
   "source": [
    "We see that our `TestGCD` test suite is able to obtain `42%` mutation score."
   ]
  },
  {
   "cell_type": "markdown",
   "metadata": {
    "button": false,
    "new_sheet": false,
    "run_control": {
     "read_only": false
    },
    "slideshow": {
     "slide_type": "slide"
    }
   },
   "source": [
    "## The Problem of  Equivalent Mutants\n",
    "\n",
    "One of the problems with mutation analysis is that not all mutants generated need to be faulty. For example, consider the `new_gcd()` program below."
   ]
  },
  {
   "cell_type": "code",
   "execution_count": 96,
   "metadata": {
    "execution": {
     "iopub.execute_input": "2022-01-11T09:09:54.749981Z",
     "iopub.status.busy": "2022-01-11T09:09:54.749102Z",
     "iopub.status.idle": "2022-01-11T09:09:54.751425Z",
     "shell.execute_reply": "2022-01-11T09:09:54.751995Z"
    },
    "slideshow": {
     "slide_type": "fragment"
    }
   },
   "outputs": [],
   "source": [
    "def new_gcd(a, b):\n",
    "    if a < b:\n",
    "        a, b = b, a\n",
    "    else:\n",
    "        a, b = a, b\n",
    "\n",
    "    while b != 0:\n",
    "        a, b = b, a % b\n",
    "    return a"
   ]
  },
  {
   "cell_type": "markdown",
   "metadata": {
    "slideshow": {
     "slide_type": "fragment"
    }
   },
   "source": [
    "This program can be mutated to produce the following mutant."
   ]
  },
  {
   "cell_type": "code",
   "execution_count": 97,
   "metadata": {
    "execution": {
     "iopub.execute_input": "2022-01-11T09:09:54.757212Z",
     "iopub.status.busy": "2022-01-11T09:09:54.756388Z",
     "iopub.status.idle": "2022-01-11T09:09:54.758618Z",
     "shell.execute_reply": "2022-01-11T09:09:54.759170Z"
    },
    "slideshow": {
     "slide_type": "subslide"
    }
   },
   "outputs": [],
   "source": [
    "def mutated_gcd(a, b):\n",
    "    if a < b:\n",
    "        a, b = b, a\n",
    "    else:\n",
    "        pass\n",
    "\n",
    "    while b != 0:\n",
    "        a, b = b, a % b\n",
    "    return a"
   ]
  },
  {
   "cell_type": "code",
   "execution_count": 98,
   "metadata": {
    "execution": {
     "iopub.execute_input": "2022-01-11T09:09:54.767305Z",
     "iopub.status.busy": "2022-01-11T09:09:54.766245Z",
     "iopub.status.idle": "2022-01-11T09:09:54.769699Z",
     "shell.execute_reply": "2022-01-11T09:09:54.770241Z"
    },
    "slideshow": {
     "slide_type": "subslide"
    }
   },
   "outputs": [
    {
     "name": "stdout",
     "output_type": "stream",
     "text": [
      "0 def new_gcd(a, b):\n",
      "    if a < b:\n",
      "        pass\n",
      "    else:\n",
      "        (a, b) = (a, b)\n",
      "    while b != 0:\n",
      "        (a, b) = (b, a % b)\n",
      "    return a\n",
      "1 def new_gcd(a, b):\n",
      "    if a < b:\n",
      "        (a, b) = (b, a)\n",
      "    else:\n",
      "        pass\n",
      "    while b != 0:\n",
      "        (a, b) = (b, a % b)\n",
      "    return a\n",
      "2 def new_gcd(a, b):\n",
      "    if a < b:\n",
      "        (a, b) = (b, a)\n",
      "    else:\n",
      "        (a, b) = (a, b)\n",
      "    while b != 0:\n",
      "        pass\n",
      "    return a\n",
      "3 def new_gcd(a, b):\n",
      "    if a < b:\n",
      "        (a, b) = (b, a)\n",
      "    else:\n",
      "        (a, b) = (a, b)\n",
      "    while b != 0:\n",
      "        (a, b) = (b, a % b)\n",
      "    pass\n"
     ]
    }
   ],
   "source": [
    "for i, mutant in enumerate(MuFunctionAnalyzer(new_gcd)):\n",
    "    print(i,mutant.src())"
   ]
  },
  {
   "cell_type": "markdown",
   "metadata": {
    "slideshow": {
     "slide_type": "subslide"
    }
   },
   "source": [
    "While other mutants are faulty compared to the original, `mutant 1` is indistinguishable from the original in terms of its semantics because it removes an inconsequential assignment. This means that `mutant 1` does not represent a fault. These kinds of mutants that do not represent a fault are called *Equivalent mutants*. The problem with equivalent mutants is that it becomes very difficult to judge the mutation score in the presence of equivalent mutants. For example, with a mutation score of 70%, anywhere from 0 to 30% of the mutants may be equivalent. Hence, without knowing the actual number of equivalent mutants, it is impossible to judge how much the tests can be improved. We discuss two methods to deal with equivalent mutants."
   ]
  },
  {
   "cell_type": "markdown",
   "metadata": {
    "slideshow": {
     "slide_type": "subslide"
    }
   },
   "source": [
    "### Statistical Estimation of Number of Equivalent Mutants\n",
    "\n",
    "If the number of mutants that are alive is small enough, one may rely on simply inspecting them manually. However, if the number of mutants are sufficiently large (say > 1000), one may choose a smaller number of mutants from the alive mutants randomly and manually evaluate them to see whether they represent faults. The sample size determination is governed by the following formula for a binomial distribution (approximated by a normal distribution):\n",
    "\n",
    "$$\n",
    "n \\ge \\hat{p}(1-\\hat{p})\\bigg(\\frac{Z_{\\frac{\\alpha}{2}}}{\\Delta}\\bigg)^2\n",
    "$$"
   ]
  },
  {
   "cell_type": "markdown",
   "metadata": {
    "slideshow": {
     "slide_type": "subslide"
    }
   },
   "source": [
    "where $n$ is the number of samples, $p$ is the parameter for the probability distribution, $\\alpha$ is the accuracy desired, $\\Delta$ the precision. For an accuracy of $95\\%$, $Z_{0.95}=1.96$. we have the following values (the maximum value of $\\hat{p}(1-\\hat{p}) = 0.25$) and $Z$ is the critical value for normal distribution:"
   ]
  },
  {
   "cell_type": "markdown",
   "metadata": {
    "slideshow": {
     "slide_type": "fragment"
    }
   },
   "source": [
    "$$\n",
    "n \\ge 0.25\\bigg(\\frac{1.96}{\\Delta}\\bigg)^2\n",
    "$$"
   ]
  },
  {
   "cell_type": "markdown",
   "metadata": {
    "slideshow": {
     "slide_type": "fragment"
    }
   },
   "source": [
    "For $\\Delta = 0.01$, (that is for a maximum error of 1%), we need to evaluate $9604$ mutants for equivalence. If one relaxes the constraint to $\\Delta = 0.1$ (that is an error of $10\\%$), then one needs to evaluate only $96$ mutants for equivalence."
   ]
  },
  {
   "cell_type": "markdown",
   "metadata": {
    "slideshow": {
     "slide_type": "subslide"
    }
   },
   "source": [
    "### Statistical Estimation of the Number of Immortals by Chao's Estimator\n",
    "\n",
    "While the idea of sampling only a limited number of mutants is appealing, it is still limited in that manual analysis is necessary. If computing power is cheap, another way to estimate the number of true mutants (and hence the number of equivalent mutants) is by means of Chao's estimator. As we will see in the chapter on [when to stop fuzzing](WhenToStopFuzzing.ipynb), the formula is given by:\n",
    "\n",
    "$$\n",
    "\\hat S_\\text{Chao1} = \\begin{cases}\n",
    "S(n) + \\frac{f_1^2}{2f_2} & \\text{if $f_2>0$}\\\\\n",
    "S(n) + \\frac{f_1(f_1-1)}{2} & \\text{otherwise}\n",
    "\\end{cases}\n",
    "$$"
   ]
  },
  {
   "cell_type": "markdown",
   "metadata": {
    "slideshow": {
     "slide_type": "subslide"
    }
   },
   "source": [
    "The basic idea is to compute the result of the complete test matrix $T \\times M$ of each test against each mutant. The variable $f_1$ represents the number of mutants that were killed exactly once, and the variable $f_2$ represents the number of variables that were killed exactly twice. $S(n)$ is the total number of mutants killed. Here, $\\hat{S}_{Chao1}$ provides the estimate of the true number of mutants. If $M$ is the total mutants generated, then $M - \\hat{S}_{Chao1}$ represents the number of **immortal** mutants. Note that these **immortal** mutants are somewhat different from the traditional equivalent mutants in that the **mortality** depends on the oracle used to distinguish variant behavior. That is, if one uses a fuzzer that relies on errors thrown to detect killing, it will not detect mutants that produce different output but does not throw an error. Hence, the *Chao1* estimate will essentially be the asymptote value of mutants the fuzzer can detect if it is given an infinite amount of time. The **immortal** mutant estimate will approach true **equivalent** mutant estimate when the oracle used is sufficiently strong.\n",
    "For more details see the chapter on [when to stop fuzzing](WhenToStopFuzzing.ipynb). A comprehensive guide to species discovery in testing is the paper by Boehme \\cite{boehme2018species}."
   ]
  },
  {
   "cell_type": "markdown",
   "metadata": {
    "slideshow": {
     "slide_type": "slide"
    }
   },
   "source": [
    "## Synopsis"
   ]
  },
  {
   "cell_type": "markdown",
   "metadata": {
    "slideshow": {
     "slide_type": "fragment"
    }
   },
   "source": [
    "This chapter introduces two methods of running *mutation analysis* on subject programs. The first class `MuFunctionAnalyzer` targets individual functions. Given a function `gcd` and two test cases evaluate, one can run mutation analysis on the test cases as follows:"
   ]
  },
  {
   "cell_type": "code",
   "execution_count": 99,
   "metadata": {
    "execution": {
     "iopub.execute_input": "2022-01-11T09:09:54.776836Z",
     "iopub.status.busy": "2022-01-11T09:09:54.776009Z",
     "iopub.status.idle": "2022-01-11T09:09:54.786371Z",
     "shell.execute_reply": "2022-01-11T09:09:54.787095Z"
    },
    "slideshow": {
     "slide_type": "subslide"
    }
   },
   "outputs": [
    {
     "name": "stdout",
     "output_type": "stream",
     "text": [
      "->\tgcd_1\n",
      "<-\tgcd_1\n",
      "Detected gcd_1 <class 'UnboundLocalError'> local variable 'c' referenced before assignment\n",
      "\n",
      "->\tgcd_2\n",
      "<-\tgcd_2\n",
      "Detected gcd_2 <class 'AssertionError'> Mirror\n",
      "\n",
      "->\tgcd_3\n",
      "<-\tgcd_3\n",
      "\n",
      "->\tgcd_4\n",
      "<-\tgcd_4\n",
      "\n",
      "->\tgcd_5\n",
      "<-\tgcd_5\n",
      "\n",
      "->\tgcd_6\n",
      "<-\tgcd_6\n",
      "\n",
      "->\tgcd_7\n",
      "<-\tgcd_7\n",
      "Detected gcd_7 <class 'AssertionError'> Minimal\n",
      "\n"
     ]
    },
    {
     "data": {
      "text/plain": [
       "0.42857142857142855"
      ]
     },
     "execution_count": 99,
     "metadata": {},
     "output_type": "execute_result"
    }
   ],
   "source": [
    "for mutant in MuFunctionAnalyzer(gcd, log=True):\n",
    "    with mutant:\n",
    "        assert gcd(1, 0) == 1, \"Minimal\"\n",
    "        assert gcd(0, 1) == 1, \"Mirror\"\n",
    "mutant.pm.score()"
   ]
  },
  {
   "cell_type": "markdown",
   "metadata": {
    "slideshow": {
     "slide_type": "subslide"
    }
   },
   "source": [
    "The second class `MuProgramAnalyzer` targets standalone programs with test suites. Given a program `gcd` whose source code is provided in `gcd_src` and the test suite is provided by `TestGCD`, one can evaluate the mutation score of `TestGCD` as follows:"
   ]
  },
  {
   "cell_type": "code",
   "execution_count": 100,
   "metadata": {
    "execution": {
     "iopub.execute_input": "2022-01-11T09:09:54.793573Z",
     "iopub.status.busy": "2022-01-11T09:09:54.792506Z",
     "iopub.status.idle": "2022-01-11T09:09:54.795385Z",
     "shell.execute_reply": "2022-01-11T09:09:54.795967Z"
    },
    "slideshow": {
     "slide_type": "fragment"
    }
   },
   "outputs": [],
   "source": [
    "class TestGCD(unittest.TestCase):\n",
    "    def test_simple(self):\n",
    "        assert cfg.gcd(1, 0) == 1\n",
    "\n",
    "    def test_mirror(self):\n",
    "        assert cfg.gcd(0, 1) == 1"
   ]
  },
  {
   "cell_type": "code",
   "execution_count": 101,
   "metadata": {
    "execution": {
     "iopub.execute_input": "2022-01-11T09:09:54.803803Z",
     "iopub.status.busy": "2022-01-11T09:09:54.801617Z",
     "iopub.status.idle": "2022-01-11T09:09:54.814323Z",
     "shell.execute_reply": "2022-01-11T09:09:54.814811Z"
    },
    "slideshow": {
     "slide_type": "subslide"
    }
   },
   "outputs": [
    {
     "name": "stderr",
     "output_type": "stream",
     "text": [
      "======================================================================\n",
      "FAIL: test_simple (__main__.TestGCD)\n",
      "----------------------------------------------------------------------\n",
      "Traceback (most recent call last):\n",
      "  File \"/var/folders/n2/xd9445p97rb3xh7m1dfx8_4h0006ts/T/ipykernel_7220/2565918356.py\", line 3, in test_simple\n",
      "    assert cfg.gcd(1, 0) == 1\n",
      "AssertionError\n",
      "\n",
      "----------------------------------------------------------------------\n",
      "Ran 1 test in 0.000s\n",
      "\n",
      "FAILED (failures=1)\n",
      "======================================================================\n",
      "FAIL: test_simple (__main__.TestGCD)\n",
      "----------------------------------------------------------------------\n",
      "Traceback (most recent call last):\n",
      "  File \"/var/folders/n2/xd9445p97rb3xh7m1dfx8_4h0006ts/T/ipykernel_7220/2565918356.py\", line 3, in test_simple\n",
      "    assert cfg.gcd(1, 0) == 1\n",
      "AssertionError\n",
      "\n",
      "----------------------------------------------------------------------\n",
      "Ran 1 test in 0.000s\n",
      "\n",
      "FAILED (failures=1)\n",
      "======================================================================\n",
      "FAIL: test_simple (__main__.TestGCD)\n",
      "----------------------------------------------------------------------\n",
      "Traceback (most recent call last):\n",
      "  File \"/var/folders/n2/xd9445p97rb3xh7m1dfx8_4h0006ts/T/ipykernel_7220/2565918356.py\", line 3, in test_simple\n",
      "    assert cfg.gcd(1, 0) == 1\n",
      "AssertionError\n",
      "\n",
      "----------------------------------------------------------------------\n",
      "Ran 1 test in 0.000s\n",
      "\n",
      "FAILED (failures=1)\n",
      "======================================================================\n",
      "FAIL: test_simple (__main__.TestGCD)\n",
      "----------------------------------------------------------------------\n",
      "Traceback (most recent call last):\n",
      "  File \"/var/folders/n2/xd9445p97rb3xh7m1dfx8_4h0006ts/T/ipykernel_7220/2565918356.py\", line 3, in test_simple\n",
      "    assert cfg.gcd(1, 0) == 1\n",
      "AssertionError\n",
      "\n",
      "----------------------------------------------------------------------\n",
      "Ran 1 test in 0.000s\n",
      "\n",
      "FAILED (failures=1)\n",
      "======================================================================\n",
      "FAIL: test_simple (__main__.TestGCD)\n",
      "----------------------------------------------------------------------\n",
      "Traceback (most recent call last):\n",
      "  File \"/var/folders/n2/xd9445p97rb3xh7m1dfx8_4h0006ts/T/ipykernel_7220/2565918356.py\", line 3, in test_simple\n",
      "    assert cfg.gcd(1, 0) == 1\n",
      "AssertionError\n",
      "\n",
      "----------------------------------------------------------------------\n",
      "Ran 1 test in 0.000s\n",
      "\n",
      "FAILED (failures=1)\n",
      "======================================================================\n",
      "FAIL: test_simple (__main__.TestGCD)\n",
      "----------------------------------------------------------------------\n",
      "Traceback (most recent call last):\n",
      "  File \"/var/folders/n2/xd9445p97rb3xh7m1dfx8_4h0006ts/T/ipykernel_7220/2565918356.py\", line 3, in test_simple\n",
      "    assert cfg.gcd(1, 0) == 1\n",
      "AssertionError\n",
      "\n",
      "----------------------------------------------------------------------\n",
      "Ran 1 test in 0.000s\n",
      "\n",
      "FAILED (failures=1)\n",
      "======================================================================\n",
      "FAIL: test_simple (__main__.TestGCD)\n",
      "----------------------------------------------------------------------\n",
      "Traceback (most recent call last):\n",
      "  File \"/var/folders/n2/xd9445p97rb3xh7m1dfx8_4h0006ts/T/ipykernel_7220/2565918356.py\", line 3, in test_simple\n",
      "    assert cfg.gcd(1, 0) == 1\n",
      "AssertionError\n",
      "\n",
      "----------------------------------------------------------------------\n",
      "Ran 1 test in 0.000s\n",
      "\n",
      "FAILED (failures=1)\n"
     ]
    },
    {
     "data": {
      "text/plain": [
       "1.0"
      ]
     },
     "execution_count": 101,
     "metadata": {},
     "output_type": "execute_result"
    }
   ],
   "source": [
    "for mutant in MuProgramAnalyzer('gcd', gcd_src):\n",
    "    mutant[test_module].runTest('TestGCD')\n",
    "mutant.pm.score()"
   ]
  },
  {
   "cell_type": "markdown",
   "metadata": {
    "slideshow": {
     "slide_type": "subslide"
    }
   },
   "source": [
    "The mutation score thus obtained is a better indicator of the quality of a given test suite than pure coverage."
   ]
  },
  {
   "cell_type": "markdown",
   "metadata": {
    "button": false,
    "new_sheet": true,
    "run_control": {
     "read_only": false
    },
    "slideshow": {
     "slide_type": "slide"
    }
   },
   "source": [
    "## Lessons Learned\n",
    "\n",
    "* We have learned why structural coverage is insufficient to evaluate the quality of test suites.\n",
    "* We have learned how to use Mutation Analysis for evaluating test suite quality.\n",
    "* We have learned the limitations of Mutation Analysis -- Equivalent and Redundant mutants, and how to estimate them."
   ]
  },
  {
   "cell_type": "markdown",
   "metadata": {
    "button": false,
    "new_sheet": false,
    "run_control": {
     "read_only": false
    },
    "slideshow": {
     "slide_type": "slide"
    }
   },
   "source": [
    "## Next Steps\n",
    "\n",
    "* While naive fuzzing generates poor quality oracles, techniques such as [symbolic](SymbolicFuzzer.ipynb) and [concolic](ConcolicFuzzer.ipynb) can enhance the quality oracles used in fuzzing.\n",
    "* [Dynamic invariants](DynamicInvariants.ipynb) can also be of great help in improving the quality of oracles.\n",
    "* The chapter on [when to stop fuzzing](WhenToStopFuzzing.ipynb) provides a detailed overview of the Chao estimator."
   ]
  },
  {
   "cell_type": "markdown",
   "metadata": {
    "slideshow": {
     "slide_type": "slide"
    }
   },
   "source": [
    "## Background\n",
    "\n",
    "The idea of Mutation Analysis was first introduced by Lipton et al. \\cite{lipton1971fault}. An excellent survey of mutation analysis research was published by Jia et al. \\cite{jia2011analysis}. The chapter on Mutation Analysis by Papadakis et al \\cite{papadakis2019mutation} is another excellent overview of the current trends in mutation analysis."
   ]
  },
  {
   "cell_type": "markdown",
   "metadata": {
    "button": false,
    "new_sheet": true,
    "run_control": {
     "read_only": false
    },
    "slideshow": {
     "slide_type": "slide"
    }
   },
   "source": [
    "## Exercises"
   ]
  },
  {
   "cell_type": "markdown",
   "metadata": {
    "button": false,
    "new_sheet": false,
    "run_control": {
     "read_only": false
    },
    "slideshow": {
     "slide_type": "subslide"
    }
   },
   "source": [
    "### Exercise 1:  Arithmetic Expression Mutators\n",
    "\n",
    "Our simple statement deletion mutation is only one of the ways in which a program could be mutated. Another category of mutants is _expression mutation_ where arithmetic operators such as `{+,-,*,/}` etc are replaced for one another. For example, given an expression such as\n",
    "```\n",
    "x = x + 1\n",
    "```\n",
    "One can mutate it to\n",
    "```\n",
    "x = x - 1\n",
    "```\n",
    "and\n",
    "```\n",
    "x = x * 1\n",
    "```\n",
    "and\n",
    "```\n",
    "x = x / 1\n",
    "```"
   ]
  },
  {
   "cell_type": "markdown",
   "metadata": {
    "button": false,
    "new_sheet": false,
    "run_control": {
     "read_only": false
    },
    "slideshow": {
     "slide_type": "subslide"
    }
   },
   "source": [
    "First, we need to find out which node types we want to mutate. We get these via the ast functions and find that the node type is named BinOp"
   ]
  },
  {
   "cell_type": "code",
   "execution_count": 102,
   "metadata": {
    "button": false,
    "execution": {
     "iopub.execute_input": "2022-01-11T09:09:54.821414Z",
     "iopub.status.busy": "2022-01-11T09:09:54.820442Z",
     "iopub.status.idle": "2022-01-11T09:09:54.823731Z",
     "shell.execute_reply": "2022-01-11T09:09:54.824322Z"
    },
    "new_sheet": false,
    "run_control": {
     "read_only": false
    },
    "slideshow": {
     "slide_type": "subslide"
    }
   },
   "outputs": [
    {
     "name": "stdout",
     "output_type": "stream",
     "text": [
      "Module(\n",
      "    body=[\n",
      "        Expr(\n",
      "            value=BinOp(\n",
      "                left=BinOp(\n",
      "                    left=Constant(value=1),\n",
      "                    op=Add(),\n",
      "                    right=Constant(value=2)),\n",
      "                op=Sub(),\n",
      "                right=BinOp(\n",
      "                    left=BinOp(\n",
      "                        left=Constant(value=3),\n",
      "                        op=Mult(),\n",
      "                        right=Constant(value=4)),\n",
      "                    op=Div(),\n",
      "                    right=Constant(value=5))))],\n",
      "    type_ignores=[])\n"
     ]
    }
   ],
   "source": [
    "print(ast.dump(ast.parse(\"1 + 2 - 3 * 4 / 5\"), indent=4))"
   ]
  },
  {
   "cell_type": "markdown",
   "metadata": {
    "button": false,
    "new_sheet": false,
    "run_control": {
     "read_only": false
    },
    "slideshow": {
     "slide_type": "subslide"
    },
    "solution2": "hidden",
    "solution2_first": true
   },
   "source": [
    "To mutate the tree, you thus need to change the `op` attribute (which has one of the values `Add`, `Sub`, `Mult`, and `Div`)"
   ]
  },
  {
   "cell_type": "markdown",
   "metadata": {
    "slideshow": {
     "slide_type": "skip"
    },
    "solution2": "hidden"
   },
   "source": [
    "**Solution.** First, we need to find out which node types we want to mutate.  We get these via the `ast` functions and find that the node type is named `BinOp`"
   ]
  },
  {
   "cell_type": "code",
   "execution_count": 103,
   "metadata": {
    "execution": {
     "iopub.execute_input": "2022-01-11T09:09:54.830757Z",
     "iopub.status.busy": "2022-01-11T09:09:54.829983Z",
     "iopub.status.idle": "2022-01-11T09:09:54.833666Z",
     "shell.execute_reply": "2022-01-11T09:09:54.834318Z"
    },
    "slideshow": {
     "slide_type": "skip"
    },
    "solution2": "hidden"
   },
   "outputs": [
    {
     "name": "stdout",
     "output_type": "stream",
     "text": [
      "Module(\n",
      "    body=[\n",
      "        Expr(\n",
      "            value=BinOp(\n",
      "                left=BinOp(\n",
      "                    left=Constant(value=1),\n",
      "                    op=Add(),\n",
      "                    right=Constant(value=2)),\n",
      "                op=Sub(),\n",
      "                right=BinOp(\n",
      "                    left=BinOp(\n",
      "                        left=Constant(value=3),\n",
      "                        op=Mult(),\n",
      "                        right=Constant(value=4)),\n",
      "                    op=Div(),\n",
      "                    right=Constant(value=5))))],\n",
      "    type_ignores=[])\n"
     ]
    }
   ],
   "source": [
    "print(ast.dump(ast.parse(\"1 + 2 - 3 * 4 / 5\"), indent=4))"
   ]
  },
  {
   "cell_type": "markdown",
   "metadata": {
    "slideshow": {
     "slide_type": "skip"
    },
    "solution2": "hidden",
    "solution2_first": true
   },
   "source": [
    "To mutate the tree, we need to change the `op` attribute (which has one of the values `Add`, `Sub`, `Mult`, and `Div`).  Write a class `BinOpMutator` that does the necessary mutations, and then create a  class `MuBinOpAnalyzer` as subclass of `MuFunctionAnalyzer` which makes use of `BinOpMutator`."
   ]
  },
  {
   "cell_type": "markdown",
   "metadata": {
    "slideshow": {
     "slide_type": "skip"
    },
    "solution2": "hidden"
   },
   "source": [
    "**Solution.** As with `StmtDeletionMutator`, we have to visit the AST – in this case, all `BinOp` nodes – and make appropriate changes:"
   ]
  },
  {
   "cell_type": "code",
   "execution_count": 104,
   "metadata": {
    "execution": {
     "iopub.execute_input": "2022-01-11T09:09:54.840368Z",
     "iopub.status.busy": "2022-01-11T09:09:54.839564Z",
     "iopub.status.idle": "2022-01-11T09:09:54.841802Z",
     "shell.execute_reply": "2022-01-11T09:09:54.842575Z"
    },
    "slideshow": {
     "slide_type": "skip"
    },
    "solution2": "hidden"
   },
   "outputs": [],
   "source": [
    "class BinOpMutator(Mutator):\n",
    "    def visit_BinOp(self, node): return self.mutable_visit(node)"
   ]
  },
  {
   "cell_type": "code",
   "execution_count": 105,
   "metadata": {
    "execution": {
     "iopub.execute_input": "2022-01-11T09:09:54.850197Z",
     "iopub.status.busy": "2022-01-11T09:09:54.849431Z",
     "iopub.status.idle": "2022-01-11T09:09:54.851704Z",
     "shell.execute_reply": "2022-01-11T09:09:54.852168Z"
    },
    "slideshow": {
     "slide_type": "skip"
    },
    "solution2": "hidden"
   },
   "outputs": [],
   "source": [
    "class BinOpMutator(BinOpMutator):\n",
    "    def mutation_visit(self, node):\n",
    "        replacement = {\n",
    "            type(ast.Add()): ast.Sub(),\n",
    "            type(ast.Sub()): ast.Add(),\n",
    "            type(ast.Mult()): ast.Div(),\n",
    "            type(ast.Div()): ast.Mult()\n",
    "        }\n",
    "\n",
    "        try:\n",
    "            node.op = replacement[type(node.op)]\n",
    "        except KeyError:\n",
    "            pass  # All other binary operators (and, mod, etc.)\n",
    "\n",
    "        return node"
   ]
  },
  {
   "cell_type": "markdown",
   "metadata": {
    "slideshow": {
     "slide_type": "skip"
    },
    "solution2": "hidden"
   },
   "source": [
    "We hook this into our own analyzer:"
   ]
  },
  {
   "cell_type": "code",
   "execution_count": 106,
   "metadata": {
    "execution": {
     "iopub.execute_input": "2022-01-11T09:09:54.857527Z",
     "iopub.status.busy": "2022-01-11T09:09:54.856447Z",
     "iopub.status.idle": "2022-01-11T09:09:54.859356Z",
     "shell.execute_reply": "2022-01-11T09:09:54.860052Z"
    },
    "slideshow": {
     "slide_type": "skip"
    },
    "solution2": "hidden"
   },
   "outputs": [],
   "source": [
    "class MuBinOpAnalyzer(MuFunctionAnalyzer):\n",
    "    def mutator_object(self, locations=None):\n",
    "        return BinOpMutator(locations)"
   ]
  },
  {
   "cell_type": "markdown",
   "metadata": {
    "slideshow": {
     "slide_type": "skip"
    },
    "solution2": "hidden"
   },
   "source": [
    "Here's how it mutates a function:"
   ]
  },
  {
   "cell_type": "code",
   "execution_count": 107,
   "metadata": {
    "execution": {
     "iopub.execute_input": "2022-01-11T09:09:54.864489Z",
     "iopub.status.busy": "2022-01-11T09:09:54.863894Z",
     "iopub.status.idle": "2022-01-11T09:09:54.865893Z",
     "shell.execute_reply": "2022-01-11T09:09:54.866375Z"
    },
    "slideshow": {
     "slide_type": "skip"
    },
    "solution2": "hidden"
   },
   "outputs": [],
   "source": [
    "def arith_expr():\n",
    "    return 1 + 2 - 3 * 4 / 5"
   ]
  },
  {
   "cell_type": "code",
   "execution_count": 108,
   "metadata": {
    "execution": {
     "iopub.execute_input": "2022-01-11T09:09:54.873228Z",
     "iopub.status.busy": "2022-01-11T09:09:54.872246Z",
     "iopub.status.idle": "2022-01-11T09:09:54.875671Z",
     "shell.execute_reply": "2022-01-11T09:09:54.876332Z"
    },
    "slideshow": {
     "slide_type": "skip"
    },
    "solution2": "hidden"
   },
   "outputs": [
    {
     "name": "stdout",
     "output_type": "stream",
     "text": [
      "--- original\n",
      "\n",
      "+++ mutant\n",
      "\n",
      "@@ -1,2 +1,2 @@\n",
      "\n",
      " def arith_expr():\n",
      "-    return 1 + 2 - 3 * 4 / 5\n",
      "+    return 1 + 2 + 3 * 4 / 5\n",
      "--- original\n",
      "\n",
      "+++ mutant\n",
      "\n",
      "@@ -1,2 +1,2 @@\n",
      "\n",
      " def arith_expr():\n",
      "-    return 1 + 2 - 3 * 4 / 5\n",
      "+    return 1 - 2 - 3 * 4 / 5\n",
      "--- original\n",
      "\n",
      "+++ mutant\n",
      "\n",
      "@@ -1,2 +1,2 @@\n",
      "\n",
      " def arith_expr():\n",
      "-    return 1 + 2 - 3 * 4 / 5\n",
      "+    return 1 + 2 - 3 * 4 * 5\n",
      "--- original\n",
      "\n",
      "+++ mutant\n",
      "\n",
      "@@ -1,2 +1,2 @@\n",
      "\n",
      " def arith_expr():\n",
      "-    return 1 + 2 - 3 * 4 / 5\n",
      "+    return 1 + 2 - 3 / 4 / 5\n"
     ]
    }
   ],
   "source": [
    "for mutant in MuBinOpAnalyzer(arith_expr, log=True):\n",
    "    print(mutant.diff())"
   ]
  },
  {
   "cell_type": "markdown",
   "metadata": {
    "button": false,
    "new_sheet": false,
    "run_control": {
     "read_only": false
    },
    "slideshow": {
     "slide_type": "subslide"
    },
    "solution": "hidden",
    "solution2": "hidden",
    "solution2_first": true,
    "solution_first": true
   },
   "source": [
    "### Exercise 2: Optimizing Mutation Analysis\n",
    "\n",
    "Our technique for mutation analysis is somewhat inefficient in that we run the tests even on mutants that have mutations in code not covered by the test case. Test cases have no possibility of detecting errors on portions of code they do not cover. Hence, one of the simplest optimizations is to first recover the coverage information from the given test case, and only run the test case on mutants where the mutations lie in the code being covered by the test case. Can you modify the `MuFunctionAnalyzer` to incorporate recovering coverage as the first step?"
   ]
  },
  {
   "cell_type": "markdown",
   "metadata": {
    "button": false,
    "new_sheet": false,
    "run_control": {
     "read_only": false
    },
    "slideshow": {
     "slide_type": "skip"
    },
    "solution": "hidden",
    "solution2": "hidden"
   },
   "source": [
    "**Solution.** Left to the astute reader."
   ]
  },
  {
   "cell_type": "markdown",
   "metadata": {
    "button": false,
    "new_sheet": false,
    "run_control": {
     "read_only": false
    },
    "slideshow": {
     "slide_type": "subslide"
    },
    "solution": "hidden",
    "solution2": "hidden",
    "solution2_first": true,
    "solution_first": true
   },
   "source": [
    "### Exercise 3: Byte Code Mutator\n",
    "\n",
    "We have seen how to mutate the AST given the source. One of the deficiencies with this approach is that the Python bytecode is targeted by other languages too. In such cases, the source may not be readily converted to a Python AST, and it is desirable to mutate the bytecode instead. Can you implement a bytecode mutator for Python function that mutates the bytecode instead of fetching the source and then mutating it?"
   ]
  },
  {
   "cell_type": "markdown",
   "metadata": {
    "button": false,
    "new_sheet": false,
    "run_control": {
     "read_only": false
    },
    "slideshow": {
     "slide_type": "skip"
    },
    "solution": "hidden",
    "solution2": "hidden"
   },
   "source": [
    "**Solution.** Left to the astute reader."
   ]
  },
  {
   "cell_type": "markdown",
   "metadata": {
    "button": false,
    "new_sheet": false,
    "run_control": {
     "read_only": false
    },
    "slideshow": {
     "slide_type": "subslide"
    },
    "solution": "hidden",
    "solution2": "hidden",
    "solution2_first": true,
    "solution_first": true
   },
   "source": [
    "### Exercise 4: Estimating Residual Defect Density\n",
    "\n",
    "The defect density of a program is the number of defects in a program that that were detected before release divided by the program size. The residual defect density is the percentage of defects that escaped detection. While estimation of the real residual defect density is difficult, mutation analysis can provide an upper bound. The number of mutants that remain undetected is a plausible upper bound on the number of defects that remain within the program. However, this upper bound may be too wide. The reason is that some of the remaining faults can interact with each other, and if present together, can be detected by the available test suite. Hence, a tighter bound is the number of mutants that can exist *together* in a given program without being detected by the given test suite. This can be accomplished by starting with the complete set of mutations possible, and applying delta-debugging from [the chapter on reducing](Reducer.ipynb) to determine the minimum number of mutations that need to be removed to make the mutant pass undetected by the test suite. Can you produce a new `RDDEstimator` by extending the `MuFunctionAnalyzer` that estimates the residual defect density upper bound using this technique?"
   ]
  },
  {
   "cell_type": "markdown",
   "metadata": {
    "button": false,
    "new_sheet": false,
    "run_control": {
     "read_only": false
    },
    "slideshow": {
     "slide_type": "skip"
    },
    "solution": "hidden",
    "solution2": "hidden"
   },
   "source": [
    "**Solution.** Left to the astute reader."
   ]
  }
 ],
 "metadata": {
  "ipub": {
   "bibliography": "fuzzingbook.bib",
   "toc": true
  },
  "kernelspec": {
   "display_name": "Python 3 (ipykernel)",
   "language": "python",
   "name": "python3"
  },
  "language_info": {
   "codemirror_mode": {
    "name": "ipython",
    "version": 3
   },
   "file_extension": ".py",
   "mimetype": "text/x-python",
   "name": "python",
   "nbconvert_exporter": "python",
   "pygments_lexer": "ipython3",
   "version": "3.9.7"
  },
  "toc": {
   "base_numbering": 1,
   "nav_menu": {},
   "number_sections": true,
   "sideBar": true,
   "skip_h1_title": true,
   "title_cell": "",
   "title_sidebar": "Contents",
   "toc_cell": false,
   "toc_position": {},
   "toc_section_display": true,
   "toc_window_display": true
  },
  "toc-autonumbering": false,
  "varInspector": {
   "cols": {
    "lenName": 16,
    "lenType": 16,
    "lenVar": 40
   },
   "kernels_config": {
    "python": {
     "delete_cmd_postfix": "",
     "delete_cmd_prefix": "del ",
     "library": "var_list.py",
     "varRefreshCmd": "print(var_dic_list())"
    },
    "r": {
     "delete_cmd_postfix": ") ",
     "delete_cmd_prefix": "rm(",
     "library": "var_list.r",
     "varRefreshCmd": "cat(var_dic_list()) "
    }
   },
   "types_to_exclude": [
    "module",
    "function",
    "builtin_function_or_method",
    "instance",
    "_Feature"
   ],
   "window_display": false
  }
 },
 "nbformat": 4,
 "nbformat_minor": 4
}