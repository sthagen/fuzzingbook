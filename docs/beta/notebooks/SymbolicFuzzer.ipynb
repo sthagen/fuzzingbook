{
 "cells": [
  {
   "cell_type": "markdown",
   "metadata": {
    "button": false,
    "new_sheet": false,
    "run_control": {
     "read_only": false
    },
    "slideshow": {
     "slide_type": "slide"
    }
   },
   "source": [
    "# Symbolic Fuzzing\n",
    "\n",
    "One of the problems with traditional methods of fuzzing is that they fail to exercise all the possible behaviors that a system can have, especially when the input space is large. Quite often the execution of a specific branch of execution may happen only with very specific inputs, which could represent an extremely small fraction of the input space. The traditional fuzzing methods relies on chance to produce inputs they need. However, relying on randomness to generate values that we want is a bad idea when the space to be explored is huge. For example, a function that accepts a string, even if one only considers the first $10$ characters, already has $2^{80}$ possible inputs. If one is looking for a specific string, random generation of values will take a few thousand years even in one of the super computers."
   ]
  },
  {
   "cell_type": "markdown",
   "metadata": {
    "button": false,
    "new_sheet": false,
    "run_control": {
     "read_only": false
    },
    "slideshow": {
     "slide_type": "subslide"
    }
   },
   "source": [
    "In the [chapter on concolic testing](ConcolicFuzzer.ipynb), we have seen how _concolic tracing_ can offer a way out. We saw how concolic tracing can be implemented using direct information flows using the Python interpreter. However, there are two problems with this approach.\n",
    "* The first is that concolic tracing relies on the existence of sample inputs. What if one has no sample inputs?\n",
    "* Second, direct information flows could be unreliable if the program has indirect information flows such as those based on control flow.\n",
    "\n",
    "In both cases, _static code analysis_ can bridge the gap. However, that raises the question: Can we determine the complete behavior of the program by examining it statically, and check if it behaves unexpectedly under some (unknown) input or result in an unexpected output?"
   ]
  },
  {
   "cell_type": "markdown",
   "metadata": {
    "button": false,
    "new_sheet": false,
    "run_control": {
     "read_only": false
    },
    "slideshow": {
     "slide_type": "subslide"
    }
   },
   "source": [
    "_Symbolic execution_ is one of the ways that we can reason about the behavior of a program without executing it. A program is a computation that can be treated as a system of equations that obtains the output values from the given inputs. Executing the program symbolically -- that is, solving these mathematically -- along with any specified objective such as covering a particular branch or obtaining a particular output will get us inputs that can accomplish this task."
   ]
  },
  {
   "cell_type": "markdown",
   "metadata": {
    "button": false,
    "new_sheet": false,
    "run_control": {
     "read_only": false
    },
    "slideshow": {
     "slide_type": "fragment"
    }
   },
   "source": [
    "In this chapter, we investigate how symbolic execution can be implemented, and how it can be used to obtain interesting values for fuzzing."
   ]
  },
  {
   "cell_type": "code",
   "execution_count": 1,
   "metadata": {
    "execution": {
     "iopub.execute_input": "2022-08-04T16:59:10.075833Z",
     "iopub.status.busy": "2022-08-04T16:59:10.075463Z",
     "iopub.status.idle": "2022-08-04T16:59:10.112246Z",
     "shell.execute_reply": "2022-08-04T16:59:10.112599Z"
    },
    "slideshow": {
     "slide_type": "skip"
    }
   },
   "outputs": [
    {
     "data": {
      "text/html": [
       "\n",
       "        <iframe\n",
       "            width=\"640\"\n",
       "            height=\"360\"\n",
       "            src=\"https://www.youtube-nocookie.com/embed/AJfRBF8NEWU\"\n",
       "            frameborder=\"0\"\n",
       "            allowfullscreen\n",
       "        ></iframe>\n",
       "        "
      ],
      "text/plain": [
       "<IPython.lib.display.IFrame at 0x107936b30>"
      ]
     },
     "execution_count": 1,
     "metadata": {},
     "output_type": "execute_result"
    }
   ],
   "source": [
    "from bookutils import YouTubeVideo\n",
    "YouTubeVideo('AJfRBF8NEWU')"
   ]
  },
  {
   "cell_type": "markdown",
   "metadata": {
    "button": false,
    "new_sheet": false,
    "run_control": {
     "read_only": false
    },
    "slideshow": {
     "slide_type": "subslide"
    }
   },
   "source": [
    "**Prerequisites**\n",
    "\n",
    "* You should understand how to use [type annotations](https://docs.python.org/3/library/typing.html) in Python.\n",
    "* A working knowledge of [SMT solvers](https://en.wikipedia.org/wiki/Satisfiability_modulo_theories), especially [Z3](https://github.com/Z3Prover/z3) is useful.\n",
    "* You should have read the [chapter on coverage](Coverage.ipynb).\n",
    "* A familiarity with [chapter on concolic fuzzing](ConcolicFuzzer.ipynb) would be helpful."
   ]
  },
  {
   "cell_type": "markdown",
   "metadata": {
    "jp-MarkdownHeadingCollapsed": true,
    "slideshow": {
     "slide_type": "skip"
    },
    "tags": []
   },
   "source": [
    "## Synopsis\n",
    "<!-- Automatically generated. Do not edit. -->\n",
    "\n",
    "To [use the code provided in this chapter](Importing.ipynb), write\n",
    "\n",
    "```python\n",
    ">>> from fuzzingbook.SymbolicFuzzer import <identifier>\n",
    "```\n",
    "\n",
    "and then make use of the following features.\n",
    "\n",
    "\n",
    "This chapter provides an implementation of a symbolic fuzzing engine `SymbolicFuzzer`. The fuzzer uses symbolic execution to exhaustively explore paths in the program to a limited depth, and generate inputs that will reach these paths.\n",
    "\n",
    "As an example, consider the function `gcd()`, computing the greatest common divisor of `a` and `b`:\n",
    "\n",
    "```python\n",
    "def gcd(a: int, b: int) -> int:\n",
    "    if a < b:\n",
    "        c: int = a  # type: ignore\n",
    "        a = b\n",
    "        b = c\n",
    "\n",
    "    while b != 0:\n",
    "        c: int = a  # type: ignore\n",
    "        a = b\n",
    "        b = c % b\n",
    "\n",
    "    return a\n",
    "```\n",
    "To explore `gcd()`, the fuzzer can be used as follows, producing values for arguments that cover different paths in `gcd()` (including multiple times of loop iterations):\n",
    "\n",
    "```python\n",
    ">>> gcd_fuzzer = SymbolicFuzzer(gcd, max_tries=10, max_iter=10, max_depth=10)\n",
    ">>> for i in range(10):\n",
    ">>>     args = gcd_fuzzer.fuzz()\n",
    ">>>     print(args)\n",
    "{'a': 8, 'b': 3}\n",
    "{'a': 1, 'b': 2}\n",
    "{'a': 2, 'b': 5}\n",
    "{'a': 7, 'b': 6}\n",
    "{'a': 9, 'b': 10}\n",
    "{'a': 4, 'b': 4}\n",
    "{'a': 10, 'b': 9}\n",
    "{'a': 2, 'b': 10}\n",
    "{'a': 14, 'b': 7}\n",
    "{'a': 3, 'b': 2}\n",
    "\n",
    "```\n",
    "Note that the variable values returned by `fuzz()` are Z3 _symbolic_ values; to convert them to Python numbers, use their method `as_long()`:\n",
    "\n",
    "```python\n",
    ">>> for i in range(10):\n",
    ">>>     args = gcd_fuzzer.fuzz()\n",
    ">>>     a = args['a'].as_long()\n",
    ">>>     b = args['b'].as_long()\n",
    ">>>     d = gcd(a, b)\n",
    ">>>     print(f\"gcd({a}, {b}) = {d}\")\n",
    "gcd(0, 8) = 8\n",
    "gcd(-1, 10) = -1\n",
    "gcd(13, 2) = 1\n",
    "gcd(0, 10) = 10\n",
    "gcd(6, 7) = 1\n",
    "gcd(14, 2) = 2\n",
    "gcd(-1, 11) = -1\n",
    "gcd(15, 0) = 15\n",
    "gcd(0, -1) = -1\n",
    "gcd(-3, -2) = -1\n",
    "\n",
    "```\n",
    "The symbolic fuzzer is subject to a number of constraints. First, it requires that the function to be fuzzed has correct type annotations, including all local variables. Second, it solves loops by unrolling them, but only for a fixed amount.\n",
    "\n",
    "For programs without loops and variable reassignments, the `SimpleSymbolicFuzzer` is a faster, but more limited alternative.\n",
    "\n",
    "![](PICS/SymbolicFuzzer-synopsis-1.svg)\n",
    "\n"
   ]
  },
  {
   "cell_type": "markdown",
   "metadata": {
    "slideshow": {
     "slide_type": "slide"
    }
   },
   "source": [
    "## Obtaining Path Conditions for Coverage"
   ]
  },
  {
   "cell_type": "markdown",
   "metadata": {
    "slideshow": {
     "slide_type": "subslide"
    }
   },
   "source": [
    "In the chapter on [parsing and recombining inputs](SearchBasedFuzzer.ipynb), we saw how difficult it was to generate inputs for `process_vehicle()` -- a simple function that accepts a string. The solution given there was to rely on preexisting sample inputs. However, this solution is inadequate as it assumes the existence of sample inputs. What if there are no sample inputs at hand?\n",
    "\n",
    "For a simpler example, let us consider the following triangle function (which we already have seen in the [chapter on concolic fuzzing](ConcolicFuzzer.ipynb)). Can we generate inputs to cover all the paths?\n",
    "\n",
    "*Note.* We use type annotations to denote the argument types of programs. The [chapter on discovering dynamic invariants](DynamicInvariants.ipynb) will discuss how these types can be inferred automatically."
   ]
  },
  {
   "cell_type": "code",
   "execution_count": 2,
   "metadata": {
    "execution": {
     "iopub.execute_input": "2022-08-04T16:59:10.115540Z",
     "iopub.status.busy": "2022-08-04T16:59:10.115242Z",
     "iopub.status.idle": "2022-08-04T16:59:10.116324Z",
     "shell.execute_reply": "2022-08-04T16:59:10.116550Z"
    },
    "slideshow": {
     "slide_type": "subslide"
    }
   },
   "outputs": [],
   "source": [
    "def check_triangle(a: int, b: int, c: int) -> str:\n",
    "    if a == b:\n",
    "        if a == c:\n",
    "            if b == c:\n",
    "                return \"Equilateral\"\n",
    "            else:\n",
    "                return \"Isosceles\"\n",
    "        else:\n",
    "            return \"Isosceles\"\n",
    "    else:\n",
    "        if b != c:\n",
    "            if a == c:\n",
    "                return \"Isosceles\"\n",
    "            else:\n",
    "                return \"Scalene\"\n",
    "        else:\n",
    "            return \"Isosceles\""
   ]
  },
  {
   "cell_type": "markdown",
   "metadata": {
    "slideshow": {
     "slide_type": "subslide"
    }
   },
   "source": [
    "### The Control Flow Graph"
   ]
  },
  {
   "cell_type": "markdown",
   "metadata": {
    "slideshow": {
     "slide_type": "fragment"
    }
   },
   "source": [
    "The control flow graph of this function can be represented as follows:"
   ]
  },
  {
   "cell_type": "code",
   "execution_count": 3,
   "metadata": {
    "execution": {
     "iopub.execute_input": "2022-08-04T16:59:10.118567Z",
     "iopub.status.busy": "2022-08-04T16:59:10.118221Z",
     "iopub.status.idle": "2022-08-04T16:59:10.119618Z",
     "shell.execute_reply": "2022-08-04T16:59:10.119405Z"
    },
    "slideshow": {
     "slide_type": "skip"
    }
   },
   "outputs": [],
   "source": [
    "import bookutils"
   ]
  },
  {
   "cell_type": "code",
   "execution_count": 4,
   "metadata": {
    "execution": {
     "iopub.execute_input": "2022-08-04T16:59:10.121558Z",
     "iopub.status.busy": "2022-08-04T16:59:10.121266Z",
     "iopub.status.idle": "2022-08-04T16:59:10.122429Z",
     "shell.execute_reply": "2022-08-04T16:59:10.122616Z"
    },
    "slideshow": {
     "slide_type": "skip"
    }
   },
   "outputs": [],
   "source": [
    "import inspect"
   ]
  },
  {
   "cell_type": "code",
   "execution_count": 5,
   "metadata": {
    "execution": {
     "iopub.execute_input": "2022-08-04T16:59:10.124419Z",
     "iopub.status.busy": "2022-08-04T16:59:10.124126Z",
     "iopub.status.idle": "2022-08-04T16:59:10.235154Z",
     "shell.execute_reply": "2022-08-04T16:59:10.235495Z"
    },
    "slideshow": {
     "slide_type": "skip"
    }
   },
   "outputs": [],
   "source": [
    "from ControlFlow import PyCFG, to_graph, gen_cfg"
   ]
  },
  {
   "cell_type": "code",
   "execution_count": 6,
   "metadata": {
    "execution": {
     "iopub.execute_input": "2022-08-04T16:59:10.238076Z",
     "iopub.status.busy": "2022-08-04T16:59:10.237602Z",
     "iopub.status.idle": "2022-08-04T16:59:10.239256Z",
     "shell.execute_reply": "2022-08-04T16:59:10.239526Z"
    },
    "slideshow": {
     "slide_type": "fragment"
    }
   },
   "outputs": [],
   "source": [
    "def show_cfg(fn, **kwargs):\n",
    "    return to_graph(gen_cfg(inspect.getsource(fn)), **kwargs)"
   ]
  },
  {
   "cell_type": "code",
   "execution_count": 7,
   "metadata": {
    "execution": {
     "iopub.execute_input": "2022-08-04T16:59:10.241804Z",
     "iopub.status.busy": "2022-08-04T16:59:10.241351Z",
     "iopub.status.idle": "2022-08-04T16:59:10.561556Z",
     "shell.execute_reply": "2022-08-04T16:59:10.561871Z"
    },
    "slideshow": {
     "slide_type": "fragment"
    }
   },
   "outputs": [
    {
     "data": {
      "image/svg+xml": [
       "<?xml version=\"1.0\" encoding=\"UTF-8\" standalone=\"no\"?>\n",
       "<!DOCTYPE svg PUBLIC \"-//W3C//DTD SVG 1.1//EN\"\n",
       " \"http://www.w3.org/Graphics/SVG/1.1/DTD/svg11.dtd\">\n",
       "<!-- Generated by graphviz version 5.0.0 (20220707.1540)\n",
       " -->\n",
       "<!-- Pages: 1 -->\n",
       "<svg width=\"679pt\" height=\"488pt\"\n",
       " viewBox=\"0.00 0.00 679.00 488.00\" xmlns=\"http://www.w3.org/2000/svg\" xmlns:xlink=\"http://www.w3.org/1999/xlink\">\n",
       "<g id=\"graph0\" class=\"graph\" transform=\"scale(1 1) rotate(0) translate(4 484)\">\n",
       "<polygon fill=\"white\" stroke=\"transparent\" points=\"-4,4 -4,-484 675,-484 675,4 -4,4\"/>\n",
       "<!-- 1 -->\n",
       "<g id=\"node1\" class=\"node\">\n",
       "<title>1</title>\n",
       "<ellipse fill=\"none\" stroke=\"black\" cx=\"263\" cy=\"-458\" rx=\"122.37\" ry=\"18\"/>\n",
       "<ellipse fill=\"none\" stroke=\"black\" cx=\"263\" cy=\"-458\" rx=\"126.38\" ry=\"22\"/>\n",
       "<text text-anchor=\"middle\" x=\"263\" y=\"-454.3\" font-family=\"Times,serif\" font-size=\"14.00\">1: enter: check_triangle(a, b, c)</text>\n",
       "</g>\n",
       "<!-- 3 -->\n",
       "<g id=\"node9\" class=\"node\">\n",
       "<title>3</title>\n",
       "<polygon fill=\"none\" stroke=\"black\" points=\"263,-399 186.92,-381 263,-363 339.08,-381 263,-399\"/>\n",
       "<text text-anchor=\"middle\" x=\"263\" y=\"-377.3\" font-family=\"Times,serif\" font-size=\"14.00\">2: if: a == b</text>\n",
       "</g>\n",
       "<!-- 1&#45;&gt;3 -->\n",
       "<g id=\"edge7\" class=\"edge\">\n",
       "<title>1&#45;&gt;3</title>\n",
       "<path fill=\"none\" stroke=\"black\" d=\"M263,-435.71C263,-427.46 263,-417.91 263,-409.17\"/>\n",
       "<polygon fill=\"black\" stroke=\"black\" points=\"266.5,-409.06 263,-399.06 259.5,-409.06 266.5,-409.06\"/>\n",
       "</g>\n",
       "<!-- 2 -->\n",
       "<g id=\"node2\" class=\"node\">\n",
       "<title>2</title>\n",
       "<ellipse fill=\"none\" stroke=\"black\" cx=\"355\" cy=\"-22\" rx=\"117.77\" ry=\"18\"/>\n",
       "<ellipse fill=\"none\" stroke=\"black\" cx=\"355\" cy=\"-22\" rx=\"121.78\" ry=\"22\"/>\n",
       "<text text-anchor=\"middle\" x=\"355\" y=\"-18.3\" font-family=\"Times,serif\" font-size=\"14.00\">1: exit: check_triangle(a, b, c)</text>\n",
       "</g>\n",
       "<!-- 6 -->\n",
       "<g id=\"node3\" class=\"node\">\n",
       "<title>6</title>\n",
       "<polygon fill=\"none\" stroke=\"black\" points=\"210.5,-117 79.5,-117 79.5,-81 210.5,-81 210.5,-117\"/>\n",
       "<text text-anchor=\"middle\" x=\"145\" y=\"-95.3\" font-family=\"Times,serif\" font-size=\"14.00\">5: return &#39;Equilateral&#39;</text>\n",
       "</g>\n",
       "<!-- 6&#45;&gt;2 -->\n",
       "<g id=\"edge1\" class=\"edge\">\n",
       "<title>6&#45;&gt;2</title>\n",
       "<path fill=\"none\" stroke=\"black\" d=\"M192.65,-80.98C222.15,-70.45 260.37,-56.8 292.31,-45.39\"/>\n",
       "<polygon fill=\"black\" stroke=\"black\" points=\"293.76,-48.59 302,-41.93 291.41,-42 293.76,-48.59\"/>\n",
       "</g>\n",
       "<!-- 7 -->\n",
       "<g id=\"node4\" class=\"node\">\n",
       "<title>7</title>\n",
       "<polygon fill=\"none\" stroke=\"black\" points=\"349,-117 229,-117 229,-81 349,-81 349,-117\"/>\n",
       "<text text-anchor=\"middle\" x=\"289\" y=\"-95.3\" font-family=\"Times,serif\" font-size=\"14.00\">7: return &#39;Isosceles&#39;</text>\n",
       "</g>\n",
       "<!-- 7&#45;&gt;2 -->\n",
       "<g id=\"edge2\" class=\"edge\">\n",
       "<title>7&#45;&gt;2</title>\n",
       "<path fill=\"none\" stroke=\"black\" d=\"M303.98,-80.98C311.6,-72.32 321.07,-61.55 329.78,-51.66\"/>\n",
       "<polygon fill=\"black\" stroke=\"black\" points=\"332.57,-53.79 336.55,-43.97 327.31,-49.16 332.57,-53.79\"/>\n",
       "</g>\n",
       "<!-- 8 -->\n",
       "<g id=\"node5\" class=\"node\">\n",
       "<title>8</title>\n",
       "<polygon fill=\"none\" stroke=\"black\" points=\"120,-171 0,-171 0,-135 120,-135 120,-171\"/>\n",
       "<text text-anchor=\"middle\" x=\"60\" y=\"-149.3\" font-family=\"Times,serif\" font-size=\"14.00\">9: return &#39;Isosceles&#39;</text>\n",
       "</g>\n",
       "<!-- 8&#45;&gt;2 -->\n",
       "<g id=\"edge3\" class=\"edge\">\n",
       "<title>8&#45;&gt;2</title>\n",
       "<path fill=\"none\" stroke=\"black\" d=\"M57.32,-134.74C55.88,-118.71 56.61,-95.23 70,-81 92.96,-56.6 168.68,-41.91 236.3,-33.43\"/>\n",
       "<polygon fill=\"black\" stroke=\"black\" points=\"237.14,-36.85 246.65,-32.17 236.3,-29.9 237.14,-36.85\"/>\n",
       "</g>\n",
       "<!-- 11 -->\n",
       "<g id=\"node6\" class=\"node\">\n",
       "<title>11</title>\n",
       "<polygon fill=\"none\" stroke=\"black\" points=\"532.5,-117 405.5,-117 405.5,-81 532.5,-81 532.5,-117\"/>\n",
       "<text text-anchor=\"middle\" x=\"469\" y=\"-95.3\" font-family=\"Times,serif\" font-size=\"14.00\">13: return &#39;Isosceles&#39;</text>\n",
       "</g>\n",
       "<!-- 11&#45;&gt;2 -->\n",
       "<g id=\"edge4\" class=\"edge\">\n",
       "<title>11&#45;&gt;2</title>\n",
       "<path fill=\"none\" stroke=\"black\" d=\"M443.13,-80.98C428.83,-71.57 410.76,-59.68 394.71,-49.12\"/>\n",
       "<polygon fill=\"black\" stroke=\"black\" points=\"396.31,-45.99 386.04,-43.42 392.47,-51.84 396.31,-45.99\"/>\n",
       "</g>\n",
       "<!-- 12 -->\n",
       "<g id=\"node7\" class=\"node\">\n",
       "<title>12</title>\n",
       "<polygon fill=\"none\" stroke=\"black\" points=\"671,-117 551,-117 551,-81 671,-81 671,-117\"/>\n",
       "<text text-anchor=\"middle\" x=\"611\" y=\"-95.3\" font-family=\"Times,serif\" font-size=\"14.00\">15: return &#39;Scalene&#39;</text>\n",
       "</g>\n",
       "<!-- 12&#45;&gt;2 -->\n",
       "<g id=\"edge5\" class=\"edge\">\n",
       "<title>12&#45;&gt;2</title>\n",
       "<path fill=\"none\" stroke=\"black\" d=\"M552.91,-80.98C515.3,-69.96 466.06,-55.54 426.11,-43.83\"/>\n",
       "<polygon fill=\"black\" stroke=\"black\" points=\"427.01,-40.45 416.43,-41 425.04,-47.17 427.01,-40.45\"/>\n",
       "</g>\n",
       "<!-- 13 -->\n",
       "<g id=\"node8\" class=\"node\">\n",
       "<title>13</title>\n",
       "<polygon fill=\"none\" stroke=\"black\" points=\"435.5,-171 308.5,-171 308.5,-135 435.5,-135 435.5,-171\"/>\n",
       "<text text-anchor=\"middle\" x=\"372\" y=\"-149.3\" font-family=\"Times,serif\" font-size=\"14.00\">17: return &#39;Isosceles&#39;</text>\n",
       "</g>\n",
       "<!-- 13&#45;&gt;2 -->\n",
       "<g id=\"edge6\" class=\"edge\">\n",
       "<title>13&#45;&gt;2</title>\n",
       "<path fill=\"none\" stroke=\"black\" d=\"M369.74,-134.87C367.04,-114.36 362.46,-79.61 359.12,-54.27\"/>\n",
       "<polygon fill=\"black\" stroke=\"black\" points=\"362.55,-53.51 357.77,-44.06 355.61,-54.43 362.55,-53.51\"/>\n",
       "</g>\n",
       "<!-- 4 -->\n",
       "<g id=\"node10\" class=\"node\">\n",
       "<title>4</title>\n",
       "<polygon fill=\"none\" stroke=\"black\" points=\"177,-312 100.92,-294 177,-276 253.08,-294 177,-312\"/>\n",
       "<text text-anchor=\"middle\" x=\"177\" y=\"-290.3\" font-family=\"Times,serif\" font-size=\"14.00\">3: if: a == c</text>\n",
       "</g>\n",
       "<!-- 3&#45;&gt;4 -->\n",
       "<g id=\"edge8\" class=\"edge\">\n",
       "<title>3&#45;&gt;4</title>\n",
       "<path fill=\"none\" stroke=\"blue\" d=\"M248.8,-365.96C235.02,-352.35 213.95,-331.52 198.19,-315.94\"/>\n",
       "<polygon fill=\"blue\" stroke=\"blue\" points=\"200.51,-313.32 190.94,-308.77 195.59,-318.29 200.51,-313.32\"/>\n",
       "<text text-anchor=\"middle\" x=\"230.5\" y=\"-333.8\" font-family=\"Times,serif\" font-size=\"14.00\">T</text>\n",
       "</g>\n",
       "<!-- 9 -->\n",
       "<g id=\"node12\" class=\"node\">\n",
       "<title>9</title>\n",
       "<polygon fill=\"none\" stroke=\"black\" points=\"371,-312 291.9,-294 371,-276 450.1,-294 371,-312\"/>\n",
       "<text text-anchor=\"middle\" x=\"371\" y=\"-290.3\" font-family=\"Times,serif\" font-size=\"14.00\">11: if: b != c</text>\n",
       "</g>\n",
       "<!-- 3&#45;&gt;9 -->\n",
       "<g id=\"edge13\" class=\"edge\">\n",
       "<title>3&#45;&gt;9</title>\n",
       "<path fill=\"none\" stroke=\"red\" d=\"M279.88,-366.72C297.71,-352.68 326.01,-330.41 346.34,-314.41\"/>\n",
       "<polygon fill=\"red\" stroke=\"red\" points=\"348.55,-317.12 354.24,-308.19 344.22,-311.62 348.55,-317.12\"/>\n",
       "<text text-anchor=\"middle\" x=\"327\" y=\"-333.8\" font-family=\"Times,serif\" font-size=\"14.00\">F</text>\n",
       "</g>\n",
       "<!-- 4&#45;&gt;8 -->\n",
       "<g id=\"edge12\" class=\"edge\">\n",
       "<title>4&#45;&gt;8</title>\n",
       "<path fill=\"none\" stroke=\"red\" d=\"M156.49,-280.64C137.68,-268.45 110.07,-248.29 92,-225 81.8,-211.85 74.01,-194.92 68.67,-180.9\"/>\n",
       "<polygon fill=\"red\" stroke=\"red\" points=\"71.89,-179.52 65.21,-171.29 65.3,-181.89 71.89,-179.52\"/>\n",
       "<text text-anchor=\"middle\" x=\"130\" y=\"-246.8\" font-family=\"Times,serif\" font-size=\"14.00\">F</text>\n",
       "</g>\n",
       "<!-- 5 -->\n",
       "<g id=\"node11\" class=\"node\">\n",
       "<title>5</title>\n",
       "<polygon fill=\"none\" stroke=\"black\" points=\"177,-225 100.92,-207 177,-189 253.08,-207 177,-225\"/>\n",
       "<text text-anchor=\"middle\" x=\"177\" y=\"-203.3\" font-family=\"Times,serif\" font-size=\"14.00\">4: if: b == c</text>\n",
       "</g>\n",
       "<!-- 4&#45;&gt;5 -->\n",
       "<g id=\"edge9\" class=\"edge\">\n",
       "<title>4&#45;&gt;5</title>\n",
       "<path fill=\"none\" stroke=\"blue\" d=\"M177,-275.8C177,-264.16 177,-248.55 177,-235.24\"/>\n",
       "<polygon fill=\"blue\" stroke=\"blue\" points=\"180.5,-235.18 177,-225.18 173.5,-235.18 180.5,-235.18\"/>\n",
       "<text text-anchor=\"middle\" x=\"181.5\" y=\"-246.8\" font-family=\"Times,serif\" font-size=\"14.00\">T</text>\n",
       "</g>\n",
       "<!-- 5&#45;&gt;6 -->\n",
       "<g id=\"edge10\" class=\"edge\">\n",
       "<title>5&#45;&gt;6</title>\n",
       "<path fill=\"none\" stroke=\"blue\" d=\"M172.14,-189.9C167.11,-173.23 159.16,-146.89 153.16,-127.02\"/>\n",
       "<polygon fill=\"blue\" stroke=\"blue\" points=\"156.47,-125.87 150.23,-117.31 149.76,-127.89 156.47,-125.87\"/>\n",
       "<text text-anchor=\"middle\" x=\"170.5\" y=\"-149.3\" font-family=\"Times,serif\" font-size=\"14.00\">T</text>\n",
       "</g>\n",
       "<!-- 5&#45;&gt;7 -->\n",
       "<g id=\"edge11\" class=\"edge\">\n",
       "<title>5&#45;&gt;7</title>\n",
       "<path fill=\"none\" stroke=\"red\" d=\"M191.64,-192.14C209.89,-174.87 241.37,-145.08 263.59,-124.05\"/>\n",
       "<polygon fill=\"red\" stroke=\"red\" points=\"266.16,-126.43 271.02,-117.02 261.35,-121.35 266.16,-126.43\"/>\n",
       "<text text-anchor=\"middle\" x=\"254\" y=\"-149.3\" font-family=\"Times,serif\" font-size=\"14.00\">F</text>\n",
       "</g>\n",
       "<!-- 9&#45;&gt;13 -->\n",
       "<g id=\"edge17\" class=\"edge\">\n",
       "<title>9&#45;&gt;13</title>\n",
       "<path fill=\"none\" stroke=\"red\" d=\"M371.12,-275.96C371.29,-252.4 371.6,-209.64 371.8,-181.53\"/>\n",
       "<polygon fill=\"red\" stroke=\"red\" points=\"375.3,-181.21 371.88,-171.18 368.3,-181.16 375.3,-181.21\"/>\n",
       "<text text-anchor=\"middle\" x=\"375\" y=\"-246.8\" font-family=\"Times,serif\" font-size=\"14.00\">F</text>\n",
       "</g>\n",
       "<!-- 10 -->\n",
       "<g id=\"node13\" class=\"node\">\n",
       "<title>10</title>\n",
       "<polygon fill=\"none\" stroke=\"black\" points=\"481,-225 399.39,-207 481,-189 562.61,-207 481,-225\"/>\n",
       "<text text-anchor=\"middle\" x=\"481\" y=\"-203.3\" font-family=\"Times,serif\" font-size=\"14.00\">12: if: a == c</text>\n",
       "</g>\n",
       "<!-- 9&#45;&gt;10 -->\n",
       "<g id=\"edge14\" class=\"edge\">\n",
       "<title>9&#45;&gt;10</title>\n",
       "<path fill=\"none\" stroke=\"blue\" d=\"M388.19,-279.72C406.24,-265.77 434.84,-243.67 455.52,-227.69\"/>\n",
       "<polygon fill=\"blue\" stroke=\"blue\" points=\"457.8,-230.35 463.57,-221.47 453.52,-224.81 457.8,-230.35\"/>\n",
       "<text text-anchor=\"middle\" x=\"436.5\" y=\"-246.8\" font-family=\"Times,serif\" font-size=\"14.00\">T</text>\n",
       "</g>\n",
       "<!-- 10&#45;&gt;11 -->\n",
       "<g id=\"edge15\" class=\"edge\">\n",
       "<title>10&#45;&gt;11</title>\n",
       "<path fill=\"none\" stroke=\"blue\" d=\"M479.07,-188.97C477.19,-172.38 474.31,-146.88 472.11,-127.43\"/>\n",
       "<polygon fill=\"blue\" stroke=\"blue\" points=\"475.57,-126.88 470.96,-117.34 468.61,-127.67 475.57,-126.88\"/>\n",
       "<text text-anchor=\"middle\" x=\"480.5\" y=\"-149.3\" font-family=\"Times,serif\" font-size=\"14.00\">T</text>\n",
       "</g>\n",
       "<!-- 10&#45;&gt;12 -->\n",
       "<g id=\"edge16\" class=\"edge\">\n",
       "<title>10&#45;&gt;12</title>\n",
       "<path fill=\"none\" stroke=\"red\" d=\"M497.46,-192.58C518.67,-175.28 555.9,-144.93 581.92,-123.71\"/>\n",
       "<polygon fill=\"red\" stroke=\"red\" points=\"584.4,-126.2 589.94,-117.17 579.98,-120.78 584.4,-126.2\"/>\n",
       "<text text-anchor=\"middle\" x=\"569\" y=\"-149.3\" font-family=\"Times,serif\" font-size=\"14.00\">F</text>\n",
       "</g>\n",
       "</g>\n",
       "</svg>\n"
      ],
      "text/plain": [
       "<graphviz.graphs.Digraph at 0x1079cb160>"
      ]
     },
     "execution_count": 7,
     "metadata": {},
     "output_type": "execute_result"
    }
   ],
   "source": [
    "show_cfg(check_triangle)"
   ]
  },
  {
   "cell_type": "markdown",
   "metadata": {
    "slideshow": {
     "slide_type": "fragment"
    }
   },
   "source": [
    "The possible execution paths traced by the program can be represented as follows, with the numbers indicating the specific line numbers executed."
   ]
  },
  {
   "cell_type": "code",
   "execution_count": 8,
   "metadata": {
    "execution": {
     "iopub.execute_input": "2022-08-04T16:59:10.565536Z",
     "iopub.status.busy": "2022-08-04T16:59:10.565133Z",
     "iopub.status.idle": "2022-08-04T16:59:10.566514Z",
     "shell.execute_reply": "2022-08-04T16:59:10.566798Z"
    },
    "slideshow": {
     "slide_type": "subslide"
    }
   },
   "outputs": [],
   "source": [
    "paths = {\n",
    "    '<path 1>': ([1, 2, 3, 4, 5], 'Equilateral'),\n",
    "    '<path 2>': ([1, 2, 3, 4, 7], 'Isosceles'),\n",
    "    '<path 3>': ([1, 2, 3, 9], 'Isosceles'),\n",
    "    '<path 4>': ([1, 2, 11, 12, 13], 'Isosceles'),\n",
    "    '<path 5>': ([1, 2, 11, 12, 15], 'Scalene'),\n",
    "    '<path 6>': ([1, 2, 11, 17], 'Isosceles'),\n",
    "}"
   ]
  },
  {
   "cell_type": "markdown",
   "metadata": {
    "slideshow": {
     "slide_type": "fragment"
    }
   },
   "source": [
    "Consider the `<path 1>`. To trace this path, we need to execute the following statements in order."
   ]
  },
  {
   "cell_type": "markdown",
   "metadata": {
    "slideshow": {
     "slide_type": "subslide"
    }
   },
   "source": [
    "```python\n",
    "1: check_triangle(a, b, c)\n",
    "2: if (a == b) -> True\n",
    "3: if (a == c) -> True\n",
    "4: if (b == c) -> True\n",
    "5: return 'Equilateral'\n",
    "```"
   ]
  },
  {
   "cell_type": "markdown",
   "metadata": {
    "slideshow": {
     "slide_type": "fragment"
    }
   },
   "source": [
    "That is, any execution that traces this path has to start with values for `a`, `b`, and `c` that obeys the constraints in line numbers `2: (a == b)` evaluates to `True`, `3: (a == c)` evaluates to `True`, and `4: (b == c)` evaluates to `True`. Can we generate inputs such that these constraints are satisfied?"
   ]
  },
  {
   "cell_type": "markdown",
   "metadata": {
    "slideshow": {
     "slide_type": "fragment"
    }
   },
   "source": [
    "We have seen from the [chapter on concolic fuzzing](ConcolicFuzzer.ipynb) how one can use an SMT solver such as Z3 to obtain a solution."
   ]
  },
  {
   "cell_type": "code",
   "execution_count": 9,
   "metadata": {
    "execution": {
     "iopub.execute_input": "2022-08-04T16:59:10.569488Z",
     "iopub.status.busy": "2022-08-04T16:59:10.569132Z",
     "iopub.status.idle": "2022-08-04T16:59:10.584262Z",
     "shell.execute_reply": "2022-08-04T16:59:10.584509Z"
    },
    "slideshow": {
     "slide_type": "skip"
    }
   },
   "outputs": [],
   "source": [
    "import z3  # type: ignore"
   ]
  },
  {
   "cell_type": "code",
   "execution_count": 10,
   "metadata": {
    "execution": {
     "iopub.execute_input": "2022-08-04T16:59:10.586487Z",
     "iopub.status.busy": "2022-08-04T16:59:10.586101Z",
     "iopub.status.idle": "2022-08-04T16:59:10.587861Z",
     "shell.execute_reply": "2022-08-04T16:59:10.588051Z"
    },
    "slideshow": {
     "slide_type": "subslide"
    }
   },
   "outputs": [
    {
     "name": "stdout",
     "output_type": "stream",
     "text": [
      "(4, 10, 2, 0)\n"
     ]
    }
   ],
   "source": [
    "z3_ver = z3.get_version()\n",
    "print(z3_ver)"
   ]
  },
  {
   "cell_type": "code",
   "execution_count": 11,
   "metadata": {
    "execution": {
     "iopub.execute_input": "2022-08-04T16:59:10.589960Z",
     "iopub.status.busy": "2022-08-04T16:59:10.589660Z",
     "iopub.status.idle": "2022-08-04T16:59:10.590889Z",
     "shell.execute_reply": "2022-08-04T16:59:10.591065Z"
    },
    "slideshow": {
     "slide_type": "fragment"
    }
   },
   "outputs": [],
   "source": [
    "assert z3_ver >= (4, 8, 6, 0), \"Please check z3 version\""
   ]
  },
  {
   "cell_type": "markdown",
   "metadata": {
    "slideshow": {
     "slide_type": "fragment"
    }
   },
   "source": [
    "What kind of symbolic variables do we need? We can obtain that information from the type annotations of the function."
   ]
  },
  {
   "cell_type": "code",
   "execution_count": 12,
   "metadata": {
    "execution": {
     "iopub.execute_input": "2022-08-04T16:59:10.593300Z",
     "iopub.status.busy": "2022-08-04T16:59:10.592980Z",
     "iopub.status.idle": "2022-08-04T16:59:10.594952Z",
     "shell.execute_reply": "2022-08-04T16:59:10.594597Z"
    },
    "slideshow": {
     "slide_type": "fragment"
    }
   },
   "outputs": [],
   "source": [
    "def get_annotations(fn):\n",
    "    sig = inspect.signature(fn)\n",
    "    return ([(i.name, i.annotation)\n",
    "             for i in sig.parameters.values()], sig.return_annotation)"
   ]
  },
  {
   "cell_type": "code",
   "execution_count": 13,
   "metadata": {
    "execution": {
     "iopub.execute_input": "2022-08-04T16:59:10.597471Z",
     "iopub.status.busy": "2022-08-04T16:59:10.597107Z",
     "iopub.status.idle": "2022-08-04T16:59:10.598808Z",
     "shell.execute_reply": "2022-08-04T16:59:10.599094Z"
    },
    "slideshow": {
     "slide_type": "fragment"
    }
   },
   "outputs": [
    {
     "data": {
      "text/plain": [
       "([('a', int), ('b', int), ('c', int)], str)"
      ]
     },
     "execution_count": 13,
     "metadata": {},
     "output_type": "execute_result"
    }
   ],
   "source": [
    "params, ret = get_annotations(check_triangle)\n",
    "params, ret"
   ]
  },
  {
   "cell_type": "markdown",
   "metadata": {
    "slideshow": {
     "slide_type": "fragment"
    }
   },
   "source": [
    "We create symbolic variables to represent each of the parameters"
   ]
  },
  {
   "cell_type": "code",
   "execution_count": 14,
   "metadata": {
    "execution": {
     "iopub.execute_input": "2022-08-04T16:59:10.601250Z",
     "iopub.status.busy": "2022-08-04T16:59:10.600926Z",
     "iopub.status.idle": "2022-08-04T16:59:10.602200Z",
     "shell.execute_reply": "2022-08-04T16:59:10.602387Z"
    },
    "slideshow": {
     "slide_type": "subslide"
    }
   },
   "outputs": [],
   "source": [
    "SYM_VARS = {\n",
    "    int: (\n",
    "        z3.Int, z3.IntVal), float: (\n",
    "            z3.Real, z3.RealVal), str: (\n",
    "                z3.String, z3.StringVal)}"
   ]
  },
  {
   "cell_type": "code",
   "execution_count": 15,
   "metadata": {
    "execution": {
     "iopub.execute_input": "2022-08-04T16:59:10.604593Z",
     "iopub.status.busy": "2022-08-04T16:59:10.604248Z",
     "iopub.status.idle": "2022-08-04T16:59:10.605391Z",
     "shell.execute_reply": "2022-08-04T16:59:10.605625Z"
    },
    "slideshow": {
     "slide_type": "fragment"
    }
   },
   "outputs": [],
   "source": [
    "def get_symbolicparams(fn):\n",
    "    params, ret = get_annotations(fn)\n",
    "    return [SYM_VARS[typ][0](name)\n",
    "            for name, typ in params], SYM_VARS[ret][0]('__return__')"
   ]
  },
  {
   "cell_type": "code",
   "execution_count": 16,
   "metadata": {
    "execution": {
     "iopub.execute_input": "2022-08-04T16:59:10.607322Z",
     "iopub.status.busy": "2022-08-04T16:59:10.607008Z",
     "iopub.status.idle": "2022-08-04T16:59:10.611250Z",
     "shell.execute_reply": "2022-08-04T16:59:10.611489Z"
    },
    "slideshow": {
     "slide_type": "fragment"
    }
   },
   "outputs": [
    {
     "data": {
      "text/plain": [
       "(a, b, c, __return__)"
      ]
     },
     "execution_count": 16,
     "metadata": {},
     "output_type": "execute_result"
    }
   ],
   "source": [
    "(a, b, c), r = get_symbolicparams(check_triangle)\n",
    "a, b, c, r"
   ]
  },
  {
   "cell_type": "markdown",
   "metadata": {
    "slideshow": {
     "slide_type": "fragment"
    }
   },
   "source": [
    "We can now ask *z3* to solve the set of equations for us as follows."
   ]
  },
  {
   "cell_type": "code",
   "execution_count": 17,
   "metadata": {
    "execution": {
     "iopub.execute_input": "2022-08-04T16:59:10.613787Z",
     "iopub.status.busy": "2022-08-04T16:59:10.613522Z",
     "iopub.status.idle": "2022-08-04T16:59:10.622433Z",
     "shell.execute_reply": "2022-08-04T16:59:10.622676Z"
    },
    "slideshow": {
     "slide_type": "subslide"
    }
   },
   "outputs": [
    {
     "name": "stdout",
     "output_type": "stream",
     "text": [
      "[a = 0, b = 0, c = 0]\n"
     ]
    }
   ],
   "source": [
    "z3.solve(a == b, a == c, b == c)"
   ]
  },
  {
   "cell_type": "markdown",
   "metadata": {
    "slideshow": {
     "slide_type": "fragment"
    }
   },
   "source": [
    "Here we find the first problem in our program. Our program seems to not check whether the sides are greater than zero. (Real-world triangles all have sides with a positive length.) Assume for now that we do not have that restriction. Does our program correctly follow the path described?\n",
    "\n",
    "We can use the `ArcCoverage` from the [chapter on concolic fuzzing](ConcolicFuzzer.ipynb) as a tracer to visualize that information as below."
   ]
  },
  {
   "cell_type": "code",
   "execution_count": 18,
   "metadata": {
    "execution": {
     "iopub.execute_input": "2022-08-04T16:59:10.624717Z",
     "iopub.status.busy": "2022-08-04T16:59:10.624361Z",
     "iopub.status.idle": "2022-08-04T16:59:12.124365Z",
     "shell.execute_reply": "2022-08-04T16:59:12.124564Z"
    },
    "slideshow": {
     "slide_type": "skip"
    }
   },
   "outputs": [],
   "source": [
    "from ConcolicFuzzer import ArcCoverage  # minor dependency"
   ]
  },
  {
   "cell_type": "markdown",
   "metadata": {
    "slideshow": {
     "slide_type": "fragment"
    }
   },
   "source": [
    "First, we recover the trace."
   ]
  },
  {
   "cell_type": "code",
   "execution_count": 19,
   "metadata": {
    "execution": {
     "iopub.execute_input": "2022-08-04T16:59:12.135759Z",
     "iopub.status.busy": "2022-08-04T16:59:12.135373Z",
     "iopub.status.idle": "2022-08-04T16:59:12.136878Z",
     "shell.execute_reply": "2022-08-04T16:59:12.137161Z"
    },
    "slideshow": {
     "slide_type": "subslide"
    }
   },
   "outputs": [
    {
     "data": {
      "text/plain": [
       "([('check_triangle', 1),\n",
       "  ('check_triangle', 2),\n",
       "  ('check_triangle', 3),\n",
       "  ('check_triangle', 4),\n",
       "  ('check_triangle', 5),\n",
       "  ('__exit__', 102),\n",
       "  ('__exit__', 105)],\n",
       " [(1, 2), (2, 3), (3, 4), (4, 5), (5, 102), (102, 105)])"
      ]
     },
     "execution_count": 19,
     "metadata": {},
     "output_type": "execute_result"
    }
   ],
   "source": [
    "with ArcCoverage() as cov:\n",
    "    assert check_triangle(0, 0, 0) == 'Equilateral'\n",
    "cov._trace, cov.arcs()"
   ]
  },
  {
   "cell_type": "markdown",
   "metadata": {
    "slideshow": {
     "slide_type": "fragment"
    }
   },
   "source": [
    "We can now determine the path taken."
   ]
  },
  {
   "cell_type": "markdown",
   "metadata": {
    "slideshow": {
     "slide_type": "subslide"
    }
   },
   "source": [
    "### The CFG with Path Taken"
   ]
  },
  {
   "cell_type": "code",
   "execution_count": 20,
   "metadata": {
    "execution": {
     "iopub.execute_input": "2022-08-04T16:59:12.145114Z",
     "iopub.status.busy": "2022-08-04T16:59:12.144622Z",
     "iopub.status.idle": "2022-08-04T16:59:12.427509Z",
     "shell.execute_reply": "2022-08-04T16:59:12.427814Z"
    },
    "slideshow": {
     "slide_type": "fragment"
    }
   },
   "outputs": [
    {
     "data": {
      "image/svg+xml": [
       "<?xml version=\"1.0\" encoding=\"UTF-8\" standalone=\"no\"?>\n",
       "<!DOCTYPE svg PUBLIC \"-//W3C//DTD SVG 1.1//EN\"\n",
       " \"http://www.w3.org/Graphics/SVG/1.1/DTD/svg11.dtd\">\n",
       "<!-- Generated by graphviz version 5.0.0 (20220707.1540)\n",
       " -->\n",
       "<!-- Pages: 1 -->\n",
       "<svg width=\"688pt\" height=\"420pt\"\n",
       " viewBox=\"0.00 0.00 688.00 420.00\" xmlns=\"http://www.w3.org/2000/svg\" xmlns:xlink=\"http://www.w3.org/1999/xlink\">\n",
       "<g id=\"graph0\" class=\"graph\" transform=\"scale(1 1) rotate(0) translate(4 416)\">\n",
       "<polygon fill=\"white\" stroke=\"transparent\" points=\"-4,4 -4,-416 684,-416 684,4 -4,4\"/>\n",
       "<!-- 1 -->\n",
       "<g id=\"node1\" class=\"node\">\n",
       "<title>1</title>\n",
       "<ellipse fill=\"none\" stroke=\"black\" cx=\"299\" cy=\"-390\" rx=\"122.37\" ry=\"18\"/>\n",
       "<ellipse fill=\"none\" stroke=\"black\" cx=\"299\" cy=\"-390\" rx=\"126.38\" ry=\"22\"/>\n",
       "<text text-anchor=\"middle\" x=\"299\" y=\"-386.3\" font-family=\"Times,serif\" font-size=\"14.00\">1: enter: check_triangle(a, b, c)</text>\n",
       "</g>\n",
       "<!-- 3 -->\n",
       "<g id=\"node9\" class=\"node\">\n",
       "<title>3</title>\n",
       "<polygon fill=\"none\" stroke=\"black\" points=\"299,-332 222.92,-314 299,-296 375.08,-314 299,-332\"/>\n",
       "<text text-anchor=\"middle\" x=\"299\" y=\"-310.3\" font-family=\"Times,serif\" font-size=\"14.00\">2: if: a == b</text>\n",
       "</g>\n",
       "<!-- 1&#45;&gt;3 -->\n",
       "<g id=\"edge7\" class=\"edge\">\n",
       "<title>1&#45;&gt;3</title>\n",
       "<path fill=\"none\" stroke=\"green\" d=\"M299,-367.99C299,-360.06 299,-350.91 299,-342.48\"/>\n",
       "<polygon fill=\"green\" stroke=\"green\" points=\"302.5,-342.31 299,-332.31 295.5,-342.31 302.5,-342.31\"/>\n",
       "</g>\n",
       "<!-- 2 -->\n",
       "<g id=\"node2\" class=\"node\">\n",
       "<title>2</title>\n",
       "<ellipse fill=\"none\" stroke=\"black\" cx=\"342\" cy=\"-22\" rx=\"117.77\" ry=\"18\"/>\n",
       "<ellipse fill=\"none\" stroke=\"black\" cx=\"342\" cy=\"-22\" rx=\"121.78\" ry=\"22\"/>\n",
       "<text text-anchor=\"middle\" x=\"342\" y=\"-18.3\" font-family=\"Times,serif\" font-size=\"14.00\">1: exit: check_triangle(a, b, c)</text>\n",
       "</g>\n",
       "<!-- 6 -->\n",
       "<g id=\"node3\" class=\"node\">\n",
       "<title>6</title>\n",
       "<polygon fill=\"none\" stroke=\"black\" points=\"219.5,-116 88.5,-116 88.5,-80 219.5,-80 219.5,-116\"/>\n",
       "<text text-anchor=\"middle\" x=\"154\" y=\"-94.3\" font-family=\"Times,serif\" font-size=\"14.00\">5: return &#39;Equilateral&#39;</text>\n",
       "</g>\n",
       "<!-- 6&#45;&gt;2 -->\n",
       "<g id=\"edge1\" class=\"edge\">\n",
       "<title>6&#45;&gt;2</title>\n",
       "<path fill=\"none\" stroke=\"green\" d=\"M197.6,-79.84C223.12,-69.79 255.68,-56.98 283.41,-46.06\"/>\n",
       "<polygon fill=\"green\" stroke=\"green\" points=\"284.98,-49.21 293,-42.29 282.42,-42.69 284.98,-49.21\"/>\n",
       "</g>\n",
       "<!-- 7 -->\n",
       "<g id=\"node4\" class=\"node\">\n",
       "<title>7</title>\n",
       "<polygon fill=\"none\" stroke=\"black\" points=\"358,-116 238,-116 238,-80 358,-80 358,-116\"/>\n",
       "<text text-anchor=\"middle\" x=\"298\" y=\"-94.3\" font-family=\"Times,serif\" font-size=\"14.00\">7: return &#39;Isosceles&#39;</text>\n",
       "</g>\n",
       "<!-- 7&#45;&gt;2 -->\n",
       "<g id=\"edge2\" class=\"edge\">\n",
       "<title>7&#45;&gt;2</title>\n",
       "<path fill=\"none\" stroke=\"red\" d=\"M308.21,-79.84C312.97,-71.83 318.77,-62.07 324.22,-52.91\"/>\n",
       "<polygon fill=\"red\" stroke=\"red\" points=\"327.39,-54.42 329.49,-44.03 321.38,-50.84 327.39,-54.42\"/>\n",
       "</g>\n",
       "<!-- 8 -->\n",
       "<g id=\"node5\" class=\"node\">\n",
       "<title>8</title>\n",
       "<polygon fill=\"none\" stroke=\"black\" points=\"120,-188 0,-188 0,-152 120,-152 120,-188\"/>\n",
       "<text text-anchor=\"middle\" x=\"60\" y=\"-166.3\" font-family=\"Times,serif\" font-size=\"14.00\">9: return &#39;Isosceles&#39;</text>\n",
       "</g>\n",
       "<!-- 8&#45;&gt;2 -->\n",
       "<g id=\"edge3\" class=\"edge\">\n",
       "<title>8&#45;&gt;2</title>\n",
       "<path fill=\"none\" stroke=\"red\" d=\"M58.56,-151.7C57.91,-131.64 60.15,-98.91 79,-80 100.4,-58.53 167.69,-44.18 228.85,-35.25\"/>\n",
       "<polygon fill=\"red\" stroke=\"red\" points=\"229.58,-38.68 238.99,-33.81 228.6,-31.75 229.58,-38.68\"/>\n",
       "</g>\n",
       "<!-- 11 -->\n",
       "<g id=\"node6\" class=\"node\">\n",
       "<title>11</title>\n",
       "<polygon fill=\"none\" stroke=\"black\" points=\"541.5,-116 414.5,-116 414.5,-80 541.5,-80 541.5,-116\"/>\n",
       "<text text-anchor=\"middle\" x=\"478\" y=\"-94.3\" font-family=\"Times,serif\" font-size=\"14.00\">13: return &#39;Isosceles&#39;</text>\n",
       "</g>\n",
       "<!-- 11&#45;&gt;2 -->\n",
       "<g id=\"edge4\" class=\"edge\">\n",
       "<title>11&#45;&gt;2</title>\n",
       "<path fill=\"none\" stroke=\"red\" d=\"M446.46,-79.84C429.12,-70.4 407.28,-58.52 388.07,-48.07\"/>\n",
       "<polygon fill=\"red\" stroke=\"red\" points=\"389.62,-44.93 379.16,-43.22 386.27,-51.07 389.62,-44.93\"/>\n",
       "</g>\n",
       "<!-- 12 -->\n",
       "<g id=\"node7\" class=\"node\">\n",
       "<title>12</title>\n",
       "<polygon fill=\"none\" stroke=\"black\" points=\"680,-116 560,-116 560,-80 680,-80 680,-116\"/>\n",
       "<text text-anchor=\"middle\" x=\"620\" y=\"-94.3\" font-family=\"Times,serif\" font-size=\"14.00\">15: return &#39;Scalene&#39;</text>\n",
       "</g>\n",
       "<!-- 12&#45;&gt;2 -->\n",
       "<g id=\"edge5\" class=\"edge\">\n",
       "<title>12&#45;&gt;2</title>\n",
       "<path fill=\"none\" stroke=\"red\" d=\"M559.68,-80.94C518.11,-69.88 462.54,-55.09 417.95,-43.22\"/>\n",
       "<polygon fill=\"red\" stroke=\"red\" points=\"418.6,-39.77 408.04,-40.58 416.8,-46.53 418.6,-39.77\"/>\n",
       "</g>\n",
       "<!-- 13 -->\n",
       "<g id=\"node8\" class=\"node\">\n",
       "<title>13</title>\n",
       "<polygon fill=\"none\" stroke=\"black\" points=\"449.5,-188 322.5,-188 322.5,-152 449.5,-152 449.5,-188\"/>\n",
       "<text text-anchor=\"middle\" x=\"386\" y=\"-166.3\" font-family=\"Times,serif\" font-size=\"14.00\">17: return &#39;Isosceles&#39;</text>\n",
       "</g>\n",
       "<!-- 13&#45;&gt;2 -->\n",
       "<g id=\"edge6\" class=\"edge\">\n",
       "<title>13&#45;&gt;2</title>\n",
       "<path fill=\"none\" stroke=\"red\" d=\"M383.37,-151.67C380.38,-133.53 374.85,-104.36 367,-80 364.13,-71.11 360.35,-61.72 356.6,-53.19\"/>\n",
       "<polygon fill=\"red\" stroke=\"red\" points=\"359.74,-51.65 352.43,-43.99 353.37,-54.54 359.74,-51.65\"/>\n",
       "</g>\n",
       "<!-- 4 -->\n",
       "<g id=\"node10\" class=\"node\">\n",
       "<title>4</title>\n",
       "<polygon fill=\"none\" stroke=\"black\" points=\"213,-260 136.92,-242 213,-224 289.08,-242 213,-260\"/>\n",
       "<text text-anchor=\"middle\" x=\"213\" y=\"-238.3\" font-family=\"Times,serif\" font-size=\"14.00\">3: if: a == c</text>\n",
       "</g>\n",
       "<!-- 3&#45;&gt;4 -->\n",
       "<g id=\"edge8\" class=\"edge\">\n",
       "<title>3&#45;&gt;4</title>\n",
       "<path fill=\"none\" stroke=\"green\" d=\"M282.42,-299.5C269.61,-289.08 251.69,-274.49 237.26,-262.75\"/>\n",
       "<polygon fill=\"green\" stroke=\"green\" points=\"239.2,-259.82 229.24,-256.22 234.79,-265.25 239.2,-259.82\"/>\n",
       "</g>\n",
       "<!-- 9 -->\n",
       "<g id=\"node12\" class=\"node\">\n",
       "<title>9</title>\n",
       "<polygon fill=\"none\" stroke=\"black\" points=\"386,-260 306.9,-242 386,-224 465.1,-242 386,-260\"/>\n",
       "<text text-anchor=\"middle\" x=\"386\" y=\"-238.3\" font-family=\"Times,serif\" font-size=\"14.00\">11: if: b != c</text>\n",
       "</g>\n",
       "<!-- 3&#45;&gt;9 -->\n",
       "<g id=\"edge13\" class=\"edge\">\n",
       "<title>3&#45;&gt;9</title>\n",
       "<path fill=\"none\" stroke=\"red\" d=\"M315.36,-299.83C328.28,-289.44 346.52,-274.76 361.23,-262.93\"/>\n",
       "<polygon fill=\"red\" stroke=\"red\" points=\"363.82,-265.34 369.41,-256.35 359.43,-259.89 363.82,-265.34\"/>\n",
       "</g>\n",
       "<!-- 4&#45;&gt;8 -->\n",
       "<g id=\"edge12\" class=\"edge\">\n",
       "<title>4&#45;&gt;8</title>\n",
       "<path fill=\"none\" stroke=\"red\" d=\"M188.42,-229.75C166.43,-219.69 133.61,-204.68 106.65,-192.34\"/>\n",
       "<polygon fill=\"red\" stroke=\"red\" points=\"107.93,-189.08 97.38,-188.1 105.02,-195.45 107.93,-189.08\"/>\n",
       "</g>\n",
       "<!-- 5 -->\n",
       "<g id=\"node11\" class=\"node\">\n",
       "<title>5</title>\n",
       "<polygon fill=\"none\" stroke=\"black\" points=\"214,-188 137.92,-170 214,-152 290.08,-170 214,-188\"/>\n",
       "<text text-anchor=\"middle\" x=\"214\" y=\"-166.3\" font-family=\"Times,serif\" font-size=\"14.00\">4: if: b == c</text>\n",
       "</g>\n",
       "<!-- 4&#45;&gt;5 -->\n",
       "<g id=\"edge9\" class=\"edge\">\n",
       "<title>4&#45;&gt;5</title>\n",
       "<path fill=\"none\" stroke=\"green\" d=\"M213.24,-224.05C213.35,-216.35 213.49,-207.03 213.61,-198.36\"/>\n",
       "<polygon fill=\"green\" stroke=\"green\" points=\"217.11,-198.32 213.75,-188.28 210.11,-198.22 217.11,-198.32\"/>\n",
       "</g>\n",
       "<!-- 5&#45;&gt;6 -->\n",
       "<g id=\"edge10\" class=\"edge\">\n",
       "<title>5&#45;&gt;6</title>\n",
       "<path fill=\"none\" stroke=\"green\" d=\"M201.86,-154.83C194.22,-145.92 184.15,-134.17 175.22,-123.75\"/>\n",
       "<polygon fill=\"green\" stroke=\"green\" points=\"177.83,-121.43 168.67,-116.11 172.52,-125.98 177.83,-121.43\"/>\n",
       "</g>\n",
       "<!-- 5&#45;&gt;7 -->\n",
       "<g id=\"edge11\" class=\"edge\">\n",
       "<title>5&#45;&gt;7</title>\n",
       "<path fill=\"none\" stroke=\"red\" d=\"M230.2,-155.5C241.33,-146.23 256.41,-133.66 269.53,-122.73\"/>\n",
       "<polygon fill=\"red\" stroke=\"red\" points=\"271.94,-125.27 277.38,-116.18 267.46,-119.89 271.94,-125.27\"/>\n",
       "</g>\n",
       "<!-- 9&#45;&gt;13 -->\n",
       "<g id=\"edge17\" class=\"edge\">\n",
       "<title>9&#45;&gt;13</title>\n",
       "<path fill=\"none\" stroke=\"red\" d=\"M386,-223.7C386,-215.98 386,-206.71 386,-198.11\"/>\n",
       "<polygon fill=\"red\" stroke=\"red\" points=\"389.5,-198.1 386,-188.1 382.5,-198.1 389.5,-198.1\"/>\n",
       "</g>\n",
       "<!-- 10 -->\n",
       "<g id=\"node13\" class=\"node\">\n",
       "<title>10</title>\n",
       "<polygon fill=\"none\" stroke=\"black\" points=\"549,-188 467.39,-170 549,-152 630.61,-170 549,-188\"/>\n",
       "<text text-anchor=\"middle\" x=\"549\" y=\"-166.3\" font-family=\"Times,serif\" font-size=\"14.00\">12: if: a == c</text>\n",
       "</g>\n",
       "<!-- 9&#45;&gt;10 -->\n",
       "<g id=\"edge14\" class=\"edge\">\n",
       "<title>9&#45;&gt;10</title>\n",
       "<path fill=\"none\" stroke=\"red\" d=\"M412.19,-229.75C439.55,-218 482.67,-199.48 513.18,-186.38\"/>\n",
       "<polygon fill=\"red\" stroke=\"red\" points=\"514.8,-189.5 522.61,-182.33 512.04,-183.06 514.8,-189.5\"/>\n",
       "</g>\n",
       "<!-- 10&#45;&gt;11 -->\n",
       "<g id=\"edge15\" class=\"edge\">\n",
       "<title>10&#45;&gt;11</title>\n",
       "<path fill=\"none\" stroke=\"red\" d=\"M534.63,-154.83C525.41,-145.75 513.21,-133.71 502.49,-123.14\"/>\n",
       "<polygon fill=\"red\" stroke=\"red\" points=\"504.94,-120.64 495.36,-116.11 500.02,-125.63 504.94,-120.64\"/>\n",
       "</g>\n",
       "<!-- 10&#45;&gt;12 -->\n",
       "<g id=\"edge16\" class=\"edge\">\n",
       "<title>10&#45;&gt;12</title>\n",
       "<path fill=\"none\" stroke=\"red\" d=\"M563.37,-154.83C572.59,-145.75 584.79,-133.71 595.51,-123.14\"/>\n",
       "<polygon fill=\"red\" stroke=\"red\" points=\"597.98,-125.63 602.64,-116.11 593.06,-120.64 597.98,-125.63\"/>\n",
       "</g>\n",
       "</g>\n",
       "</svg>\n"
      ],
      "text/plain": [
       "<graphviz.graphs.Digraph at 0x10fa3a740>"
      ]
     },
     "execution_count": 20,
     "metadata": {},
     "output_type": "execute_result"
    }
   ],
   "source": [
    "show_cfg(check_triangle, arcs=cov.arcs())"
   ]
  },
  {
   "cell_type": "markdown",
   "metadata": {
    "slideshow": {
     "slide_type": "fragment"
    }
   },
   "source": [
    "As you can see, the path taken is `<path 1>`."
   ]
  },
  {
   "cell_type": "markdown",
   "metadata": {
    "slideshow": {
     "slide_type": "fragment"
    }
   },
   "source": [
    "Similarly, for solving `<path 2>` we need to simply invert the condition at <line 2>:"
   ]
  },
  {
   "cell_type": "code",
   "execution_count": 21,
   "metadata": {
    "execution": {
     "iopub.execute_input": "2022-08-04T16:59:12.431228Z",
     "iopub.status.busy": "2022-08-04T16:59:12.430924Z",
     "iopub.status.idle": "2022-08-04T16:59:12.439426Z",
     "shell.execute_reply": "2022-08-04T16:59:12.439604Z"
    },
    "slideshow": {
     "slide_type": "fragment"
    }
   },
   "outputs": [
    {
     "name": "stdout",
     "output_type": "stream",
     "text": [
      "no solution\n"
     ]
    }
   ],
   "source": [
    "z3.solve(a == b, a == c, z3.Not(b == c))"
   ]
  },
  {
   "cell_type": "markdown",
   "metadata": {
    "slideshow": {
     "slide_type": "fragment"
    }
   },
   "source": [
    "The symbolic execution suggests that there is no solution. A moment's reflection will convince us that it is indeed true. Let us proceed with the other paths. The `<path 3>` can be obtained by inverting the condition at `<line 4>`."
   ]
  },
  {
   "cell_type": "code",
   "execution_count": 22,
   "metadata": {
    "execution": {
     "iopub.execute_input": "2022-08-04T16:59:12.441551Z",
     "iopub.status.busy": "2022-08-04T16:59:12.441263Z",
     "iopub.status.idle": "2022-08-04T16:59:12.450302Z",
     "shell.execute_reply": "2022-08-04T16:59:12.450486Z"
    },
    "slideshow": {
     "slide_type": "subslide"
    }
   },
   "outputs": [
    {
     "name": "stdout",
     "output_type": "stream",
     "text": [
      "[b = 1, c = 0, a = 1]\n"
     ]
    }
   ],
   "source": [
    "z3.solve(a == b, z3.Not(a == c))"
   ]
  },
  {
   "cell_type": "code",
   "execution_count": 23,
   "metadata": {
    "execution": {
     "iopub.execute_input": "2022-08-04T16:59:12.463937Z",
     "iopub.status.busy": "2022-08-04T16:59:12.463499Z",
     "iopub.status.idle": "2022-08-04T16:59:12.465323Z",
     "shell.execute_reply": "2022-08-04T16:59:12.465572Z"
    },
    "slideshow": {
     "slide_type": "fragment"
    }
   },
   "outputs": [
    {
     "data": {
      "text/plain": [
       "[1, 2, 3, 9]"
      ]
     },
     "execution_count": 23,
     "metadata": {},
     "output_type": "execute_result"
    }
   ],
   "source": [
    "with ArcCoverage() as cov:\n",
    "    assert check_triangle(1, 1, 0) == 'Isosceles'\n",
    "[i for fn, i in cov._trace if fn == 'check_triangle']"
   ]
  },
  {
   "cell_type": "code",
   "execution_count": 24,
   "metadata": {
    "execution": {
     "iopub.execute_input": "2022-08-04T16:59:12.467754Z",
     "iopub.status.busy": "2022-08-04T16:59:12.467425Z",
     "iopub.status.idle": "2022-08-04T16:59:12.468869Z",
     "shell.execute_reply": "2022-08-04T16:59:12.469056Z"
    },
    "slideshow": {
     "slide_type": "fragment"
    }
   },
   "outputs": [
    {
     "data": {
      "text/plain": [
       "([1, 2, 3, 9], 'Isosceles')"
      ]
     },
     "execution_count": 24,
     "metadata": {},
     "output_type": "execute_result"
    }
   ],
   "source": [
    "paths['<path 3>']"
   ]
  },
  {
   "cell_type": "markdown",
   "metadata": {
    "slideshow": {
     "slide_type": "fragment"
    }
   },
   "source": [
    "How about path <4>?"
   ]
  },
  {
   "cell_type": "code",
   "execution_count": 25,
   "metadata": {
    "execution": {
     "iopub.execute_input": "2022-08-04T16:59:12.471457Z",
     "iopub.status.busy": "2022-08-04T16:59:12.471173Z",
     "iopub.status.idle": "2022-08-04T16:59:12.480660Z",
     "shell.execute_reply": "2022-08-04T16:59:12.480890Z"
    },
    "slideshow": {
     "slide_type": "fragment"
    }
   },
   "outputs": [
    {
     "name": "stdout",
     "output_type": "stream",
     "text": [
      "[b = 0, c = 1, a = 1]\n"
     ]
    }
   ],
   "source": [
    "z3.solve(z3.Not(a == b), b != c, a == c)"
   ]
  },
  {
   "cell_type": "markdown",
   "metadata": {
    "slideshow": {
     "slide_type": "subslide"
    }
   },
   "source": [
    "As we mentioned earlier, our program does not account for sides with zero or negative length. We can modify our program to check for zero and negative input. However, do we always have to make sure that every function has to account for all possible inputs? It is possible that the `check_triangle` is not directly exposed to the user, and it is called from another function that already guarantees that the inputs would be positive. In the [chapter on dynamic invariants](DynamicInvariants.ipynb), we will show how to discover such preconditions and post conditions.\n",
    "\n",
    "We can easily add such a precondition here."
   ]
  },
  {
   "cell_type": "code",
   "execution_count": 26,
   "metadata": {
    "execution": {
     "iopub.execute_input": "2022-08-04T16:59:12.483146Z",
     "iopub.status.busy": "2022-08-04T16:59:12.482816Z",
     "iopub.status.idle": "2022-08-04T16:59:12.483995Z",
     "shell.execute_reply": "2022-08-04T16:59:12.484180Z"
    },
    "slideshow": {
     "slide_type": "fragment"
    }
   },
   "outputs": [],
   "source": [
    "pre_condition = z3.And(a > 0, b > 0, c > 0)"
   ]
  },
  {
   "cell_type": "code",
   "execution_count": 27,
   "metadata": {
    "execution": {
     "iopub.execute_input": "2022-08-04T16:59:12.486280Z",
     "iopub.status.busy": "2022-08-04T16:59:12.486006Z",
     "iopub.status.idle": "2022-08-04T16:59:12.496625Z",
     "shell.execute_reply": "2022-08-04T16:59:12.497023Z"
    },
    "slideshow": {
     "slide_type": "fragment"
    }
   },
   "outputs": [
    {
     "name": "stdout",
     "output_type": "stream",
     "text": [
      "[c = 2, b = 1, a = 2]\n"
     ]
    }
   ],
   "source": [
    "z3.solve(pre_condition, z3.Not(a == b), b != c, a == c)"
   ]
  },
  {
   "cell_type": "code",
   "execution_count": 28,
   "metadata": {
    "execution": {
     "iopub.execute_input": "2022-08-04T16:59:12.508516Z",
     "iopub.status.busy": "2022-08-04T16:59:12.508146Z",
     "iopub.status.idle": "2022-08-04T16:59:12.509854Z",
     "shell.execute_reply": "2022-08-04T16:59:12.510106Z"
    },
    "slideshow": {
     "slide_type": "subslide"
    }
   },
   "outputs": [
    {
     "data": {
      "text/plain": [
       "[1, 2, 11, 12, 13]"
      ]
     },
     "execution_count": 28,
     "metadata": {},
     "output_type": "execute_result"
    }
   ],
   "source": [
    "with ArcCoverage() as cov:\n",
    "    assert check_triangle(1, 2, 1) == 'Isosceles'\n",
    "[i for fn, i in cov._trace if fn == 'check_triangle']"
   ]
  },
  {
   "cell_type": "code",
   "execution_count": 29,
   "metadata": {
    "execution": {
     "iopub.execute_input": "2022-08-04T16:59:12.512742Z",
     "iopub.status.busy": "2022-08-04T16:59:12.512191Z",
     "iopub.status.idle": "2022-08-04T16:59:12.513912Z",
     "shell.execute_reply": "2022-08-04T16:59:12.514182Z"
    },
    "slideshow": {
     "slide_type": "fragment"
    }
   },
   "outputs": [
    {
     "data": {
      "text/plain": [
       "([1, 2, 11, 12, 13], 'Isosceles')"
      ]
     },
     "execution_count": 29,
     "metadata": {},
     "output_type": "execute_result"
    }
   ],
   "source": [
    "paths['<path 4>']"
   ]
  },
  {
   "cell_type": "markdown",
   "metadata": {
    "slideshow": {
     "slide_type": "fragment"
    }
   },
   "source": [
    "Continuing to path <5>:"
   ]
  },
  {
   "cell_type": "code",
   "execution_count": 30,
   "metadata": {
    "execution": {
     "iopub.execute_input": "2022-08-04T16:59:12.516374Z",
     "iopub.status.busy": "2022-08-04T16:59:12.516045Z",
     "iopub.status.idle": "2022-08-04T16:59:12.525654Z",
     "shell.execute_reply": "2022-08-04T16:59:12.525940Z"
    },
    "slideshow": {
     "slide_type": "fragment"
    }
   },
   "outputs": [
    {
     "name": "stdout",
     "output_type": "stream",
     "text": [
      "[a = 1, c = 3, b = 2]\n"
     ]
    }
   ],
   "source": [
    "z3.solve(pre_condition, z3.Not(a == b), b != c, z3.Not(a == c))"
   ]
  },
  {
   "cell_type": "markdown",
   "metadata": {
    "slideshow": {
     "slide_type": "fragment"
    }
   },
   "source": [
    "And indeed it is a *Scalene* triangle."
   ]
  },
  {
   "cell_type": "code",
   "execution_count": 31,
   "metadata": {
    "execution": {
     "iopub.execute_input": "2022-08-04T16:59:12.530221Z",
     "iopub.status.busy": "2022-08-04T16:59:12.529907Z",
     "iopub.status.idle": "2022-08-04T16:59:12.537846Z",
     "shell.execute_reply": "2022-08-04T16:59:12.538040Z"
    },
    "slideshow": {
     "slide_type": "fragment"
    }
   },
   "outputs": [],
   "source": [
    "with ArcCoverage() as cov:\n",
    "    assert check_triangle(3, 1, 2) == 'Scalene'"
   ]
  },
  {
   "cell_type": "code",
   "execution_count": 32,
   "metadata": {
    "execution": {
     "iopub.execute_input": "2022-08-04T16:59:12.540107Z",
     "iopub.status.busy": "2022-08-04T16:59:12.539735Z",
     "iopub.status.idle": "2022-08-04T16:59:12.541378Z",
     "shell.execute_reply": "2022-08-04T16:59:12.541569Z"
    },
    "slideshow": {
     "slide_type": "fragment"
    }
   },
   "outputs": [
    {
     "data": {
      "text/plain": [
       "([1, 2, 11, 12, 15], 'Scalene')"
      ]
     },
     "execution_count": 32,
     "metadata": {},
     "output_type": "execute_result"
    }
   ],
   "source": [
    "paths['<path 5>']"
   ]
  },
  {
   "cell_type": "markdown",
   "metadata": {
    "slideshow": {
     "slide_type": "subslide"
    }
   },
   "source": [
    "Finally, for `<path 6>` the procedure is similar."
   ]
  },
  {
   "cell_type": "code",
   "execution_count": 33,
   "metadata": {
    "execution": {
     "iopub.execute_input": "2022-08-04T16:59:12.543857Z",
     "iopub.status.busy": "2022-08-04T16:59:12.543513Z",
     "iopub.status.idle": "2022-08-04T16:59:12.552951Z",
     "shell.execute_reply": "2022-08-04T16:59:12.553189Z"
    },
    "slideshow": {
     "slide_type": "fragment"
    }
   },
   "outputs": [
    {
     "name": "stdout",
     "output_type": "stream",
     "text": [
      "[c = 2, a = 1, b = 2]\n"
     ]
    }
   ],
   "source": [
    "z3.solve(pre_condition, z3.Not(a == b), z3.Not(b != c))"
   ]
  },
  {
   "cell_type": "code",
   "execution_count": 34,
   "metadata": {
    "execution": {
     "iopub.execute_input": "2022-08-04T16:59:12.556238Z",
     "iopub.status.busy": "2022-08-04T16:59:12.555149Z",
     "iopub.status.idle": "2022-08-04T16:59:12.565178Z",
     "shell.execute_reply": "2022-08-04T16:59:12.565387Z"
    },
    "slideshow": {
     "slide_type": "fragment"
    }
   },
   "outputs": [
    {
     "data": {
      "text/plain": [
       "[1, 2, 11, 17]"
      ]
     },
     "execution_count": 34,
     "metadata": {},
     "output_type": "execute_result"
    }
   ],
   "source": [
    "with ArcCoverage() as cov:\n",
    "    assert check_triangle(2, 1, 1) == 'Isosceles'\n",
    "[i for fn, i in cov._trace if fn == 'check_triangle']"
   ]
  },
  {
   "cell_type": "code",
   "execution_count": 35,
   "metadata": {
    "execution": {
     "iopub.execute_input": "2022-08-04T16:59:12.567813Z",
     "iopub.status.busy": "2022-08-04T16:59:12.567468Z",
     "iopub.status.idle": "2022-08-04T16:59:12.569062Z",
     "shell.execute_reply": "2022-08-04T16:59:12.569354Z"
    },
    "slideshow": {
     "slide_type": "fragment"
    }
   },
   "outputs": [
    {
     "data": {
      "text/plain": [
       "([1, 2, 11, 17], 'Isosceles')"
      ]
     },
     "execution_count": 35,
     "metadata": {},
     "output_type": "execute_result"
    }
   ],
   "source": [
    "paths['<path 6>']"
   ]
  },
  {
   "cell_type": "markdown",
   "metadata": {
    "slideshow": {
     "slide_type": "fragment"
    }
   },
   "source": [
    "What if we wanted another solution? We can simply ask the solver to solve again, and not give us the same values."
   ]
  },
  {
   "cell_type": "code",
   "execution_count": 36,
   "metadata": {
    "execution": {
     "iopub.execute_input": "2022-08-04T16:59:12.571586Z",
     "iopub.status.busy": "2022-08-04T16:59:12.571306Z",
     "iopub.status.idle": "2022-08-04T16:59:12.572599Z",
     "shell.execute_reply": "2022-08-04T16:59:12.572841Z"
    },
    "slideshow": {
     "slide_type": "fragment"
    }
   },
   "outputs": [],
   "source": [
    "seen = [z3.And(a == 2, b == 1, c == 1)]"
   ]
  },
  {
   "cell_type": "code",
   "execution_count": 37,
   "metadata": {
    "execution": {
     "iopub.execute_input": "2022-08-04T16:59:12.575022Z",
     "iopub.status.busy": "2022-08-04T16:59:12.574536Z",
     "iopub.status.idle": "2022-08-04T16:59:12.584823Z",
     "shell.execute_reply": "2022-08-04T16:59:12.585146Z"
    },
    "slideshow": {
     "slide_type": "subslide"
    }
   },
   "outputs": [
    {
     "name": "stdout",
     "output_type": "stream",
     "text": [
      "[c = 2, a = 1, b = 2]\n"
     ]
    }
   ],
   "source": [
    "z3.solve(pre_condition, z3.Not(z3.Or(seen)), z3.Not(a == b), z3.Not(b != c))"
   ]
  },
  {
   "cell_type": "code",
   "execution_count": 38,
   "metadata": {
    "execution": {
     "iopub.execute_input": "2022-08-04T16:59:12.587313Z",
     "iopub.status.busy": "2022-08-04T16:59:12.586936Z",
     "iopub.status.idle": "2022-08-04T16:59:12.588501Z",
     "shell.execute_reply": "2022-08-04T16:59:12.588684Z"
    },
    "slideshow": {
     "slide_type": "fragment"
    }
   },
   "outputs": [],
   "source": [
    "seen.append(z3.And(a == 1, b == 2, c == 2))"
   ]
  },
  {
   "cell_type": "code",
   "execution_count": 39,
   "metadata": {
    "execution": {
     "iopub.execute_input": "2022-08-04T16:59:12.590641Z",
     "iopub.status.busy": "2022-08-04T16:59:12.590323Z",
     "iopub.status.idle": "2022-08-04T16:59:12.600952Z",
     "shell.execute_reply": "2022-08-04T16:59:12.601244Z"
    },
    "slideshow": {
     "slide_type": "fragment"
    }
   },
   "outputs": [
    {
     "name": "stdout",
     "output_type": "stream",
     "text": [
      "[c = 1, a = 3, b = 1]\n"
     ]
    }
   ],
   "source": [
    "z3.solve(pre_condition, z3.Not(z3.Or(seen)), z3.Not(a == b), z3.Not(b != c))"
   ]
  },
  {
   "cell_type": "markdown",
   "metadata": {
    "slideshow": {
     "slide_type": "fragment"
    }
   },
   "source": [
    "That is, using simple symbolic computation, we were able to easily see that (1) some of the paths are not reachable, and (2) some of the conditions were insufficient -- we needed preconditions. What about the total coverage obtained?"
   ]
  },
  {
   "cell_type": "markdown",
   "metadata": {
    "slideshow": {
     "slide_type": "subslide"
    }
   },
   "source": [
    "### Visualizing the Coverage"
   ]
  },
  {
   "cell_type": "markdown",
   "metadata": {
    "slideshow": {
     "slide_type": "fragment"
    }
   },
   "source": [
    "Visualizing the statement coverage can be accomplished as below."
   ]
  },
  {
   "cell_type": "code",
   "execution_count": 40,
   "metadata": {
    "execution": {
     "iopub.execute_input": "2022-08-04T16:59:12.604771Z",
     "iopub.status.busy": "2022-08-04T16:59:12.604411Z",
     "iopub.status.idle": "2022-08-04T16:59:12.605744Z",
     "shell.execute_reply": "2022-08-04T16:59:12.605957Z"
    },
    "slideshow": {
     "slide_type": "fragment"
    }
   },
   "outputs": [],
   "source": [
    "class VisualizedArcCoverage(ArcCoverage):\n",
    "    def show_coverage(self, fn):\n",
    "        src = fn if isinstance(fn, str) else inspect.getsource(fn)\n",
    "        covered = set([lineno for method, lineno in self._trace])\n",
    "        for i, s in enumerate(src.split('\\n')):\n",
    "            print('%s %2d: %s' % ('#' if i + 1 in covered else ' ', i + 1, s))"
   ]
  },
  {
   "cell_type": "markdown",
   "metadata": {
    "slideshow": {
     "slide_type": "fragment"
    }
   },
   "source": [
    "We run all the inputs obtained under the coverage tracer."
   ]
  },
  {
   "cell_type": "code",
   "execution_count": 41,
   "metadata": {
    "execution": {
     "iopub.execute_input": "2022-08-04T16:59:12.613177Z",
     "iopub.status.busy": "2022-08-04T16:59:12.609462Z",
     "iopub.status.idle": "2022-08-04T16:59:12.651847Z",
     "shell.execute_reply": "2022-08-04T16:59:12.652166Z"
    },
    "slideshow": {
     "slide_type": "fragment"
    }
   },
   "outputs": [],
   "source": [
    "with VisualizedArcCoverage() as cov:\n",
    "    assert check_triangle(0, 0, 0) == 'Equilateral'\n",
    "    assert check_triangle(1, 1, 0) == 'Isosceles'\n",
    "    assert check_triangle(1, 2, 1) == 'Isosceles'\n",
    "    assert check_triangle(3, 1, 2) == 'Scalene'\n",
    "    assert check_triangle(2, 1, 1) == 'Isosceles'"
   ]
  },
  {
   "cell_type": "code",
   "execution_count": 42,
   "metadata": {
    "execution": {
     "iopub.execute_input": "2022-08-04T16:59:12.654557Z",
     "iopub.status.busy": "2022-08-04T16:59:12.654139Z",
     "iopub.status.idle": "2022-08-04T16:59:12.656237Z",
     "shell.execute_reply": "2022-08-04T16:59:12.656490Z"
    },
    "slideshow": {
     "slide_type": "subslide"
    }
   },
   "outputs": [
    {
     "name": "stdout",
     "output_type": "stream",
     "text": [
      "#  1: def check_triangle(a: int, b: int, c: int) -> str:\n",
      "#  2:     if a == b:\n",
      "#  3:         if a == c:\n",
      "#  4:             if b == c:\n",
      "#  5:                 return \"Equilateral\"\n",
      "   6:             else:\n",
      "   7:                 return \"Isosceles\"\n",
      "   8:         else:\n",
      "#  9:             return \"Isosceles\"\n",
      "  10:     else:\n",
      "# 11:         if b != c:\n",
      "# 12:             if a == c:\n",
      "# 13:                 return \"Isosceles\"\n",
      "  14:             else:\n",
      "# 15:                 return \"Scalene\"\n",
      "  16:         else:\n",
      "# 17:             return \"Isosceles\"\n",
      "  18: \n"
     ]
    }
   ],
   "source": [
    "cov.show_coverage(check_triangle)"
   ]
  },
  {
   "cell_type": "markdown",
   "metadata": {
    "slideshow": {
     "slide_type": "subslide"
    }
   },
   "source": [
    "The coverage is as expected. The generated values does seem to cover all code that can be covered.\n",
    "\n",
    "We have seen how to reason about each path through the program. Can we combine them together to produce a single expression that represents the program behavior? This is what we will discuss next."
   ]
  },
  {
   "cell_type": "markdown",
   "metadata": {
    "slideshow": {
     "slide_type": "subslide"
    }
   },
   "source": [
    "### Function Summaries"
   ]
  },
  {
   "cell_type": "markdown",
   "metadata": {
    "slideshow": {
     "slide_type": "fragment"
    }
   },
   "source": [
    "Consider this equation for determining absolute value."
   ]
  },
  {
   "cell_type": "code",
   "execution_count": 43,
   "metadata": {
    "execution": {
     "iopub.execute_input": "2022-08-04T16:59:12.658764Z",
     "iopub.status.busy": "2022-08-04T16:59:12.658476Z",
     "iopub.status.idle": "2022-08-04T16:59:12.659803Z",
     "shell.execute_reply": "2022-08-04T16:59:12.659983Z"
    },
    "slideshow": {
     "slide_type": "fragment"
    }
   },
   "outputs": [],
   "source": [
    "def abs_value(x: float) -> float:\n",
    "    if x < 0:\n",
    "        v: float = -x  # type: ignore\n",
    "    else:\n",
    "        v: float = x  # type: ignore\n",
    "    return v"
   ]
  },
  {
   "cell_type": "code",
   "execution_count": 44,
   "metadata": {
    "execution": {
     "iopub.execute_input": "2022-08-04T16:59:12.662822Z",
     "iopub.status.busy": "2022-08-04T16:59:12.662464Z",
     "iopub.status.idle": "2022-08-04T16:59:12.967092Z",
     "shell.execute_reply": "2022-08-04T16:59:12.967489Z"
    },
    "slideshow": {
     "slide_type": "fragment"
    }
   },
   "outputs": [
    {
     "data": {
      "image/svg+xml": [
       "<?xml version=\"1.0\" encoding=\"UTF-8\" standalone=\"no\"?>\n",
       "<!DOCTYPE svg PUBLIC \"-//W3C//DTD SVG 1.1//EN\"\n",
       " \"http://www.w3.org/Graphics/SVG/1.1/DTD/svg11.dtd\">\n",
       "<!-- Generated by graphviz version 5.0.0 (20220707.1540)\n",
       " -->\n",
       "<!-- Pages: 1 -->\n",
       "<svg width=\"270pt\" height=\"366pt\"\n",
       " viewBox=\"0.00 0.00 270.19 366.00\" xmlns=\"http://www.w3.org/2000/svg\" xmlns:xlink=\"http://www.w3.org/1999/xlink\">\n",
       "<g id=\"graph0\" class=\"graph\" transform=\"scale(1 1) rotate(0) translate(4 362)\">\n",
       "<polygon fill=\"white\" stroke=\"transparent\" points=\"-4,4 -4,-362 266.19,-362 266.19,4 -4,4\"/>\n",
       "<!-- 1 -->\n",
       "<g id=\"node1\" class=\"node\">\n",
       "<title>1</title>\n",
       "<ellipse fill=\"none\" stroke=\"black\" cx=\"132.39\" cy=\"-336\" rx=\"87.97\" ry=\"18\"/>\n",
       "<ellipse fill=\"none\" stroke=\"black\" cx=\"132.39\" cy=\"-336\" rx=\"91.99\" ry=\"22\"/>\n",
       "<text text-anchor=\"middle\" x=\"132.39\" y=\"-332.3\" font-family=\"Times,serif\" font-size=\"14.00\">1: enter: abs_value(x)</text>\n",
       "</g>\n",
       "<!-- 3 -->\n",
       "<g id=\"node4\" class=\"node\">\n",
       "<title>3</title>\n",
       "<polygon fill=\"none\" stroke=\"black\" points=\"132.39,-277 62.68,-259 132.39,-241 202.11,-259 132.39,-277\"/>\n",
       "<text text-anchor=\"middle\" x=\"132.39\" y=\"-255.3\" font-family=\"Times,serif\" font-size=\"14.00\">2: if: x &lt; 0</text>\n",
       "</g>\n",
       "<!-- 1&#45;&gt;3 -->\n",
       "<g id=\"edge2\" class=\"edge\">\n",
       "<title>1&#45;&gt;3</title>\n",
       "<path fill=\"none\" stroke=\"black\" d=\"M132.39,-313.71C132.39,-305.46 132.39,-295.91 132.39,-287.17\"/>\n",
       "<polygon fill=\"black\" stroke=\"black\" points=\"135.89,-287.06 132.39,-277.06 128.89,-287.06 135.89,-287.06\"/>\n",
       "</g>\n",
       "<!-- 2 -->\n",
       "<g id=\"node2\" class=\"node\">\n",
       "<title>2</title>\n",
       "<ellipse fill=\"none\" stroke=\"black\" cx=\"131.39\" cy=\"-22\" rx=\"83.38\" ry=\"18\"/>\n",
       "<ellipse fill=\"none\" stroke=\"black\" cx=\"131.39\" cy=\"-22\" rx=\"87.39\" ry=\"22\"/>\n",
       "<text text-anchor=\"middle\" x=\"131.39\" y=\"-18.3\" font-family=\"Times,serif\" font-size=\"14.00\">1: exit: abs_value(x)</text>\n",
       "</g>\n",
       "<!-- 6 -->\n",
       "<g id=\"node3\" class=\"node\">\n",
       "<title>6</title>\n",
       "<polygon fill=\"none\" stroke=\"black\" points=\"168.39,-117 94.39,-117 94.39,-81 168.39,-81 168.39,-117\"/>\n",
       "<text text-anchor=\"middle\" x=\"131.39\" y=\"-95.3\" font-family=\"Times,serif\" font-size=\"14.00\">6: return v</text>\n",
       "</g>\n",
       "<!-- 6&#45;&gt;2 -->\n",
       "<g id=\"edge1\" class=\"edge\">\n",
       "<title>6&#45;&gt;2</title>\n",
       "<path fill=\"none\" stroke=\"black\" d=\"M131.39,-80.98C131.39,-73.15 131.39,-63.61 131.39,-54.54\"/>\n",
       "<polygon fill=\"black\" stroke=\"black\" points=\"134.89,-54.24 131.39,-44.24 127.89,-54.24 134.89,-54.24\"/>\n",
       "</g>\n",
       "<!-- 4 -->\n",
       "<g id=\"node5\" class=\"node\">\n",
       "<title>4</title>\n",
       "<ellipse fill=\"none\" stroke=\"black\" cx=\"62.39\" cy=\"-172\" rx=\"62.29\" ry=\"18\"/>\n",
       "<text text-anchor=\"middle\" x=\"62.39\" y=\"-168.3\" font-family=\"Times,serif\" font-size=\"14.00\">3: v: float = &#45;x</text>\n",
       "</g>\n",
       "<!-- 3&#45;&gt;4 -->\n",
       "<g id=\"edge3\" class=\"edge\">\n",
       "<title>3&#45;&gt;4</title>\n",
       "<path fill=\"none\" stroke=\"blue\" d=\"M120.84,-243.96C110.48,-231.39 95.06,-212.67 82.66,-197.61\"/>\n",
       "<polygon fill=\"blue\" stroke=\"blue\" points=\"85.19,-195.18 76.14,-189.69 79.79,-199.63 85.19,-195.18\"/>\n",
       "<text text-anchor=\"middle\" x=\"106.89\" y=\"-211.8\" font-family=\"Times,serif\" font-size=\"14.00\">T</text>\n",
       "</g>\n",
       "<!-- 5 -->\n",
       "<g id=\"node6\" class=\"node\">\n",
       "<title>5</title>\n",
       "<ellipse fill=\"none\" stroke=\"black\" cx=\"202.39\" cy=\"-172\" rx=\"59.59\" ry=\"18\"/>\n",
       "<text text-anchor=\"middle\" x=\"202.39\" y=\"-168.3\" font-family=\"Times,serif\" font-size=\"14.00\">5: v: float = x</text>\n",
       "</g>\n",
       "<!-- 3&#45;&gt;5 -->\n",
       "<g id=\"edge4\" class=\"edge\">\n",
       "<title>3&#45;&gt;5</title>\n",
       "<path fill=\"none\" stroke=\"red\" d=\"M143.95,-243.96C154.31,-231.39 169.73,-212.67 182.13,-197.61\"/>\n",
       "<polygon fill=\"red\" stroke=\"red\" points=\"185,-199.63 188.65,-189.69 179.59,-195.18 185,-199.63\"/>\n",
       "<text text-anchor=\"middle\" x=\"175.39\" y=\"-211.8\" font-family=\"Times,serif\" font-size=\"14.00\">F</text>\n",
       "</g>\n",
       "<!-- 4&#45;&gt;6 -->\n",
       "<g id=\"edge5\" class=\"edge\">\n",
       "<title>4&#45;&gt;6</title>\n",
       "<path fill=\"none\" stroke=\"black\" d=\"M78.4,-154.53C87.03,-145.65 97.85,-134.52 107.46,-124.63\"/>\n",
       "<polygon fill=\"black\" stroke=\"black\" points=\"110.06,-126.98 114.52,-117.37 105.04,-122.1 110.06,-126.98\"/>\n",
       "</g>\n",
       "<!-- 5&#45;&gt;6 -->\n",
       "<g id=\"edge6\" class=\"edge\">\n",
       "<title>5&#45;&gt;6</title>\n",
       "<path fill=\"none\" stroke=\"black\" d=\"M185.93,-154.53C177.05,-145.65 165.91,-134.52 156.02,-124.63\"/>\n",
       "<polygon fill=\"black\" stroke=\"black\" points=\"158.31,-121.96 148.76,-117.37 153.36,-126.91 158.31,-121.96\"/>\n",
       "</g>\n",
       "</g>\n",
       "</svg>\n"
      ],
      "text/plain": [
       "<graphviz.graphs.Digraph at 0x1084592a0>"
      ]
     },
     "execution_count": 44,
     "metadata": {},
     "output_type": "execute_result"
    }
   ],
   "source": [
    "show_cfg(abs_value)"
   ]
  },
  {
   "cell_type": "markdown",
   "metadata": {
    "slideshow": {
     "slide_type": "fragment"
    }
   },
   "source": [
    "What can we say about the value of `v` at `line: 5`? Let us trace and see. First, we have variable `x` at `line: 1`."
   ]
  },
  {
   "cell_type": "code",
   "execution_count": 45,
   "metadata": {
    "execution": {
     "iopub.execute_input": "2022-08-04T16:59:12.970548Z",
     "iopub.status.busy": "2022-08-04T16:59:12.970104Z",
     "iopub.status.idle": "2022-08-04T16:59:12.971774Z",
     "shell.execute_reply": "2022-08-04T16:59:12.972009Z"
    },
    "slideshow": {
     "slide_type": "fragment"
    }
   },
   "outputs": [],
   "source": [
    "(x,), r = get_symbolicparams(abs_value)"
   ]
  },
  {
   "cell_type": "markdown",
   "metadata": {
    "slideshow": {
     "slide_type": "fragment"
    }
   },
   "source": [
    "At `line: 2`, we face a bifurcation in the possible paths. Hence, we produce two paths with corresponding constraints."
   ]
  },
  {
   "cell_type": "code",
   "execution_count": 46,
   "metadata": {
    "execution": {
     "iopub.execute_input": "2022-08-04T16:59:12.974466Z",
     "iopub.status.busy": "2022-08-04T16:59:12.974147Z",
     "iopub.status.idle": "2022-08-04T16:59:12.975554Z",
     "shell.execute_reply": "2022-08-04T16:59:12.975859Z"
    },
    "slideshow": {
     "slide_type": "subslide"
    }
   },
   "outputs": [],
   "source": [
    "l2_T = x < 0\n",
    "l2_F = z3.Not(x < 0)"
   ]
  },
  {
   "cell_type": "markdown",
   "metadata": {
    "slideshow": {
     "slide_type": "fragment"
    }
   },
   "source": [
    "For `line: 3`, we only need to consider the `If` path. However, we have an assignment. So we use a new variable here. The type _float_ is indicated in the source, and its equivalent *z3* type is _Real_."
   ]
  },
  {
   "cell_type": "code",
   "execution_count": 47,
   "metadata": {
    "execution": {
     "iopub.execute_input": "2022-08-04T16:59:12.978402Z",
     "iopub.status.busy": "2022-08-04T16:59:12.977947Z",
     "iopub.status.idle": "2022-08-04T16:59:12.980017Z",
     "shell.execute_reply": "2022-08-04T16:59:12.980490Z"
    },
    "slideshow": {
     "slide_type": "fragment"
    }
   },
   "outputs": [],
   "source": [
    "v_0 = z3.Real('v_0')\n",
    "l3 = z3.And(l2_T, v_0 == -x)"
   ]
  },
  {
   "cell_type": "markdown",
   "metadata": {
    "slideshow": {
     "slide_type": "fragment"
    }
   },
   "source": [
    "Similarly, for `line: 5`, we have an assignment. (Can we reuse the variable `v_0` from before?)"
   ]
  },
  {
   "cell_type": "code",
   "execution_count": 48,
   "metadata": {
    "execution": {
     "iopub.execute_input": "2022-08-04T16:59:12.982931Z",
     "iopub.status.busy": "2022-08-04T16:59:12.982568Z",
     "iopub.status.idle": "2022-08-04T16:59:12.984084Z",
     "shell.execute_reply": "2022-08-04T16:59:12.984341Z"
    },
    "slideshow": {
     "slide_type": "fragment"
    }
   },
   "outputs": [],
   "source": [
    "v_1 = z3.Real('v_1')\n",
    "l5 = z3.And(l2_F, v_1 == x)"
   ]
  },
  {
   "cell_type": "markdown",
   "metadata": {
    "slideshow": {
     "slide_type": "fragment"
    }
   },
   "source": [
    "When we come to `line: 6`, we see that we have *two* input streams. We have a choice. We can either keep each path separate as we did previously."
   ]
  },
  {
   "cell_type": "code",
   "execution_count": 49,
   "metadata": {
    "execution": {
     "iopub.execute_input": "2022-08-04T16:59:12.986986Z",
     "iopub.status.busy": "2022-08-04T16:59:12.986598Z",
     "iopub.status.idle": "2022-08-04T16:59:13.004214Z",
     "shell.execute_reply": "2022-08-04T16:59:13.004447Z"
    },
    "slideshow": {
     "slide_type": "subslide"
    }
   },
   "outputs": [
    {
     "name": "stdout",
     "output_type": "stream",
     "text": [
      "[x = -1/2, v_0 = 1/2, v = 1/2]\n",
      "[v_1 = 1, x = 1, v = 1]\n"
     ]
    }
   ],
   "source": [
    "v = z3.Real('v')\n",
    "for s in [z3.And(l3, v == v_0), z3.And(l5, v == v_1)]:\n",
    "    z3.solve(x != 0, s)"
   ]
  },
  {
   "cell_type": "markdown",
   "metadata": {
    "slideshow": {
     "slide_type": "fragment"
    }
   },
   "source": [
    "Or, we can combine them together and produce a single predicate at `line: 6`."
   ]
  },
  {
   "cell_type": "code",
   "execution_count": 50,
   "metadata": {
    "execution": {
     "iopub.execute_input": "2022-08-04T16:59:13.006538Z",
     "iopub.status.busy": "2022-08-04T16:59:13.006255Z",
     "iopub.status.idle": "2022-08-04T16:59:13.016552Z",
     "shell.execute_reply": "2022-08-04T16:59:13.016988Z"
    },
    "slideshow": {
     "slide_type": "fragment"
    }
   },
   "outputs": [
    {
     "name": "stdout",
     "output_type": "stream",
     "text": [
      "[v_1 = 0, x = 0, v_0 = 1/2, v = 0]\n"
     ]
    }
   ],
   "source": [
    "v = z3.Real('v')\n",
    "l6 = z3.Or(z3.And(l3, v == v_0), z3.And(l5, v == v_1))\n",
    "z3.solve(l6)"
   ]
  },
  {
   "cell_type": "markdown",
   "metadata": {
    "slideshow": {
     "slide_type": "subslide"
    }
   },
   "source": [
    "**Note.** Merging two incoming streams of execution can be non-trivial, especially when the execution paths are traversed multiple times (E.g. loops and recursion). For those interested, lookup [inferring loop invariants](https://www.st.cs.uni-saarland.de/publications/details/galeotti-hvc-2014/)."
   ]
  },
  {
   "cell_type": "markdown",
   "metadata": {
    "slideshow": {
     "slide_type": "fragment"
    }
   },
   "source": [
    "We can get this to produce any number of solutions for `abs()` as below."
   ]
  },
  {
   "cell_type": "code",
   "execution_count": 51,
   "metadata": {
    "execution": {
     "iopub.execute_input": "2022-08-04T16:59:13.019625Z",
     "iopub.status.busy": "2022-08-04T16:59:13.019335Z",
     "iopub.status.idle": "2022-08-04T16:59:13.038741Z",
     "shell.execute_reply": "2022-08-04T16:59:13.039149Z"
    },
    "slideshow": {
     "slide_type": "subslide"
    }
   },
   "outputs": [
    {
     "name": "stdout",
     "output_type": "stream",
     "text": [
      "[v_1 = 1/2, x = 1/2, v_0 = 0, v = 1/2]\n",
      "[v_1 = 0, x = 0, v = 0]\n",
      "[v_1 = 1/4, x = 1/4, v = 1/4]\n",
      "[v_1 = 1/8, x = 1/8, v = 1/8]\n",
      "[v_1 = 1/16, x = 1/16, v = 1/16]\n"
     ]
    },
    {
     "data": {
      "text/html": [
       "[x &lt; 0 &and; v_0 = -x &and; v = v_0 &or; &not;(x &lt; 0) &and; v_1 = x &and; v = v_1,\n",
       " &not;(1/2 = x),\n",
       " &not;(0 = x),\n",
       " &not;(1/4 = x),\n",
       " &not;(1/8 = x),\n",
       " &not;(1/16 = x)]"
      ],
      "text/plain": [
       "[Or(And(And(x < 0, v_0 == -x), v == v_0),\n",
       "    And(And(Not(x < 0), v_1 == x), v == v_1)),\n",
       " Not(1/2 == x),\n",
       " Not(0 == x),\n",
       " Not(1/4 == x),\n",
       " Not(1/8 == x),\n",
       " Not(1/16 == x)]"
      ]
     },
     "execution_count": 51,
     "metadata": {},
     "output_type": "execute_result"
    }
   ],
   "source": [
    "s = z3.Solver()\n",
    "s.add(l6)\n",
    "for i in range(5):\n",
    "    if s.check() == z3.sat:\n",
    "        m = s.model()\n",
    "        x_val = m[x]\n",
    "        print(m)\n",
    "    else:\n",
    "        print('no solution')\n",
    "        break\n",
    "    s.add(z3.Not(x == x_val))\n",
    "s"
   ]
  },
  {
   "cell_type": "markdown",
   "metadata": {
    "slideshow": {
     "slide_type": "subslide"
    }
   },
   "source": [
    "The solver is not particularly random. So we need to help it a bit to produce values on the negative range."
   ]
  },
  {
   "cell_type": "code",
   "execution_count": 52,
   "metadata": {
    "execution": {
     "iopub.execute_input": "2022-08-04T16:59:13.042228Z",
     "iopub.status.busy": "2022-08-04T16:59:13.041825Z",
     "iopub.status.idle": "2022-08-04T16:59:13.046885Z",
     "shell.execute_reply": "2022-08-04T16:59:13.047324Z"
    },
    "slideshow": {
     "slide_type": "subslide"
    }
   },
   "outputs": [
    {
     "name": "stdout",
     "output_type": "stream",
     "text": [
      "[x = -1/32, v_0 = 1/32, v = 1/32]\n",
      "[x = -33/32, v_0 = 33/32, v = 33/32]\n",
      "[x = -65/32, v_0 = 65/32, v = 65/32]\n",
      "[x = -97/32, v_0 = 97/32, v = 97/32]\n",
      "[x = -129/32, v_0 = 129/32, v = 129/32]\n"
     ]
    }
   ],
   "source": [
    "s.add(x < 0)\n",
    "for i in range(5):\n",
    "    if s.check() == z3.sat:\n",
    "        m = s.model()\n",
    "        x_val = m[x]\n",
    "        print(m)\n",
    "    else:\n",
    "        print('no solution')\n",
    "        break\n",
    "    s.add(z3.Not(x == x_val))"
   ]
  },
  {
   "cell_type": "code",
   "execution_count": 53,
   "metadata": {
    "execution": {
     "iopub.execute_input": "2022-08-04T16:59:13.050624Z",
     "iopub.status.busy": "2022-08-04T16:59:13.050135Z",
     "iopub.status.idle": "2022-08-04T16:59:13.060994Z",
     "shell.execute_reply": "2022-08-04T16:59:13.061269Z"
    },
    "slideshow": {
     "slide_type": "subslide"
    }
   },
   "outputs": [
    {
     "data": {
      "text/html": [
       "[x &lt; 0 &and; v_0 = -x &and; v = v_0 &or; &not;(x &lt; 0) &and; v_1 = x &and; v = v_1,\n",
       " &not;(1/2 = x),\n",
       " &not;(0 = x),\n",
       " &not;(1/4 = x),\n",
       " &not;(1/8 = x),\n",
       " &not;(1/16 = x),\n",
       " x &lt; 0,\n",
       " &not;(-1/32 = x),\n",
       " &not;(-33/32 = x),\n",
       " &not;(-65/32 = x),\n",
       " &not;(-97/32 = x),\n",
       " &not;(-129/32 = x)]"
      ],
      "text/plain": [
       "[Or(And(And(x < 0, v_0 == -x), v == v_0),\n",
       "    And(And(Not(x < 0), v_1 == x), v == v_1)),\n",
       " Not(1/2 == x),\n",
       " Not(0 == x),\n",
       " Not(1/4 == x),\n",
       " Not(1/8 == x),\n",
       " Not(1/16 == x),\n",
       " x < 0,\n",
       " Not(-1/32 == x),\n",
       " Not(-33/32 == x),\n",
       " Not(-65/32 == x),\n",
       " Not(-97/32 == x),\n",
       " Not(-129/32 == x)]"
      ]
     },
     "execution_count": 53,
     "metadata": {},
     "output_type": "execute_result"
    }
   ],
   "source": [
    "s"
   ]
  },
  {
   "cell_type": "markdown",
   "metadata": {
    "slideshow": {
     "slide_type": "subslide"
    }
   },
   "source": [
    "Note that the single expression produced at `line: 6` is essentially a summary for `abs_value()`. "
   ]
  },
  {
   "cell_type": "code",
   "execution_count": 54,
   "metadata": {
    "execution": {
     "iopub.execute_input": "2022-08-04T16:59:13.063886Z",
     "iopub.status.busy": "2022-08-04T16:59:13.063427Z",
     "iopub.status.idle": "2022-08-04T16:59:13.069557Z",
     "shell.execute_reply": "2022-08-04T16:59:13.069849Z"
    },
    "slideshow": {
     "slide_type": "fragment"
    }
   },
   "outputs": [
    {
     "data": {
      "text/html": [
       "x &lt; 0 &and; v_0 = -x &and; v = v_0 &or; &not;(x &lt; 0) &and; v_1 = x &and; v = v_1"
      ],
      "text/plain": [
       "Or(And(And(x < 0, v_0 == -x), v == v_0),\n",
       "   And(And(Not(x < 0), v_1 == x), v == v_1))"
      ]
     },
     "execution_count": 54,
     "metadata": {},
     "output_type": "execute_result"
    }
   ],
   "source": [
    "abs_value_summary = l6\n",
    "abs_value_summary"
   ]
  },
  {
   "cell_type": "markdown",
   "metadata": {
    "slideshow": {
     "slide_type": "fragment"
    }
   },
   "source": [
    "The *z3* solver can be used to simplify the predicates where possible."
   ]
  },
  {
   "cell_type": "code",
   "execution_count": 55,
   "metadata": {
    "execution": {
     "iopub.execute_input": "2022-08-04T16:59:13.071943Z",
     "iopub.status.busy": "2022-08-04T16:59:13.071649Z",
     "iopub.status.idle": "2022-08-04T16:59:13.076673Z",
     "shell.execute_reply": "2022-08-04T16:59:13.076912Z"
    },
    "slideshow": {
     "slide_type": "fragment"
    }
   },
   "outputs": [
    {
     "data": {
      "text/html": [
       "&not;(0 &le; x) &and; v_0 = -1&middot;x &and; v = v_0 &or; 0 &le; x &and; v_1 = x &and; v = v_1"
      ],
      "text/plain": [
       "Or(And(Not(0 <= x), v_0 == -1*x, v == v_0),\n",
       "   And(0 <= x, v_1 == x, v == v_1))"
      ]
     },
     "execution_count": 55,
     "metadata": {},
     "output_type": "execute_result"
    }
   ],
   "source": [
    "z3.simplify(l6)"
   ]
  },
  {
   "cell_type": "markdown",
   "metadata": {
    "slideshow": {
     "slide_type": "subslide"
    }
   },
   "source": [
    "One can use this summary rather than trace into `abs_value()` when `abs_value()` is used elsewhere. However, that presents us with a problem. It is possible that the same function may be called multiple times. In this case, using the same variables will lead to collision. One way to avoid that is to *prefix* some call specific value to the variables.\n",
    "\n",
    "**Note:** The SMT 2.0 standard allows one to define functions (*macros* in SMT parlance) directly. For example, the `abs-value` will be defined as follows:\n",
    "\n",
    "```lisp\n",
    "(define-fun abs-value ((x Int)) Int\n",
    "       (if (> x 0)\n",
    "           x\n",
    "           (* -1 x)))\n",
    "```\n",
    "\n",
    "Or equivalantly, (especially if `abs-value` is recursively defined)\n",
    "\n",
    "```lisp\n",
    "(declare-fun abs-value (Int) Int)\n",
    "(assert (forall ((x Int))\n",
    "                (= (abs-value x)\n",
    "                   (if (> x 0)\n",
    "                       x\n",
    "                       (* -1 x)))))\n",
    "```\n",
    "One can then say\n",
    "```\n",
    "(> (abs-value x) (abs-value y))\n",
    "```\n",
    "\n",
    "Unfortunately, the z3py project does not expose this facility in Python. Hence we have to use the `prefix_vars()` hack."
   ]
  },
  {
   "cell_type": "code",
   "execution_count": 56,
   "metadata": {
    "execution": {
     "iopub.execute_input": "2022-08-04T16:59:13.080073Z",
     "iopub.status.busy": "2022-08-04T16:59:13.079265Z",
     "iopub.status.idle": "2022-08-04T16:59:13.080750Z",
     "shell.execute_reply": "2022-08-04T16:59:13.080947Z"
    },
    "slideshow": {
     "slide_type": "skip"
    }
   },
   "outputs": [],
   "source": [
    "import ast"
   ]
  },
  {
   "cell_type": "markdown",
   "metadata": {
    "slideshow": {
     "slide_type": "subslide"
    }
   },
   "source": [
    "The method `prefix_vars()` modifies the variables in an expression such that the variables are prefixed with a given value."
   ]
  },
  {
   "cell_type": "code",
   "execution_count": 57,
   "metadata": {
    "execution": {
     "iopub.execute_input": "2022-08-04T16:59:13.085883Z",
     "iopub.status.busy": "2022-08-04T16:59:13.085575Z",
     "iopub.status.idle": "2022-08-04T16:59:13.086820Z",
     "shell.execute_reply": "2022-08-04T16:59:13.087016Z"
    },
    "slideshow": {
     "slide_type": "subslide"
    }
   },
   "outputs": [],
   "source": [
    "def prefix_vars(astnode, prefix):\n",
    "    if isinstance(astnode, ast.BoolOp):\n",
    "        return ast.BoolOp(astnode.op,\n",
    "                          [prefix_vars(i, prefix) for i in astnode.values], [])\n",
    "    elif isinstance(astnode, ast.BinOp):\n",
    "        return ast.BinOp(\n",
    "            prefix_vars(astnode.left, prefix), astnode.op,\n",
    "            prefix_vars(astnode.right, prefix))\n",
    "    elif isinstance(astnode, ast.UnaryOp):\n",
    "        return ast.UnaryOp(astnode.op, prefix_vars(astnode.operand, prefix))\n",
    "    elif isinstance(astnode, ast.Call):\n",
    "        return ast.Call(prefix_vars(astnode.func, prefix),\n",
    "                        [prefix_vars(i, prefix) for i in astnode.args],\n",
    "                        astnode.keywords)\n",
    "    elif isinstance(astnode, ast.Compare):\n",
    "        return ast.Compare(\n",
    "            prefix_vars(astnode.left, prefix), astnode.ops,\n",
    "            [prefix_vars(i, prefix) for i in astnode.comparators])\n",
    "    elif isinstance(astnode, ast.Name):\n",
    "        if astnode.id in {'And', 'Or', 'Not'}:\n",
    "            return ast.Name('z3.%s' % (astnode.id), astnode.ctx)\n",
    "        else:\n",
    "            return ast.Name('%s%s' % (prefix, astnode.id), astnode.ctx)\n",
    "    elif isinstance(astnode, ast.Return):\n",
    "        return ast.Return(prefix_vars(astnode.value, env))\n",
    "    else:\n",
    "        return astnode"
   ]
  },
  {
   "cell_type": "markdown",
   "metadata": {
    "slideshow": {
     "slide_type": "subslide"
    }
   },
   "source": [
    "For applying `prefix_vars()` one needs the _abstract syntax tree_ (AST) of the Python expression involved. We obtain this by invoking `ast.parse()`:"
   ]
  },
  {
   "cell_type": "code",
   "execution_count": 58,
   "metadata": {
    "execution": {
     "iopub.execute_input": "2022-08-04T16:59:13.088757Z",
     "iopub.status.busy": "2022-08-04T16:59:13.088483Z",
     "iopub.status.idle": "2022-08-04T16:59:13.090016Z",
     "shell.execute_reply": "2022-08-04T16:59:13.090297Z"
    },
    "slideshow": {
     "slide_type": "fragment"
    }
   },
   "outputs": [],
   "source": [
    "xy_ast = ast.parse('x+y')"
   ]
  },
  {
   "cell_type": "markdown",
   "metadata": {
    "slideshow": {
     "slide_type": "fragment"
    }
   },
   "source": [
    "We can visualize the resulting tree as follows:"
   ]
  },
  {
   "cell_type": "code",
   "execution_count": 59,
   "metadata": {
    "execution": {
     "iopub.execute_input": "2022-08-04T16:59:13.092625Z",
     "iopub.status.busy": "2022-08-04T16:59:13.092142Z",
     "iopub.status.idle": "2022-08-04T16:59:13.093855Z",
     "shell.execute_reply": "2022-08-04T16:59:13.094216Z"
    },
    "slideshow": {
     "slide_type": "skip"
    }
   },
   "outputs": [],
   "source": [
    "from bookutils import rich_output"
   ]
  },
  {
   "cell_type": "code",
   "execution_count": 60,
   "metadata": {
    "execution": {
     "iopub.execute_input": "2022-08-04T16:59:13.096757Z",
     "iopub.status.busy": "2022-08-04T16:59:13.096304Z",
     "iopub.status.idle": "2022-08-04T16:59:13.098696Z",
     "shell.execute_reply": "2022-08-04T16:59:13.098901Z"
    },
    "slideshow": {
     "slide_type": "fragment"
    }
   },
   "outputs": [],
   "source": [
    "if rich_output():\n",
    "    # Normally, this will do\n",
    "    from showast import show_ast\n",
    "else:\n",
    "    def show_ast(tree):\n",
    "        ast.dump(tree, indent=4)"
   ]
  },
  {
   "cell_type": "code",
   "execution_count": 61,
   "metadata": {
    "execution": {
     "iopub.execute_input": "2022-08-04T16:59:13.101379Z",
     "iopub.status.busy": "2022-08-04T16:59:13.101015Z",
     "iopub.status.idle": "2022-08-04T16:59:13.424843Z",
     "shell.execute_reply": "2022-08-04T16:59:13.425115Z"
    },
    "slideshow": {
     "slide_type": "fragment"
    }
   },
   "outputs": [
    {
     "data": {
      "image/svg+xml": [
       "<svg xmlns=\"http://www.w3.org/2000/svg\" xmlns:xlink=\"http://www.w3.org/1999/xlink\" width=\"296pt\" height=\"260pt\" viewBox=\"0.00 0.00 296.00 260.00\">\n",
       "<g id=\"graph0\" class=\"graph\" transform=\"scale(1 1) rotate(0) translate(4 256)\">\n",
       "<polygon fill=\"white\" stroke=\"transparent\" points=\"-4,4 -4,-256 292,-256 292,4 -4,4\"/>\n",
       "<!-- 0 -->\n",
       "<g id=\"node1\" class=\"node\">\n",
       "<title>0</title>\n",
       "<text text-anchor=\"start\" x=\"118\" y=\"-231.3\" font-family=\"Courier,monospace\" font-weight=\"bold\" font-size=\"14.00\" fill=\"#004080\">Expr</text>\n",
       "</g>\n",
       "<!-- 1 -->\n",
       "<g id=\"node2\" class=\"node\">\n",
       "<title>1</title>\n",
       "<text text-anchor=\"start\" x=\"114\" y=\"-159.3\" font-family=\"Courier,monospace\" font-weight=\"bold\" font-size=\"14.00\" fill=\"#004080\">BinOp</text>\n",
       "</g>\n",
       "<!-- 0&#45;&#45;1 -->\n",
       "<g id=\"edge1\" class=\"edge\">\n",
       "<title>0--1</title>\n",
       "<path fill=\"none\" stroke=\"black\" d=\"M135,-215.7C135,-204.85 135,-190.92 135,-180.1\"/>\n",
       "</g>\n",
       "<!-- 2 -->\n",
       "<g id=\"node3\" class=\"node\">\n",
       "<title>2</title>\n",
       "<text text-anchor=\"start\" x=\"46\" y=\"-87.3\" font-family=\"Courier,monospace\" font-weight=\"bold\" font-size=\"14.00\" fill=\"#004080\">Name</text>\n",
       "</g>\n",
       "<!-- 1&#45;&#45;2 -->\n",
       "<g id=\"edge2\" class=\"edge\">\n",
       "<title>1--2</title>\n",
       "<path fill=\"none\" stroke=\"black\" d=\"M135,-143C135,-143 107.57,-123.19 86.58,-108.03\"/>\n",
       "</g>\n",
       "<!-- 5 -->\n",
       "<g id=\"node6\" class=\"node\">\n",
       "<title>5</title>\n",
       "<text text-anchor=\"middle\" x=\"135\" y=\"-86.3\" font-family=\"Courier,monospace\" font-size=\"14.00\" fill=\"#008040\">Add</text>\n",
       "</g>\n",
       "<!-- 1&#45;&#45;5 -->\n",
       "<g id=\"edge5\" class=\"edge\">\n",
       "<title>1--5</title>\n",
       "<path fill=\"none\" stroke=\"black\" d=\"M135,-143C135,-143 135,-123.19 135,-108.03\"/>\n",
       "</g>\n",
       "<!-- 6 -->\n",
       "<g id=\"node7\" class=\"node\">\n",
       "<title>6</title>\n",
       "<text text-anchor=\"start\" x=\"190\" y=\"-87.3\" font-family=\"Courier,monospace\" font-weight=\"bold\" font-size=\"14.00\" fill=\"#004080\">Name</text>\n",
       "</g>\n",
       "<!-- 1&#45;&#45;6 -->\n",
       "<g id=\"edge6\" class=\"edge\">\n",
       "<title>1--6</title>\n",
       "<path fill=\"none\" stroke=\"black\" d=\"M135,-143C135,-143 162.43,-123.19 183.42,-108.03\"/>\n",
       "</g>\n",
       "<!-- 3 -->\n",
       "<g id=\"node4\" class=\"node\">\n",
       "<title>3</title>\n",
       "<text text-anchor=\"middle\" x=\"27\" y=\"-14.3\" font-family=\"Courier,monospace\" font-size=\"14.00\" fill=\"#008040\">&quot;x&quot;</text>\n",
       "</g>\n",
       "<!-- 2&#45;&#45;3 -->\n",
       "<g id=\"edge3\" class=\"edge\">\n",
       "<title>2--3</title>\n",
       "<path fill=\"none\" stroke=\"black\" d=\"M63,-71C63,-71 49.29,-51.19 38.79,-36.03\"/>\n",
       "</g>\n",
       "<!-- 4 -->\n",
       "<g id=\"node5\" class=\"node\">\n",
       "<title>4</title>\n",
       "<text text-anchor=\"middle\" x=\"99\" y=\"-14.3\" font-family=\"Courier,monospace\" font-size=\"14.00\" fill=\"#008040\">Load</text>\n",
       "</g>\n",
       "<!-- 2&#45;&#45;4 -->\n",
       "<g id=\"edge4\" class=\"edge\">\n",
       "<title>2--4</title>\n",
       "<path fill=\"none\" stroke=\"black\" d=\"M63,-71C63,-71 76.71,-51.19 87.21,-36.03\"/>\n",
       "</g>\n",
       "<!-- 7 -->\n",
       "<g id=\"node8\" class=\"node\">\n",
       "<title>7</title>\n",
       "<text text-anchor=\"middle\" x=\"189\" y=\"-14.3\" font-family=\"Courier,monospace\" font-size=\"14.00\" fill=\"#008040\">&quot;y&quot;</text>\n",
       "</g>\n",
       "<!-- 6&#45;&#45;7 -->\n",
       "<g id=\"edge7\" class=\"edge\">\n",
       "<title>6--7</title>\n",
       "<path fill=\"none\" stroke=\"black\" d=\"M211,-71C211,-71 202.62,-51.19 196.2,-36.03\"/>\n",
       "</g>\n",
       "<!-- 8 -->\n",
       "<g id=\"node9\" class=\"node\">\n",
       "<title>8</title>\n",
       "<text text-anchor=\"middle\" x=\"261\" y=\"-14.3\" font-family=\"Courier,monospace\" font-size=\"14.00\" fill=\"#008040\">Load</text>\n",
       "</g>\n",
       "<!-- 6&#45;&#45;8 -->\n",
       "<g id=\"edge8\" class=\"edge\">\n",
       "<title>6--8</title>\n",
       "<path fill=\"none\" stroke=\"black\" d=\"M211,-71C211,-71 230.05,-51.19 244.63,-36.03\"/>\n",
       "</g>\n",
       "</g>\n",
       "</svg>"
      ],
      "text/plain": [
       "<IPython.core.display.SVG object>"
      ]
     },
     "metadata": {},
     "output_type": "display_data"
    }
   ],
   "source": [
    "show_ast(xy_ast)"
   ]
  },
  {
   "cell_type": "markdown",
   "metadata": {
    "slideshow": {
     "slide_type": "subslide"
    }
   },
   "source": [
    "What the visualization does _not_ show, though, is that when parsing Python source code, the resulting AST comes wrapped in a `Module` by default:"
   ]
  },
  {
   "cell_type": "code",
   "execution_count": 62,
   "metadata": {
    "execution": {
     "iopub.execute_input": "2022-08-04T16:59:13.428570Z",
     "iopub.status.busy": "2022-08-04T16:59:13.428057Z",
     "iopub.status.idle": "2022-08-04T16:59:13.431033Z",
     "shell.execute_reply": "2022-08-04T16:59:13.431260Z"
    },
    "slideshow": {
     "slide_type": "fragment"
    }
   },
   "outputs": [
    {
     "data": {
      "text/plain": [
       "<ast.Module at 0x108715930>"
      ]
     },
     "execution_count": 62,
     "metadata": {},
     "output_type": "execute_result"
    }
   ],
   "source": [
    "xy_ast"
   ]
  },
  {
   "cell_type": "markdown",
   "metadata": {
    "slideshow": {
     "slide_type": "fragment"
    }
   },
   "source": [
    "And to access the expression (`Expr`), we need to access the first child of that \"module\":"
   ]
  },
  {
   "cell_type": "code",
   "execution_count": 63,
   "metadata": {
    "execution": {
     "iopub.execute_input": "2022-08-04T16:59:13.434154Z",
     "iopub.status.busy": "2022-08-04T16:59:13.433807Z",
     "iopub.status.idle": "2022-08-04T16:59:13.435246Z",
     "shell.execute_reply": "2022-08-04T16:59:13.435559Z"
    },
    "slideshow": {
     "slide_type": "fragment"
    }
   },
   "outputs": [
    {
     "data": {
      "text/plain": [
       "<ast.Expr at 0x1087156f0>"
      ]
     },
     "execution_count": 63,
     "metadata": {},
     "output_type": "execute_result"
    }
   ],
   "source": [
    "xy_ast.body[0]"
   ]
  },
  {
   "cell_type": "markdown",
   "metadata": {
    "slideshow": {
     "slide_type": "fragment"
    }
   },
   "source": [
    "The actual expression is within that `Expr` object:"
   ]
  },
  {
   "cell_type": "code",
   "execution_count": 64,
   "metadata": {
    "execution": {
     "iopub.execute_input": "2022-08-04T16:59:13.437901Z",
     "iopub.status.busy": "2022-08-04T16:59:13.437538Z",
     "iopub.status.idle": "2022-08-04T16:59:13.438971Z",
     "shell.execute_reply": "2022-08-04T16:59:13.439168Z"
    },
    "slideshow": {
     "slide_type": "fragment"
    }
   },
   "outputs": [
    {
     "data": {
      "text/plain": [
       "<ast.BinOp at 0x108714fa0>"
      ]
     },
     "execution_count": 64,
     "metadata": {},
     "output_type": "execute_result"
    }
   ],
   "source": [
    "xy_ast.body[0].value  # type: ignore"
   ]
  },
  {
   "cell_type": "markdown",
   "metadata": {
    "slideshow": {
     "slide_type": "fragment"
    }
   },
   "source": [
    "Hence, for easier manipulation of an expression AST, we define a function `get_expression()` which unwraps it and returns the AST representation of the expression inside."
   ]
  },
  {
   "cell_type": "code",
   "execution_count": 65,
   "metadata": {
    "execution": {
     "iopub.execute_input": "2022-08-04T16:59:13.441247Z",
     "iopub.status.busy": "2022-08-04T16:59:13.440959Z",
     "iopub.status.idle": "2022-08-04T16:59:13.442385Z",
     "shell.execute_reply": "2022-08-04T16:59:13.442736Z"
    },
    "slideshow": {
     "slide_type": "subslide"
    }
   },
   "outputs": [],
   "source": [
    "def get_expression(src):\n",
    "    return ast.parse(src).body[0].value"
   ]
  },
  {
   "cell_type": "markdown",
   "metadata": {
    "slideshow": {
     "slide_type": "fragment"
    }
   },
   "source": [
    "It is used as follows:"
   ]
  },
  {
   "cell_type": "code",
   "execution_count": 66,
   "metadata": {
    "execution": {
     "iopub.execute_input": "2022-08-04T16:59:13.445127Z",
     "iopub.status.busy": "2022-08-04T16:59:13.444780Z",
     "iopub.status.idle": "2022-08-04T16:59:13.446775Z",
     "shell.execute_reply": "2022-08-04T16:59:13.447176Z"
    },
    "slideshow": {
     "slide_type": "fragment"
    }
   },
   "outputs": [
    {
     "data": {
      "text/plain": [
       "<ast.BinOp at 0x108459bd0>"
      ]
     },
     "execution_count": 66,
     "metadata": {},
     "output_type": "execute_result"
    }
   ],
   "source": [
    "e = get_expression('x+y')\n",
    "e"
   ]
  },
  {
   "cell_type": "markdown",
   "metadata": {
    "slideshow": {
     "slide_type": "fragment"
    }
   },
   "source": [
    "The function `to_src()` allows us to *unparse* an expression."
   ]
  },
  {
   "cell_type": "code",
   "execution_count": 67,
   "metadata": {
    "execution": {
     "iopub.execute_input": "2022-08-04T16:59:13.449358Z",
     "iopub.status.busy": "2022-08-04T16:59:13.449031Z",
     "iopub.status.idle": "2022-08-04T16:59:13.450205Z",
     "shell.execute_reply": "2022-08-04T16:59:13.450444Z"
    },
    "slideshow": {
     "slide_type": "fragment"
    }
   },
   "outputs": [],
   "source": [
    "def to_src(astnode):\n",
    "    return ast.unparse(astnode).strip()"
   ]
  },
  {
   "cell_type": "markdown",
   "metadata": {
    "slideshow": {
     "slide_type": "fragment"
    }
   },
   "source": [
    "It is used as follows:"
   ]
  },
  {
   "cell_type": "code",
   "execution_count": 68,
   "metadata": {
    "execution": {
     "iopub.execute_input": "2022-08-04T16:59:13.452452Z",
     "iopub.status.busy": "2022-08-04T16:59:13.452144Z",
     "iopub.status.idle": "2022-08-04T16:59:13.453710Z",
     "shell.execute_reply": "2022-08-04T16:59:13.453946Z"
    },
    "slideshow": {
     "slide_type": "fragment"
    }
   },
   "outputs": [
    {
     "data": {
      "text/plain": [
       "'x + y'"
      ]
     },
     "execution_count": 68,
     "metadata": {},
     "output_type": "execute_result"
    }
   ],
   "source": [
    "to_src(e)"
   ]
  },
  {
   "cell_type": "markdown",
   "metadata": {
    "slideshow": {
     "slide_type": "fragment"
    }
   },
   "source": [
    "We can combine both pieces to produce a prefixed expression. Let us prefix all variables with `x1_`:"
   ]
  },
  {
   "cell_type": "code",
   "execution_count": 69,
   "metadata": {
    "execution": {
     "iopub.execute_input": "2022-08-04T16:59:13.456797Z",
     "iopub.status.busy": "2022-08-04T16:59:13.456416Z",
     "iopub.status.idle": "2022-08-04T16:59:13.459983Z",
     "shell.execute_reply": "2022-08-04T16:59:13.460460Z"
    },
    "slideshow": {
     "slide_type": "subslide"
    }
   },
   "outputs": [
    {
     "name": "stdout",
     "output_type": "stream",
     "text": [
      "z3.Or(z3.And(z3.And(x1_x < 0, x1_v_0 == -x1_x), x1_v == x1_v_0), z3.And(z3.And(z3.Not(x1_x < 0), x1_v_1 == x1_x), x1_v == x1_v_1))\n"
     ]
    }
   ],
   "source": [
    "abs_value_summary_ast = get_expression(str(abs_value_summary))\n",
    "print(to_src(prefix_vars(abs_value_summary_ast, 'x1_')))"
   ]
  },
  {
   "cell_type": "markdown",
   "metadata": {
    "slideshow": {
     "slide_type": "subslide"
    }
   },
   "source": [
    "#### Get Names and Types of Variables Used"
   ]
  },
  {
   "cell_type": "markdown",
   "metadata": {
    "slideshow": {
     "slide_type": "fragment"
    }
   },
   "source": [
    "What about the declarations used? Given that we have all equations in *Z3*, we can retrieve this information directly. We define `z3_names_and_types()` that takes in a *Z3* expression, and extracts the variable definitions required."
   ]
  },
  {
   "cell_type": "code",
   "execution_count": 70,
   "metadata": {
    "execution": {
     "iopub.execute_input": "2022-08-04T16:59:13.463629Z",
     "iopub.status.busy": "2022-08-04T16:59:13.463146Z",
     "iopub.status.idle": "2022-08-04T16:59:13.464400Z",
     "shell.execute_reply": "2022-08-04T16:59:13.464592Z"
    },
    "slideshow": {
     "slide_type": "subslide"
    }
   },
   "outputs": [],
   "source": [
    "def z3_names_and_types(z3_ast):\n",
    "    hm = {}\n",
    "    children = z3_ast.children()\n",
    "    if children:\n",
    "        for c in children:\n",
    "            hm.update(z3_names_and_types(c))\n",
    "    else:\n",
    "        # HACK.. How else to distinguish literals and vars?\n",
    "        if (str(z3_ast.decl()) != str(z3_ast.sort())):\n",
    "            hm[\"%s\" % str(z3_ast.decl())] = 'z3.%s' % str(z3_ast.sort())\n",
    "        else:\n",
    "            pass\n",
    "    return hm"
   ]
  },
  {
   "cell_type": "code",
   "execution_count": 71,
   "metadata": {
    "execution": {
     "iopub.execute_input": "2022-08-04T16:59:13.466668Z",
     "iopub.status.busy": "2022-08-04T16:59:13.466374Z",
     "iopub.status.idle": "2022-08-04T16:59:13.469055Z",
     "shell.execute_reply": "2022-08-04T16:59:13.469282Z"
    },
    "slideshow": {
     "slide_type": "subslide"
    }
   },
   "outputs": [
    {
     "data": {
      "text/plain": [
       "{'x': 'z3.Real', 'v_0': 'z3.Real', 'v': 'z3.Real', 'v_1': 'z3.Real'}"
      ]
     },
     "execution_count": 71,
     "metadata": {},
     "output_type": "execute_result"
    }
   ],
   "source": [
    "abs_value_declarations = z3_names_and_types(abs_value_summary)\n",
    "abs_value_declarations"
   ]
  },
  {
   "cell_type": "markdown",
   "metadata": {
    "slideshow": {
     "slide_type": "fragment"
    }
   },
   "source": [
    "However, `z3_names_and_types()` is limited in that it requires the *Z3* AST to operate. Hence, we also define `used_identifiers()` that can extract  identifiers directly from the string representation of any Python expression, (including *Z3* constraints). One trade-off here is that we lose track of the type information. But we will see how to recover that later."
   ]
  },
  {
   "cell_type": "code",
   "execution_count": 72,
   "metadata": {
    "execution": {
     "iopub.execute_input": "2022-08-04T16:59:13.473524Z",
     "iopub.status.busy": "2022-08-04T16:59:13.473202Z",
     "iopub.status.idle": "2022-08-04T16:59:13.474645Z",
     "shell.execute_reply": "2022-08-04T16:59:13.474824Z"
    },
    "slideshow": {
     "slide_type": "subslide"
    }
   },
   "outputs": [],
   "source": [
    "def used_identifiers(src):\n",
    "    def names(astnode):\n",
    "        lst = []\n",
    "        if isinstance(astnode, ast.BoolOp):\n",
    "            for i in astnode.values:\n",
    "                lst.extend(names(i))\n",
    "        elif isinstance(astnode, ast.BinOp):\n",
    "            lst.extend(names(astnode.left))\n",
    "            lst.extend(names(astnode.right))\n",
    "        elif isinstance(astnode, ast.UnaryOp):\n",
    "            lst.extend(names(astnode.operand))\n",
    "        elif isinstance(astnode, ast.Call):\n",
    "            for i in astnode.args:\n",
    "                lst.extend(names(i))\n",
    "        elif isinstance(astnode, ast.Compare):\n",
    "            lst.extend(names(astnode.left))\n",
    "            for i in astnode.comparators:\n",
    "                lst.extend(names(i))\n",
    "        elif isinstance(astnode, ast.Name):\n",
    "            lst.append(astnode.id)\n",
    "        elif isinstance(astnode, ast.Expr):\n",
    "            lst.extend(names(astnode.value))\n",
    "        elif isinstance(astnode, (ast.Num, ast.Str, ast.Tuple, ast.NameConstant)):\n",
    "            pass\n",
    "        elif isinstance(astnode, ast.Assign):\n",
    "            for t in astnode.targets:\n",
    "                lst.extend(names(t))\n",
    "            lst.extend(names(astnode.value))\n",
    "        elif isinstance(astnode, ast.Module):\n",
    "            for b in astnode.body:\n",
    "                lst.extend(names(b))\n",
    "        else:\n",
    "            raise Exception(str(astnode))\n",
    "        return list(set(lst))\n",
    "    return names(ast.parse(src))"
   ]
  },
  {
   "cell_type": "code",
   "execution_count": 73,
   "metadata": {
    "execution": {
     "iopub.execute_input": "2022-08-04T16:59:13.477849Z",
     "iopub.status.busy": "2022-08-04T16:59:13.477382Z",
     "iopub.status.idle": "2022-08-04T16:59:13.481063Z",
     "shell.execute_reply": "2022-08-04T16:59:13.481298Z"
    },
    "slideshow": {
     "slide_type": "subslide"
    }
   },
   "outputs": [
    {
     "data": {
      "text/plain": [
       "['v_0', 'v_1', 'v', 'x']"
      ]
     },
     "execution_count": 73,
     "metadata": {},
     "output_type": "execute_result"
    }
   ],
   "source": [
    "used_identifiers(str(abs_value_summary))"
   ]
  },
  {
   "cell_type": "markdown",
   "metadata": {
    "slideshow": {
     "slide_type": "fragment"
    }
   },
   "source": [
    "We can now register the function summary `abs_value` for later use."
   ]
  },
  {
   "cell_type": "code",
   "execution_count": 74,
   "metadata": {
    "execution": {
     "iopub.execute_input": "2022-08-04T16:59:13.483298Z",
     "iopub.status.busy": "2022-08-04T16:59:13.482922Z",
     "iopub.status.idle": "2022-08-04T16:59:13.486789Z",
     "shell.execute_reply": "2022-08-04T16:59:13.487122Z"
    },
    "slideshow": {
     "slide_type": "fragment"
    }
   },
   "outputs": [],
   "source": [
    "function_summaries = {}\n",
    "function_summaries['abs_value'] = {\n",
    "    'predicate': str(abs_value_summary),\n",
    "    'vars': abs_value_declarations}"
   ]
  },
  {
   "cell_type": "markdown",
   "metadata": {
    "slideshow": {
     "slide_type": "fragment"
    }
   },
   "source": [
    "As we mentioned previously, we do not want to rely on *Z3* to extract the type information. A better alternative is to let the user specify the type information as annotations, and extract this information from the program. We will see next how this can be achieved.\n",
    "\n",
    "First, we convert the *Python type to Z3 type* map to its string equivalent."
   ]
  },
  {
   "cell_type": "code",
   "execution_count": 75,
   "metadata": {
    "execution": {
     "iopub.execute_input": "2022-08-04T16:59:13.490236Z",
     "iopub.status.busy": "2022-08-04T16:59:13.489747Z",
     "iopub.status.idle": "2022-08-04T16:59:13.492375Z",
     "shell.execute_reply": "2022-08-04T16:59:13.492622Z"
    },
    "slideshow": {
     "slide_type": "subslide"
    }
   },
   "outputs": [
    {
     "data": {
      "text/plain": [
       "{'int': ('z3.Int', 'z3.IntVal'),\n",
       " 'float': ('z3.Real', 'z3.RealVal'),\n",
       " 'str': ('z3.String', 'z3.StringVal')}"
      ]
     },
     "execution_count": 75,
     "metadata": {},
     "output_type": "execute_result"
    }
   ],
   "source": [
    "SYM_VARS_STR = {\n",
    "    k.__name__: (\"z3.%s\" % v1.__name__, \"z3.%s\" % v2.__name__)\n",
    "    for k, (v1, v2) in SYM_VARS.items()\n",
    "}\n",
    "SYM_VARS_STR"
   ]
  },
  {
   "cell_type": "markdown",
   "metadata": {
    "slideshow": {
     "slide_type": "fragment"
    }
   },
   "source": [
    "We also define a convenience method `translate_to_z3_name()` for accessing the *Z3* type for symbolic variables."
   ]
  },
  {
   "cell_type": "code",
   "execution_count": 76,
   "metadata": {
    "execution": {
     "iopub.execute_input": "2022-08-04T16:59:13.494730Z",
     "iopub.status.busy": "2022-08-04T16:59:13.494405Z",
     "iopub.status.idle": "2022-08-04T16:59:13.495910Z",
     "shell.execute_reply": "2022-08-04T16:59:13.496195Z"
    },
    "slideshow": {
     "slide_type": "fragment"
    }
   },
   "outputs": [],
   "source": [
    "def translate_to_z3_name(v):\n",
    "    return SYM_VARS_STR[v][0]"
   ]
  },
  {
   "cell_type": "markdown",
   "metadata": {
    "slideshow": {
     "slide_type": "subslide"
    }
   },
   "source": [
    "We now define the method `declarations()` that extracts variables used in Python _statements_. The idea is to look for augmented assignments that contain annotated type information. These are collected and returned.\n",
    "\n",
    "If there are `call` nodes, they represent function calls. The used variables in these function calls are recovered from the corresponding function summaries."
   ]
  },
  {
   "cell_type": "code",
   "execution_count": 77,
   "metadata": {
    "execution": {
     "iopub.execute_input": "2022-08-04T16:59:13.500600Z",
     "iopub.status.busy": "2022-08-04T16:59:13.500257Z",
     "iopub.status.idle": "2022-08-04T16:59:13.501717Z",
     "shell.execute_reply": "2022-08-04T16:59:13.502028Z"
    },
    "slideshow": {
     "slide_type": "subslide"
    }
   },
   "outputs": [],
   "source": [
    "def declarations(astnode, hm=None):\n",
    "    if hm is None:\n",
    "        hm = {}\n",
    "    if isinstance(astnode, ast.Module):\n",
    "        for b in astnode.body:\n",
    "            declarations(b, hm)\n",
    "    elif isinstance(astnode, ast.FunctionDef):\n",
    "        # hm[astnode.name + '__return__'] = \\\n",
    "        # translate_to_z3_name(astnode.returns.id)\n",
    "        for a in astnode.args.args:\n",
    "            hm[a.arg] = translate_to_z3_name(a.annotation.id)\n",
    "        for b in astnode.body:\n",
    "            declarations(b, hm)\n",
    "    elif isinstance(astnode, ast.Call):\n",
    "        # get declarations from the function summary.\n",
    "        n = astnode.function\n",
    "        assert isinstance(n, ast.Name)  # for now.\n",
    "        name = n.id\n",
    "        hm.update(dict(function_summaries[name]['vars']))\n",
    "    elif isinstance(astnode, ast.AnnAssign):\n",
    "        assert isinstance(astnode.target, ast.Name)\n",
    "        hm[astnode.target.id] = translate_to_z3_name(astnode.annotation.id)\n",
    "    elif isinstance(astnode, ast.Assign):\n",
    "        # verify it is already defined\n",
    "        for t in astnode.targets:\n",
    "            assert isinstance(t, ast.Name)\n",
    "            assert t.id in hm\n",
    "    elif isinstance(astnode, ast.AugAssign):\n",
    "        assert isinstance(astnode.target, ast.Name)\n",
    "        assert astnode.target.id in hm\n",
    "    elif isinstance(astnode, (ast.If, ast.For, ast.While)):\n",
    "        for b in astnode.body:\n",
    "            declarations(b, hm)\n",
    "        for b in astnode.orelse:\n",
    "            declarations(b, hm)\n",
    "    elif isinstance(astnode, ast.Return):\n",
    "        pass\n",
    "    else:\n",
    "        raise Exception(str(astnode))\n",
    "    return hm"
   ]
  },
  {
   "cell_type": "markdown",
   "metadata": {
    "slideshow": {
     "slide_type": "subslide"
    }
   },
   "source": [
    "With this, we can now extract the variables used in an expression."
   ]
  },
  {
   "cell_type": "code",
   "execution_count": 78,
   "metadata": {
    "execution": {
     "iopub.execute_input": "2022-08-04T16:59:13.504642Z",
     "iopub.status.busy": "2022-08-04T16:59:13.504230Z",
     "iopub.status.idle": "2022-08-04T16:59:13.506220Z",
     "shell.execute_reply": "2022-08-04T16:59:13.506415Z"
    },
    "slideshow": {
     "slide_type": "fragment"
    }
   },
   "outputs": [
    {
     "data": {
      "text/plain": [
       "{'s': 'z3.Int', 'p': 'z3.Real'}"
      ]
     },
     "execution_count": 78,
     "metadata": {},
     "output_type": "execute_result"
    }
   ],
   "source": [
    "declarations(ast.parse('s: int = 3\\np: float = 4.0\\ns += 1'))"
   ]
  },
  {
   "cell_type": "markdown",
   "metadata": {
    "slideshow": {
     "slide_type": "fragment"
    }
   },
   "source": [
    "We wrap `declarations()` in the method `used_vars()` that operates directly on function objects."
   ]
  },
  {
   "cell_type": "code",
   "execution_count": 79,
   "metadata": {
    "execution": {
     "iopub.execute_input": "2022-08-04T16:59:13.509152Z",
     "iopub.status.busy": "2022-08-04T16:59:13.508658Z",
     "iopub.status.idle": "2022-08-04T16:59:13.510724Z",
     "shell.execute_reply": "2022-08-04T16:59:13.511011Z"
    },
    "slideshow": {
     "slide_type": "fragment"
    }
   },
   "outputs": [],
   "source": [
    "def used_vars(fn):\n",
    "    return declarations(ast.parse(inspect.getsource(fn)))"
   ]
  },
  {
   "cell_type": "markdown",
   "metadata": {
    "slideshow": {
     "slide_type": "fragment"
    }
   },
   "source": [
    "Here is how it can be used:"
   ]
  },
  {
   "cell_type": "code",
   "execution_count": 80,
   "metadata": {
    "execution": {
     "iopub.execute_input": "2022-08-04T16:59:13.513866Z",
     "iopub.status.busy": "2022-08-04T16:59:13.513422Z",
     "iopub.status.idle": "2022-08-04T16:59:13.515756Z",
     "shell.execute_reply": "2022-08-04T16:59:13.515992Z"
    },
    "slideshow": {
     "slide_type": "fragment"
    }
   },
   "outputs": [
    {
     "data": {
      "text/plain": [
       "{'a': 'z3.Int', 'b': 'z3.Int', 'c': 'z3.Int'}"
      ]
     },
     "execution_count": 80,
     "metadata": {},
     "output_type": "execute_result"
    }
   ],
   "source": [
    "used_vars(check_triangle)"
   ]
  },
  {
   "cell_type": "code",
   "execution_count": 81,
   "metadata": {
    "execution": {
     "iopub.execute_input": "2022-08-04T16:59:13.518404Z",
     "iopub.status.busy": "2022-08-04T16:59:13.517937Z",
     "iopub.status.idle": "2022-08-04T16:59:13.519684Z",
     "shell.execute_reply": "2022-08-04T16:59:13.519953Z"
    },
    "slideshow": {
     "slide_type": "fragment"
    }
   },
   "outputs": [
    {
     "data": {
      "text/plain": [
       "{'x': 'z3.Real', 'v': 'z3.Real'}"
      ]
     },
     "execution_count": 81,
     "metadata": {},
     "output_type": "execute_result"
    }
   ],
   "source": [
    "used_vars(abs_value)"
   ]
  },
  {
   "cell_type": "markdown",
   "metadata": {
    "slideshow": {
     "slide_type": "subslide"
    }
   },
   "source": [
    "Given the extracted variables and their *Z3* types, we need a way to reinstantiate them when needed. We define `define_symbolic_vars()` that translates these descriptions to a form that can be directly `exec()`ed."
   ]
  },
  {
   "cell_type": "code",
   "execution_count": 82,
   "metadata": {
    "execution": {
     "iopub.execute_input": "2022-08-04T16:59:13.522822Z",
     "iopub.status.busy": "2022-08-04T16:59:13.522425Z",
     "iopub.status.idle": "2022-08-04T16:59:13.523848Z",
     "shell.execute_reply": "2022-08-04T16:59:13.524049Z"
    },
    "slideshow": {
     "slide_type": "fragment"
    }
   },
   "outputs": [],
   "source": [
    "def define_symbolic_vars(fn_vars, prefix):\n",
    "    sym_var_dec = ', '.join([prefix + n for n in fn_vars])\n",
    "    sym_var_def = ', '.join([\"%s('%s%s')\" % (t, prefix, n)\n",
    "                             for n, t in fn_vars.items()])\n",
    "    return \"%s = %s\" % (sym_var_dec, sym_var_def)"
   ]
  },
  {
   "cell_type": "markdown",
   "metadata": {
    "slideshow": {
     "slide_type": "fragment"
    }
   },
   "source": [
    "Here is how it can be used:"
   ]
  },
  {
   "cell_type": "code",
   "execution_count": 83,
   "metadata": {
    "execution": {
     "iopub.execute_input": "2022-08-04T16:59:13.526128Z",
     "iopub.status.busy": "2022-08-04T16:59:13.525711Z",
     "iopub.status.idle": "2022-08-04T16:59:13.527573Z",
     "shell.execute_reply": "2022-08-04T16:59:13.527906Z"
    },
    "slideshow": {
     "slide_type": "fragment"
    }
   },
   "outputs": [
    {
     "data": {
      "text/plain": [
       "\"x, v_0, v, v_1 = z3.Real('x'), z3.Real('v_0'), z3.Real('v'), z3.Real('v_1')\""
      ]
     },
     "execution_count": 83,
     "metadata": {},
     "output_type": "execute_result"
    }
   ],
   "source": [
    "define_symbolic_vars(abs_value_declarations, '')"
   ]
  },
  {
   "cell_type": "markdown",
   "metadata": {
    "slideshow": {
     "slide_type": "fragment"
    }
   },
   "source": [
    "We next define `gen_fn_summary()` that returns a function summary in instantiable form using *Z3*. "
   ]
  },
  {
   "cell_type": "code",
   "execution_count": 84,
   "metadata": {
    "execution": {
     "iopub.execute_input": "2022-08-04T16:59:13.530500Z",
     "iopub.status.busy": "2022-08-04T16:59:13.530211Z",
     "iopub.status.idle": "2022-08-04T16:59:13.531398Z",
     "shell.execute_reply": "2022-08-04T16:59:13.531634Z"
    },
    "slideshow": {
     "slide_type": "subslide"
    }
   },
   "outputs": [],
   "source": [
    "def gen_fn_summary(prefix, fn):\n",
    "    summary = function_summaries[fn.__name__]['predicate']\n",
    "    fn_vars = function_summaries[fn.__name__]['vars']\n",
    "    decl = define_symbolic_vars(fn_vars, prefix)\n",
    "    summary_ast = get_expression(summary)\n",
    "    return decl, to_src(prefix_vars(summary_ast, prefix))"
   ]
  },
  {
   "cell_type": "markdown",
   "metadata": {
    "slideshow": {
     "slide_type": "fragment"
    }
   },
   "source": [
    "Here is how it can be used:"
   ]
  },
  {
   "cell_type": "code",
   "execution_count": 85,
   "metadata": {
    "execution": {
     "iopub.execute_input": "2022-08-04T16:59:13.533738Z",
     "iopub.status.busy": "2022-08-04T16:59:13.533441Z",
     "iopub.status.idle": "2022-08-04T16:59:13.534853Z",
     "shell.execute_reply": "2022-08-04T16:59:13.535106Z"
    },
    "slideshow": {
     "slide_type": "fragment"
    }
   },
   "outputs": [
    {
     "data": {
      "text/plain": [
       "(\"a_x, a_v_0, a_v, a_v_1 = z3.Real('a_x'), z3.Real('a_v_0'), z3.Real('a_v'), z3.Real('a_v_1')\",\n",
       " 'z3.Or(z3.And(z3.And(a_x < 0, a_v_0 == -a_x), a_v == a_v_0), z3.And(z3.And(z3.Not(a_x < 0), a_v_1 == a_x), a_v == a_v_1))')"
      ]
     },
     "execution_count": 85,
     "metadata": {},
     "output_type": "execute_result"
    }
   ],
   "source": [
    "gen_fn_summary('a_', abs_value)"
   ]
  },
  {
   "cell_type": "code",
   "execution_count": 86,
   "metadata": {
    "execution": {
     "iopub.execute_input": "2022-08-04T16:59:13.537479Z",
     "iopub.status.busy": "2022-08-04T16:59:13.537129Z",
     "iopub.status.idle": "2022-08-04T16:59:13.538693Z",
     "shell.execute_reply": "2022-08-04T16:59:13.538928Z"
    },
    "slideshow": {
     "slide_type": "fragment"
    }
   },
   "outputs": [
    {
     "data": {
      "text/plain": [
       "(\"b_x, b_v_0, b_v, b_v_1 = z3.Real('b_x'), z3.Real('b_v_0'), z3.Real('b_v'), z3.Real('b_v_1')\",\n",
       " 'z3.Or(z3.And(z3.And(b_x < 0, b_v_0 == -b_x), b_v == b_v_0), z3.And(z3.And(z3.Not(b_x < 0), b_v_1 == b_x), b_v == b_v_1))')"
      ]
     },
     "execution_count": 86,
     "metadata": {},
     "output_type": "execute_result"
    }
   ],
   "source": [
    "gen_fn_summary('b_', abs_value)"
   ]
  },
  {
   "cell_type": "markdown",
   "metadata": {
    "slideshow": {
     "slide_type": "fragment"
    }
   },
   "source": [
    "How do we use our function summaries? Here is a function `abs_max()` that uses `abs_value()`."
   ]
  },
  {
   "cell_type": "code",
   "execution_count": 87,
   "metadata": {
    "execution": {
     "iopub.execute_input": "2022-08-04T16:59:13.540985Z",
     "iopub.status.busy": "2022-08-04T16:59:13.540720Z",
     "iopub.status.idle": "2022-08-04T16:59:13.541773Z",
     "shell.execute_reply": "2022-08-04T16:59:13.542031Z"
    },
    "slideshow": {
     "slide_type": "subslide"
    }
   },
   "outputs": [],
   "source": [
    "def abs_max(a: float, b: float):\n",
    "    a1: float = abs_value(a)\n",
    "    b1: float = abs_value(b)\n",
    "    if a1 > b1:\n",
    "        c: float = a1  # type: ignore\n",
    "    else:\n",
    "        c: float = b1  # type: ignore\n",
    "    return c"
   ]
  },
  {
   "cell_type": "markdown",
   "metadata": {
    "slideshow": {
     "slide_type": "fragment"
    }
   },
   "source": [
    "To trace this function symbolically, we first define the two variables `a` and `b`."
   ]
  },
  {
   "cell_type": "code",
   "execution_count": 88,
   "metadata": {
    "execution": {
     "iopub.execute_input": "2022-08-04T16:59:13.543662Z",
     "iopub.status.busy": "2022-08-04T16:59:13.543362Z",
     "iopub.status.idle": "2022-08-04T16:59:13.545030Z",
     "shell.execute_reply": "2022-08-04T16:59:13.544760Z"
    },
    "slideshow": {
     "slide_type": "fragment"
    }
   },
   "outputs": [],
   "source": [
    "a = z3.Real('a')\n",
    "b = z3.Real('b')"
   ]
  },
  {
   "cell_type": "markdown",
   "metadata": {
    "slideshow": {
     "slide_type": "fragment"
    }
   },
   "source": [
    "The `line: 2` contains definition for `a1`, which we define as a symbolic variable."
   ]
  },
  {
   "cell_type": "code",
   "execution_count": 89,
   "metadata": {
    "execution": {
     "iopub.execute_input": "2022-08-04T16:59:13.547583Z",
     "iopub.status.busy": "2022-08-04T16:59:13.547185Z",
     "iopub.status.idle": "2022-08-04T16:59:13.548800Z",
     "shell.execute_reply": "2022-08-04T16:59:13.549002Z"
    },
    "slideshow": {
     "slide_type": "fragment"
    }
   },
   "outputs": [],
   "source": [
    "a1 = z3.Real('a1')"
   ]
  },
  {
   "cell_type": "markdown",
   "metadata": {
    "slideshow": {
     "slide_type": "subslide"
    }
   },
   "source": [
    "We also need to call `abs_value()`, which is accomplished as follows. Since this is the first call to `abs_value()`, we use `abs1` as the prefix."
   ]
  },
  {
   "cell_type": "code",
   "execution_count": 90,
   "metadata": {
    "execution": {
     "iopub.execute_input": "2022-08-04T16:59:13.551479Z",
     "iopub.status.busy": "2022-08-04T16:59:13.551151Z",
     "iopub.status.idle": "2022-08-04T16:59:13.552659Z",
     "shell.execute_reply": "2022-08-04T16:59:13.552836Z"
    },
    "slideshow": {
     "slide_type": "fragment"
    }
   },
   "outputs": [
    {
     "data": {
      "text/plain": [
       "(\"abs1_x, abs1_v_0, abs1_v, abs1_v_1 = z3.Real('abs1_x'), z3.Real('abs1_v_0'), z3.Real('abs1_v'), z3.Real('abs1_v_1')\",\n",
       " 'z3.Or(z3.And(z3.And(abs1_x < 0, abs1_v_0 == -abs1_x), abs1_v == abs1_v_0), z3.And(z3.And(z3.Not(abs1_x < 0), abs1_v_1 == abs1_x), abs1_v == abs1_v_1))')"
      ]
     },
     "execution_count": 90,
     "metadata": {},
     "output_type": "execute_result"
    }
   ],
   "source": [
    "d, v = gen_fn_summary('abs1_', abs_value)\n",
    "d, v"
   ]
  },
  {
   "cell_type": "markdown",
   "metadata": {
    "slideshow": {
     "slide_type": "fragment"
    }
   },
   "source": [
    "We also need to equate the resulting value (`<prefix>_v`) to the symbolic variable `a1` we defined earlier."
   ]
  },
  {
   "cell_type": "code",
   "execution_count": 91,
   "metadata": {
    "execution": {
     "iopub.execute_input": "2022-08-04T16:59:13.554802Z",
     "iopub.status.busy": "2022-08-04T16:59:13.554460Z",
     "iopub.status.idle": "2022-08-04T16:59:13.555908Z",
     "shell.execute_reply": "2022-08-04T16:59:13.556147Z"
    },
    "slideshow": {
     "slide_type": "fragment"
    }
   },
   "outputs": [
    {
     "data": {
      "text/plain": [
       "'l2 = z3.And(a == abs1_x, a1 == abs1_v, z3.Or(z3.And(z3.And(abs1_x < 0, abs1_v_0 == -abs1_x), abs1_v == abs1_v_0), z3.And(z3.And(z3.Not(abs1_x < 0), abs1_v_1 == abs1_x), abs1_v == abs1_v_1)))'"
      ]
     },
     "execution_count": 91,
     "metadata": {},
     "output_type": "execute_result"
    }
   ],
   "source": [
    "l2_src = \"l2 = z3.And(a == abs1_x, a1 == abs1_v, %s)\" % v\n",
    "l2_src"
   ]
  },
  {
   "cell_type": "markdown",
   "metadata": {
    "slideshow": {
     "slide_type": "fragment"
    }
   },
   "source": [
    "Applying both declaration and the assignment."
   ]
  },
  {
   "cell_type": "code",
   "execution_count": 92,
   "metadata": {
    "execution": {
     "iopub.execute_input": "2022-08-04T16:59:13.557917Z",
     "iopub.status.busy": "2022-08-04T16:59:13.557559Z",
     "iopub.status.idle": "2022-08-04T16:59:13.559949Z",
     "shell.execute_reply": "2022-08-04T16:59:13.559718Z"
    },
    "slideshow": {
     "slide_type": "fragment"
    }
   },
   "outputs": [],
   "source": [
    "exec(d)\n",
    "exec(l2_src)"
   ]
  },
  {
   "cell_type": "code",
   "execution_count": 93,
   "metadata": {
    "execution": {
     "iopub.execute_input": "2022-08-04T16:59:13.562509Z",
     "iopub.status.busy": "2022-08-04T16:59:13.562020Z",
     "iopub.status.idle": "2022-08-04T16:59:13.568950Z",
     "shell.execute_reply": "2022-08-04T16:59:13.569186Z"
    },
    "slideshow": {
     "slide_type": "subslide"
    }
   },
   "outputs": [
    {
     "data": {
      "text/html": [
       "a = abs1_x &and;\n",
       "a1 = abs1_v &and;\n",
       "(abs1_x &lt; 0 &and; abs1_v_0 = -abs1_x &and; abs1_v = abs1_v_0 &or;\n",
       " &not;(abs1_x &lt; 0) &and; abs1_v_1 = abs1_x &and; abs1_v = abs1_v_1)"
      ],
      "text/plain": [
       "And(a == abs1_x,\n",
       "    a1 == abs1_v,\n",
       "    Or(And(And(abs1_x < 0, abs1_v_0 == -abs1_x),\n",
       "           abs1_v == abs1_v_0),\n",
       "       And(And(Not(abs1_x < 0), abs1_v_1 == abs1_x),\n",
       "           abs1_v == abs1_v_1)))"
      ]
     },
     "execution_count": 93,
     "metadata": {},
     "output_type": "execute_result"
    }
   ],
   "source": [
    "l2  # type: ignore"
   ]
  },
  {
   "cell_type": "markdown",
   "metadata": {
    "slideshow": {
     "slide_type": "fragment"
    }
   },
   "source": [
    "We need to do the same for `line: 3`, but with `abs2` as the prefix."
   ]
  },
  {
   "cell_type": "code",
   "execution_count": 94,
   "metadata": {
    "execution": {
     "iopub.execute_input": "2022-08-04T16:59:13.571606Z",
     "iopub.status.busy": "2022-08-04T16:59:13.571321Z",
     "iopub.status.idle": "2022-08-04T16:59:13.573249Z",
     "shell.execute_reply": "2022-08-04T16:59:13.573484Z"
    },
    "slideshow": {
     "slide_type": "fragment"
    }
   },
   "outputs": [],
   "source": [
    "b1 = z3.Real('b1')\n",
    "d, v = gen_fn_summary('abs2_', abs_value)\n",
    "l3_src = \"l3_ = z3.And(b == abs2_x, b1 == abs2_v, %s)\" % v\n",
    "exec(d)\n",
    "exec(l3_src)"
   ]
  },
  {
   "cell_type": "code",
   "execution_count": 95,
   "metadata": {
    "execution": {
     "iopub.execute_input": "2022-08-04T16:59:13.576203Z",
     "iopub.status.busy": "2022-08-04T16:59:13.575808Z",
     "iopub.status.idle": "2022-08-04T16:59:13.584034Z",
     "shell.execute_reply": "2022-08-04T16:59:13.584335Z"
    },
    "slideshow": {
     "slide_type": "subslide"
    }
   },
   "outputs": [
    {
     "data": {
      "text/html": [
       "b = abs2_x &and;\n",
       "b1 = abs2_v &and;\n",
       "(abs2_x &lt; 0 &and; abs2_v_0 = -abs2_x &and; abs2_v = abs2_v_0 &or;\n",
       " &not;(abs2_x &lt; 0) &and; abs2_v_1 = abs2_x &and; abs2_v = abs2_v_1)"
      ],
      "text/plain": [
       "And(b == abs2_x,\n",
       "    b1 == abs2_v,\n",
       "    Or(And(And(abs2_x < 0, abs2_v_0 == -abs2_x),\n",
       "           abs2_v == abs2_v_0),\n",
       "       And(And(Not(abs2_x < 0), abs2_v_1 == abs2_x),\n",
       "           abs2_v == abs2_v_1)))"
      ]
     },
     "execution_count": 95,
     "metadata": {},
     "output_type": "execute_result"
    }
   ],
   "source": [
    "l3_  # type: ignore"
   ]
  },
  {
   "cell_type": "markdown",
   "metadata": {
    "slideshow": {
     "slide_type": "fragment"
    }
   },
   "source": [
    "To get the true set of predicates at `line: 3`, we need to add the predicates from `line: 2`."
   ]
  },
  {
   "cell_type": "code",
   "execution_count": 96,
   "metadata": {
    "execution": {
     "iopub.execute_input": "2022-08-04T16:59:13.586735Z",
     "iopub.status.busy": "2022-08-04T16:59:13.586451Z",
     "iopub.status.idle": "2022-08-04T16:59:13.587635Z",
     "shell.execute_reply": "2022-08-04T16:59:13.587937Z"
    },
    "slideshow": {
     "slide_type": "fragment"
    }
   },
   "outputs": [],
   "source": [
    "l3 = z3.And(l2, l3_)  # type: ignore"
   ]
  },
  {
   "cell_type": "code",
   "execution_count": 97,
   "metadata": {
    "execution": {
     "iopub.execute_input": "2022-08-04T16:59:13.590318Z",
     "iopub.status.busy": "2022-08-04T16:59:13.589819Z",
     "iopub.status.idle": "2022-08-04T16:59:13.607544Z",
     "shell.execute_reply": "2022-08-04T16:59:13.607808Z"
    },
    "slideshow": {
     "slide_type": "subslide"
    }
   },
   "outputs": [
    {
     "data": {
      "text/html": [
       "a = abs1_x &and;\n",
       "a1 = abs1_v &and;\n",
       "(abs1_x &lt; 0 &and; abs1_v_0 = -abs1_x &and; abs1_v = abs1_v_0 &or;\n",
       " &not;(abs1_x &lt; 0) &and; abs1_v_1 = abs1_x &and; abs1_v = abs1_v_1) &and;\n",
       "b = abs2_x &and;\n",
       "b1 = abs2_v &and;\n",
       "(abs2_x &lt; 0 &and; abs2_v_0 = -abs2_x &and; abs2_v = abs2_v_0 &or;\n",
       " &not;(abs2_x &lt; 0) &and; abs2_v_1 = abs2_x &and; abs2_v = abs2_v_1)"
      ],
      "text/plain": [
       "And(And(a == abs1_x,\n",
       "        a1 == abs1_v,\n",
       "        Or(And(And(abs1_x < 0, abs1_v_0 == -abs1_x),\n",
       "               abs1_v == abs1_v_0),\n",
       "           And(And(Not(abs1_x < 0), abs1_v_1 == abs1_x),\n",
       "               abs1_v == abs1_v_1))),\n",
       "    And(b == abs2_x,\n",
       "        b1 == abs2_v,\n",
       "        Or(And(And(abs2_x < 0, abs2_v_0 == -abs2_x),\n",
       "               abs2_v == abs2_v_0),\n",
       "           And(And(Not(abs2_x < 0), abs2_v_1 == abs2_x),\n",
       "               abs2_v == abs2_v_1))))"
      ]
     },
     "execution_count": 97,
     "metadata": {},
     "output_type": "execute_result"
    }
   ],
   "source": [
    "l3"
   ]
  },
  {
   "cell_type": "markdown",
   "metadata": {
    "slideshow": {
     "slide_type": "fragment"
    }
   },
   "source": [
    "This equation can be simplified a bit using z3."
   ]
  },
  {
   "cell_type": "code",
   "execution_count": 98,
   "metadata": {
    "execution": {
     "iopub.execute_input": "2022-08-04T16:59:13.610533Z",
     "iopub.status.busy": "2022-08-04T16:59:13.610128Z",
     "iopub.status.idle": "2022-08-04T16:59:13.619603Z",
     "shell.execute_reply": "2022-08-04T16:59:13.620059Z"
    },
    "slideshow": {
     "slide_type": "subslide"
    }
   },
   "outputs": [
    {
     "data": {
      "text/html": [
       "a = abs1_x &and;\n",
       "a1 = abs1_v &and;\n",
       "(&not;(0 &le; abs1_x) &and; abs1_v_0 = -1&middot;abs1_x &and; abs1_v = abs1_v_0 &or;\n",
       " 0 &le; abs1_x &and; abs1_v_1 = abs1_x &and; abs1_v = abs1_v_1) &and;\n",
       "b = abs2_x &and;\n",
       "b1 = abs2_v &and;\n",
       "(&not;(0 &le; abs2_x) &and; abs2_v_0 = -1&middot;abs2_x &and; abs2_v = abs2_v_0 &or;\n",
       " 0 &le; abs2_x &and; abs2_v_1 = abs2_x &and; abs2_v = abs2_v_1)"
      ],
      "text/plain": [
       "And(a == abs1_x,\n",
       "    a1 == abs1_v,\n",
       "    Or(And(Not(0 <= abs1_x),\n",
       "           abs1_v_0 == -1*abs1_x,\n",
       "           abs1_v == abs1_v_0),\n",
       "       And(0 <= abs1_x,\n",
       "           abs1_v_1 == abs1_x,\n",
       "           abs1_v == abs1_v_1)),\n",
       "    b == abs2_x,\n",
       "    b1 == abs2_v,\n",
       "    Or(And(Not(0 <= abs2_x),\n",
       "           abs2_v_0 == -1*abs2_x,\n",
       "           abs2_v == abs2_v_0),\n",
       "       And(0 <= abs2_x,\n",
       "           abs2_v_1 == abs2_x,\n",
       "           abs2_v == abs2_v_1)))"
      ]
     },
     "execution_count": 98,
     "metadata": {},
     "output_type": "execute_result"
    }
   ],
   "source": [
    "z3.simplify(l3)"
   ]
  },
  {
   "cell_type": "markdown",
   "metadata": {
    "slideshow": {
     "slide_type": "subslide"
    }
   },
   "source": [
    "Coming to `line: 4`, we have a condition."
   ]
  },
  {
   "cell_type": "code",
   "execution_count": 99,
   "metadata": {
    "execution": {
     "iopub.execute_input": "2022-08-04T16:59:13.622815Z",
     "iopub.status.busy": "2022-08-04T16:59:13.622483Z",
     "iopub.status.idle": "2022-08-04T16:59:13.623842Z",
     "shell.execute_reply": "2022-08-04T16:59:13.624133Z"
    },
    "slideshow": {
     "slide_type": "fragment"
    }
   },
   "outputs": [],
   "source": [
    "l4_cond = a1 > b1\n",
    "l4 = z3.And(l3, l4_cond)"
   ]
  },
  {
   "cell_type": "markdown",
   "metadata": {
    "slideshow": {
     "slide_type": "fragment"
    }
   },
   "source": [
    "For `line: 5`, we define the symbolic variable `c_0` assuming we took the *IF* branch."
   ]
  },
  {
   "cell_type": "code",
   "execution_count": 100,
   "metadata": {
    "execution": {
     "iopub.execute_input": "2022-08-04T16:59:13.626689Z",
     "iopub.status.busy": "2022-08-04T16:59:13.626328Z",
     "iopub.status.idle": "2022-08-04T16:59:13.627729Z",
     "shell.execute_reply": "2022-08-04T16:59:13.628150Z"
    },
    "slideshow": {
     "slide_type": "fragment"
    }
   },
   "outputs": [],
   "source": [
    "c_0 = z3.Real('c_0')\n",
    "l5 = z3.And(l4, c_0 == a1)"
   ]
  },
  {
   "cell_type": "markdown",
   "metadata": {
    "slideshow": {
     "slide_type": "fragment"
    }
   },
   "source": [
    "For `line: 6`, the *ELSE* branch was taken. So we invert that condition."
   ]
  },
  {
   "cell_type": "code",
   "execution_count": 101,
   "metadata": {
    "execution": {
     "iopub.execute_input": "2022-08-04T16:59:13.631232Z",
     "iopub.status.busy": "2022-08-04T16:59:13.630858Z",
     "iopub.status.idle": "2022-08-04T16:59:13.632525Z",
     "shell.execute_reply": "2022-08-04T16:59:13.632768Z"
    },
    "slideshow": {
     "slide_type": "fragment"
    }
   },
   "outputs": [],
   "source": [
    "l6 = z3.And(l3, z3.Not(l4_cond))"
   ]
  },
  {
   "cell_type": "markdown",
   "metadata": {
    "slideshow": {
     "slide_type": "fragment"
    }
   },
   "source": [
    "For `line: 7`, we define `c_1`."
   ]
  },
  {
   "cell_type": "code",
   "execution_count": 102,
   "metadata": {
    "execution": {
     "iopub.execute_input": "2022-08-04T16:59:13.635804Z",
     "iopub.status.busy": "2022-08-04T16:59:13.635341Z",
     "iopub.status.idle": "2022-08-04T16:59:13.637007Z",
     "shell.execute_reply": "2022-08-04T16:59:13.637242Z"
    },
    "slideshow": {
     "slide_type": "fragment"
    }
   },
   "outputs": [],
   "source": [
    "c_1 = z3.Real('c_1')\n",
    "l7 = z3.And(l6, c_1 == b1)"
   ]
  },
  {
   "cell_type": "code",
   "execution_count": 103,
   "metadata": {
    "execution": {
     "iopub.execute_input": "2022-08-04T16:59:13.639429Z",
     "iopub.status.busy": "2022-08-04T16:59:13.638973Z",
     "iopub.status.idle": "2022-08-04T16:59:13.648182Z",
     "shell.execute_reply": "2022-08-04T16:59:13.648474Z"
    },
    "slideshow": {
     "slide_type": "subslide"
    }
   },
   "outputs": [
    {
     "data": {
      "text/html": [
       "<b>sat</b>"
      ],
      "text/plain": [
       "sat"
      ]
     },
     "execution_count": 103,
     "metadata": {},
     "output_type": "execute_result"
    }
   ],
   "source": [
    "s1 = z3.Solver()\n",
    "s1.add(l5)\n",
    "s1.check()"
   ]
  },
  {
   "cell_type": "code",
   "execution_count": 104,
   "metadata": {
    "execution": {
     "iopub.execute_input": "2022-08-04T16:59:13.649900Z",
     "iopub.status.busy": "2022-08-04T16:59:13.649596Z",
     "iopub.status.idle": "2022-08-04T16:59:13.653517Z",
     "shell.execute_reply": "2022-08-04T16:59:13.653711Z"
    },
    "slideshow": {
     "slide_type": "fragment"
    }
   },
   "outputs": [
    {
     "data": {
      "text/plain": [
       "[(a, 1/2), (a1, 1/2), (b, -1/4), (b1, 1/4), (c_0, 1/2)]"
      ]
     },
     "execution_count": 104,
     "metadata": {},
     "output_type": "execute_result"
    }
   ],
   "source": [
    "m1 = s1.model()\n",
    "sorted([(d, m1[d]) for d in m1.decls() if not d.name(\n",
    ").startswith('abs')], key=lambda x: x[0].name())"
   ]
  },
  {
   "cell_type": "code",
   "execution_count": 105,
   "metadata": {
    "execution": {
     "iopub.execute_input": "2022-08-04T16:59:13.655887Z",
     "iopub.status.busy": "2022-08-04T16:59:13.655524Z",
     "iopub.status.idle": "2022-08-04T16:59:13.665699Z",
     "shell.execute_reply": "2022-08-04T16:59:13.665892Z"
    },
    "slideshow": {
     "slide_type": "fragment"
    }
   },
   "outputs": [
    {
     "data": {
      "text/html": [
       "<b>sat</b>"
      ],
      "text/plain": [
       "sat"
      ]
     },
     "execution_count": 105,
     "metadata": {},
     "output_type": "execute_result"
    }
   ],
   "source": [
    "s2 = z3.Solver()\n",
    "s2.add(l7)\n",
    "s2.check()"
   ]
  },
  {
   "cell_type": "code",
   "execution_count": 106,
   "metadata": {
    "execution": {
     "iopub.execute_input": "2022-08-04T16:59:13.668486Z",
     "iopub.status.busy": "2022-08-04T16:59:13.667990Z",
     "iopub.status.idle": "2022-08-04T16:59:13.670819Z",
     "shell.execute_reply": "2022-08-04T16:59:13.671024Z"
    },
    "slideshow": {
     "slide_type": "subslide"
    }
   },
   "outputs": [
    {
     "data": {
      "text/plain": [
       "[(a, -1/4), (a1, 1/4), (b, -1/4), (b1, 1/4), (c_1, 1/4)]"
      ]
     },
     "execution_count": 106,
     "metadata": {},
     "output_type": "execute_result"
    }
   ],
   "source": [
    "m2 = s2.model()\n",
    "sorted([(d, m2[d]) for d in m2.decls() if not d.name(\n",
    ").startswith('abs')], key=lambda x: x[0].name())"
   ]
  },
  {
   "cell_type": "markdown",
   "metadata": {
    "slideshow": {
     "slide_type": "fragment"
    }
   },
   "source": [
    "What we really want to do is to automate this process, because doing this by hand is tedious and error prone. Essentially, we want the ability to extract *all paths* in the program, and symbolically execute each path, which will generate the inputs required to cover all reachable portions of the program."
   ]
  },
  {
   "cell_type": "markdown",
   "metadata": {
    "slideshow": {
     "slide_type": "slide"
    }
   },
   "source": [
    "## Simple Symbolic Fuzzing"
   ]
  },
  {
   "cell_type": "markdown",
   "metadata": {
    "slideshow": {
     "slide_type": "subslide"
    }
   },
   "source": [
    "We define a simple *symbolic fuzzer* that can generate input values *symbolically* with the following assumptions:\n",
    "\n",
    "* There are no loops in the program\n",
    "* The function is self contained.\n",
    "* No recursion.\n",
    "* No reassignments for variables.\n",
    "\n",
    "The key idea is as follows: We traverse through the control flow graph from the entry point, and generate all possible paths to a given depth. Then we collect constraints that we encountered along the path, and generate inputs that will traverse the program up to that point."
   ]
  },
  {
   "cell_type": "markdown",
   "metadata": {
    "slideshow": {
     "slide_type": "subslide"
    }
   },
   "source": [
    "We build our fuzzer based on the class `Fuzzer`."
   ]
  },
  {
   "cell_type": "code",
   "execution_count": 107,
   "metadata": {
    "execution": {
     "iopub.execute_input": "2022-08-04T16:59:13.673994Z",
     "iopub.status.busy": "2022-08-04T16:59:13.673302Z",
     "iopub.status.idle": "2022-08-04T16:59:13.674841Z",
     "shell.execute_reply": "2022-08-04T16:59:13.675022Z"
    },
    "slideshow": {
     "slide_type": "skip"
    }
   },
   "outputs": [],
   "source": [
    "from Fuzzer import Fuzzer"
   ]
  },
  {
   "cell_type": "markdown",
   "metadata": {
    "slideshow": {
     "slide_type": "fragment"
    }
   },
   "source": [
    "We start by extracting the control flow graph of the function passed. We also provide a hook for child classes to do their processing."
   ]
  },
  {
   "cell_type": "code",
   "execution_count": 108,
   "metadata": {
    "execution": {
     "iopub.execute_input": "2022-08-04T16:59:13.678498Z",
     "iopub.status.busy": "2022-08-04T16:59:13.678221Z",
     "iopub.status.idle": "2022-08-04T16:59:13.679729Z",
     "shell.execute_reply": "2022-08-04T16:59:13.680049Z"
    },
    "slideshow": {
     "slide_type": "subslide"
    }
   },
   "outputs": [],
   "source": [
    "class SimpleSymbolicFuzzer(Fuzzer):\n",
    "    \"\"\"Simple symbolic fuzzer\"\"\"\n",
    "\n",
    "    def __init__(self, fn, **kwargs):\n",
    "        \"\"\"Constructor.\n",
    "        `fn` is the function to be fuzzed.\n",
    "        Possible keyword parameters:\n",
    "        * `max_depth` - the depth to which one should attempt\n",
    "          to trace the execution (default 100) \n",
    "        * `max_tries` - the maximum number of attempts\n",
    "          we will try to produce a value before giving up (default 100)\n",
    "        * `max_iter` - the number of iterations we will attempt (default 100).\n",
    "        \"\"\"\n",
    "        self.fn_name = fn.__name__\n",
    "        py_cfg = PyCFG()\n",
    "        py_cfg.gen_cfg(inspect.getsource(fn))\n",
    "        self.fnenter, self.fnexit = py_cfg.functions[self.fn_name]\n",
    "        self.used_variables = used_vars(fn)\n",
    "        self.fn_args = list(inspect.signature(fn).parameters)\n",
    "        self.z3 = z3.Solver()\n",
    "\n",
    "        self.paths = None\n",
    "        self.last_path = None\n",
    "\n",
    "        self.options(kwargs)\n",
    "        self.process()\n",
    "\n",
    "    def process(self):\n",
    "        ...  # to be defined later"
   ]
  },
  {
   "cell_type": "markdown",
   "metadata": {
    "slideshow": {
     "slide_type": "subslide"
    }
   },
   "source": [
    "We need a few variables to control how much we are willing to traverse."
   ]
  },
  {
   "cell_type": "markdown",
   "metadata": {
    "slideshow": {
     "slide_type": "fragment"
    }
   },
   "source": [
    "`MAX_DEPTH` is the depth to which one should attempt to trace the execution."
   ]
  },
  {
   "cell_type": "code",
   "execution_count": 109,
   "metadata": {
    "execution": {
     "iopub.execute_input": "2022-08-04T16:59:13.682203Z",
     "iopub.status.busy": "2022-08-04T16:59:13.681913Z",
     "iopub.status.idle": "2022-08-04T16:59:13.683215Z",
     "shell.execute_reply": "2022-08-04T16:59:13.683545Z"
    },
    "slideshow": {
     "slide_type": "fragment"
    }
   },
   "outputs": [],
   "source": [
    "MAX_DEPTH = 100"
   ]
  },
  {
   "cell_type": "markdown",
   "metadata": {
    "slideshow": {
     "slide_type": "fragment"
    }
   },
   "source": [
    "`MAX_TRIES` is the maximum number of attempts we will try to produce a value before giving up."
   ]
  },
  {
   "cell_type": "code",
   "execution_count": 110,
   "metadata": {
    "execution": {
     "iopub.execute_input": "2022-08-04T16:59:13.685550Z",
     "iopub.status.busy": "2022-08-04T16:59:13.685271Z",
     "iopub.status.idle": "2022-08-04T16:59:13.686526Z",
     "shell.execute_reply": "2022-08-04T16:59:13.686764Z"
    },
    "slideshow": {
     "slide_type": "fragment"
    }
   },
   "outputs": [],
   "source": [
    "MAX_TRIES = 100"
   ]
  },
  {
   "cell_type": "markdown",
   "metadata": {
    "slideshow": {
     "slide_type": "fragment"
    }
   },
   "source": [
    "`MAX_ITER` is the number of iterations we will attempt."
   ]
  },
  {
   "cell_type": "code",
   "execution_count": 111,
   "metadata": {
    "execution": {
     "iopub.execute_input": "2022-08-04T16:59:13.688905Z",
     "iopub.status.busy": "2022-08-04T16:59:13.688451Z",
     "iopub.status.idle": "2022-08-04T16:59:13.690304Z",
     "shell.execute_reply": "2022-08-04T16:59:13.690610Z"
    },
    "slideshow": {
     "slide_type": "fragment"
    }
   },
   "outputs": [],
   "source": [
    "MAX_ITER = 100"
   ]
  },
  {
   "cell_type": "markdown",
   "metadata": {
    "slideshow": {
     "slide_type": "fragment"
    }
   },
   "source": [
    "The `options()` method sets these parameters in the fuzzing class."
   ]
  },
  {
   "cell_type": "code",
   "execution_count": 112,
   "metadata": {
    "execution": {
     "iopub.execute_input": "2022-08-04T16:59:13.693175Z",
     "iopub.status.busy": "2022-08-04T16:59:13.692900Z",
     "iopub.status.idle": "2022-08-04T16:59:13.694689Z",
     "shell.execute_reply": "2022-08-04T16:59:13.694958Z"
    },
    "slideshow": {
     "slide_type": "subslide"
    }
   },
   "outputs": [],
   "source": [
    "class SimpleSymbolicFuzzer(SimpleSymbolicFuzzer):\n",
    "    def options(self, kwargs):\n",
    "        self.max_depth = kwargs.get('max_depth', MAX_DEPTH)\n",
    "        self.max_tries = kwargs.get('max_tries', MAX_TRIES)\n",
    "        self.max_iter = kwargs.get('max_iter', MAX_ITER)\n",
    "        self._options = kwargs"
   ]
  },
  {
   "cell_type": "markdown",
   "metadata": {
    "slideshow": {
     "slide_type": "fragment"
    }
   },
   "source": [
    "The initialization generates a control flow graph and hooks it to `fnenter` and `fnexit`."
   ]
  },
  {
   "cell_type": "code",
   "execution_count": 113,
   "metadata": {
    "execution": {
     "iopub.execute_input": "2022-08-04T16:59:13.698197Z",
     "iopub.status.busy": "2022-08-04T16:59:13.697910Z",
     "iopub.status.idle": "2022-08-04T16:59:13.699083Z",
     "shell.execute_reply": "2022-08-04T16:59:13.699321Z"
    },
    "slideshow": {
     "slide_type": "fragment"
    }
   },
   "outputs": [],
   "source": [
    "symfz_ct = SimpleSymbolicFuzzer(check_triangle)"
   ]
  },
  {
   "cell_type": "code",
   "execution_count": 114,
   "metadata": {
    "execution": {
     "iopub.execute_input": "2022-08-04T16:59:13.701515Z",
     "iopub.status.busy": "2022-08-04T16:59:13.701177Z",
     "iopub.status.idle": "2022-08-04T16:59:13.702804Z",
     "shell.execute_reply": "2022-08-04T16:59:13.703042Z"
    },
    "slideshow": {
     "slide_type": "fragment"
    }
   },
   "outputs": [
    {
     "data": {
      "text/plain": [
       "(id:9 line[1] parents: [] : enter: check_triangle(a, b, c),\n",
       " id:10 line[1] parents: [14, 15, 16, 19, 20, 21] : exit: check_triangle(a, b, c))"
      ]
     },
     "execution_count": 114,
     "metadata": {},
     "output_type": "execute_result"
    }
   ],
   "source": [
    "symfz_ct.fnenter, symfz_ct.fnexit"
   ]
  },
  {
   "cell_type": "markdown",
   "metadata": {
    "slideshow": {
     "slide_type": "subslide"
    }
   },
   "source": [
    "### Generating All Possible Paths\n",
    "We can use the procedure `get_all_paths()` starting from `fnenter` to recursively retrieve all paths in the function.\n",
    "\n",
    "The idea is as follows: Start with the function entry point `fnenter`, and recursively follow the children using the CFG. At any node there is a branching, there would be multiple children. On other nodes there would be only one child. Let us say a node had $n$ children. Such a node would result in $n$ paths. We attach the current node to the head of each paths, and return all paths thus generated."
   ]
  },
  {
   "cell_type": "code",
   "execution_count": 115,
   "metadata": {
    "execution": {
     "iopub.execute_input": "2022-08-04T16:59:13.705758Z",
     "iopub.status.busy": "2022-08-04T16:59:13.705492Z",
     "iopub.status.idle": "2022-08-04T16:59:13.706667Z",
     "shell.execute_reply": "2022-08-04T16:59:13.706859Z"
    },
    "slideshow": {
     "slide_type": "subslide"
    }
   },
   "outputs": [],
   "source": [
    "class SimpleSymbolicFuzzer(SimpleSymbolicFuzzer):\n",
    "    def get_all_paths(self, fenter, depth=0):\n",
    "        if depth > self.max_depth:\n",
    "            raise Exception('Maximum depth exceeded')\n",
    "        if not fenter.children:\n",
    "            return [[(0, fenter)]]\n",
    "\n",
    "        fnpaths = []\n",
    "        for idx, child in enumerate(fenter.children):\n",
    "            child_paths = self.get_all_paths(child, depth + 1)\n",
    "            for path in child_paths:\n",
    "                # In a conditional branch, idx is 0 for IF, and 1 for Else\n",
    "                fnpaths.append([(idx, fenter)] + path)\n",
    "        return fnpaths"
   ]
  },
  {
   "cell_type": "markdown",
   "metadata": {
    "slideshow": {
     "slide_type": "fragment"
    }
   },
   "source": [
    "This can be used as follows."
   ]
  },
  {
   "cell_type": "code",
   "execution_count": 116,
   "metadata": {
    "execution": {
     "iopub.execute_input": "2022-08-04T16:59:13.709240Z",
     "iopub.status.busy": "2022-08-04T16:59:13.708214Z",
     "iopub.status.idle": "2022-08-04T16:59:13.710563Z",
     "shell.execute_reply": "2022-08-04T16:59:13.710862Z"
    },
    "slideshow": {
     "slide_type": "subslide"
    }
   },
   "outputs": [],
   "source": [
    "symfz_ct = SimpleSymbolicFuzzer(check_triangle)\n",
    "all_paths = symfz_ct.get_all_paths(symfz_ct.fnenter)"
   ]
  },
  {
   "cell_type": "code",
   "execution_count": 117,
   "metadata": {
    "execution": {
     "iopub.execute_input": "2022-08-04T16:59:13.713228Z",
     "iopub.status.busy": "2022-08-04T16:59:13.712872Z",
     "iopub.status.idle": "2022-08-04T16:59:13.714358Z",
     "shell.execute_reply": "2022-08-04T16:59:13.714587Z"
    },
    "slideshow": {
     "slide_type": "fragment"
    }
   },
   "outputs": [
    {
     "data": {
      "text/plain": [
       "6"
      ]
     },
     "execution_count": 117,
     "metadata": {},
     "output_type": "execute_result"
    }
   ],
   "source": [
    "len(all_paths)"
   ]
  },
  {
   "cell_type": "code",
   "execution_count": 118,
   "metadata": {
    "execution": {
     "iopub.execute_input": "2022-08-04T16:59:13.717022Z",
     "iopub.status.busy": "2022-08-04T16:59:13.716658Z",
     "iopub.status.idle": "2022-08-04T16:59:13.718279Z",
     "shell.execute_reply": "2022-08-04T16:59:13.718606Z"
    },
    "slideshow": {
     "slide_type": "fragment"
    }
   },
   "outputs": [
    {
     "data": {
      "text/plain": [
       "[(0, id:24 line[1] parents: [] : enter: check_triangle(a, b, c)),\n",
       " (0, id:26 line[2] parents: [24] : _if: a == b),\n",
       " (0, id:27 line[3] parents: [26] : _if: a == c),\n",
       " (1, id:28 line[4] parents: [27] : _if: b == c),\n",
       " (0, id:30 line[7] parents: [28] : return 'Isosceles'),\n",
       " (0,\n",
       "  id:25 line[1] parents: [29, 30, 31, 34, 35, 36] : exit: check_triangle(a, b, c))]"
      ]
     },
     "execution_count": 118,
     "metadata": {},
     "output_type": "execute_result"
    }
   ],
   "source": [
    "all_paths[1]"
   ]
  },
  {
   "cell_type": "markdown",
   "metadata": {
    "slideshow": {
     "slide_type": "fragment"
    }
   },
   "source": [
    "We hook `get_all_paths()` to initialization as below."
   ]
  },
  {
   "cell_type": "code",
   "execution_count": 119,
   "metadata": {
    "execution": {
     "iopub.execute_input": "2022-08-04T16:59:13.721045Z",
     "iopub.status.busy": "2022-08-04T16:59:13.720692Z",
     "iopub.status.idle": "2022-08-04T16:59:13.722044Z",
     "shell.execute_reply": "2022-08-04T16:59:13.722463Z"
    },
    "slideshow": {
     "slide_type": "subslide"
    }
   },
   "outputs": [],
   "source": [
    "class SimpleSymbolicFuzzer(SimpleSymbolicFuzzer):\n",
    "    def process(self):\n",
    "        self.paths = self.get_all_paths(self.fnenter)\n",
    "        self.last_path = len(self.paths)"
   ]
  },
  {
   "cell_type": "markdown",
   "metadata": {
    "slideshow": {
     "slide_type": "subslide"
    }
   },
   "source": [
    "### Extracting All Constraints\n",
    "\n",
    "For any given path, we define a function `extract_constraints()` to extract the constraints such that they are executable directly with *Z3*. The `idx` represents the particular branch that was taken. Hence, if the `False` branch was taken in a conditional, we attach a negation of the conditional."
   ]
  },
  {
   "cell_type": "code",
   "execution_count": 120,
   "metadata": {
    "execution": {
     "iopub.execute_input": "2022-08-04T16:59:13.725929Z",
     "iopub.status.busy": "2022-08-04T16:59:13.725634Z",
     "iopub.status.idle": "2022-08-04T16:59:13.726790Z",
     "shell.execute_reply": "2022-08-04T16:59:13.726971Z"
    },
    "slideshow": {
     "slide_type": "subslide"
    }
   },
   "outputs": [],
   "source": [
    "class SimpleSymbolicFuzzer(SimpleSymbolicFuzzer):\n",
    "    def extract_constraints(self, path):\n",
    "        predicates = []\n",
    "        for (idx, elt) in path:\n",
    "            if isinstance(elt.ast_node, ast.AnnAssign):\n",
    "                if elt.ast_node.target.id in {'_if', '_while'}:\n",
    "                    s = to_src(elt.ast_node.annotation)\n",
    "                    predicates.append((\"%s\" if idx == 0 else \"z3.Not(%s)\") % s)\n",
    "                elif isinstance(elt.ast_node.annotation, ast.Call):\n",
    "                    assert elt.ast_node.annotation.func.id == self.fn_name\n",
    "                else:\n",
    "                    node = elt.ast_node\n",
    "                    t = ast.Compare(node.target, [ast.Eq()], [node.value])\n",
    "                    predicates.append(to_src(t))\n",
    "            elif isinstance(elt.ast_node, ast.Assign):\n",
    "                node = elt.ast_node\n",
    "                t = ast.Compare(node.targets[0], [ast.Eq()], [node.value])\n",
    "                predicates.append(to_src(t))\n",
    "            else:\n",
    "                pass\n",
    "        return predicates"
   ]
  },
  {
   "cell_type": "code",
   "execution_count": 121,
   "metadata": {
    "execution": {
     "iopub.execute_input": "2022-08-04T16:59:13.730446Z",
     "iopub.status.busy": "2022-08-04T16:59:13.730028Z",
     "iopub.status.idle": "2022-08-04T16:59:13.731658Z",
     "shell.execute_reply": "2022-08-04T16:59:13.731835Z"
    },
    "slideshow": {
     "slide_type": "subslide"
    }
   },
   "outputs": [
    {
     "data": {
      "text/plain": [
       "['a == b', 'a == c', 'b == c']"
      ]
     },
     "execution_count": 121,
     "metadata": {},
     "output_type": "execute_result"
    }
   ],
   "source": [
    "symfz_ct = SimpleSymbolicFuzzer(check_triangle)\n",
    "all_paths = symfz_ct.get_all_paths(symfz_ct.fnenter)\n",
    "symfz_ct.extract_constraints(all_paths[0])"
   ]
  },
  {
   "cell_type": "code",
   "execution_count": 122,
   "metadata": {
    "execution": {
     "iopub.execute_input": "2022-08-04T16:59:13.733871Z",
     "iopub.status.busy": "2022-08-04T16:59:13.733508Z",
     "iopub.status.idle": "2022-08-04T16:59:13.735052Z",
     "shell.execute_reply": "2022-08-04T16:59:13.735232Z"
    },
    "slideshow": {
     "slide_type": "fragment"
    }
   },
   "outputs": [
    {
     "data": {
      "text/plain": [
       "['a == b', 'a == c', 'z3.Not(b == c)']"
      ]
     },
     "execution_count": 122,
     "metadata": {},
     "output_type": "execute_result"
    }
   ],
   "source": [
    "constraints = symfz_ct.extract_constraints(all_paths[1])\n",
    "constraints"
   ]
  },
  {
   "cell_type": "markdown",
   "metadata": {
    "slideshow": {
     "slide_type": "subslide"
    }
   },
   "source": [
    "### Fuzzing with Simple Symbolic Fuzzer\n",
    "\n",
    "To actually generate solutions, we define `fuzz()`. For that, we need to first extract all paths. Then choose a particular path, and extract the constraints in that path, which is then solved using *z3*."
   ]
  },
  {
   "cell_type": "code",
   "execution_count": 123,
   "metadata": {
    "execution": {
     "iopub.execute_input": "2022-08-04T16:59:13.736813Z",
     "iopub.status.busy": "2022-08-04T16:59:13.736534Z",
     "iopub.status.idle": "2022-08-04T16:59:13.737736Z",
     "shell.execute_reply": "2022-08-04T16:59:13.737956Z"
    },
    "slideshow": {
     "slide_type": "skip"
    }
   },
   "outputs": [],
   "source": [
    "from contextlib import contextmanager"
   ]
  },
  {
   "cell_type": "markdown",
   "metadata": {
    "slideshow": {
     "slide_type": "fragment"
    }
   },
   "source": [
    "First we create a checkpoint for our current solver so that we can check a predicate, and rollback if necessary."
   ]
  },
  {
   "cell_type": "code",
   "execution_count": 124,
   "metadata": {
    "execution": {
     "iopub.execute_input": "2022-08-04T16:59:13.739837Z",
     "iopub.status.busy": "2022-08-04T16:59:13.739528Z",
     "iopub.status.idle": "2022-08-04T16:59:13.740664Z",
     "shell.execute_reply": "2022-08-04T16:59:13.740837Z"
    },
    "slideshow": {
     "slide_type": "fragment"
    }
   },
   "outputs": [],
   "source": [
    "@contextmanager\n",
    "def checkpoint(z3solver):\n",
    "    z3solver.push()\n",
    "    yield z3solver\n",
    "    z3solver.pop()"
   ]
  },
  {
   "cell_type": "markdown",
   "metadata": {
    "slideshow": {
     "slide_type": "subslide"
    }
   },
   "source": [
    "The `use_path()` function extracts constraints for a single function, applies it to our current solver (under a checkpoint), and returns the results if some solutions can be found.\n",
    "If solutions were found, we also make sure that we never reuse those solutions."
   ]
  },
  {
   "cell_type": "code",
   "execution_count": 125,
   "metadata": {
    "execution": {
     "iopub.execute_input": "2022-08-04T16:59:13.743965Z",
     "iopub.status.busy": "2022-08-04T16:59:13.743577Z",
     "iopub.status.idle": "2022-08-04T16:59:13.745052Z",
     "shell.execute_reply": "2022-08-04T16:59:13.745286Z"
    },
    "slideshow": {
     "slide_type": "subslide"
    }
   },
   "outputs": [],
   "source": [
    "class SimpleSymbolicFuzzer(SimpleSymbolicFuzzer):\n",
    "    def solve_path_constraint(self, path):\n",
    "        # re-initializing does not seem problematic.\n",
    "        # a = z3.Int('a').get_id() remains the same.\n",
    "        constraints = self.extract_constraints(path)\n",
    "        decl = define_symbolic_vars(self.used_variables, '')\n",
    "        exec(decl)\n",
    "\n",
    "        solutions = {}\n",
    "        with checkpoint(self.z3):\n",
    "            st = 'self.z3.add(%s)' % ', '.join(constraints)\n",
    "            eval(st)\n",
    "            if self.z3.check() != z3.sat:\n",
    "                return {}\n",
    "            m = self.z3.model()\n",
    "            solutions = {d.name(): m[d] for d in m.decls()}\n",
    "            my_args = {k: solutions.get(k, None) for k in self.fn_args}\n",
    "        predicate = 'z3.And(%s)' % ','.join(\n",
    "            [\"%s == %s\" % (k, v) for k, v in my_args.items()])\n",
    "        eval('self.z3.add(z3.Not(%s))' % predicate)\n",
    "        return my_args"
   ]
  },
  {
   "cell_type": "markdown",
   "metadata": {
    "slideshow": {
     "slide_type": "subslide"
    }
   },
   "source": [
    "We define `get_path()` that retrieves the current path and updates the path used."
   ]
  },
  {
   "cell_type": "code",
   "execution_count": 126,
   "metadata": {
    "execution": {
     "iopub.execute_input": "2022-08-04T16:59:13.747541Z",
     "iopub.status.busy": "2022-08-04T16:59:13.747243Z",
     "iopub.status.idle": "2022-08-04T16:59:13.748428Z",
     "shell.execute_reply": "2022-08-04T16:59:13.748651Z"
    },
    "slideshow": {
     "slide_type": "fragment"
    }
   },
   "outputs": [],
   "source": [
    "class SimpleSymbolicFuzzer(SimpleSymbolicFuzzer):\n",
    "    def get_next_path(self):\n",
    "        self.last_path -= 1\n",
    "        if self.last_path == -1:\n",
    "            self.last_path = len(self.paths) - 1\n",
    "        return self.paths[self.last_path]"
   ]
  },
  {
   "cell_type": "markdown",
   "metadata": {
    "slideshow": {
     "slide_type": "fragment"
    }
   },
   "source": [
    "The `fuzz()` method simply solves each path in order."
   ]
  },
  {
   "cell_type": "code",
   "execution_count": 127,
   "metadata": {
    "execution": {
     "iopub.execute_input": "2022-08-04T16:59:13.750773Z",
     "iopub.status.busy": "2022-08-04T16:59:13.750499Z",
     "iopub.status.idle": "2022-08-04T16:59:13.751560Z",
     "shell.execute_reply": "2022-08-04T16:59:13.751846Z"
    },
    "slideshow": {
     "slide_type": "subslide"
    }
   },
   "outputs": [],
   "source": [
    "class SimpleSymbolicFuzzer(SimpleSymbolicFuzzer):\n",
    "    def fuzz(self):\n",
    "        \"\"\"Produce one solution for each path.\n",
    "        Returns a mapping of variable names to (symbolic) Z3 values.\"\"\"\n",
    "        for i in range(self.max_tries):\n",
    "            res = self.solve_path_constraint(self.get_next_path())\n",
    "            if res:\n",
    "                return res\n",
    "\n",
    "        return {}"
   ]
  },
  {
   "cell_type": "markdown",
   "metadata": {
    "slideshow": {
     "slide_type": "fragment"
    }
   },
   "source": [
    "The fuzzer can be used as follows. Note that we need to convert the symbolic variables returned to Python numbers, using `as_long()`:"
   ]
  },
  {
   "cell_type": "code",
   "execution_count": 128,
   "metadata": {
    "execution": {
     "iopub.execute_input": "2022-08-04T16:59:13.754450Z",
     "iopub.status.busy": "2022-08-04T16:59:13.754107Z",
     "iopub.status.idle": "2022-08-04T16:59:13.772364Z",
     "shell.execute_reply": "2022-08-04T16:59:13.772621Z"
    },
    "slideshow": {
     "slide_type": "subslide"
    }
   },
   "outputs": [
    {
     "name": "stdout",
     "output_type": "stream",
     "text": [
      "{'a': 2, 'b': 3, 'c': 3} result: Isosceles\n",
      "{'a': 6, 'b': 4, 'c': 5} result: Scalene\n",
      "{'a': 8, 'b': 7, 'c': 8} result: Isosceles\n",
      "{'a': 9, 'b': 9, 'c': 10} result: Isosceles\n",
      "{'a': 11, 'b': 11, 'c': 11} result: Equilateral\n",
      "{'a': 13, 'b': 12, 'c': 12} result: Isosceles\n",
      "{'a': 16, 'b': 14, 'c': 15} result: Scalene\n",
      "{'a': 18, 'b': 17, 'c': 18} result: Isosceles\n",
      "{'a': 19, 'b': 19, 'c': 20} result: Isosceles\n"
     ]
    }
   ],
   "source": [
    "a, b, c = None, None, None\n",
    "symfz_ct = SimpleSymbolicFuzzer(check_triangle)\n",
    "for i in range(1, 10):\n",
    "    args = symfz_ct.fuzz()\n",
    "    res = check_triangle(args['a'].as_long(),\n",
    "                         args['b'].as_long(),\n",
    "                         args['c'].as_long())\n",
    "    print(args, \"result:\", res)"
   ]
  },
  {
   "cell_type": "markdown",
   "metadata": {
    "slideshow": {
     "slide_type": "subslide"
    }
   },
   "source": [
    "For symbolic fractions, we access their numerators and denominators:"
   ]
  },
  {
   "cell_type": "code",
   "execution_count": 129,
   "metadata": {
    "execution": {
     "iopub.execute_input": "2022-08-04T16:59:13.775569Z",
     "iopub.status.busy": "2022-08-04T16:59:13.775128Z",
     "iopub.status.idle": "2022-08-04T16:59:13.788241Z",
     "shell.execute_reply": "2022-08-04T16:59:13.788482Z"
    },
    "slideshow": {
     "slide_type": "subslide"
    }
   },
   "outputs": [
    {
     "name": "stdout",
     "output_type": "stream",
     "text": [
      "{'x': 0} result: 0.0\n",
      "{'x': -1/2} result: 0.5\n",
      "{'x': 1/2} result: 0.5\n",
      "{'x': -1/4} result: 0.25\n",
      "{'x': 3/2} result: 1.5\n",
      "{'x': -3/8} result: 0.375\n",
      "{'x': 5/2} result: 2.5\n",
      "{'x': -1/8} result: 0.125\n",
      "{'x': 2} result: 2.0\n"
     ]
    }
   ],
   "source": [
    "symfz_av = SimpleSymbolicFuzzer(abs_value)\n",
    "for i in range(1, 10):\n",
    "    args = symfz_av.fuzz()\n",
    "    abs_res = abs_value(args['x'].numerator_as_long() /\n",
    "                        args['x'].denominator_as_long())\n",
    "    print(args, \"result:\", abs_res)"
   ]
  },
  {
   "cell_type": "markdown",
   "metadata": {
    "slideshow": {
     "slide_type": "subslide"
    }
   },
   "source": [
    "The _SimpleSymbolicFuzzer_ seems to work well for the _simple_ programs we checked above."
   ]
  },
  {
   "cell_type": "markdown",
   "metadata": {
    "slideshow": {
     "slide_type": "subslide"
    }
   },
   "source": [
    "### Problems with the Simple Fuzzer\n",
    "\n",
    "As we mentioned earlier, the `SimpleSymbolicFuzzer` cannot yet deal with variable reassignments. Further, it also fails to account for any loops. For example, consider the following program."
   ]
  },
  {
   "cell_type": "code",
   "execution_count": 130,
   "metadata": {
    "execution": {
     "iopub.execute_input": "2022-08-04T16:59:13.790729Z",
     "iopub.status.busy": "2022-08-04T16:59:13.790439Z",
     "iopub.status.idle": "2022-08-04T16:59:13.791796Z",
     "shell.execute_reply": "2022-08-04T16:59:13.791974Z"
    },
    "slideshow": {
     "slide_type": "subslide"
    }
   },
   "outputs": [],
   "source": [
    "def gcd(a: int, b: int) -> int:\n",
    "    if a < b:\n",
    "        c: int = a  # type: ignore\n",
    "        a = b\n",
    "        b = c\n",
    "\n",
    "    while b != 0:\n",
    "        c: int = a  # type: ignore\n",
    "        a = b\n",
    "        b = c % b\n",
    "\n",
    "    return a"
   ]
  },
  {
   "cell_type": "code",
   "execution_count": 131,
   "metadata": {
    "execution": {
     "iopub.execute_input": "2022-08-04T16:59:13.798279Z",
     "iopub.status.busy": "2022-08-04T16:59:13.794625Z",
     "iopub.status.idle": "2022-08-04T16:59:14.099319Z",
     "shell.execute_reply": "2022-08-04T16:59:14.099677Z"
    },
    "slideshow": {
     "slide_type": "fragment"
    }
   },
   "outputs": [
    {
     "data": {
      "image/svg+xml": [
       "<?xml version=\"1.0\" encoding=\"UTF-8\" standalone=\"no\"?>\n",
       "<!DOCTYPE svg PUBLIC \"-//W3C//DTD SVG 1.1//EN\"\n",
       " \"http://www.w3.org/Graphics/SVG/1.1/DTD/svg11.dtd\">\n",
       "<!-- Generated by graphviz version 5.0.0 (20220707.1540)\n",
       " -->\n",
       "<!-- Pages: 1 -->\n",
       "<svg width=\"286pt\" height=\"672pt\"\n",
       " viewBox=\"0.00 0.00 285.54 672.00\" xmlns=\"http://www.w3.org/2000/svg\" xmlns:xlink=\"http://www.w3.org/1999/xlink\">\n",
       "<g id=\"graph0\" class=\"graph\" transform=\"scale(1 1) rotate(0) translate(4 668)\">\n",
       "<polygon fill=\"white\" stroke=\"transparent\" points=\"-4,4 -4,-668 281.54,-668 281.54,4 -4,4\"/>\n",
       "<!-- 1 -->\n",
       "<g id=\"node1\" class=\"node\">\n",
       "<title>1</title>\n",
       "<ellipse fill=\"none\" stroke=\"black\" cx=\"174.54\" cy=\"-642\" rx=\"74.18\" ry=\"18\"/>\n",
       "<ellipse fill=\"none\" stroke=\"black\" cx=\"174.54\" cy=\"-642\" rx=\"78.19\" ry=\"22\"/>\n",
       "<text text-anchor=\"middle\" x=\"174.54\" y=\"-638.3\" font-family=\"Times,serif\" font-size=\"14.00\">1: enter: gcd(a, b)</text>\n",
       "</g>\n",
       "<!-- 3 -->\n",
       "<g id=\"node4\" class=\"node\">\n",
       "<title>3</title>\n",
       "<polygon fill=\"none\" stroke=\"black\" points=\"174.54,-583 105.67,-565 174.54,-547 243.42,-565 174.54,-583\"/>\n",
       "<text text-anchor=\"middle\" x=\"174.54\" y=\"-561.3\" font-family=\"Times,serif\" font-size=\"14.00\">2: if: a &lt; b</text>\n",
       "</g>\n",
       "<!-- 1&#45;&gt;3 -->\n",
       "<g id=\"edge2\" class=\"edge\">\n",
       "<title>1&#45;&gt;3</title>\n",
       "<path fill=\"none\" stroke=\"black\" d=\"M174.54,-619.71C174.54,-611.46 174.54,-601.91 174.54,-593.17\"/>\n",
       "<polygon fill=\"black\" stroke=\"black\" points=\"178.04,-593.06 174.54,-583.06 171.04,-593.06 178.04,-593.06\"/>\n",
       "</g>\n",
       "<!-- 2 -->\n",
       "<g id=\"node2\" class=\"node\">\n",
       "<title>2</title>\n",
       "<ellipse fill=\"none\" stroke=\"black\" cx=\"73.54\" cy=\"-95\" rx=\"69.59\" ry=\"18\"/>\n",
       "<ellipse fill=\"none\" stroke=\"black\" cx=\"73.54\" cy=\"-95\" rx=\"73.59\" ry=\"22\"/>\n",
       "<text text-anchor=\"middle\" x=\"73.54\" y=\"-91.3\" font-family=\"Times,serif\" font-size=\"14.00\">1: exit: gcd(a, b)</text>\n",
       "</g>\n",
       "<!-- 11 -->\n",
       "<g id=\"node3\" class=\"node\">\n",
       "<title>11</title>\n",
       "<polygon fill=\"none\" stroke=\"black\" points=\"113.54,-190 33.54,-190 33.54,-154 113.54,-154 113.54,-190\"/>\n",
       "<text text-anchor=\"middle\" x=\"73.54\" y=\"-168.3\" font-family=\"Times,serif\" font-size=\"14.00\">12: return a</text>\n",
       "</g>\n",
       "<!-- 11&#45;&gt;2 -->\n",
       "<g id=\"edge1\" class=\"edge\">\n",
       "<title>11&#45;&gt;2</title>\n",
       "<path fill=\"none\" stroke=\"black\" d=\"M73.54,-153.98C73.54,-146.15 73.54,-136.61 73.54,-127.54\"/>\n",
       "<polygon fill=\"black\" stroke=\"black\" points=\"77.04,-127.24 73.54,-117.24 70.04,-127.24 77.04,-127.24\"/>\n",
       "</g>\n",
       "<!-- 4 -->\n",
       "<g id=\"node5\" class=\"node\">\n",
       "<title>4</title>\n",
       "<ellipse fill=\"none\" stroke=\"black\" cx=\"134.54\" cy=\"-478\" rx=\"51.99\" ry=\"18\"/>\n",
       "<text text-anchor=\"middle\" x=\"134.54\" y=\"-474.3\" font-family=\"Times,serif\" font-size=\"14.00\">3: c: int = a</text>\n",
       "</g>\n",
       "<!-- 3&#45;&gt;4 -->\n",
       "<g id=\"edge3\" class=\"edge\">\n",
       "<title>3&#45;&gt;4</title>\n",
       "<path fill=\"none\" stroke=\"blue\" d=\"M167.39,-548.8C161.7,-536.7 153.59,-519.47 146.85,-505.16\"/>\n",
       "<polygon fill=\"blue\" stroke=\"blue\" points=\"149.88,-503.37 142.46,-495.81 143.55,-506.35 149.88,-503.37\"/>\n",
       "<text text-anchor=\"middle\" x=\"162.04\" y=\"-517.8\" font-family=\"Times,serif\" font-size=\"14.00\">T</text>\n",
       "</g>\n",
       "<!-- 7 -->\n",
       "<g id=\"node8\" class=\"node\">\n",
       "<title>7</title>\n",
       "<polygon fill=\"none\" stroke=\"black\" points=\"183.54,-277 90.04,-259 183.54,-241 277.05,-259 183.54,-277\"/>\n",
       "<text text-anchor=\"middle\" x=\"183.54\" y=\"-255.3\" font-family=\"Times,serif\" font-size=\"14.00\">7: while: b != 0</text>\n",
       "</g>\n",
       "<!-- 3&#45;&gt;7 -->\n",
       "<g id=\"edge7\" class=\"edge\">\n",
       "<title>3&#45;&gt;7</title>\n",
       "<path fill=\"none\" stroke=\"red\" d=\"M185.9,-549.91C197.72,-533.78 214.54,-506.07 214.54,-479 214.54,-479 214.54,-479 214.54,-331 214.54,-314.33 207.28,-297.16 199.78,-283.89\"/>\n",
       "<polygon fill=\"red\" stroke=\"red\" points=\"202.56,-281.71 194.39,-274.97 196.57,-285.33 202.56,-281.71\"/>\n",
       "<text text-anchor=\"middle\" x=\"218.54\" y=\"-401.3\" font-family=\"Times,serif\" font-size=\"14.00\">F</text>\n",
       "</g>\n",
       "<!-- 5 -->\n",
       "<g id=\"node6\" class=\"node\">\n",
       "<title>5</title>\n",
       "<polygon fill=\"none\" stroke=\"black\" points=\"175.04,-423 116.04,-423 116.04,-387 175.04,-387 175.04,-423\"/>\n",
       "<text text-anchor=\"middle\" x=\"145.54\" y=\"-401.3\" font-family=\"Times,serif\" font-size=\"14.00\">4: a = b</text>\n",
       "</g>\n",
       "<!-- 4&#45;&gt;5 -->\n",
       "<g id=\"edge4\" class=\"edge\">\n",
       "<title>4&#45;&gt;5</title>\n",
       "<path fill=\"none\" stroke=\"black\" d=\"M137.21,-459.81C138.45,-451.79 139.96,-442.05 141.35,-433.07\"/>\n",
       "<polygon fill=\"black\" stroke=\"black\" points=\"144.83,-433.45 142.91,-423.03 137.92,-432.38 144.83,-433.45\"/>\n",
       "</g>\n",
       "<!-- 6 -->\n",
       "<g id=\"node7\" class=\"node\">\n",
       "<title>6</title>\n",
       "<polygon fill=\"none\" stroke=\"black\" points=\"183.04,-350 124.04,-350 124.04,-314 183.04,-314 183.04,-350\"/>\n",
       "<text text-anchor=\"middle\" x=\"153.54\" y=\"-328.3\" font-family=\"Times,serif\" font-size=\"14.00\">5: b = c</text>\n",
       "</g>\n",
       "<!-- 5&#45;&gt;6 -->\n",
       "<g id=\"edge5\" class=\"edge\">\n",
       "<title>5&#45;&gt;6</title>\n",
       "<path fill=\"none\" stroke=\"black\" d=\"M147.48,-386.81C148.38,-378.79 149.48,-369.05 150.49,-360.07\"/>\n",
       "<polygon fill=\"black\" stroke=\"black\" points=\"153.98,-360.36 151.63,-350.03 147.03,-359.57 153.98,-360.36\"/>\n",
       "</g>\n",
       "<!-- 6&#45;&gt;7 -->\n",
       "<g id=\"edge6\" class=\"edge\">\n",
       "<title>6&#45;&gt;7</title>\n",
       "<path fill=\"none\" stroke=\"black\" d=\"M160.81,-313.81C164.41,-305.28 168.83,-294.81 172.82,-285.38\"/>\n",
       "<polygon fill=\"black\" stroke=\"black\" points=\"176.09,-286.63 176.76,-276.06 169.64,-283.9 176.09,-286.63\"/>\n",
       "</g>\n",
       "<!-- 7&#45;&gt;11 -->\n",
       "<g id=\"edge12\" class=\"edge\">\n",
       "<title>7&#45;&gt;11</title>\n",
       "<path fill=\"none\" stroke=\"red\" d=\"M165.87,-244.34C149.18,-231.45 123.82,-211.85 103.9,-196.45\"/>\n",
       "<polygon fill=\"red\" stroke=\"red\" points=\"105.78,-193.49 95.73,-190.15 101.5,-199.03 105.78,-193.49\"/>\n",
       "<text text-anchor=\"middle\" x=\"139.54\" y=\"-211.8\" font-family=\"Times,serif\" font-size=\"14.00\">F</text>\n",
       "</g>\n",
       "<!-- 8 -->\n",
       "<g id=\"node10\" class=\"node\">\n",
       "<title>8</title>\n",
       "<ellipse fill=\"none\" stroke=\"black\" cx=\"183.54\" cy=\"-172\" rx=\"51.99\" ry=\"18\"/>\n",
       "<text text-anchor=\"middle\" x=\"183.54\" y=\"-168.3\" font-family=\"Times,serif\" font-size=\"14.00\">8: c: int = a</text>\n",
       "</g>\n",
       "<!-- 7&#45;&gt;8 -->\n",
       "<g id=\"edge9\" class=\"edge\">\n",
       "<title>7&#45;&gt;8</title>\n",
       "<path fill=\"none\" stroke=\"blue\" d=\"M183.54,-240.8C183.54,-229.16 183.54,-213.55 183.54,-200.24\"/>\n",
       "<polygon fill=\"blue\" stroke=\"blue\" points=\"187.04,-200.18 183.54,-190.18 180.04,-200.18 187.04,-200.18\"/>\n",
       "<text text-anchor=\"middle\" x=\"188.04\" y=\"-211.8\" font-family=\"Times,serif\" font-size=\"14.00\">T</text>\n",
       "</g>\n",
       "<!-- 10 -->\n",
       "<g id=\"node9\" class=\"node\">\n",
       "<title>10</title>\n",
       "<polygon fill=\"none\" stroke=\"black\" points=\"277.54,-36 185.54,-36 185.54,0 277.54,0 277.54,-36\"/>\n",
       "<text text-anchor=\"middle\" x=\"231.54\" y=\"-14.3\" font-family=\"Times,serif\" font-size=\"14.00\">10: b = c % b</text>\n",
       "</g>\n",
       "<!-- 10&#45;&gt;7 -->\n",
       "<g id=\"edge8\" class=\"edge\">\n",
       "<title>10&#45;&gt;7</title>\n",
       "<path fill=\"none\" stroke=\"black\" d=\"M237.56,-36.2C247.63,-67.84 264.87,-136.89 244.54,-190 237.39,-208.7 222.46,-225.49 209.16,-237.71\"/>\n",
       "<polygon fill=\"black\" stroke=\"black\" points=\"206.8,-235.12 201.59,-244.35 211.41,-240.38 206.8,-235.12\"/>\n",
       "</g>\n",
       "<!-- 9 -->\n",
       "<g id=\"node11\" class=\"node\">\n",
       "<title>9</title>\n",
       "<polygon fill=\"none\" stroke=\"black\" points=\"230.04,-113 171.04,-113 171.04,-77 230.04,-77 230.04,-113\"/>\n",
       "<text text-anchor=\"middle\" x=\"200.54\" y=\"-91.3\" font-family=\"Times,serif\" font-size=\"14.00\">9: a = b</text>\n",
       "</g>\n",
       "<!-- 8&#45;&gt;9 -->\n",
       "<g id=\"edge10\" class=\"edge\">\n",
       "<title>8&#45;&gt;9</title>\n",
       "<path fill=\"none\" stroke=\"black\" d=\"M187.4,-153.98C189.47,-144.84 192.08,-133.36 194.42,-123.03\"/>\n",
       "<polygon fill=\"black\" stroke=\"black\" points=\"197.85,-123.74 196.64,-113.21 191.02,-122.19 197.85,-123.74\"/>\n",
       "</g>\n",
       "<!-- 9&#45;&gt;10 -->\n",
       "<g id=\"edge11\" class=\"edge\">\n",
       "<title>9&#45;&gt;10</title>\n",
       "<path fill=\"none\" stroke=\"black\" d=\"M207.58,-76.98C211.4,-67.75 216.2,-56.12 220.51,-45.71\"/>\n",
       "<polygon fill=\"black\" stroke=\"black\" points=\"223.84,-46.79 224.43,-36.21 217.38,-44.12 223.84,-46.79\"/>\n",
       "</g>\n",
       "</g>\n",
       "</svg>\n"
      ],
      "text/plain": [
       "<graphviz.graphs.Digraph at 0x1085fd000>"
      ]
     },
     "execution_count": 131,
     "metadata": {},
     "output_type": "execute_result"
    }
   ],
   "source": [
    "show_cfg(gcd)"
   ]
  },
  {
   "cell_type": "code",
   "execution_count": 132,
   "metadata": {
    "execution": {
     "iopub.execute_input": "2022-08-04T16:59:14.101900Z",
     "iopub.status.busy": "2022-08-04T16:59:14.101525Z",
     "iopub.status.idle": "2022-08-04T16:59:14.102916Z",
     "shell.execute_reply": "2022-08-04T16:59:14.103276Z"
    },
    "slideshow": {
     "slide_type": "skip"
    }
   },
   "outputs": [],
   "source": [
    "from ExpectError import ExpectError"
   ]
  },
  {
   "cell_type": "code",
   "execution_count": 133,
   "metadata": {
    "execution": {
     "iopub.execute_input": "2022-08-04T16:59:14.109250Z",
     "iopub.status.busy": "2022-08-04T16:59:14.106482Z",
     "iopub.status.idle": "2022-08-04T16:59:14.110689Z",
     "shell.execute_reply": "2022-08-04T16:59:14.111031Z"
    },
    "slideshow": {
     "slide_type": "subslide"
    }
   },
   "outputs": [
    {
     "name": "stderr",
     "output_type": "stream",
     "text": [
      "Traceback (most recent call last):\n",
      "  File \"/var/folders/n2/xd9445p97rb3xh7m1dfx8_4h0006ts/T/ipykernel_26741/3731434224.py\", line 2, in <module>\n",
      "    symfz_gcd = SimpleSymbolicFuzzer(gcd, max_depth=1000, max_iter=10)\n",
      "  File \"/var/folders/n2/xd9445p97rb3xh7m1dfx8_4h0006ts/T/ipykernel_26741/2089833100.py\", line 26, in __init__\n",
      "    self.process()\n",
      "  File \"/var/folders/n2/xd9445p97rb3xh7m1dfx8_4h0006ts/T/ipykernel_26741/4234366425.py\", line 3, in process\n",
      "    self.paths = self.get_all_paths(self.fnenter)\n",
      "  File \"/var/folders/n2/xd9445p97rb3xh7m1dfx8_4h0006ts/T/ipykernel_26741/228300930.py\", line 10, in get_all_paths\n",
      "    child_paths = self.get_all_paths(child, depth + 1)\n",
      "  File \"/var/folders/n2/xd9445p97rb3xh7m1dfx8_4h0006ts/T/ipykernel_26741/228300930.py\", line 10, in get_all_paths\n",
      "    child_paths = self.get_all_paths(child, depth + 1)\n",
      "  File \"/var/folders/n2/xd9445p97rb3xh7m1dfx8_4h0006ts/T/ipykernel_26741/228300930.py\", line 10, in get_all_paths\n",
      "    child_paths = self.get_all_paths(child, depth + 1)\n",
      "  [Previous line repeated 998 more times]\n",
      "  File \"/var/folders/n2/xd9445p97rb3xh7m1dfx8_4h0006ts/T/ipykernel_26741/228300930.py\", line 4, in get_all_paths\n",
      "    raise Exception('Maximum depth exceeded')\n",
      "Exception: Maximum depth exceeded (expected)\n"
     ]
    }
   ],
   "source": [
    "with ExpectError():\n",
    "    symfz_gcd = SimpleSymbolicFuzzer(gcd, max_depth=1000, max_iter=10)\n",
    "    for i in range(1, 100):\n",
    "        r = symfz_gcd.fuzz()\n",
    "        v = gcd(r['a'].as_long(), r['b'].as_long())\n",
    "        print(r, v)"
   ]
  },
  {
   "cell_type": "markdown",
   "metadata": {
    "slideshow": {
     "slide_type": "subslide"
    }
   },
   "source": [
    "The problem here is that our *SimpleSymbolicFuzzer* has no concept of loops and variable reassignments. We will see how to fix this shortcoming next."
   ]
  },
  {
   "cell_type": "markdown",
   "metadata": {
    "slideshow": {
     "slide_type": "slide"
    }
   },
   "source": [
    "## Advanced Symbolic Fuzzing"
   ]
  },
  {
   "cell_type": "markdown",
   "metadata": {
    "slideshow": {
     "slide_type": "fragment"
    }
   },
   "source": [
    "We next define `SymbolicFuzzer` that can deal with reassignments and *unrolling of loops*."
   ]
  },
  {
   "cell_type": "code",
   "execution_count": 134,
   "metadata": {
    "execution": {
     "iopub.execute_input": "2022-08-04T16:59:14.113655Z",
     "iopub.status.busy": "2022-08-04T16:59:14.113351Z",
     "iopub.status.idle": "2022-08-04T16:59:14.114805Z",
     "shell.execute_reply": "2022-08-04T16:59:14.115046Z"
    },
    "slideshow": {
     "slide_type": "fragment"
    }
   },
   "outputs": [],
   "source": [
    "class SymbolicFuzzer(SimpleSymbolicFuzzer):\n",
    "    \"\"\"Symbolic fuzzing with reassignments and loop unrolling\"\"\"\n",
    "\n",
    "    def options(self, kwargs):\n",
    "        super().options(kwargs)"
   ]
  },
  {
   "cell_type": "markdown",
   "metadata": {
    "slideshow": {
     "slide_type": "fragment"
    }
   },
   "source": [
    "Once we allow reassignments and loop unrolling, we have to deal with what to call the new variables generated. This is what we will tackle next."
   ]
  },
  {
   "cell_type": "markdown",
   "metadata": {
    "slideshow": {
     "slide_type": "subslide"
    }
   },
   "source": [
    "### Dealing with Reassignments\n",
    "\n",
    "We want to rename all variables present in an expression such that the variables are annotated with their usage count. This makes it possible to determine variable reassignments.  To do that, we define the `rename_variables()` function that, when given an `env` that contains the current usage index of different variables, renames the variables in the passed in AST node with the annotations, and returns a copy with the modifications. Note that we can't use [NodeTransformer](https://docs.python.org/3/library/ast.html#ast.NodeTransformer) here as it would modify the AST.\n",
    "\n",
    "That is, if the expression is `env[v] == 1`, `v` is renamed to `_v_1`"
   ]
  },
  {
   "cell_type": "code",
   "execution_count": 135,
   "metadata": {
    "execution": {
     "iopub.execute_input": "2022-08-04T16:59:14.120029Z",
     "iopub.status.busy": "2022-08-04T16:59:14.119678Z",
     "iopub.status.idle": "2022-08-04T16:59:14.120963Z",
     "shell.execute_reply": "2022-08-04T16:59:14.121208Z"
    },
    "slideshow": {
     "slide_type": "subslide"
    }
   },
   "outputs": [],
   "source": [
    "def rename_variables(astnode, env):\n",
    "    if isinstance(astnode, ast.BoolOp):\n",
    "        fn = 'z3.And' if isinstance(astnode.op, ast.And) else 'z3.Or'\n",
    "        return ast.Call(\n",
    "            ast.Name(fn, None),\n",
    "            [rename_variables(i, env) for i in astnode.values], [])\n",
    "    elif isinstance(astnode, ast.BinOp):\n",
    "        return ast.BinOp(\n",
    "            rename_variables(astnode.left, env), astnode.op,\n",
    "            rename_variables(astnode.right, env))\n",
    "    elif isinstance(astnode, ast.UnaryOp):\n",
    "        if isinstance(astnode.op, ast.Not):\n",
    "            return ast.Call(\n",
    "                ast.Name('z3.Not', None),\n",
    "                [rename_variables(astnode.operand, env)], [])\n",
    "        else:\n",
    "            return ast.UnaryOp(astnode.op,\n",
    "                               rename_variables(astnode.operand, env))\n",
    "    elif isinstance(astnode, ast.Call):\n",
    "        return ast.Call(astnode.func,\n",
    "                        [rename_variables(i, env) for i in astnode.args],\n",
    "                        astnode.keywords)\n",
    "    elif isinstance(astnode, ast.Compare):\n",
    "        return ast.Compare(\n",
    "            rename_variables(astnode.left, env), astnode.ops,\n",
    "            [rename_variables(i, env) for i in astnode.comparators])\n",
    "    elif isinstance(astnode, ast.Name):\n",
    "        if astnode.id not in env:\n",
    "            env[astnode.id] = 0\n",
    "        num = env[astnode.id]\n",
    "        return ast.Name('_%s_%d' % (astnode.id, num), astnode.ctx)\n",
    "    elif isinstance(astnode, ast.Return):\n",
    "        return ast.Return(rename_variables(astnode.value, env))\n",
    "    else:\n",
    "        return astnode"
   ]
  },
  {
   "cell_type": "markdown",
   "metadata": {
    "slideshow": {
     "slide_type": "subslide"
    }
   },
   "source": [
    "To verify that it works as intended, we start with an environment."
   ]
  },
  {
   "cell_type": "code",
   "execution_count": 136,
   "metadata": {
    "execution": {
     "iopub.execute_input": "2022-08-04T16:59:14.122977Z",
     "iopub.status.busy": "2022-08-04T16:59:14.122693Z",
     "iopub.status.idle": "2022-08-04T16:59:14.124037Z",
     "shell.execute_reply": "2022-08-04T16:59:14.124209Z"
    },
    "slideshow": {
     "slide_type": "fragment"
    }
   },
   "outputs": [],
   "source": [
    "env = {'x': 1}"
   ]
  },
  {
   "cell_type": "code",
   "execution_count": 137,
   "metadata": {
    "execution": {
     "iopub.execute_input": "2022-08-04T16:59:14.126190Z",
     "iopub.status.busy": "2022-08-04T16:59:14.125841Z",
     "iopub.status.idle": "2022-08-04T16:59:14.127360Z",
     "shell.execute_reply": "2022-08-04T16:59:14.127669Z"
    },
    "slideshow": {
     "slide_type": "fragment"
    }
   },
   "outputs": [
    {
     "data": {
      "text/plain": [
       "ast.BoolOp"
      ]
     },
     "execution_count": 137,
     "metadata": {},
     "output_type": "execute_result"
    }
   ],
   "source": [
    "ba = get_expression('x == 1 and y == 2')\n",
    "type(ba)"
   ]
  },
  {
   "cell_type": "code",
   "execution_count": 138,
   "metadata": {
    "execution": {
     "iopub.execute_input": "2022-08-04T16:59:14.129832Z",
     "iopub.status.busy": "2022-08-04T16:59:14.129443Z",
     "iopub.status.idle": "2022-08-04T16:59:14.130728Z",
     "shell.execute_reply": "2022-08-04T16:59:14.130966Z"
    },
    "slideshow": {
     "slide_type": "fragment"
    }
   },
   "outputs": [],
   "source": [
    "assert to_src(rename_variables(ba, env)) == 'z3.And(_x_1 == 1, _y_0 == 2)'"
   ]
  },
  {
   "cell_type": "code",
   "execution_count": 139,
   "metadata": {
    "execution": {
     "iopub.execute_input": "2022-08-04T16:59:14.132943Z",
     "iopub.status.busy": "2022-08-04T16:59:14.132656Z",
     "iopub.status.idle": "2022-08-04T16:59:14.134026Z",
     "shell.execute_reply": "2022-08-04T16:59:14.134251Z"
    },
    "slideshow": {
     "slide_type": "fragment"
    }
   },
   "outputs": [
    {
     "data": {
      "text/plain": [
       "ast.Or"
      ]
     },
     "execution_count": 139,
     "metadata": {},
     "output_type": "execute_result"
    }
   ],
   "source": [
    "bo = get_expression('x == 1 or y == 2')\n",
    "type(bo.op)"
   ]
  },
  {
   "cell_type": "code",
   "execution_count": 140,
   "metadata": {
    "execution": {
     "iopub.execute_input": "2022-08-04T16:59:14.136111Z",
     "iopub.status.busy": "2022-08-04T16:59:14.135778Z",
     "iopub.status.idle": "2022-08-04T16:59:14.137427Z",
     "shell.execute_reply": "2022-08-04T16:59:14.137105Z"
    },
    "slideshow": {
     "slide_type": "fragment"
    }
   },
   "outputs": [],
   "source": [
    "assert to_src(rename_variables(bo, env)) == 'z3.Or(_x_1 == 1, _y_0 == 2)'"
   ]
  },
  {
   "cell_type": "code",
   "execution_count": 141,
   "metadata": {
    "execution": {
     "iopub.execute_input": "2022-08-04T16:59:14.139384Z",
     "iopub.status.busy": "2022-08-04T16:59:14.139055Z",
     "iopub.status.idle": "2022-08-04T16:59:14.140394Z",
     "shell.execute_reply": "2022-08-04T16:59:14.140558Z"
    },
    "slideshow": {
     "slide_type": "fragment"
    }
   },
   "outputs": [
    {
     "data": {
      "text/plain": [
       "ast.BinOp"
      ]
     },
     "execution_count": 141,
     "metadata": {},
     "output_type": "execute_result"
    }
   ],
   "source": [
    "b = get_expression('x + y')\n",
    "type(b)"
   ]
  },
  {
   "cell_type": "code",
   "execution_count": 142,
   "metadata": {
    "execution": {
     "iopub.execute_input": "2022-08-04T16:59:14.142358Z",
     "iopub.status.busy": "2022-08-04T16:59:14.142072Z",
     "iopub.status.idle": "2022-08-04T16:59:14.143444Z",
     "shell.execute_reply": "2022-08-04T16:59:14.143247Z"
    },
    "slideshow": {
     "slide_type": "fragment"
    }
   },
   "outputs": [],
   "source": [
    "assert to_src(rename_variables(b, env)) == '_x_1 + _y_0'"
   ]
  },
  {
   "cell_type": "code",
   "execution_count": 143,
   "metadata": {
    "execution": {
     "iopub.execute_input": "2022-08-04T16:59:14.145837Z",
     "iopub.status.busy": "2022-08-04T16:59:14.145311Z",
     "iopub.status.idle": "2022-08-04T16:59:14.147064Z",
     "shell.execute_reply": "2022-08-04T16:59:14.147249Z"
    },
    "slideshow": {
     "slide_type": "subslide"
    }
   },
   "outputs": [
    {
     "data": {
      "text/plain": [
       "ast.UnaryOp"
      ]
     },
     "execution_count": 143,
     "metadata": {},
     "output_type": "execute_result"
    }
   ],
   "source": [
    "u = get_expression('-y')\n",
    "type(u)"
   ]
  },
  {
   "cell_type": "code",
   "execution_count": 144,
   "metadata": {
    "execution": {
     "iopub.execute_input": "2022-08-04T16:59:14.148967Z",
     "iopub.status.busy": "2022-08-04T16:59:14.148696Z",
     "iopub.status.idle": "2022-08-04T16:59:14.150116Z",
     "shell.execute_reply": "2022-08-04T16:59:14.149933Z"
    },
    "slideshow": {
     "slide_type": "fragment"
    }
   },
   "outputs": [],
   "source": [
    "assert to_src(rename_variables(u, env)) == '-_y_0'"
   ]
  },
  {
   "cell_type": "code",
   "execution_count": 145,
   "metadata": {
    "execution": {
     "iopub.execute_input": "2022-08-04T16:59:14.151916Z",
     "iopub.status.busy": "2022-08-04T16:59:14.151591Z",
     "iopub.status.idle": "2022-08-04T16:59:14.153408Z",
     "shell.execute_reply": "2022-08-04T16:59:14.153217Z"
    },
    "slideshow": {
     "slide_type": "fragment"
    }
   },
   "outputs": [
    {
     "data": {
      "text/plain": [
       "ast.Not"
      ]
     },
     "execution_count": 145,
     "metadata": {},
     "output_type": "execute_result"
    }
   ],
   "source": [
    "un = get_expression('not y')\n",
    "type(un.op)"
   ]
  },
  {
   "cell_type": "code",
   "execution_count": 146,
   "metadata": {
    "execution": {
     "iopub.execute_input": "2022-08-04T16:59:14.155189Z",
     "iopub.status.busy": "2022-08-04T16:59:14.154835Z",
     "iopub.status.idle": "2022-08-04T16:59:14.156167Z",
     "shell.execute_reply": "2022-08-04T16:59:14.156339Z"
    },
    "slideshow": {
     "slide_type": "fragment"
    }
   },
   "outputs": [],
   "source": [
    "assert to_src(rename_variables(un, env)) == 'z3.Not(_y_0)'"
   ]
  },
  {
   "cell_type": "code",
   "execution_count": 147,
   "metadata": {
    "execution": {
     "iopub.execute_input": "2022-08-04T16:59:14.158096Z",
     "iopub.status.busy": "2022-08-04T16:59:14.157759Z",
     "iopub.status.idle": "2022-08-04T16:59:14.159418Z",
     "shell.execute_reply": "2022-08-04T16:59:14.159598Z"
    },
    "slideshow": {
     "slide_type": "fragment"
    }
   },
   "outputs": [
    {
     "data": {
      "text/plain": [
       "ast.Compare"
      ]
     },
     "execution_count": 147,
     "metadata": {},
     "output_type": "execute_result"
    }
   ],
   "source": [
    "c = get_expression('x == y')\n",
    "type(c)"
   ]
  },
  {
   "cell_type": "code",
   "execution_count": 148,
   "metadata": {
    "execution": {
     "iopub.execute_input": "2022-08-04T16:59:14.161379Z",
     "iopub.status.busy": "2022-08-04T16:59:14.161083Z",
     "iopub.status.idle": "2022-08-04T16:59:14.162597Z",
     "shell.execute_reply": "2022-08-04T16:59:14.162789Z"
    },
    "slideshow": {
     "slide_type": "fragment"
    }
   },
   "outputs": [],
   "source": [
    "assert to_src(rename_variables(c, env)) == '_x_1 == _y_0'"
   ]
  },
  {
   "cell_type": "code",
   "execution_count": 149,
   "metadata": {
    "execution": {
     "iopub.execute_input": "2022-08-04T16:59:14.164614Z",
     "iopub.status.busy": "2022-08-04T16:59:14.164306Z",
     "iopub.status.idle": "2022-08-04T16:59:14.165851Z",
     "shell.execute_reply": "2022-08-04T16:59:14.166029Z"
    },
    "slideshow": {
     "slide_type": "fragment"
    }
   },
   "outputs": [
    {
     "data": {
      "text/plain": [
       "ast.Call"
      ]
     },
     "execution_count": 149,
     "metadata": {},
     "output_type": "execute_result"
    }
   ],
   "source": [
    "f = get_expression('fn(x,y)')\n",
    "type(f)"
   ]
  },
  {
   "cell_type": "code",
   "execution_count": 150,
   "metadata": {
    "execution": {
     "iopub.execute_input": "2022-08-04T16:59:14.167639Z",
     "iopub.status.busy": "2022-08-04T16:59:14.167337Z",
     "iopub.status.idle": "2022-08-04T16:59:14.168599Z",
     "shell.execute_reply": "2022-08-04T16:59:14.168775Z"
    },
    "slideshow": {
     "slide_type": "subslide"
    }
   },
   "outputs": [],
   "source": [
    "assert to_src(rename_variables(f, env)) == 'fn(_x_1, _y_0)'"
   ]
  },
  {
   "cell_type": "code",
   "execution_count": 151,
   "metadata": {
    "execution": {
     "iopub.execute_input": "2022-08-04T16:59:14.170458Z",
     "iopub.status.busy": "2022-08-04T16:59:14.170168Z",
     "iopub.status.idle": "2022-08-04T16:59:14.171588Z",
     "shell.execute_reply": "2022-08-04T16:59:14.171761Z"
    },
    "slideshow": {
     "slide_type": "fragment"
    }
   },
   "outputs": [
    {
     "data": {
      "text/plain": [
       "{'x': 1, 'y': 0}"
      ]
     },
     "execution_count": 151,
     "metadata": {},
     "output_type": "execute_result"
    }
   ],
   "source": [
    "env"
   ]
  },
  {
   "cell_type": "markdown",
   "metadata": {
    "slideshow": {
     "slide_type": "fragment"
    }
   },
   "source": [
    "Next, we want to process the CFG, and correctly transform the paths."
   ]
  },
  {
   "cell_type": "markdown",
   "metadata": {
    "slideshow": {
     "slide_type": "subslide"
    }
   },
   "source": [
    "### Tracking Assignments\n",
    "\n",
    "For keeping track of assignments in the CFG, We define a data structure `PNode` that stores the current CFG node."
   ]
  },
  {
   "cell_type": "code",
   "execution_count": 152,
   "metadata": {
    "execution": {
     "iopub.execute_input": "2022-08-04T16:59:14.174179Z",
     "iopub.status.busy": "2022-08-04T16:59:14.173846Z",
     "iopub.status.idle": "2022-08-04T16:59:14.175178Z",
     "shell.execute_reply": "2022-08-04T16:59:14.175366Z"
    },
    "slideshow": {
     "slide_type": "fragment"
    }
   },
   "outputs": [],
   "source": [
    "class PNode:\n",
    "    def __init__(self, idx, cfgnode, parent=None, order=0, seen=None):\n",
    "        self.seen = {} if seen is None else seen\n",
    "        self.max_iter = MAX_ITER\n",
    "        self.idx, self.cfgnode, self.parent, self.order = idx, cfgnode, parent, order\n",
    "\n",
    "    def __repr__(self):\n",
    "        return \"PNode:%d[%s order:%d]\" % (self.idx, str(self.cfgnode),\n",
    "                                          self.order)"
   ]
  },
  {
   "cell_type": "markdown",
   "metadata": {
    "slideshow": {
     "slide_type": "fragment"
    }
   },
   "source": [
    "Defining a new `PNode` is done as follows."
   ]
  },
  {
   "cell_type": "code",
   "execution_count": 153,
   "metadata": {
    "execution": {
     "iopub.execute_input": "2022-08-04T16:59:14.178105Z",
     "iopub.status.busy": "2022-08-04T16:59:14.177806Z",
     "iopub.status.idle": "2022-08-04T16:59:14.179574Z",
     "shell.execute_reply": "2022-08-04T16:59:14.179783Z"
    },
    "slideshow": {
     "slide_type": "subslide"
    }
   },
   "outputs": [],
   "source": [
    "cfg = PyCFG()\n",
    "cfg.gen_cfg(inspect.getsource(gcd))\n",
    "gcd_fnenter, _ = cfg.functions['gcd']"
   ]
  },
  {
   "cell_type": "code",
   "execution_count": 154,
   "metadata": {
    "execution": {
     "iopub.execute_input": "2022-08-04T16:59:14.182059Z",
     "iopub.status.busy": "2022-08-04T16:59:14.181712Z",
     "iopub.status.idle": "2022-08-04T16:59:14.183358Z",
     "shell.execute_reply": "2022-08-04T16:59:14.183547Z"
    },
    "slideshow": {
     "slide_type": "fragment"
    }
   },
   "outputs": [
    {
     "data": {
      "text/plain": [
       "PNode:0[id:27 line[1] parents: [] : enter: gcd(a, b) order:0]"
      ]
     },
     "execution_count": 154,
     "metadata": {},
     "output_type": "execute_result"
    }
   ],
   "source": [
    "PNode(0, gcd_fnenter)"
   ]
  },
  {
   "cell_type": "markdown",
   "metadata": {
    "slideshow": {
     "slide_type": "fragment"
    }
   },
   "source": [
    "The `copy()` method generates a copy for the child's keep, indicating which path was taken (with `order` of the child)."
   ]
  },
  {
   "cell_type": "code",
   "execution_count": 155,
   "metadata": {
    "execution": {
     "iopub.execute_input": "2022-08-04T16:59:14.185748Z",
     "iopub.status.busy": "2022-08-04T16:59:14.185397Z",
     "iopub.status.idle": "2022-08-04T16:59:14.186546Z",
     "shell.execute_reply": "2022-08-04T16:59:14.186798Z"
    },
    "slideshow": {
     "slide_type": "fragment"
    }
   },
   "outputs": [],
   "source": [
    "class PNode(PNode):\n",
    "    def copy(self, order):\n",
    "        p = PNode(self.idx, self.cfgnode, self.parent, order, self.seen)\n",
    "        assert p.order == order\n",
    "        return p"
   ]
  },
  {
   "cell_type": "markdown",
   "metadata": {
    "slideshow": {
     "slide_type": "fragment"
    }
   },
   "source": [
    "Using the copy operation."
   ]
  },
  {
   "cell_type": "code",
   "execution_count": 156,
   "metadata": {
    "execution": {
     "iopub.execute_input": "2022-08-04T16:59:14.188991Z",
     "iopub.status.busy": "2022-08-04T16:59:14.188643Z",
     "iopub.status.idle": "2022-08-04T16:59:14.189976Z",
     "shell.execute_reply": "2022-08-04T16:59:14.190210Z"
    },
    "slideshow": {
     "slide_type": "fragment"
    }
   },
   "outputs": [
    {
     "data": {
      "text/plain": [
       "PNode:0[id:27 line[1] parents: [] : enter: gcd(a, b) order:1]"
      ]
     },
     "execution_count": 156,
     "metadata": {},
     "output_type": "execute_result"
    }
   ],
   "source": [
    "PNode(0, gcd_fnenter).copy(1)"
   ]
  },
  {
   "cell_type": "markdown",
   "metadata": {
    "slideshow": {
     "slide_type": "subslide"
    }
   },
   "source": [
    "#### Stepwise Exploration of Paths\n",
    "\n",
    "A problem we had with our `SimpleSymbolicFuzzer` is that it explored a path to completion before attempting another. However, this is non-optimal. One may want to explore the graph in a more step-wise manner, expanding every possible execution one step at a time.\n",
    "\n",
    "Hence, we define `explore()`  which explores the children of a node if any, one step at a time. If done exhaustively, this will generate all paths from a starting node until no more children are left. We made `PNode` to a container class so that this iteration can be driven from outside, and stopped if say a maximum iteration is complete, or certain paths need to be prioritized."
   ]
  },
  {
   "cell_type": "code",
   "execution_count": 157,
   "metadata": {
    "execution": {
     "iopub.execute_input": "2022-08-04T16:59:14.193015Z",
     "iopub.status.busy": "2022-08-04T16:59:14.192599Z",
     "iopub.status.idle": "2022-08-04T16:59:14.193921Z",
     "shell.execute_reply": "2022-08-04T16:59:14.194144Z"
    },
    "slideshow": {
     "slide_type": "subslide"
    }
   },
   "outputs": [],
   "source": [
    "class PNode(PNode):\n",
    "    def explore(self):\n",
    "        ret = []\n",
    "        for (i, n) in enumerate(self.cfgnode.children):\n",
    "            key = \"[%d]%s\" % (self.idx + 1, n)\n",
    "            ccount = self.seen.get(key, 0)\n",
    "            if ccount > self.max_iter:\n",
    "                continue  # drop this child\n",
    "            self.seen[key] = ccount + 1\n",
    "            pn = PNode(self.idx + 1, n, self.copy(i), seen=self.seen)\n",
    "            ret.append(pn)\n",
    "        return ret"
   ]
  },
  {
   "cell_type": "markdown",
   "metadata": {
    "slideshow": {
     "slide_type": "fragment"
    }
   },
   "source": [
    "We can use `explore()` as follows."
   ]
  },
  {
   "cell_type": "code",
   "execution_count": 158,
   "metadata": {
    "execution": {
     "iopub.execute_input": "2022-08-04T16:59:14.196757Z",
     "iopub.status.busy": "2022-08-04T16:59:14.196341Z",
     "iopub.status.idle": "2022-08-04T16:59:14.197918Z",
     "shell.execute_reply": "2022-08-04T16:59:14.198125Z"
    },
    "slideshow": {
     "slide_type": "fragment"
    }
   },
   "outputs": [
    {
     "data": {
      "text/plain": [
       "[PNode:1[id:29 line[2] parents: [27] : _if: a < b order:0]]"
      ]
     },
     "execution_count": 158,
     "metadata": {},
     "output_type": "execute_result"
    }
   ],
   "source": [
    "PNode(0, gcd_fnenter).explore()"
   ]
  },
  {
   "cell_type": "code",
   "execution_count": 159,
   "metadata": {
    "execution": {
     "iopub.execute_input": "2022-08-04T16:59:14.200294Z",
     "iopub.status.busy": "2022-08-04T16:59:14.199921Z",
     "iopub.status.idle": "2022-08-04T16:59:14.201545Z",
     "shell.execute_reply": "2022-08-04T16:59:14.201767Z"
    },
    "slideshow": {
     "slide_type": "subslide"
    }
   },
   "outputs": [
    {
     "data": {
      "text/plain": [
       "[PNode:2[id:30 line[3] parents: [29] : c: int = a order:0],\n",
       " PNode:2[id:33 line[7] parents: [32, 29, 36] : _while: b != 0 order:0]]"
      ]
     },
     "execution_count": 159,
     "metadata": {},
     "output_type": "execute_result"
    }
   ],
   "source": [
    "PNode(0, gcd_fnenter).explore()[0].explore()"
   ]
  },
  {
   "cell_type": "markdown",
   "metadata": {
    "slideshow": {
     "slide_type": "fragment"
    }
   },
   "source": [
    "The method `get_path_to_root()` recursively goes up through child->parent chain retrieving the complete chain to the topmost parent."
   ]
  },
  {
   "cell_type": "code",
   "execution_count": 160,
   "metadata": {
    "code_folding": [],
    "execution": {
     "iopub.execute_input": "2022-08-04T16:59:14.204080Z",
     "iopub.status.busy": "2022-08-04T16:59:14.203717Z",
     "iopub.status.idle": "2022-08-04T16:59:14.205230Z",
     "shell.execute_reply": "2022-08-04T16:59:14.205520Z"
    },
    "slideshow": {
     "slide_type": "fragment"
    }
   },
   "outputs": [],
   "source": [
    "class PNode(PNode):\n",
    "    def get_path_to_root(self):\n",
    "        path = []\n",
    "        n = self\n",
    "        while n:\n",
    "            path.append(n)\n",
    "            n = n.parent\n",
    "        return list(reversed(path))"
   ]
  },
  {
   "cell_type": "code",
   "execution_count": 161,
   "metadata": {
    "execution": {
     "iopub.execute_input": "2022-08-04T16:59:14.208333Z",
     "iopub.status.busy": "2022-08-04T16:59:14.207973Z",
     "iopub.status.idle": "2022-08-04T16:59:14.209476Z",
     "shell.execute_reply": "2022-08-04T16:59:14.209696Z"
    },
    "slideshow": {
     "slide_type": "subslide"
    }
   },
   "outputs": [
    {
     "data": {
      "text/plain": [
       "[[PNode:0[id:27 line[1] parents: [] : enter: gcd(a, b) order:0],\n",
       "  PNode:1[id:29 line[2] parents: [27] : _if: a < b order:0],\n",
       "  PNode:2[id:30 line[3] parents: [29] : c: int = a order:0],\n",
       "  PNode:3[id:31 line[4] parents: [30] : a = b order:0],\n",
       "  PNode:4[id:32 line[5] parents: [31] : b = c order:0]]]"
      ]
     },
     "execution_count": 161,
     "metadata": {},
     "output_type": "execute_result"
    }
   ],
   "source": [
    "p = PNode(0, gcd_fnenter)\n",
    "[s.get_path_to_root() for s in p.explore()[0].explore()[0].explore()[0].explore()]"
   ]
  },
  {
   "cell_type": "markdown",
   "metadata": {
    "slideshow": {
     "slide_type": "fragment"
    }
   },
   "source": [
    "The string representation of the node is in `z3` solvable form."
   ]
  },
  {
   "cell_type": "code",
   "execution_count": 162,
   "metadata": {
    "execution": {
     "iopub.execute_input": "2022-08-04T16:59:14.212471Z",
     "iopub.status.busy": "2022-08-04T16:59:14.211901Z",
     "iopub.status.idle": "2022-08-04T16:59:14.213357Z",
     "shell.execute_reply": "2022-08-04T16:59:14.213577Z"
    },
    "slideshow": {
     "slide_type": "fragment"
    }
   },
   "outputs": [],
   "source": [
    "class PNode(PNode):\n",
    "    def __str__(self):\n",
    "        path = self.get_path_to_root()\n",
    "        ssa_path = to_single_assignment_predicates(path)\n",
    "        return ', '.join([to_src(p) for p in ssa_path])"
   ]
  },
  {
   "cell_type": "markdown",
   "metadata": {
    "slideshow": {
     "slide_type": "fragment"
    }
   },
   "source": [
    "However, before using it, we need to take care of variable renaming so that reassignments can work."
   ]
  },
  {
   "cell_type": "markdown",
   "metadata": {
    "slideshow": {
     "slide_type": "subslide"
    }
   },
   "source": [
    "#### Renaming Used Variables\n",
    "\n",
    "We need to rename used variables. Any variable `v = xxx` should be renamed to `_v_0` and any later assignment such as `v = v + 1` should be transformed to `_v_1 = _v_0 + 1` and later conditionals such as `v == x` should be transformed to `(_v_1 == _x_0)`. The method `to_single_assignment_predicates()` does this for a given path."
   ]
  },
  {
   "cell_type": "code",
   "execution_count": 163,
   "metadata": {
    "execution": {
     "iopub.execute_input": "2022-08-04T16:59:14.219086Z",
     "iopub.status.busy": "2022-08-04T16:59:14.218788Z",
     "iopub.status.idle": "2022-08-04T16:59:14.219932Z",
     "shell.execute_reply": "2022-08-04T16:59:14.220238Z"
    },
    "slideshow": {
     "slide_type": "subslide"
    }
   },
   "outputs": [],
   "source": [
    "def to_single_assignment_predicates(path):\n",
    "    env = {}\n",
    "    new_path = []\n",
    "    for i, node in enumerate(path):\n",
    "        ast_node = node.cfgnode.ast_node\n",
    "        new_node = None\n",
    "        if isinstance(ast_node, ast.AnnAssign) and ast_node.target.id in {\n",
    "                'exit'}:\n",
    "            new_node = None\n",
    "        elif isinstance(ast_node, ast.AnnAssign) and ast_node.target.id in {'enter'}:\n",
    "            args = [\n",
    "                ast.parse(\n",
    "                    \"%s == _%s_0\" %\n",
    "                    (a.id, a.id)).body[0].value for a in ast_node.annotation.args]\n",
    "            new_node = ast.Call(ast.Name('z3.And', None), args, [])\n",
    "        elif isinstance(ast_node, ast.AnnAssign) and ast_node.target.id in {'_if', '_while'}:\n",
    "            new_node = rename_variables(ast_node.annotation, env)\n",
    "            if node.order != 0:\n",
    "                assert node.order == 1\n",
    "                new_node = ast.Call(ast.Name('z3.Not', None), [new_node], [])\n",
    "        elif isinstance(ast_node, ast.AnnAssign):\n",
    "            assigned = ast_node.target.id\n",
    "            val = [rename_variables(ast_node.value, env)]\n",
    "            env[assigned] = 0 if assigned not in env else env[assigned] + 1\n",
    "            target = ast.Name('_%s_%d' %\n",
    "                              (ast_node.target.id, env[assigned]), None)\n",
    "            new_node = ast.Expr(ast.Compare(target, [ast.Eq()], val))\n",
    "        elif isinstance(ast_node, ast.Assign):\n",
    "            assigned = ast_node.targets[0].id\n",
    "            val = [rename_variables(ast_node.value, env)]\n",
    "            env[assigned] = 0 if assigned not in env else env[assigned] + 1\n",
    "            target = ast.Name('_%s_%d' %\n",
    "                              (ast_node.targets[0].id, env[assigned]), None)\n",
    "            new_node = ast.Expr(ast.Compare(target, [ast.Eq()], val))\n",
    "        elif isinstance(ast_node, (ast.Return, ast.Pass)):\n",
    "            new_node = None\n",
    "        else:\n",
    "            s = \"NI %s %s\" % (type(ast_node), ast_node.target.id)\n",
    "            raise Exception(s)\n",
    "        new_path.append(new_node)\n",
    "    return new_path"
   ]
  },
  {
   "cell_type": "markdown",
   "metadata": {
    "slideshow": {
     "slide_type": "subslide"
    }
   },
   "source": [
    "Here is how it can be used:"
   ]
  },
  {
   "cell_type": "code",
   "execution_count": 164,
   "metadata": {
    "execution": {
     "iopub.execute_input": "2022-08-04T16:59:14.222231Z",
     "iopub.status.busy": "2022-08-04T16:59:14.221918Z",
     "iopub.status.idle": "2022-08-04T16:59:14.223106Z",
     "shell.execute_reply": "2022-08-04T16:59:14.223324Z"
    },
    "slideshow": {
     "slide_type": "fragment"
    }
   },
   "outputs": [],
   "source": [
    "p = PNode(0, gcd_fnenter)\n",
    "path = p.explore()[0].explore()[0].explore()[0].get_path_to_root()\n",
    "spath = to_single_assignment_predicates(path)"
   ]
  },
  {
   "cell_type": "code",
   "execution_count": 165,
   "metadata": {
    "execution": {
     "iopub.execute_input": "2022-08-04T16:59:14.225322Z",
     "iopub.status.busy": "2022-08-04T16:59:14.224943Z",
     "iopub.status.idle": "2022-08-04T16:59:14.226526Z",
     "shell.execute_reply": "2022-08-04T16:59:14.226812Z"
    },
    "slideshow": {
     "slide_type": "fragment"
    }
   },
   "outputs": [
    {
     "data": {
      "text/plain": [
       "['z3.And(a == _a_0, b == _b_0)', '_a_0 < _b_0', '_c_0 == _a_0', '_a_1 == _b_0']"
      ]
     },
     "execution_count": 165,
     "metadata": {},
     "output_type": "execute_result"
    }
   ],
   "source": [
    "[to_src(s) for s in spath]"
   ]
  },
  {
   "cell_type": "markdown",
   "metadata": {
    "slideshow": {
     "slide_type": "subslide"
    }
   },
   "source": [
    "#### Check Before You Loop\n",
    "\n",
    "One of the ways in which the *concolic* execution simplifies *symbolic* execution is in the treatment of loops. Rather than trying to determine an invariant for a loop, we simply _unroll_ the loops a number of times until we hit the `MAX_DEPTH` limit.\n",
    "However, not all loops will need to be unrolled until `MAX_DEPTH` is reached. Some of them may exit before. Hence, it is necessary to check whether the given set of constraints can be satisfied before continuing to explore further. "
   ]
  },
  {
   "cell_type": "code",
   "execution_count": 166,
   "metadata": {
    "execution": {
     "iopub.execute_input": "2022-08-04T16:59:14.229858Z",
     "iopub.status.busy": "2022-08-04T16:59:14.229413Z",
     "iopub.status.idle": "2022-08-04T16:59:14.230586Z",
     "shell.execute_reply": "2022-08-04T16:59:14.230956Z"
    },
    "slideshow": {
     "slide_type": "subslide"
    }
   },
   "outputs": [],
   "source": [
    "def identifiers_with_types(identifiers, defined):\n",
    "    with_types = dict(defined)\n",
    "    for i in identifiers:\n",
    "        if i[0] == '_':\n",
    "            nxt = i[1:].find('_', 1)\n",
    "            name = i[1:nxt + 1]\n",
    "            assert name in defined\n",
    "            typ = defined[name]\n",
    "            with_types[i] = typ\n",
    "    return with_types"
   ]
  },
  {
   "cell_type": "markdown",
   "metadata": {
    "slideshow": {
     "slide_type": "fragment"
    }
   },
   "source": [
    "The `extract_constraints()` generates the `z3` constraints from a path. The main work is done by `to_single_assignment_predicates()`. The `extract_constraints()` then converts the AST to source."
   ]
  },
  {
   "cell_type": "code",
   "execution_count": 167,
   "metadata": {
    "execution": {
     "iopub.execute_input": "2022-08-04T16:59:14.233179Z",
     "iopub.status.busy": "2022-08-04T16:59:14.232859Z",
     "iopub.status.idle": "2022-08-04T16:59:14.234113Z",
     "shell.execute_reply": "2022-08-04T16:59:14.234350Z"
    },
    "slideshow": {
     "slide_type": "subslide"
    }
   },
   "outputs": [],
   "source": [
    "class SymbolicFuzzer(SymbolicFuzzer):\n",
    "    def extract_constraints(self, path):\n",
    "        return [to_src(p) for p in to_single_assignment_predicates(path) if p]"
   ]
  },
  {
   "cell_type": "markdown",
   "metadata": {
    "slideshow": {
     "slide_type": "subslide"
    }
   },
   "source": [
    "### Solving Path Constraints\n",
    "\n",
    "We now update our `solve_path_constraint()` method to take into account the new identifiers created during reassignments."
   ]
  },
  {
   "cell_type": "code",
   "execution_count": 168,
   "metadata": {
    "execution": {
     "iopub.execute_input": "2022-08-04T16:59:14.238022Z",
     "iopub.status.busy": "2022-08-04T16:59:14.237704Z",
     "iopub.status.idle": "2022-08-04T16:59:14.238923Z",
     "shell.execute_reply": "2022-08-04T16:59:14.239158Z"
    },
    "slideshow": {
     "slide_type": "subslide"
    }
   },
   "outputs": [],
   "source": [
    "class SymbolicFuzzer(SymbolicFuzzer):\n",
    "    def solve_path_constraint(self, path):\n",
    "        # re-initializing does not seem problematic.\n",
    "        # a = z3.Int('a').get_id() remains the same.\n",
    "        constraints = self.extract_constraints(path)\n",
    "        identifiers = [\n",
    "            c for i in constraints for c in used_identifiers(i)]  # <- changes\n",
    "        with_types = identifiers_with_types(\n",
    "            identifiers, self.used_variables)  # <- changes\n",
    "        decl = define_symbolic_vars(with_types, '')\n",
    "        exec(decl)\n",
    "\n",
    "        solutions = {}\n",
    "        with checkpoint(self.z3):\n",
    "            st = 'self.z3.add(%s)' % ', '.join(constraints)\n",
    "            eval(st)\n",
    "            if self.z3.check() != z3.sat:\n",
    "                return {}\n",
    "            m = self.z3.model()\n",
    "            solutions = {d.name(): m[d] for d in m.decls()}\n",
    "            my_args = {k: solutions.get(k, None) for k in self.fn_args}\n",
    "\n",
    "        predicate = 'z3.And(%s)' % ','.join(\n",
    "            [\"%s == %s\" % (k, v) for k, v in my_args.items()])\n",
    "        eval('self.z3.add(z3.Not(%s))' % predicate)\n",
    "\n",
    "        return my_args"
   ]
  },
  {
   "cell_type": "markdown",
   "metadata": {
    "slideshow": {
     "slide_type": "subslide"
    }
   },
   "source": [
    "### Generating All Paths"
   ]
  },
  {
   "cell_type": "markdown",
   "metadata": {
    "slideshow": {
     "slide_type": "fragment"
    }
   },
   "source": [
    "The `get_all_paths()` is now similarly updated so that we unroll loops only to a specified height. It is also converted to an iterative exploration style so that we explore the CFG in a breadth first manner."
   ]
  },
  {
   "cell_type": "code",
   "execution_count": 169,
   "metadata": {
    "execution": {
     "iopub.execute_input": "2022-08-04T16:59:14.242232Z",
     "iopub.status.busy": "2022-08-04T16:59:14.241932Z",
     "iopub.status.idle": "2022-08-04T16:59:14.243399Z",
     "shell.execute_reply": "2022-08-04T16:59:14.243812Z"
    },
    "slideshow": {
     "slide_type": "subslide"
    }
   },
   "outputs": [],
   "source": [
    "class SymbolicFuzzer(SymbolicFuzzer):\n",
    "    def get_all_paths(self, fenter):\n",
    "        path_lst = [PNode(0, fenter)]\n",
    "        completed = []\n",
    "        for i in range(self.max_iter):\n",
    "            new_paths = [PNode(0, fenter)]\n",
    "            for path in path_lst:\n",
    "                # explore each path once\n",
    "                if path.cfgnode.children:\n",
    "                    np = path.explore()\n",
    "                    for p in np:\n",
    "                        if path.idx > self.max_depth:\n",
    "                            break\n",
    "                        new_paths.append(p)\n",
    "                else:\n",
    "                    completed.append(path)\n",
    "            path_lst = new_paths\n",
    "        return completed + path_lst"
   ]
  },
  {
   "cell_type": "markdown",
   "metadata": {
    "slideshow": {
     "slide_type": "subslide"
    }
   },
   "source": [
    "We can now obtain all paths using our advanced symbolic fuzzer as follows."
   ]
  },
  {
   "cell_type": "code",
   "execution_count": 170,
   "metadata": {
    "execution": {
     "iopub.execute_input": "2022-08-04T16:59:14.249014Z",
     "iopub.status.busy": "2022-08-04T16:59:14.246617Z",
     "iopub.status.idle": "2022-08-04T16:59:14.250271Z",
     "shell.execute_reply": "2022-08-04T16:59:14.250485Z"
    },
    "slideshow": {
     "slide_type": "fragment"
    }
   },
   "outputs": [],
   "source": [
    "asymfz_gcd = SymbolicFuzzer(\n",
    "    gcd, max_iter=10, max_tries=10, max_depth=10)\n",
    "all_paths = asymfz_gcd.get_all_paths(asymfz_gcd.fnenter)"
   ]
  },
  {
   "cell_type": "code",
   "execution_count": 171,
   "metadata": {
    "execution": {
     "iopub.execute_input": "2022-08-04T16:59:14.252353Z",
     "iopub.status.busy": "2022-08-04T16:59:14.252012Z",
     "iopub.status.idle": "2022-08-04T16:59:14.253540Z",
     "shell.execute_reply": "2022-08-04T16:59:14.253723Z"
    },
    "slideshow": {
     "slide_type": "fragment"
    }
   },
   "outputs": [
    {
     "data": {
      "text/plain": [
       "38"
      ]
     },
     "execution_count": 171,
     "metadata": {},
     "output_type": "execute_result"
    }
   ],
   "source": [
    "len(all_paths)"
   ]
  },
  {
   "cell_type": "code",
   "execution_count": 172,
   "metadata": {
    "execution": {
     "iopub.execute_input": "2022-08-04T16:59:14.255959Z",
     "iopub.status.busy": "2022-08-04T16:59:14.255594Z",
     "iopub.status.idle": "2022-08-04T16:59:14.257117Z",
     "shell.execute_reply": "2022-08-04T16:59:14.257300Z"
    },
    "slideshow": {
     "slide_type": "subslide"
    }
   },
   "outputs": [
    {
     "data": {
      "text/plain": [
       "[PNode:0[id:40 line[1] parents: [] : enter: gcd(a, b) order:0],\n",
       " PNode:1[id:42 line[2] parents: [40] : _if: a < b order:1],\n",
       " PNode:2[id:46 line[7] parents: [45, 42, 49] : _while: b != 0 order:0],\n",
       " PNode:3[id:47 line[8] parents: [46] : c: int = a order:0],\n",
       " PNode:4[id:48 line[9] parents: [47] : a = b order:0],\n",
       " PNode:5[id:49 line[10] parents: [48] : b = c % b order:0],\n",
       " PNode:6[id:46 line[7] parents: [45, 42, 49] : _while: b != 0 order:0],\n",
       " PNode:7[id:47 line[8] parents: [46] : c: int = a order:0],\n",
       " PNode:8[id:48 line[9] parents: [47] : a = b order:0],\n",
       " PNode:9[id:49 line[10] parents: [48] : b = c % b order:0],\n",
       " PNode:10[id:46 line[7] parents: [45, 42, 49] : _while: b != 0 order:0]]"
      ]
     },
     "execution_count": 172,
     "metadata": {},
     "output_type": "execute_result"
    }
   ],
   "source": [
    "all_paths[37].get_path_to_root()"
   ]
  },
  {
   "cell_type": "markdown",
   "metadata": {
    "slideshow": {
     "slide_type": "fragment"
    }
   },
   "source": [
    "We can also list the predicates in each path."
   ]
  },
  {
   "cell_type": "code",
   "execution_count": 173,
   "metadata": {
    "execution": {
     "iopub.execute_input": "2022-08-04T16:59:14.259453Z",
     "iopub.status.busy": "2022-08-04T16:59:14.259121Z",
     "iopub.status.idle": "2022-08-04T16:59:14.260509Z",
     "shell.execute_reply": "2022-08-04T16:59:14.260758Z"
    },
    "slideshow": {
     "slide_type": "subslide"
    }
   },
   "outputs": [
    {
     "name": "stdout",
     "output_type": "stream",
     "text": [
      "z3.And(a == _a_0, b == _b_0)\n",
      "z3.Not(_a_0 < _b_0)\n",
      "_b_0 != 0\n",
      "_c_0 == _a_0\n",
      "_a_1 == _b_0\n",
      "_b_1 == _c_0 % _b_0\n",
      "_b_1 != 0\n",
      "_c_1 == _a_1\n",
      "_a_2 == _b_1\n",
      "_b_2 == _c_1 % _b_1\n",
      "_b_2 != 0\n"
     ]
    }
   ],
   "source": [
    "for s in to_single_assignment_predicates(all_paths[37].get_path_to_root()):\n",
    "    if s is not None:\n",
    "        print(to_src(s))"
   ]
  },
  {
   "cell_type": "code",
   "execution_count": 174,
   "metadata": {
    "execution": {
     "iopub.execute_input": "2022-08-04T16:59:14.262948Z",
     "iopub.status.busy": "2022-08-04T16:59:14.262677Z",
     "iopub.status.idle": "2022-08-04T16:59:14.264062Z",
     "shell.execute_reply": "2022-08-04T16:59:14.264244Z"
    },
    "slideshow": {
     "slide_type": "subslide"
    }
   },
   "outputs": [],
   "source": [
    "constraints = asymfz_gcd.extract_constraints(all_paths[37].get_path_to_root())"
   ]
  },
  {
   "cell_type": "code",
   "execution_count": 175,
   "metadata": {
    "execution": {
     "iopub.execute_input": "2022-08-04T16:59:14.266097Z",
     "iopub.status.busy": "2022-08-04T16:59:14.265804Z",
     "iopub.status.idle": "2022-08-04T16:59:14.267219Z",
     "shell.execute_reply": "2022-08-04T16:59:14.267455Z"
    },
    "slideshow": {
     "slide_type": "fragment"
    }
   },
   "outputs": [
    {
     "data": {
      "text/plain": [
       "['z3.And(a == _a_0, b == _b_0)',\n",
       " 'z3.Not(_a_0 < _b_0)',\n",
       " '_b_0 != 0',\n",
       " '_c_0 == _a_0',\n",
       " '_a_1 == _b_0',\n",
       " '_b_1 == _c_0 % _b_0',\n",
       " '_b_1 != 0',\n",
       " '_c_1 == _a_1',\n",
       " '_a_2 == _b_1',\n",
       " '_b_2 == _c_1 % _b_1',\n",
       " '_b_2 != 0']"
      ]
     },
     "execution_count": 175,
     "metadata": {},
     "output_type": "execute_result"
    }
   ],
   "source": [
    "constraints"
   ]
  },
  {
   "cell_type": "markdown",
   "metadata": {
    "slideshow": {
     "slide_type": "subslide"
    }
   },
   "source": [
    "The constraints printed out demonstrates that our approach for renaming variables was successful. We need only one more piece to complete the puzzle. Our path is still a `PNode`. We need to modify `get_next_path()` so that we return the corresponding predicate chain."
   ]
  },
  {
   "cell_type": "code",
   "execution_count": 176,
   "metadata": {
    "execution": {
     "iopub.execute_input": "2022-08-04T16:59:14.269410Z",
     "iopub.status.busy": "2022-08-04T16:59:14.269162Z",
     "iopub.status.idle": "2022-08-04T16:59:14.270232Z",
     "shell.execute_reply": "2022-08-04T16:59:14.270454Z"
    },
    "slideshow": {
     "slide_type": "fragment"
    }
   },
   "outputs": [],
   "source": [
    "class SymbolicFuzzer(SymbolicFuzzer):\n",
    "    def get_next_path(self):\n",
    "        self.last_path -= 1\n",
    "        if self.last_path == -1:\n",
    "            self.last_path = len(self.paths) - 1\n",
    "        return self.paths[self.last_path].get_path_to_root()"
   ]
  },
  {
   "cell_type": "markdown",
   "metadata": {
    "slideshow": {
     "slide_type": "fragment"
    }
   },
   "source": [
    "We will see next how to use our fuzzer for fuzzing."
   ]
  },
  {
   "cell_type": "markdown",
   "metadata": {
    "slideshow": {
     "slide_type": "subslide"
    }
   },
   "source": [
    "### Fuzzing with Advanced Symbolic Fuzzer\n",
    "\n",
    "We use our advanced symbolic fuzzer on *gcd* to generate plausible inputs."
   ]
  },
  {
   "cell_type": "code",
   "execution_count": 177,
   "metadata": {
    "execution": {
     "iopub.execute_input": "2022-08-04T16:59:14.272708Z",
     "iopub.status.busy": "2022-08-04T16:59:14.272391Z",
     "iopub.status.idle": "2022-08-04T16:59:14.306008Z",
     "shell.execute_reply": "2022-08-04T16:59:14.306339Z"
    },
    "slideshow": {
     "slide_type": "subslide"
    }
   },
   "outputs": [
    {
     "name": "stdout",
     "output_type": "stream",
     "text": [
      "{'a': 8, 'b': 3} result: 1\n",
      "{'a': 1, 'b': 2} result: 1\n",
      "{'a': 2, 'b': 5} result: 1\n",
      "{'a': 5, 'b': 2} result: 1\n",
      "{'a': 3, 'b': 4} result: 1\n",
      "{'a': 9, 'b': 9} result: 9\n",
      "{'a': 7, 'b': 6} result: 1\n",
      "{'a': 5, 'b': 10} result: 5\n",
      "{'a': 3, 'b': 1} result: 1\n",
      "{'a': 10, 'b': 7} result: 1\n"
     ]
    }
   ],
   "source": [
    "asymfz_gcd = SymbolicFuzzer(\n",
    "    gcd, max_tries=10, max_iter=10, max_depth=10)\n",
    "data = []\n",
    "for i in range(10):\n",
    "    r = asymfz_gcd.fuzz()\n",
    "    data.append((r['a'].as_long(), r['b'].as_long()))\n",
    "    v = gcd(*data[-1])\n",
    "    print(r, \"result:\", repr(v))"
   ]
  },
  {
   "cell_type": "markdown",
   "metadata": {
    "slideshow": {
     "slide_type": "subslide"
    }
   },
   "source": [
    "The outputs look reasonable. However, what is the coverage obtained?"
   ]
  },
  {
   "cell_type": "code",
   "execution_count": 178,
   "metadata": {
    "execution": {
     "iopub.execute_input": "2022-08-04T16:59:14.311218Z",
     "iopub.status.busy": "2022-08-04T16:59:14.310898Z",
     "iopub.status.idle": "2022-08-04T16:59:14.502167Z",
     "shell.execute_reply": "2022-08-04T16:59:14.502342Z"
    },
    "slideshow": {
     "slide_type": "fragment"
    }
   },
   "outputs": [],
   "source": [
    "with VisualizedArcCoverage() as cov:\n",
    "    for a, b in data:\n",
    "        gcd(a, b)"
   ]
  },
  {
   "cell_type": "code",
   "execution_count": 179,
   "metadata": {
    "execution": {
     "iopub.execute_input": "2022-08-04T16:59:14.504619Z",
     "iopub.status.busy": "2022-08-04T16:59:14.504273Z",
     "iopub.status.idle": "2022-08-04T16:59:14.506131Z",
     "shell.execute_reply": "2022-08-04T16:59:14.506334Z"
    },
    "slideshow": {
     "slide_type": "subslide"
    }
   },
   "outputs": [
    {
     "name": "stdout",
     "output_type": "stream",
     "text": [
      "#  1: def gcd(a: int, b: int) -> int:\n",
      "#  2:     if a < b:\n",
      "#  3:         c: int = a  # type: ignore\n",
      "#  4:         a = b\n",
      "#  5:         b = c\n",
      "   6: \n",
      "#  7:     while b != 0:\n",
      "#  8:         c: int = a  # type: ignore\n",
      "#  9:         a = b\n",
      "# 10:         b = c % b\n",
      "  11: \n",
      "# 12:     return a\n",
      "  13: \n"
     ]
    }
   ],
   "source": [
    "cov.show_coverage(gcd)"
   ]
  },
  {
   "cell_type": "code",
   "execution_count": 180,
   "metadata": {
    "execution": {
     "iopub.execute_input": "2022-08-04T16:59:14.513760Z",
     "iopub.status.busy": "2022-08-04T16:59:14.507521Z",
     "iopub.status.idle": "2022-08-04T16:59:14.841626Z",
     "shell.execute_reply": "2022-08-04T16:59:14.841911Z"
    },
    "slideshow": {
     "slide_type": "subslide"
    }
   },
   "outputs": [
    {
     "data": {
      "image/svg+xml": [
       "<?xml version=\"1.0\" encoding=\"UTF-8\" standalone=\"no\"?>\n",
       "<!DOCTYPE svg PUBLIC \"-//W3C//DTD SVG 1.1//EN\"\n",
       " \"http://www.w3.org/Graphics/SVG/1.1/DTD/svg11.dtd\">\n",
       "<!-- Generated by graphviz version 5.0.0 (20220707.1540)\n",
       " -->\n",
       "<!-- Pages: 1 -->\n",
       "<svg width=\"286pt\" height=\"636pt\"\n",
       " viewBox=\"0.00 0.00 285.54 636.00\" xmlns=\"http://www.w3.org/2000/svg\" xmlns:xlink=\"http://www.w3.org/1999/xlink\">\n",
       "<g id=\"graph0\" class=\"graph\" transform=\"scale(1 1) rotate(0) translate(4 632)\">\n",
       "<polygon fill=\"white\" stroke=\"transparent\" points=\"-4,4 -4,-632 281.54,-632 281.54,4 -4,4\"/>\n",
       "<!-- 1 -->\n",
       "<g id=\"node1\" class=\"node\">\n",
       "<title>1</title>\n",
       "<ellipse fill=\"none\" stroke=\"black\" cx=\"177.54\" cy=\"-606\" rx=\"74.18\" ry=\"18\"/>\n",
       "<ellipse fill=\"none\" stroke=\"black\" cx=\"177.54\" cy=\"-606\" rx=\"78.19\" ry=\"22\"/>\n",
       "<text text-anchor=\"middle\" x=\"177.54\" y=\"-602.3\" font-family=\"Times,serif\" font-size=\"14.00\">1: enter: gcd(a, b)</text>\n",
       "</g>\n",
       "<!-- 3 -->\n",
       "<g id=\"node4\" class=\"node\">\n",
       "<title>3</title>\n",
       "<polygon fill=\"none\" stroke=\"black\" points=\"177.54,-548 108.67,-530 177.54,-512 246.42,-530 177.54,-548\"/>\n",
       "<text text-anchor=\"middle\" x=\"177.54\" y=\"-526.3\" font-family=\"Times,serif\" font-size=\"14.00\">2: if: a &lt; b</text>\n",
       "</g>\n",
       "<!-- 1&#45;&gt;3 -->\n",
       "<g id=\"edge2\" class=\"edge\">\n",
       "<title>1&#45;&gt;3</title>\n",
       "<path fill=\"none\" stroke=\"green\" d=\"M177.54,-583.99C177.54,-576.06 177.54,-566.91 177.54,-558.48\"/>\n",
       "<polygon fill=\"green\" stroke=\"green\" points=\"181.04,-558.31 177.54,-548.31 174.04,-558.31 181.04,-558.31\"/>\n",
       "</g>\n",
       "<!-- 2 -->\n",
       "<g id=\"node2\" class=\"node\">\n",
       "<title>2</title>\n",
       "<ellipse fill=\"none\" stroke=\"black\" cx=\"73.54\" cy=\"-94\" rx=\"69.59\" ry=\"18\"/>\n",
       "<ellipse fill=\"none\" stroke=\"black\" cx=\"73.54\" cy=\"-94\" rx=\"73.59\" ry=\"22\"/>\n",
       "<text text-anchor=\"middle\" x=\"73.54\" y=\"-90.3\" font-family=\"Times,serif\" font-size=\"14.00\">1: exit: gcd(a, b)</text>\n",
       "</g>\n",
       "<!-- 11 -->\n",
       "<g id=\"node3\" class=\"node\">\n",
       "<title>11</title>\n",
       "<polygon fill=\"none\" stroke=\"black\" points=\"113.54,-188 33.54,-188 33.54,-152 113.54,-152 113.54,-188\"/>\n",
       "<text text-anchor=\"middle\" x=\"73.54\" y=\"-166.3\" font-family=\"Times,serif\" font-size=\"14.00\">12: return a</text>\n",
       "</g>\n",
       "<!-- 11&#45;&gt;2 -->\n",
       "<g id=\"edge1\" class=\"edge\">\n",
       "<title>11&#45;&gt;2</title>\n",
       "<path fill=\"none\" stroke=\"green\" d=\"M73.54,-151.84C73.54,-144.16 73.54,-134.88 73.54,-126.05\"/>\n",
       "<polygon fill=\"green\" stroke=\"green\" points=\"77.04,-126.03 73.54,-116.03 70.04,-126.03 77.04,-126.03\"/>\n",
       "</g>\n",
       "<!-- 4 -->\n",
       "<g id=\"node5\" class=\"node\">\n",
       "<title>4</title>\n",
       "<ellipse fill=\"none\" stroke=\"black\" cx=\"137.54\" cy=\"-458\" rx=\"51.99\" ry=\"18\"/>\n",
       "<text text-anchor=\"middle\" x=\"137.54\" y=\"-454.3\" font-family=\"Times,serif\" font-size=\"14.00\">3: c: int = a</text>\n",
       "</g>\n",
       "<!-- 3&#45;&gt;4 -->\n",
       "<g id=\"edge3\" class=\"edge\">\n",
       "<title>3&#45;&gt;4</title>\n",
       "<path fill=\"none\" stroke=\"green\" d=\"M169.06,-514.15C164.14,-505.55 157.82,-494.48 152.13,-484.52\"/>\n",
       "<polygon fill=\"green\" stroke=\"green\" points=\"155.14,-482.73 147.14,-475.79 149.06,-486.21 155.14,-482.73\"/>\n",
       "</g>\n",
       "<!-- 7 -->\n",
       "<g id=\"node8\" class=\"node\">\n",
       "<title>7</title>\n",
       "<polygon fill=\"none\" stroke=\"black\" points=\"183.54,-260 90.04,-242 183.54,-224 277.05,-242 183.54,-260\"/>\n",
       "<text text-anchor=\"middle\" x=\"183.54\" y=\"-238.3\" font-family=\"Times,serif\" font-size=\"14.00\">7: while: b != 0</text>\n",
       "</g>\n",
       "<!-- 3&#45;&gt;7 -->\n",
       "<g id=\"edge7\" class=\"edge\">\n",
       "<title>3&#45;&gt;7</title>\n",
       "<path fill=\"none\" stroke=\"green\" d=\"M185.4,-513.7C190.25,-503.35 196.02,-489.22 198.54,-476 212.66,-402.04 198.39,-312.73 189.5,-269.29\"/>\n",
       "<polygon fill=\"green\" stroke=\"green\" points=\"192.87,-268.33 187.38,-259.28 186.03,-269.78 192.87,-268.33\"/>\n",
       "</g>\n",
       "<!-- 5 -->\n",
       "<g id=\"node6\" class=\"node\">\n",
       "<title>5</title>\n",
       "<polygon fill=\"none\" stroke=\"black\" points=\"178.04,-404 119.04,-404 119.04,-368 178.04,-368 178.04,-404\"/>\n",
       "<text text-anchor=\"middle\" x=\"148.54\" y=\"-382.3\" font-family=\"Times,serif\" font-size=\"14.00\">4: a = b</text>\n",
       "</g>\n",
       "<!-- 4&#45;&gt;5 -->\n",
       "<g id=\"edge4\" class=\"edge\">\n",
       "<title>4&#45;&gt;5</title>\n",
       "<path fill=\"none\" stroke=\"green\" d=\"M140.26,-439.7C141.48,-431.98 142.93,-422.71 144.28,-414.11\"/>\n",
       "<polygon fill=\"green\" stroke=\"green\" points=\"147.76,-414.53 145.86,-404.1 140.85,-413.44 147.76,-414.53\"/>\n",
       "</g>\n",
       "<!-- 6 -->\n",
       "<g id=\"node7\" class=\"node\">\n",
       "<title>6</title>\n",
       "<polygon fill=\"none\" stroke=\"black\" points=\"184.04,-332 125.04,-332 125.04,-296 184.04,-296 184.04,-332\"/>\n",
       "<text text-anchor=\"middle\" x=\"154.54\" y=\"-310.3\" font-family=\"Times,serif\" font-size=\"14.00\">5: b = c</text>\n",
       "</g>\n",
       "<!-- 5&#45;&gt;6 -->\n",
       "<g id=\"edge5\" class=\"edge\">\n",
       "<title>5&#45;&gt;6</title>\n",
       "<path fill=\"none\" stroke=\"green\" d=\"M150.03,-367.7C150.69,-359.98 151.48,-350.71 152.22,-342.11\"/>\n",
       "<polygon fill=\"green\" stroke=\"green\" points=\"155.71,-342.37 153.08,-332.1 148.74,-341.77 155.71,-342.37\"/>\n",
       "</g>\n",
       "<!-- 6&#45;&gt;7 -->\n",
       "<g id=\"edge6\" class=\"edge\">\n",
       "<title>6&#45;&gt;7</title>\n",
       "<path fill=\"none\" stroke=\"green\" d=\"M161.71,-295.7C165.11,-287.49 169.24,-277.52 172.99,-268.48\"/>\n",
       "<polygon fill=\"green\" stroke=\"green\" points=\"176.26,-269.72 176.86,-259.14 169.79,-267.04 176.26,-269.72\"/>\n",
       "</g>\n",
       "<!-- 7&#45;&gt;11 -->\n",
       "<g id=\"edge12\" class=\"edge\">\n",
       "<title>7&#45;&gt;11</title>\n",
       "<path fill=\"none\" stroke=\"green\" d=\"M162.85,-227.83C147.66,-218.17 126.66,-204.8 108.84,-193.46\"/>\n",
       "<polygon fill=\"green\" stroke=\"green\" points=\"110.7,-190.5 100.39,-188.08 106.94,-196.4 110.7,-190.5\"/>\n",
       "</g>\n",
       "<!-- 8 -->\n",
       "<g id=\"node10\" class=\"node\">\n",
       "<title>8</title>\n",
       "<ellipse fill=\"none\" stroke=\"black\" cx=\"183.54\" cy=\"-170\" rx=\"51.99\" ry=\"18\"/>\n",
       "<text text-anchor=\"middle\" x=\"183.54\" y=\"-166.3\" font-family=\"Times,serif\" font-size=\"14.00\">8: c: int = a</text>\n",
       "</g>\n",
       "<!-- 7&#45;&gt;8 -->\n",
       "<g id=\"edge9\" class=\"edge\">\n",
       "<title>7&#45;&gt;8</title>\n",
       "<path fill=\"none\" stroke=\"green\" d=\"M183.54,-223.7C183.54,-215.98 183.54,-206.71 183.54,-198.11\"/>\n",
       "<polygon fill=\"green\" stroke=\"green\" points=\"187.04,-198.1 183.54,-188.1 180.04,-198.1 187.04,-198.1\"/>\n",
       "</g>\n",
       "<!-- 10 -->\n",
       "<g id=\"node9\" class=\"node\">\n",
       "<title>10</title>\n",
       "<polygon fill=\"none\" stroke=\"black\" points=\"277.54,-36 185.54,-36 185.54,0 277.54,0 277.54,-36\"/>\n",
       "<text text-anchor=\"middle\" x=\"231.54\" y=\"-14.3\" font-family=\"Times,serif\" font-size=\"14.00\">10: b = c % b</text>\n",
       "</g>\n",
       "<!-- 10&#45;&gt;7 -->\n",
       "<g id=\"edge8\" class=\"edge\">\n",
       "<title>10&#45;&gt;7</title>\n",
       "<path fill=\"none\" stroke=\"green\" d=\"M238.06,-36.01C249.05,-67.59 267.92,-136.72 244.54,-188 238.22,-201.87 226.28,-213.51 214.63,-222.32\"/>\n",
       "<polygon fill=\"green\" stroke=\"green\" points=\"212.42,-219.59 206.28,-228.22 216.46,-225.31 212.42,-219.59\"/>\n",
       "</g>\n",
       "<!-- 9 -->\n",
       "<g id=\"node11\" class=\"node\">\n",
       "<title>9</title>\n",
       "<polygon fill=\"none\" stroke=\"black\" points=\"230.04,-112 171.04,-112 171.04,-76 230.04,-76 230.04,-112\"/>\n",
       "<text text-anchor=\"middle\" x=\"200.54\" y=\"-90.3\" font-family=\"Times,serif\" font-size=\"14.00\">9: a = b</text>\n",
       "</g>\n",
       "<!-- 8&#45;&gt;9 -->\n",
       "<g id=\"edge10\" class=\"edge\">\n",
       "<title>8&#45;&gt;9</title>\n",
       "<path fill=\"none\" stroke=\"green\" d=\"M187.49,-151.84C189.53,-142.96 192.06,-131.93 194.35,-121.95\"/>\n",
       "<polygon fill=\"green\" stroke=\"green\" points=\"197.79,-122.6 196.62,-112.07 190.97,-121.03 197.79,-122.6\"/>\n",
       "</g>\n",
       "<!-- 9&#45;&gt;10 -->\n",
       "<g id=\"edge11\" class=\"edge\">\n",
       "<title>9&#45;&gt;10</title>\n",
       "<path fill=\"none\" stroke=\"green\" d=\"M207.73,-75.84C211.53,-66.78 216.27,-55.47 220.52,-45.32\"/>\n",
       "<polygon fill=\"green\" stroke=\"green\" points=\"223.76,-46.65 224.39,-36.07 217.3,-43.94 223.76,-46.65\"/>\n",
       "</g>\n",
       "</g>\n",
       "</svg>\n"
      ],
      "text/plain": [
       "<graphviz.graphs.Digraph at 0x10fa48550>"
      ]
     },
     "execution_count": 180,
     "metadata": {},
     "output_type": "execute_result"
    }
   ],
   "source": [
    "show_cfg(gcd, arcs=cov.arcs())"
   ]
  },
  {
   "cell_type": "markdown",
   "metadata": {
    "slideshow": {
     "slide_type": "fragment"
    }
   },
   "source": [
    "Indeed both branch and statement coverage visualization seems to indicate that we achieved complete coverage.\n",
    "How do we make use of our fuzzer in practice? We explore a small case study of a program to solve the roots of a quadratic equation."
   ]
  },
  {
   "cell_type": "markdown",
   "metadata": {
    "slideshow": {
     "slide_type": "subslide"
    }
   },
   "source": [
    "#### Example: Roots of a Quadratic Equation\n",
    "Here is the famous equation for finding the roots of a quadratic equation."
   ]
  },
  {
   "cell_type": "code",
   "execution_count": 181,
   "metadata": {
    "execution": {
     "iopub.execute_input": "2022-08-04T16:59:14.844408Z",
     "iopub.status.busy": "2022-08-04T16:59:14.844119Z",
     "iopub.status.idle": "2022-08-04T16:59:14.845256Z",
     "shell.execute_reply": "2022-08-04T16:59:14.845568Z"
    },
    "slideshow": {
     "slide_type": "skip"
    }
   },
   "outputs": [],
   "source": [
    "from typing import Tuple"
   ]
  },
  {
   "cell_type": "code",
   "execution_count": 182,
   "metadata": {
    "execution": {
     "iopub.execute_input": "2022-08-04T16:59:14.848817Z",
     "iopub.status.busy": "2022-08-04T16:59:14.848455Z",
     "iopub.status.idle": "2022-08-04T16:59:14.849800Z",
     "shell.execute_reply": "2022-08-04T16:59:14.850101Z"
    },
    "slideshow": {
     "slide_type": "subslide"
    }
   },
   "outputs": [],
   "source": [
    "def roots(a: float, b: float, c: float) -> Tuple[float, float]:\n",
    "    d: float = b * b - 4 * a * c\n",
    "    ax: float = 0.5 * d\n",
    "    bx: float = 0\n",
    "    while (ax - bx) > 0.1:\n",
    "        bx = 0.5 * (ax + d / ax)\n",
    "        ax = bx\n",
    "\n",
    "    s: float = bx\n",
    "    a2: float = 2 * a\n",
    "    ba2: float = b / a2\n",
    "\n",
    "    return -ba2 + s / a2, -ba2 - s / a2"
   ]
  },
  {
   "cell_type": "markdown",
   "metadata": {
    "slideshow": {
     "slide_type": "subslide"
    }
   },
   "source": [
    "Does the program look correct? Let us investigate if the program is reasonable. But before that, we need a helper\n",
    "function `sym_to_float()` to convert symbolic values to floating point."
   ]
  },
  {
   "cell_type": "code",
   "execution_count": 183,
   "metadata": {
    "execution": {
     "iopub.execute_input": "2022-08-04T16:59:14.852606Z",
     "iopub.status.busy": "2022-08-04T16:59:14.852261Z",
     "iopub.status.idle": "2022-08-04T16:59:14.853566Z",
     "shell.execute_reply": "2022-08-04T16:59:14.853869Z"
    },
    "slideshow": {
     "slide_type": "fragment"
    }
   },
   "outputs": [],
   "source": [
    "def sym_to_float(v):\n",
    "    if v is None:\n",
    "        return math.inf\n",
    "    elif isinstance(v, z3.IntNumRef):\n",
    "        return v.as_long()\n",
    "    return v.numerator_as_long() / v.denominator_as_long()"
   ]
  },
  {
   "cell_type": "markdown",
   "metadata": {
    "slideshow": {
     "slide_type": "fragment"
    }
   },
   "source": [
    "Now we are ready to fuzz."
   ]
  },
  {
   "cell_type": "code",
   "execution_count": 184,
   "metadata": {
    "execution": {
     "iopub.execute_input": "2022-08-04T16:59:14.855795Z",
     "iopub.status.busy": "2022-08-04T16:59:14.855481Z",
     "iopub.status.idle": "2022-08-04T16:59:14.859555Z",
     "shell.execute_reply": "2022-08-04T16:59:14.859779Z"
    },
    "slideshow": {
     "slide_type": "subslide"
    }
   },
   "outputs": [],
   "source": [
    "asymfz_roots = SymbolicFuzzer(\n",
    "    roots,\n",
    "    max_tries=10,\n",
    "    max_iter=10,\n",
    "    max_depth=10)"
   ]
  },
  {
   "cell_type": "code",
   "execution_count": 185,
   "metadata": {
    "execution": {
     "iopub.execute_input": "2022-08-04T16:59:14.862997Z",
     "iopub.status.busy": "2022-08-04T16:59:14.861327Z",
     "iopub.status.idle": "2022-08-04T16:59:14.879716Z",
     "shell.execute_reply": "2022-08-04T16:59:14.879985Z"
    },
    "slideshow": {
     "slide_type": "subslide"
    }
   },
   "outputs": [
    {
     "name": "stdout",
     "output_type": "stream",
     "text": [
      "{'a': 11/10, 'b': 0, 'c': -1/2}\n",
      "[1.1, 0.0, -0.5] (0.7045454545454545, -0.7045454545454545)\n",
      "{'a': 0, 'b': 7502999/16777216, 'c': -1/2}\n"
     ]
    },
    {
     "name": "stderr",
     "output_type": "stream",
     "text": [
      "Traceback (most recent call last):\n",
      "  File \"/var/folders/n2/xd9445p97rb3xh7m1dfx8_4h0006ts/T/ipykernel_26741/94617992.py\", line 6, in <module>\n",
      "    v = roots(*d)\n",
      "  File \"/var/folders/n2/xd9445p97rb3xh7m1dfx8_4h0006ts/T/ipykernel_26741/2299859991.py\", line 11, in roots\n",
      "    ba2: float = b / a2\n",
      "ZeroDivisionError: float division by zero (expected)\n"
     ]
    }
   ],
   "source": [
    "with ExpectError():\n",
    "    for i in range(100):\n",
    "        r = asymfz_roots.fuzz()\n",
    "        print(r)\n",
    "        d = [sym_to_float(r[i]) for i in ['a', 'b', 'c']]\n",
    "        v = roots(*d)\n",
    "        print(d, v)"
   ]
  },
  {
   "cell_type": "markdown",
   "metadata": {
    "slideshow": {
     "slide_type": "subslide"
    }
   },
   "source": [
    "We have a `ZeroDivisionError`. Can we eliminate it?"
   ]
  },
  {
   "cell_type": "markdown",
   "metadata": {
    "slideshow": {
     "slide_type": "subslide"
    }
   },
   "source": [
    "#####  Roots - Check Before Divide"
   ]
  },
  {
   "cell_type": "code",
   "execution_count": 186,
   "metadata": {
    "execution": {
     "iopub.execute_input": "2022-08-04T16:59:14.883404Z",
     "iopub.status.busy": "2022-08-04T16:59:14.883000Z",
     "iopub.status.idle": "2022-08-04T16:59:14.884302Z",
     "shell.execute_reply": "2022-08-04T16:59:14.884482Z"
    },
    "slideshow": {
     "slide_type": "subslide"
    }
   },
   "outputs": [],
   "source": [
    "def roots2(a: float, b: float, c: float) -> Tuple[float, float]:\n",
    "    d: float = b * b - 4 * a * c\n",
    "\n",
    "    xa: float = 0.5 * d\n",
    "    xb: float = 0\n",
    "    while (xa - xb) > 0.1:\n",
    "        xb = 0.5 * (xa + d / xa)\n",
    "        xa = xb\n",
    "\n",
    "    s: float = xb\n",
    "\n",
    "    if a == 0:\n",
    "        return -c / b, -c / b  # only one solution\n",
    "\n",
    "    a2: float = 2 * a\n",
    "    ba2: float = b / a2\n",
    "    return -ba2 + s / a2, -ba2 - s / a2"
   ]
  },
  {
   "cell_type": "code",
   "execution_count": 187,
   "metadata": {
    "execution": {
     "iopub.execute_input": "2022-08-04T16:59:14.887456Z",
     "iopub.status.busy": "2022-08-04T16:59:14.887136Z",
     "iopub.status.idle": "2022-08-04T16:59:14.891410Z",
     "shell.execute_reply": "2022-08-04T16:59:14.891619Z"
    },
    "slideshow": {
     "slide_type": "subslide"
    }
   },
   "outputs": [],
   "source": [
    "asymfz_roots = SymbolicFuzzer(\n",
    "    roots2,\n",
    "    max_tries=10,\n",
    "    max_iter=10,\n",
    "    max_depth=10)"
   ]
  },
  {
   "cell_type": "code",
   "execution_count": 188,
   "metadata": {
    "execution": {
     "iopub.execute_input": "2022-08-04T16:59:14.894260Z",
     "iopub.status.busy": "2022-08-04T16:59:14.893958Z",
     "iopub.status.idle": "2022-08-04T16:59:14.955354Z",
     "shell.execute_reply": "2022-08-04T16:59:14.955626Z"
    },
    "slideshow": {
     "slide_type": "subslide"
    }
   },
   "outputs": [
    {
     "name": "stderr",
     "output_type": "stream",
     "text": [
      "Traceback (most recent call last):\n",
      "  File \"/var/folders/n2/xd9445p97rb3xh7m1dfx8_4h0006ts/T/ipykernel_26741/567876003.py\", line 5, in <module>\n",
      "    v = roots2(*d)\n",
      "  File \"/var/folders/n2/xd9445p97rb3xh7m1dfx8_4h0006ts/T/ipykernel_26741/714795544.py\", line 13, in roots2\n",
      "    return -c / b, -c / b  # only one solution\n",
      "ZeroDivisionError: float division by zero (expected)\n"
     ]
    }
   ],
   "source": [
    "with ExpectError():\n",
    "    for i in range(1000):\n",
    "        r = asymfz_roots.fuzz()\n",
    "        d = [sym_to_float(r[i]) for i in ['a', 'b', 'c']]\n",
    "        v = roots2(*d)\n",
    "        #print(d, v)"
   ]
  },
  {
   "cell_type": "markdown",
   "metadata": {
    "slideshow": {
     "slide_type": "fragment"
    }
   },
   "source": [
    "Apparently, our fix was incomplete. Let us try again."
   ]
  },
  {
   "cell_type": "markdown",
   "metadata": {
    "slideshow": {
     "slide_type": "subslide"
    }
   },
   "source": [
    "#####  Roots - Eliminating the Zero Division Error"
   ]
  },
  {
   "cell_type": "code",
   "execution_count": 189,
   "metadata": {
    "execution": {
     "iopub.execute_input": "2022-08-04T16:59:14.957688Z",
     "iopub.status.busy": "2022-08-04T16:59:14.957364Z",
     "iopub.status.idle": "2022-08-04T16:59:14.958890Z",
     "shell.execute_reply": "2022-08-04T16:59:14.959130Z"
    },
    "slideshow": {
     "slide_type": "skip"
    }
   },
   "outputs": [],
   "source": [
    "import math"
   ]
  },
  {
   "cell_type": "code",
   "execution_count": 190,
   "metadata": {
    "execution": {
     "iopub.execute_input": "2022-08-04T16:59:14.962951Z",
     "iopub.status.busy": "2022-08-04T16:59:14.962444Z",
     "iopub.status.idle": "2022-08-04T16:59:14.964218Z",
     "shell.execute_reply": "2022-08-04T16:59:14.964489Z"
    },
    "slideshow": {
     "slide_type": "subslide"
    }
   },
   "outputs": [],
   "source": [
    "def roots3(a: float, b: float, c: float) -> Tuple[float, float]:\n",
    "    d: float = b * b - 4 * a * c\n",
    "\n",
    "    xa: float = 0.5 * d\n",
    "    xb: float = 0\n",
    "    while (xa - xb) > 0.1:\n",
    "        xb = 0.5 * (xa + d / xa)\n",
    "        xa = xb\n",
    "    s: float = xb\n",
    "\n",
    "    if a == 0:\n",
    "        if b == 0:\n",
    "            return math.inf, math.inf\n",
    "        return -c / b, -c / b  # only one solution\n",
    "\n",
    "    a2: float = 2 * a\n",
    "    ba2: float = b / a2\n",
    "    return -ba2 + s / a2, -ba2 - s / a2"
   ]
  },
  {
   "cell_type": "code",
   "execution_count": 191,
   "metadata": {
    "execution": {
     "iopub.execute_input": "2022-08-04T16:59:14.969385Z",
     "iopub.status.busy": "2022-08-04T16:59:14.969072Z",
     "iopub.status.idle": "2022-08-04T16:59:14.971220Z",
     "shell.execute_reply": "2022-08-04T16:59:14.971438Z"
    },
    "slideshow": {
     "slide_type": "subslide"
    }
   },
   "outputs": [],
   "source": [
    "asymfz_roots = SymbolicFuzzer(\n",
    "    roots3,\n",
    "    max_tries=10,\n",
    "    max_iter=10,\n",
    "    max_depth=10)"
   ]
  },
  {
   "cell_type": "code",
   "execution_count": 192,
   "metadata": {
    "execution": {
     "iopub.execute_input": "2022-08-04T16:59:14.974178Z",
     "iopub.status.busy": "2022-08-04T16:59:14.973808Z",
     "iopub.status.idle": "2022-08-04T16:59:15.021183Z",
     "shell.execute_reply": "2022-08-04T16:59:15.021437Z"
    },
    "slideshow": {
     "slide_type": "subslide"
    }
   },
   "outputs": [
    {
     "name": "stdout",
     "output_type": "stream",
     "text": [
      "{'a': -1, 'b': 0, 'c': 0}\n",
      "[-1.0, 0.0, 0.0] (0.0, 0.0)\n",
      "{'a': -11/20, 'b': 0, 'c': 1}\n",
      "[-0.55, 0.0, 1.0] (-1.409090909090909, 1.409090909090909)\n",
      "{'a': -31/20, 'b': -1, 'c': -1}\n",
      "[-1.55, -1.0, -1.0] (-0.3225806451612903, -0.3225806451612903)\n",
      "{'a': 0, 'b': 1/4, 'c': 2}\n",
      "[0.0, 0.25, 2.0] (-8.0, -8.0)\n",
      "{'a': 0, 'b': 0, 'c': 3}\n",
      "[0.0, 0.0, 3.0] (inf, inf)\n",
      "{'a': 0, 'b': 37764267/33554432, 'c': 4}\n",
      "[0.0, 1.1254628598690033, 4.0] (-3.554093291417519, -3.554093291417519)\n",
      "{'a': -21/20, 'b': 0, 'c': -1/2}\n",
      "[-1.05, 0.0, -0.5] (0.0, 0.0)\n",
      "{'a': 0, 'b': 3/8, 'c': 5}\n",
      "[0.0, 0.375, 5.0] (-13.333333333333334, -13.333333333333334)\n",
      "{'a': 0, 'b': 0, 'c': 6}\n",
      "[0.0, 0.0, 6.0] (inf, inf)\n",
      "{'a': 22/3, 'b': 0, 'c': -3/40}\n",
      "[7.333333333333333, 0.0, -0.075] (0.10568181818181817, -0.10568181818181817)\n"
     ]
    }
   ],
   "source": [
    "for i in range(10):\n",
    "    r = asymfz_roots.fuzz()\n",
    "    print(r)\n",
    "    d = [sym_to_float(r[i]) for i in ['a', 'b', 'c']]\n",
    "    v = roots3(*d)\n",
    "    print(d, v)"
   ]
  },
  {
   "cell_type": "markdown",
   "metadata": {
    "slideshow": {
     "slide_type": "subslide"
    }
   },
   "source": [
    "With this, we have demonstrated that we can use our *SymbolicFuzzer* to fuzz programs, and it can aid in identifying problems in code."
   ]
  },
  {
   "cell_type": "markdown",
   "metadata": {
    "slideshow": {
     "slide_type": "slide"
    },
    "tags": []
   },
   "source": [
    "## Limitations\n",
    "\n",
    "There is an evident error in the `roots3()` function. We are not checking for negative roots. However, the symbolic execution does not seem to have detected it. Why are we not able to detect the problem of negative roots? Because we stop execution at a predetermined depth without throwing an error. That is, our symbolic execution is wide but shallow. One of the ways this limitation can be overcome is by relying on [concolic execution](ConcolicFuzzer.ipynb), that allows one to go deeper than pure symbolic execution."
   ]
  },
  {
   "cell_type": "markdown",
   "metadata": {
    "jp-MarkdownHeadingCollapsed": true,
    "slideshow": {
     "slide_type": "fragment"
    },
    "tags": []
   },
   "source": [
    "A second problem is that symbolic execution is necessarily computation intensive. This means that specification based fuzzers are often able to generate a much larger set of inputs, and consecutively more coverage on programs that do not check for magic bytes, such that they provide a reasonable gradient of exploration."
   ]
  },
  {
   "cell_type": "markdown",
   "metadata": {
    "slideshow": {
     "slide_type": "slide"
    }
   },
   "source": [
    "## Synopsis"
   ]
  },
  {
   "cell_type": "markdown",
   "metadata": {
    "slideshow": {
     "slide_type": "fragment"
    }
   },
   "source": [
    "This chapter provides an implementation of a symbolic fuzzing engine `SymbolicFuzzer`. The fuzzer uses symbolic execution to exhaustively explore paths in the program to a limited depth, and generate inputs that will reach these paths."
   ]
  },
  {
   "cell_type": "markdown",
   "metadata": {
    "slideshow": {
     "slide_type": "fragment"
    }
   },
   "source": [
    "As an example, consider the function `gcd()`, computing the greatest common divisor of `a` and `b`:"
   ]
  },
  {
   "cell_type": "code",
   "execution_count": 193,
   "metadata": {
    "execution": {
     "iopub.execute_input": "2022-08-04T16:59:15.023859Z",
     "iopub.status.busy": "2022-08-04T16:59:15.023531Z",
     "iopub.status.idle": "2022-08-04T16:59:15.024833Z",
     "shell.execute_reply": "2022-08-04T16:59:15.025052Z"
    },
    "slideshow": {
     "slide_type": "fragment"
    }
   },
   "outputs": [],
   "source": [
    "# ignore\n",
    "from bookutils import print_content"
   ]
  },
  {
   "cell_type": "code",
   "execution_count": 194,
   "metadata": {
    "execution": {
     "iopub.execute_input": "2022-08-04T16:59:15.048795Z",
     "iopub.status.busy": "2022-08-04T16:59:15.032444Z",
     "iopub.status.idle": "2022-08-04T16:59:15.173630Z",
     "shell.execute_reply": "2022-08-04T16:59:15.173862Z"
    },
    "slideshow": {
     "slide_type": "subslide"
    }
   },
   "outputs": [
    {
     "name": "stdout",
     "output_type": "stream",
     "text": [
      "\u001b[34mdef\u001b[39;49;00m \u001b[32mgcd\u001b[39;49;00m(a: \u001b[36mint\u001b[39;49;00m, b: \u001b[36mint\u001b[39;49;00m) -> \u001b[36mint\u001b[39;49;00m:\n",
      "    \u001b[34mif\u001b[39;49;00m a < b:\n",
      "        c: \u001b[36mint\u001b[39;49;00m = a  \u001b[37m# type: ignore\u001b[39;49;00m\n",
      "        a = b\n",
      "        b = c\n",
      "\n",
      "    \u001b[34mwhile\u001b[39;49;00m b != \u001b[34m0\u001b[39;49;00m:\n",
      "        c: \u001b[36mint\u001b[39;49;00m = a  \u001b[37m# type: ignore\u001b[39;49;00m\n",
      "        a = b\n",
      "        b = c % b\n",
      "\n",
      "    \u001b[34mreturn\u001b[39;49;00m a"
     ]
    }
   ],
   "source": [
    "# ignore\n",
    "print_content(inspect.getsource(gcd), '.py')"
   ]
  },
  {
   "cell_type": "markdown",
   "metadata": {
    "slideshow": {
     "slide_type": "subslide"
    }
   },
   "source": [
    "To explore `gcd()`, the fuzzer can be used as follows, producing values for arguments that cover different paths in `gcd()` (including multiple times of loop iterations):"
   ]
  },
  {
   "cell_type": "code",
   "execution_count": 195,
   "metadata": {
    "execution": {
     "iopub.execute_input": "2022-08-04T16:59:15.180364Z",
     "iopub.status.busy": "2022-08-04T16:59:15.179846Z",
     "iopub.status.idle": "2022-08-04T16:59:15.207207Z",
     "shell.execute_reply": "2022-08-04T16:59:15.207416Z"
    },
    "slideshow": {
     "slide_type": "subslide"
    }
   },
   "outputs": [
    {
     "name": "stdout",
     "output_type": "stream",
     "text": [
      "{'a': 8, 'b': 3}\n",
      "{'a': 1, 'b': 2}\n",
      "{'a': 2, 'b': 5}\n",
      "{'a': 7, 'b': 6}\n",
      "{'a': 9, 'b': 10}\n",
      "{'a': 4, 'b': 4}\n",
      "{'a': 10, 'b': 9}\n",
      "{'a': 2, 'b': 10}\n",
      "{'a': 14, 'b': 7}\n",
      "{'a': 3, 'b': 2}\n"
     ]
    }
   ],
   "source": [
    "gcd_fuzzer = SymbolicFuzzer(gcd, max_tries=10, max_iter=10, max_depth=10)\n",
    "for i in range(10):\n",
    "    args = gcd_fuzzer.fuzz()\n",
    "    print(args)"
   ]
  },
  {
   "cell_type": "markdown",
   "metadata": {
    "slideshow": {
     "slide_type": "subslide"
    }
   },
   "source": [
    "Note that the variable values returned by `fuzz()` are Z3 _symbolic_ values; to convert them to Python numbers, use their method `as_long()`:"
   ]
  },
  {
   "cell_type": "code",
   "execution_count": 196,
   "metadata": {
    "execution": {
     "iopub.execute_input": "2022-08-04T16:59:15.211589Z",
     "iopub.status.busy": "2022-08-04T16:59:15.210913Z",
     "iopub.status.idle": "2022-08-04T16:59:15.230894Z",
     "shell.execute_reply": "2022-08-04T16:59:15.231250Z"
    },
    "slideshow": {
     "slide_type": "subslide"
    }
   },
   "outputs": [
    {
     "name": "stdout",
     "output_type": "stream",
     "text": [
      "gcd(0, 8) = 8\n",
      "gcd(-1, 10) = -1\n",
      "gcd(13, 2) = 1\n",
      "gcd(0, 10) = 10\n",
      "gcd(6, 7) = 1\n",
      "gcd(14, 2) = 2\n",
      "gcd(-1, 11) = -1\n",
      "gcd(15, 0) = 15\n",
      "gcd(0, -1) = -1\n",
      "gcd(-3, -2) = -1\n"
     ]
    }
   ],
   "source": [
    "for i in range(10):\n",
    "    args = gcd_fuzzer.fuzz()\n",
    "    a = args['a'].as_long()\n",
    "    b = args['b'].as_long()\n",
    "    d = gcd(a, b)\n",
    "    print(f\"gcd({a}, {b}) = {d}\")"
   ]
  },
  {
   "cell_type": "markdown",
   "metadata": {
    "slideshow": {
     "slide_type": "subslide"
    }
   },
   "source": [
    "The symbolic fuzzer is subject to a number of constraints. First, it requires that the function to be fuzzed has correct type annotations, including all local variables. Second, it solves loops by unrolling them, but only for a fixed amount."
   ]
  },
  {
   "cell_type": "markdown",
   "metadata": {
    "slideshow": {
     "slide_type": "fragment"
    }
   },
   "source": [
    "For programs without loops and variable reassignments, the `SimpleSymbolicFuzzer` is a faster, but more limited alternative."
   ]
  },
  {
   "cell_type": "code",
   "execution_count": 197,
   "metadata": {
    "execution": {
     "iopub.execute_input": "2022-08-04T16:59:15.235824Z",
     "iopub.status.busy": "2022-08-04T16:59:15.235215Z",
     "iopub.status.idle": "2022-08-04T16:59:15.588897Z",
     "shell.execute_reply": "2022-08-04T16:59:15.589081Z"
    },
    "slideshow": {
     "slide_type": "fragment"
    }
   },
   "outputs": [
    {
     "data": {
      "image/svg+xml": [
       "<?xml version=\"1.0\" encoding=\"UTF-8\" standalone=\"no\"?>\n",
       "<!DOCTYPE svg PUBLIC \"-//W3C//DTD SVG 1.1//EN\"\n",
       " \"http://www.w3.org/Graphics/SVG/1.1/DTD/svg11.dtd\">\n",
       "<!-- Generated by graphviz version 5.0.0 (20220707.1540)\n",
       " -->\n",
       "<!-- Pages: 1 -->\n",
       "<svg width=\"302pt\" height=\"363pt\"\n",
       " viewBox=\"0.00 0.00 301.50 363.00\" xmlns=\"http://www.w3.org/2000/svg\" xmlns:xlink=\"http://www.w3.org/1999/xlink\">\n",
       "<g id=\"graph0\" class=\"graph\" transform=\"scale(1 1) rotate(0) translate(4 359)\">\n",
       "<g id=\"a_graph0\"><a xlink:title=\"SymbolicFuzzer class hierarchy\">\n",
       "<polygon fill=\"white\" stroke=\"transparent\" points=\"-4,4 -4,-359 297.5,-359 297.5,4 -4,4\"/>\n",
       "</a>\n",
       "</g>\n",
       "<!-- SymbolicFuzzer -->\n",
       "<g id=\"node1\" class=\"node\">\n",
       "<title>SymbolicFuzzer</title>\n",
       "<g id=\"a_node1\"><a xlink:href=\"#\" xlink:title=\"class SymbolicFuzzer:&#10;Symbolic fuzzing with reassignments and loop unrolling\">\n",
       "<polygon fill=\"none\" stroke=\"black\" points=\"0,-0.5 0,-86.5 155,-86.5 155,-0.5 0,-0.5\"/>\n",
       "<text text-anchor=\"start\" x=\"28.5\" y=\"-72.3\" font-family=\"Patua One, Helvetica, sans-serif\" font-weight=\"bold\" font-size=\"14.00\" fill=\"#b03a2e\">SymbolicFuzzer</text>\n",
       "<polyline fill=\"none\" stroke=\"black\" points=\"0,-63.5 155,-63.5 \"/>\n",
       "<g id=\"a_node1_0\"><a xlink:href=\"#\" xlink:title=\"SymbolicFuzzer\">\n",
       "<g id=\"a_node1_1\"><a xlink:href=\"#\" xlink:title=\"extract_constraints(self, path)\">\n",
       "<text text-anchor=\"start\" x=\"8.5\" y=\"-52\" font-family=\"'Fira Mono', 'Source Code Pro', 'Courier', monospace\" font-style=\"italic\" font-size=\"10.00\">extract_constraints()</text>\n",
       "</a>\n",
       "</g>\n",
       "<g id=\"a_node1_2\"><a xlink:href=\"#\" xlink:title=\"get_all_paths(self, fenter)\">\n",
       "<text text-anchor=\"start\" x=\"8.5\" y=\"-41\" font-family=\"'Fira Mono', 'Source Code Pro', 'Courier', monospace\" font-style=\"italic\" font-size=\"10.00\">get_all_paths()</text>\n",
       "</a>\n",
       "</g>\n",
       "<g id=\"a_node1_3\"><a xlink:href=\"#\" xlink:title=\"get_next_path(self)\">\n",
       "<text text-anchor=\"start\" x=\"8.5\" y=\"-30\" font-family=\"'Fira Mono', 'Source Code Pro', 'Courier', monospace\" font-style=\"italic\" font-size=\"10.00\">get_next_path()</text>\n",
       "</a>\n",
       "</g>\n",
       "<g id=\"a_node1_4\"><a xlink:href=\"#\" xlink:title=\"options(self, kwargs)\">\n",
       "<text text-anchor=\"start\" x=\"8.5\" y=\"-19\" font-family=\"'Fira Mono', 'Source Code Pro', 'Courier', monospace\" font-style=\"italic\" font-size=\"10.00\">options()</text>\n",
       "</a>\n",
       "</g>\n",
       "<g id=\"a_node1_5\"><a xlink:href=\"#\" xlink:title=\"solve_path_constraint(self, path)\">\n",
       "<text text-anchor=\"start\" x=\"8.5\" y=\"-8\" font-family=\"'Fira Mono', 'Source Code Pro', 'Courier', monospace\" font-style=\"italic\" font-size=\"10.00\">solve_path_constraint()</text>\n",
       "</a>\n",
       "</g>\n",
       "</a>\n",
       "</g>\n",
       "</a>\n",
       "</g>\n",
       "</g>\n",
       "<!-- SimpleSymbolicFuzzer -->\n",
       "<g id=\"node2\" class=\"node\">\n",
       "<title>SimpleSymbolicFuzzer</title>\n",
       "<g id=\"a_node2\"><a xlink:href=\"#\" xlink:title=\"class SimpleSymbolicFuzzer:&#10;Simple symbolic fuzzer\">\n",
       "<polygon fill=\"none\" stroke=\"black\" points=\"0,-123.5 0,-242.5 155,-242.5 155,-123.5 0,-123.5\"/>\n",
       "<text text-anchor=\"start\" x=\"8\" y=\"-228.3\" font-family=\"Patua One, Helvetica, sans-serif\" font-weight=\"bold\" font-size=\"14.00\" fill=\"#b03a2e\">SimpleSymbolicFuzzer</text>\n",
       "<polyline fill=\"none\" stroke=\"black\" points=\"0,-219.5 155,-219.5 \"/>\n",
       "<g id=\"a_node2_6\"><a xlink:href=\"#\" xlink:title=\"SimpleSymbolicFuzzer\">\n",
       "<g id=\"a_node2_7\"><a xlink:href=\"#\" xlink:title=\"__init__(self, fn, **kwargs):&#10;Constructor.&#10;`fn` is the function to be fuzzed.&#10;Possible keyword parameters:&#10;* `max_depth` &#45; the depth to which one should attempt&#10;to trace the execution (default 100)&#10;* `max_tries` &#45; the maximum number of attempts&#10;we will try to produce a value before giving up (default 100)&#10;* `max_iter` &#45; the number of iterations we will attempt (default 100).\">\n",
       "<text text-anchor=\"start\" x=\"8.5\" y=\"-208.5\" font-family=\"'Fira Mono', 'Source Code Pro', 'Courier', monospace\" font-weight=\"bold\" font-style=\"italic\" font-size=\"10.00\">__init__()</text>\n",
       "</a>\n",
       "</g>\n",
       "<g id=\"a_node2_8\"><a xlink:href=\"#\" xlink:title=\"fuzz(self):&#10;Produce one solution for each path.&#10;Returns a mapping of variable names to (symbolic) Z3 values.\">\n",
       "<text text-anchor=\"start\" x=\"8.5\" y=\"-197.5\" font-family=\"'Fira Mono', 'Source Code Pro', 'Courier', monospace\" font-weight=\"bold\" font-style=\"italic\" font-size=\"10.00\">fuzz()</text>\n",
       "</a>\n",
       "</g>\n",
       "<g id=\"a_node2_9\"><a xlink:href=\"#\" xlink:title=\"extract_constraints(self, path)\">\n",
       "<text text-anchor=\"start\" x=\"8.5\" y=\"-186.5\" font-family=\"'Fira Mono', 'Source Code Pro', 'Courier', monospace\" font-style=\"italic\" font-size=\"10.00\">extract_constraints()</text>\n",
       "</a>\n",
       "</g>\n",
       "<g id=\"a_node2_10\"><a xlink:href=\"#\" xlink:title=\"get_all_paths(self, fenter, depth=0)\">\n",
       "<text text-anchor=\"start\" x=\"8.5\" y=\"-175.5\" font-family=\"'Fira Mono', 'Source Code Pro', 'Courier', monospace\" font-style=\"italic\" font-size=\"10.00\">get_all_paths()</text>\n",
       "</a>\n",
       "</g>\n",
       "<g id=\"a_node2_11\"><a xlink:href=\"#\" xlink:title=\"get_next_path(self)\">\n",
       "<text text-anchor=\"start\" x=\"8.5\" y=\"-164.5\" font-family=\"'Fira Mono', 'Source Code Pro', 'Courier', monospace\" font-style=\"italic\" font-size=\"10.00\">get_next_path()</text>\n",
       "</a>\n",
       "</g>\n",
       "<g id=\"a_node2_12\"><a xlink:href=\"#\" xlink:title=\"options(self, kwargs)\">\n",
       "<text text-anchor=\"start\" x=\"8.5\" y=\"-153.5\" font-family=\"'Fira Mono', 'Source Code Pro', 'Courier', monospace\" font-style=\"italic\" font-size=\"10.00\">options()</text>\n",
       "</a>\n",
       "</g>\n",
       "<g id=\"a_node2_13\"><a xlink:href=\"#\" xlink:title=\"process(self)\">\n",
       "<text text-anchor=\"start\" x=\"8.5\" y=\"-141.5\" font-family=\"'Fira Mono', 'Source Code Pro', 'Courier', monospace\" font-size=\"10.00\">process()</text>\n",
       "</a>\n",
       "</g>\n",
       "<g id=\"a_node2_14\"><a xlink:href=\"#\" xlink:title=\"solve_path_constraint(self, path)\">\n",
       "<text text-anchor=\"start\" x=\"8.5\" y=\"-131.5\" font-family=\"'Fira Mono', 'Source Code Pro', 'Courier', monospace\" font-style=\"italic\" font-size=\"10.00\">solve_path_constraint()</text>\n",
       "</a>\n",
       "</g>\n",
       "</a>\n",
       "</g>\n",
       "</a>\n",
       "</g>\n",
       "</g>\n",
       "<!-- SymbolicFuzzer&#45;&gt;SimpleSymbolicFuzzer -->\n",
       "<g id=\"edge1\" class=\"edge\">\n",
       "<title>SymbolicFuzzer&#45;&gt;SimpleSymbolicFuzzer</title>\n",
       "<path fill=\"none\" stroke=\"black\" d=\"M77.5,-86.5C77.5,-94.94 77.5,-104.01 77.5,-113.08\"/>\n",
       "<polygon fill=\"none\" stroke=\"black\" points=\"74,-113.3 77.5,-123.3 81,-113.3 74,-113.3\"/>\n",
       "</g>\n",
       "<!-- Fuzzer -->\n",
       "<g id=\"node3\" class=\"node\">\n",
       "<title>Fuzzer</title>\n",
       "<g id=\"a_node3\"><a xlink:href=\"Fuzzer.ipynb\" xlink:title=\"class Fuzzer:&#10;Base class for fuzzers.\">\n",
       "<polygon fill=\"none\" stroke=\"black\" points=\"39,-279.5 39,-354.5 116,-354.5 116,-279.5 39,-279.5\"/>\n",
       "<text text-anchor=\"start\" x=\"56.5\" y=\"-340.3\" font-family=\"Patua One, Helvetica, sans-serif\" font-weight=\"bold\" font-size=\"14.00\" fill=\"#b03a2e\">Fuzzer</text>\n",
       "<polyline fill=\"none\" stroke=\"black\" points=\"39,-331.5 116,-331.5 \"/>\n",
       "<g id=\"a_node3_15\"><a xlink:href=\"#\" xlink:title=\"Fuzzer\">\n",
       "<g id=\"a_node3_16\"><a xlink:href=\"Fuzzer.ipynb\" xlink:title=\"__init__(self) &#45;&gt; None:&#10;Constructor\">\n",
       "<text text-anchor=\"start\" x=\"47.5\" y=\"-320.5\" font-family=\"'Fira Mono', 'Source Code Pro', 'Courier', monospace\" font-weight=\"bold\" font-style=\"italic\" font-size=\"10.00\">__init__()</text>\n",
       "</a>\n",
       "</g>\n",
       "<g id=\"a_node3_17\"><a xlink:href=\"Fuzzer.ipynb\" xlink:title=\"fuzz(self) &#45;&gt; str:&#10;Return fuzz input\">\n",
       "<text text-anchor=\"start\" x=\"47.5\" y=\"-309.5\" font-family=\"'Fira Mono', 'Source Code Pro', 'Courier', monospace\" font-weight=\"bold\" font-style=\"italic\" font-size=\"10.00\">fuzz()</text>\n",
       "</a>\n",
       "</g>\n",
       "<g id=\"a_node3_18\"><a xlink:href=\"Fuzzer.ipynb\" xlink:title=\"run(self, runner: Fuzzer.Runner = &lt;Fuzzer.Runner object at 0x10877fa90&gt;) &#45;&gt; Tuple[subprocess.CompletedProcess, str]:&#10;Run `runner` with fuzz input\">\n",
       "<text text-anchor=\"start\" x=\"47.5\" y=\"-298.5\" font-family=\"'Fira Mono', 'Source Code Pro', 'Courier', monospace\" font-weight=\"bold\" font-size=\"10.00\">run()</text>\n",
       "</a>\n",
       "</g>\n",
       "<g id=\"a_node3_19\"><a xlink:href=\"Fuzzer.ipynb\" xlink:title=\"runs(self, runner: Fuzzer.Runner = &lt;Fuzzer.PrintRunner object at 0x10877f370&gt;, trials: int = 10) &#45;&gt; List[Tuple[subprocess.CompletedProcess, str]]:&#10;Run `runner` with fuzz input, `trials` times\">\n",
       "<text text-anchor=\"start\" x=\"47.5\" y=\"-287.5\" font-family=\"'Fira Mono', 'Source Code Pro', 'Courier', monospace\" font-weight=\"bold\" font-size=\"10.00\">runs()</text>\n",
       "</a>\n",
       "</g>\n",
       "</a>\n",
       "</g>\n",
       "</a>\n",
       "</g>\n",
       "</g>\n",
       "<!-- SimpleSymbolicFuzzer&#45;&gt;Fuzzer -->\n",
       "<g id=\"edge2\" class=\"edge\">\n",
       "<title>SimpleSymbolicFuzzer&#45;&gt;Fuzzer</title>\n",
       "<path fill=\"none\" stroke=\"black\" d=\"M77.5,-242.67C77.5,-251.58 77.5,-260.66 77.5,-269.27\"/>\n",
       "<polygon fill=\"none\" stroke=\"black\" points=\"74,-269.49 77.5,-279.49 81,-269.49 74,-269.49\"/>\n",
       "</g>\n",
       "<!-- Legend -->\n",
       "<g id=\"node4\" class=\"node\">\n",
       "<title>Legend</title>\n",
       "<text text-anchor=\"start\" x=\"173.5\" y=\"-61\" font-family=\"Patua One, Helvetica, sans-serif\" font-weight=\"bold\" font-size=\"10.00\" fill=\"#b03a2e\">Legend</text>\n",
       "<text text-anchor=\"start\" x=\"173.5\" y=\"-51\" font-family=\"Patua One, Helvetica, sans-serif\" font-size=\"10.00\">• </text>\n",
       "<text text-anchor=\"start\" x=\"180.5\" y=\"-51\" font-family=\"'Fira Mono', 'Source Code Pro', 'Courier', monospace\" font-weight=\"bold\" font-size=\"8.00\">public_method()</text>\n",
       "<text text-anchor=\"start\" x=\"173.5\" y=\"-41\" font-family=\"Patua One, Helvetica, sans-serif\" font-size=\"10.00\">• </text>\n",
       "<text text-anchor=\"start\" x=\"180.5\" y=\"-41\" font-family=\"'Fira Mono', 'Source Code Pro', 'Courier', monospace\" font-size=\"8.00\">private_method()</text>\n",
       "<text text-anchor=\"start\" x=\"173.5\" y=\"-31\" font-family=\"Patua One, Helvetica, sans-serif\" font-size=\"10.00\">• </text>\n",
       "<text text-anchor=\"start\" x=\"180.5\" y=\"-31\" font-family=\"'Fira Mono', 'Source Code Pro', 'Courier', monospace\" font-style=\"italic\" font-size=\"8.00\">overloaded_method()</text>\n",
       "<text text-anchor=\"start\" x=\"173.5\" y=\"-21.8\" font-family=\"Helvetica,sans-Serif\" font-size=\"9.00\">Hover over names to see doc</text>\n",
       "</g>\n",
       "</g>\n",
       "</svg>\n"
      ],
      "text/plain": [
       "<graphviz.graphs.Digraph at 0x13876cfd0>"
      ]
     },
     "execution_count": 197,
     "metadata": {},
     "output_type": "execute_result"
    }
   ],
   "source": [
    "# ignore\n",
    "from ClassDiagram import display_class_hierarchy\n",
    "display_class_hierarchy(SymbolicFuzzer)"
   ]
  },
  {
   "cell_type": "markdown",
   "metadata": {
    "button": false,
    "new_sheet": true,
    "run_control": {
     "read_only": false
    },
    "slideshow": {
     "slide_type": "slide"
    }
   },
   "source": [
    "## Lessons Learned\n",
    "\n",
    "* One can use symbolic execution to augment the inputs that explore all characteristics of a program.\n",
    "* Symbolic execution can be broad but shallow.\n",
    "* Symbolic execution is well suited for programs that rely on specific values to be present in the input, however, its utility decreases when such values are not present, and the input space represents a gradient in terms of coverage."
   ]
  },
  {
   "cell_type": "markdown",
   "metadata": {
    "button": false,
    "new_sheet": false,
    "run_control": {
     "read_only": false
    },
    "slideshow": {
     "slide_type": "slide"
    }
   },
   "source": [
    "## Next Steps\n",
    "\n",
    "* [Search based fuzzing](SearchBasedFuzzer.ipynb) can often be an acceptable middle ground when random fuzzing does not provide sufficient results, but symbolic fuzzing is too heavyweight."
   ]
  },
  {
   "cell_type": "markdown",
   "metadata": {
    "slideshow": {
     "slide_type": "slide"
    }
   },
   "source": [
    "## Background\n",
    "\n",
    "Symbolic execution of programs was originally described by King \\cite{king1976symbolic} in 1976. It is used extensively in vulnerability analysis of software, especially binary programs. Some of the well known symbolic execution tools include *KLEE* \\cite{KLEE}, *angr* \\cite{wang2017angr}, *Driller* \\cite{stephens2016driller}, and *SAGE* \\cite{godefroid2012sage}. The best known symbolic execution environment for Python is CHEF \\cite{bucur2014prototyping} which does symbolic execution by modifying the interpreter.\n",
    "\n",
    "The Z3 solver we use in this chapter was developed at Microsoft Research under the lead of Leonardo de Moura and Nikolaj Bjørner \\cite{z3}. It is one of the most popular solvers."
   ]
  },
  {
   "cell_type": "markdown",
   "metadata": {
    "button": false,
    "new_sheet": true,
    "run_control": {
     "read_only": false
    },
    "slideshow": {
     "slide_type": "slide"
    }
   },
   "source": [
    "## Exercises"
   ]
  },
  {
   "cell_type": "markdown",
   "metadata": {
    "button": false,
    "new_sheet": false,
    "run_control": {
     "read_only": false
    },
    "slideshow": {
     "slide_type": "subslide"
    },
    "solution": "hidden",
    "solution2": "hidden",
    "solution2_first": true,
    "solution_first": true
   },
   "source": [
    "### Exercise 1: Extending Symbolic Fuzzer to use function summaries\n",
    "\n",
    "We showed in the first section how function summaries may be produced. Can you extend the `SymbolicFuzzer` to use function summaries when needed?"
   ]
  },
  {
   "cell_type": "markdown",
   "metadata": {
    "button": false,
    "new_sheet": false,
    "run_control": {
     "read_only": false
    },
    "slideshow": {
     "slide_type": "skip"
    },
    "solution": "hidden",
    "solution2": "hidden"
   },
   "source": [
    "**Solution.** _None yet available._"
   ]
  },
  {
   "cell_type": "markdown",
   "metadata": {
    "slideshow": {
     "slide_type": "subslide"
    }
   },
   "source": [
    "### Exercise 2: Statically checking if a loop should be unrolled further\n",
    "\n",
    "We examined how loops would be unrolled during exploration to a fixed depth. However, not all loops need to be unrolled completely. Some of the loops may contain only a constant number of iterations. For example, consider the loop below."
   ]
  },
  {
   "cell_type": "code",
   "execution_count": 198,
   "metadata": {
    "execution": {
     "iopub.execute_input": "2022-08-04T16:59:15.591740Z",
     "iopub.status.busy": "2022-08-04T16:59:15.591424Z",
     "iopub.status.idle": "2022-08-04T16:59:15.592672Z",
     "shell.execute_reply": "2022-08-04T16:59:15.592876Z"
    },
    "slideshow": {
     "slide_type": "fragment"
    }
   },
   "outputs": [],
   "source": [
    "i = 0\n",
    "while i < 10:\n",
    "    i += 1"
   ]
  },
  {
   "cell_type": "markdown",
   "metadata": {
    "slideshow": {
     "slide_type": "fragment"
    }
   },
   "source": [
    "This loop needs to be unrolled exactly $10$ times. For such cases, can you implement a method `can_be_satisfied()` which is invoked as below, to only unroll further if the path condition can be satisfied."
   ]
  },
  {
   "cell_type": "code",
   "execution_count": 199,
   "metadata": {
    "execution": {
     "iopub.execute_input": "2022-08-04T16:59:15.597332Z",
     "iopub.status.busy": "2022-08-04T16:59:15.596791Z",
     "iopub.status.idle": "2022-08-04T16:59:15.598104Z",
     "shell.execute_reply": "2022-08-04T16:59:15.598307Z"
    },
    "slideshow": {
     "slide_type": "subslide"
    },
    "solution2": "hidden",
    "solution2_first": true
   },
   "outputs": [],
   "source": [
    "class SymbolicFuzzer(SymbolicFuzzer):\n",
    "    def get_all_paths(self, fenter):\n",
    "        path_lst = [PNode(0, fenter)]\n",
    "        completed = []\n",
    "        for i in range(self.max_iter):\n",
    "            new_paths = [PNode(0, fenter)]\n",
    "            for path in path_lst:\n",
    "                # explore each path once\n",
    "                if path.cfgnode.children:\n",
    "                    np = path.explore()\n",
    "                    for p in np:\n",
    "                        if path.idx > self.max_depth:\n",
    "                            break\n",
    "                        if self.can_be_satisfied(p):\n",
    "                            new_paths.append(p)\n",
    "                        else:\n",
    "                            break\n",
    "                else:\n",
    "                    completed.append(path)\n",
    "            path_lst = new_paths\n",
    "        return completed + path_lst"
   ]
  },
  {
   "cell_type": "markdown",
   "metadata": {
    "slideshow": {
     "slide_type": "skip"
    },
    "solution2": "hidden",
    "solution2_first": true
   },
   "source": [
    "**Solution.** Here is a solution."
   ]
  },
  {
   "cell_type": "code",
   "execution_count": 200,
   "metadata": {
    "execution": {
     "iopub.execute_input": "2022-08-04T16:59:15.601675Z",
     "iopub.status.busy": "2022-08-04T16:59:15.601216Z",
     "iopub.status.idle": "2022-08-04T16:59:15.602482Z",
     "shell.execute_reply": "2022-08-04T16:59:15.602735Z"
    },
    "slideshow": {
     "slide_type": "skip"
    },
    "solution2": "hidden"
   },
   "outputs": [],
   "source": [
    "class SymbolicFuzzer(SymbolicFuzzer):\n",
    "    def can_be_satisfied(self, p):\n",
    "        s2 = self.extract_constraints(p.get_path_to_root())\n",
    "        s = z3.Solver()\n",
    "        identifiers = [c for i in s2 for c in used_identifiers(i)]\n",
    "        with_types = identifiers_with_types(identifiers, self.used_variables)\n",
    "        decl = define_symbolic_vars(with_types, '')\n",
    "        exec(decl)\n",
    "        exec(\"s.add(z3.And(%s))\" % ','.join(s2), globals(), locals())\n",
    "        return s.check() == z3.sat"
   ]
  },
  {
   "cell_type": "markdown",
   "metadata": {
    "slideshow": {
     "slide_type": "skip"
    },
    "solution2": "hidden"
   },
   "source": [
    "With this implementation, new conditions are appended to paths if and only if the paths are still satisfiable after incorporating the condition."
   ]
  },
  {
   "cell_type": "markdown",
   "metadata": {
    "slideshow": {
     "slide_type": "subslide"
    }
   },
   "source": [
    "### Exercise 3: Implementing a Concolic Fuzzer\n"
   ]
  },
  {
   "cell_type": "markdown",
   "metadata": {
    "slideshow": {
     "slide_type": "fragment"
    },
    "solution2": "hidden",
    "solution2_first": true
   },
   "source": [
    "We have seen in the chapter on [concolic fuzzing](ConcolicFuzzer.ipynb) how to trace a function concolically using information flow. However, this is somewhat sub-optimal as the constraints can get dropped when the information flow is indirect (as in control flow based information flow). Can you implement concolic tracing using the infrastructure we built for symbolic execution?"
   ]
  },
  {
   "cell_type": "markdown",
   "metadata": {
    "slideshow": {
     "slide_type": "skip"
    },
    "solution2": "hidden",
    "solution2_first": true
   },
   "source": [
    "**Solution.** Here is a possible solution."
   ]
  },
  {
   "cell_type": "markdown",
   "metadata": {
    "slideshow": {
     "slide_type": "skip"
    },
    "solution2": "hidden"
   },
   "source": [
    "In *concolic execution*, we rely on a seed input to guide our symbolic execution. We collect the line numbers that our seed input traces, and feed it to the symbolic execution such that in the `explore` step, only the child node that correspond to the seed input execution path is chosen. This allows us to collect the complete set of constraints along a *representative path*. Once we have it, we can choose any particular predicate and invert it to explore the program execution paths near the representative path."
   ]
  },
  {
   "cell_type": "markdown",
   "metadata": {
    "slideshow": {
     "slide_type": "skip"
    },
    "solution2": "hidden"
   },
   "source": [
    "We modify our original `ArcCoverage` to provide *all* line numbers that the program traversed."
   ]
  },
  {
   "cell_type": "code",
   "execution_count": 201,
   "metadata": {
    "execution": {
     "iopub.execute_input": "2022-08-04T16:59:15.605717Z",
     "iopub.status.busy": "2022-08-04T16:59:15.605345Z",
     "iopub.status.idle": "2022-08-04T16:59:15.606620Z",
     "shell.execute_reply": "2022-08-04T16:59:15.606828Z"
    },
    "slideshow": {
     "slide_type": "skip"
    },
    "solution2": "hidden"
   },
   "outputs": [],
   "source": [
    "class TrackingArcCoverage(ArcCoverage):\n",
    "    def offsets_from_entry(self, fn):\n",
    "        zero = self._trace[0][1] - 1\n",
    "        return [l - zero for (f, l) in self._trace if f == fn]"
   ]
  },
  {
   "cell_type": "code",
   "execution_count": 202,
   "metadata": {
    "execution": {
     "iopub.execute_input": "2022-08-04T16:59:15.612462Z",
     "iopub.status.busy": "2022-08-04T16:59:15.612135Z",
     "iopub.status.idle": "2022-08-04T16:59:15.630238Z",
     "shell.execute_reply": "2022-08-04T16:59:15.630429Z"
    },
    "slideshow": {
     "slide_type": "skip"
    },
    "solution2": "hidden"
   },
   "outputs": [],
   "source": [
    "with TrackingArcCoverage() as cov:\n",
    "    roots3(1, 1, 1)"
   ]
  },
  {
   "cell_type": "code",
   "execution_count": 203,
   "metadata": {
    "execution": {
     "iopub.execute_input": "2022-08-04T16:59:15.632666Z",
     "iopub.status.busy": "2022-08-04T16:59:15.632365Z",
     "iopub.status.idle": "2022-08-04T16:59:15.634032Z",
     "shell.execute_reply": "2022-08-04T16:59:15.633791Z"
    },
    "slideshow": {
     "slide_type": "skip"
    },
    "solution2": "hidden"
   },
   "outputs": [
    {
     "data": {
      "text/plain": [
       "[1, 2, 4, 5, 6, 9, 11, 16, 17, 18]"
      ]
     },
     "execution_count": 203,
     "metadata": {},
     "output_type": "execute_result"
    }
   ],
   "source": [
    "cov.offsets_from_entry('roots3')"
   ]
  },
  {
   "cell_type": "markdown",
   "metadata": {
    "slideshow": {
     "slide_type": "skip"
    },
    "solution2": "hidden"
   },
   "source": [
    "The `ConcolicTracer` first extracts the program trace on a seed input."
   ]
  },
  {
   "cell_type": "code",
   "execution_count": 204,
   "metadata": {
    "execution": {
     "iopub.execute_input": "2022-08-04T16:59:15.636386Z",
     "iopub.status.busy": "2022-08-04T16:59:15.636044Z",
     "iopub.status.idle": "2022-08-04T16:59:15.637518Z",
     "shell.execute_reply": "2022-08-04T16:59:15.637735Z"
    },
    "slideshow": {
     "slide_type": "skip"
    },
    "solution2": "hidden"
   },
   "outputs": [],
   "source": [
    "class ConcolicTracer(SymbolicFuzzer):\n",
    "    def __init__(self, fn, fnargs, **kwargs):\n",
    "        with TrackingArcCoverage() as cov:\n",
    "            fn(*fnargs)\n",
    "        self.lines = cov.offsets_from_entry(fn.__name__)\n",
    "        self.current_line = 0\n",
    "        super().__init__(fn, **kwargs)"
   ]
  },
  {
   "cell_type": "markdown",
   "metadata": {
    "slideshow": {
     "slide_type": "skip"
    },
    "solution2": "hidden"
   },
   "source": [
    "The method `get_all_paths()` now tries to follow the seed execution path."
   ]
  },
  {
   "cell_type": "code",
   "execution_count": 205,
   "metadata": {
    "execution": {
     "iopub.execute_input": "2022-08-04T16:59:15.640875Z",
     "iopub.status.busy": "2022-08-04T16:59:15.640575Z",
     "iopub.status.idle": "2022-08-04T16:59:15.641750Z",
     "shell.execute_reply": "2022-08-04T16:59:15.642005Z"
    },
    "slideshow": {
     "slide_type": "skip"
    },
    "solution2": "hidden"
   },
   "outputs": [],
   "source": [
    "class ConcolicTracer(ConcolicTracer):\n",
    "    def get_all_paths(self, fenter):\n",
    "        assert fenter.ast_node.lineno == self.lines[self.current_line]\n",
    "        self.current_line += 1\n",
    "        last_node = PNode(0, fenter)\n",
    "        while last_node and self.current_line < len(self.lines):\n",
    "            if last_node.cfgnode.children:\n",
    "                np = last_node.explore()\n",
    "                for p in np:\n",
    "                    if self.lines[self.current_line] == p.cfgnode.ast_node.lineno:\n",
    "                        self.current_line += 1\n",
    "                        last_node = p\n",
    "                        break\n",
    "                else:\n",
    "                    last_node = None\n",
    "                    break\n",
    "            else:\n",
    "                break\n",
    "        assert len(self.lines) == self.current_line\n",
    "        return [last_node]"
   ]
  },
  {
   "cell_type": "markdown",
   "metadata": {
    "slideshow": {
     "slide_type": "skip"
    },
    "solution2": "hidden"
   },
   "source": [
    "We are now ready to concolicaly trace our execution."
   ]
  },
  {
   "cell_type": "markdown",
   "metadata": {
    "slideshow": {
     "slide_type": "subslide"
    },
    "solution2": "hidden"
   },
   "source": [
    "#### Tracing the Execution Concolicaly"
   ]
  },
  {
   "cell_type": "code",
   "execution_count": 206,
   "metadata": {
    "execution": {
     "iopub.execute_input": "2022-08-04T16:59:15.664457Z",
     "iopub.status.busy": "2022-08-04T16:59:15.664119Z",
     "iopub.status.idle": "2022-08-04T16:59:15.665755Z",
     "shell.execute_reply": "2022-08-04T16:59:15.665943Z"
    },
    "slideshow": {
     "slide_type": "fragment"
    },
    "solution2": "hidden"
   },
   "outputs": [],
   "source": [
    "acfz_roots = ConcolicTracer(\n",
    "    roots3,\n",
    "    fnargs=[1, 1, 1],\n",
    "    max_tries=10,\n",
    "    max_iter=10,\n",
    "    max_depth=10)"
   ]
  },
  {
   "cell_type": "code",
   "execution_count": 207,
   "metadata": {
    "execution": {
     "iopub.execute_input": "2022-08-04T16:59:15.668933Z",
     "iopub.status.busy": "2022-08-04T16:59:15.668305Z",
     "iopub.status.idle": "2022-08-04T16:59:15.670299Z",
     "shell.execute_reply": "2022-08-04T16:59:15.670497Z"
    },
    "slideshow": {
     "slide_type": "subslide"
    },
    "solution2": "hidden"
   },
   "outputs": [
    {
     "data": {
      "text/plain": [
       "[PNode:0[id:75 line[1] parents: [] : enter: roots3(a, b, c) order:0],\n",
       " PNode:1[id:77 line[2] parents: [75] : d: float = b * b - 4 * a * c order:0],\n",
       " PNode:2[id:78 line[4] parents: [77] : xa: float = 0.5 * d order:0],\n",
       " PNode:3[id:79 line[5] parents: [78] : xb: float = 0 order:0],\n",
       " PNode:4[id:80 line[6] parents: [79, 82] : _while: xa - xb > 0.1 order:1],\n",
       " PNode:5[id:83 line[9] parents: [80] : s: float = xb order:0],\n",
       " PNode:6[id:84 line[11] parents: [83] : _if: a == 0 order:1],\n",
       " PNode:7[id:88 line[16] parents: [84] : a2: float = 2 * a order:0],\n",
       " PNode:8[id:89 line[17] parents: [88] : ba2: float = b / a2 order:0],\n",
       " PNode:9[id:90 line[18] parents: [89] : return (-ba2 + s / a2, -ba2 - s / a2) order:0]]"
      ]
     },
     "execution_count": 207,
     "metadata": {},
     "output_type": "execute_result"
    }
   ],
   "source": [
    "acfz_roots.paths[0].get_path_to_root()"
   ]
  },
  {
   "cell_type": "code",
   "execution_count": 208,
   "metadata": {
    "execution": {
     "iopub.execute_input": "2022-08-04T16:59:15.674479Z",
     "iopub.status.busy": "2022-08-04T16:59:15.673835Z",
     "iopub.status.idle": "2022-08-04T16:59:15.675752Z",
     "shell.execute_reply": "2022-08-04T16:59:15.675974Z"
    },
    "slideshow": {
     "slide_type": "subslide"
    },
    "solution2": "hidden"
   },
   "outputs": [
    {
     "name": "stdout",
     "output_type": "stream",
     "text": [
      "[1, 2, 4, 5, 6, 9, 11, 16, 17, 18]\n",
      "[1, 2, 4, 5, 6, 9, 11, 16, 17, 18]\n",
      "[1, 2, 4, 5, 6, 9, 11, 16, 17, 18]\n"
     ]
    }
   ],
   "source": [
    "print(cov.offsets_from_entry('roots3'))\n",
    "print([i.cfgnode.ast_node.lineno for i in acfz_roots.paths[0].get_path_to_root()])\n",
    "print(acfz_roots.lines)"
   ]
  },
  {
   "cell_type": "markdown",
   "metadata": {
    "slideshow": {
     "slide_type": "fragment"
    },
    "solution2": "hidden"
   },
   "source": [
    "As can be seen above, we recovered the trace information correctly.\n",
    "Next, we extract the constraints as usual."
   ]
  },
  {
   "cell_type": "code",
   "execution_count": 209,
   "metadata": {
    "execution": {
     "iopub.execute_input": "2022-08-04T16:59:15.678453Z",
     "iopub.status.busy": "2022-08-04T16:59:15.678070Z",
     "iopub.status.idle": "2022-08-04T16:59:15.680020Z",
     "shell.execute_reply": "2022-08-04T16:59:15.680344Z"
    },
    "slideshow": {
     "slide_type": "fragment"
    },
    "solution2": "hidden"
   },
   "outputs": [],
   "source": [
    "constraints = acfz_roots.extract_constraints(\n",
    "    acfz_roots.paths[0].get_path_to_root())"
   ]
  },
  {
   "cell_type": "code",
   "execution_count": 210,
   "metadata": {
    "execution": {
     "iopub.execute_input": "2022-08-04T16:59:15.683543Z",
     "iopub.status.busy": "2022-08-04T16:59:15.682979Z",
     "iopub.status.idle": "2022-08-04T16:59:15.684673Z",
     "shell.execute_reply": "2022-08-04T16:59:15.684860Z"
    },
    "slideshow": {
     "slide_type": "subslide"
    },
    "solution2": "hidden"
   },
   "outputs": [
    {
     "data": {
      "text/plain": [
       "['z3.And(a == _a_0, b == _b_0, c == _c_0)',\n",
       " '_d_0 == _b_0 * _b_0 - 4 * _a_0 * _c_0',\n",
       " '_xa_0 == 0.5 * _d_0',\n",
       " '_xb_0 == 0',\n",
       " 'z3.Not(_xa_0 - _xb_0 > 0.1)',\n",
       " '_s_0 == _xb_0',\n",
       " 'z3.Not(_a_0 == 0)',\n",
       " '_a2_0 == 2 * _a_0',\n",
       " '_ba2_0 == _b_0 / _a2_0']"
      ]
     },
     "execution_count": 210,
     "metadata": {},
     "output_type": "execute_result"
    }
   ],
   "source": [
    "constraints"
   ]
  },
  {
   "cell_type": "markdown",
   "metadata": {
    "slideshow": {
     "slide_type": "fragment"
    },
    "solution2": "hidden"
   },
   "source": [
    "Next, we change our constraints to symbolic variables and solve them."
   ]
  },
  {
   "cell_type": "code",
   "execution_count": 211,
   "metadata": {
    "execution": {
     "iopub.execute_input": "2022-08-04T16:59:15.687749Z",
     "iopub.status.busy": "2022-08-04T16:59:15.687390Z",
     "iopub.status.idle": "2022-08-04T16:59:15.689077Z",
     "shell.execute_reply": "2022-08-04T16:59:15.689296Z"
    },
    "slideshow": {
     "slide_type": "fragment"
    },
    "solution2": "hidden"
   },
   "outputs": [],
   "source": [
    "identifiers = [c for i in constraints for c in used_identifiers(i)]\n",
    "with_types = identifiers_with_types(identifiers, acfz_roots.used_variables)\n",
    "decl = define_symbolic_vars(with_types, '')\n",
    "exec(decl)"
   ]
  },
  {
   "cell_type": "markdown",
   "metadata": {
    "slideshow": {
     "slide_type": "subslide"
    },
    "solution2": "hidden"
   },
   "source": [
    "We are ready solve our constraints. However, before that, here is a question for you.\n",
    "*Should it result in exactly the same arguments?*"
   ]
  },
  {
   "cell_type": "code",
   "execution_count": 212,
   "metadata": {
    "execution": {
     "iopub.execute_input": "2022-08-04T16:59:15.692160Z",
     "iopub.status.busy": "2022-08-04T16:59:15.691711Z",
     "iopub.status.idle": "2022-08-04T16:59:15.705572Z",
     "shell.execute_reply": "2022-08-04T16:59:15.705872Z"
    },
    "slideshow": {
     "slide_type": "subslide"
    },
    "solution2": "hidden"
   },
   "outputs": [
    {
     "name": "stdout",
     "output_type": "stream",
     "text": [
      "[a = 1,\n",
      " _a_0 = 1,\n",
      " _b_0 = 1/8,\n",
      " _c_0 = 1,\n",
      " _ba2_0 = 1/16,\n",
      " _a2_0 = 2,\n",
      " _s_0 = 0,\n",
      " _xb_0 = 0,\n",
      " _xa_0 = -255/128,\n",
      " _d_0 = -255/64,\n",
      " c = 1,\n",
      " b = 1/8,\n",
      " /0 = [(1/8, 2) -> 1/16, else -> 0]]\n"
     ]
    }
   ],
   "source": [
    "eval('z3.solve(%s)' % ','.join(constraints))"
   ]
  },
  {
   "cell_type": "code",
   "execution_count": 213,
   "metadata": {
    "execution": {
     "iopub.execute_input": "2022-08-04T16:59:15.708479Z",
     "iopub.status.busy": "2022-08-04T16:59:15.708101Z",
     "iopub.status.idle": "2022-08-04T16:59:15.716136Z",
     "shell.execute_reply": "2022-08-04T16:59:15.716400Z"
    },
    "slideshow": {
     "slide_type": "subslide"
    },
    "solution2": "hidden"
   },
   "outputs": [
    {
     "data": {
      "text/plain": [
       "{'a': -1, 'b': 0, 'c': 0}"
      ]
     },
     "execution_count": 213,
     "metadata": {},
     "output_type": "execute_result"
    }
   ],
   "source": [
    "acfz_roots.fuzz()"
   ]
  },
  {
   "cell_type": "markdown",
   "metadata": {
    "slideshow": {
     "slide_type": "fragment"
    },
    "solution2": "hidden"
   },
   "source": [
    "Did they take the same path?"
   ]
  },
  {
   "cell_type": "code",
   "execution_count": 214,
   "metadata": {
    "execution": {
     "iopub.execute_input": "2022-08-04T16:59:15.722315Z",
     "iopub.status.busy": "2022-08-04T16:59:15.718333Z",
     "iopub.status.idle": "2022-08-04T16:59:16.039634Z",
     "shell.execute_reply": "2022-08-04T16:59:16.039919Z"
    },
    "slideshow": {
     "slide_type": "fragment"
    },
    "solution2": "hidden"
   },
   "outputs": [
    {
     "data": {
      "image/svg+xml": [
       "<?xml version=\"1.0\" encoding=\"UTF-8\" standalone=\"no\"?>\n",
       "<!DOCTYPE svg PUBLIC \"-//W3C//DTD SVG 1.1//EN\"\n",
       " \"http://www.w3.org/Graphics/SVG/1.1/DTD/svg11.dtd\">\n",
       "<!-- Generated by graphviz version 5.0.0 (20220707.1540)\n",
       " -->\n",
       "<!-- Pages: 1 -->\n",
       "<svg width=\"399pt\" height=\"708pt\"\n",
       " viewBox=\"0.00 0.00 399.00 708.00\" xmlns=\"http://www.w3.org/2000/svg\" xmlns:xlink=\"http://www.w3.org/1999/xlink\">\n",
       "<g id=\"graph0\" class=\"graph\" transform=\"scale(1 1) rotate(0) translate(4 704)\">\n",
       "<polygon fill=\"white\" stroke=\"transparent\" points=\"-4,4 -4,-704 395,-704 395,4 -4,4\"/>\n",
       "<!-- 1 -->\n",
       "<g id=\"node1\" class=\"node\">\n",
       "<title>1</title>\n",
       "<ellipse fill=\"none\" stroke=\"black\" cx=\"188\" cy=\"-678\" rx=\"87.97\" ry=\"18\"/>\n",
       "<ellipse fill=\"none\" stroke=\"black\" cx=\"188\" cy=\"-678\" rx=\"91.99\" ry=\"22\"/>\n",
       "<text text-anchor=\"middle\" x=\"188\" y=\"-674.3\" font-family=\"Times,serif\" font-size=\"14.00\">1: enter: roots(a, b, c)</text>\n",
       "</g>\n",
       "<!-- 3 -->\n",
       "<g id=\"node4\" class=\"node\">\n",
       "<title>3</title>\n",
       "<ellipse fill=\"none\" stroke=\"black\" cx=\"188\" cy=\"-602\" rx=\"111.58\" ry=\"18\"/>\n",
       "<text text-anchor=\"middle\" x=\"188\" y=\"-598.3\" font-family=\"Times,serif\" font-size=\"14.00\">2: d: float = b * b &#45; 4 * a * c</text>\n",
       "</g>\n",
       "<!-- 1&#45;&gt;3 -->\n",
       "<g id=\"edge2\" class=\"edge\">\n",
       "<title>1&#45;&gt;3</title>\n",
       "<path fill=\"none\" stroke=\"green\" d=\"M188,-655.99C188,-648.06 188,-638.91 188,-630.48\"/>\n",
       "<polygon fill=\"green\" stroke=\"green\" points=\"191.5,-630.31 188,-620.31 184.5,-630.31 191.5,-630.31\"/>\n",
       "</g>\n",
       "<!-- 2 -->\n",
       "<g id=\"node2\" class=\"node\">\n",
       "<title>2</title>\n",
       "<ellipse fill=\"none\" stroke=\"black\" cx=\"279\" cy=\"-22\" rx=\"83.38\" ry=\"18\"/>\n",
       "<ellipse fill=\"none\" stroke=\"black\" cx=\"279\" cy=\"-22\" rx=\"87.39\" ry=\"22\"/>\n",
       "<text text-anchor=\"middle\" x=\"279\" y=\"-18.3\" font-family=\"Times,serif\" font-size=\"14.00\">1: exit: roots(a, b, c)</text>\n",
       "</g>\n",
       "<!-- 12 -->\n",
       "<g id=\"node3\" class=\"node\">\n",
       "<title>12</title>\n",
       "<polygon fill=\"none\" stroke=\"black\" points=\"391,-116 167,-116 167,-80 391,-80 391,-116\"/>\n",
       "<text text-anchor=\"middle\" x=\"279\" y=\"-94.3\" font-family=\"Times,serif\" font-size=\"14.00\">13: return (&#45;ba2 + s / a2, &#45;ba2 &#45; s / a2)</text>\n",
       "</g>\n",
       "<!-- 12&#45;&gt;2 -->\n",
       "<g id=\"edge1\" class=\"edge\">\n",
       "<title>12&#45;&gt;2</title>\n",
       "<path fill=\"none\" stroke=\"green\" d=\"M279,-79.84C279,-72.16 279,-62.88 279,-54.05\"/>\n",
       "<polygon fill=\"green\" stroke=\"green\" points=\"282.5,-54.03 279,-44.03 275.5,-54.03 282.5,-54.03\"/>\n",
       "</g>\n",
       "<!-- 4 -->\n",
       "<g id=\"node5\" class=\"node\">\n",
       "<title>4</title>\n",
       "<ellipse fill=\"none\" stroke=\"black\" cx=\"188\" cy=\"-530\" rx=\"83.69\" ry=\"18\"/>\n",
       "<text text-anchor=\"middle\" x=\"188\" y=\"-526.3\" font-family=\"Times,serif\" font-size=\"14.00\">3: ax: float = 0.5 * d</text>\n",
       "</g>\n",
       "<!-- 3&#45;&gt;4 -->\n",
       "<g id=\"edge3\" class=\"edge\">\n",
       "<title>3&#45;&gt;4</title>\n",
       "<path fill=\"none\" stroke=\"green\" d=\"M188,-583.7C188,-575.98 188,-566.71 188,-558.11\"/>\n",
       "<polygon fill=\"green\" stroke=\"green\" points=\"191.5,-558.1 188,-548.1 184.5,-558.1 191.5,-558.1\"/>\n",
       "</g>\n",
       "<!-- 5 -->\n",
       "<g id=\"node6\" class=\"node\">\n",
       "<title>5</title>\n",
       "<ellipse fill=\"none\" stroke=\"black\" cx=\"188\" cy=\"-458\" rx=\"63.89\" ry=\"18\"/>\n",
       "<text text-anchor=\"middle\" x=\"188\" y=\"-454.3\" font-family=\"Times,serif\" font-size=\"14.00\">4: bx: float = 0</text>\n",
       "</g>\n",
       "<!-- 4&#45;&gt;5 -->\n",
       "<g id=\"edge4\" class=\"edge\">\n",
       "<title>4&#45;&gt;5</title>\n",
       "<path fill=\"none\" stroke=\"green\" d=\"M188,-511.7C188,-503.98 188,-494.71 188,-486.11\"/>\n",
       "<polygon fill=\"green\" stroke=\"green\" points=\"191.5,-486.1 188,-476.1 184.5,-486.1 191.5,-486.1\"/>\n",
       "</g>\n",
       "<!-- 6 -->\n",
       "<g id=\"node7\" class=\"node\">\n",
       "<title>6</title>\n",
       "<polygon fill=\"none\" stroke=\"black\" points=\"188,-404 59.14,-386 188,-368 316.86,-386 188,-404\"/>\n",
       "<text text-anchor=\"middle\" x=\"188\" y=\"-382.3\" font-family=\"Times,serif\" font-size=\"14.00\">5: while: ax &#45; bx &gt; 0.1</text>\n",
       "</g>\n",
       "<!-- 5&#45;&gt;6 -->\n",
       "<g id=\"edge5\" class=\"edge\">\n",
       "<title>5&#45;&gt;6</title>\n",
       "<path fill=\"none\" stroke=\"green\" d=\"M188,-439.7C188,-431.98 188,-422.71 188,-414.11\"/>\n",
       "<polygon fill=\"green\" stroke=\"green\" points=\"191.5,-414.1 188,-404.1 184.5,-414.1 191.5,-414.1\"/>\n",
       "</g>\n",
       "<!-- 7 -->\n",
       "<g id=\"node9\" class=\"node\">\n",
       "<title>7</title>\n",
       "<polygon fill=\"none\" stroke=\"black\" points=\"160,-332 0,-332 0,-296 160,-296 160,-332\"/>\n",
       "<text text-anchor=\"middle\" x=\"80\" y=\"-310.3\" font-family=\"Times,serif\" font-size=\"14.00\">6: bx = 0.5 * (ax + d / ax)</text>\n",
       "</g>\n",
       "<!-- 6&#45;&gt;7 -->\n",
       "<g id=\"edge7\" class=\"edge\">\n",
       "<title>6&#45;&gt;7</title>\n",
       "<path fill=\"none\" stroke=\"red\" d=\"M166.4,-371C151.73,-361.49 131.98,-348.69 115.07,-337.73\"/>\n",
       "<polygon fill=\"red\" stroke=\"red\" points=\"116.82,-334.7 106.53,-332.19 113.02,-340.57 116.82,-334.7\"/>\n",
       "</g>\n",
       "<!-- 9 -->\n",
       "<g id=\"node10\" class=\"node\">\n",
       "<title>9</title>\n",
       "<ellipse fill=\"none\" stroke=\"black\" cx=\"279\" cy=\"-314\" rx=\"63.09\" ry=\"18\"/>\n",
       "<text text-anchor=\"middle\" x=\"279\" y=\"-310.3\" font-family=\"Times,serif\" font-size=\"14.00\">9: s: float = bx</text>\n",
       "</g>\n",
       "<!-- 6&#45;&gt;9 -->\n",
       "<g id=\"edge9\" class=\"edge\">\n",
       "<title>6&#45;&gt;9</title>\n",
       "<path fill=\"none\" stroke=\"green\" d=\"M206.86,-370.5C219.3,-360.92 235.85,-348.19 249.97,-337.33\"/>\n",
       "<polygon fill=\"green\" stroke=\"green\" points=\"252.15,-340.07 257.94,-331.2 247.88,-334.52 252.15,-340.07\"/>\n",
       "</g>\n",
       "<!-- 8 -->\n",
       "<g id=\"node8\" class=\"node\">\n",
       "<title>8</title>\n",
       "<polygon fill=\"none\" stroke=\"black\" points=\"148.5,-260 75.5,-260 75.5,-224 148.5,-224 148.5,-260\"/>\n",
       "<text text-anchor=\"middle\" x=\"112\" y=\"-238.3\" font-family=\"Times,serif\" font-size=\"14.00\">7: ax = bx</text>\n",
       "</g>\n",
       "<!-- 8&#45;&gt;6 -->\n",
       "<g id=\"edge6\" class=\"edge\">\n",
       "<title>8&#45;&gt;6</title>\n",
       "<path fill=\"none\" stroke=\"red\" d=\"M136.39,-260.04C147.97,-269.37 161,-281.9 169,-296 179.75,-314.95 184.43,-339.32 186.47,-357.76\"/>\n",
       "<polygon fill=\"red\" stroke=\"red\" points=\"182.99,-358.21 187.38,-367.85 189.96,-357.58 182.99,-358.21\"/>\n",
       "</g>\n",
       "<!-- 7&#45;&gt;8 -->\n",
       "<g id=\"edge8\" class=\"edge\">\n",
       "<title>7&#45;&gt;8</title>\n",
       "<path fill=\"none\" stroke=\"red\" d=\"M87.91,-295.7C91.55,-287.73 95.95,-278.1 99.99,-269.26\"/>\n",
       "<polygon fill=\"red\" stroke=\"red\" points=\"103.21,-270.65 104.18,-260.1 96.84,-267.74 103.21,-270.65\"/>\n",
       "</g>\n",
       "<!-- 10 -->\n",
       "<g id=\"node11\" class=\"node\">\n",
       "<title>10</title>\n",
       "<ellipse fill=\"none\" stroke=\"black\" cx=\"279\" cy=\"-242\" rx=\"81.49\" ry=\"18\"/>\n",
       "<text text-anchor=\"middle\" x=\"279\" y=\"-238.3\" font-family=\"Times,serif\" font-size=\"14.00\">10: a2: float = 2 * a</text>\n",
       "</g>\n",
       "<!-- 9&#45;&gt;10 -->\n",
       "<g id=\"edge10\" class=\"edge\">\n",
       "<title>9&#45;&gt;10</title>\n",
       "<path fill=\"none\" stroke=\"green\" d=\"M279,-295.7C279,-287.98 279,-278.71 279,-270.11\"/>\n",
       "<polygon fill=\"green\" stroke=\"green\" points=\"282.5,-270.1 279,-260.1 275.5,-270.1 282.5,-270.1\"/>\n",
       "</g>\n",
       "<!-- 11 -->\n",
       "<g id=\"node12\" class=\"node\">\n",
       "<title>11</title>\n",
       "<ellipse fill=\"none\" stroke=\"black\" cx=\"279\" cy=\"-170\" rx=\"87.99\" ry=\"18\"/>\n",
       "<text text-anchor=\"middle\" x=\"279\" y=\"-166.3\" font-family=\"Times,serif\" font-size=\"14.00\">11: ba2: float = b / a2</text>\n",
       "</g>\n",
       "<!-- 10&#45;&gt;11 -->\n",
       "<g id=\"edge11\" class=\"edge\">\n",
       "<title>10&#45;&gt;11</title>\n",
       "<path fill=\"none\" stroke=\"green\" d=\"M279,-223.7C279,-215.98 279,-206.71 279,-198.11\"/>\n",
       "<polygon fill=\"green\" stroke=\"green\" points=\"282.5,-198.1 279,-188.1 275.5,-198.1 282.5,-198.1\"/>\n",
       "</g>\n",
       "<!-- 11&#45;&gt;12 -->\n",
       "<g id=\"edge12\" class=\"edge\">\n",
       "<title>11&#45;&gt;12</title>\n",
       "<path fill=\"none\" stroke=\"green\" d=\"M279,-151.7C279,-143.98 279,-134.71 279,-126.11\"/>\n",
       "<polygon fill=\"green\" stroke=\"green\" points=\"282.5,-126.1 279,-116.1 275.5,-126.1 282.5,-126.1\"/>\n",
       "</g>\n",
       "</g>\n",
       "</svg>\n"
      ],
      "text/plain": [
       "<graphviz.graphs.Digraph at 0x10fa38d30>"
      ]
     },
     "execution_count": 214,
     "metadata": {},
     "output_type": "execute_result"
    }
   ],
   "source": [
    "with ArcCoverage() as cov:\n",
    "    roots(1, 1, 1)\n",
    "show_cfg(roots, arcs=cov.arcs())"
   ]
  },
  {
   "cell_type": "code",
   "execution_count": 215,
   "metadata": {
    "execution": {
     "iopub.execute_input": "2022-08-04T16:59:16.065503Z",
     "iopub.status.busy": "2022-08-04T16:59:16.057847Z",
     "iopub.status.idle": "2022-08-04T16:59:16.358896Z",
     "shell.execute_reply": "2022-08-04T16:59:16.359233Z"
    },
    "slideshow": {
     "slide_type": "fragment"
    },
    "solution2": "hidden"
   },
   "outputs": [
    {
     "data": {
      "image/svg+xml": [
       "<?xml version=\"1.0\" encoding=\"UTF-8\" standalone=\"no\"?>\n",
       "<!DOCTYPE svg PUBLIC \"-//W3C//DTD SVG 1.1//EN\"\n",
       " \"http://www.w3.org/Graphics/SVG/1.1/DTD/svg11.dtd\">\n",
       "<!-- Generated by graphviz version 5.0.0 (20220707.1540)\n",
       " -->\n",
       "<!-- Pages: 1 -->\n",
       "<svg width=\"399pt\" height=\"708pt\"\n",
       " viewBox=\"0.00 0.00 399.00 708.00\" xmlns=\"http://www.w3.org/2000/svg\" xmlns:xlink=\"http://www.w3.org/1999/xlink\">\n",
       "<g id=\"graph0\" class=\"graph\" transform=\"scale(1 1) rotate(0) translate(4 704)\">\n",
       "<polygon fill=\"white\" stroke=\"transparent\" points=\"-4,4 -4,-704 395,-704 395,4 -4,4\"/>\n",
       "<!-- 1 -->\n",
       "<g id=\"node1\" class=\"node\">\n",
       "<title>1</title>\n",
       "<ellipse fill=\"none\" stroke=\"black\" cx=\"188\" cy=\"-678\" rx=\"87.97\" ry=\"18\"/>\n",
       "<ellipse fill=\"none\" stroke=\"black\" cx=\"188\" cy=\"-678\" rx=\"91.99\" ry=\"22\"/>\n",
       "<text text-anchor=\"middle\" x=\"188\" y=\"-674.3\" font-family=\"Times,serif\" font-size=\"14.00\">1: enter: roots(a, b, c)</text>\n",
       "</g>\n",
       "<!-- 3 -->\n",
       "<g id=\"node4\" class=\"node\">\n",
       "<title>3</title>\n",
       "<ellipse fill=\"none\" stroke=\"black\" cx=\"188\" cy=\"-602\" rx=\"111.58\" ry=\"18\"/>\n",
       "<text text-anchor=\"middle\" x=\"188\" y=\"-598.3\" font-family=\"Times,serif\" font-size=\"14.00\">2: d: float = b * b &#45; 4 * a * c</text>\n",
       "</g>\n",
       "<!-- 1&#45;&gt;3 -->\n",
       "<g id=\"edge2\" class=\"edge\">\n",
       "<title>1&#45;&gt;3</title>\n",
       "<path fill=\"none\" stroke=\"green\" d=\"M188,-655.99C188,-648.06 188,-638.91 188,-630.48\"/>\n",
       "<polygon fill=\"green\" stroke=\"green\" points=\"191.5,-630.31 188,-620.31 184.5,-630.31 191.5,-630.31\"/>\n",
       "</g>\n",
       "<!-- 2 -->\n",
       "<g id=\"node2\" class=\"node\">\n",
       "<title>2</title>\n",
       "<ellipse fill=\"none\" stroke=\"black\" cx=\"279\" cy=\"-22\" rx=\"83.38\" ry=\"18\"/>\n",
       "<ellipse fill=\"none\" stroke=\"black\" cx=\"279\" cy=\"-22\" rx=\"87.39\" ry=\"22\"/>\n",
       "<text text-anchor=\"middle\" x=\"279\" y=\"-18.3\" font-family=\"Times,serif\" font-size=\"14.00\">1: exit: roots(a, b, c)</text>\n",
       "</g>\n",
       "<!-- 12 -->\n",
       "<g id=\"node3\" class=\"node\">\n",
       "<title>12</title>\n",
       "<polygon fill=\"none\" stroke=\"black\" points=\"391,-116 167,-116 167,-80 391,-80 391,-116\"/>\n",
       "<text text-anchor=\"middle\" x=\"279\" y=\"-94.3\" font-family=\"Times,serif\" font-size=\"14.00\">13: return (&#45;ba2 + s / a2, &#45;ba2 &#45; s / a2)</text>\n",
       "</g>\n",
       "<!-- 12&#45;&gt;2 -->\n",
       "<g id=\"edge1\" class=\"edge\">\n",
       "<title>12&#45;&gt;2</title>\n",
       "<path fill=\"none\" stroke=\"green\" d=\"M279,-79.84C279,-72.16 279,-62.88 279,-54.05\"/>\n",
       "<polygon fill=\"green\" stroke=\"green\" points=\"282.5,-54.03 279,-44.03 275.5,-54.03 282.5,-54.03\"/>\n",
       "</g>\n",
       "<!-- 4 -->\n",
       "<g id=\"node5\" class=\"node\">\n",
       "<title>4</title>\n",
       "<ellipse fill=\"none\" stroke=\"black\" cx=\"188\" cy=\"-530\" rx=\"83.69\" ry=\"18\"/>\n",
       "<text text-anchor=\"middle\" x=\"188\" y=\"-526.3\" font-family=\"Times,serif\" font-size=\"14.00\">3: ax: float = 0.5 * d</text>\n",
       "</g>\n",
       "<!-- 3&#45;&gt;4 -->\n",
       "<g id=\"edge3\" class=\"edge\">\n",
       "<title>3&#45;&gt;4</title>\n",
       "<path fill=\"none\" stroke=\"green\" d=\"M188,-583.7C188,-575.98 188,-566.71 188,-558.11\"/>\n",
       "<polygon fill=\"green\" stroke=\"green\" points=\"191.5,-558.1 188,-548.1 184.5,-558.1 191.5,-558.1\"/>\n",
       "</g>\n",
       "<!-- 5 -->\n",
       "<g id=\"node6\" class=\"node\">\n",
       "<title>5</title>\n",
       "<ellipse fill=\"none\" stroke=\"black\" cx=\"188\" cy=\"-458\" rx=\"63.89\" ry=\"18\"/>\n",
       "<text text-anchor=\"middle\" x=\"188\" y=\"-454.3\" font-family=\"Times,serif\" font-size=\"14.00\">4: bx: float = 0</text>\n",
       "</g>\n",
       "<!-- 4&#45;&gt;5 -->\n",
       "<g id=\"edge4\" class=\"edge\">\n",
       "<title>4&#45;&gt;5</title>\n",
       "<path fill=\"none\" stroke=\"green\" d=\"M188,-511.7C188,-503.98 188,-494.71 188,-486.11\"/>\n",
       "<polygon fill=\"green\" stroke=\"green\" points=\"191.5,-486.1 188,-476.1 184.5,-486.1 191.5,-486.1\"/>\n",
       "</g>\n",
       "<!-- 6 -->\n",
       "<g id=\"node7\" class=\"node\">\n",
       "<title>6</title>\n",
       "<polygon fill=\"none\" stroke=\"black\" points=\"188,-404 59.14,-386 188,-368 316.86,-386 188,-404\"/>\n",
       "<text text-anchor=\"middle\" x=\"188\" y=\"-382.3\" font-family=\"Times,serif\" font-size=\"14.00\">5: while: ax &#45; bx &gt; 0.1</text>\n",
       "</g>\n",
       "<!-- 5&#45;&gt;6 -->\n",
       "<g id=\"edge5\" class=\"edge\">\n",
       "<title>5&#45;&gt;6</title>\n",
       "<path fill=\"none\" stroke=\"green\" d=\"M188,-439.7C188,-431.98 188,-422.71 188,-414.11\"/>\n",
       "<polygon fill=\"green\" stroke=\"green\" points=\"191.5,-414.1 188,-404.1 184.5,-414.1 191.5,-414.1\"/>\n",
       "</g>\n",
       "<!-- 7 -->\n",
       "<g id=\"node9\" class=\"node\">\n",
       "<title>7</title>\n",
       "<polygon fill=\"none\" stroke=\"black\" points=\"160,-332 0,-332 0,-296 160,-296 160,-332\"/>\n",
       "<text text-anchor=\"middle\" x=\"80\" y=\"-310.3\" font-family=\"Times,serif\" font-size=\"14.00\">6: bx = 0.5 * (ax + d / ax)</text>\n",
       "</g>\n",
       "<!-- 6&#45;&gt;7 -->\n",
       "<g id=\"edge7\" class=\"edge\">\n",
       "<title>6&#45;&gt;7</title>\n",
       "<path fill=\"none\" stroke=\"red\" d=\"M166.4,-371C151.73,-361.49 131.98,-348.69 115.07,-337.73\"/>\n",
       "<polygon fill=\"red\" stroke=\"red\" points=\"116.82,-334.7 106.53,-332.19 113.02,-340.57 116.82,-334.7\"/>\n",
       "</g>\n",
       "<!-- 9 -->\n",
       "<g id=\"node10\" class=\"node\">\n",
       "<title>9</title>\n",
       "<ellipse fill=\"none\" stroke=\"black\" cx=\"279\" cy=\"-314\" rx=\"63.09\" ry=\"18\"/>\n",
       "<text text-anchor=\"middle\" x=\"279\" y=\"-310.3\" font-family=\"Times,serif\" font-size=\"14.00\">9: s: float = bx</text>\n",
       "</g>\n",
       "<!-- 6&#45;&gt;9 -->\n",
       "<g id=\"edge9\" class=\"edge\">\n",
       "<title>6&#45;&gt;9</title>\n",
       "<path fill=\"none\" stroke=\"green\" d=\"M206.86,-370.5C219.3,-360.92 235.85,-348.19 249.97,-337.33\"/>\n",
       "<polygon fill=\"green\" stroke=\"green\" points=\"252.15,-340.07 257.94,-331.2 247.88,-334.52 252.15,-340.07\"/>\n",
       "</g>\n",
       "<!-- 8 -->\n",
       "<g id=\"node8\" class=\"node\">\n",
       "<title>8</title>\n",
       "<polygon fill=\"none\" stroke=\"black\" points=\"148.5,-260 75.5,-260 75.5,-224 148.5,-224 148.5,-260\"/>\n",
       "<text text-anchor=\"middle\" x=\"112\" y=\"-238.3\" font-family=\"Times,serif\" font-size=\"14.00\">7: ax = bx</text>\n",
       "</g>\n",
       "<!-- 8&#45;&gt;6 -->\n",
       "<g id=\"edge6\" class=\"edge\">\n",
       "<title>8&#45;&gt;6</title>\n",
       "<path fill=\"none\" stroke=\"red\" d=\"M136.39,-260.04C147.97,-269.37 161,-281.9 169,-296 179.75,-314.95 184.43,-339.32 186.47,-357.76\"/>\n",
       "<polygon fill=\"red\" stroke=\"red\" points=\"182.99,-358.21 187.38,-367.85 189.96,-357.58 182.99,-358.21\"/>\n",
       "</g>\n",
       "<!-- 7&#45;&gt;8 -->\n",
       "<g id=\"edge8\" class=\"edge\">\n",
       "<title>7&#45;&gt;8</title>\n",
       "<path fill=\"none\" stroke=\"red\" d=\"M87.91,-295.7C91.55,-287.73 95.95,-278.1 99.99,-269.26\"/>\n",
       "<polygon fill=\"red\" stroke=\"red\" points=\"103.21,-270.65 104.18,-260.1 96.84,-267.74 103.21,-270.65\"/>\n",
       "</g>\n",
       "<!-- 10 -->\n",
       "<g id=\"node11\" class=\"node\">\n",
       "<title>10</title>\n",
       "<ellipse fill=\"none\" stroke=\"black\" cx=\"279\" cy=\"-242\" rx=\"81.49\" ry=\"18\"/>\n",
       "<text text-anchor=\"middle\" x=\"279\" y=\"-238.3\" font-family=\"Times,serif\" font-size=\"14.00\">10: a2: float = 2 * a</text>\n",
       "</g>\n",
       "<!-- 9&#45;&gt;10 -->\n",
       "<g id=\"edge10\" class=\"edge\">\n",
       "<title>9&#45;&gt;10</title>\n",
       "<path fill=\"none\" stroke=\"green\" d=\"M279,-295.7C279,-287.98 279,-278.71 279,-270.11\"/>\n",
       "<polygon fill=\"green\" stroke=\"green\" points=\"282.5,-270.1 279,-260.1 275.5,-270.1 282.5,-270.1\"/>\n",
       "</g>\n",
       "<!-- 11 -->\n",
       "<g id=\"node12\" class=\"node\">\n",
       "<title>11</title>\n",
       "<ellipse fill=\"none\" stroke=\"black\" cx=\"279\" cy=\"-170\" rx=\"87.99\" ry=\"18\"/>\n",
       "<text text-anchor=\"middle\" x=\"279\" y=\"-166.3\" font-family=\"Times,serif\" font-size=\"14.00\">11: ba2: float = b / a2</text>\n",
       "</g>\n",
       "<!-- 10&#45;&gt;11 -->\n",
       "<g id=\"edge11\" class=\"edge\">\n",
       "<title>10&#45;&gt;11</title>\n",
       "<path fill=\"none\" stroke=\"green\" d=\"M279,-223.7C279,-215.98 279,-206.71 279,-198.11\"/>\n",
       "<polygon fill=\"green\" stroke=\"green\" points=\"282.5,-198.1 279,-188.1 275.5,-198.1 282.5,-198.1\"/>\n",
       "</g>\n",
       "<!-- 11&#45;&gt;12 -->\n",
       "<g id=\"edge12\" class=\"edge\">\n",
       "<title>11&#45;&gt;12</title>\n",
       "<path fill=\"none\" stroke=\"green\" d=\"M279,-151.7C279,-143.98 279,-134.71 279,-126.11\"/>\n",
       "<polygon fill=\"green\" stroke=\"green\" points=\"282.5,-126.1 279,-116.1 275.5,-126.1 282.5,-126.1\"/>\n",
       "</g>\n",
       "</g>\n",
       "</svg>\n"
      ],
      "text/plain": [
       "<graphviz.graphs.Digraph at 0x10fe89ab0>"
      ]
     },
     "execution_count": 215,
     "metadata": {},
     "output_type": "execute_result"
    }
   ],
   "source": [
    "with ArcCoverage() as cov:\n",
    "    roots(-1, 0, 0)\n",
    "show_cfg(roots, arcs=cov.arcs())"
   ]
  },
  {
   "cell_type": "markdown",
   "metadata": {
    "slideshow": {
     "slide_type": "subslide"
    },
    "solution2": "hidden"
   },
   "source": [
    "Indeed, even though the arguments were different, the path traced is exactly the same.\n",
    "\n",
    "As we saw in the chapter on [concolic fuzzing](ConcolicFuzzer.ipynb), concolic tracing has another use, namely that we can use it to explore nearby paths. We will see how to do that next."
   ]
  },
  {
   "cell_type": "markdown",
   "metadata": {
    "slideshow": {
     "slide_type": "subslide"
    },
    "solution2": "hidden"
   },
   "source": [
    "#### Exploring Nearby Paths\n",
    "\n",
    "We collected the following constraints."
   ]
  },
  {
   "cell_type": "code",
   "execution_count": 216,
   "metadata": {
    "execution": {
     "iopub.execute_input": "2022-08-04T16:59:16.362163Z",
     "iopub.status.busy": "2022-08-04T16:59:16.361731Z",
     "iopub.status.idle": "2022-08-04T16:59:16.363211Z",
     "shell.execute_reply": "2022-08-04T16:59:16.363440Z"
    },
    "slideshow": {
     "slide_type": "fragment"
    },
    "solution2": "hidden"
   },
   "outputs": [
    {
     "data": {
      "text/plain": [
       "['z3.And(a == _a_0, b == _b_0, c == _c_0)',\n",
       " '_d_0 == _b_0 * _b_0 - 4 * _a_0 * _c_0',\n",
       " '_xa_0 == 0.5 * _d_0',\n",
       " '_xb_0 == 0',\n",
       " 'z3.Not(_xa_0 - _xb_0 > 0.1)',\n",
       " '_s_0 == _xb_0',\n",
       " 'z3.Not(_a_0 == 0)',\n",
       " '_a2_0 == 2 * _a_0',\n",
       " '_ba2_0 == _b_0 / _a2_0']"
      ]
     },
     "execution_count": 216,
     "metadata": {},
     "output_type": "execute_result"
    }
   ],
   "source": [
    "constraints"
   ]
  },
  {
   "cell_type": "markdown",
   "metadata": {
    "slideshow": {
     "slide_type": "subslide"
    },
    "solution2": "hidden"
   },
   "source": [
    "We can explore nearby paths by negating the conditionals starting from the very last. (A question for the student: Why do we want to start negating from the very last?)"
   ]
  },
  {
   "cell_type": "code",
   "execution_count": 217,
   "metadata": {
    "execution": {
     "iopub.execute_input": "2022-08-04T16:59:16.365665Z",
     "iopub.status.busy": "2022-08-04T16:59:16.365323Z",
     "iopub.status.idle": "2022-08-04T16:59:16.366453Z",
     "shell.execute_reply": "2022-08-04T16:59:16.366743Z"
    },
    "slideshow": {
     "slide_type": "fragment"
    },
    "solution2": "hidden"
   },
   "outputs": [],
   "source": [
    "new_constraints = constraints[0:4] + ['z3.Not(%s)' % constraints[4]]"
   ]
  },
  {
   "cell_type": "code",
   "execution_count": 218,
   "metadata": {
    "execution": {
     "iopub.execute_input": "2022-08-04T16:59:16.368604Z",
     "iopub.status.busy": "2022-08-04T16:59:16.368302Z",
     "iopub.status.idle": "2022-08-04T16:59:16.369692Z",
     "shell.execute_reply": "2022-08-04T16:59:16.369927Z"
    },
    "slideshow": {
     "slide_type": "fragment"
    },
    "solution2": "hidden"
   },
   "outputs": [
    {
     "data": {
      "text/plain": [
       "['z3.And(a == _a_0, b == _b_0, c == _c_0)',\n",
       " '_d_0 == _b_0 * _b_0 - 4 * _a_0 * _c_0',\n",
       " '_xa_0 == 0.5 * _d_0',\n",
       " '_xb_0 == 0',\n",
       " 'z3.Not(z3.Not(_xa_0 - _xb_0 > 0.1))']"
      ]
     },
     "execution_count": 218,
     "metadata": {},
     "output_type": "execute_result"
    }
   ],
   "source": [
    "new_constraints"
   ]
  },
  {
   "cell_type": "code",
   "execution_count": 219,
   "metadata": {
    "execution": {
     "iopub.execute_input": "2022-08-04T16:59:16.372296Z",
     "iopub.status.busy": "2022-08-04T16:59:16.371943Z",
     "iopub.status.idle": "2022-08-04T16:59:16.383202Z",
     "shell.execute_reply": "2022-08-04T16:59:16.383435Z"
    },
    "slideshow": {
     "slide_type": "subslide"
    },
    "solution2": "hidden"
   },
   "outputs": [
    {
     "name": "stdout",
     "output_type": "stream",
     "text": [
      "[_a_0 = -11/20,\n",
      " _b_0 = 0,\n",
      " _c_0 = 1,\n",
      " _xb_0 = 0,\n",
      " _xa_0 = 11/10,\n",
      " _d_0 = 11/5,\n",
      " c = 1,\n",
      " b = 0,\n",
      " a = -11/20]\n"
     ]
    }
   ],
   "source": [
    "eval('z3.solve(%s)' % ','.join(new_constraints))"
   ]
  },
  {
   "cell_type": "code",
   "execution_count": 220,
   "metadata": {
    "execution": {
     "iopub.execute_input": "2022-08-04T16:59:16.385557Z",
     "iopub.status.busy": "2022-08-04T16:59:16.385170Z",
     "iopub.status.idle": "2022-08-04T16:59:16.704362Z",
     "shell.execute_reply": "2022-08-04T16:59:16.704734Z"
    },
    "slideshow": {
     "slide_type": "fragment"
    },
    "solution2": "hidden"
   },
   "outputs": [
    {
     "data": {
      "image/svg+xml": [
       "<?xml version=\"1.0\" encoding=\"UTF-8\" standalone=\"no\"?>\n",
       "<!DOCTYPE svg PUBLIC \"-//W3C//DTD SVG 1.1//EN\"\n",
       " \"http://www.w3.org/Graphics/SVG/1.1/DTD/svg11.dtd\">\n",
       "<!-- Generated by graphviz version 5.0.0 (20220707.1540)\n",
       " -->\n",
       "<!-- Pages: 1 -->\n",
       "<svg width=\"599pt\" height=\"780pt\"\n",
       " viewBox=\"0.00 0.00 598.50 780.00\" xmlns=\"http://www.w3.org/2000/svg\" xmlns:xlink=\"http://www.w3.org/1999/xlink\">\n",
       "<g id=\"graph0\" class=\"graph\" transform=\"scale(1 1) rotate(0) translate(4 776)\">\n",
       "<polygon fill=\"white\" stroke=\"transparent\" points=\"-4,4 -4,-776 594.5,-776 594.5,4 -4,4\"/>\n",
       "<!-- 1 -->\n",
       "<g id=\"node1\" class=\"node\">\n",
       "<title>1</title>\n",
       "<ellipse fill=\"none\" stroke=\"black\" cx=\"287.5\" cy=\"-750\" rx=\"92.09\" ry=\"18\"/>\n",
       "<ellipse fill=\"none\" stroke=\"black\" cx=\"287.5\" cy=\"-750\" rx=\"96.08\" ry=\"22\"/>\n",
       "<text text-anchor=\"middle\" x=\"287.5\" y=\"-746.3\" font-family=\"Times,serif\" font-size=\"14.00\">1: enter: roots3(a, b, c)</text>\n",
       "</g>\n",
       "<!-- 3 -->\n",
       "<g id=\"node6\" class=\"node\">\n",
       "<title>3</title>\n",
       "<ellipse fill=\"none\" stroke=\"black\" cx=\"287.5\" cy=\"-674\" rx=\"111.58\" ry=\"18\"/>\n",
       "<text text-anchor=\"middle\" x=\"287.5\" y=\"-670.3\" font-family=\"Times,serif\" font-size=\"14.00\">2: d: float = b * b &#45; 4 * a * c</text>\n",
       "</g>\n",
       "<!-- 1&#45;&gt;3 -->\n",
       "<g id=\"edge4\" class=\"edge\">\n",
       "<title>1&#45;&gt;3</title>\n",
       "<path fill=\"none\" stroke=\"green\" d=\"M287.5,-727.99C287.5,-720.06 287.5,-710.91 287.5,-702.48\"/>\n",
       "<polygon fill=\"green\" stroke=\"green\" points=\"291,-702.31 287.5,-692.31 284,-702.31 291,-702.31\"/>\n",
       "</g>\n",
       "<!-- 2 -->\n",
       "<g id=\"node2\" class=\"node\">\n",
       "<title>2</title>\n",
       "<ellipse fill=\"none\" stroke=\"black\" cx=\"274.5\" cy=\"-22\" rx=\"87.97\" ry=\"18\"/>\n",
       "<ellipse fill=\"none\" stroke=\"black\" cx=\"274.5\" cy=\"-22\" rx=\"91.99\" ry=\"22\"/>\n",
       "<text text-anchor=\"middle\" x=\"274.5\" y=\"-18.3\" font-family=\"Times,serif\" font-size=\"14.00\">1: exit: roots3(a, b, c)</text>\n",
       "</g>\n",
       "<!-- 12 -->\n",
       "<g id=\"node3\" class=\"node\">\n",
       "<title>12</title>\n",
       "<polygon fill=\"none\" stroke=\"black\" points=\"183,-116 0,-116 0,-80 183,-80 183,-116\"/>\n",
       "<text text-anchor=\"middle\" x=\"91.5\" y=\"-94.3\" font-family=\"Times,serif\" font-size=\"14.00\">13: return (math.inf, math.inf)</text>\n",
       "</g>\n",
       "<!-- 12&#45;&gt;2 -->\n",
       "<g id=\"edge1\" class=\"edge\">\n",
       "<title>12&#45;&gt;2</title>\n",
       "<path fill=\"none\" stroke=\"red\" d=\"M133.94,-79.84C159.54,-69.49 192.41,-56.2 219.92,-45.07\"/>\n",
       "<polygon fill=\"red\" stroke=\"red\" points=\"221.45,-48.23 229.41,-41.23 218.83,-41.74 221.45,-48.23\"/>\n",
       "</g>\n",
       "<!-- 13 -->\n",
       "<g id=\"node4\" class=\"node\">\n",
       "<title>13</title>\n",
       "<polygon fill=\"none\" stroke=\"black\" points=\"348,-116 201,-116 201,-80 348,-80 348,-116\"/>\n",
       "<text text-anchor=\"middle\" x=\"274.5\" y=\"-94.3\" font-family=\"Times,serif\" font-size=\"14.00\">14: return (&#45;c / b, &#45;c / b)</text>\n",
       "</g>\n",
       "<!-- 13&#45;&gt;2 -->\n",
       "<g id=\"edge2\" class=\"edge\">\n",
       "<title>13&#45;&gt;2</title>\n",
       "<path fill=\"none\" stroke=\"red\" d=\"M274.5,-79.84C274.5,-72.16 274.5,-62.88 274.5,-54.05\"/>\n",
       "<polygon fill=\"red\" stroke=\"red\" points=\"278,-54.03 274.5,-44.03 271,-54.03 278,-54.03\"/>\n",
       "</g>\n",
       "<!-- 16 -->\n",
       "<g id=\"node5\" class=\"node\">\n",
       "<title>16</title>\n",
       "<polygon fill=\"none\" stroke=\"black\" points=\"590.5,-116 366.5,-116 366.5,-80 590.5,-80 590.5,-116\"/>\n",
       "<text text-anchor=\"middle\" x=\"478.5\" y=\"-94.3\" font-family=\"Times,serif\" font-size=\"14.00\">18: return (&#45;ba2 + s / a2, &#45;ba2 &#45; s / a2)</text>\n",
       "</g>\n",
       "<!-- 16&#45;&gt;2 -->\n",
       "<g id=\"edge3\" class=\"edge\">\n",
       "<title>16&#45;&gt;2</title>\n",
       "<path fill=\"none\" stroke=\"green\" d=\"M431.44,-79.93C402.12,-69.29 364.16,-55.52 332.91,-44.19\"/>\n",
       "<polygon fill=\"green\" stroke=\"green\" points=\"334.04,-40.88 323.45,-40.76 331.66,-47.46 334.04,-40.88\"/>\n",
       "</g>\n",
       "<!-- 4 -->\n",
       "<g id=\"node7\" class=\"node\">\n",
       "<title>4</title>\n",
       "<ellipse fill=\"none\" stroke=\"black\" cx=\"287.5\" cy=\"-602\" rx=\"83.69\" ry=\"18\"/>\n",
       "<text text-anchor=\"middle\" x=\"287.5\" y=\"-598.3\" font-family=\"Times,serif\" font-size=\"14.00\">4: xa: float = 0.5 * d</text>\n",
       "</g>\n",
       "<!-- 3&#45;&gt;4 -->\n",
       "<g id=\"edge5\" class=\"edge\">\n",
       "<title>3&#45;&gt;4</title>\n",
       "<path fill=\"none\" stroke=\"green\" d=\"M287.5,-655.7C287.5,-647.98 287.5,-638.71 287.5,-630.11\"/>\n",
       "<polygon fill=\"green\" stroke=\"green\" points=\"291,-630.1 287.5,-620.1 284,-630.1 291,-630.1\"/>\n",
       "</g>\n",
       "<!-- 5 -->\n",
       "<g id=\"node8\" class=\"node\">\n",
       "<title>5</title>\n",
       "<ellipse fill=\"none\" stroke=\"black\" cx=\"287.5\" cy=\"-530\" rx=\"63.89\" ry=\"18\"/>\n",
       "<text text-anchor=\"middle\" x=\"287.5\" y=\"-526.3\" font-family=\"Times,serif\" font-size=\"14.00\">5: xb: float = 0</text>\n",
       "</g>\n",
       "<!-- 4&#45;&gt;5 -->\n",
       "<g id=\"edge6\" class=\"edge\">\n",
       "<title>4&#45;&gt;5</title>\n",
       "<path fill=\"none\" stroke=\"green\" d=\"M287.5,-583.7C287.5,-575.98 287.5,-566.71 287.5,-558.11\"/>\n",
       "<polygon fill=\"green\" stroke=\"green\" points=\"291,-558.1 287.5,-548.1 284,-558.1 291,-558.1\"/>\n",
       "</g>\n",
       "<!-- 6 -->\n",
       "<g id=\"node9\" class=\"node\">\n",
       "<title>6</title>\n",
       "<polygon fill=\"none\" stroke=\"black\" points=\"287.5,-476 158.64,-458 287.5,-440 416.36,-458 287.5,-476\"/>\n",
       "<text text-anchor=\"middle\" x=\"287.5\" y=\"-454.3\" font-family=\"Times,serif\" font-size=\"14.00\">6: while: xa &#45; xb &gt; 0.1</text>\n",
       "</g>\n",
       "<!-- 5&#45;&gt;6 -->\n",
       "<g id=\"edge7\" class=\"edge\">\n",
       "<title>5&#45;&gt;6</title>\n",
       "<path fill=\"none\" stroke=\"green\" d=\"M287.5,-511.7C287.5,-503.98 287.5,-494.71 287.5,-486.11\"/>\n",
       "<polygon fill=\"green\" stroke=\"green\" points=\"291,-486.1 287.5,-476.1 284,-486.1 291,-486.1\"/>\n",
       "</g>\n",
       "<!-- 7 -->\n",
       "<g id=\"node11\" class=\"node\">\n",
       "<title>7</title>\n",
       "<polygon fill=\"none\" stroke=\"black\" points=\"259.5,-404 99.5,-404 99.5,-368 259.5,-368 259.5,-404\"/>\n",
       "<text text-anchor=\"middle\" x=\"179.5\" y=\"-382.3\" font-family=\"Times,serif\" font-size=\"14.00\">7: xb = 0.5 * (xa + d / xa)</text>\n",
       "</g>\n",
       "<!-- 6&#45;&gt;7 -->\n",
       "<g id=\"edge9\" class=\"edge\">\n",
       "<title>6&#45;&gt;7</title>\n",
       "<path fill=\"none\" stroke=\"green\" d=\"M265.9,-443C251.23,-433.49 231.48,-420.69 214.57,-409.73\"/>\n",
       "<polygon fill=\"green\" stroke=\"green\" points=\"216.32,-406.7 206.03,-404.19 212.52,-412.57 216.32,-406.7\"/>\n",
       "</g>\n",
       "<!-- 9 -->\n",
       "<g id=\"node12\" class=\"node\">\n",
       "<title>9</title>\n",
       "<ellipse fill=\"none\" stroke=\"black\" cx=\"378.5\" cy=\"-386\" rx=\"63.09\" ry=\"18\"/>\n",
       "<text text-anchor=\"middle\" x=\"378.5\" y=\"-382.3\" font-family=\"Times,serif\" font-size=\"14.00\">9: s: float = xb</text>\n",
       "</g>\n",
       "<!-- 6&#45;&gt;9 -->\n",
       "<g id=\"edge11\" class=\"edge\">\n",
       "<title>6&#45;&gt;9</title>\n",
       "<path fill=\"none\" stroke=\"green\" d=\"M306.36,-442.5C318.8,-432.92 335.35,-420.19 349.47,-409.33\"/>\n",
       "<polygon fill=\"green\" stroke=\"green\" points=\"351.65,-412.07 357.44,-403.2 347.38,-406.52 351.65,-412.07\"/>\n",
       "</g>\n",
       "<!-- 8 -->\n",
       "<g id=\"node10\" class=\"node\">\n",
       "<title>8</title>\n",
       "<polygon fill=\"none\" stroke=\"black\" points=\"247,-332 174,-332 174,-296 247,-296 247,-332\"/>\n",
       "<text text-anchor=\"middle\" x=\"210.5\" y=\"-310.3\" font-family=\"Times,serif\" font-size=\"14.00\">8: xa = xb</text>\n",
       "</g>\n",
       "<!-- 8&#45;&gt;6 -->\n",
       "<g id=\"edge8\" class=\"edge\">\n",
       "<title>8&#45;&gt;6</title>\n",
       "<path fill=\"none\" stroke=\"green\" d=\"M235.62,-332.19C247.33,-341.47 260.43,-353.92 268.5,-368 279.34,-386.91 284.01,-411.28 286.02,-429.73\"/>\n",
       "<polygon fill=\"green\" stroke=\"green\" points=\"282.54,-430.18 286.92,-439.83 289.52,-429.56 282.54,-430.18\"/>\n",
       "</g>\n",
       "<!-- 7&#45;&gt;8 -->\n",
       "<g id=\"edge10\" class=\"edge\">\n",
       "<title>7&#45;&gt;8</title>\n",
       "<path fill=\"none\" stroke=\"green\" d=\"M187.16,-367.7C190.69,-359.73 194.96,-350.1 198.87,-341.26\"/>\n",
       "<polygon fill=\"green\" stroke=\"green\" points=\"202.08,-342.67 202.93,-332.1 195.68,-339.83 202.08,-342.67\"/>\n",
       "</g>\n",
       "<!-- 10 -->\n",
       "<g id=\"node13\" class=\"node\">\n",
       "<title>10</title>\n",
       "<polygon fill=\"none\" stroke=\"black\" points=\"378.5,-332 295.55,-314 378.5,-296 461.45,-314 378.5,-332\"/>\n",
       "<text text-anchor=\"middle\" x=\"378.5\" y=\"-310.3\" font-family=\"Times,serif\" font-size=\"14.00\">11: if: a == 0</text>\n",
       "</g>\n",
       "<!-- 9&#45;&gt;10 -->\n",
       "<g id=\"edge12\" class=\"edge\">\n",
       "<title>9&#45;&gt;10</title>\n",
       "<path fill=\"none\" stroke=\"green\" d=\"M378.5,-367.7C378.5,-359.98 378.5,-350.71 378.5,-342.11\"/>\n",
       "<polygon fill=\"green\" stroke=\"green\" points=\"382,-342.1 378.5,-332.1 375,-342.1 382,-342.1\"/>\n",
       "</g>\n",
       "<!-- 11 -->\n",
       "<g id=\"node14\" class=\"node\">\n",
       "<title>11</title>\n",
       "<polygon fill=\"none\" stroke=\"black\" points=\"274.5,-188 190.71,-170 274.5,-152 358.29,-170 274.5,-188\"/>\n",
       "<text text-anchor=\"middle\" x=\"274.5\" y=\"-166.3\" font-family=\"Times,serif\" font-size=\"14.00\">12: if: b == 0</text>\n",
       "</g>\n",
       "<!-- 10&#45;&gt;11 -->\n",
       "<g id=\"edge13\" class=\"edge\">\n",
       "<title>10&#45;&gt;11</title>\n",
       "<path fill=\"none\" stroke=\"red\" d=\"M367.57,-298.07C349.42,-273.29 312.95,-223.49 291.44,-194.13\"/>\n",
       "<polygon fill=\"red\" stroke=\"red\" points=\"294.02,-191.73 285.29,-185.73 288.37,-195.86 294.02,-191.73\"/>\n",
       "</g>\n",
       "<!-- 14 -->\n",
       "<g id=\"node15\" class=\"node\">\n",
       "<title>14</title>\n",
       "<ellipse fill=\"none\" stroke=\"black\" cx=\"443.5\" cy=\"-242\" rx=\"81.49\" ry=\"18\"/>\n",
       "<text text-anchor=\"middle\" x=\"443.5\" y=\"-238.3\" font-family=\"Times,serif\" font-size=\"14.00\">16: a2: float = 2 * a</text>\n",
       "</g>\n",
       "<!-- 10&#45;&gt;14 -->\n",
       "<g id=\"edge16\" class=\"edge\">\n",
       "<title>10&#45;&gt;14</title>\n",
       "<path fill=\"none\" stroke=\"green\" d=\"M391.65,-298.83C400.07,-289.77 411.21,-277.77 421.01,-267.22\"/>\n",
       "<polygon fill=\"green\" stroke=\"green\" points=\"423.61,-269.57 427.85,-259.86 418.48,-264.8 423.61,-269.57\"/>\n",
       "</g>\n",
       "<!-- 11&#45;&gt;12 -->\n",
       "<g id=\"edge14\" class=\"edge\">\n",
       "<title>11&#45;&gt;12</title>\n",
       "<path fill=\"none\" stroke=\"red\" d=\"M245.91,-158.06C219.19,-147.84 178.61,-132.32 145.75,-119.75\"/>\n",
       "<polygon fill=\"red\" stroke=\"red\" points=\"146.86,-116.43 136.27,-116.12 144.36,-122.97 146.86,-116.43\"/>\n",
       "</g>\n",
       "<!-- 11&#45;&gt;13 -->\n",
       "<g id=\"edge15\" class=\"edge\">\n",
       "<title>11&#45;&gt;13</title>\n",
       "<path fill=\"none\" stroke=\"red\" d=\"M274.5,-151.7C274.5,-143.98 274.5,-134.71 274.5,-126.11\"/>\n",
       "<polygon fill=\"red\" stroke=\"red\" points=\"278,-126.1 274.5,-116.1 271,-126.1 278,-126.1\"/>\n",
       "</g>\n",
       "<!-- 15 -->\n",
       "<g id=\"node16\" class=\"node\">\n",
       "<title>15</title>\n",
       "<ellipse fill=\"none\" stroke=\"black\" cx=\"470.5\" cy=\"-170\" rx=\"87.99\" ry=\"18\"/>\n",
       "<text text-anchor=\"middle\" x=\"470.5\" y=\"-166.3\" font-family=\"Times,serif\" font-size=\"14.00\">17: ba2: float = b / a2</text>\n",
       "</g>\n",
       "<!-- 14&#45;&gt;15 -->\n",
       "<g id=\"edge17\" class=\"edge\">\n",
       "<title>14&#45;&gt;15</title>\n",
       "<path fill=\"none\" stroke=\"green\" d=\"M450.04,-224.05C453.07,-216.18 456.76,-206.62 460.17,-197.79\"/>\n",
       "<polygon fill=\"green\" stroke=\"green\" points=\"463.5,-198.86 463.84,-188.28 456.97,-196.35 463.5,-198.86\"/>\n",
       "</g>\n",
       "<!-- 15&#45;&gt;16 -->\n",
       "<g id=\"edge18\" class=\"edge\">\n",
       "<title>15&#45;&gt;16</title>\n",
       "<path fill=\"none\" stroke=\"green\" d=\"M472.48,-151.7C473.36,-143.98 474.42,-134.71 475.4,-126.11\"/>\n",
       "<polygon fill=\"green\" stroke=\"green\" points=\"478.89,-126.44 476.55,-116.1 471.93,-125.64 478.89,-126.44\"/>\n",
       "</g>\n",
       "</g>\n",
       "</svg>\n"
      ],
      "text/plain": [
       "<graphviz.graphs.Digraph at 0x10fafc2b0>"
      ]
     },
     "execution_count": 220,
     "metadata": {},
     "output_type": "execute_result"
    }
   ],
   "source": [
    "with ArcCoverage() as cov:\n",
    "    roots3(1, 0, -11 / 20)\n",
    "show_cfg(roots3, arcs=cov.arcs())"
   ]
  },
  {
   "cell_type": "markdown",
   "metadata": {
    "slideshow": {
     "slide_type": "subslide"
    },
    "solution2": "hidden",
    "solution2_first": true
   },
   "source": [
    "Indeed, the path traced is now different. One can continue this procedure to the necessary number of times to explore all nearby paths to the execution.\n",
    "\n",
    "Can you incorporate this exploration into the concolic fuzzer?"
   ]
  },
  {
   "cell_type": "markdown",
   "metadata": {
    "slideshow": {
     "slide_type": "skip"
    },
    "solution2": "hidden"
   },
   "source": [
    "**Solution.** _None yet available._"
   ]
  },
  {
   "cell_type": "markdown",
   "metadata": {
    "slideshow": {
     "slide_type": "slide"
    }
   },
   "source": [
    "## Compatibility"
   ]
  },
  {
   "cell_type": "markdown",
   "metadata": {
    "slideshow": {
     "slide_type": "fragment"
    }
   },
   "source": [
    "Earlier versions of this chapter used the name `AdvancedSymbolicFuzzer` for `SymbolicFuzzer`."
   ]
  },
  {
   "cell_type": "code",
   "execution_count": 221,
   "metadata": {
    "execution": {
     "iopub.execute_input": "2022-08-04T16:59:16.707209Z",
     "iopub.status.busy": "2022-08-04T16:59:16.706900Z",
     "iopub.status.idle": "2022-08-04T16:59:16.708094Z",
     "shell.execute_reply": "2022-08-04T16:59:16.708353Z"
    },
    "slideshow": {
     "slide_type": "fragment"
    }
   },
   "outputs": [],
   "source": [
    "AdvancedSymbolicFuzzer = SymbolicFuzzer"
   ]
  }
 ],
 "metadata": {
  "ipub": {
   "bibliography": "fuzzingbook.bib",
   "toc": true
  },
  "kernelspec": {
   "display_name": "Python 3 (ipykernel)",
   "language": "python",
   "name": "python3"
  },
  "language_info": {
   "codemirror_mode": {
    "name": "ipython",
    "version": 3
   },
   "file_extension": ".py",
   "mimetype": "text/x-python",
   "name": "python",
   "nbconvert_exporter": "python",
   "pygments_lexer": "ipython3",
   "version": "3.10.2"
  },
  "toc": {
   "base_numbering": 1,
   "nav_menu": {},
   "number_sections": true,
   "sideBar": true,
   "skip_h1_title": true,
   "title_cell": "",
   "title_sidebar": "Contents",
   "toc_cell": false,
   "toc_position": {},
   "toc_section_display": true,
   "toc_window_display": true
  },
  "toc-autonumbering": false,
  "varInspector": {
   "cols": {
    "lenName": 16,
    "lenType": 16,
    "lenVar": 40
   },
   "kernels_config": {
    "python": {
     "delete_cmd_postfix": "",
     "delete_cmd_prefix": "del ",
     "library": "var_list.py",
     "varRefreshCmd": "print(var_dic_list())"
    },
    "r": {
     "delete_cmd_postfix": ") ",
     "delete_cmd_prefix": "rm(",
     "library": "var_list.r",
     "varRefreshCmd": "cat(var_dic_list()) "
    }
   },
   "types_to_exclude": [
    "module",
    "function",
    "builtin_function_or_method",
    "instance",
    "_Feature"
   ],
   "window_display": false
  }
 },
 "nbformat": 4,
 "nbformat_minor": 4
}