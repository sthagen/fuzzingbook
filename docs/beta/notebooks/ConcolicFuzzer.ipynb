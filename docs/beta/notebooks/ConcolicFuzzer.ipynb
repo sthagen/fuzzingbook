{
 "cells": [
  {
   "cell_type": "markdown",
   "metadata": {
    "slideshow": {
     "slide_type": "slide"
    }
   },
   "source": [
    "# Concolic Fuzzing\n",
    "\n",
    "In the [chapter on information flow](InformationFlow.ipynb), we have seen how one can use dynamic taints to produce more intelligent test cases than simply looking for program crashes. We have also seen how one can use the taints to update the grammar, and hence focus more on the dangerous methods. "
   ]
  },
  {
   "cell_type": "markdown",
   "metadata": {
    "slideshow": {
     "slide_type": "fragment"
    }
   },
   "source": [
    "While taints are helpful, uninterpreted strings is only one of the attack vectors. Can we say anything more about the properties of variables at any point in the execution? For example, can we say for sure that a function will always receive the buffers with the correct length?"
   ]
  },
  {
   "cell_type": "markdown",
   "metadata": {
    "slideshow": {
     "slide_type": "subslide"
    }
   },
   "source": [
    " _Concolic execution_ offers a solution here. The idea of _concolic execution_ over a function is as follows: We start with a sample input for the function, and execute the function under trace. At each point the execution passes through a conditional, we _save the conditional encountered_ in the form of _relations between symbolic variables._ Here, a _symbolic variable_ can be thought of as a sort of placeholder for the real variable, sort of like the x in solving for x in Algebra. The symbolic variables can be used to specify relations without actually solving them."
   ]
  },
  {
   "cell_type": "markdown",
   "metadata": {
    "slideshow": {
     "slide_type": "fragment"
    }
   },
   "source": [
    "With concolic execution, one can collect the constraints that an execution path encounters, and use it to answer questions about the program behavior at any point we prefer along the program execution path. We can further use concolic execution to enhance fuzzing."
   ]
  },
  {
   "cell_type": "markdown",
   "metadata": {
    "slideshow": {
     "slide_type": "subslide"
    }
   },
   "source": [
    "In this chapter, we explore in depth how to execute a Python function concolically, and how concolic execution can be used to enhance fuzzing."
   ]
  },
  {
   "cell_type": "code",
   "execution_count": 1,
   "metadata": {
    "execution": {
     "iopub.execute_input": "2022-02-21T08:25:27.016132Z",
     "iopub.status.busy": "2022-02-21T08:25:27.014836Z",
     "iopub.status.idle": "2022-02-21T08:25:27.201562Z",
     "shell.execute_reply": "2022-02-21T08:25:27.202022Z"
    },
    "slideshow": {
     "slide_type": "skip"
    }
   },
   "outputs": [
    {
     "data": {
      "text/html": [
       "\n",
       "        <iframe\n",
       "            width=\"640\"\n",
       "            height=\"360\"\n",
       "            src=\"https://www.youtube-nocookie.com/embed/5jBfa1njy18\"\n",
       "            frameborder=\"0\"\n",
       "            allowfullscreen\n",
       "            \n",
       "        ></iframe>\n",
       "        "
      ],
      "text/plain": [
       "<IPython.lib.display.IFrame at 0x10daaf3a0>"
      ]
     },
     "execution_count": 1,
     "metadata": {},
     "output_type": "execute_result"
    }
   ],
   "source": [
    "from bookutils import YouTubeVideo\n",
    "YouTubeVideo('5jBfa1njy18')"
   ]
  },
  {
   "cell_type": "markdown",
   "metadata": {
    "button": false,
    "new_sheet": false,
    "run_control": {
     "read_only": false
    },
    "slideshow": {
     "slide_type": "subslide"
    }
   },
   "source": [
    "**Prerequisites**\n",
    "\n",
    "* You should have read the [chapter on coverage](Coverage.ipynb).\n",
    "* You should have read the [chapter on information flow](InformationFlow.ipynb).\n",
    "* A familiarity with the basic idea of [SMT solvers](https://en.wikipedia.org/wiki/Satisfiability_modulo_theories) would be useful."
   ]
  },
  {
   "cell_type": "code",
   "execution_count": 2,
   "metadata": {
    "execution": {
     "iopub.execute_input": "2022-02-21T08:25:27.207070Z",
     "iopub.status.busy": "2022-02-21T08:25:27.205809Z",
     "iopub.status.idle": "2022-02-21T08:25:27.208267Z",
     "shell.execute_reply": "2022-02-21T08:25:27.208864Z"
    },
    "slideshow": {
     "slide_type": "skip"
    }
   },
   "outputs": [],
   "source": [
    "import bookutils"
   ]
  },
  {
   "cell_type": "code",
   "execution_count": 3,
   "metadata": {
    "execution": {
     "iopub.execute_input": "2022-02-21T08:25:27.213212Z",
     "iopub.status.busy": "2022-02-21T08:25:27.212340Z",
     "iopub.status.idle": "2022-02-21T08:25:27.214300Z",
     "shell.execute_reply": "2022-02-21T08:25:27.214793Z"
    },
    "slideshow": {
     "slide_type": "skip"
    }
   },
   "outputs": [],
   "source": [
    "from typing import List, Callable, Dict, Tuple"
   ]
  },
  {
   "cell_type": "markdown",
   "metadata": {
    "slideshow": {
     "slide_type": "skip"
    }
   },
   "source": [
    "## Synopsis\n",
    "<!-- Automatically generated. Do not edit. -->\n",
    "\n",
    "To [use the code provided in this chapter](Importing.ipynb), write\n",
    "\n",
    "```python\n",
    ">>> from fuzzingbook.ConcolicFuzzer import <identifier>\n",
    "```\n",
    "\n",
    "and then make use of the following features.\n",
    "\n",
    "\n",
    "This chapter defines two main classes: `SimpleConcolicFuzzer` and `ConcolicGrammarFuzzer`. The `SimpleConcolicFuzzer` first uses a sample input to collect predicates encountered. The fuzzer then negates random predicates to generate new input constraints. These, when solved, produce inputs that explore paths that are close to the original path.\n",
    "\n",
    "### ConcolicTracer\n",
    "\n",
    "At the heart of both fuzzers lies the concept of a _concolic tracer_, capturing symbolic variables and path conditions as a program gets executed.\n",
    "\n",
    "`ConcolicTracer` is used in a `with` block; the syntax `tracer[function]` executes `function` within the `tracer` while capturing conditions. Here is an example for the `cgi_decode()` function:\n",
    "\n",
    "```python\n",
    ">>> with ConcolicTracer() as _:\n",
    ">>>     _[cgi_decode]('a%20d')\n",
    "```\n",
    "Once executed, we can retrieve the symbolic variables in the `decls` attribute. This is a mapping of symbolic variables to types.\n",
    "\n",
    "```python\n",
    ">>> _.decls\n",
    "{'cgi_decode_s_str_1': 'String'}\n",
    "```\n",
    "The extracted path conditions can be found in the `path` attribute:\n",
    "\n",
    "```python\n",
    ">>> _.path\n",
    "[0 < Length(cgi_decode_s_str_1),\n",
    " Not(str.substr(cgi_decode_s_str_1, 0, 1) == \"+\"),\n",
    " Not(str.substr(cgi_decode_s_str_1, 0, 1) == \"%\"),\n",
    " 1 < Length(cgi_decode_s_str_1),\n",
    " Not(str.substr(cgi_decode_s_str_1, 1, 1) == \"+\"),\n",
    " str.substr(cgi_decode_s_str_1, 1, 1) == \"%\",\n",
    " Not(str.substr(cgi_decode_s_str_1, 2, 1) == \"0\"),\n",
    " Not(str.substr(cgi_decode_s_str_1, 2, 1) == \"1\"),\n",
    " str.substr(cgi_decode_s_str_1, 2, 1) == \"2\",\n",
    " str.substr(cgi_decode_s_str_1, 3, 1) == \"0\",\n",
    " 4 < Length(cgi_decode_s_str_1),\n",
    " Not(str.substr(cgi_decode_s_str_1, 4, 1) == \"+\"),\n",
    " Not(str.substr(cgi_decode_s_str_1, 4, 1) == \"%\"),\n",
    " Not(5 < Length(cgi_decode_s_str_1))]\n",
    "```\n",
    "The `context` attribute holds a pair of `decls` and `path` attributes; this is useful for passing it into the `ConcolicTracer` constructor.\n",
    "\n",
    "```python\n",
    ">>> assert _.context == (_.decls, _.path)\n",
    "```\n",
    "We can solve these constraints to obtain a value for the function parameters that follow the same path as the original (traced) invocation:\n",
    "\n",
    "```python\n",
    ">>> _.zeval()\n",
    "('sat', {'s': ('A%20B', 'String')})\n",
    "```\n",
    "The `zeval()` function also allows to pass _alternate_ or _negated_ constraints. See the chapter for examples.\n",
    "\n",
    "![](PICS/ConcolicFuzzer-synopsis-1.svg)\n",
    "\n",
    "### SimpleConcolicFuzzer\n",
    "\n",
    "The constraints obtained from `ConcolicTracer` are added to the concolic fuzzer as follows:\n",
    "\n",
    "```python\n",
    ">>> scf = SimpleConcolicFuzzer()\n",
    ">>> scf.add_trace(_, 'a%20d')\n",
    "```\n",
    "The concolic fuzzer then uses the constraints added to guide its fuzzing as follows:\n",
    "\n",
    "```python\n",
    ">>> scf = SimpleConcolicFuzzer()\n",
    ">>> for i in range(20):\n",
    ">>>     v = scf.fuzz()\n",
    ">>>     if v is None:\n",
    ">>>         break\n",
    ">>>     print(repr(v))\n",
    ">>>     with ExpectError(print_traceback=False):\n",
    ">>>         with ConcolicTracer() as _:\n",
    ">>>             _[cgi_decode](v)\n",
    ">>>     scf.add_trace(_, v)\n",
    "' '\n",
    "'%'\n",
    "'AB'\n",
    "''\n",
    "'ABC'\n",
    "\n",
    "IndexError: string index out of range (expected)\n",
    "\n",
    "'A'\n",
    "'AB+'\n",
    "'AB'\n",
    "'ABCD'\n",
    "'ABC+'\n",
    "'A'\n",
    "'ABC'\n",
    "'ABC%'\n",
    "\n",
    "IndexError: string index out of range (expected)\n",
    "IndexError: string index out of range (expected)\n",
    "\n",
    "'A%'\n",
    "'ABC+DE'\n",
    "'AB'\n",
    "'AB+'\n",
    "'A'\n",
    "'ABCD'\n",
    "'A'\n",
    "\n",
    "```\n",
    "We see how the additional inputs generated explore additional paths.\n",
    "\n",
    "![](PICS/ConcolicFuzzer-synopsis-2.svg)\n",
    "\n",
    "### ConcolicGrammarFuzzer\n",
    "\n",
    "The `SimpleConcolicFuzzer` simply explores all paths near the original path traversed by the sample input. It uses a simple mechanism to explore the paths that are near the paths that it knows about, and other than code paths, knows nothing about the input.\n",
    "\n",
    "The `ConcolicGrammarFuzzer` on the other hand, knows about the input grammar, and can collect feedback from the subject under fuzzing. It can lift some of the constraints encountered to the grammar, enabling deeper fuzzing. It is used as follows:\n",
    "\n",
    "```python\n",
    ">>> from InformationFlow import INVENTORY_GRAMMAR, SQLException\n",
    ">>> cgf = ConcolicGrammarFuzzer(INVENTORY_GRAMMAR)\n",
    ">>> cgf.prune_tokens(prune_tokens)\n",
    ">>> for i in range(10):\n",
    ">>>     query = cgf.fuzz()\n",
    ">>>     print(query)\n",
    ">>>     with ConcolicTracer() as _:\n",
    ">>>         with ExpectError(print_traceback=False):\n",
    ">>>             try:\n",
    ">>>                 res = _[db_select](query)\n",
    ">>>                 print(repr(res))\n",
    ">>>             except SQLException as e:\n",
    ">>>                 print(e)\n",
    ">>>         cgf.update_grammar(_)\n",
    ">>>         print()\n",
    "insert into W (Ru_2,.Wj186518W8) values ('@','}','h')\n",
    "Table ('W') was not found\n",
    "\n",
    "select S>R(j),A from C3 where U4==9249\n",
    "Table ('C3') was not found\n",
    "\n",
    "select I/I*U/n1(M),T/E*d(S) from vehicles\n",
    "Invalid WHERE ('(I/I*U/n1(M),T/E*d(S))')\n",
    "\n",
    "select (v==X),t,h,E from months where r8(w)<D-e\n",
    "\n",
    "select e!=K,X from a25i where G/S-y<h/P\n",
    "Table ('a25i') was not found\n",
    "\n",
    "select C,: from months where s*u!=W(Y)>B/P(g)\n",
    "\n",
    "select x/z+.(L)-h from months where -9!=Y>G(A)\n",
    "\n",
    "delete from h4OB60J where K-w/M<t*N/A*S\n",
    "Table ('h4OB60J') was not found\n",
    "\n",
    "delete from months where r/v+z*Y+A-k<(q<h)+y\n",
    "Invalid WHERE ('r/v+z*Y+A-k<(q<h)+y')\n",
    "\n",
    "select (V==b),(C>A) from vehicles where B(e,R)>D\n",
    "\n",
    "\n",
    "TypeError: 'NotImplementedType' object is not callable (expected)\n",
    "TypeError: 'NotImplementedType' object is not callable (expected)\n",
    "TypeError: 'NotImplementedType' object is not callable (expected)\n",
    "TypeError: 'NotImplementedType' object is not callable (expected)\n",
    "\n",
    "```\n",
    "![](PICS/ConcolicFuzzer-synopsis-3.svg)\n",
    "\n"
   ]
  },
  {
   "cell_type": "markdown",
   "metadata": {
    "slideshow": {
     "slide_type": "slide"
    },
    "toc-hr-collapsed": false
   },
   "source": [
    "## Tracking Constraints"
   ]
  },
  {
   "cell_type": "markdown",
   "metadata": {
    "slideshow": {
     "slide_type": "fragment"
    }
   },
   "source": [
    "In the chapter on [information flow](InformationFlow), we have seen how dynamic taints can be used to direct fuzzing by indicating which part of input reached interesting places. However, dynamic taint tracking is limited in the information that it can propagate. For example, we might want to explore what happens when certain properties of the input changes."
   ]
  },
  {
   "cell_type": "markdown",
   "metadata": {
    "slideshow": {
     "slide_type": "fragment"
    }
   },
   "source": [
    "For example, say we have a function `factorial()` that returns the *factorial value* of its input."
   ]
  },
  {
   "cell_type": "code",
   "execution_count": 4,
   "metadata": {
    "execution": {
     "iopub.execute_input": "2022-02-21T08:25:27.219912Z",
     "iopub.status.busy": "2022-02-21T08:25:27.219318Z",
     "iopub.status.idle": "2022-02-21T08:25:27.221116Z",
     "shell.execute_reply": "2022-02-21T08:25:27.221602Z"
    },
    "slideshow": {
     "slide_type": "subslide"
    }
   },
   "outputs": [],
   "source": [
    "def factorial(n):\n",
    "    if n < 0:\n",
    "        return None\n",
    "\n",
    "    if n == 0:\n",
    "        return 1\n",
    "\n",
    "    if n == 1:\n",
    "        return 1\n",
    "\n",
    "    v = 1\n",
    "    while n != 0:\n",
    "        v = v * n\n",
    "        n = n - 1\n",
    "\n",
    "    return v"
   ]
  },
  {
   "cell_type": "markdown",
   "metadata": {
    "slideshow": {
     "slide_type": "subslide"
    }
   },
   "source": [
    "We exercise the function with a value of `5`."
   ]
  },
  {
   "cell_type": "code",
   "execution_count": 5,
   "metadata": {
    "execution": {
     "iopub.execute_input": "2022-02-21T08:25:27.226690Z",
     "iopub.status.busy": "2022-02-21T08:25:27.225521Z",
     "iopub.status.idle": "2022-02-21T08:25:27.229853Z",
     "shell.execute_reply": "2022-02-21T08:25:27.230336Z"
    },
    "slideshow": {
     "slide_type": "fragment"
    }
   },
   "outputs": [
    {
     "data": {
      "text/plain": [
       "120"
      ]
     },
     "execution_count": 5,
     "metadata": {},
     "output_type": "execute_result"
    }
   ],
   "source": [
    "factorial(5)"
   ]
  },
  {
   "cell_type": "markdown",
   "metadata": {
    "slideshow": {
     "slide_type": "fragment"
    }
   },
   "source": [
    "Is this sufficient to explore all the features of the function? How do we know? One way to verify that we have explored all features is to look at the _coverage obtained_. First we need to extend the `Coverage` class from the [chapter on coverage](Coverage.ipynb) to provide us with coverage arcs."
   ]
  },
  {
   "cell_type": "code",
   "execution_count": 6,
   "metadata": {
    "execution": {
     "iopub.execute_input": "2022-02-21T08:25:27.235006Z",
     "iopub.status.busy": "2022-02-21T08:25:27.234318Z",
     "iopub.status.idle": "2022-02-21T08:25:29.401241Z",
     "shell.execute_reply": "2022-02-21T08:25:29.401770Z"
    },
    "slideshow": {
     "slide_type": "skip"
    }
   },
   "outputs": [],
   "source": [
    "from Coverage import Coverage"
   ]
  },
  {
   "cell_type": "code",
   "execution_count": 7,
   "metadata": {
    "execution": {
     "iopub.execute_input": "2022-02-21T08:25:29.406275Z",
     "iopub.status.busy": "2022-02-21T08:25:29.405633Z",
     "iopub.status.idle": "2022-02-21T08:25:29.407772Z",
     "shell.execute_reply": "2022-02-21T08:25:29.408526Z"
    },
    "slideshow": {
     "slide_type": "skip"
    }
   },
   "outputs": [],
   "source": [
    "import inspect"
   ]
  },
  {
   "cell_type": "code",
   "execution_count": 8,
   "metadata": {
    "execution": {
     "iopub.execute_input": "2022-02-21T08:25:29.415072Z",
     "iopub.status.busy": "2022-02-21T08:25:29.414217Z",
     "iopub.status.idle": "2022-02-21T08:25:29.416601Z",
     "shell.execute_reply": "2022-02-21T08:25:29.417118Z"
    },
    "slideshow": {
     "slide_type": "subslide"
    }
   },
   "outputs": [],
   "source": [
    "class ArcCoverage(Coverage):\n",
    "    def traceit(self, frame, event, args):\n",
    "        if event != 'return':\n",
    "            f = inspect.getframeinfo(frame)\n",
    "            self._trace.append((f.function, f.lineno))\n",
    "        return self.traceit\n",
    "\n",
    "    def arcs(self):\n",
    "        t = [i for f, i in self._trace]\n",
    "        return list(zip(t, t[1:]))"
   ]
  },
  {
   "cell_type": "markdown",
   "metadata": {
    "slideshow": {
     "slide_type": "fragment"
    }
   },
   "source": [
    "Next, we use the `Tracer` to obtain the coverage arcs."
   ]
  },
  {
   "cell_type": "code",
   "execution_count": 9,
   "metadata": {
    "execution": {
     "iopub.execute_input": "2022-02-21T08:25:29.421687Z",
     "iopub.status.busy": "2022-02-21T08:25:29.420945Z",
     "iopub.status.idle": "2022-02-21T08:25:29.610584Z",
     "shell.execute_reply": "2022-02-21T08:25:29.611185Z"
    },
    "slideshow": {
     "slide_type": "fragment"
    }
   },
   "outputs": [],
   "source": [
    "with ArcCoverage() as cov:\n",
    "    factorial(5)"
   ]
  },
  {
   "cell_type": "markdown",
   "metadata": {
    "slideshow": {
     "slide_type": "fragment"
    }
   },
   "source": [
    "We can now use the coverage arcs to visualize the coverage obtained."
   ]
  },
  {
   "cell_type": "code",
   "execution_count": 10,
   "metadata": {
    "execution": {
     "iopub.execute_input": "2022-02-21T08:25:29.616514Z",
     "iopub.status.busy": "2022-02-21T08:25:29.615434Z",
     "iopub.status.idle": "2022-02-21T08:25:30.028874Z",
     "shell.execute_reply": "2022-02-21T08:25:30.029354Z"
    },
    "slideshow": {
     "slide_type": "skip"
    }
   },
   "outputs": [],
   "source": [
    "from ControlFlow import to_graph, gen_cfg"
   ]
  },
  {
   "cell_type": "code",
   "execution_count": 11,
   "metadata": {
    "execution": {
     "iopub.execute_input": "2022-02-21T08:25:30.036296Z",
     "iopub.status.busy": "2022-02-21T08:25:30.032992Z",
     "iopub.status.idle": "2022-02-21T08:25:30.849153Z",
     "shell.execute_reply": "2022-02-21T08:25:30.849775Z"
    },
    "slideshow": {
     "slide_type": "subslide"
    }
   },
   "outputs": [
    {
     "data": {
      "image/svg+xml": [
       "<?xml version=\"1.0\" encoding=\"UTF-8\" standalone=\"no\"?>\n",
       "<!DOCTYPE svg PUBLIC \"-//W3C//DTD SVG 1.1//EN\"\n",
       " \"http://www.w3.org/Graphics/SVG/1.1/DTD/svg11.dtd\">\n",
       "<!-- Generated by graphviz version 2.49.3 (20211023.0002)\n",
       " -->\n",
       "<!-- Pages: 1 -->\n",
       "<svg width=\"423pt\" height=\"564pt\"\n",
       " viewBox=\"0.00 0.00 423.11 564.00\" xmlns=\"http://www.w3.org/2000/svg\" xmlns:xlink=\"http://www.w3.org/1999/xlink\">\n",
       "<g id=\"graph0\" class=\"graph\" transform=\"scale(1 1) rotate(0) translate(4 560)\">\n",
       "<polygon fill=\"white\" stroke=\"transparent\" points=\"-4,4 -4,-560 419.11,-560 419.11,4 -4,4\"/>\n",
       "<!-- 1 -->\n",
       "<g id=\"node1\" class=\"node\">\n",
       "<title>1</title>\n",
       "<ellipse fill=\"none\" stroke=\"black\" cx=\"101\" cy=\"-534\" rx=\"83.69\" ry=\"18\"/>\n",
       "<ellipse fill=\"none\" stroke=\"black\" cx=\"101\" cy=\"-534\" rx=\"87.69\" ry=\"22\"/>\n",
       "<text text-anchor=\"middle\" x=\"101\" y=\"-530.3\" font-family=\"Times,serif\" font-size=\"14.00\">1: enter: factorial(n)</text>\n",
       "</g>\n",
       "<!-- 3 -->\n",
       "<g id=\"node7\" class=\"node\">\n",
       "<title>3</title>\n",
       "<polygon fill=\"none\" stroke=\"black\" points=\"101,-476 31.29,-458 101,-440 170.71,-458 101,-476\"/>\n",
       "<text text-anchor=\"middle\" x=\"101\" y=\"-454.3\" font-family=\"Times,serif\" font-size=\"14.00\">2: if: n &lt; 0</text>\n",
       "</g>\n",
       "<!-- 1&#45;&gt;3 -->\n",
       "<g id=\"edge5\" class=\"edge\">\n",
       "<title>1&#45;&gt;3</title>\n",
       "<path fill=\"none\" stroke=\"green\" d=\"M101,-511.99C101,-504.06 101,-494.91 101,-486.48\"/>\n",
       "<polygon fill=\"green\" stroke=\"green\" points=\"104.5,-486.31 101,-476.31 97.5,-486.31 104.5,-486.31\"/>\n",
       "</g>\n",
       "<!-- 2 -->\n",
       "<g id=\"node2\" class=\"node\">\n",
       "<title>2</title>\n",
       "<ellipse fill=\"none\" stroke=\"black\" cx=\"145\" cy=\"-22\" rx=\"79.1\" ry=\"18\"/>\n",
       "<ellipse fill=\"none\" stroke=\"black\" cx=\"145\" cy=\"-22\" rx=\"83.09\" ry=\"22\"/>\n",
       "<text text-anchor=\"middle\" x=\"145\" y=\"-18.3\" font-family=\"Times,serif\" font-size=\"14.00\">1: exit: factorial(n)</text>\n",
       "</g>\n",
       "<!-- 4 -->\n",
       "<g id=\"node3\" class=\"node\">\n",
       "<title>4</title>\n",
       "<polygon fill=\"none\" stroke=\"black\" points=\"98,-188 0,-188 0,-152 98,-152 98,-188\"/>\n",
       "<text text-anchor=\"middle\" x=\"49\" y=\"-166.3\" font-family=\"Times,serif\" font-size=\"14.00\">3: return None</text>\n",
       "</g>\n",
       "<!-- 4&#45;&gt;2 -->\n",
       "<g id=\"edge1\" class=\"edge\">\n",
       "<title>4&#45;&gt;2</title>\n",
       "<path fill=\"none\" stroke=\"red\" d=\"M60.2,-151.97C76.23,-127.59 105.93,-82.42 125.58,-52.53\"/>\n",
       "<polygon fill=\"red\" stroke=\"red\" points=\"128.51,-54.44 131.08,-44.16 122.67,-50.6 128.51,-54.44\"/>\n",
       "</g>\n",
       "<!-- 6 -->\n",
       "<g id=\"node4\" class=\"node\">\n",
       "<title>6</title>\n",
       "<polygon fill=\"none\" stroke=\"black\" points=\"163.5,-332 88.5,-332 88.5,-296 163.5,-296 163.5,-332\"/>\n",
       "<text text-anchor=\"middle\" x=\"126\" y=\"-310.3\" font-family=\"Times,serif\" font-size=\"14.00\">6: return 1</text>\n",
       "</g>\n",
       "<!-- 6&#45;&gt;2 -->\n",
       "<g id=\"edge2\" class=\"edge\">\n",
       "<title>6&#45;&gt;2</title>\n",
       "<path fill=\"none\" stroke=\"red\" d=\"M127.13,-295.73C130.24,-248.22 138.97,-115.09 142.96,-54.16\"/>\n",
       "<polygon fill=\"red\" stroke=\"red\" points=\"146.46,-54.21 143.62,-44 139.48,-53.75 146.46,-54.21\"/>\n",
       "</g>\n",
       "<!-- 8 -->\n",
       "<g id=\"node5\" class=\"node\">\n",
       "<title>8</title>\n",
       "<polygon fill=\"none\" stroke=\"black\" points=\"235.5,-260 160.5,-260 160.5,-224 235.5,-224 235.5,-260\"/>\n",
       "<text text-anchor=\"middle\" x=\"198\" y=\"-238.3\" font-family=\"Times,serif\" font-size=\"14.00\">9: return 1</text>\n",
       "</g>\n",
       "<!-- 8&#45;&gt;2 -->\n",
       "<g id=\"edge3\" class=\"edge\">\n",
       "<title>8&#45;&gt;2</title>\n",
       "<path fill=\"none\" stroke=\"red\" d=\"M193.84,-223.89C184.93,-187.22 163.86,-100.59 152.53,-53.97\"/>\n",
       "<polygon fill=\"red\" stroke=\"red\" points=\"155.9,-53.01 150.13,-44.12 149.1,-54.66 155.9,-53.01\"/>\n",
       "</g>\n",
       "<!-- 13 -->\n",
       "<g id=\"node6\" class=\"node\">\n",
       "<title>13</title>\n",
       "<polygon fill=\"none\" stroke=\"black\" points=\"274,-116 192,-116 192,-80 274,-80 274,-116\"/>\n",
       "<text text-anchor=\"middle\" x=\"233\" y=\"-94.3\" font-family=\"Times,serif\" font-size=\"14.00\">16: return v</text>\n",
       "</g>\n",
       "<!-- 13&#45;&gt;2 -->\n",
       "<g id=\"edge4\" class=\"edge\">\n",
       "<title>13&#45;&gt;2</title>\n",
       "<path fill=\"none\" stroke=\"green\" d=\"M212.59,-79.84C202.03,-70.96 188.89,-59.91 177.02,-49.93\"/>\n",
       "<polygon fill=\"green\" stroke=\"green\" points=\"178.95,-46.98 169.05,-43.22 174.45,-52.34 178.95,-46.98\"/>\n",
       "</g>\n",
       "<!-- 3&#45;&gt;4 -->\n",
       "<g id=\"edge6\" class=\"edge\">\n",
       "<title>3&#45;&gt;4</title>\n",
       "<path fill=\"none\" stroke=\"red\" d=\"M89.42,-442.65C81.92,-432.49 72.69,-418.2 68,-404 44.41,-332.62 45.01,-242.55 47.15,-198.21\"/>\n",
       "<polygon fill=\"red\" stroke=\"red\" points=\"50.64,-198.39 47.69,-188.21 43.65,-198 50.64,-198.39\"/>\n",
       "</g>\n",
       "<!-- 5 -->\n",
       "<g id=\"node8\" class=\"node\">\n",
       "<title>5</title>\n",
       "<polygon fill=\"none\" stroke=\"black\" points=\"154,-404 76.58,-386 154,-368 231.42,-386 154,-404\"/>\n",
       "<text text-anchor=\"middle\" x=\"154\" y=\"-382.3\" font-family=\"Times,serif\" font-size=\"14.00\">5: if: n == 0</text>\n",
       "</g>\n",
       "<!-- 3&#45;&gt;5 -->\n",
       "<g id=\"edge7\" class=\"edge\">\n",
       "<title>3&#45;&gt;5</title>\n",
       "<path fill=\"none\" stroke=\"green\" d=\"M111.98,-442.5C119.16,-433.02 128.68,-420.44 136.85,-409.66\"/>\n",
       "<polygon fill=\"green\" stroke=\"green\" points=\"139.79,-411.57 143.03,-401.49 134.21,-407.35 139.79,-411.57\"/>\n",
       "</g>\n",
       "<!-- 5&#45;&gt;6 -->\n",
       "<g id=\"edge8\" class=\"edge\">\n",
       "<title>5&#45;&gt;6</title>\n",
       "<path fill=\"none\" stroke=\"red\" d=\"M147.65,-369.12C144.42,-361.06 140.42,-351.05 136.74,-341.84\"/>\n",
       "<polygon fill=\"red\" stroke=\"red\" points=\"139.88,-340.28 132.92,-332.29 133.38,-342.88 139.88,-340.28\"/>\n",
       "</g>\n",
       "<!-- 7 -->\n",
       "<g id=\"node9\" class=\"node\">\n",
       "<title>7</title>\n",
       "<polygon fill=\"none\" stroke=\"black\" points=\"259,-332 181.58,-314 259,-296 336.42,-314 259,-332\"/>\n",
       "<text text-anchor=\"middle\" x=\"259\" y=\"-310.3\" font-family=\"Times,serif\" font-size=\"14.00\">8: if: n == 1</text>\n",
       "</g>\n",
       "<!-- 5&#45;&gt;7 -->\n",
       "<g id=\"edge9\" class=\"edge\">\n",
       "<title>5&#45;&gt;7</title>\n",
       "<path fill=\"none\" stroke=\"green\" d=\"M173.26,-372.16C189.54,-361.31 213.07,-345.62 231.36,-333.43\"/>\n",
       "<polygon fill=\"green\" stroke=\"green\" points=\"233.48,-336.22 239.86,-327.76 229.6,-330.39 233.48,-336.22\"/>\n",
       "</g>\n",
       "<!-- 7&#45;&gt;8 -->\n",
       "<g id=\"edge10\" class=\"edge\">\n",
       "<title>7&#45;&gt;8</title>\n",
       "<path fill=\"none\" stroke=\"red\" d=\"M246.66,-298.83C238.89,-289.92 228.65,-278.17 219.57,-267.75\"/>\n",
       "<polygon fill=\"red\" stroke=\"red\" points=\"222.12,-265.35 212.91,-260.11 216.84,-269.95 222.12,-265.35\"/>\n",
       "</g>\n",
       "<!-- 9 -->\n",
       "<g id=\"node10\" class=\"node\">\n",
       "<title>9</title>\n",
       "<polygon fill=\"none\" stroke=\"black\" points=\"323,-260 257,-260 257,-224 323,-224 323,-260\"/>\n",
       "<text text-anchor=\"middle\" x=\"290\" y=\"-238.3\" font-family=\"Times,serif\" font-size=\"14.00\">11: v = 1</text>\n",
       "</g>\n",
       "<!-- 7&#45;&gt;9 -->\n",
       "<g id=\"edge11\" class=\"edge\">\n",
       "<title>7&#45;&gt;9</title>\n",
       "<path fill=\"none\" stroke=\"green\" d=\"M265.88,-297.46C269.48,-289.33 273.99,-279.15 278.14,-269.79\"/>\n",
       "<polygon fill=\"green\" stroke=\"green\" points=\"281.42,-271.02 282.27,-260.46 275.02,-268.19 281.42,-271.02\"/>\n",
       "</g>\n",
       "<!-- 10 -->\n",
       "<g id=\"node11\" class=\"node\">\n",
       "<title>10</title>\n",
       "<polygon fill=\"none\" stroke=\"black\" points=\"314,-188 212.79,-170 314,-152 415.21,-170 314,-188\"/>\n",
       "<text text-anchor=\"middle\" x=\"314\" y=\"-166.3\" font-family=\"Times,serif\" font-size=\"14.00\">12: while: n != 0</text>\n",
       "</g>\n",
       "<!-- 9&#45;&gt;10 -->\n",
       "<g id=\"edge12\" class=\"edge\">\n",
       "<title>9&#45;&gt;10</title>\n",
       "<path fill=\"none\" stroke=\"green\" d=\"M295.93,-223.7C298.72,-215.58 302.09,-205.74 305.17,-196.76\"/>\n",
       "<polygon fill=\"green\" stroke=\"green\" points=\"308.53,-197.74 308.46,-187.14 301.91,-195.47 308.53,-197.74\"/>\n",
       "</g>\n",
       "<!-- 10&#45;&gt;13 -->\n",
       "<g id=\"edge16\" class=\"edge\">\n",
       "<title>10&#45;&gt;13</title>\n",
       "<path fill=\"none\" stroke=\"green\" d=\"M297.61,-154.83C286.99,-145.66 272.9,-133.48 260.58,-122.84\"/>\n",
       "<polygon fill=\"green\" stroke=\"green\" points=\"262.66,-120 252.8,-116.11 258.08,-125.3 262.66,-120\"/>\n",
       "</g>\n",
       "<!-- 11 -->\n",
       "<g id=\"node13\" class=\"node\">\n",
       "<title>11</title>\n",
       "<polygon fill=\"none\" stroke=\"black\" points=\"380,-116 292,-116 292,-80 380,-80 380,-116\"/>\n",
       "<text text-anchor=\"middle\" x=\"336\" y=\"-94.3\" font-family=\"Times,serif\" font-size=\"14.00\">13: v = v * n</text>\n",
       "</g>\n",
       "<!-- 10&#45;&gt;11 -->\n",
       "<g id=\"edge14\" class=\"edge\">\n",
       "<title>10&#45;&gt;11</title>\n",
       "<path fill=\"none\" stroke=\"green\" d=\"M319.1,-152.76C321.61,-144.78 324.7,-134.95 327.55,-125.89\"/>\n",
       "<polygon fill=\"green\" stroke=\"green\" points=\"330.96,-126.71 330.62,-116.12 324.28,-124.61 330.96,-126.71\"/>\n",
       "</g>\n",
       "<!-- 12 -->\n",
       "<g id=\"node12\" class=\"node\">\n",
       "<title>12</title>\n",
       "<polygon fill=\"none\" stroke=\"black\" points=\"414.5,-40 329.5,-40 329.5,-4 414.5,-4 414.5,-40\"/>\n",
       "<text text-anchor=\"middle\" x=\"372\" y=\"-18.3\" font-family=\"Times,serif\" font-size=\"14.00\">14: n = n &#45; 1</text>\n",
       "</g>\n",
       "<!-- 12&#45;&gt;10 -->\n",
       "<g id=\"edge13\" class=\"edge\">\n",
       "<title>12&#45;&gt;10</title>\n",
       "<path fill=\"none\" stroke=\"green\" d=\"M381.31,-40.08C390.53,-59.5 401.6,-91.66 389,-116 380.99,-131.48 366.14,-143.4 351.76,-151.98\"/>\n",
       "<polygon fill=\"green\" stroke=\"green\" points=\"349.97,-148.97 342.93,-156.9 353.37,-155.09 349.97,-148.97\"/>\n",
       "</g>\n",
       "<!-- 11&#45;&gt;12 -->\n",
       "<g id=\"edge15\" class=\"edge\">\n",
       "<title>11&#45;&gt;12</title>\n",
       "<path fill=\"none\" stroke=\"green\" d=\"M344.35,-79.84C348.76,-70.78 354.26,-59.47 359.19,-49.32\"/>\n",
       "<polygon fill=\"green\" stroke=\"green\" points=\"362.47,-50.59 363.7,-40.07 356.17,-47.53 362.47,-50.59\"/>\n",
       "</g>\n",
       "</g>\n",
       "</svg>\n"
      ],
      "text/plain": [
       "<graphviz.dot.Digraph at 0x11356b370>"
      ]
     },
     "execution_count": 11,
     "metadata": {},
     "output_type": "execute_result"
    }
   ],
   "source": [
    "to_graph(gen_cfg(inspect.getsource(factorial)), arcs=cov.arcs())"
   ]
  },
  {
   "cell_type": "markdown",
   "metadata": {
    "slideshow": {
     "slide_type": "fragment"
    }
   },
   "source": [
    "We see that the path `[1, 2, 5, 8, 11, 12, 13, 14]` is covered (green) but sub-paths such as  `[2, 3]`,  `[5, 6]` and `[8, 9]` are unexplored (red). What we need is the ability to generate inputs such that the `True` branch is taken at `2`. How do we do that?"
   ]
  },
  {
   "cell_type": "markdown",
   "metadata": {
    "slideshow": {
     "slide_type": "slide"
    },
    "toc-hr-collapsed": false
   },
   "source": [
    "## Concolic Execution\n",
    "\n",
    "One way to cover additional branches is to look at the execution path being taken, and collect the _conditional constraints_ that the path encounters. Then we can try to produce inputs that lead us to taking the non-traversed path."
   ]
  },
  {
   "cell_type": "markdown",
   "metadata": {
    "slideshow": {
     "slide_type": "fragment"
    }
   },
   "source": [
    "First, let us step through the function."
   ]
  },
  {
   "cell_type": "code",
   "execution_count": 12,
   "metadata": {
    "execution": {
     "iopub.execute_input": "2022-02-21T08:25:30.857075Z",
     "iopub.status.busy": "2022-02-21T08:25:30.855692Z",
     "iopub.status.idle": "2022-02-21T08:25:30.859860Z",
     "shell.execute_reply": "2022-02-21T08:25:30.860709Z"
    },
    "slideshow": {
     "slide_type": "fragment"
    }
   },
   "outputs": [],
   "source": [
    "lines = [i[1] for i in cov._trace if i[0] == 'factorial']\n",
    "src = {i + 1: s for i, s in enumerate(\n",
    "    inspect.getsource(factorial).split('\\n'))}"
   ]
  },
  {
   "cell_type": "markdown",
   "metadata": {
    "slideshow": {
     "slide_type": "fragment"
    }
   },
   "source": [
    "* The line (1) is simply the entry point of the function. We know that the input is `n`, which is an integer."
   ]
  },
  {
   "cell_type": "code",
   "execution_count": 13,
   "metadata": {
    "execution": {
     "iopub.execute_input": "2022-02-21T08:25:30.866740Z",
     "iopub.status.busy": "2022-02-21T08:25:30.865827Z",
     "iopub.status.idle": "2022-02-21T08:25:30.869588Z",
     "shell.execute_reply": "2022-02-21T08:25:30.870198Z"
    },
    "slideshow": {
     "slide_type": "fragment"
    }
   },
   "outputs": [
    {
     "data": {
      "text/plain": [
       "'def factorial(n):'"
      ]
     },
     "execution_count": 13,
     "metadata": {},
     "output_type": "execute_result"
    }
   ],
   "source": [
    "src[1]"
   ]
  },
  {
   "cell_type": "markdown",
   "metadata": {
    "slideshow": {
     "slide_type": "subslide"
    }
   },
   "source": [
    "* The line (2) is a predicate `n < 0`. Since the next line taken is line (5), we know that at this point in the execution path, the predicate was `false`."
   ]
  },
  {
   "cell_type": "code",
   "execution_count": 14,
   "metadata": {
    "execution": {
     "iopub.execute_input": "2022-02-21T08:25:30.876507Z",
     "iopub.status.busy": "2022-02-21T08:25:30.875626Z",
     "iopub.status.idle": "2022-02-21T08:25:30.880421Z",
     "shell.execute_reply": "2022-02-21T08:25:30.881048Z"
    },
    "slideshow": {
     "slide_type": "fragment"
    }
   },
   "outputs": [
    {
     "data": {
      "text/plain": [
       "('    if n < 0:', '        return None', '', '    if n == 0:')"
      ]
     },
     "execution_count": 14,
     "metadata": {},
     "output_type": "execute_result"
    }
   ],
   "source": [
    "src[2], src[3], src[4], src[5]"
   ]
  },
  {
   "cell_type": "markdown",
   "metadata": {
    "slideshow": {
     "slide_type": "fragment"
    }
   },
   "source": [
    "We notice that this is one of the predicates where the `true` branch was not taken. How do we generate a value that takes the `true` branch here? One way is to use symbolic variables to represent the input, encode the constraint, and use an *SMT Solver* to solve the negation of the constraint."
   ]
  },
  {
   "cell_type": "markdown",
   "metadata": {
    "slideshow": {
     "slide_type": "subslide"
    }
   },
   "source": [
    "As we mentioned in the introduction to the chapter, a symbolic variable can be thought of as a sort of placeholder for the real variable, sort of like the `x` in solving for `x` in Algebra. These variables can be used to encode constraints placed on the variables in the program. We identify what constraints the variable is supposed to obey, and finally produce a value that obeys all constraints imposed."
   ]
  },
  {
   "cell_type": "markdown",
   "metadata": {
    "slideshow": {
     "slide_type": "slide"
    }
   },
   "source": [
    "## Solving Constraints"
   ]
  },
  {
   "cell_type": "markdown",
   "metadata": {
    "slideshow": {
     "slide_type": "fragment"
    }
   },
   "source": [
    "To solve these constraints, one can use a _Satisfiability Modulo Theories_ (SMT) solver. An SMT solver is built on top of a _SATISFIABILITY_ (SAT) solver. A SAT solver is being used to check whether boolean formulas in first order logic (e.g `(a | b ) & (~a | ~b)`) can be satisfied using any assignments for the variables (e.g `a = true, b = false`). An SMT solver extends these SAT solvers to specific background theories -- for example, _theory of integers_, or _theory of strings_. That is, given a string constraint expressed as a formula with string variables (e.g `h + t == 'hello,world'`), an SMT solver that understands _theory of strings_ can be used to check if that constraint can be satisfied, and if satisfiable, provide an instantiation of concrete values for the variables used in the formula (e.g `h = 'hello,', t = 'world'`)."
   ]
  },
  {
   "cell_type": "markdown",
   "metadata": {
    "slideshow": {
     "slide_type": "fragment"
    }
   },
   "source": [
    "We use the SMT solver Z3 in this chapter."
   ]
  },
  {
   "cell_type": "code",
   "execution_count": 15,
   "metadata": {
    "execution": {
     "iopub.execute_input": "2022-02-21T08:25:30.886516Z",
     "iopub.status.busy": "2022-02-21T08:25:30.885706Z",
     "iopub.status.idle": "2022-02-21T08:25:30.934262Z",
     "shell.execute_reply": "2022-02-21T08:25:30.934694Z"
    },
    "slideshow": {
     "slide_type": "skip"
    }
   },
   "outputs": [],
   "source": [
    "import z3  # type: ignore"
   ]
  },
  {
   "cell_type": "code",
   "execution_count": 16,
   "metadata": {
    "execution": {
     "iopub.execute_input": "2022-02-21T08:25:30.938237Z",
     "iopub.status.busy": "2022-02-21T08:25:30.937647Z",
     "iopub.status.idle": "2022-02-21T08:25:30.939953Z",
     "shell.execute_reply": "2022-02-21T08:25:30.940446Z"
    },
    "slideshow": {
     "slide_type": "subslide"
    }
   },
   "outputs": [],
   "source": [
    "z3_ver = z3.get_version()"
   ]
  },
  {
   "cell_type": "code",
   "execution_count": 17,
   "metadata": {
    "execution": {
     "iopub.execute_input": "2022-02-21T08:25:30.944270Z",
     "iopub.status.busy": "2022-02-21T08:25:30.943580Z",
     "iopub.status.idle": "2022-02-21T08:25:30.946638Z",
     "shell.execute_reply": "2022-02-21T08:25:30.947070Z"
    },
    "slideshow": {
     "slide_type": "fragment"
    }
   },
   "outputs": [
    {
     "name": "stdout",
     "output_type": "stream",
     "text": [
      "(4, 8, 14, 0)\n"
     ]
    }
   ],
   "source": [
    "print(z3_ver)"
   ]
  },
  {
   "cell_type": "code",
   "execution_count": 18,
   "metadata": {
    "execution": {
     "iopub.execute_input": "2022-02-21T08:25:30.951847Z",
     "iopub.status.busy": "2022-02-21T08:25:30.950987Z",
     "iopub.status.idle": "2022-02-21T08:25:30.953018Z",
     "shell.execute_reply": "2022-02-21T08:25:30.953438Z"
    },
    "slideshow": {
     "slide_type": "fragment"
    }
   },
   "outputs": [],
   "source": [
    "assert z3_ver >= (4, 8, 13, 0), \\\n",
    "    f\"Please install z3-solver 4.8.13.0 or later - you have {z3_ver}\""
   ]
  },
  {
   "cell_type": "markdown",
   "metadata": {
    "slideshow": {
     "slide_type": "fragment"
    }
   },
   "source": [
    "Let us set up Z3 first. To ensure that the string constraints we use in this chapter are successfully evaluated, we need to specify the `z3str3` solver. Further, we set the timeout for Z3 computations to 30 seconds."
   ]
  },
  {
   "cell_type": "code",
   "execution_count": 19,
   "metadata": {
    "execution": {
     "iopub.execute_input": "2022-02-21T08:25:30.957356Z",
     "iopub.status.busy": "2022-02-21T08:25:30.956337Z",
     "iopub.status.idle": "2022-02-21T08:25:30.961080Z",
     "shell.execute_reply": "2022-02-21T08:25:30.961499Z"
    },
    "slideshow": {
     "slide_type": "fragment"
    }
   },
   "outputs": [],
   "source": [
    "# z3.set_option('smt.string_solver', 'z3str3')\n",
    "z3.set_option('timeout', 30 * 1000)  # milliseconds"
   ]
  },
  {
   "cell_type": "markdown",
   "metadata": {
    "slideshow": {
     "slide_type": "fragment"
    }
   },
   "source": [
    "To encode constraints, we need symbolic variables. Here, we make `zn` a placeholder for the Z3 symbolic integer variable `n`."
   ]
  },
  {
   "cell_type": "code",
   "execution_count": 20,
   "metadata": {
    "execution": {
     "iopub.execute_input": "2022-02-21T08:25:30.965520Z",
     "iopub.status.busy": "2022-02-21T08:25:30.964918Z",
     "iopub.status.idle": "2022-02-21T08:25:30.983605Z",
     "shell.execute_reply": "2022-02-21T08:25:30.982736Z"
    },
    "slideshow": {
     "slide_type": "fragment"
    }
   },
   "outputs": [],
   "source": [
    "zn = z3.Int('n')"
   ]
  },
  {
   "cell_type": "markdown",
   "metadata": {
    "slideshow": {
     "slide_type": "subslide"
    }
   },
   "source": [
    "Remember the constraint `(n < 0)` from line 2 in `factorial()`? We can now encode the constraint as follows. "
   ]
  },
  {
   "cell_type": "code",
   "execution_count": 21,
   "metadata": {
    "execution": {
     "iopub.execute_input": "2022-02-21T08:25:30.988891Z",
     "iopub.status.busy": "2022-02-21T08:25:30.987762Z",
     "iopub.status.idle": "2022-02-21T08:25:30.994514Z",
     "shell.execute_reply": "2022-02-21T08:25:30.995316Z"
    },
    "slideshow": {
     "slide_type": "fragment"
    }
   },
   "outputs": [
    {
     "data": {
      "text/html": [
       "n &lt; 0"
      ],
      "text/plain": [
       "n < 0"
      ]
     },
     "execution_count": 21,
     "metadata": {},
     "output_type": "execute_result"
    }
   ],
   "source": [
    "zn < 0"
   ]
  },
  {
   "cell_type": "markdown",
   "metadata": {
    "slideshow": {
     "slide_type": "fragment"
    }
   },
   "source": [
    "We previously traced `factorial(5)`. We saw that with input `5`, the execution took the `else` branch on the predicate `n < 0`. We can express this observation as follows."
   ]
  },
  {
   "cell_type": "code",
   "execution_count": 22,
   "metadata": {
    "execution": {
     "iopub.execute_input": "2022-02-21T08:25:31.001974Z",
     "iopub.status.busy": "2022-02-21T08:25:31.000673Z",
     "iopub.status.idle": "2022-02-21T08:25:31.007841Z",
     "shell.execute_reply": "2022-02-21T08:25:31.008673Z"
    },
    "slideshow": {
     "slide_type": "fragment"
    }
   },
   "outputs": [
    {
     "data": {
      "text/html": [
       "&not;(n &lt; 0)"
      ],
      "text/plain": [
       "Not(n < 0)"
      ]
     },
     "execution_count": 22,
     "metadata": {},
     "output_type": "execute_result"
    }
   ],
   "source": [
    "z3.Not(zn < 0)"
   ]
  },
  {
   "cell_type": "markdown",
   "metadata": {
    "slideshow": {
     "slide_type": "fragment"
    }
   },
   "source": [
    "Let us now solve constraints. The `z3.solve()` method checks if the constraints are satisfiable; if they are, it also provides values for variables such that the constraints are satisfied. For example, we can ask Z3 for an input that will take the `else` branch as follows:"
   ]
  },
  {
   "cell_type": "code",
   "execution_count": 23,
   "metadata": {
    "execution": {
     "iopub.execute_input": "2022-02-21T08:25:31.013858Z",
     "iopub.status.busy": "2022-02-21T08:25:31.012829Z",
     "iopub.status.idle": "2022-02-21T08:25:31.058793Z",
     "shell.execute_reply": "2022-02-21T08:25:31.059186Z"
    },
    "slideshow": {
     "slide_type": "subslide"
    }
   },
   "outputs": [
    {
     "name": "stdout",
     "output_type": "stream",
     "text": [
      "[n = 0]\n"
     ]
    }
   ],
   "source": [
    "z3.solve(z3.Not(zn < 0))"
   ]
  },
  {
   "cell_type": "markdown",
   "metadata": {
    "slideshow": {
     "slide_type": "fragment"
    }
   },
   "source": [
    "This is *a solution* (albeit a trivial one). SMT solvers can be used to solve much harder problems. For example, here is how one can solve a quadratic equation."
   ]
  },
  {
   "cell_type": "code",
   "execution_count": 24,
   "metadata": {
    "execution": {
     "iopub.execute_input": "2022-02-21T08:25:31.064972Z",
     "iopub.status.busy": "2022-02-21T08:25:31.064172Z",
     "iopub.status.idle": "2022-02-21T08:25:31.086260Z",
     "shell.execute_reply": "2022-02-21T08:25:31.087347Z"
    },
    "slideshow": {
     "slide_type": "fragment"
    }
   },
   "outputs": [
    {
     "name": "stdout",
     "output_type": "stream",
     "text": [
      "[x = 5]\n"
     ]
    }
   ],
   "source": [
    "x = z3.Real('x')\n",
    "eqn = (2 * x**2 - 11 * x + 5 == 0)\n",
    "z3.solve(eqn)"
   ]
  },
  {
   "cell_type": "markdown",
   "metadata": {
    "slideshow": {
     "slide_type": "fragment"
    }
   },
   "source": [
    "Again, this is _one solution_. We can ask z3 to give us another solution as follows."
   ]
  },
  {
   "cell_type": "code",
   "execution_count": 25,
   "metadata": {
    "execution": {
     "iopub.execute_input": "2022-02-21T08:25:31.092430Z",
     "iopub.status.busy": "2022-02-21T08:25:31.091715Z",
     "iopub.status.idle": "2022-02-21T08:25:31.109795Z",
     "shell.execute_reply": "2022-02-21T08:25:31.110233Z"
    },
    "slideshow": {
     "slide_type": "subslide"
    }
   },
   "outputs": [
    {
     "name": "stdout",
     "output_type": "stream",
     "text": [
      "[x = 1/2]\n"
     ]
    }
   ],
   "source": [
    "z3.solve(x != 5, eqn)"
   ]
  },
  {
   "cell_type": "markdown",
   "metadata": {
    "slideshow": {
     "slide_type": "fragment"
    }
   },
   "source": [
    "Indeed, both `x = 5` and `x = 1/2` are solutions to the quadratic equation $ 2x^2 -11x + 5 = 0 $"
   ]
  },
  {
   "cell_type": "markdown",
   "metadata": {
    "slideshow": {
     "slide_type": "fragment"
    }
   },
   "source": [
    "Similarly, we can ask *Z3* for an input that satisfies the constraint encoded in line 2 of `factorial()` so that we take the `if` branch."
   ]
  },
  {
   "cell_type": "code",
   "execution_count": 26,
   "metadata": {
    "execution": {
     "iopub.execute_input": "2022-02-21T08:25:31.114858Z",
     "iopub.status.busy": "2022-02-21T08:25:31.114211Z",
     "iopub.status.idle": "2022-02-21T08:25:31.131982Z",
     "shell.execute_reply": "2022-02-21T08:25:31.132427Z"
    },
    "slideshow": {
     "slide_type": "fragment"
    }
   },
   "outputs": [
    {
     "name": "stdout",
     "output_type": "stream",
     "text": [
      "[n = -1]\n"
     ]
    }
   ],
   "source": [
    "z3.solve(zn < 0)"
   ]
  },
  {
   "cell_type": "markdown",
   "metadata": {
    "slideshow": {
     "slide_type": "fragment"
    }
   },
   "source": [
    "That is, if one uses `-1` as an input to `factorial()`, it is guaranteed to take the `if` branch in line 2 during execution."
   ]
  },
  {
   "cell_type": "markdown",
   "metadata": {
    "slideshow": {
     "slide_type": "fragment"
    }
   },
   "source": [
    "Let us try using that with our coverage. Here, the `-1` is the solution from above."
   ]
  },
  {
   "cell_type": "code",
   "execution_count": 27,
   "metadata": {
    "execution": {
     "iopub.execute_input": "2022-02-21T08:25:31.141009Z",
     "iopub.status.busy": "2022-02-21T08:25:31.140333Z",
     "iopub.status.idle": "2022-02-21T08:25:31.182720Z",
     "shell.execute_reply": "2022-02-21T08:25:31.183226Z"
    },
    "slideshow": {
     "slide_type": "subslide"
    }
   },
   "outputs": [],
   "source": [
    "with cov as cov:\n",
    "    factorial(-1)"
   ]
  },
  {
   "cell_type": "code",
   "execution_count": 28,
   "metadata": {
    "execution": {
     "iopub.execute_input": "2022-02-21T08:25:31.189933Z",
     "iopub.status.busy": "2022-02-21T08:25:31.189286Z",
     "iopub.status.idle": "2022-02-21T08:25:31.709880Z",
     "shell.execute_reply": "2022-02-21T08:25:31.710397Z"
    },
    "slideshow": {
     "slide_type": "fragment"
    }
   },
   "outputs": [
    {
     "data": {
      "image/svg+xml": [
       "<?xml version=\"1.0\" encoding=\"UTF-8\" standalone=\"no\"?>\n",
       "<!DOCTYPE svg PUBLIC \"-//W3C//DTD SVG 1.1//EN\"\n",
       " \"http://www.w3.org/Graphics/SVG/1.1/DTD/svg11.dtd\">\n",
       "<!-- Generated by graphviz version 2.49.3 (20211023.0002)\n",
       " -->\n",
       "<!-- Pages: 1 -->\n",
       "<svg width=\"423pt\" height=\"564pt\"\n",
       " viewBox=\"0.00 0.00 423.11 564.00\" xmlns=\"http://www.w3.org/2000/svg\" xmlns:xlink=\"http://www.w3.org/1999/xlink\">\n",
       "<g id=\"graph0\" class=\"graph\" transform=\"scale(1 1) rotate(0) translate(4 560)\">\n",
       "<polygon fill=\"white\" stroke=\"transparent\" points=\"-4,4 -4,-560 419.11,-560 419.11,4 -4,4\"/>\n",
       "<!-- 1 -->\n",
       "<g id=\"node1\" class=\"node\">\n",
       "<title>1</title>\n",
       "<ellipse fill=\"none\" stroke=\"black\" cx=\"101\" cy=\"-534\" rx=\"83.69\" ry=\"18\"/>\n",
       "<ellipse fill=\"none\" stroke=\"black\" cx=\"101\" cy=\"-534\" rx=\"87.69\" ry=\"22\"/>\n",
       "<text text-anchor=\"middle\" x=\"101\" y=\"-530.3\" font-family=\"Times,serif\" font-size=\"14.00\">1: enter: factorial(n)</text>\n",
       "</g>\n",
       "<!-- 3 -->\n",
       "<g id=\"node7\" class=\"node\">\n",
       "<title>3</title>\n",
       "<polygon fill=\"none\" stroke=\"black\" points=\"101,-476 31.29,-458 101,-440 170.71,-458 101,-476\"/>\n",
       "<text text-anchor=\"middle\" x=\"101\" y=\"-454.3\" font-family=\"Times,serif\" font-size=\"14.00\">2: if: n &lt; 0</text>\n",
       "</g>\n",
       "<!-- 1&#45;&gt;3 -->\n",
       "<g id=\"edge5\" class=\"edge\">\n",
       "<title>1&#45;&gt;3</title>\n",
       "<path fill=\"none\" stroke=\"green\" d=\"M101,-511.99C101,-504.06 101,-494.91 101,-486.48\"/>\n",
       "<polygon fill=\"green\" stroke=\"green\" points=\"104.5,-486.31 101,-476.31 97.5,-486.31 104.5,-486.31\"/>\n",
       "</g>\n",
       "<!-- 2 -->\n",
       "<g id=\"node2\" class=\"node\">\n",
       "<title>2</title>\n",
       "<ellipse fill=\"none\" stroke=\"black\" cx=\"145\" cy=\"-22\" rx=\"79.1\" ry=\"18\"/>\n",
       "<ellipse fill=\"none\" stroke=\"black\" cx=\"145\" cy=\"-22\" rx=\"83.09\" ry=\"22\"/>\n",
       "<text text-anchor=\"middle\" x=\"145\" y=\"-18.3\" font-family=\"Times,serif\" font-size=\"14.00\">1: exit: factorial(n)</text>\n",
       "</g>\n",
       "<!-- 4 -->\n",
       "<g id=\"node3\" class=\"node\">\n",
       "<title>4</title>\n",
       "<polygon fill=\"none\" stroke=\"black\" points=\"98,-188 0,-188 0,-152 98,-152 98,-188\"/>\n",
       "<text text-anchor=\"middle\" x=\"49\" y=\"-166.3\" font-family=\"Times,serif\" font-size=\"14.00\">3: return None</text>\n",
       "</g>\n",
       "<!-- 4&#45;&gt;2 -->\n",
       "<g id=\"edge1\" class=\"edge\">\n",
       "<title>4&#45;&gt;2</title>\n",
       "<path fill=\"none\" stroke=\"green\" d=\"M60.2,-151.97C76.23,-127.59 105.93,-82.42 125.58,-52.53\"/>\n",
       "<polygon fill=\"green\" stroke=\"green\" points=\"128.51,-54.44 131.08,-44.16 122.67,-50.6 128.51,-54.44\"/>\n",
       "</g>\n",
       "<!-- 6 -->\n",
       "<g id=\"node4\" class=\"node\">\n",
       "<title>6</title>\n",
       "<polygon fill=\"none\" stroke=\"black\" points=\"163.5,-332 88.5,-332 88.5,-296 163.5,-296 163.5,-332\"/>\n",
       "<text text-anchor=\"middle\" x=\"126\" y=\"-310.3\" font-family=\"Times,serif\" font-size=\"14.00\">6: return 1</text>\n",
       "</g>\n",
       "<!-- 6&#45;&gt;2 -->\n",
       "<g id=\"edge2\" class=\"edge\">\n",
       "<title>6&#45;&gt;2</title>\n",
       "<path fill=\"none\" stroke=\"red\" d=\"M127.13,-295.73C130.24,-248.22 138.97,-115.09 142.96,-54.16\"/>\n",
       "<polygon fill=\"red\" stroke=\"red\" points=\"146.46,-54.21 143.62,-44 139.48,-53.75 146.46,-54.21\"/>\n",
       "</g>\n",
       "<!-- 8 -->\n",
       "<g id=\"node5\" class=\"node\">\n",
       "<title>8</title>\n",
       "<polygon fill=\"none\" stroke=\"black\" points=\"235.5,-260 160.5,-260 160.5,-224 235.5,-224 235.5,-260\"/>\n",
       "<text text-anchor=\"middle\" x=\"198\" y=\"-238.3\" font-family=\"Times,serif\" font-size=\"14.00\">9: return 1</text>\n",
       "</g>\n",
       "<!-- 8&#45;&gt;2 -->\n",
       "<g id=\"edge3\" class=\"edge\">\n",
       "<title>8&#45;&gt;2</title>\n",
       "<path fill=\"none\" stroke=\"red\" d=\"M193.84,-223.89C184.93,-187.22 163.86,-100.59 152.53,-53.97\"/>\n",
       "<polygon fill=\"red\" stroke=\"red\" points=\"155.9,-53.01 150.13,-44.12 149.1,-54.66 155.9,-53.01\"/>\n",
       "</g>\n",
       "<!-- 13 -->\n",
       "<g id=\"node6\" class=\"node\">\n",
       "<title>13</title>\n",
       "<polygon fill=\"none\" stroke=\"black\" points=\"274,-116 192,-116 192,-80 274,-80 274,-116\"/>\n",
       "<text text-anchor=\"middle\" x=\"233\" y=\"-94.3\" font-family=\"Times,serif\" font-size=\"14.00\">16: return v</text>\n",
       "</g>\n",
       "<!-- 13&#45;&gt;2 -->\n",
       "<g id=\"edge4\" class=\"edge\">\n",
       "<title>13&#45;&gt;2</title>\n",
       "<path fill=\"none\" stroke=\"green\" d=\"M212.59,-79.84C202.03,-70.96 188.89,-59.91 177.02,-49.93\"/>\n",
       "<polygon fill=\"green\" stroke=\"green\" points=\"178.95,-46.98 169.05,-43.22 174.45,-52.34 178.95,-46.98\"/>\n",
       "</g>\n",
       "<!-- 3&#45;&gt;4 -->\n",
       "<g id=\"edge6\" class=\"edge\">\n",
       "<title>3&#45;&gt;4</title>\n",
       "<path fill=\"none\" stroke=\"green\" d=\"M89.42,-442.65C81.92,-432.49 72.69,-418.2 68,-404 44.41,-332.62 45.01,-242.55 47.15,-198.21\"/>\n",
       "<polygon fill=\"green\" stroke=\"green\" points=\"50.64,-198.39 47.69,-188.21 43.65,-198 50.64,-198.39\"/>\n",
       "</g>\n",
       "<!-- 5 -->\n",
       "<g id=\"node8\" class=\"node\">\n",
       "<title>5</title>\n",
       "<polygon fill=\"none\" stroke=\"black\" points=\"154,-404 76.58,-386 154,-368 231.42,-386 154,-404\"/>\n",
       "<text text-anchor=\"middle\" x=\"154\" y=\"-382.3\" font-family=\"Times,serif\" font-size=\"14.00\">5: if: n == 0</text>\n",
       "</g>\n",
       "<!-- 3&#45;&gt;5 -->\n",
       "<g id=\"edge7\" class=\"edge\">\n",
       "<title>3&#45;&gt;5</title>\n",
       "<path fill=\"none\" stroke=\"green\" d=\"M111.98,-442.5C119.16,-433.02 128.68,-420.44 136.85,-409.66\"/>\n",
       "<polygon fill=\"green\" stroke=\"green\" points=\"139.79,-411.57 143.03,-401.49 134.21,-407.35 139.79,-411.57\"/>\n",
       "</g>\n",
       "<!-- 5&#45;&gt;6 -->\n",
       "<g id=\"edge8\" class=\"edge\">\n",
       "<title>5&#45;&gt;6</title>\n",
       "<path fill=\"none\" stroke=\"red\" d=\"M147.65,-369.12C144.42,-361.06 140.42,-351.05 136.74,-341.84\"/>\n",
       "<polygon fill=\"red\" stroke=\"red\" points=\"139.88,-340.28 132.92,-332.29 133.38,-342.88 139.88,-340.28\"/>\n",
       "</g>\n",
       "<!-- 7 -->\n",
       "<g id=\"node9\" class=\"node\">\n",
       "<title>7</title>\n",
       "<polygon fill=\"none\" stroke=\"black\" points=\"259,-332 181.58,-314 259,-296 336.42,-314 259,-332\"/>\n",
       "<text text-anchor=\"middle\" x=\"259\" y=\"-310.3\" font-family=\"Times,serif\" font-size=\"14.00\">8: if: n == 1</text>\n",
       "</g>\n",
       "<!-- 5&#45;&gt;7 -->\n",
       "<g id=\"edge9\" class=\"edge\">\n",
       "<title>5&#45;&gt;7</title>\n",
       "<path fill=\"none\" stroke=\"green\" d=\"M173.26,-372.16C189.54,-361.31 213.07,-345.62 231.36,-333.43\"/>\n",
       "<polygon fill=\"green\" stroke=\"green\" points=\"233.48,-336.22 239.86,-327.76 229.6,-330.39 233.48,-336.22\"/>\n",
       "</g>\n",
       "<!-- 7&#45;&gt;8 -->\n",
       "<g id=\"edge10\" class=\"edge\">\n",
       "<title>7&#45;&gt;8</title>\n",
       "<path fill=\"none\" stroke=\"red\" d=\"M246.66,-298.83C238.89,-289.92 228.65,-278.17 219.57,-267.75\"/>\n",
       "<polygon fill=\"red\" stroke=\"red\" points=\"222.12,-265.35 212.91,-260.11 216.84,-269.95 222.12,-265.35\"/>\n",
       "</g>\n",
       "<!-- 9 -->\n",
       "<g id=\"node10\" class=\"node\">\n",
       "<title>9</title>\n",
       "<polygon fill=\"none\" stroke=\"black\" points=\"323,-260 257,-260 257,-224 323,-224 323,-260\"/>\n",
       "<text text-anchor=\"middle\" x=\"290\" y=\"-238.3\" font-family=\"Times,serif\" font-size=\"14.00\">11: v = 1</text>\n",
       "</g>\n",
       "<!-- 7&#45;&gt;9 -->\n",
       "<g id=\"edge11\" class=\"edge\">\n",
       "<title>7&#45;&gt;9</title>\n",
       "<path fill=\"none\" stroke=\"green\" d=\"M265.88,-297.46C269.48,-289.33 273.99,-279.15 278.14,-269.79\"/>\n",
       "<polygon fill=\"green\" stroke=\"green\" points=\"281.42,-271.02 282.27,-260.46 275.02,-268.19 281.42,-271.02\"/>\n",
       "</g>\n",
       "<!-- 10 -->\n",
       "<g id=\"node11\" class=\"node\">\n",
       "<title>10</title>\n",
       "<polygon fill=\"none\" stroke=\"black\" points=\"314,-188 212.79,-170 314,-152 415.21,-170 314,-188\"/>\n",
       "<text text-anchor=\"middle\" x=\"314\" y=\"-166.3\" font-family=\"Times,serif\" font-size=\"14.00\">12: while: n != 0</text>\n",
       "</g>\n",
       "<!-- 9&#45;&gt;10 -->\n",
       "<g id=\"edge12\" class=\"edge\">\n",
       "<title>9&#45;&gt;10</title>\n",
       "<path fill=\"none\" stroke=\"green\" d=\"M295.93,-223.7C298.72,-215.58 302.09,-205.74 305.17,-196.76\"/>\n",
       "<polygon fill=\"green\" stroke=\"green\" points=\"308.53,-197.74 308.46,-187.14 301.91,-195.47 308.53,-197.74\"/>\n",
       "</g>\n",
       "<!-- 10&#45;&gt;13 -->\n",
       "<g id=\"edge16\" class=\"edge\">\n",
       "<title>10&#45;&gt;13</title>\n",
       "<path fill=\"none\" stroke=\"green\" d=\"M297.61,-154.83C286.99,-145.66 272.9,-133.48 260.58,-122.84\"/>\n",
       "<polygon fill=\"green\" stroke=\"green\" points=\"262.66,-120 252.8,-116.11 258.08,-125.3 262.66,-120\"/>\n",
       "</g>\n",
       "<!-- 11 -->\n",
       "<g id=\"node13\" class=\"node\">\n",
       "<title>11</title>\n",
       "<polygon fill=\"none\" stroke=\"black\" points=\"380,-116 292,-116 292,-80 380,-80 380,-116\"/>\n",
       "<text text-anchor=\"middle\" x=\"336\" y=\"-94.3\" font-family=\"Times,serif\" font-size=\"14.00\">13: v = v * n</text>\n",
       "</g>\n",
       "<!-- 10&#45;&gt;11 -->\n",
       "<g id=\"edge14\" class=\"edge\">\n",
       "<title>10&#45;&gt;11</title>\n",
       "<path fill=\"none\" stroke=\"green\" d=\"M319.1,-152.76C321.61,-144.78 324.7,-134.95 327.55,-125.89\"/>\n",
       "<polygon fill=\"green\" stroke=\"green\" points=\"330.96,-126.71 330.62,-116.12 324.28,-124.61 330.96,-126.71\"/>\n",
       "</g>\n",
       "<!-- 12 -->\n",
       "<g id=\"node12\" class=\"node\">\n",
       "<title>12</title>\n",
       "<polygon fill=\"none\" stroke=\"black\" points=\"414.5,-40 329.5,-40 329.5,-4 414.5,-4 414.5,-40\"/>\n",
       "<text text-anchor=\"middle\" x=\"372\" y=\"-18.3\" font-family=\"Times,serif\" font-size=\"14.00\">14: n = n &#45; 1</text>\n",
       "</g>\n",
       "<!-- 12&#45;&gt;10 -->\n",
       "<g id=\"edge13\" class=\"edge\">\n",
       "<title>12&#45;&gt;10</title>\n",
       "<path fill=\"none\" stroke=\"green\" d=\"M381.31,-40.08C390.53,-59.5 401.6,-91.66 389,-116 380.99,-131.48 366.14,-143.4 351.76,-151.98\"/>\n",
       "<polygon fill=\"green\" stroke=\"green\" points=\"349.97,-148.97 342.93,-156.9 353.37,-155.09 349.97,-148.97\"/>\n",
       "</g>\n",
       "<!-- 11&#45;&gt;12 -->\n",
       "<g id=\"edge15\" class=\"edge\">\n",
       "<title>11&#45;&gt;12</title>\n",
       "<path fill=\"none\" stroke=\"green\" d=\"M344.35,-79.84C348.76,-70.78 354.26,-59.47 359.19,-49.32\"/>\n",
       "<polygon fill=\"green\" stroke=\"green\" points=\"362.47,-50.59 363.7,-40.07 356.17,-47.53 362.47,-50.59\"/>\n",
       "</g>\n",
       "</g>\n",
       "</svg>\n"
      ],
      "text/plain": [
       "<graphviz.dot.Digraph at 0x10ddf0760>"
      ]
     },
     "execution_count": 28,
     "metadata": {},
     "output_type": "execute_result"
    }
   ],
   "source": [
    "to_graph(gen_cfg(inspect.getsource(factorial)), arcs=cov.arcs())"
   ]
  },
  {
   "cell_type": "markdown",
   "metadata": {
    "slideshow": {
     "slide_type": "fragment"
    }
   },
   "source": [
    "Ok, so we have managed to cover a little more of the graph. Let us continue with our original input of `factorial(5)`:\n",
    "* In line (5) we encounter a new predicate `n == 0`, for which we again took the false branch."
   ]
  },
  {
   "cell_type": "code",
   "execution_count": 29,
   "metadata": {
    "execution": {
     "iopub.execute_input": "2022-02-21T08:25:31.716938Z",
     "iopub.status.busy": "2022-02-21T08:25:31.716296Z",
     "iopub.status.idle": "2022-02-21T08:25:31.718980Z",
     "shell.execute_reply": "2022-02-21T08:25:31.719534Z"
    },
    "slideshow": {
     "slide_type": "fragment"
    }
   },
   "outputs": [
    {
     "data": {
      "text/plain": [
       "'    if n == 0:'"
      ]
     },
     "execution_count": 29,
     "metadata": {},
     "output_type": "execute_result"
    }
   ],
   "source": [
    "src[5]"
   ]
  },
  {
   "cell_type": "markdown",
   "metadata": {
    "slideshow": {
     "slide_type": "fragment"
    }
   },
   "source": [
    "The predicates required, to follow the path until this point are as follows."
   ]
  },
  {
   "cell_type": "code",
   "execution_count": 30,
   "metadata": {
    "execution": {
     "iopub.execute_input": "2022-02-21T08:25:31.724920Z",
     "iopub.status.busy": "2022-02-21T08:25:31.723926Z",
     "iopub.status.idle": "2022-02-21T08:25:31.728102Z",
     "shell.execute_reply": "2022-02-21T08:25:31.728827Z"
    },
    "slideshow": {
     "slide_type": "fragment"
    }
   },
   "outputs": [],
   "source": [
    "predicates = [z3.Not(zn < 0), z3.Not(zn == 0)]"
   ]
  },
  {
   "cell_type": "markdown",
   "metadata": {
    "slideshow": {
     "slide_type": "subslide"
    }
   },
   "source": [
    "* If we continue to line (8), we encounter another predicate, for which again, we took the `false` branch"
   ]
  },
  {
   "cell_type": "code",
   "execution_count": 31,
   "metadata": {
    "execution": {
     "iopub.execute_input": "2022-02-21T08:25:31.733967Z",
     "iopub.status.busy": "2022-02-21T08:25:31.733398Z",
     "iopub.status.idle": "2022-02-21T08:25:31.735973Z",
     "shell.execute_reply": "2022-02-21T08:25:31.736470Z"
    },
    "slideshow": {
     "slide_type": "fragment"
    }
   },
   "outputs": [
    {
     "data": {
      "text/plain": [
       "'    if n == 1:'"
      ]
     },
     "execution_count": 31,
     "metadata": {},
     "output_type": "execute_result"
    }
   ],
   "source": [
    "src[8]"
   ]
  },
  {
   "cell_type": "markdown",
   "metadata": {
    "slideshow": {
     "slide_type": "fragment"
    }
   },
   "source": [
    "The predicates encountered so far are as follows"
   ]
  },
  {
   "cell_type": "code",
   "execution_count": 32,
   "metadata": {
    "execution": {
     "iopub.execute_input": "2022-02-21T08:25:31.741173Z",
     "iopub.status.busy": "2022-02-21T08:25:31.740086Z",
     "iopub.status.idle": "2022-02-21T08:25:31.743183Z",
     "shell.execute_reply": "2022-02-21T08:25:31.743595Z"
    },
    "slideshow": {
     "slide_type": "fragment"
    }
   },
   "outputs": [],
   "source": [
    "predicates = [z3.Not(zn < 0), z3.Not(zn == 0), z3.Not(zn == 1)]"
   ]
  },
  {
   "cell_type": "markdown",
   "metadata": {
    "slideshow": {
     "slide_type": "fragment"
    }
   },
   "source": [
    "To take the branch at (6), we essentially have to obey the predicates until that point, but invert the last predicate."
   ]
  },
  {
   "cell_type": "code",
   "execution_count": 33,
   "metadata": {
    "execution": {
     "iopub.execute_input": "2022-02-21T08:25:31.750301Z",
     "iopub.status.busy": "2022-02-21T08:25:31.749227Z",
     "iopub.status.idle": "2022-02-21T08:25:31.771026Z",
     "shell.execute_reply": "2022-02-21T08:25:31.771438Z"
    },
    "slideshow": {
     "slide_type": "fragment"
    }
   },
   "outputs": [
    {
     "name": "stdout",
     "output_type": "stream",
     "text": [
      "[n = 1]\n"
     ]
    }
   ],
   "source": [
    "last = len(predicates) - 1\n",
    "z3.solve(predicates[0:-1] + [z3.Not(predicates[-1])])"
   ]
  },
  {
   "cell_type": "markdown",
   "metadata": {
    "slideshow": {
     "slide_type": "subslide"
    }
   },
   "source": [
    "What we are doing here is tracing the execution corresponding to a particular input `factorial(5)`, using concrete values, and along with it, keeping *symbolic shadow variables* that enable us to capture the constraints. As we mentioned in the introduction, this particular method of execution where one tracks concrete  execution using symbolic variables is called *Concolic Execution*.\n",
    "\n",
    "How do we automate this process? One method is to use a similar infrastructure as that of the chapter on [information flow](InformationFlow.ipynb), and use the Python inheritance to create _symbolic proxy objects_ that can track the concrete execution."
   ]
  },
  {
   "cell_type": "markdown",
   "metadata": {
    "slideshow": {
     "slide_type": "slide"
    },
    "tags": [],
    "toc-nb-collapsed": true
   },
   "source": [
    "## A Concolic Tracer\n",
    "\n",
    "Let us now define a class to _collect_ symbolic variables and path conditions during an execution. The idea is to have a `ConcolicTracer` class that is invoked in a `with` block. To execute a function while tracing its path conditions, we need to _transform_ its arguments, which we do by invoking functions through a `[]` item access.\n",
    "\n",
    "This is a typical usage of a `ConcolicTracer`:\n",
    "\n",
    "```python\n",
    "with ConcolicTracer as _:\n",
    "    _.[function](args, ...)\n",
    "```\n",
    "\n",
    "After execution, we can access the symbolic variables in the `decls` attribute:\n",
    "\n",
    "```python\n",
    "_.decls\n",
    "```\n",
    "\n",
    "whereas the `path` attribute lists the precondition paths encountered:\n",
    "\n",
    "```python\n",
    "_.path\n",
    "```\n",
    "\n",
    "The `context` attribute contains a pair of declarations and paths:\n",
    "\n",
    "```python\n",
    "_.context\n",
    "```\n",
    "\n",
    "If you read this for the first time, skip the implementation and head right to the examples."
   ]
  },
  {
   "cell_type": "markdown",
   "metadata": {
    "slideshow": {
     "slide_type": "subslide"
    },
    "tags": []
   },
   "source": [
    "### Excursion: Implementing ConcolicTracer"
   ]
  },
  {
   "cell_type": "markdown",
   "metadata": {
    "slideshow": {
     "slide_type": "fragment"
    }
   },
   "source": [
    "Let us now implement `ConcolicTracer`\n",
    " constructor of a  accepts a single `context` argument which contains the declarations for the symbolic variables seen so far, and path conditions seen so far. We only need this in case of nested contexts."
   ]
  },
  {
   "cell_type": "code",
   "execution_count": 34,
   "metadata": {
    "execution": {
     "iopub.execute_input": "2022-02-21T08:25:31.777343Z",
     "iopub.status.busy": "2022-02-21T08:25:31.776674Z",
     "iopub.status.idle": "2022-02-21T08:25:31.778623Z",
     "shell.execute_reply": "2022-02-21T08:25:31.779275Z"
    },
    "slideshow": {
     "slide_type": "fragment"
    }
   },
   "outputs": [],
   "source": [
    "class ConcolicTracer:\n",
    "    \"\"\"Trace function execution, tracking variables and path conditions\"\"\"\n",
    "\n",
    "    def __init__(self, context=None):\n",
    "        \"\"\"Constructor.\"\"\"\n",
    "        self.context = context if context is not None else ({}, [])\n",
    "        self.decls, self.path = self.context"
   ]
  },
  {
   "cell_type": "markdown",
   "metadata": {
    "slideshow": {
     "slide_type": "fragment"
    }
   },
   "source": [
    "We add the enter and exit methods for the `with` block."
   ]
  },
  {
   "cell_type": "code",
   "execution_count": 35,
   "metadata": {
    "execution": {
     "iopub.execute_input": "2022-02-21T08:25:31.784707Z",
     "iopub.status.busy": "2022-02-21T08:25:31.783684Z",
     "iopub.status.idle": "2022-02-21T08:25:31.785997Z",
     "shell.execute_reply": "2022-02-21T08:25:31.786435Z"
    },
    "slideshow": {
     "slide_type": "subslide"
    }
   },
   "outputs": [],
   "source": [
    "class ConcolicTracer(ConcolicTracer):\n",
    "    def __enter__(self):\n",
    "        return self\n",
    "\n",
    "    def __exit__(self, exc_type, exc_value, tb):\n",
    "        return"
   ]
  },
  {
   "cell_type": "markdown",
   "metadata": {
    "slideshow": {
     "slide_type": "fragment"
    }
   },
   "source": [
    "We use introspection to determine the arguments to the function, which is hooked into the `getitem()` method."
   ]
  },
  {
   "cell_type": "code",
   "execution_count": 36,
   "metadata": {
    "execution": {
     "iopub.execute_input": "2022-02-21T08:25:31.794955Z",
     "iopub.status.busy": "2022-02-21T08:25:31.793839Z",
     "iopub.status.idle": "2022-02-21T08:25:31.795752Z",
     "shell.execute_reply": "2022-02-21T08:25:31.796264Z"
    },
    "slideshow": {
     "slide_type": "fragment"
    }
   },
   "outputs": [],
   "source": [
    "class ConcolicTracer(ConcolicTracer):\n",
    "    def __getitem__(self, fn):\n",
    "        self.fn = fn\n",
    "        self.fn_args = {i: None for i in inspect.signature(fn).parameters}\n",
    "        return self"
   ]
  },
  {
   "cell_type": "markdown",
   "metadata": {
    "slideshow": {
     "slide_type": "fragment"
    }
   },
   "source": [
    "Finally, the function itself is invoked using the `call` method."
   ]
  },
  {
   "cell_type": "code",
   "execution_count": 37,
   "metadata": {
    "execution": {
     "iopub.execute_input": "2022-02-21T08:25:31.803173Z",
     "iopub.status.busy": "2022-02-21T08:25:31.802430Z",
     "iopub.status.idle": "2022-02-21T08:25:31.804176Z",
     "shell.execute_reply": "2022-02-21T08:25:31.804777Z"
    },
    "slideshow": {
     "slide_type": "subslide"
    }
   },
   "outputs": [],
   "source": [
    "class ConcolicTracer(ConcolicTracer):\n",
    "    def __call__(self, *args):\n",
    "        self.result = self.fn(*self.concolic(args))\n",
    "        return self.result"
   ]
  },
  {
   "cell_type": "markdown",
   "metadata": {
    "slideshow": {
     "slide_type": "fragment"
    }
   },
   "source": [
    "For now, we define `concolic()` as a transparent function. It will be modified to produce symbolic variables later."
   ]
  },
  {
   "cell_type": "code",
   "execution_count": 38,
   "metadata": {
    "execution": {
     "iopub.execute_input": "2022-02-21T08:25:31.810212Z",
     "iopub.status.busy": "2022-02-21T08:25:31.809405Z",
     "iopub.status.idle": "2022-02-21T08:25:31.811583Z",
     "shell.execute_reply": "2022-02-21T08:25:31.812445Z"
    },
    "slideshow": {
     "slide_type": "fragment"
    }
   },
   "outputs": [],
   "source": [
    "class ConcolicTracer(ConcolicTracer):\n",
    "    def concolic(self, args):\n",
    "        return args"
   ]
  },
  {
   "cell_type": "markdown",
   "metadata": {
    "slideshow": {
     "slide_type": "fragment"
    }
   },
   "source": [
    "We now have things in place for _tracing_ functions:"
   ]
  },
  {
   "cell_type": "code",
   "execution_count": 39,
   "metadata": {
    "execution": {
     "iopub.execute_input": "2022-02-21T08:25:31.818694Z",
     "iopub.status.busy": "2022-02-21T08:25:31.817564Z",
     "iopub.status.idle": "2022-02-21T08:25:31.820310Z",
     "shell.execute_reply": "2022-02-21T08:25:31.820987Z"
    },
    "slideshow": {
     "slide_type": "fragment"
    }
   },
   "outputs": [],
   "source": [
    "with ConcolicTracer() as _:\n",
    "    _[factorial](1)"
   ]
  },
  {
   "cell_type": "markdown",
   "metadata": {
    "slideshow": {
     "slide_type": "fragment"
    }
   },
   "source": [
    "And for retrieving results (but not actually _computing_ them):"
   ]
  },
  {
   "cell_type": "code",
   "execution_count": 40,
   "metadata": {
    "execution": {
     "iopub.execute_input": "2022-02-21T08:25:31.826938Z",
     "iopub.status.busy": "2022-02-21T08:25:31.826202Z",
     "iopub.status.idle": "2022-02-21T08:25:31.829556Z",
     "shell.execute_reply": "2022-02-21T08:25:31.829968Z"
    },
    "slideshow": {
     "slide_type": "fragment"
    }
   },
   "outputs": [
    {
     "data": {
      "text/plain": [
       "{}"
      ]
     },
     "execution_count": 40,
     "metadata": {},
     "output_type": "execute_result"
    }
   ],
   "source": [
    "_.decls"
   ]
  },
  {
   "cell_type": "code",
   "execution_count": 41,
   "metadata": {
    "execution": {
     "iopub.execute_input": "2022-02-21T08:25:31.835476Z",
     "iopub.status.busy": "2022-02-21T08:25:31.834704Z",
     "iopub.status.idle": "2022-02-21T08:25:31.837644Z",
     "shell.execute_reply": "2022-02-21T08:25:31.838069Z"
    },
    "slideshow": {
     "slide_type": "subslide"
    }
   },
   "outputs": [
    {
     "data": {
      "text/plain": [
       "[]"
      ]
     },
     "execution_count": 41,
     "metadata": {},
     "output_type": "execute_result"
    }
   ],
   "source": [
    "_.path"
   ]
  },
  {
   "cell_type": "markdown",
   "metadata": {
    "slideshow": {
     "slide_type": "fragment"
    }
   },
   "source": [
    "Both `decls` and `path` attributes will be set by concolic proxy objects, which we define next."
   ]
  },
  {
   "cell_type": "markdown",
   "metadata": {
    "slideshow": {
     "slide_type": "subslide"
    },
    "tags": [],
    "toc-hr-collapsed": true
   },
   "source": [
    "#### Concolic Proxy Objects\n",
    "\n",
    "We now define the concolic proxy objects that can be used for concolic tracing. First, we define the `zproxy_create()` method that given a class name, correctly creates an instance of that class, and the symbolic corresponding variable, and registers the symbolic variable in the context information `context`."
   ]
  },
  {
   "cell_type": "code",
   "execution_count": 42,
   "metadata": {
    "execution": {
     "iopub.execute_input": "2022-02-21T08:25:31.843132Z",
     "iopub.status.busy": "2022-02-21T08:25:31.842523Z",
     "iopub.status.idle": "2022-02-21T08:25:31.844384Z",
     "shell.execute_reply": "2022-02-21T08:25:31.844829Z"
    },
    "slideshow": {
     "slide_type": "fragment"
    }
   },
   "outputs": [],
   "source": [
    "def zproxy_create(cls, z_type, z3var, context, z_name, v=None):\n",
    "    z_value = cls(context, z3var(z_name), v)\n",
    "    context[0][z_name] = z_type  # add to decls\n",
    "    return z_value"
   ]
  },
  {
   "cell_type": "markdown",
   "metadata": {
    "slideshow": {
     "slide_type": "subslide"
    },
    "toc-hr-collapsed": false
   },
   "source": [
    "#### A Proxy Class for Booleans\n",
    "\n",
    "First, we define the `zbool` class which is used to track the predicates encountered. It is a wrapper class that contains both symbolic (`z`) as well as concrete (`v`) values. The concrete value is used to determine which path to take, and the symbolic value is used to collect the predicates encountered.\n",
    "\n",
    "The initialization is done in two parts. The first one is using `zproxy_create()` to correctly initialize and register the shadow symbolic variable corresponding to the passed argument. This is used exclusively when the symbolic variable needs to be initialized first. In all other cases, the constructor is called with the preexisting symbolic value."
   ]
  },
  {
   "cell_type": "code",
   "execution_count": 43,
   "metadata": {
    "execution": {
     "iopub.execute_input": "2022-02-21T08:25:31.850854Z",
     "iopub.status.busy": "2022-02-21T08:25:31.850086Z",
     "iopub.status.idle": "2022-02-21T08:25:31.852289Z",
     "shell.execute_reply": "2022-02-21T08:25:31.852899Z"
    },
    "slideshow": {
     "slide_type": "subslide"
    }
   },
   "outputs": [],
   "source": [
    "class zbool:\n",
    "    @classmethod\n",
    "    def create(cls, context, z_name, v):\n",
    "        return zproxy_create(cls, 'Bool', z3.Bool, context, z_name, v)\n",
    "\n",
    "    def __init__(self, context, z, v=None):\n",
    "        self.context = context\n",
    "        self.z = z\n",
    "        self.v = v\n",
    "        self.decl, self.path = self.context"
   ]
  },
  {
   "cell_type": "markdown",
   "metadata": {
    "slideshow": {
     "slide_type": "fragment"
    }
   },
   "source": [
    "Here is how it is used. We create a symbolic variable `my_bool_arg` with a value of `True` in the current context of the concolic tracer:"
   ]
  },
  {
   "cell_type": "code",
   "execution_count": 44,
   "metadata": {
    "execution": {
     "iopub.execute_input": "2022-02-21T08:25:31.856744Z",
     "iopub.status.busy": "2022-02-21T08:25:31.856095Z",
     "iopub.status.idle": "2022-02-21T08:25:31.858203Z",
     "shell.execute_reply": "2022-02-21T08:25:31.858612Z"
    },
    "slideshow": {
     "slide_type": "fragment"
    }
   },
   "outputs": [],
   "source": [
    "with ConcolicTracer() as _:\n",
    "    val = zbool.create(_.context, 'my_bool_arg', True)"
   ]
  },
  {
   "cell_type": "markdown",
   "metadata": {
    "slideshow": {
     "slide_type": "fragment"
    }
   },
   "source": [
    "We can now access the symbolic name in the `z` attribute:"
   ]
  },
  {
   "cell_type": "code",
   "execution_count": 45,
   "metadata": {
    "execution": {
     "iopub.execute_input": "2022-02-21T08:25:31.863770Z",
     "iopub.status.busy": "2022-02-21T08:25:31.862837Z",
     "iopub.status.idle": "2022-02-21T08:25:31.867449Z",
     "shell.execute_reply": "2022-02-21T08:25:31.868318Z"
    },
    "slideshow": {
     "slide_type": "subslide"
    }
   },
   "outputs": [
    {
     "data": {
      "text/html": [
       "my_bool_arg"
      ],
      "text/plain": [
       "my_bool_arg"
      ]
     },
     "execution_count": 45,
     "metadata": {},
     "output_type": "execute_result"
    }
   ],
   "source": [
    "val.z"
   ]
  },
  {
   "cell_type": "markdown",
   "metadata": {
    "slideshow": {
     "slide_type": "fragment"
    }
   },
   "source": [
    "The value is in the `v` attribute:"
   ]
  },
  {
   "cell_type": "code",
   "execution_count": 46,
   "metadata": {
    "execution": {
     "iopub.execute_input": "2022-02-21T08:25:31.872885Z",
     "iopub.status.busy": "2022-02-21T08:25:31.872164Z",
     "iopub.status.idle": "2022-02-21T08:25:31.875619Z",
     "shell.execute_reply": "2022-02-21T08:25:31.876041Z"
    },
    "slideshow": {
     "slide_type": "fragment"
    }
   },
   "outputs": [
    {
     "data": {
      "text/plain": [
       "True"
      ]
     },
     "execution_count": 46,
     "metadata": {},
     "output_type": "execute_result"
    }
   ],
   "source": [
    "val.v"
   ]
  },
  {
   "cell_type": "markdown",
   "metadata": {
    "slideshow": {
     "slide_type": "fragment"
    }
   },
   "source": [
    "Note that the context of the enclosing `ConcolicTracer()` is automatically updated (via `zproxy_create()`) to hold the variable declarations and types:"
   ]
  },
  {
   "cell_type": "code",
   "execution_count": 47,
   "metadata": {
    "execution": {
     "iopub.execute_input": "2022-02-21T08:25:31.881229Z",
     "iopub.status.busy": "2022-02-21T08:25:31.880254Z",
     "iopub.status.idle": "2022-02-21T08:25:31.883606Z",
     "shell.execute_reply": "2022-02-21T08:25:31.884145Z"
    },
    "slideshow": {
     "slide_type": "fragment"
    }
   },
   "outputs": [
    {
     "data": {
      "text/plain": [
       "({'my_bool_arg': 'Bool'}, [])"
      ]
     },
     "execution_count": 47,
     "metadata": {},
     "output_type": "execute_result"
    }
   ],
   "source": [
    "_.context"
   ]
  },
  {
   "cell_type": "markdown",
   "metadata": {
    "slideshow": {
     "slide_type": "fragment"
    }
   },
   "source": [
    "The context can also be reached through the `context` attribute; both point to the same data structure."
   ]
  },
  {
   "cell_type": "code",
   "execution_count": 48,
   "metadata": {
    "execution": {
     "iopub.execute_input": "2022-02-21T08:25:31.888789Z",
     "iopub.status.busy": "2022-02-21T08:25:31.888120Z",
     "iopub.status.idle": "2022-02-21T08:25:31.890875Z",
     "shell.execute_reply": "2022-02-21T08:25:31.891319Z"
    },
    "slideshow": {
     "slide_type": "fragment"
    }
   },
   "outputs": [
    {
     "data": {
      "text/plain": [
       "({'my_bool_arg': 'Bool'}, [])"
      ]
     },
     "execution_count": 48,
     "metadata": {},
     "output_type": "execute_result"
    }
   ],
   "source": [
    "val.context"
   ]
  },
  {
   "cell_type": "markdown",
   "metadata": {
    "slideshow": {
     "slide_type": "subslide"
    }
   },
   "source": [
    "##### Negation of Encoded formula\n",
    "\n",
    "The `zbool` class allows negation of its concrete and symbolic values."
   ]
  },
  {
   "cell_type": "code",
   "execution_count": 49,
   "metadata": {
    "execution": {
     "iopub.execute_input": "2022-02-21T08:25:31.895919Z",
     "iopub.status.busy": "2022-02-21T08:25:31.895306Z",
     "iopub.status.idle": "2022-02-21T08:25:31.896969Z",
     "shell.execute_reply": "2022-02-21T08:25:31.897560Z"
    },
    "slideshow": {
     "slide_type": "fragment"
    }
   },
   "outputs": [],
   "source": [
    "class zbool(zbool):\n",
    "    def __not__(self):\n",
    "        return zbool(self.context, z3.Not(self.z), not self.v)"
   ]
  },
  {
   "cell_type": "markdown",
   "metadata": {
    "slideshow": {
     "slide_type": "fragment"
    }
   },
   "source": [
    "Here is how it can be used."
   ]
  },
  {
   "cell_type": "code",
   "execution_count": 50,
   "metadata": {
    "execution": {
     "iopub.execute_input": "2022-02-21T08:25:31.902165Z",
     "iopub.status.busy": "2022-02-21T08:25:31.901301Z",
     "iopub.status.idle": "2022-02-21T08:25:31.903493Z",
     "shell.execute_reply": "2022-02-21T08:25:31.903899Z"
    },
    "slideshow": {
     "slide_type": "fragment"
    }
   },
   "outputs": [],
   "source": [
    "with ConcolicTracer() as _:\n",
    "    val = zbool.create(_.context, 'my_bool_arg', True).__not__()"
   ]
  },
  {
   "cell_type": "code",
   "execution_count": 51,
   "metadata": {
    "execution": {
     "iopub.execute_input": "2022-02-21T08:25:31.908862Z",
     "iopub.status.busy": "2022-02-21T08:25:31.907961Z",
     "iopub.status.idle": "2022-02-21T08:25:31.911747Z",
     "shell.execute_reply": "2022-02-21T08:25:31.912508Z"
    },
    "slideshow": {
     "slide_type": "fragment"
    }
   },
   "outputs": [
    {
     "data": {
      "text/html": [
       "&not;my_bool_arg"
      ],
      "text/plain": [
       "Not(my_bool_arg)"
      ]
     },
     "execution_count": 51,
     "metadata": {},
     "output_type": "execute_result"
    }
   ],
   "source": [
    "val.z"
   ]
  },
  {
   "cell_type": "code",
   "execution_count": 52,
   "metadata": {
    "execution": {
     "iopub.execute_input": "2022-02-21T08:25:31.917819Z",
     "iopub.status.busy": "2022-02-21T08:25:31.916934Z",
     "iopub.status.idle": "2022-02-21T08:25:31.920331Z",
     "shell.execute_reply": "2022-02-21T08:25:31.920886Z"
    },
    "slideshow": {
     "slide_type": "fragment"
    }
   },
   "outputs": [
    {
     "data": {
      "text/plain": [
       "False"
      ]
     },
     "execution_count": 52,
     "metadata": {},
     "output_type": "execute_result"
    }
   ],
   "source": [
    "val.v"
   ]
  },
  {
   "cell_type": "code",
   "execution_count": 53,
   "metadata": {
    "execution": {
     "iopub.execute_input": "2022-02-21T08:25:31.926404Z",
     "iopub.status.busy": "2022-02-21T08:25:31.925619Z",
     "iopub.status.idle": "2022-02-21T08:25:31.929396Z",
     "shell.execute_reply": "2022-02-21T08:25:31.929840Z"
    },
    "slideshow": {
     "slide_type": "subslide"
    }
   },
   "outputs": [
    {
     "data": {
      "text/plain": [
       "({'my_bool_arg': 'Bool'}, [])"
      ]
     },
     "execution_count": 53,
     "metadata": {},
     "output_type": "execute_result"
    }
   ],
   "source": [
    "_.context"
   ]
  },
  {
   "cell_type": "markdown",
   "metadata": {
    "slideshow": {
     "slide_type": "subslide"
    }
   },
   "source": [
    "##### Registering Predicates on Conditionals\n",
    "\n",
    "The `zbool` class is being used to track Boolean conditions that arise during program execution. It tracks such conditions by registering the corresponding symbolic expressions in the context as soon as it is evaluated. On evaluation, the `__bool__()` method is called; so we can hook into this one:"
   ]
  },
  {
   "cell_type": "code",
   "execution_count": 54,
   "metadata": {
    "execution": {
     "iopub.execute_input": "2022-02-21T08:25:31.935954Z",
     "iopub.status.busy": "2022-02-21T08:25:31.935298Z",
     "iopub.status.idle": "2022-02-21T08:25:31.937326Z",
     "shell.execute_reply": "2022-02-21T08:25:31.937733Z"
    },
    "slideshow": {
     "slide_type": "fragment"
    }
   },
   "outputs": [],
   "source": [
    "class zbool(zbool):\n",
    "    def __bool__(self):\n",
    "        r, pred = (True, self.z) if self.v else (False, z3.Not(self.z))\n",
    "        self.path.append(pred)\n",
    "        return r"
   ]
  },
  {
   "cell_type": "markdown",
   "metadata": {
    "slideshow": {
     "slide_type": "fragment"
    }
   },
   "source": [
    "The `zbool` class can be used to keep track of Boolean values and conditions encountered during the execution. For example, we can encode the conditions encountered by Line 6 in `factorial()` as follows:"
   ]
  },
  {
   "cell_type": "markdown",
   "metadata": {
    "slideshow": {
     "slide_type": "subslide"
    }
   },
   "source": [
    "First, we define the concrete value (`ca`), and its shadow symbolic variable (`za`)."
   ]
  },
  {
   "cell_type": "code",
   "execution_count": 55,
   "metadata": {
    "execution": {
     "iopub.execute_input": "2022-02-21T08:25:31.942078Z",
     "iopub.status.busy": "2022-02-21T08:25:31.941480Z",
     "iopub.status.idle": "2022-02-21T08:25:31.943366Z",
     "shell.execute_reply": "2022-02-21T08:25:31.943777Z"
    },
    "slideshow": {
     "slide_type": "fragment"
    }
   },
   "outputs": [],
   "source": [
    "ca = 5\n",
    "za = z3.Int('a')"
   ]
  },
  {
   "cell_type": "markdown",
   "metadata": {
    "slideshow": {
     "slide_type": "fragment"
    }
   },
   "source": [
    "Then, we wrap it in `zbool`, and use it in a conditional, forcing the conditional to be registered in the context."
   ]
  },
  {
   "cell_type": "code",
   "execution_count": 56,
   "metadata": {
    "execution": {
     "iopub.execute_input": "2022-02-21T08:25:31.948642Z",
     "iopub.status.busy": "2022-02-21T08:25:31.947937Z",
     "iopub.status.idle": "2022-02-21T08:25:31.950428Z",
     "shell.execute_reply": "2022-02-21T08:25:31.950934Z"
    },
    "slideshow": {
     "slide_type": "fragment"
    }
   },
   "outputs": [
    {
     "name": "stdout",
     "output_type": "stream",
     "text": [
      "success\n"
     ]
    }
   ],
   "source": [
    "with ConcolicTracer() as _:\n",
    "    if zbool(_.context, za == z3.IntVal(5), ca == 5):\n",
    "        print('success')"
   ]
  },
  {
   "cell_type": "markdown",
   "metadata": {
    "slideshow": {
     "slide_type": "fragment"
    }
   },
   "source": [
    "We can retrieve the registered conditional as follows."
   ]
  },
  {
   "cell_type": "code",
   "execution_count": 57,
   "metadata": {
    "execution": {
     "iopub.execute_input": "2022-02-21T08:25:31.955632Z",
     "iopub.status.busy": "2022-02-21T08:25:31.955055Z",
     "iopub.status.idle": "2022-02-21T08:25:31.958805Z",
     "shell.execute_reply": "2022-02-21T08:25:31.959213Z"
    },
    "slideshow": {
     "slide_type": "fragment"
    }
   },
   "outputs": [
    {
     "data": {
      "text/plain": [
       "[5 == a]"
      ]
     },
     "execution_count": 57,
     "metadata": {},
     "output_type": "execute_result"
    }
   ],
   "source": [
    "_.path"
   ]
  },
  {
   "cell_type": "markdown",
   "metadata": {
    "slideshow": {
     "slide_type": "subslide"
    },
    "toc-hr-collapsed": false
   },
   "source": [
    "#### A Proxy Class for Integers"
   ]
  },
  {
   "cell_type": "markdown",
   "metadata": {
    "slideshow": {
     "slide_type": "fragment"
    }
   },
   "source": [
    "Next, we define a symbolic wrapper `zint` for `int`.\n",
    "This class keeps track of the `int` variables used and the predicates encountered in `context`. Finally, it also keeps the concrete value so that it can be used to determine the path to take. As the `zint` extends the primitive `int` class, we have to define a _new_ method to open it for extension."
   ]
  },
  {
   "cell_type": "code",
   "execution_count": 58,
   "metadata": {
    "execution": {
     "iopub.execute_input": "2022-02-21T08:25:31.964320Z",
     "iopub.status.busy": "2022-02-21T08:25:31.963656Z",
     "iopub.status.idle": "2022-02-21T08:25:31.965737Z",
     "shell.execute_reply": "2022-02-21T08:25:31.966153Z"
    },
    "slideshow": {
     "slide_type": "fragment"
    }
   },
   "outputs": [],
   "source": [
    "class zint(int):\n",
    "    def __new__(cls, context, zn, v, *args, **kw):\n",
    "        return int.__new__(cls, v, *args, **kw)"
   ]
  },
  {
   "cell_type": "markdown",
   "metadata": {
    "slideshow": {
     "slide_type": "fragment"
    }
   },
   "source": [
    "As in the case of `zbool`, the initialization takes place in two parts. The first using `create()` if a new symbolic argument is being registered, and then the usual initialization."
   ]
  },
  {
   "cell_type": "code",
   "execution_count": 59,
   "metadata": {
    "execution": {
     "iopub.execute_input": "2022-02-21T08:25:31.971175Z",
     "iopub.status.busy": "2022-02-21T08:25:31.970537Z",
     "iopub.status.idle": "2022-02-21T08:25:31.972477Z",
     "shell.execute_reply": "2022-02-21T08:25:31.972929Z"
    },
    "slideshow": {
     "slide_type": "subslide"
    }
   },
   "outputs": [],
   "source": [
    "class zint(zint):\n",
    "    @classmethod\n",
    "    def create(cls, context, zn, v=None):\n",
    "        return zproxy_create(cls, 'Int', z3.Int, context, zn, v)\n",
    "\n",
    "    def __init__(self, context, z, v=None):\n",
    "        self.z, self.v = z, v\n",
    "        self.context = context"
   ]
  },
  {
   "cell_type": "markdown",
   "metadata": {
    "slideshow": {
     "slide_type": "fragment"
    }
   },
   "source": [
    "The `int` value of a `zint` object is its concrete value."
   ]
  },
  {
   "cell_type": "code",
   "execution_count": 60,
   "metadata": {
    "execution": {
     "iopub.execute_input": "2022-02-21T08:25:31.978680Z",
     "iopub.status.busy": "2022-02-21T08:25:31.977748Z",
     "iopub.status.idle": "2022-02-21T08:25:31.980520Z",
     "shell.execute_reply": "2022-02-21T08:25:31.981126Z"
    },
    "slideshow": {
     "slide_type": "fragment"
    }
   },
   "outputs": [],
   "source": [
    "class zint(zint):\n",
    "    def __int__(self):\n",
    "        return self.v\n",
    "\n",
    "    def __pos__(self):\n",
    "        return self.v"
   ]
  },
  {
   "cell_type": "markdown",
   "metadata": {
    "slideshow": {
     "slide_type": "subslide"
    }
   },
   "source": [
    "Using these proxies is as follows."
   ]
  },
  {
   "cell_type": "code",
   "execution_count": 61,
   "metadata": {
    "execution": {
     "iopub.execute_input": "2022-02-21T08:25:31.985766Z",
     "iopub.status.busy": "2022-02-21T08:25:31.985043Z",
     "iopub.status.idle": "2022-02-21T08:25:31.986941Z",
     "shell.execute_reply": "2022-02-21T08:25:31.987464Z"
    },
    "slideshow": {
     "slide_type": "fragment"
    }
   },
   "outputs": [],
   "source": [
    "with ConcolicTracer() as _:\n",
    "    val = zint.create(_.context, 'int_arg', 0)"
   ]
  },
  {
   "cell_type": "code",
   "execution_count": 62,
   "metadata": {
    "execution": {
     "iopub.execute_input": "2022-02-21T08:25:31.991229Z",
     "iopub.status.busy": "2022-02-21T08:25:31.990645Z",
     "iopub.status.idle": "2022-02-21T08:25:31.994154Z",
     "shell.execute_reply": "2022-02-21T08:25:31.994850Z"
    },
    "slideshow": {
     "slide_type": "fragment"
    }
   },
   "outputs": [
    {
     "data": {
      "text/html": [
       "int_arg"
      ],
      "text/plain": [
       "int_arg"
      ]
     },
     "execution_count": 62,
     "metadata": {},
     "output_type": "execute_result"
    }
   ],
   "source": [
    "val.z"
   ]
  },
  {
   "cell_type": "code",
   "execution_count": 63,
   "metadata": {
    "execution": {
     "iopub.execute_input": "2022-02-21T08:25:31.999838Z",
     "iopub.status.busy": "2022-02-21T08:25:31.998914Z",
     "iopub.status.idle": "2022-02-21T08:25:32.002346Z",
     "shell.execute_reply": "2022-02-21T08:25:32.002915Z"
    },
    "slideshow": {
     "slide_type": "fragment"
    }
   },
   "outputs": [
    {
     "data": {
      "text/plain": [
       "0"
      ]
     },
     "execution_count": 63,
     "metadata": {},
     "output_type": "execute_result"
    }
   ],
   "source": [
    "val.v"
   ]
  },
  {
   "cell_type": "code",
   "execution_count": 64,
   "metadata": {
    "execution": {
     "iopub.execute_input": "2022-02-21T08:25:32.007258Z",
     "iopub.status.busy": "2022-02-21T08:25:32.006527Z",
     "iopub.status.idle": "2022-02-21T08:25:32.009733Z",
     "shell.execute_reply": "2022-02-21T08:25:32.010158Z"
    },
    "slideshow": {
     "slide_type": "fragment"
    }
   },
   "outputs": [
    {
     "data": {
      "text/plain": [
       "({'int_arg': 'Int'}, [])"
      ]
     },
     "execution_count": 64,
     "metadata": {},
     "output_type": "execute_result"
    }
   ],
   "source": [
    "_.context"
   ]
  },
  {
   "cell_type": "markdown",
   "metadata": {
    "slideshow": {
     "slide_type": "fragment"
    }
   },
   "source": [
    "The `zint` class is often used to do arithmetic with, or compare to other `int`s. These `int`s can be either a variable or a constant value. We define a helper method `_zv()` that checks what kind of `int` a given value is, and produces the correct symbolic equivalent."
   ]
  },
  {
   "cell_type": "code",
   "execution_count": 65,
   "metadata": {
    "execution": {
     "iopub.execute_input": "2022-02-21T08:25:32.015915Z",
     "iopub.status.busy": "2022-02-21T08:25:32.015112Z",
     "iopub.status.idle": "2022-02-21T08:25:32.016970Z",
     "shell.execute_reply": "2022-02-21T08:25:32.017672Z"
    },
    "slideshow": {
     "slide_type": "subslide"
    }
   },
   "outputs": [],
   "source": [
    "class zint(zint):\n",
    "    def _zv(self, o):\n",
    "        return (o.z, o.v) if isinstance(o, zint) else (z3.IntVal(o), o)"
   ]
  },
  {
   "cell_type": "markdown",
   "metadata": {
    "slideshow": {
     "slide_type": "fragment"
    }
   },
   "source": [
    "It can be used as follows"
   ]
  },
  {
   "cell_type": "code",
   "execution_count": 66,
   "metadata": {
    "execution": {
     "iopub.execute_input": "2022-02-21T08:25:32.021826Z",
     "iopub.status.busy": "2022-02-21T08:25:32.021212Z",
     "iopub.status.idle": "2022-02-21T08:25:32.023169Z",
     "shell.execute_reply": "2022-02-21T08:25:32.023637Z"
    },
    "slideshow": {
     "slide_type": "fragment"
    }
   },
   "outputs": [],
   "source": [
    "with ConcolicTracer() as _:\n",
    "    val = zint.create(_.context, 'int_arg', 0)"
   ]
  },
  {
   "cell_type": "code",
   "execution_count": 67,
   "metadata": {
    "execution": {
     "iopub.execute_input": "2022-02-21T08:25:32.028368Z",
     "iopub.status.busy": "2022-02-21T08:25:32.027164Z",
     "iopub.status.idle": "2022-02-21T08:25:32.031674Z",
     "shell.execute_reply": "2022-02-21T08:25:32.032176Z"
    },
    "slideshow": {
     "slide_type": "fragment"
    }
   },
   "outputs": [
    {
     "data": {
      "text/plain": [
       "(0, 0)"
      ]
     },
     "execution_count": 67,
     "metadata": {},
     "output_type": "execute_result"
    }
   ],
   "source": [
    "val._zv(0)"
   ]
  },
  {
   "cell_type": "code",
   "execution_count": 68,
   "metadata": {
    "execution": {
     "iopub.execute_input": "2022-02-21T08:25:32.037323Z",
     "iopub.status.busy": "2022-02-21T08:25:32.036590Z",
     "iopub.status.idle": "2022-02-21T08:25:32.039539Z",
     "shell.execute_reply": "2022-02-21T08:25:32.039963Z"
    },
    "slideshow": {
     "slide_type": "fragment"
    }
   },
   "outputs": [
    {
     "data": {
      "text/plain": [
       "(int_arg, 0)"
      ]
     },
     "execution_count": 68,
     "metadata": {},
     "output_type": "execute_result"
    }
   ],
   "source": [
    "val._zv(val)"
   ]
  },
  {
   "cell_type": "markdown",
   "metadata": {
    "slideshow": {
     "slide_type": "subslide"
    }
   },
   "source": [
    "##### Equality between Integers\n",
    "\n",
    "Two integers can be compared for equality using _ne_ and _eq_."
   ]
  },
  {
   "cell_type": "code",
   "execution_count": 69,
   "metadata": {
    "execution": {
     "iopub.execute_input": "2022-02-21T08:25:32.045363Z",
     "iopub.status.busy": "2022-02-21T08:25:32.044576Z",
     "iopub.status.idle": "2022-02-21T08:25:32.046679Z",
     "shell.execute_reply": "2022-02-21T08:25:32.047125Z"
    },
    "slideshow": {
     "slide_type": "fragment"
    }
   },
   "outputs": [],
   "source": [
    "class zint(zint):\n",
    "    def __ne__(self, other):\n",
    "        z, v = self._zv(other)\n",
    "        return zbool(self.context, self.z != z, self.v != v)\n",
    "\n",
    "    def __eq__(self, other):\n",
    "        z, v = self._zv(other)\n",
    "        return zbool(self.context, self.z == z, self.v == v)"
   ]
  },
  {
   "cell_type": "markdown",
   "metadata": {
    "slideshow": {
     "slide_type": "fragment"
    }
   },
   "source": [
    " We also define _req_ using _eq_ in case the int being compared is on the left hand side."
   ]
  },
  {
   "cell_type": "code",
   "execution_count": 70,
   "metadata": {
    "execution": {
     "iopub.execute_input": "2022-02-21T08:25:32.051517Z",
     "iopub.status.busy": "2022-02-21T08:25:32.050837Z",
     "iopub.status.idle": "2022-02-21T08:25:32.052864Z",
     "shell.execute_reply": "2022-02-21T08:25:32.053272Z"
    },
    "slideshow": {
     "slide_type": "subslide"
    }
   },
   "outputs": [],
   "source": [
    "class zint(zint):\n",
    "    def __req__(self, other):\n",
    "        return self.__eq__(other)"
   ]
  },
  {
   "cell_type": "markdown",
   "metadata": {
    "slideshow": {
     "slide_type": "fragment"
    }
   },
   "source": [
    "It can be used as follows."
   ]
  },
  {
   "cell_type": "code",
   "execution_count": 71,
   "metadata": {
    "execution": {
     "iopub.execute_input": "2022-02-21T08:25:32.058140Z",
     "iopub.status.busy": "2022-02-21T08:25:32.057473Z",
     "iopub.status.idle": "2022-02-21T08:25:32.063728Z",
     "shell.execute_reply": "2022-02-21T08:25:32.064182Z"
    },
    "slideshow": {
     "slide_type": "fragment"
    }
   },
   "outputs": [
    {
     "name": "stdout",
     "output_type": "stream",
     "text": [
      "int_a == int_b int_a != int_b 0 != int_b\n"
     ]
    }
   ],
   "source": [
    "with ConcolicTracer() as _:\n",
    "    ia = zint.create(_.context, 'int_a', 0)\n",
    "    ib = zint.create(_.context, 'int_b', 0)\n",
    "    v1 = ia == ib\n",
    "    v2 = ia != ib\n",
    "    v3 = 0 != ib\n",
    "    print(v1.z, v2.z, v3.z)"
   ]
  },
  {
   "cell_type": "markdown",
   "metadata": {
    "slideshow": {
     "slide_type": "subslide"
    }
   },
   "source": [
    "##### Comparisons between Integers\n",
    "\n",
    "Integers can also be compared for ordering, and the methods for this are defined below."
   ]
  },
  {
   "cell_type": "code",
   "execution_count": 72,
   "metadata": {
    "execution": {
     "iopub.execute_input": "2022-02-21T08:25:32.069818Z",
     "iopub.status.busy": "2022-02-21T08:25:32.069243Z",
     "iopub.status.idle": "2022-02-21T08:25:32.071025Z",
     "shell.execute_reply": "2022-02-21T08:25:32.071587Z"
    },
    "slideshow": {
     "slide_type": "fragment"
    }
   },
   "outputs": [],
   "source": [
    "class zint(zint):\n",
    "    def __lt__(self, other):\n",
    "        z, v = self._zv(other)\n",
    "        return zbool(self.context, self.z < z, self.v < v)\n",
    "\n",
    "    def __gt__(self, other):\n",
    "        z, v = self._zv(other)\n",
    "        return zbool(self.context, self.z > z, self.v > v)"
   ]
  },
  {
   "cell_type": "markdown",
   "metadata": {
    "slideshow": {
     "slide_type": "fragment"
    }
   },
   "source": [
    "We use the comparisons and equality operators to provide the other missing operators."
   ]
  },
  {
   "cell_type": "code",
   "execution_count": 73,
   "metadata": {
    "execution": {
     "iopub.execute_input": "2022-02-21T08:25:32.077901Z",
     "iopub.status.busy": "2022-02-21T08:25:32.077194Z",
     "iopub.status.idle": "2022-02-21T08:25:32.079750Z",
     "shell.execute_reply": "2022-02-21T08:25:32.080647Z"
    },
    "slideshow": {
     "slide_type": "subslide"
    }
   },
   "outputs": [],
   "source": [
    "class zint(zint):\n",
    "    def __le__(self, other):\n",
    "        z, v = self._zv(other)\n",
    "        return zbool(self.context, z3.Or(self.z < z, self.z == z),\n",
    "                     self.v < v or self.v == v)\n",
    "\n",
    "    def __ge__(self, other):\n",
    "        z, v = self._zv(other)\n",
    "        return zbool(self.context, z3.Or(self.z > z, self.z == z),\n",
    "                     self.v > v or self.v == v)"
   ]
  },
  {
   "cell_type": "markdown",
   "metadata": {
    "slideshow": {
     "slide_type": "fragment"
    }
   },
   "source": [
    "These functions can be used as follows."
   ]
  },
  {
   "cell_type": "code",
   "execution_count": 74,
   "metadata": {
    "execution": {
     "iopub.execute_input": "2022-02-21T08:25:32.087130Z",
     "iopub.status.busy": "2022-02-21T08:25:32.086040Z",
     "iopub.status.idle": "2022-02-21T08:25:32.094466Z",
     "shell.execute_reply": "2022-02-21T08:25:32.095014Z"
    },
    "slideshow": {
     "slide_type": "subslide"
    }
   },
   "outputs": [
    {
     "name": "stdout",
     "output_type": "stream",
     "text": [
      "int_a > int_b int_a < int_b\n",
      "Or(int_a > int_b, int_a == int_b) Or(int_a < int_b, int_a == int_b)\n"
     ]
    }
   ],
   "source": [
    "with ConcolicTracer() as _:\n",
    "    ia = zint.create(_.context, 'int_a', 0)\n",
    "    ib = zint.create(_.context, 'int_b', 1)\n",
    "    v1 = ia > ib\n",
    "    v2 = ia < ib\n",
    "    print(v1.z, v2.z)\n",
    "    v3 = ia >= ib\n",
    "    v4 = ia <= ib\n",
    "    print(v3.z, v4.z)"
   ]
  },
  {
   "cell_type": "markdown",
   "metadata": {
    "slideshow": {
     "slide_type": "subslide"
    }
   },
   "source": [
    "##### Binary Operators for Integers\n",
    "\n",
    "We implement relevant arithmetic operators for integers as described in the [Python documentation](https://docs.python.org/3/reference/datamodel.html#object.__add__). (The commented out operators are not directly available for `z3.ArithRef`. They need to be implemented separately if needed. See the exercises for how it can be done.)"
   ]
  },
  {
   "cell_type": "code",
   "execution_count": 75,
   "metadata": {
    "execution": {
     "iopub.execute_input": "2022-02-21T08:25:32.100281Z",
     "iopub.status.busy": "2022-02-21T08:25:32.099407Z",
     "iopub.status.idle": "2022-02-21T08:25:32.101335Z",
     "shell.execute_reply": "2022-02-21T08:25:32.101808Z"
    },
    "slideshow": {
     "slide_type": "subslide"
    }
   },
   "outputs": [],
   "source": [
    "INT_BINARY_OPS = [\n",
    "    '__add__',\n",
    "    '__sub__',\n",
    "    '__mul__',\n",
    "    '__truediv__',\n",
    "    # '__div__',\n",
    "    '__mod__',\n",
    "    # '__divmod__',\n",
    "    '__pow__',\n",
    "    # '__lshift__',\n",
    "    # '__rshift__',\n",
    "    # '__and__',\n",
    "    # '__xor__',\n",
    "    # '__or__',\n",
    "    '__radd__',\n",
    "    '__rsub__',\n",
    "    '__rmul__',\n",
    "    '__rtruediv__',\n",
    "    # '__rdiv__',\n",
    "    '__rmod__',\n",
    "    # '__rdivmod__',\n",
    "    '__rpow__',\n",
    "    # '__rlshift__',\n",
    "    # '__rrshift__',\n",
    "    # '__rand__',\n",
    "    # '__rxor__',\n",
    "    # '__ror__',\n",
    "]"
   ]
  },
  {
   "cell_type": "code",
   "execution_count": 76,
   "metadata": {
    "execution": {
     "iopub.execute_input": "2022-02-21T08:25:32.107103Z",
     "iopub.status.busy": "2022-02-21T08:25:32.106332Z",
     "iopub.status.idle": "2022-02-21T08:25:32.107923Z",
     "shell.execute_reply": "2022-02-21T08:25:32.108511Z"
    },
    "slideshow": {
     "slide_type": "subslide"
    }
   },
   "outputs": [],
   "source": [
    "def make_int_binary_wrapper(fname, fun, zfun):  # type: ignore\n",
    "    def proxy(self, other):\n",
    "        z, v = self._zv(other)\n",
    "        z_ = zfun(self.z, z)\n",
    "        v_ = fun(self.v, v)\n",
    "        if isinstance(v_, float):\n",
    "            # we do not implement float results yet.\n",
    "            assert round(v_) == v_\n",
    "            v_ = round(v_)\n",
    "        return zint(self.context, z_, v_)\n",
    "\n",
    "    return proxy"
   ]
  },
  {
   "cell_type": "code",
   "execution_count": 77,
   "metadata": {
    "execution": {
     "iopub.execute_input": "2022-02-21T08:25:32.112799Z",
     "iopub.status.busy": "2022-02-21T08:25:32.111911Z",
     "iopub.status.idle": "2022-02-21T08:25:32.113918Z",
     "shell.execute_reply": "2022-02-21T08:25:32.114453Z"
    },
    "slideshow": {
     "slide_type": "fragment"
    }
   },
   "outputs": [],
   "source": [
    "INITIALIZER_LIST: List[Callable] = []"
   ]
  },
  {
   "cell_type": "code",
   "execution_count": 78,
   "metadata": {
    "execution": {
     "iopub.execute_input": "2022-02-21T08:25:32.118073Z",
     "iopub.status.busy": "2022-02-21T08:25:32.117418Z",
     "iopub.status.idle": "2022-02-21T08:25:32.119411Z",
     "shell.execute_reply": "2022-02-21T08:25:32.119819Z"
    },
    "slideshow": {
     "slide_type": "subslide"
    }
   },
   "outputs": [],
   "source": [
    "def initialize():\n",
    "    for fn in INITIALIZER_LIST:\n",
    "        fn()"
   ]
  },
  {
   "cell_type": "code",
   "execution_count": 79,
   "metadata": {
    "execution": {
     "iopub.execute_input": "2022-02-21T08:25:32.124362Z",
     "iopub.status.busy": "2022-02-21T08:25:32.123723Z",
     "iopub.status.idle": "2022-02-21T08:25:32.125492Z",
     "shell.execute_reply": "2022-02-21T08:25:32.125900Z"
    },
    "slideshow": {
     "slide_type": "fragment"
    }
   },
   "outputs": [],
   "source": [
    "def init_concolic_1():\n",
    "    for fname in INT_BINARY_OPS:\n",
    "        fun = getattr(int, fname)\n",
    "        zfun = getattr(z3.ArithRef, fname)\n",
    "        setattr(zint, fname, make_int_binary_wrapper(fname, fun, zfun))"
   ]
  },
  {
   "cell_type": "code",
   "execution_count": 80,
   "metadata": {
    "execution": {
     "iopub.execute_input": "2022-02-21T08:25:32.130390Z",
     "iopub.status.busy": "2022-02-21T08:25:32.129672Z",
     "iopub.status.idle": "2022-02-21T08:25:32.131415Z",
     "shell.execute_reply": "2022-02-21T08:25:32.131823Z"
    },
    "slideshow": {
     "slide_type": "fragment"
    }
   },
   "outputs": [],
   "source": [
    "INITIALIZER_LIST.append(init_concolic_1)"
   ]
  },
  {
   "cell_type": "code",
   "execution_count": 81,
   "metadata": {
    "execution": {
     "iopub.execute_input": "2022-02-21T08:25:32.135718Z",
     "iopub.status.busy": "2022-02-21T08:25:32.134996Z",
     "iopub.status.idle": "2022-02-21T08:25:32.136972Z",
     "shell.execute_reply": "2022-02-21T08:25:32.137526Z"
    },
    "slideshow": {
     "slide_type": "fragment"
    }
   },
   "outputs": [],
   "source": [
    "init_concolic_1()"
   ]
  },
  {
   "cell_type": "code",
   "execution_count": 82,
   "metadata": {
    "execution": {
     "iopub.execute_input": "2022-02-21T08:25:32.143257Z",
     "iopub.status.busy": "2022-02-21T08:25:32.142569Z",
     "iopub.status.idle": "2022-02-21T08:25:32.154697Z",
     "shell.execute_reply": "2022-02-21T08:25:32.155381Z"
    },
    "slideshow": {
     "slide_type": "subslide"
    }
   },
   "outputs": [
    {
     "name": "stdout",
     "output_type": "stream",
     "text": [
      "int_a + int_b\n",
      "int_a + 10\n",
      "11 + int_b\n",
      "int_a - int_b\n",
      "int_a*int_b\n",
      "int_a/int_b\n",
      "int_a**int_b\n"
     ]
    }
   ],
   "source": [
    "with ConcolicTracer() as _:\n",
    "    ia = zint.create(_.context, 'int_a', 0)\n",
    "    ib = zint.create(_.context, 'int_b', 1)\n",
    "    print((ia + ib).z)\n",
    "    print((ia + 10).z)\n",
    "    print((11 + ib).z)\n",
    "    print((ia - ib).z)\n",
    "    print((ia * ib).z)\n",
    "    print((ia / ib).z)\n",
    "    print((ia ** ib).z)"
   ]
  },
  {
   "cell_type": "markdown",
   "metadata": {
    "slideshow": {
     "slide_type": "subslide"
    }
   },
   "source": [
    "##### Integer Unary Operators\n",
    "\n",
    "We also implement the relevant unary operators as below."
   ]
  },
  {
   "cell_type": "code",
   "execution_count": 83,
   "metadata": {
    "execution": {
     "iopub.execute_input": "2022-02-21T08:25:32.160352Z",
     "iopub.status.busy": "2022-02-21T08:25:32.159339Z",
     "iopub.status.idle": "2022-02-21T08:25:32.162194Z",
     "shell.execute_reply": "2022-02-21T08:25:32.162844Z"
    },
    "slideshow": {
     "slide_type": "fragment"
    }
   },
   "outputs": [],
   "source": [
    "INT_UNARY_OPS = [\n",
    "    '__neg__',\n",
    "    '__pos__',\n",
    "    # '__abs__',\n",
    "    # '__invert__',\n",
    "    # '__round__',\n",
    "    # '__ceil__',\n",
    "    # '__floor__',\n",
    "    # '__trunc__',\n",
    "]"
   ]
  },
  {
   "cell_type": "code",
   "execution_count": 84,
   "metadata": {
    "execution": {
     "iopub.execute_input": "2022-02-21T08:25:32.168346Z",
     "iopub.status.busy": "2022-02-21T08:25:32.167189Z",
     "iopub.status.idle": "2022-02-21T08:25:32.169856Z",
     "shell.execute_reply": "2022-02-21T08:25:32.170763Z"
    },
    "slideshow": {
     "slide_type": "subslide"
    }
   },
   "outputs": [],
   "source": [
    "def make_int_unary_wrapper(fname, fun, zfun):\n",
    "    def proxy(self):\n",
    "        return zint(self.context, zfun(self.z), fun(self.v))\n",
    "\n",
    "    return proxy"
   ]
  },
  {
   "cell_type": "code",
   "execution_count": 85,
   "metadata": {
    "execution": {
     "iopub.execute_input": "2022-02-21T08:25:32.175849Z",
     "iopub.status.busy": "2022-02-21T08:25:32.175242Z",
     "iopub.status.idle": "2022-02-21T08:25:32.177061Z",
     "shell.execute_reply": "2022-02-21T08:25:32.177475Z"
    },
    "slideshow": {
     "slide_type": "fragment"
    }
   },
   "outputs": [],
   "source": [
    "def init_concolic_2():\n",
    "    for fname in INT_UNARY_OPS:\n",
    "        fun = getattr(int, fname)\n",
    "        zfun = getattr(z3.ArithRef, fname)\n",
    "        setattr(zint, fname, make_int_unary_wrapper(fname, fun, zfun))"
   ]
  },
  {
   "cell_type": "code",
   "execution_count": 86,
   "metadata": {
    "execution": {
     "iopub.execute_input": "2022-02-21T08:25:32.182776Z",
     "iopub.status.busy": "2022-02-21T08:25:32.181957Z",
     "iopub.status.idle": "2022-02-21T08:25:32.183800Z",
     "shell.execute_reply": "2022-02-21T08:25:32.184249Z"
    },
    "slideshow": {
     "slide_type": "fragment"
    }
   },
   "outputs": [],
   "source": [
    "INITIALIZER_LIST.append(init_concolic_2)"
   ]
  },
  {
   "cell_type": "code",
   "execution_count": 87,
   "metadata": {
    "execution": {
     "iopub.execute_input": "2022-02-21T08:25:32.188484Z",
     "iopub.status.busy": "2022-02-21T08:25:32.187566Z",
     "iopub.status.idle": "2022-02-21T08:25:32.189539Z",
     "shell.execute_reply": "2022-02-21T08:25:32.189950Z"
    },
    "slideshow": {
     "slide_type": "fragment"
    }
   },
   "outputs": [],
   "source": [
    "init_concolic_2()"
   ]
  },
  {
   "cell_type": "markdown",
   "metadata": {
    "slideshow": {
     "slide_type": "fragment"
    }
   },
   "source": [
    "We can use the unary operators we defined above as follows:"
   ]
  },
  {
   "cell_type": "code",
   "execution_count": 88,
   "metadata": {
    "execution": {
     "iopub.execute_input": "2022-02-21T08:25:32.194474Z",
     "iopub.status.busy": "2022-02-21T08:25:32.193481Z",
     "iopub.status.idle": "2022-02-21T08:25:32.197404Z",
     "shell.execute_reply": "2022-02-21T08:25:32.198016Z"
    },
    "slideshow": {
     "slide_type": "subslide"
    }
   },
   "outputs": [
    {
     "name": "stdout",
     "output_type": "stream",
     "text": [
      "-int_a\n",
      "int_a\n"
     ]
    }
   ],
   "source": [
    "with ConcolicTracer() as _:\n",
    "    ia = zint.create(_.context, 'int_a', 0)\n",
    "    print((-ia).z)\n",
    "    print((+ia).z)"
   ]
  },
  {
   "cell_type": "markdown",
   "metadata": {
    "slideshow": {
     "slide_type": "subslide"
    }
   },
   "source": [
    "##### Using an Integer in a Boolean Context\n",
    "\n",
    "An integer may be converted to a boolean context in conditionals or as part of boolean predicates such as `or`, `and` and `not`. In these cases, the `__bool__()` method gets called. Unfortunately, this method requires a primitive boolean value. Hence, we force the current integer formula to a boolean predicate and register it in the current context."
   ]
  },
  {
   "cell_type": "code",
   "execution_count": 89,
   "metadata": {
    "execution": {
     "iopub.execute_input": "2022-02-21T08:25:32.202976Z",
     "iopub.status.busy": "2022-02-21T08:25:32.202146Z",
     "iopub.status.idle": "2022-02-21T08:25:32.204309Z",
     "shell.execute_reply": "2022-02-21T08:25:32.204724Z"
    },
    "slideshow": {
     "slide_type": "fragment"
    }
   },
   "outputs": [],
   "source": [
    "class zint(zint):\n",
    "    def __bool__(self):\n",
    "        # return zbool(self.context, self.z, self.v) <-- not allowed\n",
    "        # force registering boolean condition\n",
    "        if self != 0:\n",
    "            return True\n",
    "        return False"
   ]
  },
  {
   "cell_type": "markdown",
   "metadata": {
    "slideshow": {
     "slide_type": "subslide"
    }
   },
   "source": [
    "It is used as follows"
   ]
  },
  {
   "cell_type": "code",
   "execution_count": 90,
   "metadata": {
    "execution": {
     "iopub.execute_input": "2022-02-21T08:25:32.209709Z",
     "iopub.status.busy": "2022-02-21T08:25:32.208927Z",
     "iopub.status.idle": "2022-02-21T08:25:32.212494Z",
     "shell.execute_reply": "2022-02-21T08:25:32.212941Z"
    },
    "slideshow": {
     "slide_type": "fragment"
    }
   },
   "outputs": [],
   "source": [
    "with ConcolicTracer() as _:\n",
    "    za = zint.create(_.context, 'int_a', 1)\n",
    "    zb = zint.create(_.context, 'int_b', 0)\n",
    "    if za and zb:\n",
    "        print(1)"
   ]
  },
  {
   "cell_type": "code",
   "execution_count": 91,
   "metadata": {
    "execution": {
     "iopub.execute_input": "2022-02-21T08:25:32.216775Z",
     "iopub.status.busy": "2022-02-21T08:25:32.216136Z",
     "iopub.status.idle": "2022-02-21T08:25:32.220571Z",
     "shell.execute_reply": "2022-02-21T08:25:32.221195Z"
    },
    "slideshow": {
     "slide_type": "fragment"
    }
   },
   "outputs": [
    {
     "data": {
      "text/plain": [
       "({'int_a': 'Int', 'int_b': 'Int'}, [0 != int_a, Not(0 != int_b)])"
      ]
     },
     "execution_count": 91,
     "metadata": {},
     "output_type": "execute_result"
    }
   ],
   "source": [
    "_.context"
   ]
  },
  {
   "cell_type": "markdown",
   "metadata": {
    "slideshow": {
     "slide_type": "subslide"
    },
    "toc-hr-collapsed": true
   },
   "source": [
    "#### Remaining Methods of the  ConcolicTracer\n",
    "\n",
    "We now complete some of the methods of the `ConcolicTracer`."
   ]
  },
  {
   "cell_type": "markdown",
   "metadata": {
    "slideshow": {
     "slide_type": "subslide"
    }
   },
   "source": [
    "##### Translating to the SMT Expression Format\n",
    "\n",
    "Given that we are using an SMT Solver z3, it is often useful to retrieve the corresponding SMT expression for a symbolic expression. This can be used as an argument to `z3` or other SMT solvers.\n",
    "\n",
    "The format of the SMT expression ([SMT-LIB](http://smtlib.github.io/jSMTLIB/SMTLIBTutorial.pdf)) is as follows:\n",
    "\n",
    "* Variables declarations in [S-EXP](https://en.wikipedia.org/wiki/S-expression) format.\n",
    "  E.g. The following declares a symbolic integer variable `x`\n",
    "```\n",
    "(declare-const x Int)\n",
    "```\n",
    " This declares a `bit vector` `b` of length `8`\n",
    "```\n",
    "(declare-const b (_ BitVec 8))\n",
    "```\n",
    " This declares a symbolic real variable `r`\n",
    "```\n",
    "(declare-const x Real)\n",
    "```\n",
    " This declares a symbolic string variable `s`\n",
    "```\n",
    "(declare-const s String)\n",
    "```\n",
    "\n",
    "The declared variables can be used in logical formulas that are encoded in *S-EXP* format. For example, here is a logical formula.\n",
    "\n",
    "```\n",
    "(assert\n",
    "    (and\n",
    "        (= a b)\n",
    "        (= a c)\n",
    "        (! b c)))\n",
    "```\n",
    "Here is another example, using string variables.\n",
    "\n",
    "```\n",
    "(or (< 0 (str.indexof (str.substr my_str1 7 19) \" where \" 0))\n",
    "    (= (str.indexof (str.substr my_str1 7 19) \" where \" 0) 0))\n",
    "```\n"
   ]
  },
  {
   "cell_type": "code",
   "execution_count": 92,
   "metadata": {
    "execution": {
     "iopub.execute_input": "2022-02-21T08:25:32.230908Z",
     "iopub.status.busy": "2022-02-21T08:25:32.229894Z",
     "iopub.status.idle": "2022-02-21T08:25:32.232125Z",
     "shell.execute_reply": "2022-02-21T08:25:32.232657Z"
    },
    "slideshow": {
     "slide_type": "subslide"
    }
   },
   "outputs": [],
   "source": [
    "class ConcolicTracer(ConcolicTracer):\n",
    "    def smt_expr(self, show_decl=False, simplify=False, path=[]):\n",
    "        r = []\n",
    "        if show_decl:\n",
    "            for decl in self.decls:\n",
    "                v = self.decls[decl]\n",
    "                v = '(_ BitVec 8)' if v == 'BitVec' else v\n",
    "                r.append(\"(declare-const %s %s)\" % (decl, v))\n",
    "        path = path if path else self.path\n",
    "        if path:\n",
    "            path = z3.And(path)\n",
    "            if show_decl:\n",
    "                if simplify:\n",
    "                    return '\\n'.join([\n",
    "                        *r,\n",
    "                        \"(assert %s)\" % z3.simplify(path).sexpr()\n",
    "                    ])\n",
    "                else:\n",
    "                    return '\\n'.join(\n",
    "                        [*r, \"(assert %s)\" % path.sexpr()])\n",
    "            else:\n",
    "                return z3.simplify(path).sexpr()\n",
    "        else:\n",
    "            return ''"
   ]
  },
  {
   "cell_type": "markdown",
   "metadata": {
    "slideshow": {
     "slide_type": "subslide"
    }
   },
   "source": [
    "To see how to use `smt_expr()`, let us consider an example. The `triangle()` function is used to determine if the given sides to a triangle result in an `equilateral` triangle, an `isosceles` triangle, or a `scalene` triangle. It is implemented as follows."
   ]
  },
  {
   "cell_type": "code",
   "execution_count": 93,
   "metadata": {
    "execution": {
     "iopub.execute_input": "2022-02-21T08:25:32.237560Z",
     "iopub.status.busy": "2022-02-21T08:25:32.236773Z",
     "iopub.status.idle": "2022-02-21T08:25:32.238589Z",
     "shell.execute_reply": "2022-02-21T08:25:32.238995Z"
    },
    "slideshow": {
     "slide_type": "subslide"
    }
   },
   "outputs": [],
   "source": [
    "def triangle(a, b, c):\n",
    "    if a == b:\n",
    "        if b == c:\n",
    "            return 'equilateral'\n",
    "        else:\n",
    "            return 'isosceles'\n",
    "    else:\n",
    "        if b == c:\n",
    "            return 'isosceles'\n",
    "        else:\n",
    "            if a == c:\n",
    "                return 'isosceles'\n",
    "            else:\n",
    "                return 'scalene'"
   ]
  },
  {
   "cell_type": "code",
   "execution_count": 94,
   "metadata": {
    "execution": {
     "iopub.execute_input": "2022-02-21T08:25:32.243621Z",
     "iopub.status.busy": "2022-02-21T08:25:32.243000Z",
     "iopub.status.idle": "2022-02-21T08:25:32.246534Z",
     "shell.execute_reply": "2022-02-21T08:25:32.246951Z"
    },
    "slideshow": {
     "slide_type": "subslide"
    }
   },
   "outputs": [
    {
     "data": {
      "text/plain": [
       "'isosceles'"
      ]
     },
     "execution_count": 94,
     "metadata": {},
     "output_type": "execute_result"
    }
   ],
   "source": [
    "triangle(1, 2, 1)"
   ]
  },
  {
   "cell_type": "markdown",
   "metadata": {
    "slideshow": {
     "slide_type": "fragment"
    }
   },
   "source": [
    "To make `triangle()` run under `ConcolicTracer`, we first define the (symbolic) arguments. The triangle being defined has sides `1, 1, 1`. i.e. it is an `equilateral` triangle."
   ]
  },
  {
   "cell_type": "code",
   "execution_count": 95,
   "metadata": {
    "execution": {
     "iopub.execute_input": "2022-02-21T08:25:32.251912Z",
     "iopub.status.busy": "2022-02-21T08:25:32.251245Z",
     "iopub.status.idle": "2022-02-21T08:25:32.255474Z",
     "shell.execute_reply": "2022-02-21T08:25:32.256354Z"
    },
    "slideshow": {
     "slide_type": "fragment"
    }
   },
   "outputs": [
    {
     "name": "stdout",
     "output_type": "stream",
     "text": [
      "({'int_a': 'Int', 'int_b': 'Int', 'int_c': 'Int'}, [int_a == int_b, int_b == int_c])\n"
     ]
    }
   ],
   "source": [
    "with ConcolicTracer() as _:\n",
    "    za = zint.create(_.context, 'int_a', 1)\n",
    "    zb = zint.create(_.context, 'int_b', 1)\n",
    "    zc = zint.create(_.context, 'int_c', 1)\n",
    "    triangle(za, zb, zc)\n",
    "print(_.context)"
   ]
  },
  {
   "cell_type": "markdown",
   "metadata": {
    "slideshow": {
     "slide_type": "fragment"
    }
   },
   "source": [
    "We can now call `smt_expr()` to retrieve the SMT expression as below."
   ]
  },
  {
   "cell_type": "code",
   "execution_count": 96,
   "metadata": {
    "execution": {
     "iopub.execute_input": "2022-02-21T08:25:32.261289Z",
     "iopub.status.busy": "2022-02-21T08:25:32.259976Z",
     "iopub.status.idle": "2022-02-21T08:25:32.263577Z",
     "shell.execute_reply": "2022-02-21T08:25:32.263992Z"
    },
    "slideshow": {
     "slide_type": "subslide"
    }
   },
   "outputs": [
    {
     "name": "stdout",
     "output_type": "stream",
     "text": [
      "(declare-const int_a Int)\n",
      "(declare-const int_b Int)\n",
      "(declare-const int_c Int)\n",
      "(assert (and (= int_a int_b) (= int_b int_c)))\n"
     ]
    }
   ],
   "source": [
    "print(_.smt_expr(show_decl=True))"
   ]
  },
  {
   "cell_type": "markdown",
   "metadata": {
    "slideshow": {
     "slide_type": "fragment"
    }
   },
   "source": [
    "The collected predicates can also be solved directly using the Python z3 API."
   ]
  },
  {
   "cell_type": "code",
   "execution_count": 97,
   "metadata": {
    "execution": {
     "iopub.execute_input": "2022-02-21T08:25:32.268614Z",
     "iopub.status.busy": "2022-02-21T08:25:32.267587Z",
     "iopub.status.idle": "2022-02-21T08:25:32.287184Z",
     "shell.execute_reply": "2022-02-21T08:25:32.287993Z"
    },
    "slideshow": {
     "slide_type": "fragment"
    }
   },
   "outputs": [
    {
     "name": "stdout",
     "output_type": "stream",
     "text": [
      "[int_c = 0, int_a = 0, int_b = 0]\n"
     ]
    }
   ],
   "source": [
    "z3.solve(_.path)"
   ]
  },
  {
   "cell_type": "markdown",
   "metadata": {
    "slideshow": {
     "slide_type": "subslide"
    }
   },
   "source": [
    "##### Generating Fresh Names\n",
    "While using the proxy classes, we often will have to generate new symbolic variables, with names that have not been used before. For this, we define `fresh_name()` that always generates unique integers for names."
   ]
  },
  {
   "cell_type": "code",
   "execution_count": 98,
   "metadata": {
    "execution": {
     "iopub.execute_input": "2022-02-21T08:25:32.292384Z",
     "iopub.status.busy": "2022-02-21T08:25:32.291771Z",
     "iopub.status.idle": "2022-02-21T08:25:32.293557Z",
     "shell.execute_reply": "2022-02-21T08:25:32.293957Z"
    },
    "slideshow": {
     "slide_type": "fragment"
    }
   },
   "outputs": [],
   "source": [
    "COUNTER = 0"
   ]
  },
  {
   "cell_type": "code",
   "execution_count": 99,
   "metadata": {
    "execution": {
     "iopub.execute_input": "2022-02-21T08:25:32.297545Z",
     "iopub.status.busy": "2022-02-21T08:25:32.296990Z",
     "iopub.status.idle": "2022-02-21T08:25:32.298833Z",
     "shell.execute_reply": "2022-02-21T08:25:32.299422Z"
    },
    "slideshow": {
     "slide_type": "fragment"
    }
   },
   "outputs": [],
   "source": [
    "def fresh_name():\n",
    "    global COUNTER\n",
    "    COUNTER += 1\n",
    "    return COUNTER"
   ]
  },
  {
   "cell_type": "markdown",
   "metadata": {
    "slideshow": {
     "slide_type": "fragment"
    }
   },
   "source": [
    "It can be used as follows:"
   ]
  },
  {
   "cell_type": "code",
   "execution_count": 100,
   "metadata": {
    "execution": {
     "iopub.execute_input": "2022-02-21T08:25:32.303852Z",
     "iopub.status.busy": "2022-02-21T08:25:32.303165Z",
     "iopub.status.idle": "2022-02-21T08:25:32.305956Z",
     "shell.execute_reply": "2022-02-21T08:25:32.306405Z"
    },
    "slideshow": {
     "slide_type": "fragment"
    }
   },
   "outputs": [
    {
     "data": {
      "text/plain": [
       "1"
      ]
     },
     "execution_count": 100,
     "metadata": {},
     "output_type": "execute_result"
    }
   ],
   "source": [
    "fresh_name()"
   ]
  },
  {
   "cell_type": "code",
   "execution_count": 101,
   "metadata": {
    "execution": {
     "iopub.execute_input": "2022-02-21T08:25:32.310827Z",
     "iopub.status.busy": "2022-02-21T08:25:32.310227Z",
     "iopub.status.idle": "2022-02-21T08:25:32.312149Z",
     "shell.execute_reply": "2022-02-21T08:25:32.312765Z"
    },
    "slideshow": {
     "slide_type": "subslide"
    }
   },
   "outputs": [],
   "source": [
    "def reset_counter():\n",
    "    global COUNTER\n",
    "    COUNTER = 0"
   ]
  },
  {
   "cell_type": "code",
   "execution_count": 102,
   "metadata": {
    "execution": {
     "iopub.execute_input": "2022-02-21T08:25:32.318191Z",
     "iopub.status.busy": "2022-02-21T08:25:32.317410Z",
     "iopub.status.idle": "2022-02-21T08:25:32.319242Z",
     "shell.execute_reply": "2022-02-21T08:25:32.319650Z"
    },
    "slideshow": {
     "slide_type": "fragment"
    }
   },
   "outputs": [],
   "source": [
    "class ConcolicTracer(ConcolicTracer):\n",
    "    def __enter__(self):\n",
    "        reset_counter()\n",
    "        return self\n",
    "\n",
    "    def __exit__(self, exc_type, exc_value, tb):\n",
    "        return"
   ]
  },
  {
   "cell_type": "markdown",
   "metadata": {
    "slideshow": {
     "slide_type": "subslide"
    }
   },
   "source": [
    " ##### Translating Arguments to Concolic Proxies\n",
    " \n",
    "We had previously defined `concolic()` as a transparent function. We now provide the full implementation of this function. It inspects a given function's parameters, and infers the parameter types from the concrete arguments passed in. It then uses this information to instantiate the correct proxy classes for each argument."
   ]
  },
  {
   "cell_type": "code",
   "execution_count": 103,
   "metadata": {
    "execution": {
     "iopub.execute_input": "2022-02-21T08:25:32.327291Z",
     "iopub.status.busy": "2022-02-21T08:25:32.326265Z",
     "iopub.status.idle": "2022-02-21T08:25:32.328587Z",
     "shell.execute_reply": "2022-02-21T08:25:32.329119Z"
    },
    "slideshow": {
     "slide_type": "subslide"
    }
   },
   "outputs": [],
   "source": [
    "class ConcolicTracer(ConcolicTracer):\n",
    "    def concolic(self, args):\n",
    "        my_args = []\n",
    "        for name, arg in zip(self.fn_args, args):\n",
    "            t = type(arg).__name__\n",
    "            zwrap = globals()['z' + t]\n",
    "            vname = \"%s_%s_%s_%s\" % (self.fn.__name__, name, t, fresh_name())\n",
    "            my_args.append(zwrap.create(self.context, vname, arg))\n",
    "            self.fn_args[name] = vname\n",
    "        return my_args"
   ]
  },
  {
   "cell_type": "markdown",
   "metadata": {
    "slideshow": {
     "slide_type": "fragment"
    }
   },
   "source": [
    "This is how it gets used:"
   ]
  },
  {
   "cell_type": "code",
   "execution_count": 104,
   "metadata": {
    "execution": {
     "iopub.execute_input": "2022-02-21T08:25:32.334987Z",
     "iopub.status.busy": "2022-02-21T08:25:32.333959Z",
     "iopub.status.idle": "2022-02-21T08:25:32.339123Z",
     "shell.execute_reply": "2022-02-21T08:25:32.339596Z"
    },
    "slideshow": {
     "slide_type": "fragment"
    }
   },
   "outputs": [],
   "source": [
    "with ConcolicTracer() as _:\n",
    "    _[factorial](5)"
   ]
  },
  {
   "cell_type": "markdown",
   "metadata": {
    "slideshow": {
     "slide_type": "subslide"
    }
   },
   "source": [
    "With the new `concolic()` method, the arguments to the factorial are correctly associated with symbolic variables, which allows us to retrieve the predicates encountered."
   ]
  },
  {
   "cell_type": "code",
   "execution_count": 105,
   "metadata": {
    "execution": {
     "iopub.execute_input": "2022-02-21T08:25:32.345948Z",
     "iopub.status.busy": "2022-02-21T08:25:32.344868Z",
     "iopub.status.idle": "2022-02-21T08:25:32.371638Z",
     "shell.execute_reply": "2022-02-21T08:25:32.372101Z"
    },
    "slideshow": {
     "slide_type": "fragment"
    }
   },
   "outputs": [
    {
     "data": {
      "text/plain": [
       "({'factorial_n_int_1': 'Int'},\n",
       " [Not(0 > factorial_n_int_1),\n",
       "  Not(0 == factorial_n_int_1),\n",
       "  Not(1 == factorial_n_int_1),\n",
       "  0 != factorial_n_int_1,\n",
       "  0 != factorial_n_int_1 - 1,\n",
       "  0 != factorial_n_int_1 - 1 - 1,\n",
       "  0 != factorial_n_int_1 - 1 - 1 - 1,\n",
       "  0 != factorial_n_int_1 - 1 - 1 - 1 - 1,\n",
       "  Not(0 != factorial_n_int_1 - 1 - 1 - 1 - 1 - 1)])"
      ]
     },
     "execution_count": 105,
     "metadata": {},
     "output_type": "execute_result"
    }
   ],
   "source": [
    "_.context"
   ]
  },
  {
   "cell_type": "markdown",
   "metadata": {
    "slideshow": {
     "slide_type": "subslide"
    }
   },
   "source": [
    "As before, we can also print out the SMT expression which can be passed directly to command line SMT solvers."
   ]
  },
  {
   "cell_type": "code",
   "execution_count": 106,
   "metadata": {
    "execution": {
     "iopub.execute_input": "2022-02-21T08:25:32.376611Z",
     "iopub.status.busy": "2022-02-21T08:25:32.375751Z",
     "iopub.status.idle": "2022-02-21T08:25:32.380984Z",
     "shell.execute_reply": "2022-02-21T08:25:32.381592Z"
    },
    "slideshow": {
     "slide_type": "subslide"
    }
   },
   "outputs": [
    {
     "name": "stdout",
     "output_type": "stream",
     "text": [
      "(declare-const factorial_n_int_1 Int)\n",
      "(assert (let ((a!1 (distinct 0 (- (- (- factorial_n_int_1 1) 1) 1)))\n",
      "      (a!2 (- (- (- (- factorial_n_int_1 1) 1) 1) 1)))\n",
      "  (and (not (> 0 factorial_n_int_1))\n",
      "       (not (= 0 factorial_n_int_1))\n",
      "       (not (= 1 factorial_n_int_1))\n",
      "       (distinct 0 factorial_n_int_1)\n",
      "       (distinct 0 (- factorial_n_int_1 1))\n",
      "       (distinct 0 (- (- factorial_n_int_1 1) 1))\n",
      "       a!1\n",
      "       (distinct 0 a!2)\n",
      "       (not (distinct 0 (- a!2 1))))))\n"
     ]
    }
   ],
   "source": [
    "print(_.smt_expr(show_decl=True))"
   ]
  },
  {
   "cell_type": "markdown",
   "metadata": {
    "slideshow": {
     "slide_type": "subslide"
    }
   },
   "source": [
    "We next define methods to evaluate the SMT expression both in Python and from command line."
   ]
  },
  {
   "cell_type": "markdown",
   "metadata": {
    "slideshow": {
     "slide_type": "subslide"
    }
   },
   "source": [
    "##### Evaluating the Concolic Expressions\n",
    "\n",
    "We define `zeval()` to solve the predicates in a context, and return results. It has two modes. The `python` mode uses `z3` Python API to solve and return the results. If the `python` mode is false, it writes the SMT expression to a file, and invokes the command line `z3` for a solution."
   ]
  },
  {
   "cell_type": "code",
   "execution_count": 107,
   "metadata": {
    "execution": {
     "iopub.execute_input": "2022-02-21T08:25:32.391140Z",
     "iopub.status.busy": "2022-02-21T08:25:32.390025Z",
     "iopub.status.idle": "2022-02-21T08:25:32.392823Z",
     "shell.execute_reply": "2022-02-21T08:25:32.393253Z"
    },
    "slideshow": {
     "slide_type": "subslide"
    }
   },
   "outputs": [],
   "source": [
    "class ConcolicTracer(ConcolicTracer):\n",
    "    def zeval(self, predicates=None, *,python=False, log=False):\n",
    "        \"\"\"Evaluate `predicates` in current context.\n",
    "        - If `python` is set, use the z3 Python API; otherwise use z3 standalone.\n",
    "        - If `log` is set, show input to z3.\n",
    "        Return a pair (`result`, `solution`) where\n",
    "        - `result` is either `'sat'` (satisfiable); then \n",
    "           solution` is a mapping of variables to (value, type) pairs; or\n",
    "        - `result` is not `'sat'`, indicating an error; then `solution` is `None`\n",
    "        \"\"\"\n",
    "        if predicates is None:\n",
    "            path = self.path\n",
    "        else:\n",
    "            path = list(self.path)\n",
    "            for i in sorted(predicates):\n",
    "                if len(path) > i:\n",
    "                    path[i] = predicates[i]\n",
    "                else:\n",
    "                    path.append(predicates[i])\n",
    "        if log:\n",
    "            print('Predicates in path:')\n",
    "            for i, p in enumerate(path):\n",
    "                print(i, p)\n",
    "            print()\n",
    "\n",
    "        r, sol = (zeval_py if python else zeval_smt)(path, self, log)\n",
    "        if r == 'sat':\n",
    "            return r, {k: sol.get(self.fn_args[k], None) for k in self.fn_args}\n",
    "        else:\n",
    "            return r, None"
   ]
  },
  {
   "cell_type": "markdown",
   "metadata": {
    "slideshow": {
     "slide_type": "subslide"
    }
   },
   "source": [
    "##### Using the Python API\n",
    "\n",
    "Given a set of predicates that the function encountered, and the tracer under which the function was executed, the `zeval_py()` function first declares the relevant symbolic variables, and uses the `z3.Solver()`to provide a set of inputs that would trace the same path through the function."
   ]
  },
  {
   "cell_type": "code",
   "execution_count": 108,
   "metadata": {
    "execution": {
     "iopub.execute_input": "2022-02-21T08:25:32.400347Z",
     "iopub.status.busy": "2022-02-21T08:25:32.399395Z",
     "iopub.status.idle": "2022-02-21T08:25:32.401353Z",
     "shell.execute_reply": "2022-02-21T08:25:32.402085Z"
    },
    "slideshow": {
     "slide_type": "subslide"
    }
   },
   "outputs": [],
   "source": [
    "def zeval_py(path, cc, log):\n",
    "    for decl in cc.decls:\n",
    "        if cc.decls[decl] == 'BitVec':\n",
    "            v = \"z3.%s('%s', 8)\" % (cc.decls[decl], decl)\n",
    "        else:\n",
    "            v = \"z3.%s('%s')\" % (cc.decls[decl], decl)\n",
    "        exec(v)\n",
    "    s = z3.Solver()\n",
    "    s.add(z3.And(path))\n",
    "    if s.check() == z3.unsat:\n",
    "        return 'No Solutions', {}\n",
    "    elif s.check() == z3.unknown:\n",
    "        return 'Gave up', None\n",
    "    assert s.check() == z3.sat\n",
    "    m = s.model()\n",
    "    return 'sat', {d.name(): m[d] for d in m.decls()}"
   ]
  },
  {
   "cell_type": "markdown",
   "metadata": {
    "slideshow": {
     "slide_type": "subslide"
    }
   },
   "source": [
    "It can be used as follows:"
   ]
  },
  {
   "cell_type": "code",
   "execution_count": 109,
   "metadata": {
    "execution": {
     "iopub.execute_input": "2022-02-21T08:25:32.406209Z",
     "iopub.status.busy": "2022-02-21T08:25:32.405623Z",
     "iopub.status.idle": "2022-02-21T08:25:32.411359Z",
     "shell.execute_reply": "2022-02-21T08:25:32.410758Z"
    },
    "slideshow": {
     "slide_type": "fragment"
    }
   },
   "outputs": [],
   "source": [
    "with ConcolicTracer() as _:\n",
    "    _[factorial](5)"
   ]
  },
  {
   "cell_type": "code",
   "execution_count": 110,
   "metadata": {
    "execution": {
     "iopub.execute_input": "2022-02-21T08:25:32.416581Z",
     "iopub.status.busy": "2022-02-21T08:25:32.415870Z",
     "iopub.status.idle": "2022-02-21T08:25:32.455011Z",
     "shell.execute_reply": "2022-02-21T08:25:32.455817Z"
    },
    "slideshow": {
     "slide_type": "fragment"
    }
   },
   "outputs": [
    {
     "data": {
      "text/plain": [
       "('sat', {'n': 5})"
      ]
     },
     "execution_count": 110,
     "metadata": {},
     "output_type": "execute_result"
    }
   ],
   "source": [
    "_.zeval(python=True)"
   ]
  },
  {
   "cell_type": "markdown",
   "metadata": {
    "slideshow": {
     "slide_type": "fragment"
    }
   },
   "source": [
    "That is, given the set of constraints, the assignment `n == 5` conforms to all constraints."
   ]
  },
  {
   "cell_type": "markdown",
   "metadata": {
    "slideshow": {
     "slide_type": "subslide"
    }
   },
   "source": [
    "##### Using the Command Line\n",
    "\n",
    "The `zeval_smt()` function writes the SMT expression to the file system, and calls the `z3` SMT solver command line to solve it. The result of SMT expression is again an `sexpr`. Hence, we first define `parse_sexp()` to parse and return the correct values."
   ]
  },
  {
   "cell_type": "code",
   "execution_count": 111,
   "metadata": {
    "execution": {
     "iopub.execute_input": "2022-02-21T08:25:32.461282Z",
     "iopub.status.busy": "2022-02-21T08:25:32.460343Z",
     "iopub.status.idle": "2022-02-21T08:25:32.463114Z",
     "shell.execute_reply": "2022-02-21T08:25:32.463649Z"
    },
    "slideshow": {
     "slide_type": "skip"
    }
   },
   "outputs": [],
   "source": [
    "import re"
   ]
  },
  {
   "cell_type": "code",
   "execution_count": 112,
   "metadata": {
    "execution": {
     "iopub.execute_input": "2022-02-21T08:25:32.468425Z",
     "iopub.status.busy": "2022-02-21T08:25:32.467138Z",
     "iopub.status.idle": "2022-02-21T08:25:32.470373Z",
     "shell.execute_reply": "2022-02-21T08:25:32.469948Z"
    },
    "slideshow": {
     "slide_type": "skip"
    }
   },
   "outputs": [],
   "source": [
    "import subprocess"
   ]
  },
  {
   "cell_type": "code",
   "execution_count": 113,
   "metadata": {
    "execution": {
     "iopub.execute_input": "2022-02-21T08:25:32.474784Z",
     "iopub.status.busy": "2022-02-21T08:25:32.473875Z",
     "iopub.status.idle": "2022-02-21T08:25:32.476745Z",
     "shell.execute_reply": "2022-02-21T08:25:32.476035Z"
    },
    "slideshow": {
     "slide_type": "fragment"
    }
   },
   "outputs": [],
   "source": [
    "SEXPR_TOKEN = r'''(?mx)\n",
    "    \\s*(?:\n",
    "        (?P<bra>\\()|\n",
    "        (?P<ket>\\))|\n",
    "        (?P<token>[^\"()\\s]+)|\n",
    "        (?P<string>\"[^\"]*\")\n",
    "       )'''"
   ]
  },
  {
   "cell_type": "code",
   "execution_count": 114,
   "metadata": {
    "execution": {
     "iopub.execute_input": "2022-02-21T08:25:32.485898Z",
     "iopub.status.busy": "2022-02-21T08:25:32.484747Z",
     "iopub.status.idle": "2022-02-21T08:25:32.487028Z",
     "shell.execute_reply": "2022-02-21T08:25:32.487687Z"
    },
    "slideshow": {
     "slide_type": "subslide"
    }
   },
   "outputs": [],
   "source": [
    "def parse_sexp(sexp):\n",
    "    stack, res = [], []\n",
    "    for elements in re.finditer(SEXPR_TOKEN, sexp):\n",
    "        kind, value = [(t, v) for t, v in elements.groupdict().items() if v][0]\n",
    "        if kind == 'bra':\n",
    "            stack.append(res)\n",
    "            res = []\n",
    "        elif kind == 'ket':\n",
    "            last, res = res, stack.pop(-1)\n",
    "            res.append(last)\n",
    "        elif kind == 'token':\n",
    "            res.append(value)\n",
    "        elif kind == 'string':\n",
    "            res.append(value[1:-1])\n",
    "        else:\n",
    "            assert False\n",
    "    return res"
   ]
  },
  {
   "cell_type": "markdown",
   "metadata": {
    "slideshow": {
     "slide_type": "subslide"
    }
   },
   "source": [
    "The `parse_sexp()` function can be used as follows"
   ]
  },
  {
   "cell_type": "code",
   "execution_count": 115,
   "metadata": {
    "execution": {
     "iopub.execute_input": "2022-02-21T08:25:32.493593Z",
     "iopub.status.busy": "2022-02-21T08:25:32.492802Z",
     "iopub.status.idle": "2022-02-21T08:25:32.495988Z",
     "shell.execute_reply": "2022-02-21T08:25:32.496656Z"
    },
    "slideshow": {
     "slide_type": "fragment"
    }
   },
   "outputs": [
    {
     "data": {
      "text/plain": [
       "['abcd', ['hello', '123', ['world', 'hello world']]]"
      ]
     },
     "execution_count": 115,
     "metadata": {},
     "output_type": "execute_result"
    }
   ],
   "source": [
    "parse_sexp('abcd (hello 123 (world \"hello world\"))')"
   ]
  },
  {
   "cell_type": "markdown",
   "metadata": {
    "slideshow": {
     "slide_type": "fragment"
    }
   },
   "source": [
    "We now define `zeval_smt()` which uses the `z3` command line directly, and uses `parse_sexp()` to parse and return the solutions to function arguments if any."
   ]
  },
  {
   "cell_type": "code",
   "execution_count": 116,
   "metadata": {
    "execution": {
     "iopub.execute_input": "2022-02-21T08:25:32.500930Z",
     "iopub.status.busy": "2022-02-21T08:25:32.499965Z",
     "iopub.status.idle": "2022-02-21T08:25:32.502190Z",
     "shell.execute_reply": "2022-02-21T08:25:32.502747Z"
    },
    "slideshow": {
     "slide_type": "skip"
    }
   },
   "outputs": [],
   "source": [
    "import tempfile\n",
    "import os"
   ]
  },
  {
   "cell_type": "code",
   "execution_count": 117,
   "metadata": {
    "execution": {
     "iopub.execute_input": "2022-02-21T08:25:32.506574Z",
     "iopub.status.busy": "2022-02-21T08:25:32.505815Z",
     "iopub.status.idle": "2022-02-21T08:25:32.508022Z",
     "shell.execute_reply": "2022-02-21T08:25:32.508652Z"
    },
    "slideshow": {
     "slide_type": "fragment"
    }
   },
   "outputs": [],
   "source": [
    "Z3_BINARY = 'z3'  # Z3 binary to invoke"
   ]
  },
  {
   "cell_type": "code",
   "execution_count": 118,
   "metadata": {
    "execution": {
     "iopub.execute_input": "2022-02-21T08:25:32.512761Z",
     "iopub.status.busy": "2022-02-21T08:25:32.511875Z",
     "iopub.status.idle": "2022-02-21T08:25:32.514156Z",
     "shell.execute_reply": "2022-02-21T08:25:32.514653Z"
    },
    "slideshow": {
     "slide_type": "fragment"
    }
   },
   "outputs": [],
   "source": [
    "Z3_OPTIONS = '-t:6000'  # Z3 options - a soft timeout of 6000 milliseconds"
   ]
  },
  {
   "cell_type": "code",
   "execution_count": 119,
   "metadata": {
    "execution": {
     "iopub.execute_input": "2022-02-21T08:25:32.523951Z",
     "iopub.status.busy": "2022-02-21T08:25:32.523067Z",
     "iopub.status.idle": "2022-02-21T08:25:32.525108Z",
     "shell.execute_reply": "2022-02-21T08:25:32.525651Z"
    },
    "slideshow": {
     "slide_type": "subslide"
    }
   },
   "outputs": [],
   "source": [
    "def zeval_smt(path, cc, log):\n",
    "    s = cc.smt_expr(True, True, path)\n",
    "\n",
    "    with tempfile.NamedTemporaryFile(mode='w', suffix='.smt',\n",
    "                                     delete=False) as f:\n",
    "        f.write(s + \"\\n\")\n",
    "        f.write(\"(check-sat)\\n\")\n",
    "        f.write(\"(get-model)\\n\")\n",
    "\n",
    "    if log:\n",
    "        print(open(f.name).read())\n",
    "\n",
    "    cmd = f\"{Z3_BINARY} {Z3_OPTIONS} {f.name}\"\n",
    "    if log:\n",
    "        print(cmd)\n",
    "\n",
    "    output = subprocess.getoutput(cmd)\n",
    "\n",
    "    os.remove(f.name)\n",
    "\n",
    "    if log:\n",
    "        print(output)\n",
    "\n",
    "    o = parse_sexp(output)\n",
    "    if not o:\n",
    "        return 'Gave up', None\n",
    "\n",
    "    kind = o[0]\n",
    "    if kind == 'unknown':\n",
    "        return 'Gave up', None\n",
    "    elif kind == 'timeout':\n",
    "        return 'Timeout', None\n",
    "    elif kind == 'unsat':\n",
    "        return 'No Solutions', {}\n",
    "\n",
    "    assert kind == 'sat', kind\n",
    "    if o[1][0] == 'model': # up to 4.8.8.0\n",
    "        return 'sat', {i[1]: (i[-1], i[-2]) for i in o[1][1:]}\n",
    "    else:\n",
    "        return 'sat', {i[1]: (i[-1], i[-2]) for i in o[1][0:]}"
   ]
  },
  {
   "cell_type": "markdown",
   "metadata": {
    "slideshow": {
     "slide_type": "subslide"
    }
   },
   "source": [
    "We can now use `zeval()` as follows."
   ]
  },
  {
   "cell_type": "code",
   "execution_count": 120,
   "metadata": {
    "execution": {
     "iopub.execute_input": "2022-02-21T08:25:32.531927Z",
     "iopub.status.busy": "2022-02-21T08:25:32.530824Z",
     "iopub.status.idle": "2022-02-21T08:25:32.537437Z",
     "shell.execute_reply": "2022-02-21T08:25:32.537862Z"
    },
    "slideshow": {
     "slide_type": "fragment"
    }
   },
   "outputs": [],
   "source": [
    "with ConcolicTracer() as _:\n",
    "    _[factorial](5)"
   ]
  },
  {
   "cell_type": "code",
   "execution_count": 121,
   "metadata": {
    "execution": {
     "iopub.execute_input": "2022-02-21T08:25:32.542869Z",
     "iopub.status.busy": "2022-02-21T08:25:32.541994Z",
     "iopub.status.idle": "2022-02-21T08:25:32.672390Z",
     "shell.execute_reply": "2022-02-21T08:25:32.672814Z"
    },
    "slideshow": {
     "slide_type": "subslide"
    }
   },
   "outputs": [
    {
     "name": "stdout",
     "output_type": "stream",
     "text": [
      "Predicates in path:\n",
      "0 Not(0 > factorial_n_int_1)\n",
      "1 Not(0 == factorial_n_int_1)\n",
      "2 Not(1 == factorial_n_int_1)\n",
      "3 0 != factorial_n_int_1\n",
      "4 0 != factorial_n_int_1 - 1\n",
      "5 0 != factorial_n_int_1 - 1 - 1\n",
      "6 0 != factorial_n_int_1 - 1 - 1 - 1\n",
      "7 0 != factorial_n_int_1 - 1 - 1 - 1 - 1\n",
      "8 Not(0 != factorial_n_int_1 - 1 - 1 - 1 - 1 - 1)\n",
      "\n",
      "(declare-const factorial_n_int_1 Int)\n",
      "(assert (and (<= 0 factorial_n_int_1)\n",
      "     (not (= 0 factorial_n_int_1))\n",
      "     (not (= 1 factorial_n_int_1))\n",
      "     (not (= 2 factorial_n_int_1))\n",
      "     (not (= 3 factorial_n_int_1))\n",
      "     (not (= 4 factorial_n_int_1))\n",
      "     (= 5 factorial_n_int_1)))\n",
      "(check-sat)\n",
      "(get-model)\n",
      "\n",
      "z3 -t:6000 /var/folders/n2/xd9445p97rb3xh7m1dfx8_4h0006ts/T/tmp162yebwn.smt\n",
      "sat\n",
      "(\n",
      "  (define-fun factorial_n_int_1 () Int\n",
      "    5)\n",
      ")\n"
     ]
    },
    {
     "data": {
      "text/plain": [
       "('sat', {'n': ('5', 'Int')})"
      ]
     },
     "execution_count": 121,
     "metadata": {},
     "output_type": "execute_result"
    }
   ],
   "source": [
    "_.zeval(log=True)"
   ]
  },
  {
   "cell_type": "markdown",
   "metadata": {
    "slideshow": {
     "slide_type": "subslide"
    }
   },
   "source": [
    "Indeed, we get similar results (`n == 5`)  from using the command line as from using the Python API."
   ]
  },
  {
   "cell_type": "markdown",
   "metadata": {
    "slideshow": {
     "slide_type": "subslide"
    },
    "toc-hr-collapsed": true
   },
   "source": [
    "#### A Proxy Class for Strings\n",
    "\n",
    "Here, we define the proxy string class `zstr`. First we define our initialization routines. Since `str` is a primitive type, we define `new` to extend it."
   ]
  },
  {
   "cell_type": "code",
   "execution_count": 122,
   "metadata": {
    "execution": {
     "iopub.execute_input": "2022-02-21T08:25:32.677964Z",
     "iopub.status.busy": "2022-02-21T08:25:32.677374Z",
     "iopub.status.idle": "2022-02-21T08:25:32.679715Z",
     "shell.execute_reply": "2022-02-21T08:25:32.680486Z"
    },
    "slideshow": {
     "slide_type": "fragment"
    }
   },
   "outputs": [],
   "source": [
    "class zstr(str):\n",
    "    def __new__(cls, context, zn, v):\n",
    "        return str.__new__(cls, v)"
   ]
  },
  {
   "cell_type": "markdown",
   "metadata": {
    "slideshow": {
     "slide_type": "fragment"
    }
   },
   "source": [
    "As before, initialization proceeds with `create()` and the constructor."
   ]
  },
  {
   "cell_type": "code",
   "execution_count": 123,
   "metadata": {
    "execution": {
     "iopub.execute_input": "2022-02-21T08:25:32.686467Z",
     "iopub.status.busy": "2022-02-21T08:25:32.685772Z",
     "iopub.status.idle": "2022-02-21T08:25:32.688038Z",
     "shell.execute_reply": "2022-02-21T08:25:32.688852Z"
    },
    "slideshow": {
     "slide_type": "subslide"
    }
   },
   "outputs": [],
   "source": [
    "class zstr(zstr):\n",
    "    @classmethod\n",
    "    def create(cls, context, zn, v=None):\n",
    "        return zproxy_create(cls, 'String', z3.String, context, zn, v)\n",
    "\n",
    "    def __init__(self, context, z, v=None):\n",
    "        self.context, self.z, self.v = context, z, v\n",
    "        self._len = zint(context, z3.Length(z), len(v))\n",
    "        #self.context[1].append(z3.Length(z) == z3.IntVal(len(v)))"
   ]
  },
  {
   "cell_type": "markdown",
   "metadata": {
    "slideshow": {
     "slide_type": "fragment"
    }
   },
   "source": [
    "We also define `_zv()` helper to help us with methods that accept another string"
   ]
  },
  {
   "cell_type": "code",
   "execution_count": 124,
   "metadata": {
    "execution": {
     "iopub.execute_input": "2022-02-21T08:25:32.693495Z",
     "iopub.status.busy": "2022-02-21T08:25:32.692933Z",
     "iopub.status.idle": "2022-02-21T08:25:32.694949Z",
     "shell.execute_reply": "2022-02-21T08:25:32.695357Z"
    },
    "slideshow": {
     "slide_type": "fragment"
    }
   },
   "outputs": [],
   "source": [
    "class zstr(zstr):\n",
    "    def _zv(self, o):\n",
    "        return (o.z, o.v) if isinstance(o, zstr) else (z3.StringVal(o), o)"
   ]
  },
  {
   "cell_type": "markdown",
   "metadata": {
    "slideshow": {
     "slide_type": "subslide"
    }
   },
   "source": [
    "### Hack to use the ASCII value of a character."
   ]
  },
  {
   "cell_type": "markdown",
   "metadata": {
    "slideshow": {
     "slide_type": "subslide"
    }
   },
   "source": [
    "**Note:** Temporary solution; This block should go away as soon as [this commit](https://github.com/Z3Prover/z3/issues/5764)\n",
    "is released, which allows us to use the Python API directly."
   ]
  },
  {
   "cell_type": "code",
   "execution_count": 125,
   "metadata": {
    "execution": {
     "iopub.execute_input": "2022-02-21T08:25:32.705389Z",
     "iopub.status.busy": "2022-02-21T08:25:32.704709Z",
     "iopub.status.idle": "2022-02-21T08:25:32.706388Z",
     "shell.execute_reply": "2022-02-21T08:25:32.706979Z"
    },
    "slideshow": {
     "slide_type": "skip"
    }
   },
   "outputs": [],
   "source": [
    "from typing import Union, Optional, Dict, Generator, Set\n",
    "\n",
    "def visit_z3_expr(\n",
    "        e: Union[z3.ExprRef, z3.QuantifierRef],\n",
    "        seen: Optional[Dict[Union[z3.ExprRef, z3.QuantifierRef], bool]] = None) -> \\\n",
    "        Generator[Union[z3.ExprRef, z3.QuantifierRef], None, None]:\n",
    "    if seen is None:\n",
    "        seen = {}\n",
    "    elif e in seen:\n",
    "        return\n",
    "\n",
    "    seen[e] = True\n",
    "    yield e\n",
    "\n",
    "    if z3.is_app(e):\n",
    "        for ch in e.children():\n",
    "            for e in visit_z3_expr(ch, seen):\n",
    "                yield e\n",
    "        return\n",
    "\n",
    "    if z3.is_quantifier(e):\n",
    "        for e in visit_z3_expr(e.body(), seen):\n",
    "            yield e\n",
    "        return\n",
    "\n",
    "\n",
    "def is_z3_var(e: z3.ExprRef) -> bool:\n",
    "    return z3.is_const(e) and e.decl().kind() == z3.Z3_OP_UNINTERPRETED\n",
    "\n",
    "\n",
    "def get_all_vars(e: z3.ExprRef) -> Set[z3.ExprRef]:\n",
    "    return {sub for sub in visit_z3_expr(e) if is_z3_var(sub)}\n",
    "\n",
    "\n",
    "def z3_ord(str_expr: z3.SeqRef) -> z3.ArithRef:\n",
    "    return z3.parse_smt2_string(\n",
    "        f\"(assert (= 42 (str.to_code {str_expr.sexpr()})))\",\n",
    "        decls={str(c): c for c in get_all_vars(str_expr)}\n",
    "    )[0].children()[1]\n",
    "\n",
    "\n",
    "def z3_chr(int_expr: z3.ArithRef) -> z3.SeqRef:\n",
    "    return z3.parse_smt2_string(\n",
    "        f\"(assert (= \\\"4\\\" (str.from_code {int_expr.sexpr()})))\",\n",
    "        decls={str(c): c for c in get_all_vars(int_expr)}\n",
    "    )[0].children()[1]"
   ]
  },
  {
   "cell_type": "markdown",
   "metadata": {
    "slideshow": {
     "slide_type": "subslide"
    }
   },
   "source": [
    "##### Retrieving Ordinal Value\n",
    "We define `zord` that given a symbolic one character long string, obtains the `ord()` for that."
   ]
  },
  {
   "cell_type": "code",
   "execution_count": 126,
   "metadata": {
    "execution": {
     "iopub.execute_input": "2022-02-21T08:25:32.710866Z",
     "iopub.status.busy": "2022-02-21T08:25:32.710288Z",
     "iopub.status.idle": "2022-02-21T08:25:32.713055Z",
     "shell.execute_reply": "2022-02-21T08:25:32.712617Z"
    },
    "slideshow": {
     "slide_type": "fragment"
    }
   },
   "outputs": [],
   "source": [
    "def zord(context, c):\n",
    "    return z3_ord(c)"
   ]
  },
  {
   "cell_type": "markdown",
   "metadata": {
    "slideshow": {
     "slide_type": "fragment"
    }
   },
   "source": [
    "We use it as follows"
   ]
  },
  {
   "cell_type": "code",
   "execution_count": 127,
   "metadata": {
    "execution": {
     "iopub.execute_input": "2022-02-21T08:25:32.716933Z",
     "iopub.status.busy": "2022-02-21T08:25:32.716306Z",
     "iopub.status.idle": "2022-02-21T08:25:32.719739Z",
     "shell.execute_reply": "2022-02-21T08:25:32.720640Z"
    },
    "slideshow": {
     "slide_type": "fragment"
    }
   },
   "outputs": [],
   "source": [
    "zc = z3.String('arg_%d' % fresh_name())"
   ]
  },
  {
   "cell_type": "code",
   "execution_count": 128,
   "metadata": {
    "execution": {
     "iopub.execute_input": "2022-02-21T08:25:32.725813Z",
     "iopub.status.busy": "2022-02-21T08:25:32.724881Z",
     "iopub.status.idle": "2022-02-21T08:25:32.731800Z",
     "shell.execute_reply": "2022-02-21T08:25:32.732424Z"
    },
    "slideshow": {
     "slide_type": "fragment"
    }
   },
   "outputs": [],
   "source": [
    "with ConcolicTracer() as _:\n",
    "    zi = zord(_.context, zc)"
   ]
  },
  {
   "cell_type": "markdown",
   "metadata": {
    "slideshow": {
     "slide_type": "fragment"
    }
   },
   "source": [
    "No new variables are defined."
   ]
  },
  {
   "cell_type": "code",
   "execution_count": 129,
   "metadata": {
    "execution": {
     "iopub.execute_input": "2022-02-21T08:25:32.737710Z",
     "iopub.status.busy": "2022-02-21T08:25:32.736943Z",
     "iopub.status.idle": "2022-02-21T08:25:32.740240Z",
     "shell.execute_reply": "2022-02-21T08:25:32.740744Z"
    },
    "slideshow": {
     "slide_type": "fragment"
    }
   },
   "outputs": [
    {
     "data": {
      "text/plain": [
       "({}, [])"
      ]
     },
     "execution_count": 129,
     "metadata": {},
     "output_type": "execute_result"
    }
   ],
   "source": [
    "_.context"
   ]
  },
  {
   "cell_type": "markdown",
   "metadata": {
    "slideshow": {
     "slide_type": "fragment"
    }
   },
   "source": [
    "Here is the smtlib representation."
   ]
  },
  {
   "cell_type": "code",
   "execution_count": 130,
   "metadata": {
    "execution": {
     "iopub.execute_input": "2022-02-21T08:25:32.745667Z",
     "iopub.status.busy": "2022-02-21T08:25:32.744652Z",
     "iopub.status.idle": "2022-02-21T08:25:32.747890Z",
     "shell.execute_reply": "2022-02-21T08:25:32.748338Z"
    },
    "slideshow": {
     "slide_type": "fragment"
    }
   },
   "outputs": [
    {
     "data": {
      "text/plain": [
       "'(str.to_code arg_2)'"
      ]
     },
     "execution_count": 130,
     "metadata": {},
     "output_type": "execute_result"
    }
   ],
   "source": [
    "zi.sexpr()"
   ]
  },
  {
   "cell_type": "markdown",
   "metadata": {
    "slideshow": {
     "slide_type": "subslide"
    }
   },
   "source": [
    "We can specify what the result of `ord()` should be, and call `z3.solve()` to provide us with a solution that will provide the required result."
   ]
  },
  {
   "cell_type": "code",
   "execution_count": 131,
   "metadata": {
    "execution": {
     "iopub.execute_input": "2022-02-21T08:25:32.752293Z",
     "iopub.status.busy": "2022-02-21T08:25:32.751592Z",
     "iopub.status.idle": "2022-02-21T08:25:32.754875Z",
     "shell.execute_reply": "2022-02-21T08:25:32.755741Z"
    },
    "slideshow": {
     "slide_type": "fragment"
    }
   },
   "outputs": [
    {
     "data": {
      "text/plain": [
       "'(= (str.to_code arg_2) 65)'"
      ]
     },
     "execution_count": 131,
     "metadata": {},
     "output_type": "execute_result"
    }
   ],
   "source": [
    "(zi == 65).sexpr()"
   ]
  },
  {
   "cell_type": "code",
   "execution_count": 132,
   "metadata": {
    "execution": {
     "iopub.execute_input": "2022-02-21T08:25:32.759687Z",
     "iopub.status.busy": "2022-02-21T08:25:32.758957Z",
     "iopub.status.idle": "2022-02-21T08:25:32.799022Z",
     "shell.execute_reply": "2022-02-21T08:25:32.799429Z"
    },
    "slideshow": {
     "slide_type": "fragment"
    }
   },
   "outputs": [
    {
     "name": "stdout",
     "output_type": "stream",
     "text": [
      "[arg_2 = \"A\"]\n"
     ]
    }
   ],
   "source": [
    "z3.solve([zi == 65])"
   ]
  },
  {
   "cell_type": "markdown",
   "metadata": {
    "slideshow": {
     "slide_type": "subslide"
    }
   },
   "source": [
    "##### Translating an Ordinal Value to ASCII\n",
    "Similarly, we can convert the ASCII value back to a single character string using `zchr()`"
   ]
  },
  {
   "cell_type": "code",
   "execution_count": 133,
   "metadata": {
    "execution": {
     "iopub.execute_input": "2022-02-21T08:25:32.803197Z",
     "iopub.status.busy": "2022-02-21T08:25:32.802592Z",
     "iopub.status.idle": "2022-02-21T08:25:32.804772Z",
     "shell.execute_reply": "2022-02-21T08:25:32.805258Z"
    },
    "slideshow": {
     "slide_type": "fragment"
    }
   },
   "outputs": [],
   "source": [
    "def zchr(context, i):\n",
    "    return z3_chr(i)"
   ]
  },
  {
   "cell_type": "markdown",
   "metadata": {
    "slideshow": {
     "slide_type": "fragment"
    }
   },
   "source": [
    "For using it, we first define a bitvector that is 8 bits long."
   ]
  },
  {
   "cell_type": "code",
   "execution_count": 134,
   "metadata": {
    "execution": {
     "iopub.execute_input": "2022-02-21T08:25:32.810158Z",
     "iopub.status.busy": "2022-02-21T08:25:32.809591Z",
     "iopub.status.idle": "2022-02-21T08:25:32.811655Z",
     "shell.execute_reply": "2022-02-21T08:25:32.812342Z"
    },
    "slideshow": {
     "slide_type": "fragment"
    }
   },
   "outputs": [],
   "source": [
    "i = z3.Int('ival_%d' % fresh_name())"
   ]
  },
  {
   "cell_type": "markdown",
   "metadata": {
    "slideshow": {
     "slide_type": "fragment"
    }
   },
   "source": [
    "We can now retrieve the `chr()` representation as below."
   ]
  },
  {
   "cell_type": "code",
   "execution_count": 135,
   "metadata": {
    "execution": {
     "iopub.execute_input": "2022-02-21T08:25:32.817195Z",
     "iopub.status.busy": "2022-02-21T08:25:32.816603Z",
     "iopub.status.idle": "2022-02-21T08:25:32.819390Z",
     "shell.execute_reply": "2022-02-21T08:25:32.819836Z"
    },
    "slideshow": {
     "slide_type": "fragment"
    }
   },
   "outputs": [],
   "source": [
    "with ConcolicTracer() as _:\n",
    "    zc = zchr(_.context, i)"
   ]
  },
  {
   "cell_type": "markdown",
   "metadata": {
    "slideshow": {
     "slide_type": "fragment"
    }
   },
   "source": [
    "No new variables are defined."
   ]
  },
  {
   "cell_type": "code",
   "execution_count": 136,
   "metadata": {
    "execution": {
     "iopub.execute_input": "2022-02-21T08:25:32.824274Z",
     "iopub.status.busy": "2022-02-21T08:25:32.823585Z",
     "iopub.status.idle": "2022-02-21T08:25:32.826806Z",
     "shell.execute_reply": "2022-02-21T08:25:32.827268Z"
    },
    "slideshow": {
     "slide_type": "fragment"
    }
   },
   "outputs": [
    {
     "data": {
      "text/plain": [
       "({}, [])"
      ]
     },
     "execution_count": 136,
     "metadata": {},
     "output_type": "execute_result"
    }
   ],
   "source": [
    "_.context"
   ]
  },
  {
   "cell_type": "code",
   "execution_count": 137,
   "metadata": {
    "execution": {
     "iopub.execute_input": "2022-02-21T08:25:32.832125Z",
     "iopub.status.busy": "2022-02-21T08:25:32.831220Z",
     "iopub.status.idle": "2022-02-21T08:25:32.834859Z",
     "shell.execute_reply": "2022-02-21T08:25:32.835462Z"
    },
    "slideshow": {
     "slide_type": "fragment"
    }
   },
   "outputs": [
    {
     "data": {
      "text/plain": [
       "'(= (str.from_code ival_1) \"a\")'"
      ]
     },
     "execution_count": 137,
     "metadata": {},
     "output_type": "execute_result"
    }
   ],
   "source": [
    "(zc== z3.StringVal('a')).sexpr()"
   ]
  },
  {
   "cell_type": "markdown",
   "metadata": {
    "slideshow": {
     "slide_type": "subslide"
    }
   },
   "source": [
    "As before, we can specify what the end result of calling `chr()` should be to get the original argument."
   ]
  },
  {
   "cell_type": "code",
   "execution_count": 138,
   "metadata": {
    "execution": {
     "iopub.execute_input": "2022-02-21T08:25:32.840928Z",
     "iopub.status.busy": "2022-02-21T08:25:32.840177Z",
     "iopub.status.idle": "2022-02-21T08:25:32.862097Z",
     "shell.execute_reply": "2022-02-21T08:25:32.862810Z"
    },
    "slideshow": {
     "slide_type": "fragment"
    }
   },
   "outputs": [
    {
     "name": "stdout",
     "output_type": "stream",
     "text": [
      "[ival_1 = 97]\n"
     ]
    }
   ],
   "source": [
    "z3.solve([zc == z3.StringVal('a')])"
   ]
  },
  {
   "cell_type": "markdown",
   "metadata": {
    "slideshow": {
     "slide_type": "subslide"
    }
   },
   "source": [
    "##### Equality between Strings\n",
    "\n",
    "The equality of `zstr` is defined similar to that of `zint`"
   ]
  },
  {
   "cell_type": "code",
   "execution_count": 139,
   "metadata": {
    "execution": {
     "iopub.execute_input": "2022-02-21T08:25:32.868519Z",
     "iopub.status.busy": "2022-02-21T08:25:32.867297Z",
     "iopub.status.idle": "2022-02-21T08:25:32.869729Z",
     "shell.execute_reply": "2022-02-21T08:25:32.870241Z"
    },
    "slideshow": {
     "slide_type": "fragment"
    }
   },
   "outputs": [],
   "source": [
    "class zstr(zstr):\n",
    "    def __eq__(self, other):\n",
    "        z, v = self._zv(other)\n",
    "        return zbool(self.context, self.z == z, self.v == v)\n",
    "\n",
    "    def __req__(self, other):\n",
    "        return self.__eq__(other)"
   ]
  },
  {
   "cell_type": "markdown",
   "metadata": {
    "slideshow": {
     "slide_type": "fragment"
    }
   },
   "source": [
    "The `zstr` class is used as follows."
   ]
  },
  {
   "cell_type": "code",
   "execution_count": 140,
   "metadata": {
    "execution": {
     "iopub.execute_input": "2022-02-21T08:25:32.874750Z",
     "iopub.status.busy": "2022-02-21T08:25:32.873796Z",
     "iopub.status.idle": "2022-02-21T08:25:32.876410Z",
     "shell.execute_reply": "2022-02-21T08:25:32.876954Z"
    },
    "slideshow": {
     "slide_type": "subslide"
    }
   },
   "outputs": [],
   "source": [
    "def tstr1(s):\n",
    "    if s == 'h':\n",
    "        return True\n",
    "    else:\n",
    "        return False"
   ]
  },
  {
   "cell_type": "code",
   "execution_count": 141,
   "metadata": {
    "execution": {
     "iopub.execute_input": "2022-02-21T08:25:32.882390Z",
     "iopub.status.busy": "2022-02-21T08:25:32.881419Z",
     "iopub.status.idle": "2022-02-21T08:25:32.884653Z",
     "shell.execute_reply": "2022-02-21T08:25:32.885169Z"
    },
    "slideshow": {
     "slide_type": "fragment"
    }
   },
   "outputs": [],
   "source": [
    "with ConcolicTracer() as _:\n",
    "    r = _[tstr1]('h')"
   ]
  },
  {
   "cell_type": "code",
   "execution_count": 142,
   "metadata": {
    "execution": {
     "iopub.execute_input": "2022-02-21T08:25:32.891143Z",
     "iopub.status.busy": "2022-02-21T08:25:32.890210Z",
     "iopub.status.idle": "2022-02-21T08:25:32.943250Z",
     "shell.execute_reply": "2022-02-21T08:25:32.943670Z"
    },
    "slideshow": {
     "slide_type": "fragment"
    }
   },
   "outputs": [
    {
     "data": {
      "text/plain": [
       "('sat', {'s': ('h', 'String')})"
      ]
     },
     "execution_count": 142,
     "metadata": {},
     "output_type": "execute_result"
    }
   ],
   "source": [
    "_.zeval()"
   ]
  },
  {
   "cell_type": "markdown",
   "metadata": {
    "slideshow": {
     "slide_type": "fragment"
    }
   },
   "source": [
    "It works even if we have more than one character."
   ]
  },
  {
   "cell_type": "code",
   "execution_count": 143,
   "metadata": {
    "execution": {
     "iopub.execute_input": "2022-02-21T08:25:32.950990Z",
     "iopub.status.busy": "2022-02-21T08:25:32.950030Z",
     "iopub.status.idle": "2022-02-21T08:25:32.952734Z",
     "shell.execute_reply": "2022-02-21T08:25:32.953350Z"
    },
    "slideshow": {
     "slide_type": "fragment"
    }
   },
   "outputs": [],
   "source": [
    "def tstr1(s):  # type: ignore\n",
    "    if s == 'hello world':\n",
    "        return True\n",
    "    else:\n",
    "        return False"
   ]
  },
  {
   "cell_type": "code",
   "execution_count": 144,
   "metadata": {
    "execution": {
     "iopub.execute_input": "2022-02-21T08:25:32.957809Z",
     "iopub.status.busy": "2022-02-21T08:25:32.957008Z",
     "iopub.status.idle": "2022-02-21T08:25:32.960273Z",
     "shell.execute_reply": "2022-02-21T08:25:32.961022Z"
    },
    "slideshow": {
     "slide_type": "subslide"
    }
   },
   "outputs": [],
   "source": [
    "with ConcolicTracer() as _:\n",
    "    r = _[tstr1]('hello world')"
   ]
  },
  {
   "cell_type": "code",
   "execution_count": 145,
   "metadata": {
    "execution": {
     "iopub.execute_input": "2022-02-21T08:25:32.965866Z",
     "iopub.status.busy": "2022-02-21T08:25:32.965226Z",
     "iopub.status.idle": "2022-02-21T08:25:32.969874Z",
     "shell.execute_reply": "2022-02-21T08:25:32.970240Z"
    },
    "slideshow": {
     "slide_type": "fragment"
    }
   },
   "outputs": [
    {
     "data": {
      "text/plain": [
       "({'tstr1_s_str_1': 'String'}, [tstr1_s_str_1 == \"hello world\"])"
      ]
     },
     "execution_count": 145,
     "metadata": {},
     "output_type": "execute_result"
    }
   ],
   "source": [
    "_.context"
   ]
  },
  {
   "cell_type": "code",
   "execution_count": 146,
   "metadata": {
    "execution": {
     "iopub.execute_input": "2022-02-21T08:25:32.974646Z",
     "iopub.status.busy": "2022-02-21T08:25:32.973716Z",
     "iopub.status.idle": "2022-02-21T08:25:33.027664Z",
     "shell.execute_reply": "2022-02-21T08:25:33.028720Z"
    },
    "slideshow": {
     "slide_type": "fragment"
    }
   },
   "outputs": [
    {
     "data": {
      "text/plain": [
       "('sat', {'s': ('hello world', 'String')})"
      ]
     },
     "execution_count": 146,
     "metadata": {},
     "output_type": "execute_result"
    }
   ],
   "source": [
    "_.zeval()"
   ]
  },
  {
   "cell_type": "markdown",
   "metadata": {
    "slideshow": {
     "slide_type": "subslide"
    }
   },
   "source": [
    "##### Length of Strings\n",
    "\n",
    "Unfortunately, in Python, we can't override `len()` to return a new datatype. Hence, we work around that."
   ]
  },
  {
   "cell_type": "code",
   "execution_count": 147,
   "metadata": {
    "execution": {
     "iopub.execute_input": "2022-02-21T08:25:33.035959Z",
     "iopub.status.busy": "2022-02-21T08:25:33.035195Z",
     "iopub.status.idle": "2022-02-21T08:25:33.037444Z",
     "shell.execute_reply": "2022-02-21T08:25:33.037917Z"
    },
    "slideshow": {
     "slide_type": "fragment"
    }
   },
   "outputs": [],
   "source": [
    "class zstr(zstr):\n",
    "    def __len__(self):\n",
    "        raise NotImplemented()"
   ]
  },
  {
   "cell_type": "code",
   "execution_count": 148,
   "metadata": {
    "execution": {
     "iopub.execute_input": "2022-02-21T08:25:33.043580Z",
     "iopub.status.busy": "2022-02-21T08:25:33.042969Z",
     "iopub.status.idle": "2022-02-21T08:25:33.045476Z",
     "shell.execute_reply": "2022-02-21T08:25:33.044732Z"
    },
    "slideshow": {
     "slide_type": "fragment"
    }
   },
   "outputs": [],
   "source": [
    "class zstr(zstr):\n",
    "    def length(self):\n",
    "        return self._len"
   ]
  },
  {
   "cell_type": "code",
   "execution_count": 149,
   "metadata": {
    "execution": {
     "iopub.execute_input": "2022-02-21T08:25:33.051156Z",
     "iopub.status.busy": "2022-02-21T08:25:33.050390Z",
     "iopub.status.idle": "2022-02-21T08:25:33.053514Z",
     "shell.execute_reply": "2022-02-21T08:25:33.053982Z"
    },
    "slideshow": {
     "slide_type": "subslide"
    }
   },
   "outputs": [
    {
     "name": "stdout",
     "output_type": "stream",
     "text": [
      "1\n"
     ]
    }
   ],
   "source": [
    "with ConcolicTracer() as _:\n",
    "    za = zstr.create(_.context, 'str_a', \"s\")\n",
    "    if za.length() > 0:\n",
    "        print(1)"
   ]
  },
  {
   "cell_type": "code",
   "execution_count": 150,
   "metadata": {
    "execution": {
     "iopub.execute_input": "2022-02-21T08:25:33.058640Z",
     "iopub.status.busy": "2022-02-21T08:25:33.057879Z",
     "iopub.status.idle": "2022-02-21T08:25:33.062954Z",
     "shell.execute_reply": "2022-02-21T08:25:33.063395Z"
    },
    "slideshow": {
     "slide_type": "fragment"
    }
   },
   "outputs": [
    {
     "data": {
      "text/plain": [
       "({'str_a': 'String'}, [0 < Length(str_a)])"
      ]
     },
     "execution_count": 150,
     "metadata": {},
     "output_type": "execute_result"
    }
   ],
   "source": [
    "_.context"
   ]
  },
  {
   "cell_type": "code",
   "execution_count": 151,
   "metadata": {
    "execution": {
     "iopub.execute_input": "2022-02-21T08:25:33.069465Z",
     "iopub.status.busy": "2022-02-21T08:25:33.067883Z",
     "iopub.status.idle": "2022-02-21T08:25:33.071025Z",
     "shell.execute_reply": "2022-02-21T08:25:33.071654Z"
    },
    "slideshow": {
     "slide_type": "fragment"
    }
   },
   "outputs": [],
   "source": [
    "def tstr2(s):\n",
    "    if s.length() > 1:\n",
    "        return True\n",
    "    else:\n",
    "        return False"
   ]
  },
  {
   "cell_type": "code",
   "execution_count": 152,
   "metadata": {
    "execution": {
     "iopub.execute_input": "2022-02-21T08:25:33.076618Z",
     "iopub.status.busy": "2022-02-21T08:25:33.075826Z",
     "iopub.status.idle": "2022-02-21T08:25:33.079003Z",
     "shell.execute_reply": "2022-02-21T08:25:33.079715Z"
    },
    "slideshow": {
     "slide_type": "fragment"
    }
   },
   "outputs": [],
   "source": [
    "with ConcolicTracer() as _:\n",
    "    r = _[tstr2]('hello world')"
   ]
  },
  {
   "cell_type": "code",
   "execution_count": 153,
   "metadata": {
    "execution": {
     "iopub.execute_input": "2022-02-21T08:25:33.087814Z",
     "iopub.status.busy": "2022-02-21T08:25:33.086656Z",
     "iopub.status.idle": "2022-02-21T08:25:33.091496Z",
     "shell.execute_reply": "2022-02-21T08:25:33.091981Z"
    },
    "slideshow": {
     "slide_type": "subslide"
    }
   },
   "outputs": [
    {
     "data": {
      "text/plain": [
       "({'tstr2_s_str_1': 'String'}, [1 < Length(tstr2_s_str_1)])"
      ]
     },
     "execution_count": 153,
     "metadata": {},
     "output_type": "execute_result"
    }
   ],
   "source": [
    "_.context"
   ]
  },
  {
   "cell_type": "code",
   "execution_count": 154,
   "metadata": {
    "execution": {
     "iopub.execute_input": "2022-02-21T08:25:33.096746Z",
     "iopub.status.busy": "2022-02-21T08:25:33.095914Z",
     "iopub.status.idle": "2022-02-21T08:25:33.161836Z",
     "shell.execute_reply": "2022-02-21T08:25:33.162421Z"
    },
    "slideshow": {
     "slide_type": "subslide"
    }
   },
   "outputs": [
    {
     "name": "stdout",
     "output_type": "stream",
     "text": [
      "Predicates in path:\n",
      "0 1 < Length(tstr2_s_str_1)\n",
      "\n",
      "(declare-const tstr2_s_str_1 String)\n",
      "(assert (not (<= (str.len tstr2_s_str_1) 1)))\n",
      "(check-sat)\n",
      "(get-model)\n",
      "\n",
      "z3 -t:6000 /var/folders/n2/xd9445p97rb3xh7m1dfx8_4h0006ts/T/tmpd4f4wb71.smt\n",
      "sat\n",
      "(\n",
      "  (define-fun tstr2_s_str_1 () String\n",
      "    \"AB\")\n",
      ")\n"
     ]
    },
    {
     "data": {
      "text/plain": [
       "('sat', {'s': ('AB', 'String')})"
      ]
     },
     "execution_count": 154,
     "metadata": {},
     "output_type": "execute_result"
    }
   ],
   "source": [
    "_.zeval(log=True)"
   ]
  },
  {
   "cell_type": "markdown",
   "metadata": {
    "slideshow": {
     "slide_type": "subslide"
    }
   },
   "source": [
    "##### Concatenation of Strings\n",
    "What if we need to concatenate two strings? We need additional helpers to accomplish that."
   ]
  },
  {
   "cell_type": "code",
   "execution_count": 155,
   "metadata": {
    "execution": {
     "iopub.execute_input": "2022-02-21T08:25:33.168495Z",
     "iopub.status.busy": "2022-02-21T08:25:33.167776Z",
     "iopub.status.idle": "2022-02-21T08:25:33.169589Z",
     "shell.execute_reply": "2022-02-21T08:25:33.170016Z"
    },
    "slideshow": {
     "slide_type": "fragment"
    }
   },
   "outputs": [],
   "source": [
    "class zstr(zstr):\n",
    "    def __add__(self, other):\n",
    "        z, v = self._zv(other)\n",
    "        return zstr(self.context, self.z + z, self.v + v)\n",
    "\n",
    "    def __radd__(self, other):\n",
    "        return self.__add__(other)"
   ]
  },
  {
   "cell_type": "markdown",
   "metadata": {
    "slideshow": {
     "slide_type": "fragment"
    }
   },
   "source": [
    "Here is how it can be used. First, we create the wrapped arguments"
   ]
  },
  {
   "cell_type": "code",
   "execution_count": 156,
   "metadata": {
    "execution": {
     "iopub.execute_input": "2022-02-21T08:25:33.176575Z",
     "iopub.status.busy": "2022-02-21T08:25:33.175541Z",
     "iopub.status.idle": "2022-02-21T08:25:33.179665Z",
     "shell.execute_reply": "2022-02-21T08:25:33.180150Z"
    },
    "slideshow": {
     "slide_type": "subslide"
    }
   },
   "outputs": [
    {
     "name": "stdout",
     "output_type": "stream",
     "text": [
      "hello world\n"
     ]
    }
   ],
   "source": [
    "with ConcolicTracer() as _:\n",
    "    v1, v2 = [zstr.create(_.context, 'arg_%d' % fresh_name(), s)\n",
    "              for s in ['hello', 'world']]\n",
    "    if (v1 + ' ' + v2) == 'hello world':\n",
    "        print('hello world')"
   ]
  },
  {
   "cell_type": "markdown",
   "metadata": {
    "slideshow": {
     "slide_type": "fragment"
    }
   },
   "source": [
    "The addition of symbolic variables is preserved in `context`"
   ]
  },
  {
   "cell_type": "code",
   "execution_count": 157,
   "metadata": {
    "execution": {
     "iopub.execute_input": "2022-02-21T08:25:33.184428Z",
     "iopub.status.busy": "2022-02-21T08:25:33.183843Z",
     "iopub.status.idle": "2022-02-21T08:25:33.188577Z",
     "shell.execute_reply": "2022-02-21T08:25:33.189200Z"
    },
    "slideshow": {
     "slide_type": "fragment"
    }
   },
   "outputs": [
    {
     "data": {
      "text/plain": [
       "({'arg_1': 'String', 'arg_2': 'String'},\n",
       " [Concat(Concat(arg_1, \" \"), arg_2) == \"hello world\"])"
      ]
     },
     "execution_count": 157,
     "metadata": {},
     "output_type": "execute_result"
    }
   ],
   "source": [
    "_.context"
   ]
  },
  {
   "cell_type": "markdown",
   "metadata": {
    "slideshow": {
     "slide_type": "subslide"
    }
   },
   "source": [
    "##### Producing Substrings\n",
    "Similarly, accessing substrings also require extra help."
   ]
  },
  {
   "cell_type": "code",
   "execution_count": 158,
   "metadata": {
    "execution": {
     "iopub.execute_input": "2022-02-21T08:25:33.195919Z",
     "iopub.status.busy": "2022-02-21T08:25:33.195263Z",
     "iopub.status.idle": "2022-02-21T08:25:33.198463Z",
     "shell.execute_reply": "2022-02-21T08:25:33.197719Z"
    },
    "slideshow": {
     "slide_type": "subslide"
    }
   },
   "outputs": [],
   "source": [
    "class zstr(zstr):\n",
    "    def __getitem__(self, idx):\n",
    "        if isinstance(idx, slice):\n",
    "            start, stop, step = idx.indices(len(self.v))\n",
    "            assert step == 1  # for now\n",
    "            assert stop >= start  # for now\n",
    "            rz = z3.SubString(self.z, start, stop - start)\n",
    "            rv = self.v[idx]\n",
    "        elif isinstance(idx, int):\n",
    "            rz = z3.SubString(self.z, idx, 1)\n",
    "            rv = self.v[idx]\n",
    "        else:\n",
    "            assert False  # for now\n",
    "        return zstr(self.context, rz, rv)\n",
    "\n",
    "    def __iter__(self):\n",
    "        return zstr_iterator(self.context, self)"
   ]
  },
  {
   "cell_type": "markdown",
   "metadata": {
    "slideshow": {
     "slide_type": "subslide"
    }
   },
   "source": [
    "##### An Iterator Class for Strings\n",
    "\n",
    "We define the iterator as follows."
   ]
  },
  {
   "cell_type": "code",
   "execution_count": 159,
   "metadata": {
    "execution": {
     "iopub.execute_input": "2022-02-21T08:25:33.203976Z",
     "iopub.status.busy": "2022-02-21T08:25:33.203393Z",
     "iopub.status.idle": "2022-02-21T08:25:33.205320Z",
     "shell.execute_reply": "2022-02-21T08:25:33.205963Z"
    },
    "slideshow": {
     "slide_type": "subslide"
    }
   },
   "outputs": [],
   "source": [
    "class zstr_iterator():\n",
    "    def __init__(self, context, zstr):\n",
    "        self.context = context\n",
    "        self._zstr = zstr\n",
    "        self._str_idx = 0\n",
    "        self._str_max = zstr._len  # intz is not an _int_\n",
    "\n",
    "    def __next__(self):\n",
    "        if self._str_idx == self._str_max:  # intz#eq\n",
    "            raise StopIteration\n",
    "        c = self._zstr[self._str_idx]\n",
    "        self._str_idx += 1\n",
    "        return c\n",
    "\n",
    "    def __len__(self):\n",
    "        return self._len"
   ]
  },
  {
   "cell_type": "markdown",
   "metadata": {
    "slideshow": {
     "slide_type": "subslide"
    }
   },
   "source": [
    "Here is how it can be used."
   ]
  },
  {
   "cell_type": "code",
   "execution_count": 160,
   "metadata": {
    "execution": {
     "iopub.execute_input": "2022-02-21T08:25:33.210755Z",
     "iopub.status.busy": "2022-02-21T08:25:33.209988Z",
     "iopub.status.idle": "2022-02-21T08:25:33.212679Z",
     "shell.execute_reply": "2022-02-21T08:25:33.213797Z"
    },
    "slideshow": {
     "slide_type": "fragment"
    }
   },
   "outputs": [],
   "source": [
    "def tstr3(s):\n",
    "    if s[0] == 'h' and s[1] == 'e' and s[3] == 'l':\n",
    "        return True\n",
    "    else:\n",
    "        return False"
   ]
  },
  {
   "cell_type": "code",
   "execution_count": 161,
   "metadata": {
    "execution": {
     "iopub.execute_input": "2022-02-21T08:25:33.220193Z",
     "iopub.status.busy": "2022-02-21T08:25:33.219387Z",
     "iopub.status.idle": "2022-02-21T08:25:33.222845Z",
     "shell.execute_reply": "2022-02-21T08:25:33.223670Z"
    },
    "slideshow": {
     "slide_type": "fragment"
    }
   },
   "outputs": [],
   "source": [
    "with ConcolicTracer() as _:\n",
    "    r = _[tstr3]('hello')"
   ]
  },
  {
   "cell_type": "markdown",
   "metadata": {
    "slideshow": {
     "slide_type": "fragment"
    }
   },
   "source": [
    "Again, the context shows predicates encountered."
   ]
  },
  {
   "cell_type": "code",
   "execution_count": 162,
   "metadata": {
    "execution": {
     "iopub.execute_input": "2022-02-21T08:25:33.229649Z",
     "iopub.status.busy": "2022-02-21T08:25:33.228648Z",
     "iopub.status.idle": "2022-02-21T08:25:33.235805Z",
     "shell.execute_reply": "2022-02-21T08:25:33.236225Z"
    },
    "slideshow": {
     "slide_type": "fragment"
    }
   },
   "outputs": [
    {
     "data": {
      "text/plain": [
       "({'tstr3_s_str_1': 'String'},\n",
       " [str.substr(tstr3_s_str_1, 0, 1) == \"h\",\n",
       "  str.substr(tstr3_s_str_1, 1, 1) == \"e\",\n",
       "  str.substr(tstr3_s_str_1, 3, 1) == \"l\"])"
      ]
     },
     "execution_count": 162,
     "metadata": {},
     "output_type": "execute_result"
    }
   ],
   "source": [
    "_.context"
   ]
  },
  {
   "cell_type": "markdown",
   "metadata": {
    "slideshow": {
     "slide_type": "subslide"
    }
   },
   "source": [
    "The function `zeval()` returns a solution for the predicate. Note that the value returned is not exactly the argument that we passed in. This is a consequence of the predicates we have. That is, we have no constraints on what the character value on `s[2]` should be."
   ]
  },
  {
   "cell_type": "code",
   "execution_count": 163,
   "metadata": {
    "execution": {
     "iopub.execute_input": "2022-02-21T08:25:33.241043Z",
     "iopub.status.busy": "2022-02-21T08:25:33.240195Z",
     "iopub.status.idle": "2022-02-21T08:25:33.293960Z",
     "shell.execute_reply": "2022-02-21T08:25:33.294434Z"
    },
    "slideshow": {
     "slide_type": "fragment"
    }
   },
   "outputs": [
    {
     "data": {
      "text/plain": [
       "('sat', {'s': ('heAl', 'String')})"
      ]
     },
     "execution_count": 163,
     "metadata": {},
     "output_type": "execute_result"
    }
   ],
   "source": [
    "_.zeval()"
   ]
  },
  {
   "cell_type": "markdown",
   "metadata": {
    "slideshow": {
     "slide_type": "subslide"
    }
   },
   "source": [
    "##### Translating to Upper and Lower Equivalents\n",
    "\n",
    "A major complication is supporting `upper()` and `lower()` methods. We use the previously defined `zchr()` and `zord()` functions to accomplish this."
   ]
  },
  {
   "cell_type": "code",
   "execution_count": 164,
   "metadata": {
    "execution": {
     "iopub.execute_input": "2022-02-21T08:25:33.304145Z",
     "iopub.status.busy": "2022-02-21T08:25:33.303382Z",
     "iopub.status.idle": "2022-02-21T08:25:33.306458Z",
     "shell.execute_reply": "2022-02-21T08:25:33.305714Z"
    },
    "slideshow": {
     "slide_type": "subslide"
    }
   },
   "outputs": [],
   "source": [
    "class zstr(zstr):\n",
    "    def upper(self):\n",
    "        empty = ''\n",
    "        ne = 'empty_%d' % fresh_name()\n",
    "        result = zstr.create(self.context, ne, empty)\n",
    "        self.context[1].append(z3.StringVal(empty) == result.z)\n",
    "        cdiff = (ord('a') - ord('A'))\n",
    "        for i in self:\n",
    "            oz = zord(self.context, i.z)\n",
    "            uz = zchr(self.context, oz - cdiff)\n",
    "            rz = z3.And([oz >= ord('a'), oz <= ord('z')])\n",
    "            ov = ord(i.v)\n",
    "            uv = chr(ov - cdiff)\n",
    "            rv = ov >= ord('a') and ov <= ord('z')\n",
    "            if zbool(self.context, rz, rv):\n",
    "                i = zstr(self.context, uz, uv)\n",
    "            else:\n",
    "                i = zstr(self.context, i.z, i.v)\n",
    "            result += i\n",
    "        return result"
   ]
  },
  {
   "cell_type": "markdown",
   "metadata": {
    "slideshow": {
     "slide_type": "subslide"
    }
   },
   "source": [
    "The `lower()` function is similar to `upper()` except that the character ranges are switched, and the lowercase is above uppercase. Hence, we add the difference to the ordinal to make a character to lowercase."
   ]
  },
  {
   "cell_type": "code",
   "execution_count": 165,
   "metadata": {
    "execution": {
     "iopub.execute_input": "2022-02-21T08:25:33.314705Z",
     "iopub.status.busy": "2022-02-21T08:25:33.313698Z",
     "iopub.status.idle": "2022-02-21T08:25:33.316157Z",
     "shell.execute_reply": "2022-02-21T08:25:33.316642Z"
    },
    "slideshow": {
     "slide_type": "subslide"
    }
   },
   "outputs": [],
   "source": [
    "class zstr(zstr):\n",
    "    def lower(self):\n",
    "        empty = ''\n",
    "        ne = 'empty_%d' % fresh_name()\n",
    "        result = zstr.create(self.context, ne, empty)\n",
    "        self.context[1].append(z3.StringVal(empty) == result.z)\n",
    "        cdiff = (ord('a') - ord('A'))\n",
    "        for i in self:\n",
    "            oz = zord(self.context, i.z)\n",
    "            uz = zchr(self.context, oz + cdiff)\n",
    "            rz = z3.And([oz >= ord('A'), oz <= ord('Z')])\n",
    "            ov = ord(i.v)\n",
    "            uv = chr(ov + cdiff)\n",
    "            rv = ov >= ord('A') and ov <= ord('Z')\n",
    "            if zbool(self.context, rz, rv):\n",
    "                i = zstr(self.context, uz, uv)\n",
    "            else:\n",
    "                i = zstr(self.context, i.z, i.v)\n",
    "            result += i\n",
    "        return result"
   ]
  },
  {
   "cell_type": "markdown",
   "metadata": {
    "slideshow": {
     "slide_type": "subslide"
    }
   },
   "source": [
    "Here is how `upper()` is used."
   ]
  },
  {
   "cell_type": "code",
   "execution_count": 166,
   "metadata": {
    "execution": {
     "iopub.execute_input": "2022-02-21T08:25:33.321020Z",
     "iopub.status.busy": "2022-02-21T08:25:33.320438Z",
     "iopub.status.idle": "2022-02-21T08:25:33.322177Z",
     "shell.execute_reply": "2022-02-21T08:25:33.322711Z"
    },
    "slideshow": {
     "slide_type": "fragment"
    }
   },
   "outputs": [],
   "source": [
    "def tstr4(s):\n",
    "    if s.upper() == 'H':\n",
    "        return True\n",
    "    else:\n",
    "        return False"
   ]
  },
  {
   "cell_type": "code",
   "execution_count": 167,
   "metadata": {
    "execution": {
     "iopub.execute_input": "2022-02-21T08:25:33.327176Z",
     "iopub.status.busy": "2022-02-21T08:25:33.326610Z",
     "iopub.status.idle": "2022-02-21T08:25:33.333985Z",
     "shell.execute_reply": "2022-02-21T08:25:33.334461Z"
    },
    "slideshow": {
     "slide_type": "fragment"
    }
   },
   "outputs": [],
   "source": [
    "with ConcolicTracer() as _:\n",
    "    r = _[tstr4]('h')"
   ]
  },
  {
   "cell_type": "markdown",
   "metadata": {
    "slideshow": {
     "slide_type": "fragment"
    }
   },
   "source": [
    "Again, we use `zeval()` to solve the collected constraints, and verify that our constraints are correct. "
   ]
  },
  {
   "cell_type": "code",
   "execution_count": 168,
   "metadata": {
    "execution": {
     "iopub.execute_input": "2022-02-21T08:25:33.339131Z",
     "iopub.status.busy": "2022-02-21T08:25:33.338216Z",
     "iopub.status.idle": "2022-02-21T08:25:33.399349Z",
     "shell.execute_reply": "2022-02-21T08:25:33.399788Z"
    },
    "slideshow": {
     "slide_type": "fragment"
    }
   },
   "outputs": [
    {
     "data": {
      "text/plain": [
       "('sat', {'s': ('h', 'String')})"
      ]
     },
     "execution_count": 168,
     "metadata": {},
     "output_type": "execute_result"
    }
   ],
   "source": [
    "_.zeval()"
   ]
  },
  {
   "cell_type": "markdown",
   "metadata": {
    "slideshow": {
     "slide_type": "fragment"
    }
   },
   "source": [
    "Here is a larger example using `lower()`:"
   ]
  },
  {
   "cell_type": "code",
   "execution_count": 169,
   "metadata": {
    "execution": {
     "iopub.execute_input": "2022-02-21T08:25:33.405460Z",
     "iopub.status.busy": "2022-02-21T08:25:33.404845Z",
     "iopub.status.idle": "2022-02-21T08:25:33.406462Z",
     "shell.execute_reply": "2022-02-21T08:25:33.406861Z"
    },
    "slideshow": {
     "slide_type": "subslide"
    }
   },
   "outputs": [],
   "source": [
    "def tstr5(s):\n",
    "    if s.lower() == 'hello world':\n",
    "        return True\n",
    "    else:\n",
    "        return False"
   ]
  },
  {
   "cell_type": "code",
   "execution_count": 170,
   "metadata": {
    "execution": {
     "iopub.execute_input": "2022-02-21T08:25:33.410881Z",
     "iopub.status.busy": "2022-02-21T08:25:33.410146Z",
     "iopub.status.idle": "2022-02-21T08:25:33.439997Z",
     "shell.execute_reply": "2022-02-21T08:25:33.440491Z"
    },
    "slideshow": {
     "slide_type": "fragment"
    }
   },
   "outputs": [],
   "source": [
    "with ConcolicTracer() as _:\n",
    "    r = _[tstr5]('Hello World')"
   ]
  },
  {
   "cell_type": "code",
   "execution_count": 171,
   "metadata": {
    "execution": {
     "iopub.execute_input": "2022-02-21T08:25:33.444724Z",
     "iopub.status.busy": "2022-02-21T08:25:33.444029Z",
     "iopub.status.idle": "2022-02-21T08:25:33.578622Z",
     "shell.execute_reply": "2022-02-21T08:25:33.579220Z"
    },
    "slideshow": {
     "slide_type": "fragment"
    }
   },
   "outputs": [
    {
     "data": {
      "text/plain": [
       "('sat', {'s': ('Hello World', 'String')})"
      ]
     },
     "execution_count": 171,
     "metadata": {},
     "output_type": "execute_result"
    }
   ],
   "source": [
    "_.zeval()"
   ]
  },
  {
   "cell_type": "markdown",
   "metadata": {
    "slideshow": {
     "slide_type": "fragment"
    }
   },
   "source": [
    "Again, we obtain the right input value."
   ]
  },
  {
   "cell_type": "markdown",
   "metadata": {
    "slideshow": {
     "slide_type": "subslide"
    }
   },
   "source": [
    "##### Checking for String Prefixes\n",
    "We define `startswith()`."
   ]
  },
  {
   "cell_type": "code",
   "execution_count": 172,
   "metadata": {
    "execution": {
     "iopub.execute_input": "2022-02-21T08:25:33.589273Z",
     "iopub.status.busy": "2022-02-21T08:25:33.588461Z",
     "iopub.status.idle": "2022-02-21T08:25:33.590367Z",
     "shell.execute_reply": "2022-02-21T08:25:33.590909Z"
    },
    "slideshow": {
     "slide_type": "subslide"
    }
   },
   "outputs": [],
   "source": [
    "class zstr(zstr):\n",
    "    def startswith(self, other, beg=0, end=None):\n",
    "        assert end is None  # for now\n",
    "        assert isinstance(beg, int)  # for now\n",
    "        zb = z3.IntVal(beg)\n",
    "\n",
    "        others = other if isinstance(other, tuple) else (other, )\n",
    "\n",
    "        last = False\n",
    "        for o in others:\n",
    "            z, v = self._zv(o)\n",
    "            r = z3.IndexOf(self.z, z, zb)\n",
    "            last = zbool(self.context, r == zb, self.v.startswith(v))\n",
    "            if last:\n",
    "                return last\n",
    "        return last"
   ]
  },
  {
   "cell_type": "markdown",
   "metadata": {
    "slideshow": {
     "slide_type": "subslide"
    }
   },
   "source": [
    "An example."
   ]
  },
  {
   "cell_type": "code",
   "execution_count": 173,
   "metadata": {
    "execution": {
     "iopub.execute_input": "2022-02-21T08:25:33.596222Z",
     "iopub.status.busy": "2022-02-21T08:25:33.595157Z",
     "iopub.status.idle": "2022-02-21T08:25:33.597478Z",
     "shell.execute_reply": "2022-02-21T08:25:33.598010Z"
    },
    "slideshow": {
     "slide_type": "fragment"
    }
   },
   "outputs": [],
   "source": [
    "def tstr6(s):\n",
    "    if s.startswith('hello'):\n",
    "        return True\n",
    "    else:\n",
    "        return False"
   ]
  },
  {
   "cell_type": "code",
   "execution_count": 174,
   "metadata": {
    "execution": {
     "iopub.execute_input": "2022-02-21T08:25:33.603004Z",
     "iopub.status.busy": "2022-02-21T08:25:33.602234Z",
     "iopub.status.idle": "2022-02-21T08:25:33.605379Z",
     "shell.execute_reply": "2022-02-21T08:25:33.605822Z"
    },
    "slideshow": {
     "slide_type": "fragment"
    }
   },
   "outputs": [],
   "source": [
    "with ConcolicTracer() as _:\n",
    "    r = _[tstr6]('hello world')"
   ]
  },
  {
   "cell_type": "code",
   "execution_count": 175,
   "metadata": {
    "execution": {
     "iopub.execute_input": "2022-02-21T08:25:33.609713Z",
     "iopub.status.busy": "2022-02-21T08:25:33.609080Z",
     "iopub.status.idle": "2022-02-21T08:25:33.664726Z",
     "shell.execute_reply": "2022-02-21T08:25:33.665543Z"
    },
    "slideshow": {
     "slide_type": "fragment"
    }
   },
   "outputs": [
    {
     "data": {
      "text/plain": [
       "('sat', {'s': ('helloAhello', 'String')})"
      ]
     },
     "execution_count": 175,
     "metadata": {},
     "output_type": "execute_result"
    }
   ],
   "source": [
    "_.zeval()"
   ]
  },
  {
   "cell_type": "code",
   "execution_count": 176,
   "metadata": {
    "execution": {
     "iopub.execute_input": "2022-02-21T08:25:33.671995Z",
     "iopub.status.busy": "2022-02-21T08:25:33.671198Z",
     "iopub.status.idle": "2022-02-21T08:25:33.674098Z",
     "shell.execute_reply": "2022-02-21T08:25:33.674616Z"
    },
    "slideshow": {
     "slide_type": "fragment"
    }
   },
   "outputs": [],
   "source": [
    "with ConcolicTracer() as _:\n",
    "    r = _[tstr6]('my world')"
   ]
  },
  {
   "cell_type": "code",
   "execution_count": 177,
   "metadata": {
    "execution": {
     "iopub.execute_input": "2022-02-21T08:25:33.680501Z",
     "iopub.status.busy": "2022-02-21T08:25:33.679486Z",
     "iopub.status.idle": "2022-02-21T08:25:33.737658Z",
     "shell.execute_reply": "2022-02-21T08:25:33.738707Z"
    },
    "slideshow": {
     "slide_type": "fragment"
    }
   },
   "outputs": [
    {
     "data": {
      "text/plain": [
       "('sat', {'s': ('', 'String')})"
      ]
     },
     "execution_count": 177,
     "metadata": {},
     "output_type": "execute_result"
    }
   ],
   "source": [
    "_.zeval()"
   ]
  },
  {
   "cell_type": "markdown",
   "metadata": {
    "slideshow": {
     "slide_type": "subslide"
    }
   },
   "source": [
    "As before, the predicates only ensure that the `startswith()` returned a true value. Hence, our solution reflects that."
   ]
  },
  {
   "cell_type": "markdown",
   "metadata": {
    "slideshow": {
     "slide_type": "subslide"
    }
   },
   "source": [
    "##### Finding Substrings\n",
    "We also define `find()`"
   ]
  },
  {
   "cell_type": "code",
   "execution_count": 178,
   "metadata": {
    "execution": {
     "iopub.execute_input": "2022-02-21T08:25:33.747700Z",
     "iopub.status.busy": "2022-02-21T08:25:33.746591Z",
     "iopub.status.idle": "2022-02-21T08:25:33.750050Z",
     "shell.execute_reply": "2022-02-21T08:25:33.749316Z"
    },
    "slideshow": {
     "slide_type": "fragment"
    }
   },
   "outputs": [],
   "source": [
    "class zstr(zstr):\n",
    "    def find(self, other, beg=0, end=None):\n",
    "        assert end is None  # for now\n",
    "        assert isinstance(beg, int)  # for now\n",
    "        zb = z3.IntVal(beg)\n",
    "        z, v = self._zv(other)\n",
    "        zi = z3.IndexOf(self.z, z, zb)\n",
    "        vi = self.v.find(v, beg, end)\n",
    "        return zint(self.context, zi, vi)"
   ]
  },
  {
   "cell_type": "markdown",
   "metadata": {
    "slideshow": {
     "slide_type": "fragment"
    }
   },
   "source": [
    "An example."
   ]
  },
  {
   "cell_type": "code",
   "execution_count": 179,
   "metadata": {
    "execution": {
     "iopub.execute_input": "2022-02-21T08:25:33.755803Z",
     "iopub.status.busy": "2022-02-21T08:25:33.755140Z",
     "iopub.status.idle": "2022-02-21T08:25:33.756888Z",
     "shell.execute_reply": "2022-02-21T08:25:33.757598Z"
    },
    "slideshow": {
     "slide_type": "subslide"
    }
   },
   "outputs": [],
   "source": [
    "def tstr7(s):\n",
    "    if s.find('world') != -1:\n",
    "        return True\n",
    "    else:\n",
    "        return False"
   ]
  },
  {
   "cell_type": "code",
   "execution_count": 180,
   "metadata": {
    "execution": {
     "iopub.execute_input": "2022-02-21T08:25:33.762329Z",
     "iopub.status.busy": "2022-02-21T08:25:33.761216Z",
     "iopub.status.idle": "2022-02-21T08:25:33.764744Z",
     "shell.execute_reply": "2022-02-21T08:25:33.765159Z"
    },
    "slideshow": {
     "slide_type": "fragment"
    }
   },
   "outputs": [],
   "source": [
    "with ConcolicTracer() as _:\n",
    "    r = _[tstr7]('hello world')"
   ]
  },
  {
   "cell_type": "code",
   "execution_count": 181,
   "metadata": {
    "execution": {
     "iopub.execute_input": "2022-02-21T08:25:33.770644Z",
     "iopub.status.busy": "2022-02-21T08:25:33.769791Z",
     "iopub.status.idle": "2022-02-21T08:25:33.826367Z",
     "shell.execute_reply": "2022-02-21T08:25:33.826969Z"
    },
    "slideshow": {
     "slide_type": "fragment"
    }
   },
   "outputs": [
    {
     "data": {
      "text/plain": [
       "('sat', {'s': ('worldAworld', 'String')})"
      ]
     },
     "execution_count": 181,
     "metadata": {},
     "output_type": "execute_result"
    }
   ],
   "source": [
    "_.zeval()"
   ]
  },
  {
   "cell_type": "markdown",
   "metadata": {
    "slideshow": {
     "slide_type": "fragment"
    }
   },
   "source": [
    "As before, the predicates only ensure that the `find()` returned a value greater than -1. Hence, our solution reflects that."
   ]
  },
  {
   "cell_type": "markdown",
   "metadata": {
    "slideshow": {
     "slide_type": "subslide"
    }
   },
   "source": [
    "##### Remove Space from Ends"
   ]
  },
  {
   "cell_type": "markdown",
   "metadata": {
    "slideshow": {
     "slide_type": "fragment"
    }
   },
   "source": [
    "We next implement `strip()`."
   ]
  },
  {
   "cell_type": "code",
   "execution_count": 182,
   "metadata": {
    "execution": {
     "iopub.execute_input": "2022-02-21T08:25:33.833719Z",
     "iopub.status.busy": "2022-02-21T08:25:33.832935Z",
     "iopub.status.idle": "2022-02-21T08:25:33.835117Z",
     "shell.execute_reply": "2022-02-21T08:25:33.835804Z"
    },
    "slideshow": {
     "slide_type": "skip"
    }
   },
   "outputs": [],
   "source": [
    "import string"
   ]
  },
  {
   "cell_type": "code",
   "execution_count": 183,
   "metadata": {
    "execution": {
     "iopub.execute_input": "2022-02-21T08:25:33.844465Z",
     "iopub.status.busy": "2022-02-21T08:25:33.843728Z",
     "iopub.status.idle": "2022-02-21T08:25:33.845723Z",
     "shell.execute_reply": "2022-02-21T08:25:33.846150Z"
    },
    "slideshow": {
     "slide_type": "subslide"
    }
   },
   "outputs": [],
   "source": [
    "class zstr(zstr):\n",
    "    def rstrip(self, chars=None):\n",
    "        if chars is None:\n",
    "            chars = string.whitespace\n",
    "        if self._len == 0:\n",
    "            return self\n",
    "        else:\n",
    "            last_idx = self._len - 1\n",
    "            cz = z3.SubString(self.z, last_idx.z, 1)\n",
    "            cv = self.v[-1]\n",
    "            zcheck_space = z3.Or([cz == z3.StringVal(char) for char in chars])\n",
    "            vcheck_space = any(cv == char for char in chars)\n",
    "            if zbool(self.context, zcheck_space, vcheck_space):\n",
    "                return zstr(self.context, z3.SubString(self.z, 0, last_idx.z),\n",
    "                            self.v[0:-1]).rstrip(chars)\n",
    "            else:\n",
    "                return self"
   ]
  },
  {
   "cell_type": "code",
   "execution_count": 184,
   "metadata": {
    "execution": {
     "iopub.execute_input": "2022-02-21T08:25:33.851772Z",
     "iopub.status.busy": "2022-02-21T08:25:33.850933Z",
     "iopub.status.idle": "2022-02-21T08:25:33.853079Z",
     "shell.execute_reply": "2022-02-21T08:25:33.853568Z"
    },
    "slideshow": {
     "slide_type": "subslide"
    }
   },
   "outputs": [],
   "source": [
    "def tstr8(s):\n",
    "    if s.rstrip(' ') == 'a b':\n",
    "        return True\n",
    "    else:\n",
    "        return False"
   ]
  },
  {
   "cell_type": "code",
   "execution_count": 185,
   "metadata": {
    "execution": {
     "iopub.execute_input": "2022-02-21T08:25:33.857679Z",
     "iopub.status.busy": "2022-02-21T08:25:33.856938Z",
     "iopub.status.idle": "2022-02-21T08:25:33.863819Z",
     "shell.execute_reply": "2022-02-21T08:25:33.863237Z"
    },
    "slideshow": {
     "slide_type": "fragment"
    }
   },
   "outputs": [
    {
     "name": "stdout",
     "output_type": "stream",
     "text": [
      "True\n"
     ]
    }
   ],
   "source": [
    "with ConcolicTracer() as _:\n",
    "    r = _[tstr8]('a b   ')\n",
    "    print(r)"
   ]
  },
  {
   "cell_type": "code",
   "execution_count": 186,
   "metadata": {
    "execution": {
     "iopub.execute_input": "2022-02-21T08:25:33.868914Z",
     "iopub.status.busy": "2022-02-21T08:25:33.867856Z",
     "iopub.status.idle": "2022-02-21T08:25:33.929412Z",
     "shell.execute_reply": "2022-02-21T08:25:33.930230Z"
    },
    "slideshow": {
     "slide_type": "fragment"
    }
   },
   "outputs": [
    {
     "data": {
      "text/plain": [
       "('sat', {'s': ('a b   ', 'String')})"
      ]
     },
     "execution_count": 186,
     "metadata": {},
     "output_type": "execute_result"
    }
   ],
   "source": [
    "_.zeval()"
   ]
  },
  {
   "cell_type": "code",
   "execution_count": 187,
   "metadata": {
    "execution": {
     "iopub.execute_input": "2022-02-21T08:25:33.940674Z",
     "iopub.status.busy": "2022-02-21T08:25:33.939588Z",
     "iopub.status.idle": "2022-02-21T08:25:33.941916Z",
     "shell.execute_reply": "2022-02-21T08:25:33.942326Z"
    },
    "slideshow": {
     "slide_type": "subslide"
    }
   },
   "outputs": [],
   "source": [
    "class zstr(zstr):\n",
    "    def lstrip(self, chars=None):\n",
    "        if chars is None:\n",
    "            chars = string.whitespace\n",
    "        if self._len == 0:\n",
    "            return self\n",
    "        else:\n",
    "            first_idx = 0\n",
    "            cz = z3.SubString(self.z, 0, 1)\n",
    "            cv = self.v[0]\n",
    "            zcheck_space = z3.Or([cz == z3.StringVal(char) for char in chars])\n",
    "            vcheck_space = any(cv == char for char in chars)\n",
    "            if zbool(self.context, zcheck_space, vcheck_space):\n",
    "                return zstr(self.context, z3.SubString(\n",
    "                    self.z, 1, self._len.z), self.v[1:]).lstrip(chars)\n",
    "            else:\n",
    "                return self"
   ]
  },
  {
   "cell_type": "code",
   "execution_count": 188,
   "metadata": {
    "execution": {
     "iopub.execute_input": "2022-02-21T08:25:33.946716Z",
     "iopub.status.busy": "2022-02-21T08:25:33.946070Z",
     "iopub.status.idle": "2022-02-21T08:25:33.947903Z",
     "shell.execute_reply": "2022-02-21T08:25:33.948461Z"
    },
    "slideshow": {
     "slide_type": "subslide"
    }
   },
   "outputs": [],
   "source": [
    "def tstr9(s):\n",
    "    if s.lstrip(' ') == 'a b':\n",
    "        return True\n",
    "    else:\n",
    "        return False"
   ]
  },
  {
   "cell_type": "code",
   "execution_count": 189,
   "metadata": {
    "execution": {
     "iopub.execute_input": "2022-02-21T08:25:33.953602Z",
     "iopub.status.busy": "2022-02-21T08:25:33.952888Z",
     "iopub.status.idle": "2022-02-21T08:25:33.957686Z",
     "shell.execute_reply": "2022-02-21T08:25:33.958095Z"
    },
    "slideshow": {
     "slide_type": "fragment"
    }
   },
   "outputs": [
    {
     "name": "stdout",
     "output_type": "stream",
     "text": [
      "True\n"
     ]
    }
   ],
   "source": [
    "with ConcolicTracer() as _:\n",
    "    r = _[tstr9]('   a b')\n",
    "    print(r)"
   ]
  },
  {
   "cell_type": "code",
   "execution_count": 190,
   "metadata": {
    "execution": {
     "iopub.execute_input": "2022-02-21T08:25:33.962137Z",
     "iopub.status.busy": "2022-02-21T08:25:33.961429Z",
     "iopub.status.idle": "2022-02-21T08:25:34.018075Z",
     "shell.execute_reply": "2022-02-21T08:25:34.018647Z"
    },
    "slideshow": {
     "slide_type": "fragment"
    }
   },
   "outputs": [
    {
     "data": {
      "text/plain": [
       "('sat', {'s': ('   a b', 'String')})"
      ]
     },
     "execution_count": 190,
     "metadata": {},
     "output_type": "execute_result"
    }
   ],
   "source": [
    "_.zeval()"
   ]
  },
  {
   "cell_type": "code",
   "execution_count": 191,
   "metadata": {
    "execution": {
     "iopub.execute_input": "2022-02-21T08:25:34.023606Z",
     "iopub.status.busy": "2022-02-21T08:25:34.022982Z",
     "iopub.status.idle": "2022-02-21T08:25:34.024946Z",
     "shell.execute_reply": "2022-02-21T08:25:34.025389Z"
    },
    "slideshow": {
     "slide_type": "fragment"
    }
   },
   "outputs": [],
   "source": [
    "class zstr(zstr):\n",
    "    def strip(self, chars=None):\n",
    "        return self.lstrip(chars).rstrip(chars)"
   ]
  },
  {
   "cell_type": "markdown",
   "metadata": {
    "slideshow": {
     "slide_type": "subslide"
    }
   },
   "source": [
    "Example usage."
   ]
  },
  {
   "cell_type": "code",
   "execution_count": 192,
   "metadata": {
    "execution": {
     "iopub.execute_input": "2022-02-21T08:25:34.032568Z",
     "iopub.status.busy": "2022-02-21T08:25:34.031787Z",
     "iopub.status.idle": "2022-02-21T08:25:34.034129Z",
     "shell.execute_reply": "2022-02-21T08:25:34.034841Z"
    },
    "slideshow": {
     "slide_type": "fragment"
    }
   },
   "outputs": [],
   "source": [
    "def tstr10(s):\n",
    "    if s.strip() == 'a b':\n",
    "        return True\n",
    "    else:\n",
    "        return False"
   ]
  },
  {
   "cell_type": "code",
   "execution_count": 193,
   "metadata": {
    "execution": {
     "iopub.execute_input": "2022-02-21T08:25:34.039733Z",
     "iopub.status.busy": "2022-02-21T08:25:34.038856Z",
     "iopub.status.idle": "2022-02-21T08:25:34.053373Z",
     "shell.execute_reply": "2022-02-21T08:25:34.053891Z"
    },
    "slideshow": {
     "slide_type": "fragment"
    }
   },
   "outputs": [
    {
     "name": "stdout",
     "output_type": "stream",
     "text": [
      "True\n"
     ]
    }
   ],
   "source": [
    "with ConcolicTracer() as _:\n",
    "    r = _[tstr10]('    a b  ')\n",
    "    print(r)"
   ]
  },
  {
   "cell_type": "code",
   "execution_count": 194,
   "metadata": {
    "execution": {
     "iopub.execute_input": "2022-02-21T08:25:34.058634Z",
     "iopub.status.busy": "2022-02-21T08:25:34.057821Z",
     "iopub.status.idle": "2022-02-21T08:25:34.129305Z",
     "shell.execute_reply": "2022-02-21T08:25:34.129832Z"
    },
    "slideshow": {
     "slide_type": "fragment"
    }
   },
   "outputs": [
    {
     "data": {
      "text/plain": [
       "('sat', {'s': ('\\\\u{a}\\\\u{a}\\\\u{9}\\\\u{a}a b\\\\u{c}\\\\u{d}', 'String')})"
      ]
     },
     "execution_count": 194,
     "metadata": {},
     "output_type": "execute_result"
    }
   ],
   "source": [
    "_.zeval()"
   ]
  },
  {
   "cell_type": "markdown",
   "metadata": {
    "slideshow": {
     "slide_type": "fragment"
    }
   },
   "source": [
    "The `strip()` has generated the right constraints. "
   ]
  },
  {
   "cell_type": "markdown",
   "metadata": {
    "slideshow": {
     "slide_type": "subslide"
    }
   },
   "source": [
    "##### Splitting Strings\n",
    "\n",
    "We implement string `split()` as follows."
   ]
  },
  {
   "cell_type": "code",
   "execution_count": 195,
   "metadata": {
    "execution": {
     "iopub.execute_input": "2022-02-21T08:25:34.138554Z",
     "iopub.status.busy": "2022-02-21T08:25:34.137779Z",
     "iopub.status.idle": "2022-02-21T08:25:34.139767Z",
     "shell.execute_reply": "2022-02-21T08:25:34.140231Z"
    },
    "slideshow": {
     "slide_type": "subslide"
    }
   },
   "outputs": [],
   "source": [
    "class zstr(zstr):\n",
    "    def split(self, sep=None, maxsplit=-1):\n",
    "        assert sep is not None  # default space based split is complicated\n",
    "        assert maxsplit == -1  # for now.\n",
    "        zsep = z3.StringVal(sep)\n",
    "        zl = z3.Length(zsep)\n",
    "        # zi would be the length of prefix\n",
    "        zi = z3.IndexOf(self.z, zsep, z3.IntVal(0))\n",
    "        # Z3Bug: There is a bug in the `z3.IndexOf` method which returns\n",
    "        # `z3.SeqRef` instead of `z3.ArithRef`. So we need to fix it.\n",
    "        zi = z3.ArithRef(zi.ast, zi.ctx)\n",
    "\n",
    "        vi = self.v.find(sep)\n",
    "        if zbool(self.context, zi >= z3.IntVal(0), vi >= 0):\n",
    "            zprefix = z3.SubString(self.z, z3.IntVal(0), zi)\n",
    "            zmid = z3.SubString(self.z, zi, zl)\n",
    "            zsuffix = z3.SubString(self.z, zi + zl,\n",
    "                                   z3.Length(self.z))\n",
    "            return [zstr(self.context, zprefix, self.v[0:vi])] + zstr(\n",
    "                self.context, zsuffix, self.v[vi + len(sep):]).split(\n",
    "                    sep, maxsplit)\n",
    "        else:\n",
    "            return [self]"
   ]
  },
  {
   "cell_type": "code",
   "execution_count": 196,
   "metadata": {
    "execution": {
     "iopub.execute_input": "2022-02-21T08:25:34.144794Z",
     "iopub.status.busy": "2022-02-21T08:25:34.143850Z",
     "iopub.status.idle": "2022-02-21T08:25:34.146139Z",
     "shell.execute_reply": "2022-02-21T08:25:34.146732Z"
    },
    "slideshow": {
     "slide_type": "subslide"
    }
   },
   "outputs": [],
   "source": [
    "def tstr11(s):\n",
    "    if s.split(',') == ['a', 'b', 'c']:\n",
    "        return True\n",
    "    else:\n",
    "        return False"
   ]
  },
  {
   "cell_type": "code",
   "execution_count": 197,
   "metadata": {
    "execution": {
     "iopub.execute_input": "2022-02-21T08:25:34.150712Z",
     "iopub.status.busy": "2022-02-21T08:25:34.150088Z",
     "iopub.status.idle": "2022-02-21T08:25:34.155528Z",
     "shell.execute_reply": "2022-02-21T08:25:34.156063Z"
    },
    "slideshow": {
     "slide_type": "fragment"
    }
   },
   "outputs": [
    {
     "name": "stdout",
     "output_type": "stream",
     "text": [
      "True\n"
     ]
    }
   ],
   "source": [
    "with ConcolicTracer() as _:\n",
    "    r = _[tstr11]('a,b,c')\n",
    "    print(r)"
   ]
  },
  {
   "cell_type": "code",
   "execution_count": 198,
   "metadata": {
    "execution": {
     "iopub.execute_input": "2022-02-21T08:25:34.160389Z",
     "iopub.status.busy": "2022-02-21T08:25:34.159538Z",
     "iopub.status.idle": "2022-02-21T08:25:34.255368Z",
     "shell.execute_reply": "2022-02-21T08:25:34.256215Z"
    },
    "slideshow": {
     "slide_type": "fragment"
    }
   },
   "outputs": [
    {
     "data": {
      "text/plain": [
       "('sat', {'s': ('a,b,c', 'String')})"
      ]
     },
     "execution_count": 198,
     "metadata": {},
     "output_type": "execute_result"
    }
   ],
   "source": [
    "_.zeval()"
   ]
  },
  {
   "cell_type": "markdown",
   "metadata": {
    "slideshow": {
     "slide_type": "subslide"
    }
   },
   "source": [
    "##### Trip Wire\n",
    "\n",
    "For easier debugging, we abort any calls to methods in `str` that are not overridden by `zstr`."
   ]
  },
  {
   "cell_type": "code",
   "execution_count": 199,
   "metadata": {
    "execution": {
     "iopub.execute_input": "2022-02-21T08:25:34.261815Z",
     "iopub.status.busy": "2022-02-21T08:25:34.261078Z",
     "iopub.status.idle": "2022-02-21T08:25:34.263669Z",
     "shell.execute_reply": "2022-02-21T08:25:34.263115Z"
    },
    "slideshow": {
     "slide_type": "fragment"
    }
   },
   "outputs": [],
   "source": [
    "def make_str_abort_wrapper(fun):\n",
    "    def proxy(*args, **kwargs):\n",
    "        raise Exception('%s Not implemented in `zstr`' % fun.__name__)\n",
    "    return proxy"
   ]
  },
  {
   "cell_type": "code",
   "execution_count": 200,
   "metadata": {
    "execution": {
     "iopub.execute_input": "2022-02-21T08:25:34.270244Z",
     "iopub.status.busy": "2022-02-21T08:25:34.269565Z",
     "iopub.status.idle": "2022-02-21T08:25:34.271391Z",
     "shell.execute_reply": "2022-02-21T08:25:34.271944Z"
    },
    "slideshow": {
     "slide_type": "subslide"
    }
   },
   "outputs": [],
   "source": [
    "def init_concolic_3():\n",
    "    strmembers = inspect.getmembers(zstr, callable)\n",
    "    zstrmembers = {m[0] for m in strmembers if len(\n",
    "        m) == 2 and 'zstr' in m[1].__qualname__}\n",
    "    for name, fn in inspect.getmembers(str, callable):\n",
    "        # Omitted 'splitlines' as this is needed for formatting output in\n",
    "        # IPython/Jupyter\n",
    "        if name not in zstrmembers and name not in [\n",
    "            'splitlines',\n",
    "            '__class__',\n",
    "            '__contains__',\n",
    "            '__delattr__',\n",
    "            '__dir__',\n",
    "            '__format__',\n",
    "            '__ge__',\n",
    "            '__getattribute__',\n",
    "            '__getnewargs__',\n",
    "            '__gt__',\n",
    "            '__hash__',\n",
    "            '__le__',\n",
    "            '__len__',\n",
    "            '__lt__',\n",
    "            '__mod__',\n",
    "            '__mul__',\n",
    "            '__ne__',\n",
    "            '__reduce__',\n",
    "            '__reduce_ex__',\n",
    "            '__repr__',\n",
    "            '__rmod__',\n",
    "            '__rmul__',\n",
    "            '__setattr__',\n",
    "            '__sizeof__',\n",
    "                '__str__']:\n",
    "            setattr(zstr, name, make_str_abort_wrapper(fn))"
   ]
  },
  {
   "cell_type": "code",
   "execution_count": 201,
   "metadata": {
    "execution": {
     "iopub.execute_input": "2022-02-21T08:25:34.277093Z",
     "iopub.status.busy": "2022-02-21T08:25:34.276410Z",
     "iopub.status.idle": "2022-02-21T08:25:34.278604Z",
     "shell.execute_reply": "2022-02-21T08:25:34.279197Z"
    },
    "slideshow": {
     "slide_type": "subslide"
    }
   },
   "outputs": [],
   "source": [
    "INITIALIZER_LIST.append(init_concolic_3)"
   ]
  },
  {
   "cell_type": "code",
   "execution_count": 202,
   "metadata": {
    "execution": {
     "iopub.execute_input": "2022-02-21T08:25:34.283877Z",
     "iopub.status.busy": "2022-02-21T08:25:34.283292Z",
     "iopub.status.idle": "2022-02-21T08:25:34.284970Z",
     "shell.execute_reply": "2022-02-21T08:25:34.285370Z"
    },
    "slideshow": {
     "slide_type": "fragment"
    },
    "tags": []
   },
   "outputs": [],
   "source": [
    "init_concolic_3()"
   ]
  },
  {
   "cell_type": "markdown",
   "metadata": {
    "slideshow": {
     "slide_type": "subslide"
    }
   },
   "source": [
    "### End of Excursion"
   ]
  },
  {
   "cell_type": "markdown",
   "metadata": {
    "slideshow": {
     "slide_type": "subslide"
    }
   },
   "source": [
    "### Example: Triangle\n",
    "\n",
    "We previously showed how to run `triangle()` under `ConcolicTracer`."
   ]
  },
  {
   "cell_type": "code",
   "execution_count": 203,
   "metadata": {
    "execution": {
     "iopub.execute_input": "2022-02-21T08:25:34.290185Z",
     "iopub.status.busy": "2022-02-21T08:25:34.289560Z",
     "iopub.status.idle": "2022-02-21T08:25:34.293541Z",
     "shell.execute_reply": "2022-02-21T08:25:34.293136Z"
    },
    "slideshow": {
     "slide_type": "fragment"
    }
   },
   "outputs": [
    {
     "name": "stdout",
     "output_type": "stream",
     "text": [
      "scalene\n"
     ]
    }
   ],
   "source": [
    "with ConcolicTracer() as _:\n",
    "    print(_[triangle](1, 2, 3))"
   ]
  },
  {
   "cell_type": "markdown",
   "metadata": {
    "slideshow": {
     "slide_type": "fragment"
    }
   },
   "source": [
    "The symbolic variables are as follows:"
   ]
  },
  {
   "cell_type": "code",
   "execution_count": 204,
   "metadata": {
    "execution": {
     "iopub.execute_input": "2022-02-21T08:25:34.298042Z",
     "iopub.status.busy": "2022-02-21T08:25:34.297390Z",
     "iopub.status.idle": "2022-02-21T08:25:34.299943Z",
     "shell.execute_reply": "2022-02-21T08:25:34.300682Z"
    },
    "slideshow": {
     "slide_type": "fragment"
    },
    "tags": []
   },
   "outputs": [
    {
     "data": {
      "text/plain": [
       "{'triangle_a_int_1': 'Int',\n",
       " 'triangle_b_int_2': 'Int',\n",
       " 'triangle_c_int_3': 'Int'}"
      ]
     },
     "execution_count": 204,
     "metadata": {},
     "output_type": "execute_result"
    }
   ],
   "source": [
    "_.decls"
   ]
  },
  {
   "cell_type": "markdown",
   "metadata": {
    "slideshow": {
     "slide_type": "fragment"
    }
   },
   "source": [
    "The predicates are as follows:"
   ]
  },
  {
   "cell_type": "code",
   "execution_count": 205,
   "metadata": {
    "execution": {
     "iopub.execute_input": "2022-02-21T08:25:34.305588Z",
     "iopub.status.busy": "2022-02-21T08:25:34.304861Z",
     "iopub.status.idle": "2022-02-21T08:25:34.310400Z",
     "shell.execute_reply": "2022-02-21T08:25:34.310859Z"
    },
    "slideshow": {
     "slide_type": "subslide"
    }
   },
   "outputs": [
    {
     "data": {
      "text/plain": [
       "[Not(triangle_a_int_1 == triangle_b_int_2),\n",
       " Not(triangle_b_int_2 == triangle_c_int_3),\n",
       " Not(triangle_a_int_1 == triangle_c_int_3)]"
      ]
     },
     "execution_count": 205,
     "metadata": {},
     "output_type": "execute_result"
    }
   ],
   "source": [
    "_.path"
   ]
  },
  {
   "cell_type": "markdown",
   "metadata": {
    "slideshow": {
     "slide_type": "fragment"
    }
   },
   "source": [
    "Using `zeval()`, we solve these path conditions and obtain a solution. We find that Z3 gives us three distinct integer values:"
   ]
  },
  {
   "cell_type": "code",
   "execution_count": 206,
   "metadata": {
    "execution": {
     "iopub.execute_input": "2022-02-21T08:25:34.315679Z",
     "iopub.status.busy": "2022-02-21T08:25:34.315087Z",
     "iopub.status.idle": "2022-02-21T08:25:34.364355Z",
     "shell.execute_reply": "2022-02-21T08:25:34.364902Z"
    },
    "slideshow": {
     "slide_type": "fragment"
    }
   },
   "outputs": [
    {
     "data": {
      "text/plain": [
       "('sat',\n",
       " {'a': ('0', 'Int'), 'b': (['-', '2'], 'Int'), 'c': (['-', '1'], 'Int')})"
      ]
     },
     "execution_count": 206,
     "metadata": {},
     "output_type": "execute_result"
    }
   ],
   "source": [
    "_.zeval()"
   ]
  },
  {
   "cell_type": "markdown",
   "metadata": {
    "slideshow": {
     "slide_type": "fragment"
    }
   },
   "source": [
    "(Note that some of the values may be negative. Indeed, `triangle()` works with negative length values, too, even if real triangles only have positive lengths.)"
   ]
  },
  {
   "cell_type": "markdown",
   "metadata": {
    "slideshow": {
     "slide_type": "fragment"
    }
   },
   "source": [
    "If we invoke `triangle()` with these very values, we take the _exact same path_ as the original input:"
   ]
  },
  {
   "cell_type": "code",
   "execution_count": 207,
   "metadata": {
    "execution": {
     "iopub.execute_input": "2022-02-21T08:25:34.372532Z",
     "iopub.status.busy": "2022-02-21T08:25:34.371754Z",
     "iopub.status.idle": "2022-02-21T08:25:34.375680Z",
     "shell.execute_reply": "2022-02-21T08:25:34.376121Z"
    },
    "slideshow": {
     "slide_type": "subslide"
    }
   },
   "outputs": [
    {
     "data": {
      "text/plain": [
       "'scalene'"
      ]
     },
     "execution_count": 207,
     "metadata": {},
     "output_type": "execute_result"
    }
   ],
   "source": [
    "triangle(0, -2, -1)"
   ]
  },
  {
   "cell_type": "markdown",
   "metadata": {
    "slideshow": {
     "slide_type": "fragment"
    }
   },
   "source": [
    "We can have z3 _negate_ individual conditions – and thus take different paths.\n",
    "First, we retrieve the symbolic variables."
   ]
  },
  {
   "cell_type": "code",
   "execution_count": 208,
   "metadata": {
    "execution": {
     "iopub.execute_input": "2022-02-21T08:25:34.382617Z",
     "iopub.status.busy": "2022-02-21T08:25:34.381671Z",
     "iopub.status.idle": "2022-02-21T08:25:34.384801Z",
     "shell.execute_reply": "2022-02-21T08:25:34.385412Z"
    },
    "slideshow": {
     "slide_type": "fragment"
    }
   },
   "outputs": [],
   "source": [
    "za, zb, zc = [z3.Int(s) for s in _.decls.keys()]"
   ]
  },
  {
   "cell_type": "code",
   "execution_count": 209,
   "metadata": {
    "execution": {
     "iopub.execute_input": "2022-02-21T08:25:34.391630Z",
     "iopub.status.busy": "2022-02-21T08:25:34.390900Z",
     "iopub.status.idle": "2022-02-21T08:25:34.395230Z",
     "shell.execute_reply": "2022-02-21T08:25:34.395848Z"
    },
    "slideshow": {
     "slide_type": "fragment"
    }
   },
   "outputs": [
    {
     "data": {
      "text/plain": [
       "(triangle_a_int_1, triangle_b_int_2, triangle_c_int_3)"
      ]
     },
     "execution_count": 209,
     "metadata": {},
     "output_type": "execute_result"
    }
   ],
   "source": [
    "za, zb, zc"
   ]
  },
  {
   "cell_type": "markdown",
   "metadata": {
    "slideshow": {
     "slide_type": "fragment"
    }
   },
   "source": [
    "Then, we pass a negated predicate to `zeval()`. The key (here: `1`) determines which predicate the new predicate will replace."
   ]
  },
  {
   "cell_type": "code",
   "execution_count": 210,
   "metadata": {
    "execution": {
     "iopub.execute_input": "2022-02-21T08:25:34.401317Z",
     "iopub.status.busy": "2022-02-21T08:25:34.400558Z",
     "iopub.status.idle": "2022-02-21T08:25:34.453939Z",
     "shell.execute_reply": "2022-02-21T08:25:34.454372Z"
    },
    "slideshow": {
     "slide_type": "fragment"
    }
   },
   "outputs": [
    {
     "data": {
      "text/plain": [
       "('sat', {'a': ('1', 'Int'), 'b': ('0', 'Int'), 'c': ('0', 'Int')})"
      ]
     },
     "execution_count": 210,
     "metadata": {},
     "output_type": "execute_result"
    }
   ],
   "source": [
    "_.zeval({1: zb == zc})"
   ]
  },
  {
   "cell_type": "code",
   "execution_count": 211,
   "metadata": {
    "execution": {
     "iopub.execute_input": "2022-02-21T08:25:34.460693Z",
     "iopub.status.busy": "2022-02-21T08:25:34.459960Z",
     "iopub.status.idle": "2022-02-21T08:25:34.463392Z",
     "shell.execute_reply": "2022-02-21T08:25:34.463796Z"
    },
    "slideshow": {
     "slide_type": "fragment"
    }
   },
   "outputs": [
    {
     "data": {
      "text/plain": [
       "'isosceles'"
      ]
     },
     "execution_count": 211,
     "metadata": {},
     "output_type": "execute_result"
    }
   ],
   "source": [
    "triangle(1, 0, 1)"
   ]
  },
  {
   "cell_type": "markdown",
   "metadata": {
    "slideshow": {
     "slide_type": "subslide"
    }
   },
   "source": [
    "The updated predicate returns `isosceles` as expected. By negating further conditions, we can systematically explore all branches in `triangle()`."
   ]
  },
  {
   "cell_type": "markdown",
   "metadata": {
    "slideshow": {
     "slide_type": "subslide"
    }
   },
   "source": [
    "### Example: Decoding CGI Strings"
   ]
  },
  {
   "cell_type": "markdown",
   "metadata": {
    "slideshow": {
     "slide_type": "fragment"
    }
   },
   "source": [
    "Let us apply `ConcolicTracer` on our example program `cgi_decode()` from the [chapter on coverage](Coverage.ipynb). Note that we need to rewrite its code slightly, as the hash lookups in `hex_values` can not be used for transferring constraints yet."
   ]
  },
  {
   "cell_type": "code",
   "execution_count": 212,
   "metadata": {
    "execution": {
     "iopub.execute_input": "2022-02-21T08:25:34.474599Z",
     "iopub.status.busy": "2022-02-21T08:25:34.473766Z",
     "iopub.status.idle": "2022-02-21T08:25:34.475991Z",
     "shell.execute_reply": "2022-02-21T08:25:34.476409Z"
    },
    "slideshow": {
     "slide_type": "subslide"
    }
   },
   "outputs": [],
   "source": [
    "def cgi_decode(s):\n",
    "    \"\"\"Decode the CGI-encoded string `s`:\n",
    "       * replace \"+\" by \" \"\n",
    "       * replace \"%xx\" by the character with hex number xx.\n",
    "       Return the decoded string.  Raise `ValueError` for invalid inputs.\"\"\"\n",
    "\n",
    "    # Mapping of hex digits to their integer values\n",
    "    hex_values = {\n",
    "        '0': 0, '1': 1, '2': 2, '3': 3, '4': 4,\n",
    "        '5': 5, '6': 6, '7': 7, '8': 8, '9': 9,\n",
    "        'a': 10, 'b': 11, 'c': 12, 'd': 13, 'e': 14, 'f': 15,\n",
    "        'A': 10, 'B': 11, 'C': 12, 'D': 13, 'E': 14, 'F': 15,\n",
    "    }\n",
    "\n",
    "    t = ''\n",
    "    i = 0\n",
    "    while i < s.length():\n",
    "        c = s[i]\n",
    "        if c == '+':\n",
    "            t += ' '\n",
    "        elif c == '%':\n",
    "            digit_high, digit_low = s[i + 1], s[i + 2]\n",
    "            i = i + 2\n",
    "            found = 0\n",
    "            v = 0\n",
    "            for key in hex_values:\n",
    "                if key == digit_high:\n",
    "                    found = found + 1\n",
    "                    v = hex_values[key] * 16\n",
    "                    break\n",
    "            for key in hex_values:\n",
    "                if key == digit_low:\n",
    "                    found = found + 1\n",
    "                    v = v + hex_values[key]\n",
    "                    break\n",
    "            if found == 2:\n",
    "                if v >= 128:\n",
    "                    # z3.StringVal(urllib.parse.unquote('%80')) <-- bug in z3\n",
    "                    raise ValueError(\"Invalid encoding\")\n",
    "                t = t + chr(v)\n",
    "            else:\n",
    "                raise ValueError(\"Invalid encoding\")\n",
    "        else:\n",
    "            t = t + c\n",
    "        i = i + 1\n",
    "    return t"
   ]
  },
  {
   "cell_type": "code",
   "execution_count": 213,
   "metadata": {
    "execution": {
     "iopub.execute_input": "2022-02-21T08:25:34.481743Z",
     "iopub.status.busy": "2022-02-21T08:25:34.480889Z",
     "iopub.status.idle": "2022-02-21T08:25:34.484518Z",
     "shell.execute_reply": "2022-02-21T08:25:34.485058Z"
    },
    "slideshow": {
     "slide_type": "subslide"
    }
   },
   "outputs": [],
   "source": [
    "with ConcolicTracer() as _:\n",
    "    _[cgi_decode]('')"
   ]
  },
  {
   "cell_type": "code",
   "execution_count": 214,
   "metadata": {
    "execution": {
     "iopub.execute_input": "2022-02-21T08:25:34.491190Z",
     "iopub.status.busy": "2022-02-21T08:25:34.490524Z",
     "iopub.status.idle": "2022-02-21T08:25:34.494989Z",
     "shell.execute_reply": "2022-02-21T08:25:34.495487Z"
    },
    "slideshow": {
     "slide_type": "fragment"
    }
   },
   "outputs": [
    {
     "data": {
      "text/plain": [
       "({'cgi_decode_s_str_1': 'String'}, [Not(0 < Length(cgi_decode_s_str_1))])"
      ]
     },
     "execution_count": 214,
     "metadata": {},
     "output_type": "execute_result"
    }
   ],
   "source": [
    "_.context"
   ]
  },
  {
   "cell_type": "code",
   "execution_count": 215,
   "metadata": {
    "execution": {
     "iopub.execute_input": "2022-02-21T08:25:34.499846Z",
     "iopub.status.busy": "2022-02-21T08:25:34.498936Z",
     "iopub.status.idle": "2022-02-21T08:25:34.504758Z",
     "shell.execute_reply": "2022-02-21T08:25:34.505184Z"
    },
    "slideshow": {
     "slide_type": "fragment"
    }
   },
   "outputs": [],
   "source": [
    "with ConcolicTracer() as _:\n",
    "    _[cgi_decode]('a%20d')"
   ]
  },
  {
   "cell_type": "markdown",
   "metadata": {
    "slideshow": {
     "slide_type": "fragment"
    }
   },
   "source": [
    "Once executed, we can retrieve the symbolic variables in the `decls` attribute. This is a mapping of symbolic variables to types."
   ]
  },
  {
   "cell_type": "code",
   "execution_count": 216,
   "metadata": {
    "execution": {
     "iopub.execute_input": "2022-02-21T08:25:34.510364Z",
     "iopub.status.busy": "2022-02-21T08:25:34.509185Z",
     "iopub.status.idle": "2022-02-21T08:25:34.513873Z",
     "shell.execute_reply": "2022-02-21T08:25:34.514402Z"
    },
    "slideshow": {
     "slide_type": "fragment"
    }
   },
   "outputs": [
    {
     "data": {
      "text/plain": [
       "{'cgi_decode_s_str_1': 'String'}"
      ]
     },
     "execution_count": 216,
     "metadata": {},
     "output_type": "execute_result"
    }
   ],
   "source": [
    "_.decls"
   ]
  },
  {
   "cell_type": "markdown",
   "metadata": {
    "slideshow": {
     "slide_type": "fragment"
    }
   },
   "source": [
    "The extracted path conditions can be found in the `path` attribute:"
   ]
  },
  {
   "cell_type": "code",
   "execution_count": 217,
   "metadata": {
    "execution": {
     "iopub.execute_input": "2022-02-21T08:25:34.519223Z",
     "iopub.status.busy": "2022-02-21T08:25:34.518475Z",
     "iopub.status.idle": "2022-02-21T08:25:34.533803Z",
     "shell.execute_reply": "2022-02-21T08:25:34.533199Z"
    },
    "slideshow": {
     "slide_type": "subslide"
    }
   },
   "outputs": [
    {
     "data": {
      "text/plain": [
       "[0 < Length(cgi_decode_s_str_1),\n",
       " Not(str.substr(cgi_decode_s_str_1, 0, 1) == \"+\"),\n",
       " Not(str.substr(cgi_decode_s_str_1, 0, 1) == \"%\"),\n",
       " 1 < Length(cgi_decode_s_str_1),\n",
       " Not(str.substr(cgi_decode_s_str_1, 1, 1) == \"+\"),\n",
       " str.substr(cgi_decode_s_str_1, 1, 1) == \"%\",\n",
       " Not(str.substr(cgi_decode_s_str_1, 2, 1) == \"0\"),\n",
       " Not(str.substr(cgi_decode_s_str_1, 2, 1) == \"1\"),\n",
       " str.substr(cgi_decode_s_str_1, 2, 1) == \"2\",\n",
       " str.substr(cgi_decode_s_str_1, 3, 1) == \"0\",\n",
       " 4 < Length(cgi_decode_s_str_1),\n",
       " Not(str.substr(cgi_decode_s_str_1, 4, 1) == \"+\"),\n",
       " Not(str.substr(cgi_decode_s_str_1, 4, 1) == \"%\"),\n",
       " Not(5 < Length(cgi_decode_s_str_1))]"
      ]
     },
     "execution_count": 217,
     "metadata": {},
     "output_type": "execute_result"
    }
   ],
   "source": [
    "_.path"
   ]
  },
  {
   "cell_type": "markdown",
   "metadata": {
    "slideshow": {
     "slide_type": "subslide"
    }
   },
   "source": [
    "The `context` attribute holds a pair of `decls` and `path` attributes; this is useful for passing it into the `ConcolicTracer` constructor."
   ]
  },
  {
   "cell_type": "code",
   "execution_count": 218,
   "metadata": {
    "execution": {
     "iopub.execute_input": "2022-02-21T08:25:34.539759Z",
     "iopub.status.busy": "2022-02-21T08:25:34.539063Z",
     "iopub.status.idle": "2022-02-21T08:25:34.540515Z",
     "shell.execute_reply": "2022-02-21T08:25:34.541214Z"
    },
    "slideshow": {
     "slide_type": "fragment"
    }
   },
   "outputs": [],
   "source": [
    "assert _.context == (_.decls, _.path)"
   ]
  },
  {
   "cell_type": "markdown",
   "metadata": {
    "slideshow": {
     "slide_type": "fragment"
    }
   },
   "source": [
    "We can solve these constraints to obtain a value for the function parameters that follow the same path as the original (traced) invocation:"
   ]
  },
  {
   "cell_type": "code",
   "execution_count": 219,
   "metadata": {
    "execution": {
     "iopub.execute_input": "2022-02-21T08:25:34.545530Z",
     "iopub.status.busy": "2022-02-21T08:25:34.544637Z",
     "iopub.status.idle": "2022-02-21T08:25:34.604251Z",
     "shell.execute_reply": "2022-02-21T08:25:34.605231Z"
    },
    "slideshow": {
     "slide_type": "fragment"
    }
   },
   "outputs": [
    {
     "data": {
      "text/plain": [
       "('sat', {'s': ('A%20B', 'String')})"
      ]
     },
     "execution_count": 219,
     "metadata": {},
     "output_type": "execute_result"
    }
   ],
   "source": [
    "_.zeval()"
   ]
  },
  {
   "cell_type": "markdown",
   "metadata": {
    "slideshow": {
     "slide_type": "fragment"
    }
   },
   "source": [
    "_Negating_ some of these constraints will yield different paths taken, and thus greater code coverage. This is what our concolic fuzzers (see later) do. Let us go and negate the first constraint, namely that the first character should _not_ be a `+` character:"
   ]
  },
  {
   "cell_type": "code",
   "execution_count": 220,
   "metadata": {
    "execution": {
     "iopub.execute_input": "2022-02-21T08:25:34.610888Z",
     "iopub.status.busy": "2022-02-21T08:25:34.610096Z",
     "iopub.status.idle": "2022-02-21T08:25:34.616085Z",
     "shell.execute_reply": "2022-02-21T08:25:34.616670Z"
    },
    "slideshow": {
     "slide_type": "fragment"
    }
   },
   "outputs": [
    {
     "data": {
      "text/html": [
       "0 &lt; Length(cgi_decode_s_str_1)"
      ],
      "text/plain": [
       "0 < Length(cgi_decode_s_str_1)"
      ]
     },
     "execution_count": 220,
     "metadata": {},
     "output_type": "execute_result"
    }
   ],
   "source": [
    "_.path[0]"
   ]
  },
  {
   "cell_type": "markdown",
   "metadata": {
    "slideshow": {
     "slide_type": "fragment"
    }
   },
   "source": [
    "To compute the negated string, we have to construct it via z3 primitives:"
   ]
  },
  {
   "cell_type": "code",
   "execution_count": 221,
   "metadata": {
    "execution": {
     "iopub.execute_input": "2022-02-21T08:25:34.621859Z",
     "iopub.status.busy": "2022-02-21T08:25:34.621167Z",
     "iopub.status.idle": "2022-02-21T08:25:34.623785Z",
     "shell.execute_reply": "2022-02-21T08:25:34.624284Z"
    },
    "slideshow": {
     "slide_type": "subslide"
    }
   },
   "outputs": [],
   "source": [
    "zs = z3.String('cgi_decode_s_str_1')"
   ]
  },
  {
   "cell_type": "code",
   "execution_count": 222,
   "metadata": {
    "execution": {
     "iopub.execute_input": "2022-02-21T08:25:34.630007Z",
     "iopub.status.busy": "2022-02-21T08:25:34.629188Z",
     "iopub.status.idle": "2022-02-21T08:25:34.635899Z",
     "shell.execute_reply": "2022-02-21T08:25:34.635120Z"
    },
    "slideshow": {
     "slide_type": "fragment"
    }
   },
   "outputs": [
    {
     "data": {
      "text/html": [
       "str.substr(cgi_decode_s_str_1, 0, 1) = \"a\""
      ],
      "text/plain": [
       "str.substr(cgi_decode_s_str_1, 0, 1) == \"a\""
      ]
     },
     "execution_count": 222,
     "metadata": {},
     "output_type": "execute_result"
    }
   ],
   "source": [
    "z3.SubString(zs, 0, 1) == z3.StringVal('a')"
   ]
  },
  {
   "cell_type": "markdown",
   "metadata": {
    "slideshow": {
     "slide_type": "fragment"
    }
   },
   "source": [
    "Invoking `zeval()` with the path condition to be changed obtains a new input that satisfies the negated predicate:"
   ]
  },
  {
   "cell_type": "code",
   "execution_count": 223,
   "metadata": {
    "execution": {
     "iopub.execute_input": "2022-02-21T08:25:34.643570Z",
     "iopub.status.busy": "2022-02-21T08:25:34.642975Z",
     "iopub.status.idle": "2022-02-21T08:25:34.706957Z",
     "shell.execute_reply": "2022-02-21T08:25:34.707395Z"
    },
    "slideshow": {
     "slide_type": "fragment"
    }
   },
   "outputs": [],
   "source": [
    "(result, new_vars) = _.zeval({1: z3.SubString(zs, 0, 1) == z3.StringVal('+')})\n"
   ]
  },
  {
   "cell_type": "code",
   "execution_count": 224,
   "metadata": {
    "execution": {
     "iopub.execute_input": "2022-02-21T08:25:34.715815Z",
     "iopub.status.busy": "2022-02-21T08:25:34.714945Z",
     "iopub.status.idle": "2022-02-21T08:25:34.718859Z",
     "shell.execute_reply": "2022-02-21T08:25:34.719728Z"
    },
    "slideshow": {
     "slide_type": "fragment"
    }
   },
   "outputs": [
    {
     "data": {
      "text/plain": [
       "{'s': ('+%20A', 'String')}"
      ]
     },
     "execution_count": 224,
     "metadata": {},
     "output_type": "execute_result"
    }
   ],
   "source": [
    "new_vars"
   ]
  },
  {
   "cell_type": "code",
   "execution_count": 225,
   "metadata": {
    "execution": {
     "iopub.execute_input": "2022-02-21T08:25:34.727235Z",
     "iopub.status.busy": "2022-02-21T08:25:34.726271Z",
     "iopub.status.idle": "2022-02-21T08:25:34.730529Z",
     "shell.execute_reply": "2022-02-21T08:25:34.729725Z"
    },
    "slideshow": {
     "slide_type": "fragment"
    }
   },
   "outputs": [],
   "source": [
    "(new_s, new_s_type) = new_vars['s']"
   ]
  },
  {
   "cell_type": "code",
   "execution_count": 226,
   "metadata": {
    "execution": {
     "iopub.execute_input": "2022-02-21T08:25:34.736714Z",
     "iopub.status.busy": "2022-02-21T08:25:34.735843Z",
     "iopub.status.idle": "2022-02-21T08:25:34.740581Z",
     "shell.execute_reply": "2022-02-21T08:25:34.741357Z"
    },
    "slideshow": {
     "slide_type": "fragment"
    }
   },
   "outputs": [
    {
     "data": {
      "text/plain": [
       "'+%20A'"
      ]
     },
     "execution_count": 226,
     "metadata": {},
     "output_type": "execute_result"
    }
   ],
   "source": [
    "new_s"
   ]
  },
  {
   "cell_type": "markdown",
   "metadata": {
    "slideshow": {
     "slide_type": "fragment"
    }
   },
   "source": [
    "We can validate that `new_s` indeed takes the new path by re-running the tracer with `new_s` as input:"
   ]
  },
  {
   "cell_type": "code",
   "execution_count": 227,
   "metadata": {
    "execution": {
     "iopub.execute_input": "2022-02-21T08:25:34.745886Z",
     "iopub.status.busy": "2022-02-21T08:25:34.744999Z",
     "iopub.status.idle": "2022-02-21T08:25:34.751529Z",
     "shell.execute_reply": "2022-02-21T08:25:34.752485Z"
    },
    "slideshow": {
     "slide_type": "subslide"
    }
   },
   "outputs": [],
   "source": [
    "with ConcolicTracer() as _:\n",
    "    _[cgi_decode](new_s)"
   ]
  },
  {
   "cell_type": "code",
   "execution_count": 228,
   "metadata": {
    "execution": {
     "iopub.execute_input": "2022-02-21T08:25:34.758293Z",
     "iopub.status.busy": "2022-02-21T08:25:34.757269Z",
     "iopub.status.idle": "2022-02-21T08:25:34.770241Z",
     "shell.execute_reply": "2022-02-21T08:25:34.770827Z"
    },
    "slideshow": {
     "slide_type": "subslide"
    }
   },
   "outputs": [
    {
     "data": {
      "text/plain": [
       "[0 < Length(cgi_decode_s_str_1),\n",
       " str.substr(cgi_decode_s_str_1, 0, 1) == \"+\",\n",
       " 1 < Length(cgi_decode_s_str_1),\n",
       " Not(str.substr(cgi_decode_s_str_1, 1, 1) == \"+\"),\n",
       " str.substr(cgi_decode_s_str_1, 1, 1) == \"%\",\n",
       " Not(str.substr(cgi_decode_s_str_1, 2, 1) == \"0\"),\n",
       " Not(str.substr(cgi_decode_s_str_1, 2, 1) == \"1\"),\n",
       " str.substr(cgi_decode_s_str_1, 2, 1) == \"2\",\n",
       " str.substr(cgi_decode_s_str_1, 3, 1) == \"0\",\n",
       " 4 < Length(cgi_decode_s_str_1),\n",
       " Not(str.substr(cgi_decode_s_str_1, 4, 1) == \"+\"),\n",
       " Not(str.substr(cgi_decode_s_str_1, 4, 1) == \"%\"),\n",
       " Not(5 < Length(cgi_decode_s_str_1))]"
      ]
     },
     "execution_count": 228,
     "metadata": {},
     "output_type": "execute_result"
    }
   ],
   "source": [
    "_.path"
   ]
  },
  {
   "cell_type": "markdown",
   "metadata": {
    "slideshow": {
     "slide_type": "fragment"
    }
   },
   "source": [
    "By negating further conditions, we can explore more and more code."
   ]
  },
  {
   "cell_type": "markdown",
   "metadata": {
    "slideshow": {
     "slide_type": "subslide"
    }
   },
   "source": [
    "### Example: Round\n",
    "\n",
    "Here is a function that gives you the nearest ten's multiplier"
   ]
  },
  {
   "cell_type": "code",
   "execution_count": 229,
   "metadata": {
    "execution": {
     "iopub.execute_input": "2022-02-21T08:25:34.776615Z",
     "iopub.status.busy": "2022-02-21T08:25:34.775754Z",
     "iopub.status.idle": "2022-02-21T08:25:34.778561Z",
     "shell.execute_reply": "2022-02-21T08:25:34.779327Z"
    },
    "slideshow": {
     "slide_type": "fragment"
    }
   },
   "outputs": [],
   "source": [
    "def round10(r):\n",
    "    while r % 10 != 0:\n",
    "        r += 1\n",
    "    return r"
   ]
  },
  {
   "cell_type": "markdown",
   "metadata": {
    "slideshow": {
     "slide_type": "fragment"
    }
   },
   "source": [
    "As before, we execute the function under the `ConcolicTracer` context."
   ]
  },
  {
   "cell_type": "code",
   "execution_count": 230,
   "metadata": {
    "execution": {
     "iopub.execute_input": "2022-02-21T08:25:34.785396Z",
     "iopub.status.busy": "2022-02-21T08:25:34.784160Z",
     "iopub.status.idle": "2022-02-21T08:25:34.793692Z",
     "shell.execute_reply": "2022-02-21T08:25:34.794573Z"
    },
    "slideshow": {
     "slide_type": "fragment"
    }
   },
   "outputs": [],
   "source": [
    "with ConcolicTracer() as _:\n",
    "    r = _[round10](1)"
   ]
  },
  {
   "cell_type": "markdown",
   "metadata": {
    "slideshow": {
     "slide_type": "fragment"
    }
   },
   "source": [
    "We verify that we were able to capture all the predicates:"
   ]
  },
  {
   "cell_type": "code",
   "execution_count": 231,
   "metadata": {
    "execution": {
     "iopub.execute_input": "2022-02-21T08:25:34.800583Z",
     "iopub.status.busy": "2022-02-21T08:25:34.799034Z",
     "iopub.status.idle": "2022-02-21T08:25:35.097578Z",
     "shell.execute_reply": "2022-02-21T08:25:35.098095Z"
    },
    "slideshow": {
     "slide_type": "subslide"
    }
   },
   "outputs": [
    {
     "data": {
      "text/plain": [
       "({'round10_r_int_1': 'Int'},\n",
       " [0 != round10_r_int_1%10,\n",
       "  0 != (round10_r_int_1 + 1)%10,\n",
       "  0 != (round10_r_int_1 + 1 + 1)%10,\n",
       "  0 != (round10_r_int_1 + 1 + 1 + 1)%10,\n",
       "  0 != (round10_r_int_1 + 1 + 1 + 1 + 1)%10,\n",
       "  0 != (round10_r_int_1 + 1 + 1 + 1 + 1 + 1)%10,\n",
       "  0 != (round10_r_int_1 + 1 + 1 + 1 + 1 + 1 + 1)%10,\n",
       "  0 != (round10_r_int_1 + 1 + 1 + 1 + 1 + 1 + 1 + 1)%10,\n",
       "  0 != (round10_r_int_1 + 1 + 1 + 1 + 1 + 1 + 1 + 1 + 1)%10,\n",
       "  Not(0 !=\n",
       "      (round10_r_int_1 + 1 + 1 + 1 + 1 + 1 + 1 + 1 + 1 + 1)%10)])"
      ]
     },
     "execution_count": 231,
     "metadata": {},
     "output_type": "execute_result"
    }
   ],
   "source": [
    "_.context"
   ]
  },
  {
   "cell_type": "markdown",
   "metadata": {
    "slideshow": {
     "slide_type": "fragment"
    }
   },
   "source": [
    "We use `zeval()` to obtain more inputs that take the same path."
   ]
  },
  {
   "cell_type": "code",
   "execution_count": 232,
   "metadata": {
    "execution": {
     "iopub.execute_input": "2022-02-21T08:25:35.105334Z",
     "iopub.status.busy": "2022-02-21T08:25:35.103661Z",
     "iopub.status.idle": "2022-02-21T08:25:35.166814Z",
     "shell.execute_reply": "2022-02-21T08:25:35.167491Z"
    },
    "slideshow": {
     "slide_type": "subslide"
    }
   },
   "outputs": [
    {
     "data": {
      "text/plain": [
       "('sat', {'r': (['-', '9'], 'Int')})"
      ]
     },
     "execution_count": 232,
     "metadata": {},
     "output_type": "execute_result"
    }
   ],
   "source": [
    "_.zeval()"
   ]
  },
  {
   "cell_type": "markdown",
   "metadata": {
    "slideshow": {
     "slide_type": "subslide"
    }
   },
   "source": [
    "### Example: Absolute Maximum\n",
    "\n",
    "Do our concolic proxies work across functions? Say we have a function `max_value()` as below."
   ]
  },
  {
   "cell_type": "code",
   "execution_count": 233,
   "metadata": {
    "execution": {
     "iopub.execute_input": "2022-02-21T08:25:35.176149Z",
     "iopub.status.busy": "2022-02-21T08:25:35.175055Z",
     "iopub.status.idle": "2022-02-21T08:25:35.177547Z",
     "shell.execute_reply": "2022-02-21T08:25:35.178074Z"
    },
    "slideshow": {
     "slide_type": "fragment"
    }
   },
   "outputs": [],
   "source": [
    "def abs_value(a):\n",
    "    if a > 0:\n",
    "        return a\n",
    "    else:\n",
    "        return -a"
   ]
  },
  {
   "cell_type": "markdown",
   "metadata": {
    "slideshow": {
     "slide_type": "fragment"
    }
   },
   "source": [
    "It is called by another function `abs_max()`"
   ]
  },
  {
   "cell_type": "code",
   "execution_count": 234,
   "metadata": {
    "execution": {
     "iopub.execute_input": "2022-02-21T08:25:35.185593Z",
     "iopub.status.busy": "2022-02-21T08:25:35.184218Z",
     "iopub.status.idle": "2022-02-21T08:25:35.188248Z",
     "shell.execute_reply": "2022-02-21T08:25:35.187205Z"
    },
    "slideshow": {
     "slide_type": "subslide"
    }
   },
   "outputs": [],
   "source": [
    "def abs_max(a, b):\n",
    "    a1 = abs_value(a)\n",
    "    b1 = abs_value(b)\n",
    "    if a1 > b1:\n",
    "        c = a1\n",
    "    else:\n",
    "        c = b1\n",
    "    return c"
   ]
  },
  {
   "cell_type": "markdown",
   "metadata": {
    "slideshow": {
     "slide_type": "fragment"
    }
   },
   "source": [
    "Using the `Concolic()` context on `abs_max()`."
   ]
  },
  {
   "cell_type": "code",
   "execution_count": 235,
   "metadata": {
    "execution": {
     "iopub.execute_input": "2022-02-21T08:25:35.193907Z",
     "iopub.status.busy": "2022-02-21T08:25:35.192936Z",
     "iopub.status.idle": "2022-02-21T08:25:35.197104Z",
     "shell.execute_reply": "2022-02-21T08:25:35.197698Z"
    },
    "slideshow": {
     "slide_type": "fragment"
    }
   },
   "outputs": [],
   "source": [
    "with ConcolicTracer() as _:\n",
    "    _[abs_max](2, 1)"
   ]
  },
  {
   "cell_type": "markdown",
   "metadata": {
    "slideshow": {
     "slide_type": "fragment"
    }
   },
   "source": [
    "As expected, we have the predicates across functions."
   ]
  },
  {
   "cell_type": "code",
   "execution_count": 236,
   "metadata": {
    "execution": {
     "iopub.execute_input": "2022-02-21T08:25:35.204160Z",
     "iopub.status.busy": "2022-02-21T08:25:35.203221Z",
     "iopub.status.idle": "2022-02-21T08:25:35.208845Z",
     "shell.execute_reply": "2022-02-21T08:25:35.209511Z"
    },
    "slideshow": {
     "slide_type": "fragment"
    }
   },
   "outputs": [
    {
     "data": {
      "text/plain": [
       "({'abs_max_a_int_1': 'Int', 'abs_max_b_int_2': 'Int'},\n",
       " [0 < abs_max_a_int_1, 0 < abs_max_b_int_2, abs_max_a_int_1 > abs_max_b_int_2])"
      ]
     },
     "execution_count": 236,
     "metadata": {},
     "output_type": "execute_result"
    }
   ],
   "source": [
    "_.context"
   ]
  },
  {
   "cell_type": "code",
   "execution_count": 237,
   "metadata": {
    "execution": {
     "iopub.execute_input": "2022-02-21T08:25:35.214457Z",
     "iopub.status.busy": "2022-02-21T08:25:35.213594Z",
     "iopub.status.idle": "2022-02-21T08:25:35.272777Z",
     "shell.execute_reply": "2022-02-21T08:25:35.273268Z"
    },
    "slideshow": {
     "slide_type": "subslide"
    }
   },
   "outputs": [
    {
     "data": {
      "text/plain": [
       "('sat', {'a': ('2', 'Int'), 'b': ('1', 'Int')})"
      ]
     },
     "execution_count": 237,
     "metadata": {},
     "output_type": "execute_result"
    }
   ],
   "source": [
    "_.zeval()"
   ]
  },
  {
   "cell_type": "markdown",
   "metadata": {
    "slideshow": {
     "slide_type": "fragment"
    }
   },
   "source": [
    "Solving the predicates works as expected."
   ]
  },
  {
   "cell_type": "markdown",
   "metadata": {
    "slideshow": {
     "slide_type": "fragment"
    }
   },
   "source": [
    "Using negative numbers as arguments so that a different branch is taken in `abs_value()`"
   ]
  },
  {
   "cell_type": "code",
   "execution_count": 238,
   "metadata": {
    "execution": {
     "iopub.execute_input": "2022-02-21T08:25:35.280748Z",
     "iopub.status.busy": "2022-02-21T08:25:35.279482Z",
     "iopub.status.idle": "2022-02-21T08:25:35.283777Z",
     "shell.execute_reply": "2022-02-21T08:25:35.284725Z"
    },
    "slideshow": {
     "slide_type": "fragment"
    }
   },
   "outputs": [],
   "source": [
    "with ConcolicTracer() as _:\n",
    "    _[abs_max](-2, -1)"
   ]
  },
  {
   "cell_type": "code",
   "execution_count": 239,
   "metadata": {
    "execution": {
     "iopub.execute_input": "2022-02-21T08:25:35.291506Z",
     "iopub.status.busy": "2022-02-21T08:25:35.290587Z",
     "iopub.status.idle": "2022-02-21T08:25:35.296251Z",
     "shell.execute_reply": "2022-02-21T08:25:35.296683Z"
    },
    "slideshow": {
     "slide_type": "fragment"
    }
   },
   "outputs": [
    {
     "data": {
      "text/plain": [
       "({'abs_max_a_int_1': 'Int', 'abs_max_b_int_2': 'Int'},\n",
       " [Not(0 < abs_max_a_int_1),\n",
       "  Not(0 < abs_max_b_int_2),\n",
       "  -abs_max_a_int_1 > -abs_max_b_int_2])"
      ]
     },
     "execution_count": 239,
     "metadata": {},
     "output_type": "execute_result"
    }
   ],
   "source": [
    "_.context"
   ]
  },
  {
   "cell_type": "code",
   "execution_count": 240,
   "metadata": {
    "execution": {
     "iopub.execute_input": "2022-02-21T08:25:35.301813Z",
     "iopub.status.busy": "2022-02-21T08:25:35.300885Z",
     "iopub.status.idle": "2022-02-21T08:25:35.358841Z",
     "shell.execute_reply": "2022-02-21T08:25:35.359269Z"
    },
    "slideshow": {
     "slide_type": "fragment"
    }
   },
   "outputs": [
    {
     "data": {
      "text/plain": [
       "('sat', {'a': (['-', '1'], 'Int'), 'b': ('0', 'Int')})"
      ]
     },
     "execution_count": 240,
     "metadata": {},
     "output_type": "execute_result"
    }
   ],
   "source": [
    "_.zeval()"
   ]
  },
  {
   "cell_type": "markdown",
   "metadata": {
    "slideshow": {
     "slide_type": "subslide"
    }
   },
   "source": [
    "The solution reflects our predicates. (We used `a > 0` in `abs_value()`)."
   ]
  },
  {
   "cell_type": "markdown",
   "metadata": {
    "slideshow": {
     "slide_type": "subslide"
    }
   },
   "source": [
    "### Example: Binomial Coefficient\n",
    "\n",
    "For a larger example that uses different kinds of variables, say we want to compute the binomial coefficient by the following formulas\n",
    "\n",
    "$$ \n",
    "^nP_k=\\frac{n!}{(n-k)!}\n",
    "$$\n",
    "\n",
    "$$\n",
    "\\binom nk=\\,^nC_k=\\frac{^nP_k}{k!}\n",
    "$$\n"
   ]
  },
  {
   "cell_type": "markdown",
   "metadata": {
    "slideshow": {
     "slide_type": "subslide"
    }
   },
   "source": [
    "we define the functions as follows."
   ]
  },
  {
   "cell_type": "code",
   "execution_count": 241,
   "metadata": {
    "execution": {
     "iopub.execute_input": "2022-02-21T08:25:35.365236Z",
     "iopub.status.busy": "2022-02-21T08:25:35.364324Z",
     "iopub.status.idle": "2022-02-21T08:25:35.367127Z",
     "shell.execute_reply": "2022-02-21T08:25:35.366432Z"
    },
    "slideshow": {
     "slide_type": "fragment"
    }
   },
   "outputs": [],
   "source": [
    "def factorial(n):  # type: ignore\n",
    "    v = 1\n",
    "    while n != 0:\n",
    "        v *= n\n",
    "        n -= 1\n",
    "\n",
    "    return v"
   ]
  },
  {
   "cell_type": "code",
   "execution_count": 242,
   "metadata": {
    "execution": {
     "iopub.execute_input": "2022-02-21T08:25:35.372095Z",
     "iopub.status.busy": "2022-02-21T08:25:35.371518Z",
     "iopub.status.idle": "2022-02-21T08:25:35.373181Z",
     "shell.execute_reply": "2022-02-21T08:25:35.373752Z"
    },
    "slideshow": {
     "slide_type": "fragment"
    }
   },
   "outputs": [],
   "source": [
    "def permutation(n, k):\n",
    "    return factorial(n) / factorial(n - k)"
   ]
  },
  {
   "cell_type": "code",
   "execution_count": 243,
   "metadata": {
    "execution": {
     "iopub.execute_input": "2022-02-21T08:25:35.378730Z",
     "iopub.status.busy": "2022-02-21T08:25:35.377581Z",
     "iopub.status.idle": "2022-02-21T08:25:35.380788Z",
     "shell.execute_reply": "2022-02-21T08:25:35.381824Z"
    },
    "slideshow": {
     "slide_type": "fragment"
    }
   },
   "outputs": [],
   "source": [
    "def combination(n, k):\n",
    "    return permutation(n, k) / factorial(k)"
   ]
  },
  {
   "cell_type": "code",
   "execution_count": 244,
   "metadata": {
    "execution": {
     "iopub.execute_input": "2022-02-21T08:25:35.386662Z",
     "iopub.status.busy": "2022-02-21T08:25:35.385991Z",
     "iopub.status.idle": "2022-02-21T08:25:35.387772Z",
     "shell.execute_reply": "2022-02-21T08:25:35.388238Z"
    },
    "slideshow": {
     "slide_type": "subslide"
    }
   },
   "outputs": [],
   "source": [
    "def binomial(n, k):\n",
    "    if n < 0 or k < 0 or n < k:\n",
    "        raise Exception('Invalid values')\n",
    "    return combination(n, k)"
   ]
  },
  {
   "cell_type": "markdown",
   "metadata": {
    "slideshow": {
     "slide_type": "fragment"
    }
   },
   "source": [
    "As before, we run the function under `ConcolicTracer`."
   ]
  },
  {
   "cell_type": "code",
   "execution_count": 245,
   "metadata": {
    "execution": {
     "iopub.execute_input": "2022-02-21T08:25:35.393101Z",
     "iopub.status.busy": "2022-02-21T08:25:35.392475Z",
     "iopub.status.idle": "2022-02-21T08:25:35.399194Z",
     "shell.execute_reply": "2022-02-21T08:25:35.399906Z"
    },
    "slideshow": {
     "slide_type": "fragment"
    }
   },
   "outputs": [],
   "source": [
    "with ConcolicTracer() as _:\n",
    "    v = _[binomial](4, 2)"
   ]
  },
  {
   "cell_type": "markdown",
   "metadata": {
    "slideshow": {
     "slide_type": "fragment"
    }
   },
   "source": [
    "Then call `zeval()` to evaluate."
   ]
  },
  {
   "cell_type": "code",
   "execution_count": 246,
   "metadata": {
    "execution": {
     "iopub.execute_input": "2022-02-21T08:25:35.404689Z",
     "iopub.status.busy": "2022-02-21T08:25:35.403900Z",
     "iopub.status.idle": "2022-02-21T08:25:35.456639Z",
     "shell.execute_reply": "2022-02-21T08:25:35.457538Z"
    },
    "slideshow": {
     "slide_type": "fragment"
    }
   },
   "outputs": [
    {
     "data": {
      "text/plain": [
       "('sat', {'n': ('4', 'Int'), 'k': ('2', 'Int')})"
      ]
     },
     "execution_count": 246,
     "metadata": {},
     "output_type": "execute_result"
    }
   ],
   "source": [
    "_.zeval()"
   ]
  },
  {
   "cell_type": "raw",
   "metadata": {
    "slideshow": {
     "slide_type": "skip"
    }
   },
   "source": [
    "The values returned are same as the input values as expected."
   ]
  },
  {
   "cell_type": "markdown",
   "metadata": {
    "slideshow": {
     "slide_type": "subslide"
    }
   },
   "source": [
    "### Example: Database"
   ]
  },
  {
   "cell_type": "markdown",
   "metadata": {
    "slideshow": {
     "slide_type": "fragment"
    },
    "toc-hr-collapsed": true
   },
   "source": [
    "For a larger example using the Concolic String class `zstr`, we use the DB class from the [chapter on information flow](InformationFlow.ipynb)."
   ]
  },
  {
   "cell_type": "code",
   "execution_count": 247,
   "metadata": {
    "execution": {
     "iopub.execute_input": "2022-02-21T08:25:35.464104Z",
     "iopub.status.busy": "2022-02-21T08:25:35.462962Z",
     "iopub.status.idle": "2022-02-21T08:25:35.467125Z",
     "shell.execute_reply": "2022-02-21T08:25:35.467654Z"
    },
    "slideshow": {
     "slide_type": "fragment"
    }
   },
   "outputs": [
    {
     "name": "stdout",
     "output_type": "stream",
     "text": [
      "Note: The following example may not work with your Z3 version;\n",
      "see https://github.com/Z3Prover/z3/issues/5763 for details.\n",
      "Consider `pip install z3-solver==4.8.7.0` as a workaround.\n"
     ]
    }
   ],
   "source": [
    "if __name__ == '__main__':\n",
    "    if z3.get_version() > (4, 8, 7, 0):\n",
    "        print(\"\"\"Note: The following example may not work with your Z3 version;\n",
    "see https://github.com/Z3Prover/z3/issues/5763 for details.\n",
    "Consider `pip install z3-solver==4.8.7.0` as a workaround.\"\"\")"
   ]
  },
  {
   "cell_type": "code",
   "execution_count": 248,
   "metadata": {
    "execution": {
     "iopub.execute_input": "2022-02-21T08:25:35.472476Z",
     "iopub.status.busy": "2022-02-21T08:25:35.471804Z",
     "iopub.status.idle": "2022-02-21T08:25:38.189655Z",
     "shell.execute_reply": "2022-02-21T08:25:38.190259Z"
    },
    "slideshow": {
     "slide_type": "skip"
    }
   },
   "outputs": [],
   "source": [
    "from InformationFlow import DB, sample_db, update_inventory"
   ]
  },
  {
   "cell_type": "markdown",
   "metadata": {
    "slideshow": {
     "slide_type": "fragment"
    }
   },
   "source": [
    "We first populate our database."
   ]
  },
  {
   "cell_type": "code",
   "execution_count": 249,
   "metadata": {
    "execution": {
     "iopub.execute_input": "2022-02-21T08:25:38.194942Z",
     "iopub.status.busy": "2022-02-21T08:25:38.194160Z",
     "iopub.status.idle": "2022-02-21T08:25:40.217696Z",
     "shell.execute_reply": "2022-02-21T08:25:40.218184Z"
    },
    "slideshow": {
     "slide_type": "skip"
    }
   },
   "outputs": [],
   "source": [
    "from GrammarMiner import VEHICLES  # minor dependency"
   ]
  },
  {
   "cell_type": "code",
   "execution_count": 250,
   "metadata": {
    "execution": {
     "iopub.execute_input": "2022-02-21T08:25:40.222542Z",
     "iopub.status.busy": "2022-02-21T08:25:40.221744Z",
     "iopub.status.idle": "2022-02-21T08:25:40.223804Z",
     "shell.execute_reply": "2022-02-21T08:25:40.224506Z"
    },
    "slideshow": {
     "slide_type": "subslide"
    }
   },
   "outputs": [],
   "source": [
    "db = sample_db()\n",
    "for V in VEHICLES:\n",
    "    update_inventory(db, V)"
   ]
  },
  {
   "cell_type": "code",
   "execution_count": 251,
   "metadata": {
    "execution": {
     "iopub.execute_input": "2022-02-21T08:25:40.231384Z",
     "iopub.status.busy": "2022-02-21T08:25:40.230196Z",
     "iopub.status.idle": "2022-02-21T08:25:40.233631Z",
     "shell.execute_reply": "2022-02-21T08:25:40.234045Z"
    },
    "slideshow": {
     "slide_type": "fragment"
    }
   },
   "outputs": [
    {
     "data": {
      "text/plain": [
       "{'inventory': ({'year': int, 'kind': str, 'company': str, 'model': str},\n",
       "  [{'year': 1997, 'kind': 'van', 'company': 'Ford', 'model': 'E350'},\n",
       "   {'year': 2000, 'kind': 'car', 'company': 'Mercury', 'model': 'Cougar'},\n",
       "   {'year': 1999, 'kind': 'car', 'company': 'Chevy', 'model': 'Venture'}])}"
      ]
     },
     "execution_count": 251,
     "metadata": {},
     "output_type": "execute_result"
    }
   ],
   "source": [
    "db.db"
   ]
  },
  {
   "cell_type": "markdown",
   "metadata": {
    "slideshow": {
     "slide_type": "fragment"
    }
   },
   "source": [
    "We are now ready to fuzz our `DB` class. Hash functions are difficult to handle directly (because they rely on internal C functions). Hence we modify `table()` slightly."
   ]
  },
  {
   "cell_type": "code",
   "execution_count": 252,
   "metadata": {
    "execution": {
     "iopub.execute_input": "2022-02-21T08:25:40.239691Z",
     "iopub.status.busy": "2022-02-21T08:25:40.239034Z",
     "iopub.status.idle": "2022-02-21T08:25:40.240945Z",
     "shell.execute_reply": "2022-02-21T08:25:40.241367Z"
    },
    "slideshow": {
     "slide_type": "subslide"
    }
   },
   "outputs": [],
   "source": [
    "class ConcolicDB(DB):\n",
    "    def table(self, t_name):\n",
    "        for k, v in self.db:\n",
    "            if t_name == k:\n",
    "                return v\n",
    "        raise SQLException('Table (%s) was not found' % repr(t_name))\n",
    "\n",
    "    def column(self, decl, c_name):\n",
    "        for k in decl:\n",
    "            if c_name == k:\n",
    "                return decl[k]\n",
    "        raise SQLException('Column (%s) was not found' % repr(c_name))"
   ]
  },
  {
   "cell_type": "markdown",
   "metadata": {
    "slideshow": {
     "slide_type": "fragment"
    }
   },
   "source": [
    "To make it easy, we define a single function `db_select()` that directly invokes `db.sql()`."
   ]
  },
  {
   "cell_type": "code",
   "execution_count": 253,
   "metadata": {
    "execution": {
     "iopub.execute_input": "2022-02-21T08:25:40.246718Z",
     "iopub.status.busy": "2022-02-21T08:25:40.245668Z",
     "iopub.status.idle": "2022-02-21T08:25:40.248338Z",
     "shell.execute_reply": "2022-02-21T08:25:40.248848Z"
    },
    "slideshow": {
     "slide_type": "subslide"
    }
   },
   "outputs": [],
   "source": [
    "def db_select(s):\n",
    "    my_db = ConcolicDB()\n",
    "    my_db.db = [(k, v) for (k, v) in db.db.items()]\n",
    "    r = my_db.sql(s)\n",
    "    return r"
   ]
  },
  {
   "cell_type": "markdown",
   "metadata": {
    "slideshow": {
     "slide_type": "fragment"
    }
   },
   "source": [
    "We now want to run SQL statements under our `ConcolicTracer`, and collect predicates obtained."
   ]
  },
  {
   "cell_type": "code",
   "execution_count": 254,
   "metadata": {
    "execution": {
     "iopub.execute_input": "2022-02-21T08:25:40.252871Z",
     "iopub.status.busy": "2022-02-21T08:25:40.252220Z",
     "iopub.status.idle": "2022-02-21T08:25:40.257168Z",
     "shell.execute_reply": "2022-02-21T08:25:40.257678Z"
    },
    "slideshow": {
     "slide_type": "fragment"
    }
   },
   "outputs": [],
   "source": [
    "with ConcolicTracer() as _:\n",
    "    _[db_select]('select kind from inventory')"
   ]
  },
  {
   "cell_type": "markdown",
   "metadata": {
    "slideshow": {
     "slide_type": "fragment"
    }
   },
   "source": [
    "The predicates encountered during the execution are as follows:"
   ]
  },
  {
   "cell_type": "code",
   "execution_count": 255,
   "metadata": {
    "execution": {
     "iopub.execute_input": "2022-02-21T08:25:40.263399Z",
     "iopub.status.busy": "2022-02-21T08:25:40.262657Z",
     "iopub.status.idle": "2022-02-21T08:25:40.278962Z",
     "shell.execute_reply": "2022-02-21T08:25:40.279780Z"
    },
    "slideshow": {
     "slide_type": "subslide"
    }
   },
   "outputs": [
    {
     "data": {
      "text/plain": [
       "[0 == IndexOf(db_select_s_str_1, \"select \", 0),\n",
       " 0 == IndexOf(db_select_s_str_1, \"select \", 0),\n",
       " Not(0 >\n",
       "     IndexOf(str.substr(db_select_s_str_1, 7, 19),\n",
       "             \" from \",\n",
       "             0)),\n",
       " Not(19 <\n",
       "     IndexOf(str.substr(db_select_s_str_1, 7, 19),\n",
       "             \" from \",\n",
       "             0)),\n",
       " Or(0 <\n",
       "    IndexOf(str.substr(db_select_s_str_1, 7, 19),\n",
       "            \" from \",\n",
       "            0),\n",
       "    0 ==\n",
       "    IndexOf(str.substr(db_select_s_str_1, 7, 19),\n",
       "            \" from \",\n",
       "            0)),\n",
       " Not(Or(0 <\n",
       "        IndexOf(str.substr(db_select_s_str_1, 7, 19),\n",
       "                \" where \",\n",
       "                0),\n",
       "        0 ==\n",
       "        IndexOf(str.substr(db_select_s_str_1, 7, 19),\n",
       "                \" where \",\n",
       "                0))),\n",
       " Not(19 <\n",
       "     IndexOf(str.substr(db_select_s_str_1, 7, 19),\n",
       "             \" from \",\n",
       "             0) +\n",
       "     6),\n",
       " Or(19 >\n",
       "    IndexOf(str.substr(db_select_s_str_1, 7, 19),\n",
       "            \" from \",\n",
       "            0) +\n",
       "    6,\n",
       "    19 ==\n",
       "    IndexOf(str.substr(db_select_s_str_1, 7, 19),\n",
       "            \" from \",\n",
       "            0) +\n",
       "    6),\n",
       " str.substr(str.substr(db_select_s_str_1, 7, 19), 10, 9) ==\n",
       " \"inventory\"]"
      ]
     },
     "execution_count": 255,
     "metadata": {},
     "output_type": "execute_result"
    }
   ],
   "source": [
    "_.path"
   ]
  },
  {
   "cell_type": "markdown",
   "metadata": {
    "slideshow": {
     "slide_type": "subslide"
    }
   },
   "source": [
    "We can use `zeval()` as before to solve the constraints."
   ]
  },
  {
   "cell_type": "code",
   "execution_count": 256,
   "metadata": {
    "execution": {
     "iopub.execute_input": "2022-02-21T08:25:40.284959Z",
     "iopub.status.busy": "2022-02-21T08:25:40.284236Z",
     "iopub.status.idle": "2022-02-21T08:25:46.364319Z",
     "shell.execute_reply": "2022-02-21T08:25:46.364954Z"
    },
    "slideshow": {
     "slide_type": "fragment"
    }
   },
   "outputs": [
    {
     "data": {
      "text/plain": [
       "('Gave up', None)"
      ]
     },
     "execution_count": 256,
     "metadata": {},
     "output_type": "execute_result"
    }
   ],
   "source": [
    "_.zeval()"
   ]
  },
  {
   "cell_type": "markdown",
   "metadata": {
    "slideshow": {
     "slide_type": "slide"
    },
    "tags": []
   },
   "source": [
    "## Fuzzing with Constraints\n",
    "\n",
    "The `SimpleConcolicFuzzer` class starts with a sample input generated by some other fuzzer. It then runs the function being tested under `ConcolicTracer`, and collects the path predicates. It then negates random predicates within the path and solves it with Z3 to produce a new output that is guaranteed to take a different path than the original."
   ]
  },
  {
   "cell_type": "markdown",
   "metadata": {
    "slideshow": {
     "slide_type": "fragment"
    }
   },
   "source": [
    "As with `ConcolicTracer`, above, please first look at the examples before digging into the implementation."
   ]
  },
  {
   "cell_type": "markdown",
   "metadata": {
    "slideshow": {
     "slide_type": "subslide"
    }
   },
   "source": [
    "### Excursion: Implementing SimpleConcolicFuzzer"
   ]
  },
  {
   "cell_type": "markdown",
   "metadata": {
    "slideshow": {
     "slide_type": "fragment"
    }
   },
   "source": [
    "First, we import the `Fuzzer` interface, and write example program `hang_if_no_space()`"
   ]
  },
  {
   "cell_type": "code",
   "execution_count": 257,
   "metadata": {
    "execution": {
     "iopub.execute_input": "2022-02-21T08:25:46.370228Z",
     "iopub.status.busy": "2022-02-21T08:25:46.369544Z",
     "iopub.status.idle": "2022-02-21T08:25:46.371240Z",
     "shell.execute_reply": "2022-02-21T08:25:46.371663Z"
    },
    "slideshow": {
     "slide_type": "skip"
    }
   },
   "outputs": [],
   "source": [
    "from Fuzzer import Fuzzer"
   ]
  },
  {
   "cell_type": "code",
   "execution_count": 258,
   "metadata": {
    "execution": {
     "iopub.execute_input": "2022-02-21T08:25:46.376861Z",
     "iopub.status.busy": "2022-02-21T08:25:46.375913Z",
     "iopub.status.idle": "2022-02-21T08:25:46.377974Z",
     "shell.execute_reply": "2022-02-21T08:25:46.378376Z"
    },
    "slideshow": {
     "slide_type": "fragment"
    }
   },
   "outputs": [],
   "source": [
    "def hang_if_no_space(s):\n",
    "    i = 0\n",
    "    while True:\n",
    "        if i < s.length():\n",
    "            if s[i] == ' ':\n",
    "                break\n",
    "        i += 1"
   ]
  },
  {
   "cell_type": "code",
   "execution_count": 259,
   "metadata": {
    "execution": {
     "iopub.execute_input": "2022-02-21T08:25:46.383257Z",
     "iopub.status.busy": "2022-02-21T08:25:46.382695Z",
     "iopub.status.idle": "2022-02-21T08:25:46.384645Z",
     "shell.execute_reply": "2022-02-21T08:25:46.385089Z"
    },
    "slideshow": {
     "slide_type": "skip"
    }
   },
   "outputs": [],
   "source": [
    "from ExpectError import ExpectTimeout, ExpectError"
   ]
  },
  {
   "cell_type": "code",
   "execution_count": 260,
   "metadata": {
    "execution": {
     "iopub.execute_input": "2022-02-21T08:25:46.388718Z",
     "iopub.status.busy": "2022-02-21T08:25:46.387959Z",
     "iopub.status.idle": "2022-02-21T08:25:46.389842Z",
     "shell.execute_reply": "2022-02-21T08:25:46.390235Z"
    },
    "slideshow": {
     "slide_type": "skip"
    }
   },
   "outputs": [],
   "source": [
    "import random"
   ]
  },
  {
   "cell_type": "markdown",
   "metadata": {
    "slideshow": {
     "slide_type": "subslide"
    }
   },
   "source": [
    "#### Representing Decisions"
   ]
  },
  {
   "cell_type": "markdown",
   "metadata": {
    "slideshow": {
     "slide_type": "fragment"
    }
   },
   "source": [
    "To make the fuzzer work, we need a way to represent decisions made during trace. We keep this in a _binary tree_ where each node represents a decision made, and each leaf represents a complete path. A node in the binary tree is represented by the `TraceNode` class.\n",
    "\n",
    "When a new node is added, it represents a decision taken by the parent on some predicate. This predicate is supplied as `smt_val`, which is `True` for this child to be reached. Since the predicate is actually present in the parent node, we also carry a member `smt` which will be updated by the first child to be added."
   ]
  },
  {
   "cell_type": "code",
   "execution_count": 261,
   "metadata": {
    "execution": {
     "iopub.execute_input": "2022-02-21T08:25:46.397048Z",
     "iopub.status.busy": "2022-02-21T08:25:46.396414Z",
     "iopub.status.idle": "2022-02-21T08:25:46.398294Z",
     "shell.execute_reply": "2022-02-21T08:25:46.398734Z"
    },
    "slideshow": {
     "slide_type": "subslide"
    }
   },
   "outputs": [],
   "source": [
    "class TraceNode:\n",
    "    def __init__(self, smt_val, parent, info):\n",
    "        # This is the smt that lead to this node\n",
    "        self._smt_val = z3.simplify(smt_val) if smt_val is not None else None\n",
    "\n",
    "        # This is the predicate that this node might perform at a future point\n",
    "        self.smt = None\n",
    "        self.info = info\n",
    "        self.parent = parent\n",
    "        self.children = {}\n",
    "        self.path = None\n",
    "        self.tree = None\n",
    "        self._pattern = None\n",
    "        self.log = True\n",
    "\n",
    "    def no(self): return self.children.get(self.tree.no_bit)\n",
    "\n",
    "    def yes(self): return self.children.get(self.tree.yes_bit)\n",
    "\n",
    "    def get_children(self): return (self.no(), self.yes())\n",
    "\n",
    "    def __str__(self):\n",
    "        return 'TraceNode[%s]' % ','.join(self.children.keys())"
   ]
  },
  {
   "cell_type": "markdown",
   "metadata": {
    "slideshow": {
     "slide_type": "subslide"
    }
   },
   "source": [
    "We add a `PlausibleChild` class to track the leaf nodes."
   ]
  },
  {
   "cell_type": "code",
   "execution_count": 262,
   "metadata": {
    "execution": {
     "iopub.execute_input": "2022-02-21T08:25:46.403511Z",
     "iopub.status.busy": "2022-02-21T08:25:46.402882Z",
     "iopub.status.idle": "2022-02-21T08:25:46.404506Z",
     "shell.execute_reply": "2022-02-21T08:25:46.405117Z"
    },
    "slideshow": {
     "slide_type": "fragment"
    }
   },
   "outputs": [],
   "source": [
    "class PlausibleChild:\n",
    "    def __init__(self, parent, cond, tree):\n",
    "        self.parent = parent\n",
    "        self.cond = cond\n",
    "        self.tree = tree\n",
    "        self._smt_val = None\n",
    "\n",
    "    def __repr__(self):\n",
    "        return 'PlausibleChild[%s]' % (self.parent.pattern() + ':' + self.cond)"
   ]
  },
  {
   "cell_type": "markdown",
   "metadata": {
    "slideshow": {
     "slide_type": "fragment"
    }
   },
   "source": [
    "When the leaf nodes are used to generate new paths, we expect its sibling `TraceNode` to have been already explored. Hence, we make use of the sibling's values for context `cc`, and the `smt_val` from the parent."
   ]
  },
  {
   "cell_type": "code",
   "execution_count": 263,
   "metadata": {
    "execution": {
     "iopub.execute_input": "2022-02-21T08:25:46.411132Z",
     "iopub.status.busy": "2022-02-21T08:25:46.410534Z",
     "iopub.status.idle": "2022-02-21T08:25:46.412513Z",
     "shell.execute_reply": "2022-02-21T08:25:46.412954Z"
    },
    "slideshow": {
     "slide_type": "subslide"
    }
   },
   "outputs": [],
   "source": [
    "class PlausibleChild(PlausibleChild):\n",
    "    def smt_val(self):\n",
    "        if self._smt_val is not None:\n",
    "            return self._smt_val\n",
    "        # if the parent has other children, then that child would have updatd the parent's smt\n",
    "        # Hence, we can use that child's smt_value's opposite as our value.\n",
    "        assert self.parent.smt is not None\n",
    "        if self.cond == self.tree.no_bit:\n",
    "            self._smt_val = z3.Not(self.parent.smt)\n",
    "        else:\n",
    "            self._smt_val = self.parent.smt\n",
    "        return self._smt_val\n",
    "\n",
    "    def cc(self):\n",
    "        if self.parent.info.get('cc') is not None:\n",
    "            return self.parent.info['cc']\n",
    "        # if there is a plausible child node, it means that there can\n",
    "        # be at most one child.\n",
    "        siblings = list(self.parent.children.values())\n",
    "        assert len(siblings) == 1\n",
    "        # We expect at the other child to have cc\n",
    "        return siblings[0].info['cc']"
   ]
  },
  {
   "cell_type": "markdown",
   "metadata": {
    "slideshow": {
     "slide_type": "subslide"
    }
   },
   "source": [
    "The `PlausibleChild` instance is used to generate new paths to explore using `path_expression()`."
   ]
  },
  {
   "cell_type": "code",
   "execution_count": 264,
   "metadata": {
    "execution": {
     "iopub.execute_input": "2022-02-21T08:25:46.418575Z",
     "iopub.status.busy": "2022-02-21T08:25:46.417858Z",
     "iopub.status.idle": "2022-02-21T08:25:46.419455Z",
     "shell.execute_reply": "2022-02-21T08:25:46.419987Z"
    },
    "slideshow": {
     "slide_type": "fragment"
    }
   },
   "outputs": [],
   "source": [
    "class PlausibleChild(PlausibleChild):\n",
    "    def path_expression(self):\n",
    "        path_to_root = self.parent.get_path_to_root()\n",
    "        assert path_to_root[0]._smt_val is None\n",
    "        return [i._smt_val for i in path_to_root[1:]] + [self.smt_val()]"
   ]
  },
  {
   "cell_type": "markdown",
   "metadata": {
    "slideshow": {
     "slide_type": "fragment"
    }
   },
   "source": [
    "The `TraceTree` class helps us keep track of the binary tree. In the beginning, the root is a sentinel `TraceNode` instance, and simply have two plausible children as leaves. As soon as the first trace is added, one of the plausible children will become a true child."
   ]
  },
  {
   "cell_type": "code",
   "execution_count": 265,
   "metadata": {
    "execution": {
     "iopub.execute_input": "2022-02-21T08:25:46.425704Z",
     "iopub.status.busy": "2022-02-21T08:25:46.425125Z",
     "iopub.status.idle": "2022-02-21T08:25:46.427155Z",
     "shell.execute_reply": "2022-02-21T08:25:46.426547Z"
    },
    "slideshow": {
     "slide_type": "subslide"
    }
   },
   "outputs": [],
   "source": [
    "class TraceTree:\n",
    "    def __init__(self):\n",
    "        self.root = TraceNode(smt_val=None, parent=None, info={'num': 0})\n",
    "        self.root.tree = self\n",
    "        self.leaves = {}\n",
    "        self.no_bit, self.yes_bit = '0', '1'\n",
    "\n",
    "        pprefix = ':'\n",
    "        for bit in [self.no_bit, self.yes_bit]:\n",
    "            self.leaves[pprefix + bit] = PlausibleChild(self.root, bit, self)\n",
    "        self.completed_paths = {}"
   ]
  },
  {
   "cell_type": "markdown",
   "metadata": {
    "slideshow": {
     "slide_type": "fragment"
    }
   },
   "source": [
    "The `add_trace()` method of the `TraceTree` provides a way for new traces to be added. It is kept separate from the initialization as we might want to add more than one trace from the same function."
   ]
  },
  {
   "cell_type": "code",
   "execution_count": 266,
   "metadata": {
    "execution": {
     "iopub.execute_input": "2022-02-21T08:25:46.434064Z",
     "iopub.status.busy": "2022-02-21T08:25:46.432934Z",
     "iopub.status.idle": "2022-02-21T08:25:46.434869Z",
     "shell.execute_reply": "2022-02-21T08:25:46.435287Z"
    },
    "slideshow": {
     "slide_type": "subslide"
    }
   },
   "outputs": [],
   "source": [
    "class TraceTree(TraceTree):\n",
    "    def add_trace(self, tracer, string):\n",
    "        last = self.root\n",
    "        i = 0\n",
    "        for i, elt in enumerate(tracer.path):\n",
    "            last = last.add_child(elt=elt, i=i + 1, cc=tracer, string=string)\n",
    "        last.add_child(elt=z3.BoolVal(True), i=i + 1, cc=tracer, string=string)"
   ]
  },
  {
   "cell_type": "markdown",
   "metadata": {
    "slideshow": {
     "slide_type": "fragment"
    }
   },
   "source": [
    "To make `add_trace()` work, we need a little more infrastructure, that we define below.\n",
    "\n",
    "The `bit()` method translates a predicate to a bit that corresponds to the decision taken at each predicate. If the `if` branch is taken, the result is `1`, while `else` branch is indicated by `0`. The pattern indicates the bit-pattern of decisions required to reach the leaf from the root."
   ]
  },
  {
   "cell_type": "code",
   "execution_count": 267,
   "metadata": {
    "execution": {
     "iopub.execute_input": "2022-02-21T08:25:46.441913Z",
     "iopub.status.busy": "2022-02-21T08:25:46.441280Z",
     "iopub.status.idle": "2022-02-21T08:25:46.443179Z",
     "shell.execute_reply": "2022-02-21T08:25:46.443668Z"
    },
    "slideshow": {
     "slide_type": "subslide"
    }
   },
   "outputs": [],
   "source": [
    "class TraceNode(TraceNode):\n",
    "    def bit(self):\n",
    "        if self._smt_val is None:\n",
    "            return None\n",
    "        return self.tree.no_bit if self._smt_val.decl(\n",
    "        ).name() == 'not' else self.tree.yes_bit\n",
    "\n",
    "    def pattern(self):\n",
    "        if self._pattern is not None:\n",
    "            return self._pattern\n",
    "        path = self.get_path_to_root()\n",
    "        assert path[0]._smt_val is None\n",
    "        assert path[0].parent is None\n",
    "\n",
    "        self._pattern = ''.join([p.bit() for p in path[1:]])\n",
    "        return self._pattern"
   ]
  },
  {
   "cell_type": "markdown",
   "metadata": {
    "slideshow": {
     "slide_type": "subslide"
    }
   },
   "source": [
    "Each node knows how to add a new child, and get the path to root, which is cached.\n",
    "\n",
    "When we add a child to the root node, it means that there was a decision in the current node, and the child is the result of the decision. Hence, to get the decision being made, we simplify the `smt` expression, and check if it starts with `not`. If it does not start with a `not`, we interpret that as the current decision in the node. If it starts with `not`, then we interpret that `not(smt)` was the expression being evaluated in the current node.\n",
    "\n",
    "We know the first decision made only after going through the program at least once. As soon as the program is traversed, we update the parent with the decision that resulted in the current child."
   ]
  },
  {
   "cell_type": "code",
   "execution_count": 268,
   "metadata": {
    "execution": {
     "iopub.execute_input": "2022-02-21T08:25:46.458444Z",
     "iopub.status.busy": "2022-02-21T08:25:46.457596Z",
     "iopub.status.idle": "2022-02-21T08:25:46.459233Z",
     "shell.execute_reply": "2022-02-21T08:25:46.459844Z"
    },
    "slideshow": {
     "slide_type": "subslide"
    }
   },
   "outputs": [],
   "source": [
    "class TraceNode(TraceNode):\n",
    "    def add_child(self, elt, i, cc, string):\n",
    "        if elt == z3.BoolVal(True):\n",
    "            # No more exploration here. Simply unregister the leaves of *this*\n",
    "            # node and possibly register them in completed nodes, and exit\n",
    "            for bit in [self.tree.no_bit, self.tree.yes_bit]:\n",
    "                child_leaf = self.pattern() + ':' + bit\n",
    "                if child_leaf in self.tree.leaves:\n",
    "                    del self.tree.leaves[child_leaf]\n",
    "            self.tree.completed_paths[self.pattern()] = self\n",
    "            return None\n",
    "\n",
    "        child_node = TraceNode(smt_val=elt,\n",
    "                               parent=self,\n",
    "                               info={'num': i, 'cc': cc, 'string': string})\n",
    "        child_node.tree = self.tree\n",
    "\n",
    "        # bit represents the path that child took from this node.\n",
    "        bit = child_node.bit()\n",
    "\n",
    "        # first we update our smt decision\n",
    "        if bit == self.tree.yes_bit:  # yes, which means the smt can be used as is\n",
    "            if self.smt is not None:\n",
    "                assert self.smt == child_node._smt_val\n",
    "            else:\n",
    "                self.smt = child_node._smt_val\n",
    "        # no, which means we have to negate it to get the decision.\n",
    "        elif bit == self.tree.no_bit:\n",
    "            smt_ = z3.simplify(z3.Not(child_node._smt_val))\n",
    "            if self.smt is not None:\n",
    "                assert smt_ == self.smt\n",
    "            else:\n",
    "                self.smt = smt_\n",
    "        else:\n",
    "            assert False\n",
    "\n",
    "        if bit in self.children:\n",
    "            #    if self.log:\n",
    "            #print(elt, child_node.bit(), i, string)\n",
    "            #print(i,'overwriting', bit,'=>',self.children[bit],'with',child_node)\n",
    "            child_node = self.children[bit]\n",
    "            #self.children[bit] = child_node\n",
    "            #child_node.children = old.children\n",
    "        else:\n",
    "            self.children[bit] = child_node\n",
    "\n",
    "        # At this point, we have to unregister any leaves that correspond to this child from tree,\n",
    "        # and add the plausible children of this child as leaves to be explored. Note that\n",
    "        # if it is the end (z3.True), we do not have any more children.\n",
    "        child_leaf = self.pattern() + ':' + bit\n",
    "        if child_leaf in self.tree.leaves:\n",
    "            del self.tree.leaves[child_leaf]\n",
    "\n",
    "        pprefix = child_node.pattern() + ':'\n",
    "\n",
    "        # Plausible children.\n",
    "        for bit in [self.tree.no_bit, self.tree.yes_bit]:\n",
    "            self.tree.leaves[pprefix +\n",
    "                             bit] = PlausibleChild(child_node, bit, self.tree)\n",
    "        return child_node"
   ]
  },
  {
   "cell_type": "markdown",
   "metadata": {
    "slideshow": {
     "slide_type": "subslide"
    }
   },
   "source": [
    "The path to root from any node is computed once and cached."
   ]
  },
  {
   "cell_type": "code",
   "execution_count": 269,
   "metadata": {
    "execution": {
     "iopub.execute_input": "2022-02-21T08:25:46.465476Z",
     "iopub.status.busy": "2022-02-21T08:25:46.464485Z",
     "iopub.status.idle": "2022-02-21T08:25:46.467390Z",
     "shell.execute_reply": "2022-02-21T08:25:46.466854Z"
    },
    "slideshow": {
     "slide_type": "fragment"
    }
   },
   "outputs": [],
   "source": [
    "class TraceNode(TraceNode):\n",
    "    def get_path_to_root(self):\n",
    "        if self.path is not None:\n",
    "            return self.path\n",
    "        parent_path = []\n",
    "        if self.parent is not None:\n",
    "            parent_path = self.parent.get_path_to_root()\n",
    "        self.path = parent_path + [self]\n",
    "        return self.path"
   ]
  },
  {
   "cell_type": "markdown",
   "metadata": {
    "slideshow": {
     "slide_type": "subslide"
    }
   },
   "source": [
    "#### The SimpleConcolicFuzzer class"
   ]
  },
  {
   "cell_type": "markdown",
   "metadata": {
    "slideshow": {
     "slide_type": "fragment"
    }
   },
   "source": [
    "The `SimpleConcolicFuzzer` is defined with the `Fuzzer` interface. "
   ]
  },
  {
   "cell_type": "code",
   "execution_count": 270,
   "metadata": {
    "execution": {
     "iopub.execute_input": "2022-02-21T08:25:46.472212Z",
     "iopub.status.busy": "2022-02-21T08:25:46.471490Z",
     "iopub.status.idle": "2022-02-21T08:25:46.473463Z",
     "shell.execute_reply": "2022-02-21T08:25:46.473899Z"
    },
    "slideshow": {
     "slide_type": "fragment"
    }
   },
   "outputs": [],
   "source": [
    "class SimpleConcolicFuzzer(Fuzzer):\n",
    "    def __init__(self):\n",
    "        self.ct = TraceTree()\n",
    "        self.max_tries = 1000\n",
    "        self.last = None\n",
    "        self.last_idx = None"
   ]
  },
  {
   "cell_type": "markdown",
   "metadata": {
    "slideshow": {
     "slide_type": "fragment"
    }
   },
   "source": [
    "The `add_trace()` method we defined earlier is used as follows. First, we use a random string to generate the concolic trace."
   ]
  },
  {
   "cell_type": "code",
   "execution_count": 271,
   "metadata": {
    "execution": {
     "iopub.execute_input": "2022-02-21T08:25:46.479363Z",
     "iopub.status.busy": "2022-02-21T08:25:46.478355Z",
     "iopub.status.idle": "2022-02-21T08:25:46.484784Z",
     "shell.execute_reply": "2022-02-21T08:25:46.485313Z"
    },
    "slideshow": {
     "slide_type": "fragment"
    }
   },
   "outputs": [],
   "source": [
    "with ExpectTimeout(2):\n",
    "    with ConcolicTracer() as _:\n",
    "        _[hang_if_no_space]('ab d')"
   ]
  },
  {
   "cell_type": "markdown",
   "metadata": {
    "slideshow": {
     "slide_type": "fragment"
    }
   },
   "source": [
    "Next, we initialize and add this trace to the fuzzer."
   ]
  },
  {
   "cell_type": "code",
   "execution_count": 272,
   "metadata": {
    "execution": {
     "iopub.execute_input": "2022-02-21T08:25:46.490261Z",
     "iopub.status.busy": "2022-02-21T08:25:46.489633Z",
     "iopub.status.idle": "2022-02-21T08:25:46.495535Z",
     "shell.execute_reply": "2022-02-21T08:25:46.495937Z"
    },
    "slideshow": {
     "slide_type": "subslide"
    }
   },
   "outputs": [
    {
     "data": {
      "text/plain": [
       "[0 < Length(hang_if_no_space_s_str_1),\n",
       " Not(str.substr(hang_if_no_space_s_str_1, 0, 1) == \" \"),\n",
       " 1 < Length(hang_if_no_space_s_str_1),\n",
       " Not(str.substr(hang_if_no_space_s_str_1, 1, 1) == \" \"),\n",
       " 2 < Length(hang_if_no_space_s_str_1),\n",
       " str.substr(hang_if_no_space_s_str_1, 2, 1) == \" \"]"
      ]
     },
     "execution_count": 272,
     "metadata": {},
     "output_type": "execute_result"
    }
   ],
   "source": [
    "_.path"
   ]
  },
  {
   "cell_type": "code",
   "execution_count": 273,
   "metadata": {
    "execution": {
     "iopub.execute_input": "2022-02-21T08:25:46.500562Z",
     "iopub.status.busy": "2022-02-21T08:25:46.499549Z",
     "iopub.status.idle": "2022-02-21T08:25:46.504937Z",
     "shell.execute_reply": "2022-02-21T08:25:46.505506Z"
    },
    "slideshow": {
     "slide_type": "fragment"
    }
   },
   "outputs": [],
   "source": [
    "scf = SimpleConcolicFuzzer()\n",
    "scf.ct.add_trace(_, 'ab d')"
   ]
  },
  {
   "cell_type": "markdown",
   "metadata": {
    "slideshow": {
     "slide_type": "fragment"
    }
   },
   "source": [
    "The path we added above can be obtained from the `TraceTree` as below."
   ]
  },
  {
   "cell_type": "code",
   "execution_count": 274,
   "metadata": {
    "execution": {
     "iopub.execute_input": "2022-02-21T08:25:46.511640Z",
     "iopub.status.busy": "2022-02-21T08:25:46.510953Z",
     "iopub.status.idle": "2022-02-21T08:25:46.519258Z",
     "shell.execute_reply": "2022-02-21T08:25:46.519668Z"
    },
    "slideshow": {
     "slide_type": "subslide"
    }
   },
   "outputs": [
    {
     "data": {
      "text/plain": [
       "[None,\n",
       " Not(Length(hang_if_no_space_s_str_1) <= 0),\n",
       " Not(str.substr(hang_if_no_space_s_str_1, 0, 1) == \" \"),\n",
       " Not(Length(hang_if_no_space_s_str_1) <= 1),\n",
       " Not(str.substr(hang_if_no_space_s_str_1, 1, 1) == \" \"),\n",
       " Not(Length(hang_if_no_space_s_str_1) <= 2),\n",
       " str.substr(hang_if_no_space_s_str_1, 2, 1) == \" \"]"
      ]
     },
     "execution_count": 274,
     "metadata": {},
     "output_type": "execute_result"
    }
   ],
   "source": [
    "[i._smt_val for i in scf.ct.root.get_children(\n",
    ")[0].get_children(\n",
    ")[0].get_children(\n",
    ")[0].get_children(\n",
    ")[0].get_children(\n",
    ")[0].get_children(\n",
    ")[1].get_path_to_root()]"
   ]
  },
  {
   "cell_type": "markdown",
   "metadata": {
    "slideshow": {
     "slide_type": "fragment"
    }
   },
   "source": [
    "Below are the registered leaves that we can explore at this moment."
   ]
  },
  {
   "cell_type": "code",
   "execution_count": 275,
   "metadata": {
    "execution": {
     "iopub.execute_input": "2022-02-21T08:25:46.524091Z",
     "iopub.status.busy": "2022-02-21T08:25:46.523430Z",
     "iopub.status.idle": "2022-02-21T08:25:46.525893Z",
     "shell.execute_reply": "2022-02-21T08:25:46.526312Z"
    },
    "slideshow": {
     "slide_type": "subslide"
    }
   },
   "outputs": [
    {
     "name": "stdout",
     "output_type": "stream",
     "text": [
      ":1 \t PlausibleChild[:1]\n",
      "0:1 \t PlausibleChild[0:1]\n",
      "00:1 \t PlausibleChild[00:1]\n",
      "000:1 \t PlausibleChild[000:1]\n",
      "0000:1 \t PlausibleChild[0000:1]\n",
      "00000:0 \t PlausibleChild[00000:0]\n"
     ]
    }
   ],
   "source": [
    "for key in scf.ct.leaves:\n",
    "    print(key, '\\t', scf.ct.leaves[key])"
   ]
  },
  {
   "cell_type": "markdown",
   "metadata": {
    "slideshow": {
     "slide_type": "fragment"
    }
   },
   "source": [
    "Next, we need a way to visualize the constructed tree."
   ]
  },
  {
   "cell_type": "code",
   "execution_count": 276,
   "metadata": {
    "execution": {
     "iopub.execute_input": "2022-02-21T08:25:46.530762Z",
     "iopub.status.busy": "2022-02-21T08:25:46.529995Z",
     "iopub.status.idle": "2022-02-21T08:25:46.532291Z",
     "shell.execute_reply": "2022-02-21T08:25:46.532830Z"
    },
    "slideshow": {
     "slide_type": "skip"
    }
   },
   "outputs": [],
   "source": [
    "from GrammarFuzzer import display_tree"
   ]
  },
  {
   "cell_type": "code",
   "execution_count": 277,
   "metadata": {
    "execution": {
     "iopub.execute_input": "2022-02-21T08:25:46.536899Z",
     "iopub.status.busy": "2022-02-21T08:25:46.536117Z",
     "iopub.status.idle": "2022-02-21T08:25:46.538231Z",
     "shell.execute_reply": "2022-02-21T08:25:46.538664Z"
    },
    "slideshow": {
     "slide_type": "fragment"
    }
   },
   "outputs": [],
   "source": [
    "TREE_NODES = {}"
   ]
  },
  {
   "cell_type": "code",
   "execution_count": 278,
   "metadata": {
    "execution": {
     "iopub.execute_input": "2022-02-21T08:25:46.544371Z",
     "iopub.status.busy": "2022-02-21T08:25:46.543469Z",
     "iopub.status.idle": "2022-02-21T08:25:46.545941Z",
     "shell.execute_reply": "2022-02-21T08:25:46.546469Z"
    },
    "slideshow": {
     "slide_type": "subslide"
    }
   },
   "outputs": [],
   "source": [
    "def my_extract_node(tnode, id):\n",
    "    key, node, parent = tnode\n",
    "    if node is None:\n",
    "        # return '? (%s:%s)' % (parent.pattern(), key) , [], ''\n",
    "        return '?', [], ''\n",
    "    if node.smt is None:\n",
    "        return '* %s' % node.info.get('string', ''), [], ''\n",
    "\n",
    "    no, yes = node.get_children()\n",
    "    num = str(node.info.get('num'))\n",
    "    children = [('0', no, node), ('1', yes, node)]\n",
    "    TREE_NODES[id] = 0\n",
    "    return \"(%s) %s\" % (num, str(node.smt)), children, ''"
   ]
  },
  {
   "cell_type": "code",
   "execution_count": 279,
   "metadata": {
    "execution": {
     "iopub.execute_input": "2022-02-21T08:25:46.553735Z",
     "iopub.status.busy": "2022-02-21T08:25:46.552587Z",
     "iopub.status.idle": "2022-02-21T08:25:46.554714Z",
     "shell.execute_reply": "2022-02-21T08:25:46.555122Z"
    },
    "slideshow": {
     "slide_type": "subslide"
    }
   },
   "outputs": [],
   "source": [
    "def my_edge_attr(dot, start_node, stop_node):\n",
    "    # the edges are always drawn '0:NO' first.\n",
    "    if TREE_NODES[start_node] == 0:\n",
    "        color, label = 'red', '0'\n",
    "        TREE_NODES[start_node] = 1\n",
    "    else:\n",
    "        color, label = 'blue', '1'\n",
    "        TREE_NODES[start_node] = 2\n",
    "    dot.edge(repr(start_node), repr(stop_node), color=color, label=label)"
   ]
  },
  {
   "cell_type": "code",
   "execution_count": 280,
   "metadata": {
    "execution": {
     "iopub.execute_input": "2022-02-21T08:25:46.559583Z",
     "iopub.status.busy": "2022-02-21T08:25:46.558850Z",
     "iopub.status.idle": "2022-02-21T08:25:46.560673Z",
     "shell.execute_reply": "2022-02-21T08:25:46.561164Z"
    },
    "slideshow": {
     "slide_type": "fragment"
    }
   },
   "outputs": [],
   "source": [
    "def display_trace_tree(root):\n",
    "    TREE_NODES.clear()\n",
    "    return display_tree(\n",
    "        ('', root, None), extract_node=my_extract_node, edge_attr=my_edge_attr)"
   ]
  },
  {
   "cell_type": "code",
   "execution_count": 281,
   "metadata": {
    "execution": {
     "iopub.execute_input": "2022-02-21T08:25:46.566228Z",
     "iopub.status.busy": "2022-02-21T08:25:46.565199Z",
     "iopub.status.idle": "2022-02-21T08:25:47.114934Z",
     "shell.execute_reply": "2022-02-21T08:25:47.115551Z"
    },
    "slideshow": {
     "slide_type": "fragment"
    }
   },
   "outputs": [
    {
     "data": {
      "image/svg+xml": [
       "<?xml version=\"1.0\" encoding=\"UTF-8\" standalone=\"no\"?>\n",
       "<!DOCTYPE svg PUBLIC \"-//W3C//DTD SVG 1.1//EN\"\n",
       " \"http://www.w3.org/Graphics/SVG/1.1/DTD/svg11.dtd\">\n",
       "<!-- Generated by graphviz version 2.49.3 (20211023.0002)\n",
       " -->\n",
       "<!-- Pages: 1 -->\n",
       "<svg width=\"678pt\" height=\"419pt\"\n",
       " viewBox=\"0.00 0.00 677.50 419.00\" xmlns=\"http://www.w3.org/2000/svg\" xmlns:xlink=\"http://www.w3.org/1999/xlink\">\n",
       "<g id=\"graph0\" class=\"graph\" transform=\"scale(1 1) rotate(0) translate(4 415)\">\n",
       "<polygon fill=\"white\" stroke=\"transparent\" points=\"-4,4 -4,-415 673.5,-415 673.5,4 -4,4\"/>\n",
       "<!-- 0 -->\n",
       "<g id=\"node1\" class=\"node\">\n",
       "<title>0</title>\n",
       "<text text-anchor=\"middle\" x=\"545.5\" y=\"-399.8\" font-family=\"Times,serif\" font-size=\"14.00\">(0) Length(hang_if_no_space_s_str_1) &lt;= 0</text>\n",
       "</g>\n",
       "<!-- 1 -->\n",
       "<g id=\"node2\" class=\"node\">\n",
       "<title>1</title>\n",
       "<text text-anchor=\"middle\" x=\"461.5\" y=\"-333.8\" font-family=\"Times,serif\" font-size=\"14.00\">(1) str.substr(hang_if_no_space_s_str_1, 0, 1) == &quot; &quot;</text>\n",
       "</g>\n",
       "<!-- 0&#45;&gt;1 -->\n",
       "<g id=\"edge1\" class=\"edge\">\n",
       "<title>0&#45;&gt;1</title>\n",
       "<path fill=\"none\" stroke=\"red\" d=\"M536.83,-395.89C523.12,-385.45 496.2,-364.93 478.53,-351.47\"/>\n",
       "<polygon fill=\"red\" stroke=\"red\" points=\"480.33,-348.44 470.25,-345.17 476.08,-354.01 480.33,-348.44\"/>\n",
       "<text text-anchor=\"middle\" x=\"515.5\" y=\"-366.8\" font-family=\"Times,serif\" font-size=\"14.00\">0</text>\n",
       "</g>\n",
       "<!-- 12 -->\n",
       "<g id=\"node13\" class=\"node\">\n",
       "<title>12</title>\n",
       "<text text-anchor=\"middle\" x=\"630.5\" y=\"-333.8\" font-family=\"Times,serif\" font-size=\"14.00\">?</text>\n",
       "</g>\n",
       "<!-- 0&#45;&gt;12 -->\n",
       "<g id=\"edge12\" class=\"edge\">\n",
       "<title>0&#45;&gt;12</title>\n",
       "<path fill=\"none\" stroke=\"blue\" d=\"M554.28,-395.89C569.59,-384.36 601.22,-360.54 618.53,-347.51\"/>\n",
       "<polygon fill=\"blue\" stroke=\"blue\" points=\"620.96,-350.07 626.84,-341.26 616.75,-344.47 620.96,-350.07\"/>\n",
       "<text text-anchor=\"middle\" x=\"600.5\" y=\"-366.8\" font-family=\"Times,serif\" font-size=\"14.00\">1</text>\n",
       "</g>\n",
       "<!-- 2 -->\n",
       "<g id=\"node3\" class=\"node\">\n",
       "<title>2</title>\n",
       "<text text-anchor=\"middle\" x=\"388.5\" y=\"-267.8\" font-family=\"Times,serif\" font-size=\"14.00\">(2) Length(hang_if_no_space_s_str_1) &lt;= 1</text>\n",
       "</g>\n",
       "<!-- 1&#45;&gt;2 -->\n",
       "<g id=\"edge2\" class=\"edge\">\n",
       "<title>1&#45;&gt;2</title>\n",
       "<path fill=\"none\" stroke=\"red\" d=\"M453.96,-329.89C442.16,-319.54 419.08,-299.31 403.72,-285.85\"/>\n",
       "<polygon fill=\"red\" stroke=\"red\" points=\"405.93,-283.13 396.11,-279.17 401.32,-288.39 405.93,-283.13\"/>\n",
       "<text text-anchor=\"middle\" x=\"436.5\" y=\"-300.8\" font-family=\"Times,serif\" font-size=\"14.00\">0</text>\n",
       "</g>\n",
       "<!-- 11 -->\n",
       "<g id=\"node12\" class=\"node\">\n",
       "<title>11</title>\n",
       "<text text-anchor=\"middle\" x=\"534.5\" y=\"-267.8\" font-family=\"Times,serif\" font-size=\"14.00\">?</text>\n",
       "</g>\n",
       "<!-- 1&#45;&gt;11 -->\n",
       "<g id=\"edge11\" class=\"edge\">\n",
       "<title>1&#45;&gt;11</title>\n",
       "<path fill=\"none\" stroke=\"blue\" d=\"M469.04,-329.89C481.83,-318.68 507.86,-295.85 522.96,-282.62\"/>\n",
       "<polygon fill=\"blue\" stroke=\"blue\" points=\"525.52,-285.03 530.73,-275.8 520.91,-279.76 525.52,-285.03\"/>\n",
       "<text text-anchor=\"middle\" x=\"509.5\" y=\"-300.8\" font-family=\"Times,serif\" font-size=\"14.00\">1</text>\n",
       "</g>\n",
       "<!-- 3 -->\n",
       "<g id=\"node4\" class=\"node\">\n",
       "<title>3</title>\n",
       "<text text-anchor=\"middle\" x=\"304.5\" y=\"-201.8\" font-family=\"Times,serif\" font-size=\"14.00\">(3) str.substr(hang_if_no_space_s_str_1, 1, 1) == &quot; &quot;</text>\n",
       "</g>\n",
       "<!-- 2&#45;&gt;3 -->\n",
       "<g id=\"edge3\" class=\"edge\">\n",
       "<title>2&#45;&gt;3</title>\n",
       "<path fill=\"none\" stroke=\"red\" d=\"M379.83,-263.89C366.12,-253.45 339.2,-232.93 321.53,-219.47\"/>\n",
       "<polygon fill=\"red\" stroke=\"red\" points=\"323.33,-216.44 313.25,-213.17 319.08,-222.01 323.33,-216.44\"/>\n",
       "<text text-anchor=\"middle\" x=\"358.5\" y=\"-234.8\" font-family=\"Times,serif\" font-size=\"14.00\">0</text>\n",
       "</g>\n",
       "<!-- 10 -->\n",
       "<g id=\"node11\" class=\"node\">\n",
       "<title>10</title>\n",
       "<text text-anchor=\"middle\" x=\"473.5\" y=\"-201.8\" font-family=\"Times,serif\" font-size=\"14.00\">?</text>\n",
       "</g>\n",
       "<!-- 2&#45;&gt;10 -->\n",
       "<g id=\"edge10\" class=\"edge\">\n",
       "<title>2&#45;&gt;10</title>\n",
       "<path fill=\"none\" stroke=\"blue\" d=\"M397.28,-263.89C412.59,-252.36 444.22,-228.54 461.53,-215.51\"/>\n",
       "<polygon fill=\"blue\" stroke=\"blue\" points=\"463.96,-218.07 469.84,-209.26 459.75,-212.47 463.96,-218.07\"/>\n",
       "<text text-anchor=\"middle\" x=\"443.5\" y=\"-234.8\" font-family=\"Times,serif\" font-size=\"14.00\">1</text>\n",
       "</g>\n",
       "<!-- 4 -->\n",
       "<g id=\"node5\" class=\"node\">\n",
       "<title>4</title>\n",
       "<text text-anchor=\"middle\" x=\"231.5\" y=\"-135.8\" font-family=\"Times,serif\" font-size=\"14.00\">(4) Length(hang_if_no_space_s_str_1) &lt;= 2</text>\n",
       "</g>\n",
       "<!-- 3&#45;&gt;4 -->\n",
       "<g id=\"edge4\" class=\"edge\">\n",
       "<title>3&#45;&gt;4</title>\n",
       "<path fill=\"none\" stroke=\"red\" d=\"M296.96,-197.89C285.16,-187.54 262.08,-167.31 246.72,-153.85\"/>\n",
       "<polygon fill=\"red\" stroke=\"red\" points=\"248.93,-151.13 239.11,-147.17 244.32,-156.39 248.93,-151.13\"/>\n",
       "<text text-anchor=\"middle\" x=\"279.5\" y=\"-168.8\" font-family=\"Times,serif\" font-size=\"14.00\">0</text>\n",
       "</g>\n",
       "<!-- 9 -->\n",
       "<g id=\"node10\" class=\"node\">\n",
       "<title>9</title>\n",
       "<text text-anchor=\"middle\" x=\"377.5\" y=\"-135.8\" font-family=\"Times,serif\" font-size=\"14.00\">?</text>\n",
       "</g>\n",
       "<!-- 3&#45;&gt;9 -->\n",
       "<g id=\"edge9\" class=\"edge\">\n",
       "<title>3&#45;&gt;9</title>\n",
       "<path fill=\"none\" stroke=\"blue\" d=\"M312.04,-197.89C324.83,-186.68 350.86,-163.85 365.96,-150.62\"/>\n",
       "<polygon fill=\"blue\" stroke=\"blue\" points=\"368.52,-153.03 373.73,-143.8 363.91,-147.76 368.52,-153.03\"/>\n",
       "<text text-anchor=\"middle\" x=\"352.5\" y=\"-168.8\" font-family=\"Times,serif\" font-size=\"14.00\">1</text>\n",
       "</g>\n",
       "<!-- 5 -->\n",
       "<g id=\"node6\" class=\"node\">\n",
       "<title>5</title>\n",
       "<text text-anchor=\"middle\" x=\"147.5\" y=\"-69.8\" font-family=\"Times,serif\" font-size=\"14.00\">(5) str.substr(hang_if_no_space_s_str_1, 2, 1) == &quot; &quot;</text>\n",
       "</g>\n",
       "<!-- 4&#45;&gt;5 -->\n",
       "<g id=\"edge5\" class=\"edge\">\n",
       "<title>4&#45;&gt;5</title>\n",
       "<path fill=\"none\" stroke=\"red\" d=\"M222.83,-131.89C209.12,-121.45 182.2,-100.93 164.53,-87.47\"/>\n",
       "<polygon fill=\"red\" stroke=\"red\" points=\"166.33,-84.44 156.25,-81.17 162.08,-90.01 166.33,-84.44\"/>\n",
       "<text text-anchor=\"middle\" x=\"201.5\" y=\"-102.8\" font-family=\"Times,serif\" font-size=\"14.00\">0</text>\n",
       "</g>\n",
       "<!-- 8 -->\n",
       "<g id=\"node9\" class=\"node\">\n",
       "<title>8</title>\n",
       "<text text-anchor=\"middle\" x=\"316.5\" y=\"-69.8\" font-family=\"Times,serif\" font-size=\"14.00\">?</text>\n",
       "</g>\n",
       "<!-- 4&#45;&gt;8 -->\n",
       "<g id=\"edge8\" class=\"edge\">\n",
       "<title>4&#45;&gt;8</title>\n",
       "<path fill=\"none\" stroke=\"blue\" d=\"M240.28,-131.89C255.59,-120.36 287.22,-96.54 304.53,-83.51\"/>\n",
       "<polygon fill=\"blue\" stroke=\"blue\" points=\"306.96,-86.07 312.84,-77.26 302.75,-80.47 306.96,-86.07\"/>\n",
       "<text text-anchor=\"middle\" x=\"286.5\" y=\"-102.8\" font-family=\"Times,serif\" font-size=\"14.00\">1</text>\n",
       "</g>\n",
       "<!-- 6 -->\n",
       "<g id=\"node7\" class=\"node\">\n",
       "<title>6</title>\n",
       "<text text-anchor=\"middle\" x=\"128.5\" y=\"-3.8\" font-family=\"Times,serif\" font-size=\"14.00\">?</text>\n",
       "</g>\n",
       "<!-- 5&#45;&gt;6 -->\n",
       "<g id=\"edge6\" class=\"edge\">\n",
       "<title>5&#45;&gt;6</title>\n",
       "<path fill=\"none\" stroke=\"red\" d=\"M144.39,-65.75C142.25,-60.89 139.44,-54.13 137.5,-48 135.14,-40.52 133.13,-32.05 131.61,-24.89\"/>\n",
       "<polygon fill=\"red\" stroke=\"red\" points=\"135.03,-24.14 129.65,-15.02 128.16,-25.51 135.03,-24.14\"/>\n",
       "<text text-anchor=\"middle\" x=\"141.5\" y=\"-36.8\" font-family=\"Times,serif\" font-size=\"14.00\">0</text>\n",
       "</g>\n",
       "<!-- 7 -->\n",
       "<g id=\"node8\" class=\"node\">\n",
       "<title>7</title>\n",
       "<text text-anchor=\"middle\" x=\"167.5\" y=\"-3.8\" font-family=\"Times,serif\" font-size=\"14.00\">* ab d</text>\n",
       "</g>\n",
       "<!-- 5&#45;&gt;7 -->\n",
       "<g id=\"edge7\" class=\"edge\">\n",
       "<title>5&#45;&gt;7</title>\n",
       "<path fill=\"none\" stroke=\"blue\" d=\"M149.64,-65.65C152.66,-55.98 158.28,-38.02 162.4,-24.81\"/>\n",
       "<polygon fill=\"blue\" stroke=\"blue\" points=\"165.79,-25.7 165.43,-15.11 159.11,-23.61 165.79,-25.7\"/>\n",
       "<text text-anchor=\"middle\" x=\"163.5\" y=\"-36.8\" font-family=\"Times,serif\" font-size=\"14.00\">1</text>\n",
       "</g>\n",
       "</g>\n",
       "</svg>\n"
      ],
      "text/plain": [
       "<graphviz.dot.Digraph at 0x1146c1ac0>"
      ]
     },
     "execution_count": 281,
     "metadata": {},
     "output_type": "execute_result"
    }
   ],
   "source": [
    "display_trace_tree(scf.ct.root)"
   ]
  },
  {
   "cell_type": "markdown",
   "metadata": {
    "slideshow": {
     "slide_type": "subslide"
    }
   },
   "source": [
    "For example, the pattern `00000:0` corresponds to the following predicates."
   ]
  },
  {
   "cell_type": "code",
   "execution_count": 282,
   "metadata": {
    "execution": {
     "iopub.execute_input": "2022-02-21T08:25:47.120811Z",
     "iopub.status.busy": "2022-02-21T08:25:47.120230Z",
     "iopub.status.idle": "2022-02-21T08:25:47.122824Z",
     "shell.execute_reply": "2022-02-21T08:25:47.123216Z"
    },
    "slideshow": {
     "slide_type": "fragment"
    }
   },
   "outputs": [
    {
     "data": {
      "text/plain": [
       "PlausibleChild[00000:0]"
      ]
     },
     "execution_count": 282,
     "metadata": {},
     "output_type": "execute_result"
    }
   ],
   "source": [
    "scf.ct.leaves['00000:0']"
   ]
  },
  {
   "cell_type": "code",
   "execution_count": 283,
   "metadata": {
    "execution": {
     "iopub.execute_input": "2022-02-21T08:25:47.126963Z",
     "iopub.status.busy": "2022-02-21T08:25:47.126343Z",
     "iopub.status.idle": "2022-02-21T08:25:47.133854Z",
     "shell.execute_reply": "2022-02-21T08:25:47.134438Z"
    },
    "slideshow": {
     "slide_type": "fragment"
    }
   },
   "outputs": [
    {
     "data": {
      "text/plain": [
       "[Not(Length(hang_if_no_space_s_str_1) <= 0),\n",
       " Not(str.substr(hang_if_no_space_s_str_1, 0, 1) == \" \"),\n",
       " Not(Length(hang_if_no_space_s_str_1) <= 1),\n",
       " Not(str.substr(hang_if_no_space_s_str_1, 1, 1) == \" \"),\n",
       " Not(Length(hang_if_no_space_s_str_1) <= 2),\n",
       " Not(str.substr(hang_if_no_space_s_str_1, 2, 1) == \" \")]"
      ]
     },
     "execution_count": 283,
     "metadata": {},
     "output_type": "execute_result"
    }
   ],
   "source": [
    "scf.ct.leaves['00000:0'].path_expression()"
   ]
  },
  {
   "cell_type": "markdown",
   "metadata": {
    "slideshow": {
     "slide_type": "fragment"
    }
   },
   "source": [
    "Similarly the pattern `:1` corresponds to the following predicates."
   ]
  },
  {
   "cell_type": "code",
   "execution_count": 284,
   "metadata": {
    "execution": {
     "iopub.execute_input": "2022-02-21T08:25:47.139066Z",
     "iopub.status.busy": "2022-02-21T08:25:47.138459Z",
     "iopub.status.idle": "2022-02-21T08:25:47.140957Z",
     "shell.execute_reply": "2022-02-21T08:25:47.141415Z"
    },
    "slideshow": {
     "slide_type": "fragment"
    }
   },
   "outputs": [
    {
     "data": {
      "text/plain": [
       "PlausibleChild[:1]"
      ]
     },
     "execution_count": 284,
     "metadata": {},
     "output_type": "execute_result"
    }
   ],
   "source": [
    "scf.ct.leaves[':1']"
   ]
  },
  {
   "cell_type": "code",
   "execution_count": 285,
   "metadata": {
    "execution": {
     "iopub.execute_input": "2022-02-21T08:25:47.146241Z",
     "iopub.status.busy": "2022-02-21T08:25:47.145121Z",
     "iopub.status.idle": "2022-02-21T08:25:47.149843Z",
     "shell.execute_reply": "2022-02-21T08:25:47.150244Z"
    },
    "slideshow": {
     "slide_type": "subslide"
    }
   },
   "outputs": [
    {
     "data": {
      "text/plain": [
       "[Length(hang_if_no_space_s_str_1) <= 0]"
      ]
     },
     "execution_count": 285,
     "metadata": {},
     "output_type": "execute_result"
    }
   ],
   "source": [
    "scf.ct.leaves[':1'].path_expression()"
   ]
  },
  {
   "cell_type": "markdown",
   "metadata": {
    "slideshow": {
     "slide_type": "fragment"
    }
   },
   "source": [
    "We can now generate the next input to be generated by looking for the a leaf that is incompletely explored. The idea is to collect all leaf nodes, and choose one at random."
   ]
  },
  {
   "cell_type": "code",
   "execution_count": 286,
   "metadata": {
    "execution": {
     "iopub.execute_input": "2022-02-21T08:25:47.154941Z",
     "iopub.status.busy": "2022-02-21T08:25:47.154389Z",
     "iopub.status.idle": "2022-02-21T08:25:47.156165Z",
     "shell.execute_reply": "2022-02-21T08:25:47.156556Z"
    },
    "slideshow": {
     "slide_type": "fragment"
    }
   },
   "outputs": [],
   "source": [
    "class SimpleConcolicFuzzer(SimpleConcolicFuzzer):\n",
    "    def add_trace(self, trace, s):\n",
    "        self.ct.add_trace(trace, s)\n",
    "\n",
    "    def next_choice(self):\n",
    "        #lst = sorted(list(self.ct.leaves.keys()), key=len)\n",
    "        c = random.choice(list(self.ct.leaves.keys()))\n",
    "        #c = lst[0]\n",
    "        return self.ct.leaves[c]"
   ]
  },
  {
   "cell_type": "markdown",
   "metadata": {
    "slideshow": {
     "slide_type": "fragment"
    }
   },
   "source": [
    "We use the `next_choice()` as follows."
   ]
  },
  {
   "cell_type": "code",
   "execution_count": 287,
   "metadata": {
    "execution": {
     "iopub.execute_input": "2022-02-21T08:25:47.160486Z",
     "iopub.status.busy": "2022-02-21T08:25:47.159826Z",
     "iopub.status.idle": "2022-02-21T08:25:47.165543Z",
     "shell.execute_reply": "2022-02-21T08:25:47.165955Z"
    },
    "slideshow": {
     "slide_type": "subslide"
    }
   },
   "outputs": [],
   "source": [
    "scf = SimpleConcolicFuzzer()\n",
    "scf.add_trace(_, 'ab d')\n",
    "node = scf.next_choice()"
   ]
  },
  {
   "cell_type": "code",
   "execution_count": 288,
   "metadata": {
    "execution": {
     "iopub.execute_input": "2022-02-21T08:25:47.170075Z",
     "iopub.status.busy": "2022-02-21T08:25:47.169349Z",
     "iopub.status.idle": "2022-02-21T08:25:47.171984Z",
     "shell.execute_reply": "2022-02-21T08:25:47.172426Z"
    },
    "slideshow": {
     "slide_type": "fragment"
    }
   },
   "outputs": [
    {
     "data": {
      "text/plain": [
       "PlausibleChild[0000:1]"
      ]
     },
     "execution_count": 288,
     "metadata": {},
     "output_type": "execute_result"
    }
   ],
   "source": [
    "node"
   ]
  },
  {
   "cell_type": "code",
   "execution_count": 289,
   "metadata": {
    "execution": {
     "iopub.execute_input": "2022-02-21T08:25:47.177557Z",
     "iopub.status.busy": "2022-02-21T08:25:47.175994Z",
     "iopub.status.idle": "2022-02-21T08:25:47.184397Z",
     "shell.execute_reply": "2022-02-21T08:25:47.184818Z"
    },
    "slideshow": {
     "slide_type": "fragment"
    }
   },
   "outputs": [
    {
     "data": {
      "text/plain": [
       "[Not(Length(hang_if_no_space_s_str_1) <= 0),\n",
       " Not(str.substr(hang_if_no_space_s_str_1, 0, 1) == \" \"),\n",
       " Not(Length(hang_if_no_space_s_str_1) <= 1),\n",
       " Not(str.substr(hang_if_no_space_s_str_1, 1, 1) == \" \"),\n",
       " Length(hang_if_no_space_s_str_1) <= 2]"
      ]
     },
     "execution_count": 289,
     "metadata": {},
     "output_type": "execute_result"
    }
   ],
   "source": [
    "node.path_expression()"
   ]
  },
  {
   "cell_type": "markdown",
   "metadata": {
    "slideshow": {
     "slide_type": "fragment"
    }
   },
   "source": [
    "We get the next choice for exploration, and expand the path expression, and return it together with a context using `get_newpath()`"
   ]
  },
  {
   "cell_type": "code",
   "execution_count": 290,
   "metadata": {
    "execution": {
     "iopub.execute_input": "2022-02-21T08:25:47.189599Z",
     "iopub.status.busy": "2022-02-21T08:25:47.189015Z",
     "iopub.status.idle": "2022-02-21T08:25:47.190753Z",
     "shell.execute_reply": "2022-02-21T08:25:47.191316Z"
    },
    "slideshow": {
     "slide_type": "subslide"
    }
   },
   "outputs": [],
   "source": [
    "class SimpleConcolicFuzzer(SimpleConcolicFuzzer):\n",
    "    def get_newpath(self):\n",
    "        node = self.next_choice()\n",
    "        path = node.path_expression()\n",
    "        return path, node.cc()"
   ]
  },
  {
   "cell_type": "code",
   "execution_count": 291,
   "metadata": {
    "execution": {
     "iopub.execute_input": "2022-02-21T08:25:47.195972Z",
     "iopub.status.busy": "2022-02-21T08:25:47.195283Z",
     "iopub.status.idle": "2022-02-21T08:25:47.202407Z",
     "shell.execute_reply": "2022-02-21T08:25:47.202895Z"
    },
    "slideshow": {
     "slide_type": "fragment"
    }
   },
   "outputs": [
    {
     "data": {
      "text/plain": [
       "[Length(hang_if_no_space_s_str_1) <= 0]"
      ]
     },
     "execution_count": 291,
     "metadata": {},
     "output_type": "execute_result"
    }
   ],
   "source": [
    "scf = SimpleConcolicFuzzer()\n",
    "scf.add_trace(_, 'abcd')\n",
    "path, cc = scf.get_newpath()\n",
    "path"
   ]
  },
  {
   "cell_type": "markdown",
   "metadata": {
    "slideshow": {
     "slide_type": "subslide"
    }
   },
   "source": [
    "#### The fuzzing method\n",
    "\n",
    "The `fuzz()` method simply generates new lists of predicates, and solves them to produce new inputs."
   ]
  },
  {
   "cell_type": "code",
   "execution_count": 292,
   "metadata": {
    "execution": {
     "iopub.execute_input": "2022-02-21T08:25:47.209750Z",
     "iopub.status.busy": "2022-02-21T08:25:47.209109Z",
     "iopub.status.idle": "2022-02-21T08:25:47.210984Z",
     "shell.execute_reply": "2022-02-21T08:25:47.211421Z"
    },
    "slideshow": {
     "slide_type": "subslide"
    }
   },
   "outputs": [],
   "source": [
    "class SimpleConcolicFuzzer(SimpleConcolicFuzzer):\n",
    "    def fuzz(self):\n",
    "        if self.ct.root.children == {}:\n",
    "            # a random value to generate comparisons. This would be\n",
    "            # the initial value around which we explore with concolic\n",
    "            # fuzzing.\n",
    "            # str_len = random.randint(1,100)\n",
    "            # return ' '*str_len\n",
    "            return ' '\n",
    "        for i in range(self.max_tries):\n",
    "            path, last = self.get_newpath()\n",
    "            s, v = zeval_smt(path, last, log=False)\n",
    "            if s != 'sat':\n",
    "                # raise Exception(\"Unexpected UNSAT\")\n",
    "                continue\n",
    "\n",
    "            val = list(v.values())[0]\n",
    "            elt, typ = val\n",
    "\n",
    "            # make sure that we do not retry the tried paths\n",
    "            # The tracer we add here is incomplete. This gets updated when\n",
    "            # the add_trace is called from the concolic fuzzer context.\n",
    "            # self.add_trace(ConcolicTracer((last.decls, path)), elt)\n",
    "            if typ == 'Int':\n",
    "                if len(elt) == 2 and elt[0] == '-':  # negative numbers are [-, x]\n",
    "                    return -1*int(elt[1])\n",
    "                return int(elt)\n",
    "            elif typ == 'String':\n",
    "                return elt\n",
    "            return elt\n",
    "        return None"
   ]
  },
  {
   "cell_type": "markdown",
   "metadata": {
    "slideshow": {
     "slide_type": "subslide"
    }
   },
   "source": [
    "### End of Excursion"
   ]
  },
  {
   "cell_type": "markdown",
   "metadata": {
    "slideshow": {
     "slide_type": "fragment"
    }
   },
   "source": [
    "To illustrate `SimpleConcolicFuzzer`, let us apply it on our example program `cgi_decode()` from the `Coverage` chapter. Note that we cannot use it directly as the hash lookups in `hex_values` can not be used for transferring constraints yet."
   ]
  },
  {
   "cell_type": "code",
   "execution_count": 293,
   "metadata": {
    "execution": {
     "iopub.execute_input": "2022-02-21T08:25:47.216321Z",
     "iopub.status.busy": "2022-02-21T08:25:47.215494Z",
     "iopub.status.idle": "2022-02-21T08:25:47.220022Z",
     "shell.execute_reply": "2022-02-21T08:25:47.220508Z"
    },
    "slideshow": {
     "slide_type": "fragment"
    }
   },
   "outputs": [],
   "source": [
    "with ConcolicTracer() as _:\n",
    "    _[cgi_decode]('a+c')"
   ]
  },
  {
   "cell_type": "code",
   "execution_count": 294,
   "metadata": {
    "execution": {
     "iopub.execute_input": "2022-02-21T08:25:47.224542Z",
     "iopub.status.busy": "2022-02-21T08:25:47.223927Z",
     "iopub.status.idle": "2022-02-21T08:25:47.231678Z",
     "shell.execute_reply": "2022-02-21T08:25:47.232125Z"
    },
    "slideshow": {
     "slide_type": "subslide"
    }
   },
   "outputs": [
    {
     "data": {
      "text/plain": [
       "[0 < Length(cgi_decode_s_str_1),\n",
       " Not(str.substr(cgi_decode_s_str_1, 0, 1) == \"+\"),\n",
       " Not(str.substr(cgi_decode_s_str_1, 0, 1) == \"%\"),\n",
       " 1 < Length(cgi_decode_s_str_1),\n",
       " str.substr(cgi_decode_s_str_1, 1, 1) == \"+\",\n",
       " 2 < Length(cgi_decode_s_str_1),\n",
       " Not(str.substr(cgi_decode_s_str_1, 2, 1) == \"+\"),\n",
       " Not(str.substr(cgi_decode_s_str_1, 2, 1) == \"%\"),\n",
       " Not(3 < Length(cgi_decode_s_str_1))]"
      ]
     },
     "execution_count": 294,
     "metadata": {},
     "output_type": "execute_result"
    }
   ],
   "source": [
    "_.path"
   ]
  },
  {
   "cell_type": "code",
   "execution_count": 295,
   "metadata": {
    "execution": {
     "iopub.execute_input": "2022-02-21T08:25:47.236494Z",
     "iopub.status.busy": "2022-02-21T08:25:47.235885Z",
     "iopub.status.idle": "2022-02-21T08:25:47.242501Z",
     "shell.execute_reply": "2022-02-21T08:25:47.243025Z"
    },
    "slideshow": {
     "slide_type": "fragment"
    }
   },
   "outputs": [],
   "source": [
    "scf = SimpleConcolicFuzzer()\n",
    "scf.add_trace(_, 'a+c')"
   ]
  },
  {
   "cell_type": "markdown",
   "metadata": {
    "slideshow": {
     "slide_type": "fragment"
    }
   },
   "source": [
    "The _trace tree_ shows the path conditions encountered so far. Any blue edge towards a \"?\" implies that there is a path not yet taken."
   ]
  },
  {
   "cell_type": "code",
   "execution_count": 296,
   "metadata": {
    "execution": {
     "iopub.execute_input": "2022-02-21T08:25:47.247258Z",
     "iopub.status.busy": "2022-02-21T08:25:47.246584Z",
     "iopub.status.idle": "2022-02-21T08:25:47.728930Z",
     "shell.execute_reply": "2022-02-21T08:25:47.729855Z"
    },
    "slideshow": {
     "slide_type": "subslide"
    }
   },
   "outputs": [
    {
     "data": {
      "image/svg+xml": [
       "<?xml version=\"1.0\" encoding=\"UTF-8\" standalone=\"no\"?>\n",
       "<!DOCTYPE svg PUBLIC \"-//W3C//DTD SVG 1.1//EN\"\n",
       " \"http://www.w3.org/Graphics/SVG/1.1/DTD/svg11.dtd\">\n",
       "<!-- Generated by graphviz version 2.49.3 (20211023.0002)\n",
       " -->\n",
       "<!-- Pages: 1 -->\n",
       "<svg width=\"645pt\" height=\"617pt\"\n",
       " viewBox=\"0.00 0.00 645.00 617.00\" xmlns=\"http://www.w3.org/2000/svg\" xmlns:xlink=\"http://www.w3.org/1999/xlink\">\n",
       "<g id=\"graph0\" class=\"graph\" transform=\"scale(1 1) rotate(0) translate(4 613)\">\n",
       "<polygon fill=\"white\" stroke=\"transparent\" points=\"-4,4 -4,-613 641,-613 641,4 -4,4\"/>\n",
       "<!-- 0 -->\n",
       "<g id=\"node1\" class=\"node\">\n",
       "<title>0</title>\n",
       "<text text-anchor=\"middle\" x=\"532\" y=\"-597.8\" font-family=\"Times,serif\" font-size=\"14.00\">(0) Length(cgi_decode_s_str_1) &lt;= 0</text>\n",
       "</g>\n",
       "<!-- 1 -->\n",
       "<g id=\"node2\" class=\"node\">\n",
       "<title>1</title>\n",
       "<text text-anchor=\"middle\" x=\"456\" y=\"-531.8\" font-family=\"Times,serif\" font-size=\"14.00\">(1) str.substr(cgi_decode_s_str_1, 0, 1) == &quot;+&quot;</text>\n",
       "</g>\n",
       "<!-- 0&#45;&gt;1 -->\n",
       "<g id=\"edge1\" class=\"edge\">\n",
       "<title>0&#45;&gt;1</title>\n",
       "<path fill=\"none\" stroke=\"red\" d=\"M524.15,-593.89C511.87,-583.54 487.84,-563.31 471.85,-549.85\"/>\n",
       "<polygon fill=\"red\" stroke=\"red\" points=\"473.82,-546.93 463.92,-543.17 469.31,-552.29 473.82,-546.93\"/>\n",
       "<text text-anchor=\"middle\" x=\"505\" y=\"-564.8\" font-family=\"Times,serif\" font-size=\"14.00\">0</text>\n",
       "</g>\n",
       "<!-- 18 -->\n",
       "<g id=\"node19\" class=\"node\">\n",
       "<title>18</title>\n",
       "<text text-anchor=\"middle\" x=\"608\" y=\"-531.8\" font-family=\"Times,serif\" font-size=\"14.00\">?</text>\n",
       "</g>\n",
       "<!-- 0&#45;&gt;18 -->\n",
       "<g id=\"edge18\" class=\"edge\">\n",
       "<title>0&#45;&gt;18</title>\n",
       "<path fill=\"none\" stroke=\"blue\" d=\"M539.85,-593.89C553.29,-582.57 580.78,-559.42 596.43,-546.24\"/>\n",
       "<polygon fill=\"blue\" stroke=\"blue\" points=\"599.01,-548.64 604.41,-539.52 594.51,-543.29 599.01,-548.64\"/>\n",
       "<text text-anchor=\"middle\" x=\"581\" y=\"-564.8\" font-family=\"Times,serif\" font-size=\"14.00\">1</text>\n",
       "</g>\n",
       "<!-- 2 -->\n",
       "<g id=\"node3\" class=\"node\">\n",
       "<title>2</title>\n",
       "<text text-anchor=\"middle\" x=\"379\" y=\"-465.8\" font-family=\"Times,serif\" font-size=\"14.00\">(2) str.substr(cgi_decode_s_str_1, 0, 1) == &quot;%&quot;</text>\n",
       "</g>\n",
       "<!-- 1&#45;&gt;2 -->\n",
       "<g id=\"edge2\" class=\"edge\">\n",
       "<title>1&#45;&gt;2</title>\n",
       "<path fill=\"none\" stroke=\"red\" d=\"M448.05,-527.89C435.6,-517.54 411.26,-497.31 395.06,-483.85\"/>\n",
       "<polygon fill=\"red\" stroke=\"red\" points=\"396.95,-480.87 387.02,-477.17 392.48,-486.25 396.95,-480.87\"/>\n",
       "<text text-anchor=\"middle\" x=\"429\" y=\"-498.8\" font-family=\"Times,serif\" font-size=\"14.00\">0</text>\n",
       "</g>\n",
       "<!-- 17 -->\n",
       "<g id=\"node18\" class=\"node\">\n",
       "<title>17</title>\n",
       "<text text-anchor=\"middle\" x=\"533\" y=\"-465.8\" font-family=\"Times,serif\" font-size=\"14.00\">?</text>\n",
       "</g>\n",
       "<!-- 1&#45;&gt;17 -->\n",
       "<g id=\"edge17\" class=\"edge\">\n",
       "<title>1&#45;&gt;17</title>\n",
       "<path fill=\"none\" stroke=\"blue\" d=\"M463.95,-527.89C477.57,-516.57 505.42,-493.42 521.28,-480.24\"/>\n",
       "<polygon fill=\"blue\" stroke=\"blue\" points=\"523.91,-482.61 529.36,-473.52 519.43,-477.22 523.91,-482.61\"/>\n",
       "<text text-anchor=\"middle\" x=\"506\" y=\"-498.8\" font-family=\"Times,serif\" font-size=\"14.00\">1</text>\n",
       "</g>\n",
       "<!-- 3 -->\n",
       "<g id=\"node4\" class=\"node\">\n",
       "<title>3</title>\n",
       "<text text-anchor=\"middle\" x=\"316\" y=\"-399.8\" font-family=\"Times,serif\" font-size=\"14.00\">(3) Length(cgi_decode_s_str_1) &lt;= 1</text>\n",
       "</g>\n",
       "<!-- 2&#45;&gt;3 -->\n",
       "<g id=\"edge3\" class=\"edge\">\n",
       "<title>2&#45;&gt;3</title>\n",
       "<path fill=\"none\" stroke=\"red\" d=\"M372.26,-461.65C362.16,-451.4 342.91,-431.83 329.76,-418.48\"/>\n",
       "<polygon fill=\"red\" stroke=\"red\" points=\"332.01,-415.78 322.5,-411.11 327.03,-420.69 332.01,-415.78\"/>\n",
       "<text text-anchor=\"middle\" x=\"358\" y=\"-432.8\" font-family=\"Times,serif\" font-size=\"14.00\">0</text>\n",
       "</g>\n",
       "<!-- 16 -->\n",
       "<g id=\"node17\" class=\"node\">\n",
       "<title>16</title>\n",
       "<text text-anchor=\"middle\" x=\"443\" y=\"-399.8\" font-family=\"Times,serif\" font-size=\"14.00\">?</text>\n",
       "</g>\n",
       "<!-- 2&#45;&gt;16 -->\n",
       "<g id=\"edge16\" class=\"edge\">\n",
       "<title>2&#45;&gt;16</title>\n",
       "<path fill=\"none\" stroke=\"blue\" d=\"M385.85,-461.65C396.96,-450.54 419,-428.5 432.22,-415.28\"/>\n",
       "<polygon fill=\"blue\" stroke=\"blue\" points=\"434.84,-417.61 439.44,-408.06 429.89,-412.66 434.84,-417.61\"/>\n",
       "<text text-anchor=\"middle\" x=\"421\" y=\"-432.8\" font-family=\"Times,serif\" font-size=\"14.00\">1</text>\n",
       "</g>\n",
       "<!-- 4 -->\n",
       "<g id=\"node5\" class=\"node\">\n",
       "<title>4</title>\n",
       "<text text-anchor=\"middle\" x=\"240\" y=\"-333.8\" font-family=\"Times,serif\" font-size=\"14.00\">(4) str.substr(cgi_decode_s_str_1, 1, 1) == &quot;+&quot;</text>\n",
       "</g>\n",
       "<!-- 3&#45;&gt;4 -->\n",
       "<g id=\"edge4\" class=\"edge\">\n",
       "<title>3&#45;&gt;4</title>\n",
       "<path fill=\"none\" stroke=\"red\" d=\"M308.15,-395.89C295.87,-385.54 271.84,-365.31 255.85,-351.85\"/>\n",
       "<polygon fill=\"red\" stroke=\"red\" points=\"257.82,-348.93 247.92,-345.17 253.31,-354.29 257.82,-348.93\"/>\n",
       "<text text-anchor=\"middle\" x=\"289\" y=\"-366.8\" font-family=\"Times,serif\" font-size=\"14.00\">0</text>\n",
       "</g>\n",
       "<!-- 15 -->\n",
       "<g id=\"node16\" class=\"node\">\n",
       "<title>15</title>\n",
       "<text text-anchor=\"middle\" x=\"392\" y=\"-333.8\" font-family=\"Times,serif\" font-size=\"14.00\">?</text>\n",
       "</g>\n",
       "<!-- 3&#45;&gt;15 -->\n",
       "<g id=\"edge15\" class=\"edge\">\n",
       "<title>3&#45;&gt;15</title>\n",
       "<path fill=\"none\" stroke=\"blue\" d=\"M323.85,-395.89C337.29,-384.57 364.78,-361.42 380.43,-348.24\"/>\n",
       "<polygon fill=\"blue\" stroke=\"blue\" points=\"383.01,-350.64 388.41,-341.52 378.51,-345.29 383.01,-350.64\"/>\n",
       "<text text-anchor=\"middle\" x=\"365\" y=\"-366.8\" font-family=\"Times,serif\" font-size=\"14.00\">1</text>\n",
       "</g>\n",
       "<!-- 5 -->\n",
       "<g id=\"node6\" class=\"node\">\n",
       "<title>5</title>\n",
       "<text text-anchor=\"middle\" x=\"225\" y=\"-267.8\" font-family=\"Times,serif\" font-size=\"14.00\">?</text>\n",
       "</g>\n",
       "<!-- 4&#45;&gt;5 -->\n",
       "<g id=\"edge5\" class=\"edge\">\n",
       "<title>4&#45;&gt;5</title>\n",
       "<path fill=\"none\" stroke=\"red\" d=\"M238.39,-329.65C236.15,-320.07 232,-302.38 228.91,-289.2\"/>\n",
       "<polygon fill=\"red\" stroke=\"red\" points=\"232.24,-288.05 226.55,-279.11 225.42,-289.64 232.24,-288.05\"/>\n",
       "<text text-anchor=\"middle\" x=\"238\" y=\"-300.8\" font-family=\"Times,serif\" font-size=\"14.00\">0</text>\n",
       "</g>\n",
       "<!-- 6 -->\n",
       "<g id=\"node7\" class=\"node\">\n",
       "<title>6</title>\n",
       "<text text-anchor=\"middle\" x=\"352\" y=\"-267.8\" font-family=\"Times,serif\" font-size=\"14.00\">(5) Length(cgi_decode_s_str_1) &lt;= 2</text>\n",
       "</g>\n",
       "<!-- 4&#45;&gt;6 -->\n",
       "<g id=\"edge6\" class=\"edge\">\n",
       "<title>4&#45;&gt;6</title>\n",
       "<path fill=\"none\" stroke=\"blue\" d=\"M251.56,-329.89C270.43,-319.11 308.06,-297.61 331.53,-284.2\"/>\n",
       "<polygon fill=\"blue\" stroke=\"blue\" points=\"333.39,-287.17 340.33,-279.17 329.91,-281.09 333.39,-287.17\"/>\n",
       "<text text-anchor=\"middle\" x=\"311\" y=\"-300.8\" font-family=\"Times,serif\" font-size=\"14.00\">1</text>\n",
       "</g>\n",
       "<!-- 7 -->\n",
       "<g id=\"node8\" class=\"node\">\n",
       "<title>7</title>\n",
       "<text text-anchor=\"middle\" x=\"245\" y=\"-201.8\" font-family=\"Times,serif\" font-size=\"14.00\">(6) str.substr(cgi_decode_s_str_1, 2, 1) == &quot;+&quot;</text>\n",
       "</g>\n",
       "<!-- 6&#45;&gt;7 -->\n",
       "<g id=\"edge7\" class=\"edge\">\n",
       "<title>6&#45;&gt;7</title>\n",
       "<path fill=\"none\" stroke=\"red\" d=\"M340.95,-263.89C323.01,-253.16 287.29,-231.8 264.86,-218.38\"/>\n",
       "<polygon fill=\"red\" stroke=\"red\" points=\"266.53,-215.3 256.15,-213.17 262.93,-221.3 266.53,-215.3\"/>\n",
       "<text text-anchor=\"middle\" x=\"313\" y=\"-234.8\" font-family=\"Times,serif\" font-size=\"14.00\">0</text>\n",
       "</g>\n",
       "<!-- 14 -->\n",
       "<g id=\"node15\" class=\"node\">\n",
       "<title>14</title>\n",
       "<text text-anchor=\"middle\" x=\"397\" y=\"-201.8\" font-family=\"Times,serif\" font-size=\"14.00\">?</text>\n",
       "</g>\n",
       "<!-- 6&#45;&gt;14 -->\n",
       "<g id=\"edge14\" class=\"edge\">\n",
       "<title>6&#45;&gt;14</title>\n",
       "<path fill=\"none\" stroke=\"blue\" d=\"M356.82,-263.65C364.11,-253.27 378.12,-233.36 387.51,-220\"/>\n",
       "<polygon fill=\"blue\" stroke=\"blue\" points=\"390.49,-221.85 393.37,-211.66 384.76,-217.82 390.49,-221.85\"/>\n",
       "<text text-anchor=\"middle\" x=\"383\" y=\"-234.8\" font-family=\"Times,serif\" font-size=\"14.00\">1</text>\n",
       "</g>\n",
       "<!-- 8 -->\n",
       "<g id=\"node9\" class=\"node\">\n",
       "<title>8</title>\n",
       "<text text-anchor=\"middle\" x=\"168\" y=\"-135.8\" font-family=\"Times,serif\" font-size=\"14.00\">(7) str.substr(cgi_decode_s_str_1, 2, 1) == &quot;%&quot;</text>\n",
       "</g>\n",
       "<!-- 7&#45;&gt;8 -->\n",
       "<g id=\"edge8\" class=\"edge\">\n",
       "<title>7&#45;&gt;8</title>\n",
       "<path fill=\"none\" stroke=\"red\" d=\"M237.05,-197.89C224.6,-187.54 200.26,-167.31 184.06,-153.85\"/>\n",
       "<polygon fill=\"red\" stroke=\"red\" points=\"185.95,-150.87 176.02,-147.17 181.48,-156.25 185.95,-150.87\"/>\n",
       "<text text-anchor=\"middle\" x=\"218\" y=\"-168.8\" font-family=\"Times,serif\" font-size=\"14.00\">0</text>\n",
       "</g>\n",
       "<!-- 13 -->\n",
       "<g id=\"node14\" class=\"node\">\n",
       "<title>13</title>\n",
       "<text text-anchor=\"middle\" x=\"322\" y=\"-135.8\" font-family=\"Times,serif\" font-size=\"14.00\">?</text>\n",
       "</g>\n",
       "<!-- 7&#45;&gt;13 -->\n",
       "<g id=\"edge13\" class=\"edge\">\n",
       "<title>7&#45;&gt;13</title>\n",
       "<path fill=\"none\" stroke=\"blue\" d=\"M252.95,-197.89C266.57,-186.57 294.42,-163.42 310.28,-150.24\"/>\n",
       "<polygon fill=\"blue\" stroke=\"blue\" points=\"312.91,-152.61 318.36,-143.52 308.43,-147.22 312.91,-152.61\"/>\n",
       "<text text-anchor=\"middle\" x=\"295\" y=\"-168.8\" font-family=\"Times,serif\" font-size=\"14.00\">1</text>\n",
       "</g>\n",
       "<!-- 9 -->\n",
       "<g id=\"node10\" class=\"node\">\n",
       "<title>9</title>\n",
       "<text text-anchor=\"middle\" x=\"105\" y=\"-69.8\" font-family=\"Times,serif\" font-size=\"14.00\">(8) Length(cgi_decode_s_str_1) &lt;= 3</text>\n",
       "</g>\n",
       "<!-- 8&#45;&gt;9 -->\n",
       "<g id=\"edge9\" class=\"edge\">\n",
       "<title>8&#45;&gt;9</title>\n",
       "<path fill=\"none\" stroke=\"red\" d=\"M161.26,-131.65C151.16,-121.4 131.91,-101.83 118.76,-88.48\"/>\n",
       "<polygon fill=\"red\" stroke=\"red\" points=\"121.01,-85.78 111.5,-81.11 116.03,-90.69 121.01,-85.78\"/>\n",
       "<text text-anchor=\"middle\" x=\"147\" y=\"-102.8\" font-family=\"Times,serif\" font-size=\"14.00\">0</text>\n",
       "</g>\n",
       "<!-- 12 -->\n",
       "<g id=\"node13\" class=\"node\">\n",
       "<title>12</title>\n",
       "<text text-anchor=\"middle\" x=\"232\" y=\"-69.8\" font-family=\"Times,serif\" font-size=\"14.00\">?</text>\n",
       "</g>\n",
       "<!-- 8&#45;&gt;12 -->\n",
       "<g id=\"edge12\" class=\"edge\">\n",
       "<title>8&#45;&gt;12</title>\n",
       "<path fill=\"none\" stroke=\"blue\" d=\"M174.85,-131.65C185.96,-120.54 208,-98.5 221.22,-85.28\"/>\n",
       "<polygon fill=\"blue\" stroke=\"blue\" points=\"223.84,-87.61 228.44,-78.06 218.89,-82.66 223.84,-87.61\"/>\n",
       "<text text-anchor=\"middle\" x=\"210\" y=\"-102.8\" font-family=\"Times,serif\" font-size=\"14.00\">1</text>\n",
       "</g>\n",
       "<!-- 10 -->\n",
       "<g id=\"node11\" class=\"node\">\n",
       "<title>10</title>\n",
       "<text text-anchor=\"middle\" x=\"87\" y=\"-3.8\" font-family=\"Times,serif\" font-size=\"14.00\">?</text>\n",
       "</g>\n",
       "<!-- 9&#45;&gt;10 -->\n",
       "<g id=\"edge10\" class=\"edge\">\n",
       "<title>9&#45;&gt;10</title>\n",
       "<path fill=\"none\" stroke=\"red\" d=\"M101.45,-65.81C99.03,-60.98 95.92,-54.24 94,-48 91.74,-40.66 90.13,-32.32 89.03,-25.2\"/>\n",
       "<polygon fill=\"red\" stroke=\"red\" points=\"92.46,-24.49 87.66,-15.05 85.53,-25.42 92.46,-24.49\"/>\n",
       "<text text-anchor=\"middle\" x=\"98\" y=\"-36.8\" font-family=\"Times,serif\" font-size=\"14.00\">0</text>\n",
       "</g>\n",
       "<!-- 11 -->\n",
       "<g id=\"node12\" class=\"node\">\n",
       "<title>11</title>\n",
       "<text text-anchor=\"middle\" x=\"124\" y=\"-3.8\" font-family=\"Times,serif\" font-size=\"14.00\">* a+c</text>\n",
       "</g>\n",
       "<!-- 9&#45;&gt;11 -->\n",
       "<g id=\"edge11\" class=\"edge\">\n",
       "<title>9&#45;&gt;11</title>\n",
       "<path fill=\"none\" stroke=\"blue\" d=\"M107.03,-65.65C109.91,-55.98 115.24,-38.02 119.16,-24.81\"/>\n",
       "<polygon fill=\"blue\" stroke=\"blue\" points=\"122.55,-25.69 122.04,-15.11 115.84,-23.7 122.55,-25.69\"/>\n",
       "<text text-anchor=\"middle\" x=\"121\" y=\"-36.8\" font-family=\"Times,serif\" font-size=\"14.00\">1</text>\n",
       "</g>\n",
       "</g>\n",
       "</svg>\n"
      ],
      "text/plain": [
       "<graphviz.dot.Digraph at 0x114633fa0>"
      ]
     },
     "execution_count": 296,
     "metadata": {},
     "output_type": "execute_result"
    }
   ],
   "source": [
    "display_trace_tree(scf.ct.root)"
   ]
  },
  {
   "cell_type": "markdown",
   "metadata": {
    "slideshow": {
     "slide_type": "fragment"
    }
   },
   "source": [
    "So, we fuzz to get a new path that is not empty."
   ]
  },
  {
   "cell_type": "code",
   "execution_count": 297,
   "metadata": {
    "execution": {
     "iopub.execute_input": "2022-02-21T08:25:47.737431Z",
     "iopub.status.busy": "2022-02-21T08:25:47.736545Z",
     "iopub.status.idle": "2022-02-21T08:25:47.792098Z",
     "shell.execute_reply": "2022-02-21T08:25:47.792598Z"
    },
    "slideshow": {
     "slide_type": "fragment"
    }
   },
   "outputs": [
    {
     "name": "stdout",
     "output_type": "stream",
     "text": [
      "A+\n"
     ]
    }
   ],
   "source": [
    "v = scf.fuzz()\n",
    "print(v)"
   ]
  },
  {
   "cell_type": "markdown",
   "metadata": {
    "slideshow": {
     "slide_type": "fragment"
    }
   },
   "source": [
    "We can now obtain the new trace as before."
   ]
  },
  {
   "cell_type": "code",
   "execution_count": 298,
   "metadata": {
    "execution": {
     "iopub.execute_input": "2022-02-21T08:25:47.798295Z",
     "iopub.status.busy": "2022-02-21T08:25:47.797676Z",
     "iopub.status.idle": "2022-02-21T08:25:47.801773Z",
     "shell.execute_reply": "2022-02-21T08:25:47.802288Z"
    },
    "slideshow": {
     "slide_type": "fragment"
    }
   },
   "outputs": [],
   "source": [
    "with ExpectError():\n",
    "    with ConcolicTracer() as _:\n",
    "        _[cgi_decode](v)"
   ]
  },
  {
   "cell_type": "markdown",
   "metadata": {
    "slideshow": {
     "slide_type": "fragment"
    }
   },
   "source": [
    "The new trace is added to our fuzzer using `add_trace()`"
   ]
  },
  {
   "cell_type": "code",
   "execution_count": 299,
   "metadata": {
    "execution": {
     "iopub.execute_input": "2022-02-21T08:25:47.806407Z",
     "iopub.status.busy": "2022-02-21T08:25:47.805830Z",
     "iopub.status.idle": "2022-02-21T08:25:47.811133Z",
     "shell.execute_reply": "2022-02-21T08:25:47.811531Z"
    },
    "slideshow": {
     "slide_type": "fragment"
    }
   },
   "outputs": [],
   "source": [
    "scf.add_trace(_, v)"
   ]
  },
  {
   "cell_type": "markdown",
   "metadata": {
    "slideshow": {
     "slide_type": "fragment"
    }
   },
   "source": [
    "The updated binary tree is as follows. Note the difference between the child nodes of `Root` node."
   ]
  },
  {
   "cell_type": "code",
   "execution_count": 300,
   "metadata": {
    "execution": {
     "iopub.execute_input": "2022-02-21T08:25:47.815795Z",
     "iopub.status.busy": "2022-02-21T08:25:47.815214Z",
     "iopub.status.idle": "2022-02-21T08:25:48.316612Z",
     "shell.execute_reply": "2022-02-21T08:25:48.317248Z"
    },
    "slideshow": {
     "slide_type": "subslide"
    }
   },
   "outputs": [
    {
     "data": {
      "image/svg+xml": [
       "<?xml version=\"1.0\" encoding=\"UTF-8\" standalone=\"no\"?>\n",
       "<!DOCTYPE svg PUBLIC \"-//W3C//DTD SVG 1.1//EN\"\n",
       " \"http://www.w3.org/Graphics/SVG/1.1/DTD/svg11.dtd\">\n",
       "<!-- Generated by graphviz version 2.49.3 (20211023.0002)\n",
       " -->\n",
       "<!-- Pages: 1 -->\n",
       "<svg width=\"653pt\" height=\"617pt\"\n",
       " viewBox=\"0.00 0.00 653.00 617.00\" xmlns=\"http://www.w3.org/2000/svg\" xmlns:xlink=\"http://www.w3.org/1999/xlink\">\n",
       "<g id=\"graph0\" class=\"graph\" transform=\"scale(1 1) rotate(0) translate(4 613)\">\n",
       "<polygon fill=\"white\" stroke=\"transparent\" points=\"-4,4 -4,-613 649,-613 649,4 -4,4\"/>\n",
       "<!-- 0 -->\n",
       "<g id=\"node1\" class=\"node\">\n",
       "<title>0</title>\n",
       "<text text-anchor=\"middle\" x=\"540\" y=\"-597.8\" font-family=\"Times,serif\" font-size=\"14.00\">(0) Length(cgi_decode_s_str_1) &lt;= 0</text>\n",
       "</g>\n",
       "<!-- 1 -->\n",
       "<g id=\"node2\" class=\"node\">\n",
       "<title>1</title>\n",
       "<text text-anchor=\"middle\" x=\"464\" y=\"-531.8\" font-family=\"Times,serif\" font-size=\"14.00\">(1) str.substr(cgi_decode_s_str_1, 0, 1) == &quot;+&quot;</text>\n",
       "</g>\n",
       "<!-- 0&#45;&gt;1 -->\n",
       "<g id=\"edge1\" class=\"edge\">\n",
       "<title>0&#45;&gt;1</title>\n",
       "<path fill=\"none\" stroke=\"red\" d=\"M532.15,-593.89C519.87,-583.54 495.84,-563.31 479.85,-549.85\"/>\n",
       "<polygon fill=\"red\" stroke=\"red\" points=\"481.82,-546.93 471.92,-543.17 477.31,-552.29 481.82,-546.93\"/>\n",
       "<text text-anchor=\"middle\" x=\"513\" y=\"-564.8\" font-family=\"Times,serif\" font-size=\"14.00\">0</text>\n",
       "</g>\n",
       "<!-- 18 -->\n",
       "<g id=\"node19\" class=\"node\">\n",
       "<title>18</title>\n",
       "<text text-anchor=\"middle\" x=\"616\" y=\"-531.8\" font-family=\"Times,serif\" font-size=\"14.00\">?</text>\n",
       "</g>\n",
       "<!-- 0&#45;&gt;18 -->\n",
       "<g id=\"edge18\" class=\"edge\">\n",
       "<title>0&#45;&gt;18</title>\n",
       "<path fill=\"none\" stroke=\"blue\" d=\"M547.85,-593.89C561.29,-582.57 588.78,-559.42 604.43,-546.24\"/>\n",
       "<polygon fill=\"blue\" stroke=\"blue\" points=\"607.01,-548.64 612.41,-539.52 602.51,-543.29 607.01,-548.64\"/>\n",
       "<text text-anchor=\"middle\" x=\"589\" y=\"-564.8\" font-family=\"Times,serif\" font-size=\"14.00\">1</text>\n",
       "</g>\n",
       "<!-- 2 -->\n",
       "<g id=\"node3\" class=\"node\">\n",
       "<title>2</title>\n",
       "<text text-anchor=\"middle\" x=\"387\" y=\"-465.8\" font-family=\"Times,serif\" font-size=\"14.00\">(2) str.substr(cgi_decode_s_str_1, 0, 1) == &quot;%&quot;</text>\n",
       "</g>\n",
       "<!-- 1&#45;&gt;2 -->\n",
       "<g id=\"edge2\" class=\"edge\">\n",
       "<title>1&#45;&gt;2</title>\n",
       "<path fill=\"none\" stroke=\"red\" d=\"M456.05,-527.89C443.6,-517.54 419.26,-497.31 403.06,-483.85\"/>\n",
       "<polygon fill=\"red\" stroke=\"red\" points=\"404.95,-480.87 395.02,-477.17 400.48,-486.25 404.95,-480.87\"/>\n",
       "<text text-anchor=\"middle\" x=\"437\" y=\"-498.8\" font-family=\"Times,serif\" font-size=\"14.00\">0</text>\n",
       "</g>\n",
       "<!-- 17 -->\n",
       "<g id=\"node18\" class=\"node\">\n",
       "<title>17</title>\n",
       "<text text-anchor=\"middle\" x=\"541\" y=\"-465.8\" font-family=\"Times,serif\" font-size=\"14.00\">?</text>\n",
       "</g>\n",
       "<!-- 1&#45;&gt;17 -->\n",
       "<g id=\"edge17\" class=\"edge\">\n",
       "<title>1&#45;&gt;17</title>\n",
       "<path fill=\"none\" stroke=\"blue\" d=\"M471.95,-527.89C485.57,-516.57 513.42,-493.42 529.28,-480.24\"/>\n",
       "<polygon fill=\"blue\" stroke=\"blue\" points=\"531.91,-482.61 537.36,-473.52 527.43,-477.22 531.91,-482.61\"/>\n",
       "<text text-anchor=\"middle\" x=\"514\" y=\"-498.8\" font-family=\"Times,serif\" font-size=\"14.00\">1</text>\n",
       "</g>\n",
       "<!-- 3 -->\n",
       "<g id=\"node4\" class=\"node\">\n",
       "<title>3</title>\n",
       "<text text-anchor=\"middle\" x=\"324\" y=\"-399.8\" font-family=\"Times,serif\" font-size=\"14.00\">(3) Length(cgi_decode_s_str_1) &lt;= 1</text>\n",
       "</g>\n",
       "<!-- 2&#45;&gt;3 -->\n",
       "<g id=\"edge3\" class=\"edge\">\n",
       "<title>2&#45;&gt;3</title>\n",
       "<path fill=\"none\" stroke=\"red\" d=\"M380.26,-461.65C370.16,-451.4 350.91,-431.83 337.76,-418.48\"/>\n",
       "<polygon fill=\"red\" stroke=\"red\" points=\"340.01,-415.78 330.5,-411.11 335.03,-420.69 340.01,-415.78\"/>\n",
       "<text text-anchor=\"middle\" x=\"366\" y=\"-432.8\" font-family=\"Times,serif\" font-size=\"14.00\">0</text>\n",
       "</g>\n",
       "<!-- 16 -->\n",
       "<g id=\"node17\" class=\"node\">\n",
       "<title>16</title>\n",
       "<text text-anchor=\"middle\" x=\"451\" y=\"-399.8\" font-family=\"Times,serif\" font-size=\"14.00\">?</text>\n",
       "</g>\n",
       "<!-- 2&#45;&gt;16 -->\n",
       "<g id=\"edge16\" class=\"edge\">\n",
       "<title>2&#45;&gt;16</title>\n",
       "<path fill=\"none\" stroke=\"blue\" d=\"M393.85,-461.65C404.96,-450.54 427,-428.5 440.22,-415.28\"/>\n",
       "<polygon fill=\"blue\" stroke=\"blue\" points=\"442.84,-417.61 447.44,-408.06 437.89,-412.66 442.84,-417.61\"/>\n",
       "<text text-anchor=\"middle\" x=\"429\" y=\"-432.8\" font-family=\"Times,serif\" font-size=\"14.00\">1</text>\n",
       "</g>\n",
       "<!-- 4 -->\n",
       "<g id=\"node5\" class=\"node\">\n",
       "<title>4</title>\n",
       "<text text-anchor=\"middle\" x=\"248\" y=\"-333.8\" font-family=\"Times,serif\" font-size=\"14.00\">(4) str.substr(cgi_decode_s_str_1, 1, 1) == &quot;+&quot;</text>\n",
       "</g>\n",
       "<!-- 3&#45;&gt;4 -->\n",
       "<g id=\"edge4\" class=\"edge\">\n",
       "<title>3&#45;&gt;4</title>\n",
       "<path fill=\"none\" stroke=\"red\" d=\"M316.15,-395.89C303.87,-385.54 279.84,-365.31 263.85,-351.85\"/>\n",
       "<polygon fill=\"red\" stroke=\"red\" points=\"265.82,-348.93 255.92,-345.17 261.31,-354.29 265.82,-348.93\"/>\n",
       "<text text-anchor=\"middle\" x=\"297\" y=\"-366.8\" font-family=\"Times,serif\" font-size=\"14.00\">0</text>\n",
       "</g>\n",
       "<!-- 15 -->\n",
       "<g id=\"node16\" class=\"node\">\n",
       "<title>15</title>\n",
       "<text text-anchor=\"middle\" x=\"400\" y=\"-333.8\" font-family=\"Times,serif\" font-size=\"14.00\">?</text>\n",
       "</g>\n",
       "<!-- 3&#45;&gt;15 -->\n",
       "<g id=\"edge15\" class=\"edge\">\n",
       "<title>3&#45;&gt;15</title>\n",
       "<path fill=\"none\" stroke=\"blue\" d=\"M331.85,-395.89C345.29,-384.57 372.78,-361.42 388.43,-348.24\"/>\n",
       "<polygon fill=\"blue\" stroke=\"blue\" points=\"391.01,-350.64 396.41,-341.52 386.51,-345.29 391.01,-350.64\"/>\n",
       "<text text-anchor=\"middle\" x=\"373\" y=\"-366.8\" font-family=\"Times,serif\" font-size=\"14.00\">1</text>\n",
       "</g>\n",
       "<!-- 5 -->\n",
       "<g id=\"node6\" class=\"node\">\n",
       "<title>5</title>\n",
       "<text text-anchor=\"middle\" x=\"233\" y=\"-267.8\" font-family=\"Times,serif\" font-size=\"14.00\">?</text>\n",
       "</g>\n",
       "<!-- 4&#45;&gt;5 -->\n",
       "<g id=\"edge5\" class=\"edge\">\n",
       "<title>4&#45;&gt;5</title>\n",
       "<path fill=\"none\" stroke=\"red\" d=\"M246.39,-329.65C244.15,-320.07 240,-302.38 236.91,-289.2\"/>\n",
       "<polygon fill=\"red\" stroke=\"red\" points=\"240.24,-288.05 234.55,-279.11 233.42,-289.64 240.24,-288.05\"/>\n",
       "<text text-anchor=\"middle\" x=\"246\" y=\"-300.8\" font-family=\"Times,serif\" font-size=\"14.00\">0</text>\n",
       "</g>\n",
       "<!-- 6 -->\n",
       "<g id=\"node7\" class=\"node\">\n",
       "<title>6</title>\n",
       "<text text-anchor=\"middle\" x=\"360\" y=\"-267.8\" font-family=\"Times,serif\" font-size=\"14.00\">(5) Length(cgi_decode_s_str_1) &lt;= 2</text>\n",
       "</g>\n",
       "<!-- 4&#45;&gt;6 -->\n",
       "<g id=\"edge6\" class=\"edge\">\n",
       "<title>4&#45;&gt;6</title>\n",
       "<path fill=\"none\" stroke=\"blue\" d=\"M259.56,-329.89C278.43,-319.11 316.06,-297.61 339.53,-284.2\"/>\n",
       "<polygon fill=\"blue\" stroke=\"blue\" points=\"341.39,-287.17 348.33,-279.17 337.91,-281.09 341.39,-287.17\"/>\n",
       "<text text-anchor=\"middle\" x=\"319\" y=\"-300.8\" font-family=\"Times,serif\" font-size=\"14.00\">1</text>\n",
       "</g>\n",
       "<!-- 7 -->\n",
       "<g id=\"node8\" class=\"node\">\n",
       "<title>7</title>\n",
       "<text text-anchor=\"middle\" x=\"245\" y=\"-201.8\" font-family=\"Times,serif\" font-size=\"14.00\">(6) str.substr(cgi_decode_s_str_1, 2, 1) == &quot;+&quot;</text>\n",
       "</g>\n",
       "<!-- 6&#45;&gt;7 -->\n",
       "<g id=\"edge7\" class=\"edge\">\n",
       "<title>6&#45;&gt;7</title>\n",
       "<path fill=\"none\" stroke=\"red\" d=\"M348.13,-263.89C328.76,-253.11 290.11,-231.61 266.02,-218.2\"/>\n",
       "<polygon fill=\"red\" stroke=\"red\" points=\"267.42,-214.97 256.98,-213.17 264.02,-221.09 267.42,-214.97\"/>\n",
       "<text text-anchor=\"middle\" x=\"317\" y=\"-234.8\" font-family=\"Times,serif\" font-size=\"14.00\">0</text>\n",
       "</g>\n",
       "<!-- 14 -->\n",
       "<g id=\"node15\" class=\"node\">\n",
       "<title>14</title>\n",
       "<text text-anchor=\"middle\" x=\"408\" y=\"-201.8\" font-family=\"Times,serif\" font-size=\"14.00\">* A+</text>\n",
       "</g>\n",
       "<!-- 6&#45;&gt;14 -->\n",
       "<g id=\"edge14\" class=\"edge\">\n",
       "<title>6&#45;&gt;14</title>\n",
       "<path fill=\"none\" stroke=\"blue\" d=\"M365.14,-263.65C372.68,-253.59 386.95,-234.57 396.94,-221.24\"/>\n",
       "<polygon fill=\"blue\" stroke=\"blue\" points=\"399.84,-223.21 403.04,-213.11 394.24,-219.01 399.84,-223.21\"/>\n",
       "<text text-anchor=\"middle\" x=\"393\" y=\"-234.8\" font-family=\"Times,serif\" font-size=\"14.00\">1</text>\n",
       "</g>\n",
       "<!-- 8 -->\n",
       "<g id=\"node9\" class=\"node\">\n",
       "<title>8</title>\n",
       "<text text-anchor=\"middle\" x=\"168\" y=\"-135.8\" font-family=\"Times,serif\" font-size=\"14.00\">(7) str.substr(cgi_decode_s_str_1, 2, 1) == &quot;%&quot;</text>\n",
       "</g>\n",
       "<!-- 7&#45;&gt;8 -->\n",
       "<g id=\"edge8\" class=\"edge\">\n",
       "<title>7&#45;&gt;8</title>\n",
       "<path fill=\"none\" stroke=\"red\" d=\"M237.05,-197.89C224.6,-187.54 200.26,-167.31 184.06,-153.85\"/>\n",
       "<polygon fill=\"red\" stroke=\"red\" points=\"185.95,-150.87 176.02,-147.17 181.48,-156.25 185.95,-150.87\"/>\n",
       "<text text-anchor=\"middle\" x=\"218\" y=\"-168.8\" font-family=\"Times,serif\" font-size=\"14.00\">0</text>\n",
       "</g>\n",
       "<!-- 13 -->\n",
       "<g id=\"node14\" class=\"node\">\n",
       "<title>13</title>\n",
       "<text text-anchor=\"middle\" x=\"322\" y=\"-135.8\" font-family=\"Times,serif\" font-size=\"14.00\">?</text>\n",
       "</g>\n",
       "<!-- 7&#45;&gt;13 -->\n",
       "<g id=\"edge13\" class=\"edge\">\n",
       "<title>7&#45;&gt;13</title>\n",
       "<path fill=\"none\" stroke=\"blue\" d=\"M252.95,-197.89C266.57,-186.57 294.42,-163.42 310.28,-150.24\"/>\n",
       "<polygon fill=\"blue\" stroke=\"blue\" points=\"312.91,-152.61 318.36,-143.52 308.43,-147.22 312.91,-152.61\"/>\n",
       "<text text-anchor=\"middle\" x=\"295\" y=\"-168.8\" font-family=\"Times,serif\" font-size=\"14.00\">1</text>\n",
       "</g>\n",
       "<!-- 9 -->\n",
       "<g id=\"node10\" class=\"node\">\n",
       "<title>9</title>\n",
       "<text text-anchor=\"middle\" x=\"105\" y=\"-69.8\" font-family=\"Times,serif\" font-size=\"14.00\">(8) Length(cgi_decode_s_str_1) &lt;= 3</text>\n",
       "</g>\n",
       "<!-- 8&#45;&gt;9 -->\n",
       "<g id=\"edge9\" class=\"edge\">\n",
       "<title>8&#45;&gt;9</title>\n",
       "<path fill=\"none\" stroke=\"red\" d=\"M161.26,-131.65C151.16,-121.4 131.91,-101.83 118.76,-88.48\"/>\n",
       "<polygon fill=\"red\" stroke=\"red\" points=\"121.01,-85.78 111.5,-81.11 116.03,-90.69 121.01,-85.78\"/>\n",
       "<text text-anchor=\"middle\" x=\"147\" y=\"-102.8\" font-family=\"Times,serif\" font-size=\"14.00\">0</text>\n",
       "</g>\n",
       "<!-- 12 -->\n",
       "<g id=\"node13\" class=\"node\">\n",
       "<title>12</title>\n",
       "<text text-anchor=\"middle\" x=\"232\" y=\"-69.8\" font-family=\"Times,serif\" font-size=\"14.00\">?</text>\n",
       "</g>\n",
       "<!-- 8&#45;&gt;12 -->\n",
       "<g id=\"edge12\" class=\"edge\">\n",
       "<title>8&#45;&gt;12</title>\n",
       "<path fill=\"none\" stroke=\"blue\" d=\"M174.85,-131.65C185.96,-120.54 208,-98.5 221.22,-85.28\"/>\n",
       "<polygon fill=\"blue\" stroke=\"blue\" points=\"223.84,-87.61 228.44,-78.06 218.89,-82.66 223.84,-87.61\"/>\n",
       "<text text-anchor=\"middle\" x=\"210\" y=\"-102.8\" font-family=\"Times,serif\" font-size=\"14.00\">1</text>\n",
       "</g>\n",
       "<!-- 10 -->\n",
       "<g id=\"node11\" class=\"node\">\n",
       "<title>10</title>\n",
       "<text text-anchor=\"middle\" x=\"87\" y=\"-3.8\" font-family=\"Times,serif\" font-size=\"14.00\">?</text>\n",
       "</g>\n",
       "<!-- 9&#45;&gt;10 -->\n",
       "<g id=\"edge10\" class=\"edge\">\n",
       "<title>9&#45;&gt;10</title>\n",
       "<path fill=\"none\" stroke=\"red\" d=\"M101.45,-65.81C99.03,-60.98 95.92,-54.24 94,-48 91.74,-40.66 90.13,-32.32 89.03,-25.2\"/>\n",
       "<polygon fill=\"red\" stroke=\"red\" points=\"92.46,-24.49 87.66,-15.05 85.53,-25.42 92.46,-24.49\"/>\n",
       "<text text-anchor=\"middle\" x=\"98\" y=\"-36.8\" font-family=\"Times,serif\" font-size=\"14.00\">0</text>\n",
       "</g>\n",
       "<!-- 11 -->\n",
       "<g id=\"node12\" class=\"node\">\n",
       "<title>11</title>\n",
       "<text text-anchor=\"middle\" x=\"124\" y=\"-3.8\" font-family=\"Times,serif\" font-size=\"14.00\">* a+c</text>\n",
       "</g>\n",
       "<!-- 9&#45;&gt;11 -->\n",
       "<g id=\"edge11\" class=\"edge\">\n",
       "<title>9&#45;&gt;11</title>\n",
       "<path fill=\"none\" stroke=\"blue\" d=\"M107.03,-65.65C109.91,-55.98 115.24,-38.02 119.16,-24.81\"/>\n",
       "<polygon fill=\"blue\" stroke=\"blue\" points=\"122.55,-25.69 122.04,-15.11 115.84,-23.7 122.55,-25.69\"/>\n",
       "<text text-anchor=\"middle\" x=\"121\" y=\"-36.8\" font-family=\"Times,serif\" font-size=\"14.00\">1</text>\n",
       "</g>\n",
       "</g>\n",
       "</svg>\n"
      ],
      "text/plain": [
       "<graphviz.dot.Digraph at 0x114634ac0>"
      ]
     },
     "execution_count": 300,
     "metadata": {},
     "output_type": "execute_result"
    }
   ],
   "source": [
    "display_trace_tree(scf.ct.root)"
   ]
  },
  {
   "cell_type": "markdown",
   "metadata": {
    "slideshow": {
     "slide_type": "fragment"
    }
   },
   "source": [
    "A complete fuzzer run is as follows:"
   ]
  },
  {
   "cell_type": "code",
   "execution_count": 301,
   "metadata": {
    "execution": {
     "iopub.execute_input": "2022-02-21T08:25:48.323303Z",
     "iopub.status.busy": "2022-02-21T08:25:48.322675Z",
     "iopub.status.idle": "2022-02-21T08:25:48.808906Z",
     "shell.execute_reply": "2022-02-21T08:25:48.809402Z"
    },
    "slideshow": {
     "slide_type": "subslide"
    }
   },
   "outputs": [
    {
     "name": "stdout",
     "output_type": "stream",
     "text": [
      "' '\n",
      "''\n",
      "'+'\n",
      "'%'\n",
      "'+A'\n"
     ]
    },
    {
     "name": "stderr",
     "output_type": "stream",
     "text": [
      "IndexError: string index out of range (expected)\n"
     ]
    },
    {
     "name": "stdout",
     "output_type": "stream",
     "text": [
      "'++'\n",
      "'AB'\n",
      "'++A'\n",
      "'A%'\n",
      "'+AB'\n"
     ]
    },
    {
     "name": "stderr",
     "output_type": "stream",
     "text": [
      "IndexError: string index out of range (expected)\n"
     ]
    }
   ],
   "source": [
    "scf = SimpleConcolicFuzzer()\n",
    "for i in range(10):\n",
    "    v = scf.fuzz()\n",
    "    print(repr(v))\n",
    "    if v is None:\n",
    "        continue\n",
    "    with ConcolicTracer() as _:\n",
    "        with ExpectError(print_traceback=False):\n",
    "            # z3.StringVal(urllib.parse.unquote('%80')) <-- bug in z3\n",
    "            _[cgi_decode](v)\n",
    "    scf.add_trace(_, v)"
   ]
  },
  {
   "cell_type": "code",
   "execution_count": 302,
   "metadata": {
    "execution": {
     "iopub.execute_input": "2022-02-21T08:25:48.816565Z",
     "iopub.status.busy": "2022-02-21T08:25:48.815518Z",
     "iopub.status.idle": "2022-02-21T08:25:49.316861Z",
     "shell.execute_reply": "2022-02-21T08:25:49.317517Z"
    },
    "slideshow": {
     "slide_type": "subslide"
    }
   },
   "outputs": [
    {
     "data": {
      "image/svg+xml": [
       "<?xml version=\"1.0\" encoding=\"UTF-8\" standalone=\"no\"?>\n",
       "<!DOCTYPE svg PUBLIC \"-//W3C//DTD SVG 1.1//EN\"\n",
       " \"http://www.w3.org/Graphics/SVG/1.1/DTD/svg11.dtd\">\n",
       "<!-- Generated by graphviz version 2.49.3 (20211023.0002)\n",
       " -->\n",
       "<!-- Pages: 1 -->\n",
       "<svg width=\"947pt\" height=\"617pt\"\n",
       " viewBox=\"0.00 0.00 946.50 617.00\" xmlns=\"http://www.w3.org/2000/svg\" xmlns:xlink=\"http://www.w3.org/1999/xlink\">\n",
       "<g id=\"graph0\" class=\"graph\" transform=\"scale(1 1) rotate(0) translate(4 613)\">\n",
       "<polygon fill=\"white\" stroke=\"transparent\" points=\"-4,4 -4,-613 942.5,-613 942.5,4 -4,4\"/>\n",
       "<!-- 0 -->\n",
       "<g id=\"node1\" class=\"node\">\n",
       "<title>0</title>\n",
       "<text text-anchor=\"middle\" x=\"484\" y=\"-597.8\" font-family=\"Times,serif\" font-size=\"14.00\">(0) Length(cgi_decode_s_str_1) &lt;= 0</text>\n",
       "</g>\n",
       "<!-- 1 -->\n",
       "<g id=\"node2\" class=\"node\">\n",
       "<title>1</title>\n",
       "<text text-anchor=\"middle\" x=\"407\" y=\"-531.8\" font-family=\"Times,serif\" font-size=\"14.00\">(1) str.substr(cgi_decode_s_str_1, 0, 1) == &quot;+&quot;</text>\n",
       "</g>\n",
       "<!-- 0&#45;&gt;1 -->\n",
       "<g id=\"edge1\" class=\"edge\">\n",
       "<title>0&#45;&gt;1</title>\n",
       "<path fill=\"none\" stroke=\"red\" d=\"M476.05,-593.89C463.6,-583.54 439.26,-563.31 423.06,-549.85\"/>\n",
       "<polygon fill=\"red\" stroke=\"red\" points=\"424.95,-546.87 415.02,-543.17 420.48,-552.25 424.95,-546.87\"/>\n",
       "<text text-anchor=\"middle\" x=\"457\" y=\"-564.8\" font-family=\"Times,serif\" font-size=\"14.00\">0</text>\n",
       "</g>\n",
       "<!-- 36 -->\n",
       "<g id=\"node37\" class=\"node\">\n",
       "<title>36</title>\n",
       "<text text-anchor=\"middle\" x=\"561\" y=\"-531.8\" font-family=\"Times,serif\" font-size=\"14.00\">* </text>\n",
       "</g>\n",
       "<!-- 0&#45;&gt;36 -->\n",
       "<g id=\"edge36\" class=\"edge\">\n",
       "<title>0&#45;&gt;36</title>\n",
       "<path fill=\"none\" stroke=\"blue\" d=\"M491.95,-593.89C505.05,-583.01 531.31,-561.18 547.41,-547.8\"/>\n",
       "<polygon fill=\"blue\" stroke=\"blue\" points=\"549.7,-550.44 555.15,-541.36 545.22,-545.06 549.7,-550.44\"/>\n",
       "<text text-anchor=\"middle\" x=\"534\" y=\"-564.8\" font-family=\"Times,serif\" font-size=\"14.00\">1</text>\n",
       "</g>\n",
       "<!-- 2 -->\n",
       "<g id=\"node3\" class=\"node\">\n",
       "<title>2</title>\n",
       "<text text-anchor=\"middle\" x=\"280\" y=\"-465.8\" font-family=\"Times,serif\" font-size=\"14.00\">(2) str.substr(cgi_decode_s_str_1, 0, 1) == &quot;%&quot;</text>\n",
       "</g>\n",
       "<!-- 1&#45;&gt;2 -->\n",
       "<g id=\"edge2\" class=\"edge\">\n",
       "<title>1&#45;&gt;2</title>\n",
       "<path fill=\"none\" stroke=\"red\" d=\"M393.89,-527.89C372.31,-517.02 329.06,-495.22 302.51,-481.84\"/>\n",
       "<polygon fill=\"red\" stroke=\"red\" points=\"303.74,-478.54 293.23,-477.17 300.59,-484.79 303.74,-478.54\"/>\n",
       "<text text-anchor=\"middle\" x=\"359\" y=\"-498.8\" font-family=\"Times,serif\" font-size=\"14.00\">0</text>\n",
       "</g>\n",
       "<!-- 13 -->\n",
       "<g id=\"node14\" class=\"node\">\n",
       "<title>13</title>\n",
       "<text text-anchor=\"middle\" x=\"536\" y=\"-465.8\" font-family=\"Times,serif\" font-size=\"14.00\">(2) Length(cgi_decode_s_str_1) &lt;= 1</text>\n",
       "</g>\n",
       "<!-- 1&#45;&gt;13 -->\n",
       "<g id=\"edge13\" class=\"edge\">\n",
       "<title>1&#45;&gt;13</title>\n",
       "<path fill=\"none\" stroke=\"blue\" d=\"M420.32,-527.89C442.34,-516.97 486.55,-495.03 513.49,-481.67\"/>\n",
       "<polygon fill=\"blue\" stroke=\"blue\" points=\"515.16,-484.75 522.56,-477.17 512.05,-478.48 515.16,-484.75\"/>\n",
       "<text text-anchor=\"middle\" x=\"488\" y=\"-498.8\" font-family=\"Times,serif\" font-size=\"14.00\">1</text>\n",
       "</g>\n",
       "<!-- 3 -->\n",
       "<g id=\"node4\" class=\"node\">\n",
       "<title>3</title>\n",
       "<text text-anchor=\"middle\" x=\"200\" y=\"-399.8\" font-family=\"Times,serif\" font-size=\"14.00\">(3) Length(cgi_decode_s_str_1) &lt;= 1</text>\n",
       "</g>\n",
       "<!-- 2&#45;&gt;3 -->\n",
       "<g id=\"edge3\" class=\"edge\">\n",
       "<title>2&#45;&gt;3</title>\n",
       "<path fill=\"none\" stroke=\"red\" d=\"M271.74,-461.89C258.69,-451.45 233.04,-430.93 216.22,-417.47\"/>\n",
       "<polygon fill=\"red\" stroke=\"red\" points=\"218.33,-414.68 208.34,-411.17 213.96,-420.15 218.33,-414.68\"/>\n",
       "<text text-anchor=\"middle\" x=\"252\" y=\"-432.8\" font-family=\"Times,serif\" font-size=\"14.00\">0</text>\n",
       "</g>\n",
       "<!-- 12 -->\n",
       "<g id=\"node13\" class=\"node\">\n",
       "<title>12</title>\n",
       "<text text-anchor=\"middle\" x=\"335\" y=\"-399.8\" font-family=\"Times,serif\" font-size=\"14.00\">* %</text>\n",
       "</g>\n",
       "<!-- 2&#45;&gt;12 -->\n",
       "<g id=\"edge12\" class=\"edge\">\n",
       "<title>2&#45;&gt;12</title>\n",
       "<path fill=\"none\" stroke=\"blue\" d=\"M285.89,-461.65C294.62,-451.49 311.19,-432.2 322.66,-418.86\"/>\n",
       "<polygon fill=\"blue\" stroke=\"blue\" points=\"325.46,-420.97 329.32,-411.11 320.15,-416.41 325.46,-420.97\"/>\n",
       "<text text-anchor=\"middle\" x=\"317\" y=\"-432.8\" font-family=\"Times,serif\" font-size=\"14.00\">1</text>\n",
       "</g>\n",
       "<!-- 4 -->\n",
       "<g id=\"node5\" class=\"node\">\n",
       "<title>4</title>\n",
       "<text text-anchor=\"middle\" x=\"198\" y=\"-333.8\" font-family=\"Times,serif\" font-size=\"14.00\">(4) str.substr(cgi_decode_s_str_1, 1, 1) == &quot;+&quot;</text>\n",
       "</g>\n",
       "<!-- 3&#45;&gt;4 -->\n",
       "<g id=\"edge4\" class=\"edge\">\n",
       "<title>3&#45;&gt;4</title>\n",
       "<path fill=\"none\" stroke=\"red\" d=\"M199.79,-395.65C199.49,-386.07 198.93,-368.38 198.52,-355.2\"/>\n",
       "<polygon fill=\"red\" stroke=\"red\" points=\"202.02,-354.99 198.21,-345.11 195.02,-355.21 202.02,-354.99\"/>\n",
       "<text text-anchor=\"middle\" x=\"204\" y=\"-366.8\" font-family=\"Times,serif\" font-size=\"14.00\">0</text>\n",
       "</g>\n",
       "<!-- 11 -->\n",
       "<g id=\"node12\" class=\"node\">\n",
       "<title>11</title>\n",
       "<text text-anchor=\"middle\" x=\"354\" y=\"-333.8\" font-family=\"Times,serif\" font-size=\"14.00\">* &#160;</text>\n",
       "</g>\n",
       "<!-- 3&#45;&gt;11 -->\n",
       "<g id=\"edge11\" class=\"edge\">\n",
       "<title>3&#45;&gt;11</title>\n",
       "<path fill=\"none\" stroke=\"blue\" d=\"M215.9,-395.89C245.06,-383.77 306.84,-358.1 336.88,-345.62\"/>\n",
       "<polygon fill=\"blue\" stroke=\"blue\" points=\"338.5,-348.73 346.39,-341.66 335.81,-342.27 338.5,-348.73\"/>\n",
       "<text text-anchor=\"middle\" x=\"295\" y=\"-366.8\" font-family=\"Times,serif\" font-size=\"14.00\">1</text>\n",
       "</g>\n",
       "<!-- 5 -->\n",
       "<g id=\"node6\" class=\"node\">\n",
       "<title>5</title>\n",
       "<text text-anchor=\"middle\" x=\"190\" y=\"-267.8\" font-family=\"Times,serif\" font-size=\"14.00\">(5) str.substr(cgi_decode_s_str_1, 1, 1) == &quot;%&quot;</text>\n",
       "</g>\n",
       "<!-- 4&#45;&gt;5 -->\n",
       "<g id=\"edge5\" class=\"edge\">\n",
       "<title>4&#45;&gt;5</title>\n",
       "<path fill=\"none\" stroke=\"red\" d=\"M197.14,-329.65C195.95,-320.07 193.73,-302.38 192.09,-289.2\"/>\n",
       "<polygon fill=\"red\" stroke=\"red\" points=\"195.54,-288.6 190.83,-279.11 188.59,-289.47 195.54,-288.6\"/>\n",
       "<text text-anchor=\"middle\" x=\"199\" y=\"-300.8\" font-family=\"Times,serif\" font-size=\"14.00\">0</text>\n",
       "</g>\n",
       "<!-- 10 -->\n",
       "<g id=\"node11\" class=\"node\">\n",
       "<title>10</title>\n",
       "<text text-anchor=\"middle\" x=\"344\" y=\"-267.8\" font-family=\"Times,serif\" font-size=\"14.00\">?</text>\n",
       "</g>\n",
       "<!-- 4&#45;&gt;10 -->\n",
       "<g id=\"edge10\" class=\"edge\">\n",
       "<title>4&#45;&gt;10</title>\n",
       "<path fill=\"none\" stroke=\"blue\" d=\"M214.1,-329.88C239.24,-319.47 289.27,-298.44 331,-279 331.1,-278.95 331.19,-278.91 331.29,-278.86\"/>\n",
       "<polygon fill=\"blue\" stroke=\"blue\" points=\"332.74,-282.05 340.16,-274.49 329.64,-275.77 332.74,-282.05\"/>\n",
       "<text text-anchor=\"middle\" x=\"296\" y=\"-300.8\" font-family=\"Times,serif\" font-size=\"14.00\">1</text>\n",
       "</g>\n",
       "<!-- 6 -->\n",
       "<g id=\"node7\" class=\"node\">\n",
       "<title>6</title>\n",
       "<text text-anchor=\"middle\" x=\"105\" y=\"-201.8\" font-family=\"Times,serif\" font-size=\"14.00\">(6) Length(cgi_decode_s_str_1) &lt;= 2</text>\n",
       "</g>\n",
       "<!-- 5&#45;&gt;6 -->\n",
       "<g id=\"edge6\" class=\"edge\">\n",
       "<title>5&#45;&gt;6</title>\n",
       "<path fill=\"none\" stroke=\"red\" d=\"M181.22,-263.89C167.35,-253.45 140.11,-232.93 122.23,-219.47\"/>\n",
       "<polygon fill=\"red\" stroke=\"red\" points=\"123.95,-216.39 113.86,-213.17 119.74,-221.98 123.95,-216.39\"/>\n",
       "<text text-anchor=\"middle\" x=\"160\" y=\"-234.8\" font-family=\"Times,serif\" font-size=\"14.00\">0</text>\n",
       "</g>\n",
       "<!-- 9 -->\n",
       "<g id=\"node10\" class=\"node\">\n",
       "<title>9</title>\n",
       "<text text-anchor=\"middle\" x=\"244\" y=\"-201.8\" font-family=\"Times,serif\" font-size=\"14.00\">* A%</text>\n",
       "</g>\n",
       "<!-- 5&#45;&gt;9 -->\n",
       "<g id=\"edge9\" class=\"edge\">\n",
       "<title>5&#45;&gt;9</title>\n",
       "<path fill=\"none\" stroke=\"blue\" d=\"M195.78,-263.65C204.35,-253.49 220.63,-234.2 231.88,-220.86\"/>\n",
       "<polygon fill=\"blue\" stroke=\"blue\" points=\"234.65,-223.01 238.42,-213.11 229.3,-218.49 234.65,-223.01\"/>\n",
       "<text text-anchor=\"middle\" x=\"226\" y=\"-234.8\" font-family=\"Times,serif\" font-size=\"14.00\">1</text>\n",
       "</g>\n",
       "<!-- 7 -->\n",
       "<g id=\"node8\" class=\"node\">\n",
       "<title>7</title>\n",
       "<text text-anchor=\"middle\" x=\"87\" y=\"-135.8\" font-family=\"Times,serif\" font-size=\"14.00\">?</text>\n",
       "</g>\n",
       "<!-- 6&#45;&gt;7 -->\n",
       "<g id=\"edge7\" class=\"edge\">\n",
       "<title>6&#45;&gt;7</title>\n",
       "<path fill=\"none\" stroke=\"red\" d=\"M101.45,-197.81C99.03,-192.98 95.92,-186.24 94,-180 91.74,-172.66 90.13,-164.32 89.03,-157.2\"/>\n",
       "<polygon fill=\"red\" stroke=\"red\" points=\"92.46,-156.49 87.66,-147.05 85.53,-157.42 92.46,-156.49\"/>\n",
       "<text text-anchor=\"middle\" x=\"98\" y=\"-168.8\" font-family=\"Times,serif\" font-size=\"14.00\">0</text>\n",
       "</g>\n",
       "<!-- 8 -->\n",
       "<g id=\"node9\" class=\"node\">\n",
       "<title>8</title>\n",
       "<text text-anchor=\"middle\" x=\"124\" y=\"-135.8\" font-family=\"Times,serif\" font-size=\"14.00\">* AB</text>\n",
       "</g>\n",
       "<!-- 6&#45;&gt;8 -->\n",
       "<g id=\"edge8\" class=\"edge\">\n",
       "<title>6&#45;&gt;8</title>\n",
       "<path fill=\"none\" stroke=\"blue\" d=\"M107.03,-197.65C109.91,-187.98 115.24,-170.02 119.16,-156.81\"/>\n",
       "<polygon fill=\"blue\" stroke=\"blue\" points=\"122.55,-157.69 122.04,-147.11 115.84,-155.7 122.55,-157.69\"/>\n",
       "<text text-anchor=\"middle\" x=\"121\" y=\"-168.8\" font-family=\"Times,serif\" font-size=\"14.00\">1</text>\n",
       "</g>\n",
       "<!-- 14 -->\n",
       "<g id=\"node15\" class=\"node\">\n",
       "<title>14</title>\n",
       "<text text-anchor=\"middle\" x=\"530\" y=\"-399.8\" font-family=\"Times,serif\" font-size=\"14.00\">(3) str.substr(cgi_decode_s_str_1, 1, 1) == &quot;+&quot;</text>\n",
       "</g>\n",
       "<!-- 13&#45;&gt;14 -->\n",
       "<g id=\"edge14\" class=\"edge\">\n",
       "<title>13&#45;&gt;14</title>\n",
       "<path fill=\"none\" stroke=\"red\" d=\"M535.36,-461.65C534.46,-452.07 532.8,-434.38 531.57,-421.2\"/>\n",
       "<polygon fill=\"red\" stroke=\"red\" points=\"535.04,-420.74 530.62,-411.11 528.07,-421.39 535.04,-420.74\"/>\n",
       "<text text-anchor=\"middle\" x=\"538\" y=\"-432.8\" font-family=\"Times,serif\" font-size=\"14.00\">0</text>\n",
       "</g>\n",
       "<!-- 35 -->\n",
       "<g id=\"node36\" class=\"node\">\n",
       "<title>35</title>\n",
       "<text text-anchor=\"middle\" x=\"688\" y=\"-399.8\" font-family=\"Times,serif\" font-size=\"14.00\">* +</text>\n",
       "</g>\n",
       "<!-- 13&#45;&gt;35 -->\n",
       "<g id=\"edge35\" class=\"edge\">\n",
       "<title>13&#45;&gt;35</title>\n",
       "<path fill=\"none\" stroke=\"blue\" d=\"M551.69,-461.89C579.78,-450.06 638.55,-425.32 668.92,-412.53\"/>\n",
       "<polygon fill=\"blue\" stroke=\"blue\" points=\"670.52,-415.66 678.38,-408.55 667.81,-409.2 670.52,-415.66\"/>\n",
       "<text text-anchor=\"middle\" x=\"629\" y=\"-432.8\" font-family=\"Times,serif\" font-size=\"14.00\">1</text>\n",
       "</g>\n",
       "<!-- 15 -->\n",
       "<g id=\"node16\" class=\"node\">\n",
       "<title>15</title>\n",
       "<text text-anchor=\"middle\" x=\"528\" y=\"-333.8\" font-family=\"Times,serif\" font-size=\"14.00\">(4) str.substr(cgi_decode_s_str_1, 1, 1) == &quot;%&quot;</text>\n",
       "</g>\n",
       "<!-- 14&#45;&gt;15 -->\n",
       "<g id=\"edge15\" class=\"edge\">\n",
       "<title>14&#45;&gt;15</title>\n",
       "<path fill=\"none\" stroke=\"red\" d=\"M529.79,-395.65C529.49,-386.07 528.93,-368.38 528.52,-355.2\"/>\n",
       "<polygon fill=\"red\" stroke=\"red\" points=\"532.02,-354.99 528.21,-345.11 525.02,-355.21 532.02,-354.99\"/>\n",
       "<text text-anchor=\"middle\" x=\"534\" y=\"-366.8\" font-family=\"Times,serif\" font-size=\"14.00\">0</text>\n",
       "</g>\n",
       "<!-- 26 -->\n",
       "<g id=\"node27\" class=\"node\">\n",
       "<title>26</title>\n",
       "<text text-anchor=\"middle\" x=\"784\" y=\"-333.8\" font-family=\"Times,serif\" font-size=\"14.00\">(4) Length(cgi_decode_s_str_1) &lt;= 2</text>\n",
       "</g>\n",
       "<!-- 14&#45;&gt;26 -->\n",
       "<g id=\"edge26\" class=\"edge\">\n",
       "<title>14&#45;&gt;26</title>\n",
       "<path fill=\"none\" stroke=\"blue\" d=\"M556.23,-395.89C601.98,-384.36 696.42,-360.57 748.16,-347.53\"/>\n",
       "<polygon fill=\"blue\" stroke=\"blue\" points=\"749.08,-350.91 757.92,-345.07 747.36,-344.12 749.08,-350.91\"/>\n",
       "<text text-anchor=\"middle\" x=\"683\" y=\"-366.8\" font-family=\"Times,serif\" font-size=\"14.00\">1</text>\n",
       "</g>\n",
       "<!-- 16 -->\n",
       "<g id=\"node17\" class=\"node\">\n",
       "<title>16</title>\n",
       "<text text-anchor=\"middle\" x=\"474\" y=\"-267.8\" font-family=\"Times,serif\" font-size=\"14.00\">(5) Length(cgi_decode_s_str_1) &lt;= 2</text>\n",
       "</g>\n",
       "<!-- 15&#45;&gt;16 -->\n",
       "<g id=\"edge16\" class=\"edge\">\n",
       "<title>15&#45;&gt;16</title>\n",
       "<path fill=\"none\" stroke=\"red\" d=\"M522.22,-329.65C513.65,-319.49 497.37,-300.2 486.12,-286.86\"/>\n",
       "<polygon fill=\"red\" stroke=\"red\" points=\"488.7,-284.49 479.58,-279.11 483.35,-289.01 488.7,-284.49\"/>\n",
       "<text text-anchor=\"middle\" x=\"510\" y=\"-300.8\" font-family=\"Times,serif\" font-size=\"14.00\">0</text>\n",
       "</g>\n",
       "<!-- 25 -->\n",
       "<g id=\"node26\" class=\"node\">\n",
       "<title>25</title>\n",
       "<text text-anchor=\"middle\" x=\"601\" y=\"-267.8\" font-family=\"Times,serif\" font-size=\"14.00\">?</text>\n",
       "</g>\n",
       "<!-- 15&#45;&gt;25 -->\n",
       "<g id=\"edge25\" class=\"edge\">\n",
       "<title>15&#45;&gt;25</title>\n",
       "<path fill=\"none\" stroke=\"blue\" d=\"M535.54,-329.89C548.33,-318.68 574.36,-295.85 589.46,-282.62\"/>\n",
       "<polygon fill=\"blue\" stroke=\"blue\" points=\"592.02,-285.03 597.23,-275.8 587.41,-279.76 592.02,-285.03\"/>\n",
       "<text text-anchor=\"middle\" x=\"576\" y=\"-300.8\" font-family=\"Times,serif\" font-size=\"14.00\">1</text>\n",
       "</g>\n",
       "<!-- 17 -->\n",
       "<g id=\"node18\" class=\"node\">\n",
       "<title>17</title>\n",
       "<text text-anchor=\"middle\" x=\"426\" y=\"-201.8\" font-family=\"Times,serif\" font-size=\"14.00\">(6) str.substr(cgi_decode_s_str_1, 2, 1) == &quot;+&quot;</text>\n",
       "</g>\n",
       "<!-- 16&#45;&gt;17 -->\n",
       "<g id=\"edge17\" class=\"edge\">\n",
       "<title>16&#45;&gt;17</title>\n",
       "<path fill=\"none\" stroke=\"red\" d=\"M468.86,-263.65C461.32,-253.59 447.05,-234.57 437.06,-221.24\"/>\n",
       "<polygon fill=\"red\" stroke=\"red\" points=\"439.76,-219.01 430.96,-213.11 434.16,-223.21 439.76,-219.01\"/>\n",
       "<text text-anchor=\"middle\" x=\"459\" y=\"-234.8\" font-family=\"Times,serif\" font-size=\"14.00\">0</text>\n",
       "</g>\n",
       "<!-- 24 -->\n",
       "<g id=\"node25\" class=\"node\">\n",
       "<title>24</title>\n",
       "<text text-anchor=\"middle\" x=\"589\" y=\"-201.8\" font-family=\"Times,serif\" font-size=\"14.00\">* +A</text>\n",
       "</g>\n",
       "<!-- 16&#45;&gt;24 -->\n",
       "<g id=\"edge24\" class=\"edge\">\n",
       "<title>16&#45;&gt;24</title>\n",
       "<path fill=\"none\" stroke=\"blue\" d=\"M485.87,-263.89C505.24,-253.11 543.89,-231.61 567.98,-218.2\"/>\n",
       "<polygon fill=\"blue\" stroke=\"blue\" points=\"569.98,-221.09 577.02,-213.17 566.58,-214.97 569.98,-221.09\"/>\n",
       "<text text-anchor=\"middle\" x=\"546\" y=\"-234.8\" font-family=\"Times,serif\" font-size=\"14.00\">1</text>\n",
       "</g>\n",
       "<!-- 18 -->\n",
       "<g id=\"node19\" class=\"node\">\n",
       "<title>18</title>\n",
       "<text text-anchor=\"middle\" x=\"348\" y=\"-135.8\" font-family=\"Times,serif\" font-size=\"14.00\">(7) str.substr(cgi_decode_s_str_1, 2, 1) == &quot;%&quot;</text>\n",
       "</g>\n",
       "<!-- 17&#45;&gt;18 -->\n",
       "<g id=\"edge18\" class=\"edge\">\n",
       "<title>17&#45;&gt;18</title>\n",
       "<path fill=\"none\" stroke=\"red\" d=\"M417.95,-197.89C405.34,-187.54 380.67,-167.31 364.27,-153.85\"/>\n",
       "<polygon fill=\"red\" stroke=\"red\" points=\"366.08,-150.81 356.13,-147.17 361.64,-156.22 366.08,-150.81\"/>\n",
       "<text text-anchor=\"middle\" x=\"398\" y=\"-168.8\" font-family=\"Times,serif\" font-size=\"14.00\">0</text>\n",
       "</g>\n",
       "<!-- 23 -->\n",
       "<g id=\"node24\" class=\"node\">\n",
       "<title>23</title>\n",
       "<text text-anchor=\"middle\" x=\"502\" y=\"-135.8\" font-family=\"Times,serif\" font-size=\"14.00\">?</text>\n",
       "</g>\n",
       "<!-- 17&#45;&gt;23 -->\n",
       "<g id=\"edge23\" class=\"edge\">\n",
       "<title>17&#45;&gt;23</title>\n",
       "<path fill=\"none\" stroke=\"blue\" d=\"M433.85,-197.89C447.29,-186.57 474.78,-163.42 490.43,-150.24\"/>\n",
       "<polygon fill=\"blue\" stroke=\"blue\" points=\"493.01,-152.64 498.41,-143.52 488.51,-147.29 493.01,-152.64\"/>\n",
       "<text text-anchor=\"middle\" x=\"475\" y=\"-168.8\" font-family=\"Times,serif\" font-size=\"14.00\">1</text>\n",
       "</g>\n",
       "<!-- 19 -->\n",
       "<g id=\"node20\" class=\"node\">\n",
       "<title>19</title>\n",
       "<text text-anchor=\"middle\" x=\"261\" y=\"-69.8\" font-family=\"Times,serif\" font-size=\"14.00\">(8) Length(cgi_decode_s_str_1) &lt;= 3</text>\n",
       "</g>\n",
       "<!-- 18&#45;&gt;19 -->\n",
       "<g id=\"edge19\" class=\"edge\">\n",
       "<title>18&#45;&gt;19</title>\n",
       "<path fill=\"none\" stroke=\"red\" d=\"M339.02,-131.89C324.69,-121.35 296.42,-100.56 278.13,-87.1\"/>\n",
       "<polygon fill=\"red\" stroke=\"red\" points=\"280.19,-84.27 270.06,-81.17 276.05,-89.91 280.19,-84.27\"/>\n",
       "<text text-anchor=\"middle\" x=\"317\" y=\"-102.8\" font-family=\"Times,serif\" font-size=\"14.00\">0</text>\n",
       "</g>\n",
       "<!-- 22 -->\n",
       "<g id=\"node23\" class=\"node\">\n",
       "<title>22</title>\n",
       "<text text-anchor=\"middle\" x=\"388\" y=\"-69.8\" font-family=\"Times,serif\" font-size=\"14.00\">?</text>\n",
       "</g>\n",
       "<!-- 18&#45;&gt;22 -->\n",
       "<g id=\"edge22\" class=\"edge\">\n",
       "<title>18&#45;&gt;22</title>\n",
       "<path fill=\"none\" stroke=\"blue\" d=\"M352.28,-131.65C358.58,-121.58 370.49,-102.52 378.82,-89.2\"/>\n",
       "<polygon fill=\"blue\" stroke=\"blue\" points=\"382,-90.7 384.34,-80.36 376.07,-86.99 382,-90.7\"/>\n",
       "<text text-anchor=\"middle\" x=\"376\" y=\"-102.8\" font-family=\"Times,serif\" font-size=\"14.00\">1</text>\n",
       "</g>\n",
       "<!-- 20 -->\n",
       "<g id=\"node21\" class=\"node\">\n",
       "<title>20</title>\n",
       "<text text-anchor=\"middle\" x=\"241\" y=\"-3.8\" font-family=\"Times,serif\" font-size=\"14.00\">?</text>\n",
       "</g>\n",
       "<!-- 19&#45;&gt;20 -->\n",
       "<g id=\"edge20\" class=\"edge\">\n",
       "<title>19&#45;&gt;20</title>\n",
       "<path fill=\"none\" stroke=\"red\" d=\"M258.33,-65.69C256.46,-60.8 253.95,-54.04 252,-48 249.59,-40.53 247.22,-32.17 245.3,-25.07\"/>\n",
       "<polygon fill=\"red\" stroke=\"red\" points=\"248.64,-24.03 242.71,-15.26 241.87,-25.82 248.64,-24.03\"/>\n",
       "<text text-anchor=\"middle\" x=\"256\" y=\"-36.8\" font-family=\"Times,serif\" font-size=\"14.00\">0</text>\n",
       "</g>\n",
       "<!-- 21 -->\n",
       "<g id=\"node22\" class=\"node\">\n",
       "<title>21</title>\n",
       "<text text-anchor=\"middle\" x=\"282\" y=\"-3.8\" font-family=\"Times,serif\" font-size=\"14.00\">* +AB</text>\n",
       "</g>\n",
       "<!-- 19&#45;&gt;21 -->\n",
       "<g id=\"edge21\" class=\"edge\">\n",
       "<title>19&#45;&gt;21</title>\n",
       "<path fill=\"none\" stroke=\"blue\" d=\"M263.25,-65.65C266.42,-55.98 272.31,-38.02 276.65,-24.81\"/>\n",
       "<polygon fill=\"blue\" stroke=\"blue\" points=\"280.04,-25.7 279.83,-15.11 273.39,-23.52 280.04,-25.7\"/>\n",
       "<text text-anchor=\"middle\" x=\"278\" y=\"-36.8\" font-family=\"Times,serif\" font-size=\"14.00\">1</text>\n",
       "</g>\n",
       "<!-- 27 -->\n",
       "<g id=\"node28\" class=\"node\">\n",
       "<title>27</title>\n",
       "<text text-anchor=\"middle\" x=\"763\" y=\"-267.8\" font-family=\"Times,serif\" font-size=\"14.00\">(5) str.substr(cgi_decode_s_str_1, 2, 1) == &quot;+&quot;</text>\n",
       "</g>\n",
       "<!-- 26&#45;&gt;27 -->\n",
       "<g id=\"edge27\" class=\"edge\">\n",
       "<title>26&#45;&gt;27</title>\n",
       "<path fill=\"none\" stroke=\"red\" d=\"M781.75,-329.65C778.58,-319.98 772.69,-302.02 768.35,-288.81\"/>\n",
       "<polygon fill=\"red\" stroke=\"red\" points=\"771.61,-287.52 765.17,-279.11 764.96,-289.7 771.61,-287.52\"/>\n",
       "<text text-anchor=\"middle\" x=\"779\" y=\"-300.8\" font-family=\"Times,serif\" font-size=\"14.00\">0</text>\n",
       "</g>\n",
       "<!-- 34 -->\n",
       "<g id=\"node35\" class=\"node\">\n",
       "<title>34</title>\n",
       "<text text-anchor=\"middle\" x=\"925\" y=\"-267.8\" font-family=\"Times,serif\" font-size=\"14.00\">* ++</text>\n",
       "</g>\n",
       "<!-- 26&#45;&gt;34 -->\n",
       "<g id=\"edge34\" class=\"edge\">\n",
       "<title>26&#45;&gt;34</title>\n",
       "<path fill=\"none\" stroke=\"blue\" d=\"M798.56,-329.89C822.98,-318.81 872.39,-296.38 901.7,-283.08\"/>\n",
       "<polygon fill=\"blue\" stroke=\"blue\" points=\"903.49,-286.11 911.15,-278.79 900.59,-279.73 903.49,-286.11\"/>\n",
       "<text text-anchor=\"middle\" x=\"871\" y=\"-300.8\" font-family=\"Times,serif\" font-size=\"14.00\">1</text>\n",
       "</g>\n",
       "<!-- 28 -->\n",
       "<g id=\"node29\" class=\"node\">\n",
       "<title>28</title>\n",
       "<text text-anchor=\"middle\" x=\"762\" y=\"-201.8\" font-family=\"Times,serif\" font-size=\"14.00\">(6) str.substr(cgi_decode_s_str_1, 2, 1) == &quot;%&quot;</text>\n",
       "</g>\n",
       "<!-- 27&#45;&gt;28 -->\n",
       "<g id=\"edge28\" class=\"edge\">\n",
       "<title>27&#45;&gt;28</title>\n",
       "<path fill=\"none\" stroke=\"red\" d=\"M762.89,-263.65C762.74,-254.07 762.47,-236.38 762.26,-223.2\"/>\n",
       "<polygon fill=\"red\" stroke=\"red\" points=\"765.76,-223.05 762.1,-213.11 758.76,-223.16 765.76,-223.05\"/>\n",
       "<text text-anchor=\"middle\" x=\"766\" y=\"-234.8\" font-family=\"Times,serif\" font-size=\"14.00\">0</text>\n",
       "</g>\n",
       "<!-- 33 -->\n",
       "<g id=\"node34\" class=\"node\">\n",
       "<title>33</title>\n",
       "<text text-anchor=\"middle\" x=\"916\" y=\"-201.8\" font-family=\"Times,serif\" font-size=\"14.00\">?</text>\n",
       "</g>\n",
       "<!-- 27&#45;&gt;33 -->\n",
       "<g id=\"edge33\" class=\"edge\">\n",
       "<title>27&#45;&gt;33</title>\n",
       "<path fill=\"none\" stroke=\"blue\" d=\"M781.08,-263.85C806.58,-254.33 854.67,-235.8 903.38,-212.87\"/>\n",
       "<polygon fill=\"blue\" stroke=\"blue\" points=\"904.96,-216 912.48,-208.54 901.95,-209.68 904.96,-216\"/>\n",
       "<text text-anchor=\"middle\" x=\"865\" y=\"-234.8\" font-family=\"Times,serif\" font-size=\"14.00\">1</text>\n",
       "</g>\n",
       "<!-- 29 -->\n",
       "<g id=\"node30\" class=\"node\">\n",
       "<title>29</title>\n",
       "<text text-anchor=\"middle\" x=\"661\" y=\"-135.8\" font-family=\"Times,serif\" font-size=\"14.00\">(7) Length(cgi_decode_s_str_1) &lt;= 3</text>\n",
       "</g>\n",
       "<!-- 28&#45;&gt;29 -->\n",
       "<g id=\"edge29\" class=\"edge\">\n",
       "<title>28&#45;&gt;29</title>\n",
       "<path fill=\"none\" stroke=\"red\" d=\"M751.57,-197.89C734.71,-187.21 701.22,-165.99 680.03,-152.56\"/>\n",
       "<polygon fill=\"red\" stroke=\"red\" points=\"681.84,-149.56 671.52,-147.17 678.1,-155.48 681.84,-149.56\"/>\n",
       "<text text-anchor=\"middle\" x=\"724\" y=\"-168.8\" font-family=\"Times,serif\" font-size=\"14.00\">0</text>\n",
       "</g>\n",
       "<!-- 32 -->\n",
       "<g id=\"node33\" class=\"node\">\n",
       "<title>32</title>\n",
       "<text text-anchor=\"middle\" x=\"788\" y=\"-135.8\" font-family=\"Times,serif\" font-size=\"14.00\">?</text>\n",
       "</g>\n",
       "<!-- 28&#45;&gt;32 -->\n",
       "<g id=\"edge32\" class=\"edge\">\n",
       "<title>28&#45;&gt;32</title>\n",
       "<path fill=\"none\" stroke=\"blue\" d=\"M764.78,-197.65C768.75,-187.88 776.15,-169.66 781.54,-156.41\"/>\n",
       "<polygon fill=\"blue\" stroke=\"blue\" points=\"784.79,-157.69 785.32,-147.11 778.31,-155.06 784.79,-157.69\"/>\n",
       "<text text-anchor=\"middle\" x=\"781\" y=\"-168.8\" font-family=\"Times,serif\" font-size=\"14.00\">1</text>\n",
       "</g>\n",
       "<!-- 30 -->\n",
       "<g id=\"node31\" class=\"node\">\n",
       "<title>30</title>\n",
       "<text text-anchor=\"middle\" x=\"641\" y=\"-69.8\" font-family=\"Times,serif\" font-size=\"14.00\">?</text>\n",
       "</g>\n",
       "<!-- 29&#45;&gt;30 -->\n",
       "<g id=\"edge30\" class=\"edge\">\n",
       "<title>29&#45;&gt;30</title>\n",
       "<path fill=\"none\" stroke=\"red\" d=\"M657.94,-131.73C655.81,-126.86 653.01,-120.11 651,-114 648.53,-106.5 646.32,-98.04 644.6,-90.87\"/>\n",
       "<polygon fill=\"red\" stroke=\"red\" points=\"647.99,-89.98 642.36,-81.01 641.16,-91.54 647.99,-89.98\"/>\n",
       "<text text-anchor=\"middle\" x=\"655\" y=\"-102.8\" font-family=\"Times,serif\" font-size=\"14.00\">0</text>\n",
       "</g>\n",
       "<!-- 31 -->\n",
       "<g id=\"node32\" class=\"node\">\n",
       "<title>31</title>\n",
       "<text text-anchor=\"middle\" x=\"681\" y=\"-69.8\" font-family=\"Times,serif\" font-size=\"14.00\">* ++A</text>\n",
       "</g>\n",
       "<!-- 29&#45;&gt;31 -->\n",
       "<g id=\"edge31\" class=\"edge\">\n",
       "<title>29&#45;&gt;31</title>\n",
       "<path fill=\"none\" stroke=\"blue\" d=\"M663.14,-131.65C666.16,-121.98 671.78,-104.02 675.9,-90.81\"/>\n",
       "<polygon fill=\"blue\" stroke=\"blue\" points=\"679.29,-91.7 678.93,-81.11 672.61,-89.61 679.29,-91.7\"/>\n",
       "<text text-anchor=\"middle\" x=\"676\" y=\"-102.8\" font-family=\"Times,serif\" font-size=\"14.00\">1</text>\n",
       "</g>\n",
       "</g>\n",
       "</svg>\n"
      ],
      "text/plain": [
       "<graphviz.dot.Digraph at 0x1146c4220>"
      ]
     },
     "execution_count": 302,
     "metadata": {},
     "output_type": "execute_result"
    }
   ],
   "source": [
    "display_trace_tree(scf.ct.root)"
   ]
  },
  {
   "cell_type": "markdown",
   "metadata": {
    "slideshow": {
     "slide_type": "subslide"
    }
   },
   "source": [
    "**Note.** Our concolic tracer is limited in that it does not track changes in the string length. This leads it to treat every string with same prefix as the same string."
   ]
  },
  {
   "cell_type": "markdown",
   "metadata": {
    "slideshow": {
     "slide_type": "fragment"
    }
   },
   "source": [
    "The `SimpleConcolicFuzzer` is reasonably efficient at exploring paths near the path followed by a given sample input. However, it is not very intelligent when it comes to choosing which paths to follow. We look at another fuzzer that lifts the predicates obtained to the grammar and achieves better fuzzing."
   ]
  },
  {
   "cell_type": "markdown",
   "metadata": {
    "slideshow": {
     "slide_type": "slide"
    }
   },
   "source": [
    "## Concolic Grammar Fuzzing\n",
    "\n",
    "The concolic framework can be used directly in grammar-based fuzzing. We implement a class `ConcolicGrammarFuzzer` wihich does this."
   ]
  },
  {
   "cell_type": "markdown",
   "metadata": {
    "slideshow": {
     "slide_type": "subslide"
    },
    "tags": []
   },
   "source": [
    "### Excursion: Implementing ConcolicGrammarFuzzer"
   ]
  },
  {
   "cell_type": "markdown",
   "metadata": {
    "slideshow": {
     "slide_type": "fragment"
    }
   },
   "source": [
    "First, we extend our `GrammarFuzzer` with a helper method `tree_to_string()` such that we can retrieve the derivation tree of the fuzz output. We also define `prune_tree()` and `coalesce()` methods to reduce the depth of sub trees. These methods accept a list of tokens types such that a node belonging to the token type gets converted from a tree to a leaf node by calling `tree_to_string()`."
   ]
  },
  {
   "cell_type": "code",
   "execution_count": 303,
   "metadata": {
    "execution": {
     "iopub.execute_input": "2022-02-21T08:25:49.322916Z",
     "iopub.status.busy": "2022-02-21T08:25:49.322314Z",
     "iopub.status.idle": "2022-02-21T08:25:49.324438Z",
     "shell.execute_reply": "2022-02-21T08:25:49.325134Z"
    },
    "slideshow": {
     "slide_type": "skip"
    }
   },
   "outputs": [],
   "source": [
    "from InformationFlow import INVENTORY_GRAMMAR, SQLException"
   ]
  },
  {
   "cell_type": "code",
   "execution_count": 304,
   "metadata": {
    "execution": {
     "iopub.execute_input": "2022-02-21T08:25:49.330874Z",
     "iopub.status.busy": "2022-02-21T08:25:49.329971Z",
     "iopub.status.idle": "2022-02-21T08:25:49.332675Z",
     "shell.execute_reply": "2022-02-21T08:25:49.333613Z"
    },
    "slideshow": {
     "slide_type": "skip"
    }
   },
   "outputs": [],
   "source": [
    "from GrammarFuzzer import GrammarFuzzer"
   ]
  },
  {
   "cell_type": "code",
   "execution_count": 305,
   "metadata": {
    "execution": {
     "iopub.execute_input": "2022-02-21T08:25:49.342429Z",
     "iopub.status.busy": "2022-02-21T08:25:49.341727Z",
     "iopub.status.idle": "2022-02-21T08:25:49.343513Z",
     "shell.execute_reply": "2022-02-21T08:25:49.343943Z"
    },
    "slideshow": {
     "slide_type": "subslide"
    }
   },
   "outputs": [],
   "source": [
    "class ConcolicGrammarFuzzer(GrammarFuzzer):\n",
    "    def tree_to_string(self, tree):\n",
    "        symbol, children, *_ = tree\n",
    "        e = ''\n",
    "        if children:\n",
    "            return e.join([self.tree_to_string(c) for c in children])\n",
    "        else:\n",
    "            return e if symbol in self.grammar else symbol\n",
    "\n",
    "    def prune_tree(self, tree, tokens):\n",
    "        name, children = tree\n",
    "        children = self.coalesce(children)\n",
    "        if name in tokens:\n",
    "            return (name, [(self.tree_to_string(tree), [])])\n",
    "        else:\n",
    "            return (name, [self.prune_tree(c, tokens) for c in children])\n",
    "\n",
    "    def coalesce(self, children):\n",
    "        last = ''\n",
    "        new_lst = []\n",
    "        for cn, cc in children:\n",
    "            if cn not in self.grammar:\n",
    "                last += cn\n",
    "            else:\n",
    "                if last:\n",
    "                    new_lst.append((last, []))\n",
    "                    last = ''\n",
    "                new_lst.append((cn, cc))\n",
    "        if last:\n",
    "            new_lst.append((last, []))\n",
    "        return new_lst"
   ]
  },
  {
   "cell_type": "markdown",
   "metadata": {
    "slideshow": {
     "slide_type": "subslide"
    }
   },
   "source": [
    "We can now use the fuzzer to produce inputs for our DB."
   ]
  },
  {
   "cell_type": "code",
   "execution_count": 306,
   "metadata": {
    "execution": {
     "iopub.execute_input": "2022-02-21T08:25:49.366929Z",
     "iopub.status.busy": "2022-02-21T08:25:49.365962Z",
     "iopub.status.idle": "2022-02-21T08:25:49.368342Z",
     "shell.execute_reply": "2022-02-21T08:25:49.369125Z"
    },
    "slideshow": {
     "slide_type": "fragment"
    }
   },
   "outputs": [],
   "source": [
    "tgf = ConcolicGrammarFuzzer(INVENTORY_GRAMMAR)\n",
    "while True:\n",
    "    qtree = tgf.fuzz_tree()\n",
    "    query = str(tgf.tree_to_string(qtree))\n",
    "    if query.startswith('select'):\n",
    "        break"
   ]
  },
  {
   "cell_type": "code",
   "execution_count": 307,
   "metadata": {
    "execution": {
     "iopub.execute_input": "2022-02-21T08:25:49.373319Z",
     "iopub.status.busy": "2022-02-21T08:25:49.372547Z",
     "iopub.status.idle": "2022-02-21T08:25:49.374622Z",
     "shell.execute_reply": "2022-02-21T08:25:49.375074Z"
    },
    "slideshow": {
     "slide_type": "skip"
    }
   },
   "outputs": [],
   "source": [
    "from ExpectError import ExpectError"
   ]
  },
  {
   "cell_type": "code",
   "execution_count": 308,
   "metadata": {
    "execution": {
     "iopub.execute_input": "2022-02-21T08:25:49.381199Z",
     "iopub.status.busy": "2022-02-21T08:25:49.379853Z",
     "iopub.status.idle": "2022-02-21T08:25:49.389349Z",
     "shell.execute_reply": "2022-02-21T08:25:49.389826Z"
    },
    "slideshow": {
     "slide_type": "subslide"
    }
   },
   "outputs": [
    {
     "name": "stdout",
     "output_type": "stream",
     "text": [
      "'select t4(I,N)!=b(k)/O!=(K4(:/Z)) from I7'\n"
     ]
    },
    {
     "name": "stderr",
     "output_type": "stream",
     "text": [
      "Traceback (most recent call last):\n",
      "  File \"/var/folders/n2/xd9445p97rb3xh7m1dfx8_4h0006ts/T/ipykernel_15596/2536269233.py\", line 4, in <module>\n",
      "    res = _[db_select](str(query))\n",
      "  File \"/var/folders/n2/xd9445p97rb3xh7m1dfx8_4h0006ts/T/ipykernel_15596/2687284210.py\", line 3, in __call__\n",
      "    self.result = self.fn(*self.concolic(args))\n",
      "  File \"/var/folders/n2/xd9445p97rb3xh7m1dfx8_4h0006ts/T/ipykernel_15596/1994573112.py\", line 4, in db_select\n",
      "    r = my_db.sql(s)\n",
      "  File \"/Users/zeller/Projects/fuzzingbook/notebooks/InformationFlow.ipynb\", line 65, in sql\n",
      "    return method(query[len(key):])\n",
      "  File \"/Users/zeller/Projects/fuzzingbook/notebooks/InformationFlow.ipynb\", line 84, in do_select\n",
      "    _, table = self.table(t_name)\n",
      "  File \"/var/folders/n2/xd9445p97rb3xh7m1dfx8_4h0006ts/T/ipykernel_15596/2474817571.py\", line 6, in table\n",
      "    raise SQLException('Table (%s) was not found' % repr(t_name))\n",
      "InformationFlow.SQLException: Table ('I7') was not found (expected)\n"
     ]
    }
   ],
   "source": [
    "with ExpectError():\n",
    "    print(repr(query))\n",
    "    with ConcolicTracer() as _:\n",
    "        res = _[db_select](str(query))\n",
    "    print(repr(res))"
   ]
  },
  {
   "cell_type": "markdown",
   "metadata": {
    "slideshow": {
     "slide_type": "subslide"
    }
   },
   "source": [
    "Our fuzzer returns with an exception. It is unable to find the specified table. Let us examine the predicates it encountered."
   ]
  },
  {
   "cell_type": "code",
   "execution_count": 309,
   "metadata": {
    "execution": {
     "iopub.execute_input": "2022-02-21T08:25:49.394827Z",
     "iopub.status.busy": "2022-02-21T08:25:49.393825Z",
     "iopub.status.idle": "2022-02-21T08:25:49.417342Z",
     "shell.execute_reply": "2022-02-21T08:25:49.417740Z"
    },
    "slideshow": {
     "slide_type": "subslide"
    }
   },
   "outputs": [
    {
     "name": "stdout",
     "output_type": "stream",
     "text": [
      "0 0 == IndexOf(db_select_s_str_1, \"select \", 0)\n",
      "1 0 == IndexOf(db_select_s_str_1, \"select \", 0)\n",
      "2 Not(0 >\n",
      "    IndexOf(str.substr(db_select_s_str_1, 7, 34),\n",
      "            \" from \",\n",
      "            0))\n",
      "3 Not(34 <\n",
      "    IndexOf(str.substr(db_select_s_str_1, 7, 34),\n",
      "            \" from \",\n",
      "            0))\n",
      "4 Or(0 <\n",
      "   IndexOf(str.substr(db_select_s_str_1, 7, 34),\n",
      "           \" from \",\n",
      "           0),\n",
      "   0 ==\n",
      "   IndexOf(str.substr(db_select_s_str_1, 7, 34),\n",
      "           \" from \",\n",
      "           0))\n",
      "5 Not(Or(0 <\n",
      "       IndexOf(str.substr(db_select_s_str_1, 7, 34),\n",
      "               \" where \",\n",
      "               0),\n",
      "       0 ==\n",
      "       IndexOf(str.substr(db_select_s_str_1, 7, 34),\n",
      "               \" where \",\n",
      "               0)))\n",
      "6 Not(34 <\n",
      "    IndexOf(str.substr(db_select_s_str_1, 7, 34),\n",
      "            \" from \",\n",
      "            0) +\n",
      "    6)\n",
      "7 Or(34 >\n",
      "   IndexOf(str.substr(db_select_s_str_1, 7, 34),\n",
      "           \" from \",\n",
      "           0) +\n",
      "   6,\n",
      "   34 ==\n",
      "   IndexOf(str.substr(db_select_s_str_1, 7, 34),\n",
      "           \" from \",\n",
      "           0) +\n",
      "   6)\n",
      "8 Not(str.substr(str.substr(db_select_s_str_1, 7, 34), 32, 2) ==\n",
      "    \"inventory\")\n"
     ]
    }
   ],
   "source": [
    "for i, p in enumerate(_.path):\n",
    "    print(i, p)"
   ]
  },
  {
   "cell_type": "markdown",
   "metadata": {
    "slideshow": {
     "slide_type": "subslide"
    }
   },
   "source": [
    "Note that we can obtain constraints that are not present in the grammar from using the `ConcolicTracer`. In particular, see how we are able to obtain the condition that the table needs to be `inventory` (Predicate 11) for the fuzzing to succeed."
   ]
  },
  {
   "cell_type": "markdown",
   "metadata": {
    "slideshow": {
     "slide_type": "fragment"
    }
   },
   "source": [
    "How do we lift these to the grammar? and in particular how do we do it automatically? One option we have is to simply switch the last predicate obtained. In our case, the last predicate is (11). Can we simply invert the predicate and solve it again?"
   ]
  },
  {
   "cell_type": "code",
   "execution_count": 310,
   "metadata": {
    "execution": {
     "iopub.execute_input": "2022-02-21T08:25:49.421989Z",
     "iopub.status.busy": "2022-02-21T08:25:49.421436Z",
     "iopub.status.idle": "2022-02-21T08:25:49.423682Z",
     "shell.execute_reply": "2022-02-21T08:25:49.424338Z"
    },
    "slideshow": {
     "slide_type": "fragment"
    }
   },
   "outputs": [],
   "source": [
    "new_path = _.path[0:-1] + [z3.Not(_.path[-1])]"
   ]
  },
  {
   "cell_type": "code",
   "execution_count": 311,
   "metadata": {
    "execution": {
     "iopub.execute_input": "2022-02-21T08:25:49.429567Z",
     "iopub.status.busy": "2022-02-21T08:25:49.428638Z",
     "iopub.status.idle": "2022-02-21T08:25:49.430824Z",
     "shell.execute_reply": "2022-02-21T08:25:49.431541Z"
    },
    "slideshow": {
     "slide_type": "fragment"
    }
   },
   "outputs": [],
   "source": [
    "new_ = ConcolicTracer((_.decls, new_path))\n",
    "new_.fn = _.fn\n",
    "new_.fn_args = _.fn_args"
   ]
  },
  {
   "cell_type": "code",
   "execution_count": 312,
   "metadata": {
    "execution": {
     "iopub.execute_input": "2022-02-21T08:25:49.437035Z",
     "iopub.status.busy": "2022-02-21T08:25:49.436373Z",
     "iopub.status.idle": "2022-02-21T08:25:49.492049Z",
     "shell.execute_reply": "2022-02-21T08:25:49.492559Z"
    },
    "slideshow": {
     "slide_type": "fragment"
    }
   },
   "outputs": [
    {
     "data": {
      "text/plain": [
       "('No Solutions', None)"
      ]
     },
     "execution_count": 312,
     "metadata": {},
     "output_type": "execute_result"
    }
   ],
   "source": [
    "new_.zeval()"
   ]
  },
  {
   "cell_type": "markdown",
   "metadata": {
    "slideshow": {
     "slide_type": "subslide"
    }
   },
   "source": [
    "Indeed, this will not work as the string lengths being compared to are different."
   ]
  },
  {
   "cell_type": "code",
   "execution_count": 313,
   "metadata": {
    "execution": {
     "iopub.execute_input": "2022-02-21T08:25:49.497932Z",
     "iopub.status.busy": "2022-02-21T08:25:49.497279Z",
     "iopub.status.idle": "2022-02-21T08:25:49.555606Z",
     "shell.execute_reply": "2022-02-21T08:25:49.555997Z"
    },
    "slideshow": {
     "slide_type": "fragment"
    }
   },
   "outputs": [
    {
     "name": "stdout",
     "output_type": "stream",
     "text": [
      "Not(str.substr(str.substr(db_select_s_str_1, 7, 34), 32, 2) ==\n",
      "    \"inventory\")\n",
      "no solution\n"
     ]
    }
   ],
   "source": [
    "print(_.path[-1])\n",
    "z3.solve(z3.Not(_.path[-1]))"
   ]
  },
  {
   "cell_type": "markdown",
   "metadata": {
    "slideshow": {
     "slide_type": "fragment"
    }
   },
   "source": [
    "A better idea is to investigate what _string_ comparisons are being made, and associate that with the corresponding nodes in the grammar. Let us examine our derivation tree (pruned to avoid recursive structures, and to focus on important parts)."
   ]
  },
  {
   "cell_type": "code",
   "execution_count": 314,
   "metadata": {
    "execution": {
     "iopub.execute_input": "2022-02-21T08:25:49.559753Z",
     "iopub.status.busy": "2022-02-21T08:25:49.559056Z",
     "iopub.status.idle": "2022-02-21T08:25:49.561387Z",
     "shell.execute_reply": "2022-02-21T08:25:49.561878Z"
    },
    "slideshow": {
     "slide_type": "skip"
    }
   },
   "outputs": [],
   "source": [
    "from GrammarFuzzer import display_tree"
   ]
  },
  {
   "cell_type": "code",
   "execution_count": 315,
   "metadata": {
    "execution": {
     "iopub.execute_input": "2022-02-21T08:25:49.568408Z",
     "iopub.status.busy": "2022-02-21T08:25:49.567573Z",
     "iopub.status.idle": "2022-02-21T08:25:50.044774Z",
     "shell.execute_reply": "2022-02-21T08:25:50.045464Z"
    },
    "slideshow": {
     "slide_type": "subslide"
    }
   },
   "outputs": [
    {
     "data": {
      "image/svg+xml": [
       "<?xml version=\"1.0\" encoding=\"UTF-8\" standalone=\"no\"?>\n",
       "<!DOCTYPE svg PUBLIC \"-//W3C//DTD SVG 1.1//EN\"\n",
       " \"http://www.w3.org/Graphics/SVG/1.1/DTD/svg11.dtd\">\n",
       "<!-- Generated by graphviz version 2.49.3 (20211023.0002)\n",
       " -->\n",
       "<!-- Pages: 1 -->\n",
       "<svg width=\"224pt\" height=\"176pt\"\n",
       " viewBox=\"0.00 0.00 223.50 176.00\" xmlns=\"http://www.w3.org/2000/svg\" xmlns:xlink=\"http://www.w3.org/1999/xlink\">\n",
       "<g id=\"graph0\" class=\"graph\" transform=\"scale(1 1) rotate(0) translate(4 172)\">\n",
       "<polygon fill=\"white\" stroke=\"transparent\" points=\"-4,4 -4,-172 219.5,-172 219.5,4 -4,4\"/>\n",
       "<!-- 0 -->\n",
       "<g id=\"node1\" class=\"node\">\n",
       "<title>0</title>\n",
       "<text text-anchor=\"middle\" x=\"107\" y=\"-156.8\" font-family=\"Times,serif\" font-size=\"14.00\">&lt;start&gt;</text>\n",
       "</g>\n",
       "<!-- 1 -->\n",
       "<g id=\"node2\" class=\"node\">\n",
       "<title>1</title>\n",
       "<text text-anchor=\"middle\" x=\"107\" y=\"-105.8\" font-family=\"Times,serif\" font-size=\"14.00\">&lt;query&gt;</text>\n",
       "</g>\n",
       "<!-- 0&#45;&gt;1 -->\n",
       "<g id=\"edge1\" class=\"edge\">\n",
       "<title>0&#45;&gt;1</title>\n",
       "<path fill=\"none\" stroke=\"black\" d=\"M107,-152.69C107,-146.18 107,-136.1 107,-127.43\"/>\n",
       "<polygon fill=\"black\" stroke=\"black\" points=\"110.5,-127.26 107,-117.26 103.5,-127.26 110.5,-127.26\"/>\n",
       "</g>\n",
       "<!-- 2 -->\n",
       "<g id=\"node3\" class=\"node\">\n",
       "<title>2</title>\n",
       "<text text-anchor=\"middle\" x=\"18\" y=\"-54.8\" font-family=\"Times,serif\" font-size=\"14.00\">select </text>\n",
       "</g>\n",
       "<!-- 1&#45;&gt;2 -->\n",
       "<g id=\"edge2\" class=\"edge\">\n",
       "<title>1&#45;&gt;2</title>\n",
       "<path fill=\"none\" stroke=\"black\" d=\"M95,-101.89C80.58,-93.96 56.17,-80.52 38.7,-70.9\"/>\n",
       "<polygon fill=\"black\" stroke=\"black\" points=\"40.26,-67.76 29.81,-66 36.88,-73.89 40.26,-67.76\"/>\n",
       "</g>\n",
       "<!-- 3 -->\n",
       "<g id=\"node4\" class=\"node\">\n",
       "<title>3</title>\n",
       "<text text-anchor=\"middle\" x=\"78\" y=\"-54.8\" font-family=\"Times,serif\" font-size=\"14.00\">&lt;exprs&gt;</text>\n",
       "</g>\n",
       "<!-- 1&#45;&gt;3 -->\n",
       "<g id=\"edge3\" class=\"edge\">\n",
       "<title>1&#45;&gt;3</title>\n",
       "<path fill=\"none\" stroke=\"black\" d=\"M102.97,-101.69C98.9,-94.81 92.48,-83.96 87.16,-74.98\"/>\n",
       "<polygon fill=\"black\" stroke=\"black\" points=\"90.1,-73.08 82,-66.26 84.08,-76.64 90.1,-73.08\"/>\n",
       "</g>\n",
       "<!-- 5 -->\n",
       "<g id=\"node6\" class=\"node\">\n",
       "<title>5</title>\n",
       "<text text-anchor=\"middle\" x=\"137\" y=\"-54.8\" font-family=\"Times,serif\" font-size=\"14.00\"> from </text>\n",
       "</g>\n",
       "<!-- 1&#45;&gt;5 -->\n",
       "<g id=\"edge5\" class=\"edge\">\n",
       "<title>1&#45;&gt;5</title>\n",
       "<path fill=\"none\" stroke=\"black\" d=\"M111.17,-101.69C115.38,-94.81 122.03,-83.96 127.52,-74.98\"/>\n",
       "<polygon fill=\"black\" stroke=\"black\" points=\"130.63,-76.61 132.86,-66.26 124.66,-72.96 130.63,-76.61\"/>\n",
       "</g>\n",
       "<!-- 6 -->\n",
       "<g id=\"node7\" class=\"node\">\n",
       "<title>6</title>\n",
       "<text text-anchor=\"middle\" x=\"194\" y=\"-54.8\" font-family=\"Times,serif\" font-size=\"14.00\">&lt;table&gt;</text>\n",
       "</g>\n",
       "<!-- 1&#45;&gt;6 -->\n",
       "<g id=\"edge6\" class=\"edge\">\n",
       "<title>1&#45;&gt;6</title>\n",
       "<path fill=\"none\" stroke=\"black\" d=\"M118.73,-101.89C132.69,-94.03 156.24,-80.77 173.29,-71.16\"/>\n",
       "<polygon fill=\"black\" stroke=\"black\" points=\"175.46,-73.96 182.45,-66 172.02,-67.86 175.46,-73.96\"/>\n",
       "</g>\n",
       "<!-- 4 -->\n",
       "<g id=\"node5\" class=\"node\">\n",
       "<title>4</title>\n",
       "<text text-anchor=\"middle\" x=\"78\" y=\"-3.8\" font-family=\"Times,serif\" font-size=\"14.00\">t4(I,N)!=b(k)/O!=(K4(:/Z))</text>\n",
       "</g>\n",
       "<!-- 3&#45;&gt;4 -->\n",
       "<g id=\"edge4\" class=\"edge\">\n",
       "<title>3&#45;&gt;4</title>\n",
       "<path fill=\"none\" stroke=\"black\" d=\"M78,-50.69C78,-44.18 78,-34.1 78,-25.43\"/>\n",
       "<polygon fill=\"black\" stroke=\"black\" points=\"81.5,-25.26 78,-15.26 74.5,-25.26 81.5,-25.26\"/>\n",
       "</g>\n",
       "<!-- 7 -->\n",
       "<g id=\"node8\" class=\"node\">\n",
       "<title>7</title>\n",
       "<text text-anchor=\"middle\" x=\"194\" y=\"-3.8\" font-family=\"Times,serif\" font-size=\"14.00\">I7</text>\n",
       "</g>\n",
       "<!-- 6&#45;&gt;7 -->\n",
       "<g id=\"edge7\" class=\"edge\">\n",
       "<title>6&#45;&gt;7</title>\n",
       "<path fill=\"none\" stroke=\"black\" d=\"M194,-50.69C194,-44.18 194,-34.1 194,-25.43\"/>\n",
       "<polygon fill=\"black\" stroke=\"black\" points=\"197.5,-25.26 194,-15.26 190.5,-25.26 197.5,-25.26\"/>\n",
       "</g>\n",
       "</g>\n",
       "</svg>\n"
      ],
      "text/plain": [
       "<graphviz.dot.Digraph at 0x11467b8b0>"
      ]
     },
     "execution_count": 315,
     "metadata": {},
     "output_type": "execute_result"
    }
   ],
   "source": [
    "prune_tokens = [\n",
    "    '<value>', '<table>', '<column>', '<literals>', '<exprs>', '<bexpr>'\n",
    "]\n",
    "dt = tgf.prune_tree(qtree, prune_tokens)\n",
    "display_tree(dt)"
   ]
  },
  {
   "cell_type": "markdown",
   "metadata": {
    "slideshow": {
     "slide_type": "fragment"
    }
   },
   "source": [
    "Can we identify which part of the input was supplied by which part of the grammar? We define `span()` that can recover this information from the derivation tree. For a given node, let us assume that the start point is known. Then, for processing the children, we proceed as follows: We choose one child at a time from left to right, and compute the length of the child. The length of the children before the current child in addition to our starting point gives the starting point of the current child. The end point for each node is simply the end point of its last children (or the length of its node if it is a leaf)."
   ]
  },
  {
   "cell_type": "code",
   "execution_count": 316,
   "metadata": {
    "execution": {
     "iopub.execute_input": "2022-02-21T08:25:50.050741Z",
     "iopub.status.busy": "2022-02-21T08:25:50.050187Z",
     "iopub.status.idle": "2022-02-21T08:25:50.052315Z",
     "shell.execute_reply": "2022-02-21T08:25:50.052915Z"
    },
    "slideshow": {
     "slide_type": "skip"
    }
   },
   "outputs": [],
   "source": [
    "from GrammarFuzzer import START_SYMBOL"
   ]
  },
  {
   "cell_type": "code",
   "execution_count": 317,
   "metadata": {
    "execution": {
     "iopub.execute_input": "2022-02-21T08:25:50.060941Z",
     "iopub.status.busy": "2022-02-21T08:25:50.060154Z",
     "iopub.status.idle": "2022-02-21T08:25:50.062201Z",
     "shell.execute_reply": "2022-02-21T08:25:50.062620Z"
    },
    "slideshow": {
     "slide_type": "subslide"
    }
   },
   "outputs": [],
   "source": [
    "def span(node, g, node_start=0):\n",
    "    hm = {}\n",
    "    k, cs = node\n",
    "    end_i = node_start\n",
    "    new_cs = []\n",
    "    for c in cs:\n",
    "        chm, (ck, child_start, child_end, gcs) = span(c, g, end_i)\n",
    "        new_cs.append((ck, child_start, child_end, gcs))\n",
    "        end_i = child_end\n",
    "        hm.update(chm)\n",
    "    node_end = end_i if cs else node_start + len(k)\n",
    "    if k in g and k != START_SYMBOL:\n",
    "        hm[k] = (node_start, node_end - node_start)\n",
    "    return hm, (k, node_start, node_end, new_cs)"
   ]
  },
  {
   "cell_type": "markdown",
   "metadata": {
    "slideshow": {
     "slide_type": "fragment"
    }
   },
   "source": [
    "We use it as follows:"
   ]
  },
  {
   "cell_type": "code",
   "execution_count": 318,
   "metadata": {
    "execution": {
     "iopub.execute_input": "2022-02-21T08:25:50.068033Z",
     "iopub.status.busy": "2022-02-21T08:25:50.066884Z",
     "iopub.status.idle": "2022-02-21T08:25:50.069803Z",
     "shell.execute_reply": "2022-02-21T08:25:50.070463Z"
    },
    "slideshow": {
     "slide_type": "subslide"
    }
   },
   "outputs": [],
   "source": [
    "span_hm, _n = span(dt, INVENTORY_GRAMMAR)"
   ]
  },
  {
   "cell_type": "code",
   "execution_count": 319,
   "metadata": {
    "execution": {
     "iopub.execute_input": "2022-02-21T08:25:50.075669Z",
     "iopub.status.busy": "2022-02-21T08:25:50.074830Z",
     "iopub.status.idle": "2022-02-21T08:25:50.077933Z",
     "shell.execute_reply": "2022-02-21T08:25:50.078532Z"
    },
    "slideshow": {
     "slide_type": "fragment"
    }
   },
   "outputs": [
    {
     "data": {
      "text/plain": [
       "{'<exprs>': (7, 26), '<table>': (39, 2), '<query>': (0, 41)}"
      ]
     },
     "execution_count": 319,
     "metadata": {},
     "output_type": "execute_result"
    }
   ],
   "source": [
    "span_hm"
   ]
  },
  {
   "cell_type": "markdown",
   "metadata": {
    "slideshow": {
     "slide_type": "fragment"
    }
   },
   "source": [
    "We can check if we got the right values as follows."
   ]
  },
  {
   "cell_type": "code",
   "execution_count": 320,
   "metadata": {
    "execution": {
     "iopub.execute_input": "2022-02-21T08:25:50.083714Z",
     "iopub.status.busy": "2022-02-21T08:25:50.082648Z",
     "iopub.status.idle": "2022-02-21T08:25:50.085930Z",
     "shell.execute_reply": "2022-02-21T08:25:50.086651Z"
    },
    "slideshow": {
     "slide_type": "fragment"
    }
   },
   "outputs": [
    {
     "name": "stdout",
     "output_type": "stream",
     "text": [
      "query: select t4(I,N)!=b(k)/O!=(K4(:/Z)) from I7\n",
      "<exprs> t4(I,N)!=b(k)/O!=(K4(:/Z))\n",
      "<table> I7\n",
      "<query> select t4(I,N)!=b(k)/O!=(K4(:/Z)) from I7\n"
     ]
    }
   ],
   "source": [
    "print(\"query:\", query)\n",
    "for k in span_hm:\n",
    "    start, l = span_hm[k]\n",
    "    print(k, query[start:start + l])"
   ]
  },
  {
   "cell_type": "markdown",
   "metadata": {
    "slideshow": {
     "slide_type": "subslide"
    }
   },
   "source": [
    "Next, we need to obtain all the comparisons made in each predicate. For that, we define two helper functions. The first is `unwrap_substrings()` that translates multiple calls to `z3.SubString` and returns the start, and length of the given z3 string expression."
   ]
  },
  {
   "cell_type": "code",
   "execution_count": 321,
   "metadata": {
    "execution": {
     "iopub.execute_input": "2022-02-21T08:25:50.091760Z",
     "iopub.status.busy": "2022-02-21T08:25:50.091038Z",
     "iopub.status.idle": "2022-02-21T08:25:50.092820Z",
     "shell.execute_reply": "2022-02-21T08:25:50.093482Z"
    },
    "slideshow": {
     "slide_type": "fragment"
    }
   },
   "outputs": [],
   "source": [
    "def unwrap_substrings(s):\n",
    "    assert s.decl().name() == 'str.substr'\n",
    "    cs, frm, l = s.children()\n",
    "    fl = frm.as_long()\n",
    "    ll = l.as_long()\n",
    "    if cs.decl().name() == 'str.substr':\n",
    "        newfrm, _l = unwrap_substrings(cs)\n",
    "        return (fl + newfrm, ll)\n",
    "    else:\n",
    "        return (fl, ll)"
   ]
  },
  {
   "cell_type": "markdown",
   "metadata": {
    "slideshow": {
     "slide_type": "subslide"
    }
   },
   "source": [
    "We define `traverse_z3()` that traverses a given z3 string expression, and collects all direct string comparisons to a substring of the original argument."
   ]
  },
  {
   "cell_type": "code",
   "execution_count": 322,
   "metadata": {
    "execution": {
     "iopub.execute_input": "2022-02-21T08:25:50.098835Z",
     "iopub.status.busy": "2022-02-21T08:25:50.095544Z",
     "iopub.status.idle": "2022-02-21T08:25:50.105534Z",
     "shell.execute_reply": "2022-02-21T08:25:50.106023Z"
    },
    "slideshow": {
     "slide_type": "subslide"
    }
   },
   "outputs": [],
   "source": [
    "def traverse_z3(p, hm):\n",
    "    def z3_as_string(v):\n",
    "        return v.as_string()\n",
    "\n",
    "    n = p.decl().name()\n",
    "    if n == 'not':\n",
    "        return traverse_z3(p.children()[0], hm)\n",
    "    elif n == '=':\n",
    "        i, j = p.children()\n",
    "        if isinstance(i, (int, z3.IntNumRef)):\n",
    "            return traverse_z3(j, hm)\n",
    "        elif isinstance(j, (int, z3.IntNumRef)):\n",
    "            return traverse_z3(i, hm)\n",
    "        else:\n",
    "            if i.is_string() and j.is_string():\n",
    "                if i.is_string_value():\n",
    "                    cs, frm, l = j.children()\n",
    "                    if (isinstance(frm, z3.IntNumRef)\n",
    "                            and isinstance(l, z3.IntNumRef)):\n",
    "                        hm[z3_as_string(i)] = unwrap_substrings(j)\n",
    "                elif j.is_string_value():\n",
    "                    cs, frm, l = i.children()\n",
    "                    if (isinstance(frm, z3.IntNumRef)\n",
    "                            and isinstance(l, z3.IntNumRef)):\n",
    "                        hm[z3_as_string(j)] = unwrap_substrings(i)\n",
    "            else:\n",
    "                assert False  # for now\n",
    "    elif n == '<' or n == '>':\n",
    "        i, j = p.children()\n",
    "        if isinstance(i, (int, z3.IntNumRef)):\n",
    "            return traverse_z3(j, hm)\n",
    "        elif isinstance(j, (int, z3.IntNumRef)):\n",
    "            return traverse_z3(i, hm)\n",
    "        else:\n",
    "            assert False\n",
    "    return p"
   ]
  },
  {
   "cell_type": "code",
   "execution_count": 323,
   "metadata": {
    "execution": {
     "iopub.execute_input": "2022-02-21T08:25:50.110144Z",
     "iopub.status.busy": "2022-02-21T08:25:50.109600Z",
     "iopub.status.idle": "2022-02-21T08:25:50.114659Z",
     "shell.execute_reply": "2022-02-21T08:25:50.115326Z"
    },
    "slideshow": {
     "slide_type": "subslide"
    }
   },
   "outputs": [
    {
     "data": {
      "text/plain": [
       "{'inventory': (39, 2)}"
      ]
     },
     "execution_count": 323,
     "metadata": {},
     "output_type": "execute_result"
    }
   ],
   "source": [
    "comparisons: Dict[str, Tuple] = {}\n",
    "for p in _.path:\n",
    "    traverse_z3(p, comparisons)\n",
    "comparisons"
   ]
  },
  {
   "cell_type": "markdown",
   "metadata": {
    "slideshow": {
     "slide_type": "fragment"
    }
   },
   "source": [
    "All that we need now is to declare string variables that match the substrings in `comparisons`, and solve for them for each item in the path. For that, we define `find_alternatives()`."
   ]
  },
  {
   "cell_type": "code",
   "execution_count": 324,
   "metadata": {
    "execution": {
     "iopub.execute_input": "2022-02-21T08:25:50.121420Z",
     "iopub.status.busy": "2022-02-21T08:25:50.120594Z",
     "iopub.status.idle": "2022-02-21T08:25:50.122673Z",
     "shell.execute_reply": "2022-02-21T08:25:50.123302Z"
    },
    "slideshow": {
     "slide_type": "subslide"
    }
   },
   "outputs": [],
   "source": [
    "def find_alternatives(spans, cmp):\n",
    "    alts = {}\n",
    "    for key in spans:\n",
    "        start, l = spans[key]\n",
    "        rset = set(range(start, start + l))\n",
    "        for ckey in cmp:\n",
    "            cstart, cl = cmp[ckey]\n",
    "            cset = set(range(cstart, cstart + cl))\n",
    "            # if rset.issubset(cset): <- ignoring subsets for now.\n",
    "            if rset == cset:\n",
    "                if key not in alts:\n",
    "                    alts[key] = set()\n",
    "                alts[key].add(ckey)\n",
    "    return alts"
   ]
  },
  {
   "cell_type": "markdown",
   "metadata": {
    "slideshow": {
     "slide_type": "fragment"
    }
   },
   "source": [
    "We use it as follows."
   ]
  },
  {
   "cell_type": "code",
   "execution_count": 325,
   "metadata": {
    "execution": {
     "iopub.execute_input": "2022-02-21T08:25:50.128286Z",
     "iopub.status.busy": "2022-02-21T08:25:50.127397Z",
     "iopub.status.idle": "2022-02-21T08:25:50.130752Z",
     "shell.execute_reply": "2022-02-21T08:25:50.131361Z"
    },
    "slideshow": {
     "slide_type": "subslide"
    }
   },
   "outputs": [
    {
     "data": {
      "text/plain": [
       "{'<table>': {'inventory'}}"
      ]
     },
     "execution_count": 325,
     "metadata": {},
     "output_type": "execute_result"
    }
   ],
   "source": [
    "alternatives = find_alternatives(span_hm, comparisons)\n",
    "alternatives"
   ]
  },
  {
   "cell_type": "markdown",
   "metadata": {
    "slideshow": {
     "slide_type": "fragment"
    }
   },
   "source": [
    "So, we have our alternatives for each key in the grammar. We can now update our grammar as follows."
   ]
  },
  {
   "cell_type": "code",
   "execution_count": 326,
   "metadata": {
    "execution": {
     "iopub.execute_input": "2022-02-21T08:25:50.137355Z",
     "iopub.status.busy": "2022-02-21T08:25:50.136204Z",
     "iopub.status.idle": "2022-02-21T08:25:50.138319Z",
     "shell.execute_reply": "2022-02-21T08:25:50.138714Z"
    },
    "slideshow": {
     "slide_type": "fragment"
    }
   },
   "outputs": [],
   "source": [
    "INVENTORY_GRAMMAR_NEW = dict(INVENTORY_GRAMMAR)"
   ]
  },
  {
   "cell_type": "code",
   "execution_count": 327,
   "metadata": {
    "execution": {
     "iopub.execute_input": "2022-02-21T08:25:50.142569Z",
     "iopub.status.busy": "2022-02-21T08:25:50.141972Z",
     "iopub.status.idle": "2022-02-21T08:25:50.143960Z",
     "shell.execute_reply": "2022-02-21T08:25:50.144414Z"
    },
    "slideshow": {
     "slide_type": "fragment"
    }
   },
   "outputs": [],
   "source": [
    "for k in alternatives:\n",
    "    INVENTORY_GRAMMAR_NEW[k] = INVENTORY_GRAMMAR_NEW[k] + list(alternatives[k])"
   ]
  },
  {
   "cell_type": "markdown",
   "metadata": {
    "slideshow": {
     "slide_type": "fragment"
    }
   },
   "source": [
    "We made a choice here. We could have completely overwritten the definition of `<table>` . Instead, we added our new alternatives to the existing definition. This way, our fuzzer will also attempt other values for `<table>` once in a while."
   ]
  },
  {
   "cell_type": "code",
   "execution_count": 328,
   "metadata": {
    "execution": {
     "iopub.execute_input": "2022-02-21T08:25:50.149652Z",
     "iopub.status.busy": "2022-02-21T08:25:50.148598Z",
     "iopub.status.idle": "2022-02-21T08:25:50.152250Z",
     "shell.execute_reply": "2022-02-21T08:25:50.152771Z"
    },
    "slideshow": {
     "slide_type": "fragment"
    }
   },
   "outputs": [
    {
     "data": {
      "text/plain": [
       "['<word>', 'inventory']"
      ]
     },
     "execution_count": 328,
     "metadata": {},
     "output_type": "execute_result"
    }
   ],
   "source": [
    "INVENTORY_GRAMMAR_NEW['<table>']"
   ]
  },
  {
   "cell_type": "markdown",
   "metadata": {
    "slideshow": {
     "slide_type": "fragment"
    }
   },
   "source": [
    "Let us try fuzzing with our new grammar."
   ]
  },
  {
   "cell_type": "code",
   "execution_count": 329,
   "metadata": {
    "execution": {
     "iopub.execute_input": "2022-02-21T08:25:50.157198Z",
     "iopub.status.busy": "2022-02-21T08:25:50.156516Z",
     "iopub.status.idle": "2022-02-21T08:25:50.158432Z",
     "shell.execute_reply": "2022-02-21T08:25:50.158888Z"
    },
    "slideshow": {
     "slide_type": "subslide"
    }
   },
   "outputs": [],
   "source": [
    "cgf = ConcolicGrammarFuzzer(INVENTORY_GRAMMAR_NEW)"
   ]
  },
  {
   "cell_type": "code",
   "execution_count": 330,
   "metadata": {
    "execution": {
     "iopub.execute_input": "2022-02-21T08:25:50.174405Z",
     "iopub.status.busy": "2022-02-21T08:25:50.173619Z",
     "iopub.status.idle": "2022-02-21T08:25:50.373143Z",
     "shell.execute_reply": "2022-02-21T08:25:50.373673Z"
    },
    "slideshow": {
     "slide_type": "subslide"
    }
   },
   "outputs": [
    {
     "name": "stdout",
     "output_type": "stream",
     "text": [
      "insert into inventory (i9Oam41gsP2,h97,q8J:.70J) values ('.q')\n",
      "Column ('i9Oam41gsP2') was not found\n",
      "\n",
      "select C from wy where R/s/y>_-X-.+C/u==(((---6.5)))\n",
      "Table ('wy') was not found\n",
      "\n",
      "update T set I=gj5 where (-8.6/O*.-W)==s-O<Z((R),((N==(:))))\n",
      "Table ('T') was not found\n",
      "\n",
      "update inventory set f=o,V=Q6 where l0!=(((((-5)))==(rGJ)))\n",
      "Column ('f') was not found\n",
      "\n",
      "delete from j where T==5.58\n",
      "Table ('j') was not found\n",
      "\n",
      "insert into inventory (py75) values ('R','/','fd8g',3883.0)\n",
      "Column ('py75') was not found\n",
      "\n",
      "update inventory set GY5=X where G-g/z(w)<2.5\n",
      "Column ('GY5') was not found\n",
      "\n",
      "update nb0 set i=K,b=R,u=: where D>A\n",
      "Table ('nb0') was not found\n",
      "\n",
      "insert into inventory (P,wmE,U,F) values (50,'/',--6.2)\n",
      "Column ('P') was not found\n",
      "\n",
      "delete from GTV3_ where :-M!=t>n+R/x+r*a/t-r-V\n",
      "Table ('GTV3_') was not found\n",
      "\n"
     ]
    }
   ],
   "source": [
    "for i in range(10):\n",
    "    qtree = cgf.fuzz_tree()\n",
    "    query = cgf.tree_to_string(qtree)\n",
    "    print(query)\n",
    "    with ExpectError(print_traceback=False):\n",
    "        try:\n",
    "            with ConcolicTracer() as _:\n",
    "                res = _[db_select](query)\n",
    "            print(repr(res))\n",
    "        except SQLException as e:\n",
    "            print(e)\n",
    "        print()"
   ]
  },
  {
   "cell_type": "markdown",
   "metadata": {
    "slideshow": {
     "slide_type": "subslide"
    }
   },
   "source": [
    "That is, we were able to reach the dangerous method `my_eval()`.\n",
    "In effect, what we have done is to lift parts of predicates to the grammar. The new grammar can generate inputs that reach deeper into the program than before. Note that we have only handled the equality predicate. One can also lift the '<' and '>' comparison operators to the grammar if required.\n",
    "\n",
    "Compare the output of our fuzzer to the original `GrammarFuzzer` below."
   ]
  },
  {
   "cell_type": "code",
   "execution_count": 331,
   "metadata": {
    "execution": {
     "iopub.execute_input": "2022-02-21T08:25:50.426605Z",
     "iopub.status.busy": "2022-02-21T08:25:50.393121Z",
     "iopub.status.idle": "2022-02-21T08:25:50.516705Z",
     "shell.execute_reply": "2022-02-21T08:25:50.517204Z"
    },
    "slideshow": {
     "slide_type": "subslide"
    }
   },
   "outputs": [
    {
     "name": "stdout",
     "output_type": "stream",
     "text": [
      "insert into UCu4 (E,xM:lOq6,u38p,W54G3b0) values (':',1.835)\n",
      "Table ('UCu4') was not found\n",
      "\n",
      "insert into B81 (Np) values ('h')\n",
      "Table ('B81') was not found\n",
      "\n",
      "delete from w where Xn((T))>a(8.8,g)/h+t-P-j+L\n",
      "Table ('w') was not found\n",
      "\n",
      "update q75 set L=z4 where ((QUy+N))==A/P-L*ao(R)/I\n",
      "Table ('q75') was not found\n",
      "\n",
      "update q3 set x=F where l(N)-P-S+t==e\n",
      "Table ('q3') was not found\n",
      "\n",
      "update Dy06rr set h=F where (z!=Q)==(((a<q)))\n",
      "Table ('Dy06rr') was not found\n",
      "\n",
      "delete from Z where V(7)>a==O(mA,j(g)*:,s,B)-5-eD(c,F!=n)==eO41Xy\n",
      "Table ('Z') was not found\n",
      "\n",
      "select 1.8 from U3X8p\n",
      "Table ('U3X8p') was not found\n",
      "\n",
      "update N set w=X9,A=w,M=Z where ((b!=c))==U/N<I\n",
      "Table ('N') was not found\n",
      "\n",
      "insert into I1 (g,_Q,y8e0) values (5.7,'.&',05.2)\n",
      "Table ('I1') was not found\n",
      "\n"
     ]
    }
   ],
   "source": [
    "gf = GrammarFuzzer(INVENTORY_GRAMMAR)\n",
    "for i in range(10):\n",
    "    query = gf.fuzz()\n",
    "    print(query)\n",
    "    with ExpectError(print_traceback=False):\n",
    "        try:\n",
    "            res = db_select(query)\n",
    "            print(repr(res))\n",
    "        except SQLException as e:\n",
    "            print(e)\n",
    "        print()"
   ]
  },
  {
   "cell_type": "markdown",
   "metadata": {
    "slideshow": {
     "slide_type": "subslide"
    }
   },
   "source": [
    "As can be seen, the original grammar fuzzer is unable to proceed beyond the table verification."
   ]
  },
  {
   "cell_type": "markdown",
   "metadata": {
    "slideshow": {
     "slide_type": "subslide"
    }
   },
   "source": [
    "#### Pruning and Updating\n",
    "\n",
    "We implement these methods in `ConcolicGrammarFuzzer`. The method `update_grammar()` allows `ConcolicGrammarFuzzer` to collect feedback from concolic fuzzing, and update the grammar used for fuzzing accordingly."
   ]
  },
  {
   "cell_type": "code",
   "execution_count": 332,
   "metadata": {
    "execution": {
     "iopub.execute_input": "2022-02-21T08:25:50.523428Z",
     "iopub.status.busy": "2022-02-21T08:25:50.522866Z",
     "iopub.status.idle": "2022-02-21T08:25:50.524581Z",
     "shell.execute_reply": "2022-02-21T08:25:50.525021Z"
    },
    "slideshow": {
     "slide_type": "subslide"
    }
   },
   "outputs": [],
   "source": [
    "class ConcolicGrammarFuzzer(ConcolicGrammarFuzzer):\n",
    "    def prune_tokens(self, tokens):\n",
    "        self.prune_tokens = tokens\n",
    "\n",
    "    def update_grammar(self, trace):\n",
    "        self.comparisons = {}\n",
    "        for p in trace.path:\n",
    "            traverse_z3(p, self.comparisons)\n",
    "        alternatives = find_alternatives(self.span_range, self.comparisons)\n",
    "        if self.log:\n",
    "            print('Alternatives:', alternatives, 'Span:', self.span_range)\n",
    "        new_grammar = dict(self.grammar)\n",
    "        for k in alternatives:\n",
    "            new_grammar[k] = list(set(new_grammar[k] + list(alternatives[k])))\n",
    "        self.grammar = new_grammar"
   ]
  },
  {
   "cell_type": "markdown",
   "metadata": {
    "slideshow": {
     "slide_type": "subslide"
    }
   },
   "source": [
    "The `fuzz()` method simply generates the derivation tree, computes the span range, and returns the string generated from the derivation tree."
   ]
  },
  {
   "cell_type": "code",
   "execution_count": 333,
   "metadata": {
    "execution": {
     "iopub.execute_input": "2022-02-21T08:25:50.529652Z",
     "iopub.status.busy": "2022-02-21T08:25:50.528969Z",
     "iopub.status.idle": "2022-02-21T08:25:50.531158Z",
     "shell.execute_reply": "2022-02-21T08:25:50.531558Z"
    },
    "slideshow": {
     "slide_type": "fragment"
    }
   },
   "outputs": [],
   "source": [
    "class ConcolicGrammarFuzzer(ConcolicGrammarFuzzer):\n",
    "    def fuzz(self):\n",
    "        qtree = self.fuzz_tree()\n",
    "        self.pruned_tree = self.prune_tree(qtree, self.prune_tokens)\n",
    "        query = self.tree_to_string(qtree)\n",
    "        self.span_range, _n = span(self.pruned_tree, self.grammar)\n",
    "        return query"
   ]
  },
  {
   "cell_type": "markdown",
   "metadata": {
    "slideshow": {
     "slide_type": "fragment"
    }
   },
   "source": [
    "To ensure that our approach works, let us update our tables slightly."
   ]
  },
  {
   "cell_type": "code",
   "execution_count": 334,
   "metadata": {
    "execution": {
     "iopub.execute_input": "2022-02-21T08:25:50.535338Z",
     "iopub.status.busy": "2022-02-21T08:25:50.534791Z",
     "iopub.status.idle": "2022-02-21T08:25:50.536684Z",
     "shell.execute_reply": "2022-02-21T08:25:50.537121Z"
    },
    "slideshow": {
     "slide_type": "fragment"
    }
   },
   "outputs": [],
   "source": [
    "inventory = db.db.pop('inventory', None)"
   ]
  },
  {
   "cell_type": "code",
   "execution_count": 335,
   "metadata": {
    "execution": {
     "iopub.execute_input": "2022-02-21T08:25:50.543572Z",
     "iopub.status.busy": "2022-02-21T08:25:50.542994Z",
     "iopub.status.idle": "2022-02-21T08:25:50.545412Z",
     "shell.execute_reply": "2022-02-21T08:25:50.545871Z"
    },
    "slideshow": {
     "slide_type": "subslide"
    }
   },
   "outputs": [
    {
     "data": {
      "text/plain": [
       "{'vehicles': ({'year': int, 'kind': str, 'company': str, 'model': str},\n",
       "  [{'year': 1997, 'kind': 'van', 'company': 'Ford', 'model': 'E350'},\n",
       "   {'year': 2000, 'kind': 'car', 'company': 'Mercury', 'model': 'Cougar'},\n",
       "   {'year': 1999, 'kind': 'car', 'company': 'Chevy', 'model': 'Venture'}]),\n",
       " 'months': ({'month': int, 'name': str},\n",
       "  [{'month': 1, 'name': 'jan'},\n",
       "   {'month': 2, 'name': 'feb'},\n",
       "   {'month': 3, 'name': 'mar'},\n",
       "   {'month': 4, 'name': 'apr'},\n",
       "   {'month': 5, 'name': 'may'},\n",
       "   {'month': 6, 'name': 'jun'},\n",
       "   {'month': 7, 'name': 'jul'},\n",
       "   {'month': 8, 'name': 'aug'},\n",
       "   {'month': 9, 'name': 'sep'},\n",
       "   {'month': 10, 'name': 'oct'},\n",
       "   {'month': 11, 'name': 'nov'},\n",
       "   {'month': 12, 'name': 'dec'}])}"
      ]
     },
     "execution_count": 335,
     "metadata": {},
     "output_type": "execute_result"
    }
   ],
   "source": [
    "db.db['vehicles'] = inventory\n",
    "db.db['months'] = ({\n",
    "    'month': int,\n",
    "    'name': str\n",
    "}, [{\n",
    "    'month': i + 1,\n",
    "    'name': m\n",
    "} for i, m in enumerate([\n",
    "    'jan', 'feb', 'mar', 'apr', 'may', 'jun', 'jul', 'aug', 'sep', 'oct',\n",
    "    'nov', 'dec'\n",
    "])])\n",
    "db.db"
   ]
  },
  {
   "cell_type": "markdown",
   "metadata": {
    "slideshow": {
     "slide_type": "subslide"
    }
   },
   "source": [
    "### End of Excursion"
   ]
  },
  {
   "cell_type": "markdown",
   "metadata": {
    "slideshow": {
     "slide_type": "fragment"
    }
   },
   "source": [
    "The `ConcolicGrammarFuzzer` is used as follows."
   ]
  },
  {
   "cell_type": "code",
   "execution_count": 336,
   "metadata": {
    "execution": {
     "iopub.execute_input": "2022-02-21T08:25:50.560594Z",
     "iopub.status.busy": "2022-02-21T08:25:50.559940Z",
     "iopub.status.idle": "2022-02-21T08:25:50.763193Z",
     "shell.execute_reply": "2022-02-21T08:25:50.763590Z"
    },
    "slideshow": {
     "slide_type": "subslide"
    }
   },
   "outputs": [
    {
     "name": "stdout",
     "output_type": "stream",
     "text": [
      "select Qq6L,(X) from LYg0 where ((x<w))!=(A)\n",
      "Table ('LYg0') was not found\n",
      "\n",
      "update a set P3=_ where p/h-g-Z<l-Q(U)\n",
      "Table ('a') was not found\n",
      "\n",
      "select W,H,s from vehicles where I+N/S+k/R!=G2\n",
      "\n",
      "insert into months (S,q1i) values (7.3,'3[s=K=','e')\n",
      "Column ('S') was not found\n",
      "\n",
      "delete from vehicles where v-f*r/s/q>h-K-m(n,X)\n",
      "Invalid WHERE ('v-f*r/s/q>h-K-m(n,X)')\n",
      "\n",
      "select C*R*Y(A)/Z<J,(q)!=:(R),D from C\n",
      "Table ('C') was not found\n",
      "\n",
      "delete from months where K-t/W(E)-Y+A<H+I*U+w\n",
      "Invalid WHERE ('K-t/W(E)-Y+A<H+I*U+w')\n",
      "\n",
      "select e*L*G-A/_ from _3 where (G)==B(F,H)\n",
      "Table ('_3') was not found\n",
      "\n",
      "select S(Y)<c,PF(j),h,s,_ from vehicles\n",
      "Invalid WHERE ('(S(Y)<c,PF(j),h,s,_)')\n",
      "\n",
      "update e set m=:LMG where 6.48!=A+C-l+c<K(_)*f/o+h==H\n",
      "Table ('e') was not found\n",
      "\n"
     ]
    },
    {
     "name": "stderr",
     "output_type": "stream",
     "text": [
      "TypeError: 'NotImplementedType' object is not callable (expected)\n"
     ]
    }
   ],
   "source": [
    "cgf = ConcolicGrammarFuzzer(INVENTORY_GRAMMAR)\n",
    "cgf.prune_tokens(prune_tokens)\n",
    "for i in range(10):\n",
    "    query = cgf.fuzz()\n",
    "    print(query)\n",
    "    with ConcolicTracer() as _:\n",
    "        with ExpectError(print_traceback=False):\n",
    "            try:\n",
    "                res = _[db_select](query)\n",
    "                print(repr(res))\n",
    "            except SQLException as e:\n",
    "                print(e)\n",
    "        cgf.update_grammar(_)\n",
    "        print()"
   ]
  },
  {
   "cell_type": "markdown",
   "metadata": {
    "slideshow": {
     "slide_type": "subslide"
    }
   },
   "source": [
    "As can be seen, the fuzzer starts with no knowledge of the tables `vehicles`, `months` and `years`, but identifies it from the concolic execution, and lifts it to the grammar. This allows us to improve the effectiveness of fuzzing."
   ]
  },
  {
   "cell_type": "markdown",
   "metadata": {
    "slideshow": {
     "slide_type": "slide"
    }
   },
   "source": [
    "## Limitations\n",
    "\n",
    "As with dynamic taint analysis, implicit control flow can obscure the predicates encountered during concolic execution. However, this limitation could be overcome to some extent by wrapping any constants in the source with their respective proxy objects. Similarly, calls to internal C functions can cause the symbolic information to be discarded, and only partial information may be obtained."
   ]
  },
  {
   "cell_type": "markdown",
   "metadata": {
    "slideshow": {
     "slide_type": "slide"
    }
   },
   "source": [
    "## Synopsis"
   ]
  },
  {
   "cell_type": "markdown",
   "metadata": {
    "slideshow": {
     "slide_type": "fragment"
    }
   },
   "source": [
    "This chapter defines two main classes: `SimpleConcolicFuzzer` and `ConcolicGrammarFuzzer`. The `SimpleConcolicFuzzer` first uses a sample input to collect predicates encountered. The fuzzer then negates random predicates to generate new input constraints. These, when solved, produce inputs that explore paths that are close to the original path."
   ]
  },
  {
   "cell_type": "markdown",
   "metadata": {
    "slideshow": {
     "slide_type": "subslide"
    }
   },
   "source": [
    "### ConcolicTracer"
   ]
  },
  {
   "cell_type": "markdown",
   "metadata": {
    "slideshow": {
     "slide_type": "fragment"
    }
   },
   "source": [
    "At the heart of both fuzzers lies the concept of a _concolic tracer_, capturing symbolic variables and path conditions as a program gets executed.\n",
    "\n",
    "`ConcolicTracer` is used in a `with` block; the syntax `tracer[function]` executes `function` within the `tracer` while capturing conditions. Here is an example for the `cgi_decode()` function:"
   ]
  },
  {
   "cell_type": "code",
   "execution_count": 337,
   "metadata": {
    "execution": {
     "iopub.execute_input": "2022-02-21T08:25:50.768840Z",
     "iopub.status.busy": "2022-02-21T08:25:50.767761Z",
     "iopub.status.idle": "2022-02-21T08:25:50.774006Z",
     "shell.execute_reply": "2022-02-21T08:25:50.774672Z"
    },
    "slideshow": {
     "slide_type": "fragment"
    }
   },
   "outputs": [],
   "source": [
    "with ConcolicTracer() as _:\n",
    "    _[cgi_decode]('a%20d')"
   ]
  },
  {
   "cell_type": "markdown",
   "metadata": {
    "slideshow": {
     "slide_type": "fragment"
    }
   },
   "source": [
    "Once executed, we can retrieve the symbolic variables in the `decls` attribute. This is a mapping of symbolic variables to types."
   ]
  },
  {
   "cell_type": "code",
   "execution_count": 338,
   "metadata": {
    "execution": {
     "iopub.execute_input": "2022-02-21T08:25:50.779585Z",
     "iopub.status.busy": "2022-02-21T08:25:50.778923Z",
     "iopub.status.idle": "2022-02-21T08:25:50.782483Z",
     "shell.execute_reply": "2022-02-21T08:25:50.783094Z"
    },
    "slideshow": {
     "slide_type": "fragment"
    }
   },
   "outputs": [
    {
     "data": {
      "text/plain": [
       "{'cgi_decode_s_str_1': 'String'}"
      ]
     },
     "execution_count": 338,
     "metadata": {},
     "output_type": "execute_result"
    }
   ],
   "source": [
    "_.decls"
   ]
  },
  {
   "cell_type": "markdown",
   "metadata": {
    "slideshow": {
     "slide_type": "fragment"
    }
   },
   "source": [
    "The extracted path conditions can be found in the `path` attribute:"
   ]
  },
  {
   "cell_type": "code",
   "execution_count": 339,
   "metadata": {
    "execution": {
     "iopub.execute_input": "2022-02-21T08:25:50.788887Z",
     "iopub.status.busy": "2022-02-21T08:25:50.787691Z",
     "iopub.status.idle": "2022-02-21T08:25:50.801803Z",
     "shell.execute_reply": "2022-02-21T08:25:50.802700Z"
    },
    "slideshow": {
     "slide_type": "subslide"
    }
   },
   "outputs": [
    {
     "data": {
      "text/plain": [
       "[0 < Length(cgi_decode_s_str_1),\n",
       " Not(str.substr(cgi_decode_s_str_1, 0, 1) == \"+\"),\n",
       " Not(str.substr(cgi_decode_s_str_1, 0, 1) == \"%\"),\n",
       " 1 < Length(cgi_decode_s_str_1),\n",
       " Not(str.substr(cgi_decode_s_str_1, 1, 1) == \"+\"),\n",
       " str.substr(cgi_decode_s_str_1, 1, 1) == \"%\",\n",
       " Not(str.substr(cgi_decode_s_str_1, 2, 1) == \"0\"),\n",
       " Not(str.substr(cgi_decode_s_str_1, 2, 1) == \"1\"),\n",
       " str.substr(cgi_decode_s_str_1, 2, 1) == \"2\",\n",
       " str.substr(cgi_decode_s_str_1, 3, 1) == \"0\",\n",
       " 4 < Length(cgi_decode_s_str_1),\n",
       " Not(str.substr(cgi_decode_s_str_1, 4, 1) == \"+\"),\n",
       " Not(str.substr(cgi_decode_s_str_1, 4, 1) == \"%\"),\n",
       " Not(5 < Length(cgi_decode_s_str_1))]"
      ]
     },
     "execution_count": 339,
     "metadata": {},
     "output_type": "execute_result"
    }
   ],
   "source": [
    "_.path"
   ]
  },
  {
   "cell_type": "markdown",
   "metadata": {
    "slideshow": {
     "slide_type": "subslide"
    }
   },
   "source": [
    "The `context` attribute holds a pair of `decls` and `path` attributes; this is useful for passing it into the `ConcolicTracer` constructor."
   ]
  },
  {
   "cell_type": "code",
   "execution_count": 340,
   "metadata": {
    "execution": {
     "iopub.execute_input": "2022-02-21T08:25:50.808349Z",
     "iopub.status.busy": "2022-02-21T08:25:50.807212Z",
     "iopub.status.idle": "2022-02-21T08:25:50.809129Z",
     "shell.execute_reply": "2022-02-21T08:25:50.809888Z"
    },
    "slideshow": {
     "slide_type": "fragment"
    }
   },
   "outputs": [],
   "source": [
    "assert _.context == (_.decls, _.path)"
   ]
  },
  {
   "cell_type": "markdown",
   "metadata": {
    "slideshow": {
     "slide_type": "fragment"
    }
   },
   "source": [
    "We can solve these constraints to obtain a value for the function parameters that follow the same path as the original (traced) invocation:"
   ]
  },
  {
   "cell_type": "code",
   "execution_count": 341,
   "metadata": {
    "execution": {
     "iopub.execute_input": "2022-02-21T08:25:50.814893Z",
     "iopub.status.busy": "2022-02-21T08:25:50.814248Z",
     "iopub.status.idle": "2022-02-21T08:25:50.871586Z",
     "shell.execute_reply": "2022-02-21T08:25:50.872194Z"
    },
    "slideshow": {
     "slide_type": "fragment"
    }
   },
   "outputs": [
    {
     "data": {
      "text/plain": [
       "('sat', {'s': ('A%20B', 'String')})"
      ]
     },
     "execution_count": 341,
     "metadata": {},
     "output_type": "execute_result"
    }
   ],
   "source": [
    "_.zeval()"
   ]
  },
  {
   "cell_type": "markdown",
   "metadata": {
    "slideshow": {
     "slide_type": "fragment"
    }
   },
   "source": [
    "The `zeval()` function also allows to pass _alternate_ or _negated_ constraints. See the chapter for examples."
   ]
  },
  {
   "cell_type": "code",
   "execution_count": 342,
   "metadata": {
    "execution": {
     "iopub.execute_input": "2022-02-21T08:25:50.880709Z",
     "iopub.status.busy": "2022-02-21T08:25:50.879951Z",
     "iopub.status.idle": "2022-02-21T08:25:51.409232Z",
     "shell.execute_reply": "2022-02-21T08:25:51.409656Z"
    },
    "slideshow": {
     "slide_type": "fragment"
    }
   },
   "outputs": [
    {
     "data": {
      "image/svg+xml": [
       "<?xml version=\"1.0\" encoding=\"UTF-8\" standalone=\"no\"?>\n",
       "<!DOCTYPE svg PUBLIC \"-//W3C//DTD SVG 1.1//EN\"\n",
       " \"http://www.w3.org/Graphics/SVG/1.1/DTD/svg11.dtd\">\n",
       "<!-- Generated by graphviz version 2.49.3 (20211023.0002)\n",
       " -->\n",
       "<!-- Pages: 1 -->\n",
       "<svg width=\"250pt\" height=\"128pt\"\n",
       " viewBox=\"0.00 0.00 250.00 128.00\" xmlns=\"http://www.w3.org/2000/svg\" xmlns:xlink=\"http://www.w3.org/1999/xlink\">\n",
       "<g id=\"graph0\" class=\"graph\" transform=\"scale(1 1) rotate(0) translate(4 124)\">\n",
       "<g id=\"a_graph0\"><a xlink:title=\"ConcolicTracer class hierarchy\">\n",
       "<polygon fill=\"white\" stroke=\"transparent\" points=\"-4,4 -4,-124 246,-124 246,4 -4,4\"/>\n",
       "</a>\n",
       "</g>\n",
       "<!-- ConcolicTracer -->\n",
       "<g id=\"node1\" class=\"node\">\n",
       "<title>ConcolicTracer</title>\n",
       "<g id=\"a_node1\"><a xlink:href=\"#\" xlink:title=\"class ConcolicTracer:&#10;Trace function execution, tracking variables and path conditions\">\n",
       "<polygon fill=\"none\" stroke=\"black\" points=\"0,-0.5 0,-119.5 106,-119.5 106,-0.5 0,-0.5\"/>\n",
       "<text text-anchor=\"start\" x=\"8\" y=\"-105.3\" font-family=\"Patua One, Helvetica, sans-serif\" font-weight=\"bold\" font-size=\"14.00\" fill=\"#b03a2e\">ConcolicTracer</text>\n",
       "<polyline fill=\"none\" stroke=\"black\" points=\"0,-96.5 106,-96.5 \"/>\n",
       "<g id=\"a_node1_0\"><a xlink:href=\"#\" xlink:title=\"ConcolicTracer\">\n",
       "<g id=\"a_node1_1\"><a xlink:href=\"#\" xlink:title=\"__call__(self, *args):&#10;Call self as a function.\">\n",
       "<text text-anchor=\"start\" x=\"14\" y=\"-85.5\" font-family=\"'Fira Mono', 'Source Code Pro', 'Courier', monospace\" font-weight=\"bold\" font-size=\"10.00\">__call__()</text>\n",
       "</a>\n",
       "</g>\n",
       "<g id=\"a_node1_2\"><a xlink:href=\"#\" xlink:title=\"__init__(self, context=None):&#10;Constructor.\">\n",
       "<text text-anchor=\"start\" x=\"14\" y=\"-74.5\" font-family=\"'Fira Mono', 'Source Code Pro', 'Courier', monospace\" font-weight=\"bold\" font-size=\"10.00\">__init__()</text>\n",
       "</a>\n",
       "</g>\n",
       "<g id=\"a_node1_3\"><a xlink:href=\"#\" xlink:title=\"zeval(self, predicates=None, *, python=False, log=False):&#10;Evaluate `predicates` in current context.&#10;&#45; If `python` is set, use the z3 Python API; otherwise use z3 standalone.&#10;&#45; If `log` is set, show input to z3.&#10;Return a pair (`result`, `solution`) where&#10;&#45; `result` is either `&#39;sat&#39;` (satisfiable); then&#10;solution` is a mapping of variables to (value, type) pairs; or&#10;&#45; `result` is not `&#39;sat&#39;`, indicating an error; then `solution` is `None`\">\n",
       "<text text-anchor=\"start\" x=\"14\" y=\"-63.5\" font-family=\"'Fira Mono', 'Source Code Pro', 'Courier', monospace\" font-weight=\"bold\" font-size=\"10.00\">zeval()</text>\n",
       "</a>\n",
       "</g>\n",
       "<g id=\"a_node1_4\"><a xlink:href=\"#\" xlink:title=\"__enter__(self)\">\n",
       "<text text-anchor=\"start\" x=\"14\" y=\"-51.5\" font-family=\"'Fira Mono', 'Source Code Pro', 'Courier', monospace\" font-size=\"10.00\">__enter__()</text>\n",
       "</a>\n",
       "</g>\n",
       "<g id=\"a_node1_5\"><a xlink:href=\"#\" xlink:title=\"__exit__(self, exc_type, exc_value, tb)\">\n",
       "<text text-anchor=\"start\" x=\"14\" y=\"-40.5\" font-family=\"'Fira Mono', 'Source Code Pro', 'Courier', monospace\" font-size=\"10.00\">__exit__()</text>\n",
       "</a>\n",
       "</g>\n",
       "<g id=\"a_node1_6\"><a xlink:href=\"#\" xlink:title=\"__getitem__(self, fn)\">\n",
       "<text text-anchor=\"start\" x=\"14\" y=\"-29.5\" font-family=\"'Fira Mono', 'Source Code Pro', 'Courier', monospace\" font-size=\"10.00\">__getitem__()</text>\n",
       "</a>\n",
       "</g>\n",
       "<g id=\"a_node1_7\"><a xlink:href=\"#\" xlink:title=\"concolic(self, args)\">\n",
       "<text text-anchor=\"start\" x=\"14\" y=\"-18.5\" font-family=\"'Fira Mono', 'Source Code Pro', 'Courier', monospace\" font-size=\"10.00\">concolic()</text>\n",
       "</a>\n",
       "</g>\n",
       "<g id=\"a_node1_8\"><a xlink:href=\"#\" xlink:title=\"smt_expr(self, show_decl=False, simplify=False, path=[])\">\n",
       "<text text-anchor=\"start\" x=\"14\" y=\"-7.5\" font-family=\"'Fira Mono', 'Source Code Pro', 'Courier', monospace\" font-size=\"10.00\">smt_expr()</text>\n",
       "</a>\n",
       "</g>\n",
       "</a>\n",
       "</g>\n",
       "</a>\n",
       "</g>\n",
       "</g>\n",
       "<!-- Legend -->\n",
       "<g id=\"node2\" class=\"node\">\n",
       "<title>Legend</title>\n",
       "<text text-anchor=\"start\" x=\"124\" y=\"-77.5\" font-family=\"Patua One, Helvetica, sans-serif\" font-weight=\"bold\" font-size=\"10.00\" fill=\"#b03a2e\">Legend</text>\n",
       "<text text-anchor=\"start\" x=\"124\" y=\"-67.5\" font-family=\"Patua One, Helvetica, sans-serif\" font-size=\"10.00\">• </text>\n",
       "<text text-anchor=\"start\" x=\"130\" y=\"-67.5\" font-family=\"'Fira Mono', 'Source Code Pro', 'Courier', monospace\" font-weight=\"bold\" font-size=\"8.00\">public_method()</text>\n",
       "<text text-anchor=\"start\" x=\"124\" y=\"-57.5\" font-family=\"Patua One, Helvetica, sans-serif\" font-size=\"10.00\">• </text>\n",
       "<text text-anchor=\"start\" x=\"130\" y=\"-57.5\" font-family=\"'Fira Mono', 'Source Code Pro', 'Courier', monospace\" font-size=\"8.00\">private_method()</text>\n",
       "<text text-anchor=\"start\" x=\"124\" y=\"-47.5\" font-family=\"Patua One, Helvetica, sans-serif\" font-size=\"10.00\">• </text>\n",
       "<text text-anchor=\"start\" x=\"130\" y=\"-47.5\" font-family=\"'Fira Mono', 'Source Code Pro', 'Courier', monospace\" font-style=\"italic\" font-size=\"8.00\">overloaded_method()</text>\n",
       "<text text-anchor=\"start\" x=\"124\" y=\"-38.3\" font-family=\"Helvetica,sans-Serif\" font-size=\"9.00\">Hover over names to see doc</text>\n",
       "</g>\n",
       "</g>\n",
       "</svg>\n"
      ],
      "text/plain": [
       "<graphviz.dot.Digraph at 0x1145c0dc0>"
      ]
     },
     "execution_count": 342,
     "metadata": {},
     "output_type": "execute_result"
    }
   ],
   "source": [
    "# ignore\n",
    "from ClassDiagram import display_class_hierarchy\n",
    "display_class_hierarchy(ConcolicTracer)"
   ]
  },
  {
   "cell_type": "markdown",
   "metadata": {
    "slideshow": {
     "slide_type": "subslide"
    }
   },
   "source": [
    "### SimpleConcolicFuzzer"
   ]
  },
  {
   "cell_type": "markdown",
   "metadata": {
    "slideshow": {
     "slide_type": "fragment"
    }
   },
   "source": [
    "The constraints obtained from `ConcolicTracer` are added to the concolic fuzzer as follows:"
   ]
  },
  {
   "cell_type": "code",
   "execution_count": 343,
   "metadata": {
    "execution": {
     "iopub.execute_input": "2022-02-21T08:25:51.415289Z",
     "iopub.status.busy": "2022-02-21T08:25:51.414379Z",
     "iopub.status.idle": "2022-02-21T08:25:51.424056Z",
     "shell.execute_reply": "2022-02-21T08:25:51.424470Z"
    },
    "slideshow": {
     "slide_type": "fragment"
    }
   },
   "outputs": [],
   "source": [
    "scf = SimpleConcolicFuzzer()\n",
    "scf.add_trace(_, 'a%20d')"
   ]
  },
  {
   "cell_type": "markdown",
   "metadata": {
    "slideshow": {
     "slide_type": "fragment"
    }
   },
   "source": [
    "The concolic fuzzer then uses the constraints added to guide its fuzzing as follows:"
   ]
  },
  {
   "cell_type": "code",
   "execution_count": 344,
   "metadata": {
    "execution": {
     "iopub.execute_input": "2022-02-21T08:25:51.430384Z",
     "iopub.status.busy": "2022-02-21T08:25:51.429570Z",
     "iopub.status.idle": "2022-02-21T08:25:52.420743Z",
     "shell.execute_reply": "2022-02-21T08:25:52.421182Z"
    },
    "slideshow": {
     "slide_type": "subslide"
    }
   },
   "outputs": [
    {
     "name": "stdout",
     "output_type": "stream",
     "text": [
      "' '\n",
      "'%'\n",
      "'AB'\n",
      "''\n",
      "'ABC'\n"
     ]
    },
    {
     "name": "stderr",
     "output_type": "stream",
     "text": [
      "IndexError: string index out of range (expected)\n"
     ]
    },
    {
     "name": "stdout",
     "output_type": "stream",
     "text": [
      "'A'\n",
      "'AB+'\n",
      "'AB'\n",
      "'ABCD'\n",
      "'ABC+'\n",
      "'A'\n",
      "'ABC'\n",
      "'ABC%'\n"
     ]
    },
    {
     "name": "stderr",
     "output_type": "stream",
     "text": [
      "IndexError: string index out of range (expected)\n",
      "IndexError: string index out of range (expected)\n"
     ]
    },
    {
     "name": "stdout",
     "output_type": "stream",
     "text": [
      "'A%'\n",
      "'ABC+DE'\n",
      "'AB'\n",
      "'AB+'\n",
      "'A'\n",
      "'ABCD'\n",
      "'A'\n"
     ]
    }
   ],
   "source": [
    "scf = SimpleConcolicFuzzer()\n",
    "for i in range(20):\n",
    "    v = scf.fuzz()\n",
    "    if v is None:\n",
    "        break\n",
    "    print(repr(v))\n",
    "    with ExpectError(print_traceback=False):\n",
    "        with ConcolicTracer() as _:\n",
    "            _[cgi_decode](v)\n",
    "    scf.add_trace(_, v)"
   ]
  },
  {
   "cell_type": "markdown",
   "metadata": {
    "slideshow": {
     "slide_type": "subslide"
    }
   },
   "source": [
    "We see how the additional inputs generated explore additional paths."
   ]
  },
  {
   "cell_type": "code",
   "execution_count": 345,
   "metadata": {
    "execution": {
     "iopub.execute_input": "2022-02-21T08:25:52.427644Z",
     "iopub.status.busy": "2022-02-21T08:25:52.427012Z",
     "iopub.status.idle": "2022-02-21T08:25:53.002152Z",
     "shell.execute_reply": "2022-02-21T08:25:53.002828Z"
    },
    "slideshow": {
     "slide_type": "fragment"
    }
   },
   "outputs": [
    {
     "data": {
      "image/svg+xml": [
       "<?xml version=\"1.0\" encoding=\"UTF-8\" standalone=\"no\"?>\n",
       "<!DOCTYPE svg PUBLIC \"-//W3C//DTD SVG 1.1//EN\"\n",
       " \"http://www.w3.org/Graphics/SVG/1.1/DTD/svg11.dtd\">\n",
       "<!-- Generated by graphviz version 2.49.3 (20211023.0002)\n",
       " -->\n",
       "<!-- Pages: 1 -->\n",
       "<svg width=\"296pt\" height=\"207pt\"\n",
       " viewBox=\"0.00 0.00 296.00 207.00\" xmlns=\"http://www.w3.org/2000/svg\" xmlns:xlink=\"http://www.w3.org/1999/xlink\">\n",
       "<g id=\"graph0\" class=\"graph\" transform=\"scale(1 1) rotate(0) translate(4 203)\">\n",
       "<g id=\"a_graph0\"><a xlink:title=\"SimpleConcolicFuzzer class hierarchy\">\n",
       "<polygon fill=\"white\" stroke=\"transparent\" points=\"-4,4 -4,-203 292,-203 292,4 -4,4\"/>\n",
       "</a>\n",
       "</g>\n",
       "<!-- SimpleConcolicFuzzer -->\n",
       "<g id=\"node1\" class=\"node\">\n",
       "<title>SimpleConcolicFuzzer</title>\n",
       "<g id=\"a_node1\"><a xlink:href=\"#\" xlink:title=\"class SimpleConcolicFuzzer:&#10;Base class for fuzzers.\">\n",
       "<polygon fill=\"none\" stroke=\"black\" points=\"0,-0.5 0,-86.5 152,-86.5 152,-0.5 0,-0.5\"/>\n",
       "<text text-anchor=\"start\" x=\"8\" y=\"-72.3\" font-family=\"Patua One, Helvetica, sans-serif\" font-weight=\"bold\" font-size=\"14.00\" fill=\"#b03a2e\">SimpleConcolicFuzzer</text>\n",
       "<polyline fill=\"none\" stroke=\"black\" points=\"0,-63.5 152,-63.5 \"/>\n",
       "<g id=\"a_node1_0\"><a xlink:href=\"#\" xlink:title=\"SimpleConcolicFuzzer\">\n",
       "<g id=\"a_node1_1\"><a xlink:href=\"#\" xlink:title=\"__init__(self):&#10;Constructor\">\n",
       "<text text-anchor=\"start\" x=\"37\" y=\"-52\" font-family=\"'Fira Mono', 'Source Code Pro', 'Courier', monospace\" font-weight=\"bold\" font-style=\"italic\" font-size=\"10.00\">__init__()</text>\n",
       "</a>\n",
       "</g>\n",
       "<g id=\"a_node1_2\"><a xlink:href=\"#\" xlink:title=\"fuzz(self):&#10;Return fuzz input\">\n",
       "<text text-anchor=\"start\" x=\"37\" y=\"-41\" font-family=\"'Fira Mono', 'Source Code Pro', 'Courier', monospace\" font-weight=\"bold\" font-style=\"italic\" font-size=\"10.00\">fuzz()</text>\n",
       "</a>\n",
       "</g>\n",
       "<g id=\"a_node1_3\"><a xlink:href=\"#\" xlink:title=\"add_trace(self, trace, s)\">\n",
       "<text text-anchor=\"start\" x=\"37\" y=\"-29\" font-family=\"'Fira Mono', 'Source Code Pro', 'Courier', monospace\" font-size=\"10.00\">add_trace()</text>\n",
       "</a>\n",
       "</g>\n",
       "<g id=\"a_node1_4\"><a xlink:href=\"#\" xlink:title=\"get_newpath(self)\">\n",
       "<text text-anchor=\"start\" x=\"37\" y=\"-18\" font-family=\"'Fira Mono', 'Source Code Pro', 'Courier', monospace\" font-size=\"10.00\">get_newpath()</text>\n",
       "</a>\n",
       "</g>\n",
       "<g id=\"a_node1_5\"><a xlink:href=\"#\" xlink:title=\"next_choice(self)\">\n",
       "<text text-anchor=\"start\" x=\"37\" y=\"-7\" font-family=\"'Fira Mono', 'Source Code Pro', 'Courier', monospace\" font-size=\"10.00\">next_choice()</text>\n",
       "</a>\n",
       "</g>\n",
       "</a>\n",
       "</g>\n",
       "</a>\n",
       "</g>\n",
       "</g>\n",
       "<!-- Fuzzer -->\n",
       "<g id=\"node2\" class=\"node\">\n",
       "<title>Fuzzer</title>\n",
       "<g id=\"a_node2\"><a xlink:href=\"Fuzzer.ipynb\" xlink:title=\"class Fuzzer:&#10;Base class for fuzzers.\">\n",
       "<polygon fill=\"none\" stroke=\"black\" points=\"37.5,-123.5 37.5,-198.5 114.5,-198.5 114.5,-123.5 37.5,-123.5\"/>\n",
       "<text text-anchor=\"start\" x=\"55\" y=\"-184.3\" font-family=\"Patua One, Helvetica, sans-serif\" font-weight=\"bold\" font-size=\"14.00\" fill=\"#b03a2e\">Fuzzer</text>\n",
       "<polyline fill=\"none\" stroke=\"black\" points=\"37.5,-175.5 114.5,-175.5 \"/>\n",
       "<g id=\"a_node2_6\"><a xlink:href=\"#\" xlink:title=\"Fuzzer\">\n",
       "<g id=\"a_node2_7\"><a xlink:href=\"Fuzzer.ipynb\" xlink:title=\"__init__(self) &#45;&gt; None:&#10;Constructor\">\n",
       "<text text-anchor=\"start\" x=\"46\" y=\"-164.5\" font-family=\"'Fira Mono', 'Source Code Pro', 'Courier', monospace\" font-weight=\"bold\" font-style=\"italic\" font-size=\"10.00\">__init__()</text>\n",
       "</a>\n",
       "</g>\n",
       "<g id=\"a_node2_8\"><a xlink:href=\"Fuzzer.ipynb\" xlink:title=\"fuzz(self) &#45;&gt; str:&#10;Return fuzz input\">\n",
       "<text text-anchor=\"start\" x=\"46\" y=\"-153.5\" font-family=\"'Fira Mono', 'Source Code Pro', 'Courier', monospace\" font-weight=\"bold\" font-style=\"italic\" font-size=\"10.00\">fuzz()</text>\n",
       "</a>\n",
       "</g>\n",
       "<g id=\"a_node2_9\"><a xlink:href=\"Fuzzer.ipynb\" xlink:title=\"run(self, runner: Fuzzer.Runner = &lt;Fuzzer.Runner object at 0x10dfa9370&gt;) &#45;&gt; Tuple[subprocess.CompletedProcess, str]:&#10;Run `runner` with fuzz input\">\n",
       "<text text-anchor=\"start\" x=\"46\" y=\"-142.5\" font-family=\"'Fira Mono', 'Source Code Pro', 'Courier', monospace\" font-weight=\"bold\" font-size=\"10.00\">run()</text>\n",
       "</a>\n",
       "</g>\n",
       "<g id=\"a_node2_10\"><a xlink:href=\"Fuzzer.ipynb\" xlink:title=\"runs(self, runner: Fuzzer.Runner = &lt;Fuzzer.PrintRunner object at 0x10dfa9340&gt;, trials: int = 10) &#45;&gt; List[Tuple[subprocess.CompletedProcess, str]]:&#10;Run `runner` with fuzz input, `trials` times\">\n",
       "<text text-anchor=\"start\" x=\"46\" y=\"-131.5\" font-family=\"'Fira Mono', 'Source Code Pro', 'Courier', monospace\" font-weight=\"bold\" font-size=\"10.00\">runs()</text>\n",
       "</a>\n",
       "</g>\n",
       "</a>\n",
       "</g>\n",
       "</a>\n",
       "</g>\n",
       "</g>\n",
       "<!-- SimpleConcolicFuzzer&#45;&gt;Fuzzer -->\n",
       "<g id=\"edge1\" class=\"edge\">\n",
       "<title>SimpleConcolicFuzzer&#45;&gt;Fuzzer</title>\n",
       "<path fill=\"none\" stroke=\"black\" d=\"M76,-86.52C76,-95.15 76,-104.28 76,-113.06\"/>\n",
       "<polygon fill=\"none\" stroke=\"black\" points=\"72.5,-113.16 76,-123.16 79.5,-113.16 72.5,-113.16\"/>\n",
       "</g>\n",
       "<!-- Legend -->\n",
       "<g id=\"node3\" class=\"node\">\n",
       "<title>Legend</title>\n",
       "<text text-anchor=\"start\" x=\"170\" y=\"-61\" font-family=\"Patua One, Helvetica, sans-serif\" font-weight=\"bold\" font-size=\"10.00\" fill=\"#b03a2e\">Legend</text>\n",
       "<text text-anchor=\"start\" x=\"170\" y=\"-51\" font-family=\"Patua One, Helvetica, sans-serif\" font-size=\"10.00\">• </text>\n",
       "<text text-anchor=\"start\" x=\"176\" y=\"-51\" font-family=\"'Fira Mono', 'Source Code Pro', 'Courier', monospace\" font-weight=\"bold\" font-size=\"8.00\">public_method()</text>\n",
       "<text text-anchor=\"start\" x=\"170\" y=\"-41\" font-family=\"Patua One, Helvetica, sans-serif\" font-size=\"10.00\">• </text>\n",
       "<text text-anchor=\"start\" x=\"176\" y=\"-41\" font-family=\"'Fira Mono', 'Source Code Pro', 'Courier', monospace\" font-size=\"8.00\">private_method()</text>\n",
       "<text text-anchor=\"start\" x=\"170\" y=\"-31\" font-family=\"Patua One, Helvetica, sans-serif\" font-size=\"10.00\">• </text>\n",
       "<text text-anchor=\"start\" x=\"176\" y=\"-31\" font-family=\"'Fira Mono', 'Source Code Pro', 'Courier', monospace\" font-style=\"italic\" font-size=\"8.00\">overloaded_method()</text>\n",
       "<text text-anchor=\"start\" x=\"170\" y=\"-21.8\" font-family=\"Helvetica,sans-Serif\" font-size=\"9.00\">Hover over names to see doc</text>\n",
       "</g>\n",
       "</g>\n",
       "</svg>\n"
      ],
      "text/plain": [
       "<graphviz.dot.Digraph at 0x1146292e0>"
      ]
     },
     "execution_count": 345,
     "metadata": {},
     "output_type": "execute_result"
    }
   ],
   "source": [
    "# ignore\n",
    "display_class_hierarchy(SimpleConcolicFuzzer)"
   ]
  },
  {
   "cell_type": "markdown",
   "metadata": {
    "slideshow": {
     "slide_type": "subslide"
    }
   },
   "source": [
    "### ConcolicGrammarFuzzer\n",
    "\n",
    "The `SimpleConcolicFuzzer` simply explores all paths near the original path traversed by the sample input. It uses a simple mechanism to explore the paths that are near the paths that it knows about, and other than code paths, knows nothing about the input.\n",
    "\n",
    "The `ConcolicGrammarFuzzer` on the other hand, knows about the input grammar, and can collect feedback from the subject under fuzzing. It can lift some of the constraints encountered to the grammar, enabling deeper fuzzing. It is used as follows:"
   ]
  },
  {
   "cell_type": "code",
   "execution_count": 346,
   "metadata": {
    "execution": {
     "iopub.execute_input": "2022-02-21T08:25:53.008238Z",
     "iopub.status.busy": "2022-02-21T08:25:53.007412Z",
     "iopub.status.idle": "2022-02-21T08:25:53.009200Z",
     "shell.execute_reply": "2022-02-21T08:25:53.009634Z"
    },
    "slideshow": {
     "slide_type": "skip"
    }
   },
   "outputs": [],
   "source": [
    "from InformationFlow import INVENTORY_GRAMMAR, SQLException"
   ]
  },
  {
   "cell_type": "code",
   "execution_count": 347,
   "metadata": {
    "execution": {
     "iopub.execute_input": "2022-02-21T08:25:53.024125Z",
     "iopub.status.busy": "2022-02-21T08:25:53.012943Z",
     "iopub.status.idle": "2022-02-21T08:25:53.215962Z",
     "shell.execute_reply": "2022-02-21T08:25:53.216497Z"
    },
    "slideshow": {
     "slide_type": "subslide"
    }
   },
   "outputs": [
    {
     "name": "stdout",
     "output_type": "stream",
     "text": [
      "insert into W (Ru_2,.Wj186518W8) values ('@','}','h')\n",
      "Table ('W') was not found\n",
      "\n",
      "select S>R(j),A from C3 where U4==9249\n",
      "Table ('C3') was not found\n",
      "\n",
      "select I/I*U/n1(M),T/E*d(S) from vehicles\n",
      "Invalid WHERE ('(I/I*U/n1(M),T/E*d(S))')\n",
      "\n",
      "select (v==X),t,h,E from months where r8(w)<D-e\n",
      "\n",
      "select e!=K,X from a25i where G/S-y<h/P\n",
      "Table ('a25i') was not found\n",
      "\n",
      "select C,: from months where s*u!=W(Y)>B/P(g)\n",
      "\n",
      "select x/z+.(L)-h from months where -9!=Y>G(A)\n",
      "\n",
      "delete from h4OB60J where K-w/M<t*N/A*S\n",
      "Table ('h4OB60J') was not found\n",
      "\n",
      "delete from months where r/v+z*Y+A-k<(q<h)+y\n",
      "Invalid WHERE ('r/v+z*Y+A-k<(q<h)+y')\n",
      "\n",
      "select (V==b),(C>A) from vehicles where B(e,R)>D\n",
      "\n"
     ]
    },
    {
     "name": "stderr",
     "output_type": "stream",
     "text": [
      "TypeError: 'NotImplementedType' object is not callable (expected)\n",
      "TypeError: 'NotImplementedType' object is not callable (expected)\n",
      "TypeError: 'NotImplementedType' object is not callable (expected)\n",
      "TypeError: 'NotImplementedType' object is not callable (expected)\n"
     ]
    }
   ],
   "source": [
    "cgf = ConcolicGrammarFuzzer(INVENTORY_GRAMMAR)\n",
    "cgf.prune_tokens(prune_tokens)\n",
    "for i in range(10):\n",
    "    query = cgf.fuzz()\n",
    "    print(query)\n",
    "    with ConcolicTracer() as _:\n",
    "        with ExpectError(print_traceback=False):\n",
    "            try:\n",
    "                res = _[db_select](query)\n",
    "                print(repr(res))\n",
    "            except SQLException as e:\n",
    "                print(e)\n",
    "        cgf.update_grammar(_)\n",
    "        print()"
   ]
  },
  {
   "cell_type": "code",
   "execution_count": 348,
   "metadata": {
    "execution": {
     "iopub.execute_input": "2022-02-21T08:25:53.227314Z",
     "iopub.status.busy": "2022-02-21T08:25:53.226714Z",
     "iopub.status.idle": "2022-02-21T08:25:53.785286Z",
     "shell.execute_reply": "2022-02-21T08:25:53.785688Z"
    },
    "slideshow": {
     "slide_type": "subslide"
    }
   },
   "outputs": [
    {
     "data": {
      "image/svg+xml": [
       "<?xml version=\"1.0\" encoding=\"UTF-8\" standalone=\"no\"?>\n",
       "<!DOCTYPE svg PUBLIC \"-//W3C//DTD SVG 1.1//EN\"\n",
       " \"http://www.w3.org/Graphics/SVG/1.1/DTD/svg11.dtd\">\n",
       "<!-- Generated by graphviz version 2.49.3 (20211023.0002)\n",
       " -->\n",
       "<!-- Pages: 1 -->\n",
       "<svg width=\"318pt\" height=\"429pt\"\n",
       " viewBox=\"0.00 0.00 317.50 429.00\" xmlns=\"http://www.w3.org/2000/svg\" xmlns:xlink=\"http://www.w3.org/1999/xlink\">\n",
       "<g id=\"graph0\" class=\"graph\" transform=\"scale(1 1) rotate(0) translate(4 425)\">\n",
       "<g id=\"a_graph0\"><a xlink:title=\"ConcolicGrammarFuzzer class hierarchy\">\n",
       "<polygon fill=\"white\" stroke=\"transparent\" points=\"-4,4 -4,-425 313.5,-425 313.5,4 -4,4\"/>\n",
       "</a>\n",
       "</g>\n",
       "<!-- ConcolicGrammarFuzzer -->\n",
       "<g id=\"node1\" class=\"node\">\n",
       "<title>ConcolicGrammarFuzzer</title>\n",
       "<g id=\"a_node1\"><a xlink:href=\"#\" xlink:title=\"class ConcolicGrammarFuzzer:&#10;Produce strings from grammars efficiently, using derivation trees.\">\n",
       "<polygon fill=\"none\" stroke=\"black\" points=\"5.5,-0.5 5.5,-97.5 173.5,-97.5 173.5,-0.5 5.5,-0.5\"/>\n",
       "<text text-anchor=\"start\" x=\"13.5\" y=\"-83.3\" font-family=\"Patua One, Helvetica, sans-serif\" font-weight=\"bold\" font-size=\"14.00\" fill=\"#b03a2e\">ConcolicGrammarFuzzer</text>\n",
       "<polyline fill=\"none\" stroke=\"black\" points=\"5.5,-74.5 173.5,-74.5 \"/>\n",
       "<g id=\"a_node1_0\"><a xlink:href=\"#\" xlink:title=\"ConcolicGrammarFuzzer\">\n",
       "<g id=\"a_node1_1\"><a xlink:href=\"#\" xlink:title=\"fuzz(self):&#10;Produce a string from the grammar.\">\n",
       "<text text-anchor=\"start\" x=\"41.5\" y=\"-63.5\" font-family=\"'Fira Mono', 'Source Code Pro', 'Courier', monospace\" font-weight=\"bold\" font-style=\"italic\" font-size=\"10.00\">fuzz()</text>\n",
       "</a>\n",
       "</g>\n",
       "<g id=\"a_node1_2\"><a xlink:href=\"#\" xlink:title=\"coalesce(self, children)\">\n",
       "<text text-anchor=\"start\" x=\"41.5\" y=\"-51.5\" font-family=\"'Fira Mono', 'Source Code Pro', 'Courier', monospace\" font-size=\"10.00\">coalesce()</text>\n",
       "</a>\n",
       "</g>\n",
       "<g id=\"a_node1_3\"><a xlink:href=\"#\" xlink:title=\"prune_tokens(self, tokens)\">\n",
       "<text text-anchor=\"start\" x=\"41.5\" y=\"-40.5\" font-family=\"'Fira Mono', 'Source Code Pro', 'Courier', monospace\" font-size=\"10.00\">prune_tokens()</text>\n",
       "</a>\n",
       "</g>\n",
       "<g id=\"a_node1_4\"><a xlink:href=\"#\" xlink:title=\"prune_tree(self, tree, tokens)\">\n",
       "<text text-anchor=\"start\" x=\"41.5\" y=\"-29.5\" font-family=\"'Fira Mono', 'Source Code Pro', 'Courier', monospace\" font-size=\"10.00\">prune_tree()</text>\n",
       "</a>\n",
       "</g>\n",
       "<g id=\"a_node1_5\"><a xlink:href=\"#\" xlink:title=\"tree_to_string(self, tree)\">\n",
       "<text text-anchor=\"start\" x=\"41.5\" y=\"-18.5\" font-family=\"'Fira Mono', 'Source Code Pro', 'Courier', monospace\" font-size=\"10.00\">tree_to_string()</text>\n",
       "</a>\n",
       "</g>\n",
       "<g id=\"a_node1_6\"><a xlink:href=\"#\" xlink:title=\"update_grammar(self, trace)\">\n",
       "<text text-anchor=\"start\" x=\"41.5\" y=\"-7.5\" font-family=\"'Fira Mono', 'Source Code Pro', 'Courier', monospace\" font-size=\"10.00\">update_grammar()</text>\n",
       "</a>\n",
       "</g>\n",
       "</a>\n",
       "</g>\n",
       "</a>\n",
       "</g>\n",
       "</g>\n",
       "<!-- GrammarFuzzer -->\n",
       "<g id=\"node2\" class=\"node\">\n",
       "<title>GrammarFuzzer</title>\n",
       "<g id=\"a_node2\"><a xlink:href=\"GrammarFuzzer.ipynb\" xlink:title=\"class GrammarFuzzer:&#10;Produce strings from grammars efficiently, using derivation trees.\">\n",
       "<polygon fill=\"none\" stroke=\"black\" points=\"0,-134.5 0,-308.5 179,-308.5 179,-134.5 0,-134.5\"/>\n",
       "<text text-anchor=\"start\" x=\"39.5\" y=\"-294.3\" font-family=\"Patua One, Helvetica, sans-serif\" font-weight=\"bold\" font-size=\"14.00\" fill=\"#b03a2e\">GrammarFuzzer</text>\n",
       "<polyline fill=\"none\" stroke=\"black\" points=\"0,-285.5 179,-285.5 \"/>\n",
       "<g id=\"a_node2_7\"><a xlink:href=\"#\" xlink:title=\"GrammarFuzzer\">\n",
       "<g id=\"a_node2_8\"><a xlink:href=\"GrammarFuzzer.ipynb\" xlink:title=\"__init__(self, grammar: Dict[str, List[Union[str, Tuple[str, Dict[str, Any]]]]], start_symbol: str = &#39;&lt;start&gt;&#39;, min_nonterminals: int = 0, max_nonterminals: int = 10, disp: bool = False, log: Union[bool, int] = False) &#45;&gt; None:&#10;Produce strings from `grammar`, starting with `start_symbol`.&#10;If `min_nonterminals` or `max_nonterminals` is given, use them as limits&#10;for the number of nonterminals produced.&#10;If `disp` is set, display the intermediate derivation trees.&#10;If `log` is set, show intermediate steps as text on standard output.\">\n",
       "<text text-anchor=\"start\" x=\"8.5\" y=\"-274\" font-family=\"'Fira Mono', 'Source Code Pro', 'Courier', monospace\" font-weight=\"bold\" font-style=\"italic\" font-size=\"10.00\">__init__()</text>\n",
       "</a>\n",
       "</g>\n",
       "<g id=\"a_node2_9\"><a xlink:href=\"GrammarFuzzer.ipynb\" xlink:title=\"check_grammar(self) &#45;&gt; None:&#10;Check the grammar passed\">\n",
       "<text text-anchor=\"start\" x=\"8.5\" y=\"-263\" font-family=\"'Fira Mono', 'Source Code Pro', 'Courier', monospace\" font-weight=\"bold\" font-size=\"10.00\">check_grammar()</text>\n",
       "</a>\n",
       "</g>\n",
       "<g id=\"a_node2_10\"><a xlink:href=\"GrammarFuzzer.ipynb\" xlink:title=\"choose_node_expansion(self, node: Tuple[str, Optional[List[Any]]], children_alternatives: List[List[Tuple[str, Optional[List[Any]]]]]) &#45;&gt; int:&#10;Return index of expansion in `children_alternatives` to be selected.&#10;&#39;children_alternatives`: a list of possible children for `node`.&#10;Defaults to random. To be overloaded in subclasses.\">\n",
       "<text text-anchor=\"start\" x=\"8.5\" y=\"-252\" font-family=\"'Fira Mono', 'Source Code Pro', 'Courier', monospace\" font-weight=\"bold\" font-style=\"italic\" font-size=\"10.00\">choose_node_expansion()</text>\n",
       "</a>\n",
       "</g>\n",
       "<g id=\"a_node2_11\"><a xlink:href=\"GrammarFuzzer.ipynb\" xlink:title=\"choose_tree_expansion(self, tree: Tuple[str, Optional[List[Any]]], children: List[Tuple[str, Optional[List[Any]]]]) &#45;&gt; int:&#10;Return index of subtree in `children` to be selected for expansion.&#10;Defaults to random.\">\n",
       "<text text-anchor=\"start\" x=\"8.5\" y=\"-241\" font-family=\"'Fira Mono', 'Source Code Pro', 'Courier', monospace\" font-weight=\"bold\" font-size=\"10.00\">choose_tree_expansion()</text>\n",
       "</a>\n",
       "</g>\n",
       "<g id=\"a_node2_12\"><a xlink:href=\"GrammarFuzzer.ipynb\" xlink:title=\"expand_node_randomly(self, node: Tuple[str, Optional[List[Any]]]) &#45;&gt; Tuple[str, Optional[List[Any]]]:&#10;Choose a random expansion for `node` and return it\">\n",
       "<text text-anchor=\"start\" x=\"8.5\" y=\"-230\" font-family=\"'Fira Mono', 'Source Code Pro', 'Courier', monospace\" font-weight=\"bold\" font-size=\"10.00\">expand_node_randomly()</text>\n",
       "</a>\n",
       "</g>\n",
       "<g id=\"a_node2_13\"><a xlink:href=\"GrammarFuzzer.ipynb\" xlink:title=\"expand_tree(self, tree: Tuple[str, Optional[List[Any]]]) &#45;&gt; Tuple[str, Optional[List[Any]]]:&#10;Expand `tree` in a three&#45;phase strategy until all expansions are complete.\">\n",
       "<text text-anchor=\"start\" x=\"8.5\" y=\"-219\" font-family=\"'Fira Mono', 'Source Code Pro', 'Courier', monospace\" font-weight=\"bold\" font-size=\"10.00\">expand_tree()</text>\n",
       "</a>\n",
       "</g>\n",
       "<g id=\"a_node2_14\"><a xlink:href=\"GrammarFuzzer.ipynb\" xlink:title=\"expand_tree_once(self, tree: Tuple[str, Optional[List[Any]]]) &#45;&gt; Tuple[str, Optional[List[Any]]]:&#10;Choose an unexpanded symbol in tree; expand it.&#10;Can be overloaded in subclasses.\">\n",
       "<text text-anchor=\"start\" x=\"8.5\" y=\"-208\" font-family=\"'Fira Mono', 'Source Code Pro', 'Courier', monospace\" font-weight=\"bold\" font-style=\"italic\" font-size=\"10.00\">expand_tree_once()</text>\n",
       "</a>\n",
       "</g>\n",
       "<g id=\"a_node2_15\"><a xlink:href=\"GrammarFuzzer.ipynb\" xlink:title=\"expand_tree_with_strategy(self, tree: Tuple[str, Optional[List[Any]]], expand_node_method: Callable, limit: Optional[int] = None):&#10;Expand tree using `expand_node_method` as node expansion function&#10;until the number of possible expansions reaches `limit`.\">\n",
       "<text text-anchor=\"start\" x=\"8.5\" y=\"-197\" font-family=\"'Fira Mono', 'Source Code Pro', 'Courier', monospace\" font-weight=\"bold\" font-size=\"10.00\">expand_tree_with_strategy()</text>\n",
       "</a>\n",
       "</g>\n",
       "<g id=\"a_node2_16\"><a xlink:href=\"GrammarFuzzer.ipynb\" xlink:title=\"fuzz(self) &#45;&gt; str:&#10;Produce a string from the grammar.\">\n",
       "<text text-anchor=\"start\" x=\"8.5\" y=\"-186\" font-family=\"'Fira Mono', 'Source Code Pro', 'Courier', monospace\" font-weight=\"bold\" font-style=\"italic\" font-size=\"10.00\">fuzz()</text>\n",
       "</a>\n",
       "</g>\n",
       "<g id=\"a_node2_17\"><a xlink:href=\"GrammarFuzzer.ipynb\" xlink:title=\"fuzz_tree(self) &#45;&gt; Tuple[str, Optional[List[Any]]]:&#10;Produce a derivation tree from the grammar.\">\n",
       "<text text-anchor=\"start\" x=\"8.5\" y=\"-175\" font-family=\"'Fira Mono', 'Source Code Pro', 'Courier', monospace\" font-weight=\"bold\" font-size=\"10.00\">fuzz_tree()</text>\n",
       "</a>\n",
       "</g>\n",
       "<g id=\"a_node2_18\"><a xlink:href=\"GrammarFuzzer.ipynb\" xlink:title=\"log_tree(self, tree: Tuple[str, Optional[List[Any]]]) &#45;&gt; None:&#10;Output a tree if self.log is set; if self.display is also set, show the tree structure\">\n",
       "<text text-anchor=\"start\" x=\"8.5\" y=\"-164\" font-family=\"'Fira Mono', 'Source Code Pro', 'Courier', monospace\" font-weight=\"bold\" font-size=\"10.00\">log_tree()</text>\n",
       "</a>\n",
       "</g>\n",
       "<g id=\"a_node2_19\"><a xlink:href=\"GrammarFuzzer.ipynb\" xlink:title=\"process_chosen_children(self, chosen_children: List[Tuple[str, Optional[List[Any]]]], expansion: Union[str, Tuple[str, Dict[str, Any]]]) &#45;&gt; List[Tuple[str, Optional[List[Any]]]]:&#10;Process children after selection. &#160;By default, does nothing.\">\n",
       "<text text-anchor=\"start\" x=\"8.5\" y=\"-153\" font-family=\"'Fira Mono', 'Source Code Pro', 'Courier', monospace\" font-weight=\"bold\" font-size=\"10.00\">process_chosen_children()</text>\n",
       "</a>\n",
       "</g>\n",
       "<g id=\"a_node2_20\"><a xlink:href=\"GrammarFuzzer.ipynb\" xlink:title=\"supported_opts(self) &#45;&gt; Set[str]:&#10;Set of supported options. To be overloaded in subclasses.\">\n",
       "<text text-anchor=\"start\" x=\"8.5\" y=\"-142\" font-family=\"'Fira Mono', 'Source Code Pro', 'Courier', monospace\" font-weight=\"bold\" font-style=\"italic\" font-size=\"10.00\">supported_opts()</text>\n",
       "</a>\n",
       "</g>\n",
       "</a>\n",
       "</g>\n",
       "</a>\n",
       "</g>\n",
       "</g>\n",
       "<!-- ConcolicGrammarFuzzer&#45;&gt;GrammarFuzzer -->\n",
       "<g id=\"edge1\" class=\"edge\">\n",
       "<title>ConcolicGrammarFuzzer&#45;&gt;GrammarFuzzer</title>\n",
       "<path fill=\"none\" stroke=\"black\" d=\"M89.5,-97.95C89.5,-106.25 89.5,-115.14 89.5,-124.2\"/>\n",
       "<polygon fill=\"none\" stroke=\"black\" points=\"86,-124.47 89.5,-134.47 93,-124.47 86,-124.47\"/>\n",
       "</g>\n",
       "<!-- Fuzzer -->\n",
       "<g id=\"node3\" class=\"node\">\n",
       "<title>Fuzzer</title>\n",
       "<g id=\"a_node3\"><a xlink:href=\"Fuzzer.ipynb\" xlink:title=\"class Fuzzer:&#10;Base class for fuzzers.\">\n",
       "<polygon fill=\"none\" stroke=\"black\" points=\"51,-345.5 51,-420.5 128,-420.5 128,-345.5 51,-345.5\"/>\n",
       "<text text-anchor=\"start\" x=\"68.5\" y=\"-406.3\" font-family=\"Patua One, Helvetica, sans-serif\" font-weight=\"bold\" font-size=\"14.00\" fill=\"#b03a2e\">Fuzzer</text>\n",
       "<polyline fill=\"none\" stroke=\"black\" points=\"51,-397.5 128,-397.5 \"/>\n",
       "<g id=\"a_node3_21\"><a xlink:href=\"#\" xlink:title=\"Fuzzer\">\n",
       "<g id=\"a_node3_22\"><a xlink:href=\"Fuzzer.ipynb\" xlink:title=\"__init__(self) &#45;&gt; None:&#10;Constructor\">\n",
       "<text text-anchor=\"start\" x=\"59.5\" y=\"-386.5\" font-family=\"'Fira Mono', 'Source Code Pro', 'Courier', monospace\" font-weight=\"bold\" font-style=\"italic\" font-size=\"10.00\">__init__()</text>\n",
       "</a>\n",
       "</g>\n",
       "<g id=\"a_node3_23\"><a xlink:href=\"Fuzzer.ipynb\" xlink:title=\"fuzz(self) &#45;&gt; str:&#10;Return fuzz input\">\n",
       "<text text-anchor=\"start\" x=\"59.5\" y=\"-375.5\" font-family=\"'Fira Mono', 'Source Code Pro', 'Courier', monospace\" font-weight=\"bold\" font-style=\"italic\" font-size=\"10.00\">fuzz()</text>\n",
       "</a>\n",
       "</g>\n",
       "<g id=\"a_node3_24\"><a xlink:href=\"Fuzzer.ipynb\" xlink:title=\"run(self, runner: Fuzzer.Runner = &lt;Fuzzer.Runner object at 0x10dfa9370&gt;) &#45;&gt; Tuple[subprocess.CompletedProcess, str]:&#10;Run `runner` with fuzz input\">\n",
       "<text text-anchor=\"start\" x=\"59.5\" y=\"-364.5\" font-family=\"'Fira Mono', 'Source Code Pro', 'Courier', monospace\" font-weight=\"bold\" font-size=\"10.00\">run()</text>\n",
       "</a>\n",
       "</g>\n",
       "<g id=\"a_node3_25\"><a xlink:href=\"Fuzzer.ipynb\" xlink:title=\"runs(self, runner: Fuzzer.Runner = &lt;Fuzzer.PrintRunner object at 0x10dfa9340&gt;, trials: int = 10) &#45;&gt; List[Tuple[subprocess.CompletedProcess, str]]:&#10;Run `runner` with fuzz input, `trials` times\">\n",
       "<text text-anchor=\"start\" x=\"59.5\" y=\"-353.5\" font-family=\"'Fira Mono', 'Source Code Pro', 'Courier', monospace\" font-weight=\"bold\" font-size=\"10.00\">runs()</text>\n",
       "</a>\n",
       "</g>\n",
       "</a>\n",
       "</g>\n",
       "</a>\n",
       "</g>\n",
       "</g>\n",
       "<!-- GrammarFuzzer&#45;&gt;Fuzzer -->\n",
       "<g id=\"edge2\" class=\"edge\">\n",
       "<title>GrammarFuzzer&#45;&gt;Fuzzer</title>\n",
       "<path fill=\"none\" stroke=\"black\" d=\"M89.5,-308.79C89.5,-317.87 89.5,-326.84 89.5,-335.22\"/>\n",
       "<polygon fill=\"none\" stroke=\"black\" points=\"86,-335.48 89.5,-345.48 93,-335.48 86,-335.48\"/>\n",
       "</g>\n",
       "<!-- Legend -->\n",
       "<g id=\"node4\" class=\"node\">\n",
       "<title>Legend</title>\n",
       "<text text-anchor=\"start\" x=\"191.5\" y=\"-66.5\" font-family=\"Patua One, Helvetica, sans-serif\" font-weight=\"bold\" font-size=\"10.00\" fill=\"#b03a2e\">Legend</text>\n",
       "<text text-anchor=\"start\" x=\"191.5\" y=\"-56.5\" font-family=\"Patua One, Helvetica, sans-serif\" font-size=\"10.00\">• </text>\n",
       "<text text-anchor=\"start\" x=\"197.5\" y=\"-56.5\" font-family=\"'Fira Mono', 'Source Code Pro', 'Courier', monospace\" font-weight=\"bold\" font-size=\"8.00\">public_method()</text>\n",
       "<text text-anchor=\"start\" x=\"191.5\" y=\"-46.5\" font-family=\"Patua One, Helvetica, sans-serif\" font-size=\"10.00\">• </text>\n",
       "<text text-anchor=\"start\" x=\"197.5\" y=\"-46.5\" font-family=\"'Fira Mono', 'Source Code Pro', 'Courier', monospace\" font-size=\"8.00\">private_method()</text>\n",
       "<text text-anchor=\"start\" x=\"191.5\" y=\"-36.5\" font-family=\"Patua One, Helvetica, sans-serif\" font-size=\"10.00\">• </text>\n",
       "<text text-anchor=\"start\" x=\"197.5\" y=\"-36.5\" font-family=\"'Fira Mono', 'Source Code Pro', 'Courier', monospace\" font-style=\"italic\" font-size=\"8.00\">overloaded_method()</text>\n",
       "<text text-anchor=\"start\" x=\"191.5\" y=\"-27.3\" font-family=\"Helvetica,sans-Serif\" font-size=\"9.00\">Hover over names to see doc</text>\n",
       "</g>\n",
       "</g>\n",
       "</svg>\n"
      ],
      "text/plain": [
       "<graphviz.dot.Digraph at 0x1146cd250>"
      ]
     },
     "execution_count": 348,
     "metadata": {},
     "output_type": "execute_result"
    }
   ],
   "source": [
    "# ignore\n",
    "display_class_hierarchy(ConcolicGrammarFuzzer)"
   ]
  },
  {
   "cell_type": "markdown",
   "metadata": {
    "button": false,
    "new_sheet": true,
    "run_control": {
     "read_only": false
    },
    "slideshow": {
     "slide_type": "slide"
    }
   },
   "source": [
    "## Lessons Learned\n",
    "\n",
    "* Concolic execution can often provide more information than taint analysis with respect to the program behavior. However, this comes at a much larger runtime cost. Hence, unlike taint analysis, real-time analysis is often not possible.\n",
    "\n",
    "* Similar to taint analysis, concolic execution also suffers from limitations such as indirect control flow and internal function calls.\n",
    "\n",
    "* Predicates from concolic execution can be used in conjunction with fuzzing to provide an even more robust indication of incorrect behavior than taints, and can be used to create grammars that are better at producing valid inputs."
   ]
  },
  {
   "cell_type": "markdown",
   "metadata": {
    "button": false,
    "new_sheet": false,
    "run_control": {
     "read_only": false
    },
    "slideshow": {
     "slide_type": "slide"
    }
   },
   "source": [
    "## Next Steps\n",
    "\n",
    "A costlier but stronger alternative to concolic fuzzing is [symbolic fuzzing](SymbolicFuzzer.ipynb). Similarly, [search based fuzzing](SearchBasedFuzzer.ipynb) can often provide a cheaper exploration strategy than relying on SMT solvers to provide inputs slightly different from the current path."
   ]
  },
  {
   "cell_type": "markdown",
   "metadata": {
    "slideshow": {
     "slide_type": "slide"
    }
   },
   "source": [
    "## Background\n",
    "\n",
    "The technique of concolic execution was originally used to inform and expand the scope of _symbolic execution_ \\cite{king1976symbolic}, a static analysis technique for program analysis. Laron et al. cite{Larson2003} was the first to use the concolic execution technique.\n",
    "\n",
    "The idea of using proxy objects for collecting constraints was pioneered by Cadar et al. \\cite{cadar2005execution}. The concolic execution technique for Python programs used in this chapter was pioneered by PeerCheck \\cite{PeerCheck}, and Python Error Finder \\cite{Barsotti2018}."
   ]
  },
  {
   "cell_type": "markdown",
   "metadata": {
    "button": false,
    "new_sheet": true,
    "run_control": {
     "read_only": false
    },
    "slideshow": {
     "slide_type": "slide"
    }
   },
   "source": [
    "## Exercises"
   ]
  },
  {
   "cell_type": "markdown",
   "metadata": {
    "slideshow": {
     "slide_type": "subslide"
    }
   },
   "source": [
    "### Exercise 1: Implment a Concolic Float Proxy Class\n"
   ]
  },
  {
   "cell_type": "markdown",
   "metadata": {
    "slideshow": {
     "slide_type": "fragment"
    }
   },
   "source": [
    "While implementing the `zint` binary operators, we asserted that the results were `int`. However, that need not be the case. For example, division can result in `float`. Hence, we need proxy objects for `float`. Can you implement a similar proxy object for `float` and fix the `zint` binary operator definition?"
   ]
  },
  {
   "cell_type": "markdown",
   "metadata": {
    "slideshow": {
     "slide_type": "fragment"
    }
   },
   "source": [
    "__Solution.__ The solution is as follows."
   ]
  },
  {
   "cell_type": "markdown",
   "metadata": {
    "slideshow": {
     "slide_type": "fragment"
    }
   },
   "source": [
    "As in the case of `zint`, we first open up `zfloat` for extension."
   ]
  },
  {
   "cell_type": "code",
   "execution_count": 349,
   "metadata": {
    "execution": {
     "iopub.execute_input": "2022-02-21T08:25:53.793437Z",
     "iopub.status.busy": "2022-02-21T08:25:53.792660Z",
     "iopub.status.idle": "2022-02-21T08:25:53.795408Z",
     "shell.execute_reply": "2022-02-21T08:25:53.795969Z"
    },
    "slideshow": {
     "slide_type": "fragment"
    }
   },
   "outputs": [],
   "source": [
    "class zfloat(float):\n",
    "    def __new__(cls, context, zn, v, *args, **kw):\n",
    "        return float.__new__(cls, v, *args, **kw)"
   ]
  },
  {
   "cell_type": "markdown",
   "metadata": {
    "slideshow": {
     "slide_type": "fragment"
    }
   },
   "source": [
    "We then implement the initialization methods."
   ]
  },
  {
   "cell_type": "code",
   "execution_count": 350,
   "metadata": {
    "execution": {
     "iopub.execute_input": "2022-02-21T08:25:53.802674Z",
     "iopub.status.busy": "2022-02-21T08:25:53.801680Z",
     "iopub.status.idle": "2022-02-21T08:25:53.804269Z",
     "shell.execute_reply": "2022-02-21T08:25:53.803795Z"
    },
    "slideshow": {
     "slide_type": "subslide"
    }
   },
   "outputs": [],
   "source": [
    "class zfloat(zfloat):\n",
    "    @classmethod\n",
    "    def create(cls, context, zn, v=None):\n",
    "        return zproxy_create(cls, 'Real', z3.Real, context, zn, v)\n",
    "\n",
    "    def __init__(self, context, z, v=None):\n",
    "        self.z, self.v = z, v\n",
    "        self.context = context"
   ]
  },
  {
   "cell_type": "markdown",
   "metadata": {
    "slideshow": {
     "slide_type": "fragment"
    }
   },
   "source": [
    "The helper for when one of the arguments in a binary operation is not `float`."
   ]
  },
  {
   "cell_type": "code",
   "execution_count": 351,
   "metadata": {
    "execution": {
     "iopub.execute_input": "2022-02-21T08:25:53.809287Z",
     "iopub.status.busy": "2022-02-21T08:25:53.808327Z",
     "iopub.status.idle": "2022-02-21T08:25:53.810423Z",
     "shell.execute_reply": "2022-02-21T08:25:53.811143Z"
    },
    "slideshow": {
     "slide_type": "fragment"
    }
   },
   "outputs": [],
   "source": [
    "class zfloat(zfloat):\n",
    "    def _zv(self, o):\n",
    "        return (o.z, o.v) if isinstance(o, zfloat) else (z3.RealVal(o), o)"
   ]
  },
  {
   "cell_type": "markdown",
   "metadata": {
    "slideshow": {
     "slide_type": "fragment"
    }
   },
   "source": [
    "Coerce `float` into bool value for use in conditionals."
   ]
  },
  {
   "cell_type": "code",
   "execution_count": 352,
   "metadata": {
    "execution": {
     "iopub.execute_input": "2022-02-21T08:25:53.816613Z",
     "iopub.status.busy": "2022-02-21T08:25:53.815810Z",
     "iopub.status.idle": "2022-02-21T08:25:53.818011Z",
     "shell.execute_reply": "2022-02-21T08:25:53.818504Z"
    },
    "slideshow": {
     "slide_type": "subslide"
    }
   },
   "outputs": [],
   "source": [
    "class zfloat(zfloat):\n",
    "    def __bool__(self):\n",
    "        # force registering boolean condition\n",
    "        if self != 0.0:\n",
    "            return True\n",
    "        return False"
   ]
  },
  {
   "cell_type": "markdown",
   "metadata": {
    "slideshow": {
     "slide_type": "fragment"
    }
   },
   "source": [
    "Define the common proxy method for comparison methods"
   ]
  },
  {
   "cell_type": "code",
   "execution_count": 353,
   "metadata": {
    "execution": {
     "iopub.execute_input": "2022-02-21T08:25:53.823629Z",
     "iopub.status.busy": "2022-02-21T08:25:53.822764Z",
     "iopub.status.idle": "2022-02-21T08:25:53.825365Z",
     "shell.execute_reply": "2022-02-21T08:25:53.826188Z"
    },
    "slideshow": {
     "slide_type": "fragment"
    }
   },
   "outputs": [],
   "source": [
    "def make_float_bool_wrapper(fname, fun, zfun):\n",
    "    def proxy(self, other):\n",
    "        z, v = self._zv(other)\n",
    "        z_ = zfun(self.z, z)\n",
    "        v_ = fun(self.v, v)\n",
    "        return zbool(self.context, z_, v_)\n",
    "\n",
    "    return proxy"
   ]
  },
  {
   "cell_type": "markdown",
   "metadata": {
    "slideshow": {
     "slide_type": "subslide"
    }
   },
   "source": [
    "We apply the comparison methods on the defined `zfloat` class."
   ]
  },
  {
   "cell_type": "code",
   "execution_count": 354,
   "metadata": {
    "execution": {
     "iopub.execute_input": "2022-02-21T08:25:53.832143Z",
     "iopub.status.busy": "2022-02-21T08:25:53.831290Z",
     "iopub.status.idle": "2022-02-21T08:25:53.833265Z",
     "shell.execute_reply": "2022-02-21T08:25:53.833676Z"
    },
    "slideshow": {
     "slide_type": "fragment"
    }
   },
   "outputs": [],
   "source": [
    "FLOAT_BOOL_OPS = [\n",
    "    '__eq__',\n",
    "    # '__req__',\n",
    "    '__ne__',\n",
    "    # '__rne__',\n",
    "    '__gt__',\n",
    "    '__lt__',\n",
    "    '__le__',\n",
    "    '__ge__',\n",
    "]"
   ]
  },
  {
   "cell_type": "code",
   "execution_count": 355,
   "metadata": {
    "execution": {
     "iopub.execute_input": "2022-02-21T08:25:53.837951Z",
     "iopub.status.busy": "2022-02-21T08:25:53.837339Z",
     "iopub.status.idle": "2022-02-21T08:25:53.839057Z",
     "shell.execute_reply": "2022-02-21T08:25:53.839455Z"
    },
    "slideshow": {
     "slide_type": "fragment"
    }
   },
   "outputs": [],
   "source": [
    "for fname in FLOAT_BOOL_OPS:\n",
    "    fun = getattr(float, fname)\n",
    "    zfun = getattr(z3.ArithRef, fname)\n",
    "    setattr(zfloat, fname, make_float_bool_wrapper(fname, fun, zfun))"
   ]
  },
  {
   "cell_type": "markdown",
   "metadata": {
    "slideshow": {
     "slide_type": "subslide"
    }
   },
   "source": [
    "Similarly, we define the common proxy method for binary operators."
   ]
  },
  {
   "cell_type": "code",
   "execution_count": 356,
   "metadata": {
    "execution": {
     "iopub.execute_input": "2022-02-21T08:25:53.843789Z",
     "iopub.status.busy": "2022-02-21T08:25:53.843251Z",
     "iopub.status.idle": "2022-02-21T08:25:53.845141Z",
     "shell.execute_reply": "2022-02-21T08:25:53.845586Z"
    },
    "slideshow": {
     "slide_type": "fragment"
    }
   },
   "outputs": [],
   "source": [
    "def make_float_binary_wrapper(fname, fun, zfun):\n",
    "    def proxy(self, other):\n",
    "        z, v = self._zv(other)\n",
    "        z_ = zfun(self.z, z)\n",
    "        v_ = fun(self.v, v)\n",
    "        return zfloat(self.context, z_, v_)\n",
    "\n",
    "    return proxy"
   ]
  },
  {
   "cell_type": "markdown",
   "metadata": {
    "slideshow": {
     "slide_type": "fragment"
    }
   },
   "source": [
    "And apply them on `zfloat`"
   ]
  },
  {
   "cell_type": "code",
   "execution_count": 357,
   "metadata": {
    "execution": {
     "iopub.execute_input": "2022-02-21T08:25:53.850685Z",
     "iopub.status.busy": "2022-02-21T08:25:53.849949Z",
     "iopub.status.idle": "2022-02-21T08:25:53.851698Z",
     "shell.execute_reply": "2022-02-21T08:25:53.852200Z"
    },
    "slideshow": {
     "slide_type": "subslide"
    }
   },
   "outputs": [],
   "source": [
    "FLOAT_BINARY_OPS = [\n",
    "    '__add__',\n",
    "    '__sub__',\n",
    "    '__mul__',\n",
    "    '__truediv__',\n",
    "    # '__div__',\n",
    "    '__mod__',\n",
    "    # '__divmod__',\n",
    "    '__pow__',\n",
    "    # '__lshift__',\n",
    "    # '__rshift__',\n",
    "    # '__and__',\n",
    "    # '__xor__',\n",
    "    # '__or__',\n",
    "    '__radd__',\n",
    "    '__rsub__',\n",
    "    '__rmul__',\n",
    "    '__rtruediv__',\n",
    "    # '__rdiv__',\n",
    "    '__rmod__',\n",
    "    # '__rdivmod__',\n",
    "    '__rpow__',\n",
    "    # '__rlshift__',\n",
    "    # '__rrshift__',\n",
    "    # '__rand__',\n",
    "    # '__rxor__',\n",
    "    # '__ror__',\n",
    "]"
   ]
  },
  {
   "cell_type": "code",
   "execution_count": 358,
   "metadata": {
    "execution": {
     "iopub.execute_input": "2022-02-21T08:25:53.856263Z",
     "iopub.status.busy": "2022-02-21T08:25:53.855697Z",
     "iopub.status.idle": "2022-02-21T08:25:53.857441Z",
     "shell.execute_reply": "2022-02-21T08:25:53.857904Z"
    },
    "slideshow": {
     "slide_type": "subslide"
    }
   },
   "outputs": [],
   "source": [
    "for fname in FLOAT_BINARY_OPS:\n",
    "    fun = getattr(float, fname)\n",
    "    zfun = getattr(z3.ArithRef, fname)\n",
    "    setattr(zfloat, fname, make_float_binary_wrapper(fname, fun, zfun))"
   ]
  },
  {
   "cell_type": "markdown",
   "metadata": {
    "slideshow": {
     "slide_type": "fragment"
    }
   },
   "source": [
    "These are used as follows."
   ]
  },
  {
   "cell_type": "code",
   "execution_count": 359,
   "metadata": {
    "execution": {
     "iopub.execute_input": "2022-02-21T08:25:53.862583Z",
     "iopub.status.busy": "2022-02-21T08:25:53.862040Z",
     "iopub.status.idle": "2022-02-21T08:25:53.865129Z",
     "shell.execute_reply": "2022-02-21T08:25:53.865649Z"
    },
    "slideshow": {
     "slide_type": "fragment"
    }
   },
   "outputs": [],
   "source": [
    "with ConcolicTracer() as _:\n",
    "    za = zfloat.create(_.context, 'float_a', 1.0)\n",
    "    zb = zfloat.create(_.context, 'float_b', 0.0)\n",
    "    if za * zb:\n",
    "        print(1)"
   ]
  },
  {
   "cell_type": "code",
   "execution_count": 360,
   "metadata": {
    "execution": {
     "iopub.execute_input": "2022-02-21T08:25:53.870607Z",
     "iopub.status.busy": "2022-02-21T08:25:53.869924Z",
     "iopub.status.idle": "2022-02-21T08:25:53.874108Z",
     "shell.execute_reply": "2022-02-21T08:25:53.874774Z"
    },
    "slideshow": {
     "slide_type": "fragment"
    }
   },
   "outputs": [
    {
     "data": {
      "text/plain": [
       "({'float_a': 'Real', 'float_b': 'Real'}, [Not(float_a*float_b != 0)])"
      ]
     },
     "execution_count": 360,
     "metadata": {},
     "output_type": "execute_result"
    }
   ],
   "source": [
    "_.context"
   ]
  },
  {
   "cell_type": "markdown",
   "metadata": {
    "slideshow": {
     "slide_type": "fragment"
    }
   },
   "source": [
    "Finally, we fix the `zint` binary wrapper to correctly create `zfloat` when needed."
   ]
  },
  {
   "cell_type": "code",
   "execution_count": 361,
   "metadata": {
    "execution": {
     "iopub.execute_input": "2022-02-21T08:25:53.880836Z",
     "iopub.status.busy": "2022-02-21T08:25:53.879868Z",
     "iopub.status.idle": "2022-02-21T08:25:53.882276Z",
     "shell.execute_reply": "2022-02-21T08:25:53.883078Z"
    },
    "slideshow": {
     "slide_type": "subslide"
    }
   },
   "outputs": [],
   "source": [
    "def make_int_binary_wrapper(fname, fun, zfun):  # type: ignore\n",
    "    def proxy(self, other):\n",
    "        z, v = self._zv(other)\n",
    "        z_ = zfun(self.z, z)\n",
    "        v_ = fun(self.v, v)\n",
    "        if isinstance(v_, float):\n",
    "            return zfloat(self.context, z_, v_)\n",
    "        elif isinstance(v_, int):\n",
    "            return zint(self.context, z_, v_)\n",
    "        else:\n",
    "            assert False\n",
    "\n",
    "    return proxy"
   ]
  },
  {
   "cell_type": "code",
   "execution_count": 362,
   "metadata": {
    "execution": {
     "iopub.execute_input": "2022-02-21T08:25:53.887415Z",
     "iopub.status.busy": "2022-02-21T08:25:53.886862Z",
     "iopub.status.idle": "2022-02-21T08:25:53.888604Z",
     "shell.execute_reply": "2022-02-21T08:25:53.889135Z"
    },
    "slideshow": {
     "slide_type": "subslide"
    }
   },
   "outputs": [],
   "source": [
    "for fname in INT_BINARY_OPS:\n",
    "    fun = getattr(int, fname)\n",
    "    zfun = getattr(z3.ArithRef, fname)\n",
    "    setattr(zint, fname, make_int_binary_wrapper(fname, fun, zfun))"
   ]
  },
  {
   "cell_type": "markdown",
   "metadata": {
    "slideshow": {
     "slide_type": "fragment"
    }
   },
   "source": [
    "Checking whether it worked as expected."
   ]
  },
  {
   "cell_type": "code",
   "execution_count": 363,
   "metadata": {
    "execution": {
     "iopub.execute_input": "2022-02-21T08:25:53.892733Z",
     "iopub.status.busy": "2022-02-21T08:25:53.892203Z",
     "iopub.status.idle": "2022-02-21T08:25:53.897297Z",
     "shell.execute_reply": "2022-02-21T08:25:53.897690Z"
    },
    "slideshow": {
     "slide_type": "fragment"
    }
   },
   "outputs": [],
   "source": [
    "with ConcolicTracer() as _:\n",
    "    v = _[binomial](4, 2)"
   ]
  },
  {
   "cell_type": "code",
   "execution_count": 364,
   "metadata": {
    "execution": {
     "iopub.execute_input": "2022-02-21T08:25:53.901451Z",
     "iopub.status.busy": "2022-02-21T08:25:53.900897Z",
     "iopub.status.idle": "2022-02-21T08:25:53.948629Z",
     "shell.execute_reply": "2022-02-21T08:25:53.949637Z"
    },
    "slideshow": {
     "slide_type": "fragment"
    }
   },
   "outputs": [
    {
     "data": {
      "text/plain": [
       "('sat', {'n': ('4', 'Int'), 'k': ('2', 'Int')})"
      ]
     },
     "execution_count": 364,
     "metadata": {},
     "output_type": "execute_result"
    }
   ],
   "source": [
    "_.zeval()"
   ]
  },
  {
   "cell_type": "markdown",
   "metadata": {
    "slideshow": {
     "slide_type": "subslide"
    }
   },
   "source": [
    "### Exercise 2: Bit Manipulation"
   ]
  },
  {
   "cell_type": "markdown",
   "metadata": {
    "slideshow": {
     "slide_type": "fragment"
    }
   },
   "source": [
    "Similar to floats, implementing the bit manipulation functions such as `xor` involves converting `int` to its bit vector equivalents, performing operations on them, and converting it back to the original type. Can you implement the bit manipulation operations for `zint`?"
   ]
  },
  {
   "cell_type": "markdown",
   "metadata": {
    "slideshow": {
     "slide_type": "fragment"
    }
   },
   "source": [
    "__Solution.__ The solution is as follows."
   ]
  },
  {
   "cell_type": "markdown",
   "metadata": {
    "slideshow": {
     "slide_type": "fragment"
    }
   },
   "source": [
    "We first define the proxy method as before."
   ]
  },
  {
   "cell_type": "code",
   "execution_count": 365,
   "metadata": {
    "execution": {
     "iopub.execute_input": "2022-02-21T08:25:53.956471Z",
     "iopub.status.busy": "2022-02-21T08:25:53.955865Z",
     "iopub.status.idle": "2022-02-21T08:25:53.957595Z",
     "shell.execute_reply": "2022-02-21T08:25:53.957986Z"
    },
    "slideshow": {
     "slide_type": "subslide"
    }
   },
   "outputs": [],
   "source": [
    "def make_int_bit_wrapper(fname, fun, zfun):\n",
    "    def proxy(self, other):\n",
    "        z, v = self._zv(other)\n",
    "        z_ = z3.BV2Int(\n",
    "            zfun(\n",
    "                z3.Int2BV(\n",
    "                    self.z, num_bits=64), z3.Int2BV(\n",
    "                    z, num_bits=64)))\n",
    "        v_ = fun(self.v, v)\n",
    "        return zint(self.context, z_, v_)\n",
    "\n",
    "    return proxy"
   ]
  },
  {
   "cell_type": "markdown",
   "metadata": {
    "slideshow": {
     "slide_type": "fragment"
    }
   },
   "source": [
    "It is then applied to the `zint` class."
   ]
  },
  {
   "cell_type": "code",
   "execution_count": 366,
   "metadata": {
    "execution": {
     "iopub.execute_input": "2022-02-21T08:25:53.961968Z",
     "iopub.status.busy": "2022-02-21T08:25:53.961300Z",
     "iopub.status.idle": "2022-02-21T08:25:53.962888Z",
     "shell.execute_reply": "2022-02-21T08:25:53.963322Z"
    },
    "slideshow": {
     "slide_type": "subslide"
    }
   },
   "outputs": [],
   "source": [
    "BIT_OPS = [\n",
    "    '__lshift__',\n",
    "    '__rshift__',\n",
    "    '__and__',\n",
    "    '__xor__',\n",
    "    '__or__',\n",
    "    '__rlshift__',\n",
    "    '__rrshift__',\n",
    "    '__rand__',\n",
    "    '__rxor__',\n",
    "    '__ror__',\n",
    "]"
   ]
  },
  {
   "cell_type": "code",
   "execution_count": 367,
   "metadata": {
    "execution": {
     "iopub.execute_input": "2022-02-21T08:25:53.967809Z",
     "iopub.status.busy": "2022-02-21T08:25:53.967189Z",
     "iopub.status.idle": "2022-02-21T08:25:53.968859Z",
     "shell.execute_reply": "2022-02-21T08:25:53.969247Z"
    },
    "slideshow": {
     "slide_type": "subslide"
    }
   },
   "outputs": [],
   "source": [
    "def init_concolic_4():\n",
    "    for fname in BIT_OPS:\n",
    "        fun = getattr(int, fname)\n",
    "        zfun = getattr(z3.BitVecRef, fname)\n",
    "        setattr(zint, fname, make_int_bit_wrapper(fname, fun, zfun))"
   ]
  },
  {
   "cell_type": "code",
   "execution_count": 368,
   "metadata": {
    "execution": {
     "iopub.execute_input": "2022-02-21T08:25:53.973028Z",
     "iopub.status.busy": "2022-02-21T08:25:53.972361Z",
     "iopub.status.idle": "2022-02-21T08:25:53.973999Z",
     "shell.execute_reply": "2022-02-21T08:25:53.974426Z"
    },
    "slideshow": {
     "slide_type": "fragment"
    }
   },
   "outputs": [],
   "source": [
    "INITIALIZER_LIST.append(init_concolic_4)"
   ]
  },
  {
   "cell_type": "code",
   "execution_count": 369,
   "metadata": {
    "execution": {
     "iopub.execute_input": "2022-02-21T08:25:53.978144Z",
     "iopub.status.busy": "2022-02-21T08:25:53.977497Z",
     "iopub.status.idle": "2022-02-21T08:25:53.979402Z",
     "shell.execute_reply": "2022-02-21T08:25:53.979802Z"
    },
    "slideshow": {
     "slide_type": "fragment"
    }
   },
   "outputs": [],
   "source": [
    "init_concolic_4()"
   ]
  },
  {
   "cell_type": "markdown",
   "metadata": {
    "slideshow": {
     "slide_type": "fragment"
    }
   },
   "source": [
    "Invert is the only unary bit manipulation method."
   ]
  },
  {
   "cell_type": "code",
   "execution_count": 370,
   "metadata": {
    "execution": {
     "iopub.execute_input": "2022-02-21T08:25:53.984900Z",
     "iopub.status.busy": "2022-02-21T08:25:53.984335Z",
     "iopub.status.idle": "2022-02-21T08:25:53.985972Z",
     "shell.execute_reply": "2022-02-21T08:25:53.986401Z"
    },
    "slideshow": {
     "slide_type": "fragment"
    }
   },
   "outputs": [],
   "source": [
    "class zint(zint):\n",
    "    def __invert__(self):\n",
    "        return zint(self.context, z3.BV2Int(\n",
    "            ~z3.Int2BV(self.z, num_bits=64)), ~self.v)"
   ]
  },
  {
   "cell_type": "markdown",
   "metadata": {
    "slideshow": {
     "slide_type": "fragment"
    }
   },
   "source": [
    "The `my_fn()` computes `xor` and returns `True` if the `xor` results in a non zero value."
   ]
  },
  {
   "cell_type": "code",
   "execution_count": 371,
   "metadata": {
    "execution": {
     "iopub.execute_input": "2022-02-21T08:25:53.991301Z",
     "iopub.status.busy": "2022-02-21T08:25:53.990598Z",
     "iopub.status.idle": "2022-02-21T08:25:53.992327Z",
     "shell.execute_reply": "2022-02-21T08:25:53.992721Z"
    },
    "slideshow": {
     "slide_type": "subslide"
    }
   },
   "outputs": [],
   "source": [
    "def my_fn(a, b):\n",
    "    o_ = (a | b)\n",
    "    a_ = (a & b)\n",
    "    if o_ & ~a_:\n",
    "        return True\n",
    "    else:\n",
    "        return False"
   ]
  },
  {
   "cell_type": "markdown",
   "metadata": {
    "slideshow": {
     "slide_type": "fragment"
    }
   },
   "source": [
    "Using that under `ConcolicTracer`"
   ]
  },
  {
   "cell_type": "code",
   "execution_count": 372,
   "metadata": {
    "execution": {
     "iopub.execute_input": "2022-02-21T08:25:53.996698Z",
     "iopub.status.busy": "2022-02-21T08:25:53.996105Z",
     "iopub.status.idle": "2022-02-21T08:25:54.000911Z",
     "shell.execute_reply": "2022-02-21T08:25:54.001570Z"
    },
    "slideshow": {
     "slide_type": "fragment"
    }
   },
   "outputs": [
    {
     "name": "stdout",
     "output_type": "stream",
     "text": [
      "True\n"
     ]
    }
   ],
   "source": [
    "with ConcolicTracer() as _:\n",
    "    print(_[my_fn](2, 1))"
   ]
  },
  {
   "cell_type": "markdown",
   "metadata": {
    "slideshow": {
     "slide_type": "fragment"
    }
   },
   "source": [
    "We log the computed SMT expression to verify that everything went well."
   ]
  },
  {
   "cell_type": "code",
   "execution_count": 373,
   "metadata": {
    "execution": {
     "iopub.execute_input": "2022-02-21T08:25:54.006198Z",
     "iopub.status.busy": "2022-02-21T08:25:54.005356Z",
     "iopub.status.idle": "2022-02-21T08:25:55.239732Z",
     "shell.execute_reply": "2022-02-21T08:25:55.240268Z"
    },
    "slideshow": {
     "slide_type": "subslide"
    }
   },
   "outputs": [
    {
     "name": "stdout",
     "output_type": "stream",
     "text": [
      "Predicates in path:\n",
      "0 0 !=\n",
      "BV2Int(int2bv(BV2Int(int2bv(my_fn_a_int_1) |\n",
      "                     int2bv(my_fn_b_int_2))) &\n",
      "       int2bv(BV2Int(~int2bv(BV2Int(int2bv(my_fn_a_int_1) &\n",
      "                                    int2bv(my_fn_b_int_2))))))\n",
      "\n",
      "(declare-const my_fn_a_int_1 Int)\n",
      "(declare-const my_fn_b_int_2 Int)\n",
      "(assert (let ((a!1 (bvnot (bvor (bvnot ((_ int2bv 64) my_fn_a_int_1))\n",
      "                        (bvnot ((_ int2bv 64) my_fn_b_int_2))))))\n",
      "(let ((a!2 (bvor (bvnot (bvor ((_ int2bv 64) my_fn_a_int_1)\n",
      "                              ((_ int2bv 64) my_fn_b_int_2)))\n",
      "                 a!1)))\n",
      "  (not (= 0 (bv2int (bvnot a!2)))))))\n",
      "(check-sat)\n",
      "(get-model)\n",
      "\n",
      "z3 -t:6000 /var/folders/n2/xd9445p97rb3xh7m1dfx8_4h0006ts/T/tmpbj7uryp8.smt\n",
      "sat\n",
      "(\n",
      "  (define-fun my_fn_a_int_1 () Int\n",
      "    (- 1))\n",
      "  (define-fun my_fn_b_int_2 () Int\n",
      "    (- 9223372036854775809))\n",
      ")\n"
     ]
    },
    {
     "data": {
      "text/plain": [
       "('sat', {'a': (['-', '1'], 'Int'), 'b': (['-', '9223372036854775809'], 'Int')})"
      ]
     },
     "execution_count": 373,
     "metadata": {},
     "output_type": "execute_result"
    }
   ],
   "source": [
    "_.zeval(log=True)"
   ]
  },
  {
   "cell_type": "markdown",
   "metadata": {
    "slideshow": {
     "slide_type": "subslide"
    }
   },
   "source": [
    "We can confirm from the formulas generated that the bit manipulation functions worked correctly. "
   ]
  },
  {
   "cell_type": "markdown",
   "metadata": {
    "slideshow": {
     "slide_type": "subslide"
    }
   },
   "source": [
    "### Exercise 3: String Translation Functions"
   ]
  },
  {
   "cell_type": "markdown",
   "metadata": {
    "slideshow": {
     "slide_type": "fragment"
    }
   },
   "source": [
    "We have seen how to define `upper()` and `lower()`. Can you define the `capitalize()`, `title()`, and `swapcase()` methods?"
   ]
  },
  {
   "cell_type": "markdown",
   "metadata": {
    "slideshow": {
     "slide_type": "fragment"
    }
   },
   "source": [
    "__Solution.__ Solution not yet available."
   ]
  }
 ],
 "metadata": {
  "ipub": {
   "bibliography": "fuzzingbook.bib",
   "toc": true
  },
  "kernelspec": {
   "display_name": "Python 3 (ipykernel)",
   "language": "python",
   "name": "python3"
  },
  "language_info": {
   "codemirror_mode": {
    "name": "ipython",
    "version": 3
   },
   "file_extension": ".py",
   "mimetype": "text/x-python",
   "name": "python",
   "nbconvert_exporter": "python",
   "pygments_lexer": "ipython3",
   "version": "3.9.7"
  },
  "toc": {
   "base_numbering": 1,
   "nav_menu": {},
   "number_sections": true,
   "sideBar": true,
   "skip_h1_title": true,
   "title_cell": "",
   "title_sidebar": "Contents",
   "toc_cell": false,
   "toc_position": {},
   "toc_section_display": true,
   "toc_window_display": true
  },
  "toc-autonumbering": false,
  "varInspector": {
   "cols": {
    "lenName": 16,
    "lenType": 16,
    "lenVar": 40
   },
   "kernels_config": {
    "python": {
     "delete_cmd_postfix": "",
     "delete_cmd_prefix": "del ",
     "library": "var_list.py",
     "varRefreshCmd": "print(var_dic_list())"
    },
    "r": {
     "delete_cmd_postfix": ") ",
     "delete_cmd_prefix": "rm(",
     "library": "var_list.r",
     "varRefreshCmd": "cat(var_dic_list()) "
    }
   },
   "types_to_exclude": [
    "module",
    "function",
    "builtin_function_or_method",
    "instance",
    "_Feature"
   ],
   "window_display": false
  }
 },
 "nbformat": 4,
 "nbformat_minor": 4
}