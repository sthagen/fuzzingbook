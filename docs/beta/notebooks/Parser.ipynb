{
 "cells": [
  {
   "cell_type": "markdown",
   "metadata": {
    "button": false,
    "new_sheet": false,
    "run_control": {
     "read_only": false
    },
    "slideshow": {
     "slide_type": "notes"
    },
    "tags": [],
    "toc-hr-collapsed": false
   },
   "source": [
    "# Parsing Inputs\n",
    "\n",
    "In the chapter on [Grammars](Grammars.ipynb), we discussed how grammars can be\n",
    "used to represent various languages. We also saw how grammars can be used to\n",
    "generate strings of the corresponding language. Grammars can also perform the\n",
    "reverse. That is, given a string, one can decompose the string into its\n",
    "constituent parts that correspond to the parts of grammar used to generate it\n",
    "– the _derivation tree_ of that string. These parts (and parts from other similar\n",
    "strings) can later be recombined using the same grammar to produce new strings.\n",
    "\n",
    "In this chapter, we use grammars to parse and decompose a given set of valid seed inputs into their corresponding derivation trees. This structural representation allows us to mutate, crossover, and recombine their parts in order to generate new valid, slightly changed inputs (i.e., fuzz)"
   ]
  },
  {
   "cell_type": "code",
   "execution_count": 1,
   "metadata": {
    "execution": {
     "iopub.execute_input": "2023-01-07T14:16:11.665542Z",
     "iopub.status.busy": "2023-01-07T14:16:11.664614Z",
     "iopub.status.idle": "2023-01-07T14:16:11.726488Z",
     "shell.execute_reply": "2023-01-07T14:16:11.726826Z"
    },
    "slideshow": {
     "slide_type": "skip"
    }
   },
   "outputs": [
    {
     "data": {
      "text/html": [
       "\n",
       "        <iframe\n",
       "            width=\"640\"\n",
       "            height=\"360\"\n",
       "            src=\"https://www.youtube-nocookie.com/embed/k39i9de0L54\"\n",
       "            frameborder=\"0\"\n",
       "            allowfullscreen\n",
       "            \n",
       "        ></iframe>\n",
       "        "
      ],
      "text/plain": [
       "<IPython.lib.display.IFrame at 0x106dce440>"
      ]
     },
     "execution_count": 1,
     "metadata": {},
     "output_type": "execute_result"
    }
   ],
   "source": [
    "from bookutils import YouTubeVideo\n",
    "YouTubeVideo('k39i9de0L54')"
   ]
  },
  {
   "cell_type": "markdown",
   "metadata": {
    "slideshow": {
     "slide_type": "skip"
    }
   },
   "source": [
    "**Prerequisites**\n",
    "\n",
    "* You should have read the [chapter on grammars](Grammars.ipynb).\n",
    "* An understanding of derivation trees from the [chapter on grammar fuzzer](GrammarFuzzer.ipynb)\n",
    "  is also required."
   ]
  },
  {
   "cell_type": "markdown",
   "metadata": {
    "slideshow": {
     "slide_type": "skip"
    }
   },
   "source": [
    "## Synopsis\n",
    "<!-- Automatically generated. Do not edit. -->\n",
    "\n",
    "To [use the code provided in this chapter](Importing.ipynb), write\n",
    "\n",
    "```python\n",
    ">>> from fuzzingbook.Parser import <identifier>\n",
    "```\n",
    "\n",
    "and then make use of the following features.\n",
    "\n",
    "\n",
    "This chapter introduces `Parser` classes, parsing a string into a _derivation tree_ as introduced in the [chapter on efficient grammar fuzzing](GrammarFuzzer.ipynb).  Two important parser classes are provided:\n",
    "\n",
    "* [Parsing Expression Grammar parsers](#Parsing-Expression-Grammars) (`PEGParser`). These are very efficient, but limited to specific grammar structure. Notably, the alternatives represent *ordered choice*. That is, rather than choosing all rules that can potentially match, we stop at the first match that succeed.\n",
    "* [Earley parsers](#Parsing-Context-Free-Grammars) (`EarleyParser`). These accept any kind of context-free grammars, and explore all parsing alternatives (if any).\n",
    "\n",
    "Using any of these is fairly easy, though.  First, instantiate them with a grammar:\n",
    "\n",
    "```python\n",
    ">>> from Grammars import US_PHONE_GRAMMAR\n",
    ">>> us_phone_parser = EarleyParser(US_PHONE_GRAMMAR)\n",
    "```\n",
    "Then, use the `parse()` method to retrieve a list of possible derivation trees:\n",
    "\n",
    "```python\n",
    ">>> trees = us_phone_parser.parse(\"(555)987-6543\")\n",
    ">>> tree = list(trees)[0]\n",
    ">>> display_tree(tree)\n",
    "```\n",
    "![](PICS/Parser-synopsis-1.svg)\n",
    "\n",
    "These derivation trees can then be used for test generation, notably for mutating and recombining existing inputs.\n",
    "\n",
    "![](PICS/Parser-synopsis-2.svg)\n",
    "\n"
   ]
  },
  {
   "cell_type": "code",
   "execution_count": 2,
   "metadata": {
    "execution": {
     "iopub.execute_input": "2023-01-07T14:16:11.730419Z",
     "iopub.status.busy": "2023-01-07T14:16:11.729964Z",
     "iopub.status.idle": "2023-01-07T14:16:11.731354Z",
     "shell.execute_reply": "2023-01-07T14:16:11.731596Z"
    },
    "slideshow": {
     "slide_type": "skip"
    }
   },
   "outputs": [],
   "source": [
    "import bookutils"
   ]
  },
  {
   "cell_type": "code",
   "execution_count": 3,
   "metadata": {
    "execution": {
     "iopub.execute_input": "2023-01-07T14:16:11.733733Z",
     "iopub.status.busy": "2023-01-07T14:16:11.733388Z",
     "iopub.status.idle": "2023-01-07T14:16:11.734560Z",
     "shell.execute_reply": "2023-01-07T14:16:11.734836Z"
    },
    "slideshow": {
     "slide_type": "skip"
    }
   },
   "outputs": [],
   "source": [
    "from typing import Dict, List, Tuple, Collection, Set, Iterable, Generator, cast"
   ]
  },
  {
   "cell_type": "code",
   "execution_count": 4,
   "metadata": {
    "execution": {
     "iopub.execute_input": "2023-01-07T14:16:11.740556Z",
     "iopub.status.busy": "2023-01-07T14:16:11.736981Z",
     "iopub.status.idle": "2023-01-07T14:16:11.819848Z",
     "shell.execute_reply": "2023-01-07T14:16:11.820071Z"
    },
    "slideshow": {
     "slide_type": "skip"
    }
   },
   "outputs": [],
   "source": [
    "from Fuzzer import Fuzzer  # minor dependency"
   ]
  },
  {
   "cell_type": "code",
   "execution_count": 5,
   "metadata": {
    "execution": {
     "iopub.execute_input": "2023-01-07T14:16:11.822225Z",
     "iopub.status.busy": "2023-01-07T14:16:11.821917Z",
     "iopub.status.idle": "2023-01-07T14:16:12.197079Z",
     "shell.execute_reply": "2023-01-07T14:16:12.197304Z"
    },
    "slideshow": {
     "slide_type": "skip"
    }
   },
   "outputs": [],
   "source": [
    "from Grammars import EXPR_GRAMMAR, START_SYMBOL, RE_NONTERMINAL\n",
    "from Grammars import is_valid_grammar, syntax_diagram, Grammar"
   ]
  },
  {
   "cell_type": "code",
   "execution_count": 6,
   "metadata": {
    "execution": {
     "iopub.execute_input": "2023-01-07T14:16:12.199461Z",
     "iopub.status.busy": "2023-01-07T14:16:12.199147Z",
     "iopub.status.idle": "2023-01-07T14:16:12.227866Z",
     "shell.execute_reply": "2023-01-07T14:16:12.228079Z"
    },
    "slideshow": {
     "slide_type": "skip"
    }
   },
   "outputs": [],
   "source": [
    "from GrammarFuzzer import GrammarFuzzer, display_tree, tree_to_string, dot_escape\n",
    "from GrammarFuzzer import DerivationTree"
   ]
  },
  {
   "cell_type": "code",
   "execution_count": 7,
   "metadata": {
    "execution": {
     "iopub.execute_input": "2023-01-07T14:16:12.229852Z",
     "iopub.status.busy": "2023-01-07T14:16:12.229558Z",
     "iopub.status.idle": "2023-01-07T14:16:12.230860Z",
     "shell.execute_reply": "2023-01-07T14:16:12.231051Z"
    },
    "slideshow": {
     "slide_type": "skip"
    }
   },
   "outputs": [],
   "source": [
    "from ExpectError import ExpectError"
   ]
  },
  {
   "cell_type": "code",
   "execution_count": 8,
   "metadata": {
    "execution": {
     "iopub.execute_input": "2023-01-07T14:16:12.232591Z",
     "iopub.status.busy": "2023-01-07T14:16:12.232307Z",
     "iopub.status.idle": "2023-01-07T14:16:12.233690Z",
     "shell.execute_reply": "2023-01-07T14:16:12.233898Z"
    },
    "slideshow": {
     "slide_type": "skip"
    }
   },
   "outputs": [],
   "source": [
    "from IPython.display import display"
   ]
  },
  {
   "cell_type": "code",
   "execution_count": 9,
   "metadata": {
    "execution": {
     "iopub.execute_input": "2023-01-07T14:16:12.235529Z",
     "iopub.status.busy": "2023-01-07T14:16:12.235189Z",
     "iopub.status.idle": "2023-01-07T14:16:12.236436Z",
     "shell.execute_reply": "2023-01-07T14:16:12.236752Z"
    },
    "slideshow": {
     "slide_type": "skip"
    }
   },
   "outputs": [],
   "source": [
    "from Timer import Timer"
   ]
  },
  {
   "cell_type": "markdown",
   "metadata": {
    "slideshow": {
     "slide_type": "slide"
    }
   },
   "source": [
    "## Why Parsing for Fuzzing?"
   ]
  },
  {
   "cell_type": "markdown",
   "metadata": {
    "slideshow": {
     "slide_type": "fragment"
    }
   },
   "source": [
    "Why would one want to parse existing inputs in order to fuzz? Let us illustrate the problem with an example. Here is a simple program that accepts a CSV file of vehicle details and processes this information."
   ]
  },
  {
   "cell_type": "code",
   "execution_count": 10,
   "metadata": {
    "execution": {
     "iopub.execute_input": "2023-01-07T14:16:12.238767Z",
     "iopub.status.busy": "2023-01-07T14:16:12.238482Z",
     "iopub.status.idle": "2023-01-07T14:16:12.239780Z",
     "shell.execute_reply": "2023-01-07T14:16:12.240228Z"
    },
    "slideshow": {
     "slide_type": "fragment"
    }
   },
   "outputs": [],
   "source": [
    "def process_inventory(inventory):\n",
    "    res = []\n",
    "    for vehicle in inventory.split('\\n'):\n",
    "        ret = process_vehicle(vehicle)\n",
    "        res.extend(ret)\n",
    "    return '\\n'.join(res)"
   ]
  },
  {
   "cell_type": "markdown",
   "metadata": {
    "slideshow": {
     "slide_type": "fragment"
    }
   },
   "source": [
    "The CSV file contains details of one vehicle per line. Each row is processed in `process_vehicle()`."
   ]
  },
  {
   "cell_type": "code",
   "execution_count": 11,
   "metadata": {
    "execution": {
     "iopub.execute_input": "2023-01-07T14:16:12.242949Z",
     "iopub.status.busy": "2023-01-07T14:16:12.242420Z",
     "iopub.status.idle": "2023-01-07T14:16:12.243983Z",
     "shell.execute_reply": "2023-01-07T14:16:12.244236Z"
    },
    "slideshow": {
     "slide_type": "subslide"
    }
   },
   "outputs": [],
   "source": [
    "def process_vehicle(vehicle):\n",
    "    year, kind, company, model, *_ = vehicle.split(',')\n",
    "    if kind == 'van':\n",
    "        return process_van(year, company, model)\n",
    "\n",
    "    elif kind == 'car':\n",
    "        return process_car(year, company, model)\n",
    "\n",
    "    else:\n",
    "        raise Exception('Invalid entry')"
   ]
  },
  {
   "cell_type": "markdown",
   "metadata": {
    "slideshow": {
     "slide_type": "fragment"
    }
   },
   "source": [
    "Depending on the kind of vehicle, the processing changes."
   ]
  },
  {
   "cell_type": "code",
   "execution_count": 12,
   "metadata": {
    "execution": {
     "iopub.execute_input": "2023-01-07T14:16:12.246880Z",
     "iopub.status.busy": "2023-01-07T14:16:12.246375Z",
     "iopub.status.idle": "2023-01-07T14:16:12.248120Z",
     "shell.execute_reply": "2023-01-07T14:16:12.248533Z"
    },
    "slideshow": {
     "slide_type": "subslide"
    }
   },
   "outputs": [],
   "source": [
    "def process_van(year, company, model):\n",
    "    res = [\"We have a %s %s van from %s vintage.\" % (company, model, year)]\n",
    "    iyear = int(year)\n",
    "    if iyear > 2010:\n",
    "        res.append(\"It is a recent model!\")\n",
    "    else:\n",
    "        res.append(\"It is an old but reliable model!\")\n",
    "    return res"
   ]
  },
  {
   "cell_type": "code",
   "execution_count": 13,
   "metadata": {
    "execution": {
     "iopub.execute_input": "2023-01-07T14:16:12.250852Z",
     "iopub.status.busy": "2023-01-07T14:16:12.250546Z",
     "iopub.status.idle": "2023-01-07T14:16:12.251845Z",
     "shell.execute_reply": "2023-01-07T14:16:12.252106Z"
    },
    "slideshow": {
     "slide_type": "subslide"
    }
   },
   "outputs": [],
   "source": [
    "def process_car(year, company, model):\n",
    "    res = [\"We have a %s %s car from %s vintage.\" % (company, model, year)]\n",
    "    iyear = int(year)\n",
    "    if iyear > 2016:\n",
    "        res.append(\"It is a recent model!\")\n",
    "    else:\n",
    "        res.append(\"It is an old but reliable model!\")\n",
    "    return res"
   ]
  },
  {
   "cell_type": "markdown",
   "metadata": {
    "slideshow": {
     "slide_type": "fragment"
    }
   },
   "source": [
    "Here is a sample of inputs that the `process_inventory()` accepts."
   ]
  },
  {
   "cell_type": "code",
   "execution_count": 14,
   "metadata": {
    "execution": {
     "iopub.execute_input": "2023-01-07T14:16:12.254082Z",
     "iopub.status.busy": "2023-01-07T14:16:12.253672Z",
     "iopub.status.idle": "2023-01-07T14:16:12.255404Z",
     "shell.execute_reply": "2023-01-07T14:16:12.255646Z"
    },
    "slideshow": {
     "slide_type": "subslide"
    }
   },
   "outputs": [
    {
     "name": "stdout",
     "output_type": "stream",
     "text": [
      "We have a Ford E350 van from 1997 vintage.\n",
      "It is an old but reliable model!\n",
      "We have a Mercury Cougar car from 2000 vintage.\n",
      "It is an old but reliable model!\n"
     ]
    }
   ],
   "source": [
    "mystring = \"\"\"\\\n",
    "1997,van,Ford,E350\n",
    "2000,car,Mercury,Cougar\\\n",
    "\"\"\"\n",
    "print(process_inventory(mystring))"
   ]
  },
  {
   "cell_type": "markdown",
   "metadata": {
    "slideshow": {
     "slide_type": "fragment"
    }
   },
   "source": [
    "Let us try to fuzz this program. Given that the `process_inventory()` takes a CSV file, we can write a simple grammar for generating comma separated values, and generate the required CSV rows. For convenience, we fuzz `process_vehicle()` directly."
   ]
  },
  {
   "cell_type": "code",
   "execution_count": 15,
   "metadata": {
    "execution": {
     "iopub.execute_input": "2023-01-07T14:16:12.257627Z",
     "iopub.status.busy": "2023-01-07T14:16:12.257266Z",
     "iopub.status.idle": "2023-01-07T14:16:12.258415Z",
     "shell.execute_reply": "2023-01-07T14:16:12.258691Z"
    },
    "slideshow": {
     "slide_type": "skip"
    }
   },
   "outputs": [],
   "source": [
    "import string"
   ]
  },
  {
   "cell_type": "code",
   "execution_count": 16,
   "metadata": {
    "execution": {
     "iopub.execute_input": "2023-01-07T14:16:12.260758Z",
     "iopub.status.busy": "2023-01-07T14:16:12.260432Z",
     "iopub.status.idle": "2023-01-07T14:16:12.261859Z",
     "shell.execute_reply": "2023-01-07T14:16:12.262115Z"
    },
    "slideshow": {
     "slide_type": "subslide"
    }
   },
   "outputs": [],
   "source": [
    "CSV_GRAMMAR: Grammar = {\n",
    "    '<start>': ['<csvline>'],\n",
    "    '<csvline>': ['<items>'],\n",
    "    '<items>': ['<item>,<items>', '<item>'],\n",
    "    '<item>': ['<letters>'],\n",
    "    '<letters>': ['<letter><letters>', '<letter>'],\n",
    "    '<letter>': list(string.ascii_letters + string.digits + string.punctuation + ' \\t\\n')\n",
    "}"
   ]
  },
  {
   "cell_type": "markdown",
   "metadata": {
    "slideshow": {
     "slide_type": "fragment"
    }
   },
   "source": [
    " We need some infrastructure first for viewing the grammar."
   ]
  },
  {
   "cell_type": "code",
   "execution_count": 17,
   "metadata": {
    "execution": {
     "iopub.execute_input": "2023-01-07T14:16:12.263890Z",
     "iopub.status.busy": "2023-01-07T14:16:12.263458Z",
     "iopub.status.idle": "2023-01-07T14:16:12.284975Z",
     "shell.execute_reply": "2023-01-07T14:16:12.285207Z"
    },
    "slideshow": {
     "slide_type": "subslide"
    }
   },
   "outputs": [
    {
     "name": "stdout",
     "output_type": "stream",
     "text": [
      "start\n"
     ]
    },
    {
     "data": {
      "image/svg+xml": [
       "<svg xmlns=\"http://www.w3.org/2000/svg\" class=\"railroad-diagram\" height=\"62\" viewBox=\"0 0 199.5 62\" width=\"199.5\">\n",
       "<g transform=\"translate(.5 .5)\">\n",
       "<style>/* <![CDATA[ */\n",
       "    svg.railroad-diagram {\n",
       "    }\n",
       "    svg.railroad-diagram path {\n",
       "        stroke-width:3;\n",
       "        stroke:black;\n",
       "        fill:white;\n",
       "    }\n",
       "    svg.railroad-diagram text {\n",
       "        font:14px \"Fira Mono\", monospace;\n",
       "        text-anchor:middle;\n",
       "    }\n",
       "    svg.railroad-diagram text.label{\n",
       "        text-anchor:start;\n",
       "    }\n",
       "    svg.railroad-diagram text.comment{\n",
       "        font:italic 12px \"Fira Mono\", monospace;\n",
       "    }\n",
       "    svg.railroad-diagram rect{\n",
       "        stroke-width:2;\n",
       "        stroke:black;\n",
       "        fill:mistyrose;\n",
       "    }\n",
       "\n",
       "/* ]]> */\n",
       "</style><g>\n",
       "<path d=\"M20 21v20m10 -20v20m-10 -10h20\"/></g><g>\n",
       "<path d=\"M40 31h0.0\"/><path d=\"M159.5 31h0.0\"/><path d=\"M40.0 31h20\"/><g>\n",
       "<path d=\"M60.0 31h0.0\"/><path d=\"M139.5 31h0.0\"/><g class=\"non-terminal\">\n",
       "<path d=\"M60.0 31h0.0\"/><path d=\"M139.5 31h0.0\"/><rect height=\"22\" width=\"79.5\" x=\"60.0\" y=\"20\"/><text x=\"99.75\" y=\"35\">csvline</text></g></g><path d=\"M139.5 31h20\"/></g><path d=\"M 159.5 31 h 20 m -10 -10 v 20 m 10 -20 v 20\"/></g></svg>"
      ],
      "text/plain": [
       "<IPython.core.display.SVG object>"
      ]
     },
     "metadata": {},
     "output_type": "display_data"
    },
    {
     "name": "stdout",
     "output_type": "stream",
     "text": [
      "csvline\n"
     ]
    },
    {
     "data": {
      "image/svg+xml": [
       "<svg xmlns=\"http://www.w3.org/2000/svg\" class=\"railroad-diagram\" height=\"62\" viewBox=\"0 0 182.5 62\" width=\"182.5\">\n",
       "<g transform=\"translate(.5 .5)\">\n",
       "<style>/* <![CDATA[ */\n",
       "    svg.railroad-diagram {\n",
       "    }\n",
       "    svg.railroad-diagram path {\n",
       "        stroke-width:3;\n",
       "        stroke:black;\n",
       "        fill:white;\n",
       "    }\n",
       "    svg.railroad-diagram text {\n",
       "        font:14px \"Fira Mono\", monospace;\n",
       "        text-anchor:middle;\n",
       "    }\n",
       "    svg.railroad-diagram text.label{\n",
       "        text-anchor:start;\n",
       "    }\n",
       "    svg.railroad-diagram text.comment{\n",
       "        font:italic 12px \"Fira Mono\", monospace;\n",
       "    }\n",
       "    svg.railroad-diagram rect{\n",
       "        stroke-width:2;\n",
       "        stroke:black;\n",
       "        fill:mistyrose;\n",
       "    }\n",
       "\n",
       "/* ]]> */\n",
       "</style><g>\n",
       "<path d=\"M20 21v20m10 -20v20m-10 -10h20\"/></g><g>\n",
       "<path d=\"M40 31h0.0\"/><path d=\"M142.5 31h0.0\"/><path d=\"M40.0 31h20\"/><g>\n",
       "<path d=\"M60.0 31h0.0\"/><path d=\"M122.5 31h0.0\"/><g class=\"non-terminal\">\n",
       "<path d=\"M60.0 31h0.0\"/><path d=\"M122.5 31h0.0\"/><rect height=\"22\" width=\"62.5\" x=\"60.0\" y=\"20\"/><text x=\"91.25\" y=\"35\">items</text></g></g><path d=\"M122.5 31h20\"/></g><path d=\"M 142.5 31 h 20 m -10 -10 v 20 m 10 -20 v 20\"/></g></svg>"
      ],
      "text/plain": [
       "<IPython.core.display.SVG object>"
      ]
     },
     "metadata": {},
     "output_type": "display_data"
    },
    {
     "name": "stdout",
     "output_type": "stream",
     "text": [
      "items\n"
     ]
    },
    {
     "data": {
      "image/svg+xml": [
       "<svg xmlns=\"http://www.w3.org/2000/svg\" class=\"railroad-diagram\" height=\"92\" viewBox=\"0 0 305.0 92\" width=\"305.0\">\n",
       "<g transform=\"translate(.5 .5)\">\n",
       "<style>/* <![CDATA[ */\n",
       "    svg.railroad-diagram {\n",
       "    }\n",
       "    svg.railroad-diagram path {\n",
       "        stroke-width:3;\n",
       "        stroke:black;\n",
       "        fill:white;\n",
       "    }\n",
       "    svg.railroad-diagram text {\n",
       "        font:14px \"Fira Mono\", monospace;\n",
       "        text-anchor:middle;\n",
       "    }\n",
       "    svg.railroad-diagram text.label{\n",
       "        text-anchor:start;\n",
       "    }\n",
       "    svg.railroad-diagram text.comment{\n",
       "        font:italic 12px \"Fira Mono\", monospace;\n",
       "    }\n",
       "    svg.railroad-diagram rect{\n",
       "        stroke-width:2;\n",
       "        stroke:black;\n",
       "        fill:mistyrose;\n",
       "    }\n",
       "\n",
       "/* ]]> */\n",
       "</style><g>\n",
       "<path d=\"M20 51v20m10 -20v20m-10 -10h20\"/></g><g>\n",
       "<path d=\"M40 61h0.0\"/><path d=\"M265.0 61h0.0\"/><path d=\"M40.0 61a10 10 0 0 0 10 -10v-10a10 10 0 0 1 10 -10\"/><g>\n",
       "<path d=\"M60.0 31h0.0\"/><path d=\"M245.0 31h0.0\"/><g class=\"non-terminal\">\n",
       "<path d=\"M60.0 31h0.0\"/><path d=\"M114.0 31h0.0\"/><rect height=\"22\" width=\"54.0\" x=\"60.0\" y=\"20\"/><text x=\"87.0\" y=\"35\">item</text></g><path d=\"M114.0 31h10\"/><path d=\"M124.0 31h10\"/><g class=\"terminal\">\n",
       "<path d=\"M134.0 31h0.0\"/><path d=\"M162.5 31h0.0\"/><rect height=\"22\" rx=\"10\" ry=\"10\" width=\"28.5\" x=\"134.0\" y=\"20\"/><text x=\"148.25\" y=\"35\">,</text></g><path d=\"M162.5 31h10\"/><path d=\"M172.5 31h10\"/><g class=\"non-terminal\">\n",
       "<path d=\"M182.5 31h0.0\"/><path d=\"M245.0 31h0.0\"/><rect height=\"22\" width=\"62.5\" x=\"182.5\" y=\"20\"/><text x=\"213.75\" y=\"35\">items</text></g></g><path d=\"M245.0 31a10 10 0 0 1 10 10v10a10 10 0 0 0 10 10\"/><path d=\"M40.0 61h20\"/><g>\n",
       "<path d=\"M60.0 61h65.5\"/><path d=\"M179.5 61h65.5\"/><g class=\"non-terminal\">\n",
       "<path d=\"M125.5 61h0.0\"/><path d=\"M179.5 61h0.0\"/><rect height=\"22\" width=\"54.0\" x=\"125.5\" y=\"50\"/><text x=\"152.5\" y=\"65\">item</text></g></g><path d=\"M245.0 61h20\"/></g><path d=\"M 265.0 61 h 20 m -10 -10 v 20 m 10 -20 v 20\"/></g></svg>"
      ],
      "text/plain": [
       "<IPython.core.display.SVG object>"
      ]
     },
     "metadata": {},
     "output_type": "display_data"
    },
    {
     "name": "stdout",
     "output_type": "stream",
     "text": [
      "item\n"
     ]
    },
    {
     "data": {
      "image/svg+xml": [
       "<svg xmlns=\"http://www.w3.org/2000/svg\" class=\"railroad-diagram\" height=\"62\" viewBox=\"0 0 199.5 62\" width=\"199.5\">\n",
       "<g transform=\"translate(.5 .5)\">\n",
       "<style>/* <![CDATA[ */\n",
       "    svg.railroad-diagram {\n",
       "    }\n",
       "    svg.railroad-diagram path {\n",
       "        stroke-width:3;\n",
       "        stroke:black;\n",
       "        fill:white;\n",
       "    }\n",
       "    svg.railroad-diagram text {\n",
       "        font:14px \"Fira Mono\", monospace;\n",
       "        text-anchor:middle;\n",
       "    }\n",
       "    svg.railroad-diagram text.label{\n",
       "        text-anchor:start;\n",
       "    }\n",
       "    svg.railroad-diagram text.comment{\n",
       "        font:italic 12px \"Fira Mono\", monospace;\n",
       "    }\n",
       "    svg.railroad-diagram rect{\n",
       "        stroke-width:2;\n",
       "        stroke:black;\n",
       "        fill:mistyrose;\n",
       "    }\n",
       "\n",
       "/* ]]> */\n",
       "</style><g>\n",
       "<path d=\"M20 21v20m10 -20v20m-10 -10h20\"/></g><g>\n",
       "<path d=\"M40 31h0.0\"/><path d=\"M159.5 31h0.0\"/><path d=\"M40.0 31h20\"/><g>\n",
       "<path d=\"M60.0 31h0.0\"/><path d=\"M139.5 31h0.0\"/><g class=\"non-terminal\">\n",
       "<path d=\"M60.0 31h0.0\"/><path d=\"M139.5 31h0.0\"/><rect height=\"22\" width=\"79.5\" x=\"60.0\" y=\"20\"/><text x=\"99.75\" y=\"35\">letters</text></g></g><path d=\"M139.5 31h20\"/></g><path d=\"M 159.5 31 h 20 m -10 -10 v 20 m 10 -20 v 20\"/></g></svg>"
      ],
      "text/plain": [
       "<IPython.core.display.SVG object>"
      ]
     },
     "metadata": {},
     "output_type": "display_data"
    },
    {
     "name": "stdout",
     "output_type": "stream",
     "text": [
      "letters\n"
     ]
    },
    {
     "data": {
      "image/svg+xml": [
       "<svg xmlns=\"http://www.w3.org/2000/svg\" class=\"railroad-diagram\" height=\"92\" viewBox=\"0 0 290.5 92\" width=\"290.5\">\n",
       "<g transform=\"translate(.5 .5)\">\n",
       "<style>/* <![CDATA[ */\n",
       "    svg.railroad-diagram {\n",
       "    }\n",
       "    svg.railroad-diagram path {\n",
       "        stroke-width:3;\n",
       "        stroke:black;\n",
       "        fill:white;\n",
       "    }\n",
       "    svg.railroad-diagram text {\n",
       "        font:14px \"Fira Mono\", monospace;\n",
       "        text-anchor:middle;\n",
       "    }\n",
       "    svg.railroad-diagram text.label{\n",
       "        text-anchor:start;\n",
       "    }\n",
       "    svg.railroad-diagram text.comment{\n",
       "        font:italic 12px \"Fira Mono\", monospace;\n",
       "    }\n",
       "    svg.railroad-diagram rect{\n",
       "        stroke-width:2;\n",
       "        stroke:black;\n",
       "        fill:mistyrose;\n",
       "    }\n",
       "\n",
       "/* ]]> */\n",
       "</style><g>\n",
       "<path d=\"M20 51v20m10 -20v20m-10 -10h20\"/></g><g>\n",
       "<path d=\"M40 61h0.0\"/><path d=\"M250.5 61h0.0\"/><path d=\"M40.0 61a10 10 0 0 0 10 -10v-10a10 10 0 0 1 10 -10\"/><g>\n",
       "<path d=\"M60.0 31h0.0\"/><path d=\"M230.5 31h0.0\"/><g class=\"non-terminal\">\n",
       "<path d=\"M60.0 31h0.0\"/><path d=\"M131.0 31h0.0\"/><rect height=\"22\" width=\"71.0\" x=\"60.0\" y=\"20\"/><text x=\"95.5\" y=\"35\">letter</text></g><path d=\"M131.0 31h10\"/><path d=\"M141.0 31h10\"/><g class=\"non-terminal\">\n",
       "<path d=\"M151.0 31h0.0\"/><path d=\"M230.5 31h0.0\"/><rect height=\"22\" width=\"79.5\" x=\"151.0\" y=\"20\"/><text x=\"190.75\" y=\"35\">letters</text></g></g><path d=\"M230.5 31a10 10 0 0 1 10 10v10a10 10 0 0 0 10 10\"/><path d=\"M40.0 61h20\"/><g>\n",
       "<path d=\"M60.0 61h49.75\"/><path d=\"M180.75 61h49.75\"/><g class=\"non-terminal\">\n",
       "<path d=\"M109.75 61h0.0\"/><path d=\"M180.75 61h0.0\"/><rect height=\"22\" width=\"71.0\" x=\"109.75\" y=\"50\"/><text x=\"145.25\" y=\"65\">letter</text></g></g><path d=\"M230.5 61h20\"/></g><path d=\"M 250.5 61 h 20 m -10 -10 v 20 m 10 -20 v 20\"/></g></svg>"
      ],
      "text/plain": [
       "<IPython.core.display.SVG object>"
      ]
     },
     "metadata": {},
     "output_type": "display_data"
    },
    {
     "name": "stdout",
     "output_type": "stream",
     "text": [
      "letter\n"
     ]
    },
    {
     "data": {
      "image/svg+xml": [
       "<svg xmlns=\"http://www.w3.org/2000/svg\" class=\"railroad-diagram\" height=\"618\" viewBox=\"0 0 611.0 618\" width=\"611.0\">\n",
       "<g transform=\"translate(.5 .5)\">\n",
       "<style>/* <![CDATA[ */\n",
       "    svg.railroad-diagram {\n",
       "    }\n",
       "    svg.railroad-diagram path {\n",
       "        stroke-width:3;\n",
       "        stroke:black;\n",
       "        fill:white;\n",
       "    }\n",
       "    svg.railroad-diagram text {\n",
       "        font:14px \"Fira Mono\", monospace;\n",
       "        text-anchor:middle;\n",
       "    }\n",
       "    svg.railroad-diagram text.label{\n",
       "        text-anchor:start;\n",
       "    }\n",
       "    svg.railroad-diagram text.comment{\n",
       "        font:italic 12px \"Fira Mono\", monospace;\n",
       "    }\n",
       "    svg.railroad-diagram rect{\n",
       "        stroke-width:2;\n",
       "        stroke:black;\n",
       "        fill:mistyrose;\n",
       "    }\n",
       "\n",
       "/* ]]> */\n",
       "</style><g>\n",
       "<path d=\"M20 299v20m10 -20v20m-10 -10h20\"/></g><g>\n",
       "<path d=\"M40 309h0.0\"/><path d=\"M571.0 309h0.0\"/><path d=\"M40.0 309a10 10 0 0 0 10 -10v-269a10 10 0 0 1 10 -10h412.5\"/><path d=\"M138.5 598h412.5a10 10 0 0 0 10 -10v-269a10 10 0 0 1 10 -10\"/><path d=\"M40.0 309h10\"/><g>\n",
       "<path d=\"M50.0 309h0.0\"/><path d=\"M118.5 309h0.0\"/><path d=\"M50.0 309a10 10 0 0 0 10 -10v-10a10 10 0 0 1 10 -10\"/><g>\n",
       "<path d=\"M70.0 279h0.0\"/><path d=\"M98.5 279h0.0\"/><g class=\"terminal\">\n",
       "<path d=\"M70.0 279h0.0\"/><path d=\"M98.5 279h0.0\"/><rect height=\"22\" rx=\"10\" ry=\"10\" width=\"28.5\" x=\"70.0\" y=\"268\"/><text x=\"84.25\" y=\"283\">i</text></g></g><path d=\"M98.5 279a10 10 0 0 1 10 10v10a10 10 0 0 0 10 10\"/><path d=\"M50.0 309a10 10 0 0 0 10 -10v-40a10 10 0 0 1 10 -10\"/><g>\n",
       "<path d=\"M70.0 249h0.0\"/><path d=\"M98.5 249h0.0\"/><g class=\"terminal\">\n",
       "<path d=\"M70.0 249h0.0\"/><path d=\"M98.5 249h0.0\"/><rect height=\"22\" rx=\"10\" ry=\"10\" width=\"28.5\" x=\"70.0\" y=\"238\"/><text x=\"84.25\" y=\"253\">h</text></g></g><path d=\"M98.5 249a10 10 0 0 1 10 10v40a10 10 0 0 0 10 10\"/><path d=\"M50.0 309a10 10 0 0 0 10 -10v-70a10 10 0 0 1 10 -10\"/><g>\n",
       "<path d=\"M70.0 219h0.0\"/><path d=\"M98.5 219h0.0\"/><g class=\"terminal\">\n",
       "<path d=\"M70.0 219h0.0\"/><path d=\"M98.5 219h0.0\"/><rect height=\"22\" rx=\"10\" ry=\"10\" width=\"28.5\" x=\"70.0\" y=\"208\"/><text x=\"84.25\" y=\"223\">g</text></g></g><path d=\"M98.5 219a10 10 0 0 1 10 10v70a10 10 0 0 0 10 10\"/><path d=\"M50.0 309a10 10 0 0 0 10 -10v-100a10 10 0 0 1 10 -10\"/><g>\n",
       "<path d=\"M70.0 189h0.0\"/><path d=\"M98.5 189h0.0\"/><g class=\"terminal\">\n",
       "<path d=\"M70.0 189h0.0\"/><path d=\"M98.5 189h0.0\"/><rect height=\"22\" rx=\"10\" ry=\"10\" width=\"28.5\" x=\"70.0\" y=\"178\"/><text x=\"84.25\" y=\"193\">f</text></g></g><path d=\"M98.5 189a10 10 0 0 1 10 10v100a10 10 0 0 0 10 10\"/><path d=\"M50.0 309a10 10 0 0 0 10 -10v-130a10 10 0 0 1 10 -10\"/><g>\n",
       "<path d=\"M70.0 159h0.0\"/><path d=\"M98.5 159h0.0\"/><g class=\"terminal\">\n",
       "<path d=\"M70.0 159h0.0\"/><path d=\"M98.5 159h0.0\"/><rect height=\"22\" rx=\"10\" ry=\"10\" width=\"28.5\" x=\"70.0\" y=\"148\"/><text x=\"84.25\" y=\"163\">e</text></g></g><path d=\"M98.5 159a10 10 0 0 1 10 10v130a10 10 0 0 0 10 10\"/><path d=\"M50.0 309a10 10 0 0 0 10 -10v-160a10 10 0 0 1 10 -10\"/><g>\n",
       "<path d=\"M70.0 129h0.0\"/><path d=\"M98.5 129h0.0\"/><g class=\"terminal\">\n",
       "<path d=\"M70.0 129h0.0\"/><path d=\"M98.5 129h0.0\"/><rect height=\"22\" rx=\"10\" ry=\"10\" width=\"28.5\" x=\"70.0\" y=\"118\"/><text x=\"84.25\" y=\"133\">d</text></g></g><path d=\"M98.5 129a10 10 0 0 1 10 10v160a10 10 0 0 0 10 10\"/><path d=\"M50.0 309a10 10 0 0 0 10 -10v-190a10 10 0 0 1 10 -10\"/><g>\n",
       "<path d=\"M70.0 99h0.0\"/><path d=\"M98.5 99h0.0\"/><g class=\"terminal\">\n",
       "<path d=\"M70.0 99h0.0\"/><path d=\"M98.5 99h0.0\"/><rect height=\"22\" rx=\"10\" ry=\"10\" width=\"28.5\" x=\"70.0\" y=\"88\"/><text x=\"84.25\" y=\"103\">c</text></g></g><path d=\"M98.5 99a10 10 0 0 1 10 10v190a10 10 0 0 0 10 10\"/><path d=\"M50.0 309a10 10 0 0 0 10 -10v-220a10 10 0 0 1 10 -10\"/><g>\n",
       "<path d=\"M70.0 69h0.0\"/><path d=\"M98.5 69h0.0\"/><g class=\"terminal\">\n",
       "<path d=\"M70.0 69h0.0\"/><path d=\"M98.5 69h0.0\"/><rect height=\"22\" rx=\"10\" ry=\"10\" width=\"28.5\" x=\"70.0\" y=\"58\"/><text x=\"84.25\" y=\"73\">b</text></g></g><path d=\"M98.5 69a10 10 0 0 1 10 10v220a10 10 0 0 0 10 10\"/><path d=\"M50.0 309a10 10 0 0 0 10 -10v-250a10 10 0 0 1 10 -10\"/><g>\n",
       "<path d=\"M70.0 39h0.0\"/><path d=\"M98.5 39h0.0\"/><g class=\"terminal\">\n",
       "<path d=\"M70.0 39h0.0\"/><path d=\"M98.5 39h0.0\"/><rect height=\"22\" rx=\"10\" ry=\"10\" width=\"28.5\" x=\"70.0\" y=\"28\"/><text x=\"84.25\" y=\"43\">a</text></g></g><path d=\"M98.5 39a10 10 0 0 1 10 10v250a10 10 0 0 0 10 10\"/><path d=\"M50.0 309h20\"/><g>\n",
       "<path d=\"M70.0 309h0.0\"/><path d=\"M98.5 309h0.0\"/><g class=\"terminal\">\n",
       "<path d=\"M70.0 309h0.0\"/><path d=\"M98.5 309h0.0\"/><rect height=\"22\" rx=\"10\" ry=\"10\" width=\"28.5\" x=\"70.0\" y=\"298\"/><text x=\"84.25\" y=\"313\">j</text></g></g><path d=\"M98.5 309h20\"/><path d=\"M50.0 309a10 10 0 0 1 10 10v10a10 10 0 0 0 10 10\"/><g>\n",
       "<path d=\"M70.0 339h0.0\"/><path d=\"M98.5 339h0.0\"/><g class=\"terminal\">\n",
       "<path d=\"M70.0 339h0.0\"/><path d=\"M98.5 339h0.0\"/><rect height=\"22\" rx=\"10\" ry=\"10\" width=\"28.5\" x=\"70.0\" y=\"328\"/><text x=\"84.25\" y=\"343\">k</text></g></g><path d=\"M98.5 339a10 10 0 0 0 10 -10v-10a10 10 0 0 1 10 -10\"/><path d=\"M50.0 309a10 10 0 0 1 10 10v40a10 10 0 0 0 10 10\"/><g>\n",
       "<path d=\"M70.0 369h0.0\"/><path d=\"M98.5 369h0.0\"/><g class=\"terminal\">\n",
       "<path d=\"M70.0 369h0.0\"/><path d=\"M98.5 369h0.0\"/><rect height=\"22\" rx=\"10\" ry=\"10\" width=\"28.5\" x=\"70.0\" y=\"358\"/><text x=\"84.25\" y=\"373\">l</text></g></g><path d=\"M98.5 369a10 10 0 0 0 10 -10v-40a10 10 0 0 1 10 -10\"/><path d=\"M50.0 309a10 10 0 0 1 10 10v70a10 10 0 0 0 10 10\"/><g>\n",
       "<path d=\"M70.0 399h0.0\"/><path d=\"M98.5 399h0.0\"/><g class=\"terminal\">\n",
       "<path d=\"M70.0 399h0.0\"/><path d=\"M98.5 399h0.0\"/><rect height=\"22\" rx=\"10\" ry=\"10\" width=\"28.5\" x=\"70.0\" y=\"388\"/><text x=\"84.25\" y=\"403\">m</text></g></g><path d=\"M98.5 399a10 10 0 0 0 10 -10v-70a10 10 0 0 1 10 -10\"/><path d=\"M50.0 309a10 10 0 0 1 10 10v100a10 10 0 0 0 10 10\"/><g>\n",
       "<path d=\"M70.0 429h0.0\"/><path d=\"M98.5 429h0.0\"/><g class=\"terminal\">\n",
       "<path d=\"M70.0 429h0.0\"/><path d=\"M98.5 429h0.0\"/><rect height=\"22\" rx=\"10\" ry=\"10\" width=\"28.5\" x=\"70.0\" y=\"418\"/><text x=\"84.25\" y=\"433\">n</text></g></g><path d=\"M98.5 429a10 10 0 0 0 10 -10v-100a10 10 0 0 1 10 -10\"/><path d=\"M50.0 309a10 10 0 0 1 10 10v130a10 10 0 0 0 10 10\"/><g>\n",
       "<path d=\"M70.0 459h0.0\"/><path d=\"M98.5 459h0.0\"/><g class=\"terminal\">\n",
       "<path d=\"M70.0 459h0.0\"/><path d=\"M98.5 459h0.0\"/><rect height=\"22\" rx=\"10\" ry=\"10\" width=\"28.5\" x=\"70.0\" y=\"448\"/><text x=\"84.25\" y=\"463\">o</text></g></g><path d=\"M98.5 459a10 10 0 0 0 10 -10v-130a10 10 0 0 1 10 -10\"/><path d=\"M50.0 309a10 10 0 0 1 10 10v160a10 10 0 0 0 10 10\"/><g>\n",
       "<path d=\"M70.0 489h0.0\"/><path d=\"M98.5 489h0.0\"/><g class=\"terminal\">\n",
       "<path d=\"M70.0 489h0.0\"/><path d=\"M98.5 489h0.0\"/><rect height=\"22\" rx=\"10\" ry=\"10\" width=\"28.5\" x=\"70.0\" y=\"478\"/><text x=\"84.25\" y=\"493\">p</text></g></g><path d=\"M98.5 489a10 10 0 0 0 10 -10v-160a10 10 0 0 1 10 -10\"/><path d=\"M50.0 309a10 10 0 0 1 10 10v190a10 10 0 0 0 10 10\"/><g>\n",
       "<path d=\"M70.0 519h0.0\"/><path d=\"M98.5 519h0.0\"/><g class=\"terminal\">\n",
       "<path d=\"M70.0 519h0.0\"/><path d=\"M98.5 519h0.0\"/><rect height=\"22\" rx=\"10\" ry=\"10\" width=\"28.5\" x=\"70.0\" y=\"508\"/><text x=\"84.25\" y=\"523\">q</text></g></g><path d=\"M98.5 519a10 10 0 0 0 10 -10v-190a10 10 0 0 1 10 -10\"/><path d=\"M50.0 309a10 10 0 0 1 10 10v220a10 10 0 0 0 10 10\"/><g>\n",
       "<path d=\"M70.0 549h0.0\"/><path d=\"M98.5 549h0.0\"/><g class=\"terminal\">\n",
       "<path d=\"M70.0 549h0.0\"/><path d=\"M98.5 549h0.0\"/><rect height=\"22\" rx=\"10\" ry=\"10\" width=\"28.5\" x=\"70.0\" y=\"538\"/><text x=\"84.25\" y=\"553\">r</text></g></g><path d=\"M98.5 549a10 10 0 0 0 10 -10v-220a10 10 0 0 1 10 -10\"/><path d=\"M50.0 309a10 10 0 0 1 10 10v250a10 10 0 0 0 10 10\"/><g>\n",
       "<path d=\"M70.0 579h0.0\"/><path d=\"M98.5 579h0.0\"/><g class=\"terminal\">\n",
       "<path d=\"M70.0 579h0.0\"/><path d=\"M98.5 579h0.0\"/><rect height=\"22\" rx=\"10\" ry=\"10\" width=\"28.5\" x=\"70.0\" y=\"568\"/><text x=\"84.25\" y=\"583\">s</text></g></g><path d=\"M98.5 579a10 10 0 0 0 10 -10v-250a10 10 0 0 1 10 -10\"/></g><path d=\"M118.5 309a10 10 0 0 1 10 10v269a10 10 0 0 0 10 10\"/><path d=\"M118.5 20a10 10 0 0 1 10 10v269a10 10 0 0 0 10 10\"/><g>\n",
       "<path d=\"M138.5 309h0.0\"/><path d=\"M207.0 309h0.0\"/><path d=\"M138.5 309a10 10 0 0 0 10 -10v-10a10 10 0 0 1 10 -10\"/><g>\n",
       "<path d=\"M158.5 279h0.0\"/><path d=\"M187.0 279h0.0\"/><g class=\"terminal\">\n",
       "<path d=\"M158.5 279h0.0\"/><path d=\"M187.0 279h0.0\"/><rect height=\"22\" rx=\"10\" ry=\"10\" width=\"28.5\" x=\"158.5\" y=\"268\"/><text x=\"172.75\" y=\"283\">B</text></g></g><path d=\"M187.0 279a10 10 0 0 1 10 10v10a10 10 0 0 0 10 10\"/><path d=\"M138.5 309a10 10 0 0 0 10 -10v-40a10 10 0 0 1 10 -10\"/><g>\n",
       "<path d=\"M158.5 249h0.0\"/><path d=\"M187.0 249h0.0\"/><g class=\"terminal\">\n",
       "<path d=\"M158.5 249h0.0\"/><path d=\"M187.0 249h0.0\"/><rect height=\"22\" rx=\"10\" ry=\"10\" width=\"28.5\" x=\"158.5\" y=\"238\"/><text x=\"172.75\" y=\"253\">A</text></g></g><path d=\"M187.0 249a10 10 0 0 1 10 10v40a10 10 0 0 0 10 10\"/><path d=\"M138.5 309a10 10 0 0 0 10 -10v-70a10 10 0 0 1 10 -10\"/><g>\n",
       "<path d=\"M158.5 219h0.0\"/><path d=\"M187.0 219h0.0\"/><g class=\"terminal\">\n",
       "<path d=\"M158.5 219h0.0\"/><path d=\"M187.0 219h0.0\"/><rect height=\"22\" rx=\"10\" ry=\"10\" width=\"28.5\" x=\"158.5\" y=\"208\"/><text x=\"172.75\" y=\"223\">z</text></g></g><path d=\"M187.0 219a10 10 0 0 1 10 10v70a10 10 0 0 0 10 10\"/><path d=\"M138.5 309a10 10 0 0 0 10 -10v-100a10 10 0 0 1 10 -10\"/><g>\n",
       "<path d=\"M158.5 189h0.0\"/><path d=\"M187.0 189h0.0\"/><g class=\"terminal\">\n",
       "<path d=\"M158.5 189h0.0\"/><path d=\"M187.0 189h0.0\"/><rect height=\"22\" rx=\"10\" ry=\"10\" width=\"28.5\" x=\"158.5\" y=\"178\"/><text x=\"172.75\" y=\"193\">y</text></g></g><path d=\"M187.0 189a10 10 0 0 1 10 10v100a10 10 0 0 0 10 10\"/><path d=\"M138.5 309a10 10 0 0 0 10 -10v-130a10 10 0 0 1 10 -10\"/><g>\n",
       "<path d=\"M158.5 159h0.0\"/><path d=\"M187.0 159h0.0\"/><g class=\"terminal\">\n",
       "<path d=\"M158.5 159h0.0\"/><path d=\"M187.0 159h0.0\"/><rect height=\"22\" rx=\"10\" ry=\"10\" width=\"28.5\" x=\"158.5\" y=\"148\"/><text x=\"172.75\" y=\"163\">x</text></g></g><path d=\"M187.0 159a10 10 0 0 1 10 10v130a10 10 0 0 0 10 10\"/><path d=\"M138.5 309a10 10 0 0 0 10 -10v-160a10 10 0 0 1 10 -10\"/><g>\n",
       "<path d=\"M158.5 129h0.0\"/><path d=\"M187.0 129h0.0\"/><g class=\"terminal\">\n",
       "<path d=\"M158.5 129h0.0\"/><path d=\"M187.0 129h0.0\"/><rect height=\"22\" rx=\"10\" ry=\"10\" width=\"28.5\" x=\"158.5\" y=\"118\"/><text x=\"172.75\" y=\"133\">w</text></g></g><path d=\"M187.0 129a10 10 0 0 1 10 10v160a10 10 0 0 0 10 10\"/><path d=\"M138.5 309a10 10 0 0 0 10 -10v-190a10 10 0 0 1 10 -10\"/><g>\n",
       "<path d=\"M158.5 99h0.0\"/><path d=\"M187.0 99h0.0\"/><g class=\"terminal\">\n",
       "<path d=\"M158.5 99h0.0\"/><path d=\"M187.0 99h0.0\"/><rect height=\"22\" rx=\"10\" ry=\"10\" width=\"28.5\" x=\"158.5\" y=\"88\"/><text x=\"172.75\" y=\"103\">v</text></g></g><path d=\"M187.0 99a10 10 0 0 1 10 10v190a10 10 0 0 0 10 10\"/><path d=\"M138.5 309a10 10 0 0 0 10 -10v-220a10 10 0 0 1 10 -10\"/><g>\n",
       "<path d=\"M158.5 69h0.0\"/><path d=\"M187.0 69h0.0\"/><g class=\"terminal\">\n",
       "<path d=\"M158.5 69h0.0\"/><path d=\"M187.0 69h0.0\"/><rect height=\"22\" rx=\"10\" ry=\"10\" width=\"28.5\" x=\"158.5\" y=\"58\"/><text x=\"172.75\" y=\"73\">u</text></g></g><path d=\"M187.0 69a10 10 0 0 1 10 10v220a10 10 0 0 0 10 10\"/><path d=\"M138.5 309a10 10 0 0 0 10 -10v-250a10 10 0 0 1 10 -10\"/><g>\n",
       "<path d=\"M158.5 39h0.0\"/><path d=\"M187.0 39h0.0\"/><g class=\"terminal\">\n",
       "<path d=\"M158.5 39h0.0\"/><path d=\"M187.0 39h0.0\"/><rect height=\"22\" rx=\"10\" ry=\"10\" width=\"28.5\" x=\"158.5\" y=\"28\"/><text x=\"172.75\" y=\"43\">t</text></g></g><path d=\"M187.0 39a10 10 0 0 1 10 10v250a10 10 0 0 0 10 10\"/><path d=\"M138.5 309h20\"/><g>\n",
       "<path d=\"M158.5 309h0.0\"/><path d=\"M187.0 309h0.0\"/><g class=\"terminal\">\n",
       "<path d=\"M158.5 309h0.0\"/><path d=\"M187.0 309h0.0\"/><rect height=\"22\" rx=\"10\" ry=\"10\" width=\"28.5\" x=\"158.5\" y=\"298\"/><text x=\"172.75\" y=\"313\">C</text></g></g><path d=\"M187.0 309h20\"/><path d=\"M138.5 309a10 10 0 0 1 10 10v10a10 10 0 0 0 10 10\"/><g>\n",
       "<path d=\"M158.5 339h0.0\"/><path d=\"M187.0 339h0.0\"/><g class=\"terminal\">\n",
       "<path d=\"M158.5 339h0.0\"/><path d=\"M187.0 339h0.0\"/><rect height=\"22\" rx=\"10\" ry=\"10\" width=\"28.5\" x=\"158.5\" y=\"328\"/><text x=\"172.75\" y=\"343\">D</text></g></g><path d=\"M187.0 339a10 10 0 0 0 10 -10v-10a10 10 0 0 1 10 -10\"/><path d=\"M138.5 309a10 10 0 0 1 10 10v40a10 10 0 0 0 10 10\"/><g>\n",
       "<path d=\"M158.5 369h0.0\"/><path d=\"M187.0 369h0.0\"/><g class=\"terminal\">\n",
       "<path d=\"M158.5 369h0.0\"/><path d=\"M187.0 369h0.0\"/><rect height=\"22\" rx=\"10\" ry=\"10\" width=\"28.5\" x=\"158.5\" y=\"358\"/><text x=\"172.75\" y=\"373\">E</text></g></g><path d=\"M187.0 369a10 10 0 0 0 10 -10v-40a10 10 0 0 1 10 -10\"/><path d=\"M138.5 309a10 10 0 0 1 10 10v70a10 10 0 0 0 10 10\"/><g>\n",
       "<path d=\"M158.5 399h0.0\"/><path d=\"M187.0 399h0.0\"/><g class=\"terminal\">\n",
       "<path d=\"M158.5 399h0.0\"/><path d=\"M187.0 399h0.0\"/><rect height=\"22\" rx=\"10\" ry=\"10\" width=\"28.5\" x=\"158.5\" y=\"388\"/><text x=\"172.75\" y=\"403\">F</text></g></g><path d=\"M187.0 399a10 10 0 0 0 10 -10v-70a10 10 0 0 1 10 -10\"/><path d=\"M138.5 309a10 10 0 0 1 10 10v100a10 10 0 0 0 10 10\"/><g>\n",
       "<path d=\"M158.5 429h0.0\"/><path d=\"M187.0 429h0.0\"/><g class=\"terminal\">\n",
       "<path d=\"M158.5 429h0.0\"/><path d=\"M187.0 429h0.0\"/><rect height=\"22\" rx=\"10\" ry=\"10\" width=\"28.5\" x=\"158.5\" y=\"418\"/><text x=\"172.75\" y=\"433\">G</text></g></g><path d=\"M187.0 429a10 10 0 0 0 10 -10v-100a10 10 0 0 1 10 -10\"/><path d=\"M138.5 309a10 10 0 0 1 10 10v130a10 10 0 0 0 10 10\"/><g>\n",
       "<path d=\"M158.5 459h0.0\"/><path d=\"M187.0 459h0.0\"/><g class=\"terminal\">\n",
       "<path d=\"M158.5 459h0.0\"/><path d=\"M187.0 459h0.0\"/><rect height=\"22\" rx=\"10\" ry=\"10\" width=\"28.5\" x=\"158.5\" y=\"448\"/><text x=\"172.75\" y=\"463\">H</text></g></g><path d=\"M187.0 459a10 10 0 0 0 10 -10v-130a10 10 0 0 1 10 -10\"/><path d=\"M138.5 309a10 10 0 0 1 10 10v160a10 10 0 0 0 10 10\"/><g>\n",
       "<path d=\"M158.5 489h0.0\"/><path d=\"M187.0 489h0.0\"/><g class=\"terminal\">\n",
       "<path d=\"M158.5 489h0.0\"/><path d=\"M187.0 489h0.0\"/><rect height=\"22\" rx=\"10\" ry=\"10\" width=\"28.5\" x=\"158.5\" y=\"478\"/><text x=\"172.75\" y=\"493\">I</text></g></g><path d=\"M187.0 489a10 10 0 0 0 10 -10v-160a10 10 0 0 1 10 -10\"/><path d=\"M138.5 309a10 10 0 0 1 10 10v190a10 10 0 0 0 10 10\"/><g>\n",
       "<path d=\"M158.5 519h0.0\"/><path d=\"M187.0 519h0.0\"/><g class=\"terminal\">\n",
       "<path d=\"M158.5 519h0.0\"/><path d=\"M187.0 519h0.0\"/><rect height=\"22\" rx=\"10\" ry=\"10\" width=\"28.5\" x=\"158.5\" y=\"508\"/><text x=\"172.75\" y=\"523\">J</text></g></g><path d=\"M187.0 519a10 10 0 0 0 10 -10v-190a10 10 0 0 1 10 -10\"/><path d=\"M138.5 309a10 10 0 0 1 10 10v220a10 10 0 0 0 10 10\"/><g>\n",
       "<path d=\"M158.5 549h0.0\"/><path d=\"M187.0 549h0.0\"/><g class=\"terminal\">\n",
       "<path d=\"M158.5 549h0.0\"/><path d=\"M187.0 549h0.0\"/><rect height=\"22\" rx=\"10\" ry=\"10\" width=\"28.5\" x=\"158.5\" y=\"538\"/><text x=\"172.75\" y=\"553\">K</text></g></g><path d=\"M187.0 549a10 10 0 0 0 10 -10v-220a10 10 0 0 1 10 -10\"/><path d=\"M138.5 309a10 10 0 0 1 10 10v250a10 10 0 0 0 10 10\"/><g>\n",
       "<path d=\"M158.5 579h0.0\"/><path d=\"M187.0 579h0.0\"/><g class=\"terminal\">\n",
       "<path d=\"M158.5 579h0.0\"/><path d=\"M187.0 579h0.0\"/><rect height=\"22\" rx=\"10\" ry=\"10\" width=\"28.5\" x=\"158.5\" y=\"568\"/><text x=\"172.75\" y=\"583\">L</text></g></g><path d=\"M187.0 579a10 10 0 0 0 10 -10v-250a10 10 0 0 1 10 -10\"/></g><path d=\"M207.0 309a10 10 0 0 1 10 10v269a10 10 0 0 0 10 10\"/><path d=\"M207.0 20a10 10 0 0 1 10 10v269a10 10 0 0 0 10 10\"/><g>\n",
       "<path d=\"M227.0 309h0.0\"/><path d=\"M295.5 309h0.0\"/><path d=\"M227.0 309a10 10 0 0 0 10 -10v-10a10 10 0 0 1 10 -10\"/><g>\n",
       "<path d=\"M247.0 279h0.0\"/><path d=\"M275.5 279h0.0\"/><g class=\"terminal\">\n",
       "<path d=\"M247.0 279h0.0\"/><path d=\"M275.5 279h0.0\"/><rect height=\"22\" rx=\"10\" ry=\"10\" width=\"28.5\" x=\"247.0\" y=\"268\"/><text x=\"261.25\" y=\"283\">U</text></g></g><path d=\"M275.5 279a10 10 0 0 1 10 10v10a10 10 0 0 0 10 10\"/><path d=\"M227.0 309a10 10 0 0 0 10 -10v-40a10 10 0 0 1 10 -10\"/><g>\n",
       "<path d=\"M247.0 249h0.0\"/><path d=\"M275.5 249h0.0\"/><g class=\"terminal\">\n",
       "<path d=\"M247.0 249h0.0\"/><path d=\"M275.5 249h0.0\"/><rect height=\"22\" rx=\"10\" ry=\"10\" width=\"28.5\" x=\"247.0\" y=\"238\"/><text x=\"261.25\" y=\"253\">T</text></g></g><path d=\"M275.5 249a10 10 0 0 1 10 10v40a10 10 0 0 0 10 10\"/><path d=\"M227.0 309a10 10 0 0 0 10 -10v-70a10 10 0 0 1 10 -10\"/><g>\n",
       "<path d=\"M247.0 219h0.0\"/><path d=\"M275.5 219h0.0\"/><g class=\"terminal\">\n",
       "<path d=\"M247.0 219h0.0\"/><path d=\"M275.5 219h0.0\"/><rect height=\"22\" rx=\"10\" ry=\"10\" width=\"28.5\" x=\"247.0\" y=\"208\"/><text x=\"261.25\" y=\"223\">S</text></g></g><path d=\"M275.5 219a10 10 0 0 1 10 10v70a10 10 0 0 0 10 10\"/><path d=\"M227.0 309a10 10 0 0 0 10 -10v-100a10 10 0 0 1 10 -10\"/><g>\n",
       "<path d=\"M247.0 189h0.0\"/><path d=\"M275.5 189h0.0\"/><g class=\"terminal\">\n",
       "<path d=\"M247.0 189h0.0\"/><path d=\"M275.5 189h0.0\"/><rect height=\"22\" rx=\"10\" ry=\"10\" width=\"28.5\" x=\"247.0\" y=\"178\"/><text x=\"261.25\" y=\"193\">R</text></g></g><path d=\"M275.5 189a10 10 0 0 1 10 10v100a10 10 0 0 0 10 10\"/><path d=\"M227.0 309a10 10 0 0 0 10 -10v-130a10 10 0 0 1 10 -10\"/><g>\n",
       "<path d=\"M247.0 159h0.0\"/><path d=\"M275.5 159h0.0\"/><g class=\"terminal\">\n",
       "<path d=\"M247.0 159h0.0\"/><path d=\"M275.5 159h0.0\"/><rect height=\"22\" rx=\"10\" ry=\"10\" width=\"28.5\" x=\"247.0\" y=\"148\"/><text x=\"261.25\" y=\"163\">Q</text></g></g><path d=\"M275.5 159a10 10 0 0 1 10 10v130a10 10 0 0 0 10 10\"/><path d=\"M227.0 309a10 10 0 0 0 10 -10v-160a10 10 0 0 1 10 -10\"/><g>\n",
       "<path d=\"M247.0 129h0.0\"/><path d=\"M275.5 129h0.0\"/><g class=\"terminal\">\n",
       "<path d=\"M247.0 129h0.0\"/><path d=\"M275.5 129h0.0\"/><rect height=\"22\" rx=\"10\" ry=\"10\" width=\"28.5\" x=\"247.0\" y=\"118\"/><text x=\"261.25\" y=\"133\">P</text></g></g><path d=\"M275.5 129a10 10 0 0 1 10 10v160a10 10 0 0 0 10 10\"/><path d=\"M227.0 309a10 10 0 0 0 10 -10v-190a10 10 0 0 1 10 -10\"/><g>\n",
       "<path d=\"M247.0 99h0.0\"/><path d=\"M275.5 99h0.0\"/><g class=\"terminal\">\n",
       "<path d=\"M247.0 99h0.0\"/><path d=\"M275.5 99h0.0\"/><rect height=\"22\" rx=\"10\" ry=\"10\" width=\"28.5\" x=\"247.0\" y=\"88\"/><text x=\"261.25\" y=\"103\">O</text></g></g><path d=\"M275.5 99a10 10 0 0 1 10 10v190a10 10 0 0 0 10 10\"/><path d=\"M227.0 309a10 10 0 0 0 10 -10v-220a10 10 0 0 1 10 -10\"/><g>\n",
       "<path d=\"M247.0 69h0.0\"/><path d=\"M275.5 69h0.0\"/><g class=\"terminal\">\n",
       "<path d=\"M247.0 69h0.0\"/><path d=\"M275.5 69h0.0\"/><rect height=\"22\" rx=\"10\" ry=\"10\" width=\"28.5\" x=\"247.0\" y=\"58\"/><text x=\"261.25\" y=\"73\">N</text></g></g><path d=\"M275.5 69a10 10 0 0 1 10 10v220a10 10 0 0 0 10 10\"/><path d=\"M227.0 309a10 10 0 0 0 10 -10v-250a10 10 0 0 1 10 -10\"/><g>\n",
       "<path d=\"M247.0 39h0.0\"/><path d=\"M275.5 39h0.0\"/><g class=\"terminal\">\n",
       "<path d=\"M247.0 39h0.0\"/><path d=\"M275.5 39h0.0\"/><rect height=\"22\" rx=\"10\" ry=\"10\" width=\"28.5\" x=\"247.0\" y=\"28\"/><text x=\"261.25\" y=\"43\">M</text></g></g><path d=\"M275.5 39a10 10 0 0 1 10 10v250a10 10 0 0 0 10 10\"/><path d=\"M227.0 309h20\"/><g>\n",
       "<path d=\"M247.0 309h0.0\"/><path d=\"M275.5 309h0.0\"/><g class=\"terminal\">\n",
       "<path d=\"M247.0 309h0.0\"/><path d=\"M275.5 309h0.0\"/><rect height=\"22\" rx=\"10\" ry=\"10\" width=\"28.5\" x=\"247.0\" y=\"298\"/><text x=\"261.25\" y=\"313\">V</text></g></g><path d=\"M275.5 309h20\"/><path d=\"M227.0 309a10 10 0 0 1 10 10v10a10 10 0 0 0 10 10\"/><g>\n",
       "<path d=\"M247.0 339h0.0\"/><path d=\"M275.5 339h0.0\"/><g class=\"terminal\">\n",
       "<path d=\"M247.0 339h0.0\"/><path d=\"M275.5 339h0.0\"/><rect height=\"22\" rx=\"10\" ry=\"10\" width=\"28.5\" x=\"247.0\" y=\"328\"/><text x=\"261.25\" y=\"343\">W</text></g></g><path d=\"M275.5 339a10 10 0 0 0 10 -10v-10a10 10 0 0 1 10 -10\"/><path d=\"M227.0 309a10 10 0 0 1 10 10v40a10 10 0 0 0 10 10\"/><g>\n",
       "<path d=\"M247.0 369h0.0\"/><path d=\"M275.5 369h0.0\"/><g class=\"terminal\">\n",
       "<path d=\"M247.0 369h0.0\"/><path d=\"M275.5 369h0.0\"/><rect height=\"22\" rx=\"10\" ry=\"10\" width=\"28.5\" x=\"247.0\" y=\"358\"/><text x=\"261.25\" y=\"373\">X</text></g></g><path d=\"M275.5 369a10 10 0 0 0 10 -10v-40a10 10 0 0 1 10 -10\"/><path d=\"M227.0 309a10 10 0 0 1 10 10v70a10 10 0 0 0 10 10\"/><g>\n",
       "<path d=\"M247.0 399h0.0\"/><path d=\"M275.5 399h0.0\"/><g class=\"terminal\">\n",
       "<path d=\"M247.0 399h0.0\"/><path d=\"M275.5 399h0.0\"/><rect height=\"22\" rx=\"10\" ry=\"10\" width=\"28.5\" x=\"247.0\" y=\"388\"/><text x=\"261.25\" y=\"403\">Y</text></g></g><path d=\"M275.5 399a10 10 0 0 0 10 -10v-70a10 10 0 0 1 10 -10\"/><path d=\"M227.0 309a10 10 0 0 1 10 10v100a10 10 0 0 0 10 10\"/><g>\n",
       "<path d=\"M247.0 429h0.0\"/><path d=\"M275.5 429h0.0\"/><g class=\"terminal\">\n",
       "<path d=\"M247.0 429h0.0\"/><path d=\"M275.5 429h0.0\"/><rect height=\"22\" rx=\"10\" ry=\"10\" width=\"28.5\" x=\"247.0\" y=\"418\"/><text x=\"261.25\" y=\"433\">Z</text></g></g><path d=\"M275.5 429a10 10 0 0 0 10 -10v-100a10 10 0 0 1 10 -10\"/><path d=\"M227.0 309a10 10 0 0 1 10 10v130a10 10 0 0 0 10 10\"/><g>\n",
       "<path d=\"M247.0 459h0.0\"/><path d=\"M275.5 459h0.0\"/><g class=\"terminal\">\n",
       "<path d=\"M247.0 459h0.0\"/><path d=\"M275.5 459h0.0\"/><rect height=\"22\" rx=\"10\" ry=\"10\" width=\"28.5\" x=\"247.0\" y=\"448\"/><text x=\"261.25\" y=\"463\">0</text></g></g><path d=\"M275.5 459a10 10 0 0 0 10 -10v-130a10 10 0 0 1 10 -10\"/><path d=\"M227.0 309a10 10 0 0 1 10 10v160a10 10 0 0 0 10 10\"/><g>\n",
       "<path d=\"M247.0 489h0.0\"/><path d=\"M275.5 489h0.0\"/><g class=\"terminal\">\n",
       "<path d=\"M247.0 489h0.0\"/><path d=\"M275.5 489h0.0\"/><rect height=\"22\" rx=\"10\" ry=\"10\" width=\"28.5\" x=\"247.0\" y=\"478\"/><text x=\"261.25\" y=\"493\">1</text></g></g><path d=\"M275.5 489a10 10 0 0 0 10 -10v-160a10 10 0 0 1 10 -10\"/><path d=\"M227.0 309a10 10 0 0 1 10 10v190a10 10 0 0 0 10 10\"/><g>\n",
       "<path d=\"M247.0 519h0.0\"/><path d=\"M275.5 519h0.0\"/><g class=\"terminal\">\n",
       "<path d=\"M247.0 519h0.0\"/><path d=\"M275.5 519h0.0\"/><rect height=\"22\" rx=\"10\" ry=\"10\" width=\"28.5\" x=\"247.0\" y=\"508\"/><text x=\"261.25\" y=\"523\">2</text></g></g><path d=\"M275.5 519a10 10 0 0 0 10 -10v-190a10 10 0 0 1 10 -10\"/><path d=\"M227.0 309a10 10 0 0 1 10 10v220a10 10 0 0 0 10 10\"/><g>\n",
       "<path d=\"M247.0 549h0.0\"/><path d=\"M275.5 549h0.0\"/><g class=\"terminal\">\n",
       "<path d=\"M247.0 549h0.0\"/><path d=\"M275.5 549h0.0\"/><rect height=\"22\" rx=\"10\" ry=\"10\" width=\"28.5\" x=\"247.0\" y=\"538\"/><text x=\"261.25\" y=\"553\">3</text></g></g><path d=\"M275.5 549a10 10 0 0 0 10 -10v-220a10 10 0 0 1 10 -10\"/><path d=\"M227.0 309a10 10 0 0 1 10 10v250a10 10 0 0 0 10 10\"/><g>\n",
       "<path d=\"M247.0 579h0.0\"/><path d=\"M275.5 579h0.0\"/><g class=\"terminal\">\n",
       "<path d=\"M247.0 579h0.0\"/><path d=\"M275.5 579h0.0\"/><rect height=\"22\" rx=\"10\" ry=\"10\" width=\"28.5\" x=\"247.0\" y=\"568\"/><text x=\"261.25\" y=\"583\">4</text></g></g><path d=\"M275.5 579a10 10 0 0 0 10 -10v-250a10 10 0 0 1 10 -10\"/></g><path d=\"M295.5 309a10 10 0 0 1 10 10v269a10 10 0 0 0 10 10\"/><path d=\"M295.5 20a10 10 0 0 1 10 10v269a10 10 0 0 0 10 10\"/><g>\n",
       "<path d=\"M315.5 309h0.0\"/><path d=\"M384.0 309h0.0\"/><path d=\"M315.5 309a10 10 0 0 0 10 -10v-10a10 10 0 0 1 10 -10\"/><g>\n",
       "<path d=\"M335.5 279h0.0\"/><path d=\"M364.0 279h0.0\"/><g class=\"terminal\">\n",
       "<path d=\"M335.5 279h0.0\"/><path d=\"M364.0 279h0.0\"/><rect height=\"22\" rx=\"10\" ry=\"10\" width=\"28.5\" x=\"335.5\" y=\"268\"/><text x=\"349.75\" y=\"283\">$</text></g></g><path d=\"M364.0 279a10 10 0 0 1 10 10v10a10 10 0 0 0 10 10\"/><path d=\"M315.5 309a10 10 0 0 0 10 -10v-40a10 10 0 0 1 10 -10\"/><g>\n",
       "<path d=\"M335.5 249h0.0\"/><path d=\"M364.0 249h0.0\"/><g class=\"terminal\">\n",
       "<path d=\"M335.5 249h0.0\"/><path d=\"M364.0 249h0.0\"/><rect height=\"22\" rx=\"10\" ry=\"10\" width=\"28.5\" x=\"335.5\" y=\"238\"/><text x=\"349.75\" y=\"253\">#</text></g></g><path d=\"M364.0 249a10 10 0 0 1 10 10v40a10 10 0 0 0 10 10\"/><path d=\"M315.5 309a10 10 0 0 0 10 -10v-70a10 10 0 0 1 10 -10\"/><g>\n",
       "<path d=\"M335.5 219h0.0\"/><path d=\"M364.0 219h0.0\"/><g class=\"terminal\">\n",
       "<path d=\"M335.5 219h0.0\"/><path d=\"M364.0 219h0.0\"/><rect height=\"22\" rx=\"10\" ry=\"10\" width=\"28.5\" x=\"335.5\" y=\"208\"/><text x=\"349.75\" y=\"223\">&quot;</text></g></g><path d=\"M364.0 219a10 10 0 0 1 10 10v70a10 10 0 0 0 10 10\"/><path d=\"M315.5 309a10 10 0 0 0 10 -10v-100a10 10 0 0 1 10 -10\"/><g>\n",
       "<path d=\"M335.5 189h0.0\"/><path d=\"M364.0 189h0.0\"/><g class=\"terminal\">\n",
       "<path d=\"M335.5 189h0.0\"/><path d=\"M364.0 189h0.0\"/><rect height=\"22\" rx=\"10\" ry=\"10\" width=\"28.5\" x=\"335.5\" y=\"178\"/><text x=\"349.75\" y=\"193\">!</text></g></g><path d=\"M364.0 189a10 10 0 0 1 10 10v100a10 10 0 0 0 10 10\"/><path d=\"M315.5 309a10 10 0 0 0 10 -10v-130a10 10 0 0 1 10 -10\"/><g>\n",
       "<path d=\"M335.5 159h0.0\"/><path d=\"M364.0 159h0.0\"/><g class=\"terminal\">\n",
       "<path d=\"M335.5 159h0.0\"/><path d=\"M364.0 159h0.0\"/><rect height=\"22\" rx=\"10\" ry=\"10\" width=\"28.5\" x=\"335.5\" y=\"148\"/><text x=\"349.75\" y=\"163\">9</text></g></g><path d=\"M364.0 159a10 10 0 0 1 10 10v130a10 10 0 0 0 10 10\"/><path d=\"M315.5 309a10 10 0 0 0 10 -10v-160a10 10 0 0 1 10 -10\"/><g>\n",
       "<path d=\"M335.5 129h0.0\"/><path d=\"M364.0 129h0.0\"/><g class=\"terminal\">\n",
       "<path d=\"M335.5 129h0.0\"/><path d=\"M364.0 129h0.0\"/><rect height=\"22\" rx=\"10\" ry=\"10\" width=\"28.5\" x=\"335.5\" y=\"118\"/><text x=\"349.75\" y=\"133\">8</text></g></g><path d=\"M364.0 129a10 10 0 0 1 10 10v160a10 10 0 0 0 10 10\"/><path d=\"M315.5 309a10 10 0 0 0 10 -10v-190a10 10 0 0 1 10 -10\"/><g>\n",
       "<path d=\"M335.5 99h0.0\"/><path d=\"M364.0 99h0.0\"/><g class=\"terminal\">\n",
       "<path d=\"M335.5 99h0.0\"/><path d=\"M364.0 99h0.0\"/><rect height=\"22\" rx=\"10\" ry=\"10\" width=\"28.5\" x=\"335.5\" y=\"88\"/><text x=\"349.75\" y=\"103\">7</text></g></g><path d=\"M364.0 99a10 10 0 0 1 10 10v190a10 10 0 0 0 10 10\"/><path d=\"M315.5 309a10 10 0 0 0 10 -10v-220a10 10 0 0 1 10 -10\"/><g>\n",
       "<path d=\"M335.5 69h0.0\"/><path d=\"M364.0 69h0.0\"/><g class=\"terminal\">\n",
       "<path d=\"M335.5 69h0.0\"/><path d=\"M364.0 69h0.0\"/><rect height=\"22\" rx=\"10\" ry=\"10\" width=\"28.5\" x=\"335.5\" y=\"58\"/><text x=\"349.75\" y=\"73\">6</text></g></g><path d=\"M364.0 69a10 10 0 0 1 10 10v220a10 10 0 0 0 10 10\"/><path d=\"M315.5 309a10 10 0 0 0 10 -10v-250a10 10 0 0 1 10 -10\"/><g>\n",
       "<path d=\"M335.5 39h0.0\"/><path d=\"M364.0 39h0.0\"/><g class=\"terminal\">\n",
       "<path d=\"M335.5 39h0.0\"/><path d=\"M364.0 39h0.0\"/><rect height=\"22\" rx=\"10\" ry=\"10\" width=\"28.5\" x=\"335.5\" y=\"28\"/><text x=\"349.75\" y=\"43\">5</text></g></g><path d=\"M364.0 39a10 10 0 0 1 10 10v250a10 10 0 0 0 10 10\"/><path d=\"M315.5 309h20\"/><g>\n",
       "<path d=\"M335.5 309h0.0\"/><path d=\"M364.0 309h0.0\"/><g class=\"terminal\">\n",
       "<path d=\"M335.5 309h0.0\"/><path d=\"M364.0 309h0.0\"/><rect height=\"22\" rx=\"10\" ry=\"10\" width=\"28.5\" x=\"335.5\" y=\"298\"/><text x=\"349.75\" y=\"313\">%</text></g></g><path d=\"M364.0 309h20\"/><path d=\"M315.5 309a10 10 0 0 1 10 10v10a10 10 0 0 0 10 10\"/><g>\n",
       "<path d=\"M335.5 339h0.0\"/><path d=\"M364.0 339h0.0\"/><g class=\"terminal\">\n",
       "<path d=\"M335.5 339h0.0\"/><path d=\"M364.0 339h0.0\"/><rect height=\"22\" rx=\"10\" ry=\"10\" width=\"28.5\" x=\"335.5\" y=\"328\"/><text x=\"349.75\" y=\"343\">&amp;</text></g></g><path d=\"M364.0 339a10 10 0 0 0 10 -10v-10a10 10 0 0 1 10 -10\"/><path d=\"M315.5 309a10 10 0 0 1 10 10v40a10 10 0 0 0 10 10\"/><g>\n",
       "<path d=\"M335.5 369h0.0\"/><path d=\"M364.0 369h0.0\"/><g class=\"terminal\">\n",
       "<path d=\"M335.5 369h0.0\"/><path d=\"M364.0 369h0.0\"/><rect height=\"22\" rx=\"10\" ry=\"10\" width=\"28.5\" x=\"335.5\" y=\"358\"/><text x=\"349.75\" y=\"373\">'</text></g></g><path d=\"M364.0 369a10 10 0 0 0 10 -10v-40a10 10 0 0 1 10 -10\"/><path d=\"M315.5 309a10 10 0 0 1 10 10v70a10 10 0 0 0 10 10\"/><g>\n",
       "<path d=\"M335.5 399h0.0\"/><path d=\"M364.0 399h0.0\"/><g class=\"terminal\">\n",
       "<path d=\"M335.5 399h0.0\"/><path d=\"M364.0 399h0.0\"/><rect height=\"22\" rx=\"10\" ry=\"10\" width=\"28.5\" x=\"335.5\" y=\"388\"/><text x=\"349.75\" y=\"403\">(</text></g></g><path d=\"M364.0 399a10 10 0 0 0 10 -10v-70a10 10 0 0 1 10 -10\"/><path d=\"M315.5 309a10 10 0 0 1 10 10v100a10 10 0 0 0 10 10\"/><g>\n",
       "<path d=\"M335.5 429h0.0\"/><path d=\"M364.0 429h0.0\"/><g class=\"terminal\">\n",
       "<path d=\"M335.5 429h0.0\"/><path d=\"M364.0 429h0.0\"/><rect height=\"22\" rx=\"10\" ry=\"10\" width=\"28.5\" x=\"335.5\" y=\"418\"/><text x=\"349.75\" y=\"433\">)</text></g></g><path d=\"M364.0 429a10 10 0 0 0 10 -10v-100a10 10 0 0 1 10 -10\"/><path d=\"M315.5 309a10 10 0 0 1 10 10v130a10 10 0 0 0 10 10\"/><g>\n",
       "<path d=\"M335.5 459h0.0\"/><path d=\"M364.0 459h0.0\"/><g class=\"terminal\">\n",
       "<path d=\"M335.5 459h0.0\"/><path d=\"M364.0 459h0.0\"/><rect height=\"22\" rx=\"10\" ry=\"10\" width=\"28.5\" x=\"335.5\" y=\"448\"/><text x=\"349.75\" y=\"463\">*</text></g></g><path d=\"M364.0 459a10 10 0 0 0 10 -10v-130a10 10 0 0 1 10 -10\"/><path d=\"M315.5 309a10 10 0 0 1 10 10v160a10 10 0 0 0 10 10\"/><g>\n",
       "<path d=\"M335.5 489h0.0\"/><path d=\"M364.0 489h0.0\"/><g class=\"terminal\">\n",
       "<path d=\"M335.5 489h0.0\"/><path d=\"M364.0 489h0.0\"/><rect height=\"22\" rx=\"10\" ry=\"10\" width=\"28.5\" x=\"335.5\" y=\"478\"/><text x=\"349.75\" y=\"493\">+</text></g></g><path d=\"M364.0 489a10 10 0 0 0 10 -10v-160a10 10 0 0 1 10 -10\"/><path d=\"M315.5 309a10 10 0 0 1 10 10v190a10 10 0 0 0 10 10\"/><g>\n",
       "<path d=\"M335.5 519h0.0\"/><path d=\"M364.0 519h0.0\"/><g class=\"terminal\">\n",
       "<path d=\"M335.5 519h0.0\"/><path d=\"M364.0 519h0.0\"/><rect height=\"22\" rx=\"10\" ry=\"10\" width=\"28.5\" x=\"335.5\" y=\"508\"/><text x=\"349.75\" y=\"523\">,</text></g></g><path d=\"M364.0 519a10 10 0 0 0 10 -10v-190a10 10 0 0 1 10 -10\"/><path d=\"M315.5 309a10 10 0 0 1 10 10v220a10 10 0 0 0 10 10\"/><g>\n",
       "<path d=\"M335.5 549h0.0\"/><path d=\"M364.0 549h0.0\"/><g class=\"terminal\">\n",
       "<path d=\"M335.5 549h0.0\"/><path d=\"M364.0 549h0.0\"/><rect height=\"22\" rx=\"10\" ry=\"10\" width=\"28.5\" x=\"335.5\" y=\"538\"/><text x=\"349.75\" y=\"553\">-</text></g></g><path d=\"M364.0 549a10 10 0 0 0 10 -10v-220a10 10 0 0 1 10 -10\"/><path d=\"M315.5 309a10 10 0 0 1 10 10v250a10 10 0 0 0 10 10\"/><g>\n",
       "<path d=\"M335.5 579h0.0\"/><path d=\"M364.0 579h0.0\"/><g class=\"terminal\">\n",
       "<path d=\"M335.5 579h0.0\"/><path d=\"M364.0 579h0.0\"/><rect height=\"22\" rx=\"10\" ry=\"10\" width=\"28.5\" x=\"335.5\" y=\"568\"/><text x=\"349.75\" y=\"583\">.</text></g></g><path d=\"M364.0 579a10 10 0 0 0 10 -10v-250a10 10 0 0 1 10 -10\"/></g><path d=\"M384.0 309a10 10 0 0 1 10 10v269a10 10 0 0 0 10 10\"/><path d=\"M384.0 20a10 10 0 0 1 10 10v269a10 10 0 0 0 10 10\"/><g>\n",
       "<path d=\"M404.0 309h0.0\"/><path d=\"M472.5 309h0.0\"/><path d=\"M404.0 309a10 10 0 0 0 10 -10v-10a10 10 0 0 1 10 -10\"/><g>\n",
       "<path d=\"M424.0 279h0.0\"/><path d=\"M452.5 279h0.0\"/><g class=\"terminal\">\n",
       "<path d=\"M424.0 279h0.0\"/><path d=\"M452.5 279h0.0\"/><rect height=\"22\" rx=\"10\" ry=\"10\" width=\"28.5\" x=\"424.0\" y=\"268\"/><text x=\"438.25\" y=\"283\">[</text></g></g><path d=\"M452.5 279a10 10 0 0 1 10 10v10a10 10 0 0 0 10 10\"/><path d=\"M404.0 309a10 10 0 0 0 10 -10v-40a10 10 0 0 1 10 -10\"/><g>\n",
       "<path d=\"M424.0 249h0.0\"/><path d=\"M452.5 249h0.0\"/><g class=\"terminal\">\n",
       "<path d=\"M424.0 249h0.0\"/><path d=\"M452.5 249h0.0\"/><rect height=\"22\" rx=\"10\" ry=\"10\" width=\"28.5\" x=\"424.0\" y=\"238\"/><text x=\"438.25\" y=\"253\">@</text></g></g><path d=\"M452.5 249a10 10 0 0 1 10 10v40a10 10 0 0 0 10 10\"/><path d=\"M404.0 309a10 10 0 0 0 10 -10v-70a10 10 0 0 1 10 -10\"/><g>\n",
       "<path d=\"M424.0 219h0.0\"/><path d=\"M452.5 219h0.0\"/><g class=\"terminal\">\n",
       "<path d=\"M424.0 219h0.0\"/><path d=\"M452.5 219h0.0\"/><rect height=\"22\" rx=\"10\" ry=\"10\" width=\"28.5\" x=\"424.0\" y=\"208\"/><text x=\"438.25\" y=\"223\">?</text></g></g><path d=\"M452.5 219a10 10 0 0 1 10 10v70a10 10 0 0 0 10 10\"/><path d=\"M404.0 309a10 10 0 0 0 10 -10v-100a10 10 0 0 1 10 -10\"/><g>\n",
       "<path d=\"M424.0 189h0.0\"/><path d=\"M452.5 189h0.0\"/><g class=\"terminal\">\n",
       "<path d=\"M424.0 189h0.0\"/><path d=\"M452.5 189h0.0\"/><rect height=\"22\" rx=\"10\" ry=\"10\" width=\"28.5\" x=\"424.0\" y=\"178\"/><text x=\"438.25\" y=\"193\">&gt;</text></g></g><path d=\"M452.5 189a10 10 0 0 1 10 10v100a10 10 0 0 0 10 10\"/><path d=\"M404.0 309a10 10 0 0 0 10 -10v-130a10 10 0 0 1 10 -10\"/><g>\n",
       "<path d=\"M424.0 159h0.0\"/><path d=\"M452.5 159h0.0\"/><g class=\"terminal\">\n",
       "<path d=\"M424.0 159h0.0\"/><path d=\"M452.5 159h0.0\"/><rect height=\"22\" rx=\"10\" ry=\"10\" width=\"28.5\" x=\"424.0\" y=\"148\"/><text x=\"438.25\" y=\"163\">=</text></g></g><path d=\"M452.5 159a10 10 0 0 1 10 10v130a10 10 0 0 0 10 10\"/><path d=\"M404.0 309a10 10 0 0 0 10 -10v-160a10 10 0 0 1 10 -10\"/><g>\n",
       "<path d=\"M424.0 129h0.0\"/><path d=\"M452.5 129h0.0\"/><g class=\"terminal\">\n",
       "<path d=\"M424.0 129h0.0\"/><path d=\"M452.5 129h0.0\"/><rect height=\"22\" rx=\"10\" ry=\"10\" width=\"28.5\" x=\"424.0\" y=\"118\"/><text x=\"438.25\" y=\"133\">&lt;</text></g></g><path d=\"M452.5 129a10 10 0 0 1 10 10v160a10 10 0 0 0 10 10\"/><path d=\"M404.0 309a10 10 0 0 0 10 -10v-190a10 10 0 0 1 10 -10\"/><g>\n",
       "<path d=\"M424.0 99h0.0\"/><path d=\"M452.5 99h0.0\"/><g class=\"terminal\">\n",
       "<path d=\"M424.0 99h0.0\"/><path d=\"M452.5 99h0.0\"/><rect height=\"22\" rx=\"10\" ry=\"10\" width=\"28.5\" x=\"424.0\" y=\"88\"/><text x=\"438.25\" y=\"103\">;</text></g></g><path d=\"M452.5 99a10 10 0 0 1 10 10v190a10 10 0 0 0 10 10\"/><path d=\"M404.0 309a10 10 0 0 0 10 -10v-220a10 10 0 0 1 10 -10\"/><g>\n",
       "<path d=\"M424.0 69h0.0\"/><path d=\"M452.5 69h0.0\"/><g class=\"terminal\">\n",
       "<path d=\"M424.0 69h0.0\"/><path d=\"M452.5 69h0.0\"/><rect height=\"22\" rx=\"10\" ry=\"10\" width=\"28.5\" x=\"424.0\" y=\"58\"/><text x=\"438.25\" y=\"73\">:</text></g></g><path d=\"M452.5 69a10 10 0 0 1 10 10v220a10 10 0 0 0 10 10\"/><path d=\"M404.0 309a10 10 0 0 0 10 -10v-250a10 10 0 0 1 10 -10\"/><g>\n",
       "<path d=\"M424.0 39h0.0\"/><path d=\"M452.5 39h0.0\"/><g class=\"terminal\">\n",
       "<path d=\"M424.0 39h0.0\"/><path d=\"M452.5 39h0.0\"/><rect height=\"22\" rx=\"10\" ry=\"10\" width=\"28.5\" x=\"424.0\" y=\"28\"/><text x=\"438.25\" y=\"43\">/</text></g></g><path d=\"M452.5 39a10 10 0 0 1 10 10v250a10 10 0 0 0 10 10\"/><path d=\"M404.0 309h20\"/><g>\n",
       "<path d=\"M424.0 309h0.0\"/><path d=\"M452.5 309h0.0\"/><g class=\"terminal\">\n",
       "<path d=\"M424.0 309h0.0\"/><path d=\"M452.5 309h0.0\"/><rect height=\"22\" rx=\"10\" ry=\"10\" width=\"28.5\" x=\"424.0\" y=\"298\"/><text x=\"438.25\" y=\"313\">\\</text></g></g><path d=\"M452.5 309h20\"/><path d=\"M404.0 309a10 10 0 0 1 10 10v10a10 10 0 0 0 10 10\"/><g>\n",
       "<path d=\"M424.0 339h0.0\"/><path d=\"M452.5 339h0.0\"/><g class=\"terminal\">\n",
       "<path d=\"M424.0 339h0.0\"/><path d=\"M452.5 339h0.0\"/><rect height=\"22\" rx=\"10\" ry=\"10\" width=\"28.5\" x=\"424.0\" y=\"328\"/><text x=\"438.25\" y=\"343\">]</text></g></g><path d=\"M452.5 339a10 10 0 0 0 10 -10v-10a10 10 0 0 1 10 -10\"/><path d=\"M404.0 309a10 10 0 0 1 10 10v40a10 10 0 0 0 10 10\"/><g>\n",
       "<path d=\"M424.0 369h0.0\"/><path d=\"M452.5 369h0.0\"/><g class=\"terminal\">\n",
       "<path d=\"M424.0 369h0.0\"/><path d=\"M452.5 369h0.0\"/><rect height=\"22\" rx=\"10\" ry=\"10\" width=\"28.5\" x=\"424.0\" y=\"358\"/><text x=\"438.25\" y=\"373\">^</text></g></g><path d=\"M452.5 369a10 10 0 0 0 10 -10v-40a10 10 0 0 1 10 -10\"/><path d=\"M404.0 309a10 10 0 0 1 10 10v70a10 10 0 0 0 10 10\"/><g>\n",
       "<path d=\"M424.0 399h0.0\"/><path d=\"M452.5 399h0.0\"/><g class=\"terminal\">\n",
       "<path d=\"M424.0 399h0.0\"/><path d=\"M452.5 399h0.0\"/><rect height=\"22\" rx=\"10\" ry=\"10\" width=\"28.5\" x=\"424.0\" y=\"388\"/><text x=\"438.25\" y=\"403\">_</text></g></g><path d=\"M452.5 399a10 10 0 0 0 10 -10v-70a10 10 0 0 1 10 -10\"/><path d=\"M404.0 309a10 10 0 0 1 10 10v100a10 10 0 0 0 10 10\"/><g>\n",
       "<path d=\"M424.0 429h0.0\"/><path d=\"M452.5 429h0.0\"/><g class=\"terminal\">\n",
       "<path d=\"M424.0 429h0.0\"/><path d=\"M452.5 429h0.0\"/><rect height=\"22\" rx=\"10\" ry=\"10\" width=\"28.5\" x=\"424.0\" y=\"418\"/><text x=\"438.25\" y=\"433\">`</text></g></g><path d=\"M452.5 429a10 10 0 0 0 10 -10v-100a10 10 0 0 1 10 -10\"/><path d=\"M404.0 309a10 10 0 0 1 10 10v130a10 10 0 0 0 10 10\"/><g>\n",
       "<path d=\"M424.0 459h0.0\"/><path d=\"M452.5 459h0.0\"/><g class=\"terminal\">\n",
       "<path d=\"M424.0 459h0.0\"/><path d=\"M452.5 459h0.0\"/><rect height=\"22\" rx=\"10\" ry=\"10\" width=\"28.5\" x=\"424.0\" y=\"448\"/><text x=\"438.25\" y=\"463\">{</text></g></g><path d=\"M452.5 459a10 10 0 0 0 10 -10v-130a10 10 0 0 1 10 -10\"/><path d=\"M404.0 309a10 10 0 0 1 10 10v160a10 10 0 0 0 10 10\"/><g>\n",
       "<path d=\"M424.0 489h0.0\"/><path d=\"M452.5 489h0.0\"/><g class=\"terminal\">\n",
       "<path d=\"M424.0 489h0.0\"/><path d=\"M452.5 489h0.0\"/><rect height=\"22\" rx=\"10\" ry=\"10\" width=\"28.5\" x=\"424.0\" y=\"478\"/><text x=\"438.25\" y=\"493\">|</text></g></g><path d=\"M452.5 489a10 10 0 0 0 10 -10v-160a10 10 0 0 1 10 -10\"/><path d=\"M404.0 309a10 10 0 0 1 10 10v190a10 10 0 0 0 10 10\"/><g>\n",
       "<path d=\"M424.0 519h0.0\"/><path d=\"M452.5 519h0.0\"/><g class=\"terminal\">\n",
       "<path d=\"M424.0 519h0.0\"/><path d=\"M452.5 519h0.0\"/><rect height=\"22\" rx=\"10\" ry=\"10\" width=\"28.5\" x=\"424.0\" y=\"508\"/><text x=\"438.25\" y=\"523\">}</text></g></g><path d=\"M452.5 519a10 10 0 0 0 10 -10v-190a10 10 0 0 1 10 -10\"/><path d=\"M404.0 309a10 10 0 0 1 10 10v220a10 10 0 0 0 10 10\"/><g>\n",
       "<path d=\"M424.0 549h0.0\"/><path d=\"M452.5 549h0.0\"/><g class=\"terminal\">\n",
       "<path d=\"M424.0 549h0.0\"/><path d=\"M452.5 549h0.0\"/><rect height=\"22\" rx=\"10\" ry=\"10\" width=\"28.5\" x=\"424.0\" y=\"538\"/><text x=\"438.25\" y=\"553\">~</text></g></g><path d=\"M452.5 549a10 10 0 0 0 10 -10v-220a10 10 0 0 1 10 -10\"/><path d=\"M404.0 309a10 10 0 0 1 10 10v250a10 10 0 0 0 10 10\"/><g>\n",
       "<path d=\"M424.0 579h0.0\"/><path d=\"M452.5 579h0.0\"/><g class=\"terminal\">\n",
       "<path d=\"M424.0 579h0.0\"/><path d=\"M452.5 579h0.0\"/><rect height=\"22\" rx=\"10\" ry=\"10\" width=\"28.5\" x=\"424.0\" y=\"568\"/><text x=\"438.25\" y=\"583\"> </text></g></g><path d=\"M452.5 579a10 10 0 0 0 10 -10v-250a10 10 0 0 1 10 -10\"/></g><path d=\"M472.5 309a10 10 0 0 1 10 10v269a10 10 0 0 0 10 10\"/><path d=\"M472.5 20a10 10 0 0 1 10 10v269a10 10 0 0 0 10 10\"/><g>\n",
       "<path d=\"M492.5 309h0.0\"/><path d=\"M561.0 309h0.0\"/><path d=\"M492.5 309a10 10 0 0 0 10 -10v-10a10 10 0 0 1 10 -10\"/><g>\n",
       "<path d=\"M512.5 279h0.0\"/><path d=\"M541.0 279h0.0\"/><g class=\"terminal\">\n",
       "<path d=\"M512.5 279h0.0\"/><path d=\"M541.0 279h0.0\"/><rect height=\"22\" rx=\"10\" ry=\"10\" width=\"28.5\" x=\"512.5\" y=\"268\"/><text x=\"526.75\" y=\"283\">\t</text></g></g><path d=\"M541.0 279a10 10 0 0 1 10 10v10a10 10 0 0 0 10 10\"/><path d=\"M492.5 309h20\"/><g>\n",
       "<path d=\"M512.5 309h0.0\"/><path d=\"M541.0 309h0.0\"/><g class=\"terminal\">\n",
       "<path d=\"M512.5 309h0.0\"/><path d=\"M541.0 309h0.0\"/><rect height=\"22\" rx=\"10\" ry=\"10\" width=\"28.5\" x=\"512.5\" y=\"298\"/><text x=\"526.75\" y=\"313\">\n",
       "</text></g></g><path d=\"M541.0 309h20\"/></g><path d=\"M561.0 309h10\"/></g><path d=\"M 571.0 309 h 20 m -10 -10 v 20 m 10 -20 v 20\"/></g></svg>"
      ],
      "text/plain": [
       "<IPython.core.display.SVG object>"
      ]
     },
     "metadata": {},
     "output_type": "display_data"
    }
   ],
   "source": [
    "syntax_diagram(CSV_GRAMMAR)"
   ]
  },
  {
   "cell_type": "markdown",
   "metadata": {
    "slideshow": {
     "slide_type": "subslide"
    }
   },
   "source": [
    "We generate `1000` values, and evaluate the `process_vehicle()` with each."
   ]
  },
  {
   "cell_type": "code",
   "execution_count": 18,
   "metadata": {
    "execution": {
     "iopub.execute_input": "2023-01-07T14:16:12.365767Z",
     "iopub.status.busy": "2023-01-07T14:16:12.315470Z",
     "iopub.status.idle": "2023-01-07T14:16:14.902847Z",
     "shell.execute_reply": "2023-01-07T14:16:14.903168Z"
    },
    "slideshow": {
     "slide_type": "subslide"
    }
   },
   "outputs": [
    {
     "name": "stdout",
     "output_type": "stream",
     "text": [
      "0 valid strings, that is GrammarFuzzer generated 0.000000% valid entries from 1000 inputs\n",
      "Total time of 2.612104 seconds\n"
     ]
    }
   ],
   "source": [
    "gf = GrammarFuzzer(CSV_GRAMMAR, min_nonterminals=4)\n",
    "trials = 1000\n",
    "valid: List[str] = []\n",
    "time = 0\n",
    "for i in range(trials):\n",
    "    with Timer() as t:\n",
    "        vehicle_info = gf.fuzz()\n",
    "        try:\n",
    "            process_vehicle(vehicle_info)\n",
    "            valid.append(vehicle_info)\n",
    "        except:\n",
    "            pass\n",
    "        time += t.elapsed_time()\n",
    "print(\"%d valid strings, that is GrammarFuzzer generated %f%% valid entries from %d inputs\" %\n",
    "      (len(valid), len(valid) * 100.0 / trials, trials))\n",
    "print(\"Total time of %f seconds\" % time)"
   ]
  },
  {
   "cell_type": "markdown",
   "metadata": {
    "slideshow": {
     "slide_type": "subslide"
    }
   },
   "source": [
    "This is obviously not working. But why?"
   ]
  },
  {
   "cell_type": "code",
   "execution_count": 19,
   "metadata": {
    "execution": {
     "iopub.execute_input": "2023-01-07T14:16:14.939215Z",
     "iopub.status.busy": "2023-01-07T14:16:14.938859Z",
     "iopub.status.idle": "2023-01-07T14:16:14.940325Z",
     "shell.execute_reply": "2023-01-07T14:16:14.940554Z"
    },
    "slideshow": {
     "slide_type": "subslide"
    }
   },
   "outputs": [
    {
     "name": "stdout",
     "output_type": "stream",
     "text": [
      "'9w9J\\'/,LU<\"l,|,Y,Zv)Amvx,c\\n'\t Invalid entry\n",
      "'(n8].H7,qolS'\t not enough values to unpack (expected at least 4, got 2)\n",
      "'\\nQoLWQ,jSa'\t not enough values to unpack (expected at least 4, got 2)\n",
      "'K1,\\n,RE,fq,%,,sT+aAb'\t Invalid entry\n",
      "\"m,d,,8j4'),-yQ,B7\"\t Invalid entry\n",
      "'g4,s1\\t[}{.,M,<,\\nzd,.am'\t Invalid entry\n",
      "',Z[,z,c,#x1,gc.F'\t Invalid entry\n",
      "'pWs,rT`,R'\t not enough values to unpack (expected at least 4, got 3)\n",
      "'iN,br%,Q,R'\t Invalid entry\n",
      "'ol,\\nH<\\tn,^#,=A'\t Invalid entry\n"
     ]
    }
   ],
   "source": [
    "gf = GrammarFuzzer(CSV_GRAMMAR, min_nonterminals=4)\n",
    "trials = 10\n",
    "time = 0\n",
    "for i in range(trials):\n",
    "    vehicle_info = gf.fuzz()\n",
    "    try:\n",
    "        print(repr(vehicle_info), end=\"\")\n",
    "        process_vehicle(vehicle_info)\n",
    "    except Exception as e:\n",
    "        print(\"\\t\", e)\n",
    "    else:\n",
    "        print()"
   ]
  },
  {
   "cell_type": "markdown",
   "metadata": {
    "slideshow": {
     "slide_type": "subslide"
    }
   },
   "source": [
    "None of the entries will get through unless the fuzzer can produce either `van` or `car`.\n",
    "Indeed, the reason is that the grammar itself does not capture the complete information about the format. So here is another idea. We modify the `GrammarFuzzer` to know a bit about our format."
   ]
  },
  {
   "cell_type": "code",
   "execution_count": 20,
   "metadata": {
    "execution": {
     "iopub.execute_input": "2023-01-07T14:16:14.942556Z",
     "iopub.status.busy": "2023-01-07T14:16:14.942223Z",
     "iopub.status.idle": "2023-01-07T14:16:14.943592Z",
     "shell.execute_reply": "2023-01-07T14:16:14.943345Z"
    },
    "slideshow": {
     "slide_type": "skip"
    }
   },
   "outputs": [],
   "source": [
    "import copy"
   ]
  },
  {
   "cell_type": "code",
   "execution_count": 21,
   "metadata": {
    "execution": {
     "iopub.execute_input": "2023-01-07T14:16:14.945266Z",
     "iopub.status.busy": "2023-01-07T14:16:14.944951Z",
     "iopub.status.idle": "2023-01-07T14:16:14.946162Z",
     "shell.execute_reply": "2023-01-07T14:16:14.946355Z"
    },
    "slideshow": {
     "slide_type": "skip"
    }
   },
   "outputs": [],
   "source": [
    "import random"
   ]
  },
  {
   "cell_type": "code",
   "execution_count": 22,
   "metadata": {
    "execution": {
     "iopub.execute_input": "2023-01-07T14:16:14.949709Z",
     "iopub.status.busy": "2023-01-07T14:16:14.949101Z",
     "iopub.status.idle": "2023-01-07T14:16:14.951190Z",
     "shell.execute_reply": "2023-01-07T14:16:14.951438Z"
    },
    "slideshow": {
     "slide_type": "skip"
    }
   },
   "outputs": [],
   "source": [
    "class PooledGrammarFuzzer(GrammarFuzzer):\n",
    "    def __init__(self, *args, **kwargs):\n",
    "        super().__init__(*args, **kwargs)\n",
    "        self._node_cache = {}\n",
    "\n",
    "    def update_cache(self, key, values):\n",
    "        self._node_cache[key] = values\n",
    "\n",
    "    def expand_node_randomly(self, node):\n",
    "        (symbol, children) = node\n",
    "        assert children is None\n",
    "        if symbol in self._node_cache:\n",
    "            if random.randint(0, 1) == 1:\n",
    "                return super().expand_node_randomly(node)\n",
    "            return copy.deepcopy(random.choice(self._node_cache[symbol]))\n",
    "        return super().expand_node_randomly(node)"
   ]
  },
  {
   "cell_type": "markdown",
   "metadata": {
    "slideshow": {
     "slide_type": "subslide"
    }
   },
   "source": [
    "Let us try again!"
   ]
  },
  {
   "cell_type": "code",
   "execution_count": 23,
   "metadata": {
    "execution": {
     "iopub.execute_input": "2023-01-07T14:16:14.963763Z",
     "iopub.status.busy": "2023-01-07T14:16:14.963428Z",
     "iopub.status.idle": "2023-01-07T14:16:14.968215Z",
     "shell.execute_reply": "2023-01-07T14:16:14.968462Z"
    },
    "slideshow": {
     "slide_type": "subslide"
    }
   },
   "outputs": [
    {
     "name": "stdout",
     "output_type": "stream",
     "text": [
      "',h,van,|'\t Invalid entry\n",
      "'M,w:K,car,car,van'\t Invalid entry\n",
      "'J,?Y,van,van,car,J,~D+'\t Invalid entry\n",
      "'S4,car,car,o'\t invalid literal for int() with base 10: 'S4'\n",
      "'2*-,van'\t not enough values to unpack (expected at least 4, got 2)\n",
      "'van,%,5,]'\t Invalid entry\n",
      "'van,G3{y,j,h:'\t Invalid entry\n",
      "'$0;o,M,car,car'\t Invalid entry\n",
      "'2d,f,e'\t not enough values to unpack (expected at least 4, got 3)\n",
      "'/~NE,car,car'\t not enough values to unpack (expected at least 4, got 3)\n"
     ]
    }
   ],
   "source": [
    "gf = PooledGrammarFuzzer(CSV_GRAMMAR, min_nonterminals=4)\n",
    "gf.update_cache('<item>', [\n",
    "    ('<item>', [('car', [])]),\n",
    "    ('<item>', [('van', [])]),\n",
    "])\n",
    "trials = 10\n",
    "time = 0\n",
    "for i in range(trials):\n",
    "    vehicle_info = gf.fuzz()\n",
    "    try:\n",
    "        print(repr(vehicle_info), end=\"\")\n",
    "        process_vehicle(vehicle_info)\n",
    "    except Exception as e:\n",
    "        print(\"\\t\", e)\n",
    "    else:\n",
    "        print()"
   ]
  },
  {
   "cell_type": "markdown",
   "metadata": {
    "slideshow": {
     "slide_type": "subslide"
    }
   },
   "source": [
    "At least we are getting somewhere! It would be really nice if _we could incorporate what we know about the sample data in our fuzzer._ In fact, it would be nice if we could _extract_ the template and valid values from samples, and use them in our fuzzing. How do we do that?  The quick answer to this question is: Use a *parser*.  "
   ]
  },
  {
   "cell_type": "markdown",
   "metadata": {
    "slideshow": {
     "slide_type": "slide"
    }
   },
   "source": [
    "## Using a Parser\n",
    "\n",
    "Generally speaking, a _parser_ is the part of a a program that processes (structured) input.  The parsers we discuss in this chapter transform an input string into a _derivation tree_ (discussed in the [chapter on efficient grammar fuzzing](GrammarFuzzer.ipynb)).  From a user's perspective, all it takes to parse an input is two steps: \n",
    "\n",
    "1. Initialize the parser with a grammar, as in\n",
    "```\n",
    "parser = Parser(grammar)\n",
    "```\n",
    "\n",
    "2. Using the parser to retrieve a list of derivation trees:\n",
    "\n",
    "```python\n",
    "trees = parser.parse(input)\n",
    "```\n",
    "\n",
    "Once we have parsed a tree, we can use it just as the derivation trees produced from grammar fuzzing.\n",
    "\n",
    "We discuss a number of such parsers, in particular\n",
    "* [parsing expression grammar parsers](#Parsing-Expression-Grammars) (`PEGParser`), which are very efficient, but limited to specific grammar structure; and\n",
    "* [Earley parsers](#Parsing-Context-Free-Grammars) (`EarleyParser`), which accept any kind of context-free grammars.\n",
    "\n",
    "If you just want to _use_ parsers (say, because your main focus is testing), you can just stop here and move on [to the next chapter](LangFuzzer.ipynb), where we learn how to make use of parsed inputs to mutate and recombine them.  If you want to _understand_ how parsers work, though, this chapter is right for you."
   ]
  },
  {
   "cell_type": "markdown",
   "metadata": {
    "slideshow": {
     "slide_type": "slide"
    }
   },
   "source": [
    "## An Ad Hoc Parser\n",
    "\n",
    "As we saw in the previous section, programmers often have to extract parts of data that obey certain rules. For example, for *CSV* files, each element in a row is separated by *commas*, and multiple raws are used to store the data."
   ]
  },
  {
   "cell_type": "markdown",
   "metadata": {
    "slideshow": {
     "slide_type": "fragment"
    }
   },
   "source": [
    "To extract the information, we write an ad hoc parser `simple_parse_csv()`."
   ]
  },
  {
   "cell_type": "code",
   "execution_count": 24,
   "metadata": {
    "execution": {
     "iopub.execute_input": "2023-01-07T14:16:14.971115Z",
     "iopub.status.busy": "2023-01-07T14:16:14.969933Z",
     "iopub.status.idle": "2023-01-07T14:16:14.972128Z",
     "shell.execute_reply": "2023-01-07T14:16:14.972376Z"
    },
    "slideshow": {
     "slide_type": "fragment"
    }
   },
   "outputs": [],
   "source": [
    "def simple_parse_csv(mystring: str) -> DerivationTree:\n",
    "    children: List[DerivationTree] = []\n",
    "    tree = (START_SYMBOL, children)\n",
    "    for i, line in enumerate(mystring.split('\\n')):\n",
    "        children.append((\"record %d\" % i, [(cell, [])\n",
    "                                           for cell in line.split(',')]))\n",
    "    return tree"
   ]
  },
  {
   "cell_type": "markdown",
   "metadata": {
    "slideshow": {
     "slide_type": "subslide"
    }
   },
   "source": [
    "We also change the default orientation of the graph to *left to right* rather than *top to bottom* for easier viewing using `lr_graph()`."
   ]
  },
  {
   "cell_type": "code",
   "execution_count": 25,
   "metadata": {
    "execution": {
     "iopub.execute_input": "2023-01-07T14:16:14.974268Z",
     "iopub.status.busy": "2023-01-07T14:16:14.973610Z",
     "iopub.status.idle": "2023-01-07T14:16:14.975422Z",
     "shell.execute_reply": "2023-01-07T14:16:14.975671Z"
    },
    "slideshow": {
     "slide_type": "fragment"
    }
   },
   "outputs": [],
   "source": [
    "def lr_graph(dot):\n",
    "    dot.attr('node', shape='plain')\n",
    "    dot.graph_attr['rankdir'] = 'LR'"
   ]
  },
  {
   "cell_type": "markdown",
   "metadata": {
    "slideshow": {
     "slide_type": "fragment"
    }
   },
   "source": [
    "The `display_tree()` shows the structure of our CSV file after parsing."
   ]
  },
  {
   "cell_type": "code",
   "execution_count": 26,
   "metadata": {
    "execution": {
     "iopub.execute_input": "2023-01-07T14:16:14.981286Z",
     "iopub.status.busy": "2023-01-07T14:16:14.980863Z",
     "iopub.status.idle": "2023-01-07T14:16:15.244447Z",
     "shell.execute_reply": "2023-01-07T14:16:15.244762Z"
    },
    "slideshow": {
     "slide_type": "fragment"
    }
   },
   "outputs": [
    {
     "data": {
      "image/svg+xml": [
       "<?xml version=\"1.0\" encoding=\"UTF-8\" standalone=\"no\"?>\n",
       "<!DOCTYPE svg PUBLIC \"-//W3C//DTD SVG 1.1//EN\"\n",
       " \"http://www.w3.org/Graphics/SVG/1.1/DTD/svg11.dtd\">\n",
       "<!-- Generated by graphviz version 7.0.2 (20221119.0110)\n",
       " -->\n",
       "<!-- Pages: 1 -->\n",
       "<svg width=\"214pt\" height=\"254pt\"\n",
       " viewBox=\"0.00 0.00 214.00 254.00\" xmlns=\"http://www.w3.org/2000/svg\" xmlns:xlink=\"http://www.w3.org/1999/xlink\">\n",
       "<g id=\"graph0\" class=\"graph\" transform=\"scale(1 1) rotate(0) translate(4 250)\">\n",
       "<polygon fill=\"white\" stroke=\"none\" points=\"-4,4 -4,-250 210,-250 210,4 -4,4\"/>\n",
       "<!-- 0 -->\n",
       "<g id=\"node1\" class=\"node\">\n",
       "<title>0</title>\n",
       "<text text-anchor=\"middle\" x=\"20\" y=\"-118.8\" font-family=\"Times,serif\" font-size=\"14.00\">&lt;start&gt;</text>\n",
       "</g>\n",
       "<!-- 1 -->\n",
       "<g id=\"node2\" class=\"node\">\n",
       "<title>1</title>\n",
       "<text text-anchor=\"middle\" x=\"99\" y=\"-168.8\" font-family=\"Times,serif\" font-size=\"14.00\">record 0</text>\n",
       "</g>\n",
       "<!-- 0&#45;&gt;1 -->\n",
       "<g id=\"edge1\" class=\"edge\">\n",
       "<title>0&#45;&gt;1</title>\n",
       "<path fill=\"none\" stroke=\"black\" d=\"M32.36,-129.88C44.08,-137.48 62.61,-149.52 77,-158.87\"/>\n",
       "<polygon fill=\"black\" stroke=\"black\" points=\"75.03,-161.76 85.32,-164.27 78.84,-155.89 75.03,-161.76\"/>\n",
       "</g>\n",
       "<!-- 6 -->\n",
       "<g id=\"node7\" class=\"node\">\n",
       "<title>6</title>\n",
       "<text text-anchor=\"middle\" x=\"99\" y=\"-69.8\" font-family=\"Times,serif\" font-size=\"14.00\">record 1</text>\n",
       "</g>\n",
       "<!-- 0&#45;&gt;6 -->\n",
       "<g id=\"edge6\" class=\"edge\">\n",
       "<title>0&#45;&gt;6</title>\n",
       "<path fill=\"none\" stroke=\"black\" d=\"M32.69,-115.06C44.41,-107.6 62.69,-95.97 76.94,-86.9\"/>\n",
       "<polygon fill=\"black\" stroke=\"black\" points=\"78.61,-89.99 85.17,-81.66 74.85,-84.08 78.61,-89.99\"/>\n",
       "</g>\n",
       "<!-- 2 -->\n",
       "<g id=\"node3\" class=\"node\">\n",
       "<title>2</title>\n",
       "<text text-anchor=\"middle\" x=\"182\" y=\"-234.8\" font-family=\"Times,serif\" font-size=\"14.00\">1997</text>\n",
       "</g>\n",
       "<!-- 1&#45;&gt;2 -->\n",
       "<g id=\"edge2\" class=\"edge\">\n",
       "<title>1&#45;&gt;2</title>\n",
       "<path fill=\"none\" stroke=\"black\" d=\"M108.04,-179.9C119.03,-189.91 139.51,-208.16 158,-222.5 158.96,-223.25 159.95,-224 160.96,-224.75\"/>\n",
       "<polygon fill=\"black\" stroke=\"black\" points=\"158.66,-227.41 168.84,-230.36 162.72,-221.71 158.66,-227.41\"/>\n",
       "</g>\n",
       "<!-- 3 -->\n",
       "<g id=\"node4\" class=\"node\">\n",
       "<title>3</title>\n",
       "<text text-anchor=\"middle\" x=\"182\" y=\"-201.8\" font-family=\"Times,serif\" font-size=\"14.00\">van</text>\n",
       "</g>\n",
       "<!-- 1&#45;&gt;3 -->\n",
       "<g id=\"edge3\" class=\"edge\">\n",
       "<title>1&#45;&gt;3</title>\n",
       "<path fill=\"none\" stroke=\"black\" d=\"M118.38,-179.99C131.25,-185.23 148.41,-192.22 161.51,-197.56\"/>\n",
       "<polygon fill=\"black\" stroke=\"black\" points=\"160.18,-200.8 170.76,-201.33 162.82,-194.31 160.18,-200.8\"/>\n",
       "</g>\n",
       "<!-- 4 -->\n",
       "<g id=\"node5\" class=\"node\">\n",
       "<title>4</title>\n",
       "<text text-anchor=\"middle\" x=\"182\" y=\"-168.8\" font-family=\"Times,serif\" font-size=\"14.00\">Ford</text>\n",
       "</g>\n",
       "<!-- 1&#45;&gt;4 -->\n",
       "<g id=\"edge4\" class=\"edge\">\n",
       "<title>1&#45;&gt;4</title>\n",
       "<path fill=\"none\" stroke=\"black\" d=\"M121.71,-172.5C132.86,-172.5 146.45,-172.5 157.81,-172.5\"/>\n",
       "<polygon fill=\"black\" stroke=\"black\" points=\"157.52,-176 167.52,-172.5 157.52,-169 157.52,-176\"/>\n",
       "</g>\n",
       "<!-- 5 -->\n",
       "<g id=\"node6\" class=\"node\">\n",
       "<title>5</title>\n",
       "<text text-anchor=\"middle\" x=\"182\" y=\"-135.8\" font-family=\"Times,serif\" font-size=\"14.00\">E350</text>\n",
       "</g>\n",
       "<!-- 1&#45;&gt;5 -->\n",
       "<g id=\"edge5\" class=\"edge\">\n",
       "<title>1&#45;&gt;5</title>\n",
       "<path fill=\"none\" stroke=\"black\" d=\"M118.38,-165.01C129.96,-160.29 145.02,-154.16 157.47,-149.09\"/>\n",
       "<polygon fill=\"black\" stroke=\"black\" points=\"158.65,-152.39 166.59,-145.37 156.01,-145.9 158.65,-152.39\"/>\n",
       "</g>\n",
       "<!-- 7 -->\n",
       "<g id=\"node8\" class=\"node\">\n",
       "<title>7</title>\n",
       "<text text-anchor=\"middle\" x=\"182\" y=\"-102.8\" font-family=\"Times,serif\" font-size=\"14.00\">2000</text>\n",
       "</g>\n",
       "<!-- 6&#45;&gt;7 -->\n",
       "<g id=\"edge7\" class=\"edge\">\n",
       "<title>6&#45;&gt;7</title>\n",
       "<path fill=\"none\" stroke=\"black\" d=\"M118.38,-80.99C130.1,-85.76 145.39,-91.99 157.93,-97.1\"/>\n",
       "<polygon fill=\"black\" stroke=\"black\" points=\"156.5,-100.3 167.08,-100.83 159.14,-93.81 156.5,-100.3\"/>\n",
       "</g>\n",
       "<!-- 8 -->\n",
       "<g id=\"node9\" class=\"node\">\n",
       "<title>8</title>\n",
       "<text text-anchor=\"middle\" x=\"182\" y=\"-69.8\" font-family=\"Times,serif\" font-size=\"14.00\">car</text>\n",
       "</g>\n",
       "<!-- 6&#45;&gt;8 -->\n",
       "<g id=\"edge8\" class=\"edge\">\n",
       "<title>6&#45;&gt;8</title>\n",
       "<path fill=\"none\" stroke=\"black\" d=\"M121.71,-73.5C134.37,-73.5 150.19,-73.5 162.3,-73.5\"/>\n",
       "<polygon fill=\"black\" stroke=\"black\" points=\"162.15,-77 172.15,-73.5 162.15,-70 162.15,-77\"/>\n",
       "</g>\n",
       "<!-- 9 -->\n",
       "<g id=\"node10\" class=\"node\">\n",
       "<title>9</title>\n",
       "<text text-anchor=\"middle\" x=\"182\" y=\"-36.8\" font-family=\"Times,serif\" font-size=\"14.00\">Mercury</text>\n",
       "</g>\n",
       "<!-- 6&#45;&gt;9 -->\n",
       "<g id=\"edge9\" class=\"edge\">\n",
       "<title>6&#45;&gt;9</title>\n",
       "<path fill=\"none\" stroke=\"black\" d=\"M118.38,-66.01C128.32,-61.96 140.83,-56.87 152.05,-52.3\"/>\n",
       "<polygon fill=\"black\" stroke=\"black\" points=\"153.35,-55.54 161.29,-48.53 150.71,-49.06 153.35,-55.54\"/>\n",
       "</g>\n",
       "<!-- 10 -->\n",
       "<g id=\"node11\" class=\"node\">\n",
       "<title>10</title>\n",
       "<text text-anchor=\"middle\" x=\"182\" y=\"-3.8\" font-family=\"Times,serif\" font-size=\"14.00\">Cougar</text>\n",
       "</g>\n",
       "<!-- 6&#45;&gt;10 -->\n",
       "<g id=\"edge10\" class=\"edge\">\n",
       "<title>6&#45;&gt;10</title>\n",
       "<path fill=\"none\" stroke=\"black\" d=\"M108.5,-66.02C119.68,-56.25 140.01,-38.73 158,-24.5 159.14,-23.6 160.32,-22.68 161.51,-21.76\"/>\n",
       "<polygon fill=\"black\" stroke=\"black\" points=\"163.47,-24.68 169.38,-15.88 159.27,-19.07 163.47,-24.68\"/>\n",
       "</g>\n",
       "</g>\n",
       "</svg>\n"
      ],
      "text/plain": [
       "<graphviz.graphs.Digraph at 0x1075df370>"
      ]
     },
     "execution_count": 26,
     "metadata": {},
     "output_type": "execute_result"
    }
   ],
   "source": [
    "tree = simple_parse_csv(mystring)\n",
    "display_tree(tree, graph_attr=lr_graph)"
   ]
  },
  {
   "cell_type": "markdown",
   "metadata": {
    "slideshow": {
     "slide_type": "fragment"
    }
   },
   "source": [
    "This is of course simple. What if we encounter slightly more complexity? Again, another example from the Wikipedia."
   ]
  },
  {
   "cell_type": "code",
   "execution_count": 27,
   "metadata": {
    "execution": {
     "iopub.execute_input": "2023-01-07T14:16:15.247054Z",
     "iopub.status.busy": "2023-01-07T14:16:15.246743Z",
     "iopub.status.idle": "2023-01-07T14:16:15.248078Z",
     "shell.execute_reply": "2023-01-07T14:16:15.248317Z"
    },
    "slideshow": {
     "slide_type": "subslide"
    }
   },
   "outputs": [
    {
     "name": "stdout",
     "output_type": "stream",
     "text": [
      "1997,Ford,E350,\"ac, abs, moon\",3000.00\n"
     ]
    }
   ],
   "source": [
    "mystring = '''\\\n",
    "1997,Ford,E350,\"ac, abs, moon\",3000.00\\\n",
    "'''\n",
    "print(mystring)"
   ]
  },
  {
   "cell_type": "markdown",
   "metadata": {
    "slideshow": {
     "slide_type": "fragment"
    }
   },
   "source": [
    "We define a new annotation method `highlight_node()` to mark the nodes that are interesting."
   ]
  },
  {
   "cell_type": "code",
   "execution_count": 28,
   "metadata": {
    "execution": {
     "iopub.execute_input": "2023-01-07T14:16:15.250560Z",
     "iopub.status.busy": "2023-01-07T14:16:15.250261Z",
     "iopub.status.idle": "2023-01-07T14:16:15.251559Z",
     "shell.execute_reply": "2023-01-07T14:16:15.251768Z"
    },
    "slideshow": {
     "slide_type": "fragment"
    }
   },
   "outputs": [],
   "source": [
    "def highlight_node(predicate):\n",
    "    def hl_node(dot, nid, symbol, ann):\n",
    "        if predicate(dot, nid, symbol, ann):\n",
    "            dot.node(repr(nid), dot_escape(symbol), fontcolor='red')\n",
    "        else:\n",
    "            dot.node(repr(nid), dot_escape(symbol))\n",
    "    return hl_node"
   ]
  },
  {
   "cell_type": "markdown",
   "metadata": {
    "slideshow": {
     "slide_type": "subslide"
    }
   },
   "source": [
    "Using `highlight_node()` we can highlight particular nodes that we were wrongly parsed."
   ]
  },
  {
   "cell_type": "code",
   "execution_count": 29,
   "metadata": {
    "execution": {
     "iopub.execute_input": "2023-01-07T14:16:15.253876Z",
     "iopub.status.busy": "2023-01-07T14:16:15.253492Z",
     "iopub.status.idle": "2023-01-07T14:16:15.254678Z",
     "shell.execute_reply": "2023-01-07T14:16:15.254921Z"
    },
    "slideshow": {
     "slide_type": "fragment"
    }
   },
   "outputs": [],
   "source": [
    "tree = simple_parse_csv(mystring)\n",
    "bad_nodes = {5, 6, 7, 12, 13, 20, 22, 23, 24, 25}"
   ]
  },
  {
   "cell_type": "code",
   "execution_count": 30,
   "metadata": {
    "execution": {
     "iopub.execute_input": "2023-01-07T14:16:15.256842Z",
     "iopub.status.busy": "2023-01-07T14:16:15.256516Z",
     "iopub.status.idle": "2023-01-07T14:16:15.257648Z",
     "shell.execute_reply": "2023-01-07T14:16:15.257887Z"
    },
    "slideshow": {
     "slide_type": "fragment"
    }
   },
   "outputs": [],
   "source": [
    "def hl_predicate(_d, nid, _s, _a): return nid in bad_nodes"
   ]
  },
  {
   "cell_type": "code",
   "execution_count": 31,
   "metadata": {
    "execution": {
     "iopub.execute_input": "2023-01-07T14:16:15.260091Z",
     "iopub.status.busy": "2023-01-07T14:16:15.259756Z",
     "iopub.status.idle": "2023-01-07T14:16:15.503775Z",
     "shell.execute_reply": "2023-01-07T14:16:15.504029Z"
    },
    "slideshow": {
     "slide_type": "fragment"
    }
   },
   "outputs": [
    {
     "data": {
      "image/svg+xml": [
       "<?xml version=\"1.0\" encoding=\"UTF-8\" standalone=\"no\"?>\n",
       "<!DOCTYPE svg PUBLIC \"-//W3C//DTD SVG 1.1//EN\"\n",
       " \"http://www.w3.org/Graphics/SVG/1.1/DTD/svg11.dtd\">\n",
       "<!-- Generated by graphviz version 7.0.2 (20221119.0110)\n",
       " -->\n",
       "<!-- Pages: 1 -->\n",
       "<svg width=\"211pt\" height=\"221pt\"\n",
       " viewBox=\"0.00 0.00 211.00 221.00\" xmlns=\"http://www.w3.org/2000/svg\" xmlns:xlink=\"http://www.w3.org/1999/xlink\">\n",
       "<g id=\"graph0\" class=\"graph\" transform=\"scale(1 1) rotate(0) translate(4 217)\">\n",
       "<polygon fill=\"white\" stroke=\"none\" points=\"-4,4 -4,-217 207,-217 207,4 -4,4\"/>\n",
       "<!-- 0 -->\n",
       "<g id=\"node1\" class=\"node\">\n",
       "<title>0</title>\n",
       "<text text-anchor=\"middle\" x=\"20\" y=\"-102.8\" font-family=\"Times,serif\" font-size=\"14.00\">&lt;start&gt;</text>\n",
       "</g>\n",
       "<!-- 1 -->\n",
       "<g id=\"node2\" class=\"node\">\n",
       "<title>1</title>\n",
       "<text text-anchor=\"middle\" x=\"99\" y=\"-102.8\" font-family=\"Times,serif\" font-size=\"14.00\">record 0</text>\n",
       "</g>\n",
       "<!-- 0&#45;&gt;1 -->\n",
       "<g id=\"edge1\" class=\"edge\">\n",
       "<title>0&#45;&gt;1</title>\n",
       "<path fill=\"none\" stroke=\"black\" d=\"M39.64,-106.5C47.23,-106.5 56.23,-106.5 64.87,-106.5\"/>\n",
       "<polygon fill=\"black\" stroke=\"black\" points=\"64.74,-110 74.74,-106.5 64.74,-103 64.74,-110\"/>\n",
       "</g>\n",
       "<!-- 2 -->\n",
       "<g id=\"node3\" class=\"node\">\n",
       "<title>2</title>\n",
       "<text text-anchor=\"middle\" x=\"180.5\" y=\"-201.8\" font-family=\"Times,serif\" font-size=\"14.00\">1997</text>\n",
       "</g>\n",
       "<!-- 1&#45;&gt;2 -->\n",
       "<g id=\"edge2\" class=\"edge\">\n",
       "<title>1&#45;&gt;2</title>\n",
       "<path fill=\"none\" stroke=\"black\" d=\"M104.11,-113.97C112.75,-129.26 134,-164.78 158,-189.5 158.58,-190.1 159.19,-190.7 159.82,-191.28\"/>\n",
       "<polygon fill=\"black\" stroke=\"black\" points=\"157.31,-193.76 167.28,-197.36 161.73,-188.33 157.31,-193.76\"/>\n",
       "</g>\n",
       "<!-- 3 -->\n",
       "<g id=\"node4\" class=\"node\">\n",
       "<title>3</title>\n",
       "<text text-anchor=\"middle\" x=\"180.5\" y=\"-168.8\" font-family=\"Times,serif\" font-size=\"14.00\">Ford</text>\n",
       "</g>\n",
       "<!-- 1&#45;&gt;3 -->\n",
       "<g id=\"edge3\" class=\"edge\">\n",
       "<title>1&#45;&gt;3</title>\n",
       "<path fill=\"none\" stroke=\"black\" d=\"M108.1,-113.81C119.17,-123.72 139.74,-141.87 158,-156.5 158.79,-157.14 159.61,-157.78 160.44,-158.43\"/>\n",
       "<polygon fill=\"black\" stroke=\"black\" points=\"158.03,-161 168.12,-164.24 162.26,-155.42 158.03,-161\"/>\n",
       "</g>\n",
       "<!-- 4 -->\n",
       "<g id=\"node5\" class=\"node\">\n",
       "<title>4</title>\n",
       "<text text-anchor=\"middle\" x=\"180.5\" y=\"-135.8\" font-family=\"Times,serif\" font-size=\"14.00\">E350</text>\n",
       "</g>\n",
       "<!-- 1&#45;&gt;4 -->\n",
       "<g id=\"edge4\" class=\"edge\">\n",
       "<title>1&#45;&gt;4</title>\n",
       "<path fill=\"none\" stroke=\"black\" d=\"M118.04,-113.99C129.26,-118.65 143.82,-124.69 155.95,-129.72\"/>\n",
       "<polygon fill=\"black\" stroke=\"black\" points=\"154.26,-132.81 164.84,-133.41 156.95,-126.35 154.26,-132.81\"/>\n",
       "</g>\n",
       "<!-- 5 -->\n",
       "<g id=\"node6\" class=\"node\">\n",
       "<title>5</title>\n",
       "<text text-anchor=\"middle\" x=\"180.5\" y=\"-102.8\" font-family=\"Times,serif\" font-size=\"14.00\" fill=\"red\">&quot;ac</text>\n",
       "</g>\n",
       "<!-- 1&#45;&gt;5 -->\n",
       "<g id=\"edge5\" class=\"edge\">\n",
       "<title>1&#45;&gt;5</title>\n",
       "<path fill=\"none\" stroke=\"black\" d=\"M121.72,-106.5C133.62,-106.5 148.24,-106.5 159.8,-106.5\"/>\n",
       "<polygon fill=\"black\" stroke=\"black\" points=\"159.72,-110 169.72,-106.5 159.72,-103 159.72,-110\"/>\n",
       "</g>\n",
       "<!-- 6 -->\n",
       "<g id=\"node7\" class=\"node\">\n",
       "<title>6</title>\n",
       "<text text-anchor=\"middle\" x=\"180.5\" y=\"-69.8\" font-family=\"Times,serif\" font-size=\"14.00\" fill=\"red\"> abs</text>\n",
       "</g>\n",
       "<!-- 1&#45;&gt;6 -->\n",
       "<g id=\"edge6\" class=\"edge\">\n",
       "<title>1&#45;&gt;6</title>\n",
       "<path fill=\"none\" stroke=\"black\" d=\"M118.04,-99.01C130.25,-93.95 146.39,-87.24 159.07,-81.98\"/>\n",
       "<polygon fill=\"black\" stroke=\"black\" points=\"160.24,-85.29 168.13,-78.22 157.55,-78.82 160.24,-85.29\"/>\n",
       "</g>\n",
       "<!-- 7 -->\n",
       "<g id=\"node8\" class=\"node\">\n",
       "<title>7</title>\n",
       "<text text-anchor=\"middle\" x=\"180.5\" y=\"-36.8\" font-family=\"Times,serif\" font-size=\"14.00\" fill=\"red\"> moon&quot;</text>\n",
       "</g>\n",
       "<!-- 1&#45;&gt;7 -->\n",
       "<g id=\"edge7\" class=\"edge\">\n",
       "<title>1&#45;&gt;7</title>\n",
       "<path fill=\"none\" stroke=\"black\" d=\"M108.57,-99.11C119.83,-89.44 140.24,-72.02 158,-57.5 159.12,-56.59 160.28,-55.65 161.44,-54.71\"/>\n",
       "<polygon fill=\"black\" stroke=\"black\" points=\"163.41,-57.62 169.06,-48.66 159.05,-52.14 163.41,-57.62\"/>\n",
       "</g>\n",
       "<!-- 8 -->\n",
       "<g id=\"node9\" class=\"node\">\n",
       "<title>8</title>\n",
       "<text text-anchor=\"middle\" x=\"180.5\" y=\"-3.8\" font-family=\"Times,serif\" font-size=\"14.00\">3000.00</text>\n",
       "</g>\n",
       "<!-- 1&#45;&gt;8 -->\n",
       "<g id=\"edge8\" class=\"edge\">\n",
       "<title>1&#45;&gt;8</title>\n",
       "<path fill=\"none\" stroke=\"black\" d=\"M104.19,-99.19C112.98,-84.19 134.49,-49.3 158,-24.5 158.72,-23.74 159.47,-22.99 160.24,-22.25\"/>\n",
       "<polygon fill=\"black\" stroke=\"black\" points=\"162.4,-25.01 167.77,-15.88 157.88,-19.67 162.4,-25.01\"/>\n",
       "</g>\n",
       "</g>\n",
       "</svg>\n"
      ],
      "text/plain": [
       "<graphviz.graphs.Digraph at 0x1075de6b0>"
      ]
     },
     "execution_count": 31,
     "metadata": {},
     "output_type": "execute_result"
    }
   ],
   "source": [
    "highlight_err_node = highlight_node(hl_predicate)\n",
    "display_tree(tree, log=False, node_attr=highlight_err_node,\n",
    "             graph_attr=lr_graph)"
   ]
  },
  {
   "cell_type": "markdown",
   "metadata": {
    "slideshow": {
     "slide_type": "fragment"
    }
   },
   "source": [
    "The marked nodes indicate where our parsing went wrong. We can of course extend our parser to understand quotes. First we define some of the helper functions `parse_quote()`, `find_comma()` and `comma_split()`"
   ]
  },
  {
   "cell_type": "code",
   "execution_count": 32,
   "metadata": {
    "execution": {
     "iopub.execute_input": "2023-01-07T14:16:15.506407Z",
     "iopub.status.busy": "2023-01-07T14:16:15.506091Z",
     "iopub.status.idle": "2023-01-07T14:16:15.507284Z",
     "shell.execute_reply": "2023-01-07T14:16:15.507520Z"
    },
    "slideshow": {
     "slide_type": "fragment"
    }
   },
   "outputs": [],
   "source": [
    "def parse_quote(string, i):\n",
    "    v = string[i + 1:].find('\"')\n",
    "    return v + i + 1 if v >= 0 else -1"
   ]
  },
  {
   "cell_type": "code",
   "execution_count": 33,
   "metadata": {
    "execution": {
     "iopub.execute_input": "2023-01-07T14:16:15.509717Z",
     "iopub.status.busy": "2023-01-07T14:16:15.509384Z",
     "iopub.status.idle": "2023-01-07T14:16:15.510468Z",
     "shell.execute_reply": "2023-01-07T14:16:15.510766Z"
    },
    "slideshow": {
     "slide_type": "subslide"
    }
   },
   "outputs": [],
   "source": [
    "def find_comma(string, i):\n",
    "    slen = len(string)\n",
    "    while i < slen:\n",
    "        if string[i] == '\"':\n",
    "            i = parse_quote(string, i)\n",
    "            if i == -1:\n",
    "                return -1\n",
    "        if string[i] == ',':\n",
    "            return i\n",
    "        i += 1\n",
    "    return -1"
   ]
  },
  {
   "cell_type": "code",
   "execution_count": 34,
   "metadata": {
    "execution": {
     "iopub.execute_input": "2023-01-07T14:16:15.512833Z",
     "iopub.status.busy": "2023-01-07T14:16:15.512563Z",
     "iopub.status.idle": "2023-01-07T14:16:15.513577Z",
     "shell.execute_reply": "2023-01-07T14:16:15.513880Z"
    },
    "slideshow": {
     "slide_type": "subslide"
    }
   },
   "outputs": [],
   "source": [
    "def comma_split(string):\n",
    "    slen = len(string)\n",
    "    i = 0\n",
    "    while i < slen:\n",
    "        c = find_comma(string, i)\n",
    "        if c == -1:\n",
    "            yield string[i:]\n",
    "            return\n",
    "        else:\n",
    "            yield string[i:c]\n",
    "        i = c + 1"
   ]
  },
  {
   "cell_type": "markdown",
   "metadata": {
    "slideshow": {
     "slide_type": "fragment"
    }
   },
   "source": [
    "We can update our `parse_csv()` procedure to use our advanced quote parser."
   ]
  },
  {
   "cell_type": "code",
   "execution_count": 35,
   "metadata": {
    "execution": {
     "iopub.execute_input": "2023-01-07T14:16:15.516057Z",
     "iopub.status.busy": "2023-01-07T14:16:15.515730Z",
     "iopub.status.idle": "2023-01-07T14:16:15.516935Z",
     "shell.execute_reply": "2023-01-07T14:16:15.517220Z"
    },
    "slideshow": {
     "slide_type": "subslide"
    }
   },
   "outputs": [],
   "source": [
    "def parse_csv(mystring):\n",
    "    children = []\n",
    "    tree = (START_SYMBOL, children)\n",
    "    for i, line in enumerate(mystring.split('\\n')):\n",
    "        children.append((\"record %d\" % i, [(cell, [])\n",
    "                                           for cell in comma_split(line)]))\n",
    "    return tree"
   ]
  },
  {
   "cell_type": "markdown",
   "metadata": {
    "slideshow": {
     "slide_type": "fragment"
    }
   },
   "source": [
    "Our new `parse_csv()` can now handle quotes correctly."
   ]
  },
  {
   "cell_type": "code",
   "execution_count": 36,
   "metadata": {
    "execution": {
     "iopub.execute_input": "2023-01-07T14:16:15.521929Z",
     "iopub.status.busy": "2023-01-07T14:16:15.521604Z",
     "iopub.status.idle": "2023-01-07T14:16:15.769334Z",
     "shell.execute_reply": "2023-01-07T14:16:15.769661Z"
    },
    "slideshow": {
     "slide_type": "fragment"
    }
   },
   "outputs": [
    {
     "data": {
      "image/svg+xml": [
       "<?xml version=\"1.0\" encoding=\"UTF-8\" standalone=\"no\"?>\n",
       "<!DOCTYPE svg PUBLIC \"-//W3C//DTD SVG 1.1//EN\"\n",
       " \"http://www.w3.org/Graphics/SVG/1.1/DTD/svg11.dtd\">\n",
       "<!-- Generated by graphviz version 7.0.2 (20221119.0110)\n",
       " -->\n",
       "<!-- Pages: 1 -->\n",
       "<svg width=\"255pt\" height=\"155pt\"\n",
       " viewBox=\"0.00 0.00 255.00 155.00\" xmlns=\"http://www.w3.org/2000/svg\" xmlns:xlink=\"http://www.w3.org/1999/xlink\">\n",
       "<g id=\"graph0\" class=\"graph\" transform=\"scale(1 1) rotate(0) translate(4 151)\">\n",
       "<polygon fill=\"white\" stroke=\"none\" points=\"-4,4 -4,-151 251,-151 251,4 -4,4\"/>\n",
       "<!-- 0 -->\n",
       "<g id=\"node1\" class=\"node\">\n",
       "<title>0</title>\n",
       "<text text-anchor=\"middle\" x=\"20\" y=\"-69.8\" font-family=\"Times,serif\" font-size=\"14.00\">&lt;start&gt;</text>\n",
       "</g>\n",
       "<!-- 1 -->\n",
       "<g id=\"node2\" class=\"node\">\n",
       "<title>1</title>\n",
       "<text text-anchor=\"middle\" x=\"99\" y=\"-69.8\" font-family=\"Times,serif\" font-size=\"14.00\">record 0</text>\n",
       "</g>\n",
       "<!-- 0&#45;&gt;1 -->\n",
       "<g id=\"edge1\" class=\"edge\">\n",
       "<title>0&#45;&gt;1</title>\n",
       "<path fill=\"none\" stroke=\"black\" d=\"M39.64,-73.5C47.23,-73.5 56.23,-73.5 64.87,-73.5\"/>\n",
       "<polygon fill=\"black\" stroke=\"black\" points=\"64.74,-77 74.74,-73.5 64.74,-70 64.74,-77\"/>\n",
       "</g>\n",
       "<!-- 2 -->\n",
       "<g id=\"node3\" class=\"node\">\n",
       "<title>2</title>\n",
       "<text text-anchor=\"middle\" x=\"202.5\" y=\"-135.8\" font-family=\"Times,serif\" font-size=\"14.00\">1997</text>\n",
       "</g>\n",
       "<!-- 1&#45;&gt;2 -->\n",
       "<g id=\"edge2\" class=\"edge\">\n",
       "<title>1&#45;&gt;2</title>\n",
       "<path fill=\"none\" stroke=\"black\" d=\"M106.85,-80.89C117.08,-91.57 137.38,-111.36 158,-123.5 164.22,-127.16 171.42,-130.22 178.15,-132.65\"/>\n",
       "<polygon fill=\"black\" stroke=\"black\" points=\"176.75,-135.87 187.34,-135.67 178.93,-129.22 176.75,-135.87\"/>\n",
       "</g>\n",
       "<!-- 3 -->\n",
       "<g id=\"node4\" class=\"node\">\n",
       "<title>3</title>\n",
       "<text text-anchor=\"middle\" x=\"202.5\" y=\"-102.8\" font-family=\"Times,serif\" font-size=\"14.00\">Ford</text>\n",
       "</g>\n",
       "<!-- 1&#45;&gt;3 -->\n",
       "<g id=\"edge3\" class=\"edge\">\n",
       "<title>1&#45;&gt;3</title>\n",
       "<path fill=\"none\" stroke=\"black\" d=\"M121.77,-80.58C138.62,-86.06 161.88,-93.62 178.93,-99.16\"/>\n",
       "<polygon fill=\"black\" stroke=\"black\" points=\"177.55,-102.39 188.14,-102.16 179.71,-95.74 177.55,-102.39\"/>\n",
       "</g>\n",
       "<!-- 4 -->\n",
       "<g id=\"node5\" class=\"node\">\n",
       "<title>4</title>\n",
       "<text text-anchor=\"middle\" x=\"202.5\" y=\"-69.8\" font-family=\"Times,serif\" font-size=\"14.00\">E350</text>\n",
       "</g>\n",
       "<!-- 1&#45;&gt;4 -->\n",
       "<g id=\"edge4\" class=\"edge\">\n",
       "<title>1&#45;&gt;4</title>\n",
       "<path fill=\"none\" stroke=\"black\" d=\"M121.77,-73.5C137.99,-73.5 160.15,-73.5 176.99,-73.5\"/>\n",
       "<polygon fill=\"black\" stroke=\"black\" points=\"176.63,-77 186.63,-73.5 176.63,-70 176.63,-77\"/>\n",
       "</g>\n",
       "<!-- 5 -->\n",
       "<g id=\"node6\" class=\"node\">\n",
       "<title>5</title>\n",
       "<text text-anchor=\"middle\" x=\"202.5\" y=\"-36.8\" font-family=\"Times,serif\" font-size=\"14.00\">&quot;ac, abs, moon&quot;</text>\n",
       "</g>\n",
       "<!-- 1&#45;&gt;5 -->\n",
       "<g id=\"edge5\" class=\"edge\">\n",
       "<title>1&#45;&gt;5</title>\n",
       "<path fill=\"none\" stroke=\"black\" d=\"M121.77,-66.42C135.27,-62.03 152.89,-56.31 168.12,-51.35\"/>\n",
       "<polygon fill=\"black\" stroke=\"black\" points=\"168.84,-54.8 177.27,-48.38 166.67,-48.14 168.84,-54.8\"/>\n",
       "</g>\n",
       "<!-- 6 -->\n",
       "<g id=\"node7\" class=\"node\">\n",
       "<title>6</title>\n",
       "<text text-anchor=\"middle\" x=\"202.5\" y=\"-3.8\" font-family=\"Times,serif\" font-size=\"14.00\">3000.00</text>\n",
       "</g>\n",
       "<!-- 1&#45;&gt;6 -->\n",
       "<g id=\"edge6\" class=\"edge\">\n",
       "<title>1&#45;&gt;6</title>\n",
       "<path fill=\"none\" stroke=\"black\" d=\"M106.91,-66.32C117.22,-55.93 137.61,-36.64 158,-24.5 161.63,-22.34 165.58,-20.36 169.57,-18.57\"/>\n",
       "<polygon fill=\"black\" stroke=\"black\" points=\"170.71,-21.88 178.64,-14.86 168.06,-15.4 170.71,-21.88\"/>\n",
       "</g>\n",
       "</g>\n",
       "</svg>\n"
      ],
      "text/plain": [
       "<graphviz.graphs.Digraph at 0x1075de800>"
      ]
     },
     "execution_count": 36,
     "metadata": {},
     "output_type": "execute_result"
    }
   ],
   "source": [
    "tree = parse_csv(mystring)\n",
    "display_tree(tree, graph_attr=lr_graph)"
   ]
  },
  {
   "cell_type": "markdown",
   "metadata": {
    "slideshow": {
     "slide_type": "fragment"
    }
   },
   "source": [
    "That of course does not survive long:"
   ]
  },
  {
   "cell_type": "code",
   "execution_count": 37,
   "metadata": {
    "execution": {
     "iopub.execute_input": "2023-01-07T14:16:15.772026Z",
     "iopub.status.busy": "2023-01-07T14:16:15.771646Z",
     "iopub.status.idle": "2023-01-07T14:16:15.772938Z",
     "shell.execute_reply": "2023-01-07T14:16:15.773128Z"
    },
    "slideshow": {
     "slide_type": "subslide"
    }
   },
   "outputs": [
    {
     "name": "stdout",
     "output_type": "stream",
     "text": [
      "1999,Chevy,\"Venture \\\"Extended Edition, Very Large\\\"\",,5000.00\n"
     ]
    }
   ],
   "source": [
    "mystring = '''\\\n",
    "1999,Chevy,\"Venture \\\\\"Extended Edition, Very Large\\\\\"\",,5000.00\\\n",
    "'''\n",
    "print(mystring)"
   ]
  },
  {
   "cell_type": "markdown",
   "metadata": {
    "slideshow": {
     "slide_type": "fragment"
    }
   },
   "source": [
    "A few embedded quotes are sufficient to confuse our parser again."
   ]
  },
  {
   "cell_type": "code",
   "execution_count": 38,
   "metadata": {
    "execution": {
     "iopub.execute_input": "2023-01-07T14:16:15.777783Z",
     "iopub.status.busy": "2023-01-07T14:16:15.777243Z",
     "iopub.status.idle": "2023-01-07T14:16:16.029216Z",
     "shell.execute_reply": "2023-01-07T14:16:16.029414Z"
    },
    "slideshow": {
     "slide_type": "fragment"
    }
   },
   "outputs": [
    {
     "data": {
      "image/svg+xml": [
       "<?xml version=\"1.0\" encoding=\"UTF-8\" standalone=\"no\"?>\n",
       "<!DOCTYPE svg PUBLIC \"-//W3C//DTD SVG 1.1//EN\"\n",
       " \"http://www.w3.org/Graphics/SVG/1.1/DTD/svg11.dtd\">\n",
       "<!-- Generated by graphviz version 7.0.2 (20221119.0110)\n",
       " -->\n",
       "<!-- Pages: 1 -->\n",
       "<svg width=\"323pt\" height=\"174pt\"\n",
       " viewBox=\"0.00 0.00 323.00 174.00\" xmlns=\"http://www.w3.org/2000/svg\" xmlns:xlink=\"http://www.w3.org/1999/xlink\">\n",
       "<g id=\"graph0\" class=\"graph\" transform=\"scale(1 1) rotate(0) translate(4 170)\">\n",
       "<polygon fill=\"white\" stroke=\"none\" points=\"-4,4 -4,-170 319,-170 319,4 -4,4\"/>\n",
       "<!-- 0 -->\n",
       "<g id=\"node1\" class=\"node\">\n",
       "<title>0</title>\n",
       "<text text-anchor=\"middle\" x=\"20\" y=\"-71.8\" font-family=\"Times,serif\" font-size=\"14.00\">&lt;start&gt;</text>\n",
       "</g>\n",
       "<!-- 1 -->\n",
       "<g id=\"node2\" class=\"node\">\n",
       "<title>1</title>\n",
       "<text text-anchor=\"middle\" x=\"99\" y=\"-71.8\" font-family=\"Times,serif\" font-size=\"14.00\">record 0</text>\n",
       "</g>\n",
       "<!-- 0&#45;&gt;1 -->\n",
       "<g id=\"edge1\" class=\"edge\">\n",
       "<title>0&#45;&gt;1</title>\n",
       "<path fill=\"none\" stroke=\"black\" d=\"M39.64,-75.5C47.23,-75.5 56.23,-75.5 64.87,-75.5\"/>\n",
       "<polygon fill=\"black\" stroke=\"black\" points=\"64.74,-79 74.74,-75.5 64.74,-72 64.74,-79\"/>\n",
       "</g>\n",
       "<!-- 2 -->\n",
       "<g id=\"node3\" class=\"node\">\n",
       "<title>2</title>\n",
       "<text text-anchor=\"middle\" x=\"236.5\" y=\"-154.8\" font-family=\"Times,serif\" font-size=\"14.00\">1999</text>\n",
       "</g>\n",
       "<!-- 1&#45;&gt;2 -->\n",
       "<g id=\"edge2\" class=\"edge\">\n",
       "<title>1&#45;&gt;2</title>\n",
       "<path fill=\"none\" stroke=\"black\" d=\"M104.03,-82.73C112.22,-96.71 132.25,-127.4 158,-142.5 174.24,-152.03 195.31,-155.94 211.38,-157.52\"/>\n",
       "<polygon fill=\"black\" stroke=\"black\" points=\"210.79,-160.98 221.02,-158.21 211.3,-154 210.79,-160.98\"/>\n",
       "</g>\n",
       "<!-- 3 -->\n",
       "<g id=\"node4\" class=\"node\">\n",
       "<title>3</title>\n",
       "<text text-anchor=\"middle\" x=\"236.5\" y=\"-121.8\" font-family=\"Times,serif\" font-size=\"14.00\">Chevy</text>\n",
       "</g>\n",
       "<!-- 1&#45;&gt;3 -->\n",
       "<g id=\"edge3\" class=\"edge\">\n",
       "<title>1&#45;&gt;3</title>\n",
       "<path fill=\"none\" stroke=\"black\" d=\"M110.17,-82.86C121.35,-90.61 140.13,-102.63 158,-109.5 173.89,-115.61 192.55,-119.55 207.58,-121.99\"/>\n",
       "<polygon fill=\"black\" stroke=\"black\" points=\"206.82,-125.42 217.23,-123.42 207.85,-118.5 206.82,-125.42\"/>\n",
       "</g>\n",
       "<!-- 4 -->\n",
       "<g id=\"node5\" class=\"node\">\n",
       "<title>4</title>\n",
       "<text text-anchor=\"middle\" x=\"236.5\" y=\"-88.8\" font-family=\"Times,serif\" font-size=\"14.00\" fill=\"red\">&quot;Venture \\&quot;Extended Edition</text>\n",
       "</g>\n",
       "<!-- 1&#45;&gt;4 -->\n",
       "<g id=\"edge4\" class=\"edge\">\n",
       "<title>1&#45;&gt;4</title>\n",
       "<path fill=\"none\" stroke=\"black\" d=\"M121.77,-78.23C133.57,-79.71 148.89,-81.63 164.45,-83.59\"/>\n",
       "<polygon fill=\"black\" stroke=\"black\" points=\"163.91,-87.05 174.26,-84.82 164.78,-80.1 163.91,-87.05\"/>\n",
       "</g>\n",
       "<!-- 5 -->\n",
       "<g id=\"node6\" class=\"node\">\n",
       "<title>5</title>\n",
       "<text text-anchor=\"middle\" x=\"236.5\" y=\"-55.8\" font-family=\"Times,serif\" font-size=\"14.00\" fill=\"red\"> Very Large\\&quot;&quot;</text>\n",
       "</g>\n",
       "<!-- 1&#45;&gt;5 -->\n",
       "<g id=\"edge5\" class=\"edge\">\n",
       "<title>1&#45;&gt;5</title>\n",
       "<path fill=\"none\" stroke=\"black\" d=\"M121.77,-72.93C138.7,-70.93 162.89,-68.07 184.6,-65.51\"/>\n",
       "<polygon fill=\"black\" stroke=\"black\" points=\"185,-68.99 194.52,-64.34 184.17,-62.04 185,-68.99\"/>\n",
       "</g>\n",
       "<!-- 6 -->\n",
       "<g id=\"node7\" class=\"node\">\n",
       "<title>6</title>\n",
       "</g>\n",
       "<!-- 1&#45;&gt;6 -->\n",
       "<g id=\"edge6\" class=\"edge\">\n",
       "<title>1&#45;&gt;6</title>\n",
       "<path fill=\"none\" stroke=\"black\" d=\"M110.56,-68.07C110.6,-68.04 110.64,-68.01 110.69,-67.98\"/>\n",
       "<polygon fill=\"black\" stroke=\"black\" points=\"103.19,-77.2 109.56,-68.73 99.3,-71.38 103.19,-77.2\"/>\n",
       "</g>\n",
       "<!-- 7 -->\n",
       "<g id=\"node8\" class=\"node\">\n",
       "<title>7</title>\n",
       "<text text-anchor=\"middle\" x=\"236.5\" y=\"-3.8\" font-family=\"Times,serif\" font-size=\"14.00\">5000.00</text>\n",
       "</g>\n",
       "<!-- 1&#45;&gt;7 -->\n",
       "<g id=\"edge7\" class=\"edge\">\n",
       "<title>1&#45;&gt;7</title>\n",
       "<path fill=\"none\" stroke=\"black\" d=\"M105.96,-68.31C115.66,-57.11 135.99,-35.64 158,-24.5 171.83,-17.5 188.47,-13.37 202.78,-10.94\"/>\n",
       "<polygon fill=\"black\" stroke=\"black\" points=\"203.26,-14.41 212.64,-9.49 202.24,-7.48 203.26,-14.41\"/>\n",
       "</g>\n",
       "</g>\n",
       "</svg>\n"
      ],
      "text/plain": [
       "<graphviz.graphs.Digraph at 0x1075dd7e0>"
      ]
     },
     "execution_count": 38,
     "metadata": {},
     "output_type": "execute_result"
    }
   ],
   "source": [
    "tree = parse_csv(mystring)\n",
    "bad_nodes = {4, 5}\n",
    "display_tree(tree, node_attr=highlight_err_node, graph_attr=lr_graph)"
   ]
  },
  {
   "cell_type": "markdown",
   "metadata": {
    "slideshow": {
     "slide_type": "fragment"
    }
   },
   "source": [
    "Here is another record from that CSV file:"
   ]
  },
  {
   "cell_type": "code",
   "execution_count": 39,
   "metadata": {
    "execution": {
     "iopub.execute_input": "2023-01-07T14:16:16.031896Z",
     "iopub.status.busy": "2023-01-07T14:16:16.031535Z",
     "iopub.status.idle": "2023-01-07T14:16:16.032799Z",
     "shell.execute_reply": "2023-01-07T14:16:16.033079Z"
    },
    "slideshow": {
     "slide_type": "subslide"
    }
   },
   "outputs": [
    {
     "name": "stdout",
     "output_type": "stream",
     "text": [
      "1996,Jeep,Grand Cherokee,\"MUST SELL!\n",
      "air, moon roof, loaded\",4799.00\n",
      "\n"
     ]
    }
   ],
   "source": [
    "mystring = '''\\\n",
    "1996,Jeep,Grand Cherokee,\"MUST SELL!\n",
    "air, moon roof, loaded\",4799.00\n",
    "'''\n",
    "print(mystring)"
   ]
  },
  {
   "cell_type": "code",
   "execution_count": 40,
   "metadata": {
    "execution": {
     "iopub.execute_input": "2023-01-07T14:16:16.037922Z",
     "iopub.status.busy": "2023-01-07T14:16:16.037429Z",
     "iopub.status.idle": "2023-01-07T14:16:16.283828Z",
     "shell.execute_reply": "2023-01-07T14:16:16.284073Z"
    },
    "slideshow": {
     "slide_type": "fragment"
    }
   },
   "outputs": [
    {
     "data": {
      "image/svg+xml": [
       "<?xml version=\"1.0\" encoding=\"UTF-8\" standalone=\"no\"?>\n",
       "<!DOCTYPE svg PUBLIC \"-//W3C//DTD SVG 1.1//EN\"\n",
       " \"http://www.w3.org/Graphics/SVG/1.1/DTD/svg11.dtd\">\n",
       "<!-- Generated by graphviz version 7.0.2 (20221119.0110)\n",
       " -->\n",
       "<!-- Pages: 1 -->\n",
       "<svg width=\"260pt\" height=\"221pt\"\n",
       " viewBox=\"0.00 0.00 260.00 221.00\" xmlns=\"http://www.w3.org/2000/svg\" xmlns:xlink=\"http://www.w3.org/1999/xlink\">\n",
       "<g id=\"graph0\" class=\"graph\" transform=\"scale(1 1) rotate(0) translate(4 217)\">\n",
       "<polygon fill=\"white\" stroke=\"none\" points=\"-4,4 -4,-217 256,-217 256,4 -4,4\"/>\n",
       "<!-- 0 -->\n",
       "<g id=\"node1\" class=\"node\">\n",
       "<title>0</title>\n",
       "<text text-anchor=\"middle\" x=\"20\" y=\"-53.8\" font-family=\"Times,serif\" font-size=\"14.00\">&lt;start&gt;</text>\n",
       "</g>\n",
       "<!-- 1 -->\n",
       "<g id=\"node2\" class=\"node\">\n",
       "<title>1</title>\n",
       "<text text-anchor=\"middle\" x=\"99\" y=\"-135.8\" font-family=\"Times,serif\" font-size=\"14.00\">record 0</text>\n",
       "</g>\n",
       "<!-- 0&#45;&gt;1 -->\n",
       "<g id=\"edge1\" class=\"edge\">\n",
       "<title>0&#45;&gt;1</title>\n",
       "<path fill=\"none\" stroke=\"black\" d=\"M27.83,-64.78C40.24,-77.99 66.75,-106.22 83.39,-123.94\"/>\n",
       "<polygon fill=\"black\" stroke=\"black\" points=\"80.64,-126.12 90.04,-131.02 85.74,-121.33 80.64,-126.12\"/>\n",
       "</g>\n",
       "<!-- 6 -->\n",
       "<g id=\"node7\" class=\"node\">\n",
       "<title>6</title>\n",
       "<text text-anchor=\"middle\" x=\"99\" y=\"-53.8\" font-family=\"Times,serif\" font-size=\"14.00\" fill=\"red\">record 1</text>\n",
       "</g>\n",
       "<!-- 0&#45;&gt;6 -->\n",
       "<g id=\"edge6\" class=\"edge\">\n",
       "<title>0&#45;&gt;6</title>\n",
       "<path fill=\"none\" stroke=\"black\" d=\"M39.64,-57.5C47.23,-57.5 56.23,-57.5 64.87,-57.5\"/>\n",
       "<polygon fill=\"black\" stroke=\"black\" points=\"64.74,-61 74.74,-57.5 64.74,-54 64.74,-61\"/>\n",
       "</g>\n",
       "<!-- 10 -->\n",
       "<g id=\"node11\" class=\"node\">\n",
       "<title>10</title>\n",
       "<text text-anchor=\"middle\" x=\"99\" y=\"-20.8\" font-family=\"Times,serif\" font-size=\"14.00\" fill=\"red\">record 2</text>\n",
       "</g>\n",
       "<!-- 0&#45;&gt;10 -->\n",
       "<g id=\"edge10\" class=\"edge\">\n",
       "<title>0&#45;&gt;10</title>\n",
       "<path fill=\"none\" stroke=\"black\" d=\"M38.47,-50.01C47.83,-46 59.57,-40.97 70.14,-36.44\"/>\n",
       "<polygon fill=\"black\" stroke=\"black\" points=\"71.39,-39.71 79.21,-32.55 68.64,-33.28 71.39,-39.71\"/>\n",
       "</g>\n",
       "<!-- 2 -->\n",
       "<g id=\"node3\" class=\"node\">\n",
       "<title>2</title>\n",
       "<text text-anchor=\"middle\" x=\"205\" y=\"-201.8\" font-family=\"Times,serif\" font-size=\"14.00\">1996</text>\n",
       "</g>\n",
       "<!-- 1&#45;&gt;2 -->\n",
       "<g id=\"edge2\" class=\"edge\">\n",
       "<title>1&#45;&gt;2</title>\n",
       "<path fill=\"none\" stroke=\"black\" d=\"M106.82,-146.94C117.02,-157.68 137.27,-177.55 158,-189.5 164.92,-193.49 173,-196.72 180.44,-199.2\"/>\n",
       "<polygon fill=\"black\" stroke=\"black\" points=\"179.31,-202.51 189.9,-202.05 181.33,-195.81 179.31,-202.51\"/>\n",
       "</g>\n",
       "<!-- 3 -->\n",
       "<g id=\"node4\" class=\"node\">\n",
       "<title>3</title>\n",
       "<text text-anchor=\"middle\" x=\"205\" y=\"-168.8\" font-family=\"Times,serif\" font-size=\"14.00\">Jeep</text>\n",
       "</g>\n",
       "<!-- 1&#45;&gt;3 -->\n",
       "<g id=\"edge3\" class=\"edge\">\n",
       "<title>1&#45;&gt;3</title>\n",
       "<path fill=\"none\" stroke=\"black\" d=\"M121.8,-146.42C139.4,-152 164.07,-159.83 181.79,-165.45\"/>\n",
       "<polygon fill=\"black\" stroke=\"black\" points=\"180.49,-168.71 191.08,-168.4 182.6,-162.04 180.49,-168.71\"/>\n",
       "</g>\n",
       "<!-- 4 -->\n",
       "<g id=\"node5\" class=\"node\">\n",
       "<title>4</title>\n",
       "<text text-anchor=\"middle\" x=\"205\" y=\"-135.8\" font-family=\"Times,serif\" font-size=\"14.00\">Grand Cherokee</text>\n",
       "</g>\n",
       "<!-- 1&#45;&gt;4 -->\n",
       "<g id=\"edge4\" class=\"edge\">\n",
       "<title>1&#45;&gt;4</title>\n",
       "<path fill=\"none\" stroke=\"black\" d=\"M121.8,-139.5C129.85,-139.5 139.38,-139.5 149.04,-139.5\"/>\n",
       "<polygon fill=\"black\" stroke=\"black\" points=\"148.85,-143 158.85,-139.5 148.85,-136 148.85,-143\"/>\n",
       "</g>\n",
       "<!-- 5 -->\n",
       "<g id=\"node6\" class=\"node\">\n",
       "<title>5</title>\n",
       "<text text-anchor=\"middle\" x=\"205\" y=\"-102.8\" font-family=\"Times,serif\" font-size=\"14.00\" fill=\"red\">&quot;MUST SELL!</text>\n",
       "</g>\n",
       "<!-- 1&#45;&gt;5 -->\n",
       "<g id=\"edge5\" class=\"edge\">\n",
       "<title>1&#45;&gt;5</title>\n",
       "<path fill=\"none\" stroke=\"black\" d=\"M121.8,-132.58C135.61,-128.2 153.75,-122.44 169.49,-117.45\"/>\n",
       "<polygon fill=\"black\" stroke=\"black\" points=\"170.5,-120.8 178.97,-114.44 168.38,-114.13 170.5,-120.8\"/>\n",
       "</g>\n",
       "<!-- 7 -->\n",
       "<g id=\"node8\" class=\"node\">\n",
       "<title>7</title>\n",
       "<text text-anchor=\"middle\" x=\"205\" y=\"-69.8\" font-family=\"Times,serif\" font-size=\"14.00\" fill=\"red\">air</text>\n",
       "</g>\n",
       "<!-- 6&#45;&gt;7 -->\n",
       "<g id=\"edge7\" class=\"edge\">\n",
       "<title>6&#45;&gt;7</title>\n",
       "<path fill=\"none\" stroke=\"black\" d=\"M121.8,-60.85C141.07,-63.82 168.81,-68.09 186.62,-70.83\"/>\n",
       "<polygon fill=\"black\" stroke=\"black\" points=\"185.87,-74.25 196.29,-72.31 186.94,-67.33 185.87,-74.25\"/>\n",
       "</g>\n",
       "<!-- 8 -->\n",
       "<g id=\"node9\" class=\"node\">\n",
       "<title>8</title>\n",
       "<text text-anchor=\"middle\" x=\"205\" y=\"-36.8\" font-family=\"Times,serif\" font-size=\"14.00\" fill=\"red\"> moon roof</text>\n",
       "</g>\n",
       "<!-- 6&#45;&gt;8 -->\n",
       "<g id=\"edge8\" class=\"edge\">\n",
       "<title>6&#45;&gt;8</title>\n",
       "<path fill=\"none\" stroke=\"black\" d=\"M121.8,-53.94C133.83,-51.97 149.17,-49.46 163.32,-47.15\"/>\n",
       "<polygon fill=\"black\" stroke=\"black\" points=\"163.54,-50.66 172.84,-45.59 162.41,-43.75 163.54,-50.66\"/>\n",
       "</g>\n",
       "<!-- 9 -->\n",
       "<g id=\"node10\" class=\"node\">\n",
       "<title>9</title>\n",
       "<text text-anchor=\"middle\" x=\"205\" y=\"-3.8\" font-family=\"Times,serif\" font-size=\"14.00\" fill=\"red\"> loaded&quot;,4799.00</text>\n",
       "</g>\n",
       "<!-- 6&#45;&gt;9 -->\n",
       "<g id=\"edge9\" class=\"edge\">\n",
       "<title>6&#45;&gt;9</title>\n",
       "<path fill=\"none\" stroke=\"black\" d=\"M111.7,-50.09C123.2,-42.98 141.41,-32.22 158,-24.5 162.14,-22.57 166.56,-20.71 170.96,-18.97\"/>\n",
       "<polygon fill=\"black\" stroke=\"black\" points=\"172.17,-22.25 180.29,-15.44 169.7,-15.7 172.17,-22.25\"/>\n",
       "</g>\n",
       "</g>\n",
       "</svg>\n"
      ],
      "text/plain": [
       "<graphviz.graphs.Digraph at 0x1075de9e0>"
      ]
     },
     "execution_count": 40,
     "metadata": {},
     "output_type": "execute_result"
    }
   ],
   "source": [
    "tree = parse_csv(mystring)\n",
    "bad_nodes = {5, 6, 7, 8, 9, 10}\n",
    "display_tree(tree, node_attr=highlight_err_node, graph_attr=lr_graph)"
   ]
  },
  {
   "cell_type": "markdown",
   "metadata": {
    "slideshow": {
     "slide_type": "subslide"
    }
   },
   "source": [
    "Fixing this would require modifying both inner `parse_quote()` and the outer `parse_csv()` procedures. We note that each of these features actually documented in the CSV [RFC 4180](https://tools.ietf.org/html/rfc4180)"
   ]
  },
  {
   "cell_type": "markdown",
   "metadata": {
    "slideshow": {
     "slide_type": "fragment"
    }
   },
   "source": [
    "Indeed, each additional improvement falls apart even with a little extra complexity. The problem becomes severe when one encounters recursive expressions. For example, JSON is a common alternative to CSV files for saving data. Similarly, one may have to parse data from an HTML table instead of a CSV file if one is getting the data from the web.\n",
    "\n",
    "One might be tempted to fix it with a little more ad hoc parsing, with a bit of *regular expressions* thrown in. However, that is the [path to insanity](https://stackoverflow.com/a/1732454)."
   ]
  },
  {
   "cell_type": "markdown",
   "metadata": {
    "slideshow": {
     "slide_type": "subslide"
    }
   },
   "source": [
    "It is here that _formal parsers_ shine. The main idea is that, any given set of strings belong to a language, and these languages can be specified by their grammars (as we saw in the [chapter on grammars](Grammars.ipynb)). The great thing about grammars is that they can be _composed_. That is, one can introduce finer and finer details into an internal structure without affecting the external structure, and similarly, one can change the external structure without much impact on the internal structure."
   ]
  },
  {
   "cell_type": "markdown",
   "metadata": {
    "slideshow": {
     "slide_type": "slide"
    },
    "toc-hr-collapsed": true
   },
   "source": [
    "## Grammars in Parsing\n",
    "\n",
    "We briefly describe grammars in the context of parsing."
   ]
  },
  {
   "cell_type": "markdown",
   "metadata": {
    "slideshow": {
     "slide_type": "slide"
    },
    "toc-hr-collapsed": true
   },
   "source": [
    "### Excursion: Grammars and Derivation Trees"
   ]
  },
  {
   "cell_type": "markdown",
   "metadata": {
    "slideshow": {
     "slide_type": "slide"
    },
    "toc-hr-collapsed": true
   },
   "source": [
    "A grammar, as you have read from the [chapter on grammars](Grammars.ipynb) is a set of _rules_ that explain how the start symbol can be expanded. Each rule has a name, also called a _nonterminal_, and a set of _alternative choices_ in how the nonterminal can be expanded."
   ]
  },
  {
   "cell_type": "code",
   "execution_count": 41,
   "metadata": {
    "execution": {
     "iopub.execute_input": "2023-01-07T14:16:16.286870Z",
     "iopub.status.busy": "2023-01-07T14:16:16.286544Z",
     "iopub.status.idle": "2023-01-07T14:16:16.287736Z",
     "shell.execute_reply": "2023-01-07T14:16:16.287977Z"
    },
    "slideshow": {
     "slide_type": "subslide"
    }
   },
   "outputs": [],
   "source": [
    "A1_GRAMMAR: Grammar = {\n",
    "    \"<start>\": [\"<expr>\"],\n",
    "    \"<expr>\": [\"<expr>+<expr>\", \"<expr>-<expr>\", \"<integer>\"],\n",
    "    \"<integer>\": [\"<digit><integer>\", \"<digit>\"],\n",
    "    \"<digit>\": [\"0\", \"1\", \"2\", \"3\", \"4\", \"5\", \"6\", \"7\", \"8\", \"9\"]\n",
    "}"
   ]
  },
  {
   "cell_type": "code",
   "execution_count": 42,
   "metadata": {
    "execution": {
     "iopub.execute_input": "2023-01-07T14:16:16.290717Z",
     "iopub.status.busy": "2023-01-07T14:16:16.290317Z",
     "iopub.status.idle": "2023-01-07T14:16:16.299169Z",
     "shell.execute_reply": "2023-01-07T14:16:16.299545Z"
    },
    "slideshow": {
     "slide_type": "subslide"
    }
   },
   "outputs": [
    {
     "name": "stdout",
     "output_type": "stream",
     "text": [
      "start\n"
     ]
    },
    {
     "data": {
      "image/svg+xml": [
       "<svg xmlns=\"http://www.w3.org/2000/svg\" class=\"railroad-diagram\" height=\"62\" viewBox=\"0 0 174.0 62\" width=\"174.0\">\n",
       "<g transform=\"translate(.5 .5)\">\n",
       "<style>/* <![CDATA[ */\n",
       "    svg.railroad-diagram {\n",
       "    }\n",
       "    svg.railroad-diagram path {\n",
       "        stroke-width:3;\n",
       "        stroke:black;\n",
       "        fill:white;\n",
       "    }\n",
       "    svg.railroad-diagram text {\n",
       "        font:14px \"Fira Mono\", monospace;\n",
       "        text-anchor:middle;\n",
       "    }\n",
       "    svg.railroad-diagram text.label{\n",
       "        text-anchor:start;\n",
       "    }\n",
       "    svg.railroad-diagram text.comment{\n",
       "        font:italic 12px \"Fira Mono\", monospace;\n",
       "    }\n",
       "    svg.railroad-diagram rect{\n",
       "        stroke-width:2;\n",
       "        stroke:black;\n",
       "        fill:mistyrose;\n",
       "    }\n",
       "\n",
       "/* ]]> */\n",
       "</style><g>\n",
       "<path d=\"M20 21v20m10 -20v20m-10 -10h20\"/></g><g>\n",
       "<path d=\"M40 31h0.0\"/><path d=\"M134.0 31h0.0\"/><path d=\"M40.0 31h20\"/><g>\n",
       "<path d=\"M60.0 31h0.0\"/><path d=\"M114.0 31h0.0\"/><g class=\"non-terminal\">\n",
       "<path d=\"M60.0 31h0.0\"/><path d=\"M114.0 31h0.0\"/><rect height=\"22\" width=\"54.0\" x=\"60.0\" y=\"20\"/><text x=\"87.0\" y=\"35\">expr</text></g></g><path d=\"M114.0 31h20\"/></g><path d=\"M 134.0 31 h 20 m -10 -10 v 20 m 10 -20 v 20\"/></g></svg>"
      ],
      "text/plain": [
       "<IPython.core.display.SVG object>"
      ]
     },
     "metadata": {},
     "output_type": "display_data"
    },
    {
     "name": "stdout",
     "output_type": "stream",
     "text": [
      "expr\n"
     ]
    },
    {
     "data": {
      "image/svg+xml": [
       "<svg xmlns=\"http://www.w3.org/2000/svg\" class=\"railroad-diagram\" height=\"122\" viewBox=\"0 0 296.5 122\" width=\"296.5\">\n",
       "<g transform=\"translate(.5 .5)\">\n",
       "<style>/* <![CDATA[ */\n",
       "    svg.railroad-diagram {\n",
       "    }\n",
       "    svg.railroad-diagram path {\n",
       "        stroke-width:3;\n",
       "        stroke:black;\n",
       "        fill:white;\n",
       "    }\n",
       "    svg.railroad-diagram text {\n",
       "        font:14px \"Fira Mono\", monospace;\n",
       "        text-anchor:middle;\n",
       "    }\n",
       "    svg.railroad-diagram text.label{\n",
       "        text-anchor:start;\n",
       "    }\n",
       "    svg.railroad-diagram text.comment{\n",
       "        font:italic 12px \"Fira Mono\", monospace;\n",
       "    }\n",
       "    svg.railroad-diagram rect{\n",
       "        stroke-width:2;\n",
       "        stroke:black;\n",
       "        fill:mistyrose;\n",
       "    }\n",
       "\n",
       "/* ]]> */\n",
       "</style><g>\n",
       "<path d=\"M20 51v20m10 -20v20m-10 -10h20\"/></g><g>\n",
       "<path d=\"M40 61h0.0\"/><path d=\"M256.5 61h0.0\"/><path d=\"M40.0 61a10 10 0 0 0 10 -10v-10a10 10 0 0 1 10 -10\"/><g>\n",
       "<path d=\"M60.0 31h0.0\"/><path d=\"M236.5 31h0.0\"/><g class=\"non-terminal\">\n",
       "<path d=\"M60.0 31h0.0\"/><path d=\"M114.0 31h0.0\"/><rect height=\"22\" width=\"54.0\" x=\"60.0\" y=\"20\"/><text x=\"87.0\" y=\"35\">expr</text></g><path d=\"M114.0 31h10\"/><path d=\"M124.0 31h10\"/><g class=\"terminal\">\n",
       "<path d=\"M134.0 31h0.0\"/><path d=\"M162.5 31h0.0\"/><rect height=\"22\" rx=\"10\" ry=\"10\" width=\"28.5\" x=\"134.0\" y=\"20\"/><text x=\"148.25\" y=\"35\">+</text></g><path d=\"M162.5 31h10\"/><path d=\"M172.5 31h10\"/><g class=\"non-terminal\">\n",
       "<path d=\"M182.5 31h0.0\"/><path d=\"M236.5 31h0.0\"/><rect height=\"22\" width=\"54.0\" x=\"182.5\" y=\"20\"/><text x=\"209.5\" y=\"35\">expr</text></g></g><path d=\"M236.5 31a10 10 0 0 1 10 10v10a10 10 0 0 0 10 10\"/><path d=\"M40.0 61h20\"/><g>\n",
       "<path d=\"M60.0 61h0.0\"/><path d=\"M236.5 61h0.0\"/><g class=\"non-terminal\">\n",
       "<path d=\"M60.0 61h0.0\"/><path d=\"M114.0 61h0.0\"/><rect height=\"22\" width=\"54.0\" x=\"60.0\" y=\"50\"/><text x=\"87.0\" y=\"65\">expr</text></g><path d=\"M114.0 61h10\"/><path d=\"M124.0 61h10\"/><g class=\"terminal\">\n",
       "<path d=\"M134.0 61h0.0\"/><path d=\"M162.5 61h0.0\"/><rect height=\"22\" rx=\"10\" ry=\"10\" width=\"28.5\" x=\"134.0\" y=\"50\"/><text x=\"148.25\" y=\"65\">-</text></g><path d=\"M162.5 61h10\"/><path d=\"M172.5 61h10\"/><g class=\"non-terminal\">\n",
       "<path d=\"M182.5 61h0.0\"/><path d=\"M236.5 61h0.0\"/><rect height=\"22\" width=\"54.0\" x=\"182.5\" y=\"50\"/><text x=\"209.5\" y=\"65\">expr</text></g></g><path d=\"M236.5 61h20\"/><path d=\"M40.0 61a10 10 0 0 1 10 10v10a10 10 0 0 0 10 10\"/><g>\n",
       "<path d=\"M60.0 91h48.5\"/><path d=\"M188.0 91h48.5\"/><g class=\"non-terminal\">\n",
       "<path d=\"M108.5 91h0.0\"/><path d=\"M188.0 91h0.0\"/><rect height=\"22\" width=\"79.5\" x=\"108.5\" y=\"80\"/><text x=\"148.25\" y=\"95\">integer</text></g></g><path d=\"M236.5 91a10 10 0 0 0 10 -10v-10a10 10 0 0 1 10 -10\"/></g><path d=\"M 256.5 61 h 20 m -10 -10 v 20 m 10 -20 v 20\"/></g></svg>"
      ],
      "text/plain": [
       "<IPython.core.display.SVG object>"
      ]
     },
     "metadata": {},
     "output_type": "display_data"
    },
    {
     "name": "stdout",
     "output_type": "stream",
     "text": [
      "integer\n"
     ]
    },
    {
     "data": {
      "image/svg+xml": [
       "<svg xmlns=\"http://www.w3.org/2000/svg\" class=\"railroad-diagram\" height=\"92\" viewBox=\"0 0 282.0 92\" width=\"282.0\">\n",
       "<g transform=\"translate(.5 .5)\">\n",
       "<style>/* <![CDATA[ */\n",
       "    svg.railroad-diagram {\n",
       "    }\n",
       "    svg.railroad-diagram path {\n",
       "        stroke-width:3;\n",
       "        stroke:black;\n",
       "        fill:white;\n",
       "    }\n",
       "    svg.railroad-diagram text {\n",
       "        font:14px \"Fira Mono\", monospace;\n",
       "        text-anchor:middle;\n",
       "    }\n",
       "    svg.railroad-diagram text.label{\n",
       "        text-anchor:start;\n",
       "    }\n",
       "    svg.railroad-diagram text.comment{\n",
       "        font:italic 12px \"Fira Mono\", monospace;\n",
       "    }\n",
       "    svg.railroad-diagram rect{\n",
       "        stroke-width:2;\n",
       "        stroke:black;\n",
       "        fill:mistyrose;\n",
       "    }\n",
       "\n",
       "/* ]]> */\n",
       "</style><g>\n",
       "<path d=\"M20 51v20m10 -20v20m-10 -10h20\"/></g><g>\n",
       "<path d=\"M40 61h0.0\"/><path d=\"M242.0 61h0.0\"/><path d=\"M40.0 61a10 10 0 0 0 10 -10v-10a10 10 0 0 1 10 -10\"/><g>\n",
       "<path d=\"M60.0 31h0.0\"/><path d=\"M222.0 31h0.0\"/><g class=\"non-terminal\">\n",
       "<path d=\"M60.0 31h0.0\"/><path d=\"M122.5 31h0.0\"/><rect height=\"22\" width=\"62.5\" x=\"60.0\" y=\"20\"/><text x=\"91.25\" y=\"35\">digit</text></g><path d=\"M122.5 31h10\"/><path d=\"M132.5 31h10\"/><g class=\"non-terminal\">\n",
       "<path d=\"M142.5 31h0.0\"/><path d=\"M222.0 31h0.0\"/><rect height=\"22\" width=\"79.5\" x=\"142.5\" y=\"20\"/><text x=\"182.25\" y=\"35\">integer</text></g></g><path d=\"M222.0 31a10 10 0 0 1 10 10v10a10 10 0 0 0 10 10\"/><path d=\"M40.0 61h20\"/><g>\n",
       "<path d=\"M60.0 61h49.75\"/><path d=\"M172.25 61h49.75\"/><g class=\"non-terminal\">\n",
       "<path d=\"M109.75 61h0.0\"/><path d=\"M172.25 61h0.0\"/><rect height=\"22\" width=\"62.5\" x=\"109.75\" y=\"50\"/><text x=\"141.0\" y=\"65\">digit</text></g></g><path d=\"M222.0 61h20\"/></g><path d=\"M 242.0 61 h 20 m -10 -10 v 20 m 10 -20 v 20\"/></g></svg>"
      ],
      "text/plain": [
       "<IPython.core.display.SVG object>"
      ]
     },
     "metadata": {},
     "output_type": "display_data"
    },
    {
     "name": "stdout",
     "output_type": "stream",
     "text": [
      "digit\n"
     ]
    },
    {
     "data": {
      "image/svg+xml": [
       "<svg xmlns=\"http://www.w3.org/2000/svg\" class=\"railroad-diagram\" height=\"109\" viewBox=\"0 0 522.5 109\" width=\"522.5\">\n",
       "<g transform=\"translate(.5 .5)\">\n",
       "<style>/* <![CDATA[ */\n",
       "    svg.railroad-diagram {\n",
       "    }\n",
       "    svg.railroad-diagram path {\n",
       "        stroke-width:3;\n",
       "        stroke:black;\n",
       "        fill:white;\n",
       "    }\n",
       "    svg.railroad-diagram text {\n",
       "        font:14px \"Fira Mono\", monospace;\n",
       "        text-anchor:middle;\n",
       "    }\n",
       "    svg.railroad-diagram text.label{\n",
       "        text-anchor:start;\n",
       "    }\n",
       "    svg.railroad-diagram text.comment{\n",
       "        font:italic 12px \"Fira Mono\", monospace;\n",
       "    }\n",
       "    svg.railroad-diagram rect{\n",
       "        stroke-width:2;\n",
       "        stroke:black;\n",
       "        fill:mistyrose;\n",
       "    }\n",
       "\n",
       "/* ]]> */\n",
       "</style><g>\n",
       "<path d=\"M20 59v20m10 -20v20m-10 -10h20\"/></g><g>\n",
       "<path d=\"M40 69h0.0\"/><path d=\"M482.5 69h0.0\"/><path d=\"M40.0 69a10 10 0 0 0 10 -10v-29a10 10 0 0 1 10 -10h324.0\"/><path d=\"M138.5 89h324.0a10 10 0 0 0 10 -10v0a10 10 0 0 1 10 -10\"/><path d=\"M40.0 69h10\"/><g>\n",
       "<path d=\"M50.0 69h0.0\"/><path d=\"M118.5 69h0.0\"/><path d=\"M50.0 69a10 10 0 0 0 10 -10v-10a10 10 0 0 1 10 -10\"/><g>\n",
       "<path d=\"M70.0 39h0.0\"/><path d=\"M98.5 39h0.0\"/><g class=\"terminal\">\n",
       "<path d=\"M70.0 39h0.0\"/><path d=\"M98.5 39h0.0\"/><rect height=\"22\" rx=\"10\" ry=\"10\" width=\"28.5\" x=\"70.0\" y=\"28\"/><text x=\"84.25\" y=\"43\">0</text></g></g><path d=\"M98.5 39a10 10 0 0 1 10 10v10a10 10 0 0 0 10 10\"/><path d=\"M50.0 69h20\"/><g>\n",
       "<path d=\"M70.0 69h0.0\"/><path d=\"M98.5 69h0.0\"/><g class=\"terminal\">\n",
       "<path d=\"M70.0 69h0.0\"/><path d=\"M98.5 69h0.0\"/><rect height=\"22\" rx=\"10\" ry=\"10\" width=\"28.5\" x=\"70.0\" y=\"58\"/><text x=\"84.25\" y=\"73\">1</text></g></g><path d=\"M98.5 69h20\"/></g><path d=\"M118.5 69a10 10 0 0 1 10 10v0a10 10 0 0 0 10 10\"/><path d=\"M118.5 20a10 10 0 0 1 10 10v29a10 10 0 0 0 10 10\"/><g>\n",
       "<path d=\"M138.5 69h0.0\"/><path d=\"M207.0 69h0.0\"/><path d=\"M138.5 69a10 10 0 0 0 10 -10v-10a10 10 0 0 1 10 -10\"/><g>\n",
       "<path d=\"M158.5 39h0.0\"/><path d=\"M187.0 39h0.0\"/><g class=\"terminal\">\n",
       "<path d=\"M158.5 39h0.0\"/><path d=\"M187.0 39h0.0\"/><rect height=\"22\" rx=\"10\" ry=\"10\" width=\"28.5\" x=\"158.5\" y=\"28\"/><text x=\"172.75\" y=\"43\">2</text></g></g><path d=\"M187.0 39a10 10 0 0 1 10 10v10a10 10 0 0 0 10 10\"/><path d=\"M138.5 69h20\"/><g>\n",
       "<path d=\"M158.5 69h0.0\"/><path d=\"M187.0 69h0.0\"/><g class=\"terminal\">\n",
       "<path d=\"M158.5 69h0.0\"/><path d=\"M187.0 69h0.0\"/><rect height=\"22\" rx=\"10\" ry=\"10\" width=\"28.5\" x=\"158.5\" y=\"58\"/><text x=\"172.75\" y=\"73\">3</text></g></g><path d=\"M187.0 69h20\"/></g><path d=\"M207.0 69a10 10 0 0 1 10 10v0a10 10 0 0 0 10 10\"/><path d=\"M207.0 20a10 10 0 0 1 10 10v29a10 10 0 0 0 10 10\"/><g>\n",
       "<path d=\"M227.0 69h0.0\"/><path d=\"M295.5 69h0.0\"/><path d=\"M227.0 69a10 10 0 0 0 10 -10v-10a10 10 0 0 1 10 -10\"/><g>\n",
       "<path d=\"M247.0 39h0.0\"/><path d=\"M275.5 39h0.0\"/><g class=\"terminal\">\n",
       "<path d=\"M247.0 39h0.0\"/><path d=\"M275.5 39h0.0\"/><rect height=\"22\" rx=\"10\" ry=\"10\" width=\"28.5\" x=\"247.0\" y=\"28\"/><text x=\"261.25\" y=\"43\">4</text></g></g><path d=\"M275.5 39a10 10 0 0 1 10 10v10a10 10 0 0 0 10 10\"/><path d=\"M227.0 69h20\"/><g>\n",
       "<path d=\"M247.0 69h0.0\"/><path d=\"M275.5 69h0.0\"/><g class=\"terminal\">\n",
       "<path d=\"M247.0 69h0.0\"/><path d=\"M275.5 69h0.0\"/><rect height=\"22\" rx=\"10\" ry=\"10\" width=\"28.5\" x=\"247.0\" y=\"58\"/><text x=\"261.25\" y=\"73\">5</text></g></g><path d=\"M275.5 69h20\"/></g><path d=\"M295.5 69a10 10 0 0 1 10 10v0a10 10 0 0 0 10 10\"/><path d=\"M295.5 20a10 10 0 0 1 10 10v29a10 10 0 0 0 10 10\"/><g>\n",
       "<path d=\"M315.5 69h0.0\"/><path d=\"M384.0 69h0.0\"/><path d=\"M315.5 69a10 10 0 0 0 10 -10v-10a10 10 0 0 1 10 -10\"/><g>\n",
       "<path d=\"M335.5 39h0.0\"/><path d=\"M364.0 39h0.0\"/><g class=\"terminal\">\n",
       "<path d=\"M335.5 39h0.0\"/><path d=\"M364.0 39h0.0\"/><rect height=\"22\" rx=\"10\" ry=\"10\" width=\"28.5\" x=\"335.5\" y=\"28\"/><text x=\"349.75\" y=\"43\">6</text></g></g><path d=\"M364.0 39a10 10 0 0 1 10 10v10a10 10 0 0 0 10 10\"/><path d=\"M315.5 69h20\"/><g>\n",
       "<path d=\"M335.5 69h0.0\"/><path d=\"M364.0 69h0.0\"/><g class=\"terminal\">\n",
       "<path d=\"M335.5 69h0.0\"/><path d=\"M364.0 69h0.0\"/><rect height=\"22\" rx=\"10\" ry=\"10\" width=\"28.5\" x=\"335.5\" y=\"58\"/><text x=\"349.75\" y=\"73\">7</text></g></g><path d=\"M364.0 69h20\"/></g><path d=\"M384.0 69a10 10 0 0 1 10 10v0a10 10 0 0 0 10 10\"/><path d=\"M384.0 20a10 10 0 0 1 10 10v29a10 10 0 0 0 10 10\"/><g>\n",
       "<path d=\"M404.0 69h0.0\"/><path d=\"M472.5 69h0.0\"/><path d=\"M404.0 69a10 10 0 0 0 10 -10v-10a10 10 0 0 1 10 -10\"/><g>\n",
       "<path d=\"M424.0 39h0.0\"/><path d=\"M452.5 39h0.0\"/><g class=\"terminal\">\n",
       "<path d=\"M424.0 39h0.0\"/><path d=\"M452.5 39h0.0\"/><rect height=\"22\" rx=\"10\" ry=\"10\" width=\"28.5\" x=\"424.0\" y=\"28\"/><text x=\"438.25\" y=\"43\">8</text></g></g><path d=\"M452.5 39a10 10 0 0 1 10 10v10a10 10 0 0 0 10 10\"/><path d=\"M404.0 69h20\"/><g>\n",
       "<path d=\"M424.0 69h0.0\"/><path d=\"M452.5 69h0.0\"/><g class=\"terminal\">\n",
       "<path d=\"M424.0 69h0.0\"/><path d=\"M452.5 69h0.0\"/><rect height=\"22\" rx=\"10\" ry=\"10\" width=\"28.5\" x=\"424.0\" y=\"58\"/><text x=\"438.25\" y=\"73\">9</text></g></g><path d=\"M452.5 69h20\"/></g><path d=\"M472.5 69h10\"/></g><path d=\"M 482.5 69 h 20 m -10 -10 v 20 m 10 -20 v 20\"/></g></svg>"
      ],
      "text/plain": [
       "<IPython.core.display.SVG object>"
      ]
     },
     "metadata": {},
     "output_type": "display_data"
    }
   ],
   "source": [
    "syntax_diagram(A1_GRAMMAR)"
   ]
  },
  {
   "cell_type": "markdown",
   "metadata": {
    "slideshow": {
     "slide_type": "notes"
    }
   },
   "source": [
    "In the above expression, the rule `<expr> : [<expr>+<expr>,<expr>-<expr>,<integer>]` corresponds to how the nonterminal `<expr>` might be expanded.  The expression `<expr>+<expr>` corresponds to one of the alternative choices. We call this an _alternative_ expansion for the nonterminal `<expr>`. Finally, in an expression `<expr>+<expr>`, each of `<expr>`, `+`, and `<expr>` are _symbols_ in that expansion. A symbol could be either a nonterminal or a terminal symbol based on whether its expansion is available in the grammar."
   ]
  },
  {
   "cell_type": "markdown",
   "metadata": {
    "slideshow": {
     "slide_type": "slide"
    }
   },
   "source": [
    "Here is a string that represents an arithmetic expression that we would like to parse, which is specified by the grammar above:"
   ]
  },
  {
   "cell_type": "code",
   "execution_count": 43,
   "metadata": {
    "execution": {
     "iopub.execute_input": "2023-01-07T14:16:16.301826Z",
     "iopub.status.busy": "2023-01-07T14:16:16.301529Z",
     "iopub.status.idle": "2023-01-07T14:16:16.302891Z",
     "shell.execute_reply": "2023-01-07T14:16:16.303268Z"
    },
    "slideshow": {
     "slide_type": "fragment"
    }
   },
   "outputs": [],
   "source": [
    "mystring = '1+2'"
   ]
  },
  {
   "cell_type": "markdown",
   "metadata": {
    "slideshow": {
     "slide_type": "subslide"
    }
   },
   "source": [
    "The _derivation tree_ for our expression from this grammar is given by:"
   ]
  },
  {
   "cell_type": "code",
   "execution_count": 44,
   "metadata": {
    "execution": {
     "iopub.execute_input": "2023-01-07T14:16:16.309717Z",
     "iopub.status.busy": "2023-01-07T14:16:16.308530Z",
     "iopub.status.idle": "2023-01-07T14:16:16.569408Z",
     "shell.execute_reply": "2023-01-07T14:16:16.569762Z"
    },
    "slideshow": {
     "slide_type": "fragment"
    }
   },
   "outputs": [
    {
     "data": {
      "image/svg+xml": [
       "<?xml version=\"1.0\" encoding=\"UTF-8\" standalone=\"no\"?>\n",
       "<!DOCTYPE svg PUBLIC \"-//W3C//DTD SVG 1.1//EN\"\n",
       " \"http://www.w3.org/Graphics/SVG/1.1/DTD/svg11.dtd\">\n",
       "<!-- Generated by graphviz version 7.0.2 (20221119.0110)\n",
       " -->\n",
       "<!-- Pages: 1 -->\n",
       "<svg width=\"175pt\" height=\"278pt\"\n",
       " viewBox=\"0.00 0.00 175.00 278.00\" xmlns=\"http://www.w3.org/2000/svg\" xmlns:xlink=\"http://www.w3.org/1999/xlink\">\n",
       "<g id=\"graph0\" class=\"graph\" transform=\"scale(1 1) rotate(0) translate(4 274)\">\n",
       "<polygon fill=\"white\" stroke=\"none\" points=\"-4,4 -4,-274 171,-274 171,4 -4,4\"/>\n",
       "<!-- 0 -->\n",
       "<g id=\"node1\" class=\"node\">\n",
       "<title>0</title>\n",
       "<text text-anchor=\"middle\" x=\"83.5\" y=\"-258.8\" font-family=\"Times,serif\" font-size=\"14.00\">&lt;start&gt;</text>\n",
       "</g>\n",
       "<!-- 1 -->\n",
       "<g id=\"node2\" class=\"node\">\n",
       "<title>1</title>\n",
       "<text text-anchor=\"middle\" x=\"83.5\" y=\"-207.8\" font-family=\"Times,serif\" font-size=\"14.00\">&lt;expr&gt;</text>\n",
       "</g>\n",
       "<!-- 0&#45;&gt;1 -->\n",
       "<g id=\"edge1\" class=\"edge\">\n",
       "<title>0&#45;&gt;1</title>\n",
       "<path fill=\"none\" stroke=\"black\" d=\"M83.5,-255.09C83.5,-248.75 83.5,-238.75 83.5,-230.03\"/>\n",
       "<polygon fill=\"black\" stroke=\"black\" points=\"87,-230.27 83.5,-220.27 80,-230.27 87,-230.27\"/>\n",
       "</g>\n",
       "<!-- 2 -->\n",
       "<g id=\"node3\" class=\"node\">\n",
       "<title>2</title>\n",
       "<text text-anchor=\"middle\" x=\"27.5\" y=\"-156.8\" font-family=\"Times,serif\" font-size=\"14.00\">&lt;expr&gt;</text>\n",
       "</g>\n",
       "<!-- 1&#45;&gt;2 -->\n",
       "<g id=\"edge2\" class=\"edge\">\n",
       "<title>1&#45;&gt;2</title>\n",
       "<path fill=\"none\" stroke=\"black\" d=\"M76.18,-204.09C67.83,-196.79 53.95,-184.64 43.14,-175.18\"/>\n",
       "<polygon fill=\"black\" stroke=\"black\" points=\"45.62,-172.7 35.78,-168.75 41.01,-177.97 45.62,-172.7\"/>\n",
       "</g>\n",
       "<!-- 6 -->\n",
       "<g id=\"node7\" class=\"node\">\n",
       "<title>6</title>\n",
       "<text text-anchor=\"middle\" x=\"83.5\" y=\"-156.8\" font-family=\"Times,serif\" font-size=\"14.00\">+ (43)</text>\n",
       "</g>\n",
       "<!-- 1&#45;&gt;6 -->\n",
       "<g id=\"edge6\" class=\"edge\">\n",
       "<title>1&#45;&gt;6</title>\n",
       "<path fill=\"none\" stroke=\"black\" d=\"M83.5,-204.09C83.5,-197.75 83.5,-187.75 83.5,-179.03\"/>\n",
       "<polygon fill=\"black\" stroke=\"black\" points=\"87,-179.27 83.5,-169.27 80,-179.27 87,-179.27\"/>\n",
       "</g>\n",
       "<!-- 7 -->\n",
       "<g id=\"node8\" class=\"node\">\n",
       "<title>7</title>\n",
       "<text text-anchor=\"middle\" x=\"139.5\" y=\"-156.8\" font-family=\"Times,serif\" font-size=\"14.00\">&lt;expr&gt;</text>\n",
       "</g>\n",
       "<!-- 1&#45;&gt;7 -->\n",
       "<g id=\"edge7\" class=\"edge\">\n",
       "<title>1&#45;&gt;7</title>\n",
       "<path fill=\"none\" stroke=\"black\" d=\"M90.82,-204.09C99.17,-196.79 113.05,-184.64 123.86,-175.18\"/>\n",
       "<polygon fill=\"black\" stroke=\"black\" points=\"125.99,-177.97 131.22,-168.75 121.38,-172.7 125.99,-177.97\"/>\n",
       "</g>\n",
       "<!-- 3 -->\n",
       "<g id=\"node4\" class=\"node\">\n",
       "<title>3</title>\n",
       "<text text-anchor=\"middle\" x=\"27.5\" y=\"-105.8\" font-family=\"Times,serif\" font-size=\"14.00\">&lt;integer&gt;</text>\n",
       "</g>\n",
       "<!-- 2&#45;&gt;3 -->\n",
       "<g id=\"edge3\" class=\"edge\">\n",
       "<title>2&#45;&gt;3</title>\n",
       "<path fill=\"none\" stroke=\"black\" d=\"M27.5,-153.09C27.5,-146.75 27.5,-136.75 27.5,-128.03\"/>\n",
       "<polygon fill=\"black\" stroke=\"black\" points=\"31,-128.27 27.5,-118.27 24,-128.27 31,-128.27\"/>\n",
       "</g>\n",
       "<!-- 4 -->\n",
       "<g id=\"node5\" class=\"node\">\n",
       "<title>4</title>\n",
       "<text text-anchor=\"middle\" x=\"27.5\" y=\"-54.8\" font-family=\"Times,serif\" font-size=\"14.00\">&lt;digit&gt;</text>\n",
       "</g>\n",
       "<!-- 3&#45;&gt;4 -->\n",
       "<g id=\"edge4\" class=\"edge\">\n",
       "<title>3&#45;&gt;4</title>\n",
       "<path fill=\"none\" stroke=\"black\" d=\"M27.5,-102.09C27.5,-95.75 27.5,-85.75 27.5,-77.03\"/>\n",
       "<polygon fill=\"black\" stroke=\"black\" points=\"31,-77.27 27.5,-67.27 24,-77.27 31,-77.27\"/>\n",
       "</g>\n",
       "<!-- 5 -->\n",
       "<g id=\"node6\" class=\"node\">\n",
       "<title>5</title>\n",
       "<text text-anchor=\"middle\" x=\"27.5\" y=\"-3.8\" font-family=\"Times,serif\" font-size=\"14.00\">1 (49)</text>\n",
       "</g>\n",
       "<!-- 4&#45;&gt;5 -->\n",
       "<g id=\"edge5\" class=\"edge\">\n",
       "<title>4&#45;&gt;5</title>\n",
       "<path fill=\"none\" stroke=\"black\" d=\"M27.5,-51.09C27.5,-44.75 27.5,-34.75 27.5,-26.03\"/>\n",
       "<polygon fill=\"black\" stroke=\"black\" points=\"31,-26.27 27.5,-16.27 24,-26.27 31,-26.27\"/>\n",
       "</g>\n",
       "<!-- 8 -->\n",
       "<g id=\"node9\" class=\"node\">\n",
       "<title>8</title>\n",
       "<text text-anchor=\"middle\" x=\"139.5\" y=\"-105.8\" font-family=\"Times,serif\" font-size=\"14.00\">&lt;integer&gt;</text>\n",
       "</g>\n",
       "<!-- 7&#45;&gt;8 -->\n",
       "<g id=\"edge8\" class=\"edge\">\n",
       "<title>7&#45;&gt;8</title>\n",
       "<path fill=\"none\" stroke=\"black\" d=\"M139.5,-153.09C139.5,-146.75 139.5,-136.75 139.5,-128.03\"/>\n",
       "<polygon fill=\"black\" stroke=\"black\" points=\"143,-128.27 139.5,-118.27 136,-128.27 143,-128.27\"/>\n",
       "</g>\n",
       "<!-- 9 -->\n",
       "<g id=\"node10\" class=\"node\">\n",
       "<title>9</title>\n",
       "<text text-anchor=\"middle\" x=\"139.5\" y=\"-54.8\" font-family=\"Times,serif\" font-size=\"14.00\">&lt;digit&gt;</text>\n",
       "</g>\n",
       "<!-- 8&#45;&gt;9 -->\n",
       "<g id=\"edge9\" class=\"edge\">\n",
       "<title>8&#45;&gt;9</title>\n",
       "<path fill=\"none\" stroke=\"black\" d=\"M139.5,-102.09C139.5,-95.75 139.5,-85.75 139.5,-77.03\"/>\n",
       "<polygon fill=\"black\" stroke=\"black\" points=\"143,-77.27 139.5,-67.27 136,-77.27 143,-77.27\"/>\n",
       "</g>\n",
       "<!-- 10 -->\n",
       "<g id=\"node11\" class=\"node\">\n",
       "<title>10</title>\n",
       "<text text-anchor=\"middle\" x=\"139.5\" y=\"-3.8\" font-family=\"Times,serif\" font-size=\"14.00\">2 (50)</text>\n",
       "</g>\n",
       "<!-- 9&#45;&gt;10 -->\n",
       "<g id=\"edge10\" class=\"edge\">\n",
       "<title>9&#45;&gt;10</title>\n",
       "<path fill=\"none\" stroke=\"black\" d=\"M139.5,-51.09C139.5,-44.75 139.5,-34.75 139.5,-26.03\"/>\n",
       "<polygon fill=\"black\" stroke=\"black\" points=\"143,-26.27 139.5,-16.27 136,-26.27 143,-26.27\"/>\n",
       "</g>\n",
       "</g>\n",
       "</svg>\n"
      ],
      "text/plain": [
       "<graphviz.graphs.Digraph at 0x1075de440>"
      ]
     },
     "execution_count": 44,
     "metadata": {},
     "output_type": "execute_result"
    }
   ],
   "source": [
    "tree = ('<start>', [('<expr>',\n",
    "                     [('<expr>', [('<integer>', [('<digit>', [('1', [])])])]),\n",
    "                      ('+', []),\n",
    "                      ('<expr>', [('<integer>', [('<digit>', [('2',\n",
    "                                                               [])])])])])])\n",
    "assert mystring == tree_to_string(tree)\n",
    "display_tree(tree)"
   ]
  },
  {
   "cell_type": "markdown",
   "metadata": {
    "slideshow": {
     "slide_type": "subslide"
    }
   },
   "source": [
    "While a grammar can be used to specify a given language, there could be multiple\n",
    "grammars that correspond to the same language. For example, here is another \n",
    "grammar to describe the same addition expression."
   ]
  },
  {
   "cell_type": "code",
   "execution_count": 45,
   "metadata": {
    "execution": {
     "iopub.execute_input": "2023-01-07T14:16:16.572270Z",
     "iopub.status.busy": "2023-01-07T14:16:16.571956Z",
     "iopub.status.idle": "2023-01-07T14:16:16.573065Z",
     "shell.execute_reply": "2023-01-07T14:16:16.573402Z"
    },
    "slideshow": {
     "slide_type": "subslide"
    }
   },
   "outputs": [],
   "source": [
    "A2_GRAMMAR: Grammar = {\n",
    "    \"<start>\": [\"<expr>\"],\n",
    "    \"<expr>\": [\"<integer><expr_>\"],\n",
    "    \"<expr_>\": [\"+<expr>\", \"-<expr>\", \"\"],\n",
    "    \"<integer>\": [\"<digit><integer_>\"],\n",
    "    \"<integer_>\": [\"<integer>\", \"\"],\n",
    "    \"<digit>\": [\"0\", \"1\", \"2\", \"3\", \"4\", \"5\", \"6\", \"7\", \"8\", \"9\"]\n",
    "}"
   ]
  },
  {
   "cell_type": "code",
   "execution_count": 46,
   "metadata": {
    "execution": {
     "iopub.execute_input": "2023-01-07T14:16:16.576713Z",
     "iopub.status.busy": "2023-01-07T14:16:16.576272Z",
     "iopub.status.idle": "2023-01-07T14:16:16.585877Z",
     "shell.execute_reply": "2023-01-07T14:16:16.586144Z"
    },
    "slideshow": {
     "slide_type": "subslide"
    }
   },
   "outputs": [
    {
     "name": "stdout",
     "output_type": "stream",
     "text": [
      "start\n"
     ]
    },
    {
     "data": {
      "image/svg+xml": [
       "<svg xmlns=\"http://www.w3.org/2000/svg\" class=\"railroad-diagram\" height=\"62\" viewBox=\"0 0 174.0 62\" width=\"174.0\">\n",
       "<g transform=\"translate(.5 .5)\">\n",
       "<style>/* <![CDATA[ */\n",
       "    svg.railroad-diagram {\n",
       "    }\n",
       "    svg.railroad-diagram path {\n",
       "        stroke-width:3;\n",
       "        stroke:black;\n",
       "        fill:white;\n",
       "    }\n",
       "    svg.railroad-diagram text {\n",
       "        font:14px \"Fira Mono\", monospace;\n",
       "        text-anchor:middle;\n",
       "    }\n",
       "    svg.railroad-diagram text.label{\n",
       "        text-anchor:start;\n",
       "    }\n",
       "    svg.railroad-diagram text.comment{\n",
       "        font:italic 12px \"Fira Mono\", monospace;\n",
       "    }\n",
       "    svg.railroad-diagram rect{\n",
       "        stroke-width:2;\n",
       "        stroke:black;\n",
       "        fill:mistyrose;\n",
       "    }\n",
       "\n",
       "/* ]]> */\n",
       "</style><g>\n",
       "<path d=\"M20 21v20m10 -20v20m-10 -10h20\"/></g><g>\n",
       "<path d=\"M40 31h0.0\"/><path d=\"M134.0 31h0.0\"/><path d=\"M40.0 31h20\"/><g>\n",
       "<path d=\"M60.0 31h0.0\"/><path d=\"M114.0 31h0.0\"/><g class=\"non-terminal\">\n",
       "<path d=\"M60.0 31h0.0\"/><path d=\"M114.0 31h0.0\"/><rect height=\"22\" width=\"54.0\" x=\"60.0\" y=\"20\"/><text x=\"87.0\" y=\"35\">expr</text></g></g><path d=\"M114.0 31h20\"/></g><path d=\"M 134.0 31 h 20 m -10 -10 v 20 m 10 -20 v 20\"/></g></svg>"
      ],
      "text/plain": [
       "<IPython.core.display.SVG object>"
      ]
     },
     "metadata": {},
     "output_type": "display_data"
    },
    {
     "name": "stdout",
     "output_type": "stream",
     "text": [
      "expr\n"
     ]
    },
    {
     "data": {
      "image/svg+xml": [
       "<svg xmlns=\"http://www.w3.org/2000/svg\" class=\"railroad-diagram\" height=\"62\" viewBox=\"0 0 282.0 62\" width=\"282.0\">\n",
       "<g transform=\"translate(.5 .5)\">\n",
       "<style>/* <![CDATA[ */\n",
       "    svg.railroad-diagram {\n",
       "    }\n",
       "    svg.railroad-diagram path {\n",
       "        stroke-width:3;\n",
       "        stroke:black;\n",
       "        fill:white;\n",
       "    }\n",
       "    svg.railroad-diagram text {\n",
       "        font:14px \"Fira Mono\", monospace;\n",
       "        text-anchor:middle;\n",
       "    }\n",
       "    svg.railroad-diagram text.label{\n",
       "        text-anchor:start;\n",
       "    }\n",
       "    svg.railroad-diagram text.comment{\n",
       "        font:italic 12px \"Fira Mono\", monospace;\n",
       "    }\n",
       "    svg.railroad-diagram rect{\n",
       "        stroke-width:2;\n",
       "        stroke:black;\n",
       "        fill:mistyrose;\n",
       "    }\n",
       "\n",
       "/* ]]> */\n",
       "</style><g>\n",
       "<path d=\"M20 21v20m10 -20v20m-10 -10h20\"/></g><g>\n",
       "<path d=\"M40 31h0.0\"/><path d=\"M242.0 31h0.0\"/><path d=\"M40.0 31h20\"/><g>\n",
       "<path d=\"M60.0 31h0.0\"/><path d=\"M222.0 31h0.0\"/><g class=\"non-terminal\">\n",
       "<path d=\"M60.0 31h0.0\"/><path d=\"M139.5 31h0.0\"/><rect height=\"22\" width=\"79.5\" x=\"60.0\" y=\"20\"/><text x=\"99.75\" y=\"35\">integer</text></g><path d=\"M139.5 31h10\"/><path d=\"M149.5 31h10\"/><g class=\"non-terminal\">\n",
       "<path d=\"M159.5 31h0.0\"/><path d=\"M222.0 31h0.0\"/><rect height=\"22\" width=\"62.5\" x=\"159.5\" y=\"20\"/><text x=\"190.75\" y=\"35\">expr_</text></g></g><path d=\"M222.0 31h20\"/></g><path d=\"M 242.0 31 h 20 m -10 -10 v 20 m 10 -20 v 20\"/></g></svg>"
      ],
      "text/plain": [
       "<IPython.core.display.SVG object>"
      ]
     },
     "metadata": {},
     "output_type": "display_data"
    },
    {
     "name": "stdout",
     "output_type": "stream",
     "text": [
      "expr_\n"
     ]
    },
    {
     "data": {
      "image/svg+xml": [
       "<svg xmlns=\"http://www.w3.org/2000/svg\" class=\"railroad-diagram\" height=\"122\" viewBox=\"0 0 222.5 122\" width=\"222.5\">\n",
       "<g transform=\"translate(.5 .5)\">\n",
       "<style>/* <![CDATA[ */\n",
       "    svg.railroad-diagram {\n",
       "    }\n",
       "    svg.railroad-diagram path {\n",
       "        stroke-width:3;\n",
       "        stroke:black;\n",
       "        fill:white;\n",
       "    }\n",
       "    svg.railroad-diagram text {\n",
       "        font:14px \"Fira Mono\", monospace;\n",
       "        text-anchor:middle;\n",
       "    }\n",
       "    svg.railroad-diagram text.label{\n",
       "        text-anchor:start;\n",
       "    }\n",
       "    svg.railroad-diagram text.comment{\n",
       "        font:italic 12px \"Fira Mono\", monospace;\n",
       "    }\n",
       "    svg.railroad-diagram rect{\n",
       "        stroke-width:2;\n",
       "        stroke:black;\n",
       "        fill:mistyrose;\n",
       "    }\n",
       "\n",
       "/* ]]> */\n",
       "</style><g>\n",
       "<path d=\"M20 51v20m10 -20v20m-10 -10h20\"/></g><g>\n",
       "<path d=\"M40 61h0.0\"/><path d=\"M182.5 61h0.0\"/><path d=\"M40.0 61a10 10 0 0 0 10 -10v-10a10 10 0 0 1 10 -10\"/><g>\n",
       "<path d=\"M60.0 31h0.0\"/><path d=\"M162.5 31h0.0\"/><g class=\"terminal\">\n",
       "<path d=\"M60.0 31h0.0\"/><path d=\"M88.5 31h0.0\"/><rect height=\"22\" rx=\"10\" ry=\"10\" width=\"28.5\" x=\"60.0\" y=\"20\"/><text x=\"74.25\" y=\"35\">+</text></g><path d=\"M88.5 31h10\"/><path d=\"M98.5 31h10\"/><g class=\"non-terminal\">\n",
       "<path d=\"M108.5 31h0.0\"/><path d=\"M162.5 31h0.0\"/><rect height=\"22\" width=\"54.0\" x=\"108.5\" y=\"20\"/><text x=\"135.5\" y=\"35\">expr</text></g></g><path d=\"M162.5 31a10 10 0 0 1 10 10v10a10 10 0 0 0 10 10\"/><path d=\"M40.0 61h20\"/><g>\n",
       "<path d=\"M60.0 61h0.0\"/><path d=\"M162.5 61h0.0\"/><g class=\"terminal\">\n",
       "<path d=\"M60.0 61h0.0\"/><path d=\"M88.5 61h0.0\"/><rect height=\"22\" rx=\"10\" ry=\"10\" width=\"28.5\" x=\"60.0\" y=\"50\"/><text x=\"74.25\" y=\"65\">-</text></g><path d=\"M88.5 61h10\"/><path d=\"M98.5 61h10\"/><g class=\"non-terminal\">\n",
       "<path d=\"M108.5 61h0.0\"/><path d=\"M162.5 61h0.0\"/><rect height=\"22\" width=\"54.0\" x=\"108.5\" y=\"50\"/><text x=\"135.5\" y=\"65\">expr</text></g></g><path d=\"M162.5 61h20\"/><path d=\"M40.0 61a10 10 0 0 1 10 10v10a10 10 0 0 0 10 10\"/><g>\n",
       "<path d=\"M60.0 91h41.25\"/><path d=\"M121.25 91h41.25\"/><g class=\"terminal\">\n",
       "<path d=\"M101.25 91h0.0\"/><path d=\"M121.25 91h0.0\"/><rect height=\"22\" rx=\"10\" ry=\"10\" width=\"20.0\" x=\"101.25\" y=\"80\"/><text x=\"111.25\" y=\"95\"/></g></g><path d=\"M162.5 91a10 10 0 0 0 10 -10v-10a10 10 0 0 1 10 -10\"/></g><path d=\"M 182.5 61 h 20 m -10 -10 v 20 m 10 -20 v 20\"/></g></svg>"
      ],
      "text/plain": [
       "<IPython.core.display.SVG object>"
      ]
     },
     "metadata": {},
     "output_type": "display_data"
    },
    {
     "name": "stdout",
     "output_type": "stream",
     "text": [
      "integer\n"
     ]
    },
    {
     "data": {
      "image/svg+xml": [
       "<svg xmlns=\"http://www.w3.org/2000/svg\" class=\"railroad-diagram\" height=\"62\" viewBox=\"0 0 290.5 62\" width=\"290.5\">\n",
       "<g transform=\"translate(.5 .5)\">\n",
       "<style>/* <![CDATA[ */\n",
       "    svg.railroad-diagram {\n",
       "    }\n",
       "    svg.railroad-diagram path {\n",
       "        stroke-width:3;\n",
       "        stroke:black;\n",
       "        fill:white;\n",
       "    }\n",
       "    svg.railroad-diagram text {\n",
       "        font:14px \"Fira Mono\", monospace;\n",
       "        text-anchor:middle;\n",
       "    }\n",
       "    svg.railroad-diagram text.label{\n",
       "        text-anchor:start;\n",
       "    }\n",
       "    svg.railroad-diagram text.comment{\n",
       "        font:italic 12px \"Fira Mono\", monospace;\n",
       "    }\n",
       "    svg.railroad-diagram rect{\n",
       "        stroke-width:2;\n",
       "        stroke:black;\n",
       "        fill:mistyrose;\n",
       "    }\n",
       "\n",
       "/* ]]> */\n",
       "</style><g>\n",
       "<path d=\"M20 21v20m10 -20v20m-10 -10h20\"/></g><g>\n",
       "<path d=\"M40 31h0.0\"/><path d=\"M250.5 31h0.0\"/><path d=\"M40.0 31h20\"/><g>\n",
       "<path d=\"M60.0 31h0.0\"/><path d=\"M230.5 31h0.0\"/><g class=\"non-terminal\">\n",
       "<path d=\"M60.0 31h0.0\"/><path d=\"M122.5 31h0.0\"/><rect height=\"22\" width=\"62.5\" x=\"60.0\" y=\"20\"/><text x=\"91.25\" y=\"35\">digit</text></g><path d=\"M122.5 31h10\"/><path d=\"M132.5 31h10\"/><g class=\"non-terminal\">\n",
       "<path d=\"M142.5 31h0.0\"/><path d=\"M230.5 31h0.0\"/><rect height=\"22\" width=\"88.0\" x=\"142.5\" y=\"20\"/><text x=\"186.5\" y=\"35\">integer_</text></g></g><path d=\"M230.5 31h20\"/></g><path d=\"M 250.5 31 h 20 m -10 -10 v 20 m 10 -20 v 20\"/></g></svg>"
      ],
      "text/plain": [
       "<IPython.core.display.SVG object>"
      ]
     },
     "metadata": {},
     "output_type": "display_data"
    },
    {
     "name": "stdout",
     "output_type": "stream",
     "text": [
      "integer_\n"
     ]
    },
    {
     "data": {
      "image/svg+xml": [
       "<svg xmlns=\"http://www.w3.org/2000/svg\" class=\"railroad-diagram\" height=\"92\" viewBox=\"0 0 199.5 92\" width=\"199.5\">\n",
       "<g transform=\"translate(.5 .5)\">\n",
       "<style>/* <![CDATA[ */\n",
       "    svg.railroad-diagram {\n",
       "    }\n",
       "    svg.railroad-diagram path {\n",
       "        stroke-width:3;\n",
       "        stroke:black;\n",
       "        fill:white;\n",
       "    }\n",
       "    svg.railroad-diagram text {\n",
       "        font:14px \"Fira Mono\", monospace;\n",
       "        text-anchor:middle;\n",
       "    }\n",
       "    svg.railroad-diagram text.label{\n",
       "        text-anchor:start;\n",
       "    }\n",
       "    svg.railroad-diagram text.comment{\n",
       "        font:italic 12px \"Fira Mono\", monospace;\n",
       "    }\n",
       "    svg.railroad-diagram rect{\n",
       "        stroke-width:2;\n",
       "        stroke:black;\n",
       "        fill:mistyrose;\n",
       "    }\n",
       "\n",
       "/* ]]> */\n",
       "</style><g>\n",
       "<path d=\"M20 51v20m10 -20v20m-10 -10h20\"/></g><g>\n",
       "<path d=\"M40 61h0.0\"/><path d=\"M159.5 61h0.0\"/><path d=\"M40.0 61a10 10 0 0 0 10 -10v-10a10 10 0 0 1 10 -10\"/><g>\n",
       "<path d=\"M60.0 31h0.0\"/><path d=\"M139.5 31h0.0\"/><g class=\"non-terminal\">\n",
       "<path d=\"M60.0 31h0.0\"/><path d=\"M139.5 31h0.0\"/><rect height=\"22\" width=\"79.5\" x=\"60.0\" y=\"20\"/><text x=\"99.75\" y=\"35\">integer</text></g></g><path d=\"M139.5 31a10 10 0 0 1 10 10v10a10 10 0 0 0 10 10\"/><path d=\"M40.0 61h20\"/><g>\n",
       "<path d=\"M60.0 61h29.75\"/><path d=\"M109.75 61h29.75\"/><g class=\"terminal\">\n",
       "<path d=\"M89.75 61h0.0\"/><path d=\"M109.75 61h0.0\"/><rect height=\"22\" rx=\"10\" ry=\"10\" width=\"20.0\" x=\"89.75\" y=\"50\"/><text x=\"99.75\" y=\"65\"/></g></g><path d=\"M139.5 61h20\"/></g><path d=\"M 159.5 61 h 20 m -10 -10 v 20 m 10 -20 v 20\"/></g></svg>"
      ],
      "text/plain": [
       "<IPython.core.display.SVG object>"
      ]
     },
     "metadata": {},
     "output_type": "display_data"
    },
    {
     "name": "stdout",
     "output_type": "stream",
     "text": [
      "digit\n"
     ]
    },
    {
     "data": {
      "image/svg+xml": [
       "<svg xmlns=\"http://www.w3.org/2000/svg\" class=\"railroad-diagram\" height=\"109\" viewBox=\"0 0 522.5 109\" width=\"522.5\">\n",
       "<g transform=\"translate(.5 .5)\">\n",
       "<style>/* <![CDATA[ */\n",
       "    svg.railroad-diagram {\n",
       "    }\n",
       "    svg.railroad-diagram path {\n",
       "        stroke-width:3;\n",
       "        stroke:black;\n",
       "        fill:white;\n",
       "    }\n",
       "    svg.railroad-diagram text {\n",
       "        font:14px \"Fira Mono\", monospace;\n",
       "        text-anchor:middle;\n",
       "    }\n",
       "    svg.railroad-diagram text.label{\n",
       "        text-anchor:start;\n",
       "    }\n",
       "    svg.railroad-diagram text.comment{\n",
       "        font:italic 12px \"Fira Mono\", monospace;\n",
       "    }\n",
       "    svg.railroad-diagram rect{\n",
       "        stroke-width:2;\n",
       "        stroke:black;\n",
       "        fill:mistyrose;\n",
       "    }\n",
       "\n",
       "/* ]]> */\n",
       "</style><g>\n",
       "<path d=\"M20 59v20m10 -20v20m-10 -10h20\"/></g><g>\n",
       "<path d=\"M40 69h0.0\"/><path d=\"M482.5 69h0.0\"/><path d=\"M40.0 69a10 10 0 0 0 10 -10v-29a10 10 0 0 1 10 -10h324.0\"/><path d=\"M138.5 89h324.0a10 10 0 0 0 10 -10v0a10 10 0 0 1 10 -10\"/><path d=\"M40.0 69h10\"/><g>\n",
       "<path d=\"M50.0 69h0.0\"/><path d=\"M118.5 69h0.0\"/><path d=\"M50.0 69a10 10 0 0 0 10 -10v-10a10 10 0 0 1 10 -10\"/><g>\n",
       "<path d=\"M70.0 39h0.0\"/><path d=\"M98.5 39h0.0\"/><g class=\"terminal\">\n",
       "<path d=\"M70.0 39h0.0\"/><path d=\"M98.5 39h0.0\"/><rect height=\"22\" rx=\"10\" ry=\"10\" width=\"28.5\" x=\"70.0\" y=\"28\"/><text x=\"84.25\" y=\"43\">0</text></g></g><path d=\"M98.5 39a10 10 0 0 1 10 10v10a10 10 0 0 0 10 10\"/><path d=\"M50.0 69h20\"/><g>\n",
       "<path d=\"M70.0 69h0.0\"/><path d=\"M98.5 69h0.0\"/><g class=\"terminal\">\n",
       "<path d=\"M70.0 69h0.0\"/><path d=\"M98.5 69h0.0\"/><rect height=\"22\" rx=\"10\" ry=\"10\" width=\"28.5\" x=\"70.0\" y=\"58\"/><text x=\"84.25\" y=\"73\">1</text></g></g><path d=\"M98.5 69h20\"/></g><path d=\"M118.5 69a10 10 0 0 1 10 10v0a10 10 0 0 0 10 10\"/><path d=\"M118.5 20a10 10 0 0 1 10 10v29a10 10 0 0 0 10 10\"/><g>\n",
       "<path d=\"M138.5 69h0.0\"/><path d=\"M207.0 69h0.0\"/><path d=\"M138.5 69a10 10 0 0 0 10 -10v-10a10 10 0 0 1 10 -10\"/><g>\n",
       "<path d=\"M158.5 39h0.0\"/><path d=\"M187.0 39h0.0\"/><g class=\"terminal\">\n",
       "<path d=\"M158.5 39h0.0\"/><path d=\"M187.0 39h0.0\"/><rect height=\"22\" rx=\"10\" ry=\"10\" width=\"28.5\" x=\"158.5\" y=\"28\"/><text x=\"172.75\" y=\"43\">2</text></g></g><path d=\"M187.0 39a10 10 0 0 1 10 10v10a10 10 0 0 0 10 10\"/><path d=\"M138.5 69h20\"/><g>\n",
       "<path d=\"M158.5 69h0.0\"/><path d=\"M187.0 69h0.0\"/><g class=\"terminal\">\n",
       "<path d=\"M158.5 69h0.0\"/><path d=\"M187.0 69h0.0\"/><rect height=\"22\" rx=\"10\" ry=\"10\" width=\"28.5\" x=\"158.5\" y=\"58\"/><text x=\"172.75\" y=\"73\">3</text></g></g><path d=\"M187.0 69h20\"/></g><path d=\"M207.0 69a10 10 0 0 1 10 10v0a10 10 0 0 0 10 10\"/><path d=\"M207.0 20a10 10 0 0 1 10 10v29a10 10 0 0 0 10 10\"/><g>\n",
       "<path d=\"M227.0 69h0.0\"/><path d=\"M295.5 69h0.0\"/><path d=\"M227.0 69a10 10 0 0 0 10 -10v-10a10 10 0 0 1 10 -10\"/><g>\n",
       "<path d=\"M247.0 39h0.0\"/><path d=\"M275.5 39h0.0\"/><g class=\"terminal\">\n",
       "<path d=\"M247.0 39h0.0\"/><path d=\"M275.5 39h0.0\"/><rect height=\"22\" rx=\"10\" ry=\"10\" width=\"28.5\" x=\"247.0\" y=\"28\"/><text x=\"261.25\" y=\"43\">4</text></g></g><path d=\"M275.5 39a10 10 0 0 1 10 10v10a10 10 0 0 0 10 10\"/><path d=\"M227.0 69h20\"/><g>\n",
       "<path d=\"M247.0 69h0.0\"/><path d=\"M275.5 69h0.0\"/><g class=\"terminal\">\n",
       "<path d=\"M247.0 69h0.0\"/><path d=\"M275.5 69h0.0\"/><rect height=\"22\" rx=\"10\" ry=\"10\" width=\"28.5\" x=\"247.0\" y=\"58\"/><text x=\"261.25\" y=\"73\">5</text></g></g><path d=\"M275.5 69h20\"/></g><path d=\"M295.5 69a10 10 0 0 1 10 10v0a10 10 0 0 0 10 10\"/><path d=\"M295.5 20a10 10 0 0 1 10 10v29a10 10 0 0 0 10 10\"/><g>\n",
       "<path d=\"M315.5 69h0.0\"/><path d=\"M384.0 69h0.0\"/><path d=\"M315.5 69a10 10 0 0 0 10 -10v-10a10 10 0 0 1 10 -10\"/><g>\n",
       "<path d=\"M335.5 39h0.0\"/><path d=\"M364.0 39h0.0\"/><g class=\"terminal\">\n",
       "<path d=\"M335.5 39h0.0\"/><path d=\"M364.0 39h0.0\"/><rect height=\"22\" rx=\"10\" ry=\"10\" width=\"28.5\" x=\"335.5\" y=\"28\"/><text x=\"349.75\" y=\"43\">6</text></g></g><path d=\"M364.0 39a10 10 0 0 1 10 10v10a10 10 0 0 0 10 10\"/><path d=\"M315.5 69h20\"/><g>\n",
       "<path d=\"M335.5 69h0.0\"/><path d=\"M364.0 69h0.0\"/><g class=\"terminal\">\n",
       "<path d=\"M335.5 69h0.0\"/><path d=\"M364.0 69h0.0\"/><rect height=\"22\" rx=\"10\" ry=\"10\" width=\"28.5\" x=\"335.5\" y=\"58\"/><text x=\"349.75\" y=\"73\">7</text></g></g><path d=\"M364.0 69h20\"/></g><path d=\"M384.0 69a10 10 0 0 1 10 10v0a10 10 0 0 0 10 10\"/><path d=\"M384.0 20a10 10 0 0 1 10 10v29a10 10 0 0 0 10 10\"/><g>\n",
       "<path d=\"M404.0 69h0.0\"/><path d=\"M472.5 69h0.0\"/><path d=\"M404.0 69a10 10 0 0 0 10 -10v-10a10 10 0 0 1 10 -10\"/><g>\n",
       "<path d=\"M424.0 39h0.0\"/><path d=\"M452.5 39h0.0\"/><g class=\"terminal\">\n",
       "<path d=\"M424.0 39h0.0\"/><path d=\"M452.5 39h0.0\"/><rect height=\"22\" rx=\"10\" ry=\"10\" width=\"28.5\" x=\"424.0\" y=\"28\"/><text x=\"438.25\" y=\"43\">8</text></g></g><path d=\"M452.5 39a10 10 0 0 1 10 10v10a10 10 0 0 0 10 10\"/><path d=\"M404.0 69h20\"/><g>\n",
       "<path d=\"M424.0 69h0.0\"/><path d=\"M452.5 69h0.0\"/><g class=\"terminal\">\n",
       "<path d=\"M424.0 69h0.0\"/><path d=\"M452.5 69h0.0\"/><rect height=\"22\" rx=\"10\" ry=\"10\" width=\"28.5\" x=\"424.0\" y=\"58\"/><text x=\"438.25\" y=\"73\">9</text></g></g><path d=\"M452.5 69h20\"/></g><path d=\"M472.5 69h10\"/></g><path d=\"M 482.5 69 h 20 m -10 -10 v 20 m 10 -20 v 20\"/></g></svg>"
      ],
      "text/plain": [
       "<IPython.core.display.SVG object>"
      ]
     },
     "metadata": {},
     "output_type": "display_data"
    }
   ],
   "source": [
    "syntax_diagram(A2_GRAMMAR)"
   ]
  },
  {
   "cell_type": "markdown",
   "metadata": {
    "slideshow": {
     "slide_type": "subslide"
    }
   },
   "source": [
    "The corresponding derivation tree is given by:"
   ]
  },
  {
   "cell_type": "code",
   "execution_count": 47,
   "metadata": {
    "execution": {
     "iopub.execute_input": "2023-01-07T14:16:16.592080Z",
     "iopub.status.busy": "2023-01-07T14:16:16.587527Z",
     "iopub.status.idle": "2023-01-07T14:16:16.843730Z",
     "shell.execute_reply": "2023-01-07T14:16:16.844075Z"
    },
    "slideshow": {
     "slide_type": "subslide"
    }
   },
   "outputs": [
    {
     "data": {
      "image/svg+xml": [
       "<?xml version=\"1.0\" encoding=\"UTF-8\" standalone=\"no\"?>\n",
       "<!DOCTYPE svg PUBLIC \"-//W3C//DTD SVG 1.1//EN\"\n",
       " \"http://www.w3.org/Graphics/SVG/1.1/DTD/svg11.dtd\">\n",
       "<!-- Generated by graphviz version 7.0.2 (20221119.0110)\n",
       " -->\n",
       "<!-- Pages: 1 -->\n",
       "<svg width=\"282pt\" height=\"329pt\"\n",
       " viewBox=\"0.00 0.00 282.00 329.00\" xmlns=\"http://www.w3.org/2000/svg\" xmlns:xlink=\"http://www.w3.org/1999/xlink\">\n",
       "<g id=\"graph0\" class=\"graph\" transform=\"scale(1 1) rotate(0) translate(4 325)\">\n",
       "<polygon fill=\"white\" stroke=\"none\" points=\"-4,4 -4,-325 278,-325 278,4 -4,4\"/>\n",
       "<!-- 0 -->\n",
       "<g id=\"node1\" class=\"node\">\n",
       "<title>0</title>\n",
       "<text text-anchor=\"middle\" x=\"125\" y=\"-309.8\" font-family=\"Times,serif\" font-size=\"14.00\">&lt;start&gt;</text>\n",
       "</g>\n",
       "<!-- 1 -->\n",
       "<g id=\"node2\" class=\"node\">\n",
       "<title>1</title>\n",
       "<text text-anchor=\"middle\" x=\"125\" y=\"-258.8\" font-family=\"Times,serif\" font-size=\"14.00\">&lt;expr&gt;</text>\n",
       "</g>\n",
       "<!-- 0&#45;&gt;1 -->\n",
       "<g id=\"edge1\" class=\"edge\">\n",
       "<title>0&#45;&gt;1</title>\n",
       "<path fill=\"none\" stroke=\"black\" d=\"M125,-306.09C125,-299.75 125,-289.75 125,-281.03\"/>\n",
       "<polygon fill=\"black\" stroke=\"black\" points=\"128.5,-281.27 125,-271.27 121.5,-281.27 128.5,-281.27\"/>\n",
       "</g>\n",
       "<!-- 2 -->\n",
       "<g id=\"node3\" class=\"node\">\n",
       "<title>2</title>\n",
       "<text text-anchor=\"middle\" x=\"90\" y=\"-207.8\" font-family=\"Times,serif\" font-size=\"14.00\">&lt;integer&gt;</text>\n",
       "</g>\n",
       "<!-- 1&#45;&gt;2 -->\n",
       "<g id=\"edge2\" class=\"edge\">\n",
       "<title>1&#45;&gt;2</title>\n",
       "<path fill=\"none\" stroke=\"black\" d=\"M120.42,-255.09C115.52,-248.23 107.57,-237.1 101.02,-227.93\"/>\n",
       "<polygon fill=\"black\" stroke=\"black\" points=\"104.01,-226.09 95.35,-219.98 98.31,-230.16 104.01,-226.09\"/>\n",
       "</g>\n",
       "<!-- 6 -->\n",
       "<g id=\"node7\" class=\"node\">\n",
       "<title>6</title>\n",
       "<text text-anchor=\"middle\" x=\"160\" y=\"-207.8\" font-family=\"Times,serif\" font-size=\"14.00\">&lt;expr_&gt;</text>\n",
       "</g>\n",
       "<!-- 1&#45;&gt;6 -->\n",
       "<g id=\"edge6\" class=\"edge\">\n",
       "<title>1&#45;&gt;6</title>\n",
       "<path fill=\"none\" stroke=\"black\" d=\"M129.58,-255.09C134.48,-248.23 142.43,-237.1 148.98,-227.93\"/>\n",
       "<polygon fill=\"black\" stroke=\"black\" points=\"151.69,-230.16 154.65,-219.98 145.99,-226.09 151.69,-230.16\"/>\n",
       "</g>\n",
       "<!-- 3 -->\n",
       "<g id=\"node4\" class=\"node\">\n",
       "<title>3</title>\n",
       "<text text-anchor=\"middle\" x=\"21\" y=\"-156.8\" font-family=\"Times,serif\" font-size=\"14.00\">&lt;digit&gt;</text>\n",
       "</g>\n",
       "<!-- 2&#45;&gt;3 -->\n",
       "<g id=\"edge3\" class=\"edge\">\n",
       "<title>2&#45;&gt;3</title>\n",
       "<path fill=\"none\" stroke=\"black\" d=\"M80.98,-204.09C70.38,-196.57 52.54,-183.9 39.07,-174.33\"/>\n",
       "<polygon fill=\"black\" stroke=\"black\" points=\"41.22,-171.57 31.04,-168.63 37.17,-177.27 41.22,-171.57\"/>\n",
       "</g>\n",
       "<!-- 5 -->\n",
       "<g id=\"node6\" class=\"node\">\n",
       "<title>5</title>\n",
       "<text text-anchor=\"middle\" x=\"91\" y=\"-156.8\" font-family=\"Times,serif\" font-size=\"14.00\">&lt;integer_&gt;</text>\n",
       "</g>\n",
       "<!-- 2&#45;&gt;5 -->\n",
       "<g id=\"edge5\" class=\"edge\">\n",
       "<title>2&#45;&gt;5</title>\n",
       "<path fill=\"none\" stroke=\"black\" d=\"M90.13,-204.09C90.26,-197.75 90.46,-187.75 90.64,-179.03\"/>\n",
       "<polygon fill=\"black\" stroke=\"black\" points=\"94.14,-179.34 90.84,-169.27 87.14,-179.19 94.14,-179.34\"/>\n",
       "</g>\n",
       "<!-- 4 -->\n",
       "<g id=\"node5\" class=\"node\">\n",
       "<title>4</title>\n",
       "<text text-anchor=\"middle\" x=\"21\" y=\"-105.8\" font-family=\"Times,serif\" font-size=\"14.00\">1 (49)</text>\n",
       "</g>\n",
       "<!-- 3&#45;&gt;4 -->\n",
       "<g id=\"edge4\" class=\"edge\">\n",
       "<title>3&#45;&gt;4</title>\n",
       "<path fill=\"none\" stroke=\"black\" d=\"M21,-153.09C21,-146.75 21,-136.75 21,-128.03\"/>\n",
       "<polygon fill=\"black\" stroke=\"black\" points=\"24.5,-128.27 21,-118.27 17.5,-128.27 24.5,-128.27\"/>\n",
       "</g>\n",
       "<!-- 7 -->\n",
       "<g id=\"node8\" class=\"node\">\n",
       "<title>7</title>\n",
       "<text text-anchor=\"middle\" x=\"159\" y=\"-156.8\" font-family=\"Times,serif\" font-size=\"14.00\">+ (43)</text>\n",
       "</g>\n",
       "<!-- 6&#45;&gt;7 -->\n",
       "<g id=\"edge7\" class=\"edge\">\n",
       "<title>6&#45;&gt;7</title>\n",
       "<path fill=\"none\" stroke=\"black\" d=\"M159.87,-204.09C159.74,-197.75 159.54,-187.75 159.36,-179.03\"/>\n",
       "<polygon fill=\"black\" stroke=\"black\" points=\"162.86,-179.19 159.16,-169.27 155.86,-179.34 162.86,-179.19\"/>\n",
       "</g>\n",
       "<!-- 8 -->\n",
       "<g id=\"node9\" class=\"node\">\n",
       "<title>8</title>\n",
       "<text text-anchor=\"middle\" x=\"215\" y=\"-156.8\" font-family=\"Times,serif\" font-size=\"14.00\">&lt;expr&gt;</text>\n",
       "</g>\n",
       "<!-- 6&#45;&gt;8 -->\n",
       "<g id=\"edge8\" class=\"edge\">\n",
       "<title>6&#45;&gt;8</title>\n",
       "<path fill=\"none\" stroke=\"black\" d=\"M167.19,-204.09C175.39,-196.79 189.03,-184.64 199.64,-175.18\"/>\n",
       "<polygon fill=\"black\" stroke=\"black\" points=\"201.71,-178.02 206.85,-168.76 197.06,-172.8 201.71,-178.02\"/>\n",
       "</g>\n",
       "<!-- 9 -->\n",
       "<g id=\"node10\" class=\"node\">\n",
       "<title>9</title>\n",
       "<text text-anchor=\"middle\" x=\"180\" y=\"-105.8\" font-family=\"Times,serif\" font-size=\"14.00\">&lt;integer&gt;</text>\n",
       "</g>\n",
       "<!-- 8&#45;&gt;9 -->\n",
       "<g id=\"edge9\" class=\"edge\">\n",
       "<title>8&#45;&gt;9</title>\n",
       "<path fill=\"none\" stroke=\"black\" d=\"M210.42,-153.09C205.52,-146.23 197.57,-135.1 191.02,-125.93\"/>\n",
       "<polygon fill=\"black\" stroke=\"black\" points=\"194.01,-124.09 185.35,-117.98 188.31,-128.16 194.01,-124.09\"/>\n",
       "</g>\n",
       "<!-- 13 -->\n",
       "<g id=\"node14\" class=\"node\">\n",
       "<title>13</title>\n",
       "<text text-anchor=\"middle\" x=\"250\" y=\"-105.8\" font-family=\"Times,serif\" font-size=\"14.00\">&lt;expr_&gt;</text>\n",
       "</g>\n",
       "<!-- 8&#45;&gt;13 -->\n",
       "<g id=\"edge13\" class=\"edge\">\n",
       "<title>8&#45;&gt;13</title>\n",
       "<path fill=\"none\" stroke=\"black\" d=\"M219.58,-153.09C224.48,-146.23 232.43,-135.1 238.98,-125.93\"/>\n",
       "<polygon fill=\"black\" stroke=\"black\" points=\"241.69,-128.16 244.65,-117.98 235.99,-124.09 241.69,-128.16\"/>\n",
       "</g>\n",
       "<!-- 10 -->\n",
       "<g id=\"node11\" class=\"node\">\n",
       "<title>10</title>\n",
       "<text text-anchor=\"middle\" x=\"145\" y=\"-54.8\" font-family=\"Times,serif\" font-size=\"14.00\">&lt;digit&gt;</text>\n",
       "</g>\n",
       "<!-- 9&#45;&gt;10 -->\n",
       "<g id=\"edge10\" class=\"edge\">\n",
       "<title>9&#45;&gt;10</title>\n",
       "<path fill=\"none\" stroke=\"black\" d=\"M175.42,-102.09C170.52,-95.23 162.57,-84.1 156.02,-74.93\"/>\n",
       "<polygon fill=\"black\" stroke=\"black\" points=\"159.01,-73.09 150.35,-66.98 153.31,-77.16 159.01,-73.09\"/>\n",
       "</g>\n",
       "<!-- 12 -->\n",
       "<g id=\"node13\" class=\"node\">\n",
       "<title>12</title>\n",
       "<text text-anchor=\"middle\" x=\"215\" y=\"-54.8\" font-family=\"Times,serif\" font-size=\"14.00\">&lt;integer_&gt;</text>\n",
       "</g>\n",
       "<!-- 9&#45;&gt;12 -->\n",
       "<g id=\"edge12\" class=\"edge\">\n",
       "<title>9&#45;&gt;12</title>\n",
       "<path fill=\"none\" stroke=\"black\" d=\"M184.58,-102.09C189.48,-95.23 197.43,-84.1 203.98,-74.93\"/>\n",
       "<polygon fill=\"black\" stroke=\"black\" points=\"206.69,-77.16 209.65,-66.98 200.99,-73.09 206.69,-77.16\"/>\n",
       "</g>\n",
       "<!-- 11 -->\n",
       "<g id=\"node12\" class=\"node\">\n",
       "<title>11</title>\n",
       "<text text-anchor=\"middle\" x=\"145\" y=\"-3.8\" font-family=\"Times,serif\" font-size=\"14.00\">2 (50)</text>\n",
       "</g>\n",
       "<!-- 10&#45;&gt;11 -->\n",
       "<g id=\"edge11\" class=\"edge\">\n",
       "<title>10&#45;&gt;11</title>\n",
       "<path fill=\"none\" stroke=\"black\" d=\"M145,-51.09C145,-44.75 145,-34.75 145,-26.03\"/>\n",
       "<polygon fill=\"black\" stroke=\"black\" points=\"148.5,-26.27 145,-16.27 141.5,-26.27 148.5,-26.27\"/>\n",
       "</g>\n",
       "</g>\n",
       "</svg>\n"
      ],
      "text/plain": [
       "<graphviz.graphs.Digraph at 0x1075dfa90>"
      ]
     },
     "execution_count": 47,
     "metadata": {},
     "output_type": "execute_result"
    }
   ],
   "source": [
    "tree = ('<start>', [('<expr>', [('<integer>', [('<digit>', [('1', [])]),\n",
    "                                               ('<integer_>', [])]),\n",
    "                                ('<expr_>', [('+', []),\n",
    "                                             ('<expr>',\n",
    "                                              [('<integer>',\n",
    "                                                [('<digit>', [('2', [])]),\n",
    "                                                 ('<integer_>', [])]),\n",
    "                                               ('<expr_>', [])])])])])\n",
    "assert mystring == tree_to_string(tree)\n",
    "display_tree(tree)"
   ]
  },
  {
   "attachments": {},
   "cell_type": "markdown",
   "metadata": {
    "slideshow": {
     "slide_type": "notes"
    }
   },
   "source": [
    "Indeed, there could be different classes of grammars that\n",
    "describe the same language. For example, the first grammar `A1_GRAMMAR`\n",
    "is a grammar that sports both _right_ and _left_ recursion, while the\n",
    "second grammar `A2_GRAMMAR` does not have left recursion in the\n",
    "nonterminals in any of its productions, but contains _epsilon_ productions.\n",
    "(An epsilon production is a production that has empty string in its right-hand side.)"
   ]
  },
  {
   "cell_type": "markdown",
   "metadata": {
    "slideshow": {
     "slide_type": "subslide"
    }
   },
   "source": [
    "### End of Excursion"
   ]
  },
  {
   "cell_type": "markdown",
   "metadata": {
    "slideshow": {
     "slide_type": "subslide"
    }
   },
   "source": [
    "### Excursion: Recursion"
   ]
  },
  {
   "cell_type": "markdown",
   "metadata": {
    "slideshow": {
     "slide_type": "notes"
    }
   },
   "source": [
    "You would have noticed that we reuse the term `<expr>` in its own definition. Using the same nonterminal in its own definition is called *recursion*. There are two specific kinds of recursion one should be aware of in parsing, as we see in the next section."
   ]
  },
  {
   "attachments": {},
   "cell_type": "markdown",
   "metadata": {
    "slideshow": {
     "slide_type": "notes"
    }
   },
   "source": [
    "#### Recursion\n",
    "\n",
    "A grammar is _left recursive_ if any of its nonterminals are left recursive,\n",
    "and a nonterminal is _directly left-recursive_ if the left-most symbol of\n",
    "any of its productions is itself."
   ]
  },
  {
   "cell_type": "code",
   "execution_count": 48,
   "metadata": {
    "execution": {
     "iopub.execute_input": "2023-01-07T14:16:16.846999Z",
     "iopub.status.busy": "2023-01-07T14:16:16.846589Z",
     "iopub.status.idle": "2023-01-07T14:16:16.847940Z",
     "shell.execute_reply": "2023-01-07T14:16:16.848181Z"
    },
    "slideshow": {
     "slide_type": "fragment"
    }
   },
   "outputs": [],
   "source": [
    "LR_GRAMMAR: Grammar = {\n",
    "    '<start>': ['<A>'],\n",
    "    '<A>': ['<A>a', ''],\n",
    "}"
   ]
  },
  {
   "cell_type": "code",
   "execution_count": 49,
   "metadata": {
    "execution": {
     "iopub.execute_input": "2023-01-07T14:16:16.851065Z",
     "iopub.status.busy": "2023-01-07T14:16:16.850602Z",
     "iopub.status.idle": "2023-01-07T14:16:16.853720Z",
     "shell.execute_reply": "2023-01-07T14:16:16.853954Z"
    },
    "slideshow": {
     "slide_type": "subslide"
    }
   },
   "outputs": [
    {
     "name": "stdout",
     "output_type": "stream",
     "text": [
      "start\n"
     ]
    },
    {
     "data": {
      "image/svg+xml": [
       "<svg xmlns=\"http://www.w3.org/2000/svg\" class=\"railroad-diagram\" height=\"62\" viewBox=\"0 0 148.5 62\" width=\"148.5\">\n",
       "<g transform=\"translate(.5 .5)\">\n",
       "<style>/* <![CDATA[ */\n",
       "    svg.railroad-diagram {\n",
       "    }\n",
       "    svg.railroad-diagram path {\n",
       "        stroke-width:3;\n",
       "        stroke:black;\n",
       "        fill:white;\n",
       "    }\n",
       "    svg.railroad-diagram text {\n",
       "        font:14px \"Fira Mono\", monospace;\n",
       "        text-anchor:middle;\n",
       "    }\n",
       "    svg.railroad-diagram text.label{\n",
       "        text-anchor:start;\n",
       "    }\n",
       "    svg.railroad-diagram text.comment{\n",
       "        font:italic 12px \"Fira Mono\", monospace;\n",
       "    }\n",
       "    svg.railroad-diagram rect{\n",
       "        stroke-width:2;\n",
       "        stroke:black;\n",
       "        fill:mistyrose;\n",
       "    }\n",
       "\n",
       "/* ]]> */\n",
       "</style><g>\n",
       "<path d=\"M20 21v20m10 -20v20m-10 -10h20\"/></g><g>\n",
       "<path d=\"M40 31h0.0\"/><path d=\"M108.5 31h0.0\"/><path d=\"M40.0 31h20\"/><g>\n",
       "<path d=\"M60.0 31h0.0\"/><path d=\"M88.5 31h0.0\"/><g class=\"non-terminal\">\n",
       "<path d=\"M60.0 31h0.0\"/><path d=\"M88.5 31h0.0\"/><rect height=\"22\" width=\"28.5\" x=\"60.0\" y=\"20\"/><text x=\"74.25\" y=\"35\">A</text></g></g><path d=\"M88.5 31h20\"/></g><path d=\"M 108.5 31 h 20 m -10 -10 v 20 m 10 -20 v 20\"/></g></svg>"
      ],
      "text/plain": [
       "<IPython.core.display.SVG object>"
      ]
     },
     "metadata": {},
     "output_type": "display_data"
    },
    {
     "name": "stdout",
     "output_type": "stream",
     "text": [
      "A\n"
     ]
    },
    {
     "data": {
      "image/svg+xml": [
       "<svg xmlns=\"http://www.w3.org/2000/svg\" class=\"railroad-diagram\" height=\"92\" viewBox=\"0 0 197.0 92\" width=\"197.0\">\n",
       "<g transform=\"translate(.5 .5)\">\n",
       "<style>/* <![CDATA[ */\n",
       "    svg.railroad-diagram {\n",
       "    }\n",
       "    svg.railroad-diagram path {\n",
       "        stroke-width:3;\n",
       "        stroke:black;\n",
       "        fill:white;\n",
       "    }\n",
       "    svg.railroad-diagram text {\n",
       "        font:14px \"Fira Mono\", monospace;\n",
       "        text-anchor:middle;\n",
       "    }\n",
       "    svg.railroad-diagram text.label{\n",
       "        text-anchor:start;\n",
       "    }\n",
       "    svg.railroad-diagram text.comment{\n",
       "        font:italic 12px \"Fira Mono\", monospace;\n",
       "    }\n",
       "    svg.railroad-diagram rect{\n",
       "        stroke-width:2;\n",
       "        stroke:black;\n",
       "        fill:mistyrose;\n",
       "    }\n",
       "\n",
       "/* ]]> */\n",
       "</style><g>\n",
       "<path d=\"M20 51v20m10 -20v20m-10 -10h20\"/></g><g>\n",
       "<path d=\"M40 61h0.0\"/><path d=\"M157.0 61h0.0\"/><path d=\"M40.0 61a10 10 0 0 0 10 -10v-10a10 10 0 0 1 10 -10\"/><g>\n",
       "<path d=\"M60.0 31h0.0\"/><path d=\"M137.0 31h0.0\"/><g class=\"non-terminal\">\n",
       "<path d=\"M60.0 31h0.0\"/><path d=\"M88.5 31h0.0\"/><rect height=\"22\" width=\"28.5\" x=\"60.0\" y=\"20\"/><text x=\"74.25\" y=\"35\">A</text></g><path d=\"M88.5 31h10\"/><path d=\"M98.5 31h10\"/><g class=\"terminal\">\n",
       "<path d=\"M108.5 31h0.0\"/><path d=\"M137.0 31h0.0\"/><rect height=\"22\" rx=\"10\" ry=\"10\" width=\"28.5\" x=\"108.5\" y=\"20\"/><text x=\"122.75\" y=\"35\">a</text></g></g><path d=\"M137.0 31a10 10 0 0 1 10 10v10a10 10 0 0 0 10 10\"/><path d=\"M40.0 61h20\"/><g>\n",
       "<path d=\"M60.0 61h28.5\"/><path d=\"M108.5 61h28.5\"/><g class=\"terminal\">\n",
       "<path d=\"M88.5 61h0.0\"/><path d=\"M108.5 61h0.0\"/><rect height=\"22\" rx=\"10\" ry=\"10\" width=\"20.0\" x=\"88.5\" y=\"50\"/><text x=\"98.5\" y=\"65\"/></g></g><path d=\"M137.0 61h20\"/></g><path d=\"M 157.0 61 h 20 m -10 -10 v 20 m 10 -20 v 20\"/></g></svg>"
      ],
      "text/plain": [
       "<IPython.core.display.SVG object>"
      ]
     },
     "metadata": {},
     "output_type": "display_data"
    }
   ],
   "source": [
    "syntax_diagram(LR_GRAMMAR)"
   ]
  },
  {
   "cell_type": "code",
   "execution_count": 50,
   "metadata": {
    "execution": {
     "iopub.execute_input": "2023-01-07T14:16:16.856677Z",
     "iopub.status.busy": "2023-01-07T14:16:16.856331Z",
     "iopub.status.idle": "2023-01-07T14:16:17.121913Z",
     "shell.execute_reply": "2023-01-07T14:16:17.122193Z"
    },
    "slideshow": {
     "slide_type": "fragment"
    }
   },
   "outputs": [
    {
     "data": {
      "image/svg+xml": [
       "<?xml version=\"1.0\" encoding=\"UTF-8\" standalone=\"no\"?>\n",
       "<!DOCTYPE svg PUBLIC \"-//W3C//DTD SVG 1.1//EN\"\n",
       " \"http://www.w3.org/Graphics/SVG/1.1/DTD/svg11.dtd\">\n",
       "<!-- Generated by graphviz version 7.0.2 (20221119.0110)\n",
       " -->\n",
       "<!-- Pages: 1 -->\n",
       "<svg width=\"134pt\" height=\"176pt\"\n",
       " viewBox=\"0.00 0.00 134.00 176.00\" xmlns=\"http://www.w3.org/2000/svg\" xmlns:xlink=\"http://www.w3.org/1999/xlink\">\n",
       "<g id=\"graph0\" class=\"graph\" transform=\"scale(1 1) rotate(0) translate(4 172)\">\n",
       "<polygon fill=\"white\" stroke=\"none\" points=\"-4,4 -4,-172 130,-172 130,4 -4,4\"/>\n",
       "<!-- 0 -->\n",
       "<g id=\"node1\" class=\"node\">\n",
       "<title>0</title>\n",
       "<text text-anchor=\"middle\" x=\"85.5\" y=\"-156.8\" font-family=\"Times,serif\" font-size=\"14.00\">&lt;start&gt;</text>\n",
       "</g>\n",
       "<!-- 1 -->\n",
       "<g id=\"node2\" class=\"node\">\n",
       "<title>1</title>\n",
       "<text text-anchor=\"middle\" x=\"61.5\" y=\"-105.8\" font-family=\"Times,serif\" font-size=\"14.00\">&lt;A&gt;</text>\n",
       "</g>\n",
       "<!-- 0&#45;&gt;1 -->\n",
       "<g id=\"edge1\" class=\"edge\">\n",
       "<title>0&#45;&gt;1</title>\n",
       "<path fill=\"none\" stroke=\"black\" d=\"M82.36,-153.09C79.11,-146.45 73.9,-135.81 69.49,-126.82\"/>\n",
       "<polygon fill=\"black\" stroke=\"black\" points=\"72.77,-125.55 65.23,-118.11 66.48,-128.63 72.77,-125.55\"/>\n",
       "</g>\n",
       "<!-- 6 -->\n",
       "<g id=\"node7\" class=\"node\">\n",
       "<title>6</title>\n",
       "<text text-anchor=\"middle\" x=\"109.5\" y=\"-105.8\" font-family=\"Times,serif\" font-size=\"14.00\">a (97)</text>\n",
       "</g>\n",
       "<!-- 0&#45;&gt;6 -->\n",
       "<g id=\"edge6\" class=\"edge\">\n",
       "<title>0&#45;&gt;6</title>\n",
       "<path fill=\"none\" stroke=\"black\" d=\"M88.64,-153.09C91.89,-146.45 97.1,-135.81 101.51,-126.82\"/>\n",
       "<polygon fill=\"black\" stroke=\"black\" points=\"104.52,-128.63 105.77,-118.11 98.23,-125.55 104.52,-128.63\"/>\n",
       "</g>\n",
       "<!-- 2 -->\n",
       "<g id=\"node3\" class=\"node\">\n",
       "<title>2</title>\n",
       "<text text-anchor=\"middle\" x=\"37.5\" y=\"-54.8\" font-family=\"Times,serif\" font-size=\"14.00\">&lt;A&gt;</text>\n",
       "</g>\n",
       "<!-- 1&#45;&gt;2 -->\n",
       "<g id=\"edge2\" class=\"edge\">\n",
       "<title>1&#45;&gt;2</title>\n",
       "<path fill=\"none\" stroke=\"black\" d=\"M58.36,-102.09C55.11,-95.45 49.9,-84.81 45.49,-75.82\"/>\n",
       "<polygon fill=\"black\" stroke=\"black\" points=\"48.77,-74.55 41.23,-67.11 42.48,-77.63 48.77,-74.55\"/>\n",
       "</g>\n",
       "<!-- 5 -->\n",
       "<g id=\"node6\" class=\"node\">\n",
       "<title>5</title>\n",
       "<text text-anchor=\"middle\" x=\"85.5\" y=\"-54.8\" font-family=\"Times,serif\" font-size=\"14.00\">a (97)</text>\n",
       "</g>\n",
       "<!-- 1&#45;&gt;5 -->\n",
       "<g id=\"edge5\" class=\"edge\">\n",
       "<title>1&#45;&gt;5</title>\n",
       "<path fill=\"none\" stroke=\"black\" d=\"M64.64,-102.09C67.89,-95.45 73.1,-84.81 77.51,-75.82\"/>\n",
       "<polygon fill=\"black\" stroke=\"black\" points=\"80.52,-77.63 81.77,-67.11 74.23,-74.55 80.52,-77.63\"/>\n",
       "</g>\n",
       "<!-- 3 -->\n",
       "<g id=\"node4\" class=\"node\">\n",
       "<title>3</title>\n",
       "<text text-anchor=\"middle\" x=\"13.5\" y=\"-3.8\" font-family=\"Times,serif\" font-size=\"14.00\">&lt;A&gt;</text>\n",
       "</g>\n",
       "<!-- 2&#45;&gt;3 -->\n",
       "<g id=\"edge3\" class=\"edge\">\n",
       "<title>2&#45;&gt;3</title>\n",
       "<path fill=\"none\" stroke=\"black\" d=\"M34.36,-51.09C31.11,-44.45 25.9,-33.81 21.49,-24.82\"/>\n",
       "<polygon fill=\"black\" stroke=\"black\" points=\"24.77,-23.55 17.23,-16.11 18.48,-26.63 24.77,-23.55\"/>\n",
       "</g>\n",
       "<!-- 4 -->\n",
       "<g id=\"node5\" class=\"node\">\n",
       "<title>4</title>\n",
       "<text text-anchor=\"middle\" x=\"61.5\" y=\"-3.8\" font-family=\"Times,serif\" font-size=\"14.00\">a (97)</text>\n",
       "</g>\n",
       "<!-- 2&#45;&gt;4 -->\n",
       "<g id=\"edge4\" class=\"edge\">\n",
       "<title>2&#45;&gt;4</title>\n",
       "<path fill=\"none\" stroke=\"black\" d=\"M40.64,-51.09C43.89,-44.45 49.1,-33.81 53.51,-24.82\"/>\n",
       "<polygon fill=\"black\" stroke=\"black\" points=\"56.52,-26.63 57.77,-16.11 50.23,-23.55 56.52,-26.63\"/>\n",
       "</g>\n",
       "</g>\n",
       "</svg>\n"
      ],
      "text/plain": [
       "<graphviz.graphs.Digraph at 0x1075dfdf0>"
      ]
     },
     "execution_count": 50,
     "metadata": {},
     "output_type": "execute_result"
    }
   ],
   "source": [
    "mystring = 'aaaaaa'\n",
    "display_tree(\n",
    "    ('<start>', [('<A>', [('<A>', [('<A>', []), ('a', [])]), ('a', [])]),\n",
    "                 ('a', [])]))"
   ]
  },
  {
   "attachments": {},
   "cell_type": "markdown",
   "metadata": {
    "slideshow": {
     "slide_type": "subslide"
    }
   },
   "source": [
    "A grammar is indirectly left-recursive if any\n",
    "of the left-most symbols can be expanded using their definitions to\n",
    "produce the nonterminal as the left-most symbol of the expansion. The left\n",
    "recursion is called a _hidden-left-recursion_ if during the series of\n",
    "expansions of a nonterminal, one reaches a rule where the rule contains\n",
    "the same nonterminal after a prefix of other symbols, and these symbols can\n",
    "derive the empty string. For example, in `A1_GRAMMAR`, `<integer>` will be\n",
    "considered hidden-left recursive if `<digit>` could derive an empty string.\n",
    "\n",
    "Right recursive grammars are defined similarly.\n",
    "Below is the derivation tree for the right recursive grammar that represents the same\n",
    "language as that of `LR_GRAMMAR`."
   ]
  },
  {
   "cell_type": "code",
   "execution_count": 51,
   "metadata": {
    "execution": {
     "iopub.execute_input": "2023-01-07T14:16:17.125036Z",
     "iopub.status.busy": "2023-01-07T14:16:17.124564Z",
     "iopub.status.idle": "2023-01-07T14:16:17.126203Z",
     "shell.execute_reply": "2023-01-07T14:16:17.126731Z"
    },
    "slideshow": {
     "slide_type": "subslide"
    }
   },
   "outputs": [],
   "source": [
    "RR_GRAMMAR: Grammar = {\n",
    "    '<start>': ['<A>'],\n",
    "    '<A>': ['a<A>', ''],\n",
    "}"
   ]
  },
  {
   "cell_type": "code",
   "execution_count": 52,
   "metadata": {
    "execution": {
     "iopub.execute_input": "2023-01-07T14:16:17.129890Z",
     "iopub.status.busy": "2023-01-07T14:16:17.129495Z",
     "iopub.status.idle": "2023-01-07T14:16:17.132085Z",
     "shell.execute_reply": "2023-01-07T14:16:17.132281Z"
    },
    "slideshow": {
     "slide_type": "fragment"
    }
   },
   "outputs": [
    {
     "name": "stdout",
     "output_type": "stream",
     "text": [
      "start\n"
     ]
    },
    {
     "data": {
      "image/svg+xml": [
       "<svg xmlns=\"http://www.w3.org/2000/svg\" class=\"railroad-diagram\" height=\"62\" viewBox=\"0 0 148.5 62\" width=\"148.5\">\n",
       "<g transform=\"translate(.5 .5)\">\n",
       "<style>/* <![CDATA[ */\n",
       "    svg.railroad-diagram {\n",
       "    }\n",
       "    svg.railroad-diagram path {\n",
       "        stroke-width:3;\n",
       "        stroke:black;\n",
       "        fill:white;\n",
       "    }\n",
       "    svg.railroad-diagram text {\n",
       "        font:14px \"Fira Mono\", monospace;\n",
       "        text-anchor:middle;\n",
       "    }\n",
       "    svg.railroad-diagram text.label{\n",
       "        text-anchor:start;\n",
       "    }\n",
       "    svg.railroad-diagram text.comment{\n",
       "        font:italic 12px \"Fira Mono\", monospace;\n",
       "    }\n",
       "    svg.railroad-diagram rect{\n",
       "        stroke-width:2;\n",
       "        stroke:black;\n",
       "        fill:mistyrose;\n",
       "    }\n",
       "\n",
       "/* ]]> */\n",
       "</style><g>\n",
       "<path d=\"M20 21v20m10 -20v20m-10 -10h20\"/></g><g>\n",
       "<path d=\"M40 31h0.0\"/><path d=\"M108.5 31h0.0\"/><path d=\"M40.0 31h20\"/><g>\n",
       "<path d=\"M60.0 31h0.0\"/><path d=\"M88.5 31h0.0\"/><g class=\"non-terminal\">\n",
       "<path d=\"M60.0 31h0.0\"/><path d=\"M88.5 31h0.0\"/><rect height=\"22\" width=\"28.5\" x=\"60.0\" y=\"20\"/><text x=\"74.25\" y=\"35\">A</text></g></g><path d=\"M88.5 31h20\"/></g><path d=\"M 108.5 31 h 20 m -10 -10 v 20 m 10 -20 v 20\"/></g></svg>"
      ],
      "text/plain": [
       "<IPython.core.display.SVG object>"
      ]
     },
     "metadata": {},
     "output_type": "display_data"
    },
    {
     "name": "stdout",
     "output_type": "stream",
     "text": [
      "A\n"
     ]
    },
    {
     "data": {
      "image/svg+xml": [
       "<svg xmlns=\"http://www.w3.org/2000/svg\" class=\"railroad-diagram\" height=\"92\" viewBox=\"0 0 197.0 92\" width=\"197.0\">\n",
       "<g transform=\"translate(.5 .5)\">\n",
       "<style>/* <![CDATA[ */\n",
       "    svg.railroad-diagram {\n",
       "    }\n",
       "    svg.railroad-diagram path {\n",
       "        stroke-width:3;\n",
       "        stroke:black;\n",
       "        fill:white;\n",
       "    }\n",
       "    svg.railroad-diagram text {\n",
       "        font:14px \"Fira Mono\", monospace;\n",
       "        text-anchor:middle;\n",
       "    }\n",
       "    svg.railroad-diagram text.label{\n",
       "        text-anchor:start;\n",
       "    }\n",
       "    svg.railroad-diagram text.comment{\n",
       "        font:italic 12px \"Fira Mono\", monospace;\n",
       "    }\n",
       "    svg.railroad-diagram rect{\n",
       "        stroke-width:2;\n",
       "        stroke:black;\n",
       "        fill:mistyrose;\n",
       "    }\n",
       "\n",
       "/* ]]> */\n",
       "</style><g>\n",
       "<path d=\"M20 51v20m10 -20v20m-10 -10h20\"/></g><g>\n",
       "<path d=\"M40 61h0.0\"/><path d=\"M157.0 61h0.0\"/><path d=\"M40.0 61a10 10 0 0 0 10 -10v-10a10 10 0 0 1 10 -10\"/><g>\n",
       "<path d=\"M60.0 31h0.0\"/><path d=\"M137.0 31h0.0\"/><g class=\"terminal\">\n",
       "<path d=\"M60.0 31h0.0\"/><path d=\"M88.5 31h0.0\"/><rect height=\"22\" rx=\"10\" ry=\"10\" width=\"28.5\" x=\"60.0\" y=\"20\"/><text x=\"74.25\" y=\"35\">a</text></g><path d=\"M88.5 31h10\"/><path d=\"M98.5 31h10\"/><g class=\"non-terminal\">\n",
       "<path d=\"M108.5 31h0.0\"/><path d=\"M137.0 31h0.0\"/><rect height=\"22\" width=\"28.5\" x=\"108.5\" y=\"20\"/><text x=\"122.75\" y=\"35\">A</text></g></g><path d=\"M137.0 31a10 10 0 0 1 10 10v10a10 10 0 0 0 10 10\"/><path d=\"M40.0 61h20\"/><g>\n",
       "<path d=\"M60.0 61h28.5\"/><path d=\"M108.5 61h28.5\"/><g class=\"terminal\">\n",
       "<path d=\"M88.5 61h0.0\"/><path d=\"M108.5 61h0.0\"/><rect height=\"22\" rx=\"10\" ry=\"10\" width=\"20.0\" x=\"88.5\" y=\"50\"/><text x=\"98.5\" y=\"65\"/></g></g><path d=\"M137.0 61h20\"/></g><path d=\"M 157.0 61 h 20 m -10 -10 v 20 m 10 -20 v 20\"/></g></svg>"
      ],
      "text/plain": [
       "<IPython.core.display.SVG object>"
      ]
     },
     "metadata": {},
     "output_type": "display_data"
    }
   ],
   "source": [
    "syntax_diagram(RR_GRAMMAR)"
   ]
  },
  {
   "cell_type": "code",
   "execution_count": 53,
   "metadata": {
    "execution": {
     "iopub.execute_input": "2023-01-07T14:16:17.134769Z",
     "iopub.status.busy": "2023-01-07T14:16:17.134454Z",
     "iopub.status.idle": "2023-01-07T14:16:17.384616Z",
     "shell.execute_reply": "2023-01-07T14:16:17.384905Z"
    },
    "slideshow": {
     "slide_type": "fragment"
    }
   },
   "outputs": [
    {
     "data": {
      "image/svg+xml": [
       "<?xml version=\"1.0\" encoding=\"UTF-8\" standalone=\"no\"?>\n",
       "<!DOCTYPE svg PUBLIC \"-//W3C//DTD SVG 1.1//EN\"\n",
       " \"http://www.w3.org/Graphics/SVG/1.1/DTD/svg11.dtd\">\n",
       "<!-- Generated by graphviz version 7.0.2 (20221119.0110)\n",
       " -->\n",
       "<!-- Pages: 1 -->\n",
       "<svg width=\"134pt\" height=\"227pt\"\n",
       " viewBox=\"0.00 0.00 134.00 227.00\" xmlns=\"http://www.w3.org/2000/svg\" xmlns:xlink=\"http://www.w3.org/1999/xlink\">\n",
       "<g id=\"graph0\" class=\"graph\" transform=\"scale(1 1) rotate(0) translate(4 223)\">\n",
       "<polygon fill=\"white\" stroke=\"none\" points=\"-4,4 -4,-223 130,-223 130,4 -4,4\"/>\n",
       "<!-- 0 -->\n",
       "<g id=\"node1\" class=\"node\">\n",
       "<title>0</title>\n",
       "<text text-anchor=\"middle\" x=\"40.5\" y=\"-207.8\" font-family=\"Times,serif\" font-size=\"14.00\">&lt;start&gt;</text>\n",
       "</g>\n",
       "<!-- 1 -->\n",
       "<g id=\"node2\" class=\"node\">\n",
       "<title>1</title>\n",
       "<text text-anchor=\"middle\" x=\"40.5\" y=\"-156.8\" font-family=\"Times,serif\" font-size=\"14.00\">&lt;A&gt;</text>\n",
       "</g>\n",
       "<!-- 0&#45;&gt;1 -->\n",
       "<g id=\"edge1\" class=\"edge\">\n",
       "<title>0&#45;&gt;1</title>\n",
       "<path fill=\"none\" stroke=\"black\" d=\"M40.5,-204.09C40.5,-197.75 40.5,-187.75 40.5,-179.03\"/>\n",
       "<polygon fill=\"black\" stroke=\"black\" points=\"44,-179.27 40.5,-169.27 37,-179.27 44,-179.27\"/>\n",
       "</g>\n",
       "<!-- 2 -->\n",
       "<g id=\"node3\" class=\"node\">\n",
       "<title>2</title>\n",
       "<text text-anchor=\"middle\" x=\"16.5\" y=\"-105.8\" font-family=\"Times,serif\" font-size=\"14.00\">a (97)</text>\n",
       "</g>\n",
       "<!-- 1&#45;&gt;2 -->\n",
       "<g id=\"edge2\" class=\"edge\">\n",
       "<title>1&#45;&gt;2</title>\n",
       "<path fill=\"none\" stroke=\"black\" d=\"M37.36,-153.09C34.11,-146.45 28.9,-135.81 24.49,-126.82\"/>\n",
       "<polygon fill=\"black\" stroke=\"black\" points=\"27.77,-125.55 20.23,-118.11 21.48,-128.63 27.77,-125.55\"/>\n",
       "</g>\n",
       "<!-- 3 -->\n",
       "<g id=\"node4\" class=\"node\">\n",
       "<title>3</title>\n",
       "<text text-anchor=\"middle\" x=\"64.5\" y=\"-105.8\" font-family=\"Times,serif\" font-size=\"14.00\">&lt;A&gt;</text>\n",
       "</g>\n",
       "<!-- 1&#45;&gt;3 -->\n",
       "<g id=\"edge3\" class=\"edge\">\n",
       "<title>1&#45;&gt;3</title>\n",
       "<path fill=\"none\" stroke=\"black\" d=\"M43.64,-153.09C46.89,-146.45 52.1,-135.81 56.51,-126.82\"/>\n",
       "<polygon fill=\"black\" stroke=\"black\" points=\"59.52,-128.63 60.77,-118.11 53.23,-125.55 59.52,-128.63\"/>\n",
       "</g>\n",
       "<!-- 4 -->\n",
       "<g id=\"node5\" class=\"node\">\n",
       "<title>4</title>\n",
       "<text text-anchor=\"middle\" x=\"40.5\" y=\"-54.8\" font-family=\"Times,serif\" font-size=\"14.00\">a (97)</text>\n",
       "</g>\n",
       "<!-- 3&#45;&gt;4 -->\n",
       "<g id=\"edge4\" class=\"edge\">\n",
       "<title>3&#45;&gt;4</title>\n",
       "<path fill=\"none\" stroke=\"black\" d=\"M61.36,-102.09C58.11,-95.45 52.9,-84.81 48.49,-75.82\"/>\n",
       "<polygon fill=\"black\" stroke=\"black\" points=\"51.77,-74.55 44.23,-67.11 45.48,-77.63 51.77,-74.55\"/>\n",
       "</g>\n",
       "<!-- 5 -->\n",
       "<g id=\"node6\" class=\"node\">\n",
       "<title>5</title>\n",
       "<text text-anchor=\"middle\" x=\"88.5\" y=\"-54.8\" font-family=\"Times,serif\" font-size=\"14.00\">&lt;A&gt;</text>\n",
       "</g>\n",
       "<!-- 3&#45;&gt;5 -->\n",
       "<g id=\"edge5\" class=\"edge\">\n",
       "<title>3&#45;&gt;5</title>\n",
       "<path fill=\"none\" stroke=\"black\" d=\"M67.64,-102.09C70.89,-95.45 76.1,-84.81 80.51,-75.82\"/>\n",
       "<polygon fill=\"black\" stroke=\"black\" points=\"83.52,-77.63 84.77,-67.11 77.23,-74.55 83.52,-77.63\"/>\n",
       "</g>\n",
       "<!-- 6 -->\n",
       "<g id=\"node7\" class=\"node\">\n",
       "<title>6</title>\n",
       "<text text-anchor=\"middle\" x=\"64.5\" y=\"-3.8\" font-family=\"Times,serif\" font-size=\"14.00\">a (97)</text>\n",
       "</g>\n",
       "<!-- 5&#45;&gt;6 -->\n",
       "<g id=\"edge6\" class=\"edge\">\n",
       "<title>5&#45;&gt;6</title>\n",
       "<path fill=\"none\" stroke=\"black\" d=\"M85.36,-51.09C82.11,-44.45 76.9,-33.81 72.49,-24.82\"/>\n",
       "<polygon fill=\"black\" stroke=\"black\" points=\"75.77,-23.55 68.23,-16.11 69.48,-26.63 75.77,-23.55\"/>\n",
       "</g>\n",
       "<!-- 7 -->\n",
       "<g id=\"node8\" class=\"node\">\n",
       "<title>7</title>\n",
       "<text text-anchor=\"middle\" x=\"112.5\" y=\"-3.8\" font-family=\"Times,serif\" font-size=\"14.00\">&lt;A&gt;</text>\n",
       "</g>\n",
       "<!-- 5&#45;&gt;7 -->\n",
       "<g id=\"edge7\" class=\"edge\">\n",
       "<title>5&#45;&gt;7</title>\n",
       "<path fill=\"none\" stroke=\"black\" d=\"M91.64,-51.09C94.89,-44.45 100.1,-33.81 104.51,-24.82\"/>\n",
       "<polygon fill=\"black\" stroke=\"black\" points=\"107.52,-26.63 108.77,-16.11 101.23,-23.55 107.52,-26.63\"/>\n",
       "</g>\n",
       "</g>\n",
       "</svg>\n"
      ],
      "text/plain": [
       "<graphviz.graphs.Digraph at 0x1075de290>"
      ]
     },
     "execution_count": 53,
     "metadata": {},
     "output_type": "execute_result"
    }
   ],
   "source": [
    "display_tree(('<start>', [('<A>', [\n",
    "                  ('a', []), ('<A>', [('a', []), ('<A>', [('a', []), ('<A>', [])])])])]\n",
    "             ))"
   ]
  },
  {
   "cell_type": "markdown",
   "metadata": {
    "slideshow": {
     "slide_type": "subslide"
    }
   },
   "source": [
    "#### Ambiguity\n",
    "\n",
    "To complicate matters further, there could be\n",
    "multiple derivation trees – also called _parses_ – corresponding to the\n",
    "same string from the same grammar. For example, a string `1+2+3` can be parsed\n",
    "in two ways as we see below using the `A1_GRAMMAR`"
   ]
  },
  {
   "cell_type": "code",
   "execution_count": 54,
   "metadata": {
    "execution": {
     "iopub.execute_input": "2023-01-07T14:16:17.391529Z",
     "iopub.status.busy": "2023-01-07T14:16:17.391086Z",
     "iopub.status.idle": "2023-01-07T14:16:17.654108Z",
     "shell.execute_reply": "2023-01-07T14:16:17.654320Z"
    },
    "slideshow": {
     "slide_type": "subslide"
    }
   },
   "outputs": [
    {
     "data": {
      "image/svg+xml": [
       "<?xml version=\"1.0\" encoding=\"UTF-8\" standalone=\"no\"?>\n",
       "<!DOCTYPE svg PUBLIC \"-//W3C//DTD SVG 1.1//EN\"\n",
       " \"http://www.w3.org/Graphics/SVG/1.1/DTD/svg11.dtd\">\n",
       "<!-- Generated by graphviz version 7.0.2 (20221119.0110)\n",
       " -->\n",
       "<!-- Pages: 1 -->\n",
       "<svg width=\"241pt\" height=\"329pt\"\n",
       " viewBox=\"0.00 0.00 241.00 329.00\" xmlns=\"http://www.w3.org/2000/svg\" xmlns:xlink=\"http://www.w3.org/1999/xlink\">\n",
       "<g id=\"graph0\" class=\"graph\" transform=\"scale(1 1) rotate(0) translate(4 325)\">\n",
       "<polygon fill=\"white\" stroke=\"none\" points=\"-4,4 -4,-325 237,-325 237,4 -4,4\"/>\n",
       "<!-- 0 -->\n",
       "<g id=\"node1\" class=\"node\">\n",
       "<title>0</title>\n",
       "<text text-anchor=\"middle\" x=\"146.5\" y=\"-309.8\" font-family=\"Times,serif\" font-size=\"14.00\">&lt;start&gt;</text>\n",
       "</g>\n",
       "<!-- 1 -->\n",
       "<g id=\"node2\" class=\"node\">\n",
       "<title>1</title>\n",
       "<text text-anchor=\"middle\" x=\"146.5\" y=\"-258.8\" font-family=\"Times,serif\" font-size=\"14.00\">&lt;expr&gt;</text>\n",
       "</g>\n",
       "<!-- 0&#45;&gt;1 -->\n",
       "<g id=\"edge1\" class=\"edge\">\n",
       "<title>0&#45;&gt;1</title>\n",
       "<path fill=\"none\" stroke=\"black\" d=\"M146.5,-306.09C146.5,-299.75 146.5,-289.75 146.5,-281.03\"/>\n",
       "<polygon fill=\"black\" stroke=\"black\" points=\"150,-281.27 146.5,-271.27 143,-281.27 150,-281.27\"/>\n",
       "</g>\n",
       "<!-- 2 -->\n",
       "<g id=\"node3\" class=\"node\">\n",
       "<title>2</title>\n",
       "<text text-anchor=\"middle\" x=\"88.5\" y=\"-207.8\" font-family=\"Times,serif\" font-size=\"14.00\">&lt;expr&gt;</text>\n",
       "</g>\n",
       "<!-- 1&#45;&gt;2 -->\n",
       "<g id=\"edge2\" class=\"edge\">\n",
       "<title>1&#45;&gt;2</title>\n",
       "<path fill=\"none\" stroke=\"black\" d=\"M138.92,-255.09C130.27,-247.79 115.89,-235.64 104.7,-226.18\"/>\n",
       "<polygon fill=\"black\" stroke=\"black\" points=\"106.95,-223.51 97.06,-219.73 102.44,-228.86 106.95,-223.51\"/>\n",
       "</g>\n",
       "<!-- 12 -->\n",
       "<g id=\"node13\" class=\"node\">\n",
       "<title>12</title>\n",
       "<text text-anchor=\"middle\" x=\"146.5\" y=\"-207.8\" font-family=\"Times,serif\" font-size=\"14.00\">+ (43)</text>\n",
       "</g>\n",
       "<!-- 1&#45;&gt;12 -->\n",
       "<g id=\"edge12\" class=\"edge\">\n",
       "<title>1&#45;&gt;12</title>\n",
       "<path fill=\"none\" stroke=\"black\" d=\"M146.5,-255.09C146.5,-248.75 146.5,-238.75 146.5,-230.03\"/>\n",
       "<polygon fill=\"black\" stroke=\"black\" points=\"150,-230.27 146.5,-220.27 143,-230.27 150,-230.27\"/>\n",
       "</g>\n",
       "<!-- 13 -->\n",
       "<g id=\"node14\" class=\"node\">\n",
       "<title>13</title>\n",
       "<text text-anchor=\"middle\" x=\"203.5\" y=\"-207.8\" font-family=\"Times,serif\" font-size=\"14.00\">&lt;expr&gt;</text>\n",
       "</g>\n",
       "<!-- 1&#45;&gt;13 -->\n",
       "<g id=\"edge13\" class=\"edge\">\n",
       "<title>1&#45;&gt;13</title>\n",
       "<path fill=\"none\" stroke=\"black\" d=\"M153.95,-255.09C162.45,-247.79 176.58,-235.64 187.58,-226.18\"/>\n",
       "<polygon fill=\"black\" stroke=\"black\" points=\"189.78,-228.91 195.08,-219.74 185.21,-223.6 189.78,-228.91\"/>\n",
       "</g>\n",
       "<!-- 3 -->\n",
       "<g id=\"node4\" class=\"node\">\n",
       "<title>3</title>\n",
       "<text text-anchor=\"middle\" x=\"27.5\" y=\"-156.8\" font-family=\"Times,serif\" font-size=\"14.00\">&lt;expr&gt;</text>\n",
       "</g>\n",
       "<!-- 2&#45;&gt;3 -->\n",
       "<g id=\"edge3\" class=\"edge\">\n",
       "<title>2&#45;&gt;3</title>\n",
       "<path fill=\"none\" stroke=\"black\" d=\"M80.53,-204.09C71.34,-196.72 56,-184.39 44.18,-174.9\"/>\n",
       "<polygon fill=\"black\" stroke=\"black\" points=\"46.45,-172.23 36.46,-168.7 42.07,-177.69 46.45,-172.23\"/>\n",
       "</g>\n",
       "<!-- 7 -->\n",
       "<g id=\"node8\" class=\"node\">\n",
       "<title>7</title>\n",
       "<text text-anchor=\"middle\" x=\"83.5\" y=\"-156.8\" font-family=\"Times,serif\" font-size=\"14.00\">+ (43)</text>\n",
       "</g>\n",
       "<!-- 2&#45;&gt;7 -->\n",
       "<g id=\"edge7\" class=\"edge\">\n",
       "<title>2&#45;&gt;7</title>\n",
       "<path fill=\"none\" stroke=\"black\" d=\"M87.85,-204.09C87.2,-197.75 86.18,-187.75 85.29,-179.03\"/>\n",
       "<polygon fill=\"black\" stroke=\"black\" points=\"88.79,-178.85 84.29,-169.26 81.82,-179.56 88.79,-178.85\"/>\n",
       "</g>\n",
       "<!-- 8 -->\n",
       "<g id=\"node9\" class=\"node\">\n",
       "<title>8</title>\n",
       "<text text-anchor=\"middle\" x=\"139.5\" y=\"-156.8\" font-family=\"Times,serif\" font-size=\"14.00\">&lt;expr&gt;</text>\n",
       "</g>\n",
       "<!-- 2&#45;&gt;8 -->\n",
       "<g id=\"edge8\" class=\"edge\">\n",
       "<title>2&#45;&gt;8</title>\n",
       "<path fill=\"none\" stroke=\"black\" d=\"M95.17,-204.09C102.69,-196.86 115.16,-184.89 124.96,-175.47\"/>\n",
       "<polygon fill=\"black\" stroke=\"black\" points=\"127.11,-178.25 131.9,-168.8 122.26,-173.21 127.11,-178.25\"/>\n",
       "</g>\n",
       "<!-- 4 -->\n",
       "<g id=\"node5\" class=\"node\">\n",
       "<title>4</title>\n",
       "<text text-anchor=\"middle\" x=\"27.5\" y=\"-105.8\" font-family=\"Times,serif\" font-size=\"14.00\">&lt;integer&gt;</text>\n",
       "</g>\n",
       "<!-- 3&#45;&gt;4 -->\n",
       "<g id=\"edge4\" class=\"edge\">\n",
       "<title>3&#45;&gt;4</title>\n",
       "<path fill=\"none\" stroke=\"black\" d=\"M27.5,-153.09C27.5,-146.75 27.5,-136.75 27.5,-128.03\"/>\n",
       "<polygon fill=\"black\" stroke=\"black\" points=\"31,-128.27 27.5,-118.27 24,-128.27 31,-128.27\"/>\n",
       "</g>\n",
       "<!-- 5 -->\n",
       "<g id=\"node6\" class=\"node\">\n",
       "<title>5</title>\n",
       "<text text-anchor=\"middle\" x=\"27.5\" y=\"-54.8\" font-family=\"Times,serif\" font-size=\"14.00\">&lt;digit&gt;</text>\n",
       "</g>\n",
       "<!-- 4&#45;&gt;5 -->\n",
       "<g id=\"edge5\" class=\"edge\">\n",
       "<title>4&#45;&gt;5</title>\n",
       "<path fill=\"none\" stroke=\"black\" d=\"M27.5,-102.09C27.5,-95.75 27.5,-85.75 27.5,-77.03\"/>\n",
       "<polygon fill=\"black\" stroke=\"black\" points=\"31,-77.27 27.5,-67.27 24,-77.27 31,-77.27\"/>\n",
       "</g>\n",
       "<!-- 6 -->\n",
       "<g id=\"node7\" class=\"node\">\n",
       "<title>6</title>\n",
       "<text text-anchor=\"middle\" x=\"27.5\" y=\"-3.8\" font-family=\"Times,serif\" font-size=\"14.00\">1 (49)</text>\n",
       "</g>\n",
       "<!-- 5&#45;&gt;6 -->\n",
       "<g id=\"edge6\" class=\"edge\">\n",
       "<title>5&#45;&gt;6</title>\n",
       "<path fill=\"none\" stroke=\"black\" d=\"M27.5,-51.09C27.5,-44.75 27.5,-34.75 27.5,-26.03\"/>\n",
       "<polygon fill=\"black\" stroke=\"black\" points=\"31,-26.27 27.5,-16.27 24,-26.27 31,-26.27\"/>\n",
       "</g>\n",
       "<!-- 9 -->\n",
       "<g id=\"node10\" class=\"node\">\n",
       "<title>9</title>\n",
       "<text text-anchor=\"middle\" x=\"138.5\" y=\"-105.8\" font-family=\"Times,serif\" font-size=\"14.00\">&lt;integer&gt;</text>\n",
       "</g>\n",
       "<!-- 8&#45;&gt;9 -->\n",
       "<g id=\"edge9\" class=\"edge\">\n",
       "<title>8&#45;&gt;9</title>\n",
       "<path fill=\"none\" stroke=\"black\" d=\"M139.37,-153.09C139.24,-146.75 139.04,-136.75 138.86,-128.03\"/>\n",
       "<polygon fill=\"black\" stroke=\"black\" points=\"142.36,-128.19 138.66,-118.27 135.36,-128.34 142.36,-128.19\"/>\n",
       "</g>\n",
       "<!-- 10 -->\n",
       "<g id=\"node11\" class=\"node\">\n",
       "<title>10</title>\n",
       "<text text-anchor=\"middle\" x=\"138.5\" y=\"-54.8\" font-family=\"Times,serif\" font-size=\"14.00\">&lt;digit&gt;</text>\n",
       "</g>\n",
       "<!-- 9&#45;&gt;10 -->\n",
       "<g id=\"edge10\" class=\"edge\">\n",
       "<title>9&#45;&gt;10</title>\n",
       "<path fill=\"none\" stroke=\"black\" d=\"M138.5,-102.09C138.5,-95.75 138.5,-85.75 138.5,-77.03\"/>\n",
       "<polygon fill=\"black\" stroke=\"black\" points=\"142,-77.27 138.5,-67.27 135,-77.27 142,-77.27\"/>\n",
       "</g>\n",
       "<!-- 11 -->\n",
       "<g id=\"node12\" class=\"node\">\n",
       "<title>11</title>\n",
       "<text text-anchor=\"middle\" x=\"138.5\" y=\"-3.8\" font-family=\"Times,serif\" font-size=\"14.00\">2 (50)</text>\n",
       "</g>\n",
       "<!-- 10&#45;&gt;11 -->\n",
       "<g id=\"edge11\" class=\"edge\">\n",
       "<title>10&#45;&gt;11</title>\n",
       "<path fill=\"none\" stroke=\"black\" d=\"M138.5,-51.09C138.5,-44.75 138.5,-34.75 138.5,-26.03\"/>\n",
       "<polygon fill=\"black\" stroke=\"black\" points=\"142,-26.27 138.5,-16.27 135,-26.27 142,-26.27\"/>\n",
       "</g>\n",
       "<!-- 14 -->\n",
       "<g id=\"node15\" class=\"node\">\n",
       "<title>14</title>\n",
       "<text text-anchor=\"middle\" x=\"205.5\" y=\"-156.8\" font-family=\"Times,serif\" font-size=\"14.00\">&lt;integer&gt;</text>\n",
       "</g>\n",
       "<!-- 13&#45;&gt;14 -->\n",
       "<g id=\"edge14\" class=\"edge\">\n",
       "<title>13&#45;&gt;14</title>\n",
       "<path fill=\"none\" stroke=\"black\" d=\"M203.76,-204.09C204.02,-197.75 204.43,-187.75 204.78,-179.03\"/>\n",
       "<polygon fill=\"black\" stroke=\"black\" points=\"208.27,-179.4 205.18,-169.26 201.28,-179.11 208.27,-179.4\"/>\n",
       "</g>\n",
       "<!-- 15 -->\n",
       "<g id=\"node16\" class=\"node\">\n",
       "<title>15</title>\n",
       "<text text-anchor=\"middle\" x=\"205.5\" y=\"-105.8\" font-family=\"Times,serif\" font-size=\"14.00\">&lt;digit&gt;</text>\n",
       "</g>\n",
       "<!-- 14&#45;&gt;15 -->\n",
       "<g id=\"edge15\" class=\"edge\">\n",
       "<title>14&#45;&gt;15</title>\n",
       "<path fill=\"none\" stroke=\"black\" d=\"M205.5,-153.09C205.5,-146.75 205.5,-136.75 205.5,-128.03\"/>\n",
       "<polygon fill=\"black\" stroke=\"black\" points=\"209,-128.27 205.5,-118.27 202,-128.27 209,-128.27\"/>\n",
       "</g>\n",
       "<!-- 16 -->\n",
       "<g id=\"node17\" class=\"node\">\n",
       "<title>16</title>\n",
       "<text text-anchor=\"middle\" x=\"205.5\" y=\"-54.8\" font-family=\"Times,serif\" font-size=\"14.00\">3 (51)</text>\n",
       "</g>\n",
       "<!-- 15&#45;&gt;16 -->\n",
       "<g id=\"edge16\" class=\"edge\">\n",
       "<title>15&#45;&gt;16</title>\n",
       "<path fill=\"none\" stroke=\"black\" d=\"M205.5,-102.09C205.5,-95.75 205.5,-85.75 205.5,-77.03\"/>\n",
       "<polygon fill=\"black\" stroke=\"black\" points=\"209,-77.27 205.5,-67.27 202,-77.27 209,-77.27\"/>\n",
       "</g>\n",
       "</g>\n",
       "</svg>\n"
      ],
      "text/plain": [
       "<graphviz.graphs.Digraph at 0x1075de9b0>"
      ]
     },
     "execution_count": 54,
     "metadata": {},
     "output_type": "execute_result"
    }
   ],
   "source": [
    "mystring = '1+2+3'\n",
    "tree = ('<start>',\n",
    "        [('<expr>',\n",
    "          [('<expr>', [('<expr>', [('<integer>', [('<digit>', [('1', [])])])]),\n",
    "                       ('+', []),\n",
    "                       ('<expr>', [('<integer>',\n",
    "                                    [('<digit>', [('2', [])])])])]), ('+', []),\n",
    "           ('<expr>', [('<integer>', [('<digit>', [('3', [])])])])])])\n",
    "assert mystring == tree_to_string(tree)\n",
    "display_tree(tree)"
   ]
  },
  {
   "cell_type": "code",
   "execution_count": 55,
   "metadata": {
    "execution": {
     "iopub.execute_input": "2023-01-07T14:16:17.660615Z",
     "iopub.status.busy": "2023-01-07T14:16:17.660071Z",
     "iopub.status.idle": "2023-01-07T14:16:17.905983Z",
     "shell.execute_reply": "2023-01-07T14:16:17.906256Z"
    },
    "slideshow": {
     "slide_type": "subslide"
    }
   },
   "outputs": [
    {
     "data": {
      "image/svg+xml": [
       "<?xml version=\"1.0\" encoding=\"UTF-8\" standalone=\"no\"?>\n",
       "<!DOCTYPE svg PUBLIC \"-//W3C//DTD SVG 1.1//EN\"\n",
       " \"http://www.w3.org/Graphics/SVG/1.1/DTD/svg11.dtd\">\n",
       "<!-- Generated by graphviz version 7.0.2 (20221119.0110)\n",
       " -->\n",
       "<!-- Pages: 1 -->\n",
       "<svg width=\"241pt\" height=\"329pt\"\n",
       " viewBox=\"0.00 0.00 241.00 329.00\" xmlns=\"http://www.w3.org/2000/svg\" xmlns:xlink=\"http://www.w3.org/1999/xlink\">\n",
       "<g id=\"graph0\" class=\"graph\" transform=\"scale(1 1) rotate(0) translate(4 325)\">\n",
       "<polygon fill=\"white\" stroke=\"none\" points=\"-4,4 -4,-325 237,-325 237,4 -4,4\"/>\n",
       "<!-- 0 -->\n",
       "<g id=\"node1\" class=\"node\">\n",
       "<title>0</title>\n",
       "<text text-anchor=\"middle\" x=\"90.5\" y=\"-309.8\" font-family=\"Times,serif\" font-size=\"14.00\">&lt;start&gt;</text>\n",
       "</g>\n",
       "<!-- 1 -->\n",
       "<g id=\"node2\" class=\"node\">\n",
       "<title>1</title>\n",
       "<text text-anchor=\"middle\" x=\"90.5\" y=\"-258.8\" font-family=\"Times,serif\" font-size=\"14.00\">&lt;expr&gt;</text>\n",
       "</g>\n",
       "<!-- 0&#45;&gt;1 -->\n",
       "<g id=\"edge1\" class=\"edge\">\n",
       "<title>0&#45;&gt;1</title>\n",
       "<path fill=\"none\" stroke=\"black\" d=\"M90.5,-306.09C90.5,-299.75 90.5,-289.75 90.5,-281.03\"/>\n",
       "<polygon fill=\"black\" stroke=\"black\" points=\"94,-281.27 90.5,-271.27 87,-281.27 94,-281.27\"/>\n",
       "</g>\n",
       "<!-- 2 -->\n",
       "<g id=\"node3\" class=\"node\">\n",
       "<title>2</title>\n",
       "<text text-anchor=\"middle\" x=\"32.5\" y=\"-207.8\" font-family=\"Times,serif\" font-size=\"14.00\">&lt;expr&gt;</text>\n",
       "</g>\n",
       "<!-- 1&#45;&gt;2 -->\n",
       "<g id=\"edge2\" class=\"edge\">\n",
       "<title>1&#45;&gt;2</title>\n",
       "<path fill=\"none\" stroke=\"black\" d=\"M82.92,-255.09C74.27,-247.79 59.89,-235.64 48.7,-226.18\"/>\n",
       "<polygon fill=\"black\" stroke=\"black\" points=\"50.95,-223.51 41.06,-219.73 46.44,-228.86 50.95,-223.51\"/>\n",
       "</g>\n",
       "<!-- 6 -->\n",
       "<g id=\"node7\" class=\"node\">\n",
       "<title>6</title>\n",
       "<text text-anchor=\"middle\" x=\"90.5\" y=\"-207.8\" font-family=\"Times,serif\" font-size=\"14.00\">+ (43)</text>\n",
       "</g>\n",
       "<!-- 1&#45;&gt;6 -->\n",
       "<g id=\"edge6\" class=\"edge\">\n",
       "<title>1&#45;&gt;6</title>\n",
       "<path fill=\"none\" stroke=\"black\" d=\"M90.5,-255.09C90.5,-248.75 90.5,-238.75 90.5,-230.03\"/>\n",
       "<polygon fill=\"black\" stroke=\"black\" points=\"94,-230.27 90.5,-220.27 87,-230.27 94,-230.27\"/>\n",
       "</g>\n",
       "<!-- 7 -->\n",
       "<g id=\"node8\" class=\"node\">\n",
       "<title>7</title>\n",
       "<text text-anchor=\"middle\" x=\"147.5\" y=\"-207.8\" font-family=\"Times,serif\" font-size=\"14.00\">&lt;expr&gt;</text>\n",
       "</g>\n",
       "<!-- 1&#45;&gt;7 -->\n",
       "<g id=\"edge7\" class=\"edge\">\n",
       "<title>1&#45;&gt;7</title>\n",
       "<path fill=\"none\" stroke=\"black\" d=\"M97.95,-255.09C106.45,-247.79 120.58,-235.64 131.58,-226.18\"/>\n",
       "<polygon fill=\"black\" stroke=\"black\" points=\"133.78,-228.91 139.08,-219.74 129.21,-223.6 133.78,-228.91\"/>\n",
       "</g>\n",
       "<!-- 3 -->\n",
       "<g id=\"node4\" class=\"node\">\n",
       "<title>3</title>\n",
       "<text text-anchor=\"middle\" x=\"27.5\" y=\"-156.8\" font-family=\"Times,serif\" font-size=\"14.00\">&lt;integer&gt;</text>\n",
       "</g>\n",
       "<!-- 2&#45;&gt;3 -->\n",
       "<g id=\"edge3\" class=\"edge\">\n",
       "<title>2&#45;&gt;3</title>\n",
       "<path fill=\"none\" stroke=\"black\" d=\"M31.85,-204.09C31.2,-197.75 30.18,-187.75 29.29,-179.03\"/>\n",
       "<polygon fill=\"black\" stroke=\"black\" points=\"32.79,-178.85 28.29,-169.26 25.82,-179.56 32.79,-178.85\"/>\n",
       "</g>\n",
       "<!-- 4 -->\n",
       "<g id=\"node5\" class=\"node\">\n",
       "<title>4</title>\n",
       "<text text-anchor=\"middle\" x=\"27.5\" y=\"-105.8\" font-family=\"Times,serif\" font-size=\"14.00\">&lt;digit&gt;</text>\n",
       "</g>\n",
       "<!-- 3&#45;&gt;4 -->\n",
       "<g id=\"edge4\" class=\"edge\">\n",
       "<title>3&#45;&gt;4</title>\n",
       "<path fill=\"none\" stroke=\"black\" d=\"M27.5,-153.09C27.5,-146.75 27.5,-136.75 27.5,-128.03\"/>\n",
       "<polygon fill=\"black\" stroke=\"black\" points=\"31,-128.27 27.5,-118.27 24,-128.27 31,-128.27\"/>\n",
       "</g>\n",
       "<!-- 5 -->\n",
       "<g id=\"node6\" class=\"node\">\n",
       "<title>5</title>\n",
       "<text text-anchor=\"middle\" x=\"27.5\" y=\"-54.8\" font-family=\"Times,serif\" font-size=\"14.00\">1 (49)</text>\n",
       "</g>\n",
       "<!-- 4&#45;&gt;5 -->\n",
       "<g id=\"edge5\" class=\"edge\">\n",
       "<title>4&#45;&gt;5</title>\n",
       "<path fill=\"none\" stroke=\"black\" d=\"M27.5,-102.09C27.5,-95.75 27.5,-85.75 27.5,-77.03\"/>\n",
       "<polygon fill=\"black\" stroke=\"black\" points=\"31,-77.27 27.5,-67.27 24,-77.27 31,-77.27\"/>\n",
       "</g>\n",
       "<!-- 8 -->\n",
       "<g id=\"node9\" class=\"node\">\n",
       "<title>8</title>\n",
       "<text text-anchor=\"middle\" x=\"93.5\" y=\"-156.8\" font-family=\"Times,serif\" font-size=\"14.00\">&lt;expr&gt;</text>\n",
       "</g>\n",
       "<!-- 7&#45;&gt;8 -->\n",
       "<g id=\"edge8\" class=\"edge\">\n",
       "<title>7&#45;&gt;8</title>\n",
       "<path fill=\"none\" stroke=\"black\" d=\"M140.44,-204.09C132.47,-196.86 119.27,-184.89 108.9,-175.47\"/>\n",
       "<polygon fill=\"black\" stroke=\"black\" points=\"111.27,-172.9 101.51,-168.77 106.57,-178.08 111.27,-172.9\"/>\n",
       "</g>\n",
       "<!-- 12 -->\n",
       "<g id=\"node13\" class=\"node\">\n",
       "<title>12</title>\n",
       "<text text-anchor=\"middle\" x=\"149.5\" y=\"-156.8\" font-family=\"Times,serif\" font-size=\"14.00\">+ (43)</text>\n",
       "</g>\n",
       "<!-- 7&#45;&gt;12 -->\n",
       "<g id=\"edge12\" class=\"edge\">\n",
       "<title>7&#45;&gt;12</title>\n",
       "<path fill=\"none\" stroke=\"black\" d=\"M147.76,-204.09C148.02,-197.75 148.43,-187.75 148.78,-179.03\"/>\n",
       "<polygon fill=\"black\" stroke=\"black\" points=\"152.27,-179.4 149.18,-169.26 145.28,-179.11 152.27,-179.4\"/>\n",
       "</g>\n",
       "<!-- 13 -->\n",
       "<g id=\"node14\" class=\"node\">\n",
       "<title>13</title>\n",
       "<text text-anchor=\"middle\" x=\"205.5\" y=\"-156.8\" font-family=\"Times,serif\" font-size=\"14.00\">&lt;expr&gt;</text>\n",
       "</g>\n",
       "<!-- 7&#45;&gt;13 -->\n",
       "<g id=\"edge13\" class=\"edge\">\n",
       "<title>7&#45;&gt;13</title>\n",
       "<path fill=\"none\" stroke=\"black\" d=\"M155.08,-204.09C163.73,-196.79 178.11,-184.64 189.3,-175.18\"/>\n",
       "<polygon fill=\"black\" stroke=\"black\" points=\"191.56,-177.86 196.94,-168.73 187.05,-172.51 191.56,-177.86\"/>\n",
       "</g>\n",
       "<!-- 9 -->\n",
       "<g id=\"node10\" class=\"node\">\n",
       "<title>9</title>\n",
       "<text text-anchor=\"middle\" x=\"94.5\" y=\"-105.8\" font-family=\"Times,serif\" font-size=\"14.00\">&lt;integer&gt;</text>\n",
       "</g>\n",
       "<!-- 8&#45;&gt;9 -->\n",
       "<g id=\"edge9\" class=\"edge\">\n",
       "<title>8&#45;&gt;9</title>\n",
       "<path fill=\"none\" stroke=\"black\" d=\"M93.63,-153.09C93.76,-146.75 93.96,-136.75 94.14,-128.03\"/>\n",
       "<polygon fill=\"black\" stroke=\"black\" points=\"97.64,-128.34 94.34,-118.27 90.64,-128.19 97.64,-128.34\"/>\n",
       "</g>\n",
       "<!-- 10 -->\n",
       "<g id=\"node11\" class=\"node\">\n",
       "<title>10</title>\n",
       "<text text-anchor=\"middle\" x=\"94.5\" y=\"-54.8\" font-family=\"Times,serif\" font-size=\"14.00\">&lt;digit&gt;</text>\n",
       "</g>\n",
       "<!-- 9&#45;&gt;10 -->\n",
       "<g id=\"edge10\" class=\"edge\">\n",
       "<title>9&#45;&gt;10</title>\n",
       "<path fill=\"none\" stroke=\"black\" d=\"M94.5,-102.09C94.5,-95.75 94.5,-85.75 94.5,-77.03\"/>\n",
       "<polygon fill=\"black\" stroke=\"black\" points=\"98,-77.27 94.5,-67.27 91,-77.27 98,-77.27\"/>\n",
       "</g>\n",
       "<!-- 11 -->\n",
       "<g id=\"node12\" class=\"node\">\n",
       "<title>11</title>\n",
       "<text text-anchor=\"middle\" x=\"94.5\" y=\"-3.8\" font-family=\"Times,serif\" font-size=\"14.00\">2 (50)</text>\n",
       "</g>\n",
       "<!-- 10&#45;&gt;11 -->\n",
       "<g id=\"edge11\" class=\"edge\">\n",
       "<title>10&#45;&gt;11</title>\n",
       "<path fill=\"none\" stroke=\"black\" d=\"M94.5,-51.09C94.5,-44.75 94.5,-34.75 94.5,-26.03\"/>\n",
       "<polygon fill=\"black\" stroke=\"black\" points=\"98,-26.27 94.5,-16.27 91,-26.27 98,-26.27\"/>\n",
       "</g>\n",
       "<!-- 14 -->\n",
       "<g id=\"node15\" class=\"node\">\n",
       "<title>14</title>\n",
       "<text text-anchor=\"middle\" x=\"205.5\" y=\"-105.8\" font-family=\"Times,serif\" font-size=\"14.00\">&lt;integer&gt;</text>\n",
       "</g>\n",
       "<!-- 13&#45;&gt;14 -->\n",
       "<g id=\"edge14\" class=\"edge\">\n",
       "<title>13&#45;&gt;14</title>\n",
       "<path fill=\"none\" stroke=\"black\" d=\"M205.5,-153.09C205.5,-146.75 205.5,-136.75 205.5,-128.03\"/>\n",
       "<polygon fill=\"black\" stroke=\"black\" points=\"209,-128.27 205.5,-118.27 202,-128.27 209,-128.27\"/>\n",
       "</g>\n",
       "<!-- 15 -->\n",
       "<g id=\"node16\" class=\"node\">\n",
       "<title>15</title>\n",
       "<text text-anchor=\"middle\" x=\"205.5\" y=\"-54.8\" font-family=\"Times,serif\" font-size=\"14.00\">&lt;digit&gt;</text>\n",
       "</g>\n",
       "<!-- 14&#45;&gt;15 -->\n",
       "<g id=\"edge15\" class=\"edge\">\n",
       "<title>14&#45;&gt;15</title>\n",
       "<path fill=\"none\" stroke=\"black\" d=\"M205.5,-102.09C205.5,-95.75 205.5,-85.75 205.5,-77.03\"/>\n",
       "<polygon fill=\"black\" stroke=\"black\" points=\"209,-77.27 205.5,-67.27 202,-77.27 209,-77.27\"/>\n",
       "</g>\n",
       "<!-- 16 -->\n",
       "<g id=\"node17\" class=\"node\">\n",
       "<title>16</title>\n",
       "<text text-anchor=\"middle\" x=\"205.5\" y=\"-3.8\" font-family=\"Times,serif\" font-size=\"14.00\">3 (51)</text>\n",
       "</g>\n",
       "<!-- 15&#45;&gt;16 -->\n",
       "<g id=\"edge16\" class=\"edge\">\n",
       "<title>15&#45;&gt;16</title>\n",
       "<path fill=\"none\" stroke=\"black\" d=\"M205.5,-51.09C205.5,-44.75 205.5,-34.75 205.5,-26.03\"/>\n",
       "<polygon fill=\"black\" stroke=\"black\" points=\"209,-26.27 205.5,-16.27 202,-26.27 209,-26.27\"/>\n",
       "</g>\n",
       "</g>\n",
       "</svg>\n"
      ],
      "text/plain": [
       "<graphviz.graphs.Digraph at 0x1075df520>"
      ]
     },
     "execution_count": 55,
     "metadata": {},
     "output_type": "execute_result"
    }
   ],
   "source": [
    "tree = ('<start>',\n",
    "        [('<expr>', [('<expr>', [('<integer>', [('<digit>', [('1', [])])])]),\n",
    "                     ('+', []),\n",
    "                     ('<expr>',\n",
    "                      [('<expr>', [('<integer>', [('<digit>', [('2', [])])])]),\n",
    "                       ('+', []),\n",
    "                       ('<expr>', [('<integer>', [('<digit>', [('3',\n",
    "                                                                [])])])])])])])\n",
    "assert tree_to_string(tree) == mystring\n",
    "display_tree(tree)"
   ]
  },
  {
   "cell_type": "markdown",
   "metadata": {
    "slideshow": {
     "slide_type": "subslide"
    }
   },
   "source": [
    "There are many ways to resolve ambiguities. One approach taken by *Parsing Expression Grammars* explained in the next section is to specify a particular order of resolution, and choose the first one. Another approach is to simply return all possible derivation trees, which is the approach taken by *Earley parser* we develop later."
   ]
  },
  {
   "cell_type": "markdown",
   "metadata": {
    "slideshow": {
     "slide_type": "subslide"
    }
   },
   "source": [
    "### End of Excursion"
   ]
  },
  {
   "cell_type": "markdown",
   "metadata": {
    "slideshow": {
     "slide_type": "slide"
    },
    "tags": []
   },
   "source": [
    "## A Parser Class"
   ]
  },
  {
   "cell_type": "markdown",
   "metadata": {
    "slideshow": {
     "slide_type": "subslide"
    }
   },
   "source": [
    "Next, we develop different parsers. To do that, we define a minimal interface for parsing that is obeyed by all parsers. There are two approaches to parsing a string using a grammar.\n",
    "\n",
    "1. The traditional approach is to use a *lexer* (also called a *tokenizer* or a *scanner*) to first tokenize the incoming string, and feed the grammar one token at a time. The lexer is typically a smaller parser that accepts a *regular language*. The advantage of this approach is that the grammar used by the parser can eschew the details of tokenization. Further, one gets a shallow derivation tree at the end of the parsing which can be directly used for generating the *Abstract Syntax Tree*.\n",
    "2. The second approach is to use a tree pruner after the complete parse. With this approach, one uses a grammar that incorporates complete details of the syntax. Next, the nodes corresponding to tokens are pruned and replaced with their corresponding strings as leaf nodes. The utility of this approach is that the parser is more powerful, and further there is no artificial distinction between *lexing* and *parsing*.\n",
    "\n",
    "In this chapter, we use the second approach. This approach is implemented in the `prune_tree` method."
   ]
  },
  {
   "cell_type": "markdown",
   "metadata": {
    "slideshow": {
     "slide_type": "subslide"
    }
   },
   "source": [
    "The *Parser* class we define below provides the minimal interface. The main methods that need to be implemented by the classes implementing this interface are `parse_prefix` and `parse`. The `parse_prefix` returns a tuple, which contains the index until which parsing was completed successfully, and the parse forest until that index. The method `parse` returns a list of derivation trees if the parse was successful."
   ]
  },
  {
   "cell_type": "code",
   "execution_count": 56,
   "metadata": {
    "execution": {
     "iopub.execute_input": "2023-01-07T14:16:17.912996Z",
     "iopub.status.busy": "2023-01-07T14:16:17.912659Z",
     "iopub.status.idle": "2023-01-07T14:16:17.913877Z",
     "shell.execute_reply": "2023-01-07T14:16:17.914183Z"
    },
    "slideshow": {
     "slide_type": "subslide"
    }
   },
   "outputs": [],
   "source": [
    "class Parser:\n",
    "    \"\"\"Base class for parsing.\"\"\"\n",
    "\n",
    "    def __init__(self, grammar: Grammar, *,\n",
    "                 start_symbol: str = START_SYMBOL,\n",
    "                 log: bool = False,\n",
    "                 coalesce: bool = True,\n",
    "                 tokens: Set[str] = set()) -> None:\n",
    "        \"\"\"Constructor.\n",
    "           `grammar` is the grammar to be used for parsing.\n",
    "           Keyword arguments:\n",
    "           `start_symbol` is the start symbol (default: '<start>').\n",
    "           `log` enables logging (default: False).\n",
    "           `coalesce` defines if tokens should be coalesced (default: True).\n",
    "           `tokens`, if set, is a set of tokens to be used.\"\"\"\n",
    "        self._grammar = grammar\n",
    "        self._start_symbol = start_symbol\n",
    "        self.log = log\n",
    "        self.coalesce_tokens = coalesce\n",
    "        self.tokens = tokens\n",
    "\n",
    "    def grammar(self) -> Grammar:\n",
    "        \"\"\"Return the grammar of this parser.\"\"\"\n",
    "        return self._grammar\n",
    "\n",
    "    def start_symbol(self) -> str:\n",
    "        \"\"\"Return the start symbol of this parser.\"\"\"\n",
    "        return self._start_symbol\n",
    "\n",
    "    def parse_prefix(self, text: str) -> Tuple[int, Iterable[DerivationTree]]:\n",
    "        \"\"\"Return pair (cursor, forest) for longest prefix of text. \n",
    "           To be defined in subclasses.\"\"\"\n",
    "        raise NotImplementedError\n",
    "\n",
    "    def parse(self, text: str) -> Iterable[DerivationTree]:\n",
    "        \"\"\"Parse `text` using the grammar. \n",
    "           Return an iterable of parse trees.\"\"\"\n",
    "        cursor, forest = self.parse_prefix(text)\n",
    "        if cursor < len(text):\n",
    "            raise SyntaxError(\"at \" + repr(text[cursor:]))\n",
    "        return [self.prune_tree(tree) for tree in forest]\n",
    "\n",
    "    def parse_on(self, text: str, start_symbol: str) -> Generator:\n",
    "        old_start = self._start_symbol\n",
    "        try:\n",
    "            self._start_symbol = start_symbol\n",
    "            yield from self.parse(text)\n",
    "        finally:\n",
    "            self._start_symbol = old_start\n",
    "\n",
    "    def coalesce(self, children: List[DerivationTree]) -> List[DerivationTree]:\n",
    "        last = ''\n",
    "        new_lst: List[DerivationTree] = []\n",
    "        for cn, cc in children:\n",
    "            if cn not in self._grammar:\n",
    "                last += cn\n",
    "            else:\n",
    "                if last:\n",
    "                    new_lst.append((last, []))\n",
    "                    last = ''\n",
    "                new_lst.append((cn, cc))\n",
    "        if last:\n",
    "            new_lst.append((last, []))\n",
    "        return new_lst\n",
    "\n",
    "    def prune_tree(self, tree: DerivationTree) -> DerivationTree:\n",
    "        name, children = tree\n",
    "        assert isinstance(children, list)\n",
    "\n",
    "        if self.coalesce_tokens:\n",
    "            children = self.coalesce(cast(List[DerivationTree], children))\n",
    "        if name in self.tokens:\n",
    "            return (name, [(tree_to_string(tree), [])])\n",
    "        else:\n",
    "            return (name, [self.prune_tree(c) for c in children])"
   ]
  },
  {
   "cell_type": "markdown",
   "metadata": {
    "slideshow": {
     "slide_type": "subslide"
    },
    "tags": []
   },
   "source": [
    "### Excursion: Canonical Grammars"
   ]
  },
  {
   "cell_type": "markdown",
   "metadata": {
    "slideshow": {
     "slide_type": "skip"
    }
   },
   "source": [
    "The  `EXPR_GRAMMAR` we import from the [chapter on grammars](Grammars.ipynb) is oriented towards generation. In particular, the production rules are stored as strings. We need to massage this representation a little to conform to a _canonical representation_ where each token in a rule is represented separately. The `canonical` format uses separate tokens to represent each symbol in an expansion."
   ]
  },
  {
   "cell_type": "code",
   "execution_count": 57,
   "metadata": {
    "execution": {
     "iopub.execute_input": "2023-01-07T14:16:17.916624Z",
     "iopub.status.busy": "2023-01-07T14:16:17.916292Z",
     "iopub.status.idle": "2023-01-07T14:16:17.917487Z",
     "shell.execute_reply": "2023-01-07T14:16:17.917869Z"
    },
    "slideshow": {
     "slide_type": "fragment"
    }
   },
   "outputs": [],
   "source": [
    "CanonicalGrammar = Dict[str, List[List[str]]]"
   ]
  },
  {
   "cell_type": "code",
   "execution_count": 58,
   "metadata": {
    "execution": {
     "iopub.execute_input": "2023-01-07T14:16:17.919935Z",
     "iopub.status.busy": "2023-01-07T14:16:17.919634Z",
     "iopub.status.idle": "2023-01-07T14:16:17.920854Z",
     "shell.execute_reply": "2023-01-07T14:16:17.921095Z"
    },
    "slideshow": {
     "slide_type": "skip"
    }
   },
   "outputs": [],
   "source": [
    "import re"
   ]
  },
  {
   "cell_type": "code",
   "execution_count": 59,
   "metadata": {
    "execution": {
     "iopub.execute_input": "2023-01-07T14:16:17.923746Z",
     "iopub.status.busy": "2023-01-07T14:16:17.923461Z",
     "iopub.status.idle": "2023-01-07T14:16:17.924568Z",
     "shell.execute_reply": "2023-01-07T14:16:17.925012Z"
    },
    "slideshow": {
     "slide_type": "subslide"
    }
   },
   "outputs": [],
   "source": [
    "def single_char_tokens(grammar: Grammar) -> Dict[str, List[List[Collection[str]]]]:\n",
    "    g_ = {}\n",
    "    for key in grammar:\n",
    "        rules_ = []\n",
    "        for rule in grammar[key]:\n",
    "            rule_ = []\n",
    "            for token in rule:\n",
    "                if token in grammar:\n",
    "                    rule_.append(token)\n",
    "                else:\n",
    "                    rule_.extend(token)\n",
    "            rules_.append(rule_)\n",
    "        g_[key] = rules_\n",
    "    return g_"
   ]
  },
  {
   "cell_type": "code",
   "execution_count": 60,
   "metadata": {
    "execution": {
     "iopub.execute_input": "2023-01-07T14:16:17.927400Z",
     "iopub.status.busy": "2023-01-07T14:16:17.927095Z",
     "iopub.status.idle": "2023-01-07T14:16:17.928325Z",
     "shell.execute_reply": "2023-01-07T14:16:17.928513Z"
    },
    "slideshow": {
     "slide_type": "skip"
    }
   },
   "outputs": [],
   "source": [
    "def canonical(grammar: Grammar) -> CanonicalGrammar:\n",
    "    def split(expansion):\n",
    "        if isinstance(expansion, tuple):\n",
    "            expansion = expansion[0]\n",
    "\n",
    "        return [token for token in re.split(\n",
    "            RE_NONTERMINAL, expansion) if token]\n",
    "\n",
    "    return {\n",
    "        k: [split(expression) for expression in alternatives]\n",
    "        for k, alternatives in grammar.items()\n",
    "    }"
   ]
  },
  {
   "cell_type": "code",
   "execution_count": 61,
   "metadata": {
    "execution": {
     "iopub.execute_input": "2023-01-07T14:16:17.931630Z",
     "iopub.status.busy": "2023-01-07T14:16:17.931043Z",
     "iopub.status.idle": "2023-01-07T14:16:17.932654Z",
     "shell.execute_reply": "2023-01-07T14:16:17.932875Z"
    },
    "slideshow": {
     "slide_type": "skip"
    }
   },
   "outputs": [
    {
     "data": {
      "text/plain": [
       "{'<start>': [['<expr>']],\n",
       " '<expr>': [['<term>', ' + ', '<expr>'],\n",
       "  ['<term>', ' - ', '<expr>'],\n",
       "  ['<term>']],\n",
       " '<term>': [['<factor>', ' * ', '<term>'],\n",
       "  ['<factor>', ' / ', '<term>'],\n",
       "  ['<factor>']],\n",
       " '<factor>': [['+', '<factor>'],\n",
       "  ['-', '<factor>'],\n",
       "  ['(', '<expr>', ')'],\n",
       "  ['<integer>', '.', '<integer>'],\n",
       "  ['<integer>']],\n",
       " '<integer>': [['<digit>', '<integer>'], ['<digit>']],\n",
       " '<digit>': [['0'],\n",
       "  ['1'],\n",
       "  ['2'],\n",
       "  ['3'],\n",
       "  ['4'],\n",
       "  ['5'],\n",
       "  ['6'],\n",
       "  ['7'],\n",
       "  ['8'],\n",
       "  ['9']]}"
      ]
     },
     "execution_count": 61,
     "metadata": {},
     "output_type": "execute_result"
    }
   ],
   "source": [
    "CE_GRAMMAR: CanonicalGrammar = canonical(EXPR_GRAMMAR)\n",
    "CE_GRAMMAR"
   ]
  },
  {
   "cell_type": "markdown",
   "metadata": {
    "slideshow": {
     "slide_type": "subslide"
    }
   },
   "source": [
    "We also provide a convenience method for easier display of canonical grammars."
   ]
  },
  {
   "cell_type": "code",
   "execution_count": 62,
   "metadata": {
    "execution": {
     "iopub.execute_input": "2023-01-07T14:16:17.935589Z",
     "iopub.status.busy": "2023-01-07T14:16:17.935285Z",
     "iopub.status.idle": "2023-01-07T14:16:17.936541Z",
     "shell.execute_reply": "2023-01-07T14:16:17.936810Z"
    },
    "slideshow": {
     "slide_type": "fragment"
    }
   },
   "outputs": [],
   "source": [
    "def recurse_grammar(grammar, key, order):\n",
    "    rules = sorted(grammar[key])\n",
    "    old_len = len(order)\n",
    "    for rule in rules:\n",
    "        for token in rule:\n",
    "            if token not in grammar: continue\n",
    "            if token not in order:\n",
    "                order.append(token)\n",
    "    new = order[old_len:]\n",
    "    for ckey in new:\n",
    "        recurse_grammar(grammar, ckey, order)"
   ]
  },
  {
   "cell_type": "code",
   "execution_count": 63,
   "metadata": {
    "execution": {
     "iopub.execute_input": "2023-01-07T14:16:17.938897Z",
     "iopub.status.busy": "2023-01-07T14:16:17.938591Z",
     "iopub.status.idle": "2023-01-07T14:16:17.939790Z",
     "shell.execute_reply": "2023-01-07T14:16:17.939986Z"
    },
    "slideshow": {
     "slide_type": "subslide"
    }
   },
   "outputs": [],
   "source": [
    "def show_grammar(grammar, start_symbol=START_SYMBOL):\n",
    "    order = [start_symbol]\n",
    "    recurse_grammar(grammar, start_symbol, order)\n",
    "    return {k: sorted(grammar[k]) for k in order}"
   ]
  },
  {
   "cell_type": "code",
   "execution_count": 64,
   "metadata": {
    "execution": {
     "iopub.execute_input": "2023-01-07T14:16:17.942465Z",
     "iopub.status.busy": "2023-01-07T14:16:17.942069Z",
     "iopub.status.idle": "2023-01-07T14:16:17.943800Z",
     "shell.execute_reply": "2023-01-07T14:16:17.944001Z"
    },
    "slideshow": {
     "slide_type": "subslide"
    }
   },
   "outputs": [
    {
     "data": {
      "text/plain": [
       "{'<start>': [['<expr>']],\n",
       " '<expr>': [['<term>'],\n",
       "  ['<term>', ' + ', '<expr>'],\n",
       "  ['<term>', ' - ', '<expr>']],\n",
       " '<term>': [['<factor>'],\n",
       "  ['<factor>', ' * ', '<term>'],\n",
       "  ['<factor>', ' / ', '<term>']],\n",
       " '<factor>': [['(', '<expr>', ')'],\n",
       "  ['+', '<factor>'],\n",
       "  ['-', '<factor>'],\n",
       "  ['<integer>'],\n",
       "  ['<integer>', '.', '<integer>']],\n",
       " '<integer>': [['<digit>'], ['<digit>', '<integer>']],\n",
       " '<digit>': [['0'],\n",
       "  ['1'],\n",
       "  ['2'],\n",
       "  ['3'],\n",
       "  ['4'],\n",
       "  ['5'],\n",
       "  ['6'],\n",
       "  ['7'],\n",
       "  ['8'],\n",
       "  ['9']]}"
      ]
     },
     "execution_count": 64,
     "metadata": {},
     "output_type": "execute_result"
    }
   ],
   "source": [
    "show_grammar(CE_GRAMMAR)"
   ]
  },
  {
   "cell_type": "markdown",
   "metadata": {
    "slideshow": {
     "slide_type": "subslide"
    }
   },
   "source": [
    "We provide a way to revert a canonical expression."
   ]
  },
  {
   "cell_type": "code",
   "execution_count": 65,
   "metadata": {
    "execution": {
     "iopub.execute_input": "2023-01-07T14:16:17.946191Z",
     "iopub.status.busy": "2023-01-07T14:16:17.945906Z",
     "iopub.status.idle": "2023-01-07T14:16:17.947196Z",
     "shell.execute_reply": "2023-01-07T14:16:17.947464Z"
    },
    "slideshow": {
     "slide_type": "fragment"
    }
   },
   "outputs": [],
   "source": [
    "def non_canonical(grammar):\n",
    "    new_grammar = {}\n",
    "    for k in grammar:\n",
    "        rules = grammar[k]\n",
    "        new_rules = []\n",
    "        for rule in rules:\n",
    "            new_rules.append(''.join(rule))\n",
    "        new_grammar[k] = new_rules\n",
    "    return new_grammar"
   ]
  },
  {
   "cell_type": "code",
   "execution_count": 66,
   "metadata": {
    "execution": {
     "iopub.execute_input": "2023-01-07T14:16:17.950039Z",
     "iopub.status.busy": "2023-01-07T14:16:17.949643Z",
     "iopub.status.idle": "2023-01-07T14:16:17.951670Z",
     "shell.execute_reply": "2023-01-07T14:16:17.951343Z"
    },
    "slideshow": {
     "slide_type": "subslide"
    }
   },
   "outputs": [
    {
     "data": {
      "text/plain": [
       "{'<start>': ['<expr>'],\n",
       " '<expr>': ['<term> + <expr>', '<term> - <expr>', '<term>'],\n",
       " '<term>': ['<factor> * <term>', '<factor> / <term>', '<factor>'],\n",
       " '<factor>': ['+<factor>',\n",
       "  '-<factor>',\n",
       "  '(<expr>)',\n",
       "  '<integer>.<integer>',\n",
       "  '<integer>'],\n",
       " '<integer>': ['<digit><integer>', '<digit>'],\n",
       " '<digit>': ['0', '1', '2', '3', '4', '5', '6', '7', '8', '9']}"
      ]
     },
     "execution_count": 66,
     "metadata": {},
     "output_type": "execute_result"
    }
   ],
   "source": [
    "non_canonical(CE_GRAMMAR)"
   ]
  },
  {
   "cell_type": "markdown",
   "metadata": {
    "slideshow": {
     "slide_type": "skip"
    }
   },
   "source": [
    "It is easier to work with the `canonical` representation during parsing. Hence, we update our parser class to store the `canonical` representation also."
   ]
  },
  {
   "cell_type": "code",
   "execution_count": 67,
   "metadata": {
    "execution": {
     "iopub.execute_input": "2023-01-07T14:16:17.955303Z",
     "iopub.status.busy": "2023-01-07T14:16:17.955000Z",
     "iopub.status.idle": "2023-01-07T14:16:17.956165Z",
     "shell.execute_reply": "2023-01-07T14:16:17.956494Z"
    },
    "slideshow": {
     "slide_type": "subslide"
    }
   },
   "outputs": [],
   "source": [
    "class Parser(Parser):\n",
    "    def __init__(self, grammar, **kwargs):\n",
    "        self._start_symbol = kwargs.get('start_symbol', START_SYMBOL)\n",
    "        self.log = kwargs.get('log', False)\n",
    "        self.tokens = kwargs.get('tokens', set())\n",
    "        self.coalesce_tokens = kwargs.get('coalesce', True)\n",
    "        canonical_grammar = kwargs.get('canonical', False)\n",
    "        if canonical_grammar:\n",
    "            self.cgrammar = single_char_tokens(grammar)\n",
    "            self._grammar = non_canonical(grammar)\n",
    "        else:\n",
    "            self._grammar = dict(grammar)\n",
    "            self.cgrammar = single_char_tokens(canonical(grammar))\n",
    "        # we do not require a single rule for the start symbol\n",
    "        if len(grammar.get(self._start_symbol, [])) != 1:\n",
    "            self.cgrammar['<>'] = [[self._start_symbol]]"
   ]
  },
  {
   "cell_type": "markdown",
   "metadata": {
    "slideshow": {
     "slide_type": "subslide"
    }
   },
   "source": [
    "We update the `prune_tree()` to account for the phony start symbol if it was insserted."
   ]
  },
  {
   "cell_type": "code",
   "execution_count": 68,
   "metadata": {
    "execution": {
     "iopub.execute_input": "2023-01-07T14:16:17.959237Z",
     "iopub.status.busy": "2023-01-07T14:16:17.958912Z",
     "iopub.status.idle": "2023-01-07T14:16:17.960165Z",
     "shell.execute_reply": "2023-01-07T14:16:17.960518Z"
    },
    "slideshow": {
     "slide_type": "fragment"
    }
   },
   "outputs": [],
   "source": [
    "class Parser(Parser):\n",
    "    def prune_tree(self, tree):\n",
    "        name, children = tree\n",
    "        if name == '<>':\n",
    "            assert len(children) == 1\n",
    "            return self.prune_tree(children[0])\n",
    "        if self.coalesce_tokens:\n",
    "            children = self.coalesce(children)\n",
    "        if name in self.tokens:\n",
    "            return (name, [(tree_to_string(tree), [])])\n",
    "        else:\n",
    "            return (name, [self.prune_tree(c) for c in children])"
   ]
  },
  {
   "cell_type": "markdown",
   "metadata": {
    "slideshow": {
     "slide_type": "subslide"
    }
   },
   "source": [
    "### End of Excursion"
   ]
  },
  {
   "cell_type": "markdown",
   "metadata": {
    "slideshow": {
     "slide_type": "subslide"
    }
   },
   "source": [
    "## Parsing Expression Grammars\n",
    "\n",
    "A _[Parsing Expression Grammar](http://bford.info/pub/lang/peg)_ (*PEG*) \\cite{Ford2004} is a type of _recognition based formal grammar_ that specifies the sequence of steps to take to parse a given string.\n",
    "A _parsing expression grammar_ is very similar to a _context-free grammar_ (*CFG*) such as the ones we saw in the [chapter on grammars](Grammars.ipynb). As in a CFG, a parsing expression grammar is represented by a set of nonterminals and corresponding alternatives representing how to match each. For example, here is a PEG that matches `a` or `b`."
   ]
  },
  {
   "cell_type": "code",
   "execution_count": 69,
   "metadata": {
    "execution": {
     "iopub.execute_input": "2023-01-07T14:16:17.962266Z",
     "iopub.status.busy": "2023-01-07T14:16:17.961922Z",
     "iopub.status.idle": "2023-01-07T14:16:17.963116Z",
     "shell.execute_reply": "2023-01-07T14:16:17.963389Z"
    },
    "slideshow": {
     "slide_type": "fragment"
    }
   },
   "outputs": [],
   "source": [
    "PEG1 = {\n",
    "    '<start>': ['a', 'b']\n",
    "}"
   ]
  },
  {
   "cell_type": "markdown",
   "metadata": {
    "slideshow": {
     "slide_type": "notes"
    }
   },
   "source": [
    "However, unlike the _CFG_, the alternatives represent *ordered choice*. That is, rather than choosing all rules that can potentially match, we stop at the first match that succeed. For example, the below _PEG_ can match `ab` but not `abc` unlike a _CFG_ which will match both. (We call the sequence of ordered choice expressions *choice expressions*  rather than alternatives to make the distinction from _CFG_ clear.)"
   ]
  },
  {
   "cell_type": "code",
   "execution_count": 70,
   "metadata": {
    "execution": {
     "iopub.execute_input": "2023-01-07T14:16:17.965505Z",
     "iopub.status.busy": "2023-01-07T14:16:17.965106Z",
     "iopub.status.idle": "2023-01-07T14:16:17.966929Z",
     "shell.execute_reply": "2023-01-07T14:16:17.967419Z"
    },
    "slideshow": {
     "slide_type": "subslide"
    }
   },
   "outputs": [],
   "source": [
    "PEG2 = {\n",
    "    '<start>': ['ab', 'abc']\n",
    "}"
   ]
  },
  {
   "cell_type": "markdown",
   "metadata": {
    "slideshow": {
     "slide_type": "notes"
    }
   },
   "source": [
    "Each choice in a _choice expression_ represents a rule on how to satisfy that particular choice. The choice is a sequence of symbols (terminals and nonterminals) that are matched against a given text as in a _CFG_."
   ]
  },
  {
   "cell_type": "markdown",
   "metadata": {
    "slideshow": {
     "slide_type": "skip"
    }
   },
   "source": [
    "Beyond the syntax of grammar definitions we have seen so far, a _PEG_ can also contain a few additional elements. See the exercises at the end of the chapter for additional information.\n",
    "\n",
    "The PEGs model the typical practice in handwritten recursive descent parsers, and hence it may be considered more intuitive to understand."
   ]
  },
  {
   "cell_type": "markdown",
   "metadata": {
    "slideshow": {
     "slide_type": "subslide"
    },
    "tags": []
   },
   "source": [
    "### The Packrat Parser for Predicate Expression Grammars\n",
    "\n",
    "Short of hand rolling a parser, _Packrat_ parsing is one of the simplest parsing techniques, and is one of the techniques for parsing PEGs.\n",
    "The _Packrat_ parser is so named because it tries to cache all results from simpler problems in the hope that these solutions can be used to avoid re-computation later. We develop a minimal _Packrat_ parser next."
   ]
  },
  {
   "cell_type": "markdown",
   "metadata": {
    "slideshow": {
     "slide_type": "subslide"
    },
    "toc-hr-collapsed": false
   },
   "source": [
    "We derive from the `Parser` base class first, and we accept the text to be parsed in the `parse()` method, which in turn calls `unify_key()` with the `start_symbol`.\n",
    "\n",
    "__Note.__ While our PEG parser can produce only a single unambiguous parse tree, other parsers can produce multiple parses for ambiguous grammars. Hence, we return a list of trees (in this case with a single element)."
   ]
  },
  {
   "cell_type": "code",
   "execution_count": 71,
   "metadata": {
    "execution": {
     "iopub.execute_input": "2023-01-07T14:16:17.970234Z",
     "iopub.status.busy": "2023-01-07T14:16:17.969833Z",
     "iopub.status.idle": "2023-01-07T14:16:17.971331Z",
     "shell.execute_reply": "2023-01-07T14:16:17.971618Z"
    },
    "slideshow": {
     "slide_type": "subslide"
    }
   },
   "outputs": [],
   "source": [
    "class PEGParser(Parser):\n",
    "    def parse_prefix(self, text):\n",
    "        cursor, tree = self.unify_key(self.start_symbol(), text, 0)\n",
    "        return cursor, [tree]"
   ]
  },
  {
   "cell_type": "markdown",
   "metadata": {
    "slideshow": {
     "slide_type": "subslide"
    }
   },
   "source": [
    "### Excursion: Implementing `PEGParser`"
   ]
  },
  {
   "cell_type": "markdown",
   "metadata": {
    "slideshow": {
     "slide_type": "notes"
    }
   },
   "source": [
    "#### Unify Key\n",
    "The `unify_key()` algorithm is simple. If given a terminal symbol, it tries to match the symbol with the current position in the text. If the symbol and text match, it returns successfully with the new parse index `at`.\n",
    "\n",
    "If on the other hand, it was given a nonterminal, it retrieves the choice expression corresponding to the key, and tries to match each choice *in order* using `unify_rule()`. If **any** of the rules succeed in being unified with the given text, the parse is considered a success, and we return with the new parse index returned by `unify_rule()`."
   ]
  },
  {
   "cell_type": "code",
   "execution_count": 72,
   "metadata": {
    "button": false,
    "code_folding": [],
    "execution": {
     "iopub.execute_input": "2023-01-07T14:16:17.974685Z",
     "iopub.status.busy": "2023-01-07T14:16:17.974373Z",
     "iopub.status.idle": "2023-01-07T14:16:17.975638Z",
     "shell.execute_reply": "2023-01-07T14:16:17.975869Z"
    },
    "new_sheet": false,
    "run_control": {
     "read_only": false
    },
    "slideshow": {
     "slide_type": "subslide"
    }
   },
   "outputs": [],
   "source": [
    "class PEGParser(PEGParser):\n",
    "    \"\"\"Packrat parser for Parsing Expression Grammars (PEGs).\"\"\"\n",
    "\n",
    "    def unify_key(self, key, text, at=0):\n",
    "        if self.log:\n",
    "            print(\"unify_key: %s with %s\" % (repr(key), repr(text[at:])))\n",
    "        if key not in self.cgrammar:\n",
    "            if text[at:].startswith(key):\n",
    "                return at + len(key), (key, [])\n",
    "            else:\n",
    "                return at, None\n",
    "        for rule in self.cgrammar[key]:\n",
    "            to, res = self.unify_rule(rule, text, at)\n",
    "            if res is not None:\n",
    "                return (to, (key, res))\n",
    "        return 0, None"
   ]
  },
  {
   "cell_type": "code",
   "execution_count": 73,
   "metadata": {
    "execution": {
     "iopub.execute_input": "2023-01-07T14:16:17.978091Z",
     "iopub.status.busy": "2023-01-07T14:16:17.977723Z",
     "iopub.status.idle": "2023-01-07T14:16:17.979504Z",
     "shell.execute_reply": "2023-01-07T14:16:17.979780Z"
    },
    "slideshow": {
     "slide_type": "subslide"
    }
   },
   "outputs": [
    {
     "name": "stdout",
     "output_type": "stream",
     "text": [
      "unify_key: '1' with '1'\n"
     ]
    },
    {
     "data": {
      "text/plain": [
       "(1, ('1', []))"
      ]
     },
     "execution_count": 73,
     "metadata": {},
     "output_type": "execute_result"
    }
   ],
   "source": [
    "mystring = \"1\"\n",
    "peg = PEGParser(EXPR_GRAMMAR, log=True)\n",
    "peg.unify_key('1', mystring)"
   ]
  },
  {
   "cell_type": "code",
   "execution_count": 74,
   "metadata": {
    "execution": {
     "iopub.execute_input": "2023-01-07T14:16:17.982028Z",
     "iopub.status.busy": "2023-01-07T14:16:17.981658Z",
     "iopub.status.idle": "2023-01-07T14:16:17.983348Z",
     "shell.execute_reply": "2023-01-07T14:16:17.983544Z"
    },
    "slideshow": {
     "slide_type": "fragment"
    }
   },
   "outputs": [
    {
     "name": "stdout",
     "output_type": "stream",
     "text": [
      "unify_key: '1' with '2'\n"
     ]
    },
    {
     "data": {
      "text/plain": [
       "(0, None)"
      ]
     },
     "execution_count": 74,
     "metadata": {},
     "output_type": "execute_result"
    }
   ],
   "source": [
    "mystring = \"2\"\n",
    "peg.unify_key('1', mystring)"
   ]
  },
  {
   "cell_type": "markdown",
   "metadata": {
    "slideshow": {
     "slide_type": "notes"
    }
   },
   "source": [
    "#### Unify Rule\n",
    "\n",
    "The `unify_rule()` method is similar. It retrieves the tokens corresponding to the rule that it needs to unify with the text, and calls `unify_key()` on them in sequence. If **all** tokens are successfully unified with the text, the parse is a success."
   ]
  },
  {
   "cell_type": "code",
   "execution_count": 75,
   "metadata": {
    "execution": {
     "iopub.execute_input": "2023-01-07T14:16:17.986380Z",
     "iopub.status.busy": "2023-01-07T14:16:17.986070Z",
     "iopub.status.idle": "2023-01-07T14:16:17.987434Z",
     "shell.execute_reply": "2023-01-07T14:16:17.987681Z"
    },
    "slideshow": {
     "slide_type": "subslide"
    }
   },
   "outputs": [],
   "source": [
    "class PEGParser(PEGParser):\n",
    "    def unify_rule(self, rule, text, at):\n",
    "        if self.log:\n",
    "            print('unify_rule: %s with %s' % (repr(rule), repr(text[at:])))\n",
    "        results = []\n",
    "        for token in rule:\n",
    "            at, res = self.unify_key(token, text, at)\n",
    "            if res is None:\n",
    "                return at, None\n",
    "            results.append(res)\n",
    "        return at, results"
   ]
  },
  {
   "cell_type": "code",
   "execution_count": 76,
   "metadata": {
    "execution": {
     "iopub.execute_input": "2023-01-07T14:16:17.990059Z",
     "iopub.status.busy": "2023-01-07T14:16:17.988797Z",
     "iopub.status.idle": "2023-01-07T14:16:17.991673Z",
     "shell.execute_reply": "2023-01-07T14:16:17.991918Z"
    },
    "slideshow": {
     "slide_type": "subslide"
    }
   },
   "outputs": [
    {
     "name": "stdout",
     "output_type": "stream",
     "text": [
      "unify_rule: ['0'] with '0'\n",
      "unify_key: '0' with '0'\n"
     ]
    },
    {
     "data": {
      "text/plain": [
       "(1, [('0', [])])"
      ]
     },
     "execution_count": 76,
     "metadata": {},
     "output_type": "execute_result"
    }
   ],
   "source": [
    "mystring = \"0\"\n",
    "peg = PEGParser(EXPR_GRAMMAR, log=True)\n",
    "peg.unify_rule(peg.cgrammar['<digit>'][0], mystring, 0)"
   ]
  },
  {
   "cell_type": "code",
   "execution_count": 77,
   "metadata": {
    "execution": {
     "iopub.execute_input": "2023-01-07T14:16:17.994608Z",
     "iopub.status.busy": "2023-01-07T14:16:17.994254Z",
     "iopub.status.idle": "2023-01-07T14:16:17.996056Z",
     "shell.execute_reply": "2023-01-07T14:16:17.996437Z"
    },
    "slideshow": {
     "slide_type": "subslide"
    }
   },
   "outputs": [
    {
     "name": "stdout",
     "output_type": "stream",
     "text": [
      "unify_rule: ['<digit>', '<integer>'] with '12'\n",
      "unify_key: '<digit>' with '12'\n",
      "unify_rule: ['0'] with '12'\n",
      "unify_key: '0' with '12'\n",
      "unify_rule: ['1'] with '12'\n",
      "unify_key: '1' with '12'\n",
      "unify_key: '<integer>' with '2'\n",
      "unify_rule: ['<digit>', '<integer>'] with '2'\n",
      "unify_key: '<digit>' with '2'\n",
      "unify_rule: ['0'] with '2'\n",
      "unify_key: '0' with '2'\n",
      "unify_rule: ['1'] with '2'\n",
      "unify_key: '1' with '2'\n",
      "unify_rule: ['2'] with '2'\n",
      "unify_key: '2' with '2'\n",
      "unify_key: '<integer>' with ''\n",
      "unify_rule: ['<digit>', '<integer>'] with ''\n",
      "unify_key: '<digit>' with ''\n",
      "unify_rule: ['0'] with ''\n",
      "unify_key: '0' with ''\n",
      "unify_rule: ['1'] with ''\n",
      "unify_key: '1' with ''\n",
      "unify_rule: ['2'] with ''\n",
      "unify_key: '2' with ''\n",
      "unify_rule: ['3'] with ''\n",
      "unify_key: '3' with ''\n",
      "unify_rule: ['4'] with ''\n",
      "unify_key: '4' with ''\n",
      "unify_rule: ['5'] with ''\n",
      "unify_key: '5' with ''\n",
      "unify_rule: ['6'] with ''\n",
      "unify_key: '6' with ''\n",
      "unify_rule: ['7'] with ''\n",
      "unify_key: '7' with ''\n",
      "unify_rule: ['8'] with ''\n",
      "unify_key: '8' with ''\n",
      "unify_rule: ['9'] with ''\n",
      "unify_key: '9' with ''\n",
      "unify_rule: ['<digit>'] with ''\n",
      "unify_key: '<digit>' with ''\n",
      "unify_rule: ['0'] with ''\n",
      "unify_key: '0' with ''\n",
      "unify_rule: ['1'] with ''\n",
      "unify_key: '1' with ''\n",
      "unify_rule: ['2'] with ''\n",
      "unify_key: '2' with ''\n",
      "unify_rule: ['3'] with ''\n",
      "unify_key: '3' with ''\n",
      "unify_rule: ['4'] with ''\n",
      "unify_key: '4' with ''\n",
      "unify_rule: ['5'] with ''\n",
      "unify_key: '5' with ''\n",
      "unify_rule: ['6'] with ''\n",
      "unify_key: '6' with ''\n",
      "unify_rule: ['7'] with ''\n",
      "unify_key: '7' with ''\n",
      "unify_rule: ['8'] with ''\n",
      "unify_key: '8' with ''\n",
      "unify_rule: ['9'] with ''\n",
      "unify_key: '9' with ''\n",
      "unify_rule: ['<digit>'] with '2'\n",
      "unify_key: '<digit>' with '2'\n",
      "unify_rule: ['0'] with '2'\n",
      "unify_key: '0' with '2'\n",
      "unify_rule: ['1'] with '2'\n",
      "unify_key: '1' with '2'\n",
      "unify_rule: ['2'] with '2'\n",
      "unify_key: '2' with '2'\n"
     ]
    },
    {
     "data": {
      "text/plain": [
       "(2, [('<digit>', [('1', [])]), ('<integer>', [('<digit>', [('2', [])])])])"
      ]
     },
     "execution_count": 77,
     "metadata": {},
     "output_type": "execute_result"
    }
   ],
   "source": [
    "mystring = \"12\"\n",
    "peg.unify_rule(peg.cgrammar['<integer>'][0], mystring, 0)"
   ]
  },
  {
   "cell_type": "code",
   "execution_count": 78,
   "metadata": {
    "execution": {
     "iopub.execute_input": "2023-01-07T14:16:17.999859Z",
     "iopub.status.busy": "2023-01-07T14:16:17.999493Z",
     "iopub.status.idle": "2023-01-07T14:16:18.001564Z",
     "shell.execute_reply": "2023-01-07T14:16:18.001899Z"
    },
    "slideshow": {
     "slide_type": "subslide"
    }
   },
   "outputs": [
    {
     "data": {
      "text/plain": [
       "[('<start>',\n",
       "  [('<expr>',\n",
       "    [('<term>', [('<factor>', [('<integer>', [('<digit>', [('1', [])])])])]),\n",
       "     (' + ', []),\n",
       "     ('<expr>',\n",
       "      [('<term>',\n",
       "        [('<factor>', [('<integer>', [('<digit>', [('2', [])])])])])])])])]"
      ]
     },
     "execution_count": 78,
     "metadata": {},
     "output_type": "execute_result"
    }
   ],
   "source": [
    "mystring = \"1 + 2\"\n",
    "peg = PEGParser(EXPR_GRAMMAR, log=False)\n",
    "peg.parse(mystring)"
   ]
  },
  {
   "cell_type": "markdown",
   "metadata": {
    "slideshow": {
     "slide_type": "notes"
    }
   },
   "source": [
    "The two methods are mutually recursive, and given that `unify_key()` tries each alternative until it succeeds, `unify_key` can be called multiple times with the same arguments. Hence, it is important to memoize the results of `unify_key`. Python provides a simple decorator `lru_cache` for memoizing any function call that has hashable arguments. We add that to our implementation so that repeated calls to `unify_key()` with the same argument get cached results.\n",
    "\n",
    "This memoization gives the algorithm its name – _Packrat_."
   ]
  },
  {
   "cell_type": "code",
   "execution_count": 79,
   "metadata": {
    "execution": {
     "iopub.execute_input": "2023-01-07T14:16:18.004142Z",
     "iopub.status.busy": "2023-01-07T14:16:18.003819Z",
     "iopub.status.idle": "2023-01-07T14:16:18.005080Z",
     "shell.execute_reply": "2023-01-07T14:16:18.005374Z"
    },
    "slideshow": {
     "slide_type": "skip"
    }
   },
   "outputs": [],
   "source": [
    "from functools import lru_cache"
   ]
  },
  {
   "cell_type": "code",
   "execution_count": 80,
   "metadata": {
    "execution": {
     "iopub.execute_input": "2023-01-07T14:16:18.008035Z",
     "iopub.status.busy": "2023-01-07T14:16:18.006546Z",
     "iopub.status.idle": "2023-01-07T14:16:18.009187Z",
     "shell.execute_reply": "2023-01-07T14:16:18.009555Z"
    },
    "slideshow": {
     "slide_type": "subslide"
    }
   },
   "outputs": [],
   "source": [
    "class PEGParser(PEGParser):\n",
    "    @lru_cache(maxsize=None)\n",
    "    def unify_key(self, key, text, at=0):\n",
    "        if key not in self.cgrammar:\n",
    "            if text[at:].startswith(key):\n",
    "                return at + len(key), (key, [])\n",
    "            else:\n",
    "                return at, None\n",
    "        for rule in self.cgrammar[key]:\n",
    "            to, res = self.unify_rule(rule, text, at)\n",
    "            if res is not None:\n",
    "                return (to, (key, res))\n",
    "        return 0, None"
   ]
  },
  {
   "cell_type": "markdown",
   "metadata": {
    "slideshow": {
     "slide_type": "notes"
    }
   },
   "source": [
    "We wrap initialization and calling of `PEGParser` in a method `parse()` already implemented in the `Parser` base class that accepts the text to be parsed along with the grammar."
   ]
  },
  {
   "cell_type": "markdown",
   "metadata": {
    "slideshow": {
     "slide_type": "subslide"
    }
   },
   "source": [
    "### End of Excursion"
   ]
  },
  {
   "cell_type": "markdown",
   "metadata": {
    "slideshow": {
     "slide_type": "notes"
    }
   },
   "source": [
    "Here are a few examples of our parser in action."
   ]
  },
  {
   "cell_type": "code",
   "execution_count": 81,
   "metadata": {
    "execution": {
     "iopub.execute_input": "2023-01-07T14:16:18.012664Z",
     "iopub.status.busy": "2023-01-07T14:16:18.012281Z",
     "iopub.status.idle": "2023-01-07T14:16:18.279681Z",
     "shell.execute_reply": "2023-01-07T14:16:18.279923Z"
    },
    "slideshow": {
     "slide_type": "subslide"
    }
   },
   "outputs": [
    {
     "data": {
      "image/svg+xml": [
       "<?xml version=\"1.0\" encoding=\"UTF-8\" standalone=\"no\"?>\n",
       "<!DOCTYPE svg PUBLIC \"-//W3C//DTD SVG 1.1//EN\"\n",
       " \"http://www.w3.org/Graphics/SVG/1.1/DTD/svg11.dtd\">\n",
       "<!-- Generated by graphviz version 7.0.2 (20221119.0110)\n",
       " -->\n",
       "<!-- Pages: 1 -->\n",
       "<svg width=\"213pt\" height=\"584pt\"\n",
       " viewBox=\"0.00 0.00 212.50 584.00\" xmlns=\"http://www.w3.org/2000/svg\" xmlns:xlink=\"http://www.w3.org/1999/xlink\">\n",
       "<g id=\"graph0\" class=\"graph\" transform=\"scale(1 1) rotate(0) translate(4 580)\">\n",
       "<polygon fill=\"white\" stroke=\"none\" points=\"-4,4 -4,-580 208.5,-580 208.5,4 -4,4\"/>\n",
       "<!-- 0 -->\n",
       "<g id=\"node1\" class=\"node\">\n",
       "<title>0</title>\n",
       "<text text-anchor=\"middle\" x=\"82\" y=\"-564.8\" font-family=\"Times,serif\" font-size=\"14.00\">&lt;start&gt;</text>\n",
       "</g>\n",
       "<!-- 1 -->\n",
       "<g id=\"node2\" class=\"node\">\n",
       "<title>1</title>\n",
       "<text text-anchor=\"middle\" x=\"82\" y=\"-513.8\" font-family=\"Times,serif\" font-size=\"14.00\">&lt;expr&gt;</text>\n",
       "</g>\n",
       "<!-- 0&#45;&gt;1 -->\n",
       "<g id=\"edge1\" class=\"edge\">\n",
       "<title>0&#45;&gt;1</title>\n",
       "<path fill=\"none\" stroke=\"black\" d=\"M82,-561.09C82,-554.75 82,-544.75 82,-536.03\"/>\n",
       "<polygon fill=\"black\" stroke=\"black\" points=\"85.5,-536.27 82,-526.27 78.5,-536.27 85.5,-536.27\"/>\n",
       "</g>\n",
       "<!-- 2 -->\n",
       "<g id=\"node3\" class=\"node\">\n",
       "<title>2</title>\n",
       "<text text-anchor=\"middle\" x=\"33\" y=\"-462.8\" font-family=\"Times,serif\" font-size=\"14.00\">&lt;term&gt;</text>\n",
       "</g>\n",
       "<!-- 1&#45;&gt;2 -->\n",
       "<g id=\"edge2\" class=\"edge\">\n",
       "<title>1&#45;&gt;2</title>\n",
       "<path fill=\"none\" stroke=\"black\" d=\"M75.59,-510.09C68.44,-502.94 56.63,-491.13 47.26,-481.76\"/>\n",
       "<polygon fill=\"black\" stroke=\"black\" points=\"49.87,-479.42 40.32,-474.82 44.92,-484.37 49.87,-479.42\"/>\n",
       "</g>\n",
       "<!-- 7 -->\n",
       "<g id=\"node8\" class=\"node\">\n",
       "<title>7</title>\n",
       "<text text-anchor=\"middle\" x=\"82\" y=\"-462.8\" font-family=\"Times,serif\" font-size=\"14.00\"> + </text>\n",
       "</g>\n",
       "<!-- 1&#45;&gt;7 -->\n",
       "<g id=\"edge7\" class=\"edge\">\n",
       "<title>1&#45;&gt;7</title>\n",
       "<path fill=\"none\" stroke=\"black\" d=\"M82,-510.09C82,-503.75 82,-493.75 82,-485.03\"/>\n",
       "<polygon fill=\"black\" stroke=\"black\" points=\"85.5,-485.27 82,-475.27 78.5,-485.27 85.5,-485.27\"/>\n",
       "</g>\n",
       "<!-- 8 -->\n",
       "<g id=\"node9\" class=\"node\">\n",
       "<title>8</title>\n",
       "<text text-anchor=\"middle\" x=\"129\" y=\"-462.8\" font-family=\"Times,serif\" font-size=\"14.00\">&lt;expr&gt;</text>\n",
       "</g>\n",
       "<!-- 1&#45;&gt;8 -->\n",
       "<g id=\"edge8\" class=\"edge\">\n",
       "<title>1&#45;&gt;8</title>\n",
       "<path fill=\"none\" stroke=\"black\" d=\"M88.14,-510.09C94.94,-503.01 106.1,-491.37 115.04,-482.05\"/>\n",
       "<polygon fill=\"black\" stroke=\"black\" points=\"117.56,-484.48 121.95,-474.84 112.51,-479.64 117.56,-484.48\"/>\n",
       "</g>\n",
       "<!-- 3 -->\n",
       "<g id=\"node4\" class=\"node\">\n",
       "<title>3</title>\n",
       "<text text-anchor=\"middle\" x=\"31\" y=\"-411.8\" font-family=\"Times,serif\" font-size=\"14.00\">&lt;factor&gt;</text>\n",
       "</g>\n",
       "<!-- 2&#45;&gt;3 -->\n",
       "<g id=\"edge3\" class=\"edge\">\n",
       "<title>2&#45;&gt;3</title>\n",
       "<path fill=\"none\" stroke=\"black\" d=\"M32.74,-459.09C32.48,-452.75 32.07,-442.75 31.72,-434.03\"/>\n",
       "<polygon fill=\"black\" stroke=\"black\" points=\"35.22,-434.11 31.32,-424.26 28.23,-434.4 35.22,-434.11\"/>\n",
       "</g>\n",
       "<!-- 4 -->\n",
       "<g id=\"node5\" class=\"node\">\n",
       "<title>4</title>\n",
       "<text text-anchor=\"middle\" x=\"28\" y=\"-360.8\" font-family=\"Times,serif\" font-size=\"14.00\">&lt;integer&gt;</text>\n",
       "</g>\n",
       "<!-- 3&#45;&gt;4 -->\n",
       "<g id=\"edge4\" class=\"edge\">\n",
       "<title>3&#45;&gt;4</title>\n",
       "<path fill=\"none\" stroke=\"black\" d=\"M30.61,-408.09C30.22,-401.75 29.61,-391.75 29.07,-383.03\"/>\n",
       "<polygon fill=\"black\" stroke=\"black\" points=\"32.58,-383.03 28.48,-373.26 25.59,-383.46 32.58,-383.03\"/>\n",
       "</g>\n",
       "<!-- 5 -->\n",
       "<g id=\"node6\" class=\"node\">\n",
       "<title>5</title>\n",
       "<text text-anchor=\"middle\" x=\"21\" y=\"-309.8\" font-family=\"Times,serif\" font-size=\"14.00\">&lt;digit&gt;</text>\n",
       "</g>\n",
       "<!-- 4&#45;&gt;5 -->\n",
       "<g id=\"edge5\" class=\"edge\">\n",
       "<title>4&#45;&gt;5</title>\n",
       "<path fill=\"none\" stroke=\"black\" d=\"M27.08,-357.09C26.18,-350.75 24.75,-340.75 23.5,-332.03\"/>\n",
       "<polygon fill=\"black\" stroke=\"black\" points=\"26.99,-331.66 22.11,-322.25 20.06,-332.65 26.99,-331.66\"/>\n",
       "</g>\n",
       "<!-- 6 -->\n",
       "<g id=\"node7\" class=\"node\">\n",
       "<title>6</title>\n",
       "<text text-anchor=\"middle\" x=\"21\" y=\"-258.8\" font-family=\"Times,serif\" font-size=\"14.00\">1 (49)</text>\n",
       "</g>\n",
       "<!-- 5&#45;&gt;6 -->\n",
       "<g id=\"edge6\" class=\"edge\">\n",
       "<title>5&#45;&gt;6</title>\n",
       "<path fill=\"none\" stroke=\"black\" d=\"M21,-306.09C21,-299.75 21,-289.75 21,-281.03\"/>\n",
       "<polygon fill=\"black\" stroke=\"black\" points=\"24.5,-281.27 21,-271.27 17.5,-281.27 24.5,-281.27\"/>\n",
       "</g>\n",
       "<!-- 9 -->\n",
       "<g id=\"node10\" class=\"node\">\n",
       "<title>9</title>\n",
       "<text text-anchor=\"middle\" x=\"129\" y=\"-411.8\" font-family=\"Times,serif\" font-size=\"14.00\">&lt;term&gt;</text>\n",
       "</g>\n",
       "<!-- 8&#45;&gt;9 -->\n",
       "<g id=\"edge9\" class=\"edge\">\n",
       "<title>8&#45;&gt;9</title>\n",
       "<path fill=\"none\" stroke=\"black\" d=\"M129,-459.09C129,-452.75 129,-442.75 129,-434.03\"/>\n",
       "<polygon fill=\"black\" stroke=\"black\" points=\"132.5,-434.27 129,-424.27 125.5,-434.27 132.5,-434.27\"/>\n",
       "</g>\n",
       "<!-- 10 -->\n",
       "<g id=\"node11\" class=\"node\">\n",
       "<title>10</title>\n",
       "<text text-anchor=\"middle\" x=\"129\" y=\"-360.8\" font-family=\"Times,serif\" font-size=\"14.00\">&lt;factor&gt;</text>\n",
       "</g>\n",
       "<!-- 9&#45;&gt;10 -->\n",
       "<g id=\"edge10\" class=\"edge\">\n",
       "<title>9&#45;&gt;10</title>\n",
       "<path fill=\"none\" stroke=\"black\" d=\"M129,-408.09C129,-401.75 129,-391.75 129,-383.03\"/>\n",
       "<polygon fill=\"black\" stroke=\"black\" points=\"132.5,-383.27 129,-373.27 125.5,-383.27 132.5,-383.27\"/>\n",
       "</g>\n",
       "<!-- 11 -->\n",
       "<g id=\"node12\" class=\"node\">\n",
       "<title>11</title>\n",
       "<text text-anchor=\"middle\" x=\"76\" y=\"-309.8\" font-family=\"Times,serif\" font-size=\"14.00\">( (40)</text>\n",
       "</g>\n",
       "<!-- 10&#45;&gt;11 -->\n",
       "<g id=\"edge11\" class=\"edge\">\n",
       "<title>10&#45;&gt;11</title>\n",
       "<path fill=\"none\" stroke=\"black\" d=\"M122.07,-357.09C114.25,-349.86 101.29,-337.89 91.11,-328.47\"/>\n",
       "<polygon fill=\"black\" stroke=\"black\" points=\"93.59,-326 83.87,-321.78 88.84,-331.14 93.59,-326\"/>\n",
       "</g>\n",
       "<!-- 12 -->\n",
       "<g id=\"node13\" class=\"node\">\n",
       "<title>12</title>\n",
       "<text text-anchor=\"middle\" x=\"130\" y=\"-309.8\" font-family=\"Times,serif\" font-size=\"14.00\">&lt;expr&gt;</text>\n",
       "</g>\n",
       "<!-- 10&#45;&gt;12 -->\n",
       "<g id=\"edge12\" class=\"edge\">\n",
       "<title>10&#45;&gt;12</title>\n",
       "<path fill=\"none\" stroke=\"black\" d=\"M129.13,-357.09C129.26,-350.75 129.46,-340.75 129.64,-332.03\"/>\n",
       "<polygon fill=\"black\" stroke=\"black\" points=\"133.14,-332.34 129.84,-322.27 126.14,-332.19 133.14,-332.34\"/>\n",
       "</g>\n",
       "<!-- 24 -->\n",
       "<g id=\"node25\" class=\"node\">\n",
       "<title>24</title>\n",
       "<text text-anchor=\"middle\" x=\"184\" y=\"-309.8\" font-family=\"Times,serif\" font-size=\"14.00\">) (41)</text>\n",
       "</g>\n",
       "<!-- 10&#45;&gt;24 -->\n",
       "<g id=\"edge24\" class=\"edge\">\n",
       "<title>10&#45;&gt;24</title>\n",
       "<path fill=\"none\" stroke=\"black\" d=\"M136.19,-357.09C144.39,-349.79 158.03,-337.64 168.64,-328.18\"/>\n",
       "<polygon fill=\"black\" stroke=\"black\" points=\"170.71,-331.02 175.85,-321.76 166.06,-325.8 170.71,-331.02\"/>\n",
       "</g>\n",
       "<!-- 13 -->\n",
       "<g id=\"node14\" class=\"node\">\n",
       "<title>13</title>\n",
       "<text text-anchor=\"middle\" x=\"130\" y=\"-258.8\" font-family=\"Times,serif\" font-size=\"14.00\">&lt;term&gt;</text>\n",
       "</g>\n",
       "<!-- 12&#45;&gt;13 -->\n",
       "<g id=\"edge13\" class=\"edge\">\n",
       "<title>12&#45;&gt;13</title>\n",
       "<path fill=\"none\" stroke=\"black\" d=\"M130,-306.09C130,-299.75 130,-289.75 130,-281.03\"/>\n",
       "<polygon fill=\"black\" stroke=\"black\" points=\"133.5,-281.27 130,-271.27 126.5,-281.27 133.5,-281.27\"/>\n",
       "</g>\n",
       "<!-- 14 -->\n",
       "<g id=\"node15\" class=\"node\">\n",
       "<title>14</title>\n",
       "<text text-anchor=\"middle\" x=\"80\" y=\"-207.8\" font-family=\"Times,serif\" font-size=\"14.00\">&lt;factor&gt;</text>\n",
       "</g>\n",
       "<!-- 13&#45;&gt;14 -->\n",
       "<g id=\"edge14\" class=\"edge\">\n",
       "<title>13&#45;&gt;14</title>\n",
       "<path fill=\"none\" stroke=\"black\" d=\"M123.46,-255.09C116.16,-247.94 104.11,-236.13 94.55,-226.76\"/>\n",
       "<polygon fill=\"black\" stroke=\"black\" points=\"97.05,-224.31 87.46,-219.81 92.15,-229.31 97.05,-224.31\"/>\n",
       "</g>\n",
       "<!-- 18 -->\n",
       "<g id=\"node19\" class=\"node\">\n",
       "<title>18</title>\n",
       "<text text-anchor=\"middle\" x=\"130\" y=\"-207.8\" font-family=\"Times,serif\" font-size=\"14.00\"> * </text>\n",
       "</g>\n",
       "<!-- 13&#45;&gt;18 -->\n",
       "<g id=\"edge18\" class=\"edge\">\n",
       "<title>13&#45;&gt;18</title>\n",
       "<path fill=\"none\" stroke=\"black\" d=\"M130,-255.09C130,-248.75 130,-238.75 130,-230.03\"/>\n",
       "<polygon fill=\"black\" stroke=\"black\" points=\"133.5,-230.27 130,-220.27 126.5,-230.27 133.5,-230.27\"/>\n",
       "</g>\n",
       "<!-- 19 -->\n",
       "<g id=\"node20\" class=\"node\">\n",
       "<title>19</title>\n",
       "<text text-anchor=\"middle\" x=\"177\" y=\"-207.8\" font-family=\"Times,serif\" font-size=\"14.00\">&lt;term&gt;</text>\n",
       "</g>\n",
       "<!-- 13&#45;&gt;19 -->\n",
       "<g id=\"edge19\" class=\"edge\">\n",
       "<title>13&#45;&gt;19</title>\n",
       "<path fill=\"none\" stroke=\"black\" d=\"M136.14,-255.09C142.94,-248.01 154.1,-236.37 163.04,-227.05\"/>\n",
       "<polygon fill=\"black\" stroke=\"black\" points=\"165.56,-229.48 169.95,-219.84 160.51,-224.64 165.56,-229.48\"/>\n",
       "</g>\n",
       "<!-- 15 -->\n",
       "<g id=\"node16\" class=\"node\">\n",
       "<title>15</title>\n",
       "<text text-anchor=\"middle\" x=\"80\" y=\"-156.8\" font-family=\"Times,serif\" font-size=\"14.00\">&lt;integer&gt;</text>\n",
       "</g>\n",
       "<!-- 14&#45;&gt;15 -->\n",
       "<g id=\"edge15\" class=\"edge\">\n",
       "<title>14&#45;&gt;15</title>\n",
       "<path fill=\"none\" stroke=\"black\" d=\"M80,-204.09C80,-197.75 80,-187.75 80,-179.03\"/>\n",
       "<polygon fill=\"black\" stroke=\"black\" points=\"83.5,-179.27 80,-169.27 76.5,-179.27 83.5,-179.27\"/>\n",
       "</g>\n",
       "<!-- 16 -->\n",
       "<g id=\"node17\" class=\"node\">\n",
       "<title>16</title>\n",
       "<text text-anchor=\"middle\" x=\"80\" y=\"-105.8\" font-family=\"Times,serif\" font-size=\"14.00\">&lt;digit&gt;</text>\n",
       "</g>\n",
       "<!-- 15&#45;&gt;16 -->\n",
       "<g id=\"edge16\" class=\"edge\">\n",
       "<title>15&#45;&gt;16</title>\n",
       "<path fill=\"none\" stroke=\"black\" d=\"M80,-153.09C80,-146.75 80,-136.75 80,-128.03\"/>\n",
       "<polygon fill=\"black\" stroke=\"black\" points=\"83.5,-128.27 80,-118.27 76.5,-128.27 83.5,-128.27\"/>\n",
       "</g>\n",
       "<!-- 17 -->\n",
       "<g id=\"node18\" class=\"node\">\n",
       "<title>17</title>\n",
       "<text text-anchor=\"middle\" x=\"80\" y=\"-54.8\" font-family=\"Times,serif\" font-size=\"14.00\">2 (50)</text>\n",
       "</g>\n",
       "<!-- 16&#45;&gt;17 -->\n",
       "<g id=\"edge17\" class=\"edge\">\n",
       "<title>16&#45;&gt;17</title>\n",
       "<path fill=\"none\" stroke=\"black\" d=\"M80,-102.09C80,-95.75 80,-85.75 80,-77.03\"/>\n",
       "<polygon fill=\"black\" stroke=\"black\" points=\"83.5,-77.27 80,-67.27 76.5,-77.27 83.5,-77.27\"/>\n",
       "</g>\n",
       "<!-- 20 -->\n",
       "<g id=\"node21\" class=\"node\">\n",
       "<title>20</title>\n",
       "<text text-anchor=\"middle\" x=\"177\" y=\"-156.8\" font-family=\"Times,serif\" font-size=\"14.00\">&lt;factor&gt;</text>\n",
       "</g>\n",
       "<!-- 19&#45;&gt;20 -->\n",
       "<g id=\"edge20\" class=\"edge\">\n",
       "<title>19&#45;&gt;20</title>\n",
       "<path fill=\"none\" stroke=\"black\" d=\"M177,-204.09C177,-197.75 177,-187.75 177,-179.03\"/>\n",
       "<polygon fill=\"black\" stroke=\"black\" points=\"180.5,-179.27 177,-169.27 173.5,-179.27 180.5,-179.27\"/>\n",
       "</g>\n",
       "<!-- 21 -->\n",
       "<g id=\"node22\" class=\"node\">\n",
       "<title>21</title>\n",
       "<text text-anchor=\"middle\" x=\"177\" y=\"-105.8\" font-family=\"Times,serif\" font-size=\"14.00\">&lt;integer&gt;</text>\n",
       "</g>\n",
       "<!-- 20&#45;&gt;21 -->\n",
       "<g id=\"edge21\" class=\"edge\">\n",
       "<title>20&#45;&gt;21</title>\n",
       "<path fill=\"none\" stroke=\"black\" d=\"M177,-153.09C177,-146.75 177,-136.75 177,-128.03\"/>\n",
       "<polygon fill=\"black\" stroke=\"black\" points=\"180.5,-128.27 177,-118.27 173.5,-128.27 180.5,-128.27\"/>\n",
       "</g>\n",
       "<!-- 22 -->\n",
       "<g id=\"node23\" class=\"node\">\n",
       "<title>22</title>\n",
       "<text text-anchor=\"middle\" x=\"177\" y=\"-54.8\" font-family=\"Times,serif\" font-size=\"14.00\">&lt;digit&gt;</text>\n",
       "</g>\n",
       "<!-- 21&#45;&gt;22 -->\n",
       "<g id=\"edge22\" class=\"edge\">\n",
       "<title>21&#45;&gt;22</title>\n",
       "<path fill=\"none\" stroke=\"black\" d=\"M177,-102.09C177,-95.75 177,-85.75 177,-77.03\"/>\n",
       "<polygon fill=\"black\" stroke=\"black\" points=\"180.5,-77.27 177,-67.27 173.5,-77.27 180.5,-77.27\"/>\n",
       "</g>\n",
       "<!-- 23 -->\n",
       "<g id=\"node24\" class=\"node\">\n",
       "<title>23</title>\n",
       "<text text-anchor=\"middle\" x=\"177\" y=\"-3.8\" font-family=\"Times,serif\" font-size=\"14.00\">3 (51)</text>\n",
       "</g>\n",
       "<!-- 22&#45;&gt;23 -->\n",
       "<g id=\"edge23\" class=\"edge\">\n",
       "<title>22&#45;&gt;23</title>\n",
       "<path fill=\"none\" stroke=\"black\" d=\"M177,-51.09C177,-44.75 177,-34.75 177,-26.03\"/>\n",
       "<polygon fill=\"black\" stroke=\"black\" points=\"180.5,-26.27 177,-16.27 173.5,-26.27 180.5,-26.27\"/>\n",
       "</g>\n",
       "</g>\n",
       "</svg>\n"
      ],
      "text/plain": [
       "<graphviz.graphs.Digraph at 0x1074f67a0>"
      ]
     },
     "metadata": {},
     "output_type": "display_data"
    }
   ],
   "source": [
    "mystring = \"1 + (2 * 3)\"\n",
    "peg = PEGParser(EXPR_GRAMMAR)\n",
    "for tree in peg.parse(mystring):\n",
    "    assert tree_to_string(tree) == mystring\n",
    "    display(display_tree(tree))"
   ]
  },
  {
   "cell_type": "code",
   "execution_count": 82,
   "metadata": {
    "execution": {
     "iopub.execute_input": "2023-01-07T14:16:18.286096Z",
     "iopub.status.busy": "2023-01-07T14:16:18.285761Z",
     "iopub.status.idle": "2023-01-07T14:16:18.527082Z",
     "shell.execute_reply": "2023-01-07T14:16:18.527395Z"
    },
    "slideshow": {
     "slide_type": "subslide"
    }
   },
   "outputs": [
    {
     "data": {
      "image/svg+xml": [
       "<?xml version=\"1.0\" encoding=\"UTF-8\" standalone=\"no\"?>\n",
       "<!DOCTYPE svg PUBLIC \"-//W3C//DTD SVG 1.1//EN\"\n",
       " \"http://www.w3.org/Graphics/SVG/1.1/DTD/svg11.dtd\">\n",
       "<!-- Generated by graphviz version 7.0.2 (20221119.0110)\n",
       " -->\n",
       "<!-- Pages: 1 -->\n",
       "<svg width=\"316pt\" height=\"635pt\"\n",
       " viewBox=\"0.00 0.00 316.00 635.00\" xmlns=\"http://www.w3.org/2000/svg\" xmlns:xlink=\"http://www.w3.org/1999/xlink\">\n",
       "<g id=\"graph0\" class=\"graph\" transform=\"scale(1 1) rotate(0) translate(4 631)\">\n",
       "<polygon fill=\"white\" stroke=\"none\" points=\"-4,4 -4,-631 312,-631 312,4 -4,4\"/>\n",
       "<!-- 0 -->\n",
       "<g id=\"node1\" class=\"node\">\n",
       "<title>0</title>\n",
       "<text text-anchor=\"middle\" x=\"81.5\" y=\"-615.8\" font-family=\"Times,serif\" font-size=\"14.00\">&lt;start&gt;</text>\n",
       "</g>\n",
       "<!-- 1 -->\n",
       "<g id=\"node2\" class=\"node\">\n",
       "<title>1</title>\n",
       "<text text-anchor=\"middle\" x=\"81.5\" y=\"-564.8\" font-family=\"Times,serif\" font-size=\"14.00\">&lt;expr&gt;</text>\n",
       "</g>\n",
       "<!-- 0&#45;&gt;1 -->\n",
       "<g id=\"edge1\" class=\"edge\">\n",
       "<title>0&#45;&gt;1</title>\n",
       "<path fill=\"none\" stroke=\"black\" d=\"M81.5,-612.09C81.5,-605.75 81.5,-595.75 81.5,-587.03\"/>\n",
       "<polygon fill=\"black\" stroke=\"black\" points=\"85,-587.27 81.5,-577.27 78,-587.27 85,-587.27\"/>\n",
       "</g>\n",
       "<!-- 2 -->\n",
       "<g id=\"node3\" class=\"node\">\n",
       "<title>2</title>\n",
       "<text text-anchor=\"middle\" x=\"81.5\" y=\"-513.8\" font-family=\"Times,serif\" font-size=\"14.00\">&lt;term&gt;</text>\n",
       "</g>\n",
       "<!-- 1&#45;&gt;2 -->\n",
       "<g id=\"edge2\" class=\"edge\">\n",
       "<title>1&#45;&gt;2</title>\n",
       "<path fill=\"none\" stroke=\"black\" d=\"M81.5,-561.09C81.5,-554.75 81.5,-544.75 81.5,-536.03\"/>\n",
       "<polygon fill=\"black\" stroke=\"black\" points=\"85,-536.27 81.5,-526.27 78,-536.27 85,-536.27\"/>\n",
       "</g>\n",
       "<!-- 3 -->\n",
       "<g id=\"node4\" class=\"node\">\n",
       "<title>3</title>\n",
       "<text text-anchor=\"middle\" x=\"30.5\" y=\"-462.8\" font-family=\"Times,serif\" font-size=\"14.00\">&lt;factor&gt;</text>\n",
       "</g>\n",
       "<!-- 2&#45;&gt;3 -->\n",
       "<g id=\"edge3\" class=\"edge\">\n",
       "<title>2&#45;&gt;3</title>\n",
       "<path fill=\"none\" stroke=\"black\" d=\"M74.83,-510.09C67.31,-502.86 54.84,-490.89 45.04,-481.47\"/>\n",
       "<polygon fill=\"black\" stroke=\"black\" points=\"47.74,-479.21 38.1,-474.8 42.89,-484.25 47.74,-479.21\"/>\n",
       "</g>\n",
       "<!-- 7 -->\n",
       "<g id=\"node8\" class=\"node\">\n",
       "<title>7</title>\n",
       "<text text-anchor=\"middle\" x=\"81.5\" y=\"-462.8\" font-family=\"Times,serif\" font-size=\"14.00\"> * </text>\n",
       "</g>\n",
       "<!-- 2&#45;&gt;7 -->\n",
       "<g id=\"edge7\" class=\"edge\">\n",
       "<title>2&#45;&gt;7</title>\n",
       "<path fill=\"none\" stroke=\"black\" d=\"M81.5,-510.09C81.5,-503.75 81.5,-493.75 81.5,-485.03\"/>\n",
       "<polygon fill=\"black\" stroke=\"black\" points=\"85,-485.27 81.5,-475.27 78,-485.27 85,-485.27\"/>\n",
       "</g>\n",
       "<!-- 8 -->\n",
       "<g id=\"node9\" class=\"node\">\n",
       "<title>8</title>\n",
       "<text text-anchor=\"middle\" x=\"129.5\" y=\"-462.8\" font-family=\"Times,serif\" font-size=\"14.00\">&lt;term&gt;</text>\n",
       "</g>\n",
       "<!-- 2&#45;&gt;8 -->\n",
       "<g id=\"edge8\" class=\"edge\">\n",
       "<title>2&#45;&gt;8</title>\n",
       "<path fill=\"none\" stroke=\"black\" d=\"M87.78,-510.09C94.78,-502.94 106.35,-491.13 115.53,-481.76\"/>\n",
       "<polygon fill=\"black\" stroke=\"black\" points=\"117.82,-484.43 122.32,-474.83 112.82,-479.53 117.82,-484.43\"/>\n",
       "</g>\n",
       "<!-- 4 -->\n",
       "<g id=\"node5\" class=\"node\">\n",
       "<title>4</title>\n",
       "<text text-anchor=\"middle\" x=\"27.5\" y=\"-411.8\" font-family=\"Times,serif\" font-size=\"14.00\">&lt;integer&gt;</text>\n",
       "</g>\n",
       "<!-- 3&#45;&gt;4 -->\n",
       "<g id=\"edge4\" class=\"edge\">\n",
       "<title>3&#45;&gt;4</title>\n",
       "<path fill=\"none\" stroke=\"black\" d=\"M30.11,-459.09C29.72,-452.75 29.11,-442.75 28.57,-434.03\"/>\n",
       "<polygon fill=\"black\" stroke=\"black\" points=\"32.08,-434.03 27.98,-424.26 25.09,-434.46 32.08,-434.03\"/>\n",
       "</g>\n",
       "<!-- 5 -->\n",
       "<g id=\"node6\" class=\"node\">\n",
       "<title>5</title>\n",
       "<text text-anchor=\"middle\" x=\"21.5\" y=\"-360.8\" font-family=\"Times,serif\" font-size=\"14.00\">&lt;digit&gt;</text>\n",
       "</g>\n",
       "<!-- 4&#45;&gt;5 -->\n",
       "<g id=\"edge5\" class=\"edge\">\n",
       "<title>4&#45;&gt;5</title>\n",
       "<path fill=\"none\" stroke=\"black\" d=\"M26.72,-408.09C25.94,-401.75 24.71,-391.75 23.65,-383.03\"/>\n",
       "<polygon fill=\"black\" stroke=\"black\" points=\"27.14,-382.76 22.45,-373.25 20.19,-383.61 27.14,-382.76\"/>\n",
       "</g>\n",
       "<!-- 6 -->\n",
       "<g id=\"node7\" class=\"node\">\n",
       "<title>6</title>\n",
       "<text text-anchor=\"middle\" x=\"21.5\" y=\"-309.8\" font-family=\"Times,serif\" font-size=\"14.00\">1 (49)</text>\n",
       "</g>\n",
       "<!-- 5&#45;&gt;6 -->\n",
       "<g id=\"edge6\" class=\"edge\">\n",
       "<title>5&#45;&gt;6</title>\n",
       "<path fill=\"none\" stroke=\"black\" d=\"M21.5,-357.09C21.5,-350.75 21.5,-340.75 21.5,-332.03\"/>\n",
       "<polygon fill=\"black\" stroke=\"black\" points=\"25,-332.27 21.5,-322.27 18,-332.27 25,-332.27\"/>\n",
       "</g>\n",
       "<!-- 9 -->\n",
       "<g id=\"node10\" class=\"node\">\n",
       "<title>9</title>\n",
       "<text text-anchor=\"middle\" x=\"129.5\" y=\"-411.8\" font-family=\"Times,serif\" font-size=\"14.00\">&lt;factor&gt;</text>\n",
       "</g>\n",
       "<!-- 8&#45;&gt;9 -->\n",
       "<g id=\"edge9\" class=\"edge\">\n",
       "<title>8&#45;&gt;9</title>\n",
       "<path fill=\"none\" stroke=\"black\" d=\"M129.5,-459.09C129.5,-452.75 129.5,-442.75 129.5,-434.03\"/>\n",
       "<polygon fill=\"black\" stroke=\"black\" points=\"133,-434.27 129.5,-424.27 126,-434.27 133,-434.27\"/>\n",
       "</g>\n",
       "<!-- 10 -->\n",
       "<g id=\"node11\" class=\"node\">\n",
       "<title>10</title>\n",
       "<text text-anchor=\"middle\" x=\"76.5\" y=\"-360.8\" font-family=\"Times,serif\" font-size=\"14.00\">( (40)</text>\n",
       "</g>\n",
       "<!-- 9&#45;&gt;10 -->\n",
       "<g id=\"edge10\" class=\"edge\">\n",
       "<title>9&#45;&gt;10</title>\n",
       "<path fill=\"none\" stroke=\"black\" d=\"M122.57,-408.09C114.75,-400.86 101.79,-388.89 91.61,-379.47\"/>\n",
       "<polygon fill=\"black\" stroke=\"black\" points=\"94.09,-377 84.37,-372.78 89.34,-382.14 94.09,-377\"/>\n",
       "</g>\n",
       "<!-- 11 -->\n",
       "<g id=\"node12\" class=\"node\">\n",
       "<title>11</title>\n",
       "<text text-anchor=\"middle\" x=\"130.5\" y=\"-360.8\" font-family=\"Times,serif\" font-size=\"14.00\">&lt;expr&gt;</text>\n",
       "</g>\n",
       "<!-- 9&#45;&gt;11 -->\n",
       "<g id=\"edge11\" class=\"edge\">\n",
       "<title>9&#45;&gt;11</title>\n",
       "<path fill=\"none\" stroke=\"black\" d=\"M129.63,-408.09C129.76,-401.75 129.96,-391.75 130.14,-383.03\"/>\n",
       "<polygon fill=\"black\" stroke=\"black\" points=\"133.64,-383.34 130.34,-373.27 126.64,-383.19 133.64,-383.34\"/>\n",
       "</g>\n",
       "<!-- 31 -->\n",
       "<g id=\"node32\" class=\"node\">\n",
       "<title>31</title>\n",
       "<text text-anchor=\"middle\" x=\"184.5\" y=\"-360.8\" font-family=\"Times,serif\" font-size=\"14.00\">) (41)</text>\n",
       "</g>\n",
       "<!-- 9&#45;&gt;31 -->\n",
       "<g id=\"edge31\" class=\"edge\">\n",
       "<title>9&#45;&gt;31</title>\n",
       "<path fill=\"none\" stroke=\"black\" d=\"M136.69,-408.09C144.89,-400.79 158.53,-388.64 169.14,-379.18\"/>\n",
       "<polygon fill=\"black\" stroke=\"black\" points=\"171.21,-382.02 176.35,-372.76 166.56,-376.8 171.21,-382.02\"/>\n",
       "</g>\n",
       "<!-- 12 -->\n",
       "<g id=\"node13\" class=\"node\">\n",
       "<title>12</title>\n",
       "<text text-anchor=\"middle\" x=\"80.5\" y=\"-309.8\" font-family=\"Times,serif\" font-size=\"14.00\">&lt;term&gt;</text>\n",
       "</g>\n",
       "<!-- 11&#45;&gt;12 -->\n",
       "<g id=\"edge12\" class=\"edge\">\n",
       "<title>11&#45;&gt;12</title>\n",
       "<path fill=\"none\" stroke=\"black\" d=\"M123.96,-357.09C116.66,-349.94 104.61,-338.13 95.05,-328.76\"/>\n",
       "<polygon fill=\"black\" stroke=\"black\" points=\"97.55,-326.31 87.96,-321.81 92.65,-331.31 97.55,-326.31\"/>\n",
       "</g>\n",
       "<!-- 17 -->\n",
       "<g id=\"node18\" class=\"node\">\n",
       "<title>17</title>\n",
       "<text text-anchor=\"middle\" x=\"130.5\" y=\"-309.8\" font-family=\"Times,serif\" font-size=\"14.00\"> + </text>\n",
       "</g>\n",
       "<!-- 11&#45;&gt;17 -->\n",
       "<g id=\"edge17\" class=\"edge\">\n",
       "<title>11&#45;&gt;17</title>\n",
       "<path fill=\"none\" stroke=\"black\" d=\"M130.5,-357.09C130.5,-350.75 130.5,-340.75 130.5,-332.03\"/>\n",
       "<polygon fill=\"black\" stroke=\"black\" points=\"134,-332.27 130.5,-322.27 127,-332.27 134,-332.27\"/>\n",
       "</g>\n",
       "<!-- 18 -->\n",
       "<g id=\"node19\" class=\"node\">\n",
       "<title>18</title>\n",
       "<text text-anchor=\"middle\" x=\"178.5\" y=\"-309.8\" font-family=\"Times,serif\" font-size=\"14.00\">&lt;expr&gt;</text>\n",
       "</g>\n",
       "<!-- 11&#45;&gt;18 -->\n",
       "<g id=\"edge18\" class=\"edge\">\n",
       "<title>11&#45;&gt;18</title>\n",
       "<path fill=\"none\" stroke=\"black\" d=\"M136.78,-357.09C143.78,-349.94 155.35,-338.13 164.53,-328.76\"/>\n",
       "<polygon fill=\"black\" stroke=\"black\" points=\"166.82,-331.43 171.32,-321.83 161.82,-326.53 166.82,-331.43\"/>\n",
       "</g>\n",
       "<!-- 13 -->\n",
       "<g id=\"node14\" class=\"node\">\n",
       "<title>13</title>\n",
       "<text text-anchor=\"middle\" x=\"79.5\" y=\"-258.8\" font-family=\"Times,serif\" font-size=\"14.00\">&lt;factor&gt;</text>\n",
       "</g>\n",
       "<!-- 12&#45;&gt;13 -->\n",
       "<g id=\"edge13\" class=\"edge\">\n",
       "<title>12&#45;&gt;13</title>\n",
       "<path fill=\"none\" stroke=\"black\" d=\"M80.37,-306.09C80.24,-299.75 80.04,-289.75 79.86,-281.03\"/>\n",
       "<polygon fill=\"black\" stroke=\"black\" points=\"83.36,-281.19 79.66,-271.27 76.36,-281.34 83.36,-281.19\"/>\n",
       "</g>\n",
       "<!-- 14 -->\n",
       "<g id=\"node15\" class=\"node\">\n",
       "<title>14</title>\n",
       "<text text-anchor=\"middle\" x=\"71.5\" y=\"-207.8\" font-family=\"Times,serif\" font-size=\"14.00\">&lt;integer&gt;</text>\n",
       "</g>\n",
       "<!-- 13&#45;&gt;14 -->\n",
       "<g id=\"edge14\" class=\"edge\">\n",
       "<title>13&#45;&gt;14</title>\n",
       "<path fill=\"none\" stroke=\"black\" d=\"M78.45,-255.09C77.42,-248.75 75.79,-238.75 74.36,-230.03\"/>\n",
       "<polygon fill=\"black\" stroke=\"black\" points=\"77.83,-229.55 72.76,-220.25 70.92,-230.68 77.83,-229.55\"/>\n",
       "</g>\n",
       "<!-- 15 -->\n",
       "<g id=\"node16\" class=\"node\">\n",
       "<title>15</title>\n",
       "<text text-anchor=\"middle\" x=\"55.5\" y=\"-156.8\" font-family=\"Times,serif\" font-size=\"14.00\">&lt;digit&gt;</text>\n",
       "</g>\n",
       "<!-- 14&#45;&gt;15 -->\n",
       "<g id=\"edge15\" class=\"edge\">\n",
       "<title>14&#45;&gt;15</title>\n",
       "<path fill=\"none\" stroke=\"black\" d=\"M69.41,-204.09C67.29,-197.6 63.92,-187.28 61.03,-178.42\"/>\n",
       "<polygon fill=\"black\" stroke=\"black\" points=\"64.44,-177.61 58.01,-169.19 57.79,-179.78 64.44,-177.61\"/>\n",
       "</g>\n",
       "<!-- 16 -->\n",
       "<g id=\"node17\" class=\"node\">\n",
       "<title>16</title>\n",
       "<text text-anchor=\"middle\" x=\"55.5\" y=\"-105.8\" font-family=\"Times,serif\" font-size=\"14.00\">2 (50)</text>\n",
       "</g>\n",
       "<!-- 15&#45;&gt;16 -->\n",
       "<g id=\"edge16\" class=\"edge\">\n",
       "<title>15&#45;&gt;16</title>\n",
       "<path fill=\"none\" stroke=\"black\" d=\"M55.5,-153.09C55.5,-146.75 55.5,-136.75 55.5,-128.03\"/>\n",
       "<polygon fill=\"black\" stroke=\"black\" points=\"59,-128.27 55.5,-118.27 52,-128.27 59,-128.27\"/>\n",
       "</g>\n",
       "<!-- 19 -->\n",
       "<g id=\"node20\" class=\"node\">\n",
       "<title>19</title>\n",
       "<text text-anchor=\"middle\" x=\"178.5\" y=\"-258.8\" font-family=\"Times,serif\" font-size=\"14.00\">&lt;term&gt;</text>\n",
       "</g>\n",
       "<!-- 18&#45;&gt;19 -->\n",
       "<g id=\"edge19\" class=\"edge\">\n",
       "<title>18&#45;&gt;19</title>\n",
       "<path fill=\"none\" stroke=\"black\" d=\"M178.5,-306.09C178.5,-299.75 178.5,-289.75 178.5,-281.03\"/>\n",
       "<polygon fill=\"black\" stroke=\"black\" points=\"182,-281.27 178.5,-271.27 175,-281.27 182,-281.27\"/>\n",
       "</g>\n",
       "<!-- 20 -->\n",
       "<g id=\"node21\" class=\"node\">\n",
       "<title>20</title>\n",
       "<text text-anchor=\"middle\" x=\"182.5\" y=\"-207.8\" font-family=\"Times,serif\" font-size=\"14.00\">&lt;factor&gt;</text>\n",
       "</g>\n",
       "<!-- 19&#45;&gt;20 -->\n",
       "<g id=\"edge20\" class=\"edge\">\n",
       "<title>19&#45;&gt;20</title>\n",
       "<path fill=\"none\" stroke=\"black\" d=\"M179.02,-255.09C179.54,-248.75 180.36,-238.75 181.07,-230.03\"/>\n",
       "<polygon fill=\"black\" stroke=\"black\" points=\"184.54,-230.51 181.87,-220.26 177.56,-229.94 184.54,-230.51\"/>\n",
       "</g>\n",
       "<!-- 21 -->\n",
       "<g id=\"node22\" class=\"node\">\n",
       "<title>21</title>\n",
       "<text text-anchor=\"middle\" x=\"122.5\" y=\"-156.8\" font-family=\"Times,serif\" font-size=\"14.00\">&lt;integer&gt;</text>\n",
       "</g>\n",
       "<!-- 20&#45;&gt;21 -->\n",
       "<g id=\"edge21\" class=\"edge\">\n",
       "<title>20&#45;&gt;21</title>\n",
       "<path fill=\"none\" stroke=\"black\" d=\"M174.66,-204.09C165.62,-196.72 150.53,-184.39 138.9,-174.9\"/>\n",
       "<polygon fill=\"black\" stroke=\"black\" points=\"141.29,-172.32 131.33,-168.71 136.86,-177.75 141.29,-172.32\"/>\n",
       "</g>\n",
       "<!-- 24 -->\n",
       "<g id=\"node25\" class=\"node\">\n",
       "<title>24</title>\n",
       "<text text-anchor=\"middle\" x=\"183.5\" y=\"-156.8\" font-family=\"Times,serif\" font-size=\"14.00\">. (46)</text>\n",
       "</g>\n",
       "<!-- 20&#45;&gt;24 -->\n",
       "<g id=\"edge24\" class=\"edge\">\n",
       "<title>20&#45;&gt;24</title>\n",
       "<path fill=\"none\" stroke=\"black\" d=\"M182.63,-204.09C182.76,-197.75 182.96,-187.75 183.14,-179.03\"/>\n",
       "<polygon fill=\"black\" stroke=\"black\" points=\"186.64,-179.34 183.34,-169.27 179.64,-179.19 186.64,-179.34\"/>\n",
       "</g>\n",
       "<!-- 25 -->\n",
       "<g id=\"node26\" class=\"node\">\n",
       "<title>25</title>\n",
       "<text text-anchor=\"middle\" x=\"244.5\" y=\"-156.8\" font-family=\"Times,serif\" font-size=\"14.00\">&lt;integer&gt;</text>\n",
       "</g>\n",
       "<!-- 20&#45;&gt;25 -->\n",
       "<g id=\"edge25\" class=\"edge\">\n",
       "<title>20&#45;&gt;25</title>\n",
       "<path fill=\"none\" stroke=\"black\" d=\"M190.61,-204.09C200.03,-196.64 215.84,-184.15 227.91,-174.61\"/>\n",
       "<polygon fill=\"black\" stroke=\"black\" points=\"229.73,-177.64 235.4,-168.69 225.39,-172.15 229.73,-177.64\"/>\n",
       "</g>\n",
       "<!-- 22 -->\n",
       "<g id=\"node23\" class=\"node\">\n",
       "<title>22</title>\n",
       "<text text-anchor=\"middle\" x=\"122.5\" y=\"-105.8\" font-family=\"Times,serif\" font-size=\"14.00\">&lt;digit&gt;</text>\n",
       "</g>\n",
       "<!-- 21&#45;&gt;22 -->\n",
       "<g id=\"edge22\" class=\"edge\">\n",
       "<title>21&#45;&gt;22</title>\n",
       "<path fill=\"none\" stroke=\"black\" d=\"M122.5,-153.09C122.5,-146.75 122.5,-136.75 122.5,-128.03\"/>\n",
       "<polygon fill=\"black\" stroke=\"black\" points=\"126,-128.27 122.5,-118.27 119,-128.27 126,-128.27\"/>\n",
       "</g>\n",
       "<!-- 23 -->\n",
       "<g id=\"node24\" class=\"node\">\n",
       "<title>23</title>\n",
       "<text text-anchor=\"middle\" x=\"122.5\" y=\"-54.8\" font-family=\"Times,serif\" font-size=\"14.00\">3 (51)</text>\n",
       "</g>\n",
       "<!-- 22&#45;&gt;23 -->\n",
       "<g id=\"edge23\" class=\"edge\">\n",
       "<title>22&#45;&gt;23</title>\n",
       "<path fill=\"none\" stroke=\"black\" d=\"M122.5,-102.09C122.5,-95.75 122.5,-85.75 122.5,-77.03\"/>\n",
       "<polygon fill=\"black\" stroke=\"black\" points=\"126,-77.27 122.5,-67.27 119,-77.27 126,-77.27\"/>\n",
       "</g>\n",
       "<!-- 26 -->\n",
       "<g id=\"node27\" class=\"node\">\n",
       "<title>26</title>\n",
       "<text text-anchor=\"middle\" x=\"213.5\" y=\"-105.8\" font-family=\"Times,serif\" font-size=\"14.00\">&lt;digit&gt;</text>\n",
       "</g>\n",
       "<!-- 25&#45;&gt;26 -->\n",
       "<g id=\"edge26\" class=\"edge\">\n",
       "<title>25&#45;&gt;26</title>\n",
       "<path fill=\"none\" stroke=\"black\" d=\"M240.45,-153.09C236.15,-146.31 229.21,-135.33 223.45,-126.23\"/>\n",
       "<polygon fill=\"black\" stroke=\"black\" points=\"226.57,-124.61 218.26,-118.03 220.65,-128.35 226.57,-124.61\"/>\n",
       "</g>\n",
       "<!-- 28 -->\n",
       "<g id=\"node29\" class=\"node\">\n",
       "<title>28</title>\n",
       "<text text-anchor=\"middle\" x=\"280.5\" y=\"-105.8\" font-family=\"Times,serif\" font-size=\"14.00\">&lt;integer&gt;</text>\n",
       "</g>\n",
       "<!-- 25&#45;&gt;28 -->\n",
       "<g id=\"edge28\" class=\"edge\">\n",
       "<title>25&#45;&gt;28</title>\n",
       "<path fill=\"none\" stroke=\"black\" d=\"M249.21,-153.09C254.25,-146.23 262.43,-135.1 269.16,-125.93\"/>\n",
       "<polygon fill=\"black\" stroke=\"black\" points=\"271.91,-128.1 275.01,-117.97 266.27,-123.96 271.91,-128.1\"/>\n",
       "</g>\n",
       "<!-- 27 -->\n",
       "<g id=\"node28\" class=\"node\">\n",
       "<title>27</title>\n",
       "<text text-anchor=\"middle\" x=\"213.5\" y=\"-54.8\" font-family=\"Times,serif\" font-size=\"14.00\">3 (51)</text>\n",
       "</g>\n",
       "<!-- 26&#45;&gt;27 -->\n",
       "<g id=\"edge27\" class=\"edge\">\n",
       "<title>26&#45;&gt;27</title>\n",
       "<path fill=\"none\" stroke=\"black\" d=\"M213.5,-102.09C213.5,-95.75 213.5,-85.75 213.5,-77.03\"/>\n",
       "<polygon fill=\"black\" stroke=\"black\" points=\"217,-77.27 213.5,-67.27 210,-77.27 217,-77.27\"/>\n",
       "</g>\n",
       "<!-- 29 -->\n",
       "<g id=\"node30\" class=\"node\">\n",
       "<title>29</title>\n",
       "<text text-anchor=\"middle\" x=\"280.5\" y=\"-54.8\" font-family=\"Times,serif\" font-size=\"14.00\">&lt;digit&gt;</text>\n",
       "</g>\n",
       "<!-- 28&#45;&gt;29 -->\n",
       "<g id=\"edge29\" class=\"edge\">\n",
       "<title>28&#45;&gt;29</title>\n",
       "<path fill=\"none\" stroke=\"black\" d=\"M280.5,-102.09C280.5,-95.75 280.5,-85.75 280.5,-77.03\"/>\n",
       "<polygon fill=\"black\" stroke=\"black\" points=\"284,-77.27 280.5,-67.27 277,-77.27 284,-77.27\"/>\n",
       "</g>\n",
       "<!-- 30 -->\n",
       "<g id=\"node31\" class=\"node\">\n",
       "<title>30</title>\n",
       "<text text-anchor=\"middle\" x=\"280.5\" y=\"-3.8\" font-family=\"Times,serif\" font-size=\"14.00\">5 (53)</text>\n",
       "</g>\n",
       "<!-- 29&#45;&gt;30 -->\n",
       "<g id=\"edge30\" class=\"edge\">\n",
       "<title>29&#45;&gt;30</title>\n",
       "<path fill=\"none\" stroke=\"black\" d=\"M280.5,-51.09C280.5,-44.75 280.5,-34.75 280.5,-26.03\"/>\n",
       "<polygon fill=\"black\" stroke=\"black\" points=\"284,-26.27 280.5,-16.27 277,-26.27 284,-26.27\"/>\n",
       "</g>\n",
       "</g>\n",
       "</svg>\n"
      ],
      "text/plain": [
       "<graphviz.graphs.Digraph at 0x1074f5960>"
      ]
     },
     "metadata": {},
     "output_type": "display_data"
    }
   ],
   "source": [
    "mystring = \"1 * (2 + 3.35)\"\n",
    "for tree in peg.parse(mystring):\n",
    "    assert tree_to_string(tree) == mystring\n",
    "    display(display_tree(tree))"
   ]
  },
  {
   "cell_type": "markdown",
   "metadata": {
    "slideshow": {
     "slide_type": "notes"
    }
   },
   "source": [
    "One should be aware that while the grammar looks like a *CFG*, the language described by a *PEG* may be different. Indeed, only *LL(1)* grammars are guaranteed to represent the same language for both PEGs and other parsers. Behavior of PEGs for other classes of grammars could be surprising \\cite{redziejowski2008}. "
   ]
  },
  {
   "cell_type": "markdown",
   "metadata": {
    "slideshow": {
     "slide_type": "slide"
    }
   },
   "source": [
    "## Parsing Context-Free Grammars"
   ]
  },
  {
   "cell_type": "markdown",
   "metadata": {
    "slideshow": {
     "slide_type": "slide"
    }
   },
   "source": [
    "###  Problems with PEG\n",
    "While _PEGs_ are simple at first sight, their behavior in some cases might be a bit unintuitive. For example, here is an example \\cite{redziejowski2008}:"
   ]
  },
  {
   "cell_type": "code",
   "execution_count": 83,
   "metadata": {
    "execution": {
     "iopub.execute_input": "2023-01-07T14:16:18.529765Z",
     "iopub.status.busy": "2023-01-07T14:16:18.529450Z",
     "iopub.status.idle": "2023-01-07T14:16:18.530571Z",
     "shell.execute_reply": "2023-01-07T14:16:18.530803Z"
    },
    "slideshow": {
     "slide_type": "subslide"
    }
   },
   "outputs": [],
   "source": [
    "PEG_SURPRISE: Grammar = {\n",
    "    \"<A>\": [\"a<A>a\", \"aa\"]\n",
    "}"
   ]
  },
  {
   "cell_type": "markdown",
   "metadata": {
    "slideshow": {
     "slide_type": "notes"
    }
   },
   "source": [
    "When interpreted as a *CFG* and used as a string generator, it will produce strings of the form `aa, aaaa, aaaaaa` that is, it produces strings where the number of `a` is $ 2*n $ where $ n > 0 $."
   ]
  },
  {
   "cell_type": "code",
   "execution_count": 84,
   "metadata": {
    "execution": {
     "iopub.execute_input": "2023-01-07T14:16:18.534080Z",
     "iopub.status.busy": "2023-01-07T14:16:18.533704Z",
     "iopub.status.idle": "2023-01-07T14:16:18.535291Z",
     "shell.execute_reply": "2023-01-07T14:16:18.535514Z"
    },
    "slideshow": {
     "slide_type": "subslide"
    }
   },
   "outputs": [
    {
     "data": {
      "text/plain": [
       "['aa', 'aaaa', 'aaaaaa', 'aaaaaaaa']"
      ]
     },
     "execution_count": 84,
     "metadata": {},
     "output_type": "execute_result"
    }
   ],
   "source": [
    "strings = []\n",
    "for nn in range(4):\n",
    "    f = GrammarFuzzer(PEG_SURPRISE, start_symbol='<A>')\n",
    "    tree = ('<A>', None)\n",
    "    for _ in range(nn):\n",
    "        tree = f.expand_tree_once(tree)\n",
    "    tree = f.expand_tree_with_strategy(tree, f.expand_node_min_cost)\n",
    "    strings.append(tree_to_string(tree))\n",
    "    display_tree(tree)\n",
    "strings"
   ]
  },
  {
   "cell_type": "markdown",
   "metadata": {
    "slideshow": {
     "slide_type": "subslide"
    }
   },
   "source": [
    "However, the _PEG_ parser can only recognize strings of the form $2^n$"
   ]
  },
  {
   "cell_type": "code",
   "execution_count": 85,
   "metadata": {
    "execution": {
     "iopub.execute_input": "2023-01-07T14:16:18.538140Z",
     "iopub.status.busy": "2023-01-07T14:16:18.537777Z",
     "iopub.status.idle": "2023-01-07T14:16:18.539543Z",
     "shell.execute_reply": "2023-01-07T14:16:18.539743Z"
    },
    "slideshow": {
     "slide_type": "subslide"
    }
   },
   "outputs": [
    {
     "name": "stdout",
     "output_type": "stream",
     "text": [
      "aa\n",
      "aaaa\n",
      "aaaaaaaa\n"
     ]
    },
    {
     "name": "stderr",
     "output_type": "stream",
     "text": [
      "Traceback (most recent call last):\n",
      "  File \"/var/folders/n2/xd9445p97rb3xh7m1dfx8_4h0006ts/T/ipykernel_79469/3226632005.py\", line 4, in <cell line: 2>\n",
      "    for tree in peg.parse(s):\n",
      "  File \"/var/folders/n2/xd9445p97rb3xh7m1dfx8_4h0006ts/T/ipykernel_79469/2022555909.py\", line 40, in parse\n",
      "    raise SyntaxError(\"at \" + repr(text[cursor:]))\n",
      "SyntaxError: at 'aa' (expected)\n"
     ]
    }
   ],
   "source": [
    "peg = PEGParser(PEG_SURPRISE, start_symbol='<A>')\n",
    "for s in strings:\n",
    "    with ExpectError():\n",
    "        for tree in peg.parse(s):\n",
    "            display_tree(tree)\n",
    "        print(s)"
   ]
  },
  {
   "cell_type": "markdown",
   "metadata": {
    "slideshow": {
     "slide_type": "notes"
    }
   },
   "source": [
    "This is not the only problem with _Parsing Expression Grammars_. While  *PEGs* are expressive and the *packrat* parser for parsing them is simple and intuitive, *PEGs* suffer from a major deficiency for our purposes. *PEGs* are oriented towards language recognition, and it is not clear how to translate an arbitrary *PEG* to a *CFG*. As we mentioned earlier, a naive re-interpretation of a *PEG* as a *CFG* does not work very well. Further, it is not clear what is the exact relation between the class of languages represented by *PEG* and the class of languages represented by *CFG*. Since our primary focus is *fuzzing* – that is _generation_ of strings – , we next look at _parsers that can accept context-free grammars_."
   ]
  },
  {
   "cell_type": "markdown",
   "metadata": {
    "slideshow": {
     "slide_type": "fragment"
    }
   },
   "source": [
    "The general idea of *CFG* parser is the following: Peek at the input text for the allowed number of characters, and use these, and our parser state to determine which rules can be applied to complete parsing. We next look at a typical *CFG* parsing algorithm, the Earley Parser."
   ]
  },
  {
   "cell_type": "markdown",
   "metadata": {
    "slideshow": {
     "slide_type": "slide"
    },
    "toc-hr-collapsed": false
   },
   "source": [
    "### The Earley Parser"
   ]
  },
  {
   "cell_type": "markdown",
   "metadata": {
    "slideshow": {
     "slide_type": "notes"
    }
   },
   "source": [
    "The Earley parser is a general parser that is able to parse any arbitrary *CFG*. It was invented by Jay Earley \\cite{Earley1970} for use in computational linguistics. While its computational complexity is $O(n^3)$ for parsing strings with arbitrary grammars, it can parse strings with unambiguous grammars in $O(n^2)$ time, and all *[LR(k)](https://en.wikipedia.org/wiki/LR_parser)* grammars in linear time ($O(n)$ \\cite{Leo1991}). Further improvements – notably handling epsilon rules – were invented by Aycock et al. \\cite{Aycock2002}."
   ]
  },
  {
   "cell_type": "markdown",
   "metadata": {
    "slideshow": {
     "slide_type": "notes"
    }
   },
   "source": [
    "Note that one restriction of our implementation is that the start symbol can have only one alternative in its alternative expressions. This is not a restriction in practice because any grammar with multiple alternatives for its start symbol can be extended with a new start symbol that has the original start symbol as its only choice. That is, given a grammar as below,\n",
    "\n",
    "```\n",
    "grammar = {\n",
    "    '<start>': ['<A>', '<B>'],\n",
    "    ...\n",
    "}\n",
    "```\n",
    "one may rewrite it as below to conform to the *single-alternative* rule.\n",
    "```\n",
    "grammar = {\n",
    "    '<start>': ['<start_>'],\n",
    "    '<start_>': ['<A>', '<B>'],\n",
    "    ...\n",
    "}\n",
    "```"
   ]
  },
  {
   "cell_type": "markdown",
   "metadata": {
    "slideshow": {
     "slide_type": "subslide"
    }
   },
   "source": [
    "Let us implement a class `EarleyParser`, again derived from `Parser` which implements an Earley parser."
   ]
  },
  {
   "cell_type": "markdown",
   "metadata": {
    "slideshow": {
     "slide_type": "subslide"
    }
   },
   "source": [
    "### Excursion: Implementing `EarleyParser`"
   ]
  },
  {
   "cell_type": "markdown",
   "metadata": {
    "slideshow": {
     "slide_type": "notes"
    }
   },
   "source": [
    "We first implement a simpler parser that is a parser for nearly all *CFGs*, but not quite. In particular, our parser does not understand _epsilon rules_ – rules that derive empty string. We show later how the parser can be extended to handle these."
   ]
  },
  {
   "cell_type": "markdown",
   "metadata": {
    "slideshow": {
     "slide_type": "fragment"
    }
   },
   "source": [
    "We use the following grammar in our examples below."
   ]
  },
  {
   "cell_type": "code",
   "execution_count": 86,
   "metadata": {
    "execution": {
     "iopub.execute_input": "2023-01-07T14:16:18.541917Z",
     "iopub.status.busy": "2023-01-07T14:16:18.541617Z",
     "iopub.status.idle": "2023-01-07T14:16:18.542888Z",
     "shell.execute_reply": "2023-01-07T14:16:18.543159Z"
    },
    "slideshow": {
     "slide_type": "fragment"
    }
   },
   "outputs": [],
   "source": [
    "SAMPLE_GRAMMAR: Grammar = {\n",
    "    '<start>': ['<A><B>'],\n",
    "    '<A>': ['a<B>c', 'a<A>'],\n",
    "    '<B>': ['b<C>', '<D>'],\n",
    "    '<C>': ['c'],\n",
    "    '<D>': ['d']\n",
    "}\n",
    "C_SAMPLE_GRAMMAR = canonical(SAMPLE_GRAMMAR)"
   ]
  },
  {
   "cell_type": "code",
   "execution_count": 87,
   "metadata": {
    "execution": {
     "iopub.execute_input": "2023-01-07T14:16:18.546368Z",
     "iopub.status.busy": "2023-01-07T14:16:18.546048Z",
     "iopub.status.idle": "2023-01-07T14:16:18.551702Z",
     "shell.execute_reply": "2023-01-07T14:16:18.551901Z"
    },
    "slideshow": {
     "slide_type": "subslide"
    }
   },
   "outputs": [
    {
     "name": "stdout",
     "output_type": "stream",
     "text": [
      "start\n"
     ]
    },
    {
     "data": {
      "image/svg+xml": [
       "<svg xmlns=\"http://www.w3.org/2000/svg\" class=\"railroad-diagram\" height=\"62\" viewBox=\"0 0 197.0 62\" width=\"197.0\">\n",
       "<g transform=\"translate(.5 .5)\">\n",
       "<style>/* <![CDATA[ */\n",
       "    svg.railroad-diagram {\n",
       "    }\n",
       "    svg.railroad-diagram path {\n",
       "        stroke-width:3;\n",
       "        stroke:black;\n",
       "        fill:white;\n",
       "    }\n",
       "    svg.railroad-diagram text {\n",
       "        font:14px \"Fira Mono\", monospace;\n",
       "        text-anchor:middle;\n",
       "    }\n",
       "    svg.railroad-diagram text.label{\n",
       "        text-anchor:start;\n",
       "    }\n",
       "    svg.railroad-diagram text.comment{\n",
       "        font:italic 12px \"Fira Mono\", monospace;\n",
       "    }\n",
       "    svg.railroad-diagram rect{\n",
       "        stroke-width:2;\n",
       "        stroke:black;\n",
       "        fill:mistyrose;\n",
       "    }\n",
       "\n",
       "/* ]]> */\n",
       "</style><g>\n",
       "<path d=\"M20 21v20m10 -20v20m-10 -10h20\"/></g><g>\n",
       "<path d=\"M40 31h0.0\"/><path d=\"M157.0 31h0.0\"/><path d=\"M40.0 31h20\"/><g>\n",
       "<path d=\"M60.0 31h0.0\"/><path d=\"M137.0 31h0.0\"/><g class=\"non-terminal\">\n",
       "<path d=\"M60.0 31h0.0\"/><path d=\"M88.5 31h0.0\"/><rect height=\"22\" width=\"28.5\" x=\"60.0\" y=\"20\"/><text x=\"74.25\" y=\"35\">A</text></g><path d=\"M88.5 31h10\"/><path d=\"M98.5 31h10\"/><g class=\"non-terminal\">\n",
       "<path d=\"M108.5 31h0.0\"/><path d=\"M137.0 31h0.0\"/><rect height=\"22\" width=\"28.5\" x=\"108.5\" y=\"20\"/><text x=\"122.75\" y=\"35\">B</text></g></g><path d=\"M137.0 31h20\"/></g><path d=\"M 157.0 31 h 20 m -10 -10 v 20 m 10 -20 v 20\"/></g></svg>"
      ],
      "text/plain": [
       "<IPython.core.display.SVG object>"
      ]
     },
     "metadata": {},
     "output_type": "display_data"
    },
    {
     "name": "stdout",
     "output_type": "stream",
     "text": [
      "A\n"
     ]
    },
    {
     "data": {
      "image/svg+xml": [
       "<svg xmlns=\"http://www.w3.org/2000/svg\" class=\"railroad-diagram\" height=\"92\" viewBox=\"0 0 245.5 92\" width=\"245.5\">\n",
       "<g transform=\"translate(.5 .5)\">\n",
       "<style>/* <![CDATA[ */\n",
       "    svg.railroad-diagram {\n",
       "    }\n",
       "    svg.railroad-diagram path {\n",
       "        stroke-width:3;\n",
       "        stroke:black;\n",
       "        fill:white;\n",
       "    }\n",
       "    svg.railroad-diagram text {\n",
       "        font:14px \"Fira Mono\", monospace;\n",
       "        text-anchor:middle;\n",
       "    }\n",
       "    svg.railroad-diagram text.label{\n",
       "        text-anchor:start;\n",
       "    }\n",
       "    svg.railroad-diagram text.comment{\n",
       "        font:italic 12px \"Fira Mono\", monospace;\n",
       "    }\n",
       "    svg.railroad-diagram rect{\n",
       "        stroke-width:2;\n",
       "        stroke:black;\n",
       "        fill:mistyrose;\n",
       "    }\n",
       "\n",
       "/* ]]> */\n",
       "</style><g>\n",
       "<path d=\"M20 51v20m10 -20v20m-10 -10h20\"/></g><g>\n",
       "<path d=\"M40 61h0.0\"/><path d=\"M205.5 61h0.0\"/><path d=\"M40.0 61a10 10 0 0 0 10 -10v-10a10 10 0 0 1 10 -10\"/><g>\n",
       "<path d=\"M60.0 31h0.0\"/><path d=\"M185.5 31h0.0\"/><g class=\"terminal\">\n",
       "<path d=\"M60.0 31h0.0\"/><path d=\"M88.5 31h0.0\"/><rect height=\"22\" rx=\"10\" ry=\"10\" width=\"28.5\" x=\"60.0\" y=\"20\"/><text x=\"74.25\" y=\"35\">a</text></g><path d=\"M88.5 31h10\"/><path d=\"M98.5 31h10\"/><g class=\"non-terminal\">\n",
       "<path d=\"M108.5 31h0.0\"/><path d=\"M137.0 31h0.0\"/><rect height=\"22\" width=\"28.5\" x=\"108.5\" y=\"20\"/><text x=\"122.75\" y=\"35\">B</text></g><path d=\"M137.0 31h10\"/><path d=\"M147.0 31h10\"/><g class=\"terminal\">\n",
       "<path d=\"M157.0 31h0.0\"/><path d=\"M185.5 31h0.0\"/><rect height=\"22\" rx=\"10\" ry=\"10\" width=\"28.5\" x=\"157.0\" y=\"20\"/><text x=\"171.25\" y=\"35\">c</text></g></g><path d=\"M185.5 31a10 10 0 0 1 10 10v10a10 10 0 0 0 10 10\"/><path d=\"M40.0 61h20\"/><g>\n",
       "<path d=\"M60.0 61h24.25\"/><path d=\"M161.25 61h24.25\"/><g class=\"terminal\">\n",
       "<path d=\"M84.25 61h0.0\"/><path d=\"M112.75 61h0.0\"/><rect height=\"22\" rx=\"10\" ry=\"10\" width=\"28.5\" x=\"84.25\" y=\"50\"/><text x=\"98.5\" y=\"65\">a</text></g><path d=\"M112.75 61h10\"/><path d=\"M122.75 61h10\"/><g class=\"non-terminal\">\n",
       "<path d=\"M132.75 61h0.0\"/><path d=\"M161.25 61h0.0\"/><rect height=\"22\" width=\"28.5\" x=\"132.75\" y=\"50\"/><text x=\"147.0\" y=\"65\">A</text></g></g><path d=\"M185.5 61h20\"/></g><path d=\"M 205.5 61 h 20 m -10 -10 v 20 m 10 -20 v 20\"/></g></svg>"
      ],
      "text/plain": [
       "<IPython.core.display.SVG object>"
      ]
     },
     "metadata": {},
     "output_type": "display_data"
    },
    {
     "name": "stdout",
     "output_type": "stream",
     "text": [
      "B\n"
     ]
    },
    {
     "data": {
      "image/svg+xml": [
       "<svg xmlns=\"http://www.w3.org/2000/svg\" class=\"railroad-diagram\" height=\"92\" viewBox=\"0 0 197.0 92\" width=\"197.0\">\n",
       "<g transform=\"translate(.5 .5)\">\n",
       "<style>/* <![CDATA[ */\n",
       "    svg.railroad-diagram {\n",
       "    }\n",
       "    svg.railroad-diagram path {\n",
       "        stroke-width:3;\n",
       "        stroke:black;\n",
       "        fill:white;\n",
       "    }\n",
       "    svg.railroad-diagram text {\n",
       "        font:14px \"Fira Mono\", monospace;\n",
       "        text-anchor:middle;\n",
       "    }\n",
       "    svg.railroad-diagram text.label{\n",
       "        text-anchor:start;\n",
       "    }\n",
       "    svg.railroad-diagram text.comment{\n",
       "        font:italic 12px \"Fira Mono\", monospace;\n",
       "    }\n",
       "    svg.railroad-diagram rect{\n",
       "        stroke-width:2;\n",
       "        stroke:black;\n",
       "        fill:mistyrose;\n",
       "    }\n",
       "\n",
       "/* ]]> */\n",
       "</style><g>\n",
       "<path d=\"M20 51v20m10 -20v20m-10 -10h20\"/></g><g>\n",
       "<path d=\"M40 61h0.0\"/><path d=\"M157.0 61h0.0\"/><path d=\"M40.0 61a10 10 0 0 0 10 -10v-10a10 10 0 0 1 10 -10\"/><g>\n",
       "<path d=\"M60.0 31h0.0\"/><path d=\"M137.0 31h0.0\"/><g class=\"terminal\">\n",
       "<path d=\"M60.0 31h0.0\"/><path d=\"M88.5 31h0.0\"/><rect height=\"22\" rx=\"10\" ry=\"10\" width=\"28.5\" x=\"60.0\" y=\"20\"/><text x=\"74.25\" y=\"35\">b</text></g><path d=\"M88.5 31h10\"/><path d=\"M98.5 31h10\"/><g class=\"non-terminal\">\n",
       "<path d=\"M108.5 31h0.0\"/><path d=\"M137.0 31h0.0\"/><rect height=\"22\" width=\"28.5\" x=\"108.5\" y=\"20\"/><text x=\"122.75\" y=\"35\">C</text></g></g><path d=\"M137.0 31a10 10 0 0 1 10 10v10a10 10 0 0 0 10 10\"/><path d=\"M40.0 61h20\"/><g>\n",
       "<path d=\"M60.0 61h24.25\"/><path d=\"M112.75 61h24.25\"/><g class=\"non-terminal\">\n",
       "<path d=\"M84.25 61h0.0\"/><path d=\"M112.75 61h0.0\"/><rect height=\"22\" width=\"28.5\" x=\"84.25\" y=\"50\"/><text x=\"98.5\" y=\"65\">D</text></g></g><path d=\"M137.0 61h20\"/></g><path d=\"M 157.0 61 h 20 m -10 -10 v 20 m 10 -20 v 20\"/></g></svg>"
      ],
      "text/plain": [
       "<IPython.core.display.SVG object>"
      ]
     },
     "metadata": {},
     "output_type": "display_data"
    },
    {
     "name": "stdout",
     "output_type": "stream",
     "text": [
      "C\n"
     ]
    },
    {
     "data": {
      "image/svg+xml": [
       "<svg xmlns=\"http://www.w3.org/2000/svg\" class=\"railroad-diagram\" height=\"62\" viewBox=\"0 0 148.5 62\" width=\"148.5\">\n",
       "<g transform=\"translate(.5 .5)\">\n",
       "<style>/* <![CDATA[ */\n",
       "    svg.railroad-diagram {\n",
       "    }\n",
       "    svg.railroad-diagram path {\n",
       "        stroke-width:3;\n",
       "        stroke:black;\n",
       "        fill:white;\n",
       "    }\n",
       "    svg.railroad-diagram text {\n",
       "        font:14px \"Fira Mono\", monospace;\n",
       "        text-anchor:middle;\n",
       "    }\n",
       "    svg.railroad-diagram text.label{\n",
       "        text-anchor:start;\n",
       "    }\n",
       "    svg.railroad-diagram text.comment{\n",
       "        font:italic 12px \"Fira Mono\", monospace;\n",
       "    }\n",
       "    svg.railroad-diagram rect{\n",
       "        stroke-width:2;\n",
       "        stroke:black;\n",
       "        fill:mistyrose;\n",
       "    }\n",
       "\n",
       "/* ]]> */\n",
       "</style><g>\n",
       "<path d=\"M20 21v20m10 -20v20m-10 -10h20\"/></g><g>\n",
       "<path d=\"M40 31h0.0\"/><path d=\"M108.5 31h0.0\"/><path d=\"M40.0 31h20\"/><g>\n",
       "<path d=\"M60.0 31h0.0\"/><path d=\"M88.5 31h0.0\"/><g class=\"terminal\">\n",
       "<path d=\"M60.0 31h0.0\"/><path d=\"M88.5 31h0.0\"/><rect height=\"22\" rx=\"10\" ry=\"10\" width=\"28.5\" x=\"60.0\" y=\"20\"/><text x=\"74.25\" y=\"35\">c</text></g></g><path d=\"M88.5 31h20\"/></g><path d=\"M 108.5 31 h 20 m -10 -10 v 20 m 10 -20 v 20\"/></g></svg>"
      ],
      "text/plain": [
       "<IPython.core.display.SVG object>"
      ]
     },
     "metadata": {},
     "output_type": "display_data"
    },
    {
     "name": "stdout",
     "output_type": "stream",
     "text": [
      "D\n"
     ]
    },
    {
     "data": {
      "image/svg+xml": [
       "<svg xmlns=\"http://www.w3.org/2000/svg\" class=\"railroad-diagram\" height=\"62\" viewBox=\"0 0 148.5 62\" width=\"148.5\">\n",
       "<g transform=\"translate(.5 .5)\">\n",
       "<style>/* <![CDATA[ */\n",
       "    svg.railroad-diagram {\n",
       "    }\n",
       "    svg.railroad-diagram path {\n",
       "        stroke-width:3;\n",
       "        stroke:black;\n",
       "        fill:white;\n",
       "    }\n",
       "    svg.railroad-diagram text {\n",
       "        font:14px \"Fira Mono\", monospace;\n",
       "        text-anchor:middle;\n",
       "    }\n",
       "    svg.railroad-diagram text.label{\n",
       "        text-anchor:start;\n",
       "    }\n",
       "    svg.railroad-diagram text.comment{\n",
       "        font:italic 12px \"Fira Mono\", monospace;\n",
       "    }\n",
       "    svg.railroad-diagram rect{\n",
       "        stroke-width:2;\n",
       "        stroke:black;\n",
       "        fill:mistyrose;\n",
       "    }\n",
       "\n",
       "/* ]]> */\n",
       "</style><g>\n",
       "<path d=\"M20 21v20m10 -20v20m-10 -10h20\"/></g><g>\n",
       "<path d=\"M40 31h0.0\"/><path d=\"M108.5 31h0.0\"/><path d=\"M40.0 31h20\"/><g>\n",
       "<path d=\"M60.0 31h0.0\"/><path d=\"M88.5 31h0.0\"/><g class=\"terminal\">\n",
       "<path d=\"M60.0 31h0.0\"/><path d=\"M88.5 31h0.0\"/><rect height=\"22\" rx=\"10\" ry=\"10\" width=\"28.5\" x=\"60.0\" y=\"20\"/><text x=\"74.25\" y=\"35\">d</text></g></g><path d=\"M88.5 31h20\"/></g><path d=\"M 108.5 31 h 20 m -10 -10 v 20 m 10 -20 v 20\"/></g></svg>"
      ],
      "text/plain": [
       "<IPython.core.display.SVG object>"
      ]
     },
     "metadata": {},
     "output_type": "display_data"
    }
   ],
   "source": [
    "syntax_diagram(SAMPLE_GRAMMAR)"
   ]
  },
  {
   "cell_type": "markdown",
   "metadata": {
    "slideshow": {
     "slide_type": "notes"
    }
   },
   "source": [
    "The basic idea of Earley parsing is the following:\n",
    "\n",
    "* Start with the alternative expressions corresponding to the START_SYMBOL. These represent the possible ways to parse the string from a high level. Essentially each expression represents a parsing path. Queue each expression in our set of possible parses of the string. The parsed index of an expression is the part of expression that has already been recognized. In the beginning of parse, the parsed index of all expressions is at the beginning. Further, each letter gets a queue of expressions that recognizes that letter at that point in our parse.\n",
    "* Examine our queue of possible parses and check if any of them start with a nonterminal. If it does, then that nonterminal needs to be recognized from the input before the given rule can be parsed. Hence, add the alternative expressions corresponding to the nonterminal to the queue. Do this recursively.\n",
    "* At this point, we are ready to advance. Examine the current letter in the input, and select all expressions that have that particular letter at the parsed index. These expressions can now advance one step. Advance these selected expressions by incrementing their parsed index and add them to the queue of expressions in line for recognizing the next input letter.\n",
    "* If while doing these things, we find that any of the expressions have finished parsing, we fetch its corresponding nonterminal, and advance all expressions that have that nonterminal at their parsed index.\n",
    "* Continue this procedure recursively until all expressions that we have queued for the current letter have been processed. Then start processing the queue for the next letter.\n",
    "\n",
    "We explain each step in detail with examples in the coming sections."
   ]
  },
  {
   "cell_type": "markdown",
   "metadata": {
    "slideshow": {
     "slide_type": "notes"
    }
   },
   "source": [
    "The parser uses dynamic programming to generate a table containing a _forest of possible parses_ at each letter index – the table contains as many columns as there are letters in the input, and each column contains different parsing rules at various stages of the parse.\n",
    "\n",
    "For example, given an input `adcd`, the Column 0 would contain the following:\n",
    "```\n",
    "<start> : ● <A> <B>\n",
    "```\n",
    "which is the starting rule that indicates that we are currently parsing the rule `<start>`, and the parsing state is just before identifying the symbol `<A>`. It would also contain the following which are two alternative paths it could take to complete the parsing.\n",
    "\n",
    "```\n",
    "<A> : ● a <B> c\n",
    "<A> : ● a <A>\n",
    "```"
   ]
  },
  {
   "cell_type": "markdown",
   "metadata": {
    "slideshow": {
     "slide_type": "notes"
    }
   },
   "source": [
    "Column 1 would contain the following, which represents the possible completion after reading `a`.\n",
    "```\n",
    "<A> : a ● <B> c\n",
    "<A> : a ● <A>\n",
    "<B> : ● b <C>\n",
    "<B> : ● <D>\n",
    "<A> : ● a <B> c\n",
    "<A> : ● a <A>\n",
    "<D> : ● d\n",
    "```"
   ]
  },
  {
   "cell_type": "markdown",
   "metadata": {
    "slideshow": {
     "slide_type": "notes"
    }
   },
   "source": [
    "Column 2 would contain the following after reading `d`\n",
    "```\n",
    "<D> : d ●\n",
    "<B> : <D> ●\n",
    "<A> : a <B> ● c\n",
    "```"
   ]
  },
  {
   "cell_type": "markdown",
   "metadata": {
    "slideshow": {
     "slide_type": "notes"
    }
   },
   "source": [
    "Similarly, Column 3 would contain the following after reading `c`\n",
    "```\n",
    "<A> : a <B> c ●\n",
    "<start> : <A> ● <B>\n",
    "<B> : ● b <C>\n",
    "<B> : ● <D>\n",
    "<D> : ● d\n",
    "```"
   ]
  },
  {
   "cell_type": "markdown",
   "metadata": {
    "slideshow": {
     "slide_type": "notes"
    }
   },
   "source": [
    "Finally, Column 4 would contain the following after reading `d`, with the `●` at the end of the `<start>` rule indicating that the parse was successful.\n",
    "```\n",
    "<D> : d ●\n",
    "<B> : <D> ●\n",
    "<start> : <A> <B> ●\n",
    "```"
   ]
  },
  {
   "cell_type": "markdown",
   "metadata": {
    "slideshow": {
     "slide_type": "notes"
    }
   },
   "source": [
    "As you can see from above, we are essentially filling a table (a table is also called a **chart**) of entries based on each letter we read, and the grammar rules that can be applied. This chart gives the parser its other name -- Chart parsing."
   ]
  },
  {
   "cell_type": "markdown",
   "metadata": {
    "slideshow": {
     "slide_type": "notes"
    }
   },
   "source": [
    "#### Columns\n",
    "\n",
    "We define the `Column` first. The `Column` is initialized by its own `index` in the input string, and the `letter` at that index. Internally, we also keep track of the states that are added to the column as the parsing progresses."
   ]
  },
  {
   "cell_type": "code",
   "execution_count": 88,
   "metadata": {
    "execution": {
     "iopub.execute_input": "2023-01-07T14:16:18.554721Z",
     "iopub.status.busy": "2023-01-07T14:16:18.554348Z",
     "iopub.status.idle": "2023-01-07T14:16:18.555617Z",
     "shell.execute_reply": "2023-01-07T14:16:18.555862Z"
    },
    "slideshow": {
     "slide_type": "subslide"
    }
   },
   "outputs": [],
   "source": [
    "class Column:\n",
    "    def __init__(self, index, letter):\n",
    "        self.index, self.letter = index, letter\n",
    "        self.states, self._unique = [], {}\n",
    "\n",
    "    def __str__(self):\n",
    "        return \"%s chart[%d]\\n%s\" % (self.letter, self.index, \"\\n\".join(\n",
    "            str(state) for state in self.states if state.finished()))"
   ]
  },
  {
   "cell_type": "markdown",
   "metadata": {
    "slideshow": {
     "slide_type": "notes"
    }
   },
   "source": [
    "The `Column` only stores unique `states`. Hence, when a new `state` is `added` to our `Column`, we check whether it is already known."
   ]
  },
  {
   "cell_type": "code",
   "execution_count": 89,
   "metadata": {
    "execution": {
     "iopub.execute_input": "2023-01-07T14:16:18.558042Z",
     "iopub.status.busy": "2023-01-07T14:16:18.557772Z",
     "iopub.status.idle": "2023-01-07T14:16:18.558813Z",
     "shell.execute_reply": "2023-01-07T14:16:18.559043Z"
    },
    "slideshow": {
     "slide_type": "subslide"
    }
   },
   "outputs": [],
   "source": [
    "class Column(Column):\n",
    "    def add(self, state):\n",
    "        if state in self._unique:\n",
    "            return self._unique[state]\n",
    "        self._unique[state] = state\n",
    "        self.states.append(state)\n",
    "        state.e_col = self\n",
    "        return self._unique[state]"
   ]
  },
  {
   "cell_type": "markdown",
   "metadata": {
    "slideshow": {
     "slide_type": "notes"
    }
   },
   "source": [
    "#### Items\n",
    "\n",
    "An item represents a _parse in progress for a specific rule._ Hence the item contains the name of the nonterminal, and the corresponding alternative expression (`expr`) which together form the rule, and the current position of parsing in this expression -- `dot`.\n",
    "\n",
    "\n",
    "**Note.** If you are familiar with [LR parsing](https://en.wikipedia.org/wiki/LR_parser), you will notice that an item is simply an `LR0` item."
   ]
  },
  {
   "cell_type": "code",
   "execution_count": 90,
   "metadata": {
    "execution": {
     "iopub.execute_input": "2023-01-07T14:16:18.560957Z",
     "iopub.status.busy": "2023-01-07T14:16:18.560661Z",
     "iopub.status.idle": "2023-01-07T14:16:18.561979Z",
     "shell.execute_reply": "2023-01-07T14:16:18.561742Z"
    },
    "slideshow": {
     "slide_type": "subslide"
    }
   },
   "outputs": [],
   "source": [
    "class Item:\n",
    "    def __init__(self, name, expr, dot):\n",
    "        self.name, self.expr, self.dot = name, expr, dot"
   ]
  },
  {
   "cell_type": "markdown",
   "metadata": {
    "slideshow": {
     "slide_type": "notes"
    }
   },
   "source": [
    "We also provide a few convenience methods. The method `finished()` checks if the `dot` has moved beyond the last element in `expr`. The method `advance()` produces a new `Item` with the `dot` advanced one token, and represents an advance of the parsing.  The method `at_dot()` returns the current symbol being parsed."
   ]
  },
  {
   "cell_type": "code",
   "execution_count": 91,
   "metadata": {
    "execution": {
     "iopub.execute_input": "2023-01-07T14:16:18.564091Z",
     "iopub.status.busy": "2023-01-07T14:16:18.563781Z",
     "iopub.status.idle": "2023-01-07T14:16:18.565196Z",
     "shell.execute_reply": "2023-01-07T14:16:18.565441Z"
    },
    "slideshow": {
     "slide_type": "subslide"
    }
   },
   "outputs": [],
   "source": [
    "class Item(Item):\n",
    "    def finished(self):\n",
    "        return self.dot >= len(self.expr)\n",
    "\n",
    "    def advance(self):\n",
    "        return Item(self.name, self.expr, self.dot + 1)\n",
    "\n",
    "    def at_dot(self):\n",
    "        return self.expr[self.dot] if self.dot < len(self.expr) else None"
   ]
  },
  {
   "cell_type": "markdown",
   "metadata": {
    "slideshow": {
     "slide_type": "fragment"
    }
   },
   "source": [
    "Here is how an item could be used. We first define our item"
   ]
  },
  {
   "cell_type": "code",
   "execution_count": 92,
   "metadata": {
    "execution": {
     "iopub.execute_input": "2023-01-07T14:16:18.567246Z",
     "iopub.status.busy": "2023-01-07T14:16:18.566928Z",
     "iopub.status.idle": "2023-01-07T14:16:18.568392Z",
     "shell.execute_reply": "2023-01-07T14:16:18.568568Z"
    },
    "slideshow": {
     "slide_type": "subslide"
    }
   },
   "outputs": [],
   "source": [
    "item_name = '<B>'\n",
    "item_expr = C_SAMPLE_GRAMMAR[item_name][1]\n",
    "an_item = Item(item_name, tuple(item_expr), 0)"
   ]
  },
  {
   "cell_type": "markdown",
   "metadata": {
    "slideshow": {
     "slide_type": "fragment"
    }
   },
   "source": [
    "To determine where the status of parsing, we use `at_dot()`"
   ]
  },
  {
   "cell_type": "code",
   "execution_count": 93,
   "metadata": {
    "execution": {
     "iopub.execute_input": "2023-01-07T14:16:18.571199Z",
     "iopub.status.busy": "2023-01-07T14:16:18.570841Z",
     "iopub.status.idle": "2023-01-07T14:16:18.572586Z",
     "shell.execute_reply": "2023-01-07T14:16:18.572780Z"
    },
    "slideshow": {
     "slide_type": "fragment"
    }
   },
   "outputs": [
    {
     "data": {
      "text/plain": [
       "'<D>'"
      ]
     },
     "execution_count": 93,
     "metadata": {},
     "output_type": "execute_result"
    }
   ],
   "source": [
    "an_item.at_dot()"
   ]
  },
  {
   "cell_type": "markdown",
   "metadata": {
    "slideshow": {
     "slide_type": "fragment"
    }
   },
   "source": [
    "That is, the next symbol to be parsed is `<D>`"
   ]
  },
  {
   "cell_type": "markdown",
   "metadata": {
    "slideshow": {
     "slide_type": "fragment"
    }
   },
   "source": [
    "If we advance the item, we get another item that represents the finished parsing rule `<B>`."
   ]
  },
  {
   "cell_type": "code",
   "execution_count": 94,
   "metadata": {
    "execution": {
     "iopub.execute_input": "2023-01-07T14:16:18.574638Z",
     "iopub.status.busy": "2023-01-07T14:16:18.574344Z",
     "iopub.status.idle": "2023-01-07T14:16:18.575514Z",
     "shell.execute_reply": "2023-01-07T14:16:18.575696Z"
    },
    "slideshow": {
     "slide_type": "fragment"
    }
   },
   "outputs": [],
   "source": [
    "another_item = an_item.advance()"
   ]
  },
  {
   "cell_type": "code",
   "execution_count": 95,
   "metadata": {
    "execution": {
     "iopub.execute_input": "2023-01-07T14:16:18.577447Z",
     "iopub.status.busy": "2023-01-07T14:16:18.577120Z",
     "iopub.status.idle": "2023-01-07T14:16:18.578654Z",
     "shell.execute_reply": "2023-01-07T14:16:18.578825Z"
    },
    "slideshow": {
     "slide_type": "fragment"
    }
   },
   "outputs": [
    {
     "data": {
      "text/plain": [
       "True"
      ]
     },
     "execution_count": 95,
     "metadata": {},
     "output_type": "execute_result"
    }
   ],
   "source": [
    "another_item.finished()"
   ]
  },
  {
   "cell_type": "markdown",
   "metadata": {
    "slideshow": {
     "slide_type": "notes"
    }
   },
   "source": [
    "#### States\n",
    "\n",
    "For `Earley` parsing, the state of the parsing is simply one `Item` along with some meta information such as the starting `s_col`  and ending column `e_col` for each state. Hence we inherit from `Item` to create a `State`.\n",
    "Since we are interested in comparing states, we define `hash()` and `eq()` with the corresponding methods."
   ]
  },
  {
   "cell_type": "code",
   "execution_count": 96,
   "metadata": {
    "execution": {
     "iopub.execute_input": "2023-01-07T14:16:18.582485Z",
     "iopub.status.busy": "2023-01-07T14:16:18.582137Z",
     "iopub.status.idle": "2023-01-07T14:16:18.583425Z",
     "shell.execute_reply": "2023-01-07T14:16:18.583656Z"
    },
    "slideshow": {
     "slide_type": "subslide"
    }
   },
   "outputs": [],
   "source": [
    "class State(Item):\n",
    "    def __init__(self, name, expr, dot, s_col, e_col=None):\n",
    "        super().__init__(name, expr, dot)\n",
    "        self.s_col, self.e_col = s_col, e_col\n",
    "\n",
    "    def __str__(self):\n",
    "        def idx(var):\n",
    "            return var.index if var else -1\n",
    "\n",
    "        return self.name + ':= ' + ' '.join([\n",
    "            str(p)\n",
    "            for p in [*self.expr[:self.dot], '|', *self.expr[self.dot:]]\n",
    "        ]) + \"(%d,%d)\" % (idx(self.s_col), idx(self.e_col))\n",
    "\n",
    "    def copy(self):\n",
    "        return State(self.name, self.expr, self.dot, self.s_col, self.e_col)\n",
    "\n",
    "    def _t(self):\n",
    "        return (self.name, self.expr, self.dot, self.s_col.index)\n",
    "\n",
    "    def __hash__(self):\n",
    "        return hash(self._t())\n",
    "\n",
    "    def __eq__(self, other):\n",
    "        return self._t() == other._t()\n",
    "\n",
    "    def advance(self):\n",
    "        return State(self.name, self.expr, self.dot + 1, self.s_col)"
   ]
  },
  {
   "cell_type": "markdown",
   "metadata": {
    "slideshow": {
     "slide_type": "subslide"
    }
   },
   "source": [
    "The usage of `State` is similar to that of `Item`. The only difference is that it is used along with the `Column` to track the parsing state. For example, we initialize the first column as follows:"
   ]
  },
  {
   "cell_type": "code",
   "execution_count": 97,
   "metadata": {
    "execution": {
     "iopub.execute_input": "2023-01-07T14:16:18.585920Z",
     "iopub.status.busy": "2023-01-07T14:16:18.585560Z",
     "iopub.status.idle": "2023-01-07T14:16:18.587450Z",
     "shell.execute_reply": "2023-01-07T14:16:18.587873Z"
    },
    "slideshow": {
     "slide_type": "fragment"
    }
   },
   "outputs": [
    {
     "data": {
      "text/plain": [
       "'<A>'"
      ]
     },
     "execution_count": 97,
     "metadata": {},
     "output_type": "execute_result"
    }
   ],
   "source": [
    "col_0 = Column(0, None)\n",
    "item_tuple = tuple(*C_SAMPLE_GRAMMAR[START_SYMBOL])\n",
    "start_state = State(START_SYMBOL, item_tuple, 0, col_0)\n",
    "col_0.add(start_state)\n",
    "start_state.at_dot()"
   ]
  },
  {
   "cell_type": "markdown",
   "metadata": {
    "slideshow": {
     "slide_type": "fragment"
    }
   },
   "source": [
    "The first column is then updated by using `add()` method of `Column`"
   ]
  },
  {
   "cell_type": "code",
   "execution_count": 98,
   "metadata": {
    "execution": {
     "iopub.execute_input": "2023-01-07T14:16:18.590182Z",
     "iopub.status.busy": "2023-01-07T14:16:18.589864Z",
     "iopub.status.idle": "2023-01-07T14:16:18.591182Z",
     "shell.execute_reply": "2023-01-07T14:16:18.591381Z"
    },
    "slideshow": {
     "slide_type": "subslide"
    }
   },
   "outputs": [
    {
     "name": "stdout",
     "output_type": "stream",
     "text": [
      "<start>:= | <A> <B>(0,0)\n",
      "<A>:= | a <B> c(0,0)\n",
      "<A>:= | a <A>(0,0)\n"
     ]
    }
   ],
   "source": [
    "sym = start_state.at_dot()\n",
    "for alt in C_SAMPLE_GRAMMAR[sym]:\n",
    "    col_0.add(State(sym, tuple(alt), 0, col_0))\n",
    "for s in col_0.states:\n",
    "    print(s)"
   ]
  },
  {
   "cell_type": "markdown",
   "metadata": {
    "slideshow": {
     "slide_type": "subslide"
    },
    "toc-hr-collapsed": false
   },
   "source": [
    "#### The Parsing Algorithm"
   ]
  },
  {
   "cell_type": "markdown",
   "metadata": {
    "slideshow": {
     "slide_type": "notes"
    }
   },
   "source": [
    "The _Earley_ algorithm starts by initializing the chart with columns (as many as there are letters in the input). We also seed the first column with a state representing the expression corresponding to the start symbol. In our case, the state corresponds to the start symbol with the `dot` at `0` is represented as below. The `●` symbol represents the parsing status. In this case, we have not parsed anything.\n",
    "```\n",
    "<start>: ● <A> <B>\n",
    "```\n",
    "We pass this partial chart to a method for filling the rest of the parse chart."
   ]
  },
  {
   "cell_type": "markdown",
   "metadata": {
    "slideshow": {
     "slide_type": "notes"
    }
   },
   "source": [
    "Before starting to parse, we seed the chart with the state representing the ongoing parse of the start symbol."
   ]
  },
  {
   "cell_type": "code",
   "execution_count": 99,
   "metadata": {
    "execution": {
     "iopub.execute_input": "2023-01-07T14:16:18.594005Z",
     "iopub.status.busy": "2023-01-07T14:16:18.593712Z",
     "iopub.status.idle": "2023-01-07T14:16:18.594786Z",
     "shell.execute_reply": "2023-01-07T14:16:18.595029Z"
    },
    "slideshow": {
     "slide_type": "subslide"
    }
   },
   "outputs": [],
   "source": [
    "class EarleyParser(Parser):\n",
    "    \"\"\"Earley Parser. This parser can parse any context-free grammar.\"\"\"\n",
    "\n",
    "    def __init__(self, grammar: Grammar, **kwargs) -> None:\n",
    "        super().__init__(grammar, **kwargs)\n",
    "        self.chart: List = []  # for type checking\n",
    "\n",
    "    def chart_parse(self, words, start):\n",
    "        alt = tuple(*self.cgrammar[start])\n",
    "        chart = [Column(i, tok) for i, tok in enumerate([None, *words])]\n",
    "        chart[0].add(State(start, alt, 0, chart[0]))\n",
    "        return self.fill_chart(chart)"
   ]
  },
  {
   "cell_type": "markdown",
   "metadata": {
    "slideshow": {
     "slide_type": "notes"
    }
   },
   "source": [
    "The main parsing loop in `fill_chart()` has three fundamental operations. `predict()`, `scan()`, and `complete()`. We discuss `predict` next."
   ]
  },
  {
   "attachments": {},
   "cell_type": "markdown",
   "metadata": {
    "slideshow": {
     "slide_type": "notes"
    }
   },
   "source": [
    "#### Predicting States\n",
    "\n",
    "We have already seeded `chart[0]` with a state `[<A>,<B>]` with `dot` at `0`. Next, given that `<A>` is a nonterminal, we `predict` the possible parse continuations of this state. That is, it could be either `a <B> c` or `A <A>`.\n",
    "\n",
    "The general idea of `predict()` is as follows: Say you have a state with name `<A>` from the above grammar, and expression containing `[a,<B>,c]`. Imagine that you have seen `a` already, which means that the `dot` will be on `<B>`. Below, is a representation of our parse status. The left-hand side of ● represents the portion already parsed (`a`), and the right-hand side represents the portion yet to be parsed (`<B> c`).\n",
    "\n",
    "```\n",
    "<A>: a  ●  <B> c\n",
    "```"
   ]
  },
  {
   "cell_type": "markdown",
   "metadata": {
    "slideshow": {
     "slide_type": "notes"
    }
   },
   "source": [
    "To recognize `<B>`, we look at the definition of `<B>`, which has different alternative expressions. The `predict()` step adds each of these alternatives to the set of states, with `dot` at `0`.\n",
    "\n",
    "```\n",
    "<A>: a ● <B> c\n",
    "<B>: ● b c\n",
    "<B>: ● <D>\n",
    "```\n",
    "\n",
    "In essence, the `predict()` method, when called with the current nonterminal, fetches the alternative expressions corresponding to this nonterminal, and adds these as predicted _child_ states to the _current_ column."
   ]
  },
  {
   "cell_type": "code",
   "execution_count": 100,
   "metadata": {
    "execution": {
     "iopub.execute_input": "2023-01-07T14:16:18.597097Z",
     "iopub.status.busy": "2023-01-07T14:16:18.596789Z",
     "iopub.status.idle": "2023-01-07T14:16:18.597951Z",
     "shell.execute_reply": "2023-01-07T14:16:18.598208Z"
    },
    "slideshow": {
     "slide_type": "subslide"
    }
   },
   "outputs": [],
   "source": [
    "class EarleyParser(EarleyParser):\n",
    "    def predict(self, col, sym, state):\n",
    "        for alt in self.cgrammar[sym]:\n",
    "            col.add(State(sym, tuple(alt), 0, col))"
   ]
  },
  {
   "cell_type": "markdown",
   "metadata": {
    "slideshow": {
     "slide_type": "fragment"
    }
   },
   "source": [
    "To see how to use `predict`, we first construct the 0th column as before, and we assign the constructed column to an instance of the EarleyParser."
   ]
  },
  {
   "cell_type": "code",
   "execution_count": 101,
   "metadata": {
    "execution": {
     "iopub.execute_input": "2023-01-07T14:16:18.600008Z",
     "iopub.status.busy": "2023-01-07T14:16:18.599719Z",
     "iopub.status.idle": "2023-01-07T14:16:18.600963Z",
     "shell.execute_reply": "2023-01-07T14:16:18.601144Z"
    },
    "slideshow": {
     "slide_type": "fragment"
    }
   },
   "outputs": [],
   "source": [
    "col_0 = Column(0, None)\n",
    "col_0.add(start_state)\n",
    "ep = EarleyParser(SAMPLE_GRAMMAR)\n",
    "ep.chart = [col_0]"
   ]
  },
  {
   "cell_type": "markdown",
   "metadata": {
    "slideshow": {
     "slide_type": "fragment"
    }
   },
   "source": [
    "It should contain a single state -- `<start> at 0`"
   ]
  },
  {
   "cell_type": "code",
   "execution_count": 102,
   "metadata": {
    "execution": {
     "iopub.execute_input": "2023-01-07T14:16:18.603135Z",
     "iopub.status.busy": "2023-01-07T14:16:18.602730Z",
     "iopub.status.idle": "2023-01-07T14:16:18.604055Z",
     "shell.execute_reply": "2023-01-07T14:16:18.604320Z"
    },
    "slideshow": {
     "slide_type": "subslide"
    }
   },
   "outputs": [
    {
     "name": "stdout",
     "output_type": "stream",
     "text": [
      "<start>:= | <A> <B>(0,0)\n"
     ]
    }
   ],
   "source": [
    "for s in ep.chart[0].states:\n",
    "    print(s)"
   ]
  },
  {
   "attachments": {},
   "cell_type": "markdown",
   "metadata": {
    "slideshow": {
     "slide_type": "fragment"
    }
   },
   "source": [
    "We apply `predict()` to fill out the 0th column, and the column should contain the possible parse paths."
   ]
  },
  {
   "cell_type": "code",
   "execution_count": 103,
   "metadata": {
    "execution": {
     "iopub.execute_input": "2023-01-07T14:16:18.606686Z",
     "iopub.status.busy": "2023-01-07T14:16:18.606294Z",
     "iopub.status.idle": "2023-01-07T14:16:18.607840Z",
     "shell.execute_reply": "2023-01-07T14:16:18.608099Z"
    },
    "slideshow": {
     "slide_type": "fragment"
    }
   },
   "outputs": [
    {
     "name": "stdout",
     "output_type": "stream",
     "text": [
      "<start>:= | <A> <B>(0,0)\n",
      "<A>:= | a <B> c(0,0)\n",
      "<A>:= | a <A>(0,0)\n"
     ]
    }
   ],
   "source": [
    "ep.predict(col_0, '<A>', s)\n",
    "for s in ep.chart[0].states:\n",
    "    print(s)"
   ]
  },
  {
   "cell_type": "markdown",
   "metadata": {
    "slideshow": {
     "slide_type": "notes"
    }
   },
   "source": [
    "#### Scanning Tokens\n",
    "\n",
    "What if rather than a nonterminal, the state contained a terminal symbol such as a letter? In that case, we are ready to make some progress. For example, consider the second state:\n",
    "```\n",
    "<B>: ● b c\n",
    "```\n",
    "We `scan` the next column's letter. Say the next token is `b`.\n",
    "If the letter matches what we have, then create a new state by advancing the current state by one letter.\n",
    "\n",
    "```\n",
    "<B>: b ● c\n",
    "```\n",
    "This new state is added to the next column (i.e the column that has the matched letter)."
   ]
  },
  {
   "cell_type": "code",
   "execution_count": 104,
   "metadata": {
    "execution": {
     "iopub.execute_input": "2023-01-07T14:16:18.610647Z",
     "iopub.status.busy": "2023-01-07T14:16:18.610159Z",
     "iopub.status.idle": "2023-01-07T14:16:18.611215Z",
     "shell.execute_reply": "2023-01-07T14:16:18.611592Z"
    },
    "slideshow": {
     "slide_type": "subslide"
    }
   },
   "outputs": [],
   "source": [
    "class EarleyParser(EarleyParser):\n",
    "    def scan(self, col, state, letter):\n",
    "        if letter == col.letter:\n",
    "            col.add(state.advance())"
   ]
  },
  {
   "cell_type": "markdown",
   "metadata": {
    "slideshow": {
     "slide_type": "fragment"
    }
   },
   "source": [
    "As before, we construct the partial parse first, this time adding a new column so that we can observe the effects of `scan()`"
   ]
  },
  {
   "cell_type": "code",
   "execution_count": 105,
   "metadata": {
    "execution": {
     "iopub.execute_input": "2023-01-07T14:16:18.613893Z",
     "iopub.status.busy": "2023-01-07T14:16:18.613492Z",
     "iopub.status.idle": "2023-01-07T14:16:18.614668Z",
     "shell.execute_reply": "2023-01-07T14:16:18.614931Z"
    },
    "slideshow": {
     "slide_type": "fragment"
    }
   },
   "outputs": [],
   "source": [
    "ep = EarleyParser(SAMPLE_GRAMMAR)\n",
    "col_1 = Column(1, 'a')\n",
    "ep.chart = [col_0, col_1]"
   ]
  },
  {
   "cell_type": "code",
   "execution_count": 106,
   "metadata": {
    "execution": {
     "iopub.execute_input": "2023-01-07T14:16:18.617329Z",
     "iopub.status.busy": "2023-01-07T14:16:18.616877Z",
     "iopub.status.idle": "2023-01-07T14:16:18.618390Z",
     "shell.execute_reply": "2023-01-07T14:16:18.618593Z"
    },
    "slideshow": {
     "slide_type": "fragment"
    }
   },
   "outputs": [
    {
     "name": "stdout",
     "output_type": "stream",
     "text": [
      "<A>:= | a <B> c(0,0)\n"
     ]
    }
   ],
   "source": [
    "new_state = ep.chart[0].states[1]\n",
    "print(new_state)"
   ]
  },
  {
   "cell_type": "code",
   "execution_count": 107,
   "metadata": {
    "execution": {
     "iopub.execute_input": "2023-01-07T14:16:18.620851Z",
     "iopub.status.busy": "2023-01-07T14:16:18.620467Z",
     "iopub.status.idle": "2023-01-07T14:16:18.621764Z",
     "shell.execute_reply": "2023-01-07T14:16:18.622158Z"
    },
    "slideshow": {
     "slide_type": "subslide"
    }
   },
   "outputs": [
    {
     "name": "stdout",
     "output_type": "stream",
     "text": [
      "<A>:= a | <B> c(0,1)\n"
     ]
    }
   ],
   "source": [
    "ep.scan(col_1, new_state, 'a')\n",
    "for s in ep.chart[1].states:\n",
    "    print(s)"
   ]
  },
  {
   "attachments": {},
   "cell_type": "markdown",
   "metadata": {
    "slideshow": {
     "slide_type": "notes"
    }
   },
   "source": [
    "#### Completing Processing\n",
    "\n",
    "When we advance, what if we actually `complete()` the processing of the current rule? If so, we want to update not just this state, but also all the _parent_ states from which this state was derived.\n",
    "For example, say we have states as below.\n",
    "```\n",
    "<A>: a ● <B> c\n",
    "<B>: b c ● \n",
    "```\n",
    "The state `<B>: b c ●` is now complete. So, we need to advance `<A>: a ● <B> c` one step forward.\n",
    "\n",
    "How do we determine the parent states? Note from `predict` that we added the predicted child states to the _same_ column as that of the inspected state. Hence, we look at the starting column of the current state, with the same symbol `at_dot` as that of the name of the completed state.\n",
    "\n",
    "For each such parent found, we advance that parent (because we have just finished parsing that nonterminal for their `at_dot`) and add the new states to the current column."
   ]
  },
  {
   "cell_type": "code",
   "execution_count": 108,
   "metadata": {
    "execution": {
     "iopub.execute_input": "2023-01-07T14:16:18.625130Z",
     "iopub.status.busy": "2023-01-07T14:16:18.624726Z",
     "iopub.status.idle": "2023-01-07T14:16:18.625705Z",
     "shell.execute_reply": "2023-01-07T14:16:18.626044Z"
    },
    "slideshow": {
     "slide_type": "subslide"
    }
   },
   "outputs": [],
   "source": [
    "class EarleyParser(EarleyParser):\n",
    "    def complete(self, col, state):\n",
    "        return self.earley_complete(col, state)\n",
    "\n",
    "    def earley_complete(self, col, state):\n",
    "        parent_states = [\n",
    "            st for st in state.s_col.states if st.at_dot() == state.name\n",
    "        ]\n",
    "        for st in parent_states:\n",
    "            col.add(st.advance())"
   ]
  },
  {
   "cell_type": "markdown",
   "metadata": {
    "slideshow": {
     "slide_type": "fragment"
    }
   },
   "source": [
    "Here is an example of completed processing. First we complete the Column 0"
   ]
  },
  {
   "cell_type": "code",
   "execution_count": 109,
   "metadata": {
    "execution": {
     "iopub.execute_input": "2023-01-07T14:16:18.628888Z",
     "iopub.status.busy": "2023-01-07T14:16:18.628467Z",
     "iopub.status.idle": "2023-01-07T14:16:18.629780Z",
     "shell.execute_reply": "2023-01-07T14:16:18.630089Z"
    },
    "slideshow": {
     "slide_type": "subslide"
    }
   },
   "outputs": [
    {
     "name": "stdout",
     "output_type": "stream",
     "text": [
      "<start>:= | <A> <B>(0,0)\n",
      "<A>:= | a <B> c(0,0)\n",
      "<A>:= | a <A>(0,0)\n"
     ]
    }
   ],
   "source": [
    "ep = EarleyParser(SAMPLE_GRAMMAR)\n",
    "col_1 = Column(1, 'a')\n",
    "col_2 = Column(2, 'd')\n",
    "ep.chart = [col_0, col_1, col_2]\n",
    "ep.predict(col_0, '<A>', s)\n",
    "for s in ep.chart[0].states:\n",
    "    print(s)"
   ]
  },
  {
   "cell_type": "markdown",
   "metadata": {
    "slideshow": {
     "slide_type": "fragment"
    }
   },
   "source": [
    "Then we use `scan()` to populate Column 1"
   ]
  },
  {
   "cell_type": "code",
   "execution_count": 110,
   "metadata": {
    "execution": {
     "iopub.execute_input": "2023-01-07T14:16:18.632621Z",
     "iopub.status.busy": "2023-01-07T14:16:18.632232Z",
     "iopub.status.idle": "2023-01-07T14:16:18.633997Z",
     "shell.execute_reply": "2023-01-07T14:16:18.634361Z"
    },
    "slideshow": {
     "slide_type": "subslide"
    }
   },
   "outputs": [
    {
     "name": "stdout",
     "output_type": "stream",
     "text": [
      "<A>:= a | <B> c(0,1)\n",
      "<A>:= a | <A>(0,1)\n"
     ]
    }
   ],
   "source": [
    "for state in ep.chart[0].states:\n",
    "    if state.at_dot() not in SAMPLE_GRAMMAR:\n",
    "        ep.scan(col_1, state, 'a')\n",
    "for s in ep.chart[1].states:\n",
    "    print(s)"
   ]
  },
  {
   "cell_type": "code",
   "execution_count": 111,
   "metadata": {
    "execution": {
     "iopub.execute_input": "2023-01-07T14:16:18.636885Z",
     "iopub.status.busy": "2023-01-07T14:16:18.636524Z",
     "iopub.status.idle": "2023-01-07T14:16:18.637898Z",
     "shell.execute_reply": "2023-01-07T14:16:18.638168Z"
    },
    "slideshow": {
     "slide_type": "subslide"
    }
   },
   "outputs": [
    {
     "name": "stdout",
     "output_type": "stream",
     "text": [
      "<A>:= a | <B> c(0,1)\n",
      "<A>:= a | <A>(0,1)\n",
      "<B>:= | b <C>(1,1)\n",
      "<B>:= | <D>(1,1)\n",
      "<A>:= | a <B> c(1,1)\n",
      "<A>:= | a <A>(1,1)\n",
      "<D>:= | d(1,1)\n"
     ]
    }
   ],
   "source": [
    "for state in ep.chart[1].states:\n",
    "    if state.at_dot() in SAMPLE_GRAMMAR:\n",
    "        ep.predict(col_1, state.at_dot(), state)\n",
    "for s in ep.chart[1].states:\n",
    "    print(s)"
   ]
  },
  {
   "cell_type": "markdown",
   "metadata": {
    "slideshow": {
     "slide_type": "fragment"
    }
   },
   "source": [
    "Then we use `scan()` again to populate Column 2"
   ]
  },
  {
   "cell_type": "code",
   "execution_count": 112,
   "metadata": {
    "execution": {
     "iopub.execute_input": "2023-01-07T14:16:18.640904Z",
     "iopub.status.busy": "2023-01-07T14:16:18.640571Z",
     "iopub.status.idle": "2023-01-07T14:16:18.641784Z",
     "shell.execute_reply": "2023-01-07T14:16:18.641969Z"
    },
    "slideshow": {
     "slide_type": "subslide"
    }
   },
   "outputs": [
    {
     "name": "stdout",
     "output_type": "stream",
     "text": [
      "<D>:= d |(1,2)\n"
     ]
    }
   ],
   "source": [
    "for state in ep.chart[1].states:\n",
    "    if state.at_dot() not in SAMPLE_GRAMMAR:\n",
    "        ep.scan(col_2, state, state.at_dot())\n",
    "\n",
    "for s in ep.chart[2].states:\n",
    "    print(s)"
   ]
  },
  {
   "cell_type": "markdown",
   "metadata": {
    "slideshow": {
     "slide_type": "fragment"
    }
   },
   "source": [
    "Now, we can use `complete()`:"
   ]
  },
  {
   "cell_type": "code",
   "execution_count": 113,
   "metadata": {
    "execution": {
     "iopub.execute_input": "2023-01-07T14:16:18.644319Z",
     "iopub.status.busy": "2023-01-07T14:16:18.644010Z",
     "iopub.status.idle": "2023-01-07T14:16:18.645345Z",
     "shell.execute_reply": "2023-01-07T14:16:18.645806Z"
    },
    "slideshow": {
     "slide_type": "subslide"
    }
   },
   "outputs": [
    {
     "name": "stdout",
     "output_type": "stream",
     "text": [
      "<D>:= d |(1,2)\n",
      "<B>:= <D> |(1,2)\n",
      "<A>:= a <B> | c(0,2)\n"
     ]
    }
   ],
   "source": [
    "for state in ep.chart[2].states:\n",
    "    if state.finished():\n",
    "        ep.complete(col_2, state)\n",
    "\n",
    "for s in ep.chart[2].states:\n",
    "    print(s)"
   ]
  },
  {
   "cell_type": "markdown",
   "metadata": {
    "slideshow": {
     "slide_type": "notes"
    }
   },
   "source": [
    "#### Filling the Chart\n",
    "\n",
    "The main driving loop in `fill_chart()` essentially calls these operations in order. We loop over each column in order.\n",
    "* For each column, fetch one state in the column at a time, and check if the state is `finished`. \n",
    "    * If it is, then we `complete()` all the parent states depending on this state. \n",
    "* If the state was not finished, we check to see if the state's current symbol `at_dot` is a nonterminal. \n",
    "    * If it is a nonterminal, we `predict()` possible continuations, and update the current column with these states. \n",
    "    * If it was not, we `scan()` the next column and advance the current state if it matches the next letter."
   ]
  },
  {
   "cell_type": "code",
   "execution_count": 114,
   "metadata": {
    "execution": {
     "iopub.execute_input": "2023-01-07T14:16:18.649143Z",
     "iopub.status.busy": "2023-01-07T14:16:18.648779Z",
     "iopub.status.idle": "2023-01-07T14:16:18.649863Z",
     "shell.execute_reply": "2023-01-07T14:16:18.650216Z"
    },
    "slideshow": {
     "slide_type": "subslide"
    }
   },
   "outputs": [],
   "source": [
    "class EarleyParser(EarleyParser):\n",
    "    def fill_chart(self, chart):\n",
    "        for i, col in enumerate(chart):\n",
    "            for state in col.states:\n",
    "                if state.finished():\n",
    "                    self.complete(col, state)\n",
    "                else:\n",
    "                    sym = state.at_dot()\n",
    "                    if sym in self.cgrammar:\n",
    "                        self.predict(col, sym, state)\n",
    "                    else:\n",
    "                        if i + 1 >= len(chart):\n",
    "                            continue\n",
    "                        self.scan(chart[i + 1], state, sym)\n",
    "            if self.log:\n",
    "                print(col, '\\n')\n",
    "        return chart"
   ]
  },
  {
   "cell_type": "markdown",
   "metadata": {
    "slideshow": {
     "slide_type": "subslide"
    }
   },
   "source": [
    "We now can recognize a given string as belonging to a language represented by a grammar."
   ]
  },
  {
   "cell_type": "code",
   "execution_count": 115,
   "metadata": {
    "execution": {
     "iopub.execute_input": "2023-01-07T14:16:18.652960Z",
     "iopub.status.busy": "2023-01-07T14:16:18.652600Z",
     "iopub.status.idle": "2023-01-07T14:16:18.653803Z",
     "shell.execute_reply": "2023-01-07T14:16:18.654009Z"
    },
    "slideshow": {
     "slide_type": "subslide"
    }
   },
   "outputs": [
    {
     "name": "stdout",
     "output_type": "stream",
     "text": [
      "None chart[0]\n",
      " \n",
      "\n",
      "a chart[1]\n",
      " \n",
      "\n",
      "d chart[2]\n",
      "<D>:= d |(1,2)\n",
      "<B>:= <D> |(1,2) \n",
      "\n",
      "c chart[3]\n",
      "<A>:= a <B> c |(0,3) \n",
      "\n",
      "d chart[4]\n",
      "<D>:= d |(3,4)\n",
      "<B>:= <D> |(3,4)\n",
      "<start>:= <A> <B> |(0,4) \n",
      "\n"
     ]
    }
   ],
   "source": [
    "ep = EarleyParser(SAMPLE_GRAMMAR, log=True)\n",
    "columns = ep.chart_parse('adcd', START_SYMBOL)"
   ]
  },
  {
   "cell_type": "markdown",
   "metadata": {
    "slideshow": {
     "slide_type": "subslide"
    }
   },
   "source": [
    "The chart we printed above only shows completed entries at each index. The parenthesized expression indicates the column just before the first character was recognized, and the ending column.\n",
    "\n",
    "Notice how the `<start>` nonterminal shows fully parsed status."
   ]
  },
  {
   "cell_type": "code",
   "execution_count": 116,
   "metadata": {
    "execution": {
     "iopub.execute_input": "2023-01-07T14:16:18.656397Z",
     "iopub.status.busy": "2023-01-07T14:16:18.656001Z",
     "iopub.status.idle": "2023-01-07T14:16:18.657338Z",
     "shell.execute_reply": "2023-01-07T14:16:18.657610Z"
    },
    "slideshow": {
     "slide_type": "fragment"
    }
   },
   "outputs": [
    {
     "name": "stdout",
     "output_type": "stream",
     "text": [
      "<start>:= <A> <B> |(0,4)\n"
     ]
    }
   ],
   "source": [
    "last_col = columns[-1]\n",
    "for state in last_col.states:\n",
    "    if state.name == '<start>':\n",
    "        print(state)"
   ]
  },
  {
   "cell_type": "markdown",
   "metadata": {
    "slideshow": {
     "slide_type": "notes"
    }
   },
   "source": [
    "Since `chart_parse()` returns the completed table, we now need to extract the derivation trees."
   ]
  },
  {
   "cell_type": "markdown",
   "metadata": {
    "slideshow": {
     "slide_type": "notes"
    }
   },
   "source": [
    "#### The Parse Method\n",
    "\n",
    "For determining how far we have managed to parse, we simply look for the last index from `chart_parse()` where the `start_symbol` was found."
   ]
  },
  {
   "cell_type": "code",
   "execution_count": 117,
   "metadata": {
    "execution": {
     "iopub.execute_input": "2023-01-07T14:16:18.660326Z",
     "iopub.status.busy": "2023-01-07T14:16:18.660026Z",
     "iopub.status.idle": "2023-01-07T14:16:18.661233Z",
     "shell.execute_reply": "2023-01-07T14:16:18.661418Z"
    },
    "slideshow": {
     "slide_type": "subslide"
    }
   },
   "outputs": [],
   "source": [
    "class EarleyParser(EarleyParser):\n",
    "    def parse_prefix(self, text):\n",
    "        self.table = self.chart_parse(text, self.start_symbol())\n",
    "        for col in reversed(self.table):\n",
    "            states = [\n",
    "                st for st in col.states if st.name == self.start_symbol()\n",
    "            ]\n",
    "            if states:\n",
    "                return col.index, states\n",
    "        return -1, []"
   ]
  },
  {
   "cell_type": "markdown",
   "metadata": {
    "slideshow": {
     "slide_type": "subslide"
    }
   },
   "source": [
    "Here is the `parse_prefix()` in action."
   ]
  },
  {
   "cell_type": "code",
   "execution_count": 118,
   "metadata": {
    "execution": {
     "iopub.execute_input": "2023-01-07T14:16:18.663495Z",
     "iopub.status.busy": "2023-01-07T14:16:18.663178Z",
     "iopub.status.idle": "2023-01-07T14:16:18.664347Z",
     "shell.execute_reply": "2023-01-07T14:16:18.664544Z"
    },
    "slideshow": {
     "slide_type": "fragment"
    }
   },
   "outputs": [
    {
     "name": "stdout",
     "output_type": "stream",
     "text": [
      "4 ['<start>:= <A> <B> |(0,4)']\n"
     ]
    }
   ],
   "source": [
    "ep = EarleyParser(SAMPLE_GRAMMAR)\n",
    "cursor, last_states = ep.parse_prefix('adcd')\n",
    "print(cursor, [str(s) for s in last_states])"
   ]
  },
  {
   "cell_type": "markdown",
   "metadata": {
    "slideshow": {
     "slide_type": "subslide"
    }
   },
   "source": [
    "The following is adapted from the excellent reference on Earley parsing by [Loup Vaillant](http://loup-vaillant.fr/tutorials/earley-parsing/).\n"
   ]
  },
  {
   "cell_type": "markdown",
   "metadata": {
    "slideshow": {
     "slide_type": "fragment"
    }
   },
   "source": [
    "Our `parse()` method is as follows. It depends on two methods `parse_forest()` and `extract_trees()` that will be defined next."
   ]
  },
  {
   "cell_type": "code",
   "execution_count": 119,
   "metadata": {
    "execution": {
     "iopub.execute_input": "2023-01-07T14:16:18.666909Z",
     "iopub.status.busy": "2023-01-07T14:16:18.666635Z",
     "iopub.status.idle": "2023-01-07T14:16:18.667652Z",
     "shell.execute_reply": "2023-01-07T14:16:18.667896Z"
    },
    "slideshow": {
     "slide_type": "subslide"
    }
   },
   "outputs": [],
   "source": [
    "class EarleyParser(EarleyParser):\n",
    "    def parse(self, text):\n",
    "        cursor, states = self.parse_prefix(text)\n",
    "        start = next((s for s in states if s.finished()), None)\n",
    "\n",
    "        if cursor < len(text) or not start:\n",
    "            raise SyntaxError(\"at \" + repr(text[cursor:]))\n",
    "\n",
    "        forest = self.parse_forest(self.table, start)\n",
    "        for tree in self.extract_trees(forest):\n",
    "            yield self.prune_tree(tree)"
   ]
  },
  {
   "cell_type": "markdown",
   "metadata": {
    "slideshow": {
     "slide_type": "notes"
    }
   },
   "source": [
    "#### Parsing Paths\n",
    "\n",
    "The `parse_paths()` method tries to unify the given expression in `named_expr` with the parsed string. For that, it extracts the last symbol in `named_expr` and checks if it is a terminal symbol. If it is, then it checks the chart at `til` to see if the letter corresponding to the position matches the terminal symbol. If it does, extend our start index by the length of the symbol.\n",
    "\n",
    "If the symbol was a nonterminal symbol, then we retrieve the parsed states at the current end column index (`til`) that correspond to the nonterminal symbol, and collect the start index. These are the end column indexes for the remaining expression.\n",
    "\n",
    "Given our list of start indexes, we obtain the parse paths from the remaining expression. If we can obtain any, then we return the parse paths. If not, we return an empty list."
   ]
  },
  {
   "cell_type": "code",
   "execution_count": 120,
   "metadata": {
    "execution": {
     "iopub.execute_input": "2023-01-07T14:16:18.671337Z",
     "iopub.status.busy": "2023-01-07T14:16:18.671019Z",
     "iopub.status.idle": "2023-01-07T14:16:18.672397Z",
     "shell.execute_reply": "2023-01-07T14:16:18.672648Z"
    },
    "slideshow": {
     "slide_type": "subslide"
    }
   },
   "outputs": [],
   "source": [
    "class EarleyParser(EarleyParser):\n",
    "    def parse_paths(self, named_expr, chart, frm, til):\n",
    "        def paths(state, start, k, e):\n",
    "            if not e:\n",
    "                return [[(state, k)]] if start == frm else []\n",
    "            else:\n",
    "                return [[(state, k)] + r\n",
    "                        for r in self.parse_paths(e, chart, frm, start)]\n",
    "\n",
    "        *expr, var = named_expr\n",
    "        starts = None\n",
    "        if var not in self.cgrammar:\n",
    "            starts = ([(var, til - len(var),\n",
    "                        't')] if til > 0 and chart[til].letter == var else [])\n",
    "        else:\n",
    "            starts = [(s, s.s_col.index, 'n') for s in chart[til].states\n",
    "                      if s.finished() and s.name == var]\n",
    "\n",
    "        return [p for s, start, k in starts for p in paths(s, start, k, expr)]"
   ]
  },
  {
   "cell_type": "markdown",
   "metadata": {
    "slideshow": {
     "slide_type": "subslide"
    }
   },
   "source": [
    "Here is the `parse_paths()` in action"
   ]
  },
  {
   "cell_type": "code",
   "execution_count": 121,
   "metadata": {
    "execution": {
     "iopub.execute_input": "2023-01-07T14:16:18.674930Z",
     "iopub.status.busy": "2023-01-07T14:16:18.674614Z",
     "iopub.status.idle": "2023-01-07T14:16:18.675846Z",
     "shell.execute_reply": "2023-01-07T14:16:18.676029Z"
    },
    "slideshow": {
     "slide_type": "fragment"
    }
   },
   "outputs": [
    {
     "name": "stdout",
     "output_type": "stream",
     "text": [
      "['<A><B>']\n",
      "[['<B>:= <D> |(3,4)', 'n'], ['<A>:= a <B> c |(0,3)', 'n']]\n"
     ]
    }
   ],
   "source": [
    "print(SAMPLE_GRAMMAR['<start>'])\n",
    "ep = EarleyParser(SAMPLE_GRAMMAR)\n",
    "completed_start = last_states[0]\n",
    "paths = ep.parse_paths(completed_start.expr, columns, 0, 4)\n",
    "for path in paths:\n",
    "    print([list(str(s_) for s_ in s) for s in path])"
   ]
  },
  {
   "cell_type": "markdown",
   "metadata": {
    "slideshow": {
     "slide_type": "fragment"
    }
   },
   "source": [
    "That is, the parse path for `<start>` given the input `adcd` included recognizing the expression `<A><B>`. This was recognized by the two states: `<A>` from input(0) to input(2) which further involved recognizing the rule `a<B>c`, and the next state `<B>` from input(3) which involved recognizing the rule `<D>`."
   ]
  },
  {
   "cell_type": "markdown",
   "metadata": {
    "slideshow": {
     "slide_type": "notes"
    }
   },
   "source": [
    "#### Parsing Forests\n",
    "\n",
    "The `parse_forest()` method takes the state which represents the completed parse, and determines the possible ways that its expressions corresponded to the parsed expression. For example, say we are parsing `1+2+3`, and the state has `[<expr>,+,<expr>]` in `expr`. It could have been parsed as either `[{<expr>:1+2},+,{<expr>:3}]` or `[{<expr>:1},+,{<expr>:2+3}]`."
   ]
  },
  {
   "cell_type": "code",
   "execution_count": 122,
   "metadata": {
    "execution": {
     "iopub.execute_input": "2023-01-07T14:16:18.678479Z",
     "iopub.status.busy": "2023-01-07T14:16:18.678167Z",
     "iopub.status.idle": "2023-01-07T14:16:18.679470Z",
     "shell.execute_reply": "2023-01-07T14:16:18.679698Z"
    },
    "slideshow": {
     "slide_type": "subslide"
    }
   },
   "outputs": [],
   "source": [
    "class EarleyParser(EarleyParser):\n",
    "    def forest(self, s, kind, chart):\n",
    "        return self.parse_forest(chart, s) if kind == 'n' else (s, [])\n",
    "\n",
    "    def parse_forest(self, chart, state):\n",
    "        pathexprs = self.parse_paths(state.expr, chart, state.s_col.index,\n",
    "                                     state.e_col.index) if state.expr else []\n",
    "        return state.name, [[(v, k, chart) for v, k in reversed(pathexpr)]\n",
    "                            for pathexpr in pathexprs]"
   ]
  },
  {
   "cell_type": "code",
   "execution_count": 123,
   "metadata": {
    "execution": {
     "iopub.execute_input": "2023-01-07T14:16:18.681985Z",
     "iopub.status.busy": "2023-01-07T14:16:18.681655Z",
     "iopub.status.idle": "2023-01-07T14:16:18.683141Z",
     "shell.execute_reply": "2023-01-07T14:16:18.683372Z"
    },
    "slideshow": {
     "slide_type": "subslide"
    }
   },
   "outputs": [
    {
     "data": {
      "text/plain": [
       "('<start>',\n",
       " [[(<__main__.State at 0x1075dece0>,\n",
       "    'n',\n",
       "    [<__main__.Column at 0x1075dceb0>,\n",
       "     <__main__.Column at 0x1075dcf10>,\n",
       "     <__main__.Column at 0x1075de680>,\n",
       "     <__main__.Column at 0x1075dde40>,\n",
       "     <__main__.Column at 0x1075dd090>]),\n",
       "   (<__main__.State at 0x1075de7a0>,\n",
       "    'n',\n",
       "    [<__main__.Column at 0x1075dceb0>,\n",
       "     <__main__.Column at 0x1075dcf10>,\n",
       "     <__main__.Column at 0x1075de680>,\n",
       "     <__main__.Column at 0x1075dde40>,\n",
       "     <__main__.Column at 0x1075dd090>])]])"
      ]
     },
     "execution_count": 123,
     "metadata": {},
     "output_type": "execute_result"
    }
   ],
   "source": [
    "ep = EarleyParser(SAMPLE_GRAMMAR)\n",
    "result = ep.parse_forest(columns, last_states[0])\n",
    "result"
   ]
  },
  {
   "cell_type": "markdown",
   "metadata": {
    "slideshow": {
     "slide_type": "notes"
    }
   },
   "source": [
    "#### Extracting Trees"
   ]
  },
  {
   "cell_type": "markdown",
   "metadata": {
    "slideshow": {
     "slide_type": "notes"
    }
   },
   "source": [
    "What we have from `parse_forest()` is a forest of trees. We need to extract a single tree from that forest. That is accomplished as follows."
   ]
  },
  {
   "cell_type": "markdown",
   "metadata": {
    "slideshow": {
     "slide_type": "skip"
    }
   },
   "source": [
    "(For now, we return the first available derivation tree. To do that, we need to extract the parse forest from the state corresponding to `start`.)"
   ]
  },
  {
   "cell_type": "code",
   "execution_count": 124,
   "metadata": {
    "execution": {
     "iopub.execute_input": "2023-01-07T14:16:18.685570Z",
     "iopub.status.busy": "2023-01-07T14:16:18.685288Z",
     "iopub.status.idle": "2023-01-07T14:16:18.686784Z",
     "shell.execute_reply": "2023-01-07T14:16:18.687095Z"
    },
    "slideshow": {
     "slide_type": "subslide"
    }
   },
   "outputs": [],
   "source": [
    "class EarleyParser(EarleyParser):\n",
    "    def extract_a_tree(self, forest_node):\n",
    "        name, paths = forest_node\n",
    "        if not paths:\n",
    "            return (name, [])\n",
    "        return (name, [self.extract_a_tree(self.forest(*p)) for p in paths[0]])\n",
    "\n",
    "    def extract_trees(self, forest):\n",
    "        yield self.extract_a_tree(forest)"
   ]
  },
  {
   "cell_type": "markdown",
   "metadata": {
    "slideshow": {
     "slide_type": "skip"
    }
   },
   "source": [
    "We now verify that our parser can parse a given expression."
   ]
  },
  {
   "cell_type": "code",
   "execution_count": 125,
   "metadata": {
    "execution": {
     "iopub.execute_input": "2023-01-07T14:16:18.689488Z",
     "iopub.status.busy": "2023-01-07T14:16:18.689189Z",
     "iopub.status.idle": "2023-01-07T14:16:18.690283Z",
     "shell.execute_reply": "2023-01-07T14:16:18.690526Z"
    },
    "slideshow": {
     "slide_type": "subslide"
    }
   },
   "outputs": [],
   "source": [
    "A3_GRAMMAR: Grammar = {\n",
    "    \"<start>\": [\"<bexpr>\"],\n",
    "    \"<bexpr>\": [\n",
    "        \"<aexpr><gt><aexpr>\", \"<aexpr><lt><aexpr>\", \"<aexpr>=<aexpr>\",\n",
    "        \"<bexpr>=<bexpr>\", \"<bexpr>&<bexpr>\", \"<bexpr>|<bexpr>\", \"(<bexrp>)\"\n",
    "    ],\n",
    "    \"<aexpr>\":\n",
    "    [\"<aexpr>+<aexpr>\", \"<aexpr>-<aexpr>\", \"(<aexpr>)\", \"<integer>\"],\n",
    "    \"<integer>\": [\"<digit><integer>\", \"<digit>\"],\n",
    "    \"<digit>\": [\"0\", \"1\", \"2\", \"3\", \"4\", \"5\", \"6\", \"7\", \"8\", \"9\"],\n",
    "    \"<lt>\": ['<'],\n",
    "    \"<gt>\": ['>']\n",
    "}"
   ]
  },
  {
   "cell_type": "code",
   "execution_count": 126,
   "metadata": {
    "execution": {
     "iopub.execute_input": "2023-01-07T14:16:18.692824Z",
     "iopub.status.busy": "2023-01-07T14:16:18.692522Z",
     "iopub.status.idle": "2023-01-07T14:16:18.704238Z",
     "shell.execute_reply": "2023-01-07T14:16:18.704537Z"
    },
    "slideshow": {
     "slide_type": "subslide"
    }
   },
   "outputs": [
    {
     "name": "stdout",
     "output_type": "stream",
     "text": [
      "start\n"
     ]
    },
    {
     "data": {
      "image/svg+xml": [
       "<svg xmlns=\"http://www.w3.org/2000/svg\" class=\"railroad-diagram\" height=\"62\" viewBox=\"0 0 182.5 62\" width=\"182.5\">\n",
       "<g transform=\"translate(.5 .5)\">\n",
       "<style>/* <![CDATA[ */\n",
       "    svg.railroad-diagram {\n",
       "    }\n",
       "    svg.railroad-diagram path {\n",
       "        stroke-width:3;\n",
       "        stroke:black;\n",
       "        fill:white;\n",
       "    }\n",
       "    svg.railroad-diagram text {\n",
       "        font:14px \"Fira Mono\", monospace;\n",
       "        text-anchor:middle;\n",
       "    }\n",
       "    svg.railroad-diagram text.label{\n",
       "        text-anchor:start;\n",
       "    }\n",
       "    svg.railroad-diagram text.comment{\n",
       "        font:italic 12px \"Fira Mono\", monospace;\n",
       "    }\n",
       "    svg.railroad-diagram rect{\n",
       "        stroke-width:2;\n",
       "        stroke:black;\n",
       "        fill:mistyrose;\n",
       "    }\n",
       "\n",
       "/* ]]> */\n",
       "</style><g>\n",
       "<path d=\"M20 21v20m10 -20v20m-10 -10h20\"/></g><g>\n",
       "<path d=\"M40 31h0.0\"/><path d=\"M142.5 31h0.0\"/><path d=\"M40.0 31h20\"/><g>\n",
       "<path d=\"M60.0 31h0.0\"/><path d=\"M122.5 31h0.0\"/><g class=\"non-terminal\">\n",
       "<path d=\"M60.0 31h0.0\"/><path d=\"M122.5 31h0.0\"/><rect height=\"22\" width=\"62.5\" x=\"60.0\" y=\"20\"/><text x=\"91.25\" y=\"35\">bexpr</text></g></g><path d=\"M122.5 31h20\"/></g><path d=\"M 142.5 31 h 20 m -10 -10 v 20 m 10 -20 v 20\"/></g></svg>"
      ],
      "text/plain": [
       "<IPython.core.display.SVG object>"
      ]
     },
     "metadata": {},
     "output_type": "display_data"
    },
    {
     "name": "stdout",
     "output_type": "stream",
     "text": [
      "bexpr\n"
     ]
    },
    {
     "data": {
      "image/svg+xml": [
       "<svg xmlns=\"http://www.w3.org/2000/svg\" class=\"railroad-diagram\" height=\"80\" viewBox=\"0 0 1837.5 80\" width=\"1837.5\">\n",
       "<g transform=\"translate(.5 .5)\">\n",
       "<style>/* <![CDATA[ */\n",
       "    svg.railroad-diagram {\n",
       "    }\n",
       "    svg.railroad-diagram path {\n",
       "        stroke-width:3;\n",
       "        stroke:black;\n",
       "        fill:white;\n",
       "    }\n",
       "    svg.railroad-diagram text {\n",
       "        font:14px \"Fira Mono\", monospace;\n",
       "        text-anchor:middle;\n",
       "    }\n",
       "    svg.railroad-diagram text.label{\n",
       "        text-anchor:start;\n",
       "    }\n",
       "    svg.railroad-diagram text.comment{\n",
       "        font:italic 12px \"Fira Mono\", monospace;\n",
       "    }\n",
       "    svg.railroad-diagram rect{\n",
       "        stroke-width:2;\n",
       "        stroke:black;\n",
       "        fill:mistyrose;\n",
       "    }\n",
       "\n",
       "/* ]]> */\n",
       "</style><g>\n",
       "<path d=\"M20 30v20m10 -20v20m-10 -10h20\"/></g><g>\n",
       "<path d=\"M40 40h0.0\"/><path d=\"M1797.5 40h0.0\"/><path d=\"M40.0 40a10 10 0 0 0 10 -10v0a10 10 0 0 1 10 -10h1508.0\"/><path d=\"M312.0 60h1465.5a10 10 0 0 0 10 -10v0a10 10 0 0 1 10 -10\"/><path d=\"M40.0 40h10\"/><g>\n",
       "<path d=\"M50.0 40h0.0\"/><path d=\"M292.0 40h0.0\"/><path d=\"M50.0 40h20\"/><g>\n",
       "<path d=\"M70.0 40h0.0\"/><path d=\"M272.0 40h0.0\"/><g class=\"non-terminal\">\n",
       "<path d=\"M70.0 40h0.0\"/><path d=\"M132.5 40h0.0\"/><rect height=\"22\" width=\"62.5\" x=\"70.0\" y=\"29\"/><text x=\"101.25\" y=\"44\">aexpr</text></g><path d=\"M132.5 40h10\"/><path d=\"M142.5 40h10\"/><g class=\"non-terminal\">\n",
       "<path d=\"M152.5 40h0.0\"/><path d=\"M189.5 40h0.0\"/><rect height=\"22\" width=\"37.0\" x=\"152.5\" y=\"29\"/><text x=\"171.0\" y=\"44\">gt</text></g><path d=\"M189.5 40h10\"/><path d=\"M199.5 40h10\"/><g class=\"non-terminal\">\n",
       "<path d=\"M209.5 40h0.0\"/><path d=\"M272.0 40h0.0\"/><rect height=\"22\" width=\"62.5\" x=\"209.5\" y=\"29\"/><text x=\"240.75\" y=\"44\">aexpr</text></g></g><path d=\"M272.0 40h20\"/></g><path d=\"M292.0 40a10 10 0 0 1 10 10v0a10 10 0 0 0 10 10\"/><path d=\"M292.0 20a10 10 0 0 1 10 10v0a10 10 0 0 0 10 10\"/><g>\n",
       "<path d=\"M312.0 40h0.0\"/><path d=\"M554.0 40h0.0\"/><path d=\"M312.0 40h20\"/><g>\n",
       "<path d=\"M332.0 40h0.0\"/><path d=\"M534.0 40h0.0\"/><g class=\"non-terminal\">\n",
       "<path d=\"M332.0 40h0.0\"/><path d=\"M394.5 40h0.0\"/><rect height=\"22\" width=\"62.5\" x=\"332.0\" y=\"29\"/><text x=\"363.25\" y=\"44\">aexpr</text></g><path d=\"M394.5 40h10\"/><path d=\"M404.5 40h10\"/><g class=\"non-terminal\">\n",
       "<path d=\"M414.5 40h0.0\"/><path d=\"M451.5 40h0.0\"/><rect height=\"22\" width=\"37.0\" x=\"414.5\" y=\"29\"/><text x=\"433.0\" y=\"44\">lt</text></g><path d=\"M451.5 40h10\"/><path d=\"M461.5 40h10\"/><g class=\"non-terminal\">\n",
       "<path d=\"M471.5 40h0.0\"/><path d=\"M534.0 40h0.0\"/><rect height=\"22\" width=\"62.5\" x=\"471.5\" y=\"29\"/><text x=\"502.75\" y=\"44\">aexpr</text></g></g><path d=\"M534.0 40h20\"/></g><path d=\"M554.0 40a10 10 0 0 1 10 10v0a10 10 0 0 0 10 10\"/><path d=\"M554.0 20a10 10 0 0 1 10 10v0a10 10 0 0 0 10 10\"/><g>\n",
       "<path d=\"M574.0 40h0.0\"/><path d=\"M807.5 40h0.0\"/><path d=\"M574.0 40h20\"/><g>\n",
       "<path d=\"M594.0 40h0.0\"/><path d=\"M787.5 40h0.0\"/><g class=\"non-terminal\">\n",
       "<path d=\"M594.0 40h0.0\"/><path d=\"M656.5 40h0.0\"/><rect height=\"22\" width=\"62.5\" x=\"594.0\" y=\"29\"/><text x=\"625.25\" y=\"44\">aexpr</text></g><path d=\"M656.5 40h10\"/><path d=\"M666.5 40h10\"/><g class=\"terminal\">\n",
       "<path d=\"M676.5 40h0.0\"/><path d=\"M705.0 40h0.0\"/><rect height=\"22\" rx=\"10\" ry=\"10\" width=\"28.5\" x=\"676.5\" y=\"29\"/><text x=\"690.75\" y=\"44\">=</text></g><path d=\"M705.0 40h10\"/><path d=\"M715.0 40h10\"/><g class=\"non-terminal\">\n",
       "<path d=\"M725.0 40h0.0\"/><path d=\"M787.5 40h0.0\"/><rect height=\"22\" width=\"62.5\" x=\"725.0\" y=\"29\"/><text x=\"756.25\" y=\"44\">aexpr</text></g></g><path d=\"M787.5 40h20\"/></g><path d=\"M807.5 40a10 10 0 0 1 10 10v0a10 10 0 0 0 10 10\"/><path d=\"M807.5 20a10 10 0 0 1 10 10v0a10 10 0 0 0 10 10\"/><g>\n",
       "<path d=\"M827.5 40h0.0\"/><path d=\"M1061.0 40h0.0\"/><path d=\"M827.5 40h20\"/><g>\n",
       "<path d=\"M847.5 40h0.0\"/><path d=\"M1041.0 40h0.0\"/><g class=\"non-terminal\">\n",
       "<path d=\"M847.5 40h0.0\"/><path d=\"M910.0 40h0.0\"/><rect height=\"22\" width=\"62.5\" x=\"847.5\" y=\"29\"/><text x=\"878.75\" y=\"44\">bexpr</text></g><path d=\"M910.0 40h10\"/><path d=\"M920.0 40h10\"/><g class=\"terminal\">\n",
       "<path d=\"M930.0 40h0.0\"/><path d=\"M958.5 40h0.0\"/><rect height=\"22\" rx=\"10\" ry=\"10\" width=\"28.5\" x=\"930.0\" y=\"29\"/><text x=\"944.25\" y=\"44\">=</text></g><path d=\"M958.5 40h10\"/><path d=\"M968.5 40h10\"/><g class=\"non-terminal\">\n",
       "<path d=\"M978.5 40h0.0\"/><path d=\"M1041.0 40h0.0\"/><rect height=\"22\" width=\"62.5\" x=\"978.5\" y=\"29\"/><text x=\"1009.75\" y=\"44\">bexpr</text></g></g><path d=\"M1041.0 40h20\"/></g><path d=\"M1061.0 40a10 10 0 0 1 10 10v0a10 10 0 0 0 10 10\"/><path d=\"M1061.0 20a10 10 0 0 1 10 10v0a10 10 0 0 0 10 10\"/><g>\n",
       "<path d=\"M1081.0 40h0.0\"/><path d=\"M1314.5 40h0.0\"/><path d=\"M1081.0 40h20\"/><g>\n",
       "<path d=\"M1101.0 40h0.0\"/><path d=\"M1294.5 40h0.0\"/><g class=\"non-terminal\">\n",
       "<path d=\"M1101.0 40h0.0\"/><path d=\"M1163.5 40h0.0\"/><rect height=\"22\" width=\"62.5\" x=\"1101.0\" y=\"29\"/><text x=\"1132.25\" y=\"44\">bexpr</text></g><path d=\"M1163.5 40h10\"/><path d=\"M1173.5 40h10\"/><g class=\"terminal\">\n",
       "<path d=\"M1183.5 40h0.0\"/><path d=\"M1212.0 40h0.0\"/><rect height=\"22\" rx=\"10\" ry=\"10\" width=\"28.5\" x=\"1183.5\" y=\"29\"/><text x=\"1197.75\" y=\"44\">&amp;</text></g><path d=\"M1212.0 40h10\"/><path d=\"M1222.0 40h10\"/><g class=\"non-terminal\">\n",
       "<path d=\"M1232.0 40h0.0\"/><path d=\"M1294.5 40h0.0\"/><rect height=\"22\" width=\"62.5\" x=\"1232.0\" y=\"29\"/><text x=\"1263.25\" y=\"44\">bexpr</text></g></g><path d=\"M1294.5 40h20\"/></g><path d=\"M1314.5 40a10 10 0 0 1 10 10v0a10 10 0 0 0 10 10\"/><path d=\"M1314.5 20a10 10 0 0 1 10 10v0a10 10 0 0 0 10 10\"/><g>\n",
       "<path d=\"M1334.5 40h0.0\"/><path d=\"M1568.0 40h0.0\"/><path d=\"M1334.5 40h20\"/><g>\n",
       "<path d=\"M1354.5 40h0.0\"/><path d=\"M1548.0 40h0.0\"/><g class=\"non-terminal\">\n",
       "<path d=\"M1354.5 40h0.0\"/><path d=\"M1417.0 40h0.0\"/><rect height=\"22\" width=\"62.5\" x=\"1354.5\" y=\"29\"/><text x=\"1385.75\" y=\"44\">bexpr</text></g><path d=\"M1417.0 40h10\"/><path d=\"M1427.0 40h10\"/><g class=\"terminal\">\n",
       "<path d=\"M1437.0 40h0.0\"/><path d=\"M1465.5 40h0.0\"/><rect height=\"22\" rx=\"10\" ry=\"10\" width=\"28.5\" x=\"1437.0\" y=\"29\"/><text x=\"1451.25\" y=\"44\">|</text></g><path d=\"M1465.5 40h10\"/><path d=\"M1475.5 40h10\"/><g class=\"non-terminal\">\n",
       "<path d=\"M1485.5 40h0.0\"/><path d=\"M1548.0 40h0.0\"/><rect height=\"22\" width=\"62.5\" x=\"1485.5\" y=\"29\"/><text x=\"1516.75\" y=\"44\">bexpr</text></g></g><path d=\"M1548.0 40h20\"/></g><path d=\"M1568.0 40a10 10 0 0 1 10 10v0a10 10 0 0 0 10 10\"/><path d=\"M1568.0 20a10 10 0 0 1 10 10v0a10 10 0 0 0 10 10\"/><g>\n",
       "<path d=\"M1588.0 40h0.0\"/><path d=\"M1787.5 40h0.0\"/><path d=\"M1588.0 40h20\"/><g>\n",
       "<path d=\"M1608.0 40h0.0\"/><path d=\"M1767.5 40h0.0\"/><g class=\"terminal\">\n",
       "<path d=\"M1608.0 40h0.0\"/><path d=\"M1636.5 40h0.0\"/><rect height=\"22\" rx=\"10\" ry=\"10\" width=\"28.5\" x=\"1608.0\" y=\"29\"/><text x=\"1622.25\" y=\"44\">(</text></g><path d=\"M1636.5 40h10\"/><path d=\"M1646.5 40h10\"/><g class=\"non-terminal\">\n",
       "<path d=\"M1656.5 40h0.0\"/><path d=\"M1719.0 40h0.0\"/><rect height=\"22\" width=\"62.5\" x=\"1656.5\" y=\"29\"/><text x=\"1687.75\" y=\"44\">bexrp</text></g><path d=\"M1719.0 40h10\"/><path d=\"M1729.0 40h10\"/><g class=\"terminal\">\n",
       "<path d=\"M1739.0 40h0.0\"/><path d=\"M1767.5 40h0.0\"/><rect height=\"22\" rx=\"10\" ry=\"10\" width=\"28.5\" x=\"1739.0\" y=\"29\"/><text x=\"1753.25\" y=\"44\">)</text></g></g><path d=\"M1767.5 40h20\"/></g><path d=\"M1787.5 40h10\"/></g><path d=\"M 1797.5 40 h 20 m -10 -10 v 20 m 10 -20 v 20\"/></g></svg>"
      ],
      "text/plain": [
       "<IPython.core.display.SVG object>"
      ]
     },
     "metadata": {},
     "output_type": "display_data"
    },
    {
     "name": "stdout",
     "output_type": "stream",
     "text": [
      "aexpr\n"
     ]
    },
    {
     "data": {
      "image/svg+xml": [
       "<svg xmlns=\"http://www.w3.org/2000/svg\" class=\"railroad-diagram\" height=\"152\" viewBox=\"0 0 313.5 152\" width=\"313.5\">\n",
       "<g transform=\"translate(.5 .5)\">\n",
       "<style>/* <![CDATA[ */\n",
       "    svg.railroad-diagram {\n",
       "    }\n",
       "    svg.railroad-diagram path {\n",
       "        stroke-width:3;\n",
       "        stroke:black;\n",
       "        fill:white;\n",
       "    }\n",
       "    svg.railroad-diagram text {\n",
       "        font:14px \"Fira Mono\", monospace;\n",
       "        text-anchor:middle;\n",
       "    }\n",
       "    svg.railroad-diagram text.label{\n",
       "        text-anchor:start;\n",
       "    }\n",
       "    svg.railroad-diagram text.comment{\n",
       "        font:italic 12px \"Fira Mono\", monospace;\n",
       "    }\n",
       "    svg.railroad-diagram rect{\n",
       "        stroke-width:2;\n",
       "        stroke:black;\n",
       "        fill:mistyrose;\n",
       "    }\n",
       "\n",
       "/* ]]> */\n",
       "</style><g>\n",
       "<path d=\"M20 81v20m10 -20v20m-10 -10h20\"/></g><g>\n",
       "<path d=\"M40 91h0.0\"/><path d=\"M273.5 91h0.0\"/><path d=\"M40.0 91a10 10 0 0 0 10 -10v-10a10 10 0 0 1 10 -10\"/><g>\n",
       "<path d=\"M60.0 61h0.0\"/><path d=\"M253.5 61h0.0\"/><g class=\"non-terminal\">\n",
       "<path d=\"M60.0 61h0.0\"/><path d=\"M122.5 61h0.0\"/><rect height=\"22\" width=\"62.5\" x=\"60.0\" y=\"50\"/><text x=\"91.25\" y=\"65\">aexpr</text></g><path d=\"M122.5 61h10\"/><path d=\"M132.5 61h10\"/><g class=\"terminal\">\n",
       "<path d=\"M142.5 61h0.0\"/><path d=\"M171.0 61h0.0\"/><rect height=\"22\" rx=\"10\" ry=\"10\" width=\"28.5\" x=\"142.5\" y=\"50\"/><text x=\"156.75\" y=\"65\">-</text></g><path d=\"M171.0 61h10\"/><path d=\"M181.0 61h10\"/><g class=\"non-terminal\">\n",
       "<path d=\"M191.0 61h0.0\"/><path d=\"M253.5 61h0.0\"/><rect height=\"22\" width=\"62.5\" x=\"191.0\" y=\"50\"/><text x=\"222.25\" y=\"65\">aexpr</text></g></g><path d=\"M253.5 61a10 10 0 0 1 10 10v10a10 10 0 0 0 10 10\"/><path d=\"M40.0 91a10 10 0 0 0 10 -10v-40a10 10 0 0 1 10 -10\"/><g>\n",
       "<path d=\"M60.0 31h0.0\"/><path d=\"M253.5 31h0.0\"/><g class=\"non-terminal\">\n",
       "<path d=\"M60.0 31h0.0\"/><path d=\"M122.5 31h0.0\"/><rect height=\"22\" width=\"62.5\" x=\"60.0\" y=\"20\"/><text x=\"91.25\" y=\"35\">aexpr</text></g><path d=\"M122.5 31h10\"/><path d=\"M132.5 31h10\"/><g class=\"terminal\">\n",
       "<path d=\"M142.5 31h0.0\"/><path d=\"M171.0 31h0.0\"/><rect height=\"22\" rx=\"10\" ry=\"10\" width=\"28.5\" x=\"142.5\" y=\"20\"/><text x=\"156.75\" y=\"35\">+</text></g><path d=\"M171.0 31h10\"/><path d=\"M181.0 31h10\"/><g class=\"non-terminal\">\n",
       "<path d=\"M191.0 31h0.0\"/><path d=\"M253.5 31h0.0\"/><rect height=\"22\" width=\"62.5\" x=\"191.0\" y=\"20\"/><text x=\"222.25\" y=\"35\">aexpr</text></g></g><path d=\"M253.5 31a10 10 0 0 1 10 10v40a10 10 0 0 0 10 10\"/><path d=\"M40.0 91h20\"/><g>\n",
       "<path d=\"M60.0 91h17.0\"/><path d=\"M236.5 91h17.0\"/><g class=\"terminal\">\n",
       "<path d=\"M77.0 91h0.0\"/><path d=\"M105.5 91h0.0\"/><rect height=\"22\" rx=\"10\" ry=\"10\" width=\"28.5\" x=\"77.0\" y=\"80\"/><text x=\"91.25\" y=\"95\">(</text></g><path d=\"M105.5 91h10\"/><path d=\"M115.5 91h10\"/><g class=\"non-terminal\">\n",
       "<path d=\"M125.5 91h0.0\"/><path d=\"M188.0 91h0.0\"/><rect height=\"22\" width=\"62.5\" x=\"125.5\" y=\"80\"/><text x=\"156.75\" y=\"95\">aexpr</text></g><path d=\"M188.0 91h10\"/><path d=\"M198.0 91h10\"/><g class=\"terminal\">\n",
       "<path d=\"M208.0 91h0.0\"/><path d=\"M236.5 91h0.0\"/><rect height=\"22\" rx=\"10\" ry=\"10\" width=\"28.5\" x=\"208.0\" y=\"80\"/><text x=\"222.25\" y=\"95\">)</text></g></g><path d=\"M253.5 91h20\"/><path d=\"M40.0 91a10 10 0 0 1 10 10v10a10 10 0 0 0 10 10\"/><g>\n",
       "<path d=\"M60.0 121h57.0\"/><path d=\"M196.5 121h57.0\"/><g class=\"non-terminal\">\n",
       "<path d=\"M117.0 121h0.0\"/><path d=\"M196.5 121h0.0\"/><rect height=\"22\" width=\"79.5\" x=\"117.0\" y=\"110\"/><text x=\"156.75\" y=\"125\">integer</text></g></g><path d=\"M253.5 121a10 10 0 0 0 10 -10v-10a10 10 0 0 1 10 -10\"/></g><path d=\"M 273.5 91 h 20 m -10 -10 v 20 m 10 -20 v 20\"/></g></svg>"
      ],
      "text/plain": [
       "<IPython.core.display.SVG object>"
      ]
     },
     "metadata": {},
     "output_type": "display_data"
    },
    {
     "name": "stdout",
     "output_type": "stream",
     "text": [
      "integer\n"
     ]
    },
    {
     "data": {
      "image/svg+xml": [
       "<svg xmlns=\"http://www.w3.org/2000/svg\" class=\"railroad-diagram\" height=\"92\" viewBox=\"0 0 282.0 92\" width=\"282.0\">\n",
       "<g transform=\"translate(.5 .5)\">\n",
       "<style>/* <![CDATA[ */\n",
       "    svg.railroad-diagram {\n",
       "    }\n",
       "    svg.railroad-diagram path {\n",
       "        stroke-width:3;\n",
       "        stroke:black;\n",
       "        fill:white;\n",
       "    }\n",
       "    svg.railroad-diagram text {\n",
       "        font:14px \"Fira Mono\", monospace;\n",
       "        text-anchor:middle;\n",
       "    }\n",
       "    svg.railroad-diagram text.label{\n",
       "        text-anchor:start;\n",
       "    }\n",
       "    svg.railroad-diagram text.comment{\n",
       "        font:italic 12px \"Fira Mono\", monospace;\n",
       "    }\n",
       "    svg.railroad-diagram rect{\n",
       "        stroke-width:2;\n",
       "        stroke:black;\n",
       "        fill:mistyrose;\n",
       "    }\n",
       "\n",
       "/* ]]> */\n",
       "</style><g>\n",
       "<path d=\"M20 51v20m10 -20v20m-10 -10h20\"/></g><g>\n",
       "<path d=\"M40 61h0.0\"/><path d=\"M242.0 61h0.0\"/><path d=\"M40.0 61a10 10 0 0 0 10 -10v-10a10 10 0 0 1 10 -10\"/><g>\n",
       "<path d=\"M60.0 31h0.0\"/><path d=\"M222.0 31h0.0\"/><g class=\"non-terminal\">\n",
       "<path d=\"M60.0 31h0.0\"/><path d=\"M122.5 31h0.0\"/><rect height=\"22\" width=\"62.5\" x=\"60.0\" y=\"20\"/><text x=\"91.25\" y=\"35\">digit</text></g><path d=\"M122.5 31h10\"/><path d=\"M132.5 31h10\"/><g class=\"non-terminal\">\n",
       "<path d=\"M142.5 31h0.0\"/><path d=\"M222.0 31h0.0\"/><rect height=\"22\" width=\"79.5\" x=\"142.5\" y=\"20\"/><text x=\"182.25\" y=\"35\">integer</text></g></g><path d=\"M222.0 31a10 10 0 0 1 10 10v10a10 10 0 0 0 10 10\"/><path d=\"M40.0 61h20\"/><g>\n",
       "<path d=\"M60.0 61h49.75\"/><path d=\"M172.25 61h49.75\"/><g class=\"non-terminal\">\n",
       "<path d=\"M109.75 61h0.0\"/><path d=\"M172.25 61h0.0\"/><rect height=\"22\" width=\"62.5\" x=\"109.75\" y=\"50\"/><text x=\"141.0\" y=\"65\">digit</text></g></g><path d=\"M222.0 61h20\"/></g><path d=\"M 242.0 61 h 20 m -10 -10 v 20 m 10 -20 v 20\"/></g></svg>"
      ],
      "text/plain": [
       "<IPython.core.display.SVG object>"
      ]
     },
     "metadata": {},
     "output_type": "display_data"
    },
    {
     "name": "stdout",
     "output_type": "stream",
     "text": [
      "digit\n"
     ]
    },
    {
     "data": {
      "image/svg+xml": [
       "<svg xmlns=\"http://www.w3.org/2000/svg\" class=\"railroad-diagram\" height=\"109\" viewBox=\"0 0 522.5 109\" width=\"522.5\">\n",
       "<g transform=\"translate(.5 .5)\">\n",
       "<style>/* <![CDATA[ */\n",
       "    svg.railroad-diagram {\n",
       "    }\n",
       "    svg.railroad-diagram path {\n",
       "        stroke-width:3;\n",
       "        stroke:black;\n",
       "        fill:white;\n",
       "    }\n",
       "    svg.railroad-diagram text {\n",
       "        font:14px \"Fira Mono\", monospace;\n",
       "        text-anchor:middle;\n",
       "    }\n",
       "    svg.railroad-diagram text.label{\n",
       "        text-anchor:start;\n",
       "    }\n",
       "    svg.railroad-diagram text.comment{\n",
       "        font:italic 12px \"Fira Mono\", monospace;\n",
       "    }\n",
       "    svg.railroad-diagram rect{\n",
       "        stroke-width:2;\n",
       "        stroke:black;\n",
       "        fill:mistyrose;\n",
       "    }\n",
       "\n",
       "/* ]]> */\n",
       "</style><g>\n",
       "<path d=\"M20 59v20m10 -20v20m-10 -10h20\"/></g><g>\n",
       "<path d=\"M40 69h0.0\"/><path d=\"M482.5 69h0.0\"/><path d=\"M40.0 69a10 10 0 0 0 10 -10v-29a10 10 0 0 1 10 -10h324.0\"/><path d=\"M138.5 89h324.0a10 10 0 0 0 10 -10v0a10 10 0 0 1 10 -10\"/><path d=\"M40.0 69h10\"/><g>\n",
       "<path d=\"M50.0 69h0.0\"/><path d=\"M118.5 69h0.0\"/><path d=\"M50.0 69a10 10 0 0 0 10 -10v-10a10 10 0 0 1 10 -10\"/><g>\n",
       "<path d=\"M70.0 39h0.0\"/><path d=\"M98.5 39h0.0\"/><g class=\"terminal\">\n",
       "<path d=\"M70.0 39h0.0\"/><path d=\"M98.5 39h0.0\"/><rect height=\"22\" rx=\"10\" ry=\"10\" width=\"28.5\" x=\"70.0\" y=\"28\"/><text x=\"84.25\" y=\"43\">0</text></g></g><path d=\"M98.5 39a10 10 0 0 1 10 10v10a10 10 0 0 0 10 10\"/><path d=\"M50.0 69h20\"/><g>\n",
       "<path d=\"M70.0 69h0.0\"/><path d=\"M98.5 69h0.0\"/><g class=\"terminal\">\n",
       "<path d=\"M70.0 69h0.0\"/><path d=\"M98.5 69h0.0\"/><rect height=\"22\" rx=\"10\" ry=\"10\" width=\"28.5\" x=\"70.0\" y=\"58\"/><text x=\"84.25\" y=\"73\">1</text></g></g><path d=\"M98.5 69h20\"/></g><path d=\"M118.5 69a10 10 0 0 1 10 10v0a10 10 0 0 0 10 10\"/><path d=\"M118.5 20a10 10 0 0 1 10 10v29a10 10 0 0 0 10 10\"/><g>\n",
       "<path d=\"M138.5 69h0.0\"/><path d=\"M207.0 69h0.0\"/><path d=\"M138.5 69a10 10 0 0 0 10 -10v-10a10 10 0 0 1 10 -10\"/><g>\n",
       "<path d=\"M158.5 39h0.0\"/><path d=\"M187.0 39h0.0\"/><g class=\"terminal\">\n",
       "<path d=\"M158.5 39h0.0\"/><path d=\"M187.0 39h0.0\"/><rect height=\"22\" rx=\"10\" ry=\"10\" width=\"28.5\" x=\"158.5\" y=\"28\"/><text x=\"172.75\" y=\"43\">2</text></g></g><path d=\"M187.0 39a10 10 0 0 1 10 10v10a10 10 0 0 0 10 10\"/><path d=\"M138.5 69h20\"/><g>\n",
       "<path d=\"M158.5 69h0.0\"/><path d=\"M187.0 69h0.0\"/><g class=\"terminal\">\n",
       "<path d=\"M158.5 69h0.0\"/><path d=\"M187.0 69h0.0\"/><rect height=\"22\" rx=\"10\" ry=\"10\" width=\"28.5\" x=\"158.5\" y=\"58\"/><text x=\"172.75\" y=\"73\">3</text></g></g><path d=\"M187.0 69h20\"/></g><path d=\"M207.0 69a10 10 0 0 1 10 10v0a10 10 0 0 0 10 10\"/><path d=\"M207.0 20a10 10 0 0 1 10 10v29a10 10 0 0 0 10 10\"/><g>\n",
       "<path d=\"M227.0 69h0.0\"/><path d=\"M295.5 69h0.0\"/><path d=\"M227.0 69a10 10 0 0 0 10 -10v-10a10 10 0 0 1 10 -10\"/><g>\n",
       "<path d=\"M247.0 39h0.0\"/><path d=\"M275.5 39h0.0\"/><g class=\"terminal\">\n",
       "<path d=\"M247.0 39h0.0\"/><path d=\"M275.5 39h0.0\"/><rect height=\"22\" rx=\"10\" ry=\"10\" width=\"28.5\" x=\"247.0\" y=\"28\"/><text x=\"261.25\" y=\"43\">4</text></g></g><path d=\"M275.5 39a10 10 0 0 1 10 10v10a10 10 0 0 0 10 10\"/><path d=\"M227.0 69h20\"/><g>\n",
       "<path d=\"M247.0 69h0.0\"/><path d=\"M275.5 69h0.0\"/><g class=\"terminal\">\n",
       "<path d=\"M247.0 69h0.0\"/><path d=\"M275.5 69h0.0\"/><rect height=\"22\" rx=\"10\" ry=\"10\" width=\"28.5\" x=\"247.0\" y=\"58\"/><text x=\"261.25\" y=\"73\">5</text></g></g><path d=\"M275.5 69h20\"/></g><path d=\"M295.5 69a10 10 0 0 1 10 10v0a10 10 0 0 0 10 10\"/><path d=\"M295.5 20a10 10 0 0 1 10 10v29a10 10 0 0 0 10 10\"/><g>\n",
       "<path d=\"M315.5 69h0.0\"/><path d=\"M384.0 69h0.0\"/><path d=\"M315.5 69a10 10 0 0 0 10 -10v-10a10 10 0 0 1 10 -10\"/><g>\n",
       "<path d=\"M335.5 39h0.0\"/><path d=\"M364.0 39h0.0\"/><g class=\"terminal\">\n",
       "<path d=\"M335.5 39h0.0\"/><path d=\"M364.0 39h0.0\"/><rect height=\"22\" rx=\"10\" ry=\"10\" width=\"28.5\" x=\"335.5\" y=\"28\"/><text x=\"349.75\" y=\"43\">6</text></g></g><path d=\"M364.0 39a10 10 0 0 1 10 10v10a10 10 0 0 0 10 10\"/><path d=\"M315.5 69h20\"/><g>\n",
       "<path d=\"M335.5 69h0.0\"/><path d=\"M364.0 69h0.0\"/><g class=\"terminal\">\n",
       "<path d=\"M335.5 69h0.0\"/><path d=\"M364.0 69h0.0\"/><rect height=\"22\" rx=\"10\" ry=\"10\" width=\"28.5\" x=\"335.5\" y=\"58\"/><text x=\"349.75\" y=\"73\">7</text></g></g><path d=\"M364.0 69h20\"/></g><path d=\"M384.0 69a10 10 0 0 1 10 10v0a10 10 0 0 0 10 10\"/><path d=\"M384.0 20a10 10 0 0 1 10 10v29a10 10 0 0 0 10 10\"/><g>\n",
       "<path d=\"M404.0 69h0.0\"/><path d=\"M472.5 69h0.0\"/><path d=\"M404.0 69a10 10 0 0 0 10 -10v-10a10 10 0 0 1 10 -10\"/><g>\n",
       "<path d=\"M424.0 39h0.0\"/><path d=\"M452.5 39h0.0\"/><g class=\"terminal\">\n",
       "<path d=\"M424.0 39h0.0\"/><path d=\"M452.5 39h0.0\"/><rect height=\"22\" rx=\"10\" ry=\"10\" width=\"28.5\" x=\"424.0\" y=\"28\"/><text x=\"438.25\" y=\"43\">8</text></g></g><path d=\"M452.5 39a10 10 0 0 1 10 10v10a10 10 0 0 0 10 10\"/><path d=\"M404.0 69h20\"/><g>\n",
       "<path d=\"M424.0 69h0.0\"/><path d=\"M452.5 69h0.0\"/><g class=\"terminal\">\n",
       "<path d=\"M424.0 69h0.0\"/><path d=\"M452.5 69h0.0\"/><rect height=\"22\" rx=\"10\" ry=\"10\" width=\"28.5\" x=\"424.0\" y=\"58\"/><text x=\"438.25\" y=\"73\">9</text></g></g><path d=\"M452.5 69h20\"/></g><path d=\"M472.5 69h10\"/></g><path d=\"M 482.5 69 h 20 m -10 -10 v 20 m 10 -20 v 20\"/></g></svg>"
      ],
      "text/plain": [
       "<IPython.core.display.SVG object>"
      ]
     },
     "metadata": {},
     "output_type": "display_data"
    },
    {
     "name": "stdout",
     "output_type": "stream",
     "text": [
      "lt\n"
     ]
    },
    {
     "data": {
      "image/svg+xml": [
       "<svg xmlns=\"http://www.w3.org/2000/svg\" class=\"railroad-diagram\" height=\"62\" viewBox=\"0 0 148.5 62\" width=\"148.5\">\n",
       "<g transform=\"translate(.5 .5)\">\n",
       "<style>/* <![CDATA[ */\n",
       "    svg.railroad-diagram {\n",
       "    }\n",
       "    svg.railroad-diagram path {\n",
       "        stroke-width:3;\n",
       "        stroke:black;\n",
       "        fill:white;\n",
       "    }\n",
       "    svg.railroad-diagram text {\n",
       "        font:14px \"Fira Mono\", monospace;\n",
       "        text-anchor:middle;\n",
       "    }\n",
       "    svg.railroad-diagram text.label{\n",
       "        text-anchor:start;\n",
       "    }\n",
       "    svg.railroad-diagram text.comment{\n",
       "        font:italic 12px \"Fira Mono\", monospace;\n",
       "    }\n",
       "    svg.railroad-diagram rect{\n",
       "        stroke-width:2;\n",
       "        stroke:black;\n",
       "        fill:mistyrose;\n",
       "    }\n",
       "\n",
       "/* ]]> */\n",
       "</style><g>\n",
       "<path d=\"M20 21v20m10 -20v20m-10 -10h20\"/></g><g>\n",
       "<path d=\"M40 31h0.0\"/><path d=\"M108.5 31h0.0\"/><path d=\"M40.0 31h20\"/><g>\n",
       "<path d=\"M60.0 31h0.0\"/><path d=\"M88.5 31h0.0\"/><g class=\"terminal\">\n",
       "<path d=\"M60.0 31h0.0\"/><path d=\"M88.5 31h0.0\"/><rect height=\"22\" rx=\"10\" ry=\"10\" width=\"28.5\" x=\"60.0\" y=\"20\"/><text x=\"74.25\" y=\"35\">&lt;</text></g></g><path d=\"M88.5 31h20\"/></g><path d=\"M 108.5 31 h 20 m -10 -10 v 20 m 10 -20 v 20\"/></g></svg>"
      ],
      "text/plain": [
       "<IPython.core.display.SVG object>"
      ]
     },
     "metadata": {},
     "output_type": "display_data"
    },
    {
     "name": "stdout",
     "output_type": "stream",
     "text": [
      "gt\n"
     ]
    },
    {
     "data": {
      "image/svg+xml": [
       "<svg xmlns=\"http://www.w3.org/2000/svg\" class=\"railroad-diagram\" height=\"62\" viewBox=\"0 0 148.5 62\" width=\"148.5\">\n",
       "<g transform=\"translate(.5 .5)\">\n",
       "<style>/* <![CDATA[ */\n",
       "    svg.railroad-diagram {\n",
       "    }\n",
       "    svg.railroad-diagram path {\n",
       "        stroke-width:3;\n",
       "        stroke:black;\n",
       "        fill:white;\n",
       "    }\n",
       "    svg.railroad-diagram text {\n",
       "        font:14px \"Fira Mono\", monospace;\n",
       "        text-anchor:middle;\n",
       "    }\n",
       "    svg.railroad-diagram text.label{\n",
       "        text-anchor:start;\n",
       "    }\n",
       "    svg.railroad-diagram text.comment{\n",
       "        font:italic 12px \"Fira Mono\", monospace;\n",
       "    }\n",
       "    svg.railroad-diagram rect{\n",
       "        stroke-width:2;\n",
       "        stroke:black;\n",
       "        fill:mistyrose;\n",
       "    }\n",
       "\n",
       "/* ]]> */\n",
       "</style><g>\n",
       "<path d=\"M20 21v20m10 -20v20m-10 -10h20\"/></g><g>\n",
       "<path d=\"M40 31h0.0\"/><path d=\"M108.5 31h0.0\"/><path d=\"M40.0 31h20\"/><g>\n",
       "<path d=\"M60.0 31h0.0\"/><path d=\"M88.5 31h0.0\"/><g class=\"terminal\">\n",
       "<path d=\"M60.0 31h0.0\"/><path d=\"M88.5 31h0.0\"/><rect height=\"22\" rx=\"10\" ry=\"10\" width=\"28.5\" x=\"60.0\" y=\"20\"/><text x=\"74.25\" y=\"35\">&gt;</text></g></g><path d=\"M88.5 31h20\"/></g><path d=\"M 108.5 31 h 20 m -10 -10 v 20 m 10 -20 v 20\"/></g></svg>"
      ],
      "text/plain": [
       "<IPython.core.display.SVG object>"
      ]
     },
     "metadata": {},
     "output_type": "display_data"
    }
   ],
   "source": [
    "syntax_diagram(A3_GRAMMAR)"
   ]
  },
  {
   "cell_type": "code",
   "execution_count": 127,
   "metadata": {
    "execution": {
     "iopub.execute_input": "2023-01-07T14:16:18.708118Z",
     "iopub.status.busy": "2023-01-07T14:16:18.707790Z",
     "iopub.status.idle": "2023-01-07T14:16:18.709134Z",
     "shell.execute_reply": "2023-01-07T14:16:18.709331Z"
    },
    "slideshow": {
     "slide_type": "subslide"
    }
   },
   "outputs": [],
   "source": [
    "mystring = '(1+24)=33'\n",
    "parser = EarleyParser(A3_GRAMMAR)\n",
    "for tree in parser.parse(mystring):\n",
    "    assert tree_to_string(tree) == mystring\n",
    "    display_tree(tree)"
   ]
  },
  {
   "cell_type": "markdown",
   "metadata": {
    "slideshow": {
     "slide_type": "fragment"
    }
   },
   "source": [
    "We now have a complete parser that can parse almost arbitrary *CFG*. There remains a small corner to fix -- the case of epsilon rules as we will see later."
   ]
  },
  {
   "cell_type": "markdown",
   "metadata": {
    "slideshow": {
     "slide_type": "skip"
    }
   },
   "source": [
    "#### Ambiguous Parsing"
   ]
  },
  {
   "cell_type": "markdown",
   "metadata": {
    "slideshow": {
     "slide_type": "skip"
    }
   },
   "source": [
    "Ambiguous grammars are grammars that can produce multiple derivation trees for some given string. For example, the `A3_GRAMMAR` can parse `1+2+3` in two different ways – `[1+2]+3` and `1+[2+3]`.\n",
    "\n",
    "Extracting a single tree might be reasonable for unambiguous parses. However, what if the given grammar produces ambiguity when given a string? We need to extract all derivation trees in that case. We enhance our `extract_trees()` method to extract multiple derivation trees."
   ]
  },
  {
   "cell_type": "code",
   "execution_count": 128,
   "metadata": {
    "execution": {
     "iopub.execute_input": "2023-01-07T14:16:18.711601Z",
     "iopub.status.busy": "2023-01-07T14:16:18.711108Z",
     "iopub.status.idle": "2023-01-07T14:16:18.712460Z",
     "shell.execute_reply": "2023-01-07T14:16:18.712649Z"
    },
    "slideshow": {
     "slide_type": "skip"
    }
   },
   "outputs": [],
   "source": [
    "import itertools as I"
   ]
  },
  {
   "cell_type": "code",
   "execution_count": 129,
   "metadata": {
    "execution": {
     "iopub.execute_input": "2023-01-07T14:16:18.714997Z",
     "iopub.status.busy": "2023-01-07T14:16:18.714722Z",
     "iopub.status.idle": "2023-01-07T14:16:18.715987Z",
     "shell.execute_reply": "2023-01-07T14:16:18.716182Z"
    },
    "slideshow": {
     "slide_type": "subslide"
    }
   },
   "outputs": [],
   "source": [
    "class EarleyParser(EarleyParser):\n",
    "    def extract_trees(self, forest_node):\n",
    "        name, paths = forest_node\n",
    "        if not paths:\n",
    "            yield (name, [])\n",
    "\n",
    "        for path in paths:\n",
    "            ptrees = [self.extract_trees(self.forest(*p)) for p in path]\n",
    "            for p in I.product(*ptrees):\n",
    "                yield (name, p)"
   ]
  },
  {
   "cell_type": "markdown",
   "metadata": {
    "slideshow": {
     "slide_type": "skip"
    }
   },
   "source": [
    "As before, we verify that everything works."
   ]
  },
  {
   "cell_type": "code",
   "execution_count": 130,
   "metadata": {
    "execution": {
     "iopub.execute_input": "2023-01-07T14:16:18.718673Z",
     "iopub.status.busy": "2023-01-07T14:16:18.718389Z",
     "iopub.status.idle": "2023-01-07T14:16:18.719539Z",
     "shell.execute_reply": "2023-01-07T14:16:18.719735Z"
    },
    "slideshow": {
     "slide_type": "skip"
    }
   },
   "outputs": [],
   "source": [
    "mystring = '1+2'\n",
    "parser = EarleyParser(A1_GRAMMAR)\n",
    "for tree in parser.parse(mystring):\n",
    "    assert mystring == tree_to_string(tree)\n",
    "    display_tree(tree)"
   ]
  },
  {
   "cell_type": "markdown",
   "metadata": {
    "slideshow": {
     "slide_type": "fragment"
    }
   },
   "source": [
    "One can also use a `GrammarFuzzer` to verify that everything works."
   ]
  },
  {
   "cell_type": "code",
   "execution_count": 131,
   "metadata": {
    "execution": {
     "iopub.execute_input": "2023-01-07T14:16:18.735751Z",
     "iopub.status.busy": "2023-01-07T14:16:18.723205Z",
     "iopub.status.idle": "2023-01-07T14:16:20.150992Z",
     "shell.execute_reply": "2023-01-07T14:16:20.151208Z"
    },
    "slideshow": {
     "slide_type": "subslide"
    }
   },
   "outputs": [
    {
     "name": "stdout",
     "output_type": "stream",
     "text": [
      "0 045+3+2-9+7-7-5-1-449\n",
      "1 0+9+5-2+1-8+4-3+7+2\n",
      "2 76413\n",
      "3 9339\n",
      "4 62\n"
     ]
    }
   ],
   "source": [
    "gf = GrammarFuzzer(A1_GRAMMAR)\n",
    "for i in range(5):\n",
    "    s = gf.fuzz()\n",
    "    print(i, s)\n",
    "    for tree in parser.parse(s):\n",
    "        assert tree_to_string(tree) == s"
   ]
  },
  {
   "cell_type": "markdown",
   "metadata": {
    "slideshow": {
     "slide_type": "skip"
    }
   },
   "source": [
    "#### The Aycock Epsilon Fix\n",
    "\n",
    "While parsing, one often requires to know whether a given nonterminal can derive an empty string. For example, in the following grammar A can derive an empty string, while B can't. The nonterminals that can derive an empty string are called _nullable_ nonterminals. For example, in the below grammar `E_GRAMMAR_1`,  `<A>` is _nullable_, and since `<A>` is one of the alternatives of `<start>`, `<start>` is also _nullable_. But `<B>` is not _nullable_."
   ]
  },
  {
   "cell_type": "code",
   "execution_count": 132,
   "metadata": {
    "execution": {
     "iopub.execute_input": "2023-01-07T14:16:20.153362Z",
     "iopub.status.busy": "2023-01-07T14:16:20.153060Z",
     "iopub.status.idle": "2023-01-07T14:16:20.154227Z",
     "shell.execute_reply": "2023-01-07T14:16:20.154415Z"
    },
    "slideshow": {
     "slide_type": "skip"
    }
   },
   "outputs": [],
   "source": [
    "E_GRAMMAR_1: Grammar = {\n",
    "    '<start>': ['<A>', '<B>'],\n",
    "    '<A>': ['a', ''],\n",
    "    '<B>': ['b']\n",
    "}"
   ]
  },
  {
   "cell_type": "markdown",
   "metadata": {
    "slideshow": {
     "slide_type": "notes"
    }
   },
   "source": [
    "One of the problems with the original Earley implementation is that it does not handle rules that can derive empty strings very well. For example, the given grammar should match `a`"
   ]
  },
  {
   "cell_type": "code",
   "execution_count": 133,
   "metadata": {
    "execution": {
     "iopub.execute_input": "2023-01-07T14:16:20.156373Z",
     "iopub.status.busy": "2023-01-07T14:16:20.156021Z",
     "iopub.status.idle": "2023-01-07T14:16:20.157251Z",
     "shell.execute_reply": "2023-01-07T14:16:20.157444Z"
    },
    "slideshow": {
     "slide_type": "subslide"
    }
   },
   "outputs": [],
   "source": [
    "EPSILON = ''\n",
    "E_GRAMMAR: Grammar = {\n",
    "    '<start>': ['<S>'],\n",
    "    '<S>': ['<A><A><A><A>'],\n",
    "    '<A>': ['a', '<E>'],\n",
    "    '<E>': [EPSILON]\n",
    "}"
   ]
  },
  {
   "cell_type": "code",
   "execution_count": 134,
   "metadata": {
    "execution": {
     "iopub.execute_input": "2023-01-07T14:16:20.159787Z",
     "iopub.status.busy": "2023-01-07T14:16:20.159505Z",
     "iopub.status.idle": "2023-01-07T14:16:20.164151Z",
     "shell.execute_reply": "2023-01-07T14:16:20.164463Z"
    },
    "slideshow": {
     "slide_type": "subslide"
    }
   },
   "outputs": [
    {
     "name": "stdout",
     "output_type": "stream",
     "text": [
      "start\n"
     ]
    },
    {
     "data": {
      "image/svg+xml": [
       "<svg xmlns=\"http://www.w3.org/2000/svg\" class=\"railroad-diagram\" height=\"62\" viewBox=\"0 0 148.5 62\" width=\"148.5\">\n",
       "<g transform=\"translate(.5 .5)\">\n",
       "<style>/* <![CDATA[ */\n",
       "    svg.railroad-diagram {\n",
       "    }\n",
       "    svg.railroad-diagram path {\n",
       "        stroke-width:3;\n",
       "        stroke:black;\n",
       "        fill:white;\n",
       "    }\n",
       "    svg.railroad-diagram text {\n",
       "        font:14px \"Fira Mono\", monospace;\n",
       "        text-anchor:middle;\n",
       "    }\n",
       "    svg.railroad-diagram text.label{\n",
       "        text-anchor:start;\n",
       "    }\n",
       "    svg.railroad-diagram text.comment{\n",
       "        font:italic 12px \"Fira Mono\", monospace;\n",
       "    }\n",
       "    svg.railroad-diagram rect{\n",
       "        stroke-width:2;\n",
       "        stroke:black;\n",
       "        fill:mistyrose;\n",
       "    }\n",
       "\n",
       "/* ]]> */\n",
       "</style><g>\n",
       "<path d=\"M20 21v20m10 -20v20m-10 -10h20\"/></g><g>\n",
       "<path d=\"M40 31h0.0\"/><path d=\"M108.5 31h0.0\"/><path d=\"M40.0 31h20\"/><g>\n",
       "<path d=\"M60.0 31h0.0\"/><path d=\"M88.5 31h0.0\"/><g class=\"non-terminal\">\n",
       "<path d=\"M60.0 31h0.0\"/><path d=\"M88.5 31h0.0\"/><rect height=\"22\" width=\"28.5\" x=\"60.0\" y=\"20\"/><text x=\"74.25\" y=\"35\">S</text></g></g><path d=\"M88.5 31h20\"/></g><path d=\"M 108.5 31 h 20 m -10 -10 v 20 m 10 -20 v 20\"/></g></svg>"
      ],
      "text/plain": [
       "<IPython.core.display.SVG object>"
      ]
     },
     "metadata": {},
     "output_type": "display_data"
    },
    {
     "name": "stdout",
     "output_type": "stream",
     "text": [
      "S\n"
     ]
    },
    {
     "data": {
      "image/svg+xml": [
       "<svg xmlns=\"http://www.w3.org/2000/svg\" class=\"railroad-diagram\" height=\"62\" viewBox=\"0 0 294.0 62\" width=\"294.0\">\n",
       "<g transform=\"translate(.5 .5)\">\n",
       "<style>/* <![CDATA[ */\n",
       "    svg.railroad-diagram {\n",
       "    }\n",
       "    svg.railroad-diagram path {\n",
       "        stroke-width:3;\n",
       "        stroke:black;\n",
       "        fill:white;\n",
       "    }\n",
       "    svg.railroad-diagram text {\n",
       "        font:14px \"Fira Mono\", monospace;\n",
       "        text-anchor:middle;\n",
       "    }\n",
       "    svg.railroad-diagram text.label{\n",
       "        text-anchor:start;\n",
       "    }\n",
       "    svg.railroad-diagram text.comment{\n",
       "        font:italic 12px \"Fira Mono\", monospace;\n",
       "    }\n",
       "    svg.railroad-diagram rect{\n",
       "        stroke-width:2;\n",
       "        stroke:black;\n",
       "        fill:mistyrose;\n",
       "    }\n",
       "\n",
       "/* ]]> */\n",
       "</style><g>\n",
       "<path d=\"M20 21v20m10 -20v20m-10 -10h20\"/></g><g>\n",
       "<path d=\"M40 31h0.0\"/><path d=\"M254.0 31h0.0\"/><path d=\"M40.0 31h20\"/><g>\n",
       "<path d=\"M60.0 31h0.0\"/><path d=\"M234.0 31h0.0\"/><g class=\"non-terminal\">\n",
       "<path d=\"M60.0 31h0.0\"/><path d=\"M88.5 31h0.0\"/><rect height=\"22\" width=\"28.5\" x=\"60.0\" y=\"20\"/><text x=\"74.25\" y=\"35\">A</text></g><path d=\"M88.5 31h10\"/><path d=\"M98.5 31h10\"/><g class=\"non-terminal\">\n",
       "<path d=\"M108.5 31h0.0\"/><path d=\"M137.0 31h0.0\"/><rect height=\"22\" width=\"28.5\" x=\"108.5\" y=\"20\"/><text x=\"122.75\" y=\"35\">A</text></g><path d=\"M137.0 31h10\"/><path d=\"M147.0 31h10\"/><g class=\"non-terminal\">\n",
       "<path d=\"M157.0 31h0.0\"/><path d=\"M185.5 31h0.0\"/><rect height=\"22\" width=\"28.5\" x=\"157.0\" y=\"20\"/><text x=\"171.25\" y=\"35\">A</text></g><path d=\"M185.5 31h10\"/><path d=\"M195.5 31h10\"/><g class=\"non-terminal\">\n",
       "<path d=\"M205.5 31h0.0\"/><path d=\"M234.0 31h0.0\"/><rect height=\"22\" width=\"28.5\" x=\"205.5\" y=\"20\"/><text x=\"219.75\" y=\"35\">A</text></g></g><path d=\"M234.0 31h20\"/></g><path d=\"M 254.0 31 h 20 m -10 -10 v 20 m 10 -20 v 20\"/></g></svg>"
      ],
      "text/plain": [
       "<IPython.core.display.SVG object>"
      ]
     },
     "metadata": {},
     "output_type": "display_data"
    },
    {
     "name": "stdout",
     "output_type": "stream",
     "text": [
      "A\n"
     ]
    },
    {
     "data": {
      "image/svg+xml": [
       "<svg xmlns=\"http://www.w3.org/2000/svg\" class=\"railroad-diagram\" height=\"92\" viewBox=\"0 0 148.5 92\" width=\"148.5\">\n",
       "<g transform=\"translate(.5 .5)\">\n",
       "<style>/* <![CDATA[ */\n",
       "    svg.railroad-diagram {\n",
       "    }\n",
       "    svg.railroad-diagram path {\n",
       "        stroke-width:3;\n",
       "        stroke:black;\n",
       "        fill:white;\n",
       "    }\n",
       "    svg.railroad-diagram text {\n",
       "        font:14px \"Fira Mono\", monospace;\n",
       "        text-anchor:middle;\n",
       "    }\n",
       "    svg.railroad-diagram text.label{\n",
       "        text-anchor:start;\n",
       "    }\n",
       "    svg.railroad-diagram text.comment{\n",
       "        font:italic 12px \"Fira Mono\", monospace;\n",
       "    }\n",
       "    svg.railroad-diagram rect{\n",
       "        stroke-width:2;\n",
       "        stroke:black;\n",
       "        fill:mistyrose;\n",
       "    }\n",
       "\n",
       "/* ]]> */\n",
       "</style><g>\n",
       "<path d=\"M20 51v20m10 -20v20m-10 -10h20\"/></g><g>\n",
       "<path d=\"M40 61h0.0\"/><path d=\"M108.5 61h0.0\"/><path d=\"M40.0 61a10 10 0 0 0 10 -10v-10a10 10 0 0 1 10 -10\"/><g>\n",
       "<path d=\"M60.0 31h0.0\"/><path d=\"M88.5 31h0.0\"/><g class=\"terminal\">\n",
       "<path d=\"M60.0 31h0.0\"/><path d=\"M88.5 31h0.0\"/><rect height=\"22\" rx=\"10\" ry=\"10\" width=\"28.5\" x=\"60.0\" y=\"20\"/><text x=\"74.25\" y=\"35\">a</text></g></g><path d=\"M88.5 31a10 10 0 0 1 10 10v10a10 10 0 0 0 10 10\"/><path d=\"M40.0 61h20\"/><g>\n",
       "<path d=\"M60.0 61h0.0\"/><path d=\"M88.5 61h0.0\"/><g class=\"non-terminal\">\n",
       "<path d=\"M60.0 61h0.0\"/><path d=\"M88.5 61h0.0\"/><rect height=\"22\" width=\"28.5\" x=\"60.0\" y=\"50\"/><text x=\"74.25\" y=\"65\">E</text></g></g><path d=\"M88.5 61h20\"/></g><path d=\"M 108.5 61 h 20 m -10 -10 v 20 m 10 -20 v 20\"/></g></svg>"
      ],
      "text/plain": [
       "<IPython.core.display.SVG object>"
      ]
     },
     "metadata": {},
     "output_type": "display_data"
    },
    {
     "name": "stdout",
     "output_type": "stream",
     "text": [
      "E\n"
     ]
    },
    {
     "data": {
      "image/svg+xml": [
       "<svg xmlns=\"http://www.w3.org/2000/svg\" class=\"railroad-diagram\" height=\"62\" viewBox=\"0 0 140.0 62\" width=\"140.0\">\n",
       "<g transform=\"translate(.5 .5)\">\n",
       "<style>/* <![CDATA[ */\n",
       "    svg.railroad-diagram {\n",
       "    }\n",
       "    svg.railroad-diagram path {\n",
       "        stroke-width:3;\n",
       "        stroke:black;\n",
       "        fill:white;\n",
       "    }\n",
       "    svg.railroad-diagram text {\n",
       "        font:14px \"Fira Mono\", monospace;\n",
       "        text-anchor:middle;\n",
       "    }\n",
       "    svg.railroad-diagram text.label{\n",
       "        text-anchor:start;\n",
       "    }\n",
       "    svg.railroad-diagram text.comment{\n",
       "        font:italic 12px \"Fira Mono\", monospace;\n",
       "    }\n",
       "    svg.railroad-diagram rect{\n",
       "        stroke-width:2;\n",
       "        stroke:black;\n",
       "        fill:mistyrose;\n",
       "    }\n",
       "\n",
       "/* ]]> */\n",
       "</style><g>\n",
       "<path d=\"M20 21v20m10 -20v20m-10 -10h20\"/></g><g>\n",
       "<path d=\"M40 31h0.0\"/><path d=\"M100.0 31h0.0\"/><path d=\"M40.0 31h20\"/><g>\n",
       "<path d=\"M60.0 31h0.0\"/><path d=\"M80.0 31h0.0\"/><g class=\"terminal\">\n",
       "<path d=\"M60.0 31h0.0\"/><path d=\"M80.0 31h0.0\"/><rect height=\"22\" rx=\"10\" ry=\"10\" width=\"20.0\" x=\"60.0\" y=\"20\"/><text x=\"70.0\" y=\"35\"/></g></g><path d=\"M80.0 31h20\"/></g><path d=\"M 100.0 31 h 20 m -10 -10 v 20 m 10 -20 v 20\"/></g></svg>"
      ],
      "text/plain": [
       "<IPython.core.display.SVG object>"
      ]
     },
     "metadata": {},
     "output_type": "display_data"
    }
   ],
   "source": [
    "syntax_diagram(E_GRAMMAR)"
   ]
  },
  {
   "cell_type": "code",
   "execution_count": 135,
   "metadata": {
    "execution": {
     "iopub.execute_input": "2023-01-07T14:16:20.166351Z",
     "iopub.status.busy": "2023-01-07T14:16:20.165690Z",
     "iopub.status.idle": "2023-01-07T14:16:20.167569Z",
     "shell.execute_reply": "2023-01-07T14:16:20.167824Z"
    },
    "slideshow": {
     "slide_type": "subslide"
    }
   },
   "outputs": [],
   "source": [
    "mystring = 'a'\n",
    "parser = EarleyParser(E_GRAMMAR)\n",
    "with ExpectError():\n",
    "    trees = parser.parse(mystring)"
   ]
  },
  {
   "cell_type": "markdown",
   "metadata": {
    "slideshow": {
     "slide_type": "skip"
    }
   },
   "source": [
    "Aycock et al.\\cite{Aycock2002} suggests a simple fix. Their idea is to pre-compute the `nullable` set and use it to advance the `nullable` states. However, before we do that, we need to compute the `nullable` set. The `nullable` set consists of all nonterminals that can derive an empty string."
   ]
  },
  {
   "cell_type": "markdown",
   "metadata": {
    "slideshow": {
     "slide_type": "skip"
    }
   },
   "source": [
    "Computing the `nullable` set requires expanding each production rule in the grammar iteratively and inspecting whether a given rule can derive the empty string. Each iteration needs to take into account new terminals that have been found to be `nullable`. The procedure stops when we obtain a stable result. This procedure can be abstracted into a more general method `fixpoint`."
   ]
  },
  {
   "cell_type": "markdown",
   "metadata": {
    "slideshow": {
     "slide_type": "subslide"
    }
   },
   "source": [
    "##### Fixpoint\n",
    "\n",
    "A `fixpoint` of a function is an element in the function's domain such that it is mapped to itself. For example, 1 is a `fixpoint` of square root because `squareroot(1) == 1`.\n",
    "\n",
    "(We use `str` rather than `hash` to check for equality in `fixpoint` because the data structure `set`, which we would like to use as an argument has a good string representation but is not hashable)."
   ]
  },
  {
   "cell_type": "code",
   "execution_count": 136,
   "metadata": {
    "execution": {
     "iopub.execute_input": "2023-01-07T14:16:20.169887Z",
     "iopub.status.busy": "2023-01-07T14:16:20.169602Z",
     "iopub.status.idle": "2023-01-07T14:16:20.170657Z",
     "shell.execute_reply": "2023-01-07T14:16:20.170885Z"
    },
    "slideshow": {
     "slide_type": "subslide"
    }
   },
   "outputs": [],
   "source": [
    "def fixpoint(f):\n",
    "    def helper(arg):\n",
    "        while True:\n",
    "            sarg = str(arg)\n",
    "            arg_ = f(arg)\n",
    "            if str(arg_) == sarg:\n",
    "                return arg\n",
    "            arg = arg_\n",
    "\n",
    "    return helper"
   ]
  },
  {
   "cell_type": "markdown",
   "metadata": {
    "slideshow": {
     "slide_type": "skip"
    }
   },
   "source": [
    "Remember `my_sqrt()` from [the first chapter](Intro_Testing.ipynb)? We can define `my_sqrt()` using fixpoint."
   ]
  },
  {
   "cell_type": "code",
   "execution_count": 137,
   "metadata": {
    "execution": {
     "iopub.execute_input": "2023-01-07T14:16:20.172813Z",
     "iopub.status.busy": "2023-01-07T14:16:20.172514Z",
     "iopub.status.idle": "2023-01-07T14:16:20.173845Z",
     "shell.execute_reply": "2023-01-07T14:16:20.173610Z"
    },
    "slideshow": {
     "slide_type": "subslide"
    }
   },
   "outputs": [],
   "source": [
    "def my_sqrt(x):\n",
    "    @fixpoint\n",
    "    def _my_sqrt(approx):\n",
    "        return (approx + x / approx) / 2\n",
    "\n",
    "    return _my_sqrt(1)"
   ]
  },
  {
   "cell_type": "code",
   "execution_count": 138,
   "metadata": {
    "execution": {
     "iopub.execute_input": "2023-01-07T14:16:20.175618Z",
     "iopub.status.busy": "2023-01-07T14:16:20.175304Z",
     "iopub.status.idle": "2023-01-07T14:16:20.176812Z",
     "shell.execute_reply": "2023-01-07T14:16:20.177000Z"
    },
    "slideshow": {
     "slide_type": "fragment"
    }
   },
   "outputs": [
    {
     "data": {
      "text/plain": [
       "1.414213562373095"
      ]
     },
     "execution_count": 138,
     "metadata": {},
     "output_type": "execute_result"
    }
   ],
   "source": [
    "my_sqrt(2)"
   ]
  },
  {
   "cell_type": "markdown",
   "metadata": {
    "slideshow": {
     "slide_type": "subslide"
    }
   },
   "source": [
    "##### Nullable\n",
    "\n",
    "Similarly, we can define `nullable` using `fixpoint`. We essentially provide the definition of a single intermediate step. That is, assuming that `nullables` contain the current `nullable` nonterminals, we iterate over the grammar looking for productions which are `nullable` -- that is, productions where the entire sequence can yield an empty string on some expansion."
   ]
  },
  {
   "cell_type": "markdown",
   "metadata": {
    "slideshow": {
     "slide_type": "skip"
    }
   },
   "source": [
    "We need to iterate over the different alternative expressions and their corresponding nonterminals. Hence we define a `rules()` method converts our dictionary representation to this pair format."
   ]
  },
  {
   "cell_type": "code",
   "execution_count": 139,
   "metadata": {
    "execution": {
     "iopub.execute_input": "2023-01-07T14:16:20.178832Z",
     "iopub.status.busy": "2023-01-07T14:16:20.178507Z",
     "iopub.status.idle": "2023-01-07T14:16:20.179928Z",
     "shell.execute_reply": "2023-01-07T14:16:20.180114Z"
    },
    "slideshow": {
     "slide_type": "skip"
    }
   },
   "outputs": [],
   "source": [
    "def rules(grammar):\n",
    "    return [(key, choice)\n",
    "            for key, choices in grammar.items()\n",
    "            for choice in choices]"
   ]
  },
  {
   "cell_type": "markdown",
   "metadata": {
    "slideshow": {
     "slide_type": "skip"
    }
   },
   "source": [
    "The `terminals()` method extracts all terminal symbols from a `canonical` grammar representation."
   ]
  },
  {
   "cell_type": "code",
   "execution_count": 140,
   "metadata": {
    "execution": {
     "iopub.execute_input": "2023-01-07T14:16:20.181973Z",
     "iopub.status.busy": "2023-01-07T14:16:20.181674Z",
     "iopub.status.idle": "2023-01-07T14:16:20.182994Z",
     "shell.execute_reply": "2023-01-07T14:16:20.183178Z"
    },
    "slideshow": {
     "slide_type": "skip"
    }
   },
   "outputs": [],
   "source": [
    "def terminals(grammar):\n",
    "    return set(token\n",
    "               for key, choice in rules(grammar)\n",
    "               for token in choice if token not in grammar)"
   ]
  },
  {
   "cell_type": "code",
   "execution_count": 141,
   "metadata": {
    "execution": {
     "iopub.execute_input": "2023-01-07T14:16:20.184825Z",
     "iopub.status.busy": "2023-01-07T14:16:20.184542Z",
     "iopub.status.idle": "2023-01-07T14:16:20.185828Z",
     "shell.execute_reply": "2023-01-07T14:16:20.186051Z"
    },
    "slideshow": {
     "slide_type": "subslide"
    }
   },
   "outputs": [],
   "source": [
    "def nullable_expr(expr, nullables):\n",
    "    return all(token in nullables for token in expr)"
   ]
  },
  {
   "cell_type": "code",
   "execution_count": 142,
   "metadata": {
    "execution": {
     "iopub.execute_input": "2023-01-07T14:16:20.188133Z",
     "iopub.status.busy": "2023-01-07T14:16:20.187831Z",
     "iopub.status.idle": "2023-01-07T14:16:20.188955Z",
     "shell.execute_reply": "2023-01-07T14:16:20.189186Z"
    },
    "slideshow": {
     "slide_type": "subslide"
    }
   },
   "outputs": [],
   "source": [
    "def nullable(grammar):\n",
    "    productions = rules(grammar)\n",
    "\n",
    "    @fixpoint\n",
    "    def nullable_(nullables):\n",
    "        for A, expr in productions:\n",
    "            if nullable_expr(expr, nullables):\n",
    "                nullables |= {A}\n",
    "        return (nullables)\n",
    "\n",
    "    return nullable_({EPSILON})"
   ]
  },
  {
   "cell_type": "code",
   "execution_count": 143,
   "metadata": {
    "execution": {
     "iopub.execute_input": "2023-01-07T14:16:20.191133Z",
     "iopub.status.busy": "2023-01-07T14:16:20.190822Z",
     "iopub.status.idle": "2023-01-07T14:16:20.192067Z",
     "shell.execute_reply": "2023-01-07T14:16:20.192290Z"
    },
    "slideshow": {
     "slide_type": "subslide"
    }
   },
   "outputs": [
    {
     "name": "stdout",
     "output_type": "stream",
     "text": [
      "E_GRAMMAR {'', '<A>', '<E>', '<S>', '<start>'}\n",
      "E_GRAMMAR_1 {'', '<A>', '<start>'}\n"
     ]
    }
   ],
   "source": [
    "for key, grammar in {\n",
    "        'E_GRAMMAR': E_GRAMMAR,\n",
    "        'E_GRAMMAR_1': E_GRAMMAR_1\n",
    "}.items():\n",
    "    print(key, nullable(canonical(grammar)))"
   ]
  },
  {
   "cell_type": "markdown",
   "metadata": {
    "slideshow": {
     "slide_type": "notes"
    }
   },
   "source": [
    "So, once we have the `nullable` set, all that we need to do is, after we have called `predict` on a state corresponding to a nonterminal, check if it is `nullable` and if it is, advance and add the state to the current column."
   ]
  },
  {
   "cell_type": "code",
   "execution_count": 144,
   "metadata": {
    "execution": {
     "iopub.execute_input": "2023-01-07T14:16:20.194646Z",
     "iopub.status.busy": "2023-01-07T14:16:20.194344Z",
     "iopub.status.idle": "2023-01-07T14:16:20.195620Z",
     "shell.execute_reply": "2023-01-07T14:16:20.195854Z"
    },
    "slideshow": {
     "slide_type": "subslide"
    }
   },
   "outputs": [],
   "source": [
    "class EarleyParser(EarleyParser):\n",
    "    def __init__(self, grammar, **kwargs):\n",
    "        super().__init__(grammar, **kwargs)\n",
    "        self.epsilon = nullable(self.cgrammar)\n",
    "\n",
    "    def predict(self, col, sym, state):\n",
    "        for alt in self.cgrammar[sym]:\n",
    "            col.add(State(sym, tuple(alt), 0, col))\n",
    "        if sym in self.epsilon:\n",
    "            col.add(state.advance())"
   ]
  },
  {
   "cell_type": "code",
   "execution_count": 145,
   "metadata": {
    "execution": {
     "iopub.execute_input": "2023-01-07T14:16:20.198297Z",
     "iopub.status.busy": "2023-01-07T14:16:20.198006Z",
     "iopub.status.idle": "2023-01-07T14:16:20.199458Z",
     "shell.execute_reply": "2023-01-07T14:16:20.199674Z"
    },
    "slideshow": {
     "slide_type": "subslide"
    }
   },
   "outputs": [],
   "source": [
    "mystring = 'a'\n",
    "parser = EarleyParser(E_GRAMMAR)\n",
    "for tree in parser.parse(mystring):\n",
    "    display_tree(tree)"
   ]
  },
  {
   "cell_type": "markdown",
   "metadata": {
    "slideshow": {
     "slide_type": "subslide"
    }
   },
   "source": [
    "To ensure that our parser does parse all kinds of grammars, let us try two more test cases."
   ]
  },
  {
   "cell_type": "code",
   "execution_count": 146,
   "metadata": {
    "execution": {
     "iopub.execute_input": "2023-01-07T14:16:20.201693Z",
     "iopub.status.busy": "2023-01-07T14:16:20.201369Z",
     "iopub.status.idle": "2023-01-07T14:16:20.202527Z",
     "shell.execute_reply": "2023-01-07T14:16:20.202758Z"
    },
    "slideshow": {
     "slide_type": "fragment"
    }
   },
   "outputs": [],
   "source": [
    "DIRECTLY_SELF_REFERRING: Grammar = {\n",
    "    '<start>': ['<query>'],\n",
    "    '<query>': ['select <expr> from a'],\n",
    "    \"<expr>\": [\"<expr>\", \"a\"],\n",
    "}\n",
    "INDIRECTLY_SELF_REFERRING: Grammar = {\n",
    "    '<start>': ['<query>'],\n",
    "    '<query>': ['select <expr> from a'],\n",
    "    \"<expr>\": [\"<aexpr>\", \"a\"],\n",
    "    \"<aexpr>\": [\"<expr>\"],\n",
    "}"
   ]
  },
  {
   "cell_type": "code",
   "execution_count": 147,
   "metadata": {
    "execution": {
     "iopub.execute_input": "2023-01-07T14:16:20.228417Z",
     "iopub.status.busy": "2023-01-07T14:16:20.227684Z",
     "iopub.status.idle": "2023-01-07T14:16:20.231453Z",
     "shell.execute_reply": "2023-01-07T14:16:20.231816Z"
    },
    "slideshow": {
     "slide_type": "subslide"
    }
   },
   "outputs": [
    {
     "name": "stdout",
     "output_type": "stream",
     "text": [
      "recognized select a from a\n",
      "Recursion error maximum recursion depth exceeded\n",
      "recognized select a from a\n",
      "Recursion error maximum recursion depth exceeded\n"
     ]
    }
   ],
   "source": [
    "mystring = 'select a from a'\n",
    "for grammar in [DIRECTLY_SELF_REFERRING, INDIRECTLY_SELF_REFERRING]:\n",
    "    forest = EarleyParser(grammar).parse(mystring)\n",
    "    print('recognized', mystring)\n",
    "    try:\n",
    "        for tree in forest:\n",
    "            print(tree_to_string(tree))\n",
    "    except RecursionError as e:\n",
    "        print(\"Recursion error\", e)"
   ]
  },
  {
   "cell_type": "markdown",
   "metadata": {
    "slideshow": {
     "slide_type": "subslide"
    }
   },
   "source": [
    "Why do we get recursion error here? The reason is that, our implementation of `extract_trees()` is eager. That is, it attempts to extract _all_ inner parse trees before it can construct the outer parse tree. When there is a self reference, this results in recursion. Here is a simple extractor that avoids this problem. The idea here is that we randomly and lazily choose a node to expand, which avoids the infinite recursion."
   ]
  },
  {
   "cell_type": "markdown",
   "metadata": {
    "slideshow": {
     "slide_type": "subslide"
    }
   },
   "source": [
    "#### Tree Extractor"
   ]
  },
  {
   "cell_type": "markdown",
   "metadata": {
    "slideshow": {
     "slide_type": "fragment"
    }
   },
   "source": [
    "As you saw above, one of the problems with attempting to extract all trees is that the parse forest can consist of an infinite number of trees. So, here, we solve that problem by extracting one tree at a time."
   ]
  },
  {
   "cell_type": "code",
   "execution_count": 148,
   "metadata": {
    "execution": {
     "iopub.execute_input": "2023-01-07T14:16:20.244259Z",
     "iopub.status.busy": "2023-01-07T14:16:20.243684Z",
     "iopub.status.idle": "2023-01-07T14:16:20.245235Z",
     "shell.execute_reply": "2023-01-07T14:16:20.245484Z"
    },
    "slideshow": {
     "slide_type": "subslide"
    }
   },
   "outputs": [],
   "source": [
    "class SimpleExtractor:\n",
    "    def __init__(self, parser, text):\n",
    "        self.parser = parser\n",
    "        cursor, states = parser.parse_prefix(text)\n",
    "        start = next((s for s in states if s.finished()), None)\n",
    "        if cursor < len(text) or not start:\n",
    "            raise SyntaxError(\"at \" + repr(cursor))\n",
    "        self.my_forest = parser.parse_forest(parser.table, start)\n",
    "\n",
    "    def extract_a_node(self, forest_node):\n",
    "        name, paths = forest_node\n",
    "        if not paths:\n",
    "            return ((name, 0, 1), []), (name, [])\n",
    "        cur_path, i, length = self.choose_path(paths)\n",
    "        child_nodes = []\n",
    "        pos_nodes = []\n",
    "        for s, kind, chart in cur_path:\n",
    "            f = self.parser.forest(s, kind, chart)\n",
    "            postree, ntree = self.extract_a_node(f)\n",
    "            child_nodes.append(ntree)\n",
    "            pos_nodes.append(postree)\n",
    "\n",
    "        return ((name, i, length), pos_nodes), (name, child_nodes)\n",
    "\n",
    "    def choose_path(self, arr):\n",
    "        length = len(arr)\n",
    "        i = random.randrange(length)\n",
    "        return arr[i], i, length\n",
    "\n",
    "    def extract_a_tree(self):\n",
    "        pos_tree, parse_tree = self.extract_a_node(self.my_forest)\n",
    "        return self.parser.prune_tree(parse_tree)"
   ]
  },
  {
   "cell_type": "markdown",
   "metadata": {
    "slideshow": {
     "slide_type": "subslide"
    }
   },
   "source": [
    "Using it is as folows:"
   ]
  },
  {
   "cell_type": "code",
   "execution_count": 149,
   "metadata": {
    "execution": {
     "iopub.execute_input": "2023-01-07T14:16:20.247775Z",
     "iopub.status.busy": "2023-01-07T14:16:20.247459Z",
     "iopub.status.idle": "2023-01-07T14:16:20.248988Z",
     "shell.execute_reply": "2023-01-07T14:16:20.249335Z"
    },
    "slideshow": {
     "slide_type": "fragment"
    }
   },
   "outputs": [],
   "source": [
    "de = SimpleExtractor(EarleyParser(DIRECTLY_SELF_REFERRING), mystring)"
   ]
  },
  {
   "cell_type": "code",
   "execution_count": 150,
   "metadata": {
    "execution": {
     "iopub.execute_input": "2023-01-07T14:16:20.252036Z",
     "iopub.status.busy": "2023-01-07T14:16:20.251680Z",
     "iopub.status.idle": "2023-01-07T14:16:20.252944Z",
     "shell.execute_reply": "2023-01-07T14:16:20.253137Z"
    },
    "slideshow": {
     "slide_type": "fragment"
    }
   },
   "outputs": [
    {
     "name": "stdout",
     "output_type": "stream",
     "text": [
      "select a from a\n",
      "select a from a\n",
      "select a from a\n",
      "select a from a\n",
      "select a from a\n"
     ]
    }
   ],
   "source": [
    "for i in range(5):\n",
    "    tree = de.extract_a_tree()\n",
    "    print(tree_to_string(tree))"
   ]
  },
  {
   "cell_type": "markdown",
   "metadata": {
    "slideshow": {
     "slide_type": "fragment"
    }
   },
   "source": [
    "On the indirect reference:"
   ]
  },
  {
   "cell_type": "code",
   "execution_count": 151,
   "metadata": {
    "execution": {
     "iopub.execute_input": "2023-01-07T14:16:20.255184Z",
     "iopub.status.busy": "2023-01-07T14:16:20.254853Z",
     "iopub.status.idle": "2023-01-07T14:16:20.255967Z",
     "shell.execute_reply": "2023-01-07T14:16:20.256284Z"
    },
    "slideshow": {
     "slide_type": "fragment"
    }
   },
   "outputs": [],
   "source": [
    "ie = SimpleExtractor(EarleyParser(INDIRECTLY_SELF_REFERRING), mystring)"
   ]
  },
  {
   "cell_type": "code",
   "execution_count": 152,
   "metadata": {
    "execution": {
     "iopub.execute_input": "2023-01-07T14:16:20.258584Z",
     "iopub.status.busy": "2023-01-07T14:16:20.258249Z",
     "iopub.status.idle": "2023-01-07T14:16:20.259578Z",
     "shell.execute_reply": "2023-01-07T14:16:20.259778Z"
    },
    "slideshow": {
     "slide_type": "subslide"
    }
   },
   "outputs": [
    {
     "name": "stdout",
     "output_type": "stream",
     "text": [
      "select a from a\n",
      "select a from a\n",
      "select a from a\n",
      "select a from a\n",
      "select a from a\n"
     ]
    }
   ],
   "source": [
    "for i in range(5):\n",
    "    tree = ie.extract_a_tree()\n",
    "    print(tree_to_string(tree))"
   ]
  },
  {
   "cell_type": "markdown",
   "metadata": {
    "slideshow": {
     "slide_type": "subslide"
    }
   },
   "source": [
    "Note that the `SimpleExtractor` gives no guarantee of the uniqueness of the returned trees. This can however be fixed by keeping track of the particular nodes that were expanded from `pos_tree` variable, and hence, avoiding exploration of the same paths.\n",
    "\n",
    "For implementing this, we extract the random stream passing into the `SimpleExtractor`, and use it to control which nodes are explored. Different exploration paths can then form a tree of nodes."
   ]
  },
  {
   "cell_type": "markdown",
   "metadata": {
    "slideshow": {
     "slide_type": "fragment"
    }
   },
   "source": [
    "We start with the node definition for a single choice. The `self._chosen` is the current choice made, `self.next` holds the next choice done using `self._chosen`. The `self.total` holds the total number of choices that one can have in this node."
   ]
  },
  {
   "cell_type": "code",
   "execution_count": 153,
   "metadata": {
    "execution": {
     "iopub.execute_input": "2023-01-07T14:16:20.262667Z",
     "iopub.status.busy": "2023-01-07T14:16:20.260821Z",
     "iopub.status.idle": "2023-01-07T14:16:20.263793Z",
     "shell.execute_reply": "2023-01-07T14:16:20.264005Z"
    },
    "slideshow": {
     "slide_type": "subslide"
    }
   },
   "outputs": [],
   "source": [
    "class ChoiceNode:\n",
    "    def __init__(self, parent, total):\n",
    "        self._p, self._chosen = parent, 0\n",
    "        self._total, self.next = total, None\n",
    "\n",
    "    def chosen(self):\n",
    "        assert not self.finished()\n",
    "        return self._chosen\n",
    "\n",
    "    def __str__(self):\n",
    "        return '%d(%s/%s %s)' % (self._i, str(self._chosen),\n",
    "                                 str(self._total), str(self.next))\n",
    "\n",
    "    def __repr__(self):\n",
    "        return repr((self._i, self._chosen, self._total))\n",
    "\n",
    "    def increment(self):\n",
    "        # as soon as we increment, next becomes invalid\n",
    "        self.next = None\n",
    "        self._chosen += 1\n",
    "        if self.finished():\n",
    "            if self._p is None:\n",
    "                return None\n",
    "            return self._p.increment()\n",
    "        return self\n",
    "\n",
    "    def finished(self):\n",
    "        return self._chosen >= self._total"
   ]
  },
  {
   "cell_type": "markdown",
   "metadata": {
    "slideshow": {
     "slide_type": "subslide"
    }
   },
   "source": [
    "Now we come to the enhanced `EnhancedExtractor()`."
   ]
  },
  {
   "cell_type": "code",
   "execution_count": 154,
   "metadata": {
    "execution": {
     "iopub.execute_input": "2023-01-07T14:16:20.265905Z",
     "iopub.status.busy": "2023-01-07T14:16:20.265612Z",
     "iopub.status.idle": "2023-01-07T14:16:20.266901Z",
     "shell.execute_reply": "2023-01-07T14:16:20.267089Z"
    },
    "slideshow": {
     "slide_type": "fragment"
    }
   },
   "outputs": [],
   "source": [
    "class EnhancedExtractor(SimpleExtractor):\n",
    "    def __init__(self, parser, text):\n",
    "        super().__init__(parser, text)\n",
    "        self.choices = ChoiceNode(None, 1)"
   ]
  },
  {
   "cell_type": "markdown",
   "metadata": {
    "slideshow": {
     "slide_type": "fragment"
    }
   },
   "source": [
    "First we define `choose_path()` that given an array and a choice node, returns the element in array corresponding to the next choice node if it exists, or produces a new choice nodes, and returns that element."
   ]
  },
  {
   "cell_type": "code",
   "execution_count": 155,
   "metadata": {
    "execution": {
     "iopub.execute_input": "2023-01-07T14:16:20.269504Z",
     "iopub.status.busy": "2023-01-07T14:16:20.269200Z",
     "iopub.status.idle": "2023-01-07T14:16:20.270404Z",
     "shell.execute_reply": "2023-01-07T14:16:20.270592Z"
    },
    "slideshow": {
     "slide_type": "subslide"
    }
   },
   "outputs": [],
   "source": [
    "class EnhancedExtractor(EnhancedExtractor):\n",
    "    def choose_path(self, arr, choices):\n",
    "        arr_len = len(arr)\n",
    "        if choices.next is not None:\n",
    "            if choices.next.finished():\n",
    "                return None, None, None, choices.next\n",
    "        else:\n",
    "            choices.next = ChoiceNode(choices, arr_len)\n",
    "        next_choice = choices.next.chosen()\n",
    "        choices = choices.next\n",
    "        return arr[next_choice], next_choice, arr_len, choices"
   ]
  },
  {
   "cell_type": "markdown",
   "metadata": {
    "slideshow": {
     "slide_type": "subslide"
    }
   },
   "source": [
    "We define `extract_a_node()` here. While extracting, we have a choice. Should we allow infinite forests, or should we have a finite number of trees with no direct recursion? A direct recursion is when there exists a parent node with the same nonterminal that parsed the same span. We choose here not to extract such trees. They can be added back after parsing.\n",
    "\n",
    "This is a recursive procedure that inspects a node, extracts the path required to complete that node. A single path (corresponding to a nonterminal) may again be composed of a sequence of smaller paths. Such paths are again extracted using another call to `extract_a_node()` recursively.\n",
    "\n",
    "What happens when we hit on one of the node recursions we want to avoid? In that case, we return the current choice node, which bubbles up to `extract_a_tree()`. That procedure increments the last choice, which in turn increments up the parents until we reach a choice node that still has options to explore.\n",
    "\n",
    "What if we hit the end of choices for a particular choice node(i.e, we have exhausted paths that can be taken from a node)? In this case also, we return the current choice node, which bubbles up to `extract_a_tree()`.\n",
    "That procedure increments the last choice, which bubbles up to the next choice that has some unexplored paths."
   ]
  },
  {
   "cell_type": "code",
   "execution_count": 156,
   "metadata": {
    "execution": {
     "iopub.execute_input": "2023-01-07T14:16:20.273839Z",
     "iopub.status.busy": "2023-01-07T14:16:20.273446Z",
     "iopub.status.idle": "2023-01-07T14:16:20.274711Z",
     "shell.execute_reply": "2023-01-07T14:16:20.275123Z"
    },
    "slideshow": {
     "slide_type": "subslide"
    }
   },
   "outputs": [],
   "source": [
    "class EnhancedExtractor(EnhancedExtractor):\n",
    "    def extract_a_node(self, forest_node, seen, choices):\n",
    "        name, paths = forest_node\n",
    "        if not paths:\n",
    "            return (name, []), choices\n",
    "\n",
    "        cur_path, _i, _l, new_choices = self.choose_path(paths, choices)\n",
    "        if cur_path is None:\n",
    "            return None, new_choices\n",
    "        child_nodes = []\n",
    "        for s, kind, chart in cur_path:\n",
    "            if kind == 't':\n",
    "                child_nodes.append((s, []))\n",
    "                continue\n",
    "            nid = (s.name, s.s_col.index, s.e_col.index)\n",
    "            if nid in seen:\n",
    "                return None, new_choices\n",
    "            f = self.parser.forest(s, kind, chart)\n",
    "            ntree, newer_choices = self.extract_a_node(f, seen | {nid}, new_choices)\n",
    "            if ntree is None:\n",
    "                return None, newer_choices\n",
    "            child_nodes.append(ntree)\n",
    "            new_choices = newer_choices\n",
    "        return (name, child_nodes), new_choices"
   ]
  },
  {
   "cell_type": "markdown",
   "metadata": {
    "slideshow": {
     "slide_type": "subslide"
    }
   },
   "source": [
    "The `extract_a_tree()` is a depth first extractor of a single tree. It tries to extract a tree, and if the extraction returns `None`, it means that a particular choice was exhausted, or we hit on a recursion. In that case, we increment the choice, and explore a new path."
   ]
  },
  {
   "cell_type": "code",
   "execution_count": 157,
   "metadata": {
    "execution": {
     "iopub.execute_input": "2023-01-07T14:16:20.277237Z",
     "iopub.status.busy": "2023-01-07T14:16:20.276928Z",
     "iopub.status.idle": "2023-01-07T14:16:20.278138Z",
     "shell.execute_reply": "2023-01-07T14:16:20.278398Z"
    },
    "slideshow": {
     "slide_type": "fragment"
    }
   },
   "outputs": [],
   "source": [
    "class EnhancedExtractor(EnhancedExtractor):\n",
    "    def extract_a_tree(self):\n",
    "        while not self.choices.finished():\n",
    "            parse_tree, choices = self.extract_a_node(self.my_forest, set(), self.choices)\n",
    "            choices.increment()\n",
    "            if parse_tree is not None:\n",
    "                return self.parser.prune_tree(parse_tree)\n",
    "        return None"
   ]
  },
  {
   "cell_type": "markdown",
   "metadata": {
    "slideshow": {
     "slide_type": "subslide"
    }
   },
   "source": [
    "Note that the `EnhancedExtractor` only extracts nodes that are not directly recursive. That is, if it finds a node with a nonterminal that covers the same span as that of a parent node with the same nonterminal, it skips the node."
   ]
  },
  {
   "cell_type": "code",
   "execution_count": 158,
   "metadata": {
    "execution": {
     "iopub.execute_input": "2023-01-07T14:16:20.280179Z",
     "iopub.status.busy": "2023-01-07T14:16:20.279889Z",
     "iopub.status.idle": "2023-01-07T14:16:20.281137Z",
     "shell.execute_reply": "2023-01-07T14:16:20.281378Z"
    },
    "slideshow": {
     "slide_type": "fragment"
    }
   },
   "outputs": [],
   "source": [
    "ee = EnhancedExtractor(EarleyParser(INDIRECTLY_SELF_REFERRING), mystring)"
   ]
  },
  {
   "cell_type": "code",
   "execution_count": 159,
   "metadata": {
    "execution": {
     "iopub.execute_input": "2023-01-07T14:16:20.283630Z",
     "iopub.status.busy": "2023-01-07T14:16:20.283323Z",
     "iopub.status.idle": "2023-01-07T14:16:20.284521Z",
     "shell.execute_reply": "2023-01-07T14:16:20.284777Z"
    },
    "slideshow": {
     "slide_type": "fragment"
    }
   },
   "outputs": [
    {
     "name": "stdout",
     "output_type": "stream",
     "text": [
      "1 ('<start>', [('<query>', [('select ', []), ('<expr>', [('a', [])]), (' from a', [])])])\n"
     ]
    }
   ],
   "source": [
    "i = 0\n",
    "while True:\n",
    "    i += 1\n",
    "    t = ee.extract_a_tree()\n",
    "    if t is None: break\n",
    "    print(i, t)\n",
    "    s = tree_to_string(t)\n",
    "    assert s == mystring"
   ]
  },
  {
   "cell_type": "code",
   "execution_count": 160,
   "metadata": {
    "execution": {
     "iopub.execute_input": "2023-01-07T14:16:20.287019Z",
     "iopub.status.busy": "2023-01-07T14:16:20.286736Z",
     "iopub.status.idle": "2023-01-07T14:16:20.288051Z",
     "shell.execute_reply": "2023-01-07T14:16:20.288229Z"
    },
    "slideshow": {
     "slide_type": "subslide"
    }
   },
   "outputs": [],
   "source": [
    "istring = '1+2+3+4'\n",
    "ee = EnhancedExtractor(EarleyParser(A1_GRAMMAR), istring)"
   ]
  },
  {
   "cell_type": "code",
   "execution_count": 161,
   "metadata": {
    "execution": {
     "iopub.execute_input": "2023-01-07T14:16:20.290813Z",
     "iopub.status.busy": "2023-01-07T14:16:20.290518Z",
     "iopub.status.idle": "2023-01-07T14:16:20.291950Z",
     "shell.execute_reply": "2023-01-07T14:16:20.292188Z"
    },
    "slideshow": {
     "slide_type": "subslide"
    }
   },
   "outputs": [
    {
     "name": "stdout",
     "output_type": "stream",
     "text": [
      "1 ('<start>', [('<expr>', [('<expr>', [('<expr>', [('<expr>', [('<integer>', [('<digit>', [('1', [])])])]), ('+', []), ('<expr>', [('<integer>', [('<digit>', [('2', [])])])])]), ('+', []), ('<expr>', [('<integer>', [('<digit>', [('3', [])])])])]), ('+', []), ('<expr>', [('<integer>', [('<digit>', [('4', [])])])])])])\n",
      "2 ('<start>', [('<expr>', [('<expr>', [('<expr>', [('<integer>', [('<digit>', [('1', [])])])]), ('+', []), ('<expr>', [('<expr>', [('<integer>', [('<digit>', [('2', [])])])]), ('+', []), ('<expr>', [('<integer>', [('<digit>', [('3', [])])])])])]), ('+', []), ('<expr>', [('<integer>', [('<digit>', [('4', [])])])])])])\n",
      "3 ('<start>', [('<expr>', [('<expr>', [('<expr>', [('<integer>', [('<digit>', [('1', [])])])]), ('+', []), ('<expr>', [('<integer>', [('<digit>', [('2', [])])])])]), ('+', []), ('<expr>', [('<expr>', [('<integer>', [('<digit>', [('3', [])])])]), ('+', []), ('<expr>', [('<integer>', [('<digit>', [('4', [])])])])])])])\n",
      "4 ('<start>', [('<expr>', [('<expr>', [('<integer>', [('<digit>', [('1', [])])])]), ('+', []), ('<expr>', [('<expr>', [('<expr>', [('<integer>', [('<digit>', [('2', [])])])]), ('+', []), ('<expr>', [('<integer>', [('<digit>', [('3', [])])])])]), ('+', []), ('<expr>', [('<integer>', [('<digit>', [('4', [])])])])])])])\n",
      "5 ('<start>', [('<expr>', [('<expr>', [('<integer>', [('<digit>', [('1', [])])])]), ('+', []), ('<expr>', [('<expr>', [('<integer>', [('<digit>', [('2', [])])])]), ('+', []), ('<expr>', [('<expr>', [('<integer>', [('<digit>', [('3', [])])])]), ('+', []), ('<expr>', [('<integer>', [('<digit>', [('4', [])])])])])])])])\n"
     ]
    }
   ],
   "source": [
    "i = 0\n",
    "while True:\n",
    "    i += 1\n",
    "    t = ee.extract_a_tree()\n",
    "    if t is None: break\n",
    "    print(i, t)\n",
    "    s = tree_to_string(t)\n",
    "    assert s == istring"
   ]
  },
  {
   "cell_type": "markdown",
   "metadata": {
    "slideshow": {
     "slide_type": "subslide"
    }
   },
   "source": [
    "#### More Earley Parsing\n",
    "\n",
    "A number of other optimizations exist for Earley parsers. A fast industrial strength Earley parser implementation is the [Marpa parser](https://jeffreykegler.github.io/Marpa-web-site/). Further, Earley parsing need not be restricted to character data. One may also parse streams (audio and video streams) \\cite{qi2018generalized} using a generalized Earley parser."
   ]
  },
  {
   "cell_type": "markdown",
   "metadata": {
    "slideshow": {
     "slide_type": "subslide"
    },
    "tags": []
   },
   "source": [
    "### End of Excursion"
   ]
  },
  {
   "cell_type": "markdown",
   "metadata": {
    "slideshow": {
     "slide_type": "notes"
    }
   },
   "source": [
    "Here are a few examples of the Earley parser in action."
   ]
  },
  {
   "cell_type": "code",
   "execution_count": 162,
   "metadata": {
    "execution": {
     "iopub.execute_input": "2023-01-07T14:16:20.295406Z",
     "iopub.status.busy": "2023-01-07T14:16:20.295123Z",
     "iopub.status.idle": "2023-01-07T14:16:20.556500Z",
     "shell.execute_reply": "2023-01-07T14:16:20.556746Z"
    },
    "slideshow": {
     "slide_type": "subslide"
    }
   },
   "outputs": [
    {
     "data": {
      "image/svg+xml": [
       "<?xml version=\"1.0\" encoding=\"UTF-8\" standalone=\"no\"?>\n",
       "<!DOCTYPE svg PUBLIC \"-//W3C//DTD SVG 1.1//EN\"\n",
       " \"http://www.w3.org/Graphics/SVG/1.1/DTD/svg11.dtd\">\n",
       "<!-- Generated by graphviz version 7.0.2 (20221119.0110)\n",
       " -->\n",
       "<!-- Pages: 1 -->\n",
       "<svg width=\"213pt\" height=\"584pt\"\n",
       " viewBox=\"0.00 0.00 212.50 584.00\" xmlns=\"http://www.w3.org/2000/svg\" xmlns:xlink=\"http://www.w3.org/1999/xlink\">\n",
       "<g id=\"graph0\" class=\"graph\" transform=\"scale(1 1) rotate(0) translate(4 580)\">\n",
       "<polygon fill=\"white\" stroke=\"none\" points=\"-4,4 -4,-580 208.5,-580 208.5,4 -4,4\"/>\n",
       "<!-- 0 -->\n",
       "<g id=\"node1\" class=\"node\">\n",
       "<title>0</title>\n",
       "<text text-anchor=\"middle\" x=\"82\" y=\"-564.8\" font-family=\"Times,serif\" font-size=\"14.00\">&lt;start&gt;</text>\n",
       "</g>\n",
       "<!-- 1 -->\n",
       "<g id=\"node2\" class=\"node\">\n",
       "<title>1</title>\n",
       "<text text-anchor=\"middle\" x=\"82\" y=\"-513.8\" font-family=\"Times,serif\" font-size=\"14.00\">&lt;expr&gt;</text>\n",
       "</g>\n",
       "<!-- 0&#45;&gt;1 -->\n",
       "<g id=\"edge1\" class=\"edge\">\n",
       "<title>0&#45;&gt;1</title>\n",
       "<path fill=\"none\" stroke=\"black\" d=\"M82,-561.09C82,-554.75 82,-544.75 82,-536.03\"/>\n",
       "<polygon fill=\"black\" stroke=\"black\" points=\"85.5,-536.27 82,-526.27 78.5,-536.27 85.5,-536.27\"/>\n",
       "</g>\n",
       "<!-- 2 -->\n",
       "<g id=\"node3\" class=\"node\">\n",
       "<title>2</title>\n",
       "<text text-anchor=\"middle\" x=\"33\" y=\"-462.8\" font-family=\"Times,serif\" font-size=\"14.00\">&lt;term&gt;</text>\n",
       "</g>\n",
       "<!-- 1&#45;&gt;2 -->\n",
       "<g id=\"edge2\" class=\"edge\">\n",
       "<title>1&#45;&gt;2</title>\n",
       "<path fill=\"none\" stroke=\"black\" d=\"M75.59,-510.09C68.44,-502.94 56.63,-491.13 47.26,-481.76\"/>\n",
       "<polygon fill=\"black\" stroke=\"black\" points=\"49.87,-479.42 40.32,-474.82 44.92,-484.37 49.87,-479.42\"/>\n",
       "</g>\n",
       "<!-- 7 -->\n",
       "<g id=\"node8\" class=\"node\">\n",
       "<title>7</title>\n",
       "<text text-anchor=\"middle\" x=\"82\" y=\"-462.8\" font-family=\"Times,serif\" font-size=\"14.00\"> + </text>\n",
       "</g>\n",
       "<!-- 1&#45;&gt;7 -->\n",
       "<g id=\"edge7\" class=\"edge\">\n",
       "<title>1&#45;&gt;7</title>\n",
       "<path fill=\"none\" stroke=\"black\" d=\"M82,-510.09C82,-503.75 82,-493.75 82,-485.03\"/>\n",
       "<polygon fill=\"black\" stroke=\"black\" points=\"85.5,-485.27 82,-475.27 78.5,-485.27 85.5,-485.27\"/>\n",
       "</g>\n",
       "<!-- 8 -->\n",
       "<g id=\"node9\" class=\"node\">\n",
       "<title>8</title>\n",
       "<text text-anchor=\"middle\" x=\"129\" y=\"-462.8\" font-family=\"Times,serif\" font-size=\"14.00\">&lt;expr&gt;</text>\n",
       "</g>\n",
       "<!-- 1&#45;&gt;8 -->\n",
       "<g id=\"edge8\" class=\"edge\">\n",
       "<title>1&#45;&gt;8</title>\n",
       "<path fill=\"none\" stroke=\"black\" d=\"M88.14,-510.09C94.94,-503.01 106.1,-491.37 115.04,-482.05\"/>\n",
       "<polygon fill=\"black\" stroke=\"black\" points=\"117.56,-484.48 121.95,-474.84 112.51,-479.64 117.56,-484.48\"/>\n",
       "</g>\n",
       "<!-- 3 -->\n",
       "<g id=\"node4\" class=\"node\">\n",
       "<title>3</title>\n",
       "<text text-anchor=\"middle\" x=\"31\" y=\"-411.8\" font-family=\"Times,serif\" font-size=\"14.00\">&lt;factor&gt;</text>\n",
       "</g>\n",
       "<!-- 2&#45;&gt;3 -->\n",
       "<g id=\"edge3\" class=\"edge\">\n",
       "<title>2&#45;&gt;3</title>\n",
       "<path fill=\"none\" stroke=\"black\" d=\"M32.74,-459.09C32.48,-452.75 32.07,-442.75 31.72,-434.03\"/>\n",
       "<polygon fill=\"black\" stroke=\"black\" points=\"35.22,-434.11 31.32,-424.26 28.23,-434.4 35.22,-434.11\"/>\n",
       "</g>\n",
       "<!-- 4 -->\n",
       "<g id=\"node5\" class=\"node\">\n",
       "<title>4</title>\n",
       "<text text-anchor=\"middle\" x=\"28\" y=\"-360.8\" font-family=\"Times,serif\" font-size=\"14.00\">&lt;integer&gt;</text>\n",
       "</g>\n",
       "<!-- 3&#45;&gt;4 -->\n",
       "<g id=\"edge4\" class=\"edge\">\n",
       "<title>3&#45;&gt;4</title>\n",
       "<path fill=\"none\" stroke=\"black\" d=\"M30.61,-408.09C30.22,-401.75 29.61,-391.75 29.07,-383.03\"/>\n",
       "<polygon fill=\"black\" stroke=\"black\" points=\"32.58,-383.03 28.48,-373.26 25.59,-383.46 32.58,-383.03\"/>\n",
       "</g>\n",
       "<!-- 5 -->\n",
       "<g id=\"node6\" class=\"node\">\n",
       "<title>5</title>\n",
       "<text text-anchor=\"middle\" x=\"21\" y=\"-309.8\" font-family=\"Times,serif\" font-size=\"14.00\">&lt;digit&gt;</text>\n",
       "</g>\n",
       "<!-- 4&#45;&gt;5 -->\n",
       "<g id=\"edge5\" class=\"edge\">\n",
       "<title>4&#45;&gt;5</title>\n",
       "<path fill=\"none\" stroke=\"black\" d=\"M27.08,-357.09C26.18,-350.75 24.75,-340.75 23.5,-332.03\"/>\n",
       "<polygon fill=\"black\" stroke=\"black\" points=\"26.99,-331.66 22.11,-322.25 20.06,-332.65 26.99,-331.66\"/>\n",
       "</g>\n",
       "<!-- 6 -->\n",
       "<g id=\"node7\" class=\"node\">\n",
       "<title>6</title>\n",
       "<text text-anchor=\"middle\" x=\"21\" y=\"-258.8\" font-family=\"Times,serif\" font-size=\"14.00\">1 (49)</text>\n",
       "</g>\n",
       "<!-- 5&#45;&gt;6 -->\n",
       "<g id=\"edge6\" class=\"edge\">\n",
       "<title>5&#45;&gt;6</title>\n",
       "<path fill=\"none\" stroke=\"black\" d=\"M21,-306.09C21,-299.75 21,-289.75 21,-281.03\"/>\n",
       "<polygon fill=\"black\" stroke=\"black\" points=\"24.5,-281.27 21,-271.27 17.5,-281.27 24.5,-281.27\"/>\n",
       "</g>\n",
       "<!-- 9 -->\n",
       "<g id=\"node10\" class=\"node\">\n",
       "<title>9</title>\n",
       "<text text-anchor=\"middle\" x=\"129\" y=\"-411.8\" font-family=\"Times,serif\" font-size=\"14.00\">&lt;term&gt;</text>\n",
       "</g>\n",
       "<!-- 8&#45;&gt;9 -->\n",
       "<g id=\"edge9\" class=\"edge\">\n",
       "<title>8&#45;&gt;9</title>\n",
       "<path fill=\"none\" stroke=\"black\" d=\"M129,-459.09C129,-452.75 129,-442.75 129,-434.03\"/>\n",
       "<polygon fill=\"black\" stroke=\"black\" points=\"132.5,-434.27 129,-424.27 125.5,-434.27 132.5,-434.27\"/>\n",
       "</g>\n",
       "<!-- 10 -->\n",
       "<g id=\"node11\" class=\"node\">\n",
       "<title>10</title>\n",
       "<text text-anchor=\"middle\" x=\"129\" y=\"-360.8\" font-family=\"Times,serif\" font-size=\"14.00\">&lt;factor&gt;</text>\n",
       "</g>\n",
       "<!-- 9&#45;&gt;10 -->\n",
       "<g id=\"edge10\" class=\"edge\">\n",
       "<title>9&#45;&gt;10</title>\n",
       "<path fill=\"none\" stroke=\"black\" d=\"M129,-408.09C129,-401.75 129,-391.75 129,-383.03\"/>\n",
       "<polygon fill=\"black\" stroke=\"black\" points=\"132.5,-383.27 129,-373.27 125.5,-383.27 132.5,-383.27\"/>\n",
       "</g>\n",
       "<!-- 11 -->\n",
       "<g id=\"node12\" class=\"node\">\n",
       "<title>11</title>\n",
       "<text text-anchor=\"middle\" x=\"76\" y=\"-309.8\" font-family=\"Times,serif\" font-size=\"14.00\">( (40)</text>\n",
       "</g>\n",
       "<!-- 10&#45;&gt;11 -->\n",
       "<g id=\"edge11\" class=\"edge\">\n",
       "<title>10&#45;&gt;11</title>\n",
       "<path fill=\"none\" stroke=\"black\" d=\"M122.07,-357.09C114.25,-349.86 101.29,-337.89 91.11,-328.47\"/>\n",
       "<polygon fill=\"black\" stroke=\"black\" points=\"93.59,-326 83.87,-321.78 88.84,-331.14 93.59,-326\"/>\n",
       "</g>\n",
       "<!-- 12 -->\n",
       "<g id=\"node13\" class=\"node\">\n",
       "<title>12</title>\n",
       "<text text-anchor=\"middle\" x=\"130\" y=\"-309.8\" font-family=\"Times,serif\" font-size=\"14.00\">&lt;expr&gt;</text>\n",
       "</g>\n",
       "<!-- 10&#45;&gt;12 -->\n",
       "<g id=\"edge12\" class=\"edge\">\n",
       "<title>10&#45;&gt;12</title>\n",
       "<path fill=\"none\" stroke=\"black\" d=\"M129.13,-357.09C129.26,-350.75 129.46,-340.75 129.64,-332.03\"/>\n",
       "<polygon fill=\"black\" stroke=\"black\" points=\"133.14,-332.34 129.84,-322.27 126.14,-332.19 133.14,-332.34\"/>\n",
       "</g>\n",
       "<!-- 24 -->\n",
       "<g id=\"node25\" class=\"node\">\n",
       "<title>24</title>\n",
       "<text text-anchor=\"middle\" x=\"184\" y=\"-309.8\" font-family=\"Times,serif\" font-size=\"14.00\">) (41)</text>\n",
       "</g>\n",
       "<!-- 10&#45;&gt;24 -->\n",
       "<g id=\"edge24\" class=\"edge\">\n",
       "<title>10&#45;&gt;24</title>\n",
       "<path fill=\"none\" stroke=\"black\" d=\"M136.19,-357.09C144.39,-349.79 158.03,-337.64 168.64,-328.18\"/>\n",
       "<polygon fill=\"black\" stroke=\"black\" points=\"170.71,-331.02 175.85,-321.76 166.06,-325.8 170.71,-331.02\"/>\n",
       "</g>\n",
       "<!-- 13 -->\n",
       "<g id=\"node14\" class=\"node\">\n",
       "<title>13</title>\n",
       "<text text-anchor=\"middle\" x=\"130\" y=\"-258.8\" font-family=\"Times,serif\" font-size=\"14.00\">&lt;term&gt;</text>\n",
       "</g>\n",
       "<!-- 12&#45;&gt;13 -->\n",
       "<g id=\"edge13\" class=\"edge\">\n",
       "<title>12&#45;&gt;13</title>\n",
       "<path fill=\"none\" stroke=\"black\" d=\"M130,-306.09C130,-299.75 130,-289.75 130,-281.03\"/>\n",
       "<polygon fill=\"black\" stroke=\"black\" points=\"133.5,-281.27 130,-271.27 126.5,-281.27 133.5,-281.27\"/>\n",
       "</g>\n",
       "<!-- 14 -->\n",
       "<g id=\"node15\" class=\"node\">\n",
       "<title>14</title>\n",
       "<text text-anchor=\"middle\" x=\"80\" y=\"-207.8\" font-family=\"Times,serif\" font-size=\"14.00\">&lt;factor&gt;</text>\n",
       "</g>\n",
       "<!-- 13&#45;&gt;14 -->\n",
       "<g id=\"edge14\" class=\"edge\">\n",
       "<title>13&#45;&gt;14</title>\n",
       "<path fill=\"none\" stroke=\"black\" d=\"M123.46,-255.09C116.16,-247.94 104.11,-236.13 94.55,-226.76\"/>\n",
       "<polygon fill=\"black\" stroke=\"black\" points=\"97.05,-224.31 87.46,-219.81 92.15,-229.31 97.05,-224.31\"/>\n",
       "</g>\n",
       "<!-- 18 -->\n",
       "<g id=\"node19\" class=\"node\">\n",
       "<title>18</title>\n",
       "<text text-anchor=\"middle\" x=\"130\" y=\"-207.8\" font-family=\"Times,serif\" font-size=\"14.00\"> * </text>\n",
       "</g>\n",
       "<!-- 13&#45;&gt;18 -->\n",
       "<g id=\"edge18\" class=\"edge\">\n",
       "<title>13&#45;&gt;18</title>\n",
       "<path fill=\"none\" stroke=\"black\" d=\"M130,-255.09C130,-248.75 130,-238.75 130,-230.03\"/>\n",
       "<polygon fill=\"black\" stroke=\"black\" points=\"133.5,-230.27 130,-220.27 126.5,-230.27 133.5,-230.27\"/>\n",
       "</g>\n",
       "<!-- 19 -->\n",
       "<g id=\"node20\" class=\"node\">\n",
       "<title>19</title>\n",
       "<text text-anchor=\"middle\" x=\"177\" y=\"-207.8\" font-family=\"Times,serif\" font-size=\"14.00\">&lt;term&gt;</text>\n",
       "</g>\n",
       "<!-- 13&#45;&gt;19 -->\n",
       "<g id=\"edge19\" class=\"edge\">\n",
       "<title>13&#45;&gt;19</title>\n",
       "<path fill=\"none\" stroke=\"black\" d=\"M136.14,-255.09C142.94,-248.01 154.1,-236.37 163.04,-227.05\"/>\n",
       "<polygon fill=\"black\" stroke=\"black\" points=\"165.56,-229.48 169.95,-219.84 160.51,-224.64 165.56,-229.48\"/>\n",
       "</g>\n",
       "<!-- 15 -->\n",
       "<g id=\"node16\" class=\"node\">\n",
       "<title>15</title>\n",
       "<text text-anchor=\"middle\" x=\"80\" y=\"-156.8\" font-family=\"Times,serif\" font-size=\"14.00\">&lt;integer&gt;</text>\n",
       "</g>\n",
       "<!-- 14&#45;&gt;15 -->\n",
       "<g id=\"edge15\" class=\"edge\">\n",
       "<title>14&#45;&gt;15</title>\n",
       "<path fill=\"none\" stroke=\"black\" d=\"M80,-204.09C80,-197.75 80,-187.75 80,-179.03\"/>\n",
       "<polygon fill=\"black\" stroke=\"black\" points=\"83.5,-179.27 80,-169.27 76.5,-179.27 83.5,-179.27\"/>\n",
       "</g>\n",
       "<!-- 16 -->\n",
       "<g id=\"node17\" class=\"node\">\n",
       "<title>16</title>\n",
       "<text text-anchor=\"middle\" x=\"80\" y=\"-105.8\" font-family=\"Times,serif\" font-size=\"14.00\">&lt;digit&gt;</text>\n",
       "</g>\n",
       "<!-- 15&#45;&gt;16 -->\n",
       "<g id=\"edge16\" class=\"edge\">\n",
       "<title>15&#45;&gt;16</title>\n",
       "<path fill=\"none\" stroke=\"black\" d=\"M80,-153.09C80,-146.75 80,-136.75 80,-128.03\"/>\n",
       "<polygon fill=\"black\" stroke=\"black\" points=\"83.5,-128.27 80,-118.27 76.5,-128.27 83.5,-128.27\"/>\n",
       "</g>\n",
       "<!-- 17 -->\n",
       "<g id=\"node18\" class=\"node\">\n",
       "<title>17</title>\n",
       "<text text-anchor=\"middle\" x=\"80\" y=\"-54.8\" font-family=\"Times,serif\" font-size=\"14.00\">2 (50)</text>\n",
       "</g>\n",
       "<!-- 16&#45;&gt;17 -->\n",
       "<g id=\"edge17\" class=\"edge\">\n",
       "<title>16&#45;&gt;17</title>\n",
       "<path fill=\"none\" stroke=\"black\" d=\"M80,-102.09C80,-95.75 80,-85.75 80,-77.03\"/>\n",
       "<polygon fill=\"black\" stroke=\"black\" points=\"83.5,-77.27 80,-67.27 76.5,-77.27 83.5,-77.27\"/>\n",
       "</g>\n",
       "<!-- 20 -->\n",
       "<g id=\"node21\" class=\"node\">\n",
       "<title>20</title>\n",
       "<text text-anchor=\"middle\" x=\"177\" y=\"-156.8\" font-family=\"Times,serif\" font-size=\"14.00\">&lt;factor&gt;</text>\n",
       "</g>\n",
       "<!-- 19&#45;&gt;20 -->\n",
       "<g id=\"edge20\" class=\"edge\">\n",
       "<title>19&#45;&gt;20</title>\n",
       "<path fill=\"none\" stroke=\"black\" d=\"M177,-204.09C177,-197.75 177,-187.75 177,-179.03\"/>\n",
       "<polygon fill=\"black\" stroke=\"black\" points=\"180.5,-179.27 177,-169.27 173.5,-179.27 180.5,-179.27\"/>\n",
       "</g>\n",
       "<!-- 21 -->\n",
       "<g id=\"node22\" class=\"node\">\n",
       "<title>21</title>\n",
       "<text text-anchor=\"middle\" x=\"177\" y=\"-105.8\" font-family=\"Times,serif\" font-size=\"14.00\">&lt;integer&gt;</text>\n",
       "</g>\n",
       "<!-- 20&#45;&gt;21 -->\n",
       "<g id=\"edge21\" class=\"edge\">\n",
       "<title>20&#45;&gt;21</title>\n",
       "<path fill=\"none\" stroke=\"black\" d=\"M177,-153.09C177,-146.75 177,-136.75 177,-128.03\"/>\n",
       "<polygon fill=\"black\" stroke=\"black\" points=\"180.5,-128.27 177,-118.27 173.5,-128.27 180.5,-128.27\"/>\n",
       "</g>\n",
       "<!-- 22 -->\n",
       "<g id=\"node23\" class=\"node\">\n",
       "<title>22</title>\n",
       "<text text-anchor=\"middle\" x=\"177\" y=\"-54.8\" font-family=\"Times,serif\" font-size=\"14.00\">&lt;digit&gt;</text>\n",
       "</g>\n",
       "<!-- 21&#45;&gt;22 -->\n",
       "<g id=\"edge22\" class=\"edge\">\n",
       "<title>21&#45;&gt;22</title>\n",
       "<path fill=\"none\" stroke=\"black\" d=\"M177,-102.09C177,-95.75 177,-85.75 177,-77.03\"/>\n",
       "<polygon fill=\"black\" stroke=\"black\" points=\"180.5,-77.27 177,-67.27 173.5,-77.27 180.5,-77.27\"/>\n",
       "</g>\n",
       "<!-- 23 -->\n",
       "<g id=\"node24\" class=\"node\">\n",
       "<title>23</title>\n",
       "<text text-anchor=\"middle\" x=\"177\" y=\"-3.8\" font-family=\"Times,serif\" font-size=\"14.00\">3 (51)</text>\n",
       "</g>\n",
       "<!-- 22&#45;&gt;23 -->\n",
       "<g id=\"edge23\" class=\"edge\">\n",
       "<title>22&#45;&gt;23</title>\n",
       "<path fill=\"none\" stroke=\"black\" d=\"M177,-51.09C177,-44.75 177,-34.75 177,-26.03\"/>\n",
       "<polygon fill=\"black\" stroke=\"black\" points=\"180.5,-26.27 177,-16.27 173.5,-26.27 180.5,-26.27\"/>\n",
       "</g>\n",
       "</g>\n",
       "</svg>\n"
      ],
      "text/plain": [
       "<graphviz.graphs.Digraph at 0x10df7add0>"
      ]
     },
     "metadata": {},
     "output_type": "display_data"
    }
   ],
   "source": [
    "mystring = \"1 + (2 * 3)\"\n",
    "earley = EarleyParser(EXPR_GRAMMAR)\n",
    "for tree in earley.parse(mystring):\n",
    "    assert tree_to_string(tree) == mystring\n",
    "    display(display_tree(tree))"
   ]
  },
  {
   "cell_type": "code",
   "execution_count": 163,
   "metadata": {
    "execution": {
     "iopub.execute_input": "2023-01-07T14:16:20.563076Z",
     "iopub.status.busy": "2023-01-07T14:16:20.562694Z",
     "iopub.status.idle": "2023-01-07T14:16:20.804529Z",
     "shell.execute_reply": "2023-01-07T14:16:20.804774Z"
    },
    "slideshow": {
     "slide_type": "subslide"
    }
   },
   "outputs": [
    {
     "data": {
      "image/svg+xml": [
       "<?xml version=\"1.0\" encoding=\"UTF-8\" standalone=\"no\"?>\n",
       "<!DOCTYPE svg PUBLIC \"-//W3C//DTD SVG 1.1//EN\"\n",
       " \"http://www.w3.org/Graphics/SVG/1.1/DTD/svg11.dtd\">\n",
       "<!-- Generated by graphviz version 7.0.2 (20221119.0110)\n",
       " -->\n",
       "<!-- Pages: 1 -->\n",
       "<svg width=\"316pt\" height=\"635pt\"\n",
       " viewBox=\"0.00 0.00 316.00 635.00\" xmlns=\"http://www.w3.org/2000/svg\" xmlns:xlink=\"http://www.w3.org/1999/xlink\">\n",
       "<g id=\"graph0\" class=\"graph\" transform=\"scale(1 1) rotate(0) translate(4 631)\">\n",
       "<polygon fill=\"white\" stroke=\"none\" points=\"-4,4 -4,-631 312,-631 312,4 -4,4\"/>\n",
       "<!-- 0 -->\n",
       "<g id=\"node1\" class=\"node\">\n",
       "<title>0</title>\n",
       "<text text-anchor=\"middle\" x=\"81.5\" y=\"-615.8\" font-family=\"Times,serif\" font-size=\"14.00\">&lt;start&gt;</text>\n",
       "</g>\n",
       "<!-- 1 -->\n",
       "<g id=\"node2\" class=\"node\">\n",
       "<title>1</title>\n",
       "<text text-anchor=\"middle\" x=\"81.5\" y=\"-564.8\" font-family=\"Times,serif\" font-size=\"14.00\">&lt;expr&gt;</text>\n",
       "</g>\n",
       "<!-- 0&#45;&gt;1 -->\n",
       "<g id=\"edge1\" class=\"edge\">\n",
       "<title>0&#45;&gt;1</title>\n",
       "<path fill=\"none\" stroke=\"black\" d=\"M81.5,-612.09C81.5,-605.75 81.5,-595.75 81.5,-587.03\"/>\n",
       "<polygon fill=\"black\" stroke=\"black\" points=\"85,-587.27 81.5,-577.27 78,-587.27 85,-587.27\"/>\n",
       "</g>\n",
       "<!-- 2 -->\n",
       "<g id=\"node3\" class=\"node\">\n",
       "<title>2</title>\n",
       "<text text-anchor=\"middle\" x=\"81.5\" y=\"-513.8\" font-family=\"Times,serif\" font-size=\"14.00\">&lt;term&gt;</text>\n",
       "</g>\n",
       "<!-- 1&#45;&gt;2 -->\n",
       "<g id=\"edge2\" class=\"edge\">\n",
       "<title>1&#45;&gt;2</title>\n",
       "<path fill=\"none\" stroke=\"black\" d=\"M81.5,-561.09C81.5,-554.75 81.5,-544.75 81.5,-536.03\"/>\n",
       "<polygon fill=\"black\" stroke=\"black\" points=\"85,-536.27 81.5,-526.27 78,-536.27 85,-536.27\"/>\n",
       "</g>\n",
       "<!-- 3 -->\n",
       "<g id=\"node4\" class=\"node\">\n",
       "<title>3</title>\n",
       "<text text-anchor=\"middle\" x=\"30.5\" y=\"-462.8\" font-family=\"Times,serif\" font-size=\"14.00\">&lt;factor&gt;</text>\n",
       "</g>\n",
       "<!-- 2&#45;&gt;3 -->\n",
       "<g id=\"edge3\" class=\"edge\">\n",
       "<title>2&#45;&gt;3</title>\n",
       "<path fill=\"none\" stroke=\"black\" d=\"M74.83,-510.09C67.31,-502.86 54.84,-490.89 45.04,-481.47\"/>\n",
       "<polygon fill=\"black\" stroke=\"black\" points=\"47.74,-479.21 38.1,-474.8 42.89,-484.25 47.74,-479.21\"/>\n",
       "</g>\n",
       "<!-- 7 -->\n",
       "<g id=\"node8\" class=\"node\">\n",
       "<title>7</title>\n",
       "<text text-anchor=\"middle\" x=\"81.5\" y=\"-462.8\" font-family=\"Times,serif\" font-size=\"14.00\"> * </text>\n",
       "</g>\n",
       "<!-- 2&#45;&gt;7 -->\n",
       "<g id=\"edge7\" class=\"edge\">\n",
       "<title>2&#45;&gt;7</title>\n",
       "<path fill=\"none\" stroke=\"black\" d=\"M81.5,-510.09C81.5,-503.75 81.5,-493.75 81.5,-485.03\"/>\n",
       "<polygon fill=\"black\" stroke=\"black\" points=\"85,-485.27 81.5,-475.27 78,-485.27 85,-485.27\"/>\n",
       "</g>\n",
       "<!-- 8 -->\n",
       "<g id=\"node9\" class=\"node\">\n",
       "<title>8</title>\n",
       "<text text-anchor=\"middle\" x=\"129.5\" y=\"-462.8\" font-family=\"Times,serif\" font-size=\"14.00\">&lt;term&gt;</text>\n",
       "</g>\n",
       "<!-- 2&#45;&gt;8 -->\n",
       "<g id=\"edge8\" class=\"edge\">\n",
       "<title>2&#45;&gt;8</title>\n",
       "<path fill=\"none\" stroke=\"black\" d=\"M87.78,-510.09C94.78,-502.94 106.35,-491.13 115.53,-481.76\"/>\n",
       "<polygon fill=\"black\" stroke=\"black\" points=\"117.82,-484.43 122.32,-474.83 112.82,-479.53 117.82,-484.43\"/>\n",
       "</g>\n",
       "<!-- 4 -->\n",
       "<g id=\"node5\" class=\"node\">\n",
       "<title>4</title>\n",
       "<text text-anchor=\"middle\" x=\"27.5\" y=\"-411.8\" font-family=\"Times,serif\" font-size=\"14.00\">&lt;integer&gt;</text>\n",
       "</g>\n",
       "<!-- 3&#45;&gt;4 -->\n",
       "<g id=\"edge4\" class=\"edge\">\n",
       "<title>3&#45;&gt;4</title>\n",
       "<path fill=\"none\" stroke=\"black\" d=\"M30.11,-459.09C29.72,-452.75 29.11,-442.75 28.57,-434.03\"/>\n",
       "<polygon fill=\"black\" stroke=\"black\" points=\"32.08,-434.03 27.98,-424.26 25.09,-434.46 32.08,-434.03\"/>\n",
       "</g>\n",
       "<!-- 5 -->\n",
       "<g id=\"node6\" class=\"node\">\n",
       "<title>5</title>\n",
       "<text text-anchor=\"middle\" x=\"21.5\" y=\"-360.8\" font-family=\"Times,serif\" font-size=\"14.00\">&lt;digit&gt;</text>\n",
       "</g>\n",
       "<!-- 4&#45;&gt;5 -->\n",
       "<g id=\"edge5\" class=\"edge\">\n",
       "<title>4&#45;&gt;5</title>\n",
       "<path fill=\"none\" stroke=\"black\" d=\"M26.72,-408.09C25.94,-401.75 24.71,-391.75 23.65,-383.03\"/>\n",
       "<polygon fill=\"black\" stroke=\"black\" points=\"27.14,-382.76 22.45,-373.25 20.19,-383.61 27.14,-382.76\"/>\n",
       "</g>\n",
       "<!-- 6 -->\n",
       "<g id=\"node7\" class=\"node\">\n",
       "<title>6</title>\n",
       "<text text-anchor=\"middle\" x=\"21.5\" y=\"-309.8\" font-family=\"Times,serif\" font-size=\"14.00\">1 (49)</text>\n",
       "</g>\n",
       "<!-- 5&#45;&gt;6 -->\n",
       "<g id=\"edge6\" class=\"edge\">\n",
       "<title>5&#45;&gt;6</title>\n",
       "<path fill=\"none\" stroke=\"black\" d=\"M21.5,-357.09C21.5,-350.75 21.5,-340.75 21.5,-332.03\"/>\n",
       "<polygon fill=\"black\" stroke=\"black\" points=\"25,-332.27 21.5,-322.27 18,-332.27 25,-332.27\"/>\n",
       "</g>\n",
       "<!-- 9 -->\n",
       "<g id=\"node10\" class=\"node\">\n",
       "<title>9</title>\n",
       "<text text-anchor=\"middle\" x=\"129.5\" y=\"-411.8\" font-family=\"Times,serif\" font-size=\"14.00\">&lt;factor&gt;</text>\n",
       "</g>\n",
       "<!-- 8&#45;&gt;9 -->\n",
       "<g id=\"edge9\" class=\"edge\">\n",
       "<title>8&#45;&gt;9</title>\n",
       "<path fill=\"none\" stroke=\"black\" d=\"M129.5,-459.09C129.5,-452.75 129.5,-442.75 129.5,-434.03\"/>\n",
       "<polygon fill=\"black\" stroke=\"black\" points=\"133,-434.27 129.5,-424.27 126,-434.27 133,-434.27\"/>\n",
       "</g>\n",
       "<!-- 10 -->\n",
       "<g id=\"node11\" class=\"node\">\n",
       "<title>10</title>\n",
       "<text text-anchor=\"middle\" x=\"76.5\" y=\"-360.8\" font-family=\"Times,serif\" font-size=\"14.00\">( (40)</text>\n",
       "</g>\n",
       "<!-- 9&#45;&gt;10 -->\n",
       "<g id=\"edge10\" class=\"edge\">\n",
       "<title>9&#45;&gt;10</title>\n",
       "<path fill=\"none\" stroke=\"black\" d=\"M122.57,-408.09C114.75,-400.86 101.79,-388.89 91.61,-379.47\"/>\n",
       "<polygon fill=\"black\" stroke=\"black\" points=\"94.09,-377 84.37,-372.78 89.34,-382.14 94.09,-377\"/>\n",
       "</g>\n",
       "<!-- 11 -->\n",
       "<g id=\"node12\" class=\"node\">\n",
       "<title>11</title>\n",
       "<text text-anchor=\"middle\" x=\"130.5\" y=\"-360.8\" font-family=\"Times,serif\" font-size=\"14.00\">&lt;expr&gt;</text>\n",
       "</g>\n",
       "<!-- 9&#45;&gt;11 -->\n",
       "<g id=\"edge11\" class=\"edge\">\n",
       "<title>9&#45;&gt;11</title>\n",
       "<path fill=\"none\" stroke=\"black\" d=\"M129.63,-408.09C129.76,-401.75 129.96,-391.75 130.14,-383.03\"/>\n",
       "<polygon fill=\"black\" stroke=\"black\" points=\"133.64,-383.34 130.34,-373.27 126.64,-383.19 133.64,-383.34\"/>\n",
       "</g>\n",
       "<!-- 31 -->\n",
       "<g id=\"node32\" class=\"node\">\n",
       "<title>31</title>\n",
       "<text text-anchor=\"middle\" x=\"184.5\" y=\"-360.8\" font-family=\"Times,serif\" font-size=\"14.00\">) (41)</text>\n",
       "</g>\n",
       "<!-- 9&#45;&gt;31 -->\n",
       "<g id=\"edge31\" class=\"edge\">\n",
       "<title>9&#45;&gt;31</title>\n",
       "<path fill=\"none\" stroke=\"black\" d=\"M136.69,-408.09C144.89,-400.79 158.53,-388.64 169.14,-379.18\"/>\n",
       "<polygon fill=\"black\" stroke=\"black\" points=\"171.21,-382.02 176.35,-372.76 166.56,-376.8 171.21,-382.02\"/>\n",
       "</g>\n",
       "<!-- 12 -->\n",
       "<g id=\"node13\" class=\"node\">\n",
       "<title>12</title>\n",
       "<text text-anchor=\"middle\" x=\"80.5\" y=\"-309.8\" font-family=\"Times,serif\" font-size=\"14.00\">&lt;term&gt;</text>\n",
       "</g>\n",
       "<!-- 11&#45;&gt;12 -->\n",
       "<g id=\"edge12\" class=\"edge\">\n",
       "<title>11&#45;&gt;12</title>\n",
       "<path fill=\"none\" stroke=\"black\" d=\"M123.96,-357.09C116.66,-349.94 104.61,-338.13 95.05,-328.76\"/>\n",
       "<polygon fill=\"black\" stroke=\"black\" points=\"97.55,-326.31 87.96,-321.81 92.65,-331.31 97.55,-326.31\"/>\n",
       "</g>\n",
       "<!-- 17 -->\n",
       "<g id=\"node18\" class=\"node\">\n",
       "<title>17</title>\n",
       "<text text-anchor=\"middle\" x=\"130.5\" y=\"-309.8\" font-family=\"Times,serif\" font-size=\"14.00\"> + </text>\n",
       "</g>\n",
       "<!-- 11&#45;&gt;17 -->\n",
       "<g id=\"edge17\" class=\"edge\">\n",
       "<title>11&#45;&gt;17</title>\n",
       "<path fill=\"none\" stroke=\"black\" d=\"M130.5,-357.09C130.5,-350.75 130.5,-340.75 130.5,-332.03\"/>\n",
       "<polygon fill=\"black\" stroke=\"black\" points=\"134,-332.27 130.5,-322.27 127,-332.27 134,-332.27\"/>\n",
       "</g>\n",
       "<!-- 18 -->\n",
       "<g id=\"node19\" class=\"node\">\n",
       "<title>18</title>\n",
       "<text text-anchor=\"middle\" x=\"178.5\" y=\"-309.8\" font-family=\"Times,serif\" font-size=\"14.00\">&lt;expr&gt;</text>\n",
       "</g>\n",
       "<!-- 11&#45;&gt;18 -->\n",
       "<g id=\"edge18\" class=\"edge\">\n",
       "<title>11&#45;&gt;18</title>\n",
       "<path fill=\"none\" stroke=\"black\" d=\"M136.78,-357.09C143.78,-349.94 155.35,-338.13 164.53,-328.76\"/>\n",
       "<polygon fill=\"black\" stroke=\"black\" points=\"166.82,-331.43 171.32,-321.83 161.82,-326.53 166.82,-331.43\"/>\n",
       "</g>\n",
       "<!-- 13 -->\n",
       "<g id=\"node14\" class=\"node\">\n",
       "<title>13</title>\n",
       "<text text-anchor=\"middle\" x=\"79.5\" y=\"-258.8\" font-family=\"Times,serif\" font-size=\"14.00\">&lt;factor&gt;</text>\n",
       "</g>\n",
       "<!-- 12&#45;&gt;13 -->\n",
       "<g id=\"edge13\" class=\"edge\">\n",
       "<title>12&#45;&gt;13</title>\n",
       "<path fill=\"none\" stroke=\"black\" d=\"M80.37,-306.09C80.24,-299.75 80.04,-289.75 79.86,-281.03\"/>\n",
       "<polygon fill=\"black\" stroke=\"black\" points=\"83.36,-281.19 79.66,-271.27 76.36,-281.34 83.36,-281.19\"/>\n",
       "</g>\n",
       "<!-- 14 -->\n",
       "<g id=\"node15\" class=\"node\">\n",
       "<title>14</title>\n",
       "<text text-anchor=\"middle\" x=\"71.5\" y=\"-207.8\" font-family=\"Times,serif\" font-size=\"14.00\">&lt;integer&gt;</text>\n",
       "</g>\n",
       "<!-- 13&#45;&gt;14 -->\n",
       "<g id=\"edge14\" class=\"edge\">\n",
       "<title>13&#45;&gt;14</title>\n",
       "<path fill=\"none\" stroke=\"black\" d=\"M78.45,-255.09C77.42,-248.75 75.79,-238.75 74.36,-230.03\"/>\n",
       "<polygon fill=\"black\" stroke=\"black\" points=\"77.83,-229.55 72.76,-220.25 70.92,-230.68 77.83,-229.55\"/>\n",
       "</g>\n",
       "<!-- 15 -->\n",
       "<g id=\"node16\" class=\"node\">\n",
       "<title>15</title>\n",
       "<text text-anchor=\"middle\" x=\"55.5\" y=\"-156.8\" font-family=\"Times,serif\" font-size=\"14.00\">&lt;digit&gt;</text>\n",
       "</g>\n",
       "<!-- 14&#45;&gt;15 -->\n",
       "<g id=\"edge15\" class=\"edge\">\n",
       "<title>14&#45;&gt;15</title>\n",
       "<path fill=\"none\" stroke=\"black\" d=\"M69.41,-204.09C67.29,-197.6 63.92,-187.28 61.03,-178.42\"/>\n",
       "<polygon fill=\"black\" stroke=\"black\" points=\"64.44,-177.61 58.01,-169.19 57.79,-179.78 64.44,-177.61\"/>\n",
       "</g>\n",
       "<!-- 16 -->\n",
       "<g id=\"node17\" class=\"node\">\n",
       "<title>16</title>\n",
       "<text text-anchor=\"middle\" x=\"55.5\" y=\"-105.8\" font-family=\"Times,serif\" font-size=\"14.00\">2 (50)</text>\n",
       "</g>\n",
       "<!-- 15&#45;&gt;16 -->\n",
       "<g id=\"edge16\" class=\"edge\">\n",
       "<title>15&#45;&gt;16</title>\n",
       "<path fill=\"none\" stroke=\"black\" d=\"M55.5,-153.09C55.5,-146.75 55.5,-136.75 55.5,-128.03\"/>\n",
       "<polygon fill=\"black\" stroke=\"black\" points=\"59,-128.27 55.5,-118.27 52,-128.27 59,-128.27\"/>\n",
       "</g>\n",
       "<!-- 19 -->\n",
       "<g id=\"node20\" class=\"node\">\n",
       "<title>19</title>\n",
       "<text text-anchor=\"middle\" x=\"178.5\" y=\"-258.8\" font-family=\"Times,serif\" font-size=\"14.00\">&lt;term&gt;</text>\n",
       "</g>\n",
       "<!-- 18&#45;&gt;19 -->\n",
       "<g id=\"edge19\" class=\"edge\">\n",
       "<title>18&#45;&gt;19</title>\n",
       "<path fill=\"none\" stroke=\"black\" d=\"M178.5,-306.09C178.5,-299.75 178.5,-289.75 178.5,-281.03\"/>\n",
       "<polygon fill=\"black\" stroke=\"black\" points=\"182,-281.27 178.5,-271.27 175,-281.27 182,-281.27\"/>\n",
       "</g>\n",
       "<!-- 20 -->\n",
       "<g id=\"node21\" class=\"node\">\n",
       "<title>20</title>\n",
       "<text text-anchor=\"middle\" x=\"182.5\" y=\"-207.8\" font-family=\"Times,serif\" font-size=\"14.00\">&lt;factor&gt;</text>\n",
       "</g>\n",
       "<!-- 19&#45;&gt;20 -->\n",
       "<g id=\"edge20\" class=\"edge\">\n",
       "<title>19&#45;&gt;20</title>\n",
       "<path fill=\"none\" stroke=\"black\" d=\"M179.02,-255.09C179.54,-248.75 180.36,-238.75 181.07,-230.03\"/>\n",
       "<polygon fill=\"black\" stroke=\"black\" points=\"184.54,-230.51 181.87,-220.26 177.56,-229.94 184.54,-230.51\"/>\n",
       "</g>\n",
       "<!-- 21 -->\n",
       "<g id=\"node22\" class=\"node\">\n",
       "<title>21</title>\n",
       "<text text-anchor=\"middle\" x=\"122.5\" y=\"-156.8\" font-family=\"Times,serif\" font-size=\"14.00\">&lt;integer&gt;</text>\n",
       "</g>\n",
       "<!-- 20&#45;&gt;21 -->\n",
       "<g id=\"edge21\" class=\"edge\">\n",
       "<title>20&#45;&gt;21</title>\n",
       "<path fill=\"none\" stroke=\"black\" d=\"M174.66,-204.09C165.62,-196.72 150.53,-184.39 138.9,-174.9\"/>\n",
       "<polygon fill=\"black\" stroke=\"black\" points=\"141.29,-172.32 131.33,-168.71 136.86,-177.75 141.29,-172.32\"/>\n",
       "</g>\n",
       "<!-- 24 -->\n",
       "<g id=\"node25\" class=\"node\">\n",
       "<title>24</title>\n",
       "<text text-anchor=\"middle\" x=\"183.5\" y=\"-156.8\" font-family=\"Times,serif\" font-size=\"14.00\">. (46)</text>\n",
       "</g>\n",
       "<!-- 20&#45;&gt;24 -->\n",
       "<g id=\"edge24\" class=\"edge\">\n",
       "<title>20&#45;&gt;24</title>\n",
       "<path fill=\"none\" stroke=\"black\" d=\"M182.63,-204.09C182.76,-197.75 182.96,-187.75 183.14,-179.03\"/>\n",
       "<polygon fill=\"black\" stroke=\"black\" points=\"186.64,-179.34 183.34,-169.27 179.64,-179.19 186.64,-179.34\"/>\n",
       "</g>\n",
       "<!-- 25 -->\n",
       "<g id=\"node26\" class=\"node\">\n",
       "<title>25</title>\n",
       "<text text-anchor=\"middle\" x=\"244.5\" y=\"-156.8\" font-family=\"Times,serif\" font-size=\"14.00\">&lt;integer&gt;</text>\n",
       "</g>\n",
       "<!-- 20&#45;&gt;25 -->\n",
       "<g id=\"edge25\" class=\"edge\">\n",
       "<title>20&#45;&gt;25</title>\n",
       "<path fill=\"none\" stroke=\"black\" d=\"M190.61,-204.09C200.03,-196.64 215.84,-184.15 227.91,-174.61\"/>\n",
       "<polygon fill=\"black\" stroke=\"black\" points=\"229.73,-177.64 235.4,-168.69 225.39,-172.15 229.73,-177.64\"/>\n",
       "</g>\n",
       "<!-- 22 -->\n",
       "<g id=\"node23\" class=\"node\">\n",
       "<title>22</title>\n",
       "<text text-anchor=\"middle\" x=\"122.5\" y=\"-105.8\" font-family=\"Times,serif\" font-size=\"14.00\">&lt;digit&gt;</text>\n",
       "</g>\n",
       "<!-- 21&#45;&gt;22 -->\n",
       "<g id=\"edge22\" class=\"edge\">\n",
       "<title>21&#45;&gt;22</title>\n",
       "<path fill=\"none\" stroke=\"black\" d=\"M122.5,-153.09C122.5,-146.75 122.5,-136.75 122.5,-128.03\"/>\n",
       "<polygon fill=\"black\" stroke=\"black\" points=\"126,-128.27 122.5,-118.27 119,-128.27 126,-128.27\"/>\n",
       "</g>\n",
       "<!-- 23 -->\n",
       "<g id=\"node24\" class=\"node\">\n",
       "<title>23</title>\n",
       "<text text-anchor=\"middle\" x=\"122.5\" y=\"-54.8\" font-family=\"Times,serif\" font-size=\"14.00\">3 (51)</text>\n",
       "</g>\n",
       "<!-- 22&#45;&gt;23 -->\n",
       "<g id=\"edge23\" class=\"edge\">\n",
       "<title>22&#45;&gt;23</title>\n",
       "<path fill=\"none\" stroke=\"black\" d=\"M122.5,-102.09C122.5,-95.75 122.5,-85.75 122.5,-77.03\"/>\n",
       "<polygon fill=\"black\" stroke=\"black\" points=\"126,-77.27 122.5,-67.27 119,-77.27 126,-77.27\"/>\n",
       "</g>\n",
       "<!-- 26 -->\n",
       "<g id=\"node27\" class=\"node\">\n",
       "<title>26</title>\n",
       "<text text-anchor=\"middle\" x=\"213.5\" y=\"-105.8\" font-family=\"Times,serif\" font-size=\"14.00\">&lt;digit&gt;</text>\n",
       "</g>\n",
       "<!-- 25&#45;&gt;26 -->\n",
       "<g id=\"edge26\" class=\"edge\">\n",
       "<title>25&#45;&gt;26</title>\n",
       "<path fill=\"none\" stroke=\"black\" d=\"M240.45,-153.09C236.15,-146.31 229.21,-135.33 223.45,-126.23\"/>\n",
       "<polygon fill=\"black\" stroke=\"black\" points=\"226.57,-124.61 218.26,-118.03 220.65,-128.35 226.57,-124.61\"/>\n",
       "</g>\n",
       "<!-- 28 -->\n",
       "<g id=\"node29\" class=\"node\">\n",
       "<title>28</title>\n",
       "<text text-anchor=\"middle\" x=\"280.5\" y=\"-105.8\" font-family=\"Times,serif\" font-size=\"14.00\">&lt;integer&gt;</text>\n",
       "</g>\n",
       "<!-- 25&#45;&gt;28 -->\n",
       "<g id=\"edge28\" class=\"edge\">\n",
       "<title>25&#45;&gt;28</title>\n",
       "<path fill=\"none\" stroke=\"black\" d=\"M249.21,-153.09C254.25,-146.23 262.43,-135.1 269.16,-125.93\"/>\n",
       "<polygon fill=\"black\" stroke=\"black\" points=\"271.91,-128.1 275.01,-117.97 266.27,-123.96 271.91,-128.1\"/>\n",
       "</g>\n",
       "<!-- 27 -->\n",
       "<g id=\"node28\" class=\"node\">\n",
       "<title>27</title>\n",
       "<text text-anchor=\"middle\" x=\"213.5\" y=\"-54.8\" font-family=\"Times,serif\" font-size=\"14.00\">3 (51)</text>\n",
       "</g>\n",
       "<!-- 26&#45;&gt;27 -->\n",
       "<g id=\"edge27\" class=\"edge\">\n",
       "<title>26&#45;&gt;27</title>\n",
       "<path fill=\"none\" stroke=\"black\" d=\"M213.5,-102.09C213.5,-95.75 213.5,-85.75 213.5,-77.03\"/>\n",
       "<polygon fill=\"black\" stroke=\"black\" points=\"217,-77.27 213.5,-67.27 210,-77.27 217,-77.27\"/>\n",
       "</g>\n",
       "<!-- 29 -->\n",
       "<g id=\"node30\" class=\"node\">\n",
       "<title>29</title>\n",
       "<text text-anchor=\"middle\" x=\"280.5\" y=\"-54.8\" font-family=\"Times,serif\" font-size=\"14.00\">&lt;digit&gt;</text>\n",
       "</g>\n",
       "<!-- 28&#45;&gt;29 -->\n",
       "<g id=\"edge29\" class=\"edge\">\n",
       "<title>28&#45;&gt;29</title>\n",
       "<path fill=\"none\" stroke=\"black\" d=\"M280.5,-102.09C280.5,-95.75 280.5,-85.75 280.5,-77.03\"/>\n",
       "<polygon fill=\"black\" stroke=\"black\" points=\"284,-77.27 280.5,-67.27 277,-77.27 284,-77.27\"/>\n",
       "</g>\n",
       "<!-- 30 -->\n",
       "<g id=\"node31\" class=\"node\">\n",
       "<title>30</title>\n",
       "<text text-anchor=\"middle\" x=\"280.5\" y=\"-3.8\" font-family=\"Times,serif\" font-size=\"14.00\">5 (53)</text>\n",
       "</g>\n",
       "<!-- 29&#45;&gt;30 -->\n",
       "<g id=\"edge30\" class=\"edge\">\n",
       "<title>29&#45;&gt;30</title>\n",
       "<path fill=\"none\" stroke=\"black\" d=\"M280.5,-51.09C280.5,-44.75 280.5,-34.75 280.5,-26.03\"/>\n",
       "<polygon fill=\"black\" stroke=\"black\" points=\"284,-26.27 280.5,-16.27 277,-26.27 284,-26.27\"/>\n",
       "</g>\n",
       "</g>\n",
       "</svg>\n"
      ],
      "text/plain": [
       "<graphviz.graphs.Digraph at 0x10ddc2a10>"
      ]
     },
     "metadata": {},
     "output_type": "display_data"
    }
   ],
   "source": [
    "mystring = \"1 * (2 + 3.35)\"\n",
    "for tree in earley.parse(mystring):\n",
    "    assert tree_to_string(tree) == mystring\n",
    "    display(display_tree(tree))"
   ]
  },
  {
   "cell_type": "markdown",
   "metadata": {
    "slideshow": {
     "slide_type": "notes"
    }
   },
   "source": [
    "In contrast to the `PEGParser`, above, the `EarleyParser` can handle arbitrary context-free grammars."
   ]
  },
  {
   "cell_type": "markdown",
   "metadata": {
    "slideshow": {
     "slide_type": "slide"
    }
   },
   "source": [
    "### Excursion: Testing the Parsers\n",
    "\n",
    "While we have defined two parser variants, it would be nice to have some confirmation that our parses work well. While it is possible to formally prove that they work, it is much more satisfying to generate random grammars, their corresponding strings, and parse them using the same grammar."
   ]
  },
  {
   "cell_type": "code",
   "execution_count": 164,
   "metadata": {
    "execution": {
     "iopub.execute_input": "2023-01-07T14:16:20.807797Z",
     "iopub.status.busy": "2023-01-07T14:16:20.807477Z",
     "iopub.status.idle": "2023-01-07T14:16:20.808674Z",
     "shell.execute_reply": "2023-01-07T14:16:20.808898Z"
    },
    "slideshow": {
     "slide_type": "subslide"
    }
   },
   "outputs": [],
   "source": [
    "def prod_line_grammar(nonterminals, terminals):\n",
    "    g = {\n",
    "        '<start>': ['<symbols>'],\n",
    "        '<symbols>': ['<symbol><symbols>', '<symbol>'],\n",
    "        '<symbol>': ['<nonterminals>', '<terminals>'],\n",
    "        '<nonterminals>': ['<lt><alpha><gt>'],\n",
    "        '<lt>': ['<'],\n",
    "        '<gt>': ['>'],\n",
    "        '<alpha>': nonterminals,\n",
    "        '<terminals>': terminals\n",
    "    }\n",
    "\n",
    "    if not nonterminals:\n",
    "        g['<nonterminals>'] = ['']\n",
    "        del g['<lt>']\n",
    "        del g['<alpha>']\n",
    "        del g['<gt>']\n",
    "\n",
    "    return g"
   ]
  },
  {
   "cell_type": "code",
   "execution_count": 165,
   "metadata": {
    "execution": {
     "iopub.execute_input": "2023-01-07T14:16:20.811571Z",
     "iopub.status.busy": "2023-01-07T14:16:20.811248Z",
     "iopub.status.idle": "2023-01-07T14:16:20.820841Z",
     "shell.execute_reply": "2023-01-07T14:16:20.821084Z"
    },
    "slideshow": {
     "slide_type": "subslide"
    }
   },
   "outputs": [
    {
     "name": "stdout",
     "output_type": "stream",
     "text": [
      "start\n"
     ]
    },
    {
     "data": {
      "image/svg+xml": [
       "<svg xmlns=\"http://www.w3.org/2000/svg\" class=\"railroad-diagram\" height=\"62\" viewBox=\"0 0 199.5 62\" width=\"199.5\">\n",
       "<g transform=\"translate(.5 .5)\">\n",
       "<style>/* <![CDATA[ */\n",
       "    svg.railroad-diagram {\n",
       "    }\n",
       "    svg.railroad-diagram path {\n",
       "        stroke-width:3;\n",
       "        stroke:black;\n",
       "        fill:white;\n",
       "    }\n",
       "    svg.railroad-diagram text {\n",
       "        font:14px \"Fira Mono\", monospace;\n",
       "        text-anchor:middle;\n",
       "    }\n",
       "    svg.railroad-diagram text.label{\n",
       "        text-anchor:start;\n",
       "    }\n",
       "    svg.railroad-diagram text.comment{\n",
       "        font:italic 12px \"Fira Mono\", monospace;\n",
       "    }\n",
       "    svg.railroad-diagram rect{\n",
       "        stroke-width:2;\n",
       "        stroke:black;\n",
       "        fill:mistyrose;\n",
       "    }\n",
       "\n",
       "/* ]]> */\n",
       "</style><g>\n",
       "<path d=\"M20 21v20m10 -20v20m-10 -10h20\"/></g><g>\n",
       "<path d=\"M40 31h0.0\"/><path d=\"M159.5 31h0.0\"/><path d=\"M40.0 31h20\"/><g>\n",
       "<path d=\"M60.0 31h0.0\"/><path d=\"M139.5 31h0.0\"/><g class=\"non-terminal\">\n",
       "<path d=\"M60.0 31h0.0\"/><path d=\"M139.5 31h0.0\"/><rect height=\"22\" width=\"79.5\" x=\"60.0\" y=\"20\"/><text x=\"99.75\" y=\"35\">symbols</text></g></g><path d=\"M139.5 31h20\"/></g><path d=\"M 159.5 31 h 20 m -10 -10 v 20 m 10 -20 v 20\"/></g></svg>"
      ],
      "text/plain": [
       "<IPython.core.display.SVG object>"
      ]
     },
     "metadata": {},
     "output_type": "display_data"
    },
    {
     "name": "stdout",
     "output_type": "stream",
     "text": [
      "symbols\n"
     ]
    },
    {
     "data": {
      "image/svg+xml": [
       "<svg xmlns=\"http://www.w3.org/2000/svg\" class=\"railroad-diagram\" height=\"92\" viewBox=\"0 0 290.5 92\" width=\"290.5\">\n",
       "<g transform=\"translate(.5 .5)\">\n",
       "<style>/* <![CDATA[ */\n",
       "    svg.railroad-diagram {\n",
       "    }\n",
       "    svg.railroad-diagram path {\n",
       "        stroke-width:3;\n",
       "        stroke:black;\n",
       "        fill:white;\n",
       "    }\n",
       "    svg.railroad-diagram text {\n",
       "        font:14px \"Fira Mono\", monospace;\n",
       "        text-anchor:middle;\n",
       "    }\n",
       "    svg.railroad-diagram text.label{\n",
       "        text-anchor:start;\n",
       "    }\n",
       "    svg.railroad-diagram text.comment{\n",
       "        font:italic 12px \"Fira Mono\", monospace;\n",
       "    }\n",
       "    svg.railroad-diagram rect{\n",
       "        stroke-width:2;\n",
       "        stroke:black;\n",
       "        fill:mistyrose;\n",
       "    }\n",
       "\n",
       "/* ]]> */\n",
       "</style><g>\n",
       "<path d=\"M20 51v20m10 -20v20m-10 -10h20\"/></g><g>\n",
       "<path d=\"M40 61h0.0\"/><path d=\"M250.5 61h0.0\"/><path d=\"M40.0 61a10 10 0 0 0 10 -10v-10a10 10 0 0 1 10 -10\"/><g>\n",
       "<path d=\"M60.0 31h0.0\"/><path d=\"M230.5 31h0.0\"/><g class=\"non-terminal\">\n",
       "<path d=\"M60.0 31h0.0\"/><path d=\"M131.0 31h0.0\"/><rect height=\"22\" width=\"71.0\" x=\"60.0\" y=\"20\"/><text x=\"95.5\" y=\"35\">symbol</text></g><path d=\"M131.0 31h10\"/><path d=\"M141.0 31h10\"/><g class=\"non-terminal\">\n",
       "<path d=\"M151.0 31h0.0\"/><path d=\"M230.5 31h0.0\"/><rect height=\"22\" width=\"79.5\" x=\"151.0\" y=\"20\"/><text x=\"190.75\" y=\"35\">symbols</text></g></g><path d=\"M230.5 31a10 10 0 0 1 10 10v10a10 10 0 0 0 10 10\"/><path d=\"M40.0 61h20\"/><g>\n",
       "<path d=\"M60.0 61h49.75\"/><path d=\"M180.75 61h49.75\"/><g class=\"non-terminal\">\n",
       "<path d=\"M109.75 61h0.0\"/><path d=\"M180.75 61h0.0\"/><rect height=\"22\" width=\"71.0\" x=\"109.75\" y=\"50\"/><text x=\"145.25\" y=\"65\">symbol</text></g></g><path d=\"M230.5 61h20\"/></g><path d=\"M 250.5 61 h 20 m -10 -10 v 20 m 10 -20 v 20\"/></g></svg>"
      ],
      "text/plain": [
       "<IPython.core.display.SVG object>"
      ]
     },
     "metadata": {},
     "output_type": "display_data"
    },
    {
     "name": "stdout",
     "output_type": "stream",
     "text": [
      "symbol\n"
     ]
    },
    {
     "data": {
      "image/svg+xml": [
       "<svg xmlns=\"http://www.w3.org/2000/svg\" class=\"railroad-diagram\" height=\"92\" viewBox=\"0 0 242.0 92\" width=\"242.0\">\n",
       "<g transform=\"translate(.5 .5)\">\n",
       "<style>/* <![CDATA[ */\n",
       "    svg.railroad-diagram {\n",
       "    }\n",
       "    svg.railroad-diagram path {\n",
       "        stroke-width:3;\n",
       "        stroke:black;\n",
       "        fill:white;\n",
       "    }\n",
       "    svg.railroad-diagram text {\n",
       "        font:14px \"Fira Mono\", monospace;\n",
       "        text-anchor:middle;\n",
       "    }\n",
       "    svg.railroad-diagram text.label{\n",
       "        text-anchor:start;\n",
       "    }\n",
       "    svg.railroad-diagram text.comment{\n",
       "        font:italic 12px \"Fira Mono\", monospace;\n",
       "    }\n",
       "    svg.railroad-diagram rect{\n",
       "        stroke-width:2;\n",
       "        stroke:black;\n",
       "        fill:mistyrose;\n",
       "    }\n",
       "\n",
       "/* ]]> */\n",
       "</style><g>\n",
       "<path d=\"M20 51v20m10 -20v20m-10 -10h20\"/></g><g>\n",
       "<path d=\"M40 61h0.0\"/><path d=\"M202.0 61h0.0\"/><path d=\"M40.0 61a10 10 0 0 0 10 -10v-10a10 10 0 0 1 10 -10\"/><g>\n",
       "<path d=\"M60.0 31h0.0\"/><path d=\"M182.0 31h0.0\"/><g class=\"non-terminal\">\n",
       "<path d=\"M60.0 31h0.0\"/><path d=\"M182.0 31h0.0\"/><rect height=\"22\" width=\"122.0\" x=\"60.0\" y=\"20\"/><text x=\"121.0\" y=\"35\">nonterminals</text></g></g><path d=\"M182.0 31a10 10 0 0 1 10 10v10a10 10 0 0 0 10 10\"/><path d=\"M40.0 61h20\"/><g>\n",
       "<path d=\"M60.0 61h12.75\"/><path d=\"M169.25 61h12.75\"/><g class=\"non-terminal\">\n",
       "<path d=\"M72.75 61h0.0\"/><path d=\"M169.25 61h0.0\"/><rect height=\"22\" width=\"96.5\" x=\"72.75\" y=\"50\"/><text x=\"121.0\" y=\"65\">terminals</text></g></g><path d=\"M182.0 61h20\"/></g><path d=\"M 202.0 61 h 20 m -10 -10 v 20 m 10 -20 v 20\"/></g></svg>"
      ],
      "text/plain": [
       "<IPython.core.display.SVG object>"
      ]
     },
     "metadata": {},
     "output_type": "display_data"
    },
    {
     "name": "stdout",
     "output_type": "stream",
     "text": [
      "nonterminals\n"
     ]
    },
    {
     "data": {
      "image/svg+xml": [
       "<svg xmlns=\"http://www.w3.org/2000/svg\" class=\"railroad-diagram\" height=\"62\" viewBox=\"0 0 296.5 62\" width=\"296.5\">\n",
       "<g transform=\"translate(.5 .5)\">\n",
       "<style>/* <![CDATA[ */\n",
       "    svg.railroad-diagram {\n",
       "    }\n",
       "    svg.railroad-diagram path {\n",
       "        stroke-width:3;\n",
       "        stroke:black;\n",
       "        fill:white;\n",
       "    }\n",
       "    svg.railroad-diagram text {\n",
       "        font:14px \"Fira Mono\", monospace;\n",
       "        text-anchor:middle;\n",
       "    }\n",
       "    svg.railroad-diagram text.label{\n",
       "        text-anchor:start;\n",
       "    }\n",
       "    svg.railroad-diagram text.comment{\n",
       "        font:italic 12px \"Fira Mono\", monospace;\n",
       "    }\n",
       "    svg.railroad-diagram rect{\n",
       "        stroke-width:2;\n",
       "        stroke:black;\n",
       "        fill:mistyrose;\n",
       "    }\n",
       "\n",
       "/* ]]> */\n",
       "</style><g>\n",
       "<path d=\"M20 21v20m10 -20v20m-10 -10h20\"/></g><g>\n",
       "<path d=\"M40 31h0.0\"/><path d=\"M256.5 31h0.0\"/><path d=\"M40.0 31h20\"/><g>\n",
       "<path d=\"M60.0 31h0.0\"/><path d=\"M236.5 31h0.0\"/><g class=\"non-terminal\">\n",
       "<path d=\"M60.0 31h0.0\"/><path d=\"M97.0 31h0.0\"/><rect height=\"22\" width=\"37.0\" x=\"60.0\" y=\"20\"/><text x=\"78.5\" y=\"35\">lt</text></g><path d=\"M97.0 31h10\"/><path d=\"M107.0 31h10\"/><g class=\"non-terminal\">\n",
       "<path d=\"M117.0 31h0.0\"/><path d=\"M179.5 31h0.0\"/><rect height=\"22\" width=\"62.5\" x=\"117.0\" y=\"20\"/><text x=\"148.25\" y=\"35\">alpha</text></g><path d=\"M179.5 31h10\"/><path d=\"M189.5 31h10\"/><g class=\"non-terminal\">\n",
       "<path d=\"M199.5 31h0.0\"/><path d=\"M236.5 31h0.0\"/><rect height=\"22\" width=\"37.0\" x=\"199.5\" y=\"20\"/><text x=\"218.0\" y=\"35\">gt</text></g></g><path d=\"M236.5 31h20\"/></g><path d=\"M 256.5 31 h 20 m -10 -10 v 20 m 10 -20 v 20\"/></g></svg>"
      ],
      "text/plain": [
       "<IPython.core.display.SVG object>"
      ]
     },
     "metadata": {},
     "output_type": "display_data"
    },
    {
     "name": "stdout",
     "output_type": "stream",
     "text": [
      "lt\n"
     ]
    },
    {
     "data": {
      "image/svg+xml": [
       "<svg xmlns=\"http://www.w3.org/2000/svg\" class=\"railroad-diagram\" height=\"62\" viewBox=\"0 0 148.5 62\" width=\"148.5\">\n",
       "<g transform=\"translate(.5 .5)\">\n",
       "<style>/* <![CDATA[ */\n",
       "    svg.railroad-diagram {\n",
       "    }\n",
       "    svg.railroad-diagram path {\n",
       "        stroke-width:3;\n",
       "        stroke:black;\n",
       "        fill:white;\n",
       "    }\n",
       "    svg.railroad-diagram text {\n",
       "        font:14px \"Fira Mono\", monospace;\n",
       "        text-anchor:middle;\n",
       "    }\n",
       "    svg.railroad-diagram text.label{\n",
       "        text-anchor:start;\n",
       "    }\n",
       "    svg.railroad-diagram text.comment{\n",
       "        font:italic 12px \"Fira Mono\", monospace;\n",
       "    }\n",
       "    svg.railroad-diagram rect{\n",
       "        stroke-width:2;\n",
       "        stroke:black;\n",
       "        fill:mistyrose;\n",
       "    }\n",
       "\n",
       "/* ]]> */\n",
       "</style><g>\n",
       "<path d=\"M20 21v20m10 -20v20m-10 -10h20\"/></g><g>\n",
       "<path d=\"M40 31h0.0\"/><path d=\"M108.5 31h0.0\"/><path d=\"M40.0 31h20\"/><g>\n",
       "<path d=\"M60.0 31h0.0\"/><path d=\"M88.5 31h0.0\"/><g class=\"terminal\">\n",
       "<path d=\"M60.0 31h0.0\"/><path d=\"M88.5 31h0.0\"/><rect height=\"22\" rx=\"10\" ry=\"10\" width=\"28.5\" x=\"60.0\" y=\"20\"/><text x=\"74.25\" y=\"35\">&lt;</text></g></g><path d=\"M88.5 31h20\"/></g><path d=\"M 108.5 31 h 20 m -10 -10 v 20 m 10 -20 v 20\"/></g></svg>"
      ],
      "text/plain": [
       "<IPython.core.display.SVG object>"
      ]
     },
     "metadata": {},
     "output_type": "display_data"
    },
    {
     "name": "stdout",
     "output_type": "stream",
     "text": [
      "gt\n"
     ]
    },
    {
     "data": {
      "image/svg+xml": [
       "<svg xmlns=\"http://www.w3.org/2000/svg\" class=\"railroad-diagram\" height=\"62\" viewBox=\"0 0 148.5 62\" width=\"148.5\">\n",
       "<g transform=\"translate(.5 .5)\">\n",
       "<style>/* <![CDATA[ */\n",
       "    svg.railroad-diagram {\n",
       "    }\n",
       "    svg.railroad-diagram path {\n",
       "        stroke-width:3;\n",
       "        stroke:black;\n",
       "        fill:white;\n",
       "    }\n",
       "    svg.railroad-diagram text {\n",
       "        font:14px \"Fira Mono\", monospace;\n",
       "        text-anchor:middle;\n",
       "    }\n",
       "    svg.railroad-diagram text.label{\n",
       "        text-anchor:start;\n",
       "    }\n",
       "    svg.railroad-diagram text.comment{\n",
       "        font:italic 12px \"Fira Mono\", monospace;\n",
       "    }\n",
       "    svg.railroad-diagram rect{\n",
       "        stroke-width:2;\n",
       "        stroke:black;\n",
       "        fill:mistyrose;\n",
       "    }\n",
       "\n",
       "/* ]]> */\n",
       "</style><g>\n",
       "<path d=\"M20 21v20m10 -20v20m-10 -10h20\"/></g><g>\n",
       "<path d=\"M40 31h0.0\"/><path d=\"M108.5 31h0.0\"/><path d=\"M40.0 31h20\"/><g>\n",
       "<path d=\"M60.0 31h0.0\"/><path d=\"M88.5 31h0.0\"/><g class=\"terminal\">\n",
       "<path d=\"M60.0 31h0.0\"/><path d=\"M88.5 31h0.0\"/><rect height=\"22\" rx=\"10\" ry=\"10\" width=\"28.5\" x=\"60.0\" y=\"20\"/><text x=\"74.25\" y=\"35\">&gt;</text></g></g><path d=\"M88.5 31h20\"/></g><path d=\"M 108.5 31 h 20 m -10 -10 v 20 m 10 -20 v 20\"/></g></svg>"
      ],
      "text/plain": [
       "<IPython.core.display.SVG object>"
      ]
     },
     "metadata": {},
     "output_type": "display_data"
    },
    {
     "name": "stdout",
     "output_type": "stream",
     "text": [
      "alpha\n"
     ]
    },
    {
     "data": {
      "image/svg+xml": [
       "<svg xmlns=\"http://www.w3.org/2000/svg\" class=\"railroad-diagram\" height=\"122\" viewBox=\"0 0 148.5 122\" width=\"148.5\">\n",
       "<g transform=\"translate(.5 .5)\">\n",
       "<style>/* <![CDATA[ */\n",
       "    svg.railroad-diagram {\n",
       "    }\n",
       "    svg.railroad-diagram path {\n",
       "        stroke-width:3;\n",
       "        stroke:black;\n",
       "        fill:white;\n",
       "    }\n",
       "    svg.railroad-diagram text {\n",
       "        font:14px \"Fira Mono\", monospace;\n",
       "        text-anchor:middle;\n",
       "    }\n",
       "    svg.railroad-diagram text.label{\n",
       "        text-anchor:start;\n",
       "    }\n",
       "    svg.railroad-diagram text.comment{\n",
       "        font:italic 12px \"Fira Mono\", monospace;\n",
       "    }\n",
       "    svg.railroad-diagram rect{\n",
       "        stroke-width:2;\n",
       "        stroke:black;\n",
       "        fill:mistyrose;\n",
       "    }\n",
       "\n",
       "/* ]]> */\n",
       "</style><g>\n",
       "<path d=\"M20 51v20m10 -20v20m-10 -10h20\"/></g><g>\n",
       "<path d=\"M40 61h0.0\"/><path d=\"M108.5 61h0.0\"/><path d=\"M40.0 61a10 10 0 0 0 10 -10v-10a10 10 0 0 1 10 -10\"/><g>\n",
       "<path d=\"M60.0 31h0.0\"/><path d=\"M88.5 31h0.0\"/><g class=\"terminal\">\n",
       "<path d=\"M60.0 31h0.0\"/><path d=\"M88.5 31h0.0\"/><rect height=\"22\" rx=\"10\" ry=\"10\" width=\"28.5\" x=\"60.0\" y=\"20\"/><text x=\"74.25\" y=\"35\">A</text></g></g><path d=\"M88.5 31a10 10 0 0 1 10 10v10a10 10 0 0 0 10 10\"/><path d=\"M40.0 61h20\"/><g>\n",
       "<path d=\"M60.0 61h0.0\"/><path d=\"M88.5 61h0.0\"/><g class=\"terminal\">\n",
       "<path d=\"M60.0 61h0.0\"/><path d=\"M88.5 61h0.0\"/><rect height=\"22\" rx=\"10\" ry=\"10\" width=\"28.5\" x=\"60.0\" y=\"50\"/><text x=\"74.25\" y=\"65\">B</text></g></g><path d=\"M88.5 61h20\"/><path d=\"M40.0 61a10 10 0 0 1 10 10v10a10 10 0 0 0 10 10\"/><g>\n",
       "<path d=\"M60.0 91h0.0\"/><path d=\"M88.5 91h0.0\"/><g class=\"terminal\">\n",
       "<path d=\"M60.0 91h0.0\"/><path d=\"M88.5 91h0.0\"/><rect height=\"22\" rx=\"10\" ry=\"10\" width=\"28.5\" x=\"60.0\" y=\"80\"/><text x=\"74.25\" y=\"95\">C</text></g></g><path d=\"M88.5 91a10 10 0 0 0 10 -10v-10a10 10 0 0 1 10 -10\"/></g><path d=\"M 108.5 61 h 20 m -10 -10 v 20 m 10 -20 v 20\"/></g></svg>"
      ],
      "text/plain": [
       "<IPython.core.display.SVG object>"
      ]
     },
     "metadata": {},
     "output_type": "display_data"
    },
    {
     "name": "stdout",
     "output_type": "stream",
     "text": [
      "terminals\n"
     ]
    },
    {
     "data": {
      "image/svg+xml": [
       "<svg xmlns=\"http://www.w3.org/2000/svg\" class=\"railroad-diagram\" height=\"122\" viewBox=\"0 0 148.5 122\" width=\"148.5\">\n",
       "<g transform=\"translate(.5 .5)\">\n",
       "<style>/* <![CDATA[ */\n",
       "    svg.railroad-diagram {\n",
       "    }\n",
       "    svg.railroad-diagram path {\n",
       "        stroke-width:3;\n",
       "        stroke:black;\n",
       "        fill:white;\n",
       "    }\n",
       "    svg.railroad-diagram text {\n",
       "        font:14px \"Fira Mono\", monospace;\n",
       "        text-anchor:middle;\n",
       "    }\n",
       "    svg.railroad-diagram text.label{\n",
       "        text-anchor:start;\n",
       "    }\n",
       "    svg.railroad-diagram text.comment{\n",
       "        font:italic 12px \"Fira Mono\", monospace;\n",
       "    }\n",
       "    svg.railroad-diagram rect{\n",
       "        stroke-width:2;\n",
       "        stroke:black;\n",
       "        fill:mistyrose;\n",
       "    }\n",
       "\n",
       "/* ]]> */\n",
       "</style><g>\n",
       "<path d=\"M20 51v20m10 -20v20m-10 -10h20\"/></g><g>\n",
       "<path d=\"M40 61h0.0\"/><path d=\"M108.5 61h0.0\"/><path d=\"M40.0 61a10 10 0 0 0 10 -10v-10a10 10 0 0 1 10 -10\"/><g>\n",
       "<path d=\"M60.0 31h0.0\"/><path d=\"M88.5 31h0.0\"/><g class=\"terminal\">\n",
       "<path d=\"M60.0 31h0.0\"/><path d=\"M88.5 31h0.0\"/><rect height=\"22\" rx=\"10\" ry=\"10\" width=\"28.5\" x=\"60.0\" y=\"20\"/><text x=\"74.25\" y=\"35\">1</text></g></g><path d=\"M88.5 31a10 10 0 0 1 10 10v10a10 10 0 0 0 10 10\"/><path d=\"M40.0 61h20\"/><g>\n",
       "<path d=\"M60.0 61h0.0\"/><path d=\"M88.5 61h0.0\"/><g class=\"terminal\">\n",
       "<path d=\"M60.0 61h0.0\"/><path d=\"M88.5 61h0.0\"/><rect height=\"22\" rx=\"10\" ry=\"10\" width=\"28.5\" x=\"60.0\" y=\"50\"/><text x=\"74.25\" y=\"65\">2</text></g></g><path d=\"M88.5 61h20\"/><path d=\"M40.0 61a10 10 0 0 1 10 10v10a10 10 0 0 0 10 10\"/><g>\n",
       "<path d=\"M60.0 91h0.0\"/><path d=\"M88.5 91h0.0\"/><g class=\"terminal\">\n",
       "<path d=\"M60.0 91h0.0\"/><path d=\"M88.5 91h0.0\"/><rect height=\"22\" rx=\"10\" ry=\"10\" width=\"28.5\" x=\"60.0\" y=\"80\"/><text x=\"74.25\" y=\"95\">3</text></g></g><path d=\"M88.5 91a10 10 0 0 0 10 -10v-10a10 10 0 0 1 10 -10\"/></g><path d=\"M 108.5 61 h 20 m -10 -10 v 20 m 10 -20 v 20\"/></g></svg>"
      ],
      "text/plain": [
       "<IPython.core.display.SVG object>"
      ]
     },
     "metadata": {},
     "output_type": "display_data"
    }
   ],
   "source": [
    "syntax_diagram(prod_line_grammar([\"A\", \"B\", \"C\"], [\"1\", \"2\", \"3\"]))"
   ]
  },
  {
   "cell_type": "code",
   "execution_count": 166,
   "metadata": {
    "execution": {
     "iopub.execute_input": "2023-01-07T14:16:20.823662Z",
     "iopub.status.busy": "2023-01-07T14:16:20.823329Z",
     "iopub.status.idle": "2023-01-07T14:16:20.824769Z",
     "shell.execute_reply": "2023-01-07T14:16:20.824958Z"
    },
    "slideshow": {
     "slide_type": "subslide"
    }
   },
   "outputs": [],
   "source": [
    "def make_rule(nonterminals, terminals, num_alts):\n",
    "    prod_grammar = prod_line_grammar(nonterminals, terminals)\n",
    "\n",
    "    gf = GrammarFuzzer(prod_grammar, min_nonterminals=3, max_nonterminals=5)\n",
    "    name = \"<%s>\" % ''.join(random.choices(string.ascii_uppercase, k=3))\n",
    "\n",
    "    return (name, [gf.fuzz() for _ in range(num_alts)])"
   ]
  },
  {
   "cell_type": "code",
   "execution_count": 167,
   "metadata": {
    "execution": {
     "iopub.execute_input": "2023-01-07T14:16:20.827950Z",
     "iopub.status.busy": "2023-01-07T14:16:20.826041Z",
     "iopub.status.idle": "2023-01-07T14:16:20.829465Z",
     "shell.execute_reply": "2023-01-07T14:16:20.829717Z"
    },
    "slideshow": {
     "slide_type": "fragment"
    }
   },
   "outputs": [
    {
     "data": {
      "text/plain": [
       "('<FYU>', ['<C>23', '<C><A>', '<B><C>3'])"
      ]
     },
     "execution_count": 167,
     "metadata": {},
     "output_type": "execute_result"
    }
   ],
   "source": [
    "make_rule([\"A\", \"B\", \"C\"], [\"1\", \"2\", \"3\"], 3)"
   ]
  },
  {
   "cell_type": "code",
   "execution_count": 168,
   "metadata": {
    "execution": {
     "iopub.execute_input": "2023-01-07T14:16:20.831383Z",
     "iopub.status.busy": "2023-01-07T14:16:20.831091Z",
     "iopub.status.idle": "2023-01-07T14:16:20.832426Z",
     "shell.execute_reply": "2023-01-07T14:16:20.832617Z"
    },
    "slideshow": {
     "slide_type": "skip"
    }
   },
   "outputs": [],
   "source": [
    "from Grammars import unreachable_nonterminals"
   ]
  },
  {
   "cell_type": "code",
   "execution_count": 169,
   "metadata": {
    "execution": {
     "iopub.execute_input": "2023-01-07T14:16:20.834993Z",
     "iopub.status.busy": "2023-01-07T14:16:20.834697Z",
     "iopub.status.idle": "2023-01-07T14:16:20.836060Z",
     "shell.execute_reply": "2023-01-07T14:16:20.836279Z"
    },
    "slideshow": {
     "slide_type": "subslide"
    }
   },
   "outputs": [],
   "source": [
    "def make_grammar(num_symbols=3, num_alts=3):\n",
    "    terminals = list(string.ascii_lowercase)\n",
    "    grammar = {}\n",
    "    name = None\n",
    "    for _ in range(num_symbols):\n",
    "        nonterminals = [k[1:-1] for k in grammar.keys()]\n",
    "        name, expansions = \\\n",
    "            make_rule(nonterminals, terminals, num_alts)\n",
    "        grammar[name] = expansions\n",
    "\n",
    "    grammar[START_SYMBOL] = [name]\n",
    "\n",
    "    # Remove unused parts\n",
    "    for nonterminal in unreachable_nonterminals(grammar):\n",
    "        del grammar[nonterminal]\n",
    "\n",
    "    assert is_valid_grammar(grammar)\n",
    "\n",
    "    return grammar"
   ]
  },
  {
   "cell_type": "code",
   "execution_count": 170,
   "metadata": {
    "execution": {
     "iopub.execute_input": "2023-01-07T14:16:20.842768Z",
     "iopub.status.busy": "2023-01-07T14:16:20.842406Z",
     "iopub.status.idle": "2023-01-07T14:16:20.843966Z",
     "shell.execute_reply": "2023-01-07T14:16:20.844179Z"
    },
    "slideshow": {
     "slide_type": "subslide"
    }
   },
   "outputs": [
    {
     "data": {
      "text/plain": [
       "{'<ILY>': ['lhp', 'gta', 'sm'],\n",
       " '<FZD>': ['qn<ILY>', 'e<ILY><ILY>g', '<ILY>f<ILY>m'],\n",
       " '<ITK>': ['<ILY>fyy', '<ILY><ILY>t', '<FZD>l<ILY>ao'],\n",
       " '<start>': ['<ITK>']}"
      ]
     },
     "execution_count": 170,
     "metadata": {},
     "output_type": "execute_result"
    }
   ],
   "source": [
    "make_grammar()"
   ]
  },
  {
   "cell_type": "markdown",
   "metadata": {
    "slideshow": {
     "slide_type": "fragment"
    }
   },
   "source": [
    "Now we verify if our arbitrary grammars can be used by the Earley parser."
   ]
  },
  {
   "cell_type": "code",
   "execution_count": 171,
   "metadata": {
    "execution": {
     "iopub.execute_input": "2023-01-07T14:16:20.868253Z",
     "iopub.status.busy": "2023-01-07T14:16:20.867831Z",
     "iopub.status.idle": "2023-01-07T14:16:20.869419Z",
     "shell.execute_reply": "2023-01-07T14:16:20.869643Z"
    },
    "slideshow": {
     "slide_type": "subslide"
    }
   },
   "outputs": [
    {
     "name": "stdout",
     "output_type": "stream",
     "text": [
      "{'<SCS>': ['ts', 'f', 'ng'], '<BQN>': ['wm<SCS>', '<SCS>wi', '<SCS>hw'], '<UZC>': ['gyk<BQN>br', '<SCS>iqp', '<BQN>vb'], '<start>': ['<UZC>']}\n",
      "fhwvb\n",
      "{'<CRN>': ['meze', 'de', 'cpcv'], '<AIS>': ['<CRN>hb', 'dc<CRN>', 'pa<CRN>x'], '<MAO>': ['<CRN>su', '<CRN>hj', '<CRN><AIS>g'], '<start>': ['<MAO>']}\n",
      "dehj\n",
      "{'<MFY>': ['y', 'w', ''], '<ZOY>': ['oe<MFY>', 'h<MFY>u', 'lowr'], '<HFT>': ['<ZOY>ro', '<ZOY>w', '<ZOY><ZOY>w'], '<start>': ['<HFT>']}\n",
      "lowrro\n",
      "{'<CYC>': ['cg', 'enl', 'ovd'], '<TUV>': ['<CYC>hf', '<CYC>nl', 'fhg'], '<MOQ>': ['g<TUV>g', '<CYC>ix', '<CYC><TUV><CYC>'], '<start>': ['<MOQ>']}\n",
      "cgix\n",
      "{'<WJJ>': ['dszdlh', 'j', 'fd'], '<RQM>': ['<WJJ>wx', 'xs<WJJ><WJJ>', '<WJJ>x'], '<JNY>': ['<WJJ>oa', '<WJJ><WJJ>cx', 'xd<RQM>'], '<start>': ['<JNY>']}\n",
      "joa\n"
     ]
    }
   ],
   "source": [
    "for i in range(5):\n",
    "    my_grammar = make_grammar()\n",
    "    print(my_grammar)\n",
    "    parser = EarleyParser(my_grammar)\n",
    "    mygf = GrammarFuzzer(my_grammar)\n",
    "    s = mygf.fuzz()\n",
    "    print(s)\n",
    "    for tree in parser.parse(s):\n",
    "        assert tree_to_string(tree) == s\n",
    "        display_tree(tree)"
   ]
  },
  {
   "cell_type": "markdown",
   "metadata": {
    "slideshow": {
     "slide_type": "subslide"
    }
   },
   "source": [
    "With this, we have completed both implementation and testing of *arbitrary* CFG, which can now be used along with `LangFuzzer` to generate better fuzzing inputs."
   ]
  },
  {
   "cell_type": "markdown",
   "metadata": {
    "slideshow": {
     "slide_type": "subslide"
    }
   },
   "source": [
    "### End of Excursion"
   ]
  },
  {
   "attachments": {},
   "cell_type": "markdown",
   "metadata": {
    "slideshow": {
     "slide_type": "subslide"
    }
   },
   "source": [
    "## Background\n",
    "\n",
    "\n",
    "Numerous parsing techniques exist that can parse a given string using a\n",
    "given grammar, and produce corresponding derivation tree or trees. However,\n",
    "some of these techniques work only on specific classes of grammars.\n",
    "These classes of grammars are named after the specific kind of parser\n",
    "that can accept grammars of that category. That is, the upper bound for\n",
    "the capabilities of the parser defines the grammar class named after that\n",
    "parser.\n",
    "\n",
    "The *LL* and *LR* parsing are the main traditions in parsing. Here, *LL* means left-to-right, leftmost derivation, and it represents a top-down approach. On the other hand, and LR (left-to-right, rightmost derivation) represents a bottom-up approach. Another way to look at it is that LL parsers compute the derivation tree incrementally in *pre-order* while LR parsers compute the derivation tree in *post-order* \\cite{pingali2015graphical}).\n",
    "\n",
    "Different classes of grammars differ in the features that are available to\n",
    "the user for writing a grammar of that class. That is, the corresponding\n",
    "kind of parser will be unable to parse a grammar that makes use of more\n",
    "features than allowed. For example, the `A2_GRAMMAR` is an *LL*\n",
    "grammar because it lacks left recursion, while `A1_GRAMMAR` is not an\n",
    "*LL* grammar. This is because an *LL* parser parses\n",
    "its input from left to right, and constructs the leftmost derivation of its\n",
    "input by expanding the nonterminals it encounters. If there is a left\n",
    "recursion in one of these rules, an *LL* parser will enter an infinite loop.\n",
    "\n",
    "Similarly, a grammar is LL(k) if it can be parsed by an LL parser with k lookahead token, and LR(k) grammar can only be parsed with LR parser with at least k lookahead tokens. These grammars are interesting because both LL(k) and LR(k) grammars have $O(n)$ parsers, and can be used with relatively restricted computational budget compared to other grammars.\n",
    "\n",
    "The languages for which one can provide an *LL(k)* grammar is called *LL(k)* languages (where k is the minimum lookahead required). Similarly, *LR(k)* is defined as the set of languages that have an *LR(k)* grammar. In terms of languages, LL(k) $\\subset$ LL(k+1) and LL(k) $\\subset$ LR(k), and *LR(k)* $=$ *LR(1)*. All deterministic *CFLs* have an *LR(1)* grammar. However, there exist *CFLs* that are inherently ambiguous \\cite{ogden1968helpful}, and for these, one can't provide an *LR(1)* grammar.\n",
    "\n",
    "The other main parsing algorithms for *CFGs* are GLL \\cite{scott2010gll}, GLR \\cite{tomita1987efficient,tomita2012generalized}, and CYK \\cite{grune2008parsing}.\n",
    "The ALL(\\*) (used by ANTLR) on the other hand is a grammar representation that uses *Regular Expression* like predicates (similar to advanced PEGs – see [Exercise](#Exercise-3:-PEG-Predicates)) rather than a fixed lookahead. Hence, ALL(\\*) can accept a larger class of grammars than CFGs.\n",
    "\n",
    "In terms of computational limits of parsing, the main CFG parsers have a complexity of $O(n^3)$ for arbitrary grammars. However, parsing with arbitrary *CFG* is reducible to boolean matrix multiplication \\cite{Valiant1975} (and the reverse \\cite{Lee2002}). This is at present bounded by $O(2^{23728639})$ \\cite{LeGall2014}. Hence, worse case complexity for parsing arbitrary CFG is likely to remain close to cubic.\n",
    "\n",
    "Regarding PEGs, the actual class of languages that is expressible in *PEG* is currently unknown. In particular, we know that *PEGs* can express certain languages such as $a^n b^n c^n$. However, we do not know if there exist *CFLs* that are not expressible with *PEGs*. In Section 2.3, we provided an instance of a counter-intuitive PEG grammar. While important for our purposes (we use grammars for generation of inputs) this is not a criticism of parsing with PEGs. PEG focuses on writing grammars for recognizing a given language, and not necessarily in interpreting what language an arbitrary PEG might yield. Given a Context-Free Language to parse, it is almost always possible to write a grammar for it in PEG, and given that 1) a PEG can parse any string in $O(n)$ time, and 2) at present we know of no CFL that can't be expressed as a PEG, and 3) compared with *LR* grammars, a PEG is often more intuitive because it allows top-down interpretation, when writing a parser for a language, PEGs should be under serious consideration."
   ]
  },
  {
   "cell_type": "markdown",
   "metadata": {
    "slideshow": {
     "slide_type": "slide"
    }
   },
   "source": [
    "## Synopsis\n",
    "\n",
    "This chapter introduces `Parser` classes, parsing a string into a _derivation tree_ as introduced in the [chapter on efficient grammar fuzzing](GrammarFuzzer.ipynb).  Two important parser classes are provided:\n",
    "\n",
    "* [Parsing Expression Grammar parsers](#Parsing-Expression-Grammars) (`PEGParser`). These are very efficient, but limited to specific grammar structure. Notably, the alternatives represent *ordered choice*. That is, rather than choosing all rules that can potentially match, we stop at the first match that succeed.\n",
    "* [Earley parsers](#Parsing-Context-Free-Grammars) (`EarleyParser`). These accept any kind of context-free grammars, and explore all parsing alternatives (if any).\n",
    "\n",
    "Using any of these is fairly easy, though.  First, instantiate them with a grammar:"
   ]
  },
  {
   "cell_type": "code",
   "execution_count": 172,
   "metadata": {
    "execution": {
     "iopub.execute_input": "2023-01-07T14:16:20.871683Z",
     "iopub.status.busy": "2023-01-07T14:16:20.870973Z",
     "iopub.status.idle": "2023-01-07T14:16:20.873131Z",
     "shell.execute_reply": "2023-01-07T14:16:20.873323Z"
    },
    "slideshow": {
     "slide_type": "skip"
    }
   },
   "outputs": [],
   "source": [
    "from Grammars import US_PHONE_GRAMMAR"
   ]
  },
  {
   "cell_type": "code",
   "execution_count": 173,
   "metadata": {
    "execution": {
     "iopub.execute_input": "2023-01-07T14:16:20.875217Z",
     "iopub.status.busy": "2023-01-07T14:16:20.874925Z",
     "iopub.status.idle": "2023-01-07T14:16:20.876109Z",
     "shell.execute_reply": "2023-01-07T14:16:20.876300Z"
    },
    "slideshow": {
     "slide_type": "subslide"
    }
   },
   "outputs": [],
   "source": [
    "us_phone_parser = EarleyParser(US_PHONE_GRAMMAR)"
   ]
  },
  {
   "cell_type": "markdown",
   "metadata": {
    "slideshow": {
     "slide_type": "fragment"
    }
   },
   "source": [
    "Then, use the `parse()` method to retrieve a list of possible derivation trees:"
   ]
  },
  {
   "cell_type": "code",
   "execution_count": 174,
   "metadata": {
    "execution": {
     "iopub.execute_input": "2023-01-07T14:16:20.879148Z",
     "iopub.status.busy": "2023-01-07T14:16:20.878837Z",
     "iopub.status.idle": "2023-01-07T14:16:21.140326Z",
     "shell.execute_reply": "2023-01-07T14:16:21.140711Z"
    },
    "slideshow": {
     "slide_type": "fragment"
    }
   },
   "outputs": [
    {
     "data": {
      "image/svg+xml": [
       "<?xml version=\"1.0\" encoding=\"UTF-8\" standalone=\"no\"?>\n",
       "<!DOCTYPE svg PUBLIC \"-//W3C//DTD SVG 1.1//EN\"\n",
       " \"http://www.w3.org/Graphics/SVG/1.1/DTD/svg11.dtd\">\n",
       "<!-- Generated by graphviz version 7.0.2 (20221119.0110)\n",
       " -->\n",
       "<!-- Pages: 1 -->\n",
       "<svg width=\"646pt\" height=\"227pt\"\n",
       " viewBox=\"0.00 0.00 645.50 227.00\" xmlns=\"http://www.w3.org/2000/svg\" xmlns:xlink=\"http://www.w3.org/1999/xlink\">\n",
       "<g id=\"graph0\" class=\"graph\" transform=\"scale(1 1) rotate(0) translate(4 223)\">\n",
       "<polygon fill=\"white\" stroke=\"none\" points=\"-4,4 -4,-223 641.5,-223 641.5,4 -4,4\"/>\n",
       "<!-- 0 -->\n",
       "<g id=\"node1\" class=\"node\">\n",
       "<title>0</title>\n",
       "<text text-anchor=\"middle\" x=\"269.5\" y=\"-207.8\" font-family=\"Times,serif\" font-size=\"14.00\">&lt;start&gt;</text>\n",
       "</g>\n",
       "<!-- 1 -->\n",
       "<g id=\"node2\" class=\"node\">\n",
       "<title>1</title>\n",
       "<text text-anchor=\"middle\" x=\"269.5\" y=\"-156.8\" font-family=\"Times,serif\" font-size=\"14.00\">&lt;phone&#45;number&gt;</text>\n",
       "</g>\n",
       "<!-- 0&#45;&gt;1 -->\n",
       "<g id=\"edge1\" class=\"edge\">\n",
       "<title>0&#45;&gt;1</title>\n",
       "<path fill=\"none\" stroke=\"black\" d=\"M269.5,-204.09C269.5,-197.75 269.5,-187.75 269.5,-179.03\"/>\n",
       "<polygon fill=\"black\" stroke=\"black\" points=\"273,-179.27 269.5,-169.27 266,-179.27 273,-179.27\"/>\n",
       "</g>\n",
       "<!-- 2 -->\n",
       "<g id=\"node3\" class=\"node\">\n",
       "<title>2</title>\n",
       "<text text-anchor=\"middle\" x=\"114.5\" y=\"-105.8\" font-family=\"Times,serif\" font-size=\"14.00\">( (40)</text>\n",
       "</g>\n",
       "<!-- 1&#45;&gt;2 -->\n",
       "<g id=\"edge2\" class=\"edge\">\n",
       "<title>1&#45;&gt;2</title>\n",
       "<path fill=\"none\" stroke=\"black\" d=\"M249.24,-153.09C221.3,-144.26 170.93,-128.34 140.32,-118.66\"/>\n",
       "<polygon fill=\"black\" stroke=\"black\" points=\"141.68,-115.42 131.09,-115.74 139.57,-122.1 141.68,-115.42\"/>\n",
       "</g>\n",
       "<!-- 3 -->\n",
       "<g id=\"node4\" class=\"node\">\n",
       "<title>3</title>\n",
       "<text text-anchor=\"middle\" x=\"168.5\" y=\"-105.8\" font-family=\"Times,serif\" font-size=\"14.00\">&lt;area&gt;</text>\n",
       "</g>\n",
       "<!-- 1&#45;&gt;3 -->\n",
       "<g id=\"edge3\" class=\"edge\">\n",
       "<title>1&#45;&gt;3</title>\n",
       "<path fill=\"none\" stroke=\"black\" d=\"M256.3,-153.09C239.96,-145.17 211.87,-131.54 191.87,-121.84\"/>\n",
       "<polygon fill=\"black\" stroke=\"black\" points=\"193.59,-118.78 183.07,-117.57 190.54,-125.08 193.59,-118.78\"/>\n",
       "</g>\n",
       "<!-- 10 -->\n",
       "<g id=\"node11\" class=\"node\">\n",
       "<title>10</title>\n",
       "<text text-anchor=\"middle\" x=\"235.5\" y=\"-105.8\" font-family=\"Times,serif\" font-size=\"14.00\">) (41)</text>\n",
       "</g>\n",
       "<!-- 1&#45;&gt;10 -->\n",
       "<g id=\"edge10\" class=\"edge\">\n",
       "<title>1&#45;&gt;10</title>\n",
       "<path fill=\"none\" stroke=\"black\" d=\"M265.06,-153.09C260.29,-146.23 252.57,-135.1 246.21,-125.93\"/>\n",
       "<polygon fill=\"black\" stroke=\"black\" points=\"249.28,-124.22 240.7,-118 243.53,-128.21 249.28,-124.22\"/>\n",
       "</g>\n",
       "<!-- 11 -->\n",
       "<g id=\"node12\" class=\"node\">\n",
       "<title>11</title>\n",
       "<text text-anchor=\"middle\" x=\"303.5\" y=\"-105.8\" font-family=\"Times,serif\" font-size=\"14.00\">&lt;exchange&gt;</text>\n",
       "</g>\n",
       "<!-- 1&#45;&gt;11 -->\n",
       "<g id=\"edge11\" class=\"edge\">\n",
       "<title>1&#45;&gt;11</title>\n",
       "<path fill=\"none\" stroke=\"black\" d=\"M273.94,-153.09C278.71,-146.23 286.43,-135.1 292.79,-125.93\"/>\n",
       "<polygon fill=\"black\" stroke=\"black\" points=\"295.47,-128.21 298.3,-118 289.72,-124.22 295.47,-128.21\"/>\n",
       "</g>\n",
       "<!-- 18 -->\n",
       "<g id=\"node19\" class=\"node\">\n",
       "<title>18</title>\n",
       "<text text-anchor=\"middle\" x=\"371.5\" y=\"-105.8\" font-family=\"Times,serif\" font-size=\"14.00\">&#45; (45)</text>\n",
       "</g>\n",
       "<!-- 1&#45;&gt;18 -->\n",
       "<g id=\"edge18\" class=\"edge\">\n",
       "<title>1&#45;&gt;18</title>\n",
       "<path fill=\"none\" stroke=\"black\" d=\"M282.83,-153.09C299.33,-145.17 327.7,-131.54 347.9,-121.84\"/>\n",
       "<polygon fill=\"black\" stroke=\"black\" points=\"349.3,-125.05 356.8,-117.56 346.27,-118.74 349.3,-125.05\"/>\n",
       "</g>\n",
       "<!-- 19 -->\n",
       "<g id=\"node20\" class=\"node\">\n",
       "<title>19</title>\n",
       "<text text-anchor=\"middle\" x=\"496.5\" y=\"-105.8\" font-family=\"Times,serif\" font-size=\"14.00\">&lt;line&gt;</text>\n",
       "</g>\n",
       "<!-- 1&#45;&gt;19 -->\n",
       "<g id=\"edge19\" class=\"edge\">\n",
       "<title>1&#45;&gt;19</title>\n",
       "<path fill=\"none\" stroke=\"black\" d=\"M299.18,-153.09C342.68,-143.7 423.29,-126.3 466.81,-116.91\"/>\n",
       "<polygon fill=\"black\" stroke=\"black\" points=\"467.52,-120.34 476.55,-114.81 466.04,-113.49 467.52,-120.34\"/>\n",
       "</g>\n",
       "<!-- 4 -->\n",
       "<g id=\"node5\" class=\"node\">\n",
       "<title>4</title>\n",
       "<text text-anchor=\"middle\" x=\"34.5\" y=\"-54.8\" font-family=\"Times,serif\" font-size=\"14.00\">&lt;lead&#45;digit&gt;</text>\n",
       "</g>\n",
       "<!-- 3&#45;&gt;4 -->\n",
       "<g id=\"edge4\" class=\"edge\">\n",
       "<title>3&#45;&gt;4</title>\n",
       "<path fill=\"none\" stroke=\"black\" d=\"M150.98,-102.09C128.51,-93.88 89.26,-79.52 62.6,-69.77\"/>\n",
       "<polygon fill=\"black\" stroke=\"black\" points=\"64.04,-66.57 53.44,-66.43 61.63,-73.15 64.04,-66.57\"/>\n",
       "</g>\n",
       "<!-- 6 -->\n",
       "<g id=\"node7\" class=\"node\">\n",
       "<title>6</title>\n",
       "<text text-anchor=\"middle\" x=\"108.5\" y=\"-54.8\" font-family=\"Times,serif\" font-size=\"14.00\">&lt;digit&gt;</text>\n",
       "</g>\n",
       "<!-- 3&#45;&gt;6 -->\n",
       "<g id=\"edge6\" class=\"edge\">\n",
       "<title>3&#45;&gt;6</title>\n",
       "<path fill=\"none\" stroke=\"black\" d=\"M160.66,-102.09C151.62,-94.72 136.53,-82.39 124.9,-72.9\"/>\n",
       "<polygon fill=\"black\" stroke=\"black\" points=\"127.29,-70.32 117.33,-66.71 122.86,-75.75 127.29,-70.32\"/>\n",
       "</g>\n",
       "<!-- 8 -->\n",
       "<g id=\"node9\" class=\"node\">\n",
       "<title>8</title>\n",
       "<text text-anchor=\"middle\" x=\"168.5\" y=\"-54.8\" font-family=\"Times,serif\" font-size=\"14.00\">&lt;digit&gt;</text>\n",
       "</g>\n",
       "<!-- 3&#45;&gt;8 -->\n",
       "<g id=\"edge8\" class=\"edge\">\n",
       "<title>3&#45;&gt;8</title>\n",
       "<path fill=\"none\" stroke=\"black\" d=\"M168.5,-102.09C168.5,-95.75 168.5,-85.75 168.5,-77.03\"/>\n",
       "<polygon fill=\"black\" stroke=\"black\" points=\"172,-77.27 168.5,-67.27 165,-77.27 172,-77.27\"/>\n",
       "</g>\n",
       "<!-- 5 -->\n",
       "<g id=\"node6\" class=\"node\">\n",
       "<title>5</title>\n",
       "<text text-anchor=\"middle\" x=\"34.5\" y=\"-3.8\" font-family=\"Times,serif\" font-size=\"14.00\">5 (53)</text>\n",
       "</g>\n",
       "<!-- 4&#45;&gt;5 -->\n",
       "<g id=\"edge5\" class=\"edge\">\n",
       "<title>4&#45;&gt;5</title>\n",
       "<path fill=\"none\" stroke=\"black\" d=\"M34.5,-51.09C34.5,-44.75 34.5,-34.75 34.5,-26.03\"/>\n",
       "<polygon fill=\"black\" stroke=\"black\" points=\"38,-26.27 34.5,-16.27 31,-26.27 38,-26.27\"/>\n",
       "</g>\n",
       "<!-- 7 -->\n",
       "<g id=\"node8\" class=\"node\">\n",
       "<title>7</title>\n",
       "<text text-anchor=\"middle\" x=\"108.5\" y=\"-3.8\" font-family=\"Times,serif\" font-size=\"14.00\">5 (53)</text>\n",
       "</g>\n",
       "<!-- 6&#45;&gt;7 -->\n",
       "<g id=\"edge7\" class=\"edge\">\n",
       "<title>6&#45;&gt;7</title>\n",
       "<path fill=\"none\" stroke=\"black\" d=\"M108.5,-51.09C108.5,-44.75 108.5,-34.75 108.5,-26.03\"/>\n",
       "<polygon fill=\"black\" stroke=\"black\" points=\"112,-26.27 108.5,-16.27 105,-26.27 112,-26.27\"/>\n",
       "</g>\n",
       "<!-- 9 -->\n",
       "<g id=\"node10\" class=\"node\">\n",
       "<title>9</title>\n",
       "<text text-anchor=\"middle\" x=\"168.5\" y=\"-3.8\" font-family=\"Times,serif\" font-size=\"14.00\">5 (53)</text>\n",
       "</g>\n",
       "<!-- 8&#45;&gt;9 -->\n",
       "<g id=\"edge9\" class=\"edge\">\n",
       "<title>8&#45;&gt;9</title>\n",
       "<path fill=\"none\" stroke=\"black\" d=\"M168.5,-51.09C168.5,-44.75 168.5,-34.75 168.5,-26.03\"/>\n",
       "<polygon fill=\"black\" stroke=\"black\" points=\"172,-26.27 168.5,-16.27 165,-26.27 172,-26.27\"/>\n",
       "</g>\n",
       "<!-- 12 -->\n",
       "<g id=\"node13\" class=\"node\">\n",
       "<title>12</title>\n",
       "<text text-anchor=\"middle\" x=\"242.5\" y=\"-54.8\" font-family=\"Times,serif\" font-size=\"14.00\">&lt;lead&#45;digit&gt;</text>\n",
       "</g>\n",
       "<!-- 11&#45;&gt;12 -->\n",
       "<g id=\"edge12\" class=\"edge\">\n",
       "<title>11&#45;&gt;12</title>\n",
       "<path fill=\"none\" stroke=\"black\" d=\"M295.53,-102.09C286.34,-94.72 271,-82.39 259.18,-72.9\"/>\n",
       "<polygon fill=\"black\" stroke=\"black\" points=\"261.45,-70.23 251.46,-66.7 257.07,-75.69 261.45,-70.23\"/>\n",
       "</g>\n",
       "<!-- 14 -->\n",
       "<g id=\"node15\" class=\"node\">\n",
       "<title>14</title>\n",
       "<text text-anchor=\"middle\" x=\"316.5\" y=\"-54.8\" font-family=\"Times,serif\" font-size=\"14.00\">&lt;digit&gt;</text>\n",
       "</g>\n",
       "<!-- 11&#45;&gt;14 -->\n",
       "<g id=\"edge14\" class=\"edge\">\n",
       "<title>11&#45;&gt;14</title>\n",
       "<path fill=\"none\" stroke=\"black\" d=\"M305.2,-102.09C306.9,-95.68 309.6,-85.51 311.93,-76.73\"/>\n",
       "<polygon fill=\"black\" stroke=\"black\" points=\"315.27,-77.78 314.45,-67.22 308.51,-75.98 315.27,-77.78\"/>\n",
       "</g>\n",
       "<!-- 16 -->\n",
       "<g id=\"node17\" class=\"node\">\n",
       "<title>16</title>\n",
       "<text text-anchor=\"middle\" x=\"376.5\" y=\"-54.8\" font-family=\"Times,serif\" font-size=\"14.00\">&lt;digit&gt;</text>\n",
       "</g>\n",
       "<!-- 11&#45;&gt;16 -->\n",
       "<g id=\"edge16\" class=\"edge\">\n",
       "<title>11&#45;&gt;16</title>\n",
       "<path fill=\"none\" stroke=\"black\" d=\"M313.04,-102.09C324.36,-94.5 343.5,-81.65 357.8,-72.05\"/>\n",
       "<polygon fill=\"black\" stroke=\"black\" points=\"359.58,-75.08 365.93,-66.6 355.67,-69.26 359.58,-75.08\"/>\n",
       "</g>\n",
       "<!-- 13 -->\n",
       "<g id=\"node14\" class=\"node\">\n",
       "<title>13</title>\n",
       "<text text-anchor=\"middle\" x=\"242.5\" y=\"-3.8\" font-family=\"Times,serif\" font-size=\"14.00\">9 (57)</text>\n",
       "</g>\n",
       "<!-- 12&#45;&gt;13 -->\n",
       "<g id=\"edge13\" class=\"edge\">\n",
       "<title>12&#45;&gt;13</title>\n",
       "<path fill=\"none\" stroke=\"black\" d=\"M242.5,-51.09C242.5,-44.75 242.5,-34.75 242.5,-26.03\"/>\n",
       "<polygon fill=\"black\" stroke=\"black\" points=\"246,-26.27 242.5,-16.27 239,-26.27 246,-26.27\"/>\n",
       "</g>\n",
       "<!-- 15 -->\n",
       "<g id=\"node16\" class=\"node\">\n",
       "<title>15</title>\n",
       "<text text-anchor=\"middle\" x=\"316.5\" y=\"-3.8\" font-family=\"Times,serif\" font-size=\"14.00\">8 (56)</text>\n",
       "</g>\n",
       "<!-- 14&#45;&gt;15 -->\n",
       "<g id=\"edge15\" class=\"edge\">\n",
       "<title>14&#45;&gt;15</title>\n",
       "<path fill=\"none\" stroke=\"black\" d=\"M316.5,-51.09C316.5,-44.75 316.5,-34.75 316.5,-26.03\"/>\n",
       "<polygon fill=\"black\" stroke=\"black\" points=\"320,-26.27 316.5,-16.27 313,-26.27 320,-26.27\"/>\n",
       "</g>\n",
       "<!-- 17 -->\n",
       "<g id=\"node18\" class=\"node\">\n",
       "<title>17</title>\n",
       "<text text-anchor=\"middle\" x=\"376.5\" y=\"-3.8\" font-family=\"Times,serif\" font-size=\"14.00\">7 (55)</text>\n",
       "</g>\n",
       "<!-- 16&#45;&gt;17 -->\n",
       "<g id=\"edge17\" class=\"edge\">\n",
       "<title>16&#45;&gt;17</title>\n",
       "<path fill=\"none\" stroke=\"black\" d=\"M376.5,-51.09C376.5,-44.75 376.5,-34.75 376.5,-26.03\"/>\n",
       "<polygon fill=\"black\" stroke=\"black\" points=\"380,-26.27 376.5,-16.27 373,-26.27 380,-26.27\"/>\n",
       "</g>\n",
       "<!-- 20 -->\n",
       "<g id=\"node21\" class=\"node\">\n",
       "<title>20</title>\n",
       "<text text-anchor=\"middle\" x=\"436.5\" y=\"-54.8\" font-family=\"Times,serif\" font-size=\"14.00\">&lt;digit&gt;</text>\n",
       "</g>\n",
       "<!-- 19&#45;&gt;20 -->\n",
       "<g id=\"edge20\" class=\"edge\">\n",
       "<title>19&#45;&gt;20</title>\n",
       "<path fill=\"none\" stroke=\"black\" d=\"M488.66,-102.09C479.62,-94.72 464.53,-82.39 452.9,-72.9\"/>\n",
       "<polygon fill=\"black\" stroke=\"black\" points=\"455.29,-70.32 445.33,-66.71 450.86,-75.75 455.29,-70.32\"/>\n",
       "</g>\n",
       "<!-- 22 -->\n",
       "<g id=\"node23\" class=\"node\">\n",
       "<title>22</title>\n",
       "<text text-anchor=\"middle\" x=\"496.5\" y=\"-54.8\" font-family=\"Times,serif\" font-size=\"14.00\">&lt;digit&gt;</text>\n",
       "</g>\n",
       "<!-- 19&#45;&gt;22 -->\n",
       "<g id=\"edge22\" class=\"edge\">\n",
       "<title>19&#45;&gt;22</title>\n",
       "<path fill=\"none\" stroke=\"black\" d=\"M496.5,-102.09C496.5,-95.75 496.5,-85.75 496.5,-77.03\"/>\n",
       "<polygon fill=\"black\" stroke=\"black\" points=\"500,-77.27 496.5,-67.27 493,-77.27 500,-77.27\"/>\n",
       "</g>\n",
       "<!-- 24 -->\n",
       "<g id=\"node25\" class=\"node\">\n",
       "<title>24</title>\n",
       "<text text-anchor=\"middle\" x=\"556.5\" y=\"-54.8\" font-family=\"Times,serif\" font-size=\"14.00\">&lt;digit&gt;</text>\n",
       "</g>\n",
       "<!-- 19&#45;&gt;24 -->\n",
       "<g id=\"edge24\" class=\"edge\">\n",
       "<title>19&#45;&gt;24</title>\n",
       "<path fill=\"none\" stroke=\"black\" d=\"M504.34,-102.09C513.38,-94.72 528.47,-82.39 540.1,-72.9\"/>\n",
       "<polygon fill=\"black\" stroke=\"black\" points=\"542.14,-75.75 547.67,-66.71 537.71,-70.32 542.14,-75.75\"/>\n",
       "</g>\n",
       "<!-- 26 -->\n",
       "<g id=\"node27\" class=\"node\">\n",
       "<title>26</title>\n",
       "<text text-anchor=\"middle\" x=\"616.5\" y=\"-54.8\" font-family=\"Times,serif\" font-size=\"14.00\">&lt;digit&gt;</text>\n",
       "</g>\n",
       "<!-- 19&#45;&gt;26 -->\n",
       "<g id=\"edge26\" class=\"edge\">\n",
       "<title>19&#45;&gt;26</title>\n",
       "<path fill=\"none\" stroke=\"black\" d=\"M512.19,-102.09C532.04,-93.99 566.52,-79.91 590.37,-70.17\"/>\n",
       "<polygon fill=\"black\" stroke=\"black\" points=\"591.47,-73.5 599.41,-66.48 588.83,-67.02 591.47,-73.5\"/>\n",
       "</g>\n",
       "<!-- 21 -->\n",
       "<g id=\"node22\" class=\"node\">\n",
       "<title>21</title>\n",
       "<text text-anchor=\"middle\" x=\"436.5\" y=\"-3.8\" font-family=\"Times,serif\" font-size=\"14.00\">6 (54)</text>\n",
       "</g>\n",
       "<!-- 20&#45;&gt;21 -->\n",
       "<g id=\"edge21\" class=\"edge\">\n",
       "<title>20&#45;&gt;21</title>\n",
       "<path fill=\"none\" stroke=\"black\" d=\"M436.5,-51.09C436.5,-44.75 436.5,-34.75 436.5,-26.03\"/>\n",
       "<polygon fill=\"black\" stroke=\"black\" points=\"440,-26.27 436.5,-16.27 433,-26.27 440,-26.27\"/>\n",
       "</g>\n",
       "<!-- 23 -->\n",
       "<g id=\"node24\" class=\"node\">\n",
       "<title>23</title>\n",
       "<text text-anchor=\"middle\" x=\"496.5\" y=\"-3.8\" font-family=\"Times,serif\" font-size=\"14.00\">5 (53)</text>\n",
       "</g>\n",
       "<!-- 22&#45;&gt;23 -->\n",
       "<g id=\"edge23\" class=\"edge\">\n",
       "<title>22&#45;&gt;23</title>\n",
       "<path fill=\"none\" stroke=\"black\" d=\"M496.5,-51.09C496.5,-44.75 496.5,-34.75 496.5,-26.03\"/>\n",
       "<polygon fill=\"black\" stroke=\"black\" points=\"500,-26.27 496.5,-16.27 493,-26.27 500,-26.27\"/>\n",
       "</g>\n",
       "<!-- 25 -->\n",
       "<g id=\"node26\" class=\"node\">\n",
       "<title>25</title>\n",
       "<text text-anchor=\"middle\" x=\"556.5\" y=\"-3.8\" font-family=\"Times,serif\" font-size=\"14.00\">4 (52)</text>\n",
       "</g>\n",
       "<!-- 24&#45;&gt;25 -->\n",
       "<g id=\"edge25\" class=\"edge\">\n",
       "<title>24&#45;&gt;25</title>\n",
       "<path fill=\"none\" stroke=\"black\" d=\"M556.5,-51.09C556.5,-44.75 556.5,-34.75 556.5,-26.03\"/>\n",
       "<polygon fill=\"black\" stroke=\"black\" points=\"560,-26.27 556.5,-16.27 553,-26.27 560,-26.27\"/>\n",
       "</g>\n",
       "<!-- 27 -->\n",
       "<g id=\"node28\" class=\"node\">\n",
       "<title>27</title>\n",
       "<text text-anchor=\"middle\" x=\"616.5\" y=\"-3.8\" font-family=\"Times,serif\" font-size=\"14.00\">3 (51)</text>\n",
       "</g>\n",
       "<!-- 26&#45;&gt;27 -->\n",
       "<g id=\"edge27\" class=\"edge\">\n",
       "<title>26&#45;&gt;27</title>\n",
       "<path fill=\"none\" stroke=\"black\" d=\"M616.5,-51.09C616.5,-44.75 616.5,-34.75 616.5,-26.03\"/>\n",
       "<polygon fill=\"black\" stroke=\"black\" points=\"620,-26.27 616.5,-16.27 613,-26.27 620,-26.27\"/>\n",
       "</g>\n",
       "</g>\n",
       "</svg>\n"
      ],
      "text/plain": [
       "<graphviz.graphs.Digraph at 0x10de7bfa0>"
      ]
     },
     "execution_count": 174,
     "metadata": {},
     "output_type": "execute_result"
    }
   ],
   "source": [
    "trees = us_phone_parser.parse(\"(555)987-6543\")\n",
    "tree = list(trees)[0]\n",
    "display_tree(tree)"
   ]
  },
  {
   "cell_type": "markdown",
   "metadata": {
    "slideshow": {
     "slide_type": "fragment"
    }
   },
   "source": [
    "These derivation trees can then be used for test generation, notably for mutating and recombining existing inputs."
   ]
  },
  {
   "cell_type": "code",
   "execution_count": 175,
   "metadata": {
    "execution": {
     "iopub.execute_input": "2023-01-07T14:16:21.142962Z",
     "iopub.status.busy": "2023-01-07T14:16:21.142669Z",
     "iopub.status.idle": "2023-01-07T14:16:21.143811Z",
     "shell.execute_reply": "2023-01-07T14:16:21.144048Z"
    },
    "slideshow": {
     "slide_type": "fragment"
    }
   },
   "outputs": [],
   "source": [
    "# ignore\n",
    "from ClassDiagram import display_class_hierarchy"
   ]
  },
  {
   "cell_type": "code",
   "execution_count": 176,
   "metadata": {
    "execution": {
     "iopub.execute_input": "2023-01-07T14:16:21.151646Z",
     "iopub.status.busy": "2023-01-07T14:16:21.151175Z",
     "iopub.status.idle": "2023-01-07T14:16:21.417589Z",
     "shell.execute_reply": "2023-01-07T14:16:21.418073Z"
    },
    "slideshow": {
     "slide_type": "subslide"
    }
   },
   "outputs": [
    {
     "data": {
      "image/svg+xml": [
       "<?xml version=\"1.0\" encoding=\"UTF-8\" standalone=\"no\"?>\n",
       "<!DOCTYPE svg PUBLIC \"-//W3C//DTD SVG 1.1//EN\"\n",
       " \"http://www.w3.org/Graphics/SVG/1.1/DTD/svg11.dtd\">\n",
       "<!-- Generated by graphviz version 7.0.2 (20221119.0110)\n",
       " -->\n",
       "<!-- Pages: 1 -->\n",
       "<svg width=\"385pt\" height=\"350pt\"\n",
       " viewBox=\"0.00 0.00 384.50 350.00\" xmlns=\"http://www.w3.org/2000/svg\" xmlns:xlink=\"http://www.w3.org/1999/xlink\">\n",
       "<g id=\"graph0\" class=\"graph\" transform=\"scale(1 1) rotate(0) translate(4 346)\">\n",
       "<g id=\"a_graph0\"><a xlink:title=\"PEGParser class hierarchy\">\n",
       "<polygon fill=\"white\" stroke=\"none\" points=\"-4,4 -4,-346 380.5,-346 380.5,4 -4,4\"/>\n",
       "</a>\n",
       "</g>\n",
       "<!-- PEGParser -->\n",
       "<g id=\"node1\" class=\"node\">\n",
       "<title>PEGParser</title>\n",
       "<g id=\"a_node1\"><a xlink:href=\"#\" xlink:title=\"class PEGParser:&#10;Packrat parser for Parsing Expression Grammars (PEGs).\">\n",
       "<polygon fill=\"none\" stroke=\"black\" points=\"0,-61 0,-125 101,-125 101,-61 0,-61\"/>\n",
       "<text text-anchor=\"start\" x=\"18.5\" y=\"-110.8\" font-family=\"Patua One, Helvetica, sans-serif\" font-weight=\"bold\" font-size=\"14.00\" fill=\"#b03a2e\">PEGParser</text>\n",
       "<polyline fill=\"none\" stroke=\"black\" points=\"0,-102 101,-102\"/>\n",
       "<g id=\"a_node1_0\"><a xlink:href=\"#\" xlink:title=\"PEGParser\">\n",
       "<g id=\"a_node1_1\"><a xlink:href=\"#\" xlink:title=\"parse_prefix(self, text):&#10;Return pair (cursor, forest) for longest prefix of text.&#10;To be defined in subclasses.\">\n",
       "<text text-anchor=\"start\" x=\"8.5\" y=\"-90.5\" font-family=\"'Fira Mono', 'Source Code Pro', 'Courier', monospace\" font-style=\"italic\" font-size=\"10.00\">parse_prefix()</text>\n",
       "</a>\n",
       "</g>\n",
       "<g id=\"a_node1_2\"><a xlink:href=\"#\" xlink:title=\"unify_rule(self, rule, text, at)\">\n",
       "<text text-anchor=\"start\" x=\"8.5\" y=\"-78.5\" font-family=\"'Fira Mono', 'Source Code Pro', 'Courier', monospace\" font-size=\"10.00\">unify_rule()</text>\n",
       "</a>\n",
       "</g>\n",
       "<g id=\"a_node1_3\"><a xlink:href=\"#\" xlink:title=\"unify_key(self, key, text, at=0)\">\n",
       "<text text-anchor=\"start\" x=\"8.5\" y=\"-67.5\" font-family=\"'Fira Mono', 'Source Code Pro', 'Courier', monospace\" font-size=\"10.00\">unify_key()</text>\n",
       "</a>\n",
       "</g>\n",
       "</a>\n",
       "</g>\n",
       "</a>\n",
       "</g>\n",
       "</g>\n",
       "<!-- Parser -->\n",
       "<g id=\"node2\" class=\"node\">\n",
       "<title>Parser</title>\n",
       "<g id=\"a_node2\"><a xlink:href=\"#\" xlink:title=\"class Parser:&#10;Base class for parsing.\">\n",
       "<polygon fill=\"none\" stroke=\"black\" points=\"64,-222.5 64,-341.5 165,-341.5 165,-222.5 64,-222.5\"/>\n",
       "<text text-anchor=\"start\" x=\"94.5\" y=\"-327.3\" font-family=\"Patua One, Helvetica, sans-serif\" font-weight=\"bold\" font-size=\"14.00\" fill=\"#b03a2e\">Parser</text>\n",
       "<polyline fill=\"none\" stroke=\"black\" points=\"64,-318.5 165,-318.5\"/>\n",
       "<g id=\"a_node2_4\"><a xlink:href=\"#\" xlink:title=\"Parser\">\n",
       "<g id=\"a_node2_5\"><a xlink:href=\"#\" xlink:title=\"__init__(self, grammar, **kwargs):&#10;Constructor.&#10;`grammar` is the grammar to be used for parsing.&#10;Keyword arguments:&#10;`start_symbol` is the start symbol (default: &#39;&lt;start&gt;&#39;).&#10;`log` enables logging (default: False).&#10;`coalesce` defines if tokens should be coalesced (default: True).&#10;`tokens`, if set, is a set of tokens to be used.\">\n",
       "<text text-anchor=\"start\" x=\"72.5\" y=\"-307.5\" font-family=\"'Fira Mono', 'Source Code Pro', 'Courier', monospace\" font-weight=\"bold\" font-size=\"10.00\">__init__()</text>\n",
       "</a>\n",
       "</g>\n",
       "<g id=\"a_node2_6\"><a xlink:href=\"#\" xlink:title=\"grammar(self) &#45;&gt; Grammar:&#10;Return the grammar of this parser.\">\n",
       "<text text-anchor=\"start\" x=\"72.5\" y=\"-296.5\" font-family=\"'Fira Mono', 'Source Code Pro', 'Courier', monospace\" font-weight=\"bold\" font-size=\"10.00\">grammar()</text>\n",
       "</a>\n",
       "</g>\n",
       "<g id=\"a_node2_7\"><a xlink:href=\"#\" xlink:title=\"parse(self, text: str) &#45;&gt; Iterable[DerivationTree]:&#10;Parse `text` using the grammar.&#10;Return an iterable of parse trees.\">\n",
       "<text text-anchor=\"start\" x=\"72.5\" y=\"-285.5\" font-family=\"'Fira Mono', 'Source Code Pro', 'Courier', monospace\" font-weight=\"bold\" font-size=\"10.00\">parse()</text>\n",
       "</a>\n",
       "</g>\n",
       "<g id=\"a_node2_8\"><a xlink:href=\"#\" xlink:title=\"start_symbol(self) &#45;&gt; str:&#10;Return the start symbol of this parser.\">\n",
       "<text text-anchor=\"start\" x=\"72.5\" y=\"-274.5\" font-family=\"'Fira Mono', 'Source Code Pro', 'Courier', monospace\" font-weight=\"bold\" font-size=\"10.00\">start_symbol()</text>\n",
       "</a>\n",
       "</g>\n",
       "<g id=\"a_node2_9\"><a xlink:href=\"#\" xlink:title=\"coalesce(self, children: List[DerivationTree]) &#45;&gt; List[DerivationTree]\">\n",
       "<text text-anchor=\"start\" x=\"72.5\" y=\"-262.5\" font-family=\"'Fira Mono', 'Source Code Pro', 'Courier', monospace\" font-size=\"10.00\">coalesce()</text>\n",
       "</a>\n",
       "</g>\n",
       "<g id=\"a_node2_10\"><a xlink:href=\"#\" xlink:title=\"parse_on(self, text: str, start_symbol: str) &#45;&gt; Generator\">\n",
       "<text text-anchor=\"start\" x=\"72.5\" y=\"-251.5\" font-family=\"'Fira Mono', 'Source Code Pro', 'Courier', monospace\" font-size=\"10.00\">parse_on()</text>\n",
       "</a>\n",
       "</g>\n",
       "<g id=\"a_node2_11\"><a xlink:href=\"#\" xlink:title=\"parse_prefix(self, text: str) &#45;&gt; Tuple[int, Iterable[DerivationTree]]:&#10;Return pair (cursor, forest) for longest prefix of text.&#10;To be defined in subclasses.\">\n",
       "<text text-anchor=\"start\" x=\"72.5\" y=\"-241.5\" font-family=\"'Fira Mono', 'Source Code Pro', 'Courier', monospace\" font-style=\"italic\" font-size=\"10.00\">parse_prefix()</text>\n",
       "</a>\n",
       "</g>\n",
       "<g id=\"a_node2_12\"><a xlink:href=\"#\" xlink:title=\"prune_tree(self, tree)\">\n",
       "<text text-anchor=\"start\" x=\"72.5\" y=\"-229.5\" font-family=\"'Fira Mono', 'Source Code Pro', 'Courier', monospace\" font-size=\"10.00\">prune_tree()</text>\n",
       "</a>\n",
       "</g>\n",
       "</a>\n",
       "</g>\n",
       "</a>\n",
       "</g>\n",
       "</g>\n",
       "<!-- PEGParser&#45;&gt;Parser -->\n",
       "<g id=\"edge1\" class=\"edge\">\n",
       "<title>PEGParser&#45;&gt;Parser</title>\n",
       "<path fill=\"none\" stroke=\"black\" d=\"M61.07,-124.88C69.16,-148.53 80.64,-182.08 90.89,-212.02\"/>\n",
       "<polygon fill=\"none\" stroke=\"black\" points=\"87.56,-213.1 94.11,-221.43 94.18,-210.83 87.56,-213.1\"/>\n",
       "</g>\n",
       "<!-- EarleyParser -->\n",
       "<g id=\"node3\" class=\"node\">\n",
       "<title>EarleyParser</title>\n",
       "<g id=\"a_node3\"><a xlink:href=\"#\" xlink:title=\"class EarleyParser:&#10;Earley Parser. This parser can parse any context&#45;free grammar.\">\n",
       "<polygon fill=\"none\" stroke=\"black\" points=\"119,-0.5 119,-185.5 238,-185.5 238,-0.5 119,-0.5\"/>\n",
       "<text text-anchor=\"start\" x=\"139\" y=\"-171.3\" font-family=\"Patua One, Helvetica, sans-serif\" font-weight=\"bold\" font-size=\"14.00\" fill=\"#b03a2e\">EarleyParser</text>\n",
       "<polyline fill=\"none\" stroke=\"black\" points=\"119,-162.5 238,-162.5\"/>\n",
       "<g id=\"a_node3_13\"><a xlink:href=\"#\" xlink:title=\"EarleyParser\">\n",
       "<g id=\"a_node3_14\"><a xlink:href=\"#\" xlink:title=\"__init__(self, grammar, **kwargs):&#10;Constructor.&#10;`grammar` is the grammar to be used for parsing.&#10;Keyword arguments:&#10;`start_symbol` is the start symbol (default: &#39;&lt;start&gt;&#39;).&#10;`log` enables logging (default: False).&#10;`coalesce` defines if tokens should be coalesced (default: True).&#10;`tokens`, if set, is a set of tokens to be used.\">\n",
       "<text text-anchor=\"start\" x=\"127.5\" y=\"-151.5\" font-family=\"'Fira Mono', 'Source Code Pro', 'Courier', monospace\" font-style=\"italic\" font-size=\"10.00\">__init__()</text>\n",
       "</a>\n",
       "</g>\n",
       "<g id=\"a_node3_15\"><a xlink:href=\"#\" xlink:title=\"chart_parse(self, words, start)\">\n",
       "<text text-anchor=\"start\" x=\"127.5\" y=\"-139.5\" font-family=\"'Fira Mono', 'Source Code Pro', 'Courier', monospace\" font-size=\"10.00\">chart_parse()</text>\n",
       "</a>\n",
       "</g>\n",
       "<g id=\"a_node3_16\"><a xlink:href=\"#\" xlink:title=\"complete(self, col, state)\">\n",
       "<text text-anchor=\"start\" x=\"127.5\" y=\"-128.5\" font-family=\"'Fira Mono', 'Source Code Pro', 'Courier', monospace\" font-size=\"10.00\">complete()</text>\n",
       "</a>\n",
       "</g>\n",
       "<g id=\"a_node3_17\"><a xlink:href=\"#\" xlink:title=\"earley_complete(self, col, state)\">\n",
       "<text text-anchor=\"start\" x=\"127.5\" y=\"-117.5\" font-family=\"'Fira Mono', 'Source Code Pro', 'Courier', monospace\" font-size=\"10.00\">earley_complete()</text>\n",
       "</a>\n",
       "</g>\n",
       "<g id=\"a_node3_18\"><a xlink:href=\"#\" xlink:title=\"extract_a_tree(self, forest_node)\">\n",
       "<text text-anchor=\"start\" x=\"127.5\" y=\"-106.5\" font-family=\"'Fira Mono', 'Source Code Pro', 'Courier', monospace\" font-size=\"10.00\">extract_a_tree()</text>\n",
       "</a>\n",
       "</g>\n",
       "<g id=\"a_node3_19\"><a xlink:href=\"#\" xlink:title=\"extract_trees(self, forest_node)\">\n",
       "<text text-anchor=\"start\" x=\"127.5\" y=\"-95.5\" font-family=\"'Fira Mono', 'Source Code Pro', 'Courier', monospace\" font-size=\"10.00\">extract_trees()</text>\n",
       "</a>\n",
       "</g>\n",
       "<g id=\"a_node3_20\"><a xlink:href=\"#\" xlink:title=\"fill_chart(self, chart)\">\n",
       "<text text-anchor=\"start\" x=\"127.5\" y=\"-84.5\" font-family=\"'Fira Mono', 'Source Code Pro', 'Courier', monospace\" font-size=\"10.00\">fill_chart()</text>\n",
       "</a>\n",
       "</g>\n",
       "<g id=\"a_node3_21\"><a xlink:href=\"#\" xlink:title=\"forest(self, s, kind, chart)\">\n",
       "<text text-anchor=\"start\" x=\"127.5\" y=\"-73.5\" font-family=\"'Fira Mono', 'Source Code Pro', 'Courier', monospace\" font-size=\"10.00\">forest()</text>\n",
       "</a>\n",
       "</g>\n",
       "<g id=\"a_node3_22\"><a xlink:href=\"#\" xlink:title=\"parse(self, text):&#10;Parse `text` using the grammar.&#10;Return an iterable of parse trees.\">\n",
       "<text text-anchor=\"start\" x=\"127.5\" y=\"-63.5\" font-family=\"'Fira Mono', 'Source Code Pro', 'Courier', monospace\" font-style=\"italic\" font-size=\"10.00\">parse()</text>\n",
       "</a>\n",
       "</g>\n",
       "<g id=\"a_node3_23\"><a xlink:href=\"#\" xlink:title=\"parse_forest(self, chart, state)\">\n",
       "<text text-anchor=\"start\" x=\"127.5\" y=\"-51.5\" font-family=\"'Fira Mono', 'Source Code Pro', 'Courier', monospace\" font-size=\"10.00\">parse_forest()</text>\n",
       "</a>\n",
       "</g>\n",
       "<g id=\"a_node3_24\"><a xlink:href=\"#\" xlink:title=\"parse_paths(self, named_expr, chart, frm, til)\">\n",
       "<text text-anchor=\"start\" x=\"127.5\" y=\"-40.5\" font-family=\"'Fira Mono', 'Source Code Pro', 'Courier', monospace\" font-size=\"10.00\">parse_paths()</text>\n",
       "</a>\n",
       "</g>\n",
       "<g id=\"a_node3_25\"><a xlink:href=\"#\" xlink:title=\"parse_prefix(self, text):&#10;Return pair (cursor, forest) for longest prefix of text.&#10;To be defined in subclasses.\">\n",
       "<text text-anchor=\"start\" x=\"127.5\" y=\"-30.5\" font-family=\"'Fira Mono', 'Source Code Pro', 'Courier', monospace\" font-style=\"italic\" font-size=\"10.00\">parse_prefix()</text>\n",
       "</a>\n",
       "</g>\n",
       "<g id=\"a_node3_26\"><a xlink:href=\"#\" xlink:title=\"predict(self, col, sym, state)\">\n",
       "<text text-anchor=\"start\" x=\"127.5\" y=\"-18.5\" font-family=\"'Fira Mono', 'Source Code Pro', 'Courier', monospace\" font-size=\"10.00\">predict()</text>\n",
       "</a>\n",
       "</g>\n",
       "<g id=\"a_node3_27\"><a xlink:href=\"#\" xlink:title=\"scan(self, col, state, letter)\">\n",
       "<text text-anchor=\"start\" x=\"127.5\" y=\"-7.5\" font-family=\"'Fira Mono', 'Source Code Pro', 'Courier', monospace\" font-size=\"10.00\">scan()</text>\n",
       "</a>\n",
       "</g>\n",
       "</a>\n",
       "</g>\n",
       "</a>\n",
       "</g>\n",
       "</g>\n",
       "<!-- EarleyParser&#45;&gt;Parser -->\n",
       "<g id=\"edge2\" class=\"edge\">\n",
       "<title>EarleyParser&#45;&gt;Parser</title>\n",
       "<path fill=\"none\" stroke=\"black\" d=\"M147.25,-185.31C144.19,-194.24 141.13,-203.2 138.16,-211.86\"/>\n",
       "<polygon fill=\"none\" stroke=\"black\" points=\"134.89,-210.61 134.96,-221.21 141.51,-212.88 134.89,-210.61\"/>\n",
       "</g>\n",
       "<!-- Legend -->\n",
       "<g id=\"node4\" class=\"node\">\n",
       "<title>Legend</title>\n",
       "<text text-anchor=\"start\" x=\"256.5\" y=\"-110.5\" font-family=\"Patua One, Helvetica, sans-serif\" font-weight=\"bold\" font-size=\"10.00\" fill=\"#b03a2e\">Legend</text>\n",
       "<text text-anchor=\"start\" x=\"256.5\" y=\"-100.5\" font-family=\"Patua One, Helvetica, sans-serif\" font-size=\"10.00\">• </text>\n",
       "<text text-anchor=\"start\" x=\"263.5\" y=\"-100.5\" font-family=\"'Fira Mono', 'Source Code Pro', 'Courier', monospace\" font-weight=\"bold\" font-size=\"8.00\">public_method()</text>\n",
       "<text text-anchor=\"start\" x=\"256.5\" y=\"-90.5\" font-family=\"Patua One, Helvetica, sans-serif\" font-size=\"10.00\">• </text>\n",
       "<text text-anchor=\"start\" x=\"263.5\" y=\"-90.5\" font-family=\"'Fira Mono', 'Source Code Pro', 'Courier', monospace\" font-size=\"8.00\">private_method()</text>\n",
       "<text text-anchor=\"start\" x=\"256.5\" y=\"-80.5\" font-family=\"Patua One, Helvetica, sans-serif\" font-size=\"10.00\">• </text>\n",
       "<text text-anchor=\"start\" x=\"263.5\" y=\"-80.5\" font-family=\"'Fira Mono', 'Source Code Pro', 'Courier', monospace\" font-style=\"italic\" font-size=\"8.00\">overloaded_method()</text>\n",
       "<text text-anchor=\"start\" x=\"256.5\" y=\"-71.3\" font-family=\"Helvetica,sans-Serif\" font-size=\"9.00\">Hover over names to see doc</text>\n",
       "</g>\n",
       "</g>\n",
       "</svg>\n"
      ],
      "text/plain": [
       "<graphviz.graphs.Digraph at 0x10de78670>"
      ]
     },
     "execution_count": 176,
     "metadata": {},
     "output_type": "execute_result"
    }
   ],
   "source": [
    "# ignore\n",
    "display_class_hierarchy([PEGParser, EarleyParser],\n",
    "                        public_methods=[\n",
    "                            Parser.parse,\n",
    "                            Parser.__init__,\n",
    "                            Parser.grammar,\n",
    "                            Parser.start_symbol\n",
    "                        ],\n",
    "                        types={\n",
    "                            'DerivationTree': DerivationTree,\n",
    "                            'Grammar': Grammar\n",
    "                        },\n",
    "                        project='fuzzingbook')"
   ]
  },
  {
   "cell_type": "markdown",
   "metadata": {
    "button": false,
    "new_sheet": true,
    "run_control": {
     "read_only": false
    },
    "slideshow": {
     "slide_type": "subslide"
    }
   },
   "source": [
    "## Lessons Learned\n",
    "\n",
    "* Grammars can be used to generate derivation trees for a given string.\n",
    "* Parsing Expression Grammars are intuitive, and easy to implement, but require care to write.\n",
    "* Earley Parsers can parse arbitrary Context Free Grammars.\n"
   ]
  },
  {
   "cell_type": "markdown",
   "metadata": {
    "button": false,
    "new_sheet": false,
    "run_control": {
     "read_only": false
    },
    "slideshow": {
     "slide_type": "subslide"
    }
   },
   "source": [
    "## Next Steps\n",
    "\n",
    "* Use parsed inputs to [recombine existing inputs](LangFuzzer.ipynb)"
   ]
  },
  {
   "cell_type": "markdown",
   "metadata": {
    "button": false,
    "new_sheet": true,
    "run_control": {
     "read_only": false
    },
    "slideshow": {
     "slide_type": "skip"
    },
    "toc-hr-collapsed": false
   },
   "source": [
    "## Exercises"
   ]
  },
  {
   "cell_type": "markdown",
   "metadata": {
    "slideshow": {
     "slide_type": "skip"
    },
    "solution2": "hidden",
    "solution2_first": true
   },
   "source": [
    "### Exercise 1: An Alternative Packrat\n",
    "\n",
    "In the _Packrat_ parser, we showed how one could implement a simple _PEG_ parser. That parser kept track of the current location in the text using an index. Can you modify the parser so that it simply uses the current substring rather than tracking the index? That is, it should no longer have the `at` parameter."
   ]
  },
  {
   "cell_type": "markdown",
   "metadata": {
    "slideshow": {
     "slide_type": "subslide"
    },
    "solution2": "hidden",
    "solution2_first": true
   },
   "source": [
    "**Solution.**  Here is a possible solution:"
   ]
  },
  {
   "cell_type": "code",
   "execution_count": 177,
   "metadata": {
    "execution": {
     "iopub.execute_input": "2023-01-07T14:16:21.422451Z",
     "iopub.status.busy": "2023-01-07T14:16:21.422142Z",
     "iopub.status.idle": "2023-01-07T14:16:21.423354Z",
     "shell.execute_reply": "2023-01-07T14:16:21.423593Z"
    },
    "slideshow": {
     "slide_type": "subslide"
    },
    "solution2": "hidden"
   },
   "outputs": [],
   "source": [
    "class PackratParser(Parser):\n",
    "    def parse_prefix(self, text):\n",
    "        txt, res = self.unify_key(self.start_symbol(), text)\n",
    "        return len(txt), [res]\n",
    "\n",
    "    def parse(self, text):\n",
    "        remain, res = self.parse_prefix(text)\n",
    "        if remain:\n",
    "            raise SyntaxError(\"at \" + res)\n",
    "        return res\n",
    "\n",
    "    def unify_rule(self, rule, text):\n",
    "        results = []\n",
    "        for token in rule:\n",
    "            text, res = self.unify_key(token, text)\n",
    "            if res is None:\n",
    "                return text, None\n",
    "            results.append(res)\n",
    "        return text, results\n",
    "\n",
    "    def unify_key(self, key, text):\n",
    "        if key not in self.cgrammar:\n",
    "            if text.startswith(key):\n",
    "                return text[len(key):], (key, [])\n",
    "            else:\n",
    "                return text, None\n",
    "        for rule in self.cgrammar[key]:\n",
    "            text_, res = self.unify_rule(rule, text)\n",
    "            if res:\n",
    "                return (text_, (key, res))\n",
    "        return text, None"
   ]
  },
  {
   "cell_type": "code",
   "execution_count": 178,
   "metadata": {
    "button": false,
    "code_folding": [],
    "execution": {
     "iopub.execute_input": "2023-01-07T14:16:21.429005Z",
     "iopub.status.busy": "2023-01-07T14:16:21.428676Z",
     "iopub.status.idle": "2023-01-07T14:16:21.430015Z",
     "shell.execute_reply": "2023-01-07T14:16:21.430264Z"
    },
    "new_sheet": false,
    "run_control": {
     "read_only": false
    },
    "slideshow": {
     "slide_type": "subslide"
    },
    "solution2": "hidden"
   },
   "outputs": [],
   "source": [
    "mystring = \"1 + (2 * 3)\"\n",
    "for tree in PackratParser(EXPR_GRAMMAR).parse(mystring):\n",
    "    assert tree_to_string(tree) == mystring\n",
    "    display_tree(tree)"
   ]
  },
  {
   "cell_type": "markdown",
   "metadata": {
    "button": false,
    "new_sheet": false,
    "run_control": {
     "read_only": false
    },
    "slideshow": {
     "slide_type": "skip"
    }
   },
   "source": [
    "### Exercise 2: More PEG Syntax\n",
    "\n",
    "The _PEG_ syntax provides a few notational conveniences reminiscent of regular expressions. For example, it supports the following operators (letters `T` and `A` represents tokens that can be either terminal or nonterminal. `ε` is an empty string, and `/` is the ordered choice operator similar to the non-ordered choice operator `|`):\n",
    "\n",
    "* `T?` represents an optional greedy match of T and `A := T?` is equivalent to `A := T/ε`.\n",
    "* `T*` represents zero or more greedy matches of `T` and `A := T*` is equivalent to `A := T A/ε`.\n",
    "* `T+` represents one or more greedy matches – equivalent to `TT*`\n",
    "\n",
    "If you look at the three notations above, each can be represented in the grammar in terms of basic syntax.\n",
    "Remember the exercise from [the chapter on grammars](Grammars.ipynb) that developed `define_ex_grammar()` that can represent grammars as Python code? extend `define_ex_grammar()` to `define_peg()` to support the above notational conveniences. The decorator should rewrite a given grammar that contains these notations to an equivalent grammar in basic syntax."
   ]
  },
  {
   "cell_type": "markdown",
   "metadata": {
    "button": false,
    "new_sheet": false,
    "run_control": {
     "read_only": false
    },
    "slideshow": {
     "slide_type": "skip"
    },
    "solution": "hidden",
    "solution_first": true
   },
   "source": [
    "### Exercise 3: PEG Predicates\n",
    "\n",
    "Beyond these notational conveniences, it also supports two predicates that can provide a powerful lookahead facility that does not consume any input.\n",
    "\n",
    "* `T&A` represents an _And-predicate_ that matches `T` if `T` is matched, and it is immediately followed by `A`\n",
    "* `T!A` represents a _Not-predicate_ that matches `T` if `T` is matched, and it is *not* immediately followed by `A`\n",
    "\n",
    "Implement these predicates in our _PEG_ parser."
   ]
  },
  {
   "cell_type": "markdown",
   "metadata": {
    "button": false,
    "new_sheet": false,
    "run_control": {
     "read_only": false
    },
    "slideshow": {
     "slide_type": "skip"
    },
    "solution": "hidden",
    "solution2": "hidden",
    "solution2_first": true,
    "solution_first": true
   },
   "source": [
    "### Exercise 4: Earley Fill Chart\n",
    "\n",
    "In the `Earley Parser`, `Column` class, we keep the states both as a `list` and also as a `dict` even though `dict` is ordered. Can you explain why?\n",
    "\n",
    "**Hint**: see the `fill_chart` method."
   ]
  },
  {
   "attachments": {},
   "cell_type": "markdown",
   "metadata": {
    "slideshow": {
     "slide_type": "subslide"
    },
    "solution2": "hidden"
   },
   "source": [
    "**Solution.** Python allows us to append to a list in flight, while a dict, even though it is ordered does not allow that facility.\n",
    "\n",
    "That is, the following will work\n",
    "\n",
    "```python\n",
    "values = [1]\n",
    "for v in values:\n",
    "   values.append(v*2)\n",
    "```\n",
    "\n",
    "However, the following will result in an error\n",
    "```python\n",
    "values = {1:1}\n",
    "for v in values:\n",
    "    values[v*2] = v*2\n",
    "```\n",
    "\n",
    "In the `fill_chart`, we make use of this facility to modify the set of states we are iterating on, on the fly."
   ]
  },
  {
   "cell_type": "markdown",
   "metadata": {
    "slideshow": {
     "slide_type": "skip"
    }
   },
   "source": [
    "### Exercise 5: Leo Parser\n",
    "\n",
    "One of the problems with the original Earley parser is that while it can parse strings using arbitrary _Context Free Gramamrs_, its performance on right-recursive grammars is quadratic. That is, it takes $O(n^2)$ runtime and space for parsing with right-recursive grammars. For example, consider the parsing of the following string by two different grammars `LR_GRAMMAR` and `RR_GRAMMAR`."
   ]
  },
  {
   "cell_type": "code",
   "execution_count": 179,
   "metadata": {
    "execution": {
     "iopub.execute_input": "2023-01-07T14:16:21.432416Z",
     "iopub.status.busy": "2023-01-07T14:16:21.432120Z",
     "iopub.status.idle": "2023-01-07T14:16:21.433335Z",
     "shell.execute_reply": "2023-01-07T14:16:21.433695Z"
    },
    "slideshow": {
     "slide_type": "fragment"
    }
   },
   "outputs": [],
   "source": [
    "mystring = 'aaaaaa'"
   ]
  },
  {
   "cell_type": "markdown",
   "metadata": {
    "slideshow": {
     "slide_type": "skip"
    }
   },
   "source": [
    "To see the problem, we need to enable logging. Here is the logged version of parsing with the `LR_GRAMMAR`"
   ]
  },
  {
   "cell_type": "code",
   "execution_count": 180,
   "metadata": {
    "execution": {
     "iopub.execute_input": "2023-01-07T14:16:21.435732Z",
     "iopub.status.busy": "2023-01-07T14:16:21.435403Z",
     "iopub.status.idle": "2023-01-07T14:16:21.437007Z",
     "shell.execute_reply": "2023-01-07T14:16:21.437337Z"
    },
    "slideshow": {
     "slide_type": "skip"
    }
   },
   "outputs": [
    {
     "name": "stdout",
     "output_type": "stream",
     "text": [
      "None chart[0]\n",
      "<A>:= |(0,0)\n",
      "<start>:= <A> |(0,0) \n",
      "\n",
      "a chart[1]\n",
      "<A>:= <A> a |(0,1)\n",
      "<start>:= <A> |(0,1) \n",
      "\n",
      "a chart[2]\n",
      "<A>:= <A> a |(0,2)\n",
      "<start>:= <A> |(0,2) \n",
      "\n",
      "a chart[3]\n",
      "<A>:= <A> a |(0,3)\n",
      "<start>:= <A> |(0,3) \n",
      "\n",
      "a chart[4]\n",
      "<A>:= <A> a |(0,4)\n",
      "<start>:= <A> |(0,4) \n",
      "\n",
      "a chart[5]\n",
      "<A>:= <A> a |(0,5)\n",
      "<start>:= <A> |(0,5) \n",
      "\n",
      "a chart[6]\n",
      "<A>:= <A> a |(0,6)\n",
      "<start>:= <A> |(0,6) \n",
      "\n"
     ]
    }
   ],
   "source": [
    "result = EarleyParser(LR_GRAMMAR, log=True).parse(mystring)\n",
    "for _ in result: pass # consume the generator so that we can see the logs"
   ]
  },
  {
   "cell_type": "markdown",
   "metadata": {
    "slideshow": {
     "slide_type": "subslide"
    }
   },
   "source": [
    "Compare that to the parsing of `RR_GRAMMAR` as seen below:"
   ]
  },
  {
   "cell_type": "code",
   "execution_count": 181,
   "metadata": {
    "execution": {
     "iopub.execute_input": "2023-01-07T14:16:21.439753Z",
     "iopub.status.busy": "2023-01-07T14:16:21.439412Z",
     "iopub.status.idle": "2023-01-07T14:16:21.440900Z",
     "shell.execute_reply": "2023-01-07T14:16:21.441228Z"
    },
    "slideshow": {
     "slide_type": "skip"
    }
   },
   "outputs": [
    {
     "name": "stdout",
     "output_type": "stream",
     "text": [
      "None chart[0]\n",
      "<A>:= |(0,0)\n",
      "<start>:= <A> |(0,0) \n",
      "\n",
      "a chart[1]\n",
      "<A>:= |(1,1)\n",
      "<A>:= a <A> |(0,1)\n",
      "<start>:= <A> |(0,1) \n",
      "\n",
      "a chart[2]\n",
      "<A>:= |(2,2)\n",
      "<A>:= a <A> |(1,2)\n",
      "<A>:= a <A> |(0,2)\n",
      "<start>:= <A> |(0,2) \n",
      "\n",
      "a chart[3]\n",
      "<A>:= |(3,3)\n",
      "<A>:= a <A> |(2,3)\n",
      "<A>:= a <A> |(1,3)\n",
      "<A>:= a <A> |(0,3)\n",
      "<start>:= <A> |(0,3) \n",
      "\n",
      "a chart[4]\n",
      "<A>:= |(4,4)\n",
      "<A>:= a <A> |(3,4)\n",
      "<A>:= a <A> |(2,4)\n",
      "<A>:= a <A> |(1,4)\n",
      "<A>:= a <A> |(0,4)\n",
      "<start>:= <A> |(0,4) \n",
      "\n",
      "a chart[5]\n",
      "<A>:= |(5,5)\n",
      "<A>:= a <A> |(4,5)\n",
      "<A>:= a <A> |(3,5)\n",
      "<A>:= a <A> |(2,5)\n",
      "<A>:= a <A> |(1,5)\n",
      "<A>:= a <A> |(0,5)\n",
      "<start>:= <A> |(0,5) \n",
      "\n",
      "a chart[6]\n",
      "<A>:= |(6,6)\n",
      "<A>:= a <A> |(5,6)\n",
      "<A>:= a <A> |(4,6)\n",
      "<A>:= a <A> |(3,6)\n",
      "<A>:= a <A> |(2,6)\n",
      "<A>:= a <A> |(1,6)\n",
      "<A>:= a <A> |(0,6)\n",
      "<start>:= <A> |(0,6) \n",
      "\n"
     ]
    }
   ],
   "source": [
    "result = EarleyParser(RR_GRAMMAR, log=True).parse(mystring)\n",
    "for _ in result: pass"
   ]
  },
  {
   "cell_type": "markdown",
   "metadata": {
    "slideshow": {
     "slide_type": "skip"
    }
   },
   "source": [
    "As can be seen from the parsing log for each letter, the number of states with representation `<A>: a <A> ● (i, j)` increases at each stage, and these are simply a left over from the previous letter. They do not contribute anything more to the parse other than to simply complete these entries. However, they take up space, and require resources for inspection, contributing a factor of `n` in analysis.\n",
    "\n",
    "Joop Leo \\cite{Leo1991} found that this inefficiency can be avoided by detecting right recursion. The idea is that before starting the `completion` step, check whether the current item has a _deterministic reduction path_. If such a path exists, add a copy of the topmost element of the _deteministic reduction path_ to the current column, and return. If not, perform the original `completion` step.\n",
    "\n",
    "\n",
    "**Definition 2.1**: An item is said to be on the deterministic reduction path above $[A \\rightarrow  \\gamma., i]$ if it is $[B \\rightarrow \\alpha A ., k]$ with $[B \\rightarrow \\alpha . A, k]$ being the only item in $ I_i $ with the dot in front of A, or if it is on the deterministic reduction path above $[B \\rightarrow \\alpha A ., k]$. An item on such a path is called *topmost* one if there is no item on the deterministic reduction path above it\\cite{Leo1991}."
   ]
  },
  {
   "cell_type": "markdown",
   "metadata": {
    "slideshow": {
     "slide_type": "subslide"
    }
   },
   "source": [
    "Finding a _deterministic reduction path_ is as follows:\n",
    "\n",
    "Given a complete state, represented by `<A> : seq_1 ● (s, e)` where `s` is the starting column for this rule, and `e` the current column, there is a _deterministic reduction path_ **above** it if two constraints are satisfied.\n",
    "\n",
    "1. There exist a *single* item in the form `<B> : seq_2 ● <A> (k, s)` in column `s`.\n",
    "2. That should be the *single* item in s with dot in front of `<A>`\n",
    "\n",
    "The resulting item is of the form `<B> : seq_2 <A> ● (k, e)`, which is simply item from (1) advanced, and is considered above `<A>:.. (s, e)` in the deterministic reduction path.\n",
    "The `seq_1` and `seq_2` are arbitrary symbol sequences.\n",
    "\n",
    "This forms the following chain of links, with `<A>:.. (s_1, e)` being the child of `<B>:.. (s_2, e)` etc."
   ]
  },
  {
   "cell_type": "markdown",
   "metadata": {
    "slideshow": {
     "slide_type": "subslide"
    }
   },
   "source": [
    "Here is one way to visualize the chain:\n",
    "```\n",
    "<C> : seq_3 <B> ● (s_3, e)  \n",
    "             |  constraints satisfied by <C> : seq_3 ● <B> (s_3, s_2)\n",
    "            <B> : seq_2 <A> ● (s_2, e)  \n",
    "                         | constraints satisfied by <B> : seq_2 ● <A> (s_2, s_1)\n",
    "                        <A> : seq_1 ● (s_1, e)\n",
    "```"
   ]
  },
  {
   "cell_type": "markdown",
   "metadata": {
    "slideshow": {
     "slide_type": "subslide"
    }
   },
   "source": [
    "Essentially, what we want to do is to identify potential deterministic right recursion candidates, perform completion on them, and *throw away the result*. We do this until we reach the top. See Grune et al.~\\cite{grune2008parsing} for further information."
   ]
  },
  {
   "attachments": {},
   "cell_type": "markdown",
   "metadata": {
    "slideshow": {
     "slide_type": "subslide"
    }
   },
   "source": [
    "Note that the completions are in the same column (`e`), with each candidate with constraints satisfied \n",
    "in further and further earlier columns (as shown below):\n",
    "```\n",
    "<C> : seq_3 ● <B> (s_3, s_2)  -->              <C> : seq_3 <B> ● (s_3, e)\n",
    "               |\n",
    "              <B> : seq_2 ● <A> (s_2, s_1) --> <B> : seq_2 <A> ● (s_2, e)  \n",
    "                             |\n",
    "                            <A> : seq_1 ●                        (s_1, e)\n",
    "```"
   ]
  },
  {
   "cell_type": "markdown",
   "metadata": {
    "slideshow": {
     "slide_type": "subslide"
    }
   },
   "source": [
    "Following this chain, the topmost item is the item `<C>:.. (s_3, e)` that does not have a parent. The topmost item needs to be saved is called a *transitive* item by Leo, and it is associated with the non-terminal symbol that started the lookup. The transitive item needs to be added to each column we inspect."
   ]
  },
  {
   "cell_type": "markdown",
   "metadata": {
    "slideshow": {
     "slide_type": "fragment"
    }
   },
   "source": [
    "Here is the skeleton for the parser `LeoParser`."
   ]
  },
  {
   "cell_type": "code",
   "execution_count": 182,
   "metadata": {
    "execution": {
     "iopub.execute_input": "2023-01-07T14:16:21.443718Z",
     "iopub.status.busy": "2023-01-07T14:16:21.442594Z",
     "iopub.status.idle": "2023-01-07T14:16:21.444895Z",
     "shell.execute_reply": "2023-01-07T14:16:21.445117Z"
    },
    "slideshow": {
     "slide_type": "skip"
    }
   },
   "outputs": [],
   "source": [
    "class LeoParser(EarleyParser):\n",
    "    def complete(self, col, state):\n",
    "        return self.leo_complete(col, state)\n",
    "\n",
    "    def leo_complete(self, col, state):\n",
    "        detred = self.deterministic_reduction(state)\n",
    "        if detred:\n",
    "            col.add(detred.copy())\n",
    "        else:\n",
    "            self.earley_complete(col, state)\n",
    "\n",
    "    def deterministic_reduction(self, state):\n",
    "        raise NotImplementedError"
   ]
  },
  {
   "cell_type": "markdown",
   "metadata": {
    "slideshow": {
     "slide_type": "skip"
    },
    "solution2": "hidden",
    "solution2_first": true
   },
   "source": [
    "Can you implement the `deterministic_reduction()` method to obtain the topmost element?"
   ]
  },
  {
   "cell_type": "markdown",
   "metadata": {
    "slideshow": {
     "slide_type": "subslide"
    },
    "solution2": "hidden",
    "solution2_first": true
   },
   "source": [
    "**Solution.**  Here is a possible solution:"
   ]
  },
  {
   "cell_type": "markdown",
   "metadata": {
    "slideshow": {
     "slide_type": "skip"
    },
    "solution2": "hidden"
   },
   "source": [
    "First, we update our `Column` class with the ability to add transitive items. Note that, while Leo asks the transitive to be added to the set $ I_k $ there is no actual requirement for the transitive states to be added to the `states` list. The transitive items are only intended for memoization and not for the `fill_chart()` method. Hence, we track them separately."
   ]
  },
  {
   "cell_type": "code",
   "execution_count": 183,
   "metadata": {
    "execution": {
     "iopub.execute_input": "2023-01-07T14:16:21.447665Z",
     "iopub.status.busy": "2023-01-07T14:16:21.447270Z",
     "iopub.status.idle": "2023-01-07T14:16:21.448471Z",
     "shell.execute_reply": "2023-01-07T14:16:21.448661Z"
    },
    "slideshow": {
     "slide_type": "skip"
    },
    "solution2": "hidden"
   },
   "outputs": [],
   "source": [
    "class Column(Column):\n",
    "    def __init__(self, index, letter):\n",
    "        self.index, self.letter = index, letter\n",
    "        self.states, self._unique, self.transitives = [], {}, {}\n",
    "\n",
    "    def add_transitive(self, key, state):\n",
    "        assert key not in self.transitives\n",
    "        self.transitives[key] = state\n",
    "        return self.transitives[key]"
   ]
  },
  {
   "cell_type": "markdown",
   "metadata": {
    "slideshow": {
     "slide_type": "skip"
    },
    "solution2": "hidden"
   },
   "source": [
    "Remember the picture we drew of the deterministic path?\n",
    "```\n",
    "    <C> : seq_3 <B> ● (s_3, e)  \n",
    "                 |  constraints satisfied by <C> : seq_3 ● <B> (s_3, s_2)\n",
    "                <B> : seq_2 <A> ● (s_2, e)  \n",
    "                             | constraints satisfied by <B> : seq_2 ● <A> (s_2, s_1)\n",
    "                            <A> : seq_1 ● (s_1, e)\n",
    "```"
   ]
  },
  {
   "cell_type": "markdown",
   "metadata": {
    "slideshow": {
     "slide_type": "skip"
    },
    "solution2": "hidden"
   },
   "source": [
    "We define a function `uniq_postdot()` that given the item `<A> := seq_1 ● (s_1, e)`, returns a `<B> : seq_2 ● <A> (s_2, s_1)` that satisfies the constraints mentioned in the above picture."
   ]
  },
  {
   "cell_type": "code",
   "execution_count": 184,
   "metadata": {
    "execution": {
     "iopub.execute_input": "2023-01-07T14:16:21.451171Z",
     "iopub.status.busy": "2023-01-07T14:16:21.450873Z",
     "iopub.status.idle": "2023-01-07T14:16:21.452074Z",
     "shell.execute_reply": "2023-01-07T14:16:21.452321Z"
    },
    "slideshow": {
     "slide_type": "skip"
    },
    "solution2": "hidden"
   },
   "outputs": [],
   "source": [
    "class LeoParser(LeoParser):\n",
    "    def uniq_postdot(self, st_A):\n",
    "        col_s1 = st_A.s_col\n",
    "        parent_states = [\n",
    "            s for s in col_s1.states if s.expr and s.at_dot() == st_A.name\n",
    "        ]\n",
    "        if len(parent_states) > 1:\n",
    "            return None\n",
    "        matching_st_B = [s for s in parent_states if s.dot == len(s.expr) - 1]\n",
    "        return matching_st_B[0] if matching_st_B else None"
   ]
  },
  {
   "cell_type": "code",
   "execution_count": 185,
   "metadata": {
    "execution": {
     "iopub.execute_input": "2023-01-07T14:16:21.454580Z",
     "iopub.status.busy": "2023-01-07T14:16:21.454249Z",
     "iopub.status.idle": "2023-01-07T14:16:21.455800Z",
     "shell.execute_reply": "2023-01-07T14:16:21.456052Z"
    },
    "slideshow": {
     "slide_type": "skip"
    },
    "solution2": "hidden"
   },
   "outputs": [
    {
     "data": {
      "text/plain": [
       "[('<D>:= d |(3,4)', '<B>:= | <D>(3,3)'),\n",
       " ('<B>:= <D> |(3,4)', '<start>:= <A> | <B>(0,3)'),\n",
       " ('<start>:= <A> <B> |(0,4)', 'None')]"
      ]
     },
     "execution_count": 185,
     "metadata": {},
     "output_type": "execute_result"
    }
   ],
   "source": [
    "lp = LeoParser(RR_GRAMMAR)\n",
    "[(str(s), str(lp.uniq_postdot(s))) for s in columns[-1].states]"
   ]
  },
  {
   "cell_type": "markdown",
   "metadata": {
    "slideshow": {
     "slide_type": "skip"
    },
    "solution2": "hidden"
   },
   "source": [
    "We next define the function `get_top()` that is the core of deterministic reduction which gets the topmost state above the current state (`A`)."
   ]
  },
  {
   "cell_type": "code",
   "execution_count": 186,
   "metadata": {
    "execution": {
     "iopub.execute_input": "2023-01-07T14:16:21.458472Z",
     "iopub.status.busy": "2023-01-07T14:16:21.458181Z",
     "iopub.status.idle": "2023-01-07T14:16:21.459372Z",
     "shell.execute_reply": "2023-01-07T14:16:21.459574Z"
    },
    "slideshow": {
     "slide_type": "subslide"
    },
    "solution2": "hidden"
   },
   "outputs": [],
   "source": [
    "class LeoParser(LeoParser):\n",
    "    def get_top(self, state_A):\n",
    "        st_B_inc = self.uniq_postdot(state_A)\n",
    "        if not st_B_inc:\n",
    "            return None\n",
    "        \n",
    "        t_name = st_B_inc.name\n",
    "        if t_name in st_B_inc.e_col.transitives:\n",
    "            return st_B_inc.e_col.transitives[t_name]\n",
    "\n",
    "        st_B = st_B_inc.advance()\n",
    "\n",
    "        top = self.get_top(st_B) or st_B\n",
    "        return st_B_inc.e_col.add_transitive(t_name, top)"
   ]
  },
  {
   "cell_type": "markdown",
   "metadata": {
    "slideshow": {
     "slide_type": "skip"
    },
    "solution2": "hidden"
   },
   "source": [
    "Once we have the machinery in place, `deterministic_reduction()` itself is simply a wrapper to call `get_top()`"
   ]
  },
  {
   "cell_type": "code",
   "execution_count": 187,
   "metadata": {
    "execution": {
     "iopub.execute_input": "2023-01-07T14:16:21.461375Z",
     "iopub.status.busy": "2023-01-07T14:16:21.461073Z",
     "iopub.status.idle": "2023-01-07T14:16:21.462418Z",
     "shell.execute_reply": "2023-01-07T14:16:21.462615Z"
    },
    "slideshow": {
     "slide_type": "skip"
    },
    "solution2": "hidden"
   },
   "outputs": [],
   "source": [
    "class LeoParser(LeoParser):\n",
    "    def deterministic_reduction(self, state):\n",
    "        return self.get_top(state)"
   ]
  },
  {
   "cell_type": "code",
   "execution_count": 188,
   "metadata": {
    "execution": {
     "iopub.execute_input": "2023-01-07T14:16:21.465097Z",
     "iopub.status.busy": "2023-01-07T14:16:21.464770Z",
     "iopub.status.idle": "2023-01-07T14:16:21.466278Z",
     "shell.execute_reply": "2023-01-07T14:16:21.466468Z"
    },
    "slideshow": {
     "slide_type": "skip"
    },
    "solution2": "hidden"
   },
   "outputs": [
    {
     "data": {
      "text/plain": [
       "[('<A>:= a | <A>(5,6)', '<start>:= <A> |(0,-1)'),\n",
       " ('<A>:= | a <A>(6,6)', '<start>:= <A> |(0,-1)'),\n",
       " ('<A>:= |(6,6)', '<start>:= <A> |(0,-1)'),\n",
       " ('<A>:= a <A> |(5,6)', '<start>:= <A> |(0,-1)'),\n",
       " ('<start>:= <A> |(0,6)', 'None')]"
      ]
     },
     "execution_count": 188,
     "metadata": {},
     "output_type": "execute_result"
    }
   ],
   "source": [
    "lp = LeoParser(RR_GRAMMAR)\n",
    "columns = lp.chart_parse(mystring, lp.start_symbol())\n",
    "[(str(s), str(lp.get_top(s))) for s in columns[-1].states]"
   ]
  },
  {
   "cell_type": "markdown",
   "metadata": {
    "slideshow": {
     "slide_type": "skip"
    },
    "solution2": "hidden"
   },
   "source": [
    "Now, both LR and RR grammars should work within $O(n)$ bounds."
   ]
  },
  {
   "cell_type": "code",
   "execution_count": 189,
   "metadata": {
    "execution": {
     "iopub.execute_input": "2023-01-07T14:16:21.469209Z",
     "iopub.status.busy": "2023-01-07T14:16:21.468723Z",
     "iopub.status.idle": "2023-01-07T14:16:21.470633Z",
     "shell.execute_reply": "2023-01-07T14:16:21.470923Z"
    },
    "slideshow": {
     "slide_type": "skip"
    },
    "solution2": "hidden"
   },
   "outputs": [
    {
     "name": "stdout",
     "output_type": "stream",
     "text": [
      "None chart[0]\n",
      "<A>:= |(0,0)\n",
      "<start>:= <A> |(0,0) \n",
      "\n",
      "a chart[1]\n",
      "<A>:= |(1,1)\n",
      "<A>:= a <A> |(0,1)\n",
      "<start>:= <A> |(0,1) \n",
      "\n",
      "a chart[2]\n",
      "<A>:= |(2,2)\n",
      "<A>:= a <A> |(1,2)\n",
      "<start>:= <A> |(0,2) \n",
      "\n",
      "a chart[3]\n",
      "<A>:= |(3,3)\n",
      "<A>:= a <A> |(2,3)\n",
      "<start>:= <A> |(0,3) \n",
      "\n",
      "a chart[4]\n",
      "<A>:= |(4,4)\n",
      "<A>:= a <A> |(3,4)\n",
      "<start>:= <A> |(0,4) \n",
      "\n",
      "a chart[5]\n",
      "<A>:= |(5,5)\n",
      "<A>:= a <A> |(4,5)\n",
      "<start>:= <A> |(0,5) \n",
      "\n",
      "a chart[6]\n",
      "<A>:= |(6,6)\n",
      "<A>:= a <A> |(5,6)\n",
      "<start>:= <A> |(0,6) \n",
      "\n"
     ]
    }
   ],
   "source": [
    "result = LeoParser(RR_GRAMMAR, log=True).parse(mystring)\n",
    "for _ in result: pass"
   ]
  },
  {
   "cell_type": "markdown",
   "metadata": {
    "slideshow": {
     "slide_type": "subslide"
    },
    "solution2": "hidden"
   },
   "source": [
    "We verify the Leo parser with a few more right recursive grammars."
   ]
  },
  {
   "cell_type": "code",
   "execution_count": 190,
   "metadata": {
    "execution": {
     "iopub.execute_input": "2023-01-07T14:16:21.472877Z",
     "iopub.status.busy": "2023-01-07T14:16:21.472240Z",
     "iopub.status.idle": "2023-01-07T14:16:21.474328Z",
     "shell.execute_reply": "2023-01-07T14:16:21.474569Z"
    },
    "slideshow": {
     "slide_type": "skip"
    },
    "solution2": "hidden"
   },
   "outputs": [],
   "source": [
    "RR_GRAMMAR2 = {\n",
    "    '<start>': ['<A>'],\n",
    "    '<A>': ['ab<A>', ''],\n",
    "}\n",
    "mystring2 = 'ababababab'"
   ]
  },
  {
   "cell_type": "code",
   "execution_count": 191,
   "metadata": {
    "execution": {
     "iopub.execute_input": "2023-01-07T14:16:21.477326Z",
     "iopub.status.busy": "2023-01-07T14:16:21.476833Z",
     "iopub.status.idle": "2023-01-07T14:16:21.478673Z",
     "shell.execute_reply": "2023-01-07T14:16:21.478959Z"
    },
    "slideshow": {
     "slide_type": "skip"
    },
    "solution2": "hidden"
   },
   "outputs": [
    {
     "name": "stdout",
     "output_type": "stream",
     "text": [
      "None chart[0]\n",
      "<A>:= |(0,0)\n",
      "<start>:= <A> |(0,0) \n",
      "\n",
      "a chart[1]\n",
      " \n",
      "\n",
      "b chart[2]\n",
      "<A>:= |(2,2)\n",
      "<A>:= a b <A> |(0,2)\n",
      "<start>:= <A> |(0,2) \n",
      "\n",
      "a chart[3]\n",
      " \n",
      "\n",
      "b chart[4]\n",
      "<A>:= |(4,4)\n",
      "<A>:= a b <A> |(2,4)\n",
      "<start>:= <A> |(0,4) \n",
      "\n",
      "a chart[5]\n",
      " \n",
      "\n",
      "b chart[6]\n",
      "<A>:= |(6,6)\n",
      "<A>:= a b <A> |(4,6)\n",
      "<start>:= <A> |(0,6) \n",
      "\n",
      "a chart[7]\n",
      " \n",
      "\n",
      "b chart[8]\n",
      "<A>:= |(8,8)\n",
      "<A>:= a b <A> |(6,8)\n",
      "<start>:= <A> |(0,8) \n",
      "\n",
      "a chart[9]\n",
      " \n",
      "\n",
      "b chart[10]\n",
      "<A>:= |(10,10)\n",
      "<A>:= a b <A> |(8,10)\n",
      "<start>:= <A> |(0,10) \n",
      "\n"
     ]
    }
   ],
   "source": [
    "result = LeoParser(RR_GRAMMAR2, log=True).parse(mystring2)\n",
    "for _ in result: pass"
   ]
  },
  {
   "cell_type": "code",
   "execution_count": 192,
   "metadata": {
    "execution": {
     "iopub.execute_input": "2023-01-07T14:16:21.481290Z",
     "iopub.status.busy": "2023-01-07T14:16:21.480789Z",
     "iopub.status.idle": "2023-01-07T14:16:21.482653Z",
     "shell.execute_reply": "2023-01-07T14:16:21.482852Z"
    },
    "slideshow": {
     "slide_type": "skip"
    },
    "solution2": "hidden"
   },
   "outputs": [],
   "source": [
    "RR_GRAMMAR3 = {\n",
    "    '<start>': ['c<A>'],\n",
    "    '<A>': ['ab<A>', ''],\n",
    "}\n",
    "mystring3 = 'cababababab'"
   ]
  },
  {
   "cell_type": "code",
   "execution_count": 193,
   "metadata": {
    "execution": {
     "iopub.execute_input": "2023-01-07T14:16:21.484989Z",
     "iopub.status.busy": "2023-01-07T14:16:21.483947Z",
     "iopub.status.idle": "2023-01-07T14:16:21.486328Z",
     "shell.execute_reply": "2023-01-07T14:16:21.486528Z"
    },
    "slideshow": {
     "slide_type": "skip"
    },
    "solution2": "hidden"
   },
   "outputs": [
    {
     "name": "stdout",
     "output_type": "stream",
     "text": [
      "None chart[0]\n",
      " \n",
      "\n",
      "c chart[1]\n",
      "<A>:= |(1,1)\n",
      "<start>:= c <A> |(0,1) \n",
      "\n",
      "a chart[2]\n",
      " \n",
      "\n",
      "b chart[3]\n",
      "<A>:= |(3,3)\n",
      "<A>:= a b <A> |(1,3)\n",
      "<start>:= c <A> |(0,3) \n",
      "\n",
      "a chart[4]\n",
      " \n",
      "\n",
      "b chart[5]\n",
      "<A>:= |(5,5)\n",
      "<A>:= a b <A> |(3,5)\n",
      "<start>:= c <A> |(0,5) \n",
      "\n",
      "a chart[6]\n",
      " \n",
      "\n",
      "b chart[7]\n",
      "<A>:= |(7,7)\n",
      "<A>:= a b <A> |(5,7)\n",
      "<start>:= c <A> |(0,7) \n",
      "\n",
      "a chart[8]\n",
      " \n",
      "\n",
      "b chart[9]\n",
      "<A>:= |(9,9)\n",
      "<A>:= a b <A> |(7,9)\n",
      "<start>:= c <A> |(0,9) \n",
      "\n",
      "a chart[10]\n",
      " \n",
      "\n",
      "b chart[11]\n",
      "<A>:= |(11,11)\n",
      "<A>:= a b <A> |(9,11)\n",
      "<start>:= c <A> |(0,11) \n",
      "\n"
     ]
    }
   ],
   "source": [
    "result = LeoParser(RR_GRAMMAR3, log=True).parse(mystring3)\n",
    "for _ in result: pass"
   ]
  },
  {
   "cell_type": "code",
   "execution_count": 194,
   "metadata": {
    "execution": {
     "iopub.execute_input": "2023-01-07T14:16:21.488426Z",
     "iopub.status.busy": "2023-01-07T14:16:21.488048Z",
     "iopub.status.idle": "2023-01-07T14:16:21.489316Z",
     "shell.execute_reply": "2023-01-07T14:16:21.489509Z"
    },
    "slideshow": {
     "slide_type": "skip"
    },
    "solution2": "hidden"
   },
   "outputs": [],
   "source": [
    "RR_GRAMMAR4 = {\n",
    "    '<start>': ['<A>c'],\n",
    "    '<A>': ['ab<A>', ''],\n",
    "}\n",
    "mystring4 = 'ababababc'"
   ]
  },
  {
   "cell_type": "code",
   "execution_count": 195,
   "metadata": {
    "execution": {
     "iopub.execute_input": "2023-01-07T14:16:21.491383Z",
     "iopub.status.busy": "2023-01-07T14:16:21.490538Z",
     "iopub.status.idle": "2023-01-07T14:16:21.492905Z",
     "shell.execute_reply": "2023-01-07T14:16:21.493114Z"
    },
    "slideshow": {
     "slide_type": "subslide"
    },
    "solution2": "hidden"
   },
   "outputs": [
    {
     "name": "stdout",
     "output_type": "stream",
     "text": [
      "None chart[0]\n",
      "<A>:= |(0,0) \n",
      "\n",
      "a chart[1]\n",
      " \n",
      "\n",
      "b chart[2]\n",
      "<A>:= |(2,2)\n",
      "<A>:= a b <A> |(0,2) \n",
      "\n",
      "a chart[3]\n",
      " \n",
      "\n",
      "b chart[4]\n",
      "<A>:= |(4,4)\n",
      "<A>:= a b <A> |(2,4)\n",
      "<A>:= a b <A> |(0,4) \n",
      "\n",
      "a chart[5]\n",
      " \n",
      "\n",
      "b chart[6]\n",
      "<A>:= |(6,6)\n",
      "<A>:= a b <A> |(4,6)\n",
      "<A>:= a b <A> |(0,6) \n",
      "\n",
      "a chart[7]\n",
      " \n",
      "\n",
      "b chart[8]\n",
      "<A>:= |(8,8)\n",
      "<A>:= a b <A> |(6,8)\n",
      "<A>:= a b <A> |(0,8) \n",
      "\n",
      "c chart[9]\n",
      "<start>:= <A> c |(0,9) \n",
      "\n"
     ]
    }
   ],
   "source": [
    "result = LeoParser(RR_GRAMMAR4, log=True).parse(mystring4)\n",
    "for _ in result: pass"
   ]
  },
  {
   "cell_type": "code",
   "execution_count": 196,
   "metadata": {
    "execution": {
     "iopub.execute_input": "2023-01-07T14:16:21.495036Z",
     "iopub.status.busy": "2023-01-07T14:16:21.494717Z",
     "iopub.status.idle": "2023-01-07T14:16:21.496014Z",
     "shell.execute_reply": "2023-01-07T14:16:21.496215Z"
    },
    "slideshow": {
     "slide_type": "skip"
    },
    "solution2": "hidden"
   },
   "outputs": [],
   "source": [
    "RR_GRAMMAR5 = {\n",
    "    '<start>': ['<A>'],\n",
    "    '<A>': ['ab<B>', ''],\n",
    "    '<B>': ['<A>'],\n",
    "}\n",
    "mystring5 = 'abababab'"
   ]
  },
  {
   "cell_type": "code",
   "execution_count": 197,
   "metadata": {
    "execution": {
     "iopub.execute_input": "2023-01-07T14:16:21.498217Z",
     "iopub.status.busy": "2023-01-07T14:16:21.497210Z",
     "iopub.status.idle": "2023-01-07T14:16:21.499636Z",
     "shell.execute_reply": "2023-01-07T14:16:21.499850Z"
    },
    "slideshow": {
     "slide_type": "skip"
    },
    "solution2": "hidden"
   },
   "outputs": [
    {
     "name": "stdout",
     "output_type": "stream",
     "text": [
      "None chart[0]\n",
      "<A>:= |(0,0)\n",
      "<start>:= <A> |(0,0) \n",
      "\n",
      "a chart[1]\n",
      " \n",
      "\n",
      "b chart[2]\n",
      "<A>:= a b <B> |(0,2)\n",
      "<A>:= |(2,2)\n",
      "<B>:= <A> |(2,2)\n",
      "<start>:= <A> |(0,2) \n",
      "\n",
      "a chart[3]\n",
      " \n",
      "\n",
      "b chart[4]\n",
      "<A>:= a b <B> |(2,4)\n",
      "<A>:= |(4,4)\n",
      "<B>:= <A> |(4,4)\n",
      "<start>:= <A> |(0,4) \n",
      "\n",
      "a chart[5]\n",
      " \n",
      "\n",
      "b chart[6]\n",
      "<A>:= a b <B> |(4,6)\n",
      "<A>:= |(6,6)\n",
      "<B>:= <A> |(6,6)\n",
      "<start>:= <A> |(0,6) \n",
      "\n",
      "a chart[7]\n",
      " \n",
      "\n",
      "b chart[8]\n",
      "<A>:= a b <B> |(6,8)\n",
      "<A>:= |(8,8)\n",
      "<B>:= <A> |(8,8)\n",
      "<start>:= <A> |(0,8) \n",
      "\n"
     ]
    }
   ],
   "source": [
    "result = LeoParser(RR_GRAMMAR5, log=True).parse(mystring5)\n",
    "for _ in result: pass"
   ]
  },
  {
   "cell_type": "code",
   "execution_count": 198,
   "metadata": {
    "execution": {
     "iopub.execute_input": "2023-01-07T14:16:21.501398Z",
     "iopub.status.busy": "2023-01-07T14:16:21.500807Z",
     "iopub.status.idle": "2023-01-07T14:16:21.502686Z",
     "shell.execute_reply": "2023-01-07T14:16:21.502879Z"
    },
    "slideshow": {
     "slide_type": "skip"
    },
    "solution2": "hidden"
   },
   "outputs": [],
   "source": [
    "RR_GRAMMAR6 = {\n",
    "    '<start>': ['<A>'],\n",
    "    '<A>': ['a<B>', ''],\n",
    "    '<B>': ['b<A>'],\n",
    "}\n",
    "mystring6 = 'abababab'"
   ]
  },
  {
   "cell_type": "code",
   "execution_count": 199,
   "metadata": {
    "execution": {
     "iopub.execute_input": "2023-01-07T14:16:21.504531Z",
     "iopub.status.busy": "2023-01-07T14:16:21.503898Z",
     "iopub.status.idle": "2023-01-07T14:16:21.506237Z",
     "shell.execute_reply": "2023-01-07T14:16:21.506477Z"
    },
    "slideshow": {
     "slide_type": "skip"
    },
    "solution2": "hidden"
   },
   "outputs": [
    {
     "name": "stdout",
     "output_type": "stream",
     "text": [
      "None chart[0]\n",
      "<A>:= |(0,0)\n",
      "<start>:= <A> |(0,0) \n",
      "\n",
      "a chart[1]\n",
      " \n",
      "\n",
      "b chart[2]\n",
      "<A>:= |(2,2)\n",
      "<B>:= b <A> |(1,2)\n",
      "<start>:= <A> |(0,2) \n",
      "\n",
      "a chart[3]\n",
      " \n",
      "\n",
      "b chart[4]\n",
      "<A>:= |(4,4)\n",
      "<B>:= b <A> |(3,4)\n",
      "<start>:= <A> |(0,4) \n",
      "\n",
      "a chart[5]\n",
      " \n",
      "\n",
      "b chart[6]\n",
      "<A>:= |(6,6)\n",
      "<B>:= b <A> |(5,6)\n",
      "<start>:= <A> |(0,6) \n",
      "\n",
      "a chart[7]\n",
      " \n",
      "\n",
      "b chart[8]\n",
      "<A>:= |(8,8)\n",
      "<B>:= b <A> |(7,8)\n",
      "<start>:= <A> |(0,8) \n",
      "\n"
     ]
    }
   ],
   "source": [
    "result = LeoParser(RR_GRAMMAR6, log=True).parse(mystring6)\n",
    "for _ in result: pass"
   ]
  },
  {
   "cell_type": "code",
   "execution_count": 200,
   "metadata": {
    "execution": {
     "iopub.execute_input": "2023-01-07T14:16:21.508035Z",
     "iopub.status.busy": "2023-01-07T14:16:21.507412Z",
     "iopub.status.idle": "2023-01-07T14:16:21.509038Z",
     "shell.execute_reply": "2023-01-07T14:16:21.509274Z"
    },
    "slideshow": {
     "slide_type": "skip"
    },
    "solution2": "hidden"
   },
   "outputs": [],
   "source": [
    "RR_GRAMMAR7 = {\n",
    "    '<start>': ['<A>'],\n",
    "    '<A>': ['a<A>', 'a'],\n",
    "}\n",
    "mystring7 = 'aaaaaaaa'"
   ]
  },
  {
   "cell_type": "code",
   "execution_count": 201,
   "metadata": {
    "execution": {
     "iopub.execute_input": "2023-01-07T14:16:21.512122Z",
     "iopub.status.busy": "2023-01-07T14:16:21.511799Z",
     "iopub.status.idle": "2023-01-07T14:16:21.513192Z",
     "shell.execute_reply": "2023-01-07T14:16:21.513377Z"
    },
    "slideshow": {
     "slide_type": "skip"
    },
    "solution2": "hidden"
   },
   "outputs": [
    {
     "name": "stdout",
     "output_type": "stream",
     "text": [
      "None chart[0]\n",
      " \n",
      "\n",
      "a chart[1]\n",
      "<A>:= a |(0,1)\n",
      "<start>:= <A> |(0,1) \n",
      "\n",
      "a chart[2]\n",
      "<A>:= a |(1,2)\n",
      "<start>:= <A> |(0,2) \n",
      "\n",
      "a chart[3]\n",
      "<A>:= a |(2,3)\n",
      "<start>:= <A> |(0,3) \n",
      "\n",
      "a chart[4]\n",
      "<A>:= a |(3,4)\n",
      "<start>:= <A> |(0,4) \n",
      "\n",
      "a chart[5]\n",
      "<A>:= a |(4,5)\n",
      "<start>:= <A> |(0,5) \n",
      "\n",
      "a chart[6]\n",
      "<A>:= a |(5,6)\n",
      "<start>:= <A> |(0,6) \n",
      "\n",
      "a chart[7]\n",
      "<A>:= a |(6,7)\n",
      "<start>:= <A> |(0,7) \n",
      "\n",
      "a chart[8]\n",
      "<A>:= a |(7,8)\n",
      "<start>:= <A> |(0,8) \n",
      "\n"
     ]
    }
   ],
   "source": [
    "result = LeoParser(RR_GRAMMAR7, log=True).parse(mystring7)\n",
    "for _ in result: pass"
   ]
  },
  {
   "cell_type": "markdown",
   "metadata": {
    "slideshow": {
     "slide_type": "skip"
    },
    "solution2": "hidden"
   },
   "source": [
    "We verify that our parser works correctly on `LR_GRAMMAR` too."
   ]
  },
  {
   "cell_type": "code",
   "execution_count": 202,
   "metadata": {
    "execution": {
     "iopub.execute_input": "2023-01-07T14:16:21.515559Z",
     "iopub.status.busy": "2023-01-07T14:16:21.515250Z",
     "iopub.status.idle": "2023-01-07T14:16:21.516639Z",
     "shell.execute_reply": "2023-01-07T14:16:21.516876Z"
    },
    "slideshow": {
     "slide_type": "subslide"
    },
    "solution2": "hidden"
   },
   "outputs": [
    {
     "name": "stdout",
     "output_type": "stream",
     "text": [
      "None chart[0]\n",
      "<A>:= |(0,0)\n",
      "<start>:= <A> |(0,0) \n",
      "\n",
      "a chart[1]\n",
      "<A>:= <A> a |(0,1)\n",
      "<start>:= <A> |(0,1) \n",
      "\n",
      "a chart[2]\n",
      "<A>:= <A> a |(0,2)\n",
      "<start>:= <A> |(0,2) \n",
      "\n",
      "a chart[3]\n",
      "<A>:= <A> a |(0,3)\n",
      "<start>:= <A> |(0,3) \n",
      "\n",
      "a chart[4]\n",
      "<A>:= <A> a |(0,4)\n",
      "<start>:= <A> |(0,4) \n",
      "\n",
      "a chart[5]\n",
      "<A>:= <A> a |(0,5)\n",
      "<start>:= <A> |(0,5) \n",
      "\n",
      "a chart[6]\n",
      "<A>:= <A> a |(0,6)\n",
      "<start>:= <A> |(0,6) \n",
      "\n"
     ]
    }
   ],
   "source": [
    "result = LeoParser(LR_GRAMMAR, log=True).parse(mystring)\n",
    "for _ in result: pass"
   ]
  },
  {
   "cell_type": "markdown",
   "metadata": {
    "slideshow": {
     "slide_type": "skip"
    },
    "solution2": "hidden",
    "solution2_first": true
   },
   "source": [
    "__Advanced:__ We have fixed the complexity bounds. However, because we are saving only the topmost item of a right recursion, we need to fix our parser to be aware of our fix while extracting parse trees. Can you fix it?\n",
    "\n",
    "__Hint:__ Leo suggests simply transforming the Leo item sets to normal Earley sets, with the results from deterministic reduction expanded to their originals. For that, keep in mind the picture of constraint chain we drew earlier."
   ]
  },
  {
   "cell_type": "markdown",
   "metadata": {
    "slideshow": {
     "slide_type": "skip"
    },
    "solution2": "hidden",
    "solution2_first": true
   },
   "source": [
    "**Solution.** Here is a possible solution."
   ]
  },
  {
   "attachments": {},
   "cell_type": "markdown",
   "metadata": {
    "slideshow": {
     "slide_type": "skip"
    },
    "solution2": "hidden"
   },
   "source": [
    "We first change the definition of `add_transitive()`, so that results of deterministic reduction can be identified later."
   ]
  },
  {
   "cell_type": "code",
   "execution_count": 203,
   "metadata": {
    "execution": {
     "iopub.execute_input": "2023-01-07T14:16:21.518866Z",
     "iopub.status.busy": "2023-01-07T14:16:21.517973Z",
     "iopub.status.idle": "2023-01-07T14:16:21.519985Z",
     "shell.execute_reply": "2023-01-07T14:16:21.520207Z"
    },
    "slideshow": {
     "slide_type": "skip"
    },
    "solution2": "hidden"
   },
   "outputs": [],
   "source": [
    "class Column(Column):\n",
    "    def add_transitive(self, key, state):\n",
    "        assert key not in self.transitives\n",
    "        self.transitives[key] = TState(state.name, state.expr, state.dot,\n",
    "                                       state.s_col, state.e_col)\n",
    "        return self.transitives[key]"
   ]
  },
  {
   "cell_type": "markdown",
   "metadata": {
    "slideshow": {
     "slide_type": "skip"
    },
    "solution2": "hidden"
   },
   "source": [
    "We also need a `back()` method to create the constraints."
   ]
  },
  {
   "cell_type": "code",
   "execution_count": 204,
   "metadata": {
    "execution": {
     "iopub.execute_input": "2023-01-07T14:16:21.522291Z",
     "iopub.status.busy": "2023-01-07T14:16:21.521958Z",
     "iopub.status.idle": "2023-01-07T14:16:21.523127Z",
     "shell.execute_reply": "2023-01-07T14:16:21.523300Z"
    },
    "slideshow": {
     "slide_type": "skip"
    },
    "solution2": "hidden"
   },
   "outputs": [],
   "source": [
    "class State(State):\n",
    "    def back(self):\n",
    "        return TState(self.name, self.expr, self.dot - 1, self.s_col, self.e_col)"
   ]
  },
  {
   "cell_type": "markdown",
   "metadata": {
    "slideshow": {
     "slide_type": "skip"
    },
    "solution2": "hidden"
   },
   "source": [
    "We update `copy()` to make `TState` items instead."
   ]
  },
  {
   "cell_type": "code",
   "execution_count": 205,
   "metadata": {
    "execution": {
     "iopub.execute_input": "2023-01-07T14:16:21.525092Z",
     "iopub.status.busy": "2023-01-07T14:16:21.524805Z",
     "iopub.status.idle": "2023-01-07T14:16:21.526356Z",
     "shell.execute_reply": "2023-01-07T14:16:21.526122Z"
    },
    "slideshow": {
     "slide_type": "skip"
    },
    "solution2": "hidden"
   },
   "outputs": [],
   "source": [
    "class TState(State):\n",
    "    def copy(self):\n",
    "        return TState(self.name, self.expr, self.dot, self.s_col, self.e_col)"
   ]
  },
  {
   "cell_type": "markdown",
   "metadata": {
    "slideshow": {
     "slide_type": "skip"
    },
    "solution2": "hidden"
   },
   "source": [
    "We now modify the `LeoParser` to keep track of the chain of constrains that we mentioned earlier."
   ]
  },
  {
   "cell_type": "code",
   "execution_count": 206,
   "metadata": {
    "execution": {
     "iopub.execute_input": "2023-01-07T14:16:21.528194Z",
     "iopub.status.busy": "2023-01-07T14:16:21.527914Z",
     "iopub.status.idle": "2023-01-07T14:16:21.529222Z",
     "shell.execute_reply": "2023-01-07T14:16:21.529410Z"
    },
    "slideshow": {
     "slide_type": "skip"
    },
    "solution2": "hidden"
   },
   "outputs": [],
   "source": [
    "class LeoParser(LeoParser):\n",
    "    def __init__(self, grammar, **kwargs):\n",
    "        super().__init__(grammar, **kwargs)\n",
    "        self._postdots = {}"
   ]
  },
  {
   "cell_type": "markdown",
   "metadata": {
    "slideshow": {
     "slide_type": "skip"
    },
    "solution2": "hidden"
   },
   "source": [
    "Next, we update the `uniq_postdot()` so that it tracks the chain of links."
   ]
  },
  {
   "cell_type": "code",
   "execution_count": 207,
   "metadata": {
    "execution": {
     "iopub.execute_input": "2023-01-07T14:16:21.530793Z",
     "iopub.status.busy": "2023-01-07T14:16:21.530491Z",
     "iopub.status.idle": "2023-01-07T14:16:21.532944Z",
     "shell.execute_reply": "2023-01-07T14:16:21.533134Z"
    },
    "slideshow": {
     "slide_type": "skip"
    },
    "solution2": "hidden"
   },
   "outputs": [],
   "source": [
    "class LeoParser(LeoParser):\n",
    "    def uniq_postdot(self, st_A):\n",
    "        col_s1 = st_A.s_col\n",
    "        parent_states = [\n",
    "            s for s in col_s1.states if s.expr and s.at_dot() == st_A.name\n",
    "        ]\n",
    "        if len(parent_states) > 1:\n",
    "            return None\n",
    "        matching_st_B = [s for s in parent_states if s.dot == len(s.expr) - 1]\n",
    "        if matching_st_B:\n",
    "            self._postdots[matching_st_B[0]._t()] = st_A\n",
    "            return matching_st_B[0]\n",
    "        return None\n",
    "      "
   ]
  },
  {
   "cell_type": "markdown",
   "metadata": {
    "slideshow": {
     "slide_type": "skip"
    },
    "solution2": "hidden"
   },
   "source": [
    "We next define a method `expand_tstate()` that, when given a `TState`, generates all the intermediate links that we threw away earlier for a given end column."
   ]
  },
  {
   "cell_type": "code",
   "execution_count": 208,
   "metadata": {
    "execution": {
     "iopub.execute_input": "2023-01-07T14:16:21.535215Z",
     "iopub.status.busy": "2023-01-07T14:16:21.534914Z",
     "iopub.status.idle": "2023-01-07T14:16:21.536185Z",
     "shell.execute_reply": "2023-01-07T14:16:21.536372Z"
    },
    "slideshow": {
     "slide_type": "skip"
    },
    "solution2": "hidden"
   },
   "outputs": [],
   "source": [
    "class LeoParser(LeoParser):\n",
    "    def expand_tstate(self, state, e):\n",
    "        if state._t() not in self._postdots:\n",
    "            return\n",
    "        c_C = self._postdots[state._t()]\n",
    "        e.add(c_C.advance())\n",
    "        self.expand_tstate(c_C.back(), e)"
   ]
  },
  {
   "cell_type": "markdown",
   "metadata": {
    "slideshow": {
     "slide_type": "fragment"
    },
    "solution2": "hidden"
   },
   "source": [
    "We define a `rearrange()` method to generate a reversed table where each column contains states that start at that column."
   ]
  },
  {
   "cell_type": "code",
   "execution_count": 209,
   "metadata": {
    "code_folding": [],
    "execution": {
     "iopub.execute_input": "2023-01-07T14:16:21.538513Z",
     "iopub.status.busy": "2023-01-07T14:16:21.538219Z",
     "iopub.status.idle": "2023-01-07T14:16:21.539424Z",
     "shell.execute_reply": "2023-01-07T14:16:21.539612Z"
    },
    "slideshow": {
     "slide_type": "subslide"
    },
    "solution2": "hidden"
   },
   "outputs": [],
   "source": [
    "class LeoParser(LeoParser):\n",
    "    def rearrange(self, table):\n",
    "        f_table = [Column(c.index, c.letter) for c in table]\n",
    "        for col in table:\n",
    "            for s in col.states:\n",
    "                f_table[s.s_col.index].states.append(s)\n",
    "        return f_table"
   ]
  },
  {
   "attachments": {},
   "cell_type": "markdown",
   "metadata": {
    "slideshow": {
     "slide_type": "skip"
    },
    "solution2": "hidden"
   },
   "source": [
    "Here is the rearranged table. (Can you explain why the Column 0 has numerous `<start>` items?)"
   ]
  },
  {
   "cell_type": "code",
   "execution_count": 210,
   "metadata": {
    "execution": {
     "iopub.execute_input": "2023-01-07T14:16:21.541830Z",
     "iopub.status.busy": "2023-01-07T14:16:21.541511Z",
     "iopub.status.idle": "2023-01-07T14:16:21.542851Z",
     "shell.execute_reply": "2023-01-07T14:16:21.543046Z"
    },
    "slideshow": {
     "slide_type": "skip"
    },
    "solution2": "hidden"
   },
   "outputs": [
    {
     "name": "stdout",
     "output_type": "stream",
     "text": [
      "None chart[0]\n",
      "<A>:= |(0,0)\n",
      "<start>:= <A> |(0,0)\n",
      "<A>:= a <A> |(0,1)\n",
      "<start>:= <A> |(0,1)\n",
      "<start>:= <A> |(0,2)\n",
      "<start>:= <A> |(0,3)\n",
      "<start>:= <A> |(0,4)\n",
      "<start>:= <A> |(0,5)\n",
      "<start>:= <A> |(0,6) \n",
      "\n",
      "a chart[1]\n",
      "<A>:= |(1,1)\n",
      "<A>:= a <A> |(1,2) \n",
      "\n",
      "a chart[2]\n",
      "<A>:= |(2,2)\n",
      "<A>:= a <A> |(2,3) \n",
      "\n",
      "a chart[3]\n",
      "<A>:= |(3,3)\n",
      "<A>:= a <A> |(3,4) \n",
      "\n",
      "a chart[4]\n",
      "<A>:= |(4,4)\n",
      "<A>:= a <A> |(4,5) \n",
      "\n",
      "a chart[5]\n",
      "<A>:= |(5,5)\n",
      "<A>:= a <A> |(5,6) \n",
      "\n",
      "a chart[6]\n",
      "<A>:= |(6,6) \n",
      "\n"
     ]
    }
   ],
   "source": [
    "ep = LeoParser(RR_GRAMMAR)\n",
    "columns = ep.chart_parse(mystring, ep.start_symbol())\n",
    "r_table = ep.rearrange(columns)\n",
    "for col in r_table:\n",
    "    print(col, \"\\n\")"
   ]
  },
  {
   "cell_type": "markdown",
   "metadata": {
    "slideshow": {
     "slide_type": "skip"
    },
    "solution2": "hidden"
   },
   "source": [
    "We save the result of rearrange before going into `parse_forest()`."
   ]
  },
  {
   "cell_type": "code",
   "execution_count": 211,
   "metadata": {
    "execution": {
     "iopub.execute_input": "2023-01-07T14:16:21.545494Z",
     "iopub.status.busy": "2023-01-07T14:16:21.544109Z",
     "iopub.status.idle": "2023-01-07T14:16:21.546653Z",
     "shell.execute_reply": "2023-01-07T14:16:21.546846Z"
    },
    "slideshow": {
     "slide_type": "subslide"
    },
    "solution2": "hidden"
   },
   "outputs": [],
   "source": [
    "class LeoParser(LeoParser):\n",
    "    def parse(self, text):\n",
    "        cursor, states = self.parse_prefix(text)\n",
    "        start = next((s for s in states if s.finished()), None)\n",
    "        if cursor < len(text) or not start:\n",
    "            raise SyntaxError(\"at \" + repr(text[cursor:]))\n",
    "\n",
    "        self.r_table = self.rearrange(self.table)\n",
    "        forest = self.extract_trees(self.parse_forest(self.table, start))\n",
    "        for tree in forest:\n",
    "            yield self.prune_tree(tree)"
   ]
  },
  {
   "cell_type": "markdown",
   "metadata": {
    "slideshow": {
     "slide_type": "skip"
    },
    "solution2": "hidden"
   },
   "source": [
    "Finally, during `parse_forest()`, we first check to see if it is a transitive state, and if it is, expand it to the original sequence of states using `traverse_constraints()`."
   ]
  },
  {
   "cell_type": "code",
   "execution_count": 212,
   "metadata": {
    "execution": {
     "iopub.execute_input": "2023-01-07T14:16:21.548927Z",
     "iopub.status.busy": "2023-01-07T14:16:21.548640Z",
     "iopub.status.idle": "2023-01-07T14:16:21.550152Z",
     "shell.execute_reply": "2023-01-07T14:16:21.549904Z"
    },
    "slideshow": {
     "slide_type": "subslide"
    },
    "solution2": "hidden"
   },
   "outputs": [],
   "source": [
    "class LeoParser(LeoParser):\n",
    "    def parse_forest(self, chart, state):\n",
    "        if isinstance(state, TState):\n",
    "            self.expand_tstate(state.back(), state.e_col)\n",
    "        \n",
    "        return super().parse_forest(chart, state)"
   ]
  },
  {
   "cell_type": "markdown",
   "metadata": {
    "slideshow": {
     "slide_type": "skip"
    },
    "solution2": "hidden"
   },
   "source": [
    "This completes our implementation of `LeoParser`."
   ]
  },
  {
   "cell_type": "markdown",
   "metadata": {
    "slideshow": {
     "slide_type": "skip"
    },
    "solution2": "hidden"
   },
   "source": [
    "We check whether the previously defined right recursive grammars parse and return the correct parse trees."
   ]
  },
  {
   "cell_type": "code",
   "execution_count": 213,
   "metadata": {
    "execution": {
     "iopub.execute_input": "2023-01-07T14:16:21.552489Z",
     "iopub.status.busy": "2023-01-07T14:16:21.552182Z",
     "iopub.status.idle": "2023-01-07T14:16:21.553515Z",
     "shell.execute_reply": "2023-01-07T14:16:21.553706Z"
    },
    "slideshow": {
     "slide_type": "skip"
    },
    "solution2": "hidden"
   },
   "outputs": [],
   "source": [
    "result = LeoParser(RR_GRAMMAR).parse(mystring)\n",
    "for tree in result:\n",
    "    assert mystring == tree_to_string(tree)"
   ]
  },
  {
   "cell_type": "code",
   "execution_count": 214,
   "metadata": {
    "execution": {
     "iopub.execute_input": "2023-01-07T14:16:21.556188Z",
     "iopub.status.busy": "2023-01-07T14:16:21.555862Z",
     "iopub.status.idle": "2023-01-07T14:16:21.557078Z",
     "shell.execute_reply": "2023-01-07T14:16:21.557283Z"
    },
    "slideshow": {
     "slide_type": "skip"
    },
    "solution2": "hidden"
   },
   "outputs": [],
   "source": [
    "result = LeoParser(RR_GRAMMAR2).parse(mystring2)\n",
    "for tree in result:\n",
    "    assert mystring2 == tree_to_string(tree)"
   ]
  },
  {
   "cell_type": "code",
   "execution_count": 215,
   "metadata": {
    "execution": {
     "iopub.execute_input": "2023-01-07T14:16:21.559631Z",
     "iopub.status.busy": "2023-01-07T14:16:21.559298Z",
     "iopub.status.idle": "2023-01-07T14:16:21.560464Z",
     "shell.execute_reply": "2023-01-07T14:16:21.560652Z"
    },
    "slideshow": {
     "slide_type": "skip"
    },
    "solution2": "hidden"
   },
   "outputs": [],
   "source": [
    "result = LeoParser(RR_GRAMMAR3).parse(mystring3)\n",
    "for tree in result:\n",
    "    assert mystring3 == tree_to_string(tree)"
   ]
  },
  {
   "cell_type": "code",
   "execution_count": 216,
   "metadata": {
    "execution": {
     "iopub.execute_input": "2023-01-07T14:16:21.562735Z",
     "iopub.status.busy": "2023-01-07T14:16:21.562451Z",
     "iopub.status.idle": "2023-01-07T14:16:21.563757Z",
     "shell.execute_reply": "2023-01-07T14:16:21.563980Z"
    },
    "slideshow": {
     "slide_type": "skip"
    },
    "solution2": "hidden"
   },
   "outputs": [],
   "source": [
    "result = LeoParser(RR_GRAMMAR4).parse(mystring4)\n",
    "for tree in result:\n",
    "    assert mystring4 == tree_to_string(tree)"
   ]
  },
  {
   "cell_type": "code",
   "execution_count": 217,
   "metadata": {
    "execution": {
     "iopub.execute_input": "2023-01-07T14:16:21.566397Z",
     "iopub.status.busy": "2023-01-07T14:16:21.566092Z",
     "iopub.status.idle": "2023-01-07T14:16:21.567363Z",
     "shell.execute_reply": "2023-01-07T14:16:21.567568Z"
    },
    "slideshow": {
     "slide_type": "skip"
    },
    "solution2": "hidden"
   },
   "outputs": [],
   "source": [
    "result = LeoParser(RR_GRAMMAR5).parse(mystring5)\n",
    "for tree in result:\n",
    "    assert mystring5 == tree_to_string(tree)"
   ]
  },
  {
   "cell_type": "code",
   "execution_count": 218,
   "metadata": {
    "execution": {
     "iopub.execute_input": "2023-01-07T14:16:21.570151Z",
     "iopub.status.busy": "2023-01-07T14:16:21.569634Z",
     "iopub.status.idle": "2023-01-07T14:16:21.571388Z",
     "shell.execute_reply": "2023-01-07T14:16:21.571579Z"
    },
    "slideshow": {
     "slide_type": "skip"
    },
    "solution2": "hidden"
   },
   "outputs": [],
   "source": [
    "result = LeoParser(RR_GRAMMAR6).parse(mystring6)\n",
    "for tree in result:\n",
    "    assert mystring6 == tree_to_string(tree)"
   ]
  },
  {
   "cell_type": "code",
   "execution_count": 219,
   "metadata": {
    "execution": {
     "iopub.execute_input": "2023-01-07T14:16:21.573951Z",
     "iopub.status.busy": "2023-01-07T14:16:21.573590Z",
     "iopub.status.idle": "2023-01-07T14:16:21.574903Z",
     "shell.execute_reply": "2023-01-07T14:16:21.575139Z"
    },
    "slideshow": {
     "slide_type": "skip"
    },
    "solution2": "hidden"
   },
   "outputs": [],
   "source": [
    "result = LeoParser(RR_GRAMMAR7).parse(mystring7)\n",
    "for tree in result:\n",
    "    assert mystring7 == tree_to_string(tree)"
   ]
  },
  {
   "cell_type": "code",
   "execution_count": 220,
   "metadata": {
    "execution": {
     "iopub.execute_input": "2023-01-07T14:16:21.577196Z",
     "iopub.status.busy": "2023-01-07T14:16:21.576906Z",
     "iopub.status.idle": "2023-01-07T14:16:21.578281Z",
     "shell.execute_reply": "2023-01-07T14:16:21.578451Z"
    },
    "slideshow": {
     "slide_type": "skip"
    },
    "solution2": "hidden"
   },
   "outputs": [],
   "source": [
    "result = LeoParser(LR_GRAMMAR).parse(mystring)\n",
    "for tree in result:\n",
    "    assert mystring == tree_to_string(tree)"
   ]
  },
  {
   "cell_type": "code",
   "execution_count": 221,
   "metadata": {
    "execution": {
     "iopub.execute_input": "2023-01-07T14:16:21.580324Z",
     "iopub.status.busy": "2023-01-07T14:16:21.580051Z",
     "iopub.status.idle": "2023-01-07T14:16:21.581330Z",
     "shell.execute_reply": "2023-01-07T14:16:21.581514Z"
    },
    "slideshow": {
     "slide_type": "skip"
    },
    "solution2": "hidden"
   },
   "outputs": [],
   "source": [
    "RR_GRAMMAR8 = {\n",
    "   '<start>': ['<A>'],\n",
    "   '<A>': ['a<A>', 'a']\n",
    "}\n",
    "mystring8 = 'aa'"
   ]
  },
  {
   "cell_type": "code",
   "execution_count": 222,
   "metadata": {
    "execution": {
     "iopub.execute_input": "2023-01-07T14:16:21.583168Z",
     "iopub.status.busy": "2023-01-07T14:16:21.582869Z",
     "iopub.status.idle": "2023-01-07T14:16:21.584203Z",
     "shell.execute_reply": "2023-01-07T14:16:21.584383Z"
    },
    "slideshow": {
     "slide_type": "skip"
    },
    "solution2": "hidden"
   },
   "outputs": [],
   "source": [
    "RR_GRAMMAR9 = {\n",
    "   '<start>': ['<A>'],\n",
    "   '<A>': ['<B><A>', '<B>'],\n",
    "   '<B>': ['b']\n",
    "}\n",
    "mystring9 = 'bbbbbbb'"
   ]
  },
  {
   "cell_type": "code",
   "execution_count": 223,
   "metadata": {
    "execution": {
     "iopub.execute_input": "2023-01-07T14:16:21.586380Z",
     "iopub.status.busy": "2023-01-07T14:16:21.586062Z",
     "iopub.status.idle": "2023-01-07T14:16:21.587602Z",
     "shell.execute_reply": "2023-01-07T14:16:21.588033Z"
    },
    "slideshow": {
     "slide_type": "skip"
    },
    "solution2": "hidden"
   },
   "outputs": [
    {
     "name": "stdout",
     "output_type": "stream",
     "text": [
      "'aa'\n",
      "'aa'\n"
     ]
    }
   ],
   "source": [
    "result = LeoParser(RR_GRAMMAR8).parse(mystring8)\n",
    "for tree in result:\n",
    "    print(repr(tree_to_string(tree)))\n",
    "    assert mystring8 == tree_to_string(tree)"
   ]
  },
  {
   "cell_type": "code",
   "execution_count": 224,
   "metadata": {
    "execution": {
     "iopub.execute_input": "2023-01-07T14:16:21.590638Z",
     "iopub.status.busy": "2023-01-07T14:16:21.590333Z",
     "iopub.status.idle": "2023-01-07T14:16:21.591482Z",
     "shell.execute_reply": "2023-01-07T14:16:21.591787Z"
    },
    "slideshow": {
     "slide_type": "skip"
    },
    "solution2": "hidden"
   },
   "outputs": [
    {
     "name": "stdout",
     "output_type": "stream",
     "text": [
      "'bbbbbbb'\n",
      "'bbbbbbb'\n"
     ]
    }
   ],
   "source": [
    "result = LeoParser(RR_GRAMMAR9).parse(mystring9)\n",
    "for tree in result:\n",
    "    print(repr(tree_to_string(tree)))\n",
    "    assert mystring9 == tree_to_string(tree)"
   ]
  },
  {
   "cell_type": "markdown",
   "metadata": {
    "slideshow": {
     "slide_type": "subslide"
    }
   },
   "source": [
    "### Exercise 6: Filtered Earley Parser"
   ]
  },
  {
   "cell_type": "markdown",
   "metadata": {
    "slideshow": {
     "slide_type": "fragment"
    }
   },
   "source": [
    "One of the problems with our Earley and Leo Parsers is that it can get stuck in infinite loops when parsing with grammars that contain token repetitions in alternatives. For example, consider the grammar below."
   ]
  },
  {
   "cell_type": "code",
   "execution_count": 225,
   "metadata": {
    "execution": {
     "iopub.execute_input": "2023-01-07T14:16:21.593749Z",
     "iopub.status.busy": "2023-01-07T14:16:21.593429Z",
     "iopub.status.idle": "2023-01-07T14:16:21.594703Z",
     "shell.execute_reply": "2023-01-07T14:16:21.594960Z"
    },
    "slideshow": {
     "slide_type": "fragment"
    }
   },
   "outputs": [],
   "source": [
    "RECURSION_GRAMMAR: Grammar = {\n",
    "    \"<start>\": [\"<A>\"],\n",
    "    \"<A>\": [\"<A>\", \"<A>aa\", \"AA\", \"<B>\"],\n",
    "    \"<B>\": [\"<C>\", \"<C>cc\", \"CC\"],\n",
    "    \"<C>\": [\"<B>\", \"<B>bb\", \"BB\"]\n",
    "}"
   ]
  },
  {
   "cell_type": "markdown",
   "metadata": {
    "slideshow": {
     "slide_type": "subslide"
    }
   },
   "source": [
    "With this grammar, one can produce an infinite chain of derivations of `<A>`, (direct recursion) or an infinite chain of derivations of `<B> -> <C> -> <B> ...` (indirect recursion). The problem is that, our implementation can get stuck trying to derive one of these infinite chains. One possibility is to use the `LazyExtractor`. Another, is to simply avoid generating such chains."
   ]
  },
  {
   "cell_type": "code",
   "execution_count": 226,
   "metadata": {
    "execution": {
     "iopub.execute_input": "2023-01-07T14:16:21.596792Z",
     "iopub.status.busy": "2023-01-07T14:16:21.596453Z",
     "iopub.status.idle": "2023-01-07T14:16:21.597639Z",
     "shell.execute_reply": "2023-01-07T14:16:21.597842Z"
    },
    "slideshow": {
     "slide_type": "skip"
    }
   },
   "outputs": [],
   "source": [
    "from ExpectError import ExpectTimeout"
   ]
  },
  {
   "cell_type": "code",
   "execution_count": 227,
   "metadata": {
    "execution": {
     "iopub.execute_input": "2023-01-07T14:16:21.614030Z",
     "iopub.status.busy": "2023-01-07T14:16:21.613525Z",
     "iopub.status.idle": "2023-01-07T14:16:21.615366Z",
     "shell.execute_reply": "2023-01-07T14:16:21.615640Z"
    },
    "slideshow": {
     "slide_type": "fragment"
    }
   },
   "outputs": [
    {
     "name": "stderr",
     "output_type": "stream",
     "text": [
      "RecursionError: maximum recursion depth exceeded (expected)\n"
     ]
    }
   ],
   "source": [
    "with ExpectTimeout(1, print_traceback=False):\n",
    "    mystring = 'AA'\n",
    "    parser = LeoParser(RECURSION_GRAMMAR)\n",
    "    tree, *_ = parser.parse(mystring)\n",
    "    assert tree_to_string(tree) == mystring\n",
    "    display_tree(tree)"
   ]
  },
  {
   "cell_type": "markdown",
   "metadata": {
    "slideshow": {
     "slide_type": "subslide"
    },
    "solution2": "hidden",
    "solution2_first": true
   },
   "source": [
    "Can you implement a solution such that any tree that contains such a chain is discarded?"
   ]
  },
  {
   "cell_type": "markdown",
   "metadata": {
    "slideshow": {
     "slide_type": "skip"
    },
    "solution2": "hidden",
    "solution2_first": true
   },
   "source": [
    "**Solution.** Here is a possible solution."
   ]
  },
  {
   "cell_type": "code",
   "execution_count": 228,
   "metadata": {
    "execution": {
     "iopub.execute_input": "2023-01-07T14:16:21.618992Z",
     "iopub.status.busy": "2023-01-07T14:16:21.616746Z",
     "iopub.status.idle": "2023-01-07T14:16:21.620259Z",
     "shell.execute_reply": "2023-01-07T14:16:21.620450Z"
    },
    "slideshow": {
     "slide_type": "skip"
    },
    "solution2": "hidden"
   },
   "outputs": [],
   "source": [
    "class FilteredLeoParser(LeoParser):\n",
    "    def forest(self, s, kind, seen, chart):\n",
    "        return self.parse_forest(chart, s, seen) if kind == 'n' else (s, [])\n",
    "\n",
    "    def parse_forest(self, chart, state, seen=None):\n",
    "        if isinstance(state, TState):\n",
    "            self.expand_tstate(state.back(), state.e_col)\n",
    "\n",
    "        def was_seen(chain, s):\n",
    "            if isinstance(s, str):\n",
    "                return False\n",
    "            if len(s.expr) > 1:\n",
    "                return False\n",
    "            return s in chain\n",
    "\n",
    "        if len(state.expr) > 1:  # things get reset if we have a non loop\n",
    "            seen = set()\n",
    "        elif seen is None:  # initialization\n",
    "            seen = {state}\n",
    "\n",
    "        pathexprs = self.parse_paths(state.expr, chart, state.s_col.index,\n",
    "                                     state.e_col.index) if state.expr else []\n",
    "        return state.name, [[(s, k, seen | {s}, chart)\n",
    "                             for s, k in reversed(pathexpr)\n",
    "                             if not was_seen(seen, s)] for pathexpr in pathexprs]"
   ]
  },
  {
   "cell_type": "markdown",
   "metadata": {
    "slideshow": {
     "slide_type": "skip"
    },
    "solution2": "hidden"
   },
   "source": [
    "With the `FilteredLeoParser`, we should be able to recover minimal parse trees in reasonable time."
   ]
  },
  {
   "cell_type": "code",
   "execution_count": 229,
   "metadata": {
    "execution": {
     "iopub.execute_input": "2023-01-07T14:16:21.622906Z",
     "iopub.status.busy": "2023-01-07T14:16:21.622595Z",
     "iopub.status.idle": "2023-01-07T14:16:21.867457Z",
     "shell.execute_reply": "2023-01-07T14:16:21.867779Z"
    },
    "slideshow": {
     "slide_type": "skip"
    },
    "solution2": "hidden"
   },
   "outputs": [
    {
     "data": {
      "image/svg+xml": [
       "<?xml version=\"1.0\" encoding=\"UTF-8\" standalone=\"no\"?>\n",
       "<!DOCTYPE svg PUBLIC \"-//W3C//DTD SVG 1.1//EN\"\n",
       " \"http://www.w3.org/Graphics/SVG/1.1/DTD/svg11.dtd\">\n",
       "<!-- Generated by graphviz version 7.0.2 (20221119.0110)\n",
       " -->\n",
       "<!-- Pages: 1 -->\n",
       "<svg width=\"48pt\" height=\"125pt\"\n",
       " viewBox=\"0.00 0.00 48.00 125.00\" xmlns=\"http://www.w3.org/2000/svg\" xmlns:xlink=\"http://www.w3.org/1999/xlink\">\n",
       "<g id=\"graph0\" class=\"graph\" transform=\"scale(1 1) rotate(0) translate(4 121)\">\n",
       "<polygon fill=\"white\" stroke=\"none\" points=\"-4,4 -4,-121 44,-121 44,4 -4,4\"/>\n",
       "<!-- 0 -->\n",
       "<g id=\"node1\" class=\"node\">\n",
       "<title>0</title>\n",
       "<text text-anchor=\"middle\" x=\"20\" y=\"-105.8\" font-family=\"Times,serif\" font-size=\"14.00\">&lt;start&gt;</text>\n",
       "</g>\n",
       "<!-- 1 -->\n",
       "<g id=\"node2\" class=\"node\">\n",
       "<title>1</title>\n",
       "<text text-anchor=\"middle\" x=\"20\" y=\"-54.8\" font-family=\"Times,serif\" font-size=\"14.00\">&lt;A&gt;</text>\n",
       "</g>\n",
       "<!-- 0&#45;&gt;1 -->\n",
       "<g id=\"edge1\" class=\"edge\">\n",
       "<title>0&#45;&gt;1</title>\n",
       "<path fill=\"none\" stroke=\"black\" d=\"M20,-102.09C20,-95.75 20,-85.75 20,-77.03\"/>\n",
       "<polygon fill=\"black\" stroke=\"black\" points=\"23.5,-77.27 20,-67.27 16.5,-77.27 23.5,-77.27\"/>\n",
       "</g>\n",
       "<!-- 2 -->\n",
       "<g id=\"node3\" class=\"node\">\n",
       "<title>2</title>\n",
       "<text text-anchor=\"middle\" x=\"20\" y=\"-3.8\" font-family=\"Times,serif\" font-size=\"14.00\">AA</text>\n",
       "</g>\n",
       "<!-- 1&#45;&gt;2 -->\n",
       "<g id=\"edge2\" class=\"edge\">\n",
       "<title>1&#45;&gt;2</title>\n",
       "<path fill=\"none\" stroke=\"black\" d=\"M20,-51.09C20,-44.75 20,-34.75 20,-26.03\"/>\n",
       "<polygon fill=\"black\" stroke=\"black\" points=\"23.5,-26.27 20,-16.27 16.5,-26.27 23.5,-26.27\"/>\n",
       "</g>\n",
       "</g>\n",
       "</svg>\n"
      ],
      "text/plain": [
       "<graphviz.graphs.Digraph at 0x1075aafe0>"
      ]
     },
     "execution_count": 229,
     "metadata": {},
     "output_type": "execute_result"
    }
   ],
   "source": [
    "mystring = 'AA'\n",
    "parser = FilteredLeoParser(RECURSION_GRAMMAR)\n",
    "tree, *_ = parser.parse(mystring)\n",
    "assert tree_to_string(tree) == mystring\n",
    "display_tree(tree)"
   ]
  },
  {
   "cell_type": "code",
   "execution_count": 230,
   "metadata": {
    "execution": {
     "iopub.execute_input": "2023-01-07T14:16:21.873350Z",
     "iopub.status.busy": "2023-01-07T14:16:21.873015Z",
     "iopub.status.idle": "2023-01-07T14:16:22.146216Z",
     "shell.execute_reply": "2023-01-07T14:16:22.146462Z"
    },
    "slideshow": {
     "slide_type": "skip"
    },
    "solution2": "hidden"
   },
   "outputs": [
    {
     "data": {
      "image/svg+xml": [
       "<?xml version=\"1.0\" encoding=\"UTF-8\" standalone=\"no\"?>\n",
       "<!DOCTYPE svg PUBLIC \"-//W3C//DTD SVG 1.1//EN\"\n",
       " \"http://www.w3.org/Graphics/SVG/1.1/DTD/svg11.dtd\">\n",
       "<!-- Generated by graphviz version 7.0.2 (20221119.0110)\n",
       " -->\n",
       "<!-- Pages: 1 -->\n",
       "<svg width=\"66pt\" height=\"176pt\"\n",
       " viewBox=\"0.00 0.00 66.00 176.00\" xmlns=\"http://www.w3.org/2000/svg\" xmlns:xlink=\"http://www.w3.org/1999/xlink\">\n",
       "<g id=\"graph0\" class=\"graph\" transform=\"scale(1 1) rotate(0) translate(4 172)\">\n",
       "<polygon fill=\"white\" stroke=\"none\" points=\"-4,4 -4,-172 62,-172 62,4 -4,4\"/>\n",
       "<!-- 0 -->\n",
       "<g id=\"node1\" class=\"node\">\n",
       "<title>0</title>\n",
       "<text text-anchor=\"middle\" x=\"32.5\" y=\"-156.8\" font-family=\"Times,serif\" font-size=\"14.00\">&lt;start&gt;</text>\n",
       "</g>\n",
       "<!-- 1 -->\n",
       "<g id=\"node2\" class=\"node\">\n",
       "<title>1</title>\n",
       "<text text-anchor=\"middle\" x=\"32.5\" y=\"-105.8\" font-family=\"Times,serif\" font-size=\"14.00\">&lt;A&gt;</text>\n",
       "</g>\n",
       "<!-- 0&#45;&gt;1 -->\n",
       "<g id=\"edge1\" class=\"edge\">\n",
       "<title>0&#45;&gt;1</title>\n",
       "<path fill=\"none\" stroke=\"black\" d=\"M32.5,-153.09C32.5,-146.75 32.5,-136.75 32.5,-128.03\"/>\n",
       "<polygon fill=\"black\" stroke=\"black\" points=\"36,-128.27 32.5,-118.27 29,-128.27 36,-128.27\"/>\n",
       "</g>\n",
       "<!-- 2 -->\n",
       "<g id=\"node3\" class=\"node\">\n",
       "<title>2</title>\n",
       "<text text-anchor=\"middle\" x=\"13.5\" y=\"-54.8\" font-family=\"Times,serif\" font-size=\"14.00\">&lt;A&gt;</text>\n",
       "</g>\n",
       "<!-- 1&#45;&gt;2 -->\n",
       "<g id=\"edge2\" class=\"edge\">\n",
       "<title>1&#45;&gt;2</title>\n",
       "<path fill=\"none\" stroke=\"black\" d=\"M30.02,-102.09C27.5,-95.6 23.5,-85.28 20.06,-76.42\"/>\n",
       "<polygon fill=\"black\" stroke=\"black\" points=\"23.35,-75.22 16.47,-67.16 16.82,-77.75 23.35,-75.22\"/>\n",
       "</g>\n",
       "<!-- 4 -->\n",
       "<g id=\"node5\" class=\"node\">\n",
       "<title>4</title>\n",
       "<text text-anchor=\"middle\" x=\"51.5\" y=\"-54.8\" font-family=\"Times,serif\" font-size=\"14.00\">aa</text>\n",
       "</g>\n",
       "<!-- 1&#45;&gt;4 -->\n",
       "<g id=\"edge4\" class=\"edge\">\n",
       "<title>1&#45;&gt;4</title>\n",
       "<path fill=\"none\" stroke=\"black\" d=\"M34.98,-102.09C37.5,-95.6 41.5,-85.28 44.94,-76.42\"/>\n",
       "<polygon fill=\"black\" stroke=\"black\" points=\"48.18,-77.75 48.53,-67.16 41.65,-75.22 48.18,-77.75\"/>\n",
       "</g>\n",
       "<!-- 3 -->\n",
       "<g id=\"node4\" class=\"node\">\n",
       "<title>3</title>\n",
       "<text text-anchor=\"middle\" x=\"13.5\" y=\"-3.8\" font-family=\"Times,serif\" font-size=\"14.00\">AA</text>\n",
       "</g>\n",
       "<!-- 2&#45;&gt;3 -->\n",
       "<g id=\"edge3\" class=\"edge\">\n",
       "<title>2&#45;&gt;3</title>\n",
       "<path fill=\"none\" stroke=\"black\" d=\"M13.5,-51.09C13.5,-44.75 13.5,-34.75 13.5,-26.03\"/>\n",
       "<polygon fill=\"black\" stroke=\"black\" points=\"17,-26.27 13.5,-16.27 10,-26.27 17,-26.27\"/>\n",
       "</g>\n",
       "</g>\n",
       "</svg>\n"
      ],
      "text/plain": [
       "<graphviz.graphs.Digraph at 0x1075a9030>"
      ]
     },
     "execution_count": 230,
     "metadata": {},
     "output_type": "execute_result"
    }
   ],
   "source": [
    "mystring = 'AAaa'\n",
    "parser = FilteredLeoParser(RECURSION_GRAMMAR)\n",
    "tree, *_ = parser.parse(mystring)\n",
    "assert tree_to_string(tree) == mystring\n",
    "display_tree(tree)"
   ]
  },
  {
   "cell_type": "code",
   "execution_count": 231,
   "metadata": {
    "execution": {
     "iopub.execute_input": "2023-01-07T14:16:22.152538Z",
     "iopub.status.busy": "2023-01-07T14:16:22.149914Z",
     "iopub.status.idle": "2023-01-07T14:16:22.400429Z",
     "shell.execute_reply": "2023-01-07T14:16:22.400779Z"
    },
    "slideshow": {
     "slide_type": "skip"
    },
    "solution2": "hidden"
   },
   "outputs": [
    {
     "data": {
      "image/svg+xml": [
       "<?xml version=\"1.0\" encoding=\"UTF-8\" standalone=\"no\"?>\n",
       "<!DOCTYPE svg PUBLIC \"-//W3C//DTD SVG 1.1//EN\"\n",
       " \"http://www.w3.org/Graphics/SVG/1.1/DTD/svg11.dtd\">\n",
       "<!-- Generated by graphviz version 7.0.2 (20221119.0110)\n",
       " -->\n",
       "<!-- Pages: 1 -->\n",
       "<svg width=\"85pt\" height=\"227pt\"\n",
       " viewBox=\"0.00 0.00 85.00 227.00\" xmlns=\"http://www.w3.org/2000/svg\" xmlns:xlink=\"http://www.w3.org/1999/xlink\">\n",
       "<g id=\"graph0\" class=\"graph\" transform=\"scale(1 1) rotate(0) translate(4 223)\">\n",
       "<polygon fill=\"white\" stroke=\"none\" points=\"-4,4 -4,-223 81,-223 81,4 -4,4\"/>\n",
       "<!-- 0 -->\n",
       "<g id=\"node1\" class=\"node\">\n",
       "<title>0</title>\n",
       "<text text-anchor=\"middle\" x=\"51.5\" y=\"-207.8\" font-family=\"Times,serif\" font-size=\"14.00\">&lt;start&gt;</text>\n",
       "</g>\n",
       "<!-- 1 -->\n",
       "<g id=\"node2\" class=\"node\">\n",
       "<title>1</title>\n",
       "<text text-anchor=\"middle\" x=\"51.5\" y=\"-156.8\" font-family=\"Times,serif\" font-size=\"14.00\">&lt;A&gt;</text>\n",
       "</g>\n",
       "<!-- 0&#45;&gt;1 -->\n",
       "<g id=\"edge1\" class=\"edge\">\n",
       "<title>0&#45;&gt;1</title>\n",
       "<path fill=\"none\" stroke=\"black\" d=\"M51.5,-204.09C51.5,-197.75 51.5,-187.75 51.5,-179.03\"/>\n",
       "<polygon fill=\"black\" stroke=\"black\" points=\"55,-179.27 51.5,-169.27 48,-179.27 55,-179.27\"/>\n",
       "</g>\n",
       "<!-- 2 -->\n",
       "<g id=\"node3\" class=\"node\">\n",
       "<title>2</title>\n",
       "<text text-anchor=\"middle\" x=\"32.5\" y=\"-105.8\" font-family=\"Times,serif\" font-size=\"14.00\">&lt;A&gt;</text>\n",
       "</g>\n",
       "<!-- 1&#45;&gt;2 -->\n",
       "<g id=\"edge2\" class=\"edge\">\n",
       "<title>1&#45;&gt;2</title>\n",
       "<path fill=\"none\" stroke=\"black\" d=\"M49.02,-153.09C46.5,-146.6 42.5,-136.28 39.06,-127.42\"/>\n",
       "<polygon fill=\"black\" stroke=\"black\" points=\"42.35,-126.22 35.47,-118.16 35.82,-128.75 42.35,-126.22\"/>\n",
       "</g>\n",
       "<!-- 6 -->\n",
       "<g id=\"node7\" class=\"node\">\n",
       "<title>6</title>\n",
       "<text text-anchor=\"middle\" x=\"70.5\" y=\"-105.8\" font-family=\"Times,serif\" font-size=\"14.00\">aa</text>\n",
       "</g>\n",
       "<!-- 1&#45;&gt;6 -->\n",
       "<g id=\"edge6\" class=\"edge\">\n",
       "<title>1&#45;&gt;6</title>\n",
       "<path fill=\"none\" stroke=\"black\" d=\"M53.98,-153.09C56.5,-146.6 60.5,-136.28 63.94,-127.42\"/>\n",
       "<polygon fill=\"black\" stroke=\"black\" points=\"67.18,-128.75 67.53,-118.16 60.65,-126.22 67.18,-128.75\"/>\n",
       "</g>\n",
       "<!-- 3 -->\n",
       "<g id=\"node4\" class=\"node\">\n",
       "<title>3</title>\n",
       "<text text-anchor=\"middle\" x=\"13.5\" y=\"-54.8\" font-family=\"Times,serif\" font-size=\"14.00\">&lt;A&gt;</text>\n",
       "</g>\n",
       "<!-- 2&#45;&gt;3 -->\n",
       "<g id=\"edge3\" class=\"edge\">\n",
       "<title>2&#45;&gt;3</title>\n",
       "<path fill=\"none\" stroke=\"black\" d=\"M30.02,-102.09C27.5,-95.6 23.5,-85.28 20.06,-76.42\"/>\n",
       "<polygon fill=\"black\" stroke=\"black\" points=\"23.35,-75.22 16.47,-67.16 16.82,-77.75 23.35,-75.22\"/>\n",
       "</g>\n",
       "<!-- 5 -->\n",
       "<g id=\"node6\" class=\"node\">\n",
       "<title>5</title>\n",
       "<text text-anchor=\"middle\" x=\"51.5\" y=\"-54.8\" font-family=\"Times,serif\" font-size=\"14.00\">aa</text>\n",
       "</g>\n",
       "<!-- 2&#45;&gt;5 -->\n",
       "<g id=\"edge5\" class=\"edge\">\n",
       "<title>2&#45;&gt;5</title>\n",
       "<path fill=\"none\" stroke=\"black\" d=\"M34.98,-102.09C37.5,-95.6 41.5,-85.28 44.94,-76.42\"/>\n",
       "<polygon fill=\"black\" stroke=\"black\" points=\"48.18,-77.75 48.53,-67.16 41.65,-75.22 48.18,-77.75\"/>\n",
       "</g>\n",
       "<!-- 4 -->\n",
       "<g id=\"node5\" class=\"node\">\n",
       "<title>4</title>\n",
       "<text text-anchor=\"middle\" x=\"13.5\" y=\"-3.8\" font-family=\"Times,serif\" font-size=\"14.00\">AA</text>\n",
       "</g>\n",
       "<!-- 3&#45;&gt;4 -->\n",
       "<g id=\"edge4\" class=\"edge\">\n",
       "<title>3&#45;&gt;4</title>\n",
       "<path fill=\"none\" stroke=\"black\" d=\"M13.5,-51.09C13.5,-44.75 13.5,-34.75 13.5,-26.03\"/>\n",
       "<polygon fill=\"black\" stroke=\"black\" points=\"17,-26.27 13.5,-16.27 10,-26.27 17,-26.27\"/>\n",
       "</g>\n",
       "</g>\n",
       "</svg>\n"
      ],
      "text/plain": [
       "<graphviz.graphs.Digraph at 0x10758f2b0>"
      ]
     },
     "execution_count": 231,
     "metadata": {},
     "output_type": "execute_result"
    }
   ],
   "source": [
    "mystring = 'AAaaaa'\n",
    "parser = FilteredLeoParser(RECURSION_GRAMMAR)\n",
    "tree, *_ = parser.parse(mystring)\n",
    "assert tree_to_string(tree) == mystring\n",
    "display_tree(tree)"
   ]
  },
  {
   "cell_type": "code",
   "execution_count": 232,
   "metadata": {
    "execution": {
     "iopub.execute_input": "2023-01-07T14:16:22.406415Z",
     "iopub.status.busy": "2023-01-07T14:16:22.405997Z",
     "iopub.status.idle": "2023-01-07T14:16:22.646931Z",
     "shell.execute_reply": "2023-01-07T14:16:22.647292Z"
    },
    "slideshow": {
     "slide_type": "skip"
    },
    "solution2": "hidden"
   },
   "outputs": [
    {
     "data": {
      "image/svg+xml": [
       "<?xml version=\"1.0\" encoding=\"UTF-8\" standalone=\"no\"?>\n",
       "<!DOCTYPE svg PUBLIC \"-//W3C//DTD SVG 1.1//EN\"\n",
       " \"http://www.w3.org/Graphics/SVG/1.1/DTD/svg11.dtd\">\n",
       "<!-- Generated by graphviz version 7.0.2 (20221119.0110)\n",
       " -->\n",
       "<!-- Pages: 1 -->\n",
       "<svg width=\"48pt\" height=\"176pt\"\n",
       " viewBox=\"0.00 0.00 48.00 176.00\" xmlns=\"http://www.w3.org/2000/svg\" xmlns:xlink=\"http://www.w3.org/1999/xlink\">\n",
       "<g id=\"graph0\" class=\"graph\" transform=\"scale(1 1) rotate(0) translate(4 172)\">\n",
       "<polygon fill=\"white\" stroke=\"none\" points=\"-4,4 -4,-172 44,-172 44,4 -4,4\"/>\n",
       "<!-- 0 -->\n",
       "<g id=\"node1\" class=\"node\">\n",
       "<title>0</title>\n",
       "<text text-anchor=\"middle\" x=\"20\" y=\"-156.8\" font-family=\"Times,serif\" font-size=\"14.00\">&lt;start&gt;</text>\n",
       "</g>\n",
       "<!-- 1 -->\n",
       "<g id=\"node2\" class=\"node\">\n",
       "<title>1</title>\n",
       "<text text-anchor=\"middle\" x=\"20\" y=\"-105.8\" font-family=\"Times,serif\" font-size=\"14.00\">&lt;A&gt;</text>\n",
       "</g>\n",
       "<!-- 0&#45;&gt;1 -->\n",
       "<g id=\"edge1\" class=\"edge\">\n",
       "<title>0&#45;&gt;1</title>\n",
       "<path fill=\"none\" stroke=\"black\" d=\"M20,-153.09C20,-146.75 20,-136.75 20,-128.03\"/>\n",
       "<polygon fill=\"black\" stroke=\"black\" points=\"23.5,-128.27 20,-118.27 16.5,-128.27 23.5,-128.27\"/>\n",
       "</g>\n",
       "<!-- 2 -->\n",
       "<g id=\"node3\" class=\"node\">\n",
       "<title>2</title>\n",
       "<text text-anchor=\"middle\" x=\"20\" y=\"-54.8\" font-family=\"Times,serif\" font-size=\"14.00\">&lt;B&gt;</text>\n",
       "</g>\n",
       "<!-- 1&#45;&gt;2 -->\n",
       "<g id=\"edge2\" class=\"edge\">\n",
       "<title>1&#45;&gt;2</title>\n",
       "<path fill=\"none\" stroke=\"black\" d=\"M20,-102.09C20,-95.75 20,-85.75 20,-77.03\"/>\n",
       "<polygon fill=\"black\" stroke=\"black\" points=\"23.5,-77.27 20,-67.27 16.5,-77.27 23.5,-77.27\"/>\n",
       "</g>\n",
       "<!-- 3 -->\n",
       "<g id=\"node4\" class=\"node\">\n",
       "<title>3</title>\n",
       "<text text-anchor=\"middle\" x=\"20\" y=\"-3.8\" font-family=\"Times,serif\" font-size=\"14.00\">CC</text>\n",
       "</g>\n",
       "<!-- 2&#45;&gt;3 -->\n",
       "<g id=\"edge3\" class=\"edge\">\n",
       "<title>2&#45;&gt;3</title>\n",
       "<path fill=\"none\" stroke=\"black\" d=\"M20,-51.09C20,-44.75 20,-34.75 20,-26.03\"/>\n",
       "<polygon fill=\"black\" stroke=\"black\" points=\"23.5,-26.27 20,-16.27 16.5,-26.27 23.5,-26.27\"/>\n",
       "</g>\n",
       "</g>\n",
       "</svg>\n"
      ],
      "text/plain": [
       "<graphviz.graphs.Digraph at 0x10758ffd0>"
      ]
     },
     "execution_count": 232,
     "metadata": {},
     "output_type": "execute_result"
    }
   ],
   "source": [
    "mystring = 'CC'\n",
    "parser = FilteredLeoParser(RECURSION_GRAMMAR)\n",
    "tree, *_ = parser.parse(mystring)\n",
    "assert tree_to_string(tree) == mystring\n",
    "display_tree(tree)"
   ]
  },
  {
   "cell_type": "code",
   "execution_count": 233,
   "metadata": {
    "execution": {
     "iopub.execute_input": "2023-01-07T14:16:22.652765Z",
     "iopub.status.busy": "2023-01-07T14:16:22.652297Z",
     "iopub.status.idle": "2023-01-07T14:16:22.892909Z",
     "shell.execute_reply": "2023-01-07T14:16:22.893160Z"
    },
    "slideshow": {
     "slide_type": "skip"
    },
    "solution2": "hidden"
   },
   "outputs": [
    {
     "data": {
      "image/svg+xml": [
       "<?xml version=\"1.0\" encoding=\"UTF-8\" standalone=\"no\"?>\n",
       "<!DOCTYPE svg PUBLIC \"-//W3C//DTD SVG 1.1//EN\"\n",
       " \"http://www.w3.org/Graphics/SVG/1.1/DTD/svg11.dtd\">\n",
       "<!-- Generated by graphviz version 7.0.2 (20221119.0110)\n",
       " -->\n",
       "<!-- Pages: 1 -->\n",
       "<svg width=\"66pt\" height=\"227pt\"\n",
       " viewBox=\"0.00 0.00 65.50 227.00\" xmlns=\"http://www.w3.org/2000/svg\" xmlns:xlink=\"http://www.w3.org/1999/xlink\">\n",
       "<g id=\"graph0\" class=\"graph\" transform=\"scale(1 1) rotate(0) translate(4 223)\">\n",
       "<polygon fill=\"white\" stroke=\"none\" points=\"-4,4 -4,-223 61.5,-223 61.5,4 -4,4\"/>\n",
       "<!-- 0 -->\n",
       "<g id=\"node1\" class=\"node\">\n",
       "<title>0</title>\n",
       "<text text-anchor=\"middle\" x=\"32\" y=\"-207.8\" font-family=\"Times,serif\" font-size=\"14.00\">&lt;start&gt;</text>\n",
       "</g>\n",
       "<!-- 1 -->\n",
       "<g id=\"node2\" class=\"node\">\n",
       "<title>1</title>\n",
       "<text text-anchor=\"middle\" x=\"32\" y=\"-156.8\" font-family=\"Times,serif\" font-size=\"14.00\">&lt;A&gt;</text>\n",
       "</g>\n",
       "<!-- 0&#45;&gt;1 -->\n",
       "<g id=\"edge1\" class=\"edge\">\n",
       "<title>0&#45;&gt;1</title>\n",
       "<path fill=\"none\" stroke=\"black\" d=\"M32,-204.09C32,-197.75 32,-187.75 32,-179.03\"/>\n",
       "<polygon fill=\"black\" stroke=\"black\" points=\"35.5,-179.27 32,-169.27 28.5,-179.27 35.5,-179.27\"/>\n",
       "</g>\n",
       "<!-- 2 -->\n",
       "<g id=\"node3\" class=\"node\">\n",
       "<title>2</title>\n",
       "<text text-anchor=\"middle\" x=\"32\" y=\"-105.8\" font-family=\"Times,serif\" font-size=\"14.00\">&lt;B&gt;</text>\n",
       "</g>\n",
       "<!-- 1&#45;&gt;2 -->\n",
       "<g id=\"edge2\" class=\"edge\">\n",
       "<title>1&#45;&gt;2</title>\n",
       "<path fill=\"none\" stroke=\"black\" d=\"M32,-153.09C32,-146.75 32,-136.75 32,-128.03\"/>\n",
       "<polygon fill=\"black\" stroke=\"black\" points=\"35.5,-128.27 32,-118.27 28.5,-128.27 35.5,-128.27\"/>\n",
       "</g>\n",
       "<!-- 3 -->\n",
       "<g id=\"node4\" class=\"node\">\n",
       "<title>3</title>\n",
       "<text text-anchor=\"middle\" x=\"13\" y=\"-54.8\" font-family=\"Times,serif\" font-size=\"14.00\">&lt;C&gt;</text>\n",
       "</g>\n",
       "<!-- 2&#45;&gt;3 -->\n",
       "<g id=\"edge3\" class=\"edge\">\n",
       "<title>2&#45;&gt;3</title>\n",
       "<path fill=\"none\" stroke=\"black\" d=\"M29.52,-102.09C27,-95.6 23,-85.28 19.56,-76.42\"/>\n",
       "<polygon fill=\"black\" stroke=\"black\" points=\"22.85,-75.22 15.97,-67.16 16.32,-77.75 22.85,-75.22\"/>\n",
       "</g>\n",
       "<!-- 5 -->\n",
       "<g id=\"node6\" class=\"node\">\n",
       "<title>5</title>\n",
       "<text text-anchor=\"middle\" x=\"51\" y=\"-54.8\" font-family=\"Times,serif\" font-size=\"14.00\">cc</text>\n",
       "</g>\n",
       "<!-- 2&#45;&gt;5 -->\n",
       "<g id=\"edge5\" class=\"edge\">\n",
       "<title>2&#45;&gt;5</title>\n",
       "<path fill=\"none\" stroke=\"black\" d=\"M34.48,-102.09C37,-95.6 41,-85.28 44.44,-76.42\"/>\n",
       "<polygon fill=\"black\" stroke=\"black\" points=\"47.68,-77.75 48.03,-67.16 41.15,-75.22 47.68,-77.75\"/>\n",
       "</g>\n",
       "<!-- 4 -->\n",
       "<g id=\"node5\" class=\"node\">\n",
       "<title>4</title>\n",
       "<text text-anchor=\"middle\" x=\"13\" y=\"-3.8\" font-family=\"Times,serif\" font-size=\"14.00\">BB</text>\n",
       "</g>\n",
       "<!-- 3&#45;&gt;4 -->\n",
       "<g id=\"edge4\" class=\"edge\">\n",
       "<title>3&#45;&gt;4</title>\n",
       "<path fill=\"none\" stroke=\"black\" d=\"M13,-51.09C13,-44.75 13,-34.75 13,-26.03\"/>\n",
       "<polygon fill=\"black\" stroke=\"black\" points=\"16.5,-26.27 13,-16.27 9.5,-26.27 16.5,-26.27\"/>\n",
       "</g>\n",
       "</g>\n",
       "</svg>\n"
      ],
      "text/plain": [
       "<graphviz.graphs.Digraph at 0x1074f6380>"
      ]
     },
     "execution_count": 233,
     "metadata": {},
     "output_type": "execute_result"
    }
   ],
   "source": [
    "mystring = 'BBcc'\n",
    "parser = FilteredLeoParser(RECURSION_GRAMMAR)\n",
    "tree, *_ = parser.parse(mystring)\n",
    "assert tree_to_string(tree) == mystring\n",
    "display_tree(tree)"
   ]
  },
  {
   "cell_type": "code",
   "execution_count": 234,
   "metadata": {
    "execution": {
     "iopub.execute_input": "2023-01-07T14:16:22.899376Z",
     "iopub.status.busy": "2023-01-07T14:16:22.898999Z",
     "iopub.status.idle": "2023-01-07T14:16:23.143088Z",
     "shell.execute_reply": "2023-01-07T14:16:23.143444Z"
    },
    "slideshow": {
     "slide_type": "skip"
    },
    "solution2": "hidden"
   },
   "outputs": [
    {
     "data": {
      "image/svg+xml": [
       "<?xml version=\"1.0\" encoding=\"UTF-8\" standalone=\"no\"?>\n",
       "<!DOCTYPE svg PUBLIC \"-//W3C//DTD SVG 1.1//EN\"\n",
       " \"http://www.w3.org/Graphics/SVG/1.1/DTD/svg11.dtd\">\n",
       "<!-- Generated by graphviz version 7.0.2 (20221119.0110)\n",
       " -->\n",
       "<!-- Pages: 1 -->\n",
       "<svg width=\"48pt\" height=\"227pt\"\n",
       " viewBox=\"0.00 0.00 48.00 227.00\" xmlns=\"http://www.w3.org/2000/svg\" xmlns:xlink=\"http://www.w3.org/1999/xlink\">\n",
       "<g id=\"graph0\" class=\"graph\" transform=\"scale(1 1) rotate(0) translate(4 223)\">\n",
       "<polygon fill=\"white\" stroke=\"none\" points=\"-4,4 -4,-223 44,-223 44,4 -4,4\"/>\n",
       "<!-- 0 -->\n",
       "<g id=\"node1\" class=\"node\">\n",
       "<title>0</title>\n",
       "<text text-anchor=\"middle\" x=\"20\" y=\"-207.8\" font-family=\"Times,serif\" font-size=\"14.00\">&lt;start&gt;</text>\n",
       "</g>\n",
       "<!-- 1 -->\n",
       "<g id=\"node2\" class=\"node\">\n",
       "<title>1</title>\n",
       "<text text-anchor=\"middle\" x=\"20\" y=\"-156.8\" font-family=\"Times,serif\" font-size=\"14.00\">&lt;A&gt;</text>\n",
       "</g>\n",
       "<!-- 0&#45;&gt;1 -->\n",
       "<g id=\"edge1\" class=\"edge\">\n",
       "<title>0&#45;&gt;1</title>\n",
       "<path fill=\"none\" stroke=\"black\" d=\"M20,-204.09C20,-197.75 20,-187.75 20,-179.03\"/>\n",
       "<polygon fill=\"black\" stroke=\"black\" points=\"23.5,-179.27 20,-169.27 16.5,-179.27 23.5,-179.27\"/>\n",
       "</g>\n",
       "<!-- 2 -->\n",
       "<g id=\"node3\" class=\"node\">\n",
       "<title>2</title>\n",
       "<text text-anchor=\"middle\" x=\"20\" y=\"-105.8\" font-family=\"Times,serif\" font-size=\"14.00\">&lt;B&gt;</text>\n",
       "</g>\n",
       "<!-- 1&#45;&gt;2 -->\n",
       "<g id=\"edge2\" class=\"edge\">\n",
       "<title>1&#45;&gt;2</title>\n",
       "<path fill=\"none\" stroke=\"black\" d=\"M20,-153.09C20,-146.75 20,-136.75 20,-128.03\"/>\n",
       "<polygon fill=\"black\" stroke=\"black\" points=\"23.5,-128.27 20,-118.27 16.5,-128.27 23.5,-128.27\"/>\n",
       "</g>\n",
       "<!-- 3 -->\n",
       "<g id=\"node4\" class=\"node\">\n",
       "<title>3</title>\n",
       "<text text-anchor=\"middle\" x=\"20\" y=\"-54.8\" font-family=\"Times,serif\" font-size=\"14.00\">&lt;C&gt;</text>\n",
       "</g>\n",
       "<!-- 2&#45;&gt;3 -->\n",
       "<g id=\"edge3\" class=\"edge\">\n",
       "<title>2&#45;&gt;3</title>\n",
       "<path fill=\"none\" stroke=\"black\" d=\"M20,-102.09C20,-95.75 20,-85.75 20,-77.03\"/>\n",
       "<polygon fill=\"black\" stroke=\"black\" points=\"23.5,-77.27 20,-67.27 16.5,-77.27 23.5,-77.27\"/>\n",
       "</g>\n",
       "<!-- 4 -->\n",
       "<g id=\"node5\" class=\"node\">\n",
       "<title>4</title>\n",
       "<text text-anchor=\"middle\" x=\"20\" y=\"-3.8\" font-family=\"Times,serif\" font-size=\"14.00\">BB</text>\n",
       "</g>\n",
       "<!-- 3&#45;&gt;4 -->\n",
       "<g id=\"edge4\" class=\"edge\">\n",
       "<title>3&#45;&gt;4</title>\n",
       "<path fill=\"none\" stroke=\"black\" d=\"M20,-51.09C20,-44.75 20,-34.75 20,-26.03\"/>\n",
       "<polygon fill=\"black\" stroke=\"black\" points=\"23.5,-26.27 20,-16.27 16.5,-26.27 23.5,-26.27\"/>\n",
       "</g>\n",
       "</g>\n",
       "</svg>\n"
      ],
      "text/plain": [
       "<graphviz.graphs.Digraph at 0x1074f5960>"
      ]
     },
     "execution_count": 234,
     "metadata": {},
     "output_type": "execute_result"
    }
   ],
   "source": [
    "mystring = 'BB'\n",
    "parser = FilteredLeoParser(RECURSION_GRAMMAR)\n",
    "tree, *_ = parser.parse(mystring)\n",
    "assert tree_to_string(tree) == mystring\n",
    "display_tree(tree)"
   ]
  },
  {
   "cell_type": "code",
   "execution_count": 235,
   "metadata": {
    "execution": {
     "iopub.execute_input": "2023-01-07T14:16:23.147161Z",
     "iopub.status.busy": "2023-01-07T14:16:23.146864Z",
     "iopub.status.idle": "2023-01-07T14:16:23.388081Z",
     "shell.execute_reply": "2023-01-07T14:16:23.388345Z"
    },
    "slideshow": {
     "slide_type": "skip"
    },
    "solution2": "hidden"
   },
   "outputs": [
    {
     "data": {
      "image/svg+xml": [
       "<?xml version=\"1.0\" encoding=\"UTF-8\" standalone=\"no\"?>\n",
       "<!DOCTYPE svg PUBLIC \"-//W3C//DTD SVG 1.1//EN\"\n",
       " \"http://www.w3.org/Graphics/SVG/1.1/DTD/svg11.dtd\">\n",
       "<!-- Generated by graphviz version 7.0.2 (20221119.0110)\n",
       " -->\n",
       "<!-- Pages: 1 -->\n",
       "<svg width=\"85pt\" height=\"329pt\"\n",
       " viewBox=\"0.00 0.00 85.00 329.00\" xmlns=\"http://www.w3.org/2000/svg\" xmlns:xlink=\"http://www.w3.org/1999/xlink\">\n",
       "<g id=\"graph0\" class=\"graph\" transform=\"scale(1 1) rotate(0) translate(4 325)\">\n",
       "<polygon fill=\"white\" stroke=\"none\" points=\"-4,4 -4,-325 81,-325 81,4 -4,4\"/>\n",
       "<!-- 0 -->\n",
       "<g id=\"node1\" class=\"node\">\n",
       "<title>0</title>\n",
       "<text text-anchor=\"middle\" x=\"51\" y=\"-309.8\" font-family=\"Times,serif\" font-size=\"14.00\">&lt;start&gt;</text>\n",
       "</g>\n",
       "<!-- 1 -->\n",
       "<g id=\"node2\" class=\"node\">\n",
       "<title>1</title>\n",
       "<text text-anchor=\"middle\" x=\"51\" y=\"-258.8\" font-family=\"Times,serif\" font-size=\"14.00\">&lt;A&gt;</text>\n",
       "</g>\n",
       "<!-- 0&#45;&gt;1 -->\n",
       "<g id=\"edge1\" class=\"edge\">\n",
       "<title>0&#45;&gt;1</title>\n",
       "<path fill=\"none\" stroke=\"black\" d=\"M51,-306.09C51,-299.75 51,-289.75 51,-281.03\"/>\n",
       "<polygon fill=\"black\" stroke=\"black\" points=\"54.5,-281.27 51,-271.27 47.5,-281.27 54.5,-281.27\"/>\n",
       "</g>\n",
       "<!-- 2 -->\n",
       "<g id=\"node3\" class=\"node\">\n",
       "<title>2</title>\n",
       "<text text-anchor=\"middle\" x=\"51\" y=\"-207.8\" font-family=\"Times,serif\" font-size=\"14.00\">&lt;B&gt;</text>\n",
       "</g>\n",
       "<!-- 1&#45;&gt;2 -->\n",
       "<g id=\"edge2\" class=\"edge\">\n",
       "<title>1&#45;&gt;2</title>\n",
       "<path fill=\"none\" stroke=\"black\" d=\"M51,-255.09C51,-248.75 51,-238.75 51,-230.03\"/>\n",
       "<polygon fill=\"black\" stroke=\"black\" points=\"54.5,-230.27 51,-220.27 47.5,-230.27 54.5,-230.27\"/>\n",
       "</g>\n",
       "<!-- 3 -->\n",
       "<g id=\"node4\" class=\"node\">\n",
       "<title>3</title>\n",
       "<text text-anchor=\"middle\" x=\"51\" y=\"-156.8\" font-family=\"Times,serif\" font-size=\"14.00\">&lt;C&gt;</text>\n",
       "</g>\n",
       "<!-- 2&#45;&gt;3 -->\n",
       "<g id=\"edge3\" class=\"edge\">\n",
       "<title>2&#45;&gt;3</title>\n",
       "<path fill=\"none\" stroke=\"black\" d=\"M51,-204.09C51,-197.75 51,-187.75 51,-179.03\"/>\n",
       "<polygon fill=\"black\" stroke=\"black\" points=\"54.5,-179.27 51,-169.27 47.5,-179.27 54.5,-179.27\"/>\n",
       "</g>\n",
       "<!-- 4 -->\n",
       "<g id=\"node5\" class=\"node\">\n",
       "<title>4</title>\n",
       "<text text-anchor=\"middle\" x=\"32\" y=\"-105.8\" font-family=\"Times,serif\" font-size=\"14.00\">&lt;B&gt;</text>\n",
       "</g>\n",
       "<!-- 3&#45;&gt;4 -->\n",
       "<g id=\"edge4\" class=\"edge\">\n",
       "<title>3&#45;&gt;4</title>\n",
       "<path fill=\"none\" stroke=\"black\" d=\"M48.52,-153.09C46,-146.6 42,-136.28 38.56,-127.42\"/>\n",
       "<polygon fill=\"black\" stroke=\"black\" points=\"41.85,-126.22 34.97,-118.16 35.32,-128.75 41.85,-126.22\"/>\n",
       "</g>\n",
       "<!-- 8 -->\n",
       "<g id=\"node9\" class=\"node\">\n",
       "<title>8</title>\n",
       "<text text-anchor=\"middle\" x=\"70\" y=\"-105.8\" font-family=\"Times,serif\" font-size=\"14.00\">bb</text>\n",
       "</g>\n",
       "<!-- 3&#45;&gt;8 -->\n",
       "<g id=\"edge8\" class=\"edge\">\n",
       "<title>3&#45;&gt;8</title>\n",
       "<path fill=\"none\" stroke=\"black\" d=\"M53.48,-153.09C56,-146.6 60,-136.28 63.44,-127.42\"/>\n",
       "<polygon fill=\"black\" stroke=\"black\" points=\"66.68,-128.75 67.03,-118.16 60.15,-126.22 66.68,-128.75\"/>\n",
       "</g>\n",
       "<!-- 5 -->\n",
       "<g id=\"node6\" class=\"node\">\n",
       "<title>5</title>\n",
       "<text text-anchor=\"middle\" x=\"13\" y=\"-54.8\" font-family=\"Times,serif\" font-size=\"14.00\">&lt;C&gt;</text>\n",
       "</g>\n",
       "<!-- 4&#45;&gt;5 -->\n",
       "<g id=\"edge5\" class=\"edge\">\n",
       "<title>4&#45;&gt;5</title>\n",
       "<path fill=\"none\" stroke=\"black\" d=\"M29.52,-102.09C27,-95.6 23,-85.28 19.56,-76.42\"/>\n",
       "<polygon fill=\"black\" stroke=\"black\" points=\"22.85,-75.22 15.97,-67.16 16.32,-77.75 22.85,-75.22\"/>\n",
       "</g>\n",
       "<!-- 7 -->\n",
       "<g id=\"node8\" class=\"node\">\n",
       "<title>7</title>\n",
       "<text text-anchor=\"middle\" x=\"51\" y=\"-54.8\" font-family=\"Times,serif\" font-size=\"14.00\">cc</text>\n",
       "</g>\n",
       "<!-- 4&#45;&gt;7 -->\n",
       "<g id=\"edge7\" class=\"edge\">\n",
       "<title>4&#45;&gt;7</title>\n",
       "<path fill=\"none\" stroke=\"black\" d=\"M34.48,-102.09C37,-95.6 41,-85.28 44.44,-76.42\"/>\n",
       "<polygon fill=\"black\" stroke=\"black\" points=\"47.68,-77.75 48.03,-67.16 41.15,-75.22 47.68,-77.75\"/>\n",
       "</g>\n",
       "<!-- 6 -->\n",
       "<g id=\"node7\" class=\"node\">\n",
       "<title>6</title>\n",
       "<text text-anchor=\"middle\" x=\"13\" y=\"-3.8\" font-family=\"Times,serif\" font-size=\"14.00\">BB</text>\n",
       "</g>\n",
       "<!-- 5&#45;&gt;6 -->\n",
       "<g id=\"edge6\" class=\"edge\">\n",
       "<title>5&#45;&gt;6</title>\n",
       "<path fill=\"none\" stroke=\"black\" d=\"M13,-51.09C13,-44.75 13,-34.75 13,-26.03\"/>\n",
       "<polygon fill=\"black\" stroke=\"black\" points=\"16.5,-26.27 13,-16.27 9.5,-26.27 16.5,-26.27\"/>\n",
       "</g>\n",
       "</g>\n",
       "</svg>\n"
      ],
      "text/plain": [
       "<graphviz.graphs.Digraph at 0x10755aec0>"
      ]
     },
     "execution_count": 235,
     "metadata": {},
     "output_type": "execute_result"
    }
   ],
   "source": [
    "mystring = 'BBccbb'\n",
    "parser = FilteredLeoParser(RECURSION_GRAMMAR)\n",
    "tree, *_ = parser.parse(mystring)\n",
    "assert tree_to_string(tree) == mystring\n",
    "display_tree(tree)"
   ]
  },
  {
   "cell_type": "markdown",
   "metadata": {
    "slideshow": {
     "slide_type": "skip"
    },
    "solution2": "hidden"
   },
   "source": [
    "As can be seen, we are able to recover minimal parse trees without hitting on infinite chains."
   ]
  },
  {
   "attachments": {},
   "cell_type": "markdown",
   "metadata": {
    "slideshow": {
     "slide_type": "subslide"
    },
    "solution2": "hidden",
    "solution2_first": true
   },
   "source": [
    "### Exercise 7: Iterative Earley Parser\n",
    "\n",
    "Recursive algorithms are quite handy in some cases, but sometimes we might want to have iteration instead of recursion due to memory or speed problems. \n",
    "\n",
    "Can you implement an iterative version of the `EarleyParser`? \n",
    "\n",
    "__Hint:__ In general, you can use a stack to replace a recursive algorithm with an iterative one. An easy way to do this is pushing the parameters onto a stack instead of passing them to the recursive function."
   ]
  },
  {
   "cell_type": "markdown",
   "metadata": {
    "slideshow": {
     "slide_type": "subslide"
    },
    "solution2": "hidden",
    "solution2_first": true
   },
   "source": [
    "**Solution.** Here is a possible solution."
   ]
  },
  {
   "cell_type": "markdown",
   "metadata": {
    "slideshow": {
     "slide_type": "skip"
    },
    "solution2": "hidden"
   },
   "source": [
    "First, we define `parse_paths()` that extract paths from a parsed expression, which is very similar to the original."
   ]
  },
  {
   "cell_type": "code",
   "execution_count": 236,
   "metadata": {
    "execution": {
     "iopub.execute_input": "2023-01-07T14:16:23.392821Z",
     "iopub.status.busy": "2023-01-07T14:16:23.392514Z",
     "iopub.status.idle": "2023-01-07T14:16:23.393729Z",
     "shell.execute_reply": "2023-01-07T14:16:23.393930Z"
    },
    "slideshow": {
     "slide_type": "skip"
    },
    "solution2": "hidden"
   },
   "outputs": [],
   "source": [
    "class IterativeEarleyParser(EarleyParser):\n",
    "    def parse_paths(self, named_expr_, chart, frm, til_):\n",
    "        return_paths = []\n",
    "        path_build_stack = [(named_expr_, til_, [])]\n",
    "\n",
    "        def iter_paths(path_prefix, path, start, k, e):\n",
    "            x = path_prefix + [(path, k)]\n",
    "            if not e:\n",
    "                return_paths.extend([x] if start == frm else [])\n",
    "            else:\n",
    "                path_build_stack.append((e, start, x))\n",
    "\n",
    "        while path_build_stack:\n",
    "            named_expr, til, path_prefix = path_build_stack.pop()\n",
    "            *expr, var = named_expr\n",
    "\n",
    "            starts = None\n",
    "            if var not in self.cgrammar:\n",
    "                starts = ([(var, til - len(var), 't')]\n",
    "                          if til > 0 and chart[til].letter == var else [])\n",
    "            else:\n",
    "                starts = [(s, s.s_col.index, 'n') for s in chart[til].states\n",
    "                          if s.finished() and s.name == var]\n",
    "\n",
    "            for s, start, k in starts:\n",
    "                iter_paths(path_prefix, s, start, k, expr)\n",
    "\n",
    "        return return_paths"
   ]
  },
  {
   "cell_type": "markdown",
   "metadata": {
    "slideshow": {
     "slide_type": "skip"
    },
    "solution2": "hidden"
   },
   "source": [
    "Next we used these paths to recover the forest data structure using `parse_forest()`. Since `parse_forest()` does not recurse, we reuse the original definition. Next, we define `extract_a_tree()`"
   ]
  },
  {
   "cell_type": "markdown",
   "metadata": {
    "slideshow": {
     "slide_type": "skip"
    },
    "solution2": "hidden"
   },
   "source": [
    "Now we are ready to extract trees from the forest using `extract_a_tree()`"
   ]
  },
  {
   "cell_type": "code",
   "execution_count": 237,
   "metadata": {
    "execution": {
     "iopub.execute_input": "2023-01-07T14:16:23.397075Z",
     "iopub.status.busy": "2023-01-07T14:16:23.396739Z",
     "iopub.status.idle": "2023-01-07T14:16:23.398137Z",
     "shell.execute_reply": "2023-01-07T14:16:23.398511Z"
    },
    "slideshow": {
     "slide_type": "skip"
    },
    "solution2": "hidden"
   },
   "outputs": [],
   "source": [
    "class IterativeEarleyParser(IterativeEarleyParser):\n",
    "    def choose_a_node_to_explore(self, node_paths, level_count):\n",
    "        first, *rest = node_paths\n",
    "        return first\n",
    "\n",
    "    def extract_a_tree(self, forest_node_):\n",
    "        start_node = (forest_node_[0], [])\n",
    "        tree_build_stack = [(forest_node_, start_node[-1], 0)]\n",
    "\n",
    "        while tree_build_stack:\n",
    "            forest_node, tree, level_count = tree_build_stack.pop()\n",
    "            name, paths = forest_node\n",
    "\n",
    "            if not paths:\n",
    "                tree.append((name, []))\n",
    "            else:\n",
    "                new_tree = []\n",
    "                current_node = self.choose_a_node_to_explore(paths, level_count)\n",
    "                for p in reversed(current_node):\n",
    "                    new_forest_node = self.forest(*p)\n",
    "                    tree_build_stack.append((new_forest_node, new_tree, level_count + 1))\n",
    "                tree.append((name, new_tree))\n",
    "\n",
    "        return start_node"
   ]
  },
  {
   "cell_type": "markdown",
   "metadata": {
    "slideshow": {
     "slide_type": "skip"
    },
    "solution2": "hidden"
   },
   "source": [
    "For now, we simply extract the first tree found."
   ]
  },
  {
   "cell_type": "code",
   "execution_count": 238,
   "metadata": {
    "execution": {
     "iopub.execute_input": "2023-01-07T14:16:23.400458Z",
     "iopub.status.busy": "2023-01-07T14:16:23.400154Z",
     "iopub.status.idle": "2023-01-07T14:16:23.401398Z",
     "shell.execute_reply": "2023-01-07T14:16:23.401630Z"
    },
    "slideshow": {
     "slide_type": "skip"
    },
    "solution2": "hidden"
   },
   "outputs": [],
   "source": [
    "class IterativeEarleyParser(IterativeEarleyParser):\n",
    "    def extract_trees(self, forest):\n",
    "        yield self.extract_a_tree(forest)"
   ]
  },
  {
   "cell_type": "markdown",
   "metadata": {
    "slideshow": {
     "slide_type": "subslide"
    },
    "solution2": "hidden"
   },
   "source": [
    "Let's see if it works with some of the grammars we have seen so far."
   ]
  },
  {
   "cell_type": "code",
   "execution_count": 239,
   "metadata": {
    "execution": {
     "iopub.execute_input": "2023-01-07T14:16:23.404135Z",
     "iopub.status.busy": "2023-01-07T14:16:23.403852Z",
     "iopub.status.idle": "2023-01-07T14:16:23.409595Z",
     "shell.execute_reply": "2023-01-07T14:16:23.409919Z"
    },
    "slideshow": {
     "slide_type": "skip"
    },
    "solution2": "hidden"
   },
   "outputs": [
    {
     "name": "stdout",
     "output_type": "stream",
     "text": [
      "0 1-2-3+4-5\n",
      "1 1+2\n",
      "2 1+2+3-6=6-1-2-3\n",
      "3 aaaaa\n",
      "4 aa\n",
      "5 select a from a\n",
      "6 select a from a\n",
      "7 AA\n",
      "8 AAaaaa\n",
      "9 BBccbb\n"
     ]
    }
   ],
   "source": [
    "test_cases: List[Tuple[Grammar, str]] = [\n",
    "    (A1_GRAMMAR, '1-2-3+4-5'),\n",
    "    (A2_GRAMMAR, '1+2'),\n",
    "    (A3_GRAMMAR, '1+2+3-6=6-1-2-3'),\n",
    "    (LR_GRAMMAR, 'aaaaa'),\n",
    "    (RR_GRAMMAR, 'aa'),\n",
    "    (DIRECTLY_SELF_REFERRING, 'select a from a'),\n",
    "    (INDIRECTLY_SELF_REFERRING, 'select a from a'),\n",
    "    (RECURSION_GRAMMAR, 'AA'),\n",
    "    (RECURSION_GRAMMAR, 'AAaaaa'),\n",
    "    (RECURSION_GRAMMAR, 'BBccbb')\n",
    "]\n",
    "\n",
    "for i, (grammar, text) in enumerate(test_cases):\n",
    "    print(i, text)\n",
    "    tree, *_ = IterativeEarleyParser(grammar).parse(text)\n",
    "    assert text == tree_to_string(tree)"
   ]
  },
  {
   "cell_type": "markdown",
   "metadata": {
    "slideshow": {
     "slide_type": "skip"
    },
    "solution2": "hidden"
   },
   "source": [
    "As can be seen, our `IterativeEarleyParser` is able to handle recursive grammars. However, it can only extract the first tree found. What should one do to get all possible parses? What we can do, is to keep track of options to explore at each `choose_a_node_to_explore()`. Next, capture in the nodes explored in a tree data structure, adding new paths each time a new leaf is expanded. See the `TraceTree` datastructure in the [chapter on Concolic fuzzing](ConcolicFuzzer.ipynb) for an example."
   ]
  },
  {
   "attachments": {},
   "cell_type": "markdown",
   "metadata": {
    "slideshow": {
     "slide_type": "skip"
    },
    "solution2": "hidden",
    "solution2_first": true
   },
   "source": [
    "### Exercise 8: First Set of a Nonterminal\n",
    "\n",
    "We previously gave a way to extract the `nullable` (epsilon) set, which is often used for parsing.\n",
    "Along with `nullable`, parsing algorithms often use two other sets [`first` and `follow`](https://en.wikipedia.org/wiki/Canonical_LR_parser#FIRST_and_FOLLOW_sets).\n",
    "The first set of a terminal symbol is itself, and the first set of a nonterminal is composed of terminal symbols that can come at the beginning of any derivation\n",
    "of that nonterminal. The first set of any nonterminal that can derive the empty string should contain `EPSILON`. For example, using our `A1_GRAMMAR`, the first set of both `<expr>` and `<start>` is `{0,1,2,3,4,5,6,7,8,9}`. The extraction first set for any self-recursive nonterminal is simple enough. One simply has to recursively compute the first set of the first element of its choice expressions. The computation of `first` set for a self-recursive nonterminal is tricky. One has to recursively compute the first set until one is sure that no more terminals can be added to the first set.\n",
    "\n",
    "Can you implement the `first` set using our `fixpoint()` decorator?"
   ]
  },
  {
   "cell_type": "markdown",
   "metadata": {
    "slideshow": {
     "slide_type": "subslide"
    },
    "solution2": "hidden"
   },
   "source": [
    "**Solution.** The first set of all terminals is the set containing just themselves. So we initialize that first. Then we update the first set with rules that derive empty strings."
   ]
  },
  {
   "cell_type": "code",
   "execution_count": 240,
   "metadata": {
    "execution": {
     "iopub.execute_input": "2023-01-07T14:16:23.412122Z",
     "iopub.status.busy": "2023-01-07T14:16:23.411174Z",
     "iopub.status.idle": "2023-01-07T14:16:23.413230Z",
     "shell.execute_reply": "2023-01-07T14:16:23.413490Z"
    },
    "slideshow": {
     "slide_type": "fragment"
    },
    "solution2": "hidden"
   },
   "outputs": [],
   "source": [
    "def firstset(grammar, nullable):\n",
    "    first = {i: {i} for i in terminals(grammar)}\n",
    "    for k in grammar:\n",
    "        first[k] = {EPSILON} if k in nullable else set()\n",
    "    return firstset_((rules(grammar), first, nullable))[1]"
   ]
  },
  {
   "cell_type": "markdown",
   "metadata": {
    "slideshow": {
     "slide_type": "fragment"
    },
    "solution2": "hidden"
   },
   "source": [
    "Finally, we rely on the `fixpoint` to update the first set with the contents of the current first set until the first set stops changing."
   ]
  },
  {
   "cell_type": "code",
   "execution_count": 241,
   "metadata": {
    "execution": {
     "iopub.execute_input": "2023-01-07T14:16:23.415431Z",
     "iopub.status.busy": "2023-01-07T14:16:23.415146Z",
     "iopub.status.idle": "2023-01-07T14:16:23.416342Z",
     "shell.execute_reply": "2023-01-07T14:16:23.416572Z"
    },
    "slideshow": {
     "slide_type": "subslide"
    },
    "solution2": "hidden"
   },
   "outputs": [],
   "source": [
    "def first_expr(expr, first, nullable):\n",
    "    tokens = set()\n",
    "    for token in expr:\n",
    "        tokens |= first[token]\n",
    "        if token not in nullable:\n",
    "            break\n",
    "    return tokens"
   ]
  },
  {
   "cell_type": "code",
   "execution_count": 242,
   "metadata": {
    "execution": {
     "iopub.execute_input": "2023-01-07T14:16:23.418566Z",
     "iopub.status.busy": "2023-01-07T14:16:23.418280Z",
     "iopub.status.idle": "2023-01-07T14:16:23.419444Z",
     "shell.execute_reply": "2023-01-07T14:16:23.419676Z"
    },
    "slideshow": {
     "slide_type": "fragment"
    },
    "solution2": "hidden"
   },
   "outputs": [],
   "source": [
    "@fixpoint\n",
    "def firstset_(arg):\n",
    "    (rules, first, epsilon) = arg\n",
    "    for A, expression in rules:\n",
    "        first[A] |= first_expr(expression, first, epsilon)\n",
    "    return (rules, first, epsilon)"
   ]
  },
  {
   "cell_type": "code",
   "execution_count": 243,
   "metadata": {
    "execution": {
     "iopub.execute_input": "2023-01-07T14:16:23.422513Z",
     "iopub.status.busy": "2023-01-07T14:16:23.422182Z",
     "iopub.status.idle": "2023-01-07T14:16:23.423593Z",
     "shell.execute_reply": "2023-01-07T14:16:23.423903Z"
    },
    "slideshow": {
     "slide_type": "subslide"
    },
    "solution2": "hidden"
   },
   "outputs": [
    {
     "data": {
      "text/plain": [
       "{'5': {'5'},\n",
       " '3': {'3'},\n",
       " '9': {'9'},\n",
       " '+': {'+'},\n",
       " '4': {'4'},\n",
       " '2': {'2'},\n",
       " '7': {'7'},\n",
       " '8': {'8'},\n",
       " '0': {'0'},\n",
       " '-': {'-'},\n",
       " '1': {'1'},\n",
       " '6': {'6'},\n",
       " '<start>': {'0', '1', '2', '3', '4', '5', '6', '7', '8', '9'},\n",
       " '<expr>': {'0', '1', '2', '3', '4', '5', '6', '7', '8', '9'},\n",
       " '<integer>': {'0', '1', '2', '3', '4', '5', '6', '7', '8', '9'},\n",
       " '<digit>': {'0', '1', '2', '3', '4', '5', '6', '7', '8', '9'}}"
      ]
     },
     "execution_count": 243,
     "metadata": {},
     "output_type": "execute_result"
    }
   ],
   "source": [
    "firstset(canonical(A1_GRAMMAR), EPSILON)"
   ]
  },
  {
   "cell_type": "markdown",
   "metadata": {
    "slideshow": {
     "slide_type": "skip"
    },
    "solution2": "hidden",
    "solution2_first": true
   },
   "source": [
    "### Exercise 9: Follow Set of a Nonterminal\n",
    "\n",
    "The follow set definition is similar to the first set. The follow set of a nonterminal is the set of terminals that can occur just after that nonterminal is used in any derivation. The follow set of the start symbol is `EOF`, and the follow set of any nonterminal is the super set of first sets of all symbols that come after it in any choice expression.\n",
    "\n",
    "For example, the follow set of `<expr>` in `A1_GRAMMAR` is the set `{EOF, +, -}`.\n",
    "\n",
    "As in the previous exercise, implement the `followset()` using the `fixpoint()` decorator."
   ]
  },
  {
   "cell_type": "markdown",
   "metadata": {
    "slideshow": {
     "slide_type": "subslide"
    },
    "solution2": "hidden"
   },
   "source": [
    "**Solution.** The implementation of `followset()` is similar to `firstset()`. We first initialize the follow set with `EOF`, get the epsilon and first sets, and use the `fixpoint()` decorator to iteratively compute the follow set until nothing changes."
   ]
  },
  {
   "cell_type": "code",
   "execution_count": 244,
   "metadata": {
    "execution": {
     "iopub.execute_input": "2023-01-07T14:16:23.425674Z",
     "iopub.status.busy": "2023-01-07T14:16:23.425384Z",
     "iopub.status.idle": "2023-01-07T14:16:23.426460Z",
     "shell.execute_reply": "2023-01-07T14:16:23.426692Z"
    },
    "slideshow": {
     "slide_type": "fragment"
    },
    "solution2": "hidden"
   },
   "outputs": [],
   "source": [
    "EOF = '\\0'"
   ]
  },
  {
   "cell_type": "code",
   "execution_count": 245,
   "metadata": {
    "execution": {
     "iopub.execute_input": "2023-01-07T14:16:23.428687Z",
     "iopub.status.busy": "2023-01-07T14:16:23.428396Z",
     "iopub.status.idle": "2023-01-07T14:16:23.429796Z",
     "shell.execute_reply": "2023-01-07T14:16:23.430018Z"
    },
    "slideshow": {
     "slide_type": "fragment"
    },
    "solution2": "hidden"
   },
   "outputs": [],
   "source": [
    "def followset(grammar, start):\n",
    "    follow = {i: set() for i in grammar}\n",
    "    follow[start] = {EOF}\n",
    "\n",
    "    epsilon = nullable(grammar)\n",
    "    first = firstset(grammar, epsilon)\n",
    "    return followset_((grammar, epsilon, first, follow))[-1]"
   ]
  },
  {
   "cell_type": "markdown",
   "metadata": {
    "slideshow": {
     "slide_type": "fragment"
    },
    "solution2": "hidden"
   },
   "source": [
    "Given the current follow set, one can update the follow set as follows:"
   ]
  },
  {
   "cell_type": "code",
   "execution_count": 246,
   "metadata": {
    "execution": {
     "iopub.execute_input": "2023-01-07T14:16:23.432196Z",
     "iopub.status.busy": "2023-01-07T14:16:23.431907Z",
     "iopub.status.idle": "2023-01-07T14:16:23.433229Z",
     "shell.execute_reply": "2023-01-07T14:16:23.433468Z"
    },
    "slideshow": {
     "slide_type": "subslide"
    },
    "solution2": "hidden"
   },
   "outputs": [],
   "source": [
    "@fixpoint\n",
    "def followset_(arg):\n",
    "    grammar, epsilon, first, follow = arg\n",
    "    for A, expression in rules(grammar):\n",
    "        f_B = follow[A]\n",
    "        for t in reversed(expression):\n",
    "            if t in grammar:\n",
    "                follow[t] |= f_B\n",
    "            f_B = f_B | first[t] if t in epsilon else (first[t] - {EPSILON})\n",
    "\n",
    "    return (grammar, epsilon, first, follow)"
   ]
  },
  {
   "cell_type": "code",
   "execution_count": 247,
   "metadata": {
    "execution": {
     "iopub.execute_input": "2023-01-07T14:16:23.436412Z",
     "iopub.status.busy": "2023-01-07T14:16:23.435911Z",
     "iopub.status.idle": "2023-01-07T14:16:23.437552Z",
     "shell.execute_reply": "2023-01-07T14:16:23.437846Z"
    },
    "slideshow": {
     "slide_type": "subslide"
    },
    "solution2": "hidden"
   },
   "outputs": [
    {
     "data": {
      "text/plain": [
       "{'<start>': {'\\x00'},\n",
       " '<expr>': {'\\x00', '+', '-'},\n",
       " '<integer>': {'\\x00', '+', '-'},\n",
       " '<digit>': {'\\x00',\n",
       "  '+',\n",
       "  '-',\n",
       "  '0',\n",
       "  '1',\n",
       "  '2',\n",
       "  '3',\n",
       "  '4',\n",
       "  '5',\n",
       "  '6',\n",
       "  '7',\n",
       "  '8',\n",
       "  '9'}}"
      ]
     },
     "execution_count": 247,
     "metadata": {},
     "output_type": "execute_result"
    }
   ],
   "source": [
    "followset(canonical(A1_GRAMMAR), START_SYMBOL)"
   ]
  },
  {
   "attachments": {},
   "cell_type": "markdown",
   "metadata": {
    "slideshow": {
     "slide_type": "skip"
    },
    "toc-hr-collapsed": true
   },
   "source": [
    "### Exercise 10: A LL(1) Parser\n",
    "\n",
    "As we mentioned previously, there exist other kinds of parsers that operate left-to-right with right most derivation (*LR(k)*) or left-to-right with left most derivation (*LL(k)*) with _k_ signifying the amount of lookahead the parser is permitted to use.\n",
    "\n",
    "What should one do with the lookahead? That lookahead can be used to determine which rule to apply. In the case of an *LL(1)* parser, the rule to apply is determined by looking at the _first_ set of the different rules. We previously implemented `first_expr()` that takes an expression, the set of  `nullables`, and computes the first set of that rule.\n",
    "\n",
    "If a rule can derive an empty set, then that rule may also be applicable if of sees the `follow()` set of the corresponding nonterminal."
   ]
  },
  {
   "cell_type": "markdown",
   "metadata": {
    "slideshow": {
     "slide_type": "skip"
    }
   },
   "source": [
    "#### Part 1: A LL(1) Parsing Table\n",
    "\n",
    "The first part of this exercise is to implement the _parse table_ that describes what action to take for an *LL(1)* parser on seeing a terminal symbol on lookahead.  The table should be in the form of a _dictionary_ such that the keys represent the nonterminal symbol, and the value should contain another dictionary with keys as terminal symbols and the particular rule to continue parsing as the value.\n",
    "\n",
    "Let us illustrate this table with an example.  The `parse_table()` method populates a `self.table` data structure that should conform to the following requirements:"
   ]
  },
  {
   "cell_type": "code",
   "execution_count": 248,
   "metadata": {
    "execution": {
     "iopub.execute_input": "2023-01-07T14:16:23.440854Z",
     "iopub.status.busy": "2023-01-07T14:16:23.440558Z",
     "iopub.status.idle": "2023-01-07T14:16:23.442221Z",
     "shell.execute_reply": "2023-01-07T14:16:23.442523Z"
    },
    "slideshow": {
     "slide_type": "skip"
    }
   },
   "outputs": [],
   "source": [
    "class LL1Parser(Parser):\n",
    "    def parse_table(self):\n",
    "        self.my_rules = rules(self.cgrammar)\n",
    "        self.table = ...          # fill in here to produce\n",
    "\n",
    "    def rules(self):\n",
    "        for i, rule in enumerate(self.my_rules):\n",
    "            print(i, rule)\n",
    "\n",
    "    def show_table(self):\n",
    "        ts = list(sorted(terminals(self.cgrammar)))\n",
    "        print('Rule Name\\t| %s' % ' | '.join(t for t in ts))\n",
    "        for k in self.table:\n",
    "            pr = self.table[k]\n",
    "            actions = list(str(pr[t]) if t in pr else ' ' for t in ts)\n",
    "            print('%s  \\t| %s' % (k, ' | '.join(actions)))"
   ]
  },
  {
   "cell_type": "markdown",
   "metadata": {
    "slideshow": {
     "slide_type": "skip"
    }
   },
   "source": [
    "On invocation of `LL1Parser(A2_GRAMMAR).show_table()`\n",
    "It should result in the following table:"
   ]
  },
  {
   "cell_type": "code",
   "execution_count": 249,
   "metadata": {
    "execution": {
     "iopub.execute_input": "2023-01-07T14:16:23.445462Z",
     "iopub.status.busy": "2023-01-07T14:16:23.445110Z",
     "iopub.status.idle": "2023-01-07T14:16:23.446449Z",
     "shell.execute_reply": "2023-01-07T14:16:23.446700Z"
    },
    "slideshow": {
     "slide_type": "skip"
    }
   },
   "outputs": [
    {
     "name": "stdout",
     "output_type": "stream",
     "text": [
      "0\t <start> := ['<expr>']\n",
      "1\t <expr> := ['<integer>', '<expr_>']\n",
      "2\t <expr_> := ['+', '<expr>']\n",
      "3\t <expr_> := ['-', '<expr>']\n",
      "4\t <expr_> := []\n",
      "5\t <integer> := ['<digit>', '<integer_>']\n",
      "6\t <integer_> := ['<integer>']\n",
      "7\t <integer_> := []\n",
      "8\t <digit> := ['0']\n",
      "9\t <digit> := ['1']\n",
      "10\t <digit> := ['2']\n",
      "11\t <digit> := ['3']\n",
      "12\t <digit> := ['4']\n",
      "13\t <digit> := ['5']\n",
      "14\t <digit> := ['6']\n",
      "15\t <digit> := ['7']\n",
      "16\t <digit> := ['8']\n",
      "17\t <digit> := ['9']\n"
     ]
    }
   ],
   "source": [
    "for i, r in enumerate(rules(canonical(A2_GRAMMAR))):\n",
    "    print(\"%d\\t %s := %s\" % (i, r[0], r[1]))"
   ]
  },
  {
   "cell_type": "markdown",
   "metadata": {
    "slideshow": {
     "slide_type": "subslide"
    },
    "solution2": "hidden",
    "solution2_first": true
   },
   "source": [
    "|Rule Name  || + | - | 0 | 1 | 2 | 3 | 4 | 5 | 6 | 7 | 8 | 9|\n",
    "|-----------||---|---|---|---|---|---|---|---|---|---|---|--|\n",
    "|start  \t||   |   | 0 | 0 | 0 | 0 | 0 | 0 | 0 | 0 | 0 | 0|\n",
    "|expr   \t||   |   | 1 | 1 | 1 | 1 | 1 | 1 | 1 | 1 | 1 | 1|\n",
    "|expr_  \t|| 2 | 3 |   |   |   |   |   |   |   |   |   |  |\n",
    "|integer  \t||   |   | 5 | 5 | 5 | 5 | 5 | 5 | 5 | 5 | 5 | 5|\n",
    "|integer_  \t|| 7 | 7 | 6 | 6 | 6 | 6 | 6 | 6 | 6 | 6 | 6 | 6|\n",
    "|digit  \t||   |   | 8 | 9 |10 |11 |12 |13 |14 |15 |16 |17|"
   ]
  },
  {
   "cell_type": "markdown",
   "metadata": {
    "slideshow": {
     "slide_type": "subslide"
    },
    "solution2": "hidden"
   },
   "source": [
    "**Solution.** We define `predict()` as we explained before. Then we use the predicted rules to populate the parse table."
   ]
  },
  {
   "cell_type": "code",
   "execution_count": 250,
   "metadata": {
    "execution": {
     "iopub.execute_input": "2023-01-07T14:16:23.450034Z",
     "iopub.status.busy": "2023-01-07T14:16:23.449708Z",
     "iopub.status.idle": "2023-01-07T14:16:23.451069Z",
     "shell.execute_reply": "2023-01-07T14:16:23.451260Z"
    },
    "slideshow": {
     "slide_type": "subslide"
    },
    "solution2": "hidden"
   },
   "outputs": [],
   "source": [
    "class LL1Parser(LL1Parser):\n",
    "    def predict(self, rulepair, first, follow, epsilon):\n",
    "        A, rule = rulepair\n",
    "        rf = first_expr(rule, first, epsilon)\n",
    "        if nullable_expr(rule, epsilon):\n",
    "            rf |= follow[A]\n",
    "        return rf\n",
    "\n",
    "    def parse_table(self):\n",
    "        self.my_rules = rules(self.cgrammar)\n",
    "        epsilon = nullable(self.cgrammar)\n",
    "        first = firstset(self.cgrammar, epsilon)\n",
    "        # inefficient, can combine the three.\n",
    "        follow = followset(self.cgrammar, self.start_symbol())\n",
    "\n",
    "        ptable = [(i, self.predict(rule, first, follow, epsilon))\n",
    "                  for i, rule in enumerate(self.my_rules)]\n",
    "\n",
    "        parse_tbl = {k: {} for k in self.cgrammar}\n",
    "\n",
    "        for i, pvals in ptable:\n",
    "            (k, expr) = self.my_rules[i]\n",
    "            parse_tbl[k].update({v: i for v in pvals})\n",
    "\n",
    "        self.table = parse_tbl"
   ]
  },
  {
   "cell_type": "code",
   "execution_count": 251,
   "metadata": {
    "execution": {
     "iopub.execute_input": "2023-01-07T14:16:23.453925Z",
     "iopub.status.busy": "2023-01-07T14:16:23.453494Z",
     "iopub.status.idle": "2023-01-07T14:16:23.454928Z",
     "shell.execute_reply": "2023-01-07T14:16:23.455132Z"
    },
    "slideshow": {
     "slide_type": "subslide"
    },
    "solution2": "hidden"
   },
   "outputs": [
    {
     "name": "stdout",
     "output_type": "stream",
     "text": [
      "Rule Name\t| + | - | 0 | 1 | 2 | 3 | 4 | 5 | 6 | 7 | 8 | 9\n",
      "<start>  \t|   |   | 0 | 0 | 0 | 0 | 0 | 0 | 0 | 0 | 0 | 0\n",
      "<expr>  \t|   |   | 1 | 1 | 1 | 1 | 1 | 1 | 1 | 1 | 1 | 1\n",
      "<expr_>  \t| 2 | 3 |   |   |   |   |   |   |   |   |   |  \n",
      "<integer>  \t|   |   | 5 | 5 | 5 | 5 | 5 | 5 | 5 | 5 | 5 | 5\n",
      "<integer_>  \t| 7 | 7 | 6 | 6 | 6 | 6 | 6 | 6 | 6 | 6 | 6 | 6\n",
      "<digit>  \t|   |   | 8 | 9 | 10 | 11 | 12 | 13 | 14 | 15 | 16 | 17\n"
     ]
    }
   ],
   "source": [
    "ll1parser = LL1Parser(A2_GRAMMAR)\n",
    "ll1parser.parse_table()\n",
    "ll1parser.show_table()"
   ]
  },
  {
   "attachments": {},
   "cell_type": "markdown",
   "metadata": {
    "slideshow": {
     "slide_type": "skip"
    },
    "solution2": "hidden",
    "solution2_first": true
   },
   "source": [
    "#### Part 2: The Parser\n",
    "\n",
    "Once we have the parse table, implementing the parser is as follows: Consider the first item from the sequence of tokens to parse, and seed the stack with the start symbol.\n",
    "\n",
    "While the stack is not empty, extract the first symbol from the stack, and if the symbol is a terminal, verify that the symbol matches the item from the input stream. If the symbol is a nonterminal, use the symbol and input item to look up the next rule from the parse table. Insert the rule thus found to the top of the stack. Keep track of the expressions being parsed to build up the parse table.\n",
    "\n",
    "Use the parse table defined previously to implement the complete LL(1) parser."
   ]
  },
  {
   "cell_type": "markdown",
   "metadata": {
    "slideshow": {
     "slide_type": "subslide"
    },
    "solution2": "hidden",
    "solution2_first": true
   },
   "source": [
    "**Solution.** Here is the complete parser:"
   ]
  },
  {
   "cell_type": "code",
   "execution_count": 252,
   "metadata": {
    "execution": {
     "iopub.execute_input": "2023-01-07T14:16:23.458940Z",
     "iopub.status.busy": "2023-01-07T14:16:23.458636Z",
     "iopub.status.idle": "2023-01-07T14:16:23.459892Z",
     "shell.execute_reply": "2023-01-07T14:16:23.460107Z"
    },
    "slideshow": {
     "slide_type": "subslide"
    },
    "solution2": "hidden"
   },
   "outputs": [],
   "source": [
    "class LL1Parser(LL1Parser):\n",
    "    def parse_helper(self, stack, inplst):\n",
    "        inp, *inplst = inplst\n",
    "        exprs = []\n",
    "        while stack:\n",
    "            val, *stack = stack\n",
    "            if isinstance(val, tuple):\n",
    "                exprs.append(val)\n",
    "            elif val not in self.cgrammar:  # terminal\n",
    "                assert val == inp\n",
    "                exprs.append(val)\n",
    "                inp, *inplst = inplst or [None]\n",
    "            else:\n",
    "                if inp is not None:\n",
    "                    i = self.table[val][inp]\n",
    "                    _, rhs = self.my_rules[i]\n",
    "                    stack = rhs + [(val, len(rhs))] + stack\n",
    "        return self.linear_to_tree(exprs)\n",
    "\n",
    "    def parse(self, inp):\n",
    "        self.parse_table()\n",
    "        k, _ = self.my_rules[0]\n",
    "        stack = [k]\n",
    "        return self.parse_helper(stack, inp)\n",
    "\n",
    "    def linear_to_tree(self, arr):\n",
    "        stack = []\n",
    "        while arr:\n",
    "            elt = arr.pop(0)\n",
    "            if not isinstance(elt, tuple):\n",
    "                stack.append((elt, []))\n",
    "            else:\n",
    "                # get the last n\n",
    "                sym, n = elt\n",
    "                elts = stack[-n:] if n > 0 else []\n",
    "                stack = stack[0:len(stack) - n]\n",
    "                stack.append((sym, elts))\n",
    "        assert len(stack) == 1\n",
    "        return stack[0]"
   ]
  },
  {
   "cell_type": "code",
   "execution_count": 253,
   "metadata": {
    "execution": {
     "iopub.execute_input": "2023-01-07T14:16:23.465682Z",
     "iopub.status.busy": "2023-01-07T14:16:23.465383Z",
     "iopub.status.idle": "2023-01-07T14:16:23.707197Z",
     "shell.execute_reply": "2023-01-07T14:16:23.707572Z"
    },
    "slideshow": {
     "slide_type": "subslide"
    },
    "solution2": "hidden"
   },
   "outputs": [
    {
     "data": {
      "image/svg+xml": [
       "<?xml version=\"1.0\" encoding=\"UTF-8\" standalone=\"no\"?>\n",
       "<!DOCTYPE svg PUBLIC \"-//W3C//DTD SVG 1.1//EN\"\n",
       " \"http://www.w3.org/Graphics/SVG/1.1/DTD/svg11.dtd\">\n",
       "<!-- Generated by graphviz version 7.0.2 (20221119.0110)\n",
       " -->\n",
       "<!-- Pages: 1 -->\n",
       "<svg width=\"246pt\" height=\"329pt\"\n",
       " viewBox=\"0.00 0.00 246.00 329.00\" xmlns=\"http://www.w3.org/2000/svg\" xmlns:xlink=\"http://www.w3.org/1999/xlink\">\n",
       "<g id=\"graph0\" class=\"graph\" transform=\"scale(1 1) rotate(0) translate(4 325)\">\n",
       "<polygon fill=\"white\" stroke=\"none\" points=\"-4,4 -4,-325 242,-325 242,4 -4,4\"/>\n",
       "<!-- 0 -->\n",
       "<g id=\"node1\" class=\"node\">\n",
       "<title>0</title>\n",
       "<text text-anchor=\"middle\" x=\"125\" y=\"-309.8\" font-family=\"Times,serif\" font-size=\"14.00\">&lt;start&gt;</text>\n",
       "</g>\n",
       "<!-- 1 -->\n",
       "<g id=\"node2\" class=\"node\">\n",
       "<title>1</title>\n",
       "<text text-anchor=\"middle\" x=\"125\" y=\"-258.8\" font-family=\"Times,serif\" font-size=\"14.00\">&lt;expr&gt;</text>\n",
       "</g>\n",
       "<!-- 0&#45;&gt;1 -->\n",
       "<g id=\"edge1\" class=\"edge\">\n",
       "<title>0&#45;&gt;1</title>\n",
       "<path fill=\"none\" stroke=\"black\" d=\"M125,-306.09C125,-299.75 125,-289.75 125,-281.03\"/>\n",
       "<polygon fill=\"black\" stroke=\"black\" points=\"128.5,-281.27 125,-271.27 121.5,-281.27 128.5,-281.27\"/>\n",
       "</g>\n",
       "<!-- 2 -->\n",
       "<g id=\"node3\" class=\"node\">\n",
       "<title>2</title>\n",
       "<text text-anchor=\"middle\" x=\"125\" y=\"-207.8\" font-family=\"Times,serif\" font-size=\"14.00\">&lt;expr_&gt;</text>\n",
       "</g>\n",
       "<!-- 1&#45;&gt;2 -->\n",
       "<g id=\"edge2\" class=\"edge\">\n",
       "<title>1&#45;&gt;2</title>\n",
       "<path fill=\"none\" stroke=\"black\" d=\"M125,-255.09C125,-248.75 125,-238.75 125,-230.03\"/>\n",
       "<polygon fill=\"black\" stroke=\"black\" points=\"128.5,-230.27 125,-220.27 121.5,-230.27 128.5,-230.27\"/>\n",
       "</g>\n",
       "<!-- 3 -->\n",
       "<g id=\"node4\" class=\"node\">\n",
       "<title>3</title>\n",
       "<text text-anchor=\"middle\" x=\"125\" y=\"-156.8\" font-family=\"Times,serif\" font-size=\"14.00\">&lt;expr&gt;</text>\n",
       "</g>\n",
       "<!-- 2&#45;&gt;3 -->\n",
       "<g id=\"edge3\" class=\"edge\">\n",
       "<title>2&#45;&gt;3</title>\n",
       "<path fill=\"none\" stroke=\"black\" d=\"M125,-204.09C125,-197.75 125,-187.75 125,-179.03\"/>\n",
       "<polygon fill=\"black\" stroke=\"black\" points=\"128.5,-179.27 125,-169.27 121.5,-179.27 128.5,-179.27\"/>\n",
       "</g>\n",
       "<!-- 4 -->\n",
       "<g id=\"node5\" class=\"node\">\n",
       "<title>4</title>\n",
       "<text text-anchor=\"middle\" x=\"89\" y=\"-105.8\" font-family=\"Times,serif\" font-size=\"14.00\">&lt;integer&gt;</text>\n",
       "</g>\n",
       "<!-- 3&#45;&gt;4 -->\n",
       "<g id=\"edge4\" class=\"edge\">\n",
       "<title>3&#45;&gt;4</title>\n",
       "<path fill=\"none\" stroke=\"black\" d=\"M120.29,-153.09C115.25,-146.23 107.07,-135.1 100.34,-125.93\"/>\n",
       "<polygon fill=\"black\" stroke=\"black\" points=\"103.23,-123.96 94.49,-117.97 97.59,-128.1 103.23,-123.96\"/>\n",
       "</g>\n",
       "<!-- 8 -->\n",
       "<g id=\"node9\" class=\"node\">\n",
       "<title>8</title>\n",
       "<text text-anchor=\"middle\" x=\"162\" y=\"-105.8\" font-family=\"Times,serif\" font-size=\"14.00\">&lt;integer&gt;</text>\n",
       "</g>\n",
       "<!-- 3&#45;&gt;8 -->\n",
       "<g id=\"edge8\" class=\"edge\">\n",
       "<title>3&#45;&gt;8</title>\n",
       "<path fill=\"none\" stroke=\"black\" d=\"M129.84,-153.09C135.02,-146.23 143.43,-135.1 150.35,-125.93\"/>\n",
       "<polygon fill=\"black\" stroke=\"black\" points=\"153.13,-128.05 156.37,-117.96 147.55,-123.83 153.13,-128.05\"/>\n",
       "</g>\n",
       "<!-- 5 -->\n",
       "<g id=\"node6\" class=\"node\">\n",
       "<title>5</title>\n",
       "<text text-anchor=\"middle\" x=\"21\" y=\"-54.8\" font-family=\"Times,serif\" font-size=\"14.00\">&lt;digit&gt;</text>\n",
       "</g>\n",
       "<!-- 4&#45;&gt;5 -->\n",
       "<g id=\"edge5\" class=\"edge\">\n",
       "<title>4&#45;&gt;5</title>\n",
       "<path fill=\"none\" stroke=\"black\" d=\"M80.11,-102.09C69.67,-94.57 52.09,-81.9 38.8,-72.33\"/>\n",
       "<polygon fill=\"black\" stroke=\"black\" points=\"41.06,-69.64 30.9,-66.64 36.97,-75.32 41.06,-69.64\"/>\n",
       "</g>\n",
       "<!-- 7 -->\n",
       "<g id=\"node8\" class=\"node\">\n",
       "<title>7</title>\n",
       "<text text-anchor=\"middle\" x=\"91\" y=\"-54.8\" font-family=\"Times,serif\" font-size=\"14.00\">&lt;integer_&gt;</text>\n",
       "</g>\n",
       "<!-- 4&#45;&gt;7 -->\n",
       "<g id=\"edge7\" class=\"edge\">\n",
       "<title>4&#45;&gt;7</title>\n",
       "<path fill=\"none\" stroke=\"black\" d=\"M89.26,-102.09C89.52,-95.75 89.93,-85.75 90.28,-77.03\"/>\n",
       "<polygon fill=\"black\" stroke=\"black\" points=\"93.77,-77.4 90.68,-67.26 86.78,-77.11 93.77,-77.4\"/>\n",
       "</g>\n",
       "<!-- 6 -->\n",
       "<g id=\"node7\" class=\"node\">\n",
       "<title>6</title>\n",
       "<text text-anchor=\"middle\" x=\"21\" y=\"-3.8\" font-family=\"Times,serif\" font-size=\"14.00\">1 (49)</text>\n",
       "</g>\n",
       "<!-- 5&#45;&gt;6 -->\n",
       "<g id=\"edge6\" class=\"edge\">\n",
       "<title>5&#45;&gt;6</title>\n",
       "<path fill=\"none\" stroke=\"black\" d=\"M21,-51.09C21,-44.75 21,-34.75 21,-26.03\"/>\n",
       "<polygon fill=\"black\" stroke=\"black\" points=\"24.5,-26.27 21,-16.27 17.5,-26.27 24.5,-26.27\"/>\n",
       "</g>\n",
       "<!-- 9 -->\n",
       "<g id=\"node10\" class=\"node\">\n",
       "<title>9</title>\n",
       "<text text-anchor=\"middle\" x=\"160\" y=\"-54.8\" font-family=\"Times,serif\" font-size=\"14.00\">+ (43)</text>\n",
       "</g>\n",
       "<!-- 8&#45;&gt;9 -->\n",
       "<g id=\"edge9\" class=\"edge\">\n",
       "<title>8&#45;&gt;9</title>\n",
       "<path fill=\"none\" stroke=\"black\" d=\"M161.74,-102.09C161.48,-95.75 161.07,-85.75 160.72,-77.03\"/>\n",
       "<polygon fill=\"black\" stroke=\"black\" points=\"164.22,-77.11 160.32,-67.26 157.23,-77.4 164.22,-77.11\"/>\n",
       "</g>\n",
       "<!-- 10 -->\n",
       "<g id=\"node11\" class=\"node\">\n",
       "<title>10</title>\n",
       "<text text-anchor=\"middle\" x=\"217\" y=\"-54.8\" font-family=\"Times,serif\" font-size=\"14.00\">&lt;digit&gt;</text>\n",
       "</g>\n",
       "<!-- 8&#45;&gt;10 -->\n",
       "<g id=\"edge10\" class=\"edge\">\n",
       "<title>8&#45;&gt;10</title>\n",
       "<path fill=\"none\" stroke=\"black\" d=\"M169.19,-102.09C177.39,-94.79 191.03,-82.64 201.64,-73.18\"/>\n",
       "<polygon fill=\"black\" stroke=\"black\" points=\"203.71,-76.02 208.85,-66.76 199.06,-70.8 203.71,-76.02\"/>\n",
       "</g>\n",
       "<!-- 11 -->\n",
       "<g id=\"node12\" class=\"node\">\n",
       "<title>11</title>\n",
       "<text text-anchor=\"middle\" x=\"217\" y=\"-3.8\" font-family=\"Times,serif\" font-size=\"14.00\">2 (50)</text>\n",
       "</g>\n",
       "<!-- 10&#45;&gt;11 -->\n",
       "<g id=\"edge11\" class=\"edge\">\n",
       "<title>10&#45;&gt;11</title>\n",
       "<path fill=\"none\" stroke=\"black\" d=\"M217,-51.09C217,-44.75 217,-34.75 217,-26.03\"/>\n",
       "<polygon fill=\"black\" stroke=\"black\" points=\"220.5,-26.27 217,-16.27 213.5,-26.27 220.5,-26.27\"/>\n",
       "</g>\n",
       "</g>\n",
       "</svg>\n"
      ],
      "text/plain": [
       "<graphviz.graphs.Digraph at 0x10dd33640>"
      ]
     },
     "execution_count": 253,
     "metadata": {},
     "output_type": "execute_result"
    }
   ],
   "source": [
    "ll1parser = LL1Parser(A2_GRAMMAR)\n",
    "tree = ll1parser.parse('1+2')\n",
    "display_tree(tree)"
   ]
  }
 ],
 "metadata": {
  "ipub": {
   "bibliography": "fuzzingbook.bib",
   "toc": true
  },
  "kernelspec": {
   "display_name": "Python 3",
   "language": "python",
   "name": "python3"
  },
  "language_info": {
   "codemirror_mode": {
    "name": "ipython",
    "version": 3
   },
   "file_extension": ".py",
   "mimetype": "text/x-python",
   "name": "python",
   "nbconvert_exporter": "python",
   "pygments_lexer": "ipython3",
   "version": "3.10.2"
  },
  "toc": {
   "base_numbering": 1,
   "nav_menu": {},
   "number_sections": true,
   "sideBar": true,
   "skip_h1_title": true,
   "title_cell": "",
   "title_sidebar": "Contents",
   "toc_cell": false,
   "toc_position": {},
   "toc_section_display": true,
   "toc_window_display": true
  },
  "toc-autonumbering": false,
  "varInspector": {
   "cols": {
    "lenName": 16,
    "lenType": 16,
    "lenVar": 40
   },
   "kernels_config": {
    "python": {
     "delete_cmd_postfix": "",
     "delete_cmd_prefix": "del ",
     "library": "var_list.py",
     "varRefreshCmd": "print(var_dic_list())"
    },
    "r": {
     "delete_cmd_postfix": ") ",
     "delete_cmd_prefix": "rm(",
     "library": "var_list.r",
     "varRefreshCmd": "cat(var_dic_list()) "
    }
   },
   "types_to_exclude": [
    "module",
    "function",
    "builtin_function_or_method",
    "instance",
    "_Feature"
   ],
   "window_display": false
  },
  "vscode": {
   "interpreter": {
    "hash": "4185989cf89c47c310c2629adcadd634093b57a2c49dffb5ae8d0d14fa302f2b"
   }
  }
 },
 "nbformat": 4,
 "nbformat_minor": 4
}