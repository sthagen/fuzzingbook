{
 "cells": [
  {
   "cell_type": "markdown",
   "metadata": {
    "button": false,
    "new_sheet": false,
    "run_control": {
     "read_only": false
    },
    "slideshow": {
     "slide_type": "slide"
    }
   },
   "source": [
    "# Greybox Fuzzing with Grammars\n",
    "\n",
    "In this chapter, we introduce important extensions to our syntactic fuzzing techniques, all leveraging _syntactic_ parts of _existing inputs_.\n",
    "\n",
    "1. We show how to leverage _dictionaries_ of input fragments during fuzzing. The idea is to integrate such dictionaries into a _mutator_, which would then inject these fragments (typically keywords and other items of importance) into population.\n",
    "\n",
    "2. We show how to combine [parsing](Parser.ipynb) and [fuzzing](GrammarFuzzer.ipynb) with grammars.  This allows to _mutate_ existing inputs while preserving syntactical correctness, and to _reuse_ fragments from existing inputs while generating new ones.  The combination of language-based parsing and generating, as demonstrated in this chapter, has been highly successful in practice: The _LangFuzz_ fuzzer for JavaScript has found more than 2,600 bugs in JavaScript interpreters this way.\n",
    "\n",
    "3. In the previous chapters, we have used grammars in a _black-box_ manner – that is, we have used them to generate inputs regardless of the program being tested.  In this chapter, we introduce mutational _greybox fuzzing with grammars_: Techniques that make use of _feedback from the program under test_ to guide test generations towards specific goals.  As in [lexical greybox fuzzing](GreyboxFuzzer.ipynb), this feedback is mostly _coverage_, allowing us to direct grammar-based testing towards uncovered code parts. This part is inspired by the _AFLSmart_ fuzzer, which combines parsing and mutational fuzzing."
   ]
  },
  {
   "cell_type": "code",
   "execution_count": 1,
   "metadata": {
    "execution": {
     "iopub.execute_input": "2023-01-07T14:37:12.462462Z",
     "iopub.status.busy": "2023-01-07T14:37:12.461472Z",
     "iopub.status.idle": "2023-01-07T14:37:12.523938Z",
     "shell.execute_reply": "2023-01-07T14:37:12.524215Z"
    },
    "slideshow": {
     "slide_type": "skip"
    }
   },
   "outputs": [
    {
     "data": {
      "text/html": [
       "\n",
       "        <iframe\n",
       "            width=\"640\"\n",
       "            height=\"360\"\n",
       "            src=\"https://www.youtube-nocookie.com/embed/hSGzcjUj7Vs\"\n",
       "            frameborder=\"0\"\n",
       "            allowfullscreen\n",
       "            \n",
       "        ></iframe>\n",
       "        "
      ],
      "text/plain": [
       "<IPython.lib.display.IFrame at 0x105fd2fb0>"
      ]
     },
     "execution_count": 1,
     "metadata": {},
     "output_type": "execute_result"
    }
   ],
   "source": [
    "from bookutils import YouTubeVideo\n",
    "YouTubeVideo('hSGzcjUj7Vs')"
   ]
  },
  {
   "cell_type": "markdown",
   "metadata": {
    "button": false,
    "new_sheet": false,
    "run_control": {
     "read_only": false
    },
    "slideshow": {
     "slide_type": "subslide"
    }
   },
   "source": [
    "**Prerequisites**\n",
    "\n",
    "* We build on several concepts from [the chapter on greybox fuzzing (without grammars)](GreyboxFuzzer.ipynb).\n",
    "* As the title suggests, you should know how to fuzz with grammars [from the chapter on grammars](Grammars.ipynb)."
   ]
  },
  {
   "cell_type": "markdown",
   "metadata": {
    "slideshow": {
     "slide_type": "skip"
    }
   },
   "source": [
    "## Synopsis\n",
    "<!-- Automatically generated. Do not edit. -->\n",
    "\n",
    "To [use the code provided in this chapter](Importing.ipynb), write\n",
    "\n",
    "```python\n",
    ">>> from fuzzingbook.GreyboxGrammarFuzzer import <identifier>\n",
    "```\n",
    "\n",
    "and then make use of the following features.\n",
    "\n",
    "\n",
    "This chapter introduces advanced methods for language-based grey-box fuzzing inspired by the _LangFuzz_ and _AFLSmart_ fuzzers.\n",
    "\n",
    "### Fuzzing with Dictionaries\n",
    "\n",
    "Rather than mutating strings randomly, the `DictMutator` class allows inserting tokens from a dictionary, thus increasing fuzzer performance. The dictionary comes as a list of strings, out of which random elements are picked and inserted - in addition to the given mutations such as deleting or inserting individual bytes.\n",
    "\n",
    "```python\n",
    ">>> dict_mutator = DictMutator([\"<a>\", \"</a>\", \"<a/>\", \"='a'\"])\n",
    ">>> seeds = [\"<html><head><title>Hello</title></head><body>World<br/></body></html>\"]\n",
    ">>> for i in range(10):\n",
    ">>>     print(dict_mutator.mutate(seeds[0]))\n",
    "<html><head><tatle>Hello</title></head><body>World<br/></body></html>\n",
    "<h</a>tml><head><title>Hello</title></head><body>World<br/></body></html>\n",
    "<html><head><title>He,lo</title></head><body>World<br/></body></html>\n",
    "<h<a/>tml><head><title>Hello</title></head><body>World<br/></body></html>\n",
    "<html><head><title>Hello</title></head><body>World<br/></body></htm\"l>\n",
    "<html><head><title>Hello<</a>/title></head><body>World<br/></body></html>\n",
    "<hml><head><title>Hello</title></head><body>World<br/></body></html>\n",
    "<h6tml><head><title>Hello</title></head><body>World<br/></body></html>\n",
    "<html><head><title>Hello</title></head><body>World<br/</body></html>\n",
    "<hml><head><title>Hello</title></head><body>World<br/></body></html>\n",
    "\n",
    "```\n",
    "This `DictMutator` can be used as an argument to `GreyboxFuzzer`:\n",
    "\n",
    "```python\n",
    ">>> runner = FunctionCoverageRunner(my_parser)\n",
    ">>> dict_fuzzer = GreyboxFuzzer(seeds, dict_mutator, PowerSchedule())\n",
    ">>> dict_fuzzer_outcome = dict_fuzzer.runs(runner, trials=5)\n",
    "```\n",
    "![](PICS/GreyboxGrammarFuzzer-synopsis-1.svg)\n",
    "\n",
    "### Fuzzing with Input Fragments\n",
    "\n",
    "The `LangFuzzer` class introduces a _language-aware_ fuzzer that can recombine fragments from existing inputs – inspired by the highly effective `LangFuzz` fuzzer. At its core is a `FragmentMutator` class that that takes a [_parser_](Parser.ipynb) as argument:\n",
    "\n",
    "```python\n",
    ">>> parser = EarleyParser(XML_GRAMMAR, tokens=XML_TOKENS)\n",
    ">>> mutator = FragmentMutator(parser)\n",
    "```\n",
    "The fuzzer itself is initialized with a list of seeds, the above `FragmentMutator`, and a power schedule:\n",
    "\n",
    "```python\n",
    ">>> seeds = [\"<html><head><title>Hello</title></head><body>World<br/></body></html>\"]\n",
    ">>> schedule = PowerSchedule()\n",
    ">>> lang_fuzzer = LangFuzzer(seeds, mutator, schedule)\n",
    ">>> for i in range(10):\n",
    ">>>     print(lang_fuzzer.fuzz())\n",
    "<html><head><title>Hello</title></head><body>World<br/></body></html>\n",
    "<head><title></title></head><body>World<br/></body>\n",
    "<html><head>Hello</title></head><body>World<br/></body></html>\n",
    "<html><head><title><head><title>Hello</title></head><body>World<br/></body></title></head><body>World<br/></body></html>\n",
    "<html><head><title>Hello</title><body>World<br/></body></html>\n",
    "<html><head></head><body>World<br/></body></html>\n",
    "<html><head><title>Hello</title></head><body>Hello</body></html>\n",
    "<html><head><title>Hello</title></head>World<br/></body></html>\n",
    "<html><head><title>Hello</title></head><body>World<br/></html>\n",
    "<html><head><title></title></head><body>World<br/></body></html>\n",
    "\n",
    "```\n",
    "![](PICS/GreyboxGrammarFuzzer-synopsis-2.svg)\n",
    "\n",
    "### Fuzzing with Input Regions\n",
    "\n",
    "The `GreyboxGrammarFuzzer` class uses two mutators:\n",
    "* a _tree mutator_ (a `RegionMutator` object) that can parse existing strings to identify _regions_ in that string to be swapped or deleted.\n",
    "* a _byte mutator_ to apply bit- and character-level mutations.\n",
    "\n",
    "```python\n",
    ">>> tree_mutator = RegionMutator(parser)\n",
    ">>> byte_mutator = Mutator()\n",
    "```\n",
    "The _schedule_ for the `GreyboxGrammarFuzzer` class can be a regular `PowerSchedule` object. However, a more sophisticated schedule is provided by `AFLSmartSchedule`, which assigns more [energy](GreyboxFuzzer.ipynb#Power-Schedules) to seeds that have a higher degree of validity.\n",
    "\n",
    "```python\n",
    ">>> schedule = AFLSmartSchedule(parser)\n",
    "```\n",
    "The `GreyboxGrammarFuzzer` constructor takes a set of seeds as well as the two mutators and the schedule:\n",
    "\n",
    "```python\n",
    ">>> aflsmart_fuzzer = GreyboxGrammarFuzzer(seeds, byte_mutator, tree_mutator, schedule)\n",
    "```\n",
    "As it relies on code coverage, it is typically combined with a `FunctionCoverageRunner`:\n",
    "\n",
    "```python\n",
    ">>> runner = FunctionCoverageRunner(my_parser)\n",
    ">>> aflsmart_outcome = aflsmart_fuzzer.runs(runner, trials=5)\n",
    "```\n",
    "![](PICS/GreyboxGrammarFuzzer-synopsis-3.svg)\n",
    "\n"
   ]
  },
  {
   "cell_type": "markdown",
   "metadata": {
    "slideshow": {
     "slide_type": "slide"
    }
   },
   "source": [
    "## Background\n",
    "First, we [recall](GreyboxFuzzer.ipynb#Ingredients-for-Greybox-Fuzzing) a few basic ingredients for mutational fuzzers.\n",
    "* **Seed**. A _seed_ is an input that is used by the fuzzer to generate new inputs by applying a sequence of mutations.\n",
    "* **Mutator**. A _mutator_ implements a set of mutation operators that applied to an input produce a slightly modified input.\n",
    "* **PowerSchedule**. A _power schedule_ assigns _energy_ to a seed. A seed with higher energy is fuzzed more often throughout the fuzzing campaign.\n",
    "* **AdvancedMutationFuzzer**. Our _mutational blackbox fuzzer_ generates inputs by mutating seeds in an initial population of inputs.\n",
    "* **GreyboxFuzzer**. Our _greybox fuzzer_ dynamically adds inputs to the population of seeds that increased coverage.\n",
    "* **FunctionCoverageRunner**. Our _function coverage runner_ collects coverage information for the execution of a given Python function.\n",
    "\n",
    "Let's try to get a feeling for these concepts."
   ]
  },
  {
   "cell_type": "code",
   "execution_count": 2,
   "metadata": {
    "execution": {
     "iopub.execute_input": "2023-01-07T14:37:12.526806Z",
     "iopub.status.busy": "2023-01-07T14:37:12.526427Z",
     "iopub.status.idle": "2023-01-07T14:37:12.527506Z",
     "shell.execute_reply": "2023-01-07T14:37:12.527717Z"
    },
    "slideshow": {
     "slide_type": "skip"
    }
   },
   "outputs": [],
   "source": [
    "import bookutils"
   ]
  },
  {
   "cell_type": "code",
   "execution_count": 3,
   "metadata": {
    "execution": {
     "iopub.execute_input": "2023-01-07T14:37:12.529554Z",
     "iopub.status.busy": "2023-01-07T14:37:12.529235Z",
     "iopub.status.idle": "2023-01-07T14:37:12.530499Z",
     "shell.execute_reply": "2023-01-07T14:37:12.530683Z"
    },
    "slideshow": {
     "slide_type": "skip"
    }
   },
   "outputs": [],
   "source": [
    "from typing import List, Set, Dict, Sequence, cast"
   ]
  },
  {
   "cell_type": "code",
   "execution_count": 4,
   "metadata": {
    "execution": {
     "iopub.execute_input": "2023-01-07T14:37:12.532514Z",
     "iopub.status.busy": "2023-01-07T14:37:12.532210Z",
     "iopub.status.idle": "2023-01-07T14:37:13.008785Z",
     "shell.execute_reply": "2023-01-07T14:37:13.008996Z"
    },
    "slideshow": {
     "slide_type": "skip"
    }
   },
   "outputs": [],
   "source": [
    "from Fuzzer import Fuzzer\n",
    "from GreyboxFuzzer import Mutator, Seed, PowerSchedule\n",
    "from GreyboxFuzzer import AdvancedMutationFuzzer, GreyboxFuzzer\n",
    "from MutationFuzzer import FunctionCoverageRunner"
   ]
  },
  {
   "cell_type": "markdown",
   "metadata": {
    "slideshow": {
     "slide_type": "subslide"
    }
   },
   "source": [
    "The following command applies a mutation to the input \"Hello World\"."
   ]
  },
  {
   "cell_type": "code",
   "execution_count": 5,
   "metadata": {
    "execution": {
     "iopub.execute_input": "2023-01-07T14:37:13.010900Z",
     "iopub.status.busy": "2023-01-07T14:37:13.010316Z",
     "iopub.status.idle": "2023-01-07T14:37:13.012372Z",
     "shell.execute_reply": "2023-01-07T14:37:13.012576Z"
    },
    "slideshow": {
     "slide_type": "fragment"
    }
   },
   "outputs": [
    {
     "data": {
      "text/plain": [
       "'Lello World'"
      ]
     },
     "execution_count": 5,
     "metadata": {},
     "output_type": "execute_result"
    }
   ],
   "source": [
    "Mutator().mutate(\"Hello World\")"
   ]
  },
  {
   "cell_type": "markdown",
   "metadata": {
    "slideshow": {
     "slide_type": "fragment"
    }
   },
   "source": [
    "The default power schedule assigns energy uniformly across all seeds. Let's check whether this works.\n",
    "\n",
    "We choose 10k times from a population of three seeds.  As we see in the `hits` counter, each seed is chosen about a third of the time."
   ]
  },
  {
   "cell_type": "code",
   "execution_count": 6,
   "metadata": {
    "execution": {
     "iopub.execute_input": "2023-01-07T14:37:13.036011Z",
     "iopub.status.busy": "2023-01-07T14:37:13.035520Z",
     "iopub.status.idle": "2023-01-07T14:37:13.037490Z",
     "shell.execute_reply": "2023-01-07T14:37:13.037688Z"
    },
    "slideshow": {
     "slide_type": "subslide"
    }
   },
   "outputs": [
    {
     "data": {
      "text/plain": [
       "{'A': 3387, 'B': 3255, 'C': 3358}"
      ]
     },
     "execution_count": 6,
     "metadata": {},
     "output_type": "execute_result"
    }
   ],
   "source": [
    "population = [Seed(\"A\"), Seed(\"B\"), Seed(\"C\")]\n",
    "schedule = PowerSchedule()\n",
    "hits = {\n",
    "    \"A\": 0,\n",
    "    \"B\": 0,\n",
    "    \"C\": 0\n",
    "}\n",
    "\n",
    "for i in range(10000):\n",
    "    seed = schedule.choose(population)\n",
    "    hits[seed.data] += 1\n",
    "\n",
    "hits"
   ]
  },
  {
   "cell_type": "markdown",
   "metadata": {
    "slideshow": {
     "slide_type": "subslide"
    }
   },
   "source": [
    "Before explaining the function coverage runner, lets import Python's HTML parser as example..."
   ]
  },
  {
   "cell_type": "code",
   "execution_count": 7,
   "metadata": {
    "execution": {
     "iopub.execute_input": "2023-01-07T14:37:13.039649Z",
     "iopub.status.busy": "2023-01-07T14:37:13.039348Z",
     "iopub.status.idle": "2023-01-07T14:37:13.040528Z",
     "shell.execute_reply": "2023-01-07T14:37:13.040728Z"
    },
    "slideshow": {
     "slide_type": "skip"
    }
   },
   "outputs": [],
   "source": [
    "from html.parser import HTMLParser"
   ]
  },
  {
   "cell_type": "markdown",
   "metadata": {
    "slideshow": {
     "slide_type": "fragment"
    }
   },
   "source": [
    "... and create a _wrapper function_ that passes each input into a new parser object."
   ]
  },
  {
   "cell_type": "code",
   "execution_count": 8,
   "metadata": {
    "execution": {
     "iopub.execute_input": "2023-01-07T14:37:13.042159Z",
     "iopub.status.busy": "2023-01-07T14:37:13.041830Z",
     "iopub.status.idle": "2023-01-07T14:37:13.043611Z",
     "shell.execute_reply": "2023-01-07T14:37:13.043802Z"
    },
    "slideshow": {
     "slide_type": "fragment"
    }
   },
   "outputs": [],
   "source": [
    "def my_parser(inp: str) -> None:\n",
    "    parser = HTMLParser()\n",
    "    parser.feed(inp)"
   ]
  },
  {
   "cell_type": "markdown",
   "metadata": {
    "slideshow": {
     "slide_type": "fragment"
    }
   },
   "source": [
    "The `FunctionCoverageRunner` constructor takes a Python `function` to execute. The function `run()` takes an input, passes it on to the Python `function`, and collects the coverage information for this execution. The function `coverage()` returns a list of tuples `(function name, line number)` for each statement that has been covered in the Python `function`."
   ]
  },
  {
   "cell_type": "code",
   "execution_count": 9,
   "metadata": {
    "execution": {
     "iopub.execute_input": "2023-01-07T14:37:13.046223Z",
     "iopub.status.busy": "2023-01-07T14:37:13.045881Z",
     "iopub.status.idle": "2023-01-07T14:37:13.047386Z",
     "shell.execute_reply": "2023-01-07T14:37:13.047591Z"
    },
    "slideshow": {
     "slide_type": "subslide"
    }
   },
   "outputs": [
    {
     "data": {
      "text/plain": [
       "[('goahead', 138),\n",
       " ('goahead', 147),\n",
       " ('goahead', 165),\n",
       " ('run_function', 132),\n",
       " ('goahead', 162)]"
      ]
     },
     "execution_count": 9,
     "metadata": {},
     "output_type": "execute_result"
    }
   ],
   "source": [
    "runner = FunctionCoverageRunner(my_parser)\n",
    "runner.run(\"Hello World\")\n",
    "cov = runner.coverage()\n",
    "\n",
    "list(cov)[:5]  # Print 5 statements covered in HTMLParser"
   ]
  },
  {
   "cell_type": "markdown",
   "metadata": {
    "slideshow": {
     "slide_type": "fragment"
    }
   },
   "source": [
    "Our greybox fuzzer takes a seed population, mutator, and power schedule. Let's generate 5000 fuzz inputs starting with an \"empty\" seed corpus."
   ]
  },
  {
   "cell_type": "code",
   "execution_count": 10,
   "metadata": {
    "execution": {
     "iopub.execute_input": "2023-01-07T14:37:13.049301Z",
     "iopub.status.busy": "2023-01-07T14:37:13.049003Z",
     "iopub.status.idle": "2023-01-07T14:37:13.050185Z",
     "shell.execute_reply": "2023-01-07T14:37:13.050347Z"
    },
    "slideshow": {
     "slide_type": "skip"
    }
   },
   "outputs": [],
   "source": [
    "import time\n",
    "import random"
   ]
  },
  {
   "cell_type": "code",
   "execution_count": 11,
   "metadata": {
    "execution": {
     "iopub.execute_input": "2023-01-07T14:37:13.052123Z",
     "iopub.status.busy": "2023-01-07T14:37:13.051842Z",
     "iopub.status.idle": "2023-01-07T14:37:13.053225Z",
     "shell.execute_reply": "2023-01-07T14:37:13.053418Z"
    },
    "slideshow": {
     "slide_type": "subslide"
    }
   },
   "outputs": [],
   "source": [
    "n = 5000\n",
    "seed_input = \" \"  # empty seed\n",
    "runner = FunctionCoverageRunner(my_parser)\n",
    "fuzzer = GreyboxFuzzer([seed_input], Mutator(), PowerSchedule())"
   ]
  },
  {
   "cell_type": "code",
   "execution_count": 12,
   "metadata": {
    "execution": {
     "iopub.execute_input": "2023-01-07T14:37:13.085513Z",
     "iopub.status.busy": "2023-01-07T14:37:13.085180Z",
     "iopub.status.idle": "2023-01-07T14:37:13.465732Z",
     "shell.execute_reply": "2023-01-07T14:37:13.465928Z"
    },
    "slideshow": {
     "slide_type": "fragment"
    }
   },
   "outputs": [],
   "source": [
    "start = time.time()\n",
    "fuzzer.runs(runner, trials=n)\n",
    "end = time.time()"
   ]
  },
  {
   "cell_type": "code",
   "execution_count": 13,
   "metadata": {
    "execution": {
     "iopub.execute_input": "2023-01-07T14:37:13.468332Z",
     "iopub.status.busy": "2023-01-07T14:37:13.467958Z",
     "iopub.status.idle": "2023-01-07T14:37:13.469713Z",
     "shell.execute_reply": "2023-01-07T14:37:13.469909Z"
    },
    "slideshow": {
     "slide_type": "fragment"
    }
   },
   "outputs": [
    {
     "data": {
      "text/plain": [
       "'It took the fuzzer 0.41 seconds to generate and execute 5000 inputs.'"
      ]
     },
     "execution_count": 13,
     "metadata": {},
     "output_type": "execute_result"
    }
   ],
   "source": [
    "\"It took the fuzzer %0.2f seconds to generate and execute %d inputs.\" % (end - start, n)"
   ]
  },
  {
   "cell_type": "code",
   "execution_count": 14,
   "metadata": {
    "execution": {
     "iopub.execute_input": "2023-01-07T14:37:13.472049Z",
     "iopub.status.busy": "2023-01-07T14:37:13.471688Z",
     "iopub.status.idle": "2023-01-07T14:37:13.473174Z",
     "shell.execute_reply": "2023-01-07T14:37:13.473409Z"
    },
    "slideshow": {
     "slide_type": "fragment"
    }
   },
   "outputs": [
    {
     "data": {
      "text/plain": [
       "'During this fuzzing campaign, we covered 73 statements.'"
      ]
     },
     "execution_count": 14,
     "metadata": {},
     "output_type": "execute_result"
    }
   ],
   "source": [
    "\"During this fuzzing campaign, we covered %d statements.\" % len(runner.coverage())"
   ]
  },
  {
   "cell_type": "markdown",
   "metadata": {
    "slideshow": {
     "slide_type": "slide"
    }
   },
   "source": [
    "## Fuzzing with Dictionaries\n",
    "\n",
    "To fuzz our HTML parser, it may be useful to inform a mutational fuzzer about important keywords in the input – that is, important HTML keywords. The general idea is to have a _dictionary_ of pre-defined useful inputs that could then be inserted as such when mutating an input.\n",
    "\n",
    "This concept is illustrated in the following diagram. When mutating an input, we may insert given keywords from the dictionary (in red).\n",
    "\n",
    "![](PICS/GreyboxGrammarFuzzer-Dict.gif)"
   ]
  },
  {
   "cell_type": "markdown",
   "metadata": {
    "slideshow": {
     "slide_type": "fragment"
    }
   },
   "source": [
    "To implement this concept, we extend our mutator to consider keywords from a dictionary."
   ]
  },
  {
   "cell_type": "code",
   "execution_count": 15,
   "metadata": {
    "execution": {
     "iopub.execute_input": "2023-01-07T14:37:13.476511Z",
     "iopub.status.busy": "2023-01-07T14:37:13.476115Z",
     "iopub.status.idle": "2023-01-07T14:37:13.477179Z",
     "shell.execute_reply": "2023-01-07T14:37:13.477398Z"
    },
    "slideshow": {
     "slide_type": "subslide"
    }
   },
   "outputs": [],
   "source": [
    "class DictMutator(Mutator):\n",
    "    \"\"\"Mutate strings using keywords from a dictionary\"\"\"\n",
    "\n",
    "    def __init__(self, dictionary: List[str]) -> None:\n",
    "        \"\"\"Constructor. `dictionary` is the list of keywords to use.\"\"\"\n",
    "        super().__init__()\n",
    "        self.dictionary = dictionary\n",
    "        self.mutators.append(self.insert_from_dictionary)\n",
    "\n",
    "    def insert_from_dictionary(self, s: str) -> str:\n",
    "        \"\"\"Returns s with a keyword from the dictionary inserted\"\"\"\n",
    "        pos = random.randint(0, len(s))\n",
    "        random_keyword = random.choice(self.dictionary)\n",
    "        return s[:pos] + random_keyword + s[pos:]"
   ]
  },
  {
   "cell_type": "markdown",
   "metadata": {
    "slideshow": {
     "slide_type": "subslide"
    }
   },
   "source": [
    "Let's try to add a few HTML tags and attributes and see whether the coverage with `DictMutator` increases."
   ]
  },
  {
   "cell_type": "code",
   "execution_count": 16,
   "metadata": {
    "execution": {
     "iopub.execute_input": "2023-01-07T14:37:13.571401Z",
     "iopub.status.busy": "2023-01-07T14:37:13.528320Z",
     "iopub.status.idle": "2023-01-07T14:37:16.422797Z",
     "shell.execute_reply": "2023-01-07T14:37:16.423133Z"
    },
    "slideshow": {
     "slide_type": "fragment"
    }
   },
   "outputs": [
    {
     "data": {
      "text/plain": [
       "'It took the fuzzer 2.94 seconds to generate and execute 5000 inputs.'"
      ]
     },
     "execution_count": 16,
     "metadata": {},
     "output_type": "execute_result"
    }
   ],
   "source": [
    "runner = FunctionCoverageRunner(my_parser)\n",
    "dict_mutator = DictMutator([\"<a>\", \"</a>\", \"<a/>\", \"='a'\"])\n",
    "dict_fuzzer = GreyboxFuzzer([seed_input], dict_mutator, PowerSchedule())\n",
    "\n",
    "start = time.time()\n",
    "dict_fuzzer.runs(runner, trials=n)\n",
    "end = time.time()\n",
    "\n",
    "\"It took the fuzzer %0.2f seconds to generate and execute %d inputs.\" % (end - start, n)"
   ]
  },
  {
   "cell_type": "markdown",
   "metadata": {
    "slideshow": {
     "slide_type": "fragment"
    }
   },
   "source": [
    "Clearly, it takes longer. In our experience, this means more code is covered:"
   ]
  },
  {
   "cell_type": "code",
   "execution_count": 17,
   "metadata": {
    "execution": {
     "iopub.execute_input": "2023-01-07T14:37:16.425065Z",
     "iopub.status.busy": "2023-01-07T14:37:16.424226Z",
     "iopub.status.idle": "2023-01-07T14:37:16.426423Z",
     "shell.execute_reply": "2023-01-07T14:37:16.426735Z"
    },
    "slideshow": {
     "slide_type": "subslide"
    }
   },
   "outputs": [
    {
     "data": {
      "text/plain": [
       "'During this fuzzing campaign, we covered 110 statements.'"
      ]
     },
     "execution_count": 17,
     "metadata": {},
     "output_type": "execute_result"
    }
   ],
   "source": [
    "\"During this fuzzing campaign, we covered %d statements.\" % len(runner.coverage())"
   ]
  },
  {
   "cell_type": "markdown",
   "metadata": {
    "slideshow": {
     "slide_type": "fragment"
    }
   },
   "source": [
    "How do the fuzzers compare in terms of coverage over time?"
   ]
  },
  {
   "cell_type": "code",
   "execution_count": 18,
   "metadata": {
    "execution": {
     "iopub.execute_input": "2023-01-07T14:37:16.428492Z",
     "iopub.status.busy": "2023-01-07T14:37:16.428175Z",
     "iopub.status.idle": "2023-01-07T14:37:16.429589Z",
     "shell.execute_reply": "2023-01-07T14:37:16.429842Z"
    },
    "slideshow": {
     "slide_type": "skip"
    }
   },
   "outputs": [],
   "source": [
    "from Coverage import population_coverage"
   ]
  },
  {
   "cell_type": "code",
   "execution_count": 19,
   "metadata": {
    "execution": {
     "iopub.execute_input": "2023-01-07T14:37:16.431799Z",
     "iopub.status.busy": "2023-01-07T14:37:16.431497Z",
     "iopub.status.idle": "2023-01-07T14:37:16.432681Z",
     "shell.execute_reply": "2023-01-07T14:37:16.432936Z"
    },
    "slideshow": {
     "slide_type": "skip"
    }
   },
   "outputs": [],
   "source": [
    "import matplotlib.pyplot as plt  # type: ignore"
   ]
  },
  {
   "cell_type": "code",
   "execution_count": 20,
   "metadata": {
    "execution": {
     "iopub.execute_input": "2023-01-07T14:37:16.518223Z",
     "iopub.status.busy": "2023-01-07T14:37:16.476676Z",
     "iopub.status.idle": "2023-01-07T14:37:18.649021Z",
     "shell.execute_reply": "2023-01-07T14:37:18.649281Z"
    },
    "slideshow": {
     "slide_type": "fragment"
    }
   },
   "outputs": [
    {
     "data": {
      "image/png": "[encoded data removed]",
      "text/plain": [
       "<Figure size 432x288 with 1 Axes>"
      ]
     },
     "metadata": {
      "needs_background": "light"
     },
     "output_type": "display_data"
    }
   ],
   "source": [
    "_, dict_cov = population_coverage(dict_fuzzer.inputs, my_parser)\n",
    "_, fuzz_cov = population_coverage(fuzzer.inputs, my_parser)\n",
    "line_dict, = plt.plot(dict_cov, label=\"With Dictionary\")\n",
    "line_fuzz, = plt.plot(fuzz_cov, label=\"Without Dictionary\")\n",
    "plt.legend(handles=[line_dict, line_fuzz])\n",
    "plt.xlim(0, n)\n",
    "plt.title('Coverage over time')\n",
    "plt.xlabel('# of inputs')\n",
    "plt.ylabel('lines covered');"
   ]
  },
  {
   "cell_type": "markdown",
   "metadata": {
    "slideshow": {
     "slide_type": "subslide"
    }
   },
   "source": [
    "<!-- \\todo{Andreas: Section on mining keywords using parser-directed fuzzing or AUTOGRAM?} -->\n",
    "\n",
    "***Summary.*** Informing the fuzzer about important keywords already goes a long way towards achieving lots of coverage quickly.\n",
    "\n",
    "***Try it.*** Open this chapter as Jupyter notebook and add other HTML-related keywords to the dictionary in order to see whether the difference in coverage actually increases (given the same budget of 5k generated test inputs).\n",
    "\n",
    "***Read up.*** Michał Zalewski, author of AFL, wrote several great blog posts on [making up grammars with a dictionary in hand](https://lcamtuf.blogspot.com/2015/01/afl-fuzz-making-up-grammar-with.html) and [pulling JPEGs out of thin air](https://lcamtuf.blogspot.com/2014/11/pulling-jpegs-out-of-thin-air.html)!"
   ]
  },
  {
   "cell_type": "markdown",
   "metadata": {
    "slideshow": {
     "slide_type": "slide"
    },
    "tags": [],
    "toc-hr-collapsed": false
   },
   "source": [
    "## Fuzzing with Input Fragments\n",
    "\n",
    "While dictionaries are helpful to inject important keywords into seed inputs, they do not allow to maintain the structural integrity of the generated inputs. Instead, we need to make the fuzzer aware of the _input structure_. We can do this using [grammars](Grammars.ipynb). Our first approach \n",
    "\n",
    "1. [parses](Parser.ipynb) the seed inputs, \n",
    "2. disassembles them into input fragments, and \n",
    "3. generates new files by reassembling these fragments according to the rules of the grammar."
   ]
  },
  {
   "cell_type": "markdown",
   "metadata": {
    "slideshow": {
     "slide_type": "subslide"
    }
   },
   "source": [
    "This combination of _parsing_ and _fuzzing_ can be very powerful. For instance, we can _swap_ existing substructures in an input:\n",
    "\n",
    "![](PICS/GreyboxGrammarFuzzer-Swap.gif)"
   ]
  },
  {
   "cell_type": "markdown",
   "metadata": {
    "slideshow": {
     "slide_type": "fragment"
    }
   },
   "source": [
    "We can also _replace_ existing substructures by newly generated ones:\n",
    "\n",
    "![](PICS/GreyboxGrammarFuzzer-Gen.gif)"
   ]
  },
  {
   "cell_type": "markdown",
   "metadata": {
    "slideshow": {
     "slide_type": "fragment"
    }
   },
   "source": [
    "All these operations take place on [derivation trees](GrammarFuzzer.ipynb), which can be parsed from and produced into strings at any time."
   ]
  },
  {
   "cell_type": "markdown",
   "metadata": {
    "slideshow": {
     "slide_type": "subslide"
    }
   },
   "source": [
    "### Parsing and Recombining JavaScript, or How to Make 50,000 USD in Four Weeks\n",
    "\n",
    "In \"Fuzzing with Code Fragments\" \\cite{Holler2012}, Holler, Herzig, and Zeller apply these steps to fuzz a JavaScript interpreter.  They use a JavaScript grammar to\n",
    "\n",
    "1. _parse_ (valid) JavaScript inputs into parse trees,\n",
    "2. _disassemble_ them into fragments (subtrees),\n",
    "3. _recombine_ these fragments into valid JavaScript programs again, and\n",
    "4. _feed_ these programs into a JavaScript interpreter for execution."
   ]
  },
  {
   "cell_type": "markdown",
   "metadata": {
    "slideshow": {
     "slide_type": "subslide"
    }
   },
   "source": [
    "As in most fuzzing scenarios, the aim is to cause the JavaScript interpreter to crash.  Here is an example of LangFuzz-generated JavaScript code (from \\cite{Holler2012}) that caused a crash in the Mozilla JavaScript interpreter:\n",
    "\n",
    "```javascript\n",
    "var haystack = \"foo\";\n",
    "var re_text = \"^foo\";\n",
    "haystack += \"x\";\n",
    "re_text += \"(x)\";\n",
    "var re = new RegExp(re_text);\n",
    "re.test(haystack);\n",
    "RegExp.input = Number();\n",
    "print(RegExp.$1);\n",
    "```"
   ]
  },
  {
   "cell_type": "markdown",
   "metadata": {
    "slideshow": {
     "slide_type": "subslide"
    }
   },
   "source": [
    "From a crash of the JavaScript interpreter, it is frequently possible to construct an *exploit* that will not only crash the interpreter, but instead have it execute code under the attacker's control.  Therefore, such crashes are serious flaws, which is why you get a bug bounty if you report them."
   ]
  },
  {
   "cell_type": "markdown",
   "metadata": {
    "slideshow": {
     "slide_type": "subslide"
    }
   },
   "source": [
    "In the first four weeks of running his _LangFuzz_ tool, Christian Holler, first author of that paper, netted _more than USD 50,000 in bug bounties_.  To date, LangFuzz has found more than 2,600 bugs in the JavaScript browsers of Mozilla Firefox, Google Chrome, and Microsoft Edge.  If you use any of these browsers (say, on your Android phone), the combination of parsing and fuzzing has contributed significantly in making your browsing session secure.\n",
    "\n",
    "(Note that these are the same Holler and Zeller who are co-authors of this book.  If you ever wondered why we devote a couple of chapters on grammar-based fuzzing, that's because we have had some great experience with it.)"
   ]
  },
  {
   "attachments": {},
   "cell_type": "markdown",
   "metadata": {
    "slideshow": {
     "slide_type": "subslide"
    }
   },
   "source": [
    "### Parsing and Recombining HTML\n",
    "\n",
    "In this book, let us stay with HTML input for a while.  To generate valid HTML inputs for our Python `HTMLParser`, we should first define a simple grammar. It allows defining HTML tags with attributes. Our context-free grammar does not require that opening and closing tags must match. However, we will see that such context-sensitive features can be maintained in the derived input fragments, and thus in the generated inputs."
   ]
  },
  {
   "cell_type": "code",
   "execution_count": 21,
   "metadata": {
    "execution": {
     "iopub.execute_input": "2023-01-07T14:37:18.651715Z",
     "iopub.status.busy": "2023-01-07T14:37:18.651414Z",
     "iopub.status.idle": "2023-01-07T14:37:18.652721Z",
     "shell.execute_reply": "2023-01-07T14:37:18.652918Z"
    },
    "slideshow": {
     "slide_type": "skip"
    }
   },
   "outputs": [],
   "source": [
    "import string"
   ]
  },
  {
   "cell_type": "code",
   "execution_count": 22,
   "metadata": {
    "execution": {
     "iopub.execute_input": "2023-01-07T14:37:18.654926Z",
     "iopub.status.busy": "2023-01-07T14:37:18.654608Z",
     "iopub.status.idle": "2023-01-07T14:37:18.722120Z",
     "shell.execute_reply": "2023-01-07T14:37:18.722334Z"
    },
    "slideshow": {
     "slide_type": "skip"
    }
   },
   "outputs": [],
   "source": [
    "from Grammars import is_valid_grammar, srange, Grammar"
   ]
  },
  {
   "cell_type": "code",
   "execution_count": 23,
   "metadata": {
    "execution": {
     "iopub.execute_input": "2023-01-07T14:37:18.724354Z",
     "iopub.status.busy": "2023-01-07T14:37:18.724025Z",
     "iopub.status.idle": "2023-01-07T14:37:18.725794Z",
     "shell.execute_reply": "2023-01-07T14:37:18.725609Z"
    },
    "slideshow": {
     "slide_type": "fragment"
    }
   },
   "outputs": [],
   "source": [
    "XML_TOKENS: Set[str] = {\"<id>\", \"<text>\"}"
   ]
  },
  {
   "cell_type": "code",
   "execution_count": 24,
   "metadata": {
    "execution": {
     "iopub.execute_input": "2023-01-07T14:37:18.728060Z",
     "iopub.status.busy": "2023-01-07T14:37:18.726962Z",
     "iopub.status.idle": "2023-01-07T14:37:18.729404Z",
     "shell.execute_reply": "2023-01-07T14:37:18.729611Z"
    },
    "slideshow": {
     "slide_type": "subslide"
    }
   },
   "outputs": [],
   "source": [
    "XML_GRAMMAR: Grammar = {\n",
    "    \"<start>\": [\"<xml-tree>\"],\n",
    "    \"<xml-tree>\": [\"<text>\",\n",
    "                   \"<xml-open-tag><xml-tree><xml-close-tag>\",\n",
    "                   \"<xml-openclose-tag>\",\n",
    "                   \"<xml-tree><xml-tree>\"],\n",
    "    \"<xml-open-tag>\":      [\"<<id>>\", \"<<id> <xml-attribute>>\"],\n",
    "    \"<xml-openclose-tag>\": [\"<<id>/>\", \"<<id> <xml-attribute>/>\"],\n",
    "    \"<xml-close-tag>\":     [\"</<id>>\"],\n",
    "    \"<xml-attribute>\":     [\"<id>=<id>\", \"<xml-attribute> <xml-attribute>\"],\n",
    "    \"<id>\":                [\"<letter>\", \"<id><letter>\"],\n",
    "    \"<text>\":              [\"<text><letter_space>\", \"<letter_space>\"],\n",
    "    \"<letter>\":            srange(string.ascii_letters + string.digits +\n",
    "                                  \"\\\"\" + \"'\" + \".\"),\n",
    "    \"<letter_space>\":      srange(string.ascii_letters + string.digits +\n",
    "                                  \"\\\"\" + \"'\" + \" \" + \"\\t\"),\n",
    "}"
   ]
  },
  {
   "cell_type": "code",
   "execution_count": 25,
   "metadata": {
    "execution": {
     "iopub.execute_input": "2023-01-07T14:37:18.731633Z",
     "iopub.status.busy": "2023-01-07T14:37:18.731324Z",
     "iopub.status.idle": "2023-01-07T14:37:18.732814Z",
     "shell.execute_reply": "2023-01-07T14:37:18.732605Z"
    },
    "slideshow": {
     "slide_type": "subslide"
    }
   },
   "outputs": [],
   "source": [
    "assert is_valid_grammar(XML_GRAMMAR)"
   ]
  },
  {
   "cell_type": "markdown",
   "metadata": {
    "slideshow": {
     "slide_type": "fragment"
    }
   },
   "source": [
    "In order to parse an input into a derivation tree, we use the [Earley parser](Parser.ipynb#Parsing-Context-Free-Grammars)."
   ]
  },
  {
   "cell_type": "code",
   "execution_count": 26,
   "metadata": {
    "execution": {
     "iopub.execute_input": "2023-01-07T14:37:18.734738Z",
     "iopub.status.busy": "2023-01-07T14:37:18.734427Z",
     "iopub.status.idle": "2023-01-07T14:37:18.844434Z",
     "shell.execute_reply": "2023-01-07T14:37:18.844630Z"
    },
    "slideshow": {
     "slide_type": "skip"
    }
   },
   "outputs": [],
   "source": [
    "from Parser import EarleyParser, Parser\n",
    "from GrammarFuzzer import display_tree, DerivationTree"
   ]
  },
  {
   "cell_type": "markdown",
   "metadata": {
    "slideshow": {
     "slide_type": "fragment"
    }
   },
   "source": [
    "Let's run the parser on a simple HTML input and display all possible parse trees. A *parse tree* represents the input structure according to the given grammar."
   ]
  },
  {
   "cell_type": "code",
   "execution_count": 27,
   "metadata": {
    "execution": {
     "iopub.execute_input": "2023-01-07T14:37:18.846559Z",
     "iopub.status.busy": "2023-01-07T14:37:18.846224Z",
     "iopub.status.idle": "2023-01-07T14:37:18.847586Z",
     "shell.execute_reply": "2023-01-07T14:37:18.847773Z"
    },
    "slideshow": {
     "slide_type": "skip"
    }
   },
   "outputs": [],
   "source": [
    "from IPython.display import display"
   ]
  },
  {
   "cell_type": "code",
   "execution_count": 28,
   "metadata": {
    "execution": {
     "iopub.execute_input": "2023-01-07T14:37:18.859607Z",
     "iopub.status.busy": "2023-01-07T14:37:18.859042Z",
     "iopub.status.idle": "2023-01-07T14:37:22.450336Z",
     "shell.execute_reply": "2023-01-07T14:37:22.450681Z"
    },
    "slideshow": {
     "slide_type": "subslide"
    }
   },
   "outputs": [
    {
     "data": {
      "image/svg+xml": [
       "<?xml version=\"1.0\" encoding=\"UTF-8\" standalone=\"no\"?>\n",
       "<!DOCTYPE svg PUBLIC \"-//W3C//DTD SVG 1.1//EN\"\n",
       " \"http://www.w3.org/Graphics/SVG/1.1/DTD/svg11.dtd\">\n",
       "<!-- Generated by graphviz version 7.0.2 (20221119.0110)\n",
       " -->\n",
       "<!-- Pages: 1 -->\n",
       "<svg width=\"341pt\" height=\"227pt\"\n",
       " viewBox=\"0.00 0.00 341.00 227.00\" xmlns=\"http://www.w3.org/2000/svg\" xmlns:xlink=\"http://www.w3.org/1999/xlink\">\n",
       "<g id=\"graph0\" class=\"graph\" transform=\"scale(1 1) rotate(0) translate(4 223)\">\n",
       "<polygon fill=\"white\" stroke=\"none\" points=\"-4,4 -4,-223 337,-223 337,4 -4,4\"/>\n",
       "<!-- 0 -->\n",
       "<g id=\"node1\" class=\"node\">\n",
       "<title>0</title>\n",
       "<text text-anchor=\"middle\" x=\"169.5\" y=\"-207.8\" font-family=\"Times,serif\" font-size=\"14.00\">&lt;start&gt;</text>\n",
       "</g>\n",
       "<!-- 1 -->\n",
       "<g id=\"node2\" class=\"node\">\n",
       "<title>1</title>\n",
       "<text text-anchor=\"middle\" x=\"169.5\" y=\"-156.8\" font-family=\"Times,serif\" font-size=\"14.00\">&lt;xml&#45;tree&gt;</text>\n",
       "</g>\n",
       "<!-- 0&#45;&gt;1 -->\n",
       "<g id=\"edge1\" class=\"edge\">\n",
       "<title>0&#45;&gt;1</title>\n",
       "<path fill=\"none\" stroke=\"black\" d=\"M169.5,-204.09C169.5,-197.75 169.5,-187.75 169.5,-179.03\"/>\n",
       "<polygon fill=\"black\" stroke=\"black\" points=\"173,-179.27 169.5,-169.27 166,-179.27 173,-179.27\"/>\n",
       "</g>\n",
       "<!-- 2 -->\n",
       "<g id=\"node3\" class=\"node\">\n",
       "<title>2</title>\n",
       "<text text-anchor=\"middle\" x=\"71.5\" y=\"-105.8\" font-family=\"Times,serif\" font-size=\"14.00\">&lt;xml&#45;open&#45;tag&gt;</text>\n",
       "</g>\n",
       "<!-- 1&#45;&gt;2 -->\n",
       "<g id=\"edge2\" class=\"edge\">\n",
       "<title>1&#45;&gt;2</title>\n",
       "<path fill=\"none\" stroke=\"black\" d=\"M156.69,-153.09C140.91,-145.21 113.84,-131.67 94.44,-121.97\"/>\n",
       "<polygon fill=\"black\" stroke=\"black\" points=\"96.18,-118.93 85.67,-117.58 93.05,-125.19 96.18,-118.93\"/>\n",
       "</g>\n",
       "<!-- 7 -->\n",
       "<g id=\"node8\" class=\"node\">\n",
       "<title>7</title>\n",
       "<text text-anchor=\"middle\" x=\"169.5\" y=\"-105.8\" font-family=\"Times,serif\" font-size=\"14.00\">&lt;xml&#45;tree&gt;</text>\n",
       "</g>\n",
       "<!-- 1&#45;&gt;7 -->\n",
       "<g id=\"edge7\" class=\"edge\">\n",
       "<title>1&#45;&gt;7</title>\n",
       "<path fill=\"none\" stroke=\"black\" d=\"M169.5,-153.09C169.5,-146.75 169.5,-136.75 169.5,-128.03\"/>\n",
       "<polygon fill=\"black\" stroke=\"black\" points=\"173,-128.27 169.5,-118.27 166,-128.27 173,-128.27\"/>\n",
       "</g>\n",
       "<!-- 10 -->\n",
       "<g id=\"node11\" class=\"node\">\n",
       "<title>10</title>\n",
       "<text text-anchor=\"middle\" x=\"265.5\" y=\"-105.8\" font-family=\"Times,serif\" font-size=\"14.00\">&lt;xml&#45;close&#45;tag&gt;</text>\n",
       "</g>\n",
       "<!-- 1&#45;&gt;10 -->\n",
       "<g id=\"edge10\" class=\"edge\">\n",
       "<title>1&#45;&gt;10</title>\n",
       "<path fill=\"none\" stroke=\"black\" d=\"M182.05,-153.09C197.43,-145.24 223.78,-131.79 242.76,-122.11\"/>\n",
       "<polygon fill=\"black\" stroke=\"black\" points=\"244.28,-125.26 251.6,-117.6 241.1,-119.02 244.28,-125.26\"/>\n",
       "</g>\n",
       "<!-- 3 -->\n",
       "<g id=\"node4\" class=\"node\">\n",
       "<title>3</title>\n",
       "<text text-anchor=\"middle\" x=\"17.5\" y=\"-54.8\" font-family=\"Times,serif\" font-size=\"14.00\">&lt; (60)</text>\n",
       "</g>\n",
       "<!-- 2&#45;&gt;3 -->\n",
       "<g id=\"edge3\" class=\"edge\">\n",
       "<title>2&#45;&gt;3</title>\n",
       "<path fill=\"none\" stroke=\"black\" d=\"M64.44,-102.09C56.47,-94.86 43.27,-82.89 32.9,-73.47\"/>\n",
       "<polygon fill=\"black\" stroke=\"black\" points=\"35.27,-70.9 25.51,-66.77 30.57,-76.08 35.27,-70.9\"/>\n",
       "</g>\n",
       "<!-- 4 -->\n",
       "<g id=\"node5\" class=\"node\">\n",
       "<title>4</title>\n",
       "<text text-anchor=\"middle\" x=\"67.5\" y=\"-54.8\" font-family=\"Times,serif\" font-size=\"14.00\">&lt;id&gt;</text>\n",
       "</g>\n",
       "<!-- 2&#45;&gt;4 -->\n",
       "<g id=\"edge4\" class=\"edge\">\n",
       "<title>2&#45;&gt;4</title>\n",
       "<path fill=\"none\" stroke=\"black\" d=\"M70.98,-102.09C70.46,-95.75 69.64,-85.75 68.93,-77.03\"/>\n",
       "<polygon fill=\"black\" stroke=\"black\" points=\"72.44,-76.94 68.13,-67.26 65.46,-77.51 72.44,-76.94\"/>\n",
       "</g>\n",
       "<!-- 6 -->\n",
       "<g id=\"node7\" class=\"node\">\n",
       "<title>6</title>\n",
       "<text text-anchor=\"middle\" x=\"117.5\" y=\"-54.8\" font-family=\"Times,serif\" font-size=\"14.00\">&gt; (62)</text>\n",
       "</g>\n",
       "<!-- 2&#45;&gt;6 -->\n",
       "<g id=\"edge6\" class=\"edge\">\n",
       "<title>2&#45;&gt;6</title>\n",
       "<path fill=\"none\" stroke=\"black\" d=\"M77.51,-102.09C84.16,-95.01 95.09,-83.37 103.84,-74.05\"/>\n",
       "<polygon fill=\"black\" stroke=\"black\" points=\"106.3,-76.54 110.59,-66.86 101.2,-71.75 106.3,-76.54\"/>\n",
       "</g>\n",
       "<!-- 5 -->\n",
       "<g id=\"node6\" class=\"node\">\n",
       "<title>5</title>\n",
       "<text text-anchor=\"middle\" x=\"67.5\" y=\"-3.8\" font-family=\"Times,serif\" font-size=\"14.00\">html</text>\n",
       "</g>\n",
       "<!-- 4&#45;&gt;5 -->\n",
       "<g id=\"edge5\" class=\"edge\">\n",
       "<title>4&#45;&gt;5</title>\n",
       "<path fill=\"none\" stroke=\"black\" d=\"M67.5,-51.09C67.5,-44.75 67.5,-34.75 67.5,-26.03\"/>\n",
       "<polygon fill=\"black\" stroke=\"black\" points=\"71,-26.27 67.5,-16.27 64,-26.27 71,-26.27\"/>\n",
       "</g>\n",
       "<!-- 8 -->\n",
       "<g id=\"node9\" class=\"node\">\n",
       "<title>8</title>\n",
       "<text text-anchor=\"middle\" x=\"171.5\" y=\"-54.8\" font-family=\"Times,serif\" font-size=\"14.00\">&lt;text&gt;</text>\n",
       "</g>\n",
       "<!-- 7&#45;&gt;8 -->\n",
       "<g id=\"edge8\" class=\"edge\">\n",
       "<title>7&#45;&gt;8</title>\n",
       "<path fill=\"none\" stroke=\"black\" d=\"M169.76,-102.09C170.02,-95.75 170.43,-85.75 170.78,-77.03\"/>\n",
       "<polygon fill=\"black\" stroke=\"black\" points=\"174.27,-77.4 171.18,-67.26 167.28,-77.11 174.27,-77.4\"/>\n",
       "</g>\n",
       "<!-- 9 -->\n",
       "<g id=\"node10\" class=\"node\">\n",
       "<title>9</title>\n",
       "<text text-anchor=\"middle\" x=\"171.5\" y=\"-3.8\" font-family=\"Times,serif\" font-size=\"14.00\">Text</text>\n",
       "</g>\n",
       "<!-- 8&#45;&gt;9 -->\n",
       "<g id=\"edge9\" class=\"edge\">\n",
       "<title>8&#45;&gt;9</title>\n",
       "<path fill=\"none\" stroke=\"black\" d=\"M171.5,-51.09C171.5,-44.75 171.5,-34.75 171.5,-26.03\"/>\n",
       "<polygon fill=\"black\" stroke=\"black\" points=\"175,-26.27 171.5,-16.27 168,-26.27 175,-26.27\"/>\n",
       "</g>\n",
       "<!-- 11 -->\n",
       "<g id=\"node12\" class=\"node\">\n",
       "<title>11</title>\n",
       "<text text-anchor=\"middle\" x=\"226.5\" y=\"-54.8\" font-family=\"Times,serif\" font-size=\"14.00\">&lt;/</text>\n",
       "</g>\n",
       "<!-- 10&#45;&gt;11 -->\n",
       "<g id=\"edge11\" class=\"edge\">\n",
       "<title>10&#45;&gt;11</title>\n",
       "<path fill=\"none\" stroke=\"black\" d=\"M260.4,-102.09C254.88,-95.16 245.89,-83.86 238.55,-74.63\"/>\n",
       "<polygon fill=\"black\" stroke=\"black\" points=\"241.39,-72.58 232.42,-66.94 235.91,-76.94 241.39,-72.58\"/>\n",
       "</g>\n",
       "<!-- 12 -->\n",
       "<g id=\"node13\" class=\"node\">\n",
       "<title>12</title>\n",
       "<text text-anchor=\"middle\" x=\"265.5\" y=\"-54.8\" font-family=\"Times,serif\" font-size=\"14.00\">&lt;id&gt;</text>\n",
       "</g>\n",
       "<!-- 10&#45;&gt;12 -->\n",
       "<g id=\"edge12\" class=\"edge\">\n",
       "<title>10&#45;&gt;12</title>\n",
       "<path fill=\"none\" stroke=\"black\" d=\"M265.5,-102.09C265.5,-95.75 265.5,-85.75 265.5,-77.03\"/>\n",
       "<polygon fill=\"black\" stroke=\"black\" points=\"269,-77.27 265.5,-67.27 262,-77.27 269,-77.27\"/>\n",
       "</g>\n",
       "<!-- 14 -->\n",
       "<g id=\"node15\" class=\"node\">\n",
       "<title>14</title>\n",
       "<text text-anchor=\"middle\" x=\"315.5\" y=\"-54.8\" font-family=\"Times,serif\" font-size=\"14.00\">&gt; (62)</text>\n",
       "</g>\n",
       "<!-- 10&#45;&gt;14 -->\n",
       "<g id=\"edge14\" class=\"edge\">\n",
       "<title>10&#45;&gt;14</title>\n",
       "<path fill=\"none\" stroke=\"black\" d=\"M272.04,-102.09C279.34,-94.94 291.39,-83.13 300.95,-73.76\"/>\n",
       "<polygon fill=\"black\" stroke=\"black\" points=\"303.35,-76.31 308.04,-66.81 298.45,-71.31 303.35,-76.31\"/>\n",
       "</g>\n",
       "<!-- 13 -->\n",
       "<g id=\"node14\" class=\"node\">\n",
       "<title>13</title>\n",
       "<text text-anchor=\"middle\" x=\"265.5\" y=\"-3.8\" font-family=\"Times,serif\" font-size=\"14.00\">html</text>\n",
       "</g>\n",
       "<!-- 12&#45;&gt;13 -->\n",
       "<g id=\"edge13\" class=\"edge\">\n",
       "<title>12&#45;&gt;13</title>\n",
       "<path fill=\"none\" stroke=\"black\" d=\"M265.5,-51.09C265.5,-44.75 265.5,-34.75 265.5,-26.03\"/>\n",
       "<polygon fill=\"black\" stroke=\"black\" points=\"269,-26.27 265.5,-16.27 262,-26.27 269,-26.27\"/>\n",
       "</g>\n",
       "</g>\n",
       "</svg>\n"
      ],
      "text/plain": [
       "<graphviz.graphs.Digraph at 0x14a5c4760>"
      ]
     },
     "metadata": {},
     "output_type": "display_data"
    },
    {
     "data": {
      "image/svg+xml": [
       "<?xml version=\"1.0\" encoding=\"UTF-8\" standalone=\"no\"?>\n",
       "<!DOCTYPE svg PUBLIC \"-//W3C//DTD SVG 1.1//EN\"\n",
       " \"http://www.w3.org/Graphics/SVG/1.1/DTD/svg11.dtd\">\n",
       "<!-- Generated by graphviz version 7.0.2 (20221119.0110)\n",
       " -->\n",
       "<!-- Pages: 1 -->\n",
       "<svg width=\"439pt\" height=\"278pt\"\n",
       " viewBox=\"0.00 0.00 439.00 278.00\" xmlns=\"http://www.w3.org/2000/svg\" xmlns:xlink=\"http://www.w3.org/1999/xlink\">\n",
       "<g id=\"graph0\" class=\"graph\" transform=\"scale(1 1) rotate(0) translate(4 274)\">\n",
       "<polygon fill=\"white\" stroke=\"none\" points=\"-4,4 -4,-274 435,-274 435,4 -4,4\"/>\n",
       "<!-- 0 -->\n",
       "<g id=\"node1\" class=\"node\">\n",
       "<title>0</title>\n",
       "<text text-anchor=\"middle\" x=\"204.5\" y=\"-258.8\" font-family=\"Times,serif\" font-size=\"14.00\">&lt;start&gt;</text>\n",
       "</g>\n",
       "<!-- 1 -->\n",
       "<g id=\"node2\" class=\"node\">\n",
       "<title>1</title>\n",
       "<text text-anchor=\"middle\" x=\"204.5\" y=\"-207.8\" font-family=\"Times,serif\" font-size=\"14.00\">&lt;xml&#45;tree&gt;</text>\n",
       "</g>\n",
       "<!-- 0&#45;&gt;1 -->\n",
       "<g id=\"edge1\" class=\"edge\">\n",
       "<title>0&#45;&gt;1</title>\n",
       "<path fill=\"none\" stroke=\"black\" d=\"M204.5,-255.09C204.5,-248.75 204.5,-238.75 204.5,-230.03\"/>\n",
       "<polygon fill=\"black\" stroke=\"black\" points=\"208,-230.27 204.5,-220.27 201,-230.27 208,-230.27\"/>\n",
       "</g>\n",
       "<!-- 2 -->\n",
       "<g id=\"node3\" class=\"node\">\n",
       "<title>2</title>\n",
       "<text text-anchor=\"middle\" x=\"97.5\" y=\"-156.8\" font-family=\"Times,serif\" font-size=\"14.00\">&lt;xml&#45;open&#45;tag&gt;</text>\n",
       "</g>\n",
       "<!-- 1&#45;&gt;2 -->\n",
       "<g id=\"edge2\" class=\"edge\">\n",
       "<title>1&#45;&gt;2</title>\n",
       "<path fill=\"none\" stroke=\"black\" d=\"M190.51,-204.09C173.13,-196.13 143.17,-182.42 121.96,-172.7\"/>\n",
       "<polygon fill=\"black\" stroke=\"black\" points=\"123.42,-169.52 112.87,-168.54 120.5,-175.88 123.42,-169.52\"/>\n",
       "</g>\n",
       "<!-- 7 -->\n",
       "<g id=\"node8\" class=\"node\">\n",
       "<title>7</title>\n",
       "<text text-anchor=\"middle\" x=\"204.5\" y=\"-156.8\" font-family=\"Times,serif\" font-size=\"14.00\">&lt;xml&#45;tree&gt;</text>\n",
       "</g>\n",
       "<!-- 1&#45;&gt;7 -->\n",
       "<g id=\"edge7\" class=\"edge\">\n",
       "<title>1&#45;&gt;7</title>\n",
       "<path fill=\"none\" stroke=\"black\" d=\"M204.5,-204.09C204.5,-197.75 204.5,-187.75 204.5,-179.03\"/>\n",
       "<polygon fill=\"black\" stroke=\"black\" points=\"208,-179.27 204.5,-169.27 201,-179.27 208,-179.27\"/>\n",
       "</g>\n",
       "<!-- 14 -->\n",
       "<g id=\"node15\" class=\"node\">\n",
       "<title>14</title>\n",
       "<text text-anchor=\"middle\" x=\"343.5\" y=\"-156.8\" font-family=\"Times,serif\" font-size=\"14.00\">&lt;xml&#45;close&#45;tag&gt;</text>\n",
       "</g>\n",
       "<!-- 1&#45;&gt;14 -->\n",
       "<g id=\"edge14\" class=\"edge\">\n",
       "<title>1&#45;&gt;14</title>\n",
       "<path fill=\"none\" stroke=\"black\" d=\"M222.67,-204.09C246.09,-195.84 287.06,-181.4 314.73,-171.64\"/>\n",
       "<polygon fill=\"black\" stroke=\"black\" points=\"315.63,-175.04 323.9,-168.41 313.3,-168.43 315.63,-175.04\"/>\n",
       "</g>\n",
       "<!-- 3 -->\n",
       "<g id=\"node4\" class=\"node\">\n",
       "<title>3</title>\n",
       "<text text-anchor=\"middle\" x=\"17.5\" y=\"-105.8\" font-family=\"Times,serif\" font-size=\"14.00\">&lt; (60)</text>\n",
       "</g>\n",
       "<!-- 2&#45;&gt;3 -->\n",
       "<g id=\"edge3\" class=\"edge\">\n",
       "<title>2&#45;&gt;3</title>\n",
       "<path fill=\"none\" stroke=\"black\" d=\"M87.04,-153.09C74.46,-145.39 53.08,-132.3 37.34,-122.65\"/>\n",
       "<polygon fill=\"black\" stroke=\"black\" points=\"39.61,-119.94 29.25,-117.7 35.95,-125.91 39.61,-119.94\"/>\n",
       "</g>\n",
       "<!-- 4 -->\n",
       "<g id=\"node5\" class=\"node\">\n",
       "<title>4</title>\n",
       "<text text-anchor=\"middle\" x=\"67.5\" y=\"-105.8\" font-family=\"Times,serif\" font-size=\"14.00\">&lt;id&gt;</text>\n",
       "</g>\n",
       "<!-- 2&#45;&gt;4 -->\n",
       "<g id=\"edge4\" class=\"edge\">\n",
       "<title>2&#45;&gt;4</title>\n",
       "<path fill=\"none\" stroke=\"black\" d=\"M93.58,-153.09C89.47,-146.38 82.85,-135.57 77.31,-126.52\"/>\n",
       "<polygon fill=\"black\" stroke=\"black\" points=\"80.32,-124.74 72.12,-118.04 74.35,-128.4 80.32,-124.74\"/>\n",
       "</g>\n",
       "<!-- 6 -->\n",
       "<g id=\"node7\" class=\"node\">\n",
       "<title>6</title>\n",
       "<text text-anchor=\"middle\" x=\"117.5\" y=\"-105.8\" font-family=\"Times,serif\" font-size=\"14.00\">&gt; (62)</text>\n",
       "</g>\n",
       "<!-- 2&#45;&gt;6 -->\n",
       "<g id=\"edge6\" class=\"edge\">\n",
       "<title>2&#45;&gt;6</title>\n",
       "<path fill=\"none\" stroke=\"black\" d=\"M100.11,-153.09C102.79,-146.53 107.07,-136.05 110.72,-127.12\"/>\n",
       "<polygon fill=\"black\" stroke=\"black\" points=\"113.84,-128.73 114.38,-118.15 107.36,-126.09 113.84,-128.73\"/>\n",
       "</g>\n",
       "<!-- 5 -->\n",
       "<g id=\"node6\" class=\"node\">\n",
       "<title>5</title>\n",
       "<text text-anchor=\"middle\" x=\"67.5\" y=\"-54.8\" font-family=\"Times,serif\" font-size=\"14.00\">html</text>\n",
       "</g>\n",
       "<!-- 4&#45;&gt;5 -->\n",
       "<g id=\"edge5\" class=\"edge\">\n",
       "<title>4&#45;&gt;5</title>\n",
       "<path fill=\"none\" stroke=\"black\" d=\"M67.5,-102.09C67.5,-95.75 67.5,-85.75 67.5,-77.03\"/>\n",
       "<polygon fill=\"black\" stroke=\"black\" points=\"71,-77.27 67.5,-67.27 64,-77.27 71,-77.27\"/>\n",
       "</g>\n",
       "<!-- 8 -->\n",
       "<g id=\"node9\" class=\"node\">\n",
       "<title>8</title>\n",
       "<text text-anchor=\"middle\" x=\"185.5\" y=\"-105.8\" font-family=\"Times,serif\" font-size=\"14.00\">&lt;xml&#45;tree&gt;</text>\n",
       "</g>\n",
       "<!-- 7&#45;&gt;8 -->\n",
       "<g id=\"edge8\" class=\"edge\">\n",
       "<title>7&#45;&gt;8</title>\n",
       "<path fill=\"none\" stroke=\"black\" d=\"M202.02,-153.09C199.5,-146.6 195.5,-136.28 192.06,-127.42\"/>\n",
       "<polygon fill=\"black\" stroke=\"black\" points=\"195.35,-126.22 188.47,-118.16 188.82,-128.75 195.35,-126.22\"/>\n",
       "</g>\n",
       "<!-- 11 -->\n",
       "<g id=\"node12\" class=\"node\">\n",
       "<title>11</title>\n",
       "<text text-anchor=\"middle\" x=\"267.5\" y=\"-105.8\" font-family=\"Times,serif\" font-size=\"14.00\">&lt;xml&#45;tree&gt;</text>\n",
       "</g>\n",
       "<!-- 7&#45;&gt;11 -->\n",
       "<g id=\"edge11\" class=\"edge\">\n",
       "<title>7&#45;&gt;11</title>\n",
       "<path fill=\"none\" stroke=\"black\" d=\"M212.74,-153.09C222.32,-145.64 238.38,-133.15 250.64,-123.61\"/>\n",
       "<polygon fill=\"black\" stroke=\"black\" points=\"252.52,-126.58 258.27,-117.68 248.22,-121.06 252.52,-126.58\"/>\n",
       "</g>\n",
       "<!-- 9 -->\n",
       "<g id=\"node10\" class=\"node\">\n",
       "<title>9</title>\n",
       "<text text-anchor=\"middle\" x=\"185.5\" y=\"-54.8\" font-family=\"Times,serif\" font-size=\"14.00\">&lt;text&gt;</text>\n",
       "</g>\n",
       "<!-- 8&#45;&gt;9 -->\n",
       "<g id=\"edge9\" class=\"edge\">\n",
       "<title>8&#45;&gt;9</title>\n",
       "<path fill=\"none\" stroke=\"black\" d=\"M185.5,-102.09C185.5,-95.75 185.5,-85.75 185.5,-77.03\"/>\n",
       "<polygon fill=\"black\" stroke=\"black\" points=\"189,-77.27 185.5,-67.27 182,-77.27 189,-77.27\"/>\n",
       "</g>\n",
       "<!-- 10 -->\n",
       "<g id=\"node11\" class=\"node\">\n",
       "<title>10</title>\n",
       "<text text-anchor=\"middle\" x=\"185.5\" y=\"-3.8\" font-family=\"Times,serif\" font-size=\"14.00\">T (84)</text>\n",
       "</g>\n",
       "<!-- 9&#45;&gt;10 -->\n",
       "<g id=\"edge10\" class=\"edge\">\n",
       "<title>9&#45;&gt;10</title>\n",
       "<path fill=\"none\" stroke=\"black\" d=\"M185.5,-51.09C185.5,-44.75 185.5,-34.75 185.5,-26.03\"/>\n",
       "<polygon fill=\"black\" stroke=\"black\" points=\"189,-26.27 185.5,-16.27 182,-26.27 189,-26.27\"/>\n",
       "</g>\n",
       "<!-- 12 -->\n",
       "<g id=\"node13\" class=\"node\">\n",
       "<title>12</title>\n",
       "<text text-anchor=\"middle\" x=\"267.5\" y=\"-54.8\" font-family=\"Times,serif\" font-size=\"14.00\">&lt;text&gt;</text>\n",
       "</g>\n",
       "<!-- 11&#45;&gt;12 -->\n",
       "<g id=\"edge12\" class=\"edge\">\n",
       "<title>11&#45;&gt;12</title>\n",
       "<path fill=\"none\" stroke=\"black\" d=\"M267.5,-102.09C267.5,-95.75 267.5,-85.75 267.5,-77.03\"/>\n",
       "<polygon fill=\"black\" stroke=\"black\" points=\"271,-77.27 267.5,-67.27 264,-77.27 271,-77.27\"/>\n",
       "</g>\n",
       "<!-- 13 -->\n",
       "<g id=\"node14\" class=\"node\">\n",
       "<title>13</title>\n",
       "<text text-anchor=\"middle\" x=\"267.5\" y=\"-3.8\" font-family=\"Times,serif\" font-size=\"14.00\">ext</text>\n",
       "</g>\n",
       "<!-- 12&#45;&gt;13 -->\n",
       "<g id=\"edge13\" class=\"edge\">\n",
       "<title>12&#45;&gt;13</title>\n",
       "<path fill=\"none\" stroke=\"black\" d=\"M267.5,-51.09C267.5,-44.75 267.5,-34.75 267.5,-26.03\"/>\n",
       "<polygon fill=\"black\" stroke=\"black\" points=\"271,-26.27 267.5,-16.27 264,-26.27 271,-26.27\"/>\n",
       "</g>\n",
       "<!-- 15 -->\n",
       "<g id=\"node16\" class=\"node\">\n",
       "<title>15</title>\n",
       "<text text-anchor=\"middle\" x=\"324.5\" y=\"-105.8\" font-family=\"Times,serif\" font-size=\"14.00\">&lt;/</text>\n",
       "</g>\n",
       "<!-- 14&#45;&gt;15 -->\n",
       "<g id=\"edge15\" class=\"edge\">\n",
       "<title>14&#45;&gt;15</title>\n",
       "<path fill=\"none\" stroke=\"black\" d=\"M341.02,-153.09C338.5,-146.6 334.5,-136.28 331.06,-127.42\"/>\n",
       "<polygon fill=\"black\" stroke=\"black\" points=\"334.35,-126.22 327.47,-118.16 327.82,-128.75 334.35,-126.22\"/>\n",
       "</g>\n",
       "<!-- 16 -->\n",
       "<g id=\"node17\" class=\"node\">\n",
       "<title>16</title>\n",
       "<text text-anchor=\"middle\" x=\"363.5\" y=\"-105.8\" font-family=\"Times,serif\" font-size=\"14.00\">&lt;id&gt;</text>\n",
       "</g>\n",
       "<!-- 14&#45;&gt;16 -->\n",
       "<g id=\"edge16\" class=\"edge\">\n",
       "<title>14&#45;&gt;16</title>\n",
       "<path fill=\"none\" stroke=\"black\" d=\"M346.11,-153.09C348.79,-146.53 353.07,-136.05 356.72,-127.12\"/>\n",
       "<polygon fill=\"black\" stroke=\"black\" points=\"359.84,-128.73 360.38,-118.15 353.36,-126.09 359.84,-128.73\"/>\n",
       "</g>\n",
       "<!-- 18 -->\n",
       "<g id=\"node19\" class=\"node\">\n",
       "<title>18</title>\n",
       "<text text-anchor=\"middle\" x=\"413.5\" y=\"-105.8\" font-family=\"Times,serif\" font-size=\"14.00\">&gt; (62)</text>\n",
       "</g>\n",
       "<!-- 14&#45;&gt;18 -->\n",
       "<g id=\"edge18\" class=\"edge\">\n",
       "<title>14&#45;&gt;18</title>\n",
       "<path fill=\"none\" stroke=\"black\" d=\"M352.65,-153.09C363.4,-145.57 381.5,-132.9 395.17,-123.33\"/>\n",
       "<polygon fill=\"black\" stroke=\"black\" points=\"397.14,-126.22 403.33,-117.62 393.13,-120.49 397.14,-126.22\"/>\n",
       "</g>\n",
       "<!-- 17 -->\n",
       "<g id=\"node18\" class=\"node\">\n",
       "<title>17</title>\n",
       "<text text-anchor=\"middle\" x=\"363.5\" y=\"-54.8\" font-family=\"Times,serif\" font-size=\"14.00\">html</text>\n",
       "</g>\n",
       "<!-- 16&#45;&gt;17 -->\n",
       "<g id=\"edge17\" class=\"edge\">\n",
       "<title>16&#45;&gt;17</title>\n",
       "<path fill=\"none\" stroke=\"black\" d=\"M363.5,-102.09C363.5,-95.75 363.5,-85.75 363.5,-77.03\"/>\n",
       "<polygon fill=\"black\" stroke=\"black\" points=\"367,-77.27 363.5,-67.27 360,-77.27 367,-77.27\"/>\n",
       "</g>\n",
       "</g>\n",
       "</svg>\n"
      ],
      "text/plain": [
       "<graphviz.graphs.Digraph at 0x14a47b760>"
      ]
     },
     "metadata": {},
     "output_type": "display_data"
    },
    {
     "data": {
      "image/svg+xml": [
       "<?xml version=\"1.0\" encoding=\"UTF-8\" standalone=\"no\"?>\n",
       "<!DOCTYPE svg PUBLIC \"-//W3C//DTD SVG 1.1//EN\"\n",
       " \"http://www.w3.org/Graphics/SVG/1.1/DTD/svg11.dtd\">\n",
       "<!-- Generated by graphviz version 7.0.2 (20221119.0110)\n",
       " -->\n",
       "<!-- Pages: 1 -->\n",
       "<svg width=\"439pt\" height=\"278pt\"\n",
       " viewBox=\"0.00 0.00 439.00 278.00\" xmlns=\"http://www.w3.org/2000/svg\" xmlns:xlink=\"http://www.w3.org/1999/xlink\">\n",
       "<g id=\"graph0\" class=\"graph\" transform=\"scale(1 1) rotate(0) translate(4 274)\">\n",
       "<polygon fill=\"white\" stroke=\"none\" points=\"-4,4 -4,-274 435,-274 435,4 -4,4\"/>\n",
       "<!-- 0 -->\n",
       "<g id=\"node1\" class=\"node\">\n",
       "<title>0</title>\n",
       "<text text-anchor=\"middle\" x=\"204.5\" y=\"-258.8\" font-family=\"Times,serif\" font-size=\"14.00\">&lt;start&gt;</text>\n",
       "</g>\n",
       "<!-- 1 -->\n",
       "<g id=\"node2\" class=\"node\">\n",
       "<title>1</title>\n",
       "<text text-anchor=\"middle\" x=\"204.5\" y=\"-207.8\" font-family=\"Times,serif\" font-size=\"14.00\">&lt;xml&#45;tree&gt;</text>\n",
       "</g>\n",
       "<!-- 0&#45;&gt;1 -->\n",
       "<g id=\"edge1\" class=\"edge\">\n",
       "<title>0&#45;&gt;1</title>\n",
       "<path fill=\"none\" stroke=\"black\" d=\"M204.5,-255.09C204.5,-248.75 204.5,-238.75 204.5,-230.03\"/>\n",
       "<polygon fill=\"black\" stroke=\"black\" points=\"208,-230.27 204.5,-220.27 201,-230.27 208,-230.27\"/>\n",
       "</g>\n",
       "<!-- 2 -->\n",
       "<g id=\"node3\" class=\"node\">\n",
       "<title>2</title>\n",
       "<text text-anchor=\"middle\" x=\"97.5\" y=\"-156.8\" font-family=\"Times,serif\" font-size=\"14.00\">&lt;xml&#45;open&#45;tag&gt;</text>\n",
       "</g>\n",
       "<!-- 1&#45;&gt;2 -->\n",
       "<g id=\"edge2\" class=\"edge\">\n",
       "<title>1&#45;&gt;2</title>\n",
       "<path fill=\"none\" stroke=\"black\" d=\"M190.51,-204.09C173.13,-196.13 143.17,-182.42 121.96,-172.7\"/>\n",
       "<polygon fill=\"black\" stroke=\"black\" points=\"123.42,-169.52 112.87,-168.54 120.5,-175.88 123.42,-169.52\"/>\n",
       "</g>\n",
       "<!-- 7 -->\n",
       "<g id=\"node8\" class=\"node\">\n",
       "<title>7</title>\n",
       "<text text-anchor=\"middle\" x=\"204.5\" y=\"-156.8\" font-family=\"Times,serif\" font-size=\"14.00\">&lt;xml&#45;tree&gt;</text>\n",
       "</g>\n",
       "<!-- 1&#45;&gt;7 -->\n",
       "<g id=\"edge7\" class=\"edge\">\n",
       "<title>1&#45;&gt;7</title>\n",
       "<path fill=\"none\" stroke=\"black\" d=\"M204.5,-204.09C204.5,-197.75 204.5,-187.75 204.5,-179.03\"/>\n",
       "<polygon fill=\"black\" stroke=\"black\" points=\"208,-179.27 204.5,-169.27 201,-179.27 208,-179.27\"/>\n",
       "</g>\n",
       "<!-- 14 -->\n",
       "<g id=\"node15\" class=\"node\">\n",
       "<title>14</title>\n",
       "<text text-anchor=\"middle\" x=\"343.5\" y=\"-156.8\" font-family=\"Times,serif\" font-size=\"14.00\">&lt;xml&#45;close&#45;tag&gt;</text>\n",
       "</g>\n",
       "<!-- 1&#45;&gt;14 -->\n",
       "<g id=\"edge14\" class=\"edge\">\n",
       "<title>1&#45;&gt;14</title>\n",
       "<path fill=\"none\" stroke=\"black\" d=\"M222.67,-204.09C246.09,-195.84 287.06,-181.4 314.73,-171.64\"/>\n",
       "<polygon fill=\"black\" stroke=\"black\" points=\"315.63,-175.04 323.9,-168.41 313.3,-168.43 315.63,-175.04\"/>\n",
       "</g>\n",
       "<!-- 3 -->\n",
       "<g id=\"node4\" class=\"node\">\n",
       "<title>3</title>\n",
       "<text text-anchor=\"middle\" x=\"17.5\" y=\"-105.8\" font-family=\"Times,serif\" font-size=\"14.00\">&lt; (60)</text>\n",
       "</g>\n",
       "<!-- 2&#45;&gt;3 -->\n",
       "<g id=\"edge3\" class=\"edge\">\n",
       "<title>2&#45;&gt;3</title>\n",
       "<path fill=\"none\" stroke=\"black\" d=\"M87.04,-153.09C74.46,-145.39 53.08,-132.3 37.34,-122.65\"/>\n",
       "<polygon fill=\"black\" stroke=\"black\" points=\"39.61,-119.94 29.25,-117.7 35.95,-125.91 39.61,-119.94\"/>\n",
       "</g>\n",
       "<!-- 4 -->\n",
       "<g id=\"node5\" class=\"node\">\n",
       "<title>4</title>\n",
       "<text text-anchor=\"middle\" x=\"67.5\" y=\"-105.8\" font-family=\"Times,serif\" font-size=\"14.00\">&lt;id&gt;</text>\n",
       "</g>\n",
       "<!-- 2&#45;&gt;4 -->\n",
       "<g id=\"edge4\" class=\"edge\">\n",
       "<title>2&#45;&gt;4</title>\n",
       "<path fill=\"none\" stroke=\"black\" d=\"M93.58,-153.09C89.47,-146.38 82.85,-135.57 77.31,-126.52\"/>\n",
       "<polygon fill=\"black\" stroke=\"black\" points=\"80.32,-124.74 72.12,-118.04 74.35,-128.4 80.32,-124.74\"/>\n",
       "</g>\n",
       "<!-- 6 -->\n",
       "<g id=\"node7\" class=\"node\">\n",
       "<title>6</title>\n",
       "<text text-anchor=\"middle\" x=\"117.5\" y=\"-105.8\" font-family=\"Times,serif\" font-size=\"14.00\">&gt; (62)</text>\n",
       "</g>\n",
       "<!-- 2&#45;&gt;6 -->\n",
       "<g id=\"edge6\" class=\"edge\">\n",
       "<title>2&#45;&gt;6</title>\n",
       "<path fill=\"none\" stroke=\"black\" d=\"M100.11,-153.09C102.79,-146.53 107.07,-136.05 110.72,-127.12\"/>\n",
       "<polygon fill=\"black\" stroke=\"black\" points=\"113.84,-128.73 114.38,-118.15 107.36,-126.09 113.84,-128.73\"/>\n",
       "</g>\n",
       "<!-- 5 -->\n",
       "<g id=\"node6\" class=\"node\">\n",
       "<title>5</title>\n",
       "<text text-anchor=\"middle\" x=\"67.5\" y=\"-54.8\" font-family=\"Times,serif\" font-size=\"14.00\">html</text>\n",
       "</g>\n",
       "<!-- 4&#45;&gt;5 -->\n",
       "<g id=\"edge5\" class=\"edge\">\n",
       "<title>4&#45;&gt;5</title>\n",
       "<path fill=\"none\" stroke=\"black\" d=\"M67.5,-102.09C67.5,-95.75 67.5,-85.75 67.5,-77.03\"/>\n",
       "<polygon fill=\"black\" stroke=\"black\" points=\"71,-77.27 67.5,-67.27 64,-77.27 71,-77.27\"/>\n",
       "</g>\n",
       "<!-- 8 -->\n",
       "<g id=\"node9\" class=\"node\">\n",
       "<title>8</title>\n",
       "<text text-anchor=\"middle\" x=\"185.5\" y=\"-105.8\" font-family=\"Times,serif\" font-size=\"14.00\">&lt;xml&#45;tree&gt;</text>\n",
       "</g>\n",
       "<!-- 7&#45;&gt;8 -->\n",
       "<g id=\"edge8\" class=\"edge\">\n",
       "<title>7&#45;&gt;8</title>\n",
       "<path fill=\"none\" stroke=\"black\" d=\"M202.02,-153.09C199.5,-146.6 195.5,-136.28 192.06,-127.42\"/>\n",
       "<polygon fill=\"black\" stroke=\"black\" points=\"195.35,-126.22 188.47,-118.16 188.82,-128.75 195.35,-126.22\"/>\n",
       "</g>\n",
       "<!-- 11 -->\n",
       "<g id=\"node12\" class=\"node\">\n",
       "<title>11</title>\n",
       "<text text-anchor=\"middle\" x=\"267.5\" y=\"-105.8\" font-family=\"Times,serif\" font-size=\"14.00\">&lt;xml&#45;tree&gt;</text>\n",
       "</g>\n",
       "<!-- 7&#45;&gt;11 -->\n",
       "<g id=\"edge11\" class=\"edge\">\n",
       "<title>7&#45;&gt;11</title>\n",
       "<path fill=\"none\" stroke=\"black\" d=\"M212.74,-153.09C222.32,-145.64 238.38,-133.15 250.64,-123.61\"/>\n",
       "<polygon fill=\"black\" stroke=\"black\" points=\"252.52,-126.58 258.27,-117.68 248.22,-121.06 252.52,-126.58\"/>\n",
       "</g>\n",
       "<!-- 9 -->\n",
       "<g id=\"node10\" class=\"node\">\n",
       "<title>9</title>\n",
       "<text text-anchor=\"middle\" x=\"185.5\" y=\"-54.8\" font-family=\"Times,serif\" font-size=\"14.00\">&lt;text&gt;</text>\n",
       "</g>\n",
       "<!-- 8&#45;&gt;9 -->\n",
       "<g id=\"edge9\" class=\"edge\">\n",
       "<title>8&#45;&gt;9</title>\n",
       "<path fill=\"none\" stroke=\"black\" d=\"M185.5,-102.09C185.5,-95.75 185.5,-85.75 185.5,-77.03\"/>\n",
       "<polygon fill=\"black\" stroke=\"black\" points=\"189,-77.27 185.5,-67.27 182,-77.27 189,-77.27\"/>\n",
       "</g>\n",
       "<!-- 10 -->\n",
       "<g id=\"node11\" class=\"node\">\n",
       "<title>10</title>\n",
       "<text text-anchor=\"middle\" x=\"185.5\" y=\"-3.8\" font-family=\"Times,serif\" font-size=\"14.00\">Te</text>\n",
       "</g>\n",
       "<!-- 9&#45;&gt;10 -->\n",
       "<g id=\"edge10\" class=\"edge\">\n",
       "<title>9&#45;&gt;10</title>\n",
       "<path fill=\"none\" stroke=\"black\" d=\"M185.5,-51.09C185.5,-44.75 185.5,-34.75 185.5,-26.03\"/>\n",
       "<polygon fill=\"black\" stroke=\"black\" points=\"189,-26.27 185.5,-16.27 182,-26.27 189,-26.27\"/>\n",
       "</g>\n",
       "<!-- 12 -->\n",
       "<g id=\"node13\" class=\"node\">\n",
       "<title>12</title>\n",
       "<text text-anchor=\"middle\" x=\"267.5\" y=\"-54.8\" font-family=\"Times,serif\" font-size=\"14.00\">&lt;text&gt;</text>\n",
       "</g>\n",
       "<!-- 11&#45;&gt;12 -->\n",
       "<g id=\"edge12\" class=\"edge\">\n",
       "<title>11&#45;&gt;12</title>\n",
       "<path fill=\"none\" stroke=\"black\" d=\"M267.5,-102.09C267.5,-95.75 267.5,-85.75 267.5,-77.03\"/>\n",
       "<polygon fill=\"black\" stroke=\"black\" points=\"271,-77.27 267.5,-67.27 264,-77.27 271,-77.27\"/>\n",
       "</g>\n",
       "<!-- 13 -->\n",
       "<g id=\"node14\" class=\"node\">\n",
       "<title>13</title>\n",
       "<text text-anchor=\"middle\" x=\"267.5\" y=\"-3.8\" font-family=\"Times,serif\" font-size=\"14.00\">xt</text>\n",
       "</g>\n",
       "<!-- 12&#45;&gt;13 -->\n",
       "<g id=\"edge13\" class=\"edge\">\n",
       "<title>12&#45;&gt;13</title>\n",
       "<path fill=\"none\" stroke=\"black\" d=\"M267.5,-51.09C267.5,-44.75 267.5,-34.75 267.5,-26.03\"/>\n",
       "<polygon fill=\"black\" stroke=\"black\" points=\"271,-26.27 267.5,-16.27 264,-26.27 271,-26.27\"/>\n",
       "</g>\n",
       "<!-- 15 -->\n",
       "<g id=\"node16\" class=\"node\">\n",
       "<title>15</title>\n",
       "<text text-anchor=\"middle\" x=\"324.5\" y=\"-105.8\" font-family=\"Times,serif\" font-size=\"14.00\">&lt;/</text>\n",
       "</g>\n",
       "<!-- 14&#45;&gt;15 -->\n",
       "<g id=\"edge15\" class=\"edge\">\n",
       "<title>14&#45;&gt;15</title>\n",
       "<path fill=\"none\" stroke=\"black\" d=\"M341.02,-153.09C338.5,-146.6 334.5,-136.28 331.06,-127.42\"/>\n",
       "<polygon fill=\"black\" stroke=\"black\" points=\"334.35,-126.22 327.47,-118.16 327.82,-128.75 334.35,-126.22\"/>\n",
       "</g>\n",
       "<!-- 16 -->\n",
       "<g id=\"node17\" class=\"node\">\n",
       "<title>16</title>\n",
       "<text text-anchor=\"middle\" x=\"363.5\" y=\"-105.8\" font-family=\"Times,serif\" font-size=\"14.00\">&lt;id&gt;</text>\n",
       "</g>\n",
       "<!-- 14&#45;&gt;16 -->\n",
       "<g id=\"edge16\" class=\"edge\">\n",
       "<title>14&#45;&gt;16</title>\n",
       "<path fill=\"none\" stroke=\"black\" d=\"M346.11,-153.09C348.79,-146.53 353.07,-136.05 356.72,-127.12\"/>\n",
       "<polygon fill=\"black\" stroke=\"black\" points=\"359.84,-128.73 360.38,-118.15 353.36,-126.09 359.84,-128.73\"/>\n",
       "</g>\n",
       "<!-- 18 -->\n",
       "<g id=\"node19\" class=\"node\">\n",
       "<title>18</title>\n",
       "<text text-anchor=\"middle\" x=\"413.5\" y=\"-105.8\" font-family=\"Times,serif\" font-size=\"14.00\">&gt; (62)</text>\n",
       "</g>\n",
       "<!-- 14&#45;&gt;18 -->\n",
       "<g id=\"edge18\" class=\"edge\">\n",
       "<title>14&#45;&gt;18</title>\n",
       "<path fill=\"none\" stroke=\"black\" d=\"M352.65,-153.09C363.4,-145.57 381.5,-132.9 395.17,-123.33\"/>\n",
       "<polygon fill=\"black\" stroke=\"black\" points=\"397.14,-126.22 403.33,-117.62 393.13,-120.49 397.14,-126.22\"/>\n",
       "</g>\n",
       "<!-- 17 -->\n",
       "<g id=\"node18\" class=\"node\">\n",
       "<title>17</title>\n",
       "<text text-anchor=\"middle\" x=\"363.5\" y=\"-54.8\" font-family=\"Times,serif\" font-size=\"14.00\">html</text>\n",
       "</g>\n",
       "<!-- 16&#45;&gt;17 -->\n",
       "<g id=\"edge17\" class=\"edge\">\n",
       "<title>16&#45;&gt;17</title>\n",
       "<path fill=\"none\" stroke=\"black\" d=\"M363.5,-102.09C363.5,-95.75 363.5,-85.75 363.5,-77.03\"/>\n",
       "<polygon fill=\"black\" stroke=\"black\" points=\"367,-77.27 363.5,-67.27 360,-77.27 367,-77.27\"/>\n",
       "</g>\n",
       "</g>\n",
       "</svg>\n"
      ],
      "text/plain": [
       "<graphviz.graphs.Digraph at 0x14a380af0>"
      ]
     },
     "metadata": {},
     "output_type": "display_data"
    },
    {
     "data": {
      "image/svg+xml": [
       "<?xml version=\"1.0\" encoding=\"UTF-8\" standalone=\"no\"?>\n",
       "<!DOCTYPE svg PUBLIC \"-//W3C//DTD SVG 1.1//EN\"\n",
       " \"http://www.w3.org/Graphics/SVG/1.1/DTD/svg11.dtd\">\n",
       "<!-- Generated by graphviz version 7.0.2 (20221119.0110)\n",
       " -->\n",
       "<!-- Pages: 1 -->\n",
       "<svg width=\"446pt\" height=\"329pt\"\n",
       " viewBox=\"0.00 0.00 446.00 329.00\" xmlns=\"http://www.w3.org/2000/svg\" xmlns:xlink=\"http://www.w3.org/1999/xlink\">\n",
       "<g id=\"graph0\" class=\"graph\" transform=\"scale(1 1) rotate(0) translate(4 325)\">\n",
       "<polygon fill=\"white\" stroke=\"none\" points=\"-4,4 -4,-325 442,-325 442,4 -4,4\"/>\n",
       "<!-- 0 -->\n",
       "<g id=\"node1\" class=\"node\">\n",
       "<title>0</title>\n",
       "<text text-anchor=\"middle\" x=\"209.5\" y=\"-309.8\" font-family=\"Times,serif\" font-size=\"14.00\">&lt;start&gt;</text>\n",
       "</g>\n",
       "<!-- 1 -->\n",
       "<g id=\"node2\" class=\"node\">\n",
       "<title>1</title>\n",
       "<text text-anchor=\"middle\" x=\"209.5\" y=\"-258.8\" font-family=\"Times,serif\" font-size=\"14.00\">&lt;xml&#45;tree&gt;</text>\n",
       "</g>\n",
       "<!-- 0&#45;&gt;1 -->\n",
       "<g id=\"edge1\" class=\"edge\">\n",
       "<title>0&#45;&gt;1</title>\n",
       "<path fill=\"none\" stroke=\"black\" d=\"M209.5,-306.09C209.5,-299.75 209.5,-289.75 209.5,-281.03\"/>\n",
       "<polygon fill=\"black\" stroke=\"black\" points=\"213,-281.27 209.5,-271.27 206,-281.27 213,-281.27\"/>\n",
       "</g>\n",
       "<!-- 2 -->\n",
       "<g id=\"node3\" class=\"node\">\n",
       "<title>2</title>\n",
       "<text text-anchor=\"middle\" x=\"99.5\" y=\"-207.8\" font-family=\"Times,serif\" font-size=\"14.00\">&lt;xml&#45;open&#45;tag&gt;</text>\n",
       "</g>\n",
       "<!-- 1&#45;&gt;2 -->\n",
       "<g id=\"edge2\" class=\"edge\">\n",
       "<title>1&#45;&gt;2</title>\n",
       "<path fill=\"none\" stroke=\"black\" d=\"M195.12,-255.09C177.17,-247.1 146.17,-233.29 124.34,-223.57\"/>\n",
       "<polygon fill=\"black\" stroke=\"black\" points=\"125.83,-220.4 115.27,-219.52 122.98,-226.79 125.83,-220.4\"/>\n",
       "</g>\n",
       "<!-- 7 -->\n",
       "<g id=\"node8\" class=\"node\">\n",
       "<title>7</title>\n",
       "<text text-anchor=\"middle\" x=\"209.5\" y=\"-207.8\" font-family=\"Times,serif\" font-size=\"14.00\">&lt;xml&#45;tree&gt;</text>\n",
       "</g>\n",
       "<!-- 1&#45;&gt;7 -->\n",
       "<g id=\"edge7\" class=\"edge\">\n",
       "<title>1&#45;&gt;7</title>\n",
       "<path fill=\"none\" stroke=\"black\" d=\"M209.5,-255.09C209.5,-248.75 209.5,-238.75 209.5,-230.03\"/>\n",
       "<polygon fill=\"black\" stroke=\"black\" points=\"213,-230.27 209.5,-220.27 206,-230.27 213,-230.27\"/>\n",
       "</g>\n",
       "<!-- 18 -->\n",
       "<g id=\"node19\" class=\"node\">\n",
       "<title>18</title>\n",
       "<text text-anchor=\"middle\" x=\"350.5\" y=\"-207.8\" font-family=\"Times,serif\" font-size=\"14.00\">&lt;xml&#45;close&#45;tag&gt;</text>\n",
       "</g>\n",
       "<!-- 1&#45;&gt;18 -->\n",
       "<g id=\"edge18\" class=\"edge\">\n",
       "<title>1&#45;&gt;18</title>\n",
       "<path fill=\"none\" stroke=\"black\" d=\"M227.93,-255.09C251.68,-246.84 293.25,-232.4 321.31,-222.64\"/>\n",
       "<polygon fill=\"black\" stroke=\"black\" points=\"322.34,-225.99 330.63,-219.4 320.04,-219.38 322.34,-225.99\"/>\n",
       "</g>\n",
       "<!-- 3 -->\n",
       "<g id=\"node4\" class=\"node\">\n",
       "<title>3</title>\n",
       "<text text-anchor=\"middle\" x=\"17.5\" y=\"-156.8\" font-family=\"Times,serif\" font-size=\"14.00\">&lt; (60)</text>\n",
       "</g>\n",
       "<!-- 2&#45;&gt;3 -->\n",
       "<g id=\"edge3\" class=\"edge\">\n",
       "<title>2&#45;&gt;3</title>\n",
       "<path fill=\"none\" stroke=\"black\" d=\"M88.78,-204.09C75.89,-196.39 53.97,-183.3 37.84,-173.65\"/>\n",
       "<polygon fill=\"black\" stroke=\"black\" points=\"39.9,-170.81 29.52,-168.68 36.31,-176.82 39.9,-170.81\"/>\n",
       "</g>\n",
       "<!-- 4 -->\n",
       "<g id=\"node5\" class=\"node\">\n",
       "<title>4</title>\n",
       "<text text-anchor=\"middle\" x=\"67.5\" y=\"-156.8\" font-family=\"Times,serif\" font-size=\"14.00\">&lt;id&gt;</text>\n",
       "</g>\n",
       "<!-- 2&#45;&gt;4 -->\n",
       "<g id=\"edge4\" class=\"edge\">\n",
       "<title>2&#45;&gt;4</title>\n",
       "<path fill=\"none\" stroke=\"black\" d=\"M95.32,-204.09C90.88,-197.31 83.72,-186.33 77.77,-177.23\"/>\n",
       "<polygon fill=\"black\" stroke=\"black\" points=\"80.81,-175.48 72.41,-169.02 74.95,-179.31 80.81,-175.48\"/>\n",
       "</g>\n",
       "<!-- 6 -->\n",
       "<g id=\"node7\" class=\"node\">\n",
       "<title>6</title>\n",
       "<text text-anchor=\"middle\" x=\"117.5\" y=\"-156.8\" font-family=\"Times,serif\" font-size=\"14.00\">&gt; (62)</text>\n",
       "</g>\n",
       "<!-- 2&#45;&gt;6 -->\n",
       "<g id=\"edge6\" class=\"edge\">\n",
       "<title>2&#45;&gt;6</title>\n",
       "<path fill=\"none\" stroke=\"black\" d=\"M101.85,-204.09C104.24,-197.6 108.03,-187.28 111.28,-178.42\"/>\n",
       "<polygon fill=\"black\" stroke=\"black\" points=\"114.52,-179.77 114.68,-169.17 107.95,-177.35 114.52,-179.77\"/>\n",
       "</g>\n",
       "<!-- 5 -->\n",
       "<g id=\"node6\" class=\"node\">\n",
       "<title>5</title>\n",
       "<text text-anchor=\"middle\" x=\"64.5\" y=\"-105.8\" font-family=\"Times,serif\" font-size=\"14.00\">html</text>\n",
       "</g>\n",
       "<!-- 4&#45;&gt;5 -->\n",
       "<g id=\"edge5\" class=\"edge\">\n",
       "<title>4&#45;&gt;5</title>\n",
       "<path fill=\"none\" stroke=\"black\" d=\"M67.11,-153.09C66.72,-146.75 66.11,-136.75 65.57,-128.03\"/>\n",
       "<polygon fill=\"black\" stroke=\"black\" points=\"69.08,-128.03 64.98,-118.26 62.09,-128.46 69.08,-128.03\"/>\n",
       "</g>\n",
       "<!-- 8 -->\n",
       "<g id=\"node9\" class=\"node\">\n",
       "<title>8</title>\n",
       "<text text-anchor=\"middle\" x=\"192.5\" y=\"-156.8\" font-family=\"Times,serif\" font-size=\"14.00\">&lt;xml&#45;tree&gt;</text>\n",
       "</g>\n",
       "<!-- 7&#45;&gt;8 -->\n",
       "<g id=\"edge8\" class=\"edge\">\n",
       "<title>7&#45;&gt;8</title>\n",
       "<path fill=\"none\" stroke=\"black\" d=\"M207.28,-204.09C205.03,-197.6 201.44,-187.28 198.37,-178.42\"/>\n",
       "<polygon fill=\"black\" stroke=\"black\" points=\"201.75,-177.48 195.17,-169.18 195.14,-179.78 201.75,-177.48\"/>\n",
       "</g>\n",
       "<!-- 15 -->\n",
       "<g id=\"node16\" class=\"node\">\n",
       "<title>15</title>\n",
       "<text text-anchor=\"middle\" x=\"274.5\" y=\"-156.8\" font-family=\"Times,serif\" font-size=\"14.00\">&lt;xml&#45;tree&gt;</text>\n",
       "</g>\n",
       "<!-- 7&#45;&gt;15 -->\n",
       "<g id=\"edge15\" class=\"edge\">\n",
       "<title>7&#45;&gt;15</title>\n",
       "<path fill=\"none\" stroke=\"black\" d=\"M218,-204.09C227.88,-196.64 244.46,-184.15 257.11,-174.61\"/>\n",
       "<polygon fill=\"black\" stroke=\"black\" points=\"259.12,-177.48 265,-168.66 254.91,-171.89 259.12,-177.48\"/>\n",
       "</g>\n",
       "<!-- 9 -->\n",
       "<g id=\"node10\" class=\"node\">\n",
       "<title>9</title>\n",
       "<text text-anchor=\"middle\" x=\"127.5\" y=\"-105.8\" font-family=\"Times,serif\" font-size=\"14.00\">&lt;xml&#45;tree&gt;</text>\n",
       "</g>\n",
       "<!-- 8&#45;&gt;9 -->\n",
       "<g id=\"edge9\" class=\"edge\">\n",
       "<title>8&#45;&gt;9</title>\n",
       "<path fill=\"none\" stroke=\"black\" d=\"M184,-153.09C174.12,-145.64 157.54,-133.15 144.89,-123.61\"/>\n",
       "<polygon fill=\"black\" stroke=\"black\" points=\"147.09,-120.89 137,-117.66 142.88,-126.48 147.09,-120.89\"/>\n",
       "</g>\n",
       "<!-- 12 -->\n",
       "<g id=\"node13\" class=\"node\">\n",
       "<title>12</title>\n",
       "<text text-anchor=\"middle\" x=\"209.5\" y=\"-105.8\" font-family=\"Times,serif\" font-size=\"14.00\">&lt;xml&#45;tree&gt;</text>\n",
       "</g>\n",
       "<!-- 8&#45;&gt;12 -->\n",
       "<g id=\"edge12\" class=\"edge\">\n",
       "<title>8&#45;&gt;12</title>\n",
       "<path fill=\"none\" stroke=\"black\" d=\"M194.72,-153.09C196.97,-146.6 200.56,-136.28 203.63,-127.42\"/>\n",
       "<polygon fill=\"black\" stroke=\"black\" points=\"206.86,-128.78 206.83,-118.18 200.25,-126.48 206.86,-128.78\"/>\n",
       "</g>\n",
       "<!-- 10 -->\n",
       "<g id=\"node11\" class=\"node\">\n",
       "<title>10</title>\n",
       "<text text-anchor=\"middle\" x=\"127.5\" y=\"-54.8\" font-family=\"Times,serif\" font-size=\"14.00\">&lt;text&gt;</text>\n",
       "</g>\n",
       "<!-- 9&#45;&gt;10 -->\n",
       "<g id=\"edge10\" class=\"edge\">\n",
       "<title>9&#45;&gt;10</title>\n",
       "<path fill=\"none\" stroke=\"black\" d=\"M127.5,-102.09C127.5,-95.75 127.5,-85.75 127.5,-77.03\"/>\n",
       "<polygon fill=\"black\" stroke=\"black\" points=\"131,-77.27 127.5,-67.27 124,-77.27 131,-77.27\"/>\n",
       "</g>\n",
       "<!-- 11 -->\n",
       "<g id=\"node12\" class=\"node\">\n",
       "<title>11</title>\n",
       "<text text-anchor=\"middle\" x=\"127.5\" y=\"-3.8\" font-family=\"Times,serif\" font-size=\"14.00\">T (84)</text>\n",
       "</g>\n",
       "<!-- 10&#45;&gt;11 -->\n",
       "<g id=\"edge11\" class=\"edge\">\n",
       "<title>10&#45;&gt;11</title>\n",
       "<path fill=\"none\" stroke=\"black\" d=\"M127.5,-51.09C127.5,-44.75 127.5,-34.75 127.5,-26.03\"/>\n",
       "<polygon fill=\"black\" stroke=\"black\" points=\"131,-26.27 127.5,-16.27 124,-26.27 131,-26.27\"/>\n",
       "</g>\n",
       "<!-- 13 -->\n",
       "<g id=\"node14\" class=\"node\">\n",
       "<title>13</title>\n",
       "<text text-anchor=\"middle\" x=\"209.5\" y=\"-54.8\" font-family=\"Times,serif\" font-size=\"14.00\">&lt;text&gt;</text>\n",
       "</g>\n",
       "<!-- 12&#45;&gt;13 -->\n",
       "<g id=\"edge13\" class=\"edge\">\n",
       "<title>12&#45;&gt;13</title>\n",
       "<path fill=\"none\" stroke=\"black\" d=\"M209.5,-102.09C209.5,-95.75 209.5,-85.75 209.5,-77.03\"/>\n",
       "<polygon fill=\"black\" stroke=\"black\" points=\"213,-77.27 209.5,-67.27 206,-77.27 213,-77.27\"/>\n",
       "</g>\n",
       "<!-- 14 -->\n",
       "<g id=\"node15\" class=\"node\">\n",
       "<title>14</title>\n",
       "<text text-anchor=\"middle\" x=\"209.5\" y=\"-3.8\" font-family=\"Times,serif\" font-size=\"14.00\">e (101)</text>\n",
       "</g>\n",
       "<!-- 13&#45;&gt;14 -->\n",
       "<g id=\"edge14\" class=\"edge\">\n",
       "<title>13&#45;&gt;14</title>\n",
       "<path fill=\"none\" stroke=\"black\" d=\"M209.5,-51.09C209.5,-44.75 209.5,-34.75 209.5,-26.03\"/>\n",
       "<polygon fill=\"black\" stroke=\"black\" points=\"213,-26.27 209.5,-16.27 206,-26.27 213,-26.27\"/>\n",
       "</g>\n",
       "<!-- 16 -->\n",
       "<g id=\"node17\" class=\"node\">\n",
       "<title>16</title>\n",
       "<text text-anchor=\"middle\" x=\"278.5\" y=\"-105.8\" font-family=\"Times,serif\" font-size=\"14.00\">&lt;text&gt;</text>\n",
       "</g>\n",
       "<!-- 15&#45;&gt;16 -->\n",
       "<g id=\"edge16\" class=\"edge\">\n",
       "<title>15&#45;&gt;16</title>\n",
       "<path fill=\"none\" stroke=\"black\" d=\"M275.02,-153.09C275.54,-146.75 276.36,-136.75 277.07,-128.03\"/>\n",
       "<polygon fill=\"black\" stroke=\"black\" points=\"280.54,-128.51 277.87,-118.26 273.56,-127.94 280.54,-128.51\"/>\n",
       "</g>\n",
       "<!-- 17 -->\n",
       "<g id=\"node18\" class=\"node\">\n",
       "<title>17</title>\n",
       "<text text-anchor=\"middle\" x=\"278.5\" y=\"-54.8\" font-family=\"Times,serif\" font-size=\"14.00\">xt</text>\n",
       "</g>\n",
       "<!-- 16&#45;&gt;17 -->\n",
       "<g id=\"edge17\" class=\"edge\">\n",
       "<title>16&#45;&gt;17</title>\n",
       "<path fill=\"none\" stroke=\"black\" d=\"M278.5,-102.09C278.5,-95.75 278.5,-85.75 278.5,-77.03\"/>\n",
       "<polygon fill=\"black\" stroke=\"black\" points=\"282,-77.27 278.5,-67.27 275,-77.27 282,-77.27\"/>\n",
       "</g>\n",
       "<!-- 19 -->\n",
       "<g id=\"node20\" class=\"node\">\n",
       "<title>19</title>\n",
       "<text text-anchor=\"middle\" x=\"331.5\" y=\"-156.8\" font-family=\"Times,serif\" font-size=\"14.00\">&lt;/</text>\n",
       "</g>\n",
       "<!-- 18&#45;&gt;19 -->\n",
       "<g id=\"edge19\" class=\"edge\">\n",
       "<title>18&#45;&gt;19</title>\n",
       "<path fill=\"none\" stroke=\"black\" d=\"M348.02,-204.09C345.5,-197.6 341.5,-187.28 338.06,-178.42\"/>\n",
       "<polygon fill=\"black\" stroke=\"black\" points=\"341.35,-177.22 334.47,-169.16 334.82,-179.75 341.35,-177.22\"/>\n",
       "</g>\n",
       "<!-- 20 -->\n",
       "<g id=\"node21\" class=\"node\">\n",
       "<title>20</title>\n",
       "<text text-anchor=\"middle\" x=\"370.5\" y=\"-156.8\" font-family=\"Times,serif\" font-size=\"14.00\">&lt;id&gt;</text>\n",
       "</g>\n",
       "<!-- 18&#45;&gt;20 -->\n",
       "<g id=\"edge20\" class=\"edge\">\n",
       "<title>18&#45;&gt;20</title>\n",
       "<path fill=\"none\" stroke=\"black\" d=\"M353.11,-204.09C355.79,-197.53 360.07,-187.05 363.72,-178.12\"/>\n",
       "<polygon fill=\"black\" stroke=\"black\" points=\"366.84,-179.73 367.38,-169.15 360.36,-177.09 366.84,-179.73\"/>\n",
       "</g>\n",
       "<!-- 22 -->\n",
       "<g id=\"node23\" class=\"node\">\n",
       "<title>22</title>\n",
       "<text text-anchor=\"middle\" x=\"420.5\" y=\"-156.8\" font-family=\"Times,serif\" font-size=\"14.00\">&gt; (62)</text>\n",
       "</g>\n",
       "<!-- 18&#45;&gt;22 -->\n",
       "<g id=\"edge22\" class=\"edge\">\n",
       "<title>18&#45;&gt;22</title>\n",
       "<path fill=\"none\" stroke=\"black\" d=\"M359.65,-204.09C370.4,-196.57 388.5,-183.9 402.17,-174.33\"/>\n",
       "<polygon fill=\"black\" stroke=\"black\" points=\"404.14,-177.22 410.33,-168.62 400.13,-171.49 404.14,-177.22\"/>\n",
       "</g>\n",
       "<!-- 21 -->\n",
       "<g id=\"node22\" class=\"node\">\n",
       "<title>21</title>\n",
       "<text text-anchor=\"middle\" x=\"370.5\" y=\"-105.8\" font-family=\"Times,serif\" font-size=\"14.00\">html</text>\n",
       "</g>\n",
       "<!-- 20&#45;&gt;21 -->\n",
       "<g id=\"edge21\" class=\"edge\">\n",
       "<title>20&#45;&gt;21</title>\n",
       "<path fill=\"none\" stroke=\"black\" d=\"M370.5,-153.09C370.5,-146.75 370.5,-136.75 370.5,-128.03\"/>\n",
       "<polygon fill=\"black\" stroke=\"black\" points=\"374,-128.27 370.5,-118.27 367,-128.27 374,-128.27\"/>\n",
       "</g>\n",
       "</g>\n",
       "</svg>\n"
      ],
      "text/plain": [
       "<graphviz.graphs.Digraph at 0x14a5c46a0>"
      ]
     },
     "metadata": {},
     "output_type": "display_data"
    },
    {
     "data": {
      "image/svg+xml": [
       "<?xml version=\"1.0\" encoding=\"UTF-8\" standalone=\"no\"?>\n",
       "<!DOCTYPE svg PUBLIC \"-//W3C//DTD SVG 1.1//EN\"\n",
       " \"http://www.w3.org/Graphics/SVG/1.1/DTD/svg11.dtd\">\n",
       "<!-- Generated by graphviz version 7.0.2 (20221119.0110)\n",
       " -->\n",
       "<!-- Pages: 1 -->\n",
       "<svg width=\"439pt\" height=\"278pt\"\n",
       " viewBox=\"0.00 0.00 439.00 278.00\" xmlns=\"http://www.w3.org/2000/svg\" xmlns:xlink=\"http://www.w3.org/1999/xlink\">\n",
       "<g id=\"graph0\" class=\"graph\" transform=\"scale(1 1) rotate(0) translate(4 274)\">\n",
       "<polygon fill=\"white\" stroke=\"none\" points=\"-4,4 -4,-274 435,-274 435,4 -4,4\"/>\n",
       "<!-- 0 -->\n",
       "<g id=\"node1\" class=\"node\">\n",
       "<title>0</title>\n",
       "<text text-anchor=\"middle\" x=\"204.5\" y=\"-258.8\" font-family=\"Times,serif\" font-size=\"14.00\">&lt;start&gt;</text>\n",
       "</g>\n",
       "<!-- 1 -->\n",
       "<g id=\"node2\" class=\"node\">\n",
       "<title>1</title>\n",
       "<text text-anchor=\"middle\" x=\"204.5\" y=\"-207.8\" font-family=\"Times,serif\" font-size=\"14.00\">&lt;xml&#45;tree&gt;</text>\n",
       "</g>\n",
       "<!-- 0&#45;&gt;1 -->\n",
       "<g id=\"edge1\" class=\"edge\">\n",
       "<title>0&#45;&gt;1</title>\n",
       "<path fill=\"none\" stroke=\"black\" d=\"M204.5,-255.09C204.5,-248.75 204.5,-238.75 204.5,-230.03\"/>\n",
       "<polygon fill=\"black\" stroke=\"black\" points=\"208,-230.27 204.5,-220.27 201,-230.27 208,-230.27\"/>\n",
       "</g>\n",
       "<!-- 2 -->\n",
       "<g id=\"node3\" class=\"node\">\n",
       "<title>2</title>\n",
       "<text text-anchor=\"middle\" x=\"97.5\" y=\"-156.8\" font-family=\"Times,serif\" font-size=\"14.00\">&lt;xml&#45;open&#45;tag&gt;</text>\n",
       "</g>\n",
       "<!-- 1&#45;&gt;2 -->\n",
       "<g id=\"edge2\" class=\"edge\">\n",
       "<title>1&#45;&gt;2</title>\n",
       "<path fill=\"none\" stroke=\"black\" d=\"M190.51,-204.09C173.13,-196.13 143.17,-182.42 121.96,-172.7\"/>\n",
       "<polygon fill=\"black\" stroke=\"black\" points=\"123.42,-169.52 112.87,-168.54 120.5,-175.88 123.42,-169.52\"/>\n",
       "</g>\n",
       "<!-- 7 -->\n",
       "<g id=\"node8\" class=\"node\">\n",
       "<title>7</title>\n",
       "<text text-anchor=\"middle\" x=\"204.5\" y=\"-156.8\" font-family=\"Times,serif\" font-size=\"14.00\">&lt;xml&#45;tree&gt;</text>\n",
       "</g>\n",
       "<!-- 1&#45;&gt;7 -->\n",
       "<g id=\"edge7\" class=\"edge\">\n",
       "<title>1&#45;&gt;7</title>\n",
       "<path fill=\"none\" stroke=\"black\" d=\"M204.5,-204.09C204.5,-197.75 204.5,-187.75 204.5,-179.03\"/>\n",
       "<polygon fill=\"black\" stroke=\"black\" points=\"208,-179.27 204.5,-169.27 201,-179.27 208,-179.27\"/>\n",
       "</g>\n",
       "<!-- 14 -->\n",
       "<g id=\"node15\" class=\"node\">\n",
       "<title>14</title>\n",
       "<text text-anchor=\"middle\" x=\"343.5\" y=\"-156.8\" font-family=\"Times,serif\" font-size=\"14.00\">&lt;xml&#45;close&#45;tag&gt;</text>\n",
       "</g>\n",
       "<!-- 1&#45;&gt;14 -->\n",
       "<g id=\"edge14\" class=\"edge\">\n",
       "<title>1&#45;&gt;14</title>\n",
       "<path fill=\"none\" stroke=\"black\" d=\"M222.67,-204.09C246.09,-195.84 287.06,-181.4 314.73,-171.64\"/>\n",
       "<polygon fill=\"black\" stroke=\"black\" points=\"315.63,-175.04 323.9,-168.41 313.3,-168.43 315.63,-175.04\"/>\n",
       "</g>\n",
       "<!-- 3 -->\n",
       "<g id=\"node4\" class=\"node\">\n",
       "<title>3</title>\n",
       "<text text-anchor=\"middle\" x=\"17.5\" y=\"-105.8\" font-family=\"Times,serif\" font-size=\"14.00\">&lt; (60)</text>\n",
       "</g>\n",
       "<!-- 2&#45;&gt;3 -->\n",
       "<g id=\"edge3\" class=\"edge\">\n",
       "<title>2&#45;&gt;3</title>\n",
       "<path fill=\"none\" stroke=\"black\" d=\"M87.04,-153.09C74.46,-145.39 53.08,-132.3 37.34,-122.65\"/>\n",
       "<polygon fill=\"black\" stroke=\"black\" points=\"39.61,-119.94 29.25,-117.7 35.95,-125.91 39.61,-119.94\"/>\n",
       "</g>\n",
       "<!-- 4 -->\n",
       "<g id=\"node5\" class=\"node\">\n",
       "<title>4</title>\n",
       "<text text-anchor=\"middle\" x=\"67.5\" y=\"-105.8\" font-family=\"Times,serif\" font-size=\"14.00\">&lt;id&gt;</text>\n",
       "</g>\n",
       "<!-- 2&#45;&gt;4 -->\n",
       "<g id=\"edge4\" class=\"edge\">\n",
       "<title>2&#45;&gt;4</title>\n",
       "<path fill=\"none\" stroke=\"black\" d=\"M93.58,-153.09C89.47,-146.38 82.85,-135.57 77.31,-126.52\"/>\n",
       "<polygon fill=\"black\" stroke=\"black\" points=\"80.32,-124.74 72.12,-118.04 74.35,-128.4 80.32,-124.74\"/>\n",
       "</g>\n",
       "<!-- 6 -->\n",
       "<g id=\"node7\" class=\"node\">\n",
       "<title>6</title>\n",
       "<text text-anchor=\"middle\" x=\"117.5\" y=\"-105.8\" font-family=\"Times,serif\" font-size=\"14.00\">&gt; (62)</text>\n",
       "</g>\n",
       "<!-- 2&#45;&gt;6 -->\n",
       "<g id=\"edge6\" class=\"edge\">\n",
       "<title>2&#45;&gt;6</title>\n",
       "<path fill=\"none\" stroke=\"black\" d=\"M100.11,-153.09C102.79,-146.53 107.07,-136.05 110.72,-127.12\"/>\n",
       "<polygon fill=\"black\" stroke=\"black\" points=\"113.84,-128.73 114.38,-118.15 107.36,-126.09 113.84,-128.73\"/>\n",
       "</g>\n",
       "<!-- 5 -->\n",
       "<g id=\"node6\" class=\"node\">\n",
       "<title>5</title>\n",
       "<text text-anchor=\"middle\" x=\"67.5\" y=\"-54.8\" font-family=\"Times,serif\" font-size=\"14.00\">html</text>\n",
       "</g>\n",
       "<!-- 4&#45;&gt;5 -->\n",
       "<g id=\"edge5\" class=\"edge\">\n",
       "<title>4&#45;&gt;5</title>\n",
       "<path fill=\"none\" stroke=\"black\" d=\"M67.5,-102.09C67.5,-95.75 67.5,-85.75 67.5,-77.03\"/>\n",
       "<polygon fill=\"black\" stroke=\"black\" points=\"71,-77.27 67.5,-67.27 64,-77.27 71,-77.27\"/>\n",
       "</g>\n",
       "<!-- 8 -->\n",
       "<g id=\"node9\" class=\"node\">\n",
       "<title>8</title>\n",
       "<text text-anchor=\"middle\" x=\"185.5\" y=\"-105.8\" font-family=\"Times,serif\" font-size=\"14.00\">&lt;xml&#45;tree&gt;</text>\n",
       "</g>\n",
       "<!-- 7&#45;&gt;8 -->\n",
       "<g id=\"edge8\" class=\"edge\">\n",
       "<title>7&#45;&gt;8</title>\n",
       "<path fill=\"none\" stroke=\"black\" d=\"M202.02,-153.09C199.5,-146.6 195.5,-136.28 192.06,-127.42\"/>\n",
       "<polygon fill=\"black\" stroke=\"black\" points=\"195.35,-126.22 188.47,-118.16 188.82,-128.75 195.35,-126.22\"/>\n",
       "</g>\n",
       "<!-- 11 -->\n",
       "<g id=\"node12\" class=\"node\">\n",
       "<title>11</title>\n",
       "<text text-anchor=\"middle\" x=\"267.5\" y=\"-105.8\" font-family=\"Times,serif\" font-size=\"14.00\">&lt;xml&#45;tree&gt;</text>\n",
       "</g>\n",
       "<!-- 7&#45;&gt;11 -->\n",
       "<g id=\"edge11\" class=\"edge\">\n",
       "<title>7&#45;&gt;11</title>\n",
       "<path fill=\"none\" stroke=\"black\" d=\"M212.74,-153.09C222.32,-145.64 238.38,-133.15 250.64,-123.61\"/>\n",
       "<polygon fill=\"black\" stroke=\"black\" points=\"252.52,-126.58 258.27,-117.68 248.22,-121.06 252.52,-126.58\"/>\n",
       "</g>\n",
       "<!-- 9 -->\n",
       "<g id=\"node10\" class=\"node\">\n",
       "<title>9</title>\n",
       "<text text-anchor=\"middle\" x=\"185.5\" y=\"-54.8\" font-family=\"Times,serif\" font-size=\"14.00\">&lt;text&gt;</text>\n",
       "</g>\n",
       "<!-- 8&#45;&gt;9 -->\n",
       "<g id=\"edge9\" class=\"edge\">\n",
       "<title>8&#45;&gt;9</title>\n",
       "<path fill=\"none\" stroke=\"black\" d=\"M185.5,-102.09C185.5,-95.75 185.5,-85.75 185.5,-77.03\"/>\n",
       "<polygon fill=\"black\" stroke=\"black\" points=\"189,-77.27 185.5,-67.27 182,-77.27 189,-77.27\"/>\n",
       "</g>\n",
       "<!-- 10 -->\n",
       "<g id=\"node11\" class=\"node\">\n",
       "<title>10</title>\n",
       "<text text-anchor=\"middle\" x=\"185.5\" y=\"-3.8\" font-family=\"Times,serif\" font-size=\"14.00\">Tex</text>\n",
       "</g>\n",
       "<!-- 9&#45;&gt;10 -->\n",
       "<g id=\"edge10\" class=\"edge\">\n",
       "<title>9&#45;&gt;10</title>\n",
       "<path fill=\"none\" stroke=\"black\" d=\"M185.5,-51.09C185.5,-44.75 185.5,-34.75 185.5,-26.03\"/>\n",
       "<polygon fill=\"black\" stroke=\"black\" points=\"189,-26.27 185.5,-16.27 182,-26.27 189,-26.27\"/>\n",
       "</g>\n",
       "<!-- 12 -->\n",
       "<g id=\"node13\" class=\"node\">\n",
       "<title>12</title>\n",
       "<text text-anchor=\"middle\" x=\"267.5\" y=\"-54.8\" font-family=\"Times,serif\" font-size=\"14.00\">&lt;text&gt;</text>\n",
       "</g>\n",
       "<!-- 11&#45;&gt;12 -->\n",
       "<g id=\"edge12\" class=\"edge\">\n",
       "<title>11&#45;&gt;12</title>\n",
       "<path fill=\"none\" stroke=\"black\" d=\"M267.5,-102.09C267.5,-95.75 267.5,-85.75 267.5,-77.03\"/>\n",
       "<polygon fill=\"black\" stroke=\"black\" points=\"271,-77.27 267.5,-67.27 264,-77.27 271,-77.27\"/>\n",
       "</g>\n",
       "<!-- 13 -->\n",
       "<g id=\"node14\" class=\"node\">\n",
       "<title>13</title>\n",
       "<text text-anchor=\"middle\" x=\"267.5\" y=\"-3.8\" font-family=\"Times,serif\" font-size=\"14.00\">t (116)</text>\n",
       "</g>\n",
       "<!-- 12&#45;&gt;13 -->\n",
       "<g id=\"edge13\" class=\"edge\">\n",
       "<title>12&#45;&gt;13</title>\n",
       "<path fill=\"none\" stroke=\"black\" d=\"M267.5,-51.09C267.5,-44.75 267.5,-34.75 267.5,-26.03\"/>\n",
       "<polygon fill=\"black\" stroke=\"black\" points=\"271,-26.27 267.5,-16.27 264,-26.27 271,-26.27\"/>\n",
       "</g>\n",
       "<!-- 15 -->\n",
       "<g id=\"node16\" class=\"node\">\n",
       "<title>15</title>\n",
       "<text text-anchor=\"middle\" x=\"324.5\" y=\"-105.8\" font-family=\"Times,serif\" font-size=\"14.00\">&lt;/</text>\n",
       "</g>\n",
       "<!-- 14&#45;&gt;15 -->\n",
       "<g id=\"edge15\" class=\"edge\">\n",
       "<title>14&#45;&gt;15</title>\n",
       "<path fill=\"none\" stroke=\"black\" d=\"M341.02,-153.09C338.5,-146.6 334.5,-136.28 331.06,-127.42\"/>\n",
       "<polygon fill=\"black\" stroke=\"black\" points=\"334.35,-126.22 327.47,-118.16 327.82,-128.75 334.35,-126.22\"/>\n",
       "</g>\n",
       "<!-- 16 -->\n",
       "<g id=\"node17\" class=\"node\">\n",
       "<title>16</title>\n",
       "<text text-anchor=\"middle\" x=\"363.5\" y=\"-105.8\" font-family=\"Times,serif\" font-size=\"14.00\">&lt;id&gt;</text>\n",
       "</g>\n",
       "<!-- 14&#45;&gt;16 -->\n",
       "<g id=\"edge16\" class=\"edge\">\n",
       "<title>14&#45;&gt;16</title>\n",
       "<path fill=\"none\" stroke=\"black\" d=\"M346.11,-153.09C348.79,-146.53 353.07,-136.05 356.72,-127.12\"/>\n",
       "<polygon fill=\"black\" stroke=\"black\" points=\"359.84,-128.73 360.38,-118.15 353.36,-126.09 359.84,-128.73\"/>\n",
       "</g>\n",
       "<!-- 18 -->\n",
       "<g id=\"node19\" class=\"node\">\n",
       "<title>18</title>\n",
       "<text text-anchor=\"middle\" x=\"413.5\" y=\"-105.8\" font-family=\"Times,serif\" font-size=\"14.00\">&gt; (62)</text>\n",
       "</g>\n",
       "<!-- 14&#45;&gt;18 -->\n",
       "<g id=\"edge18\" class=\"edge\">\n",
       "<title>14&#45;&gt;18</title>\n",
       "<path fill=\"none\" stroke=\"black\" d=\"M352.65,-153.09C363.4,-145.57 381.5,-132.9 395.17,-123.33\"/>\n",
       "<polygon fill=\"black\" stroke=\"black\" points=\"397.14,-126.22 403.33,-117.62 393.13,-120.49 397.14,-126.22\"/>\n",
       "</g>\n",
       "<!-- 17 -->\n",
       "<g id=\"node18\" class=\"node\">\n",
       "<title>17</title>\n",
       "<text text-anchor=\"middle\" x=\"363.5\" y=\"-54.8\" font-family=\"Times,serif\" font-size=\"14.00\">html</text>\n",
       "</g>\n",
       "<!-- 16&#45;&gt;17 -->\n",
       "<g id=\"edge17\" class=\"edge\">\n",
       "<title>16&#45;&gt;17</title>\n",
       "<path fill=\"none\" stroke=\"black\" d=\"M363.5,-102.09C363.5,-95.75 363.5,-85.75 363.5,-77.03\"/>\n",
       "<polygon fill=\"black\" stroke=\"black\" points=\"367,-77.27 363.5,-67.27 360,-77.27 367,-77.27\"/>\n",
       "</g>\n",
       "</g>\n",
       "</svg>\n"
      ],
      "text/plain": [
       "<graphviz.graphs.Digraph at 0x14a5c4a90>"
      ]
     },
     "metadata": {},
     "output_type": "display_data"
    },
    {
     "data": {
      "image/svg+xml": [
       "<?xml version=\"1.0\" encoding=\"UTF-8\" standalone=\"no\"?>\n",
       "<!DOCTYPE svg PUBLIC \"-//W3C//DTD SVG 1.1//EN\"\n",
       " \"http://www.w3.org/Graphics/SVG/1.1/DTD/svg11.dtd\">\n",
       "<!-- Generated by graphviz version 7.0.2 (20221119.0110)\n",
       " -->\n",
       "<!-- Pages: 1 -->\n",
       "<svg width=\"446pt\" height=\"329pt\"\n",
       " viewBox=\"0.00 0.00 446.00 329.00\" xmlns=\"http://www.w3.org/2000/svg\" xmlns:xlink=\"http://www.w3.org/1999/xlink\">\n",
       "<g id=\"graph0\" class=\"graph\" transform=\"scale(1 1) rotate(0) translate(4 325)\">\n",
       "<polygon fill=\"white\" stroke=\"none\" points=\"-4,4 -4,-325 442,-325 442,4 -4,4\"/>\n",
       "<!-- 0 -->\n",
       "<g id=\"node1\" class=\"node\">\n",
       "<title>0</title>\n",
       "<text text-anchor=\"middle\" x=\"209.5\" y=\"-309.8\" font-family=\"Times,serif\" font-size=\"14.00\">&lt;start&gt;</text>\n",
       "</g>\n",
       "<!-- 1 -->\n",
       "<g id=\"node2\" class=\"node\">\n",
       "<title>1</title>\n",
       "<text text-anchor=\"middle\" x=\"209.5\" y=\"-258.8\" font-family=\"Times,serif\" font-size=\"14.00\">&lt;xml&#45;tree&gt;</text>\n",
       "</g>\n",
       "<!-- 0&#45;&gt;1 -->\n",
       "<g id=\"edge1\" class=\"edge\">\n",
       "<title>0&#45;&gt;1</title>\n",
       "<path fill=\"none\" stroke=\"black\" d=\"M209.5,-306.09C209.5,-299.75 209.5,-289.75 209.5,-281.03\"/>\n",
       "<polygon fill=\"black\" stroke=\"black\" points=\"213,-281.27 209.5,-271.27 206,-281.27 213,-281.27\"/>\n",
       "</g>\n",
       "<!-- 2 -->\n",
       "<g id=\"node3\" class=\"node\">\n",
       "<title>2</title>\n",
       "<text text-anchor=\"middle\" x=\"99.5\" y=\"-207.8\" font-family=\"Times,serif\" font-size=\"14.00\">&lt;xml&#45;open&#45;tag&gt;</text>\n",
       "</g>\n",
       "<!-- 1&#45;&gt;2 -->\n",
       "<g id=\"edge2\" class=\"edge\">\n",
       "<title>1&#45;&gt;2</title>\n",
       "<path fill=\"none\" stroke=\"black\" d=\"M195.12,-255.09C177.17,-247.1 146.17,-233.29 124.34,-223.57\"/>\n",
       "<polygon fill=\"black\" stroke=\"black\" points=\"125.83,-220.4 115.27,-219.52 122.98,-226.79 125.83,-220.4\"/>\n",
       "</g>\n",
       "<!-- 7 -->\n",
       "<g id=\"node8\" class=\"node\">\n",
       "<title>7</title>\n",
       "<text text-anchor=\"middle\" x=\"209.5\" y=\"-207.8\" font-family=\"Times,serif\" font-size=\"14.00\">&lt;xml&#45;tree&gt;</text>\n",
       "</g>\n",
       "<!-- 1&#45;&gt;7 -->\n",
       "<g id=\"edge7\" class=\"edge\">\n",
       "<title>1&#45;&gt;7</title>\n",
       "<path fill=\"none\" stroke=\"black\" d=\"M209.5,-255.09C209.5,-248.75 209.5,-238.75 209.5,-230.03\"/>\n",
       "<polygon fill=\"black\" stroke=\"black\" points=\"213,-230.27 209.5,-220.27 206,-230.27 213,-230.27\"/>\n",
       "</g>\n",
       "<!-- 18 -->\n",
       "<g id=\"node19\" class=\"node\">\n",
       "<title>18</title>\n",
       "<text text-anchor=\"middle\" x=\"350.5\" y=\"-207.8\" font-family=\"Times,serif\" font-size=\"14.00\">&lt;xml&#45;close&#45;tag&gt;</text>\n",
       "</g>\n",
       "<!-- 1&#45;&gt;18 -->\n",
       "<g id=\"edge18\" class=\"edge\">\n",
       "<title>1&#45;&gt;18</title>\n",
       "<path fill=\"none\" stroke=\"black\" d=\"M227.93,-255.09C251.68,-246.84 293.25,-232.4 321.31,-222.64\"/>\n",
       "<polygon fill=\"black\" stroke=\"black\" points=\"322.34,-225.99 330.63,-219.4 320.04,-219.38 322.34,-225.99\"/>\n",
       "</g>\n",
       "<!-- 3 -->\n",
       "<g id=\"node4\" class=\"node\">\n",
       "<title>3</title>\n",
       "<text text-anchor=\"middle\" x=\"17.5\" y=\"-156.8\" font-family=\"Times,serif\" font-size=\"14.00\">&lt; (60)</text>\n",
       "</g>\n",
       "<!-- 2&#45;&gt;3 -->\n",
       "<g id=\"edge3\" class=\"edge\">\n",
       "<title>2&#45;&gt;3</title>\n",
       "<path fill=\"none\" stroke=\"black\" d=\"M88.78,-204.09C75.89,-196.39 53.97,-183.3 37.84,-173.65\"/>\n",
       "<polygon fill=\"black\" stroke=\"black\" points=\"39.9,-170.81 29.52,-168.68 36.31,-176.82 39.9,-170.81\"/>\n",
       "</g>\n",
       "<!-- 4 -->\n",
       "<g id=\"node5\" class=\"node\">\n",
       "<title>4</title>\n",
       "<text text-anchor=\"middle\" x=\"67.5\" y=\"-156.8\" font-family=\"Times,serif\" font-size=\"14.00\">&lt;id&gt;</text>\n",
       "</g>\n",
       "<!-- 2&#45;&gt;4 -->\n",
       "<g id=\"edge4\" class=\"edge\">\n",
       "<title>2&#45;&gt;4</title>\n",
       "<path fill=\"none\" stroke=\"black\" d=\"M95.32,-204.09C90.88,-197.31 83.72,-186.33 77.77,-177.23\"/>\n",
       "<polygon fill=\"black\" stroke=\"black\" points=\"80.81,-175.48 72.41,-169.02 74.95,-179.31 80.81,-175.48\"/>\n",
       "</g>\n",
       "<!-- 6 -->\n",
       "<g id=\"node7\" class=\"node\">\n",
       "<title>6</title>\n",
       "<text text-anchor=\"middle\" x=\"117.5\" y=\"-156.8\" font-family=\"Times,serif\" font-size=\"14.00\">&gt; (62)</text>\n",
       "</g>\n",
       "<!-- 2&#45;&gt;6 -->\n",
       "<g id=\"edge6\" class=\"edge\">\n",
       "<title>2&#45;&gt;6</title>\n",
       "<path fill=\"none\" stroke=\"black\" d=\"M101.85,-204.09C104.24,-197.6 108.03,-187.28 111.28,-178.42\"/>\n",
       "<polygon fill=\"black\" stroke=\"black\" points=\"114.52,-179.77 114.68,-169.17 107.95,-177.35 114.52,-179.77\"/>\n",
       "</g>\n",
       "<!-- 5 -->\n",
       "<g id=\"node6\" class=\"node\">\n",
       "<title>5</title>\n",
       "<text text-anchor=\"middle\" x=\"64.5\" y=\"-105.8\" font-family=\"Times,serif\" font-size=\"14.00\">html</text>\n",
       "</g>\n",
       "<!-- 4&#45;&gt;5 -->\n",
       "<g id=\"edge5\" class=\"edge\">\n",
       "<title>4&#45;&gt;5</title>\n",
       "<path fill=\"none\" stroke=\"black\" d=\"M67.11,-153.09C66.72,-146.75 66.11,-136.75 65.57,-128.03\"/>\n",
       "<polygon fill=\"black\" stroke=\"black\" points=\"69.08,-128.03 64.98,-118.26 62.09,-128.46 69.08,-128.03\"/>\n",
       "</g>\n",
       "<!-- 8 -->\n",
       "<g id=\"node9\" class=\"node\">\n",
       "<title>8</title>\n",
       "<text text-anchor=\"middle\" x=\"192.5\" y=\"-156.8\" font-family=\"Times,serif\" font-size=\"14.00\">&lt;xml&#45;tree&gt;</text>\n",
       "</g>\n",
       "<!-- 7&#45;&gt;8 -->\n",
       "<g id=\"edge8\" class=\"edge\">\n",
       "<title>7&#45;&gt;8</title>\n",
       "<path fill=\"none\" stroke=\"black\" d=\"M207.28,-204.09C205.03,-197.6 201.44,-187.28 198.37,-178.42\"/>\n",
       "<polygon fill=\"black\" stroke=\"black\" points=\"201.75,-177.48 195.17,-169.18 195.14,-179.78 201.75,-177.48\"/>\n",
       "</g>\n",
       "<!-- 15 -->\n",
       "<g id=\"node16\" class=\"node\">\n",
       "<title>15</title>\n",
       "<text text-anchor=\"middle\" x=\"274.5\" y=\"-156.8\" font-family=\"Times,serif\" font-size=\"14.00\">&lt;xml&#45;tree&gt;</text>\n",
       "</g>\n",
       "<!-- 7&#45;&gt;15 -->\n",
       "<g id=\"edge15\" class=\"edge\">\n",
       "<title>7&#45;&gt;15</title>\n",
       "<path fill=\"none\" stroke=\"black\" d=\"M218,-204.09C227.88,-196.64 244.46,-184.15 257.11,-174.61\"/>\n",
       "<polygon fill=\"black\" stroke=\"black\" points=\"259.12,-177.48 265,-168.66 254.91,-171.89 259.12,-177.48\"/>\n",
       "</g>\n",
       "<!-- 9 -->\n",
       "<g id=\"node10\" class=\"node\">\n",
       "<title>9</title>\n",
       "<text text-anchor=\"middle\" x=\"127.5\" y=\"-105.8\" font-family=\"Times,serif\" font-size=\"14.00\">&lt;xml&#45;tree&gt;</text>\n",
       "</g>\n",
       "<!-- 8&#45;&gt;9 -->\n",
       "<g id=\"edge9\" class=\"edge\">\n",
       "<title>8&#45;&gt;9</title>\n",
       "<path fill=\"none\" stroke=\"black\" d=\"M184,-153.09C174.12,-145.64 157.54,-133.15 144.89,-123.61\"/>\n",
       "<polygon fill=\"black\" stroke=\"black\" points=\"147.09,-120.89 137,-117.66 142.88,-126.48 147.09,-120.89\"/>\n",
       "</g>\n",
       "<!-- 12 -->\n",
       "<g id=\"node13\" class=\"node\">\n",
       "<title>12</title>\n",
       "<text text-anchor=\"middle\" x=\"209.5\" y=\"-105.8\" font-family=\"Times,serif\" font-size=\"14.00\">&lt;xml&#45;tree&gt;</text>\n",
       "</g>\n",
       "<!-- 8&#45;&gt;12 -->\n",
       "<g id=\"edge12\" class=\"edge\">\n",
       "<title>8&#45;&gt;12</title>\n",
       "<path fill=\"none\" stroke=\"black\" d=\"M194.72,-153.09C196.97,-146.6 200.56,-136.28 203.63,-127.42\"/>\n",
       "<polygon fill=\"black\" stroke=\"black\" points=\"206.86,-128.78 206.83,-118.18 200.25,-126.48 206.86,-128.78\"/>\n",
       "</g>\n",
       "<!-- 10 -->\n",
       "<g id=\"node11\" class=\"node\">\n",
       "<title>10</title>\n",
       "<text text-anchor=\"middle\" x=\"127.5\" y=\"-54.8\" font-family=\"Times,serif\" font-size=\"14.00\">&lt;text&gt;</text>\n",
       "</g>\n",
       "<!-- 9&#45;&gt;10 -->\n",
       "<g id=\"edge10\" class=\"edge\">\n",
       "<title>9&#45;&gt;10</title>\n",
       "<path fill=\"none\" stroke=\"black\" d=\"M127.5,-102.09C127.5,-95.75 127.5,-85.75 127.5,-77.03\"/>\n",
       "<polygon fill=\"black\" stroke=\"black\" points=\"131,-77.27 127.5,-67.27 124,-77.27 131,-77.27\"/>\n",
       "</g>\n",
       "<!-- 11 -->\n",
       "<g id=\"node12\" class=\"node\">\n",
       "<title>11</title>\n",
       "<text text-anchor=\"middle\" x=\"127.5\" y=\"-3.8\" font-family=\"Times,serif\" font-size=\"14.00\">T (84)</text>\n",
       "</g>\n",
       "<!-- 10&#45;&gt;11 -->\n",
       "<g id=\"edge11\" class=\"edge\">\n",
       "<title>10&#45;&gt;11</title>\n",
       "<path fill=\"none\" stroke=\"black\" d=\"M127.5,-51.09C127.5,-44.75 127.5,-34.75 127.5,-26.03\"/>\n",
       "<polygon fill=\"black\" stroke=\"black\" points=\"131,-26.27 127.5,-16.27 124,-26.27 131,-26.27\"/>\n",
       "</g>\n",
       "<!-- 13 -->\n",
       "<g id=\"node14\" class=\"node\">\n",
       "<title>13</title>\n",
       "<text text-anchor=\"middle\" x=\"209.5\" y=\"-54.8\" font-family=\"Times,serif\" font-size=\"14.00\">&lt;text&gt;</text>\n",
       "</g>\n",
       "<!-- 12&#45;&gt;13 -->\n",
       "<g id=\"edge13\" class=\"edge\">\n",
       "<title>12&#45;&gt;13</title>\n",
       "<path fill=\"none\" stroke=\"black\" d=\"M209.5,-102.09C209.5,-95.75 209.5,-85.75 209.5,-77.03\"/>\n",
       "<polygon fill=\"black\" stroke=\"black\" points=\"213,-77.27 209.5,-67.27 206,-77.27 213,-77.27\"/>\n",
       "</g>\n",
       "<!-- 14 -->\n",
       "<g id=\"node15\" class=\"node\">\n",
       "<title>14</title>\n",
       "<text text-anchor=\"middle\" x=\"209.5\" y=\"-3.8\" font-family=\"Times,serif\" font-size=\"14.00\">ex</text>\n",
       "</g>\n",
       "<!-- 13&#45;&gt;14 -->\n",
       "<g id=\"edge14\" class=\"edge\">\n",
       "<title>13&#45;&gt;14</title>\n",
       "<path fill=\"none\" stroke=\"black\" d=\"M209.5,-51.09C209.5,-44.75 209.5,-34.75 209.5,-26.03\"/>\n",
       "<polygon fill=\"black\" stroke=\"black\" points=\"213,-26.27 209.5,-16.27 206,-26.27 213,-26.27\"/>\n",
       "</g>\n",
       "<!-- 16 -->\n",
       "<g id=\"node17\" class=\"node\">\n",
       "<title>16</title>\n",
       "<text text-anchor=\"middle\" x=\"278.5\" y=\"-105.8\" font-family=\"Times,serif\" font-size=\"14.00\">&lt;text&gt;</text>\n",
       "</g>\n",
       "<!-- 15&#45;&gt;16 -->\n",
       "<g id=\"edge16\" class=\"edge\">\n",
       "<title>15&#45;&gt;16</title>\n",
       "<path fill=\"none\" stroke=\"black\" d=\"M275.02,-153.09C275.54,-146.75 276.36,-136.75 277.07,-128.03\"/>\n",
       "<polygon fill=\"black\" stroke=\"black\" points=\"280.54,-128.51 277.87,-118.26 273.56,-127.94 280.54,-128.51\"/>\n",
       "</g>\n",
       "<!-- 17 -->\n",
       "<g id=\"node18\" class=\"node\">\n",
       "<title>17</title>\n",
       "<text text-anchor=\"middle\" x=\"278.5\" y=\"-54.8\" font-family=\"Times,serif\" font-size=\"14.00\">t (116)</text>\n",
       "</g>\n",
       "<!-- 16&#45;&gt;17 -->\n",
       "<g id=\"edge17\" class=\"edge\">\n",
       "<title>16&#45;&gt;17</title>\n",
       "<path fill=\"none\" stroke=\"black\" d=\"M278.5,-102.09C278.5,-95.75 278.5,-85.75 278.5,-77.03\"/>\n",
       "<polygon fill=\"black\" stroke=\"black\" points=\"282,-77.27 278.5,-67.27 275,-77.27 282,-77.27\"/>\n",
       "</g>\n",
       "<!-- 19 -->\n",
       "<g id=\"node20\" class=\"node\">\n",
       "<title>19</title>\n",
       "<text text-anchor=\"middle\" x=\"331.5\" y=\"-156.8\" font-family=\"Times,serif\" font-size=\"14.00\">&lt;/</text>\n",
       "</g>\n",
       "<!-- 18&#45;&gt;19 -->\n",
       "<g id=\"edge19\" class=\"edge\">\n",
       "<title>18&#45;&gt;19</title>\n",
       "<path fill=\"none\" stroke=\"black\" d=\"M348.02,-204.09C345.5,-197.6 341.5,-187.28 338.06,-178.42\"/>\n",
       "<polygon fill=\"black\" stroke=\"black\" points=\"341.35,-177.22 334.47,-169.16 334.82,-179.75 341.35,-177.22\"/>\n",
       "</g>\n",
       "<!-- 20 -->\n",
       "<g id=\"node21\" class=\"node\">\n",
       "<title>20</title>\n",
       "<text text-anchor=\"middle\" x=\"370.5\" y=\"-156.8\" font-family=\"Times,serif\" font-size=\"14.00\">&lt;id&gt;</text>\n",
       "</g>\n",
       "<!-- 18&#45;&gt;20 -->\n",
       "<g id=\"edge20\" class=\"edge\">\n",
       "<title>18&#45;&gt;20</title>\n",
       "<path fill=\"none\" stroke=\"black\" d=\"M353.11,-204.09C355.79,-197.53 360.07,-187.05 363.72,-178.12\"/>\n",
       "<polygon fill=\"black\" stroke=\"black\" points=\"366.84,-179.73 367.38,-169.15 360.36,-177.09 366.84,-179.73\"/>\n",
       "</g>\n",
       "<!-- 22 -->\n",
       "<g id=\"node23\" class=\"node\">\n",
       "<title>22</title>\n",
       "<text text-anchor=\"middle\" x=\"420.5\" y=\"-156.8\" font-family=\"Times,serif\" font-size=\"14.00\">&gt; (62)</text>\n",
       "</g>\n",
       "<!-- 18&#45;&gt;22 -->\n",
       "<g id=\"edge22\" class=\"edge\">\n",
       "<title>18&#45;&gt;22</title>\n",
       "<path fill=\"none\" stroke=\"black\" d=\"M359.65,-204.09C370.4,-196.57 388.5,-183.9 402.17,-174.33\"/>\n",
       "<polygon fill=\"black\" stroke=\"black\" points=\"404.14,-177.22 410.33,-168.62 400.13,-171.49 404.14,-177.22\"/>\n",
       "</g>\n",
       "<!-- 21 -->\n",
       "<g id=\"node22\" class=\"node\">\n",
       "<title>21</title>\n",
       "<text text-anchor=\"middle\" x=\"370.5\" y=\"-105.8\" font-family=\"Times,serif\" font-size=\"14.00\">html</text>\n",
       "</g>\n",
       "<!-- 20&#45;&gt;21 -->\n",
       "<g id=\"edge21\" class=\"edge\">\n",
       "<title>20&#45;&gt;21</title>\n",
       "<path fill=\"none\" stroke=\"black\" d=\"M370.5,-153.09C370.5,-146.75 370.5,-136.75 370.5,-128.03\"/>\n",
       "<polygon fill=\"black\" stroke=\"black\" points=\"374,-128.27 370.5,-118.27 367,-128.27 374,-128.27\"/>\n",
       "</g>\n",
       "</g>\n",
       "</svg>\n"
      ],
      "text/plain": [
       "<graphviz.graphs.Digraph at 0x14a5c4910>"
      ]
     },
     "metadata": {},
     "output_type": "display_data"
    },
    {
     "data": {
      "image/svg+xml": [
       "<?xml version=\"1.0\" encoding=\"UTF-8\" standalone=\"no\"?>\n",
       "<!DOCTYPE svg PUBLIC \"-//W3C//DTD SVG 1.1//EN\"\n",
       " \"http://www.w3.org/Graphics/SVG/1.1/DTD/svg11.dtd\">\n",
       "<!-- Generated by graphviz version 7.0.2 (20221119.0110)\n",
       " -->\n",
       "<!-- Pages: 1 -->\n",
       "<svg width=\"446pt\" height=\"329pt\"\n",
       " viewBox=\"0.00 0.00 446.00 329.00\" xmlns=\"http://www.w3.org/2000/svg\" xmlns:xlink=\"http://www.w3.org/1999/xlink\">\n",
       "<g id=\"graph0\" class=\"graph\" transform=\"scale(1 1) rotate(0) translate(4 325)\">\n",
       "<polygon fill=\"white\" stroke=\"none\" points=\"-4,4 -4,-325 442,-325 442,4 -4,4\"/>\n",
       "<!-- 0 -->\n",
       "<g id=\"node1\" class=\"node\">\n",
       "<title>0</title>\n",
       "<text text-anchor=\"middle\" x=\"209.5\" y=\"-309.8\" font-family=\"Times,serif\" font-size=\"14.00\">&lt;start&gt;</text>\n",
       "</g>\n",
       "<!-- 1 -->\n",
       "<g id=\"node2\" class=\"node\">\n",
       "<title>1</title>\n",
       "<text text-anchor=\"middle\" x=\"209.5\" y=\"-258.8\" font-family=\"Times,serif\" font-size=\"14.00\">&lt;xml&#45;tree&gt;</text>\n",
       "</g>\n",
       "<!-- 0&#45;&gt;1 -->\n",
       "<g id=\"edge1\" class=\"edge\">\n",
       "<title>0&#45;&gt;1</title>\n",
       "<path fill=\"none\" stroke=\"black\" d=\"M209.5,-306.09C209.5,-299.75 209.5,-289.75 209.5,-281.03\"/>\n",
       "<polygon fill=\"black\" stroke=\"black\" points=\"213,-281.27 209.5,-271.27 206,-281.27 213,-281.27\"/>\n",
       "</g>\n",
       "<!-- 2 -->\n",
       "<g id=\"node3\" class=\"node\">\n",
       "<title>2</title>\n",
       "<text text-anchor=\"middle\" x=\"99.5\" y=\"-207.8\" font-family=\"Times,serif\" font-size=\"14.00\">&lt;xml&#45;open&#45;tag&gt;</text>\n",
       "</g>\n",
       "<!-- 1&#45;&gt;2 -->\n",
       "<g id=\"edge2\" class=\"edge\">\n",
       "<title>1&#45;&gt;2</title>\n",
       "<path fill=\"none\" stroke=\"black\" d=\"M195.12,-255.09C177.17,-247.1 146.17,-233.29 124.34,-223.57\"/>\n",
       "<polygon fill=\"black\" stroke=\"black\" points=\"125.83,-220.4 115.27,-219.52 122.98,-226.79 125.83,-220.4\"/>\n",
       "</g>\n",
       "<!-- 7 -->\n",
       "<g id=\"node8\" class=\"node\">\n",
       "<title>7</title>\n",
       "<text text-anchor=\"middle\" x=\"209.5\" y=\"-207.8\" font-family=\"Times,serif\" font-size=\"14.00\">&lt;xml&#45;tree&gt;</text>\n",
       "</g>\n",
       "<!-- 1&#45;&gt;7 -->\n",
       "<g id=\"edge7\" class=\"edge\">\n",
       "<title>1&#45;&gt;7</title>\n",
       "<path fill=\"none\" stroke=\"black\" d=\"M209.5,-255.09C209.5,-248.75 209.5,-238.75 209.5,-230.03\"/>\n",
       "<polygon fill=\"black\" stroke=\"black\" points=\"213,-230.27 209.5,-220.27 206,-230.27 213,-230.27\"/>\n",
       "</g>\n",
       "<!-- 18 -->\n",
       "<g id=\"node19\" class=\"node\">\n",
       "<title>18</title>\n",
       "<text text-anchor=\"middle\" x=\"350.5\" y=\"-207.8\" font-family=\"Times,serif\" font-size=\"14.00\">&lt;xml&#45;close&#45;tag&gt;</text>\n",
       "</g>\n",
       "<!-- 1&#45;&gt;18 -->\n",
       "<g id=\"edge18\" class=\"edge\">\n",
       "<title>1&#45;&gt;18</title>\n",
       "<path fill=\"none\" stroke=\"black\" d=\"M227.93,-255.09C251.68,-246.84 293.25,-232.4 321.31,-222.64\"/>\n",
       "<polygon fill=\"black\" stroke=\"black\" points=\"322.34,-225.99 330.63,-219.4 320.04,-219.38 322.34,-225.99\"/>\n",
       "</g>\n",
       "<!-- 3 -->\n",
       "<g id=\"node4\" class=\"node\">\n",
       "<title>3</title>\n",
       "<text text-anchor=\"middle\" x=\"17.5\" y=\"-156.8\" font-family=\"Times,serif\" font-size=\"14.00\">&lt; (60)</text>\n",
       "</g>\n",
       "<!-- 2&#45;&gt;3 -->\n",
       "<g id=\"edge3\" class=\"edge\">\n",
       "<title>2&#45;&gt;3</title>\n",
       "<path fill=\"none\" stroke=\"black\" d=\"M88.78,-204.09C75.89,-196.39 53.97,-183.3 37.84,-173.65\"/>\n",
       "<polygon fill=\"black\" stroke=\"black\" points=\"39.9,-170.81 29.52,-168.68 36.31,-176.82 39.9,-170.81\"/>\n",
       "</g>\n",
       "<!-- 4 -->\n",
       "<g id=\"node5\" class=\"node\">\n",
       "<title>4</title>\n",
       "<text text-anchor=\"middle\" x=\"67.5\" y=\"-156.8\" font-family=\"Times,serif\" font-size=\"14.00\">&lt;id&gt;</text>\n",
       "</g>\n",
       "<!-- 2&#45;&gt;4 -->\n",
       "<g id=\"edge4\" class=\"edge\">\n",
       "<title>2&#45;&gt;4</title>\n",
       "<path fill=\"none\" stroke=\"black\" d=\"M95.32,-204.09C90.88,-197.31 83.72,-186.33 77.77,-177.23\"/>\n",
       "<polygon fill=\"black\" stroke=\"black\" points=\"80.81,-175.48 72.41,-169.02 74.95,-179.31 80.81,-175.48\"/>\n",
       "</g>\n",
       "<!-- 6 -->\n",
       "<g id=\"node7\" class=\"node\">\n",
       "<title>6</title>\n",
       "<text text-anchor=\"middle\" x=\"117.5\" y=\"-156.8\" font-family=\"Times,serif\" font-size=\"14.00\">&gt; (62)</text>\n",
       "</g>\n",
       "<!-- 2&#45;&gt;6 -->\n",
       "<g id=\"edge6\" class=\"edge\">\n",
       "<title>2&#45;&gt;6</title>\n",
       "<path fill=\"none\" stroke=\"black\" d=\"M101.85,-204.09C104.24,-197.6 108.03,-187.28 111.28,-178.42\"/>\n",
       "<polygon fill=\"black\" stroke=\"black\" points=\"114.52,-179.77 114.68,-169.17 107.95,-177.35 114.52,-179.77\"/>\n",
       "</g>\n",
       "<!-- 5 -->\n",
       "<g id=\"node6\" class=\"node\">\n",
       "<title>5</title>\n",
       "<text text-anchor=\"middle\" x=\"64.5\" y=\"-105.8\" font-family=\"Times,serif\" font-size=\"14.00\">html</text>\n",
       "</g>\n",
       "<!-- 4&#45;&gt;5 -->\n",
       "<g id=\"edge5\" class=\"edge\">\n",
       "<title>4&#45;&gt;5</title>\n",
       "<path fill=\"none\" stroke=\"black\" d=\"M67.11,-153.09C66.72,-146.75 66.11,-136.75 65.57,-128.03\"/>\n",
       "<polygon fill=\"black\" stroke=\"black\" points=\"69.08,-128.03 64.98,-118.26 62.09,-128.46 69.08,-128.03\"/>\n",
       "</g>\n",
       "<!-- 8 -->\n",
       "<g id=\"node9\" class=\"node\">\n",
       "<title>8</title>\n",
       "<text text-anchor=\"middle\" x=\"192.5\" y=\"-156.8\" font-family=\"Times,serif\" font-size=\"14.00\">&lt;xml&#45;tree&gt;</text>\n",
       "</g>\n",
       "<!-- 7&#45;&gt;8 -->\n",
       "<g id=\"edge8\" class=\"edge\">\n",
       "<title>7&#45;&gt;8</title>\n",
       "<path fill=\"none\" stroke=\"black\" d=\"M207.28,-204.09C205.03,-197.6 201.44,-187.28 198.37,-178.42\"/>\n",
       "<polygon fill=\"black\" stroke=\"black\" points=\"201.75,-177.48 195.17,-169.18 195.14,-179.78 201.75,-177.48\"/>\n",
       "</g>\n",
       "<!-- 15 -->\n",
       "<g id=\"node16\" class=\"node\">\n",
       "<title>15</title>\n",
       "<text text-anchor=\"middle\" x=\"274.5\" y=\"-156.8\" font-family=\"Times,serif\" font-size=\"14.00\">&lt;xml&#45;tree&gt;</text>\n",
       "</g>\n",
       "<!-- 7&#45;&gt;15 -->\n",
       "<g id=\"edge15\" class=\"edge\">\n",
       "<title>7&#45;&gt;15</title>\n",
       "<path fill=\"none\" stroke=\"black\" d=\"M218,-204.09C227.88,-196.64 244.46,-184.15 257.11,-174.61\"/>\n",
       "<polygon fill=\"black\" stroke=\"black\" points=\"259.12,-177.48 265,-168.66 254.91,-171.89 259.12,-177.48\"/>\n",
       "</g>\n",
       "<!-- 9 -->\n",
       "<g id=\"node10\" class=\"node\">\n",
       "<title>9</title>\n",
       "<text text-anchor=\"middle\" x=\"127.5\" y=\"-105.8\" font-family=\"Times,serif\" font-size=\"14.00\">&lt;xml&#45;tree&gt;</text>\n",
       "</g>\n",
       "<!-- 8&#45;&gt;9 -->\n",
       "<g id=\"edge9\" class=\"edge\">\n",
       "<title>8&#45;&gt;9</title>\n",
       "<path fill=\"none\" stroke=\"black\" d=\"M184,-153.09C174.12,-145.64 157.54,-133.15 144.89,-123.61\"/>\n",
       "<polygon fill=\"black\" stroke=\"black\" points=\"147.09,-120.89 137,-117.66 142.88,-126.48 147.09,-120.89\"/>\n",
       "</g>\n",
       "<!-- 12 -->\n",
       "<g id=\"node13\" class=\"node\">\n",
       "<title>12</title>\n",
       "<text text-anchor=\"middle\" x=\"209.5\" y=\"-105.8\" font-family=\"Times,serif\" font-size=\"14.00\">&lt;xml&#45;tree&gt;</text>\n",
       "</g>\n",
       "<!-- 8&#45;&gt;12 -->\n",
       "<g id=\"edge12\" class=\"edge\">\n",
       "<title>8&#45;&gt;12</title>\n",
       "<path fill=\"none\" stroke=\"black\" d=\"M194.72,-153.09C196.97,-146.6 200.56,-136.28 203.63,-127.42\"/>\n",
       "<polygon fill=\"black\" stroke=\"black\" points=\"206.86,-128.78 206.83,-118.18 200.25,-126.48 206.86,-128.78\"/>\n",
       "</g>\n",
       "<!-- 10 -->\n",
       "<g id=\"node11\" class=\"node\">\n",
       "<title>10</title>\n",
       "<text text-anchor=\"middle\" x=\"127.5\" y=\"-54.8\" font-family=\"Times,serif\" font-size=\"14.00\">&lt;text&gt;</text>\n",
       "</g>\n",
       "<!-- 9&#45;&gt;10 -->\n",
       "<g id=\"edge10\" class=\"edge\">\n",
       "<title>9&#45;&gt;10</title>\n",
       "<path fill=\"none\" stroke=\"black\" d=\"M127.5,-102.09C127.5,-95.75 127.5,-85.75 127.5,-77.03\"/>\n",
       "<polygon fill=\"black\" stroke=\"black\" points=\"131,-77.27 127.5,-67.27 124,-77.27 131,-77.27\"/>\n",
       "</g>\n",
       "<!-- 11 -->\n",
       "<g id=\"node12\" class=\"node\">\n",
       "<title>11</title>\n",
       "<text text-anchor=\"middle\" x=\"127.5\" y=\"-3.8\" font-family=\"Times,serif\" font-size=\"14.00\">Te</text>\n",
       "</g>\n",
       "<!-- 10&#45;&gt;11 -->\n",
       "<g id=\"edge11\" class=\"edge\">\n",
       "<title>10&#45;&gt;11</title>\n",
       "<path fill=\"none\" stroke=\"black\" d=\"M127.5,-51.09C127.5,-44.75 127.5,-34.75 127.5,-26.03\"/>\n",
       "<polygon fill=\"black\" stroke=\"black\" points=\"131,-26.27 127.5,-16.27 124,-26.27 131,-26.27\"/>\n",
       "</g>\n",
       "<!-- 13 -->\n",
       "<g id=\"node14\" class=\"node\">\n",
       "<title>13</title>\n",
       "<text text-anchor=\"middle\" x=\"209.5\" y=\"-54.8\" font-family=\"Times,serif\" font-size=\"14.00\">&lt;text&gt;</text>\n",
       "</g>\n",
       "<!-- 12&#45;&gt;13 -->\n",
       "<g id=\"edge13\" class=\"edge\">\n",
       "<title>12&#45;&gt;13</title>\n",
       "<path fill=\"none\" stroke=\"black\" d=\"M209.5,-102.09C209.5,-95.75 209.5,-85.75 209.5,-77.03\"/>\n",
       "<polygon fill=\"black\" stroke=\"black\" points=\"213,-77.27 209.5,-67.27 206,-77.27 213,-77.27\"/>\n",
       "</g>\n",
       "<!-- 14 -->\n",
       "<g id=\"node15\" class=\"node\">\n",
       "<title>14</title>\n",
       "<text text-anchor=\"middle\" x=\"209.5\" y=\"-3.8\" font-family=\"Times,serif\" font-size=\"14.00\">x (120)</text>\n",
       "</g>\n",
       "<!-- 13&#45;&gt;14 -->\n",
       "<g id=\"edge14\" class=\"edge\">\n",
       "<title>13&#45;&gt;14</title>\n",
       "<path fill=\"none\" stroke=\"black\" d=\"M209.5,-51.09C209.5,-44.75 209.5,-34.75 209.5,-26.03\"/>\n",
       "<polygon fill=\"black\" stroke=\"black\" points=\"213,-26.27 209.5,-16.27 206,-26.27 213,-26.27\"/>\n",
       "</g>\n",
       "<!-- 16 -->\n",
       "<g id=\"node17\" class=\"node\">\n",
       "<title>16</title>\n",
       "<text text-anchor=\"middle\" x=\"278.5\" y=\"-105.8\" font-family=\"Times,serif\" font-size=\"14.00\">&lt;text&gt;</text>\n",
       "</g>\n",
       "<!-- 15&#45;&gt;16 -->\n",
       "<g id=\"edge16\" class=\"edge\">\n",
       "<title>15&#45;&gt;16</title>\n",
       "<path fill=\"none\" stroke=\"black\" d=\"M275.02,-153.09C275.54,-146.75 276.36,-136.75 277.07,-128.03\"/>\n",
       "<polygon fill=\"black\" stroke=\"black\" points=\"280.54,-128.51 277.87,-118.26 273.56,-127.94 280.54,-128.51\"/>\n",
       "</g>\n",
       "<!-- 17 -->\n",
       "<g id=\"node18\" class=\"node\">\n",
       "<title>17</title>\n",
       "<text text-anchor=\"middle\" x=\"278.5\" y=\"-54.8\" font-family=\"Times,serif\" font-size=\"14.00\">t (116)</text>\n",
       "</g>\n",
       "<!-- 16&#45;&gt;17 -->\n",
       "<g id=\"edge17\" class=\"edge\">\n",
       "<title>16&#45;&gt;17</title>\n",
       "<path fill=\"none\" stroke=\"black\" d=\"M278.5,-102.09C278.5,-95.75 278.5,-85.75 278.5,-77.03\"/>\n",
       "<polygon fill=\"black\" stroke=\"black\" points=\"282,-77.27 278.5,-67.27 275,-77.27 282,-77.27\"/>\n",
       "</g>\n",
       "<!-- 19 -->\n",
       "<g id=\"node20\" class=\"node\">\n",
       "<title>19</title>\n",
       "<text text-anchor=\"middle\" x=\"331.5\" y=\"-156.8\" font-family=\"Times,serif\" font-size=\"14.00\">&lt;/</text>\n",
       "</g>\n",
       "<!-- 18&#45;&gt;19 -->\n",
       "<g id=\"edge19\" class=\"edge\">\n",
       "<title>18&#45;&gt;19</title>\n",
       "<path fill=\"none\" stroke=\"black\" d=\"M348.02,-204.09C345.5,-197.6 341.5,-187.28 338.06,-178.42\"/>\n",
       "<polygon fill=\"black\" stroke=\"black\" points=\"341.35,-177.22 334.47,-169.16 334.82,-179.75 341.35,-177.22\"/>\n",
       "</g>\n",
       "<!-- 20 -->\n",
       "<g id=\"node21\" class=\"node\">\n",
       "<title>20</title>\n",
       "<text text-anchor=\"middle\" x=\"370.5\" y=\"-156.8\" font-family=\"Times,serif\" font-size=\"14.00\">&lt;id&gt;</text>\n",
       "</g>\n",
       "<!-- 18&#45;&gt;20 -->\n",
       "<g id=\"edge20\" class=\"edge\">\n",
       "<title>18&#45;&gt;20</title>\n",
       "<path fill=\"none\" stroke=\"black\" d=\"M353.11,-204.09C355.79,-197.53 360.07,-187.05 363.72,-178.12\"/>\n",
       "<polygon fill=\"black\" stroke=\"black\" points=\"366.84,-179.73 367.38,-169.15 360.36,-177.09 366.84,-179.73\"/>\n",
       "</g>\n",
       "<!-- 22 -->\n",
       "<g id=\"node23\" class=\"node\">\n",
       "<title>22</title>\n",
       "<text text-anchor=\"middle\" x=\"420.5\" y=\"-156.8\" font-family=\"Times,serif\" font-size=\"14.00\">&gt; (62)</text>\n",
       "</g>\n",
       "<!-- 18&#45;&gt;22 -->\n",
       "<g id=\"edge22\" class=\"edge\">\n",
       "<title>18&#45;&gt;22</title>\n",
       "<path fill=\"none\" stroke=\"black\" d=\"M359.65,-204.09C370.4,-196.57 388.5,-183.9 402.17,-174.33\"/>\n",
       "<polygon fill=\"black\" stroke=\"black\" points=\"404.14,-177.22 410.33,-168.62 400.13,-171.49 404.14,-177.22\"/>\n",
       "</g>\n",
       "<!-- 21 -->\n",
       "<g id=\"node22\" class=\"node\">\n",
       "<title>21</title>\n",
       "<text text-anchor=\"middle\" x=\"370.5\" y=\"-105.8\" font-family=\"Times,serif\" font-size=\"14.00\">html</text>\n",
       "</g>\n",
       "<!-- 20&#45;&gt;21 -->\n",
       "<g id=\"edge21\" class=\"edge\">\n",
       "<title>20&#45;&gt;21</title>\n",
       "<path fill=\"none\" stroke=\"black\" d=\"M370.5,-153.09C370.5,-146.75 370.5,-136.75 370.5,-128.03\"/>\n",
       "<polygon fill=\"black\" stroke=\"black\" points=\"374,-128.27 370.5,-118.27 367,-128.27 374,-128.27\"/>\n",
       "</g>\n",
       "</g>\n",
       "</svg>\n"
      ],
      "text/plain": [
       "<graphviz.graphs.Digraph at 0x14a5c4520>"
      ]
     },
     "metadata": {},
     "output_type": "display_data"
    },
    {
     "data": {
      "image/svg+xml": [
       "<?xml version=\"1.0\" encoding=\"UTF-8\" standalone=\"no\"?>\n",
       "<!DOCTYPE svg PUBLIC \"-//W3C//DTD SVG 1.1//EN\"\n",
       " \"http://www.w3.org/Graphics/SVG/1.1/DTD/svg11.dtd\">\n",
       "<!-- Generated by graphviz version 7.0.2 (20221119.0110)\n",
       " -->\n",
       "<!-- Pages: 1 -->\n",
       "<svg width=\"446pt\" height=\"380pt\"\n",
       " viewBox=\"0.00 0.00 446.00 380.00\" xmlns=\"http://www.w3.org/2000/svg\" xmlns:xlink=\"http://www.w3.org/1999/xlink\">\n",
       "<g id=\"graph0\" class=\"graph\" transform=\"scale(1 1) rotate(0) translate(4 376)\">\n",
       "<polygon fill=\"white\" stroke=\"none\" points=\"-4,4 -4,-376 442,-376 442,4 -4,4\"/>\n",
       "<!-- 0 -->\n",
       "<g id=\"node1\" class=\"node\">\n",
       "<title>0</title>\n",
       "<text text-anchor=\"middle\" x=\"209.5\" y=\"-360.8\" font-family=\"Times,serif\" font-size=\"14.00\">&lt;start&gt;</text>\n",
       "</g>\n",
       "<!-- 1 -->\n",
       "<g id=\"node2\" class=\"node\">\n",
       "<title>1</title>\n",
       "<text text-anchor=\"middle\" x=\"209.5\" y=\"-309.8\" font-family=\"Times,serif\" font-size=\"14.00\">&lt;xml&#45;tree&gt;</text>\n",
       "</g>\n",
       "<!-- 0&#45;&gt;1 -->\n",
       "<g id=\"edge1\" class=\"edge\">\n",
       "<title>0&#45;&gt;1</title>\n",
       "<path fill=\"none\" stroke=\"black\" d=\"M209.5,-357.09C209.5,-350.75 209.5,-340.75 209.5,-332.03\"/>\n",
       "<polygon fill=\"black\" stroke=\"black\" points=\"213,-332.27 209.5,-322.27 206,-332.27 213,-332.27\"/>\n",
       "</g>\n",
       "<!-- 2 -->\n",
       "<g id=\"node3\" class=\"node\">\n",
       "<title>2</title>\n",
       "<text text-anchor=\"middle\" x=\"99.5\" y=\"-258.8\" font-family=\"Times,serif\" font-size=\"14.00\">&lt;xml&#45;open&#45;tag&gt;</text>\n",
       "</g>\n",
       "<!-- 1&#45;&gt;2 -->\n",
       "<g id=\"edge2\" class=\"edge\">\n",
       "<title>1&#45;&gt;2</title>\n",
       "<path fill=\"none\" stroke=\"black\" d=\"M195.12,-306.09C177.17,-298.1 146.17,-284.29 124.34,-274.57\"/>\n",
       "<polygon fill=\"black\" stroke=\"black\" points=\"125.83,-271.4 115.27,-270.52 122.98,-277.79 125.83,-271.4\"/>\n",
       "</g>\n",
       "<!-- 7 -->\n",
       "<g id=\"node8\" class=\"node\">\n",
       "<title>7</title>\n",
       "<text text-anchor=\"middle\" x=\"209.5\" y=\"-258.8\" font-family=\"Times,serif\" font-size=\"14.00\">&lt;xml&#45;tree&gt;</text>\n",
       "</g>\n",
       "<!-- 1&#45;&gt;7 -->\n",
       "<g id=\"edge7\" class=\"edge\">\n",
       "<title>1&#45;&gt;7</title>\n",
       "<path fill=\"none\" stroke=\"black\" d=\"M209.5,-306.09C209.5,-299.75 209.5,-289.75 209.5,-281.03\"/>\n",
       "<polygon fill=\"black\" stroke=\"black\" points=\"213,-281.27 209.5,-271.27 206,-281.27 213,-281.27\"/>\n",
       "</g>\n",
       "<!-- 22 -->\n",
       "<g id=\"node23\" class=\"node\">\n",
       "<title>22</title>\n",
       "<text text-anchor=\"middle\" x=\"350.5\" y=\"-258.8\" font-family=\"Times,serif\" font-size=\"14.00\">&lt;xml&#45;close&#45;tag&gt;</text>\n",
       "</g>\n",
       "<!-- 1&#45;&gt;22 -->\n",
       "<g id=\"edge22\" class=\"edge\">\n",
       "<title>1&#45;&gt;22</title>\n",
       "<path fill=\"none\" stroke=\"black\" d=\"M227.93,-306.09C251.68,-297.84 293.25,-283.4 321.31,-273.64\"/>\n",
       "<polygon fill=\"black\" stroke=\"black\" points=\"322.34,-276.99 330.63,-270.4 320.04,-270.38 322.34,-276.99\"/>\n",
       "</g>\n",
       "<!-- 3 -->\n",
       "<g id=\"node4\" class=\"node\">\n",
       "<title>3</title>\n",
       "<text text-anchor=\"middle\" x=\"17.5\" y=\"-207.8\" font-family=\"Times,serif\" font-size=\"14.00\">&lt; (60)</text>\n",
       "</g>\n",
       "<!-- 2&#45;&gt;3 -->\n",
       "<g id=\"edge3\" class=\"edge\">\n",
       "<title>2&#45;&gt;3</title>\n",
       "<path fill=\"none\" stroke=\"black\" d=\"M88.78,-255.09C75.89,-247.39 53.97,-234.3 37.84,-224.65\"/>\n",
       "<polygon fill=\"black\" stroke=\"black\" points=\"39.9,-221.81 29.52,-219.68 36.31,-227.82 39.9,-221.81\"/>\n",
       "</g>\n",
       "<!-- 4 -->\n",
       "<g id=\"node5\" class=\"node\">\n",
       "<title>4</title>\n",
       "<text text-anchor=\"middle\" x=\"67.5\" y=\"-207.8\" font-family=\"Times,serif\" font-size=\"14.00\">&lt;id&gt;</text>\n",
       "</g>\n",
       "<!-- 2&#45;&gt;4 -->\n",
       "<g id=\"edge4\" class=\"edge\">\n",
       "<title>2&#45;&gt;4</title>\n",
       "<path fill=\"none\" stroke=\"black\" d=\"M95.32,-255.09C90.88,-248.31 83.72,-237.33 77.77,-228.23\"/>\n",
       "<polygon fill=\"black\" stroke=\"black\" points=\"80.81,-226.48 72.41,-220.02 74.95,-230.31 80.81,-226.48\"/>\n",
       "</g>\n",
       "<!-- 6 -->\n",
       "<g id=\"node7\" class=\"node\">\n",
       "<title>6</title>\n",
       "<text text-anchor=\"middle\" x=\"117.5\" y=\"-207.8\" font-family=\"Times,serif\" font-size=\"14.00\">&gt; (62)</text>\n",
       "</g>\n",
       "<!-- 2&#45;&gt;6 -->\n",
       "<g id=\"edge6\" class=\"edge\">\n",
       "<title>2&#45;&gt;6</title>\n",
       "<path fill=\"none\" stroke=\"black\" d=\"M101.85,-255.09C104.24,-248.6 108.03,-238.28 111.28,-229.42\"/>\n",
       "<polygon fill=\"black\" stroke=\"black\" points=\"114.52,-230.77 114.68,-220.17 107.95,-228.35 114.52,-230.77\"/>\n",
       "</g>\n",
       "<!-- 5 -->\n",
       "<g id=\"node6\" class=\"node\">\n",
       "<title>5</title>\n",
       "<text text-anchor=\"middle\" x=\"64.5\" y=\"-156.8\" font-family=\"Times,serif\" font-size=\"14.00\">html</text>\n",
       "</g>\n",
       "<!-- 4&#45;&gt;5 -->\n",
       "<g id=\"edge5\" class=\"edge\">\n",
       "<title>4&#45;&gt;5</title>\n",
       "<path fill=\"none\" stroke=\"black\" d=\"M67.11,-204.09C66.72,-197.75 66.11,-187.75 65.57,-179.03\"/>\n",
       "<polygon fill=\"black\" stroke=\"black\" points=\"69.08,-179.03 64.98,-169.26 62.09,-179.46 69.08,-179.03\"/>\n",
       "</g>\n",
       "<!-- 8 -->\n",
       "<g id=\"node9\" class=\"node\">\n",
       "<title>8</title>\n",
       "<text text-anchor=\"middle\" x=\"192.5\" y=\"-207.8\" font-family=\"Times,serif\" font-size=\"14.00\">&lt;xml&#45;tree&gt;</text>\n",
       "</g>\n",
       "<!-- 7&#45;&gt;8 -->\n",
       "<g id=\"edge8\" class=\"edge\">\n",
       "<title>7&#45;&gt;8</title>\n",
       "<path fill=\"none\" stroke=\"black\" d=\"M207.28,-255.09C205.03,-248.6 201.44,-238.28 198.37,-229.42\"/>\n",
       "<polygon fill=\"black\" stroke=\"black\" points=\"201.75,-228.48 195.17,-220.18 195.14,-230.78 201.75,-228.48\"/>\n",
       "</g>\n",
       "<!-- 19 -->\n",
       "<g id=\"node20\" class=\"node\">\n",
       "<title>19</title>\n",
       "<text text-anchor=\"middle\" x=\"274.5\" y=\"-207.8\" font-family=\"Times,serif\" font-size=\"14.00\">&lt;xml&#45;tree&gt;</text>\n",
       "</g>\n",
       "<!-- 7&#45;&gt;19 -->\n",
       "<g id=\"edge19\" class=\"edge\">\n",
       "<title>7&#45;&gt;19</title>\n",
       "<path fill=\"none\" stroke=\"black\" d=\"M218,-255.09C227.88,-247.64 244.46,-235.15 257.11,-225.61\"/>\n",
       "<polygon fill=\"black\" stroke=\"black\" points=\"259.12,-228.48 265,-219.66 254.91,-222.89 259.12,-228.48\"/>\n",
       "</g>\n",
       "<!-- 9 -->\n",
       "<g id=\"node10\" class=\"node\">\n",
       "<title>9</title>\n",
       "<text text-anchor=\"middle\" x=\"127.5\" y=\"-156.8\" font-family=\"Times,serif\" font-size=\"14.00\">&lt;xml&#45;tree&gt;</text>\n",
       "</g>\n",
       "<!-- 8&#45;&gt;9 -->\n",
       "<g id=\"edge9\" class=\"edge\">\n",
       "<title>8&#45;&gt;9</title>\n",
       "<path fill=\"none\" stroke=\"black\" d=\"M184,-204.09C174.12,-196.64 157.54,-184.15 144.89,-174.61\"/>\n",
       "<polygon fill=\"black\" stroke=\"black\" points=\"147.09,-171.89 137,-168.66 142.88,-177.48 147.09,-171.89\"/>\n",
       "</g>\n",
       "<!-- 16 -->\n",
       "<g id=\"node17\" class=\"node\">\n",
       "<title>16</title>\n",
       "<text text-anchor=\"middle\" x=\"209.5\" y=\"-156.8\" font-family=\"Times,serif\" font-size=\"14.00\">&lt;xml&#45;tree&gt;</text>\n",
       "</g>\n",
       "<!-- 8&#45;&gt;16 -->\n",
       "<g id=\"edge16\" class=\"edge\">\n",
       "<title>8&#45;&gt;16</title>\n",
       "<path fill=\"none\" stroke=\"black\" d=\"M194.72,-204.09C196.97,-197.6 200.56,-187.28 203.63,-178.42\"/>\n",
       "<polygon fill=\"black\" stroke=\"black\" points=\"206.86,-179.78 206.83,-169.18 200.25,-177.48 206.86,-179.78\"/>\n",
       "</g>\n",
       "<!-- 10 -->\n",
       "<g id=\"node11\" class=\"node\">\n",
       "<title>10</title>\n",
       "<text text-anchor=\"middle\" x=\"52.5\" y=\"-105.8\" font-family=\"Times,serif\" font-size=\"14.00\">&lt;xml&#45;tree&gt;</text>\n",
       "</g>\n",
       "<!-- 9&#45;&gt;10 -->\n",
       "<g id=\"edge10\" class=\"edge\">\n",
       "<title>9&#45;&gt;10</title>\n",
       "<path fill=\"none\" stroke=\"black\" d=\"M117.7,-153.09C106.06,-145.5 86.4,-132.65 71.71,-123.05\"/>\n",
       "<polygon fill=\"black\" stroke=\"black\" points=\"73.62,-120.12 63.34,-117.58 69.79,-125.98 73.62,-120.12\"/>\n",
       "</g>\n",
       "<!-- 13 -->\n",
       "<g id=\"node14\" class=\"node\">\n",
       "<title>13</title>\n",
       "<text text-anchor=\"middle\" x=\"134.5\" y=\"-105.8\" font-family=\"Times,serif\" font-size=\"14.00\">&lt;xml&#45;tree&gt;</text>\n",
       "</g>\n",
       "<!-- 9&#45;&gt;13 -->\n",
       "<g id=\"edge13\" class=\"edge\">\n",
       "<title>9&#45;&gt;13</title>\n",
       "<path fill=\"none\" stroke=\"black\" d=\"M128.42,-153.09C129.32,-146.75 130.75,-136.75 132,-128.03\"/>\n",
       "<polygon fill=\"black\" stroke=\"black\" points=\"135.44,-128.65 133.39,-118.25 128.51,-127.66 135.44,-128.65\"/>\n",
       "</g>\n",
       "<!-- 11 -->\n",
       "<g id=\"node12\" class=\"node\">\n",
       "<title>11</title>\n",
       "<text text-anchor=\"middle\" x=\"52.5\" y=\"-54.8\" font-family=\"Times,serif\" font-size=\"14.00\">&lt;text&gt;</text>\n",
       "</g>\n",
       "<!-- 10&#45;&gt;11 -->\n",
       "<g id=\"edge11\" class=\"edge\">\n",
       "<title>10&#45;&gt;11</title>\n",
       "<path fill=\"none\" stroke=\"black\" d=\"M52.5,-102.09C52.5,-95.75 52.5,-85.75 52.5,-77.03\"/>\n",
       "<polygon fill=\"black\" stroke=\"black\" points=\"56,-77.27 52.5,-67.27 49,-77.27 56,-77.27\"/>\n",
       "</g>\n",
       "<!-- 12 -->\n",
       "<g id=\"node13\" class=\"node\">\n",
       "<title>12</title>\n",
       "<text text-anchor=\"middle\" x=\"52.5\" y=\"-3.8\" font-family=\"Times,serif\" font-size=\"14.00\">T (84)</text>\n",
       "</g>\n",
       "<!-- 11&#45;&gt;12 -->\n",
       "<g id=\"edge12\" class=\"edge\">\n",
       "<title>11&#45;&gt;12</title>\n",
       "<path fill=\"none\" stroke=\"black\" d=\"M52.5,-51.09C52.5,-44.75 52.5,-34.75 52.5,-26.03\"/>\n",
       "<polygon fill=\"black\" stroke=\"black\" points=\"56,-26.27 52.5,-16.27 49,-26.27 56,-26.27\"/>\n",
       "</g>\n",
       "<!-- 14 -->\n",
       "<g id=\"node15\" class=\"node\">\n",
       "<title>14</title>\n",
       "<text text-anchor=\"middle\" x=\"134.5\" y=\"-54.8\" font-family=\"Times,serif\" font-size=\"14.00\">&lt;text&gt;</text>\n",
       "</g>\n",
       "<!-- 13&#45;&gt;14 -->\n",
       "<g id=\"edge14\" class=\"edge\">\n",
       "<title>13&#45;&gt;14</title>\n",
       "<path fill=\"none\" stroke=\"black\" d=\"M134.5,-102.09C134.5,-95.75 134.5,-85.75 134.5,-77.03\"/>\n",
       "<polygon fill=\"black\" stroke=\"black\" points=\"138,-77.27 134.5,-67.27 131,-77.27 138,-77.27\"/>\n",
       "</g>\n",
       "<!-- 15 -->\n",
       "<g id=\"node16\" class=\"node\">\n",
       "<title>15</title>\n",
       "<text text-anchor=\"middle\" x=\"134.5\" y=\"-3.8\" font-family=\"Times,serif\" font-size=\"14.00\">e (101)</text>\n",
       "</g>\n",
       "<!-- 14&#45;&gt;15 -->\n",
       "<g id=\"edge15\" class=\"edge\">\n",
       "<title>14&#45;&gt;15</title>\n",
       "<path fill=\"none\" stroke=\"black\" d=\"M134.5,-51.09C134.5,-44.75 134.5,-34.75 134.5,-26.03\"/>\n",
       "<polygon fill=\"black\" stroke=\"black\" points=\"138,-26.27 134.5,-16.27 131,-26.27 138,-26.27\"/>\n",
       "</g>\n",
       "<!-- 17 -->\n",
       "<g id=\"node18\" class=\"node\">\n",
       "<title>17</title>\n",
       "<text text-anchor=\"middle\" x=\"209.5\" y=\"-105.8\" font-family=\"Times,serif\" font-size=\"14.00\">&lt;text&gt;</text>\n",
       "</g>\n",
       "<!-- 16&#45;&gt;17 -->\n",
       "<g id=\"edge17\" class=\"edge\">\n",
       "<title>16&#45;&gt;17</title>\n",
       "<path fill=\"none\" stroke=\"black\" d=\"M209.5,-153.09C209.5,-146.75 209.5,-136.75 209.5,-128.03\"/>\n",
       "<polygon fill=\"black\" stroke=\"black\" points=\"213,-128.27 209.5,-118.27 206,-128.27 213,-128.27\"/>\n",
       "</g>\n",
       "<!-- 18 -->\n",
       "<g id=\"node19\" class=\"node\">\n",
       "<title>18</title>\n",
       "<text text-anchor=\"middle\" x=\"209.5\" y=\"-54.8\" font-family=\"Times,serif\" font-size=\"14.00\">x (120)</text>\n",
       "</g>\n",
       "<!-- 17&#45;&gt;18 -->\n",
       "<g id=\"edge18\" class=\"edge\">\n",
       "<title>17&#45;&gt;18</title>\n",
       "<path fill=\"none\" stroke=\"black\" d=\"M209.5,-102.09C209.5,-95.75 209.5,-85.75 209.5,-77.03\"/>\n",
       "<polygon fill=\"black\" stroke=\"black\" points=\"213,-77.27 209.5,-67.27 206,-77.27 213,-77.27\"/>\n",
       "</g>\n",
       "<!-- 20 -->\n",
       "<g id=\"node21\" class=\"node\">\n",
       "<title>20</title>\n",
       "<text text-anchor=\"middle\" x=\"278.5\" y=\"-156.8\" font-family=\"Times,serif\" font-size=\"14.00\">&lt;text&gt;</text>\n",
       "</g>\n",
       "<!-- 19&#45;&gt;20 -->\n",
       "<g id=\"edge20\" class=\"edge\">\n",
       "<title>19&#45;&gt;20</title>\n",
       "<path fill=\"none\" stroke=\"black\" d=\"M275.02,-204.09C275.54,-197.75 276.36,-187.75 277.07,-179.03\"/>\n",
       "<polygon fill=\"black\" stroke=\"black\" points=\"280.54,-179.51 277.87,-169.26 273.56,-178.94 280.54,-179.51\"/>\n",
       "</g>\n",
       "<!-- 21 -->\n",
       "<g id=\"node22\" class=\"node\">\n",
       "<title>21</title>\n",
       "<text text-anchor=\"middle\" x=\"278.5\" y=\"-105.8\" font-family=\"Times,serif\" font-size=\"14.00\">t (116)</text>\n",
       "</g>\n",
       "<!-- 20&#45;&gt;21 -->\n",
       "<g id=\"edge21\" class=\"edge\">\n",
       "<title>20&#45;&gt;21</title>\n",
       "<path fill=\"none\" stroke=\"black\" d=\"M278.5,-153.09C278.5,-146.75 278.5,-136.75 278.5,-128.03\"/>\n",
       "<polygon fill=\"black\" stroke=\"black\" points=\"282,-128.27 278.5,-118.27 275,-128.27 282,-128.27\"/>\n",
       "</g>\n",
       "<!-- 23 -->\n",
       "<g id=\"node24\" class=\"node\">\n",
       "<title>23</title>\n",
       "<text text-anchor=\"middle\" x=\"331.5\" y=\"-207.8\" font-family=\"Times,serif\" font-size=\"14.00\">&lt;/</text>\n",
       "</g>\n",
       "<!-- 22&#45;&gt;23 -->\n",
       "<g id=\"edge23\" class=\"edge\">\n",
       "<title>22&#45;&gt;23</title>\n",
       "<path fill=\"none\" stroke=\"black\" d=\"M348.02,-255.09C345.5,-248.6 341.5,-238.28 338.06,-229.42\"/>\n",
       "<polygon fill=\"black\" stroke=\"black\" points=\"341.35,-228.22 334.47,-220.16 334.82,-230.75 341.35,-228.22\"/>\n",
       "</g>\n",
       "<!-- 24 -->\n",
       "<g id=\"node25\" class=\"node\">\n",
       "<title>24</title>\n",
       "<text text-anchor=\"middle\" x=\"370.5\" y=\"-207.8\" font-family=\"Times,serif\" font-size=\"14.00\">&lt;id&gt;</text>\n",
       "</g>\n",
       "<!-- 22&#45;&gt;24 -->\n",
       "<g id=\"edge24\" class=\"edge\">\n",
       "<title>22&#45;&gt;24</title>\n",
       "<path fill=\"none\" stroke=\"black\" d=\"M353.11,-255.09C355.79,-248.53 360.07,-238.05 363.72,-229.12\"/>\n",
       "<polygon fill=\"black\" stroke=\"black\" points=\"366.84,-230.73 367.38,-220.15 360.36,-228.09 366.84,-230.73\"/>\n",
       "</g>\n",
       "<!-- 26 -->\n",
       "<g id=\"node27\" class=\"node\">\n",
       "<title>26</title>\n",
       "<text text-anchor=\"middle\" x=\"420.5\" y=\"-207.8\" font-family=\"Times,serif\" font-size=\"14.00\">&gt; (62)</text>\n",
       "</g>\n",
       "<!-- 22&#45;&gt;26 -->\n",
       "<g id=\"edge26\" class=\"edge\">\n",
       "<title>22&#45;&gt;26</title>\n",
       "<path fill=\"none\" stroke=\"black\" d=\"M359.65,-255.09C370.4,-247.57 388.5,-234.9 402.17,-225.33\"/>\n",
       "<polygon fill=\"black\" stroke=\"black\" points=\"404.14,-228.22 410.33,-219.62 400.13,-222.49 404.14,-228.22\"/>\n",
       "</g>\n",
       "<!-- 25 -->\n",
       "<g id=\"node26\" class=\"node\">\n",
       "<title>25</title>\n",
       "<text text-anchor=\"middle\" x=\"370.5\" y=\"-156.8\" font-family=\"Times,serif\" font-size=\"14.00\">html</text>\n",
       "</g>\n",
       "<!-- 24&#45;&gt;25 -->\n",
       "<g id=\"edge25\" class=\"edge\">\n",
       "<title>24&#45;&gt;25</title>\n",
       "<path fill=\"none\" stroke=\"black\" d=\"M370.5,-204.09C370.5,-197.75 370.5,-187.75 370.5,-179.03\"/>\n",
       "<polygon fill=\"black\" stroke=\"black\" points=\"374,-179.27 370.5,-169.27 367,-179.27 374,-179.27\"/>\n",
       "</g>\n",
       "</g>\n",
       "</svg>\n"
      ],
      "text/plain": [
       "<graphviz.graphs.Digraph at 0x14a5c4b50>"
      ]
     },
     "metadata": {},
     "output_type": "display_data"
    },
    {
     "data": {
      "image/svg+xml": [
       "<?xml version=\"1.0\" encoding=\"UTF-8\" standalone=\"no\"?>\n",
       "<!DOCTYPE svg PUBLIC \"-//W3C//DTD SVG 1.1//EN\"\n",
       " \"http://www.w3.org/Graphics/SVG/1.1/DTD/svg11.dtd\">\n",
       "<!-- Generated by graphviz version 7.0.2 (20221119.0110)\n",
       " -->\n",
       "<!-- Pages: 1 -->\n",
       "<svg width=\"452pt\" height=\"380pt\"\n",
       " viewBox=\"0.00 0.00 452.00 380.00\" xmlns=\"http://www.w3.org/2000/svg\" xmlns:xlink=\"http://www.w3.org/1999/xlink\">\n",
       "<g id=\"graph0\" class=\"graph\" transform=\"scale(1 1) rotate(0) translate(4 376)\">\n",
       "<polygon fill=\"white\" stroke=\"none\" points=\"-4,4 -4,-376 448,-376 448,4 -4,4\"/>\n",
       "<!-- 0 -->\n",
       "<g id=\"node1\" class=\"node\">\n",
       "<title>0</title>\n",
       "<text text-anchor=\"middle\" x=\"214.5\" y=\"-360.8\" font-family=\"Times,serif\" font-size=\"14.00\">&lt;start&gt;</text>\n",
       "</g>\n",
       "<!-- 1 -->\n",
       "<g id=\"node2\" class=\"node\">\n",
       "<title>1</title>\n",
       "<text text-anchor=\"middle\" x=\"214.5\" y=\"-309.8\" font-family=\"Times,serif\" font-size=\"14.00\">&lt;xml&#45;tree&gt;</text>\n",
       "</g>\n",
       "<!-- 0&#45;&gt;1 -->\n",
       "<g id=\"edge1\" class=\"edge\">\n",
       "<title>0&#45;&gt;1</title>\n",
       "<path fill=\"none\" stroke=\"black\" d=\"M214.5,-357.09C214.5,-350.75 214.5,-340.75 214.5,-332.03\"/>\n",
       "<polygon fill=\"black\" stroke=\"black\" points=\"218,-332.27 214.5,-322.27 211,-332.27 218,-332.27\"/>\n",
       "</g>\n",
       "<!-- 2 -->\n",
       "<g id=\"node3\" class=\"node\">\n",
       "<title>2</title>\n",
       "<text text-anchor=\"middle\" x=\"101.5\" y=\"-258.8\" font-family=\"Times,serif\" font-size=\"14.00\">&lt;xml&#45;open&#45;tag&gt;</text>\n",
       "</g>\n",
       "<!-- 1&#45;&gt;2 -->\n",
       "<g id=\"edge2\" class=\"edge\">\n",
       "<title>1&#45;&gt;2</title>\n",
       "<path fill=\"none\" stroke=\"black\" d=\"M199.73,-306.09C181.2,-298.06 149.15,-284.16 126.71,-274.43\"/>\n",
       "<polygon fill=\"black\" stroke=\"black\" points=\"128.23,-271.28 117.67,-270.51 125.45,-277.7 128.23,-271.28\"/>\n",
       "</g>\n",
       "<!-- 7 -->\n",
       "<g id=\"node8\" class=\"node\">\n",
       "<title>7</title>\n",
       "<text text-anchor=\"middle\" x=\"214.5\" y=\"-258.8\" font-family=\"Times,serif\" font-size=\"14.00\">&lt;xml&#45;tree&gt;</text>\n",
       "</g>\n",
       "<!-- 1&#45;&gt;7 -->\n",
       "<g id=\"edge7\" class=\"edge\">\n",
       "<title>1&#45;&gt;7</title>\n",
       "<path fill=\"none\" stroke=\"black\" d=\"M214.5,-306.09C214.5,-299.75 214.5,-289.75 214.5,-281.03\"/>\n",
       "<polygon fill=\"black\" stroke=\"black\" points=\"218,-281.27 214.5,-271.27 211,-281.27 218,-281.27\"/>\n",
       "</g>\n",
       "<!-- 22 -->\n",
       "<g id=\"node23\" class=\"node\">\n",
       "<title>22</title>\n",
       "<text text-anchor=\"middle\" x=\"356.5\" y=\"-258.8\" font-family=\"Times,serif\" font-size=\"14.00\">&lt;xml&#45;close&#45;tag&gt;</text>\n",
       "</g>\n",
       "<!-- 1&#45;&gt;22 -->\n",
       "<g id=\"edge22\" class=\"edge\">\n",
       "<title>1&#45;&gt;22</title>\n",
       "<path fill=\"none\" stroke=\"black\" d=\"M233.06,-306.09C256.98,-297.84 298.84,-283.4 327.11,-273.64\"/>\n",
       "<polygon fill=\"black\" stroke=\"black\" points=\"328.19,-276.97 336.5,-270.4 325.91,-270.35 328.19,-276.97\"/>\n",
       "</g>\n",
       "<!-- 3 -->\n",
       "<g id=\"node4\" class=\"node\">\n",
       "<title>3</title>\n",
       "<text text-anchor=\"middle\" x=\"17.5\" y=\"-207.8\" font-family=\"Times,serif\" font-size=\"14.00\">&lt; (60)</text>\n",
       "</g>\n",
       "<!-- 2&#45;&gt;3 -->\n",
       "<g id=\"edge3\" class=\"edge\">\n",
       "<title>2&#45;&gt;3</title>\n",
       "<path fill=\"none\" stroke=\"black\" d=\"M90.52,-255.09C77.31,-247.39 54.86,-234.3 38.33,-224.65\"/>\n",
       "<polygon fill=\"black\" stroke=\"black\" points=\"40.19,-221.69 29.79,-219.67 36.67,-227.73 40.19,-221.69\"/>\n",
       "</g>\n",
       "<!-- 4 -->\n",
       "<g id=\"node5\" class=\"node\">\n",
       "<title>4</title>\n",
       "<text text-anchor=\"middle\" x=\"67.5\" y=\"-207.8\" font-family=\"Times,serif\" font-size=\"14.00\">&lt;id&gt;</text>\n",
       "</g>\n",
       "<!-- 2&#45;&gt;4 -->\n",
       "<g id=\"edge4\" class=\"edge\">\n",
       "<title>2&#45;&gt;4</title>\n",
       "<path fill=\"none\" stroke=\"black\" d=\"M97.06,-255.09C92.29,-248.23 84.57,-237.1 78.21,-227.93\"/>\n",
       "<polygon fill=\"black\" stroke=\"black\" points=\"81.28,-226.22 72.7,-220 75.53,-230.21 81.28,-226.22\"/>\n",
       "</g>\n",
       "<!-- 6 -->\n",
       "<g id=\"node7\" class=\"node\">\n",
       "<title>6</title>\n",
       "<text text-anchor=\"middle\" x=\"117.5\" y=\"-207.8\" font-family=\"Times,serif\" font-size=\"14.00\">&gt; (62)</text>\n",
       "</g>\n",
       "<!-- 2&#45;&gt;6 -->\n",
       "<g id=\"edge6\" class=\"edge\">\n",
       "<title>2&#45;&gt;6</title>\n",
       "<path fill=\"none\" stroke=\"black\" d=\"M103.59,-255.09C105.71,-248.6 109.08,-238.28 111.97,-229.42\"/>\n",
       "<polygon fill=\"black\" stroke=\"black\" points=\"115.21,-230.78 114.99,-220.19 108.56,-228.61 115.21,-230.78\"/>\n",
       "</g>\n",
       "<!-- 5 -->\n",
       "<g id=\"node6\" class=\"node\">\n",
       "<title>5</title>\n",
       "<text text-anchor=\"middle\" x=\"60.5\" y=\"-156.8\" font-family=\"Times,serif\" font-size=\"14.00\">html</text>\n",
       "</g>\n",
       "<!-- 4&#45;&gt;5 -->\n",
       "<g id=\"edge5\" class=\"edge\">\n",
       "<title>4&#45;&gt;5</title>\n",
       "<path fill=\"none\" stroke=\"black\" d=\"M66.58,-204.09C65.68,-197.75 64.25,-187.75 63,-179.03\"/>\n",
       "<polygon fill=\"black\" stroke=\"black\" points=\"66.49,-178.66 61.61,-169.25 59.56,-179.65 66.49,-178.66\"/>\n",
       "</g>\n",
       "<!-- 8 -->\n",
       "<g id=\"node9\" class=\"node\">\n",
       "<title>8</title>\n",
       "<text text-anchor=\"middle\" x=\"198.5\" y=\"-207.8\" font-family=\"Times,serif\" font-size=\"14.00\">&lt;xml&#45;tree&gt;</text>\n",
       "</g>\n",
       "<!-- 7&#45;&gt;8 -->\n",
       "<g id=\"edge8\" class=\"edge\">\n",
       "<title>7&#45;&gt;8</title>\n",
       "<path fill=\"none\" stroke=\"black\" d=\"M212.41,-255.09C210.29,-248.6 206.92,-238.28 204.03,-229.42\"/>\n",
       "<polygon fill=\"black\" stroke=\"black\" points=\"207.44,-228.61 201.01,-220.19 200.79,-230.78 207.44,-228.61\"/>\n",
       "</g>\n",
       "<!-- 19 -->\n",
       "<g id=\"node20\" class=\"node\">\n",
       "<title>19</title>\n",
       "<text text-anchor=\"middle\" x=\"280.5\" y=\"-207.8\" font-family=\"Times,serif\" font-size=\"14.00\">&lt;xml&#45;tree&gt;</text>\n",
       "</g>\n",
       "<!-- 7&#45;&gt;19 -->\n",
       "<g id=\"edge19\" class=\"edge\">\n",
       "<title>7&#45;&gt;19</title>\n",
       "<path fill=\"none\" stroke=\"black\" d=\"M223.13,-255.09C233.16,-247.64 249.99,-235.15 262.84,-225.61\"/>\n",
       "<polygon fill=\"black\" stroke=\"black\" points=\"264.92,-228.43 270.86,-219.65 260.75,-222.81 264.92,-228.43\"/>\n",
       "</g>\n",
       "<!-- 9 -->\n",
       "<g id=\"node10\" class=\"node\">\n",
       "<title>9</title>\n",
       "<text text-anchor=\"middle\" x=\"123.5\" y=\"-156.8\" font-family=\"Times,serif\" font-size=\"14.00\">&lt;xml&#45;tree&gt;</text>\n",
       "</g>\n",
       "<!-- 8&#45;&gt;9 -->\n",
       "<g id=\"edge9\" class=\"edge\">\n",
       "<title>8&#45;&gt;9</title>\n",
       "<path fill=\"none\" stroke=\"black\" d=\"M188.7,-204.09C177.06,-196.5 157.4,-183.65 142.71,-174.05\"/>\n",
       "<polygon fill=\"black\" stroke=\"black\" points=\"144.62,-171.12 134.34,-168.58 140.79,-176.98 144.62,-171.12\"/>\n",
       "</g>\n",
       "<!-- 12 -->\n",
       "<g id=\"node13\" class=\"node\">\n",
       "<title>12</title>\n",
       "<text text-anchor=\"middle\" x=\"205.5\" y=\"-156.8\" font-family=\"Times,serif\" font-size=\"14.00\">&lt;xml&#45;tree&gt;</text>\n",
       "</g>\n",
       "<!-- 8&#45;&gt;12 -->\n",
       "<g id=\"edge12\" class=\"edge\">\n",
       "<title>8&#45;&gt;12</title>\n",
       "<path fill=\"none\" stroke=\"black\" d=\"M199.42,-204.09C200.32,-197.75 201.75,-187.75 203,-179.03\"/>\n",
       "<polygon fill=\"black\" stroke=\"black\" points=\"206.44,-179.65 204.39,-169.25 199.51,-178.66 206.44,-179.65\"/>\n",
       "</g>\n",
       "<!-- 10 -->\n",
       "<g id=\"node11\" class=\"node\">\n",
       "<title>10</title>\n",
       "<text text-anchor=\"middle\" x=\"107.5\" y=\"-105.8\" font-family=\"Times,serif\" font-size=\"14.00\">&lt;text&gt;</text>\n",
       "</g>\n",
       "<!-- 9&#45;&gt;10 -->\n",
       "<g id=\"edge10\" class=\"edge\">\n",
       "<title>9&#45;&gt;10</title>\n",
       "<path fill=\"none\" stroke=\"black\" d=\"M121.41,-153.09C119.29,-146.6 115.92,-136.28 113.03,-127.42\"/>\n",
       "<polygon fill=\"black\" stroke=\"black\" points=\"116.44,-126.61 110.01,-118.19 109.79,-128.78 116.44,-126.61\"/>\n",
       "</g>\n",
       "<!-- 11 -->\n",
       "<g id=\"node12\" class=\"node\">\n",
       "<title>11</title>\n",
       "<text text-anchor=\"middle\" x=\"107.5\" y=\"-54.8\" font-family=\"Times,serif\" font-size=\"14.00\">T (84)</text>\n",
       "</g>\n",
       "<!-- 10&#45;&gt;11 -->\n",
       "<g id=\"edge11\" class=\"edge\">\n",
       "<title>10&#45;&gt;11</title>\n",
       "<path fill=\"none\" stroke=\"black\" d=\"M107.5,-102.09C107.5,-95.75 107.5,-85.75 107.5,-77.03\"/>\n",
       "<polygon fill=\"black\" stroke=\"black\" points=\"111,-77.27 107.5,-67.27 104,-77.27 111,-77.27\"/>\n",
       "</g>\n",
       "<!-- 13 -->\n",
       "<g id=\"node14\" class=\"node\">\n",
       "<title>13</title>\n",
       "<text text-anchor=\"middle\" x=\"176.5\" y=\"-105.8\" font-family=\"Times,serif\" font-size=\"14.00\">&lt;xml&#45;tree&gt;</text>\n",
       "</g>\n",
       "<!-- 12&#45;&gt;13 -->\n",
       "<g id=\"edge13\" class=\"edge\">\n",
       "<title>12&#45;&gt;13</title>\n",
       "<path fill=\"none\" stroke=\"black\" d=\"M201.71,-153.09C197.74,-146.38 191.34,-135.57 185.98,-126.52\"/>\n",
       "<polygon fill=\"black\" stroke=\"black\" points=\"189.08,-124.88 180.97,-118.06 183.05,-128.44 189.08,-124.88\"/>\n",
       "</g>\n",
       "<!-- 16 -->\n",
       "<g id=\"node17\" class=\"node\">\n",
       "<title>16</title>\n",
       "<text text-anchor=\"middle\" x=\"258.5\" y=\"-105.8\" font-family=\"Times,serif\" font-size=\"14.00\">&lt;xml&#45;tree&gt;</text>\n",
       "</g>\n",
       "<!-- 12&#45;&gt;16 -->\n",
       "<g id=\"edge16\" class=\"edge\">\n",
       "<title>12&#45;&gt;16</title>\n",
       "<path fill=\"none\" stroke=\"black\" d=\"M212.43,-153.09C220.25,-145.86 233.21,-133.89 243.39,-124.47\"/>\n",
       "<polygon fill=\"black\" stroke=\"black\" points=\"245.66,-127.14 250.63,-117.78 240.91,-122 245.66,-127.14\"/>\n",
       "</g>\n",
       "<!-- 14 -->\n",
       "<g id=\"node15\" class=\"node\">\n",
       "<title>14</title>\n",
       "<text text-anchor=\"middle\" x=\"176.5\" y=\"-54.8\" font-family=\"Times,serif\" font-size=\"14.00\">&lt;text&gt;</text>\n",
       "</g>\n",
       "<!-- 13&#45;&gt;14 -->\n",
       "<g id=\"edge14\" class=\"edge\">\n",
       "<title>13&#45;&gt;14</title>\n",
       "<path fill=\"none\" stroke=\"black\" d=\"M176.5,-102.09C176.5,-95.75 176.5,-85.75 176.5,-77.03\"/>\n",
       "<polygon fill=\"black\" stroke=\"black\" points=\"180,-77.27 176.5,-67.27 173,-77.27 180,-77.27\"/>\n",
       "</g>\n",
       "<!-- 15 -->\n",
       "<g id=\"node16\" class=\"node\">\n",
       "<title>15</title>\n",
       "<text text-anchor=\"middle\" x=\"176.5\" y=\"-3.8\" font-family=\"Times,serif\" font-size=\"14.00\">e (101)</text>\n",
       "</g>\n",
       "<!-- 14&#45;&gt;15 -->\n",
       "<g id=\"edge15\" class=\"edge\">\n",
       "<title>14&#45;&gt;15</title>\n",
       "<path fill=\"none\" stroke=\"black\" d=\"M176.5,-51.09C176.5,-44.75 176.5,-34.75 176.5,-26.03\"/>\n",
       "<polygon fill=\"black\" stroke=\"black\" points=\"180,-26.27 176.5,-16.27 173,-26.27 180,-26.27\"/>\n",
       "</g>\n",
       "<!-- 17 -->\n",
       "<g id=\"node18\" class=\"node\">\n",
       "<title>17</title>\n",
       "<text text-anchor=\"middle\" x=\"258.5\" y=\"-54.8\" font-family=\"Times,serif\" font-size=\"14.00\">&lt;text&gt;</text>\n",
       "</g>\n",
       "<!-- 16&#45;&gt;17 -->\n",
       "<g id=\"edge17\" class=\"edge\">\n",
       "<title>16&#45;&gt;17</title>\n",
       "<path fill=\"none\" stroke=\"black\" d=\"M258.5,-102.09C258.5,-95.75 258.5,-85.75 258.5,-77.03\"/>\n",
       "<polygon fill=\"black\" stroke=\"black\" points=\"262,-77.27 258.5,-67.27 255,-77.27 262,-77.27\"/>\n",
       "</g>\n",
       "<!-- 18 -->\n",
       "<g id=\"node19\" class=\"node\">\n",
       "<title>18</title>\n",
       "<text text-anchor=\"middle\" x=\"258.5\" y=\"-3.8\" font-family=\"Times,serif\" font-size=\"14.00\">x (120)</text>\n",
       "</g>\n",
       "<!-- 17&#45;&gt;18 -->\n",
       "<g id=\"edge18\" class=\"edge\">\n",
       "<title>17&#45;&gt;18</title>\n",
       "<path fill=\"none\" stroke=\"black\" d=\"M258.5,-51.09C258.5,-44.75 258.5,-34.75 258.5,-26.03\"/>\n",
       "<polygon fill=\"black\" stroke=\"black\" points=\"262,-26.27 258.5,-16.27 255,-26.27 262,-26.27\"/>\n",
       "</g>\n",
       "<!-- 20 -->\n",
       "<g id=\"node21\" class=\"node\">\n",
       "<title>20</title>\n",
       "<text text-anchor=\"middle\" x=\"310.5\" y=\"-156.8\" font-family=\"Times,serif\" font-size=\"14.00\">&lt;text&gt;</text>\n",
       "</g>\n",
       "<!-- 19&#45;&gt;20 -->\n",
       "<g id=\"edge20\" class=\"edge\">\n",
       "<title>19&#45;&gt;20</title>\n",
       "<path fill=\"none\" stroke=\"black\" d=\"M284.42,-204.09C288.53,-197.38 295.15,-186.57 300.69,-177.52\"/>\n",
       "<polygon fill=\"black\" stroke=\"black\" points=\"303.65,-179.4 305.88,-169.04 297.68,-175.74 303.65,-179.4\"/>\n",
       "</g>\n",
       "<!-- 21 -->\n",
       "<g id=\"node22\" class=\"node\">\n",
       "<title>21</title>\n",
       "<text text-anchor=\"middle\" x=\"327.5\" y=\"-105.8\" font-family=\"Times,serif\" font-size=\"14.00\">t (116)</text>\n",
       "</g>\n",
       "<!-- 20&#45;&gt;21 -->\n",
       "<g id=\"edge21\" class=\"edge\">\n",
       "<title>20&#45;&gt;21</title>\n",
       "<path fill=\"none\" stroke=\"black\" d=\"M312.72,-153.09C314.97,-146.6 318.56,-136.28 321.63,-127.42\"/>\n",
       "<polygon fill=\"black\" stroke=\"black\" points=\"324.86,-128.78 324.83,-118.18 318.25,-126.48 324.86,-128.78\"/>\n",
       "</g>\n",
       "<!-- 23 -->\n",
       "<g id=\"node24\" class=\"node\">\n",
       "<title>23</title>\n",
       "<text text-anchor=\"middle\" x=\"337.5\" y=\"-207.8\" font-family=\"Times,serif\" font-size=\"14.00\">&lt;/</text>\n",
       "</g>\n",
       "<!-- 22&#45;&gt;23 -->\n",
       "<g id=\"edge23\" class=\"edge\">\n",
       "<title>22&#45;&gt;23</title>\n",
       "<path fill=\"none\" stroke=\"black\" d=\"M354.02,-255.09C351.5,-248.6 347.5,-238.28 344.06,-229.42\"/>\n",
       "<polygon fill=\"black\" stroke=\"black\" points=\"347.35,-228.22 340.47,-220.16 340.82,-230.75 347.35,-228.22\"/>\n",
       "</g>\n",
       "<!-- 24 -->\n",
       "<g id=\"node25\" class=\"node\">\n",
       "<title>24</title>\n",
       "<text text-anchor=\"middle\" x=\"376.5\" y=\"-207.8\" font-family=\"Times,serif\" font-size=\"14.00\">&lt;id&gt;</text>\n",
       "</g>\n",
       "<!-- 22&#45;&gt;24 -->\n",
       "<g id=\"edge24\" class=\"edge\">\n",
       "<title>22&#45;&gt;24</title>\n",
       "<path fill=\"none\" stroke=\"black\" d=\"M359.11,-255.09C361.79,-248.53 366.07,-238.05 369.72,-229.12\"/>\n",
       "<polygon fill=\"black\" stroke=\"black\" points=\"372.84,-230.73 373.38,-220.15 366.36,-228.09 372.84,-230.73\"/>\n",
       "</g>\n",
       "<!-- 26 -->\n",
       "<g id=\"node27\" class=\"node\">\n",
       "<title>26</title>\n",
       "<text text-anchor=\"middle\" x=\"426.5\" y=\"-207.8\" font-family=\"Times,serif\" font-size=\"14.00\">&gt; (62)</text>\n",
       "</g>\n",
       "<!-- 22&#45;&gt;26 -->\n",
       "<g id=\"edge26\" class=\"edge\">\n",
       "<title>22&#45;&gt;26</title>\n",
       "<path fill=\"none\" stroke=\"black\" d=\"M365.65,-255.09C376.4,-247.57 394.5,-234.9 408.17,-225.33\"/>\n",
       "<polygon fill=\"black\" stroke=\"black\" points=\"410.14,-228.22 416.33,-219.62 406.13,-222.49 410.14,-228.22\"/>\n",
       "</g>\n",
       "<!-- 25 -->\n",
       "<g id=\"node26\" class=\"node\">\n",
       "<title>25</title>\n",
       "<text text-anchor=\"middle\" x=\"376.5\" y=\"-156.8\" font-family=\"Times,serif\" font-size=\"14.00\">html</text>\n",
       "</g>\n",
       "<!-- 24&#45;&gt;25 -->\n",
       "<g id=\"edge25\" class=\"edge\">\n",
       "<title>24&#45;&gt;25</title>\n",
       "<path fill=\"none\" stroke=\"black\" d=\"M376.5,-204.09C376.5,-197.75 376.5,-187.75 376.5,-179.03\"/>\n",
       "<polygon fill=\"black\" stroke=\"black\" points=\"380,-179.27 376.5,-169.27 373,-179.27 380,-179.27\"/>\n",
       "</g>\n",
       "</g>\n",
       "</svg>\n"
      ],
      "text/plain": [
       "<graphviz.graphs.Digraph at 0x14a5c4d30>"
      ]
     },
     "metadata": {},
     "output_type": "display_data"
    },
    {
     "data": {
      "image/svg+xml": [
       "<?xml version=\"1.0\" encoding=\"UTF-8\" standalone=\"no\"?>\n",
       "<!DOCTYPE svg PUBLIC \"-//W3C//DTD SVG 1.1//EN\"\n",
       " \"http://www.w3.org/Graphics/SVG/1.1/DTD/svg11.dtd\">\n",
       "<!-- Generated by graphviz version 7.0.2 (20221119.0110)\n",
       " -->\n",
       "<!-- Pages: 1 -->\n",
       "<svg width=\"457pt\" height=\"329pt\"\n",
       " viewBox=\"0.00 0.00 457.00 329.00\" xmlns=\"http://www.w3.org/2000/svg\" xmlns:xlink=\"http://www.w3.org/1999/xlink\">\n",
       "<g id=\"graph0\" class=\"graph\" transform=\"scale(1 1) rotate(0) translate(4 325)\">\n",
       "<polygon fill=\"white\" stroke=\"none\" points=\"-4,4 -4,-325 453,-325 453,4 -4,4\"/>\n",
       "<!-- 0 -->\n",
       "<g id=\"node1\" class=\"node\">\n",
       "<title>0</title>\n",
       "<text text-anchor=\"middle\" x=\"204.5\" y=\"-309.8\" font-family=\"Times,serif\" font-size=\"14.00\">&lt;start&gt;</text>\n",
       "</g>\n",
       "<!-- 1 -->\n",
       "<g id=\"node2\" class=\"node\">\n",
       "<title>1</title>\n",
       "<text text-anchor=\"middle\" x=\"204.5\" y=\"-258.8\" font-family=\"Times,serif\" font-size=\"14.00\">&lt;xml&#45;tree&gt;</text>\n",
       "</g>\n",
       "<!-- 0&#45;&gt;1 -->\n",
       "<g id=\"edge1\" class=\"edge\">\n",
       "<title>0&#45;&gt;1</title>\n",
       "<path fill=\"none\" stroke=\"black\" d=\"M204.5,-306.09C204.5,-299.75 204.5,-289.75 204.5,-281.03\"/>\n",
       "<polygon fill=\"black\" stroke=\"black\" points=\"208,-281.27 204.5,-271.27 201,-281.27 208,-281.27\"/>\n",
       "</g>\n",
       "<!-- 2 -->\n",
       "<g id=\"node3\" class=\"node\">\n",
       "<title>2</title>\n",
       "<text text-anchor=\"middle\" x=\"97.5\" y=\"-207.8\" font-family=\"Times,serif\" font-size=\"14.00\">&lt;xml&#45;open&#45;tag&gt;</text>\n",
       "</g>\n",
       "<!-- 1&#45;&gt;2 -->\n",
       "<g id=\"edge2\" class=\"edge\">\n",
       "<title>1&#45;&gt;2</title>\n",
       "<path fill=\"none\" stroke=\"black\" d=\"M190.51,-255.09C173.13,-247.13 143.17,-233.42 121.96,-223.7\"/>\n",
       "<polygon fill=\"black\" stroke=\"black\" points=\"123.42,-220.52 112.87,-219.54 120.5,-226.88 123.42,-220.52\"/>\n",
       "</g>\n",
       "<!-- 7 -->\n",
       "<g id=\"node8\" class=\"node\">\n",
       "<title>7</title>\n",
       "<text text-anchor=\"middle\" x=\"204.5\" y=\"-207.8\" font-family=\"Times,serif\" font-size=\"14.00\">&lt;xml&#45;tree&gt;</text>\n",
       "</g>\n",
       "<!-- 1&#45;&gt;7 -->\n",
       "<g id=\"edge7\" class=\"edge\">\n",
       "<title>1&#45;&gt;7</title>\n",
       "<path fill=\"none\" stroke=\"black\" d=\"M204.5,-255.09C204.5,-248.75 204.5,-238.75 204.5,-230.03\"/>\n",
       "<polygon fill=\"black\" stroke=\"black\" points=\"208,-230.27 204.5,-220.27 201,-230.27 208,-230.27\"/>\n",
       "</g>\n",
       "<!-- 18 -->\n",
       "<g id=\"node19\" class=\"node\">\n",
       "<title>18</title>\n",
       "<text text-anchor=\"middle\" x=\"361.5\" y=\"-207.8\" font-family=\"Times,serif\" font-size=\"14.00\">&lt;xml&#45;close&#45;tag&gt;</text>\n",
       "</g>\n",
       "<!-- 1&#45;&gt;18 -->\n",
       "<g id=\"edge18\" class=\"edge\">\n",
       "<title>1&#45;&gt;18</title>\n",
       "<path fill=\"none\" stroke=\"black\" d=\"M225.03,-255.09C251.82,-246.73 298.99,-232.01 330.24,-222.26\"/>\n",
       "<polygon fill=\"black\" stroke=\"black\" points=\"331.02,-225.68 339.53,-219.36 328.94,-219 331.02,-225.68\"/>\n",
       "</g>\n",
       "<!-- 3 -->\n",
       "<g id=\"node4\" class=\"node\">\n",
       "<title>3</title>\n",
       "<text text-anchor=\"middle\" x=\"17.5\" y=\"-156.8\" font-family=\"Times,serif\" font-size=\"14.00\">&lt; (60)</text>\n",
       "</g>\n",
       "<!-- 2&#45;&gt;3 -->\n",
       "<g id=\"edge3\" class=\"edge\">\n",
       "<title>2&#45;&gt;3</title>\n",
       "<path fill=\"none\" stroke=\"black\" d=\"M87.04,-204.09C74.46,-196.39 53.08,-183.3 37.34,-173.65\"/>\n",
       "<polygon fill=\"black\" stroke=\"black\" points=\"39.61,-170.94 29.25,-168.7 35.95,-176.91 39.61,-170.94\"/>\n",
       "</g>\n",
       "<!-- 4 -->\n",
       "<g id=\"node5\" class=\"node\">\n",
       "<title>4</title>\n",
       "<text text-anchor=\"middle\" x=\"67.5\" y=\"-156.8\" font-family=\"Times,serif\" font-size=\"14.00\">&lt;id&gt;</text>\n",
       "</g>\n",
       "<!-- 2&#45;&gt;4 -->\n",
       "<g id=\"edge4\" class=\"edge\">\n",
       "<title>2&#45;&gt;4</title>\n",
       "<path fill=\"none\" stroke=\"black\" d=\"M93.58,-204.09C89.47,-197.38 82.85,-186.57 77.31,-177.52\"/>\n",
       "<polygon fill=\"black\" stroke=\"black\" points=\"80.32,-175.74 72.12,-169.04 74.35,-179.4 80.32,-175.74\"/>\n",
       "</g>\n",
       "<!-- 6 -->\n",
       "<g id=\"node7\" class=\"node\">\n",
       "<title>6</title>\n",
       "<text text-anchor=\"middle\" x=\"117.5\" y=\"-156.8\" font-family=\"Times,serif\" font-size=\"14.00\">&gt; (62)</text>\n",
       "</g>\n",
       "<!-- 2&#45;&gt;6 -->\n",
       "<g id=\"edge6\" class=\"edge\">\n",
       "<title>2&#45;&gt;6</title>\n",
       "<path fill=\"none\" stroke=\"black\" d=\"M100.11,-204.09C102.79,-197.53 107.07,-187.05 110.72,-178.12\"/>\n",
       "<polygon fill=\"black\" stroke=\"black\" points=\"113.84,-179.73 114.38,-169.15 107.36,-177.09 113.84,-179.73\"/>\n",
       "</g>\n",
       "<!-- 5 -->\n",
       "<g id=\"node6\" class=\"node\">\n",
       "<title>5</title>\n",
       "<text text-anchor=\"middle\" x=\"67.5\" y=\"-105.8\" font-family=\"Times,serif\" font-size=\"14.00\">html</text>\n",
       "</g>\n",
       "<!-- 4&#45;&gt;5 -->\n",
       "<g id=\"edge5\" class=\"edge\">\n",
       "<title>4&#45;&gt;5</title>\n",
       "<path fill=\"none\" stroke=\"black\" d=\"M67.5,-153.09C67.5,-146.75 67.5,-136.75 67.5,-128.03\"/>\n",
       "<polygon fill=\"black\" stroke=\"black\" points=\"71,-128.27 67.5,-118.27 64,-128.27 71,-128.27\"/>\n",
       "</g>\n",
       "<!-- 8 -->\n",
       "<g id=\"node9\" class=\"node\">\n",
       "<title>8</title>\n",
       "<text text-anchor=\"middle\" x=\"185.5\" y=\"-156.8\" font-family=\"Times,serif\" font-size=\"14.00\">&lt;xml&#45;tree&gt;</text>\n",
       "</g>\n",
       "<!-- 7&#45;&gt;8 -->\n",
       "<g id=\"edge8\" class=\"edge\">\n",
       "<title>7&#45;&gt;8</title>\n",
       "<path fill=\"none\" stroke=\"black\" d=\"M202.02,-204.09C199.5,-197.6 195.5,-187.28 192.06,-178.42\"/>\n",
       "<polygon fill=\"black\" stroke=\"black\" points=\"195.35,-177.22 188.47,-169.16 188.82,-179.75 195.35,-177.22\"/>\n",
       "</g>\n",
       "<!-- 11 -->\n",
       "<g id=\"node12\" class=\"node\">\n",
       "<title>11</title>\n",
       "<text text-anchor=\"middle\" x=\"267.5\" y=\"-156.8\" font-family=\"Times,serif\" font-size=\"14.00\">&lt;xml&#45;tree&gt;</text>\n",
       "</g>\n",
       "<!-- 7&#45;&gt;11 -->\n",
       "<g id=\"edge11\" class=\"edge\">\n",
       "<title>7&#45;&gt;11</title>\n",
       "<path fill=\"none\" stroke=\"black\" d=\"M212.74,-204.09C222.32,-196.64 238.38,-184.15 250.64,-174.61\"/>\n",
       "<polygon fill=\"black\" stroke=\"black\" points=\"252.52,-177.58 258.27,-168.68 248.22,-172.06 252.52,-177.58\"/>\n",
       "</g>\n",
       "<!-- 9 -->\n",
       "<g id=\"node10\" class=\"node\">\n",
       "<title>9</title>\n",
       "<text text-anchor=\"middle\" x=\"176.5\" y=\"-105.8\" font-family=\"Times,serif\" font-size=\"14.00\">&lt;text&gt;</text>\n",
       "</g>\n",
       "<!-- 8&#45;&gt;9 -->\n",
       "<g id=\"edge9\" class=\"edge\">\n",
       "<title>8&#45;&gt;9</title>\n",
       "<path fill=\"none\" stroke=\"black\" d=\"M184.32,-153.09C183.16,-146.75 181.32,-136.75 179.72,-128.03\"/>\n",
       "<polygon fill=\"black\" stroke=\"black\" points=\"183.17,-127.44 177.92,-118.24 176.29,-128.71 183.17,-127.44\"/>\n",
       "</g>\n",
       "<!-- 10 -->\n",
       "<g id=\"node11\" class=\"node\">\n",
       "<title>10</title>\n",
       "<text text-anchor=\"middle\" x=\"176.5\" y=\"-54.8\" font-family=\"Times,serif\" font-size=\"14.00\">T (84)</text>\n",
       "</g>\n",
       "<!-- 9&#45;&gt;10 -->\n",
       "<g id=\"edge10\" class=\"edge\">\n",
       "<title>9&#45;&gt;10</title>\n",
       "<path fill=\"none\" stroke=\"black\" d=\"M176.5,-102.09C176.5,-95.75 176.5,-85.75 176.5,-77.03\"/>\n",
       "<polygon fill=\"black\" stroke=\"black\" points=\"180,-77.27 176.5,-67.27 173,-77.27 180,-77.27\"/>\n",
       "</g>\n",
       "<!-- 12 -->\n",
       "<g id=\"node13\" class=\"node\">\n",
       "<title>12</title>\n",
       "<text text-anchor=\"middle\" x=\"245.5\" y=\"-105.8\" font-family=\"Times,serif\" font-size=\"14.00\">&lt;xml&#45;tree&gt;</text>\n",
       "</g>\n",
       "<!-- 11&#45;&gt;12 -->\n",
       "<g id=\"edge12\" class=\"edge\">\n",
       "<title>11&#45;&gt;12</title>\n",
       "<path fill=\"none\" stroke=\"black\" d=\"M264.62,-153.09C261.68,-146.53 256.97,-136.05 252.96,-127.12\"/>\n",
       "<polygon fill=\"black\" stroke=\"black\" points=\"256.22,-125.82 248.93,-118.13 249.83,-128.69 256.22,-125.82\"/>\n",
       "</g>\n",
       "<!-- 15 -->\n",
       "<g id=\"node16\" class=\"node\">\n",
       "<title>15</title>\n",
       "<text text-anchor=\"middle\" x=\"327.5\" y=\"-105.8\" font-family=\"Times,serif\" font-size=\"14.00\">&lt;xml&#45;tree&gt;</text>\n",
       "</g>\n",
       "<!-- 11&#45;&gt;15 -->\n",
       "<g id=\"edge15\" class=\"edge\">\n",
       "<title>11&#45;&gt;15</title>\n",
       "<path fill=\"none\" stroke=\"black\" d=\"M275.34,-153.09C284.38,-145.72 299.47,-133.39 311.1,-123.9\"/>\n",
       "<polygon fill=\"black\" stroke=\"black\" points=\"313.14,-126.75 318.67,-117.71 308.71,-121.32 313.14,-126.75\"/>\n",
       "</g>\n",
       "<!-- 13 -->\n",
       "<g id=\"node14\" class=\"node\">\n",
       "<title>13</title>\n",
       "<text text-anchor=\"middle\" x=\"245.5\" y=\"-54.8\" font-family=\"Times,serif\" font-size=\"14.00\">&lt;text&gt;</text>\n",
       "</g>\n",
       "<!-- 12&#45;&gt;13 -->\n",
       "<g id=\"edge13\" class=\"edge\">\n",
       "<title>12&#45;&gt;13</title>\n",
       "<path fill=\"none\" stroke=\"black\" d=\"M245.5,-102.09C245.5,-95.75 245.5,-85.75 245.5,-77.03\"/>\n",
       "<polygon fill=\"black\" stroke=\"black\" points=\"249,-77.27 245.5,-67.27 242,-77.27 249,-77.27\"/>\n",
       "</g>\n",
       "<!-- 14 -->\n",
       "<g id=\"node15\" class=\"node\">\n",
       "<title>14</title>\n",
       "<text text-anchor=\"middle\" x=\"245.5\" y=\"-3.8\" font-family=\"Times,serif\" font-size=\"14.00\">e (101)</text>\n",
       "</g>\n",
       "<!-- 13&#45;&gt;14 -->\n",
       "<g id=\"edge14\" class=\"edge\">\n",
       "<title>13&#45;&gt;14</title>\n",
       "<path fill=\"none\" stroke=\"black\" d=\"M245.5,-51.09C245.5,-44.75 245.5,-34.75 245.5,-26.03\"/>\n",
       "<polygon fill=\"black\" stroke=\"black\" points=\"249,-26.27 245.5,-16.27 242,-26.27 249,-26.27\"/>\n",
       "</g>\n",
       "<!-- 16 -->\n",
       "<g id=\"node17\" class=\"node\">\n",
       "<title>16</title>\n",
       "<text text-anchor=\"middle\" x=\"327.5\" y=\"-54.8\" font-family=\"Times,serif\" font-size=\"14.00\">&lt;text&gt;</text>\n",
       "</g>\n",
       "<!-- 15&#45;&gt;16 -->\n",
       "<g id=\"edge16\" class=\"edge\">\n",
       "<title>15&#45;&gt;16</title>\n",
       "<path fill=\"none\" stroke=\"black\" d=\"M327.5,-102.09C327.5,-95.75 327.5,-85.75 327.5,-77.03\"/>\n",
       "<polygon fill=\"black\" stroke=\"black\" points=\"331,-77.27 327.5,-67.27 324,-77.27 331,-77.27\"/>\n",
       "</g>\n",
       "<!-- 17 -->\n",
       "<g id=\"node18\" class=\"node\">\n",
       "<title>17</title>\n",
       "<text text-anchor=\"middle\" x=\"327.5\" y=\"-3.8\" font-family=\"Times,serif\" font-size=\"14.00\">xt</text>\n",
       "</g>\n",
       "<!-- 16&#45;&gt;17 -->\n",
       "<g id=\"edge17\" class=\"edge\">\n",
       "<title>16&#45;&gt;17</title>\n",
       "<path fill=\"none\" stroke=\"black\" d=\"M327.5,-51.09C327.5,-44.75 327.5,-34.75 327.5,-26.03\"/>\n",
       "<polygon fill=\"black\" stroke=\"black\" points=\"331,-26.27 327.5,-16.27 324,-26.27 331,-26.27\"/>\n",
       "</g>\n",
       "<!-- 19 -->\n",
       "<g id=\"node20\" class=\"node\">\n",
       "<title>19</title>\n",
       "<text text-anchor=\"middle\" x=\"342.5\" y=\"-156.8\" font-family=\"Times,serif\" font-size=\"14.00\">&lt;/</text>\n",
       "</g>\n",
       "<!-- 18&#45;&gt;19 -->\n",
       "<g id=\"edge19\" class=\"edge\">\n",
       "<title>18&#45;&gt;19</title>\n",
       "<path fill=\"none\" stroke=\"black\" d=\"M359.02,-204.09C356.5,-197.6 352.5,-187.28 349.06,-178.42\"/>\n",
       "<polygon fill=\"black\" stroke=\"black\" points=\"352.35,-177.22 345.47,-169.16 345.82,-179.75 352.35,-177.22\"/>\n",
       "</g>\n",
       "<!-- 20 -->\n",
       "<g id=\"node21\" class=\"node\">\n",
       "<title>20</title>\n",
       "<text text-anchor=\"middle\" x=\"381.5\" y=\"-156.8\" font-family=\"Times,serif\" font-size=\"14.00\">&lt;id&gt;</text>\n",
       "</g>\n",
       "<!-- 18&#45;&gt;20 -->\n",
       "<g id=\"edge20\" class=\"edge\">\n",
       "<title>18&#45;&gt;20</title>\n",
       "<path fill=\"none\" stroke=\"black\" d=\"M364.11,-204.09C366.79,-197.53 371.07,-187.05 374.72,-178.12\"/>\n",
       "<polygon fill=\"black\" stroke=\"black\" points=\"377.84,-179.73 378.38,-169.15 371.36,-177.09 377.84,-179.73\"/>\n",
       "</g>\n",
       "<!-- 22 -->\n",
       "<g id=\"node23\" class=\"node\">\n",
       "<title>22</title>\n",
       "<text text-anchor=\"middle\" x=\"431.5\" y=\"-156.8\" font-family=\"Times,serif\" font-size=\"14.00\">&gt; (62)</text>\n",
       "</g>\n",
       "<!-- 18&#45;&gt;22 -->\n",
       "<g id=\"edge22\" class=\"edge\">\n",
       "<title>18&#45;&gt;22</title>\n",
       "<path fill=\"none\" stroke=\"black\" d=\"M370.65,-204.09C381.4,-196.57 399.5,-183.9 413.17,-174.33\"/>\n",
       "<polygon fill=\"black\" stroke=\"black\" points=\"415.14,-177.22 421.33,-168.62 411.13,-171.49 415.14,-177.22\"/>\n",
       "</g>\n",
       "<!-- 21 -->\n",
       "<g id=\"node22\" class=\"node\">\n",
       "<title>21</title>\n",
       "<text text-anchor=\"middle\" x=\"390.5\" y=\"-105.8\" font-family=\"Times,serif\" font-size=\"14.00\">html</text>\n",
       "</g>\n",
       "<!-- 20&#45;&gt;21 -->\n",
       "<g id=\"edge21\" class=\"edge\">\n",
       "<title>20&#45;&gt;21</title>\n",
       "<path fill=\"none\" stroke=\"black\" d=\"M382.68,-153.09C383.84,-146.75 385.68,-136.75 387.28,-128.03\"/>\n",
       "<polygon fill=\"black\" stroke=\"black\" points=\"390.71,-128.71 389.08,-118.24 383.83,-127.44 390.71,-128.71\"/>\n",
       "</g>\n",
       "</g>\n",
       "</svg>\n"
      ],
      "text/plain": [
       "<graphviz.graphs.Digraph at 0x14a5c50c0>"
      ]
     },
     "metadata": {},
     "output_type": "display_data"
    },
    {
     "data": {
      "image/svg+xml": [
       "<?xml version=\"1.0\" encoding=\"UTF-8\" standalone=\"no\"?>\n",
       "<!DOCTYPE svg PUBLIC \"-//W3C//DTD SVG 1.1//EN\"\n",
       " \"http://www.w3.org/Graphics/SVG/1.1/DTD/svg11.dtd\">\n",
       "<!-- Generated by graphviz version 7.0.2 (20221119.0110)\n",
       " -->\n",
       "<!-- Pages: 1 -->\n",
       "<svg width=\"457pt\" height=\"329pt\"\n",
       " viewBox=\"0.00 0.00 457.00 329.00\" xmlns=\"http://www.w3.org/2000/svg\" xmlns:xlink=\"http://www.w3.org/1999/xlink\">\n",
       "<g id=\"graph0\" class=\"graph\" transform=\"scale(1 1) rotate(0) translate(4 325)\">\n",
       "<polygon fill=\"white\" stroke=\"none\" points=\"-4,4 -4,-325 453,-325 453,4 -4,4\"/>\n",
       "<!-- 0 -->\n",
       "<g id=\"node1\" class=\"node\">\n",
       "<title>0</title>\n",
       "<text text-anchor=\"middle\" x=\"204.5\" y=\"-309.8\" font-family=\"Times,serif\" font-size=\"14.00\">&lt;start&gt;</text>\n",
       "</g>\n",
       "<!-- 1 -->\n",
       "<g id=\"node2\" class=\"node\">\n",
       "<title>1</title>\n",
       "<text text-anchor=\"middle\" x=\"204.5\" y=\"-258.8\" font-family=\"Times,serif\" font-size=\"14.00\">&lt;xml&#45;tree&gt;</text>\n",
       "</g>\n",
       "<!-- 0&#45;&gt;1 -->\n",
       "<g id=\"edge1\" class=\"edge\">\n",
       "<title>0&#45;&gt;1</title>\n",
       "<path fill=\"none\" stroke=\"black\" d=\"M204.5,-306.09C204.5,-299.75 204.5,-289.75 204.5,-281.03\"/>\n",
       "<polygon fill=\"black\" stroke=\"black\" points=\"208,-281.27 204.5,-271.27 201,-281.27 208,-281.27\"/>\n",
       "</g>\n",
       "<!-- 2 -->\n",
       "<g id=\"node3\" class=\"node\">\n",
       "<title>2</title>\n",
       "<text text-anchor=\"middle\" x=\"97.5\" y=\"-207.8\" font-family=\"Times,serif\" font-size=\"14.00\">&lt;xml&#45;open&#45;tag&gt;</text>\n",
       "</g>\n",
       "<!-- 1&#45;&gt;2 -->\n",
       "<g id=\"edge2\" class=\"edge\">\n",
       "<title>1&#45;&gt;2</title>\n",
       "<path fill=\"none\" stroke=\"black\" d=\"M190.51,-255.09C173.13,-247.13 143.17,-233.42 121.96,-223.7\"/>\n",
       "<polygon fill=\"black\" stroke=\"black\" points=\"123.42,-220.52 112.87,-219.54 120.5,-226.88 123.42,-220.52\"/>\n",
       "</g>\n",
       "<!-- 7 -->\n",
       "<g id=\"node8\" class=\"node\">\n",
       "<title>7</title>\n",
       "<text text-anchor=\"middle\" x=\"204.5\" y=\"-207.8\" font-family=\"Times,serif\" font-size=\"14.00\">&lt;xml&#45;tree&gt;</text>\n",
       "</g>\n",
       "<!-- 1&#45;&gt;7 -->\n",
       "<g id=\"edge7\" class=\"edge\">\n",
       "<title>1&#45;&gt;7</title>\n",
       "<path fill=\"none\" stroke=\"black\" d=\"M204.5,-255.09C204.5,-248.75 204.5,-238.75 204.5,-230.03\"/>\n",
       "<polygon fill=\"black\" stroke=\"black\" points=\"208,-230.27 204.5,-220.27 201,-230.27 208,-230.27\"/>\n",
       "</g>\n",
       "<!-- 18 -->\n",
       "<g id=\"node19\" class=\"node\">\n",
       "<title>18</title>\n",
       "<text text-anchor=\"middle\" x=\"361.5\" y=\"-207.8\" font-family=\"Times,serif\" font-size=\"14.00\">&lt;xml&#45;close&#45;tag&gt;</text>\n",
       "</g>\n",
       "<!-- 1&#45;&gt;18 -->\n",
       "<g id=\"edge18\" class=\"edge\">\n",
       "<title>1&#45;&gt;18</title>\n",
       "<path fill=\"none\" stroke=\"black\" d=\"M225.03,-255.09C251.82,-246.73 298.99,-232.01 330.24,-222.26\"/>\n",
       "<polygon fill=\"black\" stroke=\"black\" points=\"331.02,-225.68 339.53,-219.36 328.94,-219 331.02,-225.68\"/>\n",
       "</g>\n",
       "<!-- 3 -->\n",
       "<g id=\"node4\" class=\"node\">\n",
       "<title>3</title>\n",
       "<text text-anchor=\"middle\" x=\"17.5\" y=\"-156.8\" font-family=\"Times,serif\" font-size=\"14.00\">&lt; (60)</text>\n",
       "</g>\n",
       "<!-- 2&#45;&gt;3 -->\n",
       "<g id=\"edge3\" class=\"edge\">\n",
       "<title>2&#45;&gt;3</title>\n",
       "<path fill=\"none\" stroke=\"black\" d=\"M87.04,-204.09C74.46,-196.39 53.08,-183.3 37.34,-173.65\"/>\n",
       "<polygon fill=\"black\" stroke=\"black\" points=\"39.61,-170.94 29.25,-168.7 35.95,-176.91 39.61,-170.94\"/>\n",
       "</g>\n",
       "<!-- 4 -->\n",
       "<g id=\"node5\" class=\"node\">\n",
       "<title>4</title>\n",
       "<text text-anchor=\"middle\" x=\"67.5\" y=\"-156.8\" font-family=\"Times,serif\" font-size=\"14.00\">&lt;id&gt;</text>\n",
       "</g>\n",
       "<!-- 2&#45;&gt;4 -->\n",
       "<g id=\"edge4\" class=\"edge\">\n",
       "<title>2&#45;&gt;4</title>\n",
       "<path fill=\"none\" stroke=\"black\" d=\"M93.58,-204.09C89.47,-197.38 82.85,-186.57 77.31,-177.52\"/>\n",
       "<polygon fill=\"black\" stroke=\"black\" points=\"80.32,-175.74 72.12,-169.04 74.35,-179.4 80.32,-175.74\"/>\n",
       "</g>\n",
       "<!-- 6 -->\n",
       "<g id=\"node7\" class=\"node\">\n",
       "<title>6</title>\n",
       "<text text-anchor=\"middle\" x=\"117.5\" y=\"-156.8\" font-family=\"Times,serif\" font-size=\"14.00\">&gt; (62)</text>\n",
       "</g>\n",
       "<!-- 2&#45;&gt;6 -->\n",
       "<g id=\"edge6\" class=\"edge\">\n",
       "<title>2&#45;&gt;6</title>\n",
       "<path fill=\"none\" stroke=\"black\" d=\"M100.11,-204.09C102.79,-197.53 107.07,-187.05 110.72,-178.12\"/>\n",
       "<polygon fill=\"black\" stroke=\"black\" points=\"113.84,-179.73 114.38,-169.15 107.36,-177.09 113.84,-179.73\"/>\n",
       "</g>\n",
       "<!-- 5 -->\n",
       "<g id=\"node6\" class=\"node\">\n",
       "<title>5</title>\n",
       "<text text-anchor=\"middle\" x=\"67.5\" y=\"-105.8\" font-family=\"Times,serif\" font-size=\"14.00\">html</text>\n",
       "</g>\n",
       "<!-- 4&#45;&gt;5 -->\n",
       "<g id=\"edge5\" class=\"edge\">\n",
       "<title>4&#45;&gt;5</title>\n",
       "<path fill=\"none\" stroke=\"black\" d=\"M67.5,-153.09C67.5,-146.75 67.5,-136.75 67.5,-128.03\"/>\n",
       "<polygon fill=\"black\" stroke=\"black\" points=\"71,-128.27 67.5,-118.27 64,-128.27 71,-128.27\"/>\n",
       "</g>\n",
       "<!-- 8 -->\n",
       "<g id=\"node9\" class=\"node\">\n",
       "<title>8</title>\n",
       "<text text-anchor=\"middle\" x=\"185.5\" y=\"-156.8\" font-family=\"Times,serif\" font-size=\"14.00\">&lt;xml&#45;tree&gt;</text>\n",
       "</g>\n",
       "<!-- 7&#45;&gt;8 -->\n",
       "<g id=\"edge8\" class=\"edge\">\n",
       "<title>7&#45;&gt;8</title>\n",
       "<path fill=\"none\" stroke=\"black\" d=\"M202.02,-204.09C199.5,-197.6 195.5,-187.28 192.06,-178.42\"/>\n",
       "<polygon fill=\"black\" stroke=\"black\" points=\"195.35,-177.22 188.47,-169.16 188.82,-179.75 195.35,-177.22\"/>\n",
       "</g>\n",
       "<!-- 11 -->\n",
       "<g id=\"node12\" class=\"node\">\n",
       "<title>11</title>\n",
       "<text text-anchor=\"middle\" x=\"267.5\" y=\"-156.8\" font-family=\"Times,serif\" font-size=\"14.00\">&lt;xml&#45;tree&gt;</text>\n",
       "</g>\n",
       "<!-- 7&#45;&gt;11 -->\n",
       "<g id=\"edge11\" class=\"edge\">\n",
       "<title>7&#45;&gt;11</title>\n",
       "<path fill=\"none\" stroke=\"black\" d=\"M212.74,-204.09C222.32,-196.64 238.38,-184.15 250.64,-174.61\"/>\n",
       "<polygon fill=\"black\" stroke=\"black\" points=\"252.52,-177.58 258.27,-168.68 248.22,-172.06 252.52,-177.58\"/>\n",
       "</g>\n",
       "<!-- 9 -->\n",
       "<g id=\"node10\" class=\"node\">\n",
       "<title>9</title>\n",
       "<text text-anchor=\"middle\" x=\"176.5\" y=\"-105.8\" font-family=\"Times,serif\" font-size=\"14.00\">&lt;text&gt;</text>\n",
       "</g>\n",
       "<!-- 8&#45;&gt;9 -->\n",
       "<g id=\"edge9\" class=\"edge\">\n",
       "<title>8&#45;&gt;9</title>\n",
       "<path fill=\"none\" stroke=\"black\" d=\"M184.32,-153.09C183.16,-146.75 181.32,-136.75 179.72,-128.03\"/>\n",
       "<polygon fill=\"black\" stroke=\"black\" points=\"183.17,-127.44 177.92,-118.24 176.29,-128.71 183.17,-127.44\"/>\n",
       "</g>\n",
       "<!-- 10 -->\n",
       "<g id=\"node11\" class=\"node\">\n",
       "<title>10</title>\n",
       "<text text-anchor=\"middle\" x=\"176.5\" y=\"-54.8\" font-family=\"Times,serif\" font-size=\"14.00\">T (84)</text>\n",
       "</g>\n",
       "<!-- 9&#45;&gt;10 -->\n",
       "<g id=\"edge10\" class=\"edge\">\n",
       "<title>9&#45;&gt;10</title>\n",
       "<path fill=\"none\" stroke=\"black\" d=\"M176.5,-102.09C176.5,-95.75 176.5,-85.75 176.5,-77.03\"/>\n",
       "<polygon fill=\"black\" stroke=\"black\" points=\"180,-77.27 176.5,-67.27 173,-77.27 180,-77.27\"/>\n",
       "</g>\n",
       "<!-- 12 -->\n",
       "<g id=\"node13\" class=\"node\">\n",
       "<title>12</title>\n",
       "<text text-anchor=\"middle\" x=\"245.5\" y=\"-105.8\" font-family=\"Times,serif\" font-size=\"14.00\">&lt;xml&#45;tree&gt;</text>\n",
       "</g>\n",
       "<!-- 11&#45;&gt;12 -->\n",
       "<g id=\"edge12\" class=\"edge\">\n",
       "<title>11&#45;&gt;12</title>\n",
       "<path fill=\"none\" stroke=\"black\" d=\"M264.62,-153.09C261.68,-146.53 256.97,-136.05 252.96,-127.12\"/>\n",
       "<polygon fill=\"black\" stroke=\"black\" points=\"256.22,-125.82 248.93,-118.13 249.83,-128.69 256.22,-125.82\"/>\n",
       "</g>\n",
       "<!-- 15 -->\n",
       "<g id=\"node16\" class=\"node\">\n",
       "<title>15</title>\n",
       "<text text-anchor=\"middle\" x=\"327.5\" y=\"-105.8\" font-family=\"Times,serif\" font-size=\"14.00\">&lt;xml&#45;tree&gt;</text>\n",
       "</g>\n",
       "<!-- 11&#45;&gt;15 -->\n",
       "<g id=\"edge15\" class=\"edge\">\n",
       "<title>11&#45;&gt;15</title>\n",
       "<path fill=\"none\" stroke=\"black\" d=\"M275.34,-153.09C284.38,-145.72 299.47,-133.39 311.1,-123.9\"/>\n",
       "<polygon fill=\"black\" stroke=\"black\" points=\"313.14,-126.75 318.67,-117.71 308.71,-121.32 313.14,-126.75\"/>\n",
       "</g>\n",
       "<!-- 13 -->\n",
       "<g id=\"node14\" class=\"node\">\n",
       "<title>13</title>\n",
       "<text text-anchor=\"middle\" x=\"245.5\" y=\"-54.8\" font-family=\"Times,serif\" font-size=\"14.00\">&lt;text&gt;</text>\n",
       "</g>\n",
       "<!-- 12&#45;&gt;13 -->\n",
       "<g id=\"edge13\" class=\"edge\">\n",
       "<title>12&#45;&gt;13</title>\n",
       "<path fill=\"none\" stroke=\"black\" d=\"M245.5,-102.09C245.5,-95.75 245.5,-85.75 245.5,-77.03\"/>\n",
       "<polygon fill=\"black\" stroke=\"black\" points=\"249,-77.27 245.5,-67.27 242,-77.27 249,-77.27\"/>\n",
       "</g>\n",
       "<!-- 14 -->\n",
       "<g id=\"node15\" class=\"node\">\n",
       "<title>14</title>\n",
       "<text text-anchor=\"middle\" x=\"245.5\" y=\"-3.8\" font-family=\"Times,serif\" font-size=\"14.00\">ex</text>\n",
       "</g>\n",
       "<!-- 13&#45;&gt;14 -->\n",
       "<g id=\"edge14\" class=\"edge\">\n",
       "<title>13&#45;&gt;14</title>\n",
       "<path fill=\"none\" stroke=\"black\" d=\"M245.5,-51.09C245.5,-44.75 245.5,-34.75 245.5,-26.03\"/>\n",
       "<polygon fill=\"black\" stroke=\"black\" points=\"249,-26.27 245.5,-16.27 242,-26.27 249,-26.27\"/>\n",
       "</g>\n",
       "<!-- 16 -->\n",
       "<g id=\"node17\" class=\"node\">\n",
       "<title>16</title>\n",
       "<text text-anchor=\"middle\" x=\"327.5\" y=\"-54.8\" font-family=\"Times,serif\" font-size=\"14.00\">&lt;text&gt;</text>\n",
       "</g>\n",
       "<!-- 15&#45;&gt;16 -->\n",
       "<g id=\"edge16\" class=\"edge\">\n",
       "<title>15&#45;&gt;16</title>\n",
       "<path fill=\"none\" stroke=\"black\" d=\"M327.5,-102.09C327.5,-95.75 327.5,-85.75 327.5,-77.03\"/>\n",
       "<polygon fill=\"black\" stroke=\"black\" points=\"331,-77.27 327.5,-67.27 324,-77.27 331,-77.27\"/>\n",
       "</g>\n",
       "<!-- 17 -->\n",
       "<g id=\"node18\" class=\"node\">\n",
       "<title>17</title>\n",
       "<text text-anchor=\"middle\" x=\"327.5\" y=\"-3.8\" font-family=\"Times,serif\" font-size=\"14.00\">t (116)</text>\n",
       "</g>\n",
       "<!-- 16&#45;&gt;17 -->\n",
       "<g id=\"edge17\" class=\"edge\">\n",
       "<title>16&#45;&gt;17</title>\n",
       "<path fill=\"none\" stroke=\"black\" d=\"M327.5,-51.09C327.5,-44.75 327.5,-34.75 327.5,-26.03\"/>\n",
       "<polygon fill=\"black\" stroke=\"black\" points=\"331,-26.27 327.5,-16.27 324,-26.27 331,-26.27\"/>\n",
       "</g>\n",
       "<!-- 19 -->\n",
       "<g id=\"node20\" class=\"node\">\n",
       "<title>19</title>\n",
       "<text text-anchor=\"middle\" x=\"342.5\" y=\"-156.8\" font-family=\"Times,serif\" font-size=\"14.00\">&lt;/</text>\n",
       "</g>\n",
       "<!-- 18&#45;&gt;19 -->\n",
       "<g id=\"edge19\" class=\"edge\">\n",
       "<title>18&#45;&gt;19</title>\n",
       "<path fill=\"none\" stroke=\"black\" d=\"M359.02,-204.09C356.5,-197.6 352.5,-187.28 349.06,-178.42\"/>\n",
       "<polygon fill=\"black\" stroke=\"black\" points=\"352.35,-177.22 345.47,-169.16 345.82,-179.75 352.35,-177.22\"/>\n",
       "</g>\n",
       "<!-- 20 -->\n",
       "<g id=\"node21\" class=\"node\">\n",
       "<title>20</title>\n",
       "<text text-anchor=\"middle\" x=\"381.5\" y=\"-156.8\" font-family=\"Times,serif\" font-size=\"14.00\">&lt;id&gt;</text>\n",
       "</g>\n",
       "<!-- 18&#45;&gt;20 -->\n",
       "<g id=\"edge20\" class=\"edge\">\n",
       "<title>18&#45;&gt;20</title>\n",
       "<path fill=\"none\" stroke=\"black\" d=\"M364.11,-204.09C366.79,-197.53 371.07,-187.05 374.72,-178.12\"/>\n",
       "<polygon fill=\"black\" stroke=\"black\" points=\"377.84,-179.73 378.38,-169.15 371.36,-177.09 377.84,-179.73\"/>\n",
       "</g>\n",
       "<!-- 22 -->\n",
       "<g id=\"node23\" class=\"node\">\n",
       "<title>22</title>\n",
       "<text text-anchor=\"middle\" x=\"431.5\" y=\"-156.8\" font-family=\"Times,serif\" font-size=\"14.00\">&gt; (62)</text>\n",
       "</g>\n",
       "<!-- 18&#45;&gt;22 -->\n",
       "<g id=\"edge22\" class=\"edge\">\n",
       "<title>18&#45;&gt;22</title>\n",
       "<path fill=\"none\" stroke=\"black\" d=\"M370.65,-204.09C381.4,-196.57 399.5,-183.9 413.17,-174.33\"/>\n",
       "<polygon fill=\"black\" stroke=\"black\" points=\"415.14,-177.22 421.33,-168.62 411.13,-171.49 415.14,-177.22\"/>\n",
       "</g>\n",
       "<!-- 21 -->\n",
       "<g id=\"node22\" class=\"node\">\n",
       "<title>21</title>\n",
       "<text text-anchor=\"middle\" x=\"390.5\" y=\"-105.8\" font-family=\"Times,serif\" font-size=\"14.00\">html</text>\n",
       "</g>\n",
       "<!-- 20&#45;&gt;21 -->\n",
       "<g id=\"edge21\" class=\"edge\">\n",
       "<title>20&#45;&gt;21</title>\n",
       "<path fill=\"none\" stroke=\"black\" d=\"M382.68,-153.09C383.84,-146.75 385.68,-136.75 387.28,-128.03\"/>\n",
       "<polygon fill=\"black\" stroke=\"black\" points=\"390.71,-128.71 389.08,-118.24 383.83,-127.44 390.71,-128.71\"/>\n",
       "</g>\n",
       "</g>\n",
       "</svg>\n"
      ],
      "text/plain": [
       "<graphviz.graphs.Digraph at 0x14a5c51b0>"
      ]
     },
     "metadata": {},
     "output_type": "display_data"
    },
    {
     "data": {
      "image/svg+xml": [
       "<?xml version=\"1.0\" encoding=\"UTF-8\" standalone=\"no\"?>\n",
       "<!DOCTYPE svg PUBLIC \"-//W3C//DTD SVG 1.1//EN\"\n",
       " \"http://www.w3.org/Graphics/SVG/1.1/DTD/svg11.dtd\">\n",
       "<!-- Generated by graphviz version 7.0.2 (20221119.0110)\n",
       " -->\n",
       "<!-- Pages: 1 -->\n",
       "<svg width=\"463pt\" height=\"380pt\"\n",
       " viewBox=\"0.00 0.00 463.00 380.00\" xmlns=\"http://www.w3.org/2000/svg\" xmlns:xlink=\"http://www.w3.org/1999/xlink\">\n",
       "<g id=\"graph0\" class=\"graph\" transform=\"scale(1 1) rotate(0) translate(4 376)\">\n",
       "<polygon fill=\"white\" stroke=\"none\" points=\"-4,4 -4,-376 459,-376 459,4 -4,4\"/>\n",
       "<!-- 0 -->\n",
       "<g id=\"node1\" class=\"node\">\n",
       "<title>0</title>\n",
       "<text text-anchor=\"middle\" x=\"204.5\" y=\"-360.8\" font-family=\"Times,serif\" font-size=\"14.00\">&lt;start&gt;</text>\n",
       "</g>\n",
       "<!-- 1 -->\n",
       "<g id=\"node2\" class=\"node\">\n",
       "<title>1</title>\n",
       "<text text-anchor=\"middle\" x=\"204.5\" y=\"-309.8\" font-family=\"Times,serif\" font-size=\"14.00\">&lt;xml&#45;tree&gt;</text>\n",
       "</g>\n",
       "<!-- 0&#45;&gt;1 -->\n",
       "<g id=\"edge1\" class=\"edge\">\n",
       "<title>0&#45;&gt;1</title>\n",
       "<path fill=\"none\" stroke=\"black\" d=\"M204.5,-357.09C204.5,-350.75 204.5,-340.75 204.5,-332.03\"/>\n",
       "<polygon fill=\"black\" stroke=\"black\" points=\"208,-332.27 204.5,-322.27 201,-332.27 208,-332.27\"/>\n",
       "</g>\n",
       "<!-- 2 -->\n",
       "<g id=\"node3\" class=\"node\">\n",
       "<title>2</title>\n",
       "<text text-anchor=\"middle\" x=\"97.5\" y=\"-258.8\" font-family=\"Times,serif\" font-size=\"14.00\">&lt;xml&#45;open&#45;tag&gt;</text>\n",
       "</g>\n",
       "<!-- 1&#45;&gt;2 -->\n",
       "<g id=\"edge2\" class=\"edge\">\n",
       "<title>1&#45;&gt;2</title>\n",
       "<path fill=\"none\" stroke=\"black\" d=\"M190.51,-306.09C173.13,-298.13 143.17,-284.42 121.96,-274.7\"/>\n",
       "<polygon fill=\"black\" stroke=\"black\" points=\"123.42,-271.52 112.87,-270.54 120.5,-277.88 123.42,-271.52\"/>\n",
       "</g>\n",
       "<!-- 7 -->\n",
       "<g id=\"node8\" class=\"node\">\n",
       "<title>7</title>\n",
       "<text text-anchor=\"middle\" x=\"204.5\" y=\"-258.8\" font-family=\"Times,serif\" font-size=\"14.00\">&lt;xml&#45;tree&gt;</text>\n",
       "</g>\n",
       "<!-- 1&#45;&gt;7 -->\n",
       "<g id=\"edge7\" class=\"edge\">\n",
       "<title>1&#45;&gt;7</title>\n",
       "<path fill=\"none\" stroke=\"black\" d=\"M204.5,-306.09C204.5,-299.75 204.5,-289.75 204.5,-281.03\"/>\n",
       "<polygon fill=\"black\" stroke=\"black\" points=\"208,-281.27 204.5,-271.27 201,-281.27 208,-281.27\"/>\n",
       "</g>\n",
       "<!-- 22 -->\n",
       "<g id=\"node23\" class=\"node\">\n",
       "<title>22</title>\n",
       "<text text-anchor=\"middle\" x=\"367.5\" y=\"-258.8\" font-family=\"Times,serif\" font-size=\"14.00\">&lt;xml&#45;close&#45;tag&gt;</text>\n",
       "</g>\n",
       "<!-- 1&#45;&gt;22 -->\n",
       "<g id=\"edge22\" class=\"edge\">\n",
       "<title>1&#45;&gt;22</title>\n",
       "<path fill=\"none\" stroke=\"black\" d=\"M225.81,-306.09C253.68,-297.72 302.76,-282.96 335.2,-273.21\"/>\n",
       "<polygon fill=\"black\" stroke=\"black\" points=\"335.91,-276.65 344.48,-270.42 333.89,-269.95 335.91,-276.65\"/>\n",
       "</g>\n",
       "<!-- 3 -->\n",
       "<g id=\"node4\" class=\"node\">\n",
       "<title>3</title>\n",
       "<text text-anchor=\"middle\" x=\"17.5\" y=\"-207.8\" font-family=\"Times,serif\" font-size=\"14.00\">&lt; (60)</text>\n",
       "</g>\n",
       "<!-- 2&#45;&gt;3 -->\n",
       "<g id=\"edge3\" class=\"edge\">\n",
       "<title>2&#45;&gt;3</title>\n",
       "<path fill=\"none\" stroke=\"black\" d=\"M87.04,-255.09C74.46,-247.39 53.08,-234.3 37.34,-224.65\"/>\n",
       "<polygon fill=\"black\" stroke=\"black\" points=\"39.61,-221.94 29.25,-219.7 35.95,-227.91 39.61,-221.94\"/>\n",
       "</g>\n",
       "<!-- 4 -->\n",
       "<g id=\"node5\" class=\"node\">\n",
       "<title>4</title>\n",
       "<text text-anchor=\"middle\" x=\"67.5\" y=\"-207.8\" font-family=\"Times,serif\" font-size=\"14.00\">&lt;id&gt;</text>\n",
       "</g>\n",
       "<!-- 2&#45;&gt;4 -->\n",
       "<g id=\"edge4\" class=\"edge\">\n",
       "<title>2&#45;&gt;4</title>\n",
       "<path fill=\"none\" stroke=\"black\" d=\"M93.58,-255.09C89.47,-248.38 82.85,-237.57 77.31,-228.52\"/>\n",
       "<polygon fill=\"black\" stroke=\"black\" points=\"80.32,-226.74 72.12,-220.04 74.35,-230.4 80.32,-226.74\"/>\n",
       "</g>\n",
       "<!-- 6 -->\n",
       "<g id=\"node7\" class=\"node\">\n",
       "<title>6</title>\n",
       "<text text-anchor=\"middle\" x=\"117.5\" y=\"-207.8\" font-family=\"Times,serif\" font-size=\"14.00\">&gt; (62)</text>\n",
       "</g>\n",
       "<!-- 2&#45;&gt;6 -->\n",
       "<g id=\"edge6\" class=\"edge\">\n",
       "<title>2&#45;&gt;6</title>\n",
       "<path fill=\"none\" stroke=\"black\" d=\"M100.11,-255.09C102.79,-248.53 107.07,-238.05 110.72,-229.12\"/>\n",
       "<polygon fill=\"black\" stroke=\"black\" points=\"113.84,-230.73 114.38,-220.15 107.36,-228.09 113.84,-230.73\"/>\n",
       "</g>\n",
       "<!-- 5 -->\n",
       "<g id=\"node6\" class=\"node\">\n",
       "<title>5</title>\n",
       "<text text-anchor=\"middle\" x=\"67.5\" y=\"-156.8\" font-family=\"Times,serif\" font-size=\"14.00\">html</text>\n",
       "</g>\n",
       "<!-- 4&#45;&gt;5 -->\n",
       "<g id=\"edge5\" class=\"edge\">\n",
       "<title>4&#45;&gt;5</title>\n",
       "<path fill=\"none\" stroke=\"black\" d=\"M67.5,-204.09C67.5,-197.75 67.5,-187.75 67.5,-179.03\"/>\n",
       "<polygon fill=\"black\" stroke=\"black\" points=\"71,-179.27 67.5,-169.27 64,-179.27 71,-179.27\"/>\n",
       "</g>\n",
       "<!-- 8 -->\n",
       "<g id=\"node9\" class=\"node\">\n",
       "<title>8</title>\n",
       "<text text-anchor=\"middle\" x=\"185.5\" y=\"-207.8\" font-family=\"Times,serif\" font-size=\"14.00\">&lt;xml&#45;tree&gt;</text>\n",
       "</g>\n",
       "<!-- 7&#45;&gt;8 -->\n",
       "<g id=\"edge8\" class=\"edge\">\n",
       "<title>7&#45;&gt;8</title>\n",
       "<path fill=\"none\" stroke=\"black\" d=\"M202.02,-255.09C199.5,-248.6 195.5,-238.28 192.06,-229.42\"/>\n",
       "<polygon fill=\"black\" stroke=\"black\" points=\"195.35,-228.22 188.47,-220.16 188.82,-230.75 195.35,-228.22\"/>\n",
       "</g>\n",
       "<!-- 11 -->\n",
       "<g id=\"node12\" class=\"node\">\n",
       "<title>11</title>\n",
       "<text text-anchor=\"middle\" x=\"267.5\" y=\"-207.8\" font-family=\"Times,serif\" font-size=\"14.00\">&lt;xml&#45;tree&gt;</text>\n",
       "</g>\n",
       "<!-- 7&#45;&gt;11 -->\n",
       "<g id=\"edge11\" class=\"edge\">\n",
       "<title>7&#45;&gt;11</title>\n",
       "<path fill=\"none\" stroke=\"black\" d=\"M212.74,-255.09C222.32,-247.64 238.38,-235.15 250.64,-225.61\"/>\n",
       "<polygon fill=\"black\" stroke=\"black\" points=\"252.52,-228.58 258.27,-219.68 248.22,-223.06 252.52,-228.58\"/>\n",
       "</g>\n",
       "<!-- 9 -->\n",
       "<g id=\"node10\" class=\"node\">\n",
       "<title>9</title>\n",
       "<text text-anchor=\"middle\" x=\"169.5\" y=\"-156.8\" font-family=\"Times,serif\" font-size=\"14.00\">&lt;text&gt;</text>\n",
       "</g>\n",
       "<!-- 8&#45;&gt;9 -->\n",
       "<g id=\"edge9\" class=\"edge\">\n",
       "<title>8&#45;&gt;9</title>\n",
       "<path fill=\"none\" stroke=\"black\" d=\"M183.41,-204.09C181.29,-197.6 177.92,-187.28 175.03,-178.42\"/>\n",
       "<polygon fill=\"black\" stroke=\"black\" points=\"178.44,-177.61 172.01,-169.19 171.79,-179.78 178.44,-177.61\"/>\n",
       "</g>\n",
       "<!-- 10 -->\n",
       "<g id=\"node11\" class=\"node\">\n",
       "<title>10</title>\n",
       "<text text-anchor=\"middle\" x=\"143.5\" y=\"-105.8\" font-family=\"Times,serif\" font-size=\"14.00\">T (84)</text>\n",
       "</g>\n",
       "<!-- 9&#45;&gt;10 -->\n",
       "<g id=\"edge10\" class=\"edge\">\n",
       "<title>9&#45;&gt;10</title>\n",
       "<path fill=\"none\" stroke=\"black\" d=\"M166.1,-153.09C162.58,-146.45 156.93,-135.81 152.16,-126.82\"/>\n",
       "<polygon fill=\"black\" stroke=\"black\" points=\"155.31,-125.28 147.53,-118.09 149.12,-128.56 155.31,-125.28\"/>\n",
       "</g>\n",
       "<!-- 12 -->\n",
       "<g id=\"node13\" class=\"node\">\n",
       "<title>12</title>\n",
       "<text text-anchor=\"middle\" x=\"254.5\" y=\"-156.8\" font-family=\"Times,serif\" font-size=\"14.00\">&lt;xml&#45;tree&gt;</text>\n",
       "</g>\n",
       "<!-- 11&#45;&gt;12 -->\n",
       "<g id=\"edge12\" class=\"edge\">\n",
       "<title>11&#45;&gt;12</title>\n",
       "<path fill=\"none\" stroke=\"black\" d=\"M265.8,-204.09C264.1,-197.68 261.4,-187.51 259.07,-178.73\"/>\n",
       "<polygon fill=\"black\" stroke=\"black\" points=\"262.49,-177.98 256.55,-169.22 255.73,-179.78 262.49,-177.98\"/>\n",
       "</g>\n",
       "<!-- 19 -->\n",
       "<g id=\"node20\" class=\"node\">\n",
       "<title>19</title>\n",
       "<text text-anchor=\"middle\" x=\"336.5\" y=\"-156.8\" font-family=\"Times,serif\" font-size=\"14.00\">&lt;xml&#45;tree&gt;</text>\n",
       "</g>\n",
       "<!-- 11&#45;&gt;19 -->\n",
       "<g id=\"edge19\" class=\"edge\">\n",
       "<title>11&#45;&gt;19</title>\n",
       "<path fill=\"none\" stroke=\"black\" d=\"M276.52,-204.09C287.12,-196.57 304.96,-183.9 318.43,-174.33\"/>\n",
       "<polygon fill=\"black\" stroke=\"black\" points=\"320.33,-177.27 326.46,-168.63 316.28,-171.57 320.33,-177.27\"/>\n",
       "</g>\n",
       "<!-- 13 -->\n",
       "<g id=\"node14\" class=\"node\">\n",
       "<title>13</title>\n",
       "<text text-anchor=\"middle\" x=\"211.5\" y=\"-105.8\" font-family=\"Times,serif\" font-size=\"14.00\">&lt;xml&#45;tree&gt;</text>\n",
       "</g>\n",
       "<!-- 12&#45;&gt;13 -->\n",
       "<g id=\"edge13\" class=\"edge\">\n",
       "<title>12&#45;&gt;13</title>\n",
       "<path fill=\"none\" stroke=\"black\" d=\"M248.88,-153.09C242.73,-146.09 232.66,-134.61 224.52,-125.34\"/>\n",
       "<polygon fill=\"black\" stroke=\"black\" points=\"227.21,-123.1 217.99,-117.89 221.95,-127.72 227.21,-123.1\"/>\n",
       "</g>\n",
       "<!-- 16 -->\n",
       "<g id=\"node17\" class=\"node\">\n",
       "<title>16</title>\n",
       "<text text-anchor=\"middle\" x=\"293.5\" y=\"-105.8\" font-family=\"Times,serif\" font-size=\"14.00\">&lt;xml&#45;tree&gt;</text>\n",
       "</g>\n",
       "<!-- 12&#45;&gt;16 -->\n",
       "<g id=\"edge16\" class=\"edge\">\n",
       "<title>12&#45;&gt;16</title>\n",
       "<path fill=\"none\" stroke=\"black\" d=\"M259.6,-153.09C265.12,-146.16 274.11,-134.86 281.45,-125.63\"/>\n",
       "<polygon fill=\"black\" stroke=\"black\" points=\"284.09,-127.94 287.58,-117.94 278.61,-123.58 284.09,-127.94\"/>\n",
       "</g>\n",
       "<!-- 14 -->\n",
       "<g id=\"node15\" class=\"node\">\n",
       "<title>14</title>\n",
       "<text text-anchor=\"middle\" x=\"211.5\" y=\"-54.8\" font-family=\"Times,serif\" font-size=\"14.00\">&lt;text&gt;</text>\n",
       "</g>\n",
       "<!-- 13&#45;&gt;14 -->\n",
       "<g id=\"edge14\" class=\"edge\">\n",
       "<title>13&#45;&gt;14</title>\n",
       "<path fill=\"none\" stroke=\"black\" d=\"M211.5,-102.09C211.5,-95.75 211.5,-85.75 211.5,-77.03\"/>\n",
       "<polygon fill=\"black\" stroke=\"black\" points=\"215,-77.27 211.5,-67.27 208,-77.27 215,-77.27\"/>\n",
       "</g>\n",
       "<!-- 15 -->\n",
       "<g id=\"node16\" class=\"node\">\n",
       "<title>15</title>\n",
       "<text text-anchor=\"middle\" x=\"211.5\" y=\"-3.8\" font-family=\"Times,serif\" font-size=\"14.00\">e (101)</text>\n",
       "</g>\n",
       "<!-- 14&#45;&gt;15 -->\n",
       "<g id=\"edge15\" class=\"edge\">\n",
       "<title>14&#45;&gt;15</title>\n",
       "<path fill=\"none\" stroke=\"black\" d=\"M211.5,-51.09C211.5,-44.75 211.5,-34.75 211.5,-26.03\"/>\n",
       "<polygon fill=\"black\" stroke=\"black\" points=\"215,-26.27 211.5,-16.27 208,-26.27 215,-26.27\"/>\n",
       "</g>\n",
       "<!-- 17 -->\n",
       "<g id=\"node18\" class=\"node\">\n",
       "<title>17</title>\n",
       "<text text-anchor=\"middle\" x=\"293.5\" y=\"-54.8\" font-family=\"Times,serif\" font-size=\"14.00\">&lt;text&gt;</text>\n",
       "</g>\n",
       "<!-- 16&#45;&gt;17 -->\n",
       "<g id=\"edge17\" class=\"edge\">\n",
       "<title>16&#45;&gt;17</title>\n",
       "<path fill=\"none\" stroke=\"black\" d=\"M293.5,-102.09C293.5,-95.75 293.5,-85.75 293.5,-77.03\"/>\n",
       "<polygon fill=\"black\" stroke=\"black\" points=\"297,-77.27 293.5,-67.27 290,-77.27 297,-77.27\"/>\n",
       "</g>\n",
       "<!-- 18 -->\n",
       "<g id=\"node19\" class=\"node\">\n",
       "<title>18</title>\n",
       "<text text-anchor=\"middle\" x=\"293.5\" y=\"-3.8\" font-family=\"Times,serif\" font-size=\"14.00\">x (120)</text>\n",
       "</g>\n",
       "<!-- 17&#45;&gt;18 -->\n",
       "<g id=\"edge18\" class=\"edge\">\n",
       "<title>17&#45;&gt;18</title>\n",
       "<path fill=\"none\" stroke=\"black\" d=\"M293.5,-51.09C293.5,-44.75 293.5,-34.75 293.5,-26.03\"/>\n",
       "<polygon fill=\"black\" stroke=\"black\" points=\"297,-26.27 293.5,-16.27 290,-26.27 297,-26.27\"/>\n",
       "</g>\n",
       "<!-- 20 -->\n",
       "<g id=\"node21\" class=\"node\">\n",
       "<title>20</title>\n",
       "<text text-anchor=\"middle\" x=\"362.5\" y=\"-105.8\" font-family=\"Times,serif\" font-size=\"14.00\">&lt;text&gt;</text>\n",
       "</g>\n",
       "<!-- 19&#45;&gt;20 -->\n",
       "<g id=\"edge20\" class=\"edge\">\n",
       "<title>19&#45;&gt;20</title>\n",
       "<path fill=\"none\" stroke=\"black\" d=\"M339.9,-153.09C343.42,-146.45 349.07,-135.81 353.84,-126.82\"/>\n",
       "<polygon fill=\"black\" stroke=\"black\" points=\"356.88,-128.56 358.47,-118.09 350.69,-125.28 356.88,-128.56\"/>\n",
       "</g>\n",
       "<!-- 21 -->\n",
       "<g id=\"node22\" class=\"node\">\n",
       "<title>21</title>\n",
       "<text text-anchor=\"middle\" x=\"362.5\" y=\"-54.8\" font-family=\"Times,serif\" font-size=\"14.00\">t (116)</text>\n",
       "</g>\n",
       "<!-- 20&#45;&gt;21 -->\n",
       "<g id=\"edge21\" class=\"edge\">\n",
       "<title>20&#45;&gt;21</title>\n",
       "<path fill=\"none\" stroke=\"black\" d=\"M362.5,-102.09C362.5,-95.75 362.5,-85.75 362.5,-77.03\"/>\n",
       "<polygon fill=\"black\" stroke=\"black\" points=\"366,-77.27 362.5,-67.27 359,-77.27 366,-77.27\"/>\n",
       "</g>\n",
       "<!-- 23 -->\n",
       "<g id=\"node24\" class=\"node\">\n",
       "<title>23</title>\n",
       "<text text-anchor=\"middle\" x=\"348.5\" y=\"-207.8\" font-family=\"Times,serif\" font-size=\"14.00\">&lt;/</text>\n",
       "</g>\n",
       "<!-- 22&#45;&gt;23 -->\n",
       "<g id=\"edge23\" class=\"edge\">\n",
       "<title>22&#45;&gt;23</title>\n",
       "<path fill=\"none\" stroke=\"black\" d=\"M365.02,-255.09C362.5,-248.6 358.5,-238.28 355.06,-229.42\"/>\n",
       "<polygon fill=\"black\" stroke=\"black\" points=\"358.35,-228.22 351.47,-220.16 351.82,-230.75 358.35,-228.22\"/>\n",
       "</g>\n",
       "<!-- 24 -->\n",
       "<g id=\"node25\" class=\"node\">\n",
       "<title>24</title>\n",
       "<text text-anchor=\"middle\" x=\"387.5\" y=\"-207.8\" font-family=\"Times,serif\" font-size=\"14.00\">&lt;id&gt;</text>\n",
       "</g>\n",
       "<!-- 22&#45;&gt;24 -->\n",
       "<g id=\"edge24\" class=\"edge\">\n",
       "<title>22&#45;&gt;24</title>\n",
       "<path fill=\"none\" stroke=\"black\" d=\"M370.11,-255.09C372.79,-248.53 377.07,-238.05 380.72,-229.12\"/>\n",
       "<polygon fill=\"black\" stroke=\"black\" points=\"383.84,-230.73 384.38,-220.15 377.36,-228.09 383.84,-230.73\"/>\n",
       "</g>\n",
       "<!-- 26 -->\n",
       "<g id=\"node27\" class=\"node\">\n",
       "<title>26</title>\n",
       "<text text-anchor=\"middle\" x=\"437.5\" y=\"-207.8\" font-family=\"Times,serif\" font-size=\"14.00\">&gt; (62)</text>\n",
       "</g>\n",
       "<!-- 22&#45;&gt;26 -->\n",
       "<g id=\"edge26\" class=\"edge\">\n",
       "<title>22&#45;&gt;26</title>\n",
       "<path fill=\"none\" stroke=\"black\" d=\"M376.65,-255.09C387.4,-247.57 405.5,-234.9 419.17,-225.33\"/>\n",
       "<polygon fill=\"black\" stroke=\"black\" points=\"421.14,-228.22 427.33,-219.62 417.13,-222.49 421.14,-228.22\"/>\n",
       "</g>\n",
       "<!-- 25 -->\n",
       "<g id=\"node26\" class=\"node\">\n",
       "<title>25</title>\n",
       "<text text-anchor=\"middle\" x=\"399.5\" y=\"-156.8\" font-family=\"Times,serif\" font-size=\"14.00\">html</text>\n",
       "</g>\n",
       "<!-- 24&#45;&gt;25 -->\n",
       "<g id=\"edge25\" class=\"edge\">\n",
       "<title>24&#45;&gt;25</title>\n",
       "<path fill=\"none\" stroke=\"black\" d=\"M389.07,-204.09C390.64,-197.68 393.13,-187.51 395.28,-178.73\"/>\n",
       "<polygon fill=\"black\" stroke=\"black\" points=\"398.63,-179.77 397.61,-169.22 391.83,-178.1 398.63,-179.77\"/>\n",
       "</g>\n",
       "</g>\n",
       "</svg>\n"
      ],
      "text/plain": [
       "<graphviz.graphs.Digraph at 0x14a5c51e0>"
      ]
     },
     "metadata": {},
     "output_type": "display_data"
    },
    {
     "data": {
      "image/svg+xml": [
       "<?xml version=\"1.0\" encoding=\"UTF-8\" standalone=\"no\"?>\n",
       "<!DOCTYPE svg PUBLIC \"-//W3C//DTD SVG 1.1//EN\"\n",
       " \"http://www.w3.org/Graphics/SVG/1.1/DTD/svg11.dtd\">\n",
       "<!-- Generated by graphviz version 7.0.2 (20221119.0110)\n",
       " -->\n",
       "<!-- Pages: 1 -->\n",
       "<svg width=\"457pt\" height=\"380pt\"\n",
       " viewBox=\"0.00 0.00 457.00 380.00\" xmlns=\"http://www.w3.org/2000/svg\" xmlns:xlink=\"http://www.w3.org/1999/xlink\">\n",
       "<g id=\"graph0\" class=\"graph\" transform=\"scale(1 1) rotate(0) translate(4 376)\">\n",
       "<polygon fill=\"white\" stroke=\"none\" points=\"-4,4 -4,-376 453,-376 453,4 -4,4\"/>\n",
       "<!-- 0 -->\n",
       "<g id=\"node1\" class=\"node\">\n",
       "<title>0</title>\n",
       "<text text-anchor=\"middle\" x=\"204.5\" y=\"-360.8\" font-family=\"Times,serif\" font-size=\"14.00\">&lt;start&gt;</text>\n",
       "</g>\n",
       "<!-- 1 -->\n",
       "<g id=\"node2\" class=\"node\">\n",
       "<title>1</title>\n",
       "<text text-anchor=\"middle\" x=\"204.5\" y=\"-309.8\" font-family=\"Times,serif\" font-size=\"14.00\">&lt;xml&#45;tree&gt;</text>\n",
       "</g>\n",
       "<!-- 0&#45;&gt;1 -->\n",
       "<g id=\"edge1\" class=\"edge\">\n",
       "<title>0&#45;&gt;1</title>\n",
       "<path fill=\"none\" stroke=\"black\" d=\"M204.5,-357.09C204.5,-350.75 204.5,-340.75 204.5,-332.03\"/>\n",
       "<polygon fill=\"black\" stroke=\"black\" points=\"208,-332.27 204.5,-322.27 201,-332.27 208,-332.27\"/>\n",
       "</g>\n",
       "<!-- 2 -->\n",
       "<g id=\"node3\" class=\"node\">\n",
       "<title>2</title>\n",
       "<text text-anchor=\"middle\" x=\"97.5\" y=\"-258.8\" font-family=\"Times,serif\" font-size=\"14.00\">&lt;xml&#45;open&#45;tag&gt;</text>\n",
       "</g>\n",
       "<!-- 1&#45;&gt;2 -->\n",
       "<g id=\"edge2\" class=\"edge\">\n",
       "<title>1&#45;&gt;2</title>\n",
       "<path fill=\"none\" stroke=\"black\" d=\"M190.51,-306.09C173.13,-298.13 143.17,-284.42 121.96,-274.7\"/>\n",
       "<polygon fill=\"black\" stroke=\"black\" points=\"123.42,-271.52 112.87,-270.54 120.5,-277.88 123.42,-271.52\"/>\n",
       "</g>\n",
       "<!-- 7 -->\n",
       "<g id=\"node8\" class=\"node\">\n",
       "<title>7</title>\n",
       "<text text-anchor=\"middle\" x=\"204.5\" y=\"-258.8\" font-family=\"Times,serif\" font-size=\"14.00\">&lt;xml&#45;tree&gt;</text>\n",
       "</g>\n",
       "<!-- 1&#45;&gt;7 -->\n",
       "<g id=\"edge7\" class=\"edge\">\n",
       "<title>1&#45;&gt;7</title>\n",
       "<path fill=\"none\" stroke=\"black\" d=\"M204.5,-306.09C204.5,-299.75 204.5,-289.75 204.5,-281.03\"/>\n",
       "<polygon fill=\"black\" stroke=\"black\" points=\"208,-281.27 204.5,-271.27 201,-281.27 208,-281.27\"/>\n",
       "</g>\n",
       "<!-- 22 -->\n",
       "<g id=\"node23\" class=\"node\">\n",
       "<title>22</title>\n",
       "<text text-anchor=\"middle\" x=\"361.5\" y=\"-258.8\" font-family=\"Times,serif\" font-size=\"14.00\">&lt;xml&#45;close&#45;tag&gt;</text>\n",
       "</g>\n",
       "<!-- 1&#45;&gt;22 -->\n",
       "<g id=\"edge22\" class=\"edge\">\n",
       "<title>1&#45;&gt;22</title>\n",
       "<path fill=\"none\" stroke=\"black\" d=\"M225.03,-306.09C251.82,-297.73 298.99,-283.01 330.24,-273.26\"/>\n",
       "<polygon fill=\"black\" stroke=\"black\" points=\"331.02,-276.68 339.53,-270.36 328.94,-270 331.02,-276.68\"/>\n",
       "</g>\n",
       "<!-- 3 -->\n",
       "<g id=\"node4\" class=\"node\">\n",
       "<title>3</title>\n",
       "<text text-anchor=\"middle\" x=\"17.5\" y=\"-207.8\" font-family=\"Times,serif\" font-size=\"14.00\">&lt; (60)</text>\n",
       "</g>\n",
       "<!-- 2&#45;&gt;3 -->\n",
       "<g id=\"edge3\" class=\"edge\">\n",
       "<title>2&#45;&gt;3</title>\n",
       "<path fill=\"none\" stroke=\"black\" d=\"M87.04,-255.09C74.46,-247.39 53.08,-234.3 37.34,-224.65\"/>\n",
       "<polygon fill=\"black\" stroke=\"black\" points=\"39.61,-221.94 29.25,-219.7 35.95,-227.91 39.61,-221.94\"/>\n",
       "</g>\n",
       "<!-- 4 -->\n",
       "<g id=\"node5\" class=\"node\">\n",
       "<title>4</title>\n",
       "<text text-anchor=\"middle\" x=\"67.5\" y=\"-207.8\" font-family=\"Times,serif\" font-size=\"14.00\">&lt;id&gt;</text>\n",
       "</g>\n",
       "<!-- 2&#45;&gt;4 -->\n",
       "<g id=\"edge4\" class=\"edge\">\n",
       "<title>2&#45;&gt;4</title>\n",
       "<path fill=\"none\" stroke=\"black\" d=\"M93.58,-255.09C89.47,-248.38 82.85,-237.57 77.31,-228.52\"/>\n",
       "<polygon fill=\"black\" stroke=\"black\" points=\"80.32,-226.74 72.12,-220.04 74.35,-230.4 80.32,-226.74\"/>\n",
       "</g>\n",
       "<!-- 6 -->\n",
       "<g id=\"node7\" class=\"node\">\n",
       "<title>6</title>\n",
       "<text text-anchor=\"middle\" x=\"117.5\" y=\"-207.8\" font-family=\"Times,serif\" font-size=\"14.00\">&gt; (62)</text>\n",
       "</g>\n",
       "<!-- 2&#45;&gt;6 -->\n",
       "<g id=\"edge6\" class=\"edge\">\n",
       "<title>2&#45;&gt;6</title>\n",
       "<path fill=\"none\" stroke=\"black\" d=\"M100.11,-255.09C102.79,-248.53 107.07,-238.05 110.72,-229.12\"/>\n",
       "<polygon fill=\"black\" stroke=\"black\" points=\"113.84,-230.73 114.38,-220.15 107.36,-228.09 113.84,-230.73\"/>\n",
       "</g>\n",
       "<!-- 5 -->\n",
       "<g id=\"node6\" class=\"node\">\n",
       "<title>5</title>\n",
       "<text text-anchor=\"middle\" x=\"67.5\" y=\"-156.8\" font-family=\"Times,serif\" font-size=\"14.00\">html</text>\n",
       "</g>\n",
       "<!-- 4&#45;&gt;5 -->\n",
       "<g id=\"edge5\" class=\"edge\">\n",
       "<title>4&#45;&gt;5</title>\n",
       "<path fill=\"none\" stroke=\"black\" d=\"M67.5,-204.09C67.5,-197.75 67.5,-187.75 67.5,-179.03\"/>\n",
       "<polygon fill=\"black\" stroke=\"black\" points=\"71,-179.27 67.5,-169.27 64,-179.27 71,-179.27\"/>\n",
       "</g>\n",
       "<!-- 8 -->\n",
       "<g id=\"node9\" class=\"node\">\n",
       "<title>8</title>\n",
       "<text text-anchor=\"middle\" x=\"185.5\" y=\"-207.8\" font-family=\"Times,serif\" font-size=\"14.00\">&lt;xml&#45;tree&gt;</text>\n",
       "</g>\n",
       "<!-- 7&#45;&gt;8 -->\n",
       "<g id=\"edge8\" class=\"edge\">\n",
       "<title>7&#45;&gt;8</title>\n",
       "<path fill=\"none\" stroke=\"black\" d=\"M202.02,-255.09C199.5,-248.6 195.5,-238.28 192.06,-229.42\"/>\n",
       "<polygon fill=\"black\" stroke=\"black\" points=\"195.35,-228.22 188.47,-220.16 188.82,-230.75 195.35,-228.22\"/>\n",
       "</g>\n",
       "<!-- 11 -->\n",
       "<g id=\"node12\" class=\"node\">\n",
       "<title>11</title>\n",
       "<text text-anchor=\"middle\" x=\"267.5\" y=\"-207.8\" font-family=\"Times,serif\" font-size=\"14.00\">&lt;xml&#45;tree&gt;</text>\n",
       "</g>\n",
       "<!-- 7&#45;&gt;11 -->\n",
       "<g id=\"edge11\" class=\"edge\">\n",
       "<title>7&#45;&gt;11</title>\n",
       "<path fill=\"none\" stroke=\"black\" d=\"M212.74,-255.09C222.32,-247.64 238.38,-235.15 250.64,-225.61\"/>\n",
       "<polygon fill=\"black\" stroke=\"black\" points=\"252.52,-228.58 258.27,-219.68 248.22,-223.06 252.52,-228.58\"/>\n",
       "</g>\n",
       "<!-- 9 -->\n",
       "<g id=\"node10\" class=\"node\">\n",
       "<title>9</title>\n",
       "<text text-anchor=\"middle\" x=\"176.5\" y=\"-156.8\" font-family=\"Times,serif\" font-size=\"14.00\">&lt;text&gt;</text>\n",
       "</g>\n",
       "<!-- 8&#45;&gt;9 -->\n",
       "<g id=\"edge9\" class=\"edge\">\n",
       "<title>8&#45;&gt;9</title>\n",
       "<path fill=\"none\" stroke=\"black\" d=\"M184.32,-204.09C183.16,-197.75 181.32,-187.75 179.72,-179.03\"/>\n",
       "<polygon fill=\"black\" stroke=\"black\" points=\"183.17,-178.44 177.92,-169.24 176.29,-179.71 183.17,-178.44\"/>\n",
       "</g>\n",
       "<!-- 10 -->\n",
       "<g id=\"node11\" class=\"node\">\n",
       "<title>10</title>\n",
       "<text text-anchor=\"middle\" x=\"176.5\" y=\"-105.8\" font-family=\"Times,serif\" font-size=\"14.00\">T (84)</text>\n",
       "</g>\n",
       "<!-- 9&#45;&gt;10 -->\n",
       "<g id=\"edge10\" class=\"edge\">\n",
       "<title>9&#45;&gt;10</title>\n",
       "<path fill=\"none\" stroke=\"black\" d=\"M176.5,-153.09C176.5,-146.75 176.5,-136.75 176.5,-128.03\"/>\n",
       "<polygon fill=\"black\" stroke=\"black\" points=\"180,-128.27 176.5,-118.27 173,-128.27 180,-128.27\"/>\n",
       "</g>\n",
       "<!-- 12 -->\n",
       "<g id=\"node13\" class=\"node\">\n",
       "<title>12</title>\n",
       "<text text-anchor=\"middle\" x=\"245.5\" y=\"-156.8\" font-family=\"Times,serif\" font-size=\"14.00\">&lt;xml&#45;tree&gt;</text>\n",
       "</g>\n",
       "<!-- 11&#45;&gt;12 -->\n",
       "<g id=\"edge12\" class=\"edge\">\n",
       "<title>11&#45;&gt;12</title>\n",
       "<path fill=\"none\" stroke=\"black\" d=\"M264.62,-204.09C261.68,-197.53 256.97,-187.05 252.96,-178.12\"/>\n",
       "<polygon fill=\"black\" stroke=\"black\" points=\"256.22,-176.82 248.93,-169.13 249.83,-179.69 256.22,-176.82\"/>\n",
       "</g>\n",
       "<!-- 15 -->\n",
       "<g id=\"node16\" class=\"node\">\n",
       "<title>15</title>\n",
       "<text text-anchor=\"middle\" x=\"327.5\" y=\"-156.8\" font-family=\"Times,serif\" font-size=\"14.00\">&lt;xml&#45;tree&gt;</text>\n",
       "</g>\n",
       "<!-- 11&#45;&gt;15 -->\n",
       "<g id=\"edge15\" class=\"edge\">\n",
       "<title>11&#45;&gt;15</title>\n",
       "<path fill=\"none\" stroke=\"black\" d=\"M275.34,-204.09C284.38,-196.72 299.47,-184.39 311.1,-174.9\"/>\n",
       "<polygon fill=\"black\" stroke=\"black\" points=\"313.14,-177.75 318.67,-168.71 308.71,-172.32 313.14,-177.75\"/>\n",
       "</g>\n",
       "<!-- 13 -->\n",
       "<g id=\"node14\" class=\"node\">\n",
       "<title>13</title>\n",
       "<text text-anchor=\"middle\" x=\"245.5\" y=\"-105.8\" font-family=\"Times,serif\" font-size=\"14.00\">&lt;text&gt;</text>\n",
       "</g>\n",
       "<!-- 12&#45;&gt;13 -->\n",
       "<g id=\"edge13\" class=\"edge\">\n",
       "<title>12&#45;&gt;13</title>\n",
       "<path fill=\"none\" stroke=\"black\" d=\"M245.5,-153.09C245.5,-146.75 245.5,-136.75 245.5,-128.03\"/>\n",
       "<polygon fill=\"black\" stroke=\"black\" points=\"249,-128.27 245.5,-118.27 242,-128.27 249,-128.27\"/>\n",
       "</g>\n",
       "<!-- 14 -->\n",
       "<g id=\"node15\" class=\"node\">\n",
       "<title>14</title>\n",
       "<text text-anchor=\"middle\" x=\"245.5\" y=\"-54.8\" font-family=\"Times,serif\" font-size=\"14.00\">e (101)</text>\n",
       "</g>\n",
       "<!-- 13&#45;&gt;14 -->\n",
       "<g id=\"edge14\" class=\"edge\">\n",
       "<title>13&#45;&gt;14</title>\n",
       "<path fill=\"none\" stroke=\"black\" d=\"M245.5,-102.09C245.5,-95.75 245.5,-85.75 245.5,-77.03\"/>\n",
       "<polygon fill=\"black\" stroke=\"black\" points=\"249,-77.27 245.5,-67.27 242,-77.27 249,-77.27\"/>\n",
       "</g>\n",
       "<!-- 16 -->\n",
       "<g id=\"node17\" class=\"node\">\n",
       "<title>16</title>\n",
       "<text text-anchor=\"middle\" x=\"320.5\" y=\"-105.8\" font-family=\"Times,serif\" font-size=\"14.00\">&lt;xml&#45;tree&gt;</text>\n",
       "</g>\n",
       "<!-- 15&#45;&gt;16 -->\n",
       "<g id=\"edge16\" class=\"edge\">\n",
       "<title>15&#45;&gt;16</title>\n",
       "<path fill=\"none\" stroke=\"black\" d=\"M326.58,-153.09C325.68,-146.75 324.25,-136.75 323,-128.03\"/>\n",
       "<polygon fill=\"black\" stroke=\"black\" points=\"326.49,-127.66 321.61,-118.25 319.56,-128.65 326.49,-127.66\"/>\n",
       "</g>\n",
       "<!-- 19 -->\n",
       "<g id=\"node20\" class=\"node\">\n",
       "<title>19</title>\n",
       "<text text-anchor=\"middle\" x=\"402.5\" y=\"-105.8\" font-family=\"Times,serif\" font-size=\"14.00\">&lt;xml&#45;tree&gt;</text>\n",
       "</g>\n",
       "<!-- 15&#45;&gt;19 -->\n",
       "<g id=\"edge19\" class=\"edge\">\n",
       "<title>15&#45;&gt;19</title>\n",
       "<path fill=\"none\" stroke=\"black\" d=\"M337.3,-153.09C348.94,-145.5 368.6,-132.65 383.29,-123.05\"/>\n",
       "<polygon fill=\"black\" stroke=\"black\" points=\"385.21,-125.98 391.66,-117.58 381.38,-120.12 385.21,-125.98\"/>\n",
       "</g>\n",
       "<!-- 17 -->\n",
       "<g id=\"node18\" class=\"node\">\n",
       "<title>17</title>\n",
       "<text text-anchor=\"middle\" x=\"320.5\" y=\"-54.8\" font-family=\"Times,serif\" font-size=\"14.00\">&lt;text&gt;</text>\n",
       "</g>\n",
       "<!-- 16&#45;&gt;17 -->\n",
       "<g id=\"edge17\" class=\"edge\">\n",
       "<title>16&#45;&gt;17</title>\n",
       "<path fill=\"none\" stroke=\"black\" d=\"M320.5,-102.09C320.5,-95.75 320.5,-85.75 320.5,-77.03\"/>\n",
       "<polygon fill=\"black\" stroke=\"black\" points=\"324,-77.27 320.5,-67.27 317,-77.27 324,-77.27\"/>\n",
       "</g>\n",
       "<!-- 18 -->\n",
       "<g id=\"node19\" class=\"node\">\n",
       "<title>18</title>\n",
       "<text text-anchor=\"middle\" x=\"320.5\" y=\"-3.8\" font-family=\"Times,serif\" font-size=\"14.00\">x (120)</text>\n",
       "</g>\n",
       "<!-- 17&#45;&gt;18 -->\n",
       "<g id=\"edge18\" class=\"edge\">\n",
       "<title>17&#45;&gt;18</title>\n",
       "<path fill=\"none\" stroke=\"black\" d=\"M320.5,-51.09C320.5,-44.75 320.5,-34.75 320.5,-26.03\"/>\n",
       "<polygon fill=\"black\" stroke=\"black\" points=\"324,-26.27 320.5,-16.27 317,-26.27 324,-26.27\"/>\n",
       "</g>\n",
       "<!-- 20 -->\n",
       "<g id=\"node21\" class=\"node\">\n",
       "<title>20</title>\n",
       "<text text-anchor=\"middle\" x=\"402.5\" y=\"-54.8\" font-family=\"Times,serif\" font-size=\"14.00\">&lt;text&gt;</text>\n",
       "</g>\n",
       "<!-- 19&#45;&gt;20 -->\n",
       "<g id=\"edge20\" class=\"edge\">\n",
       "<title>19&#45;&gt;20</title>\n",
       "<path fill=\"none\" stroke=\"black\" d=\"M402.5,-102.09C402.5,-95.75 402.5,-85.75 402.5,-77.03\"/>\n",
       "<polygon fill=\"black\" stroke=\"black\" points=\"406,-77.27 402.5,-67.27 399,-77.27 406,-77.27\"/>\n",
       "</g>\n",
       "<!-- 21 -->\n",
       "<g id=\"node22\" class=\"node\">\n",
       "<title>21</title>\n",
       "<text text-anchor=\"middle\" x=\"402.5\" y=\"-3.8\" font-family=\"Times,serif\" font-size=\"14.00\">t (116)</text>\n",
       "</g>\n",
       "<!-- 20&#45;&gt;21 -->\n",
       "<g id=\"edge21\" class=\"edge\">\n",
       "<title>20&#45;&gt;21</title>\n",
       "<path fill=\"none\" stroke=\"black\" d=\"M402.5,-51.09C402.5,-44.75 402.5,-34.75 402.5,-26.03\"/>\n",
       "<polygon fill=\"black\" stroke=\"black\" points=\"406,-26.27 402.5,-16.27 399,-26.27 406,-26.27\"/>\n",
       "</g>\n",
       "<!-- 23 -->\n",
       "<g id=\"node24\" class=\"node\">\n",
       "<title>23</title>\n",
       "<text text-anchor=\"middle\" x=\"342.5\" y=\"-207.8\" font-family=\"Times,serif\" font-size=\"14.00\">&lt;/</text>\n",
       "</g>\n",
       "<!-- 22&#45;&gt;23 -->\n",
       "<g id=\"edge23\" class=\"edge\">\n",
       "<title>22&#45;&gt;23</title>\n",
       "<path fill=\"none\" stroke=\"black\" d=\"M359.02,-255.09C356.5,-248.6 352.5,-238.28 349.06,-229.42\"/>\n",
       "<polygon fill=\"black\" stroke=\"black\" points=\"352.35,-228.22 345.47,-220.16 345.82,-230.75 352.35,-228.22\"/>\n",
       "</g>\n",
       "<!-- 24 -->\n",
       "<g id=\"node25\" class=\"node\">\n",
       "<title>24</title>\n",
       "<text text-anchor=\"middle\" x=\"381.5\" y=\"-207.8\" font-family=\"Times,serif\" font-size=\"14.00\">&lt;id&gt;</text>\n",
       "</g>\n",
       "<!-- 22&#45;&gt;24 -->\n",
       "<g id=\"edge24\" class=\"edge\">\n",
       "<title>22&#45;&gt;24</title>\n",
       "<path fill=\"none\" stroke=\"black\" d=\"M364.11,-255.09C366.79,-248.53 371.07,-238.05 374.72,-229.12\"/>\n",
       "<polygon fill=\"black\" stroke=\"black\" points=\"377.84,-230.73 378.38,-220.15 371.36,-228.09 377.84,-230.73\"/>\n",
       "</g>\n",
       "<!-- 26 -->\n",
       "<g id=\"node27\" class=\"node\">\n",
       "<title>26</title>\n",
       "<text text-anchor=\"middle\" x=\"431.5\" y=\"-207.8\" font-family=\"Times,serif\" font-size=\"14.00\">&gt; (62)</text>\n",
       "</g>\n",
       "<!-- 22&#45;&gt;26 -->\n",
       "<g id=\"edge26\" class=\"edge\">\n",
       "<title>22&#45;&gt;26</title>\n",
       "<path fill=\"none\" stroke=\"black\" d=\"M370.65,-255.09C381.4,-247.57 399.5,-234.9 413.17,-225.33\"/>\n",
       "<polygon fill=\"black\" stroke=\"black\" points=\"415.14,-228.22 421.33,-219.62 411.13,-222.49 415.14,-228.22\"/>\n",
       "</g>\n",
       "<!-- 25 -->\n",
       "<g id=\"node26\" class=\"node\">\n",
       "<title>25</title>\n",
       "<text text-anchor=\"middle\" x=\"390.5\" y=\"-156.8\" font-family=\"Times,serif\" font-size=\"14.00\">html</text>\n",
       "</g>\n",
       "<!-- 24&#45;&gt;25 -->\n",
       "<g id=\"edge25\" class=\"edge\">\n",
       "<title>24&#45;&gt;25</title>\n",
       "<path fill=\"none\" stroke=\"black\" d=\"M382.68,-204.09C383.84,-197.75 385.68,-187.75 387.28,-179.03\"/>\n",
       "<polygon fill=\"black\" stroke=\"black\" points=\"390.71,-179.71 389.08,-169.24 383.83,-178.44 390.71,-179.71\"/>\n",
       "</g>\n",
       "</g>\n",
       "</svg>\n"
      ],
      "text/plain": [
       "<graphviz.graphs.Digraph at 0x14a5c4b80>"
      ]
     },
     "metadata": {},
     "output_type": "display_data"
    },
    {
     "data": {
      "image/svg+xml": [
       "<?xml version=\"1.0\" encoding=\"UTF-8\" standalone=\"no\"?>\n",
       "<!DOCTYPE svg PUBLIC \"-//W3C//DTD SVG 1.1//EN\"\n",
       " \"http://www.w3.org/Graphics/SVG/1.1/DTD/svg11.dtd\">\n",
       "<!-- Generated by graphviz version 7.0.2 (20221119.0110)\n",
       " -->\n",
       "<!-- Pages: 1 -->\n",
       "<svg width=\"457pt\" height=\"329pt\"\n",
       " viewBox=\"0.00 0.00 457.00 329.00\" xmlns=\"http://www.w3.org/2000/svg\" xmlns:xlink=\"http://www.w3.org/1999/xlink\">\n",
       "<g id=\"graph0\" class=\"graph\" transform=\"scale(1 1) rotate(0) translate(4 325)\">\n",
       "<polygon fill=\"white\" stroke=\"none\" points=\"-4,4 -4,-325 453,-325 453,4 -4,4\"/>\n",
       "<!-- 0 -->\n",
       "<g id=\"node1\" class=\"node\">\n",
       "<title>0</title>\n",
       "<text text-anchor=\"middle\" x=\"204.5\" y=\"-309.8\" font-family=\"Times,serif\" font-size=\"14.00\">&lt;start&gt;</text>\n",
       "</g>\n",
       "<!-- 1 -->\n",
       "<g id=\"node2\" class=\"node\">\n",
       "<title>1</title>\n",
       "<text text-anchor=\"middle\" x=\"204.5\" y=\"-258.8\" font-family=\"Times,serif\" font-size=\"14.00\">&lt;xml&#45;tree&gt;</text>\n",
       "</g>\n",
       "<!-- 0&#45;&gt;1 -->\n",
       "<g id=\"edge1\" class=\"edge\">\n",
       "<title>0&#45;&gt;1</title>\n",
       "<path fill=\"none\" stroke=\"black\" d=\"M204.5,-306.09C204.5,-299.75 204.5,-289.75 204.5,-281.03\"/>\n",
       "<polygon fill=\"black\" stroke=\"black\" points=\"208,-281.27 204.5,-271.27 201,-281.27 208,-281.27\"/>\n",
       "</g>\n",
       "<!-- 2 -->\n",
       "<g id=\"node3\" class=\"node\">\n",
       "<title>2</title>\n",
       "<text text-anchor=\"middle\" x=\"97.5\" y=\"-207.8\" font-family=\"Times,serif\" font-size=\"14.00\">&lt;xml&#45;open&#45;tag&gt;</text>\n",
       "</g>\n",
       "<!-- 1&#45;&gt;2 -->\n",
       "<g id=\"edge2\" class=\"edge\">\n",
       "<title>1&#45;&gt;2</title>\n",
       "<path fill=\"none\" stroke=\"black\" d=\"M190.51,-255.09C173.13,-247.13 143.17,-233.42 121.96,-223.7\"/>\n",
       "<polygon fill=\"black\" stroke=\"black\" points=\"123.42,-220.52 112.87,-219.54 120.5,-226.88 123.42,-220.52\"/>\n",
       "</g>\n",
       "<!-- 7 -->\n",
       "<g id=\"node8\" class=\"node\">\n",
       "<title>7</title>\n",
       "<text text-anchor=\"middle\" x=\"204.5\" y=\"-207.8\" font-family=\"Times,serif\" font-size=\"14.00\">&lt;xml&#45;tree&gt;</text>\n",
       "</g>\n",
       "<!-- 1&#45;&gt;7 -->\n",
       "<g id=\"edge7\" class=\"edge\">\n",
       "<title>1&#45;&gt;7</title>\n",
       "<path fill=\"none\" stroke=\"black\" d=\"M204.5,-255.09C204.5,-248.75 204.5,-238.75 204.5,-230.03\"/>\n",
       "<polygon fill=\"black\" stroke=\"black\" points=\"208,-230.27 204.5,-220.27 201,-230.27 208,-230.27\"/>\n",
       "</g>\n",
       "<!-- 18 -->\n",
       "<g id=\"node19\" class=\"node\">\n",
       "<title>18</title>\n",
       "<text text-anchor=\"middle\" x=\"361.5\" y=\"-207.8\" font-family=\"Times,serif\" font-size=\"14.00\">&lt;xml&#45;close&#45;tag&gt;</text>\n",
       "</g>\n",
       "<!-- 1&#45;&gt;18 -->\n",
       "<g id=\"edge18\" class=\"edge\">\n",
       "<title>1&#45;&gt;18</title>\n",
       "<path fill=\"none\" stroke=\"black\" d=\"M225.03,-255.09C251.82,-246.73 298.99,-232.01 330.24,-222.26\"/>\n",
       "<polygon fill=\"black\" stroke=\"black\" points=\"331.02,-225.68 339.53,-219.36 328.94,-219 331.02,-225.68\"/>\n",
       "</g>\n",
       "<!-- 3 -->\n",
       "<g id=\"node4\" class=\"node\">\n",
       "<title>3</title>\n",
       "<text text-anchor=\"middle\" x=\"17.5\" y=\"-156.8\" font-family=\"Times,serif\" font-size=\"14.00\">&lt; (60)</text>\n",
       "</g>\n",
       "<!-- 2&#45;&gt;3 -->\n",
       "<g id=\"edge3\" class=\"edge\">\n",
       "<title>2&#45;&gt;3</title>\n",
       "<path fill=\"none\" stroke=\"black\" d=\"M87.04,-204.09C74.46,-196.39 53.08,-183.3 37.34,-173.65\"/>\n",
       "<polygon fill=\"black\" stroke=\"black\" points=\"39.61,-170.94 29.25,-168.7 35.95,-176.91 39.61,-170.94\"/>\n",
       "</g>\n",
       "<!-- 4 -->\n",
       "<g id=\"node5\" class=\"node\">\n",
       "<title>4</title>\n",
       "<text text-anchor=\"middle\" x=\"67.5\" y=\"-156.8\" font-family=\"Times,serif\" font-size=\"14.00\">&lt;id&gt;</text>\n",
       "</g>\n",
       "<!-- 2&#45;&gt;4 -->\n",
       "<g id=\"edge4\" class=\"edge\">\n",
       "<title>2&#45;&gt;4</title>\n",
       "<path fill=\"none\" stroke=\"black\" d=\"M93.58,-204.09C89.47,-197.38 82.85,-186.57 77.31,-177.52\"/>\n",
       "<polygon fill=\"black\" stroke=\"black\" points=\"80.32,-175.74 72.12,-169.04 74.35,-179.4 80.32,-175.74\"/>\n",
       "</g>\n",
       "<!-- 6 -->\n",
       "<g id=\"node7\" class=\"node\">\n",
       "<title>6</title>\n",
       "<text text-anchor=\"middle\" x=\"117.5\" y=\"-156.8\" font-family=\"Times,serif\" font-size=\"14.00\">&gt; (62)</text>\n",
       "</g>\n",
       "<!-- 2&#45;&gt;6 -->\n",
       "<g id=\"edge6\" class=\"edge\">\n",
       "<title>2&#45;&gt;6</title>\n",
       "<path fill=\"none\" stroke=\"black\" d=\"M100.11,-204.09C102.79,-197.53 107.07,-187.05 110.72,-178.12\"/>\n",
       "<polygon fill=\"black\" stroke=\"black\" points=\"113.84,-179.73 114.38,-169.15 107.36,-177.09 113.84,-179.73\"/>\n",
       "</g>\n",
       "<!-- 5 -->\n",
       "<g id=\"node6\" class=\"node\">\n",
       "<title>5</title>\n",
       "<text text-anchor=\"middle\" x=\"67.5\" y=\"-105.8\" font-family=\"Times,serif\" font-size=\"14.00\">html</text>\n",
       "</g>\n",
       "<!-- 4&#45;&gt;5 -->\n",
       "<g id=\"edge5\" class=\"edge\">\n",
       "<title>4&#45;&gt;5</title>\n",
       "<path fill=\"none\" stroke=\"black\" d=\"M67.5,-153.09C67.5,-146.75 67.5,-136.75 67.5,-128.03\"/>\n",
       "<polygon fill=\"black\" stroke=\"black\" points=\"71,-128.27 67.5,-118.27 64,-128.27 71,-128.27\"/>\n",
       "</g>\n",
       "<!-- 8 -->\n",
       "<g id=\"node9\" class=\"node\">\n",
       "<title>8</title>\n",
       "<text text-anchor=\"middle\" x=\"185.5\" y=\"-156.8\" font-family=\"Times,serif\" font-size=\"14.00\">&lt;xml&#45;tree&gt;</text>\n",
       "</g>\n",
       "<!-- 7&#45;&gt;8 -->\n",
       "<g id=\"edge8\" class=\"edge\">\n",
       "<title>7&#45;&gt;8</title>\n",
       "<path fill=\"none\" stroke=\"black\" d=\"M202.02,-204.09C199.5,-197.6 195.5,-187.28 192.06,-178.42\"/>\n",
       "<polygon fill=\"black\" stroke=\"black\" points=\"195.35,-177.22 188.47,-169.16 188.82,-179.75 195.35,-177.22\"/>\n",
       "</g>\n",
       "<!-- 11 -->\n",
       "<g id=\"node12\" class=\"node\">\n",
       "<title>11</title>\n",
       "<text text-anchor=\"middle\" x=\"267.5\" y=\"-156.8\" font-family=\"Times,serif\" font-size=\"14.00\">&lt;xml&#45;tree&gt;</text>\n",
       "</g>\n",
       "<!-- 7&#45;&gt;11 -->\n",
       "<g id=\"edge11\" class=\"edge\">\n",
       "<title>7&#45;&gt;11</title>\n",
       "<path fill=\"none\" stroke=\"black\" d=\"M212.74,-204.09C222.32,-196.64 238.38,-184.15 250.64,-174.61\"/>\n",
       "<polygon fill=\"black\" stroke=\"black\" points=\"252.52,-177.58 258.27,-168.68 248.22,-172.06 252.52,-177.58\"/>\n",
       "</g>\n",
       "<!-- 9 -->\n",
       "<g id=\"node10\" class=\"node\">\n",
       "<title>9</title>\n",
       "<text text-anchor=\"middle\" x=\"176.5\" y=\"-105.8\" font-family=\"Times,serif\" font-size=\"14.00\">&lt;text&gt;</text>\n",
       "</g>\n",
       "<!-- 8&#45;&gt;9 -->\n",
       "<g id=\"edge9\" class=\"edge\">\n",
       "<title>8&#45;&gt;9</title>\n",
       "<path fill=\"none\" stroke=\"black\" d=\"M184.32,-153.09C183.16,-146.75 181.32,-136.75 179.72,-128.03\"/>\n",
       "<polygon fill=\"black\" stroke=\"black\" points=\"183.17,-127.44 177.92,-118.24 176.29,-128.71 183.17,-127.44\"/>\n",
       "</g>\n",
       "<!-- 10 -->\n",
       "<g id=\"node11\" class=\"node\">\n",
       "<title>10</title>\n",
       "<text text-anchor=\"middle\" x=\"176.5\" y=\"-54.8\" font-family=\"Times,serif\" font-size=\"14.00\">Te</text>\n",
       "</g>\n",
       "<!-- 9&#45;&gt;10 -->\n",
       "<g id=\"edge10\" class=\"edge\">\n",
       "<title>9&#45;&gt;10</title>\n",
       "<path fill=\"none\" stroke=\"black\" d=\"M176.5,-102.09C176.5,-95.75 176.5,-85.75 176.5,-77.03\"/>\n",
       "<polygon fill=\"black\" stroke=\"black\" points=\"180,-77.27 176.5,-67.27 173,-77.27 180,-77.27\"/>\n",
       "</g>\n",
       "<!-- 12 -->\n",
       "<g id=\"node13\" class=\"node\">\n",
       "<title>12</title>\n",
       "<text text-anchor=\"middle\" x=\"245.5\" y=\"-105.8\" font-family=\"Times,serif\" font-size=\"14.00\">&lt;xml&#45;tree&gt;</text>\n",
       "</g>\n",
       "<!-- 11&#45;&gt;12 -->\n",
       "<g id=\"edge12\" class=\"edge\">\n",
       "<title>11&#45;&gt;12</title>\n",
       "<path fill=\"none\" stroke=\"black\" d=\"M264.62,-153.09C261.68,-146.53 256.97,-136.05 252.96,-127.12\"/>\n",
       "<polygon fill=\"black\" stroke=\"black\" points=\"256.22,-125.82 248.93,-118.13 249.83,-128.69 256.22,-125.82\"/>\n",
       "</g>\n",
       "<!-- 15 -->\n",
       "<g id=\"node16\" class=\"node\">\n",
       "<title>15</title>\n",
       "<text text-anchor=\"middle\" x=\"327.5\" y=\"-105.8\" font-family=\"Times,serif\" font-size=\"14.00\">&lt;xml&#45;tree&gt;</text>\n",
       "</g>\n",
       "<!-- 11&#45;&gt;15 -->\n",
       "<g id=\"edge15\" class=\"edge\">\n",
       "<title>11&#45;&gt;15</title>\n",
       "<path fill=\"none\" stroke=\"black\" d=\"M275.34,-153.09C284.38,-145.72 299.47,-133.39 311.1,-123.9\"/>\n",
       "<polygon fill=\"black\" stroke=\"black\" points=\"313.14,-126.75 318.67,-117.71 308.71,-121.32 313.14,-126.75\"/>\n",
       "</g>\n",
       "<!-- 13 -->\n",
       "<g id=\"node14\" class=\"node\">\n",
       "<title>13</title>\n",
       "<text text-anchor=\"middle\" x=\"245.5\" y=\"-54.8\" font-family=\"Times,serif\" font-size=\"14.00\">&lt;text&gt;</text>\n",
       "</g>\n",
       "<!-- 12&#45;&gt;13 -->\n",
       "<g id=\"edge13\" class=\"edge\">\n",
       "<title>12&#45;&gt;13</title>\n",
       "<path fill=\"none\" stroke=\"black\" d=\"M245.5,-102.09C245.5,-95.75 245.5,-85.75 245.5,-77.03\"/>\n",
       "<polygon fill=\"black\" stroke=\"black\" points=\"249,-77.27 245.5,-67.27 242,-77.27 249,-77.27\"/>\n",
       "</g>\n",
       "<!-- 14 -->\n",
       "<g id=\"node15\" class=\"node\">\n",
       "<title>14</title>\n",
       "<text text-anchor=\"middle\" x=\"245.5\" y=\"-3.8\" font-family=\"Times,serif\" font-size=\"14.00\">x (120)</text>\n",
       "</g>\n",
       "<!-- 13&#45;&gt;14 -->\n",
       "<g id=\"edge14\" class=\"edge\">\n",
       "<title>13&#45;&gt;14</title>\n",
       "<path fill=\"none\" stroke=\"black\" d=\"M245.5,-51.09C245.5,-44.75 245.5,-34.75 245.5,-26.03\"/>\n",
       "<polygon fill=\"black\" stroke=\"black\" points=\"249,-26.27 245.5,-16.27 242,-26.27 249,-26.27\"/>\n",
       "</g>\n",
       "<!-- 16 -->\n",
       "<g id=\"node17\" class=\"node\">\n",
       "<title>16</title>\n",
       "<text text-anchor=\"middle\" x=\"327.5\" y=\"-54.8\" font-family=\"Times,serif\" font-size=\"14.00\">&lt;text&gt;</text>\n",
       "</g>\n",
       "<!-- 15&#45;&gt;16 -->\n",
       "<g id=\"edge16\" class=\"edge\">\n",
       "<title>15&#45;&gt;16</title>\n",
       "<path fill=\"none\" stroke=\"black\" d=\"M327.5,-102.09C327.5,-95.75 327.5,-85.75 327.5,-77.03\"/>\n",
       "<polygon fill=\"black\" stroke=\"black\" points=\"331,-77.27 327.5,-67.27 324,-77.27 331,-77.27\"/>\n",
       "</g>\n",
       "<!-- 17 -->\n",
       "<g id=\"node18\" class=\"node\">\n",
       "<title>17</title>\n",
       "<text text-anchor=\"middle\" x=\"327.5\" y=\"-3.8\" font-family=\"Times,serif\" font-size=\"14.00\">t (116)</text>\n",
       "</g>\n",
       "<!-- 16&#45;&gt;17 -->\n",
       "<g id=\"edge17\" class=\"edge\">\n",
       "<title>16&#45;&gt;17</title>\n",
       "<path fill=\"none\" stroke=\"black\" d=\"M327.5,-51.09C327.5,-44.75 327.5,-34.75 327.5,-26.03\"/>\n",
       "<polygon fill=\"black\" stroke=\"black\" points=\"331,-26.27 327.5,-16.27 324,-26.27 331,-26.27\"/>\n",
       "</g>\n",
       "<!-- 19 -->\n",
       "<g id=\"node20\" class=\"node\">\n",
       "<title>19</title>\n",
       "<text text-anchor=\"middle\" x=\"342.5\" y=\"-156.8\" font-family=\"Times,serif\" font-size=\"14.00\">&lt;/</text>\n",
       "</g>\n",
       "<!-- 18&#45;&gt;19 -->\n",
       "<g id=\"edge19\" class=\"edge\">\n",
       "<title>18&#45;&gt;19</title>\n",
       "<path fill=\"none\" stroke=\"black\" d=\"M359.02,-204.09C356.5,-197.6 352.5,-187.28 349.06,-178.42\"/>\n",
       "<polygon fill=\"black\" stroke=\"black\" points=\"352.35,-177.22 345.47,-169.16 345.82,-179.75 352.35,-177.22\"/>\n",
       "</g>\n",
       "<!-- 20 -->\n",
       "<g id=\"node21\" class=\"node\">\n",
       "<title>20</title>\n",
       "<text text-anchor=\"middle\" x=\"381.5\" y=\"-156.8\" font-family=\"Times,serif\" font-size=\"14.00\">&lt;id&gt;</text>\n",
       "</g>\n",
       "<!-- 18&#45;&gt;20 -->\n",
       "<g id=\"edge20\" class=\"edge\">\n",
       "<title>18&#45;&gt;20</title>\n",
       "<path fill=\"none\" stroke=\"black\" d=\"M364.11,-204.09C366.79,-197.53 371.07,-187.05 374.72,-178.12\"/>\n",
       "<polygon fill=\"black\" stroke=\"black\" points=\"377.84,-179.73 378.38,-169.15 371.36,-177.09 377.84,-179.73\"/>\n",
       "</g>\n",
       "<!-- 22 -->\n",
       "<g id=\"node23\" class=\"node\">\n",
       "<title>22</title>\n",
       "<text text-anchor=\"middle\" x=\"431.5\" y=\"-156.8\" font-family=\"Times,serif\" font-size=\"14.00\">&gt; (62)</text>\n",
       "</g>\n",
       "<!-- 18&#45;&gt;22 -->\n",
       "<g id=\"edge22\" class=\"edge\">\n",
       "<title>18&#45;&gt;22</title>\n",
       "<path fill=\"none\" stroke=\"black\" d=\"M370.65,-204.09C381.4,-196.57 399.5,-183.9 413.17,-174.33\"/>\n",
       "<polygon fill=\"black\" stroke=\"black\" points=\"415.14,-177.22 421.33,-168.62 411.13,-171.49 415.14,-177.22\"/>\n",
       "</g>\n",
       "<!-- 21 -->\n",
       "<g id=\"node22\" class=\"node\">\n",
       "<title>21</title>\n",
       "<text text-anchor=\"middle\" x=\"390.5\" y=\"-105.8\" font-family=\"Times,serif\" font-size=\"14.00\">html</text>\n",
       "</g>\n",
       "<!-- 20&#45;&gt;21 -->\n",
       "<g id=\"edge21\" class=\"edge\">\n",
       "<title>20&#45;&gt;21</title>\n",
       "<path fill=\"none\" stroke=\"black\" d=\"M382.68,-153.09C383.84,-146.75 385.68,-136.75 387.28,-128.03\"/>\n",
       "<polygon fill=\"black\" stroke=\"black\" points=\"390.71,-128.71 389.08,-118.24 383.83,-127.44 390.71,-128.71\"/>\n",
       "</g>\n",
       "</g>\n",
       "</svg>\n"
      ],
      "text/plain": [
       "<graphviz.graphs.Digraph at 0x14a5c54b0>"
      ]
     },
     "metadata": {},
     "output_type": "display_data"
    },
    {
     "data": {
      "image/svg+xml": [
       "<?xml version=\"1.0\" encoding=\"UTF-8\" standalone=\"no\"?>\n",
       "<!DOCTYPE svg PUBLIC \"-//W3C//DTD SVG 1.1//EN\"\n",
       " \"http://www.w3.org/Graphics/SVG/1.1/DTD/svg11.dtd\">\n",
       "<!-- Generated by graphviz version 7.0.2 (20221119.0110)\n",
       " -->\n",
       "<!-- Pages: 1 -->\n",
       "<svg width=\"477pt\" height=\"329pt\"\n",
       " viewBox=\"0.00 0.00 477.00 329.00\" xmlns=\"http://www.w3.org/2000/svg\" xmlns:xlink=\"http://www.w3.org/1999/xlink\">\n",
       "<g id=\"graph0\" class=\"graph\" transform=\"scale(1 1) rotate(0) translate(4 325)\">\n",
       "<polygon fill=\"white\" stroke=\"none\" points=\"-4,4 -4,-325 473,-325 473,4 -4,4\"/>\n",
       "<!-- 0 -->\n",
       "<g id=\"node1\" class=\"node\">\n",
       "<title>0</title>\n",
       "<text text-anchor=\"middle\" x=\"214.5\" y=\"-309.8\" font-family=\"Times,serif\" font-size=\"14.00\">&lt;start&gt;</text>\n",
       "</g>\n",
       "<!-- 1 -->\n",
       "<g id=\"node2\" class=\"node\">\n",
       "<title>1</title>\n",
       "<text text-anchor=\"middle\" x=\"214.5\" y=\"-258.8\" font-family=\"Times,serif\" font-size=\"14.00\">&lt;xml&#45;tree&gt;</text>\n",
       "</g>\n",
       "<!-- 0&#45;&gt;1 -->\n",
       "<g id=\"edge1\" class=\"edge\">\n",
       "<title>0&#45;&gt;1</title>\n",
       "<path fill=\"none\" stroke=\"black\" d=\"M214.5,-306.09C214.5,-299.75 214.5,-289.75 214.5,-281.03\"/>\n",
       "<polygon fill=\"black\" stroke=\"black\" points=\"218,-281.27 214.5,-271.27 211,-281.27 218,-281.27\"/>\n",
       "</g>\n",
       "<!-- 2 -->\n",
       "<g id=\"node3\" class=\"node\">\n",
       "<title>2</title>\n",
       "<text text-anchor=\"middle\" x=\"101.5\" y=\"-207.8\" font-family=\"Times,serif\" font-size=\"14.00\">&lt;xml&#45;open&#45;tag&gt;</text>\n",
       "</g>\n",
       "<!-- 1&#45;&gt;2 -->\n",
       "<g id=\"edge2\" class=\"edge\">\n",
       "<title>1&#45;&gt;2</title>\n",
       "<path fill=\"none\" stroke=\"black\" d=\"M199.73,-255.09C181.2,-247.06 149.15,-233.16 126.71,-223.43\"/>\n",
       "<polygon fill=\"black\" stroke=\"black\" points=\"128.23,-220.28 117.67,-219.51 125.45,-226.7 128.23,-220.28\"/>\n",
       "</g>\n",
       "<!-- 7 -->\n",
       "<g id=\"node8\" class=\"node\">\n",
       "<title>7</title>\n",
       "<text text-anchor=\"middle\" x=\"214.5\" y=\"-207.8\" font-family=\"Times,serif\" font-size=\"14.00\">&lt;xml&#45;tree&gt;</text>\n",
       "</g>\n",
       "<!-- 1&#45;&gt;7 -->\n",
       "<g id=\"edge7\" class=\"edge\">\n",
       "<title>1&#45;&gt;7</title>\n",
       "<path fill=\"none\" stroke=\"black\" d=\"M214.5,-255.09C214.5,-248.75 214.5,-238.75 214.5,-230.03\"/>\n",
       "<polygon fill=\"black\" stroke=\"black\" points=\"218,-230.27 214.5,-220.27 211,-230.27 218,-230.27\"/>\n",
       "</g>\n",
       "<!-- 22 -->\n",
       "<g id=\"node23\" class=\"node\">\n",
       "<title>22</title>\n",
       "<text text-anchor=\"middle\" x=\"381.5\" y=\"-207.8\" font-family=\"Times,serif\" font-size=\"14.00\">&lt;xml&#45;close&#45;tag&gt;</text>\n",
       "</g>\n",
       "<!-- 1&#45;&gt;22 -->\n",
       "<g id=\"edge22\" class=\"edge\">\n",
       "<title>1&#45;&gt;22</title>\n",
       "<path fill=\"none\" stroke=\"black\" d=\"M236.33,-255.09C264.88,-246.72 315.17,-231.96 348.41,-222.21\"/>\n",
       "<polygon fill=\"black\" stroke=\"black\" points=\"349.33,-225.59 357.94,-219.41 347.36,-218.87 349.33,-225.59\"/>\n",
       "</g>\n",
       "<!-- 3 -->\n",
       "<g id=\"node4\" class=\"node\">\n",
       "<title>3</title>\n",
       "<text text-anchor=\"middle\" x=\"17.5\" y=\"-156.8\" font-family=\"Times,serif\" font-size=\"14.00\">&lt; (60)</text>\n",
       "</g>\n",
       "<!-- 2&#45;&gt;3 -->\n",
       "<g id=\"edge3\" class=\"edge\">\n",
       "<title>2&#45;&gt;3</title>\n",
       "<path fill=\"none\" stroke=\"black\" d=\"M90.52,-204.09C77.31,-196.39 54.86,-183.3 38.33,-173.65\"/>\n",
       "<polygon fill=\"black\" stroke=\"black\" points=\"40.19,-170.69 29.79,-168.67 36.67,-176.73 40.19,-170.69\"/>\n",
       "</g>\n",
       "<!-- 4 -->\n",
       "<g id=\"node5\" class=\"node\">\n",
       "<title>4</title>\n",
       "<text text-anchor=\"middle\" x=\"67.5\" y=\"-156.8\" font-family=\"Times,serif\" font-size=\"14.00\">&lt;id&gt;</text>\n",
       "</g>\n",
       "<!-- 2&#45;&gt;4 -->\n",
       "<g id=\"edge4\" class=\"edge\">\n",
       "<title>2&#45;&gt;4</title>\n",
       "<path fill=\"none\" stroke=\"black\" d=\"M97.06,-204.09C92.29,-197.23 84.57,-186.1 78.21,-176.93\"/>\n",
       "<polygon fill=\"black\" stroke=\"black\" points=\"81.28,-175.22 72.7,-169 75.53,-179.21 81.28,-175.22\"/>\n",
       "</g>\n",
       "<!-- 6 -->\n",
       "<g id=\"node7\" class=\"node\">\n",
       "<title>6</title>\n",
       "<text text-anchor=\"middle\" x=\"117.5\" y=\"-156.8\" font-family=\"Times,serif\" font-size=\"14.00\">&gt; (62)</text>\n",
       "</g>\n",
       "<!-- 2&#45;&gt;6 -->\n",
       "<g id=\"edge6\" class=\"edge\">\n",
       "<title>2&#45;&gt;6</title>\n",
       "<path fill=\"none\" stroke=\"black\" d=\"M103.59,-204.09C105.71,-197.6 109.08,-187.28 111.97,-178.42\"/>\n",
       "<polygon fill=\"black\" stroke=\"black\" points=\"115.21,-179.78 114.99,-169.19 108.56,-177.61 115.21,-179.78\"/>\n",
       "</g>\n",
       "<!-- 5 -->\n",
       "<g id=\"node6\" class=\"node\">\n",
       "<title>5</title>\n",
       "<text text-anchor=\"middle\" x=\"53.5\" y=\"-105.8\" font-family=\"Times,serif\" font-size=\"14.00\">html</text>\n",
       "</g>\n",
       "<!-- 4&#45;&gt;5 -->\n",
       "<g id=\"edge5\" class=\"edge\">\n",
       "<title>4&#45;&gt;5</title>\n",
       "<path fill=\"none\" stroke=\"black\" d=\"M65.67,-153.09C63.84,-146.68 60.93,-136.51 58.42,-127.73\"/>\n",
       "<polygon fill=\"black\" stroke=\"black\" points=\"61.81,-126.86 55.7,-118.21 55.08,-128.78 61.81,-126.86\"/>\n",
       "</g>\n",
       "<!-- 8 -->\n",
       "<g id=\"node9\" class=\"node\">\n",
       "<title>8</title>\n",
       "<text text-anchor=\"middle\" x=\"198.5\" y=\"-156.8\" font-family=\"Times,serif\" font-size=\"14.00\">&lt;xml&#45;tree&gt;</text>\n",
       "</g>\n",
       "<!-- 7&#45;&gt;8 -->\n",
       "<g id=\"edge8\" class=\"edge\">\n",
       "<title>7&#45;&gt;8</title>\n",
       "<path fill=\"none\" stroke=\"black\" d=\"M212.41,-204.09C210.29,-197.6 206.92,-187.28 204.03,-178.42\"/>\n",
       "<polygon fill=\"black\" stroke=\"black\" points=\"207.44,-177.61 201.01,-169.19 200.79,-179.78 207.44,-177.61\"/>\n",
       "</g>\n",
       "<!-- 15 -->\n",
       "<g id=\"node16\" class=\"node\">\n",
       "<title>15</title>\n",
       "<text text-anchor=\"middle\" x=\"280.5\" y=\"-156.8\" font-family=\"Times,serif\" font-size=\"14.00\">&lt;xml&#45;tree&gt;</text>\n",
       "</g>\n",
       "<!-- 7&#45;&gt;15 -->\n",
       "<g id=\"edge15\" class=\"edge\">\n",
       "<title>7&#45;&gt;15</title>\n",
       "<path fill=\"none\" stroke=\"black\" d=\"M223.13,-204.09C233.16,-196.64 249.99,-184.15 262.84,-174.61\"/>\n",
       "<polygon fill=\"black\" stroke=\"black\" points=\"264.92,-177.43 270.86,-168.65 260.75,-171.81 264.92,-177.43\"/>\n",
       "</g>\n",
       "<!-- 9 -->\n",
       "<g id=\"node10\" class=\"node\">\n",
       "<title>9</title>\n",
       "<text text-anchor=\"middle\" x=\"116.5\" y=\"-105.8\" font-family=\"Times,serif\" font-size=\"14.00\">&lt;xml&#45;tree&gt;</text>\n",
       "</g>\n",
       "<!-- 8&#45;&gt;9 -->\n",
       "<g id=\"edge9\" class=\"edge\">\n",
       "<title>8&#45;&gt;9</title>\n",
       "<path fill=\"none\" stroke=\"black\" d=\"M187.78,-153.09C174.89,-145.39 152.97,-132.3 136.84,-122.65\"/>\n",
       "<polygon fill=\"black\" stroke=\"black\" points=\"138.9,-119.81 128.52,-117.68 135.31,-125.82 138.9,-119.81\"/>\n",
       "</g>\n",
       "<!-- 12 -->\n",
       "<g id=\"node13\" class=\"node\">\n",
       "<title>12</title>\n",
       "<text text-anchor=\"middle\" x=\"198.5\" y=\"-105.8\" font-family=\"Times,serif\" font-size=\"14.00\">&lt;xml&#45;tree&gt;</text>\n",
       "</g>\n",
       "<!-- 8&#45;&gt;12 -->\n",
       "<g id=\"edge12\" class=\"edge\">\n",
       "<title>8&#45;&gt;12</title>\n",
       "<path fill=\"none\" stroke=\"black\" d=\"M198.5,-153.09C198.5,-146.75 198.5,-136.75 198.5,-128.03\"/>\n",
       "<polygon fill=\"black\" stroke=\"black\" points=\"202,-128.27 198.5,-118.27 195,-128.27 202,-128.27\"/>\n",
       "</g>\n",
       "<!-- 10 -->\n",
       "<g id=\"node11\" class=\"node\">\n",
       "<title>10</title>\n",
       "<text text-anchor=\"middle\" x=\"116.5\" y=\"-54.8\" font-family=\"Times,serif\" font-size=\"14.00\">&lt;text&gt;</text>\n",
       "</g>\n",
       "<!-- 9&#45;&gt;10 -->\n",
       "<g id=\"edge10\" class=\"edge\">\n",
       "<title>9&#45;&gt;10</title>\n",
       "<path fill=\"none\" stroke=\"black\" d=\"M116.5,-102.09C116.5,-95.75 116.5,-85.75 116.5,-77.03\"/>\n",
       "<polygon fill=\"black\" stroke=\"black\" points=\"120,-77.27 116.5,-67.27 113,-77.27 120,-77.27\"/>\n",
       "</g>\n",
       "<!-- 11 -->\n",
       "<g id=\"node12\" class=\"node\">\n",
       "<title>11</title>\n",
       "<text text-anchor=\"middle\" x=\"116.5\" y=\"-3.8\" font-family=\"Times,serif\" font-size=\"14.00\">T (84)</text>\n",
       "</g>\n",
       "<!-- 10&#45;&gt;11 -->\n",
       "<g id=\"edge11\" class=\"edge\">\n",
       "<title>10&#45;&gt;11</title>\n",
       "<path fill=\"none\" stroke=\"black\" d=\"M116.5,-51.09C116.5,-44.75 116.5,-34.75 116.5,-26.03\"/>\n",
       "<polygon fill=\"black\" stroke=\"black\" points=\"120,-26.27 116.5,-16.27 113,-26.27 120,-26.27\"/>\n",
       "</g>\n",
       "<!-- 13 -->\n",
       "<g id=\"node14\" class=\"node\">\n",
       "<title>13</title>\n",
       "<text text-anchor=\"middle\" x=\"198.5\" y=\"-54.8\" font-family=\"Times,serif\" font-size=\"14.00\">&lt;text&gt;</text>\n",
       "</g>\n",
       "<!-- 12&#45;&gt;13 -->\n",
       "<g id=\"edge13\" class=\"edge\">\n",
       "<title>12&#45;&gt;13</title>\n",
       "<path fill=\"none\" stroke=\"black\" d=\"M198.5,-102.09C198.5,-95.75 198.5,-85.75 198.5,-77.03\"/>\n",
       "<polygon fill=\"black\" stroke=\"black\" points=\"202,-77.27 198.5,-67.27 195,-77.27 202,-77.27\"/>\n",
       "</g>\n",
       "<!-- 14 -->\n",
       "<g id=\"node15\" class=\"node\">\n",
       "<title>14</title>\n",
       "<text text-anchor=\"middle\" x=\"198.5\" y=\"-3.8\" font-family=\"Times,serif\" font-size=\"14.00\">e (101)</text>\n",
       "</g>\n",
       "<!-- 13&#45;&gt;14 -->\n",
       "<g id=\"edge14\" class=\"edge\">\n",
       "<title>13&#45;&gt;14</title>\n",
       "<path fill=\"none\" stroke=\"black\" d=\"M198.5,-51.09C198.5,-44.75 198.5,-34.75 198.5,-26.03\"/>\n",
       "<polygon fill=\"black\" stroke=\"black\" points=\"202,-26.27 198.5,-16.27 195,-26.27 202,-26.27\"/>\n",
       "</g>\n",
       "<!-- 16 -->\n",
       "<g id=\"node17\" class=\"node\">\n",
       "<title>16</title>\n",
       "<text text-anchor=\"middle\" x=\"280.5\" y=\"-105.8\" font-family=\"Times,serif\" font-size=\"14.00\">&lt;xml&#45;tree&gt;</text>\n",
       "</g>\n",
       "<!-- 15&#45;&gt;16 -->\n",
       "<g id=\"edge16\" class=\"edge\">\n",
       "<title>15&#45;&gt;16</title>\n",
       "<path fill=\"none\" stroke=\"black\" d=\"M280.5,-153.09C280.5,-146.75 280.5,-136.75 280.5,-128.03\"/>\n",
       "<polygon fill=\"black\" stroke=\"black\" points=\"284,-128.27 280.5,-118.27 277,-128.27 284,-128.27\"/>\n",
       "</g>\n",
       "<!-- 19 -->\n",
       "<g id=\"node20\" class=\"node\">\n",
       "<title>19</title>\n",
       "<text text-anchor=\"middle\" x=\"362.5\" y=\"-105.8\" font-family=\"Times,serif\" font-size=\"14.00\">&lt;xml&#45;tree&gt;</text>\n",
       "</g>\n",
       "<!-- 15&#45;&gt;19 -->\n",
       "<g id=\"edge19\" class=\"edge\">\n",
       "<title>15&#45;&gt;19</title>\n",
       "<path fill=\"none\" stroke=\"black\" d=\"M291.22,-153.09C304.11,-145.39 326.03,-132.3 342.16,-122.65\"/>\n",
       "<polygon fill=\"black\" stroke=\"black\" points=\"343.69,-125.82 350.48,-117.68 340.1,-119.81 343.69,-125.82\"/>\n",
       "</g>\n",
       "<!-- 17 -->\n",
       "<g id=\"node18\" class=\"node\">\n",
       "<title>17</title>\n",
       "<text text-anchor=\"middle\" x=\"280.5\" y=\"-54.8\" font-family=\"Times,serif\" font-size=\"14.00\">&lt;text&gt;</text>\n",
       "</g>\n",
       "<!-- 16&#45;&gt;17 -->\n",
       "<g id=\"edge17\" class=\"edge\">\n",
       "<title>16&#45;&gt;17</title>\n",
       "<path fill=\"none\" stroke=\"black\" d=\"M280.5,-102.09C280.5,-95.75 280.5,-85.75 280.5,-77.03\"/>\n",
       "<polygon fill=\"black\" stroke=\"black\" points=\"284,-77.27 280.5,-67.27 277,-77.27 284,-77.27\"/>\n",
       "</g>\n",
       "<!-- 18 -->\n",
       "<g id=\"node19\" class=\"node\">\n",
       "<title>18</title>\n",
       "<text text-anchor=\"middle\" x=\"280.5\" y=\"-3.8\" font-family=\"Times,serif\" font-size=\"14.00\">x (120)</text>\n",
       "</g>\n",
       "<!-- 17&#45;&gt;18 -->\n",
       "<g id=\"edge18\" class=\"edge\">\n",
       "<title>17&#45;&gt;18</title>\n",
       "<path fill=\"none\" stroke=\"black\" d=\"M280.5,-51.09C280.5,-44.75 280.5,-34.75 280.5,-26.03\"/>\n",
       "<polygon fill=\"black\" stroke=\"black\" points=\"284,-26.27 280.5,-16.27 277,-26.27 284,-26.27\"/>\n",
       "</g>\n",
       "<!-- 20 -->\n",
       "<g id=\"node21\" class=\"node\">\n",
       "<title>20</title>\n",
       "<text text-anchor=\"middle\" x=\"362.5\" y=\"-54.8\" font-family=\"Times,serif\" font-size=\"14.00\">&lt;text&gt;</text>\n",
       "</g>\n",
       "<!-- 19&#45;&gt;20 -->\n",
       "<g id=\"edge20\" class=\"edge\">\n",
       "<title>19&#45;&gt;20</title>\n",
       "<path fill=\"none\" stroke=\"black\" d=\"M362.5,-102.09C362.5,-95.75 362.5,-85.75 362.5,-77.03\"/>\n",
       "<polygon fill=\"black\" stroke=\"black\" points=\"366,-77.27 362.5,-67.27 359,-77.27 366,-77.27\"/>\n",
       "</g>\n",
       "<!-- 21 -->\n",
       "<g id=\"node22\" class=\"node\">\n",
       "<title>21</title>\n",
       "<text text-anchor=\"middle\" x=\"362.5\" y=\"-3.8\" font-family=\"Times,serif\" font-size=\"14.00\">t (116)</text>\n",
       "</g>\n",
       "<!-- 20&#45;&gt;21 -->\n",
       "<g id=\"edge21\" class=\"edge\">\n",
       "<title>20&#45;&gt;21</title>\n",
       "<path fill=\"none\" stroke=\"black\" d=\"M362.5,-51.09C362.5,-44.75 362.5,-34.75 362.5,-26.03\"/>\n",
       "<polygon fill=\"black\" stroke=\"black\" points=\"366,-26.27 362.5,-16.27 359,-26.27 366,-26.27\"/>\n",
       "</g>\n",
       "<!-- 23 -->\n",
       "<g id=\"node24\" class=\"node\">\n",
       "<title>23</title>\n",
       "<text text-anchor=\"middle\" x=\"362.5\" y=\"-156.8\" font-family=\"Times,serif\" font-size=\"14.00\">&lt;/</text>\n",
       "</g>\n",
       "<!-- 22&#45;&gt;23 -->\n",
       "<g id=\"edge23\" class=\"edge\">\n",
       "<title>22&#45;&gt;23</title>\n",
       "<path fill=\"none\" stroke=\"black\" d=\"M379.02,-204.09C376.5,-197.6 372.5,-187.28 369.06,-178.42\"/>\n",
       "<polygon fill=\"black\" stroke=\"black\" points=\"372.35,-177.22 365.47,-169.16 365.82,-179.75 372.35,-177.22\"/>\n",
       "</g>\n",
       "<!-- 24 -->\n",
       "<g id=\"node25\" class=\"node\">\n",
       "<title>24</title>\n",
       "<text text-anchor=\"middle\" x=\"401.5\" y=\"-156.8\" font-family=\"Times,serif\" font-size=\"14.00\">&lt;id&gt;</text>\n",
       "</g>\n",
       "<!-- 22&#45;&gt;24 -->\n",
       "<g id=\"edge24\" class=\"edge\">\n",
       "<title>22&#45;&gt;24</title>\n",
       "<path fill=\"none\" stroke=\"black\" d=\"M384.11,-204.09C386.79,-197.53 391.07,-187.05 394.72,-178.12\"/>\n",
       "<polygon fill=\"black\" stroke=\"black\" points=\"397.84,-179.73 398.38,-169.15 391.36,-177.09 397.84,-179.73\"/>\n",
       "</g>\n",
       "<!-- 26 -->\n",
       "<g id=\"node27\" class=\"node\">\n",
       "<title>26</title>\n",
       "<text text-anchor=\"middle\" x=\"451.5\" y=\"-156.8\" font-family=\"Times,serif\" font-size=\"14.00\">&gt; (62)</text>\n",
       "</g>\n",
       "<!-- 22&#45;&gt;26 -->\n",
       "<g id=\"edge26\" class=\"edge\">\n",
       "<title>22&#45;&gt;26</title>\n",
       "<path fill=\"none\" stroke=\"black\" d=\"M390.65,-204.09C401.4,-196.57 419.5,-183.9 433.17,-174.33\"/>\n",
       "<polygon fill=\"black\" stroke=\"black\" points=\"435.14,-177.22 441.33,-168.62 431.13,-171.49 435.14,-177.22\"/>\n",
       "</g>\n",
       "<!-- 25 -->\n",
       "<g id=\"node26\" class=\"node\">\n",
       "<title>25</title>\n",
       "<text text-anchor=\"middle\" x=\"425.5\" y=\"-105.8\" font-family=\"Times,serif\" font-size=\"14.00\">html</text>\n",
       "</g>\n",
       "<!-- 24&#45;&gt;25 -->\n",
       "<g id=\"edge25\" class=\"edge\">\n",
       "<title>24&#45;&gt;25</title>\n",
       "<path fill=\"none\" stroke=\"black\" d=\"M404.64,-153.09C407.89,-146.45 413.1,-135.81 417.51,-126.82\"/>\n",
       "<polygon fill=\"black\" stroke=\"black\" points=\"420.52,-128.63 421.77,-118.11 414.23,-125.55 420.52,-128.63\"/>\n",
       "</g>\n",
       "</g>\n",
       "</svg>\n"
      ],
      "text/plain": [
       "<graphviz.graphs.Digraph at 0x14a5c55a0>"
      ]
     },
     "metadata": {},
     "output_type": "display_data"
    }
   ],
   "source": [
    "parser = EarleyParser(XML_GRAMMAR, tokens=XML_TOKENS)\n",
    "\n",
    "for tree in parser.parse(\"<html>Text</html>\"):\n",
    "    display(display_tree(tree))"
   ]
  },
  {
   "cell_type": "markdown",
   "metadata": {
    "slideshow": {
     "slide_type": "subslide"
    }
   },
   "source": [
    "As we can see, the input starts with an opening tag, contains some text, and ends with a closing tag. Excellent. This is a structure that we can work with."
   ]
  },
  {
   "cell_type": "markdown",
   "metadata": {
    "slideshow": {
     "slide_type": "subslide"
    }
   },
   "source": [
    "### Building the Fragment Pool\n",
    "We are now ready to implement our first input-structure-aware mutator. Let's initialize the mutator with the dictionary `fragments` representing the empty fragment pool. It contains a key for each symbol in the grammar (and the empty set as value)."
   ]
  },
  {
   "cell_type": "code",
   "execution_count": 29,
   "metadata": {
    "execution": {
     "iopub.execute_input": "2023-01-07T14:37:22.453592Z",
     "iopub.status.busy": "2023-01-07T14:37:22.453274Z",
     "iopub.status.idle": "2023-01-07T14:37:22.454714Z",
     "shell.execute_reply": "2023-01-07T14:37:22.454905Z"
    },
    "slideshow": {
     "slide_type": "fragment"
    }
   },
   "outputs": [],
   "source": [
    "class FragmentMutator(Mutator):\n",
    "    \"\"\"Mutate inputs with input fragments from a pool\"\"\"\n",
    "\n",
    "    def __init__(self, parser: EarleyParser) -> None:\n",
    "        \"\"\"Initialize empty fragment pool and add parser\"\"\"\n",
    "        self.parser = parser\n",
    "        self.fragments: Dict[str, List[DerivationTree]] = \\\n",
    "            {k: [] for k in self.parser.cgrammar}\n",
    "        super().__init__()"
   ]
  },
  {
   "cell_type": "markdown",
   "metadata": {
    "slideshow": {
     "slide_type": "subslide"
    }
   },
   "source": [
    "The `FragmentMutator` adds fragments recursively. A *fragment* is a subtree in the parse tree and consists of the symbol of the current node and child nodes (i.e., descendant fragments). We can exclude fragments starting with symbols that are tokens, terminals, or not part of the grammar."
   ]
  },
  {
   "cell_type": "code",
   "execution_count": 30,
   "metadata": {
    "execution": {
     "iopub.execute_input": "2023-01-07T14:37:22.456655Z",
     "iopub.status.busy": "2023-01-07T14:37:22.456365Z",
     "iopub.status.idle": "2023-01-07T14:37:22.457586Z",
     "shell.execute_reply": "2023-01-07T14:37:22.457818Z"
    },
    "slideshow": {
     "slide_type": "skip"
    }
   },
   "outputs": [],
   "source": [
    "from Parser import terminals"
   ]
  },
  {
   "cell_type": "code",
   "execution_count": 31,
   "metadata": {
    "execution": {
     "iopub.execute_input": "2023-01-07T14:37:22.460363Z",
     "iopub.status.busy": "2023-01-07T14:37:22.460076Z",
     "iopub.status.idle": "2023-01-07T14:37:22.461482Z",
     "shell.execute_reply": "2023-01-07T14:37:22.461657Z"
    },
    "slideshow": {
     "slide_type": "subslide"
    }
   },
   "outputs": [],
   "source": [
    "class FragmentMutator(FragmentMutator):\n",
    "    def add_fragment(self, fragment: DerivationTree) -> None:\n",
    "        \"\"\"Recursively adds fragments to the fragment pool\"\"\"\n",
    "        (symbol, children) = fragment\n",
    "        if not self.is_excluded(symbol):\n",
    "            self.fragments[symbol].append(fragment)\n",
    "            assert children is not None\n",
    "            for subfragment in children:\n",
    "                self.add_fragment(subfragment)\n",
    "\n",
    "    def is_excluded(self, symbol: str) -> bool:\n",
    "        \"\"\"Returns true if a fragment starting with a specific\n",
    "           symbol and all its decendents can be excluded\"\"\"\n",
    "        return (symbol not in self.parser.grammar() or\n",
    "                symbol in self.parser.tokens or\n",
    "                symbol in terminals(self.parser.grammar()))"
   ]
  },
  {
   "cell_type": "markdown",
   "metadata": {
    "slideshow": {
     "slide_type": "subslide"
    }
   },
   "source": [
    "Parsing can take a long time, particularly if there is too much ambiguity during the parsing. In order to maintain the efficiency of mutational fuzzing, we will limit the parsing time to 200ms."
   ]
  },
  {
   "cell_type": "code",
   "execution_count": 32,
   "metadata": {
    "execution": {
     "iopub.execute_input": "2023-01-07T14:37:22.463303Z",
     "iopub.status.busy": "2023-01-07T14:37:22.462975Z",
     "iopub.status.idle": "2023-01-07T14:37:22.464718Z",
     "shell.execute_reply": "2023-01-07T14:37:22.464464Z"
    },
    "slideshow": {
     "slide_type": "skip"
    }
   },
   "outputs": [],
   "source": [
    "from Timeout import Timeout"
   ]
  },
  {
   "cell_type": "markdown",
   "metadata": {
    "slideshow": {
     "slide_type": "fragment"
    }
   },
   "source": [
    "The function `add_to_fragment_pool()` parses a seed (no longer than 200ms) and adds all its fragments to the fragment pool. If the parsing of the `seed` was successful, the attribute `seed.has_structure` is set to `True`. Otherwise, it is set to `False`."
   ]
  },
  {
   "cell_type": "code",
   "execution_count": 33,
   "metadata": {
    "execution": {
     "iopub.execute_input": "2023-01-07T14:37:22.466846Z",
     "iopub.status.busy": "2023-01-07T14:37:22.466541Z",
     "iopub.status.idle": "2023-01-07T14:37:22.467976Z",
     "shell.execute_reply": "2023-01-07T14:37:22.468187Z"
    },
    "slideshow": {
     "slide_type": "fragment"
    }
   },
   "outputs": [],
   "source": [
    "class SeedWithStructure(Seed):\n",
    "    \"\"\"Seeds augmented with structure info\"\"\"\n",
    "\n",
    "    def __init__(self, data: str) -> None:\n",
    "        super().__init__(data)\n",
    "        self.has_structure = False\n",
    "        self.structure: DerivationTree = (\"<empty>\", [])"
   ]
  },
  {
   "cell_type": "code",
   "execution_count": 34,
   "metadata": {
    "execution": {
     "iopub.execute_input": "2023-01-07T14:37:22.470470Z",
     "iopub.status.busy": "2023-01-07T14:37:22.470168Z",
     "iopub.status.idle": "2023-01-07T14:37:22.471500Z",
     "shell.execute_reply": "2023-01-07T14:37:22.471685Z"
    },
    "slideshow": {
     "slide_type": "subslide"
    }
   },
   "outputs": [],
   "source": [
    "class FragmentMutator(FragmentMutator):\n",
    "    def add_to_fragment_pool(self, seed: SeedWithStructure) -> None:\n",
    "        \"\"\"Adds all fragments of a seed to the fragment pool\"\"\"\n",
    "        try:  # only allow quick parsing of 200ms max\n",
    "            with Timeout(0.2):\n",
    "                seed.structure = next(self.parser.parse(seed.data))\n",
    "                self.add_fragment(seed.structure)\n",
    "            seed.has_structure = True\n",
    "        except (SyntaxError, TimeoutError):\n",
    "            seed.has_structure = False"
   ]
  },
  {
   "cell_type": "markdown",
   "metadata": {
    "slideshow": {
     "slide_type": "fragment"
    }
   },
   "source": [
    "Let's see how `FragmentMutator` fills the fragment pool for a simple HTML seed input. We initialize mutator with the `EarleyParser` which itself is initialized with our `XML_GRAMMAR`."
   ]
  },
  {
   "cell_type": "code",
   "execution_count": 35,
   "metadata": {
    "execution": {
     "iopub.execute_input": "2023-01-07T14:37:22.473313Z",
     "iopub.status.busy": "2023-01-07T14:37:22.473016Z",
     "iopub.status.idle": "2023-01-07T14:37:22.474311Z",
     "shell.execute_reply": "2023-01-07T14:37:22.474496Z"
    },
    "slideshow": {
     "slide_type": "skip"
    }
   },
   "outputs": [],
   "source": [
    "from GrammarFuzzer import tree_to_string"
   ]
  },
  {
   "cell_type": "code",
   "execution_count": 36,
   "metadata": {
    "execution": {
     "iopub.execute_input": "2023-01-07T14:37:22.526608Z",
     "iopub.status.busy": "2023-01-07T14:37:22.497722Z",
     "iopub.status.idle": "2023-01-07T14:37:22.528341Z",
     "shell.execute_reply": "2023-01-07T14:37:22.528700Z"
    },
    "slideshow": {
     "slide_type": "subslide"
    }
   },
   "outputs": [
    {
     "name": "stdout",
     "output_type": "stream",
     "text": [
      "<start>\n",
      "|-<html><head><title>Hello</title></head><body>World<br/></body></html>\n",
      "<xml-tree>\n",
      "|-<html><head><title>Hello</title></head><body>World<br/></body></html>\n",
      "|-<head><title>Hello</title></head><body>World<br/></body>\n",
      "|-<head><title>Hello</title></head>\n",
      "|-<title>Hello</title>\n",
      "|-Hello\n",
      "|-<body>World<br/></body>\n",
      "|-World<br/>\n",
      "|-World\n",
      "|-<br/>\n",
      "<xml-open-tag>\n",
      "|-<html>\n",
      "|-<head>\n",
      "|-<title>\n",
      "|-<body>\n",
      "<xml-openclose-tag>\n",
      "|-<br/>\n",
      "<xml-close-tag>\n",
      "|-</title>\n",
      "|-</head>\n",
      "|-</body>\n",
      "|-</html>\n",
      "<xml-attribute>\n",
      "<id>\n",
      "<text>\n",
      "<letter>\n",
      "<letter_space>\n"
     ]
    }
   ],
   "source": [
    "valid_seed = SeedWithStructure(\n",
    "    \"<html><head><title>Hello</title></head><body>World<br/></body></html>\")\n",
    "fragment_mutator = FragmentMutator(EarleyParser(XML_GRAMMAR, tokens=XML_TOKENS))\n",
    "fragment_mutator.add_to_fragment_pool(valid_seed)\n",
    "\n",
    "for key in fragment_mutator.fragments:\n",
    "    print(key)\n",
    "    for f in fragment_mutator.fragments[key]:\n",
    "        print(\"|-%s\" % tree_to_string(f))"
   ]
  },
  {
   "cell_type": "markdown",
   "metadata": {
    "slideshow": {
     "slide_type": "subslide"
    }
   },
   "source": [
    "For many symbols in the grammar, we have collected a number of fragments. There are several open and closing tags and several interesting fragments starting with the `xml-tree` symbol.\n",
    "\n",
    "***Summary***. For each interesting symbol in the grammar, the `FragmentMutator` has a set of fragments. These fragments are extracted by first parsing the inputs to be mutated."
   ]
  },
  {
   "cell_type": "markdown",
   "metadata": {
    "slideshow": {
     "slide_type": "subslide"
    }
   },
   "source": [
    "### Fragment-Based Mutation\n",
    "\n",
    "We can use the fragments in the fragment pool to generate new inputs. Every seed that is being mutated is disassembled into fragments, and memoized – i.e., disassembled only the first time around."
   ]
  },
  {
   "cell_type": "code",
   "execution_count": 37,
   "metadata": {
    "execution": {
     "iopub.execute_input": "2023-01-07T14:37:22.531487Z",
     "iopub.status.busy": "2023-01-07T14:37:22.531128Z",
     "iopub.status.idle": "2023-01-07T14:37:22.532558Z",
     "shell.execute_reply": "2023-01-07T14:37:22.532880Z"
    },
    "slideshow": {
     "slide_type": "subslide"
    }
   },
   "outputs": [],
   "source": [
    "class FragmentMutator(FragmentMutator):\n",
    "    def __init__(self, parser: EarleyParser) -> None:\n",
    "        \"\"\"Initialize mutators\"\"\"\n",
    "        super().__init__(parser)\n",
    "        self.seen_seeds: List[SeedWithStructure] = []\n",
    "\n",
    "    def mutate(self, seed: SeedWithStructure) -> SeedWithStructure:\n",
    "        \"\"\"Implement structure-aware mutation. Memoize seeds.\"\"\"\n",
    "        if seed not in self.seen_seeds:\n",
    "            self.seen_seeds.append(seed)\n",
    "            self.add_to_fragment_pool(seed)\n",
    "\n",
    "        return super().mutate(seed)"
   ]
  },
  {
   "cell_type": "markdown",
   "metadata": {
    "slideshow": {
     "slide_type": "subslide"
    }
   },
   "source": [
    "Our first structural mutation operator is `swap_fragments()`, which choses a random fragment in the given seed and substitutes it with a random fragment from the pool. We make sure that both fragments start with the same symbol. For instance, we may swap a closing tag in the seed HTML by another closing tag from the fragment pool.\n",
    "\n",
    "In order to choose a random fragment, the mutator counts all fragments (`n_count`) below the root fragment associated with the start-symbol."
   ]
  },
  {
   "cell_type": "code",
   "execution_count": 38,
   "metadata": {
    "execution": {
     "iopub.execute_input": "2023-01-07T14:37:22.535487Z",
     "iopub.status.busy": "2023-01-07T14:37:22.535051Z",
     "iopub.status.idle": "2023-01-07T14:37:22.536444Z",
     "shell.execute_reply": "2023-01-07T14:37:22.536904Z"
    },
    "slideshow": {
     "slide_type": "subslide"
    }
   },
   "outputs": [],
   "source": [
    "class FragmentMutator(FragmentMutator):\n",
    "    def count_nodes(self, fragment: DerivationTree) -> int:\n",
    "        \"\"\"Returns the number of nodes in the fragment\"\"\"\n",
    "        symbol, children = fragment\n",
    "        if self.is_excluded(symbol):\n",
    "            return 0\n",
    "\n",
    "        assert children is not None\n",
    "        return 1 + sum(map(self.count_nodes, children))"
   ]
  },
  {
   "cell_type": "markdown",
   "metadata": {
    "slideshow": {
     "slide_type": "fragment"
    }
   },
   "source": [
    "In order to swap the chosen fragment – identified using the \"global\" variable `self.to_swap` – the seed's parse tree is traversed recursively."
   ]
  },
  {
   "cell_type": "code",
   "execution_count": 39,
   "metadata": {
    "execution": {
     "iopub.execute_input": "2023-01-07T14:37:22.539600Z",
     "iopub.status.busy": "2023-01-07T14:37:22.539208Z",
     "iopub.status.idle": "2023-01-07T14:37:22.540555Z",
     "shell.execute_reply": "2023-01-07T14:37:22.540823Z"
    },
    "slideshow": {
     "slide_type": "subslide"
    }
   },
   "outputs": [],
   "source": [
    "class FragmentMutator(FragmentMutator):\n",
    "    def recursive_swap(self, fragment: DerivationTree) -> DerivationTree:\n",
    "        \"\"\"Recursively finds the fragment to swap.\"\"\"\n",
    "        symbol, children = fragment\n",
    "        if self.is_excluded(symbol):\n",
    "            return symbol, children\n",
    "\n",
    "        self.to_swap -= 1\n",
    "        if self.to_swap == 0: \n",
    "            return random.choice(list(self.fragments[symbol]))\n",
    "\n",
    "        assert children is not None\n",
    "        return symbol, list(map(self.recursive_swap, children))"
   ]
  },
  {
   "cell_type": "markdown",
   "metadata": {
    "slideshow": {
     "slide_type": "subslide"
    }
   },
   "source": [
    "Our structural mutator chooses a random number between 2 (i.e., excluding the `start` symbol) and the total number of fragments (`n_count`) and uses the recursive swapping to generate the new fragment. The new fragment is serialized as string and returned as new seed."
   ]
  },
  {
   "cell_type": "code",
   "execution_count": 40,
   "metadata": {
    "execution": {
     "iopub.execute_input": "2023-01-07T14:37:22.543579Z",
     "iopub.status.busy": "2023-01-07T14:37:22.543222Z",
     "iopub.status.idle": "2023-01-07T14:37:22.544518Z",
     "shell.execute_reply": "2023-01-07T14:37:22.544788Z"
    },
    "slideshow": {
     "slide_type": "subslide"
    }
   },
   "outputs": [],
   "source": [
    "class FragmentMutator(FragmentMutator):\n",
    "    def __init__(self, parser: EarleyParser) -> None:  # type: ignore\n",
    "        super().__init__(parser)\n",
    "        self.mutators = [self.swap_fragment]  # type: ignore\n",
    "\n",
    "    def swap_fragment(self, seed: SeedWithStructure) -> SeedWithStructure:\n",
    "        \"\"\"Substitutes a random fragment with another with the same symbol\"\"\"\n",
    "        if seed.has_structure:  # type: ignore\n",
    "            n_nodes = self.count_nodes(seed.structure)\n",
    "            self.to_swap = random.randint(2, n_nodes)\n",
    "            new_structure = self.recursive_swap(seed.structure)\n",
    "\n",
    "            new_seed = SeedWithStructure(tree_to_string(new_structure))\n",
    "            new_seed.has_structure = True\n",
    "            new_seed.structure = new_structure\n",
    "            return new_seed\n",
    "\n",
    "        return seed"
   ]
  },
  {
   "cell_type": "code",
   "execution_count": 41,
   "metadata": {
    "execution": {
     "iopub.execute_input": "2023-01-07T14:37:22.631673Z",
     "iopub.status.busy": "2023-01-07T14:37:22.552590Z",
     "iopub.status.idle": "2023-01-07T14:37:22.636849Z",
     "shell.execute_reply": "2023-01-07T14:37:22.637095Z"
    },
    "slideshow": {
     "slide_type": "subslide"
    }
   },
   "outputs": [
    {
     "name": "stdout",
     "output_type": "stream",
     "text": [
      "<html><head><title>Hello</title></head><body>World<br/></body></html>\n"
     ]
    },
    {
     "data": {
      "text/plain": [
       "<html><head><title>Hello</title></head><body>World<br/></body></head>"
      ]
     },
     "execution_count": 41,
     "metadata": {},
     "output_type": "execute_result"
    }
   ],
   "source": [
    "valid_seed = SeedWithStructure(\n",
    "    \"<html><head><title>Hello</title></head><body>World<br/></body></html>\")\n",
    "lf_mutator = FragmentMutator(parser)\n",
    "print(valid_seed)\n",
    "lf_mutator.mutate(valid_seed)"
   ]
  },
  {
   "cell_type": "markdown",
   "metadata": {
    "slideshow": {
     "slide_type": "fragment"
    }
   },
   "source": [
    "As we can see, one fragment has been substituted by another. \n",
    "\n",
    "We can use a similar recursive traversal to *remove* a random fragment."
   ]
  },
  {
   "cell_type": "code",
   "execution_count": 42,
   "metadata": {
    "execution": {
     "iopub.execute_input": "2023-01-07T14:37:22.639845Z",
     "iopub.status.busy": "2023-01-07T14:37:22.639494Z",
     "iopub.status.idle": "2023-01-07T14:37:22.640610Z",
     "shell.execute_reply": "2023-01-07T14:37:22.640798Z"
    },
    "slideshow": {
     "slide_type": "subslide"
    }
   },
   "outputs": [],
   "source": [
    "class FragmentMutator(FragmentMutator):\n",
    "    def recursive_delete(self, fragment: DerivationTree) -> DerivationTree:\n",
    "        \"\"\"Recursively finds the fragment to delete\"\"\"\n",
    "        symbol, children = fragment\n",
    "        if self.is_excluded(symbol):\n",
    "            return symbol, children\n",
    "\n",
    "        self.to_delete -= 1\n",
    "        if self.to_delete == 0:\n",
    "            return symbol, []\n",
    "\n",
    "        assert children is not None\n",
    "        return symbol, list(map(self.recursive_delete, children))"
   ]
  },
  {
   "cell_type": "markdown",
   "metadata": {
    "slideshow": {
     "slide_type": "fragment"
    }
   },
   "source": [
    "We should also define the corresponding structural deletion operator, as well."
   ]
  },
  {
   "cell_type": "code",
   "execution_count": 43,
   "metadata": {
    "execution": {
     "iopub.execute_input": "2023-01-07T14:37:22.643688Z",
     "iopub.status.busy": "2023-01-07T14:37:22.643379Z",
     "iopub.status.idle": "2023-01-07T14:37:22.644548Z",
     "shell.execute_reply": "2023-01-07T14:37:22.644764Z"
    },
    "slideshow": {
     "slide_type": "subslide"
    }
   },
   "outputs": [],
   "source": [
    "class FragmentMutator(FragmentMutator):\n",
    "    def __init__(self, parser):  # type: ignore\n",
    "        super().__init__(parser)\n",
    "        self.mutators.append(self.delete_fragment)\n",
    "\n",
    "    def delete_fragment(self, seed: SeedWithStructure) -> SeedWithStructure:\n",
    "        \"\"\"Delete a random fragment\"\"\"\n",
    "        if seed.has_structure:\n",
    "            n_nodes = self.count_nodes(seed.structure)\n",
    "            self.to_delete = random.randint(2, n_nodes)\n",
    "            new_structure = self.recursive_delete(seed.structure)\n",
    "\n",
    "            new_seed = SeedWithStructure(tree_to_string(new_structure))\n",
    "            new_seed.has_structure = True\n",
    "            new_seed.structure = new_structure\n",
    "            # do not return an empty new_seed\n",
    "            if not new_seed.data:\n",
    "                return seed\n",
    "            else:\n",
    "                return new_seed\n",
    "\n",
    "        return seed"
   ]
  },
  {
   "cell_type": "markdown",
   "metadata": {
    "slideshow": {
     "slide_type": "subslide"
    }
   },
   "source": [
    "***Summary***. We now have all ingredients for structure-aware fuzzing. Our mutator disassembles all seeds into fragments, which are then added to the fragment pool. Our mutator swaps random fragments in a given seed with fragments of the same type. And our mutator deletes random fragments in a given seed. This allows to maintain a high degree of validity for the generated inputs w.r.t. the given grammar.\n",
    "\n",
    "***Try it***. Try adding other structural mutation operators. How would an *add-operator* know the position in a given seed file, where it is okay to add a fragment starting with a certain symbol?"
   ]
  },
  {
   "attachments": {},
   "cell_type": "markdown",
   "metadata": {
    "slideshow": {
     "slide_type": "subslide"
    }
   },
   "source": [
    "### Fragment-Based Fuzzing\n",
    "\n",
    "We can now define an input-structure aware fuzzer as pioneered in LangFuzz. To implement LangFuzz, we modify our [blackbox mutational fuzzer](GreyboxFuzzer.ipynb#Blackbox-Mutation-based-Fuzzer) to stack up to four structural mutations."
   ]
  },
  {
   "cell_type": "code",
   "execution_count": 44,
   "metadata": {
    "execution": {
     "iopub.execute_input": "2023-01-07T14:37:22.647010Z",
     "iopub.status.busy": "2023-01-07T14:37:22.646695Z",
     "iopub.status.idle": "2023-01-07T14:37:22.647792Z",
     "shell.execute_reply": "2023-01-07T14:37:22.647988Z"
    },
    "slideshow": {
     "slide_type": "subslide"
    }
   },
   "outputs": [],
   "source": [
    "class LangFuzzer(AdvancedMutationFuzzer):\n",
    "    \"\"\"Blackbox fuzzer mutating input fragments. Roughly based on `LangFuzz`.\"\"\"\n",
    "\n",
    "    def create_candidate(self) -> Seed:  # type: ignore\n",
    "        \"\"\"Returns an input generated by fuzzing a seed in the population\"\"\"\n",
    "        candidate = self.schedule.choose(self.population)\n",
    "        trials = random.randint(1, 4)\n",
    "        for i in range(trials):\n",
    "            candidate = self.mutator.mutate(candidate)\n",
    "\n",
    "        return candidate"
   ]
  },
  {
   "cell_type": "markdown",
   "metadata": {
    "slideshow": {
     "slide_type": "fragment"
    }
   },
   "source": [
    "Okay, let's take our first input-structure aware fuzzer for a spin. Being careful, we set n=300 for now."
   ]
  },
  {
   "cell_type": "code",
   "execution_count": 45,
   "metadata": {
    "execution": {
     "iopub.execute_input": "2023-01-07T14:37:22.740534Z",
     "iopub.status.busy": "2023-01-07T14:37:22.697464Z",
     "iopub.status.idle": "2023-01-07T14:37:39.382000Z",
     "shell.execute_reply": "2023-01-07T14:37:39.382220Z"
    },
    "slideshow": {
     "slide_type": "subslide"
    }
   },
   "outputs": [
    {
     "data": {
      "text/plain": [
       "'It took LangFuzzer 16.73 seconds to generate and execute 300 inputs.'"
      ]
     },
     "execution_count": 45,
     "metadata": {},
     "output_type": "execute_result"
    }
   ],
   "source": [
    "n = 300\n",
    "runner = FunctionCoverageRunner(my_parser)\n",
    "mutator = FragmentMutator(EarleyParser(XML_GRAMMAR, tokens=XML_TOKENS))\n",
    "schedule = PowerSchedule()\n",
    "\n",
    "lang_fuzzer = LangFuzzer([valid_seed.data], mutator, schedule)\n",
    "\n",
    "start = time.time()\n",
    "lang_fuzzer.runs(runner, trials=n)\n",
    "end = time.time()\n",
    "\n",
    "\"It took LangFuzzer %0.2f seconds to generate and execute %d inputs.\" % (end - start, n)"
   ]
  },
  {
   "cell_type": "markdown",
   "metadata": {
    "slideshow": {
     "slide_type": "subslide"
    }
   },
   "source": [
    "We observe that structural mutation is *sooo very slow*. This is despite our time budget of 200ms for parsing. In contrast, our blackbox fuzzer alone can generate about 10k inputs per second!"
   ]
  },
  {
   "cell_type": "code",
   "execution_count": 46,
   "metadata": {
    "execution": {
     "iopub.execute_input": "2023-01-07T14:37:39.477637Z",
     "iopub.status.busy": "2023-01-07T14:37:39.433594Z",
     "iopub.status.idle": "2023-01-07T14:37:39.483867Z",
     "shell.execute_reply": "2023-01-07T14:37:39.484084Z"
    },
    "slideshow": {
     "slide_type": "fragment"
    }
   },
   "outputs": [
    {
     "data": {
      "text/plain": [
       "'It took a blackbox fuzzer 0.10 seconds to generate and execute 300 inputs.'"
      ]
     },
     "execution_count": 46,
     "metadata": {},
     "output_type": "execute_result"
    }
   ],
   "source": [
    "runner = FunctionCoverageRunner(my_parser)\n",
    "mutator = Mutator()\n",
    "schedule = PowerSchedule()\n",
    "\n",
    "blackFuzzer = AdvancedMutationFuzzer([valid_seed.data], mutator, schedule)\n",
    "\n",
    "start = time.time()\n",
    "blackFuzzer.runs(runner, trials=n)\n",
    "end = time.time()\n",
    "\n",
    "\"It took a blackbox fuzzer %0.2f seconds to generate and execute %d inputs.\" % (end - start, n)"
   ]
  },
  {
   "cell_type": "markdown",
   "metadata": {
    "slideshow": {
     "slide_type": "subslide"
    }
   },
   "source": [
    "Indeed, our blackbox fuzzer is done in the blink of an eye.\n",
    "\n",
    "***Try it***. We can deal with this overhead using [deferred parsing](https://arxiv.org/abs/1811.09447). Instead of wasting time in the beginning of the fuzzing campaign when a byte-level mutator would make efficient progress, deferred parsing suggests to invest time in structural mutation only later in the fuzzing campaign when it becomes viable."
   ]
  },
  {
   "cell_type": "code",
   "execution_count": 47,
   "metadata": {
    "execution": {
     "iopub.execute_input": "2023-01-07T14:37:39.486337Z",
     "iopub.status.busy": "2023-01-07T14:37:39.485969Z",
     "iopub.status.idle": "2023-01-07T14:37:39.487534Z",
     "shell.execute_reply": "2023-01-07T14:37:39.487736Z"
    },
    "slideshow": {
     "slide_type": "fragment"
    }
   },
   "outputs": [
    {
     "data": {
      "text/plain": [
       "'During this fuzzing campaign, the blackbox fuzzer covered 105 statements.'"
      ]
     },
     "execution_count": 47,
     "metadata": {},
     "output_type": "execute_result"
    }
   ],
   "source": [
    "blackbox_coverage = len(runner.coverage())\n",
    "\"During this fuzzing campaign, the blackbox fuzzer covered %d statements.\" % blackbox_coverage"
   ]
  },
  {
   "cell_type": "markdown",
   "metadata": {
    "slideshow": {
     "slide_type": "subslide"
    }
   },
   "source": [
    "Let's print some stats for our fuzzing campaigns. Since we'll need to print stats more often later, we should wrap this into a function. In order to measure coverage, we import the [population_coverage](Coverage.ipynb#Coverage-of-Basic-Fuzzing) function. It takes a set of inputs and a Python function, executes the inputs on that function and collects coverage information. Specifically, it returns a tuple `(all_coverage, cumulative_coverage)` where `all_coverage` is the set of statements covered by all inputs, and `cumulative_coverage` is the number of statements covered as the number of executed inputs increases. We are just interested in the latter to plot coverage over time."
   ]
  },
  {
   "cell_type": "code",
   "execution_count": 48,
   "metadata": {
    "execution": {
     "iopub.execute_input": "2023-01-07T14:37:39.489568Z",
     "iopub.status.busy": "2023-01-07T14:37:39.489269Z",
     "iopub.status.idle": "2023-01-07T14:37:39.490724Z",
     "shell.execute_reply": "2023-01-07T14:37:39.491063Z"
    },
    "slideshow": {
     "slide_type": "skip"
    }
   },
   "outputs": [],
   "source": [
    "from Coverage import population_coverage"
   ]
  },
  {
   "cell_type": "code",
   "execution_count": 49,
   "metadata": {
    "execution": {
     "iopub.execute_input": "2023-01-07T14:37:39.495948Z",
     "iopub.status.busy": "2023-01-07T14:37:39.494392Z",
     "iopub.status.idle": "2023-01-07T14:37:39.496455Z",
     "shell.execute_reply": "2023-01-07T14:37:39.496248Z"
    },
    "slideshow": {
     "slide_type": "subslide"
    }
   },
   "outputs": [],
   "source": [
    "def print_stats(fuzzer, parser: Parser) -> None:\n",
    "    coverage, _ = population_coverage(fuzzer.inputs, my_parser)\n",
    "\n",
    "    has_structure = 0\n",
    "    for seed in fuzzer.inputs:\n",
    "        # reuse memoized information\n",
    "        if hasattr(seed, \"has_structure\"):\n",
    "            if seed.has_structure: \n",
    "                has_structure += 1\n",
    "        else:\n",
    "            if isinstance(seed, str):\n",
    "                seed = Seed(seed)\n",
    "            try:\n",
    "                with Timeout(0.2):\n",
    "                    next(parser.parse(seed.data))  # type: ignore\n",
    "                has_structure += 1\n",
    "            except (SyntaxError, TimeoutError):\n",
    "                pass\n",
    "\n",
    "    print(\"From the %d generated inputs, %d (%0.2f%%) can be parsed.\\n\"\n",
    "          \"In total, %d statements are covered.\" % (\n",
    "            len(fuzzer.inputs),\n",
    "            has_structure,\n",
    "            100 * has_structure / len(fuzzer.inputs),\n",
    "            len(coverage)))"
   ]
  },
  {
   "cell_type": "markdown",
   "metadata": {
    "slideshow": {
     "slide_type": "subslide"
    }
   },
   "source": [
    "For LangFuzzer, let's see how many of the inputs generated by LangFuzz are valid (i.e., parsable) and how many statements were covered."
   ]
  },
  {
   "cell_type": "code",
   "execution_count": 50,
   "metadata": {
    "execution": {
     "iopub.execute_input": "2023-01-07T14:37:39.601006Z",
     "iopub.status.busy": "2023-01-07T14:37:39.591149Z",
     "iopub.status.idle": "2023-01-07T14:37:39.602489Z",
     "shell.execute_reply": "2023-01-07T14:37:39.602739Z"
    },
    "slideshow": {
     "slide_type": "fragment"
    }
   },
   "outputs": [
    {
     "name": "stdout",
     "output_type": "stream",
     "text": [
      "From the 300 generated inputs, 169 (56.33%) can be parsed.\n",
      "In total, 91 statements are covered.\n"
     ]
    }
   ],
   "source": [
    "print_stats(lang_fuzzer, EarleyParser(XML_GRAMMAR, tokens=XML_TOKENS))"
   ]
  },
  {
   "cell_type": "markdown",
   "metadata": {
    "slideshow": {
     "slide_type": "fragment"
    }
   },
   "source": [
    "What are the stats for the mutational fuzzer that uses only byte-level mutation (and no grammars)?"
   ]
  },
  {
   "cell_type": "code",
   "execution_count": 51,
   "metadata": {
    "execution": {
     "iopub.execute_input": "2023-01-07T14:37:39.660114Z",
     "iopub.status.busy": "2023-01-07T14:37:39.616334Z",
     "iopub.status.idle": "2023-01-07T14:37:45.096804Z",
     "shell.execute_reply": "2023-01-07T14:37:45.097167Z"
    },
    "slideshow": {
     "slide_type": "fragment"
    }
   },
   "outputs": [
    {
     "name": "stdout",
     "output_type": "stream",
     "text": [
      "From the 300 generated inputs, 31 (10.33%) can be parsed.\n",
      "In total, 149 statements are covered.\n"
     ]
    }
   ],
   "source": [
    "print_stats(blackFuzzer, EarleyParser(XML_GRAMMAR, tokens=XML_TOKENS))"
   ]
  },
  {
   "cell_type": "markdown",
   "metadata": {
    "slideshow": {
     "slide_type": "subslide"
    }
   },
   "source": [
    "***Summary***. Our fragment-level blackbox fuzzer (LangFuzzer) generates *more valid inputs* but achieves *less code coverage* than a fuzzer with our byte-level fuzzer. So, there is some value in generating inputs that do not stick to the provided grammar. "
   ]
  },
  {
   "cell_type": "markdown",
   "metadata": {
    "slideshow": {
     "slide_type": "subslide"
    }
   },
   "source": [
    "### Integration with Greybox Fuzzing\n",
    "\n",
    "In the following we integrate fragment-level blackbox fuzzing (LangFuzz-style) with [byte-level greybox fuzzing](GreyboxFuzzer.ipynb#Greybox-Mutation-based-Fuzzer) (AFL-style). The additional coverage-feedback might allow us to increase code coverage more quickly.\n",
    "\n",
    "A [greybox fuzzer](GreyboxFuzzer.ipynb#Greybox-Mutation-based-Fuzzer) adds to the seed population all generated inputs which increase code coverage. Inputs are generated in two stages, stacking up to four structural mutations and up to 32 byte-level mutations."
   ]
  },
  {
   "cell_type": "code",
   "execution_count": 52,
   "metadata": {
    "execution": {
     "iopub.execute_input": "2023-01-07T14:37:45.100790Z",
     "iopub.status.busy": "2023-01-07T14:37:45.100494Z",
     "iopub.status.idle": "2023-01-07T14:37:45.101883Z",
     "shell.execute_reply": "2023-01-07T14:37:45.102096Z"
    },
    "slideshow": {
     "slide_type": "subslide"
    }
   },
   "outputs": [],
   "source": [
    "class GreyboxGrammarFuzzer(GreyboxFuzzer):\n",
    "    \"\"\"Greybox fuzzer using grammars.\"\"\"\n",
    "\n",
    "    def __init__(self, seeds: List[str],\n",
    "                 byte_mutator: Mutator, tree_mutator: FragmentMutator,\n",
    "                 schedule: PowerSchedule) -> None:\n",
    "        \"\"\"Constructor.\n",
    "        `seeds` - set of inputs to mutate.\n",
    "        `byte_mutator` - a byte-level mutator.\n",
    "        `tree_mutator` = a tree-level mutator.\n",
    "        `schedule` - a power schedule.\n",
    "        \"\"\"\n",
    "        super().__init__(seeds, byte_mutator, schedule)\n",
    "        self.tree_mutator = tree_mutator\n",
    "\n",
    "    def create_candidate(self) -> str:\n",
    "        \"\"\"Returns an input generated by structural mutation \n",
    "           of a seed in the population\"\"\"\n",
    "        seed = cast(SeedWithStructure, self.schedule.choose(self.population))\n",
    "\n",
    "        # Structural mutation\n",
    "        trials = random.randint(0, 4)\n",
    "        for i in range(trials):\n",
    "            seed = self.tree_mutator.mutate(seed)\n",
    "\n",
    "        # Byte-level mutation\n",
    "        candidate = seed.data\n",
    "        if trials == 0 or not seed.has_structure or random.randint(0, 1) == 1:\n",
    "            dumb_trials = min(len(seed.data), 1 << random.randint(1, 5))\n",
    "            for i in range(dumb_trials):\n",
    "                candidate = self.mutator.mutate(candidate)\n",
    "\n",
    "        return candidate"
   ]
  },
  {
   "cell_type": "markdown",
   "metadata": {
    "slideshow": {
     "slide_type": "subslide"
    }
   },
   "source": [
    "Let's run our integrated fuzzer with the [standard byte-level mutator](GreyboxFuzzer.ipynb#Mutator-and-Seed) and our [fragment-based structural mutator](#Fragment-based-Mutation) that was introduced above."
   ]
  },
  {
   "cell_type": "code",
   "execution_count": 53,
   "metadata": {
    "execution": {
     "iopub.execute_input": "2023-01-07T14:37:45.159951Z",
     "iopub.status.busy": "2023-01-07T14:37:45.109360Z",
     "iopub.status.idle": "2023-01-07T14:37:46.660590Z",
     "shell.execute_reply": "2023-01-07T14:37:46.660970Z"
    },
    "slideshow": {
     "slide_type": "subslide"
    }
   },
   "outputs": [
    {
     "data": {
      "text/plain": [
       "'It took the greybox grammar fuzzer 1.55 seconds to generate and execute 300 inputs.'"
      ]
     },
     "execution_count": 53,
     "metadata": {},
     "output_type": "execute_result"
    }
   ],
   "source": [
    "runner = FunctionCoverageRunner(my_parser)\n",
    "byte_mutator = Mutator()\n",
    "tree_mutator = FragmentMutator(EarleyParser(XML_GRAMMAR, tokens=XML_TOKENS))\n",
    "schedule = PowerSchedule()\n",
    "\n",
    "gg_fuzzer = GreyboxGrammarFuzzer([valid_seed.data], byte_mutator, tree_mutator, schedule)\n",
    "\n",
    "start = time.time()\n",
    "gg_fuzzer.runs(runner, trials=n)\n",
    "end = time.time()\n",
    "\n",
    "\"It took the greybox grammar fuzzer %0.2f seconds to generate and execute %d inputs.\" % (end - start, n)"
   ]
  },
  {
   "cell_type": "code",
   "execution_count": 54,
   "metadata": {
    "execution": {
     "iopub.execute_input": "2023-01-07T14:37:46.801448Z",
     "iopub.status.busy": "2023-01-07T14:37:46.711891Z",
     "iopub.status.idle": "2023-01-07T14:37:47.370870Z",
     "shell.execute_reply": "2023-01-07T14:37:47.371201Z"
    },
    "slideshow": {
     "slide_type": "subslide"
    }
   },
   "outputs": [
    {
     "name": "stdout",
     "output_type": "stream",
     "text": [
      "From the 300 generated inputs, 2 (0.67%) can be parsed.\n",
      "In total, 169 statements are covered.\n"
     ]
    }
   ],
   "source": [
    "print_stats(gg_fuzzer, EarleyParser(XML_GRAMMAR, tokens=XML_TOKENS))"
   ]
  },
  {
   "cell_type": "markdown",
   "metadata": {
    "slideshow": {
     "slide_type": "subslide"
    }
   },
   "source": [
    "***Summary***. Our structural greybox fuzzer \n",
    "* runs faster than the fragment-based LangFuzzer,\n",
    "* achieves more coverage than both the fragment-based LangFuzzer and the vanilla blackbox mutational fuzzer, and\n",
    "* generates fewer valid inputs than even the vanilla blackbox mutational fuzzer."
   ]
  },
  {
   "cell_type": "markdown",
   "metadata": {
    "slideshow": {
     "slide_type": "slide"
    },
    "toc-hr-collapsed": false
   },
   "source": [
    "## Fuzzing with Input Regions\n",
    "\n",
    "In the previous section, we have seen that most inputs that are added as seeds are *invalid* w.r.t. our given grammar. Yet, in order to apply our fragment-based mutators, we need it to parse the seed successfully. Otherwise, the entire fragment-based approach becomes useless.  The question arises: *How can we derive structure from (invalid) seeds that cannot be parsed successfully?*\n",
    "\n",
    "To this end, we introduce the idea of _region-based mutation_, first explored with the [AFLSmart](https://github.com/aflsmart/aflsmart) structural greybox fuzzer \\cite{Pham2018aflsmart}. AFLSmart implements byte-level, fragment-based, and region-based mutation as well as validity-based power schedules. We define *region-based mutators*, where a *region* is a consecutive sequence of bytes in the input that can be associated with a symbol in the grammar."
   ]
  },
  {
   "cell_type": "markdown",
   "metadata": {
    "slideshow": {
     "slide_type": "subslide"
    }
   },
   "source": [
    "The basic idea of fuzzing with input regions is shown in the following diagram. After _parsing_ an input (into a derivation tree), we can identify _regions_ associated with specific subtrees of the derivation tree. These regions can then be deleted or swapped.\n",
    "\n",
    "![](PICS/GreyboxGrammarFuzzer-Regions.gif)"
   ]
  },
  {
   "cell_type": "markdown",
   "metadata": {
    "slideshow": {
     "slide_type": "fragment"
    }
   },
   "source": [
    "Such regions can also be determined even if the input is incomplete or invalid, allowing for robust parsing."
   ]
  },
  {
   "cell_type": "markdown",
   "metadata": {
    "slideshow": {
     "slide_type": "subslide"
    }
   },
   "source": [
    "### Determining Symbol Regions\n",
    "\n",
    "How can we obtain regions for a given input? The function `chart_parse()` of the [Earley parser](Parser.ipynb#The-Parsing-Algorithm) produces a _parse table_ for a string. For each letter in the string, this table gives the potential symbol and a *region* of neighboring letters that might belong to the same symbol."
   ]
  },
  {
   "cell_type": "code",
   "execution_count": 55,
   "metadata": {
    "code_folding": [],
    "execution": {
     "iopub.execute_input": "2023-01-07T14:37:47.436842Z",
     "iopub.status.busy": "2023-01-07T14:37:47.436454Z",
     "iopub.status.idle": "2023-01-07T14:37:47.437720Z",
     "shell.execute_reply": "2023-01-07T14:37:47.437926Z"
    },
    "slideshow": {
     "slide_type": "subslide"
    }
   },
   "outputs": [
    {
     "name": "stdout",
     "output_type": "stream",
     "text": [
      "None chart[0]\n",
      "\n",
      "---\n",
      "< chart[1]\n",
      "\n",
      "---\n",
      "h chart[2]\n",
      "<letter>:= h |(1,2)\n",
      "<id>:= <letter> |(1,2)\n",
      "---\n",
      "t chart[3]\n",
      "<letter>:= t |(2,3)\n",
      "<id>:= <id> <letter> |(1,3)\n",
      "---\n",
      "m chart[4]\n",
      "<letter>:= m |(3,4)\n",
      "<id>:= <id> <letter> |(1,4)\n",
      "---\n",
      "l chart[5]\n",
      "<letter>:= l |(4,5)\n",
      "<id>:= <id> <letter> |(1,5)\n",
      "---\n",
      "> chart[6]\n",
      "<xml-open-tag>:= < <id> > |(0,6)\n",
      "---\n",
      "< chart[7]\n",
      "\n",
      "---\n",
      "b chart[8]\n",
      "<letter>:= b |(7,8)\n",
      "<id>:= <letter> |(7,8)\n",
      "---\n",
      "o chart[9]\n",
      "<letter>:= o |(8,9)\n",
      "<id>:= <id> <letter> |(7,9)\n",
      "---\n",
      "d chart[10]\n",
      "<letter>:= d |(9,10)\n",
      "<id>:= <id> <letter> |(7,10)\n",
      "---\n",
      "y chart[11]\n",
      "<letter>:= y |(10,11)\n",
      "<id>:= <id> <letter> |(7,11)\n",
      "---\n",
      "> chart[12]\n",
      "<xml-open-tag>:= < <id> > |(6,12)\n",
      "---\n",
      "< chart[13]\n",
      "\n",
      "---\n",
      "i chart[14]\n",
      "<letter>:= i |(13,14)\n",
      "<id>:= <letter> |(13,14)\n",
      "---\n",
      "> chart[15]\n",
      "<xml-open-tag>:= < <id> > |(12,15)\n",
      "---\n",
      "W chart[16]\n",
      "<letter_space>:= W |(15,16)\n",
      "<text>:= <letter_space> |(15,16)\n",
      "<xml-tree>:= <text> |(15,16)\n",
      "---\n",
      "o chart[17]\n",
      "<letter_space>:= o |(16,17)\n",
      "<text>:= <text> <letter_space> |(15,17)\n",
      "<text>:= <letter_space> |(16,17)\n",
      "<xml-tree>:= <text> |(15,17)\n",
      "<xml-tree>:= <text> |(16,17)\n",
      "<xml-tree>:= <xml-tree> <xml-tree> |(15,17)\n",
      "---\n",
      "r chart[18]\n",
      "<letter_space>:= r |(17,18)\n",
      "<text>:= <text> <letter_space> |(15,18)\n",
      "<text>:= <text> <letter_space> |(16,18)\n",
      "<text>:= <letter_space> |(17,18)\n",
      "<xml-tree>:= <text> |(15,18)\n",
      "<xml-tree>:= <text> |(16,18)\n",
      "<xml-tree>:= <text> |(17,18)\n",
      "<xml-tree>:= <xml-tree> <xml-tree> |(15,18)\n",
      "<xml-tree>:= <xml-tree> <xml-tree> |(16,18)\n",
      "---\n",
      "l chart[19]\n",
      "<letter_space>:= l |(18,19)\n",
      "<text>:= <text> <letter_space> |(15,19)\n",
      "<text>:= <text> <letter_space> |(16,19)\n",
      "<text>:= <text> <letter_space> |(17,19)\n",
      "<text>:= <letter_space> |(18,19)\n",
      "<xml-tree>:= <text> |(15,19)\n",
      "<xml-tree>:= <text> |(16,19)\n",
      "<xml-tree>:= <text> |(17,19)\n",
      "<xml-tree>:= <text> |(18,19)\n",
      "<xml-tree>:= <xml-tree> <xml-tree> |(15,19)\n",
      "<xml-tree>:= <xml-tree> <xml-tree> |(16,19)\n",
      "<xml-tree>:= <xml-tree> <xml-tree> |(17,19)\n",
      "---\n",
      "d chart[20]\n",
      "<letter_space>:= d |(19,20)\n",
      "<text>:= <text> <letter_space> |(15,20)\n",
      "<text>:= <text> <letter_space> |(16,20)\n",
      "<text>:= <text> <letter_space> |(17,20)\n",
      "<text>:= <text> <letter_space> |(18,20)\n",
      "<text>:= <letter_space> |(19,20)\n",
      "<xml-tree>:= <text> |(15,20)\n",
      "<xml-tree>:= <text> |(16,20)\n",
      "<xml-tree>:= <text> |(17,20)\n",
      "<xml-tree>:= <text> |(18,20)\n",
      "<xml-tree>:= <text> |(19,20)\n",
      "<xml-tree>:= <xml-tree> <xml-tree> |(15,20)\n",
      "<xml-tree>:= <xml-tree> <xml-tree> |(16,20)\n",
      "<xml-tree>:= <xml-tree> <xml-tree> |(17,20)\n",
      "<xml-tree>:= <xml-tree> <xml-tree> |(18,20)\n",
      "---\n",
      "< chart[21]\n",
      "\n",
      "---\n",
      "/ chart[22]\n",
      "\n",
      "---\n",
      "i chart[23]\n",
      "<letter>:= i |(22,23)\n",
      "<id>:= <letter> |(22,23)\n",
      "---\n",
      "> chart[24]\n",
      "<xml-close-tag>:= < / <id> > |(20,24)\n",
      "<xml-tree>:= <xml-open-tag> <xml-tree> <xml-close-tag> |(12,24)\n",
      "---\n",
      "< chart[25]\n",
      "\n",
      "---\n",
      "b chart[26]\n",
      "<letter>:= b |(25,26)\n",
      "<id>:= <letter> |(25,26)\n",
      "---\n",
      "r chart[27]\n",
      "<letter>:= r |(26,27)\n",
      "<id>:= <id> <letter> |(25,27)\n",
      "---\n",
      "/ chart[28]\n",
      "\n",
      "---\n",
      "> chart[29]\n",
      "<xml-openclose-tag>:= < <id> / > |(24,29)\n",
      "<xml-tree>:= <xml-openclose-tag> |(24,29)\n",
      "<xml-tree>:= <xml-tree> <xml-tree> |(12,29)\n",
      "---\n",
      "> chart[30]\n",
      "\n",
      "---\n",
      "/ chart[31]\n",
      "\n",
      "---\n",
      "b chart[32]\n",
      "\n",
      "---\n",
      "o chart[33]\n",
      "\n",
      "---\n",
      "d chart[34]\n",
      "\n",
      "---\n",
      "y chart[35]\n",
      "\n",
      "---\n",
      "> chart[36]\n",
      "\n",
      "---\n",
      "< chart[37]\n",
      "\n",
      "---\n",
      "/ chart[38]\n",
      "\n",
      "---\n",
      "h chart[39]\n",
      "\n",
      "---\n",
      "t chart[40]\n",
      "\n",
      "---\n",
      "m chart[41]\n",
      "\n",
      "---\n",
      "l chart[42]\n",
      "\n",
      "---\n",
      "> chart[43]\n",
      "\n",
      "---\n"
     ]
    }
   ],
   "source": [
    "invalid_seed = Seed(\"<html><body><i>World</i><br/>>/body></html>\")\n",
    "parser = EarleyParser(XML_GRAMMAR, tokens=XML_TOKENS)\n",
    "table = parser.chart_parse(invalid_seed.data, parser.start_symbol())\n",
    "for column in table:\n",
    "    print(column)\n",
    "    print(\"---\")"
   ]
  },
  {
   "cell_type": "markdown",
   "metadata": {
    "slideshow": {
     "slide_type": "subslide"
    }
   },
   "source": [
    "The number of columns in this table that are associated with potential symbols correspond to the number of letters that could be parsed successfully. In other words, we can use this table to compute the longest parsable substring."
   ]
  },
  {
   "cell_type": "code",
   "execution_count": 56,
   "metadata": {
    "execution": {
     "iopub.execute_input": "2023-01-07T14:37:47.440374Z",
     "iopub.status.busy": "2023-01-07T14:37:47.439227Z",
     "iopub.status.idle": "2023-01-07T14:37:47.442081Z",
     "shell.execute_reply": "2023-01-07T14:37:47.442352Z"
    },
    "slideshow": {
     "slide_type": "fragment"
    }
   },
   "outputs": [
    {
     "name": "stdout",
     "output_type": "stream",
     "text": [
      "'<html><body><i>World</i><br/>>/body></html>'\n"
     ]
    },
    {
     "data": {
      "text/plain": [
       "'<html><body><i>World</i><br/>'"
      ]
     },
     "execution_count": 56,
     "metadata": {},
     "output_type": "execute_result"
    }
   ],
   "source": [
    "cols = [col for col in table if col.states]\n",
    "parsable = invalid_seed.data[:len(cols)-1]\n",
    "\n",
    "print(\"'%s'\" % invalid_seed)\n",
    "parsable"
   ]
  },
  {
   "cell_type": "markdown",
   "metadata": {
    "slideshow": {
     "slide_type": "fragment"
    }
   },
   "source": [
    "From this, we can compute the *degree of validity* for an input."
   ]
  },
  {
   "cell_type": "code",
   "execution_count": 57,
   "metadata": {
    "execution": {
     "iopub.execute_input": "2023-01-07T14:37:47.444799Z",
     "iopub.status.busy": "2023-01-07T14:37:47.444340Z",
     "iopub.status.idle": "2023-01-07T14:37:47.446101Z",
     "shell.execute_reply": "2023-01-07T14:37:47.446435Z"
    },
    "slideshow": {
     "slide_type": "subslide"
    }
   },
   "outputs": [
    {
     "data": {
      "text/plain": [
       "'67.4% of the string can be parsed successfully.'"
      ]
     },
     "execution_count": 57,
     "metadata": {},
     "output_type": "execute_result"
    }
   ],
   "source": [
    "validity = 100 * len(parsable) / len(invalid_seed.data)\n",
    "\n",
    "\"%0.1f%% of the string can be parsed successfully.\" % validity"
   ]
  },
  {
   "cell_type": "markdown",
   "metadata": {
    "slideshow": {
     "slide_type": "subslide"
    }
   },
   "source": [
    "***Summary***. Unlike input fragments, input regions can be derived even if the parser fails to generate the entire parse tree."
   ]
  },
  {
   "cell_type": "markdown",
   "metadata": {
    "slideshow": {
     "slide_type": "subslide"
    },
    "tags": []
   },
   "source": [
    "### Region-Based Mutation\n",
    "\n",
    "To fuzz invalid seeds, the region-based mutator associates symbols from the grammar with regions (i.e., indexed substrings) in the seed. The [overridden](#Building-the-Fragment-Pool) method `add_to_fragment_pool()` first tries to mine the fragments from the seed. If this fails, the region mutator uses [Earley parser](Parser.ipynb#The-Parsing-Algorithm) to derive the parse table. For each column (i.e., letter), it extracts the symbols and corresponding regions. This allows the mutator to store the set of regions with each symbol."
   ]
  },
  {
   "cell_type": "code",
   "execution_count": 58,
   "metadata": {
    "execution": {
     "iopub.execute_input": "2023-01-07T14:37:47.448895Z",
     "iopub.status.busy": "2023-01-07T14:37:47.448566Z",
     "iopub.status.idle": "2023-01-07T14:37:47.449763Z",
     "shell.execute_reply": "2023-01-07T14:37:47.450011Z"
    },
    "slideshow": {
     "slide_type": "subslide"
    }
   },
   "outputs": [],
   "source": [
    "class SeedWithRegions(SeedWithStructure):\n",
    "    \"\"\"Seeds augmented with structure info\"\"\"\n",
    "\n",
    "    def __init__(self, data: str) -> None:\n",
    "        super().__init__(data)\n",
    "        self.has_regions = False\n",
    "        self.regions: Dict[str, Set] = {}"
   ]
  },
  {
   "cell_type": "code",
   "execution_count": 59,
   "metadata": {
    "execution": {
     "iopub.execute_input": "2023-01-07T14:37:47.453140Z",
     "iopub.status.busy": "2023-01-07T14:37:47.452836Z",
     "iopub.status.idle": "2023-01-07T14:37:47.453964Z",
     "shell.execute_reply": "2023-01-07T14:37:47.454196Z"
    },
    "slideshow": {
     "slide_type": "subslide"
    }
   },
   "outputs": [],
   "source": [
    "class RegionMutator(FragmentMutator):\n",
    "    def add_to_fragment_pool(self, seed: SeedWithRegions) -> None:  # type: ignore\n",
    "        \"\"\"Mark fragments and regions in a seed file\"\"\"\n",
    "        super().add_to_fragment_pool(seed)\n",
    "        if not seed.has_structure:\n",
    "            try:\n",
    "                with Timeout(0.2):\n",
    "                    seed.regions = {k: set() for k in self.parser.cgrammar}\n",
    "                    for column in self.parser.chart_parse(seed.data,\n",
    "                                                          self.parser.start_symbol()):\n",
    "                        for state in column.states:\n",
    "                            if (not self.is_excluded(state.name) and\n",
    "                                    state.e_col.index - state.s_col.index > 1 and\n",
    "                                    state.finished()):\n",
    "                                seed.regions[state.name].add((state.s_col.index,\n",
    "                                                              state.e_col.index))\n",
    "                seed.has_regions = True\n",
    "            except TimeoutError:\n",
    "                seed.has_regions = False\n",
    "        else:\n",
    "            seed.has_regions = False"
   ]
  },
  {
   "cell_type": "markdown",
   "metadata": {
    "slideshow": {
     "slide_type": "subslide"
    }
   },
   "source": [
    "This is how these regions look like for our invalid seed. A region consists of a start and end index in the seed string."
   ]
  },
  {
   "cell_type": "code",
   "execution_count": 60,
   "metadata": {
    "execution": {
     "iopub.execute_input": "2023-01-07T14:37:47.511770Z",
     "iopub.status.busy": "2023-01-07T14:37:47.467693Z",
     "iopub.status.idle": "2023-01-07T14:37:47.528557Z",
     "shell.execute_reply": "2023-01-07T14:37:47.528769Z"
    },
    "slideshow": {
     "slide_type": "subslide"
    }
   },
   "outputs": [
    {
     "name": "stdout",
     "output_type": "stream",
     "text": [
      "<start>\n",
      "<xml-tree>\n",
      "|-(16,20) : orld\n",
      "|-(12,24) : <i>World</i>\n",
      "|-(17,20) : rld\n",
      "|-(18,20) : ld\n",
      "|-(16,19) : orl\n",
      "|-(15,17) : Wo\n",
      "|-(12,29) : <i>World</i><br/>\n",
      "|-(17,19) : rl\n",
      "|-(15,20) : World\n",
      "|-(24,29) : <br/>\n",
      "|-(15,19) : Worl\n",
      "|-(16,18) : or\n",
      "|-(15,18) : Wor\n",
      "<xml-open-tag>\n",
      "|-(6,12) : <body>\n",
      "|-(12,15) : <i>\n",
      "|-(0,6) : <html>\n",
      "<xml-openclose-tag>\n",
      "|-(24,29) : <br/>\n",
      "<xml-close-tag>\n",
      "|-(20,24) : </i>\n",
      "<xml-attribute>\n",
      "<id>\n",
      "<text>\n",
      "<letter>\n",
      "<letter_space>\n"
     ]
    }
   ],
   "source": [
    "invalid_seed = SeedWithRegions(\"<html><body><i>World</i><br/>>/body></html>\")\n",
    "mutator = RegionMutator(parser)\n",
    "mutator.add_to_fragment_pool(invalid_seed)\n",
    "for symbol in invalid_seed.regions:  # type: ignore\n",
    "    print(symbol)\n",
    "    for (s, e) in invalid_seed.regions[symbol]:  # type: ignore\n",
    "        print(\"|-(%d,%d) : %s\" % (s, e, invalid_seed.data[s:e]))"
   ]
  },
  {
   "cell_type": "markdown",
   "metadata": {
    "slideshow": {
     "slide_type": "subslide"
    }
   },
   "source": [
    "Now that we know which regions in the seed belong to which symbol, we can define region-based swap and delete operators."
   ]
  },
  {
   "cell_type": "code",
   "execution_count": 61,
   "metadata": {
    "execution": {
     "iopub.execute_input": "2023-01-07T14:37:47.531808Z",
     "iopub.status.busy": "2023-01-07T14:37:47.529921Z",
     "iopub.status.idle": "2023-01-07T14:37:47.532949Z",
     "shell.execute_reply": "2023-01-07T14:37:47.533297Z"
    },
    "slideshow": {
     "slide_type": "subslide"
    }
   },
   "outputs": [],
   "source": [
    "class RegionMutator(RegionMutator):\n",
    "    def swap_fragment(self, seed: SeedWithRegions) -> SeedWithRegions:  # type: ignore\n",
    "        \"\"\"Chooses a random region and swaps it with a fragment\n",
    "           that starts with the same symbol\"\"\"\n",
    "        if not seed.has_structure and seed.has_regions:\n",
    "            regions = [r for r in seed.regions\n",
    "                       if (len(seed.regions[r]) > 0 and\n",
    "                           len(self.fragments[r]) > 0)]\n",
    "            if len(regions) == 0:\n",
    "                return seed\n",
    "\n",
    "            key = random.choice(list(regions))\n",
    "            s, e = random.choice(list(seed.regions[key]))\n",
    "            swap_structure = random.choice(self.fragments[key])\n",
    "            swap_string = tree_to_string(swap_structure)\n",
    "            new_seed = SeedWithRegions(seed.data[:s] + swap_string + seed.data[e:])\n",
    "            new_seed.has_structure = False\n",
    "            new_seed.has_regions = False\n",
    "            return new_seed\n",
    "        else:\n",
    "            return super().swap_fragment(seed)  # type: ignore"
   ]
  },
  {
   "cell_type": "code",
   "execution_count": 62,
   "metadata": {
    "execution": {
     "iopub.execute_input": "2023-01-07T14:37:47.536319Z",
     "iopub.status.busy": "2023-01-07T14:37:47.535992Z",
     "iopub.status.idle": "2023-01-07T14:37:47.537313Z",
     "shell.execute_reply": "2023-01-07T14:37:47.537517Z"
    },
    "slideshow": {
     "slide_type": "subslide"
    }
   },
   "outputs": [],
   "source": [
    "class RegionMutator(RegionMutator):\n",
    "    def delete_fragment(self, seed: SeedWithRegions) -> SeedWithRegions:  # type: ignore\n",
    "        \"\"\"Deletes a random region\"\"\"\n",
    "        if not seed.has_structure and seed.has_regions:\n",
    "            regions = [r for r in seed.regions\n",
    "                       if len(seed.regions[r]) > 0]\n",
    "            if len(regions) == 0:\n",
    "                return seed\n",
    "\n",
    "            key = random.choice(list(regions))\n",
    "            s, e = (0, 0)\n",
    "            while (e - s < 2):\n",
    "                s, e = random.choice(list(seed.regions[key]))\n",
    "\n",
    "            new_seed = SeedWithRegions(seed.data[:s] + seed.data[e:])\n",
    "            new_seed.has_structure = False\n",
    "            new_seed.has_regions = False\n",
    "            return new_seed\n",
    "        else:\n",
    "            return super().delete_fragment(seed)  # type: ignore"
   ]
  },
  {
   "cell_type": "markdown",
   "metadata": {
    "slideshow": {
     "slide_type": "subslide"
    }
   },
   "source": [
    "Let's try our new region-based mutator. We add a simple, valid seed to the fragment pool and attempt to mutate the invalid seed."
   ]
  },
  {
   "cell_type": "code",
   "execution_count": 63,
   "metadata": {
    "execution": {
     "iopub.execute_input": "2023-01-07T14:37:47.616501Z",
     "iopub.status.busy": "2023-01-07T14:37:47.594349Z",
     "iopub.status.idle": "2023-01-07T14:37:47.618110Z",
     "shell.execute_reply": "2023-01-07T14:37:47.618417Z"
    },
    "slideshow": {
     "slide_type": "fragment"
    }
   },
   "outputs": [
    {
     "name": "stdout",
     "output_type": "stream",
     "text": [
      "<html><body><i>World</i><br/>>/body></html>\n"
     ]
    },
    {
     "data": {
      "text/plain": [
       "<html><body><i>WTextd</i><br/>>/body></html>"
      ]
     },
     "execution_count": 63,
     "metadata": {},
     "output_type": "execute_result"
    }
   ],
   "source": [
    "simple_seed = SeedWithRegions(\"<b>Text</b>\")\n",
    "mutator = RegionMutator(parser)\n",
    "mutator.add_to_fragment_pool(simple_seed)\n",
    "\n",
    "print(invalid_seed)\n",
    "mutator.mutate(invalid_seed)"
   ]
  },
  {
   "attachments": {},
   "cell_type": "markdown",
   "metadata": {
    "slideshow": {
     "slide_type": "subslide"
    }
   },
   "source": [
    "***Summary***. We can use the Earley parser to generate a parse table and assign regions in the input to symbols in the grammar. Our region mutators can substitute these regions with fragments from the fragment pool that start with the same symbol, or delete these regions entirely.\n",
    "\n",
    "***Try it***. Implement a region pool (similar to the fragment pool) and a `swap_region()` mutator.\n",
    "You can execute your own code by opening this chapter as Jupyter notebook."
   ]
  },
  {
   "cell_type": "markdown",
   "metadata": {
    "slideshow": {
     "slide_type": "subslide"
    }
   },
   "source": [
    "### Integration with Greybox Fuzzing\n",
    "\n",
    "Let's try our shiny new region mutator by integrating it with our [structure-aware greybox fuzzer](#Integration-with-Greybox-Fuzzing)."
   ]
  },
  {
   "cell_type": "code",
   "execution_count": 64,
   "metadata": {
    "execution": {
     "iopub.execute_input": "2023-01-07T14:37:47.680171Z",
     "iopub.status.busy": "2023-01-07T14:37:47.631161Z",
     "iopub.status.idle": "2023-01-07T14:37:59.950274Z",
     "shell.execute_reply": "2023-01-07T14:37:59.950629Z"
    },
    "slideshow": {
     "slide_type": "subslide"
    }
   },
   "outputs": [
    {
     "data": {
      "text/plain": [
       "'\\nIt took the structural greybox fuzzer with region mutator\\n12.33 seconds to generate and execute 300 inputs.\\n'"
      ]
     },
     "execution_count": 64,
     "metadata": {},
     "output_type": "execute_result"
    }
   ],
   "source": [
    "runner = FunctionCoverageRunner(my_parser)\n",
    "byte_mutator = Mutator()\n",
    "tree_mutator = RegionMutator(EarleyParser(XML_GRAMMAR, tokens=XML_TOKENS))\n",
    "schedule = PowerSchedule()\n",
    "\n",
    "regionFuzzer = GreyboxGrammarFuzzer([valid_seed.data], byte_mutator, tree_mutator, schedule)\n",
    "\n",
    "start = time.time()\n",
    "regionFuzzer.runs(runner, trials = n)\n",
    "end = time.time()\n",
    "\n",
    "\"\"\"\n",
    "It took the structural greybox fuzzer with region mutator\n",
    "%0.2f seconds to generate and execute %d inputs.\n",
    "\"\"\" % (end - start, n)"
   ]
  },
  {
   "cell_type": "markdown",
   "metadata": {
    "slideshow": {
     "slide_type": "subslide"
    }
   },
   "source": [
    "We can see that the structural greybox fuzzer with region-based mutator is slower than the [fragment-based mutator alone](#Fragment-based-Fuzzing). This is because region-based structural mutation is applicable for *all seeds*. In contrast, fragment-based mutators were applicable only for tiny number of parsable seeds. Otherwise, only (very efficient) byte-level mutators were applied.\n",
    "\n",
    "Let's also print the average degree of validity for the seeds in the population."
   ]
  },
  {
   "cell_type": "code",
   "execution_count": 65,
   "metadata": {
    "execution": {
     "iopub.execute_input": "2023-01-07T14:37:59.953708Z",
     "iopub.status.busy": "2023-01-07T14:37:59.953377Z",
     "iopub.status.idle": "2023-01-07T14:37:59.954772Z",
     "shell.execute_reply": "2023-01-07T14:37:59.955039Z"
    },
    "slideshow": {
     "slide_type": "subslide"
    }
   },
   "outputs": [],
   "source": [
    "def print_more_stats(fuzzer: GreyboxGrammarFuzzer, parser: EarleyParser):\n",
    "    print_stats(fuzzer, parser)\n",
    "    validity = 0.0\n",
    "    total = 0\n",
    "    for seed in fuzzer.population:\n",
    "        if not seed.data: continue\n",
    "        table = parser.chart_parse(seed.data, parser.start_symbol())\n",
    "        cols = [col for col in table if col.states]\n",
    "        parsable = invalid_seed.data[:len(cols)-1]\n",
    "        validity += len(parsable) / len(seed.data)\n",
    "        total += 1\n",
    "\n",
    "    print(\"On average, %0.1f%% of a seed in the population can be successfully parsed.\" % (100 * validity / total))"
   ]
  },
  {
   "cell_type": "code",
   "execution_count": 66,
   "metadata": {
    "execution": {
     "iopub.execute_input": "2023-01-07T14:38:00.042220Z",
     "iopub.status.busy": "2023-01-07T14:37:59.999934Z",
     "iopub.status.idle": "2023-01-07T14:38:01.388950Z",
     "shell.execute_reply": "2023-01-07T14:38:01.389208Z"
    },
    "slideshow": {
     "slide_type": "subslide"
    }
   },
   "outputs": [
    {
     "name": "stdout",
     "output_type": "stream",
     "text": [
      "From the 300 generated inputs, 5 (1.67%) can be parsed.\n",
      "In total, 170 statements are covered.\n",
      "On average, 11.5% of a seed in the population can be successfully parsed.\n"
     ]
    }
   ],
   "source": [
    "print_more_stats(regionFuzzer, parser)"
   ]
  },
  {
   "cell_type": "markdown",
   "metadata": {
    "slideshow": {
     "slide_type": "subslide"
    }
   },
   "source": [
    "***Summary***. Compared to fragment-based mutation, a greybox fuzzer with region-based mutation achieves *higher coverage* but generates a *smaller number of valid inputs*. The higher coverage is explained by leveraging at least *some* structure for seeds that cannot be parsed successfully.\n"
   ]
  },
  {
   "cell_type": "markdown",
   "metadata": {
    "slideshow": {
     "slide_type": "subslide"
    }
   },
   "source": [
    "### Focusing on Valid Seeds\n",
    "\n",
    "In the previous section, we have a problem: The low (degree of) validity.  To address this problem, a _validity-based power schedule_ assigns more [energy](GreyboxFuzzer.ipynb#Power-Schedules) to seeds that have a higher degree of validity.  In other words, the fuzzer _spends more time fuzzing seeds that are more valid_."
   ]
  },
  {
   "cell_type": "code",
   "execution_count": 67,
   "metadata": {
    "execution": {
     "iopub.execute_input": "2023-01-07T14:38:01.391587Z",
     "iopub.status.busy": "2023-01-07T14:38:01.391216Z",
     "iopub.status.idle": "2023-01-07T14:38:01.392456Z",
     "shell.execute_reply": "2023-01-07T14:38:01.392703Z"
    },
    "slideshow": {
     "slide_type": "skip"
    }
   },
   "outputs": [],
   "source": [
    "import math"
   ]
  },
  {
   "cell_type": "code",
   "execution_count": 68,
   "metadata": {
    "execution": {
     "iopub.execute_input": "2023-01-07T14:38:01.397215Z",
     "iopub.status.busy": "2023-01-07T14:38:01.396887Z",
     "iopub.status.idle": "2023-01-07T14:38:01.398064Z",
     "shell.execute_reply": "2023-01-07T14:38:01.398342Z"
    },
    "slideshow": {
     "slide_type": "subslide"
    }
   },
   "outputs": [],
   "source": [
    "class AFLSmartSchedule(PowerSchedule):\n",
    "    def __init__(self, parser: EarleyParser, exponent: float = 1.0):\n",
    "        self.parser = parser\n",
    "        self.exponent = exponent\n",
    "\n",
    "    def parsable(self, seed: Seed) -> str:\n",
    "        \"\"\"Returns the substring that is parsable\"\"\"\n",
    "        table = self.parser.chart_parse(seed.data, self.parser.start_symbol())\n",
    "        cols = [col for col in table if col.states]\n",
    "        return seed.data[:len(cols)-1]\n",
    "\n",
    "    def degree_of_validity(self, seed: Seed) -> float:\n",
    "        \"\"\"Returns the proportion of a seed that is parsable\"\"\"\n",
    "        if not hasattr(seed, 'validity'):\n",
    "            seed.validity = (len(self.parsable(seed)) / len(seed.data)  # type: ignore\n",
    "                             if len(seed.data) > 0 else 0)\n",
    "        return seed.validity  # type: ignore\n",
    "\n",
    "    def assignEnergy(self, population: Sequence[Seed]):\n",
    "        \"\"\"Assign exponential energy proportional to degree of validity\"\"\"\n",
    "        for seed in population:\n",
    "            seed.energy = ((self.degree_of_validity(seed) / math.log(len(seed.data))) ** self.exponent\n",
    "                           if len(seed.data) > 1 else 0)"
   ]
  },
  {
   "cell_type": "markdown",
   "metadata": {
    "slideshow": {
     "slide_type": "subslide"
    }
   },
   "source": [
    "Let's play with the degree of validity by passing in a valid seed ..."
   ]
  },
  {
   "cell_type": "code",
   "execution_count": 69,
   "metadata": {
    "execution": {
     "iopub.execute_input": "2023-01-07T14:38:01.407633Z",
     "iopub.status.busy": "2023-01-07T14:38:01.407275Z",
     "iopub.status.idle": "2023-01-07T14:38:01.408892Z",
     "shell.execute_reply": "2023-01-07T14:38:01.409088Z"
    },
    "slideshow": {
     "slide_type": "fragment"
    }
   },
   "outputs": [
    {
     "name": "stdout",
     "output_type": "stream",
     "text": [
      "Entire seed: <b>Text</b>\n",
      "   Parsable: <b>Text</b>\n"
     ]
    },
    {
     "data": {
      "text/plain": [
       "'Degree of validity: 100.00%'"
      ]
     },
     "execution_count": 69,
     "metadata": {},
     "output_type": "execute_result"
    }
   ],
   "source": [
    "smart_schedule = AFLSmartSchedule(parser)\n",
    "print(\"%11s: %s\" % (\"Entire seed\", simple_seed))\n",
    "print(\"%11s: %s\" % (\"Parsable\", smart_schedule.parsable(simple_seed)))\n",
    "\n",
    "\"Degree of validity: %0.2f%%\" % (100 * smart_schedule.degree_of_validity(simple_seed))"
   ]
  },
  {
   "cell_type": "markdown",
   "metadata": {
    "slideshow": {
     "slide_type": "fragment"
    }
   },
   "source": [
    "... and an invalid seed."
   ]
  },
  {
   "cell_type": "code",
   "execution_count": 70,
   "metadata": {
    "execution": {
     "iopub.execute_input": "2023-01-07T14:38:01.419066Z",
     "iopub.status.busy": "2023-01-07T14:38:01.418719Z",
     "iopub.status.idle": "2023-01-07T14:38:01.427502Z",
     "shell.execute_reply": "2023-01-07T14:38:01.427761Z"
    },
    "slideshow": {
     "slide_type": "subslide"
    }
   },
   "outputs": [
    {
     "name": "stdout",
     "output_type": "stream",
     "text": [
      "Entire seed: <html><body><i>World</i><br/>>/body></html>\n",
      "   Parsable: <html><body><i>World</i><br/>\n"
     ]
    },
    {
     "data": {
      "text/plain": [
       "'Degree of validity: 67.44%'"
      ]
     },
     "execution_count": 70,
     "metadata": {},
     "output_type": "execute_result"
    }
   ],
   "source": [
    "print(\"%11s: %s\" % (\"Entire seed\", invalid_seed))\n",
    "print(\"%11s: %s\" % (\"Parsable\", smart_schedule.parsable(invalid_seed)))\n",
    "\n",
    "\"Degree of validity: %0.2f%%\" % (100 * smart_schedule.degree_of_validity(invalid_seed))"
   ]
  },
  {
   "cell_type": "markdown",
   "metadata": {
    "slideshow": {
     "slide_type": "fragment"
    }
   },
   "source": [
    "Excellent. We can compute the degree of validity as the proportion of the string that can be parsed. \n",
    "\n",
    "Let's plug the validity-based power schedule into the structure-aware greybox fuzzer."
   ]
  },
  {
   "cell_type": "code",
   "execution_count": 71,
   "metadata": {
    "execution": {
     "iopub.execute_input": "2023-01-07T14:38:01.574915Z",
     "iopub.status.busy": "2023-01-07T14:38:01.530943Z",
     "iopub.status.idle": "2023-01-07T14:38:35.151476Z",
     "shell.execute_reply": "2023-01-07T14:38:35.151816Z"
    },
    "slideshow": {
     "slide_type": "subslide"
    }
   },
   "outputs": [
    {
     "data": {
      "text/plain": [
       "'It took AFLSmart 33.72 seconds to generate and execute 300 inputs.'"
      ]
     },
     "execution_count": 71,
     "metadata": {},
     "output_type": "execute_result"
    }
   ],
   "source": [
    "runner = FunctionCoverageRunner(my_parser)\n",
    "byte_mutator = Mutator()\n",
    "tree_mutator = RegionMutator(EarleyParser(XML_GRAMMAR, tokens=XML_TOKENS))\n",
    "schedule = AFLSmartSchedule(parser)\n",
    "\n",
    "aflsmart_fuzzer = GreyboxGrammarFuzzer([valid_seed.data], byte_mutator, \n",
    "                                       tree_mutator, schedule)\n",
    "\n",
    "start = time.time()\n",
    "aflsmart_fuzzer.runs(runner, trials=n)\n",
    "end = time.time()\n",
    "\n",
    "\"It took AFLSmart %0.2f seconds to generate and execute %d inputs.\" % (end - start, n)"
   ]
  },
  {
   "cell_type": "code",
   "execution_count": 72,
   "metadata": {
    "execution": {
     "iopub.execute_input": "2023-01-07T14:38:35.250634Z",
     "iopub.status.busy": "2023-01-07T14:38:35.209434Z",
     "iopub.status.idle": "2023-01-07T14:38:37.826404Z",
     "shell.execute_reply": "2023-01-07T14:38:37.826725Z"
    },
    "slideshow": {
     "slide_type": "subslide"
    }
   },
   "outputs": [
    {
     "name": "stdout",
     "output_type": "stream",
     "text": [
      "From the 300 generated inputs, 4 (1.33%) can be parsed.\n",
      "In total, 154 statements are covered.\n",
      "On average, 17.4% of a seed in the population can be successfully parsed.\n"
     ]
    }
   ],
   "source": [
    "print_more_stats(aflsmart_fuzzer, parser)"
   ]
  },
  {
   "attachments": {},
   "cell_type": "markdown",
   "metadata": {
    "slideshow": {
     "slide_type": "subslide"
    }
   },
   "source": [
    "***Summary***. Indeed, by spending more time fuzzing seeds with a higher degree of validity, we also generate inputs with a higher degree of validity. More inputs are entirely valid w.r.t. the given grammar.\n",
    "\n",
    "***Read up***. Learn more about region-based fuzzing, deferred parsing, and validity-based schedules in the original AFLSmart paper: \"[Smart Greybox Fuzzing](https://arxiv.org/abs/1811.09447)\" by Pham and co-authors. Download and improve AFLSmart: [https://github.com/aflsmart/aflsmart](https://github.com/aflsmart/aflsmart)."
   ]
  },
  {
   "cell_type": "markdown",
   "metadata": {
    "slideshow": {
     "slide_type": "slide"
    }
   },
   "source": [
    "## Mining Seeds\n",
    "\n",
    "By now, it should have become clear that the _choice of seeds_ can very much influence the success of fuzzing.  One aspect is _variability_ – our seeds should cover as many different features as possible in order to increase coverage.  Another aspect, however, is the _likelihood of a seed to induce errors_ – that is, if a seed was involved in causing a failure before, then a mutation of this very seed may be likely to induce failures again.  This is because fixes for past failures typically are successful in letting the concrete failure no longer occur, but sometimes may fail to capture all conditions under which a failure may occur.  Hence, even if the original failure is fixed, the likelihood of an error in the _surroundings_ of the original failure-inducing input is still higher.  It thus pays off to use as seeds _inputs that are known to have caused failures before_.\n",
    "\n",
    "To put things in context, Holler's _LangFuzz_ fuzzer used as seeds JavaScript inputs from CVE reports.  These were published as failure-inducing inputs at a time when the error already had been fixed; thus they could do no harm anymore.  Yet, by using such inputs as seeds, LangFuzz would create plenty of mutations and recombinations of all their features, many of which would (and do) find errors again and again."
   ]
  },
  {
   "cell_type": "markdown",
   "metadata": {
    "button": false,
    "new_sheet": true,
    "run_control": {
     "read_only": false
    },
    "slideshow": {
     "slide_type": "slide"
    }
   },
   "source": [
    "## Lessons Learned\n",
    "\n",
    "* A **dictionary** is useful to inject important keywords into the generated inputs.\n",
    "\n",
    "* **Fragment-based mutation** first disassembles seeds into fragments, and reassembles these fragments to generate new inputs. A *fragment* is a subtree in the seed's parse tree. However, fragment-based mutation requires that the seeds can be parsed successfully, which may not be true for seeds discovered by a coverage-based greybox fuzzer.\n",
    "\n",
    "* **Region-based mutation** marks regions in the input as belonging to a certain symbol in the grammar. For instance, it may identify a substring '</a>' as closing tag. These regions can then be deleted or substituted by fragments or regions belonging to the same symbol. Unlike fragment-based mutation, region-based mutation is applicable to *all* seeds - even those that can be parsed only partially. However, the degree of validity is still quite low for the generated inputs.\n",
    "\n",
    "* A **validity-based power schedule** invests more energy into seeds with a higher degree of validity. The inputs that are generated also have a higher degree of validity.\n",
    "\n",
    "* **Mining seeds** from repositories of previous failure-inducing inputs results in input fragments associated with past failures, raising the likelihood to find more failures in the vicinity."
   ]
  },
  {
   "cell_type": "markdown",
   "metadata": {
    "slideshow": {
     "slide_type": "slide"
    },
    "tags": []
   },
   "source": [
    "## Background\n",
    "\n",
    "This chapter builds on the following two works:\n",
    "\n",
    "* The _LangFuzz_ fuzzer \\cite{Holler2012} is an efficient (and effective!) grammar-based fuzzer for (mostly) JavaScript.  It uses the grammar for parsing seeds and recombining their inputs with generated parts and found 2,600 bugs in JavaScript interpreters to date.\n",
    "\n",
    "* Smart greybox fuzzing ([AFLSmart](https://github.com/aflsmart/aflsmart)) brings together coverage-based fuzzing and grammar-based (structural) fuzzing, as described in \\cite{Pham2018aflsmart}.  The resulting AFLSMART tool has discovered 42 zero-day vulnerabilities in widely-used, well-tested tools and libraries; so far 17 CVEs were assigned."
   ]
  },
  {
   "attachments": {},
   "cell_type": "markdown",
   "metadata": {
    "slideshow": {
     "slide_type": "slide"
    },
    "tags": []
   },
   "source": [
    "Recent fuzzing work also brings together grammar-based fuzzing and coverage.\n",
    "\n",
    "* _Superion_ \\cite{Wang2019superion} is equivalent to our section \"Integration with Greybox Fuzzing\", as above – that is, a combination of LangFuzz and Greybox Fuzzing, but no AFL-style byte-level mutation.  Superion can improve the code coverage (i.e., 16.7% and 8.8% in line and function coverage) and bug-finding capability over AFL and jsfunfuzz.  According to the authors, they found 30 new bugs, among which they discovered 21 new vulnerabilities with 16 CVEs assigned and 3.2K USD bug bounty rewards received.\n",
    "\n",
    "* _Nautilus_ \\cite{Aschermann2019nautilus} also combines grammar-based fuzzing with coverage feedback.  It maintains the parse tree for all seeds and generated inputs. To allow AFL-style byte-level mutations, it \"collapses\" subtrees back to byte-level representations.  This has the advantage of not having to re-parse generated seeds; however, over time, Nautilus degenerates to structure-unaware greybox fuzzing because it does not re-parse collapsed subtrees to reconstitute input structure for later seeds where most of the parse tree is collapsed.  Nautilus identified bugs in mruby, PHP, ChakraCore, and in Lua; reporting these bugs was awarded with a sum of 2600 USD and 6 CVEs were assigned.\n",
    "\n",
    "* [FormatFuzzer](https://uds-se.github.io/FormatFuzzer/) is a framework for high-efficiency, high-quality generation and parsing of binary inputs. It takes a binary template that describes the format of a binary input and generates an executable that produces and parses the given binary format. From a binary template for GIF, for instance, FormatFuzzer produces a GIF generator - also known as GIF fuzzer. Generators produced by FormatFuzzer are highly efficient, producing thousands of valid test inputs per second. FormatFuzzer operates in black-box settings, but can also integrate with AFL to produce valid inputs that also aim for maximum coverage."
   ]
  },
  {
   "cell_type": "markdown",
   "metadata": {
    "slideshow": {
     "slide_type": "slide"
    },
    "tags": []
   },
   "source": [
    "## Synopsis\n",
    "\n",
    "This chapter introduces advanced methods for language-based grey-box fuzzing inspired by the _LangFuzz_ and _AFLSmart_ fuzzers."
   ]
  },
  {
   "attachments": {},
   "cell_type": "markdown",
   "metadata": {
    "slideshow": {
     "slide_type": "subslide"
    }
   },
   "source": [
    "### Fuzzing with Dictionaries\n",
    "\n",
    "Rather than mutating strings randomly, the `DictMutator` class allows inserting tokens from a dictionary, thus increasing fuzzer performance. The dictionary comes as a list of strings, out of which random elements are picked and inserted - in addition to the given mutations such as deleting or inserting individual bytes."
   ]
  },
  {
   "cell_type": "code",
   "execution_count": 73,
   "metadata": {
    "execution": {
     "iopub.execute_input": "2023-01-07T14:38:37.828889Z",
     "iopub.status.busy": "2023-01-07T14:38:37.828599Z",
     "iopub.status.idle": "2023-01-07T14:38:37.829849Z",
     "shell.execute_reply": "2023-01-07T14:38:37.830034Z"
    },
    "slideshow": {
     "slide_type": "fragment"
    }
   },
   "outputs": [],
   "source": [
    "dict_mutator = DictMutator([\"<a>\", \"</a>\", \"<a/>\", \"='a'\"])"
   ]
  },
  {
   "cell_type": "code",
   "execution_count": 74,
   "metadata": {
    "execution": {
     "iopub.execute_input": "2023-01-07T14:38:37.832065Z",
     "iopub.status.busy": "2023-01-07T14:38:37.831745Z",
     "iopub.status.idle": "2023-01-07T14:38:37.832887Z",
     "shell.execute_reply": "2023-01-07T14:38:37.833136Z"
    },
    "slideshow": {
     "slide_type": "subslide"
    }
   },
   "outputs": [
    {
     "name": "stdout",
     "output_type": "stream",
     "text": [
      "<html><head><tatle>Hello</title></head><body>World<br/></body></html>\n",
      "<h</a>tml><head><title>Hello</title></head><body>World<br/></body></html>\n",
      "<html><head><title>He,lo</title></head><body>World<br/></body></html>\n",
      "<h<a/>tml><head><title>Hello</title></head><body>World<br/></body></html>\n",
      "<html><head><title>Hello</title></head><body>World<br/></body></htm\"l>\n",
      "<html><head><title>Hello<</a>/title></head><body>World<br/></body></html>\n",
      "<hml><head><title>Hello</title></head><body>World<br/></body></html>\n",
      "<h6tml><head><title>Hello</title></head><body>World<br/></body></html>\n",
      "<html><head><title>Hello</title></head><body>World<br/</body></html>\n",
      "<hml><head><title>Hello</title></head><body>World<br/></body></html>\n"
     ]
    }
   ],
   "source": [
    "seeds = [\"<html><head><title>Hello</title></head><body>World<br/></body></html>\"]\n",
    "for i in range(10):\n",
    "    print(dict_mutator.mutate(seeds[0]))"
   ]
  },
  {
   "cell_type": "markdown",
   "metadata": {
    "slideshow": {
     "slide_type": "fragment"
    }
   },
   "source": [
    "This `DictMutator` can be used as an argument to `GreyboxFuzzer`:"
   ]
  },
  {
   "cell_type": "code",
   "execution_count": 75,
   "metadata": {
    "execution": {
     "iopub.execute_input": "2023-01-07T14:38:37.847757Z",
     "iopub.status.busy": "2023-01-07T14:38:37.834246Z",
     "iopub.status.idle": "2023-01-07T14:38:37.848919Z",
     "shell.execute_reply": "2023-01-07T14:38:37.849232Z"
    },
    "slideshow": {
     "slide_type": "subslide"
    }
   },
   "outputs": [],
   "source": [
    "runner = FunctionCoverageRunner(my_parser)\n",
    "dict_fuzzer = GreyboxFuzzer(seeds, dict_mutator, PowerSchedule())"
   ]
  },
  {
   "cell_type": "code",
   "execution_count": 76,
   "metadata": {
    "execution": {
     "iopub.execute_input": "2023-01-07T14:38:37.853877Z",
     "iopub.status.busy": "2023-01-07T14:38:37.853579Z",
     "iopub.status.idle": "2023-01-07T14:38:37.854902Z",
     "shell.execute_reply": "2023-01-07T14:38:37.855151Z"
    },
    "slideshow": {
     "slide_type": "fragment"
    }
   },
   "outputs": [],
   "source": [
    "dict_fuzzer_outcome = dict_fuzzer.runs(runner, trials=5)"
   ]
  },
  {
   "cell_type": "code",
   "execution_count": 77,
   "metadata": {
    "execution": {
     "iopub.execute_input": "2023-01-07T14:38:37.856823Z",
     "iopub.status.busy": "2023-01-07T14:38:37.856530Z",
     "iopub.status.idle": "2023-01-07T14:38:37.857843Z",
     "shell.execute_reply": "2023-01-07T14:38:37.858025Z"
    },
    "slideshow": {
     "slide_type": "fragment"
    }
   },
   "outputs": [],
   "source": [
    "# ignore\n",
    "from ClassDiagram import display_class_hierarchy\n",
    "from Coverage import Location  # minor dependency"
   ]
  },
  {
   "cell_type": "code",
   "execution_count": 78,
   "metadata": {
    "execution": {
     "iopub.execute_input": "2023-01-07T14:38:37.860696Z",
     "iopub.status.busy": "2023-01-07T14:38:37.860392Z",
     "iopub.status.idle": "2023-01-07T14:38:38.203726Z",
     "shell.execute_reply": "2023-01-07T14:38:38.204072Z"
    },
    "slideshow": {
     "slide_type": "subslide"
    }
   },
   "outputs": [
    {
     "data": {
      "image/svg+xml": [
       "<?xml version=\"1.0\" encoding=\"UTF-8\" standalone=\"no\"?>\n",
       "<!DOCTYPE svg PUBLIC \"-//W3C//DTD SVG 1.1//EN\"\n",
       " \"http://www.w3.org/Graphics/SVG/1.1/DTD/svg11.dtd\">\n",
       "<!-- Generated by graphviz version 7.0.2 (20221119.0110)\n",
       " -->\n",
       "<!-- Pages: 1 -->\n",
       "<svg width=\"308pt\" height=\"141pt\"\n",
       " viewBox=\"0.00 0.00 307.50 141.00\" xmlns=\"http://www.w3.org/2000/svg\" xmlns:xlink=\"http://www.w3.org/1999/xlink\">\n",
       "<g id=\"graph0\" class=\"graph\" transform=\"scale(1 1) rotate(0) translate(4 137)\">\n",
       "<g id=\"a_graph0\"><a xlink:title=\"DictMutator class hierarchy\">\n",
       "<polygon fill=\"white\" stroke=\"none\" points=\"-4,4 -4,-137 303.5,-137 303.5,4 -4,4\"/>\n",
       "</a>\n",
       "</g>\n",
       "<!-- DictMutator -->\n",
       "<g id=\"node1\" class=\"node\">\n",
       "<title>DictMutator</title>\n",
       "<g id=\"a_node1\"><a xlink:href=\"#\" xlink:title=\"class DictMutator:&#10;Mutate strings using keywords from a dictionary\">\n",
       "<polygon fill=\"none\" stroke=\"black\" points=\"0,-0.5 0,-53.5 161,-53.5 161,-0.5 0,-0.5\"/>\n",
       "<text text-anchor=\"start\" x=\"42.5\" y=\"-39.3\" font-family=\"Patua One, Helvetica, sans-serif\" font-weight=\"bold\" font-size=\"14.00\" fill=\"#b03a2e\">DictMutator</text>\n",
       "<polyline fill=\"none\" stroke=\"black\" points=\"0,-30.5 161,-30.5\"/>\n",
       "<g id=\"a_node1_0\"><a xlink:href=\"#\" xlink:title=\"DictMutator\">\n",
       "<g id=\"a_node1_1\"><a xlink:href=\"#\" xlink:title=\"__init__(self, dictionary: List[str]) &#45;&gt; None:&#10;Constructor. `dictionary` is the list of keywords to use.\">\n",
       "<text text-anchor=\"start\" x=\"8.5\" y=\"-19.5\" font-family=\"'Fira Mono', 'Source Code Pro', 'Courier', monospace\" font-weight=\"bold\" font-style=\"italic\" font-size=\"10.00\">__init__()</text>\n",
       "</a>\n",
       "</g>\n",
       "<g id=\"a_node1_2\"><a xlink:href=\"#\" xlink:title=\"insert_from_dictionary(self, s: str) &#45;&gt; str:&#10;Returns s with a keyword from the dictionary inserted\">\n",
       "<text text-anchor=\"start\" x=\"8.5\" y=\"-7.5\" font-family=\"'Fira Mono', 'Source Code Pro', 'Courier', monospace\" font-size=\"10.00\">insert_from_dictionary()</text>\n",
       "</a>\n",
       "</g>\n",
       "</a>\n",
       "</g>\n",
       "</a>\n",
       "</g>\n",
       "</g>\n",
       "<!-- Mutator -->\n",
       "<g id=\"node2\" class=\"node\">\n",
       "<title>Mutator</title>\n",
       "<g id=\"a_node2\"><a xlink:href=\"GreyboxFuzzer.ipynb\" xlink:title=\"class Mutator:&#10;Mutate strings\">\n",
       "<polygon fill=\"none\" stroke=\"black\" points=\"42,-90.5 42,-132.5 119,-132.5 119,-90.5 42,-90.5\"/>\n",
       "<text text-anchor=\"start\" x=\"54.5\" y=\"-118.3\" font-family=\"Patua One, Helvetica, sans-serif\" font-weight=\"bold\" font-size=\"14.00\" fill=\"#b03a2e\">Mutator</text>\n",
       "<polyline fill=\"none\" stroke=\"black\" points=\"42,-109.5 119,-109.5\"/>\n",
       "<g id=\"a_node2_3\"><a xlink:href=\"#\" xlink:title=\"Mutator\">\n",
       "<g id=\"a_node2_4\"><a xlink:href=\"GreyboxFuzzer.ipynb\" xlink:title=\"__init__(self) &#45;&gt; None:&#10;Constructor\">\n",
       "<text text-anchor=\"start\" x=\"50.5\" y=\"-98\" font-family=\"'Fira Mono', 'Source Code Pro', 'Courier', monospace\" font-weight=\"bold\" font-style=\"italic\" font-size=\"10.00\">__init__()</text>\n",
       "</a>\n",
       "</g>\n",
       "</a>\n",
       "</g>\n",
       "</a>\n",
       "</g>\n",
       "</g>\n",
       "<!-- DictMutator&#45;&gt;Mutator -->\n",
       "<g id=\"edge1\" class=\"edge\">\n",
       "<title>DictMutator&#45;&gt;Mutator</title>\n",
       "<path fill=\"none\" stroke=\"black\" d=\"M80.5,-53.2C80.5,-61.48 80.5,-70.77 80.5,-79.43\"/>\n",
       "<polygon fill=\"none\" stroke=\"black\" points=\"77,-79.17 80.5,-89.17 84,-79.17 77,-79.17\"/>\n",
       "</g>\n",
       "<!-- Legend -->\n",
       "<g id=\"node3\" class=\"node\">\n",
       "<title>Legend</title>\n",
       "<text text-anchor=\"start\" x=\"179.5\" y=\"-44.5\" font-family=\"Patua One, Helvetica, sans-serif\" font-weight=\"bold\" font-size=\"10.00\" fill=\"#b03a2e\">Legend</text>\n",
       "<text text-anchor=\"start\" x=\"179.5\" y=\"-34.5\" font-family=\"Patua One, Helvetica, sans-serif\" font-size=\"10.00\">• </text>\n",
       "<text text-anchor=\"start\" x=\"186.5\" y=\"-34.5\" font-family=\"'Fira Mono', 'Source Code Pro', 'Courier', monospace\" font-weight=\"bold\" font-size=\"8.00\">public_method()</text>\n",
       "<text text-anchor=\"start\" x=\"179.5\" y=\"-24.5\" font-family=\"Patua One, Helvetica, sans-serif\" font-size=\"10.00\">• </text>\n",
       "<text text-anchor=\"start\" x=\"186.5\" y=\"-24.5\" font-family=\"'Fira Mono', 'Source Code Pro', 'Courier', monospace\" font-size=\"8.00\">private_method()</text>\n",
       "<text text-anchor=\"start\" x=\"179.5\" y=\"-14.5\" font-family=\"Patua One, Helvetica, sans-serif\" font-size=\"10.00\">• </text>\n",
       "<text text-anchor=\"start\" x=\"186.5\" y=\"-14.5\" font-family=\"'Fira Mono', 'Source Code Pro', 'Courier', monospace\" font-style=\"italic\" font-size=\"8.00\">overloaded_method()</text>\n",
       "<text text-anchor=\"start\" x=\"179.5\" y=\"-5.3\" font-family=\"Helvetica,sans-Serif\" font-size=\"9.00\">Hover over names to see doc</text>\n",
       "</g>\n",
       "</g>\n",
       "</svg>\n"
      ],
      "text/plain": [
       "<graphviz.graphs.Digraph at 0x11a1db190>"
      ]
     },
     "execution_count": 78,
     "metadata": {},
     "output_type": "execute_result"
    }
   ],
   "source": [
    "# ignore\n",
    "display_class_hierarchy([DictMutator],\n",
    "                        public_methods=[\n",
    "                            Mutator.__init__,\n",
    "                            DictMutator.__init__,\n",
    "                        ],\n",
    "                        types={'DerivationTree': DerivationTree,\n",
    "                               'Location': Location},\n",
    "                        project='fuzzingbook')"
   ]
  },
  {
   "cell_type": "markdown",
   "metadata": {
    "slideshow": {
     "slide_type": "subslide"
    }
   },
   "source": [
    "### Fuzzing with Input Fragments\n",
    "\n",
    "The `LangFuzzer` class introduces a _language-aware_ fuzzer that can recombine fragments from existing inputs – inspired by the highly effective `LangFuzz` fuzzer. At its core is a `FragmentMutator` class that that takes a [_parser_](Parser.ipynb) as argument:"
   ]
  },
  {
   "cell_type": "code",
   "execution_count": 79,
   "metadata": {
    "execution": {
     "iopub.execute_input": "2023-01-07T14:38:38.207310Z",
     "iopub.status.busy": "2023-01-07T14:38:38.206979Z",
     "iopub.status.idle": "2023-01-07T14:38:38.208093Z",
     "shell.execute_reply": "2023-01-07T14:38:38.208400Z"
    },
    "slideshow": {
     "slide_type": "fragment"
    }
   },
   "outputs": [],
   "source": [
    "parser = EarleyParser(XML_GRAMMAR, tokens=XML_TOKENS)\n",
    "mutator = FragmentMutator(parser)"
   ]
  },
  {
   "cell_type": "markdown",
   "metadata": {
    "slideshow": {
     "slide_type": "fragment"
    }
   },
   "source": [
    "The fuzzer itself is initialized with a list of seeds, the above `FragmentMutator`, and a power schedule:"
   ]
  },
  {
   "cell_type": "code",
   "execution_count": 80,
   "metadata": {
    "execution": {
     "iopub.execute_input": "2023-01-07T14:38:38.211363Z",
     "iopub.status.busy": "2023-01-07T14:38:38.211064Z",
     "iopub.status.idle": "2023-01-07T14:38:38.212237Z",
     "shell.execute_reply": "2023-01-07T14:38:38.212553Z"
    },
    "slideshow": {
     "slide_type": "fragment"
    }
   },
   "outputs": [],
   "source": [
    "seeds = [\"<html><head><title>Hello</title></head><body>World<br/></body></html>\"]\n",
    "schedule = PowerSchedule()\n",
    "lang_fuzzer = LangFuzzer(seeds, mutator, schedule)"
   ]
  },
  {
   "cell_type": "code",
   "execution_count": 81,
   "metadata": {
    "execution": {
     "iopub.execute_input": "2023-01-07T14:38:38.364167Z",
     "iopub.status.busy": "2023-01-07T14:38:38.320762Z",
     "iopub.status.idle": "2023-01-07T14:38:38.791714Z",
     "shell.execute_reply": "2023-01-07T14:38:38.791911Z"
    },
    "slideshow": {
     "slide_type": "subslide"
    }
   },
   "outputs": [
    {
     "name": "stdout",
     "output_type": "stream",
     "text": [
      "<html><head><title>Hello</title></head><body>World<br/></body></html>\n",
      "<head><title></title></head><body>World<br/></body>\n",
      "<html><head>Hello</title></head><body>World<br/></body></html>\n",
      "<html><head><title><head><title>Hello</title></head><body>World<br/></body></title></head><body>World<br/></body></html>\n",
      "<html><head><title>Hello</title><body>World<br/></body></html>\n",
      "<html><head></head><body>World<br/></body></html>\n",
      "<html><head><title>Hello</title></head><body>Hello</body></html>\n",
      "<html><head><title>Hello</title></head>World<br/></body></html>\n",
      "<html><head><title>Hello</title></head><body>World<br/></html>\n",
      "<html><head><title></title></head><body>World<br/></body></html>\n"
     ]
    }
   ],
   "source": [
    "for i in range(10):\n",
    "    print(lang_fuzzer.fuzz())"
   ]
  },
  {
   "cell_type": "code",
   "execution_count": 82,
   "metadata": {
    "execution": {
     "iopub.execute_input": "2023-01-07T14:38:38.795014Z",
     "iopub.status.busy": "2023-01-07T14:38:38.794699Z",
     "iopub.status.idle": "2023-01-07T14:38:39.063248Z",
     "shell.execute_reply": "2023-01-07T14:38:39.063473Z"
    },
    "slideshow": {
     "slide_type": "subslide"
    }
   },
   "outputs": [
    {
     "data": {
      "image/svg+xml": [
       "<?xml version=\"1.0\" encoding=\"UTF-8\" standalone=\"no\"?>\n",
       "<!DOCTYPE svg PUBLIC \"-//W3C//DTD SVG 1.1//EN\"\n",
       " \"http://www.w3.org/Graphics/SVG/1.1/DTD/svg11.dtd\">\n",
       "<!-- Generated by graphviz version 7.0.2 (20221119.0110)\n",
       " -->\n",
       "<!-- Pages: 1 -->\n",
       "<svg width=\"465pt\" height=\"352pt\"\n",
       " viewBox=\"0.00 0.00 464.50 352.00\" xmlns=\"http://www.w3.org/2000/svg\" xmlns:xlink=\"http://www.w3.org/1999/xlink\">\n",
       "<g id=\"graph0\" class=\"graph\" transform=\"scale(1 1) rotate(0) translate(4 348)\">\n",
       "<g id=\"a_graph0\"><a xlink:title=\"LangFuzzer class hierarchy\">\n",
       "<polygon fill=\"white\" stroke=\"none\" points=\"-4,4 -4,-348 460.5,-348 460.5,4 -4,4\"/>\n",
       "</a>\n",
       "</g>\n",
       "<!-- LangFuzzer -->\n",
       "<g id=\"node1\" class=\"node\">\n",
       "<title>LangFuzzer</title>\n",
       "<g id=\"a_node1\"><a xlink:href=\"#\" xlink:title=\"class LangFuzzer:&#10;Blackbox fuzzer mutating input fragments. Roughly based on `LangFuzz`.\">\n",
       "<polygon fill=\"none\" stroke=\"black\" points=\"26,-50 26,-92 151,-92 151,-50 26,-50\"/>\n",
       "<text text-anchor=\"start\" x=\"52.5\" y=\"-77.8\" font-family=\"Patua One, Helvetica, sans-serif\" font-weight=\"bold\" font-size=\"14.00\" fill=\"#b03a2e\">LangFuzzer</text>\n",
       "<polyline fill=\"none\" stroke=\"black\" points=\"26,-69 151,-69\"/>\n",
       "<g id=\"a_node1_0\"><a xlink:href=\"#\" xlink:title=\"LangFuzzer\">\n",
       "<g id=\"a_node1_1\"><a xlink:href=\"#\" xlink:title=\"create_candidate(self) &#45;&gt; GreyboxFuzzer.Seed:&#10;Returns an input generated by fuzzing a seed in the population\">\n",
       "<text text-anchor=\"start\" x=\"34.5\" y=\"-57.5\" font-family=\"'Fira Mono', 'Source Code Pro', 'Courier', monospace\" font-style=\"italic\" font-size=\"10.00\">create_candidate()</text>\n",
       "</a>\n",
       "</g>\n",
       "</a>\n",
       "</g>\n",
       "</a>\n",
       "</g>\n",
       "</g>\n",
       "<!-- AdvancedMutationFuzzer -->\n",
       "<g id=\"node2\" class=\"node\">\n",
       "<title>AdvancedMutationFuzzer</title>\n",
       "<g id=\"a_node2\"><a xlink:href=\"GreyboxFuzzer.ipynb\" xlink:title=\"class AdvancedMutationFuzzer:&#10;Base class for mutation&#45;based fuzzing.\">\n",
       "<polygon fill=\"none\" stroke=\"black\" points=\"0,-178.5 0,-231.5 177,-231.5 177,-178.5 0,-178.5\"/>\n",
       "<text text-anchor=\"start\" x=\"8\" y=\"-217.3\" font-family=\"Patua One, Helvetica, sans-serif\" font-weight=\"bold\" font-size=\"14.00\" fill=\"#b03a2e\">AdvancedMutationFuzzer</text>\n",
       "<polyline fill=\"none\" stroke=\"black\" points=\"0,-208.5 177,-208.5\"/>\n",
       "<g id=\"a_node2_2\"><a xlink:href=\"#\" xlink:title=\"AdvancedMutationFuzzer\">\n",
       "<g id=\"a_node2_3\"><a xlink:href=\"GreyboxFuzzer.ipynb\" xlink:title=\"__init__(self, seeds: List[str], mutator: GreyboxFuzzer.Mutator, schedule: GreyboxFuzzer.PowerSchedule) &#45;&gt; None:&#10;Constructor.&#10;`seeds` &#45; a list of (input) strings to mutate.&#10;`mutator` &#45; the mutator to apply.&#10;`schedule` &#45; the power schedule to apply.\">\n",
       "<text text-anchor=\"start\" x=\"58.5\" y=\"-197.5\" font-family=\"'Fira Mono', 'Source Code Pro', 'Courier', monospace\" font-weight=\"bold\" font-style=\"italic\" font-size=\"10.00\">__init__()</text>\n",
       "</a>\n",
       "</g>\n",
       "<g id=\"a_node2_4\"><a xlink:href=\"GreyboxFuzzer.ipynb\" xlink:title=\"fuzz(self) &#45;&gt; str:&#10;Returns first each seed once and then generates new inputs\">\n",
       "<text text-anchor=\"start\" x=\"58.5\" y=\"-186.5\" font-family=\"'Fira Mono', 'Source Code Pro', 'Courier', monospace\" font-weight=\"bold\" font-style=\"italic\" font-size=\"10.00\">fuzz()</text>\n",
       "</a>\n",
       "</g>\n",
       "</a>\n",
       "</g>\n",
       "</a>\n",
       "</g>\n",
       "</g>\n",
       "<!-- LangFuzzer&#45;&gt;AdvancedMutationFuzzer -->\n",
       "<g id=\"edge1\" class=\"edge\">\n",
       "<title>LangFuzzer&#45;&gt;AdvancedMutationFuzzer</title>\n",
       "<path fill=\"none\" stroke=\"black\" d=\"M88.5,-91.76C88.5,-111.66 88.5,-142.84 88.5,-167.29\"/>\n",
       "<polygon fill=\"none\" stroke=\"black\" points=\"85,-167.16 88.5,-177.16 92,-167.16 85,-167.16\"/>\n",
       "</g>\n",
       "<!-- Fuzzer -->\n",
       "<g id=\"node3\" class=\"node\">\n",
       "<title>Fuzzer</title>\n",
       "<g id=\"a_node3\"><a xlink:href=\"Fuzzer.ipynb\" xlink:title=\"class Fuzzer:&#10;Base class for fuzzers.\">\n",
       "<polygon fill=\"none\" stroke=\"black\" points=\"50,-268.5 50,-343.5 127,-343.5 127,-268.5 50,-268.5\"/>\n",
       "<text text-anchor=\"start\" x=\"67.5\" y=\"-329.3\" font-family=\"Patua One, Helvetica, sans-serif\" font-weight=\"bold\" font-size=\"14.00\" fill=\"#b03a2e\">Fuzzer</text>\n",
       "<polyline fill=\"none\" stroke=\"black\" points=\"50,-320.5 127,-320.5\"/>\n",
       "<g id=\"a_node3_5\"><a xlink:href=\"#\" xlink:title=\"Fuzzer\">\n",
       "<g id=\"a_node3_6\"><a xlink:href=\"Fuzzer.ipynb\" xlink:title=\"__init__(self) &#45;&gt; None:&#10;Constructor\">\n",
       "<text text-anchor=\"start\" x=\"58.5\" y=\"-309.5\" font-family=\"'Fira Mono', 'Source Code Pro', 'Courier', monospace\" font-weight=\"bold\" font-style=\"italic\" font-size=\"10.00\">__init__()</text>\n",
       "</a>\n",
       "</g>\n",
       "<g id=\"a_node3_7\"><a xlink:href=\"Fuzzer.ipynb\" xlink:title=\"fuzz(self) &#45;&gt; str:&#10;Return fuzz input\">\n",
       "<text text-anchor=\"start\" x=\"58.5\" y=\"-298.5\" font-family=\"'Fira Mono', 'Source Code Pro', 'Courier', monospace\" font-weight=\"bold\" font-style=\"italic\" font-size=\"10.00\">fuzz()</text>\n",
       "</a>\n",
       "</g>\n",
       "<g id=\"a_node3_8\"><a xlink:href=\"Fuzzer.ipynb\" xlink:title=\"run(self, runner: Fuzzer.Runner = &lt;Fuzzer.Runner object at 0x1066c61a0&gt;) &#45;&gt; Tuple[subprocess.CompletedProcess, str]:&#10;Run `runner` with fuzz input\">\n",
       "<text text-anchor=\"start\" x=\"58.5\" y=\"-287.5\" font-family=\"'Fira Mono', 'Source Code Pro', 'Courier', monospace\" font-weight=\"bold\" font-size=\"10.00\">run()</text>\n",
       "</a>\n",
       "</g>\n",
       "<g id=\"a_node3_9\"><a xlink:href=\"Fuzzer.ipynb\" xlink:title=\"runs(self, runner: Fuzzer.Runner = &lt;Fuzzer.PrintRunner object at 0x1066c66e0&gt;, trials: int = 10) &#45;&gt; List[Tuple[subprocess.CompletedProcess, str]]:&#10;Run `runner` with fuzz input, `trials` times\">\n",
       "<text text-anchor=\"start\" x=\"58.5\" y=\"-276.5\" font-family=\"'Fira Mono', 'Source Code Pro', 'Courier', monospace\" font-weight=\"bold\" font-size=\"10.00\">runs()</text>\n",
       "</a>\n",
       "</g>\n",
       "</a>\n",
       "</g>\n",
       "</a>\n",
       "</g>\n",
       "</g>\n",
       "<!-- AdvancedMutationFuzzer&#45;&gt;Fuzzer -->\n",
       "<g id=\"edge2\" class=\"edge\">\n",
       "<title>AdvancedMutationFuzzer&#45;&gt;Fuzzer</title>\n",
       "<path fill=\"none\" stroke=\"black\" d=\"M88.5,-231.49C88.5,-239.47 88.5,-248.54 88.5,-257.53\"/>\n",
       "<polygon fill=\"none\" stroke=\"black\" points=\"85,-257.26 88.5,-267.26 92,-257.26 85,-257.26\"/>\n",
       "</g>\n",
       "<!-- FragmentMutator -->\n",
       "<g id=\"node4\" class=\"node\">\n",
       "<title>FragmentMutator</title>\n",
       "<g id=\"a_node4\"><a xlink:href=\"#\" xlink:title=\"class FragmentMutator:&#10;Mutate inputs with input fragments from a pool\">\n",
       "<polygon fill=\"none\" stroke=\"black\" points=\"169,-0.5 169,-141.5 318,-141.5 318,-0.5 169,-0.5\"/>\n",
       "<text text-anchor=\"start\" x=\"187.5\" y=\"-127.3\" font-family=\"Patua One, Helvetica, sans-serif\" font-weight=\"bold\" font-size=\"14.00\" fill=\"#b03a2e\">FragmentMutator</text>\n",
       "<polyline fill=\"none\" stroke=\"black\" points=\"169,-118.5 318,-118.5\"/>\n",
       "<g id=\"a_node4_10\"><a xlink:href=\"#\" xlink:title=\"FragmentMutator\">\n",
       "<g id=\"a_node4_11\"><a xlink:href=\"#\" xlink:title=\"__init__(self, parser):&#10;Initialize mutators\">\n",
       "<text text-anchor=\"start\" x=\"177.5\" y=\"-107.5\" font-family=\"'Fira Mono', 'Source Code Pro', 'Courier', monospace\" font-weight=\"bold\" font-style=\"italic\" font-size=\"10.00\">__init__()</text>\n",
       "</a>\n",
       "</g>\n",
       "<g id=\"a_node4_12\"><a xlink:href=\"#\" xlink:title=\"add_to_fragment_pool(self, seed: SeedWithStructure) &#45;&gt; None:&#10;Adds all fragments of a seed to the fragment pool\">\n",
       "<text text-anchor=\"start\" x=\"177.5\" y=\"-96.5\" font-family=\"'Fira Mono', 'Source Code Pro', 'Courier', monospace\" font-weight=\"bold\" font-size=\"10.00\">add_to_fragment_pool()</text>\n",
       "</a>\n",
       "</g>\n",
       "<g id=\"a_node4_13\"><a xlink:href=\"#\" xlink:title=\"add_fragment(self, fragment: DerivationTree) &#45;&gt; None:&#10;Recursively adds fragments to the fragment pool\">\n",
       "<text text-anchor=\"start\" x=\"177.5\" y=\"-84.5\" font-family=\"'Fira Mono', 'Source Code Pro', 'Courier', monospace\" font-size=\"10.00\">add_fragment()</text>\n",
       "</a>\n",
       "</g>\n",
       "<g id=\"a_node4_14\"><a xlink:href=\"#\" xlink:title=\"count_nodes(self, fragment: DerivationTree) &#45;&gt; int:&#10;Returns the number of nodes in the fragment\">\n",
       "<text text-anchor=\"start\" x=\"177.5\" y=\"-73.5\" font-family=\"'Fira Mono', 'Source Code Pro', 'Courier', monospace\" font-size=\"10.00\">count_nodes()</text>\n",
       "</a>\n",
       "</g>\n",
       "<g id=\"a_node4_15\"><a xlink:href=\"#\" xlink:title=\"delete_fragment(self, seed: SeedWithStructure) &#45;&gt; SeedWithStructure:&#10;Delete a random fragment\">\n",
       "<text text-anchor=\"start\" x=\"177.5\" y=\"-62.5\" font-family=\"'Fira Mono', 'Source Code Pro', 'Courier', monospace\" font-size=\"10.00\">delete_fragment()</text>\n",
       "</a>\n",
       "</g>\n",
       "<g id=\"a_node4_16\"><a xlink:href=\"#\" xlink:title=\"is_excluded(self, symbol: str) &#45;&gt; bool:&#10;Returns true if a fragment starting with a specific&#10;symbol and all its decendents can be excluded\">\n",
       "<text text-anchor=\"start\" x=\"177.5\" y=\"-51.5\" font-family=\"'Fira Mono', 'Source Code Pro', 'Courier', monospace\" font-size=\"10.00\">is_excluded()</text>\n",
       "</a>\n",
       "</g>\n",
       "<g id=\"a_node4_17\"><a xlink:href=\"#\" xlink:title=\"mutate(self, seed: SeedWithStructure) &#45;&gt; SeedWithStructure:&#10;Implement structure&#45;aware mutation. Memoize seeds.\">\n",
       "<text text-anchor=\"start\" x=\"177.5\" y=\"-41.5\" font-family=\"'Fira Mono', 'Source Code Pro', 'Courier', monospace\" font-style=\"italic\" font-size=\"10.00\">mutate()</text>\n",
       "</a>\n",
       "</g>\n",
       "<g id=\"a_node4_18\"><a xlink:href=\"#\" xlink:title=\"recursive_delete(self, fragment: DerivationTree) &#45;&gt; DerivationTree:&#10;Recursively finds the fragment to delete\">\n",
       "<text text-anchor=\"start\" x=\"177.5\" y=\"-29.5\" font-family=\"'Fira Mono', 'Source Code Pro', 'Courier', monospace\" font-size=\"10.00\">recursive_delete()</text>\n",
       "</a>\n",
       "</g>\n",
       "<g id=\"a_node4_19\"><a xlink:href=\"#\" xlink:title=\"recursive_swap(self, fragment: DerivationTree) &#45;&gt; DerivationTree:&#10;Recursively finds the fragment to swap.\">\n",
       "<text text-anchor=\"start\" x=\"177.5\" y=\"-18.5\" font-family=\"'Fira Mono', 'Source Code Pro', 'Courier', monospace\" font-size=\"10.00\">recursive_swap()</text>\n",
       "</a>\n",
       "</g>\n",
       "<g id=\"a_node4_20\"><a xlink:href=\"#\" xlink:title=\"swap_fragment(self, seed: SeedWithStructure) &#45;&gt; SeedWithStructure:&#10;Substitutes a random fragment with another with the same symbol\">\n",
       "<text text-anchor=\"start\" x=\"177.5\" y=\"-7.5\" font-family=\"'Fira Mono', 'Source Code Pro', 'Courier', monospace\" font-size=\"10.00\">swap_fragment()</text>\n",
       "</a>\n",
       "</g>\n",
       "</a>\n",
       "</g>\n",
       "</a>\n",
       "</g>\n",
       "</g>\n",
       "<!-- Mutator -->\n",
       "<g id=\"node5\" class=\"node\">\n",
       "<title>Mutator</title>\n",
       "<g id=\"a_node5\"><a xlink:href=\"GreyboxFuzzer.ipynb\" xlink:title=\"class Mutator:&#10;Mutate strings\">\n",
       "<polygon fill=\"none\" stroke=\"black\" points=\"205,-184 205,-226 282,-226 282,-184 205,-184\"/>\n",
       "<text text-anchor=\"start\" x=\"217.5\" y=\"-211.8\" font-family=\"Patua One, Helvetica, sans-serif\" font-weight=\"bold\" font-size=\"14.00\" fill=\"#b03a2e\">Mutator</text>\n",
       "<polyline fill=\"none\" stroke=\"black\" points=\"205,-203 282,-203\"/>\n",
       "<g id=\"a_node5_21\"><a xlink:href=\"#\" xlink:title=\"Mutator\">\n",
       "<g id=\"a_node5_22\"><a xlink:href=\"GreyboxFuzzer.ipynb\" xlink:title=\"__init__(self) &#45;&gt; None:&#10;Constructor\">\n",
       "<text text-anchor=\"start\" x=\"213.5\" y=\"-191.5\" font-family=\"'Fira Mono', 'Source Code Pro', 'Courier', monospace\" font-weight=\"bold\" font-style=\"italic\" font-size=\"10.00\">__init__()</text>\n",
       "</a>\n",
       "</g>\n",
       "</a>\n",
       "</g>\n",
       "</a>\n",
       "</g>\n",
       "</g>\n",
       "<!-- FragmentMutator&#45;&gt;Mutator -->\n",
       "<g id=\"edge3\" class=\"edge\">\n",
       "<title>FragmentMutator&#45;&gt;Mutator</title>\n",
       "<path fill=\"none\" stroke=\"black\" d=\"M243.5,-141.48C243.5,-152.48 243.5,-163.36 243.5,-172.88\"/>\n",
       "<polygon fill=\"none\" stroke=\"black\" points=\"240,-172.6 243.5,-182.6 247,-172.6 240,-172.6\"/>\n",
       "</g>\n",
       "<!-- Legend -->\n",
       "<g id=\"node6\" class=\"node\">\n",
       "<title>Legend</title>\n",
       "<text text-anchor=\"start\" x=\"336.5\" y=\"-88.5\" font-family=\"Patua One, Helvetica, sans-serif\" font-weight=\"bold\" font-size=\"10.00\" fill=\"#b03a2e\">Legend</text>\n",
       "<text text-anchor=\"start\" x=\"336.5\" y=\"-78.5\" font-family=\"Patua One, Helvetica, sans-serif\" font-size=\"10.00\">• </text>\n",
       "<text text-anchor=\"start\" x=\"343.5\" y=\"-78.5\" font-family=\"'Fira Mono', 'Source Code Pro', 'Courier', monospace\" font-weight=\"bold\" font-size=\"8.00\">public_method()</text>\n",
       "<text text-anchor=\"start\" x=\"336.5\" y=\"-68.5\" font-family=\"Patua One, Helvetica, sans-serif\" font-size=\"10.00\">• </text>\n",
       "<text text-anchor=\"start\" x=\"343.5\" y=\"-68.5\" font-family=\"'Fira Mono', 'Source Code Pro', 'Courier', monospace\" font-size=\"8.00\">private_method()</text>\n",
       "<text text-anchor=\"start\" x=\"336.5\" y=\"-58.5\" font-family=\"Patua One, Helvetica, sans-serif\" font-size=\"10.00\">• </text>\n",
       "<text text-anchor=\"start\" x=\"343.5\" y=\"-58.5\" font-family=\"'Fira Mono', 'Source Code Pro', 'Courier', monospace\" font-style=\"italic\" font-size=\"8.00\">overloaded_method()</text>\n",
       "<text text-anchor=\"start\" x=\"336.5\" y=\"-49.3\" font-family=\"Helvetica,sans-Serif\" font-size=\"9.00\">Hover over names to see doc</text>\n",
       "</g>\n",
       "</g>\n",
       "</svg>\n"
      ],
      "text/plain": [
       "<graphviz.graphs.Digraph at 0x14a9d2a10>"
      ]
     },
     "execution_count": 82,
     "metadata": {},
     "output_type": "execute_result"
    }
   ],
   "source": [
    "# ignore\n",
    "display_class_hierarchy([LangFuzzer, FragmentMutator],\n",
    "                        public_methods=[\n",
    "                            Fuzzer.__init__,\n",
    "                            Fuzzer.fuzz,\n",
    "                            Fuzzer.run,\n",
    "                            Fuzzer.runs,\n",
    "                            AdvancedMutationFuzzer.__init__,\n",
    "                            AdvancedMutationFuzzer.fuzz,\n",
    "                            GreyboxFuzzer.run,\n",
    "                            Mutator.__init__,\n",
    "                            FragmentMutator.__init__,\n",
    "                            FragmentMutator.add_to_fragment_pool,\n",
    "                        ],\n",
    "                        types={'DerivationTree': DerivationTree,\n",
    "                               'Location': Location},\n",
    "                        project='fuzzingbook')"
   ]
  },
  {
   "cell_type": "markdown",
   "metadata": {
    "slideshow": {
     "slide_type": "subslide"
    }
   },
   "source": [
    "### Fuzzing with Input Regions\n",
    "\n",
    "The `GreyboxGrammarFuzzer` class uses two mutators:\n",
    "* a _tree mutator_ (a `RegionMutator` object) that can parse existing strings to identify _regions_ in that string to be swapped or deleted.\n",
    "* a _byte mutator_ to apply bit- and character-level mutations."
   ]
  },
  {
   "cell_type": "code",
   "execution_count": 83,
   "metadata": {
    "execution": {
     "iopub.execute_input": "2023-01-07T14:38:39.065826Z",
     "iopub.status.busy": "2023-01-07T14:38:39.065535Z",
     "iopub.status.idle": "2023-01-07T14:38:39.066731Z",
     "shell.execute_reply": "2023-01-07T14:38:39.066929Z"
    },
    "slideshow": {
     "slide_type": "fragment"
    }
   },
   "outputs": [],
   "source": [
    "tree_mutator = RegionMutator(parser)\n",
    "byte_mutator = Mutator()"
   ]
  },
  {
   "cell_type": "markdown",
   "metadata": {
    "slideshow": {
     "slide_type": "fragment"
    }
   },
   "source": [
    "The _schedule_ for the `GreyboxGrammarFuzzer` class can be a regular `PowerSchedule` object. However, a more sophisticated schedule is provided by `AFLSmartSchedule`, which assigns more [energy](GreyboxFuzzer.ipynb#Power-Schedules) to seeds that have a higher degree of validity."
   ]
  },
  {
   "cell_type": "code",
   "execution_count": 84,
   "metadata": {
    "execution": {
     "iopub.execute_input": "2023-01-07T14:38:39.068857Z",
     "iopub.status.busy": "2023-01-07T14:38:39.068541Z",
     "iopub.status.idle": "2023-01-07T14:38:39.069651Z",
     "shell.execute_reply": "2023-01-07T14:38:39.069885Z"
    },
    "slideshow": {
     "slide_type": "subslide"
    }
   },
   "outputs": [],
   "source": [
    "schedule = AFLSmartSchedule(parser)"
   ]
  },
  {
   "cell_type": "markdown",
   "metadata": {
    "slideshow": {
     "slide_type": "fragment"
    }
   },
   "source": [
    "The `GreyboxGrammarFuzzer` constructor takes a set of seeds as well as the two mutators and the schedule:"
   ]
  },
  {
   "cell_type": "code",
   "execution_count": 85,
   "metadata": {
    "execution": {
     "iopub.execute_input": "2023-01-07T14:38:39.073252Z",
     "iopub.status.busy": "2023-01-07T14:38:39.072952Z",
     "iopub.status.idle": "2023-01-07T14:38:39.074256Z",
     "shell.execute_reply": "2023-01-07T14:38:39.074490Z"
    },
    "slideshow": {
     "slide_type": "fragment"
    }
   },
   "outputs": [],
   "source": [
    "aflsmart_fuzzer = GreyboxGrammarFuzzer(seeds, byte_mutator, tree_mutator, schedule)"
   ]
  },
  {
   "cell_type": "markdown",
   "metadata": {
    "slideshow": {
     "slide_type": "fragment"
    }
   },
   "source": [
    "As it relies on code coverage, it is typically combined with a `FunctionCoverageRunner`:"
   ]
  },
  {
   "cell_type": "code",
   "execution_count": 86,
   "metadata": {
    "execution": {
     "iopub.execute_input": "2023-01-07T14:38:39.125250Z",
     "iopub.status.busy": "2023-01-07T14:38:39.107001Z",
     "iopub.status.idle": "2023-01-07T14:38:39.534552Z",
     "shell.execute_reply": "2023-01-07T14:38:39.534736Z"
    },
    "slideshow": {
     "slide_type": "fragment"
    }
   },
   "outputs": [],
   "source": [
    "runner = FunctionCoverageRunner(my_parser)\n",
    "aflsmart_outcome = aflsmart_fuzzer.runs(runner, trials=5)"
   ]
  },
  {
   "cell_type": "code",
   "execution_count": 87,
   "metadata": {
    "execution": {
     "iopub.execute_input": "2023-01-07T14:38:39.538089Z",
     "iopub.status.busy": "2023-01-07T14:38:39.537771Z",
     "iopub.status.idle": "2023-01-07T14:38:39.814055Z",
     "shell.execute_reply": "2023-01-07T14:38:39.814385Z"
    },
    "slideshow": {
     "slide_type": "subslide"
    }
   },
   "outputs": [
    {
     "data": {
      "image/svg+xml": [
       "<?xml version=\"1.0\" encoding=\"UTF-8\" standalone=\"no\"?>\n",
       "<!DOCTYPE svg PUBLIC \"-//W3C//DTD SVG 1.1//EN\"\n",
       " \"http://www.w3.org/Graphics/SVG/1.1/DTD/svg11.dtd\">\n",
       "<!-- Generated by graphviz version 7.0.2 (20221119.0110)\n",
       " -->\n",
       "<!-- Pages: 1 -->\n",
       "<svg width=\"642pt\" height=\"464pt\"\n",
       " viewBox=\"0.00 0.00 641.50 464.00\" xmlns=\"http://www.w3.org/2000/svg\" xmlns:xlink=\"http://www.w3.org/1999/xlink\">\n",
       "<g id=\"graph0\" class=\"graph\" transform=\"scale(1 1) rotate(0) translate(4 460)\">\n",
       "<g id=\"a_graph0\"><a xlink:title=\"GreyboxGrammarFuzzer class hierarchy\">\n",
       "<polygon fill=\"white\" stroke=\"none\" points=\"-4,4 -4,-460 637.5,-460 637.5,4 -4,4\"/>\n",
       "</a>\n",
       "</g>\n",
       "<!-- GreyboxGrammarFuzzer -->\n",
       "<g id=\"node1\" class=\"node\">\n",
       "<title>GreyboxGrammarFuzzer</title>\n",
       "<g id=\"a_node1\"><a xlink:href=\"#\" xlink:title=\"class GreyboxGrammarFuzzer:&#10;Greybox fuzzer using grammars.\">\n",
       "<polygon fill=\"none\" stroke=\"black\" points=\"4.5,-11.5 4.5,-64.5 172.5,-64.5 172.5,-11.5 4.5,-11.5\"/>\n",
       "<text text-anchor=\"start\" x=\"12.5\" y=\"-50.3\" font-family=\"Patua One, Helvetica, sans-serif\" font-weight=\"bold\" font-size=\"14.00\" fill=\"#b03a2e\">GreyboxGrammarFuzzer</text>\n",
       "<polyline fill=\"none\" stroke=\"black\" points=\"4.5,-41.5 172.5,-41.5\"/>\n",
       "<g id=\"a_node1_0\"><a xlink:href=\"#\" xlink:title=\"GreyboxGrammarFuzzer\">\n",
       "<g id=\"a_node1_1\"><a xlink:href=\"#\" xlink:title=\"__init__(self, seeds: List[str], byte_mutator: GreyboxFuzzer.Mutator, tree_mutator: FragmentMutator, schedule: GreyboxFuzzer.PowerSchedule) &#45;&gt; None:&#10;Constructor.&#10;`seeds` &#45; set of inputs to mutate.&#10;`byte_mutator` &#45; a byte&#45;level mutator.&#10;`tree_mutator` = a tree&#45;level mutator.&#10;`schedule` &#45; a power schedule.\">\n",
       "<text text-anchor=\"start\" x=\"34.5\" y=\"-30.5\" font-family=\"'Fira Mono', 'Source Code Pro', 'Courier', monospace\" font-weight=\"bold\" font-style=\"italic\" font-size=\"10.00\">__init__()</text>\n",
       "</a>\n",
       "</g>\n",
       "<g id=\"a_node1_2\"><a xlink:href=\"#\" xlink:title=\"create_candidate(self) &#45;&gt; str:&#10;Returns an input generated by structural mutation&#10;of a seed in the population\">\n",
       "<text text-anchor=\"start\" x=\"34.5\" y=\"-19.5\" font-family=\"'Fira Mono', 'Source Code Pro', 'Courier', monospace\" font-style=\"italic\" font-size=\"10.00\">create_candidate()</text>\n",
       "</a>\n",
       "</g>\n",
       "</a>\n",
       "</g>\n",
       "</a>\n",
       "</g>\n",
       "</g>\n",
       "<!-- GreyboxFuzzer -->\n",
       "<g id=\"node2\" class=\"node\">\n",
       "<title>GreyboxFuzzer</title>\n",
       "<g id=\"a_node2\"><a xlink:href=\"GreyboxFuzzer.ipynb\" xlink:title=\"class GreyboxFuzzer:&#10;Coverage&#45;guided mutational fuzzing.\">\n",
       "<polygon fill=\"none\" stroke=\"black\" points=\"33.5,-162 33.5,-204 143.5,-204 143.5,-162 33.5,-162\"/>\n",
       "<text text-anchor=\"start\" x=\"41.5\" y=\"-189.8\" font-family=\"Patua One, Helvetica, sans-serif\" font-weight=\"bold\" font-size=\"14.00\" fill=\"#b03a2e\">GreyboxFuzzer</text>\n",
       "<polyline fill=\"none\" stroke=\"black\" points=\"33.5,-181 143.5,-181\"/>\n",
       "<g id=\"a_node2_3\"><a xlink:href=\"#\" xlink:title=\"GreyboxFuzzer\">\n",
       "<g id=\"a_node2_4\"><a xlink:href=\"GreyboxFuzzer.ipynb\" xlink:title=\"run(self, runner: MutationFuzzer.FunctionCoverageRunner) &#45;&gt; Tuple[Any, str]:&#10;Run function(inp) while tracking coverage.&#10;If we reach new coverage,&#10;add inp to population and its coverage to population_coverage\">\n",
       "<text text-anchor=\"start\" x=\"73.5\" y=\"-169.5\" font-family=\"'Fira Mono', 'Source Code Pro', 'Courier', monospace\" font-weight=\"bold\" font-style=\"italic\" font-size=\"10.00\">run()</text>\n",
       "</a>\n",
       "</g>\n",
       "</a>\n",
       "</g>\n",
       "</a>\n",
       "</g>\n",
       "</g>\n",
       "<!-- GreyboxGrammarFuzzer&#45;&gt;GreyboxFuzzer -->\n",
       "<g id=\"edge1\" class=\"edge\">\n",
       "<title>GreyboxGrammarFuzzer&#45;&gt;GreyboxFuzzer</title>\n",
       "<path fill=\"none\" stroke=\"black\" d=\"M88.5,-64.24C88.5,-88.32 88.5,-124.69 88.5,-150.63\"/>\n",
       "<polygon fill=\"none\" stroke=\"black\" points=\"85,-150.57 88.5,-160.57 92,-150.57 85,-150.57\"/>\n",
       "</g>\n",
       "<!-- AdvancedMutationFuzzer -->\n",
       "<g id=\"node3\" class=\"node\">\n",
       "<title>AdvancedMutationFuzzer</title>\n",
       "<g id=\"a_node3\"><a xlink:href=\"GreyboxFuzzer.ipynb\" xlink:title=\"class AdvancedMutationFuzzer:&#10;Base class for mutation&#45;based fuzzing.\">\n",
       "<polygon fill=\"none\" stroke=\"black\" points=\"0,-290.5 0,-343.5 177,-343.5 177,-290.5 0,-290.5\"/>\n",
       "<text text-anchor=\"start\" x=\"8\" y=\"-329.3\" font-family=\"Patua One, Helvetica, sans-serif\" font-weight=\"bold\" font-size=\"14.00\" fill=\"#b03a2e\">AdvancedMutationFuzzer</text>\n",
       "<polyline fill=\"none\" stroke=\"black\" points=\"0,-320.5 177,-320.5\"/>\n",
       "<g id=\"a_node3_5\"><a xlink:href=\"#\" xlink:title=\"AdvancedMutationFuzzer\">\n",
       "<g id=\"a_node3_6\"><a xlink:href=\"GreyboxFuzzer.ipynb\" xlink:title=\"__init__(self, seeds: List[str], mutator: GreyboxFuzzer.Mutator, schedule: GreyboxFuzzer.PowerSchedule) &#45;&gt; None:&#10;Constructor.&#10;`seeds` &#45; a list of (input) strings to mutate.&#10;`mutator` &#45; the mutator to apply.&#10;`schedule` &#45; the power schedule to apply.\">\n",
       "<text text-anchor=\"start\" x=\"58.5\" y=\"-309.5\" font-family=\"'Fira Mono', 'Source Code Pro', 'Courier', monospace\" font-weight=\"bold\" font-style=\"italic\" font-size=\"10.00\">__init__()</text>\n",
       "</a>\n",
       "</g>\n",
       "<g id=\"a_node3_7\"><a xlink:href=\"GreyboxFuzzer.ipynb\" xlink:title=\"fuzz(self) &#45;&gt; str:&#10;Returns first each seed once and then generates new inputs\">\n",
       "<text text-anchor=\"start\" x=\"58.5\" y=\"-298.5\" font-family=\"'Fira Mono', 'Source Code Pro', 'Courier', monospace\" font-weight=\"bold\" font-style=\"italic\" font-size=\"10.00\">fuzz()</text>\n",
       "</a>\n",
       "</g>\n",
       "</a>\n",
       "</g>\n",
       "</a>\n",
       "</g>\n",
       "</g>\n",
       "<!-- GreyboxFuzzer&#45;&gt;AdvancedMutationFuzzer -->\n",
       "<g id=\"edge2\" class=\"edge\">\n",
       "<title>GreyboxFuzzer&#45;&gt;AdvancedMutationFuzzer</title>\n",
       "<path fill=\"none\" stroke=\"black\" d=\"M88.5,-203.76C88.5,-223.66 88.5,-254.84 88.5,-279.29\"/>\n",
       "<polygon fill=\"none\" stroke=\"black\" points=\"85,-279.16 88.5,-289.16 92,-279.16 85,-279.16\"/>\n",
       "</g>\n",
       "<!-- Fuzzer -->\n",
       "<g id=\"node4\" class=\"node\">\n",
       "<title>Fuzzer</title>\n",
       "<g id=\"a_node4\"><a xlink:href=\"Fuzzer.ipynb\" xlink:title=\"class Fuzzer:&#10;Base class for fuzzers.\">\n",
       "<polygon fill=\"none\" stroke=\"black\" points=\"50,-380.5 50,-455.5 127,-455.5 127,-380.5 50,-380.5\"/>\n",
       "<text text-anchor=\"start\" x=\"67.5\" y=\"-441.3\" font-family=\"Patua One, Helvetica, sans-serif\" font-weight=\"bold\" font-size=\"14.00\" fill=\"#b03a2e\">Fuzzer</text>\n",
       "<polyline fill=\"none\" stroke=\"black\" points=\"50,-432.5 127,-432.5\"/>\n",
       "<g id=\"a_node4_8\"><a xlink:href=\"#\" xlink:title=\"Fuzzer\">\n",
       "<g id=\"a_node4_9\"><a xlink:href=\"Fuzzer.ipynb\" xlink:title=\"__init__(self) &#45;&gt; None:&#10;Constructor\">\n",
       "<text text-anchor=\"start\" x=\"58.5\" y=\"-421.5\" font-family=\"'Fira Mono', 'Source Code Pro', 'Courier', monospace\" font-weight=\"bold\" font-style=\"italic\" font-size=\"10.00\">__init__()</text>\n",
       "</a>\n",
       "</g>\n",
       "<g id=\"a_node4_10\"><a xlink:href=\"Fuzzer.ipynb\" xlink:title=\"fuzz(self) &#45;&gt; str:&#10;Return fuzz input\">\n",
       "<text text-anchor=\"start\" x=\"58.5\" y=\"-410.5\" font-family=\"'Fira Mono', 'Source Code Pro', 'Courier', monospace\" font-weight=\"bold\" font-style=\"italic\" font-size=\"10.00\">fuzz()</text>\n",
       "</a>\n",
       "</g>\n",
       "<g id=\"a_node4_11\"><a xlink:href=\"Fuzzer.ipynb\" xlink:title=\"run(self, runner: Fuzzer.Runner = &lt;Fuzzer.Runner object at 0x1066c61a0&gt;) &#45;&gt; Tuple[subprocess.CompletedProcess, str]:&#10;Run `runner` with fuzz input\">\n",
       "<text text-anchor=\"start\" x=\"58.5\" y=\"-399.5\" font-family=\"'Fira Mono', 'Source Code Pro', 'Courier', monospace\" font-weight=\"bold\" font-style=\"italic\" font-size=\"10.00\">run()</text>\n",
       "</a>\n",
       "</g>\n",
       "<g id=\"a_node4_12\"><a xlink:href=\"Fuzzer.ipynb\" xlink:title=\"runs(self, runner: Fuzzer.Runner = &lt;Fuzzer.PrintRunner object at 0x1066c66e0&gt;, trials: int = 10) &#45;&gt; List[Tuple[subprocess.CompletedProcess, str]]:&#10;Run `runner` with fuzz input, `trials` times\">\n",
       "<text text-anchor=\"start\" x=\"58.5\" y=\"-388.5\" font-family=\"'Fira Mono', 'Source Code Pro', 'Courier', monospace\" font-weight=\"bold\" font-size=\"10.00\">runs()</text>\n",
       "</a>\n",
       "</g>\n",
       "</a>\n",
       "</g>\n",
       "</a>\n",
       "</g>\n",
       "</g>\n",
       "<!-- AdvancedMutationFuzzer&#45;&gt;Fuzzer -->\n",
       "<g id=\"edge3\" class=\"edge\">\n",
       "<title>AdvancedMutationFuzzer&#45;&gt;Fuzzer</title>\n",
       "<path fill=\"none\" stroke=\"black\" d=\"M88.5,-343.49C88.5,-351.47 88.5,-360.54 88.5,-369.53\"/>\n",
       "<polygon fill=\"none\" stroke=\"black\" points=\"85,-369.26 88.5,-379.26 92,-369.26 85,-369.26\"/>\n",
       "</g>\n",
       "<!-- AFLSmartSchedule -->\n",
       "<g id=\"node5\" class=\"node\">\n",
       "<title>AFLSmartSchedule</title>\n",
       "<g id=\"a_node5\"><a xlink:href=\"#\" xlink:title=\"class AFLSmartSchedule:&#10;Define how fuzzing time should be distributed across the population.\">\n",
       "<polygon fill=\"none\" stroke=\"black\" points=\"191,-0.5 191,-75.5 328,-75.5 328,-0.5 191,-0.5\"/>\n",
       "<text text-anchor=\"start\" x=\"201.5\" y=\"-61.3\" font-family=\"Patua One, Helvetica, sans-serif\" font-weight=\"bold\" font-size=\"14.00\" fill=\"#b03a2e\">AFLSmartSchedule</text>\n",
       "<polyline fill=\"none\" stroke=\"black\" points=\"191,-52.5 328,-52.5\"/>\n",
       "<g id=\"a_node5_13\"><a xlink:href=\"#\" xlink:title=\"AFLSmartSchedule\">\n",
       "<g id=\"a_node5_14\"><a xlink:href=\"#\" xlink:title=\"__init__(self, parser: Parser.EarleyParser, exponent: float = 1.0):&#10;Constructor\">\n",
       "<text text-anchor=\"start\" x=\"199.5\" y=\"-41.5\" font-family=\"'Fira Mono', 'Source Code Pro', 'Courier', monospace\" font-weight=\"bold\" font-style=\"italic\" font-size=\"10.00\">__init__()</text>\n",
       "</a>\n",
       "</g>\n",
       "<g id=\"a_node5_15\"><a xlink:href=\"#\" xlink:title=\"assignEnergy(self, population: Sequence[GreyboxFuzzer.Seed]):&#10;Assign exponential energy proportional to degree of validity\">\n",
       "<text text-anchor=\"start\" x=\"199.5\" y=\"-30.5\" font-family=\"'Fira Mono', 'Source Code Pro', 'Courier', monospace\" font-style=\"italic\" font-size=\"10.00\">assignEnergy()</text>\n",
       "</a>\n",
       "</g>\n",
       "<g id=\"a_node5_16\"><a xlink:href=\"#\" xlink:title=\"degree_of_validity(self, seed: GreyboxFuzzer.Seed) &#45;&gt; float:&#10;Returns the proportion of a seed that is parsable\">\n",
       "<text text-anchor=\"start\" x=\"199.5\" y=\"-18.5\" font-family=\"'Fira Mono', 'Source Code Pro', 'Courier', monospace\" font-size=\"10.00\">degree_of_validity()</text>\n",
       "</a>\n",
       "</g>\n",
       "<g id=\"a_node5_17\"><a xlink:href=\"#\" xlink:title=\"parsable(self, seed: GreyboxFuzzer.Seed) &#45;&gt; str:&#10;Returns the substring that is parsable\">\n",
       "<text text-anchor=\"start\" x=\"199.5\" y=\"-7.5\" font-family=\"'Fira Mono', 'Source Code Pro', 'Courier', monospace\" font-size=\"10.00\">parsable()</text>\n",
       "</a>\n",
       "</g>\n",
       "</a>\n",
       "</g>\n",
       "</a>\n",
       "</g>\n",
       "</g>\n",
       "<!-- PowerSchedule -->\n",
       "<g id=\"node6\" class=\"node\">\n",
       "<title>PowerSchedule</title>\n",
       "<g id=\"a_node6\"><a xlink:href=\"GreyboxFuzzer.ipynb\" xlink:title=\"class PowerSchedule:&#10;Define how fuzzing time should be distributed across the population.\">\n",
       "<polygon fill=\"none\" stroke=\"black\" points=\"204.5,-162 204.5,-204 314.5,-204 314.5,-162 204.5,-162\"/>\n",
       "<text text-anchor=\"start\" x=\"212.5\" y=\"-189.8\" font-family=\"Patua One, Helvetica, sans-serif\" font-weight=\"bold\" font-size=\"14.00\" fill=\"#b03a2e\">PowerSchedule</text>\n",
       "<polyline fill=\"none\" stroke=\"black\" points=\"204.5,-181 314.5,-181\"/>\n",
       "<g id=\"a_node6_18\"><a xlink:href=\"#\" xlink:title=\"PowerSchedule\">\n",
       "<g id=\"a_node6_19\"><a xlink:href=\"GreyboxFuzzer.ipynb\" xlink:title=\"__init__(self) &#45;&gt; None:&#10;Constructor\">\n",
       "<text text-anchor=\"start\" x=\"229.5\" y=\"-169.5\" font-family=\"'Fira Mono', 'Source Code Pro', 'Courier', monospace\" font-weight=\"bold\" font-style=\"italic\" font-size=\"10.00\">__init__()</text>\n",
       "</a>\n",
       "</g>\n",
       "</a>\n",
       "</g>\n",
       "</a>\n",
       "</g>\n",
       "</g>\n",
       "<!-- AFLSmartSchedule&#45;&gt;PowerSchedule -->\n",
       "<g id=\"edge4\" class=\"edge\">\n",
       "<title>AFLSmartSchedule&#45;&gt;PowerSchedule</title>\n",
       "<path fill=\"none\" stroke=\"black\" d=\"M259.5,-75.45C259.5,-98.77 259.5,-128.7 259.5,-150.9\"/>\n",
       "<polygon fill=\"none\" stroke=\"black\" points=\"256,-150.83 259.5,-160.83 263,-150.83 256,-150.83\"/>\n",
       "</g>\n",
       "<!-- RegionMutator -->\n",
       "<g id=\"node7\" class=\"node\">\n",
       "<title>RegionMutator</title>\n",
       "<g id=\"a_node7\"><a xlink:href=\"#\" xlink:title=\"class RegionMutator:&#10;Mutate inputs with input fragments from a pool\">\n",
       "<polygon fill=\"none\" stroke=\"black\" points=\"346,-6 346,-70 495,-70 495,-6 346,-6\"/>\n",
       "<text text-anchor=\"start\" x=\"373\" y=\"-55.8\" font-family=\"Patua One, Helvetica, sans-serif\" font-weight=\"bold\" font-size=\"14.00\" fill=\"#b03a2e\">RegionMutator</text>\n",
       "<polyline fill=\"none\" stroke=\"black\" points=\"346,-47 495,-47\"/>\n",
       "<g id=\"a_node7_20\"><a xlink:href=\"#\" xlink:title=\"RegionMutator\">\n",
       "<g id=\"a_node7_21\"><a xlink:href=\"#\" xlink:title=\"add_to_fragment_pool(self, seed: SeedWithRegions) &#45;&gt; None:&#10;Mark fragments and regions in a seed file\">\n",
       "<text text-anchor=\"start\" x=\"354.5\" y=\"-35.5\" font-family=\"'Fira Mono', 'Source Code Pro', 'Courier', monospace\" font-style=\"italic\" font-size=\"10.00\">add_to_fragment_pool()</text>\n",
       "</a>\n",
       "</g>\n",
       "<g id=\"a_node7_22\"><a xlink:href=\"#\" xlink:title=\"delete_fragment(self, seed: SeedWithRegions) &#45;&gt; SeedWithRegions:&#10;Deletes a random region\">\n",
       "<text text-anchor=\"start\" x=\"354.5\" y=\"-24.5\" font-family=\"'Fira Mono', 'Source Code Pro', 'Courier', monospace\" font-style=\"italic\" font-size=\"10.00\">delete_fragment()</text>\n",
       "</a>\n",
       "</g>\n",
       "<g id=\"a_node7_23\"><a xlink:href=\"#\" xlink:title=\"swap_fragment(self, seed: SeedWithRegions) &#45;&gt; SeedWithRegions:&#10;Chooses a random region and swaps it with a fragment&#10;that starts with the same symbol\">\n",
       "<text text-anchor=\"start\" x=\"354.5\" y=\"-13.5\" font-family=\"'Fira Mono', 'Source Code Pro', 'Courier', monospace\" font-style=\"italic\" font-size=\"10.00\">swap_fragment()</text>\n",
       "</a>\n",
       "</g>\n",
       "</a>\n",
       "</g>\n",
       "</a>\n",
       "</g>\n",
       "</g>\n",
       "<!-- FragmentMutator -->\n",
       "<g id=\"node8\" class=\"node\">\n",
       "<title>FragmentMutator</title>\n",
       "<g id=\"a_node8\"><a xlink:href=\"#\" xlink:title=\"class FragmentMutator:&#10;Mutate inputs with input fragments from a pool\">\n",
       "<polygon fill=\"none\" stroke=\"black\" points=\"346,-112.5 346,-253.5 495,-253.5 495,-112.5 346,-112.5\"/>\n",
       "<text text-anchor=\"start\" x=\"364.5\" y=\"-239.3\" font-family=\"Patua One, Helvetica, sans-serif\" font-weight=\"bold\" font-size=\"14.00\" fill=\"#b03a2e\">FragmentMutator</text>\n",
       "<polyline fill=\"none\" stroke=\"black\" points=\"346,-230.5 495,-230.5\"/>\n",
       "<g id=\"a_node8_24\"><a xlink:href=\"#\" xlink:title=\"FragmentMutator\">\n",
       "<g id=\"a_node8_25\"><a xlink:href=\"#\" xlink:title=\"__init__(self, parser):&#10;Initialize mutators\">\n",
       "<text text-anchor=\"start\" x=\"354.5\" y=\"-219.5\" font-family=\"'Fira Mono', 'Source Code Pro', 'Courier', monospace\" font-weight=\"bold\" font-style=\"italic\" font-size=\"10.00\">__init__()</text>\n",
       "</a>\n",
       "</g>\n",
       "<g id=\"a_node8_26\"><a xlink:href=\"#\" xlink:title=\"add_to_fragment_pool(self, seed: SeedWithStructure) &#45;&gt; None:&#10;Adds all fragments of a seed to the fragment pool\">\n",
       "<text text-anchor=\"start\" x=\"354.5\" y=\"-208.5\" font-family=\"'Fira Mono', 'Source Code Pro', 'Courier', monospace\" font-weight=\"bold\" font-style=\"italic\" font-size=\"10.00\">add_to_fragment_pool()</text>\n",
       "</a>\n",
       "</g>\n",
       "<g id=\"a_node8_27\"><a xlink:href=\"#\" xlink:title=\"add_fragment(self, fragment: DerivationTree) &#45;&gt; None:&#10;Recursively adds fragments to the fragment pool\">\n",
       "<text text-anchor=\"start\" x=\"354.5\" y=\"-196.5\" font-family=\"'Fira Mono', 'Source Code Pro', 'Courier', monospace\" font-size=\"10.00\">add_fragment()</text>\n",
       "</a>\n",
       "</g>\n",
       "<g id=\"a_node8_28\"><a xlink:href=\"#\" xlink:title=\"count_nodes(self, fragment: DerivationTree) &#45;&gt; int:&#10;Returns the number of nodes in the fragment\">\n",
       "<text text-anchor=\"start\" x=\"354.5\" y=\"-185.5\" font-family=\"'Fira Mono', 'Source Code Pro', 'Courier', monospace\" font-size=\"10.00\">count_nodes()</text>\n",
       "</a>\n",
       "</g>\n",
       "<g id=\"a_node8_29\"><a xlink:href=\"#\" xlink:title=\"delete_fragment(self, seed: SeedWithStructure) &#45;&gt; SeedWithStructure:&#10;Delete a random fragment\">\n",
       "<text text-anchor=\"start\" x=\"354.5\" y=\"-175.5\" font-family=\"'Fira Mono', 'Source Code Pro', 'Courier', monospace\" font-style=\"italic\" font-size=\"10.00\">delete_fragment()</text>\n",
       "</a>\n",
       "</g>\n",
       "<g id=\"a_node8_30\"><a xlink:href=\"#\" xlink:title=\"is_excluded(self, symbol: str) &#45;&gt; bool:&#10;Returns true if a fragment starting with a specific&#10;symbol and all its decendents can be excluded\">\n",
       "<text text-anchor=\"start\" x=\"354.5\" y=\"-163.5\" font-family=\"'Fira Mono', 'Source Code Pro', 'Courier', monospace\" font-size=\"10.00\">is_excluded()</text>\n",
       "</a>\n",
       "</g>\n",
       "<g id=\"a_node8_31\"><a xlink:href=\"#\" xlink:title=\"mutate(self, seed: SeedWithStructure) &#45;&gt; SeedWithStructure:&#10;Implement structure&#45;aware mutation. Memoize seeds.\">\n",
       "<text text-anchor=\"start\" x=\"354.5\" y=\"-153.5\" font-family=\"'Fira Mono', 'Source Code Pro', 'Courier', monospace\" font-style=\"italic\" font-size=\"10.00\">mutate()</text>\n",
       "</a>\n",
       "</g>\n",
       "<g id=\"a_node8_32\"><a xlink:href=\"#\" xlink:title=\"recursive_delete(self, fragment: DerivationTree) &#45;&gt; DerivationTree:&#10;Recursively finds the fragment to delete\">\n",
       "<text text-anchor=\"start\" x=\"354.5\" y=\"-141.5\" font-family=\"'Fira Mono', 'Source Code Pro', 'Courier', monospace\" font-size=\"10.00\">recursive_delete()</text>\n",
       "</a>\n",
       "</g>\n",
       "<g id=\"a_node8_33\"><a xlink:href=\"#\" xlink:title=\"recursive_swap(self, fragment: DerivationTree) &#45;&gt; DerivationTree:&#10;Recursively finds the fragment to swap.\">\n",
       "<text text-anchor=\"start\" x=\"354.5\" y=\"-130.5\" font-family=\"'Fira Mono', 'Source Code Pro', 'Courier', monospace\" font-size=\"10.00\">recursive_swap()</text>\n",
       "</a>\n",
       "</g>\n",
       "<g id=\"a_node8_34\"><a xlink:href=\"#\" xlink:title=\"swap_fragment(self, seed: SeedWithStructure) &#45;&gt; SeedWithStructure:&#10;Substitutes a random fragment with another with the same symbol\">\n",
       "<text text-anchor=\"start\" x=\"354.5\" y=\"-120.5\" font-family=\"'Fira Mono', 'Source Code Pro', 'Courier', monospace\" font-style=\"italic\" font-size=\"10.00\">swap_fragment()</text>\n",
       "</a>\n",
       "</g>\n",
       "</a>\n",
       "</g>\n",
       "</a>\n",
       "</g>\n",
       "</g>\n",
       "<!-- RegionMutator&#45;&gt;FragmentMutator -->\n",
       "<g id=\"edge5\" class=\"edge\">\n",
       "<title>RegionMutator&#45;&gt;FragmentMutator</title>\n",
       "<path fill=\"none\" stroke=\"black\" d=\"M420.5,-69.68C420.5,-79.16 420.5,-90.07 420.5,-101.3\"/>\n",
       "<polygon fill=\"none\" stroke=\"black\" points=\"417,-101.07 420.5,-111.07 424,-101.07 417,-101.07\"/>\n",
       "</g>\n",
       "<!-- Mutator -->\n",
       "<g id=\"node9\" class=\"node\">\n",
       "<title>Mutator</title>\n",
       "<g id=\"a_node9\"><a xlink:href=\"GreyboxFuzzer.ipynb\" xlink:title=\"class Mutator:&#10;Mutate strings\">\n",
       "<polygon fill=\"none\" stroke=\"black\" points=\"382,-296 382,-338 459,-338 459,-296 382,-296\"/>\n",
       "<text text-anchor=\"start\" x=\"394.5\" y=\"-323.8\" font-family=\"Patua One, Helvetica, sans-serif\" font-weight=\"bold\" font-size=\"14.00\" fill=\"#b03a2e\">Mutator</text>\n",
       "<polyline fill=\"none\" stroke=\"black\" points=\"382,-315 459,-315\"/>\n",
       "<g id=\"a_node9_35\"><a xlink:href=\"#\" xlink:title=\"Mutator\">\n",
       "<g id=\"a_node9_36\"><a xlink:href=\"GreyboxFuzzer.ipynb\" xlink:title=\"__init__(self) &#45;&gt; None:&#10;Constructor\">\n",
       "<text text-anchor=\"start\" x=\"390.5\" y=\"-303.5\" font-family=\"'Fira Mono', 'Source Code Pro', 'Courier', monospace\" font-weight=\"bold\" font-style=\"italic\" font-size=\"10.00\">__init__()</text>\n",
       "</a>\n",
       "</g>\n",
       "</a>\n",
       "</g>\n",
       "</a>\n",
       "</g>\n",
       "</g>\n",
       "<!-- FragmentMutator&#45;&gt;Mutator -->\n",
       "<g id=\"edge6\" class=\"edge\">\n",
       "<title>FragmentMutator&#45;&gt;Mutator</title>\n",
       "<path fill=\"none\" stroke=\"black\" d=\"M420.5,-253.48C420.5,-264.48 420.5,-275.36 420.5,-284.88\"/>\n",
       "<polygon fill=\"none\" stroke=\"black\" points=\"417,-284.6 420.5,-294.6 424,-284.6 417,-284.6\"/>\n",
       "</g>\n",
       "<!-- Legend -->\n",
       "<g id=\"node10\" class=\"node\">\n",
       "<title>Legend</title>\n",
       "<text text-anchor=\"start\" x=\"513.5\" y=\"-55.5\" font-family=\"Patua One, Helvetica, sans-serif\" font-weight=\"bold\" font-size=\"10.00\" fill=\"#b03a2e\">Legend</text>\n",
       "<text text-anchor=\"start\" x=\"513.5\" y=\"-45.5\" font-family=\"Patua One, Helvetica, sans-serif\" font-size=\"10.00\">• </text>\n",
       "<text text-anchor=\"start\" x=\"520.5\" y=\"-45.5\" font-family=\"'Fira Mono', 'Source Code Pro', 'Courier', monospace\" font-weight=\"bold\" font-size=\"8.00\">public_method()</text>\n",
       "<text text-anchor=\"start\" x=\"513.5\" y=\"-35.5\" font-family=\"Patua One, Helvetica, sans-serif\" font-size=\"10.00\">• </text>\n",
       "<text text-anchor=\"start\" x=\"520.5\" y=\"-35.5\" font-family=\"'Fira Mono', 'Source Code Pro', 'Courier', monospace\" font-size=\"8.00\">private_method()</text>\n",
       "<text text-anchor=\"start\" x=\"513.5\" y=\"-25.5\" font-family=\"Patua One, Helvetica, sans-serif\" font-size=\"10.00\">• </text>\n",
       "<text text-anchor=\"start\" x=\"520.5\" y=\"-25.5\" font-family=\"'Fira Mono', 'Source Code Pro', 'Courier', monospace\" font-style=\"italic\" font-size=\"8.00\">overloaded_method()</text>\n",
       "<text text-anchor=\"start\" x=\"513.5\" y=\"-16.3\" font-family=\"Helvetica,sans-Serif\" font-size=\"9.00\">Hover over names to see doc</text>\n",
       "</g>\n",
       "</g>\n",
       "</svg>\n"
      ],
      "text/plain": [
       "<graphviz.graphs.Digraph at 0x14f5a6bf0>"
      ]
     },
     "execution_count": 87,
     "metadata": {},
     "output_type": "execute_result"
    }
   ],
   "source": [
    "# ignore\n",
    "display_class_hierarchy([GreyboxGrammarFuzzer, AFLSmartSchedule, RegionMutator],\n",
    "                        public_methods=[\n",
    "                            Fuzzer.__init__,\n",
    "                            Fuzzer.fuzz,\n",
    "                            Fuzzer.run,\n",
    "                            Fuzzer.runs,\n",
    "                            AdvancedMutationFuzzer.__init__,\n",
    "                            AdvancedMutationFuzzer.fuzz,\n",
    "                            GreyboxFuzzer.run,\n",
    "                            GreyboxGrammarFuzzer.__init__,\n",
    "                            GreyboxGrammarFuzzer.run,\n",
    "                            AFLSmartSchedule.__init__,\n",
    "                            PowerSchedule.__init__,\n",
    "                            Mutator.__init__,\n",
    "                            FragmentMutator.__init__,\n",
    "                            FragmentMutator.add_to_fragment_pool,\n",
    "                            RegionMutator.__init__,\n",
    "                        ],\n",
    "                        types={'DerivationTree': DerivationTree,\n",
    "                               'Location': Location},\n",
    "                        project='fuzzingbook')"
   ]
  },
  {
   "cell_type": "markdown",
   "metadata": {
    "button": false,
    "new_sheet": false,
    "run_control": {
     "read_only": false
    },
    "slideshow": {
     "slide_type": "slide"
    }
   },
   "source": [
    "## Next Steps\n",
    "\n",
    "This chapter closes our discussion of syntactic fuzzing techniques.\n",
    "\n",
    "* In the [next chapter](Reducer.ipynb), we discuss how to _reduce failure-inducing inputs_ after a failure, keeping only those portions of the input that are necessary for reproducing the failure.\n",
    "* The [next part](04_Semantical_Fuzzing.ipynb) will go from syntactical to _semantical_ fuzzing, considering code semantics for targeted test generation."
   ]
  },
  {
   "cell_type": "markdown",
   "metadata": {
    "button": false,
    "new_sheet": true,
    "run_control": {
     "read_only": false
    },
    "slideshow": {
     "slide_type": "slide"
    }
   },
   "source": [
    "## Exercises\n"
   ]
  },
  {
   "cell_type": "markdown",
   "metadata": {
    "slideshow": {
     "slide_type": "skip"
    },
    "solution2": "hidden",
    "solution2_first": true
   },
   "source": [
    "### Exercise 1: The Big Greybox Fuzzer Shoot-Out\n",
    "\n",
    "Use our implementations of greybox techniques and evaluate them on a benchmark.  Which technique (and which sub-technique) has which impact and why?  Also take into account the specific approaches of Superion \\cite{Wang2019superion} and Nautilus \\cite{Aschermann2019nautilus}, possibly even on the benchmarks used by these approaches."
   ]
  },
  {
   "cell_type": "markdown",
   "metadata": {
    "slideshow": {
     "slide_type": "skip"
    },
    "solution2": "hidden"
   },
   "source": [
    "**Solution.**  To be added."
   ]
  }
 ],
 "metadata": {
  "ipub": {
   "bibliography": "fuzzingbook.bib",
   "toc": true
  },
  "kernelspec": {
   "display_name": "Python 3",
   "language": "python",
   "name": "python3"
  },
  "language_info": {
   "codemirror_mode": {
    "name": "ipython",
    "version": 3
   },
   "file_extension": ".py",
   "mimetype": "text/x-python",
   "name": "python",
   "nbconvert_exporter": "python",
   "pygments_lexer": "ipython3",
   "version": "3.10.2"
  },
  "toc": {
   "base_numbering": 1,
   "nav_menu": {},
   "number_sections": true,
   "sideBar": true,
   "skip_h1_title": true,
   "title_cell": "",
   "title_sidebar": "Contents",
   "toc_cell": false,
   "toc_position": {},
   "toc_section_display": true,
   "toc_window_display": true
  },
  "toc-autonumbering": false,
  "varInspector": {
   "cols": {
    "lenName": 16,
    "lenType": 16,
    "lenVar": 40
   },
   "kernels_config": {
    "python": {
     "delete_cmd_postfix": "",
     "delete_cmd_prefix": "del ",
     "library": "var_list.py",
     "varRefreshCmd": "print(var_dic_list())"
    },
    "r": {
     "delete_cmd_postfix": ") ",
     "delete_cmd_prefix": "rm(",
     "library": "var_list.r",
     "varRefreshCmd": "cat(var_dic_list()) "
    }
   },
   "types_to_exclude": [
    "module",
    "function",
    "builtin_function_or_method",
    "instance",
    "_Feature"
   ],
   "window_display": false
  },
  "vscode": {
   "interpreter": {
    "hash": "4185989cf89c47c310c2629adcadd634093b57a2c49dffb5ae8d0d14fa302f2b"
   }
  }
 },
 "nbformat": 4,
 "nbformat_minor": 4
}