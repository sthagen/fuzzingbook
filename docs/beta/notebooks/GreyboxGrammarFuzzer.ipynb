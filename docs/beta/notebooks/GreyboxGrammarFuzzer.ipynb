{
 "cells": [
  {
   "cell_type": "markdown",
   "metadata": {
    "button": false,
    "new_sheet": false,
    "run_control": {
     "read_only": false
    },
    "slideshow": {
     "slide_type": "slide"
    }
   },
   "source": [
    "# Greybox Fuzzing with Grammars\n",
    "\n",
    "In this chapter, we introduce important extensions to our syntactic fuzzing techniques, all leveraging _syntactic_ parts of _existing inputs_.\n",
    "\n",
    "1. We show how to leverage _dictionaries_ of input fragments during fuzzing. The idea is to integrate such dictionaries into a _mutator_, which would then inject these fragments (typically keywords and other items of importance) into population.\n",
    "\n",
    "2. We show how to combine [parsing](Parser.ipynb) and [fuzzing](GrammarFuzzer.ipynb) with grammars.  This allows to _mutate_ existing inputs while preserving syntactical correctness, and to _reuse_ fragments from existing inputs while generating new ones.  The combination of language-based parsing and generating, as demonstrated in this chapter, has been highly successful in practice: The _LangFuzz_ fuzzer for JavaScript has found more than 2,600 bugs in JavaScript interpreters this way.\n",
    "\n",
    "3. In the previous chapters, we have used grammars in a _black-box_ manner – that is, we have used them to generate inputs regardless of the program being tested.  In this chapter, we introduce mutational _greybox fuzzing with grammars_: Techniques that make use of _feedback from the program under test_ to guide test generations towards specific goals.  As in [lexical greybox fuzzing](GreyboxFuzzer.ipynb), this feedback is mostly _coverage_, allowing us to direct grammar-based testing towards uncovered code parts. This part is inspired by the _AFLSmart_ fuzzer, which combines parsing and mutational fuzzing."
   ]
  },
  {
   "cell_type": "code",
   "execution_count": 1,
   "metadata": {
    "execution": {
     "iopub.execute_input": "2022-02-21T08:20:44.203483Z",
     "iopub.status.busy": "2022-02-21T08:20:44.202797Z",
     "iopub.status.idle": "2022-02-21T08:20:44.322590Z",
     "shell.execute_reply": "2022-02-21T08:20:44.323117Z"
    },
    "slideshow": {
     "slide_type": "skip"
    }
   },
   "outputs": [
    {
     "data": {
      "text/html": [
       "\n",
       "        <iframe\n",
       "            width=\"640\"\n",
       "            height=\"360\"\n",
       "            src=\"https://www.youtube-nocookie.com/embed/JPSfCCkuNo0\"\n",
       "            frameborder=\"0\"\n",
       "            allowfullscreen\n",
       "            \n",
       "        ></iframe>\n",
       "        "
      ],
      "text/plain": [
       "<IPython.lib.display.IFrame at 0x11137be80>"
      ]
     },
     "execution_count": 1,
     "metadata": {},
     "output_type": "execute_result"
    }
   ],
   "source": [
    "from bookutils import YouTubeVideo\n",
    "YouTubeVideo(\"JPSfCCkuNo0\")"
   ]
  },
  {
   "cell_type": "markdown",
   "metadata": {
    "button": false,
    "new_sheet": false,
    "run_control": {
     "read_only": false
    },
    "slideshow": {
     "slide_type": "subslide"
    }
   },
   "source": [
    "**Prerequisites**\n",
    "\n",
    "* We build on several concepts from [the chapter on greybox fuzzing (without grammars)](GreyboxFuzzer.ipynb).\n",
    "* As the title suggests, you should know how to fuzz with grammars [from the chapter on grammars](Grammars.ipynb)."
   ]
  },
  {
   "cell_type": "markdown",
   "metadata": {
    "slideshow": {
     "slide_type": "skip"
    }
   },
   "source": [
    "## Synopsis\n",
    "<!-- Automatically generated. Do not edit. -->\n",
    "\n",
    "To [use the code provided in this chapter](Importing.ipynb), write\n",
    "\n",
    "```python\n",
    ">>> from fuzzingbook.GreyboxGrammarFuzzer import <identifier>\n",
    "```\n",
    "\n",
    "and then make use of the following features.\n",
    "\n",
    "\n",
    "This chapter introduces advanced methods for language-based grey-box fuzzing inspired by the _LangFuzz_ and _AFLSmart_ fuzzers.\n",
    "\n",
    "### Fuzzing with Dictionaries\n",
    "\n",
    "Rather than mutating strings randomly, the `DictMutator` class allows to insert tokens from a dictionary, thus increasing fuzzer performance. The dictionary comes as a list of strings, out of which random elements are picked and inserted - in addition to the given mutations such as deleting or inserting individual bytes.\n",
    "\n",
    "```python\n",
    ">>> dict_mutator = DictMutator([\"<a>\", \"</a>\", \"<a/>\", \"='a'\"])\n",
    ">>> seeds = [\"<html><head><title>Hello</title></head><body>World<br/></body></html>\"]\n",
    ">>> for i in range(10):\n",
    ">>>     print(dict_mutator.mutate(seeds[0]))\n",
    "<html><head><title>Hello</title></head><body>World<br+></body></html>\n",
    "<html><heaad><title>Hello</title></head><body>World<br/></body></html>\n",
    "<html><head><title>Hello</title></head><body>World<br/></bdy></html>\n",
    "<html><head><title>Hello</title></jead><body>World<br/></body></html>\n",
    "<='a'html><head><title>Hello</title></head><body>World<br/></body></html>\n",
    "<html><head><title>Hello</title></hea><body>World<br/></body></html>\n",
    "<html><head><title>Hello</title></head><body>World<br/></body6</html>\n",
    "<html><head><title>Hello</title></head><body>World<br/></bdy></html>\n",
    "<html><head><title>Hepllo</title></head><body>World<br/></body></html>\n",
    "z<html><head><title>Hello</title></head><body>World<br/></body></html>\n",
    "\n",
    "```\n",
    "This `DictMutator` can be used as an argument to `GreyboxFuzzer`:\n",
    "\n",
    "```python\n",
    ">>> runner = FunctionCoverageRunner(my_parser)\n",
    ">>> dict_fuzzer = GreyboxFuzzer(seeds, dict_mutator, PowerSchedule())\n",
    ">>> dict_fuzzer_outcome = dict_fuzzer.runs(runner, trials=5)\n",
    "```\n",
    "![](PICS/GreyboxGrammarFuzzer-synopsis-1.svg)\n",
    "\n",
    "### Fuzzing with Input Fragments\n",
    "\n",
    "The `LangFuzzer` class introduces a _language-aware_ fuzzer that can recombine fragments from existing inputs – inspired by the highly effective `LangFuzz` fuzzer. At its core is a `FragmentMutator` class that that takes a [_parser_](Parser.ipynb) as argument:\n",
    "\n",
    "```python\n",
    ">>> parser = EarleyParser(XML_GRAMMAR, tokens=XML_TOKENS)\n",
    ">>> mutator = FragmentMutator(parser)\n",
    "```\n",
    "The fuzzer itself is initialized with a list of seeds, the above `FragmentMutator`, and a power schedule:\n",
    "\n",
    "```python\n",
    ">>> seeds = [\"<html><head><title>Hello</title></head><body>World<br/></body></html>\"]\n",
    ">>> schedule = PowerSchedule()\n",
    ">>> lang_fuzzer = LangFuzzer(seeds, mutator, schedule)\n",
    ">>> for i in range(10):\n",
    ">>>     print(lang_fuzzer.fuzz())\n",
    "<html><head><title>Hello</title></head><body>World<br/></body></html>\n",
    "<html><head><title>Hello</title></head><body>World<br/></body></html>\n",
    "<html><head><title>Hello</title></head><body>World<br/></body></html>\n",
    "<html><head><title>Hello</title></head><body>World<br/></body></html>\n",
    "<html><head><title>Hello</title></head><body>World<br/></body></html>\n",
    "<html><head><title>Hello</title></head><body>World<br/></body></html>\n",
    "<html><head><title>Hello</title></head><body>World<br/></body></html>\n",
    "<html><head><title>Hello</title></head><body>World<br/></body></html>\n",
    "<html><head><title>Hello</title></head><body>World<br/></body></html>\n",
    "<html><head><title>Hello</title></head><body>World<br/></body></html>\n",
    "\n",
    "```\n",
    "![](PICS/GreyboxGrammarFuzzer-synopsis-2.svg)\n",
    "\n",
    "### Fuzzing with Input Regions\n",
    "\n",
    "The `GreyboxGrammarFuzzer` class uses two mutators:\n",
    "* a _tree mutator_ (a `RegionMutator` object) that can parse existing strings to identify _regions_ in that string to be swapped or deleted.\n",
    "* a _byte mutator_ to apply bit- and character-level mutations.\n",
    "\n",
    "```python\n",
    ">>> tree_mutator = RegionMutator(parser)\n",
    ">>> byte_mutator = Mutator()\n",
    "```\n",
    "The _schedule_ for the `GreyboxGrammarFuzzer` class can be a regular `PowerSchedule` object. However, a more sophisticated schedule is provided by `AFLSmartSchedule`, which assigns more [energy](GreyboxFuzzer.ipynb#Power-Schedules) to seeds that have a higher degree of validity.\n",
    "\n",
    "```python\n",
    ">>> schedule = AFLSmartSchedule(parser)\n",
    "```\n",
    "The `GreyboxGrammarFuzzer` constructor takes a set of seeds as well as the two mutators and the schedule:\n",
    "\n",
    "```python\n",
    ">>> aflsmart_fuzzer = GreyboxGrammarFuzzer(seeds, byte_mutator, tree_mutator, schedule)\n",
    "```\n",
    "As it relies on code coverage, it is typically combined with a `FunctionCoverageRunner`:\n",
    "\n",
    "```python\n",
    ">>> runner = FunctionCoverageRunner(my_parser)\n",
    ">>> aflsmart_outcome = aflsmart_fuzzer.runs(runner, trials=5)\n",
    "```\n",
    "![](PICS/GreyboxGrammarFuzzer-synopsis-3.svg)\n",
    "\n"
   ]
  },
  {
   "cell_type": "markdown",
   "metadata": {
    "slideshow": {
     "slide_type": "slide"
    }
   },
   "source": [
    "## Background\n",
    "First, we [recall](GreyboxFuzzer.ipynb#Ingredients-for-Greybox-Fuzzing) a few basic ingredients for mutational fuzzers.\n",
    "* **Seed**. A _seed_ is an input that is used by the fuzzer to generate new inputs by applying a sequence of mutations.\n",
    "* **Mutator**. A _mutator_ implements a set of mutation operators that applied to an input produce a slightly modified input.\n",
    "* **PowerSchedule**. A _power schedule_ assigns _energy_ to a seed. A seed with higher energy is fuzzed more often throughout the fuzzing campaign.\n",
    "* **AdvancedMutationFuzzer**. Our _mutational blackbox fuzzer_ generates inputs by mutating seeds in an initial population of inputs.\n",
    "* **GreyboxFuzzer**. Our _greybox fuzzer_ dynamically adds inputs to the population of seeds that increased coverage.\n",
    "* **FunctionCoverageRunner**. Our _function coverage runner_ collects coverage information for the execution of a given Python function.\n",
    "\n",
    "Let's try to get a feeling for these concepts."
   ]
  },
  {
   "cell_type": "code",
   "execution_count": 2,
   "metadata": {
    "execution": {
     "iopub.execute_input": "2022-02-21T08:20:44.327393Z",
     "iopub.status.busy": "2022-02-21T08:20:44.326706Z",
     "iopub.status.idle": "2022-02-21T08:20:44.328902Z",
     "shell.execute_reply": "2022-02-21T08:20:44.329342Z"
    },
    "slideshow": {
     "slide_type": "skip"
    }
   },
   "outputs": [],
   "source": [
    "import bookutils"
   ]
  },
  {
   "cell_type": "code",
   "execution_count": 3,
   "metadata": {
    "execution": {
     "iopub.execute_input": "2022-02-21T08:20:44.332612Z",
     "iopub.status.busy": "2022-02-21T08:20:44.332065Z",
     "iopub.status.idle": "2022-02-21T08:20:44.334061Z",
     "shell.execute_reply": "2022-02-21T08:20:44.334456Z"
    },
    "slideshow": {
     "slide_type": "skip"
    }
   },
   "outputs": [],
   "source": [
    "from typing import List, Set, Dict, Sequence, cast"
   ]
  },
  {
   "cell_type": "code",
   "execution_count": 4,
   "metadata": {
    "execution": {
     "iopub.execute_input": "2022-02-21T08:20:44.337972Z",
     "iopub.status.busy": "2022-02-21T08:20:44.337370Z",
     "iopub.status.idle": "2022-02-21T08:20:46.563798Z",
     "shell.execute_reply": "2022-02-21T08:20:46.564238Z"
    },
    "slideshow": {
     "slide_type": "skip"
    }
   },
   "outputs": [],
   "source": [
    "from Fuzzer import Fuzzer\n",
    "from GreyboxFuzzer import Mutator, Seed, PowerSchedule\n",
    "from GreyboxFuzzer import AdvancedMutationFuzzer, GreyboxFuzzer\n",
    "from MutationFuzzer import FunctionCoverageRunner"
   ]
  },
  {
   "cell_type": "markdown",
   "metadata": {
    "slideshow": {
     "slide_type": "subslide"
    }
   },
   "source": [
    "The following command applies a mutation to the input \"Hello World\"."
   ]
  },
  {
   "cell_type": "code",
   "execution_count": 5,
   "metadata": {
    "execution": {
     "iopub.execute_input": "2022-02-21T08:20:46.568537Z",
     "iopub.status.busy": "2022-02-21T08:20:46.567932Z",
     "iopub.status.idle": "2022-02-21T08:20:46.570408Z",
     "shell.execute_reply": "2022-02-21T08:20:46.570786Z"
    },
    "slideshow": {
     "slide_type": "fragment"
    }
   },
   "outputs": [
    {
     "data": {
      "text/plain": [
       "'Lello World'"
      ]
     },
     "execution_count": 5,
     "metadata": {},
     "output_type": "execute_result"
    }
   ],
   "source": [
    "Mutator().mutate(\"Hello World\")"
   ]
  },
  {
   "cell_type": "markdown",
   "metadata": {
    "slideshow": {
     "slide_type": "fragment"
    }
   },
   "source": [
    "The default power schedule assigns energy uniformly across all seeds. Let's check whether this works.\n",
    "\n",
    "We choose 10k times from a population of three seeds.  As we see in the `hits` counter, each seed is chosen about a third of the time."
   ]
  },
  {
   "cell_type": "code",
   "execution_count": 6,
   "metadata": {
    "execution": {
     "iopub.execute_input": "2022-02-21T08:20:46.615528Z",
     "iopub.status.busy": "2022-02-21T08:20:46.614916Z",
     "iopub.status.idle": "2022-02-21T08:20:46.617426Z",
     "shell.execute_reply": "2022-02-21T08:20:46.617916Z"
    },
    "slideshow": {
     "slide_type": "subslide"
    }
   },
   "outputs": [
    {
     "data": {
      "text/plain": [
       "{'A': 3387, 'B': 3255, 'C': 3358}"
      ]
     },
     "execution_count": 6,
     "metadata": {},
     "output_type": "execute_result"
    }
   ],
   "source": [
    "population = [Seed(\"A\"), Seed(\"B\"), Seed(\"C\")]\n",
    "schedule = PowerSchedule()\n",
    "hits = {\n",
    "    \"A\": 0,\n",
    "    \"B\": 0,\n",
    "    \"C\": 0\n",
    "}\n",
    "\n",
    "for i in range(10000):\n",
    "    seed = schedule.choose(population)\n",
    "    hits[seed.data] += 1\n",
    "\n",
    "hits"
   ]
  },
  {
   "cell_type": "markdown",
   "metadata": {
    "slideshow": {
     "slide_type": "subslide"
    }
   },
   "source": [
    "Before explaining the function coverage runner, lets import Python's HTML parser as example..."
   ]
  },
  {
   "cell_type": "code",
   "execution_count": 7,
   "metadata": {
    "execution": {
     "iopub.execute_input": "2022-02-21T08:20:46.621462Z",
     "iopub.status.busy": "2022-02-21T08:20:46.620903Z",
     "iopub.status.idle": "2022-02-21T08:20:46.622776Z",
     "shell.execute_reply": "2022-02-21T08:20:46.623198Z"
    },
    "slideshow": {
     "slide_type": "skip"
    }
   },
   "outputs": [],
   "source": [
    "from html.parser import HTMLParser"
   ]
  },
  {
   "cell_type": "markdown",
   "metadata": {
    "slideshow": {
     "slide_type": "fragment"
    }
   },
   "source": [
    "... and create a _wrapper function_ that passes each input into a new parser object."
   ]
  },
  {
   "cell_type": "code",
   "execution_count": 8,
   "metadata": {
    "execution": {
     "iopub.execute_input": "2022-02-21T08:20:46.627085Z",
     "iopub.status.busy": "2022-02-21T08:20:46.626293Z",
     "iopub.status.idle": "2022-02-21T08:20:46.628274Z",
     "shell.execute_reply": "2022-02-21T08:20:46.628661Z"
    },
    "slideshow": {
     "slide_type": "fragment"
    }
   },
   "outputs": [],
   "source": [
    "def my_parser(inp: str) -> None:\n",
    "    parser = HTMLParser()\n",
    "    parser.feed(inp)"
   ]
  },
  {
   "cell_type": "markdown",
   "metadata": {
    "slideshow": {
     "slide_type": "fragment"
    }
   },
   "source": [
    "The `FunctionCoverageRunner` constructor takes a Python `function` to execute. The function `run()` takes an input, passes it on to the Python `function`, and collects the coverage information for this execution. The function `coverage()` returns a list of tuples `(function name, line number)` for each statement that has been covered in the Python `function`."
   ]
  },
  {
   "cell_type": "code",
   "execution_count": 9,
   "metadata": {
    "execution": {
     "iopub.execute_input": "2022-02-21T08:20:46.633524Z",
     "iopub.status.busy": "2022-02-21T08:20:46.632927Z",
     "iopub.status.idle": "2022-02-21T08:20:46.635357Z",
     "shell.execute_reply": "2022-02-21T08:20:46.635734Z"
    },
    "slideshow": {
     "slide_type": "subslide"
    }
   },
   "outputs": [
    {
     "data": {
      "text/plain": [
       "[('reset', 101),\n",
       " ('goahead', 244),\n",
       " ('goahead', 250),\n",
       " ('updatepos', 49),\n",
       " ('goahead', 134)]"
      ]
     },
     "execution_count": 9,
     "metadata": {},
     "output_type": "execute_result"
    }
   ],
   "source": [
    "runner = FunctionCoverageRunner(my_parser)\n",
    "runner.run(\"Hello World\")\n",
    "cov = runner.coverage()\n",
    "\n",
    "list(cov)[:5]  # Print 5 statements covered in HTMLParser"
   ]
  },
  {
   "cell_type": "markdown",
   "metadata": {
    "slideshow": {
     "slide_type": "fragment"
    }
   },
   "source": [
    "Our greybox fuzzer takes a seed population, mutator, and power schedule. Let's generate 5000 fuzz inputs starting with an \"empty\" seed corpus."
   ]
  },
  {
   "cell_type": "code",
   "execution_count": 10,
   "metadata": {
    "execution": {
     "iopub.execute_input": "2022-02-21T08:20:46.638948Z",
     "iopub.status.busy": "2022-02-21T08:20:46.638366Z",
     "iopub.status.idle": "2022-02-21T08:20:46.639902Z",
     "shell.execute_reply": "2022-02-21T08:20:46.640345Z"
    },
    "slideshow": {
     "slide_type": "skip"
    }
   },
   "outputs": [],
   "source": [
    "import time\n",
    "import random"
   ]
  },
  {
   "cell_type": "code",
   "execution_count": 11,
   "metadata": {
    "execution": {
     "iopub.execute_input": "2022-02-21T08:20:46.644004Z",
     "iopub.status.busy": "2022-02-21T08:20:46.643406Z",
     "iopub.status.idle": "2022-02-21T08:20:46.645045Z",
     "shell.execute_reply": "2022-02-21T08:20:46.645421Z"
    },
    "slideshow": {
     "slide_type": "subslide"
    }
   },
   "outputs": [],
   "source": [
    "n = 5000\n",
    "seed_input = \" \"  # empty seed\n",
    "runner = FunctionCoverageRunner(my_parser)\n",
    "fuzzer = GreyboxFuzzer([seed_input], Mutator(), PowerSchedule())"
   ]
  },
  {
   "cell_type": "code",
   "execution_count": 12,
   "metadata": {
    "execution": {
     "iopub.execute_input": "2022-02-21T08:20:46.729486Z",
     "iopub.status.busy": "2022-02-21T08:20:46.690984Z",
     "iopub.status.idle": "2022-02-21T08:20:47.613158Z",
     "shell.execute_reply": "2022-02-21T08:20:47.614051Z"
    },
    "slideshow": {
     "slide_type": "fragment"
    }
   },
   "outputs": [],
   "source": [
    "start = time.time()\n",
    "fuzzer.runs(runner, trials=n)\n",
    "end = time.time()"
   ]
  },
  {
   "cell_type": "code",
   "execution_count": 13,
   "metadata": {
    "execution": {
     "iopub.execute_input": "2022-02-21T08:20:47.620023Z",
     "iopub.status.busy": "2022-02-21T08:20:47.619049Z",
     "iopub.status.idle": "2022-02-21T08:20:47.623282Z",
     "shell.execute_reply": "2022-02-21T08:20:47.624070Z"
    },
    "slideshow": {
     "slide_type": "fragment"
    }
   },
   "outputs": [
    {
     "data": {
      "text/plain": [
       "'It took the fuzzer 0.96 seconds to generate and execute 5000 inputs.'"
      ]
     },
     "execution_count": 13,
     "metadata": {},
     "output_type": "execute_result"
    }
   ],
   "source": [
    "\"It took the fuzzer %0.2f seconds to generate and execute %d inputs.\" % (end - start, n)"
   ]
  },
  {
   "cell_type": "code",
   "execution_count": 14,
   "metadata": {
    "execution": {
     "iopub.execute_input": "2022-02-21T08:20:47.631322Z",
     "iopub.status.busy": "2022-02-21T08:20:47.630429Z",
     "iopub.status.idle": "2022-02-21T08:20:47.634599Z",
     "shell.execute_reply": "2022-02-21T08:20:47.635037Z"
    },
    "slideshow": {
     "slide_type": "fragment"
    }
   },
   "outputs": [
    {
     "data": {
      "text/plain": [
       "'During this fuzzing campaign, we covered 40 statements.'"
      ]
     },
     "execution_count": 14,
     "metadata": {},
     "output_type": "execute_result"
    }
   ],
   "source": [
    "\"During this fuzzing campaign, we covered %d statements.\" % len(runner.coverage())"
   ]
  },
  {
   "cell_type": "markdown",
   "metadata": {
    "slideshow": {
     "slide_type": "slide"
    }
   },
   "source": [
    "## Fuzzing with Dictionaries\n",
    "\n",
    "To fuzz our HTML parser, it may be useful to inform a mutational fuzzer about important keywords in the input – that is, important HTML keywords. The general idea is to have a _dictionary_ of pre-defined useful inputs that could then be inserted as such when mutating an input.\n",
    "\n",
    "This concept is illustrated in the following diagram. When mutating an input, we may insert given keywords from the dictionary (in red).\n",
    "\n",
    "![](PICS/GreyboxGrammarFuzzer-Dict.gif)"
   ]
  },
  {
   "cell_type": "markdown",
   "metadata": {
    "slideshow": {
     "slide_type": "fragment"
    }
   },
   "source": [
    "To implement this concept, we extend our mutator to consider keywords from a dictionary."
   ]
  },
  {
   "cell_type": "code",
   "execution_count": 15,
   "metadata": {
    "execution": {
     "iopub.execute_input": "2022-02-21T08:20:47.644408Z",
     "iopub.status.busy": "2022-02-21T08:20:47.642696Z",
     "iopub.status.idle": "2022-02-21T08:20:47.646290Z",
     "shell.execute_reply": "2022-02-21T08:20:47.647555Z"
    },
    "slideshow": {
     "slide_type": "subslide"
    }
   },
   "outputs": [],
   "source": [
    "class DictMutator(Mutator):\n",
    "    \"\"\"Mutate strings using keywords from a dictionary\"\"\"\n",
    "\n",
    "    def __init__(self, dictionary: List[str]) -> None:\n",
    "        \"\"\"Constructor. `dictionary` is the list of keywords to use.\"\"\"\n",
    "        super().__init__()\n",
    "        self.dictionary = dictionary\n",
    "        self.mutators.append(self.insert_from_dictionary)\n",
    "\n",
    "    def insert_from_dictionary(self, s: str) -> str:\n",
    "        \"\"\"Returns s with a keyword from the dictionary inserted\"\"\"\n",
    "        pos = random.randint(0, len(s))\n",
    "        random_keyword = random.choice(self.dictionary)\n",
    "        return s[:pos] + random_keyword + s[pos:]"
   ]
  },
  {
   "cell_type": "markdown",
   "metadata": {
    "slideshow": {
     "slide_type": "subslide"
    }
   },
   "source": [
    "Let's try to add a few HTML tags and attributes and see whether the coverage with `DictMutator` increases."
   ]
  },
  {
   "cell_type": "code",
   "execution_count": 16,
   "metadata": {
    "execution": {
     "iopub.execute_input": "2022-02-21T08:20:47.735183Z",
     "iopub.status.busy": "2022-02-21T08:20:47.695356Z",
     "iopub.status.idle": "2022-02-21T08:20:54.348687Z",
     "shell.execute_reply": "2022-02-21T08:20:54.349293Z"
    },
    "slideshow": {
     "slide_type": "fragment"
    }
   },
   "outputs": [
    {
     "data": {
      "text/plain": [
       "'It took the fuzzer 6.69 seconds to generate and execute 5000 inputs.'"
      ]
     },
     "execution_count": 16,
     "metadata": {},
     "output_type": "execute_result"
    }
   ],
   "source": [
    "runner = FunctionCoverageRunner(my_parser)\n",
    "dict_mutator = DictMutator([\"<a>\", \"</a>\", \"<a/>\", \"='a'\"])\n",
    "dict_fuzzer = GreyboxFuzzer([seed_input], dict_mutator, PowerSchedule())\n",
    "\n",
    "start = time.time()\n",
    "dict_fuzzer.runs(runner, trials=n)\n",
    "end = time.time()\n",
    "\n",
    "\"It took the fuzzer %0.2f seconds to generate and execute %d inputs.\" % (end - start, n)"
   ]
  },
  {
   "cell_type": "markdown",
   "metadata": {
    "slideshow": {
     "slide_type": "fragment"
    }
   },
   "source": [
    "Clearly, it takes longer. In our experience, this means more code is covered:"
   ]
  },
  {
   "cell_type": "code",
   "execution_count": 17,
   "metadata": {
    "execution": {
     "iopub.execute_input": "2022-02-21T08:20:54.353732Z",
     "iopub.status.busy": "2022-02-21T08:20:54.353087Z",
     "iopub.status.idle": "2022-02-21T08:20:54.355481Z",
     "shell.execute_reply": "2022-02-21T08:20:54.355918Z"
    },
    "slideshow": {
     "slide_type": "subslide"
    }
   },
   "outputs": [
    {
     "data": {
      "text/plain": [
       "'During this fuzzing campaign, we covered 88 statements.'"
      ]
     },
     "execution_count": 17,
     "metadata": {},
     "output_type": "execute_result"
    }
   ],
   "source": [
    "\"During this fuzzing campaign, we covered %d statements.\" % len(runner.coverage())"
   ]
  },
  {
   "cell_type": "markdown",
   "metadata": {
    "slideshow": {
     "slide_type": "fragment"
    }
   },
   "source": [
    "How do the fuzzers compare in terms of coverage over time?"
   ]
  },
  {
   "cell_type": "code",
   "execution_count": 18,
   "metadata": {
    "execution": {
     "iopub.execute_input": "2022-02-21T08:20:54.359359Z",
     "iopub.status.busy": "2022-02-21T08:20:54.358732Z",
     "iopub.status.idle": "2022-02-21T08:20:54.360655Z",
     "shell.execute_reply": "2022-02-21T08:20:54.361041Z"
    },
    "slideshow": {
     "slide_type": "skip"
    }
   },
   "outputs": [],
   "source": [
    "from Coverage import population_coverage"
   ]
  },
  {
   "cell_type": "code",
   "execution_count": 19,
   "metadata": {
    "execution": {
     "iopub.execute_input": "2022-02-21T08:20:54.364341Z",
     "iopub.status.busy": "2022-02-21T08:20:54.363734Z",
     "iopub.status.idle": "2022-02-21T08:20:54.365830Z",
     "shell.execute_reply": "2022-02-21T08:20:54.366288Z"
    },
    "slideshow": {
     "slide_type": "skip"
    }
   },
   "outputs": [],
   "source": [
    "import matplotlib.pyplot as plt  # type: ignore"
   ]
  },
  {
   "cell_type": "code",
   "execution_count": 20,
   "metadata": {
    "execution": {
     "iopub.execute_input": "2022-02-21T08:20:54.447241Z",
     "iopub.status.busy": "2022-02-21T08:20:54.408593Z",
     "iopub.status.idle": "2022-02-21T08:20:58.767266Z",
     "shell.execute_reply": "2022-02-21T08:20:58.767730Z"
    },
    "slideshow": {
     "slide_type": "fragment"
    }
   },
   "outputs": [
    {
     "data": {
      "image/png": "[encoded data removed]",
      "text/plain": [
       "<Figure size 432x288 with 1 Axes>"
      ]
     },
     "metadata": {
      "needs_background": "light"
     },
     "output_type": "display_data"
    }
   ],
   "source": [
    "_, dict_cov = population_coverage(dict_fuzzer.inputs, my_parser)\n",
    "_, fuzz_cov = population_coverage(fuzzer.inputs, my_parser)\n",
    "line_dict, = plt.plot(dict_cov, label=\"With Dictionary\")\n",
    "line_fuzz, = plt.plot(fuzz_cov, label=\"Without Dictionary\")\n",
    "plt.legend(handles=[line_dict, line_fuzz])\n",
    "plt.xlim(0, n)\n",
    "plt.title('Coverage over time')\n",
    "plt.xlabel('# of inputs')\n",
    "plt.ylabel('lines covered');"
   ]
  },
  {
   "cell_type": "markdown",
   "metadata": {
    "slideshow": {
     "slide_type": "subslide"
    }
   },
   "source": [
    "<!-- \\todo{Andreas: Section on mining keywords using parser-directed fuzzing or AUTOGRAM?} -->\n",
    "\n",
    "***Summary.*** Informing the fuzzer about important keywords already goes a long way towards achieving lots of coverage quickly.\n",
    "\n",
    "***Try it.*** Open this chapter as Jupyter notebook and add other HTML-related keywords to the dictionary in order to see whether the difference in coverage actually increases (given the same budget of 5k generated test inputs).\n",
    "\n",
    "***Read up.*** Michał Zalewski, author of AFL, wrote several great blog posts on [making up grammars with a dictionary in hand](https://lcamtuf.blogspot.com/2015/01/afl-fuzz-making-up-grammar-with.html) and [pulling JPEGs out of thin air](https://lcamtuf.blogspot.com/2014/11/pulling-jpegs-out-of-thin-air.html)!"
   ]
  },
  {
   "cell_type": "markdown",
   "metadata": {
    "slideshow": {
     "slide_type": "slide"
    },
    "tags": [],
    "toc-hr-collapsed": false
   },
   "source": [
    "## Fuzzing with Input Fragments\n",
    "\n",
    "While dictionaries are helpful to inject important keywords into seed inputs, they do not allow to maintain the structural integrity of the generated inputs. Instead, we need to make the fuzzer aware of the _input structure_. We can do this using [grammars](Grammars.ipynb). Our first approach \n",
    "\n",
    "1. [parses](Parser.ipynb) the seed inputs, \n",
    "2. disassembles them into input fragments, and \n",
    "3. generates new files by reassembling these fragments according to the rules of the grammar."
   ]
  },
  {
   "cell_type": "markdown",
   "metadata": {
    "slideshow": {
     "slide_type": "subslide"
    }
   },
   "source": [
    "This combination of _parsing_ and _fuzzing_ can be very powerful. For instance, we can _swap_ existing substructures in an input:\n",
    "\n",
    "![](PICS/GreyboxGrammarFuzzer-Swap.gif)"
   ]
  },
  {
   "cell_type": "markdown",
   "metadata": {
    "slideshow": {
     "slide_type": "fragment"
    }
   },
   "source": [
    "We can also _replace_ existing substructures by newly generated ones:\n",
    "\n",
    "![](PICS/GreyboxGrammarFuzzer-Gen.gif)"
   ]
  },
  {
   "cell_type": "markdown",
   "metadata": {
    "slideshow": {
     "slide_type": "fragment"
    }
   },
   "source": [
    "All these operations take place on [derivation trees](GrammarFuzzer.ipynb), which can be parsed from and produced into strings at any time."
   ]
  },
  {
   "cell_type": "markdown",
   "metadata": {
    "slideshow": {
     "slide_type": "subslide"
    }
   },
   "source": [
    "### Parsing and Recombining JavaScript, or How to Make 50,000 USD in Four Weeks\n",
    "\n",
    "In \"Fuzzing with Code Fragments\" \\cite{Holler2012}, Holler, Herzig, and Zeller apply these steps to fuzz a JavaScript interpreter.  They use a JavaScript grammar to\n",
    "\n",
    "1. _parse_ (valid) JavaScript inputs into parse trees,\n",
    "2. _disassemble_ them into fragments (subtrees),\n",
    "3. _recombine_ these fragments into valid JavaScript programs again, and\n",
    "4. _feed_ these programs into a JavaScript interpreter for execution."
   ]
  },
  {
   "cell_type": "markdown",
   "metadata": {
    "slideshow": {
     "slide_type": "subslide"
    }
   },
   "source": [
    "As in most fuzzing scenarios, the aim is to cause the JavaScript interpreter to crash.  Here is an example of LangFuzz-generated JavaScript code (from \\cite{Holler2012}) that caused a crash in the Mozilla JavaScript interpreter:\n",
    "\n",
    "```javascript\n",
    "var haystack = \"foo\";\n",
    "var re_text = \"^foo\";\n",
    "haystack += \"x\";\n",
    "re_text += \"(x)\";\n",
    "var re = new RegExp(re_text);\n",
    "re.test(haystack);\n",
    "RegExp.input = Number();\n",
    "print(RegExp.$1);\n",
    "```"
   ]
  },
  {
   "cell_type": "markdown",
   "metadata": {
    "slideshow": {
     "slide_type": "subslide"
    }
   },
   "source": [
    "From a crash of the JavaScript interpreter, it is frequently possible to construct an *exploit* that will not only crash the interpreter, but instead have it execute code under the attacker's control.  Therefore, such crashes are serious flaws, which is why you get a bug bounty if you report them."
   ]
  },
  {
   "cell_type": "markdown",
   "metadata": {
    "slideshow": {
     "slide_type": "subslide"
    }
   },
   "source": [
    "In the first four weeks of running his _LangFuzz_ tool, Christian Holler, first author of that paper, netted _more than USD 50,000 in bug bounties_.  To date, LangFuzz has found more than 2,600 bugs in the JavaScript browsers of Mozilla Firefox, Google Chrome, and Microsoft Edge.  If you use any of these browsers (say, on your Android phone), the combination of parsing and fuzzing has contributed significantly in making your browsing session secure.\n",
    "\n",
    "(Note that these are the same Holler and Zeller who are co-authors of this book.  If you ever wondered why we devote a couple of chapters on grammar-based fuzzing, that's because we have had some great experience with it.)"
   ]
  },
  {
   "cell_type": "markdown",
   "metadata": {
    "slideshow": {
     "slide_type": "subslide"
    }
   },
   "source": [
    "### Parsing and Recombining HTML\n",
    "\n",
    "In this book, let us stay with HTML input for a while.  To generate valid HTML inputs for our Python `HTMLParser`, we should first define a simple grammar. It allows to define HTML tags with attributes. Our context-free grammar does not require that opening and closing tags must match. However, we will see that such context-sensitive features can be maintained in the derived input fragments, and thus in the generated inputs."
   ]
  },
  {
   "cell_type": "code",
   "execution_count": 21,
   "metadata": {
    "execution": {
     "iopub.execute_input": "2022-02-21T08:20:58.771868Z",
     "iopub.status.busy": "2022-02-21T08:20:58.771332Z",
     "iopub.status.idle": "2022-02-21T08:20:58.772910Z",
     "shell.execute_reply": "2022-02-21T08:20:58.773605Z"
    },
    "slideshow": {
     "slide_type": "skip"
    }
   },
   "outputs": [],
   "source": [
    "import string"
   ]
  },
  {
   "cell_type": "code",
   "execution_count": 22,
   "metadata": {
    "execution": {
     "iopub.execute_input": "2022-02-21T08:20:58.779468Z",
     "iopub.status.busy": "2022-02-21T08:20:58.777225Z",
     "iopub.status.idle": "2022-02-21T08:20:59.265477Z",
     "shell.execute_reply": "2022-02-21T08:20:59.265040Z"
    },
    "slideshow": {
     "slide_type": "skip"
    }
   },
   "outputs": [],
   "source": [
    "from Grammars import is_valid_grammar, srange, Grammar"
   ]
  },
  {
   "cell_type": "code",
   "execution_count": 23,
   "metadata": {
    "execution": {
     "iopub.execute_input": "2022-02-21T08:20:59.269802Z",
     "iopub.status.busy": "2022-02-21T08:20:59.269036Z",
     "iopub.status.idle": "2022-02-21T08:20:59.270766Z",
     "shell.execute_reply": "2022-02-21T08:20:59.271267Z"
    },
    "slideshow": {
     "slide_type": "fragment"
    }
   },
   "outputs": [],
   "source": [
    "XML_TOKENS: Set[str] = {\"<id>\", \"<text>\"}"
   ]
  },
  {
   "cell_type": "code",
   "execution_count": 24,
   "metadata": {
    "execution": {
     "iopub.execute_input": "2022-02-21T08:20:59.277813Z",
     "iopub.status.busy": "2022-02-21T08:20:59.276766Z",
     "iopub.status.idle": "2022-02-21T08:20:59.279350Z",
     "shell.execute_reply": "2022-02-21T08:20:59.279947Z"
    },
    "slideshow": {
     "slide_type": "subslide"
    }
   },
   "outputs": [],
   "source": [
    "XML_GRAMMAR: Grammar = {\n",
    "    \"<start>\": [\"<xml-tree>\"],\n",
    "    \"<xml-tree>\": [\"<text>\",\n",
    "                   \"<xml-open-tag><xml-tree><xml-close-tag>\",\n",
    "                   \"<xml-openclose-tag>\",\n",
    "                   \"<xml-tree><xml-tree>\"],\n",
    "    \"<xml-open-tag>\":      [\"<<id>>\", \"<<id> <xml-attribute>>\"],\n",
    "    \"<xml-openclose-tag>\": [\"<<id>/>\", \"<<id> <xml-attribute>/>\"],\n",
    "    \"<xml-close-tag>\":     [\"</<id>>\"],\n",
    "    \"<xml-attribute>\":     [\"<id>=<id>\", \"<xml-attribute> <xml-attribute>\"],\n",
    "    \"<id>\":                [\"<letter>\", \"<id><letter>\"],\n",
    "    \"<text>\":              [\"<text><letter_space>\", \"<letter_space>\"],\n",
    "    \"<letter>\":            srange(string.ascii_letters + string.digits +\n",
    "                                  \"\\\"\" + \"'\" + \".\"),\n",
    "    \"<letter_space>\":      srange(string.ascii_letters + string.digits +\n",
    "                                  \"\\\"\" + \"'\" + \" \" + \"\\t\"),\n",
    "}"
   ]
  },
  {
   "cell_type": "code",
   "execution_count": 25,
   "metadata": {
    "execution": {
     "iopub.execute_input": "2022-02-21T08:20:59.284361Z",
     "iopub.status.busy": "2022-02-21T08:20:59.283695Z",
     "iopub.status.idle": "2022-02-21T08:20:59.285266Z",
     "shell.execute_reply": "2022-02-21T08:20:59.285650Z"
    },
    "slideshow": {
     "slide_type": "subslide"
    }
   },
   "outputs": [],
   "source": [
    "assert is_valid_grammar(XML_GRAMMAR)"
   ]
  },
  {
   "cell_type": "markdown",
   "metadata": {
    "slideshow": {
     "slide_type": "fragment"
    }
   },
   "source": [
    "In order to parse an input into a derivation tree, we use the [Earley parser](Parser.ipynb#Parsing-Context-Free-Grammars)."
   ]
  },
  {
   "cell_type": "code",
   "execution_count": 26,
   "metadata": {
    "execution": {
     "iopub.execute_input": "2022-02-21T08:20:59.289459Z",
     "iopub.status.busy": "2022-02-21T08:20:59.288893Z",
     "iopub.status.idle": "2022-02-21T08:21:00.227713Z",
     "shell.execute_reply": "2022-02-21T08:21:00.228154Z"
    },
    "slideshow": {
     "slide_type": "skip"
    }
   },
   "outputs": [],
   "source": [
    "from Parser import EarleyParser, Parser\n",
    "from GrammarFuzzer import display_tree, DerivationTree"
   ]
  },
  {
   "cell_type": "markdown",
   "metadata": {
    "slideshow": {
     "slide_type": "fragment"
    }
   },
   "source": [
    "Let's run the parser on a simple HTML input and display all possible parse trees. A *parse tree* represents the input structure according to the given grammar."
   ]
  },
  {
   "cell_type": "code",
   "execution_count": 27,
   "metadata": {
    "execution": {
     "iopub.execute_input": "2022-02-21T08:21:00.232201Z",
     "iopub.status.busy": "2022-02-21T08:21:00.231522Z",
     "iopub.status.idle": "2022-02-21T08:21:00.233144Z",
     "shell.execute_reply": "2022-02-21T08:21:00.233565Z"
    },
    "slideshow": {
     "slide_type": "skip"
    }
   },
   "outputs": [],
   "source": [
    "from IPython.display import display"
   ]
  },
  {
   "cell_type": "code",
   "execution_count": 28,
   "metadata": {
    "execution": {
     "iopub.execute_input": "2022-02-21T08:21:00.257041Z",
     "iopub.status.busy": "2022-02-21T08:21:00.253739Z",
     "iopub.status.idle": "2022-02-21T08:21:06.931244Z",
     "shell.execute_reply": "2022-02-21T08:21:06.931715Z"
    },
    "slideshow": {
     "slide_type": "subslide"
    }
   },
   "outputs": [
    {
     "data": {
      "image/svg+xml": [
       "<?xml version=\"1.0\" encoding=\"UTF-8\" standalone=\"no\"?>\n",
       "<!DOCTYPE svg PUBLIC \"-//W3C//DTD SVG 1.1//EN\"\n",
       " \"http://www.w3.org/Graphics/SVG/1.1/DTD/svg11.dtd\">\n",
       "<!-- Generated by graphviz version 2.49.3 (20211023.0002)\n",
       " -->\n",
       "<!-- Pages: 1 -->\n",
       "<svg width=\"294pt\" height=\"227pt\"\n",
       " viewBox=\"0.00 0.00 293.50 227.00\" xmlns=\"http://www.w3.org/2000/svg\" xmlns:xlink=\"http://www.w3.org/1999/xlink\">\n",
       "<g id=\"graph0\" class=\"graph\" transform=\"scale(1 1) rotate(0) translate(4 223)\">\n",
       "<polygon fill=\"white\" stroke=\"transparent\" points=\"-4,4 -4,-223 289.5,-223 289.5,4 -4,4\"/>\n",
       "<!-- 0 -->\n",
       "<g id=\"node1\" class=\"node\">\n",
       "<title>0</title>\n",
       "<text text-anchor=\"middle\" x=\"142\" y=\"-207.8\" font-family=\"Times,serif\" font-size=\"14.00\">&lt;start&gt;</text>\n",
       "</g>\n",
       "<!-- 1 -->\n",
       "<g id=\"node2\" class=\"node\">\n",
       "<title>1</title>\n",
       "<text text-anchor=\"middle\" x=\"142\" y=\"-156.8\" font-family=\"Times,serif\" font-size=\"14.00\">&lt;xml&#45;tree&gt;</text>\n",
       "</g>\n",
       "<!-- 0&#45;&gt;1 -->\n",
       "<g id=\"edge1\" class=\"edge\">\n",
       "<title>0&#45;&gt;1</title>\n",
       "<path fill=\"none\" stroke=\"black\" d=\"M142,-203.69C142,-197.18 142,-187.1 142,-178.43\"/>\n",
       "<polygon fill=\"black\" stroke=\"black\" points=\"145.5,-178.26 142,-168.26 138.5,-178.26 145.5,-178.26\"/>\n",
       "</g>\n",
       "<!-- 2 -->\n",
       "<g id=\"node3\" class=\"node\">\n",
       "<title>2</title>\n",
       "<text text-anchor=\"middle\" x=\"46\" y=\"-105.8\" font-family=\"Times,serif\" font-size=\"14.00\">&lt;xml&#45;open&#45;tag&gt;</text>\n",
       "</g>\n",
       "<!-- 1&#45;&gt;2 -->\n",
       "<g id=\"edge2\" class=\"edge\">\n",
       "<title>1&#45;&gt;2</title>\n",
       "<path fill=\"none\" stroke=\"black\" d=\"M129.05,-152.89C113.36,-144.88 86.69,-131.27 67.81,-121.63\"/>\n",
       "<polygon fill=\"black\" stroke=\"black\" points=\"69.24,-118.43 58.74,-117 66.06,-124.67 69.24,-118.43\"/>\n",
       "</g>\n",
       "<!-- 7 -->\n",
       "<g id=\"node8\" class=\"node\">\n",
       "<title>7</title>\n",
       "<text text-anchor=\"middle\" x=\"142\" y=\"-105.8\" font-family=\"Times,serif\" font-size=\"14.00\">&lt;xml&#45;tree&gt;</text>\n",
       "</g>\n",
       "<!-- 1&#45;&gt;7 -->\n",
       "<g id=\"edge7\" class=\"edge\">\n",
       "<title>1&#45;&gt;7</title>\n",
       "<path fill=\"none\" stroke=\"black\" d=\"M142,-152.69C142,-146.18 142,-136.1 142,-127.43\"/>\n",
       "<polygon fill=\"black\" stroke=\"black\" points=\"145.5,-127.26 142,-117.26 138.5,-127.26 145.5,-127.26\"/>\n",
       "</g>\n",
       "<!-- 10 -->\n",
       "<g id=\"node11\" class=\"node\">\n",
       "<title>10</title>\n",
       "<text text-anchor=\"middle\" x=\"239\" y=\"-105.8\" font-family=\"Times,serif\" font-size=\"14.00\">&lt;xml&#45;close&#45;tag&gt;</text>\n",
       "</g>\n",
       "<!-- 1&#45;&gt;10 -->\n",
       "<g id=\"edge10\" class=\"edge\">\n",
       "<title>1&#45;&gt;10</title>\n",
       "<path fill=\"none\" stroke=\"black\" d=\"M155.08,-152.89C170.93,-144.88 197.89,-131.27 216.97,-121.63\"/>\n",
       "<polygon fill=\"black\" stroke=\"black\" points=\"218.78,-124.64 226.13,-117 215.62,-118.39 218.78,-124.64\"/>\n",
       "</g>\n",
       "<!-- 3 -->\n",
       "<g id=\"node4\" class=\"node\">\n",
       "<title>3</title>\n",
       "<text text-anchor=\"middle\" x=\"10\" y=\"-54.8\" font-family=\"Times,serif\" font-size=\"14.00\">&lt;</text>\n",
       "</g>\n",
       "<!-- 2&#45;&gt;3 -->\n",
       "<g id=\"edge3\" class=\"edge\">\n",
       "<title>2&#45;&gt;3</title>\n",
       "<path fill=\"none\" stroke=\"black\" d=\"M40.99,-101.69C35.6,-94.35 26.88,-82.48 20.07,-73.2\"/>\n",
       "<polygon fill=\"black\" stroke=\"black\" points=\"22.81,-71.03 14.07,-65.04 17.17,-75.17 22.81,-71.03\"/>\n",
       "</g>\n",
       "<!-- 4 -->\n",
       "<g id=\"node5\" class=\"node\">\n",
       "<title>4</title>\n",
       "<text text-anchor=\"middle\" x=\"46\" y=\"-54.8\" font-family=\"Times,serif\" font-size=\"14.00\">&lt;id&gt;</text>\n",
       "</g>\n",
       "<!-- 2&#45;&gt;4 -->\n",
       "<g id=\"edge4\" class=\"edge\">\n",
       "<title>2&#45;&gt;4</title>\n",
       "<path fill=\"none\" stroke=\"black\" d=\"M46,-101.69C46,-95.18 46,-85.1 46,-76.43\"/>\n",
       "<polygon fill=\"black\" stroke=\"black\" points=\"49.5,-76.26 46,-66.26 42.5,-76.26 49.5,-76.26\"/>\n",
       "</g>\n",
       "<!-- 6 -->\n",
       "<g id=\"node7\" class=\"node\">\n",
       "<title>6</title>\n",
       "<text text-anchor=\"middle\" x=\"82\" y=\"-54.8\" font-family=\"Times,serif\" font-size=\"14.00\">&gt;</text>\n",
       "</g>\n",
       "<!-- 2&#45;&gt;6 -->\n",
       "<g id=\"edge6\" class=\"edge\">\n",
       "<title>2&#45;&gt;6</title>\n",
       "<path fill=\"none\" stroke=\"black\" d=\"M51.01,-101.69C56.4,-94.35 65.12,-82.48 71.93,-73.2\"/>\n",
       "<polygon fill=\"black\" stroke=\"black\" points=\"74.83,-75.17 77.93,-65.04 69.19,-71.03 74.83,-75.17\"/>\n",
       "</g>\n",
       "<!-- 5 -->\n",
       "<g id=\"node6\" class=\"node\">\n",
       "<title>5</title>\n",
       "<text text-anchor=\"middle\" x=\"46\" y=\"-3.8\" font-family=\"Times,serif\" font-size=\"14.00\">html</text>\n",
       "</g>\n",
       "<!-- 4&#45;&gt;5 -->\n",
       "<g id=\"edge5\" class=\"edge\">\n",
       "<title>4&#45;&gt;5</title>\n",
       "<path fill=\"none\" stroke=\"black\" d=\"M46,-50.69C46,-44.18 46,-34.1 46,-25.43\"/>\n",
       "<polygon fill=\"black\" stroke=\"black\" points=\"49.5,-25.26 46,-15.26 42.5,-25.26 49.5,-25.26\"/>\n",
       "</g>\n",
       "<!-- 8 -->\n",
       "<g id=\"node9\" class=\"node\">\n",
       "<title>8</title>\n",
       "<text text-anchor=\"middle\" x=\"142\" y=\"-54.8\" font-family=\"Times,serif\" font-size=\"14.00\">&lt;text&gt;</text>\n",
       "</g>\n",
       "<!-- 7&#45;&gt;8 -->\n",
       "<g id=\"edge8\" class=\"edge\">\n",
       "<title>7&#45;&gt;8</title>\n",
       "<path fill=\"none\" stroke=\"black\" d=\"M142,-101.69C142,-95.18 142,-85.1 142,-76.43\"/>\n",
       "<polygon fill=\"black\" stroke=\"black\" points=\"145.5,-76.26 142,-66.26 138.5,-76.26 145.5,-76.26\"/>\n",
       "</g>\n",
       "<!-- 9 -->\n",
       "<g id=\"node10\" class=\"node\">\n",
       "<title>9</title>\n",
       "<text text-anchor=\"middle\" x=\"142\" y=\"-3.8\" font-family=\"Times,serif\" font-size=\"14.00\">Text</text>\n",
       "</g>\n",
       "<!-- 8&#45;&gt;9 -->\n",
       "<g id=\"edge9\" class=\"edge\">\n",
       "<title>8&#45;&gt;9</title>\n",
       "<path fill=\"none\" stroke=\"black\" d=\"M142,-50.69C142,-44.18 142,-34.1 142,-25.43\"/>\n",
       "<polygon fill=\"black\" stroke=\"black\" points=\"145.5,-25.26 142,-15.26 138.5,-25.26 145.5,-25.26\"/>\n",
       "</g>\n",
       "<!-- 11 -->\n",
       "<g id=\"node12\" class=\"node\">\n",
       "<title>11</title>\n",
       "<text text-anchor=\"middle\" x=\"201\" y=\"-54.8\" font-family=\"Times,serif\" font-size=\"14.00\">&lt;/</text>\n",
       "</g>\n",
       "<!-- 10&#45;&gt;11 -->\n",
       "<g id=\"edge11\" class=\"edge\">\n",
       "<title>10&#45;&gt;11</title>\n",
       "<path fill=\"none\" stroke=\"black\" d=\"M233.72,-101.69C228.27,-94.67 219.61,-83.49 212.56,-74.41\"/>\n",
       "<polygon fill=\"black\" stroke=\"black\" points=\"215.13,-72.01 206.24,-66.26 209.6,-76.3 215.13,-72.01\"/>\n",
       "</g>\n",
       "<!-- 12 -->\n",
       "<g id=\"node13\" class=\"node\">\n",
       "<title>12</title>\n",
       "<text text-anchor=\"middle\" x=\"239\" y=\"-54.8\" font-family=\"Times,serif\" font-size=\"14.00\">&lt;id&gt;</text>\n",
       "</g>\n",
       "<!-- 10&#45;&gt;12 -->\n",
       "<g id=\"edge12\" class=\"edge\">\n",
       "<title>10&#45;&gt;12</title>\n",
       "<path fill=\"none\" stroke=\"black\" d=\"M239,-101.69C239,-95.18 239,-85.1 239,-76.43\"/>\n",
       "<polygon fill=\"black\" stroke=\"black\" points=\"242.5,-76.26 239,-66.26 235.5,-76.26 242.5,-76.26\"/>\n",
       "</g>\n",
       "<!-- 14 -->\n",
       "<g id=\"node15\" class=\"node\">\n",
       "<title>14</title>\n",
       "<text text-anchor=\"middle\" x=\"275\" y=\"-54.8\" font-family=\"Times,serif\" font-size=\"14.00\">&gt;</text>\n",
       "</g>\n",
       "<!-- 10&#45;&gt;14 -->\n",
       "<g id=\"edge14\" class=\"edge\">\n",
       "<title>10&#45;&gt;14</title>\n",
       "<path fill=\"none\" stroke=\"black\" d=\"M244.01,-101.69C249.4,-94.35 258.12,-82.48 264.93,-73.2\"/>\n",
       "<polygon fill=\"black\" stroke=\"black\" points=\"267.83,-75.17 270.93,-65.04 262.19,-71.03 267.83,-75.17\"/>\n",
       "</g>\n",
       "<!-- 13 -->\n",
       "<g id=\"node14\" class=\"node\">\n",
       "<title>13</title>\n",
       "<text text-anchor=\"middle\" x=\"239\" y=\"-3.8\" font-family=\"Times,serif\" font-size=\"14.00\">html</text>\n",
       "</g>\n",
       "<!-- 12&#45;&gt;13 -->\n",
       "<g id=\"edge13\" class=\"edge\">\n",
       "<title>12&#45;&gt;13</title>\n",
       "<path fill=\"none\" stroke=\"black\" d=\"M239,-50.69C239,-44.18 239,-34.1 239,-25.43\"/>\n",
       "<polygon fill=\"black\" stroke=\"black\" points=\"242.5,-25.26 239,-15.26 235.5,-25.26 242.5,-25.26\"/>\n",
       "</g>\n",
       "</g>\n",
       "</svg>\n"
      ],
      "text/plain": [
       "<graphviz.dot.Digraph at 0x1210aba60>"
      ]
     },
     "metadata": {},
     "output_type": "display_data"
    },
    {
     "data": {
      "image/svg+xml": [
       "<?xml version=\"1.0\" encoding=\"UTF-8\" standalone=\"no\"?>\n",
       "<!DOCTYPE svg PUBLIC \"-//W3C//DTD SVG 1.1//EN\"\n",
       " \"http://www.w3.org/Graphics/SVG/1.1/DTD/svg11.dtd\">\n",
       "<!-- Generated by graphviz version 2.49.3 (20211023.0002)\n",
       " -->\n",
       "<!-- Pages: 1 -->\n",
       "<svg width=\"354pt\" height=\"278pt\"\n",
       " viewBox=\"0.00 0.00 354.00 278.00\" xmlns=\"http://www.w3.org/2000/svg\" xmlns:xlink=\"http://www.w3.org/1999/xlink\">\n",
       "<g id=\"graph0\" class=\"graph\" transform=\"scale(1 1) rotate(0) translate(4 274)\">\n",
       "<polygon fill=\"white\" stroke=\"transparent\" points=\"-4,4 -4,-274 350,-274 350,4 -4,4\"/>\n",
       "<!-- 0 -->\n",
       "<g id=\"node1\" class=\"node\">\n",
       "<title>0</title>\n",
       "<text text-anchor=\"middle\" x=\"175\" y=\"-258.8\" font-family=\"Times,serif\" font-size=\"14.00\">&lt;start&gt;</text>\n",
       "</g>\n",
       "<!-- 1 -->\n",
       "<g id=\"node2\" class=\"node\">\n",
       "<title>1</title>\n",
       "<text text-anchor=\"middle\" x=\"175\" y=\"-207.8\" font-family=\"Times,serif\" font-size=\"14.00\">&lt;xml&#45;tree&gt;</text>\n",
       "</g>\n",
       "<!-- 0&#45;&gt;1 -->\n",
       "<g id=\"edge1\" class=\"edge\">\n",
       "<title>0&#45;&gt;1</title>\n",
       "<path fill=\"none\" stroke=\"black\" d=\"M175,-254.69C175,-248.18 175,-238.1 175,-229.43\"/>\n",
       "<polygon fill=\"black\" stroke=\"black\" points=\"178.5,-229.26 175,-219.26 171.5,-229.26 178.5,-229.26\"/>\n",
       "</g>\n",
       "<!-- 2 -->\n",
       "<g id=\"node3\" class=\"node\">\n",
       "<title>2</title>\n",
       "<text text-anchor=\"middle\" x=\"62\" y=\"-156.8\" font-family=\"Times,serif\" font-size=\"14.00\">&lt;xml&#45;open&#45;tag&gt;</text>\n",
       "</g>\n",
       "<!-- 1&#45;&gt;2 -->\n",
       "<g id=\"edge2\" class=\"edge\">\n",
       "<title>1&#45;&gt;2</title>\n",
       "<path fill=\"none\" stroke=\"black\" d=\"M159.76,-203.89C140.95,-195.74 108.74,-181.77 86.45,-172.1\"/>\n",
       "<polygon fill=\"black\" stroke=\"black\" points=\"87.57,-168.77 77,-168 84.78,-175.19 87.57,-168.77\"/>\n",
       "</g>\n",
       "<!-- 7 -->\n",
       "<g id=\"node8\" class=\"node\">\n",
       "<title>7</title>\n",
       "<text text-anchor=\"middle\" x=\"175\" y=\"-156.8\" font-family=\"Times,serif\" font-size=\"14.00\">&lt;xml&#45;tree&gt;</text>\n",
       "</g>\n",
       "<!-- 1&#45;&gt;7 -->\n",
       "<g id=\"edge7\" class=\"edge\">\n",
       "<title>1&#45;&gt;7</title>\n",
       "<path fill=\"none\" stroke=\"black\" d=\"M175,-203.69C175,-197.18 175,-187.1 175,-178.43\"/>\n",
       "<polygon fill=\"black\" stroke=\"black\" points=\"178.5,-178.26 175,-168.26 171.5,-178.26 178.5,-178.26\"/>\n",
       "</g>\n",
       "<!-- 14 -->\n",
       "<g id=\"node15\" class=\"node\">\n",
       "<title>14</title>\n",
       "<text text-anchor=\"middle\" x=\"281\" y=\"-156.8\" font-family=\"Times,serif\" font-size=\"14.00\">&lt;xml&#45;close&#45;tag&gt;</text>\n",
       "</g>\n",
       "<!-- 1&#45;&gt;14 -->\n",
       "<g id=\"edge14\" class=\"edge\">\n",
       "<title>1&#45;&gt;14</title>\n",
       "<path fill=\"none\" stroke=\"black\" d=\"M189.3,-203.89C206.86,-195.77 236.89,-181.89 257.78,-172.23\"/>\n",
       "<polygon fill=\"black\" stroke=\"black\" points=\"259.32,-175.38 266.93,-168 256.39,-169.02 259.32,-175.38\"/>\n",
       "</g>\n",
       "<!-- 3 -->\n",
       "<g id=\"node4\" class=\"node\">\n",
       "<title>3</title>\n",
       "<text text-anchor=\"middle\" x=\"4\" y=\"-105.8\" font-family=\"Times,serif\" font-size=\"14.00\">&lt;</text>\n",
       "</g>\n",
       "<!-- 2&#45;&gt;3 -->\n",
       "<g id=\"edge3\" class=\"edge\">\n",
       "<title>2&#45;&gt;3</title>\n",
       "<path fill=\"none\" stroke=\"black\" d=\"M53.94,-152.69C44.01,-144.3 27.09,-130.01 15.73,-120.41\"/>\n",
       "<polygon fill=\"black\" stroke=\"black\" points=\"17.95,-117.7 8.05,-113.92 13.43,-123.05 17.95,-117.7\"/>\n",
       "</g>\n",
       "<!-- 4 -->\n",
       "<g id=\"node5\" class=\"node\">\n",
       "<title>4</title>\n",
       "<text text-anchor=\"middle\" x=\"40\" y=\"-105.8\" font-family=\"Times,serif\" font-size=\"14.00\">&lt;id&gt;</text>\n",
       "</g>\n",
       "<!-- 2&#45;&gt;4 -->\n",
       "<g id=\"edge4\" class=\"edge\">\n",
       "<title>2&#45;&gt;4</title>\n",
       "<path fill=\"none\" stroke=\"black\" d=\"M58.94,-152.69C55.92,-145.96 51.19,-135.42 47.21,-126.56\"/>\n",
       "<polygon fill=\"black\" stroke=\"black\" points=\"50.32,-124.94 43.03,-117.26 43.94,-127.81 50.32,-124.94\"/>\n",
       "</g>\n",
       "<!-- 6 -->\n",
       "<g id=\"node7\" class=\"node\">\n",
       "<title>6</title>\n",
       "<text text-anchor=\"middle\" x=\"76\" y=\"-105.8\" font-family=\"Times,serif\" font-size=\"14.00\">&gt;</text>\n",
       "</g>\n",
       "<!-- 2&#45;&gt;6 -->\n",
       "<g id=\"edge6\" class=\"edge\">\n",
       "<title>2&#45;&gt;6</title>\n",
       "<path fill=\"none\" stroke=\"black\" d=\"M63.95,-152.69C65.83,-146.1 68.75,-135.87 71.25,-127.14\"/>\n",
       "<polygon fill=\"black\" stroke=\"black\" points=\"74.69,-127.83 74.07,-117.26 67.96,-125.91 74.69,-127.83\"/>\n",
       "</g>\n",
       "<!-- 5 -->\n",
       "<g id=\"node6\" class=\"node\">\n",
       "<title>5</title>\n",
       "<text text-anchor=\"middle\" x=\"40\" y=\"-54.8\" font-family=\"Times,serif\" font-size=\"14.00\">html</text>\n",
       "</g>\n",
       "<!-- 4&#45;&gt;5 -->\n",
       "<g id=\"edge5\" class=\"edge\">\n",
       "<title>4&#45;&gt;5</title>\n",
       "<path fill=\"none\" stroke=\"black\" d=\"M40,-101.69C40,-95.18 40,-85.1 40,-76.43\"/>\n",
       "<polygon fill=\"black\" stroke=\"black\" points=\"43.5,-76.26 40,-66.26 36.5,-76.26 43.5,-76.26\"/>\n",
       "</g>\n",
       "<!-- 8 -->\n",
       "<g id=\"node9\" class=\"node\">\n",
       "<title>8</title>\n",
       "<text text-anchor=\"middle\" x=\"130\" y=\"-105.8\" font-family=\"Times,serif\" font-size=\"14.00\">&lt;xml&#45;tree&gt;</text>\n",
       "</g>\n",
       "<!-- 7&#45;&gt;8 -->\n",
       "<g id=\"edge8\" class=\"edge\">\n",
       "<title>7&#45;&gt;8</title>\n",
       "<path fill=\"none\" stroke=\"black\" d=\"M168.74,-152.69C162.16,-145.52 151.61,-134.03 143.18,-124.85\"/>\n",
       "<polygon fill=\"black\" stroke=\"black\" points=\"145.55,-122.25 136.2,-117.26 140.39,-126.99 145.55,-122.25\"/>\n",
       "</g>\n",
       "<!-- 11 -->\n",
       "<g id=\"node12\" class=\"node\">\n",
       "<title>11</title>\n",
       "<text text-anchor=\"middle\" x=\"212\" y=\"-105.8\" font-family=\"Times,serif\" font-size=\"14.00\">&lt;xml&#45;tree&gt;</text>\n",
       "</g>\n",
       "<!-- 7&#45;&gt;11 -->\n",
       "<g id=\"edge11\" class=\"edge\">\n",
       "<title>7&#45;&gt;11</title>\n",
       "<path fill=\"none\" stroke=\"black\" d=\"M180.14,-152.69C185.45,-145.67 193.88,-134.49 200.74,-125.41\"/>\n",
       "<polygon fill=\"black\" stroke=\"black\" points=\"203.67,-127.34 206.9,-117.26 198.08,-123.13 203.67,-127.34\"/>\n",
       "</g>\n",
       "<!-- 9 -->\n",
       "<g id=\"node10\" class=\"node\">\n",
       "<title>9</title>\n",
       "<text text-anchor=\"middle\" x=\"130\" y=\"-54.8\" font-family=\"Times,serif\" font-size=\"14.00\">&lt;text&gt;</text>\n",
       "</g>\n",
       "<!-- 8&#45;&gt;9 -->\n",
       "<g id=\"edge9\" class=\"edge\">\n",
       "<title>8&#45;&gt;9</title>\n",
       "<path fill=\"none\" stroke=\"black\" d=\"M130,-101.69C130,-95.18 130,-85.1 130,-76.43\"/>\n",
       "<polygon fill=\"black\" stroke=\"black\" points=\"133.5,-76.26 130,-66.26 126.5,-76.26 133.5,-76.26\"/>\n",
       "</g>\n",
       "<!-- 10 -->\n",
       "<g id=\"node11\" class=\"node\">\n",
       "<title>10</title>\n",
       "<text text-anchor=\"middle\" x=\"130\" y=\"-3.8\" font-family=\"Times,serif\" font-size=\"14.00\">T</text>\n",
       "</g>\n",
       "<!-- 9&#45;&gt;10 -->\n",
       "<g id=\"edge10\" class=\"edge\">\n",
       "<title>9&#45;&gt;10</title>\n",
       "<path fill=\"none\" stroke=\"black\" d=\"M130,-50.69C130,-44.18 130,-34.1 130,-25.43\"/>\n",
       "<polygon fill=\"black\" stroke=\"black\" points=\"133.5,-25.26 130,-15.26 126.5,-25.26 133.5,-25.26\"/>\n",
       "</g>\n",
       "<!-- 12 -->\n",
       "<g id=\"node13\" class=\"node\">\n",
       "<title>12</title>\n",
       "<text text-anchor=\"middle\" x=\"212\" y=\"-54.8\" font-family=\"Times,serif\" font-size=\"14.00\">&lt;text&gt;</text>\n",
       "</g>\n",
       "<!-- 11&#45;&gt;12 -->\n",
       "<g id=\"edge12\" class=\"edge\">\n",
       "<title>11&#45;&gt;12</title>\n",
       "<path fill=\"none\" stroke=\"black\" d=\"M212,-101.69C212,-95.18 212,-85.1 212,-76.43\"/>\n",
       "<polygon fill=\"black\" stroke=\"black\" points=\"215.5,-76.26 212,-66.26 208.5,-76.26 215.5,-76.26\"/>\n",
       "</g>\n",
       "<!-- 13 -->\n",
       "<g id=\"node14\" class=\"node\">\n",
       "<title>13</title>\n",
       "<text text-anchor=\"middle\" x=\"212\" y=\"-3.8\" font-family=\"Times,serif\" font-size=\"14.00\">ext</text>\n",
       "</g>\n",
       "<!-- 12&#45;&gt;13 -->\n",
       "<g id=\"edge13\" class=\"edge\">\n",
       "<title>12&#45;&gt;13</title>\n",
       "<path fill=\"none\" stroke=\"black\" d=\"M212,-50.69C212,-44.18 212,-34.1 212,-25.43\"/>\n",
       "<polygon fill=\"black\" stroke=\"black\" points=\"215.5,-25.26 212,-15.26 208.5,-25.26 215.5,-25.26\"/>\n",
       "</g>\n",
       "<!-- 15 -->\n",
       "<g id=\"node16\" class=\"node\">\n",
       "<title>15</title>\n",
       "<text text-anchor=\"middle\" x=\"268\" y=\"-105.8\" font-family=\"Times,serif\" font-size=\"14.00\">&lt;/</text>\n",
       "</g>\n",
       "<!-- 14&#45;&gt;15 -->\n",
       "<g id=\"edge15\" class=\"edge\">\n",
       "<title>14&#45;&gt;15</title>\n",
       "<path fill=\"none\" stroke=\"black\" d=\"M279.19,-152.69C277.45,-146.1 274.73,-135.87 272.41,-127.14\"/>\n",
       "<polygon fill=\"black\" stroke=\"black\" points=\"275.74,-126.02 269.79,-117.26 268.97,-127.82 275.74,-126.02\"/>\n",
       "</g>\n",
       "<!-- 16 -->\n",
       "<g id=\"node17\" class=\"node\">\n",
       "<title>16</title>\n",
       "<text text-anchor=\"middle\" x=\"306\" y=\"-105.8\" font-family=\"Times,serif\" font-size=\"14.00\">&lt;id&gt;</text>\n",
       "</g>\n",
       "<!-- 14&#45;&gt;16 -->\n",
       "<g id=\"edge16\" class=\"edge\">\n",
       "<title>14&#45;&gt;16</title>\n",
       "<path fill=\"none\" stroke=\"black\" d=\"M284.48,-152.69C287.95,-145.88 293.4,-135.19 297.95,-126.27\"/>\n",
       "<polygon fill=\"black\" stroke=\"black\" points=\"301.13,-127.75 302.55,-117.26 294.89,-124.57 301.13,-127.75\"/>\n",
       "</g>\n",
       "<!-- 18 -->\n",
       "<g id=\"node19\" class=\"node\">\n",
       "<title>18</title>\n",
       "<text text-anchor=\"middle\" x=\"342\" y=\"-105.8\" font-family=\"Times,serif\" font-size=\"14.00\">&gt;</text>\n",
       "</g>\n",
       "<!-- 14&#45;&gt;18 -->\n",
       "<g id=\"edge18\" class=\"edge\">\n",
       "<title>14&#45;&gt;18</title>\n",
       "<path fill=\"none\" stroke=\"black\" d=\"M289.23,-152.89C299.7,-144.48 317.86,-129.89 329.91,-120.21\"/>\n",
       "<polygon fill=\"black\" stroke=\"black\" points=\"332.39,-122.71 337.99,-113.72 328.01,-117.25 332.39,-122.71\"/>\n",
       "</g>\n",
       "<!-- 17 -->\n",
       "<g id=\"node18\" class=\"node\">\n",
       "<title>17</title>\n",
       "<text text-anchor=\"middle\" x=\"306\" y=\"-54.8\" font-family=\"Times,serif\" font-size=\"14.00\">html</text>\n",
       "</g>\n",
       "<!-- 16&#45;&gt;17 -->\n",
       "<g id=\"edge17\" class=\"edge\">\n",
       "<title>16&#45;&gt;17</title>\n",
       "<path fill=\"none\" stroke=\"black\" d=\"M306,-101.69C306,-95.18 306,-85.1 306,-76.43\"/>\n",
       "<polygon fill=\"black\" stroke=\"black\" points=\"309.5,-76.26 306,-66.26 302.5,-76.26 309.5,-76.26\"/>\n",
       "</g>\n",
       "</g>\n",
       "</svg>\n"
      ],
      "text/plain": [
       "<graphviz.dot.Digraph at 0x1210aba60>"
      ]
     },
     "metadata": {},
     "output_type": "display_data"
    },
    {
     "data": {
      "image/svg+xml": [
       "<?xml version=\"1.0\" encoding=\"UTF-8\" standalone=\"no\"?>\n",
       "<!DOCTYPE svg PUBLIC \"-//W3C//DTD SVG 1.1//EN\"\n",
       " \"http://www.w3.org/Graphics/SVG/1.1/DTD/svg11.dtd\">\n",
       "<!-- Generated by graphviz version 2.49.3 (20211023.0002)\n",
       " -->\n",
       "<!-- Pages: 1 -->\n",
       "<svg width=\"354pt\" height=\"278pt\"\n",
       " viewBox=\"0.00 0.00 354.00 278.00\" xmlns=\"http://www.w3.org/2000/svg\" xmlns:xlink=\"http://www.w3.org/1999/xlink\">\n",
       "<g id=\"graph0\" class=\"graph\" transform=\"scale(1 1) rotate(0) translate(4 274)\">\n",
       "<polygon fill=\"white\" stroke=\"transparent\" points=\"-4,4 -4,-274 350,-274 350,4 -4,4\"/>\n",
       "<!-- 0 -->\n",
       "<g id=\"node1\" class=\"node\">\n",
       "<title>0</title>\n",
       "<text text-anchor=\"middle\" x=\"175\" y=\"-258.8\" font-family=\"Times,serif\" font-size=\"14.00\">&lt;start&gt;</text>\n",
       "</g>\n",
       "<!-- 1 -->\n",
       "<g id=\"node2\" class=\"node\">\n",
       "<title>1</title>\n",
       "<text text-anchor=\"middle\" x=\"175\" y=\"-207.8\" font-family=\"Times,serif\" font-size=\"14.00\">&lt;xml&#45;tree&gt;</text>\n",
       "</g>\n",
       "<!-- 0&#45;&gt;1 -->\n",
       "<g id=\"edge1\" class=\"edge\">\n",
       "<title>0&#45;&gt;1</title>\n",
       "<path fill=\"none\" stroke=\"black\" d=\"M175,-254.69C175,-248.18 175,-238.1 175,-229.43\"/>\n",
       "<polygon fill=\"black\" stroke=\"black\" points=\"178.5,-229.26 175,-219.26 171.5,-229.26 178.5,-229.26\"/>\n",
       "</g>\n",
       "<!-- 2 -->\n",
       "<g id=\"node3\" class=\"node\">\n",
       "<title>2</title>\n",
       "<text text-anchor=\"middle\" x=\"62\" y=\"-156.8\" font-family=\"Times,serif\" font-size=\"14.00\">&lt;xml&#45;open&#45;tag&gt;</text>\n",
       "</g>\n",
       "<!-- 1&#45;&gt;2 -->\n",
       "<g id=\"edge2\" class=\"edge\">\n",
       "<title>1&#45;&gt;2</title>\n",
       "<path fill=\"none\" stroke=\"black\" d=\"M159.76,-203.89C140.95,-195.74 108.74,-181.77 86.45,-172.1\"/>\n",
       "<polygon fill=\"black\" stroke=\"black\" points=\"87.57,-168.77 77,-168 84.78,-175.19 87.57,-168.77\"/>\n",
       "</g>\n",
       "<!-- 7 -->\n",
       "<g id=\"node8\" class=\"node\">\n",
       "<title>7</title>\n",
       "<text text-anchor=\"middle\" x=\"175\" y=\"-156.8\" font-family=\"Times,serif\" font-size=\"14.00\">&lt;xml&#45;tree&gt;</text>\n",
       "</g>\n",
       "<!-- 1&#45;&gt;7 -->\n",
       "<g id=\"edge7\" class=\"edge\">\n",
       "<title>1&#45;&gt;7</title>\n",
       "<path fill=\"none\" stroke=\"black\" d=\"M175,-203.69C175,-197.18 175,-187.1 175,-178.43\"/>\n",
       "<polygon fill=\"black\" stroke=\"black\" points=\"178.5,-178.26 175,-168.26 171.5,-178.26 178.5,-178.26\"/>\n",
       "</g>\n",
       "<!-- 14 -->\n",
       "<g id=\"node15\" class=\"node\">\n",
       "<title>14</title>\n",
       "<text text-anchor=\"middle\" x=\"281\" y=\"-156.8\" font-family=\"Times,serif\" font-size=\"14.00\">&lt;xml&#45;close&#45;tag&gt;</text>\n",
       "</g>\n",
       "<!-- 1&#45;&gt;14 -->\n",
       "<g id=\"edge14\" class=\"edge\">\n",
       "<title>1&#45;&gt;14</title>\n",
       "<path fill=\"none\" stroke=\"black\" d=\"M189.3,-203.89C206.86,-195.77 236.89,-181.89 257.78,-172.23\"/>\n",
       "<polygon fill=\"black\" stroke=\"black\" points=\"259.32,-175.38 266.93,-168 256.39,-169.02 259.32,-175.38\"/>\n",
       "</g>\n",
       "<!-- 3 -->\n",
       "<g id=\"node4\" class=\"node\">\n",
       "<title>3</title>\n",
       "<text text-anchor=\"middle\" x=\"4\" y=\"-105.8\" font-family=\"Times,serif\" font-size=\"14.00\">&lt;</text>\n",
       "</g>\n",
       "<!-- 2&#45;&gt;3 -->\n",
       "<g id=\"edge3\" class=\"edge\">\n",
       "<title>2&#45;&gt;3</title>\n",
       "<path fill=\"none\" stroke=\"black\" d=\"M53.94,-152.69C44.01,-144.3 27.09,-130.01 15.73,-120.41\"/>\n",
       "<polygon fill=\"black\" stroke=\"black\" points=\"17.95,-117.7 8.05,-113.92 13.43,-123.05 17.95,-117.7\"/>\n",
       "</g>\n",
       "<!-- 4 -->\n",
       "<g id=\"node5\" class=\"node\">\n",
       "<title>4</title>\n",
       "<text text-anchor=\"middle\" x=\"40\" y=\"-105.8\" font-family=\"Times,serif\" font-size=\"14.00\">&lt;id&gt;</text>\n",
       "</g>\n",
       "<!-- 2&#45;&gt;4 -->\n",
       "<g id=\"edge4\" class=\"edge\">\n",
       "<title>2&#45;&gt;4</title>\n",
       "<path fill=\"none\" stroke=\"black\" d=\"M58.94,-152.69C55.92,-145.96 51.19,-135.42 47.21,-126.56\"/>\n",
       "<polygon fill=\"black\" stroke=\"black\" points=\"50.32,-124.94 43.03,-117.26 43.94,-127.81 50.32,-124.94\"/>\n",
       "</g>\n",
       "<!-- 6 -->\n",
       "<g id=\"node7\" class=\"node\">\n",
       "<title>6</title>\n",
       "<text text-anchor=\"middle\" x=\"76\" y=\"-105.8\" font-family=\"Times,serif\" font-size=\"14.00\">&gt;</text>\n",
       "</g>\n",
       "<!-- 2&#45;&gt;6 -->\n",
       "<g id=\"edge6\" class=\"edge\">\n",
       "<title>2&#45;&gt;6</title>\n",
       "<path fill=\"none\" stroke=\"black\" d=\"M63.95,-152.69C65.83,-146.1 68.75,-135.87 71.25,-127.14\"/>\n",
       "<polygon fill=\"black\" stroke=\"black\" points=\"74.69,-127.83 74.07,-117.26 67.96,-125.91 74.69,-127.83\"/>\n",
       "</g>\n",
       "<!-- 5 -->\n",
       "<g id=\"node6\" class=\"node\">\n",
       "<title>5</title>\n",
       "<text text-anchor=\"middle\" x=\"40\" y=\"-54.8\" font-family=\"Times,serif\" font-size=\"14.00\">html</text>\n",
       "</g>\n",
       "<!-- 4&#45;&gt;5 -->\n",
       "<g id=\"edge5\" class=\"edge\">\n",
       "<title>4&#45;&gt;5</title>\n",
       "<path fill=\"none\" stroke=\"black\" d=\"M40,-101.69C40,-95.18 40,-85.1 40,-76.43\"/>\n",
       "<polygon fill=\"black\" stroke=\"black\" points=\"43.5,-76.26 40,-66.26 36.5,-76.26 43.5,-76.26\"/>\n",
       "</g>\n",
       "<!-- 8 -->\n",
       "<g id=\"node9\" class=\"node\">\n",
       "<title>8</title>\n",
       "<text text-anchor=\"middle\" x=\"130\" y=\"-105.8\" font-family=\"Times,serif\" font-size=\"14.00\">&lt;xml&#45;tree&gt;</text>\n",
       "</g>\n",
       "<!-- 7&#45;&gt;8 -->\n",
       "<g id=\"edge8\" class=\"edge\">\n",
       "<title>7&#45;&gt;8</title>\n",
       "<path fill=\"none\" stroke=\"black\" d=\"M168.74,-152.69C162.16,-145.52 151.61,-134.03 143.18,-124.85\"/>\n",
       "<polygon fill=\"black\" stroke=\"black\" points=\"145.55,-122.25 136.2,-117.26 140.39,-126.99 145.55,-122.25\"/>\n",
       "</g>\n",
       "<!-- 11 -->\n",
       "<g id=\"node12\" class=\"node\">\n",
       "<title>11</title>\n",
       "<text text-anchor=\"middle\" x=\"212\" y=\"-105.8\" font-family=\"Times,serif\" font-size=\"14.00\">&lt;xml&#45;tree&gt;</text>\n",
       "</g>\n",
       "<!-- 7&#45;&gt;11 -->\n",
       "<g id=\"edge11\" class=\"edge\">\n",
       "<title>7&#45;&gt;11</title>\n",
       "<path fill=\"none\" stroke=\"black\" d=\"M180.14,-152.69C185.45,-145.67 193.88,-134.49 200.74,-125.41\"/>\n",
       "<polygon fill=\"black\" stroke=\"black\" points=\"203.67,-127.34 206.9,-117.26 198.08,-123.13 203.67,-127.34\"/>\n",
       "</g>\n",
       "<!-- 9 -->\n",
       "<g id=\"node10\" class=\"node\">\n",
       "<title>9</title>\n",
       "<text text-anchor=\"middle\" x=\"130\" y=\"-54.8\" font-family=\"Times,serif\" font-size=\"14.00\">&lt;text&gt;</text>\n",
       "</g>\n",
       "<!-- 8&#45;&gt;9 -->\n",
       "<g id=\"edge9\" class=\"edge\">\n",
       "<title>8&#45;&gt;9</title>\n",
       "<path fill=\"none\" stroke=\"black\" d=\"M130,-101.69C130,-95.18 130,-85.1 130,-76.43\"/>\n",
       "<polygon fill=\"black\" stroke=\"black\" points=\"133.5,-76.26 130,-66.26 126.5,-76.26 133.5,-76.26\"/>\n",
       "</g>\n",
       "<!-- 10 -->\n",
       "<g id=\"node11\" class=\"node\">\n",
       "<title>10</title>\n",
       "<text text-anchor=\"middle\" x=\"130\" y=\"-3.8\" font-family=\"Times,serif\" font-size=\"14.00\">Te</text>\n",
       "</g>\n",
       "<!-- 9&#45;&gt;10 -->\n",
       "<g id=\"edge10\" class=\"edge\">\n",
       "<title>9&#45;&gt;10</title>\n",
       "<path fill=\"none\" stroke=\"black\" d=\"M130,-50.69C130,-44.18 130,-34.1 130,-25.43\"/>\n",
       "<polygon fill=\"black\" stroke=\"black\" points=\"133.5,-25.26 130,-15.26 126.5,-25.26 133.5,-25.26\"/>\n",
       "</g>\n",
       "<!-- 12 -->\n",
       "<g id=\"node13\" class=\"node\">\n",
       "<title>12</title>\n",
       "<text text-anchor=\"middle\" x=\"212\" y=\"-54.8\" font-family=\"Times,serif\" font-size=\"14.00\">&lt;text&gt;</text>\n",
       "</g>\n",
       "<!-- 11&#45;&gt;12 -->\n",
       "<g id=\"edge12\" class=\"edge\">\n",
       "<title>11&#45;&gt;12</title>\n",
       "<path fill=\"none\" stroke=\"black\" d=\"M212,-101.69C212,-95.18 212,-85.1 212,-76.43\"/>\n",
       "<polygon fill=\"black\" stroke=\"black\" points=\"215.5,-76.26 212,-66.26 208.5,-76.26 215.5,-76.26\"/>\n",
       "</g>\n",
       "<!-- 13 -->\n",
       "<g id=\"node14\" class=\"node\">\n",
       "<title>13</title>\n",
       "<text text-anchor=\"middle\" x=\"212\" y=\"-3.8\" font-family=\"Times,serif\" font-size=\"14.00\">xt</text>\n",
       "</g>\n",
       "<!-- 12&#45;&gt;13 -->\n",
       "<g id=\"edge13\" class=\"edge\">\n",
       "<title>12&#45;&gt;13</title>\n",
       "<path fill=\"none\" stroke=\"black\" d=\"M212,-50.69C212,-44.18 212,-34.1 212,-25.43\"/>\n",
       "<polygon fill=\"black\" stroke=\"black\" points=\"215.5,-25.26 212,-15.26 208.5,-25.26 215.5,-25.26\"/>\n",
       "</g>\n",
       "<!-- 15 -->\n",
       "<g id=\"node16\" class=\"node\">\n",
       "<title>15</title>\n",
       "<text text-anchor=\"middle\" x=\"268\" y=\"-105.8\" font-family=\"Times,serif\" font-size=\"14.00\">&lt;/</text>\n",
       "</g>\n",
       "<!-- 14&#45;&gt;15 -->\n",
       "<g id=\"edge15\" class=\"edge\">\n",
       "<title>14&#45;&gt;15</title>\n",
       "<path fill=\"none\" stroke=\"black\" d=\"M279.19,-152.69C277.45,-146.1 274.73,-135.87 272.41,-127.14\"/>\n",
       "<polygon fill=\"black\" stroke=\"black\" points=\"275.74,-126.02 269.79,-117.26 268.97,-127.82 275.74,-126.02\"/>\n",
       "</g>\n",
       "<!-- 16 -->\n",
       "<g id=\"node17\" class=\"node\">\n",
       "<title>16</title>\n",
       "<text text-anchor=\"middle\" x=\"306\" y=\"-105.8\" font-family=\"Times,serif\" font-size=\"14.00\">&lt;id&gt;</text>\n",
       "</g>\n",
       "<!-- 14&#45;&gt;16 -->\n",
       "<g id=\"edge16\" class=\"edge\">\n",
       "<title>14&#45;&gt;16</title>\n",
       "<path fill=\"none\" stroke=\"black\" d=\"M284.48,-152.69C287.95,-145.88 293.4,-135.19 297.95,-126.27\"/>\n",
       "<polygon fill=\"black\" stroke=\"black\" points=\"301.13,-127.75 302.55,-117.26 294.89,-124.57 301.13,-127.75\"/>\n",
       "</g>\n",
       "<!-- 18 -->\n",
       "<g id=\"node19\" class=\"node\">\n",
       "<title>18</title>\n",
       "<text text-anchor=\"middle\" x=\"342\" y=\"-105.8\" font-family=\"Times,serif\" font-size=\"14.00\">&gt;</text>\n",
       "</g>\n",
       "<!-- 14&#45;&gt;18 -->\n",
       "<g id=\"edge18\" class=\"edge\">\n",
       "<title>14&#45;&gt;18</title>\n",
       "<path fill=\"none\" stroke=\"black\" d=\"M289.23,-152.89C299.7,-144.48 317.86,-129.89 329.91,-120.21\"/>\n",
       "<polygon fill=\"black\" stroke=\"black\" points=\"332.39,-122.71 337.99,-113.72 328.01,-117.25 332.39,-122.71\"/>\n",
       "</g>\n",
       "<!-- 17 -->\n",
       "<g id=\"node18\" class=\"node\">\n",
       "<title>17</title>\n",
       "<text text-anchor=\"middle\" x=\"306\" y=\"-54.8\" font-family=\"Times,serif\" font-size=\"14.00\">html</text>\n",
       "</g>\n",
       "<!-- 16&#45;&gt;17 -->\n",
       "<g id=\"edge17\" class=\"edge\">\n",
       "<title>16&#45;&gt;17</title>\n",
       "<path fill=\"none\" stroke=\"black\" d=\"M306,-101.69C306,-95.18 306,-85.1 306,-76.43\"/>\n",
       "<polygon fill=\"black\" stroke=\"black\" points=\"309.5,-76.26 306,-66.26 302.5,-76.26 309.5,-76.26\"/>\n",
       "</g>\n",
       "</g>\n",
       "</svg>\n"
      ],
      "text/plain": [
       "<graphviz.dot.Digraph at 0x1210aba60>"
      ]
     },
     "metadata": {},
     "output_type": "display_data"
    },
    {
     "data": {
      "image/svg+xml": [
       "<?xml version=\"1.0\" encoding=\"UTF-8\" standalone=\"no\"?>\n",
       "<!DOCTYPE svg PUBLIC \"-//W3C//DTD SVG 1.1//EN\"\n",
       " \"http://www.w3.org/Graphics/SVG/1.1/DTD/svg11.dtd\">\n",
       "<!-- Generated by graphviz version 2.49.3 (20211023.0002)\n",
       " -->\n",
       "<!-- Pages: 1 -->\n",
       "<svg width=\"354pt\" height=\"329pt\"\n",
       " viewBox=\"0.00 0.00 354.00 329.00\" xmlns=\"http://www.w3.org/2000/svg\" xmlns:xlink=\"http://www.w3.org/1999/xlink\">\n",
       "<g id=\"graph0\" class=\"graph\" transform=\"scale(1 1) rotate(0) translate(4 325)\">\n",
       "<polygon fill=\"white\" stroke=\"transparent\" points=\"-4,4 -4,-325 350,-325 350,4 -4,4\"/>\n",
       "<!-- 0 -->\n",
       "<g id=\"node1\" class=\"node\">\n",
       "<title>0</title>\n",
       "<text text-anchor=\"middle\" x=\"175\" y=\"-309.8\" font-family=\"Times,serif\" font-size=\"14.00\">&lt;start&gt;</text>\n",
       "</g>\n",
       "<!-- 1 -->\n",
       "<g id=\"node2\" class=\"node\">\n",
       "<title>1</title>\n",
       "<text text-anchor=\"middle\" x=\"175\" y=\"-258.8\" font-family=\"Times,serif\" font-size=\"14.00\">&lt;xml&#45;tree&gt;</text>\n",
       "</g>\n",
       "<!-- 0&#45;&gt;1 -->\n",
       "<g id=\"edge1\" class=\"edge\">\n",
       "<title>0&#45;&gt;1</title>\n",
       "<path fill=\"none\" stroke=\"black\" d=\"M175,-305.69C175,-299.18 175,-289.1 175,-280.43\"/>\n",
       "<polygon fill=\"black\" stroke=\"black\" points=\"178.5,-280.26 175,-270.26 171.5,-280.26 178.5,-280.26\"/>\n",
       "</g>\n",
       "<!-- 2 -->\n",
       "<g id=\"node3\" class=\"node\">\n",
       "<title>2</title>\n",
       "<text text-anchor=\"middle\" x=\"62\" y=\"-207.8\" font-family=\"Times,serif\" font-size=\"14.00\">&lt;xml&#45;open&#45;tag&gt;</text>\n",
       "</g>\n",
       "<!-- 1&#45;&gt;2 -->\n",
       "<g id=\"edge2\" class=\"edge\">\n",
       "<title>1&#45;&gt;2</title>\n",
       "<path fill=\"none\" stroke=\"black\" d=\"M159.76,-254.89C140.95,-246.74 108.74,-232.77 86.45,-223.1\"/>\n",
       "<polygon fill=\"black\" stroke=\"black\" points=\"87.57,-219.77 77,-219 84.78,-226.19 87.57,-219.77\"/>\n",
       "</g>\n",
       "<!-- 7 -->\n",
       "<g id=\"node8\" class=\"node\">\n",
       "<title>7</title>\n",
       "<text text-anchor=\"middle\" x=\"175\" y=\"-207.8\" font-family=\"Times,serif\" font-size=\"14.00\">&lt;xml&#45;tree&gt;</text>\n",
       "</g>\n",
       "<!-- 1&#45;&gt;7 -->\n",
       "<g id=\"edge7\" class=\"edge\">\n",
       "<title>1&#45;&gt;7</title>\n",
       "<path fill=\"none\" stroke=\"black\" d=\"M175,-254.69C175,-248.18 175,-238.1 175,-229.43\"/>\n",
       "<polygon fill=\"black\" stroke=\"black\" points=\"178.5,-229.26 175,-219.26 171.5,-229.26 178.5,-229.26\"/>\n",
       "</g>\n",
       "<!-- 18 -->\n",
       "<g id=\"node19\" class=\"node\">\n",
       "<title>18</title>\n",
       "<text text-anchor=\"middle\" x=\"281\" y=\"-207.8\" font-family=\"Times,serif\" font-size=\"14.00\">&lt;xml&#45;close&#45;tag&gt;</text>\n",
       "</g>\n",
       "<!-- 1&#45;&gt;18 -->\n",
       "<g id=\"edge18\" class=\"edge\">\n",
       "<title>1&#45;&gt;18</title>\n",
       "<path fill=\"none\" stroke=\"black\" d=\"M189.3,-254.89C206.86,-246.77 236.89,-232.89 257.78,-223.23\"/>\n",
       "<polygon fill=\"black\" stroke=\"black\" points=\"259.32,-226.38 266.93,-219 256.39,-220.02 259.32,-226.38\"/>\n",
       "</g>\n",
       "<!-- 3 -->\n",
       "<g id=\"node4\" class=\"node\">\n",
       "<title>3</title>\n",
       "<text text-anchor=\"middle\" x=\"4\" y=\"-156.8\" font-family=\"Times,serif\" font-size=\"14.00\">&lt;</text>\n",
       "</g>\n",
       "<!-- 2&#45;&gt;3 -->\n",
       "<g id=\"edge3\" class=\"edge\">\n",
       "<title>2&#45;&gt;3</title>\n",
       "<path fill=\"none\" stroke=\"black\" d=\"M53.94,-203.69C44.01,-195.3 27.09,-181.01 15.73,-171.41\"/>\n",
       "<polygon fill=\"black\" stroke=\"black\" points=\"17.95,-168.7 8.05,-164.92 13.43,-174.05 17.95,-168.7\"/>\n",
       "</g>\n",
       "<!-- 4 -->\n",
       "<g id=\"node5\" class=\"node\">\n",
       "<title>4</title>\n",
       "<text text-anchor=\"middle\" x=\"40\" y=\"-156.8\" font-family=\"Times,serif\" font-size=\"14.00\">&lt;id&gt;</text>\n",
       "</g>\n",
       "<!-- 2&#45;&gt;4 -->\n",
       "<g id=\"edge4\" class=\"edge\">\n",
       "<title>2&#45;&gt;4</title>\n",
       "<path fill=\"none\" stroke=\"black\" d=\"M58.94,-203.69C55.92,-196.96 51.19,-186.42 47.21,-177.56\"/>\n",
       "<polygon fill=\"black\" stroke=\"black\" points=\"50.32,-175.94 43.03,-168.26 43.94,-178.81 50.32,-175.94\"/>\n",
       "</g>\n",
       "<!-- 6 -->\n",
       "<g id=\"node7\" class=\"node\">\n",
       "<title>6</title>\n",
       "<text text-anchor=\"middle\" x=\"76\" y=\"-156.8\" font-family=\"Times,serif\" font-size=\"14.00\">&gt;</text>\n",
       "</g>\n",
       "<!-- 2&#45;&gt;6 -->\n",
       "<g id=\"edge6\" class=\"edge\">\n",
       "<title>2&#45;&gt;6</title>\n",
       "<path fill=\"none\" stroke=\"black\" d=\"M63.95,-203.69C65.83,-197.1 68.75,-186.87 71.25,-178.14\"/>\n",
       "<polygon fill=\"black\" stroke=\"black\" points=\"74.69,-178.83 74.07,-168.26 67.96,-176.91 74.69,-178.83\"/>\n",
       "</g>\n",
       "<!-- 5 -->\n",
       "<g id=\"node6\" class=\"node\">\n",
       "<title>5</title>\n",
       "<text text-anchor=\"middle\" x=\"19\" y=\"-105.8\" font-family=\"Times,serif\" font-size=\"14.00\">html</text>\n",
       "</g>\n",
       "<!-- 4&#45;&gt;5 -->\n",
       "<g id=\"edge5\" class=\"edge\">\n",
       "<title>4&#45;&gt;5</title>\n",
       "<path fill=\"none\" stroke=\"black\" d=\"M37.08,-152.69C34.2,-145.96 29.68,-135.42 25.88,-126.56\"/>\n",
       "<polygon fill=\"black\" stroke=\"black\" points=\"29.05,-125.07 21.9,-117.26 22.62,-127.83 29.05,-125.07\"/>\n",
       "</g>\n",
       "<!-- 8 -->\n",
       "<g id=\"node9\" class=\"node\">\n",
       "<title>8</title>\n",
       "<text text-anchor=\"middle\" x=\"130\" y=\"-156.8\" font-family=\"Times,serif\" font-size=\"14.00\">&lt;xml&#45;tree&gt;</text>\n",
       "</g>\n",
       "<!-- 7&#45;&gt;8 -->\n",
       "<g id=\"edge8\" class=\"edge\">\n",
       "<title>7&#45;&gt;8</title>\n",
       "<path fill=\"none\" stroke=\"black\" d=\"M168.74,-203.69C162.16,-196.52 151.61,-185.03 143.18,-175.85\"/>\n",
       "<polygon fill=\"black\" stroke=\"black\" points=\"145.55,-173.25 136.2,-168.26 140.39,-177.99 145.55,-173.25\"/>\n",
       "</g>\n",
       "<!-- 15 -->\n",
       "<g id=\"node16\" class=\"node\">\n",
       "<title>15</title>\n",
       "<text text-anchor=\"middle\" x=\"212\" y=\"-156.8\" font-family=\"Times,serif\" font-size=\"14.00\">&lt;xml&#45;tree&gt;</text>\n",
       "</g>\n",
       "<!-- 7&#45;&gt;15 -->\n",
       "<g id=\"edge15\" class=\"edge\">\n",
       "<title>7&#45;&gt;15</title>\n",
       "<path fill=\"none\" stroke=\"black\" d=\"M180.14,-203.69C185.45,-196.67 193.88,-185.49 200.74,-176.41\"/>\n",
       "<polygon fill=\"black\" stroke=\"black\" points=\"203.67,-178.34 206.9,-168.26 198.08,-174.13 203.67,-178.34\"/>\n",
       "</g>\n",
       "<!-- 9 -->\n",
       "<g id=\"node10\" class=\"node\">\n",
       "<title>9</title>\n",
       "<text text-anchor=\"middle\" x=\"82\" y=\"-105.8\" font-family=\"Times,serif\" font-size=\"14.00\">&lt;xml&#45;tree&gt;</text>\n",
       "</g>\n",
       "<!-- 8&#45;&gt;9 -->\n",
       "<g id=\"edge9\" class=\"edge\">\n",
       "<title>8&#45;&gt;9</title>\n",
       "<path fill=\"none\" stroke=\"black\" d=\"M123.33,-152.69C116.23,-145.45 104.82,-133.79 95.78,-124.57\"/>\n",
       "<polygon fill=\"black\" stroke=\"black\" points=\"98.12,-121.95 88.62,-117.26 93.12,-126.85 98.12,-121.95\"/>\n",
       "</g>\n",
       "<!-- 12 -->\n",
       "<g id=\"node13\" class=\"node\">\n",
       "<title>12</title>\n",
       "<text text-anchor=\"middle\" x=\"164\" y=\"-105.8\" font-family=\"Times,serif\" font-size=\"14.00\">&lt;xml&#45;tree&gt;</text>\n",
       "</g>\n",
       "<!-- 8&#45;&gt;12 -->\n",
       "<g id=\"edge12\" class=\"edge\">\n",
       "<title>8&#45;&gt;12</title>\n",
       "<path fill=\"none\" stroke=\"black\" d=\"M134.73,-152.69C139.55,-145.74 147.19,-134.73 153.46,-125.7\"/>\n",
       "<polygon fill=\"black\" stroke=\"black\" points=\"156.49,-127.47 159.31,-117.26 150.74,-123.48 156.49,-127.47\"/>\n",
       "</g>\n",
       "<!-- 10 -->\n",
       "<g id=\"node11\" class=\"node\">\n",
       "<title>10</title>\n",
       "<text text-anchor=\"middle\" x=\"82\" y=\"-54.8\" font-family=\"Times,serif\" font-size=\"14.00\">&lt;text&gt;</text>\n",
       "</g>\n",
       "<!-- 9&#45;&gt;10 -->\n",
       "<g id=\"edge10\" class=\"edge\">\n",
       "<title>9&#45;&gt;10</title>\n",
       "<path fill=\"none\" stroke=\"black\" d=\"M82,-101.69C82,-95.18 82,-85.1 82,-76.43\"/>\n",
       "<polygon fill=\"black\" stroke=\"black\" points=\"85.5,-76.26 82,-66.26 78.5,-76.26 85.5,-76.26\"/>\n",
       "</g>\n",
       "<!-- 11 -->\n",
       "<g id=\"node12\" class=\"node\">\n",
       "<title>11</title>\n",
       "<text text-anchor=\"middle\" x=\"82\" y=\"-3.8\" font-family=\"Times,serif\" font-size=\"14.00\">T</text>\n",
       "</g>\n",
       "<!-- 10&#45;&gt;11 -->\n",
       "<g id=\"edge11\" class=\"edge\">\n",
       "<title>10&#45;&gt;11</title>\n",
       "<path fill=\"none\" stroke=\"black\" d=\"M82,-50.69C82,-44.18 82,-34.1 82,-25.43\"/>\n",
       "<polygon fill=\"black\" stroke=\"black\" points=\"85.5,-25.26 82,-15.26 78.5,-25.26 85.5,-25.26\"/>\n",
       "</g>\n",
       "<!-- 13 -->\n",
       "<g id=\"node14\" class=\"node\">\n",
       "<title>13</title>\n",
       "<text text-anchor=\"middle\" x=\"164\" y=\"-54.8\" font-family=\"Times,serif\" font-size=\"14.00\">&lt;text&gt;</text>\n",
       "</g>\n",
       "<!-- 12&#45;&gt;13 -->\n",
       "<g id=\"edge13\" class=\"edge\">\n",
       "<title>12&#45;&gt;13</title>\n",
       "<path fill=\"none\" stroke=\"black\" d=\"M164,-101.69C164,-95.18 164,-85.1 164,-76.43\"/>\n",
       "<polygon fill=\"black\" stroke=\"black\" points=\"167.5,-76.26 164,-66.26 160.5,-76.26 167.5,-76.26\"/>\n",
       "</g>\n",
       "<!-- 14 -->\n",
       "<g id=\"node15\" class=\"node\">\n",
       "<title>14</title>\n",
       "<text text-anchor=\"middle\" x=\"164\" y=\"-3.8\" font-family=\"Times,serif\" font-size=\"14.00\">e</text>\n",
       "</g>\n",
       "<!-- 13&#45;&gt;14 -->\n",
       "<g id=\"edge14\" class=\"edge\">\n",
       "<title>13&#45;&gt;14</title>\n",
       "<path fill=\"none\" stroke=\"black\" d=\"M164,-50.69C164,-44.18 164,-34.1 164,-25.43\"/>\n",
       "<polygon fill=\"black\" stroke=\"black\" points=\"167.5,-25.26 164,-15.26 160.5,-25.26 167.5,-25.26\"/>\n",
       "</g>\n",
       "<!-- 16 -->\n",
       "<g id=\"node17\" class=\"node\">\n",
       "<title>16</title>\n",
       "<text text-anchor=\"middle\" x=\"233\" y=\"-105.8\" font-family=\"Times,serif\" font-size=\"14.00\">&lt;text&gt;</text>\n",
       "</g>\n",
       "<!-- 15&#45;&gt;16 -->\n",
       "<g id=\"edge16\" class=\"edge\">\n",
       "<title>15&#45;&gt;16</title>\n",
       "<path fill=\"none\" stroke=\"black\" d=\"M214.92,-152.69C217.8,-145.96 222.32,-135.42 226.12,-126.56\"/>\n",
       "<polygon fill=\"black\" stroke=\"black\" points=\"229.38,-127.83 230.1,-117.26 222.95,-125.07 229.38,-127.83\"/>\n",
       "</g>\n",
       "<!-- 17 -->\n",
       "<g id=\"node18\" class=\"node\">\n",
       "<title>17</title>\n",
       "<text text-anchor=\"middle\" x=\"233\" y=\"-54.8\" font-family=\"Times,serif\" font-size=\"14.00\">xt</text>\n",
       "</g>\n",
       "<!-- 16&#45;&gt;17 -->\n",
       "<g id=\"edge17\" class=\"edge\">\n",
       "<title>16&#45;&gt;17</title>\n",
       "<path fill=\"none\" stroke=\"black\" d=\"M233,-101.69C233,-95.18 233,-85.1 233,-76.43\"/>\n",
       "<polygon fill=\"black\" stroke=\"black\" points=\"236.5,-76.26 233,-66.26 229.5,-76.26 236.5,-76.26\"/>\n",
       "</g>\n",
       "<!-- 19 -->\n",
       "<g id=\"node20\" class=\"node\">\n",
       "<title>19</title>\n",
       "<text text-anchor=\"middle\" x=\"268\" y=\"-156.8\" font-family=\"Times,serif\" font-size=\"14.00\">&lt;/</text>\n",
       "</g>\n",
       "<!-- 18&#45;&gt;19 -->\n",
       "<g id=\"edge19\" class=\"edge\">\n",
       "<title>18&#45;&gt;19</title>\n",
       "<path fill=\"none\" stroke=\"black\" d=\"M279.19,-203.69C277.45,-197.1 274.73,-186.87 272.41,-178.14\"/>\n",
       "<polygon fill=\"black\" stroke=\"black\" points=\"275.74,-177.02 269.79,-168.26 268.97,-178.82 275.74,-177.02\"/>\n",
       "</g>\n",
       "<!-- 20 -->\n",
       "<g id=\"node21\" class=\"node\">\n",
       "<title>20</title>\n",
       "<text text-anchor=\"middle\" x=\"306\" y=\"-156.8\" font-family=\"Times,serif\" font-size=\"14.00\">&lt;id&gt;</text>\n",
       "</g>\n",
       "<!-- 18&#45;&gt;20 -->\n",
       "<g id=\"edge20\" class=\"edge\">\n",
       "<title>18&#45;&gt;20</title>\n",
       "<path fill=\"none\" stroke=\"black\" d=\"M284.48,-203.69C287.95,-196.88 293.4,-186.19 297.95,-177.27\"/>\n",
       "<polygon fill=\"black\" stroke=\"black\" points=\"301.13,-178.75 302.55,-168.26 294.89,-175.57 301.13,-178.75\"/>\n",
       "</g>\n",
       "<!-- 22 -->\n",
       "<g id=\"node23\" class=\"node\">\n",
       "<title>22</title>\n",
       "<text text-anchor=\"middle\" x=\"342\" y=\"-156.8\" font-family=\"Times,serif\" font-size=\"14.00\">&gt;</text>\n",
       "</g>\n",
       "<!-- 18&#45;&gt;22 -->\n",
       "<g id=\"edge22\" class=\"edge\">\n",
       "<title>18&#45;&gt;22</title>\n",
       "<path fill=\"none\" stroke=\"black\" d=\"M289.23,-203.89C299.7,-195.48 317.86,-180.89 329.91,-171.21\"/>\n",
       "<polygon fill=\"black\" stroke=\"black\" points=\"332.39,-173.71 337.99,-164.72 328.01,-168.25 332.39,-173.71\"/>\n",
       "</g>\n",
       "<!-- 21 -->\n",
       "<g id=\"node22\" class=\"node\">\n",
       "<title>21</title>\n",
       "<text text-anchor=\"middle\" x=\"306\" y=\"-105.8\" font-family=\"Times,serif\" font-size=\"14.00\">html</text>\n",
       "</g>\n",
       "<!-- 20&#45;&gt;21 -->\n",
       "<g id=\"edge21\" class=\"edge\">\n",
       "<title>20&#45;&gt;21</title>\n",
       "<path fill=\"none\" stroke=\"black\" d=\"M306,-152.69C306,-146.18 306,-136.1 306,-127.43\"/>\n",
       "<polygon fill=\"black\" stroke=\"black\" points=\"309.5,-127.26 306,-117.26 302.5,-127.26 309.5,-127.26\"/>\n",
       "</g>\n",
       "</g>\n",
       "</svg>\n"
      ],
      "text/plain": [
       "<graphviz.dot.Digraph at 0x1210ab820>"
      ]
     },
     "metadata": {},
     "output_type": "display_data"
    },
    {
     "data": {
      "image/svg+xml": [
       "<?xml version=\"1.0\" encoding=\"UTF-8\" standalone=\"no\"?>\n",
       "<!DOCTYPE svg PUBLIC \"-//W3C//DTD SVG 1.1//EN\"\n",
       " \"http://www.w3.org/Graphics/SVG/1.1/DTD/svg11.dtd\">\n",
       "<!-- Generated by graphviz version 2.49.3 (20211023.0002)\n",
       " -->\n",
       "<!-- Pages: 1 -->\n",
       "<svg width=\"354pt\" height=\"278pt\"\n",
       " viewBox=\"0.00 0.00 354.00 278.00\" xmlns=\"http://www.w3.org/2000/svg\" xmlns:xlink=\"http://www.w3.org/1999/xlink\">\n",
       "<g id=\"graph0\" class=\"graph\" transform=\"scale(1 1) rotate(0) translate(4 274)\">\n",
       "<polygon fill=\"white\" stroke=\"transparent\" points=\"-4,4 -4,-274 350,-274 350,4 -4,4\"/>\n",
       "<!-- 0 -->\n",
       "<g id=\"node1\" class=\"node\">\n",
       "<title>0</title>\n",
       "<text text-anchor=\"middle\" x=\"175\" y=\"-258.8\" font-family=\"Times,serif\" font-size=\"14.00\">&lt;start&gt;</text>\n",
       "</g>\n",
       "<!-- 1 -->\n",
       "<g id=\"node2\" class=\"node\">\n",
       "<title>1</title>\n",
       "<text text-anchor=\"middle\" x=\"175\" y=\"-207.8\" font-family=\"Times,serif\" font-size=\"14.00\">&lt;xml&#45;tree&gt;</text>\n",
       "</g>\n",
       "<!-- 0&#45;&gt;1 -->\n",
       "<g id=\"edge1\" class=\"edge\">\n",
       "<title>0&#45;&gt;1</title>\n",
       "<path fill=\"none\" stroke=\"black\" d=\"M175,-254.69C175,-248.18 175,-238.1 175,-229.43\"/>\n",
       "<polygon fill=\"black\" stroke=\"black\" points=\"178.5,-229.26 175,-219.26 171.5,-229.26 178.5,-229.26\"/>\n",
       "</g>\n",
       "<!-- 2 -->\n",
       "<g id=\"node3\" class=\"node\">\n",
       "<title>2</title>\n",
       "<text text-anchor=\"middle\" x=\"62\" y=\"-156.8\" font-family=\"Times,serif\" font-size=\"14.00\">&lt;xml&#45;open&#45;tag&gt;</text>\n",
       "</g>\n",
       "<!-- 1&#45;&gt;2 -->\n",
       "<g id=\"edge2\" class=\"edge\">\n",
       "<title>1&#45;&gt;2</title>\n",
       "<path fill=\"none\" stroke=\"black\" d=\"M159.76,-203.89C140.95,-195.74 108.74,-181.77 86.45,-172.1\"/>\n",
       "<polygon fill=\"black\" stroke=\"black\" points=\"87.57,-168.77 77,-168 84.78,-175.19 87.57,-168.77\"/>\n",
       "</g>\n",
       "<!-- 7 -->\n",
       "<g id=\"node8\" class=\"node\">\n",
       "<title>7</title>\n",
       "<text text-anchor=\"middle\" x=\"175\" y=\"-156.8\" font-family=\"Times,serif\" font-size=\"14.00\">&lt;xml&#45;tree&gt;</text>\n",
       "</g>\n",
       "<!-- 1&#45;&gt;7 -->\n",
       "<g id=\"edge7\" class=\"edge\">\n",
       "<title>1&#45;&gt;7</title>\n",
       "<path fill=\"none\" stroke=\"black\" d=\"M175,-203.69C175,-197.18 175,-187.1 175,-178.43\"/>\n",
       "<polygon fill=\"black\" stroke=\"black\" points=\"178.5,-178.26 175,-168.26 171.5,-178.26 178.5,-178.26\"/>\n",
       "</g>\n",
       "<!-- 14 -->\n",
       "<g id=\"node15\" class=\"node\">\n",
       "<title>14</title>\n",
       "<text text-anchor=\"middle\" x=\"281\" y=\"-156.8\" font-family=\"Times,serif\" font-size=\"14.00\">&lt;xml&#45;close&#45;tag&gt;</text>\n",
       "</g>\n",
       "<!-- 1&#45;&gt;14 -->\n",
       "<g id=\"edge14\" class=\"edge\">\n",
       "<title>1&#45;&gt;14</title>\n",
       "<path fill=\"none\" stroke=\"black\" d=\"M189.3,-203.89C206.86,-195.77 236.89,-181.89 257.78,-172.23\"/>\n",
       "<polygon fill=\"black\" stroke=\"black\" points=\"259.32,-175.38 266.93,-168 256.39,-169.02 259.32,-175.38\"/>\n",
       "</g>\n",
       "<!-- 3 -->\n",
       "<g id=\"node4\" class=\"node\">\n",
       "<title>3</title>\n",
       "<text text-anchor=\"middle\" x=\"4\" y=\"-105.8\" font-family=\"Times,serif\" font-size=\"14.00\">&lt;</text>\n",
       "</g>\n",
       "<!-- 2&#45;&gt;3 -->\n",
       "<g id=\"edge3\" class=\"edge\">\n",
       "<title>2&#45;&gt;3</title>\n",
       "<path fill=\"none\" stroke=\"black\" d=\"M53.94,-152.69C44.01,-144.3 27.09,-130.01 15.73,-120.41\"/>\n",
       "<polygon fill=\"black\" stroke=\"black\" points=\"17.95,-117.7 8.05,-113.92 13.43,-123.05 17.95,-117.7\"/>\n",
       "</g>\n",
       "<!-- 4 -->\n",
       "<g id=\"node5\" class=\"node\">\n",
       "<title>4</title>\n",
       "<text text-anchor=\"middle\" x=\"40\" y=\"-105.8\" font-family=\"Times,serif\" font-size=\"14.00\">&lt;id&gt;</text>\n",
       "</g>\n",
       "<!-- 2&#45;&gt;4 -->\n",
       "<g id=\"edge4\" class=\"edge\">\n",
       "<title>2&#45;&gt;4</title>\n",
       "<path fill=\"none\" stroke=\"black\" d=\"M58.94,-152.69C55.92,-145.96 51.19,-135.42 47.21,-126.56\"/>\n",
       "<polygon fill=\"black\" stroke=\"black\" points=\"50.32,-124.94 43.03,-117.26 43.94,-127.81 50.32,-124.94\"/>\n",
       "</g>\n",
       "<!-- 6 -->\n",
       "<g id=\"node7\" class=\"node\">\n",
       "<title>6</title>\n",
       "<text text-anchor=\"middle\" x=\"76\" y=\"-105.8\" font-family=\"Times,serif\" font-size=\"14.00\">&gt;</text>\n",
       "</g>\n",
       "<!-- 2&#45;&gt;6 -->\n",
       "<g id=\"edge6\" class=\"edge\">\n",
       "<title>2&#45;&gt;6</title>\n",
       "<path fill=\"none\" stroke=\"black\" d=\"M63.95,-152.69C65.83,-146.1 68.75,-135.87 71.25,-127.14\"/>\n",
       "<polygon fill=\"black\" stroke=\"black\" points=\"74.69,-127.83 74.07,-117.26 67.96,-125.91 74.69,-127.83\"/>\n",
       "</g>\n",
       "<!-- 5 -->\n",
       "<g id=\"node6\" class=\"node\">\n",
       "<title>5</title>\n",
       "<text text-anchor=\"middle\" x=\"40\" y=\"-54.8\" font-family=\"Times,serif\" font-size=\"14.00\">html</text>\n",
       "</g>\n",
       "<!-- 4&#45;&gt;5 -->\n",
       "<g id=\"edge5\" class=\"edge\">\n",
       "<title>4&#45;&gt;5</title>\n",
       "<path fill=\"none\" stroke=\"black\" d=\"M40,-101.69C40,-95.18 40,-85.1 40,-76.43\"/>\n",
       "<polygon fill=\"black\" stroke=\"black\" points=\"43.5,-76.26 40,-66.26 36.5,-76.26 43.5,-76.26\"/>\n",
       "</g>\n",
       "<!-- 8 -->\n",
       "<g id=\"node9\" class=\"node\">\n",
       "<title>8</title>\n",
       "<text text-anchor=\"middle\" x=\"130\" y=\"-105.8\" font-family=\"Times,serif\" font-size=\"14.00\">&lt;xml&#45;tree&gt;</text>\n",
       "</g>\n",
       "<!-- 7&#45;&gt;8 -->\n",
       "<g id=\"edge8\" class=\"edge\">\n",
       "<title>7&#45;&gt;8</title>\n",
       "<path fill=\"none\" stroke=\"black\" d=\"M168.74,-152.69C162.16,-145.52 151.61,-134.03 143.18,-124.85\"/>\n",
       "<polygon fill=\"black\" stroke=\"black\" points=\"145.55,-122.25 136.2,-117.26 140.39,-126.99 145.55,-122.25\"/>\n",
       "</g>\n",
       "<!-- 11 -->\n",
       "<g id=\"node12\" class=\"node\">\n",
       "<title>11</title>\n",
       "<text text-anchor=\"middle\" x=\"212\" y=\"-105.8\" font-family=\"Times,serif\" font-size=\"14.00\">&lt;xml&#45;tree&gt;</text>\n",
       "</g>\n",
       "<!-- 7&#45;&gt;11 -->\n",
       "<g id=\"edge11\" class=\"edge\">\n",
       "<title>7&#45;&gt;11</title>\n",
       "<path fill=\"none\" stroke=\"black\" d=\"M180.14,-152.69C185.45,-145.67 193.88,-134.49 200.74,-125.41\"/>\n",
       "<polygon fill=\"black\" stroke=\"black\" points=\"203.67,-127.34 206.9,-117.26 198.08,-123.13 203.67,-127.34\"/>\n",
       "</g>\n",
       "<!-- 9 -->\n",
       "<g id=\"node10\" class=\"node\">\n",
       "<title>9</title>\n",
       "<text text-anchor=\"middle\" x=\"130\" y=\"-54.8\" font-family=\"Times,serif\" font-size=\"14.00\">&lt;text&gt;</text>\n",
       "</g>\n",
       "<!-- 8&#45;&gt;9 -->\n",
       "<g id=\"edge9\" class=\"edge\">\n",
       "<title>8&#45;&gt;9</title>\n",
       "<path fill=\"none\" stroke=\"black\" d=\"M130,-101.69C130,-95.18 130,-85.1 130,-76.43\"/>\n",
       "<polygon fill=\"black\" stroke=\"black\" points=\"133.5,-76.26 130,-66.26 126.5,-76.26 133.5,-76.26\"/>\n",
       "</g>\n",
       "<!-- 10 -->\n",
       "<g id=\"node11\" class=\"node\">\n",
       "<title>10</title>\n",
       "<text text-anchor=\"middle\" x=\"130\" y=\"-3.8\" font-family=\"Times,serif\" font-size=\"14.00\">Tex</text>\n",
       "</g>\n",
       "<!-- 9&#45;&gt;10 -->\n",
       "<g id=\"edge10\" class=\"edge\">\n",
       "<title>9&#45;&gt;10</title>\n",
       "<path fill=\"none\" stroke=\"black\" d=\"M130,-50.69C130,-44.18 130,-34.1 130,-25.43\"/>\n",
       "<polygon fill=\"black\" stroke=\"black\" points=\"133.5,-25.26 130,-15.26 126.5,-25.26 133.5,-25.26\"/>\n",
       "</g>\n",
       "<!-- 12 -->\n",
       "<g id=\"node13\" class=\"node\">\n",
       "<title>12</title>\n",
       "<text text-anchor=\"middle\" x=\"212\" y=\"-54.8\" font-family=\"Times,serif\" font-size=\"14.00\">&lt;text&gt;</text>\n",
       "</g>\n",
       "<!-- 11&#45;&gt;12 -->\n",
       "<g id=\"edge12\" class=\"edge\">\n",
       "<title>11&#45;&gt;12</title>\n",
       "<path fill=\"none\" stroke=\"black\" d=\"M212,-101.69C212,-95.18 212,-85.1 212,-76.43\"/>\n",
       "<polygon fill=\"black\" stroke=\"black\" points=\"215.5,-76.26 212,-66.26 208.5,-76.26 215.5,-76.26\"/>\n",
       "</g>\n",
       "<!-- 13 -->\n",
       "<g id=\"node14\" class=\"node\">\n",
       "<title>13</title>\n",
       "<text text-anchor=\"middle\" x=\"212\" y=\"-3.8\" font-family=\"Times,serif\" font-size=\"14.00\">t</text>\n",
       "</g>\n",
       "<!-- 12&#45;&gt;13 -->\n",
       "<g id=\"edge13\" class=\"edge\">\n",
       "<title>12&#45;&gt;13</title>\n",
       "<path fill=\"none\" stroke=\"black\" d=\"M212,-50.69C212,-44.18 212,-34.1 212,-25.43\"/>\n",
       "<polygon fill=\"black\" stroke=\"black\" points=\"215.5,-25.26 212,-15.26 208.5,-25.26 215.5,-25.26\"/>\n",
       "</g>\n",
       "<!-- 15 -->\n",
       "<g id=\"node16\" class=\"node\">\n",
       "<title>15</title>\n",
       "<text text-anchor=\"middle\" x=\"268\" y=\"-105.8\" font-family=\"Times,serif\" font-size=\"14.00\">&lt;/</text>\n",
       "</g>\n",
       "<!-- 14&#45;&gt;15 -->\n",
       "<g id=\"edge15\" class=\"edge\">\n",
       "<title>14&#45;&gt;15</title>\n",
       "<path fill=\"none\" stroke=\"black\" d=\"M279.19,-152.69C277.45,-146.1 274.73,-135.87 272.41,-127.14\"/>\n",
       "<polygon fill=\"black\" stroke=\"black\" points=\"275.74,-126.02 269.79,-117.26 268.97,-127.82 275.74,-126.02\"/>\n",
       "</g>\n",
       "<!-- 16 -->\n",
       "<g id=\"node17\" class=\"node\">\n",
       "<title>16</title>\n",
       "<text text-anchor=\"middle\" x=\"306\" y=\"-105.8\" font-family=\"Times,serif\" font-size=\"14.00\">&lt;id&gt;</text>\n",
       "</g>\n",
       "<!-- 14&#45;&gt;16 -->\n",
       "<g id=\"edge16\" class=\"edge\">\n",
       "<title>14&#45;&gt;16</title>\n",
       "<path fill=\"none\" stroke=\"black\" d=\"M284.48,-152.69C287.95,-145.88 293.4,-135.19 297.95,-126.27\"/>\n",
       "<polygon fill=\"black\" stroke=\"black\" points=\"301.13,-127.75 302.55,-117.26 294.89,-124.57 301.13,-127.75\"/>\n",
       "</g>\n",
       "<!-- 18 -->\n",
       "<g id=\"node19\" class=\"node\">\n",
       "<title>18</title>\n",
       "<text text-anchor=\"middle\" x=\"342\" y=\"-105.8\" font-family=\"Times,serif\" font-size=\"14.00\">&gt;</text>\n",
       "</g>\n",
       "<!-- 14&#45;&gt;18 -->\n",
       "<g id=\"edge18\" class=\"edge\">\n",
       "<title>14&#45;&gt;18</title>\n",
       "<path fill=\"none\" stroke=\"black\" d=\"M289.23,-152.89C299.7,-144.48 317.86,-129.89 329.91,-120.21\"/>\n",
       "<polygon fill=\"black\" stroke=\"black\" points=\"332.39,-122.71 337.99,-113.72 328.01,-117.25 332.39,-122.71\"/>\n",
       "</g>\n",
       "<!-- 17 -->\n",
       "<g id=\"node18\" class=\"node\">\n",
       "<title>17</title>\n",
       "<text text-anchor=\"middle\" x=\"306\" y=\"-54.8\" font-family=\"Times,serif\" font-size=\"14.00\">html</text>\n",
       "</g>\n",
       "<!-- 16&#45;&gt;17 -->\n",
       "<g id=\"edge17\" class=\"edge\">\n",
       "<title>16&#45;&gt;17</title>\n",
       "<path fill=\"none\" stroke=\"black\" d=\"M306,-101.69C306,-95.18 306,-85.1 306,-76.43\"/>\n",
       "<polygon fill=\"black\" stroke=\"black\" points=\"309.5,-76.26 306,-66.26 302.5,-76.26 309.5,-76.26\"/>\n",
       "</g>\n",
       "</g>\n",
       "</svg>\n"
      ],
      "text/plain": [
       "<graphviz.dot.Digraph at 0x121040130>"
      ]
     },
     "metadata": {},
     "output_type": "display_data"
    },
    {
     "data": {
      "image/svg+xml": [
       "<?xml version=\"1.0\" encoding=\"UTF-8\" standalone=\"no\"?>\n",
       "<!DOCTYPE svg PUBLIC \"-//W3C//DTD SVG 1.1//EN\"\n",
       " \"http://www.w3.org/Graphics/SVG/1.1/DTD/svg11.dtd\">\n",
       "<!-- Generated by graphviz version 2.49.3 (20211023.0002)\n",
       " -->\n",
       "<!-- Pages: 1 -->\n",
       "<svg width=\"354pt\" height=\"329pt\"\n",
       " viewBox=\"0.00 0.00 354.00 329.00\" xmlns=\"http://www.w3.org/2000/svg\" xmlns:xlink=\"http://www.w3.org/1999/xlink\">\n",
       "<g id=\"graph0\" class=\"graph\" transform=\"scale(1 1) rotate(0) translate(4 325)\">\n",
       "<polygon fill=\"white\" stroke=\"transparent\" points=\"-4,4 -4,-325 350,-325 350,4 -4,4\"/>\n",
       "<!-- 0 -->\n",
       "<g id=\"node1\" class=\"node\">\n",
       "<title>0</title>\n",
       "<text text-anchor=\"middle\" x=\"175\" y=\"-309.8\" font-family=\"Times,serif\" font-size=\"14.00\">&lt;start&gt;</text>\n",
       "</g>\n",
       "<!-- 1 -->\n",
       "<g id=\"node2\" class=\"node\">\n",
       "<title>1</title>\n",
       "<text text-anchor=\"middle\" x=\"175\" y=\"-258.8\" font-family=\"Times,serif\" font-size=\"14.00\">&lt;xml&#45;tree&gt;</text>\n",
       "</g>\n",
       "<!-- 0&#45;&gt;1 -->\n",
       "<g id=\"edge1\" class=\"edge\">\n",
       "<title>0&#45;&gt;1</title>\n",
       "<path fill=\"none\" stroke=\"black\" d=\"M175,-305.69C175,-299.18 175,-289.1 175,-280.43\"/>\n",
       "<polygon fill=\"black\" stroke=\"black\" points=\"178.5,-280.26 175,-270.26 171.5,-280.26 178.5,-280.26\"/>\n",
       "</g>\n",
       "<!-- 2 -->\n",
       "<g id=\"node3\" class=\"node\">\n",
       "<title>2</title>\n",
       "<text text-anchor=\"middle\" x=\"62\" y=\"-207.8\" font-family=\"Times,serif\" font-size=\"14.00\">&lt;xml&#45;open&#45;tag&gt;</text>\n",
       "</g>\n",
       "<!-- 1&#45;&gt;2 -->\n",
       "<g id=\"edge2\" class=\"edge\">\n",
       "<title>1&#45;&gt;2</title>\n",
       "<path fill=\"none\" stroke=\"black\" d=\"M159.76,-254.89C140.95,-246.74 108.74,-232.77 86.45,-223.1\"/>\n",
       "<polygon fill=\"black\" stroke=\"black\" points=\"87.57,-219.77 77,-219 84.78,-226.19 87.57,-219.77\"/>\n",
       "</g>\n",
       "<!-- 7 -->\n",
       "<g id=\"node8\" class=\"node\">\n",
       "<title>7</title>\n",
       "<text text-anchor=\"middle\" x=\"175\" y=\"-207.8\" font-family=\"Times,serif\" font-size=\"14.00\">&lt;xml&#45;tree&gt;</text>\n",
       "</g>\n",
       "<!-- 1&#45;&gt;7 -->\n",
       "<g id=\"edge7\" class=\"edge\">\n",
       "<title>1&#45;&gt;7</title>\n",
       "<path fill=\"none\" stroke=\"black\" d=\"M175,-254.69C175,-248.18 175,-238.1 175,-229.43\"/>\n",
       "<polygon fill=\"black\" stroke=\"black\" points=\"178.5,-229.26 175,-219.26 171.5,-229.26 178.5,-229.26\"/>\n",
       "</g>\n",
       "<!-- 18 -->\n",
       "<g id=\"node19\" class=\"node\">\n",
       "<title>18</title>\n",
       "<text text-anchor=\"middle\" x=\"281\" y=\"-207.8\" font-family=\"Times,serif\" font-size=\"14.00\">&lt;xml&#45;close&#45;tag&gt;</text>\n",
       "</g>\n",
       "<!-- 1&#45;&gt;18 -->\n",
       "<g id=\"edge18\" class=\"edge\">\n",
       "<title>1&#45;&gt;18</title>\n",
       "<path fill=\"none\" stroke=\"black\" d=\"M189.3,-254.89C206.86,-246.77 236.89,-232.89 257.78,-223.23\"/>\n",
       "<polygon fill=\"black\" stroke=\"black\" points=\"259.32,-226.38 266.93,-219 256.39,-220.02 259.32,-226.38\"/>\n",
       "</g>\n",
       "<!-- 3 -->\n",
       "<g id=\"node4\" class=\"node\">\n",
       "<title>3</title>\n",
       "<text text-anchor=\"middle\" x=\"4\" y=\"-156.8\" font-family=\"Times,serif\" font-size=\"14.00\">&lt;</text>\n",
       "</g>\n",
       "<!-- 2&#45;&gt;3 -->\n",
       "<g id=\"edge3\" class=\"edge\">\n",
       "<title>2&#45;&gt;3</title>\n",
       "<path fill=\"none\" stroke=\"black\" d=\"M53.94,-203.69C44.01,-195.3 27.09,-181.01 15.73,-171.41\"/>\n",
       "<polygon fill=\"black\" stroke=\"black\" points=\"17.95,-168.7 8.05,-164.92 13.43,-174.05 17.95,-168.7\"/>\n",
       "</g>\n",
       "<!-- 4 -->\n",
       "<g id=\"node5\" class=\"node\">\n",
       "<title>4</title>\n",
       "<text text-anchor=\"middle\" x=\"40\" y=\"-156.8\" font-family=\"Times,serif\" font-size=\"14.00\">&lt;id&gt;</text>\n",
       "</g>\n",
       "<!-- 2&#45;&gt;4 -->\n",
       "<g id=\"edge4\" class=\"edge\">\n",
       "<title>2&#45;&gt;4</title>\n",
       "<path fill=\"none\" stroke=\"black\" d=\"M58.94,-203.69C55.92,-196.96 51.19,-186.42 47.21,-177.56\"/>\n",
       "<polygon fill=\"black\" stroke=\"black\" points=\"50.32,-175.94 43.03,-168.26 43.94,-178.81 50.32,-175.94\"/>\n",
       "</g>\n",
       "<!-- 6 -->\n",
       "<g id=\"node7\" class=\"node\">\n",
       "<title>6</title>\n",
       "<text text-anchor=\"middle\" x=\"76\" y=\"-156.8\" font-family=\"Times,serif\" font-size=\"14.00\">&gt;</text>\n",
       "</g>\n",
       "<!-- 2&#45;&gt;6 -->\n",
       "<g id=\"edge6\" class=\"edge\">\n",
       "<title>2&#45;&gt;6</title>\n",
       "<path fill=\"none\" stroke=\"black\" d=\"M63.95,-203.69C65.83,-197.1 68.75,-186.87 71.25,-178.14\"/>\n",
       "<polygon fill=\"black\" stroke=\"black\" points=\"74.69,-178.83 74.07,-168.26 67.96,-176.91 74.69,-178.83\"/>\n",
       "</g>\n",
       "<!-- 5 -->\n",
       "<g id=\"node6\" class=\"node\">\n",
       "<title>5</title>\n",
       "<text text-anchor=\"middle\" x=\"19\" y=\"-105.8\" font-family=\"Times,serif\" font-size=\"14.00\">html</text>\n",
       "</g>\n",
       "<!-- 4&#45;&gt;5 -->\n",
       "<g id=\"edge5\" class=\"edge\">\n",
       "<title>4&#45;&gt;5</title>\n",
       "<path fill=\"none\" stroke=\"black\" d=\"M37.08,-152.69C34.2,-145.96 29.68,-135.42 25.88,-126.56\"/>\n",
       "<polygon fill=\"black\" stroke=\"black\" points=\"29.05,-125.07 21.9,-117.26 22.62,-127.83 29.05,-125.07\"/>\n",
       "</g>\n",
       "<!-- 8 -->\n",
       "<g id=\"node9\" class=\"node\">\n",
       "<title>8</title>\n",
       "<text text-anchor=\"middle\" x=\"130\" y=\"-156.8\" font-family=\"Times,serif\" font-size=\"14.00\">&lt;xml&#45;tree&gt;</text>\n",
       "</g>\n",
       "<!-- 7&#45;&gt;8 -->\n",
       "<g id=\"edge8\" class=\"edge\">\n",
       "<title>7&#45;&gt;8</title>\n",
       "<path fill=\"none\" stroke=\"black\" d=\"M168.74,-203.69C162.16,-196.52 151.61,-185.03 143.18,-175.85\"/>\n",
       "<polygon fill=\"black\" stroke=\"black\" points=\"145.55,-173.25 136.2,-168.26 140.39,-177.99 145.55,-173.25\"/>\n",
       "</g>\n",
       "<!-- 15 -->\n",
       "<g id=\"node16\" class=\"node\">\n",
       "<title>15</title>\n",
       "<text text-anchor=\"middle\" x=\"212\" y=\"-156.8\" font-family=\"Times,serif\" font-size=\"14.00\">&lt;xml&#45;tree&gt;</text>\n",
       "</g>\n",
       "<!-- 7&#45;&gt;15 -->\n",
       "<g id=\"edge15\" class=\"edge\">\n",
       "<title>7&#45;&gt;15</title>\n",
       "<path fill=\"none\" stroke=\"black\" d=\"M180.14,-203.69C185.45,-196.67 193.88,-185.49 200.74,-176.41\"/>\n",
       "<polygon fill=\"black\" stroke=\"black\" points=\"203.67,-178.34 206.9,-168.26 198.08,-174.13 203.67,-178.34\"/>\n",
       "</g>\n",
       "<!-- 9 -->\n",
       "<g id=\"node10\" class=\"node\">\n",
       "<title>9</title>\n",
       "<text text-anchor=\"middle\" x=\"82\" y=\"-105.8\" font-family=\"Times,serif\" font-size=\"14.00\">&lt;xml&#45;tree&gt;</text>\n",
       "</g>\n",
       "<!-- 8&#45;&gt;9 -->\n",
       "<g id=\"edge9\" class=\"edge\">\n",
       "<title>8&#45;&gt;9</title>\n",
       "<path fill=\"none\" stroke=\"black\" d=\"M123.33,-152.69C116.23,-145.45 104.82,-133.79 95.78,-124.57\"/>\n",
       "<polygon fill=\"black\" stroke=\"black\" points=\"98.12,-121.95 88.62,-117.26 93.12,-126.85 98.12,-121.95\"/>\n",
       "</g>\n",
       "<!-- 12 -->\n",
       "<g id=\"node13\" class=\"node\">\n",
       "<title>12</title>\n",
       "<text text-anchor=\"middle\" x=\"164\" y=\"-105.8\" font-family=\"Times,serif\" font-size=\"14.00\">&lt;xml&#45;tree&gt;</text>\n",
       "</g>\n",
       "<!-- 8&#45;&gt;12 -->\n",
       "<g id=\"edge12\" class=\"edge\">\n",
       "<title>8&#45;&gt;12</title>\n",
       "<path fill=\"none\" stroke=\"black\" d=\"M134.73,-152.69C139.55,-145.74 147.19,-134.73 153.46,-125.7\"/>\n",
       "<polygon fill=\"black\" stroke=\"black\" points=\"156.49,-127.47 159.31,-117.26 150.74,-123.48 156.49,-127.47\"/>\n",
       "</g>\n",
       "<!-- 10 -->\n",
       "<g id=\"node11\" class=\"node\">\n",
       "<title>10</title>\n",
       "<text text-anchor=\"middle\" x=\"82\" y=\"-54.8\" font-family=\"Times,serif\" font-size=\"14.00\">&lt;text&gt;</text>\n",
       "</g>\n",
       "<!-- 9&#45;&gt;10 -->\n",
       "<g id=\"edge10\" class=\"edge\">\n",
       "<title>9&#45;&gt;10</title>\n",
       "<path fill=\"none\" stroke=\"black\" d=\"M82,-101.69C82,-95.18 82,-85.1 82,-76.43\"/>\n",
       "<polygon fill=\"black\" stroke=\"black\" points=\"85.5,-76.26 82,-66.26 78.5,-76.26 85.5,-76.26\"/>\n",
       "</g>\n",
       "<!-- 11 -->\n",
       "<g id=\"node12\" class=\"node\">\n",
       "<title>11</title>\n",
       "<text text-anchor=\"middle\" x=\"82\" y=\"-3.8\" font-family=\"Times,serif\" font-size=\"14.00\">T</text>\n",
       "</g>\n",
       "<!-- 10&#45;&gt;11 -->\n",
       "<g id=\"edge11\" class=\"edge\">\n",
       "<title>10&#45;&gt;11</title>\n",
       "<path fill=\"none\" stroke=\"black\" d=\"M82,-50.69C82,-44.18 82,-34.1 82,-25.43\"/>\n",
       "<polygon fill=\"black\" stroke=\"black\" points=\"85.5,-25.26 82,-15.26 78.5,-25.26 85.5,-25.26\"/>\n",
       "</g>\n",
       "<!-- 13 -->\n",
       "<g id=\"node14\" class=\"node\">\n",
       "<title>13</title>\n",
       "<text text-anchor=\"middle\" x=\"164\" y=\"-54.8\" font-family=\"Times,serif\" font-size=\"14.00\">&lt;text&gt;</text>\n",
       "</g>\n",
       "<!-- 12&#45;&gt;13 -->\n",
       "<g id=\"edge13\" class=\"edge\">\n",
       "<title>12&#45;&gt;13</title>\n",
       "<path fill=\"none\" stroke=\"black\" d=\"M164,-101.69C164,-95.18 164,-85.1 164,-76.43\"/>\n",
       "<polygon fill=\"black\" stroke=\"black\" points=\"167.5,-76.26 164,-66.26 160.5,-76.26 167.5,-76.26\"/>\n",
       "</g>\n",
       "<!-- 14 -->\n",
       "<g id=\"node15\" class=\"node\">\n",
       "<title>14</title>\n",
       "<text text-anchor=\"middle\" x=\"164\" y=\"-3.8\" font-family=\"Times,serif\" font-size=\"14.00\">ex</text>\n",
       "</g>\n",
       "<!-- 13&#45;&gt;14 -->\n",
       "<g id=\"edge14\" class=\"edge\">\n",
       "<title>13&#45;&gt;14</title>\n",
       "<path fill=\"none\" stroke=\"black\" d=\"M164,-50.69C164,-44.18 164,-34.1 164,-25.43\"/>\n",
       "<polygon fill=\"black\" stroke=\"black\" points=\"167.5,-25.26 164,-15.26 160.5,-25.26 167.5,-25.26\"/>\n",
       "</g>\n",
       "<!-- 16 -->\n",
       "<g id=\"node17\" class=\"node\">\n",
       "<title>16</title>\n",
       "<text text-anchor=\"middle\" x=\"233\" y=\"-105.8\" font-family=\"Times,serif\" font-size=\"14.00\">&lt;text&gt;</text>\n",
       "</g>\n",
       "<!-- 15&#45;&gt;16 -->\n",
       "<g id=\"edge16\" class=\"edge\">\n",
       "<title>15&#45;&gt;16</title>\n",
       "<path fill=\"none\" stroke=\"black\" d=\"M214.92,-152.69C217.8,-145.96 222.32,-135.42 226.12,-126.56\"/>\n",
       "<polygon fill=\"black\" stroke=\"black\" points=\"229.38,-127.83 230.1,-117.26 222.95,-125.07 229.38,-127.83\"/>\n",
       "</g>\n",
       "<!-- 17 -->\n",
       "<g id=\"node18\" class=\"node\">\n",
       "<title>17</title>\n",
       "<text text-anchor=\"middle\" x=\"233\" y=\"-54.8\" font-family=\"Times,serif\" font-size=\"14.00\">t</text>\n",
       "</g>\n",
       "<!-- 16&#45;&gt;17 -->\n",
       "<g id=\"edge17\" class=\"edge\">\n",
       "<title>16&#45;&gt;17</title>\n",
       "<path fill=\"none\" stroke=\"black\" d=\"M233,-101.69C233,-95.18 233,-85.1 233,-76.43\"/>\n",
       "<polygon fill=\"black\" stroke=\"black\" points=\"236.5,-76.26 233,-66.26 229.5,-76.26 236.5,-76.26\"/>\n",
       "</g>\n",
       "<!-- 19 -->\n",
       "<g id=\"node20\" class=\"node\">\n",
       "<title>19</title>\n",
       "<text text-anchor=\"middle\" x=\"268\" y=\"-156.8\" font-family=\"Times,serif\" font-size=\"14.00\">&lt;/</text>\n",
       "</g>\n",
       "<!-- 18&#45;&gt;19 -->\n",
       "<g id=\"edge19\" class=\"edge\">\n",
       "<title>18&#45;&gt;19</title>\n",
       "<path fill=\"none\" stroke=\"black\" d=\"M279.19,-203.69C277.45,-197.1 274.73,-186.87 272.41,-178.14\"/>\n",
       "<polygon fill=\"black\" stroke=\"black\" points=\"275.74,-177.02 269.79,-168.26 268.97,-178.82 275.74,-177.02\"/>\n",
       "</g>\n",
       "<!-- 20 -->\n",
       "<g id=\"node21\" class=\"node\">\n",
       "<title>20</title>\n",
       "<text text-anchor=\"middle\" x=\"306\" y=\"-156.8\" font-family=\"Times,serif\" font-size=\"14.00\">&lt;id&gt;</text>\n",
       "</g>\n",
       "<!-- 18&#45;&gt;20 -->\n",
       "<g id=\"edge20\" class=\"edge\">\n",
       "<title>18&#45;&gt;20</title>\n",
       "<path fill=\"none\" stroke=\"black\" d=\"M284.48,-203.69C287.95,-196.88 293.4,-186.19 297.95,-177.27\"/>\n",
       "<polygon fill=\"black\" stroke=\"black\" points=\"301.13,-178.75 302.55,-168.26 294.89,-175.57 301.13,-178.75\"/>\n",
       "</g>\n",
       "<!-- 22 -->\n",
       "<g id=\"node23\" class=\"node\">\n",
       "<title>22</title>\n",
       "<text text-anchor=\"middle\" x=\"342\" y=\"-156.8\" font-family=\"Times,serif\" font-size=\"14.00\">&gt;</text>\n",
       "</g>\n",
       "<!-- 18&#45;&gt;22 -->\n",
       "<g id=\"edge22\" class=\"edge\">\n",
       "<title>18&#45;&gt;22</title>\n",
       "<path fill=\"none\" stroke=\"black\" d=\"M289.23,-203.89C299.7,-195.48 317.86,-180.89 329.91,-171.21\"/>\n",
       "<polygon fill=\"black\" stroke=\"black\" points=\"332.39,-173.71 337.99,-164.72 328.01,-168.25 332.39,-173.71\"/>\n",
       "</g>\n",
       "<!-- 21 -->\n",
       "<g id=\"node22\" class=\"node\">\n",
       "<title>21</title>\n",
       "<text text-anchor=\"middle\" x=\"306\" y=\"-105.8\" font-family=\"Times,serif\" font-size=\"14.00\">html</text>\n",
       "</g>\n",
       "<!-- 20&#45;&gt;21 -->\n",
       "<g id=\"edge21\" class=\"edge\">\n",
       "<title>20&#45;&gt;21</title>\n",
       "<path fill=\"none\" stroke=\"black\" d=\"M306,-152.69C306,-146.18 306,-136.1 306,-127.43\"/>\n",
       "<polygon fill=\"black\" stroke=\"black\" points=\"309.5,-127.26 306,-117.26 302.5,-127.26 309.5,-127.26\"/>\n",
       "</g>\n",
       "</g>\n",
       "</svg>\n"
      ],
      "text/plain": [
       "<graphviz.dot.Digraph at 0x121040220>"
      ]
     },
     "metadata": {},
     "output_type": "display_data"
    },
    {
     "data": {
      "image/svg+xml": [
       "<?xml version=\"1.0\" encoding=\"UTF-8\" standalone=\"no\"?>\n",
       "<!DOCTYPE svg PUBLIC \"-//W3C//DTD SVG 1.1//EN\"\n",
       " \"http://www.w3.org/Graphics/SVG/1.1/DTD/svg11.dtd\">\n",
       "<!-- Generated by graphviz version 2.49.3 (20211023.0002)\n",
       " -->\n",
       "<!-- Pages: 1 -->\n",
       "<svg width=\"354pt\" height=\"329pt\"\n",
       " viewBox=\"0.00 0.00 354.00 329.00\" xmlns=\"http://www.w3.org/2000/svg\" xmlns:xlink=\"http://www.w3.org/1999/xlink\">\n",
       "<g id=\"graph0\" class=\"graph\" transform=\"scale(1 1) rotate(0) translate(4 325)\">\n",
       "<polygon fill=\"white\" stroke=\"transparent\" points=\"-4,4 -4,-325 350,-325 350,4 -4,4\"/>\n",
       "<!-- 0 -->\n",
       "<g id=\"node1\" class=\"node\">\n",
       "<title>0</title>\n",
       "<text text-anchor=\"middle\" x=\"175\" y=\"-309.8\" font-family=\"Times,serif\" font-size=\"14.00\">&lt;start&gt;</text>\n",
       "</g>\n",
       "<!-- 1 -->\n",
       "<g id=\"node2\" class=\"node\">\n",
       "<title>1</title>\n",
       "<text text-anchor=\"middle\" x=\"175\" y=\"-258.8\" font-family=\"Times,serif\" font-size=\"14.00\">&lt;xml&#45;tree&gt;</text>\n",
       "</g>\n",
       "<!-- 0&#45;&gt;1 -->\n",
       "<g id=\"edge1\" class=\"edge\">\n",
       "<title>0&#45;&gt;1</title>\n",
       "<path fill=\"none\" stroke=\"black\" d=\"M175,-305.69C175,-299.18 175,-289.1 175,-280.43\"/>\n",
       "<polygon fill=\"black\" stroke=\"black\" points=\"178.5,-280.26 175,-270.26 171.5,-280.26 178.5,-280.26\"/>\n",
       "</g>\n",
       "<!-- 2 -->\n",
       "<g id=\"node3\" class=\"node\">\n",
       "<title>2</title>\n",
       "<text text-anchor=\"middle\" x=\"62\" y=\"-207.8\" font-family=\"Times,serif\" font-size=\"14.00\">&lt;xml&#45;open&#45;tag&gt;</text>\n",
       "</g>\n",
       "<!-- 1&#45;&gt;2 -->\n",
       "<g id=\"edge2\" class=\"edge\">\n",
       "<title>1&#45;&gt;2</title>\n",
       "<path fill=\"none\" stroke=\"black\" d=\"M159.76,-254.89C140.95,-246.74 108.74,-232.77 86.45,-223.1\"/>\n",
       "<polygon fill=\"black\" stroke=\"black\" points=\"87.57,-219.77 77,-219 84.78,-226.19 87.57,-219.77\"/>\n",
       "</g>\n",
       "<!-- 7 -->\n",
       "<g id=\"node8\" class=\"node\">\n",
       "<title>7</title>\n",
       "<text text-anchor=\"middle\" x=\"175\" y=\"-207.8\" font-family=\"Times,serif\" font-size=\"14.00\">&lt;xml&#45;tree&gt;</text>\n",
       "</g>\n",
       "<!-- 1&#45;&gt;7 -->\n",
       "<g id=\"edge7\" class=\"edge\">\n",
       "<title>1&#45;&gt;7</title>\n",
       "<path fill=\"none\" stroke=\"black\" d=\"M175,-254.69C175,-248.18 175,-238.1 175,-229.43\"/>\n",
       "<polygon fill=\"black\" stroke=\"black\" points=\"178.5,-229.26 175,-219.26 171.5,-229.26 178.5,-229.26\"/>\n",
       "</g>\n",
       "<!-- 18 -->\n",
       "<g id=\"node19\" class=\"node\">\n",
       "<title>18</title>\n",
       "<text text-anchor=\"middle\" x=\"281\" y=\"-207.8\" font-family=\"Times,serif\" font-size=\"14.00\">&lt;xml&#45;close&#45;tag&gt;</text>\n",
       "</g>\n",
       "<!-- 1&#45;&gt;18 -->\n",
       "<g id=\"edge18\" class=\"edge\">\n",
       "<title>1&#45;&gt;18</title>\n",
       "<path fill=\"none\" stroke=\"black\" d=\"M189.3,-254.89C206.86,-246.77 236.89,-232.89 257.78,-223.23\"/>\n",
       "<polygon fill=\"black\" stroke=\"black\" points=\"259.32,-226.38 266.93,-219 256.39,-220.02 259.32,-226.38\"/>\n",
       "</g>\n",
       "<!-- 3 -->\n",
       "<g id=\"node4\" class=\"node\">\n",
       "<title>3</title>\n",
       "<text text-anchor=\"middle\" x=\"4\" y=\"-156.8\" font-family=\"Times,serif\" font-size=\"14.00\">&lt;</text>\n",
       "</g>\n",
       "<!-- 2&#45;&gt;3 -->\n",
       "<g id=\"edge3\" class=\"edge\">\n",
       "<title>2&#45;&gt;3</title>\n",
       "<path fill=\"none\" stroke=\"black\" d=\"M53.94,-203.69C44.01,-195.3 27.09,-181.01 15.73,-171.41\"/>\n",
       "<polygon fill=\"black\" stroke=\"black\" points=\"17.95,-168.7 8.05,-164.92 13.43,-174.05 17.95,-168.7\"/>\n",
       "</g>\n",
       "<!-- 4 -->\n",
       "<g id=\"node5\" class=\"node\">\n",
       "<title>4</title>\n",
       "<text text-anchor=\"middle\" x=\"40\" y=\"-156.8\" font-family=\"Times,serif\" font-size=\"14.00\">&lt;id&gt;</text>\n",
       "</g>\n",
       "<!-- 2&#45;&gt;4 -->\n",
       "<g id=\"edge4\" class=\"edge\">\n",
       "<title>2&#45;&gt;4</title>\n",
       "<path fill=\"none\" stroke=\"black\" d=\"M58.94,-203.69C55.92,-196.96 51.19,-186.42 47.21,-177.56\"/>\n",
       "<polygon fill=\"black\" stroke=\"black\" points=\"50.32,-175.94 43.03,-168.26 43.94,-178.81 50.32,-175.94\"/>\n",
       "</g>\n",
       "<!-- 6 -->\n",
       "<g id=\"node7\" class=\"node\">\n",
       "<title>6</title>\n",
       "<text text-anchor=\"middle\" x=\"76\" y=\"-156.8\" font-family=\"Times,serif\" font-size=\"14.00\">&gt;</text>\n",
       "</g>\n",
       "<!-- 2&#45;&gt;6 -->\n",
       "<g id=\"edge6\" class=\"edge\">\n",
       "<title>2&#45;&gt;6</title>\n",
       "<path fill=\"none\" stroke=\"black\" d=\"M63.95,-203.69C65.83,-197.1 68.75,-186.87 71.25,-178.14\"/>\n",
       "<polygon fill=\"black\" stroke=\"black\" points=\"74.69,-178.83 74.07,-168.26 67.96,-176.91 74.69,-178.83\"/>\n",
       "</g>\n",
       "<!-- 5 -->\n",
       "<g id=\"node6\" class=\"node\">\n",
       "<title>5</title>\n",
       "<text text-anchor=\"middle\" x=\"19\" y=\"-105.8\" font-family=\"Times,serif\" font-size=\"14.00\">html</text>\n",
       "</g>\n",
       "<!-- 4&#45;&gt;5 -->\n",
       "<g id=\"edge5\" class=\"edge\">\n",
       "<title>4&#45;&gt;5</title>\n",
       "<path fill=\"none\" stroke=\"black\" d=\"M37.08,-152.69C34.2,-145.96 29.68,-135.42 25.88,-126.56\"/>\n",
       "<polygon fill=\"black\" stroke=\"black\" points=\"29.05,-125.07 21.9,-117.26 22.62,-127.83 29.05,-125.07\"/>\n",
       "</g>\n",
       "<!-- 8 -->\n",
       "<g id=\"node9\" class=\"node\">\n",
       "<title>8</title>\n",
       "<text text-anchor=\"middle\" x=\"130\" y=\"-156.8\" font-family=\"Times,serif\" font-size=\"14.00\">&lt;xml&#45;tree&gt;</text>\n",
       "</g>\n",
       "<!-- 7&#45;&gt;8 -->\n",
       "<g id=\"edge8\" class=\"edge\">\n",
       "<title>7&#45;&gt;8</title>\n",
       "<path fill=\"none\" stroke=\"black\" d=\"M168.74,-203.69C162.16,-196.52 151.61,-185.03 143.18,-175.85\"/>\n",
       "<polygon fill=\"black\" stroke=\"black\" points=\"145.55,-173.25 136.2,-168.26 140.39,-177.99 145.55,-173.25\"/>\n",
       "</g>\n",
       "<!-- 15 -->\n",
       "<g id=\"node16\" class=\"node\">\n",
       "<title>15</title>\n",
       "<text text-anchor=\"middle\" x=\"212\" y=\"-156.8\" font-family=\"Times,serif\" font-size=\"14.00\">&lt;xml&#45;tree&gt;</text>\n",
       "</g>\n",
       "<!-- 7&#45;&gt;15 -->\n",
       "<g id=\"edge15\" class=\"edge\">\n",
       "<title>7&#45;&gt;15</title>\n",
       "<path fill=\"none\" stroke=\"black\" d=\"M180.14,-203.69C185.45,-196.67 193.88,-185.49 200.74,-176.41\"/>\n",
       "<polygon fill=\"black\" stroke=\"black\" points=\"203.67,-178.34 206.9,-168.26 198.08,-174.13 203.67,-178.34\"/>\n",
       "</g>\n",
       "<!-- 9 -->\n",
       "<g id=\"node10\" class=\"node\">\n",
       "<title>9</title>\n",
       "<text text-anchor=\"middle\" x=\"82\" y=\"-105.8\" font-family=\"Times,serif\" font-size=\"14.00\">&lt;xml&#45;tree&gt;</text>\n",
       "</g>\n",
       "<!-- 8&#45;&gt;9 -->\n",
       "<g id=\"edge9\" class=\"edge\">\n",
       "<title>8&#45;&gt;9</title>\n",
       "<path fill=\"none\" stroke=\"black\" d=\"M123.33,-152.69C116.23,-145.45 104.82,-133.79 95.78,-124.57\"/>\n",
       "<polygon fill=\"black\" stroke=\"black\" points=\"98.12,-121.95 88.62,-117.26 93.12,-126.85 98.12,-121.95\"/>\n",
       "</g>\n",
       "<!-- 12 -->\n",
       "<g id=\"node13\" class=\"node\">\n",
       "<title>12</title>\n",
       "<text text-anchor=\"middle\" x=\"164\" y=\"-105.8\" font-family=\"Times,serif\" font-size=\"14.00\">&lt;xml&#45;tree&gt;</text>\n",
       "</g>\n",
       "<!-- 8&#45;&gt;12 -->\n",
       "<g id=\"edge12\" class=\"edge\">\n",
       "<title>8&#45;&gt;12</title>\n",
       "<path fill=\"none\" stroke=\"black\" d=\"M134.73,-152.69C139.55,-145.74 147.19,-134.73 153.46,-125.7\"/>\n",
       "<polygon fill=\"black\" stroke=\"black\" points=\"156.49,-127.47 159.31,-117.26 150.74,-123.48 156.49,-127.47\"/>\n",
       "</g>\n",
       "<!-- 10 -->\n",
       "<g id=\"node11\" class=\"node\">\n",
       "<title>10</title>\n",
       "<text text-anchor=\"middle\" x=\"82\" y=\"-54.8\" font-family=\"Times,serif\" font-size=\"14.00\">&lt;text&gt;</text>\n",
       "</g>\n",
       "<!-- 9&#45;&gt;10 -->\n",
       "<g id=\"edge10\" class=\"edge\">\n",
       "<title>9&#45;&gt;10</title>\n",
       "<path fill=\"none\" stroke=\"black\" d=\"M82,-101.69C82,-95.18 82,-85.1 82,-76.43\"/>\n",
       "<polygon fill=\"black\" stroke=\"black\" points=\"85.5,-76.26 82,-66.26 78.5,-76.26 85.5,-76.26\"/>\n",
       "</g>\n",
       "<!-- 11 -->\n",
       "<g id=\"node12\" class=\"node\">\n",
       "<title>11</title>\n",
       "<text text-anchor=\"middle\" x=\"82\" y=\"-3.8\" font-family=\"Times,serif\" font-size=\"14.00\">Te</text>\n",
       "</g>\n",
       "<!-- 10&#45;&gt;11 -->\n",
       "<g id=\"edge11\" class=\"edge\">\n",
       "<title>10&#45;&gt;11</title>\n",
       "<path fill=\"none\" stroke=\"black\" d=\"M82,-50.69C82,-44.18 82,-34.1 82,-25.43\"/>\n",
       "<polygon fill=\"black\" stroke=\"black\" points=\"85.5,-25.26 82,-15.26 78.5,-25.26 85.5,-25.26\"/>\n",
       "</g>\n",
       "<!-- 13 -->\n",
       "<g id=\"node14\" class=\"node\">\n",
       "<title>13</title>\n",
       "<text text-anchor=\"middle\" x=\"164\" y=\"-54.8\" font-family=\"Times,serif\" font-size=\"14.00\">&lt;text&gt;</text>\n",
       "</g>\n",
       "<!-- 12&#45;&gt;13 -->\n",
       "<g id=\"edge13\" class=\"edge\">\n",
       "<title>12&#45;&gt;13</title>\n",
       "<path fill=\"none\" stroke=\"black\" d=\"M164,-101.69C164,-95.18 164,-85.1 164,-76.43\"/>\n",
       "<polygon fill=\"black\" stroke=\"black\" points=\"167.5,-76.26 164,-66.26 160.5,-76.26 167.5,-76.26\"/>\n",
       "</g>\n",
       "<!-- 14 -->\n",
       "<g id=\"node15\" class=\"node\">\n",
       "<title>14</title>\n",
       "<text text-anchor=\"middle\" x=\"164\" y=\"-3.8\" font-family=\"Times,serif\" font-size=\"14.00\">x</text>\n",
       "</g>\n",
       "<!-- 13&#45;&gt;14 -->\n",
       "<g id=\"edge14\" class=\"edge\">\n",
       "<title>13&#45;&gt;14</title>\n",
       "<path fill=\"none\" stroke=\"black\" d=\"M164,-50.69C164,-44.18 164,-34.1 164,-25.43\"/>\n",
       "<polygon fill=\"black\" stroke=\"black\" points=\"167.5,-25.26 164,-15.26 160.5,-25.26 167.5,-25.26\"/>\n",
       "</g>\n",
       "<!-- 16 -->\n",
       "<g id=\"node17\" class=\"node\">\n",
       "<title>16</title>\n",
       "<text text-anchor=\"middle\" x=\"233\" y=\"-105.8\" font-family=\"Times,serif\" font-size=\"14.00\">&lt;text&gt;</text>\n",
       "</g>\n",
       "<!-- 15&#45;&gt;16 -->\n",
       "<g id=\"edge16\" class=\"edge\">\n",
       "<title>15&#45;&gt;16</title>\n",
       "<path fill=\"none\" stroke=\"black\" d=\"M214.92,-152.69C217.8,-145.96 222.32,-135.42 226.12,-126.56\"/>\n",
       "<polygon fill=\"black\" stroke=\"black\" points=\"229.38,-127.83 230.1,-117.26 222.95,-125.07 229.38,-127.83\"/>\n",
       "</g>\n",
       "<!-- 17 -->\n",
       "<g id=\"node18\" class=\"node\">\n",
       "<title>17</title>\n",
       "<text text-anchor=\"middle\" x=\"233\" y=\"-54.8\" font-family=\"Times,serif\" font-size=\"14.00\">t</text>\n",
       "</g>\n",
       "<!-- 16&#45;&gt;17 -->\n",
       "<g id=\"edge17\" class=\"edge\">\n",
       "<title>16&#45;&gt;17</title>\n",
       "<path fill=\"none\" stroke=\"black\" d=\"M233,-101.69C233,-95.18 233,-85.1 233,-76.43\"/>\n",
       "<polygon fill=\"black\" stroke=\"black\" points=\"236.5,-76.26 233,-66.26 229.5,-76.26 236.5,-76.26\"/>\n",
       "</g>\n",
       "<!-- 19 -->\n",
       "<g id=\"node20\" class=\"node\">\n",
       "<title>19</title>\n",
       "<text text-anchor=\"middle\" x=\"268\" y=\"-156.8\" font-family=\"Times,serif\" font-size=\"14.00\">&lt;/</text>\n",
       "</g>\n",
       "<!-- 18&#45;&gt;19 -->\n",
       "<g id=\"edge19\" class=\"edge\">\n",
       "<title>18&#45;&gt;19</title>\n",
       "<path fill=\"none\" stroke=\"black\" d=\"M279.19,-203.69C277.45,-197.1 274.73,-186.87 272.41,-178.14\"/>\n",
       "<polygon fill=\"black\" stroke=\"black\" points=\"275.74,-177.02 269.79,-168.26 268.97,-178.82 275.74,-177.02\"/>\n",
       "</g>\n",
       "<!-- 20 -->\n",
       "<g id=\"node21\" class=\"node\">\n",
       "<title>20</title>\n",
       "<text text-anchor=\"middle\" x=\"306\" y=\"-156.8\" font-family=\"Times,serif\" font-size=\"14.00\">&lt;id&gt;</text>\n",
       "</g>\n",
       "<!-- 18&#45;&gt;20 -->\n",
       "<g id=\"edge20\" class=\"edge\">\n",
       "<title>18&#45;&gt;20</title>\n",
       "<path fill=\"none\" stroke=\"black\" d=\"M284.48,-203.69C287.95,-196.88 293.4,-186.19 297.95,-177.27\"/>\n",
       "<polygon fill=\"black\" stroke=\"black\" points=\"301.13,-178.75 302.55,-168.26 294.89,-175.57 301.13,-178.75\"/>\n",
       "</g>\n",
       "<!-- 22 -->\n",
       "<g id=\"node23\" class=\"node\">\n",
       "<title>22</title>\n",
       "<text text-anchor=\"middle\" x=\"342\" y=\"-156.8\" font-family=\"Times,serif\" font-size=\"14.00\">&gt;</text>\n",
       "</g>\n",
       "<!-- 18&#45;&gt;22 -->\n",
       "<g id=\"edge22\" class=\"edge\">\n",
       "<title>18&#45;&gt;22</title>\n",
       "<path fill=\"none\" stroke=\"black\" d=\"M289.23,-203.89C299.7,-195.48 317.86,-180.89 329.91,-171.21\"/>\n",
       "<polygon fill=\"black\" stroke=\"black\" points=\"332.39,-173.71 337.99,-164.72 328.01,-168.25 332.39,-173.71\"/>\n",
       "</g>\n",
       "<!-- 21 -->\n",
       "<g id=\"node22\" class=\"node\">\n",
       "<title>21</title>\n",
       "<text text-anchor=\"middle\" x=\"306\" y=\"-105.8\" font-family=\"Times,serif\" font-size=\"14.00\">html</text>\n",
       "</g>\n",
       "<!-- 20&#45;&gt;21 -->\n",
       "<g id=\"edge21\" class=\"edge\">\n",
       "<title>20&#45;&gt;21</title>\n",
       "<path fill=\"none\" stroke=\"black\" d=\"M306,-152.69C306,-146.18 306,-136.1 306,-127.43\"/>\n",
       "<polygon fill=\"black\" stroke=\"black\" points=\"309.5,-127.26 306,-117.26 302.5,-127.26 309.5,-127.26\"/>\n",
       "</g>\n",
       "</g>\n",
       "</svg>\n"
      ],
      "text/plain": [
       "<graphviz.dot.Digraph at 0x1210ab1c0>"
      ]
     },
     "metadata": {},
     "output_type": "display_data"
    },
    {
     "data": {
      "image/svg+xml": [
       "<?xml version=\"1.0\" encoding=\"UTF-8\" standalone=\"no\"?>\n",
       "<!DOCTYPE svg PUBLIC \"-//W3C//DTD SVG 1.1//EN\"\n",
       " \"http://www.w3.org/Graphics/SVG/1.1/DTD/svg11.dtd\">\n",
       "<!-- Generated by graphviz version 2.49.3 (20211023.0002)\n",
       " -->\n",
       "<!-- Pages: 1 -->\n",
       "<svg width=\"379pt\" height=\"380pt\"\n",
       " viewBox=\"0.00 0.00 379.00 380.00\" xmlns=\"http://www.w3.org/2000/svg\" xmlns:xlink=\"http://www.w3.org/1999/xlink\">\n",
       "<g id=\"graph0\" class=\"graph\" transform=\"scale(1 1) rotate(0) translate(4 376)\">\n",
       "<polygon fill=\"white\" stroke=\"transparent\" points=\"-4,4 -4,-376 375,-376 375,4 -4,4\"/>\n",
       "<!-- 0 -->\n",
       "<g id=\"node1\" class=\"node\">\n",
       "<title>0</title>\n",
       "<text text-anchor=\"middle\" x=\"200\" y=\"-360.8\" font-family=\"Times,serif\" font-size=\"14.00\">&lt;start&gt;</text>\n",
       "</g>\n",
       "<!-- 1 -->\n",
       "<g id=\"node2\" class=\"node\">\n",
       "<title>1</title>\n",
       "<text text-anchor=\"middle\" x=\"200\" y=\"-309.8\" font-family=\"Times,serif\" font-size=\"14.00\">&lt;xml&#45;tree&gt;</text>\n",
       "</g>\n",
       "<!-- 0&#45;&gt;1 -->\n",
       "<g id=\"edge1\" class=\"edge\">\n",
       "<title>0&#45;&gt;1</title>\n",
       "<path fill=\"none\" stroke=\"black\" d=\"M200,-356.69C200,-350.18 200,-340.1 200,-331.43\"/>\n",
       "<polygon fill=\"black\" stroke=\"black\" points=\"203.5,-331.26 200,-321.26 196.5,-331.26 203.5,-331.26\"/>\n",
       "</g>\n",
       "<!-- 2 -->\n",
       "<g id=\"node3\" class=\"node\">\n",
       "<title>2</title>\n",
       "<text text-anchor=\"middle\" x=\"87\" y=\"-258.8\" font-family=\"Times,serif\" font-size=\"14.00\">&lt;xml&#45;open&#45;tag&gt;</text>\n",
       "</g>\n",
       "<!-- 1&#45;&gt;2 -->\n",
       "<g id=\"edge2\" class=\"edge\">\n",
       "<title>1&#45;&gt;2</title>\n",
       "<path fill=\"none\" stroke=\"black\" d=\"M184.76,-305.89C165.95,-297.74 133.74,-283.77 111.45,-274.1\"/>\n",
       "<polygon fill=\"black\" stroke=\"black\" points=\"112.57,-270.77 102,-270 109.78,-277.19 112.57,-270.77\"/>\n",
       "</g>\n",
       "<!-- 7 -->\n",
       "<g id=\"node8\" class=\"node\">\n",
       "<title>7</title>\n",
       "<text text-anchor=\"middle\" x=\"200\" y=\"-258.8\" font-family=\"Times,serif\" font-size=\"14.00\">&lt;xml&#45;tree&gt;</text>\n",
       "</g>\n",
       "<!-- 1&#45;&gt;7 -->\n",
       "<g id=\"edge7\" class=\"edge\">\n",
       "<title>1&#45;&gt;7</title>\n",
       "<path fill=\"none\" stroke=\"black\" d=\"M200,-305.69C200,-299.18 200,-289.1 200,-280.43\"/>\n",
       "<polygon fill=\"black\" stroke=\"black\" points=\"203.5,-280.26 200,-270.26 196.5,-280.26 203.5,-280.26\"/>\n",
       "</g>\n",
       "<!-- 22 -->\n",
       "<g id=\"node23\" class=\"node\">\n",
       "<title>22</title>\n",
       "<text text-anchor=\"middle\" x=\"306\" y=\"-258.8\" font-family=\"Times,serif\" font-size=\"14.00\">&lt;xml&#45;close&#45;tag&gt;</text>\n",
       "</g>\n",
       "<!-- 1&#45;&gt;22 -->\n",
       "<g id=\"edge22\" class=\"edge\">\n",
       "<title>1&#45;&gt;22</title>\n",
       "<path fill=\"none\" stroke=\"black\" d=\"M214.3,-305.89C231.86,-297.77 261.89,-283.89 282.78,-274.23\"/>\n",
       "<polygon fill=\"black\" stroke=\"black\" points=\"284.32,-277.38 291.93,-270 281.39,-271.02 284.32,-277.38\"/>\n",
       "</g>\n",
       "<!-- 3 -->\n",
       "<g id=\"node4\" class=\"node\">\n",
       "<title>3</title>\n",
       "<text text-anchor=\"middle\" x=\"29\" y=\"-207.8\" font-family=\"Times,serif\" font-size=\"14.00\">&lt;</text>\n",
       "</g>\n",
       "<!-- 2&#45;&gt;3 -->\n",
       "<g id=\"edge3\" class=\"edge\">\n",
       "<title>2&#45;&gt;3</title>\n",
       "<path fill=\"none\" stroke=\"black\" d=\"M78.94,-254.69C69.01,-246.3 52.09,-232.01 40.73,-222.41\"/>\n",
       "<polygon fill=\"black\" stroke=\"black\" points=\"42.95,-219.7 33.05,-215.92 38.43,-225.05 42.95,-219.7\"/>\n",
       "</g>\n",
       "<!-- 4 -->\n",
       "<g id=\"node5\" class=\"node\">\n",
       "<title>4</title>\n",
       "<text text-anchor=\"middle\" x=\"65\" y=\"-207.8\" font-family=\"Times,serif\" font-size=\"14.00\">&lt;id&gt;</text>\n",
       "</g>\n",
       "<!-- 2&#45;&gt;4 -->\n",
       "<g id=\"edge4\" class=\"edge\">\n",
       "<title>2&#45;&gt;4</title>\n",
       "<path fill=\"none\" stroke=\"black\" d=\"M83.94,-254.69C80.92,-247.96 76.19,-237.42 72.21,-228.56\"/>\n",
       "<polygon fill=\"black\" stroke=\"black\" points=\"75.32,-226.94 68.03,-219.26 68.94,-229.81 75.32,-226.94\"/>\n",
       "</g>\n",
       "<!-- 6 -->\n",
       "<g id=\"node7\" class=\"node\">\n",
       "<title>6</title>\n",
       "<text text-anchor=\"middle\" x=\"101\" y=\"-207.8\" font-family=\"Times,serif\" font-size=\"14.00\">&gt;</text>\n",
       "</g>\n",
       "<!-- 2&#45;&gt;6 -->\n",
       "<g id=\"edge6\" class=\"edge\">\n",
       "<title>2&#45;&gt;6</title>\n",
       "<path fill=\"none\" stroke=\"black\" d=\"M88.95,-254.69C90.83,-248.1 93.75,-237.87 96.25,-229.14\"/>\n",
       "<polygon fill=\"black\" stroke=\"black\" points=\"99.69,-229.83 99.07,-219.26 92.96,-227.91 99.69,-229.83\"/>\n",
       "</g>\n",
       "<!-- 5 -->\n",
       "<g id=\"node6\" class=\"node\">\n",
       "<title>5</title>\n",
       "<text text-anchor=\"middle\" x=\"44\" y=\"-156.8\" font-family=\"Times,serif\" font-size=\"14.00\">html</text>\n",
       "</g>\n",
       "<!-- 4&#45;&gt;5 -->\n",
       "<g id=\"edge5\" class=\"edge\">\n",
       "<title>4&#45;&gt;5</title>\n",
       "<path fill=\"none\" stroke=\"black\" d=\"M62.08,-203.69C59.2,-196.96 54.68,-186.42 50.88,-177.56\"/>\n",
       "<polygon fill=\"black\" stroke=\"black\" points=\"54.05,-176.07 46.9,-168.26 47.62,-178.83 54.05,-176.07\"/>\n",
       "</g>\n",
       "<!-- 8 -->\n",
       "<g id=\"node9\" class=\"node\">\n",
       "<title>8</title>\n",
       "<text text-anchor=\"middle\" x=\"155\" y=\"-207.8\" font-family=\"Times,serif\" font-size=\"14.00\">&lt;xml&#45;tree&gt;</text>\n",
       "</g>\n",
       "<!-- 7&#45;&gt;8 -->\n",
       "<g id=\"edge8\" class=\"edge\">\n",
       "<title>7&#45;&gt;8</title>\n",
       "<path fill=\"none\" stroke=\"black\" d=\"M193.74,-254.69C187.16,-247.52 176.61,-236.03 168.18,-226.85\"/>\n",
       "<polygon fill=\"black\" stroke=\"black\" points=\"170.55,-224.25 161.2,-219.26 165.39,-228.99 170.55,-224.25\"/>\n",
       "</g>\n",
       "<!-- 19 -->\n",
       "<g id=\"node20\" class=\"node\">\n",
       "<title>19</title>\n",
       "<text text-anchor=\"middle\" x=\"237\" y=\"-207.8\" font-family=\"Times,serif\" font-size=\"14.00\">&lt;xml&#45;tree&gt;</text>\n",
       "</g>\n",
       "<!-- 7&#45;&gt;19 -->\n",
       "<g id=\"edge19\" class=\"edge\">\n",
       "<title>7&#45;&gt;19</title>\n",
       "<path fill=\"none\" stroke=\"black\" d=\"M205.14,-254.69C210.45,-247.67 218.88,-236.49 225.74,-227.41\"/>\n",
       "<polygon fill=\"black\" stroke=\"black\" points=\"228.67,-229.34 231.9,-219.26 223.08,-225.13 228.67,-229.34\"/>\n",
       "</g>\n",
       "<!-- 9 -->\n",
       "<g id=\"node10\" class=\"node\">\n",
       "<title>9</title>\n",
       "<text text-anchor=\"middle\" x=\"107\" y=\"-156.8\" font-family=\"Times,serif\" font-size=\"14.00\">&lt;xml&#45;tree&gt;</text>\n",
       "</g>\n",
       "<!-- 8&#45;&gt;9 -->\n",
       "<g id=\"edge9\" class=\"edge\">\n",
       "<title>8&#45;&gt;9</title>\n",
       "<path fill=\"none\" stroke=\"black\" d=\"M148.33,-203.69C141.23,-196.45 129.82,-184.79 120.78,-175.57\"/>\n",
       "<polygon fill=\"black\" stroke=\"black\" points=\"123.12,-172.95 113.62,-168.26 118.12,-177.85 123.12,-172.95\"/>\n",
       "</g>\n",
       "<!-- 16 -->\n",
       "<g id=\"node17\" class=\"node\">\n",
       "<title>16</title>\n",
       "<text text-anchor=\"middle\" x=\"189\" y=\"-156.8\" font-family=\"Times,serif\" font-size=\"14.00\">&lt;xml&#45;tree&gt;</text>\n",
       "</g>\n",
       "<!-- 8&#45;&gt;16 -->\n",
       "<g id=\"edge16\" class=\"edge\">\n",
       "<title>8&#45;&gt;16</title>\n",
       "<path fill=\"none\" stroke=\"black\" d=\"M159.73,-203.69C164.55,-196.74 172.19,-185.73 178.46,-176.7\"/>\n",
       "<polygon fill=\"black\" stroke=\"black\" points=\"181.49,-178.47 184.31,-168.26 175.74,-174.48 181.49,-178.47\"/>\n",
       "</g>\n",
       "<!-- 10 -->\n",
       "<g id=\"node11\" class=\"node\">\n",
       "<title>10</title>\n",
       "<text text-anchor=\"middle\" x=\"32\" y=\"-105.8\" font-family=\"Times,serif\" font-size=\"14.00\">&lt;xml&#45;tree&gt;</text>\n",
       "</g>\n",
       "<!-- 9&#45;&gt;10 -->\n",
       "<g id=\"edge10\" class=\"edge\">\n",
       "<title>9&#45;&gt;10</title>\n",
       "<path fill=\"none\" stroke=\"black\" d=\"M96.89,-152.89C85.08,-145.18 65.3,-132.26 50.68,-122.71\"/>\n",
       "<polygon fill=\"black\" stroke=\"black\" points=\"52.24,-119.54 41.95,-117 48.41,-125.4 52.24,-119.54\"/>\n",
       "</g>\n",
       "<!-- 13 -->\n",
       "<g id=\"node14\" class=\"node\">\n",
       "<title>13</title>\n",
       "<text text-anchor=\"middle\" x=\"114\" y=\"-105.8\" font-family=\"Times,serif\" font-size=\"14.00\">&lt;xml&#45;tree&gt;</text>\n",
       "</g>\n",
       "<!-- 9&#45;&gt;13 -->\n",
       "<g id=\"edge13\" class=\"edge\">\n",
       "<title>9&#45;&gt;13</title>\n",
       "<path fill=\"none\" stroke=\"black\" d=\"M107.97,-152.69C108.9,-146.18 110.34,-136.1 111.58,-127.43\"/>\n",
       "<polygon fill=\"black\" stroke=\"black\" points=\"115.09,-127.65 113.03,-117.26 108.16,-126.66 115.09,-127.65\"/>\n",
       "</g>\n",
       "<!-- 11 -->\n",
       "<g id=\"node12\" class=\"node\">\n",
       "<title>11</title>\n",
       "<text text-anchor=\"middle\" x=\"32\" y=\"-54.8\" font-family=\"Times,serif\" font-size=\"14.00\">&lt;text&gt;</text>\n",
       "</g>\n",
       "<!-- 10&#45;&gt;11 -->\n",
       "<g id=\"edge11\" class=\"edge\">\n",
       "<title>10&#45;&gt;11</title>\n",
       "<path fill=\"none\" stroke=\"black\" d=\"M32,-101.69C32,-95.18 32,-85.1 32,-76.43\"/>\n",
       "<polygon fill=\"black\" stroke=\"black\" points=\"35.5,-76.26 32,-66.26 28.5,-76.26 35.5,-76.26\"/>\n",
       "</g>\n",
       "<!-- 12 -->\n",
       "<g id=\"node13\" class=\"node\">\n",
       "<title>12</title>\n",
       "<text text-anchor=\"middle\" x=\"32\" y=\"-3.8\" font-family=\"Times,serif\" font-size=\"14.00\">T</text>\n",
       "</g>\n",
       "<!-- 11&#45;&gt;12 -->\n",
       "<g id=\"edge12\" class=\"edge\">\n",
       "<title>11&#45;&gt;12</title>\n",
       "<path fill=\"none\" stroke=\"black\" d=\"M32,-50.69C32,-44.18 32,-34.1 32,-25.43\"/>\n",
       "<polygon fill=\"black\" stroke=\"black\" points=\"35.5,-25.26 32,-15.26 28.5,-25.26 35.5,-25.26\"/>\n",
       "</g>\n",
       "<!-- 14 -->\n",
       "<g id=\"node15\" class=\"node\">\n",
       "<title>14</title>\n",
       "<text text-anchor=\"middle\" x=\"114\" y=\"-54.8\" font-family=\"Times,serif\" font-size=\"14.00\">&lt;text&gt;</text>\n",
       "</g>\n",
       "<!-- 13&#45;&gt;14 -->\n",
       "<g id=\"edge14\" class=\"edge\">\n",
       "<title>13&#45;&gt;14</title>\n",
       "<path fill=\"none\" stroke=\"black\" d=\"M114,-101.69C114,-95.18 114,-85.1 114,-76.43\"/>\n",
       "<polygon fill=\"black\" stroke=\"black\" points=\"117.5,-76.26 114,-66.26 110.5,-76.26 117.5,-76.26\"/>\n",
       "</g>\n",
       "<!-- 15 -->\n",
       "<g id=\"node16\" class=\"node\">\n",
       "<title>15</title>\n",
       "<text text-anchor=\"middle\" x=\"114\" y=\"-3.8\" font-family=\"Times,serif\" font-size=\"14.00\">e</text>\n",
       "</g>\n",
       "<!-- 14&#45;&gt;15 -->\n",
       "<g id=\"edge15\" class=\"edge\">\n",
       "<title>14&#45;&gt;15</title>\n",
       "<path fill=\"none\" stroke=\"black\" d=\"M114,-50.69C114,-44.18 114,-34.1 114,-25.43\"/>\n",
       "<polygon fill=\"black\" stroke=\"black\" points=\"117.5,-25.26 114,-15.26 110.5,-25.26 117.5,-25.26\"/>\n",
       "</g>\n",
       "<!-- 17 -->\n",
       "<g id=\"node18\" class=\"node\">\n",
       "<title>17</title>\n",
       "<text text-anchor=\"middle\" x=\"189\" y=\"-105.8\" font-family=\"Times,serif\" font-size=\"14.00\">&lt;text&gt;</text>\n",
       "</g>\n",
       "<!-- 16&#45;&gt;17 -->\n",
       "<g id=\"edge17\" class=\"edge\">\n",
       "<title>16&#45;&gt;17</title>\n",
       "<path fill=\"none\" stroke=\"black\" d=\"M189,-152.69C189,-146.18 189,-136.1 189,-127.43\"/>\n",
       "<polygon fill=\"black\" stroke=\"black\" points=\"192.5,-127.26 189,-117.26 185.5,-127.26 192.5,-127.26\"/>\n",
       "</g>\n",
       "<!-- 18 -->\n",
       "<g id=\"node19\" class=\"node\">\n",
       "<title>18</title>\n",
       "<text text-anchor=\"middle\" x=\"189\" y=\"-54.8\" font-family=\"Times,serif\" font-size=\"14.00\">x</text>\n",
       "</g>\n",
       "<!-- 17&#45;&gt;18 -->\n",
       "<g id=\"edge18\" class=\"edge\">\n",
       "<title>17&#45;&gt;18</title>\n",
       "<path fill=\"none\" stroke=\"black\" d=\"M189,-101.69C189,-95.18 189,-85.1 189,-76.43\"/>\n",
       "<polygon fill=\"black\" stroke=\"black\" points=\"192.5,-76.26 189,-66.26 185.5,-76.26 192.5,-76.26\"/>\n",
       "</g>\n",
       "<!-- 20 -->\n",
       "<g id=\"node21\" class=\"node\">\n",
       "<title>20</title>\n",
       "<text text-anchor=\"middle\" x=\"258\" y=\"-156.8\" font-family=\"Times,serif\" font-size=\"14.00\">&lt;text&gt;</text>\n",
       "</g>\n",
       "<!-- 19&#45;&gt;20 -->\n",
       "<g id=\"edge20\" class=\"edge\">\n",
       "<title>19&#45;&gt;20</title>\n",
       "<path fill=\"none\" stroke=\"black\" d=\"M239.92,-203.69C242.8,-196.96 247.32,-186.42 251.12,-177.56\"/>\n",
       "<polygon fill=\"black\" stroke=\"black\" points=\"254.38,-178.83 255.1,-168.26 247.95,-176.07 254.38,-178.83\"/>\n",
       "</g>\n",
       "<!-- 21 -->\n",
       "<g id=\"node22\" class=\"node\">\n",
       "<title>21</title>\n",
       "<text text-anchor=\"middle\" x=\"258\" y=\"-105.8\" font-family=\"Times,serif\" font-size=\"14.00\">t</text>\n",
       "</g>\n",
       "<!-- 20&#45;&gt;21 -->\n",
       "<g id=\"edge21\" class=\"edge\">\n",
       "<title>20&#45;&gt;21</title>\n",
       "<path fill=\"none\" stroke=\"black\" d=\"M258,-152.69C258,-146.18 258,-136.1 258,-127.43\"/>\n",
       "<polygon fill=\"black\" stroke=\"black\" points=\"261.5,-127.26 258,-117.26 254.5,-127.26 261.5,-127.26\"/>\n",
       "</g>\n",
       "<!-- 23 -->\n",
       "<g id=\"node24\" class=\"node\">\n",
       "<title>23</title>\n",
       "<text text-anchor=\"middle\" x=\"293\" y=\"-207.8\" font-family=\"Times,serif\" font-size=\"14.00\">&lt;/</text>\n",
       "</g>\n",
       "<!-- 22&#45;&gt;23 -->\n",
       "<g id=\"edge23\" class=\"edge\">\n",
       "<title>22&#45;&gt;23</title>\n",
       "<path fill=\"none\" stroke=\"black\" d=\"M304.19,-254.69C302.45,-248.1 299.73,-237.87 297.41,-229.14\"/>\n",
       "<polygon fill=\"black\" stroke=\"black\" points=\"300.74,-228.02 294.79,-219.26 293.97,-229.82 300.74,-228.02\"/>\n",
       "</g>\n",
       "<!-- 24 -->\n",
       "<g id=\"node25\" class=\"node\">\n",
       "<title>24</title>\n",
       "<text text-anchor=\"middle\" x=\"331\" y=\"-207.8\" font-family=\"Times,serif\" font-size=\"14.00\">&lt;id&gt;</text>\n",
       "</g>\n",
       "<!-- 22&#45;&gt;24 -->\n",
       "<g id=\"edge24\" class=\"edge\">\n",
       "<title>22&#45;&gt;24</title>\n",
       "<path fill=\"none\" stroke=\"black\" d=\"M309.48,-254.69C312.95,-247.88 318.4,-237.19 322.95,-228.27\"/>\n",
       "<polygon fill=\"black\" stroke=\"black\" points=\"326.13,-229.75 327.55,-219.26 319.89,-226.57 326.13,-229.75\"/>\n",
       "</g>\n",
       "<!-- 26 -->\n",
       "<g id=\"node27\" class=\"node\">\n",
       "<title>26</title>\n",
       "<text text-anchor=\"middle\" x=\"367\" y=\"-207.8\" font-family=\"Times,serif\" font-size=\"14.00\">&gt;</text>\n",
       "</g>\n",
       "<!-- 22&#45;&gt;26 -->\n",
       "<g id=\"edge26\" class=\"edge\">\n",
       "<title>22&#45;&gt;26</title>\n",
       "<path fill=\"none\" stroke=\"black\" d=\"M314.23,-254.89C324.7,-246.48 342.86,-231.89 354.91,-222.21\"/>\n",
       "<polygon fill=\"black\" stroke=\"black\" points=\"357.39,-224.71 362.99,-215.72 353.01,-219.25 357.39,-224.71\"/>\n",
       "</g>\n",
       "<!-- 25 -->\n",
       "<g id=\"node26\" class=\"node\">\n",
       "<title>25</title>\n",
       "<text text-anchor=\"middle\" x=\"331\" y=\"-156.8\" font-family=\"Times,serif\" font-size=\"14.00\">html</text>\n",
       "</g>\n",
       "<!-- 24&#45;&gt;25 -->\n",
       "<g id=\"edge25\" class=\"edge\">\n",
       "<title>24&#45;&gt;25</title>\n",
       "<path fill=\"none\" stroke=\"black\" d=\"M331,-203.69C331,-197.18 331,-187.1 331,-178.43\"/>\n",
       "<polygon fill=\"black\" stroke=\"black\" points=\"334.5,-178.26 331,-168.26 327.5,-178.26 334.5,-178.26\"/>\n",
       "</g>\n",
       "</g>\n",
       "</svg>\n"
      ],
      "text/plain": [
       "<graphviz.dot.Digraph at 0x1210abd90>"
      ]
     },
     "metadata": {},
     "output_type": "display_data"
    },
    {
     "data": {
      "image/svg+xml": [
       "<?xml version=\"1.0\" encoding=\"UTF-8\" standalone=\"no\"?>\n",
       "<!DOCTYPE svg PUBLIC \"-//W3C//DTD SVG 1.1//EN\"\n",
       " \"http://www.w3.org/Graphics/SVG/1.1/DTD/svg11.dtd\">\n",
       "<!-- Generated by graphviz version 2.49.3 (20211023.0002)\n",
       " -->\n",
       "<!-- Pages: 1 -->\n",
       "<svg width=\"354pt\" height=\"380pt\"\n",
       " viewBox=\"0.00 0.00 354.00 380.00\" xmlns=\"http://www.w3.org/2000/svg\" xmlns:xlink=\"http://www.w3.org/1999/xlink\">\n",
       "<g id=\"graph0\" class=\"graph\" transform=\"scale(1 1) rotate(0) translate(4 376)\">\n",
       "<polygon fill=\"white\" stroke=\"transparent\" points=\"-4,4 -4,-376 350,-376 350,4 -4,4\"/>\n",
       "<!-- 0 -->\n",
       "<g id=\"node1\" class=\"node\">\n",
       "<title>0</title>\n",
       "<text text-anchor=\"middle\" x=\"175\" y=\"-360.8\" font-family=\"Times,serif\" font-size=\"14.00\">&lt;start&gt;</text>\n",
       "</g>\n",
       "<!-- 1 -->\n",
       "<g id=\"node2\" class=\"node\">\n",
       "<title>1</title>\n",
       "<text text-anchor=\"middle\" x=\"175\" y=\"-309.8\" font-family=\"Times,serif\" font-size=\"14.00\">&lt;xml&#45;tree&gt;</text>\n",
       "</g>\n",
       "<!-- 0&#45;&gt;1 -->\n",
       "<g id=\"edge1\" class=\"edge\">\n",
       "<title>0&#45;&gt;1</title>\n",
       "<path fill=\"none\" stroke=\"black\" d=\"M175,-356.69C175,-350.18 175,-340.1 175,-331.43\"/>\n",
       "<polygon fill=\"black\" stroke=\"black\" points=\"178.5,-331.26 175,-321.26 171.5,-331.26 178.5,-331.26\"/>\n",
       "</g>\n",
       "<!-- 2 -->\n",
       "<g id=\"node3\" class=\"node\">\n",
       "<title>2</title>\n",
       "<text text-anchor=\"middle\" x=\"62\" y=\"-258.8\" font-family=\"Times,serif\" font-size=\"14.00\">&lt;xml&#45;open&#45;tag&gt;</text>\n",
       "</g>\n",
       "<!-- 1&#45;&gt;2 -->\n",
       "<g id=\"edge2\" class=\"edge\">\n",
       "<title>1&#45;&gt;2</title>\n",
       "<path fill=\"none\" stroke=\"black\" d=\"M159.76,-305.89C140.95,-297.74 108.74,-283.77 86.45,-274.1\"/>\n",
       "<polygon fill=\"black\" stroke=\"black\" points=\"87.57,-270.77 77,-270 84.78,-277.19 87.57,-270.77\"/>\n",
       "</g>\n",
       "<!-- 7 -->\n",
       "<g id=\"node8\" class=\"node\">\n",
       "<title>7</title>\n",
       "<text text-anchor=\"middle\" x=\"175\" y=\"-258.8\" font-family=\"Times,serif\" font-size=\"14.00\">&lt;xml&#45;tree&gt;</text>\n",
       "</g>\n",
       "<!-- 1&#45;&gt;7 -->\n",
       "<g id=\"edge7\" class=\"edge\">\n",
       "<title>1&#45;&gt;7</title>\n",
       "<path fill=\"none\" stroke=\"black\" d=\"M175,-305.69C175,-299.18 175,-289.1 175,-280.43\"/>\n",
       "<polygon fill=\"black\" stroke=\"black\" points=\"178.5,-280.26 175,-270.26 171.5,-280.26 178.5,-280.26\"/>\n",
       "</g>\n",
       "<!-- 22 -->\n",
       "<g id=\"node23\" class=\"node\">\n",
       "<title>22</title>\n",
       "<text text-anchor=\"middle\" x=\"281\" y=\"-258.8\" font-family=\"Times,serif\" font-size=\"14.00\">&lt;xml&#45;close&#45;tag&gt;</text>\n",
       "</g>\n",
       "<!-- 1&#45;&gt;22 -->\n",
       "<g id=\"edge22\" class=\"edge\">\n",
       "<title>1&#45;&gt;22</title>\n",
       "<path fill=\"none\" stroke=\"black\" d=\"M189.3,-305.89C206.86,-297.77 236.89,-283.89 257.78,-274.23\"/>\n",
       "<polygon fill=\"black\" stroke=\"black\" points=\"259.32,-277.38 266.93,-270 256.39,-271.02 259.32,-277.38\"/>\n",
       "</g>\n",
       "<!-- 3 -->\n",
       "<g id=\"node4\" class=\"node\">\n",
       "<title>3</title>\n",
       "<text text-anchor=\"middle\" x=\"4\" y=\"-207.8\" font-family=\"Times,serif\" font-size=\"14.00\">&lt;</text>\n",
       "</g>\n",
       "<!-- 2&#45;&gt;3 -->\n",
       "<g id=\"edge3\" class=\"edge\">\n",
       "<title>2&#45;&gt;3</title>\n",
       "<path fill=\"none\" stroke=\"black\" d=\"M53.94,-254.69C44.01,-246.3 27.09,-232.01 15.73,-222.41\"/>\n",
       "<polygon fill=\"black\" stroke=\"black\" points=\"17.95,-219.7 8.05,-215.92 13.43,-225.05 17.95,-219.7\"/>\n",
       "</g>\n",
       "<!-- 4 -->\n",
       "<g id=\"node5\" class=\"node\">\n",
       "<title>4</title>\n",
       "<text text-anchor=\"middle\" x=\"40\" y=\"-207.8\" font-family=\"Times,serif\" font-size=\"14.00\">&lt;id&gt;</text>\n",
       "</g>\n",
       "<!-- 2&#45;&gt;4 -->\n",
       "<g id=\"edge4\" class=\"edge\">\n",
       "<title>2&#45;&gt;4</title>\n",
       "<path fill=\"none\" stroke=\"black\" d=\"M58.94,-254.69C55.92,-247.96 51.19,-237.42 47.21,-228.56\"/>\n",
       "<polygon fill=\"black\" stroke=\"black\" points=\"50.32,-226.94 43.03,-219.26 43.94,-229.81 50.32,-226.94\"/>\n",
       "</g>\n",
       "<!-- 6 -->\n",
       "<g id=\"node7\" class=\"node\">\n",
       "<title>6</title>\n",
       "<text text-anchor=\"middle\" x=\"76\" y=\"-207.8\" font-family=\"Times,serif\" font-size=\"14.00\">&gt;</text>\n",
       "</g>\n",
       "<!-- 2&#45;&gt;6 -->\n",
       "<g id=\"edge6\" class=\"edge\">\n",
       "<title>2&#45;&gt;6</title>\n",
       "<path fill=\"none\" stroke=\"black\" d=\"M63.95,-254.69C65.83,-248.1 68.75,-237.87 71.25,-229.14\"/>\n",
       "<polygon fill=\"black\" stroke=\"black\" points=\"74.69,-229.83 74.07,-219.26 67.96,-227.91 74.69,-229.83\"/>\n",
       "</g>\n",
       "<!-- 5 -->\n",
       "<g id=\"node6\" class=\"node\">\n",
       "<title>5</title>\n",
       "<text text-anchor=\"middle\" x=\"15\" y=\"-156.8\" font-family=\"Times,serif\" font-size=\"14.00\">html</text>\n",
       "</g>\n",
       "<!-- 4&#45;&gt;5 -->\n",
       "<g id=\"edge5\" class=\"edge\">\n",
       "<title>4&#45;&gt;5</title>\n",
       "<path fill=\"none\" stroke=\"black\" d=\"M36.52,-203.69C33.05,-196.88 27.6,-186.19 23.05,-177.27\"/>\n",
       "<polygon fill=\"black\" stroke=\"black\" points=\"26.11,-175.57 18.45,-168.26 19.87,-178.75 26.11,-175.57\"/>\n",
       "</g>\n",
       "<!-- 8 -->\n",
       "<g id=\"node9\" class=\"node\">\n",
       "<title>8</title>\n",
       "<text text-anchor=\"middle\" x=\"130\" y=\"-207.8\" font-family=\"Times,serif\" font-size=\"14.00\">&lt;xml&#45;tree&gt;</text>\n",
       "</g>\n",
       "<!-- 7&#45;&gt;8 -->\n",
       "<g id=\"edge8\" class=\"edge\">\n",
       "<title>7&#45;&gt;8</title>\n",
       "<path fill=\"none\" stroke=\"black\" d=\"M168.74,-254.69C162.16,-247.52 151.61,-236.03 143.18,-226.85\"/>\n",
       "<polygon fill=\"black\" stroke=\"black\" points=\"145.55,-224.25 136.2,-219.26 140.39,-228.99 145.55,-224.25\"/>\n",
       "</g>\n",
       "<!-- 19 -->\n",
       "<g id=\"node20\" class=\"node\">\n",
       "<title>19</title>\n",
       "<text text-anchor=\"middle\" x=\"212\" y=\"-207.8\" font-family=\"Times,serif\" font-size=\"14.00\">&lt;xml&#45;tree&gt;</text>\n",
       "</g>\n",
       "<!-- 7&#45;&gt;19 -->\n",
       "<g id=\"edge19\" class=\"edge\">\n",
       "<title>7&#45;&gt;19</title>\n",
       "<path fill=\"none\" stroke=\"black\" d=\"M180.14,-254.69C185.45,-247.67 193.88,-236.49 200.74,-227.41\"/>\n",
       "<polygon fill=\"black\" stroke=\"black\" points=\"203.67,-229.34 206.9,-219.26 198.08,-225.13 203.67,-229.34\"/>\n",
       "</g>\n",
       "<!-- 9 -->\n",
       "<g id=\"node10\" class=\"node\">\n",
       "<title>9</title>\n",
       "<text text-anchor=\"middle\" x=\"78\" y=\"-156.8\" font-family=\"Times,serif\" font-size=\"14.00\">&lt;xml&#45;tree&gt;</text>\n",
       "</g>\n",
       "<!-- 8&#45;&gt;9 -->\n",
       "<g id=\"edge9\" class=\"edge\">\n",
       "<title>8&#45;&gt;9</title>\n",
       "<path fill=\"none\" stroke=\"black\" d=\"M122.77,-203.69C115.01,-196.37 102.47,-184.56 92.63,-175.29\"/>\n",
       "<polygon fill=\"black\" stroke=\"black\" points=\"94.85,-172.57 85.17,-168.26 90.05,-177.66 94.85,-172.57\"/>\n",
       "</g>\n",
       "<!-- 12 -->\n",
       "<g id=\"node13\" class=\"node\">\n",
       "<title>12</title>\n",
       "<text text-anchor=\"middle\" x=\"160\" y=\"-156.8\" font-family=\"Times,serif\" font-size=\"14.00\">&lt;xml&#45;tree&gt;</text>\n",
       "</g>\n",
       "<!-- 8&#45;&gt;12 -->\n",
       "<g id=\"edge12\" class=\"edge\">\n",
       "<title>8&#45;&gt;12</title>\n",
       "<path fill=\"none\" stroke=\"black\" d=\"M134.17,-203.69C138.38,-196.81 145.03,-185.96 150.52,-176.98\"/>\n",
       "<polygon fill=\"black\" stroke=\"black\" points=\"153.63,-178.61 155.86,-168.26 147.66,-174.96 153.63,-178.61\"/>\n",
       "</g>\n",
       "<!-- 10 -->\n",
       "<g id=\"node11\" class=\"node\">\n",
       "<title>10</title>\n",
       "<text text-anchor=\"middle\" x=\"65\" y=\"-105.8\" font-family=\"Times,serif\" font-size=\"14.00\">&lt;text&gt;</text>\n",
       "</g>\n",
       "<!-- 9&#45;&gt;10 -->\n",
       "<g id=\"edge10\" class=\"edge\">\n",
       "<title>9&#45;&gt;10</title>\n",
       "<path fill=\"none\" stroke=\"black\" d=\"M76.19,-152.69C74.45,-146.1 71.73,-135.87 69.41,-127.14\"/>\n",
       "<polygon fill=\"black\" stroke=\"black\" points=\"72.74,-126.02 66.79,-117.26 65.97,-127.82 72.74,-126.02\"/>\n",
       "</g>\n",
       "<!-- 11 -->\n",
       "<g id=\"node12\" class=\"node\">\n",
       "<title>11</title>\n",
       "<text text-anchor=\"middle\" x=\"65\" y=\"-54.8\" font-family=\"Times,serif\" font-size=\"14.00\">T</text>\n",
       "</g>\n",
       "<!-- 10&#45;&gt;11 -->\n",
       "<g id=\"edge11\" class=\"edge\">\n",
       "<title>10&#45;&gt;11</title>\n",
       "<path fill=\"none\" stroke=\"black\" d=\"M65,-101.69C65,-95.18 65,-85.1 65,-76.43\"/>\n",
       "<polygon fill=\"black\" stroke=\"black\" points=\"68.5,-76.26 65,-66.26 61.5,-76.26 68.5,-76.26\"/>\n",
       "</g>\n",
       "<!-- 13 -->\n",
       "<g id=\"node14\" class=\"node\">\n",
       "<title>13</title>\n",
       "<text text-anchor=\"middle\" x=\"134\" y=\"-105.8\" font-family=\"Times,serif\" font-size=\"14.00\">&lt;xml&#45;tree&gt;</text>\n",
       "</g>\n",
       "<!-- 12&#45;&gt;13 -->\n",
       "<g id=\"edge13\" class=\"edge\">\n",
       "<title>12&#45;&gt;13</title>\n",
       "<path fill=\"none\" stroke=\"black\" d=\"M156.38,-152.69C152.78,-145.88 147.1,-135.19 142.37,-126.27\"/>\n",
       "<polygon fill=\"black\" stroke=\"black\" points=\"145.36,-124.45 137.58,-117.26 139.18,-127.73 145.36,-124.45\"/>\n",
       "</g>\n",
       "<!-- 16 -->\n",
       "<g id=\"node17\" class=\"node\">\n",
       "<title>16</title>\n",
       "<text text-anchor=\"middle\" x=\"216\" y=\"-105.8\" font-family=\"Times,serif\" font-size=\"14.00\">&lt;xml&#45;tree&gt;</text>\n",
       "</g>\n",
       "<!-- 12&#45;&gt;16 -->\n",
       "<g id=\"edge16\" class=\"edge\">\n",
       "<title>12&#45;&gt;16</title>\n",
       "<path fill=\"none\" stroke=\"black\" d=\"M167.79,-152.69C176.23,-145.3 189.92,-133.32 200.56,-124.01\"/>\n",
       "<polygon fill=\"black\" stroke=\"black\" points=\"203.06,-126.47 208.28,-117.26 198.45,-121.21 203.06,-126.47\"/>\n",
       "</g>\n",
       "<!-- 14 -->\n",
       "<g id=\"node15\" class=\"node\">\n",
       "<title>14</title>\n",
       "<text text-anchor=\"middle\" x=\"134\" y=\"-54.8\" font-family=\"Times,serif\" font-size=\"14.00\">&lt;text&gt;</text>\n",
       "</g>\n",
       "<!-- 13&#45;&gt;14 -->\n",
       "<g id=\"edge14\" class=\"edge\">\n",
       "<title>13&#45;&gt;14</title>\n",
       "<path fill=\"none\" stroke=\"black\" d=\"M134,-101.69C134,-95.18 134,-85.1 134,-76.43\"/>\n",
       "<polygon fill=\"black\" stroke=\"black\" points=\"137.5,-76.26 134,-66.26 130.5,-76.26 137.5,-76.26\"/>\n",
       "</g>\n",
       "<!-- 15 -->\n",
       "<g id=\"node16\" class=\"node\">\n",
       "<title>15</title>\n",
       "<text text-anchor=\"middle\" x=\"134\" y=\"-3.8\" font-family=\"Times,serif\" font-size=\"14.00\">e</text>\n",
       "</g>\n",
       "<!-- 14&#45;&gt;15 -->\n",
       "<g id=\"edge15\" class=\"edge\">\n",
       "<title>14&#45;&gt;15</title>\n",
       "<path fill=\"none\" stroke=\"black\" d=\"M134,-50.69C134,-44.18 134,-34.1 134,-25.43\"/>\n",
       "<polygon fill=\"black\" stroke=\"black\" points=\"137.5,-25.26 134,-15.26 130.5,-25.26 137.5,-25.26\"/>\n",
       "</g>\n",
       "<!-- 17 -->\n",
       "<g id=\"node18\" class=\"node\">\n",
       "<title>17</title>\n",
       "<text text-anchor=\"middle\" x=\"216\" y=\"-54.8\" font-family=\"Times,serif\" font-size=\"14.00\">&lt;text&gt;</text>\n",
       "</g>\n",
       "<!-- 16&#45;&gt;17 -->\n",
       "<g id=\"edge17\" class=\"edge\">\n",
       "<title>16&#45;&gt;17</title>\n",
       "<path fill=\"none\" stroke=\"black\" d=\"M216,-101.69C216,-95.18 216,-85.1 216,-76.43\"/>\n",
       "<polygon fill=\"black\" stroke=\"black\" points=\"219.5,-76.26 216,-66.26 212.5,-76.26 219.5,-76.26\"/>\n",
       "</g>\n",
       "<!-- 18 -->\n",
       "<g id=\"node19\" class=\"node\">\n",
       "<title>18</title>\n",
       "<text text-anchor=\"middle\" x=\"216\" y=\"-3.8\" font-family=\"Times,serif\" font-size=\"14.00\">x</text>\n",
       "</g>\n",
       "<!-- 17&#45;&gt;18 -->\n",
       "<g id=\"edge18\" class=\"edge\">\n",
       "<title>17&#45;&gt;18</title>\n",
       "<path fill=\"none\" stroke=\"black\" d=\"M216,-50.69C216,-44.18 216,-34.1 216,-25.43\"/>\n",
       "<polygon fill=\"black\" stroke=\"black\" points=\"219.5,-25.26 216,-15.26 212.5,-25.26 219.5,-25.26\"/>\n",
       "</g>\n",
       "<!-- 20 -->\n",
       "<g id=\"node21\" class=\"node\">\n",
       "<title>20</title>\n",
       "<text text-anchor=\"middle\" x=\"255\" y=\"-156.8\" font-family=\"Times,serif\" font-size=\"14.00\">&lt;text&gt;</text>\n",
       "</g>\n",
       "<!-- 19&#45;&gt;20 -->\n",
       "<g id=\"edge20\" class=\"edge\">\n",
       "<title>19&#45;&gt;20</title>\n",
       "<path fill=\"none\" stroke=\"black\" d=\"M217.98,-203.69C224.27,-196.52 234.35,-185.03 242.41,-175.85\"/>\n",
       "<polygon fill=\"black\" stroke=\"black\" points=\"245.11,-178.08 249.07,-168.26 239.85,-173.46 245.11,-178.08\"/>\n",
       "</g>\n",
       "<!-- 21 -->\n",
       "<g id=\"node22\" class=\"node\">\n",
       "<title>21</title>\n",
       "<text text-anchor=\"middle\" x=\"268\" y=\"-105.8\" font-family=\"Times,serif\" font-size=\"14.00\">t</text>\n",
       "</g>\n",
       "<!-- 20&#45;&gt;21 -->\n",
       "<g id=\"edge21\" class=\"edge\">\n",
       "<title>20&#45;&gt;21</title>\n",
       "<path fill=\"none\" stroke=\"black\" d=\"M256.81,-152.69C258.55,-146.1 261.27,-135.87 263.59,-127.14\"/>\n",
       "<polygon fill=\"black\" stroke=\"black\" points=\"267.03,-127.82 266.21,-117.26 260.26,-126.02 267.03,-127.82\"/>\n",
       "</g>\n",
       "<!-- 23 -->\n",
       "<g id=\"node24\" class=\"node\">\n",
       "<title>23</title>\n",
       "<text text-anchor=\"middle\" x=\"268\" y=\"-207.8\" font-family=\"Times,serif\" font-size=\"14.00\">&lt;/</text>\n",
       "</g>\n",
       "<!-- 22&#45;&gt;23 -->\n",
       "<g id=\"edge23\" class=\"edge\">\n",
       "<title>22&#45;&gt;23</title>\n",
       "<path fill=\"none\" stroke=\"black\" d=\"M279.19,-254.69C277.45,-248.1 274.73,-237.87 272.41,-229.14\"/>\n",
       "<polygon fill=\"black\" stroke=\"black\" points=\"275.74,-228.02 269.79,-219.26 268.97,-229.82 275.74,-228.02\"/>\n",
       "</g>\n",
       "<!-- 24 -->\n",
       "<g id=\"node25\" class=\"node\">\n",
       "<title>24</title>\n",
       "<text text-anchor=\"middle\" x=\"306\" y=\"-207.8\" font-family=\"Times,serif\" font-size=\"14.00\">&lt;id&gt;</text>\n",
       "</g>\n",
       "<!-- 22&#45;&gt;24 -->\n",
       "<g id=\"edge24\" class=\"edge\">\n",
       "<title>22&#45;&gt;24</title>\n",
       "<path fill=\"none\" stroke=\"black\" d=\"M284.48,-254.69C287.95,-247.88 293.4,-237.19 297.95,-228.27\"/>\n",
       "<polygon fill=\"black\" stroke=\"black\" points=\"301.13,-229.75 302.55,-219.26 294.89,-226.57 301.13,-229.75\"/>\n",
       "</g>\n",
       "<!-- 26 -->\n",
       "<g id=\"node27\" class=\"node\">\n",
       "<title>26</title>\n",
       "<text text-anchor=\"middle\" x=\"342\" y=\"-207.8\" font-family=\"Times,serif\" font-size=\"14.00\">&gt;</text>\n",
       "</g>\n",
       "<!-- 22&#45;&gt;26 -->\n",
       "<g id=\"edge26\" class=\"edge\">\n",
       "<title>22&#45;&gt;26</title>\n",
       "<path fill=\"none\" stroke=\"black\" d=\"M289.23,-254.89C299.7,-246.48 317.86,-231.89 329.91,-222.21\"/>\n",
       "<polygon fill=\"black\" stroke=\"black\" points=\"332.39,-224.71 337.99,-215.72 328.01,-219.25 332.39,-224.71\"/>\n",
       "</g>\n",
       "<!-- 25 -->\n",
       "<g id=\"node26\" class=\"node\">\n",
       "<title>25</title>\n",
       "<text text-anchor=\"middle\" x=\"306\" y=\"-156.8\" font-family=\"Times,serif\" font-size=\"14.00\">html</text>\n",
       "</g>\n",
       "<!-- 24&#45;&gt;25 -->\n",
       "<g id=\"edge25\" class=\"edge\">\n",
       "<title>24&#45;&gt;25</title>\n",
       "<path fill=\"none\" stroke=\"black\" d=\"M306,-203.69C306,-197.18 306,-187.1 306,-178.43\"/>\n",
       "<polygon fill=\"black\" stroke=\"black\" points=\"309.5,-178.26 306,-168.26 302.5,-178.26 309.5,-178.26\"/>\n",
       "</g>\n",
       "</g>\n",
       "</svg>\n"
      ],
      "text/plain": [
       "<graphviz.dot.Digraph at 0x1210abee0>"
      ]
     },
     "metadata": {},
     "output_type": "display_data"
    },
    {
     "data": {
      "image/svg+xml": [
       "<?xml version=\"1.0\" encoding=\"UTF-8\" standalone=\"no\"?>\n",
       "<!DOCTYPE svg PUBLIC \"-//W3C//DTD SVG 1.1//EN\"\n",
       " \"http://www.w3.org/Graphics/SVG/1.1/DTD/svg11.dtd\">\n",
       "<!-- Generated by graphviz version 2.49.3 (20211023.0002)\n",
       " -->\n",
       "<!-- Pages: 1 -->\n",
       "<svg width=\"354pt\" height=\"329pt\"\n",
       " viewBox=\"0.00 0.00 354.00 329.00\" xmlns=\"http://www.w3.org/2000/svg\" xmlns:xlink=\"http://www.w3.org/1999/xlink\">\n",
       "<g id=\"graph0\" class=\"graph\" transform=\"scale(1 1) rotate(0) translate(4 325)\">\n",
       "<polygon fill=\"white\" stroke=\"transparent\" points=\"-4,4 -4,-325 350,-325 350,4 -4,4\"/>\n",
       "<!-- 0 -->\n",
       "<g id=\"node1\" class=\"node\">\n",
       "<title>0</title>\n",
       "<text text-anchor=\"middle\" x=\"175\" y=\"-309.8\" font-family=\"Times,serif\" font-size=\"14.00\">&lt;start&gt;</text>\n",
       "</g>\n",
       "<!-- 1 -->\n",
       "<g id=\"node2\" class=\"node\">\n",
       "<title>1</title>\n",
       "<text text-anchor=\"middle\" x=\"175\" y=\"-258.8\" font-family=\"Times,serif\" font-size=\"14.00\">&lt;xml&#45;tree&gt;</text>\n",
       "</g>\n",
       "<!-- 0&#45;&gt;1 -->\n",
       "<g id=\"edge1\" class=\"edge\">\n",
       "<title>0&#45;&gt;1</title>\n",
       "<path fill=\"none\" stroke=\"black\" d=\"M175,-305.69C175,-299.18 175,-289.1 175,-280.43\"/>\n",
       "<polygon fill=\"black\" stroke=\"black\" points=\"178.5,-280.26 175,-270.26 171.5,-280.26 178.5,-280.26\"/>\n",
       "</g>\n",
       "<!-- 2 -->\n",
       "<g id=\"node3\" class=\"node\">\n",
       "<title>2</title>\n",
       "<text text-anchor=\"middle\" x=\"62\" y=\"-207.8\" font-family=\"Times,serif\" font-size=\"14.00\">&lt;xml&#45;open&#45;tag&gt;</text>\n",
       "</g>\n",
       "<!-- 1&#45;&gt;2 -->\n",
       "<g id=\"edge2\" class=\"edge\">\n",
       "<title>1&#45;&gt;2</title>\n",
       "<path fill=\"none\" stroke=\"black\" d=\"M159.76,-254.89C140.95,-246.74 108.74,-232.77 86.45,-223.1\"/>\n",
       "<polygon fill=\"black\" stroke=\"black\" points=\"87.57,-219.77 77,-219 84.78,-226.19 87.57,-219.77\"/>\n",
       "</g>\n",
       "<!-- 7 -->\n",
       "<g id=\"node8\" class=\"node\">\n",
       "<title>7</title>\n",
       "<text text-anchor=\"middle\" x=\"175\" y=\"-207.8\" font-family=\"Times,serif\" font-size=\"14.00\">&lt;xml&#45;tree&gt;</text>\n",
       "</g>\n",
       "<!-- 1&#45;&gt;7 -->\n",
       "<g id=\"edge7\" class=\"edge\">\n",
       "<title>1&#45;&gt;7</title>\n",
       "<path fill=\"none\" stroke=\"black\" d=\"M175,-254.69C175,-248.18 175,-238.1 175,-229.43\"/>\n",
       "<polygon fill=\"black\" stroke=\"black\" points=\"178.5,-229.26 175,-219.26 171.5,-229.26 178.5,-229.26\"/>\n",
       "</g>\n",
       "<!-- 18 -->\n",
       "<g id=\"node19\" class=\"node\">\n",
       "<title>18</title>\n",
       "<text text-anchor=\"middle\" x=\"281\" y=\"-207.8\" font-family=\"Times,serif\" font-size=\"14.00\">&lt;xml&#45;close&#45;tag&gt;</text>\n",
       "</g>\n",
       "<!-- 1&#45;&gt;18 -->\n",
       "<g id=\"edge18\" class=\"edge\">\n",
       "<title>1&#45;&gt;18</title>\n",
       "<path fill=\"none\" stroke=\"black\" d=\"M189.3,-254.89C206.86,-246.77 236.89,-232.89 257.78,-223.23\"/>\n",
       "<polygon fill=\"black\" stroke=\"black\" points=\"259.32,-226.38 266.93,-219 256.39,-220.02 259.32,-226.38\"/>\n",
       "</g>\n",
       "<!-- 3 -->\n",
       "<g id=\"node4\" class=\"node\">\n",
       "<title>3</title>\n",
       "<text text-anchor=\"middle\" x=\"4\" y=\"-156.8\" font-family=\"Times,serif\" font-size=\"14.00\">&lt;</text>\n",
       "</g>\n",
       "<!-- 2&#45;&gt;3 -->\n",
       "<g id=\"edge3\" class=\"edge\">\n",
       "<title>2&#45;&gt;3</title>\n",
       "<path fill=\"none\" stroke=\"black\" d=\"M53.94,-203.69C44.01,-195.3 27.09,-181.01 15.73,-171.41\"/>\n",
       "<polygon fill=\"black\" stroke=\"black\" points=\"17.95,-168.7 8.05,-164.92 13.43,-174.05 17.95,-168.7\"/>\n",
       "</g>\n",
       "<!-- 4 -->\n",
       "<g id=\"node5\" class=\"node\">\n",
       "<title>4</title>\n",
       "<text text-anchor=\"middle\" x=\"40\" y=\"-156.8\" font-family=\"Times,serif\" font-size=\"14.00\">&lt;id&gt;</text>\n",
       "</g>\n",
       "<!-- 2&#45;&gt;4 -->\n",
       "<g id=\"edge4\" class=\"edge\">\n",
       "<title>2&#45;&gt;4</title>\n",
       "<path fill=\"none\" stroke=\"black\" d=\"M58.94,-203.69C55.92,-196.96 51.19,-186.42 47.21,-177.56\"/>\n",
       "<polygon fill=\"black\" stroke=\"black\" points=\"50.32,-175.94 43.03,-168.26 43.94,-178.81 50.32,-175.94\"/>\n",
       "</g>\n",
       "<!-- 6 -->\n",
       "<g id=\"node7\" class=\"node\">\n",
       "<title>6</title>\n",
       "<text text-anchor=\"middle\" x=\"76\" y=\"-156.8\" font-family=\"Times,serif\" font-size=\"14.00\">&gt;</text>\n",
       "</g>\n",
       "<!-- 2&#45;&gt;6 -->\n",
       "<g id=\"edge6\" class=\"edge\">\n",
       "<title>2&#45;&gt;6</title>\n",
       "<path fill=\"none\" stroke=\"black\" d=\"M63.95,-203.69C65.83,-197.1 68.75,-186.87 71.25,-178.14\"/>\n",
       "<polygon fill=\"black\" stroke=\"black\" points=\"74.69,-178.83 74.07,-168.26 67.96,-176.91 74.69,-178.83\"/>\n",
       "</g>\n",
       "<!-- 5 -->\n",
       "<g id=\"node6\" class=\"node\">\n",
       "<title>5</title>\n",
       "<text text-anchor=\"middle\" x=\"40\" y=\"-105.8\" font-family=\"Times,serif\" font-size=\"14.00\">html</text>\n",
       "</g>\n",
       "<!-- 4&#45;&gt;5 -->\n",
       "<g id=\"edge5\" class=\"edge\">\n",
       "<title>4&#45;&gt;5</title>\n",
       "<path fill=\"none\" stroke=\"black\" d=\"M40,-152.69C40,-146.18 40,-136.1 40,-127.43\"/>\n",
       "<polygon fill=\"black\" stroke=\"black\" points=\"43.5,-127.26 40,-117.26 36.5,-127.26 43.5,-127.26\"/>\n",
       "</g>\n",
       "<!-- 8 -->\n",
       "<g id=\"node9\" class=\"node\">\n",
       "<title>8</title>\n",
       "<text text-anchor=\"middle\" x=\"130\" y=\"-156.8\" font-family=\"Times,serif\" font-size=\"14.00\">&lt;xml&#45;tree&gt;</text>\n",
       "</g>\n",
       "<!-- 7&#45;&gt;8 -->\n",
       "<g id=\"edge8\" class=\"edge\">\n",
       "<title>7&#45;&gt;8</title>\n",
       "<path fill=\"none\" stroke=\"black\" d=\"M168.74,-203.69C162.16,-196.52 151.61,-185.03 143.18,-175.85\"/>\n",
       "<polygon fill=\"black\" stroke=\"black\" points=\"145.55,-173.25 136.2,-168.26 140.39,-177.99 145.55,-173.25\"/>\n",
       "</g>\n",
       "<!-- 11 -->\n",
       "<g id=\"node12\" class=\"node\">\n",
       "<title>11</title>\n",
       "<text text-anchor=\"middle\" x=\"212\" y=\"-156.8\" font-family=\"Times,serif\" font-size=\"14.00\">&lt;xml&#45;tree&gt;</text>\n",
       "</g>\n",
       "<!-- 7&#45;&gt;11 -->\n",
       "<g id=\"edge11\" class=\"edge\">\n",
       "<title>7&#45;&gt;11</title>\n",
       "<path fill=\"none\" stroke=\"black\" d=\"M180.14,-203.69C185.45,-196.67 193.88,-185.49 200.74,-176.41\"/>\n",
       "<polygon fill=\"black\" stroke=\"black\" points=\"203.67,-178.34 206.9,-168.26 198.08,-174.13 203.67,-178.34\"/>\n",
       "</g>\n",
       "<!-- 9 -->\n",
       "<g id=\"node10\" class=\"node\">\n",
       "<title>9</title>\n",
       "<text text-anchor=\"middle\" x=\"111\" y=\"-105.8\" font-family=\"Times,serif\" font-size=\"14.00\">&lt;text&gt;</text>\n",
       "</g>\n",
       "<!-- 8&#45;&gt;9 -->\n",
       "<g id=\"edge9\" class=\"edge\">\n",
       "<title>8&#45;&gt;9</title>\n",
       "<path fill=\"none\" stroke=\"black\" d=\"M127.36,-152.69C124.78,-146.03 120.75,-135.65 117.34,-126.85\"/>\n",
       "<polygon fill=\"black\" stroke=\"black\" points=\"120.5,-125.31 113.62,-117.26 113.97,-127.84 120.5,-125.31\"/>\n",
       "</g>\n",
       "<!-- 10 -->\n",
       "<g id=\"node11\" class=\"node\">\n",
       "<title>10</title>\n",
       "<text text-anchor=\"middle\" x=\"111\" y=\"-54.8\" font-family=\"Times,serif\" font-size=\"14.00\">T</text>\n",
       "</g>\n",
       "<!-- 9&#45;&gt;10 -->\n",
       "<g id=\"edge10\" class=\"edge\">\n",
       "<title>9&#45;&gt;10</title>\n",
       "<path fill=\"none\" stroke=\"black\" d=\"M111,-101.69C111,-95.18 111,-85.1 111,-76.43\"/>\n",
       "<polygon fill=\"black\" stroke=\"black\" points=\"114.5,-76.26 111,-66.26 107.5,-76.26 114.5,-76.26\"/>\n",
       "</g>\n",
       "<!-- 12 -->\n",
       "<g id=\"node13\" class=\"node\">\n",
       "<title>12</title>\n",
       "<text text-anchor=\"middle\" x=\"180\" y=\"-105.8\" font-family=\"Times,serif\" font-size=\"14.00\">&lt;xml&#45;tree&gt;</text>\n",
       "</g>\n",
       "<!-- 11&#45;&gt;12 -->\n",
       "<g id=\"edge12\" class=\"edge\">\n",
       "<title>11&#45;&gt;12</title>\n",
       "<path fill=\"none\" stroke=\"black\" d=\"M207.55,-152.69C203.01,-145.74 195.82,-134.73 189.92,-125.7\"/>\n",
       "<polygon fill=\"black\" stroke=\"black\" points=\"192.81,-123.71 184.41,-117.26 186.95,-127.54 192.81,-123.71\"/>\n",
       "</g>\n",
       "<!-- 15 -->\n",
       "<g id=\"node16\" class=\"node\">\n",
       "<title>15</title>\n",
       "<text text-anchor=\"middle\" x=\"262\" y=\"-105.8\" font-family=\"Times,serif\" font-size=\"14.00\">&lt;xml&#45;tree&gt;</text>\n",
       "</g>\n",
       "<!-- 11&#45;&gt;15 -->\n",
       "<g id=\"edge15\" class=\"edge\">\n",
       "<title>11&#45;&gt;15</title>\n",
       "<path fill=\"none\" stroke=\"black\" d=\"M218.95,-152.69C226.42,-145.37 238.47,-133.56 247.93,-124.29\"/>\n",
       "<polygon fill=\"black\" stroke=\"black\" points=\"250.41,-126.75 255.11,-117.26 245.51,-121.75 250.41,-126.75\"/>\n",
       "</g>\n",
       "<!-- 13 -->\n",
       "<g id=\"node14\" class=\"node\">\n",
       "<title>13</title>\n",
       "<text text-anchor=\"middle\" x=\"180\" y=\"-54.8\" font-family=\"Times,serif\" font-size=\"14.00\">&lt;text&gt;</text>\n",
       "</g>\n",
       "<!-- 12&#45;&gt;13 -->\n",
       "<g id=\"edge13\" class=\"edge\">\n",
       "<title>12&#45;&gt;13</title>\n",
       "<path fill=\"none\" stroke=\"black\" d=\"M180,-101.69C180,-95.18 180,-85.1 180,-76.43\"/>\n",
       "<polygon fill=\"black\" stroke=\"black\" points=\"183.5,-76.26 180,-66.26 176.5,-76.26 183.5,-76.26\"/>\n",
       "</g>\n",
       "<!-- 14 -->\n",
       "<g id=\"node15\" class=\"node\">\n",
       "<title>14</title>\n",
       "<text text-anchor=\"middle\" x=\"180\" y=\"-3.8\" font-family=\"Times,serif\" font-size=\"14.00\">e</text>\n",
       "</g>\n",
       "<!-- 13&#45;&gt;14 -->\n",
       "<g id=\"edge14\" class=\"edge\">\n",
       "<title>13&#45;&gt;14</title>\n",
       "<path fill=\"none\" stroke=\"black\" d=\"M180,-50.69C180,-44.18 180,-34.1 180,-25.43\"/>\n",
       "<polygon fill=\"black\" stroke=\"black\" points=\"183.5,-25.26 180,-15.26 176.5,-25.26 183.5,-25.26\"/>\n",
       "</g>\n",
       "<!-- 16 -->\n",
       "<g id=\"node17\" class=\"node\">\n",
       "<title>16</title>\n",
       "<text text-anchor=\"middle\" x=\"262\" y=\"-54.8\" font-family=\"Times,serif\" font-size=\"14.00\">&lt;text&gt;</text>\n",
       "</g>\n",
       "<!-- 15&#45;&gt;16 -->\n",
       "<g id=\"edge16\" class=\"edge\">\n",
       "<title>15&#45;&gt;16</title>\n",
       "<path fill=\"none\" stroke=\"black\" d=\"M262,-101.69C262,-95.18 262,-85.1 262,-76.43\"/>\n",
       "<polygon fill=\"black\" stroke=\"black\" points=\"265.5,-76.26 262,-66.26 258.5,-76.26 265.5,-76.26\"/>\n",
       "</g>\n",
       "<!-- 17 -->\n",
       "<g id=\"node18\" class=\"node\">\n",
       "<title>17</title>\n",
       "<text text-anchor=\"middle\" x=\"262\" y=\"-3.8\" font-family=\"Times,serif\" font-size=\"14.00\">xt</text>\n",
       "</g>\n",
       "<!-- 16&#45;&gt;17 -->\n",
       "<g id=\"edge17\" class=\"edge\">\n",
       "<title>16&#45;&gt;17</title>\n",
       "<path fill=\"none\" stroke=\"black\" d=\"M262,-50.69C262,-44.18 262,-34.1 262,-25.43\"/>\n",
       "<polygon fill=\"black\" stroke=\"black\" points=\"265.5,-25.26 262,-15.26 258.5,-25.26 265.5,-25.26\"/>\n",
       "</g>\n",
       "<!-- 19 -->\n",
       "<g id=\"node20\" class=\"node\">\n",
       "<title>19</title>\n",
       "<text text-anchor=\"middle\" x=\"268\" y=\"-156.8\" font-family=\"Times,serif\" font-size=\"14.00\">&lt;/</text>\n",
       "</g>\n",
       "<!-- 18&#45;&gt;19 -->\n",
       "<g id=\"edge19\" class=\"edge\">\n",
       "<title>18&#45;&gt;19</title>\n",
       "<path fill=\"none\" stroke=\"black\" d=\"M279.19,-203.69C277.45,-197.1 274.73,-186.87 272.41,-178.14\"/>\n",
       "<polygon fill=\"black\" stroke=\"black\" points=\"275.74,-177.02 269.79,-168.26 268.97,-178.82 275.74,-177.02\"/>\n",
       "</g>\n",
       "<!-- 20 -->\n",
       "<g id=\"node21\" class=\"node\">\n",
       "<title>20</title>\n",
       "<text text-anchor=\"middle\" x=\"306\" y=\"-156.8\" font-family=\"Times,serif\" font-size=\"14.00\">&lt;id&gt;</text>\n",
       "</g>\n",
       "<!-- 18&#45;&gt;20 -->\n",
       "<g id=\"edge20\" class=\"edge\">\n",
       "<title>18&#45;&gt;20</title>\n",
       "<path fill=\"none\" stroke=\"black\" d=\"M284.48,-203.69C287.95,-196.88 293.4,-186.19 297.95,-177.27\"/>\n",
       "<polygon fill=\"black\" stroke=\"black\" points=\"301.13,-178.75 302.55,-168.26 294.89,-175.57 301.13,-178.75\"/>\n",
       "</g>\n",
       "<!-- 22 -->\n",
       "<g id=\"node23\" class=\"node\">\n",
       "<title>22</title>\n",
       "<text text-anchor=\"middle\" x=\"342\" y=\"-156.8\" font-family=\"Times,serif\" font-size=\"14.00\">&gt;</text>\n",
       "</g>\n",
       "<!-- 18&#45;&gt;22 -->\n",
       "<g id=\"edge22\" class=\"edge\">\n",
       "<title>18&#45;&gt;22</title>\n",
       "<path fill=\"none\" stroke=\"black\" d=\"M289.23,-203.89C299.7,-195.48 317.86,-180.89 329.91,-171.21\"/>\n",
       "<polygon fill=\"black\" stroke=\"black\" points=\"332.39,-173.71 337.99,-164.72 328.01,-168.25 332.39,-173.71\"/>\n",
       "</g>\n",
       "<!-- 21 -->\n",
       "<g id=\"node22\" class=\"node\">\n",
       "<title>21</title>\n",
       "<text text-anchor=\"middle\" x=\"325\" y=\"-105.8\" font-family=\"Times,serif\" font-size=\"14.00\">html</text>\n",
       "</g>\n",
       "<!-- 20&#45;&gt;21 -->\n",
       "<g id=\"edge21\" class=\"edge\">\n",
       "<title>20&#45;&gt;21</title>\n",
       "<path fill=\"none\" stroke=\"black\" d=\"M308.64,-152.69C311.22,-146.03 315.25,-135.65 318.66,-126.85\"/>\n",
       "<polygon fill=\"black\" stroke=\"black\" points=\"322.03,-127.84 322.38,-117.26 315.5,-125.31 322.03,-127.84\"/>\n",
       "</g>\n",
       "</g>\n",
       "</svg>\n"
      ],
      "text/plain": [
       "<graphviz.dot.Digraph at 0x1210abf10>"
      ]
     },
     "metadata": {},
     "output_type": "display_data"
    },
    {
     "data": {
      "image/svg+xml": [
       "<?xml version=\"1.0\" encoding=\"UTF-8\" standalone=\"no\"?>\n",
       "<!DOCTYPE svg PUBLIC \"-//W3C//DTD SVG 1.1//EN\"\n",
       " \"http://www.w3.org/Graphics/SVG/1.1/DTD/svg11.dtd\">\n",
       "<!-- Generated by graphviz version 2.49.3 (20211023.0002)\n",
       " -->\n",
       "<!-- Pages: 1 -->\n",
       "<svg width=\"354pt\" height=\"329pt\"\n",
       " viewBox=\"0.00 0.00 354.00 329.00\" xmlns=\"http://www.w3.org/2000/svg\" xmlns:xlink=\"http://www.w3.org/1999/xlink\">\n",
       "<g id=\"graph0\" class=\"graph\" transform=\"scale(1 1) rotate(0) translate(4 325)\">\n",
       "<polygon fill=\"white\" stroke=\"transparent\" points=\"-4,4 -4,-325 350,-325 350,4 -4,4\"/>\n",
       "<!-- 0 -->\n",
       "<g id=\"node1\" class=\"node\">\n",
       "<title>0</title>\n",
       "<text text-anchor=\"middle\" x=\"175\" y=\"-309.8\" font-family=\"Times,serif\" font-size=\"14.00\">&lt;start&gt;</text>\n",
       "</g>\n",
       "<!-- 1 -->\n",
       "<g id=\"node2\" class=\"node\">\n",
       "<title>1</title>\n",
       "<text text-anchor=\"middle\" x=\"175\" y=\"-258.8\" font-family=\"Times,serif\" font-size=\"14.00\">&lt;xml&#45;tree&gt;</text>\n",
       "</g>\n",
       "<!-- 0&#45;&gt;1 -->\n",
       "<g id=\"edge1\" class=\"edge\">\n",
       "<title>0&#45;&gt;1</title>\n",
       "<path fill=\"none\" stroke=\"black\" d=\"M175,-305.69C175,-299.18 175,-289.1 175,-280.43\"/>\n",
       "<polygon fill=\"black\" stroke=\"black\" points=\"178.5,-280.26 175,-270.26 171.5,-280.26 178.5,-280.26\"/>\n",
       "</g>\n",
       "<!-- 2 -->\n",
       "<g id=\"node3\" class=\"node\">\n",
       "<title>2</title>\n",
       "<text text-anchor=\"middle\" x=\"62\" y=\"-207.8\" font-family=\"Times,serif\" font-size=\"14.00\">&lt;xml&#45;open&#45;tag&gt;</text>\n",
       "</g>\n",
       "<!-- 1&#45;&gt;2 -->\n",
       "<g id=\"edge2\" class=\"edge\">\n",
       "<title>1&#45;&gt;2</title>\n",
       "<path fill=\"none\" stroke=\"black\" d=\"M159.76,-254.89C140.95,-246.74 108.74,-232.77 86.45,-223.1\"/>\n",
       "<polygon fill=\"black\" stroke=\"black\" points=\"87.57,-219.77 77,-219 84.78,-226.19 87.57,-219.77\"/>\n",
       "</g>\n",
       "<!-- 7 -->\n",
       "<g id=\"node8\" class=\"node\">\n",
       "<title>7</title>\n",
       "<text text-anchor=\"middle\" x=\"175\" y=\"-207.8\" font-family=\"Times,serif\" font-size=\"14.00\">&lt;xml&#45;tree&gt;</text>\n",
       "</g>\n",
       "<!-- 1&#45;&gt;7 -->\n",
       "<g id=\"edge7\" class=\"edge\">\n",
       "<title>1&#45;&gt;7</title>\n",
       "<path fill=\"none\" stroke=\"black\" d=\"M175,-254.69C175,-248.18 175,-238.1 175,-229.43\"/>\n",
       "<polygon fill=\"black\" stroke=\"black\" points=\"178.5,-229.26 175,-219.26 171.5,-229.26 178.5,-229.26\"/>\n",
       "</g>\n",
       "<!-- 18 -->\n",
       "<g id=\"node19\" class=\"node\">\n",
       "<title>18</title>\n",
       "<text text-anchor=\"middle\" x=\"281\" y=\"-207.8\" font-family=\"Times,serif\" font-size=\"14.00\">&lt;xml&#45;close&#45;tag&gt;</text>\n",
       "</g>\n",
       "<!-- 1&#45;&gt;18 -->\n",
       "<g id=\"edge18\" class=\"edge\">\n",
       "<title>1&#45;&gt;18</title>\n",
       "<path fill=\"none\" stroke=\"black\" d=\"M189.3,-254.89C206.86,-246.77 236.89,-232.89 257.78,-223.23\"/>\n",
       "<polygon fill=\"black\" stroke=\"black\" points=\"259.32,-226.38 266.93,-219 256.39,-220.02 259.32,-226.38\"/>\n",
       "</g>\n",
       "<!-- 3 -->\n",
       "<g id=\"node4\" class=\"node\">\n",
       "<title>3</title>\n",
       "<text text-anchor=\"middle\" x=\"4\" y=\"-156.8\" font-family=\"Times,serif\" font-size=\"14.00\">&lt;</text>\n",
       "</g>\n",
       "<!-- 2&#45;&gt;3 -->\n",
       "<g id=\"edge3\" class=\"edge\">\n",
       "<title>2&#45;&gt;3</title>\n",
       "<path fill=\"none\" stroke=\"black\" d=\"M53.94,-203.69C44.01,-195.3 27.09,-181.01 15.73,-171.41\"/>\n",
       "<polygon fill=\"black\" stroke=\"black\" points=\"17.95,-168.7 8.05,-164.92 13.43,-174.05 17.95,-168.7\"/>\n",
       "</g>\n",
       "<!-- 4 -->\n",
       "<g id=\"node5\" class=\"node\">\n",
       "<title>4</title>\n",
       "<text text-anchor=\"middle\" x=\"40\" y=\"-156.8\" font-family=\"Times,serif\" font-size=\"14.00\">&lt;id&gt;</text>\n",
       "</g>\n",
       "<!-- 2&#45;&gt;4 -->\n",
       "<g id=\"edge4\" class=\"edge\">\n",
       "<title>2&#45;&gt;4</title>\n",
       "<path fill=\"none\" stroke=\"black\" d=\"M58.94,-203.69C55.92,-196.96 51.19,-186.42 47.21,-177.56\"/>\n",
       "<polygon fill=\"black\" stroke=\"black\" points=\"50.32,-175.94 43.03,-168.26 43.94,-178.81 50.32,-175.94\"/>\n",
       "</g>\n",
       "<!-- 6 -->\n",
       "<g id=\"node7\" class=\"node\">\n",
       "<title>6</title>\n",
       "<text text-anchor=\"middle\" x=\"76\" y=\"-156.8\" font-family=\"Times,serif\" font-size=\"14.00\">&gt;</text>\n",
       "</g>\n",
       "<!-- 2&#45;&gt;6 -->\n",
       "<g id=\"edge6\" class=\"edge\">\n",
       "<title>2&#45;&gt;6</title>\n",
       "<path fill=\"none\" stroke=\"black\" d=\"M63.95,-203.69C65.83,-197.1 68.75,-186.87 71.25,-178.14\"/>\n",
       "<polygon fill=\"black\" stroke=\"black\" points=\"74.69,-178.83 74.07,-168.26 67.96,-176.91 74.69,-178.83\"/>\n",
       "</g>\n",
       "<!-- 5 -->\n",
       "<g id=\"node6\" class=\"node\">\n",
       "<title>5</title>\n",
       "<text text-anchor=\"middle\" x=\"40\" y=\"-105.8\" font-family=\"Times,serif\" font-size=\"14.00\">html</text>\n",
       "</g>\n",
       "<!-- 4&#45;&gt;5 -->\n",
       "<g id=\"edge5\" class=\"edge\">\n",
       "<title>4&#45;&gt;5</title>\n",
       "<path fill=\"none\" stroke=\"black\" d=\"M40,-152.69C40,-146.18 40,-136.1 40,-127.43\"/>\n",
       "<polygon fill=\"black\" stroke=\"black\" points=\"43.5,-127.26 40,-117.26 36.5,-127.26 43.5,-127.26\"/>\n",
       "</g>\n",
       "<!-- 8 -->\n",
       "<g id=\"node9\" class=\"node\">\n",
       "<title>8</title>\n",
       "<text text-anchor=\"middle\" x=\"130\" y=\"-156.8\" font-family=\"Times,serif\" font-size=\"14.00\">&lt;xml&#45;tree&gt;</text>\n",
       "</g>\n",
       "<!-- 7&#45;&gt;8 -->\n",
       "<g id=\"edge8\" class=\"edge\">\n",
       "<title>7&#45;&gt;8</title>\n",
       "<path fill=\"none\" stroke=\"black\" d=\"M168.74,-203.69C162.16,-196.52 151.61,-185.03 143.18,-175.85\"/>\n",
       "<polygon fill=\"black\" stroke=\"black\" points=\"145.55,-173.25 136.2,-168.26 140.39,-177.99 145.55,-173.25\"/>\n",
       "</g>\n",
       "<!-- 11 -->\n",
       "<g id=\"node12\" class=\"node\">\n",
       "<title>11</title>\n",
       "<text text-anchor=\"middle\" x=\"212\" y=\"-156.8\" font-family=\"Times,serif\" font-size=\"14.00\">&lt;xml&#45;tree&gt;</text>\n",
       "</g>\n",
       "<!-- 7&#45;&gt;11 -->\n",
       "<g id=\"edge11\" class=\"edge\">\n",
       "<title>7&#45;&gt;11</title>\n",
       "<path fill=\"none\" stroke=\"black\" d=\"M180.14,-203.69C185.45,-196.67 193.88,-185.49 200.74,-176.41\"/>\n",
       "<polygon fill=\"black\" stroke=\"black\" points=\"203.67,-178.34 206.9,-168.26 198.08,-174.13 203.67,-178.34\"/>\n",
       "</g>\n",
       "<!-- 9 -->\n",
       "<g id=\"node10\" class=\"node\">\n",
       "<title>9</title>\n",
       "<text text-anchor=\"middle\" x=\"111\" y=\"-105.8\" font-family=\"Times,serif\" font-size=\"14.00\">&lt;text&gt;</text>\n",
       "</g>\n",
       "<!-- 8&#45;&gt;9 -->\n",
       "<g id=\"edge9\" class=\"edge\">\n",
       "<title>8&#45;&gt;9</title>\n",
       "<path fill=\"none\" stroke=\"black\" d=\"M127.36,-152.69C124.78,-146.03 120.75,-135.65 117.34,-126.85\"/>\n",
       "<polygon fill=\"black\" stroke=\"black\" points=\"120.5,-125.31 113.62,-117.26 113.97,-127.84 120.5,-125.31\"/>\n",
       "</g>\n",
       "<!-- 10 -->\n",
       "<g id=\"node11\" class=\"node\">\n",
       "<title>10</title>\n",
       "<text text-anchor=\"middle\" x=\"111\" y=\"-54.8\" font-family=\"Times,serif\" font-size=\"14.00\">T</text>\n",
       "</g>\n",
       "<!-- 9&#45;&gt;10 -->\n",
       "<g id=\"edge10\" class=\"edge\">\n",
       "<title>9&#45;&gt;10</title>\n",
       "<path fill=\"none\" stroke=\"black\" d=\"M111,-101.69C111,-95.18 111,-85.1 111,-76.43\"/>\n",
       "<polygon fill=\"black\" stroke=\"black\" points=\"114.5,-76.26 111,-66.26 107.5,-76.26 114.5,-76.26\"/>\n",
       "</g>\n",
       "<!-- 12 -->\n",
       "<g id=\"node13\" class=\"node\">\n",
       "<title>12</title>\n",
       "<text text-anchor=\"middle\" x=\"180\" y=\"-105.8\" font-family=\"Times,serif\" font-size=\"14.00\">&lt;xml&#45;tree&gt;</text>\n",
       "</g>\n",
       "<!-- 11&#45;&gt;12 -->\n",
       "<g id=\"edge12\" class=\"edge\">\n",
       "<title>11&#45;&gt;12</title>\n",
       "<path fill=\"none\" stroke=\"black\" d=\"M207.55,-152.69C203.01,-145.74 195.82,-134.73 189.92,-125.7\"/>\n",
       "<polygon fill=\"black\" stroke=\"black\" points=\"192.81,-123.71 184.41,-117.26 186.95,-127.54 192.81,-123.71\"/>\n",
       "</g>\n",
       "<!-- 15 -->\n",
       "<g id=\"node16\" class=\"node\">\n",
       "<title>15</title>\n",
       "<text text-anchor=\"middle\" x=\"262\" y=\"-105.8\" font-family=\"Times,serif\" font-size=\"14.00\">&lt;xml&#45;tree&gt;</text>\n",
       "</g>\n",
       "<!-- 11&#45;&gt;15 -->\n",
       "<g id=\"edge15\" class=\"edge\">\n",
       "<title>11&#45;&gt;15</title>\n",
       "<path fill=\"none\" stroke=\"black\" d=\"M218.95,-152.69C226.42,-145.37 238.47,-133.56 247.93,-124.29\"/>\n",
       "<polygon fill=\"black\" stroke=\"black\" points=\"250.41,-126.75 255.11,-117.26 245.51,-121.75 250.41,-126.75\"/>\n",
       "</g>\n",
       "<!-- 13 -->\n",
       "<g id=\"node14\" class=\"node\">\n",
       "<title>13</title>\n",
       "<text text-anchor=\"middle\" x=\"180\" y=\"-54.8\" font-family=\"Times,serif\" font-size=\"14.00\">&lt;text&gt;</text>\n",
       "</g>\n",
       "<!-- 12&#45;&gt;13 -->\n",
       "<g id=\"edge13\" class=\"edge\">\n",
       "<title>12&#45;&gt;13</title>\n",
       "<path fill=\"none\" stroke=\"black\" d=\"M180,-101.69C180,-95.18 180,-85.1 180,-76.43\"/>\n",
       "<polygon fill=\"black\" stroke=\"black\" points=\"183.5,-76.26 180,-66.26 176.5,-76.26 183.5,-76.26\"/>\n",
       "</g>\n",
       "<!-- 14 -->\n",
       "<g id=\"node15\" class=\"node\">\n",
       "<title>14</title>\n",
       "<text text-anchor=\"middle\" x=\"180\" y=\"-3.8\" font-family=\"Times,serif\" font-size=\"14.00\">ex</text>\n",
       "</g>\n",
       "<!-- 13&#45;&gt;14 -->\n",
       "<g id=\"edge14\" class=\"edge\">\n",
       "<title>13&#45;&gt;14</title>\n",
       "<path fill=\"none\" stroke=\"black\" d=\"M180,-50.69C180,-44.18 180,-34.1 180,-25.43\"/>\n",
       "<polygon fill=\"black\" stroke=\"black\" points=\"183.5,-25.26 180,-15.26 176.5,-25.26 183.5,-25.26\"/>\n",
       "</g>\n",
       "<!-- 16 -->\n",
       "<g id=\"node17\" class=\"node\">\n",
       "<title>16</title>\n",
       "<text text-anchor=\"middle\" x=\"262\" y=\"-54.8\" font-family=\"Times,serif\" font-size=\"14.00\">&lt;text&gt;</text>\n",
       "</g>\n",
       "<!-- 15&#45;&gt;16 -->\n",
       "<g id=\"edge16\" class=\"edge\">\n",
       "<title>15&#45;&gt;16</title>\n",
       "<path fill=\"none\" stroke=\"black\" d=\"M262,-101.69C262,-95.18 262,-85.1 262,-76.43\"/>\n",
       "<polygon fill=\"black\" stroke=\"black\" points=\"265.5,-76.26 262,-66.26 258.5,-76.26 265.5,-76.26\"/>\n",
       "</g>\n",
       "<!-- 17 -->\n",
       "<g id=\"node18\" class=\"node\">\n",
       "<title>17</title>\n",
       "<text text-anchor=\"middle\" x=\"262\" y=\"-3.8\" font-family=\"Times,serif\" font-size=\"14.00\">t</text>\n",
       "</g>\n",
       "<!-- 16&#45;&gt;17 -->\n",
       "<g id=\"edge17\" class=\"edge\">\n",
       "<title>16&#45;&gt;17</title>\n",
       "<path fill=\"none\" stroke=\"black\" d=\"M262,-50.69C262,-44.18 262,-34.1 262,-25.43\"/>\n",
       "<polygon fill=\"black\" stroke=\"black\" points=\"265.5,-25.26 262,-15.26 258.5,-25.26 265.5,-25.26\"/>\n",
       "</g>\n",
       "<!-- 19 -->\n",
       "<g id=\"node20\" class=\"node\">\n",
       "<title>19</title>\n",
       "<text text-anchor=\"middle\" x=\"268\" y=\"-156.8\" font-family=\"Times,serif\" font-size=\"14.00\">&lt;/</text>\n",
       "</g>\n",
       "<!-- 18&#45;&gt;19 -->\n",
       "<g id=\"edge19\" class=\"edge\">\n",
       "<title>18&#45;&gt;19</title>\n",
       "<path fill=\"none\" stroke=\"black\" d=\"M279.19,-203.69C277.45,-197.1 274.73,-186.87 272.41,-178.14\"/>\n",
       "<polygon fill=\"black\" stroke=\"black\" points=\"275.74,-177.02 269.79,-168.26 268.97,-178.82 275.74,-177.02\"/>\n",
       "</g>\n",
       "<!-- 20 -->\n",
       "<g id=\"node21\" class=\"node\">\n",
       "<title>20</title>\n",
       "<text text-anchor=\"middle\" x=\"306\" y=\"-156.8\" font-family=\"Times,serif\" font-size=\"14.00\">&lt;id&gt;</text>\n",
       "</g>\n",
       "<!-- 18&#45;&gt;20 -->\n",
       "<g id=\"edge20\" class=\"edge\">\n",
       "<title>18&#45;&gt;20</title>\n",
       "<path fill=\"none\" stroke=\"black\" d=\"M284.48,-203.69C287.95,-196.88 293.4,-186.19 297.95,-177.27\"/>\n",
       "<polygon fill=\"black\" stroke=\"black\" points=\"301.13,-178.75 302.55,-168.26 294.89,-175.57 301.13,-178.75\"/>\n",
       "</g>\n",
       "<!-- 22 -->\n",
       "<g id=\"node23\" class=\"node\">\n",
       "<title>22</title>\n",
       "<text text-anchor=\"middle\" x=\"342\" y=\"-156.8\" font-family=\"Times,serif\" font-size=\"14.00\">&gt;</text>\n",
       "</g>\n",
       "<!-- 18&#45;&gt;22 -->\n",
       "<g id=\"edge22\" class=\"edge\">\n",
       "<title>18&#45;&gt;22</title>\n",
       "<path fill=\"none\" stroke=\"black\" d=\"M289.23,-203.89C299.7,-195.48 317.86,-180.89 329.91,-171.21\"/>\n",
       "<polygon fill=\"black\" stroke=\"black\" points=\"332.39,-173.71 337.99,-164.72 328.01,-168.25 332.39,-173.71\"/>\n",
       "</g>\n",
       "<!-- 21 -->\n",
       "<g id=\"node22\" class=\"node\">\n",
       "<title>21</title>\n",
       "<text text-anchor=\"middle\" x=\"325\" y=\"-105.8\" font-family=\"Times,serif\" font-size=\"14.00\">html</text>\n",
       "</g>\n",
       "<!-- 20&#45;&gt;21 -->\n",
       "<g id=\"edge21\" class=\"edge\">\n",
       "<title>20&#45;&gt;21</title>\n",
       "<path fill=\"none\" stroke=\"black\" d=\"M308.64,-152.69C311.22,-146.03 315.25,-135.65 318.66,-126.85\"/>\n",
       "<polygon fill=\"black\" stroke=\"black\" points=\"322.03,-127.84 322.38,-117.26 315.5,-125.31 322.03,-127.84\"/>\n",
       "</g>\n",
       "</g>\n",
       "</svg>\n"
      ],
      "text/plain": [
       "<graphviz.dot.Digraph at 0x1210abfd0>"
      ]
     },
     "metadata": {},
     "output_type": "display_data"
    },
    {
     "data": {
      "image/svg+xml": [
       "<?xml version=\"1.0\" encoding=\"UTF-8\" standalone=\"no\"?>\n",
       "<!DOCTYPE svg PUBLIC \"-//W3C//DTD SVG 1.1//EN\"\n",
       " \"http://www.w3.org/Graphics/SVG/1.1/DTD/svg11.dtd\">\n",
       "<!-- Generated by graphviz version 2.49.3 (20211023.0002)\n",
       " -->\n",
       "<!-- Pages: 1 -->\n",
       "<svg width=\"354pt\" height=\"380pt\"\n",
       " viewBox=\"0.00 0.00 354.00 380.00\" xmlns=\"http://www.w3.org/2000/svg\" xmlns:xlink=\"http://www.w3.org/1999/xlink\">\n",
       "<g id=\"graph0\" class=\"graph\" transform=\"scale(1 1) rotate(0) translate(4 376)\">\n",
       "<polygon fill=\"white\" stroke=\"transparent\" points=\"-4,4 -4,-376 350,-376 350,4 -4,4\"/>\n",
       "<!-- 0 -->\n",
       "<g id=\"node1\" class=\"node\">\n",
       "<title>0</title>\n",
       "<text text-anchor=\"middle\" x=\"175\" y=\"-360.8\" font-family=\"Times,serif\" font-size=\"14.00\">&lt;start&gt;</text>\n",
       "</g>\n",
       "<!-- 1 -->\n",
       "<g id=\"node2\" class=\"node\">\n",
       "<title>1</title>\n",
       "<text text-anchor=\"middle\" x=\"175\" y=\"-309.8\" font-family=\"Times,serif\" font-size=\"14.00\">&lt;xml&#45;tree&gt;</text>\n",
       "</g>\n",
       "<!-- 0&#45;&gt;1 -->\n",
       "<g id=\"edge1\" class=\"edge\">\n",
       "<title>0&#45;&gt;1</title>\n",
       "<path fill=\"none\" stroke=\"black\" d=\"M175,-356.69C175,-350.18 175,-340.1 175,-331.43\"/>\n",
       "<polygon fill=\"black\" stroke=\"black\" points=\"178.5,-331.26 175,-321.26 171.5,-331.26 178.5,-331.26\"/>\n",
       "</g>\n",
       "<!-- 2 -->\n",
       "<g id=\"node3\" class=\"node\">\n",
       "<title>2</title>\n",
       "<text text-anchor=\"middle\" x=\"62\" y=\"-258.8\" font-family=\"Times,serif\" font-size=\"14.00\">&lt;xml&#45;open&#45;tag&gt;</text>\n",
       "</g>\n",
       "<!-- 1&#45;&gt;2 -->\n",
       "<g id=\"edge2\" class=\"edge\">\n",
       "<title>1&#45;&gt;2</title>\n",
       "<path fill=\"none\" stroke=\"black\" d=\"M159.76,-305.89C140.95,-297.74 108.74,-283.77 86.45,-274.1\"/>\n",
       "<polygon fill=\"black\" stroke=\"black\" points=\"87.57,-270.77 77,-270 84.78,-277.19 87.57,-270.77\"/>\n",
       "</g>\n",
       "<!-- 7 -->\n",
       "<g id=\"node8\" class=\"node\">\n",
       "<title>7</title>\n",
       "<text text-anchor=\"middle\" x=\"175\" y=\"-258.8\" font-family=\"Times,serif\" font-size=\"14.00\">&lt;xml&#45;tree&gt;</text>\n",
       "</g>\n",
       "<!-- 1&#45;&gt;7 -->\n",
       "<g id=\"edge7\" class=\"edge\">\n",
       "<title>1&#45;&gt;7</title>\n",
       "<path fill=\"none\" stroke=\"black\" d=\"M175,-305.69C175,-299.18 175,-289.1 175,-280.43\"/>\n",
       "<polygon fill=\"black\" stroke=\"black\" points=\"178.5,-280.26 175,-270.26 171.5,-280.26 178.5,-280.26\"/>\n",
       "</g>\n",
       "<!-- 22 -->\n",
       "<g id=\"node23\" class=\"node\">\n",
       "<title>22</title>\n",
       "<text text-anchor=\"middle\" x=\"281\" y=\"-258.8\" font-family=\"Times,serif\" font-size=\"14.00\">&lt;xml&#45;close&#45;tag&gt;</text>\n",
       "</g>\n",
       "<!-- 1&#45;&gt;22 -->\n",
       "<g id=\"edge22\" class=\"edge\">\n",
       "<title>1&#45;&gt;22</title>\n",
       "<path fill=\"none\" stroke=\"black\" d=\"M189.3,-305.89C206.86,-297.77 236.89,-283.89 257.78,-274.23\"/>\n",
       "<polygon fill=\"black\" stroke=\"black\" points=\"259.32,-277.38 266.93,-270 256.39,-271.02 259.32,-277.38\"/>\n",
       "</g>\n",
       "<!-- 3 -->\n",
       "<g id=\"node4\" class=\"node\">\n",
       "<title>3</title>\n",
       "<text text-anchor=\"middle\" x=\"4\" y=\"-207.8\" font-family=\"Times,serif\" font-size=\"14.00\">&lt;</text>\n",
       "</g>\n",
       "<!-- 2&#45;&gt;3 -->\n",
       "<g id=\"edge3\" class=\"edge\">\n",
       "<title>2&#45;&gt;3</title>\n",
       "<path fill=\"none\" stroke=\"black\" d=\"M53.94,-254.69C44.01,-246.3 27.09,-232.01 15.73,-222.41\"/>\n",
       "<polygon fill=\"black\" stroke=\"black\" points=\"17.95,-219.7 8.05,-215.92 13.43,-225.05 17.95,-219.7\"/>\n",
       "</g>\n",
       "<!-- 4 -->\n",
       "<g id=\"node5\" class=\"node\">\n",
       "<title>4</title>\n",
       "<text text-anchor=\"middle\" x=\"40\" y=\"-207.8\" font-family=\"Times,serif\" font-size=\"14.00\">&lt;id&gt;</text>\n",
       "</g>\n",
       "<!-- 2&#45;&gt;4 -->\n",
       "<g id=\"edge4\" class=\"edge\">\n",
       "<title>2&#45;&gt;4</title>\n",
       "<path fill=\"none\" stroke=\"black\" d=\"M58.94,-254.69C55.92,-247.96 51.19,-237.42 47.21,-228.56\"/>\n",
       "<polygon fill=\"black\" stroke=\"black\" points=\"50.32,-226.94 43.03,-219.26 43.94,-229.81 50.32,-226.94\"/>\n",
       "</g>\n",
       "<!-- 6 -->\n",
       "<g id=\"node7\" class=\"node\">\n",
       "<title>6</title>\n",
       "<text text-anchor=\"middle\" x=\"76\" y=\"-207.8\" font-family=\"Times,serif\" font-size=\"14.00\">&gt;</text>\n",
       "</g>\n",
       "<!-- 2&#45;&gt;6 -->\n",
       "<g id=\"edge6\" class=\"edge\">\n",
       "<title>2&#45;&gt;6</title>\n",
       "<path fill=\"none\" stroke=\"black\" d=\"M63.95,-254.69C65.83,-248.1 68.75,-237.87 71.25,-229.14\"/>\n",
       "<polygon fill=\"black\" stroke=\"black\" points=\"74.69,-229.83 74.07,-219.26 67.96,-227.91 74.69,-229.83\"/>\n",
       "</g>\n",
       "<!-- 5 -->\n",
       "<g id=\"node6\" class=\"node\">\n",
       "<title>5</title>\n",
       "<text text-anchor=\"middle\" x=\"40\" y=\"-156.8\" font-family=\"Times,serif\" font-size=\"14.00\">html</text>\n",
       "</g>\n",
       "<!-- 4&#45;&gt;5 -->\n",
       "<g id=\"edge5\" class=\"edge\">\n",
       "<title>4&#45;&gt;5</title>\n",
       "<path fill=\"none\" stroke=\"black\" d=\"M40,-203.69C40,-197.18 40,-187.1 40,-178.43\"/>\n",
       "<polygon fill=\"black\" stroke=\"black\" points=\"43.5,-178.26 40,-168.26 36.5,-178.26 43.5,-178.26\"/>\n",
       "</g>\n",
       "<!-- 8 -->\n",
       "<g id=\"node9\" class=\"node\">\n",
       "<title>8</title>\n",
       "<text text-anchor=\"middle\" x=\"130\" y=\"-207.8\" font-family=\"Times,serif\" font-size=\"14.00\">&lt;xml&#45;tree&gt;</text>\n",
       "</g>\n",
       "<!-- 7&#45;&gt;8 -->\n",
       "<g id=\"edge8\" class=\"edge\">\n",
       "<title>7&#45;&gt;8</title>\n",
       "<path fill=\"none\" stroke=\"black\" d=\"M168.74,-254.69C162.16,-247.52 151.61,-236.03 143.18,-226.85\"/>\n",
       "<polygon fill=\"black\" stroke=\"black\" points=\"145.55,-224.25 136.2,-219.26 140.39,-228.99 145.55,-224.25\"/>\n",
       "</g>\n",
       "<!-- 11 -->\n",
       "<g id=\"node12\" class=\"node\">\n",
       "<title>11</title>\n",
       "<text text-anchor=\"middle\" x=\"212\" y=\"-207.8\" font-family=\"Times,serif\" font-size=\"14.00\">&lt;xml&#45;tree&gt;</text>\n",
       "</g>\n",
       "<!-- 7&#45;&gt;11 -->\n",
       "<g id=\"edge11\" class=\"edge\">\n",
       "<title>7&#45;&gt;11</title>\n",
       "<path fill=\"none\" stroke=\"black\" d=\"M180.14,-254.69C185.45,-247.67 193.88,-236.49 200.74,-227.41\"/>\n",
       "<polygon fill=\"black\" stroke=\"black\" points=\"203.67,-229.34 206.9,-219.26 198.08,-225.13 203.67,-229.34\"/>\n",
       "</g>\n",
       "<!-- 9 -->\n",
       "<g id=\"node10\" class=\"node\">\n",
       "<title>9</title>\n",
       "<text text-anchor=\"middle\" x=\"110\" y=\"-156.8\" font-family=\"Times,serif\" font-size=\"14.00\">&lt;text&gt;</text>\n",
       "</g>\n",
       "<!-- 8&#45;&gt;9 -->\n",
       "<g id=\"edge9\" class=\"edge\">\n",
       "<title>8&#45;&gt;9</title>\n",
       "<path fill=\"none\" stroke=\"black\" d=\"M127.22,-203.69C124.47,-196.96 120.17,-186.42 116.55,-177.56\"/>\n",
       "<polygon fill=\"black\" stroke=\"black\" points=\"119.78,-176.19 112.76,-168.26 113.3,-178.84 119.78,-176.19\"/>\n",
       "</g>\n",
       "<!-- 10 -->\n",
       "<g id=\"node11\" class=\"node\">\n",
       "<title>10</title>\n",
       "<text text-anchor=\"middle\" x=\"83\" y=\"-105.8\" font-family=\"Times,serif\" font-size=\"14.00\">T</text>\n",
       "</g>\n",
       "<!-- 9&#45;&gt;10 -->\n",
       "<g id=\"edge10\" class=\"edge\">\n",
       "<title>9&#45;&gt;10</title>\n",
       "<path fill=\"none\" stroke=\"black\" d=\"M106.25,-152.69C102.5,-145.88 96.6,-135.19 91.69,-126.27\"/>\n",
       "<polygon fill=\"black\" stroke=\"black\" points=\"94.61,-124.32 86.72,-117.26 88.48,-127.7 94.61,-124.32\"/>\n",
       "</g>\n",
       "<!-- 12 -->\n",
       "<g id=\"node13\" class=\"node\">\n",
       "<title>12</title>\n",
       "<text text-anchor=\"middle\" x=\"180\" y=\"-156.8\" font-family=\"Times,serif\" font-size=\"14.00\">&lt;xml&#45;tree&gt;</text>\n",
       "</g>\n",
       "<!-- 11&#45;&gt;12 -->\n",
       "<g id=\"edge12\" class=\"edge\">\n",
       "<title>11&#45;&gt;12</title>\n",
       "<path fill=\"none\" stroke=\"black\" d=\"M207.55,-203.69C203.01,-196.74 195.82,-185.73 189.92,-176.7\"/>\n",
       "<polygon fill=\"black\" stroke=\"black\" points=\"192.81,-174.71 184.41,-168.26 186.95,-178.54 192.81,-174.71\"/>\n",
       "</g>\n",
       "<!-- 19 -->\n",
       "<g id=\"node20\" class=\"node\">\n",
       "<title>19</title>\n",
       "<text text-anchor=\"middle\" x=\"262\" y=\"-156.8\" font-family=\"Times,serif\" font-size=\"14.00\">&lt;xml&#45;tree&gt;</text>\n",
       "</g>\n",
       "<!-- 11&#45;&gt;19 -->\n",
       "<g id=\"edge19\" class=\"edge\">\n",
       "<title>11&#45;&gt;19</title>\n",
       "<path fill=\"none\" stroke=\"black\" d=\"M218.95,-203.69C226.42,-196.37 238.47,-184.56 247.93,-175.29\"/>\n",
       "<polygon fill=\"black\" stroke=\"black\" points=\"250.41,-177.75 255.11,-168.26 245.51,-172.75 250.41,-177.75\"/>\n",
       "</g>\n",
       "<!-- 13 -->\n",
       "<g id=\"node14\" class=\"node\">\n",
       "<title>13</title>\n",
       "<text text-anchor=\"middle\" x=\"138\" y=\"-105.8\" font-family=\"Times,serif\" font-size=\"14.00\">&lt;xml&#45;tree&gt;</text>\n",
       "</g>\n",
       "<!-- 12&#45;&gt;13 -->\n",
       "<g id=\"edge13\" class=\"edge\">\n",
       "<title>12&#45;&gt;13</title>\n",
       "<path fill=\"none\" stroke=\"black\" d=\"M174.16,-152.69C168.08,-145.59 158.37,-134.26 150.54,-125.13\"/>\n",
       "<polygon fill=\"black\" stroke=\"black\" points=\"152.96,-122.57 143.79,-117.26 147.64,-127.13 152.96,-122.57\"/>\n",
       "</g>\n",
       "<!-- 16 -->\n",
       "<g id=\"node17\" class=\"node\">\n",
       "<title>16</title>\n",
       "<text text-anchor=\"middle\" x=\"220\" y=\"-105.8\" font-family=\"Times,serif\" font-size=\"14.00\">&lt;xml&#45;tree&gt;</text>\n",
       "</g>\n",
       "<!-- 12&#45;&gt;16 -->\n",
       "<g id=\"edge16\" class=\"edge\">\n",
       "<title>12&#45;&gt;16</title>\n",
       "<path fill=\"none\" stroke=\"black\" d=\"M185.56,-152.69C191.35,-145.59 200.6,-134.26 208.06,-125.13\"/>\n",
       "<polygon fill=\"black\" stroke=\"black\" points=\"210.87,-127.22 214.49,-117.26 205.45,-122.79 210.87,-127.22\"/>\n",
       "</g>\n",
       "<!-- 14 -->\n",
       "<g id=\"node15\" class=\"node\">\n",
       "<title>14</title>\n",
       "<text text-anchor=\"middle\" x=\"138\" y=\"-54.8\" font-family=\"Times,serif\" font-size=\"14.00\">&lt;text&gt;</text>\n",
       "</g>\n",
       "<!-- 13&#45;&gt;14 -->\n",
       "<g id=\"edge14\" class=\"edge\">\n",
       "<title>13&#45;&gt;14</title>\n",
       "<path fill=\"none\" stroke=\"black\" d=\"M138,-101.69C138,-95.18 138,-85.1 138,-76.43\"/>\n",
       "<polygon fill=\"black\" stroke=\"black\" points=\"141.5,-76.26 138,-66.26 134.5,-76.26 141.5,-76.26\"/>\n",
       "</g>\n",
       "<!-- 15 -->\n",
       "<g id=\"node16\" class=\"node\">\n",
       "<title>15</title>\n",
       "<text text-anchor=\"middle\" x=\"138\" y=\"-3.8\" font-family=\"Times,serif\" font-size=\"14.00\">e</text>\n",
       "</g>\n",
       "<!-- 14&#45;&gt;15 -->\n",
       "<g id=\"edge15\" class=\"edge\">\n",
       "<title>14&#45;&gt;15</title>\n",
       "<path fill=\"none\" stroke=\"black\" d=\"M138,-50.69C138,-44.18 138,-34.1 138,-25.43\"/>\n",
       "<polygon fill=\"black\" stroke=\"black\" points=\"141.5,-25.26 138,-15.26 134.5,-25.26 141.5,-25.26\"/>\n",
       "</g>\n",
       "<!-- 17 -->\n",
       "<g id=\"node18\" class=\"node\">\n",
       "<title>17</title>\n",
       "<text text-anchor=\"middle\" x=\"220\" y=\"-54.8\" font-family=\"Times,serif\" font-size=\"14.00\">&lt;text&gt;</text>\n",
       "</g>\n",
       "<!-- 16&#45;&gt;17 -->\n",
       "<g id=\"edge17\" class=\"edge\">\n",
       "<title>16&#45;&gt;17</title>\n",
       "<path fill=\"none\" stroke=\"black\" d=\"M220,-101.69C220,-95.18 220,-85.1 220,-76.43\"/>\n",
       "<polygon fill=\"black\" stroke=\"black\" points=\"223.5,-76.26 220,-66.26 216.5,-76.26 223.5,-76.26\"/>\n",
       "</g>\n",
       "<!-- 18 -->\n",
       "<g id=\"node19\" class=\"node\">\n",
       "<title>18</title>\n",
       "<text text-anchor=\"middle\" x=\"220\" y=\"-3.8\" font-family=\"Times,serif\" font-size=\"14.00\">x</text>\n",
       "</g>\n",
       "<!-- 17&#45;&gt;18 -->\n",
       "<g id=\"edge18\" class=\"edge\">\n",
       "<title>17&#45;&gt;18</title>\n",
       "<path fill=\"none\" stroke=\"black\" d=\"M220,-50.69C220,-44.18 220,-34.1 220,-25.43\"/>\n",
       "<polygon fill=\"black\" stroke=\"black\" points=\"223.5,-25.26 220,-15.26 216.5,-25.26 223.5,-25.26\"/>\n",
       "</g>\n",
       "<!-- 20 -->\n",
       "<g id=\"node21\" class=\"node\">\n",
       "<title>20</title>\n",
       "<text text-anchor=\"middle\" x=\"289\" y=\"-105.8\" font-family=\"Times,serif\" font-size=\"14.00\">&lt;text&gt;</text>\n",
       "</g>\n",
       "<!-- 19&#45;&gt;20 -->\n",
       "<g id=\"edge20\" class=\"edge\">\n",
       "<title>19&#45;&gt;20</title>\n",
       "<path fill=\"none\" stroke=\"black\" d=\"M265.75,-152.69C269.5,-145.88 275.4,-135.19 280.31,-126.27\"/>\n",
       "<polygon fill=\"black\" stroke=\"black\" points=\"283.52,-127.7 285.28,-117.26 277.39,-124.32 283.52,-127.7\"/>\n",
       "</g>\n",
       "<!-- 21 -->\n",
       "<g id=\"node22\" class=\"node\">\n",
       "<title>21</title>\n",
       "<text text-anchor=\"middle\" x=\"289\" y=\"-54.8\" font-family=\"Times,serif\" font-size=\"14.00\">t</text>\n",
       "</g>\n",
       "<!-- 20&#45;&gt;21 -->\n",
       "<g id=\"edge21\" class=\"edge\">\n",
       "<title>20&#45;&gt;21</title>\n",
       "<path fill=\"none\" stroke=\"black\" d=\"M289,-101.69C289,-95.18 289,-85.1 289,-76.43\"/>\n",
       "<polygon fill=\"black\" stroke=\"black\" points=\"292.5,-76.26 289,-66.26 285.5,-76.26 292.5,-76.26\"/>\n",
       "</g>\n",
       "<!-- 23 -->\n",
       "<g id=\"node24\" class=\"node\">\n",
       "<title>23</title>\n",
       "<text text-anchor=\"middle\" x=\"268\" y=\"-207.8\" font-family=\"Times,serif\" font-size=\"14.00\">&lt;/</text>\n",
       "</g>\n",
       "<!-- 22&#45;&gt;23 -->\n",
       "<g id=\"edge23\" class=\"edge\">\n",
       "<title>22&#45;&gt;23</title>\n",
       "<path fill=\"none\" stroke=\"black\" d=\"M279.19,-254.69C277.45,-248.1 274.73,-237.87 272.41,-229.14\"/>\n",
       "<polygon fill=\"black\" stroke=\"black\" points=\"275.74,-228.02 269.79,-219.26 268.97,-229.82 275.74,-228.02\"/>\n",
       "</g>\n",
       "<!-- 24 -->\n",
       "<g id=\"node25\" class=\"node\">\n",
       "<title>24</title>\n",
       "<text text-anchor=\"middle\" x=\"306\" y=\"-207.8\" font-family=\"Times,serif\" font-size=\"14.00\">&lt;id&gt;</text>\n",
       "</g>\n",
       "<!-- 22&#45;&gt;24 -->\n",
       "<g id=\"edge24\" class=\"edge\">\n",
       "<title>22&#45;&gt;24</title>\n",
       "<path fill=\"none\" stroke=\"black\" d=\"M284.48,-254.69C287.95,-247.88 293.4,-237.19 297.95,-228.27\"/>\n",
       "<polygon fill=\"black\" stroke=\"black\" points=\"301.13,-229.75 302.55,-219.26 294.89,-226.57 301.13,-229.75\"/>\n",
       "</g>\n",
       "<!-- 26 -->\n",
       "<g id=\"node27\" class=\"node\">\n",
       "<title>26</title>\n",
       "<text text-anchor=\"middle\" x=\"342\" y=\"-207.8\" font-family=\"Times,serif\" font-size=\"14.00\">&gt;</text>\n",
       "</g>\n",
       "<!-- 22&#45;&gt;26 -->\n",
       "<g id=\"edge26\" class=\"edge\">\n",
       "<title>22&#45;&gt;26</title>\n",
       "<path fill=\"none\" stroke=\"black\" d=\"M289.23,-254.89C299.7,-246.48 317.86,-231.89 329.91,-222.21\"/>\n",
       "<polygon fill=\"black\" stroke=\"black\" points=\"332.39,-224.71 337.99,-215.72 328.01,-219.25 332.39,-224.71\"/>\n",
       "</g>\n",
       "<!-- 25 -->\n",
       "<g id=\"node26\" class=\"node\">\n",
       "<title>25</title>\n",
       "<text text-anchor=\"middle\" x=\"325\" y=\"-156.8\" font-family=\"Times,serif\" font-size=\"14.00\">html</text>\n",
       "</g>\n",
       "<!-- 24&#45;&gt;25 -->\n",
       "<g id=\"edge25\" class=\"edge\">\n",
       "<title>24&#45;&gt;25</title>\n",
       "<path fill=\"none\" stroke=\"black\" d=\"M308.64,-203.69C311.22,-197.03 315.25,-186.65 318.66,-177.85\"/>\n",
       "<polygon fill=\"black\" stroke=\"black\" points=\"322.03,-178.84 322.38,-168.26 315.5,-176.31 322.03,-178.84\"/>\n",
       "</g>\n",
       "</g>\n",
       "</svg>\n"
      ],
      "text/plain": [
       "<graphviz.dot.Digraph at 0x12106f0d0>"
      ]
     },
     "metadata": {},
     "output_type": "display_data"
    },
    {
     "data": {
      "image/svg+xml": [
       "<?xml version=\"1.0\" encoding=\"UTF-8\" standalone=\"no\"?>\n",
       "<!DOCTYPE svg PUBLIC \"-//W3C//DTD SVG 1.1//EN\"\n",
       " \"http://www.w3.org/Graphics/SVG/1.1/DTD/svg11.dtd\">\n",
       "<!-- Generated by graphviz version 2.49.3 (20211023.0002)\n",
       " -->\n",
       "<!-- Pages: 1 -->\n",
       "<svg width=\"377pt\" height=\"380pt\"\n",
       " viewBox=\"0.00 0.00 377.00 380.00\" xmlns=\"http://www.w3.org/2000/svg\" xmlns:xlink=\"http://www.w3.org/1999/xlink\">\n",
       "<g id=\"graph0\" class=\"graph\" transform=\"scale(1 1) rotate(0) translate(4 376)\">\n",
       "<polygon fill=\"white\" stroke=\"transparent\" points=\"-4,4 -4,-376 373,-376 373,4 -4,4\"/>\n",
       "<!-- 0 -->\n",
       "<g id=\"node1\" class=\"node\">\n",
       "<title>0</title>\n",
       "<text text-anchor=\"middle\" x=\"175\" y=\"-360.8\" font-family=\"Times,serif\" font-size=\"14.00\">&lt;start&gt;</text>\n",
       "</g>\n",
       "<!-- 1 -->\n",
       "<g id=\"node2\" class=\"node\">\n",
       "<title>1</title>\n",
       "<text text-anchor=\"middle\" x=\"175\" y=\"-309.8\" font-family=\"Times,serif\" font-size=\"14.00\">&lt;xml&#45;tree&gt;</text>\n",
       "</g>\n",
       "<!-- 0&#45;&gt;1 -->\n",
       "<g id=\"edge1\" class=\"edge\">\n",
       "<title>0&#45;&gt;1</title>\n",
       "<path fill=\"none\" stroke=\"black\" d=\"M175,-356.69C175,-350.18 175,-340.1 175,-331.43\"/>\n",
       "<polygon fill=\"black\" stroke=\"black\" points=\"178.5,-331.26 175,-321.26 171.5,-331.26 178.5,-331.26\"/>\n",
       "</g>\n",
       "<!-- 2 -->\n",
       "<g id=\"node3\" class=\"node\">\n",
       "<title>2</title>\n",
       "<text text-anchor=\"middle\" x=\"62\" y=\"-258.8\" font-family=\"Times,serif\" font-size=\"14.00\">&lt;xml&#45;open&#45;tag&gt;</text>\n",
       "</g>\n",
       "<!-- 1&#45;&gt;2 -->\n",
       "<g id=\"edge2\" class=\"edge\">\n",
       "<title>1&#45;&gt;2</title>\n",
       "<path fill=\"none\" stroke=\"black\" d=\"M159.76,-305.89C140.95,-297.74 108.74,-283.77 86.45,-274.1\"/>\n",
       "<polygon fill=\"black\" stroke=\"black\" points=\"87.57,-270.77 77,-270 84.78,-277.19 87.57,-270.77\"/>\n",
       "</g>\n",
       "<!-- 7 -->\n",
       "<g id=\"node8\" class=\"node\">\n",
       "<title>7</title>\n",
       "<text text-anchor=\"middle\" x=\"175\" y=\"-258.8\" font-family=\"Times,serif\" font-size=\"14.00\">&lt;xml&#45;tree&gt;</text>\n",
       "</g>\n",
       "<!-- 1&#45;&gt;7 -->\n",
       "<g id=\"edge7\" class=\"edge\">\n",
       "<title>1&#45;&gt;7</title>\n",
       "<path fill=\"none\" stroke=\"black\" d=\"M175,-305.69C175,-299.18 175,-289.1 175,-280.43\"/>\n",
       "<polygon fill=\"black\" stroke=\"black\" points=\"178.5,-280.26 175,-270.26 171.5,-280.26 178.5,-280.26\"/>\n",
       "</g>\n",
       "<!-- 22 -->\n",
       "<g id=\"node23\" class=\"node\">\n",
       "<title>22</title>\n",
       "<text text-anchor=\"middle\" x=\"281\" y=\"-258.8\" font-family=\"Times,serif\" font-size=\"14.00\">&lt;xml&#45;close&#45;tag&gt;</text>\n",
       "</g>\n",
       "<!-- 1&#45;&gt;22 -->\n",
       "<g id=\"edge22\" class=\"edge\">\n",
       "<title>1&#45;&gt;22</title>\n",
       "<path fill=\"none\" stroke=\"black\" d=\"M189.3,-305.89C206.86,-297.77 236.89,-283.89 257.78,-274.23\"/>\n",
       "<polygon fill=\"black\" stroke=\"black\" points=\"259.32,-277.38 266.93,-270 256.39,-271.02 259.32,-277.38\"/>\n",
       "</g>\n",
       "<!-- 3 -->\n",
       "<g id=\"node4\" class=\"node\">\n",
       "<title>3</title>\n",
       "<text text-anchor=\"middle\" x=\"4\" y=\"-207.8\" font-family=\"Times,serif\" font-size=\"14.00\">&lt;</text>\n",
       "</g>\n",
       "<!-- 2&#45;&gt;3 -->\n",
       "<g id=\"edge3\" class=\"edge\">\n",
       "<title>2&#45;&gt;3</title>\n",
       "<path fill=\"none\" stroke=\"black\" d=\"M53.94,-254.69C44.01,-246.3 27.09,-232.01 15.73,-222.41\"/>\n",
       "<polygon fill=\"black\" stroke=\"black\" points=\"17.95,-219.7 8.05,-215.92 13.43,-225.05 17.95,-219.7\"/>\n",
       "</g>\n",
       "<!-- 4 -->\n",
       "<g id=\"node5\" class=\"node\">\n",
       "<title>4</title>\n",
       "<text text-anchor=\"middle\" x=\"40\" y=\"-207.8\" font-family=\"Times,serif\" font-size=\"14.00\">&lt;id&gt;</text>\n",
       "</g>\n",
       "<!-- 2&#45;&gt;4 -->\n",
       "<g id=\"edge4\" class=\"edge\">\n",
       "<title>2&#45;&gt;4</title>\n",
       "<path fill=\"none\" stroke=\"black\" d=\"M58.94,-254.69C55.92,-247.96 51.19,-237.42 47.21,-228.56\"/>\n",
       "<polygon fill=\"black\" stroke=\"black\" points=\"50.32,-226.94 43.03,-219.26 43.94,-229.81 50.32,-226.94\"/>\n",
       "</g>\n",
       "<!-- 6 -->\n",
       "<g id=\"node7\" class=\"node\">\n",
       "<title>6</title>\n",
       "<text text-anchor=\"middle\" x=\"76\" y=\"-207.8\" font-family=\"Times,serif\" font-size=\"14.00\">&gt;</text>\n",
       "</g>\n",
       "<!-- 2&#45;&gt;6 -->\n",
       "<g id=\"edge6\" class=\"edge\">\n",
       "<title>2&#45;&gt;6</title>\n",
       "<path fill=\"none\" stroke=\"black\" d=\"M63.95,-254.69C65.83,-248.1 68.75,-237.87 71.25,-229.14\"/>\n",
       "<polygon fill=\"black\" stroke=\"black\" points=\"74.69,-229.83 74.07,-219.26 67.96,-227.91 74.69,-229.83\"/>\n",
       "</g>\n",
       "<!-- 5 -->\n",
       "<g id=\"node6\" class=\"node\">\n",
       "<title>5</title>\n",
       "<text text-anchor=\"middle\" x=\"40\" y=\"-156.8\" font-family=\"Times,serif\" font-size=\"14.00\">html</text>\n",
       "</g>\n",
       "<!-- 4&#45;&gt;5 -->\n",
       "<g id=\"edge5\" class=\"edge\">\n",
       "<title>4&#45;&gt;5</title>\n",
       "<path fill=\"none\" stroke=\"black\" d=\"M40,-203.69C40,-197.18 40,-187.1 40,-178.43\"/>\n",
       "<polygon fill=\"black\" stroke=\"black\" points=\"43.5,-178.26 40,-168.26 36.5,-178.26 43.5,-178.26\"/>\n",
       "</g>\n",
       "<!-- 8 -->\n",
       "<g id=\"node9\" class=\"node\">\n",
       "<title>8</title>\n",
       "<text text-anchor=\"middle\" x=\"130\" y=\"-207.8\" font-family=\"Times,serif\" font-size=\"14.00\">&lt;xml&#45;tree&gt;</text>\n",
       "</g>\n",
       "<!-- 7&#45;&gt;8 -->\n",
       "<g id=\"edge8\" class=\"edge\">\n",
       "<title>7&#45;&gt;8</title>\n",
       "<path fill=\"none\" stroke=\"black\" d=\"M168.74,-254.69C162.16,-247.52 151.61,-236.03 143.18,-226.85\"/>\n",
       "<polygon fill=\"black\" stroke=\"black\" points=\"145.55,-224.25 136.2,-219.26 140.39,-228.99 145.55,-224.25\"/>\n",
       "</g>\n",
       "<!-- 11 -->\n",
       "<g id=\"node12\" class=\"node\">\n",
       "<title>11</title>\n",
       "<text text-anchor=\"middle\" x=\"212\" y=\"-207.8\" font-family=\"Times,serif\" font-size=\"14.00\">&lt;xml&#45;tree&gt;</text>\n",
       "</g>\n",
       "<!-- 7&#45;&gt;11 -->\n",
       "<g id=\"edge11\" class=\"edge\">\n",
       "<title>7&#45;&gt;11</title>\n",
       "<path fill=\"none\" stroke=\"black\" d=\"M180.14,-254.69C185.45,-247.67 193.88,-236.49 200.74,-227.41\"/>\n",
       "<polygon fill=\"black\" stroke=\"black\" points=\"203.67,-229.34 206.9,-219.26 198.08,-225.13 203.67,-229.34\"/>\n",
       "</g>\n",
       "<!-- 9 -->\n",
       "<g id=\"node10\" class=\"node\">\n",
       "<title>9</title>\n",
       "<text text-anchor=\"middle\" x=\"111\" y=\"-156.8\" font-family=\"Times,serif\" font-size=\"14.00\">&lt;text&gt;</text>\n",
       "</g>\n",
       "<!-- 8&#45;&gt;9 -->\n",
       "<g id=\"edge9\" class=\"edge\">\n",
       "<title>8&#45;&gt;9</title>\n",
       "<path fill=\"none\" stroke=\"black\" d=\"M127.36,-203.69C124.78,-197.03 120.75,-186.65 117.34,-177.85\"/>\n",
       "<polygon fill=\"black\" stroke=\"black\" points=\"120.5,-176.31 113.62,-168.26 113.97,-178.84 120.5,-176.31\"/>\n",
       "</g>\n",
       "<!-- 10 -->\n",
       "<g id=\"node11\" class=\"node\">\n",
       "<title>10</title>\n",
       "<text text-anchor=\"middle\" x=\"111\" y=\"-105.8\" font-family=\"Times,serif\" font-size=\"14.00\">T</text>\n",
       "</g>\n",
       "<!-- 9&#45;&gt;10 -->\n",
       "<g id=\"edge10\" class=\"edge\">\n",
       "<title>9&#45;&gt;10</title>\n",
       "<path fill=\"none\" stroke=\"black\" d=\"M111,-152.69C111,-146.18 111,-136.1 111,-127.43\"/>\n",
       "<polygon fill=\"black\" stroke=\"black\" points=\"114.5,-127.26 111,-117.26 107.5,-127.26 114.5,-127.26\"/>\n",
       "</g>\n",
       "<!-- 12 -->\n",
       "<g id=\"node13\" class=\"node\">\n",
       "<title>12</title>\n",
       "<text text-anchor=\"middle\" x=\"180\" y=\"-156.8\" font-family=\"Times,serif\" font-size=\"14.00\">&lt;xml&#45;tree&gt;</text>\n",
       "</g>\n",
       "<!-- 11&#45;&gt;12 -->\n",
       "<g id=\"edge12\" class=\"edge\">\n",
       "<title>11&#45;&gt;12</title>\n",
       "<path fill=\"none\" stroke=\"black\" d=\"M207.55,-203.69C203.01,-196.74 195.82,-185.73 189.92,-176.7\"/>\n",
       "<polygon fill=\"black\" stroke=\"black\" points=\"192.81,-174.71 184.41,-168.26 186.95,-178.54 192.81,-174.71\"/>\n",
       "</g>\n",
       "<!-- 15 -->\n",
       "<g id=\"node16\" class=\"node\">\n",
       "<title>15</title>\n",
       "<text text-anchor=\"middle\" x=\"262\" y=\"-156.8\" font-family=\"Times,serif\" font-size=\"14.00\">&lt;xml&#45;tree&gt;</text>\n",
       "</g>\n",
       "<!-- 11&#45;&gt;15 -->\n",
       "<g id=\"edge15\" class=\"edge\">\n",
       "<title>11&#45;&gt;15</title>\n",
       "<path fill=\"none\" stroke=\"black\" d=\"M218.95,-203.69C226.42,-196.37 238.47,-184.56 247.93,-175.29\"/>\n",
       "<polygon fill=\"black\" stroke=\"black\" points=\"250.41,-177.75 255.11,-168.26 245.51,-172.75 250.41,-177.75\"/>\n",
       "</g>\n",
       "<!-- 13 -->\n",
       "<g id=\"node14\" class=\"node\">\n",
       "<title>13</title>\n",
       "<text text-anchor=\"middle\" x=\"180\" y=\"-105.8\" font-family=\"Times,serif\" font-size=\"14.00\">&lt;text&gt;</text>\n",
       "</g>\n",
       "<!-- 12&#45;&gt;13 -->\n",
       "<g id=\"edge13\" class=\"edge\">\n",
       "<title>12&#45;&gt;13</title>\n",
       "<path fill=\"none\" stroke=\"black\" d=\"M180,-152.69C180,-146.18 180,-136.1 180,-127.43\"/>\n",
       "<polygon fill=\"black\" stroke=\"black\" points=\"183.5,-127.26 180,-117.26 176.5,-127.26 183.5,-127.26\"/>\n",
       "</g>\n",
       "<!-- 14 -->\n",
       "<g id=\"node15\" class=\"node\">\n",
       "<title>14</title>\n",
       "<text text-anchor=\"middle\" x=\"180\" y=\"-54.8\" font-family=\"Times,serif\" font-size=\"14.00\">e</text>\n",
       "</g>\n",
       "<!-- 13&#45;&gt;14 -->\n",
       "<g id=\"edge14\" class=\"edge\">\n",
       "<title>13&#45;&gt;14</title>\n",
       "<path fill=\"none\" stroke=\"black\" d=\"M180,-101.69C180,-95.18 180,-85.1 180,-76.43\"/>\n",
       "<polygon fill=\"black\" stroke=\"black\" points=\"183.5,-76.26 180,-66.26 176.5,-76.26 183.5,-76.26\"/>\n",
       "</g>\n",
       "<!-- 16 -->\n",
       "<g id=\"node17\" class=\"node\">\n",
       "<title>16</title>\n",
       "<text text-anchor=\"middle\" x=\"255\" y=\"-105.8\" font-family=\"Times,serif\" font-size=\"14.00\">&lt;xml&#45;tree&gt;</text>\n",
       "</g>\n",
       "<!-- 15&#45;&gt;16 -->\n",
       "<g id=\"edge16\" class=\"edge\">\n",
       "<title>15&#45;&gt;16</title>\n",
       "<path fill=\"none\" stroke=\"black\" d=\"M261.03,-152.69C260.1,-146.18 258.66,-136.1 257.42,-127.43\"/>\n",
       "<polygon fill=\"black\" stroke=\"black\" points=\"260.84,-126.66 255.97,-117.26 253.91,-127.65 260.84,-126.66\"/>\n",
       "</g>\n",
       "<!-- 19 -->\n",
       "<g id=\"node20\" class=\"node\">\n",
       "<title>19</title>\n",
       "<text text-anchor=\"middle\" x=\"337\" y=\"-105.8\" font-family=\"Times,serif\" font-size=\"14.00\">&lt;xml&#45;tree&gt;</text>\n",
       "</g>\n",
       "<!-- 15&#45;&gt;19 -->\n",
       "<g id=\"edge19\" class=\"edge\">\n",
       "<title>15&#45;&gt;19</title>\n",
       "<path fill=\"none\" stroke=\"black\" d=\"M272.11,-152.89C283.92,-145.18 303.7,-132.26 318.32,-122.71\"/>\n",
       "<polygon fill=\"black\" stroke=\"black\" points=\"320.59,-125.4 327.05,-117 316.76,-119.54 320.59,-125.4\"/>\n",
       "</g>\n",
       "<!-- 17 -->\n",
       "<g id=\"node18\" class=\"node\">\n",
       "<title>17</title>\n",
       "<text text-anchor=\"middle\" x=\"255\" y=\"-54.8\" font-family=\"Times,serif\" font-size=\"14.00\">&lt;text&gt;</text>\n",
       "</g>\n",
       "<!-- 16&#45;&gt;17 -->\n",
       "<g id=\"edge17\" class=\"edge\">\n",
       "<title>16&#45;&gt;17</title>\n",
       "<path fill=\"none\" stroke=\"black\" d=\"M255,-101.69C255,-95.18 255,-85.1 255,-76.43\"/>\n",
       "<polygon fill=\"black\" stroke=\"black\" points=\"258.5,-76.26 255,-66.26 251.5,-76.26 258.5,-76.26\"/>\n",
       "</g>\n",
       "<!-- 18 -->\n",
       "<g id=\"node19\" class=\"node\">\n",
       "<title>18</title>\n",
       "<text text-anchor=\"middle\" x=\"255\" y=\"-3.8\" font-family=\"Times,serif\" font-size=\"14.00\">x</text>\n",
       "</g>\n",
       "<!-- 17&#45;&gt;18 -->\n",
       "<g id=\"edge18\" class=\"edge\">\n",
       "<title>17&#45;&gt;18</title>\n",
       "<path fill=\"none\" stroke=\"black\" d=\"M255,-50.69C255,-44.18 255,-34.1 255,-25.43\"/>\n",
       "<polygon fill=\"black\" stroke=\"black\" points=\"258.5,-25.26 255,-15.26 251.5,-25.26 258.5,-25.26\"/>\n",
       "</g>\n",
       "<!-- 20 -->\n",
       "<g id=\"node21\" class=\"node\">\n",
       "<title>20</title>\n",
       "<text text-anchor=\"middle\" x=\"337\" y=\"-54.8\" font-family=\"Times,serif\" font-size=\"14.00\">&lt;text&gt;</text>\n",
       "</g>\n",
       "<!-- 19&#45;&gt;20 -->\n",
       "<g id=\"edge20\" class=\"edge\">\n",
       "<title>19&#45;&gt;20</title>\n",
       "<path fill=\"none\" stroke=\"black\" d=\"M337,-101.69C337,-95.18 337,-85.1 337,-76.43\"/>\n",
       "<polygon fill=\"black\" stroke=\"black\" points=\"340.5,-76.26 337,-66.26 333.5,-76.26 340.5,-76.26\"/>\n",
       "</g>\n",
       "<!-- 21 -->\n",
       "<g id=\"node22\" class=\"node\">\n",
       "<title>21</title>\n",
       "<text text-anchor=\"middle\" x=\"337\" y=\"-3.8\" font-family=\"Times,serif\" font-size=\"14.00\">t</text>\n",
       "</g>\n",
       "<!-- 20&#45;&gt;21 -->\n",
       "<g id=\"edge21\" class=\"edge\">\n",
       "<title>20&#45;&gt;21</title>\n",
       "<path fill=\"none\" stroke=\"black\" d=\"M337,-50.69C337,-44.18 337,-34.1 337,-25.43\"/>\n",
       "<polygon fill=\"black\" stroke=\"black\" points=\"340.5,-25.26 337,-15.26 333.5,-25.26 340.5,-25.26\"/>\n",
       "</g>\n",
       "<!-- 23 -->\n",
       "<g id=\"node24\" class=\"node\">\n",
       "<title>23</title>\n",
       "<text text-anchor=\"middle\" x=\"268\" y=\"-207.8\" font-family=\"Times,serif\" font-size=\"14.00\">&lt;/</text>\n",
       "</g>\n",
       "<!-- 22&#45;&gt;23 -->\n",
       "<g id=\"edge23\" class=\"edge\">\n",
       "<title>22&#45;&gt;23</title>\n",
       "<path fill=\"none\" stroke=\"black\" d=\"M279.19,-254.69C277.45,-248.1 274.73,-237.87 272.41,-229.14\"/>\n",
       "<polygon fill=\"black\" stroke=\"black\" points=\"275.74,-228.02 269.79,-219.26 268.97,-229.82 275.74,-228.02\"/>\n",
       "</g>\n",
       "<!-- 24 -->\n",
       "<g id=\"node25\" class=\"node\">\n",
       "<title>24</title>\n",
       "<text text-anchor=\"middle\" x=\"306\" y=\"-207.8\" font-family=\"Times,serif\" font-size=\"14.00\">&lt;id&gt;</text>\n",
       "</g>\n",
       "<!-- 22&#45;&gt;24 -->\n",
       "<g id=\"edge24\" class=\"edge\">\n",
       "<title>22&#45;&gt;24</title>\n",
       "<path fill=\"none\" stroke=\"black\" d=\"M284.48,-254.69C287.95,-247.88 293.4,-237.19 297.95,-228.27\"/>\n",
       "<polygon fill=\"black\" stroke=\"black\" points=\"301.13,-229.75 302.55,-219.26 294.89,-226.57 301.13,-229.75\"/>\n",
       "</g>\n",
       "<!-- 26 -->\n",
       "<g id=\"node27\" class=\"node\">\n",
       "<title>26</title>\n",
       "<text text-anchor=\"middle\" x=\"342\" y=\"-207.8\" font-family=\"Times,serif\" font-size=\"14.00\">&gt;</text>\n",
       "</g>\n",
       "<!-- 22&#45;&gt;26 -->\n",
       "<g id=\"edge26\" class=\"edge\">\n",
       "<title>22&#45;&gt;26</title>\n",
       "<path fill=\"none\" stroke=\"black\" d=\"M289.23,-254.89C299.7,-246.48 317.86,-231.89 329.91,-222.21\"/>\n",
       "<polygon fill=\"black\" stroke=\"black\" points=\"332.39,-224.71 337.99,-215.72 328.01,-219.25 332.39,-224.71\"/>\n",
       "</g>\n",
       "<!-- 25 -->\n",
       "<g id=\"node26\" class=\"node\">\n",
       "<title>25</title>\n",
       "<text text-anchor=\"middle\" x=\"325\" y=\"-156.8\" font-family=\"Times,serif\" font-size=\"14.00\">html</text>\n",
       "</g>\n",
       "<!-- 24&#45;&gt;25 -->\n",
       "<g id=\"edge25\" class=\"edge\">\n",
       "<title>24&#45;&gt;25</title>\n",
       "<path fill=\"none\" stroke=\"black\" d=\"M308.64,-203.69C311.22,-197.03 315.25,-186.65 318.66,-177.85\"/>\n",
       "<polygon fill=\"black\" stroke=\"black\" points=\"322.03,-178.84 322.38,-168.26 315.5,-176.31 322.03,-178.84\"/>\n",
       "</g>\n",
       "</g>\n",
       "</svg>\n"
      ],
      "text/plain": [
       "<graphviz.dot.Digraph at 0x12106f130>"
      ]
     },
     "metadata": {},
     "output_type": "display_data"
    },
    {
     "data": {
      "image/svg+xml": [
       "<?xml version=\"1.0\" encoding=\"UTF-8\" standalone=\"no\"?>\n",
       "<!DOCTYPE svg PUBLIC \"-//W3C//DTD SVG 1.1//EN\"\n",
       " \"http://www.w3.org/Graphics/SVG/1.1/DTD/svg11.dtd\">\n",
       "<!-- Generated by graphviz version 2.49.3 (20211023.0002)\n",
       " -->\n",
       "<!-- Pages: 1 -->\n",
       "<svg width=\"354pt\" height=\"329pt\"\n",
       " viewBox=\"0.00 0.00 354.00 329.00\" xmlns=\"http://www.w3.org/2000/svg\" xmlns:xlink=\"http://www.w3.org/1999/xlink\">\n",
       "<g id=\"graph0\" class=\"graph\" transform=\"scale(1 1) rotate(0) translate(4 325)\">\n",
       "<polygon fill=\"white\" stroke=\"transparent\" points=\"-4,4 -4,-325 350,-325 350,4 -4,4\"/>\n",
       "<!-- 0 -->\n",
       "<g id=\"node1\" class=\"node\">\n",
       "<title>0</title>\n",
       "<text text-anchor=\"middle\" x=\"175\" y=\"-309.8\" font-family=\"Times,serif\" font-size=\"14.00\">&lt;start&gt;</text>\n",
       "</g>\n",
       "<!-- 1 -->\n",
       "<g id=\"node2\" class=\"node\">\n",
       "<title>1</title>\n",
       "<text text-anchor=\"middle\" x=\"175\" y=\"-258.8\" font-family=\"Times,serif\" font-size=\"14.00\">&lt;xml&#45;tree&gt;</text>\n",
       "</g>\n",
       "<!-- 0&#45;&gt;1 -->\n",
       "<g id=\"edge1\" class=\"edge\">\n",
       "<title>0&#45;&gt;1</title>\n",
       "<path fill=\"none\" stroke=\"black\" d=\"M175,-305.69C175,-299.18 175,-289.1 175,-280.43\"/>\n",
       "<polygon fill=\"black\" stroke=\"black\" points=\"178.5,-280.26 175,-270.26 171.5,-280.26 178.5,-280.26\"/>\n",
       "</g>\n",
       "<!-- 2 -->\n",
       "<g id=\"node3\" class=\"node\">\n",
       "<title>2</title>\n",
       "<text text-anchor=\"middle\" x=\"62\" y=\"-207.8\" font-family=\"Times,serif\" font-size=\"14.00\">&lt;xml&#45;open&#45;tag&gt;</text>\n",
       "</g>\n",
       "<!-- 1&#45;&gt;2 -->\n",
       "<g id=\"edge2\" class=\"edge\">\n",
       "<title>1&#45;&gt;2</title>\n",
       "<path fill=\"none\" stroke=\"black\" d=\"M159.76,-254.89C140.95,-246.74 108.74,-232.77 86.45,-223.1\"/>\n",
       "<polygon fill=\"black\" stroke=\"black\" points=\"87.57,-219.77 77,-219 84.78,-226.19 87.57,-219.77\"/>\n",
       "</g>\n",
       "<!-- 7 -->\n",
       "<g id=\"node8\" class=\"node\">\n",
       "<title>7</title>\n",
       "<text text-anchor=\"middle\" x=\"175\" y=\"-207.8\" font-family=\"Times,serif\" font-size=\"14.00\">&lt;xml&#45;tree&gt;</text>\n",
       "</g>\n",
       "<!-- 1&#45;&gt;7 -->\n",
       "<g id=\"edge7\" class=\"edge\">\n",
       "<title>1&#45;&gt;7</title>\n",
       "<path fill=\"none\" stroke=\"black\" d=\"M175,-254.69C175,-248.18 175,-238.1 175,-229.43\"/>\n",
       "<polygon fill=\"black\" stroke=\"black\" points=\"178.5,-229.26 175,-219.26 171.5,-229.26 178.5,-229.26\"/>\n",
       "</g>\n",
       "<!-- 18 -->\n",
       "<g id=\"node19\" class=\"node\">\n",
       "<title>18</title>\n",
       "<text text-anchor=\"middle\" x=\"281\" y=\"-207.8\" font-family=\"Times,serif\" font-size=\"14.00\">&lt;xml&#45;close&#45;tag&gt;</text>\n",
       "</g>\n",
       "<!-- 1&#45;&gt;18 -->\n",
       "<g id=\"edge18\" class=\"edge\">\n",
       "<title>1&#45;&gt;18</title>\n",
       "<path fill=\"none\" stroke=\"black\" d=\"M189.3,-254.89C206.86,-246.77 236.89,-232.89 257.78,-223.23\"/>\n",
       "<polygon fill=\"black\" stroke=\"black\" points=\"259.32,-226.38 266.93,-219 256.39,-220.02 259.32,-226.38\"/>\n",
       "</g>\n",
       "<!-- 3 -->\n",
       "<g id=\"node4\" class=\"node\">\n",
       "<title>3</title>\n",
       "<text text-anchor=\"middle\" x=\"4\" y=\"-156.8\" font-family=\"Times,serif\" font-size=\"14.00\">&lt;</text>\n",
       "</g>\n",
       "<!-- 2&#45;&gt;3 -->\n",
       "<g id=\"edge3\" class=\"edge\">\n",
       "<title>2&#45;&gt;3</title>\n",
       "<path fill=\"none\" stroke=\"black\" d=\"M53.94,-203.69C44.01,-195.3 27.09,-181.01 15.73,-171.41\"/>\n",
       "<polygon fill=\"black\" stroke=\"black\" points=\"17.95,-168.7 8.05,-164.92 13.43,-174.05 17.95,-168.7\"/>\n",
       "</g>\n",
       "<!-- 4 -->\n",
       "<g id=\"node5\" class=\"node\">\n",
       "<title>4</title>\n",
       "<text text-anchor=\"middle\" x=\"40\" y=\"-156.8\" font-family=\"Times,serif\" font-size=\"14.00\">&lt;id&gt;</text>\n",
       "</g>\n",
       "<!-- 2&#45;&gt;4 -->\n",
       "<g id=\"edge4\" class=\"edge\">\n",
       "<title>2&#45;&gt;4</title>\n",
       "<path fill=\"none\" stroke=\"black\" d=\"M58.94,-203.69C55.92,-196.96 51.19,-186.42 47.21,-177.56\"/>\n",
       "<polygon fill=\"black\" stroke=\"black\" points=\"50.32,-175.94 43.03,-168.26 43.94,-178.81 50.32,-175.94\"/>\n",
       "</g>\n",
       "<!-- 6 -->\n",
       "<g id=\"node7\" class=\"node\">\n",
       "<title>6</title>\n",
       "<text text-anchor=\"middle\" x=\"76\" y=\"-156.8\" font-family=\"Times,serif\" font-size=\"14.00\">&gt;</text>\n",
       "</g>\n",
       "<!-- 2&#45;&gt;6 -->\n",
       "<g id=\"edge6\" class=\"edge\">\n",
       "<title>2&#45;&gt;6</title>\n",
       "<path fill=\"none\" stroke=\"black\" d=\"M63.95,-203.69C65.83,-197.1 68.75,-186.87 71.25,-178.14\"/>\n",
       "<polygon fill=\"black\" stroke=\"black\" points=\"74.69,-178.83 74.07,-168.26 67.96,-176.91 74.69,-178.83\"/>\n",
       "</g>\n",
       "<!-- 5 -->\n",
       "<g id=\"node6\" class=\"node\">\n",
       "<title>5</title>\n",
       "<text text-anchor=\"middle\" x=\"40\" y=\"-105.8\" font-family=\"Times,serif\" font-size=\"14.00\">html</text>\n",
       "</g>\n",
       "<!-- 4&#45;&gt;5 -->\n",
       "<g id=\"edge5\" class=\"edge\">\n",
       "<title>4&#45;&gt;5</title>\n",
       "<path fill=\"none\" stroke=\"black\" d=\"M40,-152.69C40,-146.18 40,-136.1 40,-127.43\"/>\n",
       "<polygon fill=\"black\" stroke=\"black\" points=\"43.5,-127.26 40,-117.26 36.5,-127.26 43.5,-127.26\"/>\n",
       "</g>\n",
       "<!-- 8 -->\n",
       "<g id=\"node9\" class=\"node\">\n",
       "<title>8</title>\n",
       "<text text-anchor=\"middle\" x=\"130\" y=\"-156.8\" font-family=\"Times,serif\" font-size=\"14.00\">&lt;xml&#45;tree&gt;</text>\n",
       "</g>\n",
       "<!-- 7&#45;&gt;8 -->\n",
       "<g id=\"edge8\" class=\"edge\">\n",
       "<title>7&#45;&gt;8</title>\n",
       "<path fill=\"none\" stroke=\"black\" d=\"M168.74,-203.69C162.16,-196.52 151.61,-185.03 143.18,-175.85\"/>\n",
       "<polygon fill=\"black\" stroke=\"black\" points=\"145.55,-173.25 136.2,-168.26 140.39,-177.99 145.55,-173.25\"/>\n",
       "</g>\n",
       "<!-- 11 -->\n",
       "<g id=\"node12\" class=\"node\">\n",
       "<title>11</title>\n",
       "<text text-anchor=\"middle\" x=\"212\" y=\"-156.8\" font-family=\"Times,serif\" font-size=\"14.00\">&lt;xml&#45;tree&gt;</text>\n",
       "</g>\n",
       "<!-- 7&#45;&gt;11 -->\n",
       "<g id=\"edge11\" class=\"edge\">\n",
       "<title>7&#45;&gt;11</title>\n",
       "<path fill=\"none\" stroke=\"black\" d=\"M180.14,-203.69C185.45,-196.67 193.88,-185.49 200.74,-176.41\"/>\n",
       "<polygon fill=\"black\" stroke=\"black\" points=\"203.67,-178.34 206.9,-168.26 198.08,-174.13 203.67,-178.34\"/>\n",
       "</g>\n",
       "<!-- 9 -->\n",
       "<g id=\"node10\" class=\"node\">\n",
       "<title>9</title>\n",
       "<text text-anchor=\"middle\" x=\"111\" y=\"-105.8\" font-family=\"Times,serif\" font-size=\"14.00\">&lt;text&gt;</text>\n",
       "</g>\n",
       "<!-- 8&#45;&gt;9 -->\n",
       "<g id=\"edge9\" class=\"edge\">\n",
       "<title>8&#45;&gt;9</title>\n",
       "<path fill=\"none\" stroke=\"black\" d=\"M127.36,-152.69C124.78,-146.03 120.75,-135.65 117.34,-126.85\"/>\n",
       "<polygon fill=\"black\" stroke=\"black\" points=\"120.5,-125.31 113.62,-117.26 113.97,-127.84 120.5,-125.31\"/>\n",
       "</g>\n",
       "<!-- 10 -->\n",
       "<g id=\"node11\" class=\"node\">\n",
       "<title>10</title>\n",
       "<text text-anchor=\"middle\" x=\"111\" y=\"-54.8\" font-family=\"Times,serif\" font-size=\"14.00\">Te</text>\n",
       "</g>\n",
       "<!-- 9&#45;&gt;10 -->\n",
       "<g id=\"edge10\" class=\"edge\">\n",
       "<title>9&#45;&gt;10</title>\n",
       "<path fill=\"none\" stroke=\"black\" d=\"M111,-101.69C111,-95.18 111,-85.1 111,-76.43\"/>\n",
       "<polygon fill=\"black\" stroke=\"black\" points=\"114.5,-76.26 111,-66.26 107.5,-76.26 114.5,-76.26\"/>\n",
       "</g>\n",
       "<!-- 12 -->\n",
       "<g id=\"node13\" class=\"node\">\n",
       "<title>12</title>\n",
       "<text text-anchor=\"middle\" x=\"180\" y=\"-105.8\" font-family=\"Times,serif\" font-size=\"14.00\">&lt;xml&#45;tree&gt;</text>\n",
       "</g>\n",
       "<!-- 11&#45;&gt;12 -->\n",
       "<g id=\"edge12\" class=\"edge\">\n",
       "<title>11&#45;&gt;12</title>\n",
       "<path fill=\"none\" stroke=\"black\" d=\"M207.55,-152.69C203.01,-145.74 195.82,-134.73 189.92,-125.7\"/>\n",
       "<polygon fill=\"black\" stroke=\"black\" points=\"192.81,-123.71 184.41,-117.26 186.95,-127.54 192.81,-123.71\"/>\n",
       "</g>\n",
       "<!-- 15 -->\n",
       "<g id=\"node16\" class=\"node\">\n",
       "<title>15</title>\n",
       "<text text-anchor=\"middle\" x=\"262\" y=\"-105.8\" font-family=\"Times,serif\" font-size=\"14.00\">&lt;xml&#45;tree&gt;</text>\n",
       "</g>\n",
       "<!-- 11&#45;&gt;15 -->\n",
       "<g id=\"edge15\" class=\"edge\">\n",
       "<title>11&#45;&gt;15</title>\n",
       "<path fill=\"none\" stroke=\"black\" d=\"M218.95,-152.69C226.42,-145.37 238.47,-133.56 247.93,-124.29\"/>\n",
       "<polygon fill=\"black\" stroke=\"black\" points=\"250.41,-126.75 255.11,-117.26 245.51,-121.75 250.41,-126.75\"/>\n",
       "</g>\n",
       "<!-- 13 -->\n",
       "<g id=\"node14\" class=\"node\">\n",
       "<title>13</title>\n",
       "<text text-anchor=\"middle\" x=\"180\" y=\"-54.8\" font-family=\"Times,serif\" font-size=\"14.00\">&lt;text&gt;</text>\n",
       "</g>\n",
       "<!-- 12&#45;&gt;13 -->\n",
       "<g id=\"edge13\" class=\"edge\">\n",
       "<title>12&#45;&gt;13</title>\n",
       "<path fill=\"none\" stroke=\"black\" d=\"M180,-101.69C180,-95.18 180,-85.1 180,-76.43\"/>\n",
       "<polygon fill=\"black\" stroke=\"black\" points=\"183.5,-76.26 180,-66.26 176.5,-76.26 183.5,-76.26\"/>\n",
       "</g>\n",
       "<!-- 14 -->\n",
       "<g id=\"node15\" class=\"node\">\n",
       "<title>14</title>\n",
       "<text text-anchor=\"middle\" x=\"180\" y=\"-3.8\" font-family=\"Times,serif\" font-size=\"14.00\">x</text>\n",
       "</g>\n",
       "<!-- 13&#45;&gt;14 -->\n",
       "<g id=\"edge14\" class=\"edge\">\n",
       "<title>13&#45;&gt;14</title>\n",
       "<path fill=\"none\" stroke=\"black\" d=\"M180,-50.69C180,-44.18 180,-34.1 180,-25.43\"/>\n",
       "<polygon fill=\"black\" stroke=\"black\" points=\"183.5,-25.26 180,-15.26 176.5,-25.26 183.5,-25.26\"/>\n",
       "</g>\n",
       "<!-- 16 -->\n",
       "<g id=\"node17\" class=\"node\">\n",
       "<title>16</title>\n",
       "<text text-anchor=\"middle\" x=\"262\" y=\"-54.8\" font-family=\"Times,serif\" font-size=\"14.00\">&lt;text&gt;</text>\n",
       "</g>\n",
       "<!-- 15&#45;&gt;16 -->\n",
       "<g id=\"edge16\" class=\"edge\">\n",
       "<title>15&#45;&gt;16</title>\n",
       "<path fill=\"none\" stroke=\"black\" d=\"M262,-101.69C262,-95.18 262,-85.1 262,-76.43\"/>\n",
       "<polygon fill=\"black\" stroke=\"black\" points=\"265.5,-76.26 262,-66.26 258.5,-76.26 265.5,-76.26\"/>\n",
       "</g>\n",
       "<!-- 17 -->\n",
       "<g id=\"node18\" class=\"node\">\n",
       "<title>17</title>\n",
       "<text text-anchor=\"middle\" x=\"262\" y=\"-3.8\" font-family=\"Times,serif\" font-size=\"14.00\">t</text>\n",
       "</g>\n",
       "<!-- 16&#45;&gt;17 -->\n",
       "<g id=\"edge17\" class=\"edge\">\n",
       "<title>16&#45;&gt;17</title>\n",
       "<path fill=\"none\" stroke=\"black\" d=\"M262,-50.69C262,-44.18 262,-34.1 262,-25.43\"/>\n",
       "<polygon fill=\"black\" stroke=\"black\" points=\"265.5,-25.26 262,-15.26 258.5,-25.26 265.5,-25.26\"/>\n",
       "</g>\n",
       "<!-- 19 -->\n",
       "<g id=\"node20\" class=\"node\">\n",
       "<title>19</title>\n",
       "<text text-anchor=\"middle\" x=\"268\" y=\"-156.8\" font-family=\"Times,serif\" font-size=\"14.00\">&lt;/</text>\n",
       "</g>\n",
       "<!-- 18&#45;&gt;19 -->\n",
       "<g id=\"edge19\" class=\"edge\">\n",
       "<title>18&#45;&gt;19</title>\n",
       "<path fill=\"none\" stroke=\"black\" d=\"M279.19,-203.69C277.45,-197.1 274.73,-186.87 272.41,-178.14\"/>\n",
       "<polygon fill=\"black\" stroke=\"black\" points=\"275.74,-177.02 269.79,-168.26 268.97,-178.82 275.74,-177.02\"/>\n",
       "</g>\n",
       "<!-- 20 -->\n",
       "<g id=\"node21\" class=\"node\">\n",
       "<title>20</title>\n",
       "<text text-anchor=\"middle\" x=\"306\" y=\"-156.8\" font-family=\"Times,serif\" font-size=\"14.00\">&lt;id&gt;</text>\n",
       "</g>\n",
       "<!-- 18&#45;&gt;20 -->\n",
       "<g id=\"edge20\" class=\"edge\">\n",
       "<title>18&#45;&gt;20</title>\n",
       "<path fill=\"none\" stroke=\"black\" d=\"M284.48,-203.69C287.95,-196.88 293.4,-186.19 297.95,-177.27\"/>\n",
       "<polygon fill=\"black\" stroke=\"black\" points=\"301.13,-178.75 302.55,-168.26 294.89,-175.57 301.13,-178.75\"/>\n",
       "</g>\n",
       "<!-- 22 -->\n",
       "<g id=\"node23\" class=\"node\">\n",
       "<title>22</title>\n",
       "<text text-anchor=\"middle\" x=\"342\" y=\"-156.8\" font-family=\"Times,serif\" font-size=\"14.00\">&gt;</text>\n",
       "</g>\n",
       "<!-- 18&#45;&gt;22 -->\n",
       "<g id=\"edge22\" class=\"edge\">\n",
       "<title>18&#45;&gt;22</title>\n",
       "<path fill=\"none\" stroke=\"black\" d=\"M289.23,-203.89C299.7,-195.48 317.86,-180.89 329.91,-171.21\"/>\n",
       "<polygon fill=\"black\" stroke=\"black\" points=\"332.39,-173.71 337.99,-164.72 328.01,-168.25 332.39,-173.71\"/>\n",
       "</g>\n",
       "<!-- 21 -->\n",
       "<g id=\"node22\" class=\"node\">\n",
       "<title>21</title>\n",
       "<text text-anchor=\"middle\" x=\"325\" y=\"-105.8\" font-family=\"Times,serif\" font-size=\"14.00\">html</text>\n",
       "</g>\n",
       "<!-- 20&#45;&gt;21 -->\n",
       "<g id=\"edge21\" class=\"edge\">\n",
       "<title>20&#45;&gt;21</title>\n",
       "<path fill=\"none\" stroke=\"black\" d=\"M308.64,-152.69C311.22,-146.03 315.25,-135.65 318.66,-126.85\"/>\n",
       "<polygon fill=\"black\" stroke=\"black\" points=\"322.03,-127.84 322.38,-117.26 315.5,-125.31 322.03,-127.84\"/>\n",
       "</g>\n",
       "</g>\n",
       "</svg>\n"
      ],
      "text/plain": [
       "<graphviz.dot.Digraph at 0x12106f160>"
      ]
     },
     "metadata": {},
     "output_type": "display_data"
    },
    {
     "data": {
      "image/svg+xml": [
       "<?xml version=\"1.0\" encoding=\"UTF-8\" standalone=\"no\"?>\n",
       "<!DOCTYPE svg PUBLIC \"-//W3C//DTD SVG 1.1//EN\"\n",
       " \"http://www.w3.org/Graphics/SVG/1.1/DTD/svg11.dtd\">\n",
       "<!-- Generated by graphviz version 2.49.3 (20211023.0002)\n",
       " -->\n",
       "<!-- Pages: 1 -->\n",
       "<svg width=\"407pt\" height=\"329pt\"\n",
       " viewBox=\"0.00 0.00 407.00 329.00\" xmlns=\"http://www.w3.org/2000/svg\" xmlns:xlink=\"http://www.w3.org/1999/xlink\">\n",
       "<g id=\"graph0\" class=\"graph\" transform=\"scale(1 1) rotate(0) translate(4 325)\">\n",
       "<polygon fill=\"white\" stroke=\"transparent\" points=\"-4,4 -4,-325 403,-325 403,4 -4,4\"/>\n",
       "<!-- 0 -->\n",
       "<g id=\"node1\" class=\"node\">\n",
       "<title>0</title>\n",
       "<text text-anchor=\"middle\" x=\"177\" y=\"-309.8\" font-family=\"Times,serif\" font-size=\"14.00\">&lt;start&gt;</text>\n",
       "</g>\n",
       "<!-- 1 -->\n",
       "<g id=\"node2\" class=\"node\">\n",
       "<title>1</title>\n",
       "<text text-anchor=\"middle\" x=\"177\" y=\"-258.8\" font-family=\"Times,serif\" font-size=\"14.00\">&lt;xml&#45;tree&gt;</text>\n",
       "</g>\n",
       "<!-- 0&#45;&gt;1 -->\n",
       "<g id=\"edge1\" class=\"edge\">\n",
       "<title>0&#45;&gt;1</title>\n",
       "<path fill=\"none\" stroke=\"black\" d=\"M177,-305.69C177,-299.18 177,-289.1 177,-280.43\"/>\n",
       "<polygon fill=\"black\" stroke=\"black\" points=\"180.5,-280.26 177,-270.26 173.5,-280.26 180.5,-280.26\"/>\n",
       "</g>\n",
       "<!-- 2 -->\n",
       "<g id=\"node3\" class=\"node\">\n",
       "<title>2</title>\n",
       "<text text-anchor=\"middle\" x=\"66\" y=\"-207.8\" font-family=\"Times,serif\" font-size=\"14.00\">&lt;xml&#45;open&#45;tag&gt;</text>\n",
       "</g>\n",
       "<!-- 1&#45;&gt;2 -->\n",
       "<g id=\"edge2\" class=\"edge\">\n",
       "<title>1&#45;&gt;2</title>\n",
       "<path fill=\"none\" stroke=\"black\" d=\"M162.03,-254.89C143.56,-246.74 111.91,-232.77 90.02,-223.1\"/>\n",
       "<polygon fill=\"black\" stroke=\"black\" points=\"91.29,-219.84 80.73,-219 88.47,-226.24 91.29,-219.84\"/>\n",
       "</g>\n",
       "<!-- 7 -->\n",
       "<g id=\"node8\" class=\"node\">\n",
       "<title>7</title>\n",
       "<text text-anchor=\"middle\" x=\"177\" y=\"-207.8\" font-family=\"Times,serif\" font-size=\"14.00\">&lt;xml&#45;tree&gt;</text>\n",
       "</g>\n",
       "<!-- 1&#45;&gt;7 -->\n",
       "<g id=\"edge7\" class=\"edge\">\n",
       "<title>1&#45;&gt;7</title>\n",
       "<path fill=\"none\" stroke=\"black\" d=\"M177,-254.69C177,-248.18 177,-238.1 177,-229.43\"/>\n",
       "<polygon fill=\"black\" stroke=\"black\" points=\"180.5,-229.26 177,-219.26 173.5,-229.26 180.5,-229.26\"/>\n",
       "</g>\n",
       "<!-- 22 -->\n",
       "<g id=\"node23\" class=\"node\">\n",
       "<title>22</title>\n",
       "<text text-anchor=\"middle\" x=\"340\" y=\"-207.8\" font-family=\"Times,serif\" font-size=\"14.00\">&lt;xml&#45;close&#45;tag&gt;</text>\n",
       "</g>\n",
       "<!-- 1&#45;&gt;22 -->\n",
       "<g id=\"edge22\" class=\"edge\">\n",
       "<title>1&#45;&gt;22</title>\n",
       "<path fill=\"none\" stroke=\"black\" d=\"M198.65,-254.99C226.78,-246.54 276.11,-231.71 308.42,-221.99\"/>\n",
       "<polygon fill=\"black\" stroke=\"black\" points=\"309.7,-225.26 318.27,-219.03 307.68,-218.56 309.7,-225.26\"/>\n",
       "</g>\n",
       "<!-- 3 -->\n",
       "<g id=\"node4\" class=\"node\">\n",
       "<title>3</title>\n",
       "<text text-anchor=\"middle\" x=\"12\" y=\"-156.8\" font-family=\"Times,serif\" font-size=\"14.00\">&lt;</text>\n",
       "</g>\n",
       "<!-- 2&#45;&gt;3 -->\n",
       "<g id=\"edge3\" class=\"edge\">\n",
       "<title>2&#45;&gt;3</title>\n",
       "<path fill=\"none\" stroke=\"black\" d=\"M58.49,-203.69C49.44,-195.47 34.11,-181.57 23.55,-171.98\"/>\n",
       "<polygon fill=\"black\" stroke=\"black\" points=\"25.79,-169.29 16.04,-165.16 21.09,-174.47 25.79,-169.29\"/>\n",
       "</g>\n",
       "<!-- 4 -->\n",
       "<g id=\"node5\" class=\"node\">\n",
       "<title>4</title>\n",
       "<text text-anchor=\"middle\" x=\"48\" y=\"-156.8\" font-family=\"Times,serif\" font-size=\"14.00\">&lt;id&gt;</text>\n",
       "</g>\n",
       "<!-- 2&#45;&gt;4 -->\n",
       "<g id=\"edge4\" class=\"edge\">\n",
       "<title>2&#45;&gt;4</title>\n",
       "<path fill=\"none\" stroke=\"black\" d=\"M63.5,-203.69C61.05,-197.03 57.24,-186.65 54.01,-177.85\"/>\n",
       "<polygon fill=\"black\" stroke=\"black\" points=\"57.22,-176.44 50.48,-168.26 50.64,-178.85 57.22,-176.44\"/>\n",
       "</g>\n",
       "<!-- 6 -->\n",
       "<g id=\"node7\" class=\"node\">\n",
       "<title>6</title>\n",
       "<text text-anchor=\"middle\" x=\"84\" y=\"-156.8\" font-family=\"Times,serif\" font-size=\"14.00\">&gt;</text>\n",
       "</g>\n",
       "<!-- 2&#45;&gt;6 -->\n",
       "<g id=\"edge6\" class=\"edge\">\n",
       "<title>2&#45;&gt;6</title>\n",
       "<path fill=\"none\" stroke=\"black\" d=\"M68.5,-203.69C70.95,-197.03 74.76,-186.65 77.99,-177.85\"/>\n",
       "<polygon fill=\"black\" stroke=\"black\" points=\"81.36,-178.85 81.52,-168.26 74.78,-176.44 81.36,-178.85\"/>\n",
       "</g>\n",
       "<!-- 5 -->\n",
       "<g id=\"node6\" class=\"node\">\n",
       "<title>5</title>\n",
       "<text text-anchor=\"middle\" x=\"13\" y=\"-105.8\" font-family=\"Times,serif\" font-size=\"14.00\">html</text>\n",
       "</g>\n",
       "<!-- 4&#45;&gt;5 -->\n",
       "<g id=\"edge5\" class=\"edge\">\n",
       "<title>4&#45;&gt;5</title>\n",
       "<path fill=\"none\" stroke=\"black\" d=\"M43.13,-152.69C38.12,-145.67 30.14,-134.49 23.65,-125.41\"/>\n",
       "<polygon fill=\"black\" stroke=\"black\" points=\"26.49,-123.36 17.83,-117.26 20.79,-127.43 26.49,-123.36\"/>\n",
       "</g>\n",
       "<!-- 8 -->\n",
       "<g id=\"node9\" class=\"node\">\n",
       "<title>8</title>\n",
       "<text text-anchor=\"middle\" x=\"158\" y=\"-156.8\" font-family=\"Times,serif\" font-size=\"14.00\">&lt;xml&#45;tree&gt;</text>\n",
       "</g>\n",
       "<!-- 7&#45;&gt;8 -->\n",
       "<g id=\"edge8\" class=\"edge\">\n",
       "<title>7&#45;&gt;8</title>\n",
       "<path fill=\"none\" stroke=\"black\" d=\"M174.36,-203.69C171.78,-197.03 167.75,-186.65 164.34,-177.85\"/>\n",
       "<polygon fill=\"black\" stroke=\"black\" points=\"167.5,-176.31 160.62,-168.26 160.97,-178.84 167.5,-176.31\"/>\n",
       "</g>\n",
       "<!-- 15 -->\n",
       "<g id=\"node16\" class=\"node\">\n",
       "<title>15</title>\n",
       "<text text-anchor=\"middle\" x=\"240\" y=\"-156.8\" font-family=\"Times,serif\" font-size=\"14.00\">&lt;xml&#45;tree&gt;</text>\n",
       "</g>\n",
       "<!-- 7&#45;&gt;15 -->\n",
       "<g id=\"edge15\" class=\"edge\">\n",
       "<title>7&#45;&gt;15</title>\n",
       "<path fill=\"none\" stroke=\"black\" d=\"M185.5,-203.89C195.23,-196.32 211.39,-183.75 223.6,-174.26\"/>\n",
       "<polygon fill=\"black\" stroke=\"black\" points=\"225.89,-176.91 231.64,-168 221.6,-171.38 225.89,-176.91\"/>\n",
       "</g>\n",
       "<!-- 9 -->\n",
       "<g id=\"node10\" class=\"node\">\n",
       "<title>9</title>\n",
       "<text text-anchor=\"middle\" x=\"76\" y=\"-105.8\" font-family=\"Times,serif\" font-size=\"14.00\">&lt;xml&#45;tree&gt;</text>\n",
       "</g>\n",
       "<!-- 8&#45;&gt;9 -->\n",
       "<g id=\"edge9\" class=\"edge\">\n",
       "<title>8&#45;&gt;9</title>\n",
       "<path fill=\"none\" stroke=\"black\" d=\"M146.94,-152.89C133.79,-145.03 111.59,-131.77 95.52,-122.16\"/>\n",
       "<polygon fill=\"black\" stroke=\"black\" points=\"97.26,-119.13 86.88,-117 93.67,-125.14 97.26,-119.13\"/>\n",
       "</g>\n",
       "<!-- 12 -->\n",
       "<g id=\"node13\" class=\"node\">\n",
       "<title>12</title>\n",
       "<text text-anchor=\"middle\" x=\"158\" y=\"-105.8\" font-family=\"Times,serif\" font-size=\"14.00\">&lt;xml&#45;tree&gt;</text>\n",
       "</g>\n",
       "<!-- 8&#45;&gt;12 -->\n",
       "<g id=\"edge12\" class=\"edge\">\n",
       "<title>8&#45;&gt;12</title>\n",
       "<path fill=\"none\" stroke=\"black\" d=\"M158,-152.69C158,-146.18 158,-136.1 158,-127.43\"/>\n",
       "<polygon fill=\"black\" stroke=\"black\" points=\"161.5,-127.26 158,-117.26 154.5,-127.26 161.5,-127.26\"/>\n",
       "</g>\n",
       "<!-- 10 -->\n",
       "<g id=\"node11\" class=\"node\">\n",
       "<title>10</title>\n",
       "<text text-anchor=\"middle\" x=\"76\" y=\"-54.8\" font-family=\"Times,serif\" font-size=\"14.00\">&lt;text&gt;</text>\n",
       "</g>\n",
       "<!-- 9&#45;&gt;10 -->\n",
       "<g id=\"edge10\" class=\"edge\">\n",
       "<title>9&#45;&gt;10</title>\n",
       "<path fill=\"none\" stroke=\"black\" d=\"M76,-101.69C76,-95.18 76,-85.1 76,-76.43\"/>\n",
       "<polygon fill=\"black\" stroke=\"black\" points=\"79.5,-76.26 76,-66.26 72.5,-76.26 79.5,-76.26\"/>\n",
       "</g>\n",
       "<!-- 11 -->\n",
       "<g id=\"node12\" class=\"node\">\n",
       "<title>11</title>\n",
       "<text text-anchor=\"middle\" x=\"76\" y=\"-3.8\" font-family=\"Times,serif\" font-size=\"14.00\">T</text>\n",
       "</g>\n",
       "<!-- 10&#45;&gt;11 -->\n",
       "<g id=\"edge11\" class=\"edge\">\n",
       "<title>10&#45;&gt;11</title>\n",
       "<path fill=\"none\" stroke=\"black\" d=\"M76,-50.69C76,-44.18 76,-34.1 76,-25.43\"/>\n",
       "<polygon fill=\"black\" stroke=\"black\" points=\"79.5,-25.26 76,-15.26 72.5,-25.26 79.5,-25.26\"/>\n",
       "</g>\n",
       "<!-- 13 -->\n",
       "<g id=\"node14\" class=\"node\">\n",
       "<title>13</title>\n",
       "<text text-anchor=\"middle\" x=\"158\" y=\"-54.8\" font-family=\"Times,serif\" font-size=\"14.00\">&lt;text&gt;</text>\n",
       "</g>\n",
       "<!-- 12&#45;&gt;13 -->\n",
       "<g id=\"edge13\" class=\"edge\">\n",
       "<title>12&#45;&gt;13</title>\n",
       "<path fill=\"none\" stroke=\"black\" d=\"M158,-101.69C158,-95.18 158,-85.1 158,-76.43\"/>\n",
       "<polygon fill=\"black\" stroke=\"black\" points=\"161.5,-76.26 158,-66.26 154.5,-76.26 161.5,-76.26\"/>\n",
       "</g>\n",
       "<!-- 14 -->\n",
       "<g id=\"node15\" class=\"node\">\n",
       "<title>14</title>\n",
       "<text text-anchor=\"middle\" x=\"158\" y=\"-3.8\" font-family=\"Times,serif\" font-size=\"14.00\">e</text>\n",
       "</g>\n",
       "<!-- 13&#45;&gt;14 -->\n",
       "<g id=\"edge14\" class=\"edge\">\n",
       "<title>13&#45;&gt;14</title>\n",
       "<path fill=\"none\" stroke=\"black\" d=\"M158,-50.69C158,-44.18 158,-34.1 158,-25.43\"/>\n",
       "<polygon fill=\"black\" stroke=\"black\" points=\"161.5,-25.26 158,-15.26 154.5,-25.26 161.5,-25.26\"/>\n",
       "</g>\n",
       "<!-- 16 -->\n",
       "<g id=\"node17\" class=\"node\">\n",
       "<title>16</title>\n",
       "<text text-anchor=\"middle\" x=\"240\" y=\"-105.8\" font-family=\"Times,serif\" font-size=\"14.00\">&lt;xml&#45;tree&gt;</text>\n",
       "</g>\n",
       "<!-- 15&#45;&gt;16 -->\n",
       "<g id=\"edge16\" class=\"edge\">\n",
       "<title>15&#45;&gt;16</title>\n",
       "<path fill=\"none\" stroke=\"black\" d=\"M240,-152.69C240,-146.18 240,-136.1 240,-127.43\"/>\n",
       "<polygon fill=\"black\" stroke=\"black\" points=\"243.5,-127.26 240,-117.26 236.5,-127.26 243.5,-127.26\"/>\n",
       "</g>\n",
       "<!-- 19 -->\n",
       "<g id=\"node20\" class=\"node\">\n",
       "<title>19</title>\n",
       "<text text-anchor=\"middle\" x=\"322\" y=\"-105.8\" font-family=\"Times,serif\" font-size=\"14.00\">&lt;xml&#45;tree&gt;</text>\n",
       "</g>\n",
       "<!-- 15&#45;&gt;19 -->\n",
       "<g id=\"edge19\" class=\"edge\">\n",
       "<title>15&#45;&gt;19</title>\n",
       "<path fill=\"none\" stroke=\"black\" d=\"M251.06,-152.89C264.21,-145.03 286.41,-131.77 302.48,-122.16\"/>\n",
       "<polygon fill=\"black\" stroke=\"black\" points=\"304.33,-125.14 311.12,-117 300.74,-119.13 304.33,-125.14\"/>\n",
       "</g>\n",
       "<!-- 17 -->\n",
       "<g id=\"node18\" class=\"node\">\n",
       "<title>17</title>\n",
       "<text text-anchor=\"middle\" x=\"240\" y=\"-54.8\" font-family=\"Times,serif\" font-size=\"14.00\">&lt;text&gt;</text>\n",
       "</g>\n",
       "<!-- 16&#45;&gt;17 -->\n",
       "<g id=\"edge17\" class=\"edge\">\n",
       "<title>16&#45;&gt;17</title>\n",
       "<path fill=\"none\" stroke=\"black\" d=\"M240,-101.69C240,-95.18 240,-85.1 240,-76.43\"/>\n",
       "<polygon fill=\"black\" stroke=\"black\" points=\"243.5,-76.26 240,-66.26 236.5,-76.26 243.5,-76.26\"/>\n",
       "</g>\n",
       "<!-- 18 -->\n",
       "<g id=\"node19\" class=\"node\">\n",
       "<title>18</title>\n",
       "<text text-anchor=\"middle\" x=\"240\" y=\"-3.8\" font-family=\"Times,serif\" font-size=\"14.00\">x</text>\n",
       "</g>\n",
       "<!-- 17&#45;&gt;18 -->\n",
       "<g id=\"edge18\" class=\"edge\">\n",
       "<title>17&#45;&gt;18</title>\n",
       "<path fill=\"none\" stroke=\"black\" d=\"M240,-50.69C240,-44.18 240,-34.1 240,-25.43\"/>\n",
       "<polygon fill=\"black\" stroke=\"black\" points=\"243.5,-25.26 240,-15.26 236.5,-25.26 243.5,-25.26\"/>\n",
       "</g>\n",
       "<!-- 20 -->\n",
       "<g id=\"node21\" class=\"node\">\n",
       "<title>20</title>\n",
       "<text text-anchor=\"middle\" x=\"322\" y=\"-54.8\" font-family=\"Times,serif\" font-size=\"14.00\">&lt;text&gt;</text>\n",
       "</g>\n",
       "<!-- 19&#45;&gt;20 -->\n",
       "<g id=\"edge20\" class=\"edge\">\n",
       "<title>19&#45;&gt;20</title>\n",
       "<path fill=\"none\" stroke=\"black\" d=\"M322,-101.69C322,-95.18 322,-85.1 322,-76.43\"/>\n",
       "<polygon fill=\"black\" stroke=\"black\" points=\"325.5,-76.26 322,-66.26 318.5,-76.26 325.5,-76.26\"/>\n",
       "</g>\n",
       "<!-- 21 -->\n",
       "<g id=\"node22\" class=\"node\">\n",
       "<title>21</title>\n",
       "<text text-anchor=\"middle\" x=\"322\" y=\"-3.8\" font-family=\"Times,serif\" font-size=\"14.00\">t</text>\n",
       "</g>\n",
       "<!-- 20&#45;&gt;21 -->\n",
       "<g id=\"edge21\" class=\"edge\">\n",
       "<title>20&#45;&gt;21</title>\n",
       "<path fill=\"none\" stroke=\"black\" d=\"M322,-50.69C322,-44.18 322,-34.1 322,-25.43\"/>\n",
       "<polygon fill=\"black\" stroke=\"black\" points=\"325.5,-25.26 322,-15.26 318.5,-25.26 325.5,-25.26\"/>\n",
       "</g>\n",
       "<!-- 23 -->\n",
       "<g id=\"node24\" class=\"node\">\n",
       "<title>23</title>\n",
       "<text text-anchor=\"middle\" x=\"321\" y=\"-156.8\" font-family=\"Times,serif\" font-size=\"14.00\">&lt;/</text>\n",
       "</g>\n",
       "<!-- 22&#45;&gt;23 -->\n",
       "<g id=\"edge23\" class=\"edge\">\n",
       "<title>22&#45;&gt;23</title>\n",
       "<path fill=\"none\" stroke=\"black\" d=\"M337.36,-203.69C334.78,-197.03 330.75,-186.65 327.34,-177.85\"/>\n",
       "<polygon fill=\"black\" stroke=\"black\" points=\"330.5,-176.31 323.62,-168.26 323.97,-178.84 330.5,-176.31\"/>\n",
       "</g>\n",
       "<!-- 24 -->\n",
       "<g id=\"node25\" class=\"node\">\n",
       "<title>24</title>\n",
       "<text text-anchor=\"middle\" x=\"359\" y=\"-156.8\" font-family=\"Times,serif\" font-size=\"14.00\">&lt;id&gt;</text>\n",
       "</g>\n",
       "<!-- 22&#45;&gt;24 -->\n",
       "<g id=\"edge24\" class=\"edge\">\n",
       "<title>22&#45;&gt;24</title>\n",
       "<path fill=\"none\" stroke=\"black\" d=\"M342.64,-203.69C345.22,-197.03 349.25,-186.65 352.66,-177.85\"/>\n",
       "<polygon fill=\"black\" stroke=\"black\" points=\"356.03,-178.84 356.38,-168.26 349.5,-176.31 356.03,-178.84\"/>\n",
       "</g>\n",
       "<!-- 26 -->\n",
       "<g id=\"node27\" class=\"node\">\n",
       "<title>26</title>\n",
       "<text text-anchor=\"middle\" x=\"395\" y=\"-156.8\" font-family=\"Times,serif\" font-size=\"14.00\">&gt;</text>\n",
       "</g>\n",
       "<!-- 22&#45;&gt;26 -->\n",
       "<g id=\"edge26\" class=\"edge\">\n",
       "<title>22&#45;&gt;26</title>\n",
       "<path fill=\"none\" stroke=\"black\" d=\"M347.65,-203.69C356.87,-195.47 372.48,-181.57 383.24,-171.98\"/>\n",
       "<polygon fill=\"black\" stroke=\"black\" points=\"385.75,-174.43 390.89,-165.16 381.09,-169.2 385.75,-174.43\"/>\n",
       "</g>\n",
       "<!-- 25 -->\n",
       "<g id=\"node26\" class=\"node\">\n",
       "<title>25</title>\n",
       "<text text-anchor=\"middle\" x=\"385\" y=\"-105.8\" font-family=\"Times,serif\" font-size=\"14.00\">html</text>\n",
       "</g>\n",
       "<!-- 24&#45;&gt;25 -->\n",
       "<g id=\"edge25\" class=\"edge\">\n",
       "<title>24&#45;&gt;25</title>\n",
       "<path fill=\"none\" stroke=\"black\" d=\"M362.62,-152.69C366.22,-145.88 371.9,-135.19 376.63,-126.27\"/>\n",
       "<polygon fill=\"black\" stroke=\"black\" points=\"379.82,-127.73 381.42,-117.26 373.64,-124.45 379.82,-127.73\"/>\n",
       "</g>\n",
       "</g>\n",
       "</svg>\n"
      ],
      "text/plain": [
       "<graphviz.dot.Digraph at 0x12106f460>"
      ]
     },
     "metadata": {},
     "output_type": "display_data"
    }
   ],
   "source": [
    "parser = EarleyParser(XML_GRAMMAR, tokens=XML_TOKENS)\n",
    "\n",
    "for tree in parser.parse(\"<html>Text</html>\"):\n",
    "    display(display_tree(tree))"
   ]
  },
  {
   "cell_type": "markdown",
   "metadata": {
    "slideshow": {
     "slide_type": "subslide"
    }
   },
   "source": [
    "As we can see, the input starts with an opening tag, contains some text, and ends with a closing tag. Excellent. This is a structure that we can work with."
   ]
  },
  {
   "cell_type": "markdown",
   "metadata": {
    "slideshow": {
     "slide_type": "subslide"
    }
   },
   "source": [
    "### Building the Fragment Pool\n",
    "We are now ready to implement our first input-structure-aware mutator. Let's initialize the mutator with the dictionary `fragments` representing the empty fragment pool. It contains a key for each symbol in the grammar (and the empty set as value)."
   ]
  },
  {
   "cell_type": "code",
   "execution_count": 29,
   "metadata": {
    "execution": {
     "iopub.execute_input": "2022-02-21T08:21:06.937676Z",
     "iopub.status.busy": "2022-02-21T08:21:06.937100Z",
     "iopub.status.idle": "2022-02-21T08:21:06.938771Z",
     "shell.execute_reply": "2022-02-21T08:21:06.939196Z"
    },
    "slideshow": {
     "slide_type": "fragment"
    }
   },
   "outputs": [],
   "source": [
    "class FragmentMutator(Mutator):\n",
    "    \"\"\"Mutate inputs with input fragments from a pool\"\"\"\n",
    "\n",
    "    def __init__(self, parser: EarleyParser) -> None:\n",
    "        \"\"\"Initialize empty fragment pool and add parser\"\"\"\n",
    "        self.parser = parser\n",
    "        self.fragments: Dict[str, List[DerivationTree]] = \\\n",
    "            {k: [] for k in self.parser.cgrammar}\n",
    "        super().__init__()"
   ]
  },
  {
   "cell_type": "markdown",
   "metadata": {
    "slideshow": {
     "slide_type": "subslide"
    }
   },
   "source": [
    "The `FragmentMutator` adds fragments recursively. A *fragment* is a subtree in the parse tree and consists of the symbol of the current node and child nodes (i.e., descendant fragments). We can exclude fragments starting with symbols that are tokens, terminals, or not part of the grammar."
   ]
  },
  {
   "cell_type": "code",
   "execution_count": 30,
   "metadata": {
    "execution": {
     "iopub.execute_input": "2022-02-21T08:21:06.942781Z",
     "iopub.status.busy": "2022-02-21T08:21:06.942247Z",
     "iopub.status.idle": "2022-02-21T08:21:06.944110Z",
     "shell.execute_reply": "2022-02-21T08:21:06.944493Z"
    },
    "slideshow": {
     "slide_type": "skip"
    }
   },
   "outputs": [],
   "source": [
    "from Parser import terminals"
   ]
  },
  {
   "cell_type": "code",
   "execution_count": 31,
   "metadata": {
    "execution": {
     "iopub.execute_input": "2022-02-21T08:21:06.950239Z",
     "iopub.status.busy": "2022-02-21T08:21:06.949680Z",
     "iopub.status.idle": "2022-02-21T08:21:06.951312Z",
     "shell.execute_reply": "2022-02-21T08:21:06.951818Z"
    },
    "slideshow": {
     "slide_type": "subslide"
    }
   },
   "outputs": [],
   "source": [
    "class FragmentMutator(FragmentMutator):\n",
    "    def add_fragment(self, fragment: DerivationTree) -> None:\n",
    "        \"\"\"Recursively adds fragments to the fragment pool\"\"\"\n",
    "        (symbol, children) = fragment\n",
    "        if not self.is_excluded(symbol):\n",
    "            self.fragments[symbol].append(fragment)\n",
    "            assert children is not None\n",
    "            for subfragment in children:\n",
    "                self.add_fragment(subfragment)\n",
    "\n",
    "    def is_excluded(self, symbol: str) -> bool:\n",
    "        \"\"\"Returns true if a fragment starting with a specific\n",
    "           symbol and all its decendents can be excluded\"\"\"\n",
    "        return (symbol not in self.parser.grammar() or\n",
    "                symbol in self.parser.tokens or\n",
    "                symbol in terminals(self.parser.grammar()))"
   ]
  },
  {
   "cell_type": "markdown",
   "metadata": {
    "slideshow": {
     "slide_type": "subslide"
    }
   },
   "source": [
    "Parsing can take a long time, particularly if there is too much ambiguity during the parsing. In order to maintain the efficiency of mutational fuzzing, we will limit the parsing time to 200ms."
   ]
  },
  {
   "cell_type": "code",
   "execution_count": 32,
   "metadata": {
    "execution": {
     "iopub.execute_input": "2022-02-21T08:21:06.955431Z",
     "iopub.status.busy": "2022-02-21T08:21:06.954691Z",
     "iopub.status.idle": "2022-02-21T08:21:06.956912Z",
     "shell.execute_reply": "2022-02-21T08:21:06.957323Z"
    },
    "slideshow": {
     "slide_type": "skip"
    }
   },
   "outputs": [],
   "source": [
    "from Timeout import Timeout"
   ]
  },
  {
   "cell_type": "markdown",
   "metadata": {
    "slideshow": {
     "slide_type": "fragment"
    }
   },
   "source": [
    "The function `add_to_fragment_pool()` parses a seed (no longer than 200ms) and adds all its fragments to the fragment pool. If the parsing of the `seed` was successful, the attribute `seed.has_structure` is set to `True`. Otherwise, it is set to `False`."
   ]
  },
  {
   "cell_type": "code",
   "execution_count": 33,
   "metadata": {
    "execution": {
     "iopub.execute_input": "2022-02-21T08:21:06.962555Z",
     "iopub.status.busy": "2022-02-21T08:21:06.961789Z",
     "iopub.status.idle": "2022-02-21T08:21:06.963540Z",
     "shell.execute_reply": "2022-02-21T08:21:06.963959Z"
    },
    "slideshow": {
     "slide_type": "fragment"
    }
   },
   "outputs": [],
   "source": [
    "class SeedWithStructure(Seed):\n",
    "    \"\"\"Seeds augmented with structure info\"\"\"\n",
    "\n",
    "    def __init__(self, data: str) -> None:\n",
    "        super().__init__(data)\n",
    "        self.has_structure = False\n",
    "        self.structure: DerivationTree = (\"<empty>\", [])"
   ]
  },
  {
   "cell_type": "code",
   "execution_count": 34,
   "metadata": {
    "execution": {
     "iopub.execute_input": "2022-02-21T08:21:06.969136Z",
     "iopub.status.busy": "2022-02-21T08:21:06.968577Z",
     "iopub.status.idle": "2022-02-21T08:21:06.970119Z",
     "shell.execute_reply": "2022-02-21T08:21:06.970493Z"
    },
    "slideshow": {
     "slide_type": "subslide"
    }
   },
   "outputs": [],
   "source": [
    "class FragmentMutator(FragmentMutator):\n",
    "    def add_to_fragment_pool(self, seed: SeedWithStructure) -> None:\n",
    "        \"\"\"Adds all fragments of a seed to the fragment pool\"\"\"\n",
    "        try:  # only allow quick parsing of 200ms max\n",
    "            with Timeout(0.2):\n",
    "                seed.structure = next(self.parser.parse(seed.data))\n",
    "                self.add_fragment(seed.structure)\n",
    "            seed.has_structure = True\n",
    "        except (SyntaxError, TimeoutError):\n",
    "            seed.has_structure = False"
   ]
  },
  {
   "cell_type": "markdown",
   "metadata": {
    "slideshow": {
     "slide_type": "fragment"
    }
   },
   "source": [
    "Let's see how `FragmentMutator` fills the fragment pool for a simple HTML seed input. We initialize mutator with the `EarleyParser` which itself is initialized with our `XML_GRAMMAR`."
   ]
  },
  {
   "cell_type": "code",
   "execution_count": 35,
   "metadata": {
    "execution": {
     "iopub.execute_input": "2022-02-21T08:21:06.973816Z",
     "iopub.status.busy": "2022-02-21T08:21:06.973284Z",
     "iopub.status.idle": "2022-02-21T08:21:06.975187Z",
     "shell.execute_reply": "2022-02-21T08:21:06.975618Z"
    },
    "slideshow": {
     "slide_type": "skip"
    }
   },
   "outputs": [],
   "source": [
    "from GrammarFuzzer import tree_to_string"
   ]
  },
  {
   "cell_type": "code",
   "execution_count": 36,
   "metadata": {
    "execution": {
     "iopub.execute_input": "2022-02-21T08:21:07.138558Z",
     "iopub.status.busy": "2022-02-21T08:21:07.099129Z",
     "iopub.status.idle": "2022-02-21T08:21:07.174201Z",
     "shell.execute_reply": "2022-02-21T08:21:07.174622Z"
    },
    "slideshow": {
     "slide_type": "subslide"
    }
   },
   "outputs": [
    {
     "name": "stdout",
     "output_type": "stream",
     "text": [
      "<start>\n",
      "|-<html><head><title>Hello</title></head><body>World<br/></body></html>\n",
      "<xml-tree>\n",
      "|-<html><head><title>Hello</title></head><body>World<br/></body></html>\n",
      "|-<head><title>Hello</title></head><body>World<br/></body>\n",
      "|-<head><title>Hello</title></head>\n",
      "|-<title>Hello</title>\n",
      "|-Hello\n",
      "|-<body>World<br/></body>\n",
      "|-World<br/>\n",
      "|-World\n",
      "|-<br/>\n",
      "<xml-open-tag>\n",
      "|-<html>\n",
      "|-<head>\n",
      "|-<title>\n",
      "|-<body>\n",
      "<xml-openclose-tag>\n",
      "|-<br/>\n",
      "<xml-close-tag>\n",
      "|-</title>\n",
      "|-</head>\n",
      "|-</body>\n",
      "|-</html>\n",
      "<xml-attribute>\n",
      "<id>\n",
      "<text>\n",
      "<letter>\n",
      "<letter_space>\n"
     ]
    }
   ],
   "source": [
    "valid_seed = SeedWithStructure(\n",
    "    \"<html><head><title>Hello</title></head><body>World<br/></body></html>\")\n",
    "fragment_mutator = FragmentMutator(EarleyParser(XML_GRAMMAR, tokens=XML_TOKENS))\n",
    "fragment_mutator.add_to_fragment_pool(valid_seed)\n",
    "\n",
    "for key in fragment_mutator.fragments:\n",
    "    print(key)\n",
    "    for f in fragment_mutator.fragments[key]:\n",
    "        print(\"|-%s\" % tree_to_string(f))"
   ]
  },
  {
   "cell_type": "markdown",
   "metadata": {
    "slideshow": {
     "slide_type": "subslide"
    }
   },
   "source": [
    "For many symbols in the grammar, we have collected a number of fragments. There are several open and closing tags and several interesting fragments starting with the `xml-tree` symbol.\n",
    "\n",
    "***Summary***. For each interesting symbol in the grammar, the `FragmentMutator` has a set of fragments. These fragments are extracted by first parsing the inputs to be mutated."
   ]
  },
  {
   "cell_type": "markdown",
   "metadata": {
    "slideshow": {
     "slide_type": "subslide"
    }
   },
   "source": [
    "### Fragment-Based Mutation\n",
    "\n",
    "We can use the fragments in the fragment pool to generate new inputs. Every seed that is being mutated is disassembled into fragments, and memoized – i.e., disassembled only the first time around."
   ]
  },
  {
   "cell_type": "code",
   "execution_count": 37,
   "metadata": {
    "execution": {
     "iopub.execute_input": "2022-02-21T08:21:07.180211Z",
     "iopub.status.busy": "2022-02-21T08:21:07.179336Z",
     "iopub.status.idle": "2022-02-21T08:21:07.181729Z",
     "shell.execute_reply": "2022-02-21T08:21:07.182182Z"
    },
    "slideshow": {
     "slide_type": "subslide"
    }
   },
   "outputs": [],
   "source": [
    "class FragmentMutator(FragmentMutator):\n",
    "    def __init__(self, parser: EarleyParser) -> None:\n",
    "        \"\"\"Initialize mutators\"\"\"\n",
    "        super().__init__(parser)\n",
    "        self.seen_seeds: List[SeedWithStructure] = []\n",
    "\n",
    "    def mutate(self, seed: SeedWithStructure) -> SeedWithStructure:\n",
    "        \"\"\"Implement structure-aware mutation. Memoize seeds.\"\"\"\n",
    "        if seed not in self.seen_seeds:\n",
    "            self.seen_seeds.append(seed)\n",
    "            self.add_to_fragment_pool(seed)\n",
    "\n",
    "        return super().mutate(seed)"
   ]
  },
  {
   "cell_type": "markdown",
   "metadata": {
    "slideshow": {
     "slide_type": "subslide"
    }
   },
   "source": [
    "Our first structural mutation operator is `swap_fragments()`, which choses a random fragment in the given seed and substitutes it with a random fragment from the pool. We make sure that both fragments start with the same symbol. For instance, we may swap a closing tag in the seed HTML by another closing tag from the fragment pool.\n",
    "\n",
    "In order to choose a random fragment, the mutator counts all fragments (`n_count`) below the root fragment associated with the start-symbol."
   ]
  },
  {
   "cell_type": "code",
   "execution_count": 38,
   "metadata": {
    "execution": {
     "iopub.execute_input": "2022-02-21T08:21:07.187407Z",
     "iopub.status.busy": "2022-02-21T08:21:07.186713Z",
     "iopub.status.idle": "2022-02-21T08:21:07.188372Z",
     "shell.execute_reply": "2022-02-21T08:21:07.188781Z"
    },
    "slideshow": {
     "slide_type": "subslide"
    }
   },
   "outputs": [],
   "source": [
    "class FragmentMutator(FragmentMutator):\n",
    "    def count_nodes(self, fragment: DerivationTree) -> int:\n",
    "        \"\"\"Returns the number of nodes in the fragment\"\"\"\n",
    "        symbol, children = fragment\n",
    "        if self.is_excluded(symbol):\n",
    "            return 0\n",
    "\n",
    "        assert children is not None\n",
    "        return 1 + sum(map(self.count_nodes, children))"
   ]
  },
  {
   "cell_type": "markdown",
   "metadata": {
    "slideshow": {
     "slide_type": "fragment"
    }
   },
   "source": [
    "In order to swap the chosen fragment – identified using the \"global\" variable `self.to_swap` – the seed's parse tree is traversed recursively."
   ]
  },
  {
   "cell_type": "code",
   "execution_count": 39,
   "metadata": {
    "execution": {
     "iopub.execute_input": "2022-02-21T08:21:07.193752Z",
     "iopub.status.busy": "2022-02-21T08:21:07.193072Z",
     "iopub.status.idle": "2022-02-21T08:21:07.194554Z",
     "shell.execute_reply": "2022-02-21T08:21:07.195093Z"
    },
    "slideshow": {
     "slide_type": "subslide"
    }
   },
   "outputs": [],
   "source": [
    "class FragmentMutator(FragmentMutator):\n",
    "    def recursive_swap(self, fragment: DerivationTree) -> DerivationTree:\n",
    "        \"\"\"Recursively finds the fragment to swap.\"\"\"\n",
    "        symbol, children = fragment\n",
    "        if self.is_excluded(symbol):\n",
    "            return symbol, children\n",
    "\n",
    "        self.to_swap -= 1\n",
    "        if self.to_swap == 0: \n",
    "            return random.choice(list(self.fragments[symbol]))\n",
    "\n",
    "        assert children is not None\n",
    "        return symbol, list(map(self.recursive_swap, children))"
   ]
  },
  {
   "cell_type": "markdown",
   "metadata": {
    "slideshow": {
     "slide_type": "subslide"
    }
   },
   "source": [
    "Our structural mutator chooses a random number between 2 (i.e., excluding the `start` symbol) and the total number of fragments (`n_count`) and uses the recursive swapping to generate the new fragment. The new fragment is serialized as string and returned as new seed."
   ]
  },
  {
   "cell_type": "code",
   "execution_count": 40,
   "metadata": {
    "execution": {
     "iopub.execute_input": "2022-02-21T08:21:07.200605Z",
     "iopub.status.busy": "2022-02-21T08:21:07.199994Z",
     "iopub.status.idle": "2022-02-21T08:21:07.201554Z",
     "shell.execute_reply": "2022-02-21T08:21:07.201979Z"
    },
    "slideshow": {
     "slide_type": "subslide"
    }
   },
   "outputs": [],
   "source": [
    "class FragmentMutator(FragmentMutator):\n",
    "    def __init__(self, parser: EarleyParser) -> None:  # type: ignore\n",
    "        super().__init__(parser)\n",
    "        self.mutators = [self.swap_fragment]  # type: ignore\n",
    "\n",
    "    def swap_fragment(self, seed: SeedWithStructure) -> SeedWithStructure:\n",
    "        \"\"\"Substitutes a random fragment with another with the same symbol\"\"\"\n",
    "        if seed.has_structure:  # type: ignore\n",
    "            n_nodes = self.count_nodes(seed.structure)\n",
    "            self.to_swap = random.randint(2, n_nodes)\n",
    "            new_structure = self.recursive_swap(seed.structure)\n",
    "\n",
    "            new_seed = SeedWithStructure(tree_to_string(new_structure))\n",
    "            new_seed.has_structure = True\n",
    "            new_seed.structure = new_structure\n",
    "            return new_seed\n",
    "\n",
    "        return seed"
   ]
  },
  {
   "cell_type": "code",
   "execution_count": 41,
   "metadata": {
    "execution": {
     "iopub.execute_input": "2022-02-21T08:21:07.216237Z",
     "iopub.status.busy": "2022-02-21T08:21:07.205006Z",
     "iopub.status.idle": "2022-02-21T08:21:07.394762Z",
     "shell.execute_reply": "2022-02-21T08:21:07.395289Z"
    },
    "slideshow": {
     "slide_type": "subslide"
    }
   },
   "outputs": [
    {
     "name": "stdout",
     "output_type": "stream",
     "text": [
      "<html><head><title>Hello</title></head><body>World<br/></body></html>\n"
     ]
    },
    {
     "data": {
      "text/plain": [
       "<html><head><title>Hello</title></body><body>World<br/></body></html>"
      ]
     },
     "execution_count": 41,
     "metadata": {},
     "output_type": "execute_result"
    }
   ],
   "source": [
    "valid_seed = SeedWithStructure(\n",
    "    \"<html><head><title>Hello</title></head><body>World<br/></body></html>\")\n",
    "lf_mutator = FragmentMutator(parser)\n",
    "print(valid_seed)\n",
    "lf_mutator.mutate(valid_seed)"
   ]
  },
  {
   "cell_type": "markdown",
   "metadata": {
    "slideshow": {
     "slide_type": "fragment"
    }
   },
   "source": [
    "As we can see, one fragment has been substituted by another. \n",
    "\n",
    "We can use a similar recursive traversal to *remove* a random fragment."
   ]
  },
  {
   "cell_type": "code",
   "execution_count": 42,
   "metadata": {
    "execution": {
     "iopub.execute_input": "2022-02-21T08:21:07.402656Z",
     "iopub.status.busy": "2022-02-21T08:21:07.401803Z",
     "iopub.status.idle": "2022-02-21T08:21:07.404010Z",
     "shell.execute_reply": "2022-02-21T08:21:07.403527Z"
    },
    "slideshow": {
     "slide_type": "subslide"
    }
   },
   "outputs": [],
   "source": [
    "class FragmentMutator(FragmentMutator):\n",
    "    def recursive_delete(self, fragment: DerivationTree) -> DerivationTree:\n",
    "        \"\"\"Recursively finds the fragment to delete\"\"\"\n",
    "        symbol, children = fragment\n",
    "        if self.is_excluded(symbol):\n",
    "            return symbol, children\n",
    "\n",
    "        self.to_delete -= 1\n",
    "        if self.to_delete == 0:\n",
    "            return symbol, []\n",
    "\n",
    "        assert children is not None\n",
    "        return symbol, list(map(self.recursive_delete, children))"
   ]
  },
  {
   "cell_type": "markdown",
   "metadata": {
    "slideshow": {
     "slide_type": "fragment"
    }
   },
   "source": [
    "We should also define the corresponding structural deletion operator, as well."
   ]
  },
  {
   "cell_type": "code",
   "execution_count": 43,
   "metadata": {
    "execution": {
     "iopub.execute_input": "2022-02-21T08:21:07.410511Z",
     "iopub.status.busy": "2022-02-21T08:21:07.409861Z",
     "iopub.status.idle": "2022-02-21T08:21:07.411696Z",
     "shell.execute_reply": "2022-02-21T08:21:07.412130Z"
    },
    "slideshow": {
     "slide_type": "subslide"
    }
   },
   "outputs": [],
   "source": [
    "class FragmentMutator(FragmentMutator):\n",
    "    def __init__(self, parser):  # type: ignore\n",
    "        super().__init__(parser)\n",
    "        self.mutators.append(self.delete_fragment)\n",
    "\n",
    "    def delete_fragment(self, seed: SeedWithStructure) -> SeedWithStructure:\n",
    "        \"\"\"Delete a random fragment\"\"\"\n",
    "        if seed.has_structure:\n",
    "            n_nodes = self.count_nodes(seed.structure)\n",
    "            self.to_delete = random.randint(2, n_nodes)\n",
    "            new_structure = self.recursive_delete(seed.structure)\n",
    "\n",
    "            new_seed = SeedWithStructure(tree_to_string(new_structure))\n",
    "            new_seed.has_structure = True\n",
    "            new_seed.structure = new_structure\n",
    "            # do not return an empty new_seed\n",
    "            if not new_seed.data:\n",
    "                return seed\n",
    "            else:\n",
    "                return new_seed\n",
    "\n",
    "        return seed"
   ]
  },
  {
   "cell_type": "markdown",
   "metadata": {
    "slideshow": {
     "slide_type": "subslide"
    }
   },
   "source": [
    "***Summary***. We now have all ingredients for structure-aware fuzzing. Our mutator disassembles all seeds into fragments, which are then added to the fragment pool. Our mutator swaps random fragments in a given seed with fragments of the same type. And our mutator deletes random fragments in a given seed. This allows to maintain a high degree of validity for the generated inputs w.r.t. the given grammar.\n",
    "\n",
    "***Try it***. Try adding other structural mutation operators. How would an *add-operator* know the position in a given seed file, where it is okay to add a fragment starting with a certain symbol?"
   ]
  },
  {
   "cell_type": "markdown",
   "metadata": {
    "slideshow": {
     "slide_type": "subslide"
    }
   },
   "source": [
    "### Fragment-Based Fuzzing\n",
    "\n",
    "We can now define a input-structure aware fuzzer as pioneered in LangFuzz. To implement LangFuzz, we modify our [blackbox mutational fuzzer](GreyboxFuzzer.ipynb#Blackbox-Mutation-based-Fuzzer) to stack up to four structural mutations."
   ]
  },
  {
   "cell_type": "code",
   "execution_count": 44,
   "metadata": {
    "execution": {
     "iopub.execute_input": "2022-02-21T08:21:07.417784Z",
     "iopub.status.busy": "2022-02-21T08:21:07.417180Z",
     "iopub.status.idle": "2022-02-21T08:21:07.419003Z",
     "shell.execute_reply": "2022-02-21T08:21:07.419420Z"
    },
    "slideshow": {
     "slide_type": "subslide"
    }
   },
   "outputs": [],
   "source": [
    "class LangFuzzer(AdvancedMutationFuzzer):\n",
    "    \"\"\"Blackbox fuzzer mutating input fragments. Roughly based on `LangFuzz`.\"\"\"\n",
    "\n",
    "    def create_candidate(self) -> Seed:  # type: ignore\n",
    "        \"\"\"Returns an input generated by fuzzing a seed in the population\"\"\"\n",
    "        candidate = self.schedule.choose(self.population)\n",
    "        trials = random.randint(1, 4)\n",
    "        for i in range(trials):\n",
    "            candidate = self.mutator.mutate(candidate)\n",
    "\n",
    "        return candidate"
   ]
  },
  {
   "cell_type": "markdown",
   "metadata": {
    "slideshow": {
     "slide_type": "fragment"
    }
   },
   "source": [
    "Okay, let's take our first input-structure aware fuzzer for a spin. Being careful, we set n=300 for now."
   ]
  },
  {
   "cell_type": "code",
   "execution_count": 45,
   "metadata": {
    "execution": {
     "iopub.execute_input": "2022-02-21T08:21:07.498517Z",
     "iopub.status.busy": "2022-02-21T08:21:07.460422Z",
     "iopub.status.idle": "2022-02-21T08:21:37.430136Z",
     "shell.execute_reply": "2022-02-21T08:21:37.430517Z"
    },
    "slideshow": {
     "slide_type": "subslide"
    }
   },
   "outputs": [
    {
     "data": {
      "text/plain": [
       "'It took LangFuzzer 30.00 seconds to generate and execute 300 inputs.'"
      ]
     },
     "execution_count": 45,
     "metadata": {},
     "output_type": "execute_result"
    }
   ],
   "source": [
    "n = 300\n",
    "runner = FunctionCoverageRunner(my_parser)\n",
    "mutator = FragmentMutator(EarleyParser(XML_GRAMMAR, tokens=XML_TOKENS))\n",
    "schedule = PowerSchedule()\n",
    "\n",
    "lang_fuzzer = LangFuzzer([valid_seed.data], mutator, schedule)\n",
    "\n",
    "start = time.time()\n",
    "lang_fuzzer.runs(runner, trials=n)\n",
    "end = time.time()\n",
    "\n",
    "\"It took LangFuzzer %0.2f seconds to generate and execute %d inputs.\" % (end - start, n)"
   ]
  },
  {
   "cell_type": "markdown",
   "metadata": {
    "slideshow": {
     "slide_type": "subslide"
    }
   },
   "source": [
    "We observe that structural mutation is *sooo very slow*. This is despite our time budget of 200ms for parsing. In contrast, our blackbox fuzzer alone can generate about 10k inputs per second!"
   ]
  },
  {
   "cell_type": "code",
   "execution_count": 46,
   "metadata": {
    "execution": {
     "iopub.execute_input": "2022-02-21T08:21:37.493631Z",
     "iopub.status.busy": "2022-02-21T08:21:37.454670Z",
     "iopub.status.idle": "2022-02-21T08:21:37.641707Z",
     "shell.execute_reply": "2022-02-21T08:21:37.642158Z"
    },
    "slideshow": {
     "slide_type": "fragment"
    }
   },
   "outputs": [
    {
     "data": {
      "text/plain": [
       "'It took a blackbox fuzzer 0.20 seconds to generate and execute 300 inputs.'"
      ]
     },
     "execution_count": 46,
     "metadata": {},
     "output_type": "execute_result"
    }
   ],
   "source": [
    "runner = FunctionCoverageRunner(my_parser)\n",
    "mutator = Mutator()\n",
    "schedule = PowerSchedule()\n",
    "\n",
    "blackFuzzer = AdvancedMutationFuzzer([valid_seed.data], mutator, schedule)\n",
    "\n",
    "start = time.time()\n",
    "blackFuzzer.runs(runner, trials=n)\n",
    "end = time.time()\n",
    "\n",
    "\"It took a blackbox fuzzer %0.2f seconds to generate and execute %d inputs.\" % (end - start, n)"
   ]
  },
  {
   "cell_type": "markdown",
   "metadata": {
    "slideshow": {
     "slide_type": "subslide"
    }
   },
   "source": [
    "Indeed, our blackbox fuzzer is done in the blink of an eye.\n",
    "\n",
    "***Try it***. We can deal with this overhead using [deferred parsing](https://arxiv.org/abs/1811.09447). Instead of wasting time in the beginning of the fuzzing campaign when a byte-level mutator would make efficient progress, deferred parsing suggests to invest time in structural mutation only later in the fuzzing campaign when it becomes viable."
   ]
  },
  {
   "cell_type": "code",
   "execution_count": 47,
   "metadata": {
    "execution": {
     "iopub.execute_input": "2022-02-21T08:21:37.646453Z",
     "iopub.status.busy": "2022-02-21T08:21:37.645758Z",
     "iopub.status.idle": "2022-02-21T08:21:37.648540Z",
     "shell.execute_reply": "2022-02-21T08:21:37.648931Z"
    },
    "slideshow": {
     "slide_type": "fragment"
    }
   },
   "outputs": [
    {
     "data": {
      "text/plain": [
       "'During this fuzzing campaign, the blackbox fuzzer covered 95 statements.'"
      ]
     },
     "execution_count": 47,
     "metadata": {},
     "output_type": "execute_result"
    }
   ],
   "source": [
    "blackbox_coverage = len(runner.coverage())\n",
    "\"During this fuzzing campaign, the blackbox fuzzer covered %d statements.\" % blackbox_coverage"
   ]
  },
  {
   "cell_type": "markdown",
   "metadata": {
    "slideshow": {
     "slide_type": "subslide"
    }
   },
   "source": [
    "Let's print some stats for our fuzzing campaigns. Since we'll need to print stats more often later, we should wrap this into a function. In order to measure coverage, we import the [population_coverage](Coverage.ipynb#Coverage-of-Basic-Fuzzing) function. It takes a set of inputs and a Python function, executes the inputs on that function and collects coverage information. Specifically, it returns a tuple `(all_coverage, cumulative_coverage)` where `all_coverage` is the set of statements covered by all inputs, and `cumulative_coverage` is the number of statements covered as the number of executed inputs increases. We are just interested in the latter to plot coverage over time."
   ]
  },
  {
   "cell_type": "code",
   "execution_count": 48,
   "metadata": {
    "execution": {
     "iopub.execute_input": "2022-02-21T08:21:37.652265Z",
     "iopub.status.busy": "2022-02-21T08:21:37.651742Z",
     "iopub.status.idle": "2022-02-21T08:21:37.653977Z",
     "shell.execute_reply": "2022-02-21T08:21:37.654459Z"
    },
    "slideshow": {
     "slide_type": "skip"
    }
   },
   "outputs": [],
   "source": [
    "from Coverage import population_coverage"
   ]
  },
  {
   "cell_type": "code",
   "execution_count": 49,
   "metadata": {
    "execution": {
     "iopub.execute_input": "2022-02-21T08:21:37.660813Z",
     "iopub.status.busy": "2022-02-21T08:21:37.659862Z",
     "iopub.status.idle": "2022-02-21T08:21:37.662815Z",
     "shell.execute_reply": "2022-02-21T08:21:37.662369Z"
    },
    "slideshow": {
     "slide_type": "subslide"
    }
   },
   "outputs": [],
   "source": [
    "def print_stats(fuzzer, parser: Parser) -> None:\n",
    "    coverage, _ = population_coverage(fuzzer.inputs, my_parser)\n",
    "\n",
    "    has_structure = 0\n",
    "    for seed in fuzzer.inputs:\n",
    "        # reuse memoized information\n",
    "        if hasattr(seed, \"has_structure\"):\n",
    "            if seed.has_structure: \n",
    "                has_structure += 1\n",
    "        else:\n",
    "            if isinstance(seed, str):\n",
    "                seed = Seed(seed)\n",
    "            try:\n",
    "                with Timeout(0.2):\n",
    "                    next(parser.parse(seed.data))  # type: ignore\n",
    "                has_structure += 1\n",
    "            except (SyntaxError, TimeoutError):\n",
    "                pass\n",
    "\n",
    "    print(\"From the %d generated inputs, %d (%0.2f%%) can be parsed.\\n\"\n",
    "          \"In total, %d statements are covered.\" % (\n",
    "            len(fuzzer.inputs),\n",
    "            has_structure,\n",
    "            100 * has_structure / len(fuzzer.inputs),\n",
    "            len(coverage)))"
   ]
  },
  {
   "cell_type": "markdown",
   "metadata": {
    "slideshow": {
     "slide_type": "subslide"
    }
   },
   "source": [
    "For LangFuzzer, let's see how many of the inputs generated by LangFuzz are valid (i.e., parsable) and how many statements were covered."
   ]
  },
  {
   "cell_type": "code",
   "execution_count": 50,
   "metadata": {
    "execution": {
     "iopub.execute_input": "2022-02-21T08:21:37.713886Z",
     "iopub.status.busy": "2022-02-21T08:21:37.676541Z",
     "iopub.status.idle": "2022-02-21T08:21:37.869890Z",
     "shell.execute_reply": "2022-02-21T08:21:37.870376Z"
    },
    "slideshow": {
     "slide_type": "fragment"
    }
   },
   "outputs": [
    {
     "name": "stdout",
     "output_type": "stream",
     "text": [
      "From the 300 generated inputs, 131 (43.67%) can be parsed.\n",
      "In total, 91 statements are covered.\n"
     ]
    }
   ],
   "source": [
    "print_stats(lang_fuzzer, EarleyParser(XML_GRAMMAR, tokens=XML_TOKENS))"
   ]
  },
  {
   "cell_type": "markdown",
   "metadata": {
    "slideshow": {
     "slide_type": "fragment"
    }
   },
   "source": [
    "What are the stats for the mutational fuzzer that uses only byte-level mutation (and no grammars)?"
   ]
  },
  {
   "cell_type": "code",
   "execution_count": 51,
   "metadata": {
    "execution": {
     "iopub.execute_input": "2022-02-21T08:21:37.954009Z",
     "iopub.status.busy": "2022-02-21T08:21:37.916770Z",
     "iopub.status.idle": "2022-02-21T08:21:48.223531Z",
     "shell.execute_reply": "2022-02-21T08:21:48.224026Z"
    },
    "slideshow": {
     "slide_type": "fragment"
    }
   },
   "outputs": [
    {
     "name": "stdout",
     "output_type": "stream",
     "text": [
      "From the 300 generated inputs, 23 (7.67%) can be parsed.\n",
      "In total, 155 statements are covered.\n"
     ]
    }
   ],
   "source": [
    "print_stats(blackFuzzer, EarleyParser(XML_GRAMMAR, tokens=XML_TOKENS))"
   ]
  },
  {
   "cell_type": "markdown",
   "metadata": {
    "slideshow": {
     "slide_type": "subslide"
    }
   },
   "source": [
    "***Summary***. Our fragment-level blackbox fuzzer (LangFuzzer) generates *more valid inputs* but achieves *less code coverage* than a fuzzer with our byte-level fuzzer. So, there is some value in generating inputs that do not stick to the provided grammar. "
   ]
  },
  {
   "cell_type": "markdown",
   "metadata": {
    "slideshow": {
     "slide_type": "subslide"
    }
   },
   "source": [
    "### Integration with Greybox Fuzzing\n",
    "\n",
    "In the following we integrate fragment-level blackbox fuzzing (LangFuzz-style) with [byte-level greybox fuzzing](GreyboxFuzzer.ipynb#Greybox-Mutation-based-Fuzzer) (AFL-style). The additional coverage-feedback might allow us to increase code coverage more quickly.\n",
    "\n",
    "A [greybox fuzzer](GreyboxFuzzer.ipynb#Greybox-Mutation-based-Fuzzer) adds to the seed population all generated inputs which increase code coverage. Inputs are generated in two stages, stacking up to four structural mutations and up to 32 byte-level mutations."
   ]
  },
  {
   "cell_type": "code",
   "execution_count": 52,
   "metadata": {
    "execution": {
     "iopub.execute_input": "2022-02-21T08:21:48.231703Z",
     "iopub.status.busy": "2022-02-21T08:21:48.231112Z",
     "iopub.status.idle": "2022-02-21T08:21:48.232922Z",
     "shell.execute_reply": "2022-02-21T08:21:48.233378Z"
    },
    "slideshow": {
     "slide_type": "subslide"
    }
   },
   "outputs": [],
   "source": [
    "class GreyboxGrammarFuzzer(GreyboxFuzzer):\n",
    "    \"\"\"Greybox fuzzer using grammars.\"\"\"\n",
    "\n",
    "    def __init__(self, seeds: List[str],\n",
    "                 byte_mutator: Mutator, tree_mutator: FragmentMutator,\n",
    "                 schedule: PowerSchedule) -> None:\n",
    "        \"\"\"Constructor.\n",
    "        `seeds` - set of inputs to mutate.\n",
    "        `byte_mutator` - a byte-level mutator.\n",
    "        `tree_mutator` = a tree-level mutator.\n",
    "        `schedule` - a power schedule.\n",
    "        \"\"\"\n",
    "        super().__init__(seeds, byte_mutator, schedule)\n",
    "        self.tree_mutator = tree_mutator\n",
    "\n",
    "    def create_candidate(self) -> str:\n",
    "        \"\"\"Returns an input generated by structural mutation \n",
    "           of a seed in the population\"\"\"\n",
    "        seed = cast(SeedWithStructure, self.schedule.choose(self.population))\n",
    "\n",
    "        # Structural mutation\n",
    "        trials = random.randint(0, 4)\n",
    "        for i in range(trials):\n",
    "            seed = self.tree_mutator.mutate(seed)\n",
    "\n",
    "        # Byte-level mutation\n",
    "        candidate = seed.data\n",
    "        if trials == 0 or not seed.has_structure or random.randint(0, 1) == 1:\n",
    "            dumb_trials = min(len(seed.data), 1 << random.randint(1, 5))\n",
    "            for i in range(dumb_trials):\n",
    "                candidate = self.mutator.mutate(candidate)\n",
    "\n",
    "        return candidate"
   ]
  },
  {
   "cell_type": "markdown",
   "metadata": {
    "slideshow": {
     "slide_type": "subslide"
    }
   },
   "source": [
    "Let's run our integrated fuzzer with the [standard byte-level mutator](GreyboxFuzzer.ipynb#Mutator-and-Seed) and our [fragment-based structural mutator](#Fragment-based-Mutation) that was introduced above."
   ]
  },
  {
   "cell_type": "code",
   "execution_count": 53,
   "metadata": {
    "execution": {
     "iopub.execute_input": "2022-02-21T08:21:48.319661Z",
     "iopub.status.busy": "2022-02-21T08:21:48.282597Z",
     "iopub.status.idle": "2022-02-21T08:21:48.917733Z",
     "shell.execute_reply": "2022-02-21T08:21:48.918137Z"
    },
    "slideshow": {
     "slide_type": "subslide"
    }
   },
   "outputs": [
    {
     "data": {
      "text/plain": [
       "'It took the greybox grammar fuzzer 0.67 seconds to generate and execute 300 inputs.'"
      ]
     },
     "execution_count": 53,
     "metadata": {},
     "output_type": "execute_result"
    }
   ],
   "source": [
    "runner = FunctionCoverageRunner(my_parser)\n",
    "byte_mutator = Mutator()\n",
    "tree_mutator = FragmentMutator(EarleyParser(XML_GRAMMAR, tokens=XML_TOKENS))\n",
    "schedule = PowerSchedule()\n",
    "\n",
    "gg_fuzzer = GreyboxGrammarFuzzer([valid_seed.data], byte_mutator, tree_mutator, schedule)\n",
    "\n",
    "start = time.time()\n",
    "gg_fuzzer.runs(runner, trials=n)\n",
    "end = time.time()\n",
    "\n",
    "\"It took the greybox grammar fuzzer %0.2f seconds to generate and execute %d inputs.\" % (end - start, n)"
   ]
  },
  {
   "cell_type": "code",
   "execution_count": 54,
   "metadata": {
    "execution": {
     "iopub.execute_input": "2022-02-21T08:21:49.009466Z",
     "iopub.status.busy": "2022-02-21T08:21:48.969991Z",
     "iopub.status.idle": "2022-02-21T08:21:50.812984Z",
     "shell.execute_reply": "2022-02-21T08:21:50.813551Z"
    },
    "slideshow": {
     "slide_type": "subslide"
    }
   },
   "outputs": [
    {
     "name": "stdout",
     "output_type": "stream",
     "text": [
      "From the 300 generated inputs, 2 (0.67%) can be parsed.\n",
      "In total, 162 statements are covered.\n"
     ]
    }
   ],
   "source": [
    "print_stats(gg_fuzzer, EarleyParser(XML_GRAMMAR, tokens=XML_TOKENS))"
   ]
  },
  {
   "cell_type": "markdown",
   "metadata": {
    "slideshow": {
     "slide_type": "subslide"
    }
   },
   "source": [
    "***Summary***. Our structural greybox fuzzer \n",
    "* runs faster than the fragment-based LangFuzzer,\n",
    "* achieves more coverage than both the fragment-based LangFuzzer and the vanilla blackbox mutational fuzzer, and\n",
    "* generates fewer valid inputs than even the vanilla blackbox mutational fuzzer."
   ]
  },
  {
   "cell_type": "markdown",
   "metadata": {
    "slideshow": {
     "slide_type": "slide"
    },
    "toc-hr-collapsed": false
   },
   "source": [
    "## Fuzzing with Input Regions\n",
    "\n",
    "In the previous section, we have seen that most inputs that are added as seeds are *invalid* w.r.t. our given grammar. Yet, in order to apply our fragment-based mutators, we need it to parse the seed successfully. Otherwise, the entire fragment-based approach becomes useless.  The question arises: *How can we derive structure from (invalid) seeds that cannot be parsed successfully?*\n",
    "\n",
    "To this end, we introduce the idea of _region-based mutation_, first explored with the [AFLSmart](https://github.com/aflsmart/aflsmart) structural greybox fuzzer \\cite{Pham2018aflsmart}. AFLSmart implements byte-level, fragment-based, and region-based mutation as well as validity-based power schedules. We define *region-based mutators*, where a *region* is a consecutive sequence of bytes in the input that can be associated with a symbol in the grammar."
   ]
  },
  {
   "cell_type": "markdown",
   "metadata": {
    "slideshow": {
     "slide_type": "subslide"
    }
   },
   "source": [
    "The basic idea of fuzzing with input regions is shown in the following diagram. After _parsing_ an input (into a derivation tree), we can identify _regions_ associated with specific subtrees of the derivation tree. These regions can then be deleted or swapped.\n",
    "\n",
    "![](PICS/GreyboxGrammarFuzzer-Regions.gif)"
   ]
  },
  {
   "cell_type": "markdown",
   "metadata": {
    "slideshow": {
     "slide_type": "fragment"
    }
   },
   "source": [
    "Such regions can also be determined even if the input is incomplete or invalid, allowing for robust parsing."
   ]
  },
  {
   "cell_type": "markdown",
   "metadata": {
    "slideshow": {
     "slide_type": "subslide"
    }
   },
   "source": [
    "### Determining Symbol Regions\n",
    "\n",
    "How can we obtain regions for a given input? The function `chart_parse()` of the [Earley parser](Parser.ipynb#The-Parsing-Algorithm) produces a _parse table_ for a string. For each letter in the string, this table gives the potential symbol and a *region* of neighboring letters that might belong to the same symbol."
   ]
  },
  {
   "cell_type": "code",
   "execution_count": 55,
   "metadata": {
    "code_folding": [],
    "execution": {
     "iopub.execute_input": "2022-02-21T08:21:50.838985Z",
     "iopub.status.busy": "2022-02-21T08:21:50.837169Z",
     "iopub.status.idle": "2022-02-21T08:21:50.845764Z",
     "shell.execute_reply": "2022-02-21T08:21:50.847046Z"
    },
    "slideshow": {
     "slide_type": "subslide"
    }
   },
   "outputs": [
    {
     "name": "stdout",
     "output_type": "stream",
     "text": [
      "None chart[0]\n",
      "\n",
      "---\n",
      "< chart[1]\n",
      "\n",
      "---\n",
      "h chart[2]\n",
      "<letter>:= h |(1,2)\n",
      "<id>:= <letter> |(1,2)\n",
      "---\n",
      "t chart[3]\n",
      "<letter>:= t |(2,3)\n",
      "<id>:= <id> <letter> |(1,3)\n",
      "---\n",
      "m chart[4]\n",
      "<letter>:= m |(3,4)\n",
      "<id>:= <id> <letter> |(1,4)\n",
      "---\n",
      "l chart[5]\n",
      "<letter>:= l |(4,5)\n",
      "<id>:= <id> <letter> |(1,5)\n",
      "---\n",
      "> chart[6]\n",
      "<xml-open-tag>:= < <id> > |(0,6)\n",
      "---\n",
      "< chart[7]\n",
      "\n",
      "---\n",
      "b chart[8]\n",
      "<letter>:= b |(7,8)\n",
      "<id>:= <letter> |(7,8)\n",
      "---\n",
      "o chart[9]\n",
      "<letter>:= o |(8,9)\n",
      "<id>:= <id> <letter> |(7,9)\n",
      "---\n",
      "d chart[10]\n",
      "<letter>:= d |(9,10)\n",
      "<id>:= <id> <letter> |(7,10)\n",
      "---\n",
      "y chart[11]\n",
      "<letter>:= y |(10,11)\n",
      "<id>:= <id> <letter> |(7,11)\n",
      "---\n",
      "> chart[12]\n",
      "<xml-open-tag>:= < <id> > |(6,12)\n",
      "---\n",
      "< chart[13]\n",
      "\n",
      "---\n",
      "i chart[14]\n",
      "<letter>:= i |(13,14)\n",
      "<id>:= <letter> |(13,14)\n",
      "---\n",
      "> chart[15]\n",
      "<xml-open-tag>:= < <id> > |(12,15)\n",
      "---\n",
      "W chart[16]\n",
      "<letter_space>:= W |(15,16)\n",
      "<text>:= <letter_space> |(15,16)\n",
      "<xml-tree>:= <text> |(15,16)\n",
      "---\n",
      "o chart[17]\n",
      "<letter_space>:= o |(16,17)\n",
      "<text>:= <text> <letter_space> |(15,17)\n",
      "<text>:= <letter_space> |(16,17)\n",
      "<xml-tree>:= <text> |(15,17)\n",
      "<xml-tree>:= <text> |(16,17)\n",
      "<xml-tree>:= <xml-tree> <xml-tree> |(15,17)\n",
      "---\n",
      "r chart[18]\n",
      "<letter_space>:= r |(17,18)\n",
      "<text>:= <text> <letter_space> |(15,18)\n",
      "<text>:= <text> <letter_space> |(16,18)\n",
      "<text>:= <letter_space> |(17,18)\n",
      "<xml-tree>:= <text> |(15,18)\n",
      "<xml-tree>:= <text> |(16,18)\n",
      "<xml-tree>:= <text> |(17,18)\n",
      "<xml-tree>:= <xml-tree> <xml-tree> |(15,18)\n",
      "<xml-tree>:= <xml-tree> <xml-tree> |(16,18)\n",
      "---\n",
      "l chart[19]\n",
      "<letter_space>:= l |(18,19)\n",
      "<text>:= <text> <letter_space> |(15,19)\n",
      "<text>:= <text> <letter_space> |(16,19)\n",
      "<text>:= <text> <letter_space> |(17,19)\n",
      "<text>:= <letter_space> |(18,19)\n",
      "<xml-tree>:= <text> |(15,19)\n",
      "<xml-tree>:= <text> |(16,19)\n",
      "<xml-tree>:= <text> |(17,19)\n",
      "<xml-tree>:= <text> |(18,19)\n",
      "<xml-tree>:= <xml-tree> <xml-tree> |(15,19)\n",
      "<xml-tree>:= <xml-tree> <xml-tree> |(16,19)\n",
      "<xml-tree>:= <xml-tree> <xml-tree> |(17,19)\n",
      "---\n",
      "d chart[20]\n",
      "<letter_space>:= d |(19,20)\n",
      "<text>:= <text> <letter_space> |(15,20)\n",
      "<text>:= <text> <letter_space> |(16,20)\n",
      "<text>:= <text> <letter_space> |(17,20)\n",
      "<text>:= <text> <letter_space> |(18,20)\n",
      "<text>:= <letter_space> |(19,20)\n",
      "<xml-tree>:= <text> |(15,20)\n",
      "<xml-tree>:= <text> |(16,20)\n",
      "<xml-tree>:= <text> |(17,20)\n",
      "<xml-tree>:= <text> |(18,20)\n",
      "<xml-tree>:= <text> |(19,20)\n",
      "<xml-tree>:= <xml-tree> <xml-tree> |(15,20)\n",
      "<xml-tree>:= <xml-tree> <xml-tree> |(16,20)\n",
      "<xml-tree>:= <xml-tree> <xml-tree> |(17,20)\n",
      "<xml-tree>:= <xml-tree> <xml-tree> |(18,20)\n",
      "---\n",
      "< chart[21]\n",
      "\n",
      "---\n",
      "/ chart[22]\n",
      "\n",
      "---\n",
      "i chart[23]\n",
      "<letter>:= i |(22,23)\n",
      "<id>:= <letter> |(22,23)\n",
      "---\n",
      "> chart[24]\n",
      "<xml-close-tag>:= < / <id> > |(20,24)\n",
      "<xml-tree>:= <xml-open-tag> <xml-tree> <xml-close-tag> |(12,24)\n",
      "---\n",
      "< chart[25]\n",
      "\n",
      "---\n",
      "b chart[26]\n",
      "<letter>:= b |(25,26)\n",
      "<id>:= <letter> |(25,26)\n",
      "---\n",
      "r chart[27]\n",
      "<letter>:= r |(26,27)\n",
      "<id>:= <id> <letter> |(25,27)\n",
      "---\n",
      "/ chart[28]\n",
      "\n",
      "---\n",
      "> chart[29]\n",
      "<xml-openclose-tag>:= < <id> / > |(24,29)\n",
      "<xml-tree>:= <xml-openclose-tag> |(24,29)\n",
      "<xml-tree>:= <xml-tree> <xml-tree> |(12,29)\n",
      "---\n",
      "> chart[30]\n",
      "\n",
      "---\n",
      "/ chart[31]\n",
      "\n",
      "---\n",
      "b chart[32]\n",
      "\n",
      "---\n",
      "o chart[33]\n",
      "\n",
      "---\n",
      "d chart[34]\n",
      "\n",
      "---\n",
      "y chart[35]\n",
      "\n",
      "---\n",
      "> chart[36]\n",
      "\n",
      "---\n",
      "< chart[37]\n",
      "\n",
      "---\n",
      "/ chart[38]\n",
      "\n",
      "---\n",
      "h chart[39]\n",
      "\n",
      "---\n",
      "t chart[40]\n",
      "\n",
      "---\n",
      "m chart[41]\n",
      "\n",
      "---\n",
      "l chart[42]\n",
      "\n",
      "---\n",
      "> chart[43]\n",
      "\n",
      "---\n"
     ]
    }
   ],
   "source": [
    "invalid_seed = Seed(\"<html><body><i>World</i><br/>>/body></html>\")\n",
    "parser = EarleyParser(XML_GRAMMAR, tokens=XML_TOKENS)\n",
    "table = parser.chart_parse(invalid_seed.data, parser.start_symbol())\n",
    "for column in table:\n",
    "    print(column)\n",
    "    print(\"---\")"
   ]
  },
  {
   "cell_type": "markdown",
   "metadata": {
    "slideshow": {
     "slide_type": "subslide"
    }
   },
   "source": [
    "The number of columns in this table that are associated with potential symbols correspond to the number of letters that could be parsed successfully. In other words, we can use this table to compute the longest parsable substring."
   ]
  },
  {
   "cell_type": "code",
   "execution_count": 56,
   "metadata": {
    "execution": {
     "iopub.execute_input": "2022-02-21T08:21:50.854502Z",
     "iopub.status.busy": "2022-02-21T08:21:50.853607Z",
     "iopub.status.idle": "2022-02-21T08:21:50.858509Z",
     "shell.execute_reply": "2022-02-21T08:21:50.859012Z"
    },
    "slideshow": {
     "slide_type": "fragment"
    }
   },
   "outputs": [
    {
     "name": "stdout",
     "output_type": "stream",
     "text": [
      "'<html><body><i>World</i><br/>>/body></html>'\n"
     ]
    },
    {
     "data": {
      "text/plain": [
       "'<html><body><i>World</i><br/>'"
      ]
     },
     "execution_count": 56,
     "metadata": {},
     "output_type": "execute_result"
    }
   ],
   "source": [
    "cols = [col for col in table if col.states]\n",
    "parsable = invalid_seed.data[:len(cols)-1]\n",
    "\n",
    "print(\"'%s'\" % invalid_seed)\n",
    "parsable"
   ]
  },
  {
   "cell_type": "markdown",
   "metadata": {
    "slideshow": {
     "slide_type": "fragment"
    }
   },
   "source": [
    "From this, we can compute the *degree of validity* for an input."
   ]
  },
  {
   "cell_type": "code",
   "execution_count": 57,
   "metadata": {
    "execution": {
     "iopub.execute_input": "2022-02-21T08:21:50.865327Z",
     "iopub.status.busy": "2022-02-21T08:21:50.864569Z",
     "iopub.status.idle": "2022-02-21T08:21:50.867798Z",
     "shell.execute_reply": "2022-02-21T08:21:50.868194Z"
    },
    "slideshow": {
     "slide_type": "subslide"
    }
   },
   "outputs": [
    {
     "data": {
      "text/plain": [
       "'67.4% of the string can be parsed successfully.'"
      ]
     },
     "execution_count": 57,
     "metadata": {},
     "output_type": "execute_result"
    }
   ],
   "source": [
    "validity = 100 * len(parsable) / len(invalid_seed.data)\n",
    "\n",
    "\"%0.1f%% of the string can be parsed successfully.\" % validity"
   ]
  },
  {
   "cell_type": "markdown",
   "metadata": {
    "slideshow": {
     "slide_type": "subslide"
    }
   },
   "source": [
    "***Summary***. Unlike input fragments, input regions can be derived even if the parser fails to generate the entire parse tree."
   ]
  },
  {
   "cell_type": "markdown",
   "metadata": {
    "slideshow": {
     "slide_type": "subslide"
    },
    "tags": []
   },
   "source": [
    "### Region-Based Mutation\n",
    "\n",
    "To fuzz invalid seeds, the region-based mutator associates symbols from the grammar with regions (i.e., indexed substrings) in the seed. The [overridden](#Building-the-Fragment-Pool) method `add_to_fragment_pool()` first tries to mine the fragments from the seed. If this fails, the region mutator uses [Earley parser](Parser.ipynb#The-Parsing-Algorithm) to derive the parse table. For each column (i.e., letter), it extracts the symbols and corresponding regions. This allows the mutator to store the set of regions with each symbol."
   ]
  },
  {
   "cell_type": "code",
   "execution_count": 58,
   "metadata": {
    "execution": {
     "iopub.execute_input": "2022-02-21T08:21:50.873798Z",
     "iopub.status.busy": "2022-02-21T08:21:50.872846Z",
     "iopub.status.idle": "2022-02-21T08:21:50.875158Z",
     "shell.execute_reply": "2022-02-21T08:21:50.876163Z"
    },
    "slideshow": {
     "slide_type": "subslide"
    }
   },
   "outputs": [],
   "source": [
    "class SeedWithRegions(SeedWithStructure):\n",
    "    \"\"\"Seeds augmented with structure info\"\"\"\n",
    "\n",
    "    def __init__(self, data: str) -> None:\n",
    "        super().__init__(data)\n",
    "        self.has_regions = False\n",
    "        self.regions: Dict[str, Set] = {}"
   ]
  },
  {
   "cell_type": "code",
   "execution_count": 59,
   "metadata": {
    "execution": {
     "iopub.execute_input": "2022-02-21T08:21:50.887961Z",
     "iopub.status.busy": "2022-02-21T08:21:50.886077Z",
     "iopub.status.idle": "2022-02-21T08:21:50.890062Z",
     "shell.execute_reply": "2022-02-21T08:21:50.891067Z"
    },
    "slideshow": {
     "slide_type": "subslide"
    }
   },
   "outputs": [],
   "source": [
    "class RegionMutator(FragmentMutator):\n",
    "    def add_to_fragment_pool(self, seed: SeedWithRegions) -> None:  # type: ignore\n",
    "        \"\"\"Mark fragments and regions in a seed file\"\"\"\n",
    "        super().add_to_fragment_pool(seed)\n",
    "        if not seed.has_structure:\n",
    "            try:\n",
    "                with Timeout(0.2):\n",
    "                    seed.regions = {k: set() for k in self.parser.cgrammar}\n",
    "                    for column in self.parser.chart_parse(seed.data,\n",
    "                                                          self.parser.start_symbol()):\n",
    "                        for state in column.states:\n",
    "                            if (not self.is_excluded(state.name) and\n",
    "                                    state.e_col.index - state.s_col.index > 1 and\n",
    "                                    state.finished()):\n",
    "                                seed.regions[state.name].add((state.s_col.index,\n",
    "                                                              state.e_col.index))\n",
    "                seed.has_regions = True\n",
    "            except TimeoutError:\n",
    "                seed.has_regions = False\n",
    "        else:\n",
    "            seed.has_regions = False"
   ]
  },
  {
   "cell_type": "markdown",
   "metadata": {
    "slideshow": {
     "slide_type": "subslide"
    }
   },
   "source": [
    "This is how these regions look like for our invalid seed. A region consists of a start and end index in the seed string."
   ]
  },
  {
   "cell_type": "code",
   "execution_count": 60,
   "metadata": {
    "execution": {
     "iopub.execute_input": "2022-02-21T08:21:51.192501Z",
     "iopub.status.busy": "2022-02-21T08:21:51.142421Z",
     "iopub.status.idle": "2022-02-21T08:21:51.331253Z",
     "shell.execute_reply": "2022-02-21T08:21:51.331881Z"
    },
    "slideshow": {
     "slide_type": "subslide"
    }
   },
   "outputs": [
    {
     "name": "stdout",
     "output_type": "stream",
     "text": [
      "<start>\n",
      "<xml-tree>\n",
      "<xml-open-tag>\n",
      "|-(6,12) : <body>\n",
      "|-(12,15) : <i>\n",
      "|-(0,6) : <html>\n",
      "<xml-openclose-tag>\n",
      "<xml-close-tag>\n",
      "<xml-attribute>\n",
      "<id>\n",
      "<text>\n",
      "<letter>\n",
      "<letter_space>\n"
     ]
    }
   ],
   "source": [
    "invalid_seed = SeedWithRegions(\"<html><body><i>World</i><br/>>/body></html>\")\n",
    "mutator = RegionMutator(parser)\n",
    "mutator.add_to_fragment_pool(invalid_seed)\n",
    "for symbol in invalid_seed.regions:  # type: ignore\n",
    "    print(symbol)\n",
    "    for (s, e) in invalid_seed.regions[symbol]:  # type: ignore\n",
    "        print(\"|-(%d,%d) : %s\" % (s, e, invalid_seed.data[s:e]))"
   ]
  },
  {
   "cell_type": "markdown",
   "metadata": {
    "slideshow": {
     "slide_type": "subslide"
    }
   },
   "source": [
    "Now that we know which regions in the seed belong to which symbol, we can define region-based swap and delete operators."
   ]
  },
  {
   "cell_type": "code",
   "execution_count": 61,
   "metadata": {
    "execution": {
     "iopub.execute_input": "2022-02-21T08:21:51.345249Z",
     "iopub.status.busy": "2022-02-21T08:21:51.343895Z",
     "iopub.status.idle": "2022-02-21T08:21:51.348381Z",
     "shell.execute_reply": "2022-02-21T08:21:51.352970Z"
    },
    "slideshow": {
     "slide_type": "subslide"
    }
   },
   "outputs": [],
   "source": [
    "class RegionMutator(RegionMutator):\n",
    "    def swap_fragment(self, seed: SeedWithRegions) -> SeedWithRegions:  # type: ignore\n",
    "        \"\"\"Chooses a random region and swaps it with a fragment\n",
    "           that starts with the same symbol\"\"\"\n",
    "        if not seed.has_structure and seed.has_regions:\n",
    "            regions = [r for r in seed.regions\n",
    "                       if (len(seed.regions[r]) > 0 and\n",
    "                           len(self.fragments[r]) > 0)]\n",
    "            if len(regions) == 0:\n",
    "                return seed\n",
    "\n",
    "            key = random.choice(list(regions))\n",
    "            s, e = random.choice(list(seed.regions[key]))\n",
    "            swap_structure = random.choice(self.fragments[key])\n",
    "            swap_string = tree_to_string(swap_structure)\n",
    "            new_seed = SeedWithRegions(seed.data[:s] + swap_string + seed.data[e:])\n",
    "            new_seed.has_structure = False\n",
    "            new_seed.has_regions = False\n",
    "            return new_seed\n",
    "        else:\n",
    "            return super().swap_fragment(seed)  # type: ignore"
   ]
  },
  {
   "cell_type": "code",
   "execution_count": 62,
   "metadata": {
    "execution": {
     "iopub.execute_input": "2022-02-21T08:21:51.375459Z",
     "iopub.status.busy": "2022-02-21T08:21:51.373439Z",
     "iopub.status.idle": "2022-02-21T08:21:51.380041Z",
     "shell.execute_reply": "2022-02-21T08:21:51.385606Z"
    },
    "slideshow": {
     "slide_type": "subslide"
    }
   },
   "outputs": [],
   "source": [
    "class RegionMutator(RegionMutator):\n",
    "    def delete_fragment(self, seed: SeedWithRegions) -> SeedWithRegions:  # type: ignore\n",
    "        \"\"\"Deletes a random region\"\"\"\n",
    "        if not seed.has_structure and seed.has_regions:\n",
    "            regions = [r for r in seed.regions\n",
    "                       if len(seed.regions[r]) > 0]\n",
    "            if len(regions) == 0:\n",
    "                return seed\n",
    "\n",
    "            key = random.choice(list(regions))\n",
    "            s, e = (0, 0)\n",
    "            while (e - s < 2):\n",
    "                s, e = random.choice(list(seed.regions[key]))\n",
    "\n",
    "            new_seed = SeedWithRegions(seed.data[:s] + seed.data[e:])\n",
    "            new_seed.has_structure = False\n",
    "            new_seed.has_regions = False\n",
    "            return new_seed\n",
    "        else:\n",
    "            return super().delete_fragment(seed)  # type: ignore"
   ]
  },
  {
   "cell_type": "markdown",
   "metadata": {
    "slideshow": {
     "slide_type": "subslide"
    }
   },
   "source": [
    "Let's try our new region-based mutator. We add a simple, valid seed to the fragment pool and attempt to mutate the invalid seed."
   ]
  },
  {
   "cell_type": "code",
   "execution_count": 63,
   "metadata": {
    "execution": {
     "iopub.execute_input": "2022-02-21T08:21:51.426235Z",
     "iopub.status.busy": "2022-02-21T08:21:51.409272Z",
     "iopub.status.idle": "2022-02-21T08:21:51.645321Z",
     "shell.execute_reply": "2022-02-21T08:21:51.646466Z"
    },
    "slideshow": {
     "slide_type": "fragment"
    }
   },
   "outputs": [
    {
     "name": "stdout",
     "output_type": "stream",
     "text": [
      "<html><body><i>World</i><br/>>/body></html>\n"
     ]
    },
    {
     "data": {
      "text/plain": [
       "<body><i>World</i><br/>>/body></html>"
      ]
     },
     "execution_count": 63,
     "metadata": {},
     "output_type": "execute_result"
    }
   ],
   "source": [
    "simple_seed = SeedWithRegions(\"<b>Text</b>\")\n",
    "mutator = RegionMutator(parser)\n",
    "mutator.add_to_fragment_pool(simple_seed)\n",
    "\n",
    "print(invalid_seed)\n",
    "mutator.mutate(invalid_seed)"
   ]
  },
  {
   "cell_type": "markdown",
   "metadata": {
    "slideshow": {
     "slide_type": "subslide"
    }
   },
   "source": [
    "***Summary***. We can use the Earley parser to generate a parse table and assign regions in the input to symbols in the grammar. Our region mutators can substitute these region with fragments from the fragment pool that start with the same symbol, or delete these regions entirely.\n",
    "\n",
    "***Try it***. Implement a region pool (similar to the fragment pool) and a `swap_region()` mutator.\n",
    "You can execute your own code by opening this chapter as Jupyter notebook."
   ]
  },
  {
   "cell_type": "markdown",
   "metadata": {
    "slideshow": {
     "slide_type": "subslide"
    }
   },
   "source": [
    "### Integration with Greybox Fuzzing\n",
    "\n",
    "Let's try our shiny new region mutator by integrating it with our [structure-aware greybox fuzzer](#Integration-with-Greybox-Fuzzing)."
   ]
  },
  {
   "cell_type": "code",
   "execution_count": 64,
   "metadata": {
    "execution": {
     "iopub.execute_input": "2022-02-21T08:21:51.663962Z",
     "iopub.status.busy": "2022-02-21T08:21:51.662767Z",
     "iopub.status.idle": "2022-02-21T08:22:09.387484Z",
     "shell.execute_reply": "2022-02-21T08:22:09.388061Z"
    },
    "slideshow": {
     "slide_type": "subslide"
    }
   },
   "outputs": [
    {
     "data": {
      "text/plain": [
       "'\\nIt took the structural greybox fuzzer with region mutator\\n17.73 seconds to generate and execute 300 inputs.\\n'"
      ]
     },
     "execution_count": 64,
     "metadata": {},
     "output_type": "execute_result"
    }
   ],
   "source": [
    "runner = FunctionCoverageRunner(my_parser)\n",
    "byte_mutator = Mutator()\n",
    "tree_mutator = RegionMutator(EarleyParser(XML_GRAMMAR, tokens=XML_TOKENS))\n",
    "schedule = PowerSchedule()\n",
    "\n",
    "regionFuzzer = GreyboxGrammarFuzzer([valid_seed.data], byte_mutator, tree_mutator, schedule)\n",
    "\n",
    "start = time.time()\n",
    "regionFuzzer.runs(runner, trials = n)\n",
    "end = time.time()\n",
    "\n",
    "\"\"\"\n",
    "It took the structural greybox fuzzer with region mutator\n",
    "%0.2f seconds to generate and execute %d inputs.\n",
    "\"\"\" % (end - start, n)"
   ]
  },
  {
   "cell_type": "markdown",
   "metadata": {
    "slideshow": {
     "slide_type": "subslide"
    }
   },
   "source": [
    "We can see that the structural greybox fuzzer with region-based mutator is slower than the [fragment-based mutator alone](#Fragment-based-Fuzzing). This is because region-based structural mutation is applicable for *all seeds*. In contrast, fragment-based mutators were applicable only for tiny number of parsable seeds. Otherwise, only (very efficient) byte-level mutators were applied.\n",
    "\n",
    "Let's also print the average degree of validity for the seeds in the population."
   ]
  },
  {
   "cell_type": "code",
   "execution_count": 65,
   "metadata": {
    "execution": {
     "iopub.execute_input": "2022-02-21T08:22:09.396472Z",
     "iopub.status.busy": "2022-02-21T08:22:09.394889Z",
     "iopub.status.idle": "2022-02-21T08:22:09.397431Z",
     "shell.execute_reply": "2022-02-21T08:22:09.397845Z"
    },
    "slideshow": {
     "slide_type": "subslide"
    }
   },
   "outputs": [],
   "source": [
    "def print_more_stats(fuzzer: GreyboxGrammarFuzzer, parser: EarleyParser):\n",
    "    print_stats(fuzzer, parser)\n",
    "    validity = 0.0\n",
    "    total = 0\n",
    "    for seed in fuzzer.population:\n",
    "        if not seed.data: continue\n",
    "        table = parser.chart_parse(seed.data, parser.start_symbol())\n",
    "        cols = [col for col in table if col.states]\n",
    "        parsable = invalid_seed.data[:len(cols)-1]\n",
    "        validity += len(parsable) / len(seed.data)\n",
    "        total += 1\n",
    "\n",
    "    print(\"On average, %0.1f%% of a seed in the population can be successfully parsed.\" % (100 * validity / total))"
   ]
  },
  {
   "cell_type": "code",
   "execution_count": 66,
   "metadata": {
    "execution": {
     "iopub.execute_input": "2022-02-21T08:22:09.482011Z",
     "iopub.status.busy": "2022-02-21T08:22:09.444474Z",
     "iopub.status.idle": "2022-02-21T08:22:12.340537Z",
     "shell.execute_reply": "2022-02-21T08:22:12.341081Z"
    },
    "slideshow": {
     "slide_type": "subslide"
    }
   },
   "outputs": [
    {
     "name": "stdout",
     "output_type": "stream",
     "text": [
      "From the 300 generated inputs, 3 (1.00%) can be parsed.\n",
      "In total, 170 statements are covered.\n",
      "On average, 9.2% of a seed in the population can be successfully parsed.\n"
     ]
    }
   ],
   "source": [
    "print_more_stats(regionFuzzer, parser)"
   ]
  },
  {
   "cell_type": "markdown",
   "metadata": {
    "slideshow": {
     "slide_type": "subslide"
    }
   },
   "source": [
    "***Summary***. Compared to fragment-based mutation, a greybox fuzzer with region-based mutation achieves *higher coverage* but generates a *smaller number of valid inputs*. The higher coverage is explained by leveraging at least *some* structure for seeds that cannot be parsed successfully.\n"
   ]
  },
  {
   "cell_type": "markdown",
   "metadata": {
    "slideshow": {
     "slide_type": "subslide"
    }
   },
   "source": [
    "### Focusing on Valid Seeds\n",
    "\n",
    "In the previous section, we have a problem: The low (degree of) validity.  To address this problem, a _validity-based power schedule_ assigns more [energy](GreyboxFuzzer.ipynb#Power-Schedules) to seeds that have a higher degree of validity.  In other words, the fuzzer _spends more time fuzzing seeds that are more valid_."
   ]
  },
  {
   "cell_type": "code",
   "execution_count": 67,
   "metadata": {
    "execution": {
     "iopub.execute_input": "2022-02-21T08:22:12.345622Z",
     "iopub.status.busy": "2022-02-21T08:22:12.344837Z",
     "iopub.status.idle": "2022-02-21T08:22:12.347640Z",
     "shell.execute_reply": "2022-02-21T08:22:12.348104Z"
    },
    "slideshow": {
     "slide_type": "skip"
    }
   },
   "outputs": [],
   "source": [
    "import math"
   ]
  },
  {
   "cell_type": "code",
   "execution_count": 68,
   "metadata": {
    "execution": {
     "iopub.execute_input": "2022-02-21T08:22:12.356533Z",
     "iopub.status.busy": "2022-02-21T08:22:12.355473Z",
     "iopub.status.idle": "2022-02-21T08:22:12.357497Z",
     "shell.execute_reply": "2022-02-21T08:22:12.358070Z"
    },
    "slideshow": {
     "slide_type": "subslide"
    }
   },
   "outputs": [],
   "source": [
    "class AFLSmartSchedule(PowerSchedule):\n",
    "    def __init__(self, parser: EarleyParser, exponent: float = 1.0):\n",
    "        self.parser = parser\n",
    "        self.exponent = exponent\n",
    "\n",
    "    def parsable(self, seed: Seed) -> str:\n",
    "        \"\"\"Returns the substring that is parsable\"\"\"\n",
    "        table = self.parser.chart_parse(seed.data, self.parser.start_symbol())\n",
    "        cols = [col for col in table if col.states]\n",
    "        return seed.data[:len(cols)-1]\n",
    "\n",
    "    def degree_of_validity(self, seed: Seed) -> float:\n",
    "        \"\"\"Returns the proportion of a seed that is parsable\"\"\"\n",
    "        if not hasattr(seed, 'validity'):\n",
    "            seed.validity = (len(self.parsable(seed)) / len(seed.data)  # type: ignore\n",
    "                             if len(seed.data) > 0 else 0)\n",
    "        return seed.validity  # type: ignore\n",
    "\n",
    "    def assignEnergy(self, population: Sequence[Seed]):\n",
    "        \"\"\"Assign exponential energy proportional to degree of validity\"\"\"\n",
    "        for seed in population:\n",
    "            seed.energy = ((self.degree_of_validity(seed) / math.log(len(seed.data))) ** self.exponent\n",
    "                           if len(seed.data) > 1 else 0)"
   ]
  },
  {
   "cell_type": "markdown",
   "metadata": {
    "slideshow": {
     "slide_type": "subslide"
    }
   },
   "source": [
    "Let's play with the degree of validity by passing in a valid seed ..."
   ]
  },
  {
   "cell_type": "code",
   "execution_count": 69,
   "metadata": {
    "execution": {
     "iopub.execute_input": "2022-02-21T08:22:12.400281Z",
     "iopub.status.busy": "2022-02-21T08:22:12.374671Z",
     "iopub.status.idle": "2022-02-21T08:22:12.405046Z",
     "shell.execute_reply": "2022-02-21T08:22:12.405554Z"
    },
    "slideshow": {
     "slide_type": "fragment"
    }
   },
   "outputs": [
    {
     "name": "stdout",
     "output_type": "stream",
     "text": [
      "Entire seed: <b>Text</b>\n",
      "   Parsable: <b>Text</b>\n"
     ]
    },
    {
     "data": {
      "text/plain": [
       "'Degree of validity: 100.00%'"
      ]
     },
     "execution_count": 69,
     "metadata": {},
     "output_type": "execute_result"
    }
   ],
   "source": [
    "smart_schedule = AFLSmartSchedule(parser)\n",
    "print(\"%11s: %s\" % (\"Entire seed\", simple_seed))\n",
    "print(\"%11s: %s\" % (\"Parsable\", smart_schedule.parsable(simple_seed)))\n",
    "\n",
    "\"Degree of validity: %0.2f%%\" % (100 * smart_schedule.degree_of_validity(simple_seed))"
   ]
  },
  {
   "cell_type": "markdown",
   "metadata": {
    "slideshow": {
     "slide_type": "fragment"
    }
   },
   "source": [
    "... and an invalid seed."
   ]
  },
  {
   "cell_type": "code",
   "execution_count": 70,
   "metadata": {
    "execution": {
     "iopub.execute_input": "2022-02-21T08:22:12.464318Z",
     "iopub.status.busy": "2022-02-21T08:22:12.423220Z",
     "iopub.status.idle": "2022-02-21T08:22:12.485858Z",
     "shell.execute_reply": "2022-02-21T08:22:12.486562Z"
    },
    "slideshow": {
     "slide_type": "subslide"
    }
   },
   "outputs": [
    {
     "name": "stdout",
     "output_type": "stream",
     "text": [
      "Entire seed: <html><body><i>World</i><br/>>/body></html>\n",
      "   Parsable: <html><body><i>World</i><br/>\n"
     ]
    },
    {
     "data": {
      "text/plain": [
       "'Degree of validity: 67.44%'"
      ]
     },
     "execution_count": 70,
     "metadata": {},
     "output_type": "execute_result"
    }
   ],
   "source": [
    "print(\"%11s: %s\" % (\"Entire seed\", invalid_seed))\n",
    "print(\"%11s: %s\" % (\"Parsable\", smart_schedule.parsable(invalid_seed)))\n",
    "\n",
    "\"Degree of validity: %0.2f%%\" % (100 * smart_schedule.degree_of_validity(invalid_seed))"
   ]
  },
  {
   "cell_type": "markdown",
   "metadata": {
    "slideshow": {
     "slide_type": "fragment"
    }
   },
   "source": [
    "Excellent. We can compute the degree of validity as the proportion of the string that can be parsed. \n",
    "\n",
    "Let's plug the validity-based power schedule into the structure-aware greybox fuzzer."
   ]
  },
  {
   "cell_type": "code",
   "execution_count": 71,
   "metadata": {
    "execution": {
     "iopub.execute_input": "2022-02-21T08:22:12.536851Z",
     "iopub.status.busy": "2022-02-21T08:22:12.502420Z",
     "iopub.status.idle": "2022-02-21T08:22:29.445982Z",
     "shell.execute_reply": "2022-02-21T08:22:29.448527Z"
    },
    "slideshow": {
     "slide_type": "subslide"
    }
   },
   "outputs": [
    {
     "data": {
      "text/plain": [
       "'It took AFLSmart 16.93 seconds to generate and execute 300 inputs.'"
      ]
     },
     "execution_count": 71,
     "metadata": {},
     "output_type": "execute_result"
    }
   ],
   "source": [
    "runner = FunctionCoverageRunner(my_parser)\n",
    "byte_mutator = Mutator()\n",
    "tree_mutator = RegionMutator(EarleyParser(XML_GRAMMAR, tokens=XML_TOKENS))\n",
    "schedule = AFLSmartSchedule(parser)\n",
    "\n",
    "aflsmart_fuzzer = GreyboxGrammarFuzzer([valid_seed.data], byte_mutator, \n",
    "                                       tree_mutator, schedule)\n",
    "\n",
    "start = time.time()\n",
    "aflsmart_fuzzer.runs(runner, trials=n)\n",
    "end = time.time()\n",
    "\n",
    "\"It took AFLSmart %0.2f seconds to generate and execute %d inputs.\" % (end - start, n)"
   ]
  },
  {
   "cell_type": "code",
   "execution_count": 72,
   "metadata": {
    "execution": {
     "iopub.execute_input": "2022-02-21T08:22:29.482543Z",
     "iopub.status.busy": "2022-02-21T08:22:29.480527Z",
     "iopub.status.idle": "2022-02-21T08:22:37.205455Z",
     "shell.execute_reply": "2022-02-21T08:22:37.206604Z"
    },
    "slideshow": {
     "slide_type": "subslide"
    }
   },
   "outputs": [
    {
     "name": "stdout",
     "output_type": "stream",
     "text": [
      "From the 300 generated inputs, 1 (0.33%) can be parsed.\n",
      "In total, 154 statements are covered.\n",
      "On average, 17.8% of a seed in the population can be successfully parsed.\n"
     ]
    }
   ],
   "source": [
    "print_more_stats(aflsmart_fuzzer, parser)"
   ]
  },
  {
   "cell_type": "markdown",
   "metadata": {
    "slideshow": {
     "slide_type": "subslide"
    }
   },
   "source": [
    "***Summary***. Indeed, by spending more time fuzzing seeds with a higher degree of validity, we also generate inputs with a higher degree of validity. More inputs are entirely valid w.r.t. the given grammar.\n",
    "\n",
    "***Read up***. Learn more about region-based fuzzing, deferred parsing, and validity-based schedules in the original AFLSmart paper: \"[Smart Greybox Fuzzing](https://arxiv.org/abs/1811.09447)\" by Pham et al.. Download and improve AFLSmart: [https://github.com/aflsmart/aflsmart](https://github.com/aflsmart/aflsmart)."
   ]
  },
  {
   "cell_type": "markdown",
   "metadata": {
    "slideshow": {
     "slide_type": "slide"
    }
   },
   "source": [
    "## Mining Seeds\n",
    "\n",
    "By now, it should have become clear that the _choice of seeds_ can very much influence the success of fuzzing.  One aspect is _variability_ – our seeds should cover as many different features as possible in order to increase coverage.  Another aspect, however, is the _likelihood of a seed to induce errors_ – that is, if a seed was involved in causing a failure before, then a mutation of this very seed may be likely to induce failures again.  This is because fixes for past failures typically are successful in letting the concrete failure no longer occur, but sometimes may fail to capture all conditions under which a failure may occur.  Hence, even if the original failure is fixed, the likelihood of an error in the _surroundings_ of the original failure-inducing input is still higher.  It thus pays off to use as seeds _inputs that are known to have caused failures before_.\n",
    "\n",
    "To put things in context, Holler's _LangFuzz_ fuzzer used as seeds JavaScript inputs from CVE reports.  These were published as failure-inducing inputs at a time when the error already had been fixed; thus they could do no harm anymore.  Yet, by using such inputs as seeds, LangFuzz would create plenty of mutations and recombinations of all their features, many of which would (and do) find errors again and again."
   ]
  },
  {
   "cell_type": "markdown",
   "metadata": {
    "button": false,
    "new_sheet": true,
    "run_control": {
     "read_only": false
    },
    "slideshow": {
     "slide_type": "slide"
    }
   },
   "source": [
    "## Lessons Learned\n",
    "\n",
    "* A **dictionary** is useful to inject important keywords into the generated inputs.\n",
    "\n",
    "* **Fragment-based mutation** first disassembles seeds into fragments, and reassembles these fragments to generate new inputs. A *fragment* is a subtree in the seed's parse tree. However, fragment-based mutation requires that the seeds can be parsed successfully, which may not be true for seeds discovered by a coverage-based greybox fuzzer.\n",
    "\n",
    "* **Region-based mutation** marks regions in the input as belonging to a certain symbol in the grammar. For instance, it may identify a substring '</a>' as closing tag. These regions can then be deleted or substituted by fragments or regions belonging to the same symbol. Unlike fragment-based mutation, region-based mutation is applicable to *all* seeds - even those that can be parsed only partially. However, the degree of validity is still quite low for the generated inputs.\n",
    "\n",
    "* A **validity-based power schedule** invests more energy into seeds with a higher degree of validity. The inputs that are generated also have a higher degree of validity.\n",
    "\n",
    "* **Mining seeds** from repositories of previous failure-inducing inputs results in input fragments associated with past failures, raising the likelihood to find more failures in the vicinity."
   ]
  },
  {
   "cell_type": "markdown",
   "metadata": {
    "slideshow": {
     "slide_type": "slide"
    },
    "tags": []
   },
   "source": [
    "## Background\n",
    "\n",
    "This chapter builds on the following two works:\n",
    "\n",
    "* The _LangFuzz_ fuzzer \\cite{Holler2012} is an efficient (and effective!) grammar-based fuzzer for (mostly) JavaScript.  It uses the grammar for parsing seeds and recombining their inputs with generated parts and found 2,600 bugs in JavaScript interpreters to date.\n",
    "\n",
    "* Smart greybox fuzzing ([AFLSmart](https://github.com/aflsmart/aflsmart)) brings together coverage-based fuzzing and grammar-based (structural) fuzzing, as described in \\cite{Pham2018aflsmart}.  The resulting AFLSMART tool has discovered 42 zero-day vulnerabilities in widely-used, well-tested tools and libraries; so far 17 CVEs were assigned."
   ]
  },
  {
   "cell_type": "markdown",
   "metadata": {
    "slideshow": {
     "slide_type": "slide"
    },
    "tags": []
   },
   "source": [
    "Recent fuzzing work also brings together grammar-based fuzzing and coverage.\n",
    "\n",
    "* _Superion_ \\cite{Wang2019superion} is equivalent to our section \"Integration with Greybox Fuzzing\", as above – that is, a combination of LangFuzz and Greybox Fuzzing, but no AFL-style byte-level mutation.  Superion can improve the code coverage (i.e., 16.7% and 8.8% in line and function coverage) and bug-finding capability over AFL and jsfunfuzz.  According to the authors, they found 30 new bugs, among which they discovered 21 new vulnerabilities with 16 CVEs assigned and 3.2K USD bug bounty rewards received.\n",
    "\n",
    "* _Nautilus_ \\cite{Aschermann2019nautilus} also combines grammar-based fuzzing with coverage feedback.  It maintains the parse tree for all seeds and generated inputs. To allow AFL-style byte-level mutations, it \"collapses\" subtrees back to byte-level representations.  This has the advantage of not having to re-parse generated seeds; however, over time, Nautilus de-generates to structure-unaware greybox fuzzing because it does not re-parse collapsed subtrees to reconstitute input structure for later seeds where most of the parse tree is collapsed.  Nautilus identified bugs in mruby, PHP, ChakraCore, and in Lua; reporting these bugs was awarded with a sum of 2600 USD and 6 CVEs were assigned.\n",
    "\n",
    "* [FormatFuzzer](https://uds-se.github.io/FormatFuzzer/) is a framework for high-efficiency, high-quality generation and parsing of binary inputs. It takes a binary template that describes the format of a binary input and generates an executable that produces and parses the given binary format. From a binary template for GIF, for instance, FormatFuzzer produces a GIF generator - also known as GIF fuzzer. Generators produced by FormatFuzzer are highly efficient, producing thousands of valid test inputs per second. FormatFuzzer operates in black-box settings, but can also integrate with AFL to produce valid inputs that also aim for maximum coverage."
   ]
  },
  {
   "cell_type": "markdown",
   "metadata": {
    "slideshow": {
     "slide_type": "slide"
    },
    "tags": []
   },
   "source": [
    "## Synopsis\n",
    "\n",
    "This chapter introduces advanced methods for language-based grey-box fuzzing inspired by the _LangFuzz_ and _AFLSmart_ fuzzers."
   ]
  },
  {
   "cell_type": "markdown",
   "metadata": {
    "slideshow": {
     "slide_type": "subslide"
    }
   },
   "source": [
    "### Fuzzing with Dictionaries\n",
    "\n",
    "Rather than mutating strings randomly, the `DictMutator` class allows to insert tokens from a dictionary, thus increasing fuzzer performance. The dictionary comes as a list of strings, out of which random elements are picked and inserted - in addition to the given mutations such as deleting or inserting individual bytes."
   ]
  },
  {
   "cell_type": "code",
   "execution_count": 73,
   "metadata": {
    "execution": {
     "iopub.execute_input": "2022-02-21T08:22:37.214145Z",
     "iopub.status.busy": "2022-02-21T08:22:37.213443Z",
     "iopub.status.idle": "2022-02-21T08:22:37.215679Z",
     "shell.execute_reply": "2022-02-21T08:22:37.215212Z"
    },
    "slideshow": {
     "slide_type": "fragment"
    }
   },
   "outputs": [],
   "source": [
    "dict_mutator = DictMutator([\"<a>\", \"</a>\", \"<a/>\", \"='a'\"])"
   ]
  },
  {
   "cell_type": "code",
   "execution_count": 74,
   "metadata": {
    "execution": {
     "iopub.execute_input": "2022-02-21T08:22:37.222891Z",
     "iopub.status.busy": "2022-02-21T08:22:37.221903Z",
     "iopub.status.idle": "2022-02-21T08:22:37.225977Z",
     "shell.execute_reply": "2022-02-21T08:22:37.226713Z"
    },
    "slideshow": {
     "slide_type": "subslide"
    }
   },
   "outputs": [
    {
     "name": "stdout",
     "output_type": "stream",
     "text": [
      "<html><head><title>Hello</title></head><body>World<br+></body></html>\n",
      "<html><heaad><title>Hello</title></head><body>World<br/></body></html>\n",
      "<html><head><title>Hello</title></head><body>World<br/></bdy></html>\n",
      "<html><head><title>Hello</title></jead><body>World<br/></body></html>\n",
      "<='a'html><head><title>Hello</title></head><body>World<br/></body></html>\n",
      "<html><head><title>Hello</title></hea><body>World<br/></body></html>\n",
      "<html><head><title>Hello</title></head><body>World<br/></body6</html>\n",
      "<html><head><title>Hello</title></head><body>World<br/></bdy></html>\n",
      "<html><head><title>Hepllo</title></head><body>World<br/></body></html>\n",
      "z<html><head><title>Hello</title></head><body>World<br/></body></html>\n"
     ]
    }
   ],
   "source": [
    "seeds = [\"<html><head><title>Hello</title></head><body>World<br/></body></html>\"]\n",
    "for i in range(10):\n",
    "    print(dict_mutator.mutate(seeds[0]))"
   ]
  },
  {
   "cell_type": "markdown",
   "metadata": {
    "slideshow": {
     "slide_type": "fragment"
    }
   },
   "source": [
    "This `DictMutator` can be used as an argument to `GreyboxFuzzer`:"
   ]
  },
  {
   "cell_type": "code",
   "execution_count": 75,
   "metadata": {
    "execution": {
     "iopub.execute_input": "2022-02-21T08:22:37.281539Z",
     "iopub.status.busy": "2022-02-21T08:22:37.280263Z",
     "iopub.status.idle": "2022-02-21T08:22:37.284323Z",
     "shell.execute_reply": "2022-02-21T08:22:37.283223Z"
    },
    "slideshow": {
     "slide_type": "subslide"
    }
   },
   "outputs": [],
   "source": [
    "runner = FunctionCoverageRunner(my_parser)\n",
    "dict_fuzzer = GreyboxFuzzer(seeds, dict_mutator, PowerSchedule())"
   ]
  },
  {
   "cell_type": "code",
   "execution_count": 76,
   "metadata": {
    "execution": {
     "iopub.execute_input": "2022-02-21T08:22:37.297608Z",
     "iopub.status.busy": "2022-02-21T08:22:37.293620Z",
     "iopub.status.idle": "2022-02-21T08:22:37.299510Z",
     "shell.execute_reply": "2022-02-21T08:22:37.300099Z"
    },
    "slideshow": {
     "slide_type": "fragment"
    }
   },
   "outputs": [],
   "source": [
    "dict_fuzzer_outcome = dict_fuzzer.runs(runner, trials=5)"
   ]
  },
  {
   "cell_type": "code",
   "execution_count": 77,
   "metadata": {
    "execution": {
     "iopub.execute_input": "2022-02-21T08:22:37.304424Z",
     "iopub.status.busy": "2022-02-21T08:22:37.303742Z",
     "iopub.status.idle": "2022-02-21T08:22:37.306030Z",
     "shell.execute_reply": "2022-02-21T08:22:37.306483Z"
    },
    "slideshow": {
     "slide_type": "fragment"
    }
   },
   "outputs": [],
   "source": [
    "# ignore\n",
    "from ClassDiagram import display_class_hierarchy\n",
    "from Coverage import Location  # minor dependency"
   ]
  },
  {
   "cell_type": "code",
   "execution_count": 78,
   "metadata": {
    "execution": {
     "iopub.execute_input": "2022-02-21T08:22:37.314264Z",
     "iopub.status.busy": "2022-02-21T08:22:37.313488Z",
     "iopub.status.idle": "2022-02-21T08:22:38.170606Z",
     "shell.execute_reply": "2022-02-21T08:22:38.171057Z"
    },
    "slideshow": {
     "slide_type": "subslide"
    }
   },
   "outputs": [
    {
     "data": {
      "image/svg+xml": [
       "<?xml version=\"1.0\" encoding=\"UTF-8\" standalone=\"no\"?>\n",
       "<!DOCTYPE svg PUBLIC \"-//W3C//DTD SVG 1.1//EN\"\n",
       " \"http://www.w3.org/Graphics/SVG/1.1/DTD/svg11.dtd\">\n",
       "<!-- Generated by graphviz version 2.49.3 (20211023.0002)\n",
       " -->\n",
       "<!-- Pages: 1 -->\n",
       "<svg width=\"306pt\" height=\"141pt\"\n",
       " viewBox=\"0.00 0.00 305.50 141.00\" xmlns=\"http://www.w3.org/2000/svg\" xmlns:xlink=\"http://www.w3.org/1999/xlink\">\n",
       "<g id=\"graph0\" class=\"graph\" transform=\"scale(1 1) rotate(0) translate(4 137)\">\n",
       "<g id=\"a_graph0\"><a xlink:title=\"DictMutator class hierarchy\">\n",
       "<polygon fill=\"white\" stroke=\"transparent\" points=\"-4,4 -4,-137 301.5,-137 301.5,4 -4,4\"/>\n",
       "</a>\n",
       "</g>\n",
       "<!-- DictMutator -->\n",
       "<g id=\"node1\" class=\"node\">\n",
       "<title>DictMutator</title>\n",
       "<g id=\"a_node1\"><a xlink:href=\"#\" xlink:title=\"class DictMutator:&#10;Mutate strings using keywords from a dictionary\">\n",
       "<polygon fill=\"none\" stroke=\"black\" points=\"0,-0.5 0,-53.5 161,-53.5 161,-0.5 0,-0.5\"/>\n",
       "<text text-anchor=\"start\" x=\"42.5\" y=\"-39.3\" font-family=\"Patua One, Helvetica, sans-serif\" font-weight=\"bold\" font-size=\"14.00\" fill=\"#b03a2e\">DictMutator</text>\n",
       "<polyline fill=\"none\" stroke=\"black\" points=\"0,-30.5 161,-30.5 \"/>\n",
       "<g id=\"a_node1_0\"><a xlink:href=\"#\" xlink:title=\"DictMutator\">\n",
       "<g id=\"a_node1_1\"><a xlink:href=\"#\" xlink:title=\"__init__(self, dictionary: List[str]) &#45;&gt; None:&#10;Constructor. `dictionary` is the list of keywords to use.\">\n",
       "<text text-anchor=\"start\" x=\"8.5\" y=\"-19.5\" font-family=\"'Fira Mono', 'Source Code Pro', 'Courier', monospace\" font-weight=\"bold\" font-style=\"italic\" font-size=\"10.00\">__init__()</text>\n",
       "</a>\n",
       "</g>\n",
       "<g id=\"a_node1_2\"><a xlink:href=\"#\" xlink:title=\"insert_from_dictionary(self, s: str) &#45;&gt; str:&#10;Returns s with a keyword from the dictionary inserted\">\n",
       "<text text-anchor=\"start\" x=\"8.5\" y=\"-7.5\" font-family=\"'Fira Mono', 'Source Code Pro', 'Courier', monospace\" font-size=\"10.00\">insert_from_dictionary()</text>\n",
       "</a>\n",
       "</g>\n",
       "</a>\n",
       "</g>\n",
       "</a>\n",
       "</g>\n",
       "</g>\n",
       "<!-- Mutator -->\n",
       "<g id=\"node2\" class=\"node\">\n",
       "<title>Mutator</title>\n",
       "<g id=\"a_node2\"><a xlink:href=\"GreyboxFuzzer.ipynb\" xlink:title=\"class Mutator:&#10;Mutate strings\">\n",
       "<polygon fill=\"none\" stroke=\"black\" points=\"42,-90.5 42,-132.5 119,-132.5 119,-90.5 42,-90.5\"/>\n",
       "<text text-anchor=\"start\" x=\"54.5\" y=\"-118.3\" font-family=\"Patua One, Helvetica, sans-serif\" font-weight=\"bold\" font-size=\"14.00\" fill=\"#b03a2e\">Mutator</text>\n",
       "<polyline fill=\"none\" stroke=\"black\" points=\"42,-109.5 119,-109.5 \"/>\n",
       "<g id=\"a_node2_3\"><a xlink:href=\"#\" xlink:title=\"Mutator\">\n",
       "<g id=\"a_node2_4\"><a xlink:href=\"GreyboxFuzzer.ipynb\" xlink:title=\"__init__(self) &#45;&gt; None:&#10;Constructor\">\n",
       "<text text-anchor=\"start\" x=\"50.5\" y=\"-98\" font-family=\"'Fira Mono', 'Source Code Pro', 'Courier', monospace\" font-weight=\"bold\" font-style=\"italic\" font-size=\"10.00\">__init__()</text>\n",
       "</a>\n",
       "</g>\n",
       "</a>\n",
       "</g>\n",
       "</a>\n",
       "</g>\n",
       "</g>\n",
       "<!-- DictMutator&#45;&gt;Mutator -->\n",
       "<g id=\"edge1\" class=\"edge\">\n",
       "<title>DictMutator&#45;&gt;Mutator</title>\n",
       "<path fill=\"none\" stroke=\"black\" d=\"M80.5,-53.65C80.5,-62.06 80.5,-71.48 80.5,-80.2\"/>\n",
       "<polygon fill=\"none\" stroke=\"black\" points=\"77,-80.37 80.5,-90.37 84,-80.37 77,-80.37\"/>\n",
       "</g>\n",
       "<!-- Legend -->\n",
       "<g id=\"node3\" class=\"node\">\n",
       "<title>Legend</title>\n",
       "<text text-anchor=\"start\" x=\"179.5\" y=\"-44.5\" font-family=\"Patua One, Helvetica, sans-serif\" font-weight=\"bold\" font-size=\"10.00\" fill=\"#b03a2e\">Legend</text>\n",
       "<text text-anchor=\"start\" x=\"179.5\" y=\"-34.5\" font-family=\"Patua One, Helvetica, sans-serif\" font-size=\"10.00\">• </text>\n",
       "<text text-anchor=\"start\" x=\"185.5\" y=\"-34.5\" font-family=\"'Fira Mono', 'Source Code Pro', 'Courier', monospace\" font-weight=\"bold\" font-size=\"8.00\">public_method()</text>\n",
       "<text text-anchor=\"start\" x=\"179.5\" y=\"-24.5\" font-family=\"Patua One, Helvetica, sans-serif\" font-size=\"10.00\">• </text>\n",
       "<text text-anchor=\"start\" x=\"185.5\" y=\"-24.5\" font-family=\"'Fira Mono', 'Source Code Pro', 'Courier', monospace\" font-size=\"8.00\">private_method()</text>\n",
       "<text text-anchor=\"start\" x=\"179.5\" y=\"-14.5\" font-family=\"Patua One, Helvetica, sans-serif\" font-size=\"10.00\">• </text>\n",
       "<text text-anchor=\"start\" x=\"185.5\" y=\"-14.5\" font-family=\"'Fira Mono', 'Source Code Pro', 'Courier', monospace\" font-style=\"italic\" font-size=\"8.00\">overloaded_method()</text>\n",
       "<text text-anchor=\"start\" x=\"179.5\" y=\"-5.3\" font-family=\"Helvetica,sans-Serif\" font-size=\"9.00\">Hover over names to see doc</text>\n",
       "</g>\n",
       "</g>\n",
       "</svg>\n"
      ],
      "text/plain": [
       "<graphviz.dot.Digraph at 0x115a797f0>"
      ]
     },
     "execution_count": 78,
     "metadata": {},
     "output_type": "execute_result"
    }
   ],
   "source": [
    "# ignore\n",
    "display_class_hierarchy([DictMutator],\n",
    "                        public_methods=[\n",
    "                            Mutator.__init__,\n",
    "                            DictMutator.__init__,\n",
    "                        ],\n",
    "                        types={'DerivationTree': DerivationTree,\n",
    "                               'Location': Location},\n",
    "                        project='fuzzingbook')"
   ]
  },
  {
   "cell_type": "markdown",
   "metadata": {
    "slideshow": {
     "slide_type": "subslide"
    }
   },
   "source": [
    "### Fuzzing with Input Fragments\n",
    "\n",
    "The `LangFuzzer` class introduces a _language-aware_ fuzzer that can recombine fragments from existing inputs – inspired by the highly effective `LangFuzz` fuzzer. At its core is a `FragmentMutator` class that that takes a [_parser_](Parser.ipynb) as argument:"
   ]
  },
  {
   "cell_type": "code",
   "execution_count": 79,
   "metadata": {
    "execution": {
     "iopub.execute_input": "2022-02-21T08:22:38.178150Z",
     "iopub.status.busy": "2022-02-21T08:22:38.177445Z",
     "iopub.status.idle": "2022-02-21T08:22:38.179437Z",
     "shell.execute_reply": "2022-02-21T08:22:38.180051Z"
    },
    "slideshow": {
     "slide_type": "fragment"
    }
   },
   "outputs": [],
   "source": [
    "parser = EarleyParser(XML_GRAMMAR, tokens=XML_TOKENS)\n",
    "mutator = FragmentMutator(parser)"
   ]
  },
  {
   "cell_type": "markdown",
   "metadata": {
    "slideshow": {
     "slide_type": "fragment"
    }
   },
   "source": [
    "The fuzzer itself is initialized with a list of seeds, the above `FragmentMutator`, and a power schedule:"
   ]
  },
  {
   "cell_type": "code",
   "execution_count": 80,
   "metadata": {
    "execution": {
     "iopub.execute_input": "2022-02-21T08:22:38.188254Z",
     "iopub.status.busy": "2022-02-21T08:22:38.187449Z",
     "iopub.status.idle": "2022-02-21T08:22:38.189922Z",
     "shell.execute_reply": "2022-02-21T08:22:38.190604Z"
    },
    "slideshow": {
     "slide_type": "fragment"
    }
   },
   "outputs": [],
   "source": [
    "seeds = [\"<html><head><title>Hello</title></head><body>World<br/></body></html>\"]\n",
    "schedule = PowerSchedule()\n",
    "lang_fuzzer = LangFuzzer(seeds, mutator, schedule)"
   ]
  },
  {
   "cell_type": "code",
   "execution_count": 81,
   "metadata": {
    "execution": {
     "iopub.execute_input": "2022-02-21T08:22:38.287903Z",
     "iopub.status.busy": "2022-02-21T08:22:38.247910Z",
     "iopub.status.idle": "2022-02-21T08:22:38.475354Z",
     "shell.execute_reply": "2022-02-21T08:22:38.476298Z"
    },
    "slideshow": {
     "slide_type": "subslide"
    }
   },
   "outputs": [
    {
     "name": "stdout",
     "output_type": "stream",
     "text": [
      "<html><head><title>Hello</title></head><body>World<br/></body></html>\n",
      "<html><head><title>Hello</title></head><body>World<br/></body></html>\n",
      "<html><head><title>Hello</title></head><body>World<br/></body></html>\n",
      "<html><head><title>Hello</title></head><body>World<br/></body></html>\n",
      "<html><head><title>Hello</title></head><body>World<br/></body></html>\n",
      "<html><head><title>Hello</title></head><body>World<br/></body></html>\n",
      "<html><head><title>Hello</title></head><body>World<br/></body></html>\n",
      "<html><head><title>Hello</title></head><body>World<br/></body></html>\n",
      "<html><head><title>Hello</title></head><body>World<br/></body></html>\n",
      "<html><head><title>Hello</title></head><body>World<br/></body></html>\n"
     ]
    }
   ],
   "source": [
    "for i in range(10):\n",
    "    print(lang_fuzzer.fuzz())"
   ]
  },
  {
   "cell_type": "code",
   "execution_count": 82,
   "metadata": {
    "execution": {
     "iopub.execute_input": "2022-02-21T08:22:38.486788Z",
     "iopub.status.busy": "2022-02-21T08:22:38.485581Z",
     "iopub.status.idle": "2022-02-21T08:22:39.323116Z",
     "shell.execute_reply": "2022-02-21T08:22:39.324635Z"
    },
    "slideshow": {
     "slide_type": "subslide"
    }
   },
   "outputs": [
    {
     "data": {
      "image/svg+xml": [
       "<?xml version=\"1.0\" encoding=\"UTF-8\" standalone=\"no\"?>\n",
       "<!DOCTYPE svg PUBLIC \"-//W3C//DTD SVG 1.1//EN\"\n",
       " \"http://www.w3.org/Graphics/SVG/1.1/DTD/svg11.dtd\">\n",
       "<!-- Generated by graphviz version 2.49.3 (20211023.0002)\n",
       " -->\n",
       "<!-- Pages: 1 -->\n",
       "<svg width=\"463pt\" height=\"352pt\"\n",
       " viewBox=\"0.00 0.00 462.50 352.00\" xmlns=\"http://www.w3.org/2000/svg\" xmlns:xlink=\"http://www.w3.org/1999/xlink\">\n",
       "<g id=\"graph0\" class=\"graph\" transform=\"scale(1 1) rotate(0) translate(4 348)\">\n",
       "<g id=\"a_graph0\"><a xlink:title=\"LangFuzzer class hierarchy\">\n",
       "<polygon fill=\"white\" stroke=\"transparent\" points=\"-4,4 -4,-348 458.5,-348 458.5,4 -4,4\"/>\n",
       "</a>\n",
       "</g>\n",
       "<!-- LangFuzzer -->\n",
       "<g id=\"node1\" class=\"node\">\n",
       "<title>LangFuzzer</title>\n",
       "<g id=\"a_node1\"><a xlink:href=\"#\" xlink:title=\"class LangFuzzer:&#10;Blackbox fuzzer mutating input fragments. Roughly based on `LangFuzz`.\">\n",
       "<polygon fill=\"none\" stroke=\"black\" points=\"26,-50 26,-92 151,-92 151,-50 26,-50\"/>\n",
       "<text text-anchor=\"start\" x=\"52.5\" y=\"-77.8\" font-family=\"Patua One, Helvetica, sans-serif\" font-weight=\"bold\" font-size=\"14.00\" fill=\"#b03a2e\">LangFuzzer</text>\n",
       "<polyline fill=\"none\" stroke=\"black\" points=\"26,-69 151,-69 \"/>\n",
       "<g id=\"a_node1_0\"><a xlink:href=\"#\" xlink:title=\"LangFuzzer\">\n",
       "<g id=\"a_node1_1\"><a xlink:href=\"#\" xlink:title=\"create_candidate(self) &#45;&gt; GreyboxFuzzer.Seed:&#10;Returns an input generated by fuzzing a seed in the population\">\n",
       "<text text-anchor=\"start\" x=\"34.5\" y=\"-57.5\" font-family=\"'Fira Mono', 'Source Code Pro', 'Courier', monospace\" font-style=\"italic\" font-size=\"10.00\">create_candidate()</text>\n",
       "</a>\n",
       "</g>\n",
       "</a>\n",
       "</g>\n",
       "</a>\n",
       "</g>\n",
       "</g>\n",
       "<!-- AdvancedMutationFuzzer -->\n",
       "<g id=\"node2\" class=\"node\">\n",
       "<title>AdvancedMutationFuzzer</title>\n",
       "<g id=\"a_node2\"><a xlink:href=\"GreyboxFuzzer.ipynb\" xlink:title=\"class AdvancedMutationFuzzer:&#10;Base class for mutation&#45;based fuzzing.\">\n",
       "<polygon fill=\"none\" stroke=\"black\" points=\"0,-178.5 0,-231.5 177,-231.5 177,-178.5 0,-178.5\"/>\n",
       "<text text-anchor=\"start\" x=\"8\" y=\"-217.3\" font-family=\"Patua One, Helvetica, sans-serif\" font-weight=\"bold\" font-size=\"14.00\" fill=\"#b03a2e\">AdvancedMutationFuzzer</text>\n",
       "<polyline fill=\"none\" stroke=\"black\" points=\"0,-208.5 177,-208.5 \"/>\n",
       "<g id=\"a_node2_2\"><a xlink:href=\"#\" xlink:title=\"AdvancedMutationFuzzer\">\n",
       "<g id=\"a_node2_3\"><a xlink:href=\"GreyboxFuzzer.ipynb\" xlink:title=\"__init__(self, seeds: List[str], mutator: GreyboxFuzzer.Mutator, schedule: GreyboxFuzzer.PowerSchedule) &#45;&gt; None:&#10;Constructor.&#10;`seeds` &#45; a list of (input) strings to mutate.&#10;`mutator` &#45; the mutator to apply.&#10;`schedule` &#45; the power schedule to apply.\">\n",
       "<text text-anchor=\"start\" x=\"58.5\" y=\"-197.5\" font-family=\"'Fira Mono', 'Source Code Pro', 'Courier', monospace\" font-weight=\"bold\" font-style=\"italic\" font-size=\"10.00\">__init__()</text>\n",
       "</a>\n",
       "</g>\n",
       "<g id=\"a_node2_4\"><a xlink:href=\"GreyboxFuzzer.ipynb\" xlink:title=\"fuzz(self) &#45;&gt; str:&#10;Returns first each seed once and then generates new inputs\">\n",
       "<text text-anchor=\"start\" x=\"58.5\" y=\"-186.5\" font-family=\"'Fira Mono', 'Source Code Pro', 'Courier', monospace\" font-weight=\"bold\" font-style=\"italic\" font-size=\"10.00\">fuzz()</text>\n",
       "</a>\n",
       "</g>\n",
       "</a>\n",
       "</g>\n",
       "</a>\n",
       "</g>\n",
       "</g>\n",
       "<!-- LangFuzzer&#45;&gt;AdvancedMutationFuzzer -->\n",
       "<g id=\"edge1\" class=\"edge\">\n",
       "<title>LangFuzzer&#45;&gt;AdvancedMutationFuzzer</title>\n",
       "<path fill=\"none\" stroke=\"black\" d=\"M88.5,-92.05C88.5,-112.24 88.5,-143.83 88.5,-168.31\"/>\n",
       "<polygon fill=\"none\" stroke=\"black\" points=\"85,-168.31 88.5,-178.31 92,-168.31 85,-168.31\"/>\n",
       "</g>\n",
       "<!-- Fuzzer -->\n",
       "<g id=\"node3\" class=\"node\">\n",
       "<title>Fuzzer</title>\n",
       "<g id=\"a_node3\"><a xlink:href=\"Fuzzer.ipynb\" xlink:title=\"class Fuzzer:&#10;Base class for fuzzers.\">\n",
       "<polygon fill=\"none\" stroke=\"black\" points=\"50,-268.5 50,-343.5 127,-343.5 127,-268.5 50,-268.5\"/>\n",
       "<text text-anchor=\"start\" x=\"67.5\" y=\"-329.3\" font-family=\"Patua One, Helvetica, sans-serif\" font-weight=\"bold\" font-size=\"14.00\" fill=\"#b03a2e\">Fuzzer</text>\n",
       "<polyline fill=\"none\" stroke=\"black\" points=\"50,-320.5 127,-320.5 \"/>\n",
       "<g id=\"a_node3_5\"><a xlink:href=\"#\" xlink:title=\"Fuzzer\">\n",
       "<g id=\"a_node3_6\"><a xlink:href=\"Fuzzer.ipynb\" xlink:title=\"__init__(self) &#45;&gt; None:&#10;Constructor\">\n",
       "<text text-anchor=\"start\" x=\"58.5\" y=\"-309.5\" font-family=\"'Fira Mono', 'Source Code Pro', 'Courier', monospace\" font-weight=\"bold\" font-style=\"italic\" font-size=\"10.00\">__init__()</text>\n",
       "</a>\n",
       "</g>\n",
       "<g id=\"a_node3_7\"><a xlink:href=\"Fuzzer.ipynb\" xlink:title=\"fuzz(self) &#45;&gt; str:&#10;Return fuzz input\">\n",
       "<text text-anchor=\"start\" x=\"58.5\" y=\"-298.5\" font-family=\"'Fira Mono', 'Source Code Pro', 'Courier', monospace\" font-weight=\"bold\" font-style=\"italic\" font-size=\"10.00\">fuzz()</text>\n",
       "</a>\n",
       "</g>\n",
       "<g id=\"a_node3_8\"><a xlink:href=\"Fuzzer.ipynb\" xlink:title=\"run(self, runner: Fuzzer.Runner = &lt;Fuzzer.Runner object at 0x11166adc0&gt;) &#45;&gt; Tuple[subprocess.CompletedProcess, str]:&#10;Run `runner` with fuzz input\">\n",
       "<text text-anchor=\"start\" x=\"58.5\" y=\"-287.5\" font-family=\"'Fira Mono', 'Source Code Pro', 'Courier', monospace\" font-weight=\"bold\" font-size=\"10.00\">run()</text>\n",
       "</a>\n",
       "</g>\n",
       "<g id=\"a_node3_9\"><a xlink:href=\"Fuzzer.ipynb\" xlink:title=\"runs(self, runner: Fuzzer.Runner = &lt;Fuzzer.PrintRunner object at 0x11166af10&gt;, trials: int = 10) &#45;&gt; List[Tuple[subprocess.CompletedProcess, str]]:&#10;Run `runner` with fuzz input, `trials` times\">\n",
       "<text text-anchor=\"start\" x=\"58.5\" y=\"-276.5\" font-family=\"'Fira Mono', 'Source Code Pro', 'Courier', monospace\" font-weight=\"bold\" font-size=\"10.00\">runs()</text>\n",
       "</a>\n",
       "</g>\n",
       "</a>\n",
       "</g>\n",
       "</a>\n",
       "</g>\n",
       "</g>\n",
       "<!-- AdvancedMutationFuzzer&#45;&gt;Fuzzer -->\n",
       "<g id=\"edge2\" class=\"edge\">\n",
       "<title>AdvancedMutationFuzzer&#45;&gt;Fuzzer</title>\n",
       "<path fill=\"none\" stroke=\"black\" d=\"M88.5,-231.75C88.5,-239.83 88.5,-249.01 88.5,-258.07\"/>\n",
       "<polygon fill=\"none\" stroke=\"black\" points=\"85,-258.19 88.5,-268.19 92,-258.19 85,-258.19\"/>\n",
       "</g>\n",
       "<!-- FragmentMutator -->\n",
       "<g id=\"node4\" class=\"node\">\n",
       "<title>FragmentMutator</title>\n",
       "<g id=\"a_node4\"><a xlink:href=\"#\" xlink:title=\"class FragmentMutator:&#10;Mutate inputs with input fragments from a pool\">\n",
       "<polygon fill=\"none\" stroke=\"black\" points=\"169,-0.5 169,-141.5 318,-141.5 318,-0.5 169,-0.5\"/>\n",
       "<text text-anchor=\"start\" x=\"187.5\" y=\"-127.3\" font-family=\"Patua One, Helvetica, sans-serif\" font-weight=\"bold\" font-size=\"14.00\" fill=\"#b03a2e\">FragmentMutator</text>\n",
       "<polyline fill=\"none\" stroke=\"black\" points=\"169,-118.5 318,-118.5 \"/>\n",
       "<g id=\"a_node4_10\"><a xlink:href=\"#\" xlink:title=\"FragmentMutator\">\n",
       "<g id=\"a_node4_11\"><a xlink:href=\"#\" xlink:title=\"__init__(self, parser):&#10;Initialize mutators\">\n",
       "<text text-anchor=\"start\" x=\"177.5\" y=\"-107.5\" font-family=\"'Fira Mono', 'Source Code Pro', 'Courier', monospace\" font-weight=\"bold\" font-style=\"italic\" font-size=\"10.00\">__init__()</text>\n",
       "</a>\n",
       "</g>\n",
       "<g id=\"a_node4_12\"><a xlink:href=\"#\" xlink:title=\"add_to_fragment_pool(self, seed: SeedWithStructure) &#45;&gt; None:&#10;Adds all fragments of a seed to the fragment pool\">\n",
       "<text text-anchor=\"start\" x=\"177.5\" y=\"-96.5\" font-family=\"'Fira Mono', 'Source Code Pro', 'Courier', monospace\" font-weight=\"bold\" font-size=\"10.00\">add_to_fragment_pool()</text>\n",
       "</a>\n",
       "</g>\n",
       "<g id=\"a_node4_13\"><a xlink:href=\"#\" xlink:title=\"add_fragment(self, fragment: DerivationTree) &#45;&gt; None:&#10;Recursively adds fragments to the fragment pool\">\n",
       "<text text-anchor=\"start\" x=\"177.5\" y=\"-84.5\" font-family=\"'Fira Mono', 'Source Code Pro', 'Courier', monospace\" font-size=\"10.00\">add_fragment()</text>\n",
       "</a>\n",
       "</g>\n",
       "<g id=\"a_node4_14\"><a xlink:href=\"#\" xlink:title=\"count_nodes(self, fragment: DerivationTree) &#45;&gt; int:&#10;Returns the number of nodes in the fragment\">\n",
       "<text text-anchor=\"start\" x=\"177.5\" y=\"-73.5\" font-family=\"'Fira Mono', 'Source Code Pro', 'Courier', monospace\" font-size=\"10.00\">count_nodes()</text>\n",
       "</a>\n",
       "</g>\n",
       "<g id=\"a_node4_15\"><a xlink:href=\"#\" xlink:title=\"delete_fragment(self, seed: SeedWithStructure) &#45;&gt; SeedWithStructure:&#10;Delete a random fragment\">\n",
       "<text text-anchor=\"start\" x=\"177.5\" y=\"-62.5\" font-family=\"'Fira Mono', 'Source Code Pro', 'Courier', monospace\" font-size=\"10.00\">delete_fragment()</text>\n",
       "</a>\n",
       "</g>\n",
       "<g id=\"a_node4_16\"><a xlink:href=\"#\" xlink:title=\"is_excluded(self, symbol: str) &#45;&gt; bool:&#10;Returns true if a fragment starting with a specific&#10;symbol and all its decendents can be excluded\">\n",
       "<text text-anchor=\"start\" x=\"177.5\" y=\"-51.5\" font-family=\"'Fira Mono', 'Source Code Pro', 'Courier', monospace\" font-size=\"10.00\">is_excluded()</text>\n",
       "</a>\n",
       "</g>\n",
       "<g id=\"a_node4_17\"><a xlink:href=\"#\" xlink:title=\"mutate(self, seed: SeedWithStructure) &#45;&gt; SeedWithStructure:&#10;Implement structure&#45;aware mutation. Memoize seeds.\">\n",
       "<text text-anchor=\"start\" x=\"177.5\" y=\"-41.5\" font-family=\"'Fira Mono', 'Source Code Pro', 'Courier', monospace\" font-style=\"italic\" font-size=\"10.00\">mutate()</text>\n",
       "</a>\n",
       "</g>\n",
       "<g id=\"a_node4_18\"><a xlink:href=\"#\" xlink:title=\"recursive_delete(self, fragment: DerivationTree) &#45;&gt; DerivationTree:&#10;Recursively finds the fragment to delete\">\n",
       "<text text-anchor=\"start\" x=\"177.5\" y=\"-29.5\" font-family=\"'Fira Mono', 'Source Code Pro', 'Courier', monospace\" font-size=\"10.00\">recursive_delete()</text>\n",
       "</a>\n",
       "</g>\n",
       "<g id=\"a_node4_19\"><a xlink:href=\"#\" xlink:title=\"recursive_swap(self, fragment: DerivationTree) &#45;&gt; DerivationTree:&#10;Recursively finds the fragment to swap.\">\n",
       "<text text-anchor=\"start\" x=\"177.5\" y=\"-18.5\" font-family=\"'Fira Mono', 'Source Code Pro', 'Courier', monospace\" font-size=\"10.00\">recursive_swap()</text>\n",
       "</a>\n",
       "</g>\n",
       "<g id=\"a_node4_20\"><a xlink:href=\"#\" xlink:title=\"swap_fragment(self, seed: SeedWithStructure) &#45;&gt; SeedWithStructure:&#10;Substitutes a random fragment with another with the same symbol\">\n",
       "<text text-anchor=\"start\" x=\"177.5\" y=\"-7.5\" font-family=\"'Fira Mono', 'Source Code Pro', 'Courier', monospace\" font-size=\"10.00\">swap_fragment()</text>\n",
       "</a>\n",
       "</g>\n",
       "</a>\n",
       "</g>\n",
       "</a>\n",
       "</g>\n",
       "</g>\n",
       "<!-- Mutator -->\n",
       "<g id=\"node5\" class=\"node\">\n",
       "<title>Mutator</title>\n",
       "<g id=\"a_node5\"><a xlink:href=\"GreyboxFuzzer.ipynb\" xlink:title=\"class Mutator:&#10;Mutate strings\">\n",
       "<polygon fill=\"none\" stroke=\"black\" points=\"205,-184 205,-226 282,-226 282,-184 205,-184\"/>\n",
       "<text text-anchor=\"start\" x=\"217.5\" y=\"-211.8\" font-family=\"Patua One, Helvetica, sans-serif\" font-weight=\"bold\" font-size=\"14.00\" fill=\"#b03a2e\">Mutator</text>\n",
       "<polyline fill=\"none\" stroke=\"black\" points=\"205,-203 282,-203 \"/>\n",
       "<g id=\"a_node5_21\"><a xlink:href=\"#\" xlink:title=\"Mutator\">\n",
       "<g id=\"a_node5_22\"><a xlink:href=\"GreyboxFuzzer.ipynb\" xlink:title=\"__init__(self) &#45;&gt; None:&#10;Constructor\">\n",
       "<text text-anchor=\"start\" x=\"213.5\" y=\"-191.5\" font-family=\"'Fira Mono', 'Source Code Pro', 'Courier', monospace\" font-weight=\"bold\" font-style=\"italic\" font-size=\"10.00\">__init__()</text>\n",
       "</a>\n",
       "</g>\n",
       "</a>\n",
       "</g>\n",
       "</a>\n",
       "</g>\n",
       "</g>\n",
       "<!-- FragmentMutator&#45;&gt;Mutator -->\n",
       "<g id=\"edge3\" class=\"edge\">\n",
       "<title>FragmentMutator&#45;&gt;Mutator</title>\n",
       "<path fill=\"none\" stroke=\"black\" d=\"M243.5,-141.87C243.5,-153.1 243.5,-164.18 243.5,-173.81\"/>\n",
       "<polygon fill=\"none\" stroke=\"black\" points=\"240,-173.99 243.5,-183.99 247,-173.99 240,-173.99\"/>\n",
       "</g>\n",
       "<!-- Legend -->\n",
       "<g id=\"node6\" class=\"node\">\n",
       "<title>Legend</title>\n",
       "<text text-anchor=\"start\" x=\"336.5\" y=\"-88.5\" font-family=\"Patua One, Helvetica, sans-serif\" font-weight=\"bold\" font-size=\"10.00\" fill=\"#b03a2e\">Legend</text>\n",
       "<text text-anchor=\"start\" x=\"336.5\" y=\"-78.5\" font-family=\"Patua One, Helvetica, sans-serif\" font-size=\"10.00\">• </text>\n",
       "<text text-anchor=\"start\" x=\"342.5\" y=\"-78.5\" font-family=\"'Fira Mono', 'Source Code Pro', 'Courier', monospace\" font-weight=\"bold\" font-size=\"8.00\">public_method()</text>\n",
       "<text text-anchor=\"start\" x=\"336.5\" y=\"-68.5\" font-family=\"Patua One, Helvetica, sans-serif\" font-size=\"10.00\">• </text>\n",
       "<text text-anchor=\"start\" x=\"342.5\" y=\"-68.5\" font-family=\"'Fira Mono', 'Source Code Pro', 'Courier', monospace\" font-size=\"8.00\">private_method()</text>\n",
       "<text text-anchor=\"start\" x=\"336.5\" y=\"-58.5\" font-family=\"Patua One, Helvetica, sans-serif\" font-size=\"10.00\">• </text>\n",
       "<text text-anchor=\"start\" x=\"342.5\" y=\"-58.5\" font-family=\"'Fira Mono', 'Source Code Pro', 'Courier', monospace\" font-style=\"italic\" font-size=\"8.00\">overloaded_method()</text>\n",
       "<text text-anchor=\"start\" x=\"336.5\" y=\"-49.3\" font-family=\"Helvetica,sans-Serif\" font-size=\"9.00\">Hover over names to see doc</text>\n",
       "</g>\n",
       "</g>\n",
       "</svg>\n"
      ],
      "text/plain": [
       "<graphviz.dot.Digraph at 0x121f45df0>"
      ]
     },
     "execution_count": 82,
     "metadata": {},
     "output_type": "execute_result"
    }
   ],
   "source": [
    "# ignore\n",
    "display_class_hierarchy([LangFuzzer, FragmentMutator],\n",
    "                        public_methods=[\n",
    "                            Fuzzer.__init__,\n",
    "                            Fuzzer.fuzz,\n",
    "                            Fuzzer.run,\n",
    "                            Fuzzer.runs,\n",
    "                            AdvancedMutationFuzzer.__init__,\n",
    "                            AdvancedMutationFuzzer.fuzz,\n",
    "                            GreyboxFuzzer.run,\n",
    "                            Mutator.__init__,\n",
    "                            FragmentMutator.__init__,\n",
    "                            FragmentMutator.add_to_fragment_pool,\n",
    "                        ],\n",
    "                        types={'DerivationTree': DerivationTree,\n",
    "                               'Location': Location},\n",
    "                        project='fuzzingbook')"
   ]
  },
  {
   "cell_type": "markdown",
   "metadata": {
    "slideshow": {
     "slide_type": "subslide"
    }
   },
   "source": [
    "### Fuzzing with Input Regions\n",
    "\n",
    "The `GreyboxGrammarFuzzer` class uses two mutators:\n",
    "* a _tree mutator_ (a `RegionMutator` object) that can parse existing strings to identify _regions_ in that string to be swapped or deleted.\n",
    "* a _byte mutator_ to apply bit- and character-level mutations."
   ]
  },
  {
   "cell_type": "code",
   "execution_count": 83,
   "metadata": {
    "execution": {
     "iopub.execute_input": "2022-02-21T08:22:39.348559Z",
     "iopub.status.busy": "2022-02-21T08:22:39.344964Z",
     "iopub.status.idle": "2022-02-21T08:22:39.356190Z",
     "shell.execute_reply": "2022-02-21T08:22:39.357522Z"
    },
    "slideshow": {
     "slide_type": "fragment"
    }
   },
   "outputs": [],
   "source": [
    "tree_mutator = RegionMutator(parser)\n",
    "byte_mutator = Mutator()"
   ]
  },
  {
   "cell_type": "markdown",
   "metadata": {
    "slideshow": {
     "slide_type": "fragment"
    }
   },
   "source": [
    "The _schedule_ for the `GreyboxGrammarFuzzer` class can be a regular `PowerSchedule` object. However, a more sophisticated schedule is provided by `AFLSmartSchedule`, which assigns more [energy](GreyboxFuzzer.ipynb#Power-Schedules) to seeds that have a higher degree of validity."
   ]
  },
  {
   "cell_type": "code",
   "execution_count": 84,
   "metadata": {
    "execution": {
     "iopub.execute_input": "2022-02-21T08:22:39.368522Z",
     "iopub.status.busy": "2022-02-21T08:22:39.366616Z",
     "iopub.status.idle": "2022-02-21T08:22:39.374102Z",
     "shell.execute_reply": "2022-02-21T08:22:39.375848Z"
    },
    "slideshow": {
     "slide_type": "subslide"
    }
   },
   "outputs": [],
   "source": [
    "schedule = AFLSmartSchedule(parser)"
   ]
  },
  {
   "cell_type": "markdown",
   "metadata": {
    "slideshow": {
     "slide_type": "fragment"
    }
   },
   "source": [
    "The `GreyboxGrammarFuzzer` constructor takes a set of seeds as well as the two mutators and the schedule:"
   ]
  },
  {
   "cell_type": "code",
   "execution_count": 85,
   "metadata": {
    "execution": {
     "iopub.execute_input": "2022-02-21T08:22:39.395687Z",
     "iopub.status.busy": "2022-02-21T08:22:39.384278Z",
     "iopub.status.idle": "2022-02-21T08:22:39.401731Z",
     "shell.execute_reply": "2022-02-21T08:22:39.403072Z"
    },
    "slideshow": {
     "slide_type": "fragment"
    }
   },
   "outputs": [],
   "source": [
    "aflsmart_fuzzer = GreyboxGrammarFuzzer(seeds, byte_mutator, tree_mutator, schedule)"
   ]
  },
  {
   "cell_type": "markdown",
   "metadata": {
    "slideshow": {
     "slide_type": "fragment"
    }
   },
   "source": [
    "As it relies on code coverage, it is typically combined with a `FunctionCoverageRunner`:"
   ]
  },
  {
   "cell_type": "code",
   "execution_count": 86,
   "metadata": {
    "execution": {
     "iopub.execute_input": "2022-02-21T08:22:39.456453Z",
     "iopub.status.busy": "2022-02-21T08:22:39.409900Z",
     "iopub.status.idle": "2022-02-21T08:22:40.519718Z",
     "shell.execute_reply": "2022-02-21T08:22:40.520697Z"
    },
    "slideshow": {
     "slide_type": "fragment"
    }
   },
   "outputs": [],
   "source": [
    "runner = FunctionCoverageRunner(my_parser)\n",
    "aflsmart_outcome = aflsmart_fuzzer.runs(runner, trials=5)"
   ]
  },
  {
   "cell_type": "code",
   "execution_count": 87,
   "metadata": {
    "execution": {
     "iopub.execute_input": "2022-02-21T08:22:40.540942Z",
     "iopub.status.busy": "2022-02-21T08:22:40.529017Z",
     "iopub.status.idle": "2022-02-21T08:22:42.487116Z",
     "shell.execute_reply": "2022-02-21T08:22:42.488121Z"
    },
    "slideshow": {
     "slide_type": "subslide"
    }
   },
   "outputs": [
    {
     "data": {
      "image/svg+xml": [
       "<?xml version=\"1.0\" encoding=\"UTF-8\" standalone=\"no\"?>\n",
       "<!DOCTYPE svg PUBLIC \"-//W3C//DTD SVG 1.1//EN\"\n",
       " \"http://www.w3.org/Graphics/SVG/1.1/DTD/svg11.dtd\">\n",
       "<!-- Generated by graphviz version 2.49.3 (20211023.0002)\n",
       " -->\n",
       "<!-- Pages: 1 -->\n",
       "<svg width=\"639pt\" height=\"464pt\"\n",
       " viewBox=\"0.00 0.00 638.50 464.00\" xmlns=\"http://www.w3.org/2000/svg\" xmlns:xlink=\"http://www.w3.org/1999/xlink\">\n",
       "<g id=\"graph0\" class=\"graph\" transform=\"scale(1 1) rotate(0) translate(4 460)\">\n",
       "<g id=\"a_graph0\"><a xlink:title=\"GreyboxGrammarFuzzer class hierarchy\">\n",
       "<polygon fill=\"white\" stroke=\"transparent\" points=\"-4,4 -4,-460 634.5,-460 634.5,4 -4,4\"/>\n",
       "</a>\n",
       "</g>\n",
       "<!-- GreyboxGrammarFuzzer -->\n",
       "<g id=\"node1\" class=\"node\">\n",
       "<title>GreyboxGrammarFuzzer</title>\n",
       "<g id=\"a_node1\"><a xlink:href=\"#\" xlink:title=\"class GreyboxGrammarFuzzer:&#10;Greybox fuzzer using grammars.\">\n",
       "<polygon fill=\"none\" stroke=\"black\" points=\"5,-11.5 5,-64.5 172,-64.5 172,-11.5 5,-11.5\"/>\n",
       "<text text-anchor=\"start\" x=\"13\" y=\"-50.3\" font-family=\"Patua One, Helvetica, sans-serif\" font-weight=\"bold\" font-size=\"14.00\" fill=\"#b03a2e\">GreyboxGrammarFuzzer</text>\n",
       "<polyline fill=\"none\" stroke=\"black\" points=\"5,-41.5 172,-41.5 \"/>\n",
       "<g id=\"a_node1_0\"><a xlink:href=\"#\" xlink:title=\"GreyboxGrammarFuzzer\">\n",
       "<g id=\"a_node1_1\"><a xlink:href=\"#\" xlink:title=\"__init__(self, seeds: List[str], byte_mutator: GreyboxFuzzer.Mutator, tree_mutator: FragmentMutator, schedule: GreyboxFuzzer.PowerSchedule) &#45;&gt; None:&#10;Constructor.&#10;`seeds` &#45; set of inputs to mutate.&#10;`byte_mutator` &#45; a byte&#45;level mutator.&#10;`tree_mutator` = a tree&#45;level mutator.&#10;`schedule` &#45; a power schedule.\">\n",
       "<text text-anchor=\"start\" x=\"34.5\" y=\"-30.5\" font-family=\"'Fira Mono', 'Source Code Pro', 'Courier', monospace\" font-weight=\"bold\" font-style=\"italic\" font-size=\"10.00\">__init__()</text>\n",
       "</a>\n",
       "</g>\n",
       "<g id=\"a_node1_2\"><a xlink:href=\"#\" xlink:title=\"create_candidate(self) &#45;&gt; str:&#10;Returns an input generated by structural mutation&#10;of a seed in the population\">\n",
       "<text text-anchor=\"start\" x=\"34.5\" y=\"-19.5\" font-family=\"'Fira Mono', 'Source Code Pro', 'Courier', monospace\" font-style=\"italic\" font-size=\"10.00\">create_candidate()</text>\n",
       "</a>\n",
       "</g>\n",
       "</a>\n",
       "</g>\n",
       "</a>\n",
       "</g>\n",
       "</g>\n",
       "<!-- GreyboxFuzzer -->\n",
       "<g id=\"node2\" class=\"node\">\n",
       "<title>GreyboxFuzzer</title>\n",
       "<g id=\"a_node2\"><a xlink:href=\"GreyboxFuzzer.ipynb\" xlink:title=\"class GreyboxFuzzer:&#10;Coverage&#45;guided mutational fuzzing.\">\n",
       "<polygon fill=\"none\" stroke=\"black\" points=\"34,-162 34,-204 143,-204 143,-162 34,-162\"/>\n",
       "<text text-anchor=\"start\" x=\"42\" y=\"-189.8\" font-family=\"Patua One, Helvetica, sans-serif\" font-weight=\"bold\" font-size=\"14.00\" fill=\"#b03a2e\">GreyboxFuzzer</text>\n",
       "<polyline fill=\"none\" stroke=\"black\" points=\"34,-181 143,-181 \"/>\n",
       "<g id=\"a_node2_3\"><a xlink:href=\"#\" xlink:title=\"GreyboxFuzzer\">\n",
       "<g id=\"a_node2_4\"><a xlink:href=\"GreyboxFuzzer.ipynb\" xlink:title=\"run(self, runner: MutationFuzzer.FunctionCoverageRunner) &#45;&gt; Tuple[Any, str]:&#10;Run function(inp) while tracking coverage.&#10;If we reach new coverage,&#10;add inp to population and its coverage to population_coverage\">\n",
       "<text text-anchor=\"start\" x=\"73.5\" y=\"-169.5\" font-family=\"'Fira Mono', 'Source Code Pro', 'Courier', monospace\" font-weight=\"bold\" font-style=\"italic\" font-size=\"10.00\">run()</text>\n",
       "</a>\n",
       "</g>\n",
       "</a>\n",
       "</g>\n",
       "</a>\n",
       "</g>\n",
       "</g>\n",
       "<!-- GreyboxGrammarFuzzer&#45;&gt;GreyboxFuzzer -->\n",
       "<g id=\"edge1\" class=\"edge\">\n",
       "<title>GreyboxGrammarFuzzer&#45;&gt;GreyboxFuzzer</title>\n",
       "<path fill=\"none\" stroke=\"black\" d=\"M88.5,-64.57C88.5,-89 88.5,-125.83 88.5,-151.72\"/>\n",
       "<polygon fill=\"none\" stroke=\"black\" points=\"85,-151.74 88.5,-161.74 92,-151.74 85,-151.74\"/>\n",
       "</g>\n",
       "<!-- AdvancedMutationFuzzer -->\n",
       "<g id=\"node3\" class=\"node\">\n",
       "<title>AdvancedMutationFuzzer</title>\n",
       "<g id=\"a_node3\"><a xlink:href=\"GreyboxFuzzer.ipynb\" xlink:title=\"class AdvancedMutationFuzzer:&#10;Base class for mutation&#45;based fuzzing.\">\n",
       "<polygon fill=\"none\" stroke=\"black\" points=\"0,-290.5 0,-343.5 177,-343.5 177,-290.5 0,-290.5\"/>\n",
       "<text text-anchor=\"start\" x=\"8\" y=\"-329.3\" font-family=\"Patua One, Helvetica, sans-serif\" font-weight=\"bold\" font-size=\"14.00\" fill=\"#b03a2e\">AdvancedMutationFuzzer</text>\n",
       "<polyline fill=\"none\" stroke=\"black\" points=\"0,-320.5 177,-320.5 \"/>\n",
       "<g id=\"a_node3_5\"><a xlink:href=\"#\" xlink:title=\"AdvancedMutationFuzzer\">\n",
       "<g id=\"a_node3_6\"><a xlink:href=\"GreyboxFuzzer.ipynb\" xlink:title=\"__init__(self, seeds: List[str], mutator: GreyboxFuzzer.Mutator, schedule: GreyboxFuzzer.PowerSchedule) &#45;&gt; None:&#10;Constructor.&#10;`seeds` &#45; a list of (input) strings to mutate.&#10;`mutator` &#45; the mutator to apply.&#10;`schedule` &#45; the power schedule to apply.\">\n",
       "<text text-anchor=\"start\" x=\"58.5\" y=\"-309.5\" font-family=\"'Fira Mono', 'Source Code Pro', 'Courier', monospace\" font-weight=\"bold\" font-style=\"italic\" font-size=\"10.00\">__init__()</text>\n",
       "</a>\n",
       "</g>\n",
       "<g id=\"a_node3_7\"><a xlink:href=\"GreyboxFuzzer.ipynb\" xlink:title=\"fuzz(self) &#45;&gt; str:&#10;Returns first each seed once and then generates new inputs\">\n",
       "<text text-anchor=\"start\" x=\"58.5\" y=\"-298.5\" font-family=\"'Fira Mono', 'Source Code Pro', 'Courier', monospace\" font-weight=\"bold\" font-style=\"italic\" font-size=\"10.00\">fuzz()</text>\n",
       "</a>\n",
       "</g>\n",
       "</a>\n",
       "</g>\n",
       "</a>\n",
       "</g>\n",
       "</g>\n",
       "<!-- GreyboxFuzzer&#45;&gt;AdvancedMutationFuzzer -->\n",
       "<g id=\"edge2\" class=\"edge\">\n",
       "<title>GreyboxFuzzer&#45;&gt;AdvancedMutationFuzzer</title>\n",
       "<path fill=\"none\" stroke=\"black\" d=\"M88.5,-204.05C88.5,-224.24 88.5,-255.83 88.5,-280.31\"/>\n",
       "<polygon fill=\"none\" stroke=\"black\" points=\"85,-280.31 88.5,-290.31 92,-280.31 85,-280.31\"/>\n",
       "</g>\n",
       "<!-- Fuzzer -->\n",
       "<g id=\"node4\" class=\"node\">\n",
       "<title>Fuzzer</title>\n",
       "<g id=\"a_node4\"><a xlink:href=\"Fuzzer.ipynb\" xlink:title=\"class Fuzzer:&#10;Base class for fuzzers.\">\n",
       "<polygon fill=\"none\" stroke=\"black\" points=\"50,-380.5 50,-455.5 127,-455.5 127,-380.5 50,-380.5\"/>\n",
       "<text text-anchor=\"start\" x=\"67.5\" y=\"-441.3\" font-family=\"Patua One, Helvetica, sans-serif\" font-weight=\"bold\" font-size=\"14.00\" fill=\"#b03a2e\">Fuzzer</text>\n",
       "<polyline fill=\"none\" stroke=\"black\" points=\"50,-432.5 127,-432.5 \"/>\n",
       "<g id=\"a_node4_8\"><a xlink:href=\"#\" xlink:title=\"Fuzzer\">\n",
       "<g id=\"a_node4_9\"><a xlink:href=\"Fuzzer.ipynb\" xlink:title=\"__init__(self) &#45;&gt; None:&#10;Constructor\">\n",
       "<text text-anchor=\"start\" x=\"58.5\" y=\"-421.5\" font-family=\"'Fira Mono', 'Source Code Pro', 'Courier', monospace\" font-weight=\"bold\" font-style=\"italic\" font-size=\"10.00\">__init__()</text>\n",
       "</a>\n",
       "</g>\n",
       "<g id=\"a_node4_10\"><a xlink:href=\"Fuzzer.ipynb\" xlink:title=\"fuzz(self) &#45;&gt; str:&#10;Return fuzz input\">\n",
       "<text text-anchor=\"start\" x=\"58.5\" y=\"-410.5\" font-family=\"'Fira Mono', 'Source Code Pro', 'Courier', monospace\" font-weight=\"bold\" font-style=\"italic\" font-size=\"10.00\">fuzz()</text>\n",
       "</a>\n",
       "</g>\n",
       "<g id=\"a_node4_11\"><a xlink:href=\"Fuzzer.ipynb\" xlink:title=\"run(self, runner: Fuzzer.Runner = &lt;Fuzzer.Runner object at 0x11166adc0&gt;) &#45;&gt; Tuple[subprocess.CompletedProcess, str]:&#10;Run `runner` with fuzz input\">\n",
       "<text text-anchor=\"start\" x=\"58.5\" y=\"-399.5\" font-family=\"'Fira Mono', 'Source Code Pro', 'Courier', monospace\" font-weight=\"bold\" font-style=\"italic\" font-size=\"10.00\">run()</text>\n",
       "</a>\n",
       "</g>\n",
       "<g id=\"a_node4_12\"><a xlink:href=\"Fuzzer.ipynb\" xlink:title=\"runs(self, runner: Fuzzer.Runner = &lt;Fuzzer.PrintRunner object at 0x11166af10&gt;, trials: int = 10) &#45;&gt; List[Tuple[subprocess.CompletedProcess, str]]:&#10;Run `runner` with fuzz input, `trials` times\">\n",
       "<text text-anchor=\"start\" x=\"58.5\" y=\"-388.5\" font-family=\"'Fira Mono', 'Source Code Pro', 'Courier', monospace\" font-weight=\"bold\" font-size=\"10.00\">runs()</text>\n",
       "</a>\n",
       "</g>\n",
       "</a>\n",
       "</g>\n",
       "</a>\n",
       "</g>\n",
       "</g>\n",
       "<!-- AdvancedMutationFuzzer&#45;&gt;Fuzzer -->\n",
       "<g id=\"edge3\" class=\"edge\">\n",
       "<title>AdvancedMutationFuzzer&#45;&gt;Fuzzer</title>\n",
       "<path fill=\"none\" stroke=\"black\" d=\"M88.5,-343.75C88.5,-351.83 88.5,-361.01 88.5,-370.07\"/>\n",
       "<polygon fill=\"none\" stroke=\"black\" points=\"85,-370.19 88.5,-380.19 92,-370.19 85,-370.19\"/>\n",
       "</g>\n",
       "<!-- AFLSmartSchedule -->\n",
       "<g id=\"node5\" class=\"node\">\n",
       "<title>AFLSmartSchedule</title>\n",
       "<g id=\"a_node5\"><a xlink:href=\"#\" xlink:title=\"class AFLSmartSchedule:&#10;Define how fuzzing time should be distributed across the population.\">\n",
       "<polygon fill=\"none\" stroke=\"black\" points=\"190,-0.5 190,-75.5 327,-75.5 327,-0.5 190,-0.5\"/>\n",
       "<text text-anchor=\"start\" x=\"200\" y=\"-61.3\" font-family=\"Patua One, Helvetica, sans-serif\" font-weight=\"bold\" font-size=\"14.00\" fill=\"#b03a2e\">AFLSmartSchedule</text>\n",
       "<polyline fill=\"none\" stroke=\"black\" points=\"190,-52.5 327,-52.5 \"/>\n",
       "<g id=\"a_node5_13\"><a xlink:href=\"#\" xlink:title=\"AFLSmartSchedule\">\n",
       "<g id=\"a_node5_14\"><a xlink:href=\"#\" xlink:title=\"__init__(self, parser: Parser.EarleyParser, exponent: float = 1.0):&#10;Constructor\">\n",
       "<text text-anchor=\"start\" x=\"198.5\" y=\"-41.5\" font-family=\"'Fira Mono', 'Source Code Pro', 'Courier', monospace\" font-weight=\"bold\" font-style=\"italic\" font-size=\"10.00\">__init__()</text>\n",
       "</a>\n",
       "</g>\n",
       "<g id=\"a_node5_15\"><a xlink:href=\"#\" xlink:title=\"assignEnergy(self, population: Sequence[GreyboxFuzzer.Seed]):&#10;Assign exponential energy proportional to degree of validity\">\n",
       "<text text-anchor=\"start\" x=\"198.5\" y=\"-30.5\" font-family=\"'Fira Mono', 'Source Code Pro', 'Courier', monospace\" font-style=\"italic\" font-size=\"10.00\">assignEnergy()</text>\n",
       "</a>\n",
       "</g>\n",
       "<g id=\"a_node5_16\"><a xlink:href=\"#\" xlink:title=\"degree_of_validity(self, seed: GreyboxFuzzer.Seed) &#45;&gt; float:&#10;Returns the proportion of a seed that is parsable\">\n",
       "<text text-anchor=\"start\" x=\"198.5\" y=\"-18.5\" font-family=\"'Fira Mono', 'Source Code Pro', 'Courier', monospace\" font-size=\"10.00\">degree_of_validity()</text>\n",
       "</a>\n",
       "</g>\n",
       "<g id=\"a_node5_17\"><a xlink:href=\"#\" xlink:title=\"parsable(self, seed: GreyboxFuzzer.Seed) &#45;&gt; str:&#10;Returns the substring that is parsable\">\n",
       "<text text-anchor=\"start\" x=\"198.5\" y=\"-7.5\" font-family=\"'Fira Mono', 'Source Code Pro', 'Courier', monospace\" font-size=\"10.00\">parsable()</text>\n",
       "</a>\n",
       "</g>\n",
       "</a>\n",
       "</g>\n",
       "</a>\n",
       "</g>\n",
       "</g>\n",
       "<!-- PowerSchedule -->\n",
       "<g id=\"node6\" class=\"node\">\n",
       "<title>PowerSchedule</title>\n",
       "<g id=\"a_node6\"><a xlink:href=\"GreyboxFuzzer.ipynb\" xlink:title=\"class PowerSchedule:&#10;Define how fuzzing time should be distributed across the population.\">\n",
       "<polygon fill=\"none\" stroke=\"black\" points=\"203,-162 203,-204 314,-204 314,-162 203,-162\"/>\n",
       "<text text-anchor=\"start\" x=\"211\" y=\"-189.8\" font-family=\"Patua One, Helvetica, sans-serif\" font-weight=\"bold\" font-size=\"14.00\" fill=\"#b03a2e\">PowerSchedule</text>\n",
       "<polyline fill=\"none\" stroke=\"black\" points=\"203,-181 314,-181 \"/>\n",
       "<g id=\"a_node6_18\"><a xlink:href=\"#\" xlink:title=\"PowerSchedule\">\n",
       "<g id=\"a_node6_19\"><a xlink:href=\"GreyboxFuzzer.ipynb\" xlink:title=\"__init__(self) &#45;&gt; None:&#10;Constructor\">\n",
       "<text text-anchor=\"start\" x=\"228.5\" y=\"-169.5\" font-family=\"'Fira Mono', 'Source Code Pro', 'Courier', monospace\" font-weight=\"bold\" font-style=\"italic\" font-size=\"10.00\">__init__()</text>\n",
       "</a>\n",
       "</g>\n",
       "</a>\n",
       "</g>\n",
       "</a>\n",
       "</g>\n",
       "</g>\n",
       "<!-- AFLSmartSchedule&#45;&gt;PowerSchedule -->\n",
       "<g id=\"edge4\" class=\"edge\">\n",
       "<title>AFLSmartSchedule&#45;&gt;PowerSchedule</title>\n",
       "<path fill=\"none\" stroke=\"black\" d=\"M258.5,-75.83C258.5,-99.29 258.5,-129.34 258.5,-151.47\"/>\n",
       "<polygon fill=\"none\" stroke=\"black\" points=\"255,-151.64 258.5,-161.64 262,-151.64 255,-151.64\"/>\n",
       "</g>\n",
       "<!-- RegionMutator -->\n",
       "<g id=\"node7\" class=\"node\">\n",
       "<title>RegionMutator</title>\n",
       "<g id=\"a_node7\"><a xlink:href=\"#\" xlink:title=\"class RegionMutator:&#10;Mutate inputs with input fragments from a pool\">\n",
       "<polygon fill=\"none\" stroke=\"black\" points=\"345,-6 345,-70 494,-70 494,-6 345,-6\"/>\n",
       "<text text-anchor=\"start\" x=\"372\" y=\"-55.8\" font-family=\"Patua One, Helvetica, sans-serif\" font-weight=\"bold\" font-size=\"14.00\" fill=\"#b03a2e\">RegionMutator</text>\n",
       "<polyline fill=\"none\" stroke=\"black\" points=\"345,-47 494,-47 \"/>\n",
       "<g id=\"a_node7_20\"><a xlink:href=\"#\" xlink:title=\"RegionMutator\">\n",
       "<g id=\"a_node7_21\"><a xlink:href=\"#\" xlink:title=\"add_to_fragment_pool(self, seed: SeedWithRegions) &#45;&gt; None:&#10;Mark fragments and regions in a seed file\">\n",
       "<text text-anchor=\"start\" x=\"353.5\" y=\"-35.5\" font-family=\"'Fira Mono', 'Source Code Pro', 'Courier', monospace\" font-style=\"italic\" font-size=\"10.00\">add_to_fragment_pool()</text>\n",
       "</a>\n",
       "</g>\n",
       "<g id=\"a_node7_22\"><a xlink:href=\"#\" xlink:title=\"delete_fragment(self, seed: SeedWithRegions) &#45;&gt; SeedWithRegions:&#10;Deletes a random region\">\n",
       "<text text-anchor=\"start\" x=\"353.5\" y=\"-24.5\" font-family=\"'Fira Mono', 'Source Code Pro', 'Courier', monospace\" font-style=\"italic\" font-size=\"10.00\">delete_fragment()</text>\n",
       "</a>\n",
       "</g>\n",
       "<g id=\"a_node7_23\"><a xlink:href=\"#\" xlink:title=\"swap_fragment(self, seed: SeedWithRegions) &#45;&gt; SeedWithRegions:&#10;Chooses a random region and swaps it with a fragment&#10;that starts with the same symbol\">\n",
       "<text text-anchor=\"start\" x=\"353.5\" y=\"-13.5\" font-family=\"'Fira Mono', 'Source Code Pro', 'Courier', monospace\" font-style=\"italic\" font-size=\"10.00\">swap_fragment()</text>\n",
       "</a>\n",
       "</g>\n",
       "</a>\n",
       "</g>\n",
       "</a>\n",
       "</g>\n",
       "</g>\n",
       "<!-- FragmentMutator -->\n",
       "<g id=\"node8\" class=\"node\">\n",
       "<title>FragmentMutator</title>\n",
       "<g id=\"a_node8\"><a xlink:href=\"#\" xlink:title=\"class FragmentMutator:&#10;Mutate inputs with input fragments from a pool\">\n",
       "<polygon fill=\"none\" stroke=\"black\" points=\"345,-112.5 345,-253.5 494,-253.5 494,-112.5 345,-112.5\"/>\n",
       "<text text-anchor=\"start\" x=\"363.5\" y=\"-239.3\" font-family=\"Patua One, Helvetica, sans-serif\" font-weight=\"bold\" font-size=\"14.00\" fill=\"#b03a2e\">FragmentMutator</text>\n",
       "<polyline fill=\"none\" stroke=\"black\" points=\"345,-230.5 494,-230.5 \"/>\n",
       "<g id=\"a_node8_24\"><a xlink:href=\"#\" xlink:title=\"FragmentMutator\">\n",
       "<g id=\"a_node8_25\"><a xlink:href=\"#\" xlink:title=\"__init__(self, parser):&#10;Initialize mutators\">\n",
       "<text text-anchor=\"start\" x=\"353.5\" y=\"-219.5\" font-family=\"'Fira Mono', 'Source Code Pro', 'Courier', monospace\" font-weight=\"bold\" font-style=\"italic\" font-size=\"10.00\">__init__()</text>\n",
       "</a>\n",
       "</g>\n",
       "<g id=\"a_node8_26\"><a xlink:href=\"#\" xlink:title=\"add_to_fragment_pool(self, seed: SeedWithStructure) &#45;&gt; None:&#10;Adds all fragments of a seed to the fragment pool\">\n",
       "<text text-anchor=\"start\" x=\"353.5\" y=\"-208.5\" font-family=\"'Fira Mono', 'Source Code Pro', 'Courier', monospace\" font-weight=\"bold\" font-style=\"italic\" font-size=\"10.00\">add_to_fragment_pool()</text>\n",
       "</a>\n",
       "</g>\n",
       "<g id=\"a_node8_27\"><a xlink:href=\"#\" xlink:title=\"add_fragment(self, fragment: DerivationTree) &#45;&gt; None:&#10;Recursively adds fragments to the fragment pool\">\n",
       "<text text-anchor=\"start\" x=\"353.5\" y=\"-196.5\" font-family=\"'Fira Mono', 'Source Code Pro', 'Courier', monospace\" font-size=\"10.00\">add_fragment()</text>\n",
       "</a>\n",
       "</g>\n",
       "<g id=\"a_node8_28\"><a xlink:href=\"#\" xlink:title=\"count_nodes(self, fragment: DerivationTree) &#45;&gt; int:&#10;Returns the number of nodes in the fragment\">\n",
       "<text text-anchor=\"start\" x=\"353.5\" y=\"-185.5\" font-family=\"'Fira Mono', 'Source Code Pro', 'Courier', monospace\" font-size=\"10.00\">count_nodes()</text>\n",
       "</a>\n",
       "</g>\n",
       "<g id=\"a_node8_29\"><a xlink:href=\"#\" xlink:title=\"delete_fragment(self, seed: SeedWithStructure) &#45;&gt; SeedWithStructure:&#10;Delete a random fragment\">\n",
       "<text text-anchor=\"start\" x=\"353.5\" y=\"-175.5\" font-family=\"'Fira Mono', 'Source Code Pro', 'Courier', monospace\" font-style=\"italic\" font-size=\"10.00\">delete_fragment()</text>\n",
       "</a>\n",
       "</g>\n",
       "<g id=\"a_node8_30\"><a xlink:href=\"#\" xlink:title=\"is_excluded(self, symbol: str) &#45;&gt; bool:&#10;Returns true if a fragment starting with a specific&#10;symbol and all its decendents can be excluded\">\n",
       "<text text-anchor=\"start\" x=\"353.5\" y=\"-163.5\" font-family=\"'Fira Mono', 'Source Code Pro', 'Courier', monospace\" font-size=\"10.00\">is_excluded()</text>\n",
       "</a>\n",
       "</g>\n",
       "<g id=\"a_node8_31\"><a xlink:href=\"#\" xlink:title=\"mutate(self, seed: SeedWithStructure) &#45;&gt; SeedWithStructure:&#10;Implement structure&#45;aware mutation. Memoize seeds.\">\n",
       "<text text-anchor=\"start\" x=\"353.5\" y=\"-153.5\" font-family=\"'Fira Mono', 'Source Code Pro', 'Courier', monospace\" font-style=\"italic\" font-size=\"10.00\">mutate()</text>\n",
       "</a>\n",
       "</g>\n",
       "<g id=\"a_node8_32\"><a xlink:href=\"#\" xlink:title=\"recursive_delete(self, fragment: DerivationTree) &#45;&gt; DerivationTree:&#10;Recursively finds the fragment to delete\">\n",
       "<text text-anchor=\"start\" x=\"353.5\" y=\"-141.5\" font-family=\"'Fira Mono', 'Source Code Pro', 'Courier', monospace\" font-size=\"10.00\">recursive_delete()</text>\n",
       "</a>\n",
       "</g>\n",
       "<g id=\"a_node8_33\"><a xlink:href=\"#\" xlink:title=\"recursive_swap(self, fragment: DerivationTree) &#45;&gt; DerivationTree:&#10;Recursively finds the fragment to swap.\">\n",
       "<text text-anchor=\"start\" x=\"353.5\" y=\"-130.5\" font-family=\"'Fira Mono', 'Source Code Pro', 'Courier', monospace\" font-size=\"10.00\">recursive_swap()</text>\n",
       "</a>\n",
       "</g>\n",
       "<g id=\"a_node8_34\"><a xlink:href=\"#\" xlink:title=\"swap_fragment(self, seed: SeedWithStructure) &#45;&gt; SeedWithStructure:&#10;Substitutes a random fragment with another with the same symbol\">\n",
       "<text text-anchor=\"start\" x=\"353.5\" y=\"-120.5\" font-family=\"'Fira Mono', 'Source Code Pro', 'Courier', monospace\" font-style=\"italic\" font-size=\"10.00\">swap_fragment()</text>\n",
       "</a>\n",
       "</g>\n",
       "</a>\n",
       "</g>\n",
       "</a>\n",
       "</g>\n",
       "</g>\n",
       "<!-- RegionMutator&#45;&gt;FragmentMutator -->\n",
       "<g id=\"edge5\" class=\"edge\">\n",
       "<title>RegionMutator&#45;&gt;FragmentMutator</title>\n",
       "<path fill=\"none\" stroke=\"black\" d=\"M419.5,-70.03C419.5,-79.69 419.5,-90.81 419.5,-102.22\"/>\n",
       "<polygon fill=\"none\" stroke=\"black\" points=\"416,-102.29 419.5,-112.29 423,-102.29 416,-102.29\"/>\n",
       "</g>\n",
       "<!-- Mutator -->\n",
       "<g id=\"node9\" class=\"node\">\n",
       "<title>Mutator</title>\n",
       "<g id=\"a_node9\"><a xlink:href=\"GreyboxFuzzer.ipynb\" xlink:title=\"class Mutator:&#10;Mutate strings\">\n",
       "<polygon fill=\"none\" stroke=\"black\" points=\"381,-296 381,-338 458,-338 458,-296 381,-296\"/>\n",
       "<text text-anchor=\"start\" x=\"393.5\" y=\"-323.8\" font-family=\"Patua One, Helvetica, sans-serif\" font-weight=\"bold\" font-size=\"14.00\" fill=\"#b03a2e\">Mutator</text>\n",
       "<polyline fill=\"none\" stroke=\"black\" points=\"381,-315 458,-315 \"/>\n",
       "<g id=\"a_node9_35\"><a xlink:href=\"#\" xlink:title=\"Mutator\">\n",
       "<g id=\"a_node9_36\"><a xlink:href=\"GreyboxFuzzer.ipynb\" xlink:title=\"__init__(self) &#45;&gt; None:&#10;Constructor\">\n",
       "<text text-anchor=\"start\" x=\"389.5\" y=\"-303.5\" font-family=\"'Fira Mono', 'Source Code Pro', 'Courier', monospace\" font-weight=\"bold\" font-style=\"italic\" font-size=\"10.00\">__init__()</text>\n",
       "</a>\n",
       "</g>\n",
       "</a>\n",
       "</g>\n",
       "</a>\n",
       "</g>\n",
       "</g>\n",
       "<!-- FragmentMutator&#45;&gt;Mutator -->\n",
       "<g id=\"edge6\" class=\"edge\">\n",
       "<title>FragmentMutator&#45;&gt;Mutator</title>\n",
       "<path fill=\"none\" stroke=\"black\" d=\"M419.5,-253.87C419.5,-265.1 419.5,-276.18 419.5,-285.81\"/>\n",
       "<polygon fill=\"none\" stroke=\"black\" points=\"416,-285.99 419.5,-295.99 423,-285.99 416,-285.99\"/>\n",
       "</g>\n",
       "<!-- Legend -->\n",
       "<g id=\"node10\" class=\"node\">\n",
       "<title>Legend</title>\n",
       "<text text-anchor=\"start\" x=\"512.5\" y=\"-55.5\" font-family=\"Patua One, Helvetica, sans-serif\" font-weight=\"bold\" font-size=\"10.00\" fill=\"#b03a2e\">Legend</text>\n",
       "<text text-anchor=\"start\" x=\"512.5\" y=\"-45.5\" font-family=\"Patua One, Helvetica, sans-serif\" font-size=\"10.00\">• </text>\n",
       "<text text-anchor=\"start\" x=\"518.5\" y=\"-45.5\" font-family=\"'Fira Mono', 'Source Code Pro', 'Courier', monospace\" font-weight=\"bold\" font-size=\"8.00\">public_method()</text>\n",
       "<text text-anchor=\"start\" x=\"512.5\" y=\"-35.5\" font-family=\"Patua One, Helvetica, sans-serif\" font-size=\"10.00\">• </text>\n",
       "<text text-anchor=\"start\" x=\"518.5\" y=\"-35.5\" font-family=\"'Fira Mono', 'Source Code Pro', 'Courier', monospace\" font-size=\"8.00\">private_method()</text>\n",
       "<text text-anchor=\"start\" x=\"512.5\" y=\"-25.5\" font-family=\"Patua One, Helvetica, sans-serif\" font-size=\"10.00\">• </text>\n",
       "<text text-anchor=\"start\" x=\"518.5\" y=\"-25.5\" font-family=\"'Fira Mono', 'Source Code Pro', 'Courier', monospace\" font-style=\"italic\" font-size=\"8.00\">overloaded_method()</text>\n",
       "<text text-anchor=\"start\" x=\"512.5\" y=\"-16.3\" font-family=\"Helvetica,sans-Serif\" font-size=\"9.00\">Hover over names to see doc</text>\n",
       "</g>\n",
       "</g>\n",
       "</svg>\n"
      ],
      "text/plain": [
       "<graphviz.dot.Digraph at 0x12153e9d0>"
      ]
     },
     "execution_count": 87,
     "metadata": {},
     "output_type": "execute_result"
    }
   ],
   "source": [
    "# ignore\n",
    "display_class_hierarchy([GreyboxGrammarFuzzer, AFLSmartSchedule, RegionMutator],\n",
    "                        public_methods=[\n",
    "                            Fuzzer.__init__,\n",
    "                            Fuzzer.fuzz,\n",
    "                            Fuzzer.run,\n",
    "                            Fuzzer.runs,\n",
    "                            AdvancedMutationFuzzer.__init__,\n",
    "                            AdvancedMutationFuzzer.fuzz,\n",
    "                            GreyboxFuzzer.run,\n",
    "                            GreyboxGrammarFuzzer.__init__,\n",
    "                            GreyboxGrammarFuzzer.run,\n",
    "                            AFLSmartSchedule.__init__,\n",
    "                            PowerSchedule.__init__,\n",
    "                            Mutator.__init__,\n",
    "                            FragmentMutator.__init__,\n",
    "                            FragmentMutator.add_to_fragment_pool,\n",
    "                            RegionMutator.__init__,\n",
    "                        ],\n",
    "                        types={'DerivationTree': DerivationTree,\n",
    "                               'Location': Location},\n",
    "                        project='fuzzingbook')"
   ]
  },
  {
   "cell_type": "markdown",
   "metadata": {
    "button": false,
    "new_sheet": false,
    "run_control": {
     "read_only": false
    },
    "slideshow": {
     "slide_type": "slide"
    }
   },
   "source": [
    "## Next Steps\n",
    "\n",
    "This chapter closes our discussion of syntactic fuzzing techniques.\n",
    "\n",
    "* In the [next chapter](Reducer.ipynb), we discuss how to _reduce failure-inducing inputs_ after a failure, keeping only those portions of the input that are necessary for reproducing the failure.\n",
    "* The [next part](04_Semantical_Fuzzing.ipynb) will go from syntactical to _semantical_ fuzzing, considering code semantics for targeted test generation."
   ]
  },
  {
   "cell_type": "markdown",
   "metadata": {
    "button": false,
    "new_sheet": true,
    "run_control": {
     "read_only": false
    },
    "slideshow": {
     "slide_type": "slide"
    }
   },
   "source": [
    "## Exercises\n"
   ]
  },
  {
   "cell_type": "markdown",
   "metadata": {
    "slideshow": {
     "slide_type": "skip"
    },
    "solution2": "hidden",
    "solution2_first": true
   },
   "source": [
    "### Exercise 1: The Big Greybox Fuzzer Shoot-Out\n",
    "\n",
    "Use our implementations of greybox techniques and evaluate them on a benchmark.  Which technique (and which sub-technique) has which impact and why?  Also take into account the specific approaches of Superion \\cite{Wang2019superion} and Nautilus \\cite{Aschermann2019nautilus}, possibly even on the benchmarks used by these approaches."
   ]
  },
  {
   "cell_type": "markdown",
   "metadata": {
    "slideshow": {
     "slide_type": "skip"
    },
    "solution2": "hidden"
   },
   "source": [
    "**Solution.**  To be added."
   ]
  }
 ],
 "metadata": {
  "ipub": {
   "bibliography": "fuzzingbook.bib",
   "toc": true
  },
  "kernelspec": {
   "display_name": "Python 3 (ipykernel)",
   "language": "python",
   "name": "python3"
  },
  "language_info": {
   "codemirror_mode": {
    "name": "ipython",
    "version": 3
   },
   "file_extension": ".py",
   "mimetype": "text/x-python",
   "name": "python",
   "nbconvert_exporter": "python",
   "pygments_lexer": "ipython3",
   "version": "3.9.7"
  },
  "toc": {
   "base_numbering": 1,
   "nav_menu": {},
   "number_sections": true,
   "sideBar": true,
   "skip_h1_title": true,
   "title_cell": "",
   "title_sidebar": "Contents",
   "toc_cell": false,
   "toc_position": {},
   "toc_section_display": true,
   "toc_window_display": true
  },
  "toc-autonumbering": false,
  "varInspector": {
   "cols": {
    "lenName": 16,
    "lenType": 16,
    "lenVar": 40
   },
   "kernels_config": {
    "python": {
     "delete_cmd_postfix": "",
     "delete_cmd_prefix": "del ",
     "library": "var_list.py",
     "varRefreshCmd": "print(var_dic_list())"
    },
    "r": {
     "delete_cmd_postfix": ") ",
     "delete_cmd_prefix": "rm(",
     "library": "var_list.r",
     "varRefreshCmd": "cat(var_dic_list()) "
    }
   },
   "types_to_exclude": [
    "module",
    "function",
    "builtin_function_or_method",
    "instance",
    "_Feature"
   ],
   "window_display": false
  }
 },
 "nbformat": 4,
 "nbformat_minor": 4
}