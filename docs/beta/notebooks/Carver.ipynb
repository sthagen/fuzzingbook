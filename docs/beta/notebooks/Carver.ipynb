{
 "cells": [
  {
   "cell_type": "markdown",
   "metadata": {
    "button": false,
    "new_sheet": false,
    "run_control": {
     "read_only": false
    },
    "slideshow": {
     "slide_type": "slide"
    }
   },
   "source": [
    "# Carving Unit Tests\n",
    "\n",
    "So far, we have always generated _system input_, i.e. data that the program as a whole obtains via its input channels.  If we are interested in testing only a small set of functions, having to go through the system can be very inefficient.  This chapter introduces a technique known as _carving_, which, given a system test, automatically extracts a set of _unit tests_ that replicate the calls seen during the unit test.  The key idea is to _record_ such calls such that we can _replay_ them later – as a whole or selectively.  On top, we also explore how to synthesize API grammars from carved unit tests; this means that we can _synthesize API tests without having to write a grammar at all._"
   ]
  },
  {
   "cell_type": "markdown",
   "metadata": {
    "button": false,
    "new_sheet": false,
    "run_control": {
     "read_only": false
    },
    "slideshow": {
     "slide_type": "subslide"
    }
   },
   "source": [
    "**Prerequisites**\n",
    "\n",
    "* Carving makes use of dynamic traces of function calls and variables, as introduced in the [chapter on configuration fuzzing](ConfigurationFuzzer.ipynb).\n",
    "* Using grammars to test units was introduced in the [chapter on API fuzzing](APIFuzzer.ipynb)."
   ]
  },
  {
   "cell_type": "code",
   "execution_count": 1,
   "metadata": {
    "execution": {
     "iopub.execute_input": "2022-02-13T14:56:08.832069Z",
     "iopub.status.busy": "2022-02-13T14:56:08.831350Z",
     "iopub.status.idle": "2022-02-13T14:56:08.932100Z",
     "shell.execute_reply": "2022-02-13T14:56:08.932469Z"
    },
    "slideshow": {
     "slide_type": "skip"
    }
   },
   "outputs": [],
   "source": [
    "import bookutils"
   ]
  },
  {
   "cell_type": "code",
   "execution_count": 2,
   "metadata": {
    "execution": {
     "iopub.execute_input": "2022-02-13T14:56:08.935669Z",
     "iopub.status.busy": "2022-02-13T14:56:08.935135Z",
     "iopub.status.idle": "2022-02-13T14:56:12.857017Z",
     "shell.execute_reply": "2022-02-13T14:56:12.857412Z"
    },
    "slideshow": {
     "slide_type": "skip"
    }
   },
   "outputs": [],
   "source": [
    "import APIFuzzer"
   ]
  },
  {
   "cell_type": "markdown",
   "metadata": {
    "slideshow": {
     "slide_type": "skip"
    }
   },
   "source": [
    "## Synopsis\n",
    "<!-- Automatically generated. Do not edit. -->\n",
    "\n",
    "To [use the code provided in this chapter](Importing.ipynb), write\n",
    "\n",
    "```python\n",
    ">>> from fuzzingbook.Carver import <identifier>\n",
    "```\n",
    "\n",
    "and then make use of the following features.\n",
    "\n",
    "\n",
    "This chapter provides means to _record and replay function calls_ during a system test.  Since individual function calls are much faster than a whole system run, such \"carving\" mechanisms have the potential to run tests much faster.\n",
    "\n",
    "### Recording Calls\n",
    "\n",
    "The `CallCarver` class records all calls occurring while it is active.  It is used in conjunction with a `with` clause:\n",
    "\n",
    "```python\n",
    ">>> with CallCarver() as carver:\n",
    ">>>     y = my_sqrt(2)\n",
    ">>>     y = my_sqrt(4)\n",
    "```\n",
    "After execution, `called_functions()` lists the names of functions encountered:\n",
    "\n",
    "```python\n",
    ">>> carver.called_functions()\n",
    "['my_sqrt', '__exit__']\n",
    "```\n",
    "The `arguments()` method lists the arguments recorded for a function.  This is a mapping of the function name to a list of lists of arguments; each argument is a pair (parameter name, value).\n",
    "\n",
    "```python\n",
    ">>> carver.arguments('my_sqrt')\n",
    "[[('x', 2)], [('x', 4)]]\n",
    "```\n",
    "Complex arguments are properly serialized, such that they can be easily restored.\n",
    "\n",
    "### Synthesizing Calls\n",
    "\n",
    "While such recorded arguments already could be turned into arguments and calls, a much nicer alternative is to create a _grammar_ for recorded calls.  This allows to synthesize arbitrary _combinations_ of arguments, and also offers a base for further customization of calls.\n",
    "\n",
    "The `CallGrammarMiner` class turns a list of carved executions into a grammar.\n",
    "\n",
    "```python\n",
    ">>> my_sqrt_miner = CallGrammarMiner(carver)\n",
    ">>> my_sqrt_grammar = my_sqrt_miner.mine_call_grammar()\n",
    ">>> my_sqrt_grammar\n",
    "{'<start>': ['<call>'],\n",
    " '<call>': ['<my_sqrt>'],\n",
    " '<my_sqrt-x>': ['2', '4'],\n",
    " '<my_sqrt>': ['my_sqrt(<my_sqrt-x>)']}\n",
    "```\n",
    "This grammar can be used to synthesize calls.\n",
    "\n",
    "```python\n",
    ">>> fuzzer = GrammarCoverageFuzzer(my_sqrt_grammar)\n",
    ">>> fuzzer.fuzz()\n",
    "'my_sqrt(4)'\n",
    "```\n",
    "These calls can be executed in isolation, effectively extracting unit tests from system tests:\n",
    "\n",
    "```python\n",
    ">>> eval(fuzzer.fuzz())\n",
    "1.414213562373095\n",
    "```\n"
   ]
  },
  {
   "cell_type": "markdown",
   "metadata": {
    "button": false,
    "new_sheet": false,
    "run_control": {
     "read_only": false
    },
    "slideshow": {
     "slide_type": "slide"
    }
   },
   "source": [
    "## System Tests vs Unit Tests\n",
    "\n",
    "Remember the URL grammar introduced for [grammar fuzzing](Grammars.ipynb)?  With such a grammar, we can happily test a Web browser again and again, checking how it reacts to arbitrary page requests.\n",
    "\n",
    "Let us define a very simple \"web browser\" that goes and downloads the content given by the URL."
   ]
  },
  {
   "cell_type": "code",
   "execution_count": 3,
   "metadata": {
    "execution": {
     "iopub.execute_input": "2022-02-13T14:56:12.860987Z",
     "iopub.status.busy": "2022-02-13T14:56:12.860360Z",
     "iopub.status.idle": "2022-02-13T14:56:12.862148Z",
     "shell.execute_reply": "2022-02-13T14:56:12.862547Z"
    },
    "slideshow": {
     "slide_type": "skip"
    }
   },
   "outputs": [],
   "source": [
    "import urllib.parse"
   ]
  },
  {
   "cell_type": "code",
   "execution_count": 4,
   "metadata": {
    "execution": {
     "iopub.execute_input": "2022-02-13T14:56:12.865876Z",
     "iopub.status.busy": "2022-02-13T14:56:12.865335Z",
     "iopub.status.idle": "2022-02-13T14:56:12.866969Z",
     "shell.execute_reply": "2022-02-13T14:56:12.867592Z"
    },
    "slideshow": {
     "slide_type": "fragment"
    }
   },
   "outputs": [],
   "source": [
    "def webbrowser(url):\n",
    "    \"\"\"Download the http/https resource given by the URL\"\"\"\n",
    "    import requests  # Only import if needed\n",
    "\n",
    "    r = requests.get(url)\n",
    "    return r.text"
   ]
  },
  {
   "cell_type": "markdown",
   "metadata": {
    "slideshow": {
     "slide_type": "subslide"
    }
   },
   "source": [
    "Let us apply this on [fuzzingbook.org](https://www.fuzzingbook.org/) and measure the time, using the [Timer class](Timer.ipynb):"
   ]
  },
  {
   "cell_type": "code",
   "execution_count": 5,
   "metadata": {
    "execution": {
     "iopub.execute_input": "2022-02-13T14:56:12.870926Z",
     "iopub.status.busy": "2022-02-13T14:56:12.870343Z",
     "iopub.status.idle": "2022-02-13T14:56:12.872195Z",
     "shell.execute_reply": "2022-02-13T14:56:12.872652Z"
    },
    "slideshow": {
     "slide_type": "skip"
    }
   },
   "outputs": [],
   "source": [
    "from Timer import Timer"
   ]
  },
  {
   "cell_type": "code",
   "execution_count": 6,
   "metadata": {
    "execution": {
     "iopub.execute_input": "2022-02-13T14:56:12.876507Z",
     "iopub.status.busy": "2022-02-13T14:56:12.875763Z",
     "iopub.status.idle": "2022-02-13T14:56:13.290269Z",
     "shell.execute_reply": "2022-02-13T14:56:13.290666Z"
    },
    "slideshow": {
     "slide_type": "fragment"
    }
   },
   "outputs": [
    {
     "name": "stdout",
     "output_type": "stream",
     "text": [
      "Downloaded 457713 bytes in 0.41 seconds\n"
     ]
    }
   ],
   "source": [
    "with Timer() as webbrowser_timer:\n",
    "    fuzzingbook_contents = webbrowser(\n",
    "        \"http://www.fuzzingbook.org/html/Fuzzer.html\")\n",
    "\n",
    "print(\"Downloaded %d bytes in %.2f seconds\" %\n",
    "      (len(fuzzingbook_contents), webbrowser_timer.elapsed_time()))"
   ]
  },
  {
   "cell_type": "code",
   "execution_count": 7,
   "metadata": {
    "execution": {
     "iopub.execute_input": "2022-02-13T14:56:13.295739Z",
     "iopub.status.busy": "2022-02-13T14:56:13.295144Z",
     "iopub.status.idle": "2022-02-13T14:56:13.298507Z",
     "shell.execute_reply": "2022-02-13T14:56:13.298880Z"
    },
    "slideshow": {
     "slide_type": "fragment"
    }
   },
   "outputs": [
    {
     "data": {
      "text/plain": [
       "'\\n<!-- A html document -->\\n<!-- \\nwith standard nbconvert css layout\\nwith standard nbconvert input/out'"
      ]
     },
     "execution_count": 7,
     "metadata": {},
     "output_type": "execute_result"
    }
   ],
   "source": [
    "fuzzingbook_contents[:100]"
   ]
  },
  {
   "cell_type": "markdown",
   "metadata": {
    "slideshow": {
     "slide_type": "subslide"
    }
   },
   "source": [
    "A full webbrowser, of course, would also render the HTML content.  We can achieve this using these commands (but we don't, as we do not want to replicate the entire Web page here):\n",
    "\n",
    "\n",
    "```python\n",
    "from IPython.display import HTML, display\n",
    "HTML(fuzzingbook_contents)\n",
    "```"
   ]
  },
  {
   "cell_type": "markdown",
   "metadata": {
    "slideshow": {
     "slide_type": "subslide"
    }
   },
   "source": [
    "Having to start a whole browser (or having it render a Web page) again and again means lots of overhead, though – in particular if we want to test only a subset of its functionality.  In particular, after a change in the code, we would prefer to test only the subset of functions that is affected by the change, rather than running the well-tested functions again and again."
   ]
  },
  {
   "cell_type": "markdown",
   "metadata": {
    "button": false,
    "new_sheet": false,
    "run_control": {
     "read_only": false
    },
    "slideshow": {
     "slide_type": "fragment"
    }
   },
   "source": [
    "Let us assume we change the function that takes care of parsing the given URL and decomposing it into the individual elements – the scheme (\"http\"), the network location (`\"www.fuzzingbook.com\"`), or the path (`\"/html/Fuzzer.html\"`).  This function is named `urlparse()`:"
   ]
  },
  {
   "cell_type": "code",
   "execution_count": 8,
   "metadata": {
    "execution": {
     "iopub.execute_input": "2022-02-13T14:56:13.302809Z",
     "iopub.status.busy": "2022-02-13T14:56:13.302079Z",
     "iopub.status.idle": "2022-02-13T14:56:13.304084Z",
     "shell.execute_reply": "2022-02-13T14:56:13.304596Z"
    },
    "slideshow": {
     "slide_type": "skip"
    }
   },
   "outputs": [],
   "source": [
    "from urllib.parse import urlparse"
   ]
  },
  {
   "cell_type": "code",
   "execution_count": 9,
   "metadata": {
    "execution": {
     "iopub.execute_input": "2022-02-13T14:56:13.308499Z",
     "iopub.status.busy": "2022-02-13T14:56:13.307952Z",
     "iopub.status.idle": "2022-02-13T14:56:13.310244Z",
     "shell.execute_reply": "2022-02-13T14:56:13.310676Z"
    },
    "slideshow": {
     "slide_type": "fragment"
    }
   },
   "outputs": [
    {
     "data": {
      "text/plain": [
       "ParseResult(scheme='https', netloc='www.fuzzingbook.com', path='/html/Carver.html', params='', query='', fragment='')"
      ]
     },
     "execution_count": 9,
     "metadata": {},
     "output_type": "execute_result"
    }
   ],
   "source": [
    "urlparse('https://www.fuzzingbook.com/html/Carver.html')"
   ]
  },
  {
   "cell_type": "markdown",
   "metadata": {
    "slideshow": {
     "slide_type": "subslide"
    }
   },
   "source": [
    "You see how the individual elements of the URL – the _scheme_ (`\"http\"`), the _network location_ (`\"www.fuzzingbook.com\"`), or the path (`\"//html/Carver.html\"`) are all properly identified.  Other elements (like `params`, `query`, or `fragment`) are empty, because they were not part of our input."
   ]
  },
  {
   "cell_type": "markdown",
   "metadata": {
    "slideshow": {
     "slide_type": "fragment"
    }
   },
   "source": [
    "The interesting thing is that executing only `urlparse()` is orders of magnitude faster than running all of `webbrowser()`.  Let us measure the factor:"
   ]
  },
  {
   "cell_type": "code",
   "execution_count": 10,
   "metadata": {
    "execution": {
     "iopub.execute_input": "2022-02-13T14:56:13.317710Z",
     "iopub.status.busy": "2022-02-13T14:56:13.317129Z",
     "iopub.status.idle": "2022-02-13T14:56:13.319371Z",
     "shell.execute_reply": "2022-02-13T14:56:13.319796Z"
    },
    "slideshow": {
     "slide_type": "subslide"
    }
   },
   "outputs": [
    {
     "data": {
      "text/plain": [
       "2.416468999999921e-06"
      ]
     },
     "execution_count": 10,
     "metadata": {},
     "output_type": "execute_result"
    }
   ],
   "source": [
    "runs = 1000\n",
    "with Timer() as urlparse_timer:\n",
    "    for i in range(runs):\n",
    "        urlparse('https://www.fuzzingbook.com/html/Carver.html')\n",
    "\n",
    "avg_urlparse_time = urlparse_timer.elapsed_time() / 1000\n",
    "avg_urlparse_time"
   ]
  },
  {
   "cell_type": "markdown",
   "metadata": {
    "slideshow": {
     "slide_type": "fragment"
    }
   },
   "source": [
    "Compare this to the time required by the webbrowser"
   ]
  },
  {
   "cell_type": "code",
   "execution_count": 11,
   "metadata": {
    "execution": {
     "iopub.execute_input": "2022-02-13T14:56:13.323246Z",
     "iopub.status.busy": "2022-02-13T14:56:13.322634Z",
     "iopub.status.idle": "2022-02-13T14:56:13.325004Z",
     "shell.execute_reply": "2022-02-13T14:56:13.325381Z"
    },
    "slideshow": {
     "slide_type": "fragment"
    }
   },
   "outputs": [
    {
     "data": {
      "text/plain": [
       "0.4111947169999999"
      ]
     },
     "execution_count": 11,
     "metadata": {},
     "output_type": "execute_result"
    }
   ],
   "source": [
    "webbrowser_timer.elapsed_time()"
   ]
  },
  {
   "cell_type": "markdown",
   "metadata": {
    "slideshow": {
     "slide_type": "fragment"
    }
   },
   "source": [
    "The difference in time is huge:"
   ]
  },
  {
   "cell_type": "code",
   "execution_count": 12,
   "metadata": {
    "execution": {
     "iopub.execute_input": "2022-02-13T14:56:13.328963Z",
     "iopub.status.busy": "2022-02-13T14:56:13.328391Z",
     "iopub.status.idle": "2022-02-13T14:56:13.330676Z",
     "shell.execute_reply": "2022-02-13T14:56:13.331043Z"
    },
    "slideshow": {
     "slide_type": "fragment"
    }
   },
   "outputs": [
    {
     "data": {
      "text/plain": [
       "170163.45626615253"
      ]
     },
     "execution_count": 12,
     "metadata": {},
     "output_type": "execute_result"
    }
   ],
   "source": [
    "webbrowser_timer.elapsed_time() / avg_urlparse_time"
   ]
  },
  {
   "cell_type": "markdown",
   "metadata": {
    "slideshow": {
     "slide_type": "subslide"
    }
   },
   "source": [
    "Hence, in the time it takes to run `webbrowser()` once, we can have _tens of thousands_ of executions of `urlparse()` – and this does not even take into account the time it takes the browser to render the downloaded HTML, to run the included scripts, and whatever else happens when a Web page is loaded.  Hence, strategies that allow us to test at the _unit_ level are very promising as they can save lots of overhead."
   ]
  },
  {
   "cell_type": "markdown",
   "metadata": {
    "slideshow": {
     "slide_type": "slide"
    }
   },
   "source": [
    "## Carving Unit Tests\n",
    "\n",
    "Testing methods and functions at the unit level requires a very good understanding of the individual units to be tested as well as their interplay with other units.  Setting up an appropriate infrastructure and writing unit tests by hand thus is demanding, yet rewarding.  There is, however, an interesting alternative to writing unit tests by hand.  The technique of _carving_ automatically _converts system tests into unit tests_ by means of recording and replaying function calls:\n",
    "\n",
    "1. During a system test (given or generated), we _record_ all calls into a function, including all arguments and other variables the function reads.\n",
    "2. From these, we synthesize a self-contained _unit test_ that reconstructs the function call with all arguments.\n",
    "3. This unit test can be executed (replayed) at any time with high efficiency.\n",
    "\n",
    "In the remainder of this chapter, let us explore these steps."
   ]
  },
  {
   "cell_type": "markdown",
   "metadata": {
    "button": false,
    "new_sheet": true,
    "run_control": {
     "read_only": false
    },
    "slideshow": {
     "slide_type": "slide"
    }
   },
   "source": [
    "## Recording Calls\n",
    "\n",
    "Our first challenge is to record function calls together with their arguments.  (In the interest of simplicity, we restrict ourself to arguments, ignoring any global variables or other non-arguments that are read by the function.)  To record calls and arguments, we use the mechanism [we introduced for coverage](Coverage.ipynb): By setting up a tracer function, we track all calls into individual functions, also saving their arguments.  Just like `Coverage` objects, we want to use `Carver` objects to be able to be used in conjunction with the `with` statement, such that we can trace a particular code block:\n",
    "\n",
    "```python\n",
    "with Carver() as carver:\n",
    "    function_to_be_traced()\n",
    "c = carver.calls()\n",
    "```\n",
    "\n",
    "The initial definition supports this construct:"
   ]
  },
  {
   "cell_type": "markdown",
   "metadata": {
    "slideshow": {
     "slide_type": "subslide"
    }
   },
   "source": [
    "\\todo{Get tracker from [dynamic invariants](DynamicInvariants.ipynb)}"
   ]
  },
  {
   "cell_type": "code",
   "execution_count": 13,
   "metadata": {
    "execution": {
     "iopub.execute_input": "2022-02-13T14:56:13.334305Z",
     "iopub.status.busy": "2022-02-13T14:56:13.333778Z",
     "iopub.status.idle": "2022-02-13T14:56:13.335446Z",
     "shell.execute_reply": "2022-02-13T14:56:13.335817Z"
    },
    "slideshow": {
     "slide_type": "skip"
    }
   },
   "outputs": [],
   "source": [
    "import sys"
   ]
  },
  {
   "cell_type": "code",
   "execution_count": 14,
   "metadata": {
    "execution": {
     "iopub.execute_input": "2022-02-13T14:56:13.340498Z",
     "iopub.status.busy": "2022-02-13T14:56:13.339882Z",
     "iopub.status.idle": "2022-02-13T14:56:13.341593Z",
     "shell.execute_reply": "2022-02-13T14:56:13.342063Z"
    },
    "slideshow": {
     "slide_type": "subslide"
    }
   },
   "outputs": [],
   "source": [
    "class Carver:\n",
    "    def __init__(self, log=False):\n",
    "        self._log = log\n",
    "        self.reset()\n",
    "\n",
    "    def reset(self):\n",
    "        self._calls = {}\n",
    "\n",
    "    # Start of `with` block\n",
    "    def __enter__(self):\n",
    "        self.original_trace_function = sys.gettrace()\n",
    "        sys.settrace(self.traceit)\n",
    "        return self\n",
    "\n",
    "    # End of `with` block\n",
    "    def __exit__(self, exc_type, exc_value, tb):\n",
    "        sys.settrace(self.original_trace_function)"
   ]
  },
  {
   "cell_type": "markdown",
   "metadata": {
    "slideshow": {
     "slide_type": "subslide"
    }
   },
   "source": [
    "The actual work takes place in the `traceit()` method, which records all calls in the `_calls` attribute.  First, we define two helper functions:"
   ]
  },
  {
   "cell_type": "code",
   "execution_count": 15,
   "metadata": {
    "execution": {
     "iopub.execute_input": "2022-02-13T14:56:13.345399Z",
     "iopub.status.busy": "2022-02-13T14:56:13.344877Z",
     "iopub.status.idle": "2022-02-13T14:56:13.346290Z",
     "shell.execute_reply": "2022-02-13T14:56:13.346708Z"
    },
    "slideshow": {
     "slide_type": "skip"
    }
   },
   "outputs": [],
   "source": [
    "import inspect"
   ]
  },
  {
   "cell_type": "code",
   "execution_count": 16,
   "metadata": {
    "execution": {
     "iopub.execute_input": "2022-02-13T14:56:13.350957Z",
     "iopub.status.busy": "2022-02-13T14:56:13.350319Z",
     "iopub.status.idle": "2022-02-13T14:56:13.351991Z",
     "shell.execute_reply": "2022-02-13T14:56:13.352399Z"
    },
    "slideshow": {
     "slide_type": "fragment"
    }
   },
   "outputs": [],
   "source": [
    "def get_qualified_name(code):\n",
    "    \"\"\"Return the fully qualified name of the current function\"\"\"\n",
    "    name = code.co_name\n",
    "    module = inspect.getmodule(code)\n",
    "    if module is not None:\n",
    "        name = module.__name__ + \".\" + name\n",
    "    return name"
   ]
  },
  {
   "cell_type": "code",
   "execution_count": 17,
   "metadata": {
    "execution": {
     "iopub.execute_input": "2022-02-13T14:56:13.356446Z",
     "iopub.status.busy": "2022-02-13T14:56:13.355832Z",
     "iopub.status.idle": "2022-02-13T14:56:13.357689Z",
     "shell.execute_reply": "2022-02-13T14:56:13.358062Z"
    },
    "slideshow": {
     "slide_type": "subslide"
    }
   },
   "outputs": [],
   "source": [
    "def get_arguments(frame):\n",
    "    \"\"\"Return call arguments in the given frame\"\"\"\n",
    "    # When called, all arguments are local variables\n",
    "    local_variables = frame.f_locals.copy()\n",
    "    arguments = [(var, frame.f_locals[var])\n",
    "                 for var in local_variables]\n",
    "    arguments.reverse()  # Want same order as call\n",
    "    return arguments"
   ]
  },
  {
   "cell_type": "code",
   "execution_count": 18,
   "metadata": {
    "execution": {
     "iopub.execute_input": "2022-02-13T14:56:13.363514Z",
     "iopub.status.busy": "2022-02-13T14:56:13.362934Z",
     "iopub.status.idle": "2022-02-13T14:56:13.364766Z",
     "shell.execute_reply": "2022-02-13T14:56:13.365142Z"
    },
    "slideshow": {
     "slide_type": "subslide"
    }
   },
   "outputs": [],
   "source": [
    "class CallCarver(Carver):\n",
    "    def add_call(self, function_name, arguments):\n",
    "        \"\"\"Add given call to list of calls\"\"\"\n",
    "        if function_name not in self._calls:\n",
    "            self._calls[function_name] = []\n",
    "        self._calls[function_name].append(arguments)\n",
    "\n",
    "    # Tracking function: Record all calls and all args\n",
    "    def traceit(self, frame, event, arg):\n",
    "        if event != \"call\":\n",
    "            return None\n",
    "\n",
    "        code = frame.f_code\n",
    "        function_name = code.co_name\n",
    "        qualified_name = get_qualified_name(code)\n",
    "        arguments = get_arguments(frame)\n",
    "\n",
    "        self.add_call(function_name, arguments)\n",
    "        if qualified_name != function_name:\n",
    "            self.add_call(qualified_name, arguments)\n",
    "\n",
    "        if self._log:\n",
    "            print(simple_call_string(function_name, arguments))\n",
    "\n",
    "        return None"
   ]
  },
  {
   "cell_type": "markdown",
   "metadata": {
    "slideshow": {
     "slide_type": "subslide"
    }
   },
   "source": [
    "Finally, we need some convenience functions to access the calls:"
   ]
  },
  {
   "cell_type": "code",
   "execution_count": 19,
   "metadata": {
    "execution": {
     "iopub.execute_input": "2022-02-13T14:56:13.370235Z",
     "iopub.status.busy": "2022-02-13T14:56:13.369691Z",
     "iopub.status.idle": "2022-02-13T14:56:13.371499Z",
     "shell.execute_reply": "2022-02-13T14:56:13.371881Z"
    },
    "slideshow": {
     "slide_type": "subslide"
    }
   },
   "outputs": [],
   "source": [
    "class CallCarver(CallCarver):\n",
    "    def calls(self):\n",
    "        \"\"\"Return a dictionary of all calls traced.\"\"\"\n",
    "        return self._calls\n",
    "\n",
    "    def arguments(self, function_name):\n",
    "        \"\"\"Return a list of all arguments of the given function\n",
    "        as (VAR, VALUE) pairs.\n",
    "        Raises an exception if the function was not traced.\"\"\"\n",
    "        return self._calls[function_name]\n",
    "\n",
    "    def called_functions(self, qualified=False):\n",
    "        \"\"\"Return all functions called.\"\"\"\n",
    "        if qualified:\n",
    "            return [function_name for function_name in self._calls.keys()\n",
    "                    if function_name.find('.') >= 0]\n",
    "        else:\n",
    "            return [function_name for function_name in self._calls.keys()\n",
    "                    if function_name.find('.') < 0]"
   ]
  },
  {
   "cell_type": "markdown",
   "metadata": {
    "slideshow": {
     "slide_type": "subslide"
    }
   },
   "source": [
    "### Recording my_sqrt()"
   ]
  },
  {
   "cell_type": "markdown",
   "metadata": {
    "slideshow": {
     "slide_type": "fragment"
    }
   },
   "source": [
    "Let's try out our new `Carver` class – first on a very simple function:"
   ]
  },
  {
   "cell_type": "code",
   "execution_count": 20,
   "metadata": {
    "execution": {
     "iopub.execute_input": "2022-02-13T14:56:13.375465Z",
     "iopub.status.busy": "2022-02-13T14:56:13.374926Z",
     "iopub.status.idle": "2022-02-13T14:56:13.376774Z",
     "shell.execute_reply": "2022-02-13T14:56:13.377148Z"
    },
    "slideshow": {
     "slide_type": "skip"
    }
   },
   "outputs": [],
   "source": [
    "from Intro_Testing import my_sqrt"
   ]
  },
  {
   "cell_type": "code",
   "execution_count": 21,
   "metadata": {
    "execution": {
     "iopub.execute_input": "2022-02-13T14:56:13.380536Z",
     "iopub.status.busy": "2022-02-13T14:56:13.379921Z",
     "iopub.status.idle": "2022-02-13T14:56:13.520340Z",
     "shell.execute_reply": "2022-02-13T14:56:13.519927Z"
    },
    "slideshow": {
     "slide_type": "fragment"
    }
   },
   "outputs": [],
   "source": [
    "with CallCarver() as sqrt_carver:\n",
    "    my_sqrt(2)\n",
    "    my_sqrt(4)"
   ]
  },
  {
   "cell_type": "markdown",
   "metadata": {
    "slideshow": {
     "slide_type": "fragment"
    }
   },
   "source": [
    "We can retrieve all calls seen..."
   ]
  },
  {
   "cell_type": "code",
   "execution_count": 22,
   "metadata": {
    "execution": {
     "iopub.execute_input": "2022-02-13T14:56:13.524773Z",
     "iopub.status.busy": "2022-02-13T14:56:13.524184Z",
     "iopub.status.idle": "2022-02-13T14:56:13.526510Z",
     "shell.execute_reply": "2022-02-13T14:56:13.526876Z"
    },
    "slideshow": {
     "slide_type": "fragment"
    }
   },
   "outputs": [
    {
     "data": {
      "text/plain": [
       "{'my_sqrt': [[('x', 2)], [('x', 4)]],\n",
       " 'Intro_Testing.my_sqrt': [[('x', 2)], [('x', 4)]],\n",
       " '__exit__': [[('tb', None),\n",
       "   ('exc_value', None),\n",
       "   ('exc_type', None),\n",
       "   ('self', <__main__.CallCarver at 0x1290408e0>)]]}"
      ]
     },
     "execution_count": 22,
     "metadata": {},
     "output_type": "execute_result"
    }
   ],
   "source": [
    "sqrt_carver.calls()"
   ]
  },
  {
   "cell_type": "code",
   "execution_count": 23,
   "metadata": {
    "execution": {
     "iopub.execute_input": "2022-02-13T14:56:13.530380Z",
     "iopub.status.busy": "2022-02-13T14:56:13.529745Z",
     "iopub.status.idle": "2022-02-13T14:56:13.532079Z",
     "shell.execute_reply": "2022-02-13T14:56:13.532449Z"
    },
    "slideshow": {
     "slide_type": "subslide"
    }
   },
   "outputs": [
    {
     "data": {
      "text/plain": [
       "['my_sqrt', '__exit__']"
      ]
     },
     "execution_count": 23,
     "metadata": {},
     "output_type": "execute_result"
    }
   ],
   "source": [
    "sqrt_carver.called_functions()"
   ]
  },
  {
   "cell_type": "markdown",
   "metadata": {
    "slideshow": {
     "slide_type": "fragment"
    }
   },
   "source": [
    "... as well as the arguments of a particular function:"
   ]
  },
  {
   "cell_type": "code",
   "execution_count": 24,
   "metadata": {
    "execution": {
     "iopub.execute_input": "2022-02-13T14:56:13.536174Z",
     "iopub.status.busy": "2022-02-13T14:56:13.535627Z",
     "iopub.status.idle": "2022-02-13T14:56:13.537850Z",
     "shell.execute_reply": "2022-02-13T14:56:13.538242Z"
    },
    "slideshow": {
     "slide_type": "fragment"
    }
   },
   "outputs": [
    {
     "data": {
      "text/plain": [
       "[[('x', 2)], [('x', 4)]]"
      ]
     },
     "execution_count": 24,
     "metadata": {},
     "output_type": "execute_result"
    }
   ],
   "source": [
    "sqrt_carver.arguments(\"my_sqrt\")"
   ]
  },
  {
   "cell_type": "markdown",
   "metadata": {
    "slideshow": {
     "slide_type": "fragment"
    }
   },
   "source": [
    "We define a convenience function for nicer printing of these lists:"
   ]
  },
  {
   "cell_type": "code",
   "execution_count": 25,
   "metadata": {
    "execution": {
     "iopub.execute_input": "2022-02-13T14:56:13.542519Z",
     "iopub.status.busy": "2022-02-13T14:56:13.541861Z",
     "iopub.status.idle": "2022-02-13T14:56:13.543455Z",
     "shell.execute_reply": "2022-02-13T14:56:13.543835Z"
    },
    "slideshow": {
     "slide_type": "fragment"
    }
   },
   "outputs": [],
   "source": [
    "def simple_call_string(function_name, argument_list):\n",
    "    \"\"\"Return function_name(arg[0], arg[1], ...) as a string\"\"\"\n",
    "    return function_name + \"(\" + \\\n",
    "        \", \".join([var + \"=\" + repr(value)\n",
    "                   for (var, value) in argument_list]) + \")\""
   ]
  },
  {
   "cell_type": "code",
   "execution_count": 26,
   "metadata": {
    "execution": {
     "iopub.execute_input": "2022-02-13T14:56:13.547359Z",
     "iopub.status.busy": "2022-02-13T14:56:13.546795Z",
     "iopub.status.idle": "2022-02-13T14:56:13.548852Z",
     "shell.execute_reply": "2022-02-13T14:56:13.549217Z"
    },
    "slideshow": {
     "slide_type": "subslide"
    }
   },
   "outputs": [
    {
     "name": "stdout",
     "output_type": "stream",
     "text": [
      "my_sqrt(x=2)\n",
      "my_sqrt(x=4)\n",
      "__exit__(tb=None, exc_value=None, exc_type=None, self=<__main__.CallCarver object at 0x1290408e0>)\n"
     ]
    }
   ],
   "source": [
    "for function_name in sqrt_carver.called_functions():\n",
    "    for argument_list in sqrt_carver.arguments(function_name):\n",
    "        print(simple_call_string(function_name, argument_list))"
   ]
  },
  {
   "cell_type": "markdown",
   "metadata": {
    "slideshow": {
     "slide_type": "fragment"
    }
   },
   "source": [
    "This is a syntax we can directly use to invoke `my_sqrt()` again:"
   ]
  },
  {
   "cell_type": "code",
   "execution_count": 27,
   "metadata": {
    "execution": {
     "iopub.execute_input": "2022-02-13T14:56:13.552653Z",
     "iopub.status.busy": "2022-02-13T14:56:13.552090Z",
     "iopub.status.idle": "2022-02-13T14:56:13.554300Z",
     "shell.execute_reply": "2022-02-13T14:56:13.554672Z"
    },
    "slideshow": {
     "slide_type": "fragment"
    }
   },
   "outputs": [
    {
     "data": {
      "text/plain": [
       "1.414213562373095"
      ]
     },
     "execution_count": 27,
     "metadata": {},
     "output_type": "execute_result"
    }
   ],
   "source": [
    "eval(\"my_sqrt(x=2)\")"
   ]
  },
  {
   "cell_type": "markdown",
   "metadata": {
    "slideshow": {
     "slide_type": "subslide"
    }
   },
   "source": [
    "### Carving urlparse()"
   ]
  },
  {
   "cell_type": "markdown",
   "metadata": {
    "slideshow": {
     "slide_type": "fragment"
    }
   },
   "source": [
    "What happens if we apply this to `webbrowser()`?"
   ]
  },
  {
   "cell_type": "code",
   "execution_count": 28,
   "metadata": {
    "execution": {
     "iopub.execute_input": "2022-02-13T14:56:13.560527Z",
     "iopub.status.busy": "2022-02-13T14:56:13.559996Z",
     "iopub.status.idle": "2022-02-13T14:56:14.057168Z",
     "shell.execute_reply": "2022-02-13T14:56:14.057594Z"
    },
    "slideshow": {
     "slide_type": "fragment"
    }
   },
   "outputs": [],
   "source": [
    "with CallCarver() as webbrowser_carver:\n",
    "    webbrowser(\"http://www.example.com\")"
   ]
  },
  {
   "cell_type": "markdown",
   "metadata": {
    "slideshow": {
     "slide_type": "fragment"
    }
   },
   "source": [
    "We see that retrieving a URL from the Web requires quite some functionality:"
   ]
  },
  {
   "cell_type": "code",
   "execution_count": 29,
   "metadata": {
    "execution": {
     "iopub.execute_input": "2022-02-13T14:56:14.061835Z",
     "iopub.status.busy": "2022-02-13T14:56:14.061286Z",
     "iopub.status.idle": "2022-02-13T14:56:14.063569Z",
     "shell.execute_reply": "2022-02-13T14:56:14.063943Z"
    },
    "slideshow": {
     "slide_type": "fragment"
    }
   },
   "outputs": [
    {
     "data": {
      "text/plain": [
       "325"
      ]
     },
     "execution_count": 29,
     "metadata": {},
     "output_type": "execute_result"
    }
   ],
   "source": [
    "function_list = webbrowser_carver.called_functions(qualified=True)\n",
    "len(function_list)"
   ]
  },
  {
   "cell_type": "code",
   "execution_count": 30,
   "metadata": {
    "execution": {
     "iopub.execute_input": "2022-02-13T14:56:14.067208Z",
     "iopub.status.busy": "2022-02-13T14:56:14.066655Z",
     "iopub.status.idle": "2022-02-13T14:56:14.068821Z",
     "shell.execute_reply": "2022-02-13T14:56:14.069202Z"
    },
    "slideshow": {
     "slide_type": "fragment"
    }
   },
   "outputs": [
    {
     "name": "stdout",
     "output_type": "stream",
     "text": [
      "['requests.api.get', 'requests.api.request', 'requests.sessions.__init__', 'requests.utils.default_headers', 'requests.utils.default_user_agent', 'requests.structures.__init__', 'collections.abc.update', 'abc.__instancecheck__', 'requests.structures.__setitem__', 'requests.hooks.default_hooks', 'requests.hooks.<dictcomp>', 'requests.cookies.cookiejar_from_dict', 'http.cookiejar.__init__', 'threading.RLock', 'http.cookiejar.__iter__', 'requests.cookies.<listcomp>', 'http.cookiejar.deepvalues', 'http.cookiejar.vals_sorted_by_key', 'requests.adapters.__init__', 'urllib3.util.retry.__init__', 'urllib3.util.retry.<listcomp>', 'requests.adapters.init_poolmanager', 'urllib3.poolmanager.__init__', 'urllib3.request.__init__', 'urllib3._collections.__init__', 'requests.sessions.mount', 'requests.sessions.<listcomp>', 'requests.sessions.__enter__', 'requests.sessions.request', 'requests.models.__init__', 'requests.sessions.prepare_request', 'requests.cookies.merge_cookies', 'requests.cookies.update', 'requests.utils.get_netrc_auth', 'collections.abc.get', 'os.__getitem__', 'os.encode', 'requests.utils.<genexpr>', 'posixpath.expanduser', 'posixpath._get_sep', 'collections.abc.__contains__', 'os.decode', 'genericpath.exists', 'urllib.parse.urlparse', 'urllib.parse._coerce_args', 'urllib.parse.urlsplit', 'urllib.parse._splitnetloc', 'urllib.parse._checknetloc', 'urllib.parse._noop', 'netrc.__init__']\n"
     ]
    }
   ],
   "source": [
    "print(function_list[:50])"
   ]
  },
  {
   "cell_type": "markdown",
   "metadata": {
    "slideshow": {
     "slide_type": "fragment"
    }
   },
   "source": [
    "Among several other functions, we also have a call to `urlparse()`:"
   ]
  },
  {
   "cell_type": "code",
   "execution_count": 31,
   "metadata": {
    "execution": {
     "iopub.execute_input": "2022-02-13T14:56:14.075582Z",
     "iopub.status.busy": "2022-02-13T14:56:14.075013Z",
     "iopub.status.idle": "2022-02-13T14:56:14.077410Z",
     "shell.execute_reply": "2022-02-13T14:56:14.077856Z"
    },
    "slideshow": {
     "slide_type": "subslide"
    }
   },
   "outputs": [
    {
     "data": {
      "text/plain": [
       "[[('allow_fragments', True),\n",
       "  ('scheme', ''),\n",
       "  ('url', 'http://www.example.com')],\n",
       " [('allow_fragments', True),\n",
       "  ('scheme', ''),\n",
       "  ('url', 'http://www.example.com/')],\n",
       " [('allow_fragments', True),\n",
       "  ('scheme', ''),\n",
       "  ('url', 'http://www.example.com/')],\n",
       " [('allow_fragments', True),\n",
       "  ('scheme', ''),\n",
       "  ('url', 'http://www.example.com/')],\n",
       " [('allow_fragments', True),\n",
       "  ('scheme', ''),\n",
       "  ('url', 'http://www.example.com/')],\n",
       " [('allow_fragments', True),\n",
       "  ('scheme', ''),\n",
       "  ('url', 'http://www.example.com/')],\n",
       " [('allow_fragments', True),\n",
       "  ('scheme', ''),\n",
       "  ('url', 'http://www.example.com/')],\n",
       " [('allow_fragments', True),\n",
       "  ('scheme', ''),\n",
       "  ('url', 'http://www.example.com/')],\n",
       " [('allow_fragments', True),\n",
       "  ('scheme', ''),\n",
       "  ('url', 'http://www.example.com/')],\n",
       " [('allow_fragments', True),\n",
       "  ('scheme', ''),\n",
       "  ('url', 'http://www.example.com/')],\n",
       " [('allow_fragments', True),\n",
       "  ('scheme', ''),\n",
       "  ('url', 'http://www.example.com/')],\n",
       " [('allow_fragments', True),\n",
       "  ('scheme', ''),\n",
       "  ('url', 'http://www.example.com/')],\n",
       " [('allow_fragments', True),\n",
       "  ('scheme', ''),\n",
       "  ('url', 'http://www.example.com/')],\n",
       " [('allow_fragments', True),\n",
       "  ('scheme', ''),\n",
       "  ('url', 'http://www.example.com/')]]"
      ]
     },
     "execution_count": 31,
     "metadata": {},
     "output_type": "execute_result"
    }
   ],
   "source": [
    "urlparse_argument_list = webbrowser_carver.arguments(\"urllib.parse.urlparse\")\n",
    "urlparse_argument_list"
   ]
  },
  {
   "cell_type": "markdown",
   "metadata": {
    "slideshow": {
     "slide_type": "subslide"
    }
   },
   "source": [
    "Again, we can convert this into a well-formatted call:"
   ]
  },
  {
   "cell_type": "code",
   "execution_count": 32,
   "metadata": {
    "execution": {
     "iopub.execute_input": "2022-02-13T14:56:14.081661Z",
     "iopub.status.busy": "2022-02-13T14:56:14.081072Z",
     "iopub.status.idle": "2022-02-13T14:56:14.083594Z",
     "shell.execute_reply": "2022-02-13T14:56:14.084224Z"
    },
    "slideshow": {
     "slide_type": "fragment"
    }
   },
   "outputs": [
    {
     "data": {
      "text/plain": [
       "\"urlparse(allow_fragments=True, scheme='', url='http://www.example.com')\""
      ]
     },
     "execution_count": 32,
     "metadata": {},
     "output_type": "execute_result"
    }
   ],
   "source": [
    "urlparse_call = simple_call_string(\"urlparse\", urlparse_argument_list[0])\n",
    "urlparse_call"
   ]
  },
  {
   "cell_type": "markdown",
   "metadata": {
    "slideshow": {
     "slide_type": "fragment"
    }
   },
   "source": [
    "Again, we can re-execute this call:"
   ]
  },
  {
   "cell_type": "code",
   "execution_count": 33,
   "metadata": {
    "execution": {
     "iopub.execute_input": "2022-02-13T14:56:14.088224Z",
     "iopub.status.busy": "2022-02-13T14:56:14.087606Z",
     "iopub.status.idle": "2022-02-13T14:56:14.090320Z",
     "shell.execute_reply": "2022-02-13T14:56:14.090795Z"
    },
    "slideshow": {
     "slide_type": "fragment"
    }
   },
   "outputs": [
    {
     "data": {
      "text/plain": [
       "ParseResult(scheme='http', netloc='www.example.com', path='', params='', query='', fragment='')"
      ]
     },
     "execution_count": 33,
     "metadata": {},
     "output_type": "execute_result"
    }
   ],
   "source": [
    "eval(urlparse_call)"
   ]
  },
  {
   "cell_type": "markdown",
   "metadata": {
    "slideshow": {
     "slide_type": "fragment"
    }
   },
   "source": [
    "We now have successfully carved the call to `urlparse()` out of the `webbrowser()` execution."
   ]
  },
  {
   "cell_type": "markdown",
   "metadata": {
    "slideshow": {
     "slide_type": "slide"
    }
   },
   "source": [
    "## Replaying Calls"
   ]
  },
  {
   "cell_type": "markdown",
   "metadata": {
    "slideshow": {
     "slide_type": "subslide"
    }
   },
   "source": [
    "Replaying calls in their entirety and in all generality is tricky, as there are several challenges to be addressed.  These include:\n",
    "\n",
    "1. We need to be able to _access_ individual functions.  If we access a function by name, the name must be in scope.  If the name is not visible (for instance, because it is a name internal to the module), we must make it visible.\n",
    "\n",
    "2. Any _resources_ accessed outside of arguments must be recorded and reconstructed for replay as well.  This can be difficult if variables refer to external resources such as files or network resources.\n",
    "\n",
    "3. _Complex objects_ must be reconstructed as well."
   ]
  },
  {
   "cell_type": "markdown",
   "metadata": {
    "slideshow": {
     "slide_type": "subslide"
    }
   },
   "source": [
    "These constraints make carving hard or even impossible if the function to be tested interacts heavily with its environment.  To illustrate these issues, consider the `email.parser.parse()` method that is invoked in `webbrowser()`:"
   ]
  },
  {
   "cell_type": "code",
   "execution_count": 34,
   "metadata": {
    "execution": {
     "iopub.execute_input": "2022-02-13T14:56:14.094690Z",
     "iopub.status.busy": "2022-02-13T14:56:14.094103Z",
     "iopub.status.idle": "2022-02-13T14:56:14.095479Z",
     "shell.execute_reply": "2022-02-13T14:56:14.096023Z"
    },
    "slideshow": {
     "slide_type": "fragment"
    }
   },
   "outputs": [],
   "source": [
    "email_parse_argument_list = webbrowser_carver.arguments(\"email.parser.parse\")"
   ]
  },
  {
   "cell_type": "markdown",
   "metadata": {
    "slideshow": {
     "slide_type": "fragment"
    }
   },
   "source": [
    "Calls to this method look like this:"
   ]
  },
  {
   "cell_type": "code",
   "execution_count": 35,
   "metadata": {
    "execution": {
     "iopub.execute_input": "2022-02-13T14:56:14.099706Z",
     "iopub.status.busy": "2022-02-13T14:56:14.099120Z",
     "iopub.status.idle": "2022-02-13T14:56:14.101563Z",
     "shell.execute_reply": "2022-02-13T14:56:14.101938Z"
    },
    "slideshow": {
     "slide_type": "fragment"
    }
   },
   "outputs": [
    {
     "data": {
      "text/plain": [
       "'email.parser.Parser.parse(headersonly=False, fp=<_io.StringIO object at 0x129041700>, self=<email.parser.Parser object at 0x129251190>)'"
      ]
     },
     "execution_count": 35,
     "metadata": {},
     "output_type": "execute_result"
    }
   ],
   "source": [
    "email_parse_call = simple_call_string(\n",
    "    \"email.parser.Parser.parse\",\n",
    "    email_parse_argument_list[0])\n",
    "email_parse_call"
   ]
  },
  {
   "cell_type": "markdown",
   "metadata": {
    "slideshow": {
     "slide_type": "fragment"
    }
   },
   "source": [
    "We see that `email.parser.Parser.parse()` is part of a `email.parser.Parser` object (`self`) and it gets a `StringIO` object (`fp`).  Both are non-primitive values.  How could we possibly reconstruct them?"
   ]
  },
  {
   "cell_type": "markdown",
   "metadata": {
    "slideshow": {
     "slide_type": "subslide"
    }
   },
   "source": [
    "### Serializing Objects\n",
    "\n",
    "The answer to the problem of complex objects lies in creating a _persistent_ representation that can be _reconstructed_ at later points in time.  This process is known as _serialization_; in Python, it is also known as _pickling_.  The `pickle` module provides means to create a serialized representation of an object.  Let us apply this on the `email.parser.Parser` object we just found:"
   ]
  },
  {
   "cell_type": "code",
   "execution_count": 36,
   "metadata": {
    "execution": {
     "iopub.execute_input": "2022-02-13T14:56:14.105148Z",
     "iopub.status.busy": "2022-02-13T14:56:14.104629Z",
     "iopub.status.idle": "2022-02-13T14:56:14.106396Z",
     "shell.execute_reply": "2022-02-13T14:56:14.106792Z"
    },
    "slideshow": {
     "slide_type": "skip"
    }
   },
   "outputs": [],
   "source": [
    "import pickle"
   ]
  },
  {
   "cell_type": "code",
   "execution_count": 37,
   "metadata": {
    "execution": {
     "iopub.execute_input": "2022-02-13T14:56:14.110572Z",
     "iopub.status.busy": "2022-02-13T14:56:14.110001Z",
     "iopub.status.idle": "2022-02-13T14:56:14.112295Z",
     "shell.execute_reply": "2022-02-13T14:56:14.112686Z"
    },
    "slideshow": {
     "slide_type": "fragment"
    }
   },
   "outputs": [
    {
     "data": {
      "text/plain": [
       "[[('headersonly', False),\n",
       "  ('fp', <_io.StringIO at 0x129041700>),\n",
       "  ('self', <email.parser.Parser at 0x129251190>)]]"
      ]
     },
     "execution_count": 37,
     "metadata": {},
     "output_type": "execute_result"
    }
   ],
   "source": [
    "email_parse_argument_list"
   ]
  },
  {
   "cell_type": "code",
   "execution_count": 38,
   "metadata": {
    "execution": {
     "iopub.execute_input": "2022-02-13T14:56:14.116295Z",
     "iopub.status.busy": "2022-02-13T14:56:14.115750Z",
     "iopub.status.idle": "2022-02-13T14:56:14.117970Z",
     "shell.execute_reply": "2022-02-13T14:56:14.118367Z"
    },
    "slideshow": {
     "slide_type": "fragment"
    }
   },
   "outputs": [
    {
     "data": {
      "text/plain": [
       "<email.parser.Parser at 0x129251190>"
      ]
     },
     "execution_count": 38,
     "metadata": {},
     "output_type": "execute_result"
    }
   ],
   "source": [
    "parser_object = email_parse_argument_list[0][2][1]\n",
    "parser_object"
   ]
  },
  {
   "cell_type": "code",
   "execution_count": 39,
   "metadata": {
    "execution": {
     "iopub.execute_input": "2022-02-13T14:56:14.122784Z",
     "iopub.status.busy": "2022-02-13T14:56:14.122207Z",
     "iopub.status.idle": "2022-02-13T14:56:14.124555Z",
     "shell.execute_reply": "2022-02-13T14:56:14.124921Z"
    },
    "slideshow": {
     "slide_type": "subslide"
    }
   },
   "outputs": [
    {
     "data": {
      "text/plain": [
       "b'\\x80\\x04\\x95w\\x00\\x00\\x00\\x00\\x00\\x00\\x00\\x8c\\x0cemail.parser\\x94\\x8c\\x06Parser\\x94\\x93\\x94)\\x81\\x94}\\x94(\\x8c\\x06_class\\x94\\x8c\\x0bhttp.client\\x94\\x8c\\x0bHTTPMessage\\x94\\x93\\x94\\x8c\\x06policy\\x94\\x8c\\x11email._policybase\\x94\\x8c\\x08Compat32\\x94\\x93\\x94)\\x81\\x94ub.'"
      ]
     },
     "execution_count": 39,
     "metadata": {},
     "output_type": "execute_result"
    }
   ],
   "source": [
    "pickled = pickle.dumps(parser_object)\n",
    "pickled"
   ]
  },
  {
   "cell_type": "markdown",
   "metadata": {
    "slideshow": {
     "slide_type": "fragment"
    }
   },
   "source": [
    "From this string representing the serialized `email.parser.Parser` object, we can recreate the Parser object at any time:"
   ]
  },
  {
   "cell_type": "code",
   "execution_count": 40,
   "metadata": {
    "execution": {
     "iopub.execute_input": "2022-02-13T14:56:14.128857Z",
     "iopub.status.busy": "2022-02-13T14:56:14.128245Z",
     "iopub.status.idle": "2022-02-13T14:56:14.130560Z",
     "shell.execute_reply": "2022-02-13T14:56:14.130933Z"
    },
    "slideshow": {
     "slide_type": "fragment"
    }
   },
   "outputs": [
    {
     "data": {
      "text/plain": [
       "<email.parser.Parser at 0x129251d30>"
      ]
     },
     "execution_count": 40,
     "metadata": {},
     "output_type": "execute_result"
    }
   ],
   "source": [
    "unpickled_parser_object = pickle.loads(pickled)\n",
    "unpickled_parser_object"
   ]
  },
  {
   "cell_type": "markdown",
   "metadata": {
    "slideshow": {
     "slide_type": "fragment"
    }
   },
   "source": [
    "The serialization mechanism allows us to produce a representation for all objects passed as parameters (assuming they can be pickled, that is).  We can now extend the `simple_call_string()` function such that it automatically pickles objects.  Additionally, we set it up such that if the first parameter is named `self` (i.e., it is a class method), we make it a method of the `self` object."
   ]
  },
  {
   "cell_type": "code",
   "execution_count": 41,
   "metadata": {
    "execution": {
     "iopub.execute_input": "2022-02-13T14:56:14.134721Z",
     "iopub.status.busy": "2022-02-13T14:56:14.134168Z",
     "iopub.status.idle": "2022-02-13T14:56:14.135804Z",
     "shell.execute_reply": "2022-02-13T14:56:14.136180Z"
    },
    "slideshow": {
     "slide_type": "subslide"
    }
   },
   "outputs": [],
   "source": [
    "def call_value(value):\n",
    "    value_as_string = repr(value)\n",
    "    if value_as_string.find('<') >= 0:\n",
    "        # Complex object\n",
    "        value_as_string = \"pickle.loads(\" + repr(pickle.dumps(value)) + \")\"\n",
    "    return value_as_string"
   ]
  },
  {
   "cell_type": "code",
   "execution_count": 42,
   "metadata": {
    "execution": {
     "iopub.execute_input": "2022-02-13T14:56:14.141272Z",
     "iopub.status.busy": "2022-02-13T14:56:14.140588Z",
     "iopub.status.idle": "2022-02-13T14:56:14.142424Z",
     "shell.execute_reply": "2022-02-13T14:56:14.142856Z"
    },
    "slideshow": {
     "slide_type": "subslide"
    }
   },
   "outputs": [],
   "source": [
    "def call_string(function_name, argument_list):\n",
    "    \"\"\"Return function_name(arg[0], arg[1], ...) as a string, pickling complex objects\"\"\"\n",
    "    if len(argument_list) > 0:\n",
    "        (first_var, first_value) = argument_list[0]\n",
    "        if first_var == \"self\":\n",
    "            # Make this a method call\n",
    "            method_name = function_name.split(\".\")[-1]\n",
    "            function_name = call_value(first_value) + \".\" + method_name\n",
    "            argument_list = argument_list[1:]\n",
    "\n",
    "    return function_name + \"(\" + \\\n",
    "        \", \".join([var + \"=\" + call_value(value)\n",
    "                   for (var, value) in argument_list]) + \")\""
   ]
  },
  {
   "cell_type": "markdown",
   "metadata": {
    "slideshow": {
     "slide_type": "fragment"
    }
   },
   "source": [
    "Let us apply the extended `call_string()` method to create a call for `email.parser.parse()`, including pickled objects:"
   ]
  },
  {
   "cell_type": "code",
   "execution_count": 43,
   "metadata": {
    "execution": {
     "iopub.execute_input": "2022-02-13T14:56:14.146603Z",
     "iopub.status.busy": "2022-02-13T14:56:14.146016Z",
     "iopub.status.idle": "2022-02-13T14:56:14.148175Z",
     "shell.execute_reply": "2022-02-13T14:56:14.148615Z"
    },
    "slideshow": {
     "slide_type": "subslide"
    }
   },
   "outputs": [
    {
     "name": "stdout",
     "output_type": "stream",
     "text": [
      "email.parser.Parser.parse(headersonly=False, fp=pickle.loads(b'\\x80\\x04\\x95\\x8e\\x01\\x00\\x00\\x00\\x00\\x00\\x00\\x8c\\x03_io\\x94\\x8c\\x08StringIO\\x94\\x93\\x94)\\x81\\x94(Xe\\x01\\x00\\x00Content-Encoding: gzip\\r\\nAccept-Ranges: bytes\\r\\nAge: 510706\\r\\nCache-Control: max-age=604800\\r\\nContent-Type: text/html; charset=UTF-8\\r\\nDate: Sun, 13 Feb 2022 14:56:14 GMT\\r\\nEtag: \"3147526947\"\\r\\nExpires: Sun, 20 Feb 2022 14:56:14 GMT\\r\\nLast-Modified: Thu, 17 Oct 2019 07:18:26 GMT\\r\\nServer: ECS (dcb/7EA3)\\r\\nVary: Accept-Encoding\\r\\nX-Cache: HIT\\r\\nContent-Length: 648\\r\\n\\r\\n\\x94\\x8c\\x01\\n\\x94Me\\x01Nt\\x94b.'), self=pickle.loads(b'\\x80\\x04\\x95w\\x00\\x00\\x00\\x00\\x00\\x00\\x00\\x8c\\x0cemail.parser\\x94\\x8c\\x06Parser\\x94\\x93\\x94)\\x81\\x94}\\x94(\\x8c\\x06_class\\x94\\x8c\\x0bhttp.client\\x94\\x8c\\x0bHTTPMessage\\x94\\x93\\x94\\x8c\\x06policy\\x94\\x8c\\x11email._policybase\\x94\\x8c\\x08Compat32\\x94\\x93\\x94)\\x81\\x94ub.'))\n"
     ]
    }
   ],
   "source": [
    "call = call_string(\"email.parser.Parser.parse\", email_parse_argument_list[0])\n",
    "print(call)"
   ]
  },
  {
   "cell_type": "markdown",
   "metadata": {
    "slideshow": {
     "slide_type": "fragment"
    }
   },
   "source": [
    "With this call involving the pickled object, we can now re-run the original call and obtain a valid result:"
   ]
  },
  {
   "cell_type": "code",
   "execution_count": 44,
   "metadata": {
    "execution": {
     "iopub.execute_input": "2022-02-13T14:56:14.151606Z",
     "iopub.status.busy": "2022-02-13T14:56:14.151088Z",
     "iopub.status.idle": "2022-02-13T14:56:14.152750Z",
     "shell.execute_reply": "2022-02-13T14:56:14.153299Z"
    },
    "slideshow": {
     "slide_type": "skip"
    }
   },
   "outputs": [],
   "source": [
    "import email"
   ]
  },
  {
   "cell_type": "code",
   "execution_count": 45,
   "metadata": {
    "execution": {
     "iopub.execute_input": "2022-02-13T14:56:14.157033Z",
     "iopub.status.busy": "2022-02-13T14:56:14.156446Z",
     "iopub.status.idle": "2022-02-13T14:56:14.158812Z",
     "shell.execute_reply": "2022-02-13T14:56:14.159265Z"
    },
    "slideshow": {
     "slide_type": "fragment"
    }
   },
   "outputs": [
    {
     "data": {
      "text/plain": [
       "<http.client.HTTPMessage at 0x1292869d0>"
      ]
     },
     "execution_count": 45,
     "metadata": {},
     "output_type": "execute_result"
    }
   ],
   "source": [
    "eval(call)"
   ]
  },
  {
   "cell_type": "markdown",
   "metadata": {
    "slideshow": {
     "slide_type": "subslide"
    }
   },
   "source": [
    "### All Calls\n",
    "\n",
    "So far, we have seen only one call of `webbrowser()`.  How many of the calls within `webbrowser()` can we actually carve and replay?  Let us try this out and compute the numbers."
   ]
  },
  {
   "cell_type": "code",
   "execution_count": 46,
   "metadata": {
    "execution": {
     "iopub.execute_input": "2022-02-13T14:56:14.162558Z",
     "iopub.status.busy": "2022-02-13T14:56:14.162038Z",
     "iopub.status.idle": "2022-02-13T14:56:14.163898Z",
     "shell.execute_reply": "2022-02-13T14:56:14.164351Z"
    },
    "slideshow": {
     "slide_type": "skip"
    }
   },
   "outputs": [],
   "source": [
    "import traceback"
   ]
  },
  {
   "cell_type": "code",
   "execution_count": 47,
   "metadata": {
    "execution": {
     "iopub.execute_input": "2022-02-13T14:56:14.167204Z",
     "iopub.status.busy": "2022-02-13T14:56:14.166693Z",
     "iopub.status.idle": "2022-02-13T14:56:14.168527Z",
     "shell.execute_reply": "2022-02-13T14:56:14.168927Z"
    },
    "slideshow": {
     "slide_type": "skip"
    }
   },
   "outputs": [],
   "source": [
    "import enum\n",
    "import socket"
   ]
  },
  {
   "cell_type": "code",
   "execution_count": 48,
   "metadata": {
    "execution": {
     "iopub.execute_input": "2022-02-13T14:56:14.172767Z",
     "iopub.status.busy": "2022-02-13T14:56:14.172100Z",
     "iopub.status.idle": "2022-02-13T14:56:14.174000Z",
     "shell.execute_reply": "2022-02-13T14:56:14.174508Z"
    },
    "slideshow": {
     "slide_type": "fragment"
    }
   },
   "outputs": [],
   "source": [
    "all_functions = set(webbrowser_carver.called_functions(qualified=True))\n",
    "call_success = set()\n",
    "run_success = set()"
   ]
  },
  {
   "cell_type": "code",
   "execution_count": 49,
   "metadata": {
    "execution": {
     "iopub.execute_input": "2022-02-13T14:56:14.279383Z",
     "iopub.status.busy": "2022-02-13T14:56:14.236096Z",
     "iopub.status.idle": "2022-02-13T14:56:15.770901Z",
     "shell.execute_reply": "2022-02-13T14:56:15.771294Z"
    },
    "slideshow": {
     "slide_type": "subslide"
    }
   },
   "outputs": [],
   "source": [
    "exceptions_seen = set()\n",
    "\n",
    "for function_name in webbrowser_carver.called_functions(qualified=True):\n",
    "    for argument_list in webbrowser_carver.arguments(function_name):\n",
    "        try:\n",
    "            call = call_string(function_name, argument_list)\n",
    "            call_success.add(function_name)\n",
    "\n",
    "            result = eval(call)\n",
    "            run_success.add(function_name)\n",
    "\n",
    "        except Exception as exc:\n",
    "            exceptions_seen.add(repr(exc))\n",
    "            # print(\"->\", call, file=sys.stderr)\n",
    "            # traceback.print_exc()\n",
    "            # print(\"\", file=sys.stderr)\n",
    "            continue"
   ]
  },
  {
   "cell_type": "code",
   "execution_count": 50,
   "metadata": {
    "execution": {
     "iopub.execute_input": "2022-02-13T14:56:15.775660Z",
     "iopub.status.busy": "2022-02-13T14:56:15.775106Z",
     "iopub.status.idle": "2022-02-13T14:56:15.777550Z",
     "shell.execute_reply": "2022-02-13T14:56:15.777921Z"
    },
    "slideshow": {
     "slide_type": "subslide"
    }
   },
   "outputs": [
    {
     "name": "stdout",
     "output_type": "stream",
     "text": [
      "264/325 calls (81.23%) successfully created and 54/325 calls (16.62%) successfully ran\n"
     ]
    }
   ],
   "source": [
    "print(\"%d/%d calls (%.2f%%) successfully created and %d/%d calls (%.2f%%) successfully ran\" % (\n",
    "    len(call_success), len(all_functions), len(\n",
    "        call_success) * 100 / len(all_functions),\n",
    "    len(run_success), len(all_functions), len(run_success) * 100 / len(all_functions)))"
   ]
  },
  {
   "cell_type": "markdown",
   "metadata": {
    "slideshow": {
     "slide_type": "fragment"
    }
   },
   "source": [
    "About a quarter of the calls succeed.  Let us take a look into some of the error messages we get:"
   ]
  },
  {
   "cell_type": "code",
   "execution_count": 51,
   "metadata": {
    "execution": {
     "iopub.execute_input": "2022-02-13T14:56:15.781609Z",
     "iopub.status.busy": "2022-02-13T14:56:15.780971Z",
     "iopub.status.idle": "2022-02-13T14:56:15.783242Z",
     "shell.execute_reply": "2022-02-13T14:56:15.783719Z"
    },
    "slideshow": {
     "slide_type": "subslide"
    }
   },
   "outputs": [
    {
     "name": "stdout",
     "output_type": "stream",
     "text": [
      "AttributeError(\"module 'email.parser' has no attribute 'parse'\")\n",
      "TypeError(\"cannot pickle 'zlib.Decompress' object\")\n",
      "SyntaxError('invalid syntax', ('<string>', 1, 59, \"netrc.authenticators(host='www.example.com', self=machine hg.st.cs.uni-saarland.de\\n\"))\n",
      "TypeError(\"cannot pickle 'traceback' object\")\n",
      "SyntaxError('invalid syntax', ('<string>', 1, 18, \"urllib3.response.<listcomp>(.0=pickle.loads(b'\\\\x80\\\\x04\\\\x95\\\\x1b\\\\x00\\\\x00\\\\x00\\\\x00\\\\x00\\\\x00\\\\x00\\\\x8c\\\\x08builtins\\\\x94\\\\x8c\\\\x04iter\\\\x94\\\\x93\\\\x94]\\\\x94\\\\x85\\\\x94R\\\\x94.'))\"))\n",
      "TypeError(\"'bytes' object is not callable\")\n",
      "SyntaxError('invalid syntax', ('<string>', 1, 20, \"urllib3.connection.<genexpr>(v='keep-alive', .0=pickle.loads(b'\\\\x80\\\\x04\\\\x95\\\\x1a\\\\x00\\\\x00\\\\x00\\\\x00\\\\x00\\\\x00\\\\x00\\\\x8c\\\\x08builtins\\\\x94\\\\x8c\\\\x04iter\\\\x94\\\\x93\\\\x94)\\\\x85\\\\x94R\\\\x94.'))\"))\n",
      "AttributeError(\"'Response' object has no attribute 'generate'\")\n",
      "PicklingError(\"Can't pickle <function set_environ at 0x12901af70>: it's not the same object as requests.utils.set_environ\")\n",
      "NameError(\"name 're' is not defined\")\n"
     ]
    }
   ],
   "source": [
    "for i in range(10):\n",
    "    print(list(exceptions_seen)[i])"
   ]
  },
  {
   "cell_type": "markdown",
   "metadata": {
    "slideshow": {
     "slide_type": "subslide"
    }
   },
   "source": [
    "We see that:\n",
    "\n",
    "* **A large majority of calls could be converted into call strings.**  If this is not the case, this is mostly due to having unserialized objects being passed.\n",
    "* **About a quarter of the calls could be executed.**  The error messages for the failing runs are varied; the most frequent being that some internal name is invoked that is not in scope."
   ]
  },
  {
   "cell_type": "markdown",
   "metadata": {
    "slideshow": {
     "slide_type": "fragment"
    }
   },
   "source": [
    "Our carving mechanism should be taken with a grain of salt: We still do not cover the situation where external variables and values (such as global variables) are being accessed, and the serialization mechanism cannot recreate external resources.  Still, if the function of interest falls among those that _can_ be carved and replayed, we can very effectively re-run its calls with their original arguments."
   ]
  },
  {
   "cell_type": "markdown",
   "metadata": {
    "slideshow": {
     "slide_type": "slide"
    }
   },
   "source": [
    "## Mining API Grammars from Carved Calls\n",
    "\n",
    "So far, we have used carved calls to replay exactly the same invocations as originally encountered.  However, we can also _mutate_ carved calls to effectively fuzz APIs with previously recorded arguments.\n",
    "\n",
    "The general idea is as follows:\n",
    "\n",
    "1. First, we record all calls of a specific function from a given execution of the program.\n",
    "2. Second, we create a grammar that incorporates all these calls, with separate rules for each argument and alternatives for each value found; this allows us to produce calls that arbitrarily _recombine_ these arguments.\n",
    "\n",
    "Let us explore these steps in the following sections."
   ]
  },
  {
   "cell_type": "markdown",
   "metadata": {
    "slideshow": {
     "slide_type": "subslide"
    }
   },
   "source": [
    "### From Calls to Grammars\n",
    "\n",
    "Let us start with an example.  The `power(x, y)` function returns $x^y$; it is but a wrapper around the equivalent `math.pow()` function.  (Since `power()` is defined in Python, we can trace it – in contrast to `math.pow()`, which is implemented in C.)"
   ]
  },
  {
   "cell_type": "code",
   "execution_count": 52,
   "metadata": {
    "execution": {
     "iopub.execute_input": "2022-02-13T14:56:15.787203Z",
     "iopub.status.busy": "2022-02-13T14:56:15.786680Z",
     "iopub.status.idle": "2022-02-13T14:56:15.788526Z",
     "shell.execute_reply": "2022-02-13T14:56:15.789089Z"
    },
    "slideshow": {
     "slide_type": "skip"
    }
   },
   "outputs": [],
   "source": [
    "import math"
   ]
  },
  {
   "cell_type": "code",
   "execution_count": 53,
   "metadata": {
    "execution": {
     "iopub.execute_input": "2022-02-13T14:56:15.792535Z",
     "iopub.status.busy": "2022-02-13T14:56:15.791882Z",
     "iopub.status.idle": "2022-02-13T14:56:15.793887Z",
     "shell.execute_reply": "2022-02-13T14:56:15.794302Z"
    },
    "slideshow": {
     "slide_type": "fragment"
    }
   },
   "outputs": [],
   "source": [
    "def power(x, y):\n",
    "    return math.pow(x, y)"
   ]
  },
  {
   "cell_type": "markdown",
   "metadata": {
    "slideshow": {
     "slide_type": "fragment"
    }
   },
   "source": [
    "Let us invoke `power()` while recording its arguments:"
   ]
  },
  {
   "cell_type": "code",
   "execution_count": 54,
   "metadata": {
    "execution": {
     "iopub.execute_input": "2022-02-13T14:56:15.804035Z",
     "iopub.status.busy": "2022-02-13T14:56:15.803450Z",
     "iopub.status.idle": "2022-02-13T14:56:15.805120Z",
     "shell.execute_reply": "2022-02-13T14:56:15.805496Z"
    },
    "slideshow": {
     "slide_type": "fragment"
    }
   },
   "outputs": [],
   "source": [
    "with CallCarver() as power_carver:\n",
    "    z = power(1, 2)\n",
    "    z = power(3, 4)"
   ]
  },
  {
   "cell_type": "code",
   "execution_count": 55,
   "metadata": {
    "execution": {
     "iopub.execute_input": "2022-02-13T14:56:15.810212Z",
     "iopub.status.busy": "2022-02-13T14:56:15.809583Z",
     "iopub.status.idle": "2022-02-13T14:56:15.811970Z",
     "shell.execute_reply": "2022-02-13T14:56:15.812461Z"
    },
    "slideshow": {
     "slide_type": "fragment"
    }
   },
   "outputs": [
    {
     "data": {
      "text/plain": [
       "[[('y', 2), ('x', 1)], [('y', 4), ('x', 3)]]"
      ]
     },
     "execution_count": 55,
     "metadata": {},
     "output_type": "execute_result"
    }
   ],
   "source": [
    "power_carver.arguments(\"power\")"
   ]
  },
  {
   "cell_type": "markdown",
   "metadata": {
    "slideshow": {
     "slide_type": "subslide"
    }
   },
   "source": [
    "From this list of recorded arguments, we could now create a grammar for the `power()` call, with `x` and `y` expanding into the values seen:"
   ]
  },
  {
   "cell_type": "code",
   "execution_count": 56,
   "metadata": {
    "execution": {
     "iopub.execute_input": "2022-02-13T14:56:15.815803Z",
     "iopub.status.busy": "2022-02-13T14:56:15.815205Z",
     "iopub.status.idle": "2022-02-13T14:56:15.817013Z",
     "shell.execute_reply": "2022-02-13T14:56:15.817558Z"
    },
    "slideshow": {
     "slide_type": "skip"
    }
   },
   "outputs": [],
   "source": [
    "from Grammars import START_SYMBOL, is_valid_grammar, new_symbol\n",
    "from Grammars import extend_grammar, Grammar"
   ]
  },
  {
   "cell_type": "code",
   "execution_count": 57,
   "metadata": {
    "execution": {
     "iopub.execute_input": "2022-02-13T14:56:15.821298Z",
     "iopub.status.busy": "2022-02-13T14:56:15.820662Z",
     "iopub.status.idle": "2022-02-13T14:56:15.822618Z",
     "shell.execute_reply": "2022-02-13T14:56:15.823029Z"
    },
    "slideshow": {
     "slide_type": "fragment"
    }
   },
   "outputs": [],
   "source": [
    "POWER_GRAMMAR: Grammar = {\n",
    "    \"<start>\": [\"power(<x>, <y>)\"],\n",
    "    \"<x>\": [\"1\", \"3\"],\n",
    "    \"<y>\": [\"2\", \"4\"]\n",
    "}\n",
    "\n",
    "assert is_valid_grammar(POWER_GRAMMAR)"
   ]
  },
  {
   "cell_type": "markdown",
   "metadata": {
    "slideshow": {
     "slide_type": "fragment"
    }
   },
   "source": [
    "When fuzzing with this grammar, we then get arbitrary combinations of `x` and `y`; aiming for coverage will ensure that all values are actually tested at least once:"
   ]
  },
  {
   "cell_type": "code",
   "execution_count": 58,
   "metadata": {
    "execution": {
     "iopub.execute_input": "2022-02-13T14:56:15.826283Z",
     "iopub.status.busy": "2022-02-13T14:56:15.825730Z",
     "iopub.status.idle": "2022-02-13T14:56:15.827504Z",
     "shell.execute_reply": "2022-02-13T14:56:15.827938Z"
    },
    "slideshow": {
     "slide_type": "skip"
    }
   },
   "outputs": [],
   "source": [
    "from GrammarCoverageFuzzer import GrammarCoverageFuzzer"
   ]
  },
  {
   "cell_type": "code",
   "execution_count": 59,
   "metadata": {
    "execution": {
     "iopub.execute_input": "2022-02-13T14:56:15.833031Z",
     "iopub.status.busy": "2022-02-13T14:56:15.832475Z",
     "iopub.status.idle": "2022-02-13T14:56:15.835832Z",
     "shell.execute_reply": "2022-02-13T14:56:15.836375Z"
    },
    "slideshow": {
     "slide_type": "subslide"
    }
   },
   "outputs": [
    {
     "data": {
      "text/plain": [
       "['power(1, 2)', 'power(3, 4)', 'power(1, 2)', 'power(3, 4)', 'power(3, 4)']"
      ]
     },
     "execution_count": 59,
     "metadata": {},
     "output_type": "execute_result"
    }
   ],
   "source": [
    "power_fuzzer = GrammarCoverageFuzzer(POWER_GRAMMAR)\n",
    "[power_fuzzer.fuzz() for i in range(5)]"
   ]
  },
  {
   "cell_type": "markdown",
   "metadata": {
    "slideshow": {
     "slide_type": "fragment"
    }
   },
   "source": [
    "What we need is a method to automatically convert the arguments as seen in `power_carver` to the grammar as seen in `POWER_GRAMMAR`.  This is what we define in the next section."
   ]
  },
  {
   "cell_type": "markdown",
   "metadata": {
    "slideshow": {
     "slide_type": "subslide"
    }
   },
   "source": [
    "### A Grammar Miner for Calls\n",
    "\n",
    "We introduce a class `CallGrammarMiner`, which, given a `Carver`, automatically produces a grammar from the calls seen.  To initialize, we pass the carver object:"
   ]
  },
  {
   "cell_type": "code",
   "execution_count": 60,
   "metadata": {
    "execution": {
     "iopub.execute_input": "2022-02-13T14:56:15.841494Z",
     "iopub.status.busy": "2022-02-13T14:56:15.840665Z",
     "iopub.status.idle": "2022-02-13T14:56:15.842795Z",
     "shell.execute_reply": "2022-02-13T14:56:15.843220Z"
    },
    "slideshow": {
     "slide_type": "fragment"
    }
   },
   "outputs": [],
   "source": [
    "class CallGrammarMiner:\n",
    "    def __init__(self, carver, log=False):\n",
    "        self.carver = carver\n",
    "        self.log = log"
   ]
  },
  {
   "cell_type": "markdown",
   "metadata": {
    "slideshow": {
     "slide_type": "subslide"
    }
   },
   "source": [
    "#### Initial Grammar\n",
    "\n",
    "The initial grammar produces a single call.  The possible `<call>` expansions are to be constructed later:"
   ]
  },
  {
   "cell_type": "code",
   "execution_count": 61,
   "metadata": {
    "execution": {
     "iopub.execute_input": "2022-02-13T14:56:15.846632Z",
     "iopub.status.busy": "2022-02-13T14:56:15.845946Z",
     "iopub.status.idle": "2022-02-13T14:56:15.847552Z",
     "shell.execute_reply": "2022-02-13T14:56:15.848112Z"
    },
    "slideshow": {
     "slide_type": "skip"
    }
   },
   "outputs": [],
   "source": [
    "import copy "
   ]
  },
  {
   "cell_type": "code",
   "execution_count": 62,
   "metadata": {
    "execution": {
     "iopub.execute_input": "2022-02-13T14:56:15.852193Z",
     "iopub.status.busy": "2022-02-13T14:56:15.851628Z",
     "iopub.status.idle": "2022-02-13T14:56:15.853299Z",
     "shell.execute_reply": "2022-02-13T14:56:15.853784Z"
    },
    "slideshow": {
     "slide_type": "fragment"
    }
   },
   "outputs": [],
   "source": [
    "class CallGrammarMiner(CallGrammarMiner):\n",
    "    CALL_SYMBOL = \"<call>\"\n",
    "\n",
    "    def initial_grammar(self):\n",
    "        return extend_grammar(\n",
    "            {START_SYMBOL: [self.CALL_SYMBOL],\n",
    "                self.CALL_SYMBOL: []\n",
    "             })"
   ]
  },
  {
   "cell_type": "code",
   "execution_count": 63,
   "metadata": {
    "execution": {
     "iopub.execute_input": "2022-02-13T14:56:15.857772Z",
     "iopub.status.busy": "2022-02-13T14:56:15.857143Z",
     "iopub.status.idle": "2022-02-13T14:56:15.859663Z",
     "shell.execute_reply": "2022-02-13T14:56:15.860177Z"
    },
    "slideshow": {
     "slide_type": "subslide"
    }
   },
   "outputs": [
    {
     "data": {
      "text/plain": [
       "{'<start>': ['<call>'], '<call>': []}"
      ]
     },
     "execution_count": 63,
     "metadata": {},
     "output_type": "execute_result"
    }
   ],
   "source": [
    "m = CallGrammarMiner(power_carver)\n",
    "initial_grammar = m.initial_grammar()\n",
    "initial_grammar"
   ]
  },
  {
   "cell_type": "markdown",
   "metadata": {
    "slideshow": {
     "slide_type": "subslide"
    }
   },
   "source": [
    "#### A Grammar from Arguments\n",
    "\n",
    "Let us start by creating a grammar from a list of arguments.  The method `mine_arguments_grammar()` creates a grammar for the arguments seen during carving, such as these:"
   ]
  },
  {
   "cell_type": "code",
   "execution_count": 64,
   "metadata": {
    "execution": {
     "iopub.execute_input": "2022-02-13T14:56:15.864667Z",
     "iopub.status.busy": "2022-02-13T14:56:15.864026Z",
     "iopub.status.idle": "2022-02-13T14:56:15.866742Z",
     "shell.execute_reply": "2022-02-13T14:56:15.867181Z"
    },
    "slideshow": {
     "slide_type": "fragment"
    }
   },
   "outputs": [
    {
     "data": {
      "text/plain": [
       "[[('y', 2), ('x', 1)], [('y', 4), ('x', 3)]]"
      ]
     },
     "execution_count": 64,
     "metadata": {},
     "output_type": "execute_result"
    }
   ],
   "source": [
    "arguments = power_carver.arguments(\"power\")\n",
    "arguments"
   ]
  },
  {
   "cell_type": "markdown",
   "metadata": {
    "slideshow": {
     "slide_type": "fragment"
    }
   },
   "source": [
    "The `mine_arguments_grammar()` method iterates through the variables seen and creates a mapping `variables` of variable names to a set of values seen (as strings, going through `call_value()`).  In a second step, it then creates a grammar with a rule for each variable name, expanding into the values seen."
   ]
  },
  {
   "cell_type": "code",
   "execution_count": 65,
   "metadata": {
    "execution": {
     "iopub.execute_input": "2022-02-13T14:56:15.874122Z",
     "iopub.status.busy": "2022-02-13T14:56:15.873478Z",
     "iopub.status.idle": "2022-02-13T14:56:15.875166Z",
     "shell.execute_reply": "2022-02-13T14:56:15.875573Z"
    },
    "slideshow": {
     "slide_type": "subslide"
    }
   },
   "outputs": [],
   "source": [
    "class CallGrammarMiner(CallGrammarMiner):\n",
    "    def var_symbol(self, function_name, var, grammar):\n",
    "        return new_symbol(grammar, \"<\" + function_name + \"-\" + var + \">\")\n",
    "\n",
    "    def mine_arguments_grammar(self, function_name, arguments, grammar):\n",
    "        var_grammar = {}\n",
    "\n",
    "        variables = {}\n",
    "        for argument_list in arguments:\n",
    "            for (var, value) in argument_list:\n",
    "                value_string = call_value(value)\n",
    "                if self.log:\n",
    "                    print(var, \"=\", value_string)\n",
    "\n",
    "                if value_string.find(\"<\") >= 0:\n",
    "                    var_grammar[\"<langle>\"] = [\"<\"]\n",
    "                    value_string = value_string.replace(\"<\", \"<langle>\")\n",
    "\n",
    "                if var not in variables:\n",
    "                    variables[var] = set()\n",
    "                variables[var].add(value_string)\n",
    "\n",
    "        var_symbols = []\n",
    "        for var in variables:\n",
    "            var_symbol = self.var_symbol(function_name, var, grammar)\n",
    "            var_symbols.append(var_symbol)\n",
    "            var_grammar[var_symbol] = list(variables[var])\n",
    "\n",
    "        return var_grammar, var_symbols"
   ]
  },
  {
   "cell_type": "code",
   "execution_count": 66,
   "metadata": {
    "execution": {
     "iopub.execute_input": "2022-02-13T14:56:15.879184Z",
     "iopub.status.busy": "2022-02-13T14:56:15.878605Z",
     "iopub.status.idle": "2022-02-13T14:56:15.880283Z",
     "shell.execute_reply": "2022-02-13T14:56:15.880672Z"
    },
    "slideshow": {
     "slide_type": "subslide"
    }
   },
   "outputs": [],
   "source": [
    "m = CallGrammarMiner(power_carver)\n",
    "var_grammar, var_symbols = m.mine_arguments_grammar(\n",
    "    \"power\", arguments, initial_grammar)"
   ]
  },
  {
   "cell_type": "code",
   "execution_count": 67,
   "metadata": {
    "execution": {
     "iopub.execute_input": "2022-02-13T14:56:15.884359Z",
     "iopub.status.busy": "2022-02-13T14:56:15.883669Z",
     "iopub.status.idle": "2022-02-13T14:56:15.886253Z",
     "shell.execute_reply": "2022-02-13T14:56:15.886673Z"
    },
    "slideshow": {
     "slide_type": "fragment"
    }
   },
   "outputs": [
    {
     "data": {
      "text/plain": [
       "{'<power-y>': ['2', '4'], '<power-x>': ['1', '3']}"
      ]
     },
     "execution_count": 67,
     "metadata": {},
     "output_type": "execute_result"
    }
   ],
   "source": [
    "var_grammar"
   ]
  },
  {
   "cell_type": "markdown",
   "metadata": {
    "slideshow": {
     "slide_type": "fragment"
    }
   },
   "source": [
    "The additional return value `var_symbols` is a list of argument symbols in the call:"
   ]
  },
  {
   "cell_type": "code",
   "execution_count": 68,
   "metadata": {
    "execution": {
     "iopub.execute_input": "2022-02-13T14:56:15.890324Z",
     "iopub.status.busy": "2022-02-13T14:56:15.889785Z",
     "iopub.status.idle": "2022-02-13T14:56:15.892095Z",
     "shell.execute_reply": "2022-02-13T14:56:15.892550Z"
    },
    "slideshow": {
     "slide_type": "fragment"
    }
   },
   "outputs": [
    {
     "data": {
      "text/plain": [
       "['<power-y>', '<power-x>']"
      ]
     },
     "execution_count": 68,
     "metadata": {},
     "output_type": "execute_result"
    }
   ],
   "source": [
    "var_symbols"
   ]
  },
  {
   "cell_type": "markdown",
   "metadata": {
    "slideshow": {
     "slide_type": "subslide"
    }
   },
   "source": [
    "#### A Grammar from Calls\n",
    "\n",
    "To get the grammar for a single function (`mine_function_grammar()`), we add a call to the function:"
   ]
  },
  {
   "cell_type": "code",
   "execution_count": 69,
   "metadata": {
    "execution": {
     "iopub.execute_input": "2022-02-13T14:56:15.898249Z",
     "iopub.status.busy": "2022-02-13T14:56:15.897721Z",
     "iopub.status.idle": "2022-02-13T14:56:15.899414Z",
     "shell.execute_reply": "2022-02-13T14:56:15.899814Z"
    },
    "slideshow": {
     "slide_type": "subslide"
    }
   },
   "outputs": [],
   "source": [
    "class CallGrammarMiner(CallGrammarMiner):\n",
    "    def function_symbol(self, function_name, grammar):\n",
    "        return new_symbol(grammar, \"<\" + function_name + \">\")\n",
    "\n",
    "    def mine_function_grammar(self, function_name, grammar):\n",
    "        arguments = self.carver.arguments(function_name)\n",
    "\n",
    "        if self.log:\n",
    "            print(function_name, arguments)\n",
    "\n",
    "        var_grammar, var_symbols = self.mine_arguments_grammar(\n",
    "            function_name, arguments, grammar)\n",
    "\n",
    "        function_grammar = var_grammar\n",
    "        function_symbol = self.function_symbol(function_name, grammar)\n",
    "\n",
    "        if len(var_symbols) > 0 and var_symbols[0].find(\"-self\") >= 0:\n",
    "            # Method call\n",
    "            function_grammar[function_symbol] = [\n",
    "                var_symbols[0] + \".\" + function_name + \"(\" + \", \".join(var_symbols[1:]) + \")\"]\n",
    "        else:\n",
    "            function_grammar[function_symbol] = [\n",
    "                function_name + \"(\" + \", \".join(var_symbols) + \")\"]\n",
    "\n",
    "        if self.log:\n",
    "            print(function_symbol, \"::=\", function_grammar[function_symbol])\n",
    "\n",
    "        return function_grammar, function_symbol"
   ]
  },
  {
   "cell_type": "code",
   "execution_count": 70,
   "metadata": {
    "execution": {
     "iopub.execute_input": "2022-02-13T14:56:15.903841Z",
     "iopub.status.busy": "2022-02-13T14:56:15.903276Z",
     "iopub.status.idle": "2022-02-13T14:56:15.905664Z",
     "shell.execute_reply": "2022-02-13T14:56:15.906092Z"
    },
    "slideshow": {
     "slide_type": "subslide"
    }
   },
   "outputs": [
    {
     "data": {
      "text/plain": [
       "{'<power-y>': ['2', '4'],\n",
       " '<power-x>': ['1', '3'],\n",
       " '<power>': ['power(<power-y>, <power-x>)']}"
      ]
     },
     "execution_count": 70,
     "metadata": {},
     "output_type": "execute_result"
    }
   ],
   "source": [
    "m = CallGrammarMiner(power_carver)\n",
    "function_grammar, function_symbol = m.mine_function_grammar(\n",
    "    \"power\", initial_grammar)\n",
    "function_grammar"
   ]
  },
  {
   "cell_type": "markdown",
   "metadata": {
    "slideshow": {
     "slide_type": "fragment"
    }
   },
   "source": [
    "The additionally returned `function_symbol` holds the name of the function call just added:"
   ]
  },
  {
   "cell_type": "code",
   "execution_count": 71,
   "metadata": {
    "execution": {
     "iopub.execute_input": "2022-02-13T14:56:15.909930Z",
     "iopub.status.busy": "2022-02-13T14:56:15.909176Z",
     "iopub.status.idle": "2022-02-13T14:56:15.911851Z",
     "shell.execute_reply": "2022-02-13T14:56:15.912251Z"
    },
    "slideshow": {
     "slide_type": "fragment"
    }
   },
   "outputs": [
    {
     "data": {
      "text/plain": [
       "'<power>'"
      ]
     },
     "execution_count": 71,
     "metadata": {},
     "output_type": "execute_result"
    }
   ],
   "source": [
    "function_symbol"
   ]
  },
  {
   "cell_type": "markdown",
   "metadata": {
    "slideshow": {
     "slide_type": "subslide"
    }
   },
   "source": [
    "#### A Grammar from all Calls\n",
    "\n",
    "Let us now repeat the above for all function calls seen during carving.  To this end, we simply iterate over all function calls seen:"
   ]
  },
  {
   "cell_type": "code",
   "execution_count": 72,
   "metadata": {
    "execution": {
     "iopub.execute_input": "2022-02-13T14:56:15.915781Z",
     "iopub.status.busy": "2022-02-13T14:56:15.915223Z",
     "iopub.status.idle": "2022-02-13T14:56:15.917523Z",
     "shell.execute_reply": "2022-02-13T14:56:15.917889Z"
    },
    "slideshow": {
     "slide_type": "fragment"
    }
   },
   "outputs": [
    {
     "data": {
      "text/plain": [
       "['power', '__exit__']"
      ]
     },
     "execution_count": 72,
     "metadata": {},
     "output_type": "execute_result"
    }
   ],
   "source": [
    "power_carver.called_functions()"
   ]
  },
  {
   "cell_type": "code",
   "execution_count": 73,
   "metadata": {
    "execution": {
     "iopub.execute_input": "2022-02-13T14:56:15.923129Z",
     "iopub.status.busy": "2022-02-13T14:56:15.922536Z",
     "iopub.status.idle": "2022-02-13T14:56:15.924197Z",
     "shell.execute_reply": "2022-02-13T14:56:15.924634Z"
    },
    "slideshow": {
     "slide_type": "subslide"
    }
   },
   "outputs": [],
   "source": [
    "class CallGrammarMiner(CallGrammarMiner):\n",
    "    def mine_call_grammar(self, function_list=None, qualified=False):\n",
    "        grammar = self.initial_grammar()\n",
    "        fn_list = function_list\n",
    "        if function_list is None:\n",
    "            fn_list = self.carver.called_functions(qualified=qualified)\n",
    "\n",
    "        for function_name in fn_list:\n",
    "            if function_list is None and (function_name.startswith(\"_\") or function_name.startswith(\"<\")):\n",
    "                continue  # Internal function\n",
    "\n",
    "            # Ignore errors with mined functions\n",
    "            try:\n",
    "                function_grammar, function_symbol = self.mine_function_grammar(\n",
    "                    function_name, grammar)\n",
    "            except:\n",
    "                if function_list is not None:\n",
    "                    raise\n",
    "\n",
    "            if function_symbol not in grammar[self.CALL_SYMBOL]:\n",
    "                grammar[self.CALL_SYMBOL].append(function_symbol)\n",
    "            grammar.update(function_grammar)\n",
    "\n",
    "        assert is_valid_grammar(grammar)\n",
    "        return grammar"
   ]
  },
  {
   "cell_type": "markdown",
   "metadata": {
    "slideshow": {
     "slide_type": "subslide"
    }
   },
   "source": [
    "The method `mine_call_grammar()` is the one that clients can and should use – first for mining..."
   ]
  },
  {
   "cell_type": "code",
   "execution_count": 74,
   "metadata": {
    "execution": {
     "iopub.execute_input": "2022-02-13T14:56:15.928714Z",
     "iopub.status.busy": "2022-02-13T14:56:15.928058Z",
     "iopub.status.idle": "2022-02-13T14:56:15.930378Z",
     "shell.execute_reply": "2022-02-13T14:56:15.930744Z"
    },
    "slideshow": {
     "slide_type": "fragment"
    }
   },
   "outputs": [
    {
     "data": {
      "text/plain": [
       "{'<start>': ['<call>'],\n",
       " '<call>': ['<power>'],\n",
       " '<power-y>': ['2', '4'],\n",
       " '<power-x>': ['1', '3'],\n",
       " '<power>': ['power(<power-y>, <power-x>)']}"
      ]
     },
     "execution_count": 74,
     "metadata": {},
     "output_type": "execute_result"
    }
   ],
   "source": [
    "m = CallGrammarMiner(power_carver)\n",
    "power_grammar = m.mine_call_grammar()\n",
    "power_grammar"
   ]
  },
  {
   "cell_type": "markdown",
   "metadata": {
    "slideshow": {
     "slide_type": "fragment"
    }
   },
   "source": [
    "...and then for fuzzing:"
   ]
  },
  {
   "cell_type": "code",
   "execution_count": 75,
   "metadata": {
    "execution": {
     "iopub.execute_input": "2022-02-13T14:56:15.936015Z",
     "iopub.status.busy": "2022-02-13T14:56:15.935416Z",
     "iopub.status.idle": "2022-02-13T14:56:15.937842Z",
     "shell.execute_reply": "2022-02-13T14:56:15.938214Z"
    },
    "slideshow": {
     "slide_type": "fragment"
    }
   },
   "outputs": [
    {
     "data": {
      "text/plain": [
       "['power(4, 1)', 'power(2, 3)', 'power(4, 1)', 'power(4, 1)', 'power(2, 1)']"
      ]
     },
     "execution_count": 75,
     "metadata": {},
     "output_type": "execute_result"
    }
   ],
   "source": [
    "power_fuzzer = GrammarCoverageFuzzer(power_grammar)\n",
    "[power_fuzzer.fuzz() for i in range(5)]"
   ]
  },
  {
   "cell_type": "markdown",
   "metadata": {
    "slideshow": {
     "slide_type": "subslide"
    }
   },
   "source": [
    "With this, we have successfully extracted a grammar from a recorded execution; in contrast to \"simple\" carving, our grammar allows us to _recombine_ arguments and thus to fuzz at the API level."
   ]
  },
  {
   "cell_type": "markdown",
   "metadata": {
    "slideshow": {
     "slide_type": "slide"
    }
   },
   "source": [
    "## Fuzzing Web Functions\n",
    "\n",
    "Let us now apply our grammar miner on a larger API – the `urlparse()` function we already encountered during carving."
   ]
  },
  {
   "cell_type": "code",
   "execution_count": 76,
   "metadata": {
    "execution": {
     "iopub.execute_input": "2022-02-13T14:56:15.945258Z",
     "iopub.status.busy": "2022-02-13T14:56:15.944615Z",
     "iopub.status.idle": "2022-02-13T14:56:16.763442Z",
     "shell.execute_reply": "2022-02-13T14:56:16.763843Z"
    },
    "slideshow": {
     "slide_type": "fragment"
    }
   },
   "outputs": [],
   "source": [
    "with CallCarver() as webbrowser_carver:\n",
    "    webbrowser(\"https://www.fuzzingbook.org\")\n",
    "    webbrowser(\"http://www.example.com\")"
   ]
  },
  {
   "cell_type": "markdown",
   "metadata": {
    "slideshow": {
     "slide_type": "fragment"
    }
   },
   "source": [
    "We can mine a grammar from the calls encountered:"
   ]
  },
  {
   "cell_type": "code",
   "execution_count": 77,
   "metadata": {
    "execution": {
     "iopub.execute_input": "2022-02-13T14:56:16.835046Z",
     "iopub.status.busy": "2022-02-13T14:56:16.825800Z",
     "iopub.status.idle": "2022-02-13T14:56:16.836937Z",
     "shell.execute_reply": "2022-02-13T14:56:16.837375Z"
    },
    "slideshow": {
     "slide_type": "fragment"
    }
   },
   "outputs": [],
   "source": [
    "m = CallGrammarMiner(webbrowser_carver)\n",
    "webbrowser_grammar = m.mine_call_grammar()"
   ]
  },
  {
   "cell_type": "markdown",
   "metadata": {
    "slideshow": {
     "slide_type": "fragment"
    }
   },
   "source": [
    "This is a rather large grammar:"
   ]
  },
  {
   "cell_type": "code",
   "execution_count": 78,
   "metadata": {
    "execution": {
     "iopub.execute_input": "2022-02-13T14:56:16.842363Z",
     "iopub.status.busy": "2022-02-13T14:56:16.841596Z",
     "iopub.status.idle": "2022-02-13T14:56:16.844618Z",
     "shell.execute_reply": "2022-02-13T14:56:16.845041Z"
    },
    "slideshow": {
     "slide_type": "fragment"
    }
   },
   "outputs": [
    {
     "data": {
      "text/plain": [
       "141"
      ]
     },
     "execution_count": 78,
     "metadata": {},
     "output_type": "execute_result"
    }
   ],
   "source": [
    "call_list = webbrowser_grammar['<call>']\n",
    "len(call_list)"
   ]
  },
  {
   "cell_type": "code",
   "execution_count": 79,
   "metadata": {
    "execution": {
     "iopub.execute_input": "2022-02-13T14:56:16.848704Z",
     "iopub.status.busy": "2022-02-13T14:56:16.848095Z",
     "iopub.status.idle": "2022-02-13T14:56:16.850351Z",
     "shell.execute_reply": "2022-02-13T14:56:16.850723Z"
    },
    "slideshow": {
     "slide_type": "subslide"
    }
   },
   "outputs": [
    {
     "name": "stdout",
     "output_type": "stream",
     "text": [
      "['<webbrowser>', '<default_headers>', '<default_user_agent>', '<update>', '<default_hooks>', '<cookiejar_from_dict>', '<RLock>', '<deepvalues>', '<vals_sorted_by_key>', '<init_poolmanager>', '<mount>', '<prepare_request>', '<merge_cookies>', '<get_netrc_auth>', '<encode>', '<expanduser>', '<decode>', '<exists>', '<urlparse>', '<urlsplit>']\n"
     ]
    }
   ],
   "source": [
    "print(call_list[:20])"
   ]
  },
  {
   "cell_type": "markdown",
   "metadata": {
    "slideshow": {
     "slide_type": "fragment"
    }
   },
   "source": [
    "Here's the rule for the `urlsplit()` function:"
   ]
  },
  {
   "cell_type": "code",
   "execution_count": 80,
   "metadata": {
    "execution": {
     "iopub.execute_input": "2022-02-13T14:56:16.854638Z",
     "iopub.status.busy": "2022-02-13T14:56:16.854001Z",
     "iopub.status.idle": "2022-02-13T14:56:16.856384Z",
     "shell.execute_reply": "2022-02-13T14:56:16.856856Z"
    },
    "slideshow": {
     "slide_type": "fragment"
    }
   },
   "outputs": [
    {
     "data": {
      "text/plain": [
       "['urlsplit(<urlsplit-allow_fragments>, <urlsplit-scheme>, <urlsplit-url>)']"
      ]
     },
     "execution_count": 80,
     "metadata": {},
     "output_type": "execute_result"
    }
   ],
   "source": [
    "webbrowser_grammar[\"<urlsplit>\"]"
   ]
  },
  {
   "cell_type": "markdown",
   "metadata": {
    "slideshow": {
     "slide_type": "fragment"
    }
   },
   "source": [
    "Here are the arguments.  Note that although we only passed `http://www.fuzzingbook.org` as a parameter, we also see the `https:` variant.  That is because opening the `http:` URL automatically redirects to the `https:` URL, which is then also processed by `urlsplit()`."
   ]
  },
  {
   "cell_type": "code",
   "execution_count": 81,
   "metadata": {
    "execution": {
     "iopub.execute_input": "2022-02-13T14:56:16.860508Z",
     "iopub.status.busy": "2022-02-13T14:56:16.859901Z",
     "iopub.status.idle": "2022-02-13T14:56:16.862209Z",
     "shell.execute_reply": "2022-02-13T14:56:16.862638Z"
    },
    "slideshow": {
     "slide_type": "fragment"
    }
   },
   "outputs": [
    {
     "data": {
      "text/plain": [
       "[\"'http://www.example.com'\",\n",
       " \"'https://www.fuzzingbook.org/'\",\n",
       " \"'https://www.fuzzingbook.org'\",\n",
       " \"'http://www.example.com/'\"]"
      ]
     },
     "execution_count": 81,
     "metadata": {},
     "output_type": "execute_result"
    }
   ],
   "source": [
    "webbrowser_grammar[\"<urlsplit-url>\"]"
   ]
  },
  {
   "cell_type": "markdown",
   "metadata": {
    "slideshow": {
     "slide_type": "subslide"
    }
   },
   "source": [
    "There also is some variation in the `scheme` argument:"
   ]
  },
  {
   "cell_type": "code",
   "execution_count": 82,
   "metadata": {
    "execution": {
     "iopub.execute_input": "2022-02-13T14:56:16.866129Z",
     "iopub.status.busy": "2022-02-13T14:56:16.865549Z",
     "iopub.status.idle": "2022-02-13T14:56:16.867929Z",
     "shell.execute_reply": "2022-02-13T14:56:16.868326Z"
    },
    "slideshow": {
     "slide_type": "fragment"
    }
   },
   "outputs": [
    {
     "data": {
      "text/plain": [
       "[\"''\"]"
      ]
     },
     "execution_count": 82,
     "metadata": {},
     "output_type": "execute_result"
    }
   ],
   "source": [
    "webbrowser_grammar[\"<urlsplit-scheme>\"]"
   ]
  },
  {
   "cell_type": "markdown",
   "metadata": {
    "slideshow": {
     "slide_type": "fragment"
    }
   },
   "source": [
    "If we now apply a fuzzer on these rules, we systematically cover all variations of arguments seen, including, of course, combinations not seen during carving.  Again, we are fuzzing at the API level here."
   ]
  },
  {
   "cell_type": "code",
   "execution_count": 83,
   "metadata": {
    "execution": {
     "iopub.execute_input": "2022-02-13T14:56:16.900439Z",
     "iopub.status.busy": "2022-02-13T14:56:16.899541Z",
     "iopub.status.idle": "2022-02-13T14:56:16.903581Z",
     "shell.execute_reply": "2022-02-13T14:56:16.904046Z"
    },
    "slideshow": {
     "slide_type": "subslide"
    }
   },
   "outputs": [
    {
     "name": "stdout",
     "output_type": "stream",
     "text": [
      "urlsplit(True, '', 'https://www.fuzzingbook.org/')\n",
      "urlsplit(True, '', 'https://www.fuzzingbook.org')\n",
      "urlsplit(True, '', 'http://www.example.com')\n",
      "urlsplit(True, '', 'http://www.example.com/')\n",
      "urlsplit(True, '', 'http://www.example.com')\n"
     ]
    }
   ],
   "source": [
    "urlsplit_fuzzer = GrammarCoverageFuzzer(\n",
    "    webbrowser_grammar, start_symbol=\"<urlsplit>\")\n",
    "for i in range(5):\n",
    "    print(urlsplit_fuzzer.fuzz())"
   ]
  },
  {
   "cell_type": "markdown",
   "metadata": {
    "slideshow": {
     "slide_type": "fragment"
    }
   },
   "source": [
    "Just as seen with carving, running tests at the API level is orders of magnitude faster than executing system tests.  Hence, this calls for means to fuzz at the method level:"
   ]
  },
  {
   "cell_type": "code",
   "execution_count": 84,
   "metadata": {
    "execution": {
     "iopub.execute_input": "2022-02-13T14:56:16.908614Z",
     "iopub.status.busy": "2022-02-13T14:56:16.907936Z",
     "iopub.status.idle": "2022-02-13T14:56:16.909694Z",
     "shell.execute_reply": "2022-02-13T14:56:16.910293Z"
    },
    "slideshow": {
     "slide_type": "skip"
    }
   },
   "outputs": [],
   "source": [
    "from urllib.parse import urlsplit"
   ]
  },
  {
   "cell_type": "code",
   "execution_count": 85,
   "metadata": {
    "execution": {
     "iopub.execute_input": "2022-02-13T14:56:16.913587Z",
     "iopub.status.busy": "2022-02-13T14:56:16.912952Z",
     "iopub.status.idle": "2022-02-13T14:56:16.914600Z",
     "shell.execute_reply": "2022-02-13T14:56:16.915184Z"
    },
    "slideshow": {
     "slide_type": "skip"
    }
   },
   "outputs": [],
   "source": [
    "from Timer import Timer"
   ]
  },
  {
   "cell_type": "code",
   "execution_count": 86,
   "metadata": {
    "execution": {
     "iopub.execute_input": "2022-02-13T14:56:16.919083Z",
     "iopub.status.busy": "2022-02-13T14:56:16.918550Z",
     "iopub.status.idle": "2022-02-13T14:56:16.920783Z",
     "shell.execute_reply": "2022-02-13T14:56:16.921222Z"
    },
    "slideshow": {
     "slide_type": "subslide"
    }
   },
   "outputs": [
    {
     "data": {
      "text/plain": [
       "1.866000000028123e-05"
      ]
     },
     "execution_count": 86,
     "metadata": {},
     "output_type": "execute_result"
    }
   ],
   "source": [
    "with Timer() as urlsplit_timer:\n",
    "    urlsplit('http://www.fuzzingbook.org/', 'http', True)\n",
    "urlsplit_timer.elapsed_time()"
   ]
  },
  {
   "cell_type": "code",
   "execution_count": 87,
   "metadata": {
    "execution": {
     "iopub.execute_input": "2022-02-13T14:56:16.924439Z",
     "iopub.status.busy": "2022-02-13T14:56:16.923862Z",
     "iopub.status.idle": "2022-02-13T14:56:17.249002Z",
     "shell.execute_reply": "2022-02-13T14:56:17.249384Z"
    },
    "slideshow": {
     "slide_type": "fragment"
    }
   },
   "outputs": [
    {
     "data": {
      "text/plain": [
       "0.32199456699999907"
      ]
     },
     "execution_count": 87,
     "metadata": {},
     "output_type": "execute_result"
    }
   ],
   "source": [
    "with Timer() as webbrowser_timer:\n",
    "    webbrowser(\"http://www.fuzzingbook.org\")\n",
    "webbrowser_timer.elapsed_time()"
   ]
  },
  {
   "cell_type": "code",
   "execution_count": 88,
   "metadata": {
    "execution": {
     "iopub.execute_input": "2022-02-13T14:56:17.253208Z",
     "iopub.status.busy": "2022-02-13T14:56:17.252620Z",
     "iopub.status.idle": "2022-02-13T14:56:17.255072Z",
     "shell.execute_reply": "2022-02-13T14:56:17.255492Z"
    },
    "slideshow": {
     "slide_type": "fragment"
    }
   },
   "outputs": [
    {
     "data": {
      "text/plain": [
       "17255.871757510515"
      ]
     },
     "execution_count": 88,
     "metadata": {},
     "output_type": "execute_result"
    }
   ],
   "source": [
    "webbrowser_timer.elapsed_time() / urlsplit_timer.elapsed_time()"
   ]
  },
  {
   "cell_type": "markdown",
   "metadata": {
    "slideshow": {
     "slide_type": "subslide"
    }
   },
   "source": [
    "But then again, the caveats encountered during carving apply, notably the requirement to recreate the original function environment.  If we also alter or recombine arguments, we get the additional risk of _violating an implicit precondition_ – that is, invoking a function with arguments the function was never designed for.  Such _false alarms_, resulting from incorrect invocations rather than incorrect implementations, must then be identified (typically manually) and wed out (for instance, by altering or constraining the grammar).  The huge speed gains at the API level, however, may well justify this additional investment."
   ]
  },
  {
   "cell_type": "markdown",
   "metadata": {
    "slideshow": {
     "slide_type": "slide"
    }
   },
   "source": [
    "## Synopsis\n",
    "\n",
    "This chapter provides means to _record and replay function calls_ during a system test.  Since individual function calls are much faster than a whole system run, such \"carving\" mechanisms have the potential to run tests much faster."
   ]
  },
  {
   "cell_type": "markdown",
   "metadata": {
    "slideshow": {
     "slide_type": "subslide"
    }
   },
   "source": [
    "### Recording Calls\n",
    "\n",
    "The `CallCarver` class records all calls occurring while it is active.  It is used in conjunction with a `with` clause:"
   ]
  },
  {
   "cell_type": "code",
   "execution_count": 89,
   "metadata": {
    "execution": {
     "iopub.execute_input": "2022-02-13T14:56:17.258969Z",
     "iopub.status.busy": "2022-02-13T14:56:17.258383Z",
     "iopub.status.idle": "2022-02-13T14:56:17.262915Z",
     "shell.execute_reply": "2022-02-13T14:56:17.263333Z"
    },
    "slideshow": {
     "slide_type": "fragment"
    }
   },
   "outputs": [],
   "source": [
    "with CallCarver() as carver:\n",
    "    y = my_sqrt(2)\n",
    "    y = my_sqrt(4)"
   ]
  },
  {
   "cell_type": "markdown",
   "metadata": {
    "slideshow": {
     "slide_type": "fragment"
    }
   },
   "source": [
    "After execution, `called_functions()` lists the names of functions encountered:"
   ]
  },
  {
   "cell_type": "code",
   "execution_count": 90,
   "metadata": {
    "execution": {
     "iopub.execute_input": "2022-02-13T14:56:17.266961Z",
     "iopub.status.busy": "2022-02-13T14:56:17.266397Z",
     "iopub.status.idle": "2022-02-13T14:56:17.268938Z",
     "shell.execute_reply": "2022-02-13T14:56:17.269338Z"
    },
    "slideshow": {
     "slide_type": "fragment"
    }
   },
   "outputs": [
    {
     "data": {
      "text/plain": [
       "['my_sqrt', '__exit__']"
      ]
     },
     "execution_count": 90,
     "metadata": {},
     "output_type": "execute_result"
    }
   ],
   "source": [
    "carver.called_functions()"
   ]
  },
  {
   "cell_type": "markdown",
   "metadata": {
    "slideshow": {
     "slide_type": "fragment"
    }
   },
   "source": [
    "The `arguments()` method lists the arguments recorded for a function.  This is a mapping of the function name to a list of lists of arguments; each argument is a pair (parameter name, value)."
   ]
  },
  {
   "cell_type": "code",
   "execution_count": 91,
   "metadata": {
    "execution": {
     "iopub.execute_input": "2022-02-13T14:56:17.273724Z",
     "iopub.status.busy": "2022-02-13T14:56:17.273000Z",
     "iopub.status.idle": "2022-02-13T14:56:17.275815Z",
     "shell.execute_reply": "2022-02-13T14:56:17.276193Z"
    },
    "slideshow": {
     "slide_type": "subslide"
    }
   },
   "outputs": [
    {
     "data": {
      "text/plain": [
       "[[('x', 2)], [('x', 4)]]"
      ]
     },
     "execution_count": 91,
     "metadata": {},
     "output_type": "execute_result"
    }
   ],
   "source": [
    "carver.arguments('my_sqrt')"
   ]
  },
  {
   "cell_type": "markdown",
   "metadata": {
    "slideshow": {
     "slide_type": "fragment"
    }
   },
   "source": [
    "Complex arguments are properly serialized, such that they can be easily restored."
   ]
  },
  {
   "cell_type": "markdown",
   "metadata": {
    "slideshow": {
     "slide_type": "subslide"
    }
   },
   "source": [
    "### Synthesizing Calls\n",
    "\n",
    "While such recorded arguments already could be turned into arguments and calls, a much nicer alternative is to create a _grammar_ for recorded calls.  This allows to synthesize arbitrary _combinations_ of arguments, and also offers a base for further customization of calls."
   ]
  },
  {
   "cell_type": "markdown",
   "metadata": {
    "slideshow": {
     "slide_type": "fragment"
    }
   },
   "source": [
    "The `CallGrammarMiner` class turns a list of carved executions into a grammar."
   ]
  },
  {
   "cell_type": "code",
   "execution_count": 92,
   "metadata": {
    "execution": {
     "iopub.execute_input": "2022-02-13T14:56:17.280535Z",
     "iopub.status.busy": "2022-02-13T14:56:17.279952Z",
     "iopub.status.idle": "2022-02-13T14:56:17.282234Z",
     "shell.execute_reply": "2022-02-13T14:56:17.282690Z"
    },
    "slideshow": {
     "slide_type": "subslide"
    }
   },
   "outputs": [
    {
     "data": {
      "text/plain": [
       "{'<start>': ['<call>'],\n",
       " '<call>': ['<my_sqrt>'],\n",
       " '<my_sqrt-x>': ['2', '4'],\n",
       " '<my_sqrt>': ['my_sqrt(<my_sqrt-x>)']}"
      ]
     },
     "execution_count": 92,
     "metadata": {},
     "output_type": "execute_result"
    }
   ],
   "source": [
    "my_sqrt_miner = CallGrammarMiner(carver)\n",
    "my_sqrt_grammar = my_sqrt_miner.mine_call_grammar()\n",
    "my_sqrt_grammar"
   ]
  },
  {
   "cell_type": "markdown",
   "metadata": {
    "slideshow": {
     "slide_type": "fragment"
    }
   },
   "source": [
    "This grammar can be used to synthesize calls."
   ]
  },
  {
   "cell_type": "code",
   "execution_count": 93,
   "metadata": {
    "execution": {
     "iopub.execute_input": "2022-02-13T14:56:17.286569Z",
     "iopub.status.busy": "2022-02-13T14:56:17.286017Z",
     "iopub.status.idle": "2022-02-13T14:56:17.288336Z",
     "shell.execute_reply": "2022-02-13T14:56:17.288726Z"
    },
    "slideshow": {
     "slide_type": "fragment"
    }
   },
   "outputs": [
    {
     "data": {
      "text/plain": [
       "'my_sqrt(4)'"
      ]
     },
     "execution_count": 93,
     "metadata": {},
     "output_type": "execute_result"
    }
   ],
   "source": [
    "fuzzer = GrammarCoverageFuzzer(my_sqrt_grammar)\n",
    "fuzzer.fuzz()"
   ]
  },
  {
   "cell_type": "markdown",
   "metadata": {
    "slideshow": {
     "slide_type": "fragment"
    }
   },
   "source": [
    "These calls can be executed in isolation, effectively extracting unit tests from system tests:"
   ]
  },
  {
   "cell_type": "code",
   "execution_count": 94,
   "metadata": {
    "execution": {
     "iopub.execute_input": "2022-02-13T14:56:17.292628Z",
     "iopub.status.busy": "2022-02-13T14:56:17.292079Z",
     "iopub.status.idle": "2022-02-13T14:56:17.294278Z",
     "shell.execute_reply": "2022-02-13T14:56:17.294760Z"
    },
    "slideshow": {
     "slide_type": "fragment"
    }
   },
   "outputs": [
    {
     "data": {
      "text/plain": [
       "1.414213562373095"
      ]
     },
     "execution_count": 94,
     "metadata": {},
     "output_type": "execute_result"
    }
   ],
   "source": [
    "eval(fuzzer.fuzz())"
   ]
  },
  {
   "cell_type": "markdown",
   "metadata": {
    "button": false,
    "new_sheet": true,
    "run_control": {
     "read_only": false
    },
    "slideshow": {
     "slide_type": "slide"
    }
   },
   "source": [
    "## Lessons Learned\n",
    "\n",
    "* _Carving_ allows for effective replay of function calls recorded during a system test.\n",
    "* A function call can be _orders of magnitude faster_ than a system invocation.\n",
    "* _Serialization_ allows to create persistent representations of complex objects.\n",
    "* Functions that heavily interact with their environment and/or access external resources are difficult to carve.\n",
    "* From carved calls, one can produce API grammars that arbitrarily combine carved arguments."
   ]
  },
  {
   "cell_type": "markdown",
   "metadata": {
    "button": false,
    "new_sheet": false,
    "run_control": {
     "read_only": false
    },
    "slideshow": {
     "slide_type": "slide"
    }
   },
   "source": [
    "## Next Steps\n",
    "\n",
    "In the next chapter, we will discuss [how to reduce failure-inducing inputs](Reducer.ipynb)."
   ]
  },
  {
   "cell_type": "markdown",
   "metadata": {
    "slideshow": {
     "slide_type": "slide"
    }
   },
   "source": [
    "## Background\n",
    "\n",
    "Carving was invented by Elbaum et al. \\cite{Elbaum2006} and originally implemented for Java.  In this chapter, we follow several of their design choices (including recording and serializing method arguments only).\n",
    "\n",
    "The combination of carving and fuzzing at the API level is described in \\cite{Kampmann2018}."
   ]
  },
  {
   "cell_type": "markdown",
   "metadata": {
    "button": false,
    "new_sheet": true,
    "run_control": {
     "read_only": false
    },
    "slideshow": {
     "slide_type": "slide"
    }
   },
   "source": [
    "## Exercises\n",
    "\n",
    "### Exercise 1: Carving for Regression Testing\n",
    "\n",
    "So far, during carving, we only have looked into reproducing _calls_, but not into actually checking the _results_ of these calls.  This is important for _regression testing_ – i.e. checking whether a change to code does not impede existing functionality.  We can build this by recording not only _calls_, but also _return values_ – and then later compare whether the same calls result in the same values.  This may not work on all occasions; values that depend on time, randomness, or other external factors may be different.  Still, for functionality that abstracts from these details, checking that nothing has changed is an important part of testing."
   ]
  },
  {
   "cell_type": "markdown",
   "metadata": {
    "button": false,
    "new_sheet": false,
    "run_control": {
     "read_only": false
    },
    "slideshow": {
     "slide_type": "subslide"
    },
    "solution": "hidden",
    "solution2": "hidden",
    "solution2_first": true,
    "solution_first": true
   },
   "source": [
    "Our aim is to design a class `ResultCarver` that extends `CallCarver` by recording both calls and return values.\n",
    "\n",
    "In a first step, create a `traceit()` method that also tracks return values by extending the `traceit()` method.  The `traceit()` event type is `\"return\"` and the `arg` parameter is the returned value.  Here is a prototype that only prints out the returned values:"
   ]
  },
  {
   "cell_type": "code",
   "execution_count": 95,
   "metadata": {
    "execution": {
     "iopub.execute_input": "2022-02-13T14:56:17.299411Z",
     "iopub.status.busy": "2022-02-13T14:56:17.298870Z",
     "iopub.status.idle": "2022-02-13T14:56:17.300622Z",
     "shell.execute_reply": "2022-02-13T14:56:17.301079Z"
    },
    "slideshow": {
     "slide_type": "subslide"
    }
   },
   "outputs": [],
   "source": [
    "class ResultCarver(CallCarver):\n",
    "    def traceit(self, frame, event, arg):\n",
    "        if event == \"return\":\n",
    "            if self._log:\n",
    "                print(\"Result:\", arg)\n",
    "\n",
    "        super().traceit(frame, event, arg)\n",
    "        # Need to return traceit function such that it is invoked for return\n",
    "        # events\n",
    "        return self.traceit"
   ]
  },
  {
   "cell_type": "code",
   "execution_count": 96,
   "metadata": {
    "execution": {
     "iopub.execute_input": "2022-02-13T14:56:17.306324Z",
     "iopub.status.busy": "2022-02-13T14:56:17.303853Z",
     "iopub.status.idle": "2022-02-13T14:56:17.308475Z",
     "shell.execute_reply": "2022-02-13T14:56:17.308860Z"
    },
    "slideshow": {
     "slide_type": "subslide"
    }
   },
   "outputs": [
    {
     "name": "stdout",
     "output_type": "stream",
     "text": [
      "my_sqrt(x=2)\n",
      "Result: 1.414213562373095\n",
      "__exit__(tb=None, exc_value=None, exc_type=None, self=<__main__.ResultCarver object at 0x1296741c0>)\n"
     ]
    }
   ],
   "source": [
    "with ResultCarver(log=True) as result_carver:\n",
    "    my_sqrt(2)"
   ]
  },
  {
   "cell_type": "markdown",
   "metadata": {
    "slideshow": {
     "slide_type": "subslide"
    },
    "solution2": "hidden",
    "solution2_first": true
   },
   "source": [
    "#### Part 1: Store function results\n",
    "\n",
    "Extend the above code such that results are _stored_ in a way that associates them with the currently returning function (or method).  To this end, you need to keep track of the _current stack of called functions_."
   ]
  },
  {
   "cell_type": "markdown",
   "metadata": {
    "button": false,
    "new_sheet": false,
    "run_control": {
     "read_only": false
    },
    "slideshow": {
     "slide_type": "skip"
    },
    "solution": "hidden",
    "solution2": "hidden"
   },
   "source": [
    "**Solution.** Here's a solution, building on the above:"
   ]
  },
  {
   "cell_type": "code",
   "execution_count": 97,
   "metadata": {
    "execution": {
     "iopub.execute_input": "2022-02-13T14:56:17.315391Z",
     "iopub.status.busy": "2022-02-13T14:56:17.314849Z",
     "iopub.status.idle": "2022-02-13T14:56:17.316770Z",
     "shell.execute_reply": "2022-02-13T14:56:17.317180Z"
    },
    "slideshow": {
     "slide_type": "skip"
    },
    "solution2": "hidden"
   },
   "outputs": [],
   "source": [
    "class ResultCarver(CallCarver):\n",
    "    def reset(self):\n",
    "        super().reset()\n",
    "        self._call_stack = []\n",
    "        self._results = {}\n",
    "\n",
    "    def add_result(self, function_name, arguments, result):\n",
    "        key = simple_call_string(function_name, arguments)\n",
    "        self._results[key] = result\n",
    "\n",
    "    def traceit(self, frame, event, arg):\n",
    "        if event == \"call\":\n",
    "            code = frame.f_code\n",
    "            function_name = code.co_name\n",
    "            qualified_name = get_qualified_name(code)\n",
    "            self._call_stack.append(\n",
    "                (function_name, qualified_name, get_arguments(frame)))\n",
    "\n",
    "        if event == \"return\":\n",
    "            result = arg\n",
    "            (function_name, qualified_name, arguments) = self._call_stack.pop()\n",
    "            self.add_result(function_name, arguments, result)\n",
    "            if function_name != qualified_name:\n",
    "                self.add_result(qualified_name, arguments, result)\n",
    "            if self._log:\n",
    "                print(\n",
    "                    simple_call_string(\n",
    "                        function_name,\n",
    "                        arguments),\n",
    "                    \"=\",\n",
    "                    result)\n",
    "\n",
    "        # Keep on processing current calls\n",
    "        super().traceit(frame, event, arg)\n",
    "\n",
    "        # Need to return traceit function such that it is invoked for return\n",
    "        # events\n",
    "        return self.traceit"
   ]
  },
  {
   "cell_type": "code",
   "execution_count": 98,
   "metadata": {
    "execution": {
     "iopub.execute_input": "2022-02-13T14:56:17.320340Z",
     "iopub.status.busy": "2022-02-13T14:56:17.319817Z",
     "iopub.status.idle": "2022-02-13T14:56:17.327351Z",
     "shell.execute_reply": "2022-02-13T14:56:17.327747Z"
    },
    "slideshow": {
     "slide_type": "skip"
    },
    "solution2": "hidden"
   },
   "outputs": [
    {
     "name": "stdout",
     "output_type": "stream",
     "text": [
      "my_sqrt(x=2)\n",
      "my_sqrt(x=2) = 1.414213562373095\n",
      "__exit__(tb=None, exc_value=None, exc_type=None, self=<__main__.ResultCarver object at 0x129642310>)\n"
     ]
    },
    {
     "data": {
      "text/plain": [
       "{'my_sqrt(x=2)': 1.414213562373095,\n",
       " 'Intro_Testing.my_sqrt(x=2)': 1.414213562373095}"
      ]
     },
     "execution_count": 98,
     "metadata": {},
     "output_type": "execute_result"
    }
   ],
   "source": [
    "with ResultCarver(log=True) as result_carver:\n",
    "    my_sqrt(2)\n",
    "result_carver._results"
   ]
  },
  {
   "cell_type": "markdown",
   "metadata": {
    "button": false,
    "new_sheet": false,
    "run_control": {
     "read_only": false
    },
    "slideshow": {
     "slide_type": "subslide"
    },
    "solution": "hidden",
    "solution2": "hidden",
    "solution2_first": true,
    "solution_first": true
   },
   "source": [
    "#### Part 2: Access results\n",
    "\n",
    "  Give it a method `result()` that returns the value recorded for that particular function name and result:\n",
    "\n",
    "```python\n",
    "class ResultCarver(CallCarver):\n",
    "    def result(self, function_name, argument):\n",
    "        \"\"\"Returns the result recorded for function_name(argument\"\"\"\n",
    "```"
   ]
  },
  {
   "cell_type": "markdown",
   "metadata": {
    "slideshow": {
     "slide_type": "skip"
    },
    "solution2": "hidden"
   },
   "source": [
    "**Solution.** This is mostly done in the code for part 1:"
   ]
  },
  {
   "cell_type": "code",
   "execution_count": 99,
   "metadata": {
    "execution": {
     "iopub.execute_input": "2022-02-13T14:56:17.331551Z",
     "iopub.status.busy": "2022-02-13T14:56:17.331029Z",
     "iopub.status.idle": "2022-02-13T14:56:17.332817Z",
     "shell.execute_reply": "2022-02-13T14:56:17.333246Z"
    },
    "slideshow": {
     "slide_type": "skip"
    },
    "solution2": "hidden"
   },
   "outputs": [],
   "source": [
    "class ResultCarver(ResultCarver):\n",
    "    def result(self, function_name, argument):\n",
    "        key = simple_call_string(function_name, arguments)\n",
    "        return self._results[key]"
   ]
  },
  {
   "cell_type": "markdown",
   "metadata": {
    "slideshow": {
     "slide_type": "subslide"
    },
    "solution2": "hidden",
    "solution2_first": true
   },
   "source": [
    "#### Part 3: Produce assertions\n",
    "\n",
    "For the functions called during `webbrowser()` execution, create a set of _assertions_ that check whether the result returned is still the same.  Test this for `urllib.parse.urlparse()` and `urllib.parse.urlsplit()`."
   ]
  },
  {
   "cell_type": "markdown",
   "metadata": {
    "button": false,
    "new_sheet": false,
    "run_control": {
     "read_only": false
    },
    "slideshow": {
     "slide_type": "skip"
    },
    "solution": "hidden",
    "solution2": "hidden"
   },
   "source": [
    "**Solution.** Not too hard now:"
   ]
  },
  {
   "cell_type": "code",
   "execution_count": 100,
   "metadata": {
    "execution": {
     "iopub.execute_input": "2022-02-13T14:56:17.341193Z",
     "iopub.status.busy": "2022-02-13T14:56:17.340402Z",
     "iopub.status.idle": "2022-02-13T14:56:18.651969Z",
     "shell.execute_reply": "2022-02-13T14:56:18.651418Z"
    },
    "slideshow": {
     "slide_type": "skip"
    },
    "solution2": "hidden"
   },
   "outputs": [],
   "source": [
    "with ResultCarver() as webbrowser_result_carver:\n",
    "    webbrowser(\"http://www.example.com\")"
   ]
  },
  {
   "cell_type": "code",
   "execution_count": 101,
   "metadata": {
    "execution": {
     "iopub.execute_input": "2022-02-13T14:56:18.657917Z",
     "iopub.status.busy": "2022-02-13T14:56:18.657363Z",
     "iopub.status.idle": "2022-02-13T14:56:18.659700Z",
     "shell.execute_reply": "2022-02-13T14:56:18.660203Z"
    },
    "slideshow": {
     "slide_type": "skip"
    },
    "solution2": "hidden"
   },
   "outputs": [
    {
     "name": "stdout",
     "output_type": "stream",
     "text": [
      "assert urllib.parse.urlparse(allow_fragments=True, scheme='', url='http://www.example.com') == ParseResult(scheme='http', netloc='www.example.com', path='', params='', query='', fragment='')\n",
      "assert urllib.parse.urlparse(allow_fragments=True, scheme='', url='http://www.example.com/') == ParseResult(scheme='http', netloc='www.example.com', path='/', params='', query='', fragment='')\n",
      "assert urllib.parse.urlparse(allow_fragments=True, scheme='', url='http://www.example.com/') == ParseResult(scheme='http', netloc='www.example.com', path='/', params='', query='', fragment='')\n",
      "assert urllib.parse.urlparse(allow_fragments=True, scheme='', url='http://www.example.com/') == ParseResult(scheme='http', netloc='www.example.com', path='/', params='', query='', fragment='')\n",
      "assert urllib.parse.urlparse(allow_fragments=True, scheme='', url='http://www.example.com/') == ParseResult(scheme='http', netloc='www.example.com', path='/', params='', query='', fragment='')\n",
      "assert urllib.parse.urlparse(allow_fragments=True, scheme='', url='http://www.example.com/') == ParseResult(scheme='http', netloc='www.example.com', path='/', params='', query='', fragment='')\n",
      "assert urllib.parse.urlparse(allow_fragments=True, scheme='', url='http://www.example.com/') == ParseResult(scheme='http', netloc='www.example.com', path='/', params='', query='', fragment='')\n",
      "assert urllib.parse.urlparse(allow_fragments=True, scheme='', url='http://www.example.com/') == ParseResult(scheme='http', netloc='www.example.com', path='/', params='', query='', fragment='')\n",
      "assert urllib.parse.urlparse(allow_fragments=True, scheme='', url='http://www.example.com/') == ParseResult(scheme='http', netloc='www.example.com', path='/', params='', query='', fragment='')\n",
      "assert urllib.parse.urlparse(allow_fragments=True, scheme='', url='http://www.example.com/') == ParseResult(scheme='http', netloc='www.example.com', path='/', params='', query='', fragment='')\n",
      "assert urllib.parse.urlparse(allow_fragments=True, scheme='', url='http://www.example.com/') == ParseResult(scheme='http', netloc='www.example.com', path='/', params='', query='', fragment='')\n",
      "assert urllib.parse.urlparse(allow_fragments=True, scheme='', url='http://www.example.com/') == ParseResult(scheme='http', netloc='www.example.com', path='/', params='', query='', fragment='')\n",
      "assert urllib.parse.urlparse(allow_fragments=True, scheme='', url='http://www.example.com/') == ParseResult(scheme='http', netloc='www.example.com', path='/', params='', query='', fragment='')\n",
      "assert urllib.parse.urlparse(allow_fragments=True, scheme='', url='http://www.example.com/') == ParseResult(scheme='http', netloc='www.example.com', path='/', params='', query='', fragment='')\n",
      "assert urllib.parse.urlsplit(allow_fragments=True, scheme='', url='http://www.example.com') == SplitResult(scheme='http', netloc='www.example.com', path='', query='', fragment='')\n",
      "assert urllib.parse.urlsplit(allow_fragments=True, scheme='', url='http://www.example.com/') == SplitResult(scheme='http', netloc='www.example.com', path='/', query='', fragment='')\n",
      "assert urllib.parse.urlsplit(allow_fragments=True, scheme='', url='http://www.example.com/') == SplitResult(scheme='http', netloc='www.example.com', path='/', query='', fragment='')\n",
      "assert urllib.parse.urlsplit(allow_fragments=True, scheme='', url='http://www.example.com/') == SplitResult(scheme='http', netloc='www.example.com', path='/', query='', fragment='')\n",
      "assert urllib.parse.urlsplit(allow_fragments=True, scheme='', url='http://www.example.com/') == SplitResult(scheme='http', netloc='www.example.com', path='/', query='', fragment='')\n",
      "assert urllib.parse.urlsplit(allow_fragments=True, scheme='', url='http://www.example.com/') == SplitResult(scheme='http', netloc='www.example.com', path='/', query='', fragment='')\n",
      "assert urllib.parse.urlsplit(allow_fragments=True, scheme='', url='http://www.example.com/') == SplitResult(scheme='http', netloc='www.example.com', path='/', query='', fragment='')\n",
      "assert urllib.parse.urlsplit(allow_fragments=True, scheme='', url='http://www.example.com/') == SplitResult(scheme='http', netloc='www.example.com', path='/', query='', fragment='')\n",
      "assert urllib.parse.urlsplit(allow_fragments=True, scheme='', url='http://www.example.com/') == SplitResult(scheme='http', netloc='www.example.com', path='/', query='', fragment='')\n",
      "assert urllib.parse.urlsplit(allow_fragments=True, scheme='', url='http://www.example.com/') == SplitResult(scheme='http', netloc='www.example.com', path='/', query='', fragment='')\n",
      "assert urllib.parse.urlsplit(allow_fragments=True, scheme='', url='http://www.example.com/') == SplitResult(scheme='http', netloc='www.example.com', path='/', query='', fragment='')\n",
      "assert urllib.parse.urlsplit(allow_fragments=True, scheme='', url='http://www.example.com/') == SplitResult(scheme='http', netloc='www.example.com', path='/', query='', fragment='')\n",
      "assert urllib.parse.urlsplit(allow_fragments=True, scheme='', url='http://www.example.com/') == SplitResult(scheme='http', netloc='www.example.com', path='/', query='', fragment='')\n",
      "assert urllib.parse.urlsplit(allow_fragments=True, scheme='', url='http://www.example.com/') == SplitResult(scheme='http', netloc='www.example.com', path='/', query='', fragment='')\n",
      "assert urllib.parse.urlsplit(allow_fragments=True, scheme='', url='http://www.example.com/') == SplitResult(scheme='http', netloc='www.example.com', path='/', query='', fragment='')\n"
     ]
    }
   ],
   "source": [
    "for function_name in [\"urllib.parse.urlparse\", \"urllib.parse.urlsplit\"]:\n",
    "    for arguments in webbrowser_result_carver.arguments(function_name):\n",
    "        try:\n",
    "            call = call_string(function_name, arguments)\n",
    "            result = webbrowser_result_carver.result(function_name, arguments)\n",
    "            print(\"assert\", call, \"==\", call_value(result))\n",
    "        except Exception:\n",
    "            continue"
   ]
  },
  {
   "cell_type": "markdown",
   "metadata": {
    "slideshow": {
     "slide_type": "skip"
    },
    "solution2": "hidden"
   },
   "source": [
    "We can run these assertions:"
   ]
  },
  {
   "cell_type": "code",
   "execution_count": 102,
   "metadata": {
    "execution": {
     "iopub.execute_input": "2022-02-13T14:56:18.663755Z",
     "iopub.status.busy": "2022-02-13T14:56:18.663136Z",
     "iopub.status.idle": "2022-02-13T14:56:18.665225Z",
     "shell.execute_reply": "2022-02-13T14:56:18.665636Z"
    },
    "slideshow": {
     "slide_type": "skip"
    },
    "solution2": "hidden"
   },
   "outputs": [],
   "source": [
    "from urllib.parse import SplitResult, ParseResult, urlparse, urlsplit"
   ]
  },
  {
   "cell_type": "code",
   "execution_count": 103,
   "metadata": {
    "execution": {
     "iopub.execute_input": "2022-02-13T14:56:18.670728Z",
     "iopub.status.busy": "2022-02-13T14:56:18.670012Z",
     "iopub.status.idle": "2022-02-13T14:56:18.671812Z",
     "shell.execute_reply": "2022-02-13T14:56:18.672214Z"
    },
    "slideshow": {
     "slide_type": "skip"
    },
    "solution2": "hidden"
   },
   "outputs": [],
   "source": [
    "assert urlparse(\n",
    "    url='http://www.example.com',\n",
    "    scheme='',\n",
    "    allow_fragments=True) == ParseResult(\n",
    "        scheme='http',\n",
    "        netloc='www.example.com',\n",
    "        path='',\n",
    "        params='',\n",
    "        query='',\n",
    "    fragment='')\n",
    "assert urlsplit(\n",
    "    url='http://www.example.com',\n",
    "    scheme='',\n",
    "    allow_fragments=True) == SplitResult(\n",
    "        scheme='http',\n",
    "        netloc='www.example.com',\n",
    "        path='',\n",
    "        query='',\n",
    "    fragment='')"
   ]
  },
  {
   "cell_type": "markdown",
   "metadata": {
    "slideshow": {
     "slide_type": "skip"
    },
    "solution2": "hidden"
   },
   "source": [
    "We can now add these carved tests to a _regression test suite_ which would be run after every change to ensure that the functionality of `urlparse()` and `urlsplit()` is not changed."
   ]
  },
  {
   "cell_type": "markdown",
   "metadata": {
    "button": false,
    "new_sheet": false,
    "run_control": {
     "read_only": false
    },
    "slideshow": {
     "slide_type": "subslide"
    },
    "solution2": "hidden",
    "solution2_first": true
   },
   "source": [
    "### Exercise 2: Abstracting Arguments\n",
    "\n",
    "When mining an API grammar from executions, set up an abstraction scheme to widen the range of arguments to be used during testing.  If the values for an argument, all conform to some type `T`. abstract it into `<T>`.  For instance, if calls to `foo(1)`, `foo(2)`, `foo(3)` have been seen, the grammar should abstract its calls into `foo(<int>)`, with `<int>` being appropriately defined.\n",
    "\n",
    "Do this for a number of common types: integers, positive numbers, floating-point numbers, host names, URLs, mail addresses, and more."
   ]
  },
  {
   "cell_type": "markdown",
   "metadata": {
    "slideshow": {
     "slide_type": "skip"
    },
    "solution2": "hidden"
   },
   "source": [
    "**Solution.** Left to the reader."
   ]
  }
 ],
 "metadata": {
  "ipub": {
   "bibliography": "fuzzingbook.bib",
   "toc": true
  },
  "kernelspec": {
   "display_name": "Python 3 (ipykernel)",
   "language": "python",
   "name": "python3"
  },
  "language_info": {
   "codemirror_mode": {
    "name": "ipython",
    "version": 3
   },
   "file_extension": ".py",
   "mimetype": "text/x-python",
   "name": "python",
   "nbconvert_exporter": "python",
   "pygments_lexer": "ipython3",
   "version": "3.9.7"
  },
  "toc": {
   "base_numbering": 1,
   "nav_menu": {},
   "number_sections": true,
   "sideBar": true,
   "skip_h1_title": true,
   "title_cell": "",
   "title_sidebar": "Contents",
   "toc_cell": false,
   "toc_position": {},
   "toc_section_display": true,
   "toc_window_display": true
  },
  "toc-autonumbering": false
 },
 "nbformat": 4,
 "nbformat_minor": 4
}