{
 "cells": [
  {
   "cell_type": "markdown",
   "metadata": {
    "button": false,
    "new_sheet": false,
    "run_control": {
     "read_only": false
    },
    "slideshow": {
     "slide_type": "slide"
    }
   },
   "source": [
    "# Oh no!  We are not ready yet!\n",
    "\n",
    "We're sorry - this page does not exist (yet).  "
   ]
  },
  {
   "cell_type": "markdown",
   "metadata": {
    "button": false,
    "new_sheet": false,
    "run_control": {
     "read_only": false
    },
    "slideshow": {
     "slide_type": "slide"
    }
   },
   "source": [
    "## Finding Content\n",
    "\n",
    "Most likely, you have been looking for material that is not yet written or not yet published.  Go to the [home page](__SITE_HTML__) or choose from this list of chapters:\n",
    "\n",
    "<ol start=\"0\">\n",
    "               <__STRUCTURED_ALL_CHAPTERS_MENU__>\n",
    "</ol>"
   ]
  },
  {
   "cell_type": "markdown",
   "metadata": {
    "button": false,
    "new_sheet": false,
    "run_control": {
     "read_only": false
    },
    "slideshow": {
     "slide_type": "fragment"
    }
   },
   "source": [
    "If you think this is an error, please [report an issue](__GITHUB_HTML__/issues/)."
   ]
  },
  {
   "cell_type": "markdown",
   "metadata": {
    "button": false,
    "new_sheet": false,
    "run_control": {
     "read_only": false
    },
    "slideshow": {
     "slide_type": "slide"
    }
   },
   "source": [
    "## Getting Informed About New Content\n",
    "\n",
    "New chapters are coming out every week.  To get notified when a new chapter (or this one) comes out, <a href=\"https://twitter.com/FuzzingBook?ref_src=twsrc%5Etfw\" data-show-count=\"false\">follow us on Twitter</a>.\n",
    "\n",
    "<a class=\"twitter-timeline\" data-width=\"500\" data-chrome=\"noheader nofooter noborders transparent\" data-link-color=\"#A93226\" data-align=\"center\" href=\"https://twitter.com/FuzzingBook?ref_src=twsrc%5Etfw\">News from @FuzzingBook</a> <script async src=\"https://platform.twitter.com/widgets.js\" charset=\"utf-8\"></script>"
   ]
  },
  {
   "cell_type": "markdown",
   "metadata": {
    "slideshow": {
     "slide_type": "slide"
    }
   },
   "source": [
    "## Error Details"
   ]
  },
  {
   "cell_type": "code",
   "execution_count": 1,
   "metadata": {
    "execution": {
     "iopub.execute_input": "2022-01-11T09:42:19.974799Z",
     "iopub.status.busy": "2022-01-11T09:42:19.973466Z",
     "iopub.status.idle": "2022-01-11T09:42:20.110631Z",
     "shell.execute_reply": "2022-01-11T09:42:20.111151Z"
    },
    "slideshow": {
     "slide_type": "skip"
    }
   },
   "outputs": [],
   "source": [
    "import bookutils"
   ]
  },
  {
   "cell_type": "code",
   "execution_count": 2,
   "metadata": {
    "execution": {
     "iopub.execute_input": "2022-01-11T09:42:20.115643Z",
     "iopub.status.busy": "2022-01-11T09:42:20.115082Z",
     "iopub.status.idle": "2022-01-11T09:42:20.116768Z",
     "shell.execute_reply": "2022-01-11T09:42:20.117277Z"
    },
    "slideshow": {
     "slide_type": "fragment"
    }
   },
   "outputs": [],
   "source": [
    "class NotFoundError(Exception):\n",
    "    def __init__(self, value=\"404\"):\n",
    "        self.value = value\n",
    "\n",
    "    def __str__(self):\n",
    "        return repr(self.value)"
   ]
  },
  {
   "cell_type": "code",
   "execution_count": 3,
   "metadata": {
    "execution": {
     "iopub.execute_input": "2022-01-11T09:42:20.121634Z",
     "iopub.status.busy": "2022-01-11T09:42:20.120344Z",
     "iopub.status.idle": "2022-01-11T09:42:20.281768Z",
     "shell.execute_reply": "2022-01-11T09:42:20.282382Z"
    },
    "slideshow": {
     "slide_type": "skip"
    }
   },
   "outputs": [
    {
     "name": "stderr",
     "output_type": "stream",
     "text": [
      "Traceback (most recent call last):\n",
      "  File \"/var/folders/n2/xd9445p97rb3xh7m1dfx8_4h0006ts/T/ipykernel_20162/1830731544.py\", line 4, in <module>\n",
      "    raise NotFoundError\n",
      "NotFoundError: '404' (expected)\n"
     ]
    }
   ],
   "source": [
    "from ExpectError import ExpectError\n",
    "\n",
    "with ExpectError():\n",
    "    raise NotFoundError"
   ]
  }
 ],
 "metadata": {
  "ipub": {
   "bibliography": "fuzzingbook.bib",
   "toc": true
  },
  "kernelspec": {
   "display_name": "Python 3",
   "language": "python",
   "name": "python3"
  },
  "language_info": {
   "codemirror_mode": {
    "name": "ipython",
    "version": 3
   },
   "file_extension": ".py",
   "mimetype": "text/x-python",
   "name": "python",
   "nbconvert_exporter": "python",
   "pygments_lexer": "ipython3",
   "version": "3.9.7"
  },
  "toc": {
   "base_numbering": 1,
   "nav_menu": {},
   "number_sections": true,
   "sideBar": true,
   "skip_h1_title": true,
   "title_cell": "",
   "title_sidebar": "Contents",
   "toc_cell": false,
   "toc_position": {},
   "toc_section_display": true,
   "toc_window_display": true
  },
  "toc-autonumbering": false
 },
 "nbformat": 4,
 "nbformat_minor": 2
}
