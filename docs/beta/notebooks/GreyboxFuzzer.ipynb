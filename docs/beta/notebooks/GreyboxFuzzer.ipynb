{
 "cells": [
  {
   "cell_type": "markdown",
   "metadata": {
    "button": false,
    "new_sheet": false,
    "run_control": {
     "read_only": false
    },
    "slideshow": {
     "slide_type": "slide"
    }
   },
   "source": [
    "# Greybox Fuzzing\n",
    "\n",
    "In the [previous chapter](MutationFuzzer.ipynb), we have introduced _mutation-based fuzzing_, a technique that generates fuzz inputs by applying small mutations to given inputs. In this chapter, we show how to _guide_ these mutations towards specific goals such as coverage. The algorithms in this chapter stem from the popular [American Fuzzy Lop](http://lcamtuf.coredump.cx/afl/) (AFL) fuzzer, in particular from its [AFLFast](https://github.com/mboehme/aflfast) and [AFLGo](https://github.com/aflgo/aflgo) flavors. We will explore the greybox fuzzing algorithm behind AFL and how we can exploit it to solve various problems for automated vulnerability detection. "
   ]
  },
  {
   "cell_type": "code",
   "execution_count": 1,
   "metadata": {
    "execution": {
     "iopub.execute_input": "2022-08-06T22:47:45.927771Z",
     "iopub.status.busy": "2022-08-06T22:47:45.927320Z",
     "iopub.status.idle": "2022-08-06T22:47:45.986679Z",
     "shell.execute_reply": "2022-08-06T22:47:45.986938Z"
    },
    "slideshow": {
     "slide_type": "skip"
    }
   },
   "outputs": [
    {
     "data": {
      "text/html": [
       "\n",
       "        <iframe\n",
       "            width=\"640\"\n",
       "            height=\"360\"\n",
       "            src=\"https://www.youtube-nocookie.com/embed/vBrNT9q2t1Y\"\n",
       "            frameborder=\"0\"\n",
       "            allowfullscreen\n",
       "        ></iframe>\n",
       "        "
      ],
      "text/plain": [
       "<IPython.lib.display.IFrame at 0x114237e50>"
      ]
     },
     "execution_count": 1,
     "metadata": {},
     "output_type": "execute_result"
    }
   ],
   "source": [
    "from bookutils import YouTubeVideo\n",
    "YouTubeVideo('vBrNT9q2t1Y')"
   ]
  },
  {
   "cell_type": "markdown",
   "metadata": {
    "button": false,
    "new_sheet": false,
    "run_control": {
     "read_only": false
    },
    "slideshow": {
     "slide_type": "subslide"
    }
   },
   "source": [
    "**Prerequisites**\n",
    "\n",
    "* Reading the introduction on [mutation-based fuzzing](MutationFuzzer.ipynb) is recommended."
   ]
  },
  {
   "cell_type": "markdown",
   "metadata": {
    "slideshow": {
     "slide_type": "skip"
    }
   },
   "source": [
    "## Synopsis\n",
    "<!-- Automatically generated. Do not edit. -->\n",
    "\n",
    "To [use the code provided in this chapter](Importing.ipynb), write\n",
    "\n",
    "```python\n",
    ">>> from fuzzingbook.GreyboxFuzzer import <identifier>\n",
    "```\n",
    "\n",
    "and then make use of the following features.\n",
    "\n",
    "\n",
    "This chapter introduces advanced methods for grey-box fuzzing inspired by the popular AFL fuzzer. The `GreyboxFuzzer` class has three arguments. First, a list of seed inputs:\n",
    "\n",
    "```python\n",
    ">>> seed_input = \"http://www.google.com/search?q=fuzzing\"\n",
    ">>> seeds = [seed_input]\n",
    "```\n",
    "Second, a _mutator_ that changes individual parts of the input.\n",
    "\n",
    "```python\n",
    ">>> mutator = Mutator()\n",
    "```\n",
    "Third, a _power schedule_ that assigns fuzzing effort across the population:\n",
    "\n",
    "```python\n",
    ">>> schedule = PowerSchedule()\n",
    "```\n",
    "These three go into the `GreyboxFuzzer` constructor:\n",
    "\n",
    "```python\n",
    ">>> greybox_fuzzer = GreyboxFuzzer(seeds=seeds, mutator=mutator, schedule=schedule)\n",
    "```\n",
    "The `GreyboxFuzzer` class is used in conjunction with a `FunctionCoverageRunner`:\n",
    "\n",
    "```python\n",
    ">>> http_runner = FunctionCoverageRunner(http_program)\n",
    ">>> outcomes = greybox_fuzzer.runs(http_runner, trials=10000)\n",
    "```\n",
    "After fuzzing, we can inspect the population:\n",
    "\n",
    "```python\n",
    ">>> greybox_fuzzer.population[:20]\n",
    "[http://www.google.com/search?q=fuzzing,\n",
    " ttp:/;/swww!&bgokDgle.com/seasch?q=Qftkg,\n",
    " htp://wvw.google.com/search?q=fuzzing,\n",
    " ttp:/B;swww!&bgokDgle.com/seasc(?qQftkg,\n",
    " to/;swww!i&bgoBkDNl_/com/seasc(qQfgF,\n",
    " ttp</;aosw!&b,okDgl:c.com/sEcsc`>q=Qfkg,\n",
    " Ap|/]$:aoA5!$b,oiDg8~c.msErch>uoQkg,\n",
    " Ap|/9]?:a1oC!$BiDg8~'k}msch>uoQjg,\n",
    " Lto/;swwkWw!6bgoBDJl_/cm/s\\a?g,qQfgF,\n",
    " Ap|/]$:aoA5#$b~,oiDg8~c.msErch>uoQkg,\n",
    " -to/s7ww!i&bgokdKcom/seaxssc8qQ}pgF,\n",
    " ttpO/;aos%&b,kDg'l:c.aom/sEcsc`>q=Qfkg,\n",
    " U~tp</;AoqwW&nF,o`k7[#HDgl:c&Co\u0005/T[E#sc`>rq_.=Qfkg,\n",
    " p|/9]?:a1oC!$BiDg98~'k}ms#h>uoQg,\n",
    " ttp:/;)/sww!&bg~kDglEcomseasch=q=Qftkg,\n",
    " Ap|]$aoA5#&B~,omDg8~.msV0Dbkh>quoQcDfg,\n",
    " ttp/;)/sJww!bg~kDglEIcomseasch=q=Qftkg,\n",
    " Tr\u001a/~;/-w8w!9&bgZIekTglDcKee;Qcc(=q=Qfwk,\n",
    " -xto/ys6wwO!i&bgokdm{Kk+omojseaxs!cQ}1gF,\n",
    " T/|;9X9@\n",
    " 8&bOg}RIeQkTbTD:cKee;Qac(qq=Qfsk]\n",
    "```\n",
    "Besides the simple `PowerSchedule`, we can have advanced power schedules.\n",
    "\n",
    "* `AFLFastSchedule` assigns high energy to \"unusual\" paths not taken very often.\n",
    "* `AFLGoSchedule` assigns high energy to paths close to uncovered program locations. \n",
    "\n",
    "The `AFLGoSchedule` class constructor requires a `distance` metric from each node towards target locations, as determined via analysis of the program code. See the chapter for details.\n",
    "\n",
    "![](PICS/GreyboxFuzzer-synopsis-1.svg)\n",
    "\n"
   ]
  },
  {
   "cell_type": "markdown",
   "metadata": {
    "button": false,
    "new_sheet": true,
    "run_control": {
     "read_only": false
    },
    "slideshow": {
     "slide_type": "slide"
    }
   },
   "source": [
    "## AFL: An Effective Greybox Fuzzer\n",
    "\n",
    "The algorithms in this chapter stem from the popular [American Fuzzy Lop](http://lcamtuf.coredump.cx/afl/) (AFL) fuzzer."
   ]
  },
  {
   "cell_type": "markdown",
   "metadata": {
    "button": false,
    "new_sheet": true,
    "run_control": {
     "read_only": false
    },
    "slideshow": {
     "slide_type": "slide"
    }
   },
   "source": [
    "AFL is a *mutation-based fuzzer*. Meaning, AFL generates new inputs by slightly modifying a seed input (i.e., mutation), or by joining the first half of one input with the second half of another (i.e., splicing)."
   ]
  },
  {
   "cell_type": "markdown",
   "metadata": {
    "button": false,
    "new_sheet": true,
    "run_control": {
     "read_only": false
    },
    "slideshow": {
     "slide_type": "slide"
    }
   },
   "source": [
    "AFL is also a *greybox fuzzer* (not blackbox nor whitebox). Meaning, AFL leverages coverage-feedback to learn how to reach deeper into the program. It is not entirely blackbox because AFL leverages at least *some* program analysis. It is not entirely whitebox either because AFL does not build on heavyweight program analysis or constraint solving. Instead, AFL uses lightweight program instrumentation to glean some information about the (branch) coverage of a generated input.\n",
    "If a generated input increases coverage, it is added to the seed corpus for further fuzzing."
   ]
  },
  {
   "cell_type": "markdown",
   "metadata": {
    "button": false,
    "new_sheet": true,
    "run_control": {
     "read_only": false
    },
    "slideshow": {
     "slide_type": "slide"
    }
   },
   "source": [
    "To instrument a program, AFL injects a piece of code right after every conditional jump instruction. When executed, this so-called trampoline assigns the exercised branch a unique identifier and increments a counter that is associated with this branch. For efficiency, only a coarse branch hit count is maintained. In other words, for each input the fuzzer knows which branches and roughly how often they are exercised. \n",
    "The instrumentation is usually done at compile-time, i.e., when the program source code is compiled to an executable binary. However, it is possible to run AFL on uninstrumented binaries using tools such as a virtual machine (e.g., [QEMU](https://github.com/mirrorer/afl/blob/master/qemu_mode)) or a dynamic instrumentation tool (e.g., [Intel PinTool](https://github.com/vanhauser-thc/afl-pin)). For Python programs, we can collect coverage information without any instrumentation (see chapter on [collecting coverage](Coverage.ipynb#Coverage-of-Basic-Fuzzing))."
   ]
  },
  {
   "cell_type": "markdown",
   "metadata": {
    "button": false,
    "new_sheet": true,
    "run_control": {
     "read_only": false
    },
    "slideshow": {
     "slide_type": "slide"
    }
   },
   "source": [
    "## Ingredients for Greybox Fuzzing\n",
    "\n",
    "We start with discussing the most important parts we need for mutational testing and goal guidance."
   ]
  },
  {
   "cell_type": "markdown",
   "metadata": {
    "button": false,
    "new_sheet": true,
    "run_control": {
     "read_only": false
    },
    "slideshow": {
     "slide_type": "slide"
    }
   },
   "source": [
    "### Mutators\n",
    "\n",
    "We introduce specific classes for mutating a seed."
   ]
  },
  {
   "cell_type": "code",
   "execution_count": 2,
   "metadata": {
    "execution": {
     "iopub.execute_input": "2022-08-06T22:47:45.990454Z",
     "iopub.status.busy": "2022-08-06T22:47:45.990105Z",
     "iopub.status.idle": "2022-08-06T22:47:45.991453Z",
     "shell.execute_reply": "2022-08-06T22:47:45.991701Z"
    },
    "slideshow": {
     "slide_type": "skip"
    }
   },
   "outputs": [],
   "source": [
    "import bookutils"
   ]
  },
  {
   "cell_type": "code",
   "execution_count": 3,
   "metadata": {
    "execution": {
     "iopub.execute_input": "2022-08-06T22:47:45.993667Z",
     "iopub.status.busy": "2022-08-06T22:47:45.993330Z",
     "iopub.status.idle": "2022-08-06T22:47:45.994458Z",
     "shell.execute_reply": "2022-08-06T22:47:45.994676Z"
    },
    "slideshow": {
     "slide_type": "skip"
    }
   },
   "outputs": [],
   "source": [
    "from typing import List, Set, Any, Tuple, Dict, Union\n",
    "from collections.abc import Sequence"
   ]
  },
  {
   "cell_type": "code",
   "execution_count": 4,
   "metadata": {
    "execution": {
     "iopub.execute_input": "2022-08-06T22:47:45.997562Z",
     "iopub.status.busy": "2022-08-06T22:47:45.997190Z",
     "iopub.status.idle": "2022-08-06T22:47:45.998372Z",
     "shell.execute_reply": "2022-08-06T22:47:45.998757Z"
    },
    "slideshow": {
     "slide_type": "skip"
    }
   },
   "outputs": [],
   "source": [
    "import random"
   ]
  },
  {
   "cell_type": "code",
   "execution_count": 5,
   "metadata": {
    "execution": {
     "iopub.execute_input": "2022-08-06T22:47:46.000938Z",
     "iopub.status.busy": "2022-08-06T22:47:46.000626Z",
     "iopub.status.idle": "2022-08-06T22:47:46.608711Z",
     "shell.execute_reply": "2022-08-06T22:47:46.608977Z"
    },
    "slideshow": {
     "slide_type": "skip"
    }
   },
   "outputs": [],
   "source": [
    "from Coverage import population_coverage"
   ]
  },
  {
   "cell_type": "markdown",
   "metadata": {
    "slideshow": {
     "slide_type": "fragment"
    }
   },
   "source": [
    "First, we'll introduce the `Mutator` class. Given a seed input `inp`, the mutator returns a slightly modified version of `inp`.  In the [chapter on greybox grammar fuzzing](GreyboxGrammarFuzzer.ipynb), we extend this class to consider the input grammar for smart greybox fuzzing."
   ]
  },
  {
   "cell_type": "code",
   "execution_count": 6,
   "metadata": {
    "execution": {
     "iopub.execute_input": "2022-08-06T22:47:46.611858Z",
     "iopub.status.busy": "2022-08-06T22:47:46.611514Z",
     "iopub.status.idle": "2022-08-06T22:47:46.612621Z",
     "shell.execute_reply": "2022-08-06T22:47:46.612853Z"
    },
    "slideshow": {
     "slide_type": "subslide"
    }
   },
   "outputs": [],
   "source": [
    "class Mutator:\n",
    "    \"\"\"Mutate strings\"\"\"\n",
    "\n",
    "    def __init__(self) -> None:\n",
    "        \"\"\"Constructor\"\"\"\n",
    "        self.mutators = [\n",
    "            self.delete_random_character,\n",
    "            self.insert_random_character,\n",
    "            self.flip_random_character\n",
    "        ]"
   ]
  },
  {
   "cell_type": "markdown",
   "metadata": {
    "slideshow": {
     "slide_type": "fragment"
    }
   },
   "source": [
    "For insertion, we add a random character in a random position."
   ]
  },
  {
   "cell_type": "code",
   "execution_count": 7,
   "metadata": {
    "execution": {
     "iopub.execute_input": "2022-08-06T22:47:46.615819Z",
     "iopub.status.busy": "2022-08-06T22:47:46.615397Z",
     "iopub.status.idle": "2022-08-06T22:47:46.616754Z",
     "shell.execute_reply": "2022-08-06T22:47:46.617153Z"
    },
    "slideshow": {
     "slide_type": "subslide"
    }
   },
   "outputs": [],
   "source": [
    "class Mutator(Mutator):\n",
    "    def insert_random_character(self, s: str) -> str:\n",
    "        \"\"\"Returns s with a random character inserted\"\"\"\n",
    "        pos = random.randint(0, len(s))\n",
    "        random_character = chr(random.randrange(32, 127))\n",
    "        return s[:pos] + random_character + s[pos:]"
   ]
  },
  {
   "cell_type": "markdown",
   "metadata": {
    "slideshow": {
     "slide_type": "fragment"
    }
   },
   "source": [
    "For deletion, if the string is non-empty choose a random position and delete the character. Otherwise, use the insertion-operation."
   ]
  },
  {
   "cell_type": "code",
   "execution_count": 8,
   "metadata": {
    "execution": {
     "iopub.execute_input": "2022-08-06T22:47:46.620079Z",
     "iopub.status.busy": "2022-08-06T22:47:46.619709Z",
     "iopub.status.idle": "2022-08-06T22:47:46.620965Z",
     "shell.execute_reply": "2022-08-06T22:47:46.621747Z"
    },
    "slideshow": {
     "slide_type": "subslide"
    }
   },
   "outputs": [],
   "source": [
    "class Mutator(Mutator):\n",
    "    def delete_random_character(self, s: str) -> str:\n",
    "        \"\"\"Returns s with a random character deleted\"\"\"\n",
    "        if s == \"\":\n",
    "            return self.insert_random_character(s)\n",
    "\n",
    "        pos = random.randint(0, len(s) - 1)\n",
    "        return s[:pos] + s[pos + 1:]"
   ]
  },
  {
   "cell_type": "markdown",
   "metadata": {
    "slideshow": {
     "slide_type": "fragment"
    }
   },
   "source": [
    "For substitution, if the string is non-empty choose a random position and flip a random bit in the character. Otherwise, use the insertion-operation."
   ]
  },
  {
   "cell_type": "code",
   "execution_count": 9,
   "metadata": {
    "execution": {
     "iopub.execute_input": "2022-08-06T22:47:46.646802Z",
     "iopub.status.busy": "2022-08-06T22:47:46.646356Z",
     "iopub.status.idle": "2022-08-06T22:47:46.647690Z",
     "shell.execute_reply": "2022-08-06T22:47:46.648041Z"
    },
    "slideshow": {
     "slide_type": "subslide"
    }
   },
   "outputs": [],
   "source": [
    "class Mutator(Mutator):\n",
    "    def flip_random_character(self, s: str) -> str:\n",
    "        \"\"\"Returns s with a random bit flipped in a random position\"\"\"\n",
    "        if s == \"\":\n",
    "            return self.insert_random_character(s)\n",
    "\n",
    "        pos = random.randint(0, len(s) - 1)\n",
    "        c = s[pos]\n",
    "        bit = 1 << random.randint(0, 6)\n",
    "        new_c = chr(ord(c) ^ bit)\n",
    "        return s[:pos] + new_c + s[pos + 1:]"
   ]
  },
  {
   "cell_type": "markdown",
   "metadata": {
    "slideshow": {
     "slide_type": "fragment"
    }
   },
   "source": [
    "The main method is `mutate` which chooses a random mutation operator from the list of operators."
   ]
  },
  {
   "cell_type": "code",
   "execution_count": 10,
   "metadata": {
    "execution": {
     "iopub.execute_input": "2022-08-06T22:47:46.650660Z",
     "iopub.status.busy": "2022-08-06T22:47:46.650283Z",
     "iopub.status.idle": "2022-08-06T22:47:46.651437Z",
     "shell.execute_reply": "2022-08-06T22:47:46.651792Z"
    },
    "slideshow": {
     "slide_type": "subslide"
    }
   },
   "outputs": [],
   "source": [
    "class Mutator(Mutator):\n",
    "    def mutate(self, inp: Any) -> Any:  # can be str or Seed (see below)\n",
    "        \"\"\"Return s with a random mutation applied. Can be overloaded in subclasses.\"\"\"\n",
    "        mutator = random.choice(self.mutators)\n",
    "        return mutator(inp)"
   ]
  },
  {
   "cell_type": "markdown",
   "metadata": {
    "slideshow": {
     "slide_type": "fragment"
    }
   },
   "source": [
    "Let's try the mutator. You can actually interact with such a \"cell\" and try other inputs by loading this chapter as Jupyter notebook. After opening, run all cells in the notebook using \"Kernel -> Restart & Run All\"."
   ]
  },
  {
   "cell_type": "code",
   "execution_count": 11,
   "metadata": {
    "execution": {
     "iopub.execute_input": "2022-08-06T22:47:46.654089Z",
     "iopub.status.busy": "2022-08-06T22:47:46.653769Z",
     "iopub.status.idle": "2022-08-06T22:47:46.655190Z",
     "shell.execute_reply": "2022-08-06T22:47:46.655383Z"
    },
    "slideshow": {
     "slide_type": "fragment"
    }
   },
   "outputs": [
    {
     "data": {
      "text/plain": [
       "'cood'"
      ]
     },
     "execution_count": 11,
     "metadata": {},
     "output_type": "execute_result"
    }
   ],
   "source": [
    "Mutator().mutate(\"good\")"
   ]
  },
  {
   "cell_type": "markdown",
   "metadata": {
    "slideshow": {
     "slide_type": "subslide"
    },
    "tags": []
   },
   "source": [
    "### Seeds and Power Schedules\n",
    "\n",
    "Now we introduce a new concept; the *power schedule*. A power schedule distributes the precious fuzzing time among the seeds in the population. Our objective is to maximize the time spent fuzzing those (most progressive) seeds which lead to higher coverage increase in shorter time.\n",
    "\n",
    "We call the likelihood with which a seed is chosen from the population as the seed's *energy*. Throughout a fuzzing campaign, we would like to prioritize seeds that are more promising. Simply said, we do not want to waste energy fuzzing non-progressive seeds. We call the procedure that decides a seed's energy as the fuzzer's *power schedule*. For instance, AFL's schedule assigns more energy to seeds that are shorter, that execute faster, and yield coverage increases more often.\n",
    "\n",
    "First, there is some information that we need to attach to each seed in addition to the seed's data. Hence, we define the following `Seed` class."
   ]
  },
  {
   "cell_type": "code",
   "execution_count": 12,
   "metadata": {
    "execution": {
     "iopub.execute_input": "2022-08-06T22:47:46.657877Z",
     "iopub.status.busy": "2022-08-06T22:47:46.657508Z",
     "iopub.status.idle": "2022-08-06T22:47:46.658726Z",
     "shell.execute_reply": "2022-08-06T22:47:46.658956Z"
    },
    "slideshow": {
     "slide_type": "skip"
    }
   },
   "outputs": [],
   "source": [
    "from Coverage import Location"
   ]
  },
  {
   "cell_type": "code",
   "execution_count": 13,
   "metadata": {
    "execution": {
     "iopub.execute_input": "2022-08-06T22:47:46.661915Z",
     "iopub.status.busy": "2022-08-06T22:47:46.661514Z",
     "iopub.status.idle": "2022-08-06T22:47:46.662564Z",
     "shell.execute_reply": "2022-08-06T22:47:46.662753Z"
    },
    "slideshow": {
     "slide_type": "subslide"
    }
   },
   "outputs": [],
   "source": [
    "class Seed:\n",
    "    \"\"\"Represent an input with additional attributes\"\"\"\n",
    "\n",
    "    def __init__(self, data: str) -> None:\n",
    "        \"\"\"Initialize from seed data\"\"\"\n",
    "        self.data = data\n",
    "\n",
    "        # These will be needed for advanced power schedules\n",
    "        self.coverage: Set[Location] = set()\n",
    "        self.distance: Union[int, float] = -1\n",
    "        self.energy = 0.0\n",
    "\n",
    "    def __str__(self) -> str:\n",
    "        \"\"\"Returns data as string representation of the seed\"\"\"\n",
    "        return self.data\n",
    "\n",
    "    __repr__ = __str__"
   ]
  },
  {
   "cell_type": "markdown",
   "metadata": {
    "slideshow": {
     "slide_type": "subslide"
    }
   },
   "source": [
    "The power schedule that is implemented below assigns each seed the same energy. Once a seed is in the population, it will be fuzzed as often as any other seed in the population.\n",
    "\n",
    "In Python, we can squeeze long for-loops into much smaller statements.\n",
    "* `lambda x: ...` returns a function that takes `x` as input. Lambda allows for quick definitions unnamed functions.\n",
    "* `map(f, l)` returns a list where the function `f` is applied to each element in list `l`.\n",
    "* `random.choices(l, weights)[0]` returns element `l[i]` with probability in `weights[i]`."
   ]
  },
  {
   "cell_type": "code",
   "execution_count": 14,
   "metadata": {
    "execution": {
     "iopub.execute_input": "2022-08-06T22:47:46.667055Z",
     "iopub.status.busy": "2022-08-06T22:47:46.666525Z",
     "iopub.status.idle": "2022-08-06T22:47:46.668412Z",
     "shell.execute_reply": "2022-08-06T22:47:46.668661Z"
    },
    "slideshow": {
     "slide_type": "subslide"
    }
   },
   "outputs": [],
   "source": [
    "class PowerSchedule:\n",
    "    \"\"\"Define how fuzzing time should be distributed across the population.\"\"\"\n",
    "\n",
    "    def __init__(self) -> None:\n",
    "        \"\"\"Constructor\"\"\"\n",
    "        self.path_frequency: Dict = {}\n",
    "\n",
    "    def assignEnergy(self, population: Sequence[Seed]) -> None:\n",
    "        \"\"\"Assigns each seed the same energy\"\"\"\n",
    "        for seed in population:\n",
    "            seed.energy = 1\n",
    "\n",
    "    def normalizedEnergy(self, population: Sequence[Seed]) -> List[float]:\n",
    "        \"\"\"Normalize energy\"\"\"\n",
    "        energy = list(map(lambda seed: seed.energy, population))\n",
    "        sum_energy = sum(energy)  # Add up all values in energy\n",
    "        assert sum_energy != 0\n",
    "        norm_energy = list(map(lambda nrg: nrg / sum_energy, energy))\n",
    "        return norm_energy\n",
    "\n",
    "    def choose(self, population: Sequence[Seed]) -> Seed:\n",
    "        \"\"\"Choose weighted by normalized energy.\"\"\"\n",
    "        self.assignEnergy(population)\n",
    "        norm_energy = self.normalizedEnergy(population)\n",
    "        seed: Seed = random.choices(population, weights=norm_energy)[0]\n",
    "        return seed"
   ]
  },
  {
   "cell_type": "markdown",
   "metadata": {
    "slideshow": {
     "slide_type": "subslide"
    }
   },
   "source": [
    "Let's see whether this power schedule chooses seeds uniformly at random. We ask the schedule 10k times to choose a seed from the population of three seeds (A, B, C) and keep track of the number of times we have seen each seed. We should see each seed about 3.3k times."
   ]
  },
  {
   "cell_type": "code",
   "execution_count": 15,
   "metadata": {
    "execution": {
     "iopub.execute_input": "2022-08-06T22:47:46.671618Z",
     "iopub.status.busy": "2022-08-06T22:47:46.671192Z",
     "iopub.status.idle": "2022-08-06T22:47:46.672752Z",
     "shell.execute_reply": "2022-08-06T22:47:46.673031Z"
    },
    "slideshow": {
     "slide_type": "fragment"
    }
   },
   "outputs": [],
   "source": [
    "population = [Seed(\"A\"), Seed(\"B\"), Seed(\"C\")]\n",
    "schedule = PowerSchedule()\n",
    "hits = {\n",
    "    \"A\": 0,\n",
    "    \"B\": 0,\n",
    "    \"C\": 0\n",
    "}"
   ]
  },
  {
   "cell_type": "code",
   "execution_count": 16,
   "metadata": {
    "execution": {
     "iopub.execute_input": "2022-08-06T22:47:46.699016Z",
     "iopub.status.busy": "2022-08-06T22:47:46.698480Z",
     "iopub.status.idle": "2022-08-06T22:47:46.699789Z",
     "shell.execute_reply": "2022-08-06T22:47:46.700078Z"
    },
    "slideshow": {
     "slide_type": "fragment"
    }
   },
   "outputs": [],
   "source": [
    "for i in range(10000):\n",
    "    seed = schedule.choose(population)\n",
    "    hits[seed.data] += 1"
   ]
  },
  {
   "cell_type": "code",
   "execution_count": 17,
   "metadata": {
    "execution": {
     "iopub.execute_input": "2022-08-06T22:47:46.703309Z",
     "iopub.status.busy": "2022-08-06T22:47:46.702761Z",
     "iopub.status.idle": "2022-08-06T22:47:46.704754Z",
     "shell.execute_reply": "2022-08-06T22:47:46.704979Z"
    },
    "slideshow": {
     "slide_type": "subslide"
    }
   },
   "outputs": [
    {
     "data": {
      "text/plain": [
       "{'A': 3387, 'B': 3255, 'C': 3358}"
      ]
     },
     "execution_count": 17,
     "metadata": {},
     "output_type": "execute_result"
    }
   ],
   "source": [
    "hits"
   ]
  },
  {
   "cell_type": "markdown",
   "metadata": {
    "slideshow": {
     "slide_type": "fragment"
    }
   },
   "source": [
    "Looks good. Every seed has been chosen about a third of the time."
   ]
  },
  {
   "cell_type": "markdown",
   "metadata": {
    "slideshow": {
     "slide_type": "subslide"
    }
   },
   "source": [
    "### Runners and a Sample Program\n",
    "\n",
    "We'll start with a small sample program of six lines. In order to collect coverage information during execution, we import the `FunctionCoverageRunner` class from the chapter on [mutation-based fuzzing](MutationFuzzer.ipynb#Guiding-by-Coverage). \n",
    "\n",
    "The `FunctionCoverageRunner` constructor takes a Python `function` to execute. The function `run` takes an input, passes it on to the Python `function`, and collects the coverage information for this execution. The function `coverage()` returns a list of tuples `(function name, line number)` for each statement that has been covered in the Python `function`."
   ]
  },
  {
   "cell_type": "code",
   "execution_count": 18,
   "metadata": {
    "execution": {
     "iopub.execute_input": "2022-08-06T22:47:46.708070Z",
     "iopub.status.busy": "2022-08-06T22:47:46.707596Z",
     "iopub.status.idle": "2022-08-06T22:47:46.720410Z",
     "shell.execute_reply": "2022-08-06T22:47:46.720599Z"
    },
    "slideshow": {
     "slide_type": "skip"
    }
   },
   "outputs": [],
   "source": [
    "from MutationFuzzer import FunctionCoverageRunner, http_program"
   ]
  },
  {
   "cell_type": "markdown",
   "metadata": {
    "slideshow": {
     "slide_type": "subslide"
    }
   },
   "source": [
    "The `crashme()` function raises an exception for the input \"bad!\". Let's see which statements are covered for the input \"good\"."
   ]
  },
  {
   "cell_type": "code",
   "execution_count": 19,
   "metadata": {
    "execution": {
     "iopub.execute_input": "2022-08-06T22:47:46.722166Z",
     "iopub.status.busy": "2022-08-06T22:47:46.721865Z",
     "iopub.status.idle": "2022-08-06T22:47:46.724346Z",
     "shell.execute_reply": "2022-08-06T22:47:46.724594Z"
    },
    "slideshow": {
     "slide_type": "fragment"
    }
   },
   "outputs": [],
   "source": [
    "def crashme(s: str) -> None:\n",
    "    if len(s) > 0 and s[0] == 'b':\n",
    "        if len(s) > 1 and s[1] == 'a':\n",
    "            if len(s) > 2 and s[2] == 'd':\n",
    "                if len(s) > 3 and s[3] == '!':\n",
    "                    raise Exception()"
   ]
  },
  {
   "cell_type": "code",
   "execution_count": 20,
   "metadata": {
    "execution": {
     "iopub.execute_input": "2022-08-06T22:47:46.727093Z",
     "iopub.status.busy": "2022-08-06T22:47:46.726759Z",
     "iopub.status.idle": "2022-08-06T22:47:46.728204Z",
     "shell.execute_reply": "2022-08-06T22:47:46.728392Z"
    },
    "slideshow": {
     "slide_type": "fragment"
    }
   },
   "outputs": [
    {
     "data": {
      "text/plain": [
       "[('crashme', 2), ('run_function', 132)]"
      ]
     },
     "execution_count": 20,
     "metadata": {},
     "output_type": "execute_result"
    }
   ],
   "source": [
    "crashme_runner = FunctionCoverageRunner(crashme)\n",
    "crashme_runner.run(\"good\")\n",
    "list(crashme_runner.coverage())"
   ]
  },
  {
   "cell_type": "markdown",
   "metadata": {
    "slideshow": {
     "slide_type": "fragment"
    }
   },
   "source": [
    "In `crashme`, the input \"good\" only covers the if-statement in line 2. The branch condition `len(s) > 0 and s[0] == 'b'` evaluates to False."
   ]
  },
  {
   "cell_type": "markdown",
   "metadata": {
    "slideshow": {
     "slide_type": "slide"
    }
   },
   "source": [
    "## Advanced Blackbox Mutation-based Fuzzing\n",
    "\n",
    "Let's integrate both the mutator and power schedule into a fuzzer. We'll start with a blackbox fuzzer -- which does *not* leverage any coverage information. \n",
    "\n",
    "Our `AdvancedMutationFuzzer` class is an advanced and _parameterized_ version of the `MutationFuzzer` class from the [chapter on mutation-based fuzzing](MutationFuzzer.ipynb). It also inherits from the [Fuzzer](Fuzzer.ipynb#Fuzzer-Classes) class. For now, we only need to know the functions `fuzz()` which returns a generated input and `runs()` which executes `fuzz()` a specified number of times. For our `AdvancedMutationFuzzer` class, we override the function `fuzz()`."
   ]
  },
  {
   "cell_type": "code",
   "execution_count": 21,
   "metadata": {
    "execution": {
     "iopub.execute_input": "2022-08-06T22:47:46.730419Z",
     "iopub.status.busy": "2022-08-06T22:47:46.730112Z",
     "iopub.status.idle": "2022-08-06T22:47:46.731437Z",
     "shell.execute_reply": "2022-08-06T22:47:46.731633Z"
    },
    "slideshow": {
     "slide_type": "skip"
    }
   },
   "outputs": [],
   "source": [
    "from Fuzzer import Fuzzer"
   ]
  },
  {
   "cell_type": "markdown",
   "metadata": {
    "slideshow": {
     "slide_type": "subslide"
    }
   },
   "source": [
    "The `AdvancedMutationFuzzer` is constructed with a set of initial seeds, a mutator, and a power schedule. Throughout the fuzzing campaign, it maintains a seed corpus called `population`. The function `fuzz` returns either an unfuzzed seed from the initial seeds, or the result of fuzzing a seed in the population. The function `create_candidate` handles the latter. It randomly chooses an input from the population and applies a number of mutations."
   ]
  },
  {
   "cell_type": "code",
   "execution_count": 22,
   "metadata": {
    "execution": {
     "iopub.execute_input": "2022-08-06T22:47:46.736599Z",
     "iopub.status.busy": "2022-08-06T22:47:46.735946Z",
     "iopub.status.idle": "2022-08-06T22:47:46.737671Z",
     "shell.execute_reply": "2022-08-06T22:47:46.737916Z"
    },
    "slideshow": {
     "slide_type": "subslide"
    }
   },
   "outputs": [],
   "source": [
    "class AdvancedMutationFuzzer(Fuzzer):\n",
    "    \"\"\"Base class for mutation-based fuzzing.\"\"\"\n",
    "\n",
    "    def __init__(self, seeds: List[str],\n",
    "                 mutator: Mutator,\n",
    "                 schedule: PowerSchedule) -> None:\n",
    "        \"\"\"Constructor.\n",
    "        `seeds` - a list of (input) strings to mutate.\n",
    "        `mutator` - the mutator to apply.\n",
    "        `schedule` - the power schedule to apply.\n",
    "        \"\"\"\n",
    "        self.seeds = seeds\n",
    "        self.mutator = mutator\n",
    "        self.schedule = schedule\n",
    "        self.inputs: List[str] = []\n",
    "        self.reset()\n",
    "\n",
    "    def reset(self) -> None:\n",
    "        \"\"\"Reset the initial population and seed index\"\"\"\n",
    "        self.population = list(map(lambda x: Seed(x), self.seeds))\n",
    "        self.seed_index = 0\n",
    "\n",
    "    def create_candidate(self) -> str:\n",
    "        \"\"\"Returns an input generated by fuzzing a seed in the population\"\"\"\n",
    "        seed = self.schedule.choose(self.population)\n",
    "\n",
    "        # Stacking: Apply multiple mutations to generate the candidate\n",
    "        candidate = seed.data\n",
    "        trials = min(len(candidate), 1 << random.randint(1, 5))\n",
    "        for i in range(trials):\n",
    "            candidate = self.mutator.mutate(candidate)\n",
    "        return candidate\n",
    "\n",
    "    def fuzz(self) -> str:\n",
    "        \"\"\"Returns first each seed once and then generates new inputs\"\"\"\n",
    "        if self.seed_index < len(self.seeds):\n",
    "            # Still seeding\n",
    "            self.inp = self.seeds[self.seed_index]\n",
    "            self.seed_index += 1\n",
    "        else:\n",
    "            # Mutating\n",
    "            self.inp = self.create_candidate()\n",
    "\n",
    "        self.inputs.append(self.inp)\n",
    "        return self.inp"
   ]
  },
  {
   "cell_type": "markdown",
   "metadata": {
    "slideshow": {
     "slide_type": "subslide"
    }
   },
   "source": [
    "Okay, let's take the mutation fuzzer for a spin. Given a single seed, we ask it to generate three inputs."
   ]
  },
  {
   "cell_type": "code",
   "execution_count": 23,
   "metadata": {
    "execution": {
     "iopub.execute_input": "2022-08-06T22:47:46.739480Z",
     "iopub.status.busy": "2022-08-06T22:47:46.739151Z",
     "iopub.status.idle": "2022-08-06T22:47:46.742084Z",
     "shell.execute_reply": "2022-08-06T22:47:46.742381Z"
    },
    "slideshow": {
     "slide_type": "fragment"
    }
   },
   "outputs": [
    {
     "name": "stdout",
     "output_type": "stream",
     "text": [
      "good\n",
      "gDoodC\n",
      "/\n"
     ]
    }
   ],
   "source": [
    "seed_input = \"good\"\n",
    "mutation_fuzzer = AdvancedMutationFuzzer([seed_input], Mutator(), PowerSchedule())\n",
    "print(mutation_fuzzer.fuzz())\n",
    "print(mutation_fuzzer.fuzz())\n",
    "print(mutation_fuzzer.fuzz())"
   ]
  },
  {
   "cell_type": "markdown",
   "metadata": {
    "slideshow": {
     "slide_type": "subslide"
    }
   },
   "source": [
    "Let's see how many statements the mutation-based blackbox fuzzer covers in a campaign with n=30k inputs.\n",
    "\n",
    "The fuzzer function `runs(crashme_runner, trials=n)` generates `n` inputs and executes them on the `crashme` function via the `crashme_runner`. As stated earlier, the `crashme_runner` also collects coverage information."
   ]
  },
  {
   "cell_type": "code",
   "execution_count": 24,
   "metadata": {
    "execution": {
     "iopub.execute_input": "2022-08-06T22:47:46.744372Z",
     "iopub.status.busy": "2022-08-06T22:47:46.744040Z",
     "iopub.status.idle": "2022-08-06T22:47:46.745338Z",
     "shell.execute_reply": "2022-08-06T22:47:46.745537Z"
    },
    "slideshow": {
     "slide_type": "skip"
    }
   },
   "outputs": [],
   "source": [
    "import time"
   ]
  },
  {
   "cell_type": "code",
   "execution_count": 25,
   "metadata": {
    "execution": {
     "iopub.execute_input": "2022-08-06T22:47:46.748008Z",
     "iopub.status.busy": "2022-08-06T22:47:46.747523Z",
     "iopub.status.idle": "2022-08-06T22:47:46.748725Z",
     "shell.execute_reply": "2022-08-06T22:47:46.749036Z"
    },
    "slideshow": {
     "slide_type": "fragment"
    }
   },
   "outputs": [],
   "source": [
    "n = 30000"
   ]
  },
  {
   "cell_type": "code",
   "execution_count": 26,
   "metadata": {
    "execution": {
     "iopub.execute_input": "2022-08-06T22:47:46.836270Z",
     "iopub.status.busy": "2022-08-06T22:47:46.795587Z",
     "iopub.status.idle": "2022-08-06T22:47:47.095464Z",
     "shell.execute_reply": "2022-08-06T22:47:47.095701Z"
    },
    "slideshow": {
     "slide_type": "subslide"
    }
   },
   "outputs": [
    {
     "data": {
      "text/plain": [
       "'It took the blackbox mutation-based fuzzer 0.34 seconds to generate and execute 30000 inputs.'"
      ]
     },
     "execution_count": 26,
     "metadata": {},
     "output_type": "execute_result"
    }
   ],
   "source": [
    "blackbox_fuzzer = AdvancedMutationFuzzer([seed_input], Mutator(), PowerSchedule())\n",
    "\n",
    "start = time.time()\n",
    "blackbox_fuzzer.runs(FunctionCoverageRunner(crashme), trials=n)\n",
    "end = time.time()\n",
    "\n",
    "\"It took the blackbox mutation-based fuzzer %0.2f seconds to generate and execute %d inputs.\" % (end - start, n)"
   ]
  },
  {
   "cell_type": "markdown",
   "metadata": {
    "slideshow": {
     "slide_type": "subslide"
    }
   },
   "source": [
    "In order to measure coverage, we import the [population_coverage](Coverage.ipynb#Coverage-of-Basic-Fuzzing) function. It takes a set of inputs and a Python function, executes the inputs on that function and collects coverage information. Specifically, it returns a tuple `(all_coverage, cumulative_coverage)` where `all_coverage` is the set of statements covered by all inputs, and `cumulative_coverage` is the number of statements covered as the number of executed inputs increases. We are just interested in the latter to plot coverage over time."
   ]
  },
  {
   "cell_type": "markdown",
   "metadata": {
    "slideshow": {
     "slide_type": "fragment"
    }
   },
   "source": [
    "We extract the generated inputs from the blackbox fuzzer and measure coverage as the number of inputs increases."
   ]
  },
  {
   "cell_type": "code",
   "execution_count": 27,
   "metadata": {
    "execution": {
     "iopub.execute_input": "2022-08-06T22:47:47.164167Z",
     "iopub.status.busy": "2022-08-06T22:47:47.136832Z",
     "iopub.status.idle": "2022-08-06T22:47:47.165799Z",
     "shell.execute_reply": "2022-08-06T22:47:47.166035Z"
    },
    "slideshow": {
     "slide_type": "fragment"
    }
   },
   "outputs": [
    {
     "data": {
      "text/plain": [
       "'The blackbox mutation-based fuzzer achieved a maximum coverage of 2 statements.'"
      ]
     },
     "execution_count": 27,
     "metadata": {},
     "output_type": "execute_result"
    }
   ],
   "source": [
    "_, blackbox_coverage = population_coverage(blackbox_fuzzer.inputs, crashme)\n",
    "bb_max_coverage = max(blackbox_coverage)\n",
    "\n",
    "\"The blackbox mutation-based fuzzer achieved a maximum coverage of %d statements.\" % bb_max_coverage"
   ]
  },
  {
   "cell_type": "markdown",
   "metadata": {
    "slideshow": {
     "slide_type": "subslide"
    }
   },
   "source": [
    "The following generated inputs increased the coverage for our `crashme` [example](#Runner-and-Sample-Program)."
   ]
  },
  {
   "cell_type": "code",
   "execution_count": 28,
   "metadata": {
    "execution": {
     "iopub.execute_input": "2022-08-06T22:47:47.170627Z",
     "iopub.status.busy": "2022-08-06T22:47:47.170319Z",
     "iopub.status.idle": "2022-08-06T22:47:47.171973Z",
     "shell.execute_reply": "2022-08-06T22:47:47.172180Z"
    },
    "slideshow": {
     "slide_type": "fragment"
    }
   },
   "outputs": [
    {
     "data": {
      "text/plain": [
       "['good', 'bo']"
      ]
     },
     "execution_count": 28,
     "metadata": {},
     "output_type": "execute_result"
    }
   ],
   "source": [
    "[seed_input] + \\\n",
    "    [\n",
    "        blackbox_fuzzer.inputs[idx] for idx in range(len(blackbox_coverage))\n",
    "        if blackbox_coverage[idx] > blackbox_coverage[idx - 1]\n",
    "    ]"
   ]
  },
  {
   "cell_type": "markdown",
   "metadata": {
    "slideshow": {
     "slide_type": "subslide"
    }
   },
   "source": [
    "***Summary***. This is how a blackbox mutation-based fuzzer works. We have integrated the *mutator* to generate inputs by fuzzing a provided set of initial seeds and the *power schedule* to decide which seed to choose next."
   ]
  },
  {
   "cell_type": "markdown",
   "metadata": {
    "slideshow": {
     "slide_type": "slide"
    }
   },
   "source": [
    "## Greybox Mutation-based Fuzzing\n",
    "\n",
    "In contrast to a blackbox fuzzer, a greybox fuzzer like [AFL](http://lcamtuf.coredump.cx/afl/) _does_ leverage coverage information. Specifically, a greybox fuzzer adds to the seed population generated inputs which increase code coverage.\n",
    "\n",
    "The method `run()` is inherited from the [Fuzzer](Fuzzer.ipynb#Fuzzer-Classes) class. It is called to generate and execute exactly one input. We override this function to add an input to the `population` that increases coverage. The greybox fuzzer attribute `coverages_seen` maintains the set of statements, that have previously been covered."
   ]
  },
  {
   "cell_type": "code",
   "execution_count": 29,
   "metadata": {
    "execution": {
     "iopub.execute_input": "2022-08-06T22:47:47.175241Z",
     "iopub.status.busy": "2022-08-06T22:47:47.174913Z",
     "iopub.status.idle": "2022-08-06T22:47:47.176132Z",
     "shell.execute_reply": "2022-08-06T22:47:47.176364Z"
    },
    "slideshow": {
     "slide_type": "subslide"
    }
   },
   "outputs": [],
   "source": [
    "class GreyboxFuzzer(AdvancedMutationFuzzer):\n",
    "    \"\"\"Coverage-guided mutational fuzzing.\"\"\"\n",
    "\n",
    "    def reset(self):\n",
    "        \"\"\"Reset the initial population, seed index, coverage information\"\"\"\n",
    "        super().reset()\n",
    "        self.coverages_seen = set()\n",
    "        self.population = []  # population is filled during greybox fuzzing\n",
    "\n",
    "    def run(self, runner: FunctionCoverageRunner) -> Tuple[Any, str]:  # type: ignore\n",
    "        \"\"\"Run function(inp) while tracking coverage.\n",
    "           If we reach new coverage,\n",
    "           add inp to population and its coverage to population_coverage\n",
    "        \"\"\"\n",
    "        result, outcome = super().run(runner)\n",
    "        new_coverage = frozenset(runner.coverage())\n",
    "        if new_coverage not in self.coverages_seen:\n",
    "            # We have new coverage\n",
    "            seed = Seed(self.inp)\n",
    "            seed.coverage = runner.coverage()\n",
    "            self.coverages_seen.add(new_coverage)\n",
    "            self.population.append(seed)\n",
    "\n",
    "        return (result, outcome)"
   ]
  },
  {
   "cell_type": "markdown",
   "metadata": {
    "slideshow": {
     "slide_type": "subslide"
    }
   },
   "source": [
    "Let's take our greybox fuzzer for a spin."
   ]
  },
  {
   "cell_type": "code",
   "execution_count": 30,
   "metadata": {
    "execution": {
     "iopub.execute_input": "2022-08-06T22:47:47.260013Z",
     "iopub.status.busy": "2022-08-06T22:47:47.223013Z",
     "iopub.status.idle": "2022-08-06T22:47:47.540943Z",
     "shell.execute_reply": "2022-08-06T22:47:47.541188Z"
    },
    "slideshow": {
     "slide_type": "fragment"
    }
   },
   "outputs": [
    {
     "data": {
      "text/plain": [
       "'It took the greybox mutation-based fuzzer 0.36 seconds to generate and execute 30000 inputs.'"
      ]
     },
     "execution_count": 30,
     "metadata": {},
     "output_type": "execute_result"
    }
   ],
   "source": [
    "seed_input = \"good\"\n",
    "greybox_fuzzer = GreyboxFuzzer([seed_input], Mutator(), PowerSchedule())\n",
    "\n",
    "start = time.time()\n",
    "greybox_fuzzer.runs(FunctionCoverageRunner(crashme), trials=n)\n",
    "end = time.time()\n",
    "\n",
    "\"It took the greybox mutation-based fuzzer %0.2f seconds to generate and execute %d inputs.\" % (end - start, n)"
   ]
  },
  {
   "cell_type": "markdown",
   "metadata": {
    "slideshow": {
     "slide_type": "fragment"
    }
   },
   "source": [
    "Does the greybox fuzzer cover more statements after generating the same number of test inputs?"
   ]
  },
  {
   "cell_type": "code",
   "execution_count": 31,
   "metadata": {
    "execution": {
     "iopub.execute_input": "2022-08-06T22:47:47.614416Z",
     "iopub.status.busy": "2022-08-06T22:47:47.591085Z",
     "iopub.status.idle": "2022-08-06T22:47:47.615997Z",
     "shell.execute_reply": "2022-08-06T22:47:47.616257Z"
    },
    "slideshow": {
     "slide_type": "subslide"
    }
   },
   "outputs": [
    {
     "data": {
      "text/plain": [
       "'Our greybox mutation-based fuzzer covers 2 more statements'"
      ]
     },
     "execution_count": 31,
     "metadata": {},
     "output_type": "execute_result"
    }
   ],
   "source": [
    "_, greybox_coverage = population_coverage(greybox_fuzzer.inputs, crashme)\n",
    "gb_max_coverage = max(greybox_coverage)\n",
    "\n",
    "\"Our greybox mutation-based fuzzer covers %d more statements\" % (gb_max_coverage - bb_max_coverage)"
   ]
  },
  {
   "cell_type": "markdown",
   "metadata": {
    "slideshow": {
     "slide_type": "fragment"
    }
   },
   "source": [
    "Our seed population for our [example](#Runner-and-Sample-Program) now contains the following seeds."
   ]
  },
  {
   "cell_type": "code",
   "execution_count": 32,
   "metadata": {
    "execution": {
     "iopub.execute_input": "2022-08-06T22:47:47.618947Z",
     "iopub.status.busy": "2022-08-06T22:47:47.618486Z",
     "iopub.status.idle": "2022-08-06T22:47:47.619977Z",
     "shell.execute_reply": "2022-08-06T22:47:47.620185Z"
    },
    "slideshow": {
     "slide_type": "fragment"
    }
   },
   "outputs": [
    {
     "data": {
      "text/plain": [
       "[good, bo, baof, bad4u]"
      ]
     },
     "execution_count": 32,
     "metadata": {},
     "output_type": "execute_result"
    }
   ],
   "source": [
    "greybox_fuzzer.population"
   ]
  },
  {
   "cell_type": "markdown",
   "metadata": {
    "slideshow": {
     "slide_type": "fragment"
    }
   },
   "source": [
    "Coverage-feedback is indeed helpful. The new seeds are like bread crumbs or milestones that guide the fuzzer to progress more quickly into deeper code regions. Following is a simple plot showing the coverage achieved over time for both fuzzers on our simple [example](#Runner-and-Sample-Program)."
   ]
  },
  {
   "cell_type": "code",
   "execution_count": 33,
   "metadata": {
    "execution": {
     "iopub.execute_input": "2022-08-06T22:47:47.622751Z",
     "iopub.status.busy": "2022-08-06T22:47:47.622459Z",
     "iopub.status.idle": "2022-08-06T22:47:47.623530Z",
     "shell.execute_reply": "2022-08-06T22:47:47.623724Z"
    },
    "slideshow": {
     "slide_type": "fragment"
    }
   },
   "outputs": [],
   "source": [
    "%matplotlib inline"
   ]
  },
  {
   "cell_type": "code",
   "execution_count": 34,
   "metadata": {
    "execution": {
     "iopub.execute_input": "2022-08-06T22:47:47.625454Z",
     "iopub.status.busy": "2022-08-06T22:47:47.625174Z",
     "iopub.status.idle": "2022-08-06T22:47:47.626241Z",
     "shell.execute_reply": "2022-08-06T22:47:47.626418Z"
    },
    "slideshow": {
     "slide_type": "skip"
    }
   },
   "outputs": [],
   "source": [
    "import matplotlib.pyplot as plt  # type: ignore"
   ]
  },
  {
   "cell_type": "code",
   "execution_count": 35,
   "metadata": {
    "execution": {
     "iopub.execute_input": "2022-08-06T22:47:47.628643Z",
     "iopub.status.busy": "2022-08-06T22:47:47.628246Z",
     "iopub.status.idle": "2022-08-06T22:47:47.748664Z",
     "shell.execute_reply": "2022-08-06T22:47:47.748871Z"
    },
    "slideshow": {
     "slide_type": "subslide"
    }
   },
   "outputs": [
    {
     "data": {
      "image/png": "[encoded data removed]",
      "text/plain": [
       "<Figure size 432x288 with 1 Axes>"
      ]
     },
     "metadata": {
      "needs_background": "light"
     },
     "output_type": "display_data"
    }
   ],
   "source": [
    "line_bb, = plt.plot(blackbox_coverage, label=\"Blackbox\")\n",
    "line_gb, = plt.plot(greybox_coverage, label=\"Greybox\")\n",
    "plt.legend(handles=[line_bb, line_gb])\n",
    "plt.title('Coverage over time')\n",
    "plt.xlabel('# of inputs')\n",
    "plt.ylabel('lines covered');"
   ]
  },
  {
   "cell_type": "markdown",
   "metadata": {
    "slideshow": {
     "slide_type": "subslide"
    }
   },
   "source": [
    "***Summary***. We have seen how a greybox fuzzer \"discovers\" interesting seeds that can lead to more progress. From the input `good`, our greybox fuzzer has slowly learned how to generate the input `bad!` which raises the exception. Now, how can we do that even faster?\n",
    "\n",
    "***Try it***. How much coverage would be achieved over time using a blackbox *generation-based* fuzzer? Try plotting the coverage for all three fuzzers. You can define the blackbox generation-based fuzzer as follows.\n",
    "```Python\n",
    "from Fuzzer import RandomFuzzer\n",
    "blackbox_gen_fuzzer = RandomFuzzer(min_length=4, max_length=4, char_start=32, char_range=96)\n",
    "```\n",
    "You can execute your own code by opening this chapter as Jupyter notebook.\n",
    "\n",
    "***Read***. This is the high-level view how AFL works, one of the most successful vulnerability detection tools. If you are interested in the technical details, have a look at: https://github.com/mirrorer/afl/blob/master/docs/technical_details.txt"
   ]
  },
  {
   "cell_type": "markdown",
   "metadata": {
    "slideshow": {
     "slide_type": "slide"
    }
   },
   "source": [
    "## Boosted Greybox Fuzzing\n",
    "\n",
    "Our boosted greybox fuzzer assigns more energy to seeds that promise to achieve more coverage. We change the power schedule such that seeds that exercise \"unusual\" paths have more energy. With *unusual paths*, we mean paths that are not exercised very often by generated inputs.\n",
    "\n",
    "In order to identify which path is exercised by an input, we leverage the function `getPathID` from the section on [trace coverage](WhenIsEnough.ipynb#Trace-Coverage)."
   ]
  },
  {
   "cell_type": "code",
   "execution_count": 36,
   "metadata": {
    "execution": {
     "iopub.execute_input": "2022-08-06T22:47:47.751443Z",
     "iopub.status.busy": "2022-08-06T22:47:47.751025Z",
     "iopub.status.idle": "2022-08-06T22:47:47.752211Z",
     "shell.execute_reply": "2022-08-06T22:47:47.752408Z"
    },
    "slideshow": {
     "slide_type": "skip"
    }
   },
   "outputs": [],
   "source": [
    "import pickle   # serializes an object by producing a byte array from all the information in the object\n",
    "import hashlib  # produces a 128-bit hash value from a byte array"
   ]
  },
  {
   "cell_type": "markdown",
   "metadata": {
    "slideshow": {
     "slide_type": "fragment"
    }
   },
   "source": [
    "The function `getPathID` returns a unique hash for a coverage set."
   ]
  },
  {
   "cell_type": "code",
   "execution_count": 37,
   "metadata": {
    "execution": {
     "iopub.execute_input": "2022-08-06T22:47:47.754892Z",
     "iopub.status.busy": "2022-08-06T22:47:47.754519Z",
     "iopub.status.idle": "2022-08-06T22:47:47.755938Z",
     "shell.execute_reply": "2022-08-06T22:47:47.756180Z"
    },
    "slideshow": {
     "slide_type": "subslide"
    }
   },
   "outputs": [],
   "source": [
    "def getPathID(coverage: Any) -> str:\n",
    "    \"\"\"Returns a unique hash for the covered statements\"\"\"\n",
    "    pickled = pickle.dumps(coverage)\n",
    "    return hashlib.md5(pickled).hexdigest()"
   ]
  },
  {
   "cell_type": "markdown",
   "metadata": {
    "slideshow": {
     "slide_type": "fragment"
    }
   },
   "source": [
    "There are several ways to assign energy based on how unusual the exercised path is. In this case, we implement an _exponential power schedule_ which computes the energy $e(s)$ for a seed $s$ as follows\n",
    "$$e(s) = \\frac{1}{f(p(s))^a}$$\n",
    "where \n",
    "* $p(s)$ returns the ID of the path exercised by $s$, \n",
    "* $f(p)$ returns the number of times the path $p$ is exercised by generated inputs, and \n",
    "* $a$ is a given exponent."
   ]
  },
  {
   "cell_type": "code",
   "execution_count": 38,
   "metadata": {
    "execution": {
     "iopub.execute_input": "2022-08-06T22:47:47.759879Z",
     "iopub.status.busy": "2022-08-06T22:47:47.758999Z",
     "iopub.status.idle": "2022-08-06T22:47:47.761067Z",
     "shell.execute_reply": "2022-08-06T22:47:47.762936Z"
    },
    "slideshow": {
     "slide_type": "subslide"
    }
   },
   "outputs": [],
   "source": [
    "class AFLFastSchedule(PowerSchedule):\n",
    "    \"\"\"Exponential power schedule as implemented in AFL\"\"\"\n",
    "\n",
    "    def __init__(self, exponent: float) -> None:\n",
    "        self.exponent = exponent\n",
    "\n",
    "    def assignEnergy(self, population: Sequence[Seed]) -> None:\n",
    "        \"\"\"Assign exponential energy inversely proportional to path frequency\"\"\"\n",
    "        for seed in population:\n",
    "            seed.energy = 1 / (self.path_frequency[getPathID(seed.coverage)] ** self.exponent)"
   ]
  },
  {
   "cell_type": "markdown",
   "metadata": {
    "slideshow": {
     "slide_type": "fragment"
    }
   },
   "source": [
    "In the greybox fuzzer, lets keep track of the number of times $f(p)$ each path $p$ is exercised, and update the power schedule."
   ]
  },
  {
   "cell_type": "code",
   "execution_count": 39,
   "metadata": {
    "execution": {
     "iopub.execute_input": "2022-08-06T22:47:47.766797Z",
     "iopub.status.busy": "2022-08-06T22:47:47.766253Z",
     "iopub.status.idle": "2022-08-06T22:47:47.767344Z",
     "shell.execute_reply": "2022-08-06T22:47:47.767533Z"
    },
    "slideshow": {
     "slide_type": "subslide"
    }
   },
   "outputs": [],
   "source": [
    "class CountingGreyboxFuzzer(GreyboxFuzzer):\n",
    "    \"\"\"Count how often individual paths are exercised.\"\"\"\n",
    "\n",
    "    def reset(self):\n",
    "        \"\"\"Reset path frequency\"\"\"\n",
    "        super().reset()\n",
    "        self.schedule.path_frequency = {}\n",
    "\n",
    "    def run(self, runner: FunctionCoverageRunner) -> Tuple[Any, str]:  # type: ignore\n",
    "        \"\"\"Inform scheduler about path frequency\"\"\"\n",
    "        result, outcome = super().run(runner)\n",
    "\n",
    "        path_id = getPathID(runner.coverage())\n",
    "        if path_id not in self.schedule.path_frequency:\n",
    "            self.schedule.path_frequency[path_id] = 1\n",
    "        else:\n",
    "            self.schedule.path_frequency[path_id] += 1\n",
    "\n",
    "        return(result, outcome)"
   ]
  },
  {
   "cell_type": "markdown",
   "metadata": {
    "slideshow": {
     "slide_type": "subslide"
    }
   },
   "source": [
    "Okay, lets run our boosted greybox fuzzer $n=10k$ times on our simple [example](#Runner-and-Sample-Program). We set the exponentent of our exponential power schedule to $a=5$."
   ]
  },
  {
   "cell_type": "code",
   "execution_count": 40,
   "metadata": {
    "execution": {
     "iopub.execute_input": "2022-08-06T22:47:47.848002Z",
     "iopub.status.busy": "2022-08-06T22:47:47.807858Z",
     "iopub.status.idle": "2022-08-06T22:47:47.997100Z",
     "shell.execute_reply": "2022-08-06T22:47:47.997352Z"
    },
    "slideshow": {
     "slide_type": "fragment"
    }
   },
   "outputs": [
    {
     "data": {
      "text/plain": [
       "'It took the fuzzer w/ exponential schedule 0.23 seconds to generate and execute 10000 inputs.'"
      ]
     },
     "execution_count": 40,
     "metadata": {},
     "output_type": "execute_result"
    }
   ],
   "source": [
    "n = 10000\n",
    "seed_input = \"good\"\n",
    "fast_schedule = AFLFastSchedule(5)\n",
    "fast_fuzzer = CountingGreyboxFuzzer([seed_input], Mutator(), fast_schedule)\n",
    "start = time.time()\n",
    "fast_fuzzer.runs(FunctionCoverageRunner(crashme), trials=n)\n",
    "end = time.time()\n",
    "\n",
    "\"It took the fuzzer w/ exponential schedule %0.2f seconds to generate and execute %d inputs.\" % (end - start, n)"
   ]
  },
  {
   "cell_type": "code",
   "execution_count": 41,
   "metadata": {
    "execution": {
     "iopub.execute_input": "2022-08-06T22:47:47.999269Z",
     "iopub.status.busy": "2022-08-06T22:47:47.998968Z",
     "iopub.status.idle": "2022-08-06T22:47:48.000269Z",
     "shell.execute_reply": "2022-08-06T22:47:48.000470Z"
    },
    "slideshow": {
     "slide_type": "skip"
    }
   },
   "outputs": [],
   "source": [
    "import numpy as np"
   ]
  },
  {
   "cell_type": "code",
   "execution_count": 42,
   "metadata": {
    "execution": {
     "iopub.execute_input": "2022-08-06T22:47:48.016929Z",
     "iopub.status.busy": "2022-08-06T22:47:48.016389Z",
     "iopub.status.idle": "2022-08-06T22:47:48.046133Z",
     "shell.execute_reply": "2022-08-06T22:47:48.046381Z"
    },
    "slideshow": {
     "slide_type": "subslide"
    }
   },
   "outputs": [
    {
     "data": {
      "image/png": "[encoded data removed]",
      "text/plain": [
       "<Figure size 432x288 with 1 Axes>"
      ]
     },
     "metadata": {
      "needs_background": "light"
     },
     "output_type": "display_data"
    }
   ],
   "source": [
    "x_axis = np.arange(len(fast_schedule.path_frequency))\n",
    "y_axis = list(fast_schedule.path_frequency.values())\n",
    "\n",
    "plt.bar(x_axis, y_axis)\n",
    "plt.xticks(x_axis)\n",
    "plt.ylim(0, n)\n",
    "# plt.yscale(\"log\")\n",
    "# plt.yticks([10,100,1000,10000])\n",
    "plt;"
   ]
  },
  {
   "cell_type": "code",
   "execution_count": 43,
   "metadata": {
    "execution": {
     "iopub.execute_input": "2022-08-06T22:47:48.049066Z",
     "iopub.status.busy": "2022-08-06T22:47:48.048579Z",
     "iopub.status.idle": "2022-08-06T22:47:48.050820Z",
     "shell.execute_reply": "2022-08-06T22:47:48.051017Z"
    },
    "slideshow": {
     "slide_type": "subslide"
    }
   },
   "outputs": [
    {
     "name": "stdout",
     "output_type": "stream",
     "text": [
      "             path id 'p'           : path frequency 'f(p)'\n"
     ]
    },
    {
     "data": {
      "text/plain": [
       "{'b1adf366b7fffe7d67ab5fac04025a1b': 5612,\n",
       " '3cd6693d53f12a532c9a3db092f07aaf': 2607,\n",
       " '685a403cdf830c2e0fe13a1dd451d1fa': 1105,\n",
       " 'd845a3dd4ca498bf2abb7dac59d74d03': 457,\n",
       " 'e4077400a8ce452c65dbf7cf8bec01d4': 219}"
      ]
     },
     "execution_count": 43,
     "metadata": {},
     "output_type": "execute_result"
    }
   ],
   "source": [
    "print(\"             path id 'p'           : path frequency 'f(p)'\")\n",
    "fast_schedule.path_frequency"
   ]
  },
  {
   "cell_type": "markdown",
   "metadata": {
    "slideshow": {
     "slide_type": "fragment"
    }
   },
   "source": [
    "How does it compare to our greybox fuzzer with the classical power schedule?"
   ]
  },
  {
   "cell_type": "code",
   "execution_count": 44,
   "metadata": {
    "execution": {
     "iopub.execute_input": "2022-08-06T22:47:48.141993Z",
     "iopub.status.busy": "2022-08-06T22:47:48.102713Z",
     "iopub.status.idle": "2022-08-06T22:47:48.211710Z",
     "shell.execute_reply": "2022-08-06T22:47:48.211908Z"
    },
    "slideshow": {
     "slide_type": "subslide"
    }
   },
   "outputs": [
    {
     "data": {
      "text/plain": [
       "'It took the fuzzer w/ original schedule 0.16 seconds to generate and execute 10000 inputs.'"
      ]
     },
     "execution_count": 44,
     "metadata": {},
     "output_type": "execute_result"
    }
   ],
   "source": [
    "seed_input = \"good\"\n",
    "orig_schedule = PowerSchedule()\n",
    "orig_fuzzer = CountingGreyboxFuzzer([seed_input], Mutator(), orig_schedule)\n",
    "start = time.time()\n",
    "orig_fuzzer.runs(FunctionCoverageRunner(crashme), trials=n)\n",
    "end = time.time()\n",
    "\n",
    "\"It took the fuzzer w/ original schedule %0.2f seconds to generate and execute %d inputs.\" % (end - start, n)"
   ]
  },
  {
   "cell_type": "code",
   "execution_count": 45,
   "metadata": {
    "execution": {
     "iopub.execute_input": "2022-08-06T22:47:48.227234Z",
     "iopub.status.busy": "2022-08-06T22:47:48.217893Z",
     "iopub.status.idle": "2022-08-06T22:47:48.253371Z",
     "shell.execute_reply": "2022-08-06T22:47:48.253797Z"
    },
    "slideshow": {
     "slide_type": "subslide"
    }
   },
   "outputs": [
    {
     "data": {
      "image/png": "[encoded data removed]",
      "text/plain": [
       "<Figure size 432x288 with 1 Axes>"
      ]
     },
     "metadata": {
      "needs_background": "light"
     },
     "output_type": "display_data"
    }
   ],
   "source": [
    "x_axis = np.arange(len(orig_schedule.path_frequency))\n",
    "y_axis = list(orig_schedule.path_frequency.values())\n",
    "\n",
    "plt.bar(x_axis, y_axis)\n",
    "plt.xticks(x_axis)\n",
    "plt.ylim(0, n)\n",
    "# plt.yscale(\"log\")\n",
    "# plt.yticks([10,100,1000,10000])\n",
    "plt;"
   ]
  },
  {
   "cell_type": "code",
   "execution_count": 46,
   "metadata": {
    "execution": {
     "iopub.execute_input": "2022-08-06T22:47:48.256560Z",
     "iopub.status.busy": "2022-08-06T22:47:48.256134Z",
     "iopub.status.idle": "2022-08-06T22:47:48.258191Z",
     "shell.execute_reply": "2022-08-06T22:47:48.258415Z"
    },
    "slideshow": {
     "slide_type": "subslide"
    }
   },
   "outputs": [
    {
     "name": "stdout",
     "output_type": "stream",
     "text": [
      "             path id 'p'           : path frequency 'f(p)'\n"
     ]
    },
    {
     "data": {
      "text/plain": [
       "{'b1adf366b7fffe7d67ab5fac04025a1b': 6581,\n",
       " '3cd6693d53f12a532c9a3db092f07aaf': 2379,\n",
       " '685a403cdf830c2e0fe13a1dd451d1fa': 737,\n",
       " 'd845a3dd4ca498bf2abb7dac59d74d03': 241,\n",
       " 'e4077400a8ce452c65dbf7cf8bec01d4': 62}"
      ]
     },
     "execution_count": 46,
     "metadata": {},
     "output_type": "execute_result"
    }
   ],
   "source": [
    "print(\"             path id 'p'           : path frequency 'f(p)'\")\n",
    "orig_schedule.path_frequency"
   ]
  },
  {
   "cell_type": "markdown",
   "metadata": {
    "slideshow": {
     "slide_type": "subslide"
    }
   },
   "source": [
    "The exponential power schedule shaves some of the executions of the \"high-frequency path\" off and adds them to the lower-frequency paths. The path executed least often is either not at all exercised using the traditional power schedule or it is exercised much less often.\n",
    "\n",
    "Let's have a look at the energy that is assigned to the discovered seeds."
   ]
  },
  {
   "cell_type": "code",
   "execution_count": 47,
   "metadata": {
    "execution": {
     "iopub.execute_input": "2022-08-06T22:47:48.261149Z",
     "iopub.status.busy": "2022-08-06T22:47:48.260790Z",
     "iopub.status.idle": "2022-08-06T22:47:48.262030Z",
     "shell.execute_reply": "2022-08-06T22:47:48.262247Z"
    },
    "slideshow": {
     "slide_type": "subslide"
    }
   },
   "outputs": [
    {
     "name": "stdout",
     "output_type": "stream",
     "text": [
      "'b1adf366b7fffe7d67ab5fac04025a1b', 0.20000, 'good'\n",
      "'3cd6693d53f12a532c9a3db092f07aaf', 0.20000, 'bgI/d'\n",
      "'685a403cdf830c2e0fe13a1dd451d1fa', 0.20000, 'baI/dt'\n",
      "'d845a3dd4ca498bf2abb7dac59d74d03', 0.20000, 'badtuS'\n",
      "'e4077400a8ce452c65dbf7cf8bec01d4', 0.20000, 'bad!`tuS'\n"
     ]
    }
   ],
   "source": [
    "orig_energy = orig_schedule.normalizedEnergy(orig_fuzzer.population)\n",
    "\n",
    "for (seed, norm_energy) in zip(orig_fuzzer.population, orig_energy):\n",
    "    print(\"'%s', %0.5f, %s\" % (getPathID(seed.coverage),  # type: ignore\n",
    "                               norm_energy, repr(seed.data)))"
   ]
  },
  {
   "cell_type": "code",
   "execution_count": 48,
   "metadata": {
    "execution": {
     "iopub.execute_input": "2022-08-06T22:47:48.264932Z",
     "iopub.status.busy": "2022-08-06T22:47:48.264437Z",
     "iopub.status.idle": "2022-08-06T22:47:48.265995Z",
     "shell.execute_reply": "2022-08-06T22:47:48.266325Z"
    },
    "slideshow": {
     "slide_type": "subslide"
    }
   },
   "outputs": [
    {
     "name": "stdout",
     "output_type": "stream",
     "text": [
      "'b1adf366b7fffe7d67ab5fac04025a1b', 0.00000, 'good'\n",
      "'3cd6693d53f12a532c9a3db092f07aaf', 0.00000, 'bnd'\n",
      "'685a403cdf830c2e0fe13a1dd451d1fa', 0.00030, 'ba.'\n",
      "'d845a3dd4ca498bf2abb7dac59d74d03', 0.02464, 'bad.'\n",
      "'e4077400a8ce452c65dbf7cf8bec01d4', 0.97506, 'bad!\\\\.'\n"
     ]
    }
   ],
   "source": [
    "fast_energy = fast_schedule.normalizedEnergy(fast_fuzzer.population)\n",
    "\n",
    "for (seed, norm_energy) in zip(fast_fuzzer.population, fast_energy):\n",
    "    print(\"'%s', %0.5f, %s\" % (getPathID(seed.coverage),  # type: ignore\n",
    "                               norm_energy, repr(seed.data)))"
   ]
  },
  {
   "cell_type": "markdown",
   "metadata": {
    "slideshow": {
     "slide_type": "subslide"
    }
   },
   "source": [
    "Exactly. Our new exponential power schedule assigns most energy to the seed exercising the lowest-frequency path.\n",
    "\n",
    "Let's compare them in terms of coverage achieved over time for our simple [example](#Runner-and-Sample-Program)."
   ]
  },
  {
   "cell_type": "code",
   "execution_count": 49,
   "metadata": {
    "execution": {
     "iopub.execute_input": "2022-08-06T22:47:48.324685Z",
     "iopub.status.busy": "2022-08-06T22:47:48.308603Z",
     "iopub.status.idle": "2022-08-06T22:47:48.388854Z",
     "shell.execute_reply": "2022-08-06T22:47:48.389193Z"
    },
    "slideshow": {
     "slide_type": "fragment"
    }
   },
   "outputs": [
    {
     "data": {
      "image/png": "[encoded data removed]",
      "text/plain": [
       "<Figure size 432x288 with 1 Axes>"
      ]
     },
     "metadata": {
      "needs_background": "light"
     },
     "output_type": "display_data"
    }
   ],
   "source": [
    "_, orig_coverage = population_coverage(orig_fuzzer.inputs, crashme)\n",
    "_, fast_coverage = population_coverage(fast_fuzzer.inputs, crashme)\n",
    "line_orig, = plt.plot(orig_coverage, label=\"Original Greybox Fuzzer\")\n",
    "line_fast, = plt.plot(fast_coverage, label=\"Boosted Greybox Fuzzer\")\n",
    "plt.legend(handles=[line_orig, line_fast])\n",
    "plt.title('Coverage over time')\n",
    "plt.xlabel('# of inputs')\n",
    "plt.ylabel('lines covered');"
   ]
  },
  {
   "cell_type": "markdown",
   "metadata": {
    "slideshow": {
     "slide_type": "subslide"
    }
   },
   "source": [
    "As expected, the boosted greybox fuzzer (with the exponential power schedule) achieves coverage much faster.\n",
    "\n",
    "***Summary***. By fuzzing seeds more often that exercise low-frequency paths, we can explore program paths in a much more efficient manner.\n",
    "\n",
    "***Try it***. You can try other exponents for the fast power schedule, or change the power schedule entirely. Note that a large exponent can lead to overflows and imprecisions in the floating point arithmetic producing unexpected results. You can execute your own code by opening this chapter as Jupyter notebook.\n",
    "\n",
    "***Read***. You can find out more about fuzzer boosting in the paper \"[Coverage-based Greybox Fuzzing as Markov Chain](https://mboehme.github.io/paper/CCS16.pdf)\" \\cite{boehme2018greybox} and check out the implementation into AFL at [http://github.com/mboehme/aflfast]."
   ]
  },
  {
   "cell_type": "markdown",
   "metadata": {
    "slideshow": {
     "slide_type": "slide"
    }
   },
   "source": [
    "## A Complex Example: HTMLParser\n",
    "\n",
    "Let's compare the three fuzzers on a more realistic example, the Python [HTML parser](https://docs.python.org/3/library/html.parser.html). We run all three fuzzers $n=5k$ times on the HTMLParser, starting with the \"empty\" seed."
   ]
  },
  {
   "cell_type": "code",
   "execution_count": 50,
   "metadata": {
    "execution": {
     "iopub.execute_input": "2022-08-06T22:47:48.392912Z",
     "iopub.status.busy": "2022-08-06T22:47:48.392448Z",
     "iopub.status.idle": "2022-08-06T22:47:48.393937Z",
     "shell.execute_reply": "2022-08-06T22:47:48.394145Z"
    },
    "slideshow": {
     "slide_type": "skip"
    }
   },
   "outputs": [],
   "source": [
    "from html.parser import HTMLParser"
   ]
  },
  {
   "cell_type": "code",
   "execution_count": 51,
   "metadata": {
    "execution": {
     "iopub.execute_input": "2022-08-06T22:47:48.396492Z",
     "iopub.status.busy": "2022-08-06T22:47:48.396119Z",
     "iopub.status.idle": "2022-08-06T22:47:48.397622Z",
     "shell.execute_reply": "2022-08-06T22:47:48.397857Z"
    },
    "slideshow": {
     "slide_type": "fragment"
    }
   },
   "outputs": [],
   "source": [
    "# create wrapper function\n",
    "def my_parser(inp: str) -> None:\n",
    "    parser = HTMLParser()  # resets the HTMLParser object for every fuzz input\n",
    "    parser.feed(inp)"
   ]
  },
  {
   "cell_type": "code",
   "execution_count": 52,
   "metadata": {
    "execution": {
     "iopub.execute_input": "2022-08-06T22:47:48.400882Z",
     "iopub.status.busy": "2022-08-06T22:47:48.399471Z",
     "iopub.status.idle": "2022-08-06T22:47:48.402401Z",
     "shell.execute_reply": "2022-08-06T22:47:48.402768Z"
    },
    "slideshow": {
     "slide_type": "fragment"
    }
   },
   "outputs": [],
   "source": [
    "n = 5000\n",
    "seed_input = \" \"  # empty seed\n",
    "blackbox_fuzzer = AdvancedMutationFuzzer([seed_input], Mutator(), PowerSchedule())\n",
    "greybox_fuzzer = GreyboxFuzzer([seed_input], Mutator(), PowerSchedule())\n",
    "boosted_fuzzer = CountingGreyboxFuzzer([seed_input], Mutator(), AFLFastSchedule(5))"
   ]
  },
  {
   "cell_type": "code",
   "execution_count": 53,
   "metadata": {
    "execution": {
     "iopub.execute_input": "2022-08-06T22:47:48.414908Z",
     "iopub.status.busy": "2022-08-06T22:47:48.414465Z",
     "iopub.status.idle": "2022-08-06T22:48:00.163398Z",
     "shell.execute_reply": "2022-08-06T22:48:00.163602Z"
    },
    "slideshow": {
     "slide_type": "subslide"
    }
   },
   "outputs": [
    {
     "data": {
      "text/plain": [
       "'It took all three fuzzers 11.76 seconds to generate and execute 5000 inputs.'"
      ]
     },
     "execution_count": 53,
     "metadata": {},
     "output_type": "execute_result"
    }
   ],
   "source": [
    "start = time.time()\n",
    "blackbox_fuzzer.runs(FunctionCoverageRunner(my_parser), trials=n)\n",
    "greybox_fuzzer.runs(FunctionCoverageRunner(my_parser), trials=n)\n",
    "boosted_fuzzer.runs(FunctionCoverageRunner(my_parser), trials=n)\n",
    "end = time.time()\n",
    "\n",
    "\"It took all three fuzzers %0.2f seconds to generate and execute %d inputs.\" % (end - start, n)"
   ]
  },
  {
   "cell_type": "markdown",
   "metadata": {
    "slideshow": {
     "slide_type": "fragment"
    }
   },
   "source": [
    "How do the fuzzers compare in terms of coverage over time?"
   ]
  },
  {
   "cell_type": "code",
   "execution_count": 54,
   "metadata": {
    "execution": {
     "iopub.execute_input": "2022-08-06T22:48:00.251073Z",
     "iopub.status.busy": "2022-08-06T22:48:00.208225Z",
     "iopub.status.idle": "2022-08-06T22:48:00.837137Z",
     "shell.execute_reply": "2022-08-06T22:48:00.837337Z"
    },
    "slideshow": {
     "slide_type": "subslide"
    }
   },
   "outputs": [
    {
     "data": {
      "image/png": "[encoded data removed]",
      "text/plain": [
       "<Figure size 432x288 with 1 Axes>"
      ]
     },
     "metadata": {
      "needs_background": "light"
     },
     "output_type": "display_data"
    }
   ],
   "source": [
    "_, black_coverage = population_coverage(blackbox_fuzzer.inputs, my_parser)\n",
    "_, grey_coverage = population_coverage(greybox_fuzzer.inputs, my_parser)\n",
    "_, boost_coverage = population_coverage(boosted_fuzzer.inputs, my_parser)\n",
    "line_black, = plt.plot(black_coverage, label=\"Blackbox Fuzzer\")\n",
    "line_grey, = plt.plot(grey_coverage, label=\"Greybox Fuzzer\")\n",
    "line_boost, = plt.plot(boost_coverage, label=\"Boosted Greybox Fuzzer\")\n",
    "plt.legend(handles=[line_boost, line_grey, line_black])\n",
    "plt.title('Coverage over time')\n",
    "plt.xlabel('# of inputs')\n",
    "plt.ylabel('lines covered');"
   ]
  },
  {
   "cell_type": "markdown",
   "metadata": {
    "slideshow": {
     "slide_type": "fragment"
    }
   },
   "source": [
    "Both greybox fuzzers clearly outperform the blackbox fuzzer. The reason is that the greybox fuzzer \"discovers\" interesting inputs along the way. Let's have a look at the last 10 inputs generated by the greybox versus blackbox fuzzer."
   ]
  },
  {
   "cell_type": "code",
   "execution_count": 55,
   "metadata": {
    "execution": {
     "iopub.execute_input": "2022-08-06T22:48:00.839616Z",
     "iopub.status.busy": "2022-08-06T22:48:00.839312Z",
     "iopub.status.idle": "2022-08-06T22:48:00.840834Z",
     "shell.execute_reply": "2022-08-06T22:48:00.841142Z"
    },
    "slideshow": {
     "slide_type": "subslide"
    }
   },
   "outputs": [
    {
     "data": {
      "text/plain": [
       "[' H', '', '', '`', ' i', '', '(', 'j ', '', '0']"
      ]
     },
     "execution_count": 55,
     "metadata": {},
     "output_type": "execute_result"
    }
   ],
   "source": [
    "blackbox_fuzzer.inputs[-10:]"
   ]
  },
  {
   "cell_type": "code",
   "execution_count": 56,
   "metadata": {
    "execution": {
     "iopub.execute_input": "2022-08-06T22:48:00.843796Z",
     "iopub.status.busy": "2022-08-06T22:48:00.843329Z",
     "iopub.status.idle": "2022-08-06T22:48:00.845194Z",
     "shell.execute_reply": "2022-08-06T22:48:00.845412Z"
    },
    "slideshow": {
     "slide_type": "fragment"
    }
   },
   "outputs": [
    {
     "data": {
      "text/plain": [
       "['m*\\x08',\n",
       " 'r.5<)h',\n",
       " '</F/aG>iq',\n",
       " '\\x11G',\n",
       " '5<n5',\n",
       " 'i&<d$',\n",
       " '/Wi<`<4Gxs',\n",
       " '4$<?B\\x16g',\n",
       " '$G<!?Bg',\n",
       " '\\x06!|$v']"
      ]
     },
     "execution_count": 56,
     "metadata": {},
     "output_type": "execute_result"
    }
   ],
   "source": [
    "greybox_fuzzer.inputs[-10:]"
   ]
  },
  {
   "cell_type": "markdown",
   "metadata": {
    "slideshow": {
     "slide_type": "subslide"
    }
   },
   "source": [
    "The greybox fuzzer executes much more complicated inputs, many of which include special characters such as opening and closing brackets and chevrons (i.e., `<, >, [, ]`). Yet, many important keywords, such as `<html>` are still missing. \n",
    "\n",
    "To inform the fuzzer about these important keywords, we will need [grammars](Grammars.ipynb); in the section on [smart greybox fuzzing](LangFuzzer.ipynb), we combine them with the techniques above.\n",
    "\n",
    "***Try it***. You can re-run these experiments to understand the variance of fuzzing experiments. Sometimes, the fuzzer that we claim to be superior does not seem to outperform the inferior fuzzer. In order to do this, you just need to open this chapter as Jupyter notebook."
   ]
  },
  {
   "cell_type": "markdown",
   "metadata": {
    "slideshow": {
     "slide_type": "slide"
    }
   },
   "source": [
    "## Directed Greybox Fuzzing\n",
    "\n",
    "Sometimes, you just want the fuzzer to reach some dangerous location in the source code. This could be a location where you expect a buffer overflow. Or you want to test a recent change in your code base. How do we direct the fuzzer towards these locations?\n",
    "\n",
    "In this chapter, we introduce directed greybox fuzzing as an optimization problem."
   ]
  },
  {
   "cell_type": "markdown",
   "metadata": {
    "slideshow": {
     "slide_type": "subslide"
    }
   },
   "source": [
    "### Solving the Maze\n",
    "\n",
    "To provide a meaningful example where you can easily change the code complexity and target location, we generate the maze source code from the maze provided as string. This example is loosely based on an old [blog post](https://feliam.wordpress.com/2010/10/07/the-symbolic-maze/) on symbolic execution by Felipe Andres Manzano (Quick shout-out!).\n",
    "\n",
    "You simply specify the maze as a string. Like so."
   ]
  },
  {
   "cell_type": "code",
   "execution_count": 57,
   "metadata": {
    "execution": {
     "iopub.execute_input": "2022-08-06T22:48:00.847693Z",
     "iopub.status.busy": "2022-08-06T22:48:00.847349Z",
     "iopub.status.idle": "2022-08-06T22:48:00.848843Z",
     "shell.execute_reply": "2022-08-06T22:48:00.849118Z"
    },
    "slideshow": {
     "slide_type": "subslide"
    }
   },
   "outputs": [],
   "source": [
    "maze_string = \"\"\"\n",
    "+-+-----+\n",
    "|X|     |\n",
    "| | --+ |\n",
    "| |   | |\n",
    "| +-- | |\n",
    "|     |#|\n",
    "+-----+-+\n",
    "\"\"\""
   ]
  },
  {
   "cell_type": "markdown",
   "metadata": {
    "slideshow": {
     "slide_type": "fragment"
    }
   },
   "source": [
    "The code is generated using the function `generate_maze_code()`. We'll hide the implementation and instead explain what it does. If you are interested in the coding, go [here](ControlFlow.ipynb#Example:-Maze)."
   ]
  },
  {
   "cell_type": "code",
   "execution_count": 58,
   "metadata": {
    "execution": {
     "iopub.execute_input": "2022-08-06T22:48:00.851333Z",
     "iopub.status.busy": "2022-08-06T22:48:00.851000Z",
     "iopub.status.idle": "2022-08-06T22:48:00.972583Z",
     "shell.execute_reply": "2022-08-06T22:48:00.972789Z"
    },
    "slideshow": {
     "slide_type": "skip"
    }
   },
   "outputs": [],
   "source": [
    "from ControlFlow import generate_maze_code"
   ]
  },
  {
   "cell_type": "code",
   "execution_count": 59,
   "metadata": {
    "execution": {
     "iopub.execute_input": "2022-08-06T22:48:00.975056Z",
     "iopub.status.busy": "2022-08-06T22:48:00.974649Z",
     "iopub.status.idle": "2022-08-06T22:48:00.976050Z",
     "shell.execute_reply": "2022-08-06T22:48:00.976249Z"
    },
    "slideshow": {
     "slide_type": "fragment"
    }
   },
   "outputs": [],
   "source": [
    "# ignore\n",
    "def maze(s: str) -> str:\n",
    "    return \"\"  # Will be overwritten by exec()"
   ]
  },
  {
   "cell_type": "code",
   "execution_count": 60,
   "metadata": {
    "execution": {
     "iopub.execute_input": "2022-08-06T22:48:00.978085Z",
     "iopub.status.busy": "2022-08-06T22:48:00.977805Z",
     "iopub.status.idle": "2022-08-06T22:48:00.979296Z",
     "shell.execute_reply": "2022-08-06T22:48:00.979542Z"
    },
    "slideshow": {
     "slide_type": "subslide"
    }
   },
   "outputs": [],
   "source": [
    "# ignore\n",
    "def target_tile() -> str:\n",
    "    return ' '  # Will be overwritten by exec()"
   ]
  },
  {
   "cell_type": "code",
   "execution_count": 61,
   "metadata": {
    "execution": {
     "iopub.execute_input": "2022-08-06T22:48:00.981607Z",
     "iopub.status.busy": "2022-08-06T22:48:00.981241Z",
     "iopub.status.idle": "2022-08-06T22:48:00.982643Z",
     "shell.execute_reply": "2022-08-06T22:48:00.982832Z"
    },
    "slideshow": {
     "slide_type": "fragment"
    }
   },
   "outputs": [],
   "source": [
    "maze_code = generate_maze_code(maze_string)"
   ]
  },
  {
   "cell_type": "code",
   "execution_count": 62,
   "metadata": {
    "execution": {
     "iopub.execute_input": "2022-08-06T22:48:00.986892Z",
     "iopub.status.busy": "2022-08-06T22:48:00.986586Z",
     "iopub.status.idle": "2022-08-06T22:48:00.987998Z",
     "shell.execute_reply": "2022-08-06T22:48:00.988209Z"
    },
    "slideshow": {
     "slide_type": "fragment"
    }
   },
   "outputs": [],
   "source": [
    "exec(maze_code)"
   ]
  },
  {
   "cell_type": "markdown",
   "metadata": {
    "slideshow": {
     "slide_type": "fragment"
    }
   },
   "source": [
    "The objective is to get the \"X\" to the \"#\" by providing inputs `D` for down, `U` for up, `L` for left, and `R` for right."
   ]
  },
  {
   "cell_type": "code",
   "execution_count": 63,
   "metadata": {
    "execution": {
     "iopub.execute_input": "2022-08-06T22:48:00.990254Z",
     "iopub.status.busy": "2022-08-06T22:48:00.989914Z",
     "iopub.status.idle": "2022-08-06T22:48:00.991375Z",
     "shell.execute_reply": "2022-08-06T22:48:00.991642Z"
    },
    "slideshow": {
     "slide_type": "subslide"
    }
   },
   "outputs": [
    {
     "name": "stdout",
     "output_type": "stream",
     "text": [
      "SOLVED\n",
      "\n",
      "+-+-----+\n",
      "| |     |\n",
      "| | --+ |\n",
      "| |   | |\n",
      "| +-- | |\n",
      "|     |X|\n",
      "+-----+-+\n",
      "\n"
     ]
    }
   ],
   "source": [
    "print(maze(\"DDDDRRRRUULLUURRRRDDDD\"))  # Appending one more 'D', you have reached the target."
   ]
  },
  {
   "cell_type": "markdown",
   "metadata": {
    "slideshow": {
     "slide_type": "subslide"
    }
   },
   "source": [
    "Each character in `maze_string` represents a tile. For each tile, a tile-function is generated. \n",
    "* If the current tile is \"benign\" (` `), the tile-function corresponding to the next input character (D, U, L, R) is called. Unexpected input characters are ignored. If no more input characters are left, it returns \"VALID\" and the current maze state.\n",
    "* If the current tile is a \"trap\" (`+`,`|`,`-`), it returns \"INVALID\" and the current maze state.\n",
    "* If the current tile is the \"target\" (`#`), it returns \"SOLVED\" and the current maze state.\n",
    "\n",
    "***Try it***. You can test other sequences of input characters, or even change the maze entirely. In order to execute your own code, you just need to open this chapter as Jupyter notebook.\n",
    "\n",
    "To get an idea of the generated code, lets look at the static [call graph](https://en.wikipedia.org/wiki/Call_graph). A call graph shows the order in which functions can be executed."
   ]
  },
  {
   "cell_type": "code",
   "execution_count": 64,
   "metadata": {
    "execution": {
     "iopub.execute_input": "2022-08-06T22:48:00.993636Z",
     "iopub.status.busy": "2022-08-06T22:48:00.993328Z",
     "iopub.status.idle": "2022-08-06T22:48:00.994557Z",
     "shell.execute_reply": "2022-08-06T22:48:00.994799Z"
    },
    "slideshow": {
     "slide_type": "skip"
    }
   },
   "outputs": [],
   "source": [
    "from ControlFlow import callgraph"
   ]
  },
  {
   "cell_type": "code",
   "execution_count": 65,
   "metadata": {
    "execution": {
     "iopub.execute_input": "2022-08-06T22:48:00.996635Z",
     "iopub.status.busy": "2022-08-06T22:48:00.996257Z",
     "iopub.status.idle": "2022-08-06T22:48:01.520569Z",
     "shell.execute_reply": "2022-08-06T22:48:01.520782Z"
    },
    "slideshow": {
     "slide_type": "subslide"
    }
   },
   "outputs": [
    {
     "data": {
      "image/svg+xml": [
       "<?xml version=\"1.0\" encoding=\"UTF-8\" standalone=\"no\"?>\n",
       "<!DOCTYPE svg PUBLIC \"-//W3C//DTD SVG 1.1//EN\"\n",
       " \"http://www.w3.org/Graphics/SVG/1.1/DTD/svg11.dtd\">\n",
       "<!-- Generated by graphviz version 5.0.0 (20220707.1540)\n",
       " -->\n",
       "<!-- Title: G Pages: 1 -->\n",
       "<svg width=\"3839pt\" height=\"2287pt\"\n",
       " viewBox=\"0.00 0.00 3838.72 2286.50\" xmlns=\"http://www.w3.org/2000/svg\" xmlns:xlink=\"http://www.w3.org/1999/xlink\">\n",
       "<g id=\"graph0\" class=\"graph\" transform=\"scale(1 1) rotate(0) translate(4 2282.5)\">\n",
       "<title>G</title>\n",
       "<polygon fill=\"white\" stroke=\"transparent\" points=\"-4,4 -4,-2282.5 3834.72,-2282.5 3834.72,4 -4,4\"/>\n",
       "<g id=\"clust1\" class=\"cluster\">\n",
       "<title>cluster_G</title>\n",
       "<path fill=\"#808080\" fill-opacity=\"0.094118\" stroke=\"black\" d=\"M30.72,-8C30.72,-8 3810.72,-8 3810.72,-8 3816.72,-8 3822.72,-14 3822.72,-20 3822.72,-20 3822.72,-2258.5 3822.72,-2258.5 3822.72,-2264.5 3816.72,-2270.5 3810.72,-2270.5 3810.72,-2270.5 30.72,-2270.5 30.72,-2270.5 24.72,-2270.5 18.72,-2264.5 18.72,-2258.5 18.72,-2258.5 18.72,-20 18.72,-20 18.72,-14 24.72,-8 30.72,-8\"/>\n",
       "</g>\n",
       "<g id=\"clust2\" class=\"cluster\">\n",
       "<title>cluster_callgraphX</title>\n",
       "<path fill=\"#808080\" fill-opacity=\"0.094118\" stroke=\"black\" d=\"M38.72,-16C38.72,-16 3706.72,-16 3706.72,-16 3712.72,-16 3718.72,-22 3718.72,-28 3718.72,-28 3718.72,-2250.5 3718.72,-2250.5 3718.72,-2256.5 3712.72,-2262.5 3706.72,-2262.5 3706.72,-2262.5 38.72,-2262.5 38.72,-2262.5 32.72,-2262.5 26.72,-2256.5 26.72,-2250.5 26.72,-2250.5 26.72,-28 26.72,-28 26.72,-22 32.72,-16 38.72,-16\"/>\n",
       "<text text-anchor=\"middle\" x=\"1872.72\" y=\"-2247.3\" font-family=\"Times,serif\" font-size=\"14.00\">callgraph</text>\n",
       "</g>\n",
       "<!-- callgraphX -->\n",
       "<g id=\"node1\" class=\"node\">\n",
       "<title>callgraphX</title>\n",
       "<ellipse fill=\"#ffffff\" fill-opacity=\"0.698039\" stroke=\"black\" cx=\"3770.72\" cy=\"-1935.41\" rx=\"43.59\" ry=\"18\"/>\n",
       "<text text-anchor=\"middle\" x=\"3770.72\" y=\"-1931.71\" font-family=\"Times,serif\" font-size=\"14.00\" fill=\"#000000\">callgraph</text>\n",
       "</g>\n",
       "<!-- callgraphX__maze -->\n",
       "<g id=\"node2\" class=\"node\">\n",
       "<title>callgraphX__maze</title>\n",
       "<ellipse fill=\"#fecccc\" fill-opacity=\"0.698039\" stroke=\"black\" cx=\"1672.72\" cy=\"-2204.63\" rx=\"77.56\" ry=\"26.74\"/>\n",
       "<text text-anchor=\"middle\" x=\"1672.72\" y=\"-2208.43\" font-family=\"Times,serif\" font-size=\"14.00\" fill=\"#000000\">maze</text>\n",
       "<text text-anchor=\"middle\" x=\"1672.72\" y=\"-2193.43\" font-family=\"Times,serif\" font-size=\"14.00\" fill=\"#000000\">(callgraph.py:84)</text>\n",
       "</g>\n",
       "<!-- callgraphX&#45;&gt;callgraphX__maze -->\n",
       "<g id=\"edge66\" class=\"edge\">\n",
       "<title>callgraphX&#45;&gt;callgraphX__maze</title>\n",
       "<path fill=\"none\" stroke=\"#838b8b\" stroke-dasharray=\"5,2\" d=\"M3748.07,-1950.89C3740.31,-1955.23 3731.39,-1959.55 3722.72,-1962.28 3346.03,-2081.19 2097.83,-2174.29 1758.51,-2197.84\"/>\n",
       "<polygon fill=\"#838b8b\" stroke=\"#838b8b\" points=\"1758.23,-2194.36 1748.5,-2198.54 1758.72,-2201.34 1758.23,-2194.36\"/>\n",
       "</g>\n",
       "<!-- callgraphX__print_maze -->\n",
       "<g id=\"node3\" class=\"node\">\n",
       "<title>callgraphX__print_maze</title>\n",
       "<ellipse fill=\"#fecccc\" fill-opacity=\"0.698039\" stroke=\"black\" cx=\"1484.72\" cy=\"-50.87\" rx=\"73.58\" ry=\"26.74\"/>\n",
       "<text text-anchor=\"middle\" x=\"1484.72\" y=\"-54.67\" font-family=\"Times,serif\" font-size=\"14.00\" fill=\"#000000\">print_maze</text>\n",
       "<text text-anchor=\"middle\" x=\"1484.72\" y=\"-39.67\" font-family=\"Times,serif\" font-size=\"14.00\" fill=\"#000000\">(callgraph.py:2)</text>\n",
       "</g>\n",
       "<!-- callgraphX&#45;&gt;callgraphX__print_maze -->\n",
       "<g id=\"edge31\" class=\"edge\">\n",
       "<title>callgraphX&#45;&gt;callgraphX__print_maze</title>\n",
       "<path fill=\"none\" stroke=\"#838b8b\" stroke-dasharray=\"5,2\" d=\"M3767.35,-1917.36C3761.41,-1885.82 3749.72,-1816.19 3749.72,-1756.93 3749.72,-1756.93 3749.72,-1756.93 3749.72,-229.35 3749.72,-176.27 3761.26,-146.8 3719.72,-113.74 3676.84,-79.6 1968.9,-57.53 1568.23,-52.82\"/>\n",
       "<polygon fill=\"#838b8b\" stroke=\"#838b8b\" points=\"1568.2,-49.32 1558.16,-52.7 1568.12,-56.32 1568.2,-49.32\"/>\n",
       "</g>\n",
       "<!-- callgraphX__target_tile -->\n",
       "<g id=\"node4\" class=\"node\">\n",
       "<title>callgraphX__target_tile</title>\n",
       "<ellipse fill=\"#fecccc\" fill-opacity=\"0.698039\" stroke=\"black\" cx=\"3627.72\" cy=\"-2204.63\" rx=\"82.96\" ry=\"26.74\"/>\n",
       "<text text-anchor=\"middle\" x=\"3627.72\" y=\"-2208.43\" font-family=\"Times,serif\" font-size=\"14.00\" fill=\"#000000\">target_tile</text>\n",
       "<text text-anchor=\"middle\" x=\"3627.72\" y=\"-2193.43\" font-family=\"Times,serif\" font-size=\"14.00\" fill=\"#000000\">(callgraph.py:358)</text>\n",
       "</g>\n",
       "<!-- callgraphX&#45;&gt;callgraphX__target_tile -->\n",
       "<g id=\"edge19\" class=\"edge\">\n",
       "<title>callgraphX&#45;&gt;callgraphX__target_tile</title>\n",
       "<path fill=\"none\" stroke=\"#838b8b\" stroke-dasharray=\"5,2\" d=\"M3761.68,-1953.3C3738.65,-1996.35 3677.39,-2110.83 3646.33,-2168.87\"/>\n",
       "<polygon fill=\"#838b8b\" stroke=\"#838b8b\" points=\"3643.07,-2167.54 3641.44,-2178.01 3649.24,-2170.85 3643.07,-2167.54\"/>\n",
       "</g>\n",
       "<!-- callgraphX__tile_1_0 -->\n",
       "<g id=\"node5\" class=\"node\">\n",
       "<title>callgraphX__tile_1_0</title>\n",
       "<ellipse fill=\"#fecccc\" fill-opacity=\"0.698039\" stroke=\"black\" cx=\"3458.72\" cy=\"-140.61\" rx=\"77.56\" ry=\"26.74\"/>\n",
       "<text text-anchor=\"middle\" x=\"3458.72\" y=\"-144.41\" font-family=\"Times,serif\" font-size=\"14.00\" fill=\"#000000\">tile_1_0</text>\n",
       "<text text-anchor=\"middle\" x=\"3458.72\" y=\"-129.41\" font-family=\"Times,serif\" font-size=\"14.00\" fill=\"#000000\">(callgraph.py:26)</text>\n",
       "</g>\n",
       "<!-- callgraphX&#45;&gt;callgraphX__tile_1_0 -->\n",
       "<g id=\"edge46\" class=\"edge\">\n",
       "<title>callgraphX&#45;&gt;callgraphX__tile_1_0</title>\n",
       "<path fill=\"none\" stroke=\"#838b8b\" stroke-dasharray=\"5,2\" d=\"M3746.69,-1920.17C3692.35,-1887.14 3564.72,-1804.49 3564.72,-1756.93 3564.72,-1756.93 3564.72,-1756.93 3564.72,-319.09 3564.72,-267.28 3576.87,-247.62 3549.72,-203.48 3540.86,-189.06 3527.23,-177.21 3513.19,-167.88\"/>\n",
       "<polygon fill=\"#838b8b\" stroke=\"#838b8b\" points=\"3514.77,-164.74 3504.44,-162.39 3511.05,-170.67 3514.77,-164.74\"/>\n",
       "</g>\n",
       "<!-- callgraphX__tile_1_1 -->\n",
       "<g id=\"node6\" class=\"node\">\n",
       "<title>callgraphX__tile_1_1</title>\n",
       "<ellipse fill=\"#fecccc\" fill-opacity=\"0.698039\" stroke=\"black\" cx=\"923.72\" cy=\"-1127.75\" rx=\"77.56\" ry=\"26.74\"/>\n",
       "<text text-anchor=\"middle\" x=\"923.72\" y=\"-1131.55\" font-family=\"Times,serif\" font-size=\"14.00\" fill=\"#000000\">tile_1_1</text>\n",
       "<text text-anchor=\"middle\" x=\"923.72\" y=\"-1116.55\" font-family=\"Times,serif\" font-size=\"14.00\" fill=\"#000000\">(callgraph.py:31)</text>\n",
       "</g>\n",
       "<!-- callgraphX&#45;&gt;callgraphX__tile_1_1 -->\n",
       "<g id=\"edge12\" class=\"edge\">\n",
       "<title>callgraphX&#45;&gt;callgraphX__tile_1_1</title>\n",
       "<path fill=\"none\" stroke=\"#838b8b\" stroke-dasharray=\"5,2\" d=\"M3748.7,-1919.67C3740.84,-1915.21 3731.71,-1910.87 3722.72,-1908.54 3646.46,-1888.78 943.51,-1927.15 886.72,-1872.54 849.64,-1836.88 880.72,-1808.38 880.72,-1756.93 880.72,-1756.93 880.72,-1756.93 880.72,-1306.23 880.72,-1255.88 897.27,-1199.69 909.84,-1164.29\"/>\n",
       "<polygon fill=\"#838b8b\" stroke=\"#838b8b\" points=\"913.29,-1165.03 913.42,-1154.44 906.72,-1162.64 913.29,-1165.03\"/>\n",
       "</g>\n",
       "<!-- callgraphX__tile_1_2 -->\n",
       "<g id=\"node7\" class=\"node\">\n",
       "<title>callgraphX__tile_1_2</title>\n",
       "<ellipse fill=\"#fecccc\" fill-opacity=\"0.698039\" stroke=\"black\" cx=\"3632.72\" cy=\"-140.61\" rx=\"77.56\" ry=\"26.74\"/>\n",
       "<text text-anchor=\"middle\" x=\"3632.72\" y=\"-144.41\" font-family=\"Times,serif\" font-size=\"14.00\" fill=\"#000000\">tile_1_2</text>\n",
       "<text text-anchor=\"middle\" x=\"3632.72\" y=\"-129.41\" font-family=\"Times,serif\" font-size=\"14.00\" fill=\"#000000\">(callgraph.py:36)</text>\n",
       "</g>\n",
       "<!-- callgraphX&#45;&gt;callgraphX__tile_1_2 -->\n",
       "<g id=\"edge14\" class=\"edge\">\n",
       "<title>callgraphX&#45;&gt;callgraphX__tile_1_2</title>\n",
       "<path fill=\"none\" stroke=\"#838b8b\" stroke-dasharray=\"5,2\" d=\"M3757.68,-1917.88C3735.24,-1887.74 3691.72,-1821.01 3691.72,-1756.93 3691.72,-1756.93 3691.72,-1756.93 3691.72,-319.09 3691.72,-267.45 3668.95,-211.47 3651.7,-176.48\"/>\n",
       "<polygon fill=\"#838b8b\" stroke=\"#838b8b\" points=\"3654.64,-174.53 3647.01,-167.18 3648.39,-177.69 3654.64,-174.53\"/>\n",
       "</g>\n",
       "<!-- callgraphX__tile_1_3 -->\n",
       "<g id=\"node8\" class=\"node\">\n",
       "<title>callgraphX__tile_1_3</title>\n",
       "<ellipse fill=\"#fecccc\" fill-opacity=\"0.698039\" stroke=\"black\" cx=\"1077.72\" cy=\"-499.57\" rx=\"77.56\" ry=\"26.74\"/>\n",
       "<text text-anchor=\"middle\" x=\"1077.72\" y=\"-503.37\" font-family=\"Times,serif\" font-size=\"14.00\" fill=\"#000000\">tile_1_3</text>\n",
       "<text text-anchor=\"middle\" x=\"1077.72\" y=\"-488.37\" font-family=\"Times,serif\" font-size=\"14.00\" fill=\"#000000\">(callgraph.py:41)</text>\n",
       "</g>\n",
       "<!-- callgraphX&#45;&gt;callgraphX__tile_1_3 -->\n",
       "<g id=\"edge20\" class=\"edge\">\n",
       "<title>callgraphX&#45;&gt;callgraphX__tile_1_3</title>\n",
       "<path fill=\"none\" stroke=\"#838b8b\" stroke-dasharray=\"5,2\" d=\"M3748.71,-1919.67C3740.85,-1915.2 3731.71,-1910.87 3722.72,-1908.54 3640.56,-1887.29 731.26,-1928.81 667.72,-1872.54 653.25,-1859.72 626.72,-1684.05 626.72,-1397.97 626.72,-1397.97 626.72,-1397.97 626.72,-678.05 626.72,-619.1 643.37,-596.15 691.72,-562.44 704.14,-553.78 886.77,-527.14 996.3,-511.79\"/>\n",
       "<polygon fill=\"#838b8b\" stroke=\"#838b8b\" points=\"996.92,-515.23 1006.34,-510.38 995.95,-508.3 996.92,-515.23\"/>\n",
       "</g>\n",
       "<!-- callgraphX__tile_1_4 -->\n",
       "<g id=\"node9\" class=\"node\">\n",
       "<title>callgraphX__tile_1_4</title>\n",
       "<ellipse fill=\"#fecccc\" fill-opacity=\"0.698039\" stroke=\"black\" cx=\"2057.72\" cy=\"-679.05\" rx=\"77.56\" ry=\"26.74\"/>\n",
       "<text text-anchor=\"middle\" x=\"2057.72\" y=\"-682.85\" font-family=\"Times,serif\" font-size=\"14.00\" fill=\"#000000\">tile_1_4</text>\n",
       "<text text-anchor=\"middle\" x=\"2057.72\" y=\"-667.85\" font-family=\"Times,serif\" font-size=\"14.00\" fill=\"#000000\">(callgraph.py:46)</text>\n",
       "</g>\n",
       "<!-- callgraphX&#45;&gt;callgraphX__tile_1_4 -->\n",
       "<g id=\"edge13\" class=\"edge\">\n",
       "<title>callgraphX&#45;&gt;callgraphX__tile_1_4</title>\n",
       "<path fill=\"none\" stroke=\"#838b8b\" stroke-dasharray=\"5,2\" d=\"M3748.65,-1919.88C3740.78,-1915.43 3731.66,-1911.05 3722.72,-1908.54 3649.23,-1887.94 3093.38,-1923.69 3036.72,-1872.54 2998.13,-1837.69 3018.72,-1808.93 3018.72,-1756.93 3018.72,-1756.93 3018.72,-1756.93 3018.72,-857.53 3018.72,-772.3 2945.84,-771.01 2865.72,-741.92 2713.89,-686.79 2298.72,-734.45 2139.72,-705.92 2133.46,-704.8 2127,-703.33 2120.59,-701.66\"/>\n",
       "<polygon fill=\"#838b8b\" stroke=\"#838b8b\" points=\"2121.17,-698.19 2110.6,-698.9 2119.31,-704.94 2121.17,-698.19\"/>\n",
       "</g>\n",
       "<!-- callgraphX__tile_1_5 -->\n",
       "<g id=\"node10\" class=\"node\">\n",
       "<title>callgraphX__tile_1_5</title>\n",
       "<ellipse fill=\"#fecccc\" fill-opacity=\"0.698039\" stroke=\"black\" cx=\"1117.72\" cy=\"-589.31\" rx=\"77.56\" ry=\"26.74\"/>\n",
       "<text text-anchor=\"middle\" x=\"1117.72\" y=\"-593.11\" font-family=\"Times,serif\" font-size=\"14.00\" fill=\"#000000\">tile_1_5</text>\n",
       "<text text-anchor=\"middle\" x=\"1117.72\" y=\"-578.11\" font-family=\"Times,serif\" font-size=\"14.00\" fill=\"#000000\">(callgraph.py:51)</text>\n",
       "</g>\n",
       "<!-- callgraphX&#45;&gt;callgraphX__tile_1_5 -->\n",
       "<g id=\"edge18\" class=\"edge\">\n",
       "<title>callgraphX&#45;&gt;callgraphX__tile_1_5</title>\n",
       "<path fill=\"none\" stroke=\"#838b8b\" stroke-dasharray=\"5,2\" d=\"M3748.71,-1919.67C3740.85,-1915.2 3731.71,-1910.87 3722.72,-1908.54 3641.64,-1887.57 770.12,-1928.42 707.72,-1872.54 666.3,-1835.44 666.72,-1514.86 666.72,-1397.97 666.72,-1397.97 666.72,-1397.97 666.72,-767.79 666.72,-716.31 638.04,-689.28 673.72,-652.18 729.77,-593.92 956.53,-632.43 1035.72,-616.18 1041.87,-614.92 1048.2,-613.38 1054.5,-611.68\"/>\n",
       "<polygon fill=\"#838b8b\" stroke=\"#838b8b\" points=\"1055.66,-614.99 1064.33,-608.9 1053.75,-608.25 1055.66,-614.99\"/>\n",
       "</g>\n",
       "<!-- callgraphX__tile_1_6 -->\n",
       "<g id=\"node11\" class=\"node\">\n",
       "<title>callgraphX__tile_1_6</title>\n",
       "<ellipse fill=\"#fecccc\" fill-opacity=\"0.698039\" stroke=\"black\" cx=\"803.72\" cy=\"-499.57\" rx=\"77.56\" ry=\"26.74\"/>\n",
       "<text text-anchor=\"middle\" x=\"803.72\" y=\"-503.37\" font-family=\"Times,serif\" font-size=\"14.00\" fill=\"#000000\">tile_1_6</text>\n",
       "<text text-anchor=\"middle\" x=\"803.72\" y=\"-488.37\" font-family=\"Times,serif\" font-size=\"14.00\" fill=\"#000000\">(callgraph.py:56)</text>\n",
       "</g>\n",
       "<!-- callgraphX&#45;&gt;callgraphX__tile_1_6 -->\n",
       "<g id=\"edge22\" class=\"edge\">\n",
       "<title>callgraphX&#45;&gt;callgraphX__tile_1_6</title>\n",
       "<path fill=\"none\" stroke=\"#838b8b\" stroke-dasharray=\"5,2\" d=\"M3748.71,-1919.67C3740.85,-1915.2 3731.71,-1910.86 3722.72,-1908.54 3640.08,-1887.17 713.63,-1929.14 649.72,-1872.54 639.93,-1863.87 606.72,-1652.8 606.72,-1487.71 606.72,-1487.71 606.72,-1487.71 606.72,-678.05 606.72,-625.08 600.32,-601.85 635.72,-562.44 643.1,-554.23 694.04,-536.07 737.91,-521.54\"/>\n",
       "<polygon fill=\"#838b8b\" stroke=\"#838b8b\" points=\"739.03,-524.86 747.43,-518.41 736.84,-518.21 739.03,-524.86\"/>\n",
       "</g>\n",
       "<!-- callgraphX__tile_1_7 -->\n",
       "<g id=\"node12\" class=\"node\">\n",
       "<title>callgraphX__tile_1_7</title>\n",
       "<ellipse fill=\"#fecccc\" fill-opacity=\"0.698039\" stroke=\"black\" cx=\"1695.72\" cy=\"-409.83\" rx=\"77.56\" ry=\"26.74\"/>\n",
       "<text text-anchor=\"middle\" x=\"1695.72\" y=\"-413.63\" font-family=\"Times,serif\" font-size=\"14.00\" fill=\"#000000\">tile_1_7</text>\n",
       "<text text-anchor=\"middle\" x=\"1695.72\" y=\"-398.63\" font-family=\"Times,serif\" font-size=\"14.00\" fill=\"#000000\">(callgraph.py:61)</text>\n",
       "</g>\n",
       "<!-- callgraphX&#45;&gt;callgraphX__tile_1_7 -->\n",
       "<g id=\"edge25\" class=\"edge\">\n",
       "<title>callgraphX&#45;&gt;callgraphX__tile_1_7</title>\n",
       "<path fill=\"none\" stroke=\"#838b8b\" stroke-dasharray=\"5,2\" d=\"M3748.65,-1919.89C3740.78,-1915.44 3731.65,-1911.06 3722.72,-1908.54 3653,-1888.89 3123.74,-1922.97 3071.72,-1872.54 3034.69,-1836.64 3061.72,-1808.51 3061.72,-1756.93 3061.72,-1756.93 3061.72,-1756.93 3061.72,-588.31 3061.72,-562.4 3065.94,-490.08 3046.72,-472.7 2995.45,-426.32 1871.25,-445.87 1802.72,-436.7 1790.32,-435.04 1777.26,-432.54 1764.69,-429.73\"/>\n",
       "<polygon fill=\"#838b8b\" stroke=\"#838b8b\" points=\"1765.27,-426.27 1754.73,-427.42 1763.69,-433.09 1765.27,-426.27\"/>\n",
       "</g>\n",
       "<!-- callgraphX__tile_1_8 -->\n",
       "<g id=\"node13\" class=\"node\">\n",
       "<title>callgraphX__tile_1_8</title>\n",
       "<ellipse fill=\"#fecccc\" fill-opacity=\"0.698039\" stroke=\"black\" cx=\"509.72\" cy=\"-140.61\" rx=\"77.56\" ry=\"26.74\"/>\n",
       "<text text-anchor=\"middle\" x=\"509.72\" y=\"-144.41\" font-family=\"Times,serif\" font-size=\"14.00\" fill=\"#000000\">tile_1_8</text>\n",
       "<text text-anchor=\"middle\" x=\"509.72\" y=\"-129.41\" font-family=\"Times,serif\" font-size=\"14.00\" fill=\"#000000\">(callgraph.py:66)</text>\n",
       "</g>\n",
       "<!-- callgraphX&#45;&gt;callgraphX__tile_1_8 -->\n",
       "<g id=\"edge28\" class=\"edge\">\n",
       "<title>callgraphX&#45;&gt;callgraphX__tile_1_8</title>\n",
       "<path fill=\"none\" stroke=\"#838b8b\" stroke-dasharray=\"5,2\" d=\"M3748.71,-1919.67C3740.85,-1915.2 3731.71,-1910.86 3722.72,-1908.54 3639,-1886.9 676.53,-1927.45 609.72,-1872.54 537.69,-1813.33 566.72,-1760.44 566.72,-1667.19 566.72,-1667.19 566.72,-1667.19 566.72,-319.09 566.72,-267.62 544.72,-211.6 528.06,-176.55\"/>\n",
       "<polygon fill=\"#838b8b\" stroke=\"#838b8b\" points=\"531.05,-174.7 523.52,-167.24 524.76,-177.76 531.05,-174.7\"/>\n",
       "</g>\n",
       "<!-- callgraphX__tile_2_0 -->\n",
       "<g id=\"node14\" class=\"node\">\n",
       "<title>callgraphX__tile_2_0</title>\n",
       "<ellipse fill=\"#fecccc\" fill-opacity=\"0.698039\" stroke=\"black\" cx=\"1692.72\" cy=\"-1217.49\" rx=\"77.56\" ry=\"26.74\"/>\n",
       "<text text-anchor=\"middle\" x=\"1692.72\" y=\"-1221.29\" font-family=\"Times,serif\" font-size=\"14.00\" fill=\"#000000\">tile_2_0</text>\n",
       "<text text-anchor=\"middle\" x=\"1692.72\" y=\"-1206.29\" font-family=\"Times,serif\" font-size=\"14.00\" fill=\"#000000\">(callgraph.py:71)</text>\n",
       "</g>\n",
       "<!-- callgraphX&#45;&gt;callgraphX__tile_2_0 -->\n",
       "<g id=\"edge5\" class=\"edge\">\n",
       "<title>callgraphX&#45;&gt;callgraphX__tile_2_0</title>\n",
       "<path fill=\"none\" stroke=\"#838b8b\" stroke-dasharray=\"5,2\" d=\"M3748.68,-1919.78C3740.81,-1915.32 3731.68,-1910.96 3722.72,-1908.54 3665.41,-1893.05 2698.31,-1912.85 2654.72,-1872.54 2616.76,-1837.44 2641.72,-1808.64 2641.72,-1756.93 2641.72,-1756.93 2641.72,-1756.93 2641.72,-1395.97 2641.72,-1372.49 2659.52,-1344.23 2488.72,-1280.36 2480.47,-1277.27 1982.64,-1240.02 1778.56,-1224.85\"/>\n",
       "<polygon fill=\"#838b8b\" stroke=\"#838b8b\" points=\"1778.71,-1221.36 1768.48,-1224.11 1778.2,-1228.34 1778.71,-1221.36\"/>\n",
       "</g>\n",
       "<!-- callgraphX__tile_2_1 -->\n",
       "<g id=\"node15\" class=\"node\">\n",
       "<title>callgraphX__tile_2_1</title>\n",
       "<ellipse fill=\"#fecccc\" fill-opacity=\"0.698039\" stroke=\"black\" cx=\"485.72\" cy=\"-2114.89\" rx=\"77.56\" ry=\"26.74\"/>\n",
       "<text text-anchor=\"middle\" x=\"485.72\" y=\"-2118.69\" font-family=\"Times,serif\" font-size=\"14.00\" fill=\"#000000\">tile_2_1</text>\n",
       "<text text-anchor=\"middle\" x=\"485.72\" y=\"-2103.69\" font-family=\"Times,serif\" font-size=\"14.00\" fill=\"#000000\">(callgraph.py:76)</text>\n",
       "</g>\n",
       "<!-- callgraphX&#45;&gt;callgraphX__tile_2_1 -->\n",
       "<g id=\"edge1\" class=\"edge\">\n",
       "<title>callgraphX&#45;&gt;callgraphX__tile_2_1</title>\n",
       "<path fill=\"none\" stroke=\"#838b8b\" stroke-dasharray=\"5,2\" d=\"M3748.67,-1951.01C3740.8,-1955.47 3731.67,-1959.83 3722.72,-1962.28 3680.42,-1973.86 610.93,-2080.49 567.72,-2088.02 561.45,-2089.12 554.99,-2090.56 548.58,-2092.22\"/>\n",
       "<polygon fill=\"#838b8b\" stroke=\"#838b8b\" points=\"547.3,-2088.94 538.59,-2094.96 549.16,-2095.69 547.3,-2088.94\"/>\n",
       "</g>\n",
       "<!-- callgraphX__tile_2_2 -->\n",
       "<g id=\"node16\" class=\"node\">\n",
       "<title>callgraphX__tile_2_2</title>\n",
       "<ellipse fill=\"#fecccc\" fill-opacity=\"0.698039\" stroke=\"black\" cx=\"1838.72\" cy=\"-768.79\" rx=\"77.56\" ry=\"26.74\"/>\n",
       "<text text-anchor=\"middle\" x=\"1838.72\" y=\"-772.59\" font-family=\"Times,serif\" font-size=\"14.00\" fill=\"#000000\">tile_2_2</text>\n",
       "<text text-anchor=\"middle\" x=\"1838.72\" y=\"-757.59\" font-family=\"Times,serif\" font-size=\"14.00\" fill=\"#000000\">(callgraph.py:87)</text>\n",
       "</g>\n",
       "<!-- callgraphX&#45;&gt;callgraphX__tile_2_2 -->\n",
       "<g id=\"edge62\" class=\"edge\">\n",
       "<title>callgraphX&#45;&gt;callgraphX__tile_2_2</title>\n",
       "<path fill=\"none\" stroke=\"#838b8b\" stroke-dasharray=\"5,2\" d=\"M3748.67,-1919.81C3740.8,-1915.36 3731.67,-1910.99 3722.72,-1908.54 3627.59,-1882.48 2910.42,-1936.96 2835.72,-1872.54 2796.12,-1838.38 2813.72,-1809.24 2813.72,-1756.93 2813.72,-1756.93 2813.72,-1756.93 2813.72,-947.27 2813.72,-745.99 2116.97,-840.44 1920.72,-795.66 1914.71,-794.29 1908.49,-792.68 1902.31,-790.96\"/>\n",
       "<polygon fill=\"#838b8b\" stroke=\"#838b8b\" points=\"1903.21,-787.58 1892.64,-788.16 1901.27,-794.3 1903.21,-787.58\"/>\n",
       "</g>\n",
       "<!-- callgraphX__tile_2_3 -->\n",
       "<g id=\"node17\" class=\"node\">\n",
       "<title>callgraphX__tile_2_3</title>\n",
       "<ellipse fill=\"#fecccc\" fill-opacity=\"0.698039\" stroke=\"black\" cx=\"1617.72\" cy=\"-858.53\" rx=\"77.56\" ry=\"26.74\"/>\n",
       "<text text-anchor=\"middle\" x=\"1617.72\" y=\"-862.33\" font-family=\"Times,serif\" font-size=\"14.00\" fill=\"#000000\">tile_2_3</text>\n",
       "<text text-anchor=\"middle\" x=\"1617.72\" y=\"-847.33\" font-family=\"Times,serif\" font-size=\"14.00\" fill=\"#000000\">(callgraph.py:92)</text>\n",
       "</g>\n",
       "<!-- callgraphX&#45;&gt;callgraphX__tile_2_3 -->\n",
       "<g id=\"edge59\" class=\"edge\">\n",
       "<title>callgraphX&#45;&gt;callgraphX__tile_2_3</title>\n",
       "<path fill=\"none\" stroke=\"#838b8b\" stroke-dasharray=\"5,2\" d=\"M3748.67,-1919.81C3740.8,-1915.35 3731.67,-1910.99 3722.72,-1908.54 3624.69,-1881.74 2883.74,-1941.12 2808.72,-1872.54 2770.48,-1837.58 2793.72,-1808.75 2793.72,-1756.93 2793.72,-1756.93 2793.72,-1756.93 2793.72,-1037.01 2793.72,-985.14 2816.26,-956.12 2777.72,-921.4 2733.2,-881.29 1758.79,-895.51 1699.72,-885.4 1693.45,-884.33 1686.99,-882.89 1680.58,-881.25\"/>\n",
       "<polygon fill=\"#838b8b\" stroke=\"#838b8b\" points=\"1681.15,-877.78 1670.58,-878.51 1679.3,-884.53 1681.15,-877.78\"/>\n",
       "</g>\n",
       "<!-- callgraphX__tile_2_4 -->\n",
       "<g id=\"node18\" class=\"node\">\n",
       "<title>callgraphX__tile_2_4</title>\n",
       "<ellipse fill=\"#fecccc\" fill-opacity=\"0.698039\" stroke=\"black\" cx=\"1617.72\" cy=\"-768.79\" rx=\"82.96\" ry=\"26.74\"/>\n",
       "<text text-anchor=\"middle\" x=\"1617.72\" y=\"-772.59\" font-family=\"Times,serif\" font-size=\"14.00\" fill=\"#000000\">tile_2_4</text>\n",
       "<text text-anchor=\"middle\" x=\"1617.72\" y=\"-757.59\" font-family=\"Times,serif\" font-size=\"14.00\" fill=\"#000000\">(callgraph.py:100)</text>\n",
       "</g>\n",
       "<!-- callgraphX&#45;&gt;callgraphX__tile_2_4 -->\n",
       "<g id=\"edge55\" class=\"edge\">\n",
       "<title>callgraphX&#45;&gt;callgraphX__tile_2_4</title>\n",
       "<path fill=\"none\" stroke=\"#838b8b\" stroke-dasharray=\"5,2\" d=\"M3748.7,-1919.67C3740.84,-1915.2 3731.71,-1910.87 3722.72,-1908.54 3643.2,-1887.96 827.51,-1926.68 765.72,-1872.54 730.88,-1842.01 726.72,-1463.26 726.72,-1039.01 726.72,-1039.01 726.72,-1039.01 726.72,-947.27 726.72,-765.46 1352.28,-830.54 1530.72,-795.66 1537.27,-794.38 1544.03,-792.82 1550.75,-791.1\"/>\n",
       "<polygon fill=\"#838b8b\" stroke=\"#838b8b\" points=\"1551.79,-794.45 1560.55,-788.48 1549.99,-787.68 1551.79,-794.45\"/>\n",
       "</g>\n",
       "<!-- callgraphX__tile_2_5 -->\n",
       "<g id=\"node19\" class=\"node\">\n",
       "<title>callgraphX__tile_2_5</title>\n",
       "<ellipse fill=\"#fecccc\" fill-opacity=\"0.698039\" stroke=\"black\" cx=\"1800.72\" cy=\"-679.05\" rx=\"82.96\" ry=\"26.74\"/>\n",
       "<text text-anchor=\"middle\" x=\"1800.72\" y=\"-682.85\" font-family=\"Times,serif\" font-size=\"14.00\" fill=\"#000000\">tile_2_5</text>\n",
       "<text text-anchor=\"middle\" x=\"1800.72\" y=\"-667.85\" font-family=\"Times,serif\" font-size=\"14.00\" fill=\"#000000\">(callgraph.py:108)</text>\n",
       "</g>\n",
       "<!-- callgraphX&#45;&gt;callgraphX__tile_2_5 -->\n",
       "<g id=\"edge47\" class=\"edge\">\n",
       "<title>callgraphX&#45;&gt;callgraphX__tile_2_5</title>\n",
       "<path fill=\"none\" stroke=\"#838b8b\" stroke-dasharray=\"5,2\" d=\"M3748.65,-1919.87C3740.79,-1915.41 3731.66,-1911.04 3722.72,-1908.54 3569.71,-1865.81 3157.59,-1928.03 3008.72,-1872.54 2930.51,-1843.39 2860.72,-1840.4 2860.72,-1756.93 2860.72,-1756.93 2860.72,-1756.93 2860.72,-857.53 2860.72,-831.62 2864.83,-759.42 2845.72,-741.92 2809.84,-709.06 2019.15,-710.59 1970.72,-705.92 1941.74,-703.13 1910.17,-698.71 1882.19,-694.31\"/>\n",
       "<polygon fill=\"#838b8b\" stroke=\"#838b8b\" points=\"1882.48,-690.81 1872.06,-692.69 1881.38,-697.72 1882.48,-690.81\"/>\n",
       "</g>\n",
       "<!-- callgraphX__tile_2_6 -->\n",
       "<g id=\"node20\" class=\"node\">\n",
       "<title>callgraphX__tile_2_6</title>\n",
       "<ellipse fill=\"#fecccc\" fill-opacity=\"0.698039\" stroke=\"black\" cx=\"1554.72\" cy=\"-589.31\" rx=\"82.96\" ry=\"26.74\"/>\n",
       "<text text-anchor=\"middle\" x=\"1554.72\" y=\"-593.11\" font-family=\"Times,serif\" font-size=\"14.00\" fill=\"#000000\">tile_2_6</text>\n",
       "<text text-anchor=\"middle\" x=\"1554.72\" y=\"-578.11\" font-family=\"Times,serif\" font-size=\"14.00\" fill=\"#000000\">(callgraph.py:116)</text>\n",
       "</g>\n",
       "<!-- callgraphX&#45;&gt;callgraphX__tile_2_6 -->\n",
       "<g id=\"edge44\" class=\"edge\">\n",
       "<title>callgraphX&#45;&gt;callgraphX__tile_2_6</title>\n",
       "<path fill=\"none\" stroke=\"#838b8b\" stroke-dasharray=\"5,2\" d=\"M3748.71,-1919.67C3740.85,-1915.2 3731.71,-1910.87 3722.72,-1908.54 3642.12,-1887.69 787.74,-1928.09 725.72,-1872.54 712.67,-1860.85 686.72,-1690.03 686.72,-1397.97 686.72,-1397.97 686.72,-1397.97 686.72,-767.79 686.72,-655.48 599.93,-732.05 948.72,-652.18 1044.42,-630.27 1320.07,-607.59 1464.31,-596.79\"/>\n",
       "<polygon fill=\"#838b8b\" stroke=\"#838b8b\" points=\"1464.75,-600.27 1474.46,-596.03 1464.23,-593.29 1464.75,-600.27\"/>\n",
       "</g>\n",
       "<!-- callgraphX__tile_2_7 -->\n",
       "<g id=\"node21\" class=\"node\">\n",
       "<title>callgraphX__tile_2_7</title>\n",
       "<ellipse fill=\"#fecccc\" fill-opacity=\"0.698039\" stroke=\"black\" cx=\"1554.72\" cy=\"-499.57\" rx=\"82.96\" ry=\"26.74\"/>\n",
       "<text text-anchor=\"middle\" x=\"1554.72\" y=\"-503.37\" font-family=\"Times,serif\" font-size=\"14.00\" fill=\"#000000\">tile_2_7</text>\n",
       "<text text-anchor=\"middle\" x=\"1554.72\" y=\"-488.37\" font-family=\"Times,serif\" font-size=\"14.00\" fill=\"#000000\">(callgraph.py:124)</text>\n",
       "</g>\n",
       "<!-- callgraphX&#45;&gt;callgraphX__tile_2_7 -->\n",
       "<g id=\"edge42\" class=\"edge\">\n",
       "<title>callgraphX&#45;&gt;callgraphX__tile_2_7</title>\n",
       "<path fill=\"none\" stroke=\"#838b8b\" stroke-dasharray=\"5,2\" d=\"M3748.71,-1919.67C3740.85,-1915.2 3731.71,-1910.87 3722.72,-1908.54 3641.04,-1887.42 749.19,-1928.13 685.72,-1872.54 669.16,-1858.04 646.72,-1674.91 646.72,-1397.97 646.72,-1397.97 646.72,-1397.97 646.72,-678.05 646.72,-666.25 644.4,-660.55 652.72,-652.18 774.5,-529.77 860.7,-592.56 1030.72,-562.44 1181.96,-535.65 1359.87,-517.41 1464.63,-508.02\"/>\n",
       "<polygon fill=\"#838b8b\" stroke=\"#838b8b\" points=\"1465.2,-511.48 1474.85,-507.11 1464.58,-504.51 1465.2,-511.48\"/>\n",
       "</g>\n",
       "<!-- callgraphX__tile_2_8 -->\n",
       "<g id=\"node22\" class=\"node\">\n",
       "<title>callgraphX__tile_2_8</title>\n",
       "<ellipse fill=\"#fecccc\" fill-opacity=\"0.698039\" stroke=\"black\" cx=\"1516.72\" cy=\"-409.83\" rx=\"82.96\" ry=\"26.74\"/>\n",
       "<text text-anchor=\"middle\" x=\"1516.72\" y=\"-413.63\" font-family=\"Times,serif\" font-size=\"14.00\" fill=\"#000000\">tile_2_8</text>\n",
       "<text text-anchor=\"middle\" x=\"1516.72\" y=\"-398.63\" font-family=\"Times,serif\" font-size=\"14.00\" fill=\"#000000\">(callgraph.py:132)</text>\n",
       "</g>\n",
       "<!-- callgraphX&#45;&gt;callgraphX__tile_2_8 -->\n",
       "<g id=\"edge38\" class=\"edge\">\n",
       "<title>callgraphX&#45;&gt;callgraphX__tile_2_8</title>\n",
       "<path fill=\"none\" stroke=\"#838b8b\" stroke-dasharray=\"5,2\" d=\"M3748.65,-1919.88C3740.78,-1915.43 3731.66,-1911.05 3722.72,-1908.54 3650.42,-1888.23 3100.79,-1925.69 3047.72,-1872.54 3011.37,-1836.13 3041.72,-1808.38 3041.72,-1756.93 3041.72,-1756.93 3041.72,-1756.93 3041.72,-588.31 3041.72,-428.2 1765.96,-466.9 1608.72,-436.7 1601.05,-435.23 1593.08,-433.42 1585.19,-431.45\"/>\n",
       "<polygon fill=\"#838b8b\" stroke=\"#838b8b\" points=\"1585.82,-428 1575.27,-428.88 1584.07,-434.78 1585.82,-428\"/>\n",
       "</g>\n",
       "<!-- callgraphX__tile_3_0 -->\n",
       "<g id=\"node23\" class=\"node\">\n",
       "<title>callgraphX__tile_3_0</title>\n",
       "<ellipse fill=\"#fecccc\" fill-opacity=\"0.698039\" stroke=\"black\" cx=\"157.72\" cy=\"-1935.41\" rx=\"82.96\" ry=\"26.74\"/>\n",
       "<text text-anchor=\"middle\" x=\"157.72\" y=\"-1939.21\" font-family=\"Times,serif\" font-size=\"14.00\" fill=\"#000000\">tile_3_0</text>\n",
       "<text text-anchor=\"middle\" x=\"157.72\" y=\"-1924.21\" font-family=\"Times,serif\" font-size=\"14.00\" fill=\"#000000\">(callgraph.py:137)</text>\n",
       "</g>\n",
       "<!-- callgraphX&#45;&gt;callgraphX__tile_3_0 -->\n",
       "<g id=\"edge32\" class=\"edge\">\n",
       "<title>callgraphX&#45;&gt;callgraphX__tile_3_0</title>\n",
       "<path fill=\"none\" stroke=\"#838b8b\" stroke-dasharray=\"5,2\" d=\"M3755.09,-1952.51C3744.54,-1962.72 3729.67,-1974.76 3713.72,-1980.28 3624.85,-2011.07 421,-1992.38 327.72,-1980.28 293.44,-1975.83 256.23,-1966.54 225.38,-1957.56\"/>\n",
       "<polygon fill=\"#838b8b\" stroke=\"#838b8b\" points=\"226.18,-1954.15 215.6,-1954.66 224.19,-1960.86 226.18,-1954.15\"/>\n",
       "</g>\n",
       "<!-- callgraphX__tile_3_1 -->\n",
       "<g id=\"node24\" class=\"node\">\n",
       "<title>callgraphX__tile_3_1</title>\n",
       "<ellipse fill=\"#fecccc\" fill-opacity=\"0.698039\" stroke=\"black\" cx=\"410.72\" cy=\"-2025.15\" rx=\"82.96\" ry=\"26.74\"/>\n",
       "<text text-anchor=\"middle\" x=\"410.72\" y=\"-2028.95\" font-family=\"Times,serif\" font-size=\"14.00\" fill=\"#000000\">tile_3_1</text>\n",
       "<text text-anchor=\"middle\" x=\"410.72\" y=\"-2013.95\" font-family=\"Times,serif\" font-size=\"14.00\" fill=\"#000000\">(callgraph.py:142)</text>\n",
       "</g>\n",
       "<!-- callgraphX&#45;&gt;callgraphX__tile_3_1 -->\n",
       "<g id=\"edge27\" class=\"edge\">\n",
       "<title>callgraphX&#45;&gt;callgraphX__tile_3_1</title>\n",
       "<path fill=\"none\" stroke=\"#838b8b\" stroke-dasharray=\"5,2\" d=\"M3748.71,-1951.16C3740.85,-1955.63 3731.71,-1959.96 3722.72,-1962.28 3549.24,-2007.09 674.89,-1971.49 497.72,-1998.28 490.65,-1999.35 483.36,-2000.85 476.14,-2002.6\"/>\n",
       "<polygon fill=\"#838b8b\" stroke=\"#838b8b\" points=\"475.17,-1999.24 466.36,-2005.12 476.92,-2006.02 475.17,-1999.24\"/>\n",
       "</g>\n",
       "<!-- callgraphX__tile_3_2 -->\n",
       "<g id=\"node25\" class=\"node\">\n",
       "<title>callgraphX__tile_3_2</title>\n",
       "<ellipse fill=\"#fecccc\" fill-opacity=\"0.698039\" stroke=\"black\" cx=\"1252.72\" cy=\"-858.53\" rx=\"82.96\" ry=\"26.74\"/>\n",
       "<text text-anchor=\"middle\" x=\"1252.72\" y=\"-862.33\" font-family=\"Times,serif\" font-size=\"14.00\" fill=\"#000000\">tile_3_2</text>\n",
       "<text text-anchor=\"middle\" x=\"1252.72\" y=\"-847.33\" font-family=\"Times,serif\" font-size=\"14.00\" fill=\"#000000\">(callgraph.py:150)</text>\n",
       "</g>\n",
       "<!-- callgraphX&#45;&gt;callgraphX__tile_3_2 -->\n",
       "<g id=\"edge24\" class=\"edge\">\n",
       "<title>callgraphX&#45;&gt;callgraphX__tile_3_2</title>\n",
       "<path fill=\"none\" stroke=\"#838b8b\" stroke-dasharray=\"5,2\" d=\"M3748.67,-1919.8C3740.81,-1915.35 3731.67,-1910.98 3722.72,-1908.54 3621.89,-1881.04 2858.38,-1944.65 2782.72,-1872.54 2745.39,-1836.96 2772.72,-1808.51 2772.72,-1756.93 2772.72,-1756.93 2772.72,-1756.93 2772.72,-1037.01 2772.72,-1018.87 1665.4,-902.4 1341.01,-868.67\"/>\n",
       "<polygon fill=\"#838b8b\" stroke=\"#838b8b\" points=\"1341.03,-865.15 1330.72,-867.6 1340.3,-872.12 1341.03,-865.15\"/>\n",
       "</g>\n",
       "<!-- callgraphX__tile_3_3 -->\n",
       "<g id=\"node26\" class=\"node\">\n",
       "<title>callgraphX__tile_3_3</title>\n",
       "<ellipse fill=\"#fecccc\" fill-opacity=\"0.698039\" stroke=\"black\" cx=\"1252.72\" cy=\"-948.27\" rx=\"82.96\" ry=\"26.74\"/>\n",
       "<text text-anchor=\"middle\" x=\"1252.72\" y=\"-952.07\" font-family=\"Times,serif\" font-size=\"14.00\" fill=\"#000000\">tile_3_3</text>\n",
       "<text text-anchor=\"middle\" x=\"1252.72\" y=\"-937.07\" font-family=\"Times,serif\" font-size=\"14.00\" fill=\"#000000\">(callgraph.py:155)</text>\n",
       "</g>\n",
       "<!-- callgraphX&#45;&gt;callgraphX__tile_3_3 -->\n",
       "<g id=\"edge17\" class=\"edge\">\n",
       "<title>callgraphX&#45;&gt;callgraphX__tile_3_3</title>\n",
       "<path fill=\"none\" stroke=\"#838b8b\" stroke-dasharray=\"5,2\" d=\"M3748.7,-1919.67C3740.84,-1915.2 3731.71,-1910.87 3722.72,-1908.54 3644.55,-1888.3 875.27,-1927.09 815.72,-1872.54 756.73,-1818.5 805.73,-1772.97 801.72,-1693.06 794.12,-1541.44 719.87,-1100.32 842.72,-1011.14 855.73,-1001.7 1050.03,-975.33 1166.41,-960.24\"/>\n",
       "<polygon fill=\"#838b8b\" stroke=\"#838b8b\" points=\"1166.92,-963.71 1176.38,-958.95 1166.02,-956.77 1166.92,-963.71\"/>\n",
       "</g>\n",
       "<!-- callgraphX__tile_3_4 -->\n",
       "<g id=\"node27\" class=\"node\">\n",
       "<title>callgraphX__tile_3_4</title>\n",
       "<ellipse fill=\"#fecccc\" fill-opacity=\"0.698039\" stroke=\"black\" cx=\"1617.72\" cy=\"-679.05\" rx=\"82.96\" ry=\"26.74\"/>\n",
       "<text text-anchor=\"middle\" x=\"1617.72\" y=\"-682.85\" font-family=\"Times,serif\" font-size=\"14.00\" fill=\"#000000\">tile_3_4</text>\n",
       "<text text-anchor=\"middle\" x=\"1617.72\" y=\"-667.85\" font-family=\"Times,serif\" font-size=\"14.00\" fill=\"#000000\">(callgraph.py:163)</text>\n",
       "</g>\n",
       "<!-- callgraphX&#45;&gt;callgraphX__tile_3_4 -->\n",
       "<g id=\"edge15\" class=\"edge\">\n",
       "<title>callgraphX&#45;&gt;callgraphX__tile_3_4</title>\n",
       "<path fill=\"none\" stroke=\"#838b8b\" stroke-dasharray=\"5,2\" d=\"M3748.66,-1919.83C3740.8,-1915.37 3731.67,-1911 3722.72,-1908.54 3632.44,-1883.7 2955.82,-1928.48 2880.72,-1872.54 2837.12,-1840.06 2840.72,-1811.3 2840.72,-1756.93 2840.72,-1756.93 2840.72,-1756.93 2840.72,-857.53 2840.72,-835.68 2884.98,-848.13 2015.72,-741.92 1879.36,-725.26 1843.45,-732.79 1708.72,-705.92 1701.25,-704.43 1693.49,-702.63 1685.81,-700.68\"/>\n",
       "<polygon fill=\"#838b8b\" stroke=\"#838b8b\" points=\"1686.69,-697.29 1676.13,-698.15 1684.92,-704.07 1686.69,-697.29\"/>\n",
       "</g>\n",
       "<!-- callgraphX__tile_3_5 -->\n",
       "<g id=\"node28\" class=\"node\">\n",
       "<title>callgraphX__tile_3_5</title>\n",
       "<ellipse fill=\"#fecccc\" fill-opacity=\"0.698039\" stroke=\"black\" cx=\"1992.72\" cy=\"-589.31\" rx=\"82.96\" ry=\"26.74\"/>\n",
       "<text text-anchor=\"middle\" x=\"1992.72\" y=\"-593.11\" font-family=\"Times,serif\" font-size=\"14.00\" fill=\"#000000\">tile_3_5</text>\n",
       "<text text-anchor=\"middle\" x=\"1992.72\" y=\"-578.11\" font-family=\"Times,serif\" font-size=\"14.00\" fill=\"#000000\">(callgraph.py:168)</text>\n",
       "</g>\n",
       "<!-- callgraphX&#45;&gt;callgraphX__tile_3_5 -->\n",
       "<g id=\"edge9\" class=\"edge\">\n",
       "<title>callgraphX&#45;&gt;callgraphX__tile_3_5</title>\n",
       "<path fill=\"none\" stroke=\"#838b8b\" stroke-dasharray=\"5,2\" d=\"M3748.7,-1919.67C3740.84,-1915.2 3731.71,-1910.87 3722.72,-1908.54 3642.66,-1887.82 807.02,-1928.06 745.72,-1872.54 731.26,-1859.44 706.72,-1770.78 706.72,-1308.23 706.72,-1308.23 706.72,-1308.23 706.72,-767.79 706.72,-707.3 1611.29,-623.44 1903.13,-597.95\"/>\n",
       "<polygon fill=\"#838b8b\" stroke=\"#838b8b\" points=\"1903.59,-601.43 1913.25,-597.07 1902.98,-594.45 1903.59,-601.43\"/>\n",
       "</g>\n",
       "<!-- callgraphX__tile_3_6 -->\n",
       "<g id=\"node29\" class=\"node\">\n",
       "<title>callgraphX__tile_3_6</title>\n",
       "<ellipse fill=\"#fecccc\" fill-opacity=\"0.698039\" stroke=\"black\" cx=\"1556.72\" cy=\"-320.09\" rx=\"82.96\" ry=\"26.74\"/>\n",
       "<text text-anchor=\"middle\" x=\"1556.72\" y=\"-323.89\" font-family=\"Times,serif\" font-size=\"14.00\" fill=\"#000000\">tile_3_6</text>\n",
       "<text text-anchor=\"middle\" x=\"1556.72\" y=\"-308.89\" font-family=\"Times,serif\" font-size=\"14.00\" fill=\"#000000\">(callgraph.py:173)</text>\n",
       "</g>\n",
       "<!-- callgraphX&#45;&gt;callgraphX__tile_3_6 -->\n",
       "<g id=\"edge6\" class=\"edge\">\n",
       "<title>callgraphX&#45;&gt;callgraphX__tile_3_6</title>\n",
       "<path fill=\"none\" stroke=\"#838b8b\" stroke-dasharray=\"5,2\" d=\"M3748.14,-1919.69C3740.39,-1915.34 3731.45,-1911.07 3722.72,-1908.54 3610.81,-1876.18 3303.55,-1925.38 3199.72,-1872.54 3139.95,-1842.12 3102.72,-1824 3102.72,-1756.93 3102.72,-1756.93 3102.72,-1756.93 3102.72,-498.57 3102.72,-484.04 3095.44,-479.74 3082.72,-472.7 2957.04,-403.08 1958.33,-343.08 1648.24,-325.97\"/>\n",
       "<polygon fill=\"#838b8b\" stroke=\"#838b8b\" points=\"1648.12,-322.46 1637.94,-325.4 1647.73,-329.45 1648.12,-322.46\"/>\n",
       "</g>\n",
       "<!-- callgraphX__tile_3_7 -->\n",
       "<g id=\"node30\" class=\"node\">\n",
       "<title>callgraphX__tile_3_7</title>\n",
       "<ellipse fill=\"#fecccc\" fill-opacity=\"0.698039\" stroke=\"black\" cx=\"1894.72\" cy=\"-409.83\" rx=\"82.96\" ry=\"26.74\"/>\n",
       "<text text-anchor=\"middle\" x=\"1894.72\" y=\"-413.63\" font-family=\"Times,serif\" font-size=\"14.00\" fill=\"#000000\">tile_3_7</text>\n",
       "<text text-anchor=\"middle\" x=\"1894.72\" y=\"-398.63\" font-family=\"Times,serif\" font-size=\"14.00\" fill=\"#000000\">(callgraph.py:178)</text>\n",
       "</g>\n",
       "<!-- callgraphX&#45;&gt;callgraphX__tile_3_7 -->\n",
       "<g id=\"edge2\" class=\"edge\">\n",
       "<title>callgraphX&#45;&gt;callgraphX__tile_3_7</title>\n",
       "<path fill=\"none\" stroke=\"#838b8b\" stroke-dasharray=\"5,2\" d=\"M3748.16,-1919.63C3740.4,-1915.28 3731.47,-1911.02 3722.72,-1908.54 3655.8,-1889.59 3148.64,-1919.94 3097.72,-1872.54 3059.8,-1837.24 3082.72,-1808.75 3082.72,-1756.93 3082.72,-1756.93 3082.72,-1756.93 3082.72,-588.31 3082.72,-536.44 3105.27,-507.42 3066.72,-472.7 3021.91,-432.34 2041.25,-446.37 1981.72,-436.7 1974.93,-435.6 1967.92,-434.12 1960.97,-432.42\"/>\n",
       "<polygon fill=\"#838b8b\" stroke=\"#838b8b\" points=\"1961.42,-428.92 1950.86,-429.8 1959.67,-435.7 1961.42,-428.92\"/>\n",
       "</g>\n",
       "<!-- callgraphX__tile_3_8 -->\n",
       "<g id=\"node31\" class=\"node\">\n",
       "<title>callgraphX__tile_3_8</title>\n",
       "<ellipse fill=\"#fecccc\" fill-opacity=\"0.698039\" stroke=\"black\" cx=\"1092.72\" cy=\"-320.09\" rx=\"82.96\" ry=\"26.74\"/>\n",
       "<text text-anchor=\"middle\" x=\"1092.72\" y=\"-323.89\" font-family=\"Times,serif\" font-size=\"14.00\" fill=\"#000000\">tile_3_8</text>\n",
       "<text text-anchor=\"middle\" x=\"1092.72\" y=\"-308.89\" font-family=\"Times,serif\" font-size=\"14.00\" fill=\"#000000\">(callgraph.py:186)</text>\n",
       "</g>\n",
       "<!-- callgraphX&#45;&gt;callgraphX__tile_3_8 -->\n",
       "<g id=\"edge65\" class=\"edge\">\n",
       "<title>callgraphX&#45;&gt;callgraphX__tile_3_8</title>\n",
       "<path fill=\"none\" stroke=\"#838b8b\" stroke-dasharray=\"5,2\" d=\"M3748.71,-1919.67C3740.85,-1915.2 3731.71,-1910.86 3722.72,-1908.54 3639.62,-1887.06 699.41,-1926.59 632.72,-1872.54 614.56,-1857.82 586.72,-1690.57 586.72,-1667.19 586.72,-1667.19 586.72,-1667.19 586.72,-498.57 586.72,-475.7 884.95,-383.34 1023.5,-341.67\"/>\n",
       "<polygon fill=\"#838b8b\" stroke=\"#838b8b\" points=\"1024.62,-344.99 1033.19,-338.76 1022.61,-338.28 1024.62,-344.99\"/>\n",
       "</g>\n",
       "<!-- callgraphX__tile_4_0 -->\n",
       "<g id=\"node32\" class=\"node\">\n",
       "<title>callgraphX__tile_4_0</title>\n",
       "<ellipse fill=\"#fecccc\" fill-opacity=\"0.698039\" stroke=\"black\" cx=\"257.72\" cy=\"-1845.67\" rx=\"82.96\" ry=\"26.74\"/>\n",
       "<text text-anchor=\"middle\" x=\"257.72\" y=\"-1849.47\" font-family=\"Times,serif\" font-size=\"14.00\" fill=\"#000000\">tile_4_0</text>\n",
       "<text text-anchor=\"middle\" x=\"257.72\" y=\"-1834.47\" font-family=\"Times,serif\" font-size=\"14.00\" fill=\"#000000\">(callgraph.py:191)</text>\n",
       "</g>\n",
       "<!-- callgraphX&#45;&gt;callgraphX__tile_4_0 -->\n",
       "<g id=\"edge61\" class=\"edge\">\n",
       "<title>callgraphX&#45;&gt;callgraphX__tile_4_0</title>\n",
       "<path fill=\"none\" stroke=\"#838b8b\" stroke-dasharray=\"5,2\" d=\"M3748.71,-1919.66C3740.85,-1915.19 3731.71,-1910.86 3722.72,-1908.54 3541.21,-1861.71 534.24,-1899.41 348.72,-1872.54 340.75,-1871.39 332.49,-1869.73 324.35,-1867.79\"/>\n",
       "<polygon fill=\"#838b8b\" stroke=\"#838b8b\" points=\"325.05,-1864.36 314.5,-1865.32 323.35,-1871.15 325.05,-1864.36\"/>\n",
       "</g>\n",
       "<!-- callgraphX__tile_4_1 -->\n",
       "<g id=\"node33\" class=\"node\">\n",
       "<title>callgraphX__tile_4_1</title>\n",
       "<ellipse fill=\"#fecccc\" fill-opacity=\"0.698039\" stroke=\"black\" cx=\"410.72\" cy=\"-1935.41\" rx=\"82.96\" ry=\"26.74\"/>\n",
       "<text text-anchor=\"middle\" x=\"410.72\" y=\"-1939.21\" font-family=\"Times,serif\" font-size=\"14.00\" fill=\"#000000\">tile_4_1</text>\n",
       "<text text-anchor=\"middle\" x=\"410.72\" y=\"-1924.21\" font-family=\"Times,serif\" font-size=\"14.00\" fill=\"#000000\">(callgraph.py:196)</text>\n",
       "</g>\n",
       "<!-- callgraphX&#45;&gt;callgraphX__tile_4_1 -->\n",
       "<g id=\"edge58\" class=\"edge\">\n",
       "<title>callgraphX&#45;&gt;callgraphX__tile_4_1</title>\n",
       "<path fill=\"none\" stroke=\"#838b8b\" stroke-dasharray=\"5,2\" d=\"M3727.12,-1935.41C2652.69,-1935.41 1578.27,-1935.41 503.84,-1935.41\"/>\n",
       "<polygon fill=\"#838b8b\" stroke=\"#838b8b\" points=\"503.58,-1931.91 493.58,-1935.41 503.58,-1938.91 503.58,-1931.91\"/>\n",
       "</g>\n",
       "<!-- callgraphX__tile_4_2 -->\n",
       "<g id=\"node34\" class=\"node\">\n",
       "<title>callgraphX__tile_4_2</title>\n",
       "<ellipse fill=\"#fecccc\" fill-opacity=\"0.698039\" stroke=\"black\" cx=\"948.72\" cy=\"-948.27\" rx=\"82.96\" ry=\"26.74\"/>\n",
       "<text text-anchor=\"middle\" x=\"948.72\" y=\"-952.07\" font-family=\"Times,serif\" font-size=\"14.00\" fill=\"#000000\">tile_4_2</text>\n",
       "<text text-anchor=\"middle\" x=\"948.72\" y=\"-937.07\" font-family=\"Times,serif\" font-size=\"14.00\" fill=\"#000000\">(callgraph.py:204)</text>\n",
       "</g>\n",
       "<!-- callgraphX&#45;&gt;callgraphX__tile_4_2 -->\n",
       "<g id=\"edge53\" class=\"edge\">\n",
       "<title>callgraphX&#45;&gt;callgraphX__tile_4_2</title>\n",
       "<path fill=\"none\" stroke=\"#838b8b\" stroke-dasharray=\"5,2\" d=\"M3748.7,-1919.67C3740.84,-1915.2 3731.71,-1910.87 3722.72,-1908.54 3643.74,-1888.1 843.97,-1929.68 785.72,-1872.54 724.51,-1812.5 762.69,-1185.47 776.72,-1100.88 783.46,-1060.26 772.76,-1042.26 799.72,-1011.14 811.25,-997.84 847.37,-982.69 881.16,-970.71\"/>\n",
       "<polygon fill=\"#838b8b\" stroke=\"#838b8b\" points=\"882.32,-974.01 890.61,-967.41 880.01,-967.4 882.32,-974.01\"/>\n",
       "</g>\n",
       "<!-- callgraphX__tile_4_3 -->\n",
       "<g id=\"node35\" class=\"node\">\n",
       "<title>callgraphX__tile_4_3</title>\n",
       "<ellipse fill=\"#fecccc\" fill-opacity=\"0.698039\" stroke=\"black\" cx=\"1435.72\" cy=\"-1038.01\" rx=\"82.96\" ry=\"26.74\"/>\n",
       "<text text-anchor=\"middle\" x=\"1435.72\" y=\"-1041.81\" font-family=\"Times,serif\" font-size=\"14.00\" fill=\"#000000\">tile_4_3</text>\n",
       "<text text-anchor=\"middle\" x=\"1435.72\" y=\"-1026.81\" font-family=\"Times,serif\" font-size=\"14.00\" fill=\"#000000\">(callgraph.py:209)</text>\n",
       "</g>\n",
       "<!-- callgraphX&#45;&gt;callgraphX__tile_4_3 -->\n",
       "<g id=\"edge48\" class=\"edge\">\n",
       "<title>callgraphX&#45;&gt;callgraphX__tile_4_3</title>\n",
       "<path fill=\"none\" stroke=\"#838b8b\" stroke-dasharray=\"5,2\" d=\"M3748.7,-1919.67C3740.84,-1915.2 3731.71,-1910.87 3722.72,-1908.54 3645.43,-1888.52 907.29,-1926.8 848.72,-1872.54 817.26,-1843.39 793.93,-1131.74 823.72,-1100.88 864.34,-1058.82 1291.19,-1075.28 1348.72,-1064.88 1355.39,-1063.68 1362.27,-1062.15 1369.11,-1060.43\"/>\n",
       "<polygon fill=\"#838b8b\" stroke=\"#838b8b\" points=\"1370.29,-1063.74 1379.07,-1057.81 1368.5,-1056.98 1370.29,-1063.74\"/>\n",
       "</g>\n",
       "<!-- callgraphX__tile_4_4 -->\n",
       "<g id=\"node36\" class=\"node\">\n",
       "<title>callgraphX__tile_4_4</title>\n",
       "<ellipse fill=\"#fecccc\" fill-opacity=\"0.698039\" stroke=\"black\" cx=\"2054.72\" cy=\"-1127.75\" rx=\"82.96\" ry=\"26.74\"/>\n",
       "<text text-anchor=\"middle\" x=\"2054.72\" y=\"-1131.55\" font-family=\"Times,serif\" font-size=\"14.00\" fill=\"#000000\">tile_4_4</text>\n",
       "<text text-anchor=\"middle\" x=\"2054.72\" y=\"-1116.55\" font-family=\"Times,serif\" font-size=\"14.00\" fill=\"#000000\">(callgraph.py:217)</text>\n",
       "</g>\n",
       "<!-- callgraphX&#45;&gt;callgraphX__tile_4_4 -->\n",
       "<g id=\"edge43\" class=\"edge\">\n",
       "<title>callgraphX&#45;&gt;callgraphX__tile_4_4</title>\n",
       "<path fill=\"none\" stroke=\"#838b8b\" stroke-dasharray=\"5,2\" d=\"M3748.67,-1919.8C3740.81,-1915.34 3731.68,-1910.98 3722.72,-1908.54 3617.69,-1879.98 2826.88,-1942.79 2743.72,-1872.54 2703.64,-1838.68 2719.72,-1809.41 2719.72,-1756.93 2719.72,-1756.93 2719.72,-1756.93 2719.72,-1306.23 2719.72,-1253.47 2732.97,-1224.75 2692.72,-1190.62 2645.93,-1150.94 2202.12,-1165.43 2141.72,-1154.62 2135.05,-1153.43 2128.17,-1151.9 2121.33,-1150.2\"/>\n",
       "<polygon fill=\"#838b8b\" stroke=\"#838b8b\" points=\"2121.94,-1146.74 2111.38,-1147.58 2120.16,-1153.51 2121.94,-1146.74\"/>\n",
       "</g>\n",
       "<!-- callgraphX__tile_4_5 -->\n",
       "<g id=\"node37\" class=\"node\">\n",
       "<title>callgraphX__tile_4_5</title>\n",
       "<ellipse fill=\"#fecccc\" fill-opacity=\"0.698039\" stroke=\"black\" cx=\"2134.72\" cy=\"-1217.49\" rx=\"82.96\" ry=\"26.74\"/>\n",
       "<text text-anchor=\"middle\" x=\"2134.72\" y=\"-1221.29\" font-family=\"Times,serif\" font-size=\"14.00\" fill=\"#000000\">tile_4_5</text>\n",
       "<text text-anchor=\"middle\" x=\"2134.72\" y=\"-1206.29\" font-family=\"Times,serif\" font-size=\"14.00\" fill=\"#000000\">(callgraph.py:225)</text>\n",
       "</g>\n",
       "<!-- callgraphX&#45;&gt;callgraphX__tile_4_5 -->\n",
       "<g id=\"edge40\" class=\"edge\">\n",
       "<title>callgraphX&#45;&gt;callgraphX__tile_4_5</title>\n",
       "<path fill=\"none\" stroke=\"#838b8b\" stroke-dasharray=\"5,2\" d=\"M3748.67,-1919.78C3740.81,-1915.33 3731.68,-1910.97 3722.72,-1908.54 3667.08,-1893.47 2729.64,-1909.88 2685.72,-1872.54 2645.81,-1838.61 2662.72,-1809.32 2662.72,-1756.93 2662.72,-1756.93 2662.72,-1756.93 2662.72,-1395.97 2662.72,-1370.04 2665.22,-1298.54 2646.72,-1280.36 2617.33,-1251.47 2365.31,-1232.13 2226.15,-1223.55\"/>\n",
       "<polygon fill=\"#838b8b\" stroke=\"#838b8b\" points=\"2226.11,-1220.04 2215.92,-1222.93 2225.69,-1227.03 2226.11,-1220.04\"/>\n",
       "</g>\n",
       "<!-- callgraphX__tile_4_6 -->\n",
       "<g id=\"node38\" class=\"node\">\n",
       "<title>callgraphX__tile_4_6</title>\n",
       "<ellipse fill=\"#fecccc\" fill-opacity=\"0.698039\" stroke=\"black\" cx=\"2333.72\" cy=\"-230.35\" rx=\"82.96\" ry=\"26.74\"/>\n",
       "<text text-anchor=\"middle\" x=\"2333.72\" y=\"-234.15\" font-family=\"Times,serif\" font-size=\"14.00\" fill=\"#000000\">tile_4_6</text>\n",
       "<text text-anchor=\"middle\" x=\"2333.72\" y=\"-219.15\" font-family=\"Times,serif\" font-size=\"14.00\" fill=\"#000000\">(callgraph.py:233)</text>\n",
       "</g>\n",
       "<!-- callgraphX&#45;&gt;callgraphX__tile_4_6 -->\n",
       "<g id=\"edge37\" class=\"edge\">\n",
       "<title>callgraphX&#45;&gt;callgraphX__tile_4_6</title>\n",
       "<path fill=\"none\" stroke=\"#838b8b\" stroke-dasharray=\"5,2\" d=\"M3748.11,-1919.8C3740.35,-1915.45 3731.43,-1911.16 3722.72,-1908.54 3637.9,-1883.01 3390.08,-1933.42 3325.72,-1872.54 3287.99,-1836.85 3308.72,-1808.87 3308.72,-1756.93 3308.72,-1756.93 3308.72,-1756.93 3308.72,-408.83 3308.72,-357.02 3331.93,-328.21 3293.72,-293.22 3257.93,-260.44 2468.61,-265.2 2420.72,-257.22 2413.94,-256.09 2406.93,-254.59 2399.98,-252.88\"/>\n",
       "<polygon fill=\"#838b8b\" stroke=\"#838b8b\" points=\"2400.43,-249.38 2389.87,-250.25 2398.67,-256.16 2400.43,-249.38\"/>\n",
       "</g>\n",
       "<!-- callgraphX__tile_4_7 -->\n",
       "<g id=\"node39\" class=\"node\">\n",
       "<title>callgraphX__tile_4_7</title>\n",
       "<ellipse fill=\"#fecccc\" fill-opacity=\"0.698039\" stroke=\"black\" cx=\"2094.72\" cy=\"-320.09\" rx=\"82.96\" ry=\"26.74\"/>\n",
       "<text text-anchor=\"middle\" x=\"2094.72\" y=\"-323.89\" font-family=\"Times,serif\" font-size=\"14.00\" fill=\"#000000\">tile_4_7</text>\n",
       "<text text-anchor=\"middle\" x=\"2094.72\" y=\"-308.89\" font-family=\"Times,serif\" font-size=\"14.00\" fill=\"#000000\">(callgraph.py:238)</text>\n",
       "</g>\n",
       "<!-- callgraphX&#45;&gt;callgraphX__tile_4_7 -->\n",
       "<g id=\"edge34\" class=\"edge\">\n",
       "<title>callgraphX&#45;&gt;callgraphX__tile_4_7</title>\n",
       "<path fill=\"none\" stroke=\"#838b8b\" stroke-dasharray=\"5,2\" d=\"M3748.13,-1919.73C3740.37,-1915.38 3731.44,-1911.11 3722.72,-1908.54 3623.72,-1879.43 3347.25,-1927.22 3259.72,-1872.54 3209.17,-1840.96 3191.72,-1816.54 3191.72,-1756.93 3191.72,-1756.93 3191.72,-1756.93 3191.72,-498.57 3191.72,-435.06 3163.74,-412.89 3107.72,-382.96 3016.91,-334.44 2283.31,-363.77 2181.72,-346.96 2174.93,-345.84 2167.93,-344.34 2160.98,-342.64\"/>\n",
       "<polygon fill=\"#838b8b\" stroke=\"#838b8b\" points=\"2161.43,-339.14 2150.87,-340.01 2159.67,-345.92 2161.43,-339.14\"/>\n",
       "</g>\n",
       "<!-- callgraphX__tile_4_8 -->\n",
       "<g id=\"node40\" class=\"node\">\n",
       "<title>callgraphX__tile_4_8</title>\n",
       "<ellipse fill=\"#fecccc\" fill-opacity=\"0.698039\" stroke=\"black\" cx=\"1916.72\" cy=\"-230.35\" rx=\"82.96\" ry=\"26.74\"/>\n",
       "<text text-anchor=\"middle\" x=\"1916.72\" y=\"-234.15\" font-family=\"Times,serif\" font-size=\"14.00\" fill=\"#000000\">tile_4_8</text>\n",
       "<text text-anchor=\"middle\" x=\"1916.72\" y=\"-219.15\" font-family=\"Times,serif\" font-size=\"14.00\" fill=\"#000000\">(callgraph.py:246)</text>\n",
       "</g>\n",
       "<!-- callgraphX&#45;&gt;callgraphX__tile_4_8 -->\n",
       "<g id=\"edge29\" class=\"edge\">\n",
       "<title>callgraphX&#45;&gt;callgraphX__tile_4_8</title>\n",
       "<path fill=\"none\" stroke=\"#838b8b\" stroke-dasharray=\"5,2\" d=\"M3748.13,-1919.75C3740.37,-1915.4 3731.44,-1911.12 3722.72,-1908.54 3626.94,-1880.25 3345.56,-1942.95 3274.72,-1872.54 3238.14,-1836.19 3264.72,-1808.51 3264.72,-1756.93 3264.72,-1756.93 3264.72,-1756.93 3264.72,-408.83 3264.72,-354.71 3199.14,-391.69 3145.72,-382.96 2643.54,-300.86 2507.08,-355.08 2007.72,-257.22 2000.24,-255.75 1992.49,-253.97 1984.8,-252.03\"/>\n",
       "<polygon fill=\"#838b8b\" stroke=\"#838b8b\" points=\"1985.68,-248.64 1975.12,-249.5 1983.91,-255.42 1985.68,-248.64\"/>\n",
       "</g>\n",
       "<!-- callgraphX__tile_5_0 -->\n",
       "<g id=\"node41\" class=\"node\">\n",
       "<title>callgraphX__tile_5_0</title>\n",
       "<ellipse fill=\"#fecccc\" fill-opacity=\"0.698039\" stroke=\"black\" cx=\"1589.72\" cy=\"-1755.93\" rx=\"82.96\" ry=\"26.74\"/>\n",
       "<text text-anchor=\"middle\" x=\"1589.72\" y=\"-1759.73\" font-family=\"Times,serif\" font-size=\"14.00\" fill=\"#000000\">tile_5_0</text>\n",
       "<text text-anchor=\"middle\" x=\"1589.72\" y=\"-1744.73\" font-family=\"Times,serif\" font-size=\"14.00\" fill=\"#000000\">(callgraph.py:251)</text>\n",
       "</g>\n",
       "<!-- callgraphX&#45;&gt;callgraphX__tile_5_0 -->\n",
       "<g id=\"edge50\" class=\"edge\">\n",
       "<title>callgraphX&#45;&gt;callgraphX__tile_5_0</title>\n",
       "<path fill=\"none\" stroke=\"#838b8b\" stroke-dasharray=\"5,2\" d=\"M3748.69,-1919.71C3740.83,-1915.25 3731.7,-1910.9 3722.72,-1908.54 3530.02,-1857.86 2125.98,-1907.02 1929.72,-1872.54 1826.57,-1854.42 1712.39,-1810.3 1646.07,-1782.1\"/>\n",
       "<polygon fill=\"#838b8b\" stroke=\"#838b8b\" points=\"1647.21,-1778.78 1636.64,-1778.06 1644.46,-1785.22 1647.21,-1778.78\"/>\n",
       "</g>\n",
       "<!-- callgraphX__tile_5_1 -->\n",
       "<g id=\"node42\" class=\"node\">\n",
       "<title>callgraphX__tile_5_1</title>\n",
       "<ellipse fill=\"#fecccc\" fill-opacity=\"0.698039\" stroke=\"black\" cx=\"440.72\" cy=\"-1845.67\" rx=\"82.96\" ry=\"26.74\"/>\n",
       "<text text-anchor=\"middle\" x=\"440.72\" y=\"-1849.47\" font-family=\"Times,serif\" font-size=\"14.00\" fill=\"#000000\">tile_5_1</text>\n",
       "<text text-anchor=\"middle\" x=\"440.72\" y=\"-1834.47\" font-family=\"Times,serif\" font-size=\"14.00\" fill=\"#000000\">(callgraph.py:256)</text>\n",
       "</g>\n",
       "<!-- callgraphX&#45;&gt;callgraphX__tile_5_1 -->\n",
       "<g id=\"edge45\" class=\"edge\">\n",
       "<title>callgraphX&#45;&gt;callgraphX__tile_5_1</title>\n",
       "<path fill=\"none\" stroke=\"#838b8b\" stroke-dasharray=\"5,2\" d=\"M3748.71,-1919.66C3740.85,-1915.2 3731.71,-1910.86 3722.72,-1908.54 3550.85,-1864.14 703.24,-1899.1 527.72,-1872.54 520.65,-1871.47 513.36,-1869.97 506.14,-1868.22\"/>\n",
       "<polygon fill=\"#838b8b\" stroke=\"#838b8b\" points=\"506.92,-1864.81 496.36,-1865.7 505.17,-1871.59 506.92,-1864.81\"/>\n",
       "</g>\n",
       "<!-- callgraphX__tile_5_2 -->\n",
       "<g id=\"node43\" class=\"node\">\n",
       "<title>callgraphX__tile_5_2</title>\n",
       "<ellipse fill=\"#fecccc\" fill-opacity=\"0.698039\" stroke=\"black\" cx=\"2222.72\" cy=\"-1576.45\" rx=\"82.96\" ry=\"26.74\"/>\n",
       "<text text-anchor=\"middle\" x=\"2222.72\" y=\"-1580.25\" font-family=\"Times,serif\" font-size=\"14.00\" fill=\"#000000\">tile_5_2</text>\n",
       "<text text-anchor=\"middle\" x=\"2222.72\" y=\"-1565.25\" font-family=\"Times,serif\" font-size=\"14.00\" fill=\"#000000\">(callgraph.py:264)</text>\n",
       "</g>\n",
       "<!-- callgraphX&#45;&gt;callgraphX__tile_5_2 -->\n",
       "<g id=\"edge41\" class=\"edge\">\n",
       "<title>callgraphX&#45;&gt;callgraphX__tile_5_2</title>\n",
       "<path fill=\"none\" stroke=\"#838b8b\" stroke-dasharray=\"5,2\" d=\"M3748.68,-1919.77C3740.82,-1915.31 3731.68,-1910.95 3722.72,-1908.54 3597.87,-1874.98 2680.02,-1919.9 2559.72,-1872.54 2550.5,-1868.91 2342.21,-1683.89 2257.79,-1608.71\"/>\n",
       "<polygon fill=\"#838b8b\" stroke=\"#838b8b\" points=\"2260.05,-1606.04 2250.26,-1602 2255.39,-1611.26 2260.05,-1606.04\"/>\n",
       "</g>\n",
       "<!-- callgraphX__tile_5_3 -->\n",
       "<g id=\"node44\" class=\"node\">\n",
       "<title>callgraphX__tile_5_3</title>\n",
       "<ellipse fill=\"#fecccc\" fill-opacity=\"0.698039\" stroke=\"black\" cx=\"1453.72\" cy=\"-948.27\" rx=\"82.96\" ry=\"26.74\"/>\n",
       "<text text-anchor=\"middle\" x=\"1453.72\" y=\"-952.07\" font-family=\"Times,serif\" font-size=\"14.00\" fill=\"#000000\">tile_5_3</text>\n",
       "<text text-anchor=\"middle\" x=\"1453.72\" y=\"-937.07\" font-family=\"Times,serif\" font-size=\"14.00\" fill=\"#000000\">(callgraph.py:269)</text>\n",
       "</g>\n",
       "<!-- callgraphX&#45;&gt;callgraphX__tile_5_3 -->\n",
       "<g id=\"edge35\" class=\"edge\">\n",
       "<title>callgraphX&#45;&gt;callgraphX__tile_5_3</title>\n",
       "<path fill=\"none\" stroke=\"#838b8b\" stroke-dasharray=\"5,2\" d=\"M3748.7,-1919.67C3740.84,-1915.2 3731.71,-1910.87 3722.72,-1908.54 3644.98,-1888.41 890.94,-1926.79 831.72,-1872.54 800.1,-1843.57 783.24,-1133.8 810.72,-1100.88 971.99,-907.74 1118.96,-1037.51 1362.72,-975.14 1369.62,-973.38 1376.78,-971.47 1383.93,-969.52\"/>\n",
       "<polygon fill=\"#838b8b\" stroke=\"#838b8b\" points=\"1384.93,-972.87 1393.64,-966.84 1383.07,-966.13 1384.93,-972.87\"/>\n",
       "</g>\n",
       "<!-- callgraphX__tile_5_4 -->\n",
       "<g id=\"node45\" class=\"node\">\n",
       "<title>callgraphX__tile_5_4</title>\n",
       "<ellipse fill=\"#fecccc\" fill-opacity=\"0.698039\" stroke=\"black\" cx=\"1912.72\" cy=\"-1038.01\" rx=\"82.96\" ry=\"26.74\"/>\n",
       "<text text-anchor=\"middle\" x=\"1912.72\" y=\"-1041.81\" font-family=\"Times,serif\" font-size=\"14.00\" fill=\"#000000\">tile_5_4</text>\n",
       "<text text-anchor=\"middle\" x=\"1912.72\" y=\"-1026.81\" font-family=\"Times,serif\" font-size=\"14.00\" fill=\"#000000\">(callgraph.py:274)</text>\n",
       "</g>\n",
       "<!-- callgraphX&#45;&gt;callgraphX__tile_5_4 -->\n",
       "<g id=\"edge33\" class=\"edge\">\n",
       "<title>callgraphX&#45;&gt;callgraphX__tile_5_4</title>\n",
       "<path fill=\"none\" stroke=\"#838b8b\" stroke-dasharray=\"5,2\" d=\"M3748.7,-1919.67C3740.84,-1915.21 3731.71,-1910.87 3722.72,-1908.54 3645.89,-1888.64 922.62,-1927.88 865.72,-1872.54 834.97,-1842.63 807.17,-1131.98 836.72,-1100.88 863.9,-1072.29 1506.36,-1067.27 1545.72,-1064.88 1640.11,-1059.16 1748.06,-1051.4 1822.32,-1045.88\"/>\n",
       "<polygon fill=\"#838b8b\" stroke=\"#838b8b\" points=\"1822.86,-1049.35 1832.57,-1045.12 1822.34,-1042.37 1822.86,-1049.35\"/>\n",
       "</g>\n",
       "<!-- callgraphX__tile_5_5 -->\n",
       "<g id=\"node46\" class=\"node\">\n",
       "<title>callgraphX__tile_5_5</title>\n",
       "<ellipse fill=\"#fecccc\" fill-opacity=\"0.698039\" stroke=\"black\" cx=\"2134.72\" cy=\"-1307.23\" rx=\"82.96\" ry=\"26.74\"/>\n",
       "<text text-anchor=\"middle\" x=\"2134.72\" y=\"-1311.03\" font-family=\"Times,serif\" font-size=\"14.00\" fill=\"#000000\">tile_5_5</text>\n",
       "<text text-anchor=\"middle\" x=\"2134.72\" y=\"-1296.03\" font-family=\"Times,serif\" font-size=\"14.00\" fill=\"#000000\">(callgraph.py:279)</text>\n",
       "</g>\n",
       "<!-- callgraphX&#45;&gt;callgraphX__tile_5_5 -->\n",
       "<g id=\"edge30\" class=\"edge\">\n",
       "<title>callgraphX&#45;&gt;callgraphX__tile_5_5</title>\n",
       "<path fill=\"none\" stroke=\"#838b8b\" stroke-dasharray=\"5,2\" d=\"M3748.68,-1919.77C3740.82,-1915.31 3731.68,-1910.96 3722.72,-1908.54 3662.72,-1892.37 2650.74,-1914.31 2604.72,-1872.54 2566.36,-1837.72 2589.72,-1808.75 2589.72,-1756.93 2589.72,-1756.93 2589.72,-1756.93 2589.72,-1485.71 2589.72,-1406.48 2347.25,-1348.35 2216.32,-1322.73\"/>\n",
       "<polygon fill=\"#838b8b\" stroke=\"#838b8b\" points=\"2216.8,-1319.26 2206.32,-1320.8 2215.47,-1326.13 2216.8,-1319.26\"/>\n",
       "</g>\n",
       "<!-- callgraphX__tile_5_6 -->\n",
       "<g id=\"node47\" class=\"node\">\n",
       "<title>callgraphX__tile_5_6</title>\n",
       "<ellipse fill=\"#fecccc\" fill-opacity=\"0.698039\" stroke=\"black\" cx=\"1916.72\" cy=\"-140.61\" rx=\"82.96\" ry=\"26.74\"/>\n",
       "<text text-anchor=\"middle\" x=\"1916.72\" y=\"-144.41\" font-family=\"Times,serif\" font-size=\"14.00\" fill=\"#000000\">tile_5_6</text>\n",
       "<text text-anchor=\"middle\" x=\"1916.72\" y=\"-129.41\" font-family=\"Times,serif\" font-size=\"14.00\" fill=\"#000000\">(callgraph.py:287)</text>\n",
       "</g>\n",
       "<!-- callgraphX&#45;&gt;callgraphX__tile_5_6 -->\n",
       "<g id=\"edge23\" class=\"edge\">\n",
       "<title>callgraphX&#45;&gt;callgraphX__tile_5_6</title>\n",
       "<path fill=\"none\" stroke=\"#838b8b\" stroke-dasharray=\"5,2\" d=\"M3748.1,-1919.82C3740.35,-1915.48 3731.42,-1911.18 3722.72,-1908.54 3641.77,-1883.98 3404.06,-1931.85 3343.72,-1872.54 3306.85,-1836.3 3330.72,-1808.64 3330.72,-1756.93 3330.72,-1756.93 3330.72,-1756.93 3330.72,-319.09 3330.72,-116.34 2627.49,-223.37 2425.72,-203.48 2258.22,-186.97 2215.29,-191.7 2048.72,-167.48 2031.14,-164.92 2012.36,-161.6 1994.63,-158.2\"/>\n",
       "<polygon fill=\"#838b8b\" stroke=\"#838b8b\" points=\"1994.82,-154.67 1984.34,-156.19 1993.48,-161.54 1994.82,-154.67\"/>\n",
       "</g>\n",
       "<!-- callgraphX__tile_5_7 -->\n",
       "<g id=\"node48\" class=\"node\">\n",
       "<title>callgraphX__tile_5_7</title>\n",
       "<ellipse fill=\"#fecccc\" fill-opacity=\"0.698039\" stroke=\"black\" cx=\"2099.72\" cy=\"-230.35\" rx=\"82.96\" ry=\"26.74\"/>\n",
       "<text text-anchor=\"middle\" x=\"2099.72\" y=\"-234.15\" font-family=\"Times,serif\" font-size=\"14.00\" fill=\"#000000\">tile_5_7</text>\n",
       "<text text-anchor=\"middle\" x=\"2099.72\" y=\"-219.15\" font-family=\"Times,serif\" font-size=\"14.00\" fill=\"#000000\">(callgraph.py:292)</text>\n",
       "</g>\n",
       "<!-- callgraphX&#45;&gt;callgraphX__tile_5_7 -->\n",
       "<g id=\"edge21\" class=\"edge\">\n",
       "<title>callgraphX&#45;&gt;callgraphX__tile_5_7</title>\n",
       "<path fill=\"none\" stroke=\"#838b8b\" stroke-dasharray=\"5,2\" d=\"M3748.12,-1919.77C3740.36,-1915.42 3731.43,-1911.14 3722.72,-1908.54 3632.1,-1881.55 3365.64,-1939.35 3298.72,-1872.54 3262.23,-1836.1 3288.72,-1808.51 3288.72,-1756.93 3288.72,-1756.93 3288.72,-1756.93 3288.72,-408.83 3288.72,-382.79 3289.27,-310.42 3269.72,-293.22 3226.82,-255.48 2298.54,-263.36 2241.72,-257.22 2220.85,-254.97 2198.43,-251.42 2177.71,-247.66\"/>\n",
       "<polygon fill=\"#838b8b\" stroke=\"#838b8b\" points=\"2178.16,-244.18 2167.69,-245.8 2176.88,-251.07 2178.16,-244.18\"/>\n",
       "</g>\n",
       "<!-- callgraphX__tile_5_8 -->\n",
       "<g id=\"node49\" class=\"node\">\n",
       "<title>callgraphX__tile_5_8</title>\n",
       "<ellipse fill=\"#fecccc\" fill-opacity=\"0.698039\" stroke=\"black\" cx=\"2140.72\" cy=\"-140.61\" rx=\"82.96\" ry=\"26.74\"/>\n",
       "<text text-anchor=\"middle\" x=\"2140.72\" y=\"-144.41\" font-family=\"Times,serif\" font-size=\"14.00\" fill=\"#000000\">tile_5_8</text>\n",
       "<text text-anchor=\"middle\" x=\"2140.72\" y=\"-129.41\" font-family=\"Times,serif\" font-size=\"14.00\" fill=\"#000000\">(callgraph.py:300)</text>\n",
       "</g>\n",
       "<!-- callgraphX&#45;&gt;callgraphX__tile_5_8 -->\n",
       "<g id=\"edge16\" class=\"edge\">\n",
       "<title>callgraphX&#45;&gt;callgraphX__tile_5_8</title>\n",
       "<path fill=\"none\" stroke=\"#838b8b\" stroke-dasharray=\"5,2\" d=\"M3748.09,-1919.86C3740.33,-1915.53 3731.41,-1911.22 3722.72,-1908.54 3648.64,-1885.72 3433.46,-1924.28 3375.72,-1872.54 3336.57,-1837.46 3350.72,-1809.5 3350.72,-1756.93 3350.72,-1756.93 3350.72,-1756.93 3350.72,-319.09 3350.72,-293.18 3354.9,-220.89 3335.72,-203.48 3290.29,-162.23 2292.36,-176.94 2231.72,-167.48 2223.88,-166.26 2215.75,-164.57 2207.73,-162.64\"/>\n",
       "<polygon fill=\"#838b8b\" stroke=\"#838b8b\" points=\"2208.57,-159.25 2198.02,-160.19 2206.86,-166.03 2208.57,-159.25\"/>\n",
       "</g>\n",
       "<!-- callgraphX__tile_6_0 -->\n",
       "<g id=\"node50\" class=\"node\">\n",
       "<title>callgraphX__tile_6_0</title>\n",
       "<ellipse fill=\"#fecccc\" fill-opacity=\"0.698039\" stroke=\"black\" cx=\"1162.72\" cy=\"-1486.71\" rx=\"82.96\" ry=\"26.74\"/>\n",
       "<text text-anchor=\"middle\" x=\"1162.72\" y=\"-1490.51\" font-family=\"Times,serif\" font-size=\"14.00\" fill=\"#000000\">tile_6_0</text>\n",
       "<text text-anchor=\"middle\" x=\"1162.72\" y=\"-1475.51\" font-family=\"Times,serif\" font-size=\"14.00\" fill=\"#000000\">(callgraph.py:305)</text>\n",
       "</g>\n",
       "<!-- callgraphX&#45;&gt;callgraphX__tile_6_0 -->\n",
       "<g id=\"edge10\" class=\"edge\">\n",
       "<title>callgraphX&#45;&gt;callgraphX__tile_6_0</title>\n",
       "<path fill=\"none\" stroke=\"#838b8b\" stroke-dasharray=\"5,2\" d=\"M3748.7,-1919.67C3740.84,-1915.21 3731.7,-1910.87 3722.72,-1908.54 3648.75,-1889.36 1032.05,-1919.46 971.72,-1872.54 929.73,-1839.89 940.72,-1810.13 940.72,-1756.93 940.72,-1756.93 940.72,-1756.93 940.72,-1665.19 940.72,-1585.24 1029.66,-1535.4 1094.95,-1509.58\"/>\n",
       "<polygon fill=\"#838b8b\" stroke=\"#838b8b\" points=\"1096.32,-1512.8 1104.4,-1505.94 1093.81,-1506.27 1096.32,-1512.8\"/>\n",
       "</g>\n",
       "<!-- callgraphX__tile_6_1 -->\n",
       "<g id=\"node51\" class=\"node\">\n",
       "<title>callgraphX__tile_6_1</title>\n",
       "<ellipse fill=\"#fecccc\" fill-opacity=\"0.698039\" stroke=\"black\" cx=\"1388.72\" cy=\"-1755.93\" rx=\"82.96\" ry=\"26.74\"/>\n",
       "<text text-anchor=\"middle\" x=\"1388.72\" y=\"-1759.73\" font-family=\"Times,serif\" font-size=\"14.00\" fill=\"#000000\">tile_6_1</text>\n",
       "<text text-anchor=\"middle\" x=\"1388.72\" y=\"-1744.73\" font-family=\"Times,serif\" font-size=\"14.00\" fill=\"#000000\">(callgraph.py:310)</text>\n",
       "</g>\n",
       "<!-- callgraphX&#45;&gt;callgraphX__tile_6_1 -->\n",
       "<g id=\"edge7\" class=\"edge\">\n",
       "<title>callgraphX&#45;&gt;callgraphX__tile_6_1</title>\n",
       "<path fill=\"none\" stroke=\"#838b8b\" stroke-dasharray=\"5,2\" d=\"M3748.7,-1919.7C3740.84,-1915.24 3731.7,-1910.89 3722.72,-1908.54 3509.33,-1852.64 1955.17,-1909.65 1737.72,-1872.54 1631.66,-1854.44 1513.95,-1810.05 1445.93,-1781.84\"/>\n",
       "<polygon fill=\"#838b8b\" stroke=\"#838b8b\" points=\"1447.24,-1778.6 1436.66,-1777.97 1444.54,-1785.06 1447.24,-1778.6\"/>\n",
       "</g>\n",
       "<!-- callgraphX__tile_6_2 -->\n",
       "<g id=\"node52\" class=\"node\">\n",
       "<title>callgraphX__tile_6_2</title>\n",
       "<ellipse fill=\"#fecccc\" fill-opacity=\"0.698039\" stroke=\"black\" cx=\"1833.72\" cy=\"-1666.19\" rx=\"82.96\" ry=\"26.74\"/>\n",
       "<text text-anchor=\"middle\" x=\"1833.72\" y=\"-1669.99\" font-family=\"Times,serif\" font-size=\"14.00\" fill=\"#000000\">tile_6_2</text>\n",
       "<text text-anchor=\"middle\" x=\"1833.72\" y=\"-1654.99\" font-family=\"Times,serif\" font-size=\"14.00\" fill=\"#000000\">(callgraph.py:318)</text>\n",
       "</g>\n",
       "<!-- callgraphX&#45;&gt;callgraphX__tile_6_2 -->\n",
       "<g id=\"edge3\" class=\"edge\">\n",
       "<title>callgraphX&#45;&gt;callgraphX__tile_6_2</title>\n",
       "<path fill=\"none\" stroke=\"#838b8b\" stroke-dasharray=\"5,2\" d=\"M3748.69,-1919.74C3740.83,-1915.27 3731.69,-1910.92 3722.72,-1908.54 3413.14,-1826.3 2593.8,-1944.75 2281.72,-1872.54 2125.41,-1836.37 1957.72,-1743.01 1879.19,-1695.65\"/>\n",
       "<polygon fill=\"#838b8b\" stroke=\"#838b8b\" points=\"1880.88,-1692.58 1870.51,-1690.38 1877.24,-1698.56 1880.88,-1692.58\"/>\n",
       "</g>\n",
       "<!-- callgraphX__tile_6_3 -->\n",
       "<g id=\"node53\" class=\"node\">\n",
       "<title>callgraphX__tile_6_3</title>\n",
       "<ellipse fill=\"#fecccc\" fill-opacity=\"0.698039\" stroke=\"black\" cx=\"1873.72\" cy=\"-1576.45\" rx=\"82.96\" ry=\"26.74\"/>\n",
       "<text text-anchor=\"middle\" x=\"1873.72\" y=\"-1580.25\" font-family=\"Times,serif\" font-size=\"14.00\" fill=\"#000000\">tile_6_3</text>\n",
       "<text text-anchor=\"middle\" x=\"1873.72\" y=\"-1565.25\" font-family=\"Times,serif\" font-size=\"14.00\" fill=\"#000000\">(callgraph.py:326)</text>\n",
       "</g>\n",
       "<!-- callgraphX&#45;&gt;callgraphX__tile_6_3 -->\n",
       "<g id=\"edge63\" class=\"edge\">\n",
       "<title>callgraphX&#45;&gt;callgraphX__tile_6_3</title>\n",
       "<path fill=\"none\" stroke=\"#838b8b\" stroke-dasharray=\"5,2\" d=\"M3748.68,-1919.76C3740.82,-1915.3 3731.69,-1910.94 3722.72,-1908.54 3458.16,-1837.66 2756.92,-1937.03 2490.72,-1872.54 2260.8,-1816.85 2015.04,-1669.11 1917.36,-1606.33\"/>\n",
       "<polygon fill=\"#838b8b\" stroke=\"#838b8b\" points=\"1919.23,-1603.37 1908.93,-1600.88 1915.43,-1609.25 1919.23,-1603.37\"/>\n",
       "</g>\n",
       "<!-- callgraphX__tile_6_4 -->\n",
       "<g id=\"node54\" class=\"node\">\n",
       "<title>callgraphX__tile_6_4</title>\n",
       "<ellipse fill=\"#fecccc\" fill-opacity=\"0.698039\" stroke=\"black\" cx=\"1873.72\" cy=\"-1486.71\" rx=\"82.96\" ry=\"26.74\"/>\n",
       "<text text-anchor=\"middle\" x=\"1873.72\" y=\"-1490.51\" font-family=\"Times,serif\" font-size=\"14.00\" fill=\"#000000\">tile_6_4</text>\n",
       "<text text-anchor=\"middle\" x=\"1873.72\" y=\"-1475.51\" font-family=\"Times,serif\" font-size=\"14.00\" fill=\"#000000\">(callgraph.py:334)</text>\n",
       "</g>\n",
       "<!-- callgraphX&#45;&gt;callgraphX__tile_6_4 -->\n",
       "<g id=\"edge39\" class=\"edge\">\n",
       "<title>callgraphX&#45;&gt;callgraphX__tile_6_4</title>\n",
       "<path fill=\"none\" stroke=\"#838b8b\" stroke-dasharray=\"5,2\" d=\"M3748.7,-1919.69C3740.84,-1915.22 3731.7,-1910.88 3722.72,-1908.54 3467.97,-1842.2 1614,-1912.05 1353.72,-1872.54 1173.72,-1845.22 960.72,-1939 960.72,-1756.93 960.72,-1756.93 960.72,-1756.93 960.72,-1665.19 960.72,-1581.81 1555.1,-1517.44 1784.7,-1495.69\"/>\n",
       "<polygon fill=\"#838b8b\" stroke=\"#838b8b\" points=\"1785.07,-1499.17 1794.7,-1494.74 1784.41,-1492.2 1785.07,-1499.17\"/>\n",
       "</g>\n",
       "<!-- callgraphX__tile_6_5 -->\n",
       "<g id=\"node55\" class=\"node\">\n",
       "<title>callgraphX__tile_6_5</title>\n",
       "<ellipse fill=\"#fecccc\" fill-opacity=\"0.698039\" stroke=\"black\" cx=\"2134.72\" cy=\"-1396.97\" rx=\"82.96\" ry=\"26.74\"/>\n",
       "<text text-anchor=\"middle\" x=\"2134.72\" y=\"-1400.77\" font-family=\"Times,serif\" font-size=\"14.00\" fill=\"#000000\">tile_6_5</text>\n",
       "<text text-anchor=\"middle\" x=\"2134.72\" y=\"-1385.77\" font-family=\"Times,serif\" font-size=\"14.00\" fill=\"#000000\">(callgraph.py:342)</text>\n",
       "</g>\n",
       "<!-- callgraphX&#45;&gt;callgraphX__tile_6_5 -->\n",
       "<g id=\"edge56\" class=\"edge\">\n",
       "<title>callgraphX&#45;&gt;callgraphX__tile_6_5</title>\n",
       "<path fill=\"none\" stroke=\"#838b8b\" stroke-dasharray=\"5,2\" d=\"M3748.68,-1919.77C3740.82,-1915.31 3731.68,-1910.95 3722.72,-1908.54 3661.65,-1892.1 2632.46,-1914.04 2584.72,-1872.54 2545.37,-1838.33 2564.72,-1809.08 2564.72,-1756.93 2564.72,-1756.93 2564.72,-1756.93 2564.72,-1575.45 2564.72,-1536.82 2324.56,-1456.81 2203.2,-1418.84\"/>\n",
       "<polygon fill=\"#838b8b\" stroke=\"#838b8b\" points=\"2204.2,-1415.48 2193.61,-1415.85 2202.12,-1422.17 2204.2,-1415.48\"/>\n",
       "</g>\n",
       "<!-- callgraphX__tile_6_6 -->\n",
       "<g id=\"node56\" class=\"node\">\n",
       "<title>callgraphX__tile_6_6</title>\n",
       "<ellipse fill=\"#fecccc\" fill-opacity=\"0.698039\" stroke=\"black\" cx=\"2376.72\" cy=\"-1038.01\" rx=\"82.96\" ry=\"26.74\"/>\n",
       "<text text-anchor=\"middle\" x=\"2376.72\" y=\"-1041.81\" font-family=\"Times,serif\" font-size=\"14.00\" fill=\"#000000\">tile_6_6</text>\n",
       "<text text-anchor=\"middle\" x=\"2376.72\" y=\"-1026.81\" font-family=\"Times,serif\" font-size=\"14.00\" fill=\"#000000\">(callgraph.py:350)</text>\n",
       "</g>\n",
       "<!-- callgraphX&#45;&gt;callgraphX__tile_6_6 -->\n",
       "<g id=\"edge52\" class=\"edge\">\n",
       "<title>callgraphX&#45;&gt;callgraphX__tile_6_6</title>\n",
       "<path fill=\"none\" stroke=\"#838b8b\" stroke-dasharray=\"5,2\" d=\"M3748.67,-1919.8C3740.81,-1915.34 3731.68,-1910.98 3722.72,-1908.54 3620.27,-1880.63 2847.36,-1942.78 2767.72,-1872.54 2728.67,-1838.1 2748.72,-1809 2748.72,-1756.93 2748.72,-1756.93 2748.72,-1756.93 2748.72,-1216.49 2748.72,-1182.71 2546.27,-1102.18 2440.07,-1062.26\"/>\n",
       "<polygon fill=\"#838b8b\" stroke=\"#838b8b\" points=\"2441.01,-1058.88 2430.42,-1058.65 2438.56,-1065.43 2441.01,-1058.88\"/>\n",
       "</g>\n",
       "<!-- callgraphX__tile_6_7 -->\n",
       "<g id=\"node57\" class=\"node\">\n",
       "<title>callgraphX__tile_6_7</title>\n",
       "<ellipse fill=\"#fecccc\" fill-opacity=\"0.698039\" stroke=\"black\" cx=\"2323.72\" cy=\"-140.61\" rx=\"82.96\" ry=\"26.74\"/>\n",
       "<text text-anchor=\"middle\" x=\"2323.72\" y=\"-144.41\" font-family=\"Times,serif\" font-size=\"14.00\" fill=\"#000000\">tile_6_7</text>\n",
       "<text text-anchor=\"middle\" x=\"2323.72\" y=\"-129.41\" font-family=\"Times,serif\" font-size=\"14.00\" fill=\"#000000\">(callgraph.py:355)</text>\n",
       "</g>\n",
       "<!-- callgraphX&#45;&gt;callgraphX__tile_6_7 -->\n",
       "<g id=\"edge26\" class=\"edge\">\n",
       "<title>callgraphX&#45;&gt;callgraphX__tile_6_7</title>\n",
       "<path fill=\"none\" stroke=\"#838b8b\" stroke-dasharray=\"5,2\" d=\"M3748.07,-1919.91C3740.31,-1915.58 3731.4,-1911.26 3722.72,-1908.54 3654.86,-1887.29 3456.67,-1921.12 3404.72,-1872.54 3366.58,-1836.87 3383.72,-1809.16 3383.72,-1756.93 3383.72,-1756.93 3383.72,-1756.93 3383.72,-319.09 3383.72,-266.22 3396.61,-236.99 3355.72,-203.48 3317.02,-171.76 2505.42,-173.31 2455.72,-167.48 2437.62,-165.36 2418.29,-162.12 2400.16,-158.66\"/>\n",
       "<polygon fill=\"#838b8b\" stroke=\"#838b8b\" points=\"2400.71,-155.2 2390.22,-156.71 2399.36,-162.07 2400.71,-155.2\"/>\n",
       "</g>\n",
       "<!-- callgraphX__tile_6_8 -->\n",
       "<g id=\"node58\" class=\"node\">\n",
       "<title>callgraphX__tile_6_8</title>\n",
       "<ellipse fill=\"#fecccc\" fill-opacity=\"0.698039\" stroke=\"black\" cx=\"2547.72\" cy=\"-140.61\" rx=\"82.96\" ry=\"26.74\"/>\n",
       "<text text-anchor=\"middle\" x=\"2547.72\" y=\"-144.41\" font-family=\"Times,serif\" font-size=\"14.00\" fill=\"#000000\">tile_6_8</text>\n",
       "<text text-anchor=\"middle\" x=\"2547.72\" y=\"-129.41\" font-family=\"Times,serif\" font-size=\"14.00\" fill=\"#000000\">(callgraph.py:361)</text>\n",
       "</g>\n",
       "<!-- callgraphX&#45;&gt;callgraphX__tile_6_8 -->\n",
       "<g id=\"edge11\" class=\"edge\">\n",
       "<title>callgraphX&#45;&gt;callgraphX__tile_6_8</title>\n",
       "<path fill=\"none\" stroke=\"#838b8b\" stroke-dasharray=\"5,2\" d=\"M3748.05,-1920C3740.28,-1915.67 3731.37,-1911.34 3722.72,-1908.54 3605.85,-1870.78 3545.37,-1948.34 3448.72,-1872.54 3405.34,-1838.51 3403.72,-1812.07 3403.72,-1756.93 3403.72,-1756.93 3403.72,-1756.93 3403.72,-319.09 3403.72,-293.18 3407.77,-221.04 3388.72,-203.48 3327.39,-146.93 2721.05,-180.98 2638.72,-167.48 2630.89,-166.2 2622.77,-164.47 2614.75,-162.53\"/>\n",
       "<polygon fill=\"#838b8b\" stroke=\"#838b8b\" points=\"2615.6,-159.13 2605.04,-160.05 2613.87,-165.91 2615.6,-159.13\"/>\n",
       "</g>\n",
       "<!-- callgraphX__tile_7_0 -->\n",
       "<g id=\"node59\" class=\"node\">\n",
       "<title>callgraphX__tile_7_0</title>\n",
       "<ellipse fill=\"#fecccc\" fill-opacity=\"0.698039\" stroke=\"black\" cx=\"2730.72\" cy=\"-140.61\" rx=\"82.96\" ry=\"26.74\"/>\n",
       "<text text-anchor=\"middle\" x=\"2730.72\" y=\"-144.41\" font-family=\"Times,serif\" font-size=\"14.00\" fill=\"#000000\">tile_7_0</text>\n",
       "<text text-anchor=\"middle\" x=\"2730.72\" y=\"-129.41\" font-family=\"Times,serif\" font-size=\"14.00\" fill=\"#000000\">(callgraph.py:366)</text>\n",
       "</g>\n",
       "<!-- callgraphX&#45;&gt;callgraphX__tile_7_0 -->\n",
       "<g id=\"edge8\" class=\"edge\">\n",
       "<title>callgraphX&#45;&gt;callgraphX__tile_7_0</title>\n",
       "<path fill=\"none\" stroke=\"#838b8b\" stroke-dasharray=\"5,2\" d=\"M3747.53,-1919.81C3739.89,-1915.57 3731.17,-1911.34 3722.72,-1908.54 3670.49,-1891.23 3517.13,-1910.96 3477.72,-1872.54 3440.39,-1836.14 3457.72,-1809.08 3457.72,-1756.93 3457.72,-1756.93 3457.72,-1756.93 3457.72,-319.09 3457.72,-263.28 3454.29,-235.7 3408.72,-203.48 3355.37,-165.75 2886.14,-178.48 2821.72,-167.48 2814.1,-166.18 2806.2,-164.48 2798.38,-162.57\"/>\n",
       "<polygon fill=\"#838b8b\" stroke=\"#838b8b\" points=\"2799.1,-159.15 2788.55,-160.06 2797.37,-165.93 2799.1,-159.15\"/>\n",
       "</g>\n",
       "<!-- callgraphX__tile_7_1 -->\n",
       "<g id=\"node60\" class=\"node\">\n",
       "<title>callgraphX__tile_7_1</title>\n",
       "<ellipse fill=\"#fecccc\" fill-opacity=\"0.698039\" stroke=\"black\" cx=\"1182.72\" cy=\"-1666.19\" rx=\"82.96\" ry=\"26.74\"/>\n",
       "<text text-anchor=\"middle\" x=\"1182.72\" y=\"-1669.99\" font-family=\"Times,serif\" font-size=\"14.00\" fill=\"#000000\">tile_7_1</text>\n",
       "<text text-anchor=\"middle\" x=\"1182.72\" y=\"-1654.99\" font-family=\"Times,serif\" font-size=\"14.00\" fill=\"#000000\">(callgraph.py:371)</text>\n",
       "</g>\n",
       "<!-- callgraphX&#45;&gt;callgraphX__tile_7_1 -->\n",
       "<g id=\"edge4\" class=\"edge\">\n",
       "<title>callgraphX&#45;&gt;callgraphX__tile_7_1</title>\n",
       "<path fill=\"none\" stroke=\"#838b8b\" stroke-dasharray=\"5,2\" d=\"M3748.7,-1919.69C3740.84,-1915.23 3731.7,-1910.89 3722.72,-1908.54 3488.11,-1847.28 1779.09,-1917.02 1540.72,-1872.54 1427.14,-1851.35 1393.85,-1845.39 1296.72,-1782.8 1262.09,-1760.48 1229.84,-1725.96 1208.54,-1700.44\"/>\n",
       "<polygon fill=\"#838b8b\" stroke=\"#838b8b\" points=\"1211.07,-1698.01 1202.02,-1692.5 1205.66,-1702.45 1211.07,-1698.01\"/>\n",
       "</g>\n",
       "<!-- callgraphX__tile_7_2 -->\n",
       "<g id=\"node61\" class=\"node\">\n",
       "<title>callgraphX__tile_7_2</title>\n",
       "<ellipse fill=\"#fecccc\" fill-opacity=\"0.698039\" stroke=\"black\" cx=\"1282.72\" cy=\"-1396.97\" rx=\"82.96\" ry=\"26.74\"/>\n",
       "<text text-anchor=\"middle\" x=\"1282.72\" y=\"-1400.77\" font-family=\"Times,serif\" font-size=\"14.00\" fill=\"#000000\">tile_7_2</text>\n",
       "<text text-anchor=\"middle\" x=\"1282.72\" y=\"-1385.77\" font-family=\"Times,serif\" font-size=\"14.00\" fill=\"#000000\">(callgraph.py:376)</text>\n",
       "</g>\n",
       "<!-- callgraphX&#45;&gt;callgraphX__tile_7_2 -->\n",
       "<g id=\"edge64\" class=\"edge\">\n",
       "<title>callgraphX&#45;&gt;callgraphX__tile_7_2</title>\n",
       "<path fill=\"none\" stroke=\"#838b8b\" stroke-dasharray=\"5,2\" d=\"M3748.7,-1919.67C3740.84,-1915.21 3731.7,-1910.87 3722.72,-1908.54 3647.78,-1889.12 993.55,-1924.02 935.72,-1872.54 897.02,-1838.09 920.72,-1808.75 920.72,-1756.93 920.72,-1756.93 920.72,-1756.93 920.72,-1575.45 920.72,-1435.89 1061.78,-1463.04 1195.72,-1423.84 1201.44,-1422.17 1207.37,-1420.43 1213.31,-1418.67\"/>\n",
       "<polygon fill=\"#838b8b\" stroke=\"#838b8b\" points=\"1214.71,-1421.91 1223.31,-1415.71 1212.73,-1415.19 1214.71,-1421.91\"/>\n",
       "</g>\n",
       "<!-- callgraphX__tile_7_3 -->\n",
       "<g id=\"node62\" class=\"node\">\n",
       "<title>callgraphX__tile_7_3</title>\n",
       "<ellipse fill=\"#fecccc\" fill-opacity=\"0.698039\" stroke=\"black\" cx=\"2600.72\" cy=\"-1217.49\" rx=\"82.96\" ry=\"26.74\"/>\n",
       "<text text-anchor=\"middle\" x=\"2600.72\" y=\"-1221.29\" font-family=\"Times,serif\" font-size=\"14.00\" fill=\"#000000\">tile_7_3</text>\n",
       "<text text-anchor=\"middle\" x=\"2600.72\" y=\"-1206.29\" font-family=\"Times,serif\" font-size=\"14.00\" fill=\"#000000\">(callgraph.py:381)</text>\n",
       "</g>\n",
       "<!-- callgraphX&#45;&gt;callgraphX__tile_7_3 -->\n",
       "<g id=\"edge60\" class=\"edge\">\n",
       "<title>callgraphX&#45;&gt;callgraphX__tile_7_3</title>\n",
       "<path fill=\"none\" stroke=\"#838b8b\" stroke-dasharray=\"5,2\" d=\"M3748.67,-1919.79C3740.81,-1915.33 3731.68,-1910.97 3722.72,-1908.54 3668.64,-1893.87 2756.94,-1909.39 2714.72,-1872.54 2675.44,-1838.25 2694.72,-1809.08 2694.72,-1756.93 2694.72,-1756.93 2694.72,-1756.93 2694.72,-1395.97 2694.72,-1343.21 2694.28,-1325.96 2667.72,-1280.36 2660.99,-1268.8 2651.41,-1258.14 2641.59,-1249.03\"/>\n",
       "<polygon fill=\"#838b8b\" stroke=\"#838b8b\" points=\"2643.89,-1246.39 2634.08,-1242.39 2639.25,-1251.63 2643.89,-1246.39\"/>\n",
       "</g>\n",
       "<!-- callgraphX__tile_7_4 -->\n",
       "<g id=\"node63\" class=\"node\">\n",
       "<title>callgraphX__tile_7_4</title>\n",
       "<ellipse fill=\"#fecccc\" fill-opacity=\"0.698039\" stroke=\"black\" cx=\"1162.72\" cy=\"-1127.75\" rx=\"82.96\" ry=\"26.74\"/>\n",
       "<text text-anchor=\"middle\" x=\"1162.72\" y=\"-1131.55\" font-family=\"Times,serif\" font-size=\"14.00\" fill=\"#000000\">tile_7_4</text>\n",
       "<text text-anchor=\"middle\" x=\"1162.72\" y=\"-1116.55\" font-family=\"Times,serif\" font-size=\"14.00\" fill=\"#000000\">(callgraph.py:386)</text>\n",
       "</g>\n",
       "<!-- callgraphX&#45;&gt;callgraphX__tile_7_4 -->\n",
       "<g id=\"edge57\" class=\"edge\">\n",
       "<title>callgraphX&#45;&gt;callgraphX__tile_7_4</title>\n",
       "<path fill=\"none\" stroke=\"#838b8b\" stroke-dasharray=\"5,2\" d=\"M3748.7,-1919.67C3740.84,-1915.21 3731.7,-1910.87 3722.72,-1908.54 3647.05,-1888.93 965.53,-1926.24 908.72,-1872.54 871.29,-1837.16 900.72,-1808.44 900.72,-1756.93 900.72,-1756.93 900.72,-1756.93 900.72,-1306.23 900.72,-1216.14 1008.23,-1168.64 1085.51,-1146.14\"/>\n",
       "<polygon fill=\"#838b8b\" stroke=\"#838b8b\" points=\"1086.58,-1149.47 1095.25,-1143.39 1084.68,-1142.74 1086.58,-1149.47\"/>\n",
       "</g>\n",
       "<!-- callgraphX__tile_7_5 -->\n",
       "<g id=\"node64\" class=\"node\">\n",
       "<title>callgraphX__tile_7_5</title>\n",
       "<ellipse fill=\"#fecccc\" fill-opacity=\"0.698039\" stroke=\"black\" cx=\"2396.72\" cy=\"-1307.23\" rx=\"82.96\" ry=\"26.74\"/>\n",
       "<text text-anchor=\"middle\" x=\"2396.72\" y=\"-1311.03\" font-family=\"Times,serif\" font-size=\"14.00\" fill=\"#000000\">tile_7_5</text>\n",
       "<text text-anchor=\"middle\" x=\"2396.72\" y=\"-1296.03\" font-family=\"Times,serif\" font-size=\"14.00\" fill=\"#000000\">(callgraph.py:391)</text>\n",
       "</g>\n",
       "<!-- callgraphX&#45;&gt;callgraphX__tile_7_5 -->\n",
       "<g id=\"edge54\" class=\"edge\">\n",
       "<title>callgraphX&#45;&gt;callgraphX__tile_7_5</title>\n",
       "<path fill=\"none\" stroke=\"#838b8b\" stroke-dasharray=\"5,2\" d=\"M3748.68,-1919.78C3740.81,-1915.32 3731.68,-1910.96 3722.72,-1908.54 3664.45,-1892.81 2682.91,-1911.41 2636.72,-1872.54 2596.57,-1838.75 2612.72,-1809.41 2612.72,-1756.93 2612.72,-1756.93 2612.72,-1756.93 2612.72,-1485.71 2612.72,-1433.71 2628.67,-1409.5 2594.72,-1370.1 2592.47,-1367.49 2522.06,-1345.86 2465.84,-1328.91\"/>\n",
       "<polygon fill=\"#838b8b\" stroke=\"#838b8b\" points=\"2466.83,-1325.55 2456.24,-1326.01 2464.81,-1332.25 2466.83,-1325.55\"/>\n",
       "</g>\n",
       "<!-- callgraphX__tile_7_6 -->\n",
       "<g id=\"node65\" class=\"node\">\n",
       "<title>callgraphX__tile_7_6</title>\n",
       "<ellipse fill=\"#fecccc\" fill-opacity=\"0.698039\" stroke=\"black\" cx=\"2913.72\" cy=\"-140.61\" rx=\"82.96\" ry=\"26.74\"/>\n",
       "<text text-anchor=\"middle\" x=\"2913.72\" y=\"-144.41\" font-family=\"Times,serif\" font-size=\"14.00\" fill=\"#000000\">tile_7_6</text>\n",
       "<text text-anchor=\"middle\" x=\"2913.72\" y=\"-129.41\" font-family=\"Times,serif\" font-size=\"14.00\" fill=\"#000000\">(callgraph.py:396)</text>\n",
       "</g>\n",
       "<!-- callgraphX&#45;&gt;callgraphX__tile_7_6 -->\n",
       "<g id=\"edge51\" class=\"edge\">\n",
       "<title>callgraphX&#45;&gt;callgraphX__tile_7_6</title>\n",
       "<path fill=\"none\" stroke=\"#838b8b\" stroke-dasharray=\"5,2\" d=\"M3747.48,-1919.96C3739.83,-1915.73 3731.13,-1911.47 3722.72,-1908.54 3636.19,-1878.42 3589.87,-1931.5 3519.72,-1872.54 3477.87,-1837.37 3477.72,-1811.6 3477.72,-1756.93 3477.72,-1756.93 3477.72,-1756.93 3477.72,-319.09 3477.72,-293.18 3481.5,-221.33 3462.72,-203.48 3425.73,-168.31 3054.97,-176.5 3004.72,-167.48 2997.11,-166.11 2989.21,-164.37 2981.4,-162.44\"/>\n",
       "<polygon fill=\"#838b8b\" stroke=\"#838b8b\" points=\"2982.13,-159.02 2971.58,-159.91 2980.39,-165.8 2982.13,-159.02\"/>\n",
       "</g>\n",
       "<!-- callgraphX__tile_7_7 -->\n",
       "<g id=\"node66\" class=\"node\">\n",
       "<title>callgraphX__tile_7_7</title>\n",
       "<ellipse fill=\"#fecccc\" fill-opacity=\"0.698039\" stroke=\"black\" cx=\"3096.72\" cy=\"-140.61\" rx=\"82.96\" ry=\"26.74\"/>\n",
       "<text text-anchor=\"middle\" x=\"3096.72\" y=\"-144.41\" font-family=\"Times,serif\" font-size=\"14.00\" fill=\"#000000\">tile_7_7</text>\n",
       "<text text-anchor=\"middle\" x=\"3096.72\" y=\"-129.41\" font-family=\"Times,serif\" font-size=\"14.00\" fill=\"#000000\">(callgraph.py:401)</text>\n",
       "</g>\n",
       "<!-- callgraphX&#45;&gt;callgraphX__tile_7_7 -->\n",
       "<g id=\"edge49\" class=\"edge\">\n",
       "<title>callgraphX&#45;&gt;callgraphX__tile_7_7</title>\n",
       "<path fill=\"none\" stroke=\"#838b8b\" stroke-dasharray=\"5,2\" d=\"M3747.42,-1920.13C3739.77,-1915.91 3731.08,-1911.61 3722.72,-1908.54 3650.22,-1881.95 3608.12,-1926.36 3552.72,-1872.54 3514.8,-1835.7 3524.72,-1809.8 3524.72,-1756.93 3524.72,-1756.93 3524.72,-1756.93 3524.72,-319.09 3524.72,-264.42 3525.51,-237.51 3482.72,-203.48 3431.04,-162.37 3252.46,-180.55 3187.72,-167.48 3180.25,-165.97 3172.5,-164.16 3164.81,-162.2\"/>\n",
       "<polygon fill=\"#838b8b\" stroke=\"#838b8b\" points=\"3165.7,-158.82 3155.14,-159.66 3163.92,-165.59 3165.7,-158.82\"/>\n",
       "</g>\n",
       "<!-- callgraphX__tile_7_8 -->\n",
       "<g id=\"node67\" class=\"node\">\n",
       "<title>callgraphX__tile_7_8</title>\n",
       "<ellipse fill=\"#fecccc\" fill-opacity=\"0.698039\" stroke=\"black\" cx=\"3279.72\" cy=\"-140.61\" rx=\"82.96\" ry=\"26.74\"/>\n",
       "<text text-anchor=\"middle\" x=\"3279.72\" y=\"-144.41\" font-family=\"Times,serif\" font-size=\"14.00\" fill=\"#000000\">tile_7_8</text>\n",
       "<text text-anchor=\"middle\" x=\"3279.72\" y=\"-129.41\" font-family=\"Times,serif\" font-size=\"14.00\" fill=\"#000000\">(callgraph.py:406)</text>\n",
       "</g>\n",
       "<!-- callgraphX&#45;&gt;callgraphX__tile_7_8 -->\n",
       "<g id=\"edge36\" class=\"edge\">\n",
       "<title>callgraphX&#45;&gt;callgraphX__tile_7_8</title>\n",
       "<path fill=\"none\" stroke=\"#838b8b\" stroke-dasharray=\"5,2\" d=\"M3746.76,-1920.29C3739.22,-1916.18 3730.76,-1911.9 3722.72,-1908.54 3672.12,-1887.43 3646.87,-1907.62 3604.72,-1872.54 3560.23,-1835.51 3544.72,-1814.82 3544.72,-1756.93 3544.72,-1756.93 3544.72,-1756.93 3544.72,-319.09 3544.72,-293.18 3547.15,-222.65 3529.72,-203.48 3481.27,-150.19 3441.52,-185.23 3371.72,-167.48 3364.76,-165.71 3357.52,-163.8 3350.29,-161.84\"/>\n",
       "<polygon fill=\"#838b8b\" stroke=\"#838b8b\" points=\"3351.05,-158.42 3340.48,-159.16 3349.2,-165.17 3351.05,-158.42\"/>\n",
       "</g>\n",
       "<!-- callgraphX__maze&#45;&gt;callgraphX__tile_2_1 -->\n",
       "<g id=\"edge83\" class=\"edge\">\n",
       "<title>callgraphX__maze&#45;&gt;callgraphX__tile_2_1</title>\n",
       "<path fill=\"none\" stroke=\"#000000\" d=\"M1595.03,-2201.8C1377.48,-2196.28 765.36,-2177.88 567.72,-2141.76 561.46,-2140.62 555.01,-2139.14 548.6,-2137.46\"/>\n",
       "<polygon fill=\"#000000\" stroke=\"#000000\" points=\"549.18,-2133.99 538.61,-2134.69 547.31,-2140.74 549.18,-2133.99\"/>\n",
       "</g>\n",
       "<!-- callgraphX__tile_1_0&#45;&gt;callgraphX__print_maze -->\n",
       "<g id=\"edge67\" class=\"edge\">\n",
       "<title>callgraphX__tile_1_0&#45;&gt;callgraphX__print_maze</title>\n",
       "<path fill=\"none\" stroke=\"#000000\" d=\"M3404.46,-121.15C3393.72,-118.16 3382.46,-115.48 3371.72,-113.74 3017.05,-56.17 1885.84,-51.83 1568.32,-51.77\"/>\n",
       "<polygon fill=\"#000000\" stroke=\"#000000\" points=\"1568.26,-48.27 1558.26,-51.77 1568.26,-55.27 1568.26,-48.27\"/>\n",
       "</g>\n",
       "<!-- callgraphX__tile_1_1&#45;&gt;callgraphX__print_maze -->\n",
       "<g id=\"edge68\" class=\"edge\">\n",
       "<title>callgraphX__tile_1_1&#45;&gt;callgraphX__print_maze</title>\n",
       "<path fill=\"none\" stroke=\"#000000\" d=\"M876.2,-1106.47C857.12,-1096.33 836.24,-1082.44 821.72,-1064.88 805.48,-1045.24 816.05,-1032.22 801.72,-1011.14 788.28,-991.36 772.46,-996.52 761.72,-975.14 729.38,-910.73 754.44,-720.59 731.72,-652.18 725.82,-634.39 719.07,-632.44 709.72,-616.18 696.2,-592.65 699.4,-582.13 680.72,-562.44 659.59,-540.15 638.46,-552.2 621.72,-526.44 593.5,-482.99 606.72,-462.64 606.72,-410.83 606.72,-410.83 606.72,-410.83 606.72,-229.35 606.72,-177.54 584.05,-149.31 621.72,-113.74 677.58,-61.01 1195.13,-53.04 1400.92,-51.97\"/>\n",
       "<polygon fill=\"#000000\" stroke=\"#000000\" points=\"1401.09,-55.47 1411.07,-51.92 1401.06,-48.47 1401.09,-55.47\"/>\n",
       "</g>\n",
       "<!-- callgraphX__tile_1_2&#45;&gt;callgraphX__print_maze -->\n",
       "<g id=\"edge69\" class=\"edge\">\n",
       "<title>callgraphX__tile_1_2&#45;&gt;callgraphX__print_maze</title>\n",
       "<path fill=\"none\" stroke=\"#000000\" d=\"M3578.46,-121.13C3567.73,-118.14 3556.46,-115.47 3545.72,-113.74 3155.47,-50.95 1904.81,-50.45 1568.61,-51.5\"/>\n",
       "<polygon fill=\"#000000\" stroke=\"#000000\" points=\"1568.44,-48 1558.45,-51.53 1568.46,-55 1568.44,-48\"/>\n",
       "</g>\n",
       "<!-- callgraphX__tile_1_3&#45;&gt;callgraphX__print_maze -->\n",
       "<g id=\"edge70\" class=\"edge\">\n",
       "<title>callgraphX__tile_1_3&#45;&gt;callgraphX__print_maze</title>\n",
       "<path fill=\"none\" stroke=\"#000000\" d=\"M1045.68,-474.83C1008.05,-443.97 950.72,-386.26 950.72,-321.09 950.72,-321.09 950.72,-321.09 950.72,-229.35 950.72,-177.54 928.9,-150.19 965.72,-113.74 996.14,-83.64 1263.58,-64.3 1402.18,-56.21\"/>\n",
       "<polygon fill=\"#000000\" stroke=\"#000000\" points=\"1402.56,-59.7 1412.34,-55.63 1402.16,-52.71 1402.56,-59.7\"/>\n",
       "</g>\n",
       "<!-- callgraphX__tile_1_4&#45;&gt;callgraphX__print_maze -->\n",
       "<g id=\"edge71\" class=\"edge\">\n",
       "<title>callgraphX__tile_1_4&#45;&gt;callgraphX__print_maze</title>\n",
       "<path fill=\"none\" stroke=\"#000000\" d=\"M2090.28,-654.55C2101.86,-644.24 2113.55,-631.07 2119.72,-616.18 2139.58,-568.31 2153.88,-421.94 2119.72,-382.96 2039.35,-291.25 1949.08,-414.76 1847.72,-346.96 1824.81,-331.63 1839.01,-309.46 1816.72,-293.22 1755.37,-248.49 1703.25,-311.08 1649.72,-257.22 1603.8,-211.01 1660.36,-164.66 1619.72,-113.74 1603.33,-93.19 1578.57,-79.2 1554.72,-69.8\"/>\n",
       "<polygon fill=\"#000000\" stroke=\"#000000\" points=\"1555.89,-66.5 1545.3,-66.29 1553.45,-73.06 1555.89,-66.5\"/>\n",
       "</g>\n",
       "<!-- callgraphX__tile_1_5&#45;&gt;callgraphX__print_maze -->\n",
       "<g id=\"edge72\" class=\"edge\">\n",
       "<title>callgraphX__tile_1_5&#45;&gt;callgraphX__print_maze</title>\n",
       "<path fill=\"none\" stroke=\"#000000\" d=\"M1149.75,-564.58C1161.25,-554.23 1173.03,-541.11 1179.72,-526.44 1192.99,-497.36 1187.43,-414.84 1189.72,-382.96 1194.03,-323.12 1170.54,-159.16 1209.72,-113.74 1234.76,-84.72 1332.11,-68.05 1403.91,-59.48\"/>\n",
       "<polygon fill=\"#000000\" stroke=\"#000000\" points=\"1404.33,-62.96 1413.86,-58.33 1403.52,-56 1404.33,-62.96\"/>\n",
       "</g>\n",
       "<!-- callgraphX__tile_1_6&#45;&gt;callgraphX__print_maze -->\n",
       "<g id=\"edge73\" class=\"edge\">\n",
       "<title>callgraphX__tile_1_6&#45;&gt;callgraphX__print_maze</title>\n",
       "<path fill=\"none\" stroke=\"#000000\" d=\"M806.84,-472.45C810.68,-437.88 816.72,-375 816.72,-321.09 816.72,-321.09 816.72,-321.09 816.72,-229.35 816.72,-176.38 805.58,-148.3 845.72,-113.74 887.01,-78.19 1238.01,-60.85 1401.52,-54.65\"/>\n",
       "<polygon fill=\"#000000\" stroke=\"#000000\" points=\"1401.68,-58.14 1411.54,-54.27 1401.42,-51.15 1401.68,-58.14\"/>\n",
       "</g>\n",
       "<!-- callgraphX__tile_1_7&#45;&gt;callgraphX__print_maze -->\n",
       "<g id=\"edge74\" class=\"edge\">\n",
       "<title>callgraphX__tile_1_7&#45;&gt;callgraphX__print_maze</title>\n",
       "<path fill=\"none\" stroke=\"#000000\" d=\"M1638.73,-391.49C1628.75,-388.57 1618.45,-385.62 1608.72,-382.96 1545.09,-365.55 1505.32,-398.96 1464.72,-346.96 1454.94,-334.43 1436.98,-314.46 1466.72,-113.74 1468.01,-105.07 1470.19,-95.91 1472.61,-87.38\"/>\n",
       "<polygon fill=\"#000000\" stroke=\"#000000\" points=\"1475.99,-88.3 1475.5,-77.71 1469.28,-86.29 1475.99,-88.3\"/>\n",
       "</g>\n",
       "<!-- callgraphX__tile_1_8&#45;&gt;callgraphX__print_maze -->\n",
       "<g id=\"edge75\" class=\"edge\">\n",
       "<title>callgraphX__tile_1_8&#45;&gt;callgraphX__print_maze</title>\n",
       "<path fill=\"none\" stroke=\"#000000\" d=\"M565.75,-121.9C577.53,-118.73 589.95,-115.79 601.72,-113.74 892.29,-63.25 1243.44,-53.69 1401.04,-52.07\"/>\n",
       "<polygon fill=\"#000000\" stroke=\"#000000\" points=\"1401.18,-55.57 1411.14,-51.97 1401.11,-48.57 1401.18,-55.57\"/>\n",
       "</g>\n",
       "<!-- callgraphX__tile_2_0&#45;&gt;callgraphX__print_maze -->\n",
       "<g id=\"edge76\" class=\"edge\">\n",
       "<title>callgraphX__tile_2_0&#45;&gt;callgraphX__print_maze</title>\n",
       "<path fill=\"none\" stroke=\"#000000\" d=\"M1694.16,-1190.2C1695.77,-1133.5 1691.41,-998.61 1620.72,-921.4 1587.13,-884.7 1550.04,-920.45 1514.72,-885.4 1454.77,-825.9 1409.15,-608.64 1389.72,-526.44 1377.81,-476.02 1374.72,-462.64 1374.72,-410.83 1374.72,-410.83 1374.72,-410.83 1374.72,-229.35 1374.72,-177.54 1362.15,-157.6 1389.72,-113.74 1399.27,-98.56 1414.06,-86.34 1429.14,-76.91\"/>\n",
       "<polygon fill=\"#000000\" stroke=\"#000000\" points=\"1431.18,-79.77 1438.02,-71.68 1427.63,-73.74 1431.18,-79.77\"/>\n",
       "</g>\n",
       "<!-- callgraphX__tile_2_1&#45;&gt;callgraphX__print_maze -->\n",
       "<g id=\"edge77\" class=\"edge\">\n",
       "<title>callgraphX__tile_2_1&#45;&gt;callgraphX__print_maze</title>\n",
       "<path fill=\"none\" stroke=\"#000000\" d=\"M408.34,-2111.21C309.89,-2103.13 143.35,-2072.83 65.72,-1962.28 49.87,-1939.7 70.18,-1825.94 77.72,-1818.8 115.37,-1783.19 491.37,-1789.76 542.72,-1782.8 759.31,-1753.44 1020.72,-1885.76 1020.72,-1667.19 1020.72,-1667.19 1020.72,-1667.19 1020.72,-1216.49 1020.72,-1190.7 1027.91,-1120.11 1010.72,-1100.88 956.65,-1040.37 891.18,-1120.11 831.72,-1064.88 813.56,-1048.01 829.38,-1032.47 816.72,-1011.14 805.01,-991.41 789.87,-995.72 779.72,-975.14 747.77,-910.33 765.33,-720.48 741.72,-652.18 735.6,-634.46 727.78,-633.11 719.72,-616.18 708.84,-593.31 716.83,-582 700.72,-562.44 680.72,-538.14 656.84,-552.86 639.72,-526.44 611.61,-483.04 626.72,-462.54 626.72,-410.83 626.72,-410.83 626.72,-410.83 626.72,-229.35 626.72,-177.78 600.01,-149.96 636.72,-113.74 690.36,-60.82 1197.87,-52.96 1401.14,-51.94\"/>\n",
       "<polygon fill=\"#000000\" stroke=\"#000000\" points=\"1401.19,-55.44 1411.17,-51.9 1401.15,-48.44 1401.19,-55.44\"/>\n",
       "</g>\n",
       "<!-- callgraphX__tile_2_1&#45;&gt;callgraphX__tile_1_1 -->\n",
       "<g id=\"edge82\" class=\"edge\">\n",
       "<title>callgraphX__tile_2_1&#45;&gt;callgraphX__tile_1_1</title>\n",
       "<path fill=\"none\" stroke=\"#000000\" d=\"M407.71,-2114.5C295.24,-2113.53 96.03,-2104.23 50.72,-2052.02 -17.21,-1973.74 -16.55,-1897.66 50.72,-1818.8 189.47,-1656.16 1000.72,-1880.97 1000.72,-1667.19 1000.72,-1667.19 1000.72,-1667.19 1000.72,-1306.23 1000.72,-1254.8 1018.19,-1236.89 995.72,-1190.62 989.58,-1177.98 979.54,-1166.89 968.88,-1157.72\"/>\n",
       "<polygon fill=\"#000000\" stroke=\"#000000\" points=\"971.03,-1154.96 961.05,-1151.4 966.63,-1160.41 971.03,-1154.96\"/>\n",
       "</g>\n",
       "<!-- callgraphX__tile_2_1&#45;&gt;callgraphX__tile_2_0 -->\n",
       "<g id=\"edge79\" class=\"edge\">\n",
       "<title>callgraphX__tile_2_1&#45;&gt;callgraphX__tile_2_0</title>\n",
       "<path fill=\"none\" stroke=\"#000000\" d=\"M502.24,-2088.51C508.75,-2077.62 515.82,-2064.55 520.72,-2052.02 530.43,-2027.23 555.12,-1835.66 575.72,-1818.8 670.87,-1740.93 1592.48,-1867.38 1681.72,-1782.8 1719.16,-1747.33 1691.72,-1718.77 1691.72,-1667.19 1691.72,-1667.19 1691.72,-1667.19 1691.72,-1395.97 1691.72,-1347.24 1692.11,-1290.99 1692.4,-1255.11\"/>\n",
       "<polygon fill=\"#000000\" stroke=\"#000000\" points=\"1695.9,-1254.68 1692.48,-1244.65 1688.9,-1254.62 1695.9,-1254.68\"/>\n",
       "</g>\n",
       "<!-- callgraphX__tile_2_1&#45;&gt;callgraphX__tile_2_1 -->\n",
       "<g id=\"edge78\" class=\"edge\">\n",
       "<title>callgraphX__tile_2_1&#45;&gt;callgraphX__tile_2_1</title>\n",
       "<path fill=\"none\" stroke=\"#000000\" d=\"M547.45,-2131.38C566.52,-2131.04 581.51,-2125.55 581.51,-2114.89 581.51,-2106.23 571.62,-2100.98 557.67,-2099.14\"/>\n",
       "<polygon fill=\"#000000\" stroke=\"#000000\" points=\"557.67,-2095.63 547.45,-2098.41 557.17,-2102.61 557.67,-2095.63\"/>\n",
       "</g>\n",
       "<!-- callgraphX__tile_2_1&#45;&gt;callgraphX__tile_2_2 -->\n",
       "<g id=\"edge81\" class=\"edge\">\n",
       "<title>callgraphX__tile_2_1&#45;&gt;callgraphX__tile_2_2</title>\n",
       "<path fill=\"none\" stroke=\"#000000\" d=\"M507.98,-2088.92C516.52,-2078.2 525.65,-2065.14 531.72,-2052.02 533.12,-2049.01 583.16,-1820.91 585.72,-1818.8 681.06,-1740.46 1597.54,-1857.55 1695.72,-1782.8 1738.54,-1750.2 1731.72,-1721.01 1731.72,-1667.19 1731.72,-1667.19 1731.72,-1667.19 1731.72,-1575.45 1731.72,-1375.25 1789.72,-1328.95 1789.72,-1128.75 1789.72,-1128.75 1789.72,-1128.75 1789.72,-947.27 1789.72,-896.43 1808.64,-840.26 1822.96,-805\"/>\n",
       "<polygon fill=\"#000000\" stroke=\"#000000\" points=\"1826.25,-806.21 1826.86,-795.63 1819.79,-803.52 1826.25,-806.21\"/>\n",
       "</g>\n",
       "<!-- callgraphX__tile_2_1&#45;&gt;callgraphX__tile_3_1 -->\n",
       "<g id=\"edge80\" class=\"edge\">\n",
       "<title>callgraphX__tile_2_1&#45;&gt;callgraphX__tile_3_1</title>\n",
       "<path fill=\"none\" stroke=\"#000000\" d=\"M458.71,-2089.45C450.22,-2080.26 440.99,-2069.65 432.87,-2059.76\"/>\n",
       "<polygon fill=\"#000000\" stroke=\"#000000\" points=\"435.36,-2057.27 426.35,-2051.69 429.91,-2061.67 435.36,-2057.27\"/>\n",
       "</g>\n",
       "<!-- callgraphX__tile_2_2&#45;&gt;callgraphX__print_maze -->\n",
       "<g id=\"edge84\" class=\"edge\">\n",
       "<title>callgraphX__tile_2_2&#45;&gt;callgraphX__print_maze</title>\n",
       "<path fill=\"none\" stroke=\"#000000\" d=\"M1868.78,-743.85C1882.08,-732.78 1897.64,-719.17 1910.72,-705.92 1932.61,-683.75 1929.55,-669.07 1955.72,-652.18 2005.74,-619.91 2048.73,-663.59 2084.72,-616.18 2100.62,-595.24 2124.01,-434.6 2076.72,-382.96 1994.97,-293.67 1908.67,-412.25 1806.72,-346.96 1782.92,-331.72 1795.86,-309.46 1772.72,-293.22 1712,-250.6 1663.43,-308.41 1609.72,-257.22 1561.89,-211.63 1608.38,-168.05 1570.72,-113.74 1561.26,-100.1 1547.78,-88.38 1534.29,-78.93\"/>\n",
       "<polygon fill=\"#000000\" stroke=\"#000000\" points=\"1536.19,-75.99 1525.93,-73.35 1532.3,-81.81 1536.19,-75.99\"/>\n",
       "</g>\n",
       "<!-- callgraphX__tile_2_3&#45;&gt;callgraphX__print_maze -->\n",
       "<g id=\"edge85\" class=\"edge\">\n",
       "<title>callgraphX__tile_2_3&#45;&gt;callgraphX__print_maze</title>\n",
       "<path fill=\"none\" stroke=\"#000000\" d=\"M1569.86,-837.25C1552.74,-827.37 1535.32,-813.67 1525.72,-795.66 1495.75,-739.38 1486.69,-702.61 1525.72,-652.18 1564.78,-601.72 1606.23,-641.69 1664.72,-616.18 1705.35,-598.46 1710.11,-584.19 1748.72,-562.44 1776.34,-546.89 1987.97,-463.6 2004.72,-436.7 2017.35,-416.43 2020.59,-400.81 2004.72,-382.96 1959.54,-332.11 1756.13,-386.43 1700.72,-346.96 1679.11,-331.56 1695.43,-309.81 1674.72,-293.22 1620.21,-249.53 1569.8,-307.9 1521.72,-257.22 1510.22,-245.09 1496.07,-143.67 1489.07,-88.05\"/>\n",
       "<polygon fill=\"#000000\" stroke=\"#000000\" points=\"1492.51,-87.39 1487.81,-77.9 1485.57,-88.26 1492.51,-87.39\"/>\n",
       "</g>\n",
       "<!-- callgraphX__tile_2_3&#45;&gt;callgraphX__tile_1_3 -->\n",
       "<g id=\"edge87\" class=\"edge\">\n",
       "<title>callgraphX__tile_2_3&#45;&gt;callgraphX__tile_1_3</title>\n",
       "<path fill=\"none\" stroke=\"#000000\" d=\"M1568.05,-837.72C1424.08,-780.29 1016.76,-617.72 1015.72,-616.18 1002.34,-596.4 1006.57,-584.5 1015.72,-562.44 1020.6,-550.69 1028.9,-540.02 1037.88,-530.97\"/>\n",
       "<polygon fill=\"#000000\" stroke=\"#000000\" points=\"1040.31,-533.48 1045.17,-524.07 1035.5,-528.4 1040.31,-533.48\"/>\n",
       "</g>\n",
       "<!-- callgraphX__tile_2_3&#45;&gt;callgraphX__tile_2_2 -->\n",
       "<g id=\"edge90\" class=\"edge\">\n",
       "<title>callgraphX__tile_2_3&#45;&gt;callgraphX__tile_2_2</title>\n",
       "<path fill=\"none\" stroke=\"#000000\" d=\"M1667.6,-837.73C1700.76,-824.56 1744.48,-807.21 1779.43,-793.33\"/>\n",
       "<polygon fill=\"#000000\" stroke=\"#000000\" points=\"1781.03,-796.46 1789.03,-789.52 1778.45,-789.96 1781.03,-796.46\"/>\n",
       "</g>\n",
       "<!-- callgraphX__tile_2_3&#45;&gt;callgraphX__tile_2_3 -->\n",
       "<g id=\"edge89\" class=\"edge\">\n",
       "<title>callgraphX__tile_2_3&#45;&gt;callgraphX__tile_2_3</title>\n",
       "<path fill=\"none\" stroke=\"#000000\" d=\"M1679.45,-875.01C1698.52,-874.68 1713.51,-869.19 1713.51,-858.53 1713.51,-849.87 1703.62,-844.62 1689.67,-842.78\"/>\n",
       "<polygon fill=\"#000000\" stroke=\"#000000\" points=\"1689.67,-839.27 1679.45,-842.05 1689.17,-846.25 1689.67,-839.27\"/>\n",
       "</g>\n",
       "<!-- callgraphX__tile_2_3&#45;&gt;callgraphX__tile_2_4 -->\n",
       "<g id=\"edge88\" class=\"edge\">\n",
       "<title>callgraphX__tile_2_3&#45;&gt;callgraphX__tile_2_4</title>\n",
       "<path fill=\"none\" stroke=\"#000000\" d=\"M1611.51,-831.68C1611,-823.63 1610.86,-814.6 1611.07,-805.98\"/>\n",
       "<polygon fill=\"#000000\" stroke=\"#000000\" points=\"1614.57,-805.9 1611.5,-795.76 1607.58,-805.6 1614.57,-805.9\"/>\n",
       "</g>\n",
       "<!-- callgraphX__tile_2_3&#45;&gt;callgraphX__tile_3_3 -->\n",
       "<g id=\"edge86\" class=\"edge\">\n",
       "<title>callgraphX__tile_2_3&#45;&gt;callgraphX__tile_3_3</title>\n",
       "<path fill=\"none\" stroke=\"#000000\" d=\"M1556.83,-875.45C1494.42,-890.9 1397.29,-914.25 1329.62,-930.1\"/>\n",
       "<polygon fill=\"#000000\" stroke=\"#000000\" points=\"1328.8,-926.7 1319.86,-932.39 1330.39,-933.52 1328.8,-926.7\"/>\n",
       "</g>\n",
       "<!-- callgraphX__tile_2_4&#45;&gt;callgraphX__print_maze -->\n",
       "<g id=\"edge93\" class=\"edge\">\n",
       "<title>callgraphX__tile_2_4&#45;&gt;callgraphX__print_maze</title>\n",
       "<path fill=\"none\" stroke=\"#000000\" d=\"M1555.36,-751.13C1469.99,-728.4 1311.92,-686.57 1176.72,-652.18 1111.95,-635.71 1071.94,-668.79 1030.72,-616.18 1016,-597.38 1016.19,-581.39 1030.72,-562.44 1068.25,-513.5 1127.2,-575.38 1164.72,-526.44 1179.26,-507.49 1176,-493.75 1164.72,-472.7 1117.08,-383.77 1023.37,-435.89 975.72,-346.96 969.5,-335.35 967.93,-226.82 976.72,-203.48 995.24,-154.3 1007.66,-139.03 1053.72,-113.74 1112.06,-81.71 1294.03,-64.47 1401.97,-56.83\"/>\n",
       "<polygon fill=\"#000000\" stroke=\"#000000\" points=\"1402.45,-60.31 1412.18,-56.12 1401.96,-53.32 1402.45,-60.31\"/>\n",
       "</g>\n",
       "<!-- callgraphX__tile_2_4&#45;&gt;callgraphX__tile_1_4 -->\n",
       "<g id=\"edge91\" class=\"edge\">\n",
       "<title>callgraphX__tile_2_4&#45;&gt;callgraphX__tile_1_4</title>\n",
       "<path fill=\"none\" stroke=\"#000000\" d=\"M1686.96,-753.99C1767.07,-738.01 1898.59,-711.78 1981.54,-695.24\"/>\n",
       "<polygon fill=\"#000000\" stroke=\"#000000\" points=\"1982.29,-698.66 1991.41,-693.27 1980.92,-691.8 1982.29,-698.66\"/>\n",
       "</g>\n",
       "<!-- callgraphX__tile_2_4&#45;&gt;callgraphX__tile_2_3 -->\n",
       "<g id=\"edge96\" class=\"edge\">\n",
       "<title>callgraphX__tile_2_4&#45;&gt;callgraphX__tile_2_3</title>\n",
       "<path fill=\"none\" stroke=\"#000000\" d=\"M1623.95,-795.76C1624.45,-803.82 1624.59,-812.85 1624.38,-821.47\"/>\n",
       "<polygon fill=\"#000000\" stroke=\"#000000\" points=\"1620.87,-821.54 1623.94,-831.68 1627.87,-821.84 1620.87,-821.54\"/>\n",
       "</g>\n",
       "<!-- callgraphX__tile_2_4&#45;&gt;callgraphX__tile_2_4 -->\n",
       "<g id=\"edge95\" class=\"edge\">\n",
       "<title>callgraphX__tile_2_4&#45;&gt;callgraphX__tile_2_4</title>\n",
       "<path fill=\"none\" stroke=\"#000000\" d=\"M1683.12,-785.27C1702.95,-784.85 1718.46,-779.36 1718.46,-768.79 1718.46,-760.12 1708.02,-754.87 1693.33,-753.03\"/>\n",
       "<polygon fill=\"#000000\" stroke=\"#000000\" points=\"1693.34,-749.52 1683.12,-752.32 1692.85,-756.51 1693.34,-749.52\"/>\n",
       "</g>\n",
       "<!-- callgraphX__tile_2_4&#45;&gt;callgraphX__tile_2_5 -->\n",
       "<g id=\"edge92\" class=\"edge\">\n",
       "<title>callgraphX__tile_2_4&#45;&gt;callgraphX__tile_2_5</title>\n",
       "<path fill=\"none\" stroke=\"#000000\" d=\"M1658.86,-745.2C1683.49,-732.93 1715.11,-717.74 1742.28,-705.12\"/>\n",
       "<polygon fill=\"#000000\" stroke=\"#000000\" points=\"1744.08,-708.14 1751.69,-700.77 1741.14,-701.79 1744.08,-708.14\"/>\n",
       "</g>\n",
       "<!-- callgraphX__tile_2_4&#45;&gt;callgraphX__tile_3_4 -->\n",
       "<g id=\"edge94\" class=\"edge\">\n",
       "<title>callgraphX__tile_2_4&#45;&gt;callgraphX__tile_3_4</title>\n",
       "<path fill=\"none\" stroke=\"#000000\" d=\"M1617.72,-741.47C1617.72,-733.5 1617.72,-724.61 1617.72,-716.12\"/>\n",
       "<polygon fill=\"#000000\" stroke=\"#000000\" points=\"1621.22,-716.05 1617.72,-706.05 1614.22,-716.05 1621.22,-716.05\"/>\n",
       "</g>\n",
       "<!-- callgraphX__tile_2_5&#45;&gt;callgraphX__print_maze -->\n",
       "<g id=\"edge98\" class=\"edge\">\n",
       "<title>callgraphX__tile_2_5&#45;&gt;callgraphX__print_maze</title>\n",
       "<path fill=\"none\" stroke=\"#000000\" d=\"M1816.92,-652.55C1834.62,-626.56 1865.24,-586.72 1900.72,-562.44 1940.05,-535.53 1967.37,-559.47 2001.72,-526.44 2049.11,-480.87 2081.23,-432.25 2037.72,-382.96 1995.04,-334.61 1801.85,-384.95 1749.72,-346.96 1728.44,-331.44 1745.23,-309.75 1724.72,-293.22 1667.97,-247.48 1616.89,-308.12 1564.72,-257.22 1541.2,-234.26 1542.49,-143.59 1528.72,-113.74 1524.17,-103.85 1517.97,-93.9 1511.66,-84.96\"/>\n",
       "<polygon fill=\"#000000\" stroke=\"#000000\" points=\"1514.37,-82.74 1505.64,-76.74 1508.72,-86.87 1514.37,-82.74\"/>\n",
       "</g>\n",
       "<!-- callgraphX__tile_2_5&#45;&gt;callgraphX__tile_1_5 -->\n",
       "<g id=\"edge99\" class=\"edge\">\n",
       "<title>callgraphX__tile_2_5&#45;&gt;callgraphX__tile_1_5</title>\n",
       "<path fill=\"none\" stroke=\"#000000\" d=\"M1742.34,-659.85C1731.57,-656.95 1720.37,-654.23 1709.72,-652.18 1532.19,-617.93 1320.79,-601.6 1204.75,-594.69\"/>\n",
       "<polygon fill=\"#000000\" stroke=\"#000000\" points=\"1204.7,-591.18 1194.51,-594.09 1204.29,-598.17 1204.7,-591.18\"/>\n",
       "</g>\n",
       "<!-- callgraphX__tile_2_5&#45;&gt;callgraphX__tile_2_4 -->\n",
       "<g id=\"edge100\" class=\"edge\">\n",
       "<title>callgraphX__tile_2_5&#45;&gt;callgraphX__tile_2_4</title>\n",
       "<path fill=\"none\" stroke=\"#000000\" d=\"M1759.8,-702.54C1735.2,-714.79 1703.56,-729.99 1676.35,-742.64\"/>\n",
       "<polygon fill=\"#000000\" stroke=\"#000000\" points=\"1674.54,-739.62 1666.93,-747 1677.48,-745.98 1674.54,-739.62\"/>\n",
       "</g>\n",
       "<!-- callgraphX__tile_2_5&#45;&gt;callgraphX__tile_2_5 -->\n",
       "<g id=\"edge97\" class=\"edge\">\n",
       "<title>callgraphX__tile_2_5&#45;&gt;callgraphX__tile_2_5</title>\n",
       "<path fill=\"none\" stroke=\"#000000\" d=\"M1866.12,-695.53C1885.95,-695.11 1901.46,-689.62 1901.46,-679.05 1901.46,-670.38 1891.02,-665.13 1876.33,-663.29\"/>\n",
       "<polygon fill=\"#000000\" stroke=\"#000000\" points=\"1876.34,-659.78 1866.12,-662.58 1875.85,-666.77 1876.34,-659.78\"/>\n",
       "</g>\n",
       "<!-- callgraphX__tile_2_5&#45;&gt;callgraphX__tile_2_6 -->\n",
       "<g id=\"edge102\" class=\"edge\">\n",
       "<title>callgraphX__tile_2_5&#45;&gt;callgraphX__tile_2_6</title>\n",
       "<path fill=\"none\" stroke=\"#000000\" d=\"M1743.23,-659.55C1704.87,-646.34 1654.57,-628.46 1615.54,-614.17\"/>\n",
       "<polygon fill=\"#000000\" stroke=\"#000000\" points=\"1616.47,-610.78 1605.88,-610.62 1614.06,-617.36 1616.47,-610.78\"/>\n",
       "</g>\n",
       "<!-- callgraphX__tile_2_5&#45;&gt;callgraphX__tile_3_5 -->\n",
       "<g id=\"edge101\" class=\"edge\">\n",
       "<title>callgraphX__tile_2_5&#45;&gt;callgraphX__tile_3_5</title>\n",
       "<path fill=\"none\" stroke=\"#000000\" d=\"M1847.2,-656.81C1874.12,-644.51 1908.2,-628.94 1936.61,-615.95\"/>\n",
       "<polygon fill=\"#000000\" stroke=\"#000000\" points=\"1938.37,-619 1946.01,-611.66 1935.46,-612.63 1938.37,-619\"/>\n",
       "</g>\n",
       "<!-- callgraphX__tile_2_6&#45;&gt;callgraphX__print_maze -->\n",
       "<g id=\"edge104\" class=\"edge\">\n",
       "<title>callgraphX__tile_2_6&#45;&gt;callgraphX__print_maze</title>\n",
       "<path fill=\"none\" stroke=\"#000000\" d=\"M1511.29,-566.26C1494.39,-556 1475.95,-542.48 1462.72,-526.44 1427.33,-483.52 1414.72,-466.47 1414.72,-410.83 1414.72,-410.83 1414.72,-410.83 1414.72,-229.35 1414.72,-177.48 1409.22,-160.94 1430.72,-113.74 1435.66,-102.9 1443.13,-92.55 1450.94,-83.52\"/>\n",
       "<polygon fill=\"#000000\" stroke=\"#000000\" points=\"1453.7,-85.69 1457.85,-75.95 1448.53,-80.98 1453.7,-85.69\"/>\n",
       "</g>\n",
       "<!-- callgraphX__tile_2_6&#45;&gt;callgraphX__tile_1_6 -->\n",
       "<g id=\"edge105\" class=\"edge\">\n",
       "<title>callgraphX__tile_2_6&#45;&gt;callgraphX__tile_1_6</title>\n",
       "<path fill=\"none\" stroke=\"#000000\" d=\"M1476.18,-580.4C1367.13,-569.26 1163.75,-547.9 990.72,-526.44 955.94,-522.13 917.59,-516.9 884.72,-512.28\"/>\n",
       "<polygon fill=\"#000000\" stroke=\"#000000\" points=\"885.09,-508.8 874.7,-510.87 884.11,-515.73 885.09,-508.8\"/>\n",
       "</g>\n",
       "<!-- callgraphX__tile_2_6&#45;&gt;callgraphX__tile_2_5 -->\n",
       "<g id=\"edge103\" class=\"edge\">\n",
       "<title>callgraphX__tile_2_6&#45;&gt;callgraphX__tile_2_5</title>\n",
       "<path fill=\"none\" stroke=\"#000000\" d=\"M1612.2,-608.8C1650.63,-622.04 1701.04,-639.96 1740.1,-654.26\"/>\n",
       "<polygon fill=\"#000000\" stroke=\"#000000\" points=\"1739.18,-657.65 1749.77,-657.81 1741.59,-651.08 1739.18,-657.65\"/>\n",
       "</g>\n",
       "<!-- callgraphX__tile_2_6&#45;&gt;callgraphX__tile_2_6 -->\n",
       "<g id=\"edge108\" class=\"edge\">\n",
       "<title>callgraphX__tile_2_6&#45;&gt;callgraphX__tile_2_6</title>\n",
       "<path fill=\"none\" stroke=\"#000000\" d=\"M1620.12,-605.79C1639.95,-605.37 1655.46,-599.88 1655.46,-589.31 1655.46,-580.64 1645.02,-575.39 1630.33,-573.55\"/>\n",
       "<polygon fill=\"#000000\" stroke=\"#000000\" points=\"1630.34,-570.04 1620.12,-572.84 1629.85,-577.03 1630.34,-570.04\"/>\n",
       "</g>\n",
       "<!-- callgraphX__tile_2_6&#45;&gt;callgraphX__tile_2_7 -->\n",
       "<g id=\"edge107\" class=\"edge\">\n",
       "<title>callgraphX__tile_2_6&#45;&gt;callgraphX__tile_2_7</title>\n",
       "<path fill=\"none\" stroke=\"#000000\" d=\"M1548.51,-562.46C1548,-554.41 1547.86,-545.38 1548.07,-536.76\"/>\n",
       "<polygon fill=\"#000000\" stroke=\"#000000\" points=\"1551.57,-536.68 1548.5,-526.54 1544.58,-536.38 1551.57,-536.68\"/>\n",
       "</g>\n",
       "<!-- callgraphX__tile_2_6&#45;&gt;callgraphX__tile_3_6 -->\n",
       "<g id=\"edge106\" class=\"edge\">\n",
       "<title>callgraphX__tile_2_6&#45;&gt;callgraphX__tile_3_6</title>\n",
       "<path fill=\"none\" stroke=\"#000000\" d=\"M1608.66,-568.86C1693.64,-535.22 1843.15,-462.16 1782.72,-382.96 1781.5,-381.36 1694.78,-357.92 1629.14,-340.37\"/>\n",
       "<polygon fill=\"#000000\" stroke=\"#000000\" points=\"1629.78,-336.91 1619.21,-337.71 1627.97,-343.68 1629.78,-336.91\"/>\n",
       "</g>\n",
       "<!-- callgraphX__tile_2_7&#45;&gt;callgraphX__print_maze -->\n",
       "<g id=\"edge109\" class=\"edge\">\n",
       "<title>callgraphX__tile_2_7&#45;&gt;callgraphX__print_maze</title>\n",
       "<path fill=\"none\" stroke=\"#000000\" d=\"M1485.84,-484.57C1344.11,-455.09 1030.59,-386.1 1000.72,-346.96 927.61,-251.15 1030.83,-179.7 1139.72,-113.74 1183.09,-87.47 1316.2,-69.18 1403.83,-59.62\"/>\n",
       "<polygon fill=\"#000000\" stroke=\"#000000\" points=\"1404.45,-63.07 1414.02,-58.52 1403.7,-56.11 1404.45,-63.07\"/>\n",
       "</g>\n",
       "<!-- callgraphX__tile_2_7&#45;&gt;callgraphX__tile_1_7 -->\n",
       "<g id=\"edge112\" class=\"edge\">\n",
       "<title>callgraphX__tile_2_7&#45;&gt;callgraphX__tile_1_7</title>\n",
       "<path fill=\"none\" stroke=\"#000000\" d=\"M1591.77,-475.52C1609.66,-464.38 1631.29,-450.92 1650.18,-439.17\"/>\n",
       "<polygon fill=\"#000000\" stroke=\"#000000\" points=\"1652.28,-441.98 1658.93,-433.73 1648.59,-436.04 1652.28,-441.98\"/>\n",
       "</g>\n",
       "<!-- callgraphX__tile_2_7&#45;&gt;callgraphX__tile_2_6 -->\n",
       "<g id=\"edge114\" class=\"edge\">\n",
       "<title>callgraphX__tile_2_7&#45;&gt;callgraphX__tile_2_6</title>\n",
       "<path fill=\"none\" stroke=\"#000000\" d=\"M1560.95,-526.54C1561.45,-534.6 1561.59,-543.63 1561.38,-552.25\"/>\n",
       "<polygon fill=\"#000000\" stroke=\"#000000\" points=\"1557.87,-552.32 1560.94,-562.46 1564.87,-552.62 1557.87,-552.32\"/>\n",
       "</g>\n",
       "<!-- callgraphX__tile_2_7&#45;&gt;callgraphX__tile_2_7 -->\n",
       "<g id=\"edge113\" class=\"edge\">\n",
       "<title>callgraphX__tile_2_7&#45;&gt;callgraphX__tile_2_7</title>\n",
       "<path fill=\"none\" stroke=\"#000000\" d=\"M1620.12,-516.05C1639.95,-515.63 1655.46,-510.14 1655.46,-499.57 1655.46,-490.9 1645.02,-485.65 1630.33,-483.81\"/>\n",
       "<polygon fill=\"#000000\" stroke=\"#000000\" points=\"1630.34,-480.3 1620.12,-483.1 1629.85,-487.29 1630.34,-480.3\"/>\n",
       "</g>\n",
       "<!-- callgraphX__tile_2_7&#45;&gt;callgraphX__tile_2_8 -->\n",
       "<g id=\"edge111\" class=\"edge\">\n",
       "<title>callgraphX__tile_2_7&#45;&gt;callgraphX__tile_2_8</title>\n",
       "<path fill=\"none\" stroke=\"#000000\" d=\"M1543.53,-472.72C1539.9,-464.33 1535.8,-454.88 1531.93,-445.93\"/>\n",
       "<polygon fill=\"#000000\" stroke=\"#000000\" points=\"1535.03,-444.28 1527.84,-436.5 1528.6,-447.06 1535.03,-444.28\"/>\n",
       "</g>\n",
       "<!-- callgraphX__tile_2_7&#45;&gt;callgraphX__tile_3_7 -->\n",
       "<g id=\"edge110\" class=\"edge\">\n",
       "<title>callgraphX__tile_2_7&#45;&gt;callgraphX__tile_3_7</title>\n",
       "<path fill=\"none\" stroke=\"#000000\" d=\"M1616,-481.34C1673.06,-466.19 1758.19,-444.21 1819.38,-428.84\"/>\n",
       "<polygon fill=\"#000000\" stroke=\"#000000\" points=\"1820.52,-432.16 1829.37,-426.33 1818.82,-425.37 1820.52,-432.16\"/>\n",
       "</g>\n",
       "<!-- callgraphX__tile_2_8&#45;&gt;callgraphX__print_maze -->\n",
       "<g id=\"edge115\" class=\"edge\">\n",
       "<title>callgraphX__tile_2_8&#45;&gt;callgraphX__print_maze</title>\n",
       "<path fill=\"none\" stroke=\"#000000\" d=\"M1481.25,-385.54C1468.86,-375.33 1456.39,-362.19 1449.72,-346.96 1408.16,-252.01 1423.34,-213.98 1449.72,-113.74 1452.24,-104.17 1456.62,-94.53 1461.43,-85.8\"/>\n",
       "<polygon fill=\"#000000\" stroke=\"#000000\" points=\"1464.51,-87.47 1466.56,-77.07 1458.48,-83.92 1464.51,-87.47\"/>\n",
       "</g>\n",
       "<!-- callgraphX__tile_3_0&#45;&gt;callgraphX__print_maze -->\n",
       "<g id=\"edge116\" class=\"edge\">\n",
       "<title>callgraphX__tile_3_0&#45;&gt;callgraphX__print_maze</title>\n",
       "<path fill=\"none\" stroke=\"#000000\" d=\"M122.25,-1911.12C109.86,-1900.92 97.39,-1887.77 90.72,-1872.54 81.15,-1850.66 74.16,-1836.01 90.72,-1818.8 162.81,-1743.89 948.96,-1852.91 1025.72,-1782.8 1063.98,-1747.86 1040.72,-1719.01 1040.72,-1667.19 1040.72,-1667.19 1040.72,-1667.19 1040.72,-1216.49 1040.72,-1164.68 1060.73,-1139.08 1025.72,-1100.88 975.3,-1045.87 921.63,-1109.38 861.72,-1064.88 839.77,-1048.57 847.21,-1033.69 831.72,-1011.14 819.93,-993.97 809.98,-994.26 801.72,-975.14 744.43,-842.4 803.17,-790.99 762.72,-652.18 750.35,-609.72 749.25,-595.37 719.72,-562.44 699.47,-539.85 678.15,-551.95 661.72,-526.44 633.67,-482.88 646.72,-462.64 646.72,-410.83 646.72,-410.83 646.72,-410.83 646.72,-229.35 646.72,-177.54 624.11,-149.38 661.72,-113.74 714.57,-63.67 1202.12,-54.11 1400.93,-52.29\"/>\n",
       "<polygon fill=\"#000000\" stroke=\"#000000\" points=\"1401.06,-55.79 1411.03,-52.2 1401,-48.79 1401.06,-55.79\"/>\n",
       "</g>\n",
       "<!-- callgraphX__tile_3_1&#45;&gt;callgraphX__print_maze -->\n",
       "<g id=\"edge117\" class=\"edge\">\n",
       "<title>callgraphX__tile_3_1&#45;&gt;callgraphX__print_maze</title>\n",
       "<path fill=\"none\" stroke=\"#000000\" d=\"M343.43,-2009.43C315.57,-2000.18 285.08,-1985.44 264.72,-1962.28 248.35,-1943.66 266.96,-1926.37 249.72,-1908.54 212.79,-1870.34 167.13,-1915.4 135.72,-1872.54 121.61,-1853.28 119.17,-1836.02 135.72,-1818.8 205.53,-1746.16 966.24,-1849.52 1041.72,-1782.8 1061.23,-1765.56 1060.72,-1693.23 1060.72,-1667.19 1060.72,-1667.19 1060.72,-1667.19 1060.72,-1216.49 1060.72,-1164.35 1076.61,-1138.71 1040.72,-1100.88 991.16,-1048.63 940.67,-1107.65 882.72,-1064.88 860.54,-1048.51 867.86,-1033.5 851.72,-1011.14 839.2,-993.78 828.73,-994.56 819.72,-975.14 758.75,-843.6 808.47,-792.94 773.72,-652.18 763.58,-611.07 768.91,-594.91 741.72,-562.44 721.02,-537.71 696.33,-553.46 678.72,-526.44 650.52,-483.16 666.72,-462.49 666.72,-410.83 666.72,-410.83 666.72,-410.83 666.72,-229.35 666.72,-177.78 640.08,-150.03 676.72,-113.74 727.4,-63.57 1204.61,-54.06 1400.96,-52.27\"/>\n",
       "<polygon fill=\"#000000\" stroke=\"#000000\" points=\"1401.25,-55.77 1411.22,-52.19 1401.19,-48.77 1401.25,-55.77\"/>\n",
       "</g>\n",
       "<!-- callgraphX__tile_3_1&#45;&gt;callgraphX__tile_2_1 -->\n",
       "<g id=\"edge119\" class=\"edge\">\n",
       "<title>callgraphX__tile_3_1&#45;&gt;callgraphX__tile_2_1</title>\n",
       "<path fill=\"none\" stroke=\"#000000\" d=\"M437.72,-2050.57C446.33,-2059.89 455.71,-2070.69 463.92,-2080.7\"/>\n",
       "<polygon fill=\"#000000\" stroke=\"#000000\" points=\"461.22,-2082.92 470.22,-2088.51 466.67,-2078.53 461.22,-2082.92\"/>\n",
       "</g>\n",
       "<!-- callgraphX__tile_3_1&#45;&gt;callgraphX__tile_3_0 -->\n",
       "<g id=\"edge118\" class=\"edge\">\n",
       "<title>callgraphX__tile_3_1&#45;&gt;callgraphX__tile_3_0</title>\n",
       "<path fill=\"none\" stroke=\"#000000\" d=\"M355.52,-2005.01C316.35,-1991.42 263.64,-1973.14 222.48,-1958.87\"/>\n",
       "<polygon fill=\"#000000\" stroke=\"#000000\" points=\"223.41,-1955.49 212.82,-1955.52 221.12,-1962.1 223.41,-1955.49\"/>\n",
       "</g>\n",
       "<!-- callgraphX__tile_3_1&#45;&gt;callgraphX__tile_3_1 -->\n",
       "<g id=\"edge122\" class=\"edge\">\n",
       "<title>callgraphX__tile_3_1&#45;&gt;callgraphX__tile_3_1</title>\n",
       "<path fill=\"none\" stroke=\"#000000\" d=\"M476.12,-2041.63C495.95,-2041.21 511.46,-2035.72 511.46,-2025.15 511.46,-2016.48 501.02,-2011.23 486.33,-2009.39\"/>\n",
       "<polygon fill=\"#000000\" stroke=\"#000000\" points=\"486.34,-2005.88 476.12,-2008.68 485.85,-2012.87 486.34,-2005.88\"/>\n",
       "</g>\n",
       "<!-- callgraphX__tile_3_1&#45;&gt;callgraphX__tile_3_2 -->\n",
       "<g id=\"edge120\" class=\"edge\">\n",
       "<title>callgraphX__tile_3_1&#45;&gt;callgraphX__tile_3_2</title>\n",
       "<path fill=\"none\" stroke=\"#000000\" d=\"M372.86,-2001.02C355.78,-1990 335.68,-1976.21 318.72,-1962.28 292.56,-1940.79 293.69,-1926.08 264.72,-1908.54 219.27,-1881.02 182.13,-1915.4 150.72,-1872.54 136.61,-1853.28 134.17,-1836.02 150.72,-1818.8 185.98,-1782.13 1016.11,-1794.03 1065.72,-1782.8 1090.37,-1777.23 1256.59,-1710.66 1274.72,-1693.06 1293.63,-1674.72 1287.72,-1662.77 1299.72,-1639.32 1334.93,-1570.56 1384.72,-1564.96 1384.72,-1487.71 1384.72,-1487.71 1384.72,-1487.71 1384.72,-1216.49 1384.72,-1167.02 1336.09,-1043.57 1298.72,-1011.14 1250.85,-969.6 1199.48,-1025.3 1160.72,-975.14 1146.12,-956.24 1149.5,-942.48 1160.72,-921.4 1168.52,-906.77 1181.48,-894.98 1195.25,-885.78\"/>\n",
       "<polygon fill=\"#000000\" stroke=\"#000000\" points=\"1197.26,-888.65 1203.89,-880.38 1193.56,-882.71 1197.26,-888.65\"/>\n",
       "</g>\n",
       "<!-- callgraphX__tile_3_1&#45;&gt;callgraphX__tile_4_1 -->\n",
       "<g id=\"edge121\" class=\"edge\">\n",
       "<title>callgraphX__tile_3_1&#45;&gt;callgraphX__tile_4_1</title>\n",
       "<path fill=\"none\" stroke=\"#000000\" d=\"M404.51,-1998.3C404,-1990.25 403.86,-1981.22 404.07,-1972.6\"/>\n",
       "<polygon fill=\"#000000\" stroke=\"#000000\" points=\"407.57,-1972.52 404.5,-1962.38 400.58,-1972.22 407.57,-1972.52\"/>\n",
       "</g>\n",
       "<!-- callgraphX__tile_3_2&#45;&gt;callgraphX__print_maze -->\n",
       "<g id=\"edge123\" class=\"edge\">\n",
       "<title>callgraphX__tile_3_2&#45;&gt;callgraphX__print_maze</title>\n",
       "<path fill=\"none\" stroke=\"#000000\" d=\"M1237.27,-831.87C1210.63,-789.47 1152.26,-704.31 1083.72,-652.18 1052.37,-628.33 1027.98,-646.41 1002.72,-616.18 1000.02,-612.94 930.72,-325.31 930.72,-321.09 930.72,-321.09 930.72,-321.09 930.72,-229.35 930.72,-177.81 903.93,-150.82 939.72,-113.74 971.19,-81.14 1257.05,-62.82 1401.7,-55.56\"/>\n",
       "<polygon fill=\"#000000\" stroke=\"#000000\" points=\"1402.05,-59.05 1411.86,-55.06 1401.7,-52.06 1402.05,-59.05\"/>\n",
       "</g>\n",
       "<!-- callgraphX__tile_3_3&#45;&gt;callgraphX__print_maze -->\n",
       "<g id=\"edge125\" class=\"edge\">\n",
       "<title>callgraphX__tile_3_3&#45;&gt;callgraphX__print_maze</title>\n",
       "<path fill=\"none\" stroke=\"#000000\" d=\"M1211.54,-924.61C1194.61,-914.08 1175.54,-900.53 1160.72,-885.4 1074.48,-797.37 1081.08,-753.37 1010.72,-652.18 999.31,-635.76 992.3,-634.25 983.72,-616.18 980.1,-608.55 910.72,-329.53 910.72,-321.09 910.72,-321.09 910.72,-321.09 910.72,-229.35 910.72,-177.9 881.39,-151.14 916.72,-113.74 949.4,-79.16 1252.08,-61.66 1401.74,-55.06\"/>\n",
       "<polygon fill=\"#000000\" stroke=\"#000000\" points=\"1401.97,-58.56 1411.81,-54.63 1401.66,-51.56 1401.97,-58.56\"/>\n",
       "</g>\n",
       "<!-- callgraphX__tile_3_3&#45;&gt;callgraphX__tile_2_3 -->\n",
       "<g id=\"edge129\" class=\"edge\">\n",
       "<title>callgraphX__tile_3_3&#45;&gt;callgraphX__tile_2_3</title>\n",
       "<path fill=\"none\" stroke=\"#000000\" d=\"M1315.97,-930.77C1379.2,-915.14 1476.31,-891.79 1543.24,-876.13\"/>\n",
       "<polygon fill=\"#000000\" stroke=\"#000000\" points=\"1544.35,-879.47 1553.3,-873.78 1542.76,-872.65 1544.35,-879.47\"/>\n",
       "</g>\n",
       "<!-- callgraphX__tile_3_3&#45;&gt;callgraphX__tile_3_2 -->\n",
       "<g id=\"edge128\" class=\"edge\">\n",
       "<title>callgraphX__tile_3_3&#45;&gt;callgraphX__tile_3_2</title>\n",
       "<path fill=\"none\" stroke=\"#000000\" d=\"M1252.72,-920.95C1252.72,-912.98 1252.72,-904.09 1252.72,-895.6\"/>\n",
       "<polygon fill=\"#000000\" stroke=\"#000000\" points=\"1256.22,-895.54 1252.72,-885.54 1249.22,-895.54 1256.22,-895.54\"/>\n",
       "</g>\n",
       "<!-- callgraphX__tile_3_3&#45;&gt;callgraphX__tile_3_3 -->\n",
       "<g id=\"edge127\" class=\"edge\">\n",
       "<title>callgraphX__tile_3_3&#45;&gt;callgraphX__tile_3_3</title>\n",
       "<path fill=\"none\" stroke=\"#000000\" d=\"M1318.12,-964.75C1337.95,-964.33 1353.46,-958.84 1353.46,-948.27 1353.46,-939.6 1343.02,-934.35 1328.33,-932.51\"/>\n",
       "<polygon fill=\"#000000\" stroke=\"#000000\" points=\"1328.34,-929 1318.12,-931.8 1327.85,-935.99 1328.34,-929\"/>\n",
       "</g>\n",
       "<!-- callgraphX__tile_3_3&#45;&gt;callgraphX__tile_3_4 -->\n",
       "<g id=\"edge126\" class=\"edge\">\n",
       "<title>callgraphX__tile_3_3&#45;&gt;callgraphX__tile_3_4</title>\n",
       "<path fill=\"none\" stroke=\"#000000\" d=\"M1289,-923.82C1306.12,-912.51 1326.7,-898.58 1344.72,-885.4 1427.6,-824.83 1442.85,-802.49 1525.72,-741.92 1540.79,-730.91 1557.65,-719.36 1572.77,-709.26\"/>\n",
       "<polygon fill=\"#000000\" stroke=\"#000000\" points=\"1575.05,-711.95 1581.45,-703.5 1571.18,-706.12 1575.05,-711.95\"/>\n",
       "</g>\n",
       "<!-- callgraphX__tile_3_3&#45;&gt;callgraphX__tile_4_3 -->\n",
       "<g id=\"edge124\" class=\"edge\">\n",
       "<title>callgraphX__tile_3_3&#45;&gt;callgraphX__tile_4_3</title>\n",
       "<path fill=\"none\" stroke=\"#000000\" d=\"M1301.76,-969.99C1327.72,-981.93 1359.49,-997.09 1385.6,-1009.97\"/>\n",
       "<polygon fill=\"#000000\" stroke=\"#000000\" points=\"1384.07,-1013.11 1394.59,-1014.42 1387.18,-1006.84 1384.07,-1013.11\"/>\n",
       "</g>\n",
       "<!-- callgraphX__tile_3_4&#45;&gt;callgraphX__print_maze -->\n",
       "<g id=\"edge130\" class=\"edge\">\n",
       "<title>callgraphX__tile_3_4&#45;&gt;callgraphX__print_maze</title>\n",
       "<path fill=\"none\" stroke=\"#000000\" d=\"M1664.35,-656.65C1689.47,-644.95 1720.94,-630.07 1748.72,-616.18 1890.87,-545.14 2124.68,-502.27 2019.72,-382.96 1978.29,-335.86 1793.68,-378.97 1739.72,-346.96 1714.34,-331.9 1725.27,-309.6 1700.72,-293.22 1643.34,-254.92 1597.82,-306.68 1549.72,-257.22 1504.31,-210.52 1542.7,-174.7 1519.72,-113.74 1516.2,-104.4 1511.41,-94.78 1506.51,-86\"/>\n",
       "<polygon fill=\"#000000\" stroke=\"#000000\" points=\"1509.44,-84.09 1501.4,-77.19 1503.39,-87.6 1509.44,-84.09\"/>\n",
       "</g>\n",
       "<!-- callgraphX__tile_3_5&#45;&gt;callgraphX__print_maze -->\n",
       "<g id=\"edge131\" class=\"edge\">\n",
       "<title>callgraphX__tile_3_5&#45;&gt;callgraphX__print_maze</title>\n",
       "<path fill=\"none\" stroke=\"#000000\" d=\"M2028.2,-565.02C2040.59,-554.81 2053.06,-541.67 2059.72,-526.44 2085.29,-468.02 2101.78,-430.9 2059.72,-382.96 2019.23,-336.79 1837.9,-379.35 1785.72,-346.96 1761.3,-331.8 1773.44,-309.48 1749.72,-293.22 1689.61,-252.01 1640.87,-309.15 1589.72,-257.22 1544.01,-210.81 1593.42,-169.5 1559.72,-113.74 1552.06,-101.06 1540.84,-89.81 1529.4,-80.49\"/>\n",
       "<polygon fill=\"#000000\" stroke=\"#000000\" points=\"1531.54,-77.71 1521.49,-74.35 1527.25,-83.25 1531.54,-77.71\"/>\n",
       "</g>\n",
       "<!-- callgraphX__tile_3_6&#45;&gt;callgraphX__print_maze -->\n",
       "<g id=\"edge132\" class=\"edge\">\n",
       "<title>callgraphX__tile_3_6&#45;&gt;callgraphX__print_maze</title>\n",
       "<path fill=\"none\" stroke=\"#000000\" d=\"M1521.44,-295.72C1509.08,-285.5 1496.58,-272.37 1489.72,-257.22 1464.88,-202.29 1470.67,-130.35 1477.47,-87.83\"/>\n",
       "<polygon fill=\"#000000\" stroke=\"#000000\" points=\"1480.92,-88.38 1479.15,-77.94 1474.02,-87.21 1480.92,-88.38\"/>\n",
       "</g>\n",
       "<!-- callgraphX__tile_3_7&#45;&gt;callgraphX__print_maze -->\n",
       "<g id=\"edge133\" class=\"edge\">\n",
       "<title>callgraphX__tile_3_7&#45;&gt;callgraphX__print_maze</title>\n",
       "<path fill=\"none\" stroke=\"#000000\" d=\"M1832.44,-391.99C1776.95,-376.65 1702.72,-355.19 1690.72,-346.96 1665.72,-329.82 1674.07,-309.84 1648.72,-293.22 1595.36,-258.23 1551.77,-305.23 1509.72,-257.22 1488.31,-232.77 1484.68,-140.21 1484.39,-88.1\"/>\n",
       "<polygon fill=\"#000000\" stroke=\"#000000\" points=\"1487.89,-87.93 1484.37,-77.94 1480.89,-87.94 1487.89,-87.93\"/>\n",
       "</g>\n",
       "<!-- callgraphX__tile_3_7&#45;&gt;callgraphX__tile_2_7 -->\n",
       "<g id=\"edge137\" class=\"edge\">\n",
       "<title>callgraphX__tile_3_7&#45;&gt;callgraphX__tile_2_7</title>\n",
       "<path fill=\"none\" stroke=\"#000000\" d=\"M1833.69,-428C1776.73,-443.12 1691.67,-465.08 1630.42,-480.48\"/>\n",
       "<polygon fill=\"#000000\" stroke=\"#000000\" points=\"1629.27,-477.16 1620.42,-482.99 1630.97,-483.95 1629.27,-477.16\"/>\n",
       "</g>\n",
       "<!-- callgraphX__tile_3_7&#45;&gt;callgraphX__tile_3_6 -->\n",
       "<g id=\"edge136\" class=\"edge\">\n",
       "<title>callgraphX__tile_3_7&#45;&gt;callgraphX__tile_3_6</title>\n",
       "<path fill=\"none\" stroke=\"#000000\" d=\"M1832.41,-392.06C1820.88,-389 1808.95,-385.86 1797.72,-382.96 1733.85,-366.46 1717.6,-363.46 1653.72,-346.96 1645.66,-344.88 1637.22,-342.67 1628.84,-340.46\"/>\n",
       "<polygon fill=\"#000000\" stroke=\"#000000\" points=\"1629.6,-337.04 1619.04,-337.86 1627.81,-343.81 1629.6,-337.04\"/>\n",
       "</g>\n",
       "<!-- callgraphX__tile_3_7&#45;&gt;callgraphX__tile_3_7 -->\n",
       "<g id=\"edge135\" class=\"edge\">\n",
       "<title>callgraphX__tile_3_7&#45;&gt;callgraphX__tile_3_7</title>\n",
       "<path fill=\"none\" stroke=\"#000000\" d=\"M1960.12,-426.31C1979.95,-425.89 1995.46,-420.4 1995.46,-409.83 1995.46,-401.16 1985.02,-395.91 1970.33,-394.07\"/>\n",
       "<polygon fill=\"#000000\" stroke=\"#000000\" points=\"1970.34,-390.56 1960.12,-393.36 1969.85,-397.55 1970.34,-390.56\"/>\n",
       "</g>\n",
       "<!-- callgraphX__tile_3_7&#45;&gt;callgraphX__tile_3_8 -->\n",
       "<g id=\"edge138\" class=\"edge\">\n",
       "<title>callgraphX__tile_3_7&#45;&gt;callgraphX__tile_3_8</title>\n",
       "<path fill=\"none\" stroke=\"#000000\" d=\"M1831.06,-392.53C1815.34,-388.95 1798.49,-385.48 1782.72,-382.96 1669.7,-364.93 1343.36,-339.51 1183.35,-327.66\"/>\n",
       "<polygon fill=\"#000000\" stroke=\"#000000\" points=\"1183.29,-324.14 1173.06,-326.9 1182.77,-331.12 1183.29,-324.14\"/>\n",
       "</g>\n",
       "<!-- callgraphX__tile_3_7&#45;&gt;callgraphX__tile_4_7 -->\n",
       "<g id=\"edge134\" class=\"edge\">\n",
       "<title>callgraphX__tile_3_7&#45;&gt;callgraphX__tile_4_7</title>\n",
       "<path fill=\"none\" stroke=\"#000000\" d=\"M1938.74,-386.92C1966.65,-374.22 2003.07,-358.22 2033.73,-345.17\"/>\n",
       "<polygon fill=\"#000000\" stroke=\"#000000\" points=\"2035.21,-348.35 2043.05,-341.22 2032.47,-341.9 2035.21,-348.35\"/>\n",
       "</g>\n",
       "<!-- callgraphX__tile_3_8&#45;&gt;callgraphX__print_maze -->\n",
       "<g id=\"edge139\" class=\"edge\">\n",
       "<title>callgraphX__tile_3_8&#45;&gt;callgraphX__print_maze</title>\n",
       "<path fill=\"none\" stroke=\"#000000\" d=\"M1097.3,-293.04C1106.5,-248.88 1131.54,-159.66 1189.72,-113.74 1222.5,-87.87 1329.05,-70.21 1404.66,-60.58\"/>\n",
       "<polygon fill=\"#000000\" stroke=\"#000000\" points=\"1405.16,-64.04 1414.65,-59.33 1404.29,-57.1 1405.16,-64.04\"/>\n",
       "</g>\n",
       "<!-- callgraphX__tile_4_0&#45;&gt;callgraphX__print_maze -->\n",
       "<g id=\"edge140\" class=\"edge\">\n",
       "<title>callgraphX__tile_4_0&#45;&gt;callgraphX__print_maze</title>\n",
       "<path fill=\"none\" stroke=\"#000000\" d=\"M315.03,-1826.17C326.11,-1823.23 337.7,-1820.57 348.72,-1818.8 444.36,-1803.45 1131.34,-1822.44 1219.72,-1782.8 1250.05,-1769.2 1248.1,-1752.44 1271.72,-1729.06 1288.26,-1712.7 1296.89,-1712.47 1309.72,-1693.06 1323.78,-1671.81 1312.31,-1657.93 1329.72,-1639.32 1356.36,-1610.85 1386.49,-1634.63 1409.72,-1603.32 1440.6,-1561.72 1424.72,-1539.52 1424.72,-1487.71 1424.72,-1487.71 1424.72,-1487.71 1424.72,-1395.97 1424.72,-1328.31 1390.1,-1155.18 1349.72,-1100.88 1333.17,-1078.62 1315.65,-1086.86 1298.72,-1064.88 1283.18,-1044.69 1297.72,-1028.13 1278.72,-1011.14 1229.55,-967.16 1175.32,-1027.14 1134.72,-975.14 1120.03,-956.32 1134.06,-945.28 1134.72,-921.4 1135.84,-881.47 1131.63,-870.78 1139.72,-831.66 1148.33,-790.05 1153.11,-779.62 1172.72,-741.92 1181.71,-724.64 1189.72,-723.68 1197.72,-705.92 1214.61,-668.49 1213.72,-656.8 1219.72,-616.18 1227.9,-560.87 1212.09,-156.82 1247.72,-113.74 1267.98,-89.26 1345.34,-72.28 1406.24,-62.38\"/>\n",
       "<polygon fill=\"#000000\" stroke=\"#000000\" points=\"1406.91,-65.82 1416.24,-60.79 1405.82,-58.9 1406.91,-65.82\"/>\n",
       "</g>\n",
       "<!-- callgraphX__tile_4_1&#45;&gt;callgraphX__print_maze -->\n",
       "<g id=\"edge141\" class=\"edge\">\n",
       "<title>callgraphX__tile_4_1&#45;&gt;callgraphX__print_maze</title>\n",
       "<path fill=\"none\" stroke=\"#000000\" d=\"M345.1,-1918.87C273.49,-1901.76 168.56,-1876.18 165.72,-1872.54 151.05,-1853.7 149.15,-1836 165.72,-1818.8 203.26,-1779.85 1087.23,-1799.37 1138.72,-1782.8 1179.85,-1769.57 1182.33,-1750.71 1219.72,-1729.06 1250.69,-1711.14 1268.26,-1720.07 1291.72,-1693.06 1308.24,-1674.05 1295.78,-1660.3 1309.72,-1639.32 1323.15,-1619.13 1336.17,-1622.72 1350.72,-1603.32 1384.76,-1557.96 1404.72,-1544.42 1404.72,-1487.71 1404.72,-1487.71 1404.72,-1487.71 1404.72,-1395.97 1404.72,-1327.85 1358.71,-1158.09 1321.72,-1100.88 1308.19,-1079.95 1293.11,-1085.24 1278.72,-1064.88 1264.02,-1044.07 1277.59,-1028.28 1258.72,-1011.14 1212.77,-969.38 1161.56,-1024.38 1123.72,-975.14 1109.17,-956.2 1122.93,-945.27 1123.72,-921.4 1126.4,-841.18 1119.76,-818.52 1143.72,-741.92 1162.27,-682.64 1189.57,-676.42 1204.72,-616.18 1231.99,-507.78 1156.22,-198.82 1228.72,-113.74 1251.43,-87.09 1338.58,-70.19 1404.95,-60.9\"/>\n",
       "<polygon fill=\"#000000\" stroke=\"#000000\" points=\"1405.56,-64.35 1414.99,-59.53 1404.61,-57.42 1405.56,-64.35\"/>\n",
       "</g>\n",
       "<!-- callgraphX__tile_4_1&#45;&gt;callgraphX__tile_3_1 -->\n",
       "<g id=\"edge144\" class=\"edge\">\n",
       "<title>callgraphX__tile_4_1&#45;&gt;callgraphX__tile_3_1</title>\n",
       "<path fill=\"none\" stroke=\"#000000\" d=\"M416.95,-1962.38C417.45,-1970.44 417.59,-1979.47 417.38,-1988.09\"/>\n",
       "<polygon fill=\"#000000\" stroke=\"#000000\" points=\"413.87,-1988.16 416.94,-1998.3 420.87,-1988.46 413.87,-1988.16\"/>\n",
       "</g>\n",
       "<!-- callgraphX__tile_4_1&#45;&gt;callgraphX__tile_4_0 -->\n",
       "<g id=\"edge145\" class=\"edge\">\n",
       "<title>callgraphX__tile_4_1&#45;&gt;callgraphX__tile_4_0</title>\n",
       "<path fill=\"none\" stroke=\"#000000\" d=\"M370.92,-1911.59C351.09,-1900.22 326.95,-1886.37 306.06,-1874.39\"/>\n",
       "<polygon fill=\"#000000\" stroke=\"#000000\" points=\"307.74,-1871.32 297.32,-1869.38 304.26,-1877.39 307.74,-1871.32\"/>\n",
       "</g>\n",
       "<!-- callgraphX__tile_4_1&#45;&gt;callgraphX__tile_4_1 -->\n",
       "<g id=\"edge143\" class=\"edge\">\n",
       "<title>callgraphX__tile_4_1&#45;&gt;callgraphX__tile_4_1</title>\n",
       "<path fill=\"none\" stroke=\"#000000\" d=\"M476.12,-1951.89C495.95,-1951.47 511.46,-1945.98 511.46,-1935.41 511.46,-1926.74 501.02,-1921.49 486.33,-1919.65\"/>\n",
       "<polygon fill=\"#000000\" stroke=\"#000000\" points=\"486.34,-1916.14 476.12,-1918.94 485.85,-1923.13 486.34,-1916.14\"/>\n",
       "</g>\n",
       "<!-- callgraphX__tile_4_1&#45;&gt;callgraphX__tile_4_2 -->\n",
       "<g id=\"edge142\" class=\"edge\">\n",
       "<title>callgraphX__tile_4_1&#45;&gt;callgraphX__tile_4_2</title>\n",
       "<path fill=\"none\" stroke=\"#000000\" d=\"M338.69,-1921.97C265.9,-1908.66 162.52,-1887.47 150.72,-1872.54 135.92,-1853.8 134.17,-1836.02 150.72,-1818.8 221.24,-1745.46 989.15,-1849.8 1065.72,-1782.8 1114.44,-1740.18 1057.19,-1694.69 1090.72,-1639.32 1138.31,-1560.76 1214.09,-1595.95 1254.72,-1513.58 1265.29,-1492.16 1267.65,-1479.93 1254.72,-1459.84 1233.85,-1427.39 1196.6,-1456.29 1175.72,-1423.84 1162.8,-1403.75 1170.85,-1393.48 1175.72,-1370.1 1188.67,-1308.07 1303.64,-1154.41 1269.72,-1100.88 1254.65,-1077.08 1097.36,-1009.94 1008.7,-973.51\"/>\n",
       "<polygon fill=\"#000000\" stroke=\"#000000\" points=\"1009.87,-970.21 999.29,-969.65 1007.21,-976.69 1009.87,-970.21\"/>\n",
       "</g>\n",
       "<!-- callgraphX__tile_4_1&#45;&gt;callgraphX__tile_5_1 -->\n",
       "<g id=\"edge146\" class=\"edge\">\n",
       "<title>callgraphX__tile_4_1&#45;&gt;callgraphX__tile_5_1</title>\n",
       "<path fill=\"none\" stroke=\"#000000\" d=\"M413.48,-1908.09C415.79,-1899.87 418.81,-1890.67 422.03,-1881.95\"/>\n",
       "<polygon fill=\"#000000\" stroke=\"#000000\" points=\"425.39,-1882.96 425.73,-1872.37 418.86,-1880.44 425.39,-1882.96\"/>\n",
       "</g>\n",
       "<!-- callgraphX__tile_4_2&#45;&gt;callgraphX__print_maze -->\n",
       "<g id=\"edge147\" class=\"edge\">\n",
       "<title>callgraphX__tile_4_2&#45;&gt;callgraphX__print_maze</title>\n",
       "<path fill=\"none\" stroke=\"#000000\" d=\"M937.1,-921.4C922.9,-887.36 900.72,-825.33 900.72,-769.79 900.72,-769.79 900.72,-769.79 900.72,-588.31 900.72,-536.74 908.25,-521.21 890.72,-472.7 884.11,-454.38 872.73,-454.88 865.72,-436.7 847.08,-388.36 850.72,-372.9 850.72,-321.09 850.72,-321.09 850.72,-321.09 850.72,-229.35 850.72,-177.54 828.55,-149.83 865.72,-113.74 903.4,-77.16 1241.07,-60.45 1401.19,-54.53\"/>\n",
       "<polygon fill=\"#000000\" stroke=\"#000000\" points=\"1401.61,-58.02 1411.47,-54.16 1401.35,-51.03 1401.61,-58.02\"/>\n",
       "</g>\n",
       "<!-- callgraphX__tile_4_3&#45;&gt;callgraphX__print_maze -->\n",
       "<g id=\"edge149\" class=\"edge\">\n",
       "<title>callgraphX__tile_4_3&#45;&gt;callgraphX__print_maze</title>\n",
       "<path fill=\"none\" stroke=\"#000000\" d=\"M1493.27,-1018.56C1513.52,-1008.98 1534.11,-995 1545.72,-975.14 1557.78,-954.52 1560.28,-940.34 1545.72,-921.4 1507.89,-872.16 1463.51,-918.11 1410.72,-885.4 1405.08,-881.9 1334.8,-801.55 1331.72,-795.66 1246.4,-632.22 1282.89,-567.2 1289.72,-382.96 1291.95,-323.01 1273.3,-161.41 1309.72,-113.74 1332.16,-84.38 1369.62,-68.91 1404.13,-60.77\"/>\n",
       "<polygon fill=\"#000000\" stroke=\"#000000\" points=\"1405.22,-64.12 1414.25,-58.57 1403.73,-57.28 1405.22,-64.12\"/>\n",
       "</g>\n",
       "<!-- callgraphX__tile_4_3&#45;&gt;callgraphX__tile_3_3 -->\n",
       "<g id=\"edge150\" class=\"edge\">\n",
       "<title>callgraphX__tile_4_3&#45;&gt;callgraphX__tile_3_3</title>\n",
       "<path fill=\"none\" stroke=\"#000000\" d=\"M1386.52,-1016.22C1360.51,-1004.25 1328.73,-989.08 1302.62,-976.21\"/>\n",
       "<polygon fill=\"#000000\" stroke=\"#000000\" points=\"1304.16,-973.06 1293.65,-971.76 1301.05,-979.34 1304.16,-973.06\"/>\n",
       "</g>\n",
       "<!-- callgraphX__tile_4_3&#45;&gt;callgraphX__tile_4_2 -->\n",
       "<g id=\"edge152\" class=\"edge\">\n",
       "<title>callgraphX__tile_4_3&#45;&gt;callgraphX__tile_4_2</title>\n",
       "<path fill=\"none\" stroke=\"#000000\" d=\"M1364.65,-1024.21C1275.62,-1008.17 1123.45,-980.75 1029.92,-963.9\"/>\n",
       "<polygon fill=\"#000000\" stroke=\"#000000\" points=\"1030.4,-960.43 1019.94,-962.1 1029.16,-967.32 1030.4,-960.43\"/>\n",
       "</g>\n",
       "<!-- callgraphX__tile_4_3&#45;&gt;callgraphX__tile_4_3 -->\n",
       "<g id=\"edge148\" class=\"edge\">\n",
       "<title>callgraphX__tile_4_3&#45;&gt;callgraphX__tile_4_3</title>\n",
       "<path fill=\"none\" stroke=\"#000000\" d=\"M1501.12,-1054.49C1520.95,-1054.07 1536.46,-1048.58 1536.46,-1038.01 1536.46,-1029.34 1526.02,-1024.09 1511.33,-1022.25\"/>\n",
       "<polygon fill=\"#000000\" stroke=\"#000000\" points=\"1511.34,-1018.74 1501.12,-1021.54 1510.85,-1025.73 1511.34,-1018.74\"/>\n",
       "</g>\n",
       "<!-- callgraphX__tile_4_3&#45;&gt;callgraphX__tile_4_4 -->\n",
       "<g id=\"edge153\" class=\"edge\">\n",
       "<title>callgraphX__tile_4_3&#45;&gt;callgraphX__tile_4_4</title>\n",
       "<path fill=\"none\" stroke=\"#000000\" d=\"M1511.2,-1049.07C1627.48,-1065.15 1849.49,-1096.6 1970.71,-1114.15\"/>\n",
       "<polygon fill=\"#000000\" stroke=\"#000000\" points=\"1970.3,-1117.62 1980.69,-1115.59 1971.3,-1110.7 1970.3,-1117.62\"/>\n",
       "</g>\n",
       "<!-- callgraphX__tile_4_3&#45;&gt;callgraphX__tile_5_3 -->\n",
       "<g id=\"edge151\" class=\"edge\">\n",
       "<title>callgraphX__tile_4_3&#45;&gt;callgraphX__tile_5_3</title>\n",
       "<path fill=\"none\" stroke=\"#000000\" d=\"M1441.03,-1011.16C1442.7,-1003.02 1444.57,-993.88 1446.36,-985.18\"/>\n",
       "<polygon fill=\"#000000\" stroke=\"#000000\" points=\"1449.82,-985.74 1448.4,-975.24 1442.96,-984.33 1449.82,-985.74\"/>\n",
       "</g>\n",
       "<!-- callgraphX__tile_4_4&#45;&gt;callgraphX__print_maze -->\n",
       "<g id=\"edge155\" class=\"edge\">\n",
       "<title>callgraphX__tile_4_4&#45;&gt;callgraphX__print_maze</title>\n",
       "<path fill=\"none\" stroke=\"#000000\" d=\"M2096.34,-1104.25C2143.75,-1075.24 2214.72,-1020 2214.72,-949.27 2214.72,-949.27 2214.72,-949.27 2214.72,-408.83 2214.72,-317.54 2267.67,-274.03 2209.72,-203.48 2163.19,-146.82 2105.12,-214.33 2048.72,-167.48 2028.74,-150.88 2046.56,-129.26 2025.72,-113.74 1955.29,-61.29 1702.16,-52.38 1568.6,-51.44\"/>\n",
       "<polygon fill=\"#000000\" stroke=\"#000000\" points=\"1568.43,-47.94 1558.41,-51.38 1568.39,-54.94 1568.43,-47.94\"/>\n",
       "</g>\n",
       "<!-- callgraphX__tile_4_4&#45;&gt;callgraphX__tile_3_4 -->\n",
       "<g id=\"edge156\" class=\"edge\">\n",
       "<title>callgraphX__tile_4_4&#45;&gt;callgraphX__tile_3_4</title>\n",
       "<path fill=\"none\" stroke=\"#000000\" d=\"M2054.72,-1100.59C2054.72,-1065.97 2054.72,-1003.04 2054.72,-949.27 2054.72,-949.27 2054.72,-949.27 2054.72,-857.53 2054.72,-689.64 1872.55,-742.67 1708.72,-705.92 1701.67,-704.34 1694.36,-702.54 1687.08,-700.64\"/>\n",
       "<polygon fill=\"#000000\" stroke=\"#000000\" points=\"1687.76,-697.2 1677.2,-698 1685.95,-703.96 1687.76,-697.2\"/>\n",
       "</g>\n",
       "<!-- callgraphX__tile_4_4&#45;&gt;callgraphX__tile_4_3 -->\n",
       "<g id=\"edge154\" class=\"edge\">\n",
       "<title>callgraphX__tile_4_4&#45;&gt;callgraphX__tile_4_3</title>\n",
       "<path fill=\"none\" stroke=\"#000000\" d=\"M1979.22,-1116.69C1863,-1100.62 1641.2,-1069.2 1519.94,-1051.64\"/>\n",
       "<polygon fill=\"#000000\" stroke=\"#000000\" points=\"1520.35,-1048.17 1509.96,-1050.2 1519.35,-1055.1 1520.35,-1048.17\"/>\n",
       "</g>\n",
       "<!-- callgraphX__tile_4_4&#45;&gt;callgraphX__tile_4_4 -->\n",
       "<g id=\"edge159\" class=\"edge\">\n",
       "<title>callgraphX__tile_4_4&#45;&gt;callgraphX__tile_4_4</title>\n",
       "<path fill=\"none\" stroke=\"#000000\" d=\"M2120.12,-1144.23C2139.95,-1143.81 2155.46,-1138.32 2155.46,-1127.75 2155.46,-1119.08 2145.02,-1113.83 2130.33,-1111.99\"/>\n",
       "<polygon fill=\"#000000\" stroke=\"#000000\" points=\"2130.34,-1108.48 2120.12,-1111.28 2129.85,-1115.47 2130.34,-1108.48\"/>\n",
       "</g>\n",
       "<!-- callgraphX__tile_4_4&#45;&gt;callgraphX__tile_4_5 -->\n",
       "<g id=\"edge158\" class=\"edge\">\n",
       "<title>callgraphX__tile_4_4&#45;&gt;callgraphX__tile_4_5</title>\n",
       "<path fill=\"none\" stroke=\"#000000\" d=\"M2083.11,-1153.17C2092.25,-1162.49 2102.25,-1173.29 2111.03,-1183.3\"/>\n",
       "<polygon fill=\"#000000\" stroke=\"#000000\" points=\"2108.59,-1185.83 2117.77,-1191.11 2113.89,-1181.26 2108.59,-1185.83\"/>\n",
       "</g>\n",
       "<!-- callgraphX__tile_4_4&#45;&gt;callgraphX__tile_5_4 -->\n",
       "<g id=\"edge157\" class=\"edge\">\n",
       "<title>callgraphX__tile_4_4&#45;&gt;callgraphX__tile_5_4</title>\n",
       "<path fill=\"none\" stroke=\"#000000\" d=\"M2017.42,-1103.7C1999.54,-1092.65 1977.95,-1079.32 1959.04,-1067.63\"/>\n",
       "<polygon fill=\"#000000\" stroke=\"#000000\" points=\"1960.62,-1064.49 1950.28,-1062.21 1956.94,-1070.45 1960.62,-1064.49\"/>\n",
       "</g>\n",
       "<!-- callgraphX__tile_4_5&#45;&gt;callgraphX__print_maze -->\n",
       "<g id=\"edge160\" class=\"edge\">\n",
       "<title>callgraphX__tile_4_5&#45;&gt;callgraphX__print_maze</title>\n",
       "<path fill=\"none\" stroke=\"#000000\" d=\"M2152.09,-1190.93C2158.77,-1180.12 2165.92,-1167.15 2170.72,-1154.62 2189.5,-1105.62 2194.72,-1091.49 2194.72,-1039.01 2194.72,-1039.01 2194.72,-1039.01 2194.72,-498.57 2194.72,-446.76 2216.31,-419.64 2179.72,-382.96 2093.61,-296.62 2008.6,-415.47 1907.72,-346.96 1885.1,-331.59 1899.72,-309.48 1877.72,-293.22 1816.31,-247.84 1763.59,-311.35 1709.72,-257.22 1663.77,-211.04 1723.4,-162.08 1679.72,-113.74 1650.97,-81.92 1605.95,-66.35 1566.41,-58.78\"/>\n",
       "<polygon fill=\"#000000\" stroke=\"#000000\" points=\"1566.94,-55.32 1556.48,-57.03 1565.72,-62.22 1566.94,-55.32\"/>\n",
       "</g>\n",
       "<!-- callgraphX__tile_4_5&#45;&gt;callgraphX__tile_3_5 -->\n",
       "<g id=\"edge164\" class=\"edge\">\n",
       "<title>callgraphX__tile_4_5&#45;&gt;callgraphX__tile_3_5</title>\n",
       "<path fill=\"none\" stroke=\"#000000\" d=\"M2150.32,-1190.96C2156.05,-1180.16 2161.84,-1167.19 2164.72,-1154.62 2170.07,-1131.34 2169.14,-1124.35 2164.72,-1100.88 2132.79,-931.12 2123.8,-876.67 2015.72,-741.92 1999.7,-721.94 1981.82,-729.01 1970.72,-705.92 1958.51,-680.51 1965.86,-648.9 1975.22,-625.16\"/>\n",
       "<polygon fill=\"#000000\" stroke=\"#000000\" points=\"1978.5,-626.41 1979.16,-615.84 1972.05,-623.69 1978.5,-626.41\"/>\n",
       "</g>\n",
       "<!-- callgraphX__tile_4_5&#45;&gt;callgraphX__tile_4_4 -->\n",
       "<g id=\"edge165\" class=\"edge\">\n",
       "<title>callgraphX__tile_4_5&#45;&gt;callgraphX__tile_4_4</title>\n",
       "<path fill=\"none\" stroke=\"#000000\" d=\"M2106.32,-1192.05C2097.21,-1182.77 2087.27,-1172.03 2078.53,-1162.07\"/>\n",
       "<polygon fill=\"#000000\" stroke=\"#000000\" points=\"2080.99,-1159.57 2071.81,-1154.28 2075.69,-1164.14 2080.99,-1159.57\"/>\n",
       "</g>\n",
       "<!-- callgraphX__tile_4_5&#45;&gt;callgraphX__tile_4_5 -->\n",
       "<g id=\"edge163\" class=\"edge\">\n",
       "<title>callgraphX__tile_4_5&#45;&gt;callgraphX__tile_4_5</title>\n",
       "<path fill=\"none\" stroke=\"#000000\" d=\"M2200.12,-1233.97C2219.95,-1233.55 2235.46,-1228.06 2235.46,-1217.49 2235.46,-1208.82 2225.02,-1203.57 2210.33,-1201.73\"/>\n",
       "<polygon fill=\"#000000\" stroke=\"#000000\" points=\"2210.34,-1198.22 2200.12,-1201.02 2209.85,-1205.21 2210.34,-1198.22\"/>\n",
       "</g>\n",
       "<!-- callgraphX__tile_4_5&#45;&gt;callgraphX__tile_4_6 -->\n",
       "<g id=\"edge161\" class=\"edge\">\n",
       "<title>callgraphX__tile_4_5&#45;&gt;callgraphX__tile_4_6</title>\n",
       "<path fill=\"none\" stroke=\"#000000\" d=\"M2166.27,-1192.44C2178.19,-1181.95 2190.98,-1168.82 2199.72,-1154.62 2227.88,-1108.91 2234.72,-1092.7 2234.72,-1039.01 2234.72,-1039.01 2234.72,-1039.01 2234.72,-408.83 2234.72,-352.49 2273.25,-297.37 2302.24,-263.88\"/>\n",
       "<polygon fill=\"#000000\" stroke=\"#000000\" points=\"2304.98,-266.06 2309,-256.25 2299.74,-261.41 2304.98,-266.06\"/>\n",
       "</g>\n",
       "<!-- callgraphX__tile_4_5&#45;&gt;callgraphX__tile_5_5 -->\n",
       "<g id=\"edge162\" class=\"edge\">\n",
       "<title>callgraphX__tile_4_5&#45;&gt;callgraphX__tile_5_5</title>\n",
       "<path fill=\"none\" stroke=\"#000000\" d=\"M2140.95,-1244.46C2141.45,-1252.52 2141.59,-1261.55 2141.38,-1270.17\"/>\n",
       "<polygon fill=\"#000000\" stroke=\"#000000\" points=\"2137.87,-1270.24 2140.94,-1280.38 2144.87,-1270.54 2137.87,-1270.24\"/>\n",
       "</g>\n",
       "<!-- callgraphX__tile_4_6&#45;&gt;callgraphX__print_maze -->\n",
       "<g id=\"edge166\" class=\"edge\">\n",
       "<title>callgraphX__tile_4_6&#45;&gt;callgraphX__print_maze</title>\n",
       "<path fill=\"none\" stroke=\"#000000\" d=\"M2377.37,-207.37C2392.37,-197.4 2407.45,-184.08 2415.72,-167.48 2426.37,-146.1 2432.04,-131.18 2415.72,-113.74 2358.53,-52.61 1786.64,-49.86 1568.59,-51.07\"/>\n",
       "<polygon fill=\"#000000\" stroke=\"#000000\" points=\"1568.45,-47.57 1558.47,-51.13 1568.49,-54.57 1568.45,-47.57\"/>\n",
       "</g>\n",
       "<!-- callgraphX__tile_4_7&#45;&gt;callgraphX__print_maze -->\n",
       "<g id=\"edge167\" class=\"edge\">\n",
       "<title>callgraphX__tile_4_7&#45;&gt;callgraphX__print_maze</title>\n",
       "<path fill=\"none\" stroke=\"#000000\" d=\"M2033.02,-302.08C2021.33,-299.02 2009.17,-295.94 1997.72,-293.22 1921.31,-275.09 1882.93,-309.95 1824.72,-257.22 1799.96,-234.79 1804.47,-136.19 1779.72,-113.74 1748.8,-85.68 1641.79,-68.56 1565.58,-59.65\"/>\n",
       "<polygon fill=\"#000000\" stroke=\"#000000\" points=\"1565.84,-56.16 1555.51,-58.5 1565.05,-63.11 1565.84,-56.16\"/>\n",
       "</g>\n",
       "<!-- callgraphX__tile_4_7&#45;&gt;callgraphX__tile_3_7 -->\n",
       "<g id=\"edge169\" class=\"edge\">\n",
       "<title>callgraphX__tile_4_7&#45;&gt;callgraphX__tile_3_7</title>\n",
       "<path fill=\"none\" stroke=\"#000000\" d=\"M2050.78,-342.97C2022.86,-355.67 1986.4,-371.69 1955.71,-384.75\"/>\n",
       "<polygon fill=\"#000000\" stroke=\"#000000\" points=\"1954.23,-381.58 1946.39,-388.7 1956.96,-388.02 1954.23,-381.58\"/>\n",
       "</g>\n",
       "<!-- callgraphX__tile_4_7&#45;&gt;callgraphX__tile_4_6 -->\n",
       "<g id=\"edge171\" class=\"edge\">\n",
       "<title>callgraphX__tile_4_7&#45;&gt;callgraphX__tile_4_6</title>\n",
       "<path fill=\"none\" stroke=\"#000000\" d=\"M2148.06,-299.51C2184.34,-286.19 2232.48,-268.52 2270.66,-254.5\"/>\n",
       "<polygon fill=\"#000000\" stroke=\"#000000\" points=\"2271.95,-257.76 2280.14,-251.02 2269.54,-251.18 2271.95,-257.76\"/>\n",
       "</g>\n",
       "<!-- callgraphX__tile_4_7&#45;&gt;callgraphX__tile_4_7 -->\n",
       "<g id=\"edge168\" class=\"edge\">\n",
       "<title>callgraphX__tile_4_7&#45;&gt;callgraphX__tile_4_7</title>\n",
       "<path fill=\"none\" stroke=\"#000000\" d=\"M2160.12,-336.57C2179.95,-336.15 2195.46,-330.66 2195.46,-320.09 2195.46,-311.42 2185.02,-306.17 2170.33,-304.33\"/>\n",
       "<polygon fill=\"#000000\" stroke=\"#000000\" points=\"2170.34,-300.82 2160.12,-303.62 2169.85,-307.81 2170.34,-300.82\"/>\n",
       "</g>\n",
       "<!-- callgraphX__tile_4_7&#45;&gt;callgraphX__tile_4_8 -->\n",
       "<g id=\"edge172\" class=\"edge\">\n",
       "<title>callgraphX__tile_4_7&#45;&gt;callgraphX__tile_4_8</title>\n",
       "<path fill=\"none\" stroke=\"#000000\" d=\"M2050.27,-297.18C2025.96,-285.2 1995.69,-270.27 1970.11,-257.67\"/>\n",
       "<polygon fill=\"#000000\" stroke=\"#000000\" points=\"1971.44,-254.42 1960.92,-253.14 1968.35,-260.7 1971.44,-254.42\"/>\n",
       "</g>\n",
       "<!-- callgraphX__tile_4_7&#45;&gt;callgraphX__tile_5_7 -->\n",
       "<g id=\"edge170\" class=\"edge\">\n",
       "<title>callgraphX__tile_4_7&#45;&gt;callgraphX__tile_5_7</title>\n",
       "<path fill=\"none\" stroke=\"#000000\" d=\"M2089.98,-293.24C2089.94,-285.19 2090.3,-276.16 2091,-267.54\"/>\n",
       "<polygon fill=\"#000000\" stroke=\"#000000\" points=\"2094.51,-267.62 2092.02,-257.32 2087.55,-266.92 2094.51,-267.62\"/>\n",
       "</g>\n",
       "<!-- callgraphX__tile_4_8&#45;&gt;callgraphX__print_maze -->\n",
       "<g id=\"edge173\" class=\"edge\">\n",
       "<title>callgraphX__tile_4_8&#45;&gt;callgraphX__print_maze</title>\n",
       "<path fill=\"none\" stroke=\"#000000\" d=\"M1873.57,-207.07C1856.71,-196.77 1838.23,-183.28 1824.72,-167.48 1807.61,-147.45 1820.46,-129.99 1799.72,-113.74 1764.07,-85.8 1646.7,-68.4 1565.75,-59.42\"/>\n",
       "<polygon fill=\"#000000\" stroke=\"#000000\" points=\"1565.9,-55.91 1555.58,-58.31 1565.14,-62.87 1565.9,-55.91\"/>\n",
       "</g>\n",
       "<!-- callgraphX__tile_5_0&#45;&gt;callgraphX__print_maze -->\n",
       "<g id=\"edge174\" class=\"edge\">\n",
       "<title>callgraphX__tile_5_0&#45;&gt;callgraphX__print_maze</title>\n",
       "<path fill=\"none\" stroke=\"#000000\" d=\"M1591.16,-1728.78C1592.94,-1694.17 1595.72,-1631.25 1595.72,-1577.45 1595.72,-1577.45 1595.72,-1577.45 1595.72,-1306.23 1595.72,-1263.47 1622.1,-954.25 1594.72,-921.4 1560.44,-880.26 1519.39,-921.39 1479.72,-885.4 1439.34,-848.76 1354.72,-465.36 1354.72,-410.83 1354.72,-410.83 1354.72,-410.83 1354.72,-229.35 1354.72,-177.64 1338.61,-156.47 1367.72,-113.74 1380.18,-95.46 1399.81,-82.18 1419.46,-72.73\"/>\n",
       "<polygon fill=\"#000000\" stroke=\"#000000\" points=\"1421.1,-75.83 1428.77,-68.52 1418.21,-69.45 1421.1,-75.83\"/>\n",
       "</g>\n",
       "<!-- callgraphX__tile_5_1&#45;&gt;callgraphX__print_maze -->\n",
       "<g id=\"edge175\" class=\"edge\">\n",
       "<title>callgraphX__tile_5_1&#45;&gt;callgraphX__print_maze</title>\n",
       "<path fill=\"none\" stroke=\"#000000\" d=\"M503.44,-1828.13C519.41,-1824.49 536.62,-1821.05 552.72,-1818.8 631.95,-1807.76 1205.38,-1827.48 1271.72,-1782.8 1293.57,-1768.09 1281.32,-1750.43 1296.72,-1729.06 1344.28,-1663.07 1389.81,-1674.2 1429.72,-1603.32 1505.33,-1469.04 1649.61,-1043.6 1555.72,-921.4 1517.89,-872.16 1467.4,-926.35 1420.72,-885.4 1388.29,-856.95 1397.55,-836.53 1383.72,-795.66 1332.01,-642.77 1343.94,-597.38 1328.72,-436.7 1321.96,-365.25 1284.32,-171.64 1326.72,-113.74 1345.65,-87.9 1376.99,-72.85 1406.79,-64.09\"/>\n",
       "<polygon fill=\"#000000\" stroke=\"#000000\" points=\"1408.1,-67.36 1416.82,-61.35 1406.25,-60.61 1408.1,-67.36\"/>\n",
       "</g>\n",
       "<!-- callgraphX__tile_5_1&#45;&gt;callgraphX__tile_4_1 -->\n",
       "<g id=\"edge178\" class=\"edge\">\n",
       "<title>callgraphX__tile_5_1&#45;&gt;callgraphX__tile_4_1</title>\n",
       "<path fill=\"none\" stroke=\"#000000\" d=\"M438.07,-1872.64C435.74,-1880.97 432.67,-1890.33 429.4,-1899.2\"/>\n",
       "<polygon fill=\"#000000\" stroke=\"#000000\" points=\"426.12,-1897.97 425.78,-1908.56 432.65,-1900.5 426.12,-1897.97\"/>\n",
       "</g>\n",
       "<!-- callgraphX__tile_5_1&#45;&gt;callgraphX__tile_5_0 -->\n",
       "<g id=\"edge176\" class=\"edge\">\n",
       "<title>callgraphX__tile_5_1&#45;&gt;callgraphX__tile_5_0</title>\n",
       "<path fill=\"none\" stroke=\"#000000\" d=\"M503.92,-1828.27C520.65,-1824.53 538.78,-1821.01 555.72,-1818.8 971.62,-1764.55 1084.5,-1848.62 1498.72,-1782.8 1506.57,-1781.56 1514.69,-1779.86 1522.71,-1777.92\"/>\n",
       "<polygon fill=\"#000000\" stroke=\"#000000\" points=\"1523.59,-1781.31 1532.42,-1775.46 1521.87,-1774.53 1523.59,-1781.31\"/>\n",
       "</g>\n",
       "<!-- callgraphX__tile_5_1&#45;&gt;callgraphX__tile_5_1 -->\n",
       "<g id=\"edge180\" class=\"edge\">\n",
       "<title>callgraphX__tile_5_1&#45;&gt;callgraphX__tile_5_1</title>\n",
       "<path fill=\"none\" stroke=\"#000000\" d=\"M506.12,-1862.15C525.95,-1861.73 541.46,-1856.24 541.46,-1845.67 541.46,-1837 531.02,-1831.75 516.33,-1829.91\"/>\n",
       "<polygon fill=\"#000000\" stroke=\"#000000\" points=\"516.34,-1826.4 506.12,-1829.2 515.85,-1833.39 516.34,-1826.4\"/>\n",
       "</g>\n",
       "<!-- callgraphX__tile_5_1&#45;&gt;callgraphX__tile_5_2 -->\n",
       "<g id=\"edge179\" class=\"edge\">\n",
       "<title>callgraphX__tile_5_1&#45;&gt;callgraphX__tile_5_2</title>\n",
       "<path fill=\"none\" stroke=\"#000000\" d=\"M496.86,-1825.69C507.03,-1822.91 517.61,-1820.44 527.72,-1818.8 654.37,-1798.35 1569.91,-1845.69 1681.72,-1782.8 1706.57,-1768.83 1692.81,-1744.57 1716.72,-1729.06 1802.43,-1673.48 1867.46,-1761.03 1943.72,-1693.06 1962.24,-1676.56 1940.83,-1656.48 1958.72,-1639.32 1984.01,-1615.07 2069.16,-1598.1 2135.99,-1588.15\"/>\n",
       "<polygon fill=\"#000000\" stroke=\"#000000\" points=\"2136.74,-1591.58 2146.13,-1586.67 2135.73,-1584.65 2136.74,-1591.58\"/>\n",
       "</g>\n",
       "<!-- callgraphX__tile_5_1&#45;&gt;callgraphX__tile_6_1 -->\n",
       "<g id=\"edge177\" class=\"edge\">\n",
       "<title>callgraphX__tile_5_1&#45;&gt;callgraphX__tile_6_1</title>\n",
       "<path fill=\"none\" stroke=\"#000000\" d=\"M500.92,-1827.13C515.78,-1823.86 531.72,-1820.84 546.72,-1818.8 871.24,-1774.7 959.14,-1833.28 1282.72,-1782.8 1293.65,-1781.1 1305.11,-1778.65 1316.31,-1775.93\"/>\n",
       "<polygon fill=\"#000000\" stroke=\"#000000\" points=\"1317.22,-1779.31 1326.07,-1773.49 1315.52,-1772.52 1317.22,-1779.31\"/>\n",
       "</g>\n",
       "<!-- callgraphX__tile_5_2&#45;&gt;callgraphX__print_maze -->\n",
       "<g id=\"edge181\" class=\"edge\">\n",
       "<title>callgraphX__tile_5_2&#45;&gt;callgraphX__print_maze</title>\n",
       "<path fill=\"none\" stroke=\"#000000\" d=\"M2229.18,-1549.6C2239.8,-1505.66 2260.61,-1413.45 2268.72,-1334.1 2286.14,-1163.93 2274.72,-1120.33 2274.72,-949.27 2274.72,-949.27 2274.72,-949.27 2274.72,-588.31 2274.72,-490.36 2271.85,-443.34 2194.72,-382.96 2096.98,-306.43 2014.89,-424.24 1917.72,-346.96 1897.78,-331.1 1917.03,-309.85 1897.72,-293.22 1838.88,-242.54 1782.33,-311.44 1726.72,-257.22 1679.8,-211.47 1737.74,-161.37 1692.72,-113.74 1660.43,-79.57 1610.2,-64.02 1567.2,-57.04\"/>\n",
       "<polygon fill=\"#000000\" stroke=\"#000000\" points=\"1567.7,-53.58 1557.29,-55.56 1566.66,-60.5 1567.7,-53.58\"/>\n",
       "</g>\n",
       "<!-- callgraphX__tile_5_3&#45;&gt;callgraphX__print_maze -->\n",
       "<g id=\"edge182\" class=\"edge\">\n",
       "<title>callgraphX__tile_5_3&#45;&gt;callgraphX__print_maze</title>\n",
       "<path fill=\"none\" stroke=\"#000000\" d=\"M1414.38,-924.33C1399,-913.92 1382.11,-900.54 1369.72,-885.4 1353.04,-865.01 1361.32,-852.12 1344.72,-831.66 1327.93,-810.95 1309.57,-819.03 1296.72,-795.66 1252.45,-715.12 1266.32,-474.8 1269.72,-382.96 1271.95,-323.01 1252.52,-160.81 1289.72,-113.74 1316.52,-79.83 1361.91,-64.18 1402.15,-57.09\"/>\n",
       "<polygon fill=\"#000000\" stroke=\"#000000\" points=\"1402.94,-60.51 1412.26,-55.47 1401.83,-53.6 1402.94,-60.51\"/>\n",
       "</g>\n",
       "<!-- callgraphX__tile_5_4&#45;&gt;callgraphX__print_maze -->\n",
       "<g id=\"edge183\" class=\"edge\">\n",
       "<title>callgraphX__tile_5_4&#45;&gt;callgraphX__print_maze</title>\n",
       "<path fill=\"none\" stroke=\"#000000\" d=\"M1924.34,-1011.14C1938.55,-977.1 1960.72,-915.07 1960.72,-859.53 1960.72,-859.53 1960.72,-859.53 1960.72,-767.79 1960.72,-716.22 1937.92,-691.98 1970.72,-652.18 2007.77,-607.24 2058.64,-660.25 2096.72,-616.18 2130.62,-576.96 2130.22,-418.75 2092.72,-382.96 2003.23,-297.56 1914.76,-422.41 1816.72,-346.96 1796.27,-331.22 1814.53,-309.77 1794.72,-293.22 1735.79,-243.98 1682.02,-309.45 1625.72,-257.22 1601.37,-234.62 1603.79,-140.22 1583.72,-113.74 1572.31,-98.68 1556.08,-86.38 1540.05,-76.83\"/>\n",
       "<polygon fill=\"#000000\" stroke=\"#000000\" points=\"1541.63,-73.7 1531.2,-71.81 1538.17,-79.79 1541.63,-73.7\"/>\n",
       "</g>\n",
       "<!-- callgraphX__tile_5_5&#45;&gt;callgraphX__print_maze -->\n",
       "<g id=\"edge184\" class=\"edge\">\n",
       "<title>callgraphX__tile_5_5&#45;&gt;callgraphX__print_maze</title>\n",
       "<path fill=\"none\" stroke=\"#000000\" d=\"M2091.5,-1284.28C2028.06,-1248.92 1921.48,-1175.72 1962.72,-1100.88 1977.19,-1074.64 1998.22,-1085.75 2019.72,-1064.88 2088.76,-997.88 2107.38,-975.64 2140.72,-885.4 2186.48,-761.57 2174.72,-722.33 2174.72,-590.31 2174.72,-590.31 2174.72,-590.31 2174.72,-498.57 2174.72,-472.66 2178.06,-401.26 2159.72,-382.96 2070.29,-293.71 1976.7,-425.5 1877.72,-346.96 1857.76,-331.12 1877.03,-309.85 1857.72,-293.22 1798.88,-242.54 1741.05,-312.73 1686.72,-257.22 1641.34,-210.85 1701.95,-163.01 1659.72,-113.74 1635.77,-85.79 1598.36,-70.46 1564.26,-62.06\"/>\n",
       "<polygon fill=\"#000000\" stroke=\"#000000\" points=\"1564.8,-58.6 1554.27,-59.77 1563.24,-65.42 1564.8,-58.6\"/>\n",
       "</g>\n",
       "<!-- callgraphX__tile_5_5&#45;&gt;callgraphX__tile_4_5 -->\n",
       "<g id=\"edge188\" class=\"edge\">\n",
       "<title>callgraphX__tile_5_5&#45;&gt;callgraphX__tile_4_5</title>\n",
       "<path fill=\"none\" stroke=\"#000000\" d=\"M2128.51,-1280.38C2128,-1272.33 2127.86,-1263.3 2128.07,-1254.68\"/>\n",
       "<polygon fill=\"#000000\" stroke=\"#000000\" points=\"2131.57,-1254.6 2128.5,-1244.46 2124.58,-1254.3 2131.57,-1254.6\"/>\n",
       "</g>\n",
       "<!-- callgraphX__tile_5_5&#45;&gt;callgraphX__tile_5_4 -->\n",
       "<g id=\"edge185\" class=\"edge\">\n",
       "<title>callgraphX__tile_5_5&#45;&gt;callgraphX__tile_5_4</title>\n",
       "<path fill=\"none\" stroke=\"#000000\" d=\"M2055.59,-1298.84C2017.59,-1291.15 1974.59,-1275.61 1947.72,-1244.36 1907.02,-1197.01 1905.3,-1120.12 1908.5,-1075.08\"/>\n",
       "<polygon fill=\"#000000\" stroke=\"#000000\" points=\"1912,-1075.14 1909.34,-1064.89 1905.03,-1074.57 1912,-1075.14\"/>\n",
       "</g>\n",
       "<!-- callgraphX__tile_5_5&#45;&gt;callgraphX__tile_5_5 -->\n",
       "<g id=\"edge189\" class=\"edge\">\n",
       "<title>callgraphX__tile_5_5&#45;&gt;callgraphX__tile_5_5</title>\n",
       "<path fill=\"none\" stroke=\"#000000\" d=\"M2200.12,-1323.71C2219.95,-1323.29 2235.46,-1317.8 2235.46,-1307.23 2235.46,-1298.56 2225.02,-1293.31 2210.33,-1291.47\"/>\n",
       "<polygon fill=\"#000000\" stroke=\"#000000\" points=\"2210.34,-1287.96 2200.12,-1290.76 2209.85,-1294.95 2210.34,-1287.96\"/>\n",
       "</g>\n",
       "<!-- callgraphX__tile_5_5&#45;&gt;callgraphX__tile_5_6 -->\n",
       "<g id=\"edge186\" class=\"edge\">\n",
       "<title>callgraphX__tile_5_5&#45;&gt;callgraphX__tile_5_6</title>\n",
       "<path fill=\"none\" stroke=\"#000000\" d=\"M2191.1,-1287.37C2211.32,-1277.72 2232.2,-1263.79 2244.72,-1244.36 2272.66,-1201.01 2254.72,-1180.33 2254.72,-1128.75 2254.72,-1128.75 2254.72,-1128.75 2254.72,-588.31 2254.72,-493.83 2269.18,-447.01 2199.72,-382.96 2134.29,-322.62 2087.02,-375.54 2002.72,-346.96 1953.08,-330.13 1944.57,-316.76 1897.72,-293.22 1865.4,-276.98 1843.83,-287.94 1824.72,-257.22 1812.11,-236.94 1813.5,-224.56 1824.72,-203.48 1832.52,-188.85 1845.48,-177.06 1859.25,-167.86\"/>\n",
       "<polygon fill=\"#000000\" stroke=\"#000000\" points=\"1861.26,-170.72 1867.89,-162.46 1857.56,-164.79 1861.26,-170.72\"/>\n",
       "</g>\n",
       "<!-- callgraphX__tile_5_5&#45;&gt;callgraphX__tile_6_5 -->\n",
       "<g id=\"edge187\" class=\"edge\">\n",
       "<title>callgraphX__tile_5_5&#45;&gt;callgraphX__tile_6_5</title>\n",
       "<path fill=\"none\" stroke=\"#000000\" d=\"M2140.95,-1334.2C2141.45,-1342.26 2141.59,-1351.29 2141.38,-1359.91\"/>\n",
       "<polygon fill=\"#000000\" stroke=\"#000000\" points=\"2137.87,-1359.98 2140.94,-1370.12 2144.87,-1360.28 2137.87,-1359.98\"/>\n",
       "</g>\n",
       "<!-- callgraphX__tile_5_6&#45;&gt;callgraphX__print_maze -->\n",
       "<g id=\"edge190\" class=\"edge\">\n",
       "<title>callgraphX__tile_5_6&#45;&gt;callgraphX__print_maze</title>\n",
       "<path fill=\"none\" stroke=\"#000000\" d=\"M1855.33,-122.46C1843.55,-119.39 1831.29,-116.35 1819.72,-113.74 1731.64,-93.89 1629.48,-75.71 1561.36,-64.27\"/>\n",
       "<polygon fill=\"#000000\" stroke=\"#000000\" points=\"1561.58,-60.76 1551.14,-62.56 1560.43,-67.67 1561.58,-60.76\"/>\n",
       "</g>\n",
       "<!-- callgraphX__tile_5_7&#45;&gt;callgraphX__print_maze -->\n",
       "<g id=\"edge191\" class=\"edge\">\n",
       "<title>callgraphX__tile_5_7&#45;&gt;callgraphX__print_maze</title>\n",
       "<path fill=\"none\" stroke=\"#000000\" d=\"M2069.36,-205.3C2057.22,-194.62 2043.76,-181.35 2033.72,-167.48 2018.28,-146.14 2030.06,-129.18 2008.72,-113.74 1940.31,-64.23 1698.62,-53.94 1568.75,-52.06\"/>\n",
       "<polygon fill=\"#000000\" stroke=\"#000000\" points=\"1568.49,-48.56 1558.45,-51.93 1568.4,-55.56 1568.49,-48.56\"/>\n",
       "</g>\n",
       "<!-- callgraphX__tile_5_7&#45;&gt;callgraphX__tile_4_7 -->\n",
       "<g id=\"edge193\" class=\"edge\">\n",
       "<title>callgraphX__tile_5_7&#45;&gt;callgraphX__tile_4_7</title>\n",
       "<path fill=\"none\" stroke=\"#000000\" d=\"M2104.47,-257.32C2104.51,-265.38 2104.14,-274.41 2103.43,-283.03\"/>\n",
       "<polygon fill=\"#000000\" stroke=\"#000000\" points=\"2099.92,-282.94 2102.41,-293.24 2106.89,-283.64 2099.92,-282.94\"/>\n",
       "</g>\n",
       "<!-- callgraphX__tile_5_7&#45;&gt;callgraphX__tile_5_6 -->\n",
       "<g id=\"edge195\" class=\"edge\">\n",
       "<title>callgraphX__tile_5_7&#45;&gt;callgraphX__tile_5_6</title>\n",
       "<path fill=\"none\" stroke=\"#000000\" d=\"M2054.49,-207.66C2029.21,-195.54 1997.54,-180.36 1970.94,-167.6\"/>\n",
       "<polygon fill=\"#000000\" stroke=\"#000000\" points=\"1972.29,-164.37 1961.76,-163.2 1969.26,-170.68 1972.29,-164.37\"/>\n",
       "</g>\n",
       "<!-- callgraphX__tile_5_7&#45;&gt;callgraphX__tile_5_7 -->\n",
       "<g id=\"edge194\" class=\"edge\">\n",
       "<title>callgraphX__tile_5_7&#45;&gt;callgraphX__tile_5_7</title>\n",
       "<path fill=\"none\" stroke=\"#000000\" d=\"M2165.12,-246.83C2184.95,-246.41 2200.46,-240.92 2200.46,-230.35 2200.46,-221.68 2190.02,-216.43 2175.33,-214.59\"/>\n",
       "<polygon fill=\"#000000\" stroke=\"#000000\" points=\"2175.34,-211.08 2165.12,-213.88 2174.85,-218.07 2175.34,-211.08\"/>\n",
       "</g>\n",
       "<!-- callgraphX__tile_5_7&#45;&gt;callgraphX__tile_5_8 -->\n",
       "<g id=\"edge192\" class=\"edge\">\n",
       "<title>callgraphX__tile_5_7&#45;&gt;callgraphX__tile_5_8</title>\n",
       "<path fill=\"none\" stroke=\"#000000\" d=\"M2111.8,-203.5C2115.77,-195.02 2120.24,-185.46 2124.46,-176.42\"/>\n",
       "<polygon fill=\"#000000\" stroke=\"#000000\" points=\"2127.67,-177.82 2128.73,-167.28 2121.33,-174.85 2127.67,-177.82\"/>\n",
       "</g>\n",
       "<!-- callgraphX__tile_5_7&#45;&gt;callgraphX__tile_6_7 -->\n",
       "<g id=\"edge196\" class=\"edge\">\n",
       "<title>callgraphX__tile_5_7&#45;&gt;callgraphX__tile_6_7</title>\n",
       "<path fill=\"none\" stroke=\"#000000\" d=\"M2151.11,-209.22C2184.29,-196.23 2227.62,-179.25 2262.57,-165.57\"/>\n",
       "<polygon fill=\"#000000\" stroke=\"#000000\" points=\"2264.15,-168.7 2272.19,-161.8 2261.6,-162.19 2264.15,-168.7\"/>\n",
       "</g>\n",
       "<!-- callgraphX__tile_5_8&#45;&gt;callgraphX__print_maze -->\n",
       "<g id=\"edge197\" class=\"edge\">\n",
       "<title>callgraphX__tile_5_8&#45;&gt;callgraphX__print_maze</title>\n",
       "<path fill=\"none\" stroke=\"#000000\" d=\"M2080.51,-122.05C2068.4,-118.94 2055.72,-115.99 2043.72,-113.74 1875.98,-82.27 1676.7,-64.93 1567.15,-57.1\"/>\n",
       "<polygon fill=\"#000000\" stroke=\"#000000\" points=\"1567.38,-53.61 1557.15,-56.39 1566.88,-60.59 1567.38,-53.61\"/>\n",
       "</g>\n",
       "<!-- callgraphX__tile_6_0&#45;&gt;callgraphX__print_maze -->\n",
       "<g id=\"edge198\" class=\"edge\">\n",
       "<title>callgraphX__tile_6_0&#45;&gt;callgraphX__print_maze</title>\n",
       "<path fill=\"none\" stroke=\"#000000\" d=\"M1161.67,-1459.44C1161.09,-1435.94 1161.1,-1400.6 1164.72,-1370.1 1174.75,-1285.7 1187.7,-1263.92 1230.72,-1190.62 1240.46,-1174.04 1249.15,-1173.03 1254.72,-1154.62 1261.65,-1131.76 1269.64,-1119.53 1254.72,-1100.88 1209.19,-1043.96 1164.55,-1085.79 1094.72,-1064.88 1087.96,-1062.85 860.99,-980.77 856.72,-975.14 825.58,-934.03 846.72,-911.11 846.72,-859.53 846.72,-859.53 846.72,-859.53 846.72,-767.79 846.72,-674.63 864.17,-634.16 804.72,-562.44 777.76,-529.91 741.77,-560.48 716.72,-526.44 686.16,-484.9 706.72,-462.4 706.72,-410.83 706.72,-410.83 706.72,-410.83 706.72,-229.35 706.72,-159.64 750.27,-144.71 812.72,-113.74 914.02,-63.52 1244.57,-53.86 1401.1,-52.14\"/>\n",
       "<polygon fill=\"#000000\" stroke=\"#000000\" points=\"1401.19,-55.64 1411.15,-52.04 1401.11,-48.64 1401.19,-55.64\"/>\n",
       "</g>\n",
       "<!-- callgraphX__tile_6_1&#45;&gt;callgraphX__print_maze -->\n",
       "<g id=\"edge199\" class=\"edge\">\n",
       "<title>callgraphX__tile_6_1&#45;&gt;callgraphX__print_maze</title>\n",
       "<path fill=\"none\" stroke=\"#000000\" d=\"M1437.86,-1734.06C1493.26,-1706.84 1575.72,-1653.54 1575.72,-1577.45 1575.72,-1577.45 1575.72,-1577.45 1575.72,-1306.23 1575.72,-1220.71 1631.01,-990.58 1580.72,-921.4 1550.23,-879.45 1511.09,-916.69 1469.72,-885.4 1431.46,-856.46 1428.6,-839.77 1409.72,-795.66 1361.5,-682.96 1363.14,-648.29 1349.72,-526.44 1339.69,-435.28 1300.19,-190.93 1349.72,-113.74 1363.86,-91.71 1388.02,-77.42 1412.02,-68.2\"/>\n",
       "<polygon fill=\"#000000\" stroke=\"#000000\" points=\"1413.31,-71.46 1421.55,-64.79 1410.95,-64.87 1413.31,-71.46\"/>\n",
       "</g>\n",
       "<!-- callgraphX__tile_6_1&#45;&gt;callgraphX__tile_5_1 -->\n",
       "<g id=\"edge204\" class=\"edge\">\n",
       "<title>callgraphX__tile_6_1&#45;&gt;callgraphX__tile_5_1</title>\n",
       "<path fill=\"none\" stroke=\"#000000\" d=\"M1333.56,-1776.05C1322.78,-1778.72 1311.49,-1781.12 1300.72,-1782.8 977.14,-1833.28 889.24,-1774.7 564.72,-1818.8 549.34,-1820.89 532.97,-1824.02 517.32,-1827.38\"/>\n",
       "<polygon fill=\"#000000\" stroke=\"#000000\" points=\"516.17,-1824.05 507.15,-1829.61 517.67,-1830.88 516.17,-1824.05\"/>\n",
       "</g>\n",
       "<!-- callgraphX__tile_6_1&#45;&gt;callgraphX__tile_6_0 -->\n",
       "<g id=\"edge203\" class=\"edge\">\n",
       "<title>callgraphX__tile_6_1&#45;&gt;callgraphX__tile_6_0</title>\n",
       "<path fill=\"none\" stroke=\"#000000\" d=\"M1367.46,-1729.79C1326.49,-1681.35 1236.61,-1575.08 1190.79,-1520.9\"/>\n",
       "<polygon fill=\"#000000\" stroke=\"#000000\" points=\"1193.22,-1518.35 1184.09,-1512.98 1187.88,-1522.87 1193.22,-1518.35\"/>\n",
       "</g>\n",
       "<!-- callgraphX__tile_6_1&#45;&gt;callgraphX__tile_6_1 -->\n",
       "<g id=\"edge202\" class=\"edge\">\n",
       "<title>callgraphX__tile_6_1&#45;&gt;callgraphX__tile_6_1</title>\n",
       "<path fill=\"none\" stroke=\"#000000\" d=\"M1454.12,-1772.41C1473.95,-1771.99 1489.46,-1766.5 1489.46,-1755.93 1489.46,-1747.26 1479.02,-1742.01 1464.33,-1740.17\"/>\n",
       "<polygon fill=\"#000000\" stroke=\"#000000\" points=\"1464.34,-1736.66 1454.12,-1739.46 1463.85,-1743.65 1464.34,-1736.66\"/>\n",
       "</g>\n",
       "<!-- callgraphX__tile_6_1&#45;&gt;callgraphX__tile_6_2 -->\n",
       "<g id=\"edge200\" class=\"edge\">\n",
       "<title>callgraphX__tile_6_1&#45;&gt;callgraphX__tile_6_2</title>\n",
       "<path fill=\"none\" stroke=\"#000000\" d=\"M1449.83,-1737.77C1462.63,-1734.75 1476.07,-1731.73 1488.72,-1729.06 1577.37,-1710.39 1679.85,-1691.98 1750,-1680.16\"/>\n",
       "<polygon fill=\"#000000\" stroke=\"#000000\" points=\"1750.83,-1683.57 1760.12,-1678.46 1749.67,-1676.66 1750.83,-1683.57\"/>\n",
       "</g>\n",
       "<!-- callgraphX__tile_6_1&#45;&gt;callgraphX__tile_7_1 -->\n",
       "<g id=\"edge201\" class=\"edge\">\n",
       "<title>callgraphX__tile_6_1&#45;&gt;callgraphX__tile_7_1</title>\n",
       "<path fill=\"none\" stroke=\"#000000\" d=\"M1339.91,-1734.14C1310.25,-1721.51 1272.23,-1705.31 1241,-1692.01\"/>\n",
       "<polygon fill=\"#000000\" stroke=\"#000000\" points=\"1242.12,-1688.69 1231.55,-1687.99 1239.38,-1695.13 1242.12,-1688.69\"/>\n",
       "</g>\n",
       "<!-- callgraphX__tile_6_2&#45;&gt;callgraphX__print_maze -->\n",
       "<g id=\"edge205\" class=\"edge\">\n",
       "<title>callgraphX__tile_6_2&#45;&gt;callgraphX__print_maze</title>\n",
       "<path fill=\"none\" stroke=\"#000000\" d=\"M1806.33,-1640.75C1796.61,-1630.31 1786.82,-1617.3 1781.72,-1603.32 1759.89,-1543.41 1767.95,-1522.11 1781.72,-1459.84 1819.73,-1288.04 1833.04,-1233.46 1948.72,-1100.88 1968.18,-1078.59 1987.15,-1088.69 2004.72,-1064.88 2019.45,-1044.93 2011.68,-1034.6 2019.72,-1011.14 2067.29,-872.48 2110.24,-848.4 2144.72,-705.92 2156.86,-655.79 2154.72,-641.88 2154.72,-590.31 2154.72,-590.31 2154.72,-590.31 2154.72,-498.57 2154.72,-446.35 2171.56,-418.95 2133.72,-382.96 2044.09,-297.7 1955.15,-423.2 1857.72,-346.96 1837.53,-331.16 1856.3,-309.79 1836.72,-293.22 1777.11,-242.77 1720.49,-311.9 1664.72,-257.22 1618,-211.41 1673.84,-163.82 1631.72,-113.74 1612.92,-91.37 1584.63,-76.93 1557.88,-67.69\"/>\n",
       "<polygon fill=\"#000000\" stroke=\"#000000\" points=\"1558.71,-64.28 1548.11,-64.51 1556.54,-70.93 1558.71,-64.28\"/>\n",
       "</g>\n",
       "<!-- callgraphX__tile_6_2&#45;&gt;callgraphX__tile_5_2 -->\n",
       "<g id=\"edge208\" class=\"edge\">\n",
       "<title>callgraphX__tile_6_2&#45;&gt;callgraphX__tile_5_2</title>\n",
       "<path fill=\"none\" stroke=\"#000000\" d=\"M1900.6,-1650.11C1968.85,-1634.71 2074.66,-1610.85 2146.21,-1594.71\"/>\n",
       "<polygon fill=\"#000000\" stroke=\"#000000\" points=\"2147.09,-1598.1 2156.08,-1592.48 2145.55,-1591.27 2147.09,-1598.1\"/>\n",
       "</g>\n",
       "<!-- callgraphX__tile_6_2&#45;&gt;callgraphX__tile_6_1 -->\n",
       "<g id=\"edge207\" class=\"edge\">\n",
       "<title>callgraphX__tile_6_2&#45;&gt;callgraphX__tile_6_1</title>\n",
       "<path fill=\"none\" stroke=\"#000000\" d=\"M1763.22,-1680.33C1696.86,-1692.15 1594.95,-1710.48 1506.72,-1729.06 1493.63,-1731.82 1479.7,-1734.96 1466.16,-1738.09\"/>\n",
       "<polygon fill=\"#000000\" stroke=\"#000000\" points=\"1465.33,-1734.69 1456.38,-1740.35 1466.91,-1741.5 1465.33,-1734.69\"/>\n",
       "</g>\n",
       "<!-- callgraphX__tile_6_2&#45;&gt;callgraphX__tile_6_2 -->\n",
       "<g id=\"edge206\" class=\"edge\">\n",
       "<title>callgraphX__tile_6_2&#45;&gt;callgraphX__tile_6_2</title>\n",
       "<path fill=\"none\" stroke=\"#000000\" d=\"M1899.12,-1682.67C1918.95,-1682.25 1934.46,-1676.76 1934.46,-1666.19 1934.46,-1657.52 1924.02,-1652.27 1909.33,-1650.43\"/>\n",
       "<polygon fill=\"#000000\" stroke=\"#000000\" points=\"1909.34,-1646.92 1899.12,-1649.72 1908.85,-1653.91 1909.34,-1646.92\"/>\n",
       "</g>\n",
       "<!-- callgraphX__tile_6_2&#45;&gt;callgraphX__tile_6_3 -->\n",
       "<g id=\"edge209\" class=\"edge\">\n",
       "<title>callgraphX__tile_6_2&#45;&gt;callgraphX__tile_6_3</title>\n",
       "<path fill=\"none\" stroke=\"#000000\" d=\"M1839.29,-1639.34C1842.66,-1630.79 1846.93,-1621.13 1851.35,-1612.03\"/>\n",
       "<polygon fill=\"#000000\" stroke=\"#000000\" points=\"1854.61,-1613.32 1855.98,-1602.82 1848.36,-1610.18 1854.61,-1613.32\"/>\n",
       "</g>\n",
       "<!-- callgraphX__tile_6_2&#45;&gt;callgraphX__tile_7_2 -->\n",
       "<g id=\"edge210\" class=\"edge\">\n",
       "<title>callgraphX__tile_6_2&#45;&gt;callgraphX__tile_7_2</title>\n",
       "<path fill=\"none\" stroke=\"#000000\" d=\"M1789.1,-1643.55C1688.65,-1594.84 1445.1,-1476.72 1336.52,-1424.06\"/>\n",
       "<polygon fill=\"#000000\" stroke=\"#000000\" points=\"1337.9,-1420.84 1327.38,-1419.63 1334.85,-1427.14 1337.9,-1420.84\"/>\n",
       "</g>\n",
       "<!-- callgraphX__tile_6_3&#45;&gt;callgraphX__print_maze -->\n",
       "<g id=\"edge211\" class=\"edge\">\n",
       "<title>callgraphX__tile_6_3&#45;&gt;callgraphX__print_maze</title>\n",
       "<path fill=\"none\" stroke=\"#000000\" d=\"M1953.83,-1569.58C2122.48,-1555.03 2498.72,-1509.99 2498.72,-1397.97 2498.72,-1397.97 2498.72,-1397.97 2498.72,-1126.75 2498.72,-1074.82 2499.36,-1059.99 2481.72,-1011.14 2439.07,-893.01 2334.72,-895.39 2334.72,-769.79 2334.72,-769.79 2334.72,-769.79 2334.72,-498.57 2334.72,-445.14 2342.38,-417.64 2301.72,-382.96 2199.9,-296.09 2113.89,-421.51 2002.72,-346.96 1980.01,-331.72 1994.76,-309.42 1972.72,-293.22 1909.8,-246.96 1860.03,-308.04 1800.72,-257.22 1748.99,-212.88 1797.89,-158.74 1746.72,-113.74 1719.69,-89.96 1630.27,-72.39 1563.37,-62.17\"/>\n",
       "<polygon fill=\"#000000\" stroke=\"#000000\" points=\"1563.67,-58.68 1553.26,-60.66 1562.63,-65.6 1563.67,-58.68\"/>\n",
       "</g>\n",
       "<!-- callgraphX__tile_6_3&#45;&gt;callgraphX__tile_5_3 -->\n",
       "<g id=\"edge212\" class=\"edge\">\n",
       "<title>callgraphX__tile_6_3&#45;&gt;callgraphX__tile_5_3</title>\n",
       "<path fill=\"none\" stroke=\"#000000\" d=\"M1833.06,-1553.03C1816.02,-1542.44 1796.73,-1528.79 1781.72,-1513.58 1681.3,-1411.84 1663.41,-1375.16 1605.72,-1244.36 1562.53,-1146.44 1607.5,-1098.54 1545.72,-1011.14 1535.97,-997.34 1522.09,-985.73 1508.06,-976.43\"/>\n",
       "<polygon fill=\"#000000\" stroke=\"#000000\" points=\"1509.66,-973.31 1499.34,-970.94 1505.93,-979.23 1509.66,-973.31\"/>\n",
       "</g>\n",
       "<!-- callgraphX__tile_6_3&#45;&gt;callgraphX__tile_6_2 -->\n",
       "<g id=\"edge213\" class=\"edge\">\n",
       "<title>callgraphX__tile_6_3&#45;&gt;callgraphX__tile_6_2</title>\n",
       "<path fill=\"none\" stroke=\"#000000\" d=\"M1868.12,-1603.38C1864.76,-1611.92 1860.5,-1621.55 1856.1,-1630.63\"/>\n",
       "<polygon fill=\"#000000\" stroke=\"#000000\" points=\"1852.84,-1629.31 1851.48,-1639.81 1859.1,-1632.45 1852.84,-1629.31\"/>\n",
       "</g>\n",
       "<!-- callgraphX__tile_6_3&#45;&gt;callgraphX__tile_6_3 -->\n",
       "<g id=\"edge216\" class=\"edge\">\n",
       "<title>callgraphX__tile_6_3&#45;&gt;callgraphX__tile_6_3</title>\n",
       "<path fill=\"none\" stroke=\"#000000\" d=\"M1939.12,-1592.93C1958.95,-1592.51 1974.46,-1587.02 1974.46,-1576.45 1974.46,-1567.78 1964.02,-1562.53 1949.33,-1560.69\"/>\n",
       "<polygon fill=\"#000000\" stroke=\"#000000\" points=\"1949.34,-1557.18 1939.12,-1559.98 1948.85,-1564.17 1949.34,-1557.18\"/>\n",
       "</g>\n",
       "<!-- callgraphX__tile_6_3&#45;&gt;callgraphX__tile_6_4 -->\n",
       "<g id=\"edge214\" class=\"edge\">\n",
       "<title>callgraphX__tile_6_3&#45;&gt;callgraphX__tile_6_4</title>\n",
       "<path fill=\"none\" stroke=\"#000000\" d=\"M1867.51,-1549.6C1867,-1541.55 1866.86,-1532.52 1867.07,-1523.9\"/>\n",
       "<polygon fill=\"#000000\" stroke=\"#000000\" points=\"1870.57,-1523.82 1867.5,-1513.68 1863.58,-1523.52 1870.57,-1523.82\"/>\n",
       "</g>\n",
       "<!-- callgraphX__tile_6_3&#45;&gt;callgraphX__tile_7_3 -->\n",
       "<g id=\"edge215\" class=\"edge\">\n",
       "<title>callgraphX__tile_6_3&#45;&gt;callgraphX__tile_7_3</title>\n",
       "<path fill=\"none\" stroke=\"#000000\" d=\"M1951.88,-1567.5C2002.81,-1562.34 2070.7,-1555.5 2130.72,-1549.58 2172.16,-1545.5 2474.44,-1543.18 2503.72,-1513.58 2540.31,-1476.6 2499.26,-1326.26 2523.72,-1280.36 2530.54,-1267.58 2541.24,-1256.49 2552.53,-1247.37\"/>\n",
       "<polygon fill=\"#000000\" stroke=\"#000000\" points=\"2554.95,-1249.93 2560.8,-1241.09 2550.72,-1244.35 2554.95,-1249.93\"/>\n",
       "</g>\n",
       "<!-- callgraphX__tile_6_4&#45;&gt;callgraphX__print_maze -->\n",
       "<g id=\"edge217\" class=\"edge\">\n",
       "<title>callgraphX__tile_6_4&#45;&gt;callgraphX__print_maze</title>\n",
       "<path fill=\"none\" stroke=\"#000000\" d=\"M1839.22,-1462.05C1751.75,-1401.3 1516.03,-1232.76 1343.72,-1064.88 1321.41,-1043.14 1325.04,-1027.81 1298.72,-1011.14 1245.17,-977.23 1199.48,-1025.3 1160.72,-975.14 1121.74,-924.68 1143.07,-892.94 1160.72,-831.66 1178.99,-768.24 1220.07,-768.93 1239.72,-705.92 1259.34,-643.04 1225.57,-165.16 1266.72,-113.74 1284.57,-91.44 1352.32,-74.53 1407.61,-64.07\"/>\n",
       "<polygon fill=\"#000000\" stroke=\"#000000\" points=\"1408.57,-67.45 1417.77,-62.2 1407.3,-60.57 1408.57,-67.45\"/>\n",
       "</g>\n",
       "<!-- callgraphX__tile_6_4&#45;&gt;callgraphX__tile_5_4 -->\n",
       "<g id=\"edge218\" class=\"edge\">\n",
       "<title>callgraphX__tile_6_4&#45;&gt;callgraphX__tile_5_4</title>\n",
       "<path fill=\"none\" stroke=\"#000000\" d=\"M1858.72,-1460.23C1840.37,-1426.6 1811.72,-1365.02 1811.72,-1308.23 1811.72,-1308.23 1811.72,-1308.23 1811.72,-1216.49 1811.72,-1159.87 1851.03,-1104.83 1880.6,-1071.43\"/>\n",
       "<polygon fill=\"#000000\" stroke=\"#000000\" points=\"1883.37,-1073.58 1887.5,-1063.82 1878.19,-1068.88 1883.37,-1073.58\"/>\n",
       "</g>\n",
       "<!-- callgraphX__tile_6_4&#45;&gt;callgraphX__tile_6_3 -->\n",
       "<g id=\"edge222\" class=\"edge\">\n",
       "<title>callgraphX__tile_6_4&#45;&gt;callgraphX__tile_6_3</title>\n",
       "<path fill=\"none\" stroke=\"#000000\" d=\"M1879.95,-1513.68C1880.45,-1521.74 1880.59,-1530.77 1880.38,-1539.39\"/>\n",
       "<polygon fill=\"#000000\" stroke=\"#000000\" points=\"1876.87,-1539.46 1879.94,-1549.6 1883.87,-1539.76 1876.87,-1539.46\"/>\n",
       "</g>\n",
       "<!-- callgraphX__tile_6_4&#45;&gt;callgraphX__tile_6_4 -->\n",
       "<g id=\"edge221\" class=\"edge\">\n",
       "<title>callgraphX__tile_6_4&#45;&gt;callgraphX__tile_6_4</title>\n",
       "<path fill=\"none\" stroke=\"#000000\" d=\"M1939.12,-1503.19C1958.95,-1502.77 1974.46,-1497.28 1974.46,-1486.71 1974.46,-1478.04 1964.02,-1472.79 1949.33,-1470.95\"/>\n",
       "<polygon fill=\"#000000\" stroke=\"#000000\" points=\"1949.34,-1467.44 1939.12,-1470.24 1948.85,-1474.43 1949.34,-1467.44\"/>\n",
       "</g>\n",
       "<!-- callgraphX__tile_6_4&#45;&gt;callgraphX__tile_6_5 -->\n",
       "<g id=\"edge219\" class=\"edge\">\n",
       "<title>callgraphX__tile_6_4&#45;&gt;callgraphX__tile_6_5</title>\n",
       "<path fill=\"none\" stroke=\"#000000\" d=\"M1926.56,-1466.02C1966.76,-1452.07 2022.32,-1433.38 2065.97,-1419.11\"/>\n",
       "<polygon fill=\"#000000\" stroke=\"#000000\" points=\"2067.24,-1422.38 2075.66,-1415.95 2065.07,-1415.72 2067.24,-1422.38\"/>\n",
       "</g>\n",
       "<!-- callgraphX__tile_6_4&#45;&gt;callgraphX__tile_7_4 -->\n",
       "<g id=\"edge220\" class=\"edge\">\n",
       "<title>callgraphX__tile_6_4&#45;&gt;callgraphX__tile_7_4</title>\n",
       "<path fill=\"none\" stroke=\"#000000\" d=\"M1830.05,-1463.79C1705.84,-1401.42 1350.82,-1223.18 1215.76,-1155.38\"/>\n",
       "<polygon fill=\"#000000\" stroke=\"#000000\" points=\"1216.93,-1152.05 1206.42,-1150.69 1213.78,-1158.3 1216.93,-1152.05\"/>\n",
       "</g>\n",
       "<!-- callgraphX__tile_6_5&#45;&gt;callgraphX__print_maze -->\n",
       "<g id=\"edge223\" class=\"edge\">\n",
       "<title>callgraphX__tile_6_5&#45;&gt;callgraphX__print_maze</title>\n",
       "<path fill=\"none\" stroke=\"#000000\" d=\"M2094.99,-1373.19C2048.99,-1345.83 1972.21,-1296.97 1914.72,-1244.36 1776.29,-1117.66 1798.56,-1025.95 1642.72,-921.4 1599.3,-892.27 1568.27,-921.79 1530.72,-885.4 1491.33,-847.23 1394.72,-465.68 1394.72,-410.83 1394.72,-410.83 1394.72,-410.83 1394.72,-229.35 1394.72,-177.48 1385.58,-159.11 1410.72,-113.74 1417.78,-101.01 1428.57,-89.79 1439.75,-80.53\"/>\n",
       "<polygon fill=\"#000000\" stroke=\"#000000\" points=\"1442.2,-83.06 1447.91,-74.13 1437.88,-77.55 1442.2,-83.06\"/>\n",
       "</g>\n",
       "<!-- callgraphX__tile_6_5&#45;&gt;callgraphX__tile_5_5 -->\n",
       "<g id=\"edge227\" class=\"edge\">\n",
       "<title>callgraphX__tile_6_5&#45;&gt;callgraphX__tile_5_5</title>\n",
       "<path fill=\"none\" stroke=\"#000000\" d=\"M2128.51,-1370.12C2128,-1362.07 2127.86,-1353.04 2128.07,-1344.42\"/>\n",
       "<polygon fill=\"#000000\" stroke=\"#000000\" points=\"2131.57,-1344.34 2128.5,-1334.2 2124.58,-1344.04 2131.57,-1344.34\"/>\n",
       "</g>\n",
       "<!-- callgraphX__tile_6_5&#45;&gt;callgraphX__tile_6_4 -->\n",
       "<g id=\"edge228\" class=\"edge\">\n",
       "<title>callgraphX__tile_6_5&#45;&gt;callgraphX__tile_6_4</title>\n",
       "<path fill=\"none\" stroke=\"#000000\" d=\"M2081.64,-1417.75C2041.44,-1431.7 1985.98,-1450.36 1942.41,-1464.59\"/>\n",
       "<polygon fill=\"#000000\" stroke=\"#000000\" points=\"1941.17,-1461.32 1932.74,-1467.74 1943.33,-1467.97 1941.17,-1461.32\"/>\n",
       "</g>\n",
       "<!-- callgraphX__tile_6_5&#45;&gt;callgraphX__tile_6_5 -->\n",
       "<g id=\"edge226\" class=\"edge\">\n",
       "<title>callgraphX__tile_6_5&#45;&gt;callgraphX__tile_6_5</title>\n",
       "<path fill=\"none\" stroke=\"#000000\" d=\"M2200.12,-1413.45C2219.95,-1413.03 2235.46,-1407.54 2235.46,-1396.97 2235.46,-1388.3 2225.02,-1383.05 2210.33,-1381.21\"/>\n",
       "<polygon fill=\"#000000\" stroke=\"#000000\" points=\"2210.34,-1377.7 2200.12,-1380.5 2209.85,-1384.69 2210.34,-1377.7\"/>\n",
       "</g>\n",
       "<!-- callgraphX__tile_6_5&#45;&gt;callgraphX__tile_6_6 -->\n",
       "<g id=\"edge224\" class=\"edge\">\n",
       "<title>callgraphX__tile_6_5&#45;&gt;callgraphX__tile_6_6</title>\n",
       "<path fill=\"none\" stroke=\"#000000\" d=\"M2185.68,-1375.79C2206.09,-1365.71 2228.55,-1351.83 2244.72,-1334.1 2315.52,-1256.5 2353.35,-1134.63 2368.58,-1074.7\"/>\n",
       "<polygon fill=\"#000000\" stroke=\"#000000\" points=\"2371.99,-1075.5 2371,-1064.95 2365.2,-1073.81 2371.99,-1075.5\"/>\n",
       "</g>\n",
       "<!-- callgraphX__tile_6_5&#45;&gt;callgraphX__tile_7_5 -->\n",
       "<g id=\"edge225\" class=\"edge\">\n",
       "<title>callgraphX__tile_6_5&#45;&gt;callgraphX__tile_7_5</title>\n",
       "<path fill=\"none\" stroke=\"#000000\" d=\"M2190.93,-1377.15C2232.03,-1363.39 2287.89,-1344.68 2331.05,-1330.23\"/>\n",
       "<polygon fill=\"#000000\" stroke=\"#000000\" points=\"2332.24,-1333.52 2340.61,-1327.02 2330.02,-1326.88 2332.24,-1333.52\"/>\n",
       "</g>\n",
       "<!-- callgraphX__tile_6_6&#45;&gt;callgraphX__print_maze -->\n",
       "<g id=\"edge229\" class=\"edge\">\n",
       "<title>callgraphX__tile_6_6&#45;&gt;callgraphX__print_maze</title>\n",
       "<path fill=\"none\" stroke=\"#000000\" d=\"M2356.66,-1011.94C2332.39,-979.01 2294.72,-918.42 2294.72,-859.53 2294.72,-859.53 2294.72,-859.53 2294.72,-498.57 2294.72,-444.89 2300.79,-417.54 2259.72,-382.96 2159.69,-298.75 2084.18,-406.42 1967.72,-346.96 1938.67,-332.13 1946.1,-309.32 1917.72,-293.22 1851.31,-255.53 1803.59,-311.35 1749.72,-257.22 1703.77,-211.04 1764.59,-160.97 1719.72,-113.74 1698.09,-90.97 1622.14,-73.76 1562.36,-63.34\"/>\n",
       "<polygon fill=\"#000000\" stroke=\"#000000\" points=\"1562.61,-59.83 1552.16,-61.6 1561.43,-66.73 1562.61,-59.83\"/>\n",
       "</g>\n",
       "<!-- callgraphX__tile_6_7&#45;&gt;callgraphX__print_maze -->\n",
       "<g id=\"edge230\" class=\"edge\">\n",
       "<title>callgraphX__tile_6_7&#45;&gt;callgraphX__print_maze</title>\n",
       "<path fill=\"none\" stroke=\"#000000\" d=\"M2265.87,-121.35C2254.94,-118.42 2243.55,-115.71 2232.72,-113.74 1994.14,-70.39 1707.16,-57.37 1568.22,-53.49\"/>\n",
       "<polygon fill=\"#000000\" stroke=\"#000000\" points=\"1568.16,-49.99 1558.07,-53.22 1567.97,-56.99 1568.16,-49.99\"/>\n",
       "</g>\n",
       "<!-- callgraphX__tile_6_8&#45;&gt;callgraphX__print_maze -->\n",
       "<g id=\"edge231\" class=\"edge\">\n",
       "<title>callgraphX__tile_6_8&#45;&gt;callgraphX__print_maze</title>\n",
       "<path fill=\"none\" stroke=\"#000000\" d=\"M2488.36,-121.8C2476.02,-118.66 2463.02,-115.75 2450.72,-113.74 2127.51,-60.82 1736.55,-52.62 1568.32,-51.72\"/>\n",
       "<polygon fill=\"#000000\" stroke=\"#000000\" points=\"1568.31,-48.22 1558.29,-51.67 1568.27,-55.22 1568.31,-48.22\"/>\n",
       "</g>\n",
       "<!-- callgraphX__tile_7_0&#45;&gt;callgraphX__print_maze -->\n",
       "<g id=\"edge232\" class=\"edge\">\n",
       "<title>callgraphX__tile_7_0&#45;&gt;callgraphX__print_maze</title>\n",
       "<path fill=\"none\" stroke=\"#000000\" d=\"M2673.4,-121.22C2662.33,-118.26 2650.74,-115.58 2639.72,-113.74 2433.31,-79.32 1797.42,-59.94 1568.19,-53.92\"/>\n",
       "<polygon fill=\"#000000\" stroke=\"#000000\" points=\"1568,-50.41 1557.91,-53.65 1567.82,-57.41 1568,-50.41\"/>\n",
       "</g>\n",
       "<!-- callgraphX__tile_7_1&#45;&gt;callgraphX__print_maze -->\n",
       "<g id=\"edge233\" class=\"edge\">\n",
       "<title>callgraphX__tile_7_1&#45;&gt;callgraphX__print_maze</title>\n",
       "<path fill=\"none\" stroke=\"#000000\" d=\"M1201.26,-1639.97C1221.21,-1611.12 1251.69,-1561.64 1263.72,-1513.58 1269.53,-1490.41 1276.34,-1480.12 1263.72,-1459.84 1244.62,-1429.12 1209.83,-1454.56 1190.72,-1423.84 1178.11,-1403.56 1185.38,-1393.38 1190.72,-1370.1 1194.2,-1354.97 1246.15,-1258.86 1251.72,-1244.36 1266.62,-1205.6 1271.89,-1195.73 1277.72,-1154.62 1281.08,-1130.97 1288.29,-1122.3 1277.72,-1100.88 1270.48,-1086.19 1175.16,-1018.89 1160.72,-1011.14 1117.25,-987.82 1089.58,-1011.02 1055.72,-975.14 1038.71,-957.1 1049.38,-944.64 1040.72,-921.4 1034.55,-904.82 1030.15,-901.89 1023.72,-885.4 1008.55,-846.48 1007.55,-835.73 995.72,-795.66 980.29,-743.36 870.72,-375.62 870.72,-321.09 870.72,-321.09 870.72,-321.09 870.72,-229.35 870.72,-203.64 858.08,-132.44 875.72,-113.74 911.12,-76.23 1242.98,-60.03 1401.37,-54.39\"/>\n",
       "<polygon fill=\"#000000\" stroke=\"#000000\" points=\"1401.67,-57.88 1411.54,-54.04 1401.43,-50.89 1401.67,-57.88\"/>\n",
       "</g>\n",
       "<!-- callgraphX__tile_7_2&#45;&gt;callgraphX__print_maze -->\n",
       "<g id=\"edge234\" class=\"edge\">\n",
       "<title>callgraphX__tile_7_2&#45;&gt;callgraphX__print_maze</title>\n",
       "<path fill=\"none\" stroke=\"#000000\" d=\"M1293.33,-1370.08C1313.39,-1316.92 1351.31,-1192.74 1309.72,-1100.88 1299.72,-1078.79 1283.97,-1083.74 1268.72,-1064.88 1251.53,-1043.61 1260.56,-1027.62 1238.72,-1011.14 1182.96,-969.07 1137.39,-1022.16 1085.72,-975.14 1054.6,-946.81 976.57,-656.57 964.72,-616.18 959.97,-599.96 890.72,-337.99 890.72,-321.09 890.72,-321.09 890.72,-321.09 890.72,-229.35 890.72,-177.92 860.49,-151.21 895.72,-113.74 929.7,-77.61 1247.03,-60.8 1401.3,-54.71\"/>\n",
       "<polygon fill=\"#000000\" stroke=\"#000000\" points=\"1401.82,-58.19 1411.67,-54.3 1401.54,-51.19 1401.82,-58.19\"/>\n",
       "</g>\n",
       "<!-- callgraphX__tile_7_3&#45;&gt;callgraphX__print_maze -->\n",
       "<g id=\"edge235\" class=\"edge\">\n",
       "<title>callgraphX__tile_7_3&#45;&gt;callgraphX__print_maze</title>\n",
       "<path fill=\"none\" stroke=\"#000000\" d=\"M2561.24,-1193.65C2547.16,-1183.5 2532.61,-1170.28 2523.72,-1154.62 2491.94,-1098.63 2521.42,-1073.05 2503.72,-1011.14 2498.91,-994.31 2493.03,-991.83 2487.72,-975.14 2475.39,-936.38 2474.9,-925.75 2469.72,-885.4 2467,-864.11 2440.84,-128.99 2425.72,-113.74 2366.09,-53.58 1787.84,-50.26 1568.51,-51.19\"/>\n",
       "<polygon fill=\"#000000\" stroke=\"#000000\" points=\"1568.32,-47.69 1558.34,-51.24 1568.35,-54.69 1568.32,-47.69\"/>\n",
       "</g>\n",
       "<!-- callgraphX__tile_7_4&#45;&gt;callgraphX__print_maze -->\n",
       "<g id=\"edge236\" class=\"edge\">\n",
       "<title>callgraphX__tile_7_4&#45;&gt;callgraphX__print_maze</title>\n",
       "<path fill=\"none\" stroke=\"#000000\" d=\"M1106.91,-1107.91C1023.92,-1078.71 874.25,-1021.12 841.72,-975.14 788.32,-899.66 848.21,-633.23 788.72,-562.44 761.8,-530.4 727.17,-559.66 701.72,-526.44 670.21,-485.31 686.72,-462.64 686.72,-410.83 686.72,-410.83 686.72,-410.83 686.72,-229.35 686.72,-177.54 664.18,-149.45 701.72,-113.74 751.6,-66.31 1209.78,-55.21 1401.25,-52.64\"/>\n",
       "<polygon fill=\"#000000\" stroke=\"#000000\" points=\"1401.31,-56.14 1411.26,-52.51 1401.22,-49.14 1401.31,-56.14\"/>\n",
       "</g>\n",
       "<!-- callgraphX__tile_7_5&#45;&gt;callgraphX__print_maze -->\n",
       "<g id=\"edge237\" class=\"edge\">\n",
       "<title>callgraphX__tile_7_5&#45;&gt;callgraphX__print_maze</title>\n",
       "<path fill=\"none\" stroke=\"#000000\" d=\"M2414.43,-1280.93C2449.2,-1227.82 2518.87,-1102.12 2468.72,-1011.14 2454.26,-984.9 2434.7,-994.37 2411.72,-975.14 2370.29,-940.47 2352.48,-934.4 2329.72,-885.4 2307.9,-838.41 2314.72,-821.6 2314.72,-769.79 2314.72,-769.79 2314.72,-769.79 2314.72,-498.57 2314.72,-445.01 2321.57,-417.61 2280.72,-382.96 2180.67,-298.09 2101.15,-412.9 1987.72,-346.96 1961.98,-332 1972.87,-309.17 1947.72,-293.22 1879.57,-249.99 1828.28,-312.77 1769.72,-257.22 1721.94,-211.9 1779.47,-160.12 1732.72,-113.74 1708.88,-90.08 1626.5,-72.77 1563.16,-62.57\"/>\n",
       "<polygon fill=\"#000000\" stroke=\"#000000\" points=\"1563.59,-59.09 1553.17,-60.99 1562.5,-66.01 1563.59,-59.09\"/>\n",
       "</g>\n",
       "<!-- callgraphX__tile_7_6&#45;&gt;callgraphX__print_maze -->\n",
       "<g id=\"edge238\" class=\"edge\">\n",
       "<title>callgraphX__tile_7_6&#45;&gt;callgraphX__print_maze</title>\n",
       "<path fill=\"none\" stroke=\"#000000\" d=\"M2856.41,-121.15C2845.34,-118.2 2833.75,-115.54 2822.72,-113.74 2579.52,-74.09 1821.96,-57.69 1568.38,-53.21\"/>\n",
       "<polygon fill=\"#000000\" stroke=\"#000000\" points=\"1568.19,-49.71 1558.13,-53.04 1568.07,-56.71 1568.19,-49.71\"/>\n",
       "</g>\n",
       "<!-- callgraphX__tile_7_7&#45;&gt;callgraphX__print_maze -->\n",
       "<g id=\"edge239\" class=\"edge\">\n",
       "<title>callgraphX__tile_7_7&#45;&gt;callgraphX__print_maze</title>\n",
       "<path fill=\"none\" stroke=\"#000000\" d=\"M3039.42,-121.1C3028.34,-118.16 3016.75,-115.51 3005.72,-113.74 2725.54,-68.86 1845.19,-55.74 1568.69,-52.68\"/>\n",
       "<polygon fill=\"#000000\" stroke=\"#000000\" points=\"1568.36,-49.17 1558.32,-52.56 1568.29,-56.17 1568.36,-49.17\"/>\n",
       "</g>\n",
       "<!-- callgraphX__tile_7_8&#45;&gt;callgraphX__print_maze -->\n",
       "<g id=\"edge240\" class=\"edge\">\n",
       "<title>callgraphX__tile_7_8&#45;&gt;callgraphX__print_maze</title>\n",
       "<path fill=\"none\" stroke=\"#000000\" d=\"M3222.42,-121.07C3211.35,-118.12 3199.76,-115.48 3188.72,-113.74 2871.21,-63.6 1866.08,-54 1568.51,-52.25\"/>\n",
       "<polygon fill=\"#000000\" stroke=\"#000000\" points=\"1568.24,-48.75 1558.22,-52.19 1568.2,-55.75 1568.24,-48.75\"/>\n",
       "</g>\n",
       "</g>\n",
       "</svg>\n"
      ],
      "text/plain": [
       "<graphviz.sources.Source at 0x121901000>"
      ]
     },
     "execution_count": 65,
     "metadata": {},
     "output_type": "execute_result"
    }
   ],
   "source": [
    "callgraph(maze_code)"
   ]
  },
  {
   "cell_type": "markdown",
   "metadata": {
    "slideshow": {
     "slide_type": "subslide"
    }
   },
   "source": [
    "### A First Attempt\n",
    "\n",
    "We introduce a `DictMutator` class which mutates strings by inserting a keyword from a given dictionary:"
   ]
  },
  {
   "cell_type": "code",
   "execution_count": 66,
   "metadata": {
    "execution": {
     "iopub.execute_input": "2022-08-06T22:48:01.523967Z",
     "iopub.status.busy": "2022-08-06T22:48:01.523657Z",
     "iopub.status.idle": "2022-08-06T22:48:01.524876Z",
     "shell.execute_reply": "2022-08-06T22:48:01.525056Z"
    },
    "slideshow": {
     "slide_type": "subslide"
    }
   },
   "outputs": [],
   "source": [
    "class DictMutator(Mutator):\n",
    "    \"\"\"Variant of `Mutator` inserting keywords from a dictionary\"\"\"\n",
    "\n",
    "    def __init__(self, dictionary: Sequence[str]) -> None:\n",
    "        \"\"\"Constructor.\n",
    "        `dictionary` - a list of strings that can be used as keywords\n",
    "        \"\"\"\n",
    "        super().__init__()\n",
    "        self.dictionary = dictionary\n",
    "        self.mutators.append(self.insert_from_dictionary)\n",
    "\n",
    "    def insert_from_dictionary(self, s: str) -> str:\n",
    "        \"\"\"Returns `s` with a keyword from the dictionary inserted\"\"\"\n",
    "        pos = random.randint(0, len(s))\n",
    "        random_keyword = random.choice(self.dictionary)\n",
    "        return s[:pos] + random_keyword + s[pos:]"
   ]
  },
  {
   "cell_type": "markdown",
   "metadata": {
    "slideshow": {
     "slide_type": "subslide"
    }
   },
   "source": [
    "To fuzz the maze, we extend the `DictMutator` class to append dictionary keywords to the end of the seed and to remove a character from the end of the seed."
   ]
  },
  {
   "cell_type": "code",
   "execution_count": 67,
   "metadata": {
    "execution": {
     "iopub.execute_input": "2022-08-06T22:48:01.527642Z",
     "iopub.status.busy": "2022-08-06T22:48:01.527342Z",
     "iopub.status.idle": "2022-08-06T22:48:01.528408Z",
     "shell.execute_reply": "2022-08-06T22:48:01.528589Z"
    },
    "slideshow": {
     "slide_type": "subslide"
    }
   },
   "outputs": [],
   "source": [
    "class MazeMutator(DictMutator):\n",
    "    def __init__(self, dictionary: Sequence[str]) -> None:\n",
    "        super().__init__(dictionary)\n",
    "        self.mutators.append(self.delete_last_character)\n",
    "        self.mutators.append(self.append_from_dictionary)\n",
    "\n",
    "    def append_from_dictionary(self, s: str) -> str:\n",
    "        \"\"\"Returns s with a keyword from the dictionary appended\"\"\"\n",
    "        random_keyword = random.choice(self.dictionary)\n",
    "        return s + random_keyword\n",
    "\n",
    "    def delete_last_character(self, s: str) -> str:\n",
    "        \"\"\"Returns s without the last character\"\"\"\n",
    "        if len(s) > 0:\n",
    "            return s[:-1]\n",
    "        return s"
   ]
  },
  {
   "cell_type": "markdown",
   "metadata": {
    "slideshow": {
     "slide_type": "subslide"
    }
   },
   "source": [
    "Let's try a standard greybox fuzzer with the classic power schedule and our extended maze mutator (n=20k)."
   ]
  },
  {
   "cell_type": "code",
   "execution_count": 68,
   "metadata": {
    "execution": {
     "iopub.execute_input": "2022-08-06T22:48:01.612620Z",
     "iopub.status.busy": "2022-08-06T22:48:01.570637Z",
     "iopub.status.idle": "2022-08-06T22:48:08.454986Z",
     "shell.execute_reply": "2022-08-06T22:48:08.455352Z"
    },
    "slideshow": {
     "slide_type": "fragment"
    }
   },
   "outputs": [
    {
     "data": {
      "text/plain": [
       "'It took the fuzzer 6.92 seconds to generate and execute 20000 inputs.'"
      ]
     },
     "execution_count": 68,
     "metadata": {},
     "output_type": "execute_result"
    }
   ],
   "source": [
    "n = 20000\n",
    "seed_input = \" \"  # empty seed\n",
    "\n",
    "maze_mutator = MazeMutator([\"L\", \"R\", \"U\", \"D\"])\n",
    "maze_schedule = PowerSchedule()\n",
    "maze_fuzzer = GreyboxFuzzer([seed_input], maze_mutator, maze_schedule)\n",
    "\n",
    "start = time.time()\n",
    "maze_fuzzer.runs(FunctionCoverageRunner(maze), trials=n)\n",
    "end = time.time()\n",
    "\n",
    "\"It took the fuzzer %0.2f seconds to generate and execute %d inputs.\" % (end - start, n)"
   ]
  },
  {
   "cell_type": "markdown",
   "metadata": {
    "slideshow": {
     "slide_type": "subslide"
    }
   },
   "source": [
    "We will need to print statistics for several fuzzers. Why don't we define a function for that?"
   ]
  },
  {
   "cell_type": "code",
   "execution_count": 69,
   "metadata": {
    "execution": {
     "iopub.execute_input": "2022-08-06T22:48:08.458578Z",
     "iopub.status.busy": "2022-08-06T22:48:08.458213Z",
     "iopub.status.idle": "2022-08-06T22:48:08.459479Z",
     "shell.execute_reply": "2022-08-06T22:48:08.459750Z"
    },
    "slideshow": {
     "slide_type": "subslide"
    }
   },
   "outputs": [],
   "source": [
    "def print_stats(fuzzer: GreyboxFuzzer) -> None:\n",
    "    total = len(fuzzer.population)\n",
    "    solved = 0\n",
    "    invalid = 0\n",
    "    valid = 0\n",
    "    for seed in fuzzer.population:\n",
    "        s = maze(str(seed.data))\n",
    "        if \"INVALID\" in s:\n",
    "            invalid += 1\n",
    "        elif \"VALID\" in s:\n",
    "            valid += 1\n",
    "        elif \"SOLVED\" in s:\n",
    "            solved += 1\n",
    "            if solved == 1:\n",
    "                print(\"First solution: %s\" % repr(seed))\n",
    "        else:\n",
    "            print(\"??\")\n",
    "\n",
    "    print(\"\"\"Out of %d seeds,\n",
    "* %4d solved the maze,\n",
    "* %4d were valid but did not solve the maze, and\n",
    "* %4d were invalid\"\"\" % (total, solved, valid, invalid))"
   ]
  },
  {
   "cell_type": "markdown",
   "metadata": {
    "slideshow": {
     "slide_type": "subslide"
    }
   },
   "source": [
    "How well does our good, old greybox fuzzer do?"
   ]
  },
  {
   "cell_type": "code",
   "execution_count": 70,
   "metadata": {
    "execution": {
     "iopub.execute_input": "2022-08-06T22:48:08.473550Z",
     "iopub.status.busy": "2022-08-06T22:48:08.472987Z",
     "iopub.status.idle": "2022-08-06T22:48:08.474557Z",
     "shell.execute_reply": "2022-08-06T22:48:08.474866Z"
    },
    "slideshow": {
     "slide_type": "fragment"
    }
   },
   "outputs": [
    {
     "name": "stdout",
     "output_type": "stream",
     "text": [
      "Out of 1213 seeds,\n",
      "*    0 solved the maze,\n",
      "*  337 were valid but did not solve the maze, and\n",
      "*  876 were invalid\n"
     ]
    }
   ],
   "source": [
    "print_stats(maze_fuzzer)"
   ]
  },
  {
   "cell_type": "markdown",
   "metadata": {
    "slideshow": {
     "slide_type": "subslide"
    }
   },
   "source": [
    "It probably didn't solve the maze a single time. How can we make the fuzzer aware how \"far\" a seed is from reaching the target? If we know that, we can just assign more energy to that seed.\n",
    "\n",
    "***Try it***. Print the statistics for the boosted fuzzer using the `AFLFastSchedule` and the `CountingGreyboxFuzzer`. It will likely perform much better than the unboosted greybox fuzzer: The lowest-probablity path happens to be also the path which reaches the target. You can execute your own code by opening this chapter as Jupyter notebook."
   ]
  },
  {
   "cell_type": "markdown",
   "metadata": {
    "slideshow": {
     "slide_type": "subslide"
    }
   },
   "source": [
    "### Computing Function-Level Distance\n",
    "\n",
    "Using the static call graph for the maze code and the target function, we can compute the distance of each function $f$ to the target $t$ as the length of the shortest path between $f$ and $t$.\n",
    "\n",
    "Fortunately, the generated maze code includes a function called `target_tile` which returns the name of the target-function."
   ]
  },
  {
   "cell_type": "code",
   "execution_count": 71,
   "metadata": {
    "execution": {
     "iopub.execute_input": "2022-08-06T22:48:08.477083Z",
     "iopub.status.busy": "2022-08-06T22:48:08.476666Z",
     "iopub.status.idle": "2022-08-06T22:48:08.478418Z",
     "shell.execute_reply": "2022-08-06T22:48:08.478607Z"
    },
    "slideshow": {
     "slide_type": "fragment"
    }
   },
   "outputs": [
    {
     "data": {
      "text/plain": [
       "'tile_6_7'"
      ]
     },
     "execution_count": 71,
     "metadata": {},
     "output_type": "execute_result"
    }
   ],
   "source": [
    "target = target_tile()\n",
    "target"
   ]
  },
  {
   "cell_type": "markdown",
   "metadata": {
    "slideshow": {
     "slide_type": "subslide"
    }
   },
   "source": [
    "Now, we need to find the corresponding function in the call graph. The function `get_callgraph` returns the call graph for the maze code as [networkx](https://networkx.github.io/) graph. Networkx provides some useful functions for graph analysis."
   ]
  },
  {
   "cell_type": "code",
   "execution_count": 72,
   "metadata": {
    "execution": {
     "iopub.execute_input": "2022-08-06T22:48:08.480634Z",
     "iopub.status.busy": "2022-08-06T22:48:08.480290Z",
     "iopub.status.idle": "2022-08-06T22:48:08.481718Z",
     "shell.execute_reply": "2022-08-06T22:48:08.481927Z"
    },
    "slideshow": {
     "slide_type": "skip"
    }
   },
   "outputs": [],
   "source": [
    "import networkx as nx  # type: ignore"
   ]
  },
  {
   "cell_type": "code",
   "execution_count": 73,
   "metadata": {
    "execution": {
     "iopub.execute_input": "2022-08-06T22:48:08.483885Z",
     "iopub.status.busy": "2022-08-06T22:48:08.483501Z",
     "iopub.status.idle": "2022-08-06T22:48:08.484767Z",
     "shell.execute_reply": "2022-08-06T22:48:08.484977Z"
    },
    "slideshow": {
     "slide_type": "skip"
    }
   },
   "outputs": [],
   "source": [
    "from ControlFlow import get_callgraph"
   ]
  },
  {
   "cell_type": "code",
   "execution_count": 74,
   "metadata": {
    "execution": {
     "iopub.execute_input": "2022-08-06T22:48:08.487112Z",
     "iopub.status.busy": "2022-08-06T22:48:08.486727Z",
     "iopub.status.idle": "2022-08-06T22:48:08.502723Z",
     "shell.execute_reply": "2022-08-06T22:48:08.502921Z"
    },
    "slideshow": {
     "slide_type": "fragment"
    }
   },
   "outputs": [],
   "source": [
    "cg = get_callgraph(maze_code)\n",
    "for node in cg.nodes():\n",
    "    if target in node:\n",
    "        target_node = node\n",
    "        break"
   ]
  },
  {
   "cell_type": "code",
   "execution_count": 75,
   "metadata": {
    "execution": {
     "iopub.execute_input": "2022-08-06T22:48:08.505018Z",
     "iopub.status.busy": "2022-08-06T22:48:08.504663Z",
     "iopub.status.idle": "2022-08-06T22:48:08.506327Z",
     "shell.execute_reply": "2022-08-06T22:48:08.506523Z"
    },
    "slideshow": {
     "slide_type": "fragment"
    }
   },
   "outputs": [
    {
     "data": {
      "text/plain": [
       "'callgraphX__tile_6_7'"
      ]
     },
     "execution_count": 75,
     "metadata": {},
     "output_type": "execute_result"
    }
   ],
   "source": [
    "target_node"
   ]
  },
  {
   "cell_type": "markdown",
   "metadata": {
    "slideshow": {
     "slide_type": "subslide"
    }
   },
   "source": [
    "We can now generate the function-level distance. The dictionary `distance` contains for each function the distance to the target-function.  If there is no path to the target, we assign a maximum distance (`0xFFFF`).\n",
    "\n",
    "The function `nx.shortest_path_length(CG, node, target_node)` returns the length of the shortest path from function `node` to function `target_node` in the call graph `CG`."
   ]
  },
  {
   "cell_type": "code",
   "execution_count": 76,
   "metadata": {
    "execution": {
     "iopub.execute_input": "2022-08-06T22:48:08.509651Z",
     "iopub.status.busy": "2022-08-06T22:48:08.509334Z",
     "iopub.status.idle": "2022-08-06T22:48:08.510498Z",
     "shell.execute_reply": "2022-08-06T22:48:08.510683Z"
    },
    "slideshow": {
     "slide_type": "subslide"
    }
   },
   "outputs": [],
   "source": [
    "distance = {}\n",
    "for node in cg.nodes():\n",
    "    if \"__\" in node:\n",
    "        name = node.split(\"__\")[-1]\n",
    "    else:\n",
    "        name = node\n",
    "    try:\n",
    "        distance[name] = nx.shortest_path_length(cg, node, target_node)\n",
    "    except:\n",
    "        distance[name] = 0xFFFF"
   ]
  },
  {
   "cell_type": "markdown",
   "metadata": {
    "slideshow": {
     "slide_type": "fragment"
    }
   },
   "source": [
    "These are the distance values for all tile-functions on the path to the target function."
   ]
  },
  {
   "cell_type": "code",
   "execution_count": 77,
   "metadata": {
    "execution": {
     "iopub.execute_input": "2022-08-06T22:48:08.513320Z",
     "iopub.status.busy": "2022-08-06T22:48:08.512987Z",
     "iopub.status.idle": "2022-08-06T22:48:08.514611Z",
     "shell.execute_reply": "2022-08-06T22:48:08.514800Z"
    },
    "slideshow": {
     "slide_type": "subslide"
    }
   },
   "outputs": [
    {
     "data": {
      "text/plain": [
       "{'callgraphX': 1,\n",
       " 'maze': 23,\n",
       " 'tile_2_1': 22,\n",
       " 'tile_2_3': 8,\n",
       " 'tile_2_4': 7,\n",
       " 'tile_2_5': 6,\n",
       " 'tile_2_6': 5,\n",
       " 'tile_2_7': 4,\n",
       " 'tile_3_1': 21,\n",
       " 'tile_3_3': 9,\n",
       " 'tile_3_7': 3,\n",
       " 'tile_4_1': 20,\n",
       " 'tile_4_3': 10,\n",
       " 'tile_4_4': 11,\n",
       " 'tile_4_5': 12,\n",
       " 'tile_4_7': 2,\n",
       " 'tile_5_1': 19,\n",
       " 'tile_5_5': 13,\n",
       " 'tile_5_7': 1,\n",
       " 'tile_6_1': 18,\n",
       " 'tile_6_2': 17,\n",
       " 'tile_6_3': 16,\n",
       " 'tile_6_4': 15,\n",
       " 'tile_6_5': 14,\n",
       " 'tile_6_7': 0}"
      ]
     },
     "execution_count": 77,
     "metadata": {},
     "output_type": "execute_result"
    }
   ],
   "source": [
    "{k: distance[k] for k in list(distance) if distance[k] < 0xFFFF}"
   ]
  },
  {
   "cell_type": "markdown",
   "metadata": {
    "slideshow": {
     "slide_type": "subslide"
    }
   },
   "source": [
    "***Summary***. Using the static call graph and the target function $t$, we have shown how to compute the function-level distance of each function $f$ to the target $t$.\n",
    "\n",
    "***Try it***. You can try and execute your own code by opening this chapter as Jupyter notebook.\n",
    "\n",
    "* How do we compute distance if there are multiple targets? (Hint: [Geometric Mean](https://en.wikipedia.org/wiki/Geometric_mean)).\n",
    "* Given the call graph (CG) and the control-flow graph (CFG$_f$) for each function $f$, how do we compute basic-block (BB)-level distance? (Hint: In CFG$_f$, measure the BB-level distance to *calls* of functions on the path to the target function. Remember that BB-level distance in functions with higher function-level distance is higher, too.)\n",
    "\n",
    "***Read***. If you are interested in other aspects of search, you can follow up by reading the chapter on [Search-based Fuzzing](SearchBasedFuzzer.ipynb). If you are interested, how to solve the problems above, you can have a look at our paper on \"[Directed Greybox Fuzzing](https://mboehme.github.io/paper/CCS17.pdf)\"."
   ]
  },
  {
   "cell_type": "markdown",
   "metadata": {
    "slideshow": {
     "slide_type": "subslide"
    }
   },
   "source": [
    "### Directed Power Schedule\n",
    "Now that we know how to compute the function-level distance, let's try to implement a power schedule that assigns *more energy to seeds with a lower average distance* to the target function. Notice that the distance values are all *pre-computed*. These values are injected into the program binary, just like the coverage instrumentation. In practice, this makes the computation of the average distance *extremely efficient*.\n",
    "\n",
    "If you really want to know. Given the function-level distance $d_f(s,t)$ of a function $s$ to a function $t$ in call graph $CG$, our directed power schedule computes the seed distance $d(i,t)$ for a seed $i$ to function $t$ as $d(i,t)=\\dfrac{\\sum_{s\\in CG} d_f(s,t)}{|CG|}$ where $|CG|$ is the number of nodes in the call graph $CG$."
   ]
  },
  {
   "cell_type": "code",
   "execution_count": 78,
   "metadata": {
    "execution": {
     "iopub.execute_input": "2022-08-06T22:48:08.518323Z",
     "iopub.status.busy": "2022-08-06T22:48:08.518013Z",
     "iopub.status.idle": "2022-08-06T22:48:08.519245Z",
     "shell.execute_reply": "2022-08-06T22:48:08.519429Z"
    },
    "slideshow": {
     "slide_type": "subslide"
    }
   },
   "outputs": [],
   "source": [
    "class DirectedSchedule(PowerSchedule):\n",
    "    \"\"\"Assign high energy to seeds close to some target\"\"\"\n",
    "\n",
    "    def __init__(self, distance: Dict[str, int], exponent: float) -> None:\n",
    "        self.distance = distance\n",
    "        self.exponent = exponent\n",
    "\n",
    "    def __getFunctions__(self, coverage: Set[Location]) -> Set[str]:\n",
    "        functions = set()\n",
    "        for f, _ in set(coverage):\n",
    "            functions.add(f)\n",
    "        return functions\n",
    "\n",
    "    def assignEnergy(self, population: Sequence[Seed]) -> None:\n",
    "        \"\"\"Assigns each seed energy inversely proportional\n",
    "           to the average function-level distance to target.\"\"\"\n",
    "        for seed in population:\n",
    "            if seed.distance < 0:\n",
    "                num_dist = 0\n",
    "                sum_dist = 0\n",
    "                for f in self.__getFunctions__(seed.coverage):\n",
    "                    if f in list(self.distance):\n",
    "                        sum_dist += self.distance[f]\n",
    "                        num_dist += 1\n",
    "                seed.distance = sum_dist / num_dist\n",
    "                seed.energy = (1 / seed.distance) ** self.exponent"
   ]
  },
  {
   "cell_type": "markdown",
   "metadata": {
    "slideshow": {
     "slide_type": "subslide"
    }
   },
   "source": [
    "Let's see how the directed schedule performs against the good, old greybox fuzzer."
   ]
  },
  {
   "cell_type": "code",
   "execution_count": 79,
   "metadata": {
    "execution": {
     "iopub.execute_input": "2022-08-06T22:48:08.605246Z",
     "iopub.status.busy": "2022-08-06T22:48:08.563403Z",
     "iopub.status.idle": "2022-08-06T22:48:17.839563Z",
     "shell.execute_reply": "2022-08-06T22:48:17.839804Z"
    },
    "slideshow": {
     "slide_type": "fragment"
    }
   },
   "outputs": [
    {
     "data": {
      "text/plain": [
       "'It took the fuzzer 9.32 seconds to generate and execute 20000 inputs.'"
      ]
     },
     "execution_count": 79,
     "metadata": {},
     "output_type": "execute_result"
    }
   ],
   "source": [
    "directed_schedule = DirectedSchedule(distance, 3)\n",
    "directed_fuzzer = GreyboxFuzzer([seed_input], maze_mutator, directed_schedule)\n",
    "\n",
    "start = time.time()\n",
    "directed_fuzzer.runs(FunctionCoverageRunner(maze), trials=n)\n",
    "end = time.time()\n",
    "\n",
    "\"It took the fuzzer %0.2f seconds to generate and execute %d inputs.\" % (end - start, n)"
   ]
  },
  {
   "cell_type": "code",
   "execution_count": 80,
   "metadata": {
    "execution": {
     "iopub.execute_input": "2022-08-06T22:48:17.866495Z",
     "iopub.status.busy": "2022-08-06T22:48:17.866181Z",
     "iopub.status.idle": "2022-08-06T22:48:17.867576Z",
     "shell.execute_reply": "2022-08-06T22:48:17.867761Z"
    },
    "slideshow": {
     "slide_type": "subslide"
    }
   },
   "outputs": [
    {
     "name": "stdout",
     "output_type": "stream",
     "text": [
      "Out of 2458 seeds,\n",
      "*    0 solved the maze,\n",
      "*  922 were valid but did not solve the maze, and\n",
      "* 1536 were invalid\n"
     ]
    }
   ],
   "source": [
    "print_stats(directed_fuzzer)"
   ]
  },
  {
   "cell_type": "markdown",
   "metadata": {
    "slideshow": {
     "slide_type": "fragment"
    }
   },
   "source": [
    "It probably didn't solve a single maze either, but we have more valid solutions. So, there is definitely progress.\n",
    "\n",
    "Let's have a look at the distance values for each seed."
   ]
  },
  {
   "cell_type": "code",
   "execution_count": 81,
   "metadata": {
    "execution": {
     "iopub.execute_input": "2022-08-06T22:48:17.875636Z",
     "iopub.status.busy": "2022-08-06T22:48:17.873675Z",
     "iopub.status.idle": "2022-08-06T22:48:17.970323Z",
     "shell.execute_reply": "2022-08-06T22:48:17.970526Z"
    },
    "slideshow": {
     "slide_type": "subslide"
    }
   },
   "outputs": [
    {
     "data": {
      "image/png": "[encoded data removed]",
      "text/plain": [
       "<Figure size 432x288 with 1 Axes>"
      ]
     },
     "metadata": {
      "needs_background": "light"
     },
     "output_type": "display_data"
    }
   ],
   "source": [
    "y = [seed.distance for seed in directed_fuzzer.population]  # type: ignore\n",
    "x = range(len(y))\n",
    "plt.scatter(x, y)\n",
    "plt.ylim(0, max(y))\n",
    "plt.xlabel(\"Seed ID\")\n",
    "plt.ylabel(\"Distance\");"
   ]
  },
  {
   "cell_type": "markdown",
   "metadata": {
    "slideshow": {
     "slide_type": "fragment"
    }
   },
   "source": [
    "Let's normalize the y-axis and improve the importance of the small distance seeds."
   ]
  },
  {
   "cell_type": "markdown",
   "metadata": {
    "slideshow": {
     "slide_type": "subslide"
    }
   },
   "source": [
    "### Improved Directed Power Schedule\n",
    "\n",
    "The improved directed schedule normalizes seed distance between the minimal and maximal distance.\n",
    "Again, if you really want to know. Given the seed distance $d(i,t)$ of a seed $i$ to a function $t$, our improved power schedule computes the new seed distance $d'(i,t)$ as \n",
    "$$\n",
    "d'(i,t)=\\begin{cases}\n",
    "1 & \\text{if } d(i,t) = \\text{minD} = \\text{maxD}\\\\\n",
    "\\text{maxD} - \\text{minD} & \\text{if } d(i,t) = \\text{minD} \\neq \\text{maxD}\\\\\n",
    "\\frac{\\text{maxD} - \\text{minD}}{d(i,t)-\\text{minD}} & \\text{otherwise}\n",
    "\\end{cases}\n",
    "$$\n",
    "where \n",
    "$$\\text{minD}=\\min_{i\\in T}[d(i,t)]$$\n",
    "and\n",
    "$$\\text{maxD}=\\max_{i\\in T}[d(i,t)]$$\n",
    "where $T$ is the set of seeds (i.e., the population)."
   ]
  },
  {
   "cell_type": "code",
   "execution_count": 82,
   "metadata": {
    "execution": {
     "iopub.execute_input": "2022-08-06T22:48:17.973359Z",
     "iopub.status.busy": "2022-08-06T22:48:17.972465Z",
     "iopub.status.idle": "2022-08-06T22:48:17.975603Z",
     "shell.execute_reply": "2022-08-06T22:48:17.975959Z"
    },
    "slideshow": {
     "slide_type": "subslide"
    }
   },
   "outputs": [],
   "source": [
    "class AFLGoSchedule(DirectedSchedule):\n",
    "    \"\"\"Assign high energy to seeds close to the target\"\"\"\n",
    "\n",
    "    def assignEnergy(self, population: Sequence[Seed]):\n",
    "        \"\"\"Assigns each seed energy inversely proportional\n",
    "           to the average function-level distance to target.\"\"\"\n",
    "        min_dist: Union[int, float] = 0xFFFF\n",
    "        max_dist: Union[int, float] = 0\n",
    "\n",
    "        for seed in population:\n",
    "            if seed.distance < 0:\n",
    "                num_dist = 0\n",
    "                sum_dist = 0\n",
    "                for f in self.__getFunctions__(seed.coverage):\n",
    "                    if f in list(self.distance):\n",
    "                        sum_dist += self.distance[f]\n",
    "                        num_dist += 1\n",
    "                seed.distance = sum_dist / num_dist\n",
    "            if seed.distance < min_dist:\n",
    "                min_dist = seed.distance\n",
    "            if seed.distance > max_dist:\n",
    "                max_dist = seed.distance\n",
    "\n",
    "        for seed in population:\n",
    "            if seed.distance == min_dist:\n",
    "                if min_dist == max_dist:\n",
    "                    seed.energy = 1\n",
    "                else:\n",
    "                    seed.energy = max_dist - min_dist\n",
    "            else:\n",
    "                seed.energy = (max_dist - min_dist) / (seed.distance - min_dist)"
   ]
  },
  {
   "cell_type": "markdown",
   "metadata": {
    "slideshow": {
     "slide_type": "subslide"
    }
   },
   "source": [
    "Let's see how the improved power schedule performs."
   ]
  },
  {
   "cell_type": "code",
   "execution_count": 83,
   "metadata": {
    "execution": {
     "iopub.execute_input": "2022-08-06T22:48:18.068297Z",
     "iopub.status.busy": "2022-08-06T22:48:18.019377Z",
     "iopub.status.idle": "2022-08-06T22:48:34.571535Z",
     "shell.execute_reply": "2022-08-06T22:48:34.571953Z"
    },
    "slideshow": {
     "slide_type": "fragment"
    }
   },
   "outputs": [
    {
     "data": {
      "text/plain": [
       "'It took the fuzzer 16.59 seconds to generate and execute 20000 inputs.'"
      ]
     },
     "execution_count": 83,
     "metadata": {},
     "output_type": "execute_result"
    }
   ],
   "source": [
    "aflgo_schedule = AFLGoSchedule(distance, 3)\n",
    "aflgo_fuzzer = GreyboxFuzzer([seed_input], maze_mutator, aflgo_schedule)\n",
    "\n",
    "start = time.time()\n",
    "aflgo_fuzzer.runs(FunctionCoverageRunner(maze), trials=n)\n",
    "end = time.time()\n",
    "\n",
    "\"It took the fuzzer %0.2f seconds to generate and execute %d inputs.\" % (end - start, n)"
   ]
  },
  {
   "cell_type": "code",
   "execution_count": 84,
   "metadata": {
    "execution": {
     "iopub.execute_input": "2022-08-06T22:48:34.624574Z",
     "iopub.status.busy": "2022-08-06T22:48:34.624216Z",
     "iopub.status.idle": "2022-08-06T22:48:34.625844Z",
     "shell.execute_reply": "2022-08-06T22:48:34.626129Z"
    },
    "slideshow": {
     "slide_type": "subslide"
    }
   },
   "outputs": [
    {
     "name": "stdout",
     "output_type": "stream",
     "text": [
      "First solution: wDNGD:Z\u0001V-F\u0001sDEDYRHRvO-RRUUOLTL~`UURRRRDDDD\n",
      "Out of 3585 seeds,\n",
      "*  608 solved the maze,\n",
      "*  446 were valid but did not solve the maze, and\n",
      "* 2531 were invalid\n"
     ]
    }
   ],
   "source": [
    "print_stats(aflgo_fuzzer)"
   ]
  },
  {
   "cell_type": "markdown",
   "metadata": {
    "slideshow": {
     "slide_type": "fragment"
    }
   },
   "source": [
    "In contrast to all previous power schedules, this one generates hundreds of solutions. It has generated many solutions. \n",
    "\n",
    "Let's filter out all ignored input characters from the first solution. The function `filter(f, seed.data)` returns a list of elements `e` in `seed.data` where the function `f` applied on `e` returns True."
   ]
  },
  {
   "cell_type": "code",
   "execution_count": 85,
   "metadata": {
    "execution": {
     "iopub.execute_input": "2022-08-06T22:48:34.634783Z",
     "iopub.status.busy": "2022-08-06T22:48:34.634444Z",
     "iopub.status.idle": "2022-08-06T22:48:34.635903Z",
     "shell.execute_reply": "2022-08-06T22:48:34.636126Z"
    },
    "slideshow": {
     "slide_type": "subslide"
    }
   },
   "outputs": [
    {
     "name": "stdout",
     "output_type": "stream",
     "text": [
      "DDDDRRRRUULLUURRRRDDDD\n"
     ]
    }
   ],
   "source": [
    "for seed in aflgo_fuzzer.population:\n",
    "    s = maze(str(seed.data))\n",
    "    if \"SOLVED\" in s:\n",
    "        filtered = \"\".join(list(filter(lambda c: c in \"UDLR\", seed.data)))\n",
    "        print(filtered)\n",
    "        break"
   ]
  },
  {
   "cell_type": "markdown",
   "metadata": {
    "slideshow": {
     "slide_type": "subslide"
    }
   },
   "source": [
    "This is definitely a solution for the maze specified at the beginning!\n",
    "\n",
    "***Summary***. After pre-computing the function-level distance to the target, we can develop a power schedule that assigns more energy to a seed with a smaller average function-level distance to the target. By normalizing seed distance values between the minimum and maximum seed distance, we can further boost the directed power schedule.\n",
    "\n",
    "***Try it***. Implement and evaluate a simpler directed power that uses the minimal (rather than average) function-level distance. What is the downside of using the minimal distance? In order to execute your code, you just need to open this chapter as Jupyter notebook.\n",
    "\n",
    "***Read***. You can find out more about directed greybox fuzzing in the equally-named paper \"[Directed Greybox Fuzzing](https://mboehme.github.io/paper/CCS17.pdf)\" \\cite{boehme2017greybox} and check out the implementation into AFL at [http://github.com/aflgo/aflgo](http://github.com/aflgo/aflgo)."
   ]
  },
  {
   "cell_type": "markdown",
   "metadata": {
    "slideshow": {
     "slide_type": "slide"
    }
   },
   "source": [
    "## Synopsis\n",
    "\n",
    "This chapter introduces advanced methods for grey-box fuzzing inspired by the popular AFL fuzzer. The `GreyboxFuzzer` class has three arguments. First, a list of seed inputs:"
   ]
  },
  {
   "cell_type": "code",
   "execution_count": 86,
   "metadata": {
    "execution": {
     "iopub.execute_input": "2022-08-06T22:48:34.638064Z",
     "iopub.status.busy": "2022-08-06T22:48:34.637738Z",
     "iopub.status.idle": "2022-08-06T22:48:34.639010Z",
     "shell.execute_reply": "2022-08-06T22:48:34.639198Z"
    },
    "slideshow": {
     "slide_type": "fragment"
    }
   },
   "outputs": [],
   "source": [
    "seed_input = \"http://www.google.com/search?q=fuzzing\"\n",
    "seeds = [seed_input]"
   ]
  },
  {
   "cell_type": "markdown",
   "metadata": {
    "slideshow": {
     "slide_type": "fragment"
    }
   },
   "source": [
    "Second, a _mutator_ that changes individual parts of the input."
   ]
  },
  {
   "cell_type": "code",
   "execution_count": 87,
   "metadata": {
    "execution": {
     "iopub.execute_input": "2022-08-06T22:48:34.641059Z",
     "iopub.status.busy": "2022-08-06T22:48:34.640724Z",
     "iopub.status.idle": "2022-08-06T22:48:34.642176Z",
     "shell.execute_reply": "2022-08-06T22:48:34.642427Z"
    },
    "slideshow": {
     "slide_type": "fragment"
    }
   },
   "outputs": [],
   "source": [
    "mutator = Mutator()"
   ]
  },
  {
   "cell_type": "markdown",
   "metadata": {
    "slideshow": {
     "slide_type": "fragment"
    }
   },
   "source": [
    "Third, a _power schedule_ that assigns fuzzing effort across the population:"
   ]
  },
  {
   "cell_type": "code",
   "execution_count": 88,
   "metadata": {
    "execution": {
     "iopub.execute_input": "2022-08-06T22:48:34.644230Z",
     "iopub.status.busy": "2022-08-06T22:48:34.643894Z",
     "iopub.status.idle": "2022-08-06T22:48:34.645376Z",
     "shell.execute_reply": "2022-08-06T22:48:34.645612Z"
    },
    "slideshow": {
     "slide_type": "fragment"
    }
   },
   "outputs": [],
   "source": [
    "schedule = PowerSchedule()"
   ]
  },
  {
   "cell_type": "markdown",
   "metadata": {
    "slideshow": {
     "slide_type": "fragment"
    }
   },
   "source": [
    "These three go into the `GreyboxFuzzer` constructor:"
   ]
  },
  {
   "cell_type": "code",
   "execution_count": 89,
   "metadata": {
    "execution": {
     "iopub.execute_input": "2022-08-06T22:48:34.648080Z",
     "iopub.status.busy": "2022-08-06T22:48:34.647753Z",
     "iopub.status.idle": "2022-08-06T22:48:34.649102Z",
     "shell.execute_reply": "2022-08-06T22:48:34.649291Z"
    },
    "slideshow": {
     "slide_type": "fragment"
    },
    "tags": []
   },
   "outputs": [],
   "source": [
    "greybox_fuzzer = GreyboxFuzzer(seeds=seeds, mutator=mutator, schedule=schedule)"
   ]
  },
  {
   "cell_type": "markdown",
   "metadata": {
    "slideshow": {
     "slide_type": "subslide"
    }
   },
   "source": [
    "The `GreyboxFuzzer` class is used in conjunction with a `FunctionCoverageRunner`:"
   ]
  },
  {
   "cell_type": "code",
   "execution_count": 90,
   "metadata": {
    "execution": {
     "iopub.execute_input": "2022-08-06T22:48:34.719228Z",
     "iopub.status.busy": "2022-08-06T22:48:34.682184Z",
     "iopub.status.idle": "2022-08-06T22:48:35.694722Z",
     "shell.execute_reply": "2022-08-06T22:48:35.695015Z"
    },
    "slideshow": {
     "slide_type": "fragment"
    }
   },
   "outputs": [],
   "source": [
    "http_runner = FunctionCoverageRunner(http_program)\n",
    "outcomes = greybox_fuzzer.runs(http_runner, trials=10000)"
   ]
  },
  {
   "cell_type": "markdown",
   "metadata": {
    "slideshow": {
     "slide_type": "fragment"
    }
   },
   "source": [
    "After fuzzing, we can inspect the population:"
   ]
  },
  {
   "cell_type": "code",
   "execution_count": 91,
   "metadata": {
    "execution": {
     "iopub.execute_input": "2022-08-06T22:48:35.697773Z",
     "iopub.status.busy": "2022-08-06T22:48:35.697412Z",
     "iopub.status.idle": "2022-08-06T22:48:35.698969Z",
     "shell.execute_reply": "2022-08-06T22:48:35.699168Z"
    },
    "slideshow": {
     "slide_type": "subslide"
    }
   },
   "outputs": [
    {
     "data": {
      "text/plain": [
       "[http://www.google.com/search?q=fuzzing,\n",
       " ttp:/;/swww!&bgokDgle.com/seasch?q=Qftkg,\n",
       " htp://wvw.google.com/search?q=fuzzing,\n",
       " ttp:/B;swww!&bgokDgle.com/seasc(?qQftkg,\n",
       " to/;swww!i&bgoBkDNl_/com/seasc(qQfgF,\n",
       " ttp</;aosw!&b,okDgl:c.com/sEcsc`>q=Qfkg,\n",
       " Ap|/]$:aoA5!$b,oiDg8~c.msErch>uoQkg,\n",
       " Ap|/9]?:a1oC!$BiDg8~'k}msch>uoQjg,\n",
       " Lto/;swwkWw!6bgoBDJl_/cm/s\\a?g,qQfgF,\n",
       " Ap|/]$:aoA5#$b~,oiDg8~c.msErch>uoQkg,\n",
       " -to/s7ww!i&bgokdKcom/seaxssc8qQ}pgF,\n",
       " ttpO/;aos%&b,kDg'l:c.aom/sEcsc`>q=Qfkg,\n",
       " U~tp</;AoqwW&nF,o`k7[#HDgl:c&Co\u0005/T[E#sc`>rq_.=Qfkg,\n",
       " p|/9]?:a1oC!$BiDg98~'k}ms#h>uoQg,\n",
       " ttp:/;)/sww!&bg~kDglEcomseasch=q=Qftkg,\n",
       " Ap|]$aoA5#&B~,omDg8~.msV0Dbkh>quoQcDfg,\n",
       " ttp/;)/sJww!bg~kDglEIcomseasch=q=Qftkg,\n",
       " Tr\u001a/~;/-w8w!9&bgZIekTglDcKee;Qcc(=q=Qfwk,\n",
       " -xto/ys6wwO!i&bgokdm{Kk+omojseaxs!cQ}1gF,\n",
       " T/|;9X9@\n",
       " 8&bOg}RIeQkTbTD:cKee;Qac(qq=Qfsk]"
      ]
     },
     "execution_count": 91,
     "metadata": {},
     "output_type": "execute_result"
    }
   ],
   "source": [
    "greybox_fuzzer.population[:20]"
   ]
  },
  {
   "cell_type": "markdown",
   "metadata": {
    "slideshow": {
     "slide_type": "subslide"
    }
   },
   "source": [
    "Besides the simple `PowerSchedule`, we can have advanced power schedules.\n",
    "\n",
    "* `AFLFastSchedule` assigns high energy to \"unusual\" paths not taken very often.\n",
    "* `AFLGoSchedule` assigns high energy to paths close to uncovered program locations. \n",
    "\n",
    "The `AFLGoSchedule` class constructor requires a `distance` metric from each node towards target locations, as determined via analysis of the program code. See the chapter for details."
   ]
  },
  {
   "cell_type": "code",
   "execution_count": 92,
   "metadata": {
    "execution": {
     "iopub.execute_input": "2022-08-06T22:48:35.701211Z",
     "iopub.status.busy": "2022-08-06T22:48:35.700878Z",
     "iopub.status.idle": "2022-08-06T22:48:35.702012Z",
     "shell.execute_reply": "2022-08-06T22:48:35.702377Z"
    },
    "slideshow": {
     "slide_type": "fragment"
    }
   },
   "outputs": [],
   "source": [
    "# ignore\n",
    "from ClassDiagram import display_class_hierarchy"
   ]
  },
  {
   "cell_type": "code",
   "execution_count": 93,
   "metadata": {
    "execution": {
     "iopub.execute_input": "2022-08-06T22:48:35.706482Z",
     "iopub.status.busy": "2022-08-06T22:48:35.706124Z",
     "iopub.status.idle": "2022-08-06T22:48:36.147940Z",
     "shell.execute_reply": "2022-08-06T22:48:36.148364Z"
    },
    "slideshow": {
     "slide_type": "subslide"
    }
   },
   "outputs": [
    {
     "data": {
      "image/svg+xml": [
       "<?xml version=\"1.0\" encoding=\"UTF-8\" standalone=\"no\"?>\n",
       "<!DOCTYPE svg PUBLIC \"-//W3C//DTD SVG 1.1//EN\"\n",
       " \"http://www.w3.org/Graphics/SVG/1.1/DTD/svg11.dtd\">\n",
       "<!-- Generated by graphviz version 5.0.0 (20220707.1540)\n",
       " -->\n",
       "<!-- Pages: 1 -->\n",
       "<svg width=\"867pt\" height=\"420pt\"\n",
       " viewBox=\"0.00 0.00 866.50 420.00\" xmlns=\"http://www.w3.org/2000/svg\" xmlns:xlink=\"http://www.w3.org/1999/xlink\">\n",
       "<g id=\"graph0\" class=\"graph\" transform=\"scale(1 1) rotate(0) translate(4 416)\">\n",
       "<g id=\"a_graph0\"><a xlink:title=\"CountingGreyboxFuzzer class hierarchy\">\n",
       "<polygon fill=\"white\" stroke=\"transparent\" points=\"-4,4 -4,-416 862.5,-416 862.5,4 -4,4\"/>\n",
       "</a>\n",
       "</g>\n",
       "<!-- CountingGreyboxFuzzer -->\n",
       "<g id=\"node1\" class=\"node\">\n",
       "<title>CountingGreyboxFuzzer</title>\n",
       "<g id=\"a_node1\"><a xlink:href=\"#\" xlink:title=\"class CountingGreyboxFuzzer:&#10;Count how often individual paths are exercised.\">\n",
       "<polygon fill=\"none\" stroke=\"black\" points=\"5,-6 5,-59 172,-59 172,-6 5,-6\"/>\n",
       "<text text-anchor=\"start\" x=\"13\" y=\"-44.8\" font-family=\"Patua One, Helvetica, sans-serif\" font-weight=\"bold\" font-size=\"14.00\" fill=\"#b03a2e\">CountingGreyboxFuzzer</text>\n",
       "<polyline fill=\"none\" stroke=\"black\" points=\"5,-36 172,-36 \"/>\n",
       "<g id=\"a_node1_0\"><a xlink:href=\"#\" xlink:title=\"CountingGreyboxFuzzer\">\n",
       "<g id=\"a_node1_1\"><a xlink:href=\"#\" xlink:title=\"run(self, runner: MutationFuzzer.FunctionCoverageRunner) &#45;&gt; Tuple[Any, str]:&#10;Inform scheduler about path frequency\">\n",
       "<text text-anchor=\"start\" x=\"67.5\" y=\"-25\" font-family=\"'Fira Mono', 'Source Code Pro', 'Courier', monospace\" font-weight=\"bold\" font-style=\"italic\" font-size=\"10.00\">run()</text>\n",
       "</a>\n",
       "</g>\n",
       "<g id=\"a_node1_2\"><a xlink:href=\"#\" xlink:title=\"reset(self):&#10;Reset path frequency\">\n",
       "<text text-anchor=\"start\" x=\"67.5\" y=\"-14\" font-family=\"'Fira Mono', 'Source Code Pro', 'Courier', monospace\" font-style=\"italic\" font-size=\"10.00\">reset()</text>\n",
       "</a>\n",
       "</g>\n",
       "</a>\n",
       "</g>\n",
       "</a>\n",
       "</g>\n",
       "</g>\n",
       "<!-- GreyboxFuzzer -->\n",
       "<g id=\"node2\" class=\"node\">\n",
       "<title>GreyboxFuzzer</title>\n",
       "<g id=\"a_node2\"><a xlink:href=\"#\" xlink:title=\"class GreyboxFuzzer:&#10;Coverage&#45;guided mutational fuzzing.\">\n",
       "<polygon fill=\"none\" stroke=\"black\" points=\"33.5,-118 33.5,-171 143.5,-171 143.5,-118 33.5,-118\"/>\n",
       "<text text-anchor=\"start\" x=\"41.5\" y=\"-156.8\" font-family=\"Patua One, Helvetica, sans-serif\" font-weight=\"bold\" font-size=\"14.00\" fill=\"#b03a2e\">GreyboxFuzzer</text>\n",
       "<polyline fill=\"none\" stroke=\"black\" points=\"33.5,-148 143.5,-148 \"/>\n",
       "<g id=\"a_node2_3\"><a xlink:href=\"#\" xlink:title=\"GreyboxFuzzer\">\n",
       "<g id=\"a_node2_4\"><a xlink:href=\"#\" xlink:title=\"run(self, runner: MutationFuzzer.FunctionCoverageRunner) &#45;&gt; Tuple[Any, str]:&#10;Run function(inp) while tracking coverage.&#10;If we reach new coverage,&#10;add inp to population and its coverage to population_coverage\">\n",
       "<text text-anchor=\"start\" x=\"67.5\" y=\"-137\" font-family=\"'Fira Mono', 'Source Code Pro', 'Courier', monospace\" font-weight=\"bold\" font-style=\"italic\" font-size=\"10.00\">run()</text>\n",
       "</a>\n",
       "</g>\n",
       "<g id=\"a_node2_5\"><a xlink:href=\"#\" xlink:title=\"reset(self):&#10;Reset the initial population, seed index, coverage information\">\n",
       "<text text-anchor=\"start\" x=\"67.5\" y=\"-126\" font-family=\"'Fira Mono', 'Source Code Pro', 'Courier', monospace\" font-style=\"italic\" font-size=\"10.00\">reset()</text>\n",
       "</a>\n",
       "</g>\n",
       "</a>\n",
       "</g>\n",
       "</a>\n",
       "</g>\n",
       "</g>\n",
       "<!-- CountingGreyboxFuzzer&#45;&gt;GreyboxFuzzer -->\n",
       "<g id=\"edge1\" class=\"edge\">\n",
       "<title>CountingGreyboxFuzzer&#45;&gt;GreyboxFuzzer</title>\n",
       "<path fill=\"none\" stroke=\"black\" d=\"M88.5,-59.01C88.5,-73.49 88.5,-91.83 88.5,-107.72\"/>\n",
       "<polygon fill=\"none\" stroke=\"black\" points=\"85,-107.74 88.5,-117.74 92,-107.74 85,-107.74\"/>\n",
       "</g>\n",
       "<!-- AdvancedMutationFuzzer -->\n",
       "<g id=\"node3\" class=\"node\">\n",
       "<title>AdvancedMutationFuzzer</title>\n",
       "<g id=\"a_node3\"><a xlink:href=\"#\" xlink:title=\"class AdvancedMutationFuzzer:&#10;Base class for mutation&#45;based fuzzing.\">\n",
       "<polygon fill=\"none\" stroke=\"black\" points=\"0,-224.5 0,-299.5 177,-299.5 177,-224.5 0,-224.5\"/>\n",
       "<text text-anchor=\"start\" x=\"8\" y=\"-285.3\" font-family=\"Patua One, Helvetica, sans-serif\" font-weight=\"bold\" font-size=\"14.00\" fill=\"#b03a2e\">AdvancedMutationFuzzer</text>\n",
       "<polyline fill=\"none\" stroke=\"black\" points=\"0,-276.5 177,-276.5 \"/>\n",
       "<g id=\"a_node3_6\"><a xlink:href=\"#\" xlink:title=\"AdvancedMutationFuzzer\">\n",
       "<g id=\"a_node3_7\"><a xlink:href=\"#\" xlink:title=\"__init__(self, seeds: List[str], mutator: Mutator, schedule: PowerSchedule) &#45;&gt; None:&#10;Constructor.&#10;`seeds` &#45; a list of (input) strings to mutate.&#10;`mutator` &#45; the mutator to apply.&#10;`schedule` &#45; the power schedule to apply.\">\n",
       "<text text-anchor=\"start\" x=\"34.5\" y=\"-265.5\" font-family=\"'Fira Mono', 'Source Code Pro', 'Courier', monospace\" font-weight=\"bold\" font-style=\"italic\" font-size=\"10.00\">__init__()</text>\n",
       "</a>\n",
       "</g>\n",
       "<g id=\"a_node3_8\"><a xlink:href=\"#\" xlink:title=\"fuzz(self) &#45;&gt; str:&#10;Returns first each seed once and then generates new inputs\">\n",
       "<text text-anchor=\"start\" x=\"34.5\" y=\"-254.5\" font-family=\"'Fira Mono', 'Source Code Pro', 'Courier', monospace\" font-weight=\"bold\" font-style=\"italic\" font-size=\"10.00\">fuzz()</text>\n",
       "</a>\n",
       "</g>\n",
       "<g id=\"a_node3_9\"><a xlink:href=\"#\" xlink:title=\"create_candidate(self) &#45;&gt; str:&#10;Returns an input generated by fuzzing a seed in the population\">\n",
       "<text text-anchor=\"start\" x=\"34.5\" y=\"-242.5\" font-family=\"'Fira Mono', 'Source Code Pro', 'Courier', monospace\" font-size=\"10.00\">create_candidate()</text>\n",
       "</a>\n",
       "</g>\n",
       "<g id=\"a_node3_10\"><a xlink:href=\"#\" xlink:title=\"reset(self) &#45;&gt; None:&#10;Reset the initial population and seed index\">\n",
       "<text text-anchor=\"start\" x=\"34.5\" y=\"-232.5\" font-family=\"'Fira Mono', 'Source Code Pro', 'Courier', monospace\" font-style=\"italic\" font-size=\"10.00\">reset()</text>\n",
       "</a>\n",
       "</g>\n",
       "</a>\n",
       "</g>\n",
       "</a>\n",
       "</g>\n",
       "</g>\n",
       "<!-- GreyboxFuzzer&#45;&gt;AdvancedMutationFuzzer -->\n",
       "<g id=\"edge2\" class=\"edge\">\n",
       "<title>GreyboxFuzzer&#45;&gt;AdvancedMutationFuzzer</title>\n",
       "<path fill=\"none\" stroke=\"black\" d=\"M88.5,-171.13C88.5,-183.88 88.5,-199.68 88.5,-214.46\"/>\n",
       "<polygon fill=\"none\" stroke=\"black\" points=\"85,-214.48 88.5,-224.48 92,-214.48 85,-214.48\"/>\n",
       "</g>\n",
       "<!-- Fuzzer -->\n",
       "<g id=\"node4\" class=\"node\">\n",
       "<title>Fuzzer</title>\n",
       "<g id=\"a_node4\"><a xlink:href=\"Fuzzer.ipynb\" xlink:title=\"class Fuzzer:&#10;Base class for fuzzers.\">\n",
       "<polygon fill=\"none\" stroke=\"black\" points=\"50,-336.5 50,-411.5 127,-411.5 127,-336.5 50,-336.5\"/>\n",
       "<text text-anchor=\"start\" x=\"67.5\" y=\"-397.3\" font-family=\"Patua One, Helvetica, sans-serif\" font-weight=\"bold\" font-size=\"14.00\" fill=\"#b03a2e\">Fuzzer</text>\n",
       "<polyline fill=\"none\" stroke=\"black\" points=\"50,-388.5 127,-388.5 \"/>\n",
       "<g id=\"a_node4_11\"><a xlink:href=\"#\" xlink:title=\"Fuzzer\">\n",
       "<g id=\"a_node4_12\"><a xlink:href=\"Fuzzer.ipynb\" xlink:title=\"__init__(self) &#45;&gt; None:&#10;Constructor\">\n",
       "<text text-anchor=\"start\" x=\"58.5\" y=\"-377.5\" font-family=\"'Fira Mono', 'Source Code Pro', 'Courier', monospace\" font-weight=\"bold\" font-style=\"italic\" font-size=\"10.00\">__init__()</text>\n",
       "</a>\n",
       "</g>\n",
       "<g id=\"a_node4_13\"><a xlink:href=\"Fuzzer.ipynb\" xlink:title=\"fuzz(self) &#45;&gt; str:&#10;Return fuzz input\">\n",
       "<text text-anchor=\"start\" x=\"58.5\" y=\"-366.5\" font-family=\"'Fira Mono', 'Source Code Pro', 'Courier', monospace\" font-weight=\"bold\" font-style=\"italic\" font-size=\"10.00\">fuzz()</text>\n",
       "</a>\n",
       "</g>\n",
       "<g id=\"a_node4_14\"><a xlink:href=\"Fuzzer.ipynb\" xlink:title=\"run(self, runner: Fuzzer.Runner = &lt;Fuzzer.Runner object at 0x11472dbd0&gt;) &#45;&gt; Tuple[subprocess.CompletedProcess, str]:&#10;Run `runner` with fuzz input\">\n",
       "<text text-anchor=\"start\" x=\"58.5\" y=\"-355.5\" font-family=\"'Fira Mono', 'Source Code Pro', 'Courier', monospace\" font-weight=\"bold\" font-style=\"italic\" font-size=\"10.00\">run()</text>\n",
       "</a>\n",
       "</g>\n",
       "<g id=\"a_node4_15\"><a xlink:href=\"Fuzzer.ipynb\" xlink:title=\"runs(self, runner: Fuzzer.Runner = &lt;Fuzzer.PrintRunner object at 0x11472dae0&gt;, trials: int = 10) &#45;&gt; List[Tuple[subprocess.CompletedProcess, str]]:&#10;Run `runner` with fuzz input, `trials` times\">\n",
       "<text text-anchor=\"start\" x=\"58.5\" y=\"-344.5\" font-family=\"'Fira Mono', 'Source Code Pro', 'Courier', monospace\" font-weight=\"bold\" font-size=\"10.00\">runs()</text>\n",
       "</a>\n",
       "</g>\n",
       "</a>\n",
       "</g>\n",
       "</a>\n",
       "</g>\n",
       "</g>\n",
       "<!-- AdvancedMutationFuzzer&#45;&gt;Fuzzer -->\n",
       "<g id=\"edge3\" class=\"edge\">\n",
       "<title>AdvancedMutationFuzzer&#45;&gt;Fuzzer</title>\n",
       "<path fill=\"none\" stroke=\"black\" d=\"M88.5,-299.63C88.5,-308.07 88.5,-317.17 88.5,-325.99\"/>\n",
       "<polygon fill=\"none\" stroke=\"black\" points=\"85,-326.16 88.5,-336.16 92,-326.16 85,-326.16\"/>\n",
       "</g>\n",
       "<!-- AFLFastSchedule -->\n",
       "<g id=\"node5\" class=\"node\">\n",
       "<title>AFLFastSchedule</title>\n",
       "<g id=\"a_node5\"><a xlink:href=\"#\" xlink:title=\"class AFLFastSchedule:&#10;Exponential power schedule as implemented in AFL\">\n",
       "<polygon fill=\"none\" stroke=\"black\" points=\"179.5,-118 179.5,-171 299.5,-171 299.5,-118 179.5,-118\"/>\n",
       "<text text-anchor=\"start\" x=\"187.5\" y=\"-156.8\" font-family=\"Patua One, Helvetica, sans-serif\" font-weight=\"bold\" font-size=\"14.00\" fill=\"#b03a2e\">AFLFastSchedule</text>\n",
       "<polyline fill=\"none\" stroke=\"black\" points=\"179.5,-148 299.5,-148 \"/>\n",
       "<g id=\"a_node5_16\"><a xlink:href=\"#\" xlink:title=\"AFLFastSchedule\">\n",
       "<g id=\"a_node5_17\"><a xlink:href=\"#\" xlink:title=\"__init__(self, exponent: float) &#45;&gt; None:&#10;Constructor\">\n",
       "<text text-anchor=\"start\" x=\"197.5\" y=\"-137\" font-family=\"'Fira Mono', 'Source Code Pro', 'Courier', monospace\" font-weight=\"bold\" font-style=\"italic\" font-size=\"10.00\">__init__()</text>\n",
       "</a>\n",
       "</g>\n",
       "<g id=\"a_node5_18\"><a xlink:href=\"#\" xlink:title=\"assignEnergy(self, population: collections.abc.Sequence[Seed]) &#45;&gt; None:&#10;Assign exponential energy inversely proportional to path frequency\">\n",
       "<text text-anchor=\"start\" x=\"197.5\" y=\"-126\" font-family=\"'Fira Mono', 'Source Code Pro', 'Courier', monospace\" font-style=\"italic\" font-size=\"10.00\">assignEnergy()</text>\n",
       "</a>\n",
       "</g>\n",
       "</a>\n",
       "</g>\n",
       "</a>\n",
       "</g>\n",
       "</g>\n",
       "<!-- PowerSchedule -->\n",
       "<g id=\"node6\" class=\"node\">\n",
       "<title>PowerSchedule</title>\n",
       "<g id=\"a_node6\"><a xlink:href=\"#\" xlink:title=\"class PowerSchedule:&#10;Define how fuzzing time should be distributed across the population.\">\n",
       "<polygon fill=\"none\" stroke=\"black\" points=\"256,-224.5 256,-299.5 381,-299.5 381,-224.5 256,-224.5\"/>\n",
       "<text text-anchor=\"start\" x=\"271.5\" y=\"-285.3\" font-family=\"Patua One, Helvetica, sans-serif\" font-weight=\"bold\" font-size=\"14.00\" fill=\"#b03a2e\">PowerSchedule</text>\n",
       "<polyline fill=\"none\" stroke=\"black\" points=\"256,-276.5 381,-276.5 \"/>\n",
       "<g id=\"a_node6_19\"><a xlink:href=\"#\" xlink:title=\"PowerSchedule\">\n",
       "<g id=\"a_node6_20\"><a xlink:href=\"#\" xlink:title=\"__init__(self) &#45;&gt; None:&#10;Constructor\">\n",
       "<text text-anchor=\"start\" x=\"264.5\" y=\"-265.5\" font-family=\"'Fira Mono', 'Source Code Pro', 'Courier', monospace\" font-weight=\"bold\" font-style=\"italic\" font-size=\"10.00\">__init__()</text>\n",
       "</a>\n",
       "</g>\n",
       "<g id=\"a_node6_21\"><a xlink:href=\"#\" xlink:title=\"assignEnergy(self, population: collections.abc.Sequence[Seed]) &#45;&gt; None:&#10;Assigns each seed the same energy\">\n",
       "<text text-anchor=\"start\" x=\"264.5\" y=\"-254.5\" font-family=\"'Fira Mono', 'Source Code Pro', 'Courier', monospace\" font-style=\"italic\" font-size=\"10.00\">assignEnergy()</text>\n",
       "</a>\n",
       "</g>\n",
       "<g id=\"a_node6_22\"><a xlink:href=\"#\" xlink:title=\"choose(self, population: collections.abc.Sequence[Seed]) &#45;&gt; Seed:&#10;Choose weighted by normalized energy.\">\n",
       "<text text-anchor=\"start\" x=\"264.5\" y=\"-242.5\" font-family=\"'Fira Mono', 'Source Code Pro', 'Courier', monospace\" font-size=\"10.00\">choose()</text>\n",
       "</a>\n",
       "</g>\n",
       "<g id=\"a_node6_23\"><a xlink:href=\"#\" xlink:title=\"normalizedEnergy(self, population: collections.abc.Sequence[Seed]) &#45;&gt; List[float]:&#10;Normalize energy\">\n",
       "<text text-anchor=\"start\" x=\"264.5\" y=\"-231.5\" font-family=\"'Fira Mono', 'Source Code Pro', 'Courier', monospace\" font-size=\"10.00\">normalizedEnergy()</text>\n",
       "</a>\n",
       "</g>\n",
       "</a>\n",
       "</g>\n",
       "</a>\n",
       "</g>\n",
       "</g>\n",
       "<!-- AFLFastSchedule&#45;&gt;PowerSchedule -->\n",
       "<g id=\"edge4\" class=\"edge\">\n",
       "<title>AFLFastSchedule&#45;&gt;PowerSchedule</title>\n",
       "<path fill=\"none\" stroke=\"black\" d=\"M257.03,-171.13C266.08,-184.37 277.39,-200.9 287.83,-216.16\"/>\n",
       "<polygon fill=\"none\" stroke=\"black\" points=\"284.99,-218.21 293.52,-224.48 290.77,-214.25 284.99,-218.21\"/>\n",
       "</g>\n",
       "<!-- AFLGoSchedule -->\n",
       "<g id=\"node7\" class=\"node\">\n",
       "<title>AFLGoSchedule</title>\n",
       "<g id=\"a_node7\"><a xlink:href=\"#\" xlink:title=\"class AFLGoSchedule:&#10;Assign high energy to seeds close to the target\">\n",
       "<polygon fill=\"none\" stroke=\"black\" points=\"325,-11.5 325,-53.5 436,-53.5 436,-11.5 325,-11.5\"/>\n",
       "<text text-anchor=\"start\" x=\"333\" y=\"-39.3\" font-family=\"Patua One, Helvetica, sans-serif\" font-weight=\"bold\" font-size=\"14.00\" fill=\"#b03a2e\">AFLGoSchedule</text>\n",
       "<polyline fill=\"none\" stroke=\"black\" points=\"325,-30.5 436,-30.5 \"/>\n",
       "<g id=\"a_node7_24\"><a xlink:href=\"#\" xlink:title=\"AFLGoSchedule\">\n",
       "<g id=\"a_node7_25\"><a xlink:href=\"#\" xlink:title=\"assignEnergy(self, population: collections.abc.Sequence[Seed]):&#10;Assigns each seed energy inversely proportional&#10;to the average function&#45;level distance to target.\">\n",
       "<text text-anchor=\"start\" x=\"338.5\" y=\"-19\" font-family=\"'Fira Mono', 'Source Code Pro', 'Courier', monospace\" font-style=\"italic\" font-size=\"10.00\">assignEnergy()</text>\n",
       "</a>\n",
       "</g>\n",
       "</a>\n",
       "</g>\n",
       "</a>\n",
       "</g>\n",
       "</g>\n",
       "<!-- DirectedSchedule -->\n",
       "<g id=\"node8\" class=\"node\">\n",
       "<title>DirectedSchedule</title>\n",
       "<g id=\"a_node8\"><a xlink:href=\"#\" xlink:title=\"class DirectedSchedule:&#10;Assign high energy to seeds close to some target\">\n",
       "<polygon fill=\"none\" stroke=\"black\" points=\"318,-112.5 318,-176.5 443,-176.5 443,-112.5 318,-112.5\"/>\n",
       "<text text-anchor=\"start\" x=\"327.5\" y=\"-162.3\" font-family=\"Patua One, Helvetica, sans-serif\" font-weight=\"bold\" font-size=\"14.00\" fill=\"#b03a2e\">DirectedSchedule</text>\n",
       "<polyline fill=\"none\" stroke=\"black\" points=\"318,-153.5 443,-153.5 \"/>\n",
       "<g id=\"a_node8_26\"><a xlink:href=\"#\" xlink:title=\"DirectedSchedule\">\n",
       "<g id=\"a_node8_27\"><a xlink:href=\"#\" xlink:title=\"__init__(self, distance: Dict[str, int], exponent: float) &#45;&gt; None:&#10;Constructor\">\n",
       "<text text-anchor=\"start\" x=\"326.5\" y=\"-142\" font-family=\"'Fira Mono', 'Source Code Pro', 'Courier', monospace\" font-weight=\"bold\" font-style=\"italic\" font-size=\"10.00\">__init__()</text>\n",
       "</a>\n",
       "</g>\n",
       "<g id=\"a_node8_28\"><a xlink:href=\"#\" xlink:title=\"__getFunctions__(self, coverage: Set[Location]) &#45;&gt; Set[str]\">\n",
       "<text text-anchor=\"start\" x=\"326.5\" y=\"-130\" font-family=\"'Fira Mono', 'Source Code Pro', 'Courier', monospace\" font-size=\"10.00\">__getFunctions__()</text>\n",
       "</a>\n",
       "</g>\n",
       "<g id=\"a_node8_29\"><a xlink:href=\"#\" xlink:title=\"assignEnergy(self, population: collections.abc.Sequence[Seed]) &#45;&gt; None:&#10;Assigns each seed energy inversely proportional&#10;to the average function&#45;level distance to target.\">\n",
       "<text text-anchor=\"start\" x=\"326.5\" y=\"-120\" font-family=\"'Fira Mono', 'Source Code Pro', 'Courier', monospace\" font-style=\"italic\" font-size=\"10.00\">assignEnergy()</text>\n",
       "</a>\n",
       "</g>\n",
       "</a>\n",
       "</g>\n",
       "</a>\n",
       "</g>\n",
       "</g>\n",
       "<!-- AFLGoSchedule&#45;&gt;DirectedSchedule -->\n",
       "<g id=\"edge5\" class=\"edge\">\n",
       "<title>AFLGoSchedule&#45;&gt;DirectedSchedule</title>\n",
       "<path fill=\"none\" stroke=\"black\" d=\"M380.5,-53.68C380.5,-67.24 380.5,-85.59 380.5,-102.18\"/>\n",
       "<polygon fill=\"none\" stroke=\"black\" points=\"377,-102.22 380.5,-112.22 384,-102.22 377,-102.22\"/>\n",
       "</g>\n",
       "<!-- DirectedSchedule&#45;&gt;PowerSchedule -->\n",
       "<g id=\"edge6\" class=\"edge\">\n",
       "<title>DirectedSchedule&#45;&gt;PowerSchedule</title>\n",
       "<path fill=\"none\" stroke=\"black\" d=\"M363.72,-176.76C357.31,-188.7 349.87,-202.57 342.89,-215.57\"/>\n",
       "<polygon fill=\"none\" stroke=\"black\" points=\"339.8,-213.93 338.15,-224.39 345.96,-217.24 339.8,-213.93\"/>\n",
       "</g>\n",
       "<!-- DictMutator -->\n",
       "<g id=\"node9\" class=\"node\">\n",
       "<title>DictMutator</title>\n",
       "<g id=\"a_node9\"><a xlink:href=\"#\" xlink:title=\"class DictMutator:&#10;Variant of `Mutator` inserting keywords from a dictionary\">\n",
       "<polygon fill=\"none\" stroke=\"black\" points=\"464,-6 464,-59 625,-59 625,-6 464,-6\"/>\n",
       "<text text-anchor=\"start\" x=\"506.5\" y=\"-44.8\" font-family=\"Patua One, Helvetica, sans-serif\" font-weight=\"bold\" font-size=\"14.00\" fill=\"#b03a2e\">DictMutator</text>\n",
       "<polyline fill=\"none\" stroke=\"black\" points=\"464,-36 625,-36 \"/>\n",
       "<g id=\"a_node9_30\"><a xlink:href=\"#\" xlink:title=\"DictMutator\">\n",
       "<g id=\"a_node9_31\"><a xlink:href=\"#\" xlink:title=\"__init__(self, dictionary: collections.abc.Sequence[str]) &#45;&gt; None:&#10;Constructor.&#10;`dictionary` &#45; a list of strings that can be used as keywords\">\n",
       "<text text-anchor=\"start\" x=\"472.5\" y=\"-25\" font-family=\"'Fira Mono', 'Source Code Pro', 'Courier', monospace\" font-weight=\"bold\" font-style=\"italic\" font-size=\"10.00\">__init__()</text>\n",
       "</a>\n",
       "</g>\n",
       "<g id=\"a_node9_32\"><a xlink:href=\"#\" xlink:title=\"insert_from_dictionary(self, s: str) &#45;&gt; str:&#10;Returns `s` with a keyword from the dictionary inserted\">\n",
       "<text text-anchor=\"start\" x=\"472.5\" y=\"-13\" font-family=\"'Fira Mono', 'Source Code Pro', 'Courier', monospace\" font-size=\"10.00\">insert_from_dictionary()</text>\n",
       "</a>\n",
       "</g>\n",
       "</a>\n",
       "</g>\n",
       "</a>\n",
       "</g>\n",
       "</g>\n",
       "<!-- Mutator -->\n",
       "<g id=\"node10\" class=\"node\">\n",
       "<title>Mutator</title>\n",
       "<g id=\"a_node10\"><a xlink:href=\"#\" xlink:title=\"class Mutator:&#10;Mutate strings\">\n",
       "<polygon fill=\"none\" stroke=\"black\" points=\"461,-101.5 461,-187.5 628,-187.5 628,-101.5 461,-101.5\"/>\n",
       "<text text-anchor=\"start\" x=\"518.5\" y=\"-173.3\" font-family=\"Patua One, Helvetica, sans-serif\" font-weight=\"bold\" font-size=\"14.00\" fill=\"#b03a2e\">Mutator</text>\n",
       "<polyline fill=\"none\" stroke=\"black\" points=\"461,-164.5 628,-164.5 \"/>\n",
       "<g id=\"a_node10_33\"><a xlink:href=\"#\" xlink:title=\"Mutator\">\n",
       "<g id=\"a_node10_34\"><a xlink:href=\"#\" xlink:title=\"__init__(self) &#45;&gt; None:&#10;Constructor\">\n",
       "<text text-anchor=\"start\" x=\"469.5\" y=\"-153\" font-family=\"'Fira Mono', 'Source Code Pro', 'Courier', monospace\" font-weight=\"bold\" font-style=\"italic\" font-size=\"10.00\">__init__()</text>\n",
       "</a>\n",
       "</g>\n",
       "<g id=\"a_node10_35\"><a xlink:href=\"#\" xlink:title=\"delete_random_character(self, s: str) &#45;&gt; str:&#10;Returns s with a random character deleted\">\n",
       "<text text-anchor=\"start\" x=\"469.5\" y=\"-141\" font-family=\"'Fira Mono', 'Source Code Pro', 'Courier', monospace\" font-size=\"10.00\">delete_random_character()</text>\n",
       "</a>\n",
       "</g>\n",
       "<g id=\"a_node10_36\"><a xlink:href=\"#\" xlink:title=\"flip_random_character(self, s: str) &#45;&gt; str:&#10;Returns s with a random bit flipped in a random position\">\n",
       "<text text-anchor=\"start\" x=\"469.5\" y=\"-130\" font-family=\"'Fira Mono', 'Source Code Pro', 'Courier', monospace\" font-size=\"10.00\">flip_random_character()</text>\n",
       "</a>\n",
       "</g>\n",
       "<g id=\"a_node10_37\"><a xlink:href=\"#\" xlink:title=\"insert_random_character(self, s: str) &#45;&gt; str:&#10;Returns s with a random character inserted\">\n",
       "<text text-anchor=\"start\" x=\"469.5\" y=\"-119\" font-family=\"'Fira Mono', 'Source Code Pro', 'Courier', monospace\" font-size=\"10.00\">insert_random_character()</text>\n",
       "</a>\n",
       "</g>\n",
       "<g id=\"a_node10_38\"><a xlink:href=\"#\" xlink:title=\"mutate(self, inp: Any) &#45;&gt; Any:&#10;Return s with a random mutation applied. Can be overloaded in subclasses.\">\n",
       "<text text-anchor=\"start\" x=\"469.5\" y=\"-109\" font-family=\"'Fira Mono', 'Source Code Pro', 'Courier', monospace\" font-style=\"italic\" font-size=\"10.00\">mutate()</text>\n",
       "</a>\n",
       "</g>\n",
       "</a>\n",
       "</g>\n",
       "</a>\n",
       "</g>\n",
       "</g>\n",
       "<!-- DictMutator&#45;&gt;Mutator -->\n",
       "<g id=\"edge7\" class=\"edge\">\n",
       "<title>DictMutator&#45;&gt;Mutator</title>\n",
       "<path fill=\"none\" stroke=\"black\" d=\"M544.5,-59.01C544.5,-68.63 544.5,-79.96 544.5,-91.15\"/>\n",
       "<polygon fill=\"none\" stroke=\"black\" points=\"541,-91.32 544.5,-101.33 548,-91.33 541,-91.32\"/>\n",
       "</g>\n",
       "<!-- Seed -->\n",
       "<g id=\"node11\" class=\"node\">\n",
       "<title>Seed</title>\n",
       "<g id=\"a_node11\"><a xlink:href=\"#\" xlink:title=\"class Seed:&#10;Represent an input with additional attributes\">\n",
       "<polygon fill=\"none\" stroke=\"black\" points=\"643,-0.5 643,-64.5 720,-64.5 720,-0.5 643,-0.5\"/>\n",
       "<text text-anchor=\"start\" x=\"667\" y=\"-50.3\" font-family=\"Patua One, Helvetica, sans-serif\" font-weight=\"bold\" font-size=\"14.00\" fill=\"#b03a2e\">Seed</text>\n",
       "<polyline fill=\"none\" stroke=\"black\" points=\"643,-41.5 720,-41.5 \"/>\n",
       "<g id=\"a_node11_39\"><a xlink:href=\"#\" xlink:title=\"Seed\">\n",
       "<g id=\"a_node11_40\"><a xlink:href=\"#\" xlink:title=\"__init__(self, data: str) &#45;&gt; None:&#10;Initialize from seed data\">\n",
       "<text text-anchor=\"start\" x=\"651.5\" y=\"-30\" font-family=\"'Fira Mono', 'Source Code Pro', 'Courier', monospace\" font-weight=\"bold\" font-size=\"10.00\">__init__()</text>\n",
       "</a>\n",
       "</g>\n",
       "<g id=\"a_node11_41\"><a xlink:href=\"#\" xlink:title=\"__repr__(self) &#45;&gt; str:&#10;Returns data as string representation of the seed\">\n",
       "<text text-anchor=\"start\" x=\"651.5\" y=\"-18\" font-family=\"'Fira Mono', 'Source Code Pro', 'Courier', monospace\" font-size=\"10.00\">__repr__()</text>\n",
       "</a>\n",
       "</g>\n",
       "<g id=\"a_node11_42\"><a xlink:href=\"#\" xlink:title=\"__str__(self) &#45;&gt; str:&#10;Returns data as string representation of the seed\">\n",
       "<text text-anchor=\"start\" x=\"651.5\" y=\"-7\" font-family=\"'Fira Mono', 'Source Code Pro', 'Courier', monospace\" font-size=\"10.00\">__str__()</text>\n",
       "</a>\n",
       "</g>\n",
       "</a>\n",
       "</g>\n",
       "</a>\n",
       "</g>\n",
       "</g>\n",
       "<!-- Legend -->\n",
       "<g id=\"node12\" class=\"node\">\n",
       "<title>Legend</title>\n",
       "<text text-anchor=\"start\" x=\"738.5\" y=\"-50\" font-family=\"Patua One, Helvetica, sans-serif\" font-weight=\"bold\" font-size=\"10.00\" fill=\"#b03a2e\">Legend</text>\n",
       "<text text-anchor=\"start\" x=\"738.5\" y=\"-40\" font-family=\"Patua One, Helvetica, sans-serif\" font-size=\"10.00\">• </text>\n",
       "<text text-anchor=\"start\" x=\"745.5\" y=\"-40\" font-family=\"'Fira Mono', 'Source Code Pro', 'Courier', monospace\" font-weight=\"bold\" font-size=\"8.00\">public_method()</text>\n",
       "<text text-anchor=\"start\" x=\"738.5\" y=\"-30\" font-family=\"Patua One, Helvetica, sans-serif\" font-size=\"10.00\">• </text>\n",
       "<text text-anchor=\"start\" x=\"745.5\" y=\"-30\" font-family=\"'Fira Mono', 'Source Code Pro', 'Courier', monospace\" font-size=\"8.00\">private_method()</text>\n",
       "<text text-anchor=\"start\" x=\"738.5\" y=\"-20\" font-family=\"Patua One, Helvetica, sans-serif\" font-size=\"10.00\">• </text>\n",
       "<text text-anchor=\"start\" x=\"745.5\" y=\"-20\" font-family=\"'Fira Mono', 'Source Code Pro', 'Courier', monospace\" font-style=\"italic\" font-size=\"8.00\">overloaded_method()</text>\n",
       "<text text-anchor=\"start\" x=\"738.5\" y=\"-10.8\" font-family=\"Helvetica,sans-Serif\" font-size=\"9.00\">Hover over names to see doc</text>\n",
       "</g>\n",
       "</g>\n",
       "</svg>\n"
      ],
      "text/plain": [
       "<graphviz.graphs.Digraph at 0x174780040>"
      ]
     },
     "execution_count": 93,
     "metadata": {},
     "output_type": "execute_result"
    }
   ],
   "source": [
    "# ignore\n",
    "display_class_hierarchy([CountingGreyboxFuzzer, AFLFastSchedule, AFLGoSchedule,\n",
    "                         DictMutator, Seed],\n",
    "                        public_methods=[\n",
    "                            Fuzzer.run,\n",
    "                            Fuzzer.__init__,\n",
    "                            Fuzzer.runs,\n",
    "                            Fuzzer.fuzz,\n",
    "                            AdvancedMutationFuzzer.__init__,\n",
    "                            AdvancedMutationFuzzer.fuzz,\n",
    "                            GreyboxFuzzer.run,\n",
    "                            CountingGreyboxFuzzer.run,\n",
    "                            PowerSchedule.__init__,\n",
    "                            DirectedSchedule.__init__,\n",
    "                            AFLGoSchedule.__init__,\n",
    "                            AFLFastSchedule.__init__,\n",
    "                            Seed.__init__,\n",
    "                            Mutator.__init__,\n",
    "                            DictMutator.__init__,\n",
    "                        ],\n",
    "                        types={'Location': Location},\n",
    "                        project='fuzzingbook')"
   ]
  },
  {
   "cell_type": "markdown",
   "metadata": {
    "button": false,
    "jp-MarkdownHeadingCollapsed": true,
    "new_sheet": true,
    "run_control": {
     "read_only": false
    },
    "slideshow": {
     "slide_type": "slide"
    },
    "tags": []
   },
   "source": [
    "## Lessons Learned\n",
    "\n",
    "* A *greybox fuzzer* generates thousands of inputs per second. Pre-processing and lightweight instrumentation \n",
    "  * allows to maintain the efficiency *during* the fuzzing campaign, and \n",
    "  * still provides enough information to control progress and slightly steer the fuzzer.\n",
    "* The *power schedule* allows to steer/control the fuzzer. For instance,\n",
    "  * Our [boosted greybox fuzzer](#Fuzzer-Boosting) spends more energy on seeds that exercise \"unlikely\" paths. The hope is that the generated inputs exercise even more unlikely paths. This in turn increases the number of paths explored per unit time.\n",
    "  * Our [directed greybox fuzzer](#Directed-Greybox-Fuzzing) spends more energy on seeds that are \"closer\" to a target location. The hope is that the generated inputs get even closer to the target.\n",
    "* The *mutator* defines the fuzzer's search space. [Customizing the mutator](GreyboxFuzzer.ipynb#A-First-Attempt) for the given program allows to reduce the search space to only relevant inputs. In a couple of chapters, we'll learn about [dictionary-based, and grammar-based mutators](GreyboxGrammarFuzzer.ipynb) to increase the ratio of valid inputs generated.\n"
   ]
  },
  {
   "cell_type": "markdown",
   "metadata": {
    "jp-MarkdownHeadingCollapsed": true,
    "slideshow": {
     "slide_type": "slide"
    },
    "tags": []
   },
   "source": [
    "## Background\n",
    "\n",
    "* **Find out more about AFL**: http://lcamtuf.coredump.cx/afl/\n",
    "* **Learn about LibFuzzer** (another famous greybox fuzzer): http://llvm.org/docs/LibFuzzer.html\n",
    "* **How quickly must a whitebox fuzzer exercise each path to remain more efficient than a greybox fuzzer?** Marcel Böhme and Soumya Paul. 2016. [A Probabilistic Analysis of the Efficiency of Automated Software Testing](https://mboehme.github.io/paper/TSE15.pdf), IEEE TSE, 42:345-360 \\cite{boehme2016efficiency}"
   ]
  },
  {
   "cell_type": "markdown",
   "metadata": {
    "button": false,
    "new_sheet": false,
    "run_control": {
     "read_only": false
    },
    "slideshow": {
     "slide_type": "slide"
    }
   },
   "source": [
    "## Next Steps\n",
    "\n",
    "Our aim is still to sufficiently cover functionality, such that we can trigger as many bugs as possible.  To this end, we focus on two classes of techniques:\n",
    "\n",
    "1. Try to cover as much _specified_ functionality as possible.  Here, we would need a _specification of the input format,_ distinguishing between individual input elements such as (in our case) numbers, operators, comments, and strings – and attempting to cover as many of these as possible.  We will explore this as it comes to [grammar-based testing](GrammarFuzzer.ipynb), and especially in [grammar-based mutations](GreyboxGrammarFuzzer.ipynb).\n",
    "\n",
    "2. Try to cover as much _implemented_ functionality as possible.  The concept of a \"population\" that is systematically \"evolved\" through \"mutations\" will be explored in depth when discussing [search-based testing](SearchBasedFuzzer.ipynb).  Furthermore, [symbolic testing](SymbolicFuzzer.ipynb) introduces how to systematically reach program locations by solving the conditions that lie on their paths.\n",
    "\n",
    "These two techniques make up the gist of the book; and, of course, they can also be combined with each other.  As usual, we provide runnable code for all.  Enjoy!"
   ]
  },
  {
   "cell_type": "markdown",
   "metadata": {
    "slideshow": {
     "slide_type": "subslide"
    }
   },
   "source": [
    "We're done, so we clean up:"
   ]
  },
  {
   "cell_type": "code",
   "execution_count": 94,
   "metadata": {
    "execution": {
     "iopub.execute_input": "2022-08-06T22:48:36.151953Z",
     "iopub.status.busy": "2022-08-06T22:48:36.151357Z",
     "iopub.status.idle": "2022-08-06T22:48:36.152958Z",
     "shell.execute_reply": "2022-08-06T22:48:36.153481Z"
    },
    "slideshow": {
     "slide_type": "skip"
    }
   },
   "outputs": [],
   "source": [
    "import os"
   ]
  },
  {
   "cell_type": "code",
   "execution_count": 95,
   "metadata": {
    "execution": {
     "iopub.execute_input": "2022-08-06T22:48:36.156125Z",
     "iopub.status.busy": "2022-08-06T22:48:36.155788Z",
     "iopub.status.idle": "2022-08-06T22:48:36.157135Z",
     "shell.execute_reply": "2022-08-06T22:48:36.157309Z"
    },
    "slideshow": {
     "slide_type": "fragment"
    }
   },
   "outputs": [],
   "source": [
    "if os.path.exists('callgraph.dot'):\n",
    "    os.remove('callgraph.dot')\n",
    "\n",
    "if os.path.exists('callgraph.py'):\n",
    "    os.remove('callgraph.py')"
   ]
  },
  {
   "cell_type": "markdown",
   "metadata": {
    "slideshow": {
     "slide_type": "slide"
    }
   },
   "source": [
    "## Compatibility"
   ]
  },
  {
   "cell_type": "markdown",
   "metadata": {
    "slideshow": {
     "slide_type": "fragment"
    }
   },
   "source": [
    "In previous version of the chapter, the `AdvancedMutationFuzzer` class was named simply `MutationFuzzer`, causing name confusion with the `MutationFuzzer` class in the [introduction to mutation-based fuzzing](MutationFuzzer.ipynb). The following declaration introduces a backward-compatible alias."
   ]
  },
  {
   "cell_type": "code",
   "execution_count": 96,
   "metadata": {
    "execution": {
     "iopub.execute_input": "2022-08-06T22:48:36.159519Z",
     "iopub.status.busy": "2022-08-06T22:48:36.159181Z",
     "iopub.status.idle": "2022-08-06T22:48:36.160560Z",
     "shell.execute_reply": "2022-08-06T22:48:36.160971Z"
    },
    "slideshow": {
     "slide_type": "fragment"
    }
   },
   "outputs": [],
   "source": [
    "class MutationFuzzer(AdvancedMutationFuzzer):\n",
    "    pass"
   ]
  },
  {
   "cell_type": "markdown",
   "metadata": {
    "button": false,
    "new_sheet": true,
    "run_control": {
     "read_only": false
    },
    "slideshow": {
     "slide_type": "slide"
    }
   },
   "source": [
    "## Exercises\n",
    "\n",
    "To be added. \\todo{}"
   ]
  }
 ],
 "metadata": {
  "ipub": {
   "bibliography": "fuzzingbook.bib",
   "toc": true
  },
  "kernelspec": {
   "display_name": "Python 3 (ipykernel)",
   "language": "python",
   "name": "python3"
  },
  "language_info": {
   "codemirror_mode": {
    "name": "ipython",
    "version": 3
   },
   "file_extension": ".py",
   "mimetype": "text/x-python",
   "name": "python",
   "nbconvert_exporter": "python",
   "pygments_lexer": "ipython3",
   "version": "3.10.2"
  },
  "toc": {
   "base_numbering": 1,
   "nav_menu": {},
   "number_sections": true,
   "sideBar": true,
   "skip_h1_title": true,
   "title_cell": "",
   "title_sidebar": "Contents",
   "toc_cell": false,
   "toc_position": {},
   "toc_section_display": true,
   "toc_window_display": true
  },
  "toc-autonumbering": false,
  "varInspector": {
   "cols": {
    "lenName": 16,
    "lenType": 16,
    "lenVar": 40
   },
   "kernels_config": {
    "python": {
     "delete_cmd_postfix": "",
     "delete_cmd_prefix": "del ",
     "library": "var_list.py",
     "varRefreshCmd": "print(var_dic_list())"
    },
    "r": {
     "delete_cmd_postfix": ") ",
     "delete_cmd_prefix": "rm(",
     "library": "var_list.r",
     "varRefreshCmd": "cat(var_dic_list()) "
    }
   },
   "types_to_exclude": [
    "module",
    "function",
    "builtin_function_or_method",
    "instance",
    "_Feature"
   ],
   "window_display": false
  }
 },
 "nbformat": 4,
 "nbformat_minor": 4
}