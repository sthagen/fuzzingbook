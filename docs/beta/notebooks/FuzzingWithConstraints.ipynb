{
 "cells": [
  {
   "cell_type": "markdown",
   "id": "76619533",
   "metadata": {
    "button": false,
    "new_sheet": false,
    "run_control": {
     "read_only": false
    },
    "slideshow": {
     "slide_type": "slide"
    }
   },
   "source": [
    "# Fuzzing with Constraints\n",
    "\n",
    "In previous chapters, we have seen how [Grammar-Based Fuzzing](GrammarFuzzer.ipynb) allows us to efficiently generate myriads of syntactically valid inputs.\n",
    "However, there are _semantic_ input features that cannot be expressed in a context-free grammar, such as\n",
    "\n",
    "* \"$X$ is the length of $Y$\";\n",
    "* \"$X$ is an identifier previously declared\"; or\n",
    "* \"$X$ should be longer than 4,096 bytes\".\n",
    "\n",
    "In this chapter, we show how the *ISLa* framework allows us to express such features as _constraints_ added to a grammar.\n",
    "By having ISLa solve these constraints automatically, we produce inputs that are not only _syntactically_ valid, but actually _semantically_ valid.\n",
    "Furthermore, such constraints allow us to very precisely _shape_ the inputs we want for testing."
   ]
  },
  {
   "cell_type": "code",
   "execution_count": 1,
   "id": "371d240d",
   "metadata": {
    "execution": {
     "iopub.execute_input": "2022-08-09T09:11:49.116019Z",
     "iopub.status.busy": "2022-08-09T09:11:49.115381Z",
     "iopub.status.idle": "2022-08-09T09:11:49.171125Z",
     "shell.execute_reply": "2022-08-09T09:11:49.171372Z"
    },
    "slideshow": {
     "slide_type": "skip"
    }
   },
   "outputs": [
    {
     "data": {
      "text/html": [
       "\n",
       "        <iframe\n",
       "            width=\"640\"\n",
       "            height=\"360\"\n",
       "            src=\"https://www.youtube-nocookie.com/embed/FADrEcA0wos\"\n",
       "            frameborder=\"0\"\n",
       "            allowfullscreen\n",
       "        ></iframe>\n",
       "        "
      ],
      "text/plain": [
       "<IPython.lib.display.IFrame at 0x1099371c0>"
      ]
     },
     "execution_count": 1,
     "metadata": {},
     "output_type": "execute_result"
    }
   ],
   "source": [
    "from bookutils import YouTubeVideo\n",
    "YouTubeVideo(\"FADrEcA0wos\")"
   ]
  },
  {
   "cell_type": "markdown",
   "id": "88ec37bf",
   "metadata": {
    "button": false,
    "new_sheet": false,
    "run_control": {
     "read_only": false
    },
    "slideshow": {
     "slide_type": "subslide"
    }
   },
   "source": [
    "**Prerequisites**\n",
    "\n",
    "* You should have read the [chapter on grammars](Grammars.ipynb).\n",
    "* The chapter on [generators and filters](GeneratorGrammarFuzzer.ipynb) addresses a similar problem, but with program code instead of constraints."
   ]
  },
  {
   "cell_type": "code",
   "execution_count": 2,
   "id": "b383c5ed",
   "metadata": {
    "button": false,
    "execution": {
     "iopub.execute_input": "2022-08-09T09:11:49.173421Z",
     "iopub.status.busy": "2022-08-09T09:11:49.173102Z",
     "iopub.status.idle": "2022-08-09T09:11:49.174658Z",
     "shell.execute_reply": "2022-08-09T09:11:49.174862Z"
    },
    "new_sheet": false,
    "run_control": {
     "read_only": false
    },
    "slideshow": {
     "slide_type": "skip"
    }
   },
   "outputs": [],
   "source": [
    "import bookutils"
   ]
  },
  {
   "cell_type": "code",
   "execution_count": 3,
   "id": "286a4c94",
   "metadata": {
    "execution": {
     "iopub.execute_input": "2022-08-09T09:11:49.176576Z",
     "iopub.status.busy": "2022-08-09T09:11:49.176277Z",
     "iopub.status.idle": "2022-08-09T09:11:49.177493Z",
     "shell.execute_reply": "2022-08-09T09:11:49.177703Z"
    },
    "slideshow": {
     "slide_type": "fragment"
    }
   },
   "outputs": [],
   "source": [
    "# ignore\n",
    "import sys"
   ]
  },
  {
   "cell_type": "code",
   "execution_count": 4,
   "id": "a9e1f132",
   "metadata": {
    "execution": {
     "iopub.execute_input": "2022-08-09T09:11:49.179498Z",
     "iopub.status.busy": "2022-08-09T09:11:49.179198Z",
     "iopub.status.idle": "2022-08-09T09:11:49.180528Z",
     "shell.execute_reply": "2022-08-09T09:11:49.180709Z"
    },
    "slideshow": {
     "slide_type": "fragment"
    }
   },
   "outputs": [],
   "source": [
    "# ignore\n",
    "if sys.version_info < (3, 10):\n",
    "    print(\"This code requires Python 3.10 or later\")\n",
    "    sys.exit(0)"
   ]
  },
  {
   "cell_type": "markdown",
   "id": "74cd055b",
   "metadata": {
    "slideshow": {
     "slide_type": "skip"
    }
   },
   "source": [
    "## Synopsis\n",
    "<!-- Automatically generated. Do not edit. -->\n",
    "\n",
    "To [use the code provided in this chapter](Importing.ipynb), write\n",
    "\n",
    "```python\n",
    ">>> from fuzzingbook.FuzzingWithConstraints import <identifier>\n",
    "```\n",
    "\n",
    "and then make use of the following features.\n",
    "\n",
    "\n",
    "This chapter introduces the _ISLa framework_, consisting of \n",
    "* the _ISLa specification language_, allowing to add _constraints_ to a grammar\n",
    "* the _ISLa solver_, solving these constraints to produce semantically (and syntactically) valid inputs\n",
    "* the _ISLa checker_, checking given inputs for whether they satisfy these constraints.\n",
    "\n",
    "A typical usage of the ISLa solver is as follows.\n",
    "First, install ISLa, using \n",
    "```shell\n",
    "$ pip install isla-solver\n",
    "```\n",
    "Then, you can import the solver as\n",
    "\n",
    "```python\n",
    ">>> from isla.solver import ISLaSolver  # type: ignore\n",
    "```\n",
    "The ISLa solver needs two things. First, a _grammar_ - say, US phone numbers.\n",
    "\n",
    "```python\n",
    ">>> from Grammars import US_PHONE_GRAMMAR\n",
    "```\n",
    "Second, you need _constraints_ – a string expressing a condition over one or more grammar elements.\n",
    "Common functions include\n",
    "* `str.len()`, returning the length of a string\n",
    "* `str.to.int()`, converting a string to an integer\n",
    "\n",
    "Here, we instantiate the ISLa solver with a constraint stating that the area code should be above 900:\n",
    "\n",
    "```python\n",
    ">>> solver = ISLaSolver(US_PHONE_GRAMMAR, \n",
    ">>>             \"\"\"\n",
    ">>>             str.to.int(<area>) > 900\n",
    ">>>             \"\"\")\n",
    "```\n",
    "With that, invoking `solver.solve()` produces an iterator over multiple solutions.\n",
    "\n",
    "```python\n",
    ">>> for _ in range(10):\n",
    ">>>     print(next(solver.solve()))\n",
    "(984)451-2706\n",
    "(903)831-0847\n",
    "(902)468-5290\n",
    "(904)348-3721\n",
    "(908)771-6402\n",
    "(980)281-2704\n",
    "(909)528-9146\n",
    "(912)643-6982\n",
    "(910)638-7014\n",
    "(901)896-7204\n",
    "\n",
    "```\n",
    "We see that the solver produces a number of inputs that all satisfy the constraint - the area code is always more than 900.\n",
    "\n",
    "The `solve()` method provides several additional parameters to configure the solver, as documented below\n",
    "Additional `ISLaSolver` methods allow to check inputs against constraints, and provide additional functionality.\n",
    "\n",
    "```python\n",
    ">>> from ClassDiagram import display_class_hierarchy\n",
    ">>> hierarchy = display_class_hierarchy([ISLaSolver],\n",
    ">>>                        public_methods=[\n",
    ">>>                             ISLaSolver.__init__,\n",
    ">>>                             ISLaSolver.solve,\n",
    ">>>                             ISLaSolver.evaluate,\n",
    ">>>                         ])\n",
    ">>> hierarchy\n",
    "```\n",
    "![](PICS/FuzzingWithConstraints-synopsis-1.svg)\n",
    "\n"
   ]
  },
  {
   "cell_type": "markdown",
   "id": "93f11201",
   "metadata": {
    "slideshow": {
     "slide_type": "slide"
    }
   },
   "source": [
    "## Semantic Input Properties"
   ]
  },
  {
   "cell_type": "markdown",
   "id": "0ca854cf",
   "metadata": {
    "slideshow": {
     "slide_type": "fragment"
    }
   },
   "source": [
    "In this book, we have frequently used [grammars](Grammars.ipynb) to [systematically generate inputs](GrammarFuzzer.ipynb) that [cover input structure](GrammarCoverageFuzzer.ipynb) and more.\n",
    "But while it is relatively easy to express the _syntax_ of an input using a grammar, there are input properties that _cannot_ be expressed using a grammar.\n",
    "Such input properties are called _semantic_ properties."
   ]
  },
  {
   "cell_type": "markdown",
   "id": "c2b7c2bd",
   "metadata": {
    "slideshow": {
     "slide_type": "subslide"
    }
   },
   "source": [
    "Let us illustrate semantic properties using a simple example.\n",
    "We want to test some system that is configured by two settings, a _page size_ and a _buffer size_. \n",
    "Both these come as integer numbers as part of a human-readable configuration file.\n",
    "The _syntax_ of this file is given by the following grammar:"
   ]
  },
  {
   "cell_type": "code",
   "execution_count": 5,
   "id": "3e8cb79d",
   "metadata": {
    "execution": {
     "iopub.execute_input": "2022-08-09T09:11:49.182556Z",
     "iopub.status.busy": "2022-08-09T09:11:49.182270Z",
     "iopub.status.idle": "2022-08-09T09:11:49.758852Z",
     "shell.execute_reply": "2022-08-09T09:11:49.759041Z"
    },
    "slideshow": {
     "slide_type": "skip"
    }
   },
   "outputs": [],
   "source": [
    "from Grammars import Grammar, is_valid_grammar, syntax_diagram, crange"
   ]
  },
  {
   "cell_type": "code",
   "execution_count": 6,
   "id": "e207e7fc",
   "metadata": {
    "execution": {
     "iopub.execute_input": "2022-08-09T09:11:49.760875Z",
     "iopub.status.busy": "2022-08-09T09:11:49.760573Z",
     "iopub.status.idle": "2022-08-09T09:11:49.761791Z",
     "shell.execute_reply": "2022-08-09T09:11:49.762026Z"
    },
    "slideshow": {
     "slide_type": "skip"
    }
   },
   "outputs": [],
   "source": [
    "import string"
   ]
  },
  {
   "cell_type": "code",
   "execution_count": 7,
   "id": "398f0dce",
   "metadata": {
    "execution": {
     "iopub.execute_input": "2022-08-09T09:11:49.763978Z",
     "iopub.status.busy": "2022-08-09T09:11:49.763692Z",
     "iopub.status.idle": "2022-08-09T09:11:49.764965Z",
     "shell.execute_reply": "2022-08-09T09:11:49.765213Z"
    },
    "slideshow": {
     "slide_type": "subslide"
    }
   },
   "outputs": [],
   "source": [
    "CONFIG_GRAMMAR: Grammar = {\n",
    "    \"<start>\": [\"<config>\"],\n",
    "    \"<config>\": [\n",
    "        \"pagesize=<pagesize>\\n\"\n",
    "        \"bufsize=<bufsize>\"\n",
    "    ],\n",
    "    \"<pagesize>\": [\"<int>\"],\n",
    "    \"<bufsize>\": [\"<int>\"],\n",
    "    \"<int>\": [\"<leaddigit><digits>\"],\n",
    "    \"<digits>\": [\"\", \"<digit><digits>\"],\n",
    "    \"<digit>\": list(\"0123456789\"),\n",
    "    \"<leaddigit>\": list(\"123456789\")\n",
    "}"
   ]
  },
  {
   "cell_type": "code",
   "execution_count": 8,
   "id": "82f60456",
   "metadata": {
    "execution": {
     "iopub.execute_input": "2022-08-09T09:11:49.766887Z",
     "iopub.status.busy": "2022-08-09T09:11:49.766563Z",
     "iopub.status.idle": "2022-08-09T09:11:49.767801Z",
     "shell.execute_reply": "2022-08-09T09:11:49.767991Z"
    },
    "slideshow": {
     "slide_type": "fragment"
    },
    "tags": []
   },
   "outputs": [],
   "source": [
    "assert is_valid_grammar(CONFIG_GRAMMAR)"
   ]
  },
  {
   "cell_type": "markdown",
   "id": "3201949c",
   "metadata": {
    "slideshow": {
     "slide_type": "subslide"
    }
   },
   "source": [
    "Here's a visualization of this grammar as a railroad diagram, showing its structure:"
   ]
  },
  {
   "cell_type": "code",
   "execution_count": 9,
   "id": "5c66275f",
   "metadata": {
    "execution": {
     "iopub.execute_input": "2022-08-09T09:11:49.770277Z",
     "iopub.status.busy": "2022-08-09T09:11:49.769990Z",
     "iopub.status.idle": "2022-08-09T09:11:49.782485Z",
     "shell.execute_reply": "2022-08-09T09:11:49.782745Z"
    },
    "slideshow": {
     "slide_type": "subslide"
    }
   },
   "outputs": [
    {
     "name": "stdout",
     "output_type": "stream",
     "text": [
      "start\n"
     ]
    },
    {
     "data": {
      "image/svg+xml": [
       "<svg xmlns=\"http://www.w3.org/2000/svg\" class=\"railroad-diagram\" height=\"62\" viewBox=\"0 0 191.0 62\" width=\"191.0\">\n",
       "<g transform=\"translate(.5 .5)\">\n",
       "<style>/* <![CDATA[ */\n",
       "    svg.railroad-diagram {\n",
       "    }\n",
       "    svg.railroad-diagram path {\n",
       "        stroke-width:3;\n",
       "        stroke:black;\n",
       "        fill:white;\n",
       "    }\n",
       "    svg.railroad-diagram text {\n",
       "        font:14px \"Fira Mono\", monospace;\n",
       "        text-anchor:middle;\n",
       "    }\n",
       "    svg.railroad-diagram text.label{\n",
       "        text-anchor:start;\n",
       "    }\n",
       "    svg.railroad-diagram text.comment{\n",
       "        font:italic 12px \"Fira Mono\", monospace;\n",
       "    }\n",
       "    svg.railroad-diagram rect{\n",
       "        stroke-width:2;\n",
       "        stroke:black;\n",
       "        fill:mistyrose;\n",
       "    }\n",
       "\n",
       "/* ]]> */\n",
       "</style><g>\n",
       "<path d=\"M20 21v20m10 -20v20m-10 -10h20\"/></g><g>\n",
       "<path d=\"M40 31h0.0\"/><path d=\"M151.0 31h0.0\"/><path d=\"M40.0 31h20\"/><g>\n",
       "<path d=\"M60.0 31h0.0\"/><path d=\"M131.0 31h0.0\"/><g class=\"non-terminal\">\n",
       "<path d=\"M60.0 31h0.0\"/><path d=\"M131.0 31h0.0\"/><rect height=\"22\" width=\"71.0\" x=\"60.0\" y=\"20\"/><text x=\"95.5\" y=\"35\">config</text></g></g><path d=\"M131.0 31h20\"/></g><path d=\"M 151.0 31 h 20 m -10 -10 v 20 m 10 -20 v 20\"/></g></svg>"
      ],
      "text/plain": [
       "<IPython.core.display.SVG object>"
      ]
     },
     "metadata": {},
     "output_type": "display_data"
    },
    {
     "name": "stdout",
     "output_type": "stream",
     "text": [
      "config\n"
     ]
    },
    {
     "data": {
      "image/svg+xml": [
       "<svg xmlns=\"http://www.w3.org/2000/svg\" class=\"railroad-diagram\" height=\"62\" viewBox=\"0 0 540.5 62\" width=\"540.5\">\n",
       "<g transform=\"translate(.5 .5)\">\n",
       "<style>/* <![CDATA[ */\n",
       "    svg.railroad-diagram {\n",
       "    }\n",
       "    svg.railroad-diagram path {\n",
       "        stroke-width:3;\n",
       "        stroke:black;\n",
       "        fill:white;\n",
       "    }\n",
       "    svg.railroad-diagram text {\n",
       "        font:14px \"Fira Mono\", monospace;\n",
       "        text-anchor:middle;\n",
       "    }\n",
       "    svg.railroad-diagram text.label{\n",
       "        text-anchor:start;\n",
       "    }\n",
       "    svg.railroad-diagram text.comment{\n",
       "        font:italic 12px \"Fira Mono\", monospace;\n",
       "    }\n",
       "    svg.railroad-diagram rect{\n",
       "        stroke-width:2;\n",
       "        stroke:black;\n",
       "        fill:mistyrose;\n",
       "    }\n",
       "\n",
       "/* ]]> */\n",
       "</style><g>\n",
       "<path d=\"M20 21v20m10 -20v20m-10 -10h20\"/></g><g>\n",
       "<path d=\"M40 31h0.0\"/><path d=\"M500.5 31h0.0\"/><path d=\"M40.0 31h20\"/><g>\n",
       "<path d=\"M60.0 31h0.0\"/><path d=\"M480.5 31h0.0\"/><g class=\"terminal\">\n",
       "<path d=\"M60.0 31h0.0\"/><path d=\"M156.5 31h0.0\"/><rect height=\"22\" rx=\"10\" ry=\"10\" width=\"96.5\" x=\"60.0\" y=\"20\"/><text x=\"108.25\" y=\"35\">pagesize=</text></g><path d=\"M156.5 31h10\"/><path d=\"M166.5 31h10\"/><g class=\"non-terminal\">\n",
       "<path d=\"M176.5 31h0.0\"/><path d=\"M264.5 31h0.0\"/><rect height=\"22\" width=\"88.0\" x=\"176.5\" y=\"20\"/><text x=\"220.5\" y=\"35\">pagesize</text></g><path d=\"M264.5 31h10\"/><path d=\"M274.5 31h10\"/><g class=\"terminal\">\n",
       "<path d=\"M284.5 31h0.0\"/><path d=\"M381.0 31h0.0\"/><rect height=\"22\" rx=\"10\" ry=\"10\" width=\"96.5\" x=\"284.5\" y=\"20\"/><text x=\"332.75\" y=\"35\">\n",
       "bufsize=</text></g><path d=\"M381.0 31h10\"/><path d=\"M391.0 31h10\"/><g class=\"non-terminal\">\n",
       "<path d=\"M401.0 31h0.0\"/><path d=\"M480.5 31h0.0\"/><rect height=\"22\" width=\"79.5\" x=\"401.0\" y=\"20\"/><text x=\"440.75\" y=\"35\">bufsize</text></g></g><path d=\"M480.5 31h20\"/></g><path d=\"M 500.5 31 h 20 m -10 -10 v 20 m 10 -20 v 20\"/></g></svg>"
      ],
      "text/plain": [
       "<IPython.core.display.SVG object>"
      ]
     },
     "metadata": {},
     "output_type": "display_data"
    },
    {
     "name": "stdout",
     "output_type": "stream",
     "text": [
      "pagesize\n"
     ]
    },
    {
     "data": {
      "image/svg+xml": [
       "<svg xmlns=\"http://www.w3.org/2000/svg\" class=\"railroad-diagram\" height=\"62\" viewBox=\"0 0 165.5 62\" width=\"165.5\">\n",
       "<g transform=\"translate(.5 .5)\">\n",
       "<style>/* <![CDATA[ */\n",
       "    svg.railroad-diagram {\n",
       "    }\n",
       "    svg.railroad-diagram path {\n",
       "        stroke-width:3;\n",
       "        stroke:black;\n",
       "        fill:white;\n",
       "    }\n",
       "    svg.railroad-diagram text {\n",
       "        font:14px \"Fira Mono\", monospace;\n",
       "        text-anchor:middle;\n",
       "    }\n",
       "    svg.railroad-diagram text.label{\n",
       "        text-anchor:start;\n",
       "    }\n",
       "    svg.railroad-diagram text.comment{\n",
       "        font:italic 12px \"Fira Mono\", monospace;\n",
       "    }\n",
       "    svg.railroad-diagram rect{\n",
       "        stroke-width:2;\n",
       "        stroke:black;\n",
       "        fill:mistyrose;\n",
       "    }\n",
       "\n",
       "/* ]]> */\n",
       "</style><g>\n",
       "<path d=\"M20 21v20m10 -20v20m-10 -10h20\"/></g><g>\n",
       "<path d=\"M40 31h0.0\"/><path d=\"M125.5 31h0.0\"/><path d=\"M40.0 31h20\"/><g>\n",
       "<path d=\"M60.0 31h0.0\"/><path d=\"M105.5 31h0.0\"/><g class=\"non-terminal\">\n",
       "<path d=\"M60.0 31h0.0\"/><path d=\"M105.5 31h0.0\"/><rect height=\"22\" width=\"45.5\" x=\"60.0\" y=\"20\"/><text x=\"82.75\" y=\"35\">int</text></g></g><path d=\"M105.5 31h20\"/></g><path d=\"M 125.5 31 h 20 m -10 -10 v 20 m 10 -20 v 20\"/></g></svg>"
      ],
      "text/plain": [
       "<IPython.core.display.SVG object>"
      ]
     },
     "metadata": {},
     "output_type": "display_data"
    },
    {
     "name": "stdout",
     "output_type": "stream",
     "text": [
      "bufsize\n"
     ]
    },
    {
     "data": {
      "image/svg+xml": [
       "<svg xmlns=\"http://www.w3.org/2000/svg\" class=\"railroad-diagram\" height=\"62\" viewBox=\"0 0 165.5 62\" width=\"165.5\">\n",
       "<g transform=\"translate(.5 .5)\">\n",
       "<style>/* <![CDATA[ */\n",
       "    svg.railroad-diagram {\n",
       "    }\n",
       "    svg.railroad-diagram path {\n",
       "        stroke-width:3;\n",
       "        stroke:black;\n",
       "        fill:white;\n",
       "    }\n",
       "    svg.railroad-diagram text {\n",
       "        font:14px \"Fira Mono\", monospace;\n",
       "        text-anchor:middle;\n",
       "    }\n",
       "    svg.railroad-diagram text.label{\n",
       "        text-anchor:start;\n",
       "    }\n",
       "    svg.railroad-diagram text.comment{\n",
       "        font:italic 12px \"Fira Mono\", monospace;\n",
       "    }\n",
       "    svg.railroad-diagram rect{\n",
       "        stroke-width:2;\n",
       "        stroke:black;\n",
       "        fill:mistyrose;\n",
       "    }\n",
       "\n",
       "/* ]]> */\n",
       "</style><g>\n",
       "<path d=\"M20 21v20m10 -20v20m-10 -10h20\"/></g><g>\n",
       "<path d=\"M40 31h0.0\"/><path d=\"M125.5 31h0.0\"/><path d=\"M40.0 31h20\"/><g>\n",
       "<path d=\"M60.0 31h0.0\"/><path d=\"M105.5 31h0.0\"/><g class=\"non-terminal\">\n",
       "<path d=\"M60.0 31h0.0\"/><path d=\"M105.5 31h0.0\"/><rect height=\"22\" width=\"45.5\" x=\"60.0\" y=\"20\"/><text x=\"82.75\" y=\"35\">int</text></g></g><path d=\"M105.5 31h20\"/></g><path d=\"M 125.5 31 h 20 m -10 -10 v 20 m 10 -20 v 20\"/></g></svg>"
      ],
      "text/plain": [
       "<IPython.core.display.SVG object>"
      ]
     },
     "metadata": {},
     "output_type": "display_data"
    },
    {
     "name": "stdout",
     "output_type": "stream",
     "text": [
      "int\n"
     ]
    },
    {
     "data": {
      "image/svg+xml": [
       "<svg xmlns=\"http://www.w3.org/2000/svg\" class=\"railroad-diagram\" height=\"62\" viewBox=\"0 0 307.5 62\" width=\"307.5\">\n",
       "<g transform=\"translate(.5 .5)\">\n",
       "<style>/* <![CDATA[ */\n",
       "    svg.railroad-diagram {\n",
       "    }\n",
       "    svg.railroad-diagram path {\n",
       "        stroke-width:3;\n",
       "        stroke:black;\n",
       "        fill:white;\n",
       "    }\n",
       "    svg.railroad-diagram text {\n",
       "        font:14px \"Fira Mono\", monospace;\n",
       "        text-anchor:middle;\n",
       "    }\n",
       "    svg.railroad-diagram text.label{\n",
       "        text-anchor:start;\n",
       "    }\n",
       "    svg.railroad-diagram text.comment{\n",
       "        font:italic 12px \"Fira Mono\", monospace;\n",
       "    }\n",
       "    svg.railroad-diagram rect{\n",
       "        stroke-width:2;\n",
       "        stroke:black;\n",
       "        fill:mistyrose;\n",
       "    }\n",
       "\n",
       "/* ]]> */\n",
       "</style><g>\n",
       "<path d=\"M20 21v20m10 -20v20m-10 -10h20\"/></g><g>\n",
       "<path d=\"M40 31h0.0\"/><path d=\"M267.5 31h0.0\"/><path d=\"M40.0 31h20\"/><g>\n",
       "<path d=\"M60.0 31h0.0\"/><path d=\"M247.5 31h0.0\"/><g class=\"non-terminal\">\n",
       "<path d=\"M60.0 31h0.0\"/><path d=\"M156.5 31h0.0\"/><rect height=\"22\" width=\"96.5\" x=\"60.0\" y=\"20\"/><text x=\"108.25\" y=\"35\">leaddigit</text></g><path d=\"M156.5 31h10\"/><path d=\"M166.5 31h10\"/><g class=\"non-terminal\">\n",
       "<path d=\"M176.5 31h0.0\"/><path d=\"M247.5 31h0.0\"/><rect height=\"22\" width=\"71.0\" x=\"176.5\" y=\"20\"/><text x=\"212.0\" y=\"35\">digits</text></g></g><path d=\"M247.5 31h20\"/></g><path d=\"M 267.5 31 h 20 m -10 -10 v 20 m 10 -20 v 20\"/></g></svg>"
      ],
      "text/plain": [
       "<IPython.core.display.SVG object>"
      ]
     },
     "metadata": {},
     "output_type": "display_data"
    },
    {
     "name": "stdout",
     "output_type": "stream",
     "text": [
      "digits\n"
     ]
    },
    {
     "data": {
      "image/svg+xml": [
       "<svg xmlns=\"http://www.w3.org/2000/svg\" class=\"railroad-diagram\" height=\"92\" viewBox=\"0 0 273.5 92\" width=\"273.5\">\n",
       "<g transform=\"translate(.5 .5)\">\n",
       "<style>/* <![CDATA[ */\n",
       "    svg.railroad-diagram {\n",
       "    }\n",
       "    svg.railroad-diagram path {\n",
       "        stroke-width:3;\n",
       "        stroke:black;\n",
       "        fill:white;\n",
       "    }\n",
       "    svg.railroad-diagram text {\n",
       "        font:14px \"Fira Mono\", monospace;\n",
       "        text-anchor:middle;\n",
       "    }\n",
       "    svg.railroad-diagram text.label{\n",
       "        text-anchor:start;\n",
       "    }\n",
       "    svg.railroad-diagram text.comment{\n",
       "        font:italic 12px \"Fira Mono\", monospace;\n",
       "    }\n",
       "    svg.railroad-diagram rect{\n",
       "        stroke-width:2;\n",
       "        stroke:black;\n",
       "        fill:mistyrose;\n",
       "    }\n",
       "\n",
       "/* ]]> */\n",
       "</style><g>\n",
       "<path d=\"M20 51v20m10 -20v20m-10 -10h20\"/></g><g>\n",
       "<path d=\"M40 61h0.0\"/><path d=\"M233.5 61h0.0\"/><path d=\"M40.0 61a10 10 0 0 0 10 -10v-10a10 10 0 0 1 10 -10\"/><g>\n",
       "<path d=\"M60.0 31h66.75\"/><path d=\"M146.75 31h66.75\"/><g class=\"terminal\">\n",
       "<path d=\"M126.75 31h0.0\"/><path d=\"M146.75 31h0.0\"/><rect height=\"22\" rx=\"10\" ry=\"10\" width=\"20.0\" x=\"126.75\" y=\"20\"/><text x=\"136.75\" y=\"35\"/></g></g><path d=\"M213.5 31a10 10 0 0 1 10 10v10a10 10 0 0 0 10 10\"/><path d=\"M40.0 61h20\"/><g>\n",
       "<path d=\"M60.0 61h0.0\"/><path d=\"M213.5 61h0.0\"/><g class=\"non-terminal\">\n",
       "<path d=\"M60.0 61h0.0\"/><path d=\"M122.5 61h0.0\"/><rect height=\"22\" width=\"62.5\" x=\"60.0\" y=\"50\"/><text x=\"91.25\" y=\"65\">digit</text></g><path d=\"M122.5 61h10\"/><path d=\"M132.5 61h10\"/><g class=\"non-terminal\">\n",
       "<path d=\"M142.5 61h0.0\"/><path d=\"M213.5 61h0.0\"/><rect height=\"22\" width=\"71.0\" x=\"142.5\" y=\"50\"/><text x=\"178.0\" y=\"65\">digits</text></g></g><path d=\"M213.5 61h20\"/></g><path d=\"M 233.5 61 h 20 m -10 -10 v 20 m 10 -20 v 20\"/></g></svg>"
      ],
      "text/plain": [
       "<IPython.core.display.SVG object>"
      ]
     },
     "metadata": {},
     "output_type": "display_data"
    },
    {
     "name": "stdout",
     "output_type": "stream",
     "text": [
      "digit\n"
     ]
    },
    {
     "data": {
      "image/svg+xml": [
       "<svg xmlns=\"http://www.w3.org/2000/svg\" class=\"railroad-diagram\" height=\"109\" viewBox=\"0 0 522.5 109\" width=\"522.5\">\n",
       "<g transform=\"translate(.5 .5)\">\n",
       "<style>/* <![CDATA[ */\n",
       "    svg.railroad-diagram {\n",
       "    }\n",
       "    svg.railroad-diagram path {\n",
       "        stroke-width:3;\n",
       "        stroke:black;\n",
       "        fill:white;\n",
       "    }\n",
       "    svg.railroad-diagram text {\n",
       "        font:14px \"Fira Mono\", monospace;\n",
       "        text-anchor:middle;\n",
       "    }\n",
       "    svg.railroad-diagram text.label{\n",
       "        text-anchor:start;\n",
       "    }\n",
       "    svg.railroad-diagram text.comment{\n",
       "        font:italic 12px \"Fira Mono\", monospace;\n",
       "    }\n",
       "    svg.railroad-diagram rect{\n",
       "        stroke-width:2;\n",
       "        stroke:black;\n",
       "        fill:mistyrose;\n",
       "    }\n",
       "\n",
       "/* ]]> */\n",
       "</style><g>\n",
       "<path d=\"M20 59v20m10 -20v20m-10 -10h20\"/></g><g>\n",
       "<path d=\"M40 69h0.0\"/><path d=\"M482.5 69h0.0\"/><path d=\"M40.0 69a10 10 0 0 0 10 -10v-29a10 10 0 0 1 10 -10h324.0\"/><path d=\"M138.5 89h324.0a10 10 0 0 0 10 -10v0a10 10 0 0 1 10 -10\"/><path d=\"M40.0 69h10\"/><g>\n",
       "<path d=\"M50.0 69h0.0\"/><path d=\"M118.5 69h0.0\"/><path d=\"M50.0 69a10 10 0 0 0 10 -10v-10a10 10 0 0 1 10 -10\"/><g>\n",
       "<path d=\"M70.0 39h0.0\"/><path d=\"M98.5 39h0.0\"/><g class=\"terminal\">\n",
       "<path d=\"M70.0 39h0.0\"/><path d=\"M98.5 39h0.0\"/><rect height=\"22\" rx=\"10\" ry=\"10\" width=\"28.5\" x=\"70.0\" y=\"28\"/><text x=\"84.25\" y=\"43\">0</text></g></g><path d=\"M98.5 39a10 10 0 0 1 10 10v10a10 10 0 0 0 10 10\"/><path d=\"M50.0 69h20\"/><g>\n",
       "<path d=\"M70.0 69h0.0\"/><path d=\"M98.5 69h0.0\"/><g class=\"terminal\">\n",
       "<path d=\"M70.0 69h0.0\"/><path d=\"M98.5 69h0.0\"/><rect height=\"22\" rx=\"10\" ry=\"10\" width=\"28.5\" x=\"70.0\" y=\"58\"/><text x=\"84.25\" y=\"73\">1</text></g></g><path d=\"M98.5 69h20\"/></g><path d=\"M118.5 69a10 10 0 0 1 10 10v0a10 10 0 0 0 10 10\"/><path d=\"M118.5 20a10 10 0 0 1 10 10v29a10 10 0 0 0 10 10\"/><g>\n",
       "<path d=\"M138.5 69h0.0\"/><path d=\"M207.0 69h0.0\"/><path d=\"M138.5 69a10 10 0 0 0 10 -10v-10a10 10 0 0 1 10 -10\"/><g>\n",
       "<path d=\"M158.5 39h0.0\"/><path d=\"M187.0 39h0.0\"/><g class=\"terminal\">\n",
       "<path d=\"M158.5 39h0.0\"/><path d=\"M187.0 39h0.0\"/><rect height=\"22\" rx=\"10\" ry=\"10\" width=\"28.5\" x=\"158.5\" y=\"28\"/><text x=\"172.75\" y=\"43\">2</text></g></g><path d=\"M187.0 39a10 10 0 0 1 10 10v10a10 10 0 0 0 10 10\"/><path d=\"M138.5 69h20\"/><g>\n",
       "<path d=\"M158.5 69h0.0\"/><path d=\"M187.0 69h0.0\"/><g class=\"terminal\">\n",
       "<path d=\"M158.5 69h0.0\"/><path d=\"M187.0 69h0.0\"/><rect height=\"22\" rx=\"10\" ry=\"10\" width=\"28.5\" x=\"158.5\" y=\"58\"/><text x=\"172.75\" y=\"73\">3</text></g></g><path d=\"M187.0 69h20\"/></g><path d=\"M207.0 69a10 10 0 0 1 10 10v0a10 10 0 0 0 10 10\"/><path d=\"M207.0 20a10 10 0 0 1 10 10v29a10 10 0 0 0 10 10\"/><g>\n",
       "<path d=\"M227.0 69h0.0\"/><path d=\"M295.5 69h0.0\"/><path d=\"M227.0 69a10 10 0 0 0 10 -10v-10a10 10 0 0 1 10 -10\"/><g>\n",
       "<path d=\"M247.0 39h0.0\"/><path d=\"M275.5 39h0.0\"/><g class=\"terminal\">\n",
       "<path d=\"M247.0 39h0.0\"/><path d=\"M275.5 39h0.0\"/><rect height=\"22\" rx=\"10\" ry=\"10\" width=\"28.5\" x=\"247.0\" y=\"28\"/><text x=\"261.25\" y=\"43\">4</text></g></g><path d=\"M275.5 39a10 10 0 0 1 10 10v10a10 10 0 0 0 10 10\"/><path d=\"M227.0 69h20\"/><g>\n",
       "<path d=\"M247.0 69h0.0\"/><path d=\"M275.5 69h0.0\"/><g class=\"terminal\">\n",
       "<path d=\"M247.0 69h0.0\"/><path d=\"M275.5 69h0.0\"/><rect height=\"22\" rx=\"10\" ry=\"10\" width=\"28.5\" x=\"247.0\" y=\"58\"/><text x=\"261.25\" y=\"73\">5</text></g></g><path d=\"M275.5 69h20\"/></g><path d=\"M295.5 69a10 10 0 0 1 10 10v0a10 10 0 0 0 10 10\"/><path d=\"M295.5 20a10 10 0 0 1 10 10v29a10 10 0 0 0 10 10\"/><g>\n",
       "<path d=\"M315.5 69h0.0\"/><path d=\"M384.0 69h0.0\"/><path d=\"M315.5 69a10 10 0 0 0 10 -10v-10a10 10 0 0 1 10 -10\"/><g>\n",
       "<path d=\"M335.5 39h0.0\"/><path d=\"M364.0 39h0.0\"/><g class=\"terminal\">\n",
       "<path d=\"M335.5 39h0.0\"/><path d=\"M364.0 39h0.0\"/><rect height=\"22\" rx=\"10\" ry=\"10\" width=\"28.5\" x=\"335.5\" y=\"28\"/><text x=\"349.75\" y=\"43\">6</text></g></g><path d=\"M364.0 39a10 10 0 0 1 10 10v10a10 10 0 0 0 10 10\"/><path d=\"M315.5 69h20\"/><g>\n",
       "<path d=\"M335.5 69h0.0\"/><path d=\"M364.0 69h0.0\"/><g class=\"terminal\">\n",
       "<path d=\"M335.5 69h0.0\"/><path d=\"M364.0 69h0.0\"/><rect height=\"22\" rx=\"10\" ry=\"10\" width=\"28.5\" x=\"335.5\" y=\"58\"/><text x=\"349.75\" y=\"73\">7</text></g></g><path d=\"M364.0 69h20\"/></g><path d=\"M384.0 69a10 10 0 0 1 10 10v0a10 10 0 0 0 10 10\"/><path d=\"M384.0 20a10 10 0 0 1 10 10v29a10 10 0 0 0 10 10\"/><g>\n",
       "<path d=\"M404.0 69h0.0\"/><path d=\"M472.5 69h0.0\"/><path d=\"M404.0 69a10 10 0 0 0 10 -10v-10a10 10 0 0 1 10 -10\"/><g>\n",
       "<path d=\"M424.0 39h0.0\"/><path d=\"M452.5 39h0.0\"/><g class=\"terminal\">\n",
       "<path d=\"M424.0 39h0.0\"/><path d=\"M452.5 39h0.0\"/><rect height=\"22\" rx=\"10\" ry=\"10\" width=\"28.5\" x=\"424.0\" y=\"28\"/><text x=\"438.25\" y=\"43\">8</text></g></g><path d=\"M452.5 39a10 10 0 0 1 10 10v10a10 10 0 0 0 10 10\"/><path d=\"M404.0 69h20\"/><g>\n",
       "<path d=\"M424.0 69h0.0\"/><path d=\"M452.5 69h0.0\"/><g class=\"terminal\">\n",
       "<path d=\"M424.0 69h0.0\"/><path d=\"M452.5 69h0.0\"/><rect height=\"22\" rx=\"10\" ry=\"10\" width=\"28.5\" x=\"424.0\" y=\"58\"/><text x=\"438.25\" y=\"73\">9</text></g></g><path d=\"M452.5 69h20\"/></g><path d=\"M472.5 69h10\"/></g><path d=\"M 482.5 69 h 20 m -10 -10 v 20 m 10 -20 v 20\"/></g></svg>"
      ],
      "text/plain": [
       "<IPython.core.display.SVG object>"
      ]
     },
     "metadata": {},
     "output_type": "display_data"
    },
    {
     "name": "stdout",
     "output_type": "stream",
     "text": [
      "leaddigit\n"
     ]
    },
    {
     "data": {
      "image/svg+xml": [
       "<svg xmlns=\"http://www.w3.org/2000/svg\" class=\"railroad-diagram\" height=\"80\" viewBox=\"0 0 876.5 80\" width=\"876.5\">\n",
       "<g transform=\"translate(.5 .5)\">\n",
       "<style>/* <![CDATA[ */\n",
       "    svg.railroad-diagram {\n",
       "    }\n",
       "    svg.railroad-diagram path {\n",
       "        stroke-width:3;\n",
       "        stroke:black;\n",
       "        fill:white;\n",
       "    }\n",
       "    svg.railroad-diagram text {\n",
       "        font:14px \"Fira Mono\", monospace;\n",
       "        text-anchor:middle;\n",
       "    }\n",
       "    svg.railroad-diagram text.label{\n",
       "        text-anchor:start;\n",
       "    }\n",
       "    svg.railroad-diagram text.comment{\n",
       "        font:italic 12px \"Fira Mono\", monospace;\n",
       "    }\n",
       "    svg.railroad-diagram rect{\n",
       "        stroke-width:2;\n",
       "        stroke:black;\n",
       "        fill:mistyrose;\n",
       "    }\n",
       "\n",
       "/* ]]> */\n",
       "</style><g>\n",
       "<path d=\"M20 30v20m10 -20v20m-10 -10h20\"/></g><g>\n",
       "<path d=\"M40 40h0.0\"/><path d=\"M836.5 40h0.0\"/><path d=\"M40.0 40a10 10 0 0 0 10 -10v0a10 10 0 0 1 10 -10h678.0\"/><path d=\"M138.5 60h678.0a10 10 0 0 0 10 -10v0a10 10 0 0 1 10 -10\"/><path d=\"M40.0 40h10\"/><g>\n",
       "<path d=\"M50.0 40h0.0\"/><path d=\"M118.5 40h0.0\"/><path d=\"M50.0 40h20\"/><g>\n",
       "<path d=\"M70.0 40h0.0\"/><path d=\"M98.5 40h0.0\"/><g class=\"terminal\">\n",
       "<path d=\"M70.0 40h0.0\"/><path d=\"M98.5 40h0.0\"/><rect height=\"22\" rx=\"10\" ry=\"10\" width=\"28.5\" x=\"70.0\" y=\"29\"/><text x=\"84.25\" y=\"44\">1</text></g></g><path d=\"M98.5 40h20\"/></g><path d=\"M118.5 40a10 10 0 0 1 10 10v0a10 10 0 0 0 10 10\"/><path d=\"M118.5 20a10 10 0 0 1 10 10v0a10 10 0 0 0 10 10\"/><g>\n",
       "<path d=\"M138.5 40h0.0\"/><path d=\"M207.0 40h0.0\"/><path d=\"M138.5 40h20\"/><g>\n",
       "<path d=\"M158.5 40h0.0\"/><path d=\"M187.0 40h0.0\"/><g class=\"terminal\">\n",
       "<path d=\"M158.5 40h0.0\"/><path d=\"M187.0 40h0.0\"/><rect height=\"22\" rx=\"10\" ry=\"10\" width=\"28.5\" x=\"158.5\" y=\"29\"/><text x=\"172.75\" y=\"44\">2</text></g></g><path d=\"M187.0 40h20\"/></g><path d=\"M207.0 40a10 10 0 0 1 10 10v0a10 10 0 0 0 10 10\"/><path d=\"M207.0 20a10 10 0 0 1 10 10v0a10 10 0 0 0 10 10\"/><g>\n",
       "<path d=\"M227.0 40h0.0\"/><path d=\"M295.5 40h0.0\"/><path d=\"M227.0 40h20\"/><g>\n",
       "<path d=\"M247.0 40h0.0\"/><path d=\"M275.5 40h0.0\"/><g class=\"terminal\">\n",
       "<path d=\"M247.0 40h0.0\"/><path d=\"M275.5 40h0.0\"/><rect height=\"22\" rx=\"10\" ry=\"10\" width=\"28.5\" x=\"247.0\" y=\"29\"/><text x=\"261.25\" y=\"44\">3</text></g></g><path d=\"M275.5 40h20\"/></g><path d=\"M295.5 40a10 10 0 0 1 10 10v0a10 10 0 0 0 10 10\"/><path d=\"M295.5 20a10 10 0 0 1 10 10v0a10 10 0 0 0 10 10\"/><g>\n",
       "<path d=\"M315.5 40h0.0\"/><path d=\"M384.0 40h0.0\"/><path d=\"M315.5 40h20\"/><g>\n",
       "<path d=\"M335.5 40h0.0\"/><path d=\"M364.0 40h0.0\"/><g class=\"terminal\">\n",
       "<path d=\"M335.5 40h0.0\"/><path d=\"M364.0 40h0.0\"/><rect height=\"22\" rx=\"10\" ry=\"10\" width=\"28.5\" x=\"335.5\" y=\"29\"/><text x=\"349.75\" y=\"44\">4</text></g></g><path d=\"M364.0 40h20\"/></g><path d=\"M384.0 40a10 10 0 0 1 10 10v0a10 10 0 0 0 10 10\"/><path d=\"M384.0 20a10 10 0 0 1 10 10v0a10 10 0 0 0 10 10\"/><g>\n",
       "<path d=\"M404.0 40h0.0\"/><path d=\"M472.5 40h0.0\"/><path d=\"M404.0 40h20\"/><g>\n",
       "<path d=\"M424.0 40h0.0\"/><path d=\"M452.5 40h0.0\"/><g class=\"terminal\">\n",
       "<path d=\"M424.0 40h0.0\"/><path d=\"M452.5 40h0.0\"/><rect height=\"22\" rx=\"10\" ry=\"10\" width=\"28.5\" x=\"424.0\" y=\"29\"/><text x=\"438.25\" y=\"44\">5</text></g></g><path d=\"M452.5 40h20\"/></g><path d=\"M472.5 40a10 10 0 0 1 10 10v0a10 10 0 0 0 10 10\"/><path d=\"M472.5 20a10 10 0 0 1 10 10v0a10 10 0 0 0 10 10\"/><g>\n",
       "<path d=\"M492.5 40h0.0\"/><path d=\"M561.0 40h0.0\"/><path d=\"M492.5 40h20\"/><g>\n",
       "<path d=\"M512.5 40h0.0\"/><path d=\"M541.0 40h0.0\"/><g class=\"terminal\">\n",
       "<path d=\"M512.5 40h0.0\"/><path d=\"M541.0 40h0.0\"/><rect height=\"22\" rx=\"10\" ry=\"10\" width=\"28.5\" x=\"512.5\" y=\"29\"/><text x=\"526.75\" y=\"44\">6</text></g></g><path d=\"M541.0 40h20\"/></g><path d=\"M561.0 40a10 10 0 0 1 10 10v0a10 10 0 0 0 10 10\"/><path d=\"M561.0 20a10 10 0 0 1 10 10v0a10 10 0 0 0 10 10\"/><g>\n",
       "<path d=\"M581.0 40h0.0\"/><path d=\"M649.5 40h0.0\"/><path d=\"M581.0 40h20\"/><g>\n",
       "<path d=\"M601.0 40h0.0\"/><path d=\"M629.5 40h0.0\"/><g class=\"terminal\">\n",
       "<path d=\"M601.0 40h0.0\"/><path d=\"M629.5 40h0.0\"/><rect height=\"22\" rx=\"10\" ry=\"10\" width=\"28.5\" x=\"601.0\" y=\"29\"/><text x=\"615.25\" y=\"44\">7</text></g></g><path d=\"M629.5 40h20\"/></g><path d=\"M649.5 40a10 10 0 0 1 10 10v0a10 10 0 0 0 10 10\"/><path d=\"M649.5 20a10 10 0 0 1 10 10v0a10 10 0 0 0 10 10\"/><g>\n",
       "<path d=\"M669.5 40h0.0\"/><path d=\"M738.0 40h0.0\"/><path d=\"M669.5 40h20\"/><g>\n",
       "<path d=\"M689.5 40h0.0\"/><path d=\"M718.0 40h0.0\"/><g class=\"terminal\">\n",
       "<path d=\"M689.5 40h0.0\"/><path d=\"M718.0 40h0.0\"/><rect height=\"22\" rx=\"10\" ry=\"10\" width=\"28.5\" x=\"689.5\" y=\"29\"/><text x=\"703.75\" y=\"44\">8</text></g></g><path d=\"M718.0 40h20\"/></g><path d=\"M738.0 40a10 10 0 0 1 10 10v0a10 10 0 0 0 10 10\"/><path d=\"M738.0 20a10 10 0 0 1 10 10v0a10 10 0 0 0 10 10\"/><g>\n",
       "<path d=\"M758.0 40h0.0\"/><path d=\"M826.5 40h0.0\"/><path d=\"M758.0 40h20\"/><g>\n",
       "<path d=\"M778.0 40h0.0\"/><path d=\"M806.5 40h0.0\"/><g class=\"terminal\">\n",
       "<path d=\"M778.0 40h0.0\"/><path d=\"M806.5 40h0.0\"/><rect height=\"22\" rx=\"10\" ry=\"10\" width=\"28.5\" x=\"778.0\" y=\"29\"/><text x=\"792.25\" y=\"44\">9</text></g></g><path d=\"M806.5 40h20\"/></g><path d=\"M826.5 40h10\"/></g><path d=\"M 836.5 40 h 20 m -10 -10 v 20 m 10 -20 v 20\"/></g></svg>"
      ],
      "text/plain": [
       "<IPython.core.display.SVG object>"
      ]
     },
     "metadata": {},
     "output_type": "display_data"
    }
   ],
   "source": [
    "# ignore\n",
    "syntax_diagram(CONFIG_GRAMMAR)"
   ]
  },
  {
   "cell_type": "markdown",
   "id": "c2ff4e64",
   "metadata": {
    "slideshow": {
     "slide_type": "subslide"
    }
   },
   "source": [
    "Using this grammar, we can now use any of our grammar-based fuzzers to generate valid inputs.\n",
    "For instance:"
   ]
  },
  {
   "cell_type": "code",
   "execution_count": 10,
   "id": "77f36f41",
   "metadata": {
    "execution": {
     "iopub.execute_input": "2022-08-09T09:11:49.784726Z",
     "iopub.status.busy": "2022-08-09T09:11:49.784389Z",
     "iopub.status.idle": "2022-08-09T09:11:49.816592Z",
     "shell.execute_reply": "2022-08-09T09:11:49.816744Z"
    },
    "slideshow": {
     "slide_type": "skip"
    }
   },
   "outputs": [],
   "source": [
    "from GrammarFuzzer import GrammarFuzzer, DerivationTree"
   ]
  },
  {
   "cell_type": "code",
   "execution_count": 11,
   "id": "aac93fc0",
   "metadata": {
    "execution": {
     "iopub.execute_input": "2022-08-09T09:11:49.818666Z",
     "iopub.status.busy": "2022-08-09T09:11:49.818344Z",
     "iopub.status.idle": "2022-08-09T09:11:49.819748Z",
     "shell.execute_reply": "2022-08-09T09:11:49.820091Z"
    },
    "slideshow": {
     "slide_type": "fragment"
    }
   },
   "outputs": [],
   "source": [
    "fuzzer = GrammarFuzzer(CONFIG_GRAMMAR)"
   ]
  },
  {
   "cell_type": "code",
   "execution_count": 12,
   "id": "e9af0141",
   "metadata": {
    "execution": {
     "iopub.execute_input": "2022-08-09T09:11:49.821880Z",
     "iopub.status.busy": "2022-08-09T09:11:49.821597Z",
     "iopub.status.idle": "2022-08-09T09:11:49.827161Z",
     "shell.execute_reply": "2022-08-09T09:11:49.827409Z"
    },
    "slideshow": {
     "slide_type": "subslide"
    }
   },
   "outputs": [
    {
     "name": "stdout",
     "output_type": "stream",
     "text": [
      "0\n",
      "pagesize=4057\n",
      "bufsize=817\n",
      "1\n",
      "pagesize=9\n",
      "bufsize=8\n",
      "2\n",
      "pagesize=5\n",
      "bufsize=25\n",
      "3\n",
      "pagesize=1\n",
      "bufsize=2\n",
      "4\n",
      "pagesize=62\n",
      "bufsize=57\n",
      "5\n",
      "pagesize=2\n",
      "bufsize=893\n",
      "6\n",
      "pagesize=1\n",
      "bufsize=33\n",
      "7\n",
      "pagesize=7537\n",
      "bufsize=3\n",
      "8\n",
      "pagesize=97\n",
      "bufsize=983\n",
      "9\n",
      "pagesize=2\n",
      "bufsize=2\n"
     ]
    }
   ],
   "source": [
    "for i in range(10):\n",
    "    print(i)\n",
    "    print(fuzzer.fuzz())"
   ]
  },
  {
   "cell_type": "markdown",
   "id": "70fe9cd2",
   "metadata": {
    "slideshow": {
     "slide_type": "subslide"
    }
   },
   "source": [
    "So far, so good - and indeed, these random values will help us test our (hypothetical) system.\n",
    "But what if we want to _control_ these values further, putting our system to the test?"
   ]
  },
  {
   "cell_type": "markdown",
   "id": "2cd32fe5",
   "metadata": {
    "slideshow": {
     "slide_type": "subslide"
    }
   },
   "source": [
    "A grammar gives us _some_ control. If we want to ensure a page size of at least 100,000, for instance, a rule like\n",
    "```python\n",
    "\"<bufsize>\": [\"<leaddigit><digit><digit><digit><digit><digit>\"]\n",
    "```\n",
    "would do the job.\n",
    "We could also express that the page size should be an odd number, by having it end in an odd digit.\n",
    "But if we want to state that the page size should be, say, a multiple of 8, or larger or less than the buffer size, we are out of luck."
   ]
  },
  {
   "cell_type": "markdown",
   "id": "7233e308",
   "metadata": {
    "slideshow": {
     "slide_type": "subslide"
    }
   },
   "source": [
    "In the [chapter on fuzzing with generators](GeneratorGrammarFuzzer.ipynb), we have seen how to attach _program code_ to individual rules - program code that would either _generate_ individual elements right away or _filter_ only these that satisfy specific conditions."
   ]
  },
  {
   "cell_type": "markdown",
   "id": "476f62c8",
   "metadata": {
    "slideshow": {
     "slide_type": "subslide"
    }
   },
   "source": [
    "Attaching code makes things very flexible, but also has several disadvantages:\n",
    "\n",
    "* First, it is pretty hard to generate inputs that satisfy multiple constraints at once.\n",
    "In essence, you have to code your own _strategy_ for generating inputs, which at some point negates the advantage of having an abstract representation such as a grammar.\n",
    "* Second, your code is not portable. While a grammar can be easily adapted to _any_ grammar-based fuzzer, adding, say, Python code, ties you to the Python environment forever.\n",
    "* Third, program code can only be used for _producing_ inputs or _checking_ inputs, but not both. This, again, is a downside compared to a pure grammar representation."
   ]
  },
  {
   "cell_type": "markdown",
   "id": "3e800960",
   "metadata": {
    "slideshow": {
     "slide_type": "subslide"
    }
   },
   "source": [
    "Hence, we are looking to a more _general_ way to express semantic properties - and also a more _declarative_ way to express semantic properties."
   ]
  },
  {
   "cell_type": "markdown",
   "id": "78f7cdf6",
   "metadata": {
    "slideshow": {
     "slide_type": "subslide"
    }
   },
   "source": [
    "### Excursion: Unrestricted Grammars"
   ]
  },
  {
   "cell_type": "markdown",
   "id": "e163a786",
   "metadata": {
    "slideshow": {
     "slide_type": "subslide"
    }
   },
   "source": [
    "One very general solution to this problem would be to use _unrestricted_ grammars rather than the _context-free_ grammars we have used so far.\n",
    "In an unrestricted grammar, one can have multiple symbols also on the left hand side of an expansion rule, making them very flexible.\n",
    "In fact, unrestricted grammars are _Turing-universal_, meaning that they can express any feature that could also be expressed in program code; and they could thus check and produce arbitrary strings with arbitrary features. (If they finish, that is – unrestricted grammars also suffer from the halting problem.)\n",
    "The downside is that there is literally no programming support for unrestricted grammars – we'd have to implement all of arithmetics, strings, and other functionality from scratch in a grammar, which is - well - not fun."
   ]
  },
  {
   "cell_type": "markdown",
   "id": "1e84f753",
   "metadata": {
    "slideshow": {
     "slide_type": "subslide"
    }
   },
   "source": [
    "### End of Excursion"
   ]
  },
  {
   "cell_type": "markdown",
   "id": "0cd821cb",
   "metadata": {
    "slideshow": {
     "slide_type": "slide"
    }
   },
   "source": [
    "## Specifying Constraints"
   ]
  },
  {
   "cell_type": "markdown",
   "id": "c20ac501",
   "metadata": {
    "slideshow": {
     "slide_type": "fragment"
    }
   },
   "source": [
    "In recent work, Dominic Steinhöfel and Andreas Zeller (one of the authors of this book) have presented an infrastructure that allows to produce inputs with _arbitrary properties_, but without having to go through the trouble of implementing producers or checkers.\n",
    "Instead, they suggest a dedicated _language_ for specifiying inputs, named _ISLa_ (for input specification language).\n",
    "_ISLa_ combines a standard context-free _grammar_ with _constraints_ that express _semantic_ properties of the inputs and their elements.\n",
    "ISLa can be used as a _fuzzer_ (producing inputs that satisfy the constraints) as well as a _checker_ (checking inputs whether they satisfy the given constraints)."
   ]
  },
  {
   "cell_type": "markdown",
   "id": "6d1a17d7",
   "metadata": {
    "slideshow": {
     "slide_type": "subslide"
    }
   },
   "source": [
    "Let us illustrate ISLa by example. ISLa comes as a Python package named `isla-solver` that can be easily installed using `pip`:\n",
    "\n",
    "```shell\n",
    "$ pip install isla-solver\n",
    "```\n",
    "\n",
    "This also installs all dependent packages (such as `fuzzingbook`, for instance)."
   ]
  },
  {
   "cell_type": "markdown",
   "id": "473959be",
   "metadata": {
    "slideshow": {
     "slide_type": "fragment"
    }
   },
   "source": [
    "The core of ISLa is the _ISLa Solver_ – the component that actually _solves_ constraints to produce satisfying inputs."
   ]
  },
  {
   "cell_type": "code",
   "execution_count": 13,
   "id": "918b8ac1",
   "metadata": {
    "execution": {
     "iopub.execute_input": "2022-08-09T09:11:49.829691Z",
     "iopub.status.busy": "2022-08-09T09:11:49.829037Z",
     "iopub.status.idle": "2022-08-09T09:11:49.832127Z",
     "shell.execute_reply": "2022-08-09T09:11:49.832294Z"
    },
    "slideshow": {
     "slide_type": "skip"
    }
   },
   "outputs": [],
   "source": [
    "import isla  # type: ignore"
   ]
  },
  {
   "cell_type": "code",
   "execution_count": 14,
   "id": "9e4fcb78",
   "metadata": {
    "execution": {
     "iopub.execute_input": "2022-08-09T09:11:49.833988Z",
     "iopub.status.busy": "2022-08-09T09:11:49.833689Z",
     "iopub.status.idle": "2022-08-09T09:11:49.886547Z",
     "shell.execute_reply": "2022-08-09T09:11:49.886742Z"
    },
    "slideshow": {
     "slide_type": "skip"
    }
   },
   "outputs": [],
   "source": [
    "from isla.solver import ISLaSolver  # type: ignore"
   ]
  },
  {
   "cell_type": "markdown",
   "id": "1f671384",
   "metadata": {
    "slideshow": {
     "slide_type": "subslide"
    }
   },
   "source": [
    "The constructor of an `ISLASolver` takes two mandatory arguments.\n",
    "* The _grammar_ is the grammar the solver should produce inputs from.\n",
    "* The _constraint_ is the constraint the produced inputs should satisfy."
   ]
  },
  {
   "cell_type": "markdown",
   "id": "57381334",
   "metadata": {
    "slideshow": {
     "slide_type": "fragment"
    }
   },
   "source": [
    "To express a constraint, we have a variety of _functions_ and _predicates_ at our disposition.\n",
    "These can be applied to individual elements of the grammar, notably their nonterminals.\n",
    "The function `str.len()`, for instance, returns the length of a string.\n",
    "If we want to have inputs in which the page size has at least 6 digits, we can write:"
   ]
  },
  {
   "cell_type": "code",
   "execution_count": 15,
   "id": "9f6fc3dd",
   "metadata": {
    "execution": {
     "iopub.execute_input": "2022-08-09T09:11:49.895495Z",
     "iopub.status.busy": "2022-08-09T09:11:49.895195Z",
     "iopub.status.idle": "2022-08-09T09:11:49.902539Z",
     "shell.execute_reply": "2022-08-09T09:11:49.902790Z"
    },
    "slideshow": {
     "slide_type": "fragment"
    }
   },
   "outputs": [],
   "source": [
    "solver = ISLaSolver(CONFIG_GRAMMAR, 'str.len(<pagesize>) >= 6')"
   ]
  },
  {
   "cell_type": "markdown",
   "id": "a08e75ab",
   "metadata": {
    "slideshow": {
     "slide_type": "subslide"
    }
   },
   "source": [
    "The method `solve()` returns an iterator over all produced strings from the ISLa solver. To get these inputs, we can thus write"
   ]
  },
  {
   "cell_type": "code",
   "execution_count": 16,
   "id": "e02c6cc6-46ba-4c70-b31b-ae3616c59377",
   "metadata": {
    "execution": {
     "iopub.execute_input": "2022-08-09T09:11:49.904984Z",
     "iopub.status.busy": "2022-08-09T09:11:49.904672Z",
     "iopub.status.idle": "2022-08-09T09:11:49.905912Z",
     "shell.execute_reply": "2022-08-09T09:11:49.906057Z"
    },
    "slideshow": {
     "slide_type": "skip"
    }
   },
   "outputs": [],
   "source": [
    "import itertools"
   ]
  },
  {
   "cell_type": "code",
   "execution_count": 17,
   "id": "035571b5",
   "metadata": {
    "execution": {
     "iopub.execute_input": "2022-08-09T09:11:49.908196Z",
     "iopub.status.busy": "2022-08-09T09:11:49.907899Z",
     "iopub.status.idle": "2022-08-09T09:11:50.877598Z",
     "shell.execute_reply": "2022-08-09T09:11:50.877832Z"
    },
    "slideshow": {
     "slide_type": "subslide"
    }
   },
   "outputs": [
    {
     "name": "stdout",
     "output_type": "stream",
     "text": [
      "0\n",
      "pagesize=800280\n",
      "bufsize=2\n",
      "1\n",
      "pagesize=800280\n",
      "bufsize=7815304697428\n",
      "2\n",
      "pagesize=800280\n",
      "bufsize=9\n",
      "3\n",
      "pagesize=800280\n",
      "bufsize=314\n",
      "4\n",
      "pagesize=800280\n",
      "bufsize=1\n",
      "5\n",
      "pagesize=800280\n",
      "bufsize=435\n",
      "6\n",
      "pagesize=800280\n",
      "bufsize=8\n",
      "7\n",
      "pagesize=800280\n",
      "bufsize=5\n",
      "8\n",
      "pagesize=800280\n",
      "bufsize=607\n",
      "9\n",
      "pagesize=800280\n",
      "bufsize=49\n"
     ]
    }
   ],
   "source": [
    "solutions = itertools.islice(solver.solve(), 10)\n",
    "for i, solution in enumerate(solutions):\n",
    "    print(i)\n",
    "    print(solution)   "
   ]
  },
  {
   "cell_type": "markdown",
   "id": "6e41cd49",
   "metadata": {
    "slideshow": {
     "slide_type": "subslide"
    }
   },
   "source": [
    "... and we see that, indeed, each page size has exactly six digits."
   ]
  },
  {
   "cell_type": "markdown",
   "id": "1622b0b4-bca0-4514-889c-ad7599d528c4",
   "metadata": {
    "slideshow": {
     "slide_type": "fragment"
    }
   },
   "source": [
    "Note that repeated calls to `solver.solve()` in a loop would retrieve the first element of a *new* iterator object each time. This can result in less diverse inputs and degraded performance. Thus, we pick the number of desired elements using the `islice` function from `itertools` above."
   ]
  },
  {
   "cell_type": "markdown",
   "id": "9048ad09",
   "metadata": {
    "slideshow": {
     "slide_type": "fragment"
    }
   },
   "source": [
    "To express a minimum numeric value, however, we can use a more elegant way.\n",
    "The function `str.to_int()`, for instance, converts a string into an integer.\n",
    "To obtain a page size that of at least 100000, we can thus also write"
   ]
  },
  {
   "cell_type": "code",
   "execution_count": 18,
   "id": "e1cebcdd",
   "metadata": {
    "execution": {
     "iopub.execute_input": "2022-08-09T09:11:50.881855Z",
     "iopub.status.busy": "2022-08-09T09:11:50.881506Z",
     "iopub.status.idle": "2022-08-09T09:11:52.065705Z",
     "shell.execute_reply": "2022-08-09T09:11:52.065945Z"
    },
    "slideshow": {
     "slide_type": "subslide"
    }
   },
   "outputs": [
    {
     "name": "stdout",
     "output_type": "stream",
     "text": [
      "pagesize=2922084\n",
      "bufsize=43\n"
     ]
    }
   ],
   "source": [
    "solver = ISLaSolver(CONFIG_GRAMMAR,\n",
    "                    'str.to.int(<pagesize>) >= 100000')\n",
    "print(next(solver.solve()))"
   ]
  },
  {
   "cell_type": "markdown",
   "id": "8cc30857",
   "metadata": {
    "slideshow": {
     "slide_type": "fragment"
    }
   },
   "source": [
    "If we want the page size to be in the range of 100 to 200, we can state this as a logical conjunction (using `and`)"
   ]
  },
  {
   "cell_type": "code",
   "execution_count": 19,
   "id": "75683696",
   "metadata": {
    "execution": {
     "iopub.execute_input": "2022-08-09T09:11:52.071745Z",
     "iopub.status.busy": "2022-08-09T09:11:52.071464Z",
     "iopub.status.idle": "2022-08-09T09:11:53.162411Z",
     "shell.execute_reply": "2022-08-09T09:11:53.162644Z"
    },
    "slideshow": {
     "slide_type": "subslide"
    }
   },
   "outputs": [
    {
     "name": "stdout",
     "output_type": "stream",
     "text": [
      "pagesize=109\n",
      "bufsize=4\n"
     ]
    }
   ],
   "source": [
    "solver = ISLaSolver(CONFIG_GRAMMAR, \n",
    "                    '''\n",
    "                    str.to.int(<pagesize>) >= 100 and \n",
    "                    str.to.int(<pagesize>) <= 200\n",
    "                    ''')\n",
    "print(next(solver.solve()))"
   ]
  },
  {
   "cell_type": "markdown",
   "id": "a0de0eac",
   "metadata": {
    "slideshow": {
     "slide_type": "fragment"
    }
   },
   "source": [
    "And if we want the page size to be a multiple of seven, we can write"
   ]
  },
  {
   "cell_type": "code",
   "execution_count": 20,
   "id": "f99bd224",
   "metadata": {
    "execution": {
     "iopub.execute_input": "2022-08-09T09:11:53.167548Z",
     "iopub.status.busy": "2022-08-09T09:11:53.167240Z",
     "iopub.status.idle": "2022-08-09T09:11:54.186543Z",
     "shell.execute_reply": "2022-08-09T09:11:54.186772Z"
    },
    "slideshow": {
     "slide_type": "subslide"
    },
    "tags": []
   },
   "outputs": [
    {
     "name": "stdout",
     "output_type": "stream",
     "text": [
      "pagesize=98\n",
      "bufsize=40\n"
     ]
    }
   ],
   "source": [
    "solver = ISLaSolver(CONFIG_GRAMMAR, \n",
    "                    '''\n",
    "                    str.to.int(<pagesize>) mod 7 = 0\n",
    "                    ''')\n",
    "print(next(solver.solve()))"
   ]
  },
  {
   "cell_type": "code",
   "execution_count": 21,
   "id": "fdd0335e",
   "metadata": {
    "execution": {
     "iopub.execute_input": "2022-08-09T09:11:54.188643Z",
     "iopub.status.busy": "2022-08-09T09:11:54.188364Z",
     "iopub.status.idle": "2022-08-09T09:11:54.189736Z",
     "shell.execute_reply": "2022-08-09T09:11:54.189919Z"
    },
    "slideshow": {
     "slide_type": "skip"
    }
   },
   "outputs": [],
   "source": [
    "from bookutils import quiz"
   ]
  },
  {
   "cell_type": "code",
   "execution_count": 22,
   "id": "28120dfd",
   "metadata": {
    "execution": {
     "iopub.execute_input": "2022-08-09T09:11:54.194272Z",
     "iopub.status.busy": "2022-08-09T09:11:54.193964Z",
     "iopub.status.idle": "2022-08-09T09:11:54.195386Z",
     "shell.execute_reply": "2022-08-09T09:11:54.195602Z"
    },
    "slideshow": {
     "slide_type": "subslide"
    }
   },
   "outputs": [
    {
     "data": {
      "text/html": [
       "\n",
       "    \n",
       "    <script>\n",
       "    var bad_answers = new Map();\n",
       "\n",
       "    function answer(quiz_id) {\n",
       "        ans = 0;\n",
       "        for (i = 1;; i++) {\n",
       "            checkbox = document.getElementById(quiz_id + \"-\" + i.toString());\n",
       "            if (!checkbox)\n",
       "                break;\n",
       "            if (checkbox.checked)\n",
       "                ans |= (1 << i);\n",
       "        }\n",
       "        return ans;\n",
       "    }\n",
       "    function check_selection(quiz_id, correct_answer, multiple_choice, hint) {\n",
       "        given_answer = answer(quiz_id);\n",
       "        if (given_answer == correct_answer)\n",
       "        {\n",
       "            document.getElementById(quiz_id + \"-submit\").value = \"Correct!\";\n",
       "            document.getElementById(quiz_id + \"-hint\").innerHTML = \"\";\n",
       "\n",
       "            for (i = 1;; i++) {\n",
       "                checkbox = document.getElementById(quiz_id + \"-\" + i.toString());\n",
       "                label = document.getElementById(quiz_id + \"-\" + i.toString() + \"-label\")\n",
       "                if (!checkbox)\n",
       "                    break;\n",
       "    \n",
       "                if (checkbox.checked) {\n",
       "                    label.style.fontWeight = \"bold\";\n",
       "                }\n",
       "                else {\n",
       "                    label.style.textDecoration = \"line-through\";\n",
       "                }\n",
       "            }\n",
       "        }\n",
       "        else \n",
       "        {\n",
       "            document.getElementById(quiz_id + \"-submit\").value = \"Try again\";\n",
       "            \n",
       "            if (!bad_answers.has(quiz_id)) {\n",
       "                bad_answers.set(quiz_id, 1);\n",
       "            }\n",
       "            else {\n",
       "                bad_answers.set(quiz_id, bad_answers.get(quiz_id) + 1);\n",
       "            }\n",
       "\n",
       "            if (bad_answers.get(quiz_id) >= 2 && hint.length > 0) {\n",
       "                document.getElementById(quiz_id + \"-hint\").innerHTML = \n",
       "                    \"&nbsp;&nbsp;(Hint: <code>\" + hint + \"</code>)\";\n",
       "            }\n",
       "\n",
       "            if (!multiple_choice) {\n",
       "                for (i = 1;; i++) {\n",
       "                    checkbox = document.getElementById(quiz_id + \"-\" + i.toString());\n",
       "                    label = document.getElementById(quiz_id + \"-\" + i.toString() + \"-label\")\n",
       "\n",
       "                    if (!checkbox)\n",
       "                        break;\n",
       "                    if (checkbox.checked) {\n",
       "                        label.style.textDecoration = \"line-through\";\n",
       "                    }\n",
       "                }\n",
       "            }\n",
       "        }\n",
       "    }\n",
       "    function clear_selection(quiz_id) {\n",
       "        document.getElementById(quiz_id + \"-submit\").value = \"Submit\";\n",
       "        document.getElementById(quiz_id + \"-hint\").innerHTML = \"\";\n",
       "    }\n",
       "    </script>\n",
       "    \n",
       "    <div class=\"quiz\">\n",
       "    <h3 class=\"quiz_title\">Quiz</h3>\n",
       "    <p>\n",
       "    <div class=\"quiz_question\">Which of the following constraints expresses that the page size and the buffer size have to be equal? Try it out!</div>\n",
       "    </p>\n",
       "    <p>\n",
       "    <div class=\"quiz_options\" title=\"Check all that apply.\">\n",
       "    \n",
       "        <input type=\"checkbox\" name=\"4fb8902a-17c3-11ed-ad4a-6298cf1a578f\" id=\"4fb8902a-17c3-11ed-ad4a-6298cf1a578f-1\" onclick=\"clear_selection('4fb8902a-17c3-11ed-ad4a-6298cf1a578f')\">\n",
       "        <label id=\"4fb8902a-17c3-11ed-ad4a-6298cf1a578f-1-label\" for=\"4fb8902a-17c3-11ed-ad4a-6298cf1a578f-1\"><code>&lt;pagesize&gt; is &lt;bufsize&gt;</code></label><br>\n",
       "    \n",
       "        <input type=\"checkbox\" name=\"4fb8902a-17c3-11ed-ad4a-6298cf1a578f\" id=\"4fb8902a-17c3-11ed-ad4a-6298cf1a578f-2\" onclick=\"clear_selection('4fb8902a-17c3-11ed-ad4a-6298cf1a578f')\">\n",
       "        <label id=\"4fb8902a-17c3-11ed-ad4a-6298cf1a578f-2-label\" for=\"4fb8902a-17c3-11ed-ad4a-6298cf1a578f-2\"><code>str.to.int(&lt;pagesize&gt;) = str.to.int(&lt;bufsize&gt;)</code></label><br>\n",
       "    \n",
       "        <input type=\"checkbox\" name=\"4fb8902a-17c3-11ed-ad4a-6298cf1a578f\" id=\"4fb8902a-17c3-11ed-ad4a-6298cf1a578f-3\" onclick=\"clear_selection('4fb8902a-17c3-11ed-ad4a-6298cf1a578f')\">\n",
       "        <label id=\"4fb8902a-17c3-11ed-ad4a-6298cf1a578f-3-label\" for=\"4fb8902a-17c3-11ed-ad4a-6298cf1a578f-3\"><code>&lt;pagesize&gt;) = &lt;bufsize&gt;</code></label><br>\n",
       "    \n",
       "        <input type=\"checkbox\" name=\"4fb8902a-17c3-11ed-ad4a-6298cf1a578f\" id=\"4fb8902a-17c3-11ed-ad4a-6298cf1a578f-4\" onclick=\"clear_selection('4fb8902a-17c3-11ed-ad4a-6298cf1a578f')\">\n",
       "        <label id=\"4fb8902a-17c3-11ed-ad4a-6298cf1a578f-4-label\" for=\"4fb8902a-17c3-11ed-ad4a-6298cf1a578f-4\"><code>atoi(&lt;pagesize&gt;) == atoi(&lt;bufsize&gt;)</code></label><br>\n",
       "    \n",
       "    </div>\n",
       "    </p>\n",
       "    <input id=\"4fb8902a-17c3-11ed-ad4a-6298cf1a578f-submit\" type=\"submit\" value=\"Submit\" onclick=\"check_selection('4fb8902a-17c3-11ed-ad4a-6298cf1a578f', 12, 1, '[4 ** 0.5, 9 ** 0.5]')\">\n",
       "    <span class=\"quiz_hint\" id=\"4fb8902a-17c3-11ed-ad4a-6298cf1a578f-hint\"></span>\n",
       "    </div>\n",
       "    "
      ],
      "text/plain": [
       "<IPython.core.display.HTML object>"
      ]
     },
     "execution_count": 22,
     "metadata": {},
     "output_type": "execute_result"
    }
   ],
   "source": [
    "quiz(\"Which of the following constraints expresses \"\n",
    "     \"that the page size and the buffer size \"\n",
    "     \"have to be equal? Try it out!\",\n",
    "     [\n",
    "         \"`<pagesize> is <bufsize>`\",\n",
    "         \"`str.to.int(<pagesize>) = str.to.int(<bufsize>)`\",\n",
    "         \"`<pagesize>) = <bufsize>`\",\n",
    "         \"`atoi(<pagesize>) == atoi(<bufsize>)`\",\n",
    "     ], \"[4 ** 0.5, 9 ** 0.5]\")"
   ]
  },
  {
   "cell_type": "markdown",
   "id": "f863aeb2",
   "metadata": {
    "slideshow": {
     "slide_type": "fragment"
    }
   },
   "source": [
    "Indeed, ISLa constraints can also involve multiple elements. Expressing equality between two elements is easy, and uses a single equal siqn. (There's no assignment in ISLa the `=` could be confused with.)"
   ]
  },
  {
   "cell_type": "code",
   "execution_count": 23,
   "id": "8d94f485",
   "metadata": {
    "execution": {
     "iopub.execute_input": "2022-08-09T09:11:54.199322Z",
     "iopub.status.busy": "2022-08-09T09:11:54.198984Z",
     "iopub.status.idle": "2022-08-09T09:11:55.984430Z",
     "shell.execute_reply": "2022-08-09T09:11:55.985785Z"
    },
    "slideshow": {
     "slide_type": "subslide"
    }
   },
   "outputs": [
    {
     "name": "stdout",
     "output_type": "stream",
     "text": [
      "pagesize=8\n",
      "bufsize=8\n"
     ]
    }
   ],
   "source": [
    "solver = ISLaSolver(CONFIG_GRAMMAR, \n",
    "                    '''\n",
    "                    <pagesize> = <bufsize>\n",
    "                    ''')\n",
    "print(next(solver.solve()))"
   ]
  },
  {
   "cell_type": "markdown",
   "id": "ad7658fd",
   "metadata": {
    "slideshow": {
     "slide_type": "fragment"
    }
   },
   "source": [
    "We can also use numerical constraints, stating that the buffer size should always be exactly one more than the page size:"
   ]
  },
  {
   "cell_type": "code",
   "execution_count": 24,
   "id": "6f62782a",
   "metadata": {
    "execution": {
     "iopub.execute_input": "2022-08-09T09:11:55.995638Z",
     "iopub.status.busy": "2022-08-09T09:11:55.995272Z",
     "iopub.status.idle": "2022-08-09T09:11:58.288189Z",
     "shell.execute_reply": "2022-08-09T09:11:58.288428Z"
    },
    "slideshow": {
     "slide_type": "subslide"
    }
   },
   "outputs": [
    {
     "name": "stdout",
     "output_type": "stream",
     "text": [
      "pagesize=4000\n",
      "bufsize=4001\n"
     ]
    }
   ],
   "source": [
    "solver = ISLaSolver(CONFIG_GRAMMAR, \n",
    "                    '''\n",
    "                    str.to.int(<pagesize>) > 1024 and\n",
    "                    str.to.int(<bufsize>) = str.to.int(<pagesize>) + 1\n",
    "                    ''')\n",
    "print(next(solver.solve()))"
   ]
  },
  {
   "cell_type": "markdown",
   "id": "3fe9034b",
   "metadata": {
    "slideshow": {
     "slide_type": "subslide"
    }
   },
   "source": [
    "All the above functions (like `str.to.int()`) actually stem from the _SMT-LIB_ library for _satisfiability modulo theories_ (SMT), a standard for expressing constraints for constraint solvers (like ISLa).\n",
    "The [list of all theories defined in SMT-LIB](https://smtlib.cs.uiowa.edu/theories.shtml) lists dozens of functions and predicates that can be used in ISLa constraints."
   ]
  },
  {
   "cell_type": "code",
   "execution_count": 25,
   "id": "d2c0b3ad",
   "metadata": {
    "execution": {
     "iopub.execute_input": "2022-08-09T09:11:58.292143Z",
     "iopub.status.busy": "2022-08-09T09:11:58.291806Z",
     "iopub.status.idle": "2022-08-09T09:11:58.293384Z",
     "shell.execute_reply": "2022-08-09T09:11:58.293530Z"
    },
    "slideshow": {
     "slide_type": "subslide"
    }
   },
   "outputs": [
    {
     "data": {
      "text/html": [
       "\n",
       "    \n",
       "    <script>\n",
       "    var bad_answers = new Map();\n",
       "\n",
       "    function answer(quiz_id) {\n",
       "        ans = 0;\n",
       "        for (i = 1;; i++) {\n",
       "            checkbox = document.getElementById(quiz_id + \"-\" + i.toString());\n",
       "            if (!checkbox)\n",
       "                break;\n",
       "            if (checkbox.checked)\n",
       "                ans |= (1 << i);\n",
       "        }\n",
       "        return ans;\n",
       "    }\n",
       "    function check_selection(quiz_id, correct_answer, multiple_choice, hint) {\n",
       "        given_answer = answer(quiz_id);\n",
       "        if (given_answer == correct_answer)\n",
       "        {\n",
       "            document.getElementById(quiz_id + \"-submit\").value = \"Correct!\";\n",
       "            document.getElementById(quiz_id + \"-hint\").innerHTML = \"\";\n",
       "\n",
       "            for (i = 1;; i++) {\n",
       "                checkbox = document.getElementById(quiz_id + \"-\" + i.toString());\n",
       "                label = document.getElementById(quiz_id + \"-\" + i.toString() + \"-label\")\n",
       "                if (!checkbox)\n",
       "                    break;\n",
       "    \n",
       "                if (checkbox.checked) {\n",
       "                    label.style.fontWeight = \"bold\";\n",
       "                }\n",
       "                else {\n",
       "                    label.style.textDecoration = \"line-through\";\n",
       "                }\n",
       "            }\n",
       "        }\n",
       "        else \n",
       "        {\n",
       "            document.getElementById(quiz_id + \"-submit\").value = \"Try again\";\n",
       "            \n",
       "            if (!bad_answers.has(quiz_id)) {\n",
       "                bad_answers.set(quiz_id, 1);\n",
       "            }\n",
       "            else {\n",
       "                bad_answers.set(quiz_id, bad_answers.get(quiz_id) + 1);\n",
       "            }\n",
       "\n",
       "            if (bad_answers.get(quiz_id) >= 2 && hint.length > 0) {\n",
       "                document.getElementById(quiz_id + \"-hint\").innerHTML = \n",
       "                    \"&nbsp;&nbsp;(Hint: <code>\" + hint + \"</code>)\";\n",
       "            }\n",
       "\n",
       "            if (!multiple_choice) {\n",
       "                for (i = 1;; i++) {\n",
       "                    checkbox = document.getElementById(quiz_id + \"-\" + i.toString());\n",
       "                    label = document.getElementById(quiz_id + \"-\" + i.toString() + \"-label\")\n",
       "\n",
       "                    if (!checkbox)\n",
       "                        break;\n",
       "                    if (checkbox.checked) {\n",
       "                        label.style.textDecoration = \"line-through\";\n",
       "                    }\n",
       "                }\n",
       "            }\n",
       "        }\n",
       "    }\n",
       "    function clear_selection(quiz_id) {\n",
       "        document.getElementById(quiz_id + \"-submit\").value = \"Submit\";\n",
       "        document.getElementById(quiz_id + \"-hint\").innerHTML = \"\";\n",
       "    }\n",
       "    </script>\n",
       "    \n",
       "    <div class=\"quiz\">\n",
       "    <h3 class=\"quiz_title\">Quiz</h3>\n",
       "    <p>\n",
       "    <div class=\"quiz_question\">Which constraints are necessary to ensure that all digits are between 1 and 3?</div>\n",
       "    </p>\n",
       "    <p>\n",
       "    <div class=\"quiz_options\" title=\"Check all that apply.\">\n",
       "    \n",
       "        <input type=\"checkbox\" name=\"5229f696-17c3-11ed-ad4a-6298cf1a578f\" id=\"5229f696-17c3-11ed-ad4a-6298cf1a578f-1\" onclick=\"clear_selection('5229f696-17c3-11ed-ad4a-6298cf1a578f')\">\n",
       "        <label id=\"5229f696-17c3-11ed-ad4a-6298cf1a578f-1-label\" for=\"5229f696-17c3-11ed-ad4a-6298cf1a578f-1\"><code>str.to.int(&lt;digit&gt;) &gt;= 1</code></label><br>\n",
       "    \n",
       "        <input type=\"checkbox\" name=\"5229f696-17c3-11ed-ad4a-6298cf1a578f\" id=\"5229f696-17c3-11ed-ad4a-6298cf1a578f-2\" onclick=\"clear_selection('5229f696-17c3-11ed-ad4a-6298cf1a578f')\">\n",
       "        <label id=\"5229f696-17c3-11ed-ad4a-6298cf1a578f-2-label\" for=\"5229f696-17c3-11ed-ad4a-6298cf1a578f-2\"><code>str.to.int(&lt;digit&gt;) &lt;= 3</code></label><br>\n",
       "    \n",
       "        <input type=\"checkbox\" name=\"5229f696-17c3-11ed-ad4a-6298cf1a578f\" id=\"5229f696-17c3-11ed-ad4a-6298cf1a578f-3\" onclick=\"clear_selection('5229f696-17c3-11ed-ad4a-6298cf1a578f')\">\n",
       "        <label id=\"5229f696-17c3-11ed-ad4a-6298cf1a578f-3-label\" for=\"5229f696-17c3-11ed-ad4a-6298cf1a578f-3\"><code>str.to.int(&lt;leaddigit&gt;) &gt;= 1</code></label><br>\n",
       "    \n",
       "        <input type=\"checkbox\" name=\"5229f696-17c3-11ed-ad4a-6298cf1a578f\" id=\"5229f696-17c3-11ed-ad4a-6298cf1a578f-4\" onclick=\"clear_selection('5229f696-17c3-11ed-ad4a-6298cf1a578f')\">\n",
       "        <label id=\"5229f696-17c3-11ed-ad4a-6298cf1a578f-4-label\" for=\"5229f696-17c3-11ed-ad4a-6298cf1a578f-4\"><code>str.to.int(&lt;leaddigit&gt;) &lt;= 3</code></label><br>\n",
       "    \n",
       "    </div>\n",
       "    </p>\n",
       "    <input id=\"5229f696-17c3-11ed-ad4a-6298cf1a578f-submit\" type=\"submit\" value=\"Submit\" onclick=\"check_selection('5229f696-17c3-11ed-ad4a-6298cf1a578f', 22, 1, '[1 ** 0, 4 ** 0.5, 16 ** 0.5]')\">\n",
       "    <span class=\"quiz_hint\" id=\"5229f696-17c3-11ed-ad4a-6298cf1a578f-hint\"></span>\n",
       "    </div>\n",
       "    "
      ],
      "text/plain": [
       "<IPython.core.display.HTML object>"
      ]
     },
     "execution_count": 25,
     "metadata": {},
     "output_type": "execute_result"
    }
   ],
   "source": [
    "quiz(\"Which constraints are necessary to \"\n",
    "     \"ensure that all digits are between 1 and 3?\",\n",
    "     [\n",
    "         \"`str.to.int(<digit>) >= 1`\",\n",
    "         \"`str.to.int(<digit>) <= 3`\",\n",
    "         \"`str.to.int(<leaddigit>) >= 1`\",\n",
    "         \"`str.to.int(<leaddigit>) <= 3`\",\n",
    "     ], \"[1 ** 0, 4 ** 0.5, 16 ** 0.5]\")"
   ]
  },
  {
   "cell_type": "markdown",
   "id": "63565c2d",
   "metadata": {
    "slideshow": {
     "slide_type": "subslide"
    },
    "tags": []
   },
   "source": [
    "### Excursion: Using SMT-LIB Syntax"
   ]
  },
  {
   "cell_type": "markdown",
   "id": "0f04e42c",
   "metadata": {
    "slideshow": {
     "slide_type": "fragment"
    }
   },
   "source": [
    "Instead of the above \"infix\" syntax which is familiar to programmers, ISLa also supports full SMT-LIB syntax.\n",
    "Instead of writing $f(x_1, x_2, x_3, \\dots)$ for a function $f$ and its arguments $x_1 \\dots x_n$, SMT-LIB uses a \"prefix\" LISP-like syntax in which all functions and operators are written as $(f x_1 x_2 x_3 \\dots)$.\n",
    "The above predicate would thus be written as"
   ]
  },
  {
   "cell_type": "code",
   "execution_count": 26,
   "id": "bbe79723",
   "metadata": {
    "execution": {
     "iopub.execute_input": "2022-08-09T09:11:58.298152Z",
     "iopub.status.busy": "2022-08-09T09:11:58.297772Z",
     "iopub.status.idle": "2022-08-09T09:12:00.580670Z",
     "shell.execute_reply": "2022-08-09T09:12:00.580845Z"
    },
    "slideshow": {
     "slide_type": "subslide"
    }
   },
   "outputs": [
    {
     "name": "stdout",
     "output_type": "stream",
     "text": [
      "pagesize=9189\n",
      "bufsize=9190\n"
     ]
    }
   ],
   "source": [
    "solver = ISLaSolver(CONFIG_GRAMMAR, \n",
    "                '''\n",
    "                (and\n",
    "                  (> (str.to.int <pagesize>) 1024)\n",
    "                  (= (str.to.int <bufsize>)\n",
    "                     (+ (str.to.int <pagesize>) 1)))\n",
    "                ''')\n",
    "print(next(solver.solve()))"
   ]
  },
  {
   "cell_type": "markdown",
   "id": "c28b7d73",
   "metadata": {
    "slideshow": {
     "slide_type": "fragment"
    }
   },
   "source": [
    "Note that for boolean operators such as `and`, we still use the ISLa infix syntax; having ISLa handle these operators is more efficient than passing them on to the constraint solver."
   ]
  },
  {
   "cell_type": "markdown",
   "id": "27156f09",
   "metadata": {
    "slideshow": {
     "slide_type": "subslide"
    }
   },
   "source": [
    "### End of Excursion"
   ]
  },
  {
   "cell_type": "markdown",
   "id": "fcf359da",
   "metadata": {
    "slideshow": {
     "slide_type": "slide"
    },
    "tags": []
   },
   "source": [
    "## Accessing Elements"
   ]
  },
  {
   "cell_type": "markdown",
   "id": "fef0bfb9",
   "metadata": {
    "slideshow": {
     "slide_type": "fragment"
    }
   },
   "source": [
    "So far, we have accessed nonterminals simply by referencing their name, as in `<bufsize>` or `<pagesize>`.\n",
    "However, in some cases, this simple method is not sufficient.\n",
    "In our configuration grammar, for instance, we may want to access (or constrain) `<int>` elements.\n",
    "However, we do not want to constrain _all_ integers at once, but only those in a particular _context_ – say, those that occur as a part of a `<pagesize>` element, or only those that occur as part of a `<config>` element."
   ]
  },
  {
   "cell_type": "markdown",
   "id": "c031c671",
   "metadata": {
    "slideshow": {
     "slide_type": "fragment"
    }
   },
   "source": [
    "To this end, ISLa allows to reference _parts_ of a given element, using two special operators."
   ]
  },
  {
   "cell_type": "markdown",
   "id": "fb62d267",
   "metadata": {
    "slideshow": {
     "slide_type": "subslide"
    }
   },
   "source": [
    "The expression `<a>.<b>` refers to the _immediate_ subpart `<b>` of some element `<a>`.\n",
    "That is, `<b>` has to appear in one of the expansion rules of `<a>`.\n",
    "For instance, `<pagesize>.<int>` refers to the `<int>` element of a page size.\n",
    "Here is an example using the dot operator:"
   ]
  },
  {
   "cell_type": "code",
   "execution_count": 27,
   "id": "44671d25",
   "metadata": {
    "execution": {
     "iopub.execute_input": "2022-08-09T09:12:00.585371Z",
     "iopub.status.busy": "2022-08-09T09:12:00.585100Z",
     "iopub.status.idle": "2022-08-09T09:12:01.510174Z",
     "shell.execute_reply": "2022-08-09T09:12:01.510413Z"
    },
    "slideshow": {
     "slide_type": "fragment"
    }
   },
   "outputs": [
    {
     "name": "stdout",
     "output_type": "stream",
     "text": [
      "pagesize=8\n",
      "bufsize=8\n"
     ]
    }
   ],
   "source": [
    "solver = ISLaSolver(CONFIG_GRAMMAR, \n",
    "                '''\n",
    "                <pagesize>.<int> = <bufsize>.<int>\n",
    "                ''')\n",
    "print(next(solver.solve()))"
   ]
  },
  {
   "cell_type": "markdown",
   "id": "a1c08932",
   "metadata": {
    "slideshow": {
     "slide_type": "subslide"
    }
   },
   "source": [
    "The expression `<a>..<b>`, however, refers to _any_ subpart `<b>` of some element `<a>`. That is, `<b>` can appear in the expansion of `<a>`, but also in the expansion of any subelement (and any subelement thereof).\n",
    "Here is an example using the double dot operator, enforcing _every_ digit in a `<config>` element to be `7`:"
   ]
  },
  {
   "cell_type": "code",
   "execution_count": 28,
   "id": "942ed25a",
   "metadata": {
    "execution": {
     "iopub.execute_input": "2022-08-09T09:12:01.512265Z",
     "iopub.status.busy": "2022-08-09T09:12:01.511981Z",
     "iopub.status.idle": "2022-08-09T09:12:01.513500Z",
     "shell.execute_reply": "2022-08-09T09:12:01.513670Z"
    },
    "slideshow": {
     "slide_type": "skip"
    }
   },
   "outputs": [],
   "source": [
    "from ExpectError import ExpectError"
   ]
  },
  {
   "cell_type": "code",
   "execution_count": 29,
   "id": "9d75a50b",
   "metadata": {
    "execution": {
     "iopub.execute_input": "2022-08-09T09:12:01.517516Z",
     "iopub.status.busy": "2022-08-09T09:12:01.517234Z",
     "iopub.status.idle": "2022-08-09T09:12:01.521876Z",
     "shell.execute_reply": "2022-08-09T09:12:01.522054Z"
    },
    "slideshow": {
     "slide_type": "subslide"
    }
   },
   "outputs": [
    {
     "name": "stderr",
     "output_type": "stream",
     "text": [
      "Traceback (most recent call last):\n",
      "  File \"/var/folders/n2/xd9445p97rb3xh7m1dfx8_4h0006ts/T/ipykernel_24754/2177507368.py\", line 2, in <module>\n",
      "    solver = ISLaSolver(CONFIG_GRAMMAR,\n",
      "  File \"/Users/zeller/.pyenv/versions/3.10.2/lib/python3.10/site-packages/isla/solver.py\", line 253, in __init__\n",
      "    formula = parse_isla(formula, grammar, structural_predicates, semantic_predicates)\n",
      "  File \"/Users/zeller/.pyenv/versions/3.10.2/lib/python3.10/site-packages/isla/language.py\", line 2708, in parse_isla\n",
      "    antlr4.ParseTreeWalker().walk(isla_emitter, parser.start())\n",
      "  File \"/Users/zeller/.pyenv/versions/3.10.2/lib/python3.10/site-packages/antlr4/tree/Tree.py\", line 161, in walk\n",
      "    self.exitRule(listener, t)\n",
      "  File \"/Users/zeller/.pyenv/versions/3.10.2/lib/python3.10/site-packages/antlr4/tree/Tree.py\", line 188, in exitRule\n",
      "    ctx.exitRule(listener)\n",
      "  File \"/Users/zeller/.pyenv/versions/3.10.2/lib/python3.10/site-packages/isla/isla_language/IslaLanguageParser.py\", line 205, in exitRule\n",
      "    listener.exitStart(self)\n",
      "  File \"/Users/zeller/.pyenv/versions/3.10.2/lib/python3.10/site-packages/isla/language.py\", line 2411, in exitStart\n",
      "    self.close_over_xpath_expressions(\n",
      "  File \"/Users/zeller/.pyenv/versions/3.10.2/lib/python3.10/site-packages/isla/language.py\", line 2286, in close_over_xpath_expressions\n",
      "    assert all(len(xpath_segments) == 1 for xpath_segments, _ in group), 'The .. axis is not yet supported'\n",
      "AssertionError: The .. axis is not yet supported (expected)\n"
     ]
    }
   ],
   "source": [
    "with ExpectError():\n",
    "    solver = ISLaSolver(CONFIG_GRAMMAR, \n",
    "                '''\n",
    "                <config>..<digit> = \"7\"\n",
    "                ''')\n",
    "    print(next(solver.solve()))"
   ]
  },
  {
   "cell_type": "markdown",
   "id": "447bdd52",
   "metadata": {
    "slideshow": {
     "slide_type": "subslide"
    }
   },
   "source": [
    "To reason about dots and double dots, it helps visualizing the string in question as a _derivation tree_ discussed in the [chapter on grammar-based fuzzing](GrammarFuzzer.ipynb).\n",
    "The derivation tree of the input \n",
    "```\n",
    "pagesize=12\n",
    "bufsize=34\n",
    "```\n",
    "for instance, looks like this:"
   ]
  },
  {
   "cell_type": "code",
   "execution_count": 30,
   "id": "59b5933d",
   "metadata": {
    "execution": {
     "iopub.execute_input": "2022-08-09T09:12:01.523904Z",
     "iopub.status.busy": "2022-08-09T09:12:01.523632Z",
     "iopub.status.idle": "2022-08-09T09:12:01.579408Z",
     "shell.execute_reply": "2022-08-09T09:12:01.579578Z"
    },
    "slideshow": {
     "slide_type": "fragment"
    }
   },
   "outputs": [],
   "source": [
    "# ignore\n",
    "from Parser import EarleyParser  # minor dependency\n",
    "from GrammarFuzzer import display_tree"
   ]
  },
  {
   "cell_type": "code",
   "execution_count": 31,
   "id": "9132892f",
   "metadata": {
    "execution": {
     "iopub.execute_input": "2022-08-09T09:12:01.586336Z",
     "iopub.status.busy": "2022-08-09T09:12:01.585907Z",
     "iopub.status.idle": "2022-08-09T09:12:01.902671Z",
     "shell.execute_reply": "2022-08-09T09:12:01.902951Z"
    },
    "slideshow": {
     "slide_type": "subslide"
    }
   },
   "outputs": [
    {
     "data": {
      "image/svg+xml": [
       "<?xml version=\"1.0\" encoding=\"UTF-8\" standalone=\"no\"?>\n",
       "<!DOCTYPE svg PUBLIC \"-//W3C//DTD SVG 1.1//EN\"\n",
       " \"http://www.w3.org/Graphics/SVG/1.1/DTD/svg11.dtd\">\n",
       "<!-- Generated by graphviz version 5.0.0 (20220707.1540)\n",
       " -->\n",
       "<!-- Pages: 1 -->\n",
       "<svg width=\"408pt\" height=\"329pt\"\n",
       " viewBox=\"0.00 0.00 408.00 329.00\" xmlns=\"http://www.w3.org/2000/svg\" xmlns:xlink=\"http://www.w3.org/1999/xlink\">\n",
       "<g id=\"graph0\" class=\"graph\" transform=\"scale(1 1) rotate(0) translate(4 325)\">\n",
       "<polygon fill=\"white\" stroke=\"transparent\" points=\"-4,4 -4,-325 404,-325 404,4 -4,4\"/>\n",
       "<!-- 0 -->\n",
       "<g id=\"node1\" class=\"node\">\n",
       "<title>0</title>\n",
       "<text text-anchor=\"middle\" x=\"144.5\" y=\"-309.8\" font-family=\"Times,serif\" font-size=\"14.00\">&lt;start&gt;</text>\n",
       "</g>\n",
       "<!-- 1 -->\n",
       "<g id=\"node2\" class=\"node\">\n",
       "<title>1</title>\n",
       "<text text-anchor=\"middle\" x=\"144.5\" y=\"-258.8\" font-family=\"Times,serif\" font-size=\"14.00\">&lt;config&gt;</text>\n",
       "</g>\n",
       "<!-- 0&#45;&gt;1 -->\n",
       "<g id=\"edge1\" class=\"edge\">\n",
       "<title>0&#45;&gt;1</title>\n",
       "<path fill=\"none\" stroke=\"black\" d=\"M144.5,-305.69C144.5,-299.18 144.5,-289.1 144.5,-280.43\"/>\n",
       "<polygon fill=\"black\" stroke=\"black\" points=\"148,-280.26 144.5,-270.26 141,-280.26 148,-280.26\"/>\n",
       "</g>\n",
       "<!-- 2 -->\n",
       "<g id=\"node3\" class=\"node\">\n",
       "<title>2</title>\n",
       "<text text-anchor=\"middle\" x=\"27.5\" y=\"-207.8\" font-family=\"Times,serif\" font-size=\"14.00\">pagesize=</text>\n",
       "</g>\n",
       "<!-- 1&#45;&gt;2 -->\n",
       "<g id=\"edge2\" class=\"edge\">\n",
       "<title>1&#45;&gt;2</title>\n",
       "<path fill=\"none\" stroke=\"black\" d=\"M128.72,-254.89C109.16,-246.7 75.59,-232.64 52.51,-222.97\"/>\n",
       "<polygon fill=\"black\" stroke=\"black\" points=\"53.6,-219.64 43.03,-219 50.9,-226.09 53.6,-219.64\"/>\n",
       "</g>\n",
       "<!-- 3 -->\n",
       "<g id=\"node4\" class=\"node\">\n",
       "<title>3</title>\n",
       "<text text-anchor=\"middle\" x=\"105.5\" y=\"-207.8\" font-family=\"Times,serif\" font-size=\"14.00\">&lt;pagesize&gt;</text>\n",
       "</g>\n",
       "<!-- 1&#45;&gt;3 -->\n",
       "<g id=\"edge3\" class=\"edge\">\n",
       "<title>1&#45;&gt;3</title>\n",
       "<path fill=\"none\" stroke=\"black\" d=\"M139.08,-254.69C133.43,-247.59 124.41,-236.26 117.14,-227.13\"/>\n",
       "<polygon fill=\"black\" stroke=\"black\" points=\"119.84,-224.9 110.88,-219.26 114.37,-229.26 119.84,-224.9\"/>\n",
       "</g>\n",
       "<!-- 11 -->\n",
       "<g id=\"node12\" class=\"node\">\n",
       "<title>11</title>\n",
       "<text text-anchor=\"middle\" x=\"184.5\" y=\"-207.8\" font-family=\"Times,serif\" font-size=\"14.00\">\\nbufsize=</text>\n",
       "</g>\n",
       "<!-- 1&#45;&gt;11 -->\n",
       "<g id=\"edge11\" class=\"edge\">\n",
       "<title>1&#45;&gt;11</title>\n",
       "<path fill=\"none\" stroke=\"black\" d=\"M150.06,-254.69C155.85,-247.59 165.1,-236.26 172.56,-227.13\"/>\n",
       "<polygon fill=\"black\" stroke=\"black\" points=\"175.37,-229.22 178.99,-219.26 169.95,-224.79 175.37,-229.22\"/>\n",
       "</g>\n",
       "<!-- 12 -->\n",
       "<g id=\"node13\" class=\"node\">\n",
       "<title>12</title>\n",
       "<text text-anchor=\"middle\" x=\"259.5\" y=\"-207.8\" font-family=\"Times,serif\" font-size=\"14.00\">&lt;bufsize&gt;</text>\n",
       "</g>\n",
       "<!-- 1&#45;&gt;12 -->\n",
       "<g id=\"edge12\" class=\"edge\">\n",
       "<title>1&#45;&gt;12</title>\n",
       "<path fill=\"none\" stroke=\"black\" d=\"M160.01,-254.89C179.24,-246.7 212.23,-232.64 234.92,-222.97\"/>\n",
       "<polygon fill=\"black\" stroke=\"black\" points=\"236.41,-226.14 244.24,-219 233.66,-219.7 236.41,-226.14\"/>\n",
       "</g>\n",
       "<!-- 4 -->\n",
       "<g id=\"node5\" class=\"node\">\n",
       "<title>4</title>\n",
       "<text text-anchor=\"middle\" x=\"105.5\" y=\"-156.8\" font-family=\"Times,serif\" font-size=\"14.00\">&lt;int&gt;</text>\n",
       "</g>\n",
       "<!-- 3&#45;&gt;4 -->\n",
       "<g id=\"edge4\" class=\"edge\">\n",
       "<title>3&#45;&gt;4</title>\n",
       "<path fill=\"none\" stroke=\"black\" d=\"M105.5,-203.69C105.5,-197.18 105.5,-187.1 105.5,-178.43\"/>\n",
       "<polygon fill=\"black\" stroke=\"black\" points=\"109,-178.26 105.5,-168.26 102,-178.26 109,-178.26\"/>\n",
       "</g>\n",
       "<!-- 5 -->\n",
       "<g id=\"node6\" class=\"node\">\n",
       "<title>5</title>\n",
       "<text text-anchor=\"middle\" x=\"91.5\" y=\"-105.8\" font-family=\"Times,serif\" font-size=\"14.00\">&lt;leaddigit&gt;</text>\n",
       "</g>\n",
       "<!-- 4&#45;&gt;5 -->\n",
       "<g id=\"edge5\" class=\"edge\">\n",
       "<title>4&#45;&gt;5</title>\n",
       "<path fill=\"none\" stroke=\"black\" d=\"M103.55,-152.69C101.67,-146.1 98.75,-135.87 96.25,-127.14\"/>\n",
       "<polygon fill=\"black\" stroke=\"black\" points=\"99.54,-125.91 93.43,-117.26 92.81,-127.83 99.54,-125.91\"/>\n",
       "</g>\n",
       "<!-- 7 -->\n",
       "<g id=\"node8\" class=\"node\">\n",
       "<title>7</title>\n",
       "<text text-anchor=\"middle\" x=\"165.5\" y=\"-105.8\" font-family=\"Times,serif\" font-size=\"14.00\">&lt;digits&gt;</text>\n",
       "</g>\n",
       "<!-- 4&#45;&gt;7 -->\n",
       "<g id=\"edge7\" class=\"edge\">\n",
       "<title>4&#45;&gt;7</title>\n",
       "<path fill=\"none\" stroke=\"black\" d=\"M113.84,-152.69C122.98,-145.23 137.85,-133.08 149.29,-123.73\"/>\n",
       "<polygon fill=\"black\" stroke=\"black\" points=\"151.7,-126.29 157.23,-117.26 147.27,-120.87 151.7,-126.29\"/>\n",
       "</g>\n",
       "<!-- 6 -->\n",
       "<g id=\"node7\" class=\"node\">\n",
       "<title>6</title>\n",
       "<text text-anchor=\"middle\" x=\"91.5\" y=\"-54.8\" font-family=\"Times,serif\" font-size=\"14.00\">1</text>\n",
       "</g>\n",
       "<!-- 5&#45;&gt;6 -->\n",
       "<g id=\"edge6\" class=\"edge\">\n",
       "<title>5&#45;&gt;6</title>\n",
       "<path fill=\"none\" stroke=\"black\" d=\"M91.5,-101.69C91.5,-95.18 91.5,-85.1 91.5,-76.43\"/>\n",
       "<polygon fill=\"black\" stroke=\"black\" points=\"95,-76.26 91.5,-66.26 88,-76.26 95,-76.26\"/>\n",
       "</g>\n",
       "<!-- 8 -->\n",
       "<g id=\"node9\" class=\"node\">\n",
       "<title>8</title>\n",
       "<text text-anchor=\"middle\" x=\"139.5\" y=\"-54.8\" font-family=\"Times,serif\" font-size=\"14.00\">&lt;digit&gt;</text>\n",
       "</g>\n",
       "<!-- 7&#45;&gt;8 -->\n",
       "<g id=\"edge8\" class=\"edge\">\n",
       "<title>7&#45;&gt;8</title>\n",
       "<path fill=\"none\" stroke=\"black\" d=\"M161.88,-101.69C158.28,-94.88 152.6,-84.19 147.87,-75.27\"/>\n",
       "<polygon fill=\"black\" stroke=\"black\" points=\"150.86,-73.45 143.08,-66.26 144.68,-76.73 150.86,-73.45\"/>\n",
       "</g>\n",
       "<!-- 10 -->\n",
       "<g id=\"node11\" class=\"node\">\n",
       "<title>10</title>\n",
       "<text text-anchor=\"middle\" x=\"202.5\" y=\"-54.8\" font-family=\"Times,serif\" font-size=\"14.00\">&lt;digits&gt;</text>\n",
       "</g>\n",
       "<!-- 7&#45;&gt;10 -->\n",
       "<g id=\"edge10\" class=\"edge\">\n",
       "<title>7&#45;&gt;10</title>\n",
       "<path fill=\"none\" stroke=\"black\" d=\"M170.64,-101.69C175.95,-94.67 184.38,-83.49 191.24,-74.41\"/>\n",
       "<polygon fill=\"black\" stroke=\"black\" points=\"194.17,-76.34 197.4,-66.26 188.58,-72.13 194.17,-76.34\"/>\n",
       "</g>\n",
       "<!-- 9 -->\n",
       "<g id=\"node10\" class=\"node\">\n",
       "<title>9</title>\n",
       "<text text-anchor=\"middle\" x=\"139.5\" y=\"-3.8\" font-family=\"Times,serif\" font-size=\"14.00\">2</text>\n",
       "</g>\n",
       "<!-- 8&#45;&gt;9 -->\n",
       "<g id=\"edge9\" class=\"edge\">\n",
       "<title>8&#45;&gt;9</title>\n",
       "<path fill=\"none\" stroke=\"black\" d=\"M139.5,-50.69C139.5,-44.18 139.5,-34.1 139.5,-25.43\"/>\n",
       "<polygon fill=\"black\" stroke=\"black\" points=\"143,-25.26 139.5,-15.26 136,-25.26 143,-25.26\"/>\n",
       "</g>\n",
       "<!-- 13 -->\n",
       "<g id=\"node14\" class=\"node\">\n",
       "<title>13</title>\n",
       "<text text-anchor=\"middle\" x=\"259.5\" y=\"-156.8\" font-family=\"Times,serif\" font-size=\"14.00\">&lt;int&gt;</text>\n",
       "</g>\n",
       "<!-- 12&#45;&gt;13 -->\n",
       "<g id=\"edge13\" class=\"edge\">\n",
       "<title>12&#45;&gt;13</title>\n",
       "<path fill=\"none\" stroke=\"black\" d=\"M259.5,-203.69C259.5,-197.18 259.5,-187.1 259.5,-178.43\"/>\n",
       "<polygon fill=\"black\" stroke=\"black\" points=\"263,-178.26 259.5,-168.26 256,-178.26 263,-178.26\"/>\n",
       "</g>\n",
       "<!-- 14 -->\n",
       "<g id=\"node15\" class=\"node\">\n",
       "<title>14</title>\n",
       "<text text-anchor=\"middle\" x=\"255.5\" y=\"-105.8\" font-family=\"Times,serif\" font-size=\"14.00\">&lt;leaddigit&gt;</text>\n",
       "</g>\n",
       "<!-- 13&#45;&gt;14 -->\n",
       "<g id=\"edge14\" class=\"edge\">\n",
       "<title>13&#45;&gt;14</title>\n",
       "<path fill=\"none\" stroke=\"black\" d=\"M258.94,-152.69C258.41,-146.18 257.59,-136.1 256.88,-127.43\"/>\n",
       "<polygon fill=\"black\" stroke=\"black\" points=\"260.35,-126.94 256.05,-117.26 253.38,-127.51 260.35,-126.94\"/>\n",
       "</g>\n",
       "<!-- 16 -->\n",
       "<g id=\"node17\" class=\"node\">\n",
       "<title>16</title>\n",
       "<text text-anchor=\"middle\" x=\"329.5\" y=\"-105.8\" font-family=\"Times,serif\" font-size=\"14.00\">&lt;digits&gt;</text>\n",
       "</g>\n",
       "<!-- 13&#45;&gt;16 -->\n",
       "<g id=\"edge16\" class=\"edge\">\n",
       "<title>13&#45;&gt;16</title>\n",
       "<path fill=\"none\" stroke=\"black\" d=\"M268.94,-152.89C279.86,-145.25 298.06,-132.5 311.67,-122.98\"/>\n",
       "<polygon fill=\"black\" stroke=\"black\" points=\"314.02,-125.61 320.21,-117 310.01,-119.87 314.02,-125.61\"/>\n",
       "</g>\n",
       "<!-- 15 -->\n",
       "<g id=\"node16\" class=\"node\">\n",
       "<title>15</title>\n",
       "<text text-anchor=\"middle\" x=\"255.5\" y=\"-54.8\" font-family=\"Times,serif\" font-size=\"14.00\">3</text>\n",
       "</g>\n",
       "<!-- 14&#45;&gt;15 -->\n",
       "<g id=\"edge15\" class=\"edge\">\n",
       "<title>14&#45;&gt;15</title>\n",
       "<path fill=\"none\" stroke=\"black\" d=\"M255.5,-101.69C255.5,-95.18 255.5,-85.1 255.5,-76.43\"/>\n",
       "<polygon fill=\"black\" stroke=\"black\" points=\"259,-76.26 255.5,-66.26 252,-76.26 259,-76.26\"/>\n",
       "</g>\n",
       "<!-- 17 -->\n",
       "<g id=\"node18\" class=\"node\">\n",
       "<title>17</title>\n",
       "<text text-anchor=\"middle\" x=\"313.5\" y=\"-54.8\" font-family=\"Times,serif\" font-size=\"14.00\">&lt;digit&gt;</text>\n",
       "</g>\n",
       "<!-- 16&#45;&gt;17 -->\n",
       "<g id=\"edge17\" class=\"edge\">\n",
       "<title>16&#45;&gt;17</title>\n",
       "<path fill=\"none\" stroke=\"black\" d=\"M327.28,-101.69C325.1,-95.03 321.71,-84.65 318.84,-75.85\"/>\n",
       "<polygon fill=\"black\" stroke=\"black\" points=\"322.14,-74.68 315.71,-66.26 315.48,-76.85 322.14,-74.68\"/>\n",
       "</g>\n",
       "<!-- 19 -->\n",
       "<g id=\"node20\" class=\"node\">\n",
       "<title>19</title>\n",
       "<text text-anchor=\"middle\" x=\"376.5\" y=\"-54.8\" font-family=\"Times,serif\" font-size=\"14.00\">&lt;digits&gt;</text>\n",
       "</g>\n",
       "<!-- 16&#45;&gt;19 -->\n",
       "<g id=\"edge19\" class=\"edge\">\n",
       "<title>16&#45;&gt;19</title>\n",
       "<path fill=\"none\" stroke=\"black\" d=\"M336.04,-101.69C342.98,-94.45 354.16,-82.79 363.01,-73.57\"/>\n",
       "<polygon fill=\"black\" stroke=\"black\" points=\"365.62,-75.9 370.02,-66.26 360.57,-71.05 365.62,-75.9\"/>\n",
       "</g>\n",
       "<!-- 18 -->\n",
       "<g id=\"node19\" class=\"node\">\n",
       "<title>18</title>\n",
       "<text text-anchor=\"middle\" x=\"313.5\" y=\"-3.8\" font-family=\"Times,serif\" font-size=\"14.00\">4</text>\n",
       "</g>\n",
       "<!-- 17&#45;&gt;18 -->\n",
       "<g id=\"edge18\" class=\"edge\">\n",
       "<title>17&#45;&gt;18</title>\n",
       "<path fill=\"none\" stroke=\"black\" d=\"M313.5,-50.69C313.5,-44.18 313.5,-34.1 313.5,-25.43\"/>\n",
       "<polygon fill=\"black\" stroke=\"black\" points=\"317,-25.26 313.5,-15.26 310,-25.26 317,-25.26\"/>\n",
       "</g>\n",
       "</g>\n",
       "</svg>\n"
      ],
      "text/plain": [
       "<graphviz.graphs.Digraph at 0x11fd317e0>"
      ]
     },
     "execution_count": 31,
     "metadata": {},
     "output_type": "execute_result"
    }
   ],
   "source": [
    "# ignore\n",
    "inp = 'pagesize=12\\nbufsize=34'\n",
    "parser = EarleyParser(CONFIG_GRAMMAR)\n",
    "tree = next(parser.parse(inp))\n",
    "display_tree(tree)"
   ]
  },
  {
   "cell_type": "markdown",
   "id": "09303e40",
   "metadata": {
    "slideshow": {
     "slide_type": "fragment"
    }
   },
   "source": [
    "In this tree, the `.` syntax refers to _immediate_ children. `<bufsize>.<int>` is the one `<int>` node that is the immediate descendant of `<bufsize>` (but not any other `<int>` node).\n",
    "In contrast, `<config>..<digit>` refers to _all_ `<digit>` descendants of the `<config>` node."
   ]
  },
  {
   "cell_type": "markdown",
   "id": "d0499b87",
   "metadata": {
    "slideshow": {
     "slide_type": "subslide"
    }
   },
   "source": [
    "If an element has multiple *immediate* children of the same type, one can use the special `<a>[$n$]` syntax to access the $n$-th child of type `<a>`. To access the first child, $n$ is equal to one, not zero, as in the [XPath abbreviated syntax](https://www.w3.org/TR/1999/REC-xpath-19991116/#path-abbrev). In our configuration grammar, there is no expansion including the same nonterminal more than once, so we do not need this feature.\n",
    "\n",
    "For a demonstration of indexed dots, consider the following grammar, which produces lines of three \"a\" or \"b\" characters:"
   ]
  },
  {
   "cell_type": "code",
   "execution_count": 32,
   "id": "bc2d3bc1-6bc5-4263-98e1-34bd8ce74ef5",
   "metadata": {
    "execution": {
     "iopub.execute_input": "2022-08-09T09:12:01.905476Z",
     "iopub.status.busy": "2022-08-09T09:12:01.905179Z",
     "iopub.status.idle": "2022-08-09T09:12:01.906355Z",
     "shell.execute_reply": "2022-08-09T09:12:01.906602Z"
    },
    "slideshow": {
     "slide_type": "fragment"
    }
   },
   "outputs": [],
   "source": [
    "LINES_OF_THREE_AS_OR_BS_GRAMMAR: Grammar = {\n",
    "    '<start>': ['<A>'],\n",
    "    '<A>': ['<B><B><B>', '<B><B><B>\\n<A>'],\n",
    "    '<B>': ['a', 'b']\n",
    "}"
   ]
  },
  {
   "cell_type": "code",
   "execution_count": 33,
   "id": "f8854080-828a-4964-b10e-6446a233704d",
   "metadata": {
    "execution": {
     "iopub.execute_input": "2022-08-09T09:12:01.910342Z",
     "iopub.status.busy": "2022-08-09T09:12:01.910005Z",
     "iopub.status.idle": "2022-08-09T09:12:01.911092Z",
     "shell.execute_reply": "2022-08-09T09:12:01.911276Z"
    },
    "slideshow": {
     "slide_type": "subslide"
    }
   },
   "outputs": [
    {
     "name": "stdout",
     "output_type": "stream",
     "text": [
      "aba\n",
      "baa\n",
      "aba\n",
      "aba\n",
      "bba\n",
      "\n",
      "bab\n",
      "\n",
      "bbb\n",
      "bbb\n",
      "\n",
      "bab\n",
      "aba\n",
      "\n",
      "aab\n",
      "aaa\n",
      "bbb\n",
      "aba\n",
      "\n"
     ]
    }
   ],
   "source": [
    "fuzzer = GrammarFuzzer(LINES_OF_THREE_AS_OR_BS_GRAMMAR)\n",
    "for _ in range(5):\n",
    "    print(fuzzer.fuzz())\n",
    "    print()"
   ]
  },
  {
   "cell_type": "markdown",
   "id": "17c97d39-c2f4-4865-be3f-6da2f6a883ed",
   "metadata": {
    "slideshow": {
     "slide_type": "subslide"
    }
   },
   "source": [
    "We can force, say, the second character in a line to always be a \"b:\""
   ]
  },
  {
   "cell_type": "code",
   "execution_count": 34,
   "id": "deec24f2",
   "metadata": {
    "execution": {
     "iopub.execute_input": "2022-08-09T09:12:01.914768Z",
     "iopub.status.busy": "2022-08-09T09:12:01.914461Z",
     "iopub.status.idle": "2022-08-09T09:12:02.707013Z",
     "shell.execute_reply": "2022-08-09T09:12:02.707202Z"
    },
    "slideshow": {
     "slide_type": "subslide"
    }
   },
   "outputs": [
    {
     "name": "stdout",
     "output_type": "stream",
     "text": [
      "abb\n",
      "aba\n",
      "\n",
      "bbb\n",
      "aba\n",
      "\n",
      "bbb\n",
      "bbb\n",
      "\n",
      "bba\n",
      "bba\n",
      "\n",
      "abb\n",
      "bba\n",
      "\n"
     ]
    }
   ],
   "source": [
    "solver = ISLaSolver(LINES_OF_THREE_AS_OR_BS_GRAMMAR, \n",
    "            '''\n",
    "            <A>.<B>[2] = \"b\"\n",
    "            ''')\n",
    "\n",
    "for solution in itertools.islice(solver.solve(), 5):\n",
    "    print(solution)\n",
    "    print()"
   ]
  },
  {
   "cell_type": "markdown",
   "id": "31ab7ada",
   "metadata": {
    "slideshow": {
     "slide_type": "slide"
    }
   },
   "source": [
    "## Quantifiers"
   ]
  },
  {
   "cell_type": "markdown",
   "id": "83d5b6c4",
   "metadata": {
    "slideshow": {
     "slide_type": "fragment"
    }
   },
   "source": [
    "By default, all nonterminals in ISLa constraints are _universally_ quantified - that is, any constraint applying to, say, some `<int>` element applies to _all_ `<int>` elements in the resulting string.\n",
    "If you only want to constrain _one_ element, though, you have to (and can) specify this in ISLa, using an _existential quantifier_."
   ]
  },
  {
   "cell_type": "markdown",
   "id": "7d6886c3",
   "metadata": {
    "slideshow": {
     "slide_type": "subslide"
    }
   },
   "source": [
    "To use an existential quantifier in ISLa, use the construct\n",
    "```\n",
    "exists TYPE VARIABLE in CONTEXT:\n",
    "    (CONSTRAINT)\n",
    "```\n",
    "where `VARIABLE` is some identifier, `TYPE` is its type (as a nonterminal), and `CONTEXT` is the context (again a nonterminal) in which the constraint should hold.\n",
    "`CONSTRAINT` is again a constraint expression, in which you now can make use of `VARIABLE` as the element whose existence you assume."
   ]
  },
  {
   "cell_type": "markdown",
   "id": "baeb1c1e",
   "metadata": {
    "slideshow": {
     "slide_type": "subslide"
    }
   },
   "source": [
    "Let us illustrate existential quantification again using a simple example.\n",
    "We want to make sure that at least one integer in our generated string has a value of more than 1000.\n",
    "So we write"
   ]
  },
  {
   "cell_type": "code",
   "execution_count": 35,
   "id": "63263e05",
   "metadata": {
    "execution": {
     "iopub.execute_input": "2022-08-09T09:12:02.712335Z",
     "iopub.status.busy": "2022-08-09T09:12:02.712049Z",
     "iopub.status.idle": "2022-08-09T09:12:03.858078Z",
     "shell.execute_reply": "2022-08-09T09:12:03.858392Z"
    },
    "slideshow": {
     "slide_type": "subslide"
    }
   },
   "outputs": [
    {
     "name": "stdout",
     "output_type": "stream",
     "text": [
      "0\n",
      "pagesize=2022\n",
      "bufsize=8\n",
      "1\n",
      "pagesize=2022\n",
      "bufsize=77682409531\n",
      "2\n",
      "pagesize=2022\n",
      "bufsize=5993\n",
      "3\n",
      "pagesize=2022\n",
      "bufsize=40\n",
      "4\n",
      "pagesize=2022\n",
      "bufsize=6\n",
      "5\n",
      "pagesize=2022\n",
      "bufsize=91\n",
      "6\n",
      "pagesize=2022\n",
      "bufsize=137\n",
      "7\n",
      "pagesize=2022\n",
      "bufsize=239121\n",
      "8\n",
      "pagesize=2022\n",
      "bufsize=3\n",
      "9\n",
      "pagesize=2022\n",
      "bufsize=6\n"
     ]
    }
   ],
   "source": [
    "solver = ISLaSolver(CONFIG_GRAMMAR, \n",
    "            '''\n",
    "            exists <int> i in <start>:\n",
    "                str.to.int(i) > 1000\n",
    "            ''')\n",
    "\n",
    "for i, solution in enumerate(itertools.islice(solver.solve(), 10)):\n",
    "    print(i)\n",
    "    print(solution)"
   ]
  },
  {
   "cell_type": "markdown",
   "id": "79f8e04e",
   "metadata": {
    "slideshow": {
     "slide_type": "subslide"
    }
   },
   "source": [
    "We note that all generated inputs satisfy the constraint of having at least one integer that satisfies the constraint."
   ]
  },
  {
   "cell_type": "markdown",
   "id": "fa61bece",
   "metadata": {
    "slideshow": {
     "slide_type": "fragment"
    }
   },
   "source": [
    "Besides existential quantification, there also is _universal_ quantification, using the `forall` keyword instead of `exists`.\n",
    "If we want _all_ elements in some context to satisfy a constraint, this comes in handy."
   ]
  },
  {
   "cell_type": "code",
   "execution_count": 36,
   "id": "5c83ead2",
   "metadata": {
    "execution": {
     "iopub.execute_input": "2022-08-09T09:12:03.862537Z",
     "iopub.status.busy": "2022-08-09T09:12:03.862235Z",
     "iopub.status.idle": "2022-08-09T09:12:05.157305Z",
     "shell.execute_reply": "2022-08-09T09:12:05.157524Z"
    },
    "slideshow": {
     "slide_type": "subslide"
    }
   },
   "outputs": [
    {
     "name": "stdout",
     "output_type": "stream",
     "text": [
      "0\n",
      "pagesize=1042\n",
      "bufsize=2242\n",
      "1\n",
      "pagesize=8040\n",
      "bufsize=2242\n",
      "2\n",
      "pagesize=4004\n",
      "bufsize=2242\n",
      "3\n",
      "pagesize=2022\n",
      "bufsize=2242\n",
      "4\n",
      "pagesize=8008\n",
      "bufsize=2242\n",
      "5\n",
      "pagesize=2822\n",
      "bufsize=2242\n",
      "6\n",
      "pagesize=2080\n",
      "bufsize=2242\n",
      "7\n",
      "pagesize=4022\n",
      "bufsize=2242\n",
      "8\n",
      "pagesize=2002\n",
      "bufsize=2242\n",
      "9\n",
      "pagesize=1008\n",
      "bufsize=2242\n"
     ]
    }
   ],
   "source": [
    "solver = ISLaSolver(CONFIG_GRAMMAR, \n",
    "            '''\n",
    "            forall <int> i in <start>:\n",
    "                str.to.int(i) > 1000\n",
    "            ''')\n",
    "\n",
    "for i, solution in enumerate(itertools.islice(solver.solve(), 10)):\n",
    "    print(i)\n",
    "    print(solution)"
   ]
  },
  {
   "cell_type": "markdown",
   "id": "5680dc33",
   "metadata": {
    "slideshow": {
     "slide_type": "subslide"
    }
   },
   "source": [
    "We see that all `<int>` elements satisfy the constraint."
   ]
  },
  {
   "cell_type": "markdown",
   "id": "8d85d1d4",
   "metadata": {
    "slideshow": {
     "slide_type": "fragment"
    }
   },
   "source": [
    "By default, all nonterminals that re used directly in constraints are universally quantified within the `<start>` symbol, so the above can actually be simplified to"
   ]
  },
  {
   "cell_type": "code",
   "execution_count": 37,
   "id": "779634a6",
   "metadata": {
    "execution": {
     "iopub.execute_input": "2022-08-09T09:12:05.160704Z",
     "iopub.status.busy": "2022-08-09T09:12:05.158820Z",
     "iopub.status.idle": "2022-08-09T09:12:06.388225Z",
     "shell.execute_reply": "2022-08-09T09:12:06.388435Z"
    },
    "slideshow": {
     "slide_type": "subslide"
    }
   },
   "outputs": [
    {
     "name": "stdout",
     "output_type": "stream",
     "text": [
      "0\n",
      "pagesize=2002\n",
      "bufsize=2008\n",
      "1\n",
      "pagesize=2024\n",
      "bufsize=2008\n",
      "2\n",
      "pagesize=7140\n",
      "bufsize=2008\n",
      "3\n",
      "pagesize=1002\n",
      "bufsize=2008\n",
      "4\n",
      "pagesize=1102\n",
      "bufsize=2008\n",
      "5\n",
      "pagesize=8002\n",
      "bufsize=2008\n",
      "6\n",
      "pagesize=4004\n",
      "bufsize=2008\n",
      "7\n",
      "pagesize=8024\n",
      "bufsize=2008\n",
      "8\n",
      "pagesize=4002\n",
      "bufsize=2008\n",
      "9\n",
      "pagesize=2004\n",
      "bufsize=2008\n"
     ]
    }
   ],
   "source": [
    "solver = ISLaSolver(CONFIG_GRAMMAR, \n",
    "            '''\n",
    "            str.to.int(<int>) > 1000\n",
    "            ''')\n",
    "\n",
    "for i, solution in enumerate(itertools.islice(solver.solve(), 10)):\n",
    "    print(i)\n",
    "    print(solution)"
   ]
  },
  {
   "cell_type": "markdown",
   "id": "907bc023",
   "metadata": {
    "slideshow": {
     "slide_type": "subslide"
    }
   },
   "source": [
    "... and you realize that in all our initial constraints, we always had an implicit universal quantification."
   ]
  },
  {
   "cell_type": "markdown",
   "id": "a37cf34a",
   "metadata": {
    "slideshow": {
     "slide_type": "slide"
    }
   },
   "source": [
    "## Picking Expansions"
   ]
  },
  {
   "cell_type": "markdown",
   "id": "fb094f75",
   "metadata": {
    "slideshow": {
     "slide_type": "fragment"
    }
   },
   "source": [
    "Sometimes, we'd like a quantifier to apply only for a specific expansion alternative of a nonterminal.\n",
    "The form\n",
    "```\n",
    "forall TYPE VARIABLE=PATTERN in CONTEXT:\n",
    "    (CONSTRAINT)\n",
    "```\n",
    "means that the CONSTRAINT only applies to a VARIABLE that actually matches the expansion given in PATTERN.\n",
    "(Again, we can replace `forall` with `exists`, and make this an existential quantification rather than a universal quantification.)"
   ]
  },
  {
   "cell_type": "markdown",
   "id": "4e0d08ee",
   "metadata": {
    "slideshow": {
     "slide_type": "subslide"
    }
   },
   "source": [
    "In our grammar, we have two possible expansions for `<int>`, namely `<digit>` (for values 0..9) and `<leaddigit><int>` (for 10 and above):\n",
    "```\n",
    "<int> ::= <digit> | <leaddigit><int>\n",
    "```"
   ]
  },
  {
   "cell_type": "markdown",
   "id": "44cbc683",
   "metadata": {
    "slideshow": {
     "slide_type": "fragment"
    }
   },
   "source": [
    "If we now want to constrain only _one_ of the two alternatives, we can use the following expression:"
   ]
  },
  {
   "cell_type": "code",
   "execution_count": 38,
   "id": "6674fafe",
   "metadata": {
    "execution": {
     "iopub.execute_input": "2022-08-09T09:12:06.395536Z",
     "iopub.status.busy": "2022-08-09T09:12:06.395199Z",
     "iopub.status.idle": "2022-08-09T09:12:06.398874Z",
     "shell.execute_reply": "2022-08-09T09:12:06.399040Z"
    },
    "slideshow": {
     "slide_type": "fragment"
    }
   },
   "outputs": [],
   "source": [
    "solver = ISLaSolver(CONFIG_GRAMMAR, \n",
    "            '''\n",
    "            forall <int> i=\"<digit>\" in <start>:\n",
    "                (i = \"7\")\n",
    "            ''')"
   ]
  },
  {
   "cell_type": "markdown",
   "id": "46da2aae",
   "metadata": {
    "slideshow": {
     "slide_type": "subslide"
    }
   },
   "source": [
    "This ensures that _if_ `<int>` is expanded to a single digit, this single digit becomes `7`.\n",
    "The effect is that all `<int>` values now end in a `7` digit:"
   ]
  },
  {
   "cell_type": "code",
   "execution_count": 39,
   "id": "4bd0d0b0",
   "metadata": {
    "execution": {
     "iopub.execute_input": "2022-08-09T09:12:06.401672Z",
     "iopub.status.busy": "2022-08-09T09:12:06.401240Z",
     "iopub.status.idle": "2022-08-09T09:12:06.411017Z",
     "shell.execute_reply": "2022-08-09T09:12:06.411220Z"
    },
    "slideshow": {
     "slide_type": "fragment"
    }
   },
   "outputs": [
    {
     "name": "stdout",
     "output_type": "stream",
     "text": [
      "pagesize=90\n",
      "bufsize=18542163937\n"
     ]
    }
   ],
   "source": [
    "print(next(solver.solve()))"
   ]
  },
  {
   "cell_type": "markdown",
   "id": "8934e88e",
   "metadata": {
    "slideshow": {
     "slide_type": "fragment"
    }
   },
   "source": [
    "Likewise, we can constrain `i` to the second expansion alternative, and thus ensure that all multi-digit numbers are greater than 100:"
   ]
  },
  {
   "cell_type": "code",
   "execution_count": 40,
   "id": "a818549f",
   "metadata": {
    "execution": {
     "iopub.execute_input": "2022-08-09T09:12:06.417087Z",
     "iopub.status.busy": "2022-08-09T09:12:06.416789Z",
     "iopub.status.idle": "2022-08-09T09:12:06.419721Z",
     "shell.execute_reply": "2022-08-09T09:12:06.419977Z"
    },
    "slideshow": {
     "slide_type": "fragment"
    }
   },
   "outputs": [],
   "source": [
    "solver = ISLaSolver(CONFIG_GRAMMAR, \n",
    "            '''\n",
    "            forall <int> i=\"<leaddigit><int>\" in <start>:\n",
    "                (str.to.int(i) > 100)\n",
    "            ''')"
   ]
  },
  {
   "cell_type": "markdown",
   "id": "bf20409f",
   "metadata": {
    "slideshow": {
     "slide_type": "subslide"
    }
   },
   "source": [
    "Here, however, the solver can also choose the less constrained alternative for `<int>`s, picking single digits:"
   ]
  },
  {
   "cell_type": "code",
   "execution_count": 41,
   "id": "dae941b8",
   "metadata": {
    "execution": {
     "iopub.execute_input": "2022-08-09T09:12:06.433375Z",
     "iopub.status.busy": "2022-08-09T09:12:06.433036Z",
     "iopub.status.idle": "2022-08-09T09:12:06.434329Z",
     "shell.execute_reply": "2022-08-09T09:12:06.434632Z"
    },
    "slideshow": {
     "slide_type": "fragment"
    }
   },
   "outputs": [
    {
     "name": "stdout",
     "output_type": "stream",
     "text": [
      "pagesize=7\n",
      "bufsize=46428357011920\n"
     ]
    }
   ],
   "source": [
    "print(next(solver.solve()))"
   ]
  },
  {
   "cell_type": "markdown",
   "id": "6217547d",
   "metadata": {
    "slideshow": {
     "slide_type": "slide"
    }
   },
   "source": [
    "## Matching Expansion Elements"
   ]
  },
  {
   "cell_type": "markdown",
   "id": "3068a08a",
   "metadata": {
    "slideshow": {
     "slide_type": "fragment"
    }
   },
   "source": [
    "In a quantification pattern, we can also _name_ individual nonterminal elements and use them in our constraints.\n",
    "This is done by replacing the nonterminal `<ID>` with the special form `{<ID> VARIABLE}` (in curly braces) which then makes the variable VARIABLE a placeholder for the value matched by ID; VARIABLE can then be used in constraints."
   ]
  },
  {
   "cell_type": "markdown",
   "id": "59d96553",
   "metadata": {
    "slideshow": {
     "slide_type": "fragment"
    }
   },
   "source": [
    "Here is an example. In the expansion `<leaddigit><int>`, we want to ensure that the `<leaddigit>` is always `9`.\n",
    "Using the special brace form, we make `lead` a variable holding the value of `<leaddigit>`, and can then use it in a constraint:"
   ]
  },
  {
   "cell_type": "code",
   "execution_count": 42,
   "id": "5c6efe08",
   "metadata": {
    "execution": {
     "iopub.execute_input": "2022-08-09T09:12:06.440036Z",
     "iopub.status.busy": "2022-08-09T09:12:06.439742Z",
     "iopub.status.idle": "2022-08-09T09:12:06.442478Z",
     "shell.execute_reply": "2022-08-09T09:12:06.442702Z"
    },
    "slideshow": {
     "slide_type": "subslide"
    }
   },
   "outputs": [],
   "source": [
    "solver = ISLaSolver(CONFIG_GRAMMAR, \n",
    "            '''\n",
    "            forall <int> i=\"{<leaddigit> lead}<digits>\" in <start>:\n",
    "                (lead = \"9\")\n",
    "            ''')"
   ]
  },
  {
   "cell_type": "markdown",
   "id": "146beb34",
   "metadata": {
    "slideshow": {
     "slide_type": "fragment"
    }
   },
   "source": [
    "This (again) ensures that all lead digits should be `9`:"
   ]
  },
  {
   "cell_type": "code",
   "execution_count": 43,
   "id": "704eb3c3",
   "metadata": {
    "execution": {
     "iopub.execute_input": "2022-08-09T09:12:06.455345Z",
     "iopub.status.busy": "2022-08-09T09:12:06.455042Z",
     "iopub.status.idle": "2022-08-09T09:12:07.219486Z",
     "shell.execute_reply": "2022-08-09T09:12:07.219718Z"
    },
    "slideshow": {
     "slide_type": "subslide"
    }
   },
   "outputs": [
    {
     "name": "stdout",
     "output_type": "stream",
     "text": [
      "0\n",
      "pagesize=93\n",
      "bufsize=9467801592\n",
      "1\n",
      "pagesize=9\n",
      "bufsize=916\n",
      "2\n",
      "pagesize=98\n",
      "bufsize=9\n",
      "3\n",
      "pagesize=9\n",
      "bufsize=98\n",
      "4\n",
      "pagesize=98\n",
      "bufsize=9\n",
      "5\n",
      "pagesize=9\n",
      "bufsize=9\n",
      "6\n",
      "pagesize=9\n",
      "bufsize=979\n",
      "7\n",
      "pagesize=906\n",
      "bufsize=9\n",
      "8\n",
      "pagesize=9739\n",
      "bufsize=90\n",
      "9\n",
      "pagesize=9\n",
      "bufsize=93\n"
     ]
    }
   ],
   "source": [
    "for i, solution in enumerate(itertools.islice(solver.solve(), 10)):\n",
    "    print(i)\n",
    "    print(solution)"
   ]
  },
  {
   "cell_type": "markdown",
   "id": "3ef24b8f",
   "metadata": {
    "slideshow": {
     "slide_type": "subslide"
    }
   },
   "source": [
    "Could we express the above in a simpler fashion? Of course! Using implicit universal quantification and the dot notation introduced earlier, we could write, for instance"
   ]
  },
  {
   "cell_type": "code",
   "execution_count": 44,
   "id": "73834f05",
   "metadata": {
    "execution": {
     "iopub.execute_input": "2022-08-09T09:12:07.223062Z",
     "iopub.status.busy": "2022-08-09T09:12:07.221044Z",
     "iopub.status.idle": "2022-08-09T09:12:07.225491Z",
     "shell.execute_reply": "2022-08-09T09:12:07.225736Z"
    },
    "slideshow": {
     "slide_type": "fragment"
    }
   },
   "outputs": [],
   "source": [
    "solver = ISLaSolver(CONFIG_GRAMMAR, \n",
    "            '''\n",
    "            <int>.<leaddigit> = \"9\"\n",
    "            ''')"
   ]
  },
  {
   "cell_type": "markdown",
   "id": "e2256f3a",
   "metadata": {
    "slideshow": {
     "slide_type": "fragment"
    }
   },
   "source": [
    "and obtain the same result (not necessarily the exact same values, though, due to randomness):"
   ]
  },
  {
   "cell_type": "code",
   "execution_count": 45,
   "id": "d7e7ad40",
   "metadata": {
    "execution": {
     "iopub.execute_input": "2022-08-09T09:12:07.232315Z",
     "iopub.status.busy": "2022-08-09T09:12:07.232025Z",
     "iopub.status.idle": "2022-08-09T09:12:07.987335Z",
     "shell.execute_reply": "2022-08-09T09:12:07.987622Z"
    },
    "slideshow": {
     "slide_type": "subslide"
    }
   },
   "outputs": [
    {
     "name": "stdout",
     "output_type": "stream",
     "text": [
      "0\n",
      "pagesize=92\n",
      "bufsize=9973685014\n",
      "1\n",
      "pagesize=9482\n",
      "bufsize=98\n",
      "2\n",
      "pagesize=91\n",
      "bufsize=9\n",
      "3\n",
      "pagesize=90\n",
      "bufsize=9\n",
      "4\n",
      "pagesize=9\n",
      "bufsize=9753\n",
      "5\n",
      "pagesize=990\n",
      "bufsize=9\n",
      "6\n",
      "pagesize=9\n",
      "bufsize=9\n",
      "7\n",
      "pagesize=9\n",
      "bufsize=9\n",
      "8\n",
      "pagesize=90\n",
      "bufsize=9\n",
      "9\n",
      "pagesize=973\n",
      "bufsize=99\n"
     ]
    }
   ],
   "source": [
    "for i, solution in enumerate(itertools.islice(solver.solve(), 10)):\n",
    "    print(i)\n",
    "    print(solution)"
   ]
  },
  {
   "cell_type": "markdown",
   "id": "7c09a756",
   "metadata": {
    "slideshow": {
     "slide_type": "subslide"
    }
   },
   "source": [
    "But while the dot notation is sufficient for many cases, the pattern matching notation is more general and more flexible – even if it is harder to read."
   ]
  },
  {
   "cell_type": "markdown",
   "id": "5957e659",
   "metadata": {
    "slideshow": {
     "slide_type": "slide"
    }
   },
   "source": [
    "## Checking Inputs"
   ]
  },
  {
   "cell_type": "markdown",
   "id": "8df992e3",
   "metadata": {
    "slideshow": {
     "slide_type": "fragment"
    }
   },
   "source": [
    "Using an `ISLaSolver`, we can also check if an input satisfies the constraints.\n",
    "Let us check if in a given input, `<pagesize>` and `<bufsize>` are the same."
   ]
  },
  {
   "cell_type": "code",
   "execution_count": 46,
   "id": "60085464",
   "metadata": {
    "execution": {
     "iopub.execute_input": "2022-08-09T09:12:07.990891Z",
     "iopub.status.busy": "2022-08-09T09:12:07.990452Z",
     "iopub.status.idle": "2022-08-09T09:12:07.992703Z",
     "shell.execute_reply": "2022-08-09T09:12:07.992983Z"
    },
    "slideshow": {
     "slide_type": "fragment"
    }
   },
   "outputs": [],
   "source": [
    "constraint = '<pagesize> = <bufsize>'\n",
    "solver = ISLaSolver(CONFIG_GRAMMAR, constraint)"
   ]
  },
  {
   "cell_type": "markdown",
   "id": "ea689310",
   "metadata": {
    "slideshow": {
     "slide_type": "fragment"
    }
   },
   "source": [
    "To check the tree, we can pass it into the `evaluate()` method of the `solver` – and find that the given input does _not_ satisfy our constraint."
   ]
  },
  {
   "cell_type": "code",
   "execution_count": 47,
   "id": "aae16603",
   "metadata": {
    "execution": {
     "iopub.execute_input": "2022-08-09T09:12:07.995777Z",
     "iopub.status.busy": "2022-08-09T09:12:07.995492Z",
     "iopub.status.idle": "2022-08-09T09:12:07.997614Z",
     "shell.execute_reply": "2022-08-09T09:12:07.997844Z"
    },
    "slideshow": {
     "slide_type": "fragment"
    }
   },
   "outputs": [
    {
     "data": {
      "text/plain": [
       "ThreeValuedTruth(0)"
      ]
     },
     "execution_count": 47,
     "metadata": {},
     "output_type": "execute_result"
    }
   ],
   "source": [
    "solver.evaluate('pagesize=12\\nbufsize=34')"
   ]
  },
  {
   "cell_type": "markdown",
   "id": "bdae179d",
   "metadata": {
    "slideshow": {
     "slide_type": "fragment"
    }
   },
   "source": [
    "If we repeat the above, however, with an input that satisfies the constraint, we obtain a `true` result."
   ]
  },
  {
   "cell_type": "code",
   "execution_count": 48,
   "id": "3b4ab9e5",
   "metadata": {
    "execution": {
     "iopub.execute_input": "2022-08-09T09:12:08.001217Z",
     "iopub.status.busy": "2022-08-09T09:12:08.000921Z",
     "iopub.status.idle": "2022-08-09T09:12:08.002333Z",
     "shell.execute_reply": "2022-08-09T09:12:08.002584Z"
    },
    "slideshow": {
     "slide_type": "subslide"
    }
   },
   "outputs": [
    {
     "data": {
      "text/plain": [
       "ThreeValuedTruth(1)"
      ]
     },
     "execution_count": 48,
     "metadata": {},
     "output_type": "execute_result"
    }
   ],
   "source": [
    "solver.evaluate('pagesize=27\\nbufsize=27')"
   ]
  },
  {
   "cell_type": "markdown",
   "id": "0f8b28ce",
   "metadata": {
    "slideshow": {
     "slide_type": "slide"
    }
   },
   "source": [
    "## Case Studies\n",
    "\n",
    "Let us further illustrate ISLa using a few case studies."
   ]
  },
  {
   "cell_type": "markdown",
   "id": "7bf5464f",
   "metadata": {
    "slideshow": {
     "slide_type": "subslide"
    }
   },
   "source": [
    "### Matching Identifiers in XML"
   ]
  },
  {
   "cell_type": "markdown",
   "id": "20bd8738",
   "metadata": {
    "slideshow": {
     "slide_type": "fragment"
    }
   },
   "source": [
    "The Extensible Markup Language (XML) is a typical example of an input language that cannot be fully expressed using a context-free grammar.\n",
    "The problem is not so much expressing the _syntax_ of XML – the basics are fairly easy:"
   ]
  },
  {
   "cell_type": "code",
   "execution_count": 49,
   "id": "3aa33f37",
   "metadata": {
    "execution": {
     "iopub.execute_input": "2022-08-09T09:12:08.004728Z",
     "iopub.status.busy": "2022-08-09T09:12:08.004449Z",
     "iopub.status.idle": "2022-08-09T09:12:08.005676Z",
     "shell.execute_reply": "2022-08-09T09:12:08.005894Z"
    },
    "slideshow": {
     "slide_type": "fragment"
    }
   },
   "outputs": [],
   "source": [
    "XML_GRAMMAR: Grammar = {\n",
    "    \"<start>\": [\"<xml-tree>\"],\n",
    "    \"<xml-tree>\": [\"<open-tag><xml-content><close-tag>\"],\n",
    "    \"<open-tag>\": [\"<<id>>\"],\n",
    "    \"<close-tag>\": [\"</<id>>\"],\n",
    "    \"<xml-content>\": [\"Text\", \"<xml-tree>\"],\n",
    "    \"<id>\": [\"<letter>\", \"<id><letter>\"],\n",
    "    \"<letter>\": crange('a', 'z')\n",
    "}"
   ]
  },
  {
   "cell_type": "code",
   "execution_count": 50,
   "id": "874854b1",
   "metadata": {
    "execution": {
     "iopub.execute_input": "2022-08-09T09:12:08.007788Z",
     "iopub.status.busy": "2022-08-09T09:12:08.007514Z",
     "iopub.status.idle": "2022-08-09T09:12:08.008644Z",
     "shell.execute_reply": "2022-08-09T09:12:08.008854Z"
    },
    "slideshow": {
     "slide_type": "subslide"
    }
   },
   "outputs": [],
   "source": [
    "assert is_valid_grammar(XML_GRAMMAR)"
   ]
  },
  {
   "cell_type": "code",
   "execution_count": 51,
   "id": "e017975d",
   "metadata": {
    "execution": {
     "iopub.execute_input": "2022-08-09T09:12:08.011196Z",
     "iopub.status.busy": "2022-08-09T09:12:08.010844Z",
     "iopub.status.idle": "2022-08-09T09:12:08.022863Z",
     "shell.execute_reply": "2022-08-09T09:12:08.023122Z"
    },
    "slideshow": {
     "slide_type": "subslide"
    }
   },
   "outputs": [
    {
     "name": "stdout",
     "output_type": "stream",
     "text": [
      "start\n"
     ]
    },
    {
     "data": {
      "image/svg+xml": [
       "<svg xmlns=\"http://www.w3.org/2000/svg\" class=\"railroad-diagram\" height=\"62\" viewBox=\"0 0 208.0 62\" width=\"208.0\">\n",
       "<g transform=\"translate(.5 .5)\">\n",
       "<style>/* <![CDATA[ */\n",
       "    svg.railroad-diagram {\n",
       "    }\n",
       "    svg.railroad-diagram path {\n",
       "        stroke-width:3;\n",
       "        stroke:black;\n",
       "        fill:white;\n",
       "    }\n",
       "    svg.railroad-diagram text {\n",
       "        font:14px \"Fira Mono\", monospace;\n",
       "        text-anchor:middle;\n",
       "    }\n",
       "    svg.railroad-diagram text.label{\n",
       "        text-anchor:start;\n",
       "    }\n",
       "    svg.railroad-diagram text.comment{\n",
       "        font:italic 12px \"Fira Mono\", monospace;\n",
       "    }\n",
       "    svg.railroad-diagram rect{\n",
       "        stroke-width:2;\n",
       "        stroke:black;\n",
       "        fill:mistyrose;\n",
       "    }\n",
       "\n",
       "/* ]]> */\n",
       "</style><g>\n",
       "<path d=\"M20 21v20m10 -20v20m-10 -10h20\"/></g><g>\n",
       "<path d=\"M40 31h0.0\"/><path d=\"M168.0 31h0.0\"/><path d=\"M40.0 31h20\"/><g>\n",
       "<path d=\"M60.0 31h0.0\"/><path d=\"M148.0 31h0.0\"/><g class=\"non-terminal\">\n",
       "<path d=\"M60.0 31h0.0\"/><path d=\"M148.0 31h0.0\"/><rect height=\"22\" width=\"88.0\" x=\"60.0\" y=\"20\"/><text x=\"104.0\" y=\"35\">xml-tree</text></g></g><path d=\"M148.0 31h20\"/></g><path d=\"M 168.0 31 h 20 m -10 -10 v 20 m 10 -20 v 20\"/></g></svg>"
      ],
      "text/plain": [
       "<IPython.core.display.SVG object>"
      ]
     },
     "metadata": {},
     "output_type": "display_data"
    },
    {
     "name": "stdout",
     "output_type": "stream",
     "text": [
      "xml-tree\n"
     ]
    },
    {
     "data": {
      "image/svg+xml": [
       "<svg xmlns=\"http://www.w3.org/2000/svg\" class=\"railroad-diagram\" height=\"62\" viewBox=\"0 0 458.0 62\" width=\"458.0\">\n",
       "<g transform=\"translate(.5 .5)\">\n",
       "<style>/* <![CDATA[ */\n",
       "    svg.railroad-diagram {\n",
       "    }\n",
       "    svg.railroad-diagram path {\n",
       "        stroke-width:3;\n",
       "        stroke:black;\n",
       "        fill:white;\n",
       "    }\n",
       "    svg.railroad-diagram text {\n",
       "        font:14px \"Fira Mono\", monospace;\n",
       "        text-anchor:middle;\n",
       "    }\n",
       "    svg.railroad-diagram text.label{\n",
       "        text-anchor:start;\n",
       "    }\n",
       "    svg.railroad-diagram text.comment{\n",
       "        font:italic 12px \"Fira Mono\", monospace;\n",
       "    }\n",
       "    svg.railroad-diagram rect{\n",
       "        stroke-width:2;\n",
       "        stroke:black;\n",
       "        fill:mistyrose;\n",
       "    }\n",
       "\n",
       "/* ]]> */\n",
       "</style><g>\n",
       "<path d=\"M20 21v20m10 -20v20m-10 -10h20\"/></g><g>\n",
       "<path d=\"M40 31h0.0\"/><path d=\"M418.0 31h0.0\"/><path d=\"M40.0 31h20\"/><g>\n",
       "<path d=\"M60.0 31h0.0\"/><path d=\"M398.0 31h0.0\"/><g class=\"non-terminal\">\n",
       "<path d=\"M60.0 31h0.0\"/><path d=\"M148.0 31h0.0\"/><rect height=\"22\" width=\"88.0\" x=\"60.0\" y=\"20\"/><text x=\"104.0\" y=\"35\">open-tag</text></g><path d=\"M148.0 31h10\"/><path d=\"M158.0 31h10\"/><g class=\"non-terminal\">\n",
       "<path d=\"M168.0 31h0.0\"/><path d=\"M281.5 31h0.0\"/><rect height=\"22\" width=\"113.5\" x=\"168.0\" y=\"20\"/><text x=\"224.75\" y=\"35\">xml-content</text></g><path d=\"M281.5 31h10\"/><path d=\"M291.5 31h10\"/><g class=\"non-terminal\">\n",
       "<path d=\"M301.5 31h0.0\"/><path d=\"M398.0 31h0.0\"/><rect height=\"22\" width=\"96.5\" x=\"301.5\" y=\"20\"/><text x=\"349.75\" y=\"35\">close-tag</text></g></g><path d=\"M398.0 31h20\"/></g><path d=\"M 418.0 31 h 20 m -10 -10 v 20 m 10 -20 v 20\"/></g></svg>"
      ],
      "text/plain": [
       "<IPython.core.display.SVG object>"
      ]
     },
     "metadata": {},
     "output_type": "display_data"
    },
    {
     "name": "stdout",
     "output_type": "stream",
     "text": [
      "open-tag\n"
     ]
    },
    {
     "data": {
      "image/svg+xml": [
       "<svg xmlns=\"http://www.w3.org/2000/svg\" class=\"railroad-diagram\" height=\"62\" viewBox=\"0 0 254.0 62\" width=\"254.0\">\n",
       "<g transform=\"translate(.5 .5)\">\n",
       "<style>/* <![CDATA[ */\n",
       "    svg.railroad-diagram {\n",
       "    }\n",
       "    svg.railroad-diagram path {\n",
       "        stroke-width:3;\n",
       "        stroke:black;\n",
       "        fill:white;\n",
       "    }\n",
       "    svg.railroad-diagram text {\n",
       "        font:14px \"Fira Mono\", monospace;\n",
       "        text-anchor:middle;\n",
       "    }\n",
       "    svg.railroad-diagram text.label{\n",
       "        text-anchor:start;\n",
       "    }\n",
       "    svg.railroad-diagram text.comment{\n",
       "        font:italic 12px \"Fira Mono\", monospace;\n",
       "    }\n",
       "    svg.railroad-diagram rect{\n",
       "        stroke-width:2;\n",
       "        stroke:black;\n",
       "        fill:mistyrose;\n",
       "    }\n",
       "\n",
       "/* ]]> */\n",
       "</style><g>\n",
       "<path d=\"M20 21v20m10 -20v20m-10 -10h20\"/></g><g>\n",
       "<path d=\"M40 31h0.0\"/><path d=\"M214.0 31h0.0\"/><path d=\"M40.0 31h20\"/><g>\n",
       "<path d=\"M60.0 31h0.0\"/><path d=\"M194.0 31h0.0\"/><g class=\"terminal\">\n",
       "<path d=\"M60.0 31h0.0\"/><path d=\"M88.5 31h0.0\"/><rect height=\"22\" rx=\"10\" ry=\"10\" width=\"28.5\" x=\"60.0\" y=\"20\"/><text x=\"74.25\" y=\"35\">&lt;</text></g><path d=\"M88.5 31h10\"/><path d=\"M98.5 31h10\"/><g class=\"non-terminal\">\n",
       "<path d=\"M108.5 31h0.0\"/><path d=\"M145.5 31h0.0\"/><rect height=\"22\" width=\"37.0\" x=\"108.5\" y=\"20\"/><text x=\"127.0\" y=\"35\">id</text></g><path d=\"M145.5 31h10\"/><path d=\"M155.5 31h10\"/><g class=\"terminal\">\n",
       "<path d=\"M165.5 31h0.0\"/><path d=\"M194.0 31h0.0\"/><rect height=\"22\" rx=\"10\" ry=\"10\" width=\"28.5\" x=\"165.5\" y=\"20\"/><text x=\"179.75\" y=\"35\">&gt;</text></g></g><path d=\"M194.0 31h20\"/></g><path d=\"M 214.0 31 h 20 m -10 -10 v 20 m 10 -20 v 20\"/></g></svg>"
      ],
      "text/plain": [
       "<IPython.core.display.SVG object>"
      ]
     },
     "metadata": {},
     "output_type": "display_data"
    },
    {
     "name": "stdout",
     "output_type": "stream",
     "text": [
      "close-tag\n"
     ]
    },
    {
     "data": {
      "image/svg+xml": [
       "<svg xmlns=\"http://www.w3.org/2000/svg\" class=\"railroad-diagram\" height=\"62\" viewBox=\"0 0 262.5 62\" width=\"262.5\">\n",
       "<g transform=\"translate(.5 .5)\">\n",
       "<style>/* <![CDATA[ */\n",
       "    svg.railroad-diagram {\n",
       "    }\n",
       "    svg.railroad-diagram path {\n",
       "        stroke-width:3;\n",
       "        stroke:black;\n",
       "        fill:white;\n",
       "    }\n",
       "    svg.railroad-diagram text {\n",
       "        font:14px \"Fira Mono\", monospace;\n",
       "        text-anchor:middle;\n",
       "    }\n",
       "    svg.railroad-diagram text.label{\n",
       "        text-anchor:start;\n",
       "    }\n",
       "    svg.railroad-diagram text.comment{\n",
       "        font:italic 12px \"Fira Mono\", monospace;\n",
       "    }\n",
       "    svg.railroad-diagram rect{\n",
       "        stroke-width:2;\n",
       "        stroke:black;\n",
       "        fill:mistyrose;\n",
       "    }\n",
       "\n",
       "/* ]]> */\n",
       "</style><g>\n",
       "<path d=\"M20 21v20m10 -20v20m-10 -10h20\"/></g><g>\n",
       "<path d=\"M40 31h0.0\"/><path d=\"M222.5 31h0.0\"/><path d=\"M40.0 31h20\"/><g>\n",
       "<path d=\"M60.0 31h0.0\"/><path d=\"M202.5 31h0.0\"/><g class=\"terminal\">\n",
       "<path d=\"M60.0 31h0.0\"/><path d=\"M97.0 31h0.0\"/><rect height=\"22\" rx=\"10\" ry=\"10\" width=\"37.0\" x=\"60.0\" y=\"20\"/><text x=\"78.5\" y=\"35\">&lt;/</text></g><path d=\"M97.0 31h10\"/><path d=\"M107.0 31h10\"/><g class=\"non-terminal\">\n",
       "<path d=\"M117.0 31h0.0\"/><path d=\"M154.0 31h0.0\"/><rect height=\"22\" width=\"37.0\" x=\"117.0\" y=\"20\"/><text x=\"135.5\" y=\"35\">id</text></g><path d=\"M154.0 31h10\"/><path d=\"M164.0 31h10\"/><g class=\"terminal\">\n",
       "<path d=\"M174.0 31h0.0\"/><path d=\"M202.5 31h0.0\"/><rect height=\"22\" rx=\"10\" ry=\"10\" width=\"28.5\" x=\"174.0\" y=\"20\"/><text x=\"188.25\" y=\"35\">&gt;</text></g></g><path d=\"M202.5 31h20\"/></g><path d=\"M 222.5 31 h 20 m -10 -10 v 20 m 10 -20 v 20\"/></g></svg>"
      ],
      "text/plain": [
       "<IPython.core.display.SVG object>"
      ]
     },
     "metadata": {},
     "output_type": "display_data"
    },
    {
     "name": "stdout",
     "output_type": "stream",
     "text": [
      "xml-content\n"
     ]
    },
    {
     "data": {
      "image/svg+xml": [
       "<svg xmlns=\"http://www.w3.org/2000/svg\" class=\"railroad-diagram\" height=\"92\" viewBox=\"0 0 208.0 92\" width=\"208.0\">\n",
       "<g transform=\"translate(.5 .5)\">\n",
       "<style>/* <![CDATA[ */\n",
       "    svg.railroad-diagram {\n",
       "    }\n",
       "    svg.railroad-diagram path {\n",
       "        stroke-width:3;\n",
       "        stroke:black;\n",
       "        fill:white;\n",
       "    }\n",
       "    svg.railroad-diagram text {\n",
       "        font:14px \"Fira Mono\", monospace;\n",
       "        text-anchor:middle;\n",
       "    }\n",
       "    svg.railroad-diagram text.label{\n",
       "        text-anchor:start;\n",
       "    }\n",
       "    svg.railroad-diagram text.comment{\n",
       "        font:italic 12px \"Fira Mono\", monospace;\n",
       "    }\n",
       "    svg.railroad-diagram rect{\n",
       "        stroke-width:2;\n",
       "        stroke:black;\n",
       "        fill:mistyrose;\n",
       "    }\n",
       "\n",
       "/* ]]> */\n",
       "</style><g>\n",
       "<path d=\"M20 51v20m10 -20v20m-10 -10h20\"/></g><g>\n",
       "<path d=\"M40 61h0.0\"/><path d=\"M168.0 61h0.0\"/><path d=\"M40.0 61a10 10 0 0 0 10 -10v-10a10 10 0 0 1 10 -10\"/><g>\n",
       "<path d=\"M60.0 31h17.0\"/><path d=\"M131.0 31h17.0\"/><g class=\"terminal\">\n",
       "<path d=\"M77.0 31h0.0\"/><path d=\"M131.0 31h0.0\"/><rect height=\"22\" rx=\"10\" ry=\"10\" width=\"54.0\" x=\"77.0\" y=\"20\"/><text x=\"104.0\" y=\"35\">Text</text></g></g><path d=\"M148.0 31a10 10 0 0 1 10 10v10a10 10 0 0 0 10 10\"/><path d=\"M40.0 61h20\"/><g>\n",
       "<path d=\"M60.0 61h0.0\"/><path d=\"M148.0 61h0.0\"/><g class=\"non-terminal\">\n",
       "<path d=\"M60.0 61h0.0\"/><path d=\"M148.0 61h0.0\"/><rect height=\"22\" width=\"88.0\" x=\"60.0\" y=\"50\"/><text x=\"104.0\" y=\"65\">xml-tree</text></g></g><path d=\"M148.0 61h20\"/></g><path d=\"M 168.0 61 h 20 m -10 -10 v 20 m 10 -20 v 20\"/></g></svg>"
      ],
      "text/plain": [
       "<IPython.core.display.SVG object>"
      ]
     },
     "metadata": {},
     "output_type": "display_data"
    },
    {
     "name": "stdout",
     "output_type": "stream",
     "text": [
      "id\n"
     ]
    },
    {
     "data": {
      "image/svg+xml": [
       "<svg xmlns=\"http://www.w3.org/2000/svg\" class=\"railroad-diagram\" height=\"92\" viewBox=\"0 0 248.0 92\" width=\"248.0\">\n",
       "<g transform=\"translate(.5 .5)\">\n",
       "<style>/* <![CDATA[ */\n",
       "    svg.railroad-diagram {\n",
       "    }\n",
       "    svg.railroad-diagram path {\n",
       "        stroke-width:3;\n",
       "        stroke:black;\n",
       "        fill:white;\n",
       "    }\n",
       "    svg.railroad-diagram text {\n",
       "        font:14px \"Fira Mono\", monospace;\n",
       "        text-anchor:middle;\n",
       "    }\n",
       "    svg.railroad-diagram text.label{\n",
       "        text-anchor:start;\n",
       "    }\n",
       "    svg.railroad-diagram text.comment{\n",
       "        font:italic 12px \"Fira Mono\", monospace;\n",
       "    }\n",
       "    svg.railroad-diagram rect{\n",
       "        stroke-width:2;\n",
       "        stroke:black;\n",
       "        fill:mistyrose;\n",
       "    }\n",
       "\n",
       "/* ]]> */\n",
       "</style><g>\n",
       "<path d=\"M20 51v20m10 -20v20m-10 -10h20\"/></g><g>\n",
       "<path d=\"M40 61h0.0\"/><path d=\"M208.0 61h0.0\"/><path d=\"M40.0 61a10 10 0 0 0 10 -10v-10a10 10 0 0 1 10 -10\"/><g>\n",
       "<path d=\"M60.0 31h28.5\"/><path d=\"M159.5 31h28.5\"/><g class=\"non-terminal\">\n",
       "<path d=\"M88.5 31h0.0\"/><path d=\"M159.5 31h0.0\"/><rect height=\"22\" width=\"71.0\" x=\"88.5\" y=\"20\"/><text x=\"124.0\" y=\"35\">letter</text></g></g><path d=\"M188.0 31a10 10 0 0 1 10 10v10a10 10 0 0 0 10 10\"/><path d=\"M40.0 61h20\"/><g>\n",
       "<path d=\"M60.0 61h0.0\"/><path d=\"M188.0 61h0.0\"/><g class=\"non-terminal\">\n",
       "<path d=\"M60.0 61h0.0\"/><path d=\"M97.0 61h0.0\"/><rect height=\"22\" width=\"37.0\" x=\"60.0\" y=\"50\"/><text x=\"78.5\" y=\"65\">id</text></g><path d=\"M97.0 61h10\"/><path d=\"M107.0 61h10\"/><g class=\"non-terminal\">\n",
       "<path d=\"M117.0 61h0.0\"/><path d=\"M188.0 61h0.0\"/><rect height=\"22\" width=\"71.0\" x=\"117.0\" y=\"50\"/><text x=\"152.5\" y=\"65\">letter</text></g></g><path d=\"M188.0 61h20\"/></g><path d=\"M 208.0 61 h 20 m -10 -10 v 20 m 10 -20 v 20\"/></g></svg>"
      ],
      "text/plain": [
       "<IPython.core.display.SVG object>"
      ]
     },
     "metadata": {},
     "output_type": "display_data"
    },
    {
     "name": "stdout",
     "output_type": "stream",
     "text": [
      "letter\n"
     ]
    },
    {
     "data": {
      "image/svg+xml": [
       "<svg xmlns=\"http://www.w3.org/2000/svg\" class=\"railroad-diagram\" height=\"198\" viewBox=\"0 0 611.0 198\" width=\"611.0\">\n",
       "<g transform=\"translate(.5 .5)\">\n",
       "<style>/* <![CDATA[ */\n",
       "    svg.railroad-diagram {\n",
       "    }\n",
       "    svg.railroad-diagram path {\n",
       "        stroke-width:3;\n",
       "        stroke:black;\n",
       "        fill:white;\n",
       "    }\n",
       "    svg.railroad-diagram text {\n",
       "        font:14px \"Fira Mono\", monospace;\n",
       "        text-anchor:middle;\n",
       "    }\n",
       "    svg.railroad-diagram text.label{\n",
       "        text-anchor:start;\n",
       "    }\n",
       "    svg.railroad-diagram text.comment{\n",
       "        font:italic 12px \"Fira Mono\", monospace;\n",
       "    }\n",
       "    svg.railroad-diagram rect{\n",
       "        stroke-width:2;\n",
       "        stroke:black;\n",
       "        fill:mistyrose;\n",
       "    }\n",
       "\n",
       "/* ]]> */\n",
       "</style><g>\n",
       "<path d=\"M20 89v20m10 -20v20m-10 -10h20\"/></g><g>\n",
       "<path d=\"M40 99h0.0\"/><path d=\"M571.0 99h0.0\"/><path d=\"M40.0 99a10 10 0 0 0 10 -10v-59a10 10 0 0 1 10 -10h412.5\"/><path d=\"M138.5 178h412.5a10 10 0 0 0 10 -10v-59a10 10 0 0 1 10 -10\"/><path d=\"M40.0 99h10\"/><g>\n",
       "<path d=\"M50.0 99h0.0\"/><path d=\"M118.5 99h0.0\"/><path d=\"M50.0 99a10 10 0 0 0 10 -10v-10a10 10 0 0 1 10 -10\"/><g>\n",
       "<path d=\"M70.0 69h0.0\"/><path d=\"M98.5 69h0.0\"/><g class=\"terminal\">\n",
       "<path d=\"M70.0 69h0.0\"/><path d=\"M98.5 69h0.0\"/><rect height=\"22\" rx=\"10\" ry=\"10\" width=\"28.5\" x=\"70.0\" y=\"58\"/><text x=\"84.25\" y=\"73\">b</text></g></g><path d=\"M98.5 69a10 10 0 0 1 10 10v10a10 10 0 0 0 10 10\"/><path d=\"M50.0 99a10 10 0 0 0 10 -10v-40a10 10 0 0 1 10 -10\"/><g>\n",
       "<path d=\"M70.0 39h0.0\"/><path d=\"M98.5 39h0.0\"/><g class=\"terminal\">\n",
       "<path d=\"M70.0 39h0.0\"/><path d=\"M98.5 39h0.0\"/><rect height=\"22\" rx=\"10\" ry=\"10\" width=\"28.5\" x=\"70.0\" y=\"28\"/><text x=\"84.25\" y=\"43\">a</text></g></g><path d=\"M98.5 39a10 10 0 0 1 10 10v40a10 10 0 0 0 10 10\"/><path d=\"M50.0 99h20\"/><g>\n",
       "<path d=\"M70.0 99h0.0\"/><path d=\"M98.5 99h0.0\"/><g class=\"terminal\">\n",
       "<path d=\"M70.0 99h0.0\"/><path d=\"M98.5 99h0.0\"/><rect height=\"22\" rx=\"10\" ry=\"10\" width=\"28.5\" x=\"70.0\" y=\"88\"/><text x=\"84.25\" y=\"103\">c</text></g></g><path d=\"M98.5 99h20\"/><path d=\"M50.0 99a10 10 0 0 1 10 10v10a10 10 0 0 0 10 10\"/><g>\n",
       "<path d=\"M70.0 129h0.0\"/><path d=\"M98.5 129h0.0\"/><g class=\"terminal\">\n",
       "<path d=\"M70.0 129h0.0\"/><path d=\"M98.5 129h0.0\"/><rect height=\"22\" rx=\"10\" ry=\"10\" width=\"28.5\" x=\"70.0\" y=\"118\"/><text x=\"84.25\" y=\"133\">d</text></g></g><path d=\"M98.5 129a10 10 0 0 0 10 -10v-10a10 10 0 0 1 10 -10\"/><path d=\"M50.0 99a10 10 0 0 1 10 10v40a10 10 0 0 0 10 10\"/><g>\n",
       "<path d=\"M70.0 159h0.0\"/><path d=\"M98.5 159h0.0\"/><g class=\"terminal\">\n",
       "<path d=\"M70.0 159h0.0\"/><path d=\"M98.5 159h0.0\"/><rect height=\"22\" rx=\"10\" ry=\"10\" width=\"28.5\" x=\"70.0\" y=\"148\"/><text x=\"84.25\" y=\"163\">e</text></g></g><path d=\"M98.5 159a10 10 0 0 0 10 -10v-40a10 10 0 0 1 10 -10\"/></g><path d=\"M118.5 99a10 10 0 0 1 10 10v59a10 10 0 0 0 10 10\"/><path d=\"M118.5 20a10 10 0 0 1 10 10v59a10 10 0 0 0 10 10\"/><g>\n",
       "<path d=\"M138.5 99h0.0\"/><path d=\"M207.0 99h0.0\"/><path d=\"M138.5 99a10 10 0 0 0 10 -10v-10a10 10 0 0 1 10 -10\"/><g>\n",
       "<path d=\"M158.5 69h0.0\"/><path d=\"M187.0 69h0.0\"/><g class=\"terminal\">\n",
       "<path d=\"M158.5 69h0.0\"/><path d=\"M187.0 69h0.0\"/><rect height=\"22\" rx=\"10\" ry=\"10\" width=\"28.5\" x=\"158.5\" y=\"58\"/><text x=\"172.75\" y=\"73\">g</text></g></g><path d=\"M187.0 69a10 10 0 0 1 10 10v10a10 10 0 0 0 10 10\"/><path d=\"M138.5 99a10 10 0 0 0 10 -10v-40a10 10 0 0 1 10 -10\"/><g>\n",
       "<path d=\"M158.5 39h0.0\"/><path d=\"M187.0 39h0.0\"/><g class=\"terminal\">\n",
       "<path d=\"M158.5 39h0.0\"/><path d=\"M187.0 39h0.0\"/><rect height=\"22\" rx=\"10\" ry=\"10\" width=\"28.5\" x=\"158.5\" y=\"28\"/><text x=\"172.75\" y=\"43\">f</text></g></g><path d=\"M187.0 39a10 10 0 0 1 10 10v40a10 10 0 0 0 10 10\"/><path d=\"M138.5 99h20\"/><g>\n",
       "<path d=\"M158.5 99h0.0\"/><path d=\"M187.0 99h0.0\"/><g class=\"terminal\">\n",
       "<path d=\"M158.5 99h0.0\"/><path d=\"M187.0 99h0.0\"/><rect height=\"22\" rx=\"10\" ry=\"10\" width=\"28.5\" x=\"158.5\" y=\"88\"/><text x=\"172.75\" y=\"103\">h</text></g></g><path d=\"M187.0 99h20\"/><path d=\"M138.5 99a10 10 0 0 1 10 10v10a10 10 0 0 0 10 10\"/><g>\n",
       "<path d=\"M158.5 129h0.0\"/><path d=\"M187.0 129h0.0\"/><g class=\"terminal\">\n",
       "<path d=\"M158.5 129h0.0\"/><path d=\"M187.0 129h0.0\"/><rect height=\"22\" rx=\"10\" ry=\"10\" width=\"28.5\" x=\"158.5\" y=\"118\"/><text x=\"172.75\" y=\"133\">i</text></g></g><path d=\"M187.0 129a10 10 0 0 0 10 -10v-10a10 10 0 0 1 10 -10\"/><path d=\"M138.5 99a10 10 0 0 1 10 10v40a10 10 0 0 0 10 10\"/><g>\n",
       "<path d=\"M158.5 159h0.0\"/><path d=\"M187.0 159h0.0\"/><g class=\"terminal\">\n",
       "<path d=\"M158.5 159h0.0\"/><path d=\"M187.0 159h0.0\"/><rect height=\"22\" rx=\"10\" ry=\"10\" width=\"28.5\" x=\"158.5\" y=\"148\"/><text x=\"172.75\" y=\"163\">j</text></g></g><path d=\"M187.0 159a10 10 0 0 0 10 -10v-40a10 10 0 0 1 10 -10\"/></g><path d=\"M207.0 99a10 10 0 0 1 10 10v59a10 10 0 0 0 10 10\"/><path d=\"M207.0 20a10 10 0 0 1 10 10v59a10 10 0 0 0 10 10\"/><g>\n",
       "<path d=\"M227.0 99h0.0\"/><path d=\"M295.5 99h0.0\"/><path d=\"M227.0 99a10 10 0 0 0 10 -10v-10a10 10 0 0 1 10 -10\"/><g>\n",
       "<path d=\"M247.0 69h0.0\"/><path d=\"M275.5 69h0.0\"/><g class=\"terminal\">\n",
       "<path d=\"M247.0 69h0.0\"/><path d=\"M275.5 69h0.0\"/><rect height=\"22\" rx=\"10\" ry=\"10\" width=\"28.5\" x=\"247.0\" y=\"58\"/><text x=\"261.25\" y=\"73\">l</text></g></g><path d=\"M275.5 69a10 10 0 0 1 10 10v10a10 10 0 0 0 10 10\"/><path d=\"M227.0 99a10 10 0 0 0 10 -10v-40a10 10 0 0 1 10 -10\"/><g>\n",
       "<path d=\"M247.0 39h0.0\"/><path d=\"M275.5 39h0.0\"/><g class=\"terminal\">\n",
       "<path d=\"M247.0 39h0.0\"/><path d=\"M275.5 39h0.0\"/><rect height=\"22\" rx=\"10\" ry=\"10\" width=\"28.5\" x=\"247.0\" y=\"28\"/><text x=\"261.25\" y=\"43\">k</text></g></g><path d=\"M275.5 39a10 10 0 0 1 10 10v40a10 10 0 0 0 10 10\"/><path d=\"M227.0 99h20\"/><g>\n",
       "<path d=\"M247.0 99h0.0\"/><path d=\"M275.5 99h0.0\"/><g class=\"terminal\">\n",
       "<path d=\"M247.0 99h0.0\"/><path d=\"M275.5 99h0.0\"/><rect height=\"22\" rx=\"10\" ry=\"10\" width=\"28.5\" x=\"247.0\" y=\"88\"/><text x=\"261.25\" y=\"103\">m</text></g></g><path d=\"M275.5 99h20\"/><path d=\"M227.0 99a10 10 0 0 1 10 10v10a10 10 0 0 0 10 10\"/><g>\n",
       "<path d=\"M247.0 129h0.0\"/><path d=\"M275.5 129h0.0\"/><g class=\"terminal\">\n",
       "<path d=\"M247.0 129h0.0\"/><path d=\"M275.5 129h0.0\"/><rect height=\"22\" rx=\"10\" ry=\"10\" width=\"28.5\" x=\"247.0\" y=\"118\"/><text x=\"261.25\" y=\"133\">n</text></g></g><path d=\"M275.5 129a10 10 0 0 0 10 -10v-10a10 10 0 0 1 10 -10\"/><path d=\"M227.0 99a10 10 0 0 1 10 10v40a10 10 0 0 0 10 10\"/><g>\n",
       "<path d=\"M247.0 159h0.0\"/><path d=\"M275.5 159h0.0\"/><g class=\"terminal\">\n",
       "<path d=\"M247.0 159h0.0\"/><path d=\"M275.5 159h0.0\"/><rect height=\"22\" rx=\"10\" ry=\"10\" width=\"28.5\" x=\"247.0\" y=\"148\"/><text x=\"261.25\" y=\"163\">o</text></g></g><path d=\"M275.5 159a10 10 0 0 0 10 -10v-40a10 10 0 0 1 10 -10\"/></g><path d=\"M295.5 99a10 10 0 0 1 10 10v59a10 10 0 0 0 10 10\"/><path d=\"M295.5 20a10 10 0 0 1 10 10v59a10 10 0 0 0 10 10\"/><g>\n",
       "<path d=\"M315.5 99h0.0\"/><path d=\"M384.0 99h0.0\"/><path d=\"M315.5 99a10 10 0 0 0 10 -10v-10a10 10 0 0 1 10 -10\"/><g>\n",
       "<path d=\"M335.5 69h0.0\"/><path d=\"M364.0 69h0.0\"/><g class=\"terminal\">\n",
       "<path d=\"M335.5 69h0.0\"/><path d=\"M364.0 69h0.0\"/><rect height=\"22\" rx=\"10\" ry=\"10\" width=\"28.5\" x=\"335.5\" y=\"58\"/><text x=\"349.75\" y=\"73\">q</text></g></g><path d=\"M364.0 69a10 10 0 0 1 10 10v10a10 10 0 0 0 10 10\"/><path d=\"M315.5 99a10 10 0 0 0 10 -10v-40a10 10 0 0 1 10 -10\"/><g>\n",
       "<path d=\"M335.5 39h0.0\"/><path d=\"M364.0 39h0.0\"/><g class=\"terminal\">\n",
       "<path d=\"M335.5 39h0.0\"/><path d=\"M364.0 39h0.0\"/><rect height=\"22\" rx=\"10\" ry=\"10\" width=\"28.5\" x=\"335.5\" y=\"28\"/><text x=\"349.75\" y=\"43\">p</text></g></g><path d=\"M364.0 39a10 10 0 0 1 10 10v40a10 10 0 0 0 10 10\"/><path d=\"M315.5 99h20\"/><g>\n",
       "<path d=\"M335.5 99h0.0\"/><path d=\"M364.0 99h0.0\"/><g class=\"terminal\">\n",
       "<path d=\"M335.5 99h0.0\"/><path d=\"M364.0 99h0.0\"/><rect height=\"22\" rx=\"10\" ry=\"10\" width=\"28.5\" x=\"335.5\" y=\"88\"/><text x=\"349.75\" y=\"103\">r</text></g></g><path d=\"M364.0 99h20\"/><path d=\"M315.5 99a10 10 0 0 1 10 10v10a10 10 0 0 0 10 10\"/><g>\n",
       "<path d=\"M335.5 129h0.0\"/><path d=\"M364.0 129h0.0\"/><g class=\"terminal\">\n",
       "<path d=\"M335.5 129h0.0\"/><path d=\"M364.0 129h0.0\"/><rect height=\"22\" rx=\"10\" ry=\"10\" width=\"28.5\" x=\"335.5\" y=\"118\"/><text x=\"349.75\" y=\"133\">s</text></g></g><path d=\"M364.0 129a10 10 0 0 0 10 -10v-10a10 10 0 0 1 10 -10\"/><path d=\"M315.5 99a10 10 0 0 1 10 10v40a10 10 0 0 0 10 10\"/><g>\n",
       "<path d=\"M335.5 159h0.0\"/><path d=\"M364.0 159h0.0\"/><g class=\"terminal\">\n",
       "<path d=\"M335.5 159h0.0\"/><path d=\"M364.0 159h0.0\"/><rect height=\"22\" rx=\"10\" ry=\"10\" width=\"28.5\" x=\"335.5\" y=\"148\"/><text x=\"349.75\" y=\"163\">t</text></g></g><path d=\"M364.0 159a10 10 0 0 0 10 -10v-40a10 10 0 0 1 10 -10\"/></g><path d=\"M384.0 99a10 10 0 0 1 10 10v59a10 10 0 0 0 10 10\"/><path d=\"M384.0 20a10 10 0 0 1 10 10v59a10 10 0 0 0 10 10\"/><g>\n",
       "<path d=\"M404.0 99h0.0\"/><path d=\"M472.5 99h0.0\"/><path d=\"M404.0 99a10 10 0 0 0 10 -10v-10a10 10 0 0 1 10 -10\"/><g>\n",
       "<path d=\"M424.0 69h0.0\"/><path d=\"M452.5 69h0.0\"/><g class=\"terminal\">\n",
       "<path d=\"M424.0 69h0.0\"/><path d=\"M452.5 69h0.0\"/><rect height=\"22\" rx=\"10\" ry=\"10\" width=\"28.5\" x=\"424.0\" y=\"58\"/><text x=\"438.25\" y=\"73\">v</text></g></g><path d=\"M452.5 69a10 10 0 0 1 10 10v10a10 10 0 0 0 10 10\"/><path d=\"M404.0 99a10 10 0 0 0 10 -10v-40a10 10 0 0 1 10 -10\"/><g>\n",
       "<path d=\"M424.0 39h0.0\"/><path d=\"M452.5 39h0.0\"/><g class=\"terminal\">\n",
       "<path d=\"M424.0 39h0.0\"/><path d=\"M452.5 39h0.0\"/><rect height=\"22\" rx=\"10\" ry=\"10\" width=\"28.5\" x=\"424.0\" y=\"28\"/><text x=\"438.25\" y=\"43\">u</text></g></g><path d=\"M452.5 39a10 10 0 0 1 10 10v40a10 10 0 0 0 10 10\"/><path d=\"M404.0 99h20\"/><g>\n",
       "<path d=\"M424.0 99h0.0\"/><path d=\"M452.5 99h0.0\"/><g class=\"terminal\">\n",
       "<path d=\"M424.0 99h0.0\"/><path d=\"M452.5 99h0.0\"/><rect height=\"22\" rx=\"10\" ry=\"10\" width=\"28.5\" x=\"424.0\" y=\"88\"/><text x=\"438.25\" y=\"103\">w</text></g></g><path d=\"M452.5 99h20\"/><path d=\"M404.0 99a10 10 0 0 1 10 10v10a10 10 0 0 0 10 10\"/><g>\n",
       "<path d=\"M424.0 129h0.0\"/><path d=\"M452.5 129h0.0\"/><g class=\"terminal\">\n",
       "<path d=\"M424.0 129h0.0\"/><path d=\"M452.5 129h0.0\"/><rect height=\"22\" rx=\"10\" ry=\"10\" width=\"28.5\" x=\"424.0\" y=\"118\"/><text x=\"438.25\" y=\"133\">x</text></g></g><path d=\"M452.5 129a10 10 0 0 0 10 -10v-10a10 10 0 0 1 10 -10\"/><path d=\"M404.0 99a10 10 0 0 1 10 10v40a10 10 0 0 0 10 10\"/><g>\n",
       "<path d=\"M424.0 159h0.0\"/><path d=\"M452.5 159h0.0\"/><g class=\"terminal\">\n",
       "<path d=\"M424.0 159h0.0\"/><path d=\"M452.5 159h0.0\"/><rect height=\"22\" rx=\"10\" ry=\"10\" width=\"28.5\" x=\"424.0\" y=\"148\"/><text x=\"438.25\" y=\"163\">y</text></g></g><path d=\"M452.5 159a10 10 0 0 0 10 -10v-40a10 10 0 0 1 10 -10\"/></g><path d=\"M472.5 99a10 10 0 0 1 10 10v59a10 10 0 0 0 10 10\"/><path d=\"M472.5 20a10 10 0 0 1 10 10v59a10 10 0 0 0 10 10\"/><g>\n",
       "<path d=\"M492.5 99h0.0\"/><path d=\"M561.0 99h0.0\"/><path d=\"M492.5 99h20\"/><g>\n",
       "<path d=\"M512.5 99h0.0\"/><path d=\"M541.0 99h0.0\"/><g class=\"terminal\">\n",
       "<path d=\"M512.5 99h0.0\"/><path d=\"M541.0 99h0.0\"/><rect height=\"22\" rx=\"10\" ry=\"10\" width=\"28.5\" x=\"512.5\" y=\"88\"/><text x=\"526.75\" y=\"103\">z</text></g></g><path d=\"M541.0 99h20\"/></g><path d=\"M561.0 99h10\"/></g><path d=\"M 571.0 99 h 20 m -10 -10 v 20 m 10 -20 v 20\"/></g></svg>"
      ],
      "text/plain": [
       "<IPython.core.display.SVG object>"
      ]
     },
     "metadata": {},
     "output_type": "display_data"
    }
   ],
   "source": [
    "# ignore\n",
    "syntax_diagram(XML_GRAMMAR)"
   ]
  },
  {
   "cell_type": "markdown",
   "id": "7edc51ce",
   "metadata": {
    "slideshow": {
     "slide_type": "subslide"
    }
   },
   "source": [
    "The problem becomes evident when we produce inputs from the grammar: The `<id>` elements in `<open-tag>` and `<close-tag>` do not match."
   ]
  },
  {
   "cell_type": "code",
   "execution_count": 52,
   "id": "cbf25c83",
   "metadata": {
    "execution": {
     "iopub.execute_input": "2022-08-09T09:12:08.026321Z",
     "iopub.status.busy": "2022-08-09T09:12:08.025874Z",
     "iopub.status.idle": "2022-08-09T09:12:08.027603Z",
     "shell.execute_reply": "2022-08-09T09:12:08.027780Z"
    },
    "slideshow": {
     "slide_type": "fragment"
    }
   },
   "outputs": [
    {
     "data": {
      "text/plain": [
       "'<r>Text</q>'"
      ]
     },
     "execution_count": 52,
     "metadata": {},
     "output_type": "execute_result"
    }
   ],
   "source": [
    "fuzzer = GrammarFuzzer(XML_GRAMMAR)\n",
    "fuzzer.fuzz()"
   ]
  },
  {
   "cell_type": "markdown",
   "id": "a7afbb85",
   "metadata": {
    "slideshow": {
     "slide_type": "fragment"
    }
   },
   "source": [
    "If we want the tag IDs to match, we need to come up with a _finite_ set of tags (as in, say, HTML); then we can extend the grammar with one rule for each tag - `<body>...</body>`, `<p>...</p>`, `<strong>...</strong>`, and so on.\n",
    "For an _infinite_ set of tags, though, as in our grammar, expressing that the two tag IDs must match is not possible in a context-free grammar."
   ]
  },
  {
   "cell_type": "markdown",
   "id": "f272db66",
   "metadata": {
    "slideshow": {
     "slide_type": "fragment"
    }
   },
   "source": [
    "With ISLa, however, constraining the grammar is easy.\n",
    "All we need is the rule that constrains the `<xml-tree>`:"
   ]
  },
  {
   "cell_type": "code",
   "execution_count": 53,
   "id": "81218746",
   "metadata": {
    "execution": {
     "iopub.execute_input": "2022-08-09T09:12:08.031612Z",
     "iopub.status.busy": "2022-08-09T09:12:08.031226Z",
     "iopub.status.idle": "2022-08-09T09:12:08.947739Z",
     "shell.execute_reply": "2022-08-09T09:12:08.948170Z"
    },
    "slideshow": {
     "slide_type": "subslide"
    }
   },
   "outputs": [
    {
     "name": "stdout",
     "output_type": "stream",
     "text": [
      "<p>Text</p>\n",
      "<p><p>Text</p></p>\n",
      "<p><p><p>Text</p></p></p>\n"
     ]
    }
   ],
   "source": [
    "solver = ISLaSolver(XML_GRAMMAR, \n",
    "            '''\n",
    "            <xml-tree>.<open-tag>.<id> = <xml-tree>.<close-tag>.<id>\n",
    "            ''', max_number_smt_instantiations=1)\n",
    "\n",
    "for solution in itertools.islice(solver.solve(), 3):\n",
    "    print(solution)"
   ]
  },
  {
   "cell_type": "markdown",
   "id": "9ab2abc5-197a-4281-be7d-8f69fa98ad5b",
   "metadata": {
    "slideshow": {
     "slide_type": "fragment"
    }
   },
   "source": [
    "and we see that the `<id>` tags now indeed match each other."
   ]
  },
  {
   "cell_type": "markdown",
   "id": "7e265eed-bf23-40b2-ab1f-c43bf81a9499",
   "metadata": {
    "slideshow": {
     "slide_type": "subslide"
    }
   },
   "source": [
    "### Excursion: Solver Configuration Parameters"
   ]
  },
  {
   "cell_type": "markdown",
   "id": "51cb2673-4df8-497d-a6dc-6f0e1fa487e1",
   "metadata": {
    "slideshow": {
     "slide_type": "fragment"
    }
   },
   "source": [
    "The configuration parameter `max_number_smt_instantiations` we passed to the `ISLaSolver` object above limits the number of calls to ISLa's underlying SMT solver. Generally, higher numbers lead to more inputs generated per time. Many of those will look structurally similar, though. If we aim for structurally diverse inputs and do not care about, e.g., the names of tags, it can make sense to choose a lower value for this parameter. This is what happens with `max_number_smt_instantiations=10`, which is the current default:"
   ]
  },
  {
   "cell_type": "code",
   "execution_count": 54,
   "id": "716cfdfb-bcb2-4a7a-b3d9-9f6d983a5259",
   "metadata": {
    "execution": {
     "iopub.execute_input": "2022-08-09T09:12:08.951876Z",
     "iopub.status.busy": "2022-08-09T09:12:08.951552Z",
     "iopub.status.idle": "2022-08-09T09:12:09.865364Z",
     "shell.execute_reply": "2022-08-09T09:12:09.865597Z"
    },
    "slideshow": {
     "slide_type": "subslide"
    }
   },
   "outputs": [
    {
     "name": "stdout",
     "output_type": "stream",
     "text": [
      "<p>Text</p>\n",
      "<h>Text</h>\n",
      "<k>Text</k>\n"
     ]
    }
   ],
   "source": [
    "solver = ISLaSolver(XML_GRAMMAR, \n",
    "            '''\n",
    "            <xml-tree>.<open-tag>.<id> = <xml-tree>.<close-tag>.<id>\n",
    "            ''', max_number_smt_instantiations=10)\n",
    "\n",
    "for solution in itertools.islice(solver.solve(), 3):\n",
    "    print(solution)"
   ]
  },
  {
   "cell_type": "markdown",
   "id": "ea992ebf-5d80-4bca-9ee2-c8377fd755d7",
   "metadata": {
    "slideshow": {
     "slide_type": "subslide"
    }
   },
   "source": [
    "The parameter `max_number_free_instantiations` serves a similar purpose: ISla randomly instantiates nonterminal symbols whose values are not restricted by a constraint. It chooses&mdash;surprise!&mdash;at most `max_number_free_instantiations` such random instantiations.\n",
    "\n",
    "Other configuration parameters of interest are `structural_predicates` and `semantic_predicates`, which let you extend the ISLa language by passing custom structural and semantic predicates to the solver. You can use all the predicates in these sets inside the ISLa constraint to solve. Per default, the semantic predicate `count(in_tree, NEEDLE, NUM)` and the following structural predicates are available:\n",
    "\n",
    "- `after(node_1, node_2)`\n",
    "- `before(node_1, node_2)`\n",
    "- `consecutive(node_1, node_2)`\n",
    "- `count(in_tree, NEEDLE, NUM)`\n",
    "- `different_position(node_1, node_2)`\n",
    "- `direct_child(node_1, node_2)`\n",
    "- `inside(node_1, node_2)`\n",
    "- `level(PRED, NONTERMINAL, node_1, node_2)`\n",
    "- `nth(N, node_1, node_2)`\n",
    "- `same_position(node_1, node_2)`"
   ]
  },
  {
   "cell_type": "markdown",
   "id": "1ec88c69-5b74-4205-bd67-8f28efdecc7e",
   "metadata": {
    "slideshow": {
     "slide_type": "subslide"
    }
   },
   "source": [
    "### End of Excursion"
   ]
  },
  {
   "cell_type": "markdown",
   "id": "353c90ea",
   "metadata": {
    "slideshow": {
     "slide_type": "fragment"
    }
   },
   "source": [
    "In contrast to the \"input generator\" solution in the [chapter on generators](GeneratorGrammarFuzzer), our constraint-based solution is purely declarative - and can also be used to parse and check inputs.\n",
    "Plus, of course, we can easily add more constraints:"
   ]
  },
  {
   "cell_type": "code",
   "execution_count": 55,
   "id": "abd57a96",
   "metadata": {
    "execution": {
     "iopub.execute_input": "2022-08-09T09:12:09.870073Z",
     "iopub.status.busy": "2022-08-09T09:12:09.869762Z",
     "iopub.status.idle": "2022-08-09T09:12:10.955359Z",
     "shell.execute_reply": "2022-08-09T09:12:10.955635Z"
    },
    "slideshow": {
     "slide_type": "subslide"
    }
   },
   "outputs": [
    {
     "name": "stdout",
     "output_type": "stream",
     "text": [
      "<hpkhsklfbhp>Text</hpkhsklfbhp>\n",
      "<ppkhuclnblk><ppkhuclnblk>Text</ppkhuclnblk></ppkhuclnblk>\n",
      "<ppnxkklnahk><ppnxkklnahk><ppnxkklnahk>Text</ppnxkklnahk></ppnxkklnahk></ppnxkklnahk>\n"
     ]
    }
   ],
   "source": [
    "solver = ISLaSolver(XML_GRAMMAR, \n",
    "            '''\n",
    "            <xml-tree>.<open-tag>.<id> = <xml-tree>.<close-tag>.<id>\n",
    "            and\n",
    "            str.len(<id>) > 10\n",
    "            ''', max_number_smt_instantiations=1)\n",
    "\n",
    "for solution in itertools.islice(solver.solve(), 3):\n",
    "    print(solution)"
   ]
  },
  {
   "cell_type": "markdown",
   "id": "acc5c358",
   "metadata": {
    "slideshow": {
     "slide_type": "subslide"
    }
   },
   "source": [
    "### Definitions and Usages in Programming Languages\n",
    "\n",
    "When testing compilers with generated program code, one often encounters the problem that before _using_ an identifier, one has to _declare_ it first - specifying its type, some initial value, and more."
   ]
  },
  {
   "cell_type": "markdown",
   "id": "69bb6e09",
   "metadata": {
    "slideshow": {
     "slide_type": "fragment"
    }
   },
   "source": [
    "This problem is easily illustrated in the following grammar, which produces _sequences of assignments_.\n",
    "Variable names consist of a single lowercase letter; values can only be digits; assignments are separated by semicolons."
   ]
  },
  {
   "cell_type": "code",
   "execution_count": 56,
   "id": "051c04c4",
   "metadata": {
    "execution": {
     "iopub.execute_input": "2022-08-09T09:12:10.958298Z",
     "iopub.status.busy": "2022-08-09T09:12:10.958013Z",
     "iopub.status.idle": "2022-08-09T09:12:10.959161Z",
     "shell.execute_reply": "2022-08-09T09:12:10.959339Z"
    },
    "slideshow": {
     "slide_type": "subslide"
    }
   },
   "outputs": [],
   "source": [
    "LANG_GRAMMAR: Grammar = {\n",
    "    \"<start>\":\n",
    "        [\"<stmt>\"],\n",
    "    \"<stmt>\":\n",
    "        [\"<assgn>\", \"<assgn>; <stmt>\"],\n",
    "    \"<assgn>\":\n",
    "        [\"<lhs> := <rhs>\"],\n",
    "    \"<lhs>\":\n",
    "        [\"<var>\"],\n",
    "    \"<rhs>\":\n",
    "        [\"<var>\", \"<digit>\"],\n",
    "    \"<var>\": list(string.ascii_lowercase),\n",
    "    \"<digit>\": list(string.digits)\n",
    "}"
   ]
  },
  {
   "cell_type": "code",
   "execution_count": 57,
   "id": "0e7267b1",
   "metadata": {
    "execution": {
     "iopub.execute_input": "2022-08-09T09:12:10.961317Z",
     "iopub.status.busy": "2022-08-09T09:12:10.961038Z",
     "iopub.status.idle": "2022-08-09T09:12:10.962208Z",
     "shell.execute_reply": "2022-08-09T09:12:10.962450Z"
    },
    "slideshow": {
     "slide_type": "fragment"
    }
   },
   "outputs": [],
   "source": [
    "assert is_valid_grammar(LANG_GRAMMAR)"
   ]
  },
  {
   "cell_type": "code",
   "execution_count": 58,
   "id": "c8e26d19",
   "metadata": {
    "execution": {
     "iopub.execute_input": "2022-08-09T09:12:10.964867Z",
     "iopub.status.busy": "2022-08-09T09:12:10.964461Z",
     "iopub.status.idle": "2022-08-09T09:12:11.009687Z",
     "shell.execute_reply": "2022-08-09T09:12:11.010127Z"
    },
    "slideshow": {
     "slide_type": "subslide"
    }
   },
   "outputs": [
    {
     "name": "stdout",
     "output_type": "stream",
     "text": [
      "start\n"
     ]
    },
    {
     "data": {
      "image/svg+xml": [
       "<svg xmlns=\"http://www.w3.org/2000/svg\" class=\"railroad-diagram\" height=\"62\" viewBox=\"0 0 174.0 62\" width=\"174.0\">\n",
       "<g transform=\"translate(.5 .5)\">\n",
       "<style>/* <![CDATA[ */\n",
       "    svg.railroad-diagram {\n",
       "    }\n",
       "    svg.railroad-diagram path {\n",
       "        stroke-width:3;\n",
       "        stroke:black;\n",
       "        fill:white;\n",
       "    }\n",
       "    svg.railroad-diagram text {\n",
       "        font:14px \"Fira Mono\", monospace;\n",
       "        text-anchor:middle;\n",
       "    }\n",
       "    svg.railroad-diagram text.label{\n",
       "        text-anchor:start;\n",
       "    }\n",
       "    svg.railroad-diagram text.comment{\n",
       "        font:italic 12px \"Fira Mono\", monospace;\n",
       "    }\n",
       "    svg.railroad-diagram rect{\n",
       "        stroke-width:2;\n",
       "        stroke:black;\n",
       "        fill:mistyrose;\n",
       "    }\n",
       "\n",
       "/* ]]> */\n",
       "</style><g>\n",
       "<path d=\"M20 21v20m10 -20v20m-10 -10h20\"/></g><g>\n",
       "<path d=\"M40 31h0.0\"/><path d=\"M134.0 31h0.0\"/><path d=\"M40.0 31h20\"/><g>\n",
       "<path d=\"M60.0 31h0.0\"/><path d=\"M114.0 31h0.0\"/><g class=\"non-terminal\">\n",
       "<path d=\"M60.0 31h0.0\"/><path d=\"M114.0 31h0.0\"/><rect height=\"22\" width=\"54.0\" x=\"60.0\" y=\"20\"/><text x=\"87.0\" y=\"35\">stmt</text></g></g><path d=\"M114.0 31h20\"/></g><path d=\"M 134.0 31 h 20 m -10 -10 v 20 m 10 -20 v 20\"/></g></svg>"
      ],
      "text/plain": [
       "<IPython.core.display.SVG object>"
      ]
     },
     "metadata": {},
     "output_type": "display_data"
    },
    {
     "name": "stdout",
     "output_type": "stream",
     "text": [
      "stmt\n"
     ]
    },
    {
     "data": {
      "image/svg+xml": [
       "<svg xmlns=\"http://www.w3.org/2000/svg\" class=\"railroad-diagram\" height=\"92\" viewBox=\"0 0 313.5 92\" width=\"313.5\">\n",
       "<g transform=\"translate(.5 .5)\">\n",
       "<style>/* <![CDATA[ */\n",
       "    svg.railroad-diagram {\n",
       "    }\n",
       "    svg.railroad-diagram path {\n",
       "        stroke-width:3;\n",
       "        stroke:black;\n",
       "        fill:white;\n",
       "    }\n",
       "    svg.railroad-diagram text {\n",
       "        font:14px \"Fira Mono\", monospace;\n",
       "        text-anchor:middle;\n",
       "    }\n",
       "    svg.railroad-diagram text.label{\n",
       "        text-anchor:start;\n",
       "    }\n",
       "    svg.railroad-diagram text.comment{\n",
       "        font:italic 12px \"Fira Mono\", monospace;\n",
       "    }\n",
       "    svg.railroad-diagram rect{\n",
       "        stroke-width:2;\n",
       "        stroke:black;\n",
       "        fill:mistyrose;\n",
       "    }\n",
       "\n",
       "/* ]]> */\n",
       "</style><g>\n",
       "<path d=\"M20 51v20m10 -20v20m-10 -10h20\"/></g><g>\n",
       "<path d=\"M40 61h0.0\"/><path d=\"M273.5 61h0.0\"/><path d=\"M40.0 61a10 10 0 0 0 10 -10v-10a10 10 0 0 1 10 -10\"/><g>\n",
       "<path d=\"M60.0 31h65.5\"/><path d=\"M188.0 31h65.5\"/><g class=\"non-terminal\">\n",
       "<path d=\"M125.5 31h0.0\"/><path d=\"M188.0 31h0.0\"/><rect height=\"22\" width=\"62.5\" x=\"125.5\" y=\"20\"/><text x=\"156.75\" y=\"35\">assgn</text></g></g><path d=\"M253.5 31a10 10 0 0 1 10 10v10a10 10 0 0 0 10 10\"/><path d=\"M40.0 61h20\"/><g>\n",
       "<path d=\"M60.0 61h0.0\"/><path d=\"M253.5 61h0.0\"/><g class=\"non-terminal\">\n",
       "<path d=\"M60.0 61h0.0\"/><path d=\"M122.5 61h0.0\"/><rect height=\"22\" width=\"62.5\" x=\"60.0\" y=\"50\"/><text x=\"91.25\" y=\"65\">assgn</text></g><path d=\"M122.5 61h10\"/><path d=\"M132.5 61h10\"/><g class=\"terminal\">\n",
       "<path d=\"M142.5 61h0.0\"/><path d=\"M179.5 61h0.0\"/><rect height=\"22\" rx=\"10\" ry=\"10\" width=\"37.0\" x=\"142.5\" y=\"50\"/><text x=\"161.0\" y=\"65\">; </text></g><path d=\"M179.5 61h10\"/><path d=\"M189.5 61h10\"/><g class=\"non-terminal\">\n",
       "<path d=\"M199.5 61h0.0\"/><path d=\"M253.5 61h0.0\"/><rect height=\"22\" width=\"54.0\" x=\"199.5\" y=\"50\"/><text x=\"226.5\" y=\"65\">stmt</text></g></g><path d=\"M253.5 61h20\"/></g><path d=\"M 273.5 61 h 20 m -10 -10 v 20 m 10 -20 v 20\"/></g></svg>"
      ],
      "text/plain": [
       "<IPython.core.display.SVG object>"
      ]
     },
     "metadata": {},
     "output_type": "display_data"
    },
    {
     "name": "stdout",
     "output_type": "stream",
     "text": [
      "assgn\n"
     ]
    },
    {
     "data": {
      "image/svg+xml": [
       "<svg xmlns=\"http://www.w3.org/2000/svg\" class=\"railroad-diagram\" height=\"62\" viewBox=\"0 0 305.0 62\" width=\"305.0\">\n",
       "<g transform=\"translate(.5 .5)\">\n",
       "<style>/* <![CDATA[ */\n",
       "    svg.railroad-diagram {\n",
       "    }\n",
       "    svg.railroad-diagram path {\n",
       "        stroke-width:3;\n",
       "        stroke:black;\n",
       "        fill:white;\n",
       "    }\n",
       "    svg.railroad-diagram text {\n",
       "        font:14px \"Fira Mono\", monospace;\n",
       "        text-anchor:middle;\n",
       "    }\n",
       "    svg.railroad-diagram text.label{\n",
       "        text-anchor:start;\n",
       "    }\n",
       "    svg.railroad-diagram text.comment{\n",
       "        font:italic 12px \"Fira Mono\", monospace;\n",
       "    }\n",
       "    svg.railroad-diagram rect{\n",
       "        stroke-width:2;\n",
       "        stroke:black;\n",
       "        fill:mistyrose;\n",
       "    }\n",
       "\n",
       "/* ]]> */\n",
       "</style><g>\n",
       "<path d=\"M20 21v20m10 -20v20m-10 -10h20\"/></g><g>\n",
       "<path d=\"M40 31h0.0\"/><path d=\"M265.0 31h0.0\"/><path d=\"M40.0 31h20\"/><g>\n",
       "<path d=\"M60.0 31h0.0\"/><path d=\"M245.0 31h0.0\"/><g class=\"non-terminal\">\n",
       "<path d=\"M60.0 31h0.0\"/><path d=\"M105.5 31h0.0\"/><rect height=\"22\" width=\"45.5\" x=\"60.0\" y=\"20\"/><text x=\"82.75\" y=\"35\">lhs</text></g><path d=\"M105.5 31h10\"/><path d=\"M115.5 31h10\"/><g class=\"terminal\">\n",
       "<path d=\"M125.5 31h0.0\"/><path d=\"M179.5 31h0.0\"/><rect height=\"22\" rx=\"10\" ry=\"10\" width=\"54.0\" x=\"125.5\" y=\"20\"/><text x=\"152.5\" y=\"35\"> := </text></g><path d=\"M179.5 31h10\"/><path d=\"M189.5 31h10\"/><g class=\"non-terminal\">\n",
       "<path d=\"M199.5 31h0.0\"/><path d=\"M245.0 31h0.0\"/><rect height=\"22\" width=\"45.5\" x=\"199.5\" y=\"20\"/><text x=\"222.25\" y=\"35\">rhs</text></g></g><path d=\"M245.0 31h20\"/></g><path d=\"M 265.0 31 h 20 m -10 -10 v 20 m 10 -20 v 20\"/></g></svg>"
      ],
      "text/plain": [
       "<IPython.core.display.SVG object>"
      ]
     },
     "metadata": {},
     "output_type": "display_data"
    },
    {
     "name": "stdout",
     "output_type": "stream",
     "text": [
      "lhs\n"
     ]
    },
    {
     "data": {
      "image/svg+xml": [
       "<svg xmlns=\"http://www.w3.org/2000/svg\" class=\"railroad-diagram\" height=\"62\" viewBox=\"0 0 165.5 62\" width=\"165.5\">\n",
       "<g transform=\"translate(.5 .5)\">\n",
       "<style>/* <![CDATA[ */\n",
       "    svg.railroad-diagram {\n",
       "    }\n",
       "    svg.railroad-diagram path {\n",
       "        stroke-width:3;\n",
       "        stroke:black;\n",
       "        fill:white;\n",
       "    }\n",
       "    svg.railroad-diagram text {\n",
       "        font:14px \"Fira Mono\", monospace;\n",
       "        text-anchor:middle;\n",
       "    }\n",
       "    svg.railroad-diagram text.label{\n",
       "        text-anchor:start;\n",
       "    }\n",
       "    svg.railroad-diagram text.comment{\n",
       "        font:italic 12px \"Fira Mono\", monospace;\n",
       "    }\n",
       "    svg.railroad-diagram rect{\n",
       "        stroke-width:2;\n",
       "        stroke:black;\n",
       "        fill:mistyrose;\n",
       "    }\n",
       "\n",
       "/* ]]> */\n",
       "</style><g>\n",
       "<path d=\"M20 21v20m10 -20v20m-10 -10h20\"/></g><g>\n",
       "<path d=\"M40 31h0.0\"/><path d=\"M125.5 31h0.0\"/><path d=\"M40.0 31h20\"/><g>\n",
       "<path d=\"M60.0 31h0.0\"/><path d=\"M105.5 31h0.0\"/><g class=\"non-terminal\">\n",
       "<path d=\"M60.0 31h0.0\"/><path d=\"M105.5 31h0.0\"/><rect height=\"22\" width=\"45.5\" x=\"60.0\" y=\"20\"/><text x=\"82.75\" y=\"35\">var</text></g></g><path d=\"M105.5 31h20\"/></g><path d=\"M 125.5 31 h 20 m -10 -10 v 20 m 10 -20 v 20\"/></g></svg>"
      ],
      "text/plain": [
       "<IPython.core.display.SVG object>"
      ]
     },
     "metadata": {},
     "output_type": "display_data"
    },
    {
     "name": "stdout",
     "output_type": "stream",
     "text": [
      "rhs\n"
     ]
    },
    {
     "data": {
      "image/svg+xml": [
       "<svg xmlns=\"http://www.w3.org/2000/svg\" class=\"railroad-diagram\" height=\"92\" viewBox=\"0 0 182.5 92\" width=\"182.5\">\n",
       "<g transform=\"translate(.5 .5)\">\n",
       "<style>/* <![CDATA[ */\n",
       "    svg.railroad-diagram {\n",
       "    }\n",
       "    svg.railroad-diagram path {\n",
       "        stroke-width:3;\n",
       "        stroke:black;\n",
       "        fill:white;\n",
       "    }\n",
       "    svg.railroad-diagram text {\n",
       "        font:14px \"Fira Mono\", monospace;\n",
       "        text-anchor:middle;\n",
       "    }\n",
       "    svg.railroad-diagram text.label{\n",
       "        text-anchor:start;\n",
       "    }\n",
       "    svg.railroad-diagram text.comment{\n",
       "        font:italic 12px \"Fira Mono\", monospace;\n",
       "    }\n",
       "    svg.railroad-diagram rect{\n",
       "        stroke-width:2;\n",
       "        stroke:black;\n",
       "        fill:mistyrose;\n",
       "    }\n",
       "\n",
       "/* ]]> */\n",
       "</style><g>\n",
       "<path d=\"M20 51v20m10 -20v20m-10 -10h20\"/></g><g>\n",
       "<path d=\"M40 61h0.0\"/><path d=\"M142.5 61h0.0\"/><path d=\"M40.0 61a10 10 0 0 0 10 -10v-10a10 10 0 0 1 10 -10\"/><g>\n",
       "<path d=\"M60.0 31h8.5\"/><path d=\"M114.0 31h8.5\"/><g class=\"non-terminal\">\n",
       "<path d=\"M68.5 31h0.0\"/><path d=\"M114.0 31h0.0\"/><rect height=\"22\" width=\"45.5\" x=\"68.5\" y=\"20\"/><text x=\"91.25\" y=\"35\">var</text></g></g><path d=\"M122.5 31a10 10 0 0 1 10 10v10a10 10 0 0 0 10 10\"/><path d=\"M40.0 61h20\"/><g>\n",
       "<path d=\"M60.0 61h0.0\"/><path d=\"M122.5 61h0.0\"/><g class=\"non-terminal\">\n",
       "<path d=\"M60.0 61h0.0\"/><path d=\"M122.5 61h0.0\"/><rect height=\"22\" width=\"62.5\" x=\"60.0\" y=\"50\"/><text x=\"91.25\" y=\"65\">digit</text></g></g><path d=\"M122.5 61h20\"/></g><path d=\"M 142.5 61 h 20 m -10 -10 v 20 m 10 -20 v 20\"/></g></svg>"
      ],
      "text/plain": [
       "<IPython.core.display.SVG object>"
      ]
     },
     "metadata": {},
     "output_type": "display_data"
    },
    {
     "name": "stdout",
     "output_type": "stream",
     "text": [
      "var\n"
     ]
    },
    {
     "data": {
      "image/svg+xml": [
       "<svg xmlns=\"http://www.w3.org/2000/svg\" class=\"railroad-diagram\" height=\"198\" viewBox=\"0 0 611.0 198\" width=\"611.0\">\n",
       "<g transform=\"translate(.5 .5)\">\n",
       "<style>/* <![CDATA[ */\n",
       "    svg.railroad-diagram {\n",
       "    }\n",
       "    svg.railroad-diagram path {\n",
       "        stroke-width:3;\n",
       "        stroke:black;\n",
       "        fill:white;\n",
       "    }\n",
       "    svg.railroad-diagram text {\n",
       "        font:14px \"Fira Mono\", monospace;\n",
       "        text-anchor:middle;\n",
       "    }\n",
       "    svg.railroad-diagram text.label{\n",
       "        text-anchor:start;\n",
       "    }\n",
       "    svg.railroad-diagram text.comment{\n",
       "        font:italic 12px \"Fira Mono\", monospace;\n",
       "    }\n",
       "    svg.railroad-diagram rect{\n",
       "        stroke-width:2;\n",
       "        stroke:black;\n",
       "        fill:mistyrose;\n",
       "    }\n",
       "\n",
       "/* ]]> */\n",
       "</style><g>\n",
       "<path d=\"M20 89v20m10 -20v20m-10 -10h20\"/></g><g>\n",
       "<path d=\"M40 99h0.0\"/><path d=\"M571.0 99h0.0\"/><path d=\"M40.0 99a10 10 0 0 0 10 -10v-59a10 10 0 0 1 10 -10h412.5\"/><path d=\"M138.5 178h412.5a10 10 0 0 0 10 -10v-59a10 10 0 0 1 10 -10\"/><path d=\"M40.0 99h10\"/><g>\n",
       "<path d=\"M50.0 99h0.0\"/><path d=\"M118.5 99h0.0\"/><path d=\"M50.0 99a10 10 0 0 0 10 -10v-10a10 10 0 0 1 10 -10\"/><g>\n",
       "<path d=\"M70.0 69h0.0\"/><path d=\"M98.5 69h0.0\"/><g class=\"terminal\">\n",
       "<path d=\"M70.0 69h0.0\"/><path d=\"M98.5 69h0.0\"/><rect height=\"22\" rx=\"10\" ry=\"10\" width=\"28.5\" x=\"70.0\" y=\"58\"/><text x=\"84.25\" y=\"73\">b</text></g></g><path d=\"M98.5 69a10 10 0 0 1 10 10v10a10 10 0 0 0 10 10\"/><path d=\"M50.0 99a10 10 0 0 0 10 -10v-40a10 10 0 0 1 10 -10\"/><g>\n",
       "<path d=\"M70.0 39h0.0\"/><path d=\"M98.5 39h0.0\"/><g class=\"terminal\">\n",
       "<path d=\"M70.0 39h0.0\"/><path d=\"M98.5 39h0.0\"/><rect height=\"22\" rx=\"10\" ry=\"10\" width=\"28.5\" x=\"70.0\" y=\"28\"/><text x=\"84.25\" y=\"43\">a</text></g></g><path d=\"M98.5 39a10 10 0 0 1 10 10v40a10 10 0 0 0 10 10\"/><path d=\"M50.0 99h20\"/><g>\n",
       "<path d=\"M70.0 99h0.0\"/><path d=\"M98.5 99h0.0\"/><g class=\"terminal\">\n",
       "<path d=\"M70.0 99h0.0\"/><path d=\"M98.5 99h0.0\"/><rect height=\"22\" rx=\"10\" ry=\"10\" width=\"28.5\" x=\"70.0\" y=\"88\"/><text x=\"84.25\" y=\"103\">c</text></g></g><path d=\"M98.5 99h20\"/><path d=\"M50.0 99a10 10 0 0 1 10 10v10a10 10 0 0 0 10 10\"/><g>\n",
       "<path d=\"M70.0 129h0.0\"/><path d=\"M98.5 129h0.0\"/><g class=\"terminal\">\n",
       "<path d=\"M70.0 129h0.0\"/><path d=\"M98.5 129h0.0\"/><rect height=\"22\" rx=\"10\" ry=\"10\" width=\"28.5\" x=\"70.0\" y=\"118\"/><text x=\"84.25\" y=\"133\">d</text></g></g><path d=\"M98.5 129a10 10 0 0 0 10 -10v-10a10 10 0 0 1 10 -10\"/><path d=\"M50.0 99a10 10 0 0 1 10 10v40a10 10 0 0 0 10 10\"/><g>\n",
       "<path d=\"M70.0 159h0.0\"/><path d=\"M98.5 159h0.0\"/><g class=\"terminal\">\n",
       "<path d=\"M70.0 159h0.0\"/><path d=\"M98.5 159h0.0\"/><rect height=\"22\" rx=\"10\" ry=\"10\" width=\"28.5\" x=\"70.0\" y=\"148\"/><text x=\"84.25\" y=\"163\">e</text></g></g><path d=\"M98.5 159a10 10 0 0 0 10 -10v-40a10 10 0 0 1 10 -10\"/></g><path d=\"M118.5 99a10 10 0 0 1 10 10v59a10 10 0 0 0 10 10\"/><path d=\"M118.5 20a10 10 0 0 1 10 10v59a10 10 0 0 0 10 10\"/><g>\n",
       "<path d=\"M138.5 99h0.0\"/><path d=\"M207.0 99h0.0\"/><path d=\"M138.5 99a10 10 0 0 0 10 -10v-10a10 10 0 0 1 10 -10\"/><g>\n",
       "<path d=\"M158.5 69h0.0\"/><path d=\"M187.0 69h0.0\"/><g class=\"terminal\">\n",
       "<path d=\"M158.5 69h0.0\"/><path d=\"M187.0 69h0.0\"/><rect height=\"22\" rx=\"10\" ry=\"10\" width=\"28.5\" x=\"158.5\" y=\"58\"/><text x=\"172.75\" y=\"73\">g</text></g></g><path d=\"M187.0 69a10 10 0 0 1 10 10v10a10 10 0 0 0 10 10\"/><path d=\"M138.5 99a10 10 0 0 0 10 -10v-40a10 10 0 0 1 10 -10\"/><g>\n",
       "<path d=\"M158.5 39h0.0\"/><path d=\"M187.0 39h0.0\"/><g class=\"terminal\">\n",
       "<path d=\"M158.5 39h0.0\"/><path d=\"M187.0 39h0.0\"/><rect height=\"22\" rx=\"10\" ry=\"10\" width=\"28.5\" x=\"158.5\" y=\"28\"/><text x=\"172.75\" y=\"43\">f</text></g></g><path d=\"M187.0 39a10 10 0 0 1 10 10v40a10 10 0 0 0 10 10\"/><path d=\"M138.5 99h20\"/><g>\n",
       "<path d=\"M158.5 99h0.0\"/><path d=\"M187.0 99h0.0\"/><g class=\"terminal\">\n",
       "<path d=\"M158.5 99h0.0\"/><path d=\"M187.0 99h0.0\"/><rect height=\"22\" rx=\"10\" ry=\"10\" width=\"28.5\" x=\"158.5\" y=\"88\"/><text x=\"172.75\" y=\"103\">h</text></g></g><path d=\"M187.0 99h20\"/><path d=\"M138.5 99a10 10 0 0 1 10 10v10a10 10 0 0 0 10 10\"/><g>\n",
       "<path d=\"M158.5 129h0.0\"/><path d=\"M187.0 129h0.0\"/><g class=\"terminal\">\n",
       "<path d=\"M158.5 129h0.0\"/><path d=\"M187.0 129h0.0\"/><rect height=\"22\" rx=\"10\" ry=\"10\" width=\"28.5\" x=\"158.5\" y=\"118\"/><text x=\"172.75\" y=\"133\">i</text></g></g><path d=\"M187.0 129a10 10 0 0 0 10 -10v-10a10 10 0 0 1 10 -10\"/><path d=\"M138.5 99a10 10 0 0 1 10 10v40a10 10 0 0 0 10 10\"/><g>\n",
       "<path d=\"M158.5 159h0.0\"/><path d=\"M187.0 159h0.0\"/><g class=\"terminal\">\n",
       "<path d=\"M158.5 159h0.0\"/><path d=\"M187.0 159h0.0\"/><rect height=\"22\" rx=\"10\" ry=\"10\" width=\"28.5\" x=\"158.5\" y=\"148\"/><text x=\"172.75\" y=\"163\">j</text></g></g><path d=\"M187.0 159a10 10 0 0 0 10 -10v-40a10 10 0 0 1 10 -10\"/></g><path d=\"M207.0 99a10 10 0 0 1 10 10v59a10 10 0 0 0 10 10\"/><path d=\"M207.0 20a10 10 0 0 1 10 10v59a10 10 0 0 0 10 10\"/><g>\n",
       "<path d=\"M227.0 99h0.0\"/><path d=\"M295.5 99h0.0\"/><path d=\"M227.0 99a10 10 0 0 0 10 -10v-10a10 10 0 0 1 10 -10\"/><g>\n",
       "<path d=\"M247.0 69h0.0\"/><path d=\"M275.5 69h0.0\"/><g class=\"terminal\">\n",
       "<path d=\"M247.0 69h0.0\"/><path d=\"M275.5 69h0.0\"/><rect height=\"22\" rx=\"10\" ry=\"10\" width=\"28.5\" x=\"247.0\" y=\"58\"/><text x=\"261.25\" y=\"73\">l</text></g></g><path d=\"M275.5 69a10 10 0 0 1 10 10v10a10 10 0 0 0 10 10\"/><path d=\"M227.0 99a10 10 0 0 0 10 -10v-40a10 10 0 0 1 10 -10\"/><g>\n",
       "<path d=\"M247.0 39h0.0\"/><path d=\"M275.5 39h0.0\"/><g class=\"terminal\">\n",
       "<path d=\"M247.0 39h0.0\"/><path d=\"M275.5 39h0.0\"/><rect height=\"22\" rx=\"10\" ry=\"10\" width=\"28.5\" x=\"247.0\" y=\"28\"/><text x=\"261.25\" y=\"43\">k</text></g></g><path d=\"M275.5 39a10 10 0 0 1 10 10v40a10 10 0 0 0 10 10\"/><path d=\"M227.0 99h20\"/><g>\n",
       "<path d=\"M247.0 99h0.0\"/><path d=\"M275.5 99h0.0\"/><g class=\"terminal\">\n",
       "<path d=\"M247.0 99h0.0\"/><path d=\"M275.5 99h0.0\"/><rect height=\"22\" rx=\"10\" ry=\"10\" width=\"28.5\" x=\"247.0\" y=\"88\"/><text x=\"261.25\" y=\"103\">m</text></g></g><path d=\"M275.5 99h20\"/><path d=\"M227.0 99a10 10 0 0 1 10 10v10a10 10 0 0 0 10 10\"/><g>\n",
       "<path d=\"M247.0 129h0.0\"/><path d=\"M275.5 129h0.0\"/><g class=\"terminal\">\n",
       "<path d=\"M247.0 129h0.0\"/><path d=\"M275.5 129h0.0\"/><rect height=\"22\" rx=\"10\" ry=\"10\" width=\"28.5\" x=\"247.0\" y=\"118\"/><text x=\"261.25\" y=\"133\">n</text></g></g><path d=\"M275.5 129a10 10 0 0 0 10 -10v-10a10 10 0 0 1 10 -10\"/><path d=\"M227.0 99a10 10 0 0 1 10 10v40a10 10 0 0 0 10 10\"/><g>\n",
       "<path d=\"M247.0 159h0.0\"/><path d=\"M275.5 159h0.0\"/><g class=\"terminal\">\n",
       "<path d=\"M247.0 159h0.0\"/><path d=\"M275.5 159h0.0\"/><rect height=\"22\" rx=\"10\" ry=\"10\" width=\"28.5\" x=\"247.0\" y=\"148\"/><text x=\"261.25\" y=\"163\">o</text></g></g><path d=\"M275.5 159a10 10 0 0 0 10 -10v-40a10 10 0 0 1 10 -10\"/></g><path d=\"M295.5 99a10 10 0 0 1 10 10v59a10 10 0 0 0 10 10\"/><path d=\"M295.5 20a10 10 0 0 1 10 10v59a10 10 0 0 0 10 10\"/><g>\n",
       "<path d=\"M315.5 99h0.0\"/><path d=\"M384.0 99h0.0\"/><path d=\"M315.5 99a10 10 0 0 0 10 -10v-10a10 10 0 0 1 10 -10\"/><g>\n",
       "<path d=\"M335.5 69h0.0\"/><path d=\"M364.0 69h0.0\"/><g class=\"terminal\">\n",
       "<path d=\"M335.5 69h0.0\"/><path d=\"M364.0 69h0.0\"/><rect height=\"22\" rx=\"10\" ry=\"10\" width=\"28.5\" x=\"335.5\" y=\"58\"/><text x=\"349.75\" y=\"73\">q</text></g></g><path d=\"M364.0 69a10 10 0 0 1 10 10v10a10 10 0 0 0 10 10\"/><path d=\"M315.5 99a10 10 0 0 0 10 -10v-40a10 10 0 0 1 10 -10\"/><g>\n",
       "<path d=\"M335.5 39h0.0\"/><path d=\"M364.0 39h0.0\"/><g class=\"terminal\">\n",
       "<path d=\"M335.5 39h0.0\"/><path d=\"M364.0 39h0.0\"/><rect height=\"22\" rx=\"10\" ry=\"10\" width=\"28.5\" x=\"335.5\" y=\"28\"/><text x=\"349.75\" y=\"43\">p</text></g></g><path d=\"M364.0 39a10 10 0 0 1 10 10v40a10 10 0 0 0 10 10\"/><path d=\"M315.5 99h20\"/><g>\n",
       "<path d=\"M335.5 99h0.0\"/><path d=\"M364.0 99h0.0\"/><g class=\"terminal\">\n",
       "<path d=\"M335.5 99h0.0\"/><path d=\"M364.0 99h0.0\"/><rect height=\"22\" rx=\"10\" ry=\"10\" width=\"28.5\" x=\"335.5\" y=\"88\"/><text x=\"349.75\" y=\"103\">r</text></g></g><path d=\"M364.0 99h20\"/><path d=\"M315.5 99a10 10 0 0 1 10 10v10a10 10 0 0 0 10 10\"/><g>\n",
       "<path d=\"M335.5 129h0.0\"/><path d=\"M364.0 129h0.0\"/><g class=\"terminal\">\n",
       "<path d=\"M335.5 129h0.0\"/><path d=\"M364.0 129h0.0\"/><rect height=\"22\" rx=\"10\" ry=\"10\" width=\"28.5\" x=\"335.5\" y=\"118\"/><text x=\"349.75\" y=\"133\">s</text></g></g><path d=\"M364.0 129a10 10 0 0 0 10 -10v-10a10 10 0 0 1 10 -10\"/><path d=\"M315.5 99a10 10 0 0 1 10 10v40a10 10 0 0 0 10 10\"/><g>\n",
       "<path d=\"M335.5 159h0.0\"/><path d=\"M364.0 159h0.0\"/><g class=\"terminal\">\n",
       "<path d=\"M335.5 159h0.0\"/><path d=\"M364.0 159h0.0\"/><rect height=\"22\" rx=\"10\" ry=\"10\" width=\"28.5\" x=\"335.5\" y=\"148\"/><text x=\"349.75\" y=\"163\">t</text></g></g><path d=\"M364.0 159a10 10 0 0 0 10 -10v-40a10 10 0 0 1 10 -10\"/></g><path d=\"M384.0 99a10 10 0 0 1 10 10v59a10 10 0 0 0 10 10\"/><path d=\"M384.0 20a10 10 0 0 1 10 10v59a10 10 0 0 0 10 10\"/><g>\n",
       "<path d=\"M404.0 99h0.0\"/><path d=\"M472.5 99h0.0\"/><path d=\"M404.0 99a10 10 0 0 0 10 -10v-10a10 10 0 0 1 10 -10\"/><g>\n",
       "<path d=\"M424.0 69h0.0\"/><path d=\"M452.5 69h0.0\"/><g class=\"terminal\">\n",
       "<path d=\"M424.0 69h0.0\"/><path d=\"M452.5 69h0.0\"/><rect height=\"22\" rx=\"10\" ry=\"10\" width=\"28.5\" x=\"424.0\" y=\"58\"/><text x=\"438.25\" y=\"73\">v</text></g></g><path d=\"M452.5 69a10 10 0 0 1 10 10v10a10 10 0 0 0 10 10\"/><path d=\"M404.0 99a10 10 0 0 0 10 -10v-40a10 10 0 0 1 10 -10\"/><g>\n",
       "<path d=\"M424.0 39h0.0\"/><path d=\"M452.5 39h0.0\"/><g class=\"terminal\">\n",
       "<path d=\"M424.0 39h0.0\"/><path d=\"M452.5 39h0.0\"/><rect height=\"22\" rx=\"10\" ry=\"10\" width=\"28.5\" x=\"424.0\" y=\"28\"/><text x=\"438.25\" y=\"43\">u</text></g></g><path d=\"M452.5 39a10 10 0 0 1 10 10v40a10 10 0 0 0 10 10\"/><path d=\"M404.0 99h20\"/><g>\n",
       "<path d=\"M424.0 99h0.0\"/><path d=\"M452.5 99h0.0\"/><g class=\"terminal\">\n",
       "<path d=\"M424.0 99h0.0\"/><path d=\"M452.5 99h0.0\"/><rect height=\"22\" rx=\"10\" ry=\"10\" width=\"28.5\" x=\"424.0\" y=\"88\"/><text x=\"438.25\" y=\"103\">w</text></g></g><path d=\"M452.5 99h20\"/><path d=\"M404.0 99a10 10 0 0 1 10 10v10a10 10 0 0 0 10 10\"/><g>\n",
       "<path d=\"M424.0 129h0.0\"/><path d=\"M452.5 129h0.0\"/><g class=\"terminal\">\n",
       "<path d=\"M424.0 129h0.0\"/><path d=\"M452.5 129h0.0\"/><rect height=\"22\" rx=\"10\" ry=\"10\" width=\"28.5\" x=\"424.0\" y=\"118\"/><text x=\"438.25\" y=\"133\">x</text></g></g><path d=\"M452.5 129a10 10 0 0 0 10 -10v-10a10 10 0 0 1 10 -10\"/><path d=\"M404.0 99a10 10 0 0 1 10 10v40a10 10 0 0 0 10 10\"/><g>\n",
       "<path d=\"M424.0 159h0.0\"/><path d=\"M452.5 159h0.0\"/><g class=\"terminal\">\n",
       "<path d=\"M424.0 159h0.0\"/><path d=\"M452.5 159h0.0\"/><rect height=\"22\" rx=\"10\" ry=\"10\" width=\"28.5\" x=\"424.0\" y=\"148\"/><text x=\"438.25\" y=\"163\">y</text></g></g><path d=\"M452.5 159a10 10 0 0 0 10 -10v-40a10 10 0 0 1 10 -10\"/></g><path d=\"M472.5 99a10 10 0 0 1 10 10v59a10 10 0 0 0 10 10\"/><path d=\"M472.5 20a10 10 0 0 1 10 10v59a10 10 0 0 0 10 10\"/><g>\n",
       "<path d=\"M492.5 99h0.0\"/><path d=\"M561.0 99h0.0\"/><path d=\"M492.5 99h20\"/><g>\n",
       "<path d=\"M512.5 99h0.0\"/><path d=\"M541.0 99h0.0\"/><g class=\"terminal\">\n",
       "<path d=\"M512.5 99h0.0\"/><path d=\"M541.0 99h0.0\"/><rect height=\"22\" rx=\"10\" ry=\"10\" width=\"28.5\" x=\"512.5\" y=\"88\"/><text x=\"526.75\" y=\"103\">z</text></g></g><path d=\"M541.0 99h20\"/></g><path d=\"M561.0 99h10\"/></g><path d=\"M 571.0 99 h 20 m -10 -10 v 20 m 10 -20 v 20\"/></g></svg>"
      ],
      "text/plain": [
       "<IPython.core.display.SVG object>"
      ]
     },
     "metadata": {},
     "output_type": "display_data"
    },
    {
     "name": "stdout",
     "output_type": "stream",
     "text": [
      "digit\n"
     ]
    },
    {
     "data": {
      "image/svg+xml": [
       "<svg xmlns=\"http://www.w3.org/2000/svg\" class=\"railroad-diagram\" height=\"109\" viewBox=\"0 0 522.5 109\" width=\"522.5\">\n",
       "<g transform=\"translate(.5 .5)\">\n",
       "<style>/* <![CDATA[ */\n",
       "    svg.railroad-diagram {\n",
       "    }\n",
       "    svg.railroad-diagram path {\n",
       "        stroke-width:3;\n",
       "        stroke:black;\n",
       "        fill:white;\n",
       "    }\n",
       "    svg.railroad-diagram text {\n",
       "        font:14px \"Fira Mono\", monospace;\n",
       "        text-anchor:middle;\n",
       "    }\n",
       "    svg.railroad-diagram text.label{\n",
       "        text-anchor:start;\n",
       "    }\n",
       "    svg.railroad-diagram text.comment{\n",
       "        font:italic 12px \"Fira Mono\", monospace;\n",
       "    }\n",
       "    svg.railroad-diagram rect{\n",
       "        stroke-width:2;\n",
       "        stroke:black;\n",
       "        fill:mistyrose;\n",
       "    }\n",
       "\n",
       "/* ]]> */\n",
       "</style><g>\n",
       "<path d=\"M20 59v20m10 -20v20m-10 -10h20\"/></g><g>\n",
       "<path d=\"M40 69h0.0\"/><path d=\"M482.5 69h0.0\"/><path d=\"M40.0 69a10 10 0 0 0 10 -10v-29a10 10 0 0 1 10 -10h324.0\"/><path d=\"M138.5 89h324.0a10 10 0 0 0 10 -10v0a10 10 0 0 1 10 -10\"/><path d=\"M40.0 69h10\"/><g>\n",
       "<path d=\"M50.0 69h0.0\"/><path d=\"M118.5 69h0.0\"/><path d=\"M50.0 69a10 10 0 0 0 10 -10v-10a10 10 0 0 1 10 -10\"/><g>\n",
       "<path d=\"M70.0 39h0.0\"/><path d=\"M98.5 39h0.0\"/><g class=\"terminal\">\n",
       "<path d=\"M70.0 39h0.0\"/><path d=\"M98.5 39h0.0\"/><rect height=\"22\" rx=\"10\" ry=\"10\" width=\"28.5\" x=\"70.0\" y=\"28\"/><text x=\"84.25\" y=\"43\">0</text></g></g><path d=\"M98.5 39a10 10 0 0 1 10 10v10a10 10 0 0 0 10 10\"/><path d=\"M50.0 69h20\"/><g>\n",
       "<path d=\"M70.0 69h0.0\"/><path d=\"M98.5 69h0.0\"/><g class=\"terminal\">\n",
       "<path d=\"M70.0 69h0.0\"/><path d=\"M98.5 69h0.0\"/><rect height=\"22\" rx=\"10\" ry=\"10\" width=\"28.5\" x=\"70.0\" y=\"58\"/><text x=\"84.25\" y=\"73\">1</text></g></g><path d=\"M98.5 69h20\"/></g><path d=\"M118.5 69a10 10 0 0 1 10 10v0a10 10 0 0 0 10 10\"/><path d=\"M118.5 20a10 10 0 0 1 10 10v29a10 10 0 0 0 10 10\"/><g>\n",
       "<path d=\"M138.5 69h0.0\"/><path d=\"M207.0 69h0.0\"/><path d=\"M138.5 69a10 10 0 0 0 10 -10v-10a10 10 0 0 1 10 -10\"/><g>\n",
       "<path d=\"M158.5 39h0.0\"/><path d=\"M187.0 39h0.0\"/><g class=\"terminal\">\n",
       "<path d=\"M158.5 39h0.0\"/><path d=\"M187.0 39h0.0\"/><rect height=\"22\" rx=\"10\" ry=\"10\" width=\"28.5\" x=\"158.5\" y=\"28\"/><text x=\"172.75\" y=\"43\">2</text></g></g><path d=\"M187.0 39a10 10 0 0 1 10 10v10a10 10 0 0 0 10 10\"/><path d=\"M138.5 69h20\"/><g>\n",
       "<path d=\"M158.5 69h0.0\"/><path d=\"M187.0 69h0.0\"/><g class=\"terminal\">\n",
       "<path d=\"M158.5 69h0.0\"/><path d=\"M187.0 69h0.0\"/><rect height=\"22\" rx=\"10\" ry=\"10\" width=\"28.5\" x=\"158.5\" y=\"58\"/><text x=\"172.75\" y=\"73\">3</text></g></g><path d=\"M187.0 69h20\"/></g><path d=\"M207.0 69a10 10 0 0 1 10 10v0a10 10 0 0 0 10 10\"/><path d=\"M207.0 20a10 10 0 0 1 10 10v29a10 10 0 0 0 10 10\"/><g>\n",
       "<path d=\"M227.0 69h0.0\"/><path d=\"M295.5 69h0.0\"/><path d=\"M227.0 69a10 10 0 0 0 10 -10v-10a10 10 0 0 1 10 -10\"/><g>\n",
       "<path d=\"M247.0 39h0.0\"/><path d=\"M275.5 39h0.0\"/><g class=\"terminal\">\n",
       "<path d=\"M247.0 39h0.0\"/><path d=\"M275.5 39h0.0\"/><rect height=\"22\" rx=\"10\" ry=\"10\" width=\"28.5\" x=\"247.0\" y=\"28\"/><text x=\"261.25\" y=\"43\">4</text></g></g><path d=\"M275.5 39a10 10 0 0 1 10 10v10a10 10 0 0 0 10 10\"/><path d=\"M227.0 69h20\"/><g>\n",
       "<path d=\"M247.0 69h0.0\"/><path d=\"M275.5 69h0.0\"/><g class=\"terminal\">\n",
       "<path d=\"M247.0 69h0.0\"/><path d=\"M275.5 69h0.0\"/><rect height=\"22\" rx=\"10\" ry=\"10\" width=\"28.5\" x=\"247.0\" y=\"58\"/><text x=\"261.25\" y=\"73\">5</text></g></g><path d=\"M275.5 69h20\"/></g><path d=\"M295.5 69a10 10 0 0 1 10 10v0a10 10 0 0 0 10 10\"/><path d=\"M295.5 20a10 10 0 0 1 10 10v29a10 10 0 0 0 10 10\"/><g>\n",
       "<path d=\"M315.5 69h0.0\"/><path d=\"M384.0 69h0.0\"/><path d=\"M315.5 69a10 10 0 0 0 10 -10v-10a10 10 0 0 1 10 -10\"/><g>\n",
       "<path d=\"M335.5 39h0.0\"/><path d=\"M364.0 39h0.0\"/><g class=\"terminal\">\n",
       "<path d=\"M335.5 39h0.0\"/><path d=\"M364.0 39h0.0\"/><rect height=\"22\" rx=\"10\" ry=\"10\" width=\"28.5\" x=\"335.5\" y=\"28\"/><text x=\"349.75\" y=\"43\">6</text></g></g><path d=\"M364.0 39a10 10 0 0 1 10 10v10a10 10 0 0 0 10 10\"/><path d=\"M315.5 69h20\"/><g>\n",
       "<path d=\"M335.5 69h0.0\"/><path d=\"M364.0 69h0.0\"/><g class=\"terminal\">\n",
       "<path d=\"M335.5 69h0.0\"/><path d=\"M364.0 69h0.0\"/><rect height=\"22\" rx=\"10\" ry=\"10\" width=\"28.5\" x=\"335.5\" y=\"58\"/><text x=\"349.75\" y=\"73\">7</text></g></g><path d=\"M364.0 69h20\"/></g><path d=\"M384.0 69a10 10 0 0 1 10 10v0a10 10 0 0 0 10 10\"/><path d=\"M384.0 20a10 10 0 0 1 10 10v29a10 10 0 0 0 10 10\"/><g>\n",
       "<path d=\"M404.0 69h0.0\"/><path d=\"M472.5 69h0.0\"/><path d=\"M404.0 69a10 10 0 0 0 10 -10v-10a10 10 0 0 1 10 -10\"/><g>\n",
       "<path d=\"M424.0 39h0.0\"/><path d=\"M452.5 39h0.0\"/><g class=\"terminal\">\n",
       "<path d=\"M424.0 39h0.0\"/><path d=\"M452.5 39h0.0\"/><rect height=\"22\" rx=\"10\" ry=\"10\" width=\"28.5\" x=\"424.0\" y=\"28\"/><text x=\"438.25\" y=\"43\">8</text></g></g><path d=\"M452.5 39a10 10 0 0 1 10 10v10a10 10 0 0 0 10 10\"/><path d=\"M404.0 69h20\"/><g>\n",
       "<path d=\"M424.0 69h0.0\"/><path d=\"M452.5 69h0.0\"/><g class=\"terminal\">\n",
       "<path d=\"M424.0 69h0.0\"/><path d=\"M452.5 69h0.0\"/><rect height=\"22\" rx=\"10\" ry=\"10\" width=\"28.5\" x=\"424.0\" y=\"58\"/><text x=\"438.25\" y=\"73\">9</text></g></g><path d=\"M452.5 69h20\"/></g><path d=\"M472.5 69h10\"/></g><path d=\"M 482.5 69 h 20 m -10 -10 v 20 m 10 -20 v 20\"/></g></svg>"
      ],
      "text/plain": [
       "<IPython.core.display.SVG object>"
      ]
     },
     "metadata": {},
     "output_type": "display_data"
    }
   ],
   "source": [
    "syntax_diagram(LANG_GRAMMAR)"
   ]
  },
  {
   "cell_type": "markdown",
   "id": "5126ae1e",
   "metadata": {
    "slideshow": {
     "slide_type": "subslide"
    }
   },
   "source": [
    "Here are some assignment sequences produced by the grammar:"
   ]
  },
  {
   "cell_type": "code",
   "execution_count": 59,
   "id": "dc16685f",
   "metadata": {
    "execution": {
     "iopub.execute_input": "2022-08-09T09:12:11.012702Z",
     "iopub.status.busy": "2022-08-09T09:12:11.012327Z",
     "iopub.status.idle": "2022-08-09T09:12:11.013639Z",
     "shell.execute_reply": "2022-08-09T09:12:11.013926Z"
    },
    "slideshow": {
     "slide_type": "fragment"
    }
   },
   "outputs": [],
   "source": [
    "fuzzer = GrammarFuzzer(LANG_GRAMMAR)"
   ]
  },
  {
   "cell_type": "code",
   "execution_count": 60,
   "id": "782b8aa5",
   "metadata": {
    "execution": {
     "iopub.execute_input": "2022-08-09T09:12:11.019256Z",
     "iopub.status.busy": "2022-08-09T09:12:11.018586Z",
     "iopub.status.idle": "2022-08-09T09:12:11.021071Z",
     "shell.execute_reply": "2022-08-09T09:12:11.021375Z"
    },
    "slideshow": {
     "slide_type": "fragment"
    }
   },
   "outputs": [
    {
     "name": "stdout",
     "output_type": "stream",
     "text": [
      "r := 6\n",
      "z := 4\n",
      "h := 3\n",
      "g := a\n",
      "y := 9; u := m\n",
      "k := d\n",
      "c := q\n",
      "o := n; l := p; g := 2; l := 0\n",
      "s := 5; h := v\n",
      "x := d; e := a; p := 2\n"
     ]
    }
   ],
   "source": [
    "for _ in range(10):\n",
    "    print(fuzzer.fuzz())"
   ]
  },
  {
   "cell_type": "markdown",
   "id": "d60c24d4",
   "metadata": {
    "slideshow": {
     "slide_type": "subslide"
    }
   },
   "source": [
    "We see that the assignment _syntax_ is similar to what we have in common programming languages.\n",
    "The _semantics_, however, are, well, questionable, as we commonly access variables whose values have not been previously defined.\n",
    "Again, this is a _semantic_ property that cannot be expressed in a context-free grammar alone."
   ]
  },
  {
   "cell_type": "markdown",
   "id": "244515ff",
   "metadata": {
    "slideshow": {
     "slide_type": "fragment"
    }
   },
   "source": [
    "What we need here is a constraint specifying that on the right-hand side of an assignment, we can only have variable names that occur on the left-hand side.\n",
    "In ISLa, we achive this thorugh the following constraint:"
   ]
  },
  {
   "cell_type": "code",
   "execution_count": 61,
   "id": "7ff03421",
   "metadata": {
    "execution": {
     "iopub.execute_input": "2022-08-09T09:12:11.026972Z",
     "iopub.status.busy": "2022-08-09T09:12:11.026518Z",
     "iopub.status.idle": "2022-08-09T09:12:11.037944Z",
     "shell.execute_reply": "2022-08-09T09:12:11.038145Z"
    },
    "slideshow": {
     "slide_type": "subslide"
    }
   },
   "outputs": [],
   "source": [
    "solver = ISLaSolver(LANG_GRAMMAR, \n",
    "            '''\n",
    "            forall <rhs> in <assgn>:\n",
    "                exists <assgn> declaration:\n",
    "                    <rhs>.<var> = declaration.<lhs>.<var>\n",
    "            ''', max_number_smt_instantiations=1, max_number_free_instantiations=1)"
   ]
  },
  {
   "cell_type": "code",
   "execution_count": 62,
   "id": "34556bfc",
   "metadata": {
    "execution": {
     "iopub.execute_input": "2022-08-09T09:12:11.046342Z",
     "iopub.status.busy": "2022-08-09T09:12:11.040282Z",
     "iopub.status.idle": "2022-08-09T09:12:12.127477Z",
     "shell.execute_reply": "2022-08-09T09:12:12.127715Z"
    },
    "slideshow": {
     "slide_type": "subslide"
    }
   },
   "outputs": [
    {
     "name": "stdout",
     "output_type": "stream",
     "text": [
      "c := 6\n",
      "p := p\n",
      "u := u\n",
      "b := b\n",
      "y := 5; w := 6\n",
      "b := 2; z := b\n",
      "v := 1; o := v\n",
      "s := 7; k := s\n",
      "p := p; h := 0\n",
      "j := j; f := 4\n"
     ]
    }
   ],
   "source": [
    "for solution in itertools.islice(solver.solve(), 10):\n",
    "    print(solution)"
   ]
  },
  {
   "cell_type": "markdown",
   "id": "b92597ba",
   "metadata": {
    "slideshow": {
     "slide_type": "subslide"
    }
   },
   "source": [
    "This is much better already, but not perfect yet - we might still have assignments like `a := a` or `a := b; b := 5`.\n",
    "That is because our constraints do not yet take care of _ordering_ – in a `<rhs>` element, we can only use variables that are defined earlier."
   ]
  },
  {
   "cell_type": "markdown",
   "id": "f2cd187c",
   "metadata": {
    "slideshow": {
     "slide_type": "fragment"
    }
   },
   "source": [
    "For this purpose, ISLa provides a `before()` predicate: `before(A, B)` expresses that the element `A` must occur before the element `B`.\n",
    "With `before()`, we can rewrite our constraint as"
   ]
  },
  {
   "cell_type": "code",
   "execution_count": 63,
   "id": "71621ad9",
   "metadata": {
    "execution": {
     "iopub.execute_input": "2022-08-09T09:12:12.133957Z",
     "iopub.status.busy": "2022-08-09T09:12:12.133641Z",
     "iopub.status.idle": "2022-08-09T09:12:12.137749Z",
     "shell.execute_reply": "2022-08-09T09:12:12.137976Z"
    },
    "slideshow": {
     "slide_type": "subslide"
    }
   },
   "outputs": [],
   "source": [
    "solver = ISLaSolver(LANG_GRAMMAR, \n",
    "            '''\n",
    "            forall <rhs> in <assgn>:\n",
    "                exists <assgn> declaration:\n",
    "                    (before(declaration, <assgn>) and\n",
    "                     <rhs>.<var> = declaration.<lhs>.<var>)\n",
    "            ''', max_number_free_instantiations=1, max_number_smt_instantiations=1)"
   ]
  },
  {
   "cell_type": "markdown",
   "id": "b0b7bcfb",
   "metadata": {
    "slideshow": {
     "slide_type": "fragment"
    }
   },
   "source": [
    "... and thus ensure that on the right-hand-side of assignments, we only use identifiers defined earlier."
   ]
  },
  {
   "cell_type": "code",
   "execution_count": 64,
   "id": "0ecfc7e7",
   "metadata": {
    "execution": {
     "iopub.execute_input": "2022-08-09T09:12:12.146807Z",
     "iopub.status.busy": "2022-08-09T09:12:12.142057Z",
     "iopub.status.idle": "2022-08-09T09:12:13.900416Z",
     "shell.execute_reply": "2022-08-09T09:12:13.900903Z"
    },
    "slideshow": {
     "slide_type": "subslide"
    }
   },
   "outputs": [
    {
     "name": "stdout",
     "output_type": "stream",
     "text": [
      "e := 5\n",
      "d := 1; e := 2\n",
      "h := 1; e := h\n",
      "c := 2; m := c\n",
      "d := 1; r := d\n",
      "a := 5; u := a\n",
      "p := 5; r := p\n",
      "p := 9; q := p\n",
      "p := 4; x := p; m := 0\n",
      "p := 0; p := 2; r := p\n"
     ]
    }
   ],
   "source": [
    "for solution in itertools.islice(solver.solve(), 10):\n",
    "    print(solution)"
   ]
  },
  {
   "cell_type": "markdown",
   "id": "e8022bb4",
   "metadata": {
    "slideshow": {
     "slide_type": "subslide"
    }
   },
   "source": [
    "In case you find that the assignment sequences are too short, you can use the ISLa `count()` predicate.\n",
    "`count(VARIABLE, NONTERMINAL, N)` ensures that the number of NONTERMINALs in VARIABLE is exactly N.\n",
    "To have statements with exactly 5 assignments, write"
   ]
  },
  {
   "cell_type": "code",
   "execution_count": 65,
   "id": "67d2232b",
   "metadata": {
    "execution": {
     "iopub.execute_input": "2022-08-09T09:12:13.906043Z",
     "iopub.status.busy": "2022-08-09T09:12:13.905629Z",
     "iopub.status.idle": "2022-08-09T09:12:13.909745Z",
     "shell.execute_reply": "2022-08-09T09:12:13.909934Z"
    },
    "slideshow": {
     "slide_type": "fragment"
    }
   },
   "outputs": [],
   "source": [
    "solver = ISLaSolver(LANG_GRAMMAR, \n",
    "            '''\n",
    "            forall <rhs> in <assgn>:\n",
    "                exists <assgn> declaration:\n",
    "                    (before(declaration, <assgn>) and\n",
    "                     <rhs>.<var> = declaration.<lhs>.<var>)\n",
    "            and\n",
    "            count(start, \"<assgn>\", \"5\")\n",
    "            ''', max_number_smt_instantiations=1, max_number_free_instantiations=1)"
   ]
  },
  {
   "cell_type": "code",
   "execution_count": 66,
   "id": "f3b43965",
   "metadata": {
    "execution": {
     "iopub.execute_input": "2022-08-09T09:12:13.912976Z",
     "iopub.status.busy": "2022-08-09T09:12:13.912690Z",
     "iopub.status.idle": "2022-08-09T09:12:16.350009Z",
     "shell.execute_reply": "2022-08-09T09:12:16.350251Z"
    },
    "slideshow": {
     "slide_type": "subslide"
    }
   },
   "outputs": [
    {
     "name": "stdout",
     "output_type": "stream",
     "text": [
      "u := 4; w := 9; h := 6; f := 8; q := 7\n",
      "d := 8; p := 2; o := 5; r := 7; t := d\n",
      "a := 2; b := 6; o := 0; y := 7; h := a\n",
      "f := 2; b := 9; f := 4; p := 5; y := f\n",
      "p := 4; w := 1; v := 7; g := p; i := 8\n",
      "j := 9; y := 2; g := 4; p := j; d := 5\n",
      "u := 9; p := 8; y := 4; a := u; z := 3\n",
      "d := 8; t := 6; e := 7; y := d; c := d\n",
      "b := 0; y := 9; s := 1; n := b; k := b\n",
      "d := 9; e := 3; n := 6; i := d; v := d\n"
     ]
    }
   ],
   "source": [
    "for solution in itertools.islice(solver.solve(), 10):\n",
    "    print(solution)"
   ]
  },
  {
   "cell_type": "markdown",
   "id": "8935932c",
   "metadata": {
    "slideshow": {
     "slide_type": "slide"
    }
   },
   "source": [
    "## Synopsis"
   ]
  },
  {
   "cell_type": "markdown",
   "id": "29e72aef",
   "metadata": {
    "slideshow": {
     "slide_type": "fragment"
    }
   },
   "source": [
    "This chapter introduces the _ISLa framework_, consisting of \n",
    "* the _ISLa specification language_, allowing to add _constraints_ to a grammar\n",
    "* the _ISLa solver_, solving these constraints to produce semantically (and syntactically) valid inputs\n",
    "* the _ISLa checker_, checking given inputs for whether they satisfy these constraints."
   ]
  },
  {
   "cell_type": "markdown",
   "id": "04a22bca",
   "metadata": {
    "slideshow": {
     "slide_type": "subslide"
    }
   },
   "source": [
    "A typical usage of the ISLa solver is as follows.\n",
    "First, install ISLa, using \n",
    "```shell\n",
    "$ pip install isla-solver\n",
    "```\n",
    "Then, you can import the solver as"
   ]
  },
  {
   "cell_type": "code",
   "execution_count": 67,
   "id": "5c746541",
   "metadata": {
    "execution": {
     "iopub.execute_input": "2022-08-09T09:12:16.352366Z",
     "iopub.status.busy": "2022-08-09T09:12:16.352102Z",
     "iopub.status.idle": "2022-08-09T09:12:16.353199Z",
     "shell.execute_reply": "2022-08-09T09:12:16.353419Z"
    },
    "slideshow": {
     "slide_type": "skip"
    },
    "tags": []
   },
   "outputs": [],
   "source": [
    "from isla.solver import ISLaSolver  # type: ignore"
   ]
  },
  {
   "cell_type": "markdown",
   "id": "e0565a30",
   "metadata": {
    "slideshow": {
     "slide_type": "fragment"
    }
   },
   "source": [
    "The ISLa solver needs two things. First, a _grammar_ - say, US phone numbers."
   ]
  },
  {
   "cell_type": "code",
   "execution_count": 68,
   "id": "16fb0c80",
   "metadata": {
    "execution": {
     "iopub.execute_input": "2022-08-09T09:12:16.355108Z",
     "iopub.status.busy": "2022-08-09T09:12:16.354826Z",
     "iopub.status.idle": "2022-08-09T09:12:16.356419Z",
     "shell.execute_reply": "2022-08-09T09:12:16.356090Z"
    },
    "slideshow": {
     "slide_type": "skip"
    }
   },
   "outputs": [],
   "source": [
    "from Grammars import US_PHONE_GRAMMAR"
   ]
  },
  {
   "cell_type": "markdown",
   "id": "d40aa06b",
   "metadata": {
    "slideshow": {
     "slide_type": "subslide"
    }
   },
   "source": [
    "Second, you need _constraints_ – a string expressing a condition over one or more grammar elements.\n",
    "Common functions include\n",
    "* `str.len()`, returning the length of a string\n",
    "* `str.to.int()`, converting a string to an integer"
   ]
  },
  {
   "cell_type": "markdown",
   "id": "b1f52612",
   "metadata": {
    "slideshow": {
     "slide_type": "fragment"
    }
   },
   "source": [
    "Here, we instantiate the ISLa solver with a constraint stating that the area code should be above 900:"
   ]
  },
  {
   "cell_type": "code",
   "execution_count": 69,
   "id": "f9f6670a",
   "metadata": {
    "execution": {
     "iopub.execute_input": "2022-08-09T09:12:16.359319Z",
     "iopub.status.busy": "2022-08-09T09:12:16.359004Z",
     "iopub.status.idle": "2022-08-09T09:12:16.367135Z",
     "shell.execute_reply": "2022-08-09T09:12:16.367295Z"
    },
    "slideshow": {
     "slide_type": "fragment"
    }
   },
   "outputs": [],
   "source": [
    "solver = ISLaSolver(US_PHONE_GRAMMAR, \n",
    "            \"\"\"\n",
    "            str.to.int(<area>) > 900\n",
    "            \"\"\")"
   ]
  },
  {
   "cell_type": "markdown",
   "id": "ce7a752d",
   "metadata": {
    "slideshow": {
     "slide_type": "fragment"
    }
   },
   "source": [
    "With that, invoking `solver.solve()` produces an iterator over multiple solutions."
   ]
  },
  {
   "cell_type": "code",
   "execution_count": 70,
   "id": "22923e91",
   "metadata": {
    "execution": {
     "iopub.execute_input": "2022-08-09T09:12:16.378812Z",
     "iopub.status.busy": "2022-08-09T09:12:16.378509Z",
     "iopub.status.idle": "2022-08-09T09:12:17.587880Z",
     "shell.execute_reply": "2022-08-09T09:12:17.588066Z"
    },
    "slideshow": {
     "slide_type": "subslide"
    }
   },
   "outputs": [
    {
     "name": "stdout",
     "output_type": "stream",
     "text": [
      "(984)451-2706\n",
      "(903)831-0847\n",
      "(902)468-5290\n",
      "(904)348-3721\n",
      "(908)771-6402\n",
      "(980)281-2704\n",
      "(909)528-9146\n",
      "(912)643-6982\n",
      "(910)638-7014\n",
      "(901)896-7204\n"
     ]
    }
   ],
   "source": [
    "for _ in range(10):\n",
    "    print(next(solver.solve()))"
   ]
  },
  {
   "cell_type": "markdown",
   "id": "22ddee2b",
   "metadata": {
    "slideshow": {
     "slide_type": "fragment"
    }
   },
   "source": [
    "We see that the solver produces a number of inputs that all satisfy the constraint - the area code is always more than 900."
   ]
  },
  {
   "cell_type": "markdown",
   "id": "d1b40c79",
   "metadata": {
    "slideshow": {
     "slide_type": "subslide"
    }
   },
   "source": [
    "The `solve()` method provides several additional parameters to configure the solver, as documented below\n",
    "Additional `ISLaSolver` methods allow to check inputs against constraints, and provide additional functionality."
   ]
  },
  {
   "cell_type": "code",
   "execution_count": 71,
   "id": "92e151c7",
   "metadata": {
    "execution": {
     "iopub.execute_input": "2022-08-09T09:12:17.591025Z",
     "iopub.status.busy": "2022-08-09T09:12:17.590653Z",
     "iopub.status.idle": "2022-08-09T09:12:17.969904Z",
     "shell.execute_reply": "2022-08-09T09:12:17.970106Z"
    },
    "slideshow": {
     "slide_type": "skip"
    }
   },
   "outputs": [
    {
     "data": {
      "image/svg+xml": [
       "<?xml version=\"1.0\" encoding=\"UTF-8\" standalone=\"no\"?>\n",
       "<!DOCTYPE svg PUBLIC \"-//W3C//DTD SVG 1.1//EN\"\n",
       " \"http://www.w3.org/Graphics/SVG/1.1/DTD/svg11.dtd\">\n",
       "<!-- Generated by graphviz version 5.0.0 (20220707.1540)\n",
       " -->\n",
       "<!-- Pages: 1 -->\n",
       "<svg width=\"228pt\" height=\"73pt\"\n",
       " viewBox=\"0.00 0.00 228.00 73.00\" xmlns=\"http://www.w3.org/2000/svg\" xmlns:xlink=\"http://www.w3.org/1999/xlink\">\n",
       "<g id=\"graph0\" class=\"graph\" transform=\"scale(1 1) rotate(0) translate(4 69)\">\n",
       "<g id=\"a_graph0\"><a xlink:title=\"ISLaSolver class hierarchy\">\n",
       "<polygon fill=\"white\" stroke=\"transparent\" points=\"-4,4 -4,-69 224,-69 224,4 -4,4\"/>\n",
       "</a>\n",
       "</g>\n",
       "<!-- ISLaSolver -->\n",
       "<g id=\"node1\" class=\"node\">\n",
       "<title>ISLaSolver</title>\n",
       "<g id=\"a_node1\"><a xlink:href=\"isla.solver.ipynb\" xlink:title=\"class ISLaSolver:&#10;The solver class for ISLa formulas/constraints. Main methods: `solve()` and `evaluate()`.\">\n",
       "<polygon fill=\"none\" stroke=\"black\" points=\"0,-0.5 0,-64.5 82,-64.5 82,-0.5 0,-0.5\"/>\n",
       "<text text-anchor=\"start\" x=\"8\" y=\"-50.3\" font-family=\"Patua One, Helvetica, sans-serif\" font-weight=\"bold\" font-size=\"14.00\" fill=\"#b03a2e\">ISLaSolver</text>\n",
       "<polyline fill=\"none\" stroke=\"black\" points=\"0,-41.5 82,-41.5 \"/>\n",
       "<g id=\"a_node1_0\"><a xlink:href=\"#\" xlink:title=\"ISLaSolver\">\n",
       "<g id=\"a_node1_1\"><a xlink:href=\"isla.solver.ipynb\" xlink:title=\"__init__(self, grammar: Dict[str, List[str]], formula: Union[isla.language.Formula, str], structural_predicates: Set[isla.language.StructuralPredicate] = {Predicate(level, 4), Predicate(after, 2), Predicate(consecutive, 2), Predicate(before, 2), Predicate(inside, 2), Predicate(nth, 3), Predicate(direct_child, 2), Predicate(same_position, 2), Predicate(different_position, 2)}, semantic_predicates: Set[isla.language.SemanticPredicate] = {SemanticPredicate(count, 3)}, max_number_free_instantiations: int = 10, max_number_smt_instantiations: int = 10, max_number_tree_insertion_results: int = 5, enforce_unique_trees_in_queue: bool = True, precompute_reachability: bool = False, debug: bool = False, cost_computer: Optional[ForwardRef(&#39;CostComputer&#39;)] = None, timeout_seconds: Optional[int] = None, global_fuzzer: bool = False, predicates_unique_in_int_arg: Tuple[isla.language.SemanticPredicate, ...] = (SemanticPredicate(count, 3),), fuzzer_factory: Callable[[Dict[str, List[str]]], isla.fuzzer.GrammarFuzzer] = &lt;function ISLaSolver.&lt;lambda&gt; at 0x10fc75b40&gt;, tree_insertion_methods=7):&#10;Constructs a new ISLaSolver object. Passing a grammar and a formula is mandatory.&#10;&#10;:param grammar: The underlying grammar.&#10;:param formula: The formula to solve; either a string or a readily parsed formula.&#10;:param structural_predicates: Structural predicates to use when parsing a formula.&#10;:param semantic_predicates: Semantic predicates to use when parsing a formula.&#10;:param max_number_free_instantiations: Number of times that nonterminals that are not bound by any formula&#10;should be expanded by a coverage&#45;based fuzzer.&#10;:param max_number_smt_instantiations: Number of solutions of SMT formulas that should be produced.&#10;:param max_number_tree_insertion_results: The maximum number of results when solving existential quantifiers&#10;by tree insertion.&#10;:param enforce_unique_trees_in_queue: If true, states with the same tree as an already existing tree in the&#10;queue are discarded, irrespectively of the constraint.&#10;:param precompute_reachability: If true, the distances between all grammar nodes are pre&#45;computed using&#10;Floyd&#45;Warshall&#39;s algorithm. This makes sense if there are many expensive distance queries, e.g., in a big&#10;grammar and a constraint with relatively many universal quantifiers.&#10;:param debug: If true, debug information about the evolution of states is collected, notably in the&#10;field state_tree. The root of the tree is in the field state_tree_root. The field costs stores the computed&#10;cost values for all new nodes.&#10;:param cost_computer: The `CostComputer` class for computing the cost relevant to placing states&#10;in ISLa&#39;s queue.&#10;:param timeout_seconds: Number of seconds after which the solver will terminate.&#10;:param global_fuzzer: If set to True, only one coverage&#45;guided grammar fuzzer object is used to finish&#10;off unconstrained open derivation trees throughout the whole generation time. This may be beneficial for&#10;some targets; e.g., we experienced that CSV works significantly faster. However, the achieved k&#45;path coverage&#10;can be lower with that setting.&#10;:param predicates_unique_in_int_arg: This is needed in certain cases for instantiating universal&#10;integer quantifiers. The supplied predicates should have exactly one integer argument, and hold&#10;for exactly one integer value once all other parameters are fixed.&#10;:param fuzzer_factory: Constructor of the fuzzer to use for instantiating &quot;free&quot; nonterminals.&#10;:param tree_insertion_methods: Combination of methods to use for existential quantifier elimination by&#10;tree insertion. Full selection: `DIRECT_EMBEDDING &amp; SELF_EMBEDDING &amp; CONTEXT_ADDITION`.\">\n",
       "<text text-anchor=\"start\" x=\"11\" y=\"-30\" font-family=\"'Fira Mono', 'Source Code Pro', 'Courier', monospace\" font-weight=\"bold\" font-size=\"10.00\">__init__()</text>\n",
       "</a>\n",
       "</g>\n",
       "<g id=\"a_node1_2\"><a xlink:href=\"isla.solver.ipynb\" xlink:title=\"evaluate(self, inp: isla.derivation_tree.DerivationTree | str) &#45;&gt; isla.three_valued_truth.ThreeValuedTruth:&#10;Evaluates whether the given derivation tree satisfies the constraint passed to the solver.&#10;&#10;:param inp: The input to evaluate, either readily parsed or as a string.&#10;:return: A three&#45;valued truth value.\">\n",
       "<text text-anchor=\"start\" x=\"11\" y=\"-19\" font-family=\"'Fira Mono', 'Source Code Pro', 'Courier', monospace\" font-weight=\"bold\" font-size=\"10.00\">evaluate()</text>\n",
       "</a>\n",
       "</g>\n",
       "<g id=\"a_node1_3\"><a xlink:href=\"isla.solver.ipynb\" xlink:title=\"solve(self) &#45;&gt; Generator[isla.derivation_tree.DerivationTree, NoneType, NoneType]:&#10;Produces solutions to the constraint passed to the solver instance.&#10;Take care to repeatedly call `next(...)` on the *same* generator object (don&#39;t call `solve()` repeatedly).&#10;:return: A generator of solutions.\">\n",
       "<text text-anchor=\"start\" x=\"11\" y=\"-8\" font-family=\"'Fira Mono', 'Source Code Pro', 'Courier', monospace\" font-weight=\"bold\" font-size=\"10.00\">solve()</text>\n",
       "</a>\n",
       "</g>\n",
       "</a>\n",
       "</g>\n",
       "</a>\n",
       "</g>\n",
       "</g>\n",
       "<!-- Legend -->\n",
       "<g id=\"node2\" class=\"node\">\n",
       "<title>Legend</title>\n",
       "<text text-anchor=\"start\" x=\"100\" y=\"-50\" font-family=\"Patua One, Helvetica, sans-serif\" font-weight=\"bold\" font-size=\"10.00\" fill=\"#b03a2e\">Legend</text>\n",
       "<text text-anchor=\"start\" x=\"100\" y=\"-40\" font-family=\"Patua One, Helvetica, sans-serif\" font-size=\"10.00\">• </text>\n",
       "<text text-anchor=\"start\" x=\"107\" y=\"-40\" font-family=\"'Fira Mono', 'Source Code Pro', 'Courier', monospace\" font-weight=\"bold\" font-size=\"8.00\">public_method()</text>\n",
       "<text text-anchor=\"start\" x=\"100\" y=\"-30\" font-family=\"Patua One, Helvetica, sans-serif\" font-size=\"10.00\">• </text>\n",
       "<text text-anchor=\"start\" x=\"107\" y=\"-30\" font-family=\"'Fira Mono', 'Source Code Pro', 'Courier', monospace\" font-size=\"8.00\">private_method()</text>\n",
       "<text text-anchor=\"start\" x=\"100\" y=\"-20\" font-family=\"Patua One, Helvetica, sans-serif\" font-size=\"10.00\">• </text>\n",
       "<text text-anchor=\"start\" x=\"107\" y=\"-20\" font-family=\"'Fira Mono', 'Source Code Pro', 'Courier', monospace\" font-style=\"italic\" font-size=\"8.00\">overloaded_method()</text>\n",
       "<text text-anchor=\"start\" x=\"100\" y=\"-10.8\" font-family=\"Helvetica,sans-Serif\" font-size=\"9.00\">Hover over names to see doc</text>\n",
       "</g>\n",
       "</g>\n",
       "</svg>\n"
      ],
      "text/plain": [
       "<graphviz.graphs.Digraph at 0x1272f6980>"
      ]
     },
     "execution_count": 71,
     "metadata": {},
     "output_type": "execute_result"
    }
   ],
   "source": [
    "from ClassDiagram import display_class_hierarchy\n",
    "hierarchy = display_class_hierarchy([ISLaSolver],\n",
    "                       public_methods=[\n",
    "                            ISLaSolver.__init__,\n",
    "                            ISLaSolver.solve,\n",
    "                            ISLaSolver.evaluate,\n",
    "                        ])\n",
    "hierarchy"
   ]
  },
  {
   "cell_type": "markdown",
   "id": "20044f68",
   "metadata": {
    "button": false,
    "new_sheet": true,
    "run_control": {
     "read_only": false
    },
    "slideshow": {
     "slide_type": "slide"
    }
   },
   "source": [
    "## Lessons Learned\n",
    "\n",
    "* Using ISLa, we can add and solve _constraints_ to grammars, allowing to express _semantic properties_ of our test inputs\n",
    "* Declaring constraints (and have a solver solve them) is much more versatile than adding generator code, and language-independent, too\n",
    "* Using ISLa is fun :-)"
   ]
  },
  {
   "cell_type": "markdown",
   "id": "d50b8cfc",
   "metadata": {
    "button": false,
    "new_sheet": false,
    "run_control": {
     "read_only": false
    },
    "slideshow": {
     "slide_type": "slide"
    }
   },
   "source": [
    "## Next Steps\n",
    "\n",
    "In the next chapters, we will continue to focus on semantics.\n",
    "Among others, we will learn how to\n",
    "\n",
    "* [mine grammars from existing inputs](GrammarMiner.ipynb)\n",
    "* use [symbolic fuzzing](SymbolicFuzzer.ipynb) - that is, using constraint solvers to reach particular locations\n",
    "* use [concolic fuzzing](ConcolicFuzzer.ipynb) - that is, combining symbolic fuzzing with concrete runs for higher efficiency"
   ]
  },
  {
   "cell_type": "markdown",
   "id": "cddb0711",
   "metadata": {
    "slideshow": {
     "slide_type": "slide"
    }
   },
   "source": [
    "## Background\n",
    "\n",
    "* ISLa is presented in the paper [\"Input Invariants\"](https://publications.cispa.saarland/3596/) at ESEC/FSE 2022.\n",
    "* The [ISLa project](https://github.com/rindPHI/isla) contains the full source code and a complete reference."
   ]
  },
  {
   "cell_type": "markdown",
   "id": "c0f3583e",
   "metadata": {
    "button": false,
    "new_sheet": true,
    "run_control": {
     "read_only": false
    },
    "slideshow": {
     "slide_type": "slide"
    }
   },
   "source": [
    "## Exercises"
   ]
  },
  {
   "cell_type": "markdown",
   "id": "df09d867",
   "metadata": {
    "button": false,
    "new_sheet": true,
    "run_control": {
     "read_only": false
    },
    "slideshow": {
     "slide_type": "subslide"
    }
   },
   "source": [
    "### Exercise 1: String Encodings\n",
    "\n",
    "A common way of representing strings is _length-prefixed strings_, a representation made popular by the Pascal programming language.\n",
    "A length-prefixed string starts with a few bytes that encode the length $L$ of the string, followed by the $L$ actual characters.\n",
    "For instance, assuming that two bytes are used to encode the length, the string `\"Hello\"` could be represented as the sequence\n",
    "\n",
    "```\n",
    "0x00 0x05 'H' 'e' 'l' 'l' 'o'\n",
    "```"
   ]
  },
  {
   "cell_type": "markdown",
   "id": "0f5f3156",
   "metadata": {
    "button": false,
    "new_sheet": true,
    "run_control": {
     "read_only": false
    },
    "slideshow": {
     "slide_type": "subslide"
    },
    "solution2": "hidden",
    "solution2_first": true
   },
   "source": [
    "#### Part 1: Syntax\n",
    "\n",
    "Write a grammar that defines the syntax of length-prefixed strings."
   ]
  },
  {
   "cell_type": "markdown",
   "id": "c990687f",
   "metadata": {
    "button": false,
    "new_sheet": true,
    "run_control": {
     "read_only": false
    },
    "slideshow": {
     "slide_type": "skip"
    },
    "solution2": "hidden"
   },
   "source": [
    "**Solution.** This is actually pretty easy:"
   ]
  },
  {
   "cell_type": "code",
   "execution_count": 72,
   "id": "9d4956b6",
   "metadata": {
    "execution": {
     "iopub.execute_input": "2022-08-09T09:12:17.972943Z",
     "iopub.status.busy": "2022-08-09T09:12:17.972554Z",
     "iopub.status.idle": "2022-08-09T09:12:17.973774Z",
     "shell.execute_reply": "2022-08-09T09:12:17.974040Z"
    },
    "slideshow": {
     "slide_type": "skip"
    },
    "solution2": "hidden"
   },
   "outputs": [],
   "source": [
    "import string"
   ]
  },
  {
   "cell_type": "code",
   "execution_count": 73,
   "id": "d82fc265",
   "metadata": {
    "execution": {
     "iopub.execute_input": "2022-08-09T09:12:17.976437Z",
     "iopub.status.busy": "2022-08-09T09:12:17.976031Z",
     "iopub.status.idle": "2022-08-09T09:12:17.977314Z",
     "shell.execute_reply": "2022-08-09T09:12:17.977496Z"
    },
    "slideshow": {
     "slide_type": "skip"
    },
    "solution2": "hidden"
   },
   "outputs": [],
   "source": [
    "PASCAL_STRING_GRAMMAR: Grammar = {\n",
    "    \"<start>\": [\"<string>\"],\n",
    "    \"<string>\": [\"<length><chars>\"],\n",
    "    \"<length>\": [\"<byte>\"],\n",
    "    \"<byte>\": crange('\\x00', '\\xff'),\n",
    "    \"<chars>\": [\"\", \"<char><chars>\"],\n",
    "    \"<char>\": list(string.printable),\n",
    "}"
   ]
  },
  {
   "cell_type": "code",
   "execution_count": 74,
   "id": "eb79cc85",
   "metadata": {
    "execution": {
     "iopub.execute_input": "2022-08-09T09:12:17.979419Z",
     "iopub.status.busy": "2022-08-09T09:12:17.979126Z",
     "iopub.status.idle": "2022-08-09T09:12:17.980261Z",
     "shell.execute_reply": "2022-08-09T09:12:17.980577Z"
    },
    "slideshow": {
     "slide_type": "skip"
    },
    "solution2": "hidden",
    "tags": []
   },
   "outputs": [],
   "source": [
    "assert is_valid_grammar(PASCAL_STRING_GRAMMAR)"
   ]
  },
  {
   "cell_type": "code",
   "execution_count": 75,
   "id": "5fc1511b",
   "metadata": {
    "execution": {
     "iopub.execute_input": "2022-08-09T09:12:17.982913Z",
     "iopub.status.busy": "2022-08-09T09:12:17.982575Z",
     "iopub.status.idle": "2022-08-09T09:12:17.983720Z",
     "shell.execute_reply": "2022-08-09T09:12:17.983908Z"
    },
    "slideshow": {
     "slide_type": "skip"
    },
    "solution2": "hidden"
   },
   "outputs": [],
   "source": [
    "fuzzer = GrammarFuzzer(PASCAL_STRING_GRAMMAR)"
   ]
  },
  {
   "cell_type": "code",
   "execution_count": 76,
   "id": "453aa873",
   "metadata": {
    "execution": {
     "iopub.execute_input": "2022-08-09T09:12:17.988543Z",
     "iopub.status.busy": "2022-08-09T09:12:17.988147Z",
     "iopub.status.idle": "2022-08-09T09:12:17.992320Z",
     "shell.execute_reply": "2022-08-09T09:12:17.992507Z"
    },
    "slideshow": {
     "slide_type": "skip"
    },
    "solution2": "hidden"
   },
   "outputs": [
    {
     "name": "stdout",
     "output_type": "stream",
     "text": [
      "'±C>'\n",
      "\"'\"\n",
      "'Ú'\n",
      "'\\\\'\n",
      "'g'\n",
      "'Æ'\n",
      "'²'\n",
      "'=9'\n",
      "'Ó'\n",
      "'m!-}m'\n"
     ]
    }
   ],
   "source": [
    "for _ in range(10):\n",
    "    print(repr(fuzzer.fuzz()))"
   ]
  },
  {
   "cell_type": "markdown",
   "id": "0ebb3119",
   "metadata": {
    "button": false,
    "new_sheet": true,
    "run_control": {
     "read_only": false
    },
    "slideshow": {
     "slide_type": "subslide"
    },
    "solution2": "hidden",
    "solution2_first": true
   },
   "source": [
    "#### Part 2: Semantics\n",
    "\n",
    "Use ISLa to produce valid length-prefixed strings.\n",
    "Make use of the [SMT-LIB string library](https://smtlib.cs.uiowa.edu/theories-UnicodeStrings.shtml) to find appropriate conversion functions."
   ]
  },
  {
   "cell_type": "markdown",
   "id": "ee402aa8",
   "metadata": {
    "slideshow": {
     "slide_type": "skip"
    },
    "solution2": "hidden"
   },
   "source": [
    "**Solution.** \n",
    "The function we need is `str.to_code(c)` to convert a single character to its ordinal value (e.g. `str.to_code('0x03') = 3`).\n",
    "With this, we can formulate an appropriate constraint:"
   ]
  },
  {
   "cell_type": "code",
   "execution_count": 77,
   "id": "486858b3-9b71-4396-a448-3c4d2b3fdda6",
   "metadata": {
    "execution": {
     "iopub.execute_input": "2022-08-09T09:12:17.998594Z",
     "iopub.status.busy": "2022-08-09T09:12:17.998124Z",
     "iopub.status.idle": "2022-08-09T09:12:18.085151Z",
     "shell.execute_reply": "2022-08-09T09:12:18.085455Z"
    },
    "slideshow": {
     "slide_type": "skip"
    },
    "solution2": "hidden"
   },
   "outputs": [],
   "source": [
    "solver = ISLaSolver(PASCAL_STRING_GRAMMAR, \n",
    "            '''\n",
    "            str.to_code(<string>.<length>.<byte>) =\n",
    "            str.len(<string>.<chars>)\n",
    "            ''')"
   ]
  },
  {
   "cell_type": "code",
   "execution_count": 78,
   "id": "321ecd82",
   "metadata": {
    "execution": {
     "iopub.execute_input": "2022-08-09T09:12:18.090414Z",
     "iopub.status.busy": "2022-08-09T09:12:18.088209Z",
     "iopub.status.idle": "2022-08-09T09:12:21.879410Z",
     "shell.execute_reply": "2022-08-09T09:12:21.879689Z"
    },
    "slideshow": {
     "slide_type": "skip"
    },
    "solution2": "hidden"
   },
   "outputs": [
    {
     "name": "stdout",
     "output_type": "stream",
     "text": [
      "Solution: \"\u0001\t\" (length: 1, len(chars): 1)\n",
      "\n",
      "Solution: \"\u0002H\u000b",
      "\" (length: 2, len(chars): 2)\n",
      "\n",
      "Solution: \"\u0004C\f",
      "\tH\" (length: 4, len(chars): 4)\n",
      "\n",
      "Solution: \"\u0003w\f",
      " \" (length: 3, len(chars): 3)\n",
      "\n",
      "Solution: \"\u0005?O\f",
      "H?\" (length: 5, len(chars): 5)\n",
      "\n",
      "Solution: \"\u0006AH}H?\n",
      "\" (length: 6, len(chars): 6)\n",
      "\n",
      "Solution: \"\u0007!I\n",
      "\t\f",
      "\u000b",
      "#\" (length: 7, len(chars): 7)\n",
      "\n",
      "Solution: \"\b_A+I}I'o\" (length: 8, len(chars): 8)\n",
      "\n",
      "IC\" (length: 9, len(chars): 9)\n",
      "\n",
      "Solution: \"\n",
      "@@\t)\u000b",
      "8@\t\f",
      "\u000b",
      "\" (length: 10, len(chars): 10)\n",
      "\n"
     ]
    }
   ],
   "source": [
    "for solution in itertools.islice(solver.solve(), 10):\n",
    "    low_byte = solution.filter(lambda n: n.value == \"<length>\")[0][1]\n",
    "    chars = solution.filter(lambda n: n.value == \"<chars>\")[0][1]\n",
    "    \n",
    "    print(f'Solution: \"{solution}\"', end=' ')\n",
    "    print(f'(length: {ord(str(low_byte))}, len(chars): {len(str(chars))})')\n",
    "    print()"
   ]
  }
 ],
 "metadata": {
  "ipub": {
   "bibliography": "fuzzingbook.bib",
   "toc": true
  },
  "kernelspec": {
   "display_name": "Python 3 (ipykernel)",
   "language": "python",
   "name": "python3"
  },
  "language_info": {
   "codemirror_mode": {
    "name": "ipython",
    "version": 3
   },
   "file_extension": ".py",
   "mimetype": "text/x-python",
   "name": "python",
   "nbconvert_exporter": "python",
   "pygments_lexer": "ipython3",
   "version": "3.10.2"
  },
  "toc": {
   "base_numbering": 1,
   "nav_menu": {},
   "number_sections": true,
   "sideBar": true,
   "skip_h1_title": true,
   "title_cell": "",
   "title_sidebar": "Contents",
   "toc_cell": false,
   "toc_position": {},
   "toc_section_display": true,
   "toc_window_display": true
  },
  "toc-autonumbering": false
 },
 "nbformat": 4,
 "nbformat_minor": 5
}