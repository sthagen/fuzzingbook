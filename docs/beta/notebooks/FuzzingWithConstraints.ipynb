{
 "cells": [
  {
   "cell_type": "markdown",
   "id": "76619533",
   "metadata": {
    "button": false,
    "new_sheet": false,
    "run_control": {
     "read_only": false
    },
    "slideshow": {
     "slide_type": "slide"
    }
   },
   "source": [
    "# Fuzzing with Constraints\n",
    "\n",
    "In previous chapters, we have seen how [Grammar-Based Fuzzing](GrammarFuzzer.ipynb) allows us to efficiently generate myriads of syntactically valid inputs.\n",
    "However, there are _semantic_ input features that cannot be expressed in a context-free grammar, such as\n",
    "\n",
    "* \"$X$ is the length of $Y$\";\n",
    "* \"$X$ is an identifier previously declared\"; or\n",
    "* \"$X$ should be longer than 4,096 bytes\".\n",
    "\n",
    "In this chapter, we show how the [ISLa](https://rindphi.github.io/isla/) framework allows us to express such features as _constraints_ added to a grammar.\n",
    "By having ISLa solve these constraints automatically, we produce inputs that are not only _syntactically_ valid, but actually _semantically_ valid.\n",
    "Furthermore, such constraints allow us to very precisely _shape_ the inputs we want for testing."
   ]
  },
  {
   "cell_type": "code",
   "execution_count": 1,
   "id": "371d240d",
   "metadata": {
    "execution": {
     "iopub.execute_input": "2023-01-07T14:18:48.306529Z",
     "iopub.status.busy": "2023-01-07T14:18:48.305922Z",
     "iopub.status.idle": "2023-01-07T14:18:48.353882Z",
     "shell.execute_reply": "2023-01-07T14:18:48.354187Z"
    },
    "slideshow": {
     "slide_type": "skip"
    }
   },
   "outputs": [
    {
     "data": {
      "text/html": [
       "\n",
       "        <iframe\n",
       "            width=\"640\"\n",
       "            height=\"360\"\n",
       "            src=\"https://www.youtube-nocookie.com/embed/dgaGuwn-1OU\"\n",
       "            frameborder=\"0\"\n",
       "            allowfullscreen\n",
       "            \n",
       "        ></iframe>\n",
       "        "
      ],
      "text/plain": [
       "<IPython.lib.display.IFrame at 0x1079866b0>"
      ]
     },
     "execution_count": 1,
     "metadata": {},
     "output_type": "execute_result"
    }
   ],
   "source": [
    "from bookutils import YouTubeVideo\n",
    "YouTubeVideo(\"dgaGuwn-1OU\")"
   ]
  },
  {
   "cell_type": "markdown",
   "id": "88ec37bf",
   "metadata": {
    "button": false,
    "new_sheet": false,
    "run_control": {
     "read_only": false
    },
    "slideshow": {
     "slide_type": "subslide"
    }
   },
   "source": [
    "**Prerequisites**\n",
    "\n",
    "* You should have read the [chapter on grammars](Grammars.ipynb).\n",
    "* The chapter on [generators and filters](GeneratorGrammarFuzzer.ipynb) addresses a similar problem, but with program code instead of constraints."
   ]
  },
  {
   "cell_type": "code",
   "execution_count": 2,
   "id": "b383c5ed",
   "metadata": {
    "button": false,
    "execution": {
     "iopub.execute_input": "2023-01-07T14:18:48.356599Z",
     "iopub.status.busy": "2023-01-07T14:18:48.356207Z",
     "iopub.status.idle": "2023-01-07T14:18:48.357589Z",
     "shell.execute_reply": "2023-01-07T14:18:48.357803Z"
    },
    "new_sheet": false,
    "run_control": {
     "read_only": false
    },
    "slideshow": {
     "slide_type": "skip"
    }
   },
   "outputs": [],
   "source": [
    "import bookutils"
   ]
  },
  {
   "cell_type": "code",
   "execution_count": 3,
   "id": "286a4c94",
   "metadata": {
    "execution": {
     "iopub.execute_input": "2023-01-07T14:18:48.359968Z",
     "iopub.status.busy": "2023-01-07T14:18:48.359632Z",
     "iopub.status.idle": "2023-01-07T14:18:48.360812Z",
     "shell.execute_reply": "2023-01-07T14:18:48.361128Z"
    },
    "slideshow": {
     "slide_type": "fragment"
    }
   },
   "outputs": [],
   "source": [
    "# ignore\n",
    "import sys"
   ]
  },
  {
   "cell_type": "code",
   "execution_count": 4,
   "id": "a9e1f132",
   "metadata": {
    "execution": {
     "iopub.execute_input": "2023-01-07T14:18:48.363223Z",
     "iopub.status.busy": "2023-01-07T14:18:48.362898Z",
     "iopub.status.idle": "2023-01-07T14:18:48.364148Z",
     "shell.execute_reply": "2023-01-07T14:18:48.364353Z"
    },
    "slideshow": {
     "slide_type": "fragment"
    }
   },
   "outputs": [],
   "source": [
    "# ignore\n",
    "if sys.version_info < (3, 10):\n",
    "    print(\"This code requires Python 3.10 or later\")\n",
    "    sys.exit(0)"
   ]
  },
  {
   "attachments": {},
   "cell_type": "markdown",
   "id": "74cd055b",
   "metadata": {
    "slideshow": {
     "slide_type": "skip"
    }
   },
   "source": [
    "## Synopsis\n",
    "<!-- Automatically generated. Do not edit. -->\n",
    "\n",
    "To [use the code provided in this chapter](Importing.ipynb), write\n",
    "\n",
    "```python\n",
    ">>> from fuzzingbook.FuzzingWithConstraints import <identifier>\n",
    "```\n",
    "\n",
    "and then make use of the following features.\n",
    "\n",
    "\n",
    "This chapter introduces the [ISLa](https://rindphi.github.io/isla/) framework, consisting of \n",
    "* the _ISLa specification language_, allowing to add _constraints_ to a grammar\n",
    "* the _ISLa solver_, solving these constraints to produce semantically (and syntactically) valid inputs\n",
    "* the _ISLa checker_, checking given inputs for whether they satisfy these constraints.\n",
    "\n",
    "A typical usage of the ISLa solver is as follows.\n",
    "First, install ISLa, using \n",
    "```shell\n",
    "$ pip install isla-solver\n",
    "```\n",
    "Then, you can import the solver as\n",
    "\n",
    "```python\n",
    ">>> from isla.solver import ISLaSolver  # type: ignore\n",
    "```\n",
    "The ISLa solver needs two things. First, a _grammar_ - say, US phone numbers.\n",
    "\n",
    "```python\n",
    ">>> from Grammars import US_PHONE_GRAMMAR\n",
    "```\n",
    "Second, you need _constraints_ – a string expressing a condition over one or more grammar elements.\n",
    "Common functions include\n",
    "* `str.len()`, returning the length of a string\n",
    "* `str.to.int()`, converting a string to an integer\n",
    "\n",
    "Here, we instantiate the ISLa solver with a constraint stating that the area code should be above 900:\n",
    "\n",
    "```python\n",
    ">>> solver = ISLaSolver(US_PHONE_GRAMMAR, \n",
    ">>>             \"\"\"\n",
    ">>>             str.to.int(<area>) > 900\n",
    ">>>             \"\"\")\n",
    "```\n",
    "With that, invoking `solver.solve()` returns a _solution_ for the constraints.\n",
    "\n",
    "```python\n",
    ">>> str(solver.solve())\n",
    "'(902)649-3516'\n",
    "```\n",
    "`solve()` returns a derivation tree, which typically is converted into a string using `str()` as above. The `print()` function does this implicitly.\n",
    "\n",
    "Subsequent calls of `solve()` return more solutions:\n",
    "\n",
    "```python\n",
    ">>> for _ in range(10):\n",
    ">>>     print(solver.solve())\n",
    "(902)520-7480\n",
    "(902)401-9809\n",
    "(902)851-6086\n",
    "(902)384-8937\n",
    "(902)734-8347\n",
    "(902)918-9849\n",
    "(902)285-1666\n",
    "(902)621-6187\n",
    "(902)943-1442\n",
    "(905)695-2725\n",
    "\n",
    "```\n",
    "We see that the solver produces a number of inputs that all satisfy the constraint - the area code is always more than 900.\n",
    "\n",
    "The `ISLaSolver()` constructor provides several additional parameters to configure the solver, as documented below.\n",
    "Additional `ISLaSolver` methods allow to check inputs against constraints, and provide additional functionality.\n",
    "\n",
    "![](PICS/FuzzingWithConstraints-synopsis-1.svg)\n",
    "\n",
    "The ISLa functionality is also available on the command line:\n",
    "\n",
    "```python\n",
    ">>> !isla --help\n",
    "usage: isla [-h] [-v]\r\n",
    "            {solve,fuzz,check,find,parse,repair,mutate,create,config} ...\r\n",
    "\r\n",
    "The ISLa command line interface.\r\n",
    "\r\n",
    "options:\r\n",
    "  -h, --help            show this help message and exit\r\n",
    "  -v, --version         Print the ISLa version number\r\n",
    "\r\n",
    "Commands:\r\n",
    "  {solve,fuzz,check,find,parse,repair,mutate,create,config}\r\n",
    "    solve               create solutions to ISLa constraints or check their\r\n",
    "                        unsatisfiability\r\n",
    "    fuzz                pass solutions to an ISLa constraint to a test subject\r\n",
    "    check               check whether an input satisfies an ISLa constraint\r\n",
    "    find                filter files satisfying syntactic & semantic\r\n",
    "                        constraints\r\n",
    "    parse               parse an input into a derivation tree if it satisfies\r\n",
    "                        an ISLa constraint\r\n",
    "    repair              try to repair an existing input such that it satisfies\r\n",
    "                        an ISLa constraint\r\n",
    "    mutate              mutate an input such that the result satisfies an ISLa\r\n",
    "                        constraint\r\n",
    "    create              create grammar and constraint stubs\r\n",
    "    config              dumps the default configuration file\r\n",
    "\n",
    "```\n"
   ]
  },
  {
   "cell_type": "markdown",
   "id": "93f11201",
   "metadata": {
    "slideshow": {
     "slide_type": "slide"
    }
   },
   "source": [
    "## Semantic Input Properties"
   ]
  },
  {
   "cell_type": "markdown",
   "id": "0ca854cf",
   "metadata": {
    "slideshow": {
     "slide_type": "fragment"
    }
   },
   "source": [
    "In this book, we have frequently used [grammars](Grammars.ipynb) to [systematically generate inputs](GrammarFuzzer.ipynb) that [cover input structure](GrammarCoverageFuzzer.ipynb) and more.\n",
    "But while it is relatively easy to express the _syntax_ of an input using a grammar, there are input properties that _cannot_ be expressed using a grammar.\n",
    "Such input properties are called _semantic_ properties."
   ]
  },
  {
   "cell_type": "markdown",
   "id": "c2b7c2bd",
   "metadata": {
    "slideshow": {
     "slide_type": "subslide"
    }
   },
   "source": [
    "Let us illustrate semantic properties using a simple example.\n",
    "We want to test some system that is configured by two settings, a _page size_ and a _buffer size_. \n",
    "Both these come as integer numbers as part of a human-readable configuration file.\n",
    "The _syntax_ of this file is given by the following grammar:"
   ]
  },
  {
   "cell_type": "code",
   "execution_count": 5,
   "id": "3e8cb79d",
   "metadata": {
    "execution": {
     "iopub.execute_input": "2023-01-07T14:18:48.366301Z",
     "iopub.status.busy": "2023-01-07T14:18:48.365985Z",
     "iopub.status.idle": "2023-01-07T14:18:48.792911Z",
     "shell.execute_reply": "2023-01-07T14:18:48.793129Z"
    },
    "slideshow": {
     "slide_type": "skip"
    }
   },
   "outputs": [],
   "source": [
    "from Grammars import Grammar, is_valid_grammar, syntax_diagram, crange"
   ]
  },
  {
   "cell_type": "code",
   "execution_count": 6,
   "id": "e207e7fc",
   "metadata": {
    "execution": {
     "iopub.execute_input": "2023-01-07T14:18:48.795031Z",
     "iopub.status.busy": "2023-01-07T14:18:48.794721Z",
     "iopub.status.idle": "2023-01-07T14:18:48.795982Z",
     "shell.execute_reply": "2023-01-07T14:18:48.796183Z"
    },
    "slideshow": {
     "slide_type": "skip"
    }
   },
   "outputs": [],
   "source": [
    "import string"
   ]
  },
  {
   "cell_type": "code",
   "execution_count": 7,
   "id": "398f0dce",
   "metadata": {
    "execution": {
     "iopub.execute_input": "2023-01-07T14:18:48.798205Z",
     "iopub.status.busy": "2023-01-07T14:18:48.797903Z",
     "iopub.status.idle": "2023-01-07T14:18:48.799288Z",
     "shell.execute_reply": "2023-01-07T14:18:48.799480Z"
    },
    "slideshow": {
     "slide_type": "subslide"
    }
   },
   "outputs": [],
   "source": [
    "CONFIG_GRAMMAR: Grammar = {\n",
    "    \"<start>\": [\"<config>\"],\n",
    "    \"<config>\": [\n",
    "        \"pagesize=<pagesize>\\n\"\n",
    "        \"bufsize=<bufsize>\"\n",
    "    ],\n",
    "    \"<pagesize>\": [\"<int>\"],\n",
    "    \"<bufsize>\": [\"<int>\"],\n",
    "    \"<int>\": [\"<leaddigit><digits>\"],\n",
    "    \"<digits>\": [\"\", \"<digit><digits>\"],\n",
    "    \"<digit>\": list(\"0123456789\"),\n",
    "    \"<leaddigit>\": list(\"123456789\")\n",
    "}"
   ]
  },
  {
   "cell_type": "code",
   "execution_count": 8,
   "id": "82f60456",
   "metadata": {
    "execution": {
     "iopub.execute_input": "2023-01-07T14:18:48.801154Z",
     "iopub.status.busy": "2023-01-07T14:18:48.800849Z",
     "iopub.status.idle": "2023-01-07T14:18:48.802248Z",
     "shell.execute_reply": "2023-01-07T14:18:48.802494Z"
    },
    "slideshow": {
     "slide_type": "fragment"
    },
    "tags": []
   },
   "outputs": [],
   "source": [
    "assert is_valid_grammar(CONFIG_GRAMMAR)"
   ]
  },
  {
   "cell_type": "markdown",
   "id": "3201949c",
   "metadata": {
    "slideshow": {
     "slide_type": "subslide"
    }
   },
   "source": [
    "Here's a visualization of this grammar as a railroad diagram, showing its structure:"
   ]
  },
  {
   "cell_type": "code",
   "execution_count": 9,
   "id": "5c66275f",
   "metadata": {
    "execution": {
     "iopub.execute_input": "2023-01-07T14:18:48.804715Z",
     "iopub.status.busy": "2023-01-07T14:18:48.804427Z",
     "iopub.status.idle": "2023-01-07T14:18:48.817416Z",
     "shell.execute_reply": "2023-01-07T14:18:48.817781Z"
    },
    "slideshow": {
     "slide_type": "subslide"
    }
   },
   "outputs": [
    {
     "name": "stdout",
     "output_type": "stream",
     "text": [
      "start\n"
     ]
    },
    {
     "data": {
      "image/svg+xml": [
       "<svg xmlns=\"http://www.w3.org/2000/svg\" class=\"railroad-diagram\" height=\"62\" viewBox=\"0 0 191.0 62\" width=\"191.0\">\n",
       "<g transform=\"translate(.5 .5)\">\n",
       "<style>/* <![CDATA[ */\n",
       "    svg.railroad-diagram {\n",
       "    }\n",
       "    svg.railroad-diagram path {\n",
       "        stroke-width:3;\n",
       "        stroke:black;\n",
       "        fill:white;\n",
       "    }\n",
       "    svg.railroad-diagram text {\n",
       "        font:14px \"Fira Mono\", monospace;\n",
       "        text-anchor:middle;\n",
       "    }\n",
       "    svg.railroad-diagram text.label{\n",
       "        text-anchor:start;\n",
       "    }\n",
       "    svg.railroad-diagram text.comment{\n",
       "        font:italic 12px \"Fira Mono\", monospace;\n",
       "    }\n",
       "    svg.railroad-diagram rect{\n",
       "        stroke-width:2;\n",
       "        stroke:black;\n",
       "        fill:mistyrose;\n",
       "    }\n",
       "\n",
       "/* ]]> */\n",
       "</style><g>\n",
       "<path d=\"M20 21v20m10 -20v20m-10 -10h20\"/></g><g>\n",
       "<path d=\"M40 31h0.0\"/><path d=\"M151.0 31h0.0\"/><path d=\"M40.0 31h20\"/><g>\n",
       "<path d=\"M60.0 31h0.0\"/><path d=\"M131.0 31h0.0\"/><g class=\"non-terminal\">\n",
       "<path d=\"M60.0 31h0.0\"/><path d=\"M131.0 31h0.0\"/><rect height=\"22\" width=\"71.0\" x=\"60.0\" y=\"20\"/><text x=\"95.5\" y=\"35\">config</text></g></g><path d=\"M131.0 31h20\"/></g><path d=\"M 151.0 31 h 20 m -10 -10 v 20 m 10 -20 v 20\"/></g></svg>"
      ],
      "text/plain": [
       "<IPython.core.display.SVG object>"
      ]
     },
     "metadata": {},
     "output_type": "display_data"
    },
    {
     "name": "stdout",
     "output_type": "stream",
     "text": [
      "config\n"
     ]
    },
    {
     "data": {
      "image/svg+xml": [
       "<svg xmlns=\"http://www.w3.org/2000/svg\" class=\"railroad-diagram\" height=\"62\" viewBox=\"0 0 540.5 62\" width=\"540.5\">\n",
       "<g transform=\"translate(.5 .5)\">\n",
       "<style>/* <![CDATA[ */\n",
       "    svg.railroad-diagram {\n",
       "    }\n",
       "    svg.railroad-diagram path {\n",
       "        stroke-width:3;\n",
       "        stroke:black;\n",
       "        fill:white;\n",
       "    }\n",
       "    svg.railroad-diagram text {\n",
       "        font:14px \"Fira Mono\", monospace;\n",
       "        text-anchor:middle;\n",
       "    }\n",
       "    svg.railroad-diagram text.label{\n",
       "        text-anchor:start;\n",
       "    }\n",
       "    svg.railroad-diagram text.comment{\n",
       "        font:italic 12px \"Fira Mono\", monospace;\n",
       "    }\n",
       "    svg.railroad-diagram rect{\n",
       "        stroke-width:2;\n",
       "        stroke:black;\n",
       "        fill:mistyrose;\n",
       "    }\n",
       "\n",
       "/* ]]> */\n",
       "</style><g>\n",
       "<path d=\"M20 21v20m10 -20v20m-10 -10h20\"/></g><g>\n",
       "<path d=\"M40 31h0.0\"/><path d=\"M500.5 31h0.0\"/><path d=\"M40.0 31h20\"/><g>\n",
       "<path d=\"M60.0 31h0.0\"/><path d=\"M480.5 31h0.0\"/><g class=\"terminal\">\n",
       "<path d=\"M60.0 31h0.0\"/><path d=\"M156.5 31h0.0\"/><rect height=\"22\" rx=\"10\" ry=\"10\" width=\"96.5\" x=\"60.0\" y=\"20\"/><text x=\"108.25\" y=\"35\">pagesize=</text></g><path d=\"M156.5 31h10\"/><path d=\"M166.5 31h10\"/><g class=\"non-terminal\">\n",
       "<path d=\"M176.5 31h0.0\"/><path d=\"M264.5 31h0.0\"/><rect height=\"22\" width=\"88.0\" x=\"176.5\" y=\"20\"/><text x=\"220.5\" y=\"35\">pagesize</text></g><path d=\"M264.5 31h10\"/><path d=\"M274.5 31h10\"/><g class=\"terminal\">\n",
       "<path d=\"M284.5 31h0.0\"/><path d=\"M381.0 31h0.0\"/><rect height=\"22\" rx=\"10\" ry=\"10\" width=\"96.5\" x=\"284.5\" y=\"20\"/><text x=\"332.75\" y=\"35\">\n",
       "bufsize=</text></g><path d=\"M381.0 31h10\"/><path d=\"M391.0 31h10\"/><g class=\"non-terminal\">\n",
       "<path d=\"M401.0 31h0.0\"/><path d=\"M480.5 31h0.0\"/><rect height=\"22\" width=\"79.5\" x=\"401.0\" y=\"20\"/><text x=\"440.75\" y=\"35\">bufsize</text></g></g><path d=\"M480.5 31h20\"/></g><path d=\"M 500.5 31 h 20 m -10 -10 v 20 m 10 -20 v 20\"/></g></svg>"
      ],
      "text/plain": [
       "<IPython.core.display.SVG object>"
      ]
     },
     "metadata": {},
     "output_type": "display_data"
    },
    {
     "name": "stdout",
     "output_type": "stream",
     "text": [
      "pagesize\n"
     ]
    },
    {
     "data": {
      "image/svg+xml": [
       "<svg xmlns=\"http://www.w3.org/2000/svg\" class=\"railroad-diagram\" height=\"62\" viewBox=\"0 0 165.5 62\" width=\"165.5\">\n",
       "<g transform=\"translate(.5 .5)\">\n",
       "<style>/* <![CDATA[ */\n",
       "    svg.railroad-diagram {\n",
       "    }\n",
       "    svg.railroad-diagram path {\n",
       "        stroke-width:3;\n",
       "        stroke:black;\n",
       "        fill:white;\n",
       "    }\n",
       "    svg.railroad-diagram text {\n",
       "        font:14px \"Fira Mono\", monospace;\n",
       "        text-anchor:middle;\n",
       "    }\n",
       "    svg.railroad-diagram text.label{\n",
       "        text-anchor:start;\n",
       "    }\n",
       "    svg.railroad-diagram text.comment{\n",
       "        font:italic 12px \"Fira Mono\", monospace;\n",
       "    }\n",
       "    svg.railroad-diagram rect{\n",
       "        stroke-width:2;\n",
       "        stroke:black;\n",
       "        fill:mistyrose;\n",
       "    }\n",
       "\n",
       "/* ]]> */\n",
       "</style><g>\n",
       "<path d=\"M20 21v20m10 -20v20m-10 -10h20\"/></g><g>\n",
       "<path d=\"M40 31h0.0\"/><path d=\"M125.5 31h0.0\"/><path d=\"M40.0 31h20\"/><g>\n",
       "<path d=\"M60.0 31h0.0\"/><path d=\"M105.5 31h0.0\"/><g class=\"non-terminal\">\n",
       "<path d=\"M60.0 31h0.0\"/><path d=\"M105.5 31h0.0\"/><rect height=\"22\" width=\"45.5\" x=\"60.0\" y=\"20\"/><text x=\"82.75\" y=\"35\">int</text></g></g><path d=\"M105.5 31h20\"/></g><path d=\"M 125.5 31 h 20 m -10 -10 v 20 m 10 -20 v 20\"/></g></svg>"
      ],
      "text/plain": [
       "<IPython.core.display.SVG object>"
      ]
     },
     "metadata": {},
     "output_type": "display_data"
    },
    {
     "name": "stdout",
     "output_type": "stream",
     "text": [
      "bufsize\n"
     ]
    },
    {
     "data": {
      "image/svg+xml": [
       "<svg xmlns=\"http://www.w3.org/2000/svg\" class=\"railroad-diagram\" height=\"62\" viewBox=\"0 0 165.5 62\" width=\"165.5\">\n",
       "<g transform=\"translate(.5 .5)\">\n",
       "<style>/* <![CDATA[ */\n",
       "    svg.railroad-diagram {\n",
       "    }\n",
       "    svg.railroad-diagram path {\n",
       "        stroke-width:3;\n",
       "        stroke:black;\n",
       "        fill:white;\n",
       "    }\n",
       "    svg.railroad-diagram text {\n",
       "        font:14px \"Fira Mono\", monospace;\n",
       "        text-anchor:middle;\n",
       "    }\n",
       "    svg.railroad-diagram text.label{\n",
       "        text-anchor:start;\n",
       "    }\n",
       "    svg.railroad-diagram text.comment{\n",
       "        font:italic 12px \"Fira Mono\", monospace;\n",
       "    }\n",
       "    svg.railroad-diagram rect{\n",
       "        stroke-width:2;\n",
       "        stroke:black;\n",
       "        fill:mistyrose;\n",
       "    }\n",
       "\n",
       "/* ]]> */\n",
       "</style><g>\n",
       "<path d=\"M20 21v20m10 -20v20m-10 -10h20\"/></g><g>\n",
       "<path d=\"M40 31h0.0\"/><path d=\"M125.5 31h0.0\"/><path d=\"M40.0 31h20\"/><g>\n",
       "<path d=\"M60.0 31h0.0\"/><path d=\"M105.5 31h0.0\"/><g class=\"non-terminal\">\n",
       "<path d=\"M60.0 31h0.0\"/><path d=\"M105.5 31h0.0\"/><rect height=\"22\" width=\"45.5\" x=\"60.0\" y=\"20\"/><text x=\"82.75\" y=\"35\">int</text></g></g><path d=\"M105.5 31h20\"/></g><path d=\"M 125.5 31 h 20 m -10 -10 v 20 m 10 -20 v 20\"/></g></svg>"
      ],
      "text/plain": [
       "<IPython.core.display.SVG object>"
      ]
     },
     "metadata": {},
     "output_type": "display_data"
    },
    {
     "name": "stdout",
     "output_type": "stream",
     "text": [
      "int\n"
     ]
    },
    {
     "data": {
      "image/svg+xml": [
       "<svg xmlns=\"http://www.w3.org/2000/svg\" class=\"railroad-diagram\" height=\"62\" viewBox=\"0 0 307.5 62\" width=\"307.5\">\n",
       "<g transform=\"translate(.5 .5)\">\n",
       "<style>/* <![CDATA[ */\n",
       "    svg.railroad-diagram {\n",
       "    }\n",
       "    svg.railroad-diagram path {\n",
       "        stroke-width:3;\n",
       "        stroke:black;\n",
       "        fill:white;\n",
       "    }\n",
       "    svg.railroad-diagram text {\n",
       "        font:14px \"Fira Mono\", monospace;\n",
       "        text-anchor:middle;\n",
       "    }\n",
       "    svg.railroad-diagram text.label{\n",
       "        text-anchor:start;\n",
       "    }\n",
       "    svg.railroad-diagram text.comment{\n",
       "        font:italic 12px \"Fira Mono\", monospace;\n",
       "    }\n",
       "    svg.railroad-diagram rect{\n",
       "        stroke-width:2;\n",
       "        stroke:black;\n",
       "        fill:mistyrose;\n",
       "    }\n",
       "\n",
       "/* ]]> */\n",
       "</style><g>\n",
       "<path d=\"M20 21v20m10 -20v20m-10 -10h20\"/></g><g>\n",
       "<path d=\"M40 31h0.0\"/><path d=\"M267.5 31h0.0\"/><path d=\"M40.0 31h20\"/><g>\n",
       "<path d=\"M60.0 31h0.0\"/><path d=\"M247.5 31h0.0\"/><g class=\"non-terminal\">\n",
       "<path d=\"M60.0 31h0.0\"/><path d=\"M156.5 31h0.0\"/><rect height=\"22\" width=\"96.5\" x=\"60.0\" y=\"20\"/><text x=\"108.25\" y=\"35\">leaddigit</text></g><path d=\"M156.5 31h10\"/><path d=\"M166.5 31h10\"/><g class=\"non-terminal\">\n",
       "<path d=\"M176.5 31h0.0\"/><path d=\"M247.5 31h0.0\"/><rect height=\"22\" width=\"71.0\" x=\"176.5\" y=\"20\"/><text x=\"212.0\" y=\"35\">digits</text></g></g><path d=\"M247.5 31h20\"/></g><path d=\"M 267.5 31 h 20 m -10 -10 v 20 m 10 -20 v 20\"/></g></svg>"
      ],
      "text/plain": [
       "<IPython.core.display.SVG object>"
      ]
     },
     "metadata": {},
     "output_type": "display_data"
    },
    {
     "name": "stdout",
     "output_type": "stream",
     "text": [
      "digits\n"
     ]
    },
    {
     "data": {
      "image/svg+xml": [
       "<svg xmlns=\"http://www.w3.org/2000/svg\" class=\"railroad-diagram\" height=\"92\" viewBox=\"0 0 273.5 92\" width=\"273.5\">\n",
       "<g transform=\"translate(.5 .5)\">\n",
       "<style>/* <![CDATA[ */\n",
       "    svg.railroad-diagram {\n",
       "    }\n",
       "    svg.railroad-diagram path {\n",
       "        stroke-width:3;\n",
       "        stroke:black;\n",
       "        fill:white;\n",
       "    }\n",
       "    svg.railroad-diagram text {\n",
       "        font:14px \"Fira Mono\", monospace;\n",
       "        text-anchor:middle;\n",
       "    }\n",
       "    svg.railroad-diagram text.label{\n",
       "        text-anchor:start;\n",
       "    }\n",
       "    svg.railroad-diagram text.comment{\n",
       "        font:italic 12px \"Fira Mono\", monospace;\n",
       "    }\n",
       "    svg.railroad-diagram rect{\n",
       "        stroke-width:2;\n",
       "        stroke:black;\n",
       "        fill:mistyrose;\n",
       "    }\n",
       "\n",
       "/* ]]> */\n",
       "</style><g>\n",
       "<path d=\"M20 51v20m10 -20v20m-10 -10h20\"/></g><g>\n",
       "<path d=\"M40 61h0.0\"/><path d=\"M233.5 61h0.0\"/><path d=\"M40.0 61a10 10 0 0 0 10 -10v-10a10 10 0 0 1 10 -10\"/><g>\n",
       "<path d=\"M60.0 31h66.75\"/><path d=\"M146.75 31h66.75\"/><g class=\"terminal\">\n",
       "<path d=\"M126.75 31h0.0\"/><path d=\"M146.75 31h0.0\"/><rect height=\"22\" rx=\"10\" ry=\"10\" width=\"20.0\" x=\"126.75\" y=\"20\"/><text x=\"136.75\" y=\"35\"/></g></g><path d=\"M213.5 31a10 10 0 0 1 10 10v10a10 10 0 0 0 10 10\"/><path d=\"M40.0 61h20\"/><g>\n",
       "<path d=\"M60.0 61h0.0\"/><path d=\"M213.5 61h0.0\"/><g class=\"non-terminal\">\n",
       "<path d=\"M60.0 61h0.0\"/><path d=\"M122.5 61h0.0\"/><rect height=\"22\" width=\"62.5\" x=\"60.0\" y=\"50\"/><text x=\"91.25\" y=\"65\">digit</text></g><path d=\"M122.5 61h10\"/><path d=\"M132.5 61h10\"/><g class=\"non-terminal\">\n",
       "<path d=\"M142.5 61h0.0\"/><path d=\"M213.5 61h0.0\"/><rect height=\"22\" width=\"71.0\" x=\"142.5\" y=\"50\"/><text x=\"178.0\" y=\"65\">digits</text></g></g><path d=\"M213.5 61h20\"/></g><path d=\"M 233.5 61 h 20 m -10 -10 v 20 m 10 -20 v 20\"/></g></svg>"
      ],
      "text/plain": [
       "<IPython.core.display.SVG object>"
      ]
     },
     "metadata": {},
     "output_type": "display_data"
    },
    {
     "name": "stdout",
     "output_type": "stream",
     "text": [
      "digit\n"
     ]
    },
    {
     "data": {
      "image/svg+xml": [
       "<svg xmlns=\"http://www.w3.org/2000/svg\" class=\"railroad-diagram\" height=\"109\" viewBox=\"0 0 522.5 109\" width=\"522.5\">\n",
       "<g transform=\"translate(.5 .5)\">\n",
       "<style>/* <![CDATA[ */\n",
       "    svg.railroad-diagram {\n",
       "    }\n",
       "    svg.railroad-diagram path {\n",
       "        stroke-width:3;\n",
       "        stroke:black;\n",
       "        fill:white;\n",
       "    }\n",
       "    svg.railroad-diagram text {\n",
       "        font:14px \"Fira Mono\", monospace;\n",
       "        text-anchor:middle;\n",
       "    }\n",
       "    svg.railroad-diagram text.label{\n",
       "        text-anchor:start;\n",
       "    }\n",
       "    svg.railroad-diagram text.comment{\n",
       "        font:italic 12px \"Fira Mono\", monospace;\n",
       "    }\n",
       "    svg.railroad-diagram rect{\n",
       "        stroke-width:2;\n",
       "        stroke:black;\n",
       "        fill:mistyrose;\n",
       "    }\n",
       "\n",
       "/* ]]> */\n",
       "</style><g>\n",
       "<path d=\"M20 59v20m10 -20v20m-10 -10h20\"/></g><g>\n",
       "<path d=\"M40 69h0.0\"/><path d=\"M482.5 69h0.0\"/><path d=\"M40.0 69a10 10 0 0 0 10 -10v-29a10 10 0 0 1 10 -10h324.0\"/><path d=\"M138.5 89h324.0a10 10 0 0 0 10 -10v0a10 10 0 0 1 10 -10\"/><path d=\"M40.0 69h10\"/><g>\n",
       "<path d=\"M50.0 69h0.0\"/><path d=\"M118.5 69h0.0\"/><path d=\"M50.0 69a10 10 0 0 0 10 -10v-10a10 10 0 0 1 10 -10\"/><g>\n",
       "<path d=\"M70.0 39h0.0\"/><path d=\"M98.5 39h0.0\"/><g class=\"terminal\">\n",
       "<path d=\"M70.0 39h0.0\"/><path d=\"M98.5 39h0.0\"/><rect height=\"22\" rx=\"10\" ry=\"10\" width=\"28.5\" x=\"70.0\" y=\"28\"/><text x=\"84.25\" y=\"43\">0</text></g></g><path d=\"M98.5 39a10 10 0 0 1 10 10v10a10 10 0 0 0 10 10\"/><path d=\"M50.0 69h20\"/><g>\n",
       "<path d=\"M70.0 69h0.0\"/><path d=\"M98.5 69h0.0\"/><g class=\"terminal\">\n",
       "<path d=\"M70.0 69h0.0\"/><path d=\"M98.5 69h0.0\"/><rect height=\"22\" rx=\"10\" ry=\"10\" width=\"28.5\" x=\"70.0\" y=\"58\"/><text x=\"84.25\" y=\"73\">1</text></g></g><path d=\"M98.5 69h20\"/></g><path d=\"M118.5 69a10 10 0 0 1 10 10v0a10 10 0 0 0 10 10\"/><path d=\"M118.5 20a10 10 0 0 1 10 10v29a10 10 0 0 0 10 10\"/><g>\n",
       "<path d=\"M138.5 69h0.0\"/><path d=\"M207.0 69h0.0\"/><path d=\"M138.5 69a10 10 0 0 0 10 -10v-10a10 10 0 0 1 10 -10\"/><g>\n",
       "<path d=\"M158.5 39h0.0\"/><path d=\"M187.0 39h0.0\"/><g class=\"terminal\">\n",
       "<path d=\"M158.5 39h0.0\"/><path d=\"M187.0 39h0.0\"/><rect height=\"22\" rx=\"10\" ry=\"10\" width=\"28.5\" x=\"158.5\" y=\"28\"/><text x=\"172.75\" y=\"43\">2</text></g></g><path d=\"M187.0 39a10 10 0 0 1 10 10v10a10 10 0 0 0 10 10\"/><path d=\"M138.5 69h20\"/><g>\n",
       "<path d=\"M158.5 69h0.0\"/><path d=\"M187.0 69h0.0\"/><g class=\"terminal\">\n",
       "<path d=\"M158.5 69h0.0\"/><path d=\"M187.0 69h0.0\"/><rect height=\"22\" rx=\"10\" ry=\"10\" width=\"28.5\" x=\"158.5\" y=\"58\"/><text x=\"172.75\" y=\"73\">3</text></g></g><path d=\"M187.0 69h20\"/></g><path d=\"M207.0 69a10 10 0 0 1 10 10v0a10 10 0 0 0 10 10\"/><path d=\"M207.0 20a10 10 0 0 1 10 10v29a10 10 0 0 0 10 10\"/><g>\n",
       "<path d=\"M227.0 69h0.0\"/><path d=\"M295.5 69h0.0\"/><path d=\"M227.0 69a10 10 0 0 0 10 -10v-10a10 10 0 0 1 10 -10\"/><g>\n",
       "<path d=\"M247.0 39h0.0\"/><path d=\"M275.5 39h0.0\"/><g class=\"terminal\">\n",
       "<path d=\"M247.0 39h0.0\"/><path d=\"M275.5 39h0.0\"/><rect height=\"22\" rx=\"10\" ry=\"10\" width=\"28.5\" x=\"247.0\" y=\"28\"/><text x=\"261.25\" y=\"43\">4</text></g></g><path d=\"M275.5 39a10 10 0 0 1 10 10v10a10 10 0 0 0 10 10\"/><path d=\"M227.0 69h20\"/><g>\n",
       "<path d=\"M247.0 69h0.0\"/><path d=\"M275.5 69h0.0\"/><g class=\"terminal\">\n",
       "<path d=\"M247.0 69h0.0\"/><path d=\"M275.5 69h0.0\"/><rect height=\"22\" rx=\"10\" ry=\"10\" width=\"28.5\" x=\"247.0\" y=\"58\"/><text x=\"261.25\" y=\"73\">5</text></g></g><path d=\"M275.5 69h20\"/></g><path d=\"M295.5 69a10 10 0 0 1 10 10v0a10 10 0 0 0 10 10\"/><path d=\"M295.5 20a10 10 0 0 1 10 10v29a10 10 0 0 0 10 10\"/><g>\n",
       "<path d=\"M315.5 69h0.0\"/><path d=\"M384.0 69h0.0\"/><path d=\"M315.5 69a10 10 0 0 0 10 -10v-10a10 10 0 0 1 10 -10\"/><g>\n",
       "<path d=\"M335.5 39h0.0\"/><path d=\"M364.0 39h0.0\"/><g class=\"terminal\">\n",
       "<path d=\"M335.5 39h0.0\"/><path d=\"M364.0 39h0.0\"/><rect height=\"22\" rx=\"10\" ry=\"10\" width=\"28.5\" x=\"335.5\" y=\"28\"/><text x=\"349.75\" y=\"43\">6</text></g></g><path d=\"M364.0 39a10 10 0 0 1 10 10v10a10 10 0 0 0 10 10\"/><path d=\"M315.5 69h20\"/><g>\n",
       "<path d=\"M335.5 69h0.0\"/><path d=\"M364.0 69h0.0\"/><g class=\"terminal\">\n",
       "<path d=\"M335.5 69h0.0\"/><path d=\"M364.0 69h0.0\"/><rect height=\"22\" rx=\"10\" ry=\"10\" width=\"28.5\" x=\"335.5\" y=\"58\"/><text x=\"349.75\" y=\"73\">7</text></g></g><path d=\"M364.0 69h20\"/></g><path d=\"M384.0 69a10 10 0 0 1 10 10v0a10 10 0 0 0 10 10\"/><path d=\"M384.0 20a10 10 0 0 1 10 10v29a10 10 0 0 0 10 10\"/><g>\n",
       "<path d=\"M404.0 69h0.0\"/><path d=\"M472.5 69h0.0\"/><path d=\"M404.0 69a10 10 0 0 0 10 -10v-10a10 10 0 0 1 10 -10\"/><g>\n",
       "<path d=\"M424.0 39h0.0\"/><path d=\"M452.5 39h0.0\"/><g class=\"terminal\">\n",
       "<path d=\"M424.0 39h0.0\"/><path d=\"M452.5 39h0.0\"/><rect height=\"22\" rx=\"10\" ry=\"10\" width=\"28.5\" x=\"424.0\" y=\"28\"/><text x=\"438.25\" y=\"43\">8</text></g></g><path d=\"M452.5 39a10 10 0 0 1 10 10v10a10 10 0 0 0 10 10\"/><path d=\"M404.0 69h20\"/><g>\n",
       "<path d=\"M424.0 69h0.0\"/><path d=\"M452.5 69h0.0\"/><g class=\"terminal\">\n",
       "<path d=\"M424.0 69h0.0\"/><path d=\"M452.5 69h0.0\"/><rect height=\"22\" rx=\"10\" ry=\"10\" width=\"28.5\" x=\"424.0\" y=\"58\"/><text x=\"438.25\" y=\"73\">9</text></g></g><path d=\"M452.5 69h20\"/></g><path d=\"M472.5 69h10\"/></g><path d=\"M 482.5 69 h 20 m -10 -10 v 20 m 10 -20 v 20\"/></g></svg>"
      ],
      "text/plain": [
       "<IPython.core.display.SVG object>"
      ]
     },
     "metadata": {},
     "output_type": "display_data"
    },
    {
     "name": "stdout",
     "output_type": "stream",
     "text": [
      "leaddigit\n"
     ]
    },
    {
     "data": {
      "image/svg+xml": [
       "<svg xmlns=\"http://www.w3.org/2000/svg\" class=\"railroad-diagram\" height=\"80\" viewBox=\"0 0 876.5 80\" width=\"876.5\">\n",
       "<g transform=\"translate(.5 .5)\">\n",
       "<style>/* <![CDATA[ */\n",
       "    svg.railroad-diagram {\n",
       "    }\n",
       "    svg.railroad-diagram path {\n",
       "        stroke-width:3;\n",
       "        stroke:black;\n",
       "        fill:white;\n",
       "    }\n",
       "    svg.railroad-diagram text {\n",
       "        font:14px \"Fira Mono\", monospace;\n",
       "        text-anchor:middle;\n",
       "    }\n",
       "    svg.railroad-diagram text.label{\n",
       "        text-anchor:start;\n",
       "    }\n",
       "    svg.railroad-diagram text.comment{\n",
       "        font:italic 12px \"Fira Mono\", monospace;\n",
       "    }\n",
       "    svg.railroad-diagram rect{\n",
       "        stroke-width:2;\n",
       "        stroke:black;\n",
       "        fill:mistyrose;\n",
       "    }\n",
       "\n",
       "/* ]]> */\n",
       "</style><g>\n",
       "<path d=\"M20 30v20m10 -20v20m-10 -10h20\"/></g><g>\n",
       "<path d=\"M40 40h0.0\"/><path d=\"M836.5 40h0.0\"/><path d=\"M40.0 40a10 10 0 0 0 10 -10v0a10 10 0 0 1 10 -10h678.0\"/><path d=\"M138.5 60h678.0a10 10 0 0 0 10 -10v0a10 10 0 0 1 10 -10\"/><path d=\"M40.0 40h10\"/><g>\n",
       "<path d=\"M50.0 40h0.0\"/><path d=\"M118.5 40h0.0\"/><path d=\"M50.0 40h20\"/><g>\n",
       "<path d=\"M70.0 40h0.0\"/><path d=\"M98.5 40h0.0\"/><g class=\"terminal\">\n",
       "<path d=\"M70.0 40h0.0\"/><path d=\"M98.5 40h0.0\"/><rect height=\"22\" rx=\"10\" ry=\"10\" width=\"28.5\" x=\"70.0\" y=\"29\"/><text x=\"84.25\" y=\"44\">1</text></g></g><path d=\"M98.5 40h20\"/></g><path d=\"M118.5 40a10 10 0 0 1 10 10v0a10 10 0 0 0 10 10\"/><path d=\"M118.5 20a10 10 0 0 1 10 10v0a10 10 0 0 0 10 10\"/><g>\n",
       "<path d=\"M138.5 40h0.0\"/><path d=\"M207.0 40h0.0\"/><path d=\"M138.5 40h20\"/><g>\n",
       "<path d=\"M158.5 40h0.0\"/><path d=\"M187.0 40h0.0\"/><g class=\"terminal\">\n",
       "<path d=\"M158.5 40h0.0\"/><path d=\"M187.0 40h0.0\"/><rect height=\"22\" rx=\"10\" ry=\"10\" width=\"28.5\" x=\"158.5\" y=\"29\"/><text x=\"172.75\" y=\"44\">2</text></g></g><path d=\"M187.0 40h20\"/></g><path d=\"M207.0 40a10 10 0 0 1 10 10v0a10 10 0 0 0 10 10\"/><path d=\"M207.0 20a10 10 0 0 1 10 10v0a10 10 0 0 0 10 10\"/><g>\n",
       "<path d=\"M227.0 40h0.0\"/><path d=\"M295.5 40h0.0\"/><path d=\"M227.0 40h20\"/><g>\n",
       "<path d=\"M247.0 40h0.0\"/><path d=\"M275.5 40h0.0\"/><g class=\"terminal\">\n",
       "<path d=\"M247.0 40h0.0\"/><path d=\"M275.5 40h0.0\"/><rect height=\"22\" rx=\"10\" ry=\"10\" width=\"28.5\" x=\"247.0\" y=\"29\"/><text x=\"261.25\" y=\"44\">3</text></g></g><path d=\"M275.5 40h20\"/></g><path d=\"M295.5 40a10 10 0 0 1 10 10v0a10 10 0 0 0 10 10\"/><path d=\"M295.5 20a10 10 0 0 1 10 10v0a10 10 0 0 0 10 10\"/><g>\n",
       "<path d=\"M315.5 40h0.0\"/><path d=\"M384.0 40h0.0\"/><path d=\"M315.5 40h20\"/><g>\n",
       "<path d=\"M335.5 40h0.0\"/><path d=\"M364.0 40h0.0\"/><g class=\"terminal\">\n",
       "<path d=\"M335.5 40h0.0\"/><path d=\"M364.0 40h0.0\"/><rect height=\"22\" rx=\"10\" ry=\"10\" width=\"28.5\" x=\"335.5\" y=\"29\"/><text x=\"349.75\" y=\"44\">4</text></g></g><path d=\"M364.0 40h20\"/></g><path d=\"M384.0 40a10 10 0 0 1 10 10v0a10 10 0 0 0 10 10\"/><path d=\"M384.0 20a10 10 0 0 1 10 10v0a10 10 0 0 0 10 10\"/><g>\n",
       "<path d=\"M404.0 40h0.0\"/><path d=\"M472.5 40h0.0\"/><path d=\"M404.0 40h20\"/><g>\n",
       "<path d=\"M424.0 40h0.0\"/><path d=\"M452.5 40h0.0\"/><g class=\"terminal\">\n",
       "<path d=\"M424.0 40h0.0\"/><path d=\"M452.5 40h0.0\"/><rect height=\"22\" rx=\"10\" ry=\"10\" width=\"28.5\" x=\"424.0\" y=\"29\"/><text x=\"438.25\" y=\"44\">5</text></g></g><path d=\"M452.5 40h20\"/></g><path d=\"M472.5 40a10 10 0 0 1 10 10v0a10 10 0 0 0 10 10\"/><path d=\"M472.5 20a10 10 0 0 1 10 10v0a10 10 0 0 0 10 10\"/><g>\n",
       "<path d=\"M492.5 40h0.0\"/><path d=\"M561.0 40h0.0\"/><path d=\"M492.5 40h20\"/><g>\n",
       "<path d=\"M512.5 40h0.0\"/><path d=\"M541.0 40h0.0\"/><g class=\"terminal\">\n",
       "<path d=\"M512.5 40h0.0\"/><path d=\"M541.0 40h0.0\"/><rect height=\"22\" rx=\"10\" ry=\"10\" width=\"28.5\" x=\"512.5\" y=\"29\"/><text x=\"526.75\" y=\"44\">6</text></g></g><path d=\"M541.0 40h20\"/></g><path d=\"M561.0 40a10 10 0 0 1 10 10v0a10 10 0 0 0 10 10\"/><path d=\"M561.0 20a10 10 0 0 1 10 10v0a10 10 0 0 0 10 10\"/><g>\n",
       "<path d=\"M581.0 40h0.0\"/><path d=\"M649.5 40h0.0\"/><path d=\"M581.0 40h20\"/><g>\n",
       "<path d=\"M601.0 40h0.0\"/><path d=\"M629.5 40h0.0\"/><g class=\"terminal\">\n",
       "<path d=\"M601.0 40h0.0\"/><path d=\"M629.5 40h0.0\"/><rect height=\"22\" rx=\"10\" ry=\"10\" width=\"28.5\" x=\"601.0\" y=\"29\"/><text x=\"615.25\" y=\"44\">7</text></g></g><path d=\"M629.5 40h20\"/></g><path d=\"M649.5 40a10 10 0 0 1 10 10v0a10 10 0 0 0 10 10\"/><path d=\"M649.5 20a10 10 0 0 1 10 10v0a10 10 0 0 0 10 10\"/><g>\n",
       "<path d=\"M669.5 40h0.0\"/><path d=\"M738.0 40h0.0\"/><path d=\"M669.5 40h20\"/><g>\n",
       "<path d=\"M689.5 40h0.0\"/><path d=\"M718.0 40h0.0\"/><g class=\"terminal\">\n",
       "<path d=\"M689.5 40h0.0\"/><path d=\"M718.0 40h0.0\"/><rect height=\"22\" rx=\"10\" ry=\"10\" width=\"28.5\" x=\"689.5\" y=\"29\"/><text x=\"703.75\" y=\"44\">8</text></g></g><path d=\"M718.0 40h20\"/></g><path d=\"M738.0 40a10 10 0 0 1 10 10v0a10 10 0 0 0 10 10\"/><path d=\"M738.0 20a10 10 0 0 1 10 10v0a10 10 0 0 0 10 10\"/><g>\n",
       "<path d=\"M758.0 40h0.0\"/><path d=\"M826.5 40h0.0\"/><path d=\"M758.0 40h20\"/><g>\n",
       "<path d=\"M778.0 40h0.0\"/><path d=\"M806.5 40h0.0\"/><g class=\"terminal\">\n",
       "<path d=\"M778.0 40h0.0\"/><path d=\"M806.5 40h0.0\"/><rect height=\"22\" rx=\"10\" ry=\"10\" width=\"28.5\" x=\"778.0\" y=\"29\"/><text x=\"792.25\" y=\"44\">9</text></g></g><path d=\"M806.5 40h20\"/></g><path d=\"M826.5 40h10\"/></g><path d=\"M 836.5 40 h 20 m -10 -10 v 20 m 10 -20 v 20\"/></g></svg>"
      ],
      "text/plain": [
       "<IPython.core.display.SVG object>"
      ]
     },
     "metadata": {},
     "output_type": "display_data"
    }
   ],
   "source": [
    "# ignore\n",
    "syntax_diagram(CONFIG_GRAMMAR)"
   ]
  },
  {
   "cell_type": "markdown",
   "id": "c2ff4e64",
   "metadata": {
    "slideshow": {
     "slide_type": "subslide"
    }
   },
   "source": [
    "Using this grammar, we can now use any of our grammar-based fuzzers to generate valid inputs.\n",
    "For instance:"
   ]
  },
  {
   "cell_type": "code",
   "execution_count": 10,
   "id": "77f36f41",
   "metadata": {
    "execution": {
     "iopub.execute_input": "2023-01-07T14:18:48.819907Z",
     "iopub.status.busy": "2023-01-07T14:18:48.819522Z",
     "iopub.status.idle": "2023-01-07T14:18:48.850564Z",
     "shell.execute_reply": "2023-01-07T14:18:48.850777Z"
    },
    "slideshow": {
     "slide_type": "skip"
    }
   },
   "outputs": [],
   "source": [
    "from GrammarFuzzer import GrammarFuzzer, DerivationTree"
   ]
  },
  {
   "cell_type": "code",
   "execution_count": 11,
   "id": "aac93fc0",
   "metadata": {
    "execution": {
     "iopub.execute_input": "2023-01-07T14:18:48.852642Z",
     "iopub.status.busy": "2023-01-07T14:18:48.852337Z",
     "iopub.status.idle": "2023-01-07T14:18:48.853735Z",
     "shell.execute_reply": "2023-01-07T14:18:48.853934Z"
    },
    "slideshow": {
     "slide_type": "fragment"
    }
   },
   "outputs": [],
   "source": [
    "fuzzer = GrammarFuzzer(CONFIG_GRAMMAR)"
   ]
  },
  {
   "cell_type": "code",
   "execution_count": 12,
   "id": "e9af0141",
   "metadata": {
    "execution": {
     "iopub.execute_input": "2023-01-07T14:18:48.855685Z",
     "iopub.status.busy": "2023-01-07T14:18:48.855372Z",
     "iopub.status.idle": "2023-01-07T14:18:48.860220Z",
     "shell.execute_reply": "2023-01-07T14:18:48.860548Z"
    },
    "slideshow": {
     "slide_type": "subslide"
    }
   },
   "outputs": [
    {
     "name": "stdout",
     "output_type": "stream",
     "text": [
      "0\n",
      "pagesize=4057\n",
      "bufsize=817\n",
      "1\n",
      "pagesize=9\n",
      "bufsize=8\n",
      "2\n",
      "pagesize=5\n",
      "bufsize=25\n",
      "3\n",
      "pagesize=1\n",
      "bufsize=2\n",
      "4\n",
      "pagesize=62\n",
      "bufsize=57\n",
      "5\n",
      "pagesize=2\n",
      "bufsize=893\n",
      "6\n",
      "pagesize=1\n",
      "bufsize=33\n",
      "7\n",
      "pagesize=7537\n",
      "bufsize=3\n",
      "8\n",
      "pagesize=97\n",
      "bufsize=983\n",
      "9\n",
      "pagesize=2\n",
      "bufsize=2\n"
     ]
    }
   ],
   "source": [
    "for i in range(10):\n",
    "    print(i)\n",
    "    print(fuzzer.fuzz())"
   ]
  },
  {
   "cell_type": "markdown",
   "id": "70fe9cd2",
   "metadata": {
    "slideshow": {
     "slide_type": "subslide"
    }
   },
   "source": [
    "So far, so good - and indeed, these random values will help us test our (hypothetical) system.\n",
    "But what if we want to _control_ these values further, putting our system to the test?"
   ]
  },
  {
   "cell_type": "markdown",
   "id": "2cd32fe5",
   "metadata": {
    "slideshow": {
     "slide_type": "subslide"
    }
   },
   "source": [
    "A grammar gives us _some_ control. If we want to ensure a page size of at least 100,000, for instance, a rule like\n",
    "```python\n",
    "\"<bufsize>\": [\"<leaddigit><digit><digit><digit><digit><digit>\"]\n",
    "```\n",
    "would do the job.\n",
    "We could also express that the page size should be an odd number, by having it end in an odd digit.\n",
    "But if we want to state that the page size should be, say, a multiple of 8, or larger or less than the buffer size, we are out of luck."
   ]
  },
  {
   "cell_type": "markdown",
   "id": "7233e308",
   "metadata": {
    "slideshow": {
     "slide_type": "subslide"
    }
   },
   "source": [
    "In the [chapter on fuzzing with generators](GeneratorGrammarFuzzer.ipynb), we have seen how to attach _program code_ to individual rules - program code that would either _generate_ individual elements right away or _filter_ only these that satisfy specific conditions."
   ]
  },
  {
   "cell_type": "markdown",
   "id": "476f62c8",
   "metadata": {
    "slideshow": {
     "slide_type": "subslide"
    }
   },
   "source": [
    "Attaching code makes things very flexible, but also has several disadvantages:\n",
    "\n",
    "* First, it is pretty hard to generate inputs that satisfy multiple constraints at once.\n",
    "In essence, you have to code your own _strategy_ for generating inputs, which at some point negates the advantage of having an abstract representation such as a grammar.\n",
    "* Second, your code is not portable. While a grammar can be easily adapted to _any_ grammar-based fuzzer, adding, say, Python code, ties you to the Python environment forever.\n",
    "* Third, program code can only be used for _producing_ inputs or _checking_ inputs, but not both. This, again, is a downside compared to a pure grammar representation."
   ]
  },
  {
   "cell_type": "markdown",
   "id": "3e800960",
   "metadata": {
    "slideshow": {
     "slide_type": "subslide"
    }
   },
   "source": [
    "Hence, we are looking to a more _general_ way to express semantic properties - and also a more _declarative_ way to express semantic properties."
   ]
  },
  {
   "cell_type": "markdown",
   "id": "78f7cdf6",
   "metadata": {
    "slideshow": {
     "slide_type": "subslide"
    }
   },
   "source": [
    "### Excursion: Unrestricted Grammars"
   ]
  },
  {
   "attachments": {},
   "cell_type": "markdown",
   "id": "e163a786",
   "metadata": {
    "slideshow": {
     "slide_type": "subslide"
    }
   },
   "source": [
    "One very general solution to this problem would be to use _unrestricted_ grammars rather than the _context-free_ grammars we have used so far.\n",
    "In an unrestricted grammar, one can have multiple symbols also on the left-hand side of an expansion rule, making them very flexible.\n",
    "In fact, unrestricted grammars are _Turing-universal_, meaning that they can express any feature that could also be expressed in program code; and they could thus check and produce arbitrary strings with arbitrary features. (If they finish, that is – unrestricted grammars also suffer from the halting problem.)\n",
    "The downside is that there is literally no programming support for unrestricted grammars – we'd have to implement all arithmetics, strings, and other functionality from scratch in a grammar, which is - well - not fun."
   ]
  },
  {
   "cell_type": "markdown",
   "id": "1e84f753",
   "metadata": {
    "slideshow": {
     "slide_type": "subslide"
    }
   },
   "source": [
    "### End of Excursion"
   ]
  },
  {
   "cell_type": "markdown",
   "id": "0cd821cb",
   "metadata": {
    "slideshow": {
     "slide_type": "slide"
    }
   },
   "source": [
    "## Specifying Constraints"
   ]
  },
  {
   "cell_type": "markdown",
   "id": "c20ac501",
   "metadata": {
    "slideshow": {
     "slide_type": "fragment"
    }
   },
   "source": [
    "In recent work, Dominic Steinhöfel and Andreas Zeller (one of the authors of this book) have presented an infrastructure that allows to produce inputs with _arbitrary properties_, but without having to go through the trouble of implementing producers or checkers.\n",
    "Instead, they suggest a dedicated _language_ for specifiying inputs, named [ISLa](https://rindphi.github.io/isla/) (for input specification language).\n",
    "_ISLa_ combines a standard context-free _grammar_ with _constraints_ that express _semantic_ properties of the inputs and their elements.\n",
    "ISLa can be used as a _fuzzer_ (producing inputs that satisfy the constraints) as well as a _checker_ (checking inputs whether they satisfy the given constraints)."
   ]
  },
  {
   "cell_type": "markdown",
   "id": "6d1a17d7",
   "metadata": {
    "slideshow": {
     "slide_type": "subslide"
    }
   },
   "source": [
    "Let us illustrate ISLa by example. ISLa comes as a Python package named `isla-solver` that can be easily installed using `pip`:\n",
    "\n",
    "```shell\n",
    "$ pip install isla-solver\n",
    "```\n",
    "\n",
    "This also installs all dependent packages."
   ]
  },
  {
   "cell_type": "markdown",
   "id": "473959be",
   "metadata": {
    "slideshow": {
     "slide_type": "fragment"
    }
   },
   "source": [
    "The core of ISLa is the _ISLa Solver_ – the component that actually _solves_ constraints to produce satisfying inputs."
   ]
  },
  {
   "cell_type": "code",
   "execution_count": 13,
   "id": "918b8ac1",
   "metadata": {
    "execution": {
     "iopub.execute_input": "2023-01-07T14:18:48.862572Z",
     "iopub.status.busy": "2023-01-07T14:18:48.861978Z",
     "iopub.status.idle": "2023-01-07T14:18:48.865518Z",
     "shell.execute_reply": "2023-01-07T14:18:48.865763Z"
    },
    "slideshow": {
     "slide_type": "skip"
    }
   },
   "outputs": [],
   "source": [
    "import isla  # type: ignore"
   ]
  },
  {
   "cell_type": "code",
   "execution_count": 14,
   "id": "9e4fcb78",
   "metadata": {
    "execution": {
     "iopub.execute_input": "2023-01-07T14:18:48.867524Z",
     "iopub.status.busy": "2023-01-07T14:18:48.867219Z",
     "iopub.status.idle": "2023-01-07T14:18:48.946811Z",
     "shell.execute_reply": "2023-01-07T14:18:48.947065Z"
    },
    "slideshow": {
     "slide_type": "skip"
    }
   },
   "outputs": [],
   "source": [
    "from isla.solver import ISLaSolver  # type: ignore"
   ]
  },
  {
   "cell_type": "markdown",
   "id": "1f671384",
   "metadata": {
    "slideshow": {
     "slide_type": "subslide"
    }
   },
   "source": [
    "The constructor of an `ISLASolver` takes two mandatory arguments.\n",
    "* The _grammar_ is the grammar the solver should produce inputs from.\n",
    "* The _constraint_ is the constraint the produced inputs should satisfy."
   ]
  },
  {
   "cell_type": "markdown",
   "id": "57381334",
   "metadata": {
    "slideshow": {
     "slide_type": "fragment"
    }
   },
   "source": [
    "To express a constraint, we have a variety of _functions_ and _predicates_ at our disposition.\n",
    "These can be applied to individual elements of the grammar, notably their nonterminals.\n",
    "The function `str.len()`, for instance, returns the length of a string.\n",
    "If we want to have inputs in which the page size has at least 6 digits, we can write:"
   ]
  },
  {
   "cell_type": "code",
   "execution_count": 15,
   "id": "9f6fc3dd",
   "metadata": {
    "execution": {
     "iopub.execute_input": "2023-01-07T14:18:48.954340Z",
     "iopub.status.busy": "2023-01-07T14:18:48.948385Z",
     "iopub.status.idle": "2023-01-07T14:18:48.960206Z",
     "shell.execute_reply": "2023-01-07T14:18:48.960472Z"
    },
    "slideshow": {
     "slide_type": "fragment"
    }
   },
   "outputs": [],
   "source": [
    "solver = ISLaSolver(CONFIG_GRAMMAR, 'str.len(<pagesize>) >= 6')"
   ]
  },
  {
   "cell_type": "markdown",
   "id": "15e4f97b-e920-4021-ba0c-0088185351bb",
   "metadata": {
    "slideshow": {
     "slide_type": "subslide"
    }
   },
   "source": [
    "The method `solve()` returns the next produced string from the ISLa solver, as a _derivation tree_ (seen in the [Chapter on fuzzing with grammars](GrammarFuzzer.ipynb)).\n",
    "To convert these into a string, we can use the `str()` converter:"
   ]
  },
  {
   "cell_type": "code",
   "execution_count": 16,
   "id": "4989280e-ddf8-4c2b-81a9-b7862e906ec3",
   "metadata": {
    "execution": {
     "iopub.execute_input": "2023-01-07T14:18:48.966623Z",
     "iopub.status.busy": "2023-01-07T14:18:48.966269Z",
     "iopub.status.idle": "2023-01-07T14:18:49.164923Z",
     "shell.execute_reply": "2023-01-07T14:18:49.165261Z"
    },
    "slideshow": {
     "slide_type": "fragment"
    }
   },
   "outputs": [
    {
     "data": {
      "text/plain": [
       "'pagesize=614590983583\\nbufsize=3'"
      ]
     },
     "execution_count": 16,
     "metadata": {},
     "output_type": "execute_result"
    }
   ],
   "source": [
    "str(solver.solve())"
   ]
  },
  {
   "attachments": {},
   "cell_type": "markdown",
   "id": "f43126e4-4fb4-435c-be61-1966c6260320",
   "metadata": {
    "slideshow": {
     "slide_type": "fragment"
    }
   },
   "source": [
    "The `print()` method converts its arguments to strings implicitly.\n",
    "To get, say, the next 10 solutions, we can thus write"
   ]
  },
  {
   "cell_type": "code",
   "execution_count": 17,
   "id": "035571b5",
   "metadata": {
    "execution": {
     "iopub.execute_input": "2023-01-07T14:18:49.176312Z",
     "iopub.status.busy": "2023-01-07T14:18:49.175973Z",
     "iopub.status.idle": "2023-01-07T14:18:49.186701Z",
     "shell.execute_reply": "2023-01-07T14:18:49.186956Z"
    },
    "slideshow": {
     "slide_type": "subslide"
    }
   },
   "outputs": [
    {
     "name": "stdout",
     "output_type": "stream",
     "text": [
      "pagesize=614590983583\n",
      "bufsize=402493567181\n",
      "pagesize=614590983583\n",
      "bufsize=1\n",
      "pagesize=614590983583\n",
      "bufsize=96\n",
      "pagesize=614590983583\n",
      "bufsize=81\n",
      "pagesize=614590983583\n",
      "bufsize=514\n",
      "pagesize=614590983583\n",
      "bufsize=2\n",
      "pagesize=614590983583\n",
      "bufsize=635\n",
      "pagesize=614590983583\n",
      "bufsize=7\n",
      "pagesize=614590983583\n",
      "bufsize=3\n",
      "pagesize=111534185\n",
      "bufsize=44\n"
     ]
    }
   ],
   "source": [
    "for _ in range(10):\n",
    "    print(solver.solve())"
   ]
  },
  {
   "cell_type": "markdown",
   "id": "6e41cd49",
   "metadata": {
    "slideshow": {
     "slide_type": "subslide"
    }
   },
   "source": [
    "... and we see that, indeed, each page size has exactly six digits."
   ]
  },
  {
   "cell_type": "markdown",
   "id": "f2dba947-7523-482a-abba-a71823d61a75",
   "metadata": {
    "slideshow": {
     "slide_type": "subslide"
    }
   },
   "source": [
    "### Excursion: Derivation Trees"
   ]
  },
  {
   "cell_type": "markdown",
   "id": "4723868a-b463-4e57-a35b-13d8c5f7fa8e",
   "metadata": {
    "slideshow": {
     "slide_type": "fragment"
    }
   },
   "source": [
    "If you inspect a derivation tree as returned from `solve()` directly, you will get quite a structure:"
   ]
  },
  {
   "cell_type": "code",
   "execution_count": 18,
   "id": "434a8a9c-14a4-42bc-a3c8-6cfe3fafac79",
   "metadata": {
    "execution": {
     "iopub.execute_input": "2023-01-07T14:18:49.189184Z",
     "iopub.status.busy": "2023-01-07T14:18:49.188728Z",
     "iopub.status.idle": "2023-01-07T14:18:49.190665Z",
     "shell.execute_reply": "2023-01-07T14:18:49.190899Z"
    },
    "slideshow": {
     "slide_type": "fragment"
    }
   },
   "outputs": [
    {
     "data": {
      "text/plain": [
       "DerivationTree('<start>', (DerivationTree('<config>', (DerivationTree('pagesize=', (), id=2), DerivationTree('<pagesize>', (DerivationTree('<int>', (DerivationTree('<leaddigit>', (DerivationTree('1', (), id=244),), id=245), DerivationTree('<digits>', (DerivationTree('<digit>', (DerivationTree('1', (), id=254),), id=255), DerivationTree('<digits>', (DerivationTree('<digit>', (DerivationTree('1', (), id=264),), id=265), DerivationTree('<digits>', (DerivationTree('<digit>', (DerivationTree('5', (), id=274),), id=275), DerivationTree('<digits>', (DerivationTree('<digit>', (DerivationTree('3', (), id=284),), id=285), DerivationTree('<digits>', (DerivationTree('<digit>', (DerivationTree('4', (), id=294),), id=295), DerivationTree('<digits>', (DerivationTree('<digit>', (DerivationTree('1', (), id=304),), id=305), DerivationTree('<digits>', (DerivationTree('<digit>', (DerivationTree('8', (), id=314),), id=315), DerivationTree('<digits>', (DerivationTree('<digit>', (DerivationTree('5', (), id=324),), id=325), DerivationTree('<digits>', (), id=329)), id=318)), id=308)), id=298)), id=288)), id=278)), id=268)), id=258)), id=248)), id=239),), id=236), DerivationTree('\\nbufsize=', (), id=4), DerivationTree('<bufsize>', (DerivationTree('<int>', (DerivationTree('<leaddigit>', (DerivationTree('3', (), id=1614),), id=1621), DerivationTree('<digits>', (DerivationTree('<digit>', (DerivationTree('0', (), id=1630),), id=1640), DerivationTree('<digits>', (DerivationTree('<digit>', (DerivationTree('1', (), id=1646),), id=1655), DerivationTree('<digits>', (DerivationTree('', (), id=1641),), id=1644)), id=1629)), id=1625)), id=1611),), id=1608)), id=1),), id=0)"
      ]
     },
     "execution_count": 18,
     "metadata": {},
     "output_type": "execute_result"
    }
   ],
   "source": [
    "solution = solver.solve()\n",
    "solution"
   ]
  },
  {
   "cell_type": "markdown",
   "id": "dbbe1a8c-41c2-4cd0-b266-149c253320f7",
   "metadata": {
    "slideshow": {
     "slide_type": "fragment"
    }
   },
   "source": [
    "We can easily visualize the tree, revealing its structure:"
   ]
  },
  {
   "cell_type": "code",
   "execution_count": 19,
   "id": "59b5933d",
   "metadata": {
    "execution": {
     "iopub.execute_input": "2023-01-07T14:18:49.192887Z",
     "iopub.status.busy": "2023-01-07T14:18:49.192583Z",
     "iopub.status.idle": "2023-01-07T14:18:49.269620Z",
     "shell.execute_reply": "2023-01-07T14:18:49.269378Z"
    },
    "slideshow": {
     "slide_type": "fragment"
    }
   },
   "outputs": [],
   "source": [
    "# ignore\n",
    "from Parser import EarleyParser  # minor dependency\n",
    "from GrammarFuzzer import display_tree"
   ]
  },
  {
   "cell_type": "code",
   "execution_count": 20,
   "id": "a05ec520-48ac-486e-88c9-a6c7604486d3",
   "metadata": {
    "execution": {
     "iopub.execute_input": "2023-01-07T14:18:49.275934Z",
     "iopub.status.busy": "2023-01-07T14:18:49.275605Z",
     "iopub.status.idle": "2023-01-07T14:18:49.536109Z",
     "shell.execute_reply": "2023-01-07T14:18:49.536341Z"
    },
    "slideshow": {
     "slide_type": "fragment"
    }
   },
   "outputs": [
    {
     "data": {
      "image/svg+xml": [
       "<?xml version=\"1.0\" encoding=\"UTF-8\" standalone=\"no\"?>\n",
       "<!DOCTYPE svg PUBLIC \"-//W3C//DTD SVG 1.1//EN\"\n",
       " \"http://www.w3.org/Graphics/SVG/1.1/DTD/svg11.dtd\">\n",
       "<!-- Generated by graphviz version 7.0.2 (20221119.0110)\n",
       " -->\n",
       "<!-- Pages: 1 -->\n",
       "<svg width=\"617pt\" height=\"686pt\"\n",
       " viewBox=\"0.00 0.00 617.00 686.00\" xmlns=\"http://www.w3.org/2000/svg\" xmlns:xlink=\"http://www.w3.org/1999/xlink\">\n",
       "<g id=\"graph0\" class=\"graph\" transform=\"scale(1 1) rotate(0) translate(4 682)\">\n",
       "<polygon fill=\"white\" stroke=\"none\" points=\"-4,4 -4,-682 613,-682 613,4 -4,4\"/>\n",
       "<!-- 0 -->\n",
       "<g id=\"node1\" class=\"node\">\n",
       "<title>0</title>\n",
       "<text text-anchor=\"middle\" x=\"144.5\" y=\"-666.8\" font-family=\"Times,serif\" font-size=\"14.00\">&lt;start&gt;</text>\n",
       "</g>\n",
       "<!-- 1 -->\n",
       "<g id=\"node2\" class=\"node\">\n",
       "<title>1</title>\n",
       "<text text-anchor=\"middle\" x=\"144.5\" y=\"-615.8\" font-family=\"Times,serif\" font-size=\"14.00\">&lt;config&gt;</text>\n",
       "</g>\n",
       "<!-- 0&#45;&gt;1 -->\n",
       "<g id=\"edge1\" class=\"edge\">\n",
       "<title>0&#45;&gt;1</title>\n",
       "<path fill=\"none\" stroke=\"black\" d=\"M144.5,-663.09C144.5,-656.75 144.5,-646.75 144.5,-638.03\"/>\n",
       "<polygon fill=\"black\" stroke=\"black\" points=\"148,-638.27 144.5,-628.27 141,-638.27 148,-638.27\"/>\n",
       "</g>\n",
       "<!-- 2 -->\n",
       "<g id=\"node3\" class=\"node\">\n",
       "<title>2</title>\n",
       "<text text-anchor=\"middle\" x=\"27.5\" y=\"-564.8\" font-family=\"Times,serif\" font-size=\"14.00\">pagesize=</text>\n",
       "</g>\n",
       "<!-- 1&#45;&gt;2 -->\n",
       "<g id=\"edge2\" class=\"edge\">\n",
       "<title>1&#45;&gt;2</title>\n",
       "<path fill=\"none\" stroke=\"black\" d=\"M129.2,-612.09C109.93,-604.02 76.53,-590.04 53.29,-580.3\"/>\n",
       "<polygon fill=\"black\" stroke=\"black\" points=\"54.77,-577.13 44.2,-576.49 52.07,-583.58 54.77,-577.13\"/>\n",
       "</g>\n",
       "<!-- 3 -->\n",
       "<g id=\"node4\" class=\"node\">\n",
       "<title>3</title>\n",
       "<text text-anchor=\"middle\" x=\"105.5\" y=\"-564.8\" font-family=\"Times,serif\" font-size=\"14.00\">&lt;pagesize&gt;</text>\n",
       "</g>\n",
       "<!-- 1&#45;&gt;3 -->\n",
       "<g id=\"edge3\" class=\"edge\">\n",
       "<title>1&#45;&gt;3</title>\n",
       "<path fill=\"none\" stroke=\"black\" d=\"M139.4,-612.09C133.88,-605.16 124.89,-593.86 117.55,-584.63\"/>\n",
       "<polygon fill=\"black\" stroke=\"black\" points=\"120.39,-582.58 111.42,-576.94 114.91,-586.94 120.39,-582.58\"/>\n",
       "</g>\n",
       "<!-- 32 -->\n",
       "<g id=\"node33\" class=\"node\">\n",
       "<title>32</title>\n",
       "<text text-anchor=\"middle\" x=\"184.5\" y=\"-564.8\" font-family=\"Times,serif\" font-size=\"14.00\">\\nbufsize=</text>\n",
       "</g>\n",
       "<!-- 1&#45;&gt;32 -->\n",
       "<g id=\"edge32\" class=\"edge\">\n",
       "<title>1&#45;&gt;32</title>\n",
       "<path fill=\"none\" stroke=\"black\" d=\"M149.73,-612.09C155.39,-605.16 164.62,-593.86 172.14,-584.63\"/>\n",
       "<polygon fill=\"black\" stroke=\"black\" points=\"174.83,-586.88 178.44,-576.93 169.4,-582.46 174.83,-586.88\"/>\n",
       "</g>\n",
       "<!-- 33 -->\n",
       "<g id=\"node34\" class=\"node\">\n",
       "<title>33</title>\n",
       "<text text-anchor=\"middle\" x=\"259.5\" y=\"-564.8\" font-family=\"Times,serif\" font-size=\"14.00\">&lt;bufsize&gt;</text>\n",
       "</g>\n",
       "<!-- 1&#45;&gt;33 -->\n",
       "<g id=\"edge33\" class=\"edge\">\n",
       "<title>1&#45;&gt;33</title>\n",
       "<path fill=\"none\" stroke=\"black\" d=\"M159.53,-612.09C178.47,-604.02 211.3,-590.04 234.15,-580.3\"/>\n",
       "<polygon fill=\"black\" stroke=\"black\" points=\"235.24,-583.64 243.07,-576.5 232.5,-577.2 235.24,-583.64\"/>\n",
       "</g>\n",
       "<!-- 4 -->\n",
       "<g id=\"node5\" class=\"node\">\n",
       "<title>4</title>\n",
       "<text text-anchor=\"middle\" x=\"105.5\" y=\"-513.8\" font-family=\"Times,serif\" font-size=\"14.00\">&lt;int&gt;</text>\n",
       "</g>\n",
       "<!-- 3&#45;&gt;4 -->\n",
       "<g id=\"edge4\" class=\"edge\">\n",
       "<title>3&#45;&gt;4</title>\n",
       "<path fill=\"none\" stroke=\"black\" d=\"M105.5,-561.09C105.5,-554.75 105.5,-544.75 105.5,-536.03\"/>\n",
       "<polygon fill=\"black\" stroke=\"black\" points=\"109,-536.27 105.5,-526.27 102,-536.27 109,-536.27\"/>\n",
       "</g>\n",
       "<!-- 5 -->\n",
       "<g id=\"node6\" class=\"node\">\n",
       "<title>5</title>\n",
       "<text text-anchor=\"middle\" x=\"42.5\" y=\"-462.8\" font-family=\"Times,serif\" font-size=\"14.00\">&lt;leaddigit&gt;</text>\n",
       "</g>\n",
       "<!-- 4&#45;&gt;5 -->\n",
       "<g id=\"edge5\" class=\"edge\">\n",
       "<title>4&#45;&gt;5</title>\n",
       "<path fill=\"none\" stroke=\"black\" d=\"M97.26,-510.09C87.68,-502.64 71.62,-490.15 59.36,-480.61\"/>\n",
       "<polygon fill=\"black\" stroke=\"black\" points=\"61.78,-478.06 51.73,-474.68 57.48,-483.58 61.78,-478.06\"/>\n",
       "</g>\n",
       "<!-- 7 -->\n",
       "<g id=\"node8\" class=\"node\">\n",
       "<title>7</title>\n",
       "<text text-anchor=\"middle\" x=\"116.5\" y=\"-462.8\" font-family=\"Times,serif\" font-size=\"14.00\">&lt;digits&gt;</text>\n",
       "</g>\n",
       "<!-- 4&#45;&gt;7 -->\n",
       "<g id=\"edge7\" class=\"edge\">\n",
       "<title>4&#45;&gt;7</title>\n",
       "<path fill=\"none\" stroke=\"black\" d=\"M106.94,-510.09C108.38,-503.68 110.66,-493.51 112.63,-484.73\"/>\n",
       "<polygon fill=\"black\" stroke=\"black\" points=\"115.99,-485.75 114.76,-475.23 109.16,-484.22 115.99,-485.75\"/>\n",
       "</g>\n",
       "<!-- 6 -->\n",
       "<g id=\"node7\" class=\"node\">\n",
       "<title>6</title>\n",
       "<text text-anchor=\"middle\" x=\"42.5\" y=\"-411.8\" font-family=\"Times,serif\" font-size=\"14.00\">1 (49)</text>\n",
       "</g>\n",
       "<!-- 5&#45;&gt;6 -->\n",
       "<g id=\"edge6\" class=\"edge\">\n",
       "<title>5&#45;&gt;6</title>\n",
       "<path fill=\"none\" stroke=\"black\" d=\"M42.5,-459.09C42.5,-452.75 42.5,-442.75 42.5,-434.03\"/>\n",
       "<polygon fill=\"black\" stroke=\"black\" points=\"46,-434.27 42.5,-424.27 39,-434.27 46,-434.27\"/>\n",
       "</g>\n",
       "<!-- 8 -->\n",
       "<g id=\"node9\" class=\"node\">\n",
       "<title>8</title>\n",
       "<text text-anchor=\"middle\" x=\"107.5\" y=\"-411.8\" font-family=\"Times,serif\" font-size=\"14.00\">&lt;digit&gt;</text>\n",
       "</g>\n",
       "<!-- 7&#45;&gt;8 -->\n",
       "<g id=\"edge8\" class=\"edge\">\n",
       "<title>7&#45;&gt;8</title>\n",
       "<path fill=\"none\" stroke=\"black\" d=\"M115.32,-459.09C114.16,-452.75 112.32,-442.75 110.72,-434.03\"/>\n",
       "<polygon fill=\"black\" stroke=\"black\" points=\"114.17,-433.44 108.92,-424.24 107.29,-434.71 114.17,-433.44\"/>\n",
       "</g>\n",
       "<!-- 10 -->\n",
       "<g id=\"node11\" class=\"node\">\n",
       "<title>10</title>\n",
       "<text text-anchor=\"middle\" x=\"170.5\" y=\"-411.8\" font-family=\"Times,serif\" font-size=\"14.00\">&lt;digits&gt;</text>\n",
       "</g>\n",
       "<!-- 7&#45;&gt;10 -->\n",
       "<g id=\"edge10\" class=\"edge\">\n",
       "<title>7&#45;&gt;10</title>\n",
       "<path fill=\"none\" stroke=\"black\" d=\"M123.56,-459.09C131.53,-451.86 144.73,-439.89 155.1,-430.47\"/>\n",
       "<polygon fill=\"black\" stroke=\"black\" points=\"157.43,-433.08 162.49,-423.77 152.73,-427.9 157.43,-433.08\"/>\n",
       "</g>\n",
       "<!-- 9 -->\n",
       "<g id=\"node10\" class=\"node\">\n",
       "<title>9</title>\n",
       "<text text-anchor=\"middle\" x=\"107.5\" y=\"-360.8\" font-family=\"Times,serif\" font-size=\"14.00\">1 (49)</text>\n",
       "</g>\n",
       "<!-- 8&#45;&gt;9 -->\n",
       "<g id=\"edge9\" class=\"edge\">\n",
       "<title>8&#45;&gt;9</title>\n",
       "<path fill=\"none\" stroke=\"black\" d=\"M107.5,-408.09C107.5,-401.75 107.5,-391.75 107.5,-383.03\"/>\n",
       "<polygon fill=\"black\" stroke=\"black\" points=\"111,-383.27 107.5,-373.27 104,-383.27 111,-383.27\"/>\n",
       "</g>\n",
       "<!-- 11 -->\n",
       "<g id=\"node12\" class=\"node\">\n",
       "<title>11</title>\n",
       "<text text-anchor=\"middle\" x=\"167.5\" y=\"-360.8\" font-family=\"Times,serif\" font-size=\"14.00\">&lt;digit&gt;</text>\n",
       "</g>\n",
       "<!-- 10&#45;&gt;11 -->\n",
       "<g id=\"edge11\" class=\"edge\">\n",
       "<title>10&#45;&gt;11</title>\n",
       "<path fill=\"none\" stroke=\"black\" d=\"M170.11,-408.09C169.72,-401.75 169.11,-391.75 168.57,-383.03\"/>\n",
       "<polygon fill=\"black\" stroke=\"black\" points=\"172.08,-383.03 167.98,-373.26 165.09,-383.46 172.08,-383.03\"/>\n",
       "</g>\n",
       "<!-- 13 -->\n",
       "<g id=\"node14\" class=\"node\">\n",
       "<title>13</title>\n",
       "<text text-anchor=\"middle\" x=\"230.5\" y=\"-360.8\" font-family=\"Times,serif\" font-size=\"14.00\">&lt;digits&gt;</text>\n",
       "</g>\n",
       "<!-- 10&#45;&gt;13 -->\n",
       "<g id=\"edge13\" class=\"edge\">\n",
       "<title>10&#45;&gt;13</title>\n",
       "<path fill=\"none\" stroke=\"black\" d=\"M178.34,-408.09C187.38,-400.72 202.47,-388.39 214.1,-378.9\"/>\n",
       "<polygon fill=\"black\" stroke=\"black\" points=\"216.14,-381.75 221.67,-372.71 211.71,-376.32 216.14,-381.75\"/>\n",
       "</g>\n",
       "<!-- 12 -->\n",
       "<g id=\"node13\" class=\"node\">\n",
       "<title>12</title>\n",
       "<text text-anchor=\"middle\" x=\"167.5\" y=\"-309.8\" font-family=\"Times,serif\" font-size=\"14.00\">1 (49)</text>\n",
       "</g>\n",
       "<!-- 11&#45;&gt;12 -->\n",
       "<g id=\"edge12\" class=\"edge\">\n",
       "<title>11&#45;&gt;12</title>\n",
       "<path fill=\"none\" stroke=\"black\" d=\"M167.5,-357.09C167.5,-350.75 167.5,-340.75 167.5,-332.03\"/>\n",
       "<polygon fill=\"black\" stroke=\"black\" points=\"171,-332.27 167.5,-322.27 164,-332.27 171,-332.27\"/>\n",
       "</g>\n",
       "<!-- 14 -->\n",
       "<g id=\"node15\" class=\"node\">\n",
       "<title>14</title>\n",
       "<text text-anchor=\"middle\" x=\"227.5\" y=\"-309.8\" font-family=\"Times,serif\" font-size=\"14.00\">&lt;digit&gt;</text>\n",
       "</g>\n",
       "<!-- 13&#45;&gt;14 -->\n",
       "<g id=\"edge14\" class=\"edge\">\n",
       "<title>13&#45;&gt;14</title>\n",
       "<path fill=\"none\" stroke=\"black\" d=\"M230.11,-357.09C229.72,-350.75 229.11,-340.75 228.57,-332.03\"/>\n",
       "<polygon fill=\"black\" stroke=\"black\" points=\"232.08,-332.03 227.98,-322.26 225.09,-332.46 232.08,-332.03\"/>\n",
       "</g>\n",
       "<!-- 16 -->\n",
       "<g id=\"node17\" class=\"node\">\n",
       "<title>16</title>\n",
       "<text text-anchor=\"middle\" x=\"290.5\" y=\"-309.8\" font-family=\"Times,serif\" font-size=\"14.00\">&lt;digits&gt;</text>\n",
       "</g>\n",
       "<!-- 13&#45;&gt;16 -->\n",
       "<g id=\"edge16\" class=\"edge\">\n",
       "<title>13&#45;&gt;16</title>\n",
       "<path fill=\"none\" stroke=\"black\" d=\"M238.34,-357.09C247.38,-349.72 262.47,-337.39 274.1,-327.9\"/>\n",
       "<polygon fill=\"black\" stroke=\"black\" points=\"276.14,-330.75 281.67,-321.71 271.71,-325.32 276.14,-330.75\"/>\n",
       "</g>\n",
       "<!-- 15 -->\n",
       "<g id=\"node16\" class=\"node\">\n",
       "<title>15</title>\n",
       "<text text-anchor=\"middle\" x=\"227.5\" y=\"-258.8\" font-family=\"Times,serif\" font-size=\"14.00\">5 (53)</text>\n",
       "</g>\n",
       "<!-- 14&#45;&gt;15 -->\n",
       "<g id=\"edge15\" class=\"edge\">\n",
       "<title>14&#45;&gt;15</title>\n",
       "<path fill=\"none\" stroke=\"black\" d=\"M227.5,-306.09C227.5,-299.75 227.5,-289.75 227.5,-281.03\"/>\n",
       "<polygon fill=\"black\" stroke=\"black\" points=\"231,-281.27 227.5,-271.27 224,-281.27 231,-281.27\"/>\n",
       "</g>\n",
       "<!-- 17 -->\n",
       "<g id=\"node18\" class=\"node\">\n",
       "<title>17</title>\n",
       "<text text-anchor=\"middle\" x=\"286.5\" y=\"-258.8\" font-family=\"Times,serif\" font-size=\"14.00\">&lt;digit&gt;</text>\n",
       "</g>\n",
       "<!-- 16&#45;&gt;17 -->\n",
       "<g id=\"edge17\" class=\"edge\">\n",
       "<title>16&#45;&gt;17</title>\n",
       "<path fill=\"none\" stroke=\"black\" d=\"M289.98,-306.09C289.46,-299.75 288.64,-289.75 287.93,-281.03\"/>\n",
       "<polygon fill=\"black\" stroke=\"black\" points=\"291.44,-280.94 287.13,-271.26 284.46,-281.51 291.44,-280.94\"/>\n",
       "</g>\n",
       "<!-- 19 -->\n",
       "<g id=\"node20\" class=\"node\">\n",
       "<title>19</title>\n",
       "<text text-anchor=\"middle\" x=\"349.5\" y=\"-258.8\" font-family=\"Times,serif\" font-size=\"14.00\">&lt;digits&gt;</text>\n",
       "</g>\n",
       "<!-- 16&#45;&gt;19 -->\n",
       "<g id=\"edge19\" class=\"edge\">\n",
       "<title>16&#45;&gt;19</title>\n",
       "<path fill=\"none\" stroke=\"black\" d=\"M298.21,-306.09C307.1,-298.72 321.93,-286.39 333.37,-276.9\"/>\n",
       "<polygon fill=\"black\" stroke=\"black\" points=\"335.35,-279.8 340.81,-270.72 330.88,-274.42 335.35,-279.8\"/>\n",
       "</g>\n",
       "<!-- 18 -->\n",
       "<g id=\"node19\" class=\"node\">\n",
       "<title>18</title>\n",
       "<text text-anchor=\"middle\" x=\"286.5\" y=\"-207.8\" font-family=\"Times,serif\" font-size=\"14.00\">3 (51)</text>\n",
       "</g>\n",
       "<!-- 17&#45;&gt;18 -->\n",
       "<g id=\"edge18\" class=\"edge\">\n",
       "<title>17&#45;&gt;18</title>\n",
       "<path fill=\"none\" stroke=\"black\" d=\"M286.5,-255.09C286.5,-248.75 286.5,-238.75 286.5,-230.03\"/>\n",
       "<polygon fill=\"black\" stroke=\"black\" points=\"290,-230.27 286.5,-220.27 283,-230.27 290,-230.27\"/>\n",
       "</g>\n",
       "<!-- 20 -->\n",
       "<g id=\"node21\" class=\"node\">\n",
       "<title>20</title>\n",
       "<text text-anchor=\"middle\" x=\"345.5\" y=\"-207.8\" font-family=\"Times,serif\" font-size=\"14.00\">&lt;digit&gt;</text>\n",
       "</g>\n",
       "<!-- 19&#45;&gt;20 -->\n",
       "<g id=\"edge20\" class=\"edge\">\n",
       "<title>19&#45;&gt;20</title>\n",
       "<path fill=\"none\" stroke=\"black\" d=\"M348.98,-255.09C348.46,-248.75 347.64,-238.75 346.93,-230.03\"/>\n",
       "<polygon fill=\"black\" stroke=\"black\" points=\"350.44,-229.94 346.13,-220.26 343.46,-230.51 350.44,-229.94\"/>\n",
       "</g>\n",
       "<!-- 22 -->\n",
       "<g id=\"node23\" class=\"node\">\n",
       "<title>22</title>\n",
       "<text text-anchor=\"middle\" x=\"408.5\" y=\"-207.8\" font-family=\"Times,serif\" font-size=\"14.00\">&lt;digits&gt;</text>\n",
       "</g>\n",
       "<!-- 19&#45;&gt;22 -->\n",
       "<g id=\"edge22\" class=\"edge\">\n",
       "<title>19&#45;&gt;22</title>\n",
       "<path fill=\"none\" stroke=\"black\" d=\"M357.21,-255.09C366.1,-247.72 380.93,-235.39 392.37,-225.9\"/>\n",
       "<polygon fill=\"black\" stroke=\"black\" points=\"394.35,-228.8 399.81,-219.72 389.88,-223.42 394.35,-228.8\"/>\n",
       "</g>\n",
       "<!-- 21 -->\n",
       "<g id=\"node22\" class=\"node\">\n",
       "<title>21</title>\n",
       "<text text-anchor=\"middle\" x=\"345.5\" y=\"-156.8\" font-family=\"Times,serif\" font-size=\"14.00\">4 (52)</text>\n",
       "</g>\n",
       "<!-- 20&#45;&gt;21 -->\n",
       "<g id=\"edge21\" class=\"edge\">\n",
       "<title>20&#45;&gt;21</title>\n",
       "<path fill=\"none\" stroke=\"black\" d=\"M345.5,-204.09C345.5,-197.75 345.5,-187.75 345.5,-179.03\"/>\n",
       "<polygon fill=\"black\" stroke=\"black\" points=\"349,-179.27 345.5,-169.27 342,-179.27 349,-179.27\"/>\n",
       "</g>\n",
       "<!-- 23 -->\n",
       "<g id=\"node24\" class=\"node\">\n",
       "<title>23</title>\n",
       "<text text-anchor=\"middle\" x=\"404.5\" y=\"-156.8\" font-family=\"Times,serif\" font-size=\"14.00\">&lt;digit&gt;</text>\n",
       "</g>\n",
       "<!-- 22&#45;&gt;23 -->\n",
       "<g id=\"edge23\" class=\"edge\">\n",
       "<title>22&#45;&gt;23</title>\n",
       "<path fill=\"none\" stroke=\"black\" d=\"M407.98,-204.09C407.46,-197.75 406.64,-187.75 405.93,-179.03\"/>\n",
       "<polygon fill=\"black\" stroke=\"black\" points=\"409.44,-178.94 405.13,-169.26 402.46,-179.51 409.44,-178.94\"/>\n",
       "</g>\n",
       "<!-- 25 -->\n",
       "<g id=\"node26\" class=\"node\">\n",
       "<title>25</title>\n",
       "<text text-anchor=\"middle\" x=\"467.5\" y=\"-156.8\" font-family=\"Times,serif\" font-size=\"14.00\">&lt;digits&gt;</text>\n",
       "</g>\n",
       "<!-- 22&#45;&gt;25 -->\n",
       "<g id=\"edge25\" class=\"edge\">\n",
       "<title>22&#45;&gt;25</title>\n",
       "<path fill=\"none\" stroke=\"black\" d=\"M416.21,-204.09C425.1,-196.72 439.93,-184.39 451.37,-174.9\"/>\n",
       "<polygon fill=\"black\" stroke=\"black\" points=\"453.35,-177.8 458.81,-168.72 448.88,-172.42 453.35,-177.8\"/>\n",
       "</g>\n",
       "<!-- 24 -->\n",
       "<g id=\"node25\" class=\"node\">\n",
       "<title>24</title>\n",
       "<text text-anchor=\"middle\" x=\"404.5\" y=\"-105.8\" font-family=\"Times,serif\" font-size=\"14.00\">1 (49)</text>\n",
       "</g>\n",
       "<!-- 23&#45;&gt;24 -->\n",
       "<g id=\"edge24\" class=\"edge\">\n",
       "<title>23&#45;&gt;24</title>\n",
       "<path fill=\"none\" stroke=\"black\" d=\"M404.5,-153.09C404.5,-146.75 404.5,-136.75 404.5,-128.03\"/>\n",
       "<polygon fill=\"black\" stroke=\"black\" points=\"408,-128.27 404.5,-118.27 401,-128.27 408,-128.27\"/>\n",
       "</g>\n",
       "<!-- 26 -->\n",
       "<g id=\"node27\" class=\"node\">\n",
       "<title>26</title>\n",
       "<text text-anchor=\"middle\" x=\"463.5\" y=\"-105.8\" font-family=\"Times,serif\" font-size=\"14.00\">&lt;digit&gt;</text>\n",
       "</g>\n",
       "<!-- 25&#45;&gt;26 -->\n",
       "<g id=\"edge26\" class=\"edge\">\n",
       "<title>25&#45;&gt;26</title>\n",
       "<path fill=\"none\" stroke=\"black\" d=\"M466.98,-153.09C466.46,-146.75 465.64,-136.75 464.93,-128.03\"/>\n",
       "<polygon fill=\"black\" stroke=\"black\" points=\"468.44,-127.94 464.13,-118.26 461.46,-128.51 468.44,-127.94\"/>\n",
       "</g>\n",
       "<!-- 28 -->\n",
       "<g id=\"node29\" class=\"node\">\n",
       "<title>28</title>\n",
       "<text text-anchor=\"middle\" x=\"526.5\" y=\"-105.8\" font-family=\"Times,serif\" font-size=\"14.00\">&lt;digits&gt;</text>\n",
       "</g>\n",
       "<!-- 25&#45;&gt;28 -->\n",
       "<g id=\"edge28\" class=\"edge\">\n",
       "<title>25&#45;&gt;28</title>\n",
       "<path fill=\"none\" stroke=\"black\" d=\"M475.21,-153.09C484.1,-145.72 498.93,-133.39 510.37,-123.9\"/>\n",
       "<polygon fill=\"black\" stroke=\"black\" points=\"512.35,-126.8 517.81,-117.72 507.88,-121.42 512.35,-126.8\"/>\n",
       "</g>\n",
       "<!-- 27 -->\n",
       "<g id=\"node28\" class=\"node\">\n",
       "<title>27</title>\n",
       "<text text-anchor=\"middle\" x=\"463.5\" y=\"-54.8\" font-family=\"Times,serif\" font-size=\"14.00\">8 (56)</text>\n",
       "</g>\n",
       "<!-- 26&#45;&gt;27 -->\n",
       "<g id=\"edge27\" class=\"edge\">\n",
       "<title>26&#45;&gt;27</title>\n",
       "<path fill=\"none\" stroke=\"black\" d=\"M463.5,-102.09C463.5,-95.75 463.5,-85.75 463.5,-77.03\"/>\n",
       "<polygon fill=\"black\" stroke=\"black\" points=\"467,-77.27 463.5,-67.27 460,-77.27 467,-77.27\"/>\n",
       "</g>\n",
       "<!-- 29 -->\n",
       "<g id=\"node30\" class=\"node\">\n",
       "<title>29</title>\n",
       "<text text-anchor=\"middle\" x=\"522.5\" y=\"-54.8\" font-family=\"Times,serif\" font-size=\"14.00\">&lt;digit&gt;</text>\n",
       "</g>\n",
       "<!-- 28&#45;&gt;29 -->\n",
       "<g id=\"edge29\" class=\"edge\">\n",
       "<title>28&#45;&gt;29</title>\n",
       "<path fill=\"none\" stroke=\"black\" d=\"M525.98,-102.09C525.46,-95.75 524.64,-85.75 523.93,-77.03\"/>\n",
       "<polygon fill=\"black\" stroke=\"black\" points=\"527.44,-76.94 523.13,-67.26 520.46,-77.51 527.44,-76.94\"/>\n",
       "</g>\n",
       "<!-- 31 -->\n",
       "<g id=\"node32\" class=\"node\">\n",
       "<title>31</title>\n",
       "<text text-anchor=\"middle\" x=\"585.5\" y=\"-54.8\" font-family=\"Times,serif\" font-size=\"14.00\">&lt;digits&gt;</text>\n",
       "</g>\n",
       "<!-- 28&#45;&gt;31 -->\n",
       "<g id=\"edge31\" class=\"edge\">\n",
       "<title>28&#45;&gt;31</title>\n",
       "<path fill=\"none\" stroke=\"black\" d=\"M534.21,-102.09C543.1,-94.72 557.93,-82.39 569.37,-72.9\"/>\n",
       "<polygon fill=\"black\" stroke=\"black\" points=\"571.35,-75.8 576.81,-66.72 566.88,-70.42 571.35,-75.8\"/>\n",
       "</g>\n",
       "<!-- 30 -->\n",
       "<g id=\"node31\" class=\"node\">\n",
       "<title>30</title>\n",
       "<text text-anchor=\"middle\" x=\"522.5\" y=\"-3.8\" font-family=\"Times,serif\" font-size=\"14.00\">5 (53)</text>\n",
       "</g>\n",
       "<!-- 29&#45;&gt;30 -->\n",
       "<g id=\"edge30\" class=\"edge\">\n",
       "<title>29&#45;&gt;30</title>\n",
       "<path fill=\"none\" stroke=\"black\" d=\"M522.5,-51.09C522.5,-44.75 522.5,-34.75 522.5,-26.03\"/>\n",
       "<polygon fill=\"black\" stroke=\"black\" points=\"526,-26.27 522.5,-16.27 519,-26.27 526,-26.27\"/>\n",
       "</g>\n",
       "<!-- 34 -->\n",
       "<g id=\"node35\" class=\"node\">\n",
       "<title>34</title>\n",
       "<text text-anchor=\"middle\" x=\"259.5\" y=\"-513.8\" font-family=\"Times,serif\" font-size=\"14.00\">&lt;int&gt;</text>\n",
       "</g>\n",
       "<!-- 33&#45;&gt;34 -->\n",
       "<g id=\"edge34\" class=\"edge\">\n",
       "<title>33&#45;&gt;34</title>\n",
       "<path fill=\"none\" stroke=\"black\" d=\"M259.5,-561.09C259.5,-554.75 259.5,-544.75 259.5,-536.03\"/>\n",
       "<polygon fill=\"black\" stroke=\"black\" points=\"263,-536.27 259.5,-526.27 256,-536.27 263,-536.27\"/>\n",
       "</g>\n",
       "<!-- 35 -->\n",
       "<g id=\"node36\" class=\"node\">\n",
       "<title>35</title>\n",
       "<text text-anchor=\"middle\" x=\"249.5\" y=\"-462.8\" font-family=\"Times,serif\" font-size=\"14.00\">&lt;leaddigit&gt;</text>\n",
       "</g>\n",
       "<!-- 34&#45;&gt;35 -->\n",
       "<g id=\"edge35\" class=\"edge\">\n",
       "<title>34&#45;&gt;35</title>\n",
       "<path fill=\"none\" stroke=\"black\" d=\"M258.19,-510.09C256.9,-503.75 254.86,-493.75 253.08,-485.03\"/>\n",
       "<polygon fill=\"black\" stroke=\"black\" points=\"256.51,-484.33 251.08,-475.24 249.65,-485.73 256.51,-484.33\"/>\n",
       "</g>\n",
       "<!-- 37 -->\n",
       "<g id=\"node38\" class=\"node\">\n",
       "<title>37</title>\n",
       "<text text-anchor=\"middle\" x=\"323.5\" y=\"-462.8\" font-family=\"Times,serif\" font-size=\"14.00\">&lt;digits&gt;</text>\n",
       "</g>\n",
       "<!-- 34&#45;&gt;37 -->\n",
       "<g id=\"edge37\" class=\"edge\">\n",
       "<title>34&#45;&gt;37</title>\n",
       "<path fill=\"none\" stroke=\"black\" d=\"M267.87,-510.09C277.6,-502.64 293.92,-490.15 306.37,-480.61\"/>\n",
       "<polygon fill=\"black\" stroke=\"black\" points=\"308.32,-483.53 314.13,-474.67 304.06,-477.97 308.32,-483.53\"/>\n",
       "</g>\n",
       "<!-- 36 -->\n",
       "<g id=\"node37\" class=\"node\">\n",
       "<title>36</title>\n",
       "<text text-anchor=\"middle\" x=\"249.5\" y=\"-411.8\" font-family=\"Times,serif\" font-size=\"14.00\">3 (51)</text>\n",
       "</g>\n",
       "<!-- 35&#45;&gt;36 -->\n",
       "<g id=\"edge36\" class=\"edge\">\n",
       "<title>35&#45;&gt;36</title>\n",
       "<path fill=\"none\" stroke=\"black\" d=\"M249.5,-459.09C249.5,-452.75 249.5,-442.75 249.5,-434.03\"/>\n",
       "<polygon fill=\"black\" stroke=\"black\" points=\"253,-434.27 249.5,-424.27 246,-434.27 253,-434.27\"/>\n",
       "</g>\n",
       "<!-- 38 -->\n",
       "<g id=\"node39\" class=\"node\">\n",
       "<title>38</title>\n",
       "<text text-anchor=\"middle\" x=\"314.5\" y=\"-411.8\" font-family=\"Times,serif\" font-size=\"14.00\">&lt;digit&gt;</text>\n",
       "</g>\n",
       "<!-- 37&#45;&gt;38 -->\n",
       "<g id=\"edge38\" class=\"edge\">\n",
       "<title>37&#45;&gt;38</title>\n",
       "<path fill=\"none\" stroke=\"black\" d=\"M322.32,-459.09C321.16,-452.75 319.32,-442.75 317.72,-434.03\"/>\n",
       "<polygon fill=\"black\" stroke=\"black\" points=\"321.17,-433.44 315.92,-424.24 314.29,-434.71 321.17,-433.44\"/>\n",
       "</g>\n",
       "<!-- 40 -->\n",
       "<g id=\"node41\" class=\"node\">\n",
       "<title>40</title>\n",
       "<text text-anchor=\"middle\" x=\"377.5\" y=\"-411.8\" font-family=\"Times,serif\" font-size=\"14.00\">&lt;digits&gt;</text>\n",
       "</g>\n",
       "<!-- 37&#45;&gt;40 -->\n",
       "<g id=\"edge40\" class=\"edge\">\n",
       "<title>37&#45;&gt;40</title>\n",
       "<path fill=\"none\" stroke=\"black\" d=\"M330.56,-459.09C338.53,-451.86 351.73,-439.89 362.1,-430.47\"/>\n",
       "<polygon fill=\"black\" stroke=\"black\" points=\"364.43,-433.08 369.49,-423.77 359.73,-427.9 364.43,-433.08\"/>\n",
       "</g>\n",
       "<!-- 39 -->\n",
       "<g id=\"node40\" class=\"node\">\n",
       "<title>39</title>\n",
       "<text text-anchor=\"middle\" x=\"314.5\" y=\"-360.8\" font-family=\"Times,serif\" font-size=\"14.00\">0 (48)</text>\n",
       "</g>\n",
       "<!-- 38&#45;&gt;39 -->\n",
       "<g id=\"edge39\" class=\"edge\">\n",
       "<title>38&#45;&gt;39</title>\n",
       "<path fill=\"none\" stroke=\"black\" d=\"M314.5,-408.09C314.5,-401.75 314.5,-391.75 314.5,-383.03\"/>\n",
       "<polygon fill=\"black\" stroke=\"black\" points=\"318,-383.27 314.5,-373.27 311,-383.27 318,-383.27\"/>\n",
       "</g>\n",
       "<!-- 41 -->\n",
       "<g id=\"node42\" class=\"node\">\n",
       "<title>41</title>\n",
       "<text text-anchor=\"middle\" x=\"373.5\" y=\"-360.8\" font-family=\"Times,serif\" font-size=\"14.00\">&lt;digit&gt;</text>\n",
       "</g>\n",
       "<!-- 40&#45;&gt;41 -->\n",
       "<g id=\"edge41\" class=\"edge\">\n",
       "<title>40&#45;&gt;41</title>\n",
       "<path fill=\"none\" stroke=\"black\" d=\"M376.98,-408.09C376.46,-401.75 375.64,-391.75 374.93,-383.03\"/>\n",
       "<polygon fill=\"black\" stroke=\"black\" points=\"378.44,-382.94 374.13,-373.26 371.46,-383.51 378.44,-382.94\"/>\n",
       "</g>\n",
       "<!-- 43 -->\n",
       "<g id=\"node44\" class=\"node\">\n",
       "<title>43</title>\n",
       "<text text-anchor=\"middle\" x=\"436.5\" y=\"-360.8\" font-family=\"Times,serif\" font-size=\"14.00\">&lt;digits&gt;</text>\n",
       "</g>\n",
       "<!-- 40&#45;&gt;43 -->\n",
       "<g id=\"edge43\" class=\"edge\">\n",
       "<title>40&#45;&gt;43</title>\n",
       "<path fill=\"none\" stroke=\"black\" d=\"M385.21,-408.09C394.1,-400.72 408.93,-388.39 420.37,-378.9\"/>\n",
       "<polygon fill=\"black\" stroke=\"black\" points=\"422.35,-381.8 427.81,-372.72 417.88,-376.42 422.35,-381.8\"/>\n",
       "</g>\n",
       "<!-- 42 -->\n",
       "<g id=\"node43\" class=\"node\">\n",
       "<title>42</title>\n",
       "<text text-anchor=\"middle\" x=\"373.5\" y=\"-309.8\" font-family=\"Times,serif\" font-size=\"14.00\">1 (49)</text>\n",
       "</g>\n",
       "<!-- 41&#45;&gt;42 -->\n",
       "<g id=\"edge42\" class=\"edge\">\n",
       "<title>41&#45;&gt;42</title>\n",
       "<path fill=\"none\" stroke=\"black\" d=\"M373.5,-357.09C373.5,-350.75 373.5,-340.75 373.5,-332.03\"/>\n",
       "<polygon fill=\"black\" stroke=\"black\" points=\"377,-332.27 373.5,-322.27 370,-332.27 377,-332.27\"/>\n",
       "</g>\n",
       "<!-- 44 -->\n",
       "<g id=\"node45\" class=\"node\">\n",
       "<title>44</title>\n",
       "</g>\n",
       "<!-- 43&#45;&gt;44 -->\n",
       "<g id=\"edge44\" class=\"edge\">\n",
       "<title>43&#45;&gt;44</title>\n",
       "<path fill=\"none\" stroke=\"black\" d=\"M436.5,-357.09C436.5,-357.04 436.5,-356.99 436.5,-356.94\"/>\n",
       "<polygon fill=\"black\" stroke=\"black\" points=\"440.01,-368.29 436.5,-358.29 433.01,-368.3 440.01,-368.29\"/>\n",
       "</g>\n",
       "</g>\n",
       "</svg>\n"
      ],
      "text/plain": [
       "<graphviz.graphs.Digraph at 0x1370face0>"
      ]
     },
     "execution_count": 20,
     "metadata": {},
     "output_type": "execute_result"
    }
   ],
   "source": [
    "display_tree(solution)"
   ]
  },
  {
   "cell_type": "markdown",
   "id": "7add9ac1-c7ef-4782-9c5a-7a992bf12b31",
   "metadata": {
    "slideshow": {
     "slide_type": "fragment"
    }
   },
   "source": [
    "By converting the derivation tree into a string, we get the represented string:"
   ]
  },
  {
   "cell_type": "code",
   "execution_count": 21,
   "id": "891f8bc4-f2a6-4376-9628-e099477aa8f7",
   "metadata": {
    "execution": {
     "iopub.execute_input": "2023-01-07T14:18:49.539196Z",
     "iopub.status.busy": "2023-01-07T14:18:49.538774Z",
     "iopub.status.idle": "2023-01-07T14:18:49.540059Z",
     "shell.execute_reply": "2023-01-07T14:18:49.540304Z"
    },
    "slideshow": {
     "slide_type": "subslide"
    }
   },
   "outputs": [
    {
     "data": {
      "text/plain": [
       "'pagesize=111534185\\nbufsize=301'"
      ]
     },
     "execution_count": 21,
     "metadata": {},
     "output_type": "execute_result"
    }
   ],
   "source": [
    "str(solution)"
   ]
  },
  {
   "cell_type": "markdown",
   "id": "4443ecd1-1dd3-4a1b-bee7-a5449c820520",
   "metadata": {
    "slideshow": {
     "slide_type": "fragment"
    }
   },
   "source": [
    "`print()` does this implicitly, so `print`ing the solution gives us the string:"
   ]
  },
  {
   "cell_type": "code",
   "execution_count": 22,
   "id": "5fed8e1c-6218-497a-8a68-6be6f04020a6",
   "metadata": {
    "execution": {
     "iopub.execute_input": "2023-01-07T14:18:49.542138Z",
     "iopub.status.busy": "2023-01-07T14:18:49.541783Z",
     "iopub.status.idle": "2023-01-07T14:18:49.542970Z",
     "shell.execute_reply": "2023-01-07T14:18:49.543249Z"
    },
    "slideshow": {
     "slide_type": "fragment"
    }
   },
   "outputs": [
    {
     "name": "stdout",
     "output_type": "stream",
     "text": [
      "pagesize=111534185\n",
      "bufsize=301\n"
     ]
    }
   ],
   "source": [
    "print(solution)"
   ]
  },
  {
   "cell_type": "markdown",
   "id": "406fe997-77fa-4acf-849a-4da6e3254b50",
   "metadata": {
    "slideshow": {
     "slide_type": "fragment"
    }
   },
   "source": [
    "Unless you want to inspect the derivation tree or access its elements, converting it into a string makes it more manageable."
   ]
  },
  {
   "cell_type": "markdown",
   "id": "0c667f85-5a6f-40c8-b8c5-9d2488e38afe",
   "metadata": {
    "slideshow": {
     "slide_type": "subslide"
    }
   },
   "source": [
    "### End of Excursion"
   ]
  },
  {
   "cell_type": "markdown",
   "id": "9048ad09",
   "metadata": {
    "slideshow": {
     "slide_type": "fragment"
    }
   },
   "source": [
    "To express a minimum numeric value, we can use a more elegant way.\n",
    "The function `str.to_int()`, for instance, converts a string into an integer.\n",
    "To obtain a page size that of at least 100000, we can thus also write"
   ]
  },
  {
   "cell_type": "code",
   "execution_count": 23,
   "id": "b899651c-9ddd-4d81-83be-bef3c64afca1",
   "metadata": {
    "execution": {
     "iopub.execute_input": "2023-01-07T14:18:49.547482Z",
     "iopub.status.busy": "2023-01-07T14:18:49.547184Z",
     "iopub.status.idle": "2023-01-07T14:18:49.549857Z",
     "shell.execute_reply": "2023-01-07T14:18:49.550084Z"
    },
    "slideshow": {
     "slide_type": "fragment"
    }
   },
   "outputs": [],
   "source": [
    "solver = ISLaSolver(CONFIG_GRAMMAR,\n",
    "                    'str.to.int(<pagesize>) >= 100000')"
   ]
  },
  {
   "cell_type": "code",
   "execution_count": 24,
   "id": "e5dbd6fc-00cd-4193-a00f-d0c4a2e0b614",
   "metadata": {
    "execution": {
     "iopub.execute_input": "2023-01-07T14:18:49.552961Z",
     "iopub.status.busy": "2023-01-07T14:18:49.552626Z",
     "iopub.status.idle": "2023-01-07T14:18:50.728358Z",
     "shell.execute_reply": "2023-01-07T14:18:50.728746Z"
    },
    "slideshow": {
     "slide_type": "fragment"
    }
   },
   "outputs": [
    {
     "name": "stdout",
     "output_type": "stream",
     "text": [
      "pagesize=290828\n",
      "bufsize=25\n"
     ]
    }
   ],
   "source": [
    "print(solver.solve())"
   ]
  },
  {
   "cell_type": "markdown",
   "id": "8cc30857",
   "metadata": {
    "slideshow": {
     "slide_type": "fragment"
    }
   },
   "source": [
    "If we want the page size to be in the range of 100 to 200, we can state this as a logical conjunction (using `and`)"
   ]
  },
  {
   "cell_type": "code",
   "execution_count": 25,
   "id": "75683696",
   "metadata": {
    "execution": {
     "iopub.execute_input": "2023-01-07T14:18:50.734657Z",
     "iopub.status.busy": "2023-01-07T14:18:50.734283Z",
     "iopub.status.idle": "2023-01-07T14:18:51.764054Z",
     "shell.execute_reply": "2023-01-07T14:18:51.764306Z"
    },
    "slideshow": {
     "slide_type": "subslide"
    }
   },
   "outputs": [
    {
     "name": "stdout",
     "output_type": "stream",
     "text": [
      "pagesize=200\n",
      "bufsize=9\n"
     ]
    }
   ],
   "source": [
    "solver = ISLaSolver(CONFIG_GRAMMAR, \n",
    "                    '''\n",
    "                    str.to.int(<pagesize>) >= 100 and \n",
    "                    str.to.int(<pagesize>) <= 200\n",
    "                    ''')\n",
    "print(solver.solve())"
   ]
  },
  {
   "cell_type": "markdown",
   "id": "a0de0eac",
   "metadata": {
    "slideshow": {
     "slide_type": "fragment"
    }
   },
   "source": [
    "And if we want the page size to be a multiple of seven, we can write"
   ]
  },
  {
   "cell_type": "code",
   "execution_count": 26,
   "id": "f99bd224",
   "metadata": {
    "execution": {
     "iopub.execute_input": "2023-01-07T14:18:51.769633Z",
     "iopub.status.busy": "2023-01-07T14:18:51.769307Z",
     "iopub.status.idle": "2023-01-07T14:18:52.768741Z",
     "shell.execute_reply": "2023-01-07T14:18:52.768939Z"
    },
    "slideshow": {
     "slide_type": "subslide"
    },
    "tags": []
   },
   "outputs": [
    {
     "name": "stdout",
     "output_type": "stream",
     "text": [
      "pagesize=63\n",
      "bufsize=7\n"
     ]
    }
   ],
   "source": [
    "solver = ISLaSolver(CONFIG_GRAMMAR, \n",
    "                    '''\n",
    "                    str.to.int(<pagesize>) mod 7 = 0\n",
    "                    ''')\n",
    "print(solver.solve())"
   ]
  },
  {
   "cell_type": "code",
   "execution_count": 27,
   "id": "fdd0335e",
   "metadata": {
    "execution": {
     "iopub.execute_input": "2023-01-07T14:18:52.770921Z",
     "iopub.status.busy": "2023-01-07T14:18:52.770641Z",
     "iopub.status.idle": "2023-01-07T14:18:52.771722Z",
     "shell.execute_reply": "2023-01-07T14:18:52.772071Z"
    },
    "slideshow": {
     "slide_type": "skip"
    }
   },
   "outputs": [],
   "source": [
    "from bookutils import quiz"
   ]
  },
  {
   "cell_type": "code",
   "execution_count": 28,
   "id": "28120dfd",
   "metadata": {
    "execution": {
     "iopub.execute_input": "2023-01-07T14:18:52.776734Z",
     "iopub.status.busy": "2023-01-07T14:18:52.776329Z",
     "iopub.status.idle": "2023-01-07T14:18:52.777885Z",
     "shell.execute_reply": "2023-01-07T14:18:52.778244Z"
    },
    "slideshow": {
     "slide_type": "subslide"
    }
   },
   "outputs": [
    {
     "data": {
      "text/html": [
       "\n",
       "    \n",
       "    <script>\n",
       "    var bad_answers = new Map();\n",
       "\n",
       "    function answer(quiz_id) {\n",
       "        ans = 0;\n",
       "        for (i = 1;; i++) {\n",
       "            checkbox = document.getElementById(quiz_id + \"-\" + i.toString());\n",
       "            if (!checkbox)\n",
       "                break;\n",
       "            if (checkbox.checked)\n",
       "                ans |= (1 << i);\n",
       "        }\n",
       "        return ans;\n",
       "    }\n",
       "    function check_selection(quiz_id, correct_answer, multiple_choice, hint) {\n",
       "        given_answer = answer(quiz_id);\n",
       "        if (given_answer == correct_answer)\n",
       "        {\n",
       "            document.getElementById(quiz_id + \"-submit\").value = \"Correct!\";\n",
       "            document.getElementById(quiz_id + \"-hint\").innerHTML = \"\";\n",
       "\n",
       "            for (i = 1;; i++) {\n",
       "                checkbox = document.getElementById(quiz_id + \"-\" + i.toString());\n",
       "                label = document.getElementById(quiz_id + \"-\" + i.toString() + \"-label\")\n",
       "                if (!checkbox)\n",
       "                    break;\n",
       "    \n",
       "                if (checkbox.checked) {\n",
       "                    label.style.fontWeight = \"bold\";\n",
       "                }\n",
       "                else {\n",
       "                    label.style.textDecoration = \"line-through\";\n",
       "                }\n",
       "            }\n",
       "        }\n",
       "        else \n",
       "        {\n",
       "            document.getElementById(quiz_id + \"-submit\").value = \"Try again\";\n",
       "            \n",
       "            if (!bad_answers.has(quiz_id)) {\n",
       "                bad_answers.set(quiz_id, 1);\n",
       "            }\n",
       "            else {\n",
       "                bad_answers.set(quiz_id, bad_answers.get(quiz_id) + 1);\n",
       "            }\n",
       "\n",
       "            if (bad_answers.get(quiz_id) >= 2 && hint.length > 0) {\n",
       "                document.getElementById(quiz_id + \"-hint\").innerHTML = \n",
       "                    \"&nbsp;&nbsp;(Hint: <code>\" + hint + \"</code>)\";\n",
       "            }\n",
       "\n",
       "            if (!multiple_choice) {\n",
       "                for (i = 1;; i++) {\n",
       "                    checkbox = document.getElementById(quiz_id + \"-\" + i.toString());\n",
       "                    label = document.getElementById(quiz_id + \"-\" + i.toString() + \"-label\")\n",
       "\n",
       "                    if (!checkbox)\n",
       "                        break;\n",
       "                    if (checkbox.checked) {\n",
       "                        label.style.textDecoration = \"line-through\";\n",
       "                    }\n",
       "                }\n",
       "            }\n",
       "        }\n",
       "    }\n",
       "    function clear_selection(quiz_id) {\n",
       "        document.getElementById(quiz_id + \"-submit\").value = \"Submit\";\n",
       "        document.getElementById(quiz_id + \"-hint\").innerHTML = \"\";\n",
       "    }\n",
       "    </script>\n",
       "    \n",
       "    <div class=\"quiz\">\n",
       "    <h3 class=\"quiz_title\">Quiz</h3>\n",
       "    <p>\n",
       "    <div class=\"quiz_question\">Which of the following constraints expresses that the page size and the buffer size have to be equal? Try it out!</div>\n",
       "    </p>\n",
       "    <p>\n",
       "    <div class=\"quiz_options\" title=\"Check all that apply.\">\n",
       "    \n",
       "        <input type=\"checkbox\" name=\"366d67a4-8e96-11ed-b165-6298cf1a5790\" id=\"366d67a4-8e96-11ed-b165-6298cf1a5790-1\" onclick=\"clear_selection('366d67a4-8e96-11ed-b165-6298cf1a5790')\">\n",
       "        <label id=\"366d67a4-8e96-11ed-b165-6298cf1a5790-1-label\" for=\"366d67a4-8e96-11ed-b165-6298cf1a5790-1\"><code>&lt;pagesize&gt; is &lt;bufsize&gt;</code></label><br>\n",
       "    \n",
       "        <input type=\"checkbox\" name=\"366d67a4-8e96-11ed-b165-6298cf1a5790\" id=\"366d67a4-8e96-11ed-b165-6298cf1a5790-2\" onclick=\"clear_selection('366d67a4-8e96-11ed-b165-6298cf1a5790')\">\n",
       "        <label id=\"366d67a4-8e96-11ed-b165-6298cf1a5790-2-label\" for=\"366d67a4-8e96-11ed-b165-6298cf1a5790-2\"><code>str.to.int(&lt;pagesize&gt;) = str.to.int(&lt;bufsize&gt;)</code></label><br>\n",
       "    \n",
       "        <input type=\"checkbox\" name=\"366d67a4-8e96-11ed-b165-6298cf1a5790\" id=\"366d67a4-8e96-11ed-b165-6298cf1a5790-3\" onclick=\"clear_selection('366d67a4-8e96-11ed-b165-6298cf1a5790')\">\n",
       "        <label id=\"366d67a4-8e96-11ed-b165-6298cf1a5790-3-label\" for=\"366d67a4-8e96-11ed-b165-6298cf1a5790-3\"><code>&lt;pagesize&gt;) = &lt;bufsize&gt;</code></label><br>\n",
       "    \n",
       "        <input type=\"checkbox\" name=\"366d67a4-8e96-11ed-b165-6298cf1a5790\" id=\"366d67a4-8e96-11ed-b165-6298cf1a5790-4\" onclick=\"clear_selection('366d67a4-8e96-11ed-b165-6298cf1a5790')\">\n",
       "        <label id=\"366d67a4-8e96-11ed-b165-6298cf1a5790-4-label\" for=\"366d67a4-8e96-11ed-b165-6298cf1a5790-4\"><code>atoi(&lt;pagesize&gt;) == atoi(&lt;bufsize&gt;)</code></label><br>\n",
       "    \n",
       "    </div>\n",
       "    </p>\n",
       "    <input id=\"366d67a4-8e96-11ed-b165-6298cf1a5790-submit\" type=\"submit\" value=\"Submit\" onclick=\"check_selection('366d67a4-8e96-11ed-b165-6298cf1a5790', 12, 1, '[4 ** 0.5, 9 ** 0.5]')\">\n",
       "    <span class=\"quiz_hint\" id=\"366d67a4-8e96-11ed-b165-6298cf1a5790-hint\"></span>\n",
       "    </div>\n",
       "    "
      ],
      "text/plain": [
       "<IPython.core.display.HTML object>"
      ]
     },
     "execution_count": 28,
     "metadata": {},
     "output_type": "execute_result"
    }
   ],
   "source": [
    "quiz(\"Which of the following constraints expresses \"\n",
    "     \"that the page size and the buffer size \"\n",
    "     \"have to be equal? Try it out!\",\n",
    "     [\n",
    "         \"`<pagesize> is <bufsize>`\",\n",
    "         \"`str.to.int(<pagesize>) = str.to.int(<bufsize>)`\",\n",
    "         \"`<pagesize>) = <bufsize>`\",\n",
    "         \"`atoi(<pagesize>) == atoi(<bufsize>)`\",\n",
    "     ], \"[4 ** 0.5, 9 ** 0.5]\")"
   ]
  },
  {
   "attachments": {},
   "cell_type": "markdown",
   "id": "f863aeb2",
   "metadata": {
    "slideshow": {
     "slide_type": "fragment"
    }
   },
   "source": [
    "Indeed, ISLa constraints can also involve multiple elements. Expressing equality between two elements is easy, and uses a single equal sign. (There's no assignment in ISLa the `=` could be confused with.)"
   ]
  },
  {
   "cell_type": "code",
   "execution_count": 29,
   "id": "8d94f485",
   "metadata": {
    "execution": {
     "iopub.execute_input": "2023-01-07T14:18:52.782031Z",
     "iopub.status.busy": "2023-01-07T14:18:52.781711Z",
     "iopub.status.idle": "2023-01-07T14:18:54.462389Z",
     "shell.execute_reply": "2023-01-07T14:18:54.462631Z"
    },
    "slideshow": {
     "slide_type": "subslide"
    }
   },
   "outputs": [
    {
     "name": "stdout",
     "output_type": "stream",
     "text": [
      "pagesize=8\n",
      "bufsize=8\n"
     ]
    }
   ],
   "source": [
    "solver = ISLaSolver(CONFIG_GRAMMAR, \n",
    "                    '''\n",
    "                    <pagesize> = <bufsize>\n",
    "                    ''')\n",
    "print(solver.solve())"
   ]
  },
  {
   "cell_type": "markdown",
   "id": "ad7658fd",
   "metadata": {
    "slideshow": {
     "slide_type": "fragment"
    }
   },
   "source": [
    "We can also use numerical constraints, stating that the buffer size should always be exactly one more than the page size:"
   ]
  },
  {
   "cell_type": "code",
   "execution_count": 30,
   "id": "6f62782a",
   "metadata": {
    "execution": {
     "iopub.execute_input": "2023-01-07T14:18:54.468467Z",
     "iopub.status.busy": "2023-01-07T14:18:54.468084Z",
     "iopub.status.idle": "2023-01-07T14:18:56.597627Z",
     "shell.execute_reply": "2023-01-07T14:18:56.597881Z"
    },
    "slideshow": {
     "slide_type": "subslide"
    }
   },
   "outputs": [
    {
     "name": "stdout",
     "output_type": "stream",
     "text": [
      "pagesize=9403\n",
      "bufsize=9404\n"
     ]
    }
   ],
   "source": [
    "solver = ISLaSolver(CONFIG_GRAMMAR, \n",
    "                    '''\n",
    "                    str.to.int(<pagesize>) > 1024 and\n",
    "                    str.to.int(<bufsize>) = str.to.int(<pagesize>) + 1\n",
    "                    ''')\n",
    "print(solver.solve())"
   ]
  },
  {
   "cell_type": "markdown",
   "id": "3fe9034b",
   "metadata": {
    "slideshow": {
     "slide_type": "subslide"
    }
   },
   "source": [
    "All the above functions (like `str.to.int()`) actually stem from the _SMT-LIB_ library for _satisfiability modulo theories_ (SMT), a standard for expressing constraints for constraint solvers (like ISLa).\n",
    "The [list of all theories defined in SMT-LIB](https://smtlib.cs.uiowa.edu/theories.shtml) lists dozens of functions and predicates that can be used in ISLa constraints."
   ]
  },
  {
   "cell_type": "code",
   "execution_count": 31,
   "id": "d2c0b3ad",
   "metadata": {
    "execution": {
     "iopub.execute_input": "2023-01-07T14:18:56.601774Z",
     "iopub.status.busy": "2023-01-07T14:18:56.601383Z",
     "iopub.status.idle": "2023-01-07T14:18:56.603183Z",
     "shell.execute_reply": "2023-01-07T14:18:56.603443Z"
    },
    "slideshow": {
     "slide_type": "subslide"
    }
   },
   "outputs": [
    {
     "data": {
      "text/html": [
       "\n",
       "    \n",
       "    <script>\n",
       "    var bad_answers = new Map();\n",
       "\n",
       "    function answer(quiz_id) {\n",
       "        ans = 0;\n",
       "        for (i = 1;; i++) {\n",
       "            checkbox = document.getElementById(quiz_id + \"-\" + i.toString());\n",
       "            if (!checkbox)\n",
       "                break;\n",
       "            if (checkbox.checked)\n",
       "                ans |= (1 << i);\n",
       "        }\n",
       "        return ans;\n",
       "    }\n",
       "    function check_selection(quiz_id, correct_answer, multiple_choice, hint) {\n",
       "        given_answer = answer(quiz_id);\n",
       "        if (given_answer == correct_answer)\n",
       "        {\n",
       "            document.getElementById(quiz_id + \"-submit\").value = \"Correct!\";\n",
       "            document.getElementById(quiz_id + \"-hint\").innerHTML = \"\";\n",
       "\n",
       "            for (i = 1;; i++) {\n",
       "                checkbox = document.getElementById(quiz_id + \"-\" + i.toString());\n",
       "                label = document.getElementById(quiz_id + \"-\" + i.toString() + \"-label\")\n",
       "                if (!checkbox)\n",
       "                    break;\n",
       "    \n",
       "                if (checkbox.checked) {\n",
       "                    label.style.fontWeight = \"bold\";\n",
       "                }\n",
       "                else {\n",
       "                    label.style.textDecoration = \"line-through\";\n",
       "                }\n",
       "            }\n",
       "        }\n",
       "        else \n",
       "        {\n",
       "            document.getElementById(quiz_id + \"-submit\").value = \"Try again\";\n",
       "            \n",
       "            if (!bad_answers.has(quiz_id)) {\n",
       "                bad_answers.set(quiz_id, 1);\n",
       "            }\n",
       "            else {\n",
       "                bad_answers.set(quiz_id, bad_answers.get(quiz_id) + 1);\n",
       "            }\n",
       "\n",
       "            if (bad_answers.get(quiz_id) >= 2 && hint.length > 0) {\n",
       "                document.getElementById(quiz_id + \"-hint\").innerHTML = \n",
       "                    \"&nbsp;&nbsp;(Hint: <code>\" + hint + \"</code>)\";\n",
       "            }\n",
       "\n",
       "            if (!multiple_choice) {\n",
       "                for (i = 1;; i++) {\n",
       "                    checkbox = document.getElementById(quiz_id + \"-\" + i.toString());\n",
       "                    label = document.getElementById(quiz_id + \"-\" + i.toString() + \"-label\")\n",
       "\n",
       "                    if (!checkbox)\n",
       "                        break;\n",
       "                    if (checkbox.checked) {\n",
       "                        label.style.textDecoration = \"line-through\";\n",
       "                    }\n",
       "                }\n",
       "            }\n",
       "        }\n",
       "    }\n",
       "    function clear_selection(quiz_id) {\n",
       "        document.getElementById(quiz_id + \"-submit\").value = \"Submit\";\n",
       "        document.getElementById(quiz_id + \"-hint\").innerHTML = \"\";\n",
       "    }\n",
       "    </script>\n",
       "    \n",
       "    <div class=\"quiz\">\n",
       "    <h3 class=\"quiz_title\">Quiz</h3>\n",
       "    <p>\n",
       "    <div class=\"quiz_question\">Which constraints are necessary to ensure that all digits are between 1 and 3?</div>\n",
       "    </p>\n",
       "    <p>\n",
       "    <div class=\"quiz_options\" title=\"Check all that apply.\">\n",
       "    \n",
       "        <input type=\"checkbox\" name=\"38b53730-8e96-11ed-b165-6298cf1a5790\" id=\"38b53730-8e96-11ed-b165-6298cf1a5790-1\" onclick=\"clear_selection('38b53730-8e96-11ed-b165-6298cf1a5790')\">\n",
       "        <label id=\"38b53730-8e96-11ed-b165-6298cf1a5790-1-label\" for=\"38b53730-8e96-11ed-b165-6298cf1a5790-1\"><code>str.to.int(&lt;digit&gt;) &gt;= 1</code></label><br>\n",
       "    \n",
       "        <input type=\"checkbox\" name=\"38b53730-8e96-11ed-b165-6298cf1a5790\" id=\"38b53730-8e96-11ed-b165-6298cf1a5790-2\" onclick=\"clear_selection('38b53730-8e96-11ed-b165-6298cf1a5790')\">\n",
       "        <label id=\"38b53730-8e96-11ed-b165-6298cf1a5790-2-label\" for=\"38b53730-8e96-11ed-b165-6298cf1a5790-2\"><code>str.to.int(&lt;digit&gt;) &lt;= 3</code></label><br>\n",
       "    \n",
       "        <input type=\"checkbox\" name=\"38b53730-8e96-11ed-b165-6298cf1a5790\" id=\"38b53730-8e96-11ed-b165-6298cf1a5790-3\" onclick=\"clear_selection('38b53730-8e96-11ed-b165-6298cf1a5790')\">\n",
       "        <label id=\"38b53730-8e96-11ed-b165-6298cf1a5790-3-label\" for=\"38b53730-8e96-11ed-b165-6298cf1a5790-3\"><code>str.to.int(&lt;leaddigit&gt;) &gt;= 1</code></label><br>\n",
       "    \n",
       "        <input type=\"checkbox\" name=\"38b53730-8e96-11ed-b165-6298cf1a5790\" id=\"38b53730-8e96-11ed-b165-6298cf1a5790-4\" onclick=\"clear_selection('38b53730-8e96-11ed-b165-6298cf1a5790')\">\n",
       "        <label id=\"38b53730-8e96-11ed-b165-6298cf1a5790-4-label\" for=\"38b53730-8e96-11ed-b165-6298cf1a5790-4\"><code>str.to.int(&lt;leaddigit&gt;) &lt;= 3</code></label><br>\n",
       "    \n",
       "    </div>\n",
       "    </p>\n",
       "    <input id=\"38b53730-8e96-11ed-b165-6298cf1a5790-submit\" type=\"submit\" value=\"Submit\" onclick=\"check_selection('38b53730-8e96-11ed-b165-6298cf1a5790', 22, 1, '[1 ** 0, 4 ** 0.5, 16 ** 0.5]')\">\n",
       "    <span class=\"quiz_hint\" id=\"38b53730-8e96-11ed-b165-6298cf1a5790-hint\"></span>\n",
       "    </div>\n",
       "    "
      ],
      "text/plain": [
       "<IPython.core.display.HTML object>"
      ]
     },
     "execution_count": 31,
     "metadata": {},
     "output_type": "execute_result"
    }
   ],
   "source": [
    "quiz(\"Which constraints are necessary to \"\n",
    "     \"ensure that all digits are between 1 and 3?\",\n",
    "     [\n",
    "         \"`str.to.int(<digit>) >= 1`\",\n",
    "         \"`str.to.int(<digit>) <= 3`\",\n",
    "         \"`str.to.int(<leaddigit>) >= 1`\",\n",
    "         \"`str.to.int(<leaddigit>) <= 3`\",\n",
    "     ], \"[1 ** 0, 4 ** 0.5, 16 ** 0.5]\")"
   ]
  },
  {
   "cell_type": "markdown",
   "id": "63565c2d",
   "metadata": {
    "slideshow": {
     "slide_type": "subslide"
    },
    "tags": []
   },
   "source": [
    "### Excursion: Using SMT-LIB Syntax"
   ]
  },
  {
   "cell_type": "markdown",
   "id": "0f04e42c",
   "metadata": {
    "slideshow": {
     "slide_type": "fragment"
    }
   },
   "source": [
    "Instead of the above \"infix\" syntax which is familiar to programmers, ISLa also supports full SMT-LIB syntax.\n",
    "Instead of writing $f(x_1, x_2, x_3, \\dots)$ for a function $f$ and its arguments $x_1 \\dots x_n$, SMT-LIB uses a \"prefix\" LISP-like syntax in which all functions and operators are written as $(f x_1 x_2 x_3 \\dots)$.\n",
    "The above predicate would thus be written as"
   ]
  },
  {
   "cell_type": "code",
   "execution_count": 32,
   "id": "bbe79723",
   "metadata": {
    "execution": {
     "iopub.execute_input": "2023-01-07T14:18:56.608159Z",
     "iopub.status.busy": "2023-01-07T14:18:56.607824Z",
     "iopub.status.idle": "2023-01-07T14:18:58.810997Z",
     "shell.execute_reply": "2023-01-07T14:18:58.811260Z"
    },
    "slideshow": {
     "slide_type": "subslide"
    }
   },
   "outputs": [
    {
     "name": "stdout",
     "output_type": "stream",
     "text": [
      "pagesize=8028\n",
      "bufsize=8029\n"
     ]
    }
   ],
   "source": [
    "solver = ISLaSolver(CONFIG_GRAMMAR, \n",
    "                '''\n",
    "                (and\n",
    "                  (> (str.to.int <pagesize>) 1024)\n",
    "                  (= (str.to.int <bufsize>)\n",
    "                     (+ (str.to.int <pagesize>) 1)))\n",
    "                ''')\n",
    "print(solver.solve())"
   ]
  },
  {
   "cell_type": "markdown",
   "id": "c28b7d73",
   "metadata": {
    "slideshow": {
     "slide_type": "fragment"
    }
   },
   "source": [
    "Note that for boolean operators such as `and`, we still use the ISLa infix syntax; having ISLa handle these operators is more efficient than passing them on to the constraint solver."
   ]
  },
  {
   "cell_type": "markdown",
   "id": "27156f09",
   "metadata": {
    "slideshow": {
     "slide_type": "subslide"
    }
   },
   "source": [
    "### End of Excursion"
   ]
  },
  {
   "cell_type": "markdown",
   "id": "b7ff1b09-eb1e-4b90-8738-3ff6e690b6fd",
   "metadata": {
    "slideshow": {
     "slide_type": "slide"
    }
   },
   "source": [
    "## ISLa on the Command Line"
   ]
  },
  {
   "cell_type": "markdown",
   "id": "de99f7e2-e48f-4351-aef0-6cd1182d331b",
   "metadata": {
    "slideshow": {
     "slide_type": "fragment"
    }
   },
   "source": [
    "When you install `isla-solver`, you also get an `isla` command-line tool.\n",
    "This allows you to create inputs from the command line or shell scripts."
   ]
  },
  {
   "cell_type": "markdown",
   "id": "93af8e01-6a86-40e9-9140-5239a2463325",
   "metadata": {
    "slideshow": {
     "slide_type": "fragment"
    }
   },
   "source": [
    "Let us first create a _grammar file_ suitable for `isla`. `isla` accepts grammars in Fuzzingbook format; they need to define a variable named `grammar`."
   ]
  },
  {
   "cell_type": "code",
   "execution_count": 33,
   "id": "71fc003c-21ff-4d43-8ea3-1eb76a00c16c",
   "metadata": {
    "execution": {
     "iopub.execute_input": "2023-01-07T14:18:58.813700Z",
     "iopub.status.busy": "2023-01-07T14:18:58.813326Z",
     "iopub.status.idle": "2023-01-07T14:18:58.814837Z",
     "shell.execute_reply": "2023-01-07T14:18:58.815098Z"
    },
    "slideshow": {
     "slide_type": "fragment"
    }
   },
   "outputs": [],
   "source": [
    "with open('grammar.py', 'w') as f:\n",
    "    f.write('grammar = ')\n",
    "    f.write(str(CONFIG_GRAMMAR))"
   ]
  },
  {
   "cell_type": "code",
   "execution_count": 34,
   "id": "5781e7cf-8024-4358-9bf2-579c38e2ae80",
   "metadata": {
    "execution": {
     "iopub.execute_input": "2023-01-07T14:18:58.816914Z",
     "iopub.status.busy": "2023-01-07T14:18:58.816613Z",
     "iopub.status.idle": "2023-01-07T14:18:58.817692Z",
     "shell.execute_reply": "2023-01-07T14:18:58.817888Z"
    },
    "slideshow": {
     "slide_type": "skip"
    }
   },
   "outputs": [],
   "source": [
    "from bookutils import print_file"
   ]
  },
  {
   "cell_type": "code",
   "execution_count": 35,
   "id": "83cee5b6-e441-47e7-9857-5ee524b2f307",
   "metadata": {
    "execution": {
     "iopub.execute_input": "2023-01-07T14:18:58.819604Z",
     "iopub.status.busy": "2023-01-07T14:18:58.819306Z",
     "iopub.status.idle": "2023-01-07T14:18:58.882513Z",
     "shell.execute_reply": "2023-01-07T14:18:58.882843Z"
    },
    "slideshow": {
     "slide_type": "fragment"
    }
   },
   "outputs": [
    {
     "name": "stdout",
     "output_type": "stream",
     "text": [
      "grammar = {\u001b[33m'\u001b[39;49;00m\u001b[33m<start>\u001b[39;49;00m\u001b[33m'\u001b[39;49;00m: [\u001b[33m'\u001b[39;49;00m\u001b[33m<config>\u001b[39;49;00m\u001b[33m'\u001b[39;49;00m], \u001b[33m'\u001b[39;49;00m\u001b[33m<config>\u001b[39;49;00m\u001b[33m'\u001b[39;49;00m: [\u001b[33m'\u001b[39;49;00m\u001b[33mpagesize=<pagesize>\u001b[39;49;00m\u001b[33m\\n\u001b[39;49;00m\u001b[33mbufsize=<bufsize>\u001b[39;49;00m\u001b[33m'\u001b[39;49;00m], \u001b[33m'\u001b[39;49;00m\u001b[33m<pagesize>\u001b[39;49;00m\u001b[33m'\u001b[39;49;00m: [\u001b[33m'\u001b[39;49;00m\u001b[33m<int>\u001b[39;49;00m\u001b[33m'\u001b[39;49;00m], \u001b[33m'\u001b[39;49;00m\u001b[33m<bufsize>\u001b[39;49;00m\u001b[33m'\u001b[39;49;00m: [\u001b[33m'\u001b[39;49;00m\u001b[33m<int>\u001b[39;49;00m\u001b[33m'\u001b[39;49;00m], \u001b[33m'\u001b[39;49;00m\u001b[33m<int>\u001b[39;49;00m\u001b[33m'\u001b[39;49;00m: [\u001b[33m'\u001b[39;49;00m\u001b[33m<leaddigit><digits>\u001b[39;49;00m\u001b[33m'\u001b[39;49;00m], \u001b[33m'\u001b[39;49;00m\u001b[33m<digits>\u001b[39;49;00m\u001b[33m'\u001b[39;49;00m: [\u001b[33m'\u001b[39;49;00m\u001b[33m'\u001b[39;49;00m, \u001b[33m'\u001b[39;49;00m\u001b[33m<digit><digits>\u001b[39;49;00m\u001b[33m'\u001b[39;49;00m], \u001b[33m'\u001b[39;49;00m\u001b[33m<digit>\u001b[39;49;00m\u001b[33m'\u001b[39;49;00m: [\u001b[33m'\u001b[39;49;00m\u001b[33m0\u001b[39;49;00m\u001b[33m'\u001b[39;49;00m, \u001b[33m'\u001b[39;49;00m\u001b[33m1\u001b[39;49;00m\u001b[33m'\u001b[39;49;00m, \u001b[33m'\u001b[39;49;00m\u001b[33m2\u001b[39;49;00m\u001b[33m'\u001b[39;49;00m, \u001b[33m'\u001b[39;49;00m\u001b[33m3\u001b[39;49;00m\u001b[33m'\u001b[39;49;00m, \u001b[33m'\u001b[39;49;00m\u001b[33m4\u001b[39;49;00m\u001b[33m'\u001b[39;49;00m, \u001b[33m'\u001b[39;49;00m\u001b[33m5\u001b[39;49;00m\u001b[33m'\u001b[39;49;00m, \u001b[33m'\u001b[39;49;00m\u001b[33m6\u001b[39;49;00m\u001b[33m'\u001b[39;49;00m, \u001b[33m'\u001b[39;49;00m\u001b[33m7\u001b[39;49;00m\u001b[33m'\u001b[39;49;00m, \u001b[33m'\u001b[39;49;00m\u001b[33m8\u001b[39;49;00m\u001b[33m'\u001b[39;49;00m, \u001b[33m'\u001b[39;49;00m\u001b[33m9\u001b[39;49;00m\u001b[33m'\u001b[39;49;00m], \u001b[33m'\u001b[39;49;00m\u001b[33m<leaddigit>\u001b[39;49;00m\u001b[33m'\u001b[39;49;00m: [\u001b[33m'\u001b[39;49;00m\u001b[33m1\u001b[39;49;00m\u001b[33m'\u001b[39;49;00m, \u001b[33m'\u001b[39;49;00m\u001b[33m2\u001b[39;49;00m\u001b[33m'\u001b[39;49;00m, \u001b[33m'\u001b[39;49;00m\u001b[33m3\u001b[39;49;00m\u001b[33m'\u001b[39;49;00m, \u001b[33m'\u001b[39;49;00m\u001b[33m4\u001b[39;49;00m\u001b[33m'\u001b[39;49;00m, \u001b[33m'\u001b[39;49;00m\u001b[33m5\u001b[39;49;00m\u001b[33m'\u001b[39;49;00m, \u001b[33m'\u001b[39;49;00m\u001b[33m6\u001b[39;49;00m\u001b[33m'\u001b[39;49;00m, \u001b[33m'\u001b[39;49;00m\u001b[33m7\u001b[39;49;00m\u001b[33m'\u001b[39;49;00m, \u001b[33m'\u001b[39;49;00m\u001b[33m8\u001b[39;49;00m\u001b[33m'\u001b[39;49;00m, \u001b[33m'\u001b[39;49;00m\u001b[33m9\u001b[39;49;00m\u001b[33m'\u001b[39;49;00m]}\u001b[37m\u001b[39;49;00m"
     ]
    }
   ],
   "source": [
    "print_file('grammar.py')"
   ]
  },
  {
   "cell_type": "markdown",
   "id": "a4c2f941-2431-48de-aa42-2b552c5d6f77",
   "metadata": {
    "slideshow": {
     "slide_type": "subslide"
    }
   },
   "source": [
    "With this, we can use `isla` as a grammar fuzzer, plain and simple\n",
    "By default, `isla solve` produces one single matching output:"
   ]
  },
  {
   "cell_type": "code",
   "execution_count": 36,
   "id": "d4171b67-ca54-4e34-bbd2-9afc13bab108",
   "metadata": {
    "execution": {
     "iopub.execute_input": "2023-01-07T14:18:58.888014Z",
     "iopub.status.busy": "2023-01-07T14:18:58.884774Z",
     "iopub.status.idle": "2023-01-07T14:18:59.299839Z",
     "shell.execute_reply": "2023-01-07T14:18:59.300077Z"
    },
    "slideshow": {
     "slide_type": "fragment"
    }
   },
   "outputs": [
    {
     "name": "stdout",
     "output_type": "stream",
     "text": [
      "pagesize=6546932801798\r\n",
      "bufsize=1\r\n"
     ]
    }
   ],
   "source": [
    "!isla solve grammar.py"
   ]
  },
  {
   "cell_type": "markdown",
   "id": "ac191770-40ab-48b1-a58c-0c43838a16e6",
   "metadata": {
    "slideshow": {
     "slide_type": "fragment"
    }
   },
   "source": [
    "The true power of `isla`, however, comes to be as we (again) add _constraints_ to be solved - either in separate _constraint files_ or (easier) directly on the command line:"
   ]
  },
  {
   "cell_type": "code",
   "execution_count": 37,
   "id": "3ec6eed7-67f1-409e-a361-8f996728b40d",
   "metadata": {
    "execution": {
     "iopub.execute_input": "2023-01-07T14:18:59.302952Z",
     "iopub.status.busy": "2023-01-07T14:18:59.302622Z",
     "iopub.status.idle": "2023-01-07T14:19:01.294702Z",
     "shell.execute_reply": "2023-01-07T14:19:01.294912Z"
    },
    "slideshow": {
     "slide_type": "fragment"
    }
   },
   "outputs": [
    {
     "name": "stdout",
     "output_type": "stream",
     "text": [
      "pagesize=8\r\n",
      "bufsize=8\r\n"
     ]
    }
   ],
   "source": [
    "!isla solve grammar.py --constraint '<pagesize> = <bufsize>'"
   ]
  },
  {
   "cell_type": "code",
   "execution_count": 38,
   "id": "6ed33140-5bf2-4f79-8c25-19c6042f59eb",
   "metadata": {
    "execution": {
     "iopub.execute_input": "2023-01-07T14:19:01.297597Z",
     "iopub.status.busy": "2023-01-07T14:19:01.297230Z",
     "iopub.status.idle": "2023-01-07T14:19:03.550655Z",
     "shell.execute_reply": "2023-01-07T14:19:03.551045Z"
    },
    "slideshow": {
     "slide_type": "subslide"
    }
   },
   "outputs": [
    {
     "name": "stdout",
     "output_type": "stream",
     "text": [
      "pagesize=90222222\r\n",
      "bufsize=90222222\r\n"
     ]
    }
   ],
   "source": [
    "!isla solve grammar.py \\\n",
    "    --constraint '<pagesize> = <bufsize> and str.to.int(<pagesize>) > 10000'"
   ]
  },
  {
   "cell_type": "markdown",
   "id": "c86bff4b-1d7a-4cd2-b8bf-70d1bb7a682a",
   "metadata": {
    "slideshow": {
     "slide_type": "fragment"
    }
   },
   "source": [
    "The `isla` executable provides several options and commands, and is a great alternative on the command line."
   ]
  },
  {
   "cell_type": "code",
   "execution_count": 39,
   "id": "b5b8c2ba-cea7-4fcf-81ac-639260277963",
   "metadata": {
    "execution": {
     "iopub.execute_input": "2023-01-07T14:19:03.554643Z",
     "iopub.status.busy": "2023-01-07T14:19:03.554186Z",
     "iopub.status.idle": "2023-01-07T14:19:03.914980Z",
     "shell.execute_reply": "2023-01-07T14:19:03.915239Z"
    },
    "slideshow": {
     "slide_type": "subslide"
    }
   },
   "outputs": [
    {
     "name": "stdout",
     "output_type": "stream",
     "text": [
      "usage: isla [-h] [-v]\r\n",
      "            {solve,fuzz,check,find,parse,repair,mutate,create,config} ...\r\n",
      "\r\n",
      "The ISLa command line interface.\r\n",
      "\r\n",
      "options:\r\n",
      "  -h, --help            show this help message and exit\r\n",
      "  -v, --version         Print the ISLa version number\r\n",
      "\r\n",
      "Commands:\r\n",
      "  {solve,fuzz,check,find,parse,repair,mutate,create,config}\r\n",
      "    solve               create solutions to ISLa constraints or check their\r\n",
      "                        unsatisfiability\r\n",
      "    fuzz                pass solutions to an ISLa constraint to a test subject\r\n",
      "    check               check whether an input satisfies an ISLa constraint\r\n",
      "    find                filter files satisfying syntactic & semantic\r\n",
      "                        constraints\r\n",
      "    parse               parse an input into a derivation tree if it satisfies\r\n",
      "                        an ISLa constraint\r\n",
      "    repair              try to repair an existing input such that it satisfies\r\n",
      "                        an ISLa constraint\r\n",
      "    mutate              mutate an input such that the result satisfies an ISLa\r\n",
      "                        constraint\r\n",
      "    create              create grammar and constraint stubs\r\n",
      "    config              dumps the default configuration file\r\n"
     ]
    }
   ],
   "source": [
    "!isla --help"
   ]
  },
  {
   "cell_type": "markdown",
   "id": "fcf359da",
   "metadata": {
    "slideshow": {
     "slide_type": "slide"
    },
    "tags": []
   },
   "source": [
    "## Accessing Elements"
   ]
  },
  {
   "cell_type": "markdown",
   "id": "fef0bfb9",
   "metadata": {
    "slideshow": {
     "slide_type": "fragment"
    }
   },
   "source": [
    "So far, we have accessed nonterminals simply by referencing their name, as in `<bufsize>` or `<pagesize>`.\n",
    "However, in some cases, this simple method is not sufficient.\n",
    "In our configuration grammar, for instance, we may want to access (or constrain) `<int>` elements.\n",
    "However, we do not want to constrain _all_ integers at once, but only those in a particular _context_ – say, those that occur as a part of a `<pagesize>` element, or only those that occur as part of a `<config>` element."
   ]
  },
  {
   "attachments": {},
   "cell_type": "markdown",
   "id": "c031c671",
   "metadata": {
    "slideshow": {
     "slide_type": "fragment"
    }
   },
   "source": [
    "To this end, ISLa allows referencing _parts_ of a given element, using two special operators."
   ]
  },
  {
   "cell_type": "markdown",
   "id": "fb62d267",
   "metadata": {
    "slideshow": {
     "slide_type": "subslide"
    }
   },
   "source": [
    "The expression `<a>.<b>` refers to the _immediate_ subpart `<b>` of some element `<a>`.\n",
    "That is, `<b>` has to appear in one of the expansion rules of `<a>`.\n",
    "For instance, `<pagesize>.<int>` refers to the `<int>` element of a page size.\n",
    "Here is an example using the dot operator:"
   ]
  },
  {
   "cell_type": "code",
   "execution_count": 40,
   "id": "44671d25",
   "metadata": {
    "execution": {
     "iopub.execute_input": "2023-01-07T14:19:03.920693Z",
     "iopub.status.busy": "2023-01-07T14:19:03.920346Z",
     "iopub.status.idle": "2023-01-07T14:19:04.814923Z",
     "shell.execute_reply": "2023-01-07T14:19:04.815247Z"
    },
    "slideshow": {
     "slide_type": "fragment"
    }
   },
   "outputs": [
    {
     "name": "stdout",
     "output_type": "stream",
     "text": [
      "pagesize=8\n",
      "bufsize=8\n"
     ]
    }
   ],
   "source": [
    "solver = ISLaSolver(CONFIG_GRAMMAR, \n",
    "                '''\n",
    "                <pagesize>.<int> = <bufsize>.<int>\n",
    "                ''')\n",
    "print(solver.solve())"
   ]
  },
  {
   "cell_type": "markdown",
   "id": "a1c08932",
   "metadata": {
    "slideshow": {
     "slide_type": "subslide"
    }
   },
   "source": [
    "The expression `<a>..<b>`, however, refers to _any_ subpart `<b>` of some element `<a>`. That is, `<b>` can appear in the expansion of `<a>`, but also in the expansion of any subelement (and any subelement thereof).\n",
    "Here is an example using the double dot operator, enforcing _every_ digit in a `<config>` element to be `7`:"
   ]
  },
  {
   "cell_type": "code",
   "execution_count": 41,
   "id": "942ed25a",
   "metadata": {
    "execution": {
     "iopub.execute_input": "2023-01-07T14:19:04.817393Z",
     "iopub.status.busy": "2023-01-07T14:19:04.817092Z",
     "iopub.status.idle": "2023-01-07T14:19:04.818280Z",
     "shell.execute_reply": "2023-01-07T14:19:04.818520Z"
    },
    "slideshow": {
     "slide_type": "skip"
    }
   },
   "outputs": [],
   "source": [
    "from ExpectError import ExpectError"
   ]
  },
  {
   "cell_type": "code",
   "execution_count": 42,
   "id": "9d75a50b",
   "metadata": {
    "execution": {
     "iopub.execute_input": "2023-01-07T14:19:04.823399Z",
     "iopub.status.busy": "2023-01-07T14:19:04.823086Z",
     "iopub.status.idle": "2023-01-07T14:19:06.304219Z",
     "shell.execute_reply": "2023-01-07T14:19:06.304518Z"
    },
    "slideshow": {
     "slide_type": "fragment"
    }
   },
   "outputs": [
    {
     "name": "stdout",
     "output_type": "stream",
     "text": [
      "pagesize=77\n",
      "bufsize=7\n"
     ]
    }
   ],
   "source": [
    "solver = ISLaSolver(CONFIG_GRAMMAR, \n",
    "            '''\n",
    "            <config>..<digit> = \"7\" and <config>..<leaddigit> = \"7\"\n",
    "            ''')\n",
    "print(solver.solve())"
   ]
  },
  {
   "attachments": {},
   "cell_type": "markdown",
   "id": "447bdd52",
   "metadata": {
    "slideshow": {
     "slide_type": "subslide"
    }
   },
   "source": [
    "To reason about dots and double dots, it helps to visualize the string in question as a _derivation tree_ discussed in the [chapter on grammar-based fuzzing](GrammarFuzzer.ipynb).\n",
    "The derivation tree of the input \n",
    "```\n",
    "pagesize=12\n",
    "bufsize=34\n",
    "```\n",
    "for instance, looks like this:"
   ]
  },
  {
   "cell_type": "code",
   "execution_count": 43,
   "id": "9132892f",
   "metadata": {
    "execution": {
     "iopub.execute_input": "2023-01-07T14:19:06.311946Z",
     "iopub.status.busy": "2023-01-07T14:19:06.311632Z",
     "iopub.status.idle": "2023-01-07T14:19:06.553649Z",
     "shell.execute_reply": "2023-01-07T14:19:06.553914Z"
    },
    "slideshow": {
     "slide_type": "subslide"
    }
   },
   "outputs": [
    {
     "data": {
      "image/svg+xml": [
       "<?xml version=\"1.0\" encoding=\"UTF-8\" standalone=\"no\"?>\n",
       "<!DOCTYPE svg PUBLIC \"-//W3C//DTD SVG 1.1//EN\"\n",
       " \"http://www.w3.org/Graphics/SVG/1.1/DTD/svg11.dtd\">\n",
       "<!-- Generated by graphviz version 7.0.2 (20221119.0110)\n",
       " -->\n",
       "<!-- Pages: 1 -->\n",
       "<svg width=\"409pt\" height=\"329pt\"\n",
       " viewBox=\"0.00 0.00 409.00 329.00\" xmlns=\"http://www.w3.org/2000/svg\" xmlns:xlink=\"http://www.w3.org/1999/xlink\">\n",
       "<g id=\"graph0\" class=\"graph\" transform=\"scale(1 1) rotate(0) translate(4 325)\">\n",
       "<polygon fill=\"white\" stroke=\"none\" points=\"-4,4 -4,-325 405,-325 405,4 -4,4\"/>\n",
       "<!-- 0 -->\n",
       "<g id=\"node1\" class=\"node\">\n",
       "<title>0</title>\n",
       "<text text-anchor=\"middle\" x=\"144.5\" y=\"-309.8\" font-family=\"Times,serif\" font-size=\"14.00\">&lt;start&gt;</text>\n",
       "</g>\n",
       "<!-- 1 -->\n",
       "<g id=\"node2\" class=\"node\">\n",
       "<title>1</title>\n",
       "<text text-anchor=\"middle\" x=\"144.5\" y=\"-258.8\" font-family=\"Times,serif\" font-size=\"14.00\">&lt;config&gt;</text>\n",
       "</g>\n",
       "<!-- 0&#45;&gt;1 -->\n",
       "<g id=\"edge1\" class=\"edge\">\n",
       "<title>0&#45;&gt;1</title>\n",
       "<path fill=\"none\" stroke=\"black\" d=\"M144.5,-306.09C144.5,-299.75 144.5,-289.75 144.5,-281.03\"/>\n",
       "<polygon fill=\"black\" stroke=\"black\" points=\"148,-281.27 144.5,-271.27 141,-281.27 148,-281.27\"/>\n",
       "</g>\n",
       "<!-- 2 -->\n",
       "<g id=\"node3\" class=\"node\">\n",
       "<title>2</title>\n",
       "<text text-anchor=\"middle\" x=\"27.5\" y=\"-207.8\" font-family=\"Times,serif\" font-size=\"14.00\">pagesize=</text>\n",
       "</g>\n",
       "<!-- 1&#45;&gt;2 -->\n",
       "<g id=\"edge2\" class=\"edge\">\n",
       "<title>1&#45;&gt;2</title>\n",
       "<path fill=\"none\" stroke=\"black\" d=\"M129.2,-255.09C109.93,-247.02 76.53,-233.04 53.29,-223.3\"/>\n",
       "<polygon fill=\"black\" stroke=\"black\" points=\"54.77,-220.13 44.2,-219.49 52.07,-226.58 54.77,-220.13\"/>\n",
       "</g>\n",
       "<!-- 3 -->\n",
       "<g id=\"node4\" class=\"node\">\n",
       "<title>3</title>\n",
       "<text text-anchor=\"middle\" x=\"105.5\" y=\"-207.8\" font-family=\"Times,serif\" font-size=\"14.00\">&lt;pagesize&gt;</text>\n",
       "</g>\n",
       "<!-- 1&#45;&gt;3 -->\n",
       "<g id=\"edge3\" class=\"edge\">\n",
       "<title>1&#45;&gt;3</title>\n",
       "<path fill=\"none\" stroke=\"black\" d=\"M139.4,-255.09C133.88,-248.16 124.89,-236.86 117.55,-227.63\"/>\n",
       "<polygon fill=\"black\" stroke=\"black\" points=\"120.39,-225.58 111.42,-219.94 114.91,-229.94 120.39,-225.58\"/>\n",
       "</g>\n",
       "<!-- 11 -->\n",
       "<g id=\"node12\" class=\"node\">\n",
       "<title>11</title>\n",
       "<text text-anchor=\"middle\" x=\"184.5\" y=\"-207.8\" font-family=\"Times,serif\" font-size=\"14.00\">\\nbufsize=</text>\n",
       "</g>\n",
       "<!-- 1&#45;&gt;11 -->\n",
       "<g id=\"edge11\" class=\"edge\">\n",
       "<title>1&#45;&gt;11</title>\n",
       "<path fill=\"none\" stroke=\"black\" d=\"M149.73,-255.09C155.39,-248.16 164.62,-236.86 172.14,-227.63\"/>\n",
       "<polygon fill=\"black\" stroke=\"black\" points=\"174.83,-229.88 178.44,-219.93 169.4,-225.46 174.83,-229.88\"/>\n",
       "</g>\n",
       "<!-- 12 -->\n",
       "<g id=\"node13\" class=\"node\">\n",
       "<title>12</title>\n",
       "<text text-anchor=\"middle\" x=\"259.5\" y=\"-207.8\" font-family=\"Times,serif\" font-size=\"14.00\">&lt;bufsize&gt;</text>\n",
       "</g>\n",
       "<!-- 1&#45;&gt;12 -->\n",
       "<g id=\"edge12\" class=\"edge\">\n",
       "<title>1&#45;&gt;12</title>\n",
       "<path fill=\"none\" stroke=\"black\" d=\"M159.53,-255.09C178.47,-247.02 211.3,-233.04 234.15,-223.3\"/>\n",
       "<polygon fill=\"black\" stroke=\"black\" points=\"235.24,-226.64 243.07,-219.5 232.5,-220.2 235.24,-226.64\"/>\n",
       "</g>\n",
       "<!-- 4 -->\n",
       "<g id=\"node5\" class=\"node\">\n",
       "<title>4</title>\n",
       "<text text-anchor=\"middle\" x=\"105.5\" y=\"-156.8\" font-family=\"Times,serif\" font-size=\"14.00\">&lt;int&gt;</text>\n",
       "</g>\n",
       "<!-- 3&#45;&gt;4 -->\n",
       "<g id=\"edge4\" class=\"edge\">\n",
       "<title>3&#45;&gt;4</title>\n",
       "<path fill=\"none\" stroke=\"black\" d=\"M105.5,-204.09C105.5,-197.75 105.5,-187.75 105.5,-179.03\"/>\n",
       "<polygon fill=\"black\" stroke=\"black\" points=\"109,-179.27 105.5,-169.27 102,-179.27 109,-179.27\"/>\n",
       "</g>\n",
       "<!-- 5 -->\n",
       "<g id=\"node6\" class=\"node\">\n",
       "<title>5</title>\n",
       "<text text-anchor=\"middle\" x=\"42.5\" y=\"-105.8\" font-family=\"Times,serif\" font-size=\"14.00\">&lt;leaddigit&gt;</text>\n",
       "</g>\n",
       "<!-- 4&#45;&gt;5 -->\n",
       "<g id=\"edge5\" class=\"edge\">\n",
       "<title>4&#45;&gt;5</title>\n",
       "<path fill=\"none\" stroke=\"black\" d=\"M97.26,-153.09C87.68,-145.64 71.62,-133.15 59.36,-123.61\"/>\n",
       "<polygon fill=\"black\" stroke=\"black\" points=\"61.78,-121.06 51.73,-117.68 57.48,-126.58 61.78,-121.06\"/>\n",
       "</g>\n",
       "<!-- 7 -->\n",
       "<g id=\"node8\" class=\"node\">\n",
       "<title>7</title>\n",
       "<text text-anchor=\"middle\" x=\"116.5\" y=\"-105.8\" font-family=\"Times,serif\" font-size=\"14.00\">&lt;digits&gt;</text>\n",
       "</g>\n",
       "<!-- 4&#45;&gt;7 -->\n",
       "<g id=\"edge7\" class=\"edge\">\n",
       "<title>4&#45;&gt;7</title>\n",
       "<path fill=\"none\" stroke=\"black\" d=\"M106.94,-153.09C108.38,-146.68 110.66,-136.51 112.63,-127.73\"/>\n",
       "<polygon fill=\"black\" stroke=\"black\" points=\"115.99,-128.75 114.76,-118.23 109.16,-127.22 115.99,-128.75\"/>\n",
       "</g>\n",
       "<!-- 6 -->\n",
       "<g id=\"node7\" class=\"node\">\n",
       "<title>6</title>\n",
       "<text text-anchor=\"middle\" x=\"42.5\" y=\"-54.8\" font-family=\"Times,serif\" font-size=\"14.00\">1 (49)</text>\n",
       "</g>\n",
       "<!-- 5&#45;&gt;6 -->\n",
       "<g id=\"edge6\" class=\"edge\">\n",
       "<title>5&#45;&gt;6</title>\n",
       "<path fill=\"none\" stroke=\"black\" d=\"M42.5,-102.09C42.5,-95.75 42.5,-85.75 42.5,-77.03\"/>\n",
       "<polygon fill=\"black\" stroke=\"black\" points=\"46,-77.27 42.5,-67.27 39,-77.27 46,-77.27\"/>\n",
       "</g>\n",
       "<!-- 8 -->\n",
       "<g id=\"node9\" class=\"node\">\n",
       "<title>8</title>\n",
       "<text text-anchor=\"middle\" x=\"107.5\" y=\"-54.8\" font-family=\"Times,serif\" font-size=\"14.00\">&lt;digit&gt;</text>\n",
       "</g>\n",
       "<!-- 7&#45;&gt;8 -->\n",
       "<g id=\"edge8\" class=\"edge\">\n",
       "<title>7&#45;&gt;8</title>\n",
       "<path fill=\"none\" stroke=\"black\" d=\"M115.32,-102.09C114.16,-95.75 112.32,-85.75 110.72,-77.03\"/>\n",
       "<polygon fill=\"black\" stroke=\"black\" points=\"114.17,-76.44 108.92,-67.24 107.29,-77.71 114.17,-76.44\"/>\n",
       "</g>\n",
       "<!-- 10 -->\n",
       "<g id=\"node11\" class=\"node\">\n",
       "<title>10</title>\n",
       "<text text-anchor=\"middle\" x=\"170.5\" y=\"-54.8\" font-family=\"Times,serif\" font-size=\"14.00\">&lt;digits&gt;</text>\n",
       "</g>\n",
       "<!-- 7&#45;&gt;10 -->\n",
       "<g id=\"edge10\" class=\"edge\">\n",
       "<title>7&#45;&gt;10</title>\n",
       "<path fill=\"none\" stroke=\"black\" d=\"M123.56,-102.09C131.53,-94.86 144.73,-82.89 155.1,-73.47\"/>\n",
       "<polygon fill=\"black\" stroke=\"black\" points=\"157.43,-76.08 162.49,-66.77 152.73,-70.9 157.43,-76.08\"/>\n",
       "</g>\n",
       "<!-- 9 -->\n",
       "<g id=\"node10\" class=\"node\">\n",
       "<title>9</title>\n",
       "<text text-anchor=\"middle\" x=\"107.5\" y=\"-3.8\" font-family=\"Times,serif\" font-size=\"14.00\">2 (50)</text>\n",
       "</g>\n",
       "<!-- 8&#45;&gt;9 -->\n",
       "<g id=\"edge9\" class=\"edge\">\n",
       "<title>8&#45;&gt;9</title>\n",
       "<path fill=\"none\" stroke=\"black\" d=\"M107.5,-51.09C107.5,-44.75 107.5,-34.75 107.5,-26.03\"/>\n",
       "<polygon fill=\"black\" stroke=\"black\" points=\"111,-26.27 107.5,-16.27 104,-26.27 111,-26.27\"/>\n",
       "</g>\n",
       "<!-- 13 -->\n",
       "<g id=\"node14\" class=\"node\">\n",
       "<title>13</title>\n",
       "<text text-anchor=\"middle\" x=\"259.5\" y=\"-156.8\" font-family=\"Times,serif\" font-size=\"14.00\">&lt;int&gt;</text>\n",
       "</g>\n",
       "<!-- 12&#45;&gt;13 -->\n",
       "<g id=\"edge13\" class=\"edge\">\n",
       "<title>12&#45;&gt;13</title>\n",
       "<path fill=\"none\" stroke=\"black\" d=\"M259.5,-204.09C259.5,-197.75 259.5,-187.75 259.5,-179.03\"/>\n",
       "<polygon fill=\"black\" stroke=\"black\" points=\"263,-179.27 259.5,-169.27 256,-179.27 263,-179.27\"/>\n",
       "</g>\n",
       "<!-- 14 -->\n",
       "<g id=\"node15\" class=\"node\">\n",
       "<title>14</title>\n",
       "<text text-anchor=\"middle\" x=\"249.5\" y=\"-105.8\" font-family=\"Times,serif\" font-size=\"14.00\">&lt;leaddigit&gt;</text>\n",
       "</g>\n",
       "<!-- 13&#45;&gt;14 -->\n",
       "<g id=\"edge14\" class=\"edge\">\n",
       "<title>13&#45;&gt;14</title>\n",
       "<path fill=\"none\" stroke=\"black\" d=\"M258.19,-153.09C256.9,-146.75 254.86,-136.75 253.08,-128.03\"/>\n",
       "<polygon fill=\"black\" stroke=\"black\" points=\"256.51,-127.33 251.08,-118.24 249.65,-128.73 256.51,-127.33\"/>\n",
       "</g>\n",
       "<!-- 16 -->\n",
       "<g id=\"node17\" class=\"node\">\n",
       "<title>16</title>\n",
       "<text text-anchor=\"middle\" x=\"323.5\" y=\"-105.8\" font-family=\"Times,serif\" font-size=\"14.00\">&lt;digits&gt;</text>\n",
       "</g>\n",
       "<!-- 13&#45;&gt;16 -->\n",
       "<g id=\"edge16\" class=\"edge\">\n",
       "<title>13&#45;&gt;16</title>\n",
       "<path fill=\"none\" stroke=\"black\" d=\"M267.87,-153.09C277.6,-145.64 293.92,-133.15 306.37,-123.61\"/>\n",
       "<polygon fill=\"black\" stroke=\"black\" points=\"308.32,-126.53 314.13,-117.67 304.06,-120.97 308.32,-126.53\"/>\n",
       "</g>\n",
       "<!-- 15 -->\n",
       "<g id=\"node16\" class=\"node\">\n",
       "<title>15</title>\n",
       "<text text-anchor=\"middle\" x=\"249.5\" y=\"-54.8\" font-family=\"Times,serif\" font-size=\"14.00\">3 (51)</text>\n",
       "</g>\n",
       "<!-- 14&#45;&gt;15 -->\n",
       "<g id=\"edge15\" class=\"edge\">\n",
       "<title>14&#45;&gt;15</title>\n",
       "<path fill=\"none\" stroke=\"black\" d=\"M249.5,-102.09C249.5,-95.75 249.5,-85.75 249.5,-77.03\"/>\n",
       "<polygon fill=\"black\" stroke=\"black\" points=\"253,-77.27 249.5,-67.27 246,-77.27 253,-77.27\"/>\n",
       "</g>\n",
       "<!-- 17 -->\n",
       "<g id=\"node18\" class=\"node\">\n",
       "<title>17</title>\n",
       "<text text-anchor=\"middle\" x=\"314.5\" y=\"-54.8\" font-family=\"Times,serif\" font-size=\"14.00\">&lt;digit&gt;</text>\n",
       "</g>\n",
       "<!-- 16&#45;&gt;17 -->\n",
       "<g id=\"edge17\" class=\"edge\">\n",
       "<title>16&#45;&gt;17</title>\n",
       "<path fill=\"none\" stroke=\"black\" d=\"M322.32,-102.09C321.16,-95.75 319.32,-85.75 317.72,-77.03\"/>\n",
       "<polygon fill=\"black\" stroke=\"black\" points=\"321.17,-76.44 315.92,-67.24 314.29,-77.71 321.17,-76.44\"/>\n",
       "</g>\n",
       "<!-- 19 -->\n",
       "<g id=\"node20\" class=\"node\">\n",
       "<title>19</title>\n",
       "<text text-anchor=\"middle\" x=\"377.5\" y=\"-54.8\" font-family=\"Times,serif\" font-size=\"14.00\">&lt;digits&gt;</text>\n",
       "</g>\n",
       "<!-- 16&#45;&gt;19 -->\n",
       "<g id=\"edge19\" class=\"edge\">\n",
       "<title>16&#45;&gt;19</title>\n",
       "<path fill=\"none\" stroke=\"black\" d=\"M330.56,-102.09C338.53,-94.86 351.73,-82.89 362.1,-73.47\"/>\n",
       "<polygon fill=\"black\" stroke=\"black\" points=\"364.43,-76.08 369.49,-66.77 359.73,-70.9 364.43,-76.08\"/>\n",
       "</g>\n",
       "<!-- 18 -->\n",
       "<g id=\"node19\" class=\"node\">\n",
       "<title>18</title>\n",
       "<text text-anchor=\"middle\" x=\"314.5\" y=\"-3.8\" font-family=\"Times,serif\" font-size=\"14.00\">4 (52)</text>\n",
       "</g>\n",
       "<!-- 17&#45;&gt;18 -->\n",
       "<g id=\"edge18\" class=\"edge\">\n",
       "<title>17&#45;&gt;18</title>\n",
       "<path fill=\"none\" stroke=\"black\" d=\"M314.5,-51.09C314.5,-44.75 314.5,-34.75 314.5,-26.03\"/>\n",
       "<polygon fill=\"black\" stroke=\"black\" points=\"318,-26.27 314.5,-16.27 311,-26.27 318,-26.27\"/>\n",
       "</g>\n",
       "</g>\n",
       "</svg>\n"
      ],
      "text/plain": [
       "<graphviz.graphs.Digraph at 0x137544cd0>"
      ]
     },
     "execution_count": 43,
     "metadata": {},
     "output_type": "execute_result"
    }
   ],
   "source": [
    "# ignore\n",
    "inp = 'pagesize=12\\nbufsize=34'\n",
    "parser = EarleyParser(CONFIG_GRAMMAR)\n",
    "tree = next(parser.parse(inp))\n",
    "display_tree(tree)"
   ]
  },
  {
   "cell_type": "markdown",
   "id": "09303e40",
   "metadata": {
    "slideshow": {
     "slide_type": "fragment"
    }
   },
   "source": [
    "In this tree, the `.` syntax refers to _immediate_ children. `<bufsize>.<int>` is the one `<int>` node that is the immediate descendant of `<bufsize>` (but not any other `<int>` node).\n",
    "In contrast, `<config>..<digit>` refers to _all_ `<digit>` descendants of the `<config>` node."
   ]
  },
  {
   "cell_type": "markdown",
   "id": "d0499b87",
   "metadata": {
    "slideshow": {
     "slide_type": "subslide"
    }
   },
   "source": [
    "If an element has multiple *immediate* children of the same type, one can use the special `<a>[$n$]` syntax to access the $n$-th child of type `<a>`. To access the first child, $n$ is equal to one, not zero, as in the [XPath abbreviated syntax](https://www.w3.org/TR/1999/REC-xpath-19991116/#path-abbrev). In our configuration grammar, there is no expansion including the same nonterminal more than once, so we do not need this feature.\n",
    "\n",
    "For a demonstration of indexed dots, consider the following grammar, which produces lines of three \"a\" or \"b\" characters:"
   ]
  },
  {
   "cell_type": "code",
   "execution_count": 44,
   "id": "bc2d3bc1-6bc5-4263-98e1-34bd8ce74ef5",
   "metadata": {
    "execution": {
     "iopub.execute_input": "2023-01-07T14:19:06.556339Z",
     "iopub.status.busy": "2023-01-07T14:19:06.556039Z",
     "iopub.status.idle": "2023-01-07T14:19:06.557146Z",
     "shell.execute_reply": "2023-01-07T14:19:06.557385Z"
    },
    "slideshow": {
     "slide_type": "fragment"
    }
   },
   "outputs": [],
   "source": [
    "LINES_OF_THREE_AS_OR_BS_GRAMMAR: Grammar = {\n",
    "    '<start>': ['<A>'],\n",
    "    '<A>': ['<B><B><B>', '<B><B><B>\\n<A>'],\n",
    "    '<B>': ['a', 'b']\n",
    "}"
   ]
  },
  {
   "cell_type": "code",
   "execution_count": 45,
   "id": "f8854080-828a-4964-b10e-6446a233704d",
   "metadata": {
    "execution": {
     "iopub.execute_input": "2023-01-07T14:19:06.560615Z",
     "iopub.status.busy": "2023-01-07T14:19:06.560106Z",
     "iopub.status.idle": "2023-01-07T14:19:06.562163Z",
     "shell.execute_reply": "2023-01-07T14:19:06.562460Z"
    },
    "slideshow": {
     "slide_type": "subslide"
    }
   },
   "outputs": [
    {
     "name": "stdout",
     "output_type": "stream",
     "text": [
      "0\n",
      "aab\n",
      "bab\n",
      "1\n",
      "aaa\n",
      "aba\n",
      "2\n",
      "aba\n",
      "baa\n",
      "bba\n",
      "3\n",
      "bbb\n",
      "abb\n",
      "4\n",
      "baa\n"
     ]
    }
   ],
   "source": [
    "fuzzer = GrammarFuzzer(LINES_OF_THREE_AS_OR_BS_GRAMMAR)\n",
    "for i in range(5):\n",
    "    print(i)\n",
    "    print(fuzzer.fuzz())"
   ]
  },
  {
   "cell_type": "markdown",
   "id": "17c97d39-c2f4-4865-be3f-6da2f6a883ed",
   "metadata": {
    "slideshow": {
     "slide_type": "subslide"
    }
   },
   "source": [
    "We can force, say, the second character in a line to always be a \"b:\""
   ]
  },
  {
   "cell_type": "code",
   "execution_count": 46,
   "id": "deec24f2",
   "metadata": {
    "execution": {
     "iopub.execute_input": "2023-01-07T14:19:06.566283Z",
     "iopub.status.busy": "2023-01-07T14:19:06.565964Z",
     "iopub.status.idle": "2023-01-07T14:19:07.305786Z",
     "shell.execute_reply": "2023-01-07T14:19:07.306005Z"
    },
    "slideshow": {
     "slide_type": "subslide"
    }
   },
   "outputs": [
    {
     "name": "stdout",
     "output_type": "stream",
     "text": [
      "0\n",
      "abb\n",
      "1\n",
      "bbb\n",
      "2\n",
      "abb\n",
      "3\n",
      "bbb\n",
      "4\n",
      "abb\n"
     ]
    }
   ],
   "source": [
    "solver = ISLaSolver(LINES_OF_THREE_AS_OR_BS_GRAMMAR, \n",
    "            '''\n",
    "            <A>.<B>[2] = \"b\"\n",
    "            ''')\n",
    "\n",
    "for i in range(5):\n",
    "    print(i)\n",
    "    print(solver.solve())"
   ]
  },
  {
   "cell_type": "markdown",
   "id": "31ab7ada",
   "metadata": {
    "slideshow": {
     "slide_type": "slide"
    }
   },
   "source": [
    "## Quantifiers"
   ]
  },
  {
   "cell_type": "markdown",
   "id": "83d5b6c4",
   "metadata": {
    "slideshow": {
     "slide_type": "fragment"
    }
   },
   "source": [
    "By default, all nonterminals in ISLa constraints are _universally_ quantified - that is, any constraint applying to, say, some `<int>` element applies to _all_ `<int>` elements in the resulting string.\n",
    "If you only want to constrain _one_ element, though, you have to (and can) specify this in ISLa, using an _existential quantifier_."
   ]
  },
  {
   "cell_type": "markdown",
   "id": "7d6886c3",
   "metadata": {
    "slideshow": {
     "slide_type": "subslide"
    }
   },
   "source": [
    "To use an existential quantifier in ISLa, use the construct\n",
    "```\n",
    "exists TYPE VARIABLE in CONTEXT:\n",
    "    (CONSTRAINT)\n",
    "```\n",
    "where `VARIABLE` is some identifier, `TYPE` is its type (as a nonterminal), and `CONTEXT` is the context (again a nonterminal) in which the constraint should hold.\n",
    "`CONSTRAINT` is again a constraint expression, in which you now can make use of `VARIABLE` as the element whose existence you assume."
   ]
  },
  {
   "cell_type": "markdown",
   "id": "baeb1c1e",
   "metadata": {
    "slideshow": {
     "slide_type": "subslide"
    }
   },
   "source": [
    "Let us illustrate existential quantification again using a simple example.\n",
    "We want to make sure that at least one integer in our generated string has a value of more than 1000.\n",
    "So we write"
   ]
  },
  {
   "cell_type": "code",
   "execution_count": 47,
   "id": "63263e05",
   "metadata": {
    "execution": {
     "iopub.execute_input": "2023-01-07T14:19:07.311172Z",
     "iopub.status.busy": "2023-01-07T14:19:07.310870Z",
     "iopub.status.idle": "2023-01-07T14:19:08.335280Z",
     "shell.execute_reply": "2023-01-07T14:19:08.335573Z"
    },
    "slideshow": {
     "slide_type": "subslide"
    }
   },
   "outputs": [
    {
     "name": "stdout",
     "output_type": "stream",
     "text": [
      "pagesize=8008\n",
      "bufsize=5\n",
      "pagesize=8008\n",
      "bufsize=2280617349521\n",
      "pagesize=8008\n",
      "bufsize=8\n",
      "pagesize=8008\n",
      "bufsize=7\n",
      "pagesize=8008\n",
      "bufsize=3\n",
      "pagesize=8008\n",
      "bufsize=93\n",
      "pagesize=8008\n",
      "bufsize=630\n",
      "pagesize=8008\n",
      "bufsize=4\n",
      "pagesize=8008\n",
      "bufsize=14\n",
      "pagesize=8008\n",
      "bufsize=5\n"
     ]
    }
   ],
   "source": [
    "solver = ISLaSolver(CONFIG_GRAMMAR, \n",
    "            '''\n",
    "            exists <int> i in <start>:\n",
    "                str.to.int(i) > 1000\n",
    "            ''')\n",
    "\n",
    "for _ in range(10):\n",
    "    print(solver.solve())"
   ]
  },
  {
   "cell_type": "markdown",
   "id": "79f8e04e",
   "metadata": {
    "slideshow": {
     "slide_type": "subslide"
    }
   },
   "source": [
    "We note that all generated inputs satisfy the constraint of having at least one integer that satisfies the constraint."
   ]
  },
  {
   "cell_type": "markdown",
   "id": "396f6948-dfc9-426f-901d-b518e1196242",
   "metadata": {
    "slideshow": {
     "slide_type": "fragment"
    }
   },
   "source": [
    "Specifying a variable name is optional; if you omit it, you can use the quantified nonterminal instead.\n",
    "The above constraint can thus also be expressed in a more compact fashion:"
   ]
  },
  {
   "cell_type": "code",
   "execution_count": 48,
   "id": "65046282-1b38-4310-b79e-fc05907d39c1",
   "metadata": {
    "execution": {
     "iopub.execute_input": "2023-01-07T14:19:08.339182Z",
     "iopub.status.busy": "2023-01-07T14:19:08.338753Z",
     "iopub.status.idle": "2023-01-07T14:19:09.379565Z",
     "shell.execute_reply": "2023-01-07T14:19:09.379833Z"
    },
    "slideshow": {
     "slide_type": "subslide"
    }
   },
   "outputs": [
    {
     "name": "stdout",
     "output_type": "stream",
     "text": [
      "pagesize=1048\n",
      "bufsize=64\n"
     ]
    }
   ],
   "source": [
    "solver = ISLaSolver(CONFIG_GRAMMAR, \n",
    "            '''\n",
    "            exists <int> in <start>:\n",
    "                str.to.int(<int>) > 1000\n",
    "            ''')\n",
    "\n",
    "print(solver.solve())"
   ]
  },
  {
   "cell_type": "markdown",
   "id": "fa61bece",
   "metadata": {
    "slideshow": {
     "slide_type": "fragment"
    }
   },
   "source": [
    "Besides existential quantification, there also is _universal_ quantification, using the `forall` keyword instead of `exists`.\n",
    "If we want _all_ elements in some context to satisfy a constraint, this comes in handy."
   ]
  },
  {
   "cell_type": "code",
   "execution_count": 49,
   "id": "5c83ead2",
   "metadata": {
    "execution": {
     "iopub.execute_input": "2023-01-07T14:19:09.384253Z",
     "iopub.status.busy": "2023-01-07T14:19:09.383857Z",
     "iopub.status.idle": "2023-01-07T14:19:10.657112Z",
     "shell.execute_reply": "2023-01-07T14:19:10.657356Z"
    },
    "slideshow": {
     "slide_type": "subslide"
    }
   },
   "outputs": [
    {
     "name": "stdout",
     "output_type": "stream",
     "text": [
      "pagesize=1822\n",
      "bufsize=2000\n",
      "pagesize=1822\n",
      "bufsize=1002\n",
      "pagesize=1822\n",
      "bufsize=2002\n",
      "pagesize=1822\n",
      "bufsize=2003\n",
      "pagesize=1822\n",
      "bufsize=8002\n",
      "pagesize=1822\n",
      "bufsize=2004\n",
      "pagesize=1822\n",
      "bufsize=2006\n",
      "pagesize=1822\n",
      "bufsize=8402\n",
      "pagesize=1822\n",
      "bufsize=1020\n",
      "pagesize=1822\n",
      "bufsize=8003\n"
     ]
    }
   ],
   "source": [
    "solver = ISLaSolver(CONFIG_GRAMMAR, \n",
    "            '''\n",
    "            forall <int> in <start>:\n",
    "                str.to.int(<int>) > 1000\n",
    "            ''')\n",
    "\n",
    "for _ in range(10):\n",
    "    print(solver.solve())"
   ]
  },
  {
   "cell_type": "markdown",
   "id": "5680dc33",
   "metadata": {
    "slideshow": {
     "slide_type": "subslide"
    }
   },
   "source": [
    "We see that all `<int>` elements satisfy the constraint."
   ]
  },
  {
   "attachments": {},
   "cell_type": "markdown",
   "id": "8d85d1d4",
   "metadata": {
    "slideshow": {
     "slide_type": "fragment"
    }
   },
   "source": [
    "By default, all nonterminals that are re-used directly in constraints are universally quantified within the `<start>` symbol, so the above can actually be simplified to"
   ]
  },
  {
   "cell_type": "code",
   "execution_count": 50,
   "id": "779634a6",
   "metadata": {
    "execution": {
     "iopub.execute_input": "2023-01-07T14:19:10.660507Z",
     "iopub.status.busy": "2023-01-07T14:19:10.660129Z",
     "iopub.status.idle": "2023-01-07T14:19:11.928171Z",
     "shell.execute_reply": "2023-01-07T14:19:11.928420Z"
    },
    "slideshow": {
     "slide_type": "subslide"
    }
   },
   "outputs": [
    {
     "name": "stdout",
     "output_type": "stream",
     "text": [
      "pagesize=8440\n",
      "bufsize=2080\n",
      "pagesize=8440\n",
      "bufsize=4202\n",
      "pagesize=8440\n",
      "bufsize=4028\n",
      "pagesize=8440\n",
      "bufsize=4042\n",
      "pagesize=8440\n",
      "bufsize=2044\n",
      "pagesize=8440\n",
      "bufsize=2022\n",
      "pagesize=8440\n",
      "bufsize=8028\n",
      "pagesize=8440\n",
      "bufsize=1084\n",
      "pagesize=8440\n",
      "bufsize=8022\n",
      "pagesize=8440\n",
      "bufsize=4008\n"
     ]
    }
   ],
   "source": [
    "solver = ISLaSolver(CONFIG_GRAMMAR, \n",
    "            '''\n",
    "            str.to.int(<int>) > 1000\n",
    "            ''')\n",
    "\n",
    "for _ in range(10):\n",
    "    print(solver.solve())"
   ]
  },
  {
   "cell_type": "markdown",
   "id": "907bc023",
   "metadata": {
    "slideshow": {
     "slide_type": "subslide"
    }
   },
   "source": [
    "... and you realize that in all our initial constraints, we always had an implicit universal quantification."
   ]
  },
  {
   "cell_type": "markdown",
   "id": "a37cf34a",
   "metadata": {
    "slideshow": {
     "slide_type": "slide"
    }
   },
   "source": [
    "## Picking Expansions"
   ]
  },
  {
   "cell_type": "markdown",
   "id": "fb094f75",
   "metadata": {
    "slideshow": {
     "slide_type": "fragment"
    }
   },
   "source": [
    "Sometimes, we'd like a quantifier to apply only for a specific expansion alternative of a nonterminal.\n",
    "The form\n",
    "```\n",
    "forall TYPE VARIABLE=PATTERN in CONTEXT:\n",
    "    (CONSTRAINT)\n",
    "```\n",
    "means that the CONSTRAINT only applies to a VARIABLE that actually matches the expansion given in PATTERN.\n",
    "(Again, we can replace `forall` with `exists`, and make this an existential quantification rather than a universal quantification.)"
   ]
  },
  {
   "cell_type": "markdown",
   "id": "ac94fbc7-3c94-4f91-8f95-c78a58f26c6f",
   "metadata": {
    "slideshow": {
     "slide_type": "fragment"
    }
   },
   "source": [
    "Here's an example of using `forall`:"
   ]
  },
  {
   "cell_type": "code",
   "execution_count": 51,
   "id": "6674fafe",
   "metadata": {
    "execution": {
     "iopub.execute_input": "2023-01-07T14:19:11.935240Z",
     "iopub.status.busy": "2023-01-07T14:19:11.934918Z",
     "iopub.status.idle": "2023-01-07T14:19:11.937903Z",
     "shell.execute_reply": "2023-01-07T14:19:11.938380Z"
    },
    "slideshow": {
     "slide_type": "subslide"
    }
   },
   "outputs": [],
   "source": [
    "solver = ISLaSolver(CONFIG_GRAMMAR, \n",
    "            '''\n",
    "            forall <int>=\"<leaddigit><digits>\" in <start>:\n",
    "                (<leaddigit> = \"7\")\n",
    "            ''')"
   ]
  },
  {
   "cell_type": "markdown",
   "id": "46da2aae",
   "metadata": {
    "slideshow": {
     "slide_type": "fragment"
    }
   },
   "source": [
    "This ensures that when `<int>` is expanded to a lead digit followed by more digits, the lead digit becomes `7`.\n",
    "The effect is that all `<int>` values now start with a `7` digit:"
   ]
  },
  {
   "cell_type": "code",
   "execution_count": 52,
   "id": "4bd0d0b0",
   "metadata": {
    "execution": {
     "iopub.execute_input": "2023-01-07T14:19:11.941370Z",
     "iopub.status.busy": "2023-01-07T14:19:11.940991Z",
     "iopub.status.idle": "2023-01-07T14:19:12.693415Z",
     "shell.execute_reply": "2023-01-07T14:19:12.693673Z"
    },
    "slideshow": {
     "slide_type": "fragment"
    }
   },
   "outputs": [
    {
     "data": {
      "text/plain": [
       "'pagesize=71\\nbufsize=770835426929713'"
      ]
     },
     "execution_count": 52,
     "metadata": {},
     "output_type": "execute_result"
    }
   ],
   "source": [
    "str(solver.solve())"
   ]
  },
  {
   "cell_type": "markdown",
   "id": "8934e88e",
   "metadata": {
    "slideshow": {
     "slide_type": "fragment"
    }
   },
   "source": [
    "Likewise, we can constrain `<int>` as a whole, and thus ensure that all numbers are greater than 100:"
   ]
  },
  {
   "cell_type": "code",
   "execution_count": 53,
   "id": "5725feab-1f54-476b-bf26-98a35b1fb406",
   "metadata": {
    "execution": {
     "iopub.execute_input": "2023-01-07T14:19:12.699548Z",
     "iopub.status.busy": "2023-01-07T14:19:12.699242Z",
     "iopub.status.idle": "2023-01-07T14:19:13.935778Z",
     "shell.execute_reply": "2023-01-07T14:19:13.936028Z"
    },
    "slideshow": {
     "slide_type": "subslide"
    }
   },
   "outputs": [
    {
     "data": {
      "text/plain": [
       "'pagesize=8000\\nbufsize=102'"
      ]
     },
     "execution_count": 53,
     "metadata": {},
     "output_type": "execute_result"
    }
   ],
   "source": [
    "solver = ISLaSolver(CONFIG_GRAMMAR, \n",
    "            '''\n",
    "            forall <int> in <start>:\n",
    "                (str.to.int(<int>) > 100)\n",
    "            ''')\n",
    "\n",
    "str(solver.solve())"
   ]
  },
  {
   "cell_type": "markdown",
   "id": "597e2b5c-c43a-4230-ad64-0aa333930d63",
   "metadata": {
    "slideshow": {
     "slide_type": "fragment"
    }
   },
   "source": [
    "By default, all variables are universally quantified in `<start>`, so the above can also be expressed as"
   ]
  },
  {
   "cell_type": "code",
   "execution_count": 54,
   "id": "9fff23c3-822c-402a-b1f7-0f23caf3b5c6",
   "metadata": {
    "execution": {
     "iopub.execute_input": "2023-01-07T14:19:13.938974Z",
     "iopub.status.busy": "2023-01-07T14:19:13.938668Z",
     "iopub.status.idle": "2023-01-07T14:19:15.162151Z",
     "shell.execute_reply": "2023-01-07T14:19:15.162446Z"
    },
    "slideshow": {
     "slide_type": "subslide"
    }
   },
   "outputs": [
    {
     "data": {
      "text/plain": [
       "'pagesize=1022\\nbufsize=8082'"
      ]
     },
     "execution_count": 54,
     "metadata": {},
     "output_type": "execute_result"
    }
   ],
   "source": [
    "solver = ISLaSolver(CONFIG_GRAMMAR, \n",
    "            '''\n",
    "            str.to.int(<int>) > 100\n",
    "            ''')\n",
    "\n",
    "str(solver.solve())"
   ]
  },
  {
   "cell_type": "markdown",
   "id": "6217547d",
   "metadata": {
    "slideshow": {
     "slide_type": "slide"
    }
   },
   "source": [
    "## Matching Expansion Elements"
   ]
  },
  {
   "attachments": {},
   "cell_type": "markdown",
   "id": "3068a08a",
   "metadata": {
    "slideshow": {
     "slide_type": "fragment"
    }
   },
   "source": [
    "In a quantification pattern, we can also _name_ individual nonterminal elements and use them in our constraints.\n",
    "This is done by replacing the nonterminal `<ID>` with the special form `{<ID> VARIABLE}` (in curly braces) which then makes the variable `VARIABLE` a placeholder for the value matched by `ID`; `VARIABLE` can then be used in constraints."
   ]
  },
  {
   "cell_type": "markdown",
   "id": "59d96553",
   "metadata": {
    "slideshow": {
     "slide_type": "fragment"
    }
   },
   "source": [
    "Here is an example. In the expansion `<leaddigit><int>`, we want to ensure that the `<leaddigit>` is always `9`.\n",
    "Using the special brace form, we make `lead` a variable holding the value of `<leaddigit>`, and can then use it in a constraint:"
   ]
  },
  {
   "cell_type": "code",
   "execution_count": 55,
   "id": "5c6efe08",
   "metadata": {
    "execution": {
     "iopub.execute_input": "2023-01-07T14:19:15.168403Z",
     "iopub.status.busy": "2023-01-07T14:19:15.168090Z",
     "iopub.status.idle": "2023-01-07T14:19:15.171424Z",
     "shell.execute_reply": "2023-01-07T14:19:15.171627Z"
    },
    "slideshow": {
     "slide_type": "subslide"
    }
   },
   "outputs": [],
   "source": [
    "solver = ISLaSolver(CONFIG_GRAMMAR, \n",
    "            '''\n",
    "            forall <int> i=\"{<leaddigit> lead}<digits>\" in <start>:\n",
    "                (lead = \"9\")\n",
    "            ''')"
   ]
  },
  {
   "cell_type": "markdown",
   "id": "146beb34",
   "metadata": {
    "slideshow": {
     "slide_type": "fragment"
    }
   },
   "source": [
    "This (again) ensures that all lead digits should be `9`:"
   ]
  },
  {
   "cell_type": "code",
   "execution_count": 56,
   "id": "704eb3c3",
   "metadata": {
    "execution": {
     "iopub.execute_input": "2023-01-07T14:19:15.176062Z",
     "iopub.status.busy": "2023-01-07T14:19:15.174201Z",
     "iopub.status.idle": "2023-01-07T14:19:15.932311Z",
     "shell.execute_reply": "2023-01-07T14:19:15.932686Z"
    },
    "slideshow": {
     "slide_type": "subslide"
    }
   },
   "outputs": [
    {
     "name": "stdout",
     "output_type": "stream",
     "text": [
      "pagesize=92\n",
      "bufsize=9168435097796\n",
      "pagesize=9\n",
      "bufsize=9188\n",
      "pagesize=981\n",
      "bufsize=999\n",
      "pagesize=9\n",
      "bufsize=9\n",
      "pagesize=9\n",
      "bufsize=9\n",
      "pagesize=9\n",
      "bufsize=9\n",
      "pagesize=91\n",
      "bufsize=9\n",
      "pagesize=9\n",
      "bufsize=9\n",
      "pagesize=90\n",
      "bufsize=9\n",
      "pagesize=9\n",
      "bufsize=9242\n"
     ]
    }
   ],
   "source": [
    "for _ in range(10):\n",
    "    print(solver.solve())"
   ]
  },
  {
   "cell_type": "markdown",
   "id": "366bac30-feb1-4bac-8991-077e94c17067",
   "metadata": {
    "slideshow": {
     "slide_type": "subslide"
    }
   },
   "source": [
    "Could we express the above in a simpler fashion? Yes! For one, we can refer to `<leaddigit>` directly rather than introducing variables like `i` and `lead`:"
   ]
  },
  {
   "cell_type": "code",
   "execution_count": 57,
   "id": "b58e065d-ef7d-4320-971c-6feec74fc715",
   "metadata": {
    "execution": {
     "iopub.execute_input": "2023-01-07T14:19:15.937038Z",
     "iopub.status.busy": "2023-01-07T14:19:15.936722Z",
     "iopub.status.idle": "2023-01-07T14:19:16.690974Z",
     "shell.execute_reply": "2023-01-07T14:19:16.691172Z"
    },
    "slideshow": {
     "slide_type": "fragment"
    }
   },
   "outputs": [
    {
     "name": "stdout",
     "output_type": "stream",
     "text": [
      "pagesize=9\n",
      "bufsize=941890257631\n"
     ]
    }
   ],
   "source": [
    "solver = ISLaSolver(CONFIG_GRAMMAR, \n",
    "            '''\n",
    "            forall <int>=\"<leaddigit><digits>\" in <start>:\n",
    "                (<leaddigit> = \"9\")\n",
    "            ''')\n",
    "print(solver.solve())"
   ]
  },
  {
   "cell_type": "markdown",
   "id": "3ef24b8f",
   "metadata": {
    "slideshow": {
     "slide_type": "fragment"
    }
   },
   "source": [
    "Furthermore, using implicit universal quantification and the dot notation introduced earlier, we could write, for instance"
   ]
  },
  {
   "cell_type": "code",
   "execution_count": 58,
   "id": "73834f05",
   "metadata": {
    "execution": {
     "iopub.execute_input": "2023-01-07T14:19:16.698771Z",
     "iopub.status.busy": "2023-01-07T14:19:16.694232Z",
     "iopub.status.idle": "2023-01-07T14:19:17.462062Z",
     "shell.execute_reply": "2023-01-07T14:19:17.462325Z"
    },
    "slideshow": {
     "slide_type": "subslide"
    }
   },
   "outputs": [
    {
     "name": "stdout",
     "output_type": "stream",
     "text": [
      "pagesize=99\n",
      "bufsize=9501387624\n"
     ]
    }
   ],
   "source": [
    "solver = ISLaSolver(CONFIG_GRAMMAR, \n",
    "            '''\n",
    "            <int>.<leaddigit> = \"9\"\n",
    "            ''')\n",
    "print(solver.solve())"
   ]
  },
  {
   "cell_type": "markdown",
   "id": "f87e3b47-2889-4171-a7fc-50b246e70463",
   "metadata": {
    "slideshow": {
     "slide_type": "fragment"
    }
   },
   "source": [
    "or just"
   ]
  },
  {
   "cell_type": "code",
   "execution_count": 59,
   "id": "175be19e-2112-4b5f-9bba-c658db6b4c82",
   "metadata": {
    "execution": {
     "iopub.execute_input": "2023-01-07T14:19:17.465682Z",
     "iopub.status.busy": "2023-01-07T14:19:17.465358Z",
     "iopub.status.idle": "2023-01-07T14:19:18.273375Z",
     "shell.execute_reply": "2023-01-07T14:19:18.273579Z"
    },
    "slideshow": {
     "slide_type": "subslide"
    }
   },
   "outputs": [
    {
     "name": "stdout",
     "output_type": "stream",
     "text": [
      "pagesize=98\n",
      "bufsize=93762401955\n"
     ]
    }
   ],
   "source": [
    "solver = ISLaSolver(CONFIG_GRAMMAR, \n",
    "            '''\n",
    "            <leaddigit> = \"9\"\n",
    "            ''')\n",
    "print(solver.solve())"
   ]
  },
  {
   "cell_type": "markdown",
   "id": "e2256f3a",
   "metadata": {
    "slideshow": {
     "slide_type": "fragment"
    }
   },
   "source": [
    "and obtain the same result (not necessarily the exact same values, though, due to randomness):"
   ]
  },
  {
   "cell_type": "markdown",
   "id": "7c09a756",
   "metadata": {
    "slideshow": {
     "slide_type": "fragment"
    }
   },
   "source": [
    "But while universal quantification and dot notation are sufficient for many cases, the pattern matching notation is more general and more flexible – even if it may be harder to read."
   ]
  },
  {
   "cell_type": "markdown",
   "id": "5957e659",
   "metadata": {
    "slideshow": {
     "slide_type": "slide"
    }
   },
   "source": [
    "## Checking Strings"
   ]
  },
  {
   "cell_type": "markdown",
   "id": "9fab7e00-3053-4f91-b782-d99c91e2f4a7",
   "metadata": {
    "slideshow": {
     "slide_type": "fragment"
    }
   },
   "source": [
    "Using an `ISLaSolver`, we can also check if an string satisfies the constraints.\n",
    "This can be applied to inputs, but also to _outputs_; ISLa constraints can thus server as _oracles_ – that is, _predicates_ that check a test result."
   ]
  },
  {
   "cell_type": "markdown",
   "id": "c264847b-998f-47cf-b5ac-ad37ba60fbdb",
   "metadata": {
    "slideshow": {
     "slide_type": "fragment"
    }
   },
   "source": [
    "Let us check if in a given string, `<pagesize>` and `<bufsize>` are the same."
   ]
  },
  {
   "cell_type": "code",
   "execution_count": 60,
   "id": "60085464",
   "metadata": {
    "execution": {
     "iopub.execute_input": "2023-01-07T14:19:18.276892Z",
     "iopub.status.busy": "2023-01-07T14:19:18.274960Z",
     "iopub.status.idle": "2023-01-07T14:19:18.279410Z",
     "shell.execute_reply": "2023-01-07T14:19:18.279676Z"
    },
    "slideshow": {
     "slide_type": "fragment"
    }
   },
   "outputs": [],
   "source": [
    "constraint = '<pagesize> = <bufsize>'\n",
    "solver = ISLaSolver(CONFIG_GRAMMAR, constraint)"
   ]
  },
  {
   "cell_type": "markdown",
   "id": "ea689310",
   "metadata": {
    "slideshow": {
     "slide_type": "fragment"
    }
   },
   "source": [
    "To check the tree, we can pass it into the `evaluate()` method of the `solver` – and find that the given input does _not_ satisfy our constraint."
   ]
  },
  {
   "cell_type": "code",
   "execution_count": 61,
   "id": "aae16603",
   "metadata": {
    "execution": {
     "iopub.execute_input": "2023-01-07T14:19:18.282652Z",
     "iopub.status.busy": "2023-01-07T14:19:18.282309Z",
     "iopub.status.idle": "2023-01-07T14:19:18.285707Z",
     "shell.execute_reply": "2023-01-07T14:19:18.285912Z"
    },
    "slideshow": {
     "slide_type": "fragment"
    }
   },
   "outputs": [
    {
     "data": {
      "text/plain": [
       "False"
      ]
     },
     "execution_count": 61,
     "metadata": {},
     "output_type": "execute_result"
    }
   ],
   "source": [
    "solver.check('pagesize=12\\nbufsize=34')"
   ]
  },
  {
   "cell_type": "markdown",
   "id": "bdae179d",
   "metadata": {
    "slideshow": {
     "slide_type": "subslide"
    }
   },
   "source": [
    "If we repeat the above, however, with an input that satisfies the constraint, we obtain a `True` result."
   ]
  },
  {
   "cell_type": "code",
   "execution_count": 62,
   "id": "3b4ab9e5",
   "metadata": {
    "execution": {
     "iopub.execute_input": "2023-01-07T14:19:18.288216Z",
     "iopub.status.busy": "2023-01-07T14:19:18.286978Z",
     "iopub.status.idle": "2023-01-07T14:19:18.290324Z",
     "shell.execute_reply": "2023-01-07T14:19:18.290556Z"
    },
    "slideshow": {
     "slide_type": "fragment"
    }
   },
   "outputs": [
    {
     "data": {
      "text/plain": [
       "True"
      ]
     },
     "execution_count": 62,
     "metadata": {},
     "output_type": "execute_result"
    }
   ],
   "source": [
    "solver.check('pagesize=27\\nbufsize=27')"
   ]
  },
  {
   "cell_type": "markdown",
   "id": "c146e9ff-b58c-4743-9d41-62a6d6eeecd7",
   "metadata": {
    "slideshow": {
     "slide_type": "fragment"
    }
   },
   "source": [
    "Checking constraints is much more efficient than solving them, as ISLa does not have to search for possible solutions."
   ]
  },
  {
   "cell_type": "markdown",
   "id": "0f8b28ce",
   "metadata": {
    "slideshow": {
     "slide_type": "slide"
    }
   },
   "source": [
    "## Case Studies\n",
    "\n",
    "Let us further illustrate ISLa using a few case studies."
   ]
  },
  {
   "cell_type": "markdown",
   "id": "7bf5464f",
   "metadata": {
    "slideshow": {
     "slide_type": "subslide"
    }
   },
   "source": [
    "### Matching Identifiers in XML"
   ]
  },
  {
   "cell_type": "markdown",
   "id": "20bd8738",
   "metadata": {
    "slideshow": {
     "slide_type": "fragment"
    }
   },
   "source": [
    "The Extensible Markup Language (XML) is a typical example of an input language that cannot be fully expressed using a context-free grammar.\n",
    "The problem is not so much expressing the _syntax_ of XML – the basics are fairly easy:"
   ]
  },
  {
   "cell_type": "code",
   "execution_count": 63,
   "id": "3aa33f37",
   "metadata": {
    "execution": {
     "iopub.execute_input": "2023-01-07T14:19:18.292817Z",
     "iopub.status.busy": "2023-01-07T14:19:18.292439Z",
     "iopub.status.idle": "2023-01-07T14:19:18.294093Z",
     "shell.execute_reply": "2023-01-07T14:19:18.294333Z"
    },
    "slideshow": {
     "slide_type": "fragment"
    }
   },
   "outputs": [],
   "source": [
    "XML_GRAMMAR: Grammar = {\n",
    "    \"<start>\": [\"<xml-tree>\"],\n",
    "    \"<xml-tree>\": [\"<open-tag><xml-content><close-tag>\"],\n",
    "    \"<open-tag>\": [\"<<id>>\"],\n",
    "    \"<close-tag>\": [\"</<id>>\"],\n",
    "    \"<xml-content>\": [\"Text\", \"<xml-tree>\"],\n",
    "    \"<id>\": [\"<letter>\", \"<id><letter>\"],\n",
    "    \"<letter>\": crange('a', 'z')\n",
    "}"
   ]
  },
  {
   "cell_type": "code",
   "execution_count": 64,
   "id": "874854b1",
   "metadata": {
    "execution": {
     "iopub.execute_input": "2023-01-07T14:19:18.296551Z",
     "iopub.status.busy": "2023-01-07T14:19:18.296124Z",
     "iopub.status.idle": "2023-01-07T14:19:18.297559Z",
     "shell.execute_reply": "2023-01-07T14:19:18.297782Z"
    },
    "slideshow": {
     "slide_type": "subslide"
    }
   },
   "outputs": [],
   "source": [
    "assert is_valid_grammar(XML_GRAMMAR)"
   ]
  },
  {
   "cell_type": "code",
   "execution_count": 65,
   "id": "e017975d",
   "metadata": {
    "execution": {
     "iopub.execute_input": "2023-01-07T14:19:18.300256Z",
     "iopub.status.busy": "2023-01-07T14:19:18.299951Z",
     "iopub.status.idle": "2023-01-07T14:19:18.347876Z",
     "shell.execute_reply": "2023-01-07T14:19:18.348153Z"
    },
    "slideshow": {
     "slide_type": "subslide"
    }
   },
   "outputs": [
    {
     "name": "stdout",
     "output_type": "stream",
     "text": [
      "start\n"
     ]
    },
    {
     "data": {
      "image/svg+xml": [
       "<svg xmlns=\"http://www.w3.org/2000/svg\" class=\"railroad-diagram\" height=\"62\" viewBox=\"0 0 208.0 62\" width=\"208.0\">\n",
       "<g transform=\"translate(.5 .5)\">\n",
       "<style>/* <![CDATA[ */\n",
       "    svg.railroad-diagram {\n",
       "    }\n",
       "    svg.railroad-diagram path {\n",
       "        stroke-width:3;\n",
       "        stroke:black;\n",
       "        fill:white;\n",
       "    }\n",
       "    svg.railroad-diagram text {\n",
       "        font:14px \"Fira Mono\", monospace;\n",
       "        text-anchor:middle;\n",
       "    }\n",
       "    svg.railroad-diagram text.label{\n",
       "        text-anchor:start;\n",
       "    }\n",
       "    svg.railroad-diagram text.comment{\n",
       "        font:italic 12px \"Fira Mono\", monospace;\n",
       "    }\n",
       "    svg.railroad-diagram rect{\n",
       "        stroke-width:2;\n",
       "        stroke:black;\n",
       "        fill:mistyrose;\n",
       "    }\n",
       "\n",
       "/* ]]> */\n",
       "</style><g>\n",
       "<path d=\"M20 21v20m10 -20v20m-10 -10h20\"/></g><g>\n",
       "<path d=\"M40 31h0.0\"/><path d=\"M168.0 31h0.0\"/><path d=\"M40.0 31h20\"/><g>\n",
       "<path d=\"M60.0 31h0.0\"/><path d=\"M148.0 31h0.0\"/><g class=\"non-terminal\">\n",
       "<path d=\"M60.0 31h0.0\"/><path d=\"M148.0 31h0.0\"/><rect height=\"22\" width=\"88.0\" x=\"60.0\" y=\"20\"/><text x=\"104.0\" y=\"35\">xml-tree</text></g></g><path d=\"M148.0 31h20\"/></g><path d=\"M 168.0 31 h 20 m -10 -10 v 20 m 10 -20 v 20\"/></g></svg>"
      ],
      "text/plain": [
       "<IPython.core.display.SVG object>"
      ]
     },
     "metadata": {},
     "output_type": "display_data"
    },
    {
     "name": "stdout",
     "output_type": "stream",
     "text": [
      "xml-tree\n"
     ]
    },
    {
     "data": {
      "image/svg+xml": [
       "<svg xmlns=\"http://www.w3.org/2000/svg\" class=\"railroad-diagram\" height=\"62\" viewBox=\"0 0 458.0 62\" width=\"458.0\">\n",
       "<g transform=\"translate(.5 .5)\">\n",
       "<style>/* <![CDATA[ */\n",
       "    svg.railroad-diagram {\n",
       "    }\n",
       "    svg.railroad-diagram path {\n",
       "        stroke-width:3;\n",
       "        stroke:black;\n",
       "        fill:white;\n",
       "    }\n",
       "    svg.railroad-diagram text {\n",
       "        font:14px \"Fira Mono\", monospace;\n",
       "        text-anchor:middle;\n",
       "    }\n",
       "    svg.railroad-diagram text.label{\n",
       "        text-anchor:start;\n",
       "    }\n",
       "    svg.railroad-diagram text.comment{\n",
       "        font:italic 12px \"Fira Mono\", monospace;\n",
       "    }\n",
       "    svg.railroad-diagram rect{\n",
       "        stroke-width:2;\n",
       "        stroke:black;\n",
       "        fill:mistyrose;\n",
       "    }\n",
       "\n",
       "/* ]]> */\n",
       "</style><g>\n",
       "<path d=\"M20 21v20m10 -20v20m-10 -10h20\"/></g><g>\n",
       "<path d=\"M40 31h0.0\"/><path d=\"M418.0 31h0.0\"/><path d=\"M40.0 31h20\"/><g>\n",
       "<path d=\"M60.0 31h0.0\"/><path d=\"M398.0 31h0.0\"/><g class=\"non-terminal\">\n",
       "<path d=\"M60.0 31h0.0\"/><path d=\"M148.0 31h0.0\"/><rect height=\"22\" width=\"88.0\" x=\"60.0\" y=\"20\"/><text x=\"104.0\" y=\"35\">open-tag</text></g><path d=\"M148.0 31h10\"/><path d=\"M158.0 31h10\"/><g class=\"non-terminal\">\n",
       "<path d=\"M168.0 31h0.0\"/><path d=\"M281.5 31h0.0\"/><rect height=\"22\" width=\"113.5\" x=\"168.0\" y=\"20\"/><text x=\"224.75\" y=\"35\">xml-content</text></g><path d=\"M281.5 31h10\"/><path d=\"M291.5 31h10\"/><g class=\"non-terminal\">\n",
       "<path d=\"M301.5 31h0.0\"/><path d=\"M398.0 31h0.0\"/><rect height=\"22\" width=\"96.5\" x=\"301.5\" y=\"20\"/><text x=\"349.75\" y=\"35\">close-tag</text></g></g><path d=\"M398.0 31h20\"/></g><path d=\"M 418.0 31 h 20 m -10 -10 v 20 m 10 -20 v 20\"/></g></svg>"
      ],
      "text/plain": [
       "<IPython.core.display.SVG object>"
      ]
     },
     "metadata": {},
     "output_type": "display_data"
    },
    {
     "name": "stdout",
     "output_type": "stream",
     "text": [
      "open-tag\n"
     ]
    },
    {
     "data": {
      "image/svg+xml": [
       "<svg xmlns=\"http://www.w3.org/2000/svg\" class=\"railroad-diagram\" height=\"62\" viewBox=\"0 0 254.0 62\" width=\"254.0\">\n",
       "<g transform=\"translate(.5 .5)\">\n",
       "<style>/* <![CDATA[ */\n",
       "    svg.railroad-diagram {\n",
       "    }\n",
       "    svg.railroad-diagram path {\n",
       "        stroke-width:3;\n",
       "        stroke:black;\n",
       "        fill:white;\n",
       "    }\n",
       "    svg.railroad-diagram text {\n",
       "        font:14px \"Fira Mono\", monospace;\n",
       "        text-anchor:middle;\n",
       "    }\n",
       "    svg.railroad-diagram text.label{\n",
       "        text-anchor:start;\n",
       "    }\n",
       "    svg.railroad-diagram text.comment{\n",
       "        font:italic 12px \"Fira Mono\", monospace;\n",
       "    }\n",
       "    svg.railroad-diagram rect{\n",
       "        stroke-width:2;\n",
       "        stroke:black;\n",
       "        fill:mistyrose;\n",
       "    }\n",
       "\n",
       "/* ]]> */\n",
       "</style><g>\n",
       "<path d=\"M20 21v20m10 -20v20m-10 -10h20\"/></g><g>\n",
       "<path d=\"M40 31h0.0\"/><path d=\"M214.0 31h0.0\"/><path d=\"M40.0 31h20\"/><g>\n",
       "<path d=\"M60.0 31h0.0\"/><path d=\"M194.0 31h0.0\"/><g class=\"terminal\">\n",
       "<path d=\"M60.0 31h0.0\"/><path d=\"M88.5 31h0.0\"/><rect height=\"22\" rx=\"10\" ry=\"10\" width=\"28.5\" x=\"60.0\" y=\"20\"/><text x=\"74.25\" y=\"35\">&lt;</text></g><path d=\"M88.5 31h10\"/><path d=\"M98.5 31h10\"/><g class=\"non-terminal\">\n",
       "<path d=\"M108.5 31h0.0\"/><path d=\"M145.5 31h0.0\"/><rect height=\"22\" width=\"37.0\" x=\"108.5\" y=\"20\"/><text x=\"127.0\" y=\"35\">id</text></g><path d=\"M145.5 31h10\"/><path d=\"M155.5 31h10\"/><g class=\"terminal\">\n",
       "<path d=\"M165.5 31h0.0\"/><path d=\"M194.0 31h0.0\"/><rect height=\"22\" rx=\"10\" ry=\"10\" width=\"28.5\" x=\"165.5\" y=\"20\"/><text x=\"179.75\" y=\"35\">&gt;</text></g></g><path d=\"M194.0 31h20\"/></g><path d=\"M 214.0 31 h 20 m -10 -10 v 20 m 10 -20 v 20\"/></g></svg>"
      ],
      "text/plain": [
       "<IPython.core.display.SVG object>"
      ]
     },
     "metadata": {},
     "output_type": "display_data"
    },
    {
     "name": "stdout",
     "output_type": "stream",
     "text": [
      "close-tag\n"
     ]
    },
    {
     "data": {
      "image/svg+xml": [
       "<svg xmlns=\"http://www.w3.org/2000/svg\" class=\"railroad-diagram\" height=\"62\" viewBox=\"0 0 262.5 62\" width=\"262.5\">\n",
       "<g transform=\"translate(.5 .5)\">\n",
       "<style>/* <![CDATA[ */\n",
       "    svg.railroad-diagram {\n",
       "    }\n",
       "    svg.railroad-diagram path {\n",
       "        stroke-width:3;\n",
       "        stroke:black;\n",
       "        fill:white;\n",
       "    }\n",
       "    svg.railroad-diagram text {\n",
       "        font:14px \"Fira Mono\", monospace;\n",
       "        text-anchor:middle;\n",
       "    }\n",
       "    svg.railroad-diagram text.label{\n",
       "        text-anchor:start;\n",
       "    }\n",
       "    svg.railroad-diagram text.comment{\n",
       "        font:italic 12px \"Fira Mono\", monospace;\n",
       "    }\n",
       "    svg.railroad-diagram rect{\n",
       "        stroke-width:2;\n",
       "        stroke:black;\n",
       "        fill:mistyrose;\n",
       "    }\n",
       "\n",
       "/* ]]> */\n",
       "</style><g>\n",
       "<path d=\"M20 21v20m10 -20v20m-10 -10h20\"/></g><g>\n",
       "<path d=\"M40 31h0.0\"/><path d=\"M222.5 31h0.0\"/><path d=\"M40.0 31h20\"/><g>\n",
       "<path d=\"M60.0 31h0.0\"/><path d=\"M202.5 31h0.0\"/><g class=\"terminal\">\n",
       "<path d=\"M60.0 31h0.0\"/><path d=\"M97.0 31h0.0\"/><rect height=\"22\" rx=\"10\" ry=\"10\" width=\"37.0\" x=\"60.0\" y=\"20\"/><text x=\"78.5\" y=\"35\">&lt;/</text></g><path d=\"M97.0 31h10\"/><path d=\"M107.0 31h10\"/><g class=\"non-terminal\">\n",
       "<path d=\"M117.0 31h0.0\"/><path d=\"M154.0 31h0.0\"/><rect height=\"22\" width=\"37.0\" x=\"117.0\" y=\"20\"/><text x=\"135.5\" y=\"35\">id</text></g><path d=\"M154.0 31h10\"/><path d=\"M164.0 31h10\"/><g class=\"terminal\">\n",
       "<path d=\"M174.0 31h0.0\"/><path d=\"M202.5 31h0.0\"/><rect height=\"22\" rx=\"10\" ry=\"10\" width=\"28.5\" x=\"174.0\" y=\"20\"/><text x=\"188.25\" y=\"35\">&gt;</text></g></g><path d=\"M202.5 31h20\"/></g><path d=\"M 222.5 31 h 20 m -10 -10 v 20 m 10 -20 v 20\"/></g></svg>"
      ],
      "text/plain": [
       "<IPython.core.display.SVG object>"
      ]
     },
     "metadata": {},
     "output_type": "display_data"
    },
    {
     "name": "stdout",
     "output_type": "stream",
     "text": [
      "xml-content\n"
     ]
    },
    {
     "data": {
      "image/svg+xml": [
       "<svg xmlns=\"http://www.w3.org/2000/svg\" class=\"railroad-diagram\" height=\"92\" viewBox=\"0 0 208.0 92\" width=\"208.0\">\n",
       "<g transform=\"translate(.5 .5)\">\n",
       "<style>/* <![CDATA[ */\n",
       "    svg.railroad-diagram {\n",
       "    }\n",
       "    svg.railroad-diagram path {\n",
       "        stroke-width:3;\n",
       "        stroke:black;\n",
       "        fill:white;\n",
       "    }\n",
       "    svg.railroad-diagram text {\n",
       "        font:14px \"Fira Mono\", monospace;\n",
       "        text-anchor:middle;\n",
       "    }\n",
       "    svg.railroad-diagram text.label{\n",
       "        text-anchor:start;\n",
       "    }\n",
       "    svg.railroad-diagram text.comment{\n",
       "        font:italic 12px \"Fira Mono\", monospace;\n",
       "    }\n",
       "    svg.railroad-diagram rect{\n",
       "        stroke-width:2;\n",
       "        stroke:black;\n",
       "        fill:mistyrose;\n",
       "    }\n",
       "\n",
       "/* ]]> */\n",
       "</style><g>\n",
       "<path d=\"M20 51v20m10 -20v20m-10 -10h20\"/></g><g>\n",
       "<path d=\"M40 61h0.0\"/><path d=\"M168.0 61h0.0\"/><path d=\"M40.0 61a10 10 0 0 0 10 -10v-10a10 10 0 0 1 10 -10\"/><g>\n",
       "<path d=\"M60.0 31h17.0\"/><path d=\"M131.0 31h17.0\"/><g class=\"terminal\">\n",
       "<path d=\"M77.0 31h0.0\"/><path d=\"M131.0 31h0.0\"/><rect height=\"22\" rx=\"10\" ry=\"10\" width=\"54.0\" x=\"77.0\" y=\"20\"/><text x=\"104.0\" y=\"35\">Text</text></g></g><path d=\"M148.0 31a10 10 0 0 1 10 10v10a10 10 0 0 0 10 10\"/><path d=\"M40.0 61h20\"/><g>\n",
       "<path d=\"M60.0 61h0.0\"/><path d=\"M148.0 61h0.0\"/><g class=\"non-terminal\">\n",
       "<path d=\"M60.0 61h0.0\"/><path d=\"M148.0 61h0.0\"/><rect height=\"22\" width=\"88.0\" x=\"60.0\" y=\"50\"/><text x=\"104.0\" y=\"65\">xml-tree</text></g></g><path d=\"M148.0 61h20\"/></g><path d=\"M 168.0 61 h 20 m -10 -10 v 20 m 10 -20 v 20\"/></g></svg>"
      ],
      "text/plain": [
       "<IPython.core.display.SVG object>"
      ]
     },
     "metadata": {},
     "output_type": "display_data"
    },
    {
     "name": "stdout",
     "output_type": "stream",
     "text": [
      "id\n"
     ]
    },
    {
     "data": {
      "image/svg+xml": [
       "<svg xmlns=\"http://www.w3.org/2000/svg\" class=\"railroad-diagram\" height=\"92\" viewBox=\"0 0 248.0 92\" width=\"248.0\">\n",
       "<g transform=\"translate(.5 .5)\">\n",
       "<style>/* <![CDATA[ */\n",
       "    svg.railroad-diagram {\n",
       "    }\n",
       "    svg.railroad-diagram path {\n",
       "        stroke-width:3;\n",
       "        stroke:black;\n",
       "        fill:white;\n",
       "    }\n",
       "    svg.railroad-diagram text {\n",
       "        font:14px \"Fira Mono\", monospace;\n",
       "        text-anchor:middle;\n",
       "    }\n",
       "    svg.railroad-diagram text.label{\n",
       "        text-anchor:start;\n",
       "    }\n",
       "    svg.railroad-diagram text.comment{\n",
       "        font:italic 12px \"Fira Mono\", monospace;\n",
       "    }\n",
       "    svg.railroad-diagram rect{\n",
       "        stroke-width:2;\n",
       "        stroke:black;\n",
       "        fill:mistyrose;\n",
       "    }\n",
       "\n",
       "/* ]]> */\n",
       "</style><g>\n",
       "<path d=\"M20 51v20m10 -20v20m-10 -10h20\"/></g><g>\n",
       "<path d=\"M40 61h0.0\"/><path d=\"M208.0 61h0.0\"/><path d=\"M40.0 61a10 10 0 0 0 10 -10v-10a10 10 0 0 1 10 -10\"/><g>\n",
       "<path d=\"M60.0 31h28.5\"/><path d=\"M159.5 31h28.5\"/><g class=\"non-terminal\">\n",
       "<path d=\"M88.5 31h0.0\"/><path d=\"M159.5 31h0.0\"/><rect height=\"22\" width=\"71.0\" x=\"88.5\" y=\"20\"/><text x=\"124.0\" y=\"35\">letter</text></g></g><path d=\"M188.0 31a10 10 0 0 1 10 10v10a10 10 0 0 0 10 10\"/><path d=\"M40.0 61h20\"/><g>\n",
       "<path d=\"M60.0 61h0.0\"/><path d=\"M188.0 61h0.0\"/><g class=\"non-terminal\">\n",
       "<path d=\"M60.0 61h0.0\"/><path d=\"M97.0 61h0.0\"/><rect height=\"22\" width=\"37.0\" x=\"60.0\" y=\"50\"/><text x=\"78.5\" y=\"65\">id</text></g><path d=\"M97.0 61h10\"/><path d=\"M107.0 61h10\"/><g class=\"non-terminal\">\n",
       "<path d=\"M117.0 61h0.0\"/><path d=\"M188.0 61h0.0\"/><rect height=\"22\" width=\"71.0\" x=\"117.0\" y=\"50\"/><text x=\"152.5\" y=\"65\">letter</text></g></g><path d=\"M188.0 61h20\"/></g><path d=\"M 208.0 61 h 20 m -10 -10 v 20 m 10 -20 v 20\"/></g></svg>"
      ],
      "text/plain": [
       "<IPython.core.display.SVG object>"
      ]
     },
     "metadata": {},
     "output_type": "display_data"
    },
    {
     "name": "stdout",
     "output_type": "stream",
     "text": [
      "letter\n"
     ]
    },
    {
     "data": {
      "image/svg+xml": [
       "<svg xmlns=\"http://www.w3.org/2000/svg\" class=\"railroad-diagram\" height=\"198\" viewBox=\"0 0 611.0 198\" width=\"611.0\">\n",
       "<g transform=\"translate(.5 .5)\">\n",
       "<style>/* <![CDATA[ */\n",
       "    svg.railroad-diagram {\n",
       "    }\n",
       "    svg.railroad-diagram path {\n",
       "        stroke-width:3;\n",
       "        stroke:black;\n",
       "        fill:white;\n",
       "    }\n",
       "    svg.railroad-diagram text {\n",
       "        font:14px \"Fira Mono\", monospace;\n",
       "        text-anchor:middle;\n",
       "    }\n",
       "    svg.railroad-diagram text.label{\n",
       "        text-anchor:start;\n",
       "    }\n",
       "    svg.railroad-diagram text.comment{\n",
       "        font:italic 12px \"Fira Mono\", monospace;\n",
       "    }\n",
       "    svg.railroad-diagram rect{\n",
       "        stroke-width:2;\n",
       "        stroke:black;\n",
       "        fill:mistyrose;\n",
       "    }\n",
       "\n",
       "/* ]]> */\n",
       "</style><g>\n",
       "<path d=\"M20 89v20m10 -20v20m-10 -10h20\"/></g><g>\n",
       "<path d=\"M40 99h0.0\"/><path d=\"M571.0 99h0.0\"/><path d=\"M40.0 99a10 10 0 0 0 10 -10v-59a10 10 0 0 1 10 -10h412.5\"/><path d=\"M138.5 178h412.5a10 10 0 0 0 10 -10v-59a10 10 0 0 1 10 -10\"/><path d=\"M40.0 99h10\"/><g>\n",
       "<path d=\"M50.0 99h0.0\"/><path d=\"M118.5 99h0.0\"/><path d=\"M50.0 99a10 10 0 0 0 10 -10v-10a10 10 0 0 1 10 -10\"/><g>\n",
       "<path d=\"M70.0 69h0.0\"/><path d=\"M98.5 69h0.0\"/><g class=\"terminal\">\n",
       "<path d=\"M70.0 69h0.0\"/><path d=\"M98.5 69h0.0\"/><rect height=\"22\" rx=\"10\" ry=\"10\" width=\"28.5\" x=\"70.0\" y=\"58\"/><text x=\"84.25\" y=\"73\">b</text></g></g><path d=\"M98.5 69a10 10 0 0 1 10 10v10a10 10 0 0 0 10 10\"/><path d=\"M50.0 99a10 10 0 0 0 10 -10v-40a10 10 0 0 1 10 -10\"/><g>\n",
       "<path d=\"M70.0 39h0.0\"/><path d=\"M98.5 39h0.0\"/><g class=\"terminal\">\n",
       "<path d=\"M70.0 39h0.0\"/><path d=\"M98.5 39h0.0\"/><rect height=\"22\" rx=\"10\" ry=\"10\" width=\"28.5\" x=\"70.0\" y=\"28\"/><text x=\"84.25\" y=\"43\">a</text></g></g><path d=\"M98.5 39a10 10 0 0 1 10 10v40a10 10 0 0 0 10 10\"/><path d=\"M50.0 99h20\"/><g>\n",
       "<path d=\"M70.0 99h0.0\"/><path d=\"M98.5 99h0.0\"/><g class=\"terminal\">\n",
       "<path d=\"M70.0 99h0.0\"/><path d=\"M98.5 99h0.0\"/><rect height=\"22\" rx=\"10\" ry=\"10\" width=\"28.5\" x=\"70.0\" y=\"88\"/><text x=\"84.25\" y=\"103\">c</text></g></g><path d=\"M98.5 99h20\"/><path d=\"M50.0 99a10 10 0 0 1 10 10v10a10 10 0 0 0 10 10\"/><g>\n",
       "<path d=\"M70.0 129h0.0\"/><path d=\"M98.5 129h0.0\"/><g class=\"terminal\">\n",
       "<path d=\"M70.0 129h0.0\"/><path d=\"M98.5 129h0.0\"/><rect height=\"22\" rx=\"10\" ry=\"10\" width=\"28.5\" x=\"70.0\" y=\"118\"/><text x=\"84.25\" y=\"133\">d</text></g></g><path d=\"M98.5 129a10 10 0 0 0 10 -10v-10a10 10 0 0 1 10 -10\"/><path d=\"M50.0 99a10 10 0 0 1 10 10v40a10 10 0 0 0 10 10\"/><g>\n",
       "<path d=\"M70.0 159h0.0\"/><path d=\"M98.5 159h0.0\"/><g class=\"terminal\">\n",
       "<path d=\"M70.0 159h0.0\"/><path d=\"M98.5 159h0.0\"/><rect height=\"22\" rx=\"10\" ry=\"10\" width=\"28.5\" x=\"70.0\" y=\"148\"/><text x=\"84.25\" y=\"163\">e</text></g></g><path d=\"M98.5 159a10 10 0 0 0 10 -10v-40a10 10 0 0 1 10 -10\"/></g><path d=\"M118.5 99a10 10 0 0 1 10 10v59a10 10 0 0 0 10 10\"/><path d=\"M118.5 20a10 10 0 0 1 10 10v59a10 10 0 0 0 10 10\"/><g>\n",
       "<path d=\"M138.5 99h0.0\"/><path d=\"M207.0 99h0.0\"/><path d=\"M138.5 99a10 10 0 0 0 10 -10v-10a10 10 0 0 1 10 -10\"/><g>\n",
       "<path d=\"M158.5 69h0.0\"/><path d=\"M187.0 69h0.0\"/><g class=\"terminal\">\n",
       "<path d=\"M158.5 69h0.0\"/><path d=\"M187.0 69h0.0\"/><rect height=\"22\" rx=\"10\" ry=\"10\" width=\"28.5\" x=\"158.5\" y=\"58\"/><text x=\"172.75\" y=\"73\">g</text></g></g><path d=\"M187.0 69a10 10 0 0 1 10 10v10a10 10 0 0 0 10 10\"/><path d=\"M138.5 99a10 10 0 0 0 10 -10v-40a10 10 0 0 1 10 -10\"/><g>\n",
       "<path d=\"M158.5 39h0.0\"/><path d=\"M187.0 39h0.0\"/><g class=\"terminal\">\n",
       "<path d=\"M158.5 39h0.0\"/><path d=\"M187.0 39h0.0\"/><rect height=\"22\" rx=\"10\" ry=\"10\" width=\"28.5\" x=\"158.5\" y=\"28\"/><text x=\"172.75\" y=\"43\">f</text></g></g><path d=\"M187.0 39a10 10 0 0 1 10 10v40a10 10 0 0 0 10 10\"/><path d=\"M138.5 99h20\"/><g>\n",
       "<path d=\"M158.5 99h0.0\"/><path d=\"M187.0 99h0.0\"/><g class=\"terminal\">\n",
       "<path d=\"M158.5 99h0.0\"/><path d=\"M187.0 99h0.0\"/><rect height=\"22\" rx=\"10\" ry=\"10\" width=\"28.5\" x=\"158.5\" y=\"88\"/><text x=\"172.75\" y=\"103\">h</text></g></g><path d=\"M187.0 99h20\"/><path d=\"M138.5 99a10 10 0 0 1 10 10v10a10 10 0 0 0 10 10\"/><g>\n",
       "<path d=\"M158.5 129h0.0\"/><path d=\"M187.0 129h0.0\"/><g class=\"terminal\">\n",
       "<path d=\"M158.5 129h0.0\"/><path d=\"M187.0 129h0.0\"/><rect height=\"22\" rx=\"10\" ry=\"10\" width=\"28.5\" x=\"158.5\" y=\"118\"/><text x=\"172.75\" y=\"133\">i</text></g></g><path d=\"M187.0 129a10 10 0 0 0 10 -10v-10a10 10 0 0 1 10 -10\"/><path d=\"M138.5 99a10 10 0 0 1 10 10v40a10 10 0 0 0 10 10\"/><g>\n",
       "<path d=\"M158.5 159h0.0\"/><path d=\"M187.0 159h0.0\"/><g class=\"terminal\">\n",
       "<path d=\"M158.5 159h0.0\"/><path d=\"M187.0 159h0.0\"/><rect height=\"22\" rx=\"10\" ry=\"10\" width=\"28.5\" x=\"158.5\" y=\"148\"/><text x=\"172.75\" y=\"163\">j</text></g></g><path d=\"M187.0 159a10 10 0 0 0 10 -10v-40a10 10 0 0 1 10 -10\"/></g><path d=\"M207.0 99a10 10 0 0 1 10 10v59a10 10 0 0 0 10 10\"/><path d=\"M207.0 20a10 10 0 0 1 10 10v59a10 10 0 0 0 10 10\"/><g>\n",
       "<path d=\"M227.0 99h0.0\"/><path d=\"M295.5 99h0.0\"/><path d=\"M227.0 99a10 10 0 0 0 10 -10v-10a10 10 0 0 1 10 -10\"/><g>\n",
       "<path d=\"M247.0 69h0.0\"/><path d=\"M275.5 69h0.0\"/><g class=\"terminal\">\n",
       "<path d=\"M247.0 69h0.0\"/><path d=\"M275.5 69h0.0\"/><rect height=\"22\" rx=\"10\" ry=\"10\" width=\"28.5\" x=\"247.0\" y=\"58\"/><text x=\"261.25\" y=\"73\">l</text></g></g><path d=\"M275.5 69a10 10 0 0 1 10 10v10a10 10 0 0 0 10 10\"/><path d=\"M227.0 99a10 10 0 0 0 10 -10v-40a10 10 0 0 1 10 -10\"/><g>\n",
       "<path d=\"M247.0 39h0.0\"/><path d=\"M275.5 39h0.0\"/><g class=\"terminal\">\n",
       "<path d=\"M247.0 39h0.0\"/><path d=\"M275.5 39h0.0\"/><rect height=\"22\" rx=\"10\" ry=\"10\" width=\"28.5\" x=\"247.0\" y=\"28\"/><text x=\"261.25\" y=\"43\">k</text></g></g><path d=\"M275.5 39a10 10 0 0 1 10 10v40a10 10 0 0 0 10 10\"/><path d=\"M227.0 99h20\"/><g>\n",
       "<path d=\"M247.0 99h0.0\"/><path d=\"M275.5 99h0.0\"/><g class=\"terminal\">\n",
       "<path d=\"M247.0 99h0.0\"/><path d=\"M275.5 99h0.0\"/><rect height=\"22\" rx=\"10\" ry=\"10\" width=\"28.5\" x=\"247.0\" y=\"88\"/><text x=\"261.25\" y=\"103\">m</text></g></g><path d=\"M275.5 99h20\"/><path d=\"M227.0 99a10 10 0 0 1 10 10v10a10 10 0 0 0 10 10\"/><g>\n",
       "<path d=\"M247.0 129h0.0\"/><path d=\"M275.5 129h0.0\"/><g class=\"terminal\">\n",
       "<path d=\"M247.0 129h0.0\"/><path d=\"M275.5 129h0.0\"/><rect height=\"22\" rx=\"10\" ry=\"10\" width=\"28.5\" x=\"247.0\" y=\"118\"/><text x=\"261.25\" y=\"133\">n</text></g></g><path d=\"M275.5 129a10 10 0 0 0 10 -10v-10a10 10 0 0 1 10 -10\"/><path d=\"M227.0 99a10 10 0 0 1 10 10v40a10 10 0 0 0 10 10\"/><g>\n",
       "<path d=\"M247.0 159h0.0\"/><path d=\"M275.5 159h0.0\"/><g class=\"terminal\">\n",
       "<path d=\"M247.0 159h0.0\"/><path d=\"M275.5 159h0.0\"/><rect height=\"22\" rx=\"10\" ry=\"10\" width=\"28.5\" x=\"247.0\" y=\"148\"/><text x=\"261.25\" y=\"163\">o</text></g></g><path d=\"M275.5 159a10 10 0 0 0 10 -10v-40a10 10 0 0 1 10 -10\"/></g><path d=\"M295.5 99a10 10 0 0 1 10 10v59a10 10 0 0 0 10 10\"/><path d=\"M295.5 20a10 10 0 0 1 10 10v59a10 10 0 0 0 10 10\"/><g>\n",
       "<path d=\"M315.5 99h0.0\"/><path d=\"M384.0 99h0.0\"/><path d=\"M315.5 99a10 10 0 0 0 10 -10v-10a10 10 0 0 1 10 -10\"/><g>\n",
       "<path d=\"M335.5 69h0.0\"/><path d=\"M364.0 69h0.0\"/><g class=\"terminal\">\n",
       "<path d=\"M335.5 69h0.0\"/><path d=\"M364.0 69h0.0\"/><rect height=\"22\" rx=\"10\" ry=\"10\" width=\"28.5\" x=\"335.5\" y=\"58\"/><text x=\"349.75\" y=\"73\">q</text></g></g><path d=\"M364.0 69a10 10 0 0 1 10 10v10a10 10 0 0 0 10 10\"/><path d=\"M315.5 99a10 10 0 0 0 10 -10v-40a10 10 0 0 1 10 -10\"/><g>\n",
       "<path d=\"M335.5 39h0.0\"/><path d=\"M364.0 39h0.0\"/><g class=\"terminal\">\n",
       "<path d=\"M335.5 39h0.0\"/><path d=\"M364.0 39h0.0\"/><rect height=\"22\" rx=\"10\" ry=\"10\" width=\"28.5\" x=\"335.5\" y=\"28\"/><text x=\"349.75\" y=\"43\">p</text></g></g><path d=\"M364.0 39a10 10 0 0 1 10 10v40a10 10 0 0 0 10 10\"/><path d=\"M315.5 99h20\"/><g>\n",
       "<path d=\"M335.5 99h0.0\"/><path d=\"M364.0 99h0.0\"/><g class=\"terminal\">\n",
       "<path d=\"M335.5 99h0.0\"/><path d=\"M364.0 99h0.0\"/><rect height=\"22\" rx=\"10\" ry=\"10\" width=\"28.5\" x=\"335.5\" y=\"88\"/><text x=\"349.75\" y=\"103\">r</text></g></g><path d=\"M364.0 99h20\"/><path d=\"M315.5 99a10 10 0 0 1 10 10v10a10 10 0 0 0 10 10\"/><g>\n",
       "<path d=\"M335.5 129h0.0\"/><path d=\"M364.0 129h0.0\"/><g class=\"terminal\">\n",
       "<path d=\"M335.5 129h0.0\"/><path d=\"M364.0 129h0.0\"/><rect height=\"22\" rx=\"10\" ry=\"10\" width=\"28.5\" x=\"335.5\" y=\"118\"/><text x=\"349.75\" y=\"133\">s</text></g></g><path d=\"M364.0 129a10 10 0 0 0 10 -10v-10a10 10 0 0 1 10 -10\"/><path d=\"M315.5 99a10 10 0 0 1 10 10v40a10 10 0 0 0 10 10\"/><g>\n",
       "<path d=\"M335.5 159h0.0\"/><path d=\"M364.0 159h0.0\"/><g class=\"terminal\">\n",
       "<path d=\"M335.5 159h0.0\"/><path d=\"M364.0 159h0.0\"/><rect height=\"22\" rx=\"10\" ry=\"10\" width=\"28.5\" x=\"335.5\" y=\"148\"/><text x=\"349.75\" y=\"163\">t</text></g></g><path d=\"M364.0 159a10 10 0 0 0 10 -10v-40a10 10 0 0 1 10 -10\"/></g><path d=\"M384.0 99a10 10 0 0 1 10 10v59a10 10 0 0 0 10 10\"/><path d=\"M384.0 20a10 10 0 0 1 10 10v59a10 10 0 0 0 10 10\"/><g>\n",
       "<path d=\"M404.0 99h0.0\"/><path d=\"M472.5 99h0.0\"/><path d=\"M404.0 99a10 10 0 0 0 10 -10v-10a10 10 0 0 1 10 -10\"/><g>\n",
       "<path d=\"M424.0 69h0.0\"/><path d=\"M452.5 69h0.0\"/><g class=\"terminal\">\n",
       "<path d=\"M424.0 69h0.0\"/><path d=\"M452.5 69h0.0\"/><rect height=\"22\" rx=\"10\" ry=\"10\" width=\"28.5\" x=\"424.0\" y=\"58\"/><text x=\"438.25\" y=\"73\">v</text></g></g><path d=\"M452.5 69a10 10 0 0 1 10 10v10a10 10 0 0 0 10 10\"/><path d=\"M404.0 99a10 10 0 0 0 10 -10v-40a10 10 0 0 1 10 -10\"/><g>\n",
       "<path d=\"M424.0 39h0.0\"/><path d=\"M452.5 39h0.0\"/><g class=\"terminal\">\n",
       "<path d=\"M424.0 39h0.0\"/><path d=\"M452.5 39h0.0\"/><rect height=\"22\" rx=\"10\" ry=\"10\" width=\"28.5\" x=\"424.0\" y=\"28\"/><text x=\"438.25\" y=\"43\">u</text></g></g><path d=\"M452.5 39a10 10 0 0 1 10 10v40a10 10 0 0 0 10 10\"/><path d=\"M404.0 99h20\"/><g>\n",
       "<path d=\"M424.0 99h0.0\"/><path d=\"M452.5 99h0.0\"/><g class=\"terminal\">\n",
       "<path d=\"M424.0 99h0.0\"/><path d=\"M452.5 99h0.0\"/><rect height=\"22\" rx=\"10\" ry=\"10\" width=\"28.5\" x=\"424.0\" y=\"88\"/><text x=\"438.25\" y=\"103\">w</text></g></g><path d=\"M452.5 99h20\"/><path d=\"M404.0 99a10 10 0 0 1 10 10v10a10 10 0 0 0 10 10\"/><g>\n",
       "<path d=\"M424.0 129h0.0\"/><path d=\"M452.5 129h0.0\"/><g class=\"terminal\">\n",
       "<path d=\"M424.0 129h0.0\"/><path d=\"M452.5 129h0.0\"/><rect height=\"22\" rx=\"10\" ry=\"10\" width=\"28.5\" x=\"424.0\" y=\"118\"/><text x=\"438.25\" y=\"133\">x</text></g></g><path d=\"M452.5 129a10 10 0 0 0 10 -10v-10a10 10 0 0 1 10 -10\"/><path d=\"M404.0 99a10 10 0 0 1 10 10v40a10 10 0 0 0 10 10\"/><g>\n",
       "<path d=\"M424.0 159h0.0\"/><path d=\"M452.5 159h0.0\"/><g class=\"terminal\">\n",
       "<path d=\"M424.0 159h0.0\"/><path d=\"M452.5 159h0.0\"/><rect height=\"22\" rx=\"10\" ry=\"10\" width=\"28.5\" x=\"424.0\" y=\"148\"/><text x=\"438.25\" y=\"163\">y</text></g></g><path d=\"M452.5 159a10 10 0 0 0 10 -10v-40a10 10 0 0 1 10 -10\"/></g><path d=\"M472.5 99a10 10 0 0 1 10 10v59a10 10 0 0 0 10 10\"/><path d=\"M472.5 20a10 10 0 0 1 10 10v59a10 10 0 0 0 10 10\"/><g>\n",
       "<path d=\"M492.5 99h0.0\"/><path d=\"M561.0 99h0.0\"/><path d=\"M492.5 99h20\"/><g>\n",
       "<path d=\"M512.5 99h0.0\"/><path d=\"M541.0 99h0.0\"/><g class=\"terminal\">\n",
       "<path d=\"M512.5 99h0.0\"/><path d=\"M541.0 99h0.0\"/><rect height=\"22\" rx=\"10\" ry=\"10\" width=\"28.5\" x=\"512.5\" y=\"88\"/><text x=\"526.75\" y=\"103\">z</text></g></g><path d=\"M541.0 99h20\"/></g><path d=\"M561.0 99h10\"/></g><path d=\"M 571.0 99 h 20 m -10 -10 v 20 m 10 -20 v 20\"/></g></svg>"
      ],
      "text/plain": [
       "<IPython.core.display.SVG object>"
      ]
     },
     "metadata": {},
     "output_type": "display_data"
    }
   ],
   "source": [
    "# ignore\n",
    "syntax_diagram(XML_GRAMMAR)"
   ]
  },
  {
   "cell_type": "markdown",
   "id": "7edc51ce",
   "metadata": {
    "slideshow": {
     "slide_type": "subslide"
    }
   },
   "source": [
    "The problem becomes evident when we produce inputs from the grammar: The `<id>` elements in `<open-tag>` and `<close-tag>` do not match."
   ]
  },
  {
   "cell_type": "code",
   "execution_count": 66,
   "id": "cbf25c83",
   "metadata": {
    "execution": {
     "iopub.execute_input": "2023-01-07T14:19:18.353658Z",
     "iopub.status.busy": "2023-01-07T14:19:18.353258Z",
     "iopub.status.idle": "2023-01-07T14:19:18.354950Z",
     "shell.execute_reply": "2023-01-07T14:19:18.355148Z"
    },
    "slideshow": {
     "slide_type": "fragment"
    }
   },
   "outputs": [
    {
     "data": {
      "text/plain": [
       "'<xdps><s><x><f>Text</g></ka></k></hk>'"
      ]
     },
     "execution_count": 66,
     "metadata": {},
     "output_type": "execute_result"
    }
   ],
   "source": [
    "fuzzer = GrammarFuzzer(XML_GRAMMAR)\n",
    "fuzzer.fuzz()"
   ]
  },
  {
   "cell_type": "markdown",
   "id": "a7afbb85",
   "metadata": {
    "slideshow": {
     "slide_type": "fragment"
    }
   },
   "source": [
    "If we want the tag IDs to match, we need to come up with a _finite_ set of tags (as in, say, HTML); then we can extend the grammar with one rule for each tag - `<body>...</body>`, `<p>...</p>`, `<strong>...</strong>`, and so on.\n",
    "For an _infinite_ set of tags, though, as in our grammar, expressing that the two tag IDs must match is not possible in a context-free grammar."
   ]
  },
  {
   "cell_type": "markdown",
   "id": "f272db66",
   "metadata": {
    "slideshow": {
     "slide_type": "fragment"
    }
   },
   "source": [
    "With ISLa, however, constraining the grammar is easy.\n",
    "All we need is the rule that constrains the `<xml-tree>`:"
   ]
  },
  {
   "cell_type": "code",
   "execution_count": 67,
   "id": "81218746",
   "metadata": {
    "execution": {
     "iopub.execute_input": "2023-01-07T14:19:18.360199Z",
     "iopub.status.busy": "2023-01-07T14:19:18.359214Z",
     "iopub.status.idle": "2023-01-07T14:19:19.221672Z",
     "shell.execute_reply": "2023-01-07T14:19:19.222089Z"
    },
    "slideshow": {
     "slide_type": "subslide"
    }
   },
   "outputs": [
    {
     "name": "stdout",
     "output_type": "stream",
     "text": [
      "<p>Text</p>\n",
      "<p><p>Text</p></p>\n",
      "<p><p><p>Text</p></p></p>\n"
     ]
    }
   ],
   "source": [
    "solver = ISLaSolver(XML_GRAMMAR, \n",
    "            '''\n",
    "            <xml-tree>.<open-tag>.<id> = <xml-tree>.<close-tag>.<id>\n",
    "            ''', max_number_smt_instantiations=1)\n",
    "\n",
    "for _ in range(3):\n",
    "    print(solver.solve())"
   ]
  },
  {
   "cell_type": "markdown",
   "id": "9ab2abc5-197a-4281-be7d-8f69fa98ad5b",
   "metadata": {
    "slideshow": {
     "slide_type": "fragment"
    }
   },
   "source": [
    "and we see that the `<id>` tags now indeed match each other."
   ]
  },
  {
   "cell_type": "markdown",
   "id": "7e265eed-bf23-40b2-ab1f-c43bf81a9499",
   "metadata": {
    "slideshow": {
     "slide_type": "subslide"
    }
   },
   "source": [
    "### Excursion: Solver Configuration Parameters"
   ]
  },
  {
   "cell_type": "markdown",
   "id": "51cb2673-4df8-497d-a6dc-6f0e1fa487e1",
   "metadata": {
    "slideshow": {
     "slide_type": "fragment"
    }
   },
   "source": [
    "The configuration parameter `max_number_smt_instantiations` we passed to the `ISLaSolver` object above limits the number of calls to ISLa's underlying SMT solver. Generally, higher numbers lead to more inputs generated per time. Many of those will look structurally similar, though. If we aim for structurally diverse inputs and do not care about, e.g., the names of tags, it can make sense to choose a lower value for this parameter. This is what happens with `max_number_smt_instantiations=10`, which is the current default:"
   ]
  },
  {
   "cell_type": "code",
   "execution_count": 68,
   "id": "716cfdfb-bcb2-4a7a-b3d9-9f6d983a5259",
   "metadata": {
    "execution": {
     "iopub.execute_input": "2023-01-07T14:19:19.225720Z",
     "iopub.status.busy": "2023-01-07T14:19:19.225379Z",
     "iopub.status.idle": "2023-01-07T14:19:20.130571Z",
     "shell.execute_reply": "2023-01-07T14:19:20.130907Z"
    },
    "slideshow": {
     "slide_type": "subslide"
    }
   },
   "outputs": [
    {
     "name": "stdout",
     "output_type": "stream",
     "text": [
      "<p>Text</p>\n",
      "<h>Text</h>\n",
      "<k>Text</k>\n"
     ]
    }
   ],
   "source": [
    "solver = ISLaSolver(XML_GRAMMAR, \n",
    "            '''\n",
    "            <xml-tree>.<open-tag>.<id> = <xml-tree>.<close-tag>.<id>\n",
    "            ''', max_number_smt_instantiations=10)\n",
    "\n",
    "for _ in range(3):\n",
    "    print(solver.solve())"
   ]
  },
  {
   "cell_type": "markdown",
   "id": "ea992ebf-5d80-4bca-9ee2-c8377fd755d7",
   "metadata": {
    "slideshow": {
     "slide_type": "subslide"
    }
   },
   "source": [
    "The parameter `max_number_free_instantiations` serves a similar purpose: ISla randomly instantiates nonterminal symbols whose values are not restricted by a constraint. It chooses&mdash;surprise!&mdash;at most `max_number_free_instantiations` such random instantiations.\n",
    "\n",
    "Other configuration parameters of interest are `structural_predicates` and `semantic_predicates`, which let you extend the ISLa language by passing custom structural and semantic predicates to the solver. You can use all the predicates in these sets inside the ISLa constraint to solve. Per default, the semantic predicate `count(in_tree, NEEDLE, NUM)` and the following structural predicates are available:\n",
    "\n",
    "- `after(node_1, node_2)`\n",
    "- `before(node_1, node_2)`\n",
    "- `consecutive(node_1, node_2)`\n",
    "- `count(in_tree, NEEDLE, NUM)`\n",
    "- `different_position(node_1, node_2)`\n",
    "- `direct_child(node_1, node_2)`\n",
    "- `inside(node_1, node_2)`\n",
    "- `level(PRED, NONTERMINAL, node_1, node_2)`\n",
    "- `nth(N, node_1, node_2)`\n",
    "- `same_position(node_1, node_2)`"
   ]
  },
  {
   "cell_type": "markdown",
   "id": "1ec88c69-5b74-4205-bd67-8f28efdecc7e",
   "metadata": {
    "slideshow": {
     "slide_type": "subslide"
    }
   },
   "source": [
    "### End of Excursion"
   ]
  },
  {
   "cell_type": "markdown",
   "id": "353c90ea",
   "metadata": {
    "slideshow": {
     "slide_type": "fragment"
    }
   },
   "source": [
    "In contrast to the \"input generator\" solution in the [chapter on generators](GeneratorGrammarFuzzer), our constraint-based solution is purely declarative - and can also be used to parse and check inputs.\n",
    "Plus, of course, we can easily add more constraints:"
   ]
  },
  {
   "cell_type": "code",
   "execution_count": 69,
   "id": "abd57a96",
   "metadata": {
    "execution": {
     "iopub.execute_input": "2023-01-07T14:19:20.134856Z",
     "iopub.status.busy": "2023-01-07T14:19:20.134530Z",
     "iopub.status.idle": "2023-01-07T14:19:21.245263Z",
     "shell.execute_reply": "2023-01-07T14:19:21.245681Z"
    },
    "slideshow": {
     "slide_type": "subslide"
    }
   },
   "outputs": [
    {
     "name": "stdout",
     "output_type": "stream",
     "text": [
      "<ppnxucynblk>Text</ppnxucynblk>\n",
      "<ppnxucynblk><ppkpkcmccpn>Text</ppkpkcmccpn></ppnxucynblk>\n",
      "<ppnxucynblk><ppkpkcmccpn><ppmxsklkcln>Text</ppmxsklkcln></ppkpkcmccpn></ppnxucynblk>\n"
     ]
    }
   ],
   "source": [
    "solver = ISLaSolver(XML_GRAMMAR, \n",
    "            '''\n",
    "            <xml-tree>.<open-tag>.<id> = <xml-tree>.<close-tag>.<id>\n",
    "            and\n",
    "            str.len(<id>) > 10\n",
    "            ''', max_number_smt_instantiations=1)\n",
    "\n",
    "for _ in range(3):\n",
    "    print(solver.solve())"
   ]
  },
  {
   "cell_type": "markdown",
   "id": "acc5c358",
   "metadata": {
    "slideshow": {
     "slide_type": "subslide"
    }
   },
   "source": [
    "### Definitions and Usages in Programming Languages\n",
    "\n",
    "When testing compilers with generated program code, one often encounters the problem that before _using_ an identifier, one has to _declare_ it first - specifying its type, some initial value, and more."
   ]
  },
  {
   "cell_type": "markdown",
   "id": "69bb6e09",
   "metadata": {
    "slideshow": {
     "slide_type": "fragment"
    }
   },
   "source": [
    "This problem is easily illustrated in the following grammar, which produces _sequences of assignments_.\n",
    "Variable names consist of a single lowercase letter; values can only be digits; assignments are separated by semicolons."
   ]
  },
  {
   "cell_type": "code",
   "execution_count": 70,
   "id": "051c04c4",
   "metadata": {
    "execution": {
     "iopub.execute_input": "2023-01-07T14:19:21.249238Z",
     "iopub.status.busy": "2023-01-07T14:19:21.248828Z",
     "iopub.status.idle": "2023-01-07T14:19:21.250294Z",
     "shell.execute_reply": "2023-01-07T14:19:21.250563Z"
    },
    "slideshow": {
     "slide_type": "subslide"
    }
   },
   "outputs": [],
   "source": [
    "LANG_GRAMMAR: Grammar = {\n",
    "    \"<start>\":\n",
    "        [\"<stmt>\"],\n",
    "    \"<stmt>\":\n",
    "        [\"<assgn>\", \"<assgn>; <stmt>\"],\n",
    "    \"<assgn>\":\n",
    "        [\"<lhs> := <rhs>\"],\n",
    "    \"<lhs>\":\n",
    "        [\"<var>\"],\n",
    "    \"<rhs>\":\n",
    "        [\"<var>\", \"<digit>\"],\n",
    "    \"<var>\": list(string.ascii_lowercase),\n",
    "    \"<digit>\": list(string.digits)\n",
    "}"
   ]
  },
  {
   "cell_type": "code",
   "execution_count": 71,
   "id": "0e7267b1",
   "metadata": {
    "execution": {
     "iopub.execute_input": "2023-01-07T14:19:21.252918Z",
     "iopub.status.busy": "2023-01-07T14:19:21.252581Z",
     "iopub.status.idle": "2023-01-07T14:19:21.253907Z",
     "shell.execute_reply": "2023-01-07T14:19:21.254234Z"
    },
    "slideshow": {
     "slide_type": "fragment"
    }
   },
   "outputs": [],
   "source": [
    "assert is_valid_grammar(LANG_GRAMMAR)"
   ]
  },
  {
   "cell_type": "code",
   "execution_count": 72,
   "id": "c8e26d19",
   "metadata": {
    "execution": {
     "iopub.execute_input": "2023-01-07T14:19:21.257069Z",
     "iopub.status.busy": "2023-01-07T14:19:21.256613Z",
     "iopub.status.idle": "2023-01-07T14:19:21.272225Z",
     "shell.execute_reply": "2023-01-07T14:19:21.272481Z"
    },
    "slideshow": {
     "slide_type": "subslide"
    }
   },
   "outputs": [
    {
     "name": "stdout",
     "output_type": "stream",
     "text": [
      "start\n"
     ]
    },
    {
     "data": {
      "image/svg+xml": [
       "<svg xmlns=\"http://www.w3.org/2000/svg\" class=\"railroad-diagram\" height=\"62\" viewBox=\"0 0 174.0 62\" width=\"174.0\">\n",
       "<g transform=\"translate(.5 .5)\">\n",
       "<style>/* <![CDATA[ */\n",
       "    svg.railroad-diagram {\n",
       "    }\n",
       "    svg.railroad-diagram path {\n",
       "        stroke-width:3;\n",
       "        stroke:black;\n",
       "        fill:white;\n",
       "    }\n",
       "    svg.railroad-diagram text {\n",
       "        font:14px \"Fira Mono\", monospace;\n",
       "        text-anchor:middle;\n",
       "    }\n",
       "    svg.railroad-diagram text.label{\n",
       "        text-anchor:start;\n",
       "    }\n",
       "    svg.railroad-diagram text.comment{\n",
       "        font:italic 12px \"Fira Mono\", monospace;\n",
       "    }\n",
       "    svg.railroad-diagram rect{\n",
       "        stroke-width:2;\n",
       "        stroke:black;\n",
       "        fill:mistyrose;\n",
       "    }\n",
       "\n",
       "/* ]]> */\n",
       "</style><g>\n",
       "<path d=\"M20 21v20m10 -20v20m-10 -10h20\"/></g><g>\n",
       "<path d=\"M40 31h0.0\"/><path d=\"M134.0 31h0.0\"/><path d=\"M40.0 31h20\"/><g>\n",
       "<path d=\"M60.0 31h0.0\"/><path d=\"M114.0 31h0.0\"/><g class=\"non-terminal\">\n",
       "<path d=\"M60.0 31h0.0\"/><path d=\"M114.0 31h0.0\"/><rect height=\"22\" width=\"54.0\" x=\"60.0\" y=\"20\"/><text x=\"87.0\" y=\"35\">stmt</text></g></g><path d=\"M114.0 31h20\"/></g><path d=\"M 134.0 31 h 20 m -10 -10 v 20 m 10 -20 v 20\"/></g></svg>"
      ],
      "text/plain": [
       "<IPython.core.display.SVG object>"
      ]
     },
     "metadata": {},
     "output_type": "display_data"
    },
    {
     "name": "stdout",
     "output_type": "stream",
     "text": [
      "stmt\n"
     ]
    },
    {
     "data": {
      "image/svg+xml": [
       "<svg xmlns=\"http://www.w3.org/2000/svg\" class=\"railroad-diagram\" height=\"92\" viewBox=\"0 0 313.5 92\" width=\"313.5\">\n",
       "<g transform=\"translate(.5 .5)\">\n",
       "<style>/* <![CDATA[ */\n",
       "    svg.railroad-diagram {\n",
       "    }\n",
       "    svg.railroad-diagram path {\n",
       "        stroke-width:3;\n",
       "        stroke:black;\n",
       "        fill:white;\n",
       "    }\n",
       "    svg.railroad-diagram text {\n",
       "        font:14px \"Fira Mono\", monospace;\n",
       "        text-anchor:middle;\n",
       "    }\n",
       "    svg.railroad-diagram text.label{\n",
       "        text-anchor:start;\n",
       "    }\n",
       "    svg.railroad-diagram text.comment{\n",
       "        font:italic 12px \"Fira Mono\", monospace;\n",
       "    }\n",
       "    svg.railroad-diagram rect{\n",
       "        stroke-width:2;\n",
       "        stroke:black;\n",
       "        fill:mistyrose;\n",
       "    }\n",
       "\n",
       "/* ]]> */\n",
       "</style><g>\n",
       "<path d=\"M20 51v20m10 -20v20m-10 -10h20\"/></g><g>\n",
       "<path d=\"M40 61h0.0\"/><path d=\"M273.5 61h0.0\"/><path d=\"M40.0 61a10 10 0 0 0 10 -10v-10a10 10 0 0 1 10 -10\"/><g>\n",
       "<path d=\"M60.0 31h65.5\"/><path d=\"M188.0 31h65.5\"/><g class=\"non-terminal\">\n",
       "<path d=\"M125.5 31h0.0\"/><path d=\"M188.0 31h0.0\"/><rect height=\"22\" width=\"62.5\" x=\"125.5\" y=\"20\"/><text x=\"156.75\" y=\"35\">assgn</text></g></g><path d=\"M253.5 31a10 10 0 0 1 10 10v10a10 10 0 0 0 10 10\"/><path d=\"M40.0 61h20\"/><g>\n",
       "<path d=\"M60.0 61h0.0\"/><path d=\"M253.5 61h0.0\"/><g class=\"non-terminal\">\n",
       "<path d=\"M60.0 61h0.0\"/><path d=\"M122.5 61h0.0\"/><rect height=\"22\" width=\"62.5\" x=\"60.0\" y=\"50\"/><text x=\"91.25\" y=\"65\">assgn</text></g><path d=\"M122.5 61h10\"/><path d=\"M132.5 61h10\"/><g class=\"terminal\">\n",
       "<path d=\"M142.5 61h0.0\"/><path d=\"M179.5 61h0.0\"/><rect height=\"22\" rx=\"10\" ry=\"10\" width=\"37.0\" x=\"142.5\" y=\"50\"/><text x=\"161.0\" y=\"65\">; </text></g><path d=\"M179.5 61h10\"/><path d=\"M189.5 61h10\"/><g class=\"non-terminal\">\n",
       "<path d=\"M199.5 61h0.0\"/><path d=\"M253.5 61h0.0\"/><rect height=\"22\" width=\"54.0\" x=\"199.5\" y=\"50\"/><text x=\"226.5\" y=\"65\">stmt</text></g></g><path d=\"M253.5 61h20\"/></g><path d=\"M 273.5 61 h 20 m -10 -10 v 20 m 10 -20 v 20\"/></g></svg>"
      ],
      "text/plain": [
       "<IPython.core.display.SVG object>"
      ]
     },
     "metadata": {},
     "output_type": "display_data"
    },
    {
     "name": "stdout",
     "output_type": "stream",
     "text": [
      "assgn\n"
     ]
    },
    {
     "data": {
      "image/svg+xml": [
       "<svg xmlns=\"http://www.w3.org/2000/svg\" class=\"railroad-diagram\" height=\"62\" viewBox=\"0 0 305.0 62\" width=\"305.0\">\n",
       "<g transform=\"translate(.5 .5)\">\n",
       "<style>/* <![CDATA[ */\n",
       "    svg.railroad-diagram {\n",
       "    }\n",
       "    svg.railroad-diagram path {\n",
       "        stroke-width:3;\n",
       "        stroke:black;\n",
       "        fill:white;\n",
       "    }\n",
       "    svg.railroad-diagram text {\n",
       "        font:14px \"Fira Mono\", monospace;\n",
       "        text-anchor:middle;\n",
       "    }\n",
       "    svg.railroad-diagram text.label{\n",
       "        text-anchor:start;\n",
       "    }\n",
       "    svg.railroad-diagram text.comment{\n",
       "        font:italic 12px \"Fira Mono\", monospace;\n",
       "    }\n",
       "    svg.railroad-diagram rect{\n",
       "        stroke-width:2;\n",
       "        stroke:black;\n",
       "        fill:mistyrose;\n",
       "    }\n",
       "\n",
       "/* ]]> */\n",
       "</style><g>\n",
       "<path d=\"M20 21v20m10 -20v20m-10 -10h20\"/></g><g>\n",
       "<path d=\"M40 31h0.0\"/><path d=\"M265.0 31h0.0\"/><path d=\"M40.0 31h20\"/><g>\n",
       "<path d=\"M60.0 31h0.0\"/><path d=\"M245.0 31h0.0\"/><g class=\"non-terminal\">\n",
       "<path d=\"M60.0 31h0.0\"/><path d=\"M105.5 31h0.0\"/><rect height=\"22\" width=\"45.5\" x=\"60.0\" y=\"20\"/><text x=\"82.75\" y=\"35\">lhs</text></g><path d=\"M105.5 31h10\"/><path d=\"M115.5 31h10\"/><g class=\"terminal\">\n",
       "<path d=\"M125.5 31h0.0\"/><path d=\"M179.5 31h0.0\"/><rect height=\"22\" rx=\"10\" ry=\"10\" width=\"54.0\" x=\"125.5\" y=\"20\"/><text x=\"152.5\" y=\"35\"> := </text></g><path d=\"M179.5 31h10\"/><path d=\"M189.5 31h10\"/><g class=\"non-terminal\">\n",
       "<path d=\"M199.5 31h0.0\"/><path d=\"M245.0 31h0.0\"/><rect height=\"22\" width=\"45.5\" x=\"199.5\" y=\"20\"/><text x=\"222.25\" y=\"35\">rhs</text></g></g><path d=\"M245.0 31h20\"/></g><path d=\"M 265.0 31 h 20 m -10 -10 v 20 m 10 -20 v 20\"/></g></svg>"
      ],
      "text/plain": [
       "<IPython.core.display.SVG object>"
      ]
     },
     "metadata": {},
     "output_type": "display_data"
    },
    {
     "name": "stdout",
     "output_type": "stream",
     "text": [
      "lhs\n"
     ]
    },
    {
     "data": {
      "image/svg+xml": [
       "<svg xmlns=\"http://www.w3.org/2000/svg\" class=\"railroad-diagram\" height=\"62\" viewBox=\"0 0 165.5 62\" width=\"165.5\">\n",
       "<g transform=\"translate(.5 .5)\">\n",
       "<style>/* <![CDATA[ */\n",
       "    svg.railroad-diagram {\n",
       "    }\n",
       "    svg.railroad-diagram path {\n",
       "        stroke-width:3;\n",
       "        stroke:black;\n",
       "        fill:white;\n",
       "    }\n",
       "    svg.railroad-diagram text {\n",
       "        font:14px \"Fira Mono\", monospace;\n",
       "        text-anchor:middle;\n",
       "    }\n",
       "    svg.railroad-diagram text.label{\n",
       "        text-anchor:start;\n",
       "    }\n",
       "    svg.railroad-diagram text.comment{\n",
       "        font:italic 12px \"Fira Mono\", monospace;\n",
       "    }\n",
       "    svg.railroad-diagram rect{\n",
       "        stroke-width:2;\n",
       "        stroke:black;\n",
       "        fill:mistyrose;\n",
       "    }\n",
       "\n",
       "/* ]]> */\n",
       "</style><g>\n",
       "<path d=\"M20 21v20m10 -20v20m-10 -10h20\"/></g><g>\n",
       "<path d=\"M40 31h0.0\"/><path d=\"M125.5 31h0.0\"/><path d=\"M40.0 31h20\"/><g>\n",
       "<path d=\"M60.0 31h0.0\"/><path d=\"M105.5 31h0.0\"/><g class=\"non-terminal\">\n",
       "<path d=\"M60.0 31h0.0\"/><path d=\"M105.5 31h0.0\"/><rect height=\"22\" width=\"45.5\" x=\"60.0\" y=\"20\"/><text x=\"82.75\" y=\"35\">var</text></g></g><path d=\"M105.5 31h20\"/></g><path d=\"M 125.5 31 h 20 m -10 -10 v 20 m 10 -20 v 20\"/></g></svg>"
      ],
      "text/plain": [
       "<IPython.core.display.SVG object>"
      ]
     },
     "metadata": {},
     "output_type": "display_data"
    },
    {
     "name": "stdout",
     "output_type": "stream",
     "text": [
      "rhs\n"
     ]
    },
    {
     "data": {
      "image/svg+xml": [
       "<svg xmlns=\"http://www.w3.org/2000/svg\" class=\"railroad-diagram\" height=\"92\" viewBox=\"0 0 182.5 92\" width=\"182.5\">\n",
       "<g transform=\"translate(.5 .5)\">\n",
       "<style>/* <![CDATA[ */\n",
       "    svg.railroad-diagram {\n",
       "    }\n",
       "    svg.railroad-diagram path {\n",
       "        stroke-width:3;\n",
       "        stroke:black;\n",
       "        fill:white;\n",
       "    }\n",
       "    svg.railroad-diagram text {\n",
       "        font:14px \"Fira Mono\", monospace;\n",
       "        text-anchor:middle;\n",
       "    }\n",
       "    svg.railroad-diagram text.label{\n",
       "        text-anchor:start;\n",
       "    }\n",
       "    svg.railroad-diagram text.comment{\n",
       "        font:italic 12px \"Fira Mono\", monospace;\n",
       "    }\n",
       "    svg.railroad-diagram rect{\n",
       "        stroke-width:2;\n",
       "        stroke:black;\n",
       "        fill:mistyrose;\n",
       "    }\n",
       "\n",
       "/* ]]> */\n",
       "</style><g>\n",
       "<path d=\"M20 51v20m10 -20v20m-10 -10h20\"/></g><g>\n",
       "<path d=\"M40 61h0.0\"/><path d=\"M142.5 61h0.0\"/><path d=\"M40.0 61a10 10 0 0 0 10 -10v-10a10 10 0 0 1 10 -10\"/><g>\n",
       "<path d=\"M60.0 31h8.5\"/><path d=\"M114.0 31h8.5\"/><g class=\"non-terminal\">\n",
       "<path d=\"M68.5 31h0.0\"/><path d=\"M114.0 31h0.0\"/><rect height=\"22\" width=\"45.5\" x=\"68.5\" y=\"20\"/><text x=\"91.25\" y=\"35\">var</text></g></g><path d=\"M122.5 31a10 10 0 0 1 10 10v10a10 10 0 0 0 10 10\"/><path d=\"M40.0 61h20\"/><g>\n",
       "<path d=\"M60.0 61h0.0\"/><path d=\"M122.5 61h0.0\"/><g class=\"non-terminal\">\n",
       "<path d=\"M60.0 61h0.0\"/><path d=\"M122.5 61h0.0\"/><rect height=\"22\" width=\"62.5\" x=\"60.0\" y=\"50\"/><text x=\"91.25\" y=\"65\">digit</text></g></g><path d=\"M122.5 61h20\"/></g><path d=\"M 142.5 61 h 20 m -10 -10 v 20 m 10 -20 v 20\"/></g></svg>"
      ],
      "text/plain": [
       "<IPython.core.display.SVG object>"
      ]
     },
     "metadata": {},
     "output_type": "display_data"
    },
    {
     "name": "stdout",
     "output_type": "stream",
     "text": [
      "var\n"
     ]
    },
    {
     "data": {
      "image/svg+xml": [
       "<svg xmlns=\"http://www.w3.org/2000/svg\" class=\"railroad-diagram\" height=\"198\" viewBox=\"0 0 611.0 198\" width=\"611.0\">\n",
       "<g transform=\"translate(.5 .5)\">\n",
       "<style>/* <![CDATA[ */\n",
       "    svg.railroad-diagram {\n",
       "    }\n",
       "    svg.railroad-diagram path {\n",
       "        stroke-width:3;\n",
       "        stroke:black;\n",
       "        fill:white;\n",
       "    }\n",
       "    svg.railroad-diagram text {\n",
       "        font:14px \"Fira Mono\", monospace;\n",
       "        text-anchor:middle;\n",
       "    }\n",
       "    svg.railroad-diagram text.label{\n",
       "        text-anchor:start;\n",
       "    }\n",
       "    svg.railroad-diagram text.comment{\n",
       "        font:italic 12px \"Fira Mono\", monospace;\n",
       "    }\n",
       "    svg.railroad-diagram rect{\n",
       "        stroke-width:2;\n",
       "        stroke:black;\n",
       "        fill:mistyrose;\n",
       "    }\n",
       "\n",
       "/* ]]> */\n",
       "</style><g>\n",
       "<path d=\"M20 89v20m10 -20v20m-10 -10h20\"/></g><g>\n",
       "<path d=\"M40 99h0.0\"/><path d=\"M571.0 99h0.0\"/><path d=\"M40.0 99a10 10 0 0 0 10 -10v-59a10 10 0 0 1 10 -10h412.5\"/><path d=\"M138.5 178h412.5a10 10 0 0 0 10 -10v-59a10 10 0 0 1 10 -10\"/><path d=\"M40.0 99h10\"/><g>\n",
       "<path d=\"M50.0 99h0.0\"/><path d=\"M118.5 99h0.0\"/><path d=\"M50.0 99a10 10 0 0 0 10 -10v-10a10 10 0 0 1 10 -10\"/><g>\n",
       "<path d=\"M70.0 69h0.0\"/><path d=\"M98.5 69h0.0\"/><g class=\"terminal\">\n",
       "<path d=\"M70.0 69h0.0\"/><path d=\"M98.5 69h0.0\"/><rect height=\"22\" rx=\"10\" ry=\"10\" width=\"28.5\" x=\"70.0\" y=\"58\"/><text x=\"84.25\" y=\"73\">b</text></g></g><path d=\"M98.5 69a10 10 0 0 1 10 10v10a10 10 0 0 0 10 10\"/><path d=\"M50.0 99a10 10 0 0 0 10 -10v-40a10 10 0 0 1 10 -10\"/><g>\n",
       "<path d=\"M70.0 39h0.0\"/><path d=\"M98.5 39h0.0\"/><g class=\"terminal\">\n",
       "<path d=\"M70.0 39h0.0\"/><path d=\"M98.5 39h0.0\"/><rect height=\"22\" rx=\"10\" ry=\"10\" width=\"28.5\" x=\"70.0\" y=\"28\"/><text x=\"84.25\" y=\"43\">a</text></g></g><path d=\"M98.5 39a10 10 0 0 1 10 10v40a10 10 0 0 0 10 10\"/><path d=\"M50.0 99h20\"/><g>\n",
       "<path d=\"M70.0 99h0.0\"/><path d=\"M98.5 99h0.0\"/><g class=\"terminal\">\n",
       "<path d=\"M70.0 99h0.0\"/><path d=\"M98.5 99h0.0\"/><rect height=\"22\" rx=\"10\" ry=\"10\" width=\"28.5\" x=\"70.0\" y=\"88\"/><text x=\"84.25\" y=\"103\">c</text></g></g><path d=\"M98.5 99h20\"/><path d=\"M50.0 99a10 10 0 0 1 10 10v10a10 10 0 0 0 10 10\"/><g>\n",
       "<path d=\"M70.0 129h0.0\"/><path d=\"M98.5 129h0.0\"/><g class=\"terminal\">\n",
       "<path d=\"M70.0 129h0.0\"/><path d=\"M98.5 129h0.0\"/><rect height=\"22\" rx=\"10\" ry=\"10\" width=\"28.5\" x=\"70.0\" y=\"118\"/><text x=\"84.25\" y=\"133\">d</text></g></g><path d=\"M98.5 129a10 10 0 0 0 10 -10v-10a10 10 0 0 1 10 -10\"/><path d=\"M50.0 99a10 10 0 0 1 10 10v40a10 10 0 0 0 10 10\"/><g>\n",
       "<path d=\"M70.0 159h0.0\"/><path d=\"M98.5 159h0.0\"/><g class=\"terminal\">\n",
       "<path d=\"M70.0 159h0.0\"/><path d=\"M98.5 159h0.0\"/><rect height=\"22\" rx=\"10\" ry=\"10\" width=\"28.5\" x=\"70.0\" y=\"148\"/><text x=\"84.25\" y=\"163\">e</text></g></g><path d=\"M98.5 159a10 10 0 0 0 10 -10v-40a10 10 0 0 1 10 -10\"/></g><path d=\"M118.5 99a10 10 0 0 1 10 10v59a10 10 0 0 0 10 10\"/><path d=\"M118.5 20a10 10 0 0 1 10 10v59a10 10 0 0 0 10 10\"/><g>\n",
       "<path d=\"M138.5 99h0.0\"/><path d=\"M207.0 99h0.0\"/><path d=\"M138.5 99a10 10 0 0 0 10 -10v-10a10 10 0 0 1 10 -10\"/><g>\n",
       "<path d=\"M158.5 69h0.0\"/><path d=\"M187.0 69h0.0\"/><g class=\"terminal\">\n",
       "<path d=\"M158.5 69h0.0\"/><path d=\"M187.0 69h0.0\"/><rect height=\"22\" rx=\"10\" ry=\"10\" width=\"28.5\" x=\"158.5\" y=\"58\"/><text x=\"172.75\" y=\"73\">g</text></g></g><path d=\"M187.0 69a10 10 0 0 1 10 10v10a10 10 0 0 0 10 10\"/><path d=\"M138.5 99a10 10 0 0 0 10 -10v-40a10 10 0 0 1 10 -10\"/><g>\n",
       "<path d=\"M158.5 39h0.0\"/><path d=\"M187.0 39h0.0\"/><g class=\"terminal\">\n",
       "<path d=\"M158.5 39h0.0\"/><path d=\"M187.0 39h0.0\"/><rect height=\"22\" rx=\"10\" ry=\"10\" width=\"28.5\" x=\"158.5\" y=\"28\"/><text x=\"172.75\" y=\"43\">f</text></g></g><path d=\"M187.0 39a10 10 0 0 1 10 10v40a10 10 0 0 0 10 10\"/><path d=\"M138.5 99h20\"/><g>\n",
       "<path d=\"M158.5 99h0.0\"/><path d=\"M187.0 99h0.0\"/><g class=\"terminal\">\n",
       "<path d=\"M158.5 99h0.0\"/><path d=\"M187.0 99h0.0\"/><rect height=\"22\" rx=\"10\" ry=\"10\" width=\"28.5\" x=\"158.5\" y=\"88\"/><text x=\"172.75\" y=\"103\">h</text></g></g><path d=\"M187.0 99h20\"/><path d=\"M138.5 99a10 10 0 0 1 10 10v10a10 10 0 0 0 10 10\"/><g>\n",
       "<path d=\"M158.5 129h0.0\"/><path d=\"M187.0 129h0.0\"/><g class=\"terminal\">\n",
       "<path d=\"M158.5 129h0.0\"/><path d=\"M187.0 129h0.0\"/><rect height=\"22\" rx=\"10\" ry=\"10\" width=\"28.5\" x=\"158.5\" y=\"118\"/><text x=\"172.75\" y=\"133\">i</text></g></g><path d=\"M187.0 129a10 10 0 0 0 10 -10v-10a10 10 0 0 1 10 -10\"/><path d=\"M138.5 99a10 10 0 0 1 10 10v40a10 10 0 0 0 10 10\"/><g>\n",
       "<path d=\"M158.5 159h0.0\"/><path d=\"M187.0 159h0.0\"/><g class=\"terminal\">\n",
       "<path d=\"M158.5 159h0.0\"/><path d=\"M187.0 159h0.0\"/><rect height=\"22\" rx=\"10\" ry=\"10\" width=\"28.5\" x=\"158.5\" y=\"148\"/><text x=\"172.75\" y=\"163\">j</text></g></g><path d=\"M187.0 159a10 10 0 0 0 10 -10v-40a10 10 0 0 1 10 -10\"/></g><path d=\"M207.0 99a10 10 0 0 1 10 10v59a10 10 0 0 0 10 10\"/><path d=\"M207.0 20a10 10 0 0 1 10 10v59a10 10 0 0 0 10 10\"/><g>\n",
       "<path d=\"M227.0 99h0.0\"/><path d=\"M295.5 99h0.0\"/><path d=\"M227.0 99a10 10 0 0 0 10 -10v-10a10 10 0 0 1 10 -10\"/><g>\n",
       "<path d=\"M247.0 69h0.0\"/><path d=\"M275.5 69h0.0\"/><g class=\"terminal\">\n",
       "<path d=\"M247.0 69h0.0\"/><path d=\"M275.5 69h0.0\"/><rect height=\"22\" rx=\"10\" ry=\"10\" width=\"28.5\" x=\"247.0\" y=\"58\"/><text x=\"261.25\" y=\"73\">l</text></g></g><path d=\"M275.5 69a10 10 0 0 1 10 10v10a10 10 0 0 0 10 10\"/><path d=\"M227.0 99a10 10 0 0 0 10 -10v-40a10 10 0 0 1 10 -10\"/><g>\n",
       "<path d=\"M247.0 39h0.0\"/><path d=\"M275.5 39h0.0\"/><g class=\"terminal\">\n",
       "<path d=\"M247.0 39h0.0\"/><path d=\"M275.5 39h0.0\"/><rect height=\"22\" rx=\"10\" ry=\"10\" width=\"28.5\" x=\"247.0\" y=\"28\"/><text x=\"261.25\" y=\"43\">k</text></g></g><path d=\"M275.5 39a10 10 0 0 1 10 10v40a10 10 0 0 0 10 10\"/><path d=\"M227.0 99h20\"/><g>\n",
       "<path d=\"M247.0 99h0.0\"/><path d=\"M275.5 99h0.0\"/><g class=\"terminal\">\n",
       "<path d=\"M247.0 99h0.0\"/><path d=\"M275.5 99h0.0\"/><rect height=\"22\" rx=\"10\" ry=\"10\" width=\"28.5\" x=\"247.0\" y=\"88\"/><text x=\"261.25\" y=\"103\">m</text></g></g><path d=\"M275.5 99h20\"/><path d=\"M227.0 99a10 10 0 0 1 10 10v10a10 10 0 0 0 10 10\"/><g>\n",
       "<path d=\"M247.0 129h0.0\"/><path d=\"M275.5 129h0.0\"/><g class=\"terminal\">\n",
       "<path d=\"M247.0 129h0.0\"/><path d=\"M275.5 129h0.0\"/><rect height=\"22\" rx=\"10\" ry=\"10\" width=\"28.5\" x=\"247.0\" y=\"118\"/><text x=\"261.25\" y=\"133\">n</text></g></g><path d=\"M275.5 129a10 10 0 0 0 10 -10v-10a10 10 0 0 1 10 -10\"/><path d=\"M227.0 99a10 10 0 0 1 10 10v40a10 10 0 0 0 10 10\"/><g>\n",
       "<path d=\"M247.0 159h0.0\"/><path d=\"M275.5 159h0.0\"/><g class=\"terminal\">\n",
       "<path d=\"M247.0 159h0.0\"/><path d=\"M275.5 159h0.0\"/><rect height=\"22\" rx=\"10\" ry=\"10\" width=\"28.5\" x=\"247.0\" y=\"148\"/><text x=\"261.25\" y=\"163\">o</text></g></g><path d=\"M275.5 159a10 10 0 0 0 10 -10v-40a10 10 0 0 1 10 -10\"/></g><path d=\"M295.5 99a10 10 0 0 1 10 10v59a10 10 0 0 0 10 10\"/><path d=\"M295.5 20a10 10 0 0 1 10 10v59a10 10 0 0 0 10 10\"/><g>\n",
       "<path d=\"M315.5 99h0.0\"/><path d=\"M384.0 99h0.0\"/><path d=\"M315.5 99a10 10 0 0 0 10 -10v-10a10 10 0 0 1 10 -10\"/><g>\n",
       "<path d=\"M335.5 69h0.0\"/><path d=\"M364.0 69h0.0\"/><g class=\"terminal\">\n",
       "<path d=\"M335.5 69h0.0\"/><path d=\"M364.0 69h0.0\"/><rect height=\"22\" rx=\"10\" ry=\"10\" width=\"28.5\" x=\"335.5\" y=\"58\"/><text x=\"349.75\" y=\"73\">q</text></g></g><path d=\"M364.0 69a10 10 0 0 1 10 10v10a10 10 0 0 0 10 10\"/><path d=\"M315.5 99a10 10 0 0 0 10 -10v-40a10 10 0 0 1 10 -10\"/><g>\n",
       "<path d=\"M335.5 39h0.0\"/><path d=\"M364.0 39h0.0\"/><g class=\"terminal\">\n",
       "<path d=\"M335.5 39h0.0\"/><path d=\"M364.0 39h0.0\"/><rect height=\"22\" rx=\"10\" ry=\"10\" width=\"28.5\" x=\"335.5\" y=\"28\"/><text x=\"349.75\" y=\"43\">p</text></g></g><path d=\"M364.0 39a10 10 0 0 1 10 10v40a10 10 0 0 0 10 10\"/><path d=\"M315.5 99h20\"/><g>\n",
       "<path d=\"M335.5 99h0.0\"/><path d=\"M364.0 99h0.0\"/><g class=\"terminal\">\n",
       "<path d=\"M335.5 99h0.0\"/><path d=\"M364.0 99h0.0\"/><rect height=\"22\" rx=\"10\" ry=\"10\" width=\"28.5\" x=\"335.5\" y=\"88\"/><text x=\"349.75\" y=\"103\">r</text></g></g><path d=\"M364.0 99h20\"/><path d=\"M315.5 99a10 10 0 0 1 10 10v10a10 10 0 0 0 10 10\"/><g>\n",
       "<path d=\"M335.5 129h0.0\"/><path d=\"M364.0 129h0.0\"/><g class=\"terminal\">\n",
       "<path d=\"M335.5 129h0.0\"/><path d=\"M364.0 129h0.0\"/><rect height=\"22\" rx=\"10\" ry=\"10\" width=\"28.5\" x=\"335.5\" y=\"118\"/><text x=\"349.75\" y=\"133\">s</text></g></g><path d=\"M364.0 129a10 10 0 0 0 10 -10v-10a10 10 0 0 1 10 -10\"/><path d=\"M315.5 99a10 10 0 0 1 10 10v40a10 10 0 0 0 10 10\"/><g>\n",
       "<path d=\"M335.5 159h0.0\"/><path d=\"M364.0 159h0.0\"/><g class=\"terminal\">\n",
       "<path d=\"M335.5 159h0.0\"/><path d=\"M364.0 159h0.0\"/><rect height=\"22\" rx=\"10\" ry=\"10\" width=\"28.5\" x=\"335.5\" y=\"148\"/><text x=\"349.75\" y=\"163\">t</text></g></g><path d=\"M364.0 159a10 10 0 0 0 10 -10v-40a10 10 0 0 1 10 -10\"/></g><path d=\"M384.0 99a10 10 0 0 1 10 10v59a10 10 0 0 0 10 10\"/><path d=\"M384.0 20a10 10 0 0 1 10 10v59a10 10 0 0 0 10 10\"/><g>\n",
       "<path d=\"M404.0 99h0.0\"/><path d=\"M472.5 99h0.0\"/><path d=\"M404.0 99a10 10 0 0 0 10 -10v-10a10 10 0 0 1 10 -10\"/><g>\n",
       "<path d=\"M424.0 69h0.0\"/><path d=\"M452.5 69h0.0\"/><g class=\"terminal\">\n",
       "<path d=\"M424.0 69h0.0\"/><path d=\"M452.5 69h0.0\"/><rect height=\"22\" rx=\"10\" ry=\"10\" width=\"28.5\" x=\"424.0\" y=\"58\"/><text x=\"438.25\" y=\"73\">v</text></g></g><path d=\"M452.5 69a10 10 0 0 1 10 10v10a10 10 0 0 0 10 10\"/><path d=\"M404.0 99a10 10 0 0 0 10 -10v-40a10 10 0 0 1 10 -10\"/><g>\n",
       "<path d=\"M424.0 39h0.0\"/><path d=\"M452.5 39h0.0\"/><g class=\"terminal\">\n",
       "<path d=\"M424.0 39h0.0\"/><path d=\"M452.5 39h0.0\"/><rect height=\"22\" rx=\"10\" ry=\"10\" width=\"28.5\" x=\"424.0\" y=\"28\"/><text x=\"438.25\" y=\"43\">u</text></g></g><path d=\"M452.5 39a10 10 0 0 1 10 10v40a10 10 0 0 0 10 10\"/><path d=\"M404.0 99h20\"/><g>\n",
       "<path d=\"M424.0 99h0.0\"/><path d=\"M452.5 99h0.0\"/><g class=\"terminal\">\n",
       "<path d=\"M424.0 99h0.0\"/><path d=\"M452.5 99h0.0\"/><rect height=\"22\" rx=\"10\" ry=\"10\" width=\"28.5\" x=\"424.0\" y=\"88\"/><text x=\"438.25\" y=\"103\">w</text></g></g><path d=\"M452.5 99h20\"/><path d=\"M404.0 99a10 10 0 0 1 10 10v10a10 10 0 0 0 10 10\"/><g>\n",
       "<path d=\"M424.0 129h0.0\"/><path d=\"M452.5 129h0.0\"/><g class=\"terminal\">\n",
       "<path d=\"M424.0 129h0.0\"/><path d=\"M452.5 129h0.0\"/><rect height=\"22\" rx=\"10\" ry=\"10\" width=\"28.5\" x=\"424.0\" y=\"118\"/><text x=\"438.25\" y=\"133\">x</text></g></g><path d=\"M452.5 129a10 10 0 0 0 10 -10v-10a10 10 0 0 1 10 -10\"/><path d=\"M404.0 99a10 10 0 0 1 10 10v40a10 10 0 0 0 10 10\"/><g>\n",
       "<path d=\"M424.0 159h0.0\"/><path d=\"M452.5 159h0.0\"/><g class=\"terminal\">\n",
       "<path d=\"M424.0 159h0.0\"/><path d=\"M452.5 159h0.0\"/><rect height=\"22\" rx=\"10\" ry=\"10\" width=\"28.5\" x=\"424.0\" y=\"148\"/><text x=\"438.25\" y=\"163\">y</text></g></g><path d=\"M452.5 159a10 10 0 0 0 10 -10v-40a10 10 0 0 1 10 -10\"/></g><path d=\"M472.5 99a10 10 0 0 1 10 10v59a10 10 0 0 0 10 10\"/><path d=\"M472.5 20a10 10 0 0 1 10 10v59a10 10 0 0 0 10 10\"/><g>\n",
       "<path d=\"M492.5 99h0.0\"/><path d=\"M561.0 99h0.0\"/><path d=\"M492.5 99h20\"/><g>\n",
       "<path d=\"M512.5 99h0.0\"/><path d=\"M541.0 99h0.0\"/><g class=\"terminal\">\n",
       "<path d=\"M512.5 99h0.0\"/><path d=\"M541.0 99h0.0\"/><rect height=\"22\" rx=\"10\" ry=\"10\" width=\"28.5\" x=\"512.5\" y=\"88\"/><text x=\"526.75\" y=\"103\">z</text></g></g><path d=\"M541.0 99h20\"/></g><path d=\"M561.0 99h10\"/></g><path d=\"M 571.0 99 h 20 m -10 -10 v 20 m 10 -20 v 20\"/></g></svg>"
      ],
      "text/plain": [
       "<IPython.core.display.SVG object>"
      ]
     },
     "metadata": {},
     "output_type": "display_data"
    },
    {
     "name": "stdout",
     "output_type": "stream",
     "text": [
      "digit\n"
     ]
    },
    {
     "data": {
      "image/svg+xml": [
       "<svg xmlns=\"http://www.w3.org/2000/svg\" class=\"railroad-diagram\" height=\"109\" viewBox=\"0 0 522.5 109\" width=\"522.5\">\n",
       "<g transform=\"translate(.5 .5)\">\n",
       "<style>/* <![CDATA[ */\n",
       "    svg.railroad-diagram {\n",
       "    }\n",
       "    svg.railroad-diagram path {\n",
       "        stroke-width:3;\n",
       "        stroke:black;\n",
       "        fill:white;\n",
       "    }\n",
       "    svg.railroad-diagram text {\n",
       "        font:14px \"Fira Mono\", monospace;\n",
       "        text-anchor:middle;\n",
       "    }\n",
       "    svg.railroad-diagram text.label{\n",
       "        text-anchor:start;\n",
       "    }\n",
       "    svg.railroad-diagram text.comment{\n",
       "        font:italic 12px \"Fira Mono\", monospace;\n",
       "    }\n",
       "    svg.railroad-diagram rect{\n",
       "        stroke-width:2;\n",
       "        stroke:black;\n",
       "        fill:mistyrose;\n",
       "    }\n",
       "\n",
       "/* ]]> */\n",
       "</style><g>\n",
       "<path d=\"M20 59v20m10 -20v20m-10 -10h20\"/></g><g>\n",
       "<path d=\"M40 69h0.0\"/><path d=\"M482.5 69h0.0\"/><path d=\"M40.0 69a10 10 0 0 0 10 -10v-29a10 10 0 0 1 10 -10h324.0\"/><path d=\"M138.5 89h324.0a10 10 0 0 0 10 -10v0a10 10 0 0 1 10 -10\"/><path d=\"M40.0 69h10\"/><g>\n",
       "<path d=\"M50.0 69h0.0\"/><path d=\"M118.5 69h0.0\"/><path d=\"M50.0 69a10 10 0 0 0 10 -10v-10a10 10 0 0 1 10 -10\"/><g>\n",
       "<path d=\"M70.0 39h0.0\"/><path d=\"M98.5 39h0.0\"/><g class=\"terminal\">\n",
       "<path d=\"M70.0 39h0.0\"/><path d=\"M98.5 39h0.0\"/><rect height=\"22\" rx=\"10\" ry=\"10\" width=\"28.5\" x=\"70.0\" y=\"28\"/><text x=\"84.25\" y=\"43\">0</text></g></g><path d=\"M98.5 39a10 10 0 0 1 10 10v10a10 10 0 0 0 10 10\"/><path d=\"M50.0 69h20\"/><g>\n",
       "<path d=\"M70.0 69h0.0\"/><path d=\"M98.5 69h0.0\"/><g class=\"terminal\">\n",
       "<path d=\"M70.0 69h0.0\"/><path d=\"M98.5 69h0.0\"/><rect height=\"22\" rx=\"10\" ry=\"10\" width=\"28.5\" x=\"70.0\" y=\"58\"/><text x=\"84.25\" y=\"73\">1</text></g></g><path d=\"M98.5 69h20\"/></g><path d=\"M118.5 69a10 10 0 0 1 10 10v0a10 10 0 0 0 10 10\"/><path d=\"M118.5 20a10 10 0 0 1 10 10v29a10 10 0 0 0 10 10\"/><g>\n",
       "<path d=\"M138.5 69h0.0\"/><path d=\"M207.0 69h0.0\"/><path d=\"M138.5 69a10 10 0 0 0 10 -10v-10a10 10 0 0 1 10 -10\"/><g>\n",
       "<path d=\"M158.5 39h0.0\"/><path d=\"M187.0 39h0.0\"/><g class=\"terminal\">\n",
       "<path d=\"M158.5 39h0.0\"/><path d=\"M187.0 39h0.0\"/><rect height=\"22\" rx=\"10\" ry=\"10\" width=\"28.5\" x=\"158.5\" y=\"28\"/><text x=\"172.75\" y=\"43\">2</text></g></g><path d=\"M187.0 39a10 10 0 0 1 10 10v10a10 10 0 0 0 10 10\"/><path d=\"M138.5 69h20\"/><g>\n",
       "<path d=\"M158.5 69h0.0\"/><path d=\"M187.0 69h0.0\"/><g class=\"terminal\">\n",
       "<path d=\"M158.5 69h0.0\"/><path d=\"M187.0 69h0.0\"/><rect height=\"22\" rx=\"10\" ry=\"10\" width=\"28.5\" x=\"158.5\" y=\"58\"/><text x=\"172.75\" y=\"73\">3</text></g></g><path d=\"M187.0 69h20\"/></g><path d=\"M207.0 69a10 10 0 0 1 10 10v0a10 10 0 0 0 10 10\"/><path d=\"M207.0 20a10 10 0 0 1 10 10v29a10 10 0 0 0 10 10\"/><g>\n",
       "<path d=\"M227.0 69h0.0\"/><path d=\"M295.5 69h0.0\"/><path d=\"M227.0 69a10 10 0 0 0 10 -10v-10a10 10 0 0 1 10 -10\"/><g>\n",
       "<path d=\"M247.0 39h0.0\"/><path d=\"M275.5 39h0.0\"/><g class=\"terminal\">\n",
       "<path d=\"M247.0 39h0.0\"/><path d=\"M275.5 39h0.0\"/><rect height=\"22\" rx=\"10\" ry=\"10\" width=\"28.5\" x=\"247.0\" y=\"28\"/><text x=\"261.25\" y=\"43\">4</text></g></g><path d=\"M275.5 39a10 10 0 0 1 10 10v10a10 10 0 0 0 10 10\"/><path d=\"M227.0 69h20\"/><g>\n",
       "<path d=\"M247.0 69h0.0\"/><path d=\"M275.5 69h0.0\"/><g class=\"terminal\">\n",
       "<path d=\"M247.0 69h0.0\"/><path d=\"M275.5 69h0.0\"/><rect height=\"22\" rx=\"10\" ry=\"10\" width=\"28.5\" x=\"247.0\" y=\"58\"/><text x=\"261.25\" y=\"73\">5</text></g></g><path d=\"M275.5 69h20\"/></g><path d=\"M295.5 69a10 10 0 0 1 10 10v0a10 10 0 0 0 10 10\"/><path d=\"M295.5 20a10 10 0 0 1 10 10v29a10 10 0 0 0 10 10\"/><g>\n",
       "<path d=\"M315.5 69h0.0\"/><path d=\"M384.0 69h0.0\"/><path d=\"M315.5 69a10 10 0 0 0 10 -10v-10a10 10 0 0 1 10 -10\"/><g>\n",
       "<path d=\"M335.5 39h0.0\"/><path d=\"M364.0 39h0.0\"/><g class=\"terminal\">\n",
       "<path d=\"M335.5 39h0.0\"/><path d=\"M364.0 39h0.0\"/><rect height=\"22\" rx=\"10\" ry=\"10\" width=\"28.5\" x=\"335.5\" y=\"28\"/><text x=\"349.75\" y=\"43\">6</text></g></g><path d=\"M364.0 39a10 10 0 0 1 10 10v10a10 10 0 0 0 10 10\"/><path d=\"M315.5 69h20\"/><g>\n",
       "<path d=\"M335.5 69h0.0\"/><path d=\"M364.0 69h0.0\"/><g class=\"terminal\">\n",
       "<path d=\"M335.5 69h0.0\"/><path d=\"M364.0 69h0.0\"/><rect height=\"22\" rx=\"10\" ry=\"10\" width=\"28.5\" x=\"335.5\" y=\"58\"/><text x=\"349.75\" y=\"73\">7</text></g></g><path d=\"M364.0 69h20\"/></g><path d=\"M384.0 69a10 10 0 0 1 10 10v0a10 10 0 0 0 10 10\"/><path d=\"M384.0 20a10 10 0 0 1 10 10v29a10 10 0 0 0 10 10\"/><g>\n",
       "<path d=\"M404.0 69h0.0\"/><path d=\"M472.5 69h0.0\"/><path d=\"M404.0 69a10 10 0 0 0 10 -10v-10a10 10 0 0 1 10 -10\"/><g>\n",
       "<path d=\"M424.0 39h0.0\"/><path d=\"M452.5 39h0.0\"/><g class=\"terminal\">\n",
       "<path d=\"M424.0 39h0.0\"/><path d=\"M452.5 39h0.0\"/><rect height=\"22\" rx=\"10\" ry=\"10\" width=\"28.5\" x=\"424.0\" y=\"28\"/><text x=\"438.25\" y=\"43\">8</text></g></g><path d=\"M452.5 39a10 10 0 0 1 10 10v10a10 10 0 0 0 10 10\"/><path d=\"M404.0 69h20\"/><g>\n",
       "<path d=\"M424.0 69h0.0\"/><path d=\"M452.5 69h0.0\"/><g class=\"terminal\">\n",
       "<path d=\"M424.0 69h0.0\"/><path d=\"M452.5 69h0.0\"/><rect height=\"22\" rx=\"10\" ry=\"10\" width=\"28.5\" x=\"424.0\" y=\"58\"/><text x=\"438.25\" y=\"73\">9</text></g></g><path d=\"M452.5 69h20\"/></g><path d=\"M472.5 69h10\"/></g><path d=\"M 482.5 69 h 20 m -10 -10 v 20 m 10 -20 v 20\"/></g></svg>"
      ],
      "text/plain": [
       "<IPython.core.display.SVG object>"
      ]
     },
     "metadata": {},
     "output_type": "display_data"
    }
   ],
   "source": [
    "syntax_diagram(LANG_GRAMMAR)"
   ]
  },
  {
   "cell_type": "markdown",
   "id": "5126ae1e",
   "metadata": {
    "slideshow": {
     "slide_type": "subslide"
    }
   },
   "source": [
    "Here are some assignment sequences produced by the grammar:"
   ]
  },
  {
   "cell_type": "code",
   "execution_count": 73,
   "id": "dc16685f",
   "metadata": {
    "execution": {
     "iopub.execute_input": "2023-01-07T14:19:21.274649Z",
     "iopub.status.busy": "2023-01-07T14:19:21.273868Z",
     "iopub.status.idle": "2023-01-07T14:19:21.276080Z",
     "shell.execute_reply": "2023-01-07T14:19:21.276416Z"
    },
    "slideshow": {
     "slide_type": "fragment"
    }
   },
   "outputs": [],
   "source": [
    "fuzzer = GrammarFuzzer(LANG_GRAMMAR)"
   ]
  },
  {
   "cell_type": "code",
   "execution_count": 74,
   "id": "782b8aa5",
   "metadata": {
    "execution": {
     "iopub.execute_input": "2023-01-07T14:19:21.283724Z",
     "iopub.status.busy": "2023-01-07T14:19:21.277855Z",
     "iopub.status.idle": "2023-01-07T14:19:21.285378Z",
     "shell.execute_reply": "2023-01-07T14:19:21.285760Z"
    },
    "slideshow": {
     "slide_type": "fragment"
    }
   },
   "outputs": [
    {
     "name": "stdout",
     "output_type": "stream",
     "text": [
      "w := 7; g := 2\n",
      "f := m; x := 3\n",
      "p := 3\n",
      "h := f; h := u\n",
      "n := k; k := z; z := 6\n",
      "m := x; g := h\n",
      "d := 3\n",
      "h := 6\n",
      "s := m\n",
      "k := q\n"
     ]
    }
   ],
   "source": [
    "for _ in range(10):\n",
    "    print(fuzzer.fuzz())"
   ]
  },
  {
   "cell_type": "markdown",
   "id": "d60c24d4",
   "metadata": {
    "slideshow": {
     "slide_type": "subslide"
    }
   },
   "source": [
    "We see that the assignment _syntax_ is similar to what we have in common programming languages.\n",
    "The _semantics_, however, are, well, questionable, as we commonly access variables whose values have not been previously defined.\n",
    "Again, this is a _semantic_ property that cannot be expressed in a context-free grammar alone."
   ]
  },
  {
   "attachments": {},
   "cell_type": "markdown",
   "id": "244515ff",
   "metadata": {
    "slideshow": {
     "slide_type": "fragment"
    }
   },
   "source": [
    "What we need here is a constraint specifying that on the right-hand side of an assignment, we can only have variable names that occur on the left-hand side.\n",
    "In ISLa, we achieve this through the following constraint:"
   ]
  },
  {
   "cell_type": "code",
   "execution_count": 75,
   "id": "7ff03421",
   "metadata": {
    "execution": {
     "iopub.execute_input": "2023-01-07T14:19:21.292090Z",
     "iopub.status.busy": "2023-01-07T14:19:21.291638Z",
     "iopub.status.idle": "2023-01-07T14:19:21.301831Z",
     "shell.execute_reply": "2023-01-07T14:19:21.302362Z"
    },
    "slideshow": {
     "slide_type": "subslide"
    }
   },
   "outputs": [],
   "source": [
    "solver = ISLaSolver(LANG_GRAMMAR, \n",
    "            '''\n",
    "            forall <rhs> in <assgn>:\n",
    "                exists <assgn> declaration:\n",
    "                    <rhs>.<var> = declaration.<lhs>.<var>\n",
    "            ''',\n",
    "            max_number_smt_instantiations=1,\n",
    "            max_number_free_instantiations=1)"
   ]
  },
  {
   "cell_type": "code",
   "execution_count": 76,
   "id": "34556bfc",
   "metadata": {
    "execution": {
     "iopub.execute_input": "2023-01-07T14:19:21.306492Z",
     "iopub.status.busy": "2023-01-07T14:19:21.306001Z",
     "iopub.status.idle": "2023-01-07T14:19:22.358495Z",
     "shell.execute_reply": "2023-01-07T14:19:22.358784Z"
    },
    "slideshow": {
     "slide_type": "subslide"
    }
   },
   "outputs": [
    {
     "name": "stdout",
     "output_type": "stream",
     "text": [
      "y := 1\n",
      "a := 0; t := 5\n",
      "p := p\n",
      "u := 2; k := 4; o := 7\n",
      "p := 3; r := 8; v := p\n",
      "h := 9; l := h\n",
      "h := h; s := 6\n",
      "p := 8; m := p\n",
      "p := p; d := p\n",
      "h := h; i := h\n"
     ]
    }
   ],
   "source": [
    "for _ in range(10):\n",
    "    print(solver.solve())"
   ]
  },
  {
   "cell_type": "markdown",
   "id": "b92597ba",
   "metadata": {
    "slideshow": {
     "slide_type": "subslide"
    }
   },
   "source": [
    "This is much better already, but not perfect yet - we might still have assignments like `a := a` or `a := b; b := 5`.\n",
    "That is because our constraints do not yet take care of _ordering_ – in a `<rhs>` element, we can only use variables that are defined earlier."
   ]
  },
  {
   "cell_type": "markdown",
   "id": "f2cd187c",
   "metadata": {
    "slideshow": {
     "slide_type": "fragment"
    }
   },
   "source": [
    "For this purpose, ISLa provides a `before()` predicate: `before(A, B)` expresses that the element `A` must occur before the element `B`.\n",
    "With `before()`, we can rewrite our constraint as"
   ]
  },
  {
   "cell_type": "code",
   "execution_count": 77,
   "id": "71621ad9",
   "metadata": {
    "execution": {
     "iopub.execute_input": "2023-01-07T14:19:22.363740Z",
     "iopub.status.busy": "2023-01-07T14:19:22.363430Z",
     "iopub.status.idle": "2023-01-07T14:19:22.367434Z",
     "shell.execute_reply": "2023-01-07T14:19:22.367695Z"
    },
    "slideshow": {
     "slide_type": "subslide"
    }
   },
   "outputs": [],
   "source": [
    "solver = ISLaSolver(LANG_GRAMMAR, \n",
    "            '''\n",
    "            forall <rhs> in <assgn>:\n",
    "                exists <assgn> declaration:\n",
    "                    (before(declaration, <assgn>) and\n",
    "                     <rhs>.<var> = declaration.<lhs>.<var>)\n",
    "            ''',\n",
    "            max_number_free_instantiations=1,\n",
    "            max_number_smt_instantiations=1)"
   ]
  },
  {
   "cell_type": "markdown",
   "id": "b0b7bcfb",
   "metadata": {
    "slideshow": {
     "slide_type": "fragment"
    }
   },
   "source": [
    "... and thus ensure that on the right-hand-side of assignments, we only use identifiers defined earlier."
   ]
  },
  {
   "cell_type": "code",
   "execution_count": 78,
   "id": "b15fd9a5-1320-4f17-b139-0bfc716c8a7f",
   "metadata": {
    "execution": {
     "iopub.execute_input": "2023-01-07T14:19:22.371581Z",
     "iopub.status.busy": "2023-01-07T14:19:22.369523Z",
     "iopub.status.idle": "2023-01-07T14:19:24.041365Z",
     "shell.execute_reply": "2023-01-07T14:19:24.041672Z"
    },
    "slideshow": {
     "slide_type": "subslide"
    }
   },
   "outputs": [
    {
     "name": "stdout",
     "output_type": "stream",
     "text": [
      "f := 0\n",
      "x := 3; c := 1\n",
      "a := 8; p := a; l := p; q := 9\n",
      "d := 4; h := d; y := 6; b := h\n",
      "b := 7; t := b\n",
      "b := 2; e := b\n",
      "p := 5; v := p\n",
      "p := 9; z := p\n",
      "b := 8; b := 5; g := b\n",
      "b := 5; b := b; o := b\n"
     ]
    }
   ],
   "source": [
    "for _ in range(10):\n",
    "    print(solver.solve())"
   ]
  },
  {
   "cell_type": "markdown",
   "id": "e8022bb4",
   "metadata": {
    "slideshow": {
     "slide_type": "subslide"
    }
   },
   "source": [
    "In case you find that the assignment sequences are too short, you can use the ISLa `count()` predicate.\n",
    "`count(VARIABLE, NONTERMINAL, N)` ensures that the number of NONTERMINALs in VARIABLE is exactly N.\n",
    "To have statements with exactly 5 assignments, write"
   ]
  },
  {
   "cell_type": "code",
   "execution_count": 79,
   "id": "67d2232b",
   "metadata": {
    "execution": {
     "iopub.execute_input": "2023-01-07T14:19:24.047126Z",
     "iopub.status.busy": "2023-01-07T14:19:24.046806Z",
     "iopub.status.idle": "2023-01-07T14:19:24.050462Z",
     "shell.execute_reply": "2023-01-07T14:19:24.050667Z"
    },
    "slideshow": {
     "slide_type": "subslide"
    }
   },
   "outputs": [],
   "source": [
    "solver = ISLaSolver(LANG_GRAMMAR, \n",
    "            '''\n",
    "            forall <rhs> in <assgn>:\n",
    "                exists <assgn> declaration:\n",
    "                    (before(declaration, <assgn>) and\n",
    "                     <rhs>.<var> = declaration.<lhs>.<var>)\n",
    "            and\n",
    "            count(start, \"<assgn>\", \"5\")\n",
    "            ''', \n",
    "            max_number_smt_instantiations=1,\n",
    "            max_number_free_instantiations=1)"
   ]
  },
  {
   "cell_type": "code",
   "execution_count": 80,
   "id": "64db3b6b-1a03-478e-b498-bf7891b7bc76",
   "metadata": {
    "execution": {
     "iopub.execute_input": "2023-01-07T14:19:24.055656Z",
     "iopub.status.busy": "2023-01-07T14:19:24.052315Z",
     "iopub.status.idle": "2023-01-07T14:19:38.406301Z",
     "shell.execute_reply": "2023-01-07T14:19:38.406569Z"
    },
    "slideshow": {
     "slide_type": "subslide"
    }
   },
   "outputs": [
    {
     "name": "stdout",
     "output_type": "stream",
     "text": [
      "a := 8; g := a; c := 9; s := 2; k := 3\n",
      "p := 0; p := p; t := 5; e := 6; v := p\n",
      "p := 4; d := p; y := p; r := 7; j := 1\n",
      "p := 5; b := p; m := p; o := 6; f := p\n",
      "d := 4; l := d; i := 5; n := d; q := 6\n",
      "h := 8; h := h; w := 5; u := h; x := h\n",
      "b := 4; z := b; e := b; n := b; u := 7\n",
      "a := 3; f := a; z := a; v := a; x := a\n",
      "d := 7; t := 3; o := d; b := 7; l := 6\n",
      "a := 0; d := 3; p := a; i := 7; m := a\n"
     ]
    }
   ],
   "source": [
    "for _ in range(10):\n",
    "    print(solver.solve())"
   ]
  },
  {
   "cell_type": "markdown",
   "id": "8935932c",
   "metadata": {
    "slideshow": {
     "slide_type": "slide"
    }
   },
   "source": [
    "## Synopsis"
   ]
  },
  {
   "cell_type": "markdown",
   "id": "29e72aef",
   "metadata": {
    "slideshow": {
     "slide_type": "fragment"
    }
   },
   "source": [
    "This chapter introduces the [ISLa](https://rindphi.github.io/isla/) framework, consisting of \n",
    "* the _ISLa specification language_, allowing to add _constraints_ to a grammar\n",
    "* the _ISLa solver_, solving these constraints to produce semantically (and syntactically) valid inputs\n",
    "* the _ISLa checker_, checking given inputs for whether they satisfy these constraints."
   ]
  },
  {
   "cell_type": "markdown",
   "id": "04a22bca",
   "metadata": {
    "slideshow": {
     "slide_type": "subslide"
    }
   },
   "source": [
    "A typical usage of the ISLa solver is as follows.\n",
    "First, install ISLa, using \n",
    "```shell\n",
    "$ pip install isla-solver\n",
    "```\n",
    "Then, you can import the solver as"
   ]
  },
  {
   "cell_type": "code",
   "execution_count": 81,
   "id": "5c746541",
   "metadata": {
    "execution": {
     "iopub.execute_input": "2023-01-07T14:19:38.408596Z",
     "iopub.status.busy": "2023-01-07T14:19:38.408294Z",
     "iopub.status.idle": "2023-01-07T14:19:38.409484Z",
     "shell.execute_reply": "2023-01-07T14:19:38.409734Z"
    },
    "slideshow": {
     "slide_type": "skip"
    },
    "tags": []
   },
   "outputs": [],
   "source": [
    "from isla.solver import ISLaSolver  # type: ignore"
   ]
  },
  {
   "cell_type": "markdown",
   "id": "e0565a30",
   "metadata": {
    "slideshow": {
     "slide_type": "fragment"
    }
   },
   "source": [
    "The ISLa solver needs two things. First, a _grammar_ - say, US phone numbers."
   ]
  },
  {
   "cell_type": "code",
   "execution_count": 82,
   "id": "16fb0c80",
   "metadata": {
    "execution": {
     "iopub.execute_input": "2023-01-07T14:19:38.411436Z",
     "iopub.status.busy": "2023-01-07T14:19:38.411150Z",
     "iopub.status.idle": "2023-01-07T14:19:38.412708Z",
     "shell.execute_reply": "2023-01-07T14:19:38.412467Z"
    },
    "slideshow": {
     "slide_type": "skip"
    }
   },
   "outputs": [],
   "source": [
    "from Grammars import US_PHONE_GRAMMAR"
   ]
  },
  {
   "cell_type": "markdown",
   "id": "d40aa06b",
   "metadata": {
    "slideshow": {
     "slide_type": "subslide"
    }
   },
   "source": [
    "Second, you need _constraints_ – a string expressing a condition over one or more grammar elements.\n",
    "Common functions include\n",
    "* `str.len()`, returning the length of a string\n",
    "* `str.to.int()`, converting a string to an integer"
   ]
  },
  {
   "cell_type": "markdown",
   "id": "b1f52612",
   "metadata": {
    "slideshow": {
     "slide_type": "fragment"
    }
   },
   "source": [
    "Here, we instantiate the ISLa solver with a constraint stating that the area code should be above 900:"
   ]
  },
  {
   "cell_type": "code",
   "execution_count": 83,
   "id": "f9f6670a",
   "metadata": {
    "execution": {
     "iopub.execute_input": "2023-01-07T14:19:38.416582Z",
     "iopub.status.busy": "2023-01-07T14:19:38.416268Z",
     "iopub.status.idle": "2023-01-07T14:19:38.421571Z",
     "shell.execute_reply": "2023-01-07T14:19:38.421854Z"
    },
    "slideshow": {
     "slide_type": "fragment"
    }
   },
   "outputs": [],
   "source": [
    "solver = ISLaSolver(US_PHONE_GRAMMAR, \n",
    "            \"\"\"\n",
    "            str.to.int(<area>) > 900\n",
    "            \"\"\")"
   ]
  },
  {
   "cell_type": "markdown",
   "id": "ce7a752d",
   "metadata": {
    "slideshow": {
     "slide_type": "fragment"
    }
   },
   "source": [
    "With that, invoking `solver.solve()` returns a _solution_ for the constraints."
   ]
  },
  {
   "cell_type": "code",
   "execution_count": 84,
   "id": "9655f046-9686-4b36-abb6-7a285c8f9919",
   "metadata": {
    "execution": {
     "iopub.execute_input": "2023-01-07T14:19:38.428351Z",
     "iopub.status.busy": "2023-01-07T14:19:38.427909Z",
     "iopub.status.idle": "2023-01-07T14:19:39.547875Z",
     "shell.execute_reply": "2023-01-07T14:19:39.548147Z"
    },
    "slideshow": {
     "slide_type": "subslide"
    }
   },
   "outputs": [
    {
     "data": {
      "text/plain": [
       "'(902)649-3516'"
      ]
     },
     "execution_count": 84,
     "metadata": {},
     "output_type": "execute_result"
    }
   ],
   "source": [
    "str(solver.solve())"
   ]
  },
  {
   "cell_type": "markdown",
   "id": "604e9cd1-cc8d-4988-952a-adcdfbe9ea81",
   "metadata": {
    "slideshow": {
     "slide_type": "fragment"
    }
   },
   "source": [
    "`solve()` returns a derivation tree, which typically is converted into a string using `str()` as above. The `print()` function does this implicitly."
   ]
  },
  {
   "cell_type": "markdown",
   "id": "a9f69c33-b274-41e9-b8e1-ecbd7267119c",
   "metadata": {
    "slideshow": {
     "slide_type": "fragment"
    }
   },
   "source": [
    "Subsequent calls of `solve()` return more solutions:"
   ]
  },
  {
   "cell_type": "code",
   "execution_count": 85,
   "id": "22923e91",
   "metadata": {
    "execution": {
     "iopub.execute_input": "2023-01-07T14:19:39.550645Z",
     "iopub.status.busy": "2023-01-07T14:19:39.550299Z",
     "iopub.status.idle": "2023-01-07T14:19:39.572038Z",
     "shell.execute_reply": "2023-01-07T14:19:39.572245Z"
    },
    "slideshow": {
     "slide_type": "subslide"
    }
   },
   "outputs": [
    {
     "name": "stdout",
     "output_type": "stream",
     "text": [
      "(902)520-7480\n",
      "(902)401-9809\n",
      "(902)851-6086\n",
      "(902)384-8937\n",
      "(902)734-8347\n",
      "(902)918-9849\n",
      "(902)285-1666\n",
      "(902)621-6187\n",
      "(902)943-1442\n",
      "(905)695-2725\n"
     ]
    }
   ],
   "source": [
    "for _ in range(10):\n",
    "    print(solver.solve())"
   ]
  },
  {
   "cell_type": "markdown",
   "id": "22ddee2b",
   "metadata": {
    "slideshow": {
     "slide_type": "fragment"
    }
   },
   "source": [
    "We see that the solver produces a number of inputs that all satisfy the constraint - the area code is always more than 900."
   ]
  },
  {
   "cell_type": "markdown",
   "id": "d1b40c79",
   "metadata": {
    "slideshow": {
     "slide_type": "subslide"
    }
   },
   "source": [
    "The `ISLaSolver()` constructor provides several additional parameters to configure the solver, as documented below.\n",
    "Additional `ISLaSolver` methods allow to check inputs against constraints, and provide additional functionality."
   ]
  },
  {
   "cell_type": "code",
   "execution_count": 86,
   "id": "54a3eeec-ff7e-48ad-b3b0-5beaafb79fb7",
   "metadata": {
    "execution": {
     "iopub.execute_input": "2023-01-07T14:19:39.573989Z",
     "iopub.status.busy": "2023-01-07T14:19:39.573694Z",
     "iopub.status.idle": "2023-01-07T14:19:39.575135Z",
     "shell.execute_reply": "2023-01-07T14:19:39.574945Z"
    },
    "slideshow": {
     "slide_type": "fragment"
    }
   },
   "outputs": [],
   "source": [
    "# ignore\n",
    "from ClassDiagram import display_class_hierarchy"
   ]
  },
  {
   "cell_type": "code",
   "execution_count": 87,
   "id": "f90bca25-2466-448d-a12e-a8afd45d7141",
   "metadata": {
    "execution": {
     "iopub.execute_input": "2023-01-07T14:19:39.577339Z",
     "iopub.status.busy": "2023-01-07T14:19:39.577015Z",
     "iopub.status.idle": "2023-01-07T14:19:39.928757Z",
     "shell.execute_reply": "2023-01-07T14:19:39.929129Z"
    },
    "slideshow": {
     "slide_type": "subslide"
    }
   },
   "outputs": [
    {
     "data": {
      "image/svg+xml": [
       "<?xml version=\"1.0\" encoding=\"UTF-8\" standalone=\"no\"?>\n",
       "<!DOCTYPE svg PUBLIC \"-//W3C//DTD SVG 1.1//EN\"\n",
       " \"http://www.w3.org/Graphics/SVG/1.1/DTD/svg11.dtd\">\n",
       "<!-- Generated by graphviz version 7.0.2 (20221119.0110)\n",
       " -->\n",
       "<!-- Pages: 1 -->\n",
       "<svg width=\"228pt\" height=\"84pt\"\n",
       " viewBox=\"0.00 0.00 228.00 84.00\" xmlns=\"http://www.w3.org/2000/svg\" xmlns:xlink=\"http://www.w3.org/1999/xlink\">\n",
       "<g id=\"graph0\" class=\"graph\" transform=\"scale(1 1) rotate(0) translate(4 80)\">\n",
       "<g id=\"a_graph0\"><a xlink:title=\"ISLaSolver class hierarchy\">\n",
       "<polygon fill=\"white\" stroke=\"none\" points=\"-4,4 -4,-80 224,-80 224,4 -4,4\"/>\n",
       "</a>\n",
       "</g>\n",
       "<!-- ISLaSolver -->\n",
       "<g id=\"node1\" class=\"node\">\n",
       "<title>ISLaSolver</title>\n",
       "<g id=\"a_node1\"><a xlink:href=\"isla.solver.ipynb\" xlink:title=\"class ISLaSolver:&#10;The solver class for ISLa formulas/constraints. Its methods are&#10;`solve()`, `check(DerivationTree | str)`, `parse(str)`, and&#10;`repair(DerivationTree | str)`.\">\n",
       "<polygon fill=\"none\" stroke=\"black\" points=\"0,-0.5 0,-75.5 82,-75.5 82,-0.5 0,-0.5\"/>\n",
       "<text text-anchor=\"start\" x=\"8\" y=\"-61.3\" font-family=\"Patua One, Helvetica, sans-serif\" font-weight=\"bold\" font-size=\"14.00\" fill=\"#b03a2e\">ISLaSolver</text>\n",
       "<polyline fill=\"none\" stroke=\"black\" points=\"0,-52.5 82,-52.5\"/>\n",
       "<g id=\"a_node1_0\"><a xlink:href=\"#\" xlink:title=\"ISLaSolver\">\n",
       "<g id=\"a_node1_1\"><a xlink:href=\"isla.solver.ipynb\" xlink:title=\"__init__(self, grammar: Union[Dict[str, List[str]], str], formula: isla.language.Formula | str = &#39;true&#39;, structural_predicates: Set[isla.language.StructuralPredicate] = {StructuralPredicate(name=&#39;after&#39;, arity=2, eval_fun=&lt;function is_after at 0x127c235b0&gt;), StructuralPredicate(name=&#39;inside&#39;, arity=2, eval_fun=&lt;function in_tree at 0x127c23910&gt;), StructuralPredicate(name=&#39;nth&#39;, arity=3, eval_fun=&lt;function is_nth at 0x127c23880&gt;), StructuralPredicate(name=&#39;before&#39;, arity=2, eval_fun=&lt;function is_before at 0x1279e4af0&gt;), StructuralPredicate(name=&#39;direct_child&#39;, arity=2, eval_fun=&lt;function is_direct_child at 0x127c2c9d0&gt;), StructuralPredicate(name=&#39;different_position&#39;, arity=2, eval_fun=&lt;function is_different_position at 0x127c237f0&gt;), StructuralPredicate(name=&#39;same_position&#39;, arity=2, eval_fun=&lt;function is_same_position at 0x127c23760&gt;), StructuralPredicate(name=&#39;level&#39;, arity=4, eval_fun=&lt;function level_check at 0x127c23ac0&gt;), StructuralPredicate(name=&#39;consecutive&#39;, arity=2, eval_fun=&lt;function consecutive at 0x127c239a0&gt;)}, semantic_predicates: Set[isla.language.SemanticPredicate] = {SemanticPredicate(count, 3)}, max_number_free_instantiations: int = 10, max_number_smt_instantiations: int = 10, max_number_tree_insertion_results: int = 5, enforce_unique_trees_in_queue: bool = True, debug: bool = False, cost_computer: Optional[ForwardRef(&#39;CostComputer&#39;)] = None, timeout_seconds: Optional[int] = None, global_fuzzer: bool = False, predicates_unique_in_int_arg: Tuple[isla.language.SemanticPredicate, ...] = (SemanticPredicate(count, 3),), fuzzer_factory: Callable[[Dict[str, List[str]]], isla.fuzzer.GrammarFuzzer] = &lt;function ISLaSolver.&lt;lambda&gt; at 0x127c4c940&gt;, tree_insertion_methods: Optional[int] = None, activate_unsat_support: bool = False, grammar_unwinding_threshold: int = 4, initial_tree: isla.helpers.Maybe[isla.derivation_tree.DerivationTree] = Maybe(a=None), enable_optimized_z3_queries: bool = True):&#10;Constructs a new ISLaSolver object. Passing a grammar and a formula is mandatory.&#10;&#10;:param grammar: The underlying grammar; either, as a &quot;Fuzzing Book&quot; dictionary or in BNF syntax.&#10;:param formula: The formula to solve; either a string or a readily parsed formula.&#10;:param structural_predicates: Structural predicates to use when parsing a formula.&#10;:param semantic_predicates: Semantic predicates to use when parsing a formula.&#10;:param max_number_free_instantiations: Number of times that nonterminals that are not bound by any formula&#10;should be expanded by a coverage&#45;based fuzzer.&#10;:param max_number_smt_instantiations: Number of solutions of SMT formulas that should be produced.&#10;:param max_number_tree_insertion_results: The maximum number of results when solving existential quantifiers&#10;by tree insertion.&#10;:param enforce_unique_trees_in_queue: If true, states with the same tree as an already existing tree in the&#10;queue are discarded, irrespectively of the constraint.&#10;:param debug: If true, debug information about the evolution of states is collected, notably in the&#10;field state_tree. The root of the tree is in the field state_tree_root. The field costs stores the computed&#10;cost values for all new nodes.&#10;:param cost_computer: The `CostComputer` class for computing the cost relevant to placing states&#10;in ISLa&#39;s queue.&#10;:param timeout_seconds: Number of seconds after which the solver will terminate.&#10;:param global_fuzzer: If set to True, only one coverage&#45;guided grammar fuzzer object is used to finish&#10;off unconstrained open derivation trees throughout the whole generation time. This may be beneficial for&#10;some targets; e.g., we experienced that CSV works significantly faster. However, the achieved k&#45;path coverage&#10;can be lower with that setting.&#10;:param predicates_unique_in_int_arg: This is needed in certain cases for instantiating universal&#10;integer quantifiers. The supplied predicates should have exactly one integer argument, and hold&#10;for exactly one integer value once all other parameters are fixed.&#10;:param fuzzer_factory: Constructor of the fuzzer to use for instantiating &quot;free&quot; nonterminals.&#10;:param tree_insertion_methods: Combination of methods to use for existential quantifier elimination by&#10;tree insertion. Full selection: `DIRECT_EMBEDDING &amp; SELF_EMBEDDING &amp; CONTEXT_ADDITION`.&#10;:param activate_unsat_support: Set to True if you assume that a formula might be unsatisfiable. This&#10;triggers additional tests for unsatisfiability that reduce input generation performance, but might&#10;ensure termination (with a negative solver result) for unsatisfiable problems for which the solver&#10;could otherwise diverge.&#10;:param grammar_unwinding_threshold: When querying the SMT solver, ISLa passes a regular expression for&#10;the syntax of the involved nonterminals. If this syntax is not regular, we unwind the respective part&#10;in the reference grammar up to a depth of `grammar_unwinding_threshold`. If this is too shallow, it can&#10;happen that an equation etc. cannot be solved; if it is too deep, it can negatively impact performance&#10;(and quite tremendously so).&#10;:param initial_tree: An initial input tree for the queue, if the solver shall&#10;not start from the tree `(&lt;start&gt;, None)`.&#10;:param enable_optimized_z3_queries: Enables preprocessing of Z3 queries (mainly&#10;numeric problems concerning things like length). This can improve performance&#10;significantly; however, it might happen that certain problems cannot be solved&#10;anymore. In that case, this option can/should be deactivated.\">\n",
       "<text text-anchor=\"start\" x=\"11\" y=\"-41.5\" font-family=\"'Fira Mono', 'Source Code Pro', 'Courier', monospace\" font-weight=\"bold\" font-size=\"10.00\">__init__()</text>\n",
       "</a>\n",
       "</g>\n",
       "<g id=\"a_node1_2\"><a xlink:href=\"isla.solver.ipynb\" xlink:title=\"check(self, inp: isla.derivation_tree.DerivationTree | str) &#45;&gt; bool:&#10;Evaluates whether the given derivation tree satisfies the constraint passed to&#10;the solver. Raises an `UnknownResultError` if this could not be evaluated&#10;(e.g., because of a solver timeout or a semantic predicate that cannot be&#10;evaluated).&#10;&#10;:param inp: The input to evaluate, either readily parsed or as a string.&#10;:return: A truth value.\">\n",
       "<text text-anchor=\"start\" x=\"11\" y=\"-30.5\" font-family=\"'Fira Mono', 'Source Code Pro', 'Courier', monospace\" font-weight=\"bold\" font-size=\"10.00\">check()</text>\n",
       "</a>\n",
       "</g>\n",
       "<g id=\"a_node1_3\"><a xlink:href=\"isla.solver.ipynb\" xlink:title=\"parse(self, inp: str, nonterminal: str = &#39;&lt;start&gt;&#39;, skip_check: bool = False) &#45;&gt; isla.derivation_tree.DerivationTree:&#10;Parses the given input `inp`. Raises a `SyntaxError` if the input does not&#10;satisfy the grammar, a `SemanticError` if it does not satisfy the constraint&#10;(this is only checked if `nonterminal` is &quot;&lt;start&gt;&quot;), and returns the parsed&#10;`DerivationTree` otherwise.&#10;&#10;:param inp: The input to parse.&#10;:param nonterminal: The nonterminal to start parsing with, if a string&#10;corresponding to a sub&#45;grammar shall be parsed. We don&#39;t check semantic&#10;correctness in that case.&#10;:param skip_check: If True, the semantic check is left out.&#10;:return: A parsed `DerivationTree`.\">\n",
       "<text text-anchor=\"start\" x=\"11\" y=\"-19.5\" font-family=\"'Fira Mono', 'Source Code Pro', 'Courier', monospace\" font-weight=\"bold\" font-size=\"10.00\">parse()</text>\n",
       "</a>\n",
       "</g>\n",
       "<g id=\"a_node1_4\"><a xlink:href=\"isla.solver.ipynb\" xlink:title=\"solve(self) &#45;&gt; isla.derivation_tree.DerivationTree:&#10;Attempts to compute a solution to the given ISLa formula. Returns that solution,&#10;if any. This function can be called repeatedly to obtain more solutions until&#10;one of two exception types is raised: A `StopIteration` indicates that no more&#10;solution can be found; a `TimeoutError` is raised if a timeout occurred.&#10;After that, an exception will be raised every time.&#10;&#10;The timeout can be controlled by the `timeout_seconds` constructor parameter.&#10;&#10;:return: A solution for the ISLa formula passed to the `ISLaSolver`.\">\n",
       "<text text-anchor=\"start\" x=\"11\" y=\"-8.5\" font-family=\"'Fira Mono', 'Source Code Pro', 'Courier', monospace\" font-weight=\"bold\" font-size=\"10.00\">solve()</text>\n",
       "</a>\n",
       "</g>\n",
       "</a>\n",
       "</g>\n",
       "</a>\n",
       "</g>\n",
       "</g>\n",
       "<!-- Legend -->\n",
       "<g id=\"node2\" class=\"node\">\n",
       "<title>Legend</title>\n",
       "<text text-anchor=\"start\" x=\"100\" y=\"-55.5\" font-family=\"Patua One, Helvetica, sans-serif\" font-weight=\"bold\" font-size=\"10.00\" fill=\"#b03a2e\">Legend</text>\n",
       "<text text-anchor=\"start\" x=\"100\" y=\"-45.5\" font-family=\"Patua One, Helvetica, sans-serif\" font-size=\"10.00\">• </text>\n",
       "<text text-anchor=\"start\" x=\"107\" y=\"-45.5\" font-family=\"'Fira Mono', 'Source Code Pro', 'Courier', monospace\" font-weight=\"bold\" font-size=\"8.00\">public_method()</text>\n",
       "<text text-anchor=\"start\" x=\"100\" y=\"-35.5\" font-family=\"Patua One, Helvetica, sans-serif\" font-size=\"10.00\">• </text>\n",
       "<text text-anchor=\"start\" x=\"107\" y=\"-35.5\" font-family=\"'Fira Mono', 'Source Code Pro', 'Courier', monospace\" font-size=\"8.00\">private_method()</text>\n",
       "<text text-anchor=\"start\" x=\"100\" y=\"-25.5\" font-family=\"Patua One, Helvetica, sans-serif\" font-size=\"10.00\">• </text>\n",
       "<text text-anchor=\"start\" x=\"107\" y=\"-25.5\" font-family=\"'Fira Mono', 'Source Code Pro', 'Courier', monospace\" font-style=\"italic\" font-size=\"8.00\">overloaded_method()</text>\n",
       "<text text-anchor=\"start\" x=\"100\" y=\"-16.3\" font-family=\"Helvetica,sans-Serif\" font-size=\"9.00\">Hover over names to see doc</text>\n",
       "</g>\n",
       "</g>\n",
       "</svg>\n"
      ],
      "text/plain": [
       "<graphviz.graphs.Digraph at 0x137b8c8b0>"
      ]
     },
     "execution_count": 87,
     "metadata": {},
     "output_type": "execute_result"
    }
   ],
   "source": [
    "# ignore\n",
    "display_class_hierarchy([ISLaSolver],\n",
    "                         public_methods=[\n",
    "                            ISLaSolver.__init__,\n",
    "                            ISLaSolver.solve,\n",
    "                            ISLaSolver.check,\n",
    "                            ISLaSolver.parse,\n",
    "                        ])"
   ]
  },
  {
   "cell_type": "markdown",
   "id": "b3fd6d14-10ff-4ac5-8c08-126808a9c8bb",
   "metadata": {
    "slideshow": {
     "slide_type": "fragment"
    }
   },
   "source": [
    "The ISLa functionality is also available on the command line:"
   ]
  },
  {
   "cell_type": "code",
   "execution_count": 88,
   "id": "0d06486f-8d9f-4162-9da7-f86bd25b975a",
   "metadata": {
    "execution": {
     "iopub.execute_input": "2023-01-07T14:19:39.932147Z",
     "iopub.status.busy": "2023-01-07T14:19:39.931800Z",
     "iopub.status.idle": "2023-01-07T14:19:40.305827Z",
     "shell.execute_reply": "2023-01-07T14:19:40.306040Z"
    },
    "slideshow": {
     "slide_type": "subslide"
    }
   },
   "outputs": [
    {
     "name": "stdout",
     "output_type": "stream",
     "text": [
      "usage: isla [-h] [-v]\r\n",
      "            {solve,fuzz,check,find,parse,repair,mutate,create,config} ...\r\n",
      "\r\n",
      "The ISLa command line interface.\r\n",
      "\r\n",
      "options:\r\n",
      "  -h, --help            show this help message and exit\r\n",
      "  -v, --version         Print the ISLa version number\r\n",
      "\r\n",
      "Commands:\r\n",
      "  {solve,fuzz,check,find,parse,repair,mutate,create,config}\r\n",
      "    solve               create solutions to ISLa constraints or check their\r\n",
      "                        unsatisfiability\r\n",
      "    fuzz                pass solutions to an ISLa constraint to a test subject\r\n",
      "    check               check whether an input satisfies an ISLa constraint\r\n",
      "    find                filter files satisfying syntactic & semantic\r\n",
      "                        constraints\r\n",
      "    parse               parse an input into a derivation tree if it satisfies\r\n",
      "                        an ISLa constraint\r\n",
      "    repair              try to repair an existing input such that it satisfies\r\n",
      "                        an ISLa constraint\r\n",
      "    mutate              mutate an input such that the result satisfies an ISLa\r\n",
      "                        constraint\r\n",
      "    create              create grammar and constraint stubs\r\n",
      "    config              dumps the default configuration file\r\n"
     ]
    }
   ],
   "source": [
    "!isla --help"
   ]
  },
  {
   "cell_type": "markdown",
   "id": "20044f68",
   "metadata": {
    "button": false,
    "new_sheet": true,
    "run_control": {
     "read_only": false
    },
    "slideshow": {
     "slide_type": "slide"
    }
   },
   "source": [
    "## Lessons Learned\n",
    "\n",
    "* Using ISLa, we can add and solve _constraints_ to grammars, allowing to express _semantic properties_ of our test inputs\n",
    "* Declaring constraints (and have a solver solve them) is much more versatile than adding generator code, and language-independent, too\n",
    "* Using ISLa is fun :-)"
   ]
  },
  {
   "cell_type": "markdown",
   "id": "d50b8cfc",
   "metadata": {
    "button": false,
    "new_sheet": false,
    "run_control": {
     "read_only": false
    },
    "slideshow": {
     "slide_type": "slide"
    }
   },
   "source": [
    "## Next Steps\n",
    "\n",
    "In the next chapters, we will continue to focus on semantics.\n",
    "Among others, we will learn how to\n",
    "\n",
    "* [mine grammars from existing inputs](GrammarMiner.ipynb)\n",
    "* use [symbolic fuzzing](SymbolicFuzzer.ipynb) - that is, using constraint solvers to reach particular locations\n",
    "* use [concolic fuzzing](ConcolicFuzzer.ipynb) - that is, combining symbolic fuzzing with concrete runs for higher efficiency"
   ]
  },
  {
   "cell_type": "markdown",
   "id": "cddb0711",
   "metadata": {
    "slideshow": {
     "slide_type": "slide"
    }
   },
   "source": [
    "## Background\n",
    "\n",
    "* ISLa is presented in the paper [\"Input Invariants\"](https://publications.cispa.saarland/3596/) at ESEC/FSE 2022.\n",
    "* The [ISLa project](https://github.com/rindPHI/isla) contains the full source code and a complete reference."
   ]
  },
  {
   "cell_type": "markdown",
   "id": "c0f3583e",
   "metadata": {
    "button": false,
    "new_sheet": true,
    "run_control": {
     "read_only": false
    },
    "slideshow": {
     "slide_type": "slide"
    }
   },
   "source": [
    "## Exercises"
   ]
  },
  {
   "cell_type": "markdown",
   "id": "df09d867",
   "metadata": {
    "button": false,
    "new_sheet": true,
    "run_control": {
     "read_only": false
    },
    "slideshow": {
     "slide_type": "subslide"
    }
   },
   "source": [
    "### Exercise 1: String Encodings\n",
    "\n",
    "A common way of representing strings is _length-prefixed strings_, a representation made popular by the Pascal programming language.\n",
    "A length-prefixed string starts with a few bytes that encode the length $L$ of the string, followed by the $L$ actual characters.\n",
    "For instance, assuming that two bytes are used to encode the length, the string `\"Hello\"` could be represented as the sequence\n",
    "\n",
    "```\n",
    "0x00 0x05 'H' 'e' 'l' 'l' 'o'\n",
    "```"
   ]
  },
  {
   "cell_type": "markdown",
   "id": "0f5f3156",
   "metadata": {
    "button": false,
    "new_sheet": true,
    "run_control": {
     "read_only": false
    },
    "slideshow": {
     "slide_type": "subslide"
    },
    "solution2": "hidden",
    "solution2_first": true
   },
   "source": [
    "#### Part 1: Syntax\n",
    "\n",
    "Write a grammar that defines the syntax of length-prefixed strings."
   ]
  },
  {
   "cell_type": "markdown",
   "id": "c990687f",
   "metadata": {
    "button": false,
    "new_sheet": true,
    "run_control": {
     "read_only": false
    },
    "slideshow": {
     "slide_type": "skip"
    },
    "solution2": "hidden"
   },
   "source": [
    "**Solution.** This is actually pretty easy:"
   ]
  },
  {
   "cell_type": "code",
   "execution_count": 89,
   "id": "9d4956b6",
   "metadata": {
    "execution": {
     "iopub.execute_input": "2023-01-07T14:19:40.308608Z",
     "iopub.status.busy": "2023-01-07T14:19:40.308300Z",
     "iopub.status.idle": "2023-01-07T14:19:40.309586Z",
     "shell.execute_reply": "2023-01-07T14:19:40.309793Z"
    },
    "slideshow": {
     "slide_type": "skip"
    },
    "solution2": "hidden"
   },
   "outputs": [],
   "source": [
    "import string"
   ]
  },
  {
   "cell_type": "code",
   "execution_count": 90,
   "id": "d82fc265",
   "metadata": {
    "execution": {
     "iopub.execute_input": "2023-01-07T14:19:40.312360Z",
     "iopub.status.busy": "2023-01-07T14:19:40.312053Z",
     "iopub.status.idle": "2023-01-07T14:19:40.313927Z",
     "shell.execute_reply": "2023-01-07T14:19:40.314180Z"
    },
    "slideshow": {
     "slide_type": "skip"
    },
    "solution2": "hidden"
   },
   "outputs": [],
   "source": [
    "PASCAL_STRING_GRAMMAR: Grammar = {\n",
    "    \"<start>\": [\"<string>\"],\n",
    "    \"<string>\": [\"<length><chars>\"],\n",
    "    \"<length>\": [\"<byte>\"],\n",
    "    \"<byte>\": crange('\\x00', '\\xff'),\n",
    "    \"<chars>\": [\"\", \"<char><chars>\"],\n",
    "    \"<char>\": list(string.printable),\n",
    "}"
   ]
  },
  {
   "cell_type": "code",
   "execution_count": 91,
   "id": "eb79cc85",
   "metadata": {
    "execution": {
     "iopub.execute_input": "2023-01-07T14:19:40.316938Z",
     "iopub.status.busy": "2023-01-07T14:19:40.316578Z",
     "iopub.status.idle": "2023-01-07T14:19:40.317818Z",
     "shell.execute_reply": "2023-01-07T14:19:40.318020Z"
    },
    "slideshow": {
     "slide_type": "skip"
    },
    "solution2": "hidden",
    "tags": []
   },
   "outputs": [],
   "source": [
    "assert is_valid_grammar(PASCAL_STRING_GRAMMAR)"
   ]
  },
  {
   "cell_type": "code",
   "execution_count": 92,
   "id": "5fc1511b",
   "metadata": {
    "execution": {
     "iopub.execute_input": "2023-01-07T14:19:40.320377Z",
     "iopub.status.busy": "2023-01-07T14:19:40.320067Z",
     "iopub.status.idle": "2023-01-07T14:19:40.321231Z",
     "shell.execute_reply": "2023-01-07T14:19:40.321465Z"
    },
    "slideshow": {
     "slide_type": "skip"
    },
    "solution2": "hidden"
   },
   "outputs": [],
   "source": [
    "fuzzer = GrammarFuzzer(PASCAL_STRING_GRAMMAR)"
   ]
  },
  {
   "cell_type": "code",
   "execution_count": 93,
   "id": "453aa873",
   "metadata": {
    "execution": {
     "iopub.execute_input": "2023-01-07T14:19:40.329015Z",
     "iopub.status.busy": "2023-01-07T14:19:40.328486Z",
     "iopub.status.idle": "2023-01-07T14:19:40.329954Z",
     "shell.execute_reply": "2023-01-07T14:19:40.330156Z"
    },
    "slideshow": {
     "slide_type": "skip"
    },
    "solution2": "hidden"
   },
   "outputs": [
    {
     "name": "stdout",
     "output_type": "stream",
     "text": [
      "'Á'\n",
      "'W'\n",
      "'j'\n",
      "'m'\n",
      "'uL!'\n",
      "')'\n",
      "'\\x9c'\n",
      "'\\x81'\n",
      "'É\\x0cjM'\n",
      "'Ó|$'\n"
     ]
    }
   ],
   "source": [
    "for _ in range(10):\n",
    "    print(repr(fuzzer.fuzz()))"
   ]
  },
  {
   "cell_type": "markdown",
   "id": "0ebb3119",
   "metadata": {
    "button": false,
    "new_sheet": true,
    "run_control": {
     "read_only": false
    },
    "slideshow": {
     "slide_type": "subslide"
    },
    "solution2": "hidden",
    "solution2_first": true
   },
   "source": [
    "#### Part 2: Semantics\n",
    "\n",
    "Use ISLa to produce valid length-prefixed strings.\n",
    "Make use of the [SMT-LIB string library](https://smtlib.cs.uiowa.edu/theories-UnicodeStrings.shtml) to find appropriate conversion functions."
   ]
  },
  {
   "cell_type": "markdown",
   "id": "ee402aa8",
   "metadata": {
    "slideshow": {
     "slide_type": "skip"
    },
    "solution2": "hidden"
   },
   "source": [
    "**Solution.** \n",
    "The function we need is `str.to_code(c)` to convert a single character to its ordinal value (e.g. `str.to_code('0x03') = 3`).\n",
    "With this, we can formulate an appropriate constraint:"
   ]
  },
  {
   "cell_type": "code",
   "execution_count": 94,
   "id": "486858b3-9b71-4396-a448-3c4d2b3fdda6",
   "metadata": {
    "execution": {
     "iopub.execute_input": "2023-01-07T14:19:40.337820Z",
     "iopub.status.busy": "2023-01-07T14:19:40.337492Z",
     "iopub.status.idle": "2023-01-07T14:19:40.438460Z",
     "shell.execute_reply": "2023-01-07T14:19:40.438675Z"
    },
    "slideshow": {
     "slide_type": "skip"
    },
    "solution2": "hidden"
   },
   "outputs": [],
   "source": [
    "solver = ISLaSolver(PASCAL_STRING_GRAMMAR, \n",
    "            '''\n",
    "            str.to_code(<string>.<length>.<byte>) =\n",
    "            str.len(<string>.<chars>)\n",
    "            ''')"
   ]
  },
  {
   "cell_type": "code",
   "execution_count": 95,
   "id": "321ecd82",
   "metadata": {
    "execution": {
     "iopub.execute_input": "2023-01-07T14:19:40.448970Z",
     "iopub.status.busy": "2023-01-07T14:19:40.448658Z",
     "iopub.status.idle": "2023-01-07T14:19:45.957595Z",
     "shell.execute_reply": "2023-01-07T14:19:45.957803Z"
    },
    "slideshow": {
     "slide_type": "skip"
    },
    "solution2": "hidden"
   },
   "outputs": [
    {
     "name": "stdout",
     "output_type": "stream",
     "text": [
      "Solution: 'ÿ*l-(Qv-d\\t<HPy{IJRalFJ&@lH4-i`bI/w3Q^01:{\\'5kRe;V7w(bd$je\"l~1CSh:%WD\\rM2I XU[\\\\~I\\'-eU]\\'BZN3)9p{hjn1eQ}e\\n]rO[/\"%&\\rRm|X|1b0U_\\x0b[yUJ9QgZ>XQP|_i}\\nGH__D\\\\PK,\\nIab?cnbJX^h\\\\ziCc$ D~R&UO`bD\\'\\rC97(FB9@0yz,Wla9.B\\'w]WUt\\'qd5!V f[7\\x0b<@N-1Uu}|Qka\\'Psq~$qfOL|2;zvw^r(7+gwDu3]7})%I' (<length> = 255, len(<chars>) = 255)\n",
      "\n",
      "Solution: 'þwem==+IZc.c\\'_=KA7#Wpm>Q\\r)oJ^&fHQO%Gxn|~\\rY}_VD#hlgiq[1\\t,;D%LOmx\"faCyCLX,AQ&EJ\\x0cwG^2wAY2#_9Vvfk\\'_N,\\x0byt7U+uABZ\\'m@QiWqUe<\\'|Cq;7*NNlbdlP*|V1mycc]*vAST\\n(wXCdI-WMdD|wd(/Vr_S$\\t\"}^l#/TZu>^\\n6wHW{\\x0bl\\x0bDh9ZQR 7L3|=+_w/XyAm-b9Vy>\\rcV\\tbnX(\\\\24N;D\"n:jORnm{-PzCN1\\x0cFB<v04></_L' (<length> = 254, len(<chars>) = 254)\n",
      "\n",
      "Solution: 'öSwq&oi`wJ)04 z$\\nh>BTJ=Z\\r!PP8aL22}$k6PJX\\x0bZBcq|u\\n.gGk\\x0biX\\x0b8= \\\\Tx{9[8\\\\mTV@y-B4\"Dwd~f}q]ddZVX_&i$\\nr3 Z;[!Dr/\\x0bs~mCC4V%; l4/hX[\\x0c}20.&+\\x0bK\\x0b#uJz4favhx.\\tsD?+\\\\~\\\\\"8wE^+C(F@q_=^8~/.#17U\\\\=GE\\x0bI6]U|<^\\'h6Dg_)EI=\\riV\\x0cMs W[3\\r#ft0_eOL.G6`p\"e%+BtU\\tW>9*vc7LO~f<eRp^b9~m&' (<length> = 246, len(<chars>) = 246)\n",
      "\n",
      "Solution: 'òY9\\'Bg=,^x}lEU?4-$Q\\x0bc($40?nmX\\'*^w=,x\\'E{\\r8%k3emu+Epv&jrb8!M.)>2J]P:6\\'s1BL!h@6)?\\x0cn^RJSLb}D>H[m\\rjtF$< ^R Y]FwOr]\\nj@D91WT=>g\\'NDKfTP!\\\\\\'2!u7[+hm-=d&Cat%9 m-ok(Ds8[\\t$5\\'zD+*\"cv(Q|xx\\\\%j <\\ri#f\\\\[;umR3@t,fywDlG]Poh{\\'5P=FI0T@4,\\rKo1\\\\>j8*xL<D^\\'qo$wJ)<?nA#7\\tU' (<length> = 242, len(<chars>) = 242)\n",
      "\n",
      "Solution: 'üt_(]/2dw_#wKmm3?~B\\x0b2V!gv;&mjRdhUM-\\x0b>i4%~*X\\\\`gk(_j9Z_^,`<</b4F8Tnn_W%n67sgcngr)+-2_}GUiD?L[jj\\rGfu\\rZ&|C\\rbg\\rtp1?)?vl{_rWHuRk{Y;1:8`:~k=\\nXAU$zgng:wR}\\'Hu9?pA\"n?t5.\\rHQaf@Q\\\\l\\x0cL2~8#\\nYg&oVv,rgXYz]D\\r83j,S56Kbw%)I:\\nz f\\x0cq%z0|/,Z3\\nC;Z}`.\\'f[2h\\tJ5FEgw\\\\#nAF?]fh.v\\\\\\t@7d' (<length> = 252, len(<chars>) = 252)\n",
      "\n",
      "Solution: 'ÞN_ys.W>#\\\\j[#z\\\\n|$ LN.bx6b\\x0cL>P5`XM/JGC+fw./nPGGO:L_R9dX{Y]7{PcO\\x0b/7\\rZS6W[fodv88 #pC\\x0c&k_mI,}i\\x0b1,gB|jdLerD!NUH+\\'HL2-Nb]FwA(mHJo}&p9GC!Mh+:xCzNFo5#%\\nZ^@5~cd2 <E-U%CI-FY5Jz\\ng~Jprdbl|s\\t5O?@U>gaV\\\\;>O\\x0b==t%\">8]} U2\\n7g6E.:-F}PzCK2=T{' (<length> = 222, len(<chars>) = 222)\n",
      "\n",
      "Solution: 'Ú^-DBQ_^`YgK+ YeXFIRS^EZ@yOd Q51qfM\\x0bB3d\\twR|P1bg?i@B$\\rAlm}4@{ecd4\\n>16r5GN&\\\\x2=>FT-\\'Bo-j\\r\\rkP<Jd\\rqW5Qhd_WWr\\tcy8>(\\t _h8q6#{;J2Gb=5]5r|As5Ytzv:PY\\rBr9:,ppz.W aN\\\\\\n:yM1/0\"PcRYoHES3R(Jv_Y\\n\\rF-3gi\\x0bATqIT1\"!TCE>/HL<E.kry\\x0c&t_\\t3Y3\"7?\\t' (<length> = 218, len(<chars>) = 218)\n",
      "\n",
      "Solution: '¾ReAgouf.|5XK1&O\\\\]-<tZ6ARc d/0ISO1Abl{BEF\\n9`!0IC.\\x0b#y;U1zr\\r)dP^jjpA_;oc\\rC.2p<t6t&;B:hJOxDf~\\'\"?\\x0bqS6Ae~G:`9rSLw2\\\\|F\\x0b:$~L[vqSa\"hiz0DNKkj-<~+x#Rj\\x0c\\x0bwajr.3Q`\"32U` /E}\\\\5_9v1 I0q\\\\wx(^=!Z/_p.B_#ky\\x0cu&qW' (<length> = 190, len(<chars>) = 190)\n",
      "\n",
      "Solution: \"\\x9e2T/@%\\\\$zGcQ\\x0c8KU./x>!\\\\fwy\\tU#+/BY[B<\\rx:T7%\\n4<r\\n\\nFS\\n'Q:@$c^\\tpH^vJE0A\\rRTwO,\\r\\x0b``p7<apo%i*M4`)=q};(i)LnR&UB\\\\(S:u:Fu\\n#oP!3OCMB8\\x0cOVC+Uc?.G^xf5}{@uDG}[MwR+3T!E?~<].\\\\'P\" (<length> = 158, len(<chars>) = 158)\n",
      "\n",
      "Solution: '~wAL]X\\x0bs=}kw9ju\\x0b7nyh\"_f8A?,QQ:46O6Y)z;_\\r;t.*aME]!]a[`>F<\\x0ba21j\\nd)R9FBUI8Ka-{\\\\fy<8xNZLcJ%8:E=[\"C9\"|\\nz6ROw&F1\\x0b\\\\SYcm/E;q\\'\\\\\\\\X6qxWP*4' (<length> = 126, len(<chars>) = 126)\n",
      "\n"
     ]
    }
   ],
   "source": [
    "for _ in range(10):\n",
    "    # Get the solution\n",
    "    solution = solver.solve()\n",
    "    print(f'Solution: {repr(str(solution))}', end=' ')\n",
    "\n",
    "    # Print statistics\n",
    "    low_byte = solution.filter(lambda n: n.value == \"<length>\")[0][1]\n",
    "    chars = solution.filter(lambda n: n.value == \"<chars>\")[0][1]\n",
    "    print(f'(<length> = {ord(str(low_byte))}, len(<chars>) = {len(str(chars))})')\n",
    "    print()"
   ]
  },
  {
   "cell_type": "code",
   "execution_count": 96,
   "id": "8a36208b-b07f-4007-9781-4083f147663b",
   "metadata": {
    "execution": {
     "iopub.execute_input": "2023-01-07T14:19:45.959920Z",
     "iopub.status.busy": "2023-01-07T14:19:45.959584Z",
     "iopub.status.idle": "2023-01-07T14:19:45.961168Z",
     "shell.execute_reply": "2023-01-07T14:19:45.961437Z"
    },
    "slideshow": {
     "slide_type": "skip"
    },
    "solution2": "hidden"
   },
   "outputs": [],
   "source": [
    "# ignore\n",
    "# We're done, so we can clean up:\n",
    "import os\n",
    "\n",
    "with ExpectError(FileNotFoundError, mute=True):\n",
    "    os.remove('grammar.py')"
   ]
  },
  {
   "cell_type": "code",
   "execution_count": null,
   "id": "ea90c233-c5f4-48a7-a421-35427eab8cce",
   "metadata": {
    "slideshow": {
     "slide_type": "skip"
    },
    "solution2": "hidden"
   },
   "outputs": [],
   "source": []
  }
 ],
 "metadata": {
  "ipub": {
   "bibliography": "fuzzingbook.bib",
   "toc": true
  },
  "kernelspec": {
   "display_name": "Python 3 (ipykernel)",
   "language": "python",
   "name": "python3"
  },
  "language_info": {
   "codemirror_mode": {
    "name": "ipython",
    "version": 3
   },
   "file_extension": ".py",
   "mimetype": "text/x-python",
   "name": "python",
   "nbconvert_exporter": "python",
   "pygments_lexer": "ipython3",
   "version": "3.10.2"
  },
  "toc": {
   "base_numbering": 1,
   "nav_menu": {},
   "number_sections": true,
   "sideBar": true,
   "skip_h1_title": true,
   "title_cell": "",
   "title_sidebar": "Contents",
   "toc_cell": false,
   "toc_position": {},
   "toc_section_display": true,
   "toc_window_display": true
  },
  "toc-autonumbering": false
 },
 "nbformat": 4,
 "nbformat_minor": 5
}