{
 "cells": [
  {
   "cell_type": "markdown",
   "id": "8a4d01dc-8982-497d-9fda-08ae307e9121",
   "metadata": {
    "slideshow": {
     "slide_type": "slide"
    },
    "tags": []
   },
   "source": [
    "# Testing Compilers\n",
    "\n",
    "In this chapter, we will make use of [grammars and grammar-based testing](Grammars.ipynb) to systematically generate _program code_ – for instance, to test a compiler or an interpreter. Not very surprisingly, we use _Python_ and the _Python interpreter_ as our domain.\n",
    "\n",
    "We chose Python not only because the rest of the book is also based on Python.\n",
    "Most importantly, Python brings lots of built-in infrastructure we can leverage, especially\n",
    "\n",
    "* _parsers_ that convert Python code into an abstract syntax tree (AST) representation and \n",
    "* _unparsers_ that take an AST and convert it back into Python code.\n",
    "\n",
    "This allows us to leverage grammars that operate on ASTs rather than concrete syntax, greatly reducing complexity."
   ]
  },
  {
   "cell_type": "code",
   "execution_count": 1,
   "id": "fae2adc4",
   "metadata": {
    "execution": {
     "iopub.execute_input": "2024-06-30T16:50:42.782687Z",
     "iopub.status.busy": "2024-06-30T16:50:42.782561Z",
     "iopub.status.idle": "2024-06-30T16:50:42.860900Z",
     "shell.execute_reply": "2024-06-30T16:50:42.860531Z"
    },
    "slideshow": {
     "slide_type": "skip"
    }
   },
   "outputs": [
    {
     "data": {
      "text/html": [
       "\n",
       "        <iframe\n",
       "            width=\"640\"\n",
       "            height=\"360\"\n",
       "            src=\"https://www.youtube-nocookie.com/embed/Nr1xbKj_WRQ\"\n",
       "            frameborder=\"0\"\n",
       "            allowfullscreen\n",
       "            \n",
       "        ></iframe>\n",
       "        "
      ],
      "text/plain": [
       "<IPython.lib.display.IFrame at 0x107daa9e0>"
      ]
     },
     "execution_count": 1,
     "metadata": {},
     "output_type": "execute_result"
    }
   ],
   "source": [
    "from bookutils import YouTubeVideo\n",
    "YouTubeVideo('Nr1xbKj_WRQ')"
   ]
  },
  {
   "cell_type": "markdown",
   "id": "c5271f4c",
   "metadata": {
    "slideshow": {
     "slide_type": "subslide"
    }
   },
   "source": [
    "**Prerequisites**\n",
    "\n",
    "* You must read the chapter on [Fuzzing with Grammars](Grammars.ipynb) to understand how grammars and grammar-based testing work."
   ]
  },
  {
   "cell_type": "code",
   "execution_count": 2,
   "id": "9eadd112",
   "metadata": {
    "execution": {
     "iopub.execute_input": "2024-06-30T16:50:42.862837Z",
     "iopub.status.busy": "2024-06-30T16:50:42.862626Z",
     "iopub.status.idle": "2024-06-30T16:50:42.864320Z",
     "shell.execute_reply": "2024-06-30T16:50:42.864067Z"
    },
    "slideshow": {
     "slide_type": "fragment"
    }
   },
   "outputs": [],
   "source": [
    "# ignore\n",
    "import sys"
   ]
  },
  {
   "cell_type": "code",
   "execution_count": 3,
   "id": "4cea401a",
   "metadata": {
    "execution": {
     "iopub.execute_input": "2024-06-30T16:50:42.865655Z",
     "iopub.status.busy": "2024-06-30T16:50:42.865574Z",
     "iopub.status.idle": "2024-06-30T16:50:42.867362Z",
     "shell.execute_reply": "2024-06-30T16:50:42.867119Z"
    },
    "slideshow": {
     "slide_type": "fragment"
    }
   },
   "outputs": [],
   "source": [
    "# ignore\n",
    "if sys.version_info < (3, 10):\n",
    "    print(\"This code requires Python 3.10 or later\")\n",
    "    sys.exit(0)"
   ]
  },
  {
   "cell_type": "markdown",
   "id": "b5cd2468",
   "metadata": {
    "slideshow": {
     "slide_type": "skip"
    }
   },
   "source": [
    "## Synopsis\n",
    "<!-- Automatically generated. Do not edit. -->\n",
    "\n",
    "To [use the code provided in this chapter](Importing.ipynb), write\n",
    "\n",
    "```python\n",
    ">>> from fuzzingbook.PythonFuzzer import <identifier>\n",
    "```\n",
    "\n",
    "and then make use of the following features.\n",
    "\n",
    "\n",
    "This chapter provides a `PythonFuzzer` class that allows producing arbitrary Python code elements:\n",
    "\n",
    "```python\n",
    ">>> fuzzer = PythonFuzzer()\n",
    ">>> print(fuzzer.fuzz())\n",
    "def Hw(): # type: \n",
    "    pass\n",
    "\n",
    "```\n",
    "By default, `PythonFuzzer` produces a _function definition_ – that is, a list of statements as above.\n",
    "You can pass a `start_symbol` argument to state which Python element you'd like to have:\n",
    "\n",
    "```python\n",
    ">>> fuzzer = PythonFuzzer('<While>')\n",
    ">>> print(fuzzer.fuzz())\n",
    "while \n",
    "'' or {Z: *(set() ^ set())}:\n",
    "    del \n",
    "\n",
    "```\n",
    "Here is a list of all possible start symbols. Their names reflect the nonterminals from the [Python `ast` module documentation](https://docs.python.org/3/library/ast.html).\n",
    "\n",
    "```python\n",
    ">>> sorted(list(PYTHON_AST_GRAMMAR.keys()))\n",
    "['<Assert>',\n",
    " '<Assign>',\n",
    " '<Attribute>',\n",
    " '<AugAssign>',\n",
    " '<BinOp>',\n",
    " '<BoolOp>',\n",
    " '<Break>',\n",
    " '<Call>',\n",
    " '<Compare>',\n",
    " '<Constant>',\n",
    " '<Continue>',\n",
    " '<Delete>',\n",
    " '<Dict>',\n",
    " '<EmptySet>',\n",
    " '<Expr>',\n",
    " '<For>',\n",
    " '<FunctionDef>',\n",
    " '<If>',\n",
    " '<List>',\n",
    " '<Module>',\n",
    " '<Name>',\n",
    " '<Pass>',\n",
    " '<Return>',\n",
    " '<Set>',\n",
    " '<Slice>',\n",
    " '<Starred>',\n",
    " '<Subscript>',\n",
    " '<Tuple>',\n",
    " '<UnaryOp>',\n",
    " '<While>',\n",
    " '<With>',\n",
    " '<arg>',\n",
    " '<arg_list>',\n",
    " '<args>',\n",
    " '<arguments>',\n",
    " '<bool>',\n",
    " '<boolop>',\n",
    " '<cmpop>',\n",
    " '<cmpop_list>',\n",
    " '<cmpops>',\n",
    " '<digit>',\n",
    " '<digits>',\n",
    " '<expr>',\n",
    " '<expr_list>',\n",
    " '<exprs>',\n",
    " '<float>',\n",
    " '<func>',\n",
    " '<id>',\n",
    " '<id_continue>',\n",
    " '<id_start>',\n",
    " '<identifier>',\n",
    " '<integer>',\n",
    " '<keyword>',\n",
    " '<keyword_list>',\n",
    " '<keywords>',\n",
    " '<kwarg>',\n",
    " '<lhs_Attribute>',\n",
    " '<lhs_List>',\n",
    " '<lhs_Name>',\n",
    " '<lhs_Starred>',\n",
    " '<lhs_Subscript>',\n",
    " '<lhs_Tuple>',\n",
    " '<lhs_expr>',\n",
    " '<lhs_exprs>',\n",
    " '<literal>',\n",
    " '<mod>',\n",
    " '<none>',\n",
    " '<nonempty_expr_list>',\n",
    " '<nonempty_lhs_expr_list>',\n",
    " '<nonempty_stmt_list>',\n",
    " '<nonzerodigit>',\n",
    " '<not_double_quotes>',\n",
    " '<not_single_quotes>',\n",
    " '<operator>',\n",
    " '<returns>',\n",
    " '<start>',\n",
    " '<stmt>',\n",
    " '<stmt_list>',\n",
    " '<stmts>',\n",
    " '<string>',\n",
    " '<type_comment>',\n",
    " '<type_ignore>',\n",
    " '<type_ignore_list>',\n",
    " '<type_ignores>',\n",
    " '<unaryop>',\n",
    " '<vararg>',\n",
    " '<withitem>',\n",
    " '<withitem_list>',\n",
    " '<withitems>']\n",
    "```\n",
    "If you'd like more control over Python code generation, here is what is happening behind the scenes.\n",
    "The EBNF grammar `PYTHON_AST_GRAMMAR` can parse and produce _abstract syntax trees_ for Python.\n",
    "To produce a Python module without `PythonFuzzer`, you would take these steps:\n",
    "\n",
    "**Step 1:** Create a non-EBNF grammar suitable for `ISLaSolver` (or any other grammar fuzzer):\n",
    "\n",
    "```python\n",
    ">>> python_ast_grammar = convert_ebnf_grammar(PYTHON_AST_GRAMMAR)\n",
    "```\n",
    "**Step 2:**  Feed the resulting grammar into a grammar fuzzer such as ISLa:\n",
    "\n",
    "```python\n",
    ">>> solver = ISLaSolver(python_ast_grammar, start_symbol='<FunctionDef>')\n",
    "```\n",
    "**Step 3:**  Have the grammar fuzzer produce a string. This string represents an AST.\n",
    "\n",
    "```python\n",
    ">>> ast_string = str(solver.solve())\n",
    ">>> ast_string\n",
    "'FunctionDef(name=\\'t\\', args=arguments(posonlyargs=[], args=[], kwonlyargs=[], kw_defaults=[], defaults=[]), body=[Break()], decorator_list=[], returns=Call(func=Name(id=\"set\", ctx=Load()), args=[], keywords=[]), type_comment=\\'\\')'\n",
    "```\n",
    "**Step 4:**  Convert the AST into an actual Python AST data structure.\n",
    "\n",
    "```python\n",
    ">>> from ast import *\n",
    ">>> abstract_syntax_tree = eval(ast_string)\n",
    "```\n",
    "**Step 5:** Finally, convert the AST structure back into readable Python code:\n",
    "\n",
    "```python\n",
    ">>> ast.fix_missing_locations(abstract_syntax_tree)\n",
    ">>> print(ast.unparse(abstract_syntax_tree))\n",
    "def t() -> set(): # type: \n",
    "    break\n",
    "\n",
    "```\n",
    "The chapter has many more applications, including parsing and mutating Python code, evolutionary fuzzing, and more.\n",
    "\n",
    "Here are the details on the `PythonFuzzer` constructor:\n",
    "\n",
    "<p><code>PythonFuzzer(self, start_symbol: Optional[str] = None, *, grammar: Optional[Dict[str, List[Union[str, Tuple[str, Dict[str, Any]]]]]] = None, constraint: Optional[str] = None, **kw_params) -&gt; None</code></p>\n",
    "<p>Produce Python code. Parameters are:</p>\n",
    "<ul>\n",
    "<li><code>start_symbol</code>: The grammatical entity to be generated (default: <code>&lt;FunctionDef&gt;</code>)</li>\n",
    "<li><code>grammar</code>: The EBNF grammar to be used (default: <code>PYTHON__AST_GRAMMAR</code>); and</li>\n",
    "<li><code>constraint</code> an ISLa constraint (if any).</li>\n",
    "</ul>\n",
    "<p>Additional keyword parameters are passed to the <code>ISLaSolver</code> superclass.</p>\n",
    "\n",
    "![](PICS/PythonFuzzer-synopsis-1.svg)\n",
    "\n"
   ]
  },
  {
   "cell_type": "markdown",
   "id": "6891d8a0",
   "metadata": {
    "slideshow": {
     "slide_type": "slide"
    }
   },
   "source": [
    "## A Grammar for Concrete Code\n",
    "\n",
    "To _produce_ code, it is fairly easy to write a grammar with _concrete_ syntax. If we want to produce, say, arithmetic expressions, we can easily create a concrete grammar which does precisely that.\n"
   ]
  },
  {
   "cell_type": "code",
   "execution_count": 4,
   "id": "9c5fb017",
   "metadata": {
    "execution": {
     "iopub.execute_input": "2024-06-30T16:50:42.868797Z",
     "iopub.status.busy": "2024-06-30T16:50:42.868691Z",
     "iopub.status.idle": "2024-06-30T16:50:42.870511Z",
     "shell.execute_reply": "2024-06-30T16:50:42.870263Z"
    },
    "slideshow": {
     "slide_type": "skip"
    }
   },
   "outputs": [],
   "source": [
    "import bookutils.setup"
   ]
  },
  {
   "cell_type": "code",
   "execution_count": 5,
   "id": "913ade25",
   "metadata": {
    "execution": {
     "iopub.execute_input": "2024-06-30T16:50:42.872178Z",
     "iopub.status.busy": "2024-06-30T16:50:42.872020Z",
     "iopub.status.idle": "2024-06-30T16:50:43.330016Z",
     "shell.execute_reply": "2024-06-30T16:50:43.329643Z"
    },
    "slideshow": {
     "slide_type": "skip"
    }
   },
   "outputs": [],
   "source": [
    "from Grammars import Grammar\n",
    "from Grammars import is_valid_grammar, convert_ebnf_grammar, extend_grammar, trim_grammar"
   ]
  },
  {
   "cell_type": "code",
   "execution_count": 6,
   "id": "fb8c5ef0",
   "metadata": {
    "execution": {
     "iopub.execute_input": "2024-06-30T16:50:43.332102Z",
     "iopub.status.busy": "2024-06-30T16:50:43.331916Z",
     "iopub.status.idle": "2024-06-30T16:50:43.334085Z",
     "shell.execute_reply": "2024-06-30T16:50:43.333700Z"
    },
    "slideshow": {
     "slide_type": "skip"
    }
   },
   "outputs": [],
   "source": [
    "from typing import Optional"
   ]
  },
  {
   "cell_type": "markdown",
   "id": "1b7558ed",
   "metadata": {
    "slideshow": {
     "slide_type": "fragment"
    }
   },
   "source": [
    "We use the [Fuzzingbook format for grammars](https://www.fuzzingbook.org/html/Grammars.html), in which grammars are represented as dictionaries from symbols to lists of expansion alternatives."
   ]
  },
  {
   "cell_type": "code",
   "execution_count": 7,
   "id": "b624757f",
   "metadata": {
    "execution": {
     "iopub.execute_input": "2024-06-30T16:50:43.336081Z",
     "iopub.status.busy": "2024-06-30T16:50:43.335858Z",
     "iopub.status.idle": "2024-06-30T16:50:43.338412Z",
     "shell.execute_reply": "2024-06-30T16:50:43.338048Z"
    },
    "slideshow": {
     "slide_type": "subslide"
    }
   },
   "outputs": [],
   "source": [
    "EXPR_GRAMMAR: Grammar = {\n",
    "    \"<start>\":\n",
    "        [\"<expr>\"],\n",
    "\n",
    "    \"<expr>\":\n",
    "        [\"<term> + <expr>\", \"<term> - <expr>\", \"<term>\"],\n",
    "\n",
    "    \"<term>\":\n",
    "        [\"<factor> * <term>\", \"<factor> / <term>\", \"<factor>\"],\n",
    "\n",
    "    \"<factor>\":\n",
    "        [\"+<factor>\",\n",
    "         \"-<factor>\",\n",
    "         \"(<expr>)\",\n",
    "         \"<integer>.<integer>\",\n",
    "         \"<integer>\"],\n",
    "\n",
    "    \"<integer>\":\n",
    "        [\"<digit><integer>\", \"<digit>\"],\n",
    "\n",
    "    \"<digit>\":\n",
    "        [\"0\", \"1\", \"2\", \"3\", \"4\", \"5\", \"6\", \"7\", \"8\", \"9\"]\n",
    "}"
   ]
  },
  {
   "cell_type": "code",
   "execution_count": 8,
   "id": "6237b672",
   "metadata": {
    "execution": {
     "iopub.execute_input": "2024-06-30T16:50:43.340359Z",
     "iopub.status.busy": "2024-06-30T16:50:43.340081Z",
     "iopub.status.idle": "2024-06-30T16:50:43.342019Z",
     "shell.execute_reply": "2024-06-30T16:50:43.341748Z"
    },
    "slideshow": {
     "slide_type": "subslide"
    }
   },
   "outputs": [],
   "source": [
    "assert is_valid_grammar(EXPR_GRAMMAR)"
   ]
  },
  {
   "cell_type": "markdown",
   "id": "1e8de5f1",
   "metadata": {
    "slideshow": {
     "slide_type": "fragment"
    }
   },
   "source": [
    "We can use this grammar to produce syntactically valid arithmetic expressions.\n",
    "We use the [ISLa solver](FuzzingWithConstraints.ipynb) as our generator, as it is the most powerful; but we could also use any other of our grammar fuzzers such as [GrammarFuzzer](GrammarFuzzer.ipynb) at this point."
   ]
  },
  {
   "cell_type": "code",
   "execution_count": 9,
   "id": "3c044f44",
   "metadata": {
    "execution": {
     "iopub.execute_input": "2024-06-30T16:50:43.343744Z",
     "iopub.status.busy": "2024-06-30T16:50:43.343511Z",
     "iopub.status.idle": "2024-06-30T16:50:43.401491Z",
     "shell.execute_reply": "2024-06-30T16:50:43.401181Z"
    },
    "slideshow": {
     "slide_type": "skip"
    }
   },
   "outputs": [],
   "source": [
    "from isla.solver import ISLaSolver  # type: ignore"
   ]
  },
  {
   "cell_type": "markdown",
   "id": "ed698d7f",
   "metadata": {
    "slideshow": {
     "slide_type": "fragment"
    }
   },
   "source": [
    "Here are some concrete inputs produced from the grammar:"
   ]
  },
  {
   "cell_type": "code",
   "execution_count": 10,
   "id": "876a4d22",
   "metadata": {
    "execution": {
     "iopub.execute_input": "2024-06-30T16:50:43.403641Z",
     "iopub.status.busy": "2024-06-30T16:50:43.403458Z",
     "iopub.status.idle": "2024-06-30T16:50:43.565247Z",
     "shell.execute_reply": "2024-06-30T16:50:43.564886Z"
    },
    "slideshow": {
     "slide_type": "subslide"
    }
   },
   "outputs": [
    {
     "name": "stdout",
     "output_type": "stream",
     "text": [
      "4.3 + 512 / -(7 / 6 - 0 / 9 * 1 * 1) * +8.3 / 7 * 4 / 6\n",
      "(4 / 7 + 1) / (4) / 9 / 8 + 4 / (3 + 6 - 7)\n",
      "+--(--(-9) * (4 * 7 + (4) + 4) + --(+(3)) - 6 + 0 / 7 + 7)\n",
      "(2 * 6 + 0 - 5) * 4 - +1 * (2 - 2) / 8 / 6\n",
      "(+-(0 - (1) * 7 / 3)) / ((1 * 3 + 8) + 9 - +1 / --0) - 5 * (-+939.491)\n",
      "+2.9 * 0 / 501.19814 / --+--(6.05002)\n",
      "+-8.8 / (1) * -+1 + -8 + 9 - 3 / 8 * 6 + 4 * 3 * 5\n",
      "(+(8 / 9 - 1 - 7)) + ---06.30 / +4.39\n",
      "8786.82 - +01.170 / 9.2 - +(7) + 1 * 9 - 0\n",
      "+-6 * 0 / 5 * (-(1.7 * +(-1 / +4.9 * 5 * 1 * 2) + -4.2 + (6 + -5) / (4 * 3 + 4)))\n"
     ]
    }
   ],
   "source": [
    "expr_solver = ISLaSolver(EXPR_GRAMMAR)\n",
    "for _ in range(10):\n",
    "    print(expr_solver.solve())"
   ]
  },
  {
   "cell_type": "markdown",
   "id": "1f94ef09",
   "metadata": {
    "slideshow": {
     "slide_type": "subslide"
    }
   },
   "source": [
    "We could extend the grammar further to also produce assignments and other statements, and piece by piece cover the entire syntax of the programming language. However, this would be a not-so-great idea. Why?"
   ]
  },
  {
   "cell_type": "markdown",
   "id": "9a7541c2",
   "metadata": {
    "slideshow": {
     "slide_type": "fragment"
    }
   },
   "source": [
    "The problem is that when testing _compilers_, you not only want to be able to _produce_ code, but also to _parse_ code, such that you can mutate and manipulate it at will. And this is where our \"concrete\" syntax will give us problems. While we can easily parse code (or expressions) that exactly adheres to the syntax..."
   ]
  },
  {
   "cell_type": "code",
   "execution_count": 11,
   "id": "349fbe12",
   "metadata": {
    "execution": {
     "iopub.execute_input": "2024-06-30T16:50:43.567439Z",
     "iopub.status.busy": "2024-06-30T16:50:43.567311Z",
     "iopub.status.idle": "2024-06-30T16:50:43.570724Z",
     "shell.execute_reply": "2024-06-30T16:50:43.570306Z"
    },
    "slideshow": {
     "slide_type": "fragment"
    }
   },
   "outputs": [
    {
     "data": {
      "text/plain": [
       "True"
      ]
     },
     "execution_count": 11,
     "metadata": {},
     "output_type": "execute_result"
    }
   ],
   "source": [
    "expr_solver.check('2 + 2')"
   ]
  },
  {
   "cell_type": "markdown",
   "id": "571c36ed",
   "metadata": {
    "slideshow": {
     "slide_type": "fragment"
    }
   },
   "source": [
    "... a single space will already suffice to make it fail..."
   ]
  },
  {
   "cell_type": "code",
   "execution_count": 12,
   "id": "55c4c427",
   "metadata": {
    "execution": {
     "iopub.execute_input": "2024-06-30T16:50:43.572583Z",
     "iopub.status.busy": "2024-06-30T16:50:43.572474Z",
     "iopub.status.idle": "2024-06-30T16:50:43.575519Z",
     "shell.execute_reply": "2024-06-30T16:50:43.575238Z"
    },
    "slideshow": {
     "slide_type": "fragment"
    }
   },
   "outputs": [
    {
     "name": "stderr",
     "output_type": "stream",
     "text": [
      "Error parsing \"2 +  2\" starting with \"<start>\"\n"
     ]
    },
    {
     "data": {
      "text/plain": [
       "False"
      ]
     },
     "execution_count": 12,
     "metadata": {},
     "output_type": "execute_result"
    }
   ],
   "source": [
    "expr_solver.check('2 +  2')"
   ]
  },
  {
   "cell_type": "markdown",
   "id": "93be756e",
   "metadata": {
    "slideshow": {
     "slide_type": "subslide"
    }
   },
   "source": [
    "... as does the absence of spaces:"
   ]
  },
  {
   "cell_type": "code",
   "execution_count": 13,
   "id": "b10ae428",
   "metadata": {
    "execution": {
     "iopub.execute_input": "2024-06-30T16:50:43.577150Z",
     "iopub.status.busy": "2024-06-30T16:50:43.577042Z",
     "iopub.status.idle": "2024-06-30T16:50:43.579464Z",
     "shell.execute_reply": "2024-06-30T16:50:43.579221Z"
    },
    "slideshow": {
     "slide_type": "fragment"
    }
   },
   "outputs": [
    {
     "name": "stderr",
     "output_type": "stream",
     "text": [
      "Error parsing \"2+2\" starting with \"<start>\"\n"
     ]
    },
    {
     "data": {
      "text/plain": [
       "False"
      ]
     },
     "execution_count": 13,
     "metadata": {},
     "output_type": "execute_result"
    }
   ],
   "source": [
    "expr_solver.check('2+2')"
   ]
  },
  {
   "cell_type": "markdown",
   "id": "761adf53",
   "metadata": {
    "slideshow": {
     "slide_type": "fragment"
    }
   },
   "source": [
    "Indeed, spaces are optional in most programming languages. We _could_ update our grammar such that it can handle optional spaces at all times (introducing a `<space>` nonterminal). But then, there are other features like _comments_..."
   ]
  },
  {
   "cell_type": "code",
   "execution_count": 14,
   "id": "993eef59",
   "metadata": {
    "execution": {
     "iopub.execute_input": "2024-06-30T16:50:43.580958Z",
     "iopub.status.busy": "2024-06-30T16:50:43.580855Z",
     "iopub.status.idle": "2024-06-30T16:50:43.583745Z",
     "shell.execute_reply": "2024-06-30T16:50:43.583465Z"
    },
    "slideshow": {
     "slide_type": "fragment"
    }
   },
   "outputs": [
    {
     "name": "stderr",
     "output_type": "stream",
     "text": [
      "Error parsing \"2 + 2    # should be 4\" starting with \"<start>\"\n"
     ]
    },
    {
     "data": {
      "text/plain": [
       "False"
      ]
     },
     "execution_count": 14,
     "metadata": {},
     "output_type": "execute_result"
    }
   ],
   "source": [
    "expr_solver.check('2 + 2    # should be 4')"
   ]
  },
  {
   "cell_type": "markdown",
   "id": "a83db970",
   "metadata": {
    "slideshow": {
     "slide_type": "fragment"
    }
   },
   "source": [
    "... or _continuation lines_ ..."
   ]
  },
  {
   "cell_type": "code",
   "execution_count": 15,
   "id": "c480158d",
   "metadata": {
    "execution": {
     "iopub.execute_input": "2024-06-30T16:50:43.585638Z",
     "iopub.status.busy": "2024-06-30T16:50:43.585514Z",
     "iopub.status.idle": "2024-06-30T16:50:43.588582Z",
     "shell.execute_reply": "2024-06-30T16:50:43.588260Z"
    },
    "slideshow": {
     "slide_type": "subslide"
    }
   },
   "outputs": [
    {
     "name": "stderr",
     "output_type": "stream",
     "text": [
      "Error parsing \"2 + \\\n",
      "2\" starting with \"<start>\"\n"
     ]
    },
    {
     "data": {
      "text/plain": [
       "False"
      ]
     },
     "execution_count": 15,
     "metadata": {},
     "output_type": "execute_result"
    }
   ],
   "source": [
    "expr_solver.check('2 + \\\\\\n2')  # An expression split over two lines"
   ]
  },
  {
   "cell_type": "markdown",
   "id": "abb250aa",
   "metadata": {
    "slideshow": {
     "slide_type": "fragment"
    }
   },
   "source": [
    "that our grammar would have to cover.\n",
    "\n",
    "On top, there are language features that cannot be even represented properly in a context-free grammar:\n",
    "\n",
    "* In the C programming language, for instance, the parser needs to know whether an identifier has been defined as a _type_\n",
    "* In Python, _indentation_ levels cannot be represented by a context-free grammar."
   ]
  },
  {
   "cell_type": "markdown",
   "id": "b256dd39",
   "metadata": {
    "slideshow": {
     "slide_type": "subslide"
    }
   },
   "source": [
    "For this reason, it is often a good idea to make use of a dedicated _parser_ (or _preprocessor_) to turn input into a more _abstract_ representation - typically a _tree_ structure. In programming languages, such a tree is called an _abstract syntax tree_ (AST); it is the data structure that compilers operate on."
   ]
  },
  {
   "cell_type": "markdown",
   "id": "cebfc772",
   "metadata": {
    "slideshow": {
     "slide_type": "slide"
    }
   },
   "source": [
    "## Abstract Syntax Trees\n",
    "\n",
    "Abstract Syntax Trees (ASTs) that represent program code are among the most complex data structures in the world (if not _the_ most complex data structures) - notably because they reflect all the complexity of the programming language and its features.\n",
    "The good news is that in Python, working with ASTs is particularly easy - one can work with them using standard language features."
   ]
  },
  {
   "cell_type": "markdown",
   "id": "685c3351",
   "metadata": {
    "slideshow": {
     "slide_type": "fragment"
    }
   },
   "source": [
    "Let us illustrate ASTs using an example. Here is a piece of code that we'd like to work with:"
   ]
  },
  {
   "cell_type": "code",
   "execution_count": 16,
   "id": "2a9f3aaf",
   "metadata": {
    "execution": {
     "iopub.execute_input": "2024-06-30T16:50:43.590518Z",
     "iopub.status.busy": "2024-06-30T16:50:43.590373Z",
     "iopub.status.idle": "2024-06-30T16:50:43.592234Z",
     "shell.execute_reply": "2024-06-30T16:50:43.591941Z"
    },
    "slideshow": {
     "slide_type": "fragment"
    }
   },
   "outputs": [],
   "source": [
    "def main():\n",
    "    print(\"Hello, world!\")  # A simple example"
   ]
  },
  {
   "cell_type": "code",
   "execution_count": 17,
   "id": "98efc147",
   "metadata": {
    "execution": {
     "iopub.execute_input": "2024-06-30T16:50:43.593854Z",
     "iopub.status.busy": "2024-06-30T16:50:43.593758Z",
     "iopub.status.idle": "2024-06-30T16:50:43.595779Z",
     "shell.execute_reply": "2024-06-30T16:50:43.595410Z"
    },
    "slideshow": {
     "slide_type": "subslide"
    }
   },
   "outputs": [
    {
     "name": "stdout",
     "output_type": "stream",
     "text": [
      "Hello, world!\n"
     ]
    }
   ],
   "source": [
    "main()"
   ]
  },
  {
   "cell_type": "markdown",
   "id": "d0dcaf1f",
   "metadata": {
    "slideshow": {
     "slide_type": "fragment"
    }
   },
   "source": [
    "Let us obtain the source code of this function:"
   ]
  },
  {
   "cell_type": "code",
   "execution_count": 18,
   "id": "bc7cf0bb",
   "metadata": {
    "execution": {
     "iopub.execute_input": "2024-06-30T16:50:43.597456Z",
     "iopub.status.busy": "2024-06-30T16:50:43.597347Z",
     "iopub.status.idle": "2024-06-30T16:50:43.599119Z",
     "shell.execute_reply": "2024-06-30T16:50:43.598799Z"
    },
    "slideshow": {
     "slide_type": "skip"
    }
   },
   "outputs": [],
   "source": [
    "import inspect"
   ]
  },
  {
   "cell_type": "code",
   "execution_count": 19,
   "id": "ea8e21aa",
   "metadata": {
    "execution": {
     "iopub.execute_input": "2024-06-30T16:50:43.600782Z",
     "iopub.status.busy": "2024-06-30T16:50:43.600683Z",
     "iopub.status.idle": "2024-06-30T16:50:43.604146Z",
     "shell.execute_reply": "2024-06-30T16:50:43.603808Z"
    },
    "slideshow": {
     "slide_type": "fragment"
    }
   },
   "outputs": [
    {
     "name": "stdout",
     "output_type": "stream",
     "text": [
      "def main():\n",
      "    print(\"Hello, world!\")  # A simple example\n",
      "\n"
     ]
    }
   ],
   "source": [
    "main_source = inspect.getsource(main)\n",
    "print(main_source)"
   ]
  },
  {
   "cell_type": "markdown",
   "id": "edad2951",
   "metadata": {
    "slideshow": {
     "slide_type": "fragment"
    }
   },
   "source": [
    "We make use of the [Python AST module](https://docs.python.org/3/library/ast.html) to convert this code string to an AST and back."
   ]
  },
  {
   "cell_type": "code",
   "execution_count": 20,
   "id": "d7f13492",
   "metadata": {
    "execution": {
     "iopub.execute_input": "2024-06-30T16:50:43.606309Z",
     "iopub.status.busy": "2024-06-30T16:50:43.606183Z",
     "iopub.status.idle": "2024-06-30T16:50:43.608077Z",
     "shell.execute_reply": "2024-06-30T16:50:43.607747Z"
    },
    "slideshow": {
     "slide_type": "skip"
    }
   },
   "outputs": [],
   "source": [
    "import ast"
   ]
  },
  {
   "cell_type": "markdown",
   "id": "25ab1564",
   "metadata": {
    "slideshow": {
     "slide_type": "fragment"
    }
   },
   "source": [
    "With `ast.parse()`, we can parse the `main()` source into an AST:"
   ]
  },
  {
   "cell_type": "code",
   "execution_count": 21,
   "id": "812c6351",
   "metadata": {
    "execution": {
     "iopub.execute_input": "2024-06-30T16:50:43.609834Z",
     "iopub.status.busy": "2024-06-30T16:50:43.609693Z",
     "iopub.status.idle": "2024-06-30T16:50:43.611741Z",
     "shell.execute_reply": "2024-06-30T16:50:43.611357Z"
    },
    "slideshow": {
     "slide_type": "fragment"
    }
   },
   "outputs": [],
   "source": [
    "main_tree = ast.parse(main_source)"
   ]
  },
  {
   "cell_type": "markdown",
   "id": "b38b520a",
   "metadata": {
    "slideshow": {
     "slide_type": "fragment"
    }
   },
   "source": [
    "This is what this tree looks like:"
   ]
  },
  {
   "cell_type": "code",
   "execution_count": 22,
   "id": "c9efe33f",
   "metadata": {
    "execution": {
     "iopub.execute_input": "2024-06-30T16:50:43.613745Z",
     "iopub.status.busy": "2024-06-30T16:50:43.613608Z",
     "iopub.status.idle": "2024-06-30T16:50:43.615487Z",
     "shell.execute_reply": "2024-06-30T16:50:43.615150Z"
    },
    "slideshow": {
     "slide_type": "skip"
    }
   },
   "outputs": [],
   "source": [
    "from bookutils import show_ast"
   ]
  },
  {
   "cell_type": "code",
   "execution_count": 23,
   "id": "440a5bab",
   "metadata": {
    "execution": {
     "iopub.execute_input": "2024-06-30T16:50:43.617318Z",
     "iopub.status.busy": "2024-06-30T16:50:43.617167Z",
     "iopub.status.idle": "2024-06-30T16:50:44.085557Z",
     "shell.execute_reply": "2024-06-30T16:50:44.085205Z"
    },
    "slideshow": {
     "slide_type": "subslide"
    }
   },
   "outputs": [
    {
     "data": {
      "image/svg+xml": [
       "<svg xmlns=\"http://www.w3.org/2000/svg\" xmlns:xlink=\"http://www.w3.org/1999/xlink\" width=\"369pt\" height=\"332pt\" viewBox=\"0.00 0.00 368.62 332.00\">\n",
       "<g id=\"graph0\" class=\"graph\" transform=\"scale(1 1) rotate(0) translate(4 328)\">\n",
       "<polygon fill=\"white\" stroke=\"none\" points=\"-4,4 -4,-328 364.62,-328 364.62,4 -4,4\"/>\n",
       "<!-- 0 -->\n",
       "<g id=\"node1\" class=\"node\">\n",
       "<title>0</title>\n",
       "<text text-anchor=\"start\" x=\"83.38\" y=\"-301.95\" font-family=\"Courier,monospace\" font-weight=\"bold\" font-size=\"14.00\" fill=\"#004080\">FunctionDef</text>\n",
       "</g>\n",
       "<!-- 1 -->\n",
       "<g id=\"node2\" class=\"node\">\n",
       "<title>1</title>\n",
       "<text text-anchor=\"middle\" x=\"32.75\" y=\"-228.95\" font-family=\"Courier,monospace\" font-size=\"14.00\" fill=\"#008040\">&quot;main&quot;</text>\n",
       "</g>\n",
       "<!-- 0&#45;&#45;1 -->\n",
       "<g id=\"edge1\" class=\"edge\">\n",
       "<title>0--1</title>\n",
       "<path fill=\"none\" stroke=\"black\" d=\"M128.75,-287C128.75,-287 91.95,-267.07 63.92,-251.88\"/>\n",
       "</g>\n",
       "<!-- 2 -->\n",
       "<g id=\"node3\" class=\"node\">\n",
       "<title>2</title>\n",
       "<text text-anchor=\"middle\" x=\"128.75\" y=\"-228.95\" font-family=\"Courier,monospace\" font-size=\"14.00\" fill=\"#008040\">arguments</text>\n",
       "</g>\n",
       "<!-- 0&#45;&#45;2 -->\n",
       "<g id=\"edge2\" class=\"edge\">\n",
       "<title>0--2</title>\n",
       "<path fill=\"none\" stroke=\"black\" d=\"M128.75,-287C128.75,-287 128.75,-266.94 128.75,-251.74\"/>\n",
       "</g>\n",
       "<!-- 3 -->\n",
       "<g id=\"node4\" class=\"node\">\n",
       "<title>3</title>\n",
       "<text text-anchor=\"start\" x=\"202.25\" y=\"-229.95\" font-family=\"Courier,monospace\" font-weight=\"bold\" font-size=\"14.00\" fill=\"#004080\">Expr</text>\n",
       "</g>\n",
       "<!-- 0&#45;&#45;3 -->\n",
       "<g id=\"edge3\" class=\"edge\">\n",
       "<title>0--3</title>\n",
       "<path fill=\"none\" stroke=\"black\" d=\"M128.75,-287C128.75,-287 165.69,-265.66 192.23,-250.32\"/>\n",
       "</g>\n",
       "<!-- 4 -->\n",
       "<g id=\"node5\" class=\"node\">\n",
       "<title>4</title>\n",
       "<text text-anchor=\"start\" x=\"202.25\" y=\"-157.95\" font-family=\"Courier,monospace\" font-weight=\"bold\" font-size=\"14.00\" fill=\"#004080\">Call</text>\n",
       "</g>\n",
       "<!-- 3&#45;&#45;4 -->\n",
       "<g id=\"edge4\" class=\"edge\">\n",
       "<title>3--4</title>\n",
       "<path fill=\"none\" stroke=\"black\" d=\"M218.75,-216.05C218.75,-205.05 218.75,-190.76 218.75,-179.79\"/>\n",
       "</g>\n",
       "<!-- 5 -->\n",
       "<g id=\"node6\" class=\"node\">\n",
       "<title>5</title>\n",
       "<text text-anchor=\"start\" x=\"159.25\" y=\"-85.95\" font-family=\"Courier,monospace\" font-weight=\"bold\" font-size=\"14.00\" fill=\"#004080\">Name</text>\n",
       "</g>\n",
       "<!-- 4&#45;&#45;5 -->\n",
       "<g id=\"edge5\" class=\"edge\">\n",
       "<title>4--5</title>\n",
       "<path fill=\"none\" stroke=\"black\" d=\"M219.75,-143C219.75,-143 202.78,-122.94 189.91,-107.74\"/>\n",
       "</g>\n",
       "<!-- 8 -->\n",
       "<g id=\"node9\" class=\"node\">\n",
       "<title>8</title>\n",
       "<text text-anchor=\"start\" x=\"242.75\" y=\"-85.95\" font-family=\"Courier,monospace\" font-weight=\"bold\" font-size=\"14.00\" fill=\"#004080\">Constant</text>\n",
       "</g>\n",
       "<!-- 4&#45;&#45;8 -->\n",
       "<g id=\"edge8\" class=\"edge\">\n",
       "<title>4--8</title>\n",
       "<path fill=\"none\" stroke=\"black\" d=\"M219.75,-143C219.75,-143 241.35,-122.94 257.72,-107.74\"/>\n",
       "</g>\n",
       "<!-- 6 -->\n",
       "<g id=\"node7\" class=\"node\">\n",
       "<title>6</title>\n",
       "<text text-anchor=\"middle\" x=\"93.75\" y=\"-12.95\" font-family=\"Courier,monospace\" font-size=\"14.00\" fill=\"#008040\">&quot;print&quot;</text>\n",
       "</g>\n",
       "<!-- 5&#45;&#45;6 -->\n",
       "<g id=\"edge6\" class=\"edge\">\n",
       "<title>5--6</title>\n",
       "<path fill=\"none\" stroke=\"black\" d=\"M167.75,-71C167.75,-71 139.2,-50.94 117.57,-35.74\"/>\n",
       "</g>\n",
       "<!-- 7 -->\n",
       "<g id=\"node8\" class=\"node\">\n",
       "<title>7</title>\n",
       "<text text-anchor=\"middle\" x=\"175.75\" y=\"-12.95\" font-family=\"Courier,monospace\" font-size=\"14.00\" fill=\"#008040\">Load</text>\n",
       "</g>\n",
       "<!-- 5&#45;&#45;7 -->\n",
       "<g id=\"edge7\" class=\"edge\">\n",
       "<title>5--7</title>\n",
       "<path fill=\"none\" stroke=\"black\" d=\"M167.75,-71C167.75,-71 170.84,-50.94 173.17,-35.74\"/>\n",
       "</g>\n",
       "<!-- 9 -->\n",
       "<g id=\"node10\" class=\"node\">\n",
       "<title>9</title>\n",
       "<text text-anchor=\"middle\" x=\"290.75\" y=\"-12.95\" font-family=\"Courier,monospace\" font-size=\"14.00\" fill=\"#008040\">&quot;Hello, world!&quot;</text>\n",
       "</g>\n",
       "<!-- 8&#45;&#45;9 -->\n",
       "<g id=\"edge9\" class=\"edge\">\n",
       "<title>8--9</title>\n",
       "<path fill=\"none\" stroke=\"black\" d=\"M279.38,-72.05C281.74,-61.05 284.8,-46.76 287.15,-35.79\"/>\n",
       "</g>\n",
       "</g>\n",
       "</svg>"
      ],
      "text/plain": [
       "<IPython.core.display.SVG object>"
      ]
     },
     "metadata": {},
     "output_type": "display_data"
    }
   ],
   "source": [
    "show_ast(main_tree)"
   ]
  },
  {
   "cell_type": "markdown",
   "id": "4fa3edde",
   "metadata": {
    "slideshow": {
     "slide_type": "fragment"
    }
   },
   "source": [
    "We see how the function definition has become a `FunctionDef` node, whose third child is an `Expr` node, which in turn becomes a `Call` – of the `\"print\"` function with an argument of `\"Hello, world!\"`."
   ]
  },
  {
   "cell_type": "markdown",
   "id": "17d22616",
   "metadata": {
    "slideshow": {
     "slide_type": "fragment"
    }
   },
   "source": [
    "Each of these AST nodes comes as a _constructor_ – that is, we can invoke `FunctionDef()` to obtain a function definition node, or `Call()` to obtain a call node.\n",
    "These constructors take the AST _children_ as arguments, but also lots of _optional_ arguments (which we did not use so far). The _dump_ of the AST into a string reveals all the arguments for each constructor:"
   ]
  },
  {
   "cell_type": "code",
   "execution_count": 24,
   "id": "67d1fa00",
   "metadata": {
    "execution": {
     "iopub.execute_input": "2024-06-30T16:50:44.087549Z",
     "iopub.status.busy": "2024-06-30T16:50:44.087410Z",
     "iopub.status.idle": "2024-06-30T16:50:44.089771Z",
     "shell.execute_reply": "2024-06-30T16:50:44.089479Z"
    },
    "slideshow": {
     "slide_type": "subslide"
    }
   },
   "outputs": [
    {
     "name": "stdout",
     "output_type": "stream",
     "text": [
      "Module(\n",
      "    body=[\n",
      "        FunctionDef(\n",
      "            name='main',\n",
      "            args=arguments(\n",
      "                posonlyargs=[],\n",
      "                args=[],\n",
      "                kwonlyargs=[],\n",
      "                kw_defaults=[],\n",
      "                defaults=[]),\n",
      "            body=[\n",
      "                Expr(\n",
      "                    value=Call(\n",
      "                        func=Name(id='print', ctx=Load()),\n",
      "                        args=[\n",
      "                            Constant(value='Hello, world!')],\n",
      "                        keywords=[]))],\n",
      "            decorator_list=[])],\n",
      "    type_ignores=[])\n"
     ]
    }
   ],
   "source": [
    "print(ast.dump(main_tree, indent=4))"
   ]
  },
  {
   "cell_type": "markdown",
   "id": "ba1c84ee",
   "metadata": {
    "slideshow": {
     "slide_type": "subslide"
    }
   },
   "source": [
    "The [Python ast documentation](https://docs.python.org/3/library/ast.html) lists all these constructors, which make up the abstract syntax. There are more than 100 individual constructors! (We said that ASTs are complex, right?)"
   ]
  },
  {
   "cell_type": "markdown",
   "id": "00aa23f5",
   "metadata": {
    "slideshow": {
     "slide_type": "fragment"
    }
   },
   "source": [
    "The nice thing about the above string representation is that we can take it _as is_ and turn it into a tree again:"
   ]
  },
  {
   "cell_type": "code",
   "execution_count": 25,
   "id": "9edee43e",
   "metadata": {
    "execution": {
     "iopub.execute_input": "2024-06-30T16:50:44.091416Z",
     "iopub.status.busy": "2024-06-30T16:50:44.091290Z",
     "iopub.status.idle": "2024-06-30T16:50:44.093204Z",
     "shell.execute_reply": "2024-06-30T16:50:44.092902Z"
    },
    "slideshow": {
     "slide_type": "skip"
    }
   },
   "outputs": [],
   "source": [
    "from ast import *"
   ]
  },
  {
   "cell_type": "code",
   "execution_count": 26,
   "id": "fdd82102",
   "metadata": {
    "execution": {
     "iopub.execute_input": "2024-06-30T16:50:44.095078Z",
     "iopub.status.busy": "2024-06-30T16:50:44.094950Z",
     "iopub.status.idle": "2024-06-30T16:50:44.097443Z",
     "shell.execute_reply": "2024-06-30T16:50:44.097163Z"
    },
    "slideshow": {
     "slide_type": "subslide"
    }
   },
   "outputs": [],
   "source": [
    "my_main_tree = Module(\n",
    "    body=[\n",
    "        FunctionDef(\n",
    "            name='main',\n",
    "            args=arguments(\n",
    "                posonlyargs=[],\n",
    "                args=[],\n",
    "                kwonlyargs=[],\n",
    "                kw_defaults=[],\n",
    "                defaults=[]),\n",
    "            body=[\n",
    "                Expr(\n",
    "                    value=Call(\n",
    "                        func=Name(id='print', ctx=Load()),\n",
    "                        args=[\n",
    "                            Constant(value='Hello, world!')],\n",
    "                        keywords=[]))],\n",
    "            decorator_list=[])],\n",
    "    type_ignores=[])"
   ]
  },
  {
   "cell_type": "markdown",
   "id": "9ff26508",
   "metadata": {
    "slideshow": {
     "slide_type": "subslide"
    }
   },
   "source": [
    "We can take this tree and compile it into executable code:"
   ]
  },
  {
   "cell_type": "code",
   "execution_count": 27,
   "id": "0d60cb66",
   "metadata": {
    "execution": {
     "iopub.execute_input": "2024-06-30T16:50:44.099040Z",
     "iopub.status.busy": "2024-06-30T16:50:44.098906Z",
     "iopub.status.idle": "2024-06-30T16:50:44.100834Z",
     "shell.execute_reply": "2024-06-30T16:50:44.100541Z"
    },
    "slideshow": {
     "slide_type": "fragment"
    }
   },
   "outputs": [],
   "source": [
    "my_main_tree = fix_missing_locations(my_main_tree)  # required for trees built from constructors\n",
    "my_main_code = compile(my_main_tree, filename='<unknown>', mode='exec')"
   ]
  },
  {
   "cell_type": "code",
   "execution_count": 28,
   "id": "e61c1f09",
   "metadata": {
    "execution": {
     "iopub.execute_input": "2024-06-30T16:50:44.102432Z",
     "iopub.status.busy": "2024-06-30T16:50:44.102243Z",
     "iopub.status.idle": "2024-06-30T16:50:44.104217Z",
     "shell.execute_reply": "2024-06-30T16:50:44.103781Z"
    },
    "slideshow": {
     "slide_type": "fragment"
    }
   },
   "outputs": [],
   "source": [
    "del main  # This deletes the definition of main()"
   ]
  },
  {
   "cell_type": "code",
   "execution_count": 29,
   "id": "6f581584",
   "metadata": {
    "execution": {
     "iopub.execute_input": "2024-06-30T16:50:44.105845Z",
     "iopub.status.busy": "2024-06-30T16:50:44.105702Z",
     "iopub.status.idle": "2024-06-30T16:50:44.107465Z",
     "shell.execute_reply": "2024-06-30T16:50:44.107174Z"
    },
    "slideshow": {
     "slide_type": "fragment"
    }
   },
   "outputs": [],
   "source": [
    "exec(my_main_code)  # This defines main() again from `code`"
   ]
  },
  {
   "cell_type": "code",
   "execution_count": 30,
   "id": "d90f17c0",
   "metadata": {
    "execution": {
     "iopub.execute_input": "2024-06-30T16:50:44.108974Z",
     "iopub.status.busy": "2024-06-30T16:50:44.108856Z",
     "iopub.status.idle": "2024-06-30T16:50:44.110727Z",
     "shell.execute_reply": "2024-06-30T16:50:44.110431Z"
    },
    "slideshow": {
     "slide_type": "fragment"
    }
   },
   "outputs": [
    {
     "name": "stdout",
     "output_type": "stream",
     "text": [
      "Hello, world!\n"
     ]
    }
   ],
   "source": [
    "main()"
   ]
  },
  {
   "cell_type": "markdown",
   "id": "dac043e0",
   "metadata": {
    "slideshow": {
     "slide_type": "fragment"
    }
   },
   "source": [
    "We can also _unparse_ the tree (= turn it into source code again). (Note how the comment got lost during parsing.)"
   ]
  },
  {
   "cell_type": "code",
   "execution_count": 31,
   "id": "b4efb7e2",
   "metadata": {
    "execution": {
     "iopub.execute_input": "2024-06-30T16:50:44.112601Z",
     "iopub.status.busy": "2024-06-30T16:50:44.112489Z",
     "iopub.status.idle": "2024-06-30T16:50:44.114561Z",
     "shell.execute_reply": "2024-06-30T16:50:44.114226Z"
    },
    "slideshow": {
     "slide_type": "fragment"
    }
   },
   "outputs": [
    {
     "name": "stdout",
     "output_type": "stream",
     "text": [
      "def main():\n",
      "    print('Hello, world!')\n"
     ]
    }
   ],
   "source": [
    "print(ast.unparse(my_main_tree))"
   ]
  },
  {
   "cell_type": "markdown",
   "id": "ab4f0239",
   "metadata": {
    "slideshow": {
     "slide_type": "subslide"
    }
   },
   "source": [
    "Hence, we can\n",
    "\n",
    "1. _Parse_ concrete code into ASTs (with `ast.parse()`)\n",
    "2. _Generate_ new ASTs and _mutate_ existing ones\n",
    "3. _Unparse_ ASTs to obtain concrete code again (with `ast.unparse()`)"
   ]
  },
  {
   "cell_type": "markdown",
   "id": "844b7cdd",
   "metadata": {
    "slideshow": {
     "slide_type": "fragment"
    }
   },
   "source": [
    "To _generate_ and _mutate_ ASTs (step #2, above), we need means to produce _correct_ ASTs, invoking all constructors with the correct arguments.\n",
    "The plan is thus to have a _grammar_ for ASTs, which produces (and parses) ASTs as we like."
   ]
  },
  {
   "cell_type": "markdown",
   "id": "0a04f293",
   "metadata": {
    "slideshow": {
     "slide_type": "slide"
    }
   },
   "source": [
    "## A Grammar for ASTs\n",
    "\n",
    "Programming language grammars are among the most complicated formal grammars around, and ASTs reflect much of this complexity. We will use the [abstract AST grammar](https://docs.python.org/3/library/ast.html) as specified in the Python documentation as base, and build a formal context-free grammar step by step."
   ]
  },
  {
   "cell_type": "markdown",
   "id": "0833a137",
   "metadata": {
    "slideshow": {
     "slide_type": "subslide"
    }
   },
   "source": [
    "### Constants\n",
    "\n",
    "We will start with simple constants – strings and integers. Again, we use the `fuzzingbook` syntax for grammars, as it allows for easier extension."
   ]
  },
  {
   "cell_type": "code",
   "execution_count": 32,
   "id": "d557652d",
   "metadata": {
    "execution": {
     "iopub.execute_input": "2024-06-30T16:50:44.116421Z",
     "iopub.status.busy": "2024-06-30T16:50:44.116314Z",
     "iopub.status.idle": "2024-06-30T16:50:44.118110Z",
     "shell.execute_reply": "2024-06-30T16:50:44.117785Z"
    },
    "slideshow": {
     "slide_type": "skip"
    }
   },
   "outputs": [],
   "source": [
    "import string"
   ]
  },
  {
   "cell_type": "code",
   "execution_count": 33,
   "id": "9e774bd0",
   "metadata": {
    "execution": {
     "iopub.execute_input": "2024-06-30T16:50:44.120012Z",
     "iopub.status.busy": "2024-06-30T16:50:44.119800Z",
     "iopub.status.idle": "2024-06-30T16:50:44.122252Z",
     "shell.execute_reply": "2024-06-30T16:50:44.121878Z"
    },
    "slideshow": {
     "slide_type": "fragment"
    }
   },
   "outputs": [],
   "source": [
    "ANYTHING_BUT_DOUBLE_QUOTES_AND_BACKSLASH = (string.digits + string.ascii_letters + string.punctuation + ' ').replace('\"', '').replace('\\\\', '')\n",
    "ANYTHING_BUT_SINGLE_QUOTES_AND_BACKSLASH = (string.digits + string.ascii_letters + string.punctuation + ' ').replace(\"'\", '').replace('\\\\', '')"
   ]
  },
  {
   "cell_type": "code",
   "execution_count": 34,
   "id": "5891c800",
   "metadata": {
    "execution": {
     "iopub.execute_input": "2024-06-30T16:50:44.123924Z",
     "iopub.status.busy": "2024-06-30T16:50:44.123808Z",
     "iopub.status.idle": "2024-06-30T16:50:44.126162Z",
     "shell.execute_reply": "2024-06-30T16:50:44.125820Z"
    },
    "slideshow": {
     "slide_type": "fragment"
    }
   },
   "outputs": [
    {
     "data": {
      "text/plain": [
       "\"0123456789abcdefghijklmnopqrstuvwxyzABCDEFGHIJKLMNOPQRSTUVWXYZ!#$%&'()*+,-./:;<=>?@[]^_`{|}~ \""
      ]
     },
     "execution_count": 34,
     "metadata": {},
     "output_type": "execute_result"
    }
   ],
   "source": [
    "ANYTHING_BUT_DOUBLE_QUOTES_AND_BACKSLASH"
   ]
  },
  {
   "cell_type": "code",
   "execution_count": 35,
   "id": "20ade7d4",
   "metadata": {
    "execution": {
     "iopub.execute_input": "2024-06-30T16:50:44.127839Z",
     "iopub.status.busy": "2024-06-30T16:50:44.127730Z",
     "iopub.status.idle": "2024-06-30T16:50:44.130155Z",
     "shell.execute_reply": "2024-06-30T16:50:44.129683Z"
    },
    "slideshow": {
     "slide_type": "fragment"
    }
   },
   "outputs": [
    {
     "data": {
      "text/plain": [
       "'0123456789abcdefghijklmnopqrstuvwxyzABCDEFGHIJKLMNOPQRSTUVWXYZ!\"#$%&()*+,-./:;<=>?@[]^_`{|}~ '"
      ]
     },
     "execution_count": 35,
     "metadata": {},
     "output_type": "execute_result"
    }
   ],
   "source": [
    "ANYTHING_BUT_SINGLE_QUOTES_AND_BACKSLASH"
   ]
  },
  {
   "cell_type": "code",
   "execution_count": 36,
   "id": "9e3ff17b",
   "metadata": {
    "execution": {
     "iopub.execute_input": "2024-06-30T16:50:44.131994Z",
     "iopub.status.busy": "2024-06-30T16:50:44.131845Z",
     "iopub.status.idle": "2024-06-30T16:50:44.135753Z",
     "shell.execute_reply": "2024-06-30T16:50:44.135369Z"
    },
    "slideshow": {
     "slide_type": "subslide"
    }
   },
   "outputs": [],
   "source": [
    "PYTHON_AST_CONSTANTS_GRAMMAR: Grammar = {\n",
    "    '<start>': [ '<expr>' ],\n",
    "\n",
    "    # Expressions\n",
    "    '<expr>': [ '<Constant>', '<Expr>' ],\n",
    "    '<Expr>': [ 'Expr(value=<expr>)' ],\n",
    "\n",
    "    # Constants\n",
    "    '<Constant>': [ 'Constant(value=<literal>)' ],\n",
    "    '<literal>': [ '<string>', '<integer>', '<float>', '<bool>', '<none>' ],\n",
    "\n",
    "    # Strings\n",
    "    '<string>': [ '\"<not_double_quotes>*\"', \"'<not_single_quotes>*'\" ],\n",
    "    '<not_double_quotes>': list(ANYTHING_BUT_DOUBLE_QUOTES_AND_BACKSLASH),\n",
    "    '<not_single_quotes>': list(ANYTHING_BUT_SINGLE_QUOTES_AND_BACKSLASH),\n",
    "    # FIXME: The actual rules for Python strings are also more complex:\n",
    "    # https://docs.python.org/3/reference/lexical_analysis.html#numeric-literals\n",
    "\n",
    "    # Numbers\n",
    "    '<integer>': [ '<digit>', '<nonzerodigit><digits>' ],\n",
    "    '<float>': [ '<integer>.<integer>' ],\n",
    "    '<nonzerodigit>': ['1', '2', '3', '4', '5', '6', '7', '8', '9'],\n",
    "    '<digits>': [ '<digit><digits>', '<digit>' ],\n",
    "    '<digit>': ['0', '1', '2', '3', '4', '5', '6', '7', '8', '9'],\n",
    "    # FIXME: There are _many_ more ways to express numbers in Python; see\n",
    "    # https://docs.python.org/3/reference/lexical_analysis.html#numeric-literals\n",
    "\n",
    "    # More\n",
    "    '<bool>': [ 'True', 'False' ],\n",
    "    '<none>': [ 'None' ],\n",
    "\n",
    "    # FIXME: Not supported: bytes, format strings, regex strings...\n",
    "}"
   ]
  },
  {
   "cell_type": "markdown",
   "id": "6dbb2ed0",
   "metadata": {
    "slideshow": {
     "slide_type": "subslide"
    }
   },
   "source": [
    "Note that we use _extended Backus-Naur form_ in our grammars (here: `<string>`):\n",
    "\n",
    "* `<elem>+` stands for one or more instances of `<elem>`;\n",
    "* `<elem>*` stands for zero or more instances of `<elem>`;\n",
    "* `<elem>?` stands for one or zero instances of `<elem>`."
   ]
  },
  {
   "cell_type": "markdown",
   "id": "a507ad7d",
   "metadata": {
    "slideshow": {
     "slide_type": "fragment"
    }
   },
   "source": [
    "A call to `is_valid_grammar()` ensures our grammar is free of common mistakes. Don't write grammars without it!"
   ]
  },
  {
   "cell_type": "code",
   "execution_count": 37,
   "id": "416b4ab3",
   "metadata": {
    "execution": {
     "iopub.execute_input": "2024-06-30T16:50:44.137429Z",
     "iopub.status.busy": "2024-06-30T16:50:44.137322Z",
     "iopub.status.idle": "2024-06-30T16:50:44.139264Z",
     "shell.execute_reply": "2024-06-30T16:50:44.138921Z"
    },
    "slideshow": {
     "slide_type": "fragment"
    }
   },
   "outputs": [],
   "source": [
    "assert is_valid_grammar(PYTHON_AST_CONSTANTS_GRAMMAR)"
   ]
  },
  {
   "cell_type": "code",
   "execution_count": 38,
   "id": "3aaa8e78",
   "metadata": {
    "execution": {
     "iopub.execute_input": "2024-06-30T16:50:44.140875Z",
     "iopub.status.busy": "2024-06-30T16:50:44.140759Z",
     "iopub.status.idle": "2024-06-30T16:50:44.199552Z",
     "shell.execute_reply": "2024-06-30T16:50:44.199242Z"
    },
    "slideshow": {
     "slide_type": "subslide"
    }
   },
   "outputs": [
    {
     "name": "stdout",
     "output_type": "stream",
     "text": [
      "Expr(value=Constant(value=None))\n"
     ]
    }
   ],
   "source": [
    "constants_grammar = convert_ebnf_grammar(PYTHON_AST_CONSTANTS_GRAMMAR)\n",
    "constants_solver = ISLaSolver(constants_grammar)\n",
    "constants_tree_str = str(constants_solver.solve())\n",
    "print(constants_tree_str)"
   ]
  },
  {
   "cell_type": "markdown",
   "id": "649446d4",
   "metadata": {
    "slideshow": {
     "slide_type": "fragment"
    }
   },
   "source": [
    "We can create an AST from this expression and turn it into Python code (well, a literal):"
   ]
  },
  {
   "cell_type": "code",
   "execution_count": 39,
   "id": "d0ebb579",
   "metadata": {
    "execution": {
     "iopub.execute_input": "2024-06-30T16:50:44.201136Z",
     "iopub.status.busy": "2024-06-30T16:50:44.201041Z",
     "iopub.status.idle": "2024-06-30T16:50:44.203619Z",
     "shell.execute_reply": "2024-06-30T16:50:44.203357Z"
    },
    "slideshow": {
     "slide_type": "fragment"
    }
   },
   "outputs": [
    {
     "data": {
      "text/plain": [
       "'None'"
      ]
     },
     "execution_count": 39,
     "metadata": {},
     "output_type": "execute_result"
    }
   ],
   "source": [
    "constants_tree = eval(constants_tree_str)\n",
    "ast.unparse(constants_tree)"
   ]
  },
  {
   "cell_type": "markdown",
   "id": "f90fb213",
   "metadata": {
    "slideshow": {
     "slide_type": "fragment"
    }
   },
   "source": [
    "Let's do this a number of times:"
   ]
  },
  {
   "cell_type": "code",
   "execution_count": 40,
   "id": "e9db4775",
   "metadata": {
    "execution": {
     "iopub.execute_input": "2024-06-30T16:50:44.205119Z",
     "iopub.status.busy": "2024-06-30T16:50:44.204993Z",
     "iopub.status.idle": "2024-06-30T16:50:44.207415Z",
     "shell.execute_reply": "2024-06-30T16:50:44.207165Z"
    },
    "slideshow": {
     "slide_type": "subslide"
    }
   },
   "outputs": [],
   "source": [
    "def test_samples(grammar: Grammar, iterations: int = 10, start_symbol = None, log: bool = True):\n",
    "    g = convert_ebnf_grammar(grammar)\n",
    "    solver = ISLaSolver(g, start_symbol=start_symbol, max_number_free_instantiations=iterations)\n",
    "    for i in range(iterations):\n",
    "        tree_str = str(solver.solve())\n",
    "        tree = eval(tree_str)\n",
    "        ast.fix_missing_locations(tree)\n",
    "        if log:\n",
    "            code = ast.unparse(tree)\n",
    "            print(f'{code:40} # {tree_str}')"
   ]
  },
  {
   "cell_type": "code",
   "execution_count": 41,
   "id": "849a8be5",
   "metadata": {
    "execution": {
     "iopub.execute_input": "2024-06-30T16:50:44.208875Z",
     "iopub.status.busy": "2024-06-30T16:50:44.208751Z",
     "iopub.status.idle": "2024-06-30T16:50:44.228837Z",
     "shell.execute_reply": "2024-06-30T16:50:44.228521Z"
    },
    "slideshow": {
     "slide_type": "subslide"
    }
   },
   "outputs": [
    {
     "name": "stdout",
     "output_type": "stream",
     "text": [
      "False                                    # Expr(value=Constant(value=False))\n",
      "2                                        # Constant(value=2)\n",
      "None                                     # Constant(value=None)\n",
      "'#'                                      # Constant(value=\"#\")\n",
      "550.81                                   # Constant(value=550.81)\n",
      "True                                     # Constant(value=True)\n",
      "'.'                                      # Constant(value='.')\n",
      "467                                      # Constant(value=467)\n",
      "7894                                     # Constant(value=7894)\n",
      "263                                      # Constant(value=263)\n"
     ]
    }
   ],
   "source": [
    "test_samples(PYTHON_AST_CONSTANTS_GRAMMAR)"
   ]
  },
  {
   "cell_type": "markdown",
   "id": "0d85a773",
   "metadata": {
    "slideshow": {
     "slide_type": "fragment"
    }
   },
   "source": [
    "Our grammar can also _parse_ ASTs obtained from concrete code."
   ]
  },
  {
   "cell_type": "code",
   "execution_count": 42,
   "id": "97d0dd30",
   "metadata": {
    "execution": {
     "iopub.execute_input": "2024-06-30T16:50:44.230633Z",
     "iopub.status.busy": "2024-06-30T16:50:44.230501Z",
     "iopub.status.idle": "2024-06-30T16:50:44.232705Z",
     "shell.execute_reply": "2024-06-30T16:50:44.232382Z"
    },
    "slideshow": {
     "slide_type": "subslide"
    }
   },
   "outputs": [
    {
     "name": "stdout",
     "output_type": "stream",
     "text": [
      "Expr(value=Constant(value=4711))\n"
     ]
    }
   ],
   "source": [
    "sample_constant_code = \"4711\"\n",
    "sample_constant_ast = ast.parse(sample_constant_code).body[0]  # get the `Expr` node\n",
    "sample_constant_ast_str = ast.dump(sample_constant_ast)\n",
    "print(sample_constant_ast_str)"
   ]
  },
  {
   "cell_type": "code",
   "execution_count": 43,
   "id": "02b5647f",
   "metadata": {
    "execution": {
     "iopub.execute_input": "2024-06-30T16:50:44.234184Z",
     "iopub.status.busy": "2024-06-30T16:50:44.234073Z",
     "iopub.status.idle": "2024-06-30T16:50:44.240377Z",
     "shell.execute_reply": "2024-06-30T16:50:44.240103Z"
    },
    "slideshow": {
     "slide_type": "fragment"
    }
   },
   "outputs": [
    {
     "data": {
      "text/plain": [
       "True"
      ]
     },
     "execution_count": 43,
     "metadata": {},
     "output_type": "execute_result"
    }
   ],
   "source": [
    "constant_solver = ISLaSolver(constants_grammar)\n",
    "constant_solver.check(sample_constant_ast_str)"
   ]
  },
  {
   "cell_type": "markdown",
   "id": "d2946fa8",
   "metadata": {
    "slideshow": {
     "slide_type": "fragment"
    }
   },
   "source": [
    "Let us now come up with a quiz question: _Does our grammar support negative numbers?_\n",
    "For this, let's first find out if the `Constant()` constructor also take a _negative_ number as an argument? It turns out it can:"
   ]
  },
  {
   "cell_type": "code",
   "execution_count": 44,
   "id": "49a2bd73",
   "metadata": {
    "execution": {
     "iopub.execute_input": "2024-06-30T16:50:44.241922Z",
     "iopub.status.busy": "2024-06-30T16:50:44.241808Z",
     "iopub.status.idle": "2024-06-30T16:50:44.243960Z",
     "shell.execute_reply": "2024-06-30T16:50:44.243716Z"
    },
    "slideshow": {
     "slide_type": "subslide"
    }
   },
   "outputs": [
    {
     "data": {
      "text/plain": [
       "'-1'"
      ]
     },
     "execution_count": 44,
     "metadata": {},
     "output_type": "execute_result"
    }
   ],
   "source": [
    "ast.unparse(Constant(value=-1))"
   ]
  },
  {
   "cell_type": "markdown",
   "id": "3f3915e1",
   "metadata": {
    "slideshow": {
     "slide_type": "fragment"
    }
   },
   "source": [
    "But what happens if we parse a negative number, say `-1`? One might assume that this simply results in a `Constant(-1)`, right? Try it out yourself!"
   ]
  },
  {
   "cell_type": "code",
   "execution_count": 45,
   "id": "3e9d0f6a",
   "metadata": {
    "execution": {
     "iopub.execute_input": "2024-06-30T16:50:44.245528Z",
     "iopub.status.busy": "2024-06-30T16:50:44.245402Z",
     "iopub.status.idle": "2024-06-30T16:50:44.247112Z",
     "shell.execute_reply": "2024-06-30T16:50:44.246857Z"
    },
    "slideshow": {
     "slide_type": "skip"
    }
   },
   "outputs": [],
   "source": [
    "from bookutils import quiz"
   ]
  },
  {
   "cell_type": "code",
   "execution_count": 46,
   "id": "5ada37d8",
   "metadata": {
    "execution": {
     "iopub.execute_input": "2024-06-30T16:50:44.248600Z",
     "iopub.status.busy": "2024-06-30T16:50:44.248480Z",
     "iopub.status.idle": "2024-06-30T16:50:44.252854Z",
     "shell.execute_reply": "2024-06-30T16:50:44.252592Z"
    },
    "slideshow": {
     "slide_type": "fragment"
    }
   },
   "outputs": [
    {
     "data": {
      "text/html": [
       "\n",
       "    \n",
       "    <script>\n",
       "    var bad_answers = new Map();\n",
       "\n",
       "    function answer(quiz_id) {\n",
       "        ans = 0;\n",
       "        for (i = 1;; i++) {\n",
       "            checkbox = document.getElementById(quiz_id + \"-\" + i.toString());\n",
       "            if (!checkbox)\n",
       "                break;\n",
       "            if (checkbox.checked)\n",
       "                ans |= (1 << i);\n",
       "        }\n",
       "        return ans;\n",
       "    }\n",
       "    function check_selection(quiz_id, correct_answer, multiple_choice, hint) {\n",
       "        given_answer = answer(quiz_id);\n",
       "        if (given_answer == correct_answer)\n",
       "        {\n",
       "            document.getElementById(quiz_id + \"-submit\").value = \"Correct!\";\n",
       "            document.getElementById(quiz_id + \"-hint\").innerHTML = \"\";\n",
       "\n",
       "            for (i = 1;; i++) {\n",
       "                checkbox = document.getElementById(quiz_id + \"-\" + i.toString());\n",
       "                label = document.getElementById(quiz_id + \"-\" + i.toString() + \"-label\")\n",
       "                if (!checkbox)\n",
       "                    break;\n",
       "    \n",
       "                if (checkbox.checked) {\n",
       "                    label.style.fontWeight = \"bold\";\n",
       "                }\n",
       "                else {\n",
       "                    label.style.textDecoration = \"line-through\";\n",
       "                }\n",
       "            }\n",
       "        }\n",
       "        else \n",
       "        {\n",
       "            document.getElementById(quiz_id + \"-submit\").value = \"Try again\";\n",
       "            \n",
       "            if (!bad_answers.has(quiz_id)) {\n",
       "                bad_answers.set(quiz_id, 1);\n",
       "            }\n",
       "            else {\n",
       "                bad_answers.set(quiz_id, bad_answers.get(quiz_id) + 1);\n",
       "            }\n",
       "\n",
       "            if (bad_answers.get(quiz_id) >= 2 && hint.length > 0) {\n",
       "                document.getElementById(quiz_id + \"-hint\").innerHTML = \n",
       "                    \"&nbsp;&nbsp;(Hint: <code>\" + hint + \"</code>)\";\n",
       "            }\n",
       "\n",
       "            if (!multiple_choice) {\n",
       "                for (i = 1;; i++) {\n",
       "                    checkbox = document.getElementById(quiz_id + \"-\" + i.toString());\n",
       "                    label = document.getElementById(quiz_id + \"-\" + i.toString() + \"-label\")\n",
       "\n",
       "                    if (!checkbox)\n",
       "                        break;\n",
       "                    if (checkbox.checked) {\n",
       "                        label.style.textDecoration = \"line-through\";\n",
       "                    }\n",
       "                }\n",
       "            }\n",
       "        }\n",
       "    }\n",
       "    function clear_selection(quiz_id) {\n",
       "        document.getElementById(quiz_id + \"-submit\").value = \"Submit\";\n",
       "        document.getElementById(quiz_id + \"-hint\").innerHTML = \"\";\n",
       "    }\n",
       "    </script>\n",
       "    \n",
       "    <div class=\"quiz\">\n",
       "    <h3 class=\"quiz_title\">Quiz</h3>\n",
       "    <p>\n",
       "    <div class=\"quiz_question\">If we parse a negative number, do we obtain </div>\n",
       "    </p>\n",
       "    <p>\n",
       "    <div class=\"quiz_options\" title=\"Pick a choice.\">\n",
       "    \n",
       "        <input type=\"radio\" name=\"e45b4be2-3700-11ef-9d37-6298cf1a578f\" id=\"e45b4be2-3700-11ef-9d37-6298cf1a578f-1\" onclick=\"clear_selection('e45b4be2-3700-11ef-9d37-6298cf1a578f')\">\n",
       "        <label id=\"e45b4be2-3700-11ef-9d37-6298cf1a578f-1-label\" for=\"e45b4be2-3700-11ef-9d37-6298cf1a578f-1\">a <code>Constant()</code> with a negative value, or</label><br>\n",
       "    \n",
       "        <input type=\"radio\" name=\"e45b4be2-3700-11ef-9d37-6298cf1a578f\" id=\"e45b4be2-3700-11ef-9d37-6298cf1a578f-2\" onclick=\"clear_selection('e45b4be2-3700-11ef-9d37-6298cf1a578f')\">\n",
       "        <label id=\"e45b4be2-3700-11ef-9d37-6298cf1a578f-2-label\" for=\"e45b4be2-3700-11ef-9d37-6298cf1a578f-2\">a unary <code>-</code> operator applied to a positive value?</label><br>\n",
       "    \n",
       "    </div>\n",
       "    </p>\n",
       "    <input id=\"e45b4be2-3700-11ef-9d37-6298cf1a578f-submit\" type=\"submit\" value=\"Submit\" onclick=\"check_selection('e45b4be2-3700-11ef-9d37-6298cf1a578f', 4, 0, '')\">\n",
       "    <span class=\"quiz_hint\" id=\"e45b4be2-3700-11ef-9d37-6298cf1a578f-hint\"></span>\n",
       "    </div>\n",
       "    "
      ],
      "text/plain": [
       "<IPython.core.display.HTML object>"
      ]
     },
     "execution_count": 46,
     "metadata": {},
     "output_type": "execute_result"
    }
   ],
   "source": [
    "quiz(\"If we parse a negative number, do we obtain \",\n",
    "    [\n",
    "        \"a `Constant()` with a negative value, or\",\n",
    "        \"a unary `-` operator applied to a positive value?\"\n",
    "    ], 1 ** 0 + 1 ** 1)"
   ]
  },
  {
   "cell_type": "markdown",
   "id": "5d846192",
   "metadata": {
    "slideshow": {
     "slide_type": "fragment"
    }
   },
   "source": [
    "The answer is that parsing `-1` yields a unary minus `USub()` applied to a positive value:"
   ]
  },
  {
   "cell_type": "code",
   "execution_count": 47,
   "id": "bb402423",
   "metadata": {
    "execution": {
     "iopub.execute_input": "2024-06-30T16:50:44.254362Z",
     "iopub.status.busy": "2024-06-30T16:50:44.254238Z",
     "iopub.status.idle": "2024-06-30T16:50:44.256178Z",
     "shell.execute_reply": "2024-06-30T16:50:44.255923Z"
    },
    "slideshow": {
     "slide_type": "subslide"
    }
   },
   "outputs": [
    {
     "name": "stdout",
     "output_type": "stream",
     "text": [
      "Module(body=[Expr(value=UnaryOp(op=USub(), operand=Constant(value=1)))], type_ignores=[])\n"
     ]
    }
   ],
   "source": [
    "print(ast.dump(ast.parse('-1')))"
   ]
  },
  {
   "cell_type": "markdown",
   "id": "b5ab6de2",
   "metadata": {
    "slideshow": {
     "slide_type": "fragment"
    }
   },
   "source": [
    "As unary operators are not part of our grammar (yet), it cannot handle negative numbers:"
   ]
  },
  {
   "cell_type": "code",
   "execution_count": 48,
   "id": "09eea703",
   "metadata": {
    "execution": {
     "iopub.execute_input": "2024-06-30T16:50:44.257879Z",
     "iopub.status.busy": "2024-06-30T16:50:44.257786Z",
     "iopub.status.idle": "2024-06-30T16:50:44.262605Z",
     "shell.execute_reply": "2024-06-30T16:50:44.262333Z"
    },
    "slideshow": {
     "slide_type": "fragment"
    }
   },
   "outputs": [
    {
     "name": "stderr",
     "output_type": "stream",
     "text": [
      "Error parsing \"Expr(value=UnaryOp(op=USub(), operand=Constant(value=1)))\" starting with \"<start>\"\n"
     ]
    },
    {
     "data": {
      "text/plain": [
       "False"
      ]
     },
     "execution_count": 48,
     "metadata": {},
     "output_type": "execute_result"
    }
   ],
   "source": [
    "sample_constant_code = \"-1\"\n",
    "sample_constant_ast = ast.parse(sample_constant_code).body[0]  # get the `Expr` node\n",
    "sample_constant_ast_str = ast.dump(sample_constant_ast)\n",
    "constant_solver = ISLaSolver(constants_grammar)\n",
    "constant_solver.check(sample_constant_ast_str)"
   ]
  },
  {
   "cell_type": "markdown",
   "id": "2105eae3",
   "metadata": {
    "slideshow": {
     "slide_type": "subslide"
    }
   },
   "source": [
    "In the next sections, we will gradually expand our grammar with more and more Python features, eventually covering (almost) the entire language."
   ]
  },
  {
   "cell_type": "markdown",
   "id": "e76951cc",
   "metadata": {
    "slideshow": {
     "slide_type": "subslide"
    }
   },
   "source": [
    "### Excursion: Composites"
   ]
  },
  {
   "cell_type": "markdown",
   "id": "421cae0c",
   "metadata": {
    "slideshow": {
     "slide_type": "fragment"
    }
   },
   "source": [
    "Let us add composite constants – lists, dictionaries, tuples, etc. Here is how these are represented in an AST:"
   ]
  },
  {
   "cell_type": "code",
   "execution_count": 49,
   "id": "8309faef",
   "metadata": {
    "execution": {
     "iopub.execute_input": "2024-06-30T16:50:44.264167Z",
     "iopub.status.busy": "2024-06-30T16:50:44.264078Z",
     "iopub.status.idle": "2024-06-30T16:50:44.266075Z",
     "shell.execute_reply": "2024-06-30T16:50:44.265793Z"
    },
    "slideshow": {
     "slide_type": "subslide"
    }
   },
   "outputs": [
    {
     "name": "stdout",
     "output_type": "stream",
     "text": [
      "Module(\n",
      "    body=[\n",
      "        Expr(\n",
      "            value=Dict(\n",
      "                keys=[\n",
      "                    Constant(value='a')],\n",
      "                values=[\n",
      "                    Call(\n",
      "                        func=Name(id='set', ctx=Load()),\n",
      "                        args=[],\n",
      "                        keywords=[])]))],\n",
      "    type_ignores=[])\n"
     ]
    }
   ],
   "source": [
    "print(ast.dump(ast.parse(\"{ 'a': set() }\"), indent=4))"
   ]
  },
  {
   "cell_type": "markdown",
   "id": "75b2fae2",
   "metadata": {
    "slideshow": {
     "slide_type": "subslide"
    }
   },
   "source": [
    "Let us encode these into a grammar, again using the definitions from the [abstract AST grammar](https://docs.python.org/3/library/ast.html).\n",
    "All these structures also take _contexts_ in which identifiers are used – `Load()` if they are used for evaluation, `Store()` if they appear on the left-hand side of an assignment (yes, in Python, you can have a tuple on the left-hand side of an assignment, say `(x, y) = (1, 2)`), and `Del()` if they are used as operands in a `del` statement. Right now, we only use `Load()` and `Del()` interchangeably."
   ]
  },
  {
   "cell_type": "code",
   "execution_count": 50,
   "id": "df2fc64e",
   "metadata": {
    "execution": {
     "iopub.execute_input": "2024-06-30T16:50:44.267600Z",
     "iopub.status.busy": "2024-06-30T16:50:44.267497Z",
     "iopub.status.idle": "2024-06-30T16:50:44.269849Z",
     "shell.execute_reply": "2024-06-30T16:50:44.269590Z"
    },
    "slideshow": {
     "slide_type": "subslide"
    }
   },
   "outputs": [],
   "source": [
    "PYTHON_AST_COMPOSITES_GRAMMAR: Grammar = extend_grammar(\n",
    "    PYTHON_AST_CONSTANTS_GRAMMAR, {\n",
    "    '<expr>': PYTHON_AST_CONSTANTS_GRAMMAR['<expr>'] + [\n",
    "        '<Dict>', '<Set>', '<List>', '<Tuple>'\n",
    "    ],\n",
    "\n",
    "    '<Dict>': [ 'Dict(keys=<expr_list>, values=<expr_list>)' ],\n",
    "    '<Set>': [ 'Set(elts=<nonempty_expr_list>)', '<EmptySet>' ],\n",
    "    '<EmptySet>': [ 'Call(func=Name(id=\"set\", ctx=Load()), args=[], keywords=[])' ],\n",
    "    '<List>': [\n",
    "        'List(elts=<expr_list>, ctx=Load())',\n",
    "        'List(elts=<expr_list>, ctx=Del())',\n",
    "    ],\n",
    "    '<Tuple>': [\n",
    "        'Tuple(elts=<expr_list>, ctx=Load())',\n",
    "        'Tuple(elts=<expr_list>, ctx=Del())',\n",
    "    ],\n",
    "\n",
    "    # Lists of expressions\n",
    "    '<expr_list>': [ '[<exprs>?]' ],\n",
    "    '<nonempty_expr_list>': [ '[<exprs>]' ],\n",
    "    '<exprs>': [ '<expr>', '<exprs>, <expr>' ],\n",
    "})"
   ]
  },
  {
   "cell_type": "code",
   "execution_count": 51,
   "id": "4cbd0693",
   "metadata": {
    "execution": {
     "iopub.execute_input": "2024-06-30T16:50:44.271291Z",
     "iopub.status.busy": "2024-06-30T16:50:44.271182Z",
     "iopub.status.idle": "2024-06-30T16:50:44.272997Z",
     "shell.execute_reply": "2024-06-30T16:50:44.272736Z"
    },
    "slideshow": {
     "slide_type": "subslide"
    }
   },
   "outputs": [],
   "source": [
    "assert is_valid_grammar(PYTHON_AST_COMPOSITES_GRAMMAR)"
   ]
  },
  {
   "cell_type": "code",
   "execution_count": 52,
   "id": "5dd63605",
   "metadata": {
    "execution": {
     "iopub.execute_input": "2024-06-30T16:50:44.274490Z",
     "iopub.status.busy": "2024-06-30T16:50:44.274378Z",
     "iopub.status.idle": "2024-06-30T16:50:46.129716Z",
     "shell.execute_reply": "2024-06-30T16:50:46.129345Z"
    },
    "slideshow": {
     "slide_type": "subslide"
    }
   },
   "outputs": [
    {
     "name": "stdout",
     "output_type": "stream",
     "text": [
      "<Constant>\n",
      "'c'                                      # Constant(value='c')\n",
      "96.7                                     # Constant(value=96.7)\n",
      "None                                     # Constant(value=None)\n",
      "False                                    # Constant(value=False)\n",
      "505                                      # Constant(value=505)\n",
      "'U'                                      # Constant(value=\"U\")\n",
      "True                                     # Constant(value=True)\n",
      "41398                                    # Constant(value=41398)\n",
      "24                                       # Constant(value=24)\n",
      "72                                       # Constant(value=72)\n",
      "\n",
      "<Dict>\n",
      "{}                                       # Dict(keys=[], values=[List(elts=[Dict(keys=[List(elts=[Constant(value=9.63)], ctx=Load())], values=[Tuple(elts=[Call(func=Name(id=\"set\", ctx=Load()), args=[], keywords=[]), Set(elts=[Constant(value=True), Call(func=Name(id=\"set\", ctx=Load()), args=[], keywords=[])])], ctx=Load())]), Constant(value=2), Tuple(elts=[Constant(value=''), Constant(value=False), Set(elts=[Call(func=Name(id=\"set\", ctx=Load()), args=[], keywords=[])]), Expr(value=List(elts=[Constant(value=None)], ctx=Load())), Call(func=Name(id=\"set\", ctx=Load()), args=[], keywords=[])], ctx=Del())], ctx=Del())])\n",
      "{577: ''}                                # Dict(keys=[Constant(value=577), Constant(value=34), Constant(value=286), Constant(value=7051)], values=[Constant(value=\"\")])\n",
      "{90: 14}                                 # Dict(keys=[Constant(value=90)], values=[Constant(value=14), Constant(value=88), Constant(value=435)])\n",
      "{\"nF}[ (^{bXBrwzf-P@geW'.]~G>;O2i&/t7Cc5:QU1jR4q_8VJ)Hsxd#o*aT3Sv!$ku?IhMpmA,EL0ZN=`9yK|<Y6lD+%I\": 'Gym]A&K;70{jJLC\"DV)/Y S.eNMEQq^%?i+-b!hz|gcUBvW485O#pPu~d:(F>_<a}kI2norf9H[T,lXt=w6@Z*1$xs`\"R3'} # Dict(keys=[Constant(value=\"nF}[ (^{bXBrwzf-P@geW'.]~G>;O2i&/t7Cc5:QU1jR4q_8VJ)Hsxd#o*aT3Sv!$ku?IhMpmA,EL0ZN=`9yK|<Y6lD+%I\")], values=[Constant(value='Gym]A&K;70{jJLC\"DV)/Y S.eNMEQq^%?i+-b!hz|gcUBvW485O#pPu~d:(F>_<a}kI2norf9H[T,lXt=w6@Z*1$xs`\"R3')])\n",
      "{}                                       # Dict(keys=[], values=[])\n",
      "{}                                       # Dict(keys=[], values=[])\n",
      "{}                                       # Dict(keys=[], values=[Call(func=Name(id=\"set\", ctx=Load()), args=[], keywords=[]), Constant(value=True), Constant(value=687596.53), Dict(keys=[Set(elts=[Expr(value=Set(elts=[Set(elts=[Call(func=Name(id=\"set\", ctx=Load()), args=[], keywords=[])]), Constant(value=34.676)]))])], values=[Set(elts=[Set(elts=[List(elts=[Call(func=Name(id=\"set\", ctx=Load()), args=[], keywords=[]), Set(elts=[Call(func=Name(id=\"set\", ctx=Load()), args=[], keywords=[])]), List(elts=[Call(func=Name(id=\"set\", ctx=Load()), args=[], keywords=[]), Call(func=Name(id=\"set\", ctx=Load()), args=[], keywords=[])], ctx=Load())], ctx=Del())])])]), List(elts=[], ctx=Load())])\n",
      "{}                                       # Dict(keys=[], values=[])\n",
      "{}                                       # Dict(keys=[Call(func=Name(id=\"set\", ctx=Load()), args=[], keywords=[])], values=[])\n",
      "{}                                       # Dict(keys=[Tuple(elts=[], ctx=Del())], values=[])\n",
      "\n",
      "<Set>\n",
      "{\n",
      "[], 79.2}                              # Set(elts=[Expr(value=List(elts=[], ctx=Del())), Constant(value=79.2)])\n",
      "set()                                    # Call(func=Name(id=\"set\", ctx=Load()), args=[], keywords=[])\n",
      "{{{False: [set()], None: []}, (({20: set()},),)}} # Set(elts=[Set(elts=[Dict(keys=[Constant(value=False), Constant(value=None)], values=[List(elts=[Call(func=Name(id=\"set\", ctx=Load()), args=[], keywords=[])], ctx=Load()), List(elts=[], ctx=Del())]), Tuple(elts=[Tuple(elts=[Dict(keys=[Constant(value=20)], values=[Call(func=Name(id=\"set\", ctx=Load()), args=[], keywords=[]), Call(func=Name(id=\"set\", ctx=Load()), args=[], keywords=[]), Constant(value=True), List(elts=[], ctx=Del())])], ctx=Load())], ctx=Del())])])\n",
      "{'Z'}                                    # Set(elts=[Constant(value='Z')])\n",
      "{3763, ''}                               # Set(elts=[Constant(value=3763), Constant(value=\"\")])\n",
      "{475, 136, 95, 841, 58}                  # Set(elts=[Constant(value=475), Constant(value=136), Constant(value=95), Constant(value=841), Constant(value=58)])\n",
      "{\"F3Ye]1UZz&sPrG:D-R`k?5d+SM,/4b!uE fW;L$)@oQ'h^qI[(lXgN0wmt=~Jav86|Vp%72CcOBj_nHK<9A*#i}yTx>{.\"} # Set(elts=[Constant(value=\"F3Ye]1UZz&sPrG:D-R`k?5d+SM,/4b!uE fW;L$)@oQ'h^qI[(lXgN0wmt=~Jav86|Vp%72CcOBj_nHK<9A*#i}yTx>{.\")])\n",
      "{66, 7}                                  # Set(elts=[Constant(value=66), Constant(value=7)])\n",
      "{set(), '', None, '_P[', 'L}w,6'}        # Set(elts=[Call(func=Name(id=\"set\", ctx=Load()), args=[], keywords=[]), Constant(value=''), Constant(value=None), Constant(value='_P['), Constant(value='L}w,6')])\n",
      "{'51I{Ef&u;kThXbRo]cV/8)Q@W>4|=J7lHge\"+^y%(rv<q.DM:najxi9OUG?!KS zsd2t-Fm3NApB#0$~C`*PY'} # Set(elts=[Constant(value='51I{Ef&u;kThXbRo]cV/8)Q@W>4|=J7lHge\"+^y%(rv<q.DM:najxi9OUG?!KS zsd2t-Fm3NApB#0$~C`*PY')])\n",
      "\n",
      "<List>\n",
      "[[], {831.3: (7, set(), {('1',)})}]      # List(elts=[List(elts=[], ctx=Load()), Dict(keys=[Constant(value=831.30), Constant(value=None), Expr(value=Tuple(elts=[Constant(value=\"\"), Constant(value=True), Constant(value=False)], ctx=Del()))], values=[Tuple(elts=[Constant(value=7), Call(func=Name(id=\"set\", ctx=Load()), args=[], keywords=[]), Set(elts=[Tuple(elts=[Constant(value='1')], ctx=Load())])], ctx=Load())])], ctx=Del())\n",
      "[22]                                     # List(elts=[Constant(value=22)], ctx=Load())\n",
      "[64]                                     # List(elts=[Constant(value=64)], ctx=Load())\n",
      "[56]                                     # List(elts=[Constant(value=56)], ctx=Del())\n",
      "[9589]                                   # List(elts=[Constant(value=9589)], ctx=Load())\n",
      "[780]                                    # List(elts=[Constant(value=780)], ctx=Del())\n",
      "[164, 47]                                # List(elts=[Constant(value=164), Constant(value=47)], ctx=Load())\n",
      "[\"^dG@0 N26zE73qSfX,>xhPlW#j.1cQO4bF+A:LZR'CT=$i_\", 'tJI`]gD_M/8yu!%<n~&H|9w*)Ur5sk(e}[vap?V-oK{BYm;eccmO'] # List(elts=[Constant(value=\"^dG@0 N26zE73qSfX,>xhPlW#j.1cQO4bF+A:LZR'CT=$i_\"), Constant(value=\"tJI`]gD_M/8yu!%<n~&H|9w*)Ur5sk(e}[vap?V-oK{BYm;eccmO\")], ctx=Load())\n",
      "['e]@JX9LBnA:0Ha^3KVf OWuFT%*8ZGtp/x`Cw\"li|Mq?_UI45$)zNh#gDcs;!-d[,(~{>bYrE<.RQ27}&moSk+vjP=6y9'] # List(elts=[Constant(value='e]@JX9LBnA:0Ha^3KVf OWuFT%*8ZGtp/x`Cw\"li|Mq?_UI45$)zNh#gDcs;!-d[,(~{>bYrE<.RQ27}&moSk+vjP=6y9')], ctx=Load())\n",
      "[set(), set()]                           # List(elts=[Call(func=Name(id=\"set\", ctx=Load()), args=[], keywords=[]), Call(func=Name(id=\"set\", ctx=Load()), args=[], keywords=[])], ctx=Load())\n",
      "\n",
      "<Tuple>\n",
      "()                                       # Tuple(elts=[], ctx=Load())\n",
      "(set(),)                                 # Tuple(elts=[Call(func=Name(id=\"set\", ctx=Load()), args=[], keywords=[])], ctx=Del())\n",
      "(set(), [], \n",
      "1.4, [[None], True], {set(): (False, {set()})}) # Tuple(elts=[Call(func=Name(id=\"set\", ctx=Load()), args=[], keywords=[]), List(elts=[], ctx=Del()), Expr(value=Constant(value=1.4)), List(elts=[List(elts=[Constant(value=None)], ctx=Load()), Constant(value=True)], ctx=Load()), Dict(keys=[Call(func=Name(id=\"set\", ctx=Load()), args=[], keywords=[]), Set(elts=[Call(func=Name(id=\"set\", ctx=Load()), args=[], keywords=[])]), Expr(value=Constant(value=False))], values=[Tuple(elts=[Constant(value=False), Set(elts=[Call(func=Name(id=\"set\", ctx=Load()), args=[], keywords=[])])], ctx=Load())])], ctx=Del())\n",
      "('',)                                    # Tuple(elts=[Constant(value=\"\")], ctx=Load())\n",
      "(93,)                                    # Tuple(elts=[Constant(value=93)], ctx=Load())\n",
      "(28371613, 51, 892, 45, 10678, '')       # Tuple(elts=[Constant(value=28371613), Constant(value=51), Constant(value=892), Constant(value=45), Constant(value=10678), Constant(value='')], ctx=Del())\n",
      "(72, 632)                                # Tuple(elts=[Constant(value=72), Constant(value=632)], ctx=Load())\n",
      "('p[R#U', '5JRh~3', 'aAI>V+LBk60Ogp')    # Tuple(elts=[Constant(value='p[R#U'), Constant(value=\"5JRh~3\"), Constant(value=\"aAI>V+LBk60Ogp\")], ctx=Load())\n",
      "(363,)                                   # Tuple(elts=[Constant(value=363)], ctx=Del())\n",
      "('a*wyz!$CcJ.TDj?<8Q`o}|fG~3%FX/O:r@YW5dK,MqLt^l&B(PbH1_ZInkimvSV4x> u{+2gs)h\"e9NA;76]=E-0;',) # Tuple(elts=[Constant(value='a*wyz!$CcJ.TDj?<8Q`o}|fG~3%FX/O:r@YW5dK,MqLt^l&B(PbH1_ZInkimvSV4x> u{+2gs)h\"e9NA;76]=E-0;')], ctx=Load())\n",
      "\n"
     ]
    }
   ],
   "source": [
    "for elt in [ '<Constant>', '<Dict>', '<Set>', '<List>', '<Tuple>' ]:\n",
    "    print(elt)\n",
    "    test_samples(PYTHON_AST_COMPOSITES_GRAMMAR, start_symbol=elt)\n",
    "    print()"
   ]
  },
  {
   "cell_type": "markdown",
   "id": "2db790b4",
   "metadata": {
    "slideshow": {
     "slide_type": "subslide"
    }
   },
   "source": [
    "You may encounter a number of uncommon expressions here. For instance:\n",
    "\n",
    "1. `()` is an empty tuple.\n",
    "2. `(1,)` is a tuple with one element.\n",
    "3. `{}` is an empty dictionary; `{1}` is a set with one element.\n",
    "4. An empty set is denoted by `set()`.\n",
    "\n",
    "The fact that we use `set()` to represent empty sets is actually a feature of our `PYTHON_AST_COMPOSITES_GRAMMAR` grammar.\n",
    "If we invoke the `Set()` AST constructor without any elements, we obtain this beautiful expression..."
   ]
  },
  {
   "cell_type": "code",
   "execution_count": 53,
   "id": "c4b716b6",
   "metadata": {
    "execution": {
     "iopub.execute_input": "2024-06-30T16:50:46.131882Z",
     "iopub.status.busy": "2024-06-30T16:50:46.131743Z",
     "iopub.status.idle": "2024-06-30T16:50:46.134006Z",
     "shell.execute_reply": "2024-06-30T16:50:46.133651Z"
    },
    "slideshow": {
     "slide_type": "subslide"
    }
   },
   "outputs": [
    {
     "name": "stdout",
     "output_type": "stream",
     "text": [
      "{*()}\n"
     ]
    }
   ],
   "source": [
    "print(ast.unparse(Set(elts=[])))"
   ]
  },
  {
   "cell_type": "markdown",
   "id": "57c4bd25",
   "metadata": {
    "slideshow": {
     "slide_type": "fragment"
    }
   },
   "source": [
    "... which indeed evaluates into an empty set."
   ]
  },
  {
   "cell_type": "code",
   "execution_count": 54,
   "id": "4e6366d6",
   "metadata": {
    "execution": {
     "iopub.execute_input": "2024-06-30T16:50:46.135741Z",
     "iopub.status.busy": "2024-06-30T16:50:46.135622Z",
     "iopub.status.idle": "2024-06-30T16:50:46.138159Z",
     "shell.execute_reply": "2024-06-30T16:50:46.137708Z"
    },
    "slideshow": {
     "slide_type": "fragment"
    }
   },
   "outputs": [
    {
     "data": {
      "text/plain": [
       "set()"
      ]
     },
     "execution_count": 54,
     "metadata": {},
     "output_type": "execute_result"
    }
   ],
   "source": [
    "{*()}"
   ]
  },
  {
   "cell_type": "markdown",
   "id": "0200c858",
   "metadata": {
    "slideshow": {
     "slide_type": "fragment"
    }
   },
   "source": [
    "Technically speaking, all of this is correct, but we'd like to stick to (somewhat) more readable code. If you want to confuse your programmer friends, always use `{*()}` instead of `set()`."
   ]
  },
  {
   "cell_type": "markdown",
   "id": "3a283119",
   "metadata": {
    "slideshow": {
     "slide_type": "subslide"
    }
   },
   "source": [
    "### End of Excursion"
   ]
  },
  {
   "cell_type": "markdown",
   "id": "1ac70a8d",
   "metadata": {
    "slideshow": {
     "slide_type": "subslide"
    }
   },
   "source": [
    "### Excursion: Expressions"
   ]
  },
  {
   "cell_type": "markdown",
   "id": "00ff3f20",
   "metadata": {
    "slideshow": {
     "slide_type": "fragment"
    }
   },
   "source": [
    "Let us extend our grammar with _expressions_. The Python parser already takes care of precedence rules, so we can treat all unary and binary operators in a similar fashion."
   ]
  },
  {
   "cell_type": "code",
   "execution_count": 55,
   "id": "09b1f0ec",
   "metadata": {
    "execution": {
     "iopub.execute_input": "2024-06-30T16:50:46.140235Z",
     "iopub.status.busy": "2024-06-30T16:50:46.140107Z",
     "iopub.status.idle": "2024-06-30T16:50:46.142170Z",
     "shell.execute_reply": "2024-06-30T16:50:46.141843Z"
    },
    "slideshow": {
     "slide_type": "subslide"
    }
   },
   "outputs": [
    {
     "name": "stdout",
     "output_type": "stream",
     "text": [
      "Module(\n",
      "    body=[\n",
      "        Expr(\n",
      "            value=Compare(\n",
      "                left=BinOp(\n",
      "                    left=Constant(value=2),\n",
      "                    op=Add(),\n",
      "                    right=Constant(value=2)),\n",
      "                ops=[\n",
      "                    IsNot()],\n",
      "                comparators=[\n",
      "                    Constant(value=False)]))],\n",
      "    type_ignores=[])\n"
     ]
    }
   ],
   "source": [
    "print(ast.dump(ast.parse(\"2 + 2 is not False\"), indent=4))"
   ]
  },
  {
   "cell_type": "code",
   "execution_count": 56,
   "id": "14a53344",
   "metadata": {
    "execution": {
     "iopub.execute_input": "2024-06-30T16:50:46.144146Z",
     "iopub.status.busy": "2024-06-30T16:50:46.143997Z",
     "iopub.status.idle": "2024-06-30T16:50:46.147354Z",
     "shell.execute_reply": "2024-06-30T16:50:46.146996Z"
    },
    "slideshow": {
     "slide_type": "subslide"
    }
   },
   "outputs": [],
   "source": [
    "PYTHON_AST_EXPRS_GRAMMAR: Grammar = extend_grammar(PYTHON_AST_COMPOSITES_GRAMMAR, {\n",
    "    '<expr>': PYTHON_AST_COMPOSITES_GRAMMAR['<expr>'] + [\n",
    "        '<BoolOp>', '<BinOp>', '<UnaryOp>', '<Compare>',\n",
    "    ],\n",
    "\n",
    "    # Booleans: and or\n",
    "    '<BoolOp>': [ 'BoolOp(op=<boolop>, values=<expr_list>)' ],\n",
    "    '<boolop>': [ 'And()', 'Or()' ],\n",
    "\n",
    "    # Binary operators: + - * ...\n",
    "    '<BinOp>': [ 'BinOp(left=<expr>, op=<operator>, right=<expr>)' ],\n",
    "    '<operator>': [ 'Add()', 'Sub()', 'Mult()', 'MatMult()',\n",
    "                   'Div()', 'Mod()', 'Pow()',\n",
    "                   'LShift()', 'RShift()', 'BitOr()', 'BitXor()', 'BitAnd()',\n",
    "                   'FloorDiv()' ],\n",
    "\n",
    "    # Unary operators: not + - ...\n",
    "    '<UnaryOp>': [ 'UnaryOp(op=<unaryop>, operand=<expr>)'],\n",
    "    '<unaryop>': [ 'Invert()', 'Not()', 'UAdd()', 'USub()' ],\n",
    "\n",
    "    # Comparisons: == != < <= > >= is in ...\n",
    "    '<Compare>': [ 'Compare(left=<expr>, ops=<cmpop_list>, comparators=<expr_list>)'],\n",
    "    '<cmpop_list>': [ '[<cmpops>?]' ],\n",
    "    '<cmpops>': [ '<cmpop>', '<cmpop>, <cmpops>' ],\n",
    "    '<cmpop>': [ 'Eq()', 'NotEq()', 'Lt()', 'LtE()', 'Gt()', 'GtE()',\n",
    "                 'Is()', 'IsNot()', 'In()', 'NotIn()' ],\n",
    "\n",
    "    # FIXME: There's a few more expressions: GeneratorExp, Await, YieldFrom, ...\n",
    "})"
   ]
  },
  {
   "cell_type": "code",
   "execution_count": 57,
   "id": "8a092178",
   "metadata": {
    "execution": {
     "iopub.execute_input": "2024-06-30T16:50:46.149068Z",
     "iopub.status.busy": "2024-06-30T16:50:46.148967Z",
     "iopub.status.idle": "2024-06-30T16:50:46.151059Z",
     "shell.execute_reply": "2024-06-30T16:50:46.150778Z"
    },
    "slideshow": {
     "slide_type": "subslide"
    }
   },
   "outputs": [],
   "source": [
    "assert is_valid_grammar(PYTHON_AST_EXPRS_GRAMMAR)"
   ]
  },
  {
   "cell_type": "code",
   "execution_count": 58,
   "id": "cdd38f17",
   "metadata": {
    "execution": {
     "iopub.execute_input": "2024-06-30T16:50:46.152587Z",
     "iopub.status.busy": "2024-06-30T16:50:46.152502Z",
     "iopub.status.idle": "2024-06-30T16:50:47.283414Z",
     "shell.execute_reply": "2024-06-30T16:50:47.282958Z"
    },
    "slideshow": {
     "slide_type": "subslide"
    }
   },
   "outputs": [
    {
     "name": "stdout",
     "output_type": "stream",
     "text": [
      "<BoolOp>\n",
      "() and {-([]) / (set(), set()), {\n",
      "True: set()}} # BoolOp(op=And(), values=[BoolOp(op=Or(), values=[]), Set(elts=[BinOp(left=UnaryOp(op=USub(), operand=Compare(left=List(elts=[], ctx=Del()), ops=[], comparators=[])), op=Div(), right=Tuple(elts=[Call(func=Name(id=\"set\", ctx=Load()), args=[], keywords=[]), Call(func=Name(id=\"set\", ctx=Load()), args=[], keywords=[])], ctx=Load())), Dict(keys=[Expr(value=Constant(value=True))], values=[Call(func=Name(id=\"set\", ctx=Load()), args=[], keywords=[]), Call(func=Name(id=\"set\", ctx=Load()), args=[], keywords=[]), Call(func=Name(id=\"set\", ctx=Load()), args=[], keywords=[]), List(elts=[], ctx=Load())])])])\n",
      "(set(), set(), set() @ set() | set() + set()) and set() ** (set() ^ set()) * set() # BoolOp(op=And(), values=[Tuple(elts=[Call(func=Name(id=\"set\", ctx=Load()), args=[], keywords=[]), Call(func=Name(id=\"set\", ctx=Load()), args=[], keywords=[]), BinOp(left=BinOp(left=Call(func=Name(id=\"set\", ctx=Load()), args=[], keywords=[]), op=MatMult(), right=Call(func=Name(id=\"set\", ctx=Load()), args=[], keywords=[])), op=BitOr(), right=BinOp(left=Call(func=Name(id=\"set\", ctx=Load()), args=[], keywords=[]), op=Add(), right=Call(func=Name(id=\"set\", ctx=Load()), args=[], keywords=[])))], ctx=Del()), BinOp(left=BinOp(left=Call(func=Name(id=\"set\", ctx=Load()), args=[], keywords=[]), op=Pow(), right=BinOp(left=Call(func=Name(id=\"set\", ctx=Load()), args=[], keywords=[]), op=BitXor(), right=Call(func=Name(id=\"set\", ctx=Load()), args=[], keywords=[]))), op=Mult(), right=Call(func=Name(id=\"set\", ctx=Load()), args=[], keywords=[]))])\n",
      "set() % (set() >> set()) - (set() << set()) or set() & set() # BoolOp(op=Or(), values=[BinOp(left=BinOp(left=Call(func=Name(id=\"set\", ctx=Load()), args=[], keywords=[]), op=Mod(), right=BinOp(left=Call(func=Name(id=\"set\", ctx=Load()), args=[], keywords=[]), op=RShift(), right=Call(func=Name(id=\"set\", ctx=Load()), args=[], keywords=[]))), op=Sub(), right=BinOp(left=Call(func=Name(id=\"set\", ctx=Load()), args=[], keywords=[]), op=LShift(), right=Call(func=Name(id=\"set\", ctx=Load()), args=[], keywords=[]))), BinOp(left=Call(func=Name(id=\"set\", ctx=Load()), args=[], keywords=[]), op=BitAnd(), right=Call(func=Name(id=\"set\", ctx=Load()), args=[], keywords=[]))])\n",
      "'8' or 6                                 # BoolOp(op=Or(), values=[Constant(value='8'), Constant(value=6)])\n",
      "~+123.95                                 # BoolOp(op=Or(), values=[UnaryOp(op=Invert(), operand=UnaryOp(op=UAdd(), operand=Constant(value=123.95)))])\n",
      "not False // None                        # BoolOp(op=Or(), values=[UnaryOp(op=Not(), operand=BinOp(left=Constant(value=False), op=FloorDiv(), right=Constant(value=None)))])\n",
      "'S' and 6180 in 397494                   # BoolOp(op=And(), values=[Constant(value=\"S\"), Compare(left=Constant(value=6180), ops=[In()], comparators=[Constant(value=397494)])])\n",
      "41                                       # BoolOp(op=And(), values=[Constant(value=41)])\n",
      "214                                      # BoolOp(op=Or(), values=[Constant(value=214)])\n",
      "5818 and \"N1qoR6ak 2UJTWyh>!B)/#YKe0]=w{E.-Q`F[5'&^9cA~<V+M$bnLu%H8I3;g*D?rz7Xj:}pPvif_GOtx4,(ZCdmls|@YiT\" and 70 and 884 # BoolOp(op=And(), values=[Constant(value=5818), Constant(value=\"N1qoR6ak 2UJTWyh>!B)/#YKe0]=w{E.-Q`F[5'&^9cA~<V+M$bnLu%H8I3;g*D?rz7Xj:}pPvif_GOtx4,(ZCdmls|@YiT\"), Constant(value=70), Constant(value=884)])\n",
      "\n",
      "<BinOp>\n",
      "{} - 33                                  # BinOp(left=Expr(value=Dict(keys=[], values=[Tuple(elts=[UnaryOp(op=Invert(), operand=List(elts=[List(elts=[Call(func=Name(id=\"set\", ctx=Load()), args=[], keywords=[])], ctx=Load()), Tuple(elts=[], ctx=Del()), BoolOp(op=And(), values=[Set(elts=[Call(func=Name(id=\"set\", ctx=Load()), args=[], keywords=[])]), List(elts=[Call(func=Name(id=\"set\", ctx=Load()), args=[], keywords=[]), Call(func=Name(id=\"set\", ctx=Load()), args=[], keywords=[]), BinOp(left=Call(func=Name(id=\"set\", ctx=Load()), args=[], keywords=[]), op=Mod(), right=Call(func=Name(id=\"set\", ctx=Load()), args=[], keywords=[]))], ctx=Load())])], ctx=Del())), BinOp(left=Call(func=Name(id=\"set\", ctx=Load()), args=[], keywords=[]), op=Pow(), right=Compare(left=Tuple(elts=[], ctx=Load()), ops=[], comparators=[Call(func=Name(id=\"set\", ctx=Load()), args=[], keywords=[]), Call(func=Name(id=\"set\", ctx=Load()), args=[], keywords=[])]))], ctx=Del())])), op=Sub(), right=Constant(value=33))\n",
      "set() / (set() << set()) * (set() >> set()) // (set() @ set() & set()) # BinOp(left=BinOp(left=BinOp(left=Call(func=Name(id=\"set\", ctx=Load()), args=[], keywords=[]), op=Div(), right=BinOp(left=Call(func=Name(id=\"set\", ctx=Load()), args=[], keywords=[]), op=LShift(), right=Call(func=Name(id=\"set\", ctx=Load()), args=[], keywords=[]))), op=Mult(), right=BinOp(left=Call(func=Name(id=\"set\", ctx=Load()), args=[], keywords=[]), op=RShift(), right=Call(func=Name(id=\"set\", ctx=Load()), args=[], keywords=[]))), op=FloorDiv(), right=BinOp(left=BinOp(left=Call(func=Name(id=\"set\", ctx=Load()), args=[], keywords=[]), op=MatMult(), right=Call(func=Name(id=\"set\", ctx=Load()), args=[], keywords=[])), op=BitAnd(), right=Call(func=Name(id=\"set\", ctx=Load()), args=[], keywords=[])))\n",
      "None ^ False                             # BinOp(left=Constant(value=None), op=BitXor(), right=Constant(value=False))\n",
      "-'' + +7719.5                            # BinOp(left=UnaryOp(op=USub(), operand=Constant(value=\"\")), op=Add(), right=UnaryOp(op=UAdd(), operand=Constant(value=7719.5)))\n",
      "(set() or 906) >> ('F') | (not (True)) % ((set() and set()) << False) # BinOp(left=BinOp(left=BoolOp(op=Or(), values=[Compare(left=Call(func=Name(id=\"set\", ctx=Load()), args=[], keywords=[]), ops=[], comparators=[]), Constant(value=906)]), op=RShift(), right=BoolOp(op=Or(), values=[Constant(value='F')])), op=BitOr(), right=BinOp(left=UnaryOp(op=Not(), operand=BoolOp(op=Or(), values=[Constant(value=True)])), op=Mod(), right=BinOp(left=BoolOp(op=And(), values=[Compare(left=Call(func=Name(id=\"set\", ctx=Load()), args=[], keywords=[]), ops=[], comparators=[]), Compare(left=Call(func=Name(id=\"set\", ctx=Load()), args=[], keywords=[]), ops=[], comparators=[])]), op=LShift(), right=Constant(value=False))))\n",
      "((set()) > None != set()) | ((set()))    # BinOp(left=Compare(left=Compare(left=Call(func=Name(id=\"set\", ctx=Load()), args=[], keywords=[]), ops=[], comparators=[]), ops=[Gt(), NotEq()], comparators=[Constant(value=None), Call(func=Name(id=\"set\", ctx=Load()), args=[], keywords=[])]), op=BitOr(), right=Compare(left=Compare(left=Call(func=Name(id=\"set\", ctx=Load()), args=[], keywords=[]), ops=[], comparators=[]), ops=[], comparators=[Constant(value=True)]))\n",
      "524 - 188                                # BinOp(left=Constant(value=524), op=Sub(), right=Constant(value=188))\n",
      "6214 / 81                                # BinOp(left=Constant(value=6214), op=Div(), right=Constant(value=81))\n",
      "26 / 43                                  # BinOp(left=Constant(value=26), op=Div(), right=Constant(value=43))\n",
      "\"s85;3Rw?ST!NI]_-eJ(x7'kG|z}C^&fWLnY[Z,rV*Qj.`Ed%:4<t\" ^ '/$ao6 U{2cim@hHtF>b+vX)KBg1l=qyMDp~O0#A9uPa+l' # BinOp(left=Constant(value=\"s85;3Rw?ST!NI]_-eJ(x7'kG|z}C^&fWLnY[Z,rV*Qj.`Ed%:4<t\"), op=BitXor(), right=Constant(value=\"/$ao6 U{2cim@hHtF>b+vX)KBg1l=qyMDp~O0#A9uPa+l\"))\n",
      "\n",
      "<UnaryOp>\n",
      "+(set(), \n",
      "[])                            # UnaryOp(op=UAdd(), operand=Tuple(elts=[Call(func=Name(id=\"set\", ctx=Load()), args=[], keywords=[]), Expr(value=List(elts=[], ctx=Del()))], ctx=Del()))\n",
      "~(None)                                  # UnaryOp(op=Invert(), operand=BoolOp(op=Or(), values=[Constant(value=None)]))\n",
      "-(((not {set(), set()})) & {set(): set(), (): set()}) # UnaryOp(op=USub(), operand=BinOp(left=Compare(left=UnaryOp(op=Not(), operand=Set(elts=[Call(func=Name(id=\"set\", ctx=Load()), args=[], keywords=[]), Call(func=Name(id=\"set\", ctx=Load()), args=[], keywords=[])])), ops=[], comparators=[Call(func=Name(id=\"set\", ctx=Load()), args=[], keywords=[]), Call(func=Name(id=\"set\", ctx=Load()), args=[], keywords=[]), Call(func=Name(id=\"set\", ctx=Load()), args=[], keywords=[])]), op=BitAnd(), right=Dict(keys=[Call(func=Name(id=\"set\", ctx=Load()), args=[], keywords=[]), Tuple(elts=[], ctx=Load())], values=[Call(func=Name(id=\"set\", ctx=Load()), args=[], keywords=[]), Call(func=Name(id=\"set\", ctx=Load()), args=[], keywords=[]), List(elts=[Call(func=Name(id=\"set\", ctx=Load()), args=[], keywords=[])], ctx=Load())])))\n",
      "-((set() + set()) % ((set() << set()) / (set() ^ set()))) ** (set() // set() >> set() * set()) # UnaryOp(op=USub(), operand=BinOp(left=BinOp(left=BinOp(left=Call(func=Name(id=\"set\", ctx=Load()), args=[], keywords=[]), op=Add(), right=Call(func=Name(id=\"set\", ctx=Load()), args=[], keywords=[])), op=Mod(), right=BinOp(left=BinOp(left=Call(func=Name(id=\"set\", ctx=Load()), args=[], keywords=[]), op=LShift(), right=Call(func=Name(id=\"set\", ctx=Load()), args=[], keywords=[])), op=Div(), right=BinOp(left=Call(func=Name(id=\"set\", ctx=Load()), args=[], keywords=[]), op=BitXor(), right=Call(func=Name(id=\"set\", ctx=Load()), args=[], keywords=[])))), op=Pow(), right=BinOp(left=BinOp(left=Call(func=Name(id=\"set\", ctx=Load()), args=[], keywords=[]), op=FloorDiv(), right=Call(func=Name(id=\"set\", ctx=Load()), args=[], keywords=[])), op=RShift(), right=BinOp(left=Call(func=Name(id=\"set\", ctx=Load()), args=[], keywords=[]), op=Mult(), right=Call(func=Name(id=\"set\", ctx=Load()), args=[], keywords=[])))))\n",
      "-True                                    # UnaryOp(op=USub(), operand=Constant(value=True))\n",
      "+(4.3 @ (823 - '&') | '')                # UnaryOp(op=UAdd(), operand=BinOp(left=BinOp(left=Constant(value=4.30), op=MatMult(), right=BinOp(left=Constant(value=823), op=Sub(), right=Constant(value='&'))), op=BitOr(), right=Constant(value=\"\")))\n",
      "~(False <= 51 not in 959)                # UnaryOp(op=Invert(), operand=BoolOp(op=And(), values=[Compare(left=Constant(value=False), ops=[LtE(), NotIn()], comparators=[Constant(value=51), Constant(value=959)])]))\n",
      "~17                                      # UnaryOp(op=Invert(), operand=Constant(value=17))\n",
      "not 26                                   # UnaryOp(op=Not(), operand=Constant(value=26))\n",
      "-68                                      # UnaryOp(op=USub(), operand=Constant(value=68))\n",
      "\n",
      "<Compare>\n",
      "()                                       # Compare(left=BoolOp(op=Or(), values=[]), ops=[], comparators=[Expr(value=Constant(value=8)), Tuple(elts=[List(elts=[Call(func=Name(id=\"set\", ctx=Load()), args=[], keywords=[])], ctx=Del()), Dict(keys=[Call(func=Name(id=\"set\", ctx=Load()), args=[], keywords=[])], values=[]), Set(elts=[Call(func=Name(id=\"set\", ctx=Load()), args=[], keywords=[]), Tuple(elts=[], ctx=Del())]), UnaryOp(op=UAdd(), operand=BinOp(left=Compare(left=Tuple(elts=[], ctx=Load()), ops=[], comparators=[Call(func=Name(id=\"set\", ctx=Load()), args=[], keywords=[])]), op=Add(), right=List(elts=[Call(func=Name(id=\"set\", ctx=Load()), args=[], keywords=[]), Call(func=Name(id=\"set\", ctx=Load()), args=[], keywords=[])], ctx=Load())))], ctx=Del())])\n",
      "(set() & set()) / (set() @ (set() - set())) not in set() ^ set() # Compare(left=BinOp(left=BinOp(left=Call(func=Name(id=\"set\", ctx=Load()), args=[], keywords=[]), op=BitAnd(), right=Call(func=Name(id=\"set\", ctx=Load()), args=[], keywords=[])), op=Div(), right=BinOp(left=Call(func=Name(id=\"set\", ctx=Load()), args=[], keywords=[]), op=MatMult(), right=BinOp(left=Call(func=Name(id=\"set\", ctx=Load()), args=[], keywords=[]), op=Sub(), right=Call(func=Name(id=\"set\", ctx=Load()), args=[], keywords=[])))), ops=[NotIn()], comparators=[BinOp(left=Call(func=Name(id=\"set\", ctx=Load()), args=[], keywords=[]), op=BitXor(), right=Call(func=Name(id=\"set\", ctx=Load()), args=[], keywords=[])), BinOp(left=Call(func=Name(id=\"set\", ctx=Load()), args=[], keywords=[]), op=Mult(), right=Call(func=Name(id=\"set\", ctx=Load()), args=[], keywords=[]))])\n",
      "set() % set() // None << (set() - set() >> set() ** set()) <= set() | set() > set() + set() # Compare(left=BinOp(left=BinOp(left=BinOp(left=Call(func=Name(id=\"set\", ctx=Load()), args=[], keywords=[]), op=Mod(), right=Call(func=Name(id=\"set\", ctx=Load()), args=[], keywords=[])), op=FloorDiv(), right=Constant(value=None)), op=LShift(), right=BinOp(left=BinOp(left=Call(func=Name(id=\"set\", ctx=Load()), args=[], keywords=[]), op=Sub(), right=Call(func=Name(id=\"set\", ctx=Load()), args=[], keywords=[])), op=RShift(), right=BinOp(left=Call(func=Name(id=\"set\", ctx=Load()), args=[], keywords=[]), op=Pow(), right=Call(func=Name(id=\"set\", ctx=Load()), args=[], keywords=[])))), ops=[LtE(), Gt()], comparators=[BinOp(left=Call(func=Name(id=\"set\", ctx=Load()), args=[], keywords=[]), op=BitOr(), right=Call(func=Name(id=\"set\", ctx=Load()), args=[], keywords=[])), BinOp(left=Call(func=Name(id=\"set\", ctx=Load()), args=[], keywords=[]), op=Add(), right=Call(func=Name(id=\"set\", ctx=Load()), args=[], keywords=[])), Constant(value=True)])\n",
      "-632.86 != (not ~(not ('')))             # Compare(left=UnaryOp(op=USub(), operand=Constant(value=632.860)), ops=[NotEq()], comparators=[UnaryOp(op=Not(), operand=UnaryOp(op=Invert(), operand=UnaryOp(op=Not(), operand=BoolOp(op=And(), values=[Constant(value='')]))))])\n",
      "'' >= 717 is not False                   # Compare(left=Constant(value=\"\"), ops=[GtE(), IsNot(), Eq()], comparators=[Constant(value=717), Constant(value=False)])\n",
      "15 < 39                                  # Compare(left=Constant(value=15), ops=[Lt(), Is(), Gt(), In()], comparators=[Constant(value=39)])\n",
      "548 != 934688                            # Compare(left=Constant(value=548), ops=[NotEq(), LtE()], comparators=[Constant(value=934688)])\n",
      "\"w-xSGA8TI{%pRcq6e!_E:}P]9LM/&b1+7*lBDnvu)[o`3dY|Oj~JU<#Z'rH;g,f>@Q0tKk4N$iVaFhzW52y=(C.? sXm^{ \" in 425 # Compare(left=Constant(value=\"w-xSGA8TI{%pRcq6e!_E:}P]9LM/&b1+7*lBDnvu)[o`3dY|Oj~JU<#Z'rH;g,f>@Q0tKk4N$iVaFhzW52y=(C.? sXm^{ \"), ops=[In()], comparators=[Constant(value=425), Constant(value=21270)])\n",
      "'H]3Ky.2p-:#6F%9V{X^8)lMD[;7Otk/hgImvcJf& E`uG}w?PY:' >= 'nCALds|1zjq4BZ$\"ab*@_(e<!rT=iUW~05+,Q>oNSxRVpF' # Compare(left=Constant(value='H]3Ky.2p-:#6F%9V{X^8)lMD[;7Otk/hgImvcJf& E`uG}w?PY:'), ops=[GtE(), Gt(), NotIn(), IsNot(), GtE()], comparators=[Constant(value='nCALds|1zjq4BZ$\"ab*@_(e<!rT=iUW~05+,Q>oNSxRVpF')])\n",
      "6.3                                      # Compare(left=Constant(value=6.3), ops=[], comparators=[])\n",
      "\n"
     ]
    }
   ],
   "source": [
    "for elt in [ '<BoolOp>', '<BinOp>', '<UnaryOp>', '<Compare>' ]:\n",
    "    print(elt)\n",
    "    test_samples(PYTHON_AST_EXPRS_GRAMMAR, start_symbol=elt)\n",
    "    print()"
   ]
  },
  {
   "cell_type": "markdown",
   "id": "4758622b",
   "metadata": {
    "slideshow": {
     "slide_type": "subslide"
    }
   },
   "source": [
    "Not all of these expressions are _type-correct_. For instance, `set() * set()` raises a type error at runtime. They _can_ be properly parsed, though."
   ]
  },
  {
   "cell_type": "markdown",
   "id": "ce0f6968",
   "metadata": {
    "slideshow": {
     "slide_type": "fragment"
    }
   },
   "source": [
    "How good is our grammar at this point? Let us create 20 expressions and check how many of these\n",
    "1. parse without `SyntaxError`\n",
    "2. evaluate without `TypeError`."
   ]
  },
  {
   "cell_type": "code",
   "execution_count": 59,
   "id": "d9b5ccce",
   "metadata": {
    "execution": {
     "iopub.execute_input": "2024-06-30T16:50:47.285525Z",
     "iopub.status.busy": "2024-06-30T16:50:47.285396Z",
     "iopub.status.idle": "2024-06-30T16:50:49.532557Z",
     "shell.execute_reply": "2024-06-30T16:50:49.532003Z"
    },
    "slideshow": {
     "slide_type": "subslide"
    }
   },
   "outputs": [
    {
     "name": "stdout",
     "output_type": "stream",
     "text": [
      "0 set()\n",
      "1 \n",
      "2 [\n",
      "~(False,) >> {635: (set() @ set() & set(),), 99.1 not in set() ** set(): {[set() ^ set()]}}]\n",
      "3 (set() * set() - (set() + set())) / ((set() ^ set()) % set() | set() << set() % set())\n",
      "4 not None\n",
      "5 -+(True and '#' and 'x')\n",
      "6 (8876 > 46 in 36 != 50)\n",
      "7 24\n",
      "8 \"LfDW-kSM|tpB&+V*RgQ7U]3xq)zh~n^`wTdie5jvPN: A2K?$ZGJ(X;%@sr9mcIu!}OC/1><b=y'0H8o_.4lFYa{6[,>E?\"\n",
      "9 'o,awXihgeM[581Bln\"RA60^k2N_L=d$C`7U~f)(&ZG]#m+DqF|PjpIQ<.4ur@ T!-W}Vs:Y{*zOEJb3StHK>?y%c/;iv9'\n",
      "10 ((set()) < set() is set()) >= ((set()))\n",
      "11 ((set())) == ((set()) <= set())\n",
      "12 \n",
      "13 \n",
      "14 set()\n",
      "15 set()\n",
      "16 []\n",
      "17 \n",
      "18 ((() or 'k5'))\n",
      "19 () | []\n",
      "Bad syntax: 0/20\n",
      "Bad type: 0/20\n"
     ]
    }
   ],
   "source": [
    "expr_iterations = 20\n",
    "bad_syntax = 0\n",
    "bad_type = 0\n",
    "ast_exprs_grammar = convert_ebnf_grammar(PYTHON_AST_EXPRS_GRAMMAR)\n",
    "expr_solver = ISLaSolver(ast_exprs_grammar, max_number_free_instantiations=expr_iterations)\n",
    "for i in range(expr_iterations):\n",
    "    expr_tree = eval(str(expr_solver.solve()))\n",
    "    expr_tree = fix_missing_locations(expr_tree)\n",
    "    expr_str = ast.unparse(expr_tree)\n",
    "    print(i, expr_str)\n",
    "    try:\n",
    "        ...  # insert parsing code here\n",
    "    except SyntaxError:\n",
    "        bad_syntax += 1\n",
    "    except TypeError:\n",
    "        bad_type += 1\n",
    "\n",
    "    try:\n",
    "        ...  # <-- insert evaluation code here\n",
    "    except TypeError:\n",
    "        bad_type += 1\n",
    "    except SyntaxError:\n",
    "        bad_syntax += 1\n",
    "\n",
    "print(f\"Bad syntax: {bad_syntax}/{expr_iterations}\")\n",
    "print(f\"Bad type: {bad_type}/{expr_iterations}\")"
   ]
  },
  {
   "cell_type": "markdown",
   "id": "a028de7f",
   "metadata": {
    "slideshow": {
     "slide_type": "subslide"
    }
   },
   "source": [
    "We're not doing too bad here.\n",
    "It is possible, in principle, to use ISLa constraints such that the resulting code will be properly typed - but this would take hundreds to thousands of rules. We will leave this exercise to the reader."
   ]
  },
  {
   "cell_type": "markdown",
   "id": "11edc5ac",
   "metadata": {
    "slideshow": {
     "slide_type": "fragment"
    }
   },
   "source": [
    "Note that you should _not_ repeat this experiment once _identifiers_ come into play. There is a remote chance that the fuzzer synthesizes a call like `os.remove(\"/\")` – and away goes your file system!"
   ]
  },
  {
   "cell_type": "markdown",
   "id": "36844ea7",
   "metadata": {
    "slideshow": {
     "slide_type": "subslide"
    }
   },
   "source": [
    "### End of Excursion"
   ]
  },
  {
   "cell_type": "markdown",
   "id": "70563db5",
   "metadata": {
    "slideshow": {
     "slide_type": "subslide"
    }
   },
   "source": [
    "### Excursion: Names and Function Calls"
   ]
  },
  {
   "cell_type": "markdown",
   "id": "4d78dff4",
   "metadata": {
    "slideshow": {
     "slide_type": "fragment"
    }
   },
   "source": [
    "\n",
    "Let us add some _identifiers_ such that we can call _functions_."
   ]
  },
  {
   "cell_type": "code",
   "execution_count": 60,
   "id": "eccb057c",
   "metadata": {
    "execution": {
     "iopub.execute_input": "2024-06-30T16:50:49.534950Z",
     "iopub.status.busy": "2024-06-30T16:50:49.534689Z",
     "iopub.status.idle": "2024-06-30T16:50:49.536914Z",
     "shell.execute_reply": "2024-06-30T16:50:49.536544Z"
    },
    "slideshow": {
     "slide_type": "fragment"
    }
   },
   "outputs": [],
   "source": [
    "ID_START = string.ascii_letters + '_'\n",
    "ID_CONTINUE = ID_START + string.digits"
   ]
  },
  {
   "cell_type": "code",
   "execution_count": 61,
   "id": "20e7d14c",
   "metadata": {
    "execution": {
     "iopub.execute_input": "2024-06-30T16:50:49.538695Z",
     "iopub.status.busy": "2024-06-30T16:50:49.538555Z",
     "iopub.status.idle": "2024-06-30T16:50:49.540821Z",
     "shell.execute_reply": "2024-06-30T16:50:49.540532Z"
    },
    "slideshow": {
     "slide_type": "fragment"
    }
   },
   "outputs": [
    {
     "data": {
      "text/plain": [
       "'abcdefghijklmnopqrstuvwxyzABCDEFGHIJKLMNOPQRSTUVWXYZ_0123456789'"
      ]
     },
     "execution_count": 61,
     "metadata": {},
     "output_type": "execute_result"
    }
   ],
   "source": [
    "ID_CONTINUE"
   ]
  },
  {
   "cell_type": "code",
   "execution_count": 62,
   "id": "bf29ea25",
   "metadata": {
    "execution": {
     "iopub.execute_input": "2024-06-30T16:50:49.542553Z",
     "iopub.status.busy": "2024-06-30T16:50:49.542425Z",
     "iopub.status.idle": "2024-06-30T16:50:49.544525Z",
     "shell.execute_reply": "2024-06-30T16:50:49.544268Z"
    },
    "slideshow": {
     "slide_type": "subslide"
    }
   },
   "outputs": [
    {
     "name": "stdout",
     "output_type": "stream",
     "text": [
      "Module(\n",
      "    body=[\n",
      "        Expr(\n",
      "            value=Call(\n",
      "                func=Name(id='xyzzy', ctx=Load()),\n",
      "                args=[\n",
      "                    Name(id='a', ctx=Load())],\n",
      "                keywords=[\n",
      "                    keyword(\n",
      "                        arg='b',\n",
      "                        value=Name(id='c', ctx=Load()))]))],\n",
      "    type_ignores=[])\n"
     ]
    }
   ],
   "source": [
    "print(ast.dump(ast.parse(\"xyzzy(a, b=c)\"), indent=4))"
   ]
  },
  {
   "cell_type": "code",
   "execution_count": 63,
   "id": "8578eab6",
   "metadata": {
    "execution": {
     "iopub.execute_input": "2024-06-30T16:50:49.546119Z",
     "iopub.status.busy": "2024-06-30T16:50:49.546002Z",
     "iopub.status.idle": "2024-06-30T16:50:49.548744Z",
     "shell.execute_reply": "2024-06-30T16:50:49.548300Z"
    },
    "slideshow": {
     "slide_type": "subslide"
    }
   },
   "outputs": [],
   "source": [
    "PYTHON_AST_IDS_GRAMMAR: Grammar = extend_grammar(PYTHON_AST_EXPRS_GRAMMAR, {\n",
    "    '<expr>': PYTHON_AST_EXPRS_GRAMMAR['<expr>'] + [\n",
    "        '<Name>', '<Call>'\n",
    "    ],\n",
    "\n",
    "    # Identifiers\n",
    "    '<Name>': [\n",
    "        'Name(id=<identifier>, ctx=Load())',\n",
    "        'Name(id=<identifier>, ctx=Del())'\n",
    "    ],\n",
    "    '<identifier>': [ \"'<id>'\" ],\n",
    "    '<id>': [ '<id_start><id_continue>*' ],\n",
    "    '<id_start>': list(ID_START),\n",
    "    '<id_continue>': list(ID_CONTINUE),\n",
    "    # FIXME: Actual rules are a bit more complex; see\n",
    "    # https://docs.python.org/3/reference/lexical_analysis.html#identifiers\n",
    "\n",
    "    # Function Calls\n",
    "   '<Call>': [ 'Call(func=<func>, args=<expr_list>, keywords=<keyword_list>)' ],\n",
    "   '<func>': [ '<expr>' ],  # Actually <Expr>, but this is more readable and parses 90%\n",
    "    '<keyword_list>': [ '[<keywords>?]' ],\n",
    "    '<keywords>': [ '<keyword>', '<keyword>, <keywords>' ],\n",
    "    '<keyword>': [ 'keyword(arg=<identifier>, value=<expr>)' ]\n",
    "})"
   ]
  },
  {
   "cell_type": "code",
   "execution_count": 64,
   "id": "4957d646",
   "metadata": {
    "execution": {
     "iopub.execute_input": "2024-06-30T16:50:49.550814Z",
     "iopub.status.busy": "2024-06-30T16:50:49.550675Z",
     "iopub.status.idle": "2024-06-30T16:50:49.552917Z",
     "shell.execute_reply": "2024-06-30T16:50:49.552539Z"
    },
    "slideshow": {
     "slide_type": "subslide"
    }
   },
   "outputs": [],
   "source": [
    "assert is_valid_grammar(PYTHON_AST_IDS_GRAMMAR)"
   ]
  },
  {
   "cell_type": "code",
   "execution_count": 65,
   "id": "9e09ce73",
   "metadata": {
    "execution": {
     "iopub.execute_input": "2024-06-30T16:50:49.554731Z",
     "iopub.status.busy": "2024-06-30T16:50:49.554592Z",
     "iopub.status.idle": "2024-06-30T16:50:49.928411Z",
     "shell.execute_reply": "2024-06-30T16:50:49.927877Z"
    },
    "slideshow": {
     "slide_type": "subslide"
    }
   },
   "outputs": [
    {
     "name": "stdout",
     "output_type": "stream",
     "text": [
      "<Name>\n",
      "n                                        # Name(id='n', ctx=Load())\n",
      "vmGtKyT3Oq1gBC_srAIRaeQw6Dh8V5oLdj9FcvHfb4MpPZiNuEJ27WYU0lnkSxX9Lz # Name(id='vmGtKyT3Oq1gBC_srAIRaeQw6Dh8V5oLdj9FcvHfb4MpPZiNuEJ27WYU0lnkSxX9Lz', ctx=Del())\n",
      "h                                        # Name(id='h', ctx=Load())\n",
      "L                                        # Name(id='L', ctx=Del())\n",
      "M                                        # Name(id='M', ctx=Load())\n",
      "g                                        # Name(id='g', ctx=Del())\n",
      "P                                        # Name(id='P', ctx=Del())\n",
      "It                                       # Name(id='It', ctx=Del())\n",
      "jGn7g                                    # Name(id='jGn7g', ctx=Load())\n",
      "psj                                      # Name(id='psj', ctx=Del())\n",
      "\n",
      "<Call>\n",
      "{{}()}(set(), set(), W=set(), a=set())   # Call(func=Set(elts=[Call(func=Dict(keys=[], values=[]), args=[], keywords=[])]), args=[Call(func=Name(id=\"set\", ctx=Load()), args=[], keywords=[]), Compare(left=Call(func=Name(id=\"set\", ctx=Load()), args=[], keywords=[]), ops=[], comparators=[])], keywords=[keyword(arg='W', value=Call(func=Name(id=\"set\", ctx=Load()), args=[], keywords=[])), keyword(arg='a', value=Call(func=Name(id=\"set\", ctx=Load()), args=[], keywords=[]))])\n",
      "((set(), set()) % ())(~set(), Icz=[])    # Call(func=BinOp(left=Tuple(elts=[Call(func=Name(id=\"set\", ctx=Load()), args=[], keywords=[]), Call(func=Name(id=\"set\", ctx=Load()), args=[], keywords=[])], ctx=Del()), op=Mod(), right=BoolOp(op=Or(), values=[])), args=[UnaryOp(op=Invert(), operand=Call(func=Name(id=\"set\", ctx=Load()), args=[], keywords=[]))], keywords=[keyword(arg='Icz', value=List(elts=[], ctx=Del()))])\n",
      "Ywn(set(), [], 358, J1eY=N)              # Call(func=Expr(value=Name(id='Ywn', ctx=Del())), args=[Call(func=Name(id=\"set\", ctx=Load()), args=[], keywords=[]), List(elts=[], ctx=Load()), Constant(value=358)], keywords=[keyword(arg='J1eY', value=Name(id='N', ctx=Load()))])\n",
      "(set() / (set() | set()))(set() @ set(), (set(),), Z=set(), K=set()) # Call(func=BinOp(left=Call(func=Name(id=\"set\", ctx=Load()), args=[], keywords=[]), op=Div(), right=BinOp(left=Call(func=Name(id=\"set\", ctx=Load()), args=[], keywords=[]), op=BitOr(), right=Call(func=Name(id=\"set\", ctx=Load()), args=[], keywords=[]))), args=[BinOp(left=Call(func=Name(id=\"set\", ctx=Load()), args=[], keywords=[]), op=MatMult(), right=Call(func=Name(id=\"set\", ctx=Load()), args=[], keywords=[])), Tuple(elts=[Call(func=Name(id=\"set\", ctx=Load()), args=[], keywords=[])], ctx=Load())], keywords=[keyword(arg='Z', value=Call(func=Name(id=\"set\", ctx=Load()), args=[], keywords=[])), keyword(arg='K', value=Call(func=Name(id=\"set\", ctx=Load()), args=[], keywords=[]))])\n",
      "(set() * set() // (set() - (set() & set())))(set() ^ set(), U=set(), o=set()) # Call(func=BinOp(left=BinOp(left=Call(func=Name(id=\"set\", ctx=Load()), args=[], keywords=[]), op=Mult(), right=Call(func=Name(id=\"set\", ctx=Load()), args=[], keywords=[])), op=FloorDiv(), right=BinOp(left=Call(func=Name(id=\"set\", ctx=Load()), args=[], keywords=[]), op=Sub(), right=BinOp(left=Call(func=Name(id=\"set\", ctx=Load()), args=[], keywords=[]), op=BitAnd(), right=Call(func=Name(id=\"set\", ctx=Load()), args=[], keywords=[])))), args=[BinOp(left=Call(func=Name(id=\"set\", ctx=Load()), args=[], keywords=[]), op=BitXor(), right=Call(func=Name(id=\"set\", ctx=Load()), args=[], keywords=[]))], keywords=[keyword(arg='U', value=Call(func=Name(id=\"set\", ctx=Load()), args=[], keywords=[])), keyword(arg='o', value=Call(func=Name(id=\"set\", ctx=Load()), args=[], keywords=[]))])\n",
      "(set() << set() + set())(None, P=set(), R=set()) # Call(func=BinOp(left=Call(func=Name(id=\"set\", ctx=Load()), args=[], keywords=[]), op=LShift(), right=BinOp(left=Call(func=Name(id=\"set\", ctx=Load()), args=[], keywords=[]), op=Add(), right=Call(func=Name(id=\"set\", ctx=Load()), args=[], keywords=[]))), args=[Constant(value=None)], keywords=[keyword(arg='P', value=Call(func=Name(id=\"set\", ctx=Load()), args=[], keywords=[])), keyword(arg='R', value=Call(func=Name(id=\"set\", ctx=Load()), args=[], keywords=[]))])\n",
      "(+False)(set() >> set(), not 6.1, H=--set(), M=True) # Call(func=UnaryOp(op=UAdd(), operand=Constant(value=False)), args=[BinOp(left=Call(func=Name(id=\"set\", ctx=Load()), args=[], keywords=[]), op=RShift(), right=Call(func=Name(id=\"set\", ctx=Load()), args=[], keywords=[])), UnaryOp(op=Not(), operand=Constant(value=6.1))], keywords=[keyword(arg='H', value=UnaryOp(op=USub(), operand=UnaryOp(op=USub(), operand=Call(func=Name(id=\"set\", ctx=Load()), args=[], keywords=[])))), keyword(arg='M', value=Constant(value=True))])\n",
      "(set() and set() and set())(None, '\"', m=True, X=set(), E=set()) # Call(func=BoolOp(op=And(), values=[Call(func=Name(id=\"set\", ctx=Load()), args=[], keywords=[]), Call(func=Name(id=\"set\", ctx=Load()), args=[], keywords=[]), Call(func=Name(id=\"set\", ctx=Load()), args=[], keywords=[])]), args=[Constant(value=None), Constant(value='\"')], keywords=[keyword(arg='m', value=Constant(value=True)), keyword(arg='X', value=Call(func=Name(id=\"set\", ctx=Load()), args=[], keywords=[])), keyword(arg='E', value=Call(func=Name(id=\"set\", ctx=Load()), args=[], keywords=[]))])\n",
      "(set() ** (set() % set()))(set(), t=set() << set(), p=set(), f=set()) # Call(func=BinOp(left=Call(func=Name(id=\"set\", ctx=Load()), args=[], keywords=[]), op=Pow(), right=BinOp(left=Call(func=Name(id=\"set\", ctx=Load()), args=[], keywords=[]), op=Mod(), right=Call(func=Name(id=\"set\", ctx=Load()), args=[], keywords=[]))), args=[Call(func=Name(id=\"set\", ctx=Load()), args=[], keywords=[])], keywords=[keyword(arg='t', value=BinOp(left=Call(func=Name(id=\"set\", ctx=Load()), args=[], keywords=[]), op=LShift(), right=Call(func=Name(id=\"set\", ctx=Load()), args=[], keywords=[]))), keyword(arg='p', value=Call(func=Name(id=\"set\", ctx=Load()), args=[], keywords=[])), keyword(arg='f', value=Call(func=Name(id=\"set\", ctx=Load()), args=[], keywords=[]))])\n",
      "'2'(set(), set(), set(), set(), c=(set())) # Call(func=Constant(value=\"2\"), args=[Call(func=Name(id=\"set\", ctx=Load()), args=[], keywords=[]), Compare(left=Call(func=Name(id=\"set\", ctx=Load()), args=[], keywords=[]), ops=[], comparators=[]), Compare(left=Call(func=Name(id=\"set\", ctx=Load()), args=[], keywords=[]), ops=[], comparators=[]), Compare(left=Call(func=Name(id=\"set\", ctx=Load()), args=[], keywords=[]), ops=[], comparators=[])], keywords=[keyword(arg='c', value=Compare(left=Compare(left=Call(func=Name(id=\"set\", ctx=Load()), args=[], keywords=[]), ops=[], comparators=[]), ops=[], comparators=[]))])\n",
      "\n"
     ]
    }
   ],
   "source": [
    "for elt in [ '<Name>', '<Call>' ]:\n",
    "    print(elt)\n",
    "    test_samples(PYTHON_AST_IDS_GRAMMAR, start_symbol=elt)\n",
    "    print()"
   ]
  },
  {
   "cell_type": "code",
   "execution_count": 66,
   "id": "1007cc65",
   "metadata": {
    "execution": {
     "iopub.execute_input": "2024-06-30T16:50:49.930634Z",
     "iopub.status.busy": "2024-06-30T16:50:49.930494Z",
     "iopub.status.idle": "2024-06-30T16:50:49.934198Z",
     "shell.execute_reply": "2024-06-30T16:50:49.933628Z"
    },
    "slideshow": {
     "slide_type": "subslide"
    }
   },
   "outputs": [],
   "source": [
    "ast_ids_grammar = convert_ebnf_grammar(PYTHON_AST_IDS_GRAMMAR)"
   ]
  },
  {
   "cell_type": "code",
   "execution_count": 67,
   "id": "7c426570",
   "metadata": {
    "execution": {
     "iopub.execute_input": "2024-06-30T16:50:49.936761Z",
     "iopub.status.busy": "2024-06-30T16:50:49.936567Z",
     "iopub.status.idle": "2024-06-30T16:50:49.943703Z",
     "shell.execute_reply": "2024-06-30T16:50:49.942992Z"
    },
    "slideshow": {
     "slide_type": "fragment"
    }
   },
   "outputs": [],
   "source": [
    "id_solver = ISLaSolver(ast_ids_grammar, start_symbol='<id>')\n",
    "assert id_solver.check('open')"
   ]
  },
  {
   "cell_type": "code",
   "execution_count": 68,
   "id": "a2e38406",
   "metadata": {
    "execution": {
     "iopub.execute_input": "2024-06-30T16:50:49.947041Z",
     "iopub.status.busy": "2024-06-30T16:50:49.946868Z",
     "iopub.status.idle": "2024-06-30T16:50:49.958077Z",
     "shell.execute_reply": "2024-06-30T16:50:49.957682Z"
    },
    "slideshow": {
     "slide_type": "fragment"
    }
   },
   "outputs": [],
   "source": [
    "name_solver = ISLaSolver(ast_ids_grammar)\n",
    "assert name_solver.check(\"Name(id='open', ctx=Load())\")"
   ]
  },
  {
   "cell_type": "code",
   "execution_count": 69,
   "id": "24722c3f",
   "metadata": {
    "execution": {
     "iopub.execute_input": "2024-06-30T16:50:49.959995Z",
     "iopub.status.busy": "2024-06-30T16:50:49.959853Z",
     "iopub.status.idle": "2024-06-30T16:50:49.970599Z",
     "shell.execute_reply": "2024-06-30T16:50:49.970223Z"
    },
    "slideshow": {
     "slide_type": "fragment"
    }
   },
   "outputs": [],
   "source": [
    "call_solver = ISLaSolver(ast_ids_grammar, start_symbol='<keyword_list>')\n",
    "assert call_solver.check('[]')"
   ]
  },
  {
   "cell_type": "code",
   "execution_count": 70,
   "id": "b50d47c4",
   "metadata": {
    "execution": {
     "iopub.execute_input": "2024-06-30T16:50:49.972282Z",
     "iopub.status.busy": "2024-06-30T16:50:49.972155Z",
     "iopub.status.idle": "2024-06-30T16:50:49.980864Z",
     "shell.execute_reply": "2024-06-30T16:50:49.980561Z"
    },
    "slideshow": {
     "slide_type": "fragment"
    }
   },
   "outputs": [],
   "source": [
    "call_str = ast.dump(ast.parse('open()').body[0].value)  # type: ignore\n",
    "call_solver = ISLaSolver(ast_ids_grammar)\n",
    "assert call_solver.check(call_str)"
   ]
  },
  {
   "cell_type": "markdown",
   "id": "aa93c4dd",
   "metadata": {
    "slideshow": {
     "slide_type": "subslide"
    }
   },
   "source": [
    "### End of Excursion"
   ]
  },
  {
   "cell_type": "markdown",
   "id": "42e646fc",
   "metadata": {
    "slideshow": {
     "slide_type": "subslide"
    }
   },
   "source": [
    "### Excursion: Attributes and Subscripts"
   ]
  },
  {
   "cell_type": "markdown",
   "id": "f7e5c453",
   "metadata": {
    "slideshow": {
     "slide_type": "fragment"
    }
   },
   "source": [
    "\n",
    "Let us add attributes and subscripts."
   ]
  },
  {
   "cell_type": "code",
   "execution_count": 71,
   "id": "fd2071fc",
   "metadata": {
    "execution": {
     "iopub.execute_input": "2024-06-30T16:50:49.982617Z",
     "iopub.status.busy": "2024-06-30T16:50:49.982491Z",
     "iopub.status.idle": "2024-06-30T16:50:49.984599Z",
     "shell.execute_reply": "2024-06-30T16:50:49.984192Z"
    },
    "slideshow": {
     "slide_type": "subslide"
    }
   },
   "outputs": [
    {
     "name": "stdout",
     "output_type": "stream",
     "text": [
      "Module(\n",
      "    body=[\n",
      "        Expr(\n",
      "            value=Attribute(\n",
      "                value=Subscript(\n",
      "                    value=Name(id='a', ctx=Load()),\n",
      "                    slice=Name(id='b', ctx=Load()),\n",
      "                    ctx=Load()),\n",
      "                attr='c',\n",
      "                ctx=Load()))],\n",
      "    type_ignores=[])\n"
     ]
    }
   ],
   "source": [
    "print(ast.dump(ast.parse(\"a[b].c\"), indent=4))"
   ]
  },
  {
   "cell_type": "code",
   "execution_count": 72,
   "id": "2e8af8f1",
   "metadata": {
    "execution": {
     "iopub.execute_input": "2024-06-30T16:50:49.986573Z",
     "iopub.status.busy": "2024-06-30T16:50:49.986430Z",
     "iopub.status.idle": "2024-06-30T16:50:49.989081Z",
     "shell.execute_reply": "2024-06-30T16:50:49.988777Z"
    },
    "slideshow": {
     "slide_type": "subslide"
    }
   },
   "outputs": [],
   "source": [
    "PYTHON_AST_ATTRS_GRAMMAR: Grammar = extend_grammar(PYTHON_AST_IDS_GRAMMAR, {\n",
    "    '<expr>': PYTHON_AST_IDS_GRAMMAR['<expr>'] + [\n",
    "        '<Attribute>', '<Subscript>', '<Starred>',\n",
    "    ],\n",
    "\n",
    "    # Attributes\n",
    "    '<Attribute>': [\n",
    "        'Attribute(value=<expr>, attr=<identifier>, ctx=Load())',\n",
    "        'Attribute(value=<expr>, attr=<identifier>, ctx=Del())',\n",
    "    ],\n",
    "\n",
    "    # Subscripts\n",
    "    '<Subscript>': [\n",
    "        'Subscript(value=<expr>, slice=<Slice>, ctx=Load())',\n",
    "        'Subscript(value=<expr>, slice=<Slice>, ctx=Del())',\n",
    "    ],\n",
    "    '<Slice>': [\n",
    "        'Slice()',\n",
    "        'Slice(<expr>)',\n",
    "        'Slice(<expr>, <expr>)',\n",
    "        'Slice(<expr>, <expr>, <expr>)',\n",
    "    ],\n",
    "\n",
    "    # Starred\n",
    "    '<Starred>': [\n",
    "        'Starred(value=<expr>, ctx=Load())',\n",
    "        'Starred(value=<expr>, ctx=Del())',\n",
    "    ],\n",
    "\n",
    "    # We're extending the set of callers a bit\n",
    "    '<func>': [ '<Name>', '<Attribute>', '<Subscript>' ],\n",
    "})"
   ]
  },
  {
   "cell_type": "code",
   "execution_count": 73,
   "id": "61cae63b",
   "metadata": {
    "execution": {
     "iopub.execute_input": "2024-06-30T16:50:49.990596Z",
     "iopub.status.busy": "2024-06-30T16:50:49.990488Z",
     "iopub.status.idle": "2024-06-30T16:50:49.992523Z",
     "shell.execute_reply": "2024-06-30T16:50:49.992242Z"
    },
    "slideshow": {
     "slide_type": "subslide"
    }
   },
   "outputs": [],
   "source": [
    "assert is_valid_grammar(PYTHON_AST_ATTRS_GRAMMAR)"
   ]
  },
  {
   "cell_type": "code",
   "execution_count": 74,
   "id": "e36de5b0",
   "metadata": {
    "execution": {
     "iopub.execute_input": "2024-06-30T16:50:49.993945Z",
     "iopub.status.busy": "2024-06-30T16:50:49.993840Z",
     "iopub.status.idle": "2024-06-30T16:50:50.953185Z",
     "shell.execute_reply": "2024-06-30T16:50:50.952585Z"
    },
    "slideshow": {
     "slide_type": "subslide"
    }
   },
   "outputs": [
    {
     "name": "stdout",
     "output_type": "stream",
     "text": [
      "<Attribute>\n",
      "(set()).sB                               # Attribute(value=Compare(left=Call(func=Name(id=\"set\", ctx=Load()), args=[], keywords=[]), ops=[Is()], comparators=[]), attr='sB', ctx=Del())\n",
      "FREed3NqLMUugcArznkP9yhK2D1bfmsCoD0.aQHvYZ_VatlOGFxjS87ipTw0WJ6XI45C1 # Attribute(value=Name(id='FREed3NqLMUugcArznkP9yhK2D1bfmsCoD0', ctx=Del()), attr='aQHvYZ_VatlOGFxjS87ipTw0WJ6XI45C1', ctx=Load())\n",
      "*True .V[() % {}:(set(), set(), set()):[set()[:](), ~set()]].Z0rA # Attribute(value=Expr(value=Starred(value=Subscript(value=Attribute(value=Constant(value=True), attr='V', ctx=Load()), slice=Slice(BinOp(left=BoolOp(op=And(), values=[]), op=Mod(), right=Dict(keys=[], values=[])), Tuple(elts=[Call(func=Name(id=\"set\", ctx=Load()), args=[], keywords=[]), Call(func=Name(id=\"set\", ctx=Load()), args=[], keywords=[]), Call(func=Name(id=\"set\", ctx=Load()), args=[], keywords=[])], ctx=Load()), List(elts=[Call(func=Subscript(value=Call(func=Name(id=\"set\", ctx=Load()), args=[], keywords=[]), slice=Slice(), ctx=Del()), args=[], keywords=[]), UnaryOp(op=Invert(), operand=Call(func=Name(id=\"set\", ctx=Load()), args=[], keywords=[]))], ctx=Del())), ctx=Load()), ctx=Load())), attr='Z0rA', ctx=Del())\n",
      "*[{(set(), set(), set() * set(), (set() | set()) // (set() >> set())), la_}].f # Attribute(value=Starred(value=List(elts=[Set(elts=[Tuple(elts=[Call(func=Name(id=\"set\", ctx=Load()), args=[], keywords=[]), Call(func=Name(id=\"set\", ctx=Load()), args=[], keywords=[]), BinOp(left=Call(func=Name(id=\"set\", ctx=Load()), args=[], keywords=[]), op=Mult(), right=Call(func=Name(id=\"set\", ctx=Load()), args=[], keywords=[])), BinOp(left=BinOp(left=Call(func=Name(id=\"set\", ctx=Load()), args=[], keywords=[]), op=BitOr(), right=Call(func=Name(id=\"set\", ctx=Load()), args=[], keywords=[])), op=FloorDiv(), right=BinOp(left=Call(func=Name(id=\"set\", ctx=Load()), args=[], keywords=[]), op=RShift(), right=Call(func=Name(id=\"set\", ctx=Load()), args=[], keywords=[])))], ctx=Del()), Name(id='la_', ctx=Load())])], ctx=Load()), ctx=Del()), attr='f', ctx=Load())\n",
      "((set() + set()) ** (set() @ set() << set()) ^ (set() - set()) / (set() & set())).t # Attribute(value=BinOp(left=BinOp(left=BinOp(left=Call(func=Name(id=\"set\", ctx=Load()), args=[], keywords=[]), op=Add(), right=Call(func=Name(id=\"set\", ctx=Load()), args=[], keywords=[])), op=Pow(), right=BinOp(left=BinOp(left=Call(func=Name(id=\"set\", ctx=Load()), args=[], keywords=[]), op=MatMult(), right=Call(func=Name(id=\"set\", ctx=Load()), args=[], keywords=[])), op=LShift(), right=Call(func=Name(id=\"set\", ctx=Load()), args=[], keywords=[]))), op=BitXor(), right=BinOp(left=BinOp(left=Call(func=Name(id=\"set\", ctx=Load()), args=[], keywords=[]), op=Sub(), right=Call(func=Name(id=\"set\", ctx=Load()), args=[], keywords=[])), op=Div(), right=BinOp(left=Call(func=Name(id=\"set\", ctx=Load()), args=[], keywords=[]), op=BitAnd(), right=Call(func=Name(id=\"set\", ctx=Load()), args=[], keywords=[])))), attr='t', ctx=Del())\n",
      "0.567.C                                  # Attribute(value=Constant(value=0.567), attr='C', ctx=Load())\n",
      "(+'').BD                                 # Attribute(value=UnaryOp(op=UAdd(), operand=Constant(value=\"\")), attr='BD', ctx=Load())\n",
      "K((-11)[None:not set()], r=set(), j=set()).X # Attribute(value=Call(func=Name(id='K', ctx=Del()), args=[Subscript(value=UnaryOp(op=USub(), operand=Constant(value=11)), slice=Slice(Constant(value=None), UnaryOp(op=Not(), operand=Call(func=Name(id=\"set\", ctx=Load()), args=[], keywords=[]))), ctx=Del())], keywords=[keyword(arg='r', value=Call(func=Name(id=\"set\", ctx=Load()), args=[], keywords=[])), keyword(arg='j', value=Call(func=Name(id=\"set\", ctx=Load()), args=[], keywords=[]))]), attr='X', ctx=Load())\n",
      "y(U=set(), u=set())[set().p(, n=set()):].W # Attribute(value=Subscript(value=Call(func=Name(id='y', ctx=Del()), args=[], keywords=[keyword(arg='U', value=Call(func=Name(id=\"set\", ctx=Load()), args=[], keywords=[])), keyword(arg='u', value=Call(func=Name(id=\"set\", ctx=Load()), args=[], keywords=[]))]), slice=Slice(Call(func=Attribute(value=Call(func=Name(id=\"set\", ctx=Load()), args=[], keywords=[]), attr='p', ctx=Del()), args=[BoolOp(op=Or(), values=[])], keywords=[keyword(arg='n', value=Call(func=Name(id=\"set\", ctx=Load()), args=[], keywords=[]))])), ctx=Del()), attr='W', ctx=Load())\n",
      "''.Q                                     # Attribute(value=Constant(value=''), attr='Q', ctx=Load())\n",
      "\n",
      "<Subscript>\n",
      "(set() ^ set()).D(f=set(), d=set().E)[{set(), set()}:g] # Subscript(value=Call(func=Attribute(value=BinOp(left=Call(func=Name(id=\"set\", ctx=Load()), args=[], keywords=[]), op=BitXor(), right=Call(func=Name(id=\"set\", ctx=Load()), args=[], keywords=[])), attr='D', ctx=Del()), args=[], keywords=[keyword(arg='f', value=Call(func=Name(id=\"set\", ctx=Load()), args=[], keywords=[])), keyword(arg='d', value=Attribute(value=Call(func=Name(id=\"set\", ctx=Load()), args=[], keywords=[]), attr='E', ctx=Load()))]), slice=Slice(Set(elts=[Call(func=Name(id=\"set\", ctx=Load()), args=[], keywords=[]), Call(func=Name(id=\"set\", ctx=Load()), args=[], keywords=[])]), Name(id='g', ctx=Del())), ctx=Load())\n",
      "(*\n",
      "[set(), not {set(): set(), set(): set()}, (set() or set())][True:],)[:] # Subscript(value=Tuple(elts=[Starred(value=Expr(value=Subscript(value=List(elts=[BoolOp(op=And(), values=[Call(func=Name(id=\"set\", ctx=Load()), args=[], keywords=[])]), UnaryOp(op=Not(), operand=Dict(keys=[Call(func=Name(id=\"set\", ctx=Load()), args=[], keywords=[]), Call(func=Name(id=\"set\", ctx=Load()), args=[], keywords=[])], values=[Call(func=Name(id=\"set\", ctx=Load()), args=[], keywords=[]), Call(func=Name(id=\"set\", ctx=Load()), args=[], keywords=[]), Name(id='Y', ctx=Load())])), Compare(left=BoolOp(op=Or(), values=[Call(func=Name(id=\"set\", ctx=Load()), args=[], keywords=[]), Call(func=Name(id=\"set\", ctx=Load()), args=[], keywords=[])]), ops=[Gt()], comparators=[])], ctx=Del()), slice=Slice(Constant(value=True)), ctx=Del())), ctx=Load())], ctx=Del()), slice=Slice(), ctx=Del())\n",
      "[*set() % set()][(set(), set() ** set()):(set(), set(), set()):[set()]] # Subscript(value=List(elts=[Starred(value=BinOp(left=Call(func=Name(id=\"set\", ctx=Load()), args=[], keywords=[]), op=Mod(), right=Call(func=Name(id=\"set\", ctx=Load()), args=[], keywords=[])), ctx=Del())], ctx=Del()), slice=Slice(Tuple(elts=[Call(func=Name(id=\"set\", ctx=Load()), args=[], keywords=[]), BinOp(left=Call(func=Name(id=\"set\", ctx=Load()), args=[], keywords=[]), op=Pow(), right=Call(func=Name(id=\"set\", ctx=Load()), args=[], keywords=[]))], ctx=Load()), Tuple(elts=[Call(func=Name(id=\"set\", ctx=Load()), args=[], keywords=[]), Call(func=Name(id=\"set\", ctx=Load()), args=[], keywords=[]), Call(func=Name(id=\"set\", ctx=Load()), args=[], keywords=[])], ctx=Load()), List(elts=[Call(func=Name(id=\"set\", ctx=Load()), args=[], keywords=[])], ctx=Load())), ctx=Load())\n",
      "(set() * set() + (set() >> set()))[(set() | set()) @ set():set() - (set() << set())] # Subscript(value=BinOp(left=BinOp(left=Call(func=Name(id=\"set\", ctx=Load()), args=[], keywords=[]), op=Mult(), right=Call(func=Name(id=\"set\", ctx=Load()), args=[], keywords=[])), op=Add(), right=BinOp(left=Call(func=Name(id=\"set\", ctx=Load()), args=[], keywords=[]), op=RShift(), right=Call(func=Name(id=\"set\", ctx=Load()), args=[], keywords=[]))), slice=Slice(BinOp(left=BinOp(left=Call(func=Name(id=\"set\", ctx=Load()), args=[], keywords=[]), op=BitOr(), right=Call(func=Name(id=\"set\", ctx=Load()), args=[], keywords=[])), op=MatMult(), right=Call(func=Name(id=\"set\", ctx=Load()), args=[], keywords=[])), BinOp(left=Call(func=Name(id=\"set\", ctx=Load()), args=[], keywords=[]), op=Sub(), right=BinOp(left=Call(func=Name(id=\"set\", ctx=Load()), args=[], keywords=[]), op=LShift(), right=Call(func=Name(id=\"set\", ctx=Load()), args=[], keywords=[])))), ctx=Load())\n",
      "'T'[885:]                                # Subscript(value=Constant(value='T'), slice=Slice(Constant(value=885)), ctx=Del())\n",
      "((not ~set()) & -set())[-set() // +set()[:]():] # Subscript(value=BinOp(left=UnaryOp(op=Not(), operand=UnaryOp(op=Invert(), operand=Call(func=Name(id=\"set\", ctx=Load()), args=[], keywords=[]))), op=BitAnd(), right=UnaryOp(op=USub(), operand=Call(func=Name(id=\"set\", ctx=Load()), args=[], keywords=[]))), slice=Slice(BinOp(left=UnaryOp(op=USub(), operand=Call(func=Name(id=\"set\", ctx=Load()), args=[], keywords=[])), op=FloorDiv(), right=UnaryOp(op=UAdd(), operand=Call(func=Subscript(value=Call(func=Name(id=\"set\", ctx=Load()), args=[], keywords=[]), slice=Slice(), ctx=Del()), args=[], keywords=[])))), ctx=Load())\n",
      "51.3[None:0]                             # Subscript(value=Constant(value=51.3), slice=Slice(Constant(value=None), Constant(value=0)), ctx=Load())\n",
      "A(J=set())[i():set() / set()]            # Subscript(value=Call(func=Name(id='A', ctx=Del()), args=[], keywords=[keyword(arg='J', value=Call(func=Name(id=\"set\", ctx=Load()), args=[], keywords=[]))]), slice=Slice(Call(func=Name(id='i', ctx=Load()), args=[], keywords=[]), BinOp(left=Call(func=Name(id=\"set\", ctx=Load()), args=[], keywords=[]), op=Div(), right=Call(func=Name(id=\"set\", ctx=Load()), args=[], keywords=[]))), ctx=Del())\n",
      "False[62:14:'A']                         # Subscript(value=Constant(value=False), slice=Slice(Constant(value=62), Constant(value=14), Constant(value=\"A\")), ctx=Del())\n",
      "(set())[set():set():set()]               # Subscript(value=Compare(left=Call(func=Name(id=\"set\", ctx=Load()), args=[], keywords=[]), ops=[], comparators=[]), slice=Slice(Compare(left=Call(func=Name(id=\"set\", ctx=Load()), args=[], keywords=[]), ops=[], comparators=[]), Compare(left=Call(func=Name(id=\"set\", ctx=Load()), args=[], keywords=[]), ops=[], comparators=[]), Call(func=Name(id=\"set\", ctx=Load()), args=[], keywords=[])), ctx=Load())\n",
      "\n",
      "<Starred>\n",
      "*T(dTxZ7oJd2IgEAnCjHPfGRsyeQ36hUcbW=qL4arDOYMlS_itF1v5NVKwBk0W9zmXq8upKKMofbL) # Starred(value=Call(func=Name(id='T', ctx=Del()), args=[], keywords=[keyword(arg='dTxZ7oJd2IgEAnCjHPfGRsyeQ36hUcbW', value=Name(id='qL4arDOYMlS_itF1v5NVKwBk0W9zmXq8upKKMofbL', ctx=Load()))]), ctx=Load())\n",
      "*[{set()[:], set(), {set(): set()}, '' << \n",
      "(set(), *set().A)}] # Starred(value=List(elts=[Set(elts=[Subscript(value=Call(func=Name(id=\"set\", ctx=Load()), args=[], keywords=[]), slice=Slice(), ctx=Del()), BoolOp(op=And(), values=[Call(func=Name(id=\"set\", ctx=Load()), args=[], keywords=[])]), Dict(keys=[Call(func=Name(id=\"set\", ctx=Load()), args=[], keywords=[])], values=[Call(func=Name(id=\"set\", ctx=Load()), args=[], keywords=[]), Call(func=Name(id=\"set\", ctx=Load()), args=[], keywords=[]), Call(func=Name(id=\"set\", ctx=Load()), args=[], keywords=[])]), BinOp(left=Constant(value=''), op=LShift(), right=Expr(value=Tuple(elts=[Call(func=Name(id=\"set\", ctx=Load()), args=[], keywords=[]), Starred(value=Attribute(value=Call(func=Name(id=\"set\", ctx=Load()), args=[], keywords=[]), attr='A', ctx=Del()), ctx=Del())], ctx=Load())))])], ctx=Del()), ctx=Del())\n",
      "*~([].s[set() / (set() | set()):] == (set() ** set(), [], [])) # Starred(value=UnaryOp(op=Invert(), operand=Compare(left=Subscript(value=Attribute(value=List(elts=[], ctx=Load()), attr='s', ctx=Load()), slice=Slice(BinOp(left=Call(func=Name(id=\"set\", ctx=Load()), args=[], keywords=[]), op=Div(), right=BinOp(left=Call(func=Name(id=\"set\", ctx=Load()), args=[], keywords=[]), op=BitOr(), right=Call(func=Name(id=\"set\", ctx=Load()), args=[], keywords=[])))), ctx=Load()), ops=[Eq(), GtE()], comparators=[Tuple(elts=[BinOp(left=Call(func=Name(id=\"set\", ctx=Load()), args=[], keywords=[]), op=Pow(), right=Call(func=Name(id=\"set\", ctx=Load()), args=[], keywords=[])), List(elts=[], ctx=Load()), List(elts=[], ctx=Del())], ctx=Del())])), ctx=Del())\n",
      "*set() // set() % set() - set() @ set() * (set() >> set()) # Starred(value=BinOp(left=BinOp(left=BinOp(left=Call(func=Name(id=\"set\", ctx=Load()), args=[], keywords=[]), op=FloorDiv(), right=Call(func=Name(id=\"set\", ctx=Load()), args=[], keywords=[])), op=Mod(), right=Call(func=Name(id=\"set\", ctx=Load()), args=[], keywords=[])), op=Sub(), right=BinOp(left=BinOp(left=Call(func=Name(id=\"set\", ctx=Load()), args=[], keywords=[]), op=MatMult(), right=Call(func=Name(id=\"set\", ctx=Load()), args=[], keywords=[])), op=Mult(), right=BinOp(left=Call(func=Name(id=\"set\", ctx=Load()), args=[], keywords=[]), op=RShift(), right=Call(func=Name(id=\"set\", ctx=Load()), args=[], keywords=[])))), ctx=Del())\n",
      "*None                                    # Starred(value=Constant(value=None), ctx=Load())\n",
      "*991                                     # Starred(value=Constant(value=991), ctx=Load())\n",
      "*+-(set() & set())[set() % J():set() ^ set()][set() - set():set() | set():set()[:]()] + (not -10.7) # Starred(value=BinOp(left=UnaryOp(op=UAdd(), operand=UnaryOp(op=USub(), operand=Subscript(value=Subscript(value=BinOp(left=Call(func=Name(id=\"set\", ctx=Load()), args=[], keywords=[]), op=BitAnd(), right=Call(func=Name(id=\"set\", ctx=Load()), args=[], keywords=[])), slice=Slice(BinOp(left=Call(func=Name(id=\"set\", ctx=Load()), args=[], keywords=[]), op=Mod(), right=Call(func=Name(id='J', ctx=Del()), args=[], keywords=[])), BinOp(left=Call(func=Name(id=\"set\", ctx=Load()), args=[], keywords=[]), op=BitXor(), right=Call(func=Name(id=\"set\", ctx=Load()), args=[], keywords=[]))), ctx=Load()), slice=Slice(BinOp(left=Call(func=Name(id=\"set\", ctx=Load()), args=[], keywords=[]), op=Sub(), right=Call(func=Name(id=\"set\", ctx=Load()), args=[], keywords=[])), BinOp(left=Call(func=Name(id=\"set\", ctx=Load()), args=[], keywords=[]), op=BitOr(), right=Call(func=Name(id=\"set\", ctx=Load()), args=[], keywords=[])), Call(func=Subscript(value=Call(func=Name(id=\"set\", ctx=Load()), args=[], keywords=[]), slice=Slice(), ctx=Del()), args=[], keywords=[])), ctx=Load()))), op=Add(), right=UnaryOp(op=Not(), operand=UnaryOp(op=USub(), operand=Constant(value=10.7)))), ctx=Load())\n",
      "*(False)                                 # Starred(value=BoolOp(op=Or(), values=[Constant(value=False)]), ctx=Load())\n",
      "*True .G5('', D=set(), W=set())          # Starred(value=Call(func=Attribute(value=Constant(value=True), attr='G5', ctx=Del()), args=[Constant(value=\"\")], keywords=[keyword(arg='D', value=Compare(left=Call(func=Name(id=\"set\", ctx=Load()), args=[], keywords=[]), ops=[], comparators=[])), keyword(arg='W', value=Compare(left=Call(func=Name(id=\"set\", ctx=Load()), args=[], keywords=[]), ops=[], comparators=[]))]), ctx=Del())\n",
      "*v                                       # Starred(value=Name(id='v', ctx=Load()), ctx=Load())\n",
      "\n"
     ]
    }
   ],
   "source": [
    "for elt in [ '<Attribute>', '<Subscript>', '<Starred>' ]:\n",
    "    print(elt)\n",
    "    test_samples(PYTHON_AST_ATTRS_GRAMMAR, start_symbol=elt)\n",
    "    print()"
   ]
  },
  {
   "cell_type": "markdown",
   "id": "ac7b4771",
   "metadata": {
    "slideshow": {
     "slide_type": "subslide"
    }
   },
   "source": [
    "### End of Excursion"
   ]
  },
  {
   "cell_type": "markdown",
   "id": "a5bed093",
   "metadata": {
    "slideshow": {
     "slide_type": "subslide"
    }
   },
   "source": [
    "### Excursion: Variable Assignments"
   ]
  },
  {
   "cell_type": "markdown",
   "id": "f8f6c36e",
   "metadata": {
    "slideshow": {
     "slide_type": "fragment"
    }
   },
   "source": [
    "\n",
    "Now for variable assignments. These make things more complex, as we have a restricted set of expressions on the left hand side of an assignment."
   ]
  },
  {
   "cell_type": "code",
   "execution_count": 75,
   "id": "1cadc5fe",
   "metadata": {
    "execution": {
     "iopub.execute_input": "2024-06-30T16:50:50.956323Z",
     "iopub.status.busy": "2024-06-30T16:50:50.956170Z",
     "iopub.status.idle": "2024-06-30T16:50:50.959574Z",
     "shell.execute_reply": "2024-06-30T16:50:50.959135Z"
    },
    "slideshow": {
     "slide_type": "subslide"
    }
   },
   "outputs": [],
   "source": [
    "PYTHON_AST_ASSIGNMENTS_GRAMMAR: Grammar = extend_grammar(PYTHON_AST_ATTRS_GRAMMAR, {\n",
    "    '<start>': [ '<stmt>' ],\n",
    "\n",
    "    '<stmt>': [\n",
    "        '<Assign>', '<AugAssign>',\n",
    "        '<Expr>'\n",
    "    ],\n",
    "\n",
    "    # Assignments\n",
    "    '<Assign>': [\n",
    "        'Assign(targets=<nonempty_lhs_expr_list>, value=<expr><type_comment>?)',\n",
    "    ],\n",
    "    '<type_comment>': [ ', type_comment=<string>' ],\n",
    "    '<AugAssign>': [\n",
    "        'AugAssign(target=<lhs_expr>, op=<operator>, value=<expr>)',\n",
    "    ],\n",
    "\n",
    "    # Lists of left-hand side expressions\n",
    "    # '<lhs_expr_list>': [ '[<lhs_exprs>?]' ],\n",
    "    '<nonempty_lhs_expr_list>': [ '[<lhs_exprs>]' ],\n",
    "    '<lhs_exprs>': [ '<lhs_expr>', '<lhs_exprs>, <lhs_expr>' ],\n",
    "\n",
    "    # On the left-hand side of assignments, we allow a number of structures\n",
    "    '<lhs_expr>': [\n",
    "        '<lhs_Name>',  # Most common\n",
    "        '<lhs_List>', '<lhs_Tuple>',\n",
    "        '<lhs_Attribute>',\n",
    "        '<lhs_Subscript>',\n",
    "        '<lhs_Starred>',\n",
    "    ],\n",
    "\n",
    "    '<lhs_Name>': [ 'Name(id=<identifier>, ctx=Store())', ],\n",
    "\n",
    "    '<lhs_List>': [\n",
    "        'List(elts=<nonempty_lhs_expr_list>, ctx=Store())',\n",
    "    ],\n",
    "    '<lhs_Tuple>': [\n",
    "        'Tuple(elts=<nonempty_lhs_expr_list>, ctx=Store())',\n",
    "    ],\n",
    "    '<lhs_Attribute>': [\n",
    "        'Attribute(value=<lhs_expr>, attr=<identifier>, ctx=Store())',\n",
    "    ],\n",
    "    '<lhs_Subscript>': [\n",
    "        'Subscript(value=<lhs_expr>, slice=<Slice>, ctx=Store())',\n",
    "    ],\n",
    "    '<lhs_Starred>': [\n",
    "        'Starred(value=<lhs_expr>, ctx=Store())',\n",
    "    ],\n",
    "})"
   ]
  },
  {
   "cell_type": "code",
   "execution_count": 76,
   "id": "1c9e96ff",
   "metadata": {
    "execution": {
     "iopub.execute_input": "2024-06-30T16:50:50.961637Z",
     "iopub.status.busy": "2024-06-30T16:50:50.961522Z",
     "iopub.status.idle": "2024-06-30T16:50:50.964286Z",
     "shell.execute_reply": "2024-06-30T16:50:50.963857Z"
    },
    "slideshow": {
     "slide_type": "subslide"
    }
   },
   "outputs": [],
   "source": [
    "assert is_valid_grammar(PYTHON_AST_ASSIGNMENTS_GRAMMAR)"
   ]
  },
  {
   "cell_type": "code",
   "execution_count": 77,
   "id": "79d5c6e3",
   "metadata": {
    "execution": {
     "iopub.execute_input": "2024-06-30T16:50:50.966555Z",
     "iopub.status.busy": "2024-06-30T16:50:50.966394Z",
     "iopub.status.idle": "2024-06-30T16:50:51.534368Z",
     "shell.execute_reply": "2024-06-30T16:50:51.533993Z"
    },
    "slideshow": {
     "slide_type": "subslide"
    }
   },
   "outputs": [
    {
     "name": "stdout",
     "output_type": "stream",
     "text": [
      "<Assign>\n",
      "([U, S, z[:][:]], *o.FQA) = I = (3,)[:]  # Assign(targets=[Tuple(elts=[List(elts=[Name(id='U', ctx=Store()), Name(id='S', ctx=Store()), Subscript(value=Subscript(value=Name(id='z', ctx=Store()), slice=Slice(), ctx=Store()), slice=Slice(), ctx=Store())], ctx=Store()), Attribute(value=Starred(value=Name(id='o', ctx=Store()), ctx=Store()), attr='FQA', ctx=Store())], ctx=Store()), Name(id='I', ctx=Store())], value=Subscript(value=Tuple(elts=[Constant(value=3)], ctx=Del()), slice=Slice(), ctx=Del()))\n",
      "b[set():] = L[:] = i[:][{}:set()] = *\n",
      ".q0DVnL # type: K # Assign(targets=[Subscript(value=Name(id='b', ctx=Store()), slice=Slice(Call(func=Name(id=\"set\", ctx=Load()), args=[], keywords=[])), ctx=Store()), Subscript(value=Name(id='L', ctx=Store()), slice=Slice(), ctx=Store()), Subscript(value=Subscript(value=Name(id='i', ctx=Store()), slice=Slice(), ctx=Store()), slice=Slice(Dict(keys=[], values=[]), Call(func=Name(id=\"set\", ctx=Load()), args=[], keywords=[])), ctx=Store())], value=Starred(value=Attribute(value=Expr(value=BoolOp(op=Or(), values=[])), attr='q0DVnL', ctx=Load()), ctx=Del()), type_comment='K')\n",
      "P[:][set():set():set()] = m[:][:] = N_oX5 # type:  # Assign(targets=[Subscript(value=Subscript(value=Name(id='P', ctx=Store()), slice=Slice(), ctx=Store()), slice=Slice(Call(func=Name(id=\"set\", ctx=Load()), args=[], keywords=[]), Call(func=Name(id=\"set\", ctx=Load()), args=[], keywords=[]), Call(func=Name(id=\"set\", ctx=Load()), args=[], keywords=[])), ctx=Store()), Subscript(value=Subscript(value=Name(id='m', ctx=Store()), slice=Slice(), ctx=Store()), slice=Slice(), ctx=Store())], value=Name(id='N_oX5', ctx=Load()), type_comment=\"\")\n",
      "p[:][set():][not set():set() - set()] = [set(), set()] # type: #1`OUQ- # Assign(targets=[Subscript(value=Subscript(value=Subscript(value=Name(id='p', ctx=Store()), slice=Slice(), ctx=Store()), slice=Slice(Call(func=Name(id=\"set\", ctx=Load()), args=[], keywords=[])), ctx=Store()), slice=Slice(UnaryOp(op=Not(), operand=Call(func=Name(id=\"set\", ctx=Load()), args=[], keywords=[])), BinOp(left=Call(func=Name(id=\"set\", ctx=Load()), args=[], keywords=[]), op=Sub(), right=Call(func=Name(id=\"set\", ctx=Load()), args=[], keywords=[]))), ctx=Store())], value=List(elts=[Call(func=Name(id=\"set\", ctx=Load()), args=[], keywords=[]), Compare(left=Call(func=Name(id=\"set\", ctx=Load()), args=[], keywords=[]), ops=[], comparators=[])], ctx=Del()), type_comment=\"#1`OUQ-\")\n",
      "YcpPj1BY93lr = jMtI(*set()) # type: iM.=!X{(4u# # Assign(targets=[Name(id='YcpPj1BY93lr', ctx=Store())], value=Call(func=Name(id='jMtI', ctx=Del()), args=[Starred(value=Call(func=Name(id=\"set\", ctx=Load()), args=[], keywords=[]), ctx=Load())], keywords=[]), type_comment='iM.=!X{(4u#')\n",
      "C = u = V = h = Zdk = [] # type: b>S     # Assign(targets=[Name(id='C', ctx=Store()), Name(id='u', ctx=Store()), Name(id='V', ctx=Store()), Name(id='h', ctx=Store()), Name(id='Zdk', ctx=Store())], value=List(elts=[], ctx=Load()), type_comment=\"b>S\")\n",
      "H = _ = t = J = ({set()},).K # type: 5s$wu # Assign(targets=[Name(id='H', ctx=Store()), Name(id='_', ctx=Store()), Name(id='t', ctx=Store()), Name(id='J', ctx=Store())], value=Attribute(value=Tuple(elts=[Set(elts=[Call(func=Name(id=\"set\", ctx=Load()), args=[], keywords=[])])], ctx=Load()), attr='K', ctx=Del()), type_comment=\"5s$wu\")\n",
      "B = d = T = (set() / set())[set():] # type: c0^ # Assign(targets=[Name(id='B', ctx=Store()), Name(id='d', ctx=Store()), Name(id='T', ctx=Store())], value=Subscript(value=BinOp(left=Call(func=Name(id=\"set\", ctx=Load()), args=[], keywords=[]), op=Div(), right=Call(func=Name(id=\"set\", ctx=Load()), args=[], keywords=[])), slice=Slice(Call(func=Name(id=\"set\", ctx=Load()), args=[], keywords=[])), ctx=Load()), type_comment='c0^')\n",
      "s = w = y = R = set() | set() >> set() # type: !'GaPe # Assign(targets=[Name(id='s', ctx=Store()), Name(id='w', ctx=Store()), Name(id='y', ctx=Store()), Name(id='R', ctx=Store())], value=BinOp(left=Call(func=Name(id=\"set\", ctx=Load()), args=[], keywords=[]), op=BitOr(), right=BinOp(left=Call(func=Name(id=\"set\", ctx=Load()), args=[], keywords=[]), op=RShift(), right=Call(func=Name(id=\"set\", ctx=Load()), args=[], keywords=[]))), type_comment=\"!'GaPe\")\n",
      "l = (set() ^ set() & set()) % (set() * set() ** set()) # type: @zG # Assign(targets=[Name(id='l', ctx=Store())], value=BinOp(left=BinOp(left=Call(func=Name(id=\"set\", ctx=Load()), args=[], keywords=[]), op=BitXor(), right=BinOp(left=Call(func=Name(id=\"set\", ctx=Load()), args=[], keywords=[]), op=BitAnd(), right=Call(func=Name(id=\"set\", ctx=Load()), args=[], keywords=[]))), op=Mod(), right=BinOp(left=Call(func=Name(id=\"set\", ctx=Load()), args=[], keywords=[]), op=Mult(), right=BinOp(left=Call(func=Name(id=\"set\", ctx=Load()), args=[], keywords=[]), op=Pow(), right=Call(func=Name(id=\"set\", ctx=Load()), args=[], keywords=[])))), type_comment='@zG')\n",
      "\n",
      "<AugAssign>\n",
      "[C[(set() / set()[:]).n:], *(L[set():set():set()],)].S %=  # AugAssign(target=Attribute(value=List(elts=[Subscript(value=Name(id='C', ctx=Store()), slice=Slice(Attribute(value=BinOp(left=Call(func=Name(id=\"set\", ctx=Load()), args=[], keywords=[]), op=Div(), right=Subscript(value=Call(func=Name(id=\"set\", ctx=Load()), args=[], keywords=[]), slice=Slice(), ctx=Load())), attr='n', ctx=Del())), ctx=Store()), Starred(value=Tuple(elts=[Subscript(value=Name(id='L', ctx=Store()), slice=Slice(Call(func=Name(id=\"set\", ctx=Load()), args=[], keywords=[]), Call(func=Name(id=\"set\", ctx=Load()), args=[], keywords=[]), Call(func=Name(id=\"set\", ctx=Load()), args=[], keywords=[])), ctx=Store())], ctx=Store()), ctx=Store())], ctx=Store()), attr='S', ctx=Store()), op=Mod(), value=BoolOp(op=Or(), values=[]))\n",
      "h[:][:][set():set()] <<= *[set(), set()[:]()] # AugAssign(target=Subscript(value=Subscript(value=Subscript(value=Name(id='h', ctx=Store()), slice=Slice(), ctx=Store()), slice=Slice(), ctx=Store()), slice=Slice(Call(func=Name(id=\"set\", ctx=Load()), args=[], keywords=[]), Compare(left=Call(func=Name(id=\"set\", ctx=Load()), args=[], keywords=[]), ops=[], comparators=[])), ctx=Store()), op=LShift(), value=Starred(value=List(elts=[Call(func=Name(id=\"set\", ctx=Load()), args=[], keywords=[]), Call(func=Subscript(value=Call(func=Name(id=\"set\", ctx=Load()), args=[], keywords=[]), slice=Slice(), ctx=Del()), args=[], keywords=[])], ctx=Del()), ctx=Load()))\n",
      "j[set():][set():set()][None:\n",
      "set():~set()] >>= (gFgO,) # AugAssign(target=Subscript(value=Subscript(value=Subscript(value=Name(id='j', ctx=Store()), slice=Slice(Call(func=Name(id=\"set\", ctx=Load()), args=[], keywords=[])), ctx=Store()), slice=Slice(Call(func=Name(id=\"set\", ctx=Load()), args=[], keywords=[]), Call(func=Name(id=\"set\", ctx=Load()), args=[], keywords=[])), ctx=Store()), slice=Slice(Constant(value=None), Expr(value=Call(func=Name(id=\"set\", ctx=Load()), args=[], keywords=[])), UnaryOp(op=Invert(), operand=Call(func=Name(id=\"set\", ctx=Load()), args=[], keywords=[]))), ctx=Store()), op=RShift(), value=Tuple(elts=[Name(id='gFgO', ctx=Del())], ctx=Load()))\n",
      "uE5s3hoYmSlJPAkZ @= {Q7p: {*().p}}       # AugAssign(target=Name(id='uE5s3hoYmSlJPAkZ', ctx=Store()), op=MatMult(), value=Dict(keys=[Name(id='Q7p', ctx=Load())], values=[Set(elts=[Attribute(value=Starred(value=Tuple(elts=[], ctx=Del()), ctx=Del()), attr='p', ctx=Load())])]))\n",
      "O4Ka1 |= [(set() ^ set()) & set() ** set() // (set() * set())] # AugAssign(target=Name(id='O4Ka1', ctx=Store()), op=BitOr(), value=List(elts=[BinOp(left=BinOp(left=Call(func=Name(id=\"set\", ctx=Load()), args=[], keywords=[]), op=BitXor(), right=Call(func=Name(id=\"set\", ctx=Load()), args=[], keywords=[])), op=BitAnd(), right=BinOp(left=BinOp(left=Call(func=Name(id=\"set\", ctx=Load()), args=[], keywords=[]), op=Pow(), right=Call(func=Name(id=\"set\", ctx=Load()), args=[], keywords=[])), op=FloorDiv(), right=BinOp(left=Call(func=Name(id=\"set\", ctx=Load()), args=[], keywords=[]), op=Mult(), right=Call(func=Name(id=\"set\", ctx=Load()), args=[], keywords=[]))))], ctx=Load()))\n",
      "_Gze_CMwfTBiRHvqQDVuL9jXy8Nnx2Ib0crU6tWdfbjH += 9.446 # AugAssign(target=Name(id='_Gze_CMwfTBiRHvqQDVuL9jXy8Nnx2Ib0crU6tWdfbjH', ctx=Store()), op=Add(), value=Constant(value=9.446))\n",
      "r -= True                                # AugAssign(target=Name(id='r', ctx=Store()), op=Sub(), value=Constant(value=True))\n",
      "k *= -(not +60)                          # AugAssign(target=Name(id='k', ctx=Store()), op=Mult(), value=UnaryOp(op=USub(), operand=UnaryOp(op=Not(), operand=UnaryOp(op=UAdd(), operand=Constant(value=60)))))\n",
      "D >>= e().J(w(I=set()), G=set(), Y=set()) # AugAssign(target=Name(id='D', ctx=Store()), op=RShift(), value=Call(func=Attribute(value=Call(func=Name(id='e', ctx=Del()), args=[], keywords=[]), attr='J', ctx=Load()), args=[Call(func=Name(id='w', ctx=Load()), args=[], keywords=[keyword(arg='I', value=Call(func=Name(id=\"set\", ctx=Load()), args=[], keywords=[]))])], keywords=[keyword(arg='G', value=Call(func=Name(id=\"set\", ctx=Load()), args=[], keywords=[])), keyword(arg='Y', value=Call(func=Name(id=\"set\", ctx=Load()), args=[], keywords=[]))]))\n",
      "a += ''                                  # AugAssign(target=Name(id='a', ctx=Store()), op=Add(), value=Constant(value=''))\n",
      "\n"
     ]
    }
   ],
   "source": [
    "for elt in ['<Assign>', '<AugAssign>']:\n",
    "    print(elt)\n",
    "    test_samples(PYTHON_AST_ASSIGNMENTS_GRAMMAR, start_symbol=elt)\n",
    "    print()"
   ]
  },
  {
   "cell_type": "markdown",
   "id": "a4e9fa49",
   "metadata": {
    "slideshow": {
     "slide_type": "subslide"
    }
   },
   "source": [
    "### End of Excursion"
   ]
  },
  {
   "cell_type": "markdown",
   "id": "b09771c4",
   "metadata": {
    "slideshow": {
     "slide_type": "subslide"
    }
   },
   "source": [
    "### Excursion: Statements"
   ]
  },
  {
   "cell_type": "markdown",
   "id": "edd70630",
   "metadata": {
    "slideshow": {
     "slide_type": "fragment"
    }
   },
   "source": [
    "\n",
    "Now for statements. There's quite a lot of these."
   ]
  },
  {
   "cell_type": "code",
   "execution_count": 78,
   "id": "4c417f56",
   "metadata": {
    "execution": {
     "iopub.execute_input": "2024-06-30T16:50:51.536288Z",
     "iopub.status.busy": "2024-06-30T16:50:51.536165Z",
     "iopub.status.idle": "2024-06-30T16:50:51.539950Z",
     "shell.execute_reply": "2024-06-30T16:50:51.539441Z"
    },
    "slideshow": {
     "slide_type": "subslide"
    }
   },
   "outputs": [],
   "source": [
    "PYTHON_AST_STMTS_GRAMMAR: Grammar = extend_grammar(PYTHON_AST_ASSIGNMENTS_GRAMMAR, {\n",
    "    '<start>': [ '<stmt>' ],\n",
    "\n",
    "    '<stmt>': PYTHON_AST_ASSIGNMENTS_GRAMMAR['<stmt>'] + [\n",
    "        '<For>', '<While>', '<If>',\n",
    "        '<Return>', '<Delete>', '<Assert>',\n",
    "        '<Pass>', '<Break>', '<Continue>',\n",
    "        '<With>'\n",
    "    ],\n",
    "\n",
    "    # Control structures\n",
    "    '<For>': [\n",
    "        'For(target=<lhs_expr>, iter=<expr>, body=<nonempty_stmt_list>, orelse=<stmt_list><type_comment>)'\n",
    "    ],\n",
    "    '<stmt_list>': [ '[<stmts>?]' ],\n",
    "    '<nonempty_stmt_list>': [ '[<stmts>]' ],\n",
    "    '<stmts>': [ '<stmt>', '<stmt>, <stmts>' ],\n",
    "\n",
    "    '<While>': [\n",
    "        'While(test=<expr>, body=<nonempty_stmt_list>, orelse=<stmt_list>)'\n",
    "    ],\n",
    "\n",
    "    '<If>': [\n",
    "        'If(test=<expr>, body=<nonempty_stmt_list>, orelse=<stmt_list>)'\n",
    "    ],\n",
    "\n",
    "    '<With>': [\n",
    "        'With(items=<withitem_list>, body=<nonempty_stmt_list><type_comment>?)'\n",
    "    ],\n",
    "    '<withitem_list>': [ '[<withitems>?]' ],\n",
    "    '<withitems>': [ '<withitem>', '<withitems>, <withitem>' ],\n",
    "    '<withitem>': [\n",
    "        'withitem(context_expr=<expr>)',\n",
    "        'withitem(context_expr=<expr>, optional_vars=<lhs_expr>)',\n",
    "    ],\n",
    "\n",
    "    # Other statements\n",
    "    '<Return>': [\n",
    "        'Return()',\n",
    "        'Return(value=<expr>)'\n",
    "    ],\n",
    "    '<Delete>': [\n",
    "        'Delete(targets=<expr_list>)'\n",
    "    ],\n",
    "    '<Assert>': [\n",
    "        'Assert(test=<expr>)',\n",
    "        'Assert(test=<expr>, msg=<expr>)'\n",
    "    ],\n",
    "    '<Pass>': [ 'Pass()'],\n",
    "    '<Break>': [ 'Break()' ],\n",
    "    '<Continue>': [ 'Continue()']\n",
    "\n",
    "    # FIXME: A few more: AsyncFor, AsyncWith, Match, Try, TryStar, With\n",
    "    # Import, ImportFrom, Global, Nonlocal...\n",
    "})"
   ]
  },
  {
   "cell_type": "code",
   "execution_count": 79,
   "id": "c9d85e10",
   "metadata": {
    "execution": {
     "iopub.execute_input": "2024-06-30T16:50:51.541939Z",
     "iopub.status.busy": "2024-06-30T16:50:51.541799Z",
     "iopub.status.idle": "2024-06-30T16:50:51.544043Z",
     "shell.execute_reply": "2024-06-30T16:50:51.543782Z"
    },
    "slideshow": {
     "slide_type": "subslide"
    }
   },
   "outputs": [],
   "source": [
    "assert is_valid_grammar(PYTHON_AST_STMTS_GRAMMAR)"
   ]
  },
  {
   "cell_type": "code",
   "execution_count": 80,
   "id": "fafb4f86",
   "metadata": {
    "execution": {
     "iopub.execute_input": "2024-06-30T16:50:51.545583Z",
     "iopub.status.busy": "2024-06-30T16:50:51.545454Z",
     "iopub.status.idle": "2024-06-30T16:50:55.385258Z",
     "shell.execute_reply": "2024-06-30T16:50:55.384929Z"
    },
    "slideshow": {
     "slide_type": "subslide"
    }
   },
   "outputs": [
    {
     "name": "stdout",
     "output_type": "stream",
     "text": [
      "<Assign>\n",
      "[V, L][:].pzMx7 = {}                     # Assign(targets=[Attribute(value=Subscript(value=List(elts=[Name(id='V', ctx=Store()), Name(id='L', ctx=Store())], ctx=Store()), slice=Slice(), ctx=Store()), attr='pzMx7', ctx=Store())], value=Dict(keys=[], values=[Attribute(value=Compare(left=Name(id='QnD', ctx=Del()), ops=[Is()], comparators=[Call(func=Name(id=\"set\", ctx=Load()), args=[], keywords=[]), Call(func=Name(id=\"set\", ctx=Load()), args=[], keywords=[])]), attr='J', ctx=Del())]))\n",
      "*X[:] = (I[:], _, x) = ()[set():set():set()](set(), set()) # type: ] # Assign(targets=[Starred(value=Subscript(value=Name(id='X', ctx=Store()), slice=Slice(), ctx=Store()), ctx=Store()), Tuple(elts=[Subscript(value=Name(id='I', ctx=Store()), slice=Slice(), ctx=Store()), Name(id='_', ctx=Store()), Name(id='x', ctx=Store())], ctx=Store())], value=Call(func=Subscript(value=Tuple(elts=[], ctx=Del()), slice=Slice(Call(func=Name(id=\"set\", ctx=Load()), args=[], keywords=[]), Call(func=Name(id=\"set\", ctx=Load()), args=[], keywords=[]), Call(func=Name(id=\"set\", ctx=Load()), args=[], keywords=[])), ctx=Load()), args=[Call(func=Name(id=\"set\", ctx=Load()), args=[], keywords=[]), Call(func=Name(id=\"set\", ctx=Load()), args=[], keywords=[])], keywords=[]), type_comment=']')\n",
      "H[:][set():set():set()][+set():] = b[set():set()][set():set()[:]] = 3.32 # type: ] # Assign(targets=[Subscript(value=Subscript(value=Subscript(value=Name(id='H', ctx=Store()), slice=Slice(), ctx=Store()), slice=Slice(Call(func=Name(id=\"set\", ctx=Load()), args=[], keywords=[]), Call(func=Name(id=\"set\", ctx=Load()), args=[], keywords=[]), Call(func=Name(id=\"set\", ctx=Load()), args=[], keywords=[])), ctx=Store()), slice=Slice(UnaryOp(op=UAdd(), operand=Call(func=Name(id=\"set\", ctx=Load()), args=[], keywords=[]))), ctx=Store()), Subscript(value=Subscript(value=Name(id='b', ctx=Store()), slice=Slice(Call(func=Name(id=\"set\", ctx=Load()), args=[], keywords=[]), Call(func=Name(id=\"set\", ctx=Load()), args=[], keywords=[])), ctx=Store()), slice=Slice(Call(func=Name(id=\"set\", ctx=Load()), args=[], keywords=[]), Subscript(value=Call(func=Name(id=\"set\", ctx=Load()), args=[], keywords=[]), slice=Slice(), ctx=Del())), ctx=Store())], value=Constant(value=3.32), type_comment=\"]\")\n",
      "u[set():set():set()][set():set() / set():[]] = \n",
      "*() # type: { # Assign(targets=[Subscript(value=Subscript(value=Name(id='u', ctx=Store()), slice=Slice(Call(func=Name(id=\"set\", ctx=Load()), args=[], keywords=[]), Call(func=Name(id=\"set\", ctx=Load()), args=[], keywords=[]), Call(func=Name(id=\"set\", ctx=Load()), args=[], keywords=[])), ctx=Store()), slice=Slice(Call(func=Name(id=\"set\", ctx=Load()), args=[], keywords=[]), BinOp(left=Call(func=Name(id=\"set\", ctx=Load()), args=[], keywords=[]), op=Div(), right=Call(func=Name(id=\"set\", ctx=Load()), args=[], keywords=[])), List(elts=[], ctx=Del())), ctx=Store())], value=Expr(value=Starred(value=BoolOp(op=Or(), values=[]), ctx=Load())), type_comment='{')\n",
      "j = d = q = o = GkRtG = Rbp2Z # type: M+2% # Assign(targets=[Name(id='j', ctx=Store()), Name(id='d', ctx=Store()), Name(id='q', ctx=Store()), Name(id='o', ctx=Store()), Name(id='GkRtG', ctx=Store())], value=Name(id='Rbp2Z', ctx=Load()), type_comment=\"M+2%\")\n",
      "aS = kd = *[(), {set(), set()}] # type: IF&!p # Assign(targets=[Name(id='aS', ctx=Store()), Name(id='kd', ctx=Store())], value=Starred(value=List(elts=[Tuple(elts=[], ctx=Load()), Set(elts=[Call(func=Name(id=\"set\", ctx=Load()), args=[], keywords=[]), Call(func=Name(id=\"set\", ctx=Load()), args=[], keywords=[])])], ctx=Load()), ctx=Del()), type_comment='IF&!p')\n",
      "e = ((set() @ set()) ** (set() - set())).Wf # type: )$ # Assign(targets=[Name(id='e', ctx=Store())], value=Attribute(value=BinOp(left=BinOp(left=Call(func=Name(id=\"set\", ctx=Load()), args=[], keywords=[]), op=MatMult(), right=Call(func=Name(id=\"set\", ctx=Load()), args=[], keywords=[])), op=Pow(), right=BinOp(left=Call(func=Name(id=\"set\", ctx=Load()), args=[], keywords=[]), op=Sub(), right=Call(func=Name(id=\"set\", ctx=Load()), args=[], keywords=[]))), attr='Wf', ctx=Load()), type_comment=\")$\")\n",
      "i = n = r = g = Z = (set() << set()) // (set() >> set()) # type: c, # Assign(targets=[Name(id='i', ctx=Store()), Name(id='n', ctx=Store()), Name(id='r', ctx=Store()), Name(id='g', ctx=Store()), Name(id='Z', ctx=Store())], value=BinOp(left=BinOp(left=Call(func=Name(id=\"set\", ctx=Load()), args=[], keywords=[]), op=LShift(), right=Call(func=Name(id=\"set\", ctx=Load()), args=[], keywords=[])), op=FloorDiv(), right=BinOp(left=Call(func=Name(id=\"set\", ctx=Load()), args=[], keywords=[]), op=RShift(), right=Call(func=Name(id=\"set\", ctx=Load()), args=[], keywords=[]))), type_comment=\"c,\")\n",
      "Ml_8 = (set() + (set() ^ set())) * (set() & set()) # type: _Ag # Assign(targets=[Name(id='Ml_8', ctx=Store())], value=BinOp(left=BinOp(left=Call(func=Name(id=\"set\", ctx=Load()), args=[], keywords=[]), op=Add(), right=BinOp(left=Call(func=Name(id=\"set\", ctx=Load()), args=[], keywords=[]), op=BitXor(), right=Call(func=Name(id=\"set\", ctx=Load()), args=[], keywords=[]))), op=Mult(), right=BinOp(left=Call(func=Name(id=\"set\", ctx=Load()), args=[], keywords=[]), op=BitAnd(), right=Call(func=Name(id=\"set\", ctx=Load()), args=[], keywords=[]))), type_comment='_Ag')\n",
      "h = v = K = sL5 = None # type: u8?srW    # Assign(targets=[Name(id='h', ctx=Store()), Name(id='v', ctx=Store()), Name(id='K', ctx=Store()), Name(id='sL5', ctx=Store())], value=Constant(value=None), type_comment=\"u8?srW\")\n",
      "\n",
      "<AugAssign>\n",
      "[(*c[:][set():d][():].lQ8DVvkj,), Qy] += \n",
      "False # AugAssign(target=List(elts=[Tuple(elts=[Starred(value=Attribute(value=Subscript(value=Subscript(value=Subscript(value=Name(id='c', ctx=Store()), slice=Slice(), ctx=Store()), slice=Slice(Call(func=Name(id=\"set\", ctx=Load()), args=[], keywords=[]), Name(id='d', ctx=Load())), ctx=Store()), slice=Slice(Compare(left=BoolOp(op=And(), values=[]), ops=[Gt()], comparators=[])), ctx=Store()), attr='lQ8DVvkj', ctx=Store()), ctx=Store())], ctx=Store()), Name(id='Qy', ctx=Store())], ctx=Store()), op=Add(), value=Expr(value=Constant(value=False)))\n",
      "k[:][set():set()][~():*set():{}] >>= set()[:]()[set().O:] / [set()] # AugAssign(target=Subscript(value=Subscript(value=Subscript(value=Name(id='k', ctx=Store()), slice=Slice(), ctx=Store()), slice=Slice(Call(func=Name(id=\"set\", ctx=Load()), args=[], keywords=[]), Call(func=Name(id=\"set\", ctx=Load()), args=[], keywords=[])), ctx=Store()), slice=Slice(UnaryOp(op=Invert(), operand=Tuple(elts=[], ctx=Load())), Starred(value=Call(func=Name(id=\"set\", ctx=Load()), args=[], keywords=[]), ctx=Del()), Dict(keys=[], values=[])), ctx=Store()), op=RShift(), value=BinOp(left=Subscript(value=Call(func=Subscript(value=Call(func=Name(id=\"set\", ctx=Load()), args=[], keywords=[]), slice=Slice(), ctx=Del()), args=[], keywords=[]), slice=Slice(Attribute(value=Call(func=Name(id=\"set\", ctx=Load()), args=[], keywords=[]), attr='O', ctx=Del())), ctx=Load()), op=Div(), right=List(elts=[Call(func=Name(id=\"set\", ctx=Load()), args=[], keywords=[])], ctx=Load())))\n",
      "gBq7H @= uCP3rJUW                        # AugAssign(target=Name(id='gBq7H', ctx=Store()), op=MatMult(), value=Name(id='uCP3rJUW', ctx=Del()))\n",
      "H4X6IEiGm *= {*((set() | set()) % set(),), [(set() ** set())._w]} # AugAssign(target=Name(id='H4X6IEiGm', ctx=Store()), op=Mult(), value=Set(elts=[Starred(value=Tuple(elts=[BinOp(left=BinOp(left=Call(func=Name(id=\"set\", ctx=Load()), args=[], keywords=[]), op=BitOr(), right=Call(func=Name(id=\"set\", ctx=Load()), args=[], keywords=[])), op=Mod(), right=Call(func=Name(id=\"set\", ctx=Load()), args=[], keywords=[]))], ctx=Del()), ctx=Load()), List(elts=[Attribute(value=BinOp(left=Call(func=Name(id=\"set\", ctx=Load()), args=[], keywords=[]), op=Pow(), right=Call(func=Name(id=\"set\", ctx=Load()), args=[], keywords=[])), attr='_w', ctx=Load())], ctx=Del())]))\n",
      "vuZtohx0TazRYSNAdc9lnfp2OK_sb5eFgLMma1nI &= None # AugAssign(target=Name(id='vuZtohx0TazRYSNAdc9lnfp2OK_sb5eFgLMma1nI', ctx=Store()), op=BitAnd(), value=Constant(value=None))\n",
      "Jo ^= 2.506 // +-(35 - (not Y()).R8('/', B=, C=set())) # AugAssign(target=Name(id='Jo', ctx=Store()), op=BitXor(), value=BinOp(left=Constant(value=2.506), op=FloorDiv(), right=UnaryOp(op=UAdd(), operand=UnaryOp(op=USub(), operand=BinOp(left=Constant(value=35), op=Sub(), right=Call(func=Attribute(value=UnaryOp(op=Not(), operand=Call(func=Name(id='Y', ctx=Load()), args=[], keywords=[])), attr='R8', ctx=Load()), args=[Constant(value='/')], keywords=[keyword(arg='B', value=BoolOp(op=Or(), values=[])), keyword(arg='C', value=Call(func=Name(id=\"set\", ctx=Load()), args=[], keywords=[]))]))))))\n",
      "K <<= True << '{'                        # AugAssign(target=Name(id='K', ctx=Store()), op=LShift(), value=BinOp(left=Constant(value=True), op=LShift(), right=Constant(value=\"{\")))\n",
      "m ^= (Z >= set() <= set())               # AugAssign(target=Name(id='m', ctx=Store()), op=BitXor(), value=Compare(left=Compare(left=Name(id='Z', ctx=Load()), ops=[GtE(), LtE(), NotIn()], comparators=[Call(func=Name(id=\"set\", ctx=Load()), args=[], keywords=[]), Call(func=Name(id=\"set\", ctx=Load()), args=[], keywords=[])]), ops=[], comparators=[Name(id='A', ctx=Load()), Name(id='F8', ctx=Del())]))\n",
      "MhvX_Zo &= xG                            # AugAssign(target=Name(id='MhvX_Zo', ctx=Store()), op=BitAnd(), value=Name(id='xG', ctx=Del()))\n",
      "EcHz *= U                                # AugAssign(target=Name(id='EcHz', ctx=Store()), op=Mult(), value=Name(id='U', ctx=Load()))\n",
      "\n",
      "<Expr>\n",
      "                                         # Expr(value=BoolOp(op=Or(), values=[]))\n",
      "\n",
      "*set()[:](set(), j=set(), d=set())[{}:set() ** set()].Z_ # Expr(value=Compare(left=Attribute(value=Expr(value=Starred(value=Subscript(value=Call(func=Subscript(value=Call(func=Name(id=\"set\", ctx=Load()), args=[], keywords=[]), slice=Slice(), ctx=Load()), args=[Call(func=Name(id=\"set\", ctx=Load()), args=[], keywords=[])], keywords=[keyword(arg='j', value=Call(func=Name(id=\"set\", ctx=Load()), args=[], keywords=[])), keyword(arg='d', value=Call(func=Name(id=\"set\", ctx=Load()), args=[], keywords=[]))]), slice=Slice(Dict(keys=[], values=[]), BinOp(left=Call(func=Name(id=\"set\", ctx=Load()), args=[], keywords=[]), op=Pow(), right=Call(func=Name(id=\"set\", ctx=Load()), args=[], keywords=[]))), ctx=Del()), ctx=Del())), attr='Z_', ctx=Del()), ops=[], comparators=[Tuple(elts=[Call(func=Name(id=\"set\", ctx=Load()), args=[], keywords=[]), Set(elts=[Call(func=Name(id=\"set\", ctx=Load()), args=[], keywords=[])]), Name(id='XH', ctx=Del())], ctx=Load())]))\n",
      "2.51                                     # Expr(value=Constant(value=2.51))\n",
      "[not (*((set() + set()) / set() | set()).xZh1, [mtdnNaMG])] # Expr(value=List(elts=[UnaryOp(op=Not(), operand=Tuple(elts=[Starred(value=Attribute(value=BinOp(left=BinOp(left=BinOp(left=Call(func=Name(id=\"set\", ctx=Load()), args=[], keywords=[]), op=Add(), right=Call(func=Name(id=\"set\", ctx=Load()), args=[], keywords=[])), op=Div(), right=Call(func=Name(id=\"set\", ctx=Load()), args=[], keywords=[])), op=BitOr(), right=Call(func=Name(id=\"set\", ctx=Load()), args=[], keywords=[])), attr='xZh1', ctx=Load()), ctx=Load()), List(elts=[Name(id='mtdnNaMG', ctx=Load())], ctx=Load())], ctx=Del()))], ctx=Del()))\n",
      "(set() << set()) % set() @ (set() & set()) * (set() // (set() >> set())) # Expr(value=BinOp(left=BinOp(left=BinOp(left=BinOp(left=Call(func=Name(id=\"set\", ctx=Load()), args=[], keywords=[]), op=LShift(), right=Call(func=Name(id=\"set\", ctx=Load()), args=[], keywords=[])), op=Mod(), right=Call(func=Name(id=\"set\", ctx=Load()), args=[], keywords=[])), op=MatMult(), right=BinOp(left=Call(func=Name(id=\"set\", ctx=Load()), args=[], keywords=[]), op=BitAnd(), right=Call(func=Name(id=\"set\", ctx=Load()), args=[], keywords=[]))), op=Mult(), right=BinOp(left=Call(func=Name(id=\"set\", ctx=Load()), args=[], keywords=[]), op=FloorDiv(), right=BinOp(left=Call(func=Name(id=\"set\", ctx=Load()), args=[], keywords=[]), op=RShift(), right=Call(func=Name(id=\"set\", ctx=Load()), args=[], keywords=[])))))\n",
      "False                                    # Expr(value=Constant(value=False))\n",
      "309                                      # Expr(value=Constant(value=309))\n",
      "+~('' - A03WRPr(None[set()[:]():(-set())[:]:set() ^ set()])) # Expr(value=UnaryOp(op=UAdd(), operand=UnaryOp(op=Invert(), operand=BinOp(left=Constant(value=\"\"), op=Sub(), right=Call(func=Name(id='A03WRPr', ctx=Load()), args=[Subscript(value=Constant(value=None), slice=Slice(Call(func=Subscript(value=Call(func=Name(id=\"set\", ctx=Load()), args=[], keywords=[]), slice=Slice(), ctx=Del()), args=[], keywords=[]), Subscript(value=UnaryOp(op=USub(), operand=Call(func=Name(id=\"set\", ctx=Load()), args=[], keywords=[])), slice=Slice(), ctx=Load()), BinOp(left=Call(func=Name(id=\"set\", ctx=Load()), args=[], keywords=[]), op=BitXor(), right=Call(func=Name(id=\"set\", ctx=Load()), args=[], keywords=[]))), ctx=Del())], keywords=[])))))\n",
      "set().v(set()[:](U=set()), n=set(), E=set(), C=set()) # Expr(value=Call(func=Attribute(value=Call(func=Name(id=\"set\", ctx=Load()), args=[], keywords=[]), attr='v', ctx=Load()), args=[Call(func=Subscript(value=Call(func=Name(id=\"set\", ctx=Load()), args=[], keywords=[]), slice=Slice(), ctx=Load()), args=[], keywords=[keyword(arg='U', value=Call(func=Name(id=\"set\", ctx=Load()), args=[], keywords=[]))])], keywords=[keyword(arg='n', value=Call(func=Name(id=\"set\", ctx=Load()), args=[], keywords=[])), keyword(arg='E', value=Call(func=Name(id=\"set\", ctx=Load()), args=[], keywords=[])), keyword(arg='C', value=Call(func=Name(id=\"set\", ctx=Load()), args=[], keywords=[]))]))\n",
      "True['4':] and 48[767:]                  # Expr(value=BoolOp(op=And(), values=[Subscript(value=Constant(value=True), slice=Slice(Constant(value='4')), ctx=Del()), Subscript(value=Constant(value=48), slice=Slice(Constant(value=767)), ctx=Load())]))\n",
      "\n",
      "<For>\n",
      "for [a.M, N] in (): # type: \n",
      "    for b in set(): # type: \n",
      "        return # For(target=List(elts=[Attribute(value=Name(id='a', ctx=Store()), attr='M', ctx=Store()), Name(id='N', ctx=Store())], ctx=Store()), iter=Tuple(elts=[], ctx=Load()), body=[For(target=Name(id='b', ctx=Store()), iter=Call(func=Name(id=\"set\", ctx=Load()), args=[], keywords=[]), body=[Return()], orelse=[], type_comment=\"\")], orelse=[], type_comment='')\n",
      "for f in : # type: DU\n",
      "    pass\n",
      "    continue\n",
      "    break\n",
      "else:\n",
      "    return\n",
      "    continue # For(target=Name(id='f', ctx=Store()), iter=BoolOp(op=And(), values=[]), body=[Pass(), Continue(), Break()], orelse=[Return(), Continue()], type_comment='DU')\n",
      "for (R,) in p: # type: \n",
      "    return\n",
      "    return\n",
      "else:\n",
      "    while set():\n",
      "        return\n",
      "    return\n",
      "    return # For(target=Tuple(elts=[Name(id='R', ctx=Store())], ctx=Store()), iter=Name(id='p', ctx=Del()), body=[Return(), Return()], orelse=[While(test=Call(func=Name(id=\"set\", ctx=Load()), args=[], keywords=[]), body=[Return()], orelse=[]), Return(), Return()], type_comment=\"\")\n",
      "for *D in B(): # type: %W\n",
      "    return\n",
      "else:\n",
      "    return\n",
      "    return\n",
      "    return # For(target=Starred(value=Name(id='D', ctx=Store()), ctx=Store()), iter=Call(func=Name(id='B', ctx=Load()), args=[], keywords=[]), body=[Return()], orelse=[Return(), Return(), Return()], type_comment=\"%W\")\n",
      "for g[set():set()] in set(): # type: Y\n",
      "    return\n",
      "else:\n",
      "    return # For(target=Subscript(value=Name(id='g', ctx=Store()), slice=Slice(Call(func=Name(id=\"set\", ctx=Load()), args=[], keywords=[]), Call(func=Name(id=\"set\", ctx=Load()), args=[], keywords=[])), ctx=Store()), iter=Compare(left=Call(func=Name(id=\"set\", ctx=Load()), args=[], keywords=[]), ops=[], comparators=[Call(func=Name(id=\"set\", ctx=Load()), args=[], keywords=[])]), body=[Return()], orelse=[Return()], type_comment='Y')\n",
      "for x[:] in set(): # type: Sk'\n",
      "    if set():\n",
      "        return\n",
      "else:\n",
      "    del  # For(target=Subscript(value=Name(id='x', ctx=Store()), slice=Slice(), ctx=Store()), iter=Call(func=Name(id=\"set\", ctx=Load()), args=[], keywords=[]), body=[If(test=Call(func=Name(id=\"set\", ctx=Load()), args=[], keywords=[]), body=[Return()], orelse=[])], orelse=[Delete(targets=[])], type_comment=\"Sk'\")\n",
      "for U in []: # type: :6n\n",
      "    return\n",
      "    return\n",
      "else:\n",
      "    return\n",
      "    return # For(target=Name(id='U', ctx=Store()), iter=List(elts=[], ctx=Del()), body=[Return(), Return()], orelse=[Return(), Return()], type_comment=':6n')\n",
      "for T[set():set():set()] in {}: # type: \n",
      "    assert set() # For(target=Subscript(value=Name(id='T', ctx=Store()), slice=Slice(Call(func=Name(id=\"set\", ctx=Load()), args=[], keywords=[]), Call(func=Name(id=\"set\", ctx=Load()), args=[], keywords=[]), Call(func=Name(id=\"set\", ctx=Load()), args=[], keywords=[])), ctx=Store()), iter=Dict(keys=[Call(func=Name(id=\"set\", ctx=Load()), args=[], keywords=[]), Call(func=Name(id=\"set\", ctx=Load()), args=[], keywords=[])], values=[]), body=[Assert(test=Call(func=Name(id=\"set\", ctx=Load()), args=[], keywords=[]))], orelse=[], type_comment=\"\")\n",
      "for V[set():] in set() ** set(): # type: 6B\n",
      "    return # For(target=Subscript(value=Name(id='V', ctx=Store()), slice=Slice(Call(func=Name(id=\"set\", ctx=Load()), args=[], keywords=[])), ctx=Store()), iter=BinOp(left=Call(func=Name(id=\"set\", ctx=Load()), args=[], keywords=[]), op=Pow(), right=Call(func=Name(id=\"set\", ctx=Load()), args=[], keywords=[])), body=[Return()], orelse=[], type_comment=\"6B\")\n",
      "for H[:][:] in (~set())[set():]: # type: C\n",
      "    return # For(target=Subscript(value=Subscript(value=Name(id='H', ctx=Store()), slice=Slice(), ctx=Store()), slice=Slice(), ctx=Store()), iter=Subscript(value=UnaryOp(op=Invert(), operand=Call(func=Name(id=\"set\", ctx=Load()), args=[], keywords=[])), slice=Slice(Call(func=Name(id=\"set\", ctx=Load()), args=[], keywords=[])), ctx=Load()), body=[Return()], orelse=[], type_comment='C')\n",
      "\n",
      "<While>\n",
      "while {}:\n",
      "    while False:\n",
      "        break\n",
      "        return\n",
      "        pass\n",
      "    else:\n",
      "        continue\n",
      "    with : # type: \n",
      "        a = set()\n",
      "        del  # While(test=Dict(keys=[Name(id='d4', ctx=Del())], values=[]), body=[While(test=Constant(value=False), body=[Break(), Return(), Pass()], orelse=[Continue()]), With(items=[], body=[Assign(targets=[Name(id='a', ctx=Store())], value=Call(func=Name(id=\"set\", ctx=Load()), args=[], keywords=[])), Delete(targets=[])], type_comment='')], orelse=[])\n",
      "while set() % set():\n",
      "    if set():\n",
      "        return\n",
      "else:\n",
      "    Y |= set()\n",
      "    return # While(test=BinOp(left=Call(func=Name(id=\"set\", ctx=Load()), args=[], keywords=[]), op=Mod(), right=Call(func=Name(id=\"set\", ctx=Load()), args=[], keywords=[])), body=[If(test=Call(func=Name(id=\"set\", ctx=Load()), args=[], keywords=[]), body=[Return()], orelse=[])], orelse=[AugAssign(target=Name(id='Y', ctx=Store()), op=BitOr(), value=Call(func=Name(id=\"set\", ctx=Load()), args=[], keywords=[])), Return()])\n",
      "while not i():\n",
      "    assert set().n\n",
      "else:\n",
      "    for g in set(): # type: \n",
      "        return\n",
      "    return\n",
      "    set()\n",
      "    return # While(test=UnaryOp(op=Not(), operand=Call(func=Name(id='i', ctx=Load()), args=[], keywords=[])), body=[Assert(test=Attribute(value=Call(func=Name(id=\"set\", ctx=Load()), args=[], keywords=[]), attr='n', ctx=Del()))], orelse=[For(target=Name(id='g', ctx=Store()), iter=Call(func=Name(id=\"set\", ctx=Load()), args=[], keywords=[]), body=[Return()], orelse=[], type_comment=\"\"), Return(), Expr(value=Call(func=Name(id=\"set\", ctx=Load()), args=[], keywords=[])), Return()])\n",
      "while \n",
      "[set(), set()]:\n",
      "    assert (())[[]:], *()\n",
      "else:\n",
      "    return set() or set() # While(test=Expr(value=List(elts=[Call(func=Name(id=\"set\", ctx=Load()), args=[], keywords=[]), Call(func=Name(id=\"set\", ctx=Load()), args=[], keywords=[])], ctx=Load())), body=[Assert(test=Subscript(value=Compare(left=Tuple(elts=[], ctx=Del()), ops=[], comparators=[]), slice=Slice(List(elts=[], ctx=Del())), ctx=Load()), msg=Starred(value=Tuple(elts=[], ctx=Load()), ctx=Load()))], orelse=[Return(value=BoolOp(op=Or(), values=[Call(func=Name(id=\"set\", ctx=Load()), args=[], keywords=[]), Call(func=Name(id=\"set\", ctx=Load()), args=[], keywords=[])]))])\n",
      "while {set()[:]}:\n",
      "    F >>= set()\n",
      "    U += set()\n",
      "    return\n",
      "else:\n",
      "    R.p //= set().b # While(test=Set(elts=[Subscript(value=Call(func=Name(id=\"set\", ctx=Load()), args=[], keywords=[]), slice=Slice(), ctx=Del())]), body=[AugAssign(target=Name(id='F', ctx=Store()), op=RShift(), value=Call(func=Name(id=\"set\", ctx=Load()), args=[], keywords=[])), AugAssign(target=Name(id='U', ctx=Store()), op=Add(), value=Call(func=Name(id=\"set\", ctx=Load()), args=[], keywords=[])), Return()], orelse=[AugAssign(target=Attribute(value=Name(id='R', ctx=Store()), attr='p', ctx=Store()), op=FloorDiv(), value=Attribute(value=Call(func=Name(id=\"set\", ctx=Load()), args=[], keywords=[]), attr='b', ctx=Load()))])\n",
      "while *(set() ^ set()) ** set() & set() - set():\n",
      "    m *= set()\n",
      "    return\n",
      "    return\n",
      "else:\n",
      "    V @= set() # While(test=Starred(value=BinOp(left=BinOp(left=BinOp(left=Call(func=Name(id=\"set\", ctx=Load()), args=[], keywords=[]), op=BitXor(), right=Call(func=Name(id=\"set\", ctx=Load()), args=[], keywords=[])), op=Pow(), right=Call(func=Name(id=\"set\", ctx=Load()), args=[], keywords=[])), op=BitAnd(), right=BinOp(left=Call(func=Name(id=\"set\", ctx=Load()), args=[], keywords=[]), op=Sub(), right=Call(func=Name(id=\"set\", ctx=Load()), args=[], keywords=[]))), ctx=Del()), body=[AugAssign(target=Name(id='m', ctx=Store()), op=Mult(), value=Call(func=Name(id=\"set\", ctx=Load()), args=[], keywords=[])), Return(), Return()], orelse=[AugAssign(target=Name(id='V', ctx=Store()), op=MatMult(), value=Call(func=Name(id=\"set\", ctx=Load()), args=[], keywords=[]))])\n",
      "while None:\n",
      "    [N] <<= set()\n",
      "    E += set()\n",
      "    for G in set(): # type: \n",
      "        return\n",
      "else:\n",
      "    *(q, B)[set():-set()] /= +5 # While(test=Constant(value=None), body=[AugAssign(target=List(elts=[Name(id='N', ctx=Store())], ctx=Store()), op=LShift(), value=Call(func=Name(id=\"set\", ctx=Load()), args=[], keywords=[])), AugAssign(target=Name(id='E', ctx=Store()), op=Add(), value=Call(func=Name(id=\"set\", ctx=Load()), args=[], keywords=[])), For(target=Name(id='G', ctx=Store()), iter=Call(func=Name(id=\"set\", ctx=Load()), args=[], keywords=[]), body=[Return()], orelse=[], type_comment=\"\")], orelse=[AugAssign(target=Subscript(value=Starred(value=Tuple(elts=[Name(id='q', ctx=Store()), Name(id='B', ctx=Store())], ctx=Store()), ctx=Store()), slice=Slice(Call(func=Name(id=\"set\", ctx=Load()), args=[], keywords=[]), UnaryOp(op=USub(), operand=Call(func=Name(id=\"set\", ctx=Load()), args=[], keywords=[]))), ctx=Store()), op=Div(), value=UnaryOp(op=UAdd(), operand=Constant(value=5)))])\n",
      "while 97.1:\n",
      "    _ = set()\n",
      "    with :\n",
      "        return\n",
      "    return # While(test=Constant(value=97.1), body=[Assign(targets=[Name(id='_', ctx=Store())], value=Call(func=Name(id=\"set\", ctx=Load()), args=[], keywords=[])), With(items=[], body=[Return()]), Return()], orelse=[])\n",
      "while set()[:]():\n",
      "    return\n",
      "    return\n",
      "else:\n",
      "    Q = set()\n",
      "    return\n",
      "    return # While(test=Call(func=Subscript(value=Call(func=Name(id=\"set\", ctx=Load()), args=[], keywords=[]), slice=Slice(), ctx=Del()), args=[], keywords=[]), body=[Return(), Return()], orelse=[Assign(targets=[Name(id='Q', ctx=Store())], value=Call(func=Name(id=\"set\", ctx=Load()), args=[], keywords=[])), Return(), Return()])\n",
      "while (~set())[set():v():set()]:\n",
      "    w = set()\n",
      "else:\n",
      "    t = f() # While(test=Subscript(value=BoolOp(op=And(), values=[UnaryOp(op=Invert(), operand=Call(func=Name(id=\"set\", ctx=Load()), args=[], keywords=[]))]), slice=Slice(Call(func=Name(id=\"set\", ctx=Load()), args=[], keywords=[]), Call(func=Name(id='v', ctx=Del()), args=[], keywords=[]), Call(func=Name(id=\"set\", ctx=Load()), args=[], keywords=[])), ctx=Del()), body=[Assign(targets=[Name(id='w', ctx=Store())], value=Call(func=Name(id=\"set\", ctx=Load()), args=[], keywords=[]))], orelse=[Assign(targets=[Name(id='t', ctx=Store())], value=Call(func=Name(id='f', ctx=Del()), args=[], keywords=[]))])\n",
      "\n",
      "<If>\n",
      "if ()[set():(set()).B:\n",
      "set()]:\n",
      "    S = Q = {} # If(test=Subscript(value=BoolOp(op=Or(), values=[]), slice=Slice(Call(func=Name(id=\"set\", ctx=Load()), args=[], keywords=[]), Attribute(value=Compare(left=Call(func=Name(id=\"set\", ctx=Load()), args=[], keywords=[]), ops=[], comparators=[]), attr='B', ctx=Del()), Expr(value=Call(func=Name(id=\"set\", ctx=Load()), args=[], keywords=[]))), ctx=Load()), body=[Assign(targets=[Name(id='S', ctx=Store()), Name(id='Q', ctx=Store())], value=Dict(keys=[], values=[]))], orelse=[])\n",
      "if C:\n",
      "    T[:] /= *set()\n",
      "    pass\n",
      "    continue\n",
      "else:\n",
      "    return\n",
      "    with :\n",
      "        return\n",
      "    return\n",
      "    break # If(test=Name(id='C', ctx=Del()), body=[AugAssign(target=Subscript(value=Name(id='T', ctx=Store()), slice=Slice(), ctx=Store()), op=Div(), value=Starred(value=Call(func=Name(id=\"set\", ctx=Load()), args=[], keywords=[]), ctx=Del())), Pass(), Continue()], orelse=[Return(), With(items=[], body=[Return()]), Return(), Break()])\n",
      "if set() % ():\n",
      "    set()[:]()\n",
      "    return\n",
      "    return\n",
      "elif [set(), set()]:\n",
      "    return\n",
      "else:\n",
      "    return\n",
      "    return # If(test=BinOp(left=Call(func=Name(id=\"set\", ctx=Load()), args=[], keywords=[]), op=Mod(), right=Tuple(elts=[], ctx=Load())), body=[Expr(value=Call(func=Subscript(value=Call(func=Name(id=\"set\", ctx=Load()), args=[], keywords=[]), slice=Slice(), ctx=Del()), args=[], keywords=[])), Return(), Return()], orelse=[If(test=List(elts=[Call(func=Name(id=\"set\", ctx=Load()), args=[], keywords=[]), Call(func=Name(id=\"set\", ctx=Load()), args=[], keywords=[])], ctx=Del()), body=[Return()], orelse=[Return(), Return()])])\n",
      "if not 189:\n",
      "    del mBbQXt0\n",
      "else:\n",
      "    while ():\n",
      "        return\n",
      "        return\n",
      "    else:\n",
      "        return\n",
      "        return\n",
      "    assert {[set(), *set()]} # If(test=UnaryOp(op=Not(), operand=Constant(value=189)), body=[Delete(targets=[Name(id='mBbQXt0', ctx=Load())])], orelse=[While(test=Tuple(elts=[], ctx=Del()), body=[Return(), Return()], orelse=[Return(), Return()]), Assert(test=Set(elts=[List(elts=[Call(func=Name(id=\"set\", ctx=Load()), args=[], keywords=[]), Starred(value=Call(func=Name(id=\"set\", ctx=Load()), args=[], keywords=[]), ctx=Load())], ctx=Load())]))])\n",
      "if (set() >> set()).n:\n",
      "    for M in set(): # type: \n",
      "        return\n",
      "    return\n",
      "    return\n",
      "else:\n",
      "    return\n",
      "    return\n",
      "    return # If(test=Attribute(value=BinOp(left=Call(func=Name(id=\"set\", ctx=Load()), args=[], keywords=[]), op=RShift(), right=Call(func=Name(id=\"set\", ctx=Load()), args=[], keywords=[])), attr='n', ctx=Load()), body=[For(target=Name(id='M', ctx=Store()), iter=Call(func=Name(id=\"set\", ctx=Load()), args=[], keywords=[]), body=[Return()], orelse=[], type_comment=\"\"), Return(), Return()], orelse=[Return(), Return(), Return()])\n",
      "if (set() ^ set()) ** ((set() - set()) // (set() & set())):\n",
      "    return\n",
      "    return\n",
      "else:\n",
      "    assert set() @ set(), set() # If(test=BinOp(left=BinOp(left=Call(func=Name(id=\"set\", ctx=Load()), args=[], keywords=[]), op=BitXor(), right=Call(func=Name(id=\"set\", ctx=Load()), args=[], keywords=[])), op=Pow(), right=BinOp(left=BinOp(left=Call(func=Name(id=\"set\", ctx=Load()), args=[], keywords=[]), op=Sub(), right=Call(func=Name(id=\"set\", ctx=Load()), args=[], keywords=[])), op=FloorDiv(), right=BinOp(left=Call(func=Name(id=\"set\", ctx=Load()), args=[], keywords=[]), op=BitAnd(), right=Call(func=Name(id=\"set\", ctx=Load()), args=[], keywords=[])))), body=[Return(), Return()], orelse=[Assert(test=BinOp(left=Call(func=Name(id=\"set\", ctx=Load()), args=[], keywords=[]), op=MatMult(), right=Call(func=Name(id=\"set\", ctx=Load()), args=[], keywords=[])), msg=Call(func=Name(id=\"set\", ctx=Load()), args=[], keywords=[]))])\n",
      "if 3.54:\n",
      "    D += set()\n",
      "    return\n",
      "    return\n",
      "else:\n",
      "    return set() * (set() << set()) # If(test=Constant(value=3.540), body=[AugAssign(target=Name(id='D', ctx=Store()), op=Add(), value=Call(func=Name(id=\"set\", ctx=Load()), args=[], keywords=[])), Return(), Return()], orelse=[Return(value=BinOp(left=Call(func=Name(id=\"set\", ctx=Load()), args=[], keywords=[]), op=Mult(), right=BinOp(left=Call(func=Name(id=\"set\", ctx=Load()), args=[], keywords=[]), op=LShift(), right=Call(func=Name(id=\"set\", ctx=Load()), args=[], keywords=[]))))])\n",
      "if True:\n",
      "    p.E += set()\n",
      "    z ^= set()\n",
      "    return\n",
      "else:\n",
      "    *[c] |= +set() # If(test=Constant(value=True), body=[AugAssign(target=Attribute(value=Name(id='p', ctx=Store()), attr='E', ctx=Store()), op=Add(), value=Call(func=Name(id=\"set\", ctx=Load()), args=[], keywords=[])), AugAssign(target=Name(id='z', ctx=Store()), op=BitXor(), value=Call(func=Name(id=\"set\", ctx=Load()), args=[], keywords=[])), Return()], orelse=[AugAssign(target=Starred(value=List(elts=[Name(id='c', ctx=Store())], ctx=Store()), ctx=Store()), op=BitOr(), value=UnaryOp(op=UAdd(), operand=Call(func=Name(id=\"set\", ctx=Load()), args=[], keywords=[])))])\n",
      "if xd():\n",
      "    with :\n",
      "        return\n",
      "    return\n",
      "else:\n",
      "    W = set() # type:  # If(test=Call(func=Name(id='xd', ctx=Del()), args=[], keywords=[]), body=[With(items=[], body=[Return()]), Return()], orelse=[Assign(targets=[Name(id='W', ctx=Store())], value=Call(func=Name(id=\"set\", ctx=Load()), args=[], keywords=[]), type_comment='')])\n",
      "if -~'WK':\n",
      "    with : # type: \n",
      "        return\n",
      "else:\n",
      "    with :\n",
      "        return\n",
      "    return # If(test=UnaryOp(op=USub(), operand=UnaryOp(op=Invert(), operand=Constant(value=\"WK\"))), body=[With(items=[], body=[Return()], type_comment='')], orelse=[With(items=[], body=[Return()]), Return()])\n",
      "\n",
      "<Return>\n",
      "return                                   # Return()\n",
      "return *\n",
      "not {}[None is not set():](j={set(), [], set()[:]}) # Return(value=Call(func=Subscript(value=Starred(value=Expr(value=UnaryOp(op=Not(), operand=Dict(keys=[], values=[]))), ctx=Del()), slice=Slice(Compare(left=Constant(value=None), ops=[IsNot()], comparators=[Call(func=Name(id=\"set\", ctx=Load()), args=[], keywords=[]), Call(func=Name(id=\"set\", ctx=Load()), args=[], keywords=[])])), ctx=Del()), args=[], keywords=[keyword(arg='j', value=BoolOp(op=Or(), values=[Set(elts=[Call(func=Name(id=\"set\", ctx=Load()), args=[], keywords=[]), List(elts=[], ctx=Del()), Subscript(value=Call(func=Name(id=\"set\", ctx=Load()), args=[], keywords=[]), slice=Slice(), ctx=Load())])]))]))\n",
      "return xv0d8WfnL4cOlRJbAHmUhPzruj3VoZIsx7SK6w2Yt9DEXkQN5_pyTiGBaFMCgq1e6 # Return(value=Name(id='xv0d8WfnL4cOlRJbAHmUhPzruj3VoZIsx7SK6w2Yt9DEXkQN5_pyTiGBaFMCgq1e6', ctx=Del()))\n",
      "return ([set() | set(), set() * set(), *set() & (set() ^ set())].Y << (ZU,),).r # Return(value=Attribute(value=Tuple(elts=[BinOp(left=Attribute(value=List(elts=[BinOp(left=Call(func=Name(id=\"set\", ctx=Load()), args=[], keywords=[]), op=BitOr(), right=Call(func=Name(id=\"set\", ctx=Load()), args=[], keywords=[])), BinOp(left=Call(func=Name(id=\"set\", ctx=Load()), args=[], keywords=[]), op=Mult(), right=Call(func=Name(id=\"set\", ctx=Load()), args=[], keywords=[])), Starred(value=BinOp(left=Call(func=Name(id=\"set\", ctx=Load()), args=[], keywords=[]), op=BitAnd(), right=BinOp(left=Call(func=Name(id=\"set\", ctx=Load()), args=[], keywords=[]), op=BitXor(), right=Call(func=Name(id=\"set\", ctx=Load()), args=[], keywords=[]))), ctx=Load())], ctx=Load()), attr='Y', ctx=Load()), op=LShift(), right=Tuple(elts=[Name(id='ZU', ctx=Load())], ctx=Load()))], ctx=Del()), attr='r', ctx=Del()))\n",
      "return (True + False) @ (set() // set()) / (set() % set() - (set() ** set() >> (set() >> set()))) # Return(value=BinOp(left=BinOp(left=BinOp(left=Constant(value=True), op=Add(), right=Constant(value=False)), op=MatMult(), right=BinOp(left=Call(func=Name(id=\"set\", ctx=Load()), args=[], keywords=[]), op=FloorDiv(), right=Call(func=Name(id=\"set\", ctx=Load()), args=[], keywords=[]))), op=Div(), right=BinOp(left=BinOp(left=Call(func=Name(id=\"set\", ctx=Load()), args=[], keywords=[]), op=Mod(), right=Call(func=Name(id=\"set\", ctx=Load()), args=[], keywords=[])), op=Sub(), right=BinOp(left=BinOp(left=Call(func=Name(id=\"set\", ctx=Load()), args=[], keywords=[]), op=Pow(), right=Call(func=Name(id=\"set\", ctx=Load()), args=[], keywords=[])), op=RShift(), right=BinOp(left=Call(func=Name(id=\"set\", ctx=Load()), args=[], keywords=[]), op=RShift(), right=Call(func=Name(id=\"set\", ctx=Load()), args=[], keywords=[]))))))\n",
      "return 45                                # Return(value=Constant(value=45))\n",
      "return +-None[K():s()][False:h():set()]  # Return(value=UnaryOp(op=UAdd(), operand=UnaryOp(op=USub(), operand=Subscript(value=Subscript(value=Constant(value=None), slice=Slice(Call(func=Name(id='K', ctx=Load()), args=[], keywords=[]), Call(func=Name(id='s', ctx=Del()), args=[], keywords=[])), ctx=Load()), slice=Slice(Constant(value=False), Call(func=Name(id='h', ctx=Del()), args=[], keywords=[]), Call(func=Name(id=\"set\", ctx=Load()), args=[], keywords=[])), ctx=Load()))))\n",
      "return 6073.8                            # Return(value=Constant(value=6073.8))\n",
      "return ''                                # Return(value=Constant(value=''))\n",
      "return ~(set()).f((set()), set(), O=set(), C=set(), W=set()) # Return(value=BoolOp(op=And(), values=[UnaryOp(op=Invert(), operand=Call(func=Attribute(value=Compare(left=Call(func=Name(id=\"set\", ctx=Load()), args=[], keywords=[]), ops=[], comparators=[]), attr='f', ctx=Del()), args=[Compare(left=Compare(left=Call(func=Name(id=\"set\", ctx=Load()), args=[], keywords=[]), ops=[], comparators=[]), ops=[], comparators=[]), Compare(left=Call(func=Name(id=\"set\", ctx=Load()), args=[], keywords=[]), ops=[], comparators=[])], keywords=[keyword(arg='O', value=Call(func=Name(id=\"set\", ctx=Load()), args=[], keywords=[])), keyword(arg='C', value=Call(func=Name(id=\"set\", ctx=Load()), args=[], keywords=[])), keyword(arg='W', value=Call(func=Name(id=\"set\", ctx=Load()), args=[], keywords=[]))]))]))\n",
      "\n",
      "<Delete>\n",
      "del (not k) - \n",
      "set().eH1zDsLajRSO4ZKkTvgqi9PblMJ_pectBUY8xd7nwmF5VEurAGfQ06yoNhWCX2I3O92 # Delete(targets=[BinOp(left=UnaryOp(op=Not(), operand=Name(id='k', ctx=Del())), op=Sub(), right=Expr(value=Attribute(value=Call(func=Name(id=\"set\", ctx=Load()), args=[], keywords=[]), attr='eH1zDsLajRSO4ZKkTvgqi9PblMJ_pectBUY8xd7nwmF5VEurAGfQ06yoNhWCX2I3O92', ctx=Del())))])\n",
      "del                                      # Delete(targets=[])\n",
      "del *([set(), set(), ()] > set()[:]), {set()[:](set()): G}, (870,) # Delete(targets=[Starred(value=Compare(left=List(elts=[Call(func=Name(id=\"set\", ctx=Load()), args=[], keywords=[]), Call(func=Name(id=\"set\", ctx=Load()), args=[], keywords=[]), Tuple(elts=[], ctx=Load())], ctx=Del()), ops=[Gt()], comparators=[Subscript(value=Call(func=Name(id=\"set\", ctx=Load()), args=[], keywords=[]), slice=Slice(), ctx=Load()), Subscript(value=Name(id='R', ctx=Load()), slice=Slice(), ctx=Del())]), ctx=Load()), Dict(keys=[Call(func=Subscript(value=Call(func=Name(id=\"set\", ctx=Load()), args=[], keywords=[]), slice=Slice(), ctx=Del()), args=[Call(func=Name(id=\"set\", ctx=Load()), args=[], keywords=[])], keywords=[])], values=[Name(id='G', ctx=Load())]), Tuple(elts=[BoolOp(op=Or(), values=[Constant(value=870)])], ctx=Del())])\n",
      "del *set() & set(), {set()}, [set(), set(), set() + set(), *set()].lg # Delete(targets=[Starred(value=BinOp(left=Call(func=Name(id=\"set\", ctx=Load()), args=[], keywords=[]), op=BitAnd(), right=Call(func=Name(id=\"set\", ctx=Load()), args=[], keywords=[])), ctx=Del()), Set(elts=[Call(func=Name(id=\"set\", ctx=Load()), args=[], keywords=[])]), Attribute(value=List(elts=[Call(func=Name(id=\"set\", ctx=Load()), args=[], keywords=[]), Call(func=Name(id=\"set\", ctx=Load()), args=[], keywords=[]), BinOp(left=Call(func=Name(id=\"set\", ctx=Load()), args=[], keywords=[]), op=Add(), right=Call(func=Name(id=\"set\", ctx=Load()), args=[], keywords=[])), Starred(value=Call(func=Name(id=\"set\", ctx=Load()), args=[], keywords=[]), ctx=Load())], ctx=Load()), attr='lg', ctx=Load())])\n",
      "del set() * set() // (set() % set() ** set()) << (set() | set()) @ (set() ^ set()) # Delete(targets=[BinOp(left=BinOp(left=BinOp(left=Call(func=Name(id=\"set\", ctx=Load()), args=[], keywords=[]), op=Mult(), right=Call(func=Name(id=\"set\", ctx=Load()), args=[], keywords=[])), op=FloorDiv(), right=BinOp(left=Call(func=Name(id=\"set\", ctx=Load()), args=[], keywords=[]), op=Mod(), right=BinOp(left=Call(func=Name(id=\"set\", ctx=Load()), args=[], keywords=[]), op=Pow(), right=Call(func=Name(id=\"set\", ctx=Load()), args=[], keywords=[])))), op=LShift(), right=BinOp(left=BinOp(left=Call(func=Name(id=\"set\", ctx=Load()), args=[], keywords=[]), op=BitOr(), right=Call(func=Name(id=\"set\", ctx=Load()), args=[], keywords=[])), op=MatMult(), right=BinOp(left=Call(func=Name(id=\"set\", ctx=Load()), args=[], keywords=[]), op=BitXor(), right=Call(func=Name(id=\"set\", ctx=Load()), args=[], keywords=[]))))])\n",
      "del None, (~(set() / set()[:]()))[set():S()][+-(set().M() >> set()[:]):], '', False # Delete(targets=[Constant(value=None), Subscript(value=Subscript(value=UnaryOp(op=Invert(), operand=BinOp(left=Call(func=Name(id=\"set\", ctx=Load()), args=[], keywords=[]), op=Div(), right=Call(func=Subscript(value=Call(func=Name(id=\"set\", ctx=Load()), args=[], keywords=[]), slice=Slice(), ctx=Del()), args=[], keywords=[]))), slice=Slice(Call(func=Name(id=\"set\", ctx=Load()), args=[], keywords=[]), Call(func=Name(id='S', ctx=Del()), args=[], keywords=[])), ctx=Load()), slice=Slice(UnaryOp(op=UAdd(), operand=UnaryOp(op=USub(), operand=BinOp(left=Call(func=Attribute(value=Call(func=Name(id=\"set\", ctx=Load()), args=[], keywords=[]), attr='M', ctx=Load()), args=[], keywords=[]), op=RShift(), right=Subscript(value=Call(func=Name(id=\"set\", ctx=Load()), args=[], keywords=[]), slice=Slice(), ctx=Load()))))), ctx=Del()), Constant(value=''), Constant(value=False)])\n",
      "del 6652.9                               # Delete(targets=[Constant(value=6652.9)])\n",
      "del True and 'XG2|!d'['':]['fnD':None:N()] # Delete(targets=[BoolOp(op=And(), values=[Constant(value=True), Subscript(value=Subscript(value=Constant(value=\"XG2|!d\"), slice=Slice(Constant(value=\"\")), ctx=Load()), slice=Slice(Constant(value=\"fnD\"), Constant(value=None), Compare(left=Call(func=Name(id='N', ctx=Load()), args=[], keywords=[]), ops=[], comparators=[Call(func=Name(id=\"set\", ctx=Load()), args=[], keywords=[])])), ctx=Load())])])\n",
      "del Q(u=set()), v(set(), V=set(), W=set(), y=set()) # Delete(targets=[Call(func=Name(id='Q', ctx=Load()), args=[], keywords=[keyword(arg='u', value=Call(func=Name(id=\"set\", ctx=Load()), args=[], keywords=[]))]), Call(func=Name(id='v', ctx=Del()), args=[Call(func=Name(id=\"set\", ctx=Load()), args=[], keywords=[])], keywords=[keyword(arg='V', value=Call(func=Name(id=\"set\", ctx=Load()), args=[], keywords=[])), keyword(arg='W', value=Call(func=Name(id=\"set\", ctx=Load()), args=[], keywords=[])), keyword(arg='y', value=Call(func=Name(id=\"set\", ctx=Load()), args=[], keywords=[]))])])\n",
      "del X, x                                 # Delete(targets=[Name(id='X', ctx=Load()), Name(id='x', ctx=Load())])\n",
      "\n",
      "<Assert>\n",
      "assert *[3.589].Ir                       # Assert(test=Attribute(value=Starred(value=List(elts=[Constant(value=3.589)], ctx=Del()), ctx=Load()), attr='Ir', ctx=Load()))\n",
      "assert \n",
      ", eSQD3uB78giRhc2nmLxoUVYEs_pvHKXefqP6Rxd((set(),), fI0dA5OCbjaNZJ4wyltTWz19FGkM) # Assert(test=Expr(value=BoolOp(op=And(), values=[])), msg=Call(func=Name(id='eSQD3uB78giRhc2nmLxoUVYEs_pvHKXefqP6Rxd', ctx=Del()), args=[Tuple(elts=[Call(func=Name(id=\"set\", ctx=Load()), args=[], keywords=[])], ctx=Load()), Name(id='fI0dA5OCbjaNZJ4wyltTWz19FGkM', ctx=Load())], keywords=[]))\n",
      "assert {set()[:]: set()}, (()) << (not set())[set():] # Assert(test=Dict(keys=[Subscript(value=Call(func=Name(id=\"set\", ctx=Load()), args=[], keywords=[]), slice=Slice(), ctx=Del()), Call(func=Name(id=\"set\", ctx=Load()), args=[], keywords=[]), Attribute(value=Call(func=Name(id=\"set\", ctx=Load()), args=[], keywords=[]), attr='_', ctx=Del())], values=[Call(func=Name(id=\"set\", ctx=Load()), args=[], keywords=[])]), msg=BinOp(left=Compare(left=Tuple(elts=[], ctx=Del()), ops=[], comparators=[Call(func=Name(id=\"set\", ctx=Load()), args=[], keywords=[])]), op=LShift(), right=Subscript(value=UnaryOp(op=Not(), operand=Call(func=Name(id=\"set\", ctx=Load()), args=[], keywords=[])), slice=Slice(Call(func=Name(id=\"set\", ctx=Load()), args=[], keywords=[])), ctx=Load())))\n",
      "assert *{set() + set(), set() % set()}, *[set() // set() >> set(), (set() & set()) - (set() | set())] # Assert(test=Starred(value=Set(elts=[BinOp(left=Call(func=Name(id=\"set\", ctx=Load()), args=[], keywords=[]), op=Add(), right=Call(func=Name(id=\"set\", ctx=Load()), args=[], keywords=[])), BinOp(left=Call(func=Name(id=\"set\", ctx=Load()), args=[], keywords=[]), op=Mod(), right=Call(func=Name(id=\"set\", ctx=Load()), args=[], keywords=[]))]), ctx=Del()), msg=Starred(value=List(elts=[BinOp(left=BinOp(left=Call(func=Name(id=\"set\", ctx=Load()), args=[], keywords=[]), op=FloorDiv(), right=Call(func=Name(id=\"set\", ctx=Load()), args=[], keywords=[])), op=RShift(), right=Call(func=Name(id=\"set\", ctx=Load()), args=[], keywords=[])), BinOp(left=BinOp(left=Call(func=Name(id=\"set\", ctx=Load()), args=[], keywords=[]), op=BitAnd(), right=Call(func=Name(id=\"set\", ctx=Load()), args=[], keywords=[])), op=Sub(), right=BinOp(left=Call(func=Name(id=\"set\", ctx=Load()), args=[], keywords=[]), op=BitOr(), right=Call(func=Name(id=\"set\", ctx=Load()), args=[], keywords=[])))], ctx=Load()), ctx=Del()))\n",
      "assert True / 25 @ (None ^ '=')          # Assert(test=BinOp(left=BinOp(left=Constant(value=True), op=Div(), right=Constant(value=25)), op=MatMult(), right=BinOp(left=Constant(value=None), op=BitXor(), right=Constant(value=\"=\"))))\n",
      "assert +~set(), -set()[set():set()][set()[:]():set():set()] # Assert(test=UnaryOp(op=UAdd(), operand=UnaryOp(op=Invert(), operand=Call(func=Name(id=\"set\", ctx=Load()), args=[], keywords=[]))), msg=UnaryOp(op=USub(), operand=Subscript(value=Subscript(value=Call(func=Name(id=\"set\", ctx=Load()), args=[], keywords=[]), slice=Slice(Call(func=Name(id=\"set\", ctx=Load()), args=[], keywords=[]), Call(func=Name(id=\"set\", ctx=Load()), args=[], keywords=[])), ctx=Load()), slice=Slice(Call(func=Subscript(value=Call(func=Name(id=\"set\", ctx=Load()), args=[], keywords=[]), slice=Slice(), ctx=Del()), args=[], keywords=[]), Call(func=Name(id=\"set\", ctx=Load()), args=[], keywords=[]), Call(func=Name(id=\"set\", ctx=Load()), args=[], keywords=[])), ctx=Load())))\n",
      "assert () ** (set() // ()), p() * ()     # Assert(test=BinOp(left=BoolOp(op=Or(), values=[]), op=Pow(), right=BinOp(left=Call(func=Name(id=\"set\", ctx=Load()), args=[], keywords=[]), op=FloorDiv(), right=BoolOp(op=And(), values=[]))), msg=BinOp(left=Call(func=Name(id='p', ctx=Load()), args=[], keywords=[]), op=Mult(), right=BoolOp(op=Or(), values=[])))\n",
      "assert False .k(12 == Lq <= xq, '', hQ=44) # Assert(test=Call(func=Attribute(value=Constant(value=False), attr='k', ctx=Load()), args=[Compare(left=Constant(value=12), ops=[Eq(), LtE()], comparators=[Name(id='Lq', ctx=Load()), Name(id='xq', ctx=Load())]), Constant(value='')], keywords=[keyword(arg='hQ', value=Constant(value=44))]))\n",
      "assert Mg, s                             # Assert(test=Name(id='Mg', ctx=Del()), msg=Name(id='s', ctx=Del()))\n",
      "assert a, cE                             # Assert(test=Name(id='a', ctx=Load()), msg=Name(id='cE', ctx=Del()))\n",
      "\n",
      "<Pass>\n",
      "pass                                     # Pass()\n",
      "pass                                     # Pass()\n",
      "pass                                     # Pass()\n",
      "pass                                     # Pass()\n",
      "pass                                     # Pass()\n",
      "pass                                     # Pass()\n",
      "pass                                     # Pass()\n",
      "pass                                     # Pass()\n",
      "pass                                     # Pass()\n",
      "pass                                     # Pass()\n",
      "\n",
      "<Break>\n",
      "break                                    # Break()\n",
      "break                                    # Break()\n",
      "break                                    # Break()\n",
      "break                                    # Break()\n",
      "break                                    # Break()\n",
      "break                                    # Break()\n",
      "break                                    # Break()\n",
      "break                                    # Break()\n",
      "break                                    # Break()\n",
      "break                                    # Break()\n",
      "\n",
      "<Continue>\n",
      "continue                                 # Continue()\n",
      "continue                                 # Continue()\n",
      "continue                                 # Continue()\n",
      "continue                                 # Continue()\n",
      "continue                                 # Continue()\n",
      "continue                                 # Continue()\n",
      "continue                                 # Continue()\n",
      "continue                                 # Continue()\n",
      "continue                                 # Continue()\n",
      "continue                                 # Continue()\n",
      "\n",
      "<With>\n",
      "with not *C, set() as (Y, U):\n",
      "    break\n",
      "    t = s(V=set()) # type: 7 # With(items=[withitem(context_expr=UnaryOp(op=Not(), operand=Starred(value=Name(id='C', ctx=Load()), ctx=Del()))), withitem(context_expr=Compare(left=Call(func=Name(id=\"set\", ctx=Load()), args=[], keywords=[]), ops=[], comparators=[]), optional_vars=Tuple(elts=[Name(id='Y', ctx=Store()), Name(id='U', ctx=Store())], ctx=Store()))], body=[Break(), Assign(targets=[Name(id='t', ctx=Store())], value=Call(func=Name(id='s', ctx=Del()), args=[], keywords=[keyword(arg='V', value=Call(func=Name(id=\"set\", ctx=Load()), args=[], keywords=[]))]), type_comment='7')])\n",
      "with : # type: \n",
      "    if 2:\n",
      "        for g in set(): # type: \n",
      "            pass\n",
      "        set()\n",
      "        del \n",
      "        continue\n",
      "        return\n",
      "    else:\n",
      "        assert set()\n",
      "        return # With(items=[], body=[If(test=Constant(value=2), body=[For(target=Name(id='g', ctx=Store()), iter=Call(func=Name(id=\"set\", ctx=Load()), args=[], keywords=[]), body=[Pass()], orelse=[], type_comment=\"\"), Expr(value=Call(func=Name(id=\"set\", ctx=Load()), args=[], keywords=[])), Delete(targets=[]), Continue(), Return()], orelse=[Assert(test=Call(func=Name(id=\"set\", ctx=Load()), args=[], keywords=[])), Return()])], type_comment=\"\")\n",
      "with set().W as _[:]: # type: O(\n",
      "    while set()[:]:\n",
      "        return\n",
      "    else:\n",
      "        return # With(items=[withitem(context_expr=Attribute(value=Call(func=Name(id=\"set\", ctx=Load()), args=[], keywords=[]), attr='W', ctx=Load()), optional_vars=Subscript(value=Name(id='_', ctx=Store()), slice=Slice(), ctx=Store()))], body=[While(test=Subscript(value=Call(func=Name(id=\"set\", ctx=Load()), args=[], keywords=[]), slice=Slice(), ctx=Del()), body=[Return()], orelse=[Return()])], type_comment=\"O(\")\n",
      "with  as *T: # type: rYuH\n",
      "    A.u *= ()  # With(items=[withitem(context_expr=BoolOp(op=Or(), values=[]), optional_vars=Starred(value=Name(id='T', ctx=Store()), ctx=Store()))], body=[AugAssign(target=Attribute(value=Name(id='A', ctx=Store()), attr='u', ctx=Store()), op=Mult(), value=Tuple(elts=[], ctx=Load()))], type_comment='rYuH')\n",
      "with [set()] as [P]: # type: &IG\n",
      "    with set(), set(): # type: \n",
      "        assert {}, set() # With(items=[withitem(context_expr=List(elts=[Call(func=Name(id=\"set\", ctx=Load()), args=[], keywords=[])], ctx=Del()), optional_vars=List(elts=[Name(id='P', ctx=Store())], ctx=Store()))], body=[With(items=[withitem(context_expr=Call(func=Name(id=\"set\", ctx=Load()), args=[], keywords=[])), withitem(context_expr=Call(func=Name(id=\"set\", ctx=Load()), args=[], keywords=[]))], body=[Assert(test=Dict(keys=[], values=[]), msg=Call(func=Name(id=\"set\", ctx=Load()), args=[], keywords=[]))], type_comment='')], type_comment=\"&IG\")\n",
      "with *set()[:] + set()[:]: # type: KT\"\n",
      "    return \n",
      "    {set()}.m # With(items=[withitem(context_expr=BinOp(left=Starred(value=Subscript(value=Call(func=Name(id=\"set\", ctx=Load()), args=[], keywords=[]), slice=Slice(), ctx=Load()), ctx=Load()), op=Add(), right=Subscript(value=Call(func=Name(id=\"set\", ctx=Load()), args=[], keywords=[]), slice=Slice(), ctx=Load())))], body=[Return(value=Expr(value=Attribute(value=Set(elts=[Call(func=Name(id=\"set\", ctx=Load()), args=[], keywords=[])]), attr='m', ctx=Del())))], type_comment='KT\"')\n",
      "with [] as i[:]: # type: J-K+Z/\n",
      "    n /= ()\n",
      "    L **= set()\n",
      "    return # With(items=[withitem(context_expr=List(elts=[], ctx=Load()), optional_vars=Subscript(value=Name(id='i', ctx=Store()), slice=Slice(), ctx=Store()))], body=[AugAssign(target=Name(id='n', ctx=Store()), op=Div(), value=Tuple(elts=[], ctx=Del())), AugAssign(target=Name(id='L', ctx=Store()), op=Pow(), value=Call(func=Name(id=\"set\", ctx=Load()), args=[], keywords=[])), Return()], type_comment=\"J-K+Z/\")\n",
      "with set() & set() as E[:]: # type: :x<\n",
      "    G //= set()\n",
      "    return # With(items=[withitem(context_expr=BinOp(left=Call(func=Name(id=\"set\", ctx=Load()), args=[], keywords=[]), op=BitAnd(), right=Call(func=Name(id=\"set\", ctx=Load()), args=[], keywords=[])), optional_vars=Subscript(value=Name(id='E', ctx=Store()), slice=Slice(), ctx=Store()))], body=[AugAssign(target=Name(id='G', ctx=Store()), op=FloorDiv(), value=Call(func=Name(id=\"set\", ctx=Load()), args=[], keywords=[])), Return()], type_comment=':x<')\n",
      "with set() @ set(): # type: WN\n",
      "    D %= set()\n",
      "    return\n",
      "    return\n",
      "    return # With(items=[withitem(context_expr=BinOp(left=Call(func=Name(id=\"set\", ctx=Load()), args=[], keywords=[]), op=MatMult(), right=Call(func=Name(id=\"set\", ctx=Load()), args=[], keywords=[])))], body=[AugAssign(target=Name(id='D', ctx=Store()), op=Mod(), value=Call(func=Name(id=\"set\", ctx=Load()), args=[], keywords=[])), Return(), Return(), Return()], type_comment=\"WN\")\n",
      "with (set() | set()) - (set() << set()): # type: 6&f\n",
      "    e[:] >>= None # With(items=[withitem(context_expr=BinOp(left=BinOp(left=Call(func=Name(id=\"set\", ctx=Load()), args=[], keywords=[]), op=BitOr(), right=Call(func=Name(id=\"set\", ctx=Load()), args=[], keywords=[])), op=Sub(), right=BinOp(left=Call(func=Name(id=\"set\", ctx=Load()), args=[], keywords=[]), op=LShift(), right=Call(func=Name(id=\"set\", ctx=Load()), args=[], keywords=[]))))], body=[AugAssign(target=Subscript(value=Name(id='e', ctx=Store()), slice=Slice(), ctx=Store()), op=RShift(), value=Constant(value=None))], type_comment='6&f')\n",
      "\n"
     ]
    }
   ],
   "source": [
    "for elt in PYTHON_AST_STMTS_GRAMMAR['<stmt>']:\n",
    "    print(elt)\n",
    "    test_samples(PYTHON_AST_STMTS_GRAMMAR, start_symbol=elt)\n",
    "    print()"
   ]
  },
  {
   "cell_type": "markdown",
   "id": "f15489b9",
   "metadata": {
    "slideshow": {
     "slide_type": "subslide"
    }
   },
   "source": [
    "Let us see if we can also _parse_ code properly. Here is a sample:"
   ]
  },
  {
   "cell_type": "code",
   "execution_count": 81,
   "id": "9560e0ce",
   "metadata": {
    "execution": {
     "iopub.execute_input": "2024-06-30T16:50:55.386975Z",
     "iopub.status.busy": "2024-06-30T16:50:55.386870Z",
     "iopub.status.idle": "2024-06-30T16:50:55.388783Z",
     "shell.execute_reply": "2024-06-30T16:50:55.388474Z"
    },
    "slideshow": {
     "slide_type": "fragment"
    }
   },
   "outputs": [],
   "source": [
    "with_tree = ast.parse(\"\"\"\n",
    "with open('foo.txt') as myfile:\n",
    "    content = myfile.readlines()\n",
    "    if content is not None:\n",
    "        print(content)\n",
    "\"\"\")"
   ]
  },
  {
   "cell_type": "code",
   "execution_count": 82,
   "id": "434657f4",
   "metadata": {
    "execution": {
     "iopub.execute_input": "2024-06-30T16:50:55.390382Z",
     "iopub.status.busy": "2024-06-30T16:50:55.390285Z",
     "iopub.status.idle": "2024-06-30T16:50:55.482886Z",
     "shell.execute_reply": "2024-06-30T16:50:55.482569Z"
    },
    "slideshow": {
     "slide_type": "fragment"
    }
   },
   "outputs": [],
   "source": [
    "python_ast_stmts_grammar = convert_ebnf_grammar(PYTHON_AST_STMTS_GRAMMAR)\n",
    "with_tree_str = ast.dump(with_tree.body[0])  # get the `With(...)` subtree\n",
    "with_solver = ISLaSolver(python_ast_stmts_grammar)\n",
    "assert with_solver.check(with_tree_str)"
   ]
  },
  {
   "cell_type": "markdown",
   "id": "ee12e262",
   "metadata": {
    "slideshow": {
     "slide_type": "fragment"
    }
   },
   "source": [
    "It seems our grammar can also parse non-trivial code properly. We are doing well!"
   ]
  },
  {
   "cell_type": "markdown",
   "id": "6b86cf17",
   "metadata": {
    "slideshow": {
     "slide_type": "subslide"
    }
   },
   "source": [
    "### End of Excursion"
   ]
  },
  {
   "cell_type": "markdown",
   "id": "3d8002e5",
   "metadata": {
    "slideshow": {
     "slide_type": "subslide"
    }
   },
   "source": [
    "### Excursion: Function Definitions"
   ]
  },
  {
   "cell_type": "markdown",
   "id": "004a0097",
   "metadata": {
    "slideshow": {
     "slide_type": "fragment"
    }
   },
   "source": [
    "Now for function definitions.\n",
    "Not too many surprises here."
   ]
  },
  {
   "cell_type": "code",
   "execution_count": 83,
   "id": "22cff88c",
   "metadata": {
    "execution": {
     "iopub.execute_input": "2024-06-30T16:50:55.484823Z",
     "iopub.status.busy": "2024-06-30T16:50:55.484708Z",
     "iopub.status.idle": "2024-06-30T16:50:55.486721Z",
     "shell.execute_reply": "2024-06-30T16:50:55.486428Z"
    },
    "slideshow": {
     "slide_type": "subslide"
    }
   },
   "outputs": [
    {
     "name": "stdout",
     "output_type": "stream",
     "text": [
      "Module(\n",
      "    body=[\n",
      "        FunctionDef(\n",
      "            name='f',\n",
      "            args=arguments(\n",
      "                posonlyargs=[],\n",
      "                args=[\n",
      "                    arg(arg='a'),\n",
      "                    arg(arg='b')],\n",
      "                kwonlyargs=[],\n",
      "                kw_defaults=[],\n",
      "                defaults=[\n",
      "                    Constant(value=1)]),\n",
      "            body=[\n",
      "                Pass()],\n",
      "            decorator_list=[])],\n",
      "    type_ignores=[])\n"
     ]
    }
   ],
   "source": [
    "print(ast.dump(ast.parse(\"\"\"\n",
    "def f(a, b=1):\n",
    "    pass\n",
    "\"\"\"\n",
    "), indent=4))"
   ]
  },
  {
   "cell_type": "code",
   "execution_count": 84,
   "id": "dd754206",
   "metadata": {
    "execution": {
     "iopub.execute_input": "2024-06-30T16:50:55.488296Z",
     "iopub.status.busy": "2024-06-30T16:50:55.488182Z",
     "iopub.status.idle": "2024-06-30T16:50:55.490641Z",
     "shell.execute_reply": "2024-06-30T16:50:55.490386Z"
    },
    "slideshow": {
     "slide_type": "subslide"
    }
   },
   "outputs": [],
   "source": [
    "PYTHON_AST_DEFS_GRAMMAR: Grammar = extend_grammar(PYTHON_AST_STMTS_GRAMMAR, {\n",
    "    '<stmt>': PYTHON_AST_STMTS_GRAMMAR['<stmt>'] + [ '<FunctionDef>' ],\n",
    "\n",
    "    '<FunctionDef>': [\n",
    "        'FunctionDef(name=<identifier>, args=<arguments>, body=<nonempty_stmt_list>, decorator_list=<expr_list><returns>?<type_comment>?)'\n",
    "    ],\n",
    "    '<arguments>': [\n",
    "        'arguments(posonlyargs=<arg_list>, args=<arg_list><vararg>?, kwonlyargs=<arg_list>, kw_defaults=<expr_list><kwarg>?, defaults=<expr_list>)'\n",
    "    ],\n",
    "\n",
    "    '<arg_list>': [ '[<args>?]' ],\n",
    "    '<args>': [ '<arg>', '<arg>, <arg>' ],\n",
    "    '<arg>': [ 'arg(arg=<identifier>)' ],\n",
    "\n",
    "    '<vararg>': [ ', vararg=<arg>' ],\n",
    "    '<kwarg>': [ ', kwarg=<arg>' ],\n",
    "    '<returns>': [ ', returns=<expr>' ],\n",
    "\n",
    "    # FIXME: Not handled: AsyncFunctionDef, ClassDef\n",
    "})"
   ]
  },
  {
   "cell_type": "markdown",
   "id": "950bddb4",
   "metadata": {
    "slideshow": {
     "slide_type": "subslide"
    }
   },
   "source": [
    "In Python 3.12 and later, function definitions also have a `type_param` field:"
   ]
  },
  {
   "cell_type": "code",
   "execution_count": 85,
   "id": "ac5c79cf",
   "metadata": {
    "execution": {
     "iopub.execute_input": "2024-06-30T16:50:55.492335Z",
     "iopub.status.busy": "2024-06-30T16:50:55.492226Z",
     "iopub.status.idle": "2024-06-30T16:50:55.494004Z",
     "shell.execute_reply": "2024-06-30T16:50:55.493705Z"
    },
    "slideshow": {
     "slide_type": "skip"
    }
   },
   "outputs": [],
   "source": [
    "import sys"
   ]
  },
  {
   "cell_type": "code",
   "execution_count": 86,
   "id": "289e7702",
   "metadata": {
    "execution": {
     "iopub.execute_input": "2024-06-30T16:50:55.495837Z",
     "iopub.status.busy": "2024-06-30T16:50:55.495704Z",
     "iopub.status.idle": "2024-06-30T16:50:55.498035Z",
     "shell.execute_reply": "2024-06-30T16:50:55.497750Z"
    },
    "slideshow": {
     "slide_type": "subslide"
    }
   },
   "outputs": [],
   "source": [
    "# do import this unconditionally\n",
    "if sys.version_info >= (3, 12):\n",
    "    PYTHON_AST_DEFS_GRAMMAR: Grammar = extend_grammar(PYTHON_AST_DEFS_GRAMMAR, {\n",
    "    '<FunctionDef>': [\n",
    "        'FunctionDef(name=<identifier>, args=<arguments>, body=<nonempty_stmt_list>, decorator_list=<expr_list><returns>?<type_comment>?<type_params>?)'\n",
    "    ],\n",
    "    '<type_params>': [\n",
    "        ', type_params=<type_param_list>',\n",
    "    ],\n",
    "    '<type_param_list>': [ '[<type_param>?]' ],\n",
    "    '<type_param>': [ '<TypeVar>', '<ParamSpec>', '<TypeVarTuple>' ],\n",
    "    '<TypeVar>': [\n",
    "        'TypeVar(name=<identifier>(, bound=<expr>)?)'\n",
    "    ],\n",
    "    '<ParamSpec>': [\n",
    "        'ParamSpec(name=<identifier>)'\n",
    "    ],\n",
    "    '<TypeVarTuple>': [\n",
    "        'TypeVarTuple(name=<identifier>)'\n",
    "    ]\n",
    "    })"
   ]
  },
  {
   "cell_type": "code",
   "execution_count": 87,
   "id": "9e1f3cb0",
   "metadata": {
    "execution": {
     "iopub.execute_input": "2024-06-30T16:50:55.499568Z",
     "iopub.status.busy": "2024-06-30T16:50:55.499458Z",
     "iopub.status.idle": "2024-06-30T16:50:55.501603Z",
     "shell.execute_reply": "2024-06-30T16:50:55.501347Z"
    },
    "slideshow": {
     "slide_type": "subslide"
    }
   },
   "outputs": [],
   "source": [
    "assert is_valid_grammar(PYTHON_AST_DEFS_GRAMMAR)"
   ]
  },
  {
   "cell_type": "code",
   "execution_count": 88,
   "id": "8c914d8e",
   "metadata": {
    "execution": {
     "iopub.execute_input": "2024-06-30T16:50:55.503261Z",
     "iopub.status.busy": "2024-06-30T16:50:55.503136Z",
     "iopub.status.idle": "2024-06-30T16:50:56.023156Z",
     "shell.execute_reply": "2024-06-30T16:50:56.022841Z"
    },
    "slideshow": {
     "slide_type": "subslide"
    }
   },
   "outputs": [
    {
     "name": "stdout",
     "output_type": "stream",
     "text": [
      "<arguments>\n",
      "f, /, xXK31GmhN, dCoZpr                  # arguments(posonlyargs=[arg(arg='f')], args=[arg(arg='xXK31GmhN'), arg(arg='dCoZpr')], kwonlyargs=[], kw_defaults=[BinOp(left=Name(id='P4PQ97yLj', ctx=Del()), op=Mod(), right=Starred(value=BoolOp(op=And(), values=[Subscript(value=Call(func=Name(id=\"set\", ctx=Load()), args=[], keywords=[]), slice=Slice(), ctx=Del()), Constant(value=True)]), ctx=Load()))], defaults=[])\n",
      "M, /, *L, b=set(), **ccU                 # arguments(posonlyargs=[arg(arg='M')], args=[], vararg=arg(arg='L'), kwonlyargs=[arg(arg='b'), arg(arg='D')], kw_defaults=[Call(func=Name(id=\"set\", ctx=Load()), args=[], keywords=[])], kwarg=arg(arg='ccU'), defaults=[])\n",
      "O, p, /, N, R, *l, **F                   # arguments(posonlyargs=[arg(arg='O'), arg(arg='p')], args=[arg(arg='N'), arg(arg='R')], vararg=arg(arg='l'), kwonlyargs=[arg(arg='S')], kw_defaults=[], kwarg=arg(arg='F'), defaults=[])\n",
      "W, i=(), /, n={}, *B, I=[set().H], **T   # arguments(posonlyargs=[arg(arg='W'), arg(arg='i')], args=[arg(arg='n')], vararg=arg(arg='B'), kwonlyargs=[arg(arg='I')], kw_defaults=[List(elts=[Attribute(value=Call(func=Name(id=\"set\", ctx=Load()), args=[], keywords=[]), attr='H', ctx=Del())], ctx=Del())], kwarg=arg(arg='T'), defaults=[Tuple(elts=[], ctx=Del()), Dict(keys=[], values=[])])\n",
      "J, /, o, a=set(), *C, X=set(), **U       # arguments(posonlyargs=[arg(arg='J')], args=[arg(arg='o'), arg(arg='a')], vararg=arg(arg='C'), kwonlyargs=[arg(arg='X'), arg(arg='Q')], kw_defaults=[Compare(left=Call(func=Name(id=\"set\", ctx=Load()), args=[], keywords=[]), ops=[], comparators=[])], kwarg=arg(arg='U'), defaults=[Call(func=Name(id=\"set\", ctx=Load()), args=[], keywords=[])])\n",
      "E=set(), Z=set(), *Y                     # arguments(posonlyargs=[], args=[arg(arg='E'), arg(arg='Z')], vararg=arg(arg='Y'), kwonlyargs=[arg(arg='t')], kw_defaults=[], defaults=[Call(func=Name(id=\"set\", ctx=Load()), args=[], keywords=[]), Call(func=Name(id=\"set\", ctx=Load()), args=[], keywords=[]), Call(func=Name(id=\"set\", ctx=Load()), args=[], keywords=[])])\n",
      "y, h, /, *j, s=set()                     # arguments(posonlyargs=[arg(arg='y'), arg(arg='h')], args=[], vararg=arg(arg='j'), kwonlyargs=[arg(arg='s')], kw_defaults=[Call(func=Name(id=\"set\", ctx=Load()), args=[], keywords=[]), Call(func=Name(id=\"set\", ctx=Load()), args=[], keywords=[])], defaults=[])\n",
      "V, /, m=+set(), *, v=set(), **G          # arguments(posonlyargs=[arg(arg='V')], args=[arg(arg='m')], kwonlyargs=[arg(arg='v'), arg(arg='r')], kw_defaults=[Call(func=Name(id=\"set\", ctx=Load()), args=[], keywords=[])], kwarg=arg(arg='G'), defaults=[UnaryOp(op=UAdd(), operand=Call(func=Name(id=\"set\", ctx=Load()), args=[], keywords=[]))])\n",
      "w, /, u=\n",
      "set(), *A, K=set(), **_         # arguments(posonlyargs=[arg(arg='w')], args=[arg(arg='u')], vararg=arg(arg='A'), kwonlyargs=[arg(arg='K')], kw_defaults=[Call(func=Name(id=\"set\", ctx=Load()), args=[], keywords=[])], kwarg=arg(arg='_'), defaults=[Expr(value=Call(func=Name(id=\"set\", ctx=Load()), args=[], keywords=[]))])\n",
      "k=set(), *g, **q                         # arguments(posonlyargs=[], args=[arg(arg='k')], vararg=arg(arg='g'), kwonlyargs=[], kw_defaults=[Call(func=Subscript(value=Call(func=Name(id=\"set\", ctx=Load()), args=[], keywords=[]), slice=Slice(), ctx=Load()), args=[], keywords=[])], kwarg=arg(arg='q'), defaults=[Call(func=Name(id=\"set\", ctx=Load()), args=[], keywords=[]), Starred(value=Call(func=Name(id=\"set\", ctx=Load()), args=[], keywords=[]), ctx=Del())])\n",
      "\n",
      "<FunctionDef>\n",
      "def s():\n",
      "    return                      # FunctionDef(name='s', args=arguments(posonlyargs=[], args=[], kwonlyargs=[], kw_defaults=[], defaults=[]), body=[Return()], decorator_list=[])\n",
      "def J() -> set():\n",
      "    continue           # FunctionDef(name='J', args=arguments(posonlyargs=[], args=[], kwonlyargs=[], kw_defaults=[], defaults=[]), body=[Continue()], decorator_list=[], returns=Call(func=Name(id=\"set\", ctx=Load()), args=[], keywords=[]))\n",
      "@set()\n",
      "def P() -> set(): # type: \n",
      "    break # FunctionDef(name='P', args=arguments(posonlyargs=[], args=[], kwonlyargs=[], kw_defaults=[], defaults=[]), body=[Break()], decorator_list=[Call(func=Name(id=\"set\", ctx=Load()), args=[], keywords=[])], returns=Call(func=Name(id=\"set\", ctx=Load()), args=[], keywords=[]), type_comment=\"\")\n",
      "@set()\n",
      "def C() -> set(): # type: \n",
      "    pass # FunctionDef(name='C', args=arguments(posonlyargs=[], args=[], kwonlyargs=[], kw_defaults=[], defaults=[]), body=[Pass()], decorator_list=[Call(func=Name(id=\"set\", ctx=Load()), args=[], keywords=[])], returns=Call(func=Name(id=\"set\", ctx=Load()), args=[], keywords=[]), type_comment='')\n",
      "def R() -> set(): # type: \n",
      "    return\n",
      "    return # FunctionDef(name='R', args=arguments(posonlyargs=[], args=[], kwonlyargs=[], kw_defaults=[], defaults=[]), body=[Return(), Return()], decorator_list=[], returns=Call(func=Name(id=\"set\", ctx=Load()), args=[], keywords=[]), type_comment=\"\")\n",
      "def o() -> set(): # type: \n",
      "    return    # FunctionDef(name='o', args=arguments(posonlyargs=[], args=[], kwonlyargs=[], kw_defaults=[], defaults=[]), body=[Return()], decorator_list=[], returns=Call(func=Name(id=\"set\", ctx=Load()), args=[], keywords=[]), type_comment='')\n",
      "def c():\n",
      "    return                      # FunctionDef(name='c', args=arguments(posonlyargs=[], args=[], kwonlyargs=[], kw_defaults=[], defaults=[]), body=[Return()], decorator_list=[])\n",
      "def S():\n",
      "    return                      # FunctionDef(name='S', args=arguments(posonlyargs=[], args=[], kwonlyargs=[], kw_defaults=[], defaults=[]), body=[Return()], decorator_list=[])\n",
      "def e():\n",
      "    return                      # FunctionDef(name='e', args=arguments(posonlyargs=[], args=[], kwonlyargs=[], kw_defaults=[], defaults=[]), body=[Return()], decorator_list=[])\n",
      "def f() -> set().d: # type: \n",
      "    return  # FunctionDef(name='f', args=arguments(posonlyargs=[], args=[], kwonlyargs=[], kw_defaults=[], defaults=[]), body=[Return()], decorator_list=[], returns=Attribute(value=Call(func=Name(id=\"set\", ctx=Load()), args=[], keywords=[]), attr='d', ctx=Load()), type_comment=\"\")\n",
      "\n"
     ]
    }
   ],
   "source": [
    "for elt in [ '<arguments>', '<FunctionDef>' ]:\n",
    "    print(elt)\n",
    "    test_samples(PYTHON_AST_DEFS_GRAMMAR, start_symbol=elt)\n",
    "    print()"
   ]
  },
  {
   "cell_type": "markdown",
   "id": "5f1d16d3",
   "metadata": {
    "slideshow": {
     "slide_type": "subslide"
    }
   },
   "source": [
    "### End of Excursion"
   ]
  },
  {
   "cell_type": "markdown",
   "id": "d49d371e",
   "metadata": {
    "slideshow": {
     "slide_type": "subslide"
    }
   },
   "source": [
    "### Excursion: Modules"
   ]
  },
  {
   "cell_type": "markdown",
   "id": "ea4ecf11",
   "metadata": {
    "slideshow": {
     "slide_type": "fragment"
    }
   },
   "source": [
    "We close with _modules_ – sequences of definitions.\n",
    "After all the other definitions, this is now fairly straightforward."
   ]
  },
  {
   "cell_type": "code",
   "execution_count": 89,
   "id": "b5249a38",
   "metadata": {
    "execution": {
     "iopub.execute_input": "2024-06-30T16:50:56.025233Z",
     "iopub.status.busy": "2024-06-30T16:50:56.025124Z",
     "iopub.status.idle": "2024-06-30T16:50:56.027639Z",
     "shell.execute_reply": "2024-06-30T16:50:56.027379Z"
    },
    "slideshow": {
     "slide_type": "fragment"
    }
   },
   "outputs": [],
   "source": [
    "PYTHON_AST_MODULE_GRAMMAR: Grammar = extend_grammar(PYTHON_AST_DEFS_GRAMMAR, {\n",
    "    '<start>': [ '<mod>' ],\n",
    "    '<mod>': [ '<Module>' ],\n",
    "    '<Module>': [ 'Module(body=<nonempty_stmt_list>, type_ignores=<type_ignore_list>)'],\n",
    "\n",
    "    '<type_ignore_list>': [ '[<type_ignores>?]' ],\n",
    "    '<type_ignores>': [ '<type_ignore>', '<type_ignore>, <type_ignore>' ],\n",
    "    '<type_ignore>': [ 'TypeIgnore(lineno=<integer>, tag=<string>)' ],\n",
    "})"
   ]
  },
  {
   "cell_type": "code",
   "execution_count": 90,
   "id": "7f32f61f",
   "metadata": {
    "execution": {
     "iopub.execute_input": "2024-06-30T16:50:56.029259Z",
     "iopub.status.busy": "2024-06-30T16:50:56.029165Z",
     "iopub.status.idle": "2024-06-30T16:50:56.031442Z",
     "shell.execute_reply": "2024-06-30T16:50:56.031139Z"
    },
    "slideshow": {
     "slide_type": "fragment"
    }
   },
   "outputs": [],
   "source": [
    "assert is_valid_grammar(PYTHON_AST_MODULE_GRAMMAR)"
   ]
  },
  {
   "cell_type": "code",
   "execution_count": 91,
   "id": "c544f428",
   "metadata": {
    "execution": {
     "iopub.execute_input": "2024-06-30T16:50:56.033216Z",
     "iopub.status.busy": "2024-06-30T16:50:56.033095Z",
     "iopub.status.idle": "2024-06-30T16:50:56.452086Z",
     "shell.execute_reply": "2024-06-30T16:50:56.451708Z"
    },
    "slideshow": {
     "slide_type": "subslide"
    }
   },
   "outputs": [
    {
     "name": "stdout",
     "output_type": "stream",
     "text": [
      "<Module>\n",
      "pass                                     # Module(body=[Pass()], type_ignores=[TypeIgnore(lineno=427, tag=\"5\"), TypeIgnore(lineno=5, tag='M')])\n",
      "for H in {}: # type: ,\n",
      "    return\n",
      "with set(): # type: .\n",
      "    continue # Module(body=[For(target=Name(id='H', ctx=Store()), iter=Dict(keys=[], values=[]), body=[Return()], orelse=[], type_comment=','), With(items=[withitem(context_expr=Call(func=Name(id=\"set\", ctx=Load()), args=[], keywords=[]))], body=[Continue()], type_comment=\".\")], type_ignores=[])\n",
      "assert (set()[:](), p).u4UqXZs1[:]       # Module(body=[Assert(test=Subscript(value=Attribute(value=Tuple(elts=[Call(func=Subscript(value=Call(func=Name(id=\"set\", ctx=Load()), args=[], keywords=[]), slice=Slice(), ctx=Del()), args=[], keywords=[]), Name(id='p', ctx=Load())], ctx=Load()), attr='u4UqXZs1', ctx=Load()), slice=Slice(), ctx=Load()))], type_ignores=[TypeIgnore(lineno=348, tag='>. #sju8dCaHzS/')])\n",
      "if [set()]:\n",
      "    K = set()\n",
      "else:\n",
      "    del  # Module(body=[If(test=List(elts=[Call(func=Name(id=\"set\", ctx=Load()), args=[], keywords=[])], ctx=Del()), body=[Assign(targets=[Name(id='K', ctx=Store())], value=Call(func=Name(id=\"set\", ctx=Load()), args=[], keywords=[]))], orelse=[Delete(targets=[])])], type_ignores=[TypeIgnore(lineno=90, tag=\"=cQa\"), TypeIgnore(lineno=21, tag=\"q[\")])\n",
      "(O.J, *T, [k]) ^= -(set())               # Module(body=[AugAssign(target=Tuple(elts=[Attribute(value=Name(id='O', ctx=Store()), attr='J', ctx=Store()), Starred(value=Name(id='T', ctx=Store()), ctx=Store()), List(elts=[Name(id='k', ctx=Store())], ctx=Store())], ctx=Store()), op=BitXor(), value=UnaryOp(op=USub(), operand=BoolOp(op=And(), values=[Call(func=Name(id=\"set\", ctx=Load()), args=[], keywords=[])])))], type_ignores=[TypeIgnore(lineno=59, tag=\"Ow\"), TypeIgnore(lineno=63, tag=\"J<7d{VPe\")])\n",
      "def P() -> set(): # type: \n",
      "    break     # Module(body=[FunctionDef(name='P', args=arguments(posonlyargs=[], args=[], kwonlyargs=[], kw_defaults=[], defaults=[]), body=[Break()], decorator_list=[], returns=Call(func=Name(id=\"set\", ctx=Load()), args=[], keywords=[]), type_comment='')], type_ignores=[TypeIgnore(lineno=6, tag=''), TypeIgnore(lineno=86, tag='')])\n",
      "while set() % *():\n",
      "    \n",
      "    False\n",
      "else:\n",
      "    set().o\n",
      "    assert h, set() # Module(body=[While(test=BinOp(left=Call(func=Name(id=\"set\", ctx=Load()), args=[], keywords=[]), op=Mod(), right=Starred(value=Tuple(elts=[], ctx=Del()), ctx=Load())), body=[Expr(value=Expr(value=Constant(value=False)))], orelse=[Expr(value=Compare(left=Attribute(value=Call(func=Name(id=\"set\", ctx=Load()), args=[], keywords=[]), attr='o', ctx=Del()), ops=[], comparators=[])), Assert(test=Name(id='h', ctx=Del()), msg=Call(func=Name(id=\"set\", ctx=Load()), args=[], keywords=[]))])], type_ignores=[TypeIgnore(lineno=1966, tag='r0V2:~Jg][Z9{e')])\n",
      "return [*set() ** set() / (set() << set())]\n",
      "return {set() // set()} # Module(body=[Return(value=List(elts=[Starred(value=BinOp(left=BinOp(left=Call(func=Name(id=\"set\", ctx=Load()), args=[], keywords=[]), op=Pow(), right=Call(func=Name(id=\"set\", ctx=Load()), args=[], keywords=[])), op=Div(), right=BinOp(left=Call(func=Name(id=\"set\", ctx=Load()), args=[], keywords=[]), op=LShift(), right=Call(func=Name(id=\"set\", ctx=Load()), args=[], keywords=[]))), ctx=Del())], ctx=Load())), Return(value=Set(elts=[BinOp(left=Call(func=Name(id=\"set\", ctx=Load()), args=[], keywords=[]), op=FloorDiv(), right=Call(func=Name(id=\"set\", ctx=Load()), args=[], keywords=[]))]))], type_ignores=[TypeIgnore(lineno=75, tag=\"?`9pEA!RkSL~>\")])\n",
      "W += set() * set()\n",
      "i[:] -= set()\n",
      "x >>= set() # Module(body=[AugAssign(target=Name(id='W', ctx=Store()), op=Add(), value=BinOp(left=Call(func=Name(id=\"set\", ctx=Load()), args=[], keywords=[]), op=Mult(), right=Call(func=Name(id=\"set\", ctx=Load()), args=[], keywords=[]))), AugAssign(target=Subscript(value=Name(id='i', ctx=Store()), slice=Slice(), ctx=Store()), op=Sub(), value=Call(func=Name(id=\"set\", ctx=Load()), args=[], keywords=[])), AugAssign(target=Name(id='x', ctx=Store()), op=RShift(), value=Call(func=Name(id=\"set\", ctx=Load()), args=[], keywords=[]))], type_ignores=[TypeIgnore(lineno=2, tag=\"Gv\")])\n",
      "M[:][~set():] &= 387.68                  # Module(body=[AugAssign(target=Subscript(value=Subscript(value=Name(id='M', ctx=Store()), slice=Slice(), ctx=Store()), slice=Slice(UnaryOp(op=Invert(), operand=Call(func=Name(id=\"set\", ctx=Load()), args=[], keywords=[]))), ctx=Store()), op=BitAnd(), value=Constant(value=387.68))], type_ignores=[TypeIgnore(lineno=7, tag='D\"(pxn<_!-B')])\n",
      "\n"
     ]
    }
   ],
   "source": [
    "for elt in [ '<Module>' ]:\n",
    "    print(elt)\n",
    "    test_samples(PYTHON_AST_MODULE_GRAMMAR, start_symbol=elt)\n",
    "    print()"
   ]
  },
  {
   "cell_type": "markdown",
   "id": "db39fc13",
   "metadata": {
    "slideshow": {
     "slide_type": "subslide"
    }
   },
   "source": [
    "### End of Excursion"
   ]
  },
  {
   "cell_type": "markdown",
   "id": "a83a2a14",
   "metadata": {
    "slideshow": {
     "slide_type": "fragment"
    }
   },
   "source": [
    "At this point, we have covered (almost) all AST elements of Python.\n",
    "There would be a few more Python elements to consider (marked as `FIXME`, above), but we'll leave these to the reader.\n",
    "Let us define `PYTHON_AST_GRAMMAR` as the official grammar coming out of this chapter."
   ]
  },
  {
   "cell_type": "code",
   "execution_count": 92,
   "id": "e543f4e5",
   "metadata": {
    "execution": {
     "iopub.execute_input": "2024-06-30T16:50:56.454126Z",
     "iopub.status.busy": "2024-06-30T16:50:56.454014Z",
     "iopub.status.idle": "2024-06-30T16:50:56.457202Z",
     "shell.execute_reply": "2024-06-30T16:50:56.456898Z"
    },
    "slideshow": {
     "slide_type": "fragment"
    }
   },
   "outputs": [],
   "source": [
    "PYTHON_AST_GRAMMAR = PYTHON_AST_MODULE_GRAMMAR\n",
    "python_ast_grammar = convert_ebnf_grammar(PYTHON_AST_GRAMMAR)"
   ]
  },
  {
   "cell_type": "markdown",
   "id": "3a1c8369",
   "metadata": {
    "slideshow": {
     "slide_type": "fragment"
    }
   },
   "source": [
    "Here are a few (very weird) examples of Python functions we can produce.\n",
    "All of these are valid, but only _syntactically_ – very few of the code samples produced this way will actually result in something meaningful."
   ]
  },
  {
   "cell_type": "code",
   "execution_count": 93,
   "id": "a83f4fc2",
   "metadata": {
    "execution": {
     "iopub.execute_input": "2024-06-30T16:50:56.458892Z",
     "iopub.status.busy": "2024-06-30T16:50:56.458770Z",
     "iopub.status.idle": "2024-06-30T16:50:56.784497Z",
     "shell.execute_reply": "2024-06-30T16:50:56.784216Z"
    },
    "slideshow": {
     "slide_type": "subslide"
    }
   },
   "outputs": [
    {
     "name": "stdout",
     "output_type": "stream",
     "text": [
      "<FunctionDef>\n",
      "def T(): # type: \n",
      "    break              # FunctionDef(name='T', args=arguments(posonlyargs=[], args=[], kwonlyargs=[], kw_defaults=[], defaults=[]), body=[Break()], decorator_list=[], type_comment='')\n",
      "@set()\n",
      "def zv() -> ():\n",
      "    pass          # FunctionDef(name='zv', args=arguments(posonlyargs=[], args=[], kwonlyargs=[], kw_defaults=[], defaults=[]), body=[Pass()], decorator_list=[Call(func=Name(id=\"set\", ctx=Load()), args=[], keywords=[])], returns=Tuple(elts=[], ctx=Del()))\n",
      "def j():\n",
      "    continue                    # FunctionDef(name='j', args=arguments(posonlyargs=[], args=[], kwonlyargs=[], kw_defaults=[], defaults=[]), body=[Continue()], decorator_list=[])\n",
      "def L():\n",
      "    return                      # FunctionDef(name='L', args=arguments(posonlyargs=[], args=[], kwonlyargs=[], kw_defaults=[], defaults=[]), body=[Return()], decorator_list=[])\n",
      "@set()\n",
      "def A() -> set(): # type: \n",
      "    return\n",
      "    return # FunctionDef(name='A', args=arguments(posonlyargs=[], args=[], kwonlyargs=[], kw_defaults=[], defaults=[]), body=[Return(), Return()], decorator_list=[Call(func=Name(id=\"set\", ctx=Load()), args=[], keywords=[])], returns=Call(func=Name(id=\"set\", ctx=Load()), args=[], keywords=[]), type_comment=\"\")\n",
      "@set()\n",
      "def X() -> \n",
      "set(): # type: \n",
      "    del \n",
      "    while set():\n",
      "        return # FunctionDef(name='X', args=arguments(posonlyargs=[], args=[], kwonlyargs=[], kw_defaults=[], defaults=[]), body=[Delete(targets=[]), While(test=Call(func=Name(id=\"set\", ctx=Load()), args=[], keywords=[]), body=[Return()], orelse=[])], decorator_list=[Call(func=Name(id=\"set\", ctx=Load()), args=[], keywords=[])], returns=Expr(value=Compare(left=Call(func=Name(id=\"set\", ctx=Load()), args=[], keywords=[]), ops=[], comparators=[])), type_comment='')\n",
      "def e():\n",
      "    return                      # FunctionDef(name='e', args=arguments(posonlyargs=[], args=[], kwonlyargs=[], kw_defaults=[], defaults=[]), body=[Return()], decorator_list=[])\n",
      "@set()\n",
      "def CQ(): # type: \n",
      "    return     # FunctionDef(name='CQ', args=arguments(posonlyargs=[], args=[], kwonlyargs=[], kw_defaults=[], defaults=[]), body=[Return()], decorator_list=[Call(func=Name(id=\"set\", ctx=Load()), args=[], keywords=[])], type_comment=\"\")\n",
      "def N():\n",
      "    return                      # FunctionDef(name='N', args=arguments(posonlyargs=[], args=[], kwonlyargs=[], kw_defaults=[], defaults=[]), body=[Return()], decorator_list=[])\n",
      "def I() -> set(): # type: \n",
      "    return    # FunctionDef(name='I', args=arguments(posonlyargs=[], args=[], kwonlyargs=[], kw_defaults=[], defaults=[]), body=[Return()], decorator_list=[], returns=Call(func=Name(id=\"set\", ctx=Load()), args=[], keywords=[]), type_comment='')\n",
      "\n"
     ]
    }
   ],
   "source": [
    "for elt in [ '<FunctionDef>' ]:\n",
    "    print(elt)\n",
    "    test_samples(PYTHON_AST_GRAMMAR, start_symbol=elt)\n",
    "    print()"
   ]
  },
  {
   "cell_type": "markdown",
   "id": "f52c5049",
   "metadata": {
    "slideshow": {
     "slide_type": "slide"
    }
   },
   "source": [
    "## A Class for Fuzzing Python\n",
    "\n",
    "For convenience, let us introduce a class `PythonFuzzer` that makes use of the above grammar in order to produce Python code. This will be fairly easy to use."
   ]
  },
  {
   "cell_type": "code",
   "execution_count": 94,
   "id": "fae02aae",
   "metadata": {
    "execution": {
     "iopub.execute_input": "2024-06-30T16:50:56.786328Z",
     "iopub.status.busy": "2024-06-30T16:50:56.786205Z",
     "iopub.status.idle": "2024-06-30T16:50:56.789480Z",
     "shell.execute_reply": "2024-06-30T16:50:56.789141Z"
    },
    "slideshow": {
     "slide_type": "subslide"
    }
   },
   "outputs": [],
   "source": [
    "class PythonFuzzer(ISLaSolver):\n",
    "    \"\"\"Produce Python code.\"\"\"\n",
    "\n",
    "    def __init__(self,\n",
    "                 start_symbol: Optional[str] = None, *,\n",
    "                 grammar: Optional[Grammar] = None,\n",
    "                 constraint: Optional[str] =None,\n",
    "                 **kw_params) -> None:\n",
    "        \"\"\"Produce Python code. Parameters are:\n",
    "\n",
    "        * `start_symbol`: The grammatical entity to be generated (default: `<FunctionDef>`)\n",
    "        * `grammar`: The EBNF grammar to be used (default: `PYTHON__AST_GRAMMAR`); and\n",
    "        * `constraint` an ISLa constraint (if any).\n",
    "\n",
    "        Additional keyword parameters are passed to the `ISLaSolver` superclass.\n",
    "        \"\"\"\n",
    "        if start_symbol is None:\n",
    "            start_symbol = '<FunctionDef>'\n",
    "        if grammar is None:\n",
    "            grammar = PYTHON_AST_GRAMMAR\n",
    "        assert start_symbol in grammar\n",
    "\n",
    "        g = convert_ebnf_grammar(grammar)\n",
    "        if constraint is None:\n",
    "            super().__init__(g, start_symbol=start_symbol, **kw_params)\n",
    "        else:\n",
    "            super().__init__(g, constraint, start_symbol=start_symbol, **kw_params)\n",
    "\n",
    "    def fuzz(self) -> str:\n",
    "        \"\"\"Produce a Python code string.\"\"\"\n",
    "        abstract_syntax_tree = eval(str(self.solve()))\n",
    "        ast.fix_missing_locations(abstract_syntax_tree)\n",
    "        return ast.unparse(abstract_syntax_tree)"
   ]
  },
  {
   "cell_type": "markdown",
   "id": "50c8fa8c",
   "metadata": {
    "slideshow": {
     "slide_type": "subslide"
    }
   },
   "source": [
    "By default, the `PythonFuzzer` will produce a _function definition_ - that is, a function header and body."
   ]
  },
  {
   "cell_type": "code",
   "execution_count": 95,
   "id": "ca85bb99",
   "metadata": {
    "execution": {
     "iopub.execute_input": "2024-06-30T16:50:56.791432Z",
     "iopub.status.busy": "2024-06-30T16:50:56.791329Z",
     "iopub.status.idle": "2024-06-30T16:50:57.104689Z",
     "shell.execute_reply": "2024-06-30T16:50:57.104370Z"
    },
    "slideshow": {
     "slide_type": "fragment"
    }
   },
   "outputs": [
    {
     "name": "stdout",
     "output_type": "stream",
     "text": [
      "def b(): # type: \n",
      "    return\n"
     ]
    }
   ],
   "source": [
    "fuzzer = PythonFuzzer()\n",
    "print(fuzzer.fuzz())"
   ]
  },
  {
   "cell_type": "markdown",
   "id": "55c1d496",
   "metadata": {
    "slideshow": {
     "slide_type": "fragment"
    }
   },
   "source": [
    "By passing a start symbol as parameter, you can have `PythonFuzzer` produce arbitrary Python elements:"
   ]
  },
  {
   "cell_type": "code",
   "execution_count": 96,
   "id": "24b98576",
   "metadata": {
    "execution": {
     "iopub.execute_input": "2024-06-30T16:50:57.106525Z",
     "iopub.status.busy": "2024-06-30T16:50:57.106394Z",
     "iopub.status.idle": "2024-06-30T16:50:57.667958Z",
     "shell.execute_reply": "2024-06-30T16:50:57.667433Z"
    },
    "slideshow": {
     "slide_type": "subslide"
    }
   },
   "outputs": [
    {
     "name": "stdout",
     "output_type": "stream",
     "text": [
      "while o():\n",
      "    pass\n",
      "else:\n",
      "    continue\n",
      "    for [m, f[:]] in [*set(), +set()]: # type: \n",
      "        set()\n",
      "        with :\n",
      "            return\n",
      "        break\n"
     ]
    }
   ],
   "source": [
    "fuzzer = PythonFuzzer('<While>')\n",
    "print(fuzzer.fuzz())"
   ]
  },
  {
   "cell_type": "markdown",
   "id": "8dc2fa25",
   "metadata": {
    "slideshow": {
     "slide_type": "fragment"
    }
   },
   "source": [
    "Here is a list of all possible start symbols:"
   ]
  },
  {
   "cell_type": "code",
   "execution_count": 97,
   "id": "fed66ded",
   "metadata": {
    "execution": {
     "iopub.execute_input": "2024-06-30T16:50:57.670300Z",
     "iopub.status.busy": "2024-06-30T16:50:57.670132Z",
     "iopub.status.idle": "2024-06-30T16:50:57.673572Z",
     "shell.execute_reply": "2024-06-30T16:50:57.673059Z"
    },
    "slideshow": {
     "slide_type": "subslide"
    }
   },
   "outputs": [
    {
     "data": {
      "text/plain": [
       "['<Assert>',\n",
       " '<Assign>',\n",
       " '<Attribute>',\n",
       " '<AugAssign>',\n",
       " '<BinOp>',\n",
       " '<BoolOp>',\n",
       " '<Break>',\n",
       " '<Call>',\n",
       " '<Compare>',\n",
       " '<Constant>',\n",
       " '<Continue>',\n",
       " '<Delete>',\n",
       " '<Dict>',\n",
       " '<EmptySet>',\n",
       " '<Expr>',\n",
       " '<For>',\n",
       " '<FunctionDef>',\n",
       " '<If>',\n",
       " '<List>',\n",
       " '<Module>',\n",
       " '<Name>',\n",
       " '<Pass>',\n",
       " '<Return>',\n",
       " '<Set>',\n",
       " '<Slice>',\n",
       " '<Starred>',\n",
       " '<Subscript>',\n",
       " '<Tuple>',\n",
       " '<UnaryOp>',\n",
       " '<While>',\n",
       " '<With>',\n",
       " '<arg>',\n",
       " '<arg_list>',\n",
       " '<args>',\n",
       " '<arguments>',\n",
       " '<bool>',\n",
       " '<boolop>',\n",
       " '<cmpop>',\n",
       " '<cmpop_list>',\n",
       " '<cmpops>',\n",
       " '<digit>',\n",
       " '<digits>',\n",
       " '<expr>',\n",
       " '<expr_list>',\n",
       " '<exprs>',\n",
       " '<float>',\n",
       " '<func>',\n",
       " '<id>',\n",
       " '<id_continue>',\n",
       " '<id_start>',\n",
       " '<identifier>',\n",
       " '<integer>',\n",
       " '<keyword>',\n",
       " '<keyword_list>',\n",
       " '<keywords>',\n",
       " '<kwarg>',\n",
       " '<lhs_Attribute>',\n",
       " '<lhs_List>',\n",
       " '<lhs_Name>',\n",
       " '<lhs_Starred>',\n",
       " '<lhs_Subscript>',\n",
       " '<lhs_Tuple>',\n",
       " '<lhs_expr>',\n",
       " '<lhs_exprs>',\n",
       " '<literal>',\n",
       " '<mod>',\n",
       " '<none>',\n",
       " '<nonempty_expr_list>',\n",
       " '<nonempty_lhs_expr_list>',\n",
       " '<nonempty_stmt_list>',\n",
       " '<nonzerodigit>',\n",
       " '<not_double_quotes>',\n",
       " '<not_single_quotes>',\n",
       " '<operator>',\n",
       " '<returns>',\n",
       " '<start>',\n",
       " '<stmt>',\n",
       " '<stmt_list>',\n",
       " '<stmts>',\n",
       " '<string>',\n",
       " '<type_comment>',\n",
       " '<type_ignore>',\n",
       " '<type_ignore_list>',\n",
       " '<type_ignores>',\n",
       " '<unaryop>',\n",
       " '<vararg>',\n",
       " '<withitem>',\n",
       " '<withitem_list>',\n",
       " '<withitems>']"
      ]
     },
     "execution_count": 97,
     "metadata": {},
     "output_type": "execute_result"
    }
   ],
   "source": [
    "sorted(list(PYTHON_AST_GRAMMAR.keys()))"
   ]
  },
  {
   "cell_type": "markdown",
   "id": "88b3560d",
   "metadata": {
    "slideshow": {
     "slide_type": "slide"
    }
   },
   "source": [
    "## Customizing the Python Fuzzer\n",
    "\n",
    "When fuzzing, you may be interested in _specific_ properties of the produced output. How can we influence the code that `PythonFuzzer` produces? We explore two ways:\n",
    "\n",
    "* By adjusting the _grammar_ to our needs\n",
    "* By adding _constraints_ that customize the output for us."
   ]
  },
  {
   "cell_type": "markdown",
   "id": "247473ee",
   "metadata": {
    "slideshow": {
     "slide_type": "subslide"
    }
   },
   "source": [
    "### Adjusting the Grammar\n",
    "\n",
    "A simple way to adjust output generation is to _adapt the grammar_.\n"
   ]
  },
  {
   "cell_type": "markdown",
   "id": "8fb4c44c",
   "metadata": {
    "slideshow": {
     "slide_type": "fragment"
    }
   },
   "source": [
    "Let us assume you'd like to have function definitions without decorators.\n",
    "To achieve this, you can _alter the rule that produces function definitions_:"
   ]
  },
  {
   "cell_type": "code",
   "execution_count": 98,
   "id": "669c2771",
   "metadata": {
    "execution": {
     "iopub.execute_input": "2024-06-30T16:50:57.675976Z",
     "iopub.status.busy": "2024-06-30T16:50:57.675874Z",
     "iopub.status.idle": "2024-06-30T16:50:57.678575Z",
     "shell.execute_reply": "2024-06-30T16:50:57.678083Z"
    },
    "slideshow": {
     "slide_type": "fragment"
    }
   },
   "outputs": [
    {
     "data": {
      "text/plain": [
       "['FunctionDef(name=<identifier>, args=<arguments>, body=<nonempty_stmt_list>, decorator_list=<expr_list><returns>?<type_comment>?)']"
      ]
     },
     "execution_count": 98,
     "metadata": {},
     "output_type": "execute_result"
    }
   ],
   "source": [
    "PYTHON_AST_GRAMMAR['<FunctionDef>']"
   ]
  },
  {
   "cell_type": "markdown",
   "id": "d1faa3e8",
   "metadata": {
    "slideshow": {
     "slide_type": "fragment"
    }
   },
   "source": [
    "As any AST rule, it comes in _abstract syntax_, so we first have to identify the element we'd like to adjust.\n",
    "In our case, this is `decorator_list`."
   ]
  },
  {
   "cell_type": "markdown",
   "id": "2cfce6b2",
   "metadata": {
    "slideshow": {
     "slide_type": "subslide"
    }
   },
   "source": [
    "Since decorator_list is a list, we can alter the rule to produce empty lists only.\n",
    "To create a new adapted grammar, we do not alter the existing `PYTHON_AST_GRAMMAR`.\n",
    "Instead, we use the `extend_grammar()` function to create a new grammar with a new, adapted rule for `<FunctionDef>`:"
   ]
  },
  {
   "cell_type": "code",
   "execution_count": 99,
   "id": "a38eba61",
   "metadata": {
    "execution": {
     "iopub.execute_input": "2024-06-30T16:50:57.680693Z",
     "iopub.status.busy": "2024-06-30T16:50:57.680527Z",
     "iopub.status.idle": "2024-06-30T16:50:57.682840Z",
     "shell.execute_reply": "2024-06-30T16:50:57.682464Z"
    },
    "slideshow": {
     "slide_type": "fragment"
    }
   },
   "outputs": [],
   "source": [
    "python_ast_grammar_without_decorators: Grammar = extend_grammar(PYTHON_AST_GRAMMAR,\n",
    "{\n",
    "    '<FunctionDef>' :\n",
    "        ['FunctionDef(name=<identifier>, args=<arguments>, body=<nonempty_stmt_list>, decorator_list=[])']\n",
    "})"
   ]
  },
  {
   "cell_type": "markdown",
   "id": "7b2b7b4c",
   "metadata": {
    "slideshow": {
     "slide_type": "subslide"
    }
   },
   "source": [
    "However, we're not done yet.\n",
    "We also need to ensure that our grammar is _valid_, as any misspelled nonterminal identifier will result in problems during production.\n",
    "For this, we use the `is_valid_grammar()` function:"
   ]
  },
  {
   "cell_type": "code",
   "execution_count": 100,
   "id": "f444838b",
   "metadata": {
    "execution": {
     "iopub.execute_input": "2024-06-30T16:50:57.684621Z",
     "iopub.status.busy": "2024-06-30T16:50:57.684491Z",
     "iopub.status.idle": "2024-06-30T16:50:57.686255Z",
     "shell.execute_reply": "2024-06-30T16:50:57.685974Z"
    },
    "slideshow": {
     "slide_type": "skip"
    }
   },
   "outputs": [],
   "source": [
    "from ExpectError import ExpectError"
   ]
  },
  {
   "cell_type": "code",
   "execution_count": 101,
   "id": "f037de69",
   "metadata": {
    "execution": {
     "iopub.execute_input": "2024-06-30T16:50:57.688046Z",
     "iopub.status.busy": "2024-06-30T16:50:57.687906Z",
     "iopub.status.idle": "2024-06-30T16:50:57.690579Z",
     "shell.execute_reply": "2024-06-30T16:50:57.690200Z"
    },
    "slideshow": {
     "slide_type": "fragment"
    }
   },
   "outputs": [
    {
     "name": "stderr",
     "output_type": "stream",
     "text": [
      "'<returns>': defined, but not used. Consider applying trim_grammar() on the grammar\n",
      "'<returns>': unreachable from <start>. Consider applying trim_grammar() on the grammar\n",
      "Traceback (most recent call last):\n",
      "  File \"/var/folders/n2/xd9445p97rb3xh7m1dfx8_4h0006ts/T/ipykernel_4461/3611578183.py\", line 2, in <cell line: 1>\n",
      "    assert is_valid_grammar(python_ast_grammar_without_decorators)\n",
      "AssertionError (expected)\n"
     ]
    }
   ],
   "source": [
    "with ExpectError():\n",
    "    assert is_valid_grammar(python_ast_grammar_without_decorators)"
   ]
  },
  {
   "cell_type": "markdown",
   "id": "8373e6ad",
   "metadata": {
    "slideshow": {
     "slide_type": "subslide"
    }
   },
   "source": [
    "We see that with our change, our grammar has an _orphaned rule_: The `<returns>` rule is no longer used.\n",
    "This is because `<returns>` is part of the `<type_annotation>` we just have deleted.\n",
    "(`<type_annotation>` is still used when defining types for variables.)"
   ]
  },
  {
   "cell_type": "markdown",
   "id": "48e56f63",
   "metadata": {
    "slideshow": {
     "slide_type": "fragment"
    }
   },
   "source": [
    "To fix this, we need to delete the `<returns>` rule from our grammar.\n",
    "Fortunately, we have a function `trim_grammar()`, which deletes all orphaned rules:"
   ]
  },
  {
   "cell_type": "code",
   "execution_count": 102,
   "id": "adc58243",
   "metadata": {
    "execution": {
     "iopub.execute_input": "2024-06-30T16:50:57.692558Z",
     "iopub.status.busy": "2024-06-30T16:50:57.692393Z",
     "iopub.status.idle": "2024-06-30T16:50:57.695039Z",
     "shell.execute_reply": "2024-06-30T16:50:57.694727Z"
    },
    "slideshow": {
     "slide_type": "fragment"
    }
   },
   "outputs": [],
   "source": [
    "python_ast_grammar_without_decorators = trim_grammar(python_ast_grammar_without_decorators)"
   ]
  },
  {
   "cell_type": "markdown",
   "id": "78d26e1b",
   "metadata": {
    "slideshow": {
     "slide_type": "fragment"
    }
   },
   "source": [
    "With this, our grammar becomes valid..."
   ]
  },
  {
   "cell_type": "code",
   "execution_count": 103,
   "id": "59609fed",
   "metadata": {
    "execution": {
     "iopub.execute_input": "2024-06-30T16:50:57.696914Z",
     "iopub.status.busy": "2024-06-30T16:50:57.696762Z",
     "iopub.status.idle": "2024-06-30T16:50:57.699253Z",
     "shell.execute_reply": "2024-06-30T16:50:57.698872Z"
    },
    "slideshow": {
     "slide_type": "fragment"
    }
   },
   "outputs": [],
   "source": [
    "assert is_valid_grammar(python_ast_grammar_without_decorators)"
   ]
  },
  {
   "cell_type": "markdown",
   "id": "e5a51a4c",
   "metadata": {
    "slideshow": {
     "slide_type": "fragment"
    }
   },
   "source": [
    "... and we can use it for fuzzing - now without decorators:"
   ]
  },
  {
   "cell_type": "code",
   "execution_count": 104,
   "id": "ead3d7d7",
   "metadata": {
    "execution": {
     "iopub.execute_input": "2024-06-30T16:50:57.701071Z",
     "iopub.status.busy": "2024-06-30T16:50:57.700894Z",
     "iopub.status.idle": "2024-06-30T16:50:57.984603Z",
     "shell.execute_reply": "2024-06-30T16:50:57.983954Z"
    },
    "slideshow": {
     "slide_type": "subslide"
    }
   },
   "outputs": [
    {
     "name": "stdout",
     "output_type": "stream",
     "text": [
      "def A():\n",
      "    return\n",
      "    continue\n"
     ]
    }
   ],
   "source": [
    "fuzzer = PythonFuzzer(grammar=python_ast_grammar_without_decorators)\n",
    "print(fuzzer.fuzz())"
   ]
  },
  {
   "cell_type": "markdown",
   "id": "b561ab50",
   "metadata": {
    "slideshow": {
     "slide_type": "fragment"
    }
   },
   "source": [
    "Adjusting the grammar is straightforward once you understood the grammar structure, but the AST grammar is complex; also, your changes and extensions tie you closely to the grammar structure.\n",
    "Carefully study how the individual rules are defined, above."
   ]
  },
  {
   "cell_type": "markdown",
   "id": "47f98e3a",
   "metadata": {
    "slideshow": {
     "slide_type": "subslide"
    }
   },
   "source": [
    "### Using Constraints for Customizing\n",
    "\n",
    "A more elegant alternative to altering the grammar is to make use of _constraints_ that tune the grammar to your needs.\n",
    "Since `PythonFuzzer` is derived from `ISLaSolver`, we can pass a `constraint` argument constraining the grammar, as discussed in the chapter on [fuzzing with constraints](FuzzingWithConstraints.ipynb)."
   ]
  },
  {
   "cell_type": "markdown",
   "id": "f7a40093",
   "metadata": {
    "slideshow": {
     "slide_type": "fragment"
    }
   },
   "source": [
    "\n",
    "\n",
    "If we want to have a function definition with 10 characters in each identifier, we make use of an ISLa constraint:"
   ]
  },
  {
   "cell_type": "code",
   "execution_count": 105,
   "id": "6a2c1630",
   "metadata": {
    "execution": {
     "iopub.execute_input": "2024-06-30T16:50:57.986513Z",
     "iopub.status.busy": "2024-06-30T16:50:57.986385Z",
     "iopub.status.idle": "2024-06-30T16:51:03.367685Z",
     "shell.execute_reply": "2024-06-30T16:51:03.367222Z"
    },
    "slideshow": {
     "slide_type": "subslide"
    }
   },
   "outputs": [
    {
     "name": "stdout",
     "output_type": "stream",
     "text": [
      "def ADJ4l5Tlq_():\n",
      "    return\n"
     ]
    }
   ],
   "source": [
    "fuzzer = PythonFuzzer(constraint='str.len(<id>) = 10')\n",
    "print(fuzzer.fuzz())"
   ]
  },
  {
   "cell_type": "markdown",
   "id": "2697f34e",
   "metadata": {
    "slideshow": {
     "slide_type": "fragment"
    }
   },
   "source": [
    "We can also constrain individual children – say, the actual identifier of the function."
   ]
  },
  {
   "cell_type": "code",
   "execution_count": 106,
   "id": "0af08da8",
   "metadata": {
    "execution": {
     "iopub.execute_input": "2024-06-30T16:51:03.369715Z",
     "iopub.status.busy": "2024-06-30T16:51:03.369568Z",
     "iopub.status.idle": "2024-06-30T16:51:29.417298Z",
     "shell.execute_reply": "2024-06-30T16:51:29.416923Z"
    },
    "slideshow": {
     "slide_type": "fragment"
    }
   },
   "outputs": [
    {
     "name": "stdout",
     "output_type": "stream",
     "text": [
      "@'K'\n",
      "def my_favorite_function(I, /, *, Dq={set(): set(), set(): set()}, **Q) -> ([][():] in set() >= O) // (*[q6[*set():()]],):\n",
      "    return (not ai.w(set() or set())).voetXABV\n"
     ]
    }
   ],
   "source": [
    "# Also works (the <identifier> has quotes)\n",
    "fuzzer = PythonFuzzer(constraint='<FunctionDef>.<identifier> = \"\\'my_favorite_function\\'\"')\n",
    "print(fuzzer.fuzz())"
   ]
  },
  {
   "cell_type": "markdown",
   "id": "02c3b0ee",
   "metadata": {
    "slideshow": {
     "slide_type": "subslide"
    }
   },
   "source": [
    "Assume we want to test how the compiler handles large numbers. Let us define a constraint such that the function body (`<nonempty_stmt_list>`) contains at least one integer (`<integer>`) with a value of at least 1000:"
   ]
  },
  {
   "cell_type": "code",
   "execution_count": 107,
   "id": "233af57e",
   "metadata": {
    "execution": {
     "iopub.execute_input": "2024-06-30T16:51:29.419585Z",
     "iopub.status.busy": "2024-06-30T16:51:29.419425Z",
     "iopub.status.idle": "2024-06-30T16:51:40.078688Z",
     "shell.execute_reply": "2024-06-30T16:51:40.078151Z"
    },
    "slideshow": {
     "slide_type": "subslide"
    }
   },
   "outputs": [
    {
     "name": "stdout",
     "output_type": "stream",
     "text": [
      "@{}\n",
      "@\n",
      "{set()[:]}\n",
      "@R(() - set())\n",
      "def Fz(yw, l=~(), /, *, **rhnC) -> [Ep4vmVd3RqNGD1s87UXjKgLH9VY].u0Pl6bOkaorfZeucYIyiE2SQ5TAtW_MBFJx: # type: \n",
      "    del 1008\n"
     ]
    }
   ],
   "source": [
    "fuzzer = PythonFuzzer(constraint=\n",
    "\"\"\"\n",
    "    exists <integer> x:\n",
    "        (inside(x, <nonempty_stmt_list>) and str.to.int(x) > 1000)\n",
    "\"\"\")\n",
    "print(fuzzer.fuzz())"
   ]
  },
  {
   "cell_type": "markdown",
   "id": "5fe2b975",
   "metadata": {
    "slideshow": {
     "slide_type": "subslide"
    }
   },
   "source": [
    "Assume we'd like to test compilers with non-trivial functions. Here's how to define a constraint such that the function body has exactly _three_ statements (`<stmt>`). Note that this can take more than a minute to resolve, but the result definitely is a nontrivial function."
   ]
  },
  {
   "cell_type": "code",
   "execution_count": 108,
   "id": "d8b0b0d0",
   "metadata": {
    "execution": {
     "iopub.execute_input": "2024-06-30T16:51:40.081303Z",
     "iopub.status.busy": "2024-06-30T16:51:40.081133Z",
     "iopub.status.idle": "2024-06-30T16:52:22.691759Z",
     "shell.execute_reply": "2024-06-30T16:52:22.691403Z"
    },
    "slideshow": {
     "slide_type": "subslide"
    }
   },
   "outputs": [
    {
     "name": "stdout",
     "output_type": "stream",
     "text": [
      "@[{(*RkVG[(set(), set(), set()):]): 'F'}]\n",
      "def Qg(_, *dd, V=set() | A, **H) -> (set() // set() ^ set() @ set() & set()) >> (set() - set()) ** (set() / set()): # type: Q-(U'@<*=j4`tH1R%u&L53ImK~Z/8$NEWr!l].o,_Xgf?#JvM d)PTGk[b07a}C>yVzS^A2qDnB|+;sw:eO{ixYc6h9mpA4:&\n",
      "    with *\n",
      "    set().z.DS0(set(), set(), (), l=set()[:]): # type: k\n",
      "        return\n",
      "    pass\n"
     ]
    }
   ],
   "source": [
    "# This will not work with ISLa 2\n",
    "fuzzer = PythonFuzzer(constraint=\"\"\"\n",
    "    forall <FunctionDef> def: count(def, \"<stmt>\", \"3\")\n",
    "\"\"\")\n",
    "print(fuzzer.fuzz())"
   ]
  },
  {
   "cell_type": "markdown",
   "id": "5fb6cee8",
   "metadata": {
    "slideshow": {
     "slide_type": "fragment"
    }
   },
   "source": [
    "And finally, if we want the decorator list to be empty, as in our grammar-altering example, we can constrain the decorator list to be empty:"
   ]
  },
  {
   "cell_type": "code",
   "execution_count": 109,
   "id": "f4980049",
   "metadata": {
    "execution": {
     "iopub.execute_input": "2024-06-30T16:52:22.693791Z",
     "iopub.status.busy": "2024-06-30T16:52:22.693649Z",
     "iopub.status.idle": "2024-06-30T16:52:22.695406Z",
     "shell.execute_reply": "2024-06-30T16:52:22.695119Z"
    },
    "slideshow": {
     "slide_type": "subslide"
    }
   },
   "outputs": [],
   "source": [
    "# ignore\n",
    "# with ExpectError(mute=True):\n",
    "#     # Triggers an ISLa error (AssertionError)\n",
    "#     fuzzer = PythonFuzzer(constraint='''\n",
    "#         str.contains(<FunctionDef>, \"decorator_list=[]\")\n",
    "#     ''')\n",
    "#     print(fuzzer.fuzz())"
   ]
  },
  {
   "cell_type": "code",
   "execution_count": 110,
   "id": "bc62ebfb",
   "metadata": {
    "execution": {
     "iopub.execute_input": "2024-06-30T16:52:22.696942Z",
     "iopub.status.busy": "2024-06-30T16:52:22.696832Z",
     "iopub.status.idle": "2024-06-30T16:52:22.698540Z",
     "shell.execute_reply": "2024-06-30T16:52:22.698267Z"
    },
    "slideshow": {
     "slide_type": "fragment"
    }
   },
   "outputs": [],
   "source": [
    "# ignore\n",
    "# with ExpectError(mute=True):\n",
    "#     # Triggers an ISLa error (AssertionError)\n",
    "#     fuzzer = PythonFuzzer(constraint='<FunctionDef>.<expr_list> = \"[]\"')\n",
    "#     print(fuzzer.fuzz())"
   ]
  },
  {
   "cell_type": "code",
   "execution_count": 111,
   "id": "a693fbdb",
   "metadata": {
    "execution": {
     "iopub.execute_input": "2024-06-30T16:52:22.700185Z",
     "iopub.status.busy": "2024-06-30T16:52:22.700030Z",
     "iopub.status.idle": "2024-06-30T16:52:25.852230Z",
     "shell.execute_reply": "2024-06-30T16:52:25.851910Z"
    },
    "slideshow": {
     "slide_type": "subslide"
    }
   },
   "outputs": [
    {
     "name": "stdout",
     "output_type": "stream",
     "text": [
      "def j1(UWFJ_yVsHQOzbYEIth6DiGUSfwnM0NXPma8BdLvRgTlp7u423qcx5k9CAZeKjrBoKM, *Ol, **T):\n",
      "    break\n"
     ]
    }
   ],
   "source": [
    "fuzzer = PythonFuzzer(constraint='<FunctionDef>..<expr_list> = \"[]\"')\n",
    "print(fuzzer.fuzz())"
   ]
  },
  {
   "cell_type": "markdown",
   "id": "bd7f8907",
   "metadata": {
    "slideshow": {
     "slide_type": "slide"
    }
   },
   "source": [
    "## Mutating Code\n",
    "\n",
    "When producing code for compilers (or actually, producing inputs in general), it is often a good idea to not just create _everything_ from scratch, but rather to _mutate_ existing inputs. This way, one can achieve a better balance between _common_ inputs (the ones to mutate) and _uncommon inputs_ (the new parts added via mutation)."
   ]
  },
  {
   "cell_type": "markdown",
   "id": "2c1f4a85",
   "metadata": {
    "slideshow": {
     "slide_type": "subslide"
    }
   },
   "source": [
    "### Parsing Inputs\n",
    "\n",
    "To _mutate_ inputs, we first need to be able to _parse_ them. This is where a grammar is really put to test - can it really parse all possible code? This is why relying on an _existing_ parser that is tried and proven (in our case the Python parser) and operating on an _abstraction_ (in our case the AST) is really handy."
   ]
  },
  {
   "cell_type": "markdown",
   "id": "7eb27388",
   "metadata": {
    "slideshow": {
     "slide_type": "fragment"
    }
   },
   "source": [
    "We already have seen how to parse code into an AST, using `ast.parse()`:"
   ]
  },
  {
   "cell_type": "code",
   "execution_count": 112,
   "id": "057babee",
   "metadata": {
    "execution": {
     "iopub.execute_input": "2024-06-30T16:52:25.854332Z",
     "iopub.status.busy": "2024-06-30T16:52:25.854160Z",
     "iopub.status.idle": "2024-06-30T16:52:25.856276Z",
     "shell.execute_reply": "2024-06-30T16:52:25.855901Z"
    },
    "slideshow": {
     "slide_type": "fragment"
    }
   },
   "outputs": [],
   "source": [
    "def sum(a, b):    # A simple example\n",
    "    the_sum = a + b\n",
    "    return the_sum"
   ]
  },
  {
   "cell_type": "code",
   "execution_count": 113,
   "id": "ae5b0565",
   "metadata": {
    "execution": {
     "iopub.execute_input": "2024-06-30T16:52:25.858244Z",
     "iopub.status.busy": "2024-06-30T16:52:25.858075Z",
     "iopub.status.idle": "2024-06-30T16:52:25.860608Z",
     "shell.execute_reply": "2024-06-30T16:52:25.860264Z"
    },
    "slideshow": {
     "slide_type": "subslide"
    }
   },
   "outputs": [
    {
     "name": "stdout",
     "output_type": "stream",
     "text": [
      "def sum(a, b):\n",
      "    the_sum = a + b\n",
      "    return the_sum\n"
     ]
    }
   ],
   "source": [
    "sum_source = inspect.getsource(sum)\n",
    "sum_tree = ast.parse(sum_source)\n",
    "print(ast.unparse(sum_tree))"
   ]
  },
  {
   "cell_type": "code",
   "execution_count": 114,
   "id": "f74b3df4",
   "metadata": {
    "execution": {
     "iopub.execute_input": "2024-06-30T16:52:25.862333Z",
     "iopub.status.busy": "2024-06-30T16:52:25.862202Z",
     "iopub.status.idle": "2024-06-30T16:52:25.864533Z",
     "shell.execute_reply": "2024-06-30T16:52:25.864255Z"
    },
    "slideshow": {
     "slide_type": "fragment"
    }
   },
   "outputs": [
    {
     "data": {
      "text/plain": [
       "\"Module(body=[FunctionDef(name='sum', args=arguments(posonlyargs=[], args=[arg(arg='a'), arg(arg='b')], kwonlyargs=[], kw_defaults=[], defaults=[]), body=[Assign(targets=[Name(id='the_sum', ctx=Store())], value=BinOp(left=Name(id='a', ctx=Load()), op=Add(), right=Name(id='b', ctx=Load()))), Return(value=Name(id='the_sum', ctx=Load()))], decorator_list=[])], type_ignores=[])\""
      ]
     },
     "execution_count": 114,
     "metadata": {},
     "output_type": "execute_result"
    }
   ],
   "source": [
    "sum_str = ast.dump(sum_tree)\n",
    "sum_str"
   ]
  },
  {
   "cell_type": "markdown",
   "id": "b1eaf3d8",
   "metadata": {
    "slideshow": {
     "slide_type": "fragment"
    }
   },
   "source": [
    "Our grammar is able to parse this (non_trivial) string:"
   ]
  },
  {
   "cell_type": "code",
   "execution_count": 115,
   "id": "a6faaefc",
   "metadata": {
    "execution": {
     "iopub.execute_input": "2024-06-30T16:52:25.866206Z",
     "iopub.status.busy": "2024-06-30T16:52:25.866082Z",
     "iopub.status.idle": "2024-06-30T16:52:25.884542Z",
     "shell.execute_reply": "2024-06-30T16:52:25.884068Z"
    },
    "slideshow": {
     "slide_type": "fragment"
    }
   },
   "outputs": [
    {
     "data": {
      "text/plain": [
       "True"
      ]
     },
     "execution_count": 115,
     "metadata": {},
     "output_type": "execute_result"
    }
   ],
   "source": [
    "solver = ISLaSolver(python_ast_grammar)\n",
    "solver.check(sum_str)"
   ]
  },
  {
   "cell_type": "markdown",
   "id": "dfed5fee",
   "metadata": {
    "slideshow": {
     "slide_type": "subslide"
    }
   },
   "source": [
    "To mutate the input, we first have to parse it into a _derivation tree_ structure. This is (again) a tree representation of the code, but this time, using the elements of _our_ grammar."
   ]
  },
  {
   "cell_type": "code",
   "execution_count": 116,
   "id": "510ad76a",
   "metadata": {
    "execution": {
     "iopub.execute_input": "2024-06-30T16:52:25.886428Z",
     "iopub.status.busy": "2024-06-30T16:52:25.886297Z",
     "iopub.status.idle": "2024-06-30T16:52:25.902263Z",
     "shell.execute_reply": "2024-06-30T16:52:25.901882Z"
    },
    "slideshow": {
     "slide_type": "fragment"
    }
   },
   "outputs": [],
   "source": [
    "sum_tree = solver.parse(sum_str)"
   ]
  },
  {
   "cell_type": "markdown",
   "id": "c99a548c",
   "metadata": {
    "slideshow": {
     "slide_type": "fragment"
    }
   },
   "source": [
    "Let us inspect what a derivation tree looks like. Alas, the string representation is very long and not that useful:"
   ]
  },
  {
   "cell_type": "code",
   "execution_count": 117,
   "id": "a2b6f02e",
   "metadata": {
    "execution": {
     "iopub.execute_input": "2024-06-30T16:52:25.904364Z",
     "iopub.status.busy": "2024-06-30T16:52:25.904183Z",
     "iopub.status.idle": "2024-06-30T16:52:25.907141Z",
     "shell.execute_reply": "2024-06-30T16:52:25.906784Z"
    },
    "slideshow": {
     "slide_type": "fragment"
    }
   },
   "outputs": [
    {
     "data": {
      "text/plain": [
       "8356"
      ]
     },
     "execution_count": 117,
     "metadata": {},
     "output_type": "execute_result"
    }
   ],
   "source": [
    "len(repr(sum_tree))"
   ]
  },
  {
   "cell_type": "code",
   "execution_count": 118,
   "id": "925ef268",
   "metadata": {
    "execution": {
     "iopub.execute_input": "2024-06-30T16:52:25.909163Z",
     "iopub.status.busy": "2024-06-30T16:52:25.909023Z",
     "iopub.status.idle": "2024-06-30T16:52:25.911850Z",
     "shell.execute_reply": "2024-06-30T16:52:25.911440Z"
    },
    "slideshow": {
     "slide_type": "fragment"
    }
   },
   "outputs": [
    {
     "data": {
      "text/plain": [
       "\"DerivationTree('<start>', (DerivationTree('<mod>', (DerivationTree('<Module>', (DerivationTree('Module(body=', (), id=490746), DerivationTree('<nonempty_stmt_list>', (DerivationTree('[', (), id=490744\""
      ]
     },
     "execution_count": 118,
     "metadata": {},
     "output_type": "execute_result"
    }
   ],
   "source": [
    "repr(sum_tree)[:200]"
   ]
  },
  {
   "cell_type": "markdown",
   "id": "03d9edba",
   "metadata": {
    "slideshow": {
     "slide_type": "fragment"
    }
   },
   "source": [
    "However, we can _visualize_ the derivation tree:"
   ]
  },
  {
   "cell_type": "code",
   "execution_count": 119,
   "id": "e72f93c8",
   "metadata": {
    "execution": {
     "iopub.execute_input": "2024-06-30T16:52:25.913725Z",
     "iopub.status.busy": "2024-06-30T16:52:25.913561Z",
     "iopub.status.idle": "2024-06-30T16:52:25.939337Z",
     "shell.execute_reply": "2024-06-30T16:52:25.939014Z"
    },
    "slideshow": {
     "slide_type": "skip"
    }
   },
   "outputs": [],
   "source": [
    "from GrammarFuzzer import display_tree"
   ]
  },
  {
   "cell_type": "code",
   "execution_count": 120,
   "id": "2326d448",
   "metadata": {
    "execution": {
     "iopub.execute_input": "2024-06-30T16:52:25.941260Z",
     "iopub.status.busy": "2024-06-30T16:52:25.941129Z",
     "iopub.status.idle": "2024-06-30T16:52:26.455423Z",
     "shell.execute_reply": "2024-06-30T16:52:26.454990Z"
    },
    "slideshow": {
     "slide_type": "fragment"
    }
   },
   "outputs": [
    {
     "data": {
      "image/svg+xml": [
       "<?xml version=\"1.0\" encoding=\"UTF-8\" standalone=\"no\"?>\n",
       "<!DOCTYPE svg PUBLIC \"-//W3C//DTD SVG 1.1//EN\"\n",
       " \"http://www.w3.org/Graphics/SVG/1.1/DTD/svg11.dtd\">\n",
       "<!-- Generated by graphviz version 11.0.0 (20240428.1522)\n",
       " -->\n",
       "<!-- Pages: 1 -->\n",
       "<svg width=\"2085pt\" height=\"1228pt\"\n",
       " viewBox=\"0.00 0.00 2085.25 1228.25\" xmlns=\"http://www.w3.org/2000/svg\" xmlns:xlink=\"http://www.w3.org/1999/xlink\">\n",
       "<g id=\"graph0\" class=\"graph\" transform=\"scale(1 1) rotate(0) translate(4 1224.25)\">\n",
       "<polygon fill=\"white\" stroke=\"none\" points=\"-4,4 -4,-1224.25 2081.25,-1224.25 2081.25,4 -4,4\"/>\n",
       "<!-- 0 -->\n",
       "<g id=\"node1\" class=\"node\">\n",
       "<title>0</title>\n",
       "<text text-anchor=\"middle\" x=\"1383.5\" y=\"-1206.95\" font-family=\"Times,serif\" font-size=\"14.00\">&lt;start&gt;</text>\n",
       "</g>\n",
       "<!-- 1 -->\n",
       "<g id=\"node2\" class=\"node\">\n",
       "<title>1</title>\n",
       "<text text-anchor=\"middle\" x=\"1383.5\" y=\"-1156.7\" font-family=\"Times,serif\" font-size=\"14.00\">&lt;mod&gt;</text>\n",
       "</g>\n",
       "<!-- 0&#45;&gt;1 -->\n",
       "<g id=\"edge1\" class=\"edge\">\n",
       "<title>0&#45;&gt;1</title>\n",
       "<path fill=\"none\" stroke=\"black\" d=\"M1383.5,-1206.21C1383.5,-1199.99 1383.5,-1189.9 1383.5,-1181.14\"/>\n",
       "<polygon fill=\"black\" stroke=\"black\" points=\"1387,-1181.35 1383.5,-1171.35 1380,-1181.35 1387,-1181.35\"/>\n",
       "</g>\n",
       "<!-- 2 -->\n",
       "<g id=\"node3\" class=\"node\">\n",
       "<title>2</title>\n",
       "<text text-anchor=\"middle\" x=\"1383.5\" y=\"-1106.45\" font-family=\"Times,serif\" font-size=\"14.00\">&lt;Module&gt;</text>\n",
       "</g>\n",
       "<!-- 1&#45;&gt;2 -->\n",
       "<g id=\"edge2\" class=\"edge\">\n",
       "<title>1&#45;&gt;2</title>\n",
       "<path fill=\"none\" stroke=\"black\" d=\"M1383.5,-1155.96C1383.5,-1149.74 1383.5,-1139.65 1383.5,-1130.89\"/>\n",
       "<polygon fill=\"black\" stroke=\"black\" points=\"1387,-1131.1 1383.5,-1121.1 1380,-1131.1 1387,-1131.1\"/>\n",
       "</g>\n",
       "<!-- 3 -->\n",
       "<g id=\"node4\" class=\"node\">\n",
       "<title>3</title>\n",
       "<text text-anchor=\"middle\" x=\"1138.5\" y=\"-1056.2\" font-family=\"Times,serif\" font-size=\"14.00\">Module(body=</text>\n",
       "</g>\n",
       "<!-- 2&#45;&gt;3 -->\n",
       "<g id=\"edge3\" class=\"edge\">\n",
       "<title>2&#45;&gt;3</title>\n",
       "<path fill=\"none\" stroke=\"black\" d=\"M1353.95,-1105.8C1310.71,-1097.29 1229.98,-1081.39 1180.56,-1071.66\"/>\n",
       "<polygon fill=\"black\" stroke=\"black\" points=\"1181.29,-1068.23 1170.8,-1069.74 1179.93,-1075.1 1181.29,-1068.23\"/>\n",
       "</g>\n",
       "<!-- 4 -->\n",
       "<g id=\"node5\" class=\"node\">\n",
       "<title>4</title>\n",
       "<text text-anchor=\"middle\" x=\"1260.5\" y=\"-1056.2\" font-family=\"Times,serif\" font-size=\"14.00\">&lt;nonempty_stmt_list&gt;</text>\n",
       "</g>\n",
       "<!-- 2&#45;&gt;4 -->\n",
       "<g id=\"edge4\" class=\"edge\">\n",
       "<title>2&#45;&gt;4</title>\n",
       "<path fill=\"none\" stroke=\"black\" d=\"M1367.92,-1105.51C1347.4,-1097.47 1311.04,-1083.2 1286.37,-1073.52\"/>\n",
       "<polygon fill=\"black\" stroke=\"black\" points=\"1287.95,-1070.38 1277.36,-1069.99 1285.39,-1076.9 1287.95,-1070.38\"/>\n",
       "</g>\n",
       "<!-- 193 -->\n",
       "<g id=\"node194\" class=\"node\">\n",
       "<title>193</title>\n",
       "<text text-anchor=\"middle\" x=\"1383.5\" y=\"-1056.2\" font-family=\"Times,serif\" font-size=\"14.00\">, type_ignores=</text>\n",
       "</g>\n",
       "<!-- 2&#45;&gt;193 -->\n",
       "<g id=\"edge193\" class=\"edge\">\n",
       "<title>2&#45;&gt;193</title>\n",
       "<path fill=\"none\" stroke=\"black\" d=\"M1383.5,-1105.71C1383.5,-1099.49 1383.5,-1089.4 1383.5,-1080.64\"/>\n",
       "<polygon fill=\"black\" stroke=\"black\" points=\"1387,-1080.85 1383.5,-1070.85 1380,-1080.85 1387,-1080.85\"/>\n",
       "</g>\n",
       "<!-- 194 -->\n",
       "<g id=\"node195\" class=\"node\">\n",
       "<title>194</title>\n",
       "<text text-anchor=\"middle\" x=\"1496.5\" y=\"-1056.2\" font-family=\"Times,serif\" font-size=\"14.00\">&lt;type_ignore_list&gt;</text>\n",
       "</g>\n",
       "<!-- 2&#45;&gt;194 -->\n",
       "<g id=\"edge194\" class=\"edge\">\n",
       "<title>2&#45;&gt;194</title>\n",
       "<path fill=\"none\" stroke=\"black\" d=\"M1397.81,-1105.51C1416.41,-1097.57 1449.16,-1083.59 1471.81,-1073.92\"/>\n",
       "<polygon fill=\"black\" stroke=\"black\" points=\"1473.09,-1077.18 1480.91,-1070.03 1470.34,-1070.74 1473.09,-1077.18\"/>\n",
       "</g>\n",
       "<!-- 198 -->\n",
       "<g id=\"node199\" class=\"node\">\n",
       "<title>198</title>\n",
       "<text text-anchor=\"middle\" x=\"1582.5\" y=\"-1056.2\" font-family=\"Times,serif\" font-size=\"14.00\">) (41)</text>\n",
       "</g>\n",
       "<!-- 2&#45;&gt;198 -->\n",
       "<g id=\"edge198\" class=\"edge\">\n",
       "<title>2&#45;&gt;198</title>\n",
       "<path fill=\"none\" stroke=\"black\" d=\"M1408.86,-1105.51C1440.76,-1097.81 1497.49,-1084.1 1556.19,-1069.81\"/>\n",
       "<polygon fill=\"black\" stroke=\"black\" points=\"1556.81,-1073.26 1565.69,-1067.5 1555.15,-1066.46 1556.81,-1073.26\"/>\n",
       "</g>\n",
       "<!-- 5 -->\n",
       "<g id=\"node6\" class=\"node\">\n",
       "<title>5</title>\n",
       "<text text-anchor=\"middle\" x=\"1204.5\" y=\"-1005.95\" font-family=\"Times,serif\" font-size=\"14.00\">[ (91)</text>\n",
       "</g>\n",
       "<!-- 4&#45;&gt;5 -->\n",
       "<g id=\"edge5\" class=\"edge\">\n",
       "<title>4&#45;&gt;5</title>\n",
       "<path fill=\"none\" stroke=\"black\" d=\"M1253.63,-1055.46C1245.32,-1048.3 1231.07,-1036.01 1220.05,-1026.52\"/>\n",
       "<polygon fill=\"black\" stroke=\"black\" points=\"1222.43,-1023.95 1212.57,-1020.08 1217.86,-1029.26 1222.43,-1023.95\"/>\n",
       "</g>\n",
       "<!-- 6 -->\n",
       "<g id=\"node7\" class=\"node\">\n",
       "<title>6</title>\n",
       "<text text-anchor=\"middle\" x=\"1260.5\" y=\"-1005.95\" font-family=\"Times,serif\" font-size=\"14.00\">&lt;stmts&gt;</text>\n",
       "</g>\n",
       "<!-- 4&#45;&gt;6 -->\n",
       "<g id=\"edge6\" class=\"edge\">\n",
       "<title>4&#45;&gt;6</title>\n",
       "<path fill=\"none\" stroke=\"black\" d=\"M1260.5,-1055.46C1260.5,-1049.24 1260.5,-1039.15 1260.5,-1030.39\"/>\n",
       "<polygon fill=\"black\" stroke=\"black\" points=\"1264,-1030.6 1260.5,-1020.6 1257,-1030.6 1264,-1030.6\"/>\n",
       "</g>\n",
       "<!-- 192 -->\n",
       "<g id=\"node193\" class=\"node\">\n",
       "<title>192</title>\n",
       "<text text-anchor=\"middle\" x=\"1316.5\" y=\"-1005.95\" font-family=\"Times,serif\" font-size=\"14.00\">] (93)</text>\n",
       "</g>\n",
       "<!-- 4&#45;&gt;192 -->\n",
       "<g id=\"edge192\" class=\"edge\">\n",
       "<title>4&#45;&gt;192</title>\n",
       "<path fill=\"none\" stroke=\"black\" d=\"M1267.37,-1055.46C1275.68,-1048.3 1289.93,-1036.01 1300.95,-1026.52\"/>\n",
       "<polygon fill=\"black\" stroke=\"black\" points=\"1303.14,-1029.26 1308.43,-1020.08 1298.57,-1023.95 1303.14,-1029.26\"/>\n",
       "</g>\n",
       "<!-- 7 -->\n",
       "<g id=\"node8\" class=\"node\">\n",
       "<title>7</title>\n",
       "<text text-anchor=\"middle\" x=\"1260.5\" y=\"-955.7\" font-family=\"Times,serif\" font-size=\"14.00\">&lt;stmt&gt;</text>\n",
       "</g>\n",
       "<!-- 6&#45;&gt;7 -->\n",
       "<g id=\"edge7\" class=\"edge\">\n",
       "<title>6&#45;&gt;7</title>\n",
       "<path fill=\"none\" stroke=\"black\" d=\"M1260.5,-1005.21C1260.5,-998.99 1260.5,-988.9 1260.5,-980.14\"/>\n",
       "<polygon fill=\"black\" stroke=\"black\" points=\"1264,-980.35 1260.5,-970.35 1257,-980.35 1264,-980.35\"/>\n",
       "</g>\n",
       "<!-- 8 -->\n",
       "<g id=\"node9\" class=\"node\">\n",
       "<title>8</title>\n",
       "<text text-anchor=\"middle\" x=\"1260.5\" y=\"-905.45\" font-family=\"Times,serif\" font-size=\"14.00\">&lt;FunctionDef&gt;</text>\n",
       "</g>\n",
       "<!-- 7&#45;&gt;8 -->\n",
       "<g id=\"edge8\" class=\"edge\">\n",
       "<title>7&#45;&gt;8</title>\n",
       "<path fill=\"none\" stroke=\"black\" d=\"M1260.5,-954.96C1260.5,-948.74 1260.5,-938.65 1260.5,-929.89\"/>\n",
       "<polygon fill=\"black\" stroke=\"black\" points=\"1264,-930.1 1260.5,-920.1 1257,-930.1 1264,-930.1\"/>\n",
       "</g>\n",
       "<!-- 9 -->\n",
       "<g id=\"node10\" class=\"node\">\n",
       "<title>9</title>\n",
       "<text text-anchor=\"middle\" x=\"55.5\" y=\"-855.2\" font-family=\"Times,serif\" font-size=\"14.00\">FunctionDef(name=</text>\n",
       "</g>\n",
       "<!-- 8&#45;&gt;9 -->\n",
       "<g id=\"edge9\" class=\"edge\">\n",
       "<title>8&#45;&gt;9</title>\n",
       "<path fill=\"none\" stroke=\"black\" d=\"M1218.23,-909.96C1069.59,-907.42 556.83,-897.07 122.21,-868.62\"/>\n",
       "<polygon fill=\"black\" stroke=\"black\" points=\"122.71,-865.15 112.5,-867.99 122.25,-872.14 122.71,-865.15\"/>\n",
       "</g>\n",
       "<!-- 10 -->\n",
       "<g id=\"node11\" class=\"node\">\n",
       "<title>10</title>\n",
       "<text text-anchor=\"middle\" x=\"161.5\" y=\"-855.2\" font-family=\"Times,serif\" font-size=\"14.00\">&lt;identifier&gt;</text>\n",
       "</g>\n",
       "<!-- 8&#45;&gt;10 -->\n",
       "<g id=\"edge10\" class=\"edge\">\n",
       "<title>8&#45;&gt;10</title>\n",
       "<path fill=\"none\" stroke=\"black\" d=\"M1218.43,-908.78C1044.56,-901.14 382.94,-872.1 205.51,-864.31\"/>\n",
       "<polygon fill=\"black\" stroke=\"black\" points=\"205.71,-860.81 195.57,-863.87 205.4,-867.81 205.71,-860.81\"/>\n",
       "</g>\n",
       "<!-- 23 -->\n",
       "<g id=\"node24\" class=\"node\">\n",
       "<title>23</title>\n",
       "<text text-anchor=\"middle\" x=\"773.5\" y=\"-855.2\" font-family=\"Times,serif\" font-size=\"14.00\">, args=</text>\n",
       "</g>\n",
       "<!-- 8&#45;&gt;23 -->\n",
       "<g id=\"edge23\" class=\"edge\">\n",
       "<title>8&#45;&gt;23</title>\n",
       "<path fill=\"none\" stroke=\"black\" d=\"M1218.2,-908.5C1138.85,-904.13 962.1,-892.61 803.33,-868.53\"/>\n",
       "<polygon fill=\"black\" stroke=\"black\" points=\"804.33,-865.14 793.91,-867.08 803.27,-872.06 804.33,-865.14\"/>\n",
       "</g>\n",
       "<!-- 24 -->\n",
       "<g id=\"node25\" class=\"node\">\n",
       "<title>24</title>\n",
       "<text text-anchor=\"middle\" x=\"847.5\" y=\"-855.2\" font-family=\"Times,serif\" font-size=\"14.00\">&lt;arguments&gt;</text>\n",
       "</g>\n",
       "<!-- 8&#45;&gt;24 -->\n",
       "<g id=\"edge24\" class=\"edge\">\n",
       "<title>8&#45;&gt;24</title>\n",
       "<path fill=\"none\" stroke=\"black\" d=\"M1218.24,-905.69C1140.84,-896.65 976.81,-877.48 895.4,-867.97\"/>\n",
       "<polygon fill=\"black\" stroke=\"black\" points=\"895.85,-864.5 885.51,-866.82 895.04,-871.45 895.85,-864.5\"/>\n",
       "</g>\n",
       "<!-- 75 -->\n",
       "<g id=\"node76\" class=\"node\">\n",
       "<title>75</title>\n",
       "<text text-anchor=\"middle\" x=\"1158.5\" y=\"-855.2\" font-family=\"Times,serif\" font-size=\"14.00\">, body=</text>\n",
       "</g>\n",
       "<!-- 8&#45;&gt;75 -->\n",
       "<g id=\"edge75\" class=\"edge\">\n",
       "<title>8&#45;&gt;75</title>\n",
       "<path fill=\"none\" stroke=\"black\" d=\"M1247.58,-904.51C1231.03,-896.68 1202.04,-882.97 1181.63,-873.32\"/>\n",
       "<polygon fill=\"black\" stroke=\"black\" points=\"1183.22,-870.2 1172.68,-869.08 1180.22,-876.52 1183.22,-870.2\"/>\n",
       "</g>\n",
       "<!-- 76 -->\n",
       "<g id=\"node77\" class=\"node\">\n",
       "<title>76</title>\n",
       "<text text-anchor=\"middle\" x=\"1260.5\" y=\"-855.2\" font-family=\"Times,serif\" font-size=\"14.00\">&lt;nonempty_stmt_list&gt;</text>\n",
       "</g>\n",
       "<!-- 8&#45;&gt;76 -->\n",
       "<g id=\"edge76\" class=\"edge\">\n",
       "<title>8&#45;&gt;76</title>\n",
       "<path fill=\"none\" stroke=\"black\" d=\"M1260.5,-904.71C1260.5,-898.49 1260.5,-888.4 1260.5,-879.64\"/>\n",
       "<polygon fill=\"black\" stroke=\"black\" points=\"1264,-879.85 1260.5,-869.85 1257,-879.85 1264,-879.85\"/>\n",
       "</g>\n",
       "<!-- 184 -->\n",
       "<g id=\"node185\" class=\"node\">\n",
       "<title>184</title>\n",
       "<text text-anchor=\"middle\" x=\"1386.5\" y=\"-855.2\" font-family=\"Times,serif\" font-size=\"14.00\">, decorator_list=</text>\n",
       "</g>\n",
       "<!-- 8&#45;&gt;184 -->\n",
       "<g id=\"edge184\" class=\"edge\">\n",
       "<title>8&#45;&gt;184</title>\n",
       "<path fill=\"none\" stroke=\"black\" d=\"M1276.46,-904.51C1297.48,-896.47 1334.72,-882.2 1360,-872.52\"/>\n",
       "<polygon fill=\"black\" stroke=\"black\" points=\"1361.17,-875.82 1369.26,-868.98 1358.67,-869.29 1361.17,-875.82\"/>\n",
       "</g>\n",
       "<!-- 185 -->\n",
       "<g id=\"node186\" class=\"node\">\n",
       "<title>185</title>\n",
       "<text text-anchor=\"middle\" x=\"1481.5\" y=\"-855.2\" font-family=\"Times,serif\" font-size=\"14.00\">&lt;expr_list&gt;</text>\n",
       "</g>\n",
       "<!-- 8&#45;&gt;185 -->\n",
       "<g id=\"edge185\" class=\"edge\">\n",
       "<title>8&#45;&gt;185</title>\n",
       "<path fill=\"none\" stroke=\"black\" d=\"M1288.49,-904.51C1327.51,-895.99 1398.43,-880.51 1442.58,-870.87\"/>\n",
       "<polygon fill=\"black\" stroke=\"black\" points=\"1443.24,-874.31 1452.26,-868.76 1441.74,-867.47 1443.24,-874.31\"/>\n",
       "</g>\n",
       "<!-- 189 -->\n",
       "<g id=\"node190\" class=\"node\">\n",
       "<title>189</title>\n",
       "<text text-anchor=\"middle\" x=\"1564.5\" y=\"-855.2\" font-family=\"Times,serif\" font-size=\"14.00\">&lt;returns&#45;1&gt;</text>\n",
       "</g>\n",
       "<!-- 8&#45;&gt;189 -->\n",
       "<g id=\"edge189\" class=\"edge\">\n",
       "<title>8&#45;&gt;189</title>\n",
       "<path fill=\"none\" stroke=\"black\" d=\"M1299,-904.51C1355.77,-895.5 1461.61,-878.71 1521.07,-869.27\"/>\n",
       "<polygon fill=\"black\" stroke=\"black\" points=\"1521.5,-872.74 1530.82,-867.72 1520.4,-865.83 1521.5,-872.74\"/>\n",
       "</g>\n",
       "<!-- 190 -->\n",
       "<g id=\"node191\" class=\"node\">\n",
       "<title>190</title>\n",
       "<text text-anchor=\"middle\" x=\"1669.5\" y=\"-855.2\" font-family=\"Times,serif\" font-size=\"14.00\">&lt;type_comment&#45;3&gt;</text>\n",
       "</g>\n",
       "<!-- 8&#45;&gt;190 -->\n",
       "<g id=\"edge190\" class=\"edge\">\n",
       "<title>8&#45;&gt;190</title>\n",
       "<path fill=\"none\" stroke=\"black\" d=\"M1302.73,-905.64C1374.83,-897.14 1522.04,-879.77 1606.39,-869.82\"/>\n",
       "<polygon fill=\"black\" stroke=\"black\" points=\"1606.58,-873.32 1616.1,-868.67 1605.76,-866.37 1606.58,-873.32\"/>\n",
       "</g>\n",
       "<!-- 191 -->\n",
       "<g id=\"node192\" class=\"node\">\n",
       "<title>191</title>\n",
       "<text text-anchor=\"middle\" x=\"1757.5\" y=\"-855.2\" font-family=\"Times,serif\" font-size=\"14.00\">) (41)</text>\n",
       "</g>\n",
       "<!-- 8&#45;&gt;191 -->\n",
       "<g id=\"edge191\" class=\"edge\">\n",
       "<title>8&#45;&gt;191</title>\n",
       "<path fill=\"none\" stroke=\"black\" d=\"M1302.87,-909.14C1384.13,-905.8 1567.57,-895.88 1731.1,-868.55\"/>\n",
       "<polygon fill=\"black\" stroke=\"black\" points=\"1731.58,-872.02 1740.85,-866.89 1730.41,-865.12 1731.58,-872.02\"/>\n",
       "</g>\n",
       "<!-- 11 -->\n",
       "<g id=\"node12\" class=\"node\">\n",
       "<title>11</title>\n",
       "<text text-anchor=\"middle\" x=\"69.5\" y=\"-804.95\" font-family=\"Times,serif\" font-size=\"14.00\">&#39; (39)</text>\n",
       "</g>\n",
       "<!-- 10&#45;&gt;11 -->\n",
       "<g id=\"edge11\" class=\"edge\">\n",
       "<title>10&#45;&gt;11</title>\n",
       "<path fill=\"none\" stroke=\"black\" d=\"M149.85,-854.26C135.12,-846.54 109.49,-833.1 91.14,-823.47\"/>\n",
       "<polygon fill=\"black\" stroke=\"black\" points=\"92.88,-820.43 82.4,-818.89 89.63,-826.63 92.88,-820.43\"/>\n",
       "</g>\n",
       "<!-- 12 -->\n",
       "<g id=\"node13\" class=\"node\">\n",
       "<title>12</title>\n",
       "<text text-anchor=\"middle\" x=\"115.5\" y=\"-804.95\" font-family=\"Times,serif\" font-size=\"14.00\">&lt;id&gt;</text>\n",
       "</g>\n",
       "<!-- 10&#45;&gt;12 -->\n",
       "<g id=\"edge12\" class=\"edge\">\n",
       "<title>10&#45;&gt;12</title>\n",
       "<path fill=\"none\" stroke=\"black\" d=\"M155.86,-854.46C149.24,-847.51 138.03,-835.75 129.1,-826.39\"/>\n",
       "<polygon fill=\"black\" stroke=\"black\" points=\"131.66,-824.01 122.23,-819.19 126.6,-828.84 131.66,-824.01\"/>\n",
       "</g>\n",
       "<!-- 22 -->\n",
       "<g id=\"node23\" class=\"node\">\n",
       "<title>22</title>\n",
       "<text text-anchor=\"middle\" x=\"161.5\" y=\"-804.95\" font-family=\"Times,serif\" font-size=\"14.00\">&#39; (39)</text>\n",
       "</g>\n",
       "<!-- 10&#45;&gt;22 -->\n",
       "<g id=\"edge22\" class=\"edge\">\n",
       "<title>10&#45;&gt;22</title>\n",
       "<path fill=\"none\" stroke=\"black\" d=\"M161.5,-854.46C161.5,-848.24 161.5,-838.15 161.5,-829.39\"/>\n",
       "<polygon fill=\"black\" stroke=\"black\" points=\"165,-829.6 161.5,-819.6 158,-829.6 165,-829.6\"/>\n",
       "</g>\n",
       "<!-- 13 -->\n",
       "<g id=\"node14\" class=\"node\">\n",
       "<title>13</title>\n",
       "<text text-anchor=\"middle\" x=\"69.5\" y=\"-754.7\" font-family=\"Times,serif\" font-size=\"14.00\">&lt;id_start&gt;</text>\n",
       "</g>\n",
       "<!-- 12&#45;&gt;13 -->\n",
       "<g id=\"edge13\" class=\"edge\">\n",
       "<title>12&#45;&gt;13</title>\n",
       "<path fill=\"none\" stroke=\"black\" d=\"M109.86,-804.21C103.24,-797.26 92.03,-785.5 83.1,-776.14\"/>\n",
       "<polygon fill=\"black\" stroke=\"black\" points=\"85.66,-773.76 76.23,-768.94 80.6,-778.59 85.66,-773.76\"/>\n",
       "</g>\n",
       "<!-- 15 -->\n",
       "<g id=\"node16\" class=\"node\">\n",
       "<title>15</title>\n",
       "<text text-anchor=\"middle\" x=\"161.5\" y=\"-754.7\" font-family=\"Times,serif\" font-size=\"14.00\">&lt;id_continue&#45;1&gt;</text>\n",
       "</g>\n",
       "<!-- 12&#45;&gt;15 -->\n",
       "<g id=\"edge15\" class=\"edge\">\n",
       "<title>12&#45;&gt;15</title>\n",
       "<path fill=\"none\" stroke=\"black\" d=\"M121.14,-804.21C127.76,-797.26 138.97,-785.5 147.9,-776.14\"/>\n",
       "<polygon fill=\"black\" stroke=\"black\" points=\"150.4,-778.59 154.77,-768.94 145.34,-773.76 150.4,-778.59\"/>\n",
       "</g>\n",
       "<!-- 14 -->\n",
       "<g id=\"node15\" class=\"node\">\n",
       "<title>14</title>\n",
       "<text text-anchor=\"middle\" x=\"69.5\" y=\"-704.45\" font-family=\"Times,serif\" font-size=\"14.00\">s (115)</text>\n",
       "</g>\n",
       "<!-- 13&#45;&gt;14 -->\n",
       "<g id=\"edge14\" class=\"edge\">\n",
       "<title>13&#45;&gt;14</title>\n",
       "<path fill=\"none\" stroke=\"black\" d=\"M69.5,-753.96C69.5,-747.74 69.5,-737.65 69.5,-728.89\"/>\n",
       "<polygon fill=\"black\" stroke=\"black\" points=\"73,-729.1 69.5,-719.1 66,-729.1 73,-729.1\"/>\n",
       "</g>\n",
       "<!-- 16 -->\n",
       "<g id=\"node17\" class=\"node\">\n",
       "<title>16</title>\n",
       "<text text-anchor=\"middle\" x=\"154.5\" y=\"-704.45\" font-family=\"Times,serif\" font-size=\"14.00\">&lt;id_continue&gt;</text>\n",
       "</g>\n",
       "<!-- 15&#45;&gt;16 -->\n",
       "<g id=\"edge16\" class=\"edge\">\n",
       "<title>15&#45;&gt;16</title>\n",
       "<path fill=\"none\" stroke=\"black\" d=\"M160.64,-753.96C159.74,-747.74 158.28,-737.65 157,-728.89\"/>\n",
       "<polygon fill=\"black\" stroke=\"black\" points=\"160.48,-728.48 155.58,-719.09 153.55,-729.49 160.48,-728.48\"/>\n",
       "</g>\n",
       "<!-- 18 -->\n",
       "<g id=\"node19\" class=\"node\">\n",
       "<title>18</title>\n",
       "<text text-anchor=\"middle\" x=\"258.5\" y=\"-704.45\" font-family=\"Times,serif\" font-size=\"14.00\">&lt;id_continue&#45;1&gt;</text>\n",
       "</g>\n",
       "<!-- 15&#45;&gt;18 -->\n",
       "<g id=\"edge18\" class=\"edge\">\n",
       "<title>15&#45;&gt;18</title>\n",
       "<path fill=\"none\" stroke=\"black\" d=\"M173.79,-753.76C189.46,-745.97 216.84,-732.35 236.23,-722.7\"/>\n",
       "<polygon fill=\"black\" stroke=\"black\" points=\"237.56,-725.95 244.96,-718.36 234.45,-719.68 237.56,-725.95\"/>\n",
       "</g>\n",
       "<!-- 17 -->\n",
       "<g id=\"node18\" class=\"node\">\n",
       "<title>17</title>\n",
       "<text text-anchor=\"middle\" x=\"154.5\" y=\"-654.2\" font-family=\"Times,serif\" font-size=\"14.00\">u (117)</text>\n",
       "</g>\n",
       "<!-- 16&#45;&gt;17 -->\n",
       "<g id=\"edge17\" class=\"edge\">\n",
       "<title>16&#45;&gt;17</title>\n",
       "<path fill=\"none\" stroke=\"black\" d=\"M154.5,-703.71C154.5,-697.49 154.5,-687.4 154.5,-678.64\"/>\n",
       "<polygon fill=\"black\" stroke=\"black\" points=\"158,-678.85 154.5,-668.85 151,-678.85 158,-678.85\"/>\n",
       "</g>\n",
       "<!-- 19 -->\n",
       "<g id=\"node20\" class=\"node\">\n",
       "<title>19</title>\n",
       "<text text-anchor=\"middle\" x=\"237.5\" y=\"-654.2\" font-family=\"Times,serif\" font-size=\"14.00\">&lt;id_continue&gt;</text>\n",
       "</g>\n",
       "<!-- 18&#45;&gt;19 -->\n",
       "<g id=\"edge19\" class=\"edge\">\n",
       "<title>18&#45;&gt;19</title>\n",
       "<path fill=\"none\" stroke=\"black\" d=\"M255.92,-703.71C253.12,-697.27 248.52,-686.69 244.62,-677.72\"/>\n",
       "<polygon fill=\"black\" stroke=\"black\" points=\"247.9,-676.5 240.7,-668.73 241.48,-679.29 247.9,-676.5\"/>\n",
       "</g>\n",
       "<!-- 21 -->\n",
       "<g id=\"node22\" class=\"node\">\n",
       "<title>21</title>\n",
       "<text text-anchor=\"middle\" x=\"341.5\" y=\"-654.2\" font-family=\"Times,serif\" font-size=\"14.00\">&lt;id_continue&#45;1&gt;</text>\n",
       "</g>\n",
       "<!-- 18&#45;&gt;21 -->\n",
       "<g id=\"edge21\" class=\"edge\">\n",
       "<title>18&#45;&gt;21</title>\n",
       "<path fill=\"none\" stroke=\"black\" d=\"M269.01,-703.51C282.11,-695.9 304.77,-682.73 321.28,-673.13\"/>\n",
       "<polygon fill=\"black\" stroke=\"black\" points=\"322.88,-676.25 329.76,-668.2 319.36,-670.2 322.88,-676.25\"/>\n",
       "</g>\n",
       "<!-- 20 -->\n",
       "<g id=\"node21\" class=\"node\">\n",
       "<title>20</title>\n",
       "<text text-anchor=\"middle\" x=\"237.5\" y=\"-603.95\" font-family=\"Times,serif\" font-size=\"14.00\">m (109)</text>\n",
       "</g>\n",
       "<!-- 19&#45;&gt;20 -->\n",
       "<g id=\"edge20\" class=\"edge\">\n",
       "<title>19&#45;&gt;20</title>\n",
       "<path fill=\"none\" stroke=\"black\" d=\"M237.5,-653.46C237.5,-647.24 237.5,-637.15 237.5,-628.39\"/>\n",
       "<polygon fill=\"black\" stroke=\"black\" points=\"241,-628.6 237.5,-618.6 234,-628.6 241,-628.6\"/>\n",
       "</g>\n",
       "<!-- 25 -->\n",
       "<g id=\"node26\" class=\"node\">\n",
       "<title>25</title>\n",
       "<text text-anchor=\"middle\" x=\"261.5\" y=\"-804.95\" font-family=\"Times,serif\" font-size=\"14.00\">arguments(posonlyargs=</text>\n",
       "</g>\n",
       "<!-- 24&#45;&gt;25 -->\n",
       "<g id=\"edge25\" class=\"edge\">\n",
       "<title>24&#45;&gt;25</title>\n",
       "<path fill=\"none\" stroke=\"black\" d=\"M810.86,-855.31C807.7,-854.93 804.54,-854.57 801.5,-854.25 599.41,-832.97 545.58,-834.5 339.83,-818.43\"/>\n",
       "<polygon fill=\"black\" stroke=\"black\" points=\"340.39,-814.96 330.14,-817.67 339.84,-821.94 340.39,-814.96\"/>\n",
       "</g>\n",
       "<!-- 26 -->\n",
       "<g id=\"node27\" class=\"node\">\n",
       "<title>26</title>\n",
       "<text text-anchor=\"middle\" x=\"375.5\" y=\"-804.95\" font-family=\"Times,serif\" font-size=\"14.00\">&lt;arg_list&gt;</text>\n",
       "</g>\n",
       "<!-- 24&#45;&gt;26 -->\n",
       "<g id=\"edge26\" class=\"edge\">\n",
       "<title>24&#45;&gt;26</title>\n",
       "<path fill=\"none\" stroke=\"black\" d=\"M810.86,-855.36C807.69,-854.97 804.54,-854.59 801.5,-854.25 633.02,-835.23 587.22,-839.83 414.95,-818.31\"/>\n",
       "<polygon fill=\"black\" stroke=\"black\" points=\"415.55,-814.86 405.19,-817.08 414.68,-821.8 415.55,-814.86\"/>\n",
       "</g>\n",
       "<!-- 30 -->\n",
       "<g id=\"node31\" class=\"node\">\n",
       "<title>30</title>\n",
       "<text text-anchor=\"middle\" x=\"441.5\" y=\"-804.95\" font-family=\"Times,serif\" font-size=\"14.00\">, args=</text>\n",
       "</g>\n",
       "<!-- 24&#45;&gt;30 -->\n",
       "<g id=\"edge30\" class=\"edge\">\n",
       "<title>24&#45;&gt;30</title>\n",
       "<path fill=\"none\" stroke=\"black\" d=\"M810.85,-855.41C807.69,-855.01 804.54,-854.62 801.5,-854.25 657.75,-836.89 617.91,-841.88 471.61,-818.37\"/>\n",
       "<polygon fill=\"black\" stroke=\"black\" points=\"472.35,-814.95 461.92,-816.8 471.23,-821.86 472.35,-814.95\"/>\n",
       "</g>\n",
       "<!-- 31 -->\n",
       "<g id=\"node32\" class=\"node\">\n",
       "<title>31</title>\n",
       "<text text-anchor=\"middle\" x=\"507.5\" y=\"-804.95\" font-family=\"Times,serif\" font-size=\"14.00\">&lt;arg_list&gt;</text>\n",
       "</g>\n",
       "<!-- 24&#45;&gt;31 -->\n",
       "<g id=\"edge31\" class=\"edge\">\n",
       "<title>24&#45;&gt;31</title>\n",
       "<path fill=\"none\" stroke=\"black\" d=\"M810.81,-855.36C745.91,-846.46 612.31,-828.08 546.75,-818.39\"/>\n",
       "<polygon fill=\"black\" stroke=\"black\" points=\"547.62,-814.98 537.21,-816.96 546.58,-821.9 547.62,-814.98\"/>\n",
       "</g>\n",
       "<!-- 57 -->\n",
       "<g id=\"node58\" class=\"node\">\n",
       "<title>57</title>\n",
       "<text text-anchor=\"middle\" x=\"585.5\" y=\"-804.95\" font-family=\"Times,serif\" font-size=\"14.00\">&lt;vararg&#45;1&gt;</text>\n",
       "</g>\n",
       "<!-- 24&#45;&gt;57 -->\n",
       "<g id=\"edge57\" class=\"edge\">\n",
       "<title>24&#45;&gt;57</title>\n",
       "<path fill=\"none\" stroke=\"black\" d=\"M814.32,-854.26C766.82,-845.52 679.48,-829.43 627.53,-819.86\"/>\n",
       "<polygon fill=\"black\" stroke=\"black\" points=\"628.34,-816.46 617.87,-818.09 627.07,-823.34 628.34,-816.46\"/>\n",
       "</g>\n",
       "<!-- 58 -->\n",
       "<g id=\"node59\" class=\"node\">\n",
       "<title>58</title>\n",
       "<text text-anchor=\"middle\" x=\"674.5\" y=\"-804.95\" font-family=\"Times,serif\" font-size=\"14.00\">, kwonlyargs=</text>\n",
       "</g>\n",
       "<!-- 24&#45;&gt;58 -->\n",
       "<g id=\"edge58\" class=\"edge\">\n",
       "<title>24&#45;&gt;58</title>\n",
       "<path fill=\"none\" stroke=\"black\" d=\"M825.59,-854.26C795.69,-845.93 741.88,-830.92 707.2,-821.24\"/>\n",
       "<polygon fill=\"black\" stroke=\"black\" points=\"708.26,-817.91 697.69,-818.59 706.38,-824.65 708.26,-817.91\"/>\n",
       "</g>\n",
       "<!-- 59 -->\n",
       "<g id=\"node60\" class=\"node\">\n",
       "<title>59</title>\n",
       "<text text-anchor=\"middle\" x=\"760.5\" y=\"-804.95\" font-family=\"Times,serif\" font-size=\"14.00\">&lt;arg_list&gt;</text>\n",
       "</g>\n",
       "<!-- 24&#45;&gt;59 -->\n",
       "<g id=\"edge59\" class=\"edge\">\n",
       "<title>24&#45;&gt;59</title>\n",
       "<path fill=\"none\" stroke=\"black\" d=\"M836.48,-854.26C822.62,-846.58 798.55,-833.22 781.2,-823.61\"/>\n",
       "<polygon fill=\"black\" stroke=\"black\" points=\"783.2,-820.71 772.75,-818.92 779.8,-826.83 783.2,-820.71\"/>\n",
       "</g>\n",
       "<!-- 63 -->\n",
       "<g id=\"node64\" class=\"node\">\n",
       "<title>63</title>\n",
       "<text text-anchor=\"middle\" x=\"847.5\" y=\"-804.95\" font-family=\"Times,serif\" font-size=\"14.00\">, kw_defaults=</text>\n",
       "</g>\n",
       "<!-- 24&#45;&gt;63 -->\n",
       "<g id=\"edge63\" class=\"edge\">\n",
       "<title>24&#45;&gt;63</title>\n",
       "<path fill=\"none\" stroke=\"black\" d=\"M847.5,-854.46C847.5,-848.24 847.5,-838.15 847.5,-829.39\"/>\n",
       "<polygon fill=\"black\" stroke=\"black\" points=\"851,-829.6 847.5,-819.6 844,-829.6 851,-829.6\"/>\n",
       "</g>\n",
       "<!-- 64 -->\n",
       "<g id=\"node65\" class=\"node\">\n",
       "<title>64</title>\n",
       "<text text-anchor=\"middle\" x=\"938.5\" y=\"-804.95\" font-family=\"Times,serif\" font-size=\"14.00\">&lt;expr_list&gt;</text>\n",
       "</g>\n",
       "<!-- 24&#45;&gt;64 -->\n",
       "<g id=\"edge64\" class=\"edge\">\n",
       "<title>24&#45;&gt;64</title>\n",
       "<path fill=\"none\" stroke=\"black\" d=\"M859.03,-854.26C873.59,-846.54 898.94,-833.1 917.1,-823.47\"/>\n",
       "<polygon fill=\"black\" stroke=\"black\" points=\"918.54,-826.67 925.73,-818.9 915.26,-820.49 918.54,-826.67\"/>\n",
       "</g>\n",
       "<!-- 68 -->\n",
       "<g id=\"node69\" class=\"node\">\n",
       "<title>68</title>\n",
       "<text text-anchor=\"middle\" x=\"1019.5\" y=\"-804.95\" font-family=\"Times,serif\" font-size=\"14.00\">&lt;kwarg&#45;1&gt;</text>\n",
       "</g>\n",
       "<!-- 24&#45;&gt;68 -->\n",
       "<g id=\"edge68\" class=\"edge\">\n",
       "<title>24&#45;&gt;68</title>\n",
       "<path fill=\"none\" stroke=\"black\" d=\"M869.28,-854.26C899.01,-845.93 952.51,-830.92 986.99,-821.24\"/>\n",
       "<polygon fill=\"black\" stroke=\"black\" points=\"987.75,-824.67 996.44,-818.6 985.86,-817.93 987.75,-824.67\"/>\n",
       "</g>\n",
       "<!-- 69 -->\n",
       "<g id=\"node70\" class=\"node\">\n",
       "<title>69</title>\n",
       "<text text-anchor=\"middle\" x=\"1097.5\" y=\"-804.95\" font-family=\"Times,serif\" font-size=\"14.00\">, defaults=</text>\n",
       "</g>\n",
       "<!-- 24&#45;&gt;69 -->\n",
       "<g id=\"edge69\" class=\"edge\">\n",
       "<title>24&#45;&gt;69</title>\n",
       "<path fill=\"none\" stroke=\"black\" d=\"M879.16,-854.26C924.41,-845.53 1007.57,-829.48 1057.17,-819.91\"/>\n",
       "<polygon fill=\"black\" stroke=\"black\" points=\"1057.78,-823.36 1066.93,-818.02 1056.45,-816.48 1057.78,-823.36\"/>\n",
       "</g>\n",
       "<!-- 70 -->\n",
       "<g id=\"node71\" class=\"node\">\n",
       "<title>70</title>\n",
       "<text text-anchor=\"middle\" x=\"1176.5\" y=\"-804.95\" font-family=\"Times,serif\" font-size=\"14.00\">&lt;expr_list&gt;</text>\n",
       "</g>\n",
       "<!-- 24&#45;&gt;70 -->\n",
       "<g id=\"edge70\" class=\"edge\">\n",
       "<title>24&#45;&gt;70</title>\n",
       "<path fill=\"none\" stroke=\"black\" d=\"M883.88,-855.09C936.49,-847.44 1037.19,-832.77 1133.59,-818.53\"/>\n",
       "<polygon fill=\"black\" stroke=\"black\" points=\"1133.84,-822.03 1143.22,-817.1 1132.82,-815.1 1133.84,-822.03\"/>\n",
       "</g>\n",
       "<!-- 74 -->\n",
       "<g id=\"node75\" class=\"node\">\n",
       "<title>74</title>\n",
       "<text text-anchor=\"middle\" x=\"1241.5\" y=\"-804.95\" font-family=\"Times,serif\" font-size=\"14.00\">) (41)</text>\n",
       "</g>\n",
       "<!-- 24&#45;&gt;74 -->\n",
       "<g id=\"edge74\" class=\"edge\">\n",
       "<title>24&#45;&gt;74</title>\n",
       "<path fill=\"none\" stroke=\"black\" d=\"M884.24,-857.86C949.12,-853.07 1088.35,-841.17 1215.27,-818.35\"/>\n",
       "<polygon fill=\"black\" stroke=\"black\" points=\"1215.64,-821.84 1224.84,-816.6 1214.38,-814.96 1215.64,-821.84\"/>\n",
       "</g>\n",
       "<!-- 27 -->\n",
       "<g id=\"node28\" class=\"node\">\n",
       "<title>27</title>\n",
       "<text text-anchor=\"middle\" x=\"303.5\" y=\"-754.7\" font-family=\"Times,serif\" font-size=\"14.00\">[ (91)</text>\n",
       "</g>\n",
       "<!-- 26&#45;&gt;27 -->\n",
       "<g id=\"edge27\" class=\"edge\">\n",
       "<title>26&#45;&gt;27</title>\n",
       "<path fill=\"none\" stroke=\"black\" d=\"M366.38,-804.01C355.18,-796.5 335.9,-783.59 321.63,-774.03\"/>\n",
       "<polygon fill=\"black\" stroke=\"black\" points=\"323.83,-771.29 313.58,-768.63 319.94,-777.1 323.83,-771.29\"/>\n",
       "</g>\n",
       "<!-- 28 -->\n",
       "<g id=\"node29\" class=\"node\">\n",
       "<title>28</title>\n",
       "<text text-anchor=\"middle\" x=\"362.5\" y=\"-754.7\" font-family=\"Times,serif\" font-size=\"14.00\">&lt;args&#45;1&gt;</text>\n",
       "</g>\n",
       "<!-- 26&#45;&gt;28 -->\n",
       "<g id=\"edge28\" class=\"edge\">\n",
       "<title>26&#45;&gt;28</title>\n",
       "<path fill=\"none\" stroke=\"black\" d=\"M373.91,-804.21C372.21,-797.91 369.45,-787.67 367.07,-778.83\"/>\n",
       "<polygon fill=\"black\" stroke=\"black\" points=\"370.48,-778.05 364.5,-769.3 363.72,-779.87 370.48,-778.05\"/>\n",
       "</g>\n",
       "<!-- 29 -->\n",
       "<g id=\"node30\" class=\"node\">\n",
       "<title>29</title>\n",
       "<text text-anchor=\"middle\" x=\"421.5\" y=\"-754.7\" font-family=\"Times,serif\" font-size=\"14.00\">] (93)</text>\n",
       "</g>\n",
       "<!-- 26&#45;&gt;29 -->\n",
       "<g id=\"edge29\" class=\"edge\">\n",
       "<title>26&#45;&gt;29</title>\n",
       "<path fill=\"none\" stroke=\"black\" d=\"M381.14,-804.21C387.76,-797.26 398.97,-785.5 407.9,-776.14\"/>\n",
       "<polygon fill=\"black\" stroke=\"black\" points=\"410.4,-778.59 414.77,-768.94 405.34,-773.76 410.4,-778.59\"/>\n",
       "</g>\n",
       "<!-- 32 -->\n",
       "<g id=\"node33\" class=\"node\">\n",
       "<title>32</title>\n",
       "<text text-anchor=\"middle\" x=\"470.5\" y=\"-754.7\" font-family=\"Times,serif\" font-size=\"14.00\">[ (91)</text>\n",
       "</g>\n",
       "<!-- 31&#45;&gt;32 -->\n",
       "<g id=\"edge32\" class=\"edge\">\n",
       "<title>31&#45;&gt;32</title>\n",
       "<path fill=\"none\" stroke=\"black\" d=\"M502.96,-804.21C497.75,-797.41 488.99,-785.99 481.89,-776.73\"/>\n",
       "<polygon fill=\"black\" stroke=\"black\" points=\"484.86,-774.85 476,-769.04 479.3,-779.11 484.86,-774.85\"/>\n",
       "</g>\n",
       "<!-- 33 -->\n",
       "<g id=\"node34\" class=\"node\">\n",
       "<title>33</title>\n",
       "<text text-anchor=\"middle\" x=\"529.5\" y=\"-754.7\" font-family=\"Times,serif\" font-size=\"14.00\">&lt;args&#45;1&gt;</text>\n",
       "</g>\n",
       "<!-- 31&#45;&gt;33 -->\n",
       "<g id=\"edge33\" class=\"edge\">\n",
       "<title>31&#45;&gt;33</title>\n",
       "<path fill=\"none\" stroke=\"black\" d=\"M510.2,-804.21C513.13,-797.77 517.96,-787.19 522.05,-778.22\"/>\n",
       "<polygon fill=\"black\" stroke=\"black\" points=\"525.19,-779.77 526.15,-769.22 518.82,-776.86 525.19,-779.77\"/>\n",
       "</g>\n",
       "<!-- 56 -->\n",
       "<g id=\"node57\" class=\"node\">\n",
       "<title>56</title>\n",
       "<text text-anchor=\"middle\" x=\"588.5\" y=\"-754.7\" font-family=\"Times,serif\" font-size=\"14.00\">] (93)</text>\n",
       "</g>\n",
       "<!-- 31&#45;&gt;56 -->\n",
       "<g id=\"edge56\" class=\"edge\">\n",
       "<title>31&#45;&gt;56</title>\n",
       "<path fill=\"none\" stroke=\"black\" d=\"M517.76,-804.01C530.54,-796.4 552.66,-783.23 568.77,-773.63\"/>\n",
       "<polygon fill=\"black\" stroke=\"black\" points=\"570.22,-776.84 577.02,-768.71 566.64,-770.82 570.22,-776.84\"/>\n",
       "</g>\n",
       "<!-- 34 -->\n",
       "<g id=\"node35\" class=\"node\">\n",
       "<title>34</title>\n",
       "<text text-anchor=\"middle\" x=\"529.5\" y=\"-704.45\" font-family=\"Times,serif\" font-size=\"14.00\">&lt;args&gt;</text>\n",
       "</g>\n",
       "<!-- 33&#45;&gt;34 -->\n",
       "<g id=\"edge34\" class=\"edge\">\n",
       "<title>33&#45;&gt;34</title>\n",
       "<path fill=\"none\" stroke=\"black\" d=\"M529.5,-753.96C529.5,-747.74 529.5,-737.65 529.5,-728.89\"/>\n",
       "<polygon fill=\"black\" stroke=\"black\" points=\"533,-729.1 529.5,-719.1 526,-729.1 533,-729.1\"/>\n",
       "</g>\n",
       "<!-- 35 -->\n",
       "<g id=\"node36\" class=\"node\">\n",
       "<title>35</title>\n",
       "<text text-anchor=\"middle\" x=\"479.5\" y=\"-654.2\" font-family=\"Times,serif\" font-size=\"14.00\">&lt;arg&gt;</text>\n",
       "</g>\n",
       "<!-- 34&#45;&gt;35 -->\n",
       "<g id=\"edge35\" class=\"edge\">\n",
       "<title>34&#45;&gt;35</title>\n",
       "<path fill=\"none\" stroke=\"black\" d=\"M523.37,-703.71C516.02,-696.62 503.48,-684.51 493.68,-675.06\"/>\n",
       "<polygon fill=\"black\" stroke=\"black\" points=\"496.4,-672.82 486.77,-668.39 491.54,-677.85 496.4,-672.82\"/>\n",
       "</g>\n",
       "<!-- 45 -->\n",
       "<g id=\"node46\" class=\"node\">\n",
       "<title>45</title>\n",
       "<text text-anchor=\"middle\" x=\"529.5\" y=\"-654.2\" font-family=\"Times,serif\" font-size=\"14.00\">, </text>\n",
       "</g>\n",
       "<!-- 34&#45;&gt;45 -->\n",
       "<g id=\"edge45\" class=\"edge\">\n",
       "<title>34&#45;&gt;45</title>\n",
       "<path fill=\"none\" stroke=\"black\" d=\"M529.5,-703.71C529.5,-697.49 529.5,-687.4 529.5,-678.64\"/>\n",
       "<polygon fill=\"black\" stroke=\"black\" points=\"533,-678.85 529.5,-668.85 526,-678.85 533,-678.85\"/>\n",
       "</g>\n",
       "<!-- 46 -->\n",
       "<g id=\"node47\" class=\"node\">\n",
       "<title>46</title>\n",
       "<text text-anchor=\"middle\" x=\"638.5\" y=\"-654.2\" font-family=\"Times,serif\" font-size=\"14.00\">&lt;arg&gt;</text>\n",
       "</g>\n",
       "<!-- 34&#45;&gt;46 -->\n",
       "<g id=\"edge46\" class=\"edge\">\n",
       "<title>34&#45;&gt;46</title>\n",
       "<path fill=\"none\" stroke=\"black\" d=\"M543.3,-703.51C561.16,-695.61 592.55,-681.71 614.38,-672.05\"/>\n",
       "<polygon fill=\"black\" stroke=\"black\" points=\"615.7,-675.3 623.42,-668.05 612.86,-668.9 615.7,-675.3\"/>\n",
       "</g>\n",
       "<!-- 36 -->\n",
       "<g id=\"node37\" class=\"node\">\n",
       "<title>36</title>\n",
       "<text text-anchor=\"middle\" x=\"404.5\" y=\"-603.95\" font-family=\"Times,serif\" font-size=\"14.00\">arg(arg=</text>\n",
       "</g>\n",
       "<!-- 35&#45;&gt;36 -->\n",
       "<g id=\"edge36\" class=\"edge\">\n",
       "<title>35&#45;&gt;36</title>\n",
       "<path fill=\"none\" stroke=\"black\" d=\"M470,-653.26C458.22,-645.68 437.86,-632.58 422.96,-623\"/>\n",
       "<polygon fill=\"black\" stroke=\"black\" points=\"425.26,-620.32 414.96,-617.85 421.48,-626.21 425.26,-620.32\"/>\n",
       "</g>\n",
       "<!-- 37 -->\n",
       "<g id=\"node38\" class=\"node\">\n",
       "<title>37</title>\n",
       "<text text-anchor=\"middle\" x=\"478.5\" y=\"-603.95\" font-family=\"Times,serif\" font-size=\"14.00\">&lt;identifier&gt;</text>\n",
       "</g>\n",
       "<!-- 35&#45;&gt;37 -->\n",
       "<g id=\"edge37\" class=\"edge\">\n",
       "<title>35&#45;&gt;37</title>\n",
       "<path fill=\"none\" stroke=\"black\" d=\"M479.38,-653.46C479.25,-647.24 479.04,-637.15 478.86,-628.39\"/>\n",
       "<polygon fill=\"black\" stroke=\"black\" points=\"482.36,-628.53 478.65,-618.6 475.36,-628.67 482.36,-628.53\"/>\n",
       "</g>\n",
       "<!-- 44 -->\n",
       "<g id=\"node45\" class=\"node\">\n",
       "<title>44</title>\n",
       "<text text-anchor=\"middle\" x=\"544.5\" y=\"-603.95\" font-family=\"Times,serif\" font-size=\"14.00\">) (41)</text>\n",
       "</g>\n",
       "<!-- 35&#45;&gt;44 -->\n",
       "<g id=\"edge44\" class=\"edge\">\n",
       "<title>35&#45;&gt;44</title>\n",
       "<path fill=\"none\" stroke=\"black\" d=\"M487.73,-653.26C497.65,-645.9 514.58,-633.34 527.37,-623.84\"/>\n",
       "<polygon fill=\"black\" stroke=\"black\" points=\"529.38,-626.71 535.32,-617.94 525.21,-621.09 529.38,-626.71\"/>\n",
       "</g>\n",
       "<!-- 38 -->\n",
       "<g id=\"node39\" class=\"node\">\n",
       "<title>38</title>\n",
       "<text text-anchor=\"middle\" x=\"432.5\" y=\"-553.7\" font-family=\"Times,serif\" font-size=\"14.00\">&#39; (39)</text>\n",
       "</g>\n",
       "<!-- 37&#45;&gt;38 -->\n",
       "<g id=\"edge38\" class=\"edge\">\n",
       "<title>37&#45;&gt;38</title>\n",
       "<path fill=\"none\" stroke=\"black\" d=\"M472.86,-603.21C466.24,-596.26 455.03,-584.5 446.1,-575.14\"/>\n",
       "<polygon fill=\"black\" stroke=\"black\" points=\"448.66,-572.76 439.23,-567.94 443.6,-577.59 448.66,-572.76\"/>\n",
       "</g>\n",
       "<!-- 39 -->\n",
       "<g id=\"node40\" class=\"node\">\n",
       "<title>39</title>\n",
       "<text text-anchor=\"middle\" x=\"478.5\" y=\"-553.7\" font-family=\"Times,serif\" font-size=\"14.00\">&lt;id&gt;</text>\n",
       "</g>\n",
       "<!-- 37&#45;&gt;39 -->\n",
       "<g id=\"edge39\" class=\"edge\">\n",
       "<title>37&#45;&gt;39</title>\n",
       "<path fill=\"none\" stroke=\"black\" d=\"M478.5,-603.21C478.5,-596.99 478.5,-586.9 478.5,-578.14\"/>\n",
       "<polygon fill=\"black\" stroke=\"black\" points=\"482,-578.35 478.5,-568.35 475,-578.35 482,-578.35\"/>\n",
       "</g>\n",
       "<!-- 43 -->\n",
       "<g id=\"node44\" class=\"node\">\n",
       "<title>43</title>\n",
       "<text text-anchor=\"middle\" x=\"524.5\" y=\"-553.7\" font-family=\"Times,serif\" font-size=\"14.00\">&#39; (39)</text>\n",
       "</g>\n",
       "<!-- 37&#45;&gt;43 -->\n",
       "<g id=\"edge43\" class=\"edge\">\n",
       "<title>37&#45;&gt;43</title>\n",
       "<path fill=\"none\" stroke=\"black\" d=\"M484.14,-603.21C490.76,-596.26 501.97,-584.5 510.9,-575.14\"/>\n",
       "<polygon fill=\"black\" stroke=\"black\" points=\"513.4,-577.59 517.77,-567.94 508.34,-572.76 513.4,-577.59\"/>\n",
       "</g>\n",
       "<!-- 40 -->\n",
       "<g id=\"node41\" class=\"node\">\n",
       "<title>40</title>\n",
       "<text text-anchor=\"middle\" x=\"410.5\" y=\"-503.45\" font-family=\"Times,serif\" font-size=\"14.00\">&lt;id_start&gt;</text>\n",
       "</g>\n",
       "<!-- 39&#45;&gt;40 -->\n",
       "<g id=\"edge40\" class=\"edge\">\n",
       "<title>39&#45;&gt;40</title>\n",
       "<path fill=\"none\" stroke=\"black\" d=\"M469.89,-552.76C459.41,-545.33 441.45,-532.59 428.02,-523.06\"/>\n",
       "<polygon fill=\"black\" stroke=\"black\" points=\"430.24,-520.34 420.06,-517.41 426.19,-526.05 430.24,-520.34\"/>\n",
       "</g>\n",
       "<!-- 42 -->\n",
       "<g id=\"node43\" class=\"node\">\n",
       "<title>42</title>\n",
       "<text text-anchor=\"middle\" x=\"502.5\" y=\"-503.45\" font-family=\"Times,serif\" font-size=\"14.00\">&lt;id_continue&#45;1&gt;</text>\n",
       "</g>\n",
       "<!-- 39&#45;&gt;42 -->\n",
       "<g id=\"edge42\" class=\"edge\">\n",
       "<title>39&#45;&gt;42</title>\n",
       "<path fill=\"none\" stroke=\"black\" d=\"M481.44,-552.96C484.68,-546.45 490.02,-535.71 494.52,-526.67\"/>\n",
       "<polygon fill=\"black\" stroke=\"black\" points=\"497.54,-528.46 498.86,-517.94 491.27,-525.34 497.54,-528.46\"/>\n",
       "</g>\n",
       "<!-- 41 -->\n",
       "<g id=\"node42\" class=\"node\">\n",
       "<title>41</title>\n",
       "<text text-anchor=\"middle\" x=\"410.5\" y=\"-453.2\" font-family=\"Times,serif\" font-size=\"14.00\">a (97)</text>\n",
       "</g>\n",
       "<!-- 40&#45;&gt;41 -->\n",
       "<g id=\"edge41\" class=\"edge\">\n",
       "<title>40&#45;&gt;41</title>\n",
       "<path fill=\"none\" stroke=\"black\" d=\"M410.5,-502.71C410.5,-496.49 410.5,-486.4 410.5,-477.64\"/>\n",
       "<polygon fill=\"black\" stroke=\"black\" points=\"414,-477.85 410.5,-467.85 407,-477.85 414,-477.85\"/>\n",
       "</g>\n",
       "<!-- 47 -->\n",
       "<g id=\"node48\" class=\"node\">\n",
       "<title>47</title>\n",
       "<text text-anchor=\"middle\" x=\"601.5\" y=\"-603.95\" font-family=\"Times,serif\" font-size=\"14.00\">arg(arg=</text>\n",
       "</g>\n",
       "<!-- 46&#45;&gt;47 -->\n",
       "<g id=\"edge47\" class=\"edge\">\n",
       "<title>46&#45;&gt;47</title>\n",
       "<path fill=\"none\" stroke=\"black\" d=\"M633.96,-653.46C628.75,-646.66 619.99,-635.24 612.89,-625.98\"/>\n",
       "<polygon fill=\"black\" stroke=\"black\" points=\"615.86,-624.1 607,-618.29 610.3,-628.36 615.86,-624.1\"/>\n",
       "</g>\n",
       "<!-- 48 -->\n",
       "<g id=\"node49\" class=\"node\">\n",
       "<title>48</title>\n",
       "<text text-anchor=\"middle\" x=\"675.5\" y=\"-603.95\" font-family=\"Times,serif\" font-size=\"14.00\">&lt;identifier&gt;</text>\n",
       "</g>\n",
       "<!-- 46&#45;&gt;48 -->\n",
       "<g id=\"edge48\" class=\"edge\">\n",
       "<title>46&#45;&gt;48</title>\n",
       "<path fill=\"none\" stroke=\"black\" d=\"M643.04,-653.46C648.25,-646.66 657.01,-635.24 664.11,-625.98\"/>\n",
       "<polygon fill=\"black\" stroke=\"black\" points=\"666.7,-628.36 670,-618.29 661.14,-624.1 666.7,-628.36\"/>\n",
       "</g>\n",
       "<!-- 55 -->\n",
       "<g id=\"node56\" class=\"node\">\n",
       "<title>55</title>\n",
       "<text text-anchor=\"middle\" x=\"741.5\" y=\"-603.95\" font-family=\"Times,serif\" font-size=\"14.00\">) (41)</text>\n",
       "</g>\n",
       "<!-- 46&#45;&gt;55 -->\n",
       "<g id=\"edge55\" class=\"edge\">\n",
       "<title>46&#45;&gt;55</title>\n",
       "<path fill=\"none\" stroke=\"black\" d=\"M651.55,-653.26C668.26,-645.43 697.54,-631.72 718.14,-622.07\"/>\n",
       "<polygon fill=\"black\" stroke=\"black\" points=\"719.62,-625.24 727.19,-617.83 716.65,-618.9 719.62,-625.24\"/>\n",
       "</g>\n",
       "<!-- 49 -->\n",
       "<g id=\"node50\" class=\"node\">\n",
       "<title>49</title>\n",
       "<text text-anchor=\"middle\" x=\"629.5\" y=\"-553.7\" font-family=\"Times,serif\" font-size=\"14.00\">&#39; (39)</text>\n",
       "</g>\n",
       "<!-- 48&#45;&gt;49 -->\n",
       "<g id=\"edge49\" class=\"edge\">\n",
       "<title>48&#45;&gt;49</title>\n",
       "<path fill=\"none\" stroke=\"black\" d=\"M669.86,-603.21C663.24,-596.26 652.03,-584.5 643.1,-575.14\"/>\n",
       "<polygon fill=\"black\" stroke=\"black\" points=\"645.66,-572.76 636.23,-567.94 640.6,-577.59 645.66,-572.76\"/>\n",
       "</g>\n",
       "<!-- 50 -->\n",
       "<g id=\"node51\" class=\"node\">\n",
       "<title>50</title>\n",
       "<text text-anchor=\"middle\" x=\"675.5\" y=\"-553.7\" font-family=\"Times,serif\" font-size=\"14.00\">&lt;id&gt;</text>\n",
       "</g>\n",
       "<!-- 48&#45;&gt;50 -->\n",
       "<g id=\"edge50\" class=\"edge\">\n",
       "<title>48&#45;&gt;50</title>\n",
       "<path fill=\"none\" stroke=\"black\" d=\"M675.5,-603.21C675.5,-596.99 675.5,-586.9 675.5,-578.14\"/>\n",
       "<polygon fill=\"black\" stroke=\"black\" points=\"679,-578.35 675.5,-568.35 672,-578.35 679,-578.35\"/>\n",
       "</g>\n",
       "<!-- 54 -->\n",
       "<g id=\"node55\" class=\"node\">\n",
       "<title>54</title>\n",
       "<text text-anchor=\"middle\" x=\"721.5\" y=\"-553.7\" font-family=\"Times,serif\" font-size=\"14.00\">&#39; (39)</text>\n",
       "</g>\n",
       "<!-- 48&#45;&gt;54 -->\n",
       "<g id=\"edge54\" class=\"edge\">\n",
       "<title>48&#45;&gt;54</title>\n",
       "<path fill=\"none\" stroke=\"black\" d=\"M681.14,-603.21C687.76,-596.26 698.97,-584.5 707.9,-575.14\"/>\n",
       "<polygon fill=\"black\" stroke=\"black\" points=\"710.4,-577.59 714.77,-567.94 705.34,-572.76 710.4,-577.59\"/>\n",
       "</g>\n",
       "<!-- 51 -->\n",
       "<g id=\"node52\" class=\"node\">\n",
       "<title>51</title>\n",
       "<text text-anchor=\"middle\" x=\"600.5\" y=\"-503.45\" font-family=\"Times,serif\" font-size=\"14.00\">&lt;id_start&gt;</text>\n",
       "</g>\n",
       "<!-- 50&#45;&gt;51 -->\n",
       "<g id=\"edge51\" class=\"edge\">\n",
       "<title>50&#45;&gt;51</title>\n",
       "<path fill=\"none\" stroke=\"black\" d=\"M666,-552.76C654.22,-545.18 633.86,-532.08 618.96,-522.5\"/>\n",
       "<polygon fill=\"black\" stroke=\"black\" points=\"621.26,-519.82 610.96,-517.35 617.48,-525.71 621.26,-519.82\"/>\n",
       "</g>\n",
       "<!-- 53 -->\n",
       "<g id=\"node54\" class=\"node\">\n",
       "<title>53</title>\n",
       "<text text-anchor=\"middle\" x=\"692.5\" y=\"-503.45\" font-family=\"Times,serif\" font-size=\"14.00\">&lt;id_continue&#45;1&gt;</text>\n",
       "</g>\n",
       "<!-- 50&#45;&gt;53 -->\n",
       "<g id=\"edge53\" class=\"edge\">\n",
       "<title>50&#45;&gt;53</title>\n",
       "<path fill=\"none\" stroke=\"black\" d=\"M677.58,-552.96C679.83,-546.59 683.5,-536.18 686.63,-527.28\"/>\n",
       "<polygon fill=\"black\" stroke=\"black\" points=\"689.87,-528.61 689.9,-518.02 683.27,-526.29 689.87,-528.61\"/>\n",
       "</g>\n",
       "<!-- 52 -->\n",
       "<g id=\"node53\" class=\"node\">\n",
       "<title>52</title>\n",
       "<text text-anchor=\"middle\" x=\"600.5\" y=\"-453.2\" font-family=\"Times,serif\" font-size=\"14.00\">b (98)</text>\n",
       "</g>\n",
       "<!-- 51&#45;&gt;52 -->\n",
       "<g id=\"edge52\" class=\"edge\">\n",
       "<title>51&#45;&gt;52</title>\n",
       "<path fill=\"none\" stroke=\"black\" d=\"M600.5,-502.71C600.5,-496.49 600.5,-486.4 600.5,-477.64\"/>\n",
       "<polygon fill=\"black\" stroke=\"black\" points=\"604,-477.85 600.5,-467.85 597,-477.85 604,-477.85\"/>\n",
       "</g>\n",
       "<!-- 60 -->\n",
       "<g id=\"node61\" class=\"node\">\n",
       "<title>60</title>\n",
       "<text text-anchor=\"middle\" x=\"701.5\" y=\"-754.7\" font-family=\"Times,serif\" font-size=\"14.00\">[ (91)</text>\n",
       "</g>\n",
       "<!-- 59&#45;&gt;60 -->\n",
       "<g id=\"edge60\" class=\"edge\">\n",
       "<title>59&#45;&gt;60</title>\n",
       "<path fill=\"none\" stroke=\"black\" d=\"M753.27,-804.21C744.42,-796.97 729.19,-784.52 717.53,-774.98\"/>\n",
       "<polygon fill=\"black\" stroke=\"black\" points=\"719.92,-772.42 709.97,-768.8 715.49,-777.84 719.92,-772.42\"/>\n",
       "</g>\n",
       "<!-- 61 -->\n",
       "<g id=\"node62\" class=\"node\">\n",
       "<title>61</title>\n",
       "<text text-anchor=\"middle\" x=\"760.5\" y=\"-754.7\" font-family=\"Times,serif\" font-size=\"14.00\">&lt;args&#45;1&gt;</text>\n",
       "</g>\n",
       "<!-- 59&#45;&gt;61 -->\n",
       "<g id=\"edge61\" class=\"edge\">\n",
       "<title>59&#45;&gt;61</title>\n",
       "<path fill=\"none\" stroke=\"black\" d=\"M760.5,-804.21C760.5,-797.99 760.5,-787.9 760.5,-779.14\"/>\n",
       "<polygon fill=\"black\" stroke=\"black\" points=\"764,-779.35 760.5,-769.35 757,-779.35 764,-779.35\"/>\n",
       "</g>\n",
       "<!-- 62 -->\n",
       "<g id=\"node63\" class=\"node\">\n",
       "<title>62</title>\n",
       "<text text-anchor=\"middle\" x=\"819.5\" y=\"-754.7\" font-family=\"Times,serif\" font-size=\"14.00\">] (93)</text>\n",
       "</g>\n",
       "<!-- 59&#45;&gt;62 -->\n",
       "<g id=\"edge62\" class=\"edge\">\n",
       "<title>59&#45;&gt;62</title>\n",
       "<path fill=\"none\" stroke=\"black\" d=\"M767.73,-804.21C776.58,-796.97 791.81,-784.52 803.47,-774.98\"/>\n",
       "<polygon fill=\"black\" stroke=\"black\" points=\"805.51,-777.84 811.03,-768.8 801.08,-772.42 805.51,-777.84\"/>\n",
       "</g>\n",
       "<!-- 65 -->\n",
       "<g id=\"node66\" class=\"node\">\n",
       "<title>65</title>\n",
       "<text text-anchor=\"middle\" x=\"876.5\" y=\"-754.7\" font-family=\"Times,serif\" font-size=\"14.00\">[ (91)</text>\n",
       "</g>\n",
       "<!-- 64&#45;&gt;65 -->\n",
       "<g id=\"edge65\" class=\"edge\">\n",
       "<title>64&#45;&gt;65</title>\n",
       "<path fill=\"none\" stroke=\"black\" d=\"M930.65,-804.01C921.19,-796.65 905.04,-784.09 892.83,-774.59\"/>\n",
       "<polygon fill=\"black\" stroke=\"black\" points=\"895.33,-772.09 885.29,-768.71 891.03,-777.62 895.33,-772.09\"/>\n",
       "</g>\n",
       "<!-- 66 -->\n",
       "<g id=\"node67\" class=\"node\">\n",
       "<title>66</title>\n",
       "<text text-anchor=\"middle\" x=\"938.5\" y=\"-754.7\" font-family=\"Times,serif\" font-size=\"14.00\">&lt;exprs&#45;1&gt;</text>\n",
       "</g>\n",
       "<!-- 64&#45;&gt;66 -->\n",
       "<g id=\"edge66\" class=\"edge\">\n",
       "<title>64&#45;&gt;66</title>\n",
       "<path fill=\"none\" stroke=\"black\" d=\"M938.5,-804.21C938.5,-797.99 938.5,-787.9 938.5,-779.14\"/>\n",
       "<polygon fill=\"black\" stroke=\"black\" points=\"942,-779.35 938.5,-769.35 935,-779.35 942,-779.35\"/>\n",
       "</g>\n",
       "<!-- 67 -->\n",
       "<g id=\"node68\" class=\"node\">\n",
       "<title>67</title>\n",
       "<text text-anchor=\"middle\" x=\"1000.5\" y=\"-754.7\" font-family=\"Times,serif\" font-size=\"14.00\">] (93)</text>\n",
       "</g>\n",
       "<!-- 64&#45;&gt;67 -->\n",
       "<g id=\"edge67\" class=\"edge\">\n",
       "<title>64&#45;&gt;67</title>\n",
       "<path fill=\"none\" stroke=\"black\" d=\"M946.35,-804.01C955.81,-796.65 971.96,-784.09 984.17,-774.59\"/>\n",
       "<polygon fill=\"black\" stroke=\"black\" points=\"985.97,-777.62 991.71,-768.71 981.67,-772.09 985.97,-777.62\"/>\n",
       "</g>\n",
       "<!-- 71 -->\n",
       "<g id=\"node72\" class=\"node\">\n",
       "<title>71</title>\n",
       "<text text-anchor=\"middle\" x=\"1114.5\" y=\"-754.7\" font-family=\"Times,serif\" font-size=\"14.00\">[ (91)</text>\n",
       "</g>\n",
       "<!-- 70&#45;&gt;71 -->\n",
       "<g id=\"edge71\" class=\"edge\">\n",
       "<title>70&#45;&gt;71</title>\n",
       "<path fill=\"none\" stroke=\"black\" d=\"M1168.65,-804.01C1159.19,-796.65 1143.04,-784.09 1130.83,-774.59\"/>\n",
       "<polygon fill=\"black\" stroke=\"black\" points=\"1133.33,-772.09 1123.29,-768.71 1129.03,-777.62 1133.33,-772.09\"/>\n",
       "</g>\n",
       "<!-- 72 -->\n",
       "<g id=\"node73\" class=\"node\">\n",
       "<title>72</title>\n",
       "<text text-anchor=\"middle\" x=\"1176.5\" y=\"-754.7\" font-family=\"Times,serif\" font-size=\"14.00\">&lt;exprs&#45;1&gt;</text>\n",
       "</g>\n",
       "<!-- 70&#45;&gt;72 -->\n",
       "<g id=\"edge72\" class=\"edge\">\n",
       "<title>70&#45;&gt;72</title>\n",
       "<path fill=\"none\" stroke=\"black\" d=\"M1176.5,-804.21C1176.5,-797.99 1176.5,-787.9 1176.5,-779.14\"/>\n",
       "<polygon fill=\"black\" stroke=\"black\" points=\"1180,-779.35 1176.5,-769.35 1173,-779.35 1180,-779.35\"/>\n",
       "</g>\n",
       "<!-- 73 -->\n",
       "<g id=\"node74\" class=\"node\">\n",
       "<title>73</title>\n",
       "<text text-anchor=\"middle\" x=\"1238.5\" y=\"-754.7\" font-family=\"Times,serif\" font-size=\"14.00\">] (93)</text>\n",
       "</g>\n",
       "<!-- 70&#45;&gt;73 -->\n",
       "<g id=\"edge73\" class=\"edge\">\n",
       "<title>70&#45;&gt;73</title>\n",
       "<path fill=\"none\" stroke=\"black\" d=\"M1184.35,-804.01C1193.81,-796.65 1209.96,-784.09 1222.17,-774.59\"/>\n",
       "<polygon fill=\"black\" stroke=\"black\" points=\"1223.97,-777.62 1229.71,-768.71 1219.67,-772.09 1223.97,-777.62\"/>\n",
       "</g>\n",
       "<!-- 77 -->\n",
       "<g id=\"node78\" class=\"node\">\n",
       "<title>77</title>\n",
       "<text text-anchor=\"middle\" x=\"1290.5\" y=\"-804.95\" font-family=\"Times,serif\" font-size=\"14.00\">[ (91)</text>\n",
       "</g>\n",
       "<!-- 76&#45;&gt;77 -->\n",
       "<g id=\"edge77\" class=\"edge\">\n",
       "<title>76&#45;&gt;77</title>\n",
       "<path fill=\"none\" stroke=\"black\" d=\"M1264.18,-854.46C1268.32,-847.8 1275.2,-836.73 1280.9,-827.57\"/>\n",
       "<polygon fill=\"black\" stroke=\"black\" points=\"1283.68,-829.72 1285.99,-819.38 1277.74,-826.02 1283.68,-829.72\"/>\n",
       "</g>\n",
       "<!-- 78 -->\n",
       "<g id=\"node79\" class=\"node\">\n",
       "<title>78</title>\n",
       "<text text-anchor=\"middle\" x=\"1346.5\" y=\"-804.95\" font-family=\"Times,serif\" font-size=\"14.00\">&lt;stmts&gt;</text>\n",
       "</g>\n",
       "<!-- 76&#45;&gt;78 -->\n",
       "<g id=\"edge78\" class=\"edge\">\n",
       "<title>76&#45;&gt;78</title>\n",
       "<path fill=\"none\" stroke=\"black\" d=\"M1271.39,-854.26C1285.09,-846.58 1308.89,-833.22 1326.03,-823.61\"/>\n",
       "<polygon fill=\"black\" stroke=\"black\" points=\"1327.37,-826.87 1334.38,-818.93 1323.94,-820.77 1327.37,-826.87\"/>\n",
       "</g>\n",
       "<!-- 183 -->\n",
       "<g id=\"node184\" class=\"node\">\n",
       "<title>183</title>\n",
       "<text text-anchor=\"middle\" x=\"1402.5\" y=\"-804.95\" font-family=\"Times,serif\" font-size=\"14.00\">] (93)</text>\n",
       "</g>\n",
       "<!-- 76&#45;&gt;183 -->\n",
       "<g id=\"edge183\" class=\"edge\">\n",
       "<title>76&#45;&gt;183</title>\n",
       "<path fill=\"none\" stroke=\"black\" d=\"M1278.48,-854.26C1303.28,-845.84 1348.11,-830.61 1376.54,-820.95\"/>\n",
       "<polygon fill=\"black\" stroke=\"black\" points=\"1377.48,-824.32 1385.83,-817.79 1375.23,-817.69 1377.48,-824.32\"/>\n",
       "</g>\n",
       "<!-- 79 -->\n",
       "<g id=\"node80\" class=\"node\">\n",
       "<title>79</title>\n",
       "<text text-anchor=\"middle\" x=\"1298.5\" y=\"-754.7\" font-family=\"Times,serif\" font-size=\"14.00\">&lt;stmt&gt;</text>\n",
       "</g>\n",
       "<!-- 78&#45;&gt;79 -->\n",
       "<g id=\"edge79\" class=\"edge\">\n",
       "<title>78&#45;&gt;79</title>\n",
       "<path fill=\"none\" stroke=\"black\" d=\"M1340.61,-804.21C1333.63,-797.19 1321.76,-785.26 1312.4,-775.85\"/>\n",
       "<polygon fill=\"black\" stroke=\"black\" points=\"1315.04,-773.53 1305.5,-768.91 1310.07,-778.47 1315.04,-773.53\"/>\n",
       "</g>\n",
       "<!-- 148 -->\n",
       "<g id=\"node149\" class=\"node\">\n",
       "<title>148</title>\n",
       "<text text-anchor=\"middle\" x=\"1346.5\" y=\"-754.7\" font-family=\"Times,serif\" font-size=\"14.00\">, </text>\n",
       "</g>\n",
       "<!-- 78&#45;&gt;148 -->\n",
       "<g id=\"edge148\" class=\"edge\">\n",
       "<title>78&#45;&gt;148</title>\n",
       "<path fill=\"none\" stroke=\"black\" d=\"M1346.5,-804.21C1346.5,-797.99 1346.5,-787.9 1346.5,-779.14\"/>\n",
       "<polygon fill=\"black\" stroke=\"black\" points=\"1350,-779.35 1346.5,-769.35 1343,-779.35 1350,-779.35\"/>\n",
       "</g>\n",
       "<!-- 149 -->\n",
       "<g id=\"node150\" class=\"node\">\n",
       "<title>149</title>\n",
       "<text text-anchor=\"middle\" x=\"1396.5\" y=\"-754.7\" font-family=\"Times,serif\" font-size=\"14.00\">&lt;stmts&gt;</text>\n",
       "</g>\n",
       "<!-- 78&#45;&gt;149 -->\n",
       "<g id=\"edge149\" class=\"edge\">\n",
       "<title>78&#45;&gt;149</title>\n",
       "<path fill=\"none\" stroke=\"black\" d=\"M1352.63,-804.21C1359.98,-797.12 1372.52,-785.01 1382.32,-775.56\"/>\n",
       "<polygon fill=\"black\" stroke=\"black\" points=\"1384.46,-778.35 1389.23,-768.89 1379.6,-773.32 1384.46,-778.35\"/>\n",
       "</g>\n",
       "<!-- 80 -->\n",
       "<g id=\"node81\" class=\"node\">\n",
       "<title>80</title>\n",
       "<text text-anchor=\"middle\" x=\"1118.5\" y=\"-704.45\" font-family=\"Times,serif\" font-size=\"14.00\">&lt;Assign&gt;</text>\n",
       "</g>\n",
       "<!-- 79&#45;&gt;80 -->\n",
       "<g id=\"edge80\" class=\"edge\">\n",
       "<title>79&#45;&gt;80</title>\n",
       "<path fill=\"none\" stroke=\"black\" d=\"M1278.55,-754.53C1247.94,-746.32 1189.04,-730.53 1151.86,-720.57\"/>\n",
       "<polygon fill=\"black\" stroke=\"black\" points=\"1153.1,-717.28 1142.54,-718.07 1151.29,-724.04 1153.1,-717.28\"/>\n",
       "</g>\n",
       "<!-- 81 -->\n",
       "<g id=\"node82\" class=\"node\">\n",
       "<title>81</title>\n",
       "<text text-anchor=\"middle\" x=\"808.5\" y=\"-654.2\" font-family=\"Times,serif\" font-size=\"14.00\">Assign(targets=</text>\n",
       "</g>\n",
       "<!-- 80&#45;&gt;81 -->\n",
       "<g id=\"edge81\" class=\"edge\">\n",
       "<title>80&#45;&gt;81</title>\n",
       "<path fill=\"none\" stroke=\"black\" d=\"M1091.53,-705.43C1039.59,-697.34 924.96,-679.5 858.61,-669.17\"/>\n",
       "<polygon fill=\"black\" stroke=\"black\" points=\"859.52,-665.77 849.1,-667.69 858.44,-672.69 859.52,-665.77\"/>\n",
       "</g>\n",
       "<!-- 82 -->\n",
       "<g id=\"node83\" class=\"node\">\n",
       "<title>82</title>\n",
       "<text text-anchor=\"middle\" x=\"943.5\" y=\"-654.2\" font-family=\"Times,serif\" font-size=\"14.00\">&lt;nonempty_lhs_expr_list&gt;</text>\n",
       "</g>\n",
       "<!-- 80&#45;&gt;82 -->\n",
       "<g id=\"edge82\" class=\"edge\">\n",
       "<title>80&#45;&gt;82</title>\n",
       "<path fill=\"none\" stroke=\"black\" d=\"M1096.34,-703.51C1066.09,-695.18 1011.66,-680.17 976.58,-670.49\"/>\n",
       "<polygon fill=\"black\" stroke=\"black\" points=\"977.51,-667.12 966.94,-667.84 975.65,-673.87 977.51,-667.12\"/>\n",
       "</g>\n",
       "<!-- 115 -->\n",
       "<g id=\"node116\" class=\"node\">\n",
       "<title>115</title>\n",
       "<text text-anchor=\"middle\" x=\"1057.5\" y=\"-654.2\" font-family=\"Times,serif\" font-size=\"14.00\">, value=</text>\n",
       "</g>\n",
       "<!-- 80&#45;&gt;115 -->\n",
       "<g id=\"edge115\" class=\"edge\">\n",
       "<title>80&#45;&gt;115</title>\n",
       "<path fill=\"none\" stroke=\"black\" d=\"M1110.77,-703.51C1101.56,-696.22 1085.89,-683.83 1073.93,-674.37\"/>\n",
       "<polygon fill=\"black\" stroke=\"black\" points=\"1076.17,-671.68 1066.16,-668.22 1071.83,-677.17 1076.17,-671.68\"/>\n",
       "</g>\n",
       "<!-- 116 -->\n",
       "<g id=\"node117\" class=\"node\">\n",
       "<title>116</title>\n",
       "<text text-anchor=\"middle\" x=\"1118.5\" y=\"-654.2\" font-family=\"Times,serif\" font-size=\"14.00\">&lt;expr&gt;</text>\n",
       "</g>\n",
       "<!-- 80&#45;&gt;116 -->\n",
       "<g id=\"edge116\" class=\"edge\">\n",
       "<title>80&#45;&gt;116</title>\n",
       "<path fill=\"none\" stroke=\"black\" d=\"M1118.5,-703.71C1118.5,-697.49 1118.5,-687.4 1118.5,-678.64\"/>\n",
       "<polygon fill=\"black\" stroke=\"black\" points=\"1122,-678.85 1118.5,-668.85 1115,-678.85 1122,-678.85\"/>\n",
       "</g>\n",
       "<!-- 146 -->\n",
       "<g id=\"node147\" class=\"node\">\n",
       "<title>146</title>\n",
       "<text text-anchor=\"middle\" x=\"1211.5\" y=\"-654.2\" font-family=\"Times,serif\" font-size=\"14.00\">&lt;type_comment&#45;1&gt;</text>\n",
       "</g>\n",
       "<!-- 80&#45;&gt;146 -->\n",
       "<g id=\"edge146\" class=\"edge\">\n",
       "<title>80&#45;&gt;146</title>\n",
       "<path fill=\"none\" stroke=\"black\" d=\"M1130.28,-703.51C1145.16,-695.79 1171.07,-682.35 1189.63,-672.72\"/>\n",
       "<polygon fill=\"black\" stroke=\"black\" points=\"1191.21,-675.85 1198.47,-668.13 1187.99,-669.63 1191.21,-675.85\"/>\n",
       "</g>\n",
       "<!-- 147 -->\n",
       "<g id=\"node148\" class=\"node\">\n",
       "<title>147</title>\n",
       "<text text-anchor=\"middle\" x=\"1299.5\" y=\"-654.2\" font-family=\"Times,serif\" font-size=\"14.00\">) (41)</text>\n",
       "</g>\n",
       "<!-- 80&#45;&gt;147 -->\n",
       "<g id=\"edge147\" class=\"edge\">\n",
       "<title>80&#45;&gt;147</title>\n",
       "<path fill=\"none\" stroke=\"black\" d=\"M1141.42,-703.51C1175.1,-694.54 1237.77,-677.83 1273.25,-668.37\"/>\n",
       "<polygon fill=\"black\" stroke=\"black\" points=\"1273.93,-671.81 1282.69,-665.86 1272.13,-665.05 1273.93,-671.81\"/>\n",
       "</g>\n",
       "<!-- 83 -->\n",
       "<g id=\"node84\" class=\"node\">\n",
       "<title>83</title>\n",
       "<text text-anchor=\"middle\" x=\"841.5\" y=\"-603.95\" font-family=\"Times,serif\" font-size=\"14.00\">[ (91)</text>\n",
       "</g>\n",
       "<!-- 82&#45;&gt;83 -->\n",
       "<g id=\"edge83\" class=\"edge\">\n",
       "<title>82&#45;&gt;83</title>\n",
       "<path fill=\"none\" stroke=\"black\" d=\"M930.58,-653.26C914.03,-645.43 885.04,-631.72 864.63,-622.07\"/>\n",
       "<polygon fill=\"black\" stroke=\"black\" points=\"866.22,-618.95 855.68,-617.83 863.22,-625.27 866.22,-618.95\"/>\n",
       "</g>\n",
       "<!-- 84 -->\n",
       "<g id=\"node85\" class=\"node\">\n",
       "<title>84</title>\n",
       "<text text-anchor=\"middle\" x=\"909.5\" y=\"-603.95\" font-family=\"Times,serif\" font-size=\"14.00\">&lt;lhs_exprs&gt;</text>\n",
       "</g>\n",
       "<!-- 82&#45;&gt;84 -->\n",
       "<g id=\"edge84\" class=\"edge\">\n",
       "<title>82&#45;&gt;84</title>\n",
       "<path fill=\"none\" stroke=\"black\" d=\"M939.33,-653.46C934.59,-646.73 926.67,-635.48 920.18,-626.27\"/>\n",
       "<polygon fill=\"black\" stroke=\"black\" points=\"923.2,-624.49 914.57,-618.33 917.47,-628.52 923.2,-624.49\"/>\n",
       "</g>\n",
       "<!-- 114 -->\n",
       "<g id=\"node115\" class=\"node\">\n",
       "<title>114</title>\n",
       "<text text-anchor=\"middle\" x=\"977.5\" y=\"-603.95\" font-family=\"Times,serif\" font-size=\"14.00\">] (93)</text>\n",
       "</g>\n",
       "<!-- 82&#45;&gt;114 -->\n",
       "<g id=\"edge114\" class=\"edge\">\n",
       "<title>82&#45;&gt;114</title>\n",
       "<path fill=\"none\" stroke=\"black\" d=\"M947.67,-653.46C952.41,-646.73 960.33,-635.48 966.82,-626.27\"/>\n",
       "<polygon fill=\"black\" stroke=\"black\" points=\"969.53,-628.52 972.43,-618.33 963.8,-624.49 969.53,-628.52\"/>\n",
       "</g>\n",
       "<!-- 85 -->\n",
       "<g id=\"node86\" class=\"node\">\n",
       "<title>85</title>\n",
       "<text text-anchor=\"middle\" x=\"842.5\" y=\"-553.7\" font-family=\"Times,serif\" font-size=\"14.00\">&lt;lhs_expr&gt;</text>\n",
       "</g>\n",
       "<!-- 84&#45;&gt;85 -->\n",
       "<g id=\"edge85\" class=\"edge\">\n",
       "<title>84&#45;&gt;85</title>\n",
       "<path fill=\"none\" stroke=\"black\" d=\"M901.01,-603.01C890.69,-595.58 873,-582.84 859.76,-573.31\"/>\n",
       "<polygon fill=\"black\" stroke=\"black\" points=\"862.1,-570.67 851.94,-567.67 858,-576.35 862.1,-570.67\"/>\n",
       "</g>\n",
       "<!-- 86 -->\n",
       "<g id=\"node87\" class=\"node\">\n",
       "<title>86</title>\n",
       "<text text-anchor=\"middle\" x=\"815.5\" y=\"-503.45\" font-family=\"Times,serif\" font-size=\"14.00\">&lt;lhs_Name&gt;</text>\n",
       "</g>\n",
       "<!-- 85&#45;&gt;86 -->\n",
       "<g id=\"edge86\" class=\"edge\">\n",
       "<title>85&#45;&gt;86</title>\n",
       "<path fill=\"none\" stroke=\"black\" d=\"M839.19,-552.96C835.51,-546.37 829.4,-535.47 824.31,-526.37\"/>\n",
       "<polygon fill=\"black\" stroke=\"black\" points=\"827.51,-524.93 819.58,-517.91 821.41,-528.35 827.51,-524.93\"/>\n",
       "</g>\n",
       "<!-- 87 -->\n",
       "<g id=\"node88\" class=\"node\">\n",
       "<title>87</title>\n",
       "<text text-anchor=\"middle\" x=\"671.5\" y=\"-453.2\" font-family=\"Times,serif\" font-size=\"14.00\">Name(id=</text>\n",
       "</g>\n",
       "<!-- 86&#45;&gt;87 -->\n",
       "<g id=\"edge87\" class=\"edge\">\n",
       "<title>86&#45;&gt;87</title>\n",
       "<path fill=\"none\" stroke=\"black\" d=\"M797.26,-502.51C772.81,-494.32 729.13,-479.69 700.24,-470\"/>\n",
       "<polygon fill=\"black\" stroke=\"black\" points=\"701.62,-466.78 691.02,-466.92 699.39,-473.41 701.62,-466.78\"/>\n",
       "</g>\n",
       "<!-- 88 -->\n",
       "<g id=\"node89\" class=\"node\">\n",
       "<title>88</title>\n",
       "<text text-anchor=\"middle\" x=\"750.5\" y=\"-453.2\" font-family=\"Times,serif\" font-size=\"14.00\">&lt;identifier&gt;</text>\n",
       "</g>\n",
       "<!-- 86&#45;&gt;88 -->\n",
       "<g id=\"edge88\" class=\"edge\">\n",
       "<title>86&#45;&gt;88</title>\n",
       "<path fill=\"none\" stroke=\"black\" d=\"M807.27,-502.51C797.35,-495.15 780.42,-482.59 767.63,-473.09\"/>\n",
       "<polygon fill=\"black\" stroke=\"black\" points=\"769.79,-470.34 759.68,-467.19 765.62,-475.96 769.79,-470.34\"/>\n",
       "</g>\n",
       "<!-- 113 -->\n",
       "<g id=\"node114\" class=\"node\">\n",
       "<title>113</title>\n",
       "<text text-anchor=\"middle\" x=\"838.5\" y=\"-453.2\" font-family=\"Times,serif\" font-size=\"14.00\">, ctx=Store())</text>\n",
       "</g>\n",
       "<!-- 86&#45;&gt;113 -->\n",
       "<g id=\"edge113\" class=\"edge\">\n",
       "<title>86&#45;&gt;113</title>\n",
       "<path fill=\"none\" stroke=\"black\" d=\"M818.32,-502.71C821.39,-496.27 826.43,-485.69 830.71,-476.72\"/>\n",
       "<polygon fill=\"black\" stroke=\"black\" points=\"833.86,-478.24 835.01,-467.71 827.54,-475.23 833.86,-478.24\"/>\n",
       "</g>\n",
       "<!-- 89 -->\n",
       "<g id=\"node90\" class=\"node\">\n",
       "<title>89</title>\n",
       "<text text-anchor=\"middle\" x=\"704.5\" y=\"-402.95\" font-family=\"Times,serif\" font-size=\"14.00\">&#39; (39)</text>\n",
       "</g>\n",
       "<!-- 88&#45;&gt;89 -->\n",
       "<g id=\"edge89\" class=\"edge\">\n",
       "<title>88&#45;&gt;89</title>\n",
       "<path fill=\"none\" stroke=\"black\" d=\"M744.86,-452.46C738.24,-445.51 727.03,-433.75 718.1,-424.39\"/>\n",
       "<polygon fill=\"black\" stroke=\"black\" points=\"720.66,-422.01 711.23,-417.19 715.6,-426.84 720.66,-422.01\"/>\n",
       "</g>\n",
       "<!-- 90 -->\n",
       "<g id=\"node91\" class=\"node\">\n",
       "<title>90</title>\n",
       "<text text-anchor=\"middle\" x=\"750.5\" y=\"-402.95\" font-family=\"Times,serif\" font-size=\"14.00\">&lt;id&gt;</text>\n",
       "</g>\n",
       "<!-- 88&#45;&gt;90 -->\n",
       "<g id=\"edge90\" class=\"edge\">\n",
       "<title>88&#45;&gt;90</title>\n",
       "<path fill=\"none\" stroke=\"black\" d=\"M750.5,-452.46C750.5,-446.24 750.5,-436.15 750.5,-427.39\"/>\n",
       "<polygon fill=\"black\" stroke=\"black\" points=\"754,-427.6 750.5,-417.6 747,-427.6 754,-427.6\"/>\n",
       "</g>\n",
       "<!-- 112 -->\n",
       "<g id=\"node113\" class=\"node\">\n",
       "<title>112</title>\n",
       "<text text-anchor=\"middle\" x=\"796.5\" y=\"-402.95\" font-family=\"Times,serif\" font-size=\"14.00\">&#39; (39)</text>\n",
       "</g>\n",
       "<!-- 88&#45;&gt;112 -->\n",
       "<g id=\"edge112\" class=\"edge\">\n",
       "<title>88&#45;&gt;112</title>\n",
       "<path fill=\"none\" stroke=\"black\" d=\"M756.14,-452.46C762.76,-445.51 773.97,-433.75 782.9,-424.39\"/>\n",
       "<polygon fill=\"black\" stroke=\"black\" points=\"785.4,-426.84 789.77,-417.19 780.34,-422.01 785.4,-426.84\"/>\n",
       "</g>\n",
       "<!-- 91 -->\n",
       "<g id=\"node92\" class=\"node\">\n",
       "<title>91</title>\n",
       "<text text-anchor=\"middle\" x=\"677.5\" y=\"-352.7\" font-family=\"Times,serif\" font-size=\"14.00\">&lt;id_start&gt;</text>\n",
       "</g>\n",
       "<!-- 90&#45;&gt;91 -->\n",
       "<g id=\"edge91\" class=\"edge\">\n",
       "<title>90&#45;&gt;91</title>\n",
       "<path fill=\"none\" stroke=\"black\" d=\"M741.25,-402.01C729.89,-394.5 710.35,-381.59 695.88,-372.03\"/>\n",
       "<polygon fill=\"black\" stroke=\"black\" points=\"697.98,-369.21 687.7,-366.62 694.12,-375.05 697.98,-369.21\"/>\n",
       "</g>\n",
       "<!-- 93 -->\n",
       "<g id=\"node94\" class=\"node\">\n",
       "<title>93</title>\n",
       "<text text-anchor=\"middle\" x=\"769.5\" y=\"-352.7\" font-family=\"Times,serif\" font-size=\"14.00\">&lt;id_continue&#45;1&gt;</text>\n",
       "</g>\n",
       "<!-- 90&#45;&gt;93 -->\n",
       "<g id=\"edge93\" class=\"edge\">\n",
       "<title>90&#45;&gt;93</title>\n",
       "<path fill=\"none\" stroke=\"black\" d=\"M752.83,-402.21C755.34,-395.84 759.44,-385.43 762.94,-376.53\"/>\n",
       "<polygon fill=\"black\" stroke=\"black\" points=\"766.19,-377.84 766.6,-367.25 759.68,-375.27 766.19,-377.84\"/>\n",
       "</g>\n",
       "<!-- 92 -->\n",
       "<g id=\"node93\" class=\"node\">\n",
       "<title>92</title>\n",
       "<text text-anchor=\"middle\" x=\"677.5\" y=\"-302.45\" font-family=\"Times,serif\" font-size=\"14.00\">t (116)</text>\n",
       "</g>\n",
       "<!-- 91&#45;&gt;92 -->\n",
       "<g id=\"edge92\" class=\"edge\">\n",
       "<title>91&#45;&gt;92</title>\n",
       "<path fill=\"none\" stroke=\"black\" d=\"M677.5,-351.96C677.5,-345.74 677.5,-335.65 677.5,-326.89\"/>\n",
       "<polygon fill=\"black\" stroke=\"black\" points=\"681,-327.1 677.5,-317.1 674,-327.1 681,-327.1\"/>\n",
       "</g>\n",
       "<!-- 94 -->\n",
       "<g id=\"node95\" class=\"node\">\n",
       "<title>94</title>\n",
       "<text text-anchor=\"middle\" x=\"761.5\" y=\"-302.45\" font-family=\"Times,serif\" font-size=\"14.00\">&lt;id_continue&gt;</text>\n",
       "</g>\n",
       "<!-- 93&#45;&gt;94 -->\n",
       "<g id=\"edge94\" class=\"edge\">\n",
       "<title>93&#45;&gt;94</title>\n",
       "<path fill=\"none\" stroke=\"black\" d=\"M768.52,-351.96C767.49,-345.74 765.82,-335.65 764.36,-326.89\"/>\n",
       "<polygon fill=\"black\" stroke=\"black\" points=\"767.83,-326.38 762.74,-317.08 760.92,-327.52 767.83,-326.38\"/>\n",
       "</g>\n",
       "<!-- 96 -->\n",
       "<g id=\"node97\" class=\"node\">\n",
       "<title>96</title>\n",
       "<text text-anchor=\"middle\" x=\"865.5\" y=\"-302.45\" font-family=\"Times,serif\" font-size=\"14.00\">&lt;id_continue&#45;1&gt;</text>\n",
       "</g>\n",
       "<!-- 93&#45;&gt;96 -->\n",
       "<g id=\"edge96\" class=\"edge\">\n",
       "<title>93&#45;&gt;96</title>\n",
       "<path fill=\"none\" stroke=\"black\" d=\"M781.66,-351.76C797.09,-344.01 824.02,-330.47 843.19,-320.84\"/>\n",
       "<polygon fill=\"black\" stroke=\"black\" points=\"844.72,-323.98 852.09,-316.37 841.58,-317.73 844.72,-323.98\"/>\n",
       "</g>\n",
       "<!-- 95 -->\n",
       "<g id=\"node96\" class=\"node\">\n",
       "<title>95</title>\n",
       "<text text-anchor=\"middle\" x=\"761.5\" y=\"-252.2\" font-family=\"Times,serif\" font-size=\"14.00\">h (104)</text>\n",
       "</g>\n",
       "<!-- 94&#45;&gt;95 -->\n",
       "<g id=\"edge95\" class=\"edge\">\n",
       "<title>94&#45;&gt;95</title>\n",
       "<path fill=\"none\" stroke=\"black\" d=\"M761.5,-301.71C761.5,-295.49 761.5,-285.4 761.5,-276.64\"/>\n",
       "<polygon fill=\"black\" stroke=\"black\" points=\"765,-276.85 761.5,-266.85 758,-276.85 765,-276.85\"/>\n",
       "</g>\n",
       "<!-- 97 -->\n",
       "<g id=\"node98\" class=\"node\">\n",
       "<title>97</title>\n",
       "<text text-anchor=\"middle\" x=\"852.5\" y=\"-252.2\" font-family=\"Times,serif\" font-size=\"14.00\">&lt;id_continue&gt;</text>\n",
       "</g>\n",
       "<!-- 96&#45;&gt;97 -->\n",
       "<g id=\"edge97\" class=\"edge\">\n",
       "<title>96&#45;&gt;97</title>\n",
       "<path fill=\"none\" stroke=\"black\" d=\"M863.91,-301.71C862.21,-295.41 859.45,-285.17 857.07,-276.33\"/>\n",
       "<polygon fill=\"black\" stroke=\"black\" points=\"860.48,-275.55 854.5,-266.8 853.72,-277.37 860.48,-275.55\"/>\n",
       "</g>\n",
       "<!-- 99 -->\n",
       "<g id=\"node100\" class=\"node\">\n",
       "<title>99</title>\n",
       "<text text-anchor=\"middle\" x=\"956.5\" y=\"-252.2\" font-family=\"Times,serif\" font-size=\"14.00\">&lt;id_continue&#45;1&gt;</text>\n",
       "</g>\n",
       "<!-- 96&#45;&gt;99 -->\n",
       "<g id=\"edge99\" class=\"edge\">\n",
       "<title>96&#45;&gt;99</title>\n",
       "<path fill=\"none\" stroke=\"black\" d=\"M877.03,-301.51C891.59,-293.79 916.94,-280.35 935.1,-270.72\"/>\n",
       "<polygon fill=\"black\" stroke=\"black\" points=\"936.54,-273.92 943.73,-266.15 933.26,-267.74 936.54,-273.92\"/>\n",
       "</g>\n",
       "<!-- 98 -->\n",
       "<g id=\"node99\" class=\"node\">\n",
       "<title>98</title>\n",
       "<text text-anchor=\"middle\" x=\"852.5\" y=\"-201.95\" font-family=\"Times,serif\" font-size=\"14.00\">e (101)</text>\n",
       "</g>\n",
       "<!-- 97&#45;&gt;98 -->\n",
       "<g id=\"edge98\" class=\"edge\">\n",
       "<title>97&#45;&gt;98</title>\n",
       "<path fill=\"none\" stroke=\"black\" d=\"M852.5,-251.46C852.5,-245.24 852.5,-235.15 852.5,-226.39\"/>\n",
       "<polygon fill=\"black\" stroke=\"black\" points=\"856,-226.6 852.5,-216.6 849,-226.6 856,-226.6\"/>\n",
       "</g>\n",
       "<!-- 100 -->\n",
       "<g id=\"node101\" class=\"node\">\n",
       "<title>100</title>\n",
       "<text text-anchor=\"middle\" x=\"943.5\" y=\"-201.95\" font-family=\"Times,serif\" font-size=\"14.00\">&lt;id_continue&gt;</text>\n",
       "</g>\n",
       "<!-- 99&#45;&gt;100 -->\n",
       "<g id=\"edge100\" class=\"edge\">\n",
       "<title>99&#45;&gt;100</title>\n",
       "<path fill=\"none\" stroke=\"black\" d=\"M954.91,-251.46C953.21,-245.16 950.45,-234.92 948.07,-226.08\"/>\n",
       "<polygon fill=\"black\" stroke=\"black\" points=\"951.48,-225.3 945.5,-216.55 944.72,-227.12 951.48,-225.3\"/>\n",
       "</g>\n",
       "<!-- 102 -->\n",
       "<g id=\"node103\" class=\"node\">\n",
       "<title>102</title>\n",
       "<text text-anchor=\"middle\" x=\"1047.5\" y=\"-201.95\" font-family=\"Times,serif\" font-size=\"14.00\">&lt;id_continue&#45;1&gt;</text>\n",
       "</g>\n",
       "<!-- 99&#45;&gt;102 -->\n",
       "<g id=\"edge102\" class=\"edge\">\n",
       "<title>99&#45;&gt;102</title>\n",
       "<path fill=\"none\" stroke=\"black\" d=\"M968.03,-251.26C982.59,-243.54 1007.94,-230.1 1026.1,-220.47\"/>\n",
       "<polygon fill=\"black\" stroke=\"black\" points=\"1027.54,-223.67 1034.73,-215.9 1024.26,-217.49 1027.54,-223.67\"/>\n",
       "</g>\n",
       "<!-- 101 -->\n",
       "<g id=\"node102\" class=\"node\">\n",
       "<title>101</title>\n",
       "<text text-anchor=\"middle\" x=\"943.5\" y=\"-151.7\" font-family=\"Times,serif\" font-size=\"14.00\">_ (95)</text>\n",
       "</g>\n",
       "<!-- 100&#45;&gt;101 -->\n",
       "<g id=\"edge101\" class=\"edge\">\n",
       "<title>100&#45;&gt;101</title>\n",
       "<path fill=\"none\" stroke=\"black\" d=\"M943.5,-201.21C943.5,-194.99 943.5,-184.9 943.5,-176.14\"/>\n",
       "<polygon fill=\"black\" stroke=\"black\" points=\"947,-176.35 943.5,-166.35 940,-176.35 947,-176.35\"/>\n",
       "</g>\n",
       "<!-- 103 -->\n",
       "<g id=\"node104\" class=\"node\">\n",
       "<title>103</title>\n",
       "<text text-anchor=\"middle\" x=\"1033.5\" y=\"-151.7\" font-family=\"Times,serif\" font-size=\"14.00\">&lt;id_continue&gt;</text>\n",
       "</g>\n",
       "<!-- 102&#45;&gt;103 -->\n",
       "<g id=\"edge103\" class=\"edge\">\n",
       "<title>102&#45;&gt;103</title>\n",
       "<path fill=\"none\" stroke=\"black\" d=\"M1045.78,-201.21C1043.96,-194.91 1040.98,-184.67 1038.42,-175.83\"/>\n",
       "<polygon fill=\"black\" stroke=\"black\" points=\"1041.8,-174.92 1035.65,-166.29 1035.08,-176.87 1041.8,-174.92\"/>\n",
       "</g>\n",
       "<!-- 105 -->\n",
       "<g id=\"node106\" class=\"node\">\n",
       "<title>105</title>\n",
       "<text text-anchor=\"middle\" x=\"1137.5\" y=\"-151.7\" font-family=\"Times,serif\" font-size=\"14.00\">&lt;id_continue&#45;1&gt;</text>\n",
       "</g>\n",
       "<!-- 102&#45;&gt;105 -->\n",
       "<g id=\"edge105\" class=\"edge\">\n",
       "<title>102&#45;&gt;105</title>\n",
       "<path fill=\"none\" stroke=\"black\" d=\"M1058.9,-201.01C1073.23,-193.33 1098.14,-179.97 1116.08,-170.36\"/>\n",
       "<polygon fill=\"black\" stroke=\"black\" points=\"1117.7,-173.46 1124.86,-165.65 1114.39,-167.29 1117.7,-173.46\"/>\n",
       "</g>\n",
       "<!-- 104 -->\n",
       "<g id=\"node105\" class=\"node\">\n",
       "<title>104</title>\n",
       "<text text-anchor=\"middle\" x=\"1033.5\" y=\"-101.45\" font-family=\"Times,serif\" font-size=\"14.00\">s (115)</text>\n",
       "</g>\n",
       "<!-- 103&#45;&gt;104 -->\n",
       "<g id=\"edge104\" class=\"edge\">\n",
       "<title>103&#45;&gt;104</title>\n",
       "<path fill=\"none\" stroke=\"black\" d=\"M1033.5,-150.96C1033.5,-144.74 1033.5,-134.65 1033.5,-125.89\"/>\n",
       "<polygon fill=\"black\" stroke=\"black\" points=\"1037,-126.1 1033.5,-116.1 1030,-126.1 1037,-126.1\"/>\n",
       "</g>\n",
       "<!-- 106 -->\n",
       "<g id=\"node107\" class=\"node\">\n",
       "<title>106</title>\n",
       "<text text-anchor=\"middle\" x=\"1123.5\" y=\"-101.45\" font-family=\"Times,serif\" font-size=\"14.00\">&lt;id_continue&gt;</text>\n",
       "</g>\n",
       "<!-- 105&#45;&gt;106 -->\n",
       "<g id=\"edge106\" class=\"edge\">\n",
       "<title>105&#45;&gt;106</title>\n",
       "<path fill=\"none\" stroke=\"black\" d=\"M1135.78,-150.96C1133.96,-144.66 1130.98,-134.42 1128.42,-125.58\"/>\n",
       "<polygon fill=\"black\" stroke=\"black\" points=\"1131.8,-124.67 1125.65,-116.04 1125.08,-126.62 1131.8,-124.67\"/>\n",
       "</g>\n",
       "<!-- 108 -->\n",
       "<g id=\"node109\" class=\"node\">\n",
       "<title>108</title>\n",
       "<text text-anchor=\"middle\" x=\"1227.5\" y=\"-101.45\" font-family=\"Times,serif\" font-size=\"14.00\">&lt;id_continue&#45;1&gt;</text>\n",
       "</g>\n",
       "<!-- 105&#45;&gt;108 -->\n",
       "<g id=\"edge108\" class=\"edge\">\n",
       "<title>105&#45;&gt;108</title>\n",
       "<path fill=\"none\" stroke=\"black\" d=\"M1148.9,-150.76C1163.23,-143.08 1188.14,-129.72 1206.08,-120.11\"/>\n",
       "<polygon fill=\"black\" stroke=\"black\" points=\"1207.7,-123.21 1214.86,-115.4 1204.39,-117.04 1207.7,-123.21\"/>\n",
       "</g>\n",
       "<!-- 107 -->\n",
       "<g id=\"node108\" class=\"node\">\n",
       "<title>107</title>\n",
       "<text text-anchor=\"middle\" x=\"1123.5\" y=\"-51.2\" font-family=\"Times,serif\" font-size=\"14.00\">u (117)</text>\n",
       "</g>\n",
       "<!-- 106&#45;&gt;107 -->\n",
       "<g id=\"edge107\" class=\"edge\">\n",
       "<title>106&#45;&gt;107</title>\n",
       "<path fill=\"none\" stroke=\"black\" d=\"M1123.5,-100.71C1123.5,-94.49 1123.5,-84.4 1123.5,-75.64\"/>\n",
       "<polygon fill=\"black\" stroke=\"black\" points=\"1127,-75.85 1123.5,-65.85 1120,-75.85 1127,-75.85\"/>\n",
       "</g>\n",
       "<!-- 109 -->\n",
       "<g id=\"node110\" class=\"node\">\n",
       "<title>109</title>\n",
       "<text text-anchor=\"middle\" x=\"1214.5\" y=\"-51.2\" font-family=\"Times,serif\" font-size=\"14.00\">&lt;id_continue&gt;</text>\n",
       "</g>\n",
       "<!-- 108&#45;&gt;109 -->\n",
       "<g id=\"edge109\" class=\"edge\">\n",
       "<title>108&#45;&gt;109</title>\n",
       "<path fill=\"none\" stroke=\"black\" d=\"M1225.91,-100.71C1224.21,-94.41 1221.45,-84.17 1219.07,-75.33\"/>\n",
       "<polygon fill=\"black\" stroke=\"black\" points=\"1222.48,-74.55 1216.5,-65.8 1215.72,-76.37 1222.48,-74.55\"/>\n",
       "</g>\n",
       "<!-- 111 -->\n",
       "<g id=\"node112\" class=\"node\">\n",
       "<title>111</title>\n",
       "<text text-anchor=\"middle\" x=\"1318.5\" y=\"-51.2\" font-family=\"Times,serif\" font-size=\"14.00\">&lt;id_continue&#45;1&gt;</text>\n",
       "</g>\n",
       "<!-- 108&#45;&gt;111 -->\n",
       "<g id=\"edge111\" class=\"edge\">\n",
       "<title>108&#45;&gt;111</title>\n",
       "<path fill=\"none\" stroke=\"black\" d=\"M1239.03,-100.51C1253.59,-92.79 1278.94,-79.35 1297.1,-69.72\"/>\n",
       "<polygon fill=\"black\" stroke=\"black\" points=\"1298.54,-72.92 1305.73,-65.15 1295.26,-66.74 1298.54,-72.92\"/>\n",
       "</g>\n",
       "<!-- 110 -->\n",
       "<g id=\"node111\" class=\"node\">\n",
       "<title>110</title>\n",
       "<text text-anchor=\"middle\" x=\"1214.5\" y=\"-0.95\" font-family=\"Times,serif\" font-size=\"14.00\">m (109)</text>\n",
       "</g>\n",
       "<!-- 109&#45;&gt;110 -->\n",
       "<g id=\"edge110\" class=\"edge\">\n",
       "<title>109&#45;&gt;110</title>\n",
       "<path fill=\"none\" stroke=\"black\" d=\"M1214.5,-50.46C1214.5,-44.24 1214.5,-34.15 1214.5,-25.39\"/>\n",
       "<polygon fill=\"black\" stroke=\"black\" points=\"1218,-25.6 1214.5,-15.6 1211,-25.6 1218,-25.6\"/>\n",
       "</g>\n",
       "<!-- 117 -->\n",
       "<g id=\"node118\" class=\"node\">\n",
       "<title>117</title>\n",
       "<text text-anchor=\"middle\" x=\"1118.5\" y=\"-603.95\" font-family=\"Times,serif\" font-size=\"14.00\">&lt;BinOp&gt;</text>\n",
       "</g>\n",
       "<!-- 116&#45;&gt;117 -->\n",
       "<g id=\"edge117\" class=\"edge\">\n",
       "<title>116&#45;&gt;117</title>\n",
       "<path fill=\"none\" stroke=\"black\" d=\"M1118.5,-653.46C1118.5,-647.24 1118.5,-637.15 1118.5,-628.39\"/>\n",
       "<polygon fill=\"black\" stroke=\"black\" points=\"1122,-628.6 1118.5,-618.6 1115,-628.6 1122,-628.6\"/>\n",
       "</g>\n",
       "<!-- 118 -->\n",
       "<g id=\"node119\" class=\"node\">\n",
       "<title>118</title>\n",
       "<text text-anchor=\"middle\" x=\"930.5\" y=\"-553.7\" font-family=\"Times,serif\" font-size=\"14.00\">BinOp(left=</text>\n",
       "</g>\n",
       "<!-- 117&#45;&gt;118 -->\n",
       "<g id=\"edge118\" class=\"edge\">\n",
       "<title>117&#45;&gt;118</title>\n",
       "<path fill=\"none\" stroke=\"black\" d=\"M1094.69,-603.01C1061.92,-594.6 1002.7,-579.4 965.05,-569.74\"/>\n",
       "<polygon fill=\"black\" stroke=\"black\" points=\"966.14,-566.41 955.58,-567.31 964.4,-573.19 966.14,-566.41\"/>\n",
       "</g>\n",
       "<!-- 119 -->\n",
       "<g id=\"node120\" class=\"node\">\n",
       "<title>119</title>\n",
       "<text text-anchor=\"middle\" x=\"1002.5\" y=\"-553.7\" font-family=\"Times,serif\" font-size=\"14.00\">&lt;expr&gt;</text>\n",
       "</g>\n",
       "<!-- 117&#45;&gt;119 -->\n",
       "<g id=\"edge119\" class=\"edge\">\n",
       "<title>117&#45;&gt;119</title>\n",
       "<path fill=\"none\" stroke=\"black\" d=\"M1103.81,-603.01C1084.63,-595.04 1050.78,-580.96 1027.53,-571.29\"/>\n",
       "<polygon fill=\"black\" stroke=\"black\" points=\"1029.05,-568.13 1018.47,-567.52 1026.36,-574.59 1029.05,-568.13\"/>\n",
       "</g>\n",
       "<!-- 130 -->\n",
       "<g id=\"node131\" class=\"node\">\n",
       "<title>130</title>\n",
       "<text text-anchor=\"middle\" x=\"1055.5\" y=\"-553.7\" font-family=\"Times,serif\" font-size=\"14.00\">, op=</text>\n",
       "</g>\n",
       "<!-- 117&#45;&gt;130 -->\n",
       "<g id=\"edge130\" class=\"edge\">\n",
       "<title>117&#45;&gt;130</title>\n",
       "<path fill=\"none\" stroke=\"black\" d=\"M1110.52,-603.01C1100.91,-595.65 1084.5,-583.09 1072.1,-573.59\"/>\n",
       "<polygon fill=\"black\" stroke=\"black\" points=\"1074.49,-571.01 1064.42,-567.71 1070.23,-576.56 1074.49,-571.01\"/>\n",
       "</g>\n",
       "<!-- 131 -->\n",
       "<g id=\"node132\" class=\"node\">\n",
       "<title>131</title>\n",
       "<text text-anchor=\"middle\" x=\"1118.5\" y=\"-553.7\" font-family=\"Times,serif\" font-size=\"14.00\">&lt;operator&gt;</text>\n",
       "</g>\n",
       "<!-- 117&#45;&gt;131 -->\n",
       "<g id=\"edge131\" class=\"edge\">\n",
       "<title>117&#45;&gt;131</title>\n",
       "<path fill=\"none\" stroke=\"black\" d=\"M1118.5,-603.21C1118.5,-596.99 1118.5,-586.9 1118.5,-578.14\"/>\n",
       "<polygon fill=\"black\" stroke=\"black\" points=\"1122,-578.35 1118.5,-568.35 1115,-578.35 1122,-578.35\"/>\n",
       "</g>\n",
       "<!-- 133 -->\n",
       "<g id=\"node134\" class=\"node\">\n",
       "<title>133</title>\n",
       "<text text-anchor=\"middle\" x=\"1187.5\" y=\"-553.7\" font-family=\"Times,serif\" font-size=\"14.00\">, right=</text>\n",
       "</g>\n",
       "<!-- 117&#45;&gt;133 -->\n",
       "<g id=\"edge133\" class=\"edge\">\n",
       "<title>117&#45;&gt;133</title>\n",
       "<path fill=\"none\" stroke=\"black\" d=\"M1127.24,-603.01C1137.87,-595.58 1156.09,-582.84 1169.72,-573.31\"/>\n",
       "<polygon fill=\"black\" stroke=\"black\" points=\"1171.62,-576.25 1177.81,-567.65 1167.61,-570.52 1171.62,-576.25\"/>\n",
       "</g>\n",
       "<!-- 134 -->\n",
       "<g id=\"node135\" class=\"node\">\n",
       "<title>134</title>\n",
       "<text text-anchor=\"middle\" x=\"1246.5\" y=\"-553.7\" font-family=\"Times,serif\" font-size=\"14.00\">&lt;expr&gt;</text>\n",
       "</g>\n",
       "<!-- 117&#45;&gt;134 -->\n",
       "<g id=\"edge134\" class=\"edge\">\n",
       "<title>117&#45;&gt;134</title>\n",
       "<path fill=\"none\" stroke=\"black\" d=\"M1134.71,-603.01C1156.16,-594.93 1194.24,-580.57 1219.93,-570.89\"/>\n",
       "<polygon fill=\"black\" stroke=\"black\" points=\"1220.88,-574.27 1229,-567.47 1218.41,-567.72 1220.88,-574.27\"/>\n",
       "</g>\n",
       "<!-- 145 -->\n",
       "<g id=\"node146\" class=\"node\">\n",
       "<title>145</title>\n",
       "<text text-anchor=\"middle\" x=\"1300.5\" y=\"-553.7\" font-family=\"Times,serif\" font-size=\"14.00\">) (41)</text>\n",
       "</g>\n",
       "<!-- 117&#45;&gt;145 -->\n",
       "<g id=\"edge145\" class=\"edge\">\n",
       "<title>117&#45;&gt;145</title>\n",
       "<path fill=\"none\" stroke=\"black\" d=\"M1141.55,-603.01C1175.58,-593.99 1239.07,-577.16 1274.64,-567.73\"/>\n",
       "<polygon fill=\"black\" stroke=\"black\" points=\"1275.32,-571.17 1284.09,-565.23 1273.53,-564.4 1275.32,-571.17\"/>\n",
       "</g>\n",
       "<!-- 120 -->\n",
       "<g id=\"node121\" class=\"node\">\n",
       "<title>120</title>\n",
       "<text text-anchor=\"middle\" x=\"1001.5\" y=\"-503.45\" font-family=\"Times,serif\" font-size=\"14.00\">&lt;Name&gt;</text>\n",
       "</g>\n",
       "<!-- 119&#45;&gt;120 -->\n",
       "<g id=\"edge120\" class=\"edge\">\n",
       "<title>119&#45;&gt;120</title>\n",
       "<path fill=\"none\" stroke=\"black\" d=\"M1002.38,-552.96C1002.25,-546.74 1002.04,-536.65 1001.86,-527.89\"/>\n",
       "<polygon fill=\"black\" stroke=\"black\" points=\"1005.36,-528.03 1001.65,-518.1 998.36,-528.17 1005.36,-528.03\"/>\n",
       "</g>\n",
       "<!-- 121 -->\n",
       "<g id=\"node122\" class=\"node\">\n",
       "<title>121</title>\n",
       "<text text-anchor=\"middle\" x=\"921.5\" y=\"-453.2\" font-family=\"Times,serif\" font-size=\"14.00\">Name(id=</text>\n",
       "</g>\n",
       "<!-- 120&#45;&gt;121 -->\n",
       "<g id=\"edge121\" class=\"edge\">\n",
       "<title>120&#45;&gt;121</title>\n",
       "<path fill=\"none\" stroke=\"black\" d=\"M991.37,-502.51C978.74,-494.9 956.9,-481.73 940.99,-472.13\"/>\n",
       "<polygon fill=\"black\" stroke=\"black\" points=\"943.22,-469.39 932.85,-467.22 939.6,-475.38 943.22,-469.39\"/>\n",
       "</g>\n",
       "<!-- 122 -->\n",
       "<g id=\"node123\" class=\"node\">\n",
       "<title>122</title>\n",
       "<text text-anchor=\"middle\" x=\"1000.5\" y=\"-453.2\" font-family=\"Times,serif\" font-size=\"14.00\">&lt;identifier&gt;</text>\n",
       "</g>\n",
       "<!-- 120&#45;&gt;122 -->\n",
       "<g id=\"edge122\" class=\"edge\">\n",
       "<title>120&#45;&gt;122</title>\n",
       "<path fill=\"none\" stroke=\"black\" d=\"M1001.38,-502.71C1001.25,-496.49 1001.04,-486.4 1000.86,-477.64\"/>\n",
       "<polygon fill=\"black\" stroke=\"black\" points=\"1004.36,-477.78 1000.65,-467.85 997.36,-477.92 1004.36,-477.78\"/>\n",
       "</g>\n",
       "<!-- 129 -->\n",
       "<g id=\"node130\" class=\"node\">\n",
       "<title>129</title>\n",
       "<text text-anchor=\"middle\" x=\"1087.5\" y=\"-453.2\" font-family=\"Times,serif\" font-size=\"14.00\">, ctx=Load())</text>\n",
       "</g>\n",
       "<!-- 120&#45;&gt;129 -->\n",
       "<g id=\"edge129\" class=\"edge\">\n",
       "<title>120&#45;&gt;129</title>\n",
       "<path fill=\"none\" stroke=\"black\" d=\"M1012.39,-502.51C1026.09,-494.83 1049.89,-481.47 1067.03,-471.86\"/>\n",
       "<polygon fill=\"black\" stroke=\"black\" points=\"1068.37,-475.12 1075.38,-467.18 1064.94,-469.02 1068.37,-475.12\"/>\n",
       "</g>\n",
       "<!-- 123 -->\n",
       "<g id=\"node124\" class=\"node\">\n",
       "<title>123</title>\n",
       "<text text-anchor=\"middle\" x=\"954.5\" y=\"-402.95\" font-family=\"Times,serif\" font-size=\"14.00\">&#39; (39)</text>\n",
       "</g>\n",
       "<!-- 122&#45;&gt;123 -->\n",
       "<g id=\"edge123\" class=\"edge\">\n",
       "<title>122&#45;&gt;123</title>\n",
       "<path fill=\"none\" stroke=\"black\" d=\"M994.86,-452.46C988.24,-445.51 977.03,-433.75 968.1,-424.39\"/>\n",
       "<polygon fill=\"black\" stroke=\"black\" points=\"970.66,-422.01 961.23,-417.19 965.6,-426.84 970.66,-422.01\"/>\n",
       "</g>\n",
       "<!-- 124 -->\n",
       "<g id=\"node125\" class=\"node\">\n",
       "<title>124</title>\n",
       "<text text-anchor=\"middle\" x=\"1000.5\" y=\"-402.95\" font-family=\"Times,serif\" font-size=\"14.00\">&lt;id&gt;</text>\n",
       "</g>\n",
       "<!-- 122&#45;&gt;124 -->\n",
       "<g id=\"edge124\" class=\"edge\">\n",
       "<title>122&#45;&gt;124</title>\n",
       "<path fill=\"none\" stroke=\"black\" d=\"M1000.5,-452.46C1000.5,-446.24 1000.5,-436.15 1000.5,-427.39\"/>\n",
       "<polygon fill=\"black\" stroke=\"black\" points=\"1004,-427.6 1000.5,-417.6 997,-427.6 1004,-427.6\"/>\n",
       "</g>\n",
       "<!-- 128 -->\n",
       "<g id=\"node129\" class=\"node\">\n",
       "<title>128</title>\n",
       "<text text-anchor=\"middle\" x=\"1046.5\" y=\"-402.95\" font-family=\"Times,serif\" font-size=\"14.00\">&#39; (39)</text>\n",
       "</g>\n",
       "<!-- 122&#45;&gt;128 -->\n",
       "<g id=\"edge128\" class=\"edge\">\n",
       "<title>122&#45;&gt;128</title>\n",
       "<path fill=\"none\" stroke=\"black\" d=\"M1006.14,-452.46C1012.76,-445.51 1023.97,-433.75 1032.9,-424.39\"/>\n",
       "<polygon fill=\"black\" stroke=\"black\" points=\"1035.4,-426.84 1039.77,-417.19 1030.34,-422.01 1035.4,-426.84\"/>\n",
       "</g>\n",
       "<!-- 125 -->\n",
       "<g id=\"node126\" class=\"node\">\n",
       "<title>125</title>\n",
       "<text text-anchor=\"middle\" x=\"982.5\" y=\"-352.7\" font-family=\"Times,serif\" font-size=\"14.00\">&lt;id_start&gt;</text>\n",
       "</g>\n",
       "<!-- 124&#45;&gt;125 -->\n",
       "<g id=\"edge125\" class=\"edge\">\n",
       "<title>124&#45;&gt;125</title>\n",
       "<path fill=\"none\" stroke=\"black\" d=\"M998.29,-402.21C995.92,-395.84 992.03,-385.43 988.71,-376.53\"/>\n",
       "<polygon fill=\"black\" stroke=\"black\" points=\"992.03,-375.4 985.25,-367.26 985.47,-377.85 992.03,-375.4\"/>\n",
       "</g>\n",
       "<!-- 127 -->\n",
       "<g id=\"node128\" class=\"node\">\n",
       "<title>127</title>\n",
       "<text text-anchor=\"middle\" x=\"1074.5\" y=\"-352.7\" font-family=\"Times,serif\" font-size=\"14.00\">&lt;id_continue&#45;1&gt;</text>\n",
       "</g>\n",
       "<!-- 124&#45;&gt;127 -->\n",
       "<g id=\"edge127\" class=\"edge\">\n",
       "<title>124&#45;&gt;127</title>\n",
       "<path fill=\"none\" stroke=\"black\" d=\"M1009.87,-402.01C1021.39,-394.5 1041.2,-381.59 1055.86,-372.03\"/>\n",
       "<polygon fill=\"black\" stroke=\"black\" points=\"1057.7,-375.01 1064.17,-366.61 1053.88,-369.14 1057.7,-375.01\"/>\n",
       "</g>\n",
       "<!-- 126 -->\n",
       "<g id=\"node127\" class=\"node\">\n",
       "<title>126</title>\n",
       "<text text-anchor=\"middle\" x=\"982.5\" y=\"-302.45\" font-family=\"Times,serif\" font-size=\"14.00\">a (97)</text>\n",
       "</g>\n",
       "<!-- 125&#45;&gt;126 -->\n",
       "<g id=\"edge126\" class=\"edge\">\n",
       "<title>125&#45;&gt;126</title>\n",
       "<path fill=\"none\" stroke=\"black\" d=\"M982.5,-351.96C982.5,-345.74 982.5,-335.65 982.5,-326.89\"/>\n",
       "<polygon fill=\"black\" stroke=\"black\" points=\"986,-327.1 982.5,-317.1 979,-327.1 986,-327.1\"/>\n",
       "</g>\n",
       "<!-- 132 -->\n",
       "<g id=\"node133\" class=\"node\">\n",
       "<title>132</title>\n",
       "<text text-anchor=\"middle\" x=\"1118.5\" y=\"-503.45\" font-family=\"Times,serif\" font-size=\"14.00\">Add()</text>\n",
       "</g>\n",
       "<!-- 131&#45;&gt;132 -->\n",
       "<g id=\"edge132\" class=\"edge\">\n",
       "<title>131&#45;&gt;132</title>\n",
       "<path fill=\"none\" stroke=\"black\" d=\"M1118.5,-552.96C1118.5,-546.74 1118.5,-536.65 1118.5,-527.89\"/>\n",
       "<polygon fill=\"black\" stroke=\"black\" points=\"1122,-528.1 1118.5,-518.1 1115,-528.1 1122,-528.1\"/>\n",
       "</g>\n",
       "<!-- 135 -->\n",
       "<g id=\"node136\" class=\"node\">\n",
       "<title>135</title>\n",
       "<text text-anchor=\"middle\" x=\"1247.5\" y=\"-503.45\" font-family=\"Times,serif\" font-size=\"14.00\">&lt;Name&gt;</text>\n",
       "</g>\n",
       "<!-- 134&#45;&gt;135 -->\n",
       "<g id=\"edge135\" class=\"edge\">\n",
       "<title>134&#45;&gt;135</title>\n",
       "<path fill=\"none\" stroke=\"black\" d=\"M1246.62,-552.96C1246.75,-546.74 1246.96,-536.65 1247.14,-527.89\"/>\n",
       "<polygon fill=\"black\" stroke=\"black\" points=\"1250.64,-528.17 1247.35,-518.1 1243.64,-528.03 1250.64,-528.17\"/>\n",
       "</g>\n",
       "<!-- 136 -->\n",
       "<g id=\"node137\" class=\"node\">\n",
       "<title>136</title>\n",
       "<text text-anchor=\"middle\" x=\"1170.5\" y=\"-453.2\" font-family=\"Times,serif\" font-size=\"14.00\">Name(id=</text>\n",
       "</g>\n",
       "<!-- 135&#45;&gt;136 -->\n",
       "<g id=\"edge136\" class=\"edge\">\n",
       "<title>135&#45;&gt;136</title>\n",
       "<path fill=\"none\" stroke=\"black\" d=\"M1237.75,-502.51C1225.65,-494.93 1204.75,-481.83 1189.45,-472.25\"/>\n",
       "<polygon fill=\"black\" stroke=\"black\" points=\"1191.55,-469.43 1181.21,-467.09 1187.83,-475.36 1191.55,-469.43\"/>\n",
       "</g>\n",
       "<!-- 137 -->\n",
       "<g id=\"node138\" class=\"node\">\n",
       "<title>137</title>\n",
       "<text text-anchor=\"middle\" x=\"1249.5\" y=\"-453.2\" font-family=\"Times,serif\" font-size=\"14.00\">&lt;identifier&gt;</text>\n",
       "</g>\n",
       "<!-- 135&#45;&gt;137 -->\n",
       "<g id=\"edge137\" class=\"edge\">\n",
       "<title>135&#45;&gt;137</title>\n",
       "<path fill=\"none\" stroke=\"black\" d=\"M1247.75,-502.71C1248,-496.49 1248.42,-486.4 1248.78,-477.64\"/>\n",
       "<polygon fill=\"black\" stroke=\"black\" points=\"1252.27,-477.99 1249.19,-467.85 1245.28,-477.7 1252.27,-477.99\"/>\n",
       "</g>\n",
       "<!-- 144 -->\n",
       "<g id=\"node145\" class=\"node\">\n",
       "<title>144</title>\n",
       "<text text-anchor=\"middle\" x=\"1336.5\" y=\"-453.2\" font-family=\"Times,serif\" font-size=\"14.00\">, ctx=Load())</text>\n",
       "</g>\n",
       "<!-- 135&#45;&gt;144 -->\n",
       "<g id=\"edge144\" class=\"edge\">\n",
       "<title>135&#45;&gt;144</title>\n",
       "<path fill=\"none\" stroke=\"black\" d=\"M1258.77,-502.51C1272.95,-494.83 1297.58,-481.47 1315.32,-471.86\"/>\n",
       "<polygon fill=\"black\" stroke=\"black\" points=\"1316.87,-475 1323.99,-467.16 1313.53,-468.85 1316.87,-475\"/>\n",
       "</g>\n",
       "<!-- 138 -->\n",
       "<g id=\"node139\" class=\"node\">\n",
       "<title>138</title>\n",
       "<text text-anchor=\"middle\" x=\"1203.5\" y=\"-402.95\" font-family=\"Times,serif\" font-size=\"14.00\">&#39; (39)</text>\n",
       "</g>\n",
       "<!-- 137&#45;&gt;138 -->\n",
       "<g id=\"edge138\" class=\"edge\">\n",
       "<title>137&#45;&gt;138</title>\n",
       "<path fill=\"none\" stroke=\"black\" d=\"M1243.86,-452.46C1237.24,-445.51 1226.03,-433.75 1217.1,-424.39\"/>\n",
       "<polygon fill=\"black\" stroke=\"black\" points=\"1219.66,-422.01 1210.23,-417.19 1214.6,-426.84 1219.66,-422.01\"/>\n",
       "</g>\n",
       "<!-- 139 -->\n",
       "<g id=\"node140\" class=\"node\">\n",
       "<title>139</title>\n",
       "<text text-anchor=\"middle\" x=\"1249.5\" y=\"-402.95\" font-family=\"Times,serif\" font-size=\"14.00\">&lt;id&gt;</text>\n",
       "</g>\n",
       "<!-- 137&#45;&gt;139 -->\n",
       "<g id=\"edge139\" class=\"edge\">\n",
       "<title>137&#45;&gt;139</title>\n",
       "<path fill=\"none\" stroke=\"black\" d=\"M1249.5,-452.46C1249.5,-446.24 1249.5,-436.15 1249.5,-427.39\"/>\n",
       "<polygon fill=\"black\" stroke=\"black\" points=\"1253,-427.6 1249.5,-417.6 1246,-427.6 1253,-427.6\"/>\n",
       "</g>\n",
       "<!-- 143 -->\n",
       "<g id=\"node144\" class=\"node\">\n",
       "<title>143</title>\n",
       "<text text-anchor=\"middle\" x=\"1295.5\" y=\"-402.95\" font-family=\"Times,serif\" font-size=\"14.00\">&#39; (39)</text>\n",
       "</g>\n",
       "<!-- 137&#45;&gt;143 -->\n",
       "<g id=\"edge143\" class=\"edge\">\n",
       "<title>137&#45;&gt;143</title>\n",
       "<path fill=\"none\" stroke=\"black\" d=\"M1255.14,-452.46C1261.76,-445.51 1272.97,-433.75 1281.9,-424.39\"/>\n",
       "<polygon fill=\"black\" stroke=\"black\" points=\"1284.4,-426.84 1288.77,-417.19 1279.34,-422.01 1284.4,-426.84\"/>\n",
       "</g>\n",
       "<!-- 140 -->\n",
       "<g id=\"node141\" class=\"node\">\n",
       "<title>140</title>\n",
       "<text text-anchor=\"middle\" x=\"1217.5\" y=\"-352.7\" font-family=\"Times,serif\" font-size=\"14.00\">&lt;id_start&gt;</text>\n",
       "</g>\n",
       "<!-- 139&#45;&gt;140 -->\n",
       "<g id=\"edge140\" class=\"edge\">\n",
       "<title>139&#45;&gt;140</title>\n",
       "<path fill=\"none\" stroke=\"black\" d=\"M1245.58,-402.21C1241.16,-395.55 1233.82,-384.48 1227.74,-375.32\"/>\n",
       "<polygon fill=\"black\" stroke=\"black\" points=\"1230.74,-373.5 1222.29,-367.1 1224.9,-377.37 1230.74,-373.5\"/>\n",
       "</g>\n",
       "<!-- 142 -->\n",
       "<g id=\"node143\" class=\"node\">\n",
       "<title>142</title>\n",
       "<text text-anchor=\"middle\" x=\"1309.5\" y=\"-352.7\" font-family=\"Times,serif\" font-size=\"14.00\">&lt;id_continue&#45;1&gt;</text>\n",
       "</g>\n",
       "<!-- 139&#45;&gt;142 -->\n",
       "<g id=\"edge142\" class=\"edge\">\n",
       "<title>139&#45;&gt;142</title>\n",
       "<path fill=\"none\" stroke=\"black\" d=\"M1256.86,-402.21C1265.85,-394.97 1281.35,-382.52 1293.2,-372.98\"/>\n",
       "<polygon fill=\"black\" stroke=\"black\" points=\"1295.3,-375.78 1300.9,-366.79 1290.92,-370.33 1295.3,-375.78\"/>\n",
       "</g>\n",
       "<!-- 141 -->\n",
       "<g id=\"node142\" class=\"node\">\n",
       "<title>141</title>\n",
       "<text text-anchor=\"middle\" x=\"1217.5\" y=\"-302.45\" font-family=\"Times,serif\" font-size=\"14.00\">b (98)</text>\n",
       "</g>\n",
       "<!-- 140&#45;&gt;141 -->\n",
       "<g id=\"edge141\" class=\"edge\">\n",
       "<title>140&#45;&gt;141</title>\n",
       "<path fill=\"none\" stroke=\"black\" d=\"M1217.5,-351.96C1217.5,-345.74 1217.5,-335.65 1217.5,-326.89\"/>\n",
       "<polygon fill=\"black\" stroke=\"black\" points=\"1221,-327.1 1217.5,-317.1 1214,-327.1 1221,-327.1\"/>\n",
       "</g>\n",
       "<!-- 150 -->\n",
       "<g id=\"node151\" class=\"node\">\n",
       "<title>150</title>\n",
       "<text text-anchor=\"middle\" x=\"1396.5\" y=\"-704.45\" font-family=\"Times,serif\" font-size=\"14.00\">&lt;stmt&gt;</text>\n",
       "</g>\n",
       "<!-- 149&#45;&gt;150 -->\n",
       "<g id=\"edge150\" class=\"edge\">\n",
       "<title>149&#45;&gt;150</title>\n",
       "<path fill=\"none\" stroke=\"black\" d=\"M1396.5,-753.96C1396.5,-747.74 1396.5,-737.65 1396.5,-728.89\"/>\n",
       "<polygon fill=\"black\" stroke=\"black\" points=\"1400,-729.1 1396.5,-719.1 1393,-729.1 1400,-729.1\"/>\n",
       "</g>\n",
       "<!-- 151 -->\n",
       "<g id=\"node152\" class=\"node\">\n",
       "<title>151</title>\n",
       "<text text-anchor=\"middle\" x=\"1409.5\" y=\"-654.2\" font-family=\"Times,serif\" font-size=\"14.00\">&lt;Return&gt;</text>\n",
       "</g>\n",
       "<!-- 150&#45;&gt;151 -->\n",
       "<g id=\"edge151\" class=\"edge\">\n",
       "<title>150&#45;&gt;151</title>\n",
       "<path fill=\"none\" stroke=\"black\" d=\"M1398.09,-703.71C1399.79,-697.41 1402.55,-687.17 1404.93,-678.33\"/>\n",
       "<polygon fill=\"black\" stroke=\"black\" points=\"1408.28,-679.37 1407.5,-668.8 1401.52,-677.55 1408.28,-679.37\"/>\n",
       "</g>\n",
       "<!-- 152 -->\n",
       "<g id=\"node153\" class=\"node\">\n",
       "<title>152</title>\n",
       "<text text-anchor=\"middle\" x=\"1331.5\" y=\"-603.95\" font-family=\"Times,serif\" font-size=\"14.00\">Return(value=</text>\n",
       "</g>\n",
       "<!-- 151&#45;&gt;152 -->\n",
       "<g id=\"edge152\" class=\"edge\">\n",
       "<title>151&#45;&gt;152</title>\n",
       "<path fill=\"none\" stroke=\"black\" d=\"M1399.62,-653.26C1387.36,-645.68 1366.19,-632.58 1350.7,-623\"/>\n",
       "<polygon fill=\"black\" stroke=\"black\" points=\"1352.69,-620.12 1342.34,-617.83 1349,-626.07 1352.69,-620.12\"/>\n",
       "</g>\n",
       "<!-- 153 -->\n",
       "<g id=\"node154\" class=\"node\">\n",
       "<title>153</title>\n",
       "<text text-anchor=\"middle\" x=\"1409.5\" y=\"-603.95\" font-family=\"Times,serif\" font-size=\"14.00\">&lt;expr&gt;</text>\n",
       "</g>\n",
       "<!-- 151&#45;&gt;153 -->\n",
       "<g id=\"edge153\" class=\"edge\">\n",
       "<title>151&#45;&gt;153</title>\n",
       "<path fill=\"none\" stroke=\"black\" d=\"M1409.5,-653.46C1409.5,-647.24 1409.5,-637.15 1409.5,-628.39\"/>\n",
       "<polygon fill=\"black\" stroke=\"black\" points=\"1413,-628.6 1409.5,-618.6 1406,-628.6 1413,-628.6\"/>\n",
       "</g>\n",
       "<!-- 182 -->\n",
       "<g id=\"node183\" class=\"node\">\n",
       "<title>182</title>\n",
       "<text text-anchor=\"middle\" x=\"1463.5\" y=\"-603.95\" font-family=\"Times,serif\" font-size=\"14.00\">) (41)</text>\n",
       "</g>\n",
       "<!-- 151&#45;&gt;182 -->\n",
       "<g id=\"edge182\" class=\"edge\">\n",
       "<title>151&#45;&gt;182</title>\n",
       "<path fill=\"none\" stroke=\"black\" d=\"M1416.12,-653.46C1424.14,-646.3 1437.88,-634.01 1448.51,-624.52\"/>\n",
       "<polygon fill=\"black\" stroke=\"black\" points=\"1450.57,-627.37 1455.7,-618.1 1445.91,-622.15 1450.57,-627.37\"/>\n",
       "</g>\n",
       "<!-- 154 -->\n",
       "<g id=\"node155\" class=\"node\">\n",
       "<title>154</title>\n",
       "<text text-anchor=\"middle\" x=\"1410.5\" y=\"-553.7\" font-family=\"Times,serif\" font-size=\"14.00\">&lt;Name&gt;</text>\n",
       "</g>\n",
       "<!-- 153&#45;&gt;154 -->\n",
       "<g id=\"edge154\" class=\"edge\">\n",
       "<title>153&#45;&gt;154</title>\n",
       "<path fill=\"none\" stroke=\"black\" d=\"M1409.62,-603.21C1409.75,-596.99 1409.96,-586.9 1410.14,-578.14\"/>\n",
       "<polygon fill=\"black\" stroke=\"black\" points=\"1413.64,-578.42 1410.35,-568.35 1406.64,-578.28 1413.64,-578.42\"/>\n",
       "</g>\n",
       "<!-- 155 -->\n",
       "<g id=\"node156\" class=\"node\">\n",
       "<title>155</title>\n",
       "<text text-anchor=\"middle\" x=\"1334.5\" y=\"-503.45\" font-family=\"Times,serif\" font-size=\"14.00\">Name(id=</text>\n",
       "</g>\n",
       "<!-- 154&#45;&gt;155 -->\n",
       "<g id=\"edge155\" class=\"edge\">\n",
       "<title>154&#45;&gt;155</title>\n",
       "<path fill=\"none\" stroke=\"black\" d=\"M1400.87,-552.76C1388.93,-545.18 1368.3,-532.08 1353.2,-522.5\"/>\n",
       "<polygon fill=\"black\" stroke=\"black\" points=\"1355.41,-519.75 1345.09,-517.35 1351.65,-525.66 1355.41,-519.75\"/>\n",
       "</g>\n",
       "<!-- 156 -->\n",
       "<g id=\"node157\" class=\"node\">\n",
       "<title>156</title>\n",
       "<text text-anchor=\"middle\" x=\"1413.5\" y=\"-503.45\" font-family=\"Times,serif\" font-size=\"14.00\">&lt;identifier&gt;</text>\n",
       "</g>\n",
       "<!-- 154&#45;&gt;156 -->\n",
       "<g id=\"edge156\" class=\"edge\">\n",
       "<title>154&#45;&gt;156</title>\n",
       "<path fill=\"none\" stroke=\"black\" d=\"M1410.87,-552.96C1411.25,-546.74 1411.88,-536.65 1412.43,-527.89\"/>\n",
       "<polygon fill=\"black\" stroke=\"black\" points=\"1415.91,-528.3 1413.04,-518.1 1408.92,-527.86 1415.91,-528.3\"/>\n",
       "</g>\n",
       "<!-- 181 -->\n",
       "<g id=\"node182\" class=\"node\">\n",
       "<title>181</title>\n",
       "<text text-anchor=\"middle\" x=\"1500.5\" y=\"-503.45\" font-family=\"Times,serif\" font-size=\"14.00\">, ctx=Load())</text>\n",
       "</g>\n",
       "<!-- 154&#45;&gt;181 -->\n",
       "<g id=\"edge181\" class=\"edge\">\n",
       "<title>154&#45;&gt;181</title>\n",
       "<path fill=\"none\" stroke=\"black\" d=\"M1421.9,-552.76C1436.23,-545.08 1461.14,-531.72 1479.08,-522.11\"/>\n",
       "<polygon fill=\"black\" stroke=\"black\" points=\"1480.7,-525.21 1487.86,-517.4 1477.39,-519.04 1480.7,-525.21\"/>\n",
       "</g>\n",
       "<!-- 157 -->\n",
       "<g id=\"node158\" class=\"node\">\n",
       "<title>157</title>\n",
       "<text text-anchor=\"middle\" x=\"1405.5\" y=\"-453.2\" font-family=\"Times,serif\" font-size=\"14.00\">&#39; (39)</text>\n",
       "</g>\n",
       "<!-- 156&#45;&gt;157 -->\n",
       "<g id=\"edge157\" class=\"edge\">\n",
       "<title>156&#45;&gt;157</title>\n",
       "<path fill=\"none\" stroke=\"black\" d=\"M1412.52,-502.71C1411.49,-496.49 1409.82,-486.4 1408.36,-477.64\"/>\n",
       "<polygon fill=\"black\" stroke=\"black\" points=\"1411.83,-477.13 1406.74,-467.83 1404.92,-478.27 1411.83,-477.13\"/>\n",
       "</g>\n",
       "<!-- 158 -->\n",
       "<g id=\"node159\" class=\"node\">\n",
       "<title>158</title>\n",
       "<text text-anchor=\"middle\" x=\"1451.5\" y=\"-453.2\" font-family=\"Times,serif\" font-size=\"14.00\">&lt;id&gt;</text>\n",
       "</g>\n",
       "<!-- 156&#45;&gt;158 -->\n",
       "<g id=\"edge158\" class=\"edge\">\n",
       "<title>156&#45;&gt;158</title>\n",
       "<path fill=\"none\" stroke=\"black\" d=\"M1418.16,-502.71C1423.52,-495.91 1432.51,-484.49 1439.8,-475.23\"/>\n",
       "<polygon fill=\"black\" stroke=\"black\" points=\"1442.43,-477.55 1445.87,-467.53 1436.93,-473.22 1442.43,-477.55\"/>\n",
       "</g>\n",
       "<!-- 180 -->\n",
       "<g id=\"node181\" class=\"node\">\n",
       "<title>180</title>\n",
       "<text text-anchor=\"middle\" x=\"1497.5\" y=\"-453.2\" font-family=\"Times,serif\" font-size=\"14.00\">&#39; (39)</text>\n",
       "</g>\n",
       "<!-- 156&#45;&gt;180 -->\n",
       "<g id=\"edge180\" class=\"edge\">\n",
       "<title>156&#45;&gt;180</title>\n",
       "<path fill=\"none\" stroke=\"black\" d=\"M1424.14,-502.51C1437.39,-494.9 1460.33,-481.73 1477.03,-472.13\"/>\n",
       "<polygon fill=\"black\" stroke=\"black\" points=\"1478.71,-475.21 1485.64,-467.19 1475.22,-469.14 1478.71,-475.21\"/>\n",
       "</g>\n",
       "<!-- 159 -->\n",
       "<g id=\"node160\" class=\"node\">\n",
       "<title>159</title>\n",
       "<text text-anchor=\"middle\" x=\"1391.5\" y=\"-402.95\" font-family=\"Times,serif\" font-size=\"14.00\">&lt;id_start&gt;</text>\n",
       "</g>\n",
       "<!-- 158&#45;&gt;159 -->\n",
       "<g id=\"edge159\" class=\"edge\">\n",
       "<title>158&#45;&gt;159</title>\n",
       "<path fill=\"none\" stroke=\"black\" d=\"M1444.14,-452.46C1435.15,-445.22 1419.65,-432.77 1407.8,-423.23\"/>\n",
       "<polygon fill=\"black\" stroke=\"black\" points=\"1410.08,-420.58 1400.1,-417.04 1405.7,-426.03 1410.08,-420.58\"/>\n",
       "</g>\n",
       "<!-- 161 -->\n",
       "<g id=\"node162\" class=\"node\">\n",
       "<title>161</title>\n",
       "<text text-anchor=\"middle\" x=\"1483.5\" y=\"-402.95\" font-family=\"Times,serif\" font-size=\"14.00\">&lt;id_continue&#45;1&gt;</text>\n",
       "</g>\n",
       "<!-- 158&#45;&gt;161 -->\n",
       "<g id=\"edge161\" class=\"edge\">\n",
       "<title>158&#45;&gt;161</title>\n",
       "<path fill=\"none\" stroke=\"black\" d=\"M1455.42,-452.46C1459.84,-445.8 1467.18,-434.73 1473.26,-425.57\"/>\n",
       "<polygon fill=\"black\" stroke=\"black\" points=\"1476.1,-427.62 1478.71,-417.35 1470.26,-423.75 1476.1,-427.62\"/>\n",
       "</g>\n",
       "<!-- 160 -->\n",
       "<g id=\"node161\" class=\"node\">\n",
       "<title>160</title>\n",
       "<text text-anchor=\"middle\" x=\"1391.5\" y=\"-352.7\" font-family=\"Times,serif\" font-size=\"14.00\">t (116)</text>\n",
       "</g>\n",
       "<!-- 159&#45;&gt;160 -->\n",
       "<g id=\"edge160\" class=\"edge\">\n",
       "<title>159&#45;&gt;160</title>\n",
       "<path fill=\"none\" stroke=\"black\" d=\"M1391.5,-402.21C1391.5,-395.99 1391.5,-385.9 1391.5,-377.14\"/>\n",
       "<polygon fill=\"black\" stroke=\"black\" points=\"1395,-377.35 1391.5,-367.35 1388,-377.35 1395,-377.35\"/>\n",
       "</g>\n",
       "<!-- 162 -->\n",
       "<g id=\"node163\" class=\"node\">\n",
       "<title>162</title>\n",
       "<text text-anchor=\"middle\" x=\"1475.5\" y=\"-352.7\" font-family=\"Times,serif\" font-size=\"14.00\">&lt;id_continue&gt;</text>\n",
       "</g>\n",
       "<!-- 161&#45;&gt;162 -->\n",
       "<g id=\"edge162\" class=\"edge\">\n",
       "<title>161&#45;&gt;162</title>\n",
       "<path fill=\"none\" stroke=\"black\" d=\"M1482.52,-402.21C1481.49,-395.99 1479.82,-385.9 1478.36,-377.14\"/>\n",
       "<polygon fill=\"black\" stroke=\"black\" points=\"1481.83,-376.63 1476.74,-367.33 1474.92,-377.77 1481.83,-376.63\"/>\n",
       "</g>\n",
       "<!-- 164 -->\n",
       "<g id=\"node165\" class=\"node\">\n",
       "<title>164</title>\n",
       "<text text-anchor=\"middle\" x=\"1579.5\" y=\"-352.7\" font-family=\"Times,serif\" font-size=\"14.00\">&lt;id_continue&#45;1&gt;</text>\n",
       "</g>\n",
       "<!-- 161&#45;&gt;164 -->\n",
       "<g id=\"edge164\" class=\"edge\">\n",
       "<title>161&#45;&gt;164</title>\n",
       "<path fill=\"none\" stroke=\"black\" d=\"M1495.66,-402.01C1511.09,-394.26 1538.02,-380.72 1557.19,-371.09\"/>\n",
       "<polygon fill=\"black\" stroke=\"black\" points=\"1558.72,-374.23 1566.09,-366.62 1555.58,-367.98 1558.72,-374.23\"/>\n",
       "</g>\n",
       "<!-- 163 -->\n",
       "<g id=\"node164\" class=\"node\">\n",
       "<title>163</title>\n",
       "<text text-anchor=\"middle\" x=\"1475.5\" y=\"-302.45\" font-family=\"Times,serif\" font-size=\"14.00\">h (104)</text>\n",
       "</g>\n",
       "<!-- 162&#45;&gt;163 -->\n",
       "<g id=\"edge163\" class=\"edge\">\n",
       "<title>162&#45;&gt;163</title>\n",
       "<path fill=\"none\" stroke=\"black\" d=\"M1475.5,-351.96C1475.5,-345.74 1475.5,-335.65 1475.5,-326.89\"/>\n",
       "<polygon fill=\"black\" stroke=\"black\" points=\"1479,-327.1 1475.5,-317.1 1472,-327.1 1479,-327.1\"/>\n",
       "</g>\n",
       "<!-- 165 -->\n",
       "<g id=\"node166\" class=\"node\">\n",
       "<title>165</title>\n",
       "<text text-anchor=\"middle\" x=\"1566.5\" y=\"-302.45\" font-family=\"Times,serif\" font-size=\"14.00\">&lt;id_continue&gt;</text>\n",
       "</g>\n",
       "<!-- 164&#45;&gt;165 -->\n",
       "<g id=\"edge165\" class=\"edge\">\n",
       "<title>164&#45;&gt;165</title>\n",
       "<path fill=\"none\" stroke=\"black\" d=\"M1577.91,-351.96C1576.21,-345.66 1573.45,-335.42 1571.07,-326.58\"/>\n",
       "<polygon fill=\"black\" stroke=\"black\" points=\"1574.48,-325.8 1568.5,-317.05 1567.72,-327.62 1574.48,-325.8\"/>\n",
       "</g>\n",
       "<!-- 167 -->\n",
       "<g id=\"node168\" class=\"node\">\n",
       "<title>167</title>\n",
       "<text text-anchor=\"middle\" x=\"1670.5\" y=\"-302.45\" font-family=\"Times,serif\" font-size=\"14.00\">&lt;id_continue&#45;1&gt;</text>\n",
       "</g>\n",
       "<!-- 164&#45;&gt;167 -->\n",
       "<g id=\"edge167\" class=\"edge\">\n",
       "<title>164&#45;&gt;167</title>\n",
       "<path fill=\"none\" stroke=\"black\" d=\"M1591.03,-351.76C1605.59,-344.04 1630.94,-330.6 1649.1,-320.97\"/>\n",
       "<polygon fill=\"black\" stroke=\"black\" points=\"1650.54,-324.17 1657.73,-316.4 1647.26,-317.99 1650.54,-324.17\"/>\n",
       "</g>\n",
       "<!-- 166 -->\n",
       "<g id=\"node167\" class=\"node\">\n",
       "<title>166</title>\n",
       "<text text-anchor=\"middle\" x=\"1566.5\" y=\"-252.2\" font-family=\"Times,serif\" font-size=\"14.00\">e (101)</text>\n",
       "</g>\n",
       "<!-- 165&#45;&gt;166 -->\n",
       "<g id=\"edge166\" class=\"edge\">\n",
       "<title>165&#45;&gt;166</title>\n",
       "<path fill=\"none\" stroke=\"black\" d=\"M1566.5,-301.71C1566.5,-295.49 1566.5,-285.4 1566.5,-276.64\"/>\n",
       "<polygon fill=\"black\" stroke=\"black\" points=\"1570,-276.85 1566.5,-266.85 1563,-276.85 1570,-276.85\"/>\n",
       "</g>\n",
       "<!-- 168 -->\n",
       "<g id=\"node169\" class=\"node\">\n",
       "<title>168</title>\n",
       "<text text-anchor=\"middle\" x=\"1657.5\" y=\"-252.2\" font-family=\"Times,serif\" font-size=\"14.00\">&lt;id_continue&gt;</text>\n",
       "</g>\n",
       "<!-- 167&#45;&gt;168 -->\n",
       "<g id=\"edge168\" class=\"edge\">\n",
       "<title>167&#45;&gt;168</title>\n",
       "<path fill=\"none\" stroke=\"black\" d=\"M1668.91,-301.71C1667.21,-295.41 1664.45,-285.17 1662.07,-276.33\"/>\n",
       "<polygon fill=\"black\" stroke=\"black\" points=\"1665.48,-275.55 1659.5,-266.8 1658.72,-277.37 1665.48,-275.55\"/>\n",
       "</g>\n",
       "<!-- 170 -->\n",
       "<g id=\"node171\" class=\"node\">\n",
       "<title>170</title>\n",
       "<text text-anchor=\"middle\" x=\"1761.5\" y=\"-252.2\" font-family=\"Times,serif\" font-size=\"14.00\">&lt;id_continue&#45;1&gt;</text>\n",
       "</g>\n",
       "<!-- 167&#45;&gt;170 -->\n",
       "<g id=\"edge170\" class=\"edge\">\n",
       "<title>167&#45;&gt;170</title>\n",
       "<path fill=\"none\" stroke=\"black\" d=\"M1682.03,-301.51C1696.59,-293.79 1721.94,-280.35 1740.1,-270.72\"/>\n",
       "<polygon fill=\"black\" stroke=\"black\" points=\"1741.54,-273.92 1748.73,-266.15 1738.26,-267.74 1741.54,-273.92\"/>\n",
       "</g>\n",
       "<!-- 169 -->\n",
       "<g id=\"node170\" class=\"node\">\n",
       "<title>169</title>\n",
       "<text text-anchor=\"middle\" x=\"1657.5\" y=\"-201.95\" font-family=\"Times,serif\" font-size=\"14.00\">_ (95)</text>\n",
       "</g>\n",
       "<!-- 168&#45;&gt;169 -->\n",
       "<g id=\"edge169\" class=\"edge\">\n",
       "<title>168&#45;&gt;169</title>\n",
       "<path fill=\"none\" stroke=\"black\" d=\"M1657.5,-251.46C1657.5,-245.24 1657.5,-235.15 1657.5,-226.39\"/>\n",
       "<polygon fill=\"black\" stroke=\"black\" points=\"1661,-226.6 1657.5,-216.6 1654,-226.6 1661,-226.6\"/>\n",
       "</g>\n",
       "<!-- 171 -->\n",
       "<g id=\"node172\" class=\"node\">\n",
       "<title>171</title>\n",
       "<text text-anchor=\"middle\" x=\"1746.5\" y=\"-201.95\" font-family=\"Times,serif\" font-size=\"14.00\">&lt;id_continue&gt;</text>\n",
       "</g>\n",
       "<!-- 170&#45;&gt;171 -->\n",
       "<g id=\"edge171\" class=\"edge\">\n",
       "<title>170&#45;&gt;171</title>\n",
       "<path fill=\"none\" stroke=\"black\" d=\"M1759.66,-251.46C1757.7,-245.16 1754.52,-234.92 1751.77,-226.08\"/>\n",
       "<polygon fill=\"black\" stroke=\"black\" points=\"1755.11,-225.05 1748.8,-216.54 1748.43,-227.12 1755.11,-225.05\"/>\n",
       "</g>\n",
       "<!-- 173 -->\n",
       "<g id=\"node174\" class=\"node\">\n",
       "<title>173</title>\n",
       "<text text-anchor=\"middle\" x=\"1850.5\" y=\"-201.95\" font-family=\"Times,serif\" font-size=\"14.00\">&lt;id_continue&#45;1&gt;</text>\n",
       "</g>\n",
       "<!-- 170&#45;&gt;173 -->\n",
       "<g id=\"edge173\" class=\"edge\">\n",
       "<title>170&#45;&gt;173</title>\n",
       "<path fill=\"none\" stroke=\"black\" d=\"M1772.77,-251.26C1786.95,-243.58 1811.58,-230.22 1829.32,-220.61\"/>\n",
       "<polygon fill=\"black\" stroke=\"black\" points=\"1830.87,-223.75 1837.99,-215.91 1827.53,-217.6 1830.87,-223.75\"/>\n",
       "</g>\n",
       "<!-- 172 -->\n",
       "<g id=\"node173\" class=\"node\">\n",
       "<title>172</title>\n",
       "<text text-anchor=\"middle\" x=\"1746.5\" y=\"-151.7\" font-family=\"Times,serif\" font-size=\"14.00\">s (115)</text>\n",
       "</g>\n",
       "<!-- 171&#45;&gt;172 -->\n",
       "<g id=\"edge172\" class=\"edge\">\n",
       "<title>171&#45;&gt;172</title>\n",
       "<path fill=\"none\" stroke=\"black\" d=\"M1746.5,-201.21C1746.5,-194.99 1746.5,-184.9 1746.5,-176.14\"/>\n",
       "<polygon fill=\"black\" stroke=\"black\" points=\"1750,-176.35 1746.5,-166.35 1743,-176.35 1750,-176.35\"/>\n",
       "</g>\n",
       "<!-- 174 -->\n",
       "<g id=\"node175\" class=\"node\">\n",
       "<title>174</title>\n",
       "<text text-anchor=\"middle\" x=\"1836.5\" y=\"-151.7\" font-family=\"Times,serif\" font-size=\"14.00\">&lt;id_continue&gt;</text>\n",
       "</g>\n",
       "<!-- 173&#45;&gt;174 -->\n",
       "<g id=\"edge174\" class=\"edge\">\n",
       "<title>173&#45;&gt;174</title>\n",
       "<path fill=\"none\" stroke=\"black\" d=\"M1848.78,-201.21C1846.96,-194.91 1843.98,-184.67 1841.42,-175.83\"/>\n",
       "<polygon fill=\"black\" stroke=\"black\" points=\"1844.8,-174.92 1838.65,-166.29 1838.08,-176.87 1844.8,-174.92\"/>\n",
       "</g>\n",
       "<!-- 176 -->\n",
       "<g id=\"node177\" class=\"node\">\n",
       "<title>176</title>\n",
       "<text text-anchor=\"middle\" x=\"1940.5\" y=\"-151.7\" font-family=\"Times,serif\" font-size=\"14.00\">&lt;id_continue&#45;1&gt;</text>\n",
       "</g>\n",
       "<!-- 173&#45;&gt;176 -->\n",
       "<g id=\"edge176\" class=\"edge\">\n",
       "<title>173&#45;&gt;176</title>\n",
       "<path fill=\"none\" stroke=\"black\" d=\"M1861.9,-201.01C1876.23,-193.33 1901.14,-179.97 1919.08,-170.36\"/>\n",
       "<polygon fill=\"black\" stroke=\"black\" points=\"1920.7,-173.46 1927.86,-165.65 1917.39,-167.29 1920.7,-173.46\"/>\n",
       "</g>\n",
       "<!-- 175 -->\n",
       "<g id=\"node176\" class=\"node\">\n",
       "<title>175</title>\n",
       "<text text-anchor=\"middle\" x=\"1836.5\" y=\"-101.45\" font-family=\"Times,serif\" font-size=\"14.00\">u (117)</text>\n",
       "</g>\n",
       "<!-- 174&#45;&gt;175 -->\n",
       "<g id=\"edge175\" class=\"edge\">\n",
       "<title>174&#45;&gt;175</title>\n",
       "<path fill=\"none\" stroke=\"black\" d=\"M1836.5,-150.96C1836.5,-144.74 1836.5,-134.65 1836.5,-125.89\"/>\n",
       "<polygon fill=\"black\" stroke=\"black\" points=\"1840,-126.1 1836.5,-116.1 1833,-126.1 1840,-126.1\"/>\n",
       "</g>\n",
       "<!-- 177 -->\n",
       "<g id=\"node178\" class=\"node\">\n",
       "<title>177</title>\n",
       "<text text-anchor=\"middle\" x=\"1927.5\" y=\"-101.45\" font-family=\"Times,serif\" font-size=\"14.00\">&lt;id_continue&gt;</text>\n",
       "</g>\n",
       "<!-- 176&#45;&gt;177 -->\n",
       "<g id=\"edge177\" class=\"edge\">\n",
       "<title>176&#45;&gt;177</title>\n",
       "<path fill=\"none\" stroke=\"black\" d=\"M1938.91,-150.96C1937.21,-144.66 1934.45,-134.42 1932.07,-125.58\"/>\n",
       "<polygon fill=\"black\" stroke=\"black\" points=\"1935.48,-124.8 1929.5,-116.05 1928.72,-126.62 1935.48,-124.8\"/>\n",
       "</g>\n",
       "<!-- 179 -->\n",
       "<g id=\"node180\" class=\"node\">\n",
       "<title>179</title>\n",
       "<text text-anchor=\"middle\" x=\"2031.5\" y=\"-101.45\" font-family=\"Times,serif\" font-size=\"14.00\">&lt;id_continue&#45;1&gt;</text>\n",
       "</g>\n",
       "<!-- 176&#45;&gt;179 -->\n",
       "<g id=\"edge179\" class=\"edge\">\n",
       "<title>176&#45;&gt;179</title>\n",
       "<path fill=\"none\" stroke=\"black\" d=\"M1952.03,-150.76C1966.59,-143.04 1991.94,-129.6 2010.1,-119.97\"/>\n",
       "<polygon fill=\"black\" stroke=\"black\" points=\"2011.54,-123.17 2018.73,-115.4 2008.26,-116.99 2011.54,-123.17\"/>\n",
       "</g>\n",
       "<!-- 178 -->\n",
       "<g id=\"node179\" class=\"node\">\n",
       "<title>178</title>\n",
       "<text text-anchor=\"middle\" x=\"1927.5\" y=\"-51.2\" font-family=\"Times,serif\" font-size=\"14.00\">m (109)</text>\n",
       "</g>\n",
       "<!-- 177&#45;&gt;178 -->\n",
       "<g id=\"edge178\" class=\"edge\">\n",
       "<title>177&#45;&gt;178</title>\n",
       "<path fill=\"none\" stroke=\"black\" d=\"M1927.5,-100.71C1927.5,-94.49 1927.5,-84.4 1927.5,-75.64\"/>\n",
       "<polygon fill=\"black\" stroke=\"black\" points=\"1931,-75.85 1927.5,-65.85 1924,-75.85 1931,-75.85\"/>\n",
       "</g>\n",
       "<!-- 186 -->\n",
       "<g id=\"node187\" class=\"node\">\n",
       "<title>186</title>\n",
       "<text text-anchor=\"middle\" x=\"1451.5\" y=\"-804.95\" font-family=\"Times,serif\" font-size=\"14.00\">[ (91)</text>\n",
       "</g>\n",
       "<!-- 185&#45;&gt;186 -->\n",
       "<g id=\"edge186\" class=\"edge\">\n",
       "<title>185&#45;&gt;186</title>\n",
       "<path fill=\"none\" stroke=\"black\" d=\"M1477.82,-854.46C1473.68,-847.8 1466.8,-836.73 1461.1,-827.57\"/>\n",
       "<polygon fill=\"black\" stroke=\"black\" points=\"1464.26,-826.02 1456.01,-819.38 1458.32,-829.72 1464.26,-826.02\"/>\n",
       "</g>\n",
       "<!-- 187 -->\n",
       "<g id=\"node188\" class=\"node\">\n",
       "<title>187</title>\n",
       "<text text-anchor=\"middle\" x=\"1513.5\" y=\"-804.95\" font-family=\"Times,serif\" font-size=\"14.00\">&lt;exprs&#45;1&gt;</text>\n",
       "</g>\n",
       "<!-- 185&#45;&gt;187 -->\n",
       "<g id=\"edge187\" class=\"edge\">\n",
       "<title>185&#45;&gt;187</title>\n",
       "<path fill=\"none\" stroke=\"black\" d=\"M1485.42,-854.46C1489.84,-847.8 1497.18,-836.73 1503.26,-827.57\"/>\n",
       "<polygon fill=\"black\" stroke=\"black\" points=\"1506.1,-829.62 1508.71,-819.35 1500.26,-825.75 1506.1,-829.62\"/>\n",
       "</g>\n",
       "<!-- 188 -->\n",
       "<g id=\"node189\" class=\"node\">\n",
       "<title>188</title>\n",
       "<text text-anchor=\"middle\" x=\"1575.5\" y=\"-804.95\" font-family=\"Times,serif\" font-size=\"14.00\">] (93)</text>\n",
       "</g>\n",
       "<!-- 185&#45;&gt;188 -->\n",
       "<g id=\"edge188\" class=\"edge\">\n",
       "<title>185&#45;&gt;188</title>\n",
       "<path fill=\"none\" stroke=\"black\" d=\"M1493.41,-854.26C1508.52,-846.51 1534.89,-832.97 1553.66,-823.34\"/>\n",
       "<polygon fill=\"black\" stroke=\"black\" points=\"1555.05,-826.56 1562.34,-818.88 1551.85,-820.33 1555.05,-826.56\"/>\n",
       "</g>\n",
       "<!-- 195 -->\n",
       "<g id=\"node196\" class=\"node\">\n",
       "<title>195</title>\n",
       "<text text-anchor=\"middle\" x=\"1414.5\" y=\"-1005.95\" font-family=\"Times,serif\" font-size=\"14.00\">[ (91)</text>\n",
       "</g>\n",
       "<!-- 194&#45;&gt;195 -->\n",
       "<g id=\"edge195\" class=\"edge\">\n",
       "<title>194&#45;&gt;195</title>\n",
       "<path fill=\"none\" stroke=\"black\" d=\"M1486.11,-1055.26C1473.18,-1047.65 1450.79,-1034.48 1434.48,-1024.88\"/>\n",
       "<polygon fill=\"black\" stroke=\"black\" points=\"1436.5,-1022.01 1426.11,-1019.95 1432.95,-1028.04 1436.5,-1022.01\"/>\n",
       "</g>\n",
       "<!-- 196 -->\n",
       "<g id=\"node197\" class=\"node\">\n",
       "<title>196</title>\n",
       "<text text-anchor=\"middle\" x=\"1496.5\" y=\"-1005.95\" font-family=\"Times,serif\" font-size=\"14.00\">&lt;type_ignores&#45;1&gt;</text>\n",
       "</g>\n",
       "<!-- 194&#45;&gt;196 -->\n",
       "<g id=\"edge196\" class=\"edge\">\n",
       "<title>194&#45;&gt;196</title>\n",
       "<path fill=\"none\" stroke=\"black\" d=\"M1496.5,-1055.46C1496.5,-1049.24 1496.5,-1039.15 1496.5,-1030.39\"/>\n",
       "<polygon fill=\"black\" stroke=\"black\" points=\"1500,-1030.6 1496.5,-1020.6 1493,-1030.6 1500,-1030.6\"/>\n",
       "</g>\n",
       "<!-- 197 -->\n",
       "<g id=\"node198\" class=\"node\">\n",
       "<title>197</title>\n",
       "<text text-anchor=\"middle\" x=\"1578.5\" y=\"-1005.95\" font-family=\"Times,serif\" font-size=\"14.00\">] (93)</text>\n",
       "</g>\n",
       "<!-- 194&#45;&gt;197 -->\n",
       "<g id=\"edge197\" class=\"edge\">\n",
       "<title>194&#45;&gt;197</title>\n",
       "<path fill=\"none\" stroke=\"black\" d=\"M1506.89,-1055.26C1519.82,-1047.65 1542.21,-1034.48 1558.52,-1024.88\"/>\n",
       "<polygon fill=\"black\" stroke=\"black\" points=\"1560.05,-1028.04 1566.89,-1019.95 1556.5,-1022.01 1560.05,-1028.04\"/>\n",
       "</g>\n",
       "</g>\n",
       "</svg>\n"
      ],
      "text/plain": [
       "<graphviz.graphs.Digraph at 0x1495746d0>"
      ]
     },
     "execution_count": 120,
     "metadata": {},
     "output_type": "execute_result"
    }
   ],
   "source": [
    "display_tree(sum_tree)"
   ]
  },
  {
   "cell_type": "markdown",
   "id": "4795e15c",
   "metadata": {
    "slideshow": {
     "slide_type": "subslide"
    }
   },
   "source": [
    "We see that a derivation tree consists of _nonterminal_ nodes whose children make up an _expansion_ from the grammar.\n",
    "For instance, at the very top, we see that a `<start>` nonterminal expands into a `<mod>` nonterminal, which again expands into a `<Module>` nonterminal.\n",
    "This comes right from the grammar rules"
   ]
  },
  {
   "cell_type": "code",
   "execution_count": 121,
   "id": "1b72d38a",
   "metadata": {
    "execution": {
     "iopub.execute_input": "2024-06-30T16:52:26.457278Z",
     "iopub.status.busy": "2024-06-30T16:52:26.457167Z",
     "iopub.status.idle": "2024-06-30T16:52:26.459974Z",
     "shell.execute_reply": "2024-06-30T16:52:26.459646Z"
    },
    "slideshow": {
     "slide_type": "fragment"
    }
   },
   "outputs": [
    {
     "data": {
      "text/plain": [
       "['<mod>']"
      ]
     },
     "execution_count": 121,
     "metadata": {},
     "output_type": "execute_result"
    }
   ],
   "source": [
    "python_ast_grammar['<start>']"
   ]
  },
  {
   "cell_type": "markdown",
   "id": "9385e88f",
   "metadata": {
    "slideshow": {
     "slide_type": "fragment"
    }
   },
   "source": [
    "and"
   ]
  },
  {
   "cell_type": "code",
   "execution_count": 122,
   "id": "05a3e82a",
   "metadata": {
    "execution": {
     "iopub.execute_input": "2024-06-30T16:52:26.461515Z",
     "iopub.status.busy": "2024-06-30T16:52:26.461402Z",
     "iopub.status.idle": "2024-06-30T16:52:26.463535Z",
     "shell.execute_reply": "2024-06-30T16:52:26.463255Z"
    },
    "slideshow": {
     "slide_type": "fragment"
    }
   },
   "outputs": [
    {
     "data": {
      "text/plain": [
       "['<Module>']"
      ]
     },
     "execution_count": 122,
     "metadata": {},
     "output_type": "execute_result"
    }
   ],
   "source": [
    "python_ast_grammar['<mod>']"
   ]
  },
  {
   "cell_type": "markdown",
   "id": "4e6bbb2a",
   "metadata": {
    "slideshow": {
     "slide_type": "subslide"
    }
   },
   "source": [
    "The child of `<mod>` is a `<Module>`, which expands into the nodes\n",
    "\n",
    "* `(body=`\n",
    "* `<nonempty_stmt_list>`\n",
    "* `, type_ignores=`\n",
    "* `<type_ignore_list>`\n",
    "* `)`\n",
    "\n",
    "Here, nodes like `(body=` or `, type_ignores=` are called _terminal_ nodes (because they have no more elements to expand).\n",
    "The nonterminals like `<nonempty_stmt_list>` get expanded further below – notably, `<nonempty_stmt_list>` expands into a `<FunctionDef>` node that represents the `sum()` definition."
   ]
  },
  {
   "cell_type": "markdown",
   "id": "82dcebd3",
   "metadata": {
    "slideshow": {
     "slide_type": "subslide"
    }
   },
   "source": [
    "Again, the structure exactly follows the `<Module>` definition in our grammar:"
   ]
  },
  {
   "cell_type": "code",
   "execution_count": 123,
   "id": "f8475ade",
   "metadata": {
    "execution": {
     "iopub.execute_input": "2024-06-30T16:52:26.465107Z",
     "iopub.status.busy": "2024-06-30T16:52:26.464985Z",
     "iopub.status.idle": "2024-06-30T16:52:26.467203Z",
     "shell.execute_reply": "2024-06-30T16:52:26.466922Z"
    },
    "slideshow": {
     "slide_type": "fragment"
    }
   },
   "outputs": [
    {
     "data": {
      "text/plain": [
       "['Module(body=<nonempty_stmt_list>, type_ignores=<type_ignore_list>)']"
      ]
     },
     "execution_count": 123,
     "metadata": {},
     "output_type": "execute_result"
    }
   ],
   "source": [
    "python_ast_grammar['<Module>']"
   ]
  },
  {
   "cell_type": "markdown",
   "id": "9da2eafb",
   "metadata": {
    "slideshow": {
     "slide_type": "fragment"
    }
   },
   "source": [
    "If we traverse the tree depth-first, left to right, and only collect the terminal symbols, we obtain the original string we parsed.\n",
    "Applying the `str()` function to the derivation tree gets us exactly that string:"
   ]
  },
  {
   "cell_type": "code",
   "execution_count": 124,
   "id": "05407123",
   "metadata": {
    "execution": {
     "iopub.execute_input": "2024-06-30T16:52:26.468695Z",
     "iopub.status.busy": "2024-06-30T16:52:26.468585Z",
     "iopub.status.idle": "2024-06-30T16:52:26.471271Z",
     "shell.execute_reply": "2024-06-30T16:52:26.471006Z"
    },
    "slideshow": {
     "slide_type": "fragment"
    }
   },
   "outputs": [
    {
     "data": {
      "text/plain": [
       "\"Module(body=[FunctionDef(name='sum', args=arguments(posonlyargs=[], args=[arg(arg='a'), arg(arg='b')], kwonlyargs=[], kw_defaults=[], defaults=[]), body=[Assign(targets=[Name(id='the_sum', ctx=Store())], value=BinOp(left=Name(id='a', ctx=Load()), op=Add(), right=Name(id='b', ctx=Load()))), Return(value=Name(id='the_sum', ctx=Load()))], decorator_list=[])], type_ignores=[])\""
      ]
     },
     "execution_count": 124,
     "metadata": {},
     "output_type": "execute_result"
    }
   ],
   "source": [
    "str(sum_tree)"
   ]
  },
  {
   "cell_type": "markdown",
   "id": "ceef32b9",
   "metadata": {
    "slideshow": {
     "slide_type": "fragment"
    }
   },
   "source": [
    "And again, we can convert this string into an AST and thus obtain our original function:"
   ]
  },
  {
   "cell_type": "code",
   "execution_count": 125,
   "id": "32811a22",
   "metadata": {
    "execution": {
     "iopub.execute_input": "2024-06-30T16:52:26.472761Z",
     "iopub.status.busy": "2024-06-30T16:52:26.472644Z",
     "iopub.status.idle": "2024-06-30T16:52:26.475032Z",
     "shell.execute_reply": "2024-06-30T16:52:26.474700Z"
    },
    "slideshow": {
     "slide_type": "subslide"
    }
   },
   "outputs": [
    {
     "name": "stdout",
     "output_type": "stream",
     "text": [
      "def sum(a, b):\n",
      "    the_sum = a + b\n",
      "    return the_sum\n"
     ]
    }
   ],
   "source": [
    "sum_ast = ast.fix_missing_locations(eval(str(sum_tree)))\n",
    "print(ast.unparse(sum_ast))"
   ]
  },
  {
   "cell_type": "markdown",
   "id": "0e6e6132",
   "metadata": {
    "slideshow": {
     "slide_type": "subslide"
    }
   },
   "source": [
    "### Mutating Inputs"
   ]
  },
  {
   "cell_type": "markdown",
   "id": "c52f80f8",
   "metadata": {
    "slideshow": {
     "slide_type": "fragment"
    }
   },
   "source": [
    "With derivation trees, we can have a _structured_ representation of our input. In our case, we already have that with ASTs, so why bother introducing a new one? The answer is simple: Derivation trees also allow us to _synthesize_ new inputs, because we have a _grammar_ that describes their structure."
   ]
  },
  {
   "cell_type": "markdown",
   "id": "a7d96d78",
   "metadata": {
    "slideshow": {
     "slide_type": "subslide"
    }
   },
   "source": [
    "Most notably, we can mutate inputs as follows:\n",
    "\n",
    "1. Parse the input into a derivation tree, as shown above.\n",
    "2. Randomly choose some node `<symbol>` in the derivation tree to be mutated.\n",
    "3. Use the grammar to produce a new expansion for `<symbol>`.\n",
    "4. Replace the children of `<symbol>` by the expansion just generated.\n",
    "5. Repeat the process as often as needed.\n",
    "\n",
    "This is a decent programming task, and if you'd like a blueprint, have a look at the `FragmentMutator` in this tutorial on [greybox fuzzing with grammars](https://www.fuzzingbook.org/html/GreyboxGrammarFuzzer.html)."
   ]
  },
  {
   "cell_type": "markdown",
   "id": "31fb2eef",
   "metadata": {
    "slideshow": {
     "slide_type": "subslide"
    }
   },
   "source": [
    "Fortunately, ISLa already provides us with functionality that does exactly this.\n",
    "The `ISLaSolver.mutate()` method takes an input and mutates it according to the rules in the grammar.\n",
    "The input to mutate can be given as a derivation tree, or as a string; its output is a derivation tree (which can again be converted into a string)."
   ]
  },
  {
   "cell_type": "markdown",
   "id": "5012e547",
   "metadata": {
    "slideshow": {
     "slide_type": "fragment"
    }
   },
   "source": [
    "Let us apply `mutate()` on our `sum()` function. The `min_mutations` and `max_mutations` parameters define how many mutation steps should be performed; we set both to 1 in order to have exactly one mutation."
   ]
  },
  {
   "cell_type": "code",
   "execution_count": 126,
   "id": "b46431f7",
   "metadata": {
    "execution": {
     "iopub.execute_input": "2024-06-30T16:52:26.476664Z",
     "iopub.status.busy": "2024-06-30T16:52:26.476555Z",
     "iopub.status.idle": "2024-06-30T16:52:26.496377Z",
     "shell.execute_reply": "2024-06-30T16:52:26.496082Z"
    },
    "slideshow": {
     "slide_type": "fragment"
    }
   },
   "outputs": [],
   "source": [
    "sum_mutated_tree = solver.mutate(sum_str, min_mutations=1, max_mutations=1)"
   ]
  },
  {
   "cell_type": "code",
   "execution_count": 127,
   "id": "d17d206c",
   "metadata": {
    "execution": {
     "iopub.execute_input": "2024-06-30T16:52:26.498017Z",
     "iopub.status.busy": "2024-06-30T16:52:26.497920Z",
     "iopub.status.idle": "2024-06-30T16:52:26.500290Z",
     "shell.execute_reply": "2024-06-30T16:52:26.500007Z"
    },
    "slideshow": {
     "slide_type": "subslide"
    }
   },
   "outputs": [
    {
     "name": "stdout",
     "output_type": "stream",
     "text": [
      "def sum(a, b):\n",
      "    the_sum = a + b\n",
      "    return iX\n"
     ]
    }
   ],
   "source": [
    "sum_mutated_ast = ast.fix_missing_locations(eval(str(sum_mutated_tree)))\n",
    "print(ast.unparse(sum_mutated_ast))"
   ]
  },
  {
   "cell_type": "markdown",
   "id": "d79f9239",
   "metadata": {
    "slideshow": {
     "slide_type": "fragment"
    }
   },
   "source": [
    "Toy with the above to see the effect of a mutation.\n",
    "Note if one of the top-level nodes (like `<FunctionDef>` or `<Module>`) is selected for mutation, then `sum()` will be replaced by something entirely different. Otherwise, though, the code will still be pretty similar to the original `sum()` code."
   ]
  },
  {
   "cell_type": "markdown",
   "id": "e1b6c4b3",
   "metadata": {
    "slideshow": {
     "slide_type": "fragment"
    }
   },
   "source": [
    "Of course, the more we increase the number of mutations, the more different the code will look like:"
   ]
  },
  {
   "cell_type": "code",
   "execution_count": 128,
   "id": "607504b1",
   "metadata": {
    "execution": {
     "iopub.execute_input": "2024-06-30T16:52:26.501853Z",
     "iopub.status.busy": "2024-06-30T16:52:26.501766Z",
     "iopub.status.idle": "2024-06-30T16:52:29.773620Z",
     "shell.execute_reply": "2024-06-30T16:52:29.773210Z"
    },
    "slideshow": {
     "slide_type": "fragment"
    }
   },
   "outputs": [],
   "source": [
    "sum_mutated_tree = solver.mutate(sum_str, min_mutations=10, max_mutations=20)"
   ]
  },
  {
   "cell_type": "code",
   "execution_count": 129,
   "id": "0ce09320",
   "metadata": {
    "execution": {
     "iopub.execute_input": "2024-06-30T16:52:29.775981Z",
     "iopub.status.busy": "2024-06-30T16:52:29.775805Z",
     "iopub.status.idle": "2024-06-30T16:52:29.779074Z",
     "shell.execute_reply": "2024-06-30T16:52:29.778699Z"
    },
    "slideshow": {
     "slide_type": "subslide"
    }
   },
   "outputs": [
    {
     "name": "stdout",
     "output_type": "stream",
     "text": [
      "def suaGysF9c4Uww(b, b):\n",
      "    ([p[:]].ESL, *a[:][{set(): ()}.L_([set()], set()[:] + (not set()), ''):][:]) = h = aheuj_suGm + nHiZXdkWQJw7AjoUBmIb_qxCOfVmRz2pYrK6n9gDMh0cE43PTNve15tl\n",
      "    return t\n"
     ]
    }
   ],
   "source": [
    "sum_mutated_ast = ast.fix_missing_locations(eval(str(sum_mutated_tree)))\n",
    "print(ast.unparse(sum_mutated_ast))"
   ]
  },
  {
   "cell_type": "markdown",
   "id": "dd27a468",
   "metadata": {
    "slideshow": {
     "slide_type": "fragment"
    }
   },
   "source": [
    "By toying with the `mutate()` parameters, we can control how _common_ and how _uncommon_ our input should be."
   ]
  },
  {
   "cell_type": "markdown",
   "id": "d07ce5c8",
   "metadata": {
    "slideshow": {
     "slide_type": "subslide"
    }
   },
   "source": [
    "### How Effective is Mutation?"
   ]
  },
  {
   "cell_type": "markdown",
   "id": "8f4b35ef",
   "metadata": {
    "slideshow": {
     "slide_type": "fragment"
    }
   },
   "source": [
    "Does mutating existing code help us in finding bugs?\n",
    "Let us assume we have a buggy compiler that generates bad code for an expression of the form `<elem> * (<elem> + <elem>)`.\n",
    "The code in `has_distributive_law()` checks an AST for the presence of this bug:"
   ]
  },
  {
   "cell_type": "code",
   "execution_count": 130,
   "id": "1fffd79e",
   "metadata": {
    "execution": {
     "iopub.execute_input": "2024-06-30T16:52:29.780826Z",
     "iopub.status.busy": "2024-06-30T16:52:29.780724Z",
     "iopub.status.idle": "2024-06-30T16:52:29.783330Z",
     "shell.execute_reply": "2024-06-30T16:52:29.783044Z"
    },
    "slideshow": {
     "slide_type": "subslide"
    }
   },
   "outputs": [],
   "source": [
    "def has_distributive_law(tree) -> bool:\n",
    "    for node in walk(tree):  # iterate over all nodes in `tree`\n",
    "        # print(node)\n",
    "        if isinstance(node, ast.BinOp):\n",
    "            if isinstance(node.op, ast.Mult):\n",
    "                if isinstance(node.right, ast.BinOp):\n",
    "                    if isinstance(node.right.op, ast.Add):\n",
    "                        return True\n",
    "\n",
    "                if isinstance(node.left, ast.BinOp):\n",
    "                    if isinstance(node.left.op, ast.Add):\n",
    "                        return True\n",
    "\n",
    "    return False"
   ]
  },
  {
   "cell_type": "markdown",
   "id": "55794bc5",
   "metadata": {
    "slideshow": {
     "slide_type": "subslide"
    }
   },
   "source": [
    "To understand how this works, a visualization of the AST comes in handy:"
   ]
  },
  {
   "cell_type": "code",
   "execution_count": 131,
   "id": "065e7749",
   "metadata": {
    "execution": {
     "iopub.execute_input": "2024-06-30T16:52:29.784846Z",
     "iopub.status.busy": "2024-06-30T16:52:29.784730Z",
     "iopub.status.idle": "2024-06-30T16:52:30.205927Z",
     "shell.execute_reply": "2024-06-30T16:52:30.205502Z"
    },
    "slideshow": {
     "slide_type": "fragment"
    }
   },
   "outputs": [
    {
     "data": {
      "image/svg+xml": [
       "<svg xmlns=\"http://www.w3.org/2000/svg\" xmlns:xlink=\"http://www.w3.org/1999/xlink\" width=\"342pt\" height=\"332pt\" viewBox=\"0.00 0.00 342.00 332.00\">\n",
       "<g id=\"graph0\" class=\"graph\" transform=\"scale(1 1) rotate(0) translate(4 328)\">\n",
       "<polygon fill=\"white\" stroke=\"none\" points=\"-4,4 -4,-328 338,-328 338,4 -4,4\"/>\n",
       "<!-- 0 -->\n",
       "<g id=\"node1\" class=\"node\">\n",
       "<title>0</title>\n",
       "<text text-anchor=\"start\" x=\"113.5\" y=\"-301.95\" font-family=\"Courier,monospace\" font-weight=\"bold\" font-size=\"14.00\" fill=\"#004080\">Expr</text>\n",
       "</g>\n",
       "<!-- 1 -->\n",
       "<g id=\"node2\" class=\"node\">\n",
       "<title>1</title>\n",
       "<text text-anchor=\"start\" x=\"109.38\" y=\"-229.95\" font-family=\"Courier,monospace\" font-weight=\"bold\" font-size=\"14.00\" fill=\"#004080\">BinOp</text>\n",
       "</g>\n",
       "<!-- 0&#45;&#45;1 -->\n",
       "<g id=\"edge1\" class=\"edge\">\n",
       "<title>0--1</title>\n",
       "<path fill=\"none\" stroke=\"black\" d=\"M130,-288.05C130,-277.05 130,-262.76 130,-251.79\"/>\n",
       "</g>\n",
       "<!-- 2 -->\n",
       "<g id=\"node3\" class=\"node\">\n",
       "<title>2</title>\n",
       "<text text-anchor=\"start\" x=\"8\" y=\"-157.95\" font-family=\"Courier,monospace\" font-weight=\"bold\" font-size=\"14.00\" fill=\"#004080\">Constant</text>\n",
       "</g>\n",
       "<!-- 1&#45;&#45;2 -->\n",
       "<g id=\"edge2\" class=\"edge\">\n",
       "<title>1--2</title>\n",
       "<path fill=\"none\" stroke=\"black\" d=\"M130,-215C130,-215 95.67,-194.94 69.65,-179.74\"/>\n",
       "</g>\n",
       "<!-- 4 -->\n",
       "<g id=\"node5\" class=\"node\">\n",
       "<title>4</title>\n",
       "<text text-anchor=\"middle\" x=\"130\" y=\"-156.95\" font-family=\"Courier,monospace\" font-size=\"14.00\" fill=\"#008040\">Add</text>\n",
       "</g>\n",
       "<!-- 1&#45;&#45;4 -->\n",
       "<g id=\"edge4\" class=\"edge\">\n",
       "<title>1--4</title>\n",
       "<path fill=\"none\" stroke=\"black\" d=\"M130,-215C130,-215 130,-194.94 130,-179.74\"/>\n",
       "</g>\n",
       "<!-- 5 -->\n",
       "<g id=\"node6\" class=\"node\">\n",
       "<title>5</title>\n",
       "<text text-anchor=\"start\" x=\"184.38\" y=\"-157.95\" font-family=\"Courier,monospace\" font-weight=\"bold\" font-size=\"14.00\" fill=\"#004080\">BinOp</text>\n",
       "</g>\n",
       "<!-- 1&#45;&#45;5 -->\n",
       "<g id=\"edge5\" class=\"edge\">\n",
       "<title>1--5</title>\n",
       "<path fill=\"none\" stroke=\"black\" d=\"M130,-215C130,-215 158.93,-194.94 180.86,-179.74\"/>\n",
       "</g>\n",
       "<!-- 3 -->\n",
       "<g id=\"node4\" class=\"node\">\n",
       "<title>3</title>\n",
       "<text text-anchor=\"middle\" x=\"35\" y=\"-84.95\" font-family=\"Courier,monospace\" font-size=\"14.00\" fill=\"#008040\">1</text>\n",
       "</g>\n",
       "<!-- 2&#45;&#45;3 -->\n",
       "<g id=\"edge3\" class=\"edge\">\n",
       "<title>2--3</title>\n",
       "<path fill=\"none\" stroke=\"black\" d=\"M39.55,-144.05C38.6,-133.05 37.38,-118.76 36.44,-107.79\"/>\n",
       "</g>\n",
       "<!-- 6 -->\n",
       "<g id=\"node7\" class=\"node\">\n",
       "<title>6</title>\n",
       "<text text-anchor=\"start\" x=\"88\" y=\"-85.95\" font-family=\"Courier,monospace\" font-weight=\"bold\" font-size=\"14.00\" fill=\"#004080\">Constant</text>\n",
       "</g>\n",
       "<!-- 5&#45;&#45;6 -->\n",
       "<g id=\"edge6\" class=\"edge\">\n",
       "<title>5--6</title>\n",
       "<path fill=\"none\" stroke=\"black\" d=\"M205,-143C205,-143 172.6,-122.94 148.04,-107.74\"/>\n",
       "</g>\n",
       "<!-- 8 -->\n",
       "<g id=\"node9\" class=\"node\">\n",
       "<title>8</title>\n",
       "<text text-anchor=\"middle\" x=\"207\" y=\"-84.95\" font-family=\"Courier,monospace\" font-size=\"14.00\" fill=\"#008040\">Mult</text>\n",
       "</g>\n",
       "<!-- 5&#45;&#45;8 -->\n",
       "<g id=\"edge8\" class=\"edge\">\n",
       "<title>5--8</title>\n",
       "<path fill=\"none\" stroke=\"black\" d=\"M205,-143C205,-143 205.77,-122.94 206.36,-107.74\"/>\n",
       "</g>\n",
       "<!-- 9 -->\n",
       "<g id=\"node10\" class=\"node\">\n",
       "<title>9</title>\n",
       "<text text-anchor=\"start\" x=\"260\" y=\"-85.95\" font-family=\"Courier,monospace\" font-weight=\"bold\" font-size=\"14.00\" fill=\"#004080\">Constant</text>\n",
       "</g>\n",
       "<!-- 5&#45;&#45;9 -->\n",
       "<g id=\"edge9\" class=\"edge\">\n",
       "<title>5--9</title>\n",
       "<path fill=\"none\" stroke=\"black\" d=\"M205,-143C205,-143 238.95,-122.94 264.67,-107.74\"/>\n",
       "</g>\n",
       "<!-- 7 -->\n",
       "<g id=\"node8\" class=\"node\">\n",
       "<title>7</title>\n",
       "<text text-anchor=\"middle\" x=\"121\" y=\"-12.95\" font-family=\"Courier,monospace\" font-size=\"14.00\" fill=\"#008040\">2</text>\n",
       "</g>\n",
       "<!-- 6&#45;&#45;7 -->\n",
       "<g id=\"edge7\" class=\"edge\">\n",
       "<title>6--7</title>\n",
       "<path fill=\"none\" stroke=\"black\" d=\"M121,-72.05C121,-61.05 121,-46.76 121,-35.79\"/>\n",
       "</g>\n",
       "<!-- 10 -->\n",
       "<g id=\"node11\" class=\"node\">\n",
       "<title>10</title>\n",
       "<text text-anchor=\"middle\" x=\"293\" y=\"-12.95\" font-family=\"Courier,monospace\" font-size=\"14.00\" fill=\"#008040\">3</text>\n",
       "</g>\n",
       "<!-- 9&#45;&#45;10 -->\n",
       "<g id=\"edge10\" class=\"edge\">\n",
       "<title>9--10</title>\n",
       "<path fill=\"none\" stroke=\"black\" d=\"M293,-72.05C293,-61.05 293,-46.76 293,-35.79\"/>\n",
       "</g>\n",
       "</g>\n",
       "</svg>"
      ],
      "text/plain": [
       "<IPython.core.display.SVG object>"
      ]
     },
     "metadata": {},
     "output_type": "display_data"
    }
   ],
   "source": [
    "show_ast(ast.parse(\"1 + (2 * 3)\"))"
   ]
  },
  {
   "cell_type": "code",
   "execution_count": 132,
   "id": "a3e873f3",
   "metadata": {
    "execution": {
     "iopub.execute_input": "2024-06-30T16:52:30.207916Z",
     "iopub.status.busy": "2024-06-30T16:52:30.207762Z",
     "iopub.status.idle": "2024-06-30T16:52:30.210524Z",
     "shell.execute_reply": "2024-06-30T16:52:30.210173Z"
    },
    "slideshow": {
     "slide_type": "fragment"
    }
   },
   "outputs": [
    {
     "data": {
      "text/plain": [
       "True"
      ]
     },
     "execution_count": 132,
     "metadata": {},
     "output_type": "execute_result"
    }
   ],
   "source": [
    "has_distributive_law(ast.parse(\"1 * (2 + 3)\"))"
   ]
  },
  {
   "cell_type": "code",
   "execution_count": 133,
   "id": "8a6ae925",
   "metadata": {
    "execution": {
     "iopub.execute_input": "2024-06-30T16:52:30.212257Z",
     "iopub.status.busy": "2024-06-30T16:52:30.212119Z",
     "iopub.status.idle": "2024-06-30T16:52:30.214471Z",
     "shell.execute_reply": "2024-06-30T16:52:30.214174Z"
    },
    "slideshow": {
     "slide_type": "fragment"
    }
   },
   "outputs": [
    {
     "data": {
      "text/plain": [
       "True"
      ]
     },
     "execution_count": 133,
     "metadata": {},
     "output_type": "execute_result"
    }
   ],
   "source": [
    "has_distributive_law(ast.parse(\"(1 + 2) * 3\"))"
   ]
  },
  {
   "cell_type": "code",
   "execution_count": 134,
   "id": "fa79c8ac",
   "metadata": {
    "execution": {
     "iopub.execute_input": "2024-06-30T16:52:30.215983Z",
     "iopub.status.busy": "2024-06-30T16:52:30.215875Z",
     "iopub.status.idle": "2024-06-30T16:52:30.217994Z",
     "shell.execute_reply": "2024-06-30T16:52:30.217729Z"
    },
    "slideshow": {
     "slide_type": "fragment"
    }
   },
   "outputs": [
    {
     "data": {
      "text/plain": [
       "False"
      ]
     },
     "execution_count": 134,
     "metadata": {},
     "output_type": "execute_result"
    }
   ],
   "source": [
    "has_distributive_law(ast.parse(\"1 + (2 * 3)\"))"
   ]
  },
  {
   "cell_type": "code",
   "execution_count": 135,
   "id": "33ae3ce6",
   "metadata": {
    "execution": {
     "iopub.execute_input": "2024-06-30T16:52:30.219510Z",
     "iopub.status.busy": "2024-06-30T16:52:30.219394Z",
     "iopub.status.idle": "2024-06-30T16:52:30.221569Z",
     "shell.execute_reply": "2024-06-30T16:52:30.221286Z"
    },
    "slideshow": {
     "slide_type": "fragment"
    }
   },
   "outputs": [
    {
     "data": {
      "text/plain": [
       "True"
      ]
     },
     "execution_count": 135,
     "metadata": {},
     "output_type": "execute_result"
    }
   ],
   "source": [
    "has_distributive_law(ast.parse(\"def f(a, b):\\n    return a * (b + 10)\"))"
   ]
  },
  {
   "cell_type": "markdown",
   "id": "7c544188",
   "metadata": {
    "slideshow": {
     "slide_type": "subslide"
    }
   },
   "source": [
    "How many attempts does it take for each until we find a mutation that triggers the bug in `has_distributive_law()`? \n",
    "Let us write a function that computes this number."
   ]
  },
  {
   "cell_type": "code",
   "execution_count": 136,
   "id": "72fe07e0",
   "metadata": {
    "execution": {
     "iopub.execute_input": "2024-06-30T16:52:30.223176Z",
     "iopub.status.busy": "2024-06-30T16:52:30.223051Z",
     "iopub.status.idle": "2024-06-30T16:52:30.225823Z",
     "shell.execute_reply": "2024-06-30T16:52:30.225523Z"
    },
    "slideshow": {
     "slide_type": "subslide"
    }
   },
   "outputs": [],
   "source": [
    "def how_many_mutations(code: str) -> int:\n",
    "    solver = ISLaSolver(python_ast_grammar)\n",
    "\n",
    "    code_ast = ast.parse(code)\n",
    "    code_ast = ast.fix_missing_locations(code_ast)\n",
    "    code_ast_str = ast.dump(code_ast)\n",
    "    code_derivation_tree = solver.parse(code_ast_str)\n",
    "    mutations = 0\n",
    "    mutated_code_ast = code_ast\n",
    "\n",
    "    while not has_distributive_law(mutated_code_ast):\n",
    "        mutations += 1\n",
    "        if mutations % 100 == 0:\n",
    "            print(f'{mutations}...', end='')\n",
    "\n",
    "        mutated_code_str = str(solver.mutate(code_derivation_tree))\n",
    "        mutated_code_ast = eval(mutated_code_str)\n",
    "        # mutated_code_ast = ast.fix_missing_locations(mutated_code_ast)\n",
    "        # print(ast.dump(mutated_code_ast))\n",
    "        # print(ast.unparse(mutated_code_ast))\n",
    "\n",
    "    return mutations"
   ]
  },
  {
   "cell_type": "markdown",
   "id": "4a0129ab",
   "metadata": {
    "slideshow": {
     "slide_type": "subslide"
    }
   },
   "source": [
    "If we pass an input that already exhibits the bug, we do not need any mutation:"
   ]
  },
  {
   "cell_type": "code",
   "execution_count": 137,
   "id": "c92092d7",
   "metadata": {
    "execution": {
     "iopub.execute_input": "2024-06-30T16:52:30.227528Z",
     "iopub.status.busy": "2024-06-30T16:52:30.227418Z",
     "iopub.status.idle": "2024-06-30T16:52:30.240373Z",
     "shell.execute_reply": "2024-06-30T16:52:30.240063Z"
    },
    "slideshow": {
     "slide_type": "fragment"
    }
   },
   "outputs": [],
   "source": [
    "assert how_many_mutations('1 * (2 + 3)') == 0"
   ]
  },
  {
   "cell_type": "markdown",
   "id": "24d10731",
   "metadata": {
    "slideshow": {
     "slide_type": "fragment"
    }
   },
   "source": [
    "However, the further we are away from the bug, the more mutations (and the more time) it takes to find it.\n",
    "Notably, mutating `2 + 2` until we have a distributive law still is much faster than mutating `2`."
   ]
  },
  {
   "cell_type": "code",
   "execution_count": 138,
   "id": "f5886be3",
   "metadata": {
    "execution": {
     "iopub.execute_input": "2024-06-30T16:52:30.242047Z",
     "iopub.status.busy": "2024-06-30T16:52:30.241950Z",
     "iopub.status.idle": "2024-06-30T16:52:35.505534Z",
     "shell.execute_reply": "2024-06-30T16:52:35.505151Z"
    },
    "slideshow": {
     "slide_type": "fragment"
    }
   },
   "outputs": [
    {
     "data": {
      "text/plain": [
       "65"
      ]
     },
     "execution_count": 138,
     "metadata": {},
     "output_type": "execute_result"
    }
   ],
   "source": [
    "how_many_mutations('2 + 2')    # <-- Note: this can take a minute"
   ]
  },
  {
   "cell_type": "code",
   "execution_count": 139,
   "id": "e0eab0fe",
   "metadata": {
    "execution": {
     "iopub.execute_input": "2024-06-30T16:52:35.507440Z",
     "iopub.status.busy": "2024-06-30T16:52:35.507294Z",
     "iopub.status.idle": "2024-06-30T16:52:39.754706Z",
     "shell.execute_reply": "2024-06-30T16:52:39.754409Z"
    },
    "slideshow": {
     "slide_type": "fragment"
    }
   },
   "outputs": [
    {
     "data": {
      "text/plain": [
       "91"
      ]
     },
     "execution_count": 139,
     "metadata": {},
     "output_type": "execute_result"
    }
   ],
   "source": [
    "how_many_mutations('2')  # <-- Note: this can take several minutes"
   ]
  },
  {
   "cell_type": "markdown",
   "id": "ad00cc83",
   "metadata": {
    "slideshow": {
     "slide_type": "subslide"
    }
   },
   "source": [
    "We conclude that mutating existing code can indeed be helpful, especially if it is syntactically _close to inputs that trigger bugs_.\n",
    "If you want to have a good chance in finding bugs, focus on _inputs that have triggered bugs before_ – sometimes a simple mutation of these already helps finding a new bug."
   ]
  },
  {
   "cell_type": "markdown",
   "id": "f93ec7f4",
   "metadata": {
    "slideshow": {
     "slide_type": "slide"
    }
   },
   "source": [
    "## Evolutionary Fuzzing\n",
    "\n",
    "One interesting application of mutating inputs is to use mutations for _evolutionary fuzzing_.\n",
    "The idea is to have a population of inputs, to apply _mutations_ on them, and to check whether they improve on a particular goal (mostly code coverage).\n",
    "Those inputs that _do_ improve are being retained (\"survival of the fittest\") as the next generation, and evolved further.\n",
    "By repeating this process often enough, we may obtain inputs that cover large parts of code and thus improve chances to uncover bugs."
   ]
  },
  {
   "cell_type": "markdown",
   "id": "3d57ac50",
   "metadata": {
    "slideshow": {
     "slide_type": "subslide"
    }
   },
   "source": [
    "Let us assume we have a buggy compiler that generates bad code for an expression of the form `<elem> * (<elem> + <elem>)`.\n",
    "The function `has_distributive_law()`, above, checks an AST for the presence of this bug."
   ]
  },
  {
   "cell_type": "markdown",
   "id": "ab737071",
   "metadata": {
    "slideshow": {
     "slide_type": "fragment"
    }
   },
   "source": [
    "Our aim is to detect this bug via fuzzing. But if we simply generate random inputs from scratch, it may take a long time until we generate the exact copmbination of operators that triggers the bug."
   ]
  },
  {
   "cell_type": "markdown",
   "id": "4e5a7b86",
   "metadata": {
    "slideshow": {
     "slide_type": "subslide"
    }
   },
   "source": [
    "### Getting Coverage\n",
    "\n",
    "To have our fuzzers guided by coverage, we first need to _measure_ code coverage.\n",
    "We make use of the [Coverage module from the Fuzzing Book](https://www.fuzzingbook.org/html/Coverage.html), which is particularly easy to use.\n",
    "It simply uses a `with` clause to obtain coverage from the code in the `with` body.\n",
    "Here is how to obtain coverage for our `has_distributive_law()` code, above:"
   ]
  },
  {
   "cell_type": "code",
   "execution_count": 140,
   "id": "abecba2b",
   "metadata": {
    "execution": {
     "iopub.execute_input": "2024-06-30T16:52:39.756671Z",
     "iopub.status.busy": "2024-06-30T16:52:39.756513Z",
     "iopub.status.idle": "2024-06-30T16:52:39.758582Z",
     "shell.execute_reply": "2024-06-30T16:52:39.758246Z"
    },
    "slideshow": {
     "slide_type": "skip"
    }
   },
   "outputs": [],
   "source": [
    "from Coverage import Coverage"
   ]
  },
  {
   "cell_type": "code",
   "execution_count": 141,
   "id": "a5b2b8d5",
   "metadata": {
    "execution": {
     "iopub.execute_input": "2024-06-30T16:52:39.760491Z",
     "iopub.status.busy": "2024-06-30T16:52:39.760245Z",
     "iopub.status.idle": "2024-06-30T16:52:39.762680Z",
     "shell.execute_reply": "2024-06-30T16:52:39.762304Z"
    },
    "slideshow": {
     "slide_type": "fragment"
    }
   },
   "outputs": [],
   "source": [
    "mult_ast = ast.parse(\"1 * 2\")\n",
    "with Coverage() as cov:\n",
    "    has_distributive_law(mult_ast)"
   ]
  },
  {
   "cell_type": "markdown",
   "id": "381a9f7f",
   "metadata": {
    "slideshow": {
     "slide_type": "subslide"
    }
   },
   "source": [
    "The `coverage()` method tells us which lines in the code actually have been reached.\n",
    "This includes lines from `has_distributive_law()`, but also lines from other functions called."
   ]
  },
  {
   "cell_type": "code",
   "execution_count": 142,
   "id": "6c41b03f",
   "metadata": {
    "execution": {
     "iopub.execute_input": "2024-06-30T16:52:39.764551Z",
     "iopub.status.busy": "2024-06-30T16:52:39.764402Z",
     "iopub.status.idle": "2024-06-30T16:52:39.767699Z",
     "shell.execute_reply": "2024-06-30T16:52:39.767328Z"
    },
    "slideshow": {
     "slide_type": "subslide"
    }
   },
   "outputs": [
    {
     "data": {
      "text/plain": [
       "{('_handle_fromlist', 1063),\n",
       " ('_handle_fromlist', 1064),\n",
       " ('_handle_fromlist', 1071),\n",
       " ('_handle_fromlist', 1075),\n",
       " ('_handle_fromlist', 1087),\n",
       " ('has_distributive_law', 2),\n",
       " ('has_distributive_law', 4),\n",
       " ('has_distributive_law', 5),\n",
       " ('has_distributive_law', 6),\n",
       " ('has_distributive_law', 10),\n",
       " ('has_distributive_law', 14),\n",
       " ('iter_child_nodes', 264),\n",
       " ('iter_child_nodes', 265),\n",
       " ('iter_child_nodes', 266),\n",
       " ('iter_child_nodes', 267),\n",
       " ('iter_child_nodes', 268),\n",
       " ('iter_child_nodes', 269),\n",
       " ('iter_child_nodes', 270),\n",
       " ('iter_fields', 252),\n",
       " ('iter_fields', 253),\n",
       " ('iter_fields', 254),\n",
       " ('walk', 378),\n",
       " ('walk', 379),\n",
       " ('walk', 380),\n",
       " ('walk', 381),\n",
       " ('walk', 382),\n",
       " ('walk', 383)}"
      ]
     },
     "execution_count": 142,
     "metadata": {},
     "output_type": "execute_result"
    }
   ],
   "source": [
    "cov.coverage()"
   ]
  },
  {
   "cell_type": "markdown",
   "id": "6bd26a9c",
   "metadata": {
    "slideshow": {
     "slide_type": "subslide"
    }
   },
   "source": [
    "Which are the lines executed? \n",
    "With a bit of code inspection, we can easily visualize the covered lines:"
   ]
  },
  {
   "cell_type": "code",
   "execution_count": 143,
   "id": "c1fdce14",
   "metadata": {
    "execution": {
     "iopub.execute_input": "2024-06-30T16:52:39.769427Z",
     "iopub.status.busy": "2024-06-30T16:52:39.769314Z",
     "iopub.status.idle": "2024-06-30T16:52:39.772186Z",
     "shell.execute_reply": "2024-06-30T16:52:39.771774Z"
    },
    "slideshow": {
     "slide_type": "fragment"
    }
   },
   "outputs": [],
   "source": [
    "def show_coverage(cov, fun):\n",
    "    fun_lines, fun_start = inspect.getsourcelines(fun)\n",
    "    fun_name = fun.__name__\n",
    "    coverage = cov.coverage()\n",
    "    for line in range(len(fun_lines)):\n",
    "        if (fun_name, line + fun_start) in coverage:\n",
    "            print('# ', end='')  # covered lines\n",
    "        else:\n",
    "            print('  ', end='')  # uncovered lines\n",
    "        print(line + fun_start, fun_lines[line], end='')"
   ]
  },
  {
   "cell_type": "code",
   "execution_count": 144,
   "id": "2320d67d",
   "metadata": {
    "execution": {
     "iopub.execute_input": "2024-06-30T16:52:39.773904Z",
     "iopub.status.busy": "2024-06-30T16:52:39.773757Z",
     "iopub.status.idle": "2024-06-30T16:52:39.776193Z",
     "shell.execute_reply": "2024-06-30T16:52:39.775919Z"
    },
    "slideshow": {
     "slide_type": "subslide"
    }
   },
   "outputs": [
    {
     "name": "stdout",
     "output_type": "stream",
     "text": [
      "  1 def has_distributive_law(tree) -> bool:\n",
      "# 2     for node in walk(tree):  # iterate over all nodes in `tree`\n",
      "  3         # print(node)\n",
      "# 4         if isinstance(node, ast.BinOp):\n",
      "# 5             if isinstance(node.op, ast.Mult):\n",
      "# 6                 if isinstance(node.right, ast.BinOp):\n",
      "  7                     if isinstance(node.right.op, ast.Add):\n",
      "  8                         return True\n",
      "  9 \n",
      "# 10                 if isinstance(node.left, ast.BinOp):\n",
      "  11                     if isinstance(node.left.op, ast.Add):\n",
      "  12                         return True\n",
      "  13 \n",
      "# 14     return False\n"
     ]
    }
   ],
   "source": [
    "show_coverage(cov, has_distributive_law)"
   ]
  },
  {
   "cell_type": "markdown",
   "id": "cbcd829d",
   "metadata": {
    "slideshow": {
     "slide_type": "subslide"
    }
   },
   "source": [
    "In this listing, a `#` indicates that the code has been executed (covered).\n",
    "We see that our input \"1 * 2\" satisfies the conditions in Lines 4 and 5, but does not satisfy the conditions in later lines."
   ]
  },
  {
   "cell_type": "markdown",
   "id": "7ceabb8b",
   "metadata": {
    "slideshow": {
     "slide_type": "subslide"
    }
   },
   "source": [
    "### Fitness\n",
    "\n",
    "Let us now use coverage as a _fitness function_ to guide evolution.\n",
    "The higher the fitness (the coverage), the higher the chances of an input to be retained for further evolution.\n",
    "Our `ast_fitness()` function simply counts the number of lines covered in `has_distributive_law()`."
   ]
  },
  {
   "cell_type": "code",
   "execution_count": 145,
   "id": "5b7c0ea4",
   "metadata": {
    "execution": {
     "iopub.execute_input": "2024-06-30T16:52:39.777729Z",
     "iopub.status.busy": "2024-06-30T16:52:39.777614Z",
     "iopub.status.idle": "2024-06-30T16:52:39.779795Z",
     "shell.execute_reply": "2024-06-30T16:52:39.779542Z"
    },
    "slideshow": {
     "slide_type": "subslide"
    }
   },
   "outputs": [],
   "source": [
    "def ast_fitness(code_ast) -> int:\n",
    "    with Coverage() as cov:\n",
    "        has_distributive_law(code_ast)\n",
    "    lines = set()\n",
    "    for (name, line) in cov.coverage():\n",
    "        if name == has_distributive_law.__name__:\n",
    "            lines.add(line)\n",
    "    return len(lines)"
   ]
  },
  {
   "cell_type": "markdown",
   "id": "5b0a5458",
   "metadata": {
    "slideshow": {
     "slide_type": "fragment"
    }
   },
   "source": [
    "Here is the fitness of a number of given inputs:"
   ]
  },
  {
   "cell_type": "code",
   "execution_count": 146,
   "id": "6f891d83",
   "metadata": {
    "execution": {
     "iopub.execute_input": "2024-06-30T16:52:39.781294Z",
     "iopub.status.busy": "2024-06-30T16:52:39.781179Z",
     "iopub.status.idle": "2024-06-30T16:52:39.783570Z",
     "shell.execute_reply": "2024-06-30T16:52:39.783286Z"
    },
    "slideshow": {
     "slide_type": "fragment"
    }
   },
   "outputs": [
    {
     "data": {
      "text/plain": [
       "3"
      ]
     },
     "execution_count": 146,
     "metadata": {},
     "output_type": "execute_result"
    }
   ],
   "source": [
    "ast_fitness(ast.parse(\"1\"))"
   ]
  },
  {
   "cell_type": "code",
   "execution_count": 147,
   "id": "779c5241",
   "metadata": {
    "execution": {
     "iopub.execute_input": "2024-06-30T16:52:39.785119Z",
     "iopub.status.busy": "2024-06-30T16:52:39.784999Z",
     "iopub.status.idle": "2024-06-30T16:52:39.787396Z",
     "shell.execute_reply": "2024-06-30T16:52:39.787059Z"
    },
    "slideshow": {
     "slide_type": "fragment"
    }
   },
   "outputs": [
    {
     "data": {
      "text/plain": [
       "4"
      ]
     },
     "execution_count": 147,
     "metadata": {},
     "output_type": "execute_result"
    }
   ],
   "source": [
    "ast_fitness(ast.parse(\"1 + 1\"))"
   ]
  },
  {
   "cell_type": "code",
   "execution_count": 148,
   "id": "b370f5bd",
   "metadata": {
    "execution": {
     "iopub.execute_input": "2024-06-30T16:52:39.789237Z",
     "iopub.status.busy": "2024-06-30T16:52:39.789088Z",
     "iopub.status.idle": "2024-06-30T16:52:39.791883Z",
     "shell.execute_reply": "2024-06-30T16:52:39.791551Z"
    },
    "slideshow": {
     "slide_type": "fragment"
    }
   },
   "outputs": [
    {
     "data": {
      "text/plain": [
       "6"
      ]
     },
     "execution_count": 148,
     "metadata": {},
     "output_type": "execute_result"
    }
   ],
   "source": [
    "ast_fitness(ast.parse(\"1 * 2\"))"
   ]
  },
  {
   "cell_type": "code",
   "execution_count": 149,
   "id": "2f0478e8",
   "metadata": {
    "execution": {
     "iopub.execute_input": "2024-06-30T16:52:39.793903Z",
     "iopub.status.busy": "2024-06-30T16:52:39.793781Z",
     "iopub.status.idle": "2024-06-30T16:52:39.796588Z",
     "shell.execute_reply": "2024-06-30T16:52:39.796171Z"
    },
    "slideshow": {
     "slide_type": "subslide"
    }
   },
   "outputs": [
    {
     "data": {
      "text/plain": [
       "6"
      ]
     },
     "execution_count": 149,
     "metadata": {},
     "output_type": "execute_result"
    }
   ],
   "source": [
    "ast_fitness(ast.parse(\"1 * (2 + 3)\"))"
   ]
  },
  {
   "cell_type": "markdown",
   "id": "bb96746d",
   "metadata": {
    "slideshow": {
     "slide_type": "fragment"
    }
   },
   "source": [
    "Now, let's set up a fitness function that takes derivation trees.\n",
    "Essentially, our `tree_fitness()` function is based on the `ast_fitness()` function, above;\n",
    "however, we also add a small component `1 / len(code_str)` to give extra fitness to shorter inputs.\n",
    "Otherwise, our inputs may grow and keep on growing, making mutations inefficient."
   ]
  },
  {
   "cell_type": "code",
   "execution_count": 150,
   "id": "5cca4781",
   "metadata": {
    "execution": {
     "iopub.execute_input": "2024-06-30T16:52:39.798338Z",
     "iopub.status.busy": "2024-06-30T16:52:39.798202Z",
     "iopub.status.idle": "2024-06-30T16:52:39.800361Z",
     "shell.execute_reply": "2024-06-30T16:52:39.800053Z"
    },
    "slideshow": {
     "slide_type": "subslide"
    }
   },
   "outputs": [],
   "source": [
    "def tree_fitness(tree) -> float:\n",
    "    code_str = str(tree)\n",
    "    code_ast = ast.fix_missing_locations(eval(code_str))\n",
    "    fitness = ast_fitness(code_ast)\n",
    "    # print(ast.unparse(code_ast), f\"\\n=> Fitness = {fitness}\\n\")\n",
    "    return fitness + 1 / len(code_str)"
   ]
  },
  {
   "cell_type": "code",
   "execution_count": 151,
   "id": "e1755386",
   "metadata": {
    "execution": {
     "iopub.execute_input": "2024-06-30T16:52:39.802055Z",
     "iopub.status.busy": "2024-06-30T16:52:39.801919Z",
     "iopub.status.idle": "2024-06-30T16:52:39.804952Z",
     "shell.execute_reply": "2024-06-30T16:52:39.804634Z"
    },
    "slideshow": {
     "slide_type": "fragment"
    }
   },
   "outputs": [
    {
     "data": {
      "text/plain": [
       "4.002666666666666"
      ]
     },
     "execution_count": 151,
     "metadata": {},
     "output_type": "execute_result"
    }
   ],
   "source": [
    "tree_fitness(sum_tree)"
   ]
  },
  {
   "cell_type": "markdown",
   "id": "3d5de1ca",
   "metadata": {
    "slideshow": {
     "slide_type": "subslide"
    }
   },
   "source": [
    "### Evolving Inputs\n",
    "\n",
    "Let us now make use of our fitness function to implement a simple evolutionary fuzzing algorithm.\n",
    "We start with _evolution_ – that is, taking a population and adding offspring via mutations.\n",
    "Our initial population consists of a single candidate – in our case, `sum_tree` reflecting the `sum()` function, above."
   ]
  },
  {
   "cell_type": "code",
   "execution_count": 152,
   "id": "cb347849",
   "metadata": {
    "execution": {
     "iopub.execute_input": "2024-06-30T16:52:39.806758Z",
     "iopub.status.busy": "2024-06-30T16:52:39.806650Z",
     "iopub.status.idle": "2024-06-30T16:52:39.808585Z",
     "shell.execute_reply": "2024-06-30T16:52:39.808288Z"
    },
    "slideshow": {
     "slide_type": "fragment"
    }
   },
   "outputs": [],
   "source": [
    "def initial_population(tree):\n",
    "    return [ (tree, tree_fitness(tree)) ]"
   ]
  },
  {
   "cell_type": "code",
   "execution_count": 153,
   "id": "6cd1e8a4",
   "metadata": {
    "execution": {
     "iopub.execute_input": "2024-06-30T16:52:39.810124Z",
     "iopub.status.busy": "2024-06-30T16:52:39.810035Z",
     "iopub.status.idle": "2024-06-30T16:52:39.812127Z",
     "shell.execute_reply": "2024-06-30T16:52:39.811846Z"
    },
    "slideshow": {
     "slide_type": "fragment"
    }
   },
   "outputs": [],
   "source": [
    "sum_population = initial_population(sum_tree)"
   ]
  },
  {
   "cell_type": "code",
   "execution_count": 154,
   "id": "43cc0d70",
   "metadata": {
    "execution": {
     "iopub.execute_input": "2024-06-30T16:52:39.813774Z",
     "iopub.status.busy": "2024-06-30T16:52:39.813627Z",
     "iopub.status.idle": "2024-06-30T16:52:39.815918Z",
     "shell.execute_reply": "2024-06-30T16:52:39.815596Z"
    },
    "slideshow": {
     "slide_type": "fragment"
    }
   },
   "outputs": [
    {
     "data": {
      "text/plain": [
       "1"
      ]
     },
     "execution_count": 154,
     "metadata": {},
     "output_type": "execute_result"
    }
   ],
   "source": [
    "len(sum_population)"
   ]
  },
  {
   "cell_type": "markdown",
   "id": "83c954af",
   "metadata": {
    "slideshow": {
     "slide_type": "subslide"
    }
   },
   "source": [
    "Our `evolve()` function adds two new children to each population member."
   ]
  },
  {
   "cell_type": "code",
   "execution_count": 155,
   "id": "db53f440",
   "metadata": {
    "execution": {
     "iopub.execute_input": "2024-06-30T16:52:39.817682Z",
     "iopub.status.busy": "2024-06-30T16:52:39.817580Z",
     "iopub.status.idle": "2024-06-30T16:52:39.819272Z",
     "shell.execute_reply": "2024-06-30T16:52:39.818997Z"
    },
    "slideshow": {
     "slide_type": "fragment"
    }
   },
   "outputs": [],
   "source": [
    "OFFSPRING = 2"
   ]
  },
  {
   "cell_type": "code",
   "execution_count": 156,
   "id": "c5a73822",
   "metadata": {
    "execution": {
     "iopub.execute_input": "2024-06-30T16:52:39.820707Z",
     "iopub.status.busy": "2024-06-30T16:52:39.820616Z",
     "iopub.status.idle": "2024-06-30T16:52:39.822898Z",
     "shell.execute_reply": "2024-06-30T16:52:39.822622Z"
    },
    "slideshow": {
     "slide_type": "fragment"
    }
   },
   "outputs": [],
   "source": [
    "def evolve(population, min_fitness=-1):\n",
    "    solver = ISLaSolver(python_ast_grammar)\n",
    "\n",
    "    for (candidate, _) in list(population):\n",
    "        for i in range(OFFSPRING):\n",
    "            child = solver.mutate(candidate, min_mutations=1, max_mutations=1)\n",
    "            child_fitness = tree_fitness(child)\n",
    "            if child_fitness > min_fitness:\n",
    "                population.append((child, child_fitness))\n",
    "    return population"
   ]
  },
  {
   "cell_type": "code",
   "execution_count": 157,
   "id": "2e40859c",
   "metadata": {
    "execution": {
     "iopub.execute_input": "2024-06-30T16:52:39.824478Z",
     "iopub.status.busy": "2024-06-30T16:52:39.824377Z",
     "iopub.status.idle": "2024-06-30T16:52:39.848352Z",
     "shell.execute_reply": "2024-06-30T16:52:39.848051Z"
    },
    "slideshow": {
     "slide_type": "subslide"
    }
   },
   "outputs": [
    {
     "data": {
      "text/plain": [
       "3"
      ]
     },
     "execution_count": 157,
     "metadata": {},
     "output_type": "execute_result"
    }
   ],
   "source": [
    "sum_population = evolve(sum_population)\n",
    "len(sum_population)"
   ]
  },
  {
   "cell_type": "markdown",
   "id": "b6bb6154",
   "metadata": {
    "slideshow": {
     "slide_type": "fragment"
    }
   },
   "source": [
    "As we can evolve all these, too, we get an exponential growth."
   ]
  },
  {
   "cell_type": "code",
   "execution_count": 158,
   "id": "fc81b599",
   "metadata": {
    "execution": {
     "iopub.execute_input": "2024-06-30T16:52:39.849983Z",
     "iopub.status.busy": "2024-06-30T16:52:39.849860Z",
     "iopub.status.idle": "2024-06-30T16:52:40.120343Z",
     "shell.execute_reply": "2024-06-30T16:52:40.120060Z"
    },
    "slideshow": {
     "slide_type": "fragment"
    }
   },
   "outputs": [
    {
     "data": {
      "text/plain": [
       "9"
      ]
     },
     "execution_count": 158,
     "metadata": {},
     "output_type": "execute_result"
    }
   ],
   "source": [
    "sum_population = evolve(sum_population)\n",
    "len(sum_population)"
   ]
  },
  {
   "cell_type": "code",
   "execution_count": 159,
   "id": "a375f82b",
   "metadata": {
    "execution": {
     "iopub.execute_input": "2024-06-30T16:52:40.121917Z",
     "iopub.status.busy": "2024-06-30T16:52:40.121811Z",
     "iopub.status.idle": "2024-06-30T16:52:40.666329Z",
     "shell.execute_reply": "2024-06-30T16:52:40.665988Z"
    },
    "slideshow": {
     "slide_type": "fragment"
    }
   },
   "outputs": [
    {
     "data": {
      "text/plain": [
       "27"
      ]
     },
     "execution_count": 159,
     "metadata": {},
     "output_type": "execute_result"
    }
   ],
   "source": [
    "sum_population = evolve(sum_population)\n",
    "len(sum_population)"
   ]
  },
  {
   "cell_type": "code",
   "execution_count": 160,
   "id": "d7f570d3",
   "metadata": {
    "execution": {
     "iopub.execute_input": "2024-06-30T16:52:40.668560Z",
     "iopub.status.busy": "2024-06-30T16:52:40.668417Z",
     "iopub.status.idle": "2024-06-30T16:52:42.891856Z",
     "shell.execute_reply": "2024-06-30T16:52:42.891360Z"
    },
    "slideshow": {
     "slide_type": "fragment"
    }
   },
   "outputs": [
    {
     "data": {
      "text/plain": [
       "81"
      ]
     },
     "execution_count": 160,
     "metadata": {},
     "output_type": "execute_result"
    }
   ],
   "source": [
    "sum_population = evolve(sum_population)\n",
    "len(sum_population)"
   ]
  },
  {
   "cell_type": "code",
   "execution_count": 161,
   "id": "d0e4ce29",
   "metadata": {
    "execution": {
     "iopub.execute_input": "2024-06-30T16:52:42.894032Z",
     "iopub.status.busy": "2024-06-30T16:52:42.893850Z",
     "iopub.status.idle": "2024-06-30T16:52:47.806935Z",
     "shell.execute_reply": "2024-06-30T16:52:47.806570Z"
    },
    "slideshow": {
     "slide_type": "subslide"
    }
   },
   "outputs": [
    {
     "data": {
      "text/plain": [
       "243"
      ]
     },
     "execution_count": 161,
     "metadata": {},
     "output_type": "execute_result"
    }
   ],
   "source": [
    "sum_population = evolve(sum_population)\n",
    "len(sum_population)"
   ]
  },
  {
   "cell_type": "markdown",
   "id": "28a20329",
   "metadata": {
    "slideshow": {
     "slide_type": "subslide"
    }
   },
   "source": [
    "### Survival of the Fittest\n",
    "\n",
    "No population can expand forever and still survive.\n",
    "Let us thus limit the population to a certain size."
   ]
  },
  {
   "cell_type": "code",
   "execution_count": 162,
   "id": "b3f98e4e",
   "metadata": {
    "execution": {
     "iopub.execute_input": "2024-06-30T16:52:47.808695Z",
     "iopub.status.busy": "2024-06-30T16:52:47.808561Z",
     "iopub.status.idle": "2024-06-30T16:52:47.810384Z",
     "shell.execute_reply": "2024-06-30T16:52:47.810103Z"
    },
    "slideshow": {
     "slide_type": "fragment"
    }
   },
   "outputs": [],
   "source": [
    "POPULATION_SIZE = 100"
   ]
  },
  {
   "cell_type": "markdown",
   "id": "a2e1b516",
   "metadata": {
    "slideshow": {
     "slide_type": "fragment"
    }
   },
   "source": [
    "The `select()` function implements survival of the fittest: It limits the population to at most `POPULATION_SIZE` elements, sorting them by their fitness (highest to lowest).\n",
    "Members with low fitness beyond `POPULATION_SIZE` do not survive."
   ]
  },
  {
   "cell_type": "code",
   "execution_count": 163,
   "id": "e5c494cd",
   "metadata": {
    "execution": {
     "iopub.execute_input": "2024-06-30T16:52:47.812009Z",
     "iopub.status.busy": "2024-06-30T16:52:47.811901Z",
     "iopub.status.idle": "2024-06-30T16:52:47.814020Z",
     "shell.execute_reply": "2024-06-30T16:52:47.813675Z"
    },
    "slideshow": {
     "slide_type": "subslide"
    }
   },
   "outputs": [],
   "source": [
    "def get_fitness(elem):\n",
    "    (candidate, fitness) = elem\n",
    "    return fitness\n",
    "\n",
    "def select(population):\n",
    "    population = sorted(population, key=get_fitness, reverse=True)\n",
    "    population = population[:POPULATION_SIZE]\n",
    "    return population"
   ]
  },
  {
   "cell_type": "markdown",
   "id": "d3509183",
   "metadata": {
    "slideshow": {
     "slide_type": "fragment"
    }
   },
   "source": [
    "We can use the following call to trim our `sum_population` to the fittest members:"
   ]
  },
  {
   "cell_type": "code",
   "execution_count": 164,
   "id": "eff16d61",
   "metadata": {
    "execution": {
     "iopub.execute_input": "2024-06-30T16:52:47.815639Z",
     "iopub.status.busy": "2024-06-30T16:52:47.815520Z",
     "iopub.status.idle": "2024-06-30T16:52:47.818550Z",
     "shell.execute_reply": "2024-06-30T16:52:47.818236Z"
    },
    "slideshow": {
     "slide_type": "fragment"
    }
   },
   "outputs": [
    {
     "data": {
      "text/plain": [
       "100"
      ]
     },
     "execution_count": 164,
     "metadata": {},
     "output_type": "execute_result"
    }
   ],
   "source": [
    "sum_population = select(sum_population)\n",
    "len(sum_population)"
   ]
  },
  {
   "cell_type": "markdown",
   "id": "73333558",
   "metadata": {
    "slideshow": {
     "slide_type": "subslide"
    }
   },
   "source": [
    "### Evolution\n",
    "\n",
    "We now have everything in place:\n",
    "\n",
    "* We have a _population_ (say, `sum_population`)\n",
    "* We can evolve the population (using `evolve()`)\n",
    "* We can have only the fittest survive (using `select()`)\n",
    "\n",
    "Let us repeat this process over several generations.\n",
    "We track whenever we have found a new \"best\" candidate and log them.\n",
    "If we find a candidate that triggers the bug, we stop.\n",
    "Note that this may take a long time, and not necessarily yield a perfect result."
   ]
  },
  {
   "cell_type": "markdown",
   "id": "ac6578d6",
   "metadata": {
    "slideshow": {
     "slide_type": "subslide"
    }
   },
   "source": [
    "As common in search-based approaches, we stop and restart the search if we have not found a sufficient solution after a number of generations (here: `GENERATIONS`).\n",
    "Other than that, we keep searching until we have a solution."
   ]
  },
  {
   "cell_type": "code",
   "execution_count": 165,
   "id": "25854842",
   "metadata": {
    "execution": {
     "iopub.execute_input": "2024-06-30T16:52:47.820357Z",
     "iopub.status.busy": "2024-06-30T16:52:47.820247Z",
     "iopub.status.idle": "2024-06-30T16:52:47.821959Z",
     "shell.execute_reply": "2024-06-30T16:52:47.821688Z"
    },
    "slideshow": {
     "slide_type": "fragment"
    }
   },
   "outputs": [],
   "source": [
    "GENERATIONS = 100  # Upper bound"
   ]
  },
  {
   "cell_type": "code",
   "execution_count": 166,
   "id": "f7265f14",
   "metadata": {
    "execution": {
     "iopub.execute_input": "2024-06-30T16:52:47.823449Z",
     "iopub.status.busy": "2024-06-30T16:52:47.823358Z",
     "iopub.status.idle": "2024-06-30T16:54:10.128441Z",
     "shell.execute_reply": "2024-06-30T16:54:10.127380Z"
    },
    "slideshow": {
     "slide_type": "subslide"
    }
   },
   "outputs": [
    {
     "name": "stdout",
     "output_type": "stream",
     "text": [
      "Generation 0: found new best candidate (fitness=4.002673796791444):\n",
      "def sum(a, b):\n",
      "    the_sum = a + b\n",
      "    return the_su\n",
      "Generation 1: found new best candidate (fitness=4.002695417789758):\n",
      "def sum(a, b):\n",
      "    thK = a + the_sum\n",
      "    return b\n",
      "Generation 5: found new best candidate (fitness=4.002770083102493):\n",
      "def sum(q):\n",
      "    the_sum = a + the_sum\n",
      "    return b\n",
      "Generation 8: found new best candidate (fitness=4.003039513677812):\n",
      "def sum(q):\n",
      "    the_sum = a + the_sum\n",
      "    pass\n",
      "Generation 9: found new best candidate (fitness=6.001290322580645):\n",
      "def sum(a, b):\n",
      "    for JQ in \n",
      "    {} * set(): # type: \n",
      "        the_sum = a + b\n",
      "        return the_su\n",
      "    u = *q = ~() # type: \n",
      "    continue\n",
      "Generation 22: found new best candidate (fitness=6.001426533523538):\n",
      "if Q():\n",
      "    with :\n",
      "        pass\n",
      "    return\n",
      "else:\n",
      "\n",
      "    def sum(a, b):\n",
      "        the_sum = a + b\n",
      "        return the_sum\n",
      "    while set() * set():\n",
      "        continue\n",
      "        break\n",
      "Generation 26: found new best candidate (fitness=6.001432664756447):\n",
      "if Q():\n",
      "    with :\n",
      "        pass\n",
      "    return\n",
      "else:\n",
      "\n",
      "    def sum(a, b):\n",
      "        the_ = a + b\n",
      "        return the_sum\n",
      "    while set() * set():\n",
      "        continue\n",
      "        break\n",
      "Generation 28: found new best candidate (fitness=6.001438848920864):\n",
      "if Q():\n",
      "    with :\n",
      "        pass\n",
      "    return\n",
      "else:\n",
      "\n",
      "    def sum(a, b):\n",
      "        the_ = a + b\n",
      "        return the_\n",
      "    while set() * set():\n",
      "        continue\n",
      "        break\n",
      "Generation 45: found new best candidate (fitness=6.0014450867052025):\n",
      "if Q():\n",
      "    with :\n",
      "        pass\n",
      "    return\n",
      "else:\n",
      "\n",
      "    def sum(a, b):\n",
      "        n = a + b\n",
      "        return the_\n",
      "    while set() * set():\n",
      "        continue\n",
      "        break\n",
      "Generation 47: found new best candidate (fitness=6.001449275362319):\n",
      "if Q():\n",
      "    with :\n",
      "        pass\n",
      "    return\n",
      "else:\n",
      "\n",
      "    def sum(a, b):\n",
      "        n = a + b\n",
      "        return tS\n",
      "    while set() * set():\n",
      "        continue\n",
      "        break\n",
      "Generation 56: found new best candidate (fitness=6.001474926253687):\n",
      "if Q():\n",
      "    with :\n",
      "        pass\n",
      "    return\n",
      "else:\n",
      "\n",
      "    def sum(o):\n",
      "        n = a + b\n",
      "        return the_\n",
      "    while set() * set():\n",
      "        continue\n",
      "        break\n",
      "Generation 57: found new best candidate (fitness=6.001524390243903):\n",
      "if Q():\n",
      "    with :\n",
      "        pass\n",
      "    return\n",
      "else:\n",
      "\n",
      "    def sum(o):\n",
      "        n = a + b\n",
      "        return the_\n",
      "    while set() * \n",
      "    Yy:\n",
      "        continue\n",
      "        break\n",
      "Generation 72: found new best candidate (fitness=7.001300390117035):\n",
      "if Q():\n",
      "    with :\n",
      "        pass\n",
      "    return\n",
      "else:\n",
      "\n",
      "    def sum(o5):\n",
      "        n = a + b\n",
      "        return the_\n",
      "    while set() * set() * set():\n",
      "        continue\n",
      "        break\n",
      "Generation 79: found new best candidate (fitness=7.001302083333333):\n",
      "if Q():\n",
      "    with :\n",
      "        pass\n",
      "    return\n",
      "else:\n",
      "\n",
      "    def sum(o5):\n",
      "        n = M + b\n",
      "        return the_\n",
      "    while set() * set() * set():\n",
      "        continue\n",
      "        break\n",
      "Generation 89: found new best candidate (fitness=7.0013054830287205):\n",
      "if Q():\n",
      "    with :\n",
      "        pass\n",
      "    return\n",
      "else:\n",
      "\n",
      "    def sum(o5):\n",
      "        n = M + b\n",
      "        return iI\n",
      "    while set() * set() * set():\n",
      "        continue\n",
      "        break\n",
      "Generation 98: found new best candidate (fitness=7.001307189542484):\n",
      "if Q():\n",
      "    with :\n",
      "        pass\n",
      "    break\n",
      "else:\n",
      "\n",
      "    def sum(o5):\n",
      "        n = M + b\n",
      "        return iI\n",
      "    while set() * set() * set():\n",
      "        continue\n",
      "        break\n",
      "\n",
      "\n",
      "Restarting; trial #2\n",
      "Generation 0: found new best candidate (fitness=4.002710027100271):\n",
      "def sum(a, b):\n",
      "    h = a + b\n",
      "    return the_sum\n",
      "Generation 7: found new best candidate (fitness=4.002739726027397):\n",
      "def sum(a, b):\n",
      "    h = a + b\n",
      "    return the\n",
      "Generation 9: found new best candidate (fitness=4.002949852507375):\n",
      "def sum(a, b):\n",
      "    the_sum = a + b\n",
      "    return\n",
      "Generation 13: found new best candidate (fitness=4.002994011976048):\n",
      "def sum(a, b):\n",
      "    tf = a + b\n",
      "    return\n",
      "Generation 16: found new best candidate (fitness=6.000926784059314):\n",
      "def sum(a, b):\n",
      "    the_sum = {}\n",
      "    return\n",
      "Generation 19: found new best candidate (fitness=6.000931966449208):\n",
      "def sum(a, b):\n",
      "    t = {}\n",
      "    return\n",
      "Generation 21: found new best candidate (fitness=6.001097694840834):\n",
      "def sum(a, b):\n",
      "    h = a + ly(b, rC=set()[set():set():set()], T_=set() * set())\n",
      "    return the_sum\n",
      "Generation 31: found new best candidate (fitness=6.001721170395869):\n",
      "def sum(a, b):\n",
      "    h = (\n",
      "    set() // *()) * (a + b)\n",
      "    return t5\n",
      "Done!\n",
      "\n",
      "\n",
      "Restarting; trial #3\n"
     ]
    }
   ],
   "source": [
    "trial = 1\n",
    "found = False\n",
    "\n",
    "while not found:\n",
    "    sum_population = initial_population(sum_tree)\n",
    "    prev_best_fitness = -1\n",
    "\n",
    "    for generation in range(GENERATIONS):\n",
    "        sum_population = evolve(sum_population, min_fitness=prev_best_fitness)\n",
    "        sum_population = select(sum_population)\n",
    "        best_candidate, best_fitness = sum_population[0]\n",
    "        if best_fitness > prev_best_fitness:\n",
    "            print(f\"Generation {generation}: found new best candidate (fitness={best_fitness}):\")\n",
    "            best_ast = ast.fix_missing_locations(eval(str(best_candidate)))\n",
    "            print(ast.unparse(best_ast))\n",
    "            prev_best_fitness = best_fitness\n",
    "\n",
    "            if has_distributive_law(best_ast):\n",
    "                print(\"Done!\")\n",
    "                found = True\n",
    "                break\n",
    "\n",
    "    trial = trial + 1\n",
    "    print(f\"\\n\\nRestarting; trial #{trial}\")"
   ]
  },
  {
   "cell_type": "markdown",
   "id": "731ff108",
   "metadata": {
    "slideshow": {
     "slide_type": "subslide"
    }
   },
   "source": [
    "Success! We found a piece of code that triggers the bug. Check for occurrences of the distributive law."
   ]
  },
  {
   "cell_type": "code",
   "execution_count": 167,
   "id": "6790b028",
   "metadata": {
    "execution": {
     "iopub.execute_input": "2024-06-30T16:54:10.131876Z",
     "iopub.status.busy": "2024-06-30T16:54:10.131594Z",
     "iopub.status.idle": "2024-06-30T16:54:10.135347Z",
     "shell.execute_reply": "2024-06-30T16:54:10.134364Z"
    },
    "slideshow": {
     "slide_type": "fragment"
    }
   },
   "outputs": [
    {
     "name": "stdout",
     "output_type": "stream",
     "text": [
      "def sum(a, b):\n",
      "    h = (\n",
      "    set() // *()) * (a + b)\n",
      "    return t5\n"
     ]
    }
   ],
   "source": [
    "print(ast.unparse(best_ast))"
   ]
  },
  {
   "cell_type": "code",
   "execution_count": 168,
   "id": "f7c4a787",
   "metadata": {
    "execution": {
     "iopub.execute_input": "2024-06-30T16:54:10.139497Z",
     "iopub.status.busy": "2024-06-30T16:54:10.139028Z",
     "iopub.status.idle": "2024-06-30T16:54:10.141917Z",
     "shell.execute_reply": "2024-06-30T16:54:10.141299Z"
    },
    "slideshow": {
     "slide_type": "fragment"
    }
   },
   "outputs": [],
   "source": [
    "assert has_distributive_law(best_ast)"
   ]
  },
  {
   "cell_type": "markdown",
   "id": "960225e0",
   "metadata": {
    "slideshow": {
     "slide_type": "subslide"
    }
   },
   "source": [
    "\n",
    "You may note that not all of the code is required to trigger the bug.\n",
    "We could run our evolutionary fuzzer a bit longer to see whether it can be further reduced,\n",
    "or use a dedicated input reduction technique such as [Delta Debugging](https://www.fuzzingbook.org/html/Reducer.html)."
   ]
  },
  {
   "cell_type": "markdown",
   "id": "b4eb2ad0",
   "metadata": {
    "slideshow": {
     "slide_type": "subslide"
    }
   },
   "source": [
    "### Chances of Evolutionary Fuzzing"
   ]
  },
  {
   "cell_type": "markdown",
   "id": "b8348276",
   "metadata": {
    "slideshow": {
     "slide_type": "subslide"
    }
   },
   "source": [
    "Could the bug in `distributive_law()` have been found without evolutionary guidance - i.e., simply by applying one mutation to `sum()`?\n",
    "\n",
    "When producing an expression (`<expr>`), we calculate how big the chances are to\n",
    "\n",
    "* Produce a binary operator, and\n",
    "* Produce a `*`, and\n",
    "* Produce another binary operator as one child, and\n",
    "* Produce a `+`\n",
    "\n",
    "Let's do a few queries on our grammar to compute the chances."
   ]
  },
  {
   "cell_type": "code",
   "execution_count": 169,
   "id": "d76764d3",
   "metadata": {
    "execution": {
     "iopub.execute_input": "2024-06-30T16:54:10.144623Z",
     "iopub.status.busy": "2024-06-30T16:54:10.144375Z",
     "iopub.status.idle": "2024-06-30T16:54:10.146921Z",
     "shell.execute_reply": "2024-06-30T16:54:10.146418Z"
    },
    "slideshow": {
     "slide_type": "subslide"
    }
   },
   "outputs": [],
   "source": [
    "assert '<BinOp>' in python_ast_grammar['<expr>']"
   ]
  },
  {
   "cell_type": "code",
   "execution_count": 170,
   "id": "138a32f4",
   "metadata": {
    "execution": {
     "iopub.execute_input": "2024-06-30T16:54:10.149340Z",
     "iopub.status.busy": "2024-06-30T16:54:10.149190Z",
     "iopub.status.idle": "2024-06-30T16:54:10.152685Z",
     "shell.execute_reply": "2024-06-30T16:54:10.151966Z"
    },
    "slideshow": {
     "slide_type": "fragment"
    }
   },
   "outputs": [
    {
     "data": {
      "text/plain": [
       "15"
      ]
     },
     "execution_count": 170,
     "metadata": {},
     "output_type": "execute_result"
    }
   ],
   "source": [
    "len(python_ast_grammar['<expr>'])"
   ]
  },
  {
   "cell_type": "code",
   "execution_count": 171,
   "id": "3c62ca04",
   "metadata": {
    "execution": {
     "iopub.execute_input": "2024-06-30T16:54:10.155667Z",
     "iopub.status.busy": "2024-06-30T16:54:10.155503Z",
     "iopub.status.idle": "2024-06-30T16:54:10.157621Z",
     "shell.execute_reply": "2024-06-30T16:54:10.157148Z"
    },
    "slideshow": {
     "slide_type": "fragment"
    }
   },
   "outputs": [],
   "source": [
    "assert 'Add()' in python_ast_grammar['<operator>']\n",
    "assert 'Mult()' in python_ast_grammar['<operator>']"
   ]
  },
  {
   "cell_type": "code",
   "execution_count": 172,
   "id": "4d714b50",
   "metadata": {
    "execution": {
     "iopub.execute_input": "2024-06-30T16:54:10.159805Z",
     "iopub.status.busy": "2024-06-30T16:54:10.159548Z",
     "iopub.status.idle": "2024-06-30T16:54:10.163609Z",
     "shell.execute_reply": "2024-06-30T16:54:10.162854Z"
    },
    "slideshow": {
     "slide_type": "fragment"
    }
   },
   "outputs": [
    {
     "data": {
      "text/plain": [
       "13"
      ]
     },
     "execution_count": 172,
     "metadata": {},
     "output_type": "execute_result"
    }
   ],
   "source": [
    "len(python_ast_grammar['<operator>'])"
   ]
  },
  {
   "cell_type": "code",
   "execution_count": 173,
   "id": "f8f8682c",
   "metadata": {
    "execution": {
     "iopub.execute_input": "2024-06-30T16:54:10.166264Z",
     "iopub.status.busy": "2024-06-30T16:54:10.166068Z",
     "iopub.status.idle": "2024-06-30T16:54:10.170729Z",
     "shell.execute_reply": "2024-06-30T16:54:10.169930Z"
    },
    "slideshow": {
     "slide_type": "fragment"
    }
   },
   "outputs": [
    {
     "data": {
      "text/plain": [
       "19012.5"
      ]
     },
     "execution_count": 173,
     "metadata": {},
     "output_type": "execute_result"
    }
   ],
   "source": [
    "(len(python_ast_grammar['<expr>'])       # chances of choosing a `BinOp`\n",
    "* len(python_ast_grammar['<operator>'])  # chances of choosing a `*`\n",
    "* len(python_ast_grammar['<expr>'])      # chances of choosing a `BinOp` as a child\n",
    "* len(python_ast_grammar['<operator>'])  # chances of choosing a `+`\n",
    "/ 2)   # two chances - one for the left child, one for the right"
   ]
  },
  {
   "cell_type": "markdown",
   "id": "aac0f655",
   "metadata": {
    "slideshow": {
     "slide_type": "subslide"
    }
   },
   "source": [
    "On average, it would take about 19000 (non-evolutionary) runs until we have an expression that triggers the distributive law.\n",
    "So it is definitely better to make use of additional information (say, coverage) in order to guide mutations towards a goal."
   ]
  },
  {
   "cell_type": "markdown",
   "id": "889bba83",
   "metadata": {
    "slideshow": {
     "slide_type": "slide"
    }
   },
   "source": [
    "## Synopsis"
   ]
  },
  {
   "cell_type": "markdown",
   "id": "d56e263b",
   "metadata": {
    "slideshow": {
     "slide_type": "fragment"
    }
   },
   "source": [
    "This chapter provides a `PythonFuzzer` class that allows producing arbitrary Python code elements:"
   ]
  },
  {
   "cell_type": "code",
   "execution_count": 174,
   "id": "66206429",
   "metadata": {
    "execution": {
     "iopub.execute_input": "2024-06-30T16:54:10.174556Z",
     "iopub.status.busy": "2024-06-30T16:54:10.174340Z",
     "iopub.status.idle": "2024-06-30T16:54:10.461687Z",
     "shell.execute_reply": "2024-06-30T16:54:10.461321Z"
    },
    "slideshow": {
     "slide_type": "fragment"
    }
   },
   "outputs": [
    {
     "name": "stdout",
     "output_type": "stream",
     "text": [
      "def Hw(): # type: \n",
      "    pass\n"
     ]
    }
   ],
   "source": [
    "fuzzer = PythonFuzzer()\n",
    "print(fuzzer.fuzz())"
   ]
  },
  {
   "cell_type": "markdown",
   "id": "e1ee9650",
   "metadata": {
    "slideshow": {
     "slide_type": "fragment"
    }
   },
   "source": [
    "By default, `PythonFuzzer` produces a _function definition_ – that is, a list of statements as above.\n",
    "You can pass a `start_symbol` argument to state which Python element you'd like to have:"
   ]
  },
  {
   "cell_type": "code",
   "execution_count": 175,
   "id": "025c2902",
   "metadata": {
    "execution": {
     "iopub.execute_input": "2024-06-30T16:54:10.464077Z",
     "iopub.status.busy": "2024-06-30T16:54:10.463838Z",
     "iopub.status.idle": "2024-06-30T16:54:11.163077Z",
     "shell.execute_reply": "2024-06-30T16:54:11.162682Z"
    },
    "slideshow": {
     "slide_type": "subslide"
    }
   },
   "outputs": [
    {
     "name": "stdout",
     "output_type": "stream",
     "text": [
      "while \n",
      "'' or {Z: *(set() ^ set())}:\n",
      "    del \n"
     ]
    }
   ],
   "source": [
    "fuzzer = PythonFuzzer('<While>')\n",
    "print(fuzzer.fuzz())"
   ]
  },
  {
   "cell_type": "markdown",
   "id": "a54d4652",
   "metadata": {
    "slideshow": {
     "slide_type": "fragment"
    }
   },
   "source": [
    "Here is a list of all possible start symbols. Their names reflect the nonterminals from the [Python `ast` module documentation](https://docs.python.org/3/library/ast.html)."
   ]
  },
  {
   "cell_type": "code",
   "execution_count": 176,
   "id": "c042eaee",
   "metadata": {
    "execution": {
     "iopub.execute_input": "2024-06-30T16:54:11.165223Z",
     "iopub.status.busy": "2024-06-30T16:54:11.165073Z",
     "iopub.status.idle": "2024-06-30T16:54:11.167922Z",
     "shell.execute_reply": "2024-06-30T16:54:11.167631Z"
    },
    "slideshow": {
     "slide_type": "subslide"
    }
   },
   "outputs": [
    {
     "data": {
      "text/plain": [
       "['<Assert>',\n",
       " '<Assign>',\n",
       " '<Attribute>',\n",
       " '<AugAssign>',\n",
       " '<BinOp>',\n",
       " '<BoolOp>',\n",
       " '<Break>',\n",
       " '<Call>',\n",
       " '<Compare>',\n",
       " '<Constant>',\n",
       " '<Continue>',\n",
       " '<Delete>',\n",
       " '<Dict>',\n",
       " '<EmptySet>',\n",
       " '<Expr>',\n",
       " '<For>',\n",
       " '<FunctionDef>',\n",
       " '<If>',\n",
       " '<List>',\n",
       " '<Module>',\n",
       " '<Name>',\n",
       " '<Pass>',\n",
       " '<Return>',\n",
       " '<Set>',\n",
       " '<Slice>',\n",
       " '<Starred>',\n",
       " '<Subscript>',\n",
       " '<Tuple>',\n",
       " '<UnaryOp>',\n",
       " '<While>',\n",
       " '<With>',\n",
       " '<arg>',\n",
       " '<arg_list>',\n",
       " '<args>',\n",
       " '<arguments>',\n",
       " '<bool>',\n",
       " '<boolop>',\n",
       " '<cmpop>',\n",
       " '<cmpop_list>',\n",
       " '<cmpops>',\n",
       " '<digit>',\n",
       " '<digits>',\n",
       " '<expr>',\n",
       " '<expr_list>',\n",
       " '<exprs>',\n",
       " '<float>',\n",
       " '<func>',\n",
       " '<id>',\n",
       " '<id_continue>',\n",
       " '<id_start>',\n",
       " '<identifier>',\n",
       " '<integer>',\n",
       " '<keyword>',\n",
       " '<keyword_list>',\n",
       " '<keywords>',\n",
       " '<kwarg>',\n",
       " '<lhs_Attribute>',\n",
       " '<lhs_List>',\n",
       " '<lhs_Name>',\n",
       " '<lhs_Starred>',\n",
       " '<lhs_Subscript>',\n",
       " '<lhs_Tuple>',\n",
       " '<lhs_expr>',\n",
       " '<lhs_exprs>',\n",
       " '<literal>',\n",
       " '<mod>',\n",
       " '<none>',\n",
       " '<nonempty_expr_list>',\n",
       " '<nonempty_lhs_expr_list>',\n",
       " '<nonempty_stmt_list>',\n",
       " '<nonzerodigit>',\n",
       " '<not_double_quotes>',\n",
       " '<not_single_quotes>',\n",
       " '<operator>',\n",
       " '<returns>',\n",
       " '<start>',\n",
       " '<stmt>',\n",
       " '<stmt_list>',\n",
       " '<stmts>',\n",
       " '<string>',\n",
       " '<type_comment>',\n",
       " '<type_ignore>',\n",
       " '<type_ignore_list>',\n",
       " '<type_ignores>',\n",
       " '<unaryop>',\n",
       " '<vararg>',\n",
       " '<withitem>',\n",
       " '<withitem_list>',\n",
       " '<withitems>']"
      ]
     },
     "execution_count": 176,
     "metadata": {},
     "output_type": "execute_result"
    }
   ],
   "source": [
    "sorted(list(PYTHON_AST_GRAMMAR.keys()))"
   ]
  },
  {
   "cell_type": "markdown",
   "id": "ee7c88f5",
   "metadata": {
    "slideshow": {
     "slide_type": "subslide"
    }
   },
   "source": [
    "If you'd like more control over Python code generation, here is what is happening behind the scenes.\n",
    "The EBNF grammar `PYTHON_AST_GRAMMAR` can parse and produce _abstract syntax trees_ for Python.\n",
    "To produce a Python module without `PythonFuzzer`, you would take these steps:"
   ]
  },
  {
   "cell_type": "markdown",
   "id": "a2d7f0c6",
   "metadata": {
    "slideshow": {
     "slide_type": "subslide"
    }
   },
   "source": [
    "**Step 1:** Create a non-EBNF grammar suitable for `ISLaSolver` (or any other grammar fuzzer):"
   ]
  },
  {
   "cell_type": "code",
   "execution_count": 177,
   "id": "699d35ce",
   "metadata": {
    "execution": {
     "iopub.execute_input": "2024-06-30T16:54:11.169651Z",
     "iopub.status.busy": "2024-06-30T16:54:11.169515Z",
     "iopub.status.idle": "2024-06-30T16:54:11.172624Z",
     "shell.execute_reply": "2024-06-30T16:54:11.172334Z"
    },
    "slideshow": {
     "slide_type": "fragment"
    }
   },
   "outputs": [],
   "source": [
    "python_ast_grammar = convert_ebnf_grammar(PYTHON_AST_GRAMMAR)"
   ]
  },
  {
   "cell_type": "markdown",
   "id": "ae8e69d6",
   "metadata": {
    "slideshow": {
     "slide_type": "subslide"
    }
   },
   "source": [
    "**Step 2:**  Feed the resulting grammar into a grammar fuzzer such as ISLa:"
   ]
  },
  {
   "cell_type": "code",
   "execution_count": 178,
   "id": "6614ddf4",
   "metadata": {
    "execution": {
     "iopub.execute_input": "2024-06-30T16:54:11.174434Z",
     "iopub.status.busy": "2024-06-30T16:54:11.174323Z",
     "iopub.status.idle": "2024-06-30T16:54:11.193411Z",
     "shell.execute_reply": "2024-06-30T16:54:11.193038Z"
    },
    "slideshow": {
     "slide_type": "fragment"
    }
   },
   "outputs": [],
   "source": [
    "solver = ISLaSolver(python_ast_grammar, start_symbol='<FunctionDef>')"
   ]
  },
  {
   "cell_type": "markdown",
   "id": "47a498df",
   "metadata": {
    "slideshow": {
     "slide_type": "subslide"
    }
   },
   "source": [
    "**Step 3:**  Have the grammar fuzzer produce a string. This string represents an AST."
   ]
  },
  {
   "cell_type": "code",
   "execution_count": 179,
   "id": "0682d5b0",
   "metadata": {
    "execution": {
     "iopub.execute_input": "2024-06-30T16:54:11.195993Z",
     "iopub.status.busy": "2024-06-30T16:54:11.195809Z",
     "iopub.status.idle": "2024-06-30T16:54:11.462656Z",
     "shell.execute_reply": "2024-06-30T16:54:11.462268Z"
    },
    "slideshow": {
     "slide_type": "fragment"
    }
   },
   "outputs": [
    {
     "data": {
      "text/plain": [
       "'FunctionDef(name=\\'t\\', args=arguments(posonlyargs=[], args=[], kwonlyargs=[], kw_defaults=[], defaults=[]), body=[Break()], decorator_list=[], returns=Call(func=Name(id=\"set\", ctx=Load()), args=[], keywords=[]), type_comment=\\'\\')'"
      ]
     },
     "execution_count": 179,
     "metadata": {},
     "output_type": "execute_result"
    }
   ],
   "source": [
    "ast_string = str(solver.solve())\n",
    "ast_string"
   ]
  },
  {
   "cell_type": "markdown",
   "id": "1ef6635d",
   "metadata": {
    "slideshow": {
     "slide_type": "subslide"
    }
   },
   "source": [
    "**Step 4:**  Convert the AST into an actual Python AST data structure."
   ]
  },
  {
   "cell_type": "code",
   "execution_count": 180,
   "id": "d5e478da",
   "metadata": {
    "execution": {
     "iopub.execute_input": "2024-06-30T16:54:11.464335Z",
     "iopub.status.busy": "2024-06-30T16:54:11.464219Z",
     "iopub.status.idle": "2024-06-30T16:54:11.465996Z",
     "shell.execute_reply": "2024-06-30T16:54:11.465686Z"
    },
    "slideshow": {
     "slide_type": "skip"
    }
   },
   "outputs": [],
   "source": [
    "from ast import *"
   ]
  },
  {
   "cell_type": "code",
   "execution_count": 181,
   "id": "c2b1527b",
   "metadata": {
    "execution": {
     "iopub.execute_input": "2024-06-30T16:54:11.467768Z",
     "iopub.status.busy": "2024-06-30T16:54:11.467639Z",
     "iopub.status.idle": "2024-06-30T16:54:11.469753Z",
     "shell.execute_reply": "2024-06-30T16:54:11.469323Z"
    },
    "slideshow": {
     "slide_type": "fragment"
    }
   },
   "outputs": [],
   "source": [
    "abstract_syntax_tree = eval(ast_string)"
   ]
  },
  {
   "cell_type": "markdown",
   "id": "4f74ed4a",
   "metadata": {
    "slideshow": {
     "slide_type": "subslide"
    }
   },
   "source": [
    "**Step 5:** Finally, convert the AST structure back into readable Python code:"
   ]
  },
  {
   "cell_type": "code",
   "execution_count": 182,
   "id": "3ae1f5a4",
   "metadata": {
    "execution": {
     "iopub.execute_input": "2024-06-30T16:54:11.471572Z",
     "iopub.status.busy": "2024-06-30T16:54:11.471436Z",
     "iopub.status.idle": "2024-06-30T16:54:11.473652Z",
     "shell.execute_reply": "2024-06-30T16:54:11.473369Z"
    },
    "slideshow": {
     "slide_type": "fragment"
    }
   },
   "outputs": [
    {
     "name": "stdout",
     "output_type": "stream",
     "text": [
      "def t() -> set(): # type: \n",
      "    break\n"
     ]
    }
   ],
   "source": [
    "ast.fix_missing_locations(abstract_syntax_tree)\n",
    "print(ast.unparse(abstract_syntax_tree))"
   ]
  },
  {
   "cell_type": "markdown",
   "id": "d3b67aec",
   "metadata": {
    "slideshow": {
     "slide_type": "fragment"
    }
   },
   "source": [
    "The chapter has many more applications, including parsing and mutating Python code, evolutionary fuzzing, and more."
   ]
  },
  {
   "cell_type": "markdown",
   "id": "90b4249c",
   "metadata": {
    "slideshow": {
     "slide_type": "fragment"
    }
   },
   "source": [
    "Here are the details on the `PythonFuzzer` constructor:"
   ]
  },
  {
   "cell_type": "code",
   "execution_count": 183,
   "id": "6400fb59",
   "metadata": {
    "execution": {
     "iopub.execute_input": "2024-06-30T16:54:11.475426Z",
     "iopub.status.busy": "2024-06-30T16:54:11.475299Z",
     "iopub.status.idle": "2024-06-30T16:54:11.477381Z",
     "shell.execute_reply": "2024-06-30T16:54:11.476990Z"
    },
    "slideshow": {
     "slide_type": "fragment"
    }
   },
   "outputs": [],
   "source": [
    "# ignore\n",
    "import inspect\n",
    "import markdown\n",
    "from bookutils import HTML"
   ]
  },
  {
   "cell_type": "code",
   "execution_count": 184,
   "id": "3cdeae7b",
   "metadata": {
    "execution": {
     "iopub.execute_input": "2024-06-30T16:54:11.479707Z",
     "iopub.status.busy": "2024-06-30T16:54:11.479581Z",
     "iopub.status.idle": "2024-06-30T16:54:11.483212Z",
     "shell.execute_reply": "2024-06-30T16:54:11.482935Z"
    },
    "slideshow": {
     "slide_type": "subslide"
    }
   },
   "outputs": [
    {
     "data": {
      "text/html": [
       "<p><code>PythonFuzzer(self, start_symbol: Optional[str] = None, *, grammar: Optional[Dict[str, List[Union[str, Tuple[str, Dict[str, Any]]]]]] = None, constraint: Optional[str] = None, **kw_params) -&gt; None</code></p>\n",
       "<p>Produce Python code. Parameters are:</p>\n",
       "<ul>\n",
       "<li><code>start_symbol</code>: The grammatical entity to be generated (default: <code>&lt;FunctionDef&gt;</code>)</li>\n",
       "<li><code>grammar</code>: The EBNF grammar to be used (default: <code>PYTHON__AST_GRAMMAR</code>); and</li>\n",
       "<li><code>constraint</code> an ISLa constraint (if any).</li>\n",
       "</ul>\n",
       "<p>Additional keyword parameters are passed to the <code>ISLaSolver</code> superclass.</p>"
      ],
      "text/plain": [
       "<IPython.core.display.HTML object>"
      ]
     },
     "execution_count": 184,
     "metadata": {},
     "output_type": "execute_result"
    }
   ],
   "source": [
    "# ignore\n",
    "sig = inspect.signature(PythonFuzzer.__init__)\n",
    "sig_str = str(sig) if sig else \"\"\n",
    "doc = inspect.getdoc(PythonFuzzer.__init__) or \"\"\n",
    "HTML(markdown.markdown('`PythonFuzzer' + sig_str + '`\\n\\n' + doc))"
   ]
  },
  {
   "cell_type": "code",
   "execution_count": 185,
   "id": "2f7f3f7d",
   "metadata": {
    "execution": {
     "iopub.execute_input": "2024-06-30T16:54:11.484726Z",
     "iopub.status.busy": "2024-06-30T16:54:11.484643Z",
     "iopub.status.idle": "2024-06-30T16:54:11.486349Z",
     "shell.execute_reply": "2024-06-30T16:54:11.486064Z"
    },
    "slideshow": {
     "slide_type": "fragment"
    }
   },
   "outputs": [],
   "source": [
    "# ignore\n",
    "from ClassDiagram import display_class_hierarchy"
   ]
  },
  {
   "cell_type": "code",
   "execution_count": 186,
   "id": "510e1e71",
   "metadata": {
    "execution": {
     "iopub.execute_input": "2024-06-30T16:54:11.487777Z",
     "iopub.status.busy": "2024-06-30T16:54:11.487686Z",
     "iopub.status.idle": "2024-06-30T16:54:12.627680Z",
     "shell.execute_reply": "2024-06-30T16:54:12.627256Z"
    },
    "slideshow": {
     "slide_type": "subslide"
    }
   },
   "outputs": [
    {
     "data": {
      "image/svg+xml": [
       "<?xml version=\"1.0\" encoding=\"UTF-8\" standalone=\"no\"?>\n",
       "<!DOCTYPE svg PUBLIC \"-//W3C//DTD SVG 1.1//EN\"\n",
       " \"http://www.w3.org/Graphics/SVG/1.1/DTD/svg11.dtd\">\n",
       "<!-- Generated by graphviz version 11.0.0 (20240428.1522)\n",
       " -->\n",
       "<!-- Pages: 1 -->\n",
       "<svg width=\"248pt\" height=\"152pt\"\n",
       " viewBox=\"0.00 0.00 248.12 152.25\" xmlns=\"http://www.w3.org/2000/svg\" xmlns:xlink=\"http://www.w3.org/1999/xlink\">\n",
       "<g id=\"graph0\" class=\"graph\" transform=\"scale(1 1) rotate(0) translate(4 148.25)\">\n",
       "<g id=\"a_graph0\"><a xlink:title=\"PythonFuzzer class hierarchy\">\n",
       "<polygon fill=\"white\" stroke=\"none\" points=\"-4,4 -4,-148.25 244.12,-148.25 244.12,4 -4,4\"/>\n",
       "</a>\n",
       "</g>\n",
       "<!-- PythonFuzzer -->\n",
       "<g id=\"node1\" class=\"node\">\n",
       "<title>PythonFuzzer</title>\n",
       "<g id=\"a_node1\"><a xlink:href=\"#\" xlink:title=\"class PythonFuzzer:&#10;Produce Python code.\">\n",
       "<polygon fill=\"none\" stroke=\"black\" points=\"0,-0.5 0,-60 103,-60 103,-0.5 0,-0.5\"/>\n",
       "<text text-anchor=\"start\" x=\"8\" y=\"-43.7\" font-family=\"Patua One, Helvetica, sans-serif\" font-weight=\"bold\" font-size=\"14.00\" fill=\"#b03a2e\">PythonFuzzer</text>\n",
       "<polyline fill=\"none\" stroke=\"black\" points=\"0,-34 103,-34\"/>\n",
       "<g id=\"a_node1_0\"><a xlink:href=\"#\" xlink:title=\"PythonFuzzer\">\n",
       "<g id=\"a_node1_1\"><a xlink:href=\"#\" xlink:title=\"__init__(self, start_symbol: Optional[str] = None, *, grammar: Optional[Dict[str, List[Union[str, Tuple[str, Dict[str, Any]]]]]] = None, constraint: Optional[str] = None, **kw_params) &#45;&gt; None:&#10;Produce Python code. Parameters are:&#10;&#10;* `start_symbol`: The grammatical entity to be generated (default: `&lt;FunctionDef&gt;`)&#10;* `grammar`: The EBNF grammar to be used (default: `PYTHON__AST_GRAMMAR`); and&#10;* `constraint` an ISLa constraint (if any).&#10;&#10;Additional keyword parameters are passed to the `ISLaSolver` superclass.\">\n",
       "<text text-anchor=\"start\" x=\"21.5\" y=\"-21.5\" font-family=\"'Fira Mono', 'Source Code Pro', 'Courier', monospace\" font-weight=\"bold\" font-style=\"italic\" font-size=\"10.00\">__init__()</text>\n",
       "</a>\n",
       "</g>\n",
       "<g id=\"a_node1_2\"><a xlink:href=\"#\" xlink:title=\"fuzz(self) &#45;&gt; str:&#10;Produce a Python code string.\">\n",
       "<text text-anchor=\"start\" x=\"21.5\" y=\"-8.75\" font-family=\"'Fira Mono', 'Source Code Pro', 'Courier', monospace\" font-weight=\"bold\" font-size=\"10.00\">fuzz()</text>\n",
       "</a>\n",
       "</g>\n",
       "</a>\n",
       "</g>\n",
       "</a>\n",
       "</g>\n",
       "</g>\n",
       "<!-- ISLaSolver -->\n",
       "<g id=\"node2\" class=\"node\">\n",
       "<title>ISLaSolver</title>\n",
       "<g id=\"a_node2\"><a xlink:href=\"isla.solver.ipynb\" xlink:title=\"class ISLaSolver:&#10;The solver class for ISLa formulas/constraints. Its top&#45;level methods are&#10;&#10;:meth:`~isla.solver.ISLaSolver.solve`&#10;Use to generate solutions for an ISLa constraint.&#10;&#10;:meth:`~isla.solver.ISLaSolver.check`&#10;Use to check if an ISLa constraint is satisfied for a given input.&#10;&#10;:meth:`~isla.solver.ISLaSolver.parse`&#10;Use to parse and validate an input.&#10;&#10;:meth:`~isla.solver.ISLaSolver.repair`&#10;Use to repair an input such that it satisfies a constraint.&#10;&#10;:meth:`~isla.solver.ISLaSolver.mutate`&#10;Use to mutate an input such that the result satisfies a constraint.\">\n",
       "<polygon fill=\"none\" stroke=\"black\" points=\"10.88,-97 10.88,-143.75 92.12,-143.75 92.12,-97 10.88,-97\"/>\n",
       "<text text-anchor=\"start\" x=\"18.88\" y=\"-127.45\" font-family=\"Patua One, Helvetica, sans-serif\" font-weight=\"bold\" font-size=\"14.00\" fill=\"#b03a2e\">ISLaSolver</text>\n",
       "<polyline fill=\"none\" stroke=\"black\" points=\"10.88,-117.75 92.12,-117.75\"/>\n",
       "<g id=\"a_node2_3\"><a xlink:href=\"#\" xlink:title=\"ISLaSolver\">\n",
       "<g id=\"a_node2_4\"><a xlink:href=\"isla.solver.ipynb\" xlink:title=\"__init__(self, grammar: Union[Dict[str, List[str]], str], formula: Union[isla.language.Formula, str, NoneType] = None, structural_predicates: Set[isla.language.StructuralPredicate] = frozenset({StructuralPredicate(name=&#39;nth&#39;, arity=3, eval_fun=&lt;function is_nth at 0x11a42d120&gt;), StructuralPredicate(name=&#39;level&#39;, arity=4, eval_fun=&lt;function level_check at 0x11a42d360&gt;), StructuralPredicate(name=&#39;consecutive&#39;, arity=2, eval_fun=&lt;function consecutive at 0x11a42d240&gt;), StructuralPredicate(name=&#39;after&#39;, arity=2, eval_fun=&lt;function is_after at 0x11a42ce50&gt;), StructuralPredicate(name=&#39;direct_child&#39;, arity=2, eval_fun=&lt;function is_direct_child at 0x11a42e290&gt;), StructuralPredicate(name=&#39;before&#39;, arity=2, eval_fun=&lt;function is_before at 0x11a1e1ab0&gt;), StructuralPredicate(name=&#39;different_position&#39;, arity=2, eval_fun=&lt;function is_different_position at 0x11a42d090&gt;), StructuralPredicate(name=&#39;inside&#39;, arity=2, eval_fun=&lt;function in_tree at 0x11a42d1b0&gt;), StructuralPredicate(name=&#39;same_position&#39;, arity=2, eval_fun=&lt;function is_same_position at 0x11a42d000&gt;)}), semantic_predicates: Set[isla.language.SemanticPredicate] = frozenset({SemanticPredicate(count, 3)}), max_number_free_instantiations: int = 10, max_number_smt_instantiations: int = 10, max_number_tree_insertion_results: int = 5, enforce_unique_trees_in_queue: bool = False, debug: bool = False, cost_computer: Optional[ForwardRef(&#39;CostComputer&#39;)] = None, timeout_seconds: Optional[int] = None, global_fuzzer: bool = False, predicates_unique_in_int_arg: Tuple[isla.language.SemanticPredicate, ...] = (SemanticPredicate(count, 3),), fuzzer_factory: Callable[[Dict[str, List[str]]], isla.fuzzer.GrammarFuzzer] = &lt;function SolverDefaults.&lt;lambda&gt; at 0x11a446050&gt;, tree_insertion_methods: Optional[int] = None, activate_unsat_support: bool = False, grammar_unwinding_threshold: int = 4, initial_tree: isla.helpers.Maybe[isla.derivation_tree.DerivationTree] = Maybe(a=None), enable_optimized_z3_queries: bool = True, start_symbol: Optional[str] = None):&#10;The constructor of :class:`~isla.solver.ISLaSolver` accepts a large number of&#10;parameters. However, all but the first one, :code:`grammar`, are *optional.*&#10;&#10;The simplest way to construct an ISLa solver is by only providing it with a&#10;grammar only; it then works like a grammar fuzzer.&#10;&#10;&gt;&gt;&gt; import random&#10;&gt;&gt;&gt; random.seed(1)&#10;&#10;&gt;&gt;&gt; import string&#10;&gt;&gt;&gt; LANG_GRAMMAR = {&#10;... &#160;&#160;&#160;&#160;&quot;&lt;start&gt;&quot;:&#10;... &#160;&#160;&#160;&#160;&#160;&#160;&#160;&#160;[&quot;&lt;stmt&gt;&quot;],&#10;... &#160;&#160;&#160;&#160;&quot;&lt;stmt&gt;&quot;:&#10;... &#160;&#160;&#160;&#160;&#160;&#160;&#160;&#160;[&quot;&lt;assgn&gt; ; &lt;stmt&gt;&quot;, &quot;&lt;assgn&gt;&quot;],&#10;... &#160;&#160;&#160;&#160;&quot;&lt;assgn&gt;&quot;:&#10;... &#160;&#160;&#160;&#160;&#160;&#160;&#160;&#160;[&quot;&lt;var&gt; := &lt;rhs&gt;&quot;],&#10;... &#160;&#160;&#160;&#160;&quot;&lt;rhs&gt;&quot;:&#10;... &#160;&#160;&#160;&#160;&#160;&#160;&#160;&#160;[&quot;&lt;var&gt;&quot;, &quot;&lt;digit&gt;&quot;],&#10;... &#160;&#160;&#160;&#160;&quot;&lt;var&gt;&quot;: list(string.ascii_lowercase),&#10;... &#160;&#160;&#160;&#160;&quot;&lt;digit&gt;&quot;: list(string.digits)&#10;... }&#10;&gt;&gt;&gt;&#10;&gt;&gt;&gt; from isla.solver import ISLaSolver&#10;&gt;&gt;&gt; solver = ISLaSolver(LANG_GRAMMAR)&#10;&gt;&gt;&gt;&#10;&gt;&gt;&gt; str(solver.solve())&#10;&#39;d := 9&#39;&#10;&gt;&gt;&gt; str(solver.solve())&#10;&#39;v := n ; s := r&#39;&#10;&#10;:param grammar: The underlying grammar; either, as a &quot;Fuzzing Book&quot; dictionary&#10;or in BNF syntax.&#10;:param formula: The formula to solve; either a string or a readily parsed&#10;formula. If no formula is given, a default `true` constraint is assumed, and&#10;the solver falls back to a grammar fuzzer. The number of produced solutions&#10;will then be bound by `max_number_free_instantiations`.&#10;:param structural_predicates: Structural predicates to use when parsing a&#10;formula.&#10;:param semantic_predicates: Semantic predicates to use when parsing a formula.&#10;:param max_number_free_instantiations: Number of times that nonterminals that&#10;are not bound by any formula should be expanded by a coverage&#45;based fuzzer.&#10;:param max_number_smt_instantiations: Number of solutions of SMT formulas that&#10;should be produced.&#10;:param max_number_tree_insertion_results: The maximum number of results when&#10;solving existential quantifiers by tree insertion.&#10;:param enforce_unique_trees_in_queue: If true, states with the same tree as an&#10;already existing tree in the queue are discarded, irrespectively of the&#10;constraint.&#10;:param debug: If true, debug information about the evolution of states is&#10;collected, notably in the field state_tree. The root of the tree is in the&#10;field state_tree_root. The field costs stores the computed cost values for&#10;all new nodes.&#10;:param cost_computer: The `CostComputer` class for computing the cost relevant&#10;to placing states in ISLa&#39;s queue.&#10;:param timeout_seconds: Number of seconds after which the solver will terminate.&#10;:param global_fuzzer: If set to True, only one coverage&#45;guided grammar fuzzer&#10;object is used to finish off unconstrained open derivation trees throughout&#10;the whole generation time. This may be beneficial for some targets; e.g., we&#10;experienced that CSV works significantly faster. However, the achieved k&#45;path&#10;coverage can be lower with that setting.&#10;:param predicates_unique_in_int_arg: This is needed in certain cases for&#10;instantiating universal integer quantifiers. The supplied predicates should&#10;have exactly one integer argument, and hold for exactly one integer value&#10;once all other parameters are fixed.&#10;:param fuzzer_factory: Constructor of the fuzzer to use for instantiating&#10;&quot;free&quot; nonterminals.&#10;:param tree_insertion_methods: Combination of methods to use for existential&#10;quantifier elimination by tree insertion. Full selection: `DIRECT_EMBEDDING &amp;&#10;SELF_EMBEDDING &amp; CONTEXT_ADDITION`.&#10;:param activate_unsat_support: Set to True if you assume that a formula might&#10;be unsatisfiable. This triggers additional tests for unsatisfiability that&#10;reduce input generation performance, but might ensure termination (with a&#10;negative solver result) for unsatisfiable problems for which the solver could&#10;otherwise diverge.&#10;:param grammar_unwinding_threshold: When querying the SMT solver, ISLa passes a&#10;regular expression for the syntax of the involved nonterminals. If this&#10;syntax is not regular, we unwind the respective part in the reference grammar&#10;up to a depth of `grammar_unwinding_threshold`. If this is too shallow, it can&#10;happen that an equation etc. cannot be solved; if it is too deep, it can&#10;negatively impact performance (and quite tremendously so).&#10;:param initial_tree: An initial input tree for the queue, if the solver shall&#10;not start from the tree `(&lt;start&gt;, None)`.&#10;:param enable_optimized_z3_queries: Enables preprocessing of Z3 queries (mainly&#10;numeric problems concerning things like length). This can improve performance&#10;significantly; however, it might happen that certain problems cannot be solved&#10;anymore. In that case, this option can/should be deactivated.&#10;:param start_symbol: This is an alternative to `initial_tree` for starting with&#10;a start symbol different form `&lt;start&gt;`. If `start_symbol` is provided, a tree&#10;consisting of a single root node with the value of `start_symbol` is chosen as&#10;initial tree.\">\n",
       "<text text-anchor=\"start\" x=\"21.5\" y=\"-105.25\" font-family=\"'Fira Mono', 'Source Code Pro', 'Courier', monospace\" font-weight=\"bold\" font-style=\"italic\" font-size=\"10.00\">__init__()</text>\n",
       "</a>\n",
       "</g>\n",
       "</a>\n",
       "</g>\n",
       "</a>\n",
       "</g>\n",
       "</g>\n",
       "<!-- PythonFuzzer&#45;&gt;ISLaSolver -->\n",
       "<g id=\"edge1\" class=\"edge\">\n",
       "<title>PythonFuzzer&#45;&gt;ISLaSolver</title>\n",
       "<path fill=\"none\" stroke=\"black\" d=\"M51.5,-60.11C51.5,-68.16 51.5,-76.98 51.5,-85.3\"/>\n",
       "<polygon fill=\"none\" stroke=\"black\" points=\"48,-85.09 51.5,-95.09 55,-85.09 48,-85.09\"/>\n",
       "</g>\n",
       "<!-- Legend -->\n",
       "<g id=\"node3\" class=\"node\">\n",
       "<title>Legend</title>\n",
       "<text text-anchor=\"start\" x=\"120.88\" y=\"-46.25\" font-family=\"Patua One, Helvetica, sans-serif\" font-weight=\"bold\" font-size=\"10.00\" fill=\"#b03a2e\">Legend</text>\n",
       "<text text-anchor=\"start\" x=\"120.88\" y=\"-36.25\" font-family=\"Patua One, Helvetica, sans-serif\" font-size=\"10.00\">• </text>\n",
       "<text text-anchor=\"start\" x=\"126.88\" y=\"-36.25\" font-family=\"'Fira Mono', 'Source Code Pro', 'Courier', monospace\" font-weight=\"bold\" font-size=\"8.00\">public_method()</text>\n",
       "<text text-anchor=\"start\" x=\"120.88\" y=\"-26.25\" font-family=\"Patua One, Helvetica, sans-serif\" font-size=\"10.00\">• </text>\n",
       "<text text-anchor=\"start\" x=\"126.88\" y=\"-26.25\" font-family=\"'Fira Mono', 'Source Code Pro', 'Courier', monospace\" font-size=\"8.00\">private_method()</text>\n",
       "<text text-anchor=\"start\" x=\"120.88\" y=\"-16.25\" font-family=\"Patua One, Helvetica, sans-serif\" font-size=\"10.00\">• </text>\n",
       "<text text-anchor=\"start\" x=\"126.88\" y=\"-16.25\" font-family=\"'Fira Mono', 'Source Code Pro', 'Courier', monospace\" font-style=\"italic\" font-size=\"8.00\">overloaded_method()</text>\n",
       "<text text-anchor=\"start\" x=\"120.88\" y=\"-7.2\" font-family=\"Helvetica,sans-Serif\" font-size=\"9.00\">Hover over names to see doc</text>\n",
       "</g>\n",
       "</g>\n",
       "</svg>\n"
      ],
      "text/html": [
       "<?xml version=\"1.0\" encoding=\"UTF-8\" standalone=\"no\"?>\n",
       "<!DOCTYPE svg PUBLIC \"-//W3C//DTD SVG 1.1//EN\"\n",
       " \"http://www.w3.org/Graphics/SVG/1.1/DTD/svg11.dtd\">\n",
       "<!-- Generated by graphviz version 11.0.0 (20240428.1522)\n",
       " -->\n",
       "<!-- Pages: 1 -->\n",
       "<svg width=\"248pt\" height=\"152pt\"\n",
       " viewBox=\"0.00 0.00 248.12 152.25\" xmlns=\"http://www.w3.org/2000/svg\" xmlns:xlink=\"http://www.w3.org/1999/xlink\">\n",
       "<g id=\"graph0\" class=\"graph\" transform=\"scale(1 1) rotate(0) translate(4 148.25)\">\n",
       "<g id=\"a_graph0\"><a xlink:title=\"PythonFuzzer class hierarchy\">\n",
       "<polygon fill=\"white\" stroke=\"none\" points=\"-4,4 -4,-148.25 244.12,-148.25 244.12,4 -4,4\"/>\n",
       "</a>\n",
       "</g>\n",
       "<!-- PythonFuzzer -->\n",
       "<g id=\"node1\" class=\"node\">\n",
       "<title>PythonFuzzer</title>\n",
       "<g id=\"a_node1\"><a xlink:href=\"#\" xlink:title=\"class PythonFuzzer:&#10;Produce Python code.\">\n",
       "<polygon fill=\"none\" stroke=\"black\" points=\"0,-0.5 0,-60 103,-60 103,-0.5 0,-0.5\"/>\n",
       "<text text-anchor=\"start\" x=\"8\" y=\"-43.7\" font-family=\"Patua One, Helvetica, sans-serif\" font-weight=\"bold\" font-size=\"14.00\" fill=\"#b03a2e\">PythonFuzzer</text>\n",
       "<polyline fill=\"none\" stroke=\"black\" points=\"0,-34 103,-34\"/>\n",
       "<g id=\"a_node1_0\"><a xlink:href=\"#\" xlink:title=\"PythonFuzzer\">\n",
       "<g id=\"a_node1_1\"><a xlink:href=\"#\" xlink:title=\"__init__(self, start_symbol: Optional[str] = None, *, grammar: Optional[Dict[str, List[Union[str, Tuple[str, Dict[str, Any]]]]]] = None, constraint: Optional[str] = None, **kw_params) &#45;&gt; None:&#10;Produce Python code. Parameters are:&#10;&#10;* `start_symbol`: The grammatical entity to be generated (default: `&lt;FunctionDef&gt;`)&#10;* `grammar`: The EBNF grammar to be used (default: `PYTHON__AST_GRAMMAR`); and&#10;* `constraint` an ISLa constraint (if any).&#10;&#10;Additional keyword parameters are passed to the `ISLaSolver` superclass.\">\n",
       "<text text-anchor=\"start\" x=\"21.5\" y=\"-21.5\" font-family=\"'Fira Mono', 'Source Code Pro', 'Courier', monospace\" font-weight=\"bold\" font-style=\"italic\" font-size=\"10.00\">__init__()</text>\n",
       "</a>\n",
       "</g>\n",
       "<g id=\"a_node1_2\"><a xlink:href=\"#\" xlink:title=\"fuzz(self) &#45;&gt; str:&#10;Produce a Python code string.\">\n",
       "<text text-anchor=\"start\" x=\"21.5\" y=\"-8.75\" font-family=\"'Fira Mono', 'Source Code Pro', 'Courier', monospace\" font-weight=\"bold\" font-size=\"10.00\">fuzz()</text>\n",
       "</a>\n",
       "</g>\n",
       "</a>\n",
       "</g>\n",
       "</a>\n",
       "</g>\n",
       "</g>\n",
       "<!-- ISLaSolver -->\n",
       "<g id=\"node2\" class=\"node\">\n",
       "<title>ISLaSolver</title>\n",
       "<g id=\"a_node2\"><a xlink:href=\"isla.solver.ipynb\" xlink:title=\"class ISLaSolver:&#10;The solver class for ISLa formulas/constraints. Its top&#45;level methods are&#10;&#10;:meth:`~isla.solver.ISLaSolver.solve`&#10;Use to generate solutions for an ISLa constraint.&#10;&#10;:meth:`~isla.solver.ISLaSolver.check`&#10;Use to check if an ISLa constraint is satisfied for a given input.&#10;&#10;:meth:`~isla.solver.ISLaSolver.parse`&#10;Use to parse and validate an input.&#10;&#10;:meth:`~isla.solver.ISLaSolver.repair`&#10;Use to repair an input such that it satisfies a constraint.&#10;&#10;:meth:`~isla.solver.ISLaSolver.mutate`&#10;Use to mutate an input such that the result satisfies a constraint.\">\n",
       "<polygon fill=\"none\" stroke=\"black\" points=\"10.88,-97 10.88,-143.75 92.12,-143.75 92.12,-97 10.88,-97\"/>\n",
       "<text text-anchor=\"start\" x=\"18.88\" y=\"-127.45\" font-family=\"Patua One, Helvetica, sans-serif\" font-weight=\"bold\" font-size=\"14.00\" fill=\"#b03a2e\">ISLaSolver</text>\n",
       "<polyline fill=\"none\" stroke=\"black\" points=\"10.88,-117.75 92.12,-117.75\"/>\n",
       "<g id=\"a_node2_3\"><a xlink:href=\"#\" xlink:title=\"ISLaSolver\">\n",
       "<g id=\"a_node2_4\"><a xlink:href=\"isla.solver.ipynb\" xlink:title=\"__init__(self, grammar: Union[Dict[str, List[str]], str], formula: Union[isla.language.Formula, str, NoneType] = None, structural_predicates: Set[isla.language.StructuralPredicate] = frozenset({StructuralPredicate(name=&#39;nth&#39;, arity=3, eval_fun=&lt;function is_nth at 0x11a42d120&gt;), StructuralPredicate(name=&#39;level&#39;, arity=4, eval_fun=&lt;function level_check at 0x11a42d360&gt;), StructuralPredicate(name=&#39;consecutive&#39;, arity=2, eval_fun=&lt;function consecutive at 0x11a42d240&gt;), StructuralPredicate(name=&#39;after&#39;, arity=2, eval_fun=&lt;function is_after at 0x11a42ce50&gt;), StructuralPredicate(name=&#39;direct_child&#39;, arity=2, eval_fun=&lt;function is_direct_child at 0x11a42e290&gt;), StructuralPredicate(name=&#39;before&#39;, arity=2, eval_fun=&lt;function is_before at 0x11a1e1ab0&gt;), StructuralPredicate(name=&#39;different_position&#39;, arity=2, eval_fun=&lt;function is_different_position at 0x11a42d090&gt;), StructuralPredicate(name=&#39;inside&#39;, arity=2, eval_fun=&lt;function in_tree at 0x11a42d1b0&gt;), StructuralPredicate(name=&#39;same_position&#39;, arity=2, eval_fun=&lt;function is_same_position at 0x11a42d000&gt;)}), semantic_predicates: Set[isla.language.SemanticPredicate] = frozenset({SemanticPredicate(count, 3)}), max_number_free_instantiations: int = 10, max_number_smt_instantiations: int = 10, max_number_tree_insertion_results: int = 5, enforce_unique_trees_in_queue: bool = False, debug: bool = False, cost_computer: Optional[ForwardRef(&#39;CostComputer&#39;)] = None, timeout_seconds: Optional[int] = None, global_fuzzer: bool = False, predicates_unique_in_int_arg: Tuple[isla.language.SemanticPredicate, ...] = (SemanticPredicate(count, 3),), fuzzer_factory: Callable[[Dict[str, List[str]]], isla.fuzzer.GrammarFuzzer] = &lt;function SolverDefaults.&lt;lambda&gt; at 0x11a446050&gt;, tree_insertion_methods: Optional[int] = None, activate_unsat_support: bool = False, grammar_unwinding_threshold: int = 4, initial_tree: isla.helpers.Maybe[isla.derivation_tree.DerivationTree] = Maybe(a=None), enable_optimized_z3_queries: bool = True, start_symbol: Optional[str] = None):&#10;The constructor of :class:`~isla.solver.ISLaSolver` accepts a large number of&#10;parameters. However, all but the first one, :code:`grammar`, are *optional.*&#10;&#10;The simplest way to construct an ISLa solver is by only providing it with a&#10;grammar only; it then works like a grammar fuzzer.&#10;&#10;&gt;&gt;&gt; import random&#10;&gt;&gt;&gt; random.seed(1)&#10;&#10;&gt;&gt;&gt; import string&#10;&gt;&gt;&gt; LANG_GRAMMAR = {&#10;... &#160;&#160;&#160;&#160;&quot;&lt;start&gt;&quot;:&#10;... &#160;&#160;&#160;&#160;&#160;&#160;&#160;&#160;[&quot;&lt;stmt&gt;&quot;],&#10;... &#160;&#160;&#160;&#160;&quot;&lt;stmt&gt;&quot;:&#10;... &#160;&#160;&#160;&#160;&#160;&#160;&#160;&#160;[&quot;&lt;assgn&gt; ; &lt;stmt&gt;&quot;, &quot;&lt;assgn&gt;&quot;],&#10;... &#160;&#160;&#160;&#160;&quot;&lt;assgn&gt;&quot;:&#10;... &#160;&#160;&#160;&#160;&#160;&#160;&#160;&#160;[&quot;&lt;var&gt; := &lt;rhs&gt;&quot;],&#10;... &#160;&#160;&#160;&#160;&quot;&lt;rhs&gt;&quot;:&#10;... &#160;&#160;&#160;&#160;&#160;&#160;&#160;&#160;[&quot;&lt;var&gt;&quot;, &quot;&lt;digit&gt;&quot;],&#10;... &#160;&#160;&#160;&#160;&quot;&lt;var&gt;&quot;: list(string.ascii_lowercase),&#10;... &#160;&#160;&#160;&#160;&quot;&lt;digit&gt;&quot;: list(string.digits)&#10;... }&#10;&gt;&gt;&gt;&#10;&gt;&gt;&gt; from isla.solver import ISLaSolver&#10;&gt;&gt;&gt; solver = ISLaSolver(LANG_GRAMMAR)&#10;&gt;&gt;&gt;&#10;&gt;&gt;&gt; str(solver.solve())&#10;&#39;d := 9&#39;&#10;&gt;&gt;&gt; str(solver.solve())&#10;&#39;v := n ; s := r&#39;&#10;&#10;:param grammar: The underlying grammar; either, as a &quot;Fuzzing Book&quot; dictionary&#10;or in BNF syntax.&#10;:param formula: The formula to solve; either a string or a readily parsed&#10;formula. If no formula is given, a default `true` constraint is assumed, and&#10;the solver falls back to a grammar fuzzer. The number of produced solutions&#10;will then be bound by `max_number_free_instantiations`.&#10;:param structural_predicates: Structural predicates to use when parsing a&#10;formula.&#10;:param semantic_predicates: Semantic predicates to use when parsing a formula.&#10;:param max_number_free_instantiations: Number of times that nonterminals that&#10;are not bound by any formula should be expanded by a coverage&#45;based fuzzer.&#10;:param max_number_smt_instantiations: Number of solutions of SMT formulas that&#10;should be produced.&#10;:param max_number_tree_insertion_results: The maximum number of results when&#10;solving existential quantifiers by tree insertion.&#10;:param enforce_unique_trees_in_queue: If true, states with the same tree as an&#10;already existing tree in the queue are discarded, irrespectively of the&#10;constraint.&#10;:param debug: If true, debug information about the evolution of states is&#10;collected, notably in the field state_tree. The root of the tree is in the&#10;field state_tree_root. The field costs stores the computed cost values for&#10;all new nodes.&#10;:param cost_computer: The `CostComputer` class for computing the cost relevant&#10;to placing states in ISLa&#39;s queue.&#10;:param timeout_seconds: Number of seconds after which the solver will terminate.&#10;:param global_fuzzer: If set to True, only one coverage&#45;guided grammar fuzzer&#10;object is used to finish off unconstrained open derivation trees throughout&#10;the whole generation time. This may be beneficial for some targets; e.g., we&#10;experienced that CSV works significantly faster. However, the achieved k&#45;path&#10;coverage can be lower with that setting.&#10;:param predicates_unique_in_int_arg: This is needed in certain cases for&#10;instantiating universal integer quantifiers. The supplied predicates should&#10;have exactly one integer argument, and hold for exactly one integer value&#10;once all other parameters are fixed.&#10;:param fuzzer_factory: Constructor of the fuzzer to use for instantiating&#10;&quot;free&quot; nonterminals.&#10;:param tree_insertion_methods: Combination of methods to use for existential&#10;quantifier elimination by tree insertion. Full selection: `DIRECT_EMBEDDING &amp;&#10;SELF_EMBEDDING &amp; CONTEXT_ADDITION`.&#10;:param activate_unsat_support: Set to True if you assume that a formula might&#10;be unsatisfiable. This triggers additional tests for unsatisfiability that&#10;reduce input generation performance, but might ensure termination (with a&#10;negative solver result) for unsatisfiable problems for which the solver could&#10;otherwise diverge.&#10;:param grammar_unwinding_threshold: When querying the SMT solver, ISLa passes a&#10;regular expression for the syntax of the involved nonterminals. If this&#10;syntax is not regular, we unwind the respective part in the reference grammar&#10;up to a depth of `grammar_unwinding_threshold`. If this is too shallow, it can&#10;happen that an equation etc. cannot be solved; if it is too deep, it can&#10;negatively impact performance (and quite tremendously so).&#10;:param initial_tree: An initial input tree for the queue, if the solver shall&#10;not start from the tree `(&lt;start&gt;, None)`.&#10;:param enable_optimized_z3_queries: Enables preprocessing of Z3 queries (mainly&#10;numeric problems concerning things like length). This can improve performance&#10;significantly; however, it might happen that certain problems cannot be solved&#10;anymore. In that case, this option can/should be deactivated.&#10;:param start_symbol: This is an alternative to `initial_tree` for starting with&#10;a start symbol different form `&lt;start&gt;`. If `start_symbol` is provided, a tree&#10;consisting of a single root node with the value of `start_symbol` is chosen as&#10;initial tree.\">\n",
       "<text text-anchor=\"start\" x=\"21.5\" y=\"-105.25\" font-family=\"'Fira Mono', 'Source Code Pro', 'Courier', monospace\" font-weight=\"bold\" font-style=\"italic\" font-size=\"10.00\">__init__()</text>\n",
       "</a>\n",
       "</g>\n",
       "</a>\n",
       "</g>\n",
       "</a>\n",
       "</g>\n",
       "</g>\n",
       "<!-- PythonFuzzer&#45;&gt;ISLaSolver -->\n",
       "<g id=\"edge1\" class=\"edge\">\n",
       "<title>PythonFuzzer&#45;&gt;ISLaSolver</title>\n",
       "<path fill=\"none\" stroke=\"black\" d=\"M51.5,-60.11C51.5,-68.16 51.5,-76.98 51.5,-85.3\"/>\n",
       "<polygon fill=\"none\" stroke=\"black\" points=\"48,-85.09 51.5,-95.09 55,-85.09 48,-85.09\"/>\n",
       "</g>\n",
       "<!-- Legend -->\n",
       "<g id=\"node3\" class=\"node\">\n",
       "<title>Legend</title>\n",
       "<text text-anchor=\"start\" x=\"120.88\" y=\"-46.25\" font-family=\"Patua One, Helvetica, sans-serif\" font-weight=\"bold\" font-size=\"10.00\" fill=\"#b03a2e\">Legend</text>\n",
       "<text text-anchor=\"start\" x=\"120.88\" y=\"-36.25\" font-family=\"Patua One, Helvetica, sans-serif\" font-size=\"10.00\">• </text>\n",
       "<text text-anchor=\"start\" x=\"126.88\" y=\"-36.25\" font-family=\"'Fira Mono', 'Source Code Pro', 'Courier', monospace\" font-weight=\"bold\" font-size=\"8.00\">public_method()</text>\n",
       "<text text-anchor=\"start\" x=\"120.88\" y=\"-26.25\" font-family=\"Patua One, Helvetica, sans-serif\" font-size=\"10.00\">• </text>\n",
       "<text text-anchor=\"start\" x=\"126.88\" y=\"-26.25\" font-family=\"'Fira Mono', 'Source Code Pro', 'Courier', monospace\" font-size=\"8.00\">private_method()</text>\n",
       "<text text-anchor=\"start\" x=\"120.88\" y=\"-16.25\" font-family=\"Patua One, Helvetica, sans-serif\" font-size=\"10.00\">• </text>\n",
       "<text text-anchor=\"start\" x=\"126.88\" y=\"-16.25\" font-family=\"'Fira Mono', 'Source Code Pro', 'Courier', monospace\" font-style=\"italic\" font-size=\"8.00\">overloaded_method()</text>\n",
       "<text text-anchor=\"start\" x=\"120.88\" y=\"-7.2\" font-family=\"Helvetica,sans-Serif\" font-size=\"9.00\">Hover over names to see doc</text>\n",
       "</g>\n",
       "</g>\n",
       "</svg>\n"
      ],
      "text/plain": [
       "<graphviz.graphs.Digraph at 0x14d6fa950>"
      ]
     },
     "execution_count": 186,
     "metadata": {},
     "output_type": "execute_result"
    }
   ],
   "source": [
    "# ignore\n",
    "display_class_hierarchy([PythonFuzzer],\n",
    "                        public_methods=[\n",
    "                            PythonFuzzer.__init__,\n",
    "                            PythonFuzzer.fuzz,\n",
    "                            ISLaSolver.__init__\n",
    "                        ],\n",
    "                        project='fuzzingbook')"
   ]
  },
  {
   "cell_type": "markdown",
   "id": "ba4fdf20",
   "metadata": {
    "slideshow": {
     "slide_type": "slide"
    }
   },
   "source": [
    "## Lessons Learned\n",
    "\n",
    "* When creating and processing complex inputs such as program code,\n",
    "  * try to rely on existing infrastructure to _parse_ inputs into some _abstract syntax_, and then\n",
    "  * have your grammars _process that abstract syntax_ rather than the concrete syntax.\n",
    "* Specifically, program code is normally converted into _abstract syntax trees_ before being compiled or interpreted, and you can (and should) make use of such conversions.\n",
    "* Once program code is turned into an AST, it is fairly easy to generate, mutate, and evolve despite its complexity."
   ]
  },
  {
   "cell_type": "markdown",
   "id": "f527bd67",
   "metadata": {
    "slideshow": {
     "slide_type": "slide"
    }
   },
   "source": [
    "## Background\n",
    "\n",
    "The seminal work on compiler testing is _Csmith_ \\cite{Yang2011}, a generator of C programs.\n",
    "Csmith has been used to thoroughly test compilers such as Clang or GCC; beyond producing code that is syntactically correct, it also aims at _semantic_ correctness as well as avoiding undefined and unspecified behaviors.\n",
    "This is a must read for anyone in the field in compiler testing."
   ]
  }
 ],
 "metadata": {
  "ipub": {
   "bibliography": "fuzzingbook.bib"
  },
  "kernelspec": {
   "display_name": "Python 3 (ipykernel)",
   "language": "python",
   "name": "python3"
  },
  "language_info": {
   "codemirror_mode": {
    "name": "ipython",
    "version": 3
   },
   "file_extension": ".py",
   "mimetype": "text/x-python",
   "name": "python",
   "nbconvert_exporter": "python",
   "pygments_lexer": "ipython3",
   "version": "3.10.2"
  },
  "toc": {
   "base_numbering": 1,
   "nav_menu": {},
   "number_sections": true,
   "sideBar": true,
   "skip_h1_title": true,
   "title_cell": "",
   "title_sidebar": "Contents",
   "toc_cell": false,
   "toc_position": {},
   "toc_section_display": true,
   "toc_window_display": true
  },
  "toc-autonumbering": false
 },
 "nbformat": 4,
 "nbformat_minor": 5
}